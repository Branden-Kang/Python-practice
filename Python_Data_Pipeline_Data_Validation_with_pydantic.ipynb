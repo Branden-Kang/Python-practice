{
  "nbformat": 4,
  "nbformat_minor": 0,
  "metadata": {
    "colab": {
      "provenance": [],
      "authorship_tag": "ABX9TyN5VE6O5Sct6t1wOPdr/G6j"
    },
    "kernelspec": {
      "name": "python3",
      "display_name": "Python 3"
    },
    "language_info": {
      "name": "python"
    }
  },
  "cells": [
    {
      "cell_type": "markdown",
      "source": [
        "[Reference](https://levelup.gitconnected.com/python-data-pipeline-first-and-foremost-step-data-validation-e15017b7ef8d)"
      ],
      "metadata": {
        "id": "oEZ_nLUHRtp0"
      }
    },
    {
      "cell_type": "code",
      "execution_count": 1,
      "metadata": {
        "colab": {
          "base_uri": "https://localhost:8080/"
        },
        "id": "vn6ksISXRrlU",
        "outputId": "768ce28b-e0bd-4422-caff-1d8c33da1ec6"
      },
      "outputs": [
        {
          "output_type": "stream",
          "name": "stdout",
          "text": [
            "Looking in indexes: https://pypi.org/simple, https://us-python.pkg.dev/colab-wheels/public/simple/\n",
            "Requirement already satisfied: pydantic in /usr/local/lib/python3.8/dist-packages (1.10.4)\n",
            "Requirement already satisfied: typing-extensions>=4.2.0 in /usr/local/lib/python3.8/dist-packages (from pydantic) (4.4.0)\n"
          ]
        }
      ],
      "source": [
        "pip install pydantic"
      ]
    },
    {
      "cell_type": "code",
      "source": [
        "from pydantic import BaseModel, ValidationError"
      ],
      "metadata": {
        "id": "1OpJN6HWRv4K"
      },
      "execution_count": 2,
      "outputs": []
    },
    {
      "cell_type": "code",
      "source": [
        "class Person(BaseModel):\n",
        "    age: int\n",
        "    name: str\n",
        "    is_married: bool"
      ],
      "metadata": {
        "id": "u40mdF4SRyeP"
      },
      "execution_count": 3,
      "outputs": []
    },
    {
      "cell_type": "code",
      "source": [
        "data = {\n",
        "    'name': 'John',\n",
        "    'age': 20,\n",
        "    'is_married': False\n",
        "}"
      ],
      "metadata": {
        "id": "XErLPjN2RyoG"
      },
      "execution_count": 4,
      "outputs": []
    },
    {
      "cell_type": "code",
      "source": [
        "try:\n",
        "    person = Person(**data)\n",
        "    # use the data\n",
        " \n",
        "except ValidationError as e:\n",
        "    print(e)"
      ],
      "metadata": {
        "id": "RSyuFtJBRzm-"
      },
      "execution_count": 5,
      "outputs": []
    }
  ]
}