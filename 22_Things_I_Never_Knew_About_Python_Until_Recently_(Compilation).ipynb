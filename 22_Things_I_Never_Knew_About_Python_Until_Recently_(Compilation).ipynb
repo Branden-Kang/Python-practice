{
  "nbformat": 4,
  "nbformat_minor": 0,
  "metadata": {
    "colab": {
      "provenance": [],
      "authorship_tag": "ABX9TyOUGK/AaFsbyZezYmxY2XFd"
    },
    "kernelspec": {
      "name": "python3",
      "display_name": "Python 3"
    },
    "language_info": {
      "name": "python"
    }
  },
  "cells": [
    {
      "cell_type": "markdown",
      "source": [
        "[Reference](https://python.plainenglish.io/22-things-i-never-knew-about-python-until-recently-compilation-cb8e50e400ae)"
      ],
      "metadata": {
        "id": "JsK5STmK2IpG"
      }
    },
    {
      "cell_type": "code",
      "execution_count": 1,
      "metadata": {
        "id": "FrGLR7cN2HVE"
      },
      "outputs": [],
      "source": [
        "a = float(\"inf\")\n",
        "b = float(\"-inf\")"
      ]
    },
    {
      "cell_type": "code",
      "source": [
        "print(a)\n",
        "print(b)"
      ],
      "metadata": {
        "colab": {
          "base_uri": "https://localhost:8080/"
        },
        "id": "DR95PqRZ2RKZ",
        "outputId": "8d678fcd-514b-4291-ec43-877e5a0d5066"
      },
      "execution_count": 2,
      "outputs": [
        {
          "output_type": "stream",
          "name": "stdout",
          "text": [
            "inf\n",
            "-inf\n"
          ]
        }
      ]
    },
    {
      "cell_type": "code",
      "source": [
        "from pprint import pprint\n",
        "d = {\"A\":{\"apple\":1, \"orange\":2, \"pear\":3}, \"B\":{\"apple\":4, \"orange\":5, \"pear\":6}, \"C\":{\"apple\":7, \"orange\":8, \"pear\":9}}\n",
        "pprint(d)"
      ],
      "metadata": {
        "colab": {
          "base_uri": "https://localhost:8080/"
        },
        "id": "lsXN7eOb2Sjm",
        "outputId": "8535b5c1-7d2d-4f5a-d8d4-45936d176405"
      },
      "execution_count": 5,
      "outputs": [
        {
          "output_type": "stream",
          "name": "stdout",
          "text": [
            "{'A': {'apple': 1, 'orange': 2, 'pear': 3},\n",
            " 'B': {'apple': 4, 'orange': 5, 'pear': 6},\n",
            " 'C': {'apple': 7, 'orange': 8, 'pear': 9}}\n"
          ]
        }
      ]
    },
    {
      "cell_type": "code",
      "source": [
        "!pip install colorama"
      ],
      "metadata": {
        "colab": {
          "base_uri": "https://localhost:8080/"
        },
        "id": "2XYaekwN2YvK",
        "outputId": "a777b578-48f6-4d52-972f-3431095938d1"
      },
      "execution_count": 10,
      "outputs": [
        {
          "output_type": "stream",
          "name": "stdout",
          "text": [
            "Looking in indexes: https://pypi.org/simple, https://us-python.pkg.dev/colab-wheels/public/simple/\n",
            "Collecting colorama\n",
            "  Downloading colorama-0.4.6-py2.py3-none-any.whl (25 kB)\n",
            "Installing collected packages: colorama\n",
            "Successfully installed colorama-0.4.6\n"
          ]
        }
      ]
    },
    {
      "cell_type": "code",
      "source": [
        "from colorama import Fore\n",
        "print(Fore.RED + \"hello world\")\n",
        "print(Fore.BLUE + \"hello world\")\n",
        "print(Fore.GREEN + \"hello world\")"
      ],
      "metadata": {
        "colab": {
          "base_uri": "https://localhost:8080/"
        },
        "id": "YJArgv2S2UXo",
        "outputId": "e13c1d70-f18e-49b5-eb8b-c7eeb837a598"
      },
      "execution_count": 11,
      "outputs": [
        {
          "output_type": "stream",
          "name": "stdout",
          "text": [
            "\u001b[31mhello world\n",
            "\u001b[34mhello world\n",
            "\u001b[32mhello world\n"
          ]
        }
      ]
    },
    {
      "cell_type": "code",
      "source": [
        "d1 = {\"apple\":\"pie\", \"orange\":\"juice\", \"pear\":\"cake\"}\n",
        "d2 = dict(apple=\"pie\", orange=\"juice\", pear=\"cake\")"
      ],
      "metadata": {
        "id": "VqoYwG9x2Xw1"
      },
      "execution_count": 12,
      "outputs": []
    },
    {
      "cell_type": "code",
      "source": [
        "CURSOR_UP = \"\\033[1A\"\n",
        "CLEAR = \"\\x1b[2K\""
      ],
      "metadata": {
        "id": "mI3Bn1MG2dRa"
      },
      "execution_count": 13,
      "outputs": []
    },
    {
      "cell_type": "code",
      "source": [
        "print(\"apple\")\n",
        "print(\"orange\")\n",
        "print(\"pear\")\n",
        "print((CURSOR_UP + CLEAR)*2, end=\"\") # UNPRINTS 2 LINES\n",
        "print(\"pineapple\")"
      ],
      "metadata": {
        "colab": {
          "base_uri": "https://localhost:8080/"
        },
        "id": "lmWPXiWg2ef7",
        "outputId": "8bd227c0-f09d-4e37-bdc8-557c9c56a6e3"
      },
      "execution_count": 15,
      "outputs": [
        {
          "output_type": "stream",
          "name": "stdout",
          "text": [
            "apple\n",
            "orange\n",
            "pear\n",
            "\u001b[1A\u001b[2K\u001b[1A\u001b[2Kpineapple\n"
          ]
        }
      ]
    },
    {
      "cell_type": "code",
      "source": [
        "class Dog:\n",
        "    def __init__(self, name):\n",
        "        self.__name = name     # Supposed private variable    \n",
        "    @property\n",
        "    def name(self):\n",
        "        return self.__name"
      ],
      "metadata": {
        "id": "ftLN_-QX2fkY"
      },
      "execution_count": 16,
      "outputs": []
    },
    {
      "cell_type": "code",
      "source": [
        "dog = Dog(\"fifi\")\n",
        "print(dog.__dict__)   # {'_Dog__name': 'fifi'}"
      ],
      "metadata": {
        "colab": {
          "base_uri": "https://localhost:8080/"
        },
        "id": "Vv4PX6d72lPJ",
        "outputId": "813f29ed-e25f-4899-9206-c203a8604086"
      },
      "execution_count": 17,
      "outputs": [
        {
          "output_type": "stream",
          "name": "stdout",
          "text": [
            "{'_Dog__name': 'fifi'}\n"
          ]
        }
      ]
    },
    {
      "cell_type": "code",
      "source": [
        "class Dog:\n",
        "    def __init__(self, name):\n",
        "        self.name = name\n",
        "    def bark(self):\n",
        "        print(\"woof\")"
      ],
      "metadata": {
        "id": "6WiqLvVR2m8W"
      },
      "execution_count": 18,
      "outputs": []
    },
    {
      "cell_type": "code",
      "source": [
        "def init(self, name):\n",
        "    self.name = name\n",
        "def bark(self):\n",
        "    print(\"woof\")\n",
        "    \n",
        "Dog = type(\"Dog\", (), {\"__init__\":init, \"bark\":bark})"
      ],
      "metadata": {
        "id": "X3iT1I1n2smG"
      },
      "execution_count": 20,
      "outputs": []
    },
    {
      "cell_type": "code",
      "source": [
        "我 = 4\n",
        "你 = 5\n",
        "print(我 + 你)    # 9"
      ],
      "metadata": {
        "colab": {
          "base_uri": "https://localhost:8080/"
        },
        "id": "EjBgLjkv2s1A",
        "outputId": "6954c11d-bd19-40c3-a413-3d1d42770b0d"
      },
      "execution_count": 21,
      "outputs": [
        {
          "output_type": "stream",
          "name": "stdout",
          "text": [
            "9\n"
          ]
        }
      ]
    },
    {
      "cell_type": "code",
      "source": [
        "print(\"abc\" + \"\\b\" + \"d\")# abd"
      ],
      "metadata": {
        "colab": {
          "base_uri": "https://localhost:8080/"
        },
        "id": "Jc1Pl1GP25Gc",
        "outputId": "2c37054d-56a2-4168-9489-30de34778a2d"
      },
      "execution_count": 22,
      "outputs": [
        {
          "output_type": "stream",
          "name": "stdout",
          "text": [
            "abc\bd\n"
          ]
        }
      ]
    },
    {
      "cell_type": "code",
      "source": [
        "print(\"\\a\")"
      ],
      "metadata": {
        "colab": {
          "base_uri": "https://localhost:8080/"
        },
        "id": "8AooXmNl2_nd",
        "outputId": "e9f2eeeb-2575-4cb6-d91e-4f3f0e85eeb8"
      },
      "execution_count": 23,
      "outputs": [
        {
          "output_type": "stream",
          "name": "stdout",
          "text": [
            "\u0007\n"
          ]
        }
      ]
    },
    {
      "cell_type": "code",
      "source": [
        "class add():\n",
        "    def __init__(self, char):\n",
        "        self.char = char    \n",
        "        \n",
        "    def __call__(self, function):\n",
        "        def inner(*args):\n",
        "            return function(*args) + self.char\n",
        "        return inner\n",
        "@add(\"!\")\n",
        "def greet(name):\n",
        "    return \"hello \" + name\n",
        "    \n",
        "print(greet(\"jerry\"))# hello jerry!"
      ],
      "metadata": {
        "colab": {
          "base_uri": "https://localhost:8080/"
        },
        "id": "fQMynkDw3Ni0",
        "outputId": "05fc1f99-9e20-421a-a489-c89daf553ccc"
      },
      "execution_count": 24,
      "outputs": [
        {
          "output_type": "stream",
          "name": "stdout",
          "text": [
            "hello jerry!\n"
          ]
        }
      ]
    },
    {
      "cell_type": "code",
      "source": [
        "def hello():\n",
        "    hello.hi = \"hi world\"\n",
        "    return \"hello world\"\n",
        "print(hello())   # hello world   \n",
        "print(hello.hi)  # hi world"
      ],
      "metadata": {
        "colab": {
          "base_uri": "https://localhost:8080/"
        },
        "id": "TBNLCGBZ3S1P",
        "outputId": "74ca6f27-49f9-4c4b-cd52-07c75679e3a6"
      },
      "execution_count": 25,
      "outputs": [
        {
          "output_type": "stream",
          "name": "stdout",
          "text": [
            "hello world\n",
            "hi world\n"
          ]
        }
      ]
    },
    {
      "cell_type": "code",
      "source": [
        "print(\">\" + \"hello\".ljust(20) + \"<\")\n",
        "print(\">\" + \"hello\".rjust(20) + \"<\")\n",
        "print(\">\" + \"hello\".center(20) + \"<\")"
      ],
      "metadata": {
        "colab": {
          "base_uri": "https://localhost:8080/"
        },
        "id": "DzsBU13n3UW1",
        "outputId": "d03a212f-e983-4d75-bfe1-192c8165121e"
      },
      "execution_count": 26,
      "outputs": [
        {
          "output_type": "stream",
          "name": "stdout",
          "text": [
            ">hello               <\n",
            ">               hello<\n",
            ">       hello        <\n"
          ]
        }
      ]
    },
    {
      "cell_type": "code",
      "source": [
        "hello = \"hello\"\n",
        "print(f\">{hello:<20}<\")\n",
        "print(f\">{hello:>20}<\")\n",
        "print(f\">{hello:^20}<\")"
      ],
      "metadata": {
        "colab": {
          "base_uri": "https://localhost:8080/"
        },
        "id": "fkolETEU3VOn",
        "outputId": "b18871d9-271a-46e4-a9f8-d413016f6f02"
      },
      "execution_count": 27,
      "outputs": [
        {
          "output_type": "stream",
          "name": "stdout",
          "text": [
            ">hello               <\n",
            ">               hello<\n",
            ">       hello        <\n"
          ]
        }
      ]
    },
    {
      "cell_type": "code",
      "source": [
        "lis = [1, 2]\n",
        "lis.append(lis)\n",
        "print(lis)# [1, 2, [...]]"
      ],
      "metadata": {
        "colab": {
          "base_uri": "https://localhost:8080/"
        },
        "id": "4aVO2Q2x3WVn",
        "outputId": "4a54be93-d09e-4bde-c0b5-cbd300b5847f"
      },
      "execution_count": 28,
      "outputs": [
        {
          "output_type": "stream",
          "name": "stdout",
          "text": [
            "[1, 2, [...]]\n"
          ]
        }
      ]
    },
    {
      "cell_type": "code",
      "source": [
        "x = eval(\"1+2*3-4\")# x is 3"
      ],
      "metadata": {
        "id": "Ett-rQFT3b6o"
      },
      "execution_count": 29,
      "outputs": []
    },
    {
      "cell_type": "code",
      "source": [
        "n = 4\n",
        "x = eval(\"n + 10\")# x is 14"
      ],
      "metadata": {
        "id": "K4eTWM2m3fHr"
      },
      "execution_count": 30,
      "outputs": []
    },
    {
      "cell_type": "code",
      "source": [
        "x = 12345\n",
        "print(round(x, -1))   # 12340\n",
        "print(round(x, -2))   # 12300\n",
        "print(round(x, -3))   # 12000\n",
        "print(round(x, -4))   # 10000\n",
        "print(round(x, -5))   # 0"
      ],
      "metadata": {
        "colab": {
          "base_uri": "https://localhost:8080/"
        },
        "id": "sje8XV223gGz",
        "outputId": "d8b85684-b220-470d-e8f0-f8b2d9efeeff"
      },
      "execution_count": 31,
      "outputs": [
        {
          "output_type": "stream",
          "name": "stdout",
          "text": [
            "12340\n",
            "12300\n",
            "12000\n",
            "10000\n",
            "0\n"
          ]
        }
      ]
    },
    {
      "cell_type": "code",
      "source": [
        "x = 5\n",
        "if x > 3:\n",
        "    print(\"x is more than 3\")"
      ],
      "metadata": {
        "colab": {
          "base_uri": "https://localhost:8080/"
        },
        "id": "NKgHj3ZV3hBK",
        "outputId": "ec1effc8-a68d-48d3-a1eb-affd232354c9"
      },
      "execution_count": 32,
      "outputs": [
        {
          "output_type": "stream",
          "name": "stdout",
          "text": [
            "x is more than 3\n"
          ]
        }
      ]
    },
    {
      "cell_type": "code",
      "source": [
        "# if (x := 5) > 3:\n",
        "#     print(\"x is more than 3\")"
      ],
      "metadata": {
        "id": "QzVRo5OX3imc"
      },
      "execution_count": 35,
      "outputs": []
    },
    {
      "cell_type": "code",
      "source": [
        "a = [\"apple\", \"orange\", \"pear\"]\n",
        "b = [\"pineapple\", \"banana\", \"durian\"]\n",
        "c = [\"grape\", \"jackfruit\", \"mango\"]\n",
        "\n",
        "import pickle\n",
        "\n",
        "with open(\"test.pckl\", \"wb\") as f:\n",
        "    pickle.dump(a, f)   # saving a into test.pckl\n",
        "    pickle.dump(b, f)   # saving b into test.pckl\n",
        "    pickle.dump(c, f)   # saving c into test.pckl"
      ],
      "metadata": {
        "id": "pfSu3-_83j1N"
      },
      "execution_count": 37,
      "outputs": []
    },
    {
      "cell_type": "code",
      "source": [
        "import pickle\n",
        "\n",
        "with open(\"test.pckl\", \"rb\") as f:\n",
        "    a = pickle.load(f)\n",
        "    b = pickle.load(f)\n",
        "    c = pickle.load(f)\n",
        "print(a)\n",
        "print(b)\n",
        "print(c)"
      ],
      "metadata": {
        "colab": {
          "base_uri": "https://localhost:8080/"
        },
        "id": "jTXugOUR3nzj",
        "outputId": "4ea86faf-0cb5-43e5-80e5-3daa10f69152"
      },
      "execution_count": 39,
      "outputs": [
        {
          "output_type": "stream",
          "name": "stdout",
          "text": [
            "['apple', 'orange', 'pear']\n",
            "['pineapple', 'banana', 'durian']\n",
            "['grape', 'jackfruit', 'mango']\n"
          ]
        }
      ]
    },
    {
      "cell_type": "code",
      "source": [
        "# # run.py\n",
        "# assert 1==2\n",
        "# print(\"hello\")"
      ],
      "metadata": {
        "id": "vIGHzEBx3p0c"
      },
      "execution_count": 41,
      "outputs": []
    },
    {
      "cell_type": "code",
      "source": [
        "fruits = [\"apple\", \"orange\", \"pear\"]\n",
        "d = dict.fromkeys(fruits)# d is {'apple': None, 'orange': None, 'pear': None}"
      ],
      "metadata": {
        "id": "-0ZFY-NW3t4F"
      },
      "execution_count": 42,
      "outputs": []
    },
    {
      "cell_type": "code",
      "source": [
        "fruits = [\"apple\", \"orange\", \"pear\"]\n",
        "d = dict.fromkeys(fruits, [])"
      ],
      "metadata": {
        "id": "ldnZYurr32LN"
      },
      "execution_count": 43,
      "outputs": []
    },
    {
      "cell_type": "code",
      "source": [
        "fs = frozenset({1, 2, 3})\n",
        "fs"
      ],
      "metadata": {
        "colab": {
          "base_uri": "https://localhost:8080/"
        },
        "id": "OJvsvvzW34C-",
        "outputId": "768a97a1-203a-4a64-ab0a-61ded9c4f6c8"
      },
      "execution_count": 44,
      "outputs": [
        {
          "output_type": "execute_result",
          "data": {
            "text/plain": [
              "frozenset({1, 2, 3})"
            ]
          },
          "metadata": {},
          "execution_count": 44
        }
      ]
    },
    {
      "cell_type": "code",
      "source": [
        "# class Dog:\n",
        "#     __slots__ = [\"name\", \"age\"]\n",
        "\n",
        "# dog = Dog()\n",
        "# dog.name = \"fifi\"   # no problem\n",
        "# dog.age = 5         # no problem\n",
        "# dog.breed = \"german shepherd\"   # ERROR"
      ],
      "metadata": {
        "id": "eXfen4v-35Jc"
      },
      "execution_count": 46,
      "outputs": []
    },
    {
      "cell_type": "code",
      "source": [],
      "metadata": {
        "id": "NS40J3ky38C9"
      },
      "execution_count": null,
      "outputs": []
    }
  ]
}