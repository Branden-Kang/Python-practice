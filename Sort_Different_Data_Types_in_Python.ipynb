{
  "nbformat": 4,
  "nbformat_minor": 0,
  "metadata": {
    "colab": {
      "name": "Sort Different Data Types in Python.ipynb",
      "provenance": [],
      "authorship_tag": "ABX9TyPcvjni2VePVrVPS6Z4O7Pb"
    },
    "kernelspec": {
      "name": "python3",
      "display_name": "Python 3"
    },
    "language_info": {
      "name": "python"
    }
  },
  "cells": [
    {
      "cell_type": "markdown",
      "metadata": {
        "id": "mcVe2roZOoAa"
      },
      "source": [
        "[Reference](https://python.plainenglish.io/how-to-sort-different-data-types-in-python-640427a637ce)"
      ]
    },
    {
      "cell_type": "code",
      "metadata": {
        "colab": {
          "base_uri": "https://localhost:8080/"
        },
        "id": "ZNw3zGJsNcdG",
        "outputId": "d42d8c90-bcd4-4a5a-bec2-01549c8ee8c3"
      },
      "source": [
        "lst = [9, 2, 1, 6, 4, 5, 7, 8, 3]\n",
        "\n",
        "lst.sort()\n",
        "\n",
        "print(lst)"
      ],
      "execution_count": 1,
      "outputs": [
        {
          "output_type": "stream",
          "text": [
            "[1, 2, 3, 4, 5, 6, 7, 8, 9]\n"
          ],
          "name": "stdout"
        }
      ]
    },
    {
      "cell_type": "code",
      "metadata": {
        "colab": {
          "base_uri": "https://localhost:8080/"
        },
        "id": "lOD50TfLOqWc",
        "outputId": "8da5284c-6312-43c6-c543-079fb95f4383"
      },
      "source": [
        "lst = [9, 2, 1, 6, 4, 5, 7, 8, 3]\n",
        "\n",
        "sorted_lst = sorted(lst)\n",
        "\n",
        "print(f'Sorted list: {sorted_lst}')\n",
        "print(f'Original list: {lst}')"
      ],
      "execution_count": 2,
      "outputs": [
        {
          "output_type": "stream",
          "text": [
            "Sorted list: [1, 2, 3, 4, 5, 6, 7, 8, 9]\n",
            "Original list: [9, 2, 1, 6, 4, 5, 7, 8, 3]\n"
          ],
          "name": "stdout"
        }
      ]
    },
    {
      "cell_type": "code",
      "metadata": {
        "colab": {
          "base_uri": "https://localhost:8080/"
        },
        "id": "xZ42WN-4Or7J",
        "outputId": "96091723-4c1f-406e-fcd2-520c1b2ffa87"
      },
      "source": [
        "lst = [9, 2, 1, 6, 4, 5, 7, 8, 3]\n",
        "\n",
        "print(lst.sort())"
      ],
      "execution_count": 3,
      "outputs": [
        {
          "output_type": "stream",
          "text": [
            "None\n"
          ],
          "name": "stdout"
        }
      ]
    },
    {
      "cell_type": "code",
      "metadata": {
        "colab": {
          "base_uri": "https://localhost:8080/"
        },
        "id": "CMZOPkCCOtHK",
        "outputId": "b1583086-5d1f-4631-ed5f-e133aa5a9c93"
      },
      "source": [
        "lst = [9, 2, 1, 6, 4, 5, 7, 8, 3]\n",
        "\n",
        "sorted_lst = sorted(lst, reverse=True)\n",
        "\n",
        "print(sorted_lst)"
      ],
      "execution_count": 4,
      "outputs": [
        {
          "output_type": "stream",
          "text": [
            "[9, 8, 7, 6, 5, 4, 3, 2, 1]\n"
          ],
          "name": "stdout"
        }
      ]
    },
    {
      "cell_type": "code",
      "metadata": {
        "colab": {
          "base_uri": "https://localhost:8080/",
          "height": 232
        },
        "id": "M7t9SPjdOwXd",
        "outputId": "819d7fc2-8981-4c77-b1cb-c21c3a68fad2"
      },
      "source": [
        "tup = (9, 2, 1, 6, 4, 5, 7, 8, 3)\n",
        "\n",
        "tup.sort()"
      ],
      "execution_count": 5,
      "outputs": [
        {
          "output_type": "error",
          "ename": "AttributeError",
          "evalue": "ignored",
          "traceback": [
            "\u001b[0;31m---------------------------------------------------------------------------\u001b[0m",
            "\u001b[0;31mAttributeError\u001b[0m                            Traceback (most recent call last)",
            "\u001b[0;32m<ipython-input-5-6d0c026d2a76>\u001b[0m in \u001b[0;36m<module>\u001b[0;34m()\u001b[0m\n\u001b[1;32m      1\u001b[0m \u001b[0mtup\u001b[0m \u001b[0;34m=\u001b[0m \u001b[0;34m(\u001b[0m\u001b[0;36m9\u001b[0m\u001b[0;34m,\u001b[0m \u001b[0;36m2\u001b[0m\u001b[0;34m,\u001b[0m \u001b[0;36m1\u001b[0m\u001b[0;34m,\u001b[0m \u001b[0;36m6\u001b[0m\u001b[0;34m,\u001b[0m \u001b[0;36m4\u001b[0m\u001b[0;34m,\u001b[0m \u001b[0;36m5\u001b[0m\u001b[0;34m,\u001b[0m \u001b[0;36m7\u001b[0m\u001b[0;34m,\u001b[0m \u001b[0;36m8\u001b[0m\u001b[0;34m,\u001b[0m \u001b[0;36m3\u001b[0m\u001b[0;34m)\u001b[0m\u001b[0;34m\u001b[0m\u001b[0;34m\u001b[0m\u001b[0m\n\u001b[1;32m      2\u001b[0m \u001b[0;34m\u001b[0m\u001b[0m\n\u001b[0;32m----> 3\u001b[0;31m \u001b[0mtup\u001b[0m\u001b[0;34m.\u001b[0m\u001b[0msort\u001b[0m\u001b[0;34m(\u001b[0m\u001b[0;34m)\u001b[0m\u001b[0;34m\u001b[0m\u001b[0;34m\u001b[0m\u001b[0m\n\u001b[0m",
            "\u001b[0;31mAttributeError\u001b[0m: 'tuple' object has no attribute 'sort'"
          ]
        }
      ]
    },
    {
      "cell_type": "code",
      "metadata": {
        "colab": {
          "base_uri": "https://localhost:8080/"
        },
        "id": "Sd74yP-lOxzi",
        "outputId": "e77a770b-d36e-4721-d120-9170f5b96bd1"
      },
      "source": [
        "tup = (9, 2, 1, 6, 4, 5, 7, 8, 3)\n",
        "\n",
        "sorted_tup = sorted(tup)\n",
        "\n",
        "print(sorted_tup)"
      ],
      "execution_count": 6,
      "outputs": [
        {
          "output_type": "stream",
          "text": [
            "[1, 2, 3, 4, 5, 6, 7, 8, 9]\n"
          ],
          "name": "stdout"
        }
      ]
    },
    {
      "cell_type": "code",
      "metadata": {
        "colab": {
          "base_uri": "https://localhost:8080/"
        },
        "id": "W0shOtaUOy0p",
        "outputId": "86e82e06-67bf-40fc-f35a-82684c03914a"
      },
      "source": [
        "tup = (9, 2, 1, 6, 4, 5, 7, 8, 3)\n",
        "\n",
        "sorted_tup = sorted(tup)\n",
        "\n",
        "print(type(sorted_tup))"
      ],
      "execution_count": 7,
      "outputs": [
        {
          "output_type": "stream",
          "text": [
            "<class 'list'>\n"
          ],
          "name": "stdout"
        }
      ]
    },
    {
      "cell_type": "code",
      "metadata": {
        "colab": {
          "base_uri": "https://localhost:8080/"
        },
        "id": "Zuj3wWDKO0Vo",
        "outputId": "1adfc230-4151-4623-cec5-8da6f217673b"
      },
      "source": [
        "tup = (9, 2, 1, 6, 4, 5, 7, 8, 3)\n",
        "\n",
        "sorted_tup = tuple(sorted(tup))\n",
        "\n",
        "print(type(sorted_tup))\n",
        "print(sorted_tup)"
      ],
      "execution_count": 8,
      "outputs": [
        {
          "output_type": "stream",
          "text": [
            "<class 'tuple'>\n",
            "(1, 2, 3, 4, 5, 6, 7, 8, 9)\n"
          ],
          "name": "stdout"
        }
      ]
    },
    {
      "cell_type": "code",
      "metadata": {
        "colab": {
          "base_uri": "https://localhost:8080/"
        },
        "id": "O3ZHtICAO4x0",
        "outputId": "d3479c80-e687-48cb-96ad-3bd21e1ef96f"
      },
      "source": [
        "tup = (9, 2, 1, 6, 4, 5, 7, 8, 3)\n",
        "\n",
        "sorted_tup = tuple(sorted(tup, reverse=True))\n",
        "\n",
        "print(sorted_tup)"
      ],
      "execution_count": 9,
      "outputs": [
        {
          "output_type": "stream",
          "text": [
            "(9, 8, 7, 6, 5, 4, 3, 2, 1)\n"
          ],
          "name": "stdout"
        }
      ]
    },
    {
      "cell_type": "code",
      "metadata": {
        "colab": {
          "base_uri": "https://localhost:8080/"
        },
        "id": "F5Q12D45O6X4",
        "outputId": "cc4a0489-1b52-4515-b5ab-54fbbd949be6"
      },
      "source": [
        "dct = {\n",
        "    'Tom': 33,\n",
        "    'Harry': 23,\n",
        "    'Ron': 87,\n",
        "    'John': 13\n",
        "}\n",
        "\n",
        "sorted_dct = sorted(dct)\n",
        "\n",
        "print(sorted_dct)"
      ],
      "execution_count": 10,
      "outputs": [
        {
          "output_type": "stream",
          "text": [
            "['Harry', 'John', 'Ron', 'Tom']\n"
          ],
          "name": "stdout"
        }
      ]
    },
    {
      "cell_type": "code",
      "metadata": {
        "colab": {
          "base_uri": "https://localhost:8080/"
        },
        "id": "MFMcAqavO7ik",
        "outputId": "42a55786-57a5-4ee8-ac87-be99f66e209a"
      },
      "source": [
        "dct = {\n",
        "    'Tom': 33,\n",
        "    'Harry': 23,\n",
        "    'Ron': 87,\n",
        "    'John': 13\n",
        "}\n",
        "\n",
        "sorted_dct = sorted(dct.items())\n",
        "\n",
        "print(sorted_dct)"
      ],
      "execution_count": 11,
      "outputs": [
        {
          "output_type": "stream",
          "text": [
            "[('Harry', 23), ('John', 13), ('Ron', 87), ('Tom', 33)]\n"
          ],
          "name": "stdout"
        }
      ]
    },
    {
      "cell_type": "code",
      "metadata": {
        "colab": {
          "base_uri": "https://localhost:8080/"
        },
        "id": "q3-CS3aGPAEa",
        "outputId": "4afa667b-888a-406b-f715-7dfb42ea3636"
      },
      "source": [
        "dct = {\n",
        "    'Tom': 33,\n",
        "    'Harry': 23,\n",
        "    'Ron': 87,\n",
        "    'John': 13\n",
        "}\n",
        "\n",
        "sorted_dct = sorted(dct.items(), key=lambda x: x[1])\n",
        "\n",
        "print(sorted_dct)"
      ],
      "execution_count": 12,
      "outputs": [
        {
          "output_type": "stream",
          "text": [
            "[('John', 13), ('Harry', 23), ('Tom', 33), ('Ron', 87)]\n"
          ],
          "name": "stdout"
        }
      ]
    },
    {
      "cell_type": "code",
      "metadata": {
        "colab": {
          "base_uri": "https://localhost:8080/"
        },
        "id": "aHETs20yPDGC",
        "outputId": "2ca8b917-c6e3-4e28-ba22-d3dce43d4efa"
      },
      "source": [
        "dct = {\n",
        "    'Tom': 33,\n",
        "    'Harry': 23,\n",
        "    'Ron': 87,\n",
        "    'John': 13\n",
        "}\n",
        "\n",
        "sorted_dct = sorted(dct.items(), key=lambda x: x[0])\n",
        "\n",
        "print(sorted_dct)"
      ],
      "execution_count": 13,
      "outputs": [
        {
          "output_type": "stream",
          "text": [
            "[('Harry', 23), ('John', 13), ('Ron', 87), ('Tom', 33)]\n"
          ],
          "name": "stdout"
        }
      ]
    }
  ]
}