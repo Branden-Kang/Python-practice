{
  "nbformat": 4,
  "nbformat_minor": 0,
  "metadata": {
    "colab": {
      "provenance": [],
      "authorship_tag": "ABX9TyOsrE3YOaxKpsXAzV9P234+"
    },
    "kernelspec": {
      "name": "python3",
      "display_name": "Python 3"
    },
    "language_info": {
      "name": "python"
    }
  },
  "cells": [
    {
      "cell_type": "markdown",
      "source": [
        "[Reference](https://medium.com/@SergiAlfonso/multiprocessing-in-python-3905958b6f00)"
      ],
      "metadata": {
        "id": "F8q3T2Mm0FrS"
      }
    },
    {
      "cell_type": "code",
      "execution_count": 1,
      "metadata": {
        "colab": {
          "base_uri": "https://localhost:8080/"
        },
        "id": "vMXeqFhG0EfM",
        "outputId": "ec3f3bb6-3419-4711-b9c1-b1413206d03e"
      },
      "outputs": [
        {
          "output_type": "stream",
          "name": "stdout",
          "text": [
            "[1, 4, 9]\n"
          ]
        }
      ],
      "source": [
        "from multiprocessing import Pool\n",
        "\n",
        "def f(x):\n",
        "    return x*x\n",
        "    \n",
        "if __name__ == '__main__':\n",
        "    with Pool(5) as p:\n",
        "        print(p.map(f, [1, 2, 3]))"
      ]
    },
    {
      "cell_type": "code",
      "source": [
        "from multiprocessing import Process\n",
        "\n",
        "def f(name):\n",
        "    print('hello', name)\n",
        "    \n",
        "if __name__ == '__main__':\n",
        "    p = Process(target=f, args=('bob',))\n",
        "    p.start()\n",
        "    p.join()"
      ],
      "metadata": {
        "colab": {
          "base_uri": "https://localhost:8080/"
        },
        "id": "EQaCmO260IvM",
        "outputId": "7e007a1d-8d02-400a-a53f-5e5a8bb69ee3"
      },
      "execution_count": 2,
      "outputs": [
        {
          "output_type": "stream",
          "name": "stdout",
          "text": [
            "hello bob\n"
          ]
        }
      ]
    },
    {
      "cell_type": "code",
      "source": [
        "from multiprocessing import Process\n",
        "import os\n",
        "\n",
        "def info(title):\n",
        "    print(title)\n",
        "    print('module name:', __name__)\n",
        "    print('parent process:', os.getppid())\n",
        "    print('process id:', os.getpid())\n",
        "\n",
        "def f(name):\n",
        "    info('function f')\n",
        "    print('hello', name)\n",
        "    \n",
        "if __name__ == '__main__':\n",
        "    info('main line')\n",
        "    p = Process(target=f, args=('bob',))\n",
        "    p.start()\n",
        "    p.join()"
      ],
      "metadata": {
        "colab": {
          "base_uri": "https://localhost:8080/"
        },
        "id": "iLAtKytK0Kex",
        "outputId": "7113f852-c6be-4c70-ec11-d756c82d0530"
      },
      "execution_count": 3,
      "outputs": [
        {
          "output_type": "stream",
          "name": "stdout",
          "text": [
            "main line\n",
            "module name: __main__\n",
            "parent process: 62\n",
            "process id: 76\n",
            "function f\n",
            "module name: __main__\n",
            "parent process: 76\n",
            "process id: 133\n",
            "hello bob\n"
          ]
        }
      ]
    }
  ]
}