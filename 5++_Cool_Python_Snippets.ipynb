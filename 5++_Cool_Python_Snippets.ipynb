{
  "nbformat": 4,
  "nbformat_minor": 0,
  "metadata": {
    "colab": {
      "name": "5++ Cool Python Snippets.ipynb",
      "provenance": [],
      "authorship_tag": "ABX9TyM8zMEAdBVQnKrEfGoXkkrB"
    },
    "kernelspec": {
      "name": "python3",
      "display_name": "Python 3"
    },
    "language_info": {
      "name": "python"
    }
  },
  "cells": [
    {
      "cell_type": "markdown",
      "source": [
        "[Reference](https://python.plainenglish.io/five-cool-python-snippets-6710951dfc26)"
      ],
      "metadata": {
        "id": "O4cHeq3FeUGb"
      }
    },
    {
      "cell_type": "markdown",
      "source": [
        "# 1. Careful with chained operations\n"
      ],
      "metadata": {
        "id": "0YHiFpZweW7Y"
      }
    },
    {
      "cell_type": "code",
      "execution_count": 1,
      "metadata": {
        "colab": {
          "base_uri": "https://localhost:8080/"
        },
        "id": "QJPKwXJSeNjE",
        "outputId": "7c54c4ab-858f-4637-ae56-190687e1dd56"
      },
      "outputs": [
        {
          "output_type": "execute_result",
          "data": {
            "text/plain": [
              "False"
            ]
          },
          "metadata": {},
          "execution_count": 1
        }
      ],
      "source": [
        "(False == False) in [False] # makes sense"
      ]
    },
    {
      "cell_type": "code",
      "source": [
        "False == (False in [False]) # makes sense"
      ],
      "metadata": {
        "colab": {
          "base_uri": "https://localhost:8080/"
        },
        "id": "MQ_8twjqeYyF",
        "outputId": "1f0584ae-f219-42d0-af44-47dce2f70803"
      },
      "execution_count": 2,
      "outputs": [
        {
          "output_type": "execute_result",
          "data": {
            "text/plain": [
              "False"
            ]
          },
          "metadata": {},
          "execution_count": 2
        }
      ]
    },
    {
      "cell_type": "code",
      "source": [
        "False == False in [False] # now what?"
      ],
      "metadata": {
        "colab": {
          "base_uri": "https://localhost:8080/"
        },
        "id": "6ATz94JeeZyd",
        "outputId": "c4bfc18d-9c7d-46e1-af22-1261549ec72a"
      },
      "execution_count": 3,
      "outputs": [
        {
          "output_type": "execute_result",
          "data": {
            "text/plain": [
              "True"
            ]
          },
          "metadata": {},
          "execution_count": 3
        }
      ]
    },
    {
      "cell_type": "markdown",
      "source": [
        "# 2. Leakage of Loop variables\n"
      ],
      "metadata": {
        "id": "LVGkIknUeqZ2"
      }
    },
    {
      "cell_type": "code",
      "source": [
        "for x in range(7):\n",
        "    if x == 6:\n",
        "        print(x)\n",
        "print(x)"
      ],
      "metadata": {
        "colab": {
          "base_uri": "https://localhost:8080/"
        },
        "id": "N9oQeM7lea3a",
        "outputId": "7632d5eb-673f-42ed-b1b0-cca79d14f977"
      },
      "execution_count": 4,
      "outputs": [
        {
          "output_type": "stream",
          "name": "stdout",
          "text": [
            "6\n",
            "6\n"
          ]
        }
      ]
    },
    {
      "cell_type": "markdown",
      "source": [
        "# 3. Default mutable arguments\n"
      ],
      "metadata": {
        "id": "_pbD0UiTgFHD"
      }
    },
    {
      "cell_type": "code",
      "source": [
        "def func(default_arg=[]):\n",
        "    default_arg.append(\"python\")\n",
        "    return default_arg\n",
        "print(func())\n",
        "print(func())\n",
        "print(func())"
      ],
      "metadata": {
        "colab": {
          "base_uri": "https://localhost:8080/"
        },
        "id": "DhbP5nXmgCdH",
        "outputId": "52744f90-33f5-441e-a96c-89f1aa3a0e7b"
      },
      "execution_count": 6,
      "outputs": [
        {
          "output_type": "stream",
          "name": "stdout",
          "text": [
            "['python']\n",
            "['python', 'python']\n",
            "['python', 'python', 'python']\n"
          ]
        }
      ]
    },
    {
      "cell_type": "markdown",
      "source": [
        "# 4. Keep trying\n"
      ],
      "metadata": {
        "id": "nSKfo7jZgKkl"
      }
    },
    {
      "cell_type": "code",
      "source": [
        "def func():\n",
        "    try:\n",
        "        return 'from_try'\n",
        "    finally:\n",
        "        return 'from_finally'\n",
        "print(func()) #What will get printed?"
      ],
      "metadata": {
        "colab": {
          "base_uri": "https://localhost:8080/"
        },
        "id": "qNxkB-ipgGpW",
        "outputId": "478a6775-b7cc-41da-b7b6-ed514972b78e"
      },
      "execution_count": 7,
      "outputs": [
        {
          "output_type": "stream",
          "name": "stdout",
          "text": [
            "from_finally\n"
          ]
        }
      ]
    },
    {
      "cell_type": "markdown",
      "source": [
        "# 5. What is wrong with “is”\n"
      ],
      "metadata": {
        "id": "7fqiSgHJgZSo"
      }
    },
    {
      "cell_type": "code",
      "source": [
        "a = 256\n",
        "b = 256\n",
        "a is b"
      ],
      "metadata": {
        "colab": {
          "base_uri": "https://localhost:8080/"
        },
        "id": "tI9DLbZjgX6v",
        "outputId": "57d21337-ec5b-4773-b9bb-682b27b626f1"
      },
      "execution_count": 8,
      "outputs": [
        {
          "output_type": "execute_result",
          "data": {
            "text/plain": [
              "True"
            ]
          },
          "metadata": {},
          "execution_count": 8
        }
      ]
    },
    {
      "cell_type": "code",
      "source": [
        "a = 257\n",
        "b = 257\n",
        "a is b"
      ],
      "metadata": {
        "colab": {
          "base_uri": "https://localhost:8080/"
        },
        "id": "_4_2QYPXgbKt",
        "outputId": "b183f342-18bb-4907-fbc5-ee3786ace0b2"
      },
      "execution_count": 9,
      "outputs": [
        {
          "output_type": "execute_result",
          "data": {
            "text/plain": [
              "False"
            ]
          },
          "metadata": {},
          "execution_count": 9
        }
      ]
    },
    {
      "cell_type": "markdown",
      "source": [
        "# 5++. Emojis in Python\n"
      ],
      "metadata": {
        "id": "YuZX7rgigjOJ"
      }
    },
    {
      "cell_type": "code",
      "source": [
        "pip install emoji"
      ],
      "metadata": {
        "colab": {
          "base_uri": "https://localhost:8080/"
        },
        "id": "yDl4L_QQgpjN",
        "outputId": "d9b8ba80-9401-4340-b771-b23d88151964"
      },
      "execution_count": 11,
      "outputs": [
        {
          "output_type": "stream",
          "name": "stdout",
          "text": [
            "Looking in indexes: https://pypi.org/simple, https://us-python.pkg.dev/colab-wheels/public/simple/\n",
            "Collecting emoji\n",
            "  Downloading emoji-2.0.0.tar.gz (197 kB)\n",
            "\u001b[K     |████████████████████████████████| 197 kB 4.2 MB/s \n",
            "\u001b[?25hBuilding wheels for collected packages: emoji\n",
            "  Building wheel for emoji (setup.py) ... \u001b[?25l\u001b[?25hdone\n",
            "  Created wheel for emoji: filename=emoji-2.0.0-py3-none-any.whl size=193022 sha256=b1d52ae9231292177372c2ca8cf72de2d3ec43fad1f94db0d3852e6c3493cdd0\n",
            "  Stored in directory: /root/.cache/pip/wheels/ec/29/4d/3cfe7452ac7d8d83b1930f8a6205c3c9649b24e80f9029fc38\n",
            "Successfully built emoji\n",
            "Installing collected packages: emoji\n",
            "Successfully installed emoji-2.0.0\n"
          ]
        }
      ]
    },
    {
      "cell_type": "code",
      "source": [
        "import emoji\n",
        "print(emoji.emojize('Python is amazing:thumbs_up:'))"
      ],
      "metadata": {
        "colab": {
          "base_uri": "https://localhost:8080/"
        },
        "id": "FRUF9b96gc6Y",
        "outputId": "ae216884-1cac-416b-e83b-f31513501a39"
      },
      "execution_count": 12,
      "outputs": [
        {
          "output_type": "stream",
          "name": "stdout",
          "text": [
            "Python is amazing👍\n"
          ]
        }
      ]
    }
  ]
}