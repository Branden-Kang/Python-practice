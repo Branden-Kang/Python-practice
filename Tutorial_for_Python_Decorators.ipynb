{
  "nbformat": 4,
  "nbformat_minor": 0,
  "metadata": {
    "colab": {
      "name": "Tutorial for Python Decorators.ipynb",
      "provenance": [],
      "authorship_tag": "ABX9TyN8pqbeRi9NdAQOTLYTm+lV"
    },
    "kernelspec": {
      "name": "python3",
      "display_name": "Python 3"
    },
    "language_info": {
      "name": "python"
    }
  },
  "cells": [
    {
      "cell_type": "markdown",
      "metadata": {
        "id": "JthHhgxhPsqM"
      },
      "source": [
        "[Reference](https://towardsdatascience.com/the-simplest-tutorial-for-python-decorator-dadbf8f20b0f)"
      ]
    },
    {
      "cell_type": "code",
      "metadata": {
        "id": "fN5OeskvPopU"
      },
      "source": [
        "@function_decorator\n",
        "def func():\n",
        "    pass"
      ],
      "execution_count": 5,
      "outputs": []
    },
    {
      "cell_type": "code",
      "metadata": {
        "id": "ghLY7Uq8P1ay"
      },
      "source": [
        "def function_decorator(func):\n",
        "    def wrapped_func():\n",
        "        print('=' * 30)\n",
        "        func()\n",
        "        print('=' * 30)\n",
        "    return wrapped_func"
      ],
      "execution_count": 2,
      "outputs": []
    },
    {
      "cell_type": "code",
      "metadata": {
        "id": "1ut6-PPpP3GD"
      },
      "source": [
        "@function_decorator\n",
        "def test():\n",
        "    print('Hello World!')"
      ],
      "execution_count": 3,
      "outputs": []
    },
    {
      "cell_type": "code",
      "metadata": {
        "id": "BrsIl5BQP38v"
      },
      "source": [
        "@function_decorator\n",
        "def greeting(name):\n",
        "    print(f'Hey {name}! Good Morning!')"
      ],
      "execution_count": 4,
      "outputs": []
    },
    {
      "cell_type": "code",
      "metadata": {
        "colab": {
          "base_uri": "https://localhost:8080/",
          "height": 198
        },
        "id": "8S9E_ZeUQAJo",
        "outputId": "66c997a3-03a5-4f16-f1f0-0c40d3404984"
      },
      "source": [
        "greeting('Chris')"
      ],
      "execution_count": 7,
      "outputs": [
        {
          "output_type": "error",
          "ename": "TypeError",
          "evalue": "ignored",
          "traceback": [
            "\u001b[0;31m---------------------------------------------------------------------------\u001b[0m",
            "\u001b[0;31mTypeError\u001b[0m                                 Traceback (most recent call last)",
            "\u001b[0;32m<ipython-input-7-0703f66ce3fa>\u001b[0m in \u001b[0;36m<module>\u001b[0;34m()\u001b[0m\n\u001b[0;32m----> 1\u001b[0;31m \u001b[0mgreeting\u001b[0m\u001b[0;34m(\u001b[0m\u001b[0;34m'Chris'\u001b[0m\u001b[0;34m)\u001b[0m\u001b[0;34m\u001b[0m\u001b[0;34m\u001b[0m\u001b[0m\n\u001b[0m",
            "\u001b[0;31mTypeError\u001b[0m: wrapped_func() takes 0 positional arguments but 1 was given"
          ]
        }
      ]
    },
    {
      "cell_type": "code",
      "metadata": {
        "id": "EvADOiuaP6WM"
      },
      "source": [
        "def function_decorator(func):\n",
        "    def wrapped_func(*args, **kwargs):\n",
        "        print('=' * 30)\n",
        "        func(*args, **kwargs)\n",
        "        print('=' * 30)\n",
        "    return wrapped_func"
      ],
      "execution_count": 6,
      "outputs": []
    },
    {
      "cell_type": "code",
      "metadata": {
        "id": "1sb_8EeIP_e4"
      },
      "source": [
        "from datetime import datetime\n",
        "\n",
        "def timed_log(log_msg):\n",
        "    def time_added(*args, **kwargs):\n",
        "        return f'[{datetime.now()}] {log_msg(*args, **kwargs)}'\n",
        "    return time_added"
      ],
      "execution_count": 8,
      "outputs": []
    },
    {
      "cell_type": "code",
      "metadata": {
        "id": "6dD8a1brQHNJ"
      },
      "source": [
        "@timed_log\n",
        "def log_error(line_no):\n",
        "    return f'There is an error happend at line {line_no}'\n",
        "    \n",
        "    \n",
        "@timed_log\n",
        "def log_done():\n",
        "    return 'Great! All processed done.'"
      ],
      "execution_count": 9,
      "outputs": []
    },
    {
      "cell_type": "code",
      "metadata": {
        "colab": {
          "base_uri": "https://localhost:8080/"
        },
        "id": "2fHiPItnQQJL",
        "outputId": "4b3505f2-191f-4b2b-d185-b4e1e9893c59"
      },
      "source": [
        "print(log_error(50))"
      ],
      "execution_count": 10,
      "outputs": [
        {
          "output_type": "stream",
          "text": [
            "[2021-03-23 13:23:29.011198] There is an error happend at line 50\n"
          ],
          "name": "stdout"
        }
      ]
    },
    {
      "cell_type": "code",
      "metadata": {
        "colab": {
          "base_uri": "https://localhost:8080/"
        },
        "id": "ZpwBNr9KQSb3",
        "outputId": "7854bdd0-3c0c-4d22-bf79-d1ab364bcba8"
      },
      "source": [
        "print(log_done())"
      ],
      "execution_count": 11,
      "outputs": [
        {
          "output_type": "stream",
          "text": [
            "[2021-03-23 13:23:33.937705] Great! All processed done.\n"
          ],
          "name": "stdout"
        }
      ]
    },
    {
      "cell_type": "code",
      "metadata": {
        "id": "akF6tmcGQTmq"
      },
      "source": [
        "def singleton(_class):\n",
        "    instances = {}    \n",
        "    \n",
        "    def get_instance(*args, **kwargs):\n",
        "        if _class not in instances:\n",
        "            print('Connecting to DB...')\n",
        "            instances[_class] = _class(*args, **kwargs)\n",
        "            print('Connected')\n",
        "        else:\n",
        "            print('Already has a connection, will reuse it.')\n",
        "        return instances[_class]\n",
        "    return get_instance"
      ],
      "execution_count": 12,
      "outputs": []
    },
    {
      "cell_type": "code",
      "metadata": {
        "id": "Ut9pnLpTQlTQ"
      },
      "source": [
        "@singleton\n",
        "class DBConnection:\n",
        "    def connect_to_db():\n",
        "        pass"
      ],
      "execution_count": 13,
      "outputs": []
    },
    {
      "cell_type": "code",
      "metadata": {
        "colab": {
          "base_uri": "https://localhost:8080/"
        },
        "id": "8BsVQvYyQnhA",
        "outputId": "5b6e8cb4-0972-461e-9920-82146ef41bd8"
      },
      "source": [
        "con1 = DBConnection()"
      ],
      "execution_count": 14,
      "outputs": [
        {
          "output_type": "stream",
          "text": [
            "Connecting to DB...\n",
            "Connected\n"
          ],
          "name": "stdout"
        }
      ]
    },
    {
      "cell_type": "code",
      "metadata": {
        "colab": {
          "base_uri": "https://localhost:8080/"
        },
        "id": "uUm46qICQp96",
        "outputId": "c60ed756-4fd5-46a3-941f-f3c635072a1b"
      },
      "source": [
        "con2 = DBConnection()"
      ],
      "execution_count": 15,
      "outputs": [
        {
          "output_type": "stream",
          "text": [
            "Already has a connection, will reuse it.\n"
          ],
          "name": "stdout"
        }
      ]
    },
    {
      "cell_type": "code",
      "metadata": {
        "colab": {
          "base_uri": "https://localhost:8080/"
        },
        "id": "6CNkValJQrjw",
        "outputId": "4bdbd634-a638-42ff-e978-d17f183f127c"
      },
      "source": [
        "print(con1 is con2)"
      ],
      "execution_count": 16,
      "outputs": [
        {
          "output_type": "stream",
          "text": [
            "True\n"
          ],
          "name": "stdout"
        }
      ]
    }
  ]
}