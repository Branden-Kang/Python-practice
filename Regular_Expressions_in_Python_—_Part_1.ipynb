{
  "nbformat": 4,
  "nbformat_minor": 0,
  "metadata": {
    "colab": {
      "name": "Regular Expressions in Python — Part 1.ipynb",
      "provenance": [],
      "authorship_tag": "ABX9TyPihS3dkve0y5uZlzQoWl/E"
    },
    "kernelspec": {
      "name": "python3",
      "display_name": "Python 3"
    },
    "language_info": {
      "name": "python"
    }
  },
  "cells": [
    {
      "cell_type": "markdown",
      "metadata": {
        "id": "Ky35iLoi5GNu"
      },
      "source": [
        "[Reference](https://ashwinnair1700.medium.com/regular-expressions-in-python-part-1-200fd568b56d)"
      ]
    },
    {
      "cell_type": "code",
      "metadata": {
        "id": "vQ5tAKy45CfP"
      },
      "source": [
        "import re\n",
        "\n",
        "testString = \"I like blueberries and cream\""
      ],
      "execution_count": 1,
      "outputs": []
    },
    {
      "cell_type": "code",
      "metadata": {
        "colab": {
          "base_uri": "https://localhost:8080/"
        },
        "id": "ELjWY8x75K8D",
        "outputId": "b5493463-7a86-42cc-d26c-aff451cbea76"
      },
      "source": [
        "x = re.search('and', testString)\n",
        "x"
      ],
      "execution_count": 2,
      "outputs": [
        {
          "output_type": "execute_result",
          "data": {
            "text/plain": [
              "<re.Match object; span=(19, 22), match='and'>"
            ]
          },
          "metadata": {
            "tags": []
          },
          "execution_count": 2
        }
      ]
    },
    {
      "cell_type": "code",
      "metadata": {
        "colab": {
          "base_uri": "https://localhost:8080/"
        },
        "id": "80NiVEp75N4L",
        "outputId": "353788f7-bbcb-487b-ac61-5097f491ec04"
      },
      "source": [
        "y = re.search('^I.*cream$',testString)\n",
        "y"
      ],
      "execution_count": 3,
      "outputs": [
        {
          "output_type": "execute_result",
          "data": {
            "text/plain": [
              "<re.Match object; span=(0, 28), match='I like blueberries and cream'>"
            ]
          },
          "metadata": {
            "tags": []
          },
          "execution_count": 3
        }
      ]
    },
    {
      "cell_type": "code",
      "metadata": {
        "colab": {
          "base_uri": "https://localhost:8080/"
        },
        "id": "BhiHWEVJ5OoS",
        "outputId": "6a602602-06bd-4de9-8bdb-c24868ff7a83"
      },
      "source": [
        "testString = \"I like raspberries and cream\"\n",
        "y = re.search('^I.*cream$',testString)\n",
        "y"
      ],
      "execution_count": 4,
      "outputs": [
        {
          "output_type": "execute_result",
          "data": {
            "text/plain": [
              "<re.Match object; span=(0, 28), match='I like raspberries and cream'>"
            ]
          },
          "metadata": {
            "tags": []
          },
          "execution_count": 4
        }
      ]
    },
    {
      "cell_type": "code",
      "metadata": {
        "colab": {
          "base_uri": "https://localhost:8080/"
        },
        "id": "Buv8gddf5QWg",
        "outputId": "521aa2ce-8319-40e2-fedb-3d7dd1ac0c46"
      },
      "source": [
        "if y:\n",
        "    print(\"Match found: \")\n",
        "    print(y)\n",
        "else:\n",
        "    print(\"No match found.\")"
      ],
      "execution_count": 5,
      "outputs": [
        {
          "output_type": "stream",
          "text": [
            "Match found: \n",
            "<re.Match object; span=(0, 28), match='I like raspberries and cream'>\n"
          ],
          "name": "stdout"
        }
      ]
    },
    {
      "cell_type": "code",
      "metadata": {
        "id": "CDpnxozO5TYl"
      },
      "source": [
        "'''\n",
        "Next, let's make a Python script to go through and check for input within the \"testfile.txt\":\n",
        "\n",
        "'''\n",
        "import re\n",
        "import sys\n",
        "def main():\n",
        "    f = open(\"PATH\", \"r\") #insert your path where it says PATH\n",
        "    text = f.read()\n",
        "    toSearch = input(\"Enter a term to search the text for, and I'll tell you if it's in the file or not (Enter QUIT to quit): \")\n",
        "    if toSearch == 'QUIT':\n",
        "        return sys.exit()\n",
        "    if re.search(toSearch, text):\n",
        "        print(\"Match found: \", re.search(toSearch, text))\n",
        "    else:\n",
        "        print(\"No Match found. \")\n",
        "    main()\n",
        "\n",
        "if __name__ == \"__main__\":\n",
        "    main()"
      ],
      "execution_count": 7,
      "outputs": []
    }
  ]
}