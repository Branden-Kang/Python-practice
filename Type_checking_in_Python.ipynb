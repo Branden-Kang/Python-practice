{
  "nbformat": 4,
  "nbformat_minor": 0,
  "metadata": {
    "colab": {
      "name": "Type checking in Python.ipynb",
      "provenance": [],
      "authorship_tag": "ABX9TyMSF5ahe36t106WNUevYPO4"
    },
    "kernelspec": {
      "name": "python3",
      "display_name": "Python 3"
    },
    "language_info": {
      "name": "python"
    }
  },
  "cells": [
    {
      "cell_type": "markdown",
      "metadata": {
        "id": "nZt7x4aJi5gI"
      },
      "source": [
        "[Reference](https://towardsdev.com/type-checking-in-python-in-the-right-way-5e18eba44296)"
      ]
    },
    {
      "cell_type": "code",
      "metadata": {
        "colab": {
          "base_uri": "https://localhost:8080/"
        },
        "id": "ehum8_0ti4aG",
        "outputId": "c8c7eee3-0936-421d-bd7f-4763de4c5965"
      },
      "source": [
        "variable = 'Python'\n",
        "\n",
        "if type(variable) in [set, int, str, dict, list, float, tuple, bool]:\n",
        "    print('It is a built-in type')\n",
        "else:\n",
        "    print('Maybe not a built-in?')"
      ],
      "execution_count": 1,
      "outputs": [
        {
          "output_type": "stream",
          "text": [
            "It is a built-in type\n"
          ],
          "name": "stdout"
        }
      ]
    },
    {
      "cell_type": "code",
      "metadata": {
        "id": "_FxKovdSi8sg"
      },
      "source": [
        "generator = (number for number in range(10))\n",
        "\n",
        "if type(generator) == \"<class 'generator'>\":\n",
        "    print('Are you crazy?')"
      ],
      "execution_count": 2,
      "outputs": []
    },
    {
      "cell_type": "code",
      "metadata": {
        "colab": {
          "base_uri": "https://localhost:8080/"
        },
        "id": "ihRm3e0ji-nL",
        "outputId": "aad4a7b0-0154-4676-d91d-ceb1279674dc"
      },
      "source": [
        "import types\n",
        "\n",
        "generator = (number for number in range(10))\n",
        "\n",
        "if isinstance(generator, types.GeneratorType):\n",
        "    print(\"Finally, a generator!\")"
      ],
      "execution_count": 3,
      "outputs": [
        {
          "output_type": "stream",
          "text": [
            "Finally, a generator!\n"
          ],
          "name": "stdout"
        }
      ]
    },
    {
      "cell_type": "code",
      "metadata": {
        "id": "3xUWRoJAjATS"
      },
      "source": [
        "# A function to reverse a string\n",
        "def reverse_string(text: str, upper: bool = False) -> str:\n",
        "    reversed_text: str = text[::-1]\n",
        "    if upper:\n",
        "        return reversed_text.upper()\n",
        "    return reversed_text"
      ],
      "execution_count": 4,
      "outputs": []
    }
  ]
}