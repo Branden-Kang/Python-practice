{
  "nbformat": 4,
  "nbformat_minor": 0,
  "metadata": {
    "colab": {
      "name": "Dependency Injection in Python.ipynb",
      "provenance": [],
      "authorship_tag": "ABX9TyOfE1B6vlxxVqfbyK+vLRt7"
    },
    "kernelspec": {
      "name": "python3",
      "display_name": "Python 3"
    },
    "language_info": {
      "name": "python"
    }
  },
  "cells": [
    {
      "cell_type": "markdown",
      "source": [
        "[Reference](https://towardsdev.com/dependency-injection-in-python-c4248a096800)"
      ],
      "metadata": {
        "id": "drJotGjG09v4"
      }
    },
    {
      "cell_type": "markdown",
      "source": [
        "#1. Via the constructor"
      ],
      "metadata": {
        "id": "hcRle2591ecu"
      }
    },
    {
      "cell_type": "code",
      "execution_count": 2,
      "metadata": {
        "id": "6cicq2Bzz1x4"
      },
      "outputs": [],
      "source": [
        "class Client:\n",
        "    def __init__(self, foo: Foo, bar: Bar):\n",
        "        if foo is None:\n",
        "            raise ValueError(\"foo must be provided\")\n",
        "        if bar is None:\n",
        "            raise ValueError(\"bar must be provided\")\n",
        "        self.foo = foo\n",
        "        self.bar = bar\n",
        "        \n",
        "    def do_something(self):\n",
        "        self.foo.do_something()\n",
        "        self.bar.do_something_else()"
      ]
    },
    {
      "cell_type": "markdown",
      "source": [
        "#2. Via setter method(s)"
      ],
      "metadata": {
        "id": "l0g_Enrz1gF6"
      }
    },
    {
      "cell_type": "code",
      "source": [
        "class Client:\n",
        "    def __init__(self):\n",
        "        self.foo = None\n",
        "        self.bar = None\n",
        "\n",
        "    def set_foo(self, foo: Foo):\n",
        "        if foo is None:\n",
        "            raise ValueError(\"foo must be provided\")\n",
        "        self.foo = foo\n",
        "\n",
        "    def set_bar(self, bar: Bar):\n",
        "        if bar is None:\n",
        "            raise ValueError(\"foo must be provided\")\n",
        "        self.bar = bar\n",
        "\n",
        "    def validate_dependencies(self):\n",
        "        if self.foo is None:\n",
        "            raise ValueError(\"foo has not been set\")\n",
        "        if self.bar is None:\n",
        "            raise ValueError(\"bar has not been set\")\n",
        "\n",
        "    def do_something(self):\n",
        "        self.validate_dependencies()\n",
        "\n",
        "        self.foo.do_something()\n",
        "        self.bar.do_something_else()"
      ],
      "metadata": {
        "id": "IsBH9vEY1dbk"
      },
      "execution_count": 3,
      "outputs": []
    },
    {
      "cell_type": "markdown",
      "source": [
        "#3. Via the method to be invoked"
      ],
      "metadata": {
        "id": "IAVOl_5L1lVr"
      }
    },
    {
      "cell_type": "code",
      "source": [
        "class Client:\n",
        "    def do_something(self, foo: Foo, bar: Bar):\n",
        "        if foo is None:\n",
        "            raise ValueError(\"foo must be provided\")\n",
        "        if bar is None:\n",
        "            raise ValueError(\"bar must be provided\")\n",
        "        \n",
        "        foo.do_something()\n",
        "        bar.do_something_else()"
      ],
      "metadata": {
        "id": "G4v0zSsM1kLi"
      },
      "execution_count": 4,
      "outputs": []
    },
    {
      "cell_type": "code",
      "source": [
        "from pymongo.mongo_client import MongoClient\n",
        "\n",
        "\n",
        "class ApiClient:\n",
        "    def __init__(self, host: str, port: int, database: str, collection: str):\n",
        "        self.mongo_client = MongoClient(host, port)\n",
        "        self.database = self.mongo_client.get_database(database)\n",
        "        self.collection = self.database.get_collection(collection)\n",
        "\n",
        "    def get_message(self, message_id: str) -> str:\n",
        "        result = self.collection.find_one({\"message_id\": message_id})\n",
        "        return result.get(\"message\")"
      ],
      "metadata": {
        "id": "y5Q_8GxL1ng0"
      },
      "execution_count": 5,
      "outputs": []
    },
    {
      "cell_type": "code",
      "source": [
        "from unittest.mock import MagicMock, call\n",
        "\n",
        "import pytest\n",
        "\n",
        "from api_client import ApiClient\n",
        "\n",
        "\n",
        "class TestApiClient:\n",
        "    def test_get_message_should_return_correct_message(\n",
        "        self, mock_mongo_client: MagicMock\n",
        "    ):\n",
        "        mock_collection = MagicMock()\n",
        "        mock_collection.find_one.return_value = {\n",
        "            \"message_id\": \"some_id\",\n",
        "            \"message\": \"some_message\",\n",
        "        }\n",
        "        mock_database = MagicMock()\n",
        "        mock_database.get_collection.return_value = mock_collection\n",
        "        mock_mongo_client.return_value.get_database.return_value = mock_database\n",
        "\n",
        "        api_client = ApiClient(\n",
        "            host=\"some_hostname\",\n",
        "            port=4242,\n",
        "            database=\"some_db\",\n",
        "            collection=\"some_collection\",\n",
        "        )\n",
        "\n",
        "        message = api_client.get_message(message_id=\"some_id\")\n",
        "\n",
        "        assert message == \"some_message\"\n",
        "\n",
        "    @pytest.fixture\n",
        "    def mock_mongo_client(self, mocker) -> MagicMock:\n",
        "        return mocker.patch(\"api_client.MongoClient\")"
      ],
      "metadata": {
        "id": "xn7cQ9Mo1puR"
      },
      "execution_count": 6,
      "outputs": []
    },
    {
      "cell_type": "code",
      "source": [
        "from pymongo.collection import Collection\n",
        "\n",
        "\n",
        "class ApiClient:\n",
        "    def __init__(self, message_collection: Collection):\n",
        "        self.message_collection = message_collection\n",
        "\n",
        "    def get_message(self, message_id: str) -> str:\n",
        "        result = self.message_collection.find_one({\"message_id\": message_id})\n",
        "        return result.get(\"message\")"
      ],
      "metadata": {
        "id": "ihCYYpWT1r6g"
      },
      "execution_count": 7,
      "outputs": []
    },
    {
      "cell_type": "code",
      "source": [
        "from unittest.mock import MagicMock, call\n",
        "\n",
        "from api_client import ApiClient\n",
        "\n",
        "\n",
        "class TestApiClient:\n",
        "    def test_get_message_should_return_correct_message(self):\n",
        "        mock_collection = MagicMock()\n",
        "        mock_collection.find_one.return_value = {\n",
        "            \"message_id\": \"some_id\",\n",
        "            \"message\": \"some_message\",\n",
        "        }\n",
        "\n",
        "        api_client = ApiClient(message_collection=mock_collection)\n",
        "        message = api_client.get_message(message_id=\"some_id\")\n",
        "\n",
        "        assert message == \"some_message\"\n",
        "\n",
        "    def test_get_message_should_call_find_one_on_mongo_client_correctly(self):\n",
        "        mock_collection = MagicMock()\n",
        "\n",
        "        api_client = ApiClient(message_collection=mock_collection)\n",
        "        api_client.get_message(message_id=\"some_id\")\n",
        "\n",
        "        assert mock_collection.find_one.call_count == 1\n",
        "        assert mock_collection.find_one.call_args == call({\"message_id\": \"some_id\"})"
      ],
      "metadata": {
        "id": "QXrccOXR1uIz"
      },
      "execution_count": 9,
      "outputs": []
    },
    {
      "cell_type": "code",
      "source": [
        "from pymongo.mongo_client import MongoClient\n",
        "\n",
        "from api_client import ApiClient\n",
        "\n",
        "\n",
        "def main():\n",
        "    host = \"some_host\"          # these values are hardcoded\n",
        "    port = 4242                 # with the assumption that\n",
        "    database = \"some_database\"  # we can get these\n",
        "    collection = \"messages\"     # from argparse or something\n",
        "\n",
        "    mongo_client = MongoClient(host, port)\n",
        "    database = mongo_client.get_database(database)\n",
        "    message_collection = database.get_collection(collection)\n",
        "\n",
        "    api_client = ApiClient(message_collection=message_collection)\n",
        "\n",
        "    # api_client.get_message(...)\n",
        "\n",
        "\n",
        "if __name__ == \"__main__\":\n",
        "    main()"
      ],
      "metadata": {
        "id": "1QSNm_w61xFN"
      },
      "execution_count": 10,
      "outputs": []
    }
  ]
}