{
  "nbformat": 4,
  "nbformat_minor": 0,
  "metadata": {
    "colab": {
      "name": "Python Features You Probably Don’t Know About, But Should.ipynb",
      "provenance": [],
      "authorship_tag": "ABX9TyNQXTP9PcY7lfI2eVZucyJx"
    },
    "kernelspec": {
      "name": "python3",
      "display_name": "Python 3"
    },
    "language_info": {
      "name": "python"
    }
  },
  "cells": [
    {
      "cell_type": "markdown",
      "metadata": {
        "id": "x04DmNkWM_hQ"
      },
      "source": [
        "[Reference](https://levelup.gitconnected.com/python-features-you-probably-dont-know-about-but-should-a66c6b30c528)"
      ]
    },
    {
      "cell_type": "markdown",
      "metadata": {
        "id": "EDuquyrmNCFx"
      },
      "source": [
        "# 1. Named Tuples"
      ]
    },
    {
      "cell_type": "code",
      "metadata": {
        "colab": {
          "base_uri": "https://localhost:8080/"
        },
        "id": "KbQK13xYM8yb",
        "outputId": "e068411b-fe20-4ffd-d7e1-198237649a34"
      },
      "source": [
        "from collections import namedtuple\n",
        "\n",
        "Coordinate = namedtuple(\"Coordinate\", \"longitude latitude\")\n",
        "location = Coordinate(90, 37.5)\n",
        "print(\"location:\", location)\n",
        "\n",
        "# accessing attributes with dot notation\n",
        "print(location.longitude, location.latitude)"
      ],
      "execution_count": 1,
      "outputs": [
        {
          "output_type": "stream",
          "text": [
            "location: Coordinate(longitude=90, latitude=37.5)\n",
            "90 37.5\n"
          ],
          "name": "stdout"
        }
      ]
    },
    {
      "cell_type": "markdown",
      "metadata": {
        "id": "tTjipt4CNEPm"
      },
      "source": [
        "# 2. For...Else Clause"
      ]
    },
    {
      "cell_type": "code",
      "metadata": {
        "colab": {
          "base_uri": "https://localhost:8080/"
        },
        "id": "wp_0QSnjNDYN",
        "outputId": "2e30d96e-3270-4583-cc7f-08a81888dbe4"
      },
      "source": [
        "#case 1\n",
        "for letter in 'foo':\n",
        "    print(letter)\n",
        "else:\n",
        "    print(\"All letters have been printed\")\n",
        "\n",
        "#case 2\n",
        "for letter in 'foo':\n",
        "    print(letter)\n",
        "    if letter == 'o':\n",
        "        break\n",
        "else:\n",
        "    print(\"Letters have been printed\")"
      ],
      "execution_count": 2,
      "outputs": [
        {
          "output_type": "stream",
          "text": [
            "f\n",
            "o\n",
            "o\n",
            "All letters have been printed\n",
            "f\n",
            "o\n"
          ],
          "name": "stdout"
        }
      ]
    },
    {
      "cell_type": "markdown",
      "metadata": {
        "id": "RucTVy6CNHwP"
      },
      "source": [
        "# 3. Argument Unpacking"
      ]
    },
    {
      "cell_type": "code",
      "metadata": {
        "colab": {
          "base_uri": "https://localhost:8080/"
        },
        "id": "7HTZji0uNF19",
        "outputId": "80529c61-88be-48f8-b069-19aabf8938b3"
      },
      "source": [
        "def total(a, b, c):\n",
        "    return a+b+c\n",
        "    \n",
        "list1 = [1,2,3]\n",
        "print(total(*list1))"
      ],
      "execution_count": 4,
      "outputs": [
        {
          "output_type": "stream",
          "text": [
            "6\n"
          ],
          "name": "stdout"
        }
      ]
    },
    {
      "cell_type": "markdown",
      "metadata": {
        "id": "SaasBj-kNLB_"
      },
      "source": [
        "# 4. Print Better With pprint"
      ]
    },
    {
      "cell_type": "code",
      "metadata": {
        "colab": {
          "base_uri": "https://localhost:8080/"
        },
        "id": "j6E_saFBNI2B",
        "outputId": "d113155e-0224-48dc-c801-b44a46c1d723"
      },
      "source": [
        "from pprint import pprint\n",
        "response = [ \n",
        "    {\"status\": 200 , \"result\": [1,2,3,4,5]},\n",
        "    {\"status\": \"OK\", \"result\": ['Hello', 'World']},\n",
        "    {\"status\": 404, \"result\": \"Data not found\"}\n",
        "]\n",
        "\n",
        "#print with print function\n",
        "print(response)\n",
        "\n",
        "#print with pprint function\n",
        "pprint(response)"
      ],
      "execution_count": 5,
      "outputs": [
        {
          "output_type": "stream",
          "text": [
            "[{'status': 200, 'result': [1, 2, 3, 4, 5]}, {'status': 'OK', 'result': ['Hello', 'World']}, {'status': 404, 'result': 'Data not found'}]\n",
            "[{'result': [1, 2, 3, 4, 5], 'status': 200},\n",
            " {'result': ['Hello', 'World'], 'status': 'OK'},\n",
            " {'result': 'Data not found', 'status': 404}]\n"
          ],
          "name": "stdout"
        }
      ]
    },
    {
      "cell_type": "markdown",
      "metadata": {
        "id": "a27jshnRNNsg"
      },
      "source": [
        "# 5. Enumeration with enum"
      ]
    },
    {
      "cell_type": "code",
      "metadata": {
        "colab": {
          "base_uri": "https://localhost:8080/"
        },
        "id": "MDg7YvoRNMld",
        "outputId": "cc2d6ad4-4052-436b-ba0f-1aaca717fbb6"
      },
      "source": [
        "from enum import Enum\n",
        "Season = Enum('Season', 'winter summer spring autumn')\n",
        "print(Season.summer.name)\n",
        "print(Season.summer.value)\n",
        "\n",
        "#using class\n",
        "class Season(Enum):\n",
        "    winter = 1\n",
        "    summer = 2\n",
        "    spring = 3\n",
        "    autumn = 4\n",
        "print(Season.winter.name)\n",
        "print(Season.winter.value)"
      ],
      "execution_count": 6,
      "outputs": [
        {
          "output_type": "stream",
          "text": [
            "summer\n",
            "2\n",
            "winter\n",
            "1\n"
          ],
          "name": "stdout"
        }
      ]
    }
  ]
}