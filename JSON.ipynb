{
  "nbformat": 4,
  "nbformat_minor": 0,
  "metadata": {
    "colab": {
      "name": "JSON.ipynb",
      "provenance": [],
      "authorship_tag": "ABX9TyMpZIgcES5FZrA0hFh7Obkq"
    },
    "kernelspec": {
      "name": "python3",
      "display_name": "Python 3"
    }
  },
  "cells": [
    {
      "cell_type": "markdown",
      "metadata": {
        "id": "qfo73jAn-Lc8"
      },
      "source": [
        "[Reference](https://medium.com/python-pandemonium/json-the-python-way-91aac95d4041)"
      ]
    },
    {
      "cell_type": "code",
      "metadata": {
        "colab": {
          "base_uri": "https://localhost:8080/",
          "height": 88
        },
        "id": "vpAKSsSb3Nia",
        "outputId": "343fef34-a9e7-40ad-ca36-b74a898ce7aa"
      },
      "source": [
        "import json\n",
        "json.dumps({\n",
        "        \"name\": \"Foo Bar\",\n",
        "        \"age\": 78,\n",
        "        \"friends\": [\"Jane\",\"John\"],\n",
        "        \"balance\": 345.80,\n",
        "        \"other_names\":(\"Doe\",\"Joe\"),\n",
        "        \"active\":True,\n",
        "        \"spouse\":None\n",
        "    }, sort_keys=True, indent=4)"
      ],
      "execution_count": 1,
      "outputs": [
        {
          "output_type": "execute_result",
          "data": {
            "application/vnd.google.colaboratory.intrinsic+json": {
              "type": "string"
            },
            "text/plain": [
              "'{\\n    \"active\": true,\\n    \"age\": 78,\\n    \"balance\": 345.8,\\n    \"friends\": [\\n        \"Jane\",\\n        \"John\"\\n    ],\\n    \"name\": \"Foo Bar\",\\n    \"other_names\": [\\n        \"Doe\",\\n        \"Joe\"\\n    ],\\n    \"spouse\": null\\n}'"
            ]
          },
          "metadata": {
            "tags": []
          },
          "execution_count": 1
        }
      ]
    },
    {
      "cell_type": "code",
      "metadata": {
        "id": "KbbBlXYp-fOL"
      },
      "source": [
        "import json\n",
        "with open('user.json','w') as file:\n",
        "         json.dump({\n",
        "            \"name\": \"Foo Bar\",\n",
        "            \"age\": 78,\n",
        "            \"friends\": [\"Jane\",\"John\"],\n",
        "            \"balance\": 345.80,\n",
        "            \"other_names\":(\"Doe\",\"Joe\"),\n",
        "            \"active\":True,\n",
        "            \"spouse\":None\n",
        "        }, file, sort_keys=True, indent=4)"
      ],
      "execution_count": 2,
      "outputs": []
    },
    {
      "cell_type": "code",
      "metadata": {
        "colab": {
          "base_uri": "https://localhost:8080/"
        },
        "id": "8awvTXAm-jIE",
        "outputId": "7916324c-de0e-487b-a941-2c529d0ed87e"
      },
      "source": [
        "import json\n",
        "json.loads('{ \"active\": true, \"age\": 78, \"balance\": 345.8,   \"friends\": [\"Jane\",\"John\"], \"name\": \"Foo Bar\", \"other_names\": [\"Doe\",\"Joe\"],\"spouse\":null}')"
      ],
      "execution_count": 3,
      "outputs": [
        {
          "output_type": "execute_result",
          "data": {
            "text/plain": [
              "{'active': True,\n",
              " 'age': 78,\n",
              " 'balance': 345.8,\n",
              " 'friends': ['Jane', 'John'],\n",
              " 'name': 'Foo Bar',\n",
              " 'other_names': ['Doe', 'Joe'],\n",
              " 'spouse': None}"
            ]
          },
          "metadata": {
            "tags": []
          },
          "execution_count": 3
        }
      ]
    },
    {
      "cell_type": "code",
      "metadata": {
        "colab": {
          "base_uri": "https://localhost:8080/"
        },
        "id": "Keu-F1Lf-ngF",
        "outputId": "35100dd8-7ab5-4d79-aa96-6abd2e47068c"
      },
      "source": [
        "import json\n",
        "with open('user.json', 'r') as file:\n",
        "        user_data = json.load(file)\n",
        "print(user_data)"
      ],
      "execution_count": 4,
      "outputs": [
        {
          "output_type": "stream",
          "text": [
            "{'active': True, 'age': 78, 'balance': 345.8, 'friends': ['Jane', 'John'], 'name': 'Foo Bar', 'other_names': ['Doe', 'Joe'], 'spouse': None}\n"
          ],
          "name": "stdout"
        }
      ]
    },
    {
      "cell_type": "code",
      "metadata": {
        "id": "y_Dc1I76-qK6"
      },
      "source": [
        "class User:\n",
        "   \"\"\"\n",
        "   Custom User Class\n",
        "   \"\"\"\n",
        "   def __init__(self,name,age,active,balance,other_names,friends,spouse):\n",
        "        self.name = name\n",
        "        self.age = age\n",
        "        self.active = active\n",
        "        self.balance = balance\n",
        "        self.other_names = other_names\n",
        "        self.friends = friends\n",
        "        self.spouse = spouse\n",
        "        \n",
        "   def __str__(self):\n",
        "        return self.name"
      ],
      "execution_count": 6,
      "outputs": []
    },
    {
      "cell_type": "code",
      "metadata": {
        "colab": {
          "base_uri": "https://localhost:8080/",
          "height": 375
        },
        "id": "AAVyp2FJ-ryt",
        "outputId": "adc50c9a-0f91-468e-bf49-317874f15b44"
      },
      "source": [
        "new_user = User(\n",
        "        name = \"Foo Bar\",\n",
        "        age = 78,\n",
        "        friends = [\"Jane\",\"John\"],\n",
        "        balance = 345.80,\n",
        "        other_names = (\"Doe\",\"Joe\"),\n",
        "        active = True,\n",
        "        spouse = None)\n",
        "json.dumps(new_user)"
      ],
      "execution_count": 10,
      "outputs": [
        {
          "output_type": "error",
          "ename": "TypeError",
          "evalue": "ignored",
          "traceback": [
            "\u001b[0;31m---------------------------------------------------------------------------\u001b[0m",
            "\u001b[0;31mTypeError\u001b[0m                                 Traceback (most recent call last)",
            "\u001b[0;32m<ipython-input-10-1a065885f013>\u001b[0m in \u001b[0;36m<module>\u001b[0;34m()\u001b[0m\n\u001b[1;32m      7\u001b[0m         \u001b[0mactive\u001b[0m \u001b[0;34m=\u001b[0m \u001b[0;32mTrue\u001b[0m\u001b[0;34m,\u001b[0m\u001b[0;34m\u001b[0m\u001b[0;34m\u001b[0m\u001b[0m\n\u001b[1;32m      8\u001b[0m         spouse = None)\n\u001b[0;32m----> 9\u001b[0;31m \u001b[0mjson\u001b[0m\u001b[0;34m.\u001b[0m\u001b[0mdumps\u001b[0m\u001b[0;34m(\u001b[0m\u001b[0mnew_user\u001b[0m\u001b[0;34m)\u001b[0m\u001b[0;34m\u001b[0m\u001b[0;34m\u001b[0m\u001b[0m\n\u001b[0m",
            "\u001b[0;32m/usr/lib/python3.7/json/__init__.py\u001b[0m in \u001b[0;36mdumps\u001b[0;34m(obj, skipkeys, ensure_ascii, check_circular, allow_nan, cls, indent, separators, default, sort_keys, **kw)\u001b[0m\n\u001b[1;32m    229\u001b[0m         \u001b[0mcls\u001b[0m \u001b[0;32mis\u001b[0m \u001b[0;32mNone\u001b[0m \u001b[0;32mand\u001b[0m \u001b[0mindent\u001b[0m \u001b[0;32mis\u001b[0m \u001b[0;32mNone\u001b[0m \u001b[0;32mand\u001b[0m \u001b[0mseparators\u001b[0m \u001b[0;32mis\u001b[0m \u001b[0;32mNone\u001b[0m \u001b[0;32mand\u001b[0m\u001b[0;34m\u001b[0m\u001b[0;34m\u001b[0m\u001b[0m\n\u001b[1;32m    230\u001b[0m         default is None and not sort_keys and not kw):\n\u001b[0;32m--> 231\u001b[0;31m         \u001b[0;32mreturn\u001b[0m \u001b[0m_default_encoder\u001b[0m\u001b[0;34m.\u001b[0m\u001b[0mencode\u001b[0m\u001b[0;34m(\u001b[0m\u001b[0mobj\u001b[0m\u001b[0;34m)\u001b[0m\u001b[0;34m\u001b[0m\u001b[0;34m\u001b[0m\u001b[0m\n\u001b[0m\u001b[1;32m    232\u001b[0m     \u001b[0;32mif\u001b[0m \u001b[0mcls\u001b[0m \u001b[0;32mis\u001b[0m \u001b[0;32mNone\u001b[0m\u001b[0;34m:\u001b[0m\u001b[0;34m\u001b[0m\u001b[0;34m\u001b[0m\u001b[0m\n\u001b[1;32m    233\u001b[0m         \u001b[0mcls\u001b[0m \u001b[0;34m=\u001b[0m \u001b[0mJSONEncoder\u001b[0m\u001b[0;34m\u001b[0m\u001b[0;34m\u001b[0m\u001b[0m\n",
            "\u001b[0;32m/usr/lib/python3.7/json/encoder.py\u001b[0m in \u001b[0;36mencode\u001b[0;34m(self, o)\u001b[0m\n\u001b[1;32m    197\u001b[0m         \u001b[0;31m# exceptions aren't as detailed.  The list call should be roughly\u001b[0m\u001b[0;34m\u001b[0m\u001b[0;34m\u001b[0m\u001b[0;34m\u001b[0m\u001b[0m\n\u001b[1;32m    198\u001b[0m         \u001b[0;31m# equivalent to the PySequence_Fast that ''.join() would do.\u001b[0m\u001b[0;34m\u001b[0m\u001b[0;34m\u001b[0m\u001b[0;34m\u001b[0m\u001b[0m\n\u001b[0;32m--> 199\u001b[0;31m         \u001b[0mchunks\u001b[0m \u001b[0;34m=\u001b[0m \u001b[0mself\u001b[0m\u001b[0;34m.\u001b[0m\u001b[0miterencode\u001b[0m\u001b[0;34m(\u001b[0m\u001b[0mo\u001b[0m\u001b[0;34m,\u001b[0m \u001b[0m_one_shot\u001b[0m\u001b[0;34m=\u001b[0m\u001b[0;32mTrue\u001b[0m\u001b[0;34m)\u001b[0m\u001b[0;34m\u001b[0m\u001b[0;34m\u001b[0m\u001b[0m\n\u001b[0m\u001b[1;32m    200\u001b[0m         \u001b[0;32mif\u001b[0m \u001b[0;32mnot\u001b[0m \u001b[0misinstance\u001b[0m\u001b[0;34m(\u001b[0m\u001b[0mchunks\u001b[0m\u001b[0;34m,\u001b[0m \u001b[0;34m(\u001b[0m\u001b[0mlist\u001b[0m\u001b[0;34m,\u001b[0m \u001b[0mtuple\u001b[0m\u001b[0;34m)\u001b[0m\u001b[0;34m)\u001b[0m\u001b[0;34m:\u001b[0m\u001b[0;34m\u001b[0m\u001b[0;34m\u001b[0m\u001b[0m\n\u001b[1;32m    201\u001b[0m             \u001b[0mchunks\u001b[0m \u001b[0;34m=\u001b[0m \u001b[0mlist\u001b[0m\u001b[0;34m(\u001b[0m\u001b[0mchunks\u001b[0m\u001b[0;34m)\u001b[0m\u001b[0;34m\u001b[0m\u001b[0;34m\u001b[0m\u001b[0m\n",
            "\u001b[0;32m/usr/lib/python3.7/json/encoder.py\u001b[0m in \u001b[0;36miterencode\u001b[0;34m(self, o, _one_shot)\u001b[0m\n\u001b[1;32m    255\u001b[0m                 \u001b[0mself\u001b[0m\u001b[0;34m.\u001b[0m\u001b[0mkey_separator\u001b[0m\u001b[0;34m,\u001b[0m \u001b[0mself\u001b[0m\u001b[0;34m.\u001b[0m\u001b[0mitem_separator\u001b[0m\u001b[0;34m,\u001b[0m \u001b[0mself\u001b[0m\u001b[0;34m.\u001b[0m\u001b[0msort_keys\u001b[0m\u001b[0;34m,\u001b[0m\u001b[0;34m\u001b[0m\u001b[0;34m\u001b[0m\u001b[0m\n\u001b[1;32m    256\u001b[0m                 self.skipkeys, _one_shot)\n\u001b[0;32m--> 257\u001b[0;31m         \u001b[0;32mreturn\u001b[0m \u001b[0m_iterencode\u001b[0m\u001b[0;34m(\u001b[0m\u001b[0mo\u001b[0m\u001b[0;34m,\u001b[0m \u001b[0;36m0\u001b[0m\u001b[0;34m)\u001b[0m\u001b[0;34m\u001b[0m\u001b[0;34m\u001b[0m\u001b[0m\n\u001b[0m\u001b[1;32m    258\u001b[0m \u001b[0;34m\u001b[0m\u001b[0m\n\u001b[1;32m    259\u001b[0m def _make_iterencode(markers, _default, _encoder, _indent, _floatstr,\n",
            "\u001b[0;32m/usr/lib/python3.7/json/encoder.py\u001b[0m in \u001b[0;36mdefault\u001b[0;34m(self, o)\u001b[0m\n\u001b[1;32m    177\u001b[0m \u001b[0;34m\u001b[0m\u001b[0m\n\u001b[1;32m    178\u001b[0m         \"\"\"\n\u001b[0;32m--> 179\u001b[0;31m         raise TypeError(f'Object of type {o.__class__.__name__} '\n\u001b[0m\u001b[1;32m    180\u001b[0m                         f'is not JSON serializable')\n\u001b[1;32m    181\u001b[0m \u001b[0;34m\u001b[0m\u001b[0m\n",
            "\u001b[0;31mTypeError\u001b[0m: Object of type User is not JSON serializable"
          ]
        }
      ]
    },
    {
      "cell_type": "code",
      "metadata": {
        "id": "qvLKLCV8-1Fb"
      },
      "source": [
        "def convert_to_dict(obj):\n",
        "  \"\"\"\n",
        "  A function takes in a custom object and returns a dictionary representation of the object.\n",
        "  This dict representation includes meta data such as the object's module and class names.\n",
        "  \"\"\"\n",
        "  \n",
        "  #  Populate the dictionary with object meta data \n",
        "  obj_dict = {\n",
        "    \"__class__\": obj.__class__.__name__,\n",
        "    \"__module__\": obj.__module__\n",
        "  }\n",
        "  \n",
        "  #  Populate the dictionary with object properties\n",
        "  obj_dict.update(obj.__dict__)\n",
        "  \n",
        "  return obj_dict"
      ],
      "execution_count": 11,
      "outputs": []
    },
    {
      "cell_type": "code",
      "metadata": {
        "colab": {
          "base_uri": "https://localhost:8080/"
        },
        "id": "a51wg-TC_El9",
        "outputId": "a86e7026-b694-44a3-c1b0-b58a9d01ed35"
      },
      "source": [
        "data = json.dumps(new_user,default=convert_to_dict,indent=4, sort_keys=True)\n",
        "print(data)"
      ],
      "execution_count": 12,
      "outputs": [
        {
          "output_type": "stream",
          "text": [
            "{\n",
            "    \"__class__\": \"User\",\n",
            "    \"__module__\": \"__main__\",\n",
            "    \"active\": true,\n",
            "    \"age\": 78,\n",
            "    \"balance\": 345.8,\n",
            "    \"friends\": [\n",
            "        \"Jane\",\n",
            "        \"John\"\n",
            "    ],\n",
            "    \"name\": \"Foo Bar\",\n",
            "    \"other_names\": [\n",
            "        \"Doe\",\n",
            "        \"Joe\"\n",
            "    ],\n",
            "    \"spouse\": null\n",
            "}\n"
          ],
          "name": "stdout"
        }
      ]
    },
    {
      "cell_type": "code",
      "metadata": {
        "colab": {
          "base_uri": "https://localhost:8080/"
        },
        "id": "e16iKotX_ILC",
        "outputId": "a3fc2de2-e50f-4935-e80c-e3208a5e4d92"
      },
      "source": [
        "import json\n",
        "user_data = json.loads('{\"__class__\": \"User\", \"__module__\": \"__main__\", \"name\": \"Foo Bar\", \"age\": 78, \"active\": true, \"balance\": 345.8, \"other_names\": [\"Doe\", \"Joe\"], \"friends\": [\"Jane\", \"John\"], \"spouse\": null}')\n",
        "type(user_data)\n",
        "print(user_data)"
      ],
      "execution_count": 13,
      "outputs": [
        {
          "output_type": "stream",
          "text": [
            "{'__class__': 'User', '__module__': '__main__', 'name': 'Foo Bar', 'age': 78, 'active': True, 'balance': 345.8, 'other_names': ['Doe', 'Joe'], 'friends': ['Jane', 'John'], 'spouse': None}\n"
          ],
          "name": "stdout"
        }
      ]
    },
    {
      "cell_type": "code",
      "metadata": {
        "colab": {
          "base_uri": "https://localhost:8080/"
        },
        "id": "VZzMTlR1_MDg",
        "outputId": "d5a38874-8ae1-48fd-b5fa-a3d34c674ddb"
      },
      "source": [
        "user_data"
      ],
      "execution_count": 15,
      "outputs": [
        {
          "output_type": "execute_result",
          "data": {
            "text/plain": [
              "{'__class__': 'User',\n",
              " '__module__': '__main__',\n",
              " 'active': True,\n",
              " 'age': 78,\n",
              " 'balance': 345.8,\n",
              " 'friends': ['Jane', 'John'],\n",
              " 'name': 'Foo Bar',\n",
              " 'other_names': ['Doe', 'Joe'],\n",
              " 'spouse': None}"
            ]
          },
          "metadata": {
            "tags": []
          },
          "execution_count": 15
        }
      ]
    },
    {
      "cell_type": "code",
      "metadata": {
        "id": "BwCaciqS_NqC"
      },
      "source": [
        "def dict_to_obj(our_dict):\n",
        "    \"\"\"\n",
        "    Function that takes in a dict and returns a custom object associated with the dict.\n",
        "    This function makes use of the \"__module__\" and \"__class__\" metadata in the dictionary\n",
        "    to know which object type to create.\n",
        "    \"\"\"\n",
        "    if \"__class__\" in our_dict:\n",
        "        # Pop ensures we remove metadata from the dict to leave only the instance arguments\n",
        "        class_name = our_dict.pop(\"__class__\")\n",
        "        \n",
        "        # Get the module name from the dict and import it\n",
        "        module_name = our_dict.pop(\"__module__\")\n",
        "        \n",
        "        # We use the built in __import__ function since the module name is not yet known at runtime\n",
        "        module = __import__(module_name)\n",
        "        \n",
        "        # Get the class from the module\n",
        "        class_ = getattr(module,class_name)\n",
        "        \n",
        "        # Use dictionary unpacking to initialize the object\n",
        "        obj = class_(**our_dict)\n",
        "    else:\n",
        "        obj = our_dict\n",
        "    return obj"
      ],
      "execution_count": 16,
      "outputs": []
    },
    {
      "cell_type": "code",
      "metadata": {
        "colab": {
          "base_uri": "https://localhost:8080/"
        },
        "id": "wf31uEj__Uja",
        "outputId": "3757e817-1207-4bd9-91ef-f23bcca36e40"
      },
      "source": [
        "new_object = json.loads('{\"__class__\": \"User\", \"__module__\": \"__main__\", \"name\": \"Foo Bar\", \"age\": 78, \"active\": true, \"balance\": 345.8, \"other_names\": [\"Doe\", \"Joe\"], \"friends\": [\"Jane\", \"John\"], \"spouse\": null}',object_hook=dict_to_obj)\n",
        "type(new_object)"
      ],
      "execution_count": 17,
      "outputs": [
        {
          "output_type": "execute_result",
          "data": {
            "text/plain": [
              "__main__.User"
            ]
          },
          "metadata": {
            "tags": []
          },
          "execution_count": 17
        }
      ]
    }
  ]
}