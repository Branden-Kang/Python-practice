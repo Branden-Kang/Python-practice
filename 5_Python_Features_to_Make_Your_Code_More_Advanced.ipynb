{
  "nbformat": 4,
  "nbformat_minor": 0,
  "metadata": {
    "colab": {
      "provenance": [],
      "authorship_tag": "ABX9TyNdlNbFzzpIxSaZHC2DcjtS"
    },
    "kernelspec": {
      "name": "python3",
      "display_name": "Python 3"
    },
    "language_info": {
      "name": "python"
    }
  },
  "cells": [
    {
      "cell_type": "markdown",
      "source": [
        "[Reference](https://medium.com/@alexroz/5-python-features-to-make-your-code-more-advanced-533f1153c688)"
      ],
      "metadata": {
        "id": "8SwfGUt24PP3"
      }
    },
    {
      "cell_type": "markdown",
      "source": [
        "# 1. Lists"
      ],
      "metadata": {
        "id": "n65IO4SH4qUZ"
      }
    },
    {
      "cell_type": "code",
      "execution_count": 1,
      "metadata": {
        "id": "5LgYDe0e4Ffr"
      },
      "outputs": [],
      "source": [
        "l = list()\n",
        "l = []"
      ]
    },
    {
      "cell_type": "code",
      "source": [
        "for i in range(10):\n",
        "    l.append(i)"
      ],
      "metadata": {
        "id": "y4wY98Hf4rmm"
      },
      "execution_count": 2,
      "outputs": []
    },
    {
      "cell_type": "code",
      "source": [
        "L = []\n",
        "for i in range(10):\n",
        "    l = []\n",
        "    for j in range(5):\n",
        "        l.append(i)\n",
        "    L.append(l)"
      ],
      "metadata": {
        "id": "VcHHrWry4uHa"
      },
      "execution_count": 3,
      "outputs": []
    },
    {
      "cell_type": "code",
      "source": [
        "l = [i for i in range(10)]\n",
        "l = [[i for _ in range(5)] for i in range(10)]"
      ],
      "metadata": {
        "id": "uzJxgDeq4uTA"
      },
      "execution_count": 5,
      "outputs": []
    },
    {
      "cell_type": "markdown",
      "source": [
        "# 2. Sets"
      ],
      "metadata": {
        "id": "Pnhutrxu4wNf"
      }
    },
    {
      "cell_type": "code",
      "source": [
        "l = [1,1,2,2,3,4,5,0]\n",
        "l = list(set(l))\n",
        "l"
      ],
      "metadata": {
        "colab": {
          "base_uri": "https://localhost:8080/"
        },
        "id": "AbQ8f7Sl4vLc",
        "outputId": "b8cc753d-43ea-4325-f552-e96fa1b417aa"
      },
      "execution_count": 6,
      "outputs": [
        {
          "output_type": "execute_result",
          "data": {
            "text/plain": [
              "[0, 1, 2, 3, 4, 5]"
            ]
          },
          "metadata": {},
          "execution_count": 6
        }
      ]
    },
    {
      "cell_type": "markdown",
      "source": [
        "# 3. Dynamic typing"
      ],
      "metadata": {
        "id": "lZBJrcHn44hm"
      }
    },
    {
      "cell_type": "code",
      "source": [
        "l = [1,2,3]\n",
        "l[0] = 'a'"
      ],
      "metadata": {
        "id": "yvz-xzXo43KD"
      },
      "execution_count": 7,
      "outputs": []
    },
    {
      "cell_type": "markdown",
      "source": [
        "# 4. Assertion"
      ],
      "metadata": {
        "id": "Csv9y0Nl47ZT"
      }
    },
    {
      "cell_type": "code",
      "source": [
        "A = [1,0,0,16]\n",
        "B = [23,32,2,4]\n",
        "for a,b in zip(A,B):\n",
        "    if a==b**2:\n",
        "        print(a,b, 'Error!')"
      ],
      "metadata": {
        "colab": {
          "base_uri": "https://localhost:8080/"
        },
        "id": "Dzeg9Nuc46Et",
        "outputId": "5288d6a4-07c6-4c67-c934-3e890a2d66ef"
      },
      "execution_count": 10,
      "outputs": [
        {
          "output_type": "stream",
          "name": "stdout",
          "text": [
            "16 4 Error!\n"
          ]
        }
      ]
    },
    {
      "cell_type": "markdown",
      "source": [
        "# 5. Packing"
      ],
      "metadata": {
        "id": "qARzrOxP4_tf"
      }
    },
    {
      "cell_type": "code",
      "source": [
        "def F(a, b, c=3, d=1, k=1):\n",
        "    return (a*b*c/d)**k"
      ],
      "metadata": {
        "id": "1m5jORu-48VV"
      },
      "execution_count": 11,
      "outputs": []
    },
    {
      "cell_type": "code",
      "source": [
        "F(10, 2)"
      ],
      "metadata": {
        "colab": {
          "base_uri": "https://localhost:8080/"
        },
        "id": "MMJUn-fz5Bg1",
        "outputId": "9e79684c-0855-4fe2-f432-9927eb58a5ed"
      },
      "execution_count": 12,
      "outputs": [
        {
          "output_type": "execute_result",
          "data": {
            "text/plain": [
              "60.0"
            ]
          },
          "metadata": {},
          "execution_count": 12
        }
      ]
    }
  ]
}