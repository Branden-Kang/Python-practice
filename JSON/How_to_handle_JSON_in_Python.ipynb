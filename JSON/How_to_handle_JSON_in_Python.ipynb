{
  "nbformat": 4,
  "nbformat_minor": 0,
  "metadata": {
    "colab": {
      "name": "How to handle JSON in Python.ipynb",
      "provenance": [],
      "authorship_tag": "ABX9TyNizTgbZ1tJlpfdtH8lhbP6"
    },
    "kernelspec": {
      "name": "python3",
      "display_name": "Python 3"
    }
  },
  "cells": [
    {
      "cell_type": "markdown",
      "metadata": {
        "id": "SErd50H6BK65"
      },
      "source": [
        "[Reference1](https://towardsdatascience.com/how-to-handle-json-in-python-d877125df39b) <br>\n",
        "[Reference2](https://github.com/Tanu-N-Prabhu/Python/blob/master/How_to_handle_JSON_in_Python%3F.ipynb)"
      ]
    },
    {
      "cell_type": "code",
      "metadata": {
        "colab": {
          "base_uri": "https://localhost:8080/",
          "height": 37
        },
        "id": "0i7IyFuzBAtz",
        "outputId": "cb9c5afd-6940-4d40-8daf-80c63b845edd"
      },
      "source": [
        "example = '{\"name\": \"Jake\", \"programming languages\": [\"Python\", \"Kotlin\"]}'\n",
        "example"
      ],
      "execution_count": 1,
      "outputs": [
        {
          "output_type": "execute_result",
          "data": {
            "application/vnd.google.colaboratory.intrinsic+json": {
              "type": "string"
            },
            "text/plain": [
              "'{\"name\": \"Jake\", \"programming languages\": [\"Python\", \"Kotlin\"]}'"
            ]
          },
          "metadata": {
            "tags": []
          },
          "execution_count": 1
        }
      ]
    },
    {
      "cell_type": "code",
      "metadata": {
        "colab": {
          "base_uri": "https://localhost:8080/"
        },
        "id": "5jyaVdlEBvzX",
        "outputId": "8f1849c1-1a45-42e0-82a7-94cb9587b9bb"
      },
      "source": [
        "json_data = '[{\"id\":\"NC04\",\"name\":\"City Centre\"},{\"id\":\"NC66\",\"name\":\"Cultural Quarter\"},{\"id\":\"NC67\",\"name\":\"Riverside\"},{\"id\":\"NC68\",\"name\":\"Clarendon Park\"},{\"id\":\"NE09\",\"name\":\"Belgrave South\"},{\"id\":\"NE10\",\"name\":\"Belgrave North\"}]'\n",
        "type(json_data)"
      ],
      "execution_count": 2,
      "outputs": [
        {
          "output_type": "execute_result",
          "data": {
            "text/plain": [
              "str"
            ]
          },
          "metadata": {
            "tags": []
          },
          "execution_count": 2
        }
      ]
    },
    {
      "cell_type": "code",
      "metadata": {
        "id": "MUHVf_bHByag"
      },
      "source": [
        "import json"
      ],
      "execution_count": 3,
      "outputs": []
    },
    {
      "cell_type": "code",
      "metadata": {
        "colab": {
          "base_uri": "https://localhost:8080/"
        },
        "id": "avA212D2BzUc",
        "outputId": "222b2e76-665d-4ebe-d366-9e9d01ae9836"
      },
      "source": [
        "# Importing json module\n",
        "import json\n",
        "# Passing the json data to the loads method\n",
        "neighbourhood = json.loads(json_data)\n",
        "# Printing the result - list\n",
        "print(neighbourhood)\n",
        "print(\"-----------------------------------------------------\")\n",
        "# Checking the type of the variable\n",
        "print(type(neighbourhood))\n",
        "print(\"-----------------------------------------------------\")\n",
        "# Accessing the first element in the list - Using index\n",
        "print(neighbourhood[0])"
      ],
      "execution_count": 4,
      "outputs": [
        {
          "output_type": "stream",
          "text": [
            "[{'id': 'NC04', 'name': 'City Centre'}, {'id': 'NC66', 'name': 'Cultural Quarter'}, {'id': 'NC67', 'name': 'Riverside'}, {'id': 'NC68', 'name': 'Clarendon Park'}, {'id': 'NE09', 'name': 'Belgrave South'}, {'id': 'NE10', 'name': 'Belgrave North'}]\n",
            "-----------------------------------------------------\n",
            "<class 'list'>\n",
            "-----------------------------------------------------\n",
            "{'id': 'NC04', 'name': 'City Centre'}\n"
          ],
          "name": "stdout"
        }
      ]
    },
    {
      "cell_type": "code",
      "metadata": {
        "colab": {
          "base_uri": "https://localhost:8080/"
        },
        "id": "aVd4Tr_KB5tS",
        "outputId": "c36c6f22-dd33-4def-d98e-e8e0f6dce0d2"
      },
      "source": [
        "# Importing json module\n",
        "import json\n",
        "# Passing the python data to the dumps method\n",
        "neighbourhood_list = json.dumps(neighbourhood)\n",
        "# Checking the type of the variable\n",
        "print(type(neighbourhood_list))\n",
        "print(\"-----------------------------------------------------\")\n",
        "# Printing the result - string\n",
        "print(neighbourhood_list)"
      ],
      "execution_count": 5,
      "outputs": [
        {
          "output_type": "stream",
          "text": [
            "<class 'str'>\n",
            "-----------------------------------------------------\n",
            "[{\"id\": \"NC04\", \"name\": \"City Centre\"}, {\"id\": \"NC66\", \"name\": \"Cultural Quarter\"}, {\"id\": \"NC67\", \"name\": \"Riverside\"}, {\"id\": \"NC68\", \"name\": \"Clarendon Park\"}, {\"id\": \"NE09\", \"name\": \"Belgrave South\"}, {\"id\": \"NE10\", \"name\": \"Belgrave North\"}]\n"
          ],
          "name": "stdout"
        }
      ]
    },
    {
      "cell_type": "code",
      "metadata": {
        "id": "WvkAq8ADB8Hi"
      },
      "source": [
        "dictt = {\"name\": \"John Depp\", \"age\": 48}\n",
        "listt = [\"John\", \"Depp\", 48]\n",
        "strr = \"John Depp\"\n",
        "intt = 48"
      ],
      "execution_count": 6,
      "outputs": []
    },
    {
      "cell_type": "code",
      "metadata": {
        "colab": {
          "base_uri": "https://localhost:8080/"
        },
        "id": "fWPEdllrB9UZ",
        "outputId": "7cdcbd26-5307-42d0-cb1d-0ce494130b17"
      },
      "source": [
        "# Python Object 1 - Dictionary\n",
        "print(json.dumps(dictt))\n",
        "# Checking the type\n",
        "print(type(json.dumps(dictt)))\n",
        "print(\"-----------------------------------------------------\")\n",
        "# Python Object 2 - List\n",
        "print(json.dumps(listt))\n",
        "# Checking the type\n",
        "print(type(json.dumps(listt)))\n",
        "print(\"-----------------------------------------------------\")\n",
        "# Python Object 3 - String\n",
        "print(json.dumps(strr))\n",
        "# Checking the type\n",
        "print(type(json.dumps(strr)))\n",
        "print(\"-----------------------------------------------------\")\n",
        "# Python Object 4 - Integer\n",
        "print(json.dumps(intt))\n",
        "# Checking the type\n",
        "print(type(json.dumps(intt)))\n",
        "print(\"-----------------------------------------------------\")"
      ],
      "execution_count": 7,
      "outputs": [
        {
          "output_type": "stream",
          "text": [
            "{\"name\": \"John Depp\", \"age\": 48}\n",
            "<class 'str'>\n",
            "-----------------------------------------------------\n",
            "[\"John\", \"Depp\", 48]\n",
            "<class 'str'>\n",
            "-----------------------------------------------------\n",
            "\"John Depp\"\n",
            "<class 'str'>\n",
            "-----------------------------------------------------\n",
            "48\n",
            "<class 'str'>\n",
            "-----------------------------------------------------\n"
          ],
          "name": "stdout"
        }
      ]
    },
    {
      "cell_type": "code",
      "metadata": {
        "colab": {
          "base_uri": "https://localhost:8080/",
          "height": 235
        },
        "id": "9MQxUjGzB_X8",
        "outputId": "f157747a-8458-42f7-b8c8-e2aeb2acc3e5"
      },
      "source": [
        "# Import both JSON and Pandas library\n",
        "import json\n",
        "import pandas as pd\n",
        "# Use the `loads()` method to load the JSON data\n",
        "df = json.loads(json_data)\n",
        "# Pass the generated JSON data into a pandas dataframe\n",
        "df = pd.DataFrame(df)\n",
        "df"
      ],
      "execution_count": 8,
      "outputs": [
        {
          "output_type": "execute_result",
          "data": {
            "text/html": [
              "<div>\n",
              "<style scoped>\n",
              "    .dataframe tbody tr th:only-of-type {\n",
              "        vertical-align: middle;\n",
              "    }\n",
              "\n",
              "    .dataframe tbody tr th {\n",
              "        vertical-align: top;\n",
              "    }\n",
              "\n",
              "    .dataframe thead th {\n",
              "        text-align: right;\n",
              "    }\n",
              "</style>\n",
              "<table border=\"1\" class=\"dataframe\">\n",
              "  <thead>\n",
              "    <tr style=\"text-align: right;\">\n",
              "      <th></th>\n",
              "      <th>id</th>\n",
              "      <th>name</th>\n",
              "    </tr>\n",
              "  </thead>\n",
              "  <tbody>\n",
              "    <tr>\n",
              "      <th>0</th>\n",
              "      <td>NC04</td>\n",
              "      <td>City Centre</td>\n",
              "    </tr>\n",
              "    <tr>\n",
              "      <th>1</th>\n",
              "      <td>NC66</td>\n",
              "      <td>Cultural Quarter</td>\n",
              "    </tr>\n",
              "    <tr>\n",
              "      <th>2</th>\n",
              "      <td>NC67</td>\n",
              "      <td>Riverside</td>\n",
              "    </tr>\n",
              "    <tr>\n",
              "      <th>3</th>\n",
              "      <td>NC68</td>\n",
              "      <td>Clarendon Park</td>\n",
              "    </tr>\n",
              "    <tr>\n",
              "      <th>4</th>\n",
              "      <td>NE09</td>\n",
              "      <td>Belgrave South</td>\n",
              "    </tr>\n",
              "    <tr>\n",
              "      <th>5</th>\n",
              "      <td>NE10</td>\n",
              "      <td>Belgrave North</td>\n",
              "    </tr>\n",
              "  </tbody>\n",
              "</table>\n",
              "</div>"
            ],
            "text/plain": [
              "     id              name\n",
              "0  NC04       City Centre\n",
              "1  NC66  Cultural Quarter\n",
              "2  NC67         Riverside\n",
              "3  NC68    Clarendon Park\n",
              "4  NE09    Belgrave South\n",
              "5  NE10    Belgrave North"
            ]
          },
          "metadata": {
            "tags": []
          },
          "execution_count": 8
        }
      ]
    },
    {
      "cell_type": "code",
      "metadata": {
        "colab": {
          "base_uri": "https://localhost:8080/"
        },
        "id": "KIkh31DKCB2V",
        "outputId": "75094ad6-f2f0-4665-9c00-0d553dd67fb3"
      },
      "source": [
        "# Checking the type of the data \n",
        "print(type(df))"
      ],
      "execution_count": 9,
      "outputs": [
        {
          "output_type": "stream",
          "text": [
            "<class 'pandas.core.frame.DataFrame'>\n"
          ],
          "name": "stdout"
        }
      ]
    }
  ]
}