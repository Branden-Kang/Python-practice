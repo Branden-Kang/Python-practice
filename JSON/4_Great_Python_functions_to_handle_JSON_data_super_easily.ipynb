{
  "nbformat": 4,
  "nbformat_minor": 0,
  "metadata": {
    "colab": {
      "provenance": [],
      "authorship_tag": "ABX9TyM/Ez39SQq/huc6rlPw3Ae7"
    },
    "kernelspec": {
      "name": "python3",
      "display_name": "Python 3"
    },
    "language_info": {
      "name": "python"
    }
  },
  "cells": [
    {
      "cell_type": "markdown",
      "source": [
        "[Reference](https://medium.com/@BetterEverything/4-great-python-functions-to-handle-json-data-super-easily-fc477eb2c24)"
      ],
      "metadata": {
        "id": "_pTPiZ9IlNMH"
      }
    },
    {
      "cell_type": "code",
      "execution_count": 1,
      "metadata": {
        "id": "C_61v7rHlKrE"
      },
      "outputs": [],
      "source": [
        "import json"
      ]
    },
    {
      "cell_type": "markdown",
      "source": [
        "# 1 — load, a function that can be used to transform a JSON file into a Python dictionary"
      ],
      "metadata": {
        "id": "j5GwEnWYlSu2"
      }
    },
    {
      "cell_type": "code",
      "source": [
        "import json\n",
        "\n",
        "with open('person1.json') as f:\n",
        "    data = json.load(f)\n",
        "    print(data)"
      ],
      "metadata": {
        "id": "-iCD_U-plRTX"
      },
      "execution_count": 2,
      "outputs": []
    },
    {
      "cell_type": "markdown",
      "source": [
        "# 2 — loads, a function that can be used to transform a JSON-formatted Python string into a Python dictionary"
      ],
      "metadata": {
        "id": "nNxtAc8_lVQa"
      }
    },
    {
      "cell_type": "code",
      "source": [
        "import json\n",
        "\n",
        "person = \"\"\"{\n",
        " \"name\": \"Jason\",\n",
        " \"age\": 46,\n",
        " \"address\": {\n",
        "  \"street\": \"Castle Street\",\n",
        "  \"number\": 1,\n",
        "  \"city\": \"London\"\n",
        " },\n",
        " \"happy\": true,\n",
        " \"languages\": [\"English\", \"Japanese\"]\n",
        "}\"\"\"\n",
        "\n",
        "data = json.loads(person)\n",
        "print(data)"
      ],
      "metadata": {
        "colab": {
          "base_uri": "https://localhost:8080/"
        },
        "id": "L7IoB_BIlUVk",
        "outputId": "994c2947-965a-4f91-c3ba-5241945872d5"
      },
      "execution_count": 3,
      "outputs": [
        {
          "output_type": "stream",
          "name": "stdout",
          "text": [
            "{'name': 'Jason', 'age': 46, 'address': {'street': 'Castle Street', 'number': 1, 'city': 'London'}, 'happy': True, 'languages': ['English', 'Japanese']}\n"
          ]
        }
      ]
    },
    {
      "cell_type": "markdown",
      "source": [
        "# 3 — dump, a function that can be used to transform a Python dictionary into a JSON file"
      ],
      "metadata": {
        "id": "CzjB4etElYEL"
      }
    },
    {
      "cell_type": "code",
      "source": [
        "import json\n",
        "\n",
        "person = {'name':\"Jason\",'age':46}\n",
        "\n",
        "with open('test.json','w') as f:\n",
        "    json.dump(person,f)"
      ],
      "metadata": {
        "id": "4ShnaNUYlXCR"
      },
      "execution_count": 4,
      "outputs": []
    },
    {
      "cell_type": "markdown",
      "source": [
        "# 4 — dumps, a function that can be used to transform a Python dictionary into a JSON-formatted Python string"
      ],
      "metadata": {
        "id": "nEFyDdOQlb_W"
      }
    },
    {
      "cell_type": "code",
      "source": [
        "import json\n",
        "\n",
        "person = {'name':\"Jason\",'age':46}\n",
        "\n",
        "data = json.dumps(person)\n",
        "print(data)"
      ],
      "metadata": {
        "colab": {
          "base_uri": "https://localhost:8080/"
        },
        "id": "hSEYFQTAlZ15",
        "outputId": "094adebd-de05-49dd-8b99-69e33fb8c537"
      },
      "execution_count": 5,
      "outputs": [
        {
          "output_type": "stream",
          "name": "stdout",
          "text": [
            "{\"name\": \"Jason\", \"age\": 46}\n"
          ]
        }
      ]
    }
  ]
}
