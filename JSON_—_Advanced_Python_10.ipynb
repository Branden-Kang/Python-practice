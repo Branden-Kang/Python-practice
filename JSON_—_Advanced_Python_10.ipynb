{
  "nbformat": 4,
  "nbformat_minor": 0,
  "metadata": {
    "colab": {
      "name": "JSON — Advanced Python 10.ipynb",
      "provenance": [],
      "collapsed_sections": [],
      "authorship_tag": "ABX9TyMQcHawx6TtyZs4rRpAv0Ei"
    },
    "kernelspec": {
      "name": "python3",
      "display_name": "Python 3"
    },
    "language_info": {
      "name": "python"
    }
  },
  "cells": [
    {
      "cell_type": "markdown",
      "source": [
        "[Reference](https://medium.com/codex/json-advanced-python-10-72d13d09407)"
      ],
      "metadata": {
        "id": "FB1b4hTdvIPi"
      }
    },
    {
      "cell_type": "code",
      "execution_count": 1,
      "metadata": {
        "id": "za47DTX4tht4"
      },
      "outputs": [],
      "source": [
        "import json"
      ]
    },
    {
      "cell_type": "code",
      "source": [
        "import json\n",
        "person = {\"name\": \"John\", \"age\": 30, \"city\": \"New York\", \"hasChildren\": False, \"titles\": [\"engineer\", \"programmer\"]}\n",
        "# convert into JSON:\n",
        "person_json = json.dumps(person)\n",
        "# use different formatting style\n",
        "person_json2 = json.dumps(person, indent=4, separators=(\"; \", \"= \"), sort_keys=True)\n",
        "# the result is a JSON string:\n",
        "print(person_json) \n",
        "print(person_json2)"
      ],
      "metadata": {
        "colab": {
          "base_uri": "https://localhost:8080/"
        },
        "id": "jmlpNDQfu1S1",
        "outputId": "fa9abb50-9e36-4eda-acb2-0ac8e625e1bf"
      },
      "execution_count": 2,
      "outputs": [
        {
          "output_type": "stream",
          "name": "stdout",
          "text": [
            "{\"name\": \"John\", \"age\": 30, \"city\": \"New York\", \"hasChildren\": false, \"titles\": [\"engineer\", \"programmer\"]}\n",
            "{\n",
            "    \"age\"= 30; \n",
            "    \"city\"= \"New York\"; \n",
            "    \"hasChildren\"= false; \n",
            "    \"name\"= \"John\"; \n",
            "    \"titles\"= [\n",
            "        \"engineer\"; \n",
            "        \"programmer\"\n",
            "    ]\n",
            "}\n"
          ]
        }
      ]
    },
    {
      "cell_type": "code",
      "source": [
        "import json\n",
        "person_json = \"\"\"\n",
        "{\n",
        "    \"age\": 30, \n",
        "    \"city\": \"New York\",\n",
        "    \"hasChildren\": false, \n",
        "    \"name\": \"John\",\n",
        "    \"titles\": [\n",
        "        \"engineer\",\n",
        "        \"programmer\"\n",
        "    ]\n",
        "}\n",
        "\"\"\"\n",
        "person = json.loads(person_json)\n",
        "print(person)"
      ],
      "metadata": {
        "colab": {
          "base_uri": "https://localhost:8080/"
        },
        "id": "Yt_gXiqjvRCt",
        "outputId": "2852c2da-cb81-4089-9cad-cef1421b7370"
      },
      "execution_count": 3,
      "outputs": [
        {
          "output_type": "stream",
          "name": "stdout",
          "text": [
            "{'age': 30, 'city': 'New York', 'hasChildren': False, 'name': 'John', 'titles': ['engineer', 'programmer']}\n"
          ]
        }
      ]
    },
    {
      "cell_type": "code",
      "source": [
        "# import json\n",
        "# with open('person.json', 'r') as f:\n",
        "#     person = json.load(f)\n",
        "#     print(person)"
      ],
      "metadata": {
        "id": "8LJLLH9fvRX4"
      },
      "execution_count": 4,
      "outputs": []
    },
    {
      "cell_type": "code",
      "source": [
        "import json\n",
        "def encode_complex(z):\n",
        "    if isinstance(z, complex):\n",
        "        # just the key of the class name is important, the value can be arbitrary.\n",
        "        return {z.__class__.__name__: True, \"real\":z.real, \"imag\":z.imag}\n",
        "    else:\n",
        "        raise TypeError(f\"Object of type '{z.__class__.__name__}' is not JSON serializable\")\n",
        "z = 5 + 9j\n",
        "zJSON = json.dumps(z, default=encode_complex)\n",
        "print(zJSON)"
      ],
      "metadata": {
        "colab": {
          "base_uri": "https://localhost:8080/"
        },
        "id": "BofV8z1FvTwI",
        "outputId": "0c9f2396-b754-4589-e96f-597060090bc5"
      },
      "execution_count": 5,
      "outputs": [
        {
          "output_type": "stream",
          "name": "stdout",
          "text": [
            "{\"complex\": true, \"real\": 5.0, \"imag\": 9.0}\n"
          ]
        }
      ]
    },
    {
      "cell_type": "code",
      "source": [
        "from json import JSONEncoder\n",
        "class ComplexEncoder(JSONEncoder):\n",
        "    \n",
        "    def default(self, o):\n",
        "        if isinstance(z, complex):\n",
        "            return {z.__class__.__name__: True, \"real\":z.real, \"imag\":z.imag}\n",
        "        # Let the base class default method handle other objects or raise a TypeError\n",
        "        return JSONEncoder.default(self, o)\n",
        "    \n",
        "z = 5 + 9j\n",
        "zJSON = json.dumps(z, cls=ComplexEncoder)\n",
        "print(zJSON)\n",
        "# or use encoder directly:\n",
        "zJson = ComplexEncoder().encode(z)\n",
        "print(zJSON)"
      ],
      "metadata": {
        "colab": {
          "base_uri": "https://localhost:8080/"
        },
        "id": "kLD6lU1QvXbT",
        "outputId": "58828393-4b58-47d9-8767-c1dc74208a68"
      },
      "execution_count": 6,
      "outputs": [
        {
          "output_type": "stream",
          "name": "stdout",
          "text": [
            "{\"complex\": true, \"real\": 5.0, \"imag\": 9.0}\n",
            "{\"complex\": true, \"real\": 5.0, \"imag\": 9.0}\n"
          ]
        }
      ]
    },
    {
      "cell_type": "code",
      "source": [
        "# Possible but decoded as a dictionary\n",
        "z = json.loads(zJSON)\n",
        "print(type(z))\n",
        "print(z)\n",
        "def decode_complex(dct):\n",
        "    if complex.__name__ in dct:\n",
        "        return complex(dct[\"real\"], dct[\"imag\"])\n",
        "    return dct\n",
        "# Now the object is of type complex after decoding\n",
        "z = json.loads(zJSON, object_hook=decode_complex)\n",
        "print(type(z))\n",
        "print(z)"
      ],
      "metadata": {
        "colab": {
          "base_uri": "https://localhost:8080/"
        },
        "id": "mbVFKh57vZGI",
        "outputId": "09c5f428-a3f7-4ef1-d5aa-abb207cbe09f"
      },
      "execution_count": 7,
      "outputs": [
        {
          "output_type": "stream",
          "name": "stdout",
          "text": [
            "<class 'dict'>\n",
            "{'complex': True, 'real': 5.0, 'imag': 9.0}\n",
            "<class 'complex'>\n",
            "(5+9j)\n"
          ]
        }
      ]
    },
    {
      "cell_type": "code",
      "source": [
        "class User:\n",
        "    # Custom class with all class variables given in the __init__()\n",
        "    def __init__(self, name, age, active, balance, friends):\n",
        "        self.name = name\n",
        "        self.age = age\n",
        "        self.active = active\n",
        "        self.balance = balance\n",
        "        self.friends = friends\n",
        "        \n",
        "class Player:\n",
        "    # Other custom class\n",
        "    def __init__(self, name, nickname, level):\n",
        "        self.name = name\n",
        "        self.nickname = nickname\n",
        "        self.level = level\n",
        "          \n",
        "            \n",
        "def encode_obj(obj):\n",
        "    \"\"\"\n",
        "    Takes in a custom object and returns a dictionary representation of the object.\n",
        "    This dict representation also includes the object's module and class names.\n",
        "    \"\"\"\n",
        "  \n",
        "    #  Populate the dictionary with object meta data \n",
        "    obj_dict = {\n",
        "      \"__class__\": obj.__class__.__name__,\n",
        "      \"__module__\": obj.__module__\n",
        "    }\n",
        "  \n",
        "    #  Populate the dictionary with object properties\n",
        "    obj_dict.update(obj.__dict__)\n",
        "  \n",
        "    return obj_dict\n",
        "def decode_dct(dct):\n",
        "    \"\"\"\n",
        "    Takes in a dict and returns a custom object associated with the dict.\n",
        "    It makes use of the \"__module__\" and \"__class__\" metadata in the dictionary\n",
        "    to know which object type to create.\n",
        "    \"\"\"\n",
        "    if \"__class__\" in dct:\n",
        "        # Pop ensures we remove metadata from the dict to leave only the instance arguments\n",
        "        class_name = dct.pop(\"__class__\")\n",
        "        \n",
        "        # Get the module name from the dict and import it\n",
        "        module_name = dct.pop(\"__module__\")\n",
        "        \n",
        "        # We use the built in __import__ function since the module name is not yet known at runtime\n",
        "        module = __import__(module_name)\n",
        "        \n",
        "        # Get the class from the module\n",
        "        class_ = getattr(module,class_name)\n",
        "        # Use dictionary unpacking to initialize the object\n",
        "        # Note: This only works if all __init__() arguments of the class are exactly the dict keys\n",
        "        obj = class_(**dct)\n",
        "    else:\n",
        "        obj = dct\n",
        "    return obj\n",
        "# User class works with our encoding and decoding methods\n",
        "user = User(name = \"John\",age = 28, friends = [\"Jane\", \"Tom\"], balance = 20.70, active = True)\n",
        "userJSON = json.dumps(user,default=encode_obj,indent=4, sort_keys=True)\n",
        "print(userJSON)\n",
        "user_decoded = json.loads(userJSON, object_hook=decode_dct)\n",
        "print(type(user_decoded))\n",
        "# Player class also works with our custom encoding and decoding\n",
        "player = Player('Max', 'max1234', 5)\n",
        "playerJSON = json.dumps(player,default=encode_obj,indent=4, sort_keys=True)\n",
        "print(playerJSON)\n",
        "player_decoded = json.loads(playerJSON, object_hook=decode_dct)\n",
        "print(type(player_decoded))"
      ],
      "metadata": {
        "id": "g21XrziZvmtG",
        "outputId": "bc3b7b5c-c091-4cee-a5fe-b02137cb5631",
        "colab": {
          "base_uri": "https://localhost:8080/"
        }
      },
      "execution_count": 8,
      "outputs": [
        {
          "output_type": "stream",
          "name": "stdout",
          "text": [
            "{\n",
            "    \"__class__\": \"User\",\n",
            "    \"__module__\": \"__main__\",\n",
            "    \"active\": true,\n",
            "    \"age\": 28,\n",
            "    \"balance\": 20.7,\n",
            "    \"friends\": [\n",
            "        \"Jane\",\n",
            "        \"Tom\"\n",
            "    ],\n",
            "    \"name\": \"John\"\n",
            "}\n",
            "<class '__main__.User'>\n",
            "{\n",
            "    \"__class__\": \"Player\",\n",
            "    \"__module__\": \"__main__\",\n",
            "    \"level\": 5,\n",
            "    \"name\": \"Max\",\n",
            "    \"nickname\": \"max1234\"\n",
            "}\n",
            "<class '__main__.Player'>\n"
          ]
        }
      ]
    }
  ]
}