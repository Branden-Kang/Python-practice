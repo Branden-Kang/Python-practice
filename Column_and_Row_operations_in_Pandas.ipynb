{
  "nbformat": 4,
  "nbformat_minor": 0,
  "metadata": {
    "colab": {
      "name": "Column and Row operations in Pandas.ipynb",
      "provenance": [],
      "authorship_tag": "ABX9TyPNi6LTZyLv4yeml5R+P3V0"
    },
    "kernelspec": {
      "name": "python3",
      "display_name": "Python 3"
    },
    "language_info": {
      "name": "python"
    }
  },
  "cells": [
    {
      "cell_type": "markdown",
      "source": [
        "[Reference](https://smartcodehub.com/column-and-row-operations-in-pandas-eae9239acf19)"
      ],
      "metadata": {
        "id": "GfTNrG-XV6PZ"
      }
    },
    {
      "cell_type": "code",
      "execution_count": 1,
      "metadata": {
        "colab": {
          "base_uri": "https://localhost:8080/"
        },
        "id": "OHBzEFemV4hq",
        "outputId": "136a3f81-bf4f-4805-e400-2d96f48f43a0"
      },
      "outputs": [
        {
          "output_type": "stream",
          "name": "stdout",
          "text": [
            "   one  two\n",
            "a  2.0    1\n",
            "b  4.0    3\n",
            "c  6.0    5\n",
            "d  8.0    7\n",
            "e  NaN    9\n"
          ]
        }
      ],
      "source": [
        "import pandas as pd \n",
        "import numpy as np \n",
        "d = {'one': pd.Series([2, 4, 6, 8], index = ['a', 'b', 'c', 'd']), 'two': pd.Series([1, 3, 5, 7, 9], index = ['a', 'b', 'c', 'd', 'e'])} \n",
        "df = pd.DataFrame(d) \n",
        "print(df)"
      ]
    },
    {
      "cell_type": "code",
      "source": [
        "print(df['one'])"
      ],
      "metadata": {
        "colab": {
          "base_uri": "https://localhost:8080/"
        },
        "id": "cFElSsULV_8z",
        "outputId": "0f0bb4f2-b18c-45d9-b46e-4a0ea582ef43"
      },
      "execution_count": 2,
      "outputs": [
        {
          "output_type": "stream",
          "name": "stdout",
          "text": [
            "a    2.0\n",
            "b    4.0\n",
            "c    6.0\n",
            "d    8.0\n",
            "e    NaN\n",
            "Name: one, dtype: float64\n"
          ]
        }
      ]
    },
    {
      "cell_type": "code",
      "source": [
        "print(df['two'])"
      ],
      "metadata": {
        "colab": {
          "base_uri": "https://localhost:8080/"
        },
        "id": "j5zWgIqFWDuq",
        "outputId": "04c82e85-9655-4ce6-8dbd-0f642b4f4904"
      },
      "execution_count": 3,
      "outputs": [
        {
          "output_type": "stream",
          "name": "stdout",
          "text": [
            "a    1\n",
            "b    3\n",
            "c    5\n",
            "d    7\n",
            "e    9\n",
            "Name: two, dtype: int64\n"
          ]
        }
      ]
    },
    {
      "cell_type": "code",
      "source": [
        "#Adding a new column to the DataFrame by passing a Series \n",
        "print(\"Adding a new column to the existing DataFrame\") \n",
        "df['three'] = pd.Series([12, 14, 16, 18, 20], index=['a', 'b', 'c', 'd', 'e']) \n",
        "print(df)"
      ],
      "metadata": {
        "colab": {
          "base_uri": "https://localhost:8080/"
        },
        "id": "RDsKIgufWGR7",
        "outputId": "9e8447a5-1252-4359-fcd5-f65f28a3a9e2"
      },
      "execution_count": 4,
      "outputs": [
        {
          "output_type": "stream",
          "name": "stdout",
          "text": [
            "Adding a new column to the existing DataFrame\n",
            "   one  two  three\n",
            "a  2.0    1     12\n",
            "b  4.0    3     14\n",
            "c  6.0    5     16\n",
            "d  8.0    7     18\n",
            "e  NaN    9     20\n"
          ]
        }
      ]
    },
    {
      "cell_type": "code",
      "source": [
        "#Performing addition on columns and storing the result in new column \n",
        "print(\"Adding columns 'one' and 'two' and storing the result in 'four'\") \n",
        "df['four'] = df['one'] + df['two'] \n",
        "print(df['four'])"
      ],
      "metadata": {
        "colab": {
          "base_uri": "https://localhost:8080/"
        },
        "id": "EzF0Lm-NWKAu",
        "outputId": "bfbb52f8-21b4-48b4-c460-d49b7413de69"
      },
      "execution_count": 5,
      "outputs": [
        {
          "output_type": "stream",
          "name": "stdout",
          "text": [
            "Adding columns 'one' and 'two' and storing the result in 'four'\n",
            "a     3.0\n",
            "b     7.0\n",
            "c    11.0\n",
            "d    15.0\n",
            "e     NaN\n",
            "Name: four, dtype: float64\n"
          ]
        }
      ]
    },
    {
      "cell_type": "code",
      "source": [
        "#Deleting column 'two' \n",
        "df.pop('two') \n",
        "print(df)"
      ],
      "metadata": {
        "colab": {
          "base_uri": "https://localhost:8080/"
        },
        "id": "DfLSC1tYWNi2",
        "outputId": "f44f574a-d0eb-47ac-b2ca-a6e47421da60"
      },
      "execution_count": 6,
      "outputs": [
        {
          "output_type": "stream",
          "name": "stdout",
          "text": [
            "   one  three  four\n",
            "a  2.0     12   3.0\n",
            "b  4.0     14   7.0\n",
            "c  6.0     16  11.0\n",
            "d  8.0     18  15.0\n",
            "e  NaN     20   NaN\n"
          ]
        }
      ]
    },
    {
      "cell_type": "code",
      "source": [
        "#Deleting column 'four' \n",
        "del df['four'] \n",
        "print(df)"
      ],
      "metadata": {
        "colab": {
          "base_uri": "https://localhost:8080/"
        },
        "id": "6ll46LF3WP1l",
        "outputId": "2f38d0aa-c107-4ead-9491-e0b3090272b5"
      },
      "execution_count": 7,
      "outputs": [
        {
          "output_type": "stream",
          "name": "stdout",
          "text": [
            "   one  three\n",
            "a  2.0     12\n",
            "b  4.0     14\n",
            "c  6.0     16\n",
            "d  8.0     18\n",
            "e  NaN     20\n"
          ]
        }
      ]
    },
    {
      "cell_type": "code",
      "source": [
        "#Printing the row with 'b' \n",
        "print(df, \"\\n\") \n",
        "print(df.loc['b'])"
      ],
      "metadata": {
        "colab": {
          "base_uri": "https://localhost:8080/"
        },
        "id": "fUfCHDV6WTKS",
        "outputId": "ec96e426-69be-451b-d9c2-ad6680489d97"
      },
      "execution_count": 8,
      "outputs": [
        {
          "output_type": "stream",
          "name": "stdout",
          "text": [
            "   one  three\n",
            "a  2.0     12\n",
            "b  4.0     14\n",
            "c  6.0     16\n",
            "d  8.0     18\n",
            "e  NaN     20 \n",
            "\n",
            "one       4.0\n",
            "three    14.0\n",
            "Name: b, dtype: float64\n"
          ]
        }
      ]
    },
    {
      "cell_type": "code",
      "source": [
        "#Printing the row at 2 \n",
        "print(df, \"\\n\") \n",
        "print(df.iloc[2])"
      ],
      "metadata": {
        "colab": {
          "base_uri": "https://localhost:8080/"
        },
        "id": "ofknmT7FWViZ",
        "outputId": "770356a8-d945-44fd-c7e4-513310c07c7d"
      },
      "execution_count": 9,
      "outputs": [
        {
          "output_type": "stream",
          "name": "stdout",
          "text": [
            "   one  three\n",
            "a  2.0     12\n",
            "b  4.0     14\n",
            "c  6.0     16\n",
            "d  8.0     18\n",
            "e  NaN     20 \n",
            "\n",
            "one       6.0\n",
            "three    16.0\n",
            "Name: c, dtype: float64\n"
          ]
        }
      ]
    },
    {
      "cell_type": "code",
      "source": [
        "import pandas as pd \n",
        "#Creating two DataFrames \n",
        "d1 = pd.DataFrame([[2, 4, 6], [3, 5, 7]], columns=['a', 'b', 'c']) \n",
        "d2 = pd.DataFrame([[10, 20, 30], [40, 50, 60]], columns=['a', 'b', 'c']) \n",
        "#Inserting d2 in d1 \n",
        "d1 = d1.append(d2) \n",
        "print(d1)"
      ],
      "metadata": {
        "colab": {
          "base_uri": "https://localhost:8080/"
        },
        "id": "TZCzh1GQWX_U",
        "outputId": "7f0fe04e-b9bc-4fe3-f5d4-bacf8ddb03fd"
      },
      "execution_count": 10,
      "outputs": [
        {
          "output_type": "stream",
          "name": "stdout",
          "text": [
            "    a   b   c\n",
            "0   2   4   6\n",
            "1   3   5   7\n",
            "0  10  20  30\n",
            "1  40  50  60\n"
          ]
        }
      ]
    },
    {
      "cell_type": "code",
      "source": [
        "#Deleting the rows with label 0 \n",
        "d1 = d1.drop(0) \n",
        "print(d1)"
      ],
      "metadata": {
        "colab": {
          "base_uri": "https://localhost:8080/"
        },
        "id": "M9G4Vxf4WdbT",
        "outputId": "4f8011fa-0c3f-4b82-e8c0-5756da7d9a48"
      },
      "execution_count": 11,
      "outputs": [
        {
          "output_type": "stream",
          "name": "stdout",
          "text": [
            "    a   b   c\n",
            "1   3   5   7\n",
            "1  40  50  60\n"
          ]
        }
      ]
    },
    {
      "cell_type": "code",
      "source": [
        "#Deleting the rows with label 1 \n",
        "d1 = d1.drop(1) \n",
        "print(d1)"
      ],
      "metadata": {
        "id": "XNDDWRKBWfpL",
        "outputId": "1dc0d3ad-7bcc-4e3a-c388-e53cecf95ff1",
        "colab": {
          "base_uri": "https://localhost:8080/"
        }
      },
      "execution_count": 12,
      "outputs": [
        {
          "output_type": "stream",
          "name": "stdout",
          "text": [
            "Empty DataFrame\n",
            "Columns: [a, b, c]\n",
            "Index: []\n"
          ]
        }
      ]
    }
  ]
}