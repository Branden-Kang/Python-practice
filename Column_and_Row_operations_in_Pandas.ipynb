{
  "nbformat": 4,
  "nbformat_minor": 0,
  "metadata": {
    "colab": {
      "name": "Column and Row operations in Pandas.ipynb",
      "provenance": [],
      "collapsed_sections": [],
      "authorship_tag": "ABX9TyPNi6LTZyLv4yeml5R+P3V0"
    },
    "kernelspec": {
      "name": "python3",
      "display_name": "Python 3"
    },
    "language_info": {
      "name": "python"
    }
  },
  "cells": [
    {
      "cell_type": "markdown",
      "source": [
        "[Reference](https://smartcodehub.com/column-and-row-operations-in-pandas-eae9239acf19)"
      ],
      "metadata": {
        "id": "GfTNrG-XV6PZ"
      }
    },
    {
      "cell_type": "code",
      "execution_count": 1,
      "metadata": {
        "colab": {
          "base_uri": "https://localhost:8080/"
        },
        "id": "OHBzEFemV4hq",
        "outputId": "4c51646c-9e00-46fb-de1e-9a3b1c512239"
      },
      "outputs": [
        {
          "output_type": "stream",
          "name": "stdout",
          "text": [
            "   one  two\n",
            "a  2.0    1\n",
            "b  4.0    3\n",
            "c  6.0    5\n",
            "d  8.0    7\n",
            "e  NaN    9\n"
          ]
        }
      ],
      "source": [
        "import pandas as pd \n",
        "import numpy as np \n",
        "d = {'one': pd.Series([2, 4, 6, 8], index = ['a', 'b', 'c', 'd']), 'two': pd.Series([1, 3, 5, 7, 9], index = ['a', 'b', 'c', 'd', 'e'])} \n",
        "df = pd.DataFrame(d) \n",
        "print(df)"
      ]
    },
    {
      "cell_type": "code",
      "source": [
        "print(df['one'])"
      ],
      "metadata": {
        "colab": {
          "base_uri": "https://localhost:8080/"
        },
        "id": "cFElSsULV_8z",
        "outputId": "bacc2ddc-d8b2-4e82-e8b2-11fe0d8205ad"
      },
      "execution_count": 2,
      "outputs": [
        {
          "output_type": "stream",
          "name": "stdout",
          "text": [
            "a    2.0\n",
            "b    4.0\n",
            "c    6.0\n",
            "d    8.0\n",
            "e    NaN\n",
            "Name: one, dtype: float64\n"
          ]
        }
      ]
    },
    {
      "cell_type": "code",
      "source": [
        "print(df['two'])"
      ],
      "metadata": {
        "colab": {
          "base_uri": "https://localhost:8080/"
        },
        "id": "j5zWgIqFWDuq",
        "outputId": "5d42136a-d75a-4d69-e7e1-ed3d7167f72a"
      },
      "execution_count": 3,
      "outputs": [
        {
          "output_type": "stream",
          "name": "stdout",
          "text": [
            "a    1\n",
            "b    3\n",
            "c    5\n",
            "d    7\n",
            "e    9\n",
            "Name: two, dtype: int64\n"
          ]
        }
      ]
    },
    {
      "cell_type": "code",
      "source": [
        "#Adding a new column to the DataFrame by passing a Series \n",
        "print(\"Adding a new column to the existing DataFrame\") \n",
        "df['three'] = pd.Series([12, 14, 16, 18, 20], index=['a', 'b', 'c', 'd', 'e']) \n",
        "print(df)"
      ],
      "metadata": {
        "colab": {
          "base_uri": "https://localhost:8080/"
        },
        "id": "RDsKIgufWGR7",
        "outputId": "a4eb8b62-b08e-44b3-aa48-4df2a8d5cbb4"
      },
      "execution_count": 4,
      "outputs": [
        {
          "output_type": "stream",
          "name": "stdout",
          "text": [
            "Adding a new column to the existing DataFrame\n",
            "   one  two  three\n",
            "a  2.0    1     12\n",
            "b  4.0    3     14\n",
            "c  6.0    5     16\n",
            "d  8.0    7     18\n",
            "e  NaN    9     20\n"
          ]
        }
      ]
    },
    {
      "cell_type": "code",
      "source": [
        "#Performing addition on columns and storing the result in new column \n",
        "print(\"Adding columns 'one' and 'two' and storing the result in 'four'\") \n",
        "df['four'] = df['one'] + df['two'] \n",
        "print(df['four'])"
      ],
      "metadata": {
        "colab": {
          "base_uri": "https://localhost:8080/"
        },
        "id": "EzF0Lm-NWKAu",
        "outputId": "82da1490-5472-42db-d0d5-ae3a7f9f5ef1"
      },
      "execution_count": 5,
      "outputs": [
        {
          "output_type": "stream",
          "name": "stdout",
          "text": [
            "Adding columns 'one' and 'two' and storing the result in 'four'\n",
            "a     3.0\n",
            "b     7.0\n",
            "c    11.0\n",
            "d    15.0\n",
            "e     NaN\n",
            "Name: four, dtype: float64\n"
          ]
        }
      ]
    },
    {
      "cell_type": "code",
      "source": [
        "#Deleting column 'two' \n",
        "df.pop('two') \n",
        "print(df)"
      ],
      "metadata": {
        "colab": {
          "base_uri": "https://localhost:8080/"
        },
        "id": "DfLSC1tYWNi2",
        "outputId": "d337684f-2eb9-4dbe-8da9-97f7bc2bb060"
      },
      "execution_count": 6,
      "outputs": [
        {
          "output_type": "stream",
          "name": "stdout",
          "text": [
            "   one  three  four\n",
            "a  2.0     12   3.0\n",
            "b  4.0     14   7.0\n",
            "c  6.0     16  11.0\n",
            "d  8.0     18  15.0\n",
            "e  NaN     20   NaN\n"
          ]
        }
      ]
    },
    {
      "cell_type": "code",
      "source": [
        "#Deleting column 'four' \n",
        "del df['four'] \n",
        "print(df)"
      ],
      "metadata": {
        "colab": {
          "base_uri": "https://localhost:8080/"
        },
        "id": "6ll46LF3WP1l",
        "outputId": "b90b09e2-10ab-4a52-d530-b29565d7730d"
      },
      "execution_count": 7,
      "outputs": [
        {
          "output_type": "stream",
          "name": "stdout",
          "text": [
            "   one  three\n",
            "a  2.0     12\n",
            "b  4.0     14\n",
            "c  6.0     16\n",
            "d  8.0     18\n",
            "e  NaN     20\n"
          ]
        }
      ]
    },
    {
      "cell_type": "code",
      "source": [
        "#Printing the row with 'b' \n",
        "print(df, \"\\n\") \n",
        "print(df.loc['b'])"
      ],
      "metadata": {
        "colab": {
          "base_uri": "https://localhost:8080/"
        },
        "id": "fUfCHDV6WTKS",
        "outputId": "f1d216aa-ef65-40b4-a0f3-6a75679178cf"
      },
      "execution_count": 8,
      "outputs": [
        {
          "output_type": "stream",
          "name": "stdout",
          "text": [
            "   one  three\n",
            "a  2.0     12\n",
            "b  4.0     14\n",
            "c  6.0     16\n",
            "d  8.0     18\n",
            "e  NaN     20 \n",
            "\n",
            "one       4.0\n",
            "three    14.0\n",
            "Name: b, dtype: float64\n"
          ]
        }
      ]
    },
    {
      "cell_type": "code",
      "source": [
        "#Printing the row at 2 \n",
        "print(df, \"\\n\") \n",
        "print(df.iloc[2])"
      ],
      "metadata": {
        "colab": {
          "base_uri": "https://localhost:8080/"
        },
        "id": "ofknmT7FWViZ",
        "outputId": "521ee67a-3295-4eff-bf9e-0a2270e7654f"
      },
      "execution_count": 9,
      "outputs": [
        {
          "output_type": "stream",
          "name": "stdout",
          "text": [
            "   one  three\n",
            "a  2.0     12\n",
            "b  4.0     14\n",
            "c  6.0     16\n",
            "d  8.0     18\n",
            "e  NaN     20 \n",
            "\n",
            "one       6.0\n",
            "three    16.0\n",
            "Name: c, dtype: float64\n"
          ]
        }
      ]
    },
    {
      "cell_type": "code",
      "source": [
        "import pandas as pd \n",
        "#Creating two DataFrames \n",
        "d1 = pd.DataFrame([[2, 4, 6], [3, 5, 7]], columns=['a', 'b', 'c']) \n",
        "d2 = pd.DataFrame([[10, 20, 30], [40, 50, 60]], columns=['a', 'b', 'c']) \n",
        "#Inserting d2 in d1 \n",
        "d1 = d1.append(d2) \n",
        "print(d1)"
      ],
      "metadata": {
        "colab": {
          "base_uri": "https://localhost:8080/"
        },
        "id": "TZCzh1GQWX_U",
        "outputId": "cdd80460-9047-4c23-892e-132fae16e16c"
      },
      "execution_count": 10,
      "outputs": [
        {
          "output_type": "stream",
          "name": "stdout",
          "text": [
            "    a   b   c\n",
            "0   2   4   6\n",
            "1   3   5   7\n",
            "0  10  20  30\n",
            "1  40  50  60\n"
          ]
        }
      ]
    },
    {
      "cell_type": "code",
      "source": [
        "#Deleting the rows with label 0 \n",
        "d1 = d1.drop(0) \n",
        "print(d1)"
      ],
      "metadata": {
        "colab": {
          "base_uri": "https://localhost:8080/"
        },
        "id": "M9G4Vxf4WdbT",
        "outputId": "f06e1457-4e2d-42e9-f4c3-73455b27c2eb"
      },
      "execution_count": 11,
      "outputs": [
        {
          "output_type": "stream",
          "name": "stdout",
          "text": [
            "    a   b   c\n",
            "1   3   5   7\n",
            "1  40  50  60\n"
          ]
        }
      ]
    },
    {
      "cell_type": "code",
      "source": [
        "#Deleting the rows with label 1 \n",
        "d1 = d1.drop(1) \n",
        "print(d1)"
      ],
      "metadata": {
        "id": "XNDDWRKBWfpL",
        "outputId": "c5b42fb6-33c1-4acc-a773-1419d7631fa7",
        "colab": {
          "base_uri": "https://localhost:8080/"
        }
      },
      "execution_count": 12,
      "outputs": [
        {
          "output_type": "stream",
          "name": "stdout",
          "text": [
            "Empty DataFrame\n",
            "Columns: [a, b, c]\n",
            "Index: []\n"
          ]
        }
      ]
    }
  ]
}