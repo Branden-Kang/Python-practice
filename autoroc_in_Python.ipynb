{
  "nbformat": 4,
  "nbformat_minor": 0,
  "metadata": {
    "colab": {
      "name": "autoroc in Python.ipynb",
      "provenance": [],
      "authorship_tag": "ABX9TyMQV8LOQ/9LtF03JLWQLBeU"
    },
    "kernelspec": {
      "name": "python3",
      "display_name": "Python 3"
    },
    "language_info": {
      "name": "python"
    }
  },
  "cells": [
    {
      "cell_type": "markdown",
      "source": [
        "[Reference](https://bobrupakroy.medium.com/pip-install-autoroc-ba4ac1514739)"
      ],
      "metadata": {
        "id": "A8NyJae2w1aN"
      }
    },
    {
      "cell_type": "code",
      "execution_count": 2,
      "metadata": {
        "id": "57H5NwLfwyEX"
      },
      "outputs": [],
      "source": [
        "# roc curve for logistic regression model with optimal threshol\n",
        "from numpy import sqrt\n",
        "from numpy import argmax\n",
        "from sklearn.datasets import make_classification\n",
        "from sklearn.linear_model import LogisticRegression\n",
        "from sklearn.model_selection import train_test_split\n",
        "from sklearn.metrics import roc_curve\n",
        "from matplotlib import pyplot\n",
        "\n",
        "# generate dataset\n",
        "X, y = make_classification(n_samples=10000, n_features=2, n_redundant=0,\n",
        "\tn_clusters_per_class=1, weights=[0.99], flip_y=0, random_state=4)\n",
        "\n",
        "# split into train/test sets\n",
        "trainX, testX, trainy, testy = train_test_split(X, y, test_size=0.5, random_state=2, stratify=y)\n",
        "\n",
        "# fit a model\n",
        "model = LogisticRegression(solver='lbfgs')\n",
        "model.fit(trainX, trainy)\n",
        "\n",
        "# predict probabilities\n",
        "yhat = model.predict_proba(testX)\n",
        "\n",
        "# keep probabilities for the positive outcome only\n",
        "yhat = yhat[:, 1]"
      ]
    },
    {
      "cell_type": "code",
      "source": [
        "# calculate roc curve\n",
        "fpr, tpr, thresholds = roc_curve(testy, yhat)\n",
        "\n",
        "# calculate the g-mean for each threshold\n",
        "gmeans = sqrt(tpr * (1-fpr))\n",
        "\n",
        "# locate the index of the largest g-mean\n",
        "ix = argmax(gmeans)\n",
        "print('Best Threshold=%f, G-Mean=%.3f' % (thresholds[ix], gmeans[ix]))\n",
        "\n",
        "# plot the roc curve for the model\n",
        "pyplot.plot([0,1], [0,1], linestyle='--', label='No Skill')\n",
        "pyplot.plot(fpr, tpr, marker='.', label='Logistic')\n",
        "pyplot.scatter(fpr[ix], tpr[ix], marker='o', color='black', label='Best')\n",
        "\n",
        "# axis labels\n",
        "pyplot.xlabel('False Positive Rate')\n",
        "pyplot.ylabel('True Positive Rate')\n",
        "pyplot.legend()\n",
        "\n",
        "# show the plot\n",
        "pyplot.show()"
      ],
      "metadata": {
        "colab": {
          "base_uri": "https://localhost:8080/",
          "height": 296
        },
        "id": "Usm01ebfw7DU",
        "outputId": "8dcfdbc4-96d0-4a64-c8b7-f81aef64dbf7"
      },
      "execution_count": 3,
      "outputs": [
        {
          "output_type": "stream",
          "name": "stdout",
          "text": [
            "Best Threshold=0.016153, G-Mean=0.933\n"
          ]
        },
        {
          "output_type": "display_data",
          "data": {
            "image/png": "[encoded data removed]",
            "text/plain": [
              "<Figure size 432x288 with 1 Axes>"
            ]
          },
          "metadata": {
            "needs_background": "light"
          }
        }
      ]
    },
    {
      "cell_type": "code",
      "source": [
        "pip install autoroc"
      ],
      "metadata": {
        "colab": {
          "base_uri": "https://localhost:8080/"
        },
        "id": "Va41FygjzZgZ",
        "outputId": "bba39a14-5f08-4b4d-e1c3-12282afbe15a"
      },
      "execution_count": 7,
      "outputs": [
        {
          "output_type": "stream",
          "name": "stdout",
          "text": [
            "Collecting autoroc\n",
            "  Downloading autoroc-0.0.1-py3-none-any.whl (2.9 kB)\n",
            "Installing collected packages: autoroc\n",
            "Successfully installed autoroc-0.0.1\n"
          ]
        }
      ]
    },
    {
      "cell_type": "code",
      "source": [
        "from autoroc_rupakbob import autoroc\n",
        "t, t1 = autoroc.best_threshold(testy,yhat)"
      ],
      "metadata": {
        "id": "aRhfdlgwxBJu"
      },
      "execution_count": 8,
      "outputs": []
    },
    {
      "cell_type": "code",
      "source": [
        "print(t, t1)"
      ],
      "metadata": {
        "colab": {
          "base_uri": "https://localhost:8080/"
        },
        "id": "Ekt3qTW0zfLk",
        "outputId": "50258263-1775-4088-e392-819c5a7d3415"
      },
      "execution_count": 11,
      "outputs": [
        {
          "output_type": "stream",
          "name": "stdout",
          "text": [
            "0.016152851152469214 0.9334372236551586\n"
          ]
        }
      ]
    },
    {
      "cell_type": "code",
      "source": [
        "from autoroc_rupakbob import autoroc\n",
        "t3= autoroc.best_threshold_YoudenJstatistic(testy,yhat)"
      ],
      "metadata": {
        "id": "p3BLtzCXxDbh"
      },
      "execution_count": 9,
      "outputs": []
    },
    {
      "cell_type": "code",
      "source": [
        "t3"
      ],
      "metadata": {
        "colab": {
          "base_uri": "https://localhost:8080/"
        },
        "id": "S67_9GyLza1-",
        "outputId": "ae20d443-a307-458e-baaf-cf4b7207cd4a"
      },
      "execution_count": 10,
      "outputs": [
        {
          "output_type": "execute_result",
          "data": {
            "text/plain": [
              "0.016152851152469214"
            ]
          },
          "metadata": {},
          "execution_count": 10
        }
      ]
    }
  ]
}