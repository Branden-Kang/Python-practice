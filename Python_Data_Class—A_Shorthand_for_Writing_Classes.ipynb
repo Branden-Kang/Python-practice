{
  "nbformat": 4,
  "nbformat_minor": 0,
  "metadata": {
    "colab": {
      "provenance": [],
      "authorship_tag": "ABX9TyMJWyptXBcCnBvqDphFGMA4"
    },
    "kernelspec": {
      "name": "python3",
      "display_name": "Python 3"
    },
    "language_info": {
      "name": "python"
    }
  },
  "cells": [
    {
      "cell_type": "markdown",
      "source": [
        "[Reference](https://betterprogramming.pub/python-data-classes-196496c32d75)"
      ],
      "metadata": {
        "id": "TPdr3eOUsNCS"
      }
    },
    {
      "cell_type": "code",
      "execution_count": 1,
      "metadata": {
        "id": "C2KLaCCPsLfy"
      },
      "outputs": [],
      "source": [
        "from dataclasses import dataclass\n",
        "\n",
        "@dataclass\n",
        "class Fruit:\n",
        "    name: str\n",
        "    color: str\n",
        "    weight: float"
      ]
    },
    {
      "cell_type": "code",
      "source": [
        "class Fruit:\n",
        "    def __init__(self, name, color, weight):\n",
        "        self.name = name\n",
        "        self.color = color\n",
        "        self.weight = weight"
      ],
      "metadata": {
        "id": "VAle8NqosPXc"
      },
      "execution_count": 2,
      "outputs": []
    },
    {
      "cell_type": "code",
      "source": [
        "banana = Fruit(\"Banana\", \"Yellow\", 0.2)\n",
        "print(banana.color)"
      ],
      "metadata": {
        "colab": {
          "base_uri": "https://localhost:8080/"
        },
        "id": "y7rxAsdJsQZQ",
        "outputId": "8f6e7bde-221b-408c-d936-580c7c0fb3fc"
      },
      "execution_count": 3,
      "outputs": [
        {
          "output_type": "stream",
          "name": "stdout",
          "text": [
            "Yellow\n"
          ]
        }
      ]
    },
    {
      "cell_type": "code",
      "source": [
        "from dataclasses import dataclass\n",
        "\n",
        "@dataclass\n",
        "class Fruit:\n",
        "    name: str\n",
        "    color: str\n",
        "    weight: float"
      ],
      "metadata": {
        "id": "zzkdQH1bsRet"
      },
      "execution_count": 4,
      "outputs": []
    },
    {
      "cell_type": "code",
      "source": [
        "banana = Fruit(\"Banana\", \"Yellow\", 0.1)\n",
        "print(banana.color)"
      ],
      "metadata": {
        "colab": {
          "base_uri": "https://localhost:8080/"
        },
        "id": "NsOcm0NssSwk",
        "outputId": "11457f9f-ac4d-47e0-e713-224582693ffb"
      },
      "execution_count": 5,
      "outputs": [
        {
          "output_type": "stream",
          "name": "stdout",
          "text": [
            "Yellow\n"
          ]
        }
      ]
    },
    {
      "cell_type": "code",
      "source": [
        "class Fruit:\n",
        "    def __init__(self, name, color, weight):\n",
        "        self.name = name\n",
        "        self.color = color\n",
        "        self.weight = weight"
      ],
      "metadata": {
        "id": "H2yfVxzQsTys"
      },
      "execution_count": 6,
      "outputs": []
    },
    {
      "cell_type": "code",
      "source": [
        "banana = Fruit(\"Banana\", \"Yellow\", 0.1)\n",
        "print(repr(banana))"
      ],
      "metadata": {
        "colab": {
          "base_uri": "https://localhost:8080/"
        },
        "id": "S14QzRUKsWfI",
        "outputId": "59bc2606-7f64-4828-99c8-d4674fc69945"
      },
      "execution_count": 7,
      "outputs": [
        {
          "output_type": "stream",
          "name": "stdout",
          "text": [
            "<__main__.Fruit object at 0x7fe6170efdf0>\n"
          ]
        }
      ]
    },
    {
      "cell_type": "code",
      "source": [
        "class Fruit:\n",
        "    def __init__(self, name, color, weight):\n",
        "        self.name = name\n",
        "        self.color = color\n",
        "        self.weight = weight\n",
        "\n",
        "    def __repr__(self):\n",
        "        return f\"Fruit(name='{self.name}', color='{self.color}', weight={self.weight})\""
      ],
      "metadata": {
        "id": "oEWEtdTKsWpB"
      },
      "execution_count": 8,
      "outputs": []
    },
    {
      "cell_type": "code",
      "source": [
        "banana = Fruit(\"Banana\", \"Yellow\", 0.1)\n",
        "print(repr(banana))"
      ],
      "metadata": {
        "colab": {
          "base_uri": "https://localhost:8080/"
        },
        "id": "hcisY1rnsYS2",
        "outputId": "5bb5b674-41b2-45c0-ec28-93c57775a8db"
      },
      "execution_count": 9,
      "outputs": [
        {
          "output_type": "stream",
          "name": "stdout",
          "text": [
            "Fruit(name='Banana', color='Yellow', weight=0.1)\n"
          ]
        }
      ]
    },
    {
      "cell_type": "code",
      "source": [
        "class Fruit:\n",
        "    def __init__(self, name, color, weight):\n",
        "        self.name = name\n",
        "        self.color = color\n",
        "        self.weight = weight\n",
        "\n",
        "    def __eq__(self, other):\n",
        "        return self.name == other.name and self.color == other.color and self.weight == other.weight"
      ],
      "metadata": {
        "id": "RG9_v-hxsZb9"
      },
      "execution_count": 10,
      "outputs": []
    },
    {
      "cell_type": "code",
      "source": [
        "fruit1 = Fruit(\"Banana\", \"Yellow\", 0.1)\n",
        "fruit2 = Fruit(\"Banana\", \"Yellow\", 0.1)\n",
        "print(fruit1 == fruit2)"
      ],
      "metadata": {
        "colab": {
          "base_uri": "https://localhost:8080/"
        },
        "id": "I_gHyXlQsefg",
        "outputId": "a0b9f6a7-9f3c-402c-d9f5-2d60b64156a6"
      },
      "execution_count": 12,
      "outputs": [
        {
          "output_type": "stream",
          "name": "stdout",
          "text": [
            "True\n"
          ]
        }
      ]
    },
    {
      "cell_type": "code",
      "source": [
        "from dataclasses import dataclass\n",
        "\n",
        "@dataclass\n",
        "class Fruit:\n",
        "    name: str\n",
        "    color: str\n",
        "    weight: float\n",
        "\n",
        "fruit1 = Fruit(\"Banana\", \"Yellow\", 0.1)\n",
        "fruit2 = Fruit(\"Banana\", \"Yellow\", 0.1)\n",
        "\n",
        "print(fruit1 == fruit2)"
      ],
      "metadata": {
        "colab": {
          "base_uri": "https://localhost:8080/"
        },
        "id": "S3EG22aSseqX",
        "outputId": "2ef8df91-a8b7-4440-8724-203796eb4382"
      },
      "execution_count": 13,
      "outputs": [
        {
          "output_type": "stream",
          "name": "stdout",
          "text": [
            "True\n"
          ]
        }
      ]
    },
    {
      "cell_type": "code",
      "source": [
        "class Fruit:\n",
        "    def __init__(self, name, color, weight):\n",
        "        self.name = name\n",
        "        self.color = color\n",
        "        self.weight = weight\n",
        "\n",
        "    def __eq__(self, other):\n",
        "        return self.weight == other.weight\n",
        "\n",
        "    def __ne__(self, other):\n",
        "        return self.weight != other.weight\n",
        "\n",
        "    def __lt__(self, other):\n",
        "        return self.weight < other.weight\n",
        "\n",
        "    def __gt__(self, other):\n",
        "        return self.weight > other.weight\n",
        "\n",
        "    def __le__(self, other):\n",
        "        return self.weight <= other.weight\n",
        "\n",
        "    def __ge__(self, other):\n",
        "        return self.weight >= other.weight"
      ],
      "metadata": {
        "id": "1NWibPFgshJN"
      },
      "execution_count": 14,
      "outputs": []
    },
    {
      "cell_type": "code",
      "source": [
        "banana = Fruit(\"Banana\", \"Yellow\", 0.1)\n",
        "apple = Fruit(\"Apple\", \"Red\", 0.2)\n",
        "\n",
        "print(\"banana < apple: \", banana < apple)\n",
        "print(\"banana > apple: \", banana > apple)\n",
        "\n",
        "print(\"banana <= apple: \", banana <= apple)\n",
        "print(\"banana >= apple: \", banana >= apple)\n",
        "\n",
        "print(\"banana == apple: \", banana == apple)\n",
        "print(\"banana != apple: \", banana != apple)"
      ],
      "metadata": {
        "colab": {
          "base_uri": "https://localhost:8080/"
        },
        "id": "lLYXQNqOskDW",
        "outputId": "4c22abdb-9ed2-4adb-bba7-f2273b970efc"
      },
      "execution_count": 15,
      "outputs": [
        {
          "output_type": "stream",
          "name": "stdout",
          "text": [
            "banana < apple:  True\n",
            "banana > apple:  False\n",
            "banana <= apple:  True\n",
            "banana >= apple:  False\n",
            "banana == apple:  False\n",
            "banana != apple:  True\n"
          ]
        }
      ]
    },
    {
      "cell_type": "code",
      "source": [
        "from dataclasses import dataclass, field\n",
        "\n",
        "@dataclass(order=True)\n",
        "class Fruit:\n",
        "    name: str = field(compare=False)\n",
        "    color: str = field(compare=False)\n",
        "    weight: float = field(compare=True)"
      ],
      "metadata": {
        "id": "fenOGp-QslxX"
      },
      "execution_count": 16,
      "outputs": []
    },
    {
      "cell_type": "code",
      "source": [
        "banana = Fruit(\"Banana\", \"Yellow\", 0.1)\n",
        "apple = Fruit(\"Apple\", \"Red\", 0.2)\n",
        "\n",
        "print(\"banana < apple: \", banana < apple)\n",
        "print(\"banana > apple: \", banana > apple)\n",
        "\n",
        "print(\"banana <= apple: \", banana <= apple)\n",
        "print(\"banana >= apple: \", banana >= apple)\n",
        "\n",
        "print(\"banana == apple: \", banana == apple)\n",
        "print(\"banana != apple: \", banana != apple)"
      ],
      "metadata": {
        "colab": {
          "base_uri": "https://localhost:8080/"
        },
        "id": "qdIFXTVKsnMv",
        "outputId": "7246a580-0b87-4968-fac6-fbca7be23eec"
      },
      "execution_count": 17,
      "outputs": [
        {
          "output_type": "stream",
          "name": "stdout",
          "text": [
            "banana < apple:  True\n",
            "banana > apple:  False\n",
            "banana <= apple:  True\n",
            "banana >= apple:  False\n",
            "banana == apple:  False\n",
            "banana != apple:  True\n"
          ]
        }
      ]
    },
    {
      "cell_type": "code",
      "source": [
        "class Fruit:\n",
        "    def __init__(self, name, color, weight):\n",
        "        self.name = name\n",
        "        self.color = color\n",
        "        self.weight = weight\n",
        "\n",
        "    def __eq__(self, other):\n",
        "        return self.name == other.name and self.color == other.color and self.weight == other.weight\n",
        "\n",
        "    def __hash__(self):\n",
        "        return hash((self.name, self.color, self.weight))"
      ],
      "metadata": {
        "id": "aJunh1hmsogS"
      },
      "execution_count": 18,
      "outputs": []
    },
    {
      "cell_type": "code",
      "source": [
        "fruit1 = Fruit(\"Banana\", \"Yellow\", 0.1)\n",
        "fruit2 = Fruit(\"Banana\", \"Yellow\", 0.1)\n",
        "fruit3 = Fruit(\"Banana\", \"Brown\", 0.2)\n",
        "\n",
        "print(hash(fruit1))\n",
        "print(hash(fruit2))\n",
        "print(hash(fruit3))"
      ],
      "metadata": {
        "colab": {
          "base_uri": "https://localhost:8080/"
        },
        "id": "5vAPwLI6sqdI",
        "outputId": "40e8694f-3de6-40c3-cc51-1ac71a8ec41a"
      },
      "execution_count": 20,
      "outputs": [
        {
          "output_type": "stream",
          "name": "stdout",
          "text": [
            "-8820684721072581513\n",
            "-8820684721072581513\n",
            "-6082302777832065492\n"
          ]
        }
      ]
    },
    {
      "cell_type": "code",
      "source": [
        "from dataclasses import dataclass\n",
        "\n",
        "@dataclass(unsafe_hash=True)\n",
        "class Fruit:\n",
        "    name: str\n",
        "    color: str\n",
        "    weight: float"
      ],
      "metadata": {
        "id": "adwIUhSFsr1c"
      },
      "execution_count": 21,
      "outputs": []
    },
    {
      "cell_type": "code",
      "source": [
        "fruit1 = Fruit(\"Banana\", \"Yellow\", 0.1)\n",
        "fruit2 = Fruit(\"Banana\", \"Yellow\", 0.1)\n",
        "fruit3 = Fruit(\"Banana\", \"Brown\", 0.2)\n",
        "\n",
        "print(hash(fruit1))\n",
        "print(hash(fruit2))\n",
        "print(hash(fruit3))"
      ],
      "metadata": {
        "colab": {
          "base_uri": "https://localhost:8080/"
        },
        "id": "nj3rcWlQsut7",
        "outputId": "cfd7364c-fb7f-4c93-fac8-e8c7a3053351"
      },
      "execution_count": 23,
      "outputs": [
        {
          "output_type": "stream",
          "name": "stdout",
          "text": [
            "-8820684721072581513\n",
            "-8820684721072581513\n",
            "-6082302777832065492\n"
          ]
        }
      ]
    },
    {
      "cell_type": "code",
      "source": [
        "class Fruit:\n",
        "    def __init__(self, name=\"Apple\", color=\"Green\", weight=0.1):\n",
        "        self.name = name\n",
        "        self.color = color\n",
        "        self.weight = weight"
      ],
      "metadata": {
        "id": "dTrERL28svYM"
      },
      "execution_count": 24,
      "outputs": []
    },
    {
      "cell_type": "code",
      "source": [
        "apple = Fruit()\n",
        "banana = Fruit(\"Banana\", \"Yellow\", 0.1)\n",
        "\n",
        "print(apple.name)\n",
        "print(banana.name)"
      ],
      "metadata": {
        "colab": {
          "base_uri": "https://localhost:8080/"
        },
        "id": "1r7NZQjcsytK",
        "outputId": "0d486e75-402f-475c-a035-f8d8f546008b"
      },
      "execution_count": 25,
      "outputs": [
        {
          "output_type": "stream",
          "name": "stdout",
          "text": [
            "Apple\n",
            "Banana\n"
          ]
        }
      ]
    },
    {
      "cell_type": "code",
      "source": [
        "from dataclasses import dataclass\n",
        "\n",
        "@dataclass\n",
        "class Fruit:\n",
        "    name: str = \"Apple\"\n",
        "    color: str = \"Green\"\n",
        "    weight: float = 0.1\n",
        "\n",
        "apple = Fruit()\n",
        "banana = Fruit(\"Banana\", \"Yellow\", 0.1)\n",
        "\n",
        "print(apple.name)\n",
        "print(banana.name)"
      ],
      "metadata": {
        "colab": {
          "base_uri": "https://localhost:8080/"
        },
        "id": "iQc_OV4Fszip",
        "outputId": "3b4d0973-b0e4-4d6d-a805-0a9e1645bc4b"
      },
      "execution_count": 26,
      "outputs": [
        {
          "output_type": "stream",
          "name": "stdout",
          "text": [
            "Apple\n",
            "Banana\n"
          ]
        }
      ]
    },
    {
      "cell_type": "code",
      "source": [
        "from dataclasses import dataclass\n",
        "\n",
        "@dataclass\n",
        "class Fruit:\n",
        "    name: str\n",
        "    color: str\n",
        "    weight: float\n",
        "\n",
        "    def __post_init__(self):\n",
        "        self.info = f\"This is a {self.color} {self.name} that weighs {self.weight} kilos\""
      ],
      "metadata": {
        "id": "skjjWQ8os0xs"
      },
      "execution_count": 27,
      "outputs": []
    },
    {
      "cell_type": "code",
      "source": [
        "banana = Fruit(\"Banana\", \"Yellow\", 0.1)\n",
        "print(banana.info)"
      ],
      "metadata": {
        "colab": {
          "base_uri": "https://localhost:8080/"
        },
        "id": "d2n0a82ps2Zm",
        "outputId": "ed9f381e-c3d3-4f91-86d2-f5ee71173f1d"
      },
      "execution_count": 28,
      "outputs": [
        {
          "output_type": "stream",
          "name": "stdout",
          "text": [
            "This is a Yellow Banana that weighs 0.1 kilos\n"
          ]
        }
      ]
    },
    {
      "cell_type": "code",
      "source": [
        "from dataclasses import dataclass\n",
        "\n",
        "@dataclass(frozen=True)\n",
        "class Fruit:\n",
        "    name: str\n",
        "    color: str\n",
        "    weight: float"
      ],
      "metadata": {
        "id": "9NI5OVrrs4By"
      },
      "execution_count": 30,
      "outputs": []
    },
    {
      "cell_type": "code",
      "source": [
        "banana = Fruit(\"Banana\", \"Yellow\", 0.1)\n",
        "banana.name = \"Apple\""
      ],
      "metadata": {
        "colab": {
          "base_uri": "https://localhost:8080/",
          "height": 249
        },
        "id": "E3bhnN5vs5Rg",
        "outputId": "63d832db-e8de-4cb5-b69d-598d035f9b29"
      },
      "execution_count": 31,
      "outputs": [
        {
          "output_type": "error",
          "ename": "FrozenInstanceError",
          "evalue": "ignored",
          "traceback": [
            "\u001b[0;31m---------------------------------------------------------------------------\u001b[0m",
            "\u001b[0;31mFrozenInstanceError\u001b[0m                       Traceback (most recent call last)",
            "\u001b[0;32m<ipython-input-31-59d4b522e0b5>\u001b[0m in \u001b[0;36m<cell line: 2>\u001b[0;34m()\u001b[0m\n\u001b[1;32m      1\u001b[0m \u001b[0mbanana\u001b[0m \u001b[0;34m=\u001b[0m \u001b[0mFruit\u001b[0m\u001b[0;34m(\u001b[0m\u001b[0;34m\"Banana\"\u001b[0m\u001b[0;34m,\u001b[0m \u001b[0;34m\"Yellow\"\u001b[0m\u001b[0;34m,\u001b[0m \u001b[0;36m0.1\u001b[0m\u001b[0;34m)\u001b[0m\u001b[0;34m\u001b[0m\u001b[0;34m\u001b[0m\u001b[0m\n\u001b[0;32m----> 2\u001b[0;31m \u001b[0mbanana\u001b[0m\u001b[0;34m.\u001b[0m\u001b[0mname\u001b[0m \u001b[0;34m=\u001b[0m \u001b[0;34m\"Apple\"\u001b[0m\u001b[0;34m\u001b[0m\u001b[0;34m\u001b[0m\u001b[0m\n\u001b[0m",
            "\u001b[0;32m<string>\u001b[0m in \u001b[0;36m__setattr__\u001b[0;34m(self, name, value)\u001b[0m\n",
            "\u001b[0;31mFrozenInstanceError\u001b[0m: cannot assign to field 'name'"
          ]
        }
      ]
    },
    {
      "cell_type": "code",
      "source": [
        "from dataclasses import dataclass, astuple, asdict\n",
        "\n",
        "@dataclass\n",
        "class Fruit:\n",
        "    name: str\n",
        "    color: str\n",
        "    weight: float\n",
        "\n",
        "banana = Fruit(\"Banana\", \"Yellow\", 0.1)\n",
        "\n",
        "banana_tuple = astuple(banana)\n",
        "print(banana_tuple)\n",
        "\n",
        "banana_dict = asdict(banana)\n",
        "print(banana_dict)"
      ],
      "metadata": {
        "colab": {
          "base_uri": "https://localhost:8080/"
        },
        "id": "NkOaa_Ois6ly",
        "outputId": "bbd6239c-fb98-4edc-8bee-3fe668ac9b05"
      },
      "execution_count": 32,
      "outputs": [
        {
          "output_type": "stream",
          "name": "stdout",
          "text": [
            "('Banana', 'Yellow', 0.1)\n",
            "{'name': 'Banana', 'color': 'Yellow', 'weight': 0.1}\n"
          ]
        }
      ]
    }
  ]
}