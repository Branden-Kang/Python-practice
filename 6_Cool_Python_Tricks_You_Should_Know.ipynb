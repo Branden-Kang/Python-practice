{
  "nbformat": 4,
  "nbformat_minor": 0,
  "metadata": {
    "colab": {
      "name": "6 Cool Python Tricks You Should Know.ipynb",
      "provenance": [],
      "authorship_tag": "ABX9TyPGgHyEvyleMXtJTHWR+X9c"
    },
    "kernelspec": {
      "name": "python3",
      "display_name": "Python 3"
    }
  },
  "cells": [
    {
      "cell_type": "markdown",
      "metadata": {
        "id": "XYjqM3_lIhbU"
      },
      "source": [
        "[Reference](https://towardsdatascience.com/6-cool-python-tricks-you-should-know-bab1b6a42446)"
      ]
    },
    {
      "cell_type": "markdown",
      "metadata": {
        "id": "683bi6WHLkqp"
      },
      "source": [
        "# 1. Slices"
      ]
    },
    {
      "cell_type": "code",
      "metadata": {
        "colab": {
          "base_uri": "https://localhost:8080/"
        },
        "id": "TAJOyyFdIfpl",
        "outputId": "b158a9d2-9abf-41af-d39d-b82e0e8cf9b2"
      },
      "source": [
        "s = slice(3,6)\n",
        "\n",
        "lst = [1, 3, 'a', 'b', 5, 11, 16]\n",
        "text = 'DataScience'\n",
        "tpl = (1,2,3,4,5,6,7)\n",
        "\n",
        "print(lst[s])\n",
        "print(text[s])\n",
        "print(tpl[s])"
      ],
      "execution_count": 1,
      "outputs": [
        {
          "output_type": "stream",
          "text": [
            "['b', 5, 11]\n",
            "aSc\n",
            "(4, 5, 6)\n"
          ],
          "name": "stdout"
        }
      ]
    },
    {
      "cell_type": "markdown",
      "metadata": {
        "id": "VwEL37w0LikE"
      },
      "source": [
        "# 2. Swapping variables"
      ]
    },
    {
      "cell_type": "code",
      "metadata": {
        "colab": {
          "base_uri": "https://localhost:8080/"
        },
        "id": "C2IbkVgyLY5S",
        "outputId": "68945c24-eb38-4776-b51b-a8e1206ff682"
      },
      "source": [
        "a = 'John'\n",
        "b = 'Emily'\n",
        "c = a\n",
        "a = b\n",
        "b = c\n",
        "print(a)\n",
        "print(b)"
      ],
      "execution_count": 2,
      "outputs": [
        {
          "output_type": "stream",
          "text": [
            "Emily\n",
            "John\n"
          ],
          "name": "stdout"
        }
      ]
    },
    {
      "cell_type": "code",
      "metadata": {
        "colab": {
          "base_uri": "https://localhost:8080/"
        },
        "id": "65OFoGAdLdMz",
        "outputId": "6242ebe5-242c-485e-ce9e-494e751f001d"
      },
      "source": [
        "a = 20\n",
        "b = 50\n",
        "a, b = b, a\n",
        "print(a)\n",
        "print(b)"
      ],
      "execution_count": 3,
      "outputs": [
        {
          "output_type": "stream",
          "text": [
            "50\n",
            "20\n"
          ],
          "name": "stdout"
        }
      ]
    },
    {
      "cell_type": "markdown",
      "metadata": {
        "id": "YuKcZSSvLhPd"
      },
      "source": [
        "# 3. Sorting a list of lists"
      ]
    },
    {
      "cell_type": "code",
      "metadata": {
        "id": "ha1AIfyELfa8"
      },
      "source": [
        "lst = [[2, 7], [7, 3], [3, 8], [8, 7], [9, 7], [4, 9]]"
      ],
      "execution_count": 4,
      "outputs": []
    },
    {
      "cell_type": "code",
      "metadata": {
        "colab": {
          "base_uri": "https://localhost:8080/"
        },
        "id": "53W6TdDqLmar",
        "outputId": "f9c4a635-4571-4650-9abe-e337bf55f68d"
      },
      "source": [
        "lst.sort(key = lambda inner:inner[1])\n",
        "print(lst)"
      ],
      "execution_count": 5,
      "outputs": [
        {
          "output_type": "stream",
          "text": [
            "[[7, 3], [2, 7], [8, 7], [9, 7], [3, 8], [4, 9]]\n"
          ],
          "name": "stdout"
        }
      ]
    },
    {
      "cell_type": "code",
      "metadata": {
        "colab": {
          "base_uri": "https://localhost:8080/"
        },
        "id": "iCcJZEK3LnPR",
        "outputId": "154600c4-46d5-4128-8180-0414a655ff85"
      },
      "source": [
        "lst.sort(key = lambda inner:inner[0])\n",
        "print(lst)"
      ],
      "execution_count": 6,
      "outputs": [
        {
          "output_type": "stream",
          "text": [
            "[[2, 7], [3, 8], [4, 9], [7, 3], [8, 7], [9, 7]]\n"
          ],
          "name": "stdout"
        }
      ]
    },
    {
      "cell_type": "markdown",
      "metadata": {
        "id": "B5ICqM1cMknK"
      },
      "source": [
        "# 4. Argument unpacking"
      ]
    },
    {
      "cell_type": "code",
      "metadata": {
        "colab": {
          "base_uri": "https://localhost:8080/"
        },
        "id": "qkXH_hUwLobU",
        "outputId": "427cf9d5-8feb-458b-93e0-d6f4d6fee422"
      },
      "source": [
        "def mult(a, b, c):\n",
        "   return a * b * c\n",
        "   \n",
        "mult(2, 3, 4)"
      ],
      "execution_count": 7,
      "outputs": [
        {
          "output_type": "execute_result",
          "data": {
            "text/plain": [
              "24"
            ]
          },
          "metadata": {
            "tags": []
          },
          "execution_count": 7
        }
      ]
    },
    {
      "cell_type": "code",
      "metadata": {
        "id": "SbqsHsbdMmQb"
      },
      "source": [
        "def mult(*args):\n",
        "   result = 1\n",
        "   for i in args:\n",
        "      result *= i\n",
        "   return result"
      ],
      "execution_count": 8,
      "outputs": []
    },
    {
      "cell_type": "code",
      "metadata": {
        "colab": {
          "base_uri": "https://localhost:8080/"
        },
        "id": "9dORVmI7MoBR",
        "outputId": "2f85c3c5-6830-4316-dda3-8602c4b377b4"
      },
      "source": [
        "mult(2, 3)"
      ],
      "execution_count": 9,
      "outputs": [
        {
          "output_type": "execute_result",
          "data": {
            "text/plain": [
              "6"
            ]
          },
          "metadata": {
            "tags": []
          },
          "execution_count": 9
        }
      ]
    },
    {
      "cell_type": "code",
      "metadata": {
        "colab": {
          "base_uri": "https://localhost:8080/"
        },
        "id": "xNUkA2-fMoqN",
        "outputId": "9b153ade-8777-45ac-dfbb-54bc79fcc795"
      },
      "source": [
        "mult(2, 3, 4)"
      ],
      "execution_count": 10,
      "outputs": [
        {
          "output_type": "execute_result",
          "data": {
            "text/plain": [
              "24"
            ]
          },
          "metadata": {
            "tags": []
          },
          "execution_count": 10
        }
      ]
    },
    {
      "cell_type": "code",
      "metadata": {
        "colab": {
          "base_uri": "https://localhost:8080/"
        },
        "id": "YJk7lrr1Mo3x",
        "outputId": "7e993415-b906-4ef7-8eae-b3e6f8fc3ebf"
      },
      "source": [
        "mult(2, 3, 4, 9)"
      ],
      "execution_count": 11,
      "outputs": [
        {
          "output_type": "execute_result",
          "data": {
            "text/plain": [
              "216"
            ]
          },
          "metadata": {
            "tags": []
          },
          "execution_count": 11
        }
      ]
    },
    {
      "cell_type": "markdown",
      "metadata": {
        "id": "K_n7hOKcMrVc"
      },
      "source": [
        "# 5. Decompose a collection"
      ]
    },
    {
      "cell_type": "code",
      "metadata": {
        "colab": {
          "base_uri": "https://localhost:8080/"
        },
        "id": "d2A76JqSMp9Q",
        "outputId": "91414a50-f2ca-4186-a5d0-3f4d16ee6dc8"
      },
      "source": [
        "tpl = (1, 2)\n",
        "x = tpl[0]\n",
        "y = tpl[1]\n",
        "print(x, y)"
      ],
      "execution_count": 12,
      "outputs": [
        {
          "output_type": "stream",
          "text": [
            "1 2\n"
          ],
          "name": "stdout"
        }
      ]
    },
    {
      "cell_type": "code",
      "metadata": {
        "colab": {
          "base_uri": "https://localhost:8080/"
        },
        "id": "_OEPRvsMMtLN",
        "outputId": "413a1291-2b99-4f43-838e-4f11b1c1db7a"
      },
      "source": [
        "x, y = tpl\n",
        "print(x, y)"
      ],
      "execution_count": 13,
      "outputs": [
        {
          "output_type": "stream",
          "text": [
            "1 2\n"
          ],
          "name": "stdout"
        }
      ]
    },
    {
      "cell_type": "code",
      "metadata": {
        "colab": {
          "base_uri": "https://localhost:8080/"
        },
        "id": "8Q9pt1eDMuqV",
        "outputId": "4bf54bd7-ab08-40d4-f14b-7660a36a1f70"
      },
      "source": [
        "x, y, z = {1, 2, 3}\n",
        "print(x, y, z)"
      ],
      "execution_count": 14,
      "outputs": [
        {
          "output_type": "stream",
          "text": [
            "1 2 3\n"
          ],
          "name": "stdout"
        }
      ]
    },
    {
      "cell_type": "code",
      "metadata": {
        "colab": {
          "base_uri": "https://localhost:8080/"
        },
        "id": "iZB2qnDVMv7t",
        "outputId": "693b23c6-8393-4dc6-a9ce-c172d8999fcc"
      },
      "source": [
        "x, y, z = ['a', 'b', 'c']\n",
        "print(x, y, z)"
      ],
      "execution_count": 15,
      "outputs": [
        {
          "output_type": "stream",
          "text": [
            "a b c\n"
          ],
          "name": "stdout"
        }
      ]
    },
    {
      "cell_type": "markdown",
      "metadata": {
        "id": "kPUHoNsmMyAt"
      },
      "source": [
        "# 6. F strings"
      ]
    },
    {
      "cell_type": "code",
      "metadata": {
        "colab": {
          "base_uri": "https://localhost:8080/"
        },
        "id": "4zZkPKpeMxJK",
        "outputId": "6f81f9d2-bc2e-4059-ab7a-f4f24aa312ef"
      },
      "source": [
        "name = 'John'\n",
        "age = 15\n",
        "print(\"{} is {} years old\".format(name, age))"
      ],
      "execution_count": 16,
      "outputs": [
        {
          "output_type": "stream",
          "text": [
            "John is 15 years old\n"
          ],
          "name": "stdout"
        }
      ]
    },
    {
      "cell_type": "code",
      "metadata": {
        "id": "a1cthj3YMzye",
        "outputId": "1de045c4-fc37-4126-97e9-09b98f9727fc",
        "colab": {
          "base_uri": "https://localhost:8080/"
        }
      },
      "source": [
        "print(f\"{name} is {age} years old\")"
      ],
      "execution_count": 17,
      "outputs": [
        {
          "output_type": "stream",
          "text": [
            "John is 15 years old\n"
          ],
          "name": "stdout"
        }
      ]
    }
  ]
}