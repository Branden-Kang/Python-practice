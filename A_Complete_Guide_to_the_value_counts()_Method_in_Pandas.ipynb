{
  "nbformat": 4,
  "nbformat_minor": 0,
  "metadata": {
    "colab": {
      "name": "A Complete Guide to the value_counts() Method in Pandas.ipynb",
      "provenance": [],
      "authorship_tag": "ABX9TyOgW5CR2qodz29G9/j4q/Lf"
    },
    "kernelspec": {
      "name": "python3",
      "display_name": "Python 3"
    },
    "language_info": {
      "name": "python"
    }
  },
  "cells": [
    {
      "cell_type": "markdown",
      "source": [
        "[Reference](https://medium.com/@siglimumuni/a-complete-guide-to-the-value-counts-method-in-pandas-a8c24296be2d)"
      ],
      "metadata": {
        "id": "WlqUXtSaRvOc"
      }
    },
    {
      "cell_type": "code",
      "execution_count": 1,
      "metadata": {
        "colab": {
          "base_uri": "https://localhost:8080/"
        },
        "id": "TyCJYKW4Rtwf",
        "outputId": "2c6182e3-765c-4025-861c-d6b57479d1d2"
      },
      "outputs": [
        {
          "output_type": "stream",
          "name": "stdout",
          "text": [
            "       Name     Sex  Score Grade\n",
            "0     James    Male     80     B\n",
            "1       Dan    Male     91     A\n",
            "2  Jonathan    Male     75     C\n",
            "3      Eric    Male     88     B\n",
            "4    Joanna  Female     89     B\n",
            "5      Mary  Female     90     A\n",
            "6       Sue  Female     92     A\n",
            "7       Jim    Male     91   NaN\n",
            "8    Lionel    Male     82     B\n",
            "9       Tim    Male     80   NaN\n"
          ]
        }
      ],
      "source": [
        "import numpy as np\n",
        "import pandas as pd\n",
        "\n",
        "my_dict = {\"Name\": [\"James\",\"Dan\",\"Jonathan\",\"Eric\",\"Joanna\",\"Mary\",\"Sue\",\"Jim\",\"Lionel\",\"Tim\"],\n",
        "           \"Sex\":[\"Male\",\"Male\",\"Male\",\"Male\",\"Female\",\"Female\",\"Female\",\"Male\",\"Male\",\"Male\"],\n",
        "           \"Score\":[80,91,75,88,89,90,92,91,82,80],\n",
        "           \"Grade\":[\"B\",\"A\",\"C\",\"B\",\"B\",\"A\",\"A\",np.nan,\"B\",np.nan]}\n",
        "\n",
        "df = pd.DataFrame(my_dict)\n",
        "\n",
        "print(df)"
      ]
    },
    {
      "cell_type": "markdown",
      "source": [
        "# 1. Default Parameters"
      ],
      "metadata": {
        "id": "fT1dWtRYR5rK"
      }
    },
    {
      "cell_type": "code",
      "source": [
        "#Return counts of values in Grade column\n",
        "df[\"Grade\"].value_counts()"
      ],
      "metadata": {
        "colab": {
          "base_uri": "https://localhost:8080/"
        },
        "id": "0MeCmyg9R4vy",
        "outputId": "ee3396e3-4561-435d-9d43-8526c50b1b4b"
      },
      "execution_count": 2,
      "outputs": [
        {
          "output_type": "execute_result",
          "data": {
            "text/plain": [
              "B    4\n",
              "A    3\n",
              "C    1\n",
              "Name: Grade, dtype: int64"
            ]
          },
          "metadata": {},
          "execution_count": 2
        }
      ]
    },
    {
      "cell_type": "markdown",
      "source": [
        "# 2. Display NaN values"
      ],
      "metadata": {
        "id": "v1QnUKR-R7tp"
      }
    },
    {
      "cell_type": "code",
      "source": [
        "#Include NaN values in result\n",
        "df[\"Grade\"].value_counts(dropna=False)"
      ],
      "metadata": {
        "colab": {
          "base_uri": "https://localhost:8080/"
        },
        "id": "toMB8e6nR6ku",
        "outputId": "afade493-a3fc-4c1b-d98d-5b01b7d820fb"
      },
      "execution_count": 3,
      "outputs": [
        {
          "output_type": "execute_result",
          "data": {
            "text/plain": [
              "B      4\n",
              "A      3\n",
              "NaN    2\n",
              "C      1\n",
              "Name: Grade, dtype: int64"
            ]
          },
          "metadata": {},
          "execution_count": 3
        }
      ]
    },
    {
      "cell_type": "markdown",
      "source": [
        "# 3. Sort in ascending order"
      ],
      "metadata": {
        "id": "q3mn-5RyR906"
      }
    },
    {
      "cell_type": "code",
      "source": [
        "#Sort count values in ascending order\n",
        "df[\"Grade\"].value_counts(dropna=False,ascending=True)"
      ],
      "metadata": {
        "colab": {
          "base_uri": "https://localhost:8080/"
        },
        "id": "zpVzpu_bR86J",
        "outputId": "6c6e48c8-f07d-43a5-a1c8-091304140c76"
      },
      "execution_count": 4,
      "outputs": [
        {
          "output_type": "execute_result",
          "data": {
            "text/plain": [
              "C      1\n",
              "NaN    2\n",
              "A      3\n",
              "B      4\n",
              "Name: Grade, dtype: int64"
            ]
          },
          "metadata": {},
          "execution_count": 4
        }
      ]
    },
    {
      "cell_type": "markdown",
      "source": [
        "# 4. No sorting"
      ],
      "metadata": {
        "id": "qQCH0SBjR_99"
      }
    },
    {
      "cell_type": "code",
      "source": [
        "df[\"Grade\"].value_counts(dropna=False,sort=False)"
      ],
      "metadata": {
        "colab": {
          "base_uri": "https://localhost:8080/"
        },
        "id": "uBdqE_23R-yf",
        "outputId": "c5d05fb4-48fd-44f1-d82a-0017e1c223f4"
      },
      "execution_count": 5,
      "outputs": [
        {
          "output_type": "execute_result",
          "data": {
            "text/plain": [
              "B      4\n",
              "A      3\n",
              "C      1\n",
              "NaN    2\n",
              "Name: Grade, dtype: int64"
            ]
          },
          "metadata": {},
          "execution_count": 5
        }
      ]
    },
    {
      "cell_type": "markdown",
      "source": [
        "# 5. Relative frequencies of values"
      ],
      "metadata": {
        "id": "qcRL3_5YSDEs"
      }
    },
    {
      "cell_type": "code",
      "source": [
        "#Display relative frequencies\n",
        "df[\"Grade\"].value_counts(dropna=False,normalize=True)"
      ],
      "metadata": {
        "colab": {
          "base_uri": "https://localhost:8080/"
        },
        "id": "BzHpETzfSBhe",
        "outputId": "28207514-a023-495f-d454-ecc59101b52e"
      },
      "execution_count": 6,
      "outputs": [
        {
          "output_type": "execute_result",
          "data": {
            "text/plain": [
              "B      0.4\n",
              "A      0.3\n",
              "NaN    0.2\n",
              "C      0.1\n",
              "Name: Grade, dtype: float64"
            ]
          },
          "metadata": {},
          "execution_count": 6
        }
      ]
    },
    {
      "cell_type": "markdown",
      "source": [
        "# 6. Bin continuous data into discrete intervals"
      ],
      "metadata": {
        "id": "MITrDx4ESFGj"
      }
    },
    {
      "cell_type": "code",
      "source": [
        "#Bin continuous data into discrete intervals\n",
        "df[\"Score\"].value_counts(bins=3, sort=False)"
      ],
      "metadata": {
        "colab": {
          "base_uri": "https://localhost:8080/"
        },
        "id": "uFi2iuNzSEKL",
        "outputId": "724bc1a7-fc43-466d-a484-b6eb3904a362"
      },
      "execution_count": 7,
      "outputs": [
        {
          "output_type": "execute_result",
          "data": {
            "text/plain": [
              "(74.982, 80.667]    3\n",
              "(80.667, 86.333]    1\n",
              "(86.333, 92.0]      6\n",
              "Name: Score, dtype: int64"
            ]
          },
          "metadata": {},
          "execution_count": 7
        }
      ]
    },
    {
      "cell_type": "code",
      "source": [
        "#Bin continuous data into user specified bins\n",
        "df[\"Score\"].value_counts(bins=[70,80,90,100],sort=False)"
      ],
      "metadata": {
        "colab": {
          "base_uri": "https://localhost:8080/"
        },
        "id": "jt5JTdkySGg4",
        "outputId": "8f7894aa-27ec-47c4-a0e6-f1ff31b22b08"
      },
      "execution_count": 8,
      "outputs": [
        {
          "output_type": "execute_result",
          "data": {
            "text/plain": [
              "(69.999, 80.0]    3\n",
              "(80.0, 90.0]      4\n",
              "(90.0, 100.0]     3\n",
              "Name: Score, dtype: int64"
            ]
          },
          "metadata": {},
          "execution_count": 8
        }
      ]
    },
    {
      "cell_type": "markdown",
      "source": [
        "# 7. With other methods"
      ],
      "metadata": {
        "id": "tT60OmF1SIaC"
      }
    },
    {
      "cell_type": "code",
      "source": [
        "#Sort column values A-Z\n",
        "df[\"Grade\"].value_counts().sort_index()"
      ],
      "metadata": {
        "colab": {
          "base_uri": "https://localhost:8080/"
        },
        "id": "0RleDVWVSHiG",
        "outputId": "9c1859de-f116-46f2-e968-ccc4357c981d"
      },
      "execution_count": 9,
      "outputs": [
        {
          "output_type": "execute_result",
          "data": {
            "text/plain": [
              "A    3\n",
              "B    4\n",
              "C    1\n",
              "Name: Grade, dtype: int64"
            ]
          },
          "metadata": {},
          "execution_count": 9
        }
      ]
    },
    {
      "cell_type": "code",
      "source": [
        "#Sort column values Z-A\n",
        "df[\"Grade\"].value_counts().sort_index(ascending=False)"
      ],
      "metadata": {
        "colab": {
          "base_uri": "https://localhost:8080/"
        },
        "id": "4d_DddcpSJph",
        "outputId": "32102c71-6160-4894-8f55-03ab00ca5a6b"
      },
      "execution_count": 10,
      "outputs": [
        {
          "output_type": "execute_result",
          "data": {
            "text/plain": [
              "C    1\n",
              "B    4\n",
              "A    3\n",
              "Name: Grade, dtype: int64"
            ]
          },
          "metadata": {},
          "execution_count": 10
        }
      ]
    },
    {
      "cell_type": "code",
      "source": [
        "#Group values and then count\n",
        "df.groupby(\"Sex\")[\"Grade\"].value_counts()"
      ],
      "metadata": {
        "colab": {
          "base_uri": "https://localhost:8080/"
        },
        "id": "3YtR93LSSjFL",
        "outputId": "ecd79e75-9b00-4603-d512-6a97be8bcf46"
      },
      "execution_count": 11,
      "outputs": [
        {
          "output_type": "execute_result",
          "data": {
            "text/plain": [
              "Sex     Grade\n",
              "Female  A        2\n",
              "        B        1\n",
              "Male    B        3\n",
              "        A        1\n",
              "        C        1\n",
              "Name: Grade, dtype: int64"
            ]
          },
          "metadata": {},
          "execution_count": 11
        }
      ]
    },
    {
      "cell_type": "code",
      "source": [
        "#Convert series to dataframe\n",
        "grade_count = df[\"Grade\"].value_counts().to_frame()\n",
        "\n",
        "#Rename columns\n",
        "grade_count = grade_count.reset_index().rename(columns={\"index\":\"Grade\",\"Grade\":\"Count\"})\n",
        "\n",
        "print(grade_count)\n",
        "print(type(grade_count))"
      ],
      "metadata": {
        "colab": {
          "base_uri": "https://localhost:8080/"
        },
        "id": "nbagTSJ8SkUl",
        "outputId": "a769db88-6644-4652-82f5-e1f2efef313d"
      },
      "execution_count": 12,
      "outputs": [
        {
          "output_type": "stream",
          "name": "stdout",
          "text": [
            "  Grade  Count\n",
            "0     B      4\n",
            "1     A      3\n",
            "2     C      1\n",
            "<class 'pandas.core.frame.DataFrame'>\n"
          ]
        }
      ]
    },
    {
      "cell_type": "code",
      "source": [
        "#Specifying a condition\n",
        "df[\"Grade\"].value_counts().loc[lambda x : x>2]"
      ],
      "metadata": {
        "colab": {
          "base_uri": "https://localhost:8080/"
        },
        "id": "zuzmr4cfSlha",
        "outputId": "db544689-3233-469b-cd49-a1e2c622a69a"
      },
      "execution_count": 13,
      "outputs": [
        {
          "output_type": "execute_result",
          "data": {
            "text/plain": [
              "B    4\n",
              "A    3\n",
              "Name: Grade, dtype: int64"
            ]
          },
          "metadata": {},
          "execution_count": 13
        }
      ]
    }
  ]
}