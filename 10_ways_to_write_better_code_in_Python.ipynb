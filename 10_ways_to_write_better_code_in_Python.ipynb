{
  "nbformat": 4,
  "nbformat_minor": 0,
  "metadata": {
    "colab": {
      "name": "10 ways to write better code in Python.ipynb",
      "provenance": [],
      "authorship_tag": "ABX9TyMa5ckt9Xzy2ddoi9ZAO1Wc"
    },
    "kernelspec": {
      "name": "python3",
      "display_name": "Python 3"
    }
  },
  "cells": [
    {
      "cell_type": "markdown",
      "metadata": {
        "id": "Bt2hXe-0Iebz"
      },
      "source": [
        "[Reference](https://medium.com/mozilla-club-bbsr/how-to-write-better-python-code-ab94cf93eea9)"
      ]
    },
    {
      "cell_type": "code",
      "metadata": {
        "id": "CMjIe8VjIILJ",
        "outputId": "e92f0518-5415-4637-eb9c-cdcf263aeb9f",
        "colab": {
          "base_uri": "https://localhost:8080/"
        }
      },
      "source": [
        "from itertools import combinations\n",
        "\n",
        "names = 'ABC'\n",
        "for combination in combinations(names, 2):\n",
        "    print(combination)"
      ],
      "execution_count": 3,
      "outputs": [
        {
          "output_type": "stream",
          "text": [
            "('A', 'B')\n",
            "('A', 'C')\n",
            "('B', 'C')\n"
          ],
          "name": "stdout"
        }
      ]
    },
    {
      "cell_type": "code",
      "metadata": {
        "id": "Jpgsb3vLI_6_",
        "outputId": "7af1a3a4-98fa-45f1-ec51-09f27b16e98a",
        "colab": {
          "base_uri": "https://localhost:8080/"
        }
      },
      "source": [
        "# frequency of all characters in a string in sorted order\n",
        "\n",
        "from collections import (OrderedDict, Counter)\n",
        "\n",
        "string = 'abcbcaaba'\n",
        "freq = Counter(string)\n",
        "freq_sorted = OrderedDict(freq.most_common())\n",
        "\n",
        "for key, val in freq_sorted.items():\n",
        "    print(key, val)"
      ],
      "execution_count": 4,
      "outputs": [
        {
          "output_type": "stream",
          "text": [
            "a 4\n",
            "b 3\n",
            "c 2\n"
          ],
          "name": "stdout"
        }
      ]
    },
    {
      "cell_type": "code",
      "metadata": {
        "id": "TtxltOv4JNl3"
      },
      "source": [
        "# bad code\n",
        "def is_positive(num):\n",
        "    if num >= 0:\n",
        "        return True\n",
        "    else:\n",
        "        return False"
      ],
      "execution_count": 5,
      "outputs": []
    },
    {
      "cell_type": "code",
      "metadata": {
        "id": "j84XwzZyJQnp"
      },
      "source": [
        "# good code\n",
        "def is_positive(num):\n",
        "    return num >= 0"
      ],
      "execution_count": 6,
      "outputs": []
    }
  ]
}