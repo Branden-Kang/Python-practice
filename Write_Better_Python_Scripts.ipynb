{
  "nbformat": 4,
  "nbformat_minor": 0,
  "metadata": {
    "colab": {
      "name": "Write Better Python Scripts.ipynb",
      "provenance": [],
      "authorship_tag": "ABX9TyN/ZDU1gh6CqfkG/1Xzfp00"
    },
    "kernelspec": {
      "name": "python3",
      "display_name": "Python 3"
    }
  },
  "cells": [
    {
      "cell_type": "markdown",
      "metadata": {
        "id": "DGn6qJRd4EiW"
      },
      "source": [
        "[Reference](https://medium.com/better-programming/write-better-python-scripts-ce58c1ebf690)"
      ]
    },
    {
      "cell_type": "code",
      "metadata": {
        "id": "-cxSyCSfqe7t"
      },
      "source": [
        "def modular_function():\n",
        "  pass\n",
        "\n",
        "\n",
        "def main():\n",
        "  # main function that you use to run the program\n",
        "  modular_function()\n",
        "  \n",
        "  \n",
        "if __name__ == '__main__':\n",
        "    main()"
      ],
      "execution_count": 2,
      "outputs": []
    },
    {
      "cell_type": "markdown",
      "metadata": {
        "id": "20oSjlXS3xR9"
      },
      "source": [
        "# Parse Command-Line Arguments With argparse"
      ]
    },
    {
      "cell_type": "code",
      "metadata": {
        "id": "I9DOGd3M2lql",
        "outputId": "9e4a4054-9792-4737-8cca-a7d04152a7e2",
        "colab": {
          "base_uri": "https://localhost:8080/",
          "height": 235
        }
      },
      "source": [
        "#!/usr/bin/env python3\n",
        "# File name: format.py\n",
        "# Description: Basic format for Python scripts\n",
        "# Author: Branden Kang\n",
        "# Date: 10-11-2020\n",
        "\n",
        "import sys\n",
        "import argparse\n",
        "import logging\n",
        "from logging import critical, error, info, warning, debug\n",
        "\n",
        "\n",
        "def parse_arguments():\n",
        "    \"\"\"Read arguments from a command line.\"\"\"\n",
        "    parser = argparse.ArgumentParser(description='Arguments get parsed via --commands')\n",
        "    parser.add_argument('-v', metavar='verbosity', type=int, default=2,\n",
        "        help='Verbosity of logging: 0 -critical, 1- error, 2 -warning, 3 -info, 4 -debug')\n",
        "\n",
        "    args = parser.parse_args()\n",
        "    verbose = {0: logging.CRITICAL, 1: logging.ERROR, 2: logging.WARNING, 3: logging.INFO, 4: logging.DEBUG}\n",
        "    logging.basicConfig(format='%(message)s', level=verbose[args.v], stream=sys.stdout)\n",
        "    \n",
        "    return args\n",
        "    \n",
        "    \n",
        "def main():\n",
        "    pass\n",
        "\n",
        "\n",
        "if __name__ == '__main__':\n",
        "    args = parse_arguments()\n",
        "    main()"
      ],
      "execution_count": 4,
      "outputs": [
        {
          "output_type": "stream",
          "text": [
            "usage: ipykernel_launcher.py [-h] [-v verbosity]\n",
            "ipykernel_launcher.py: error: unrecognized arguments: -f /root/.local/share/jupyter/runtime/kernel-3841af1e-1d70-4db3-85e0-818a9e6ee5e0.json\n"
          ],
          "name": "stderr"
        },
        {
          "output_type": "error",
          "ename": "SystemExit",
          "evalue": "ignored",
          "traceback": [
            "An exception has occurred, use %tb to see the full traceback.\n",
            "\u001b[0;31mSystemExit\u001b[0m\u001b[0;31m:\u001b[0m 2\n"
          ]
        },
        {
          "output_type": "stream",
          "text": [
            "/usr/local/lib/python3.6/dist-packages/IPython/core/interactiveshell.py:2890: UserWarning:\n",
            "\n",
            "To exit: use 'exit', 'quit', or Ctrl-D.\n",
            "\n"
          ],
          "name": "stderr"
        }
      ]
    }
  ]
}