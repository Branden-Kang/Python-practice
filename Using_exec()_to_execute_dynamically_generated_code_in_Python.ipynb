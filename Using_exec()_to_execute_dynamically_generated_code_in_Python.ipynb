{
  "nbformat": 4,
  "nbformat_minor": 0,
  "metadata": {
    "colab": {
      "provenance": [],
      "authorship_tag": "ABX9TyPKGx0aQsQaySVdk4fiFrAI"
    },
    "kernelspec": {
      "name": "python3",
      "display_name": "Python 3"
    },
    "language_info": {
      "name": "python"
    }
  },
  "cells": [
    {
      "cell_type": "markdown",
      "source": [
        "[Refernece](https://medium.com/@geekpython/using-exec-to-execute-dynamically-generated-code-in-python-758ae20b3a7c)"
      ],
      "metadata": {
        "id": "YckpKLYJHKSN"
      }
    },
    {
      "cell_type": "code",
      "execution_count": 1,
      "metadata": {
        "colab": {
          "base_uri": "https://localhost:8080/"
        },
        "id": "DQmQCIpSHGxR",
        "outputId": "84acddbc-231f-4e32-9062-71dfbdfe2f48"
      },
      "outputs": [
        {
          "output_type": "stream",
          "name": "stdout",
          "text": [
            "['cher', 'melo']\n"
          ]
        }
      ],
      "source": [
        "obj = [\"apple\", \"cherry\", \"melon\", \"strawberry\"]\n",
        "code = \"print([sliced[:4] for sliced in obj if 'a' not in sliced])\"\n",
        "\n",
        "exec(code)"
      ]
    },
    {
      "cell_type": "code",
      "source": [
        "# # The code will continuously run and we can run our code as we do in \n",
        "# # Python interpreter \n",
        "# while True:\n",
        "#     exec(input(\">>> \"))"
      ],
      "metadata": {
        "id": "9UQ_vZzAHHhB"
      },
      "execution_count": 2,
      "outputs": []
    },
    {
      "cell_type": "code",
      "source": [
        "print(\"Welcome to GeekPython\")\n",
        "\n",
        "import numpy as np\n",
        "print(np.random.randint(16, size=(2, 4)))\n",
        "\n",
        "x = [\"apple\", \"banana\", \"cherry\", \"mango\"]\n",
        "print([fruit for fruit in x if \"a\" not in fruit])"
      ],
      "metadata": {
        "colab": {
          "base_uri": "https://localhost:8080/"
        },
        "id": "i1sMFRKbHTgb",
        "outputId": "2a4bf234-50c8-4a20-a788-74caa492398c"
      },
      "execution_count": 3,
      "outputs": [
        {
          "output_type": "stream",
          "name": "stdout",
          "text": [
            "Welcome to GeekPython\n",
            "[[15 15  4  4]\n",
            " [11  9  1  6]]\n",
            "['cherry']\n"
          ]
        }
      ]
    },
    {
      "cell_type": "code",
      "source": [
        "obj = [\"apple\", \"cherry\", \"melon\", \"strawberry\"]\n",
        "\n",
        "print([sliced[:4] for sliced in obj if 'a' not in sliced])"
      ],
      "metadata": {
        "colab": {
          "base_uri": "https://localhost:8080/"
        },
        "id": "yoW15bJWIK6K",
        "outputId": "3cbbbf79-6ee6-4b51-e470-600cea75db9b"
      },
      "execution_count": 4,
      "outputs": [
        {
          "output_type": "stream",
          "name": "stdout",
          "text": [
            "['cher', 'melo']\n"
          ]
        }
      ]
    },
    {
      "cell_type": "code",
      "source": [
        "obj = [\"apple\", \"cherry\", \"melon\", \"strawberry\"]\n",
        "\n",
        "exec(\"print([sliced[:4] for sliced in obj if 'a' not in sliced])\")"
      ],
      "metadata": {
        "colab": {
          "base_uri": "https://localhost:8080/"
        },
        "id": "SUNG25HjINDN",
        "outputId": "3fca09db-aa51-4de8-99ce-0cacc92a38c0"
      },
      "execution_count": 5,
      "outputs": [
        {
          "output_type": "stream",
          "name": "stdout",
          "text": [
            "['cher', 'melo']\n"
          ]
        }
      ]
    },
    {
      "cell_type": "code",
      "source": [
        "exec(\"square = int(input('Enter the number: '))\\nprint(f'The square of {square}:', square**2)\")"
      ],
      "metadata": {
        "colab": {
          "base_uri": "https://localhost:8080/"
        },
        "id": "f1qq-1yqIo7t",
        "outputId": "a576dac7-4416-4d29-e0c7-26ec20e006bd"
      },
      "execution_count": 6,
      "outputs": [
        {
          "output_type": "stream",
          "name": "stdout",
          "text": [
            "Enter the number: 12\n",
            "The square of 12: 144\n"
          ]
        }
      ]
    },
    {
      "cell_type": "code",
      "source": [
        "sample_code = \"\"\"\n",
        "\n",
        "integers = [4, 7, 2, 9, 44]\n",
        "\n",
        "def square(num):\n",
        "    return num ** 2\n",
        "\n",
        "def odd_num(num):\n",
        "    return num % 2 == 1\n",
        "\n",
        "square_if_even = [square(number) for number in integers if number % 2 == 0]\n",
        "\n",
        "odd_number = [number for number in integers if odd_num(number)]\n",
        "\n",
        "print(\"Original values:\", integers)\n",
        "\n",
        "print(\"Square of even number:\", square_if_even)\n",
        "\n",
        "print(\"Odd number:\", odd_number)\n",
        "\n",
        "\"\"\"\n",
        "exec(sample_code)"
      ],
      "metadata": {
        "colab": {
          "base_uri": "https://localhost:8080/"
        },
        "id": "Lb-ueO3RIqrH",
        "outputId": "4c609eae-a450-47b2-9df4-87e7d0c424e0"
      },
      "execution_count": 7,
      "outputs": [
        {
          "output_type": "stream",
          "name": "stdout",
          "text": [
            "Original values: [4, 7, 2, 9, 44]\n",
            "Square of even number: [16, 4, 1936]\n",
            "Odd number: [7, 9]\n"
          ]
        }
      ]
    },
    {
      "cell_type": "code",
      "source": [
        "# sample.py\n",
        "\n",
        "def anime(name):\n",
        "    print(f\"Favourite anime: {name}\")\n",
        "\n",
        "anime(\"One Piece\")\n",
        "\n",
        "list_of_anime = input(\"Enter your favourite anime: \").split(\",\")\n",
        "print(\"Your Favourite anime:\", list_of_anime)"
      ],
      "metadata": {
        "colab": {
          "base_uri": "https://localhost:8080/"
        },
        "id": "cWgMne3BIvFp",
        "outputId": "2f50a7e0-7ce3-4862-eed5-a2e12d224924"
      },
      "execution_count": 8,
      "outputs": [
        {
          "output_type": "stream",
          "name": "stdout",
          "text": [
            "Favourite anime: One Piece\n",
            "Enter your favourite anime: None\n",
            "Your Favourite anime: ['None']\n"
          ]
        }
      ]
    },
    {
      "cell_type": "code",
      "source": [
        "code = \"\"\"\n",
        "out = str1 + str2\n",
        "print(out)\n",
        "\"\"\"\n",
        "# global variables\n",
        "str1 = \"Hel\"\n",
        "str2 = \"lo\"\n",
        "\n",
        "exec(code)"
      ],
      "metadata": {
        "colab": {
          "base_uri": "https://localhost:8080/"
        },
        "id": "zJE7EkF4I_Yw",
        "outputId": "7e539542-86ed-4865-8ff9-2b1cdaf1c9f5"
      },
      "execution_count": 9,
      "outputs": [
        {
          "output_type": "stream",
          "name": "stdout",
          "text": [
            "Hello\n"
          ]
        }
      ]
    },
    {
      "cell_type": "code",
      "source": [
        "code = \"\"\"\n",
        "out = str1 + str2\n",
        "print(out)\n",
        "\"\"\"\n",
        "# global variables\n",
        "str1 = \"Hel\"\n",
        "str2 = \"lo\"\n",
        "\n",
        "print(out)"
      ],
      "metadata": {
        "colab": {
          "base_uri": "https://localhost:8080/"
        },
        "id": "vejZMXLNJD_z",
        "outputId": "58df77ca-be2c-401f-d79e-945b2d14502d"
      },
      "execution_count": 10,
      "outputs": [
        {
          "output_type": "stream",
          "name": "stdout",
          "text": [
            "Hello\n"
          ]
        }
      ]
    },
    {
      "cell_type": "code",
      "source": [
        "exec(code)\n",
        "print(out)"
      ],
      "metadata": {
        "colab": {
          "base_uri": "https://localhost:8080/"
        },
        "id": "NQM1-jKAJFyc",
        "outputId": "05e81c30-d9e8-42b7-85db-3e6b2e57df96"
      },
      "execution_count": 11,
      "outputs": [
        {
          "output_type": "stream",
          "name": "stdout",
          "text": [
            "Hello\n",
            "Hello\n"
          ]
        }
      ]
    },
    {
      "cell_type": "code",
      "source": [
        "# code = \"\"\"\n",
        "# out = str1 + str2\n",
        "# print(out)\n",
        "# \"\"\"\n",
        "# # global variables\n",
        "# str1 = \"Hel\"\n",
        "# str2 = \"lo\"\n",
        "\n",
        "# exec(code, {\"str1\": str1})"
      ],
      "metadata": {
        "id": "PiPUIr34JI08"
      },
      "execution_count": 12,
      "outputs": []
    },
    {
      "cell_type": "code",
      "source": [
        "code = \"\"\"\n",
        "out = str1 + str2\n",
        "print(out)\n",
        "\"\"\"\n",
        "# global variables\n",
        "str1 = \"Hel\"\n",
        "str2 = \"lo\"\n",
        "\n",
        "exec(code, {\"str1\": str1, \"str2\": str2})\n",
        "\n",
        "print(out)"
      ],
      "metadata": {
        "colab": {
          "base_uri": "https://localhost:8080/"
        },
        "id": "SJY9cNOiJLWd",
        "outputId": "49edcec5-2259-42ba-becd-c0213e4e347d"
      },
      "execution_count": 13,
      "outputs": [
        {
          "output_type": "stream",
          "name": "stdout",
          "text": [
            "Hello\n",
            "Hello\n"
          ]
        }
      ]
    },
    {
      "cell_type": "code",
      "source": [
        "code = \"\"\"\n",
        "out = str1 + str2 + \" \" + x\n",
        "print(out)\n",
        "\"\"\"\n",
        "# global variables\n",
        "str1 = \"Hel\"\n",
        "str2 = \"lo\"\n",
        "\n",
        "def local():\n",
        "    # local variable\n",
        "    x = \"there\"\n",
        "    exec(code, {\"str1\": str1, \"str2\": str2}, {\"x\": x})\n",
        "\n",
        "local()"
      ],
      "metadata": {
        "colab": {
          "base_uri": "https://localhost:8080/"
        },
        "id": "apKzBKtJJNNg",
        "outputId": "98d5f324-795a-4dc2-e2a8-47317bde0123"
      },
      "execution_count": 14,
      "outputs": [
        {
          "output_type": "stream",
          "name": "stdout",
          "text": [
            "Hello there\n"
          ]
        }
      ]
    },
    {
      "cell_type": "code",
      "source": [
        "# import datetime\n",
        "\n",
        "# code = \"\"\"\n",
        "# curr_time = datetime.now()\n",
        "# print(curr_time)\n",
        "# \"\"\"\n",
        "# exec(code, {})"
      ],
      "metadata": {
        "id": "mHZwzCjcJO3e"
      },
      "execution_count": 15,
      "outputs": []
    },
    {
      "cell_type": "code",
      "source": [
        "# # Allowing only two methods\n",
        "# allowed_param = {'datetime': datetime, 'timedelta': timedelta}\n",
        "\n",
        "# exec(\"print(datetime.now())\", allowed_param)\n",
        "# exec(\"print(datetime.now() + timedelta(days=2))\", allowed_param)\n",
        "\n",
        "# # date() method is not allowed\n",
        "# exec(\"print(datetime.date(2022, 9, 4))\", allowed_param)"
      ],
      "metadata": {
        "id": "PtnX0bf9JQbo"
      },
      "execution_count": 16,
      "outputs": []
    }
  ]
}