{
  "nbformat": 4,
  "nbformat_minor": 0,
  "metadata": {
    "colab": {
      "name": "Adding contextual data to Python logging.ipynb",
      "provenance": [],
      "authorship_tag": "ABX9TyN3r96TQ406LLzFeld+O2nD"
    },
    "kernelspec": {
      "name": "python3",
      "display_name": "Python 3"
    },
    "language_info": {
      "name": "python"
    }
  },
  "cells": [
    {
      "cell_type": "markdown",
      "source": [
        "[Reference](https://itnext.io/adding-contextual-data-to-python-logging-2597a835b1f4)"
      ],
      "metadata": {
        "id": "bbazkZ5-yREm"
      }
    },
    {
      "cell_type": "code",
      "source": [
        "from collections import deque\n",
        "from contextlib import contextmanager\n",
        "import logging\n",
        "import sys"
      ],
      "metadata": {
        "id": "mCOwR_bsypCl"
      },
      "execution_count": 16,
      "outputs": []
    },
    {
      "cell_type": "code",
      "execution_count": 12,
      "metadata": {
        "id": "y27Ov312yOst"
      },
      "outputs": [],
      "source": [
        "class LoggingContextHandler:\n",
        "    def __init__(self):\n",
        "        self.attributes = deque([{}])\n",
        "\n",
        "    def add(self, **new_context_vars):\n",
        "        old_context = self.attributes[0]\n",
        "        new_context = {**old_context, **new_context_vars}\n",
        "        self.attributes.appendleft(new_context)\n",
        "\n",
        "    def get(self, key):\n",
        "        return self.attributes[0].get(key)\n",
        "\n",
        "    def remove(self):\n",
        "        self.attributes.popleft()\n",
        "\n",
        "    def __str__(self):\n",
        "        return str(self.attributes)"
      ]
    },
    {
      "cell_type": "code",
      "source": [
        "logging_context_handler = LoggingContextHandler()\n",
        "\n",
        "@contextmanager\n",
        "def logging_context(**kwargs):\n",
        "    logging_context_handler.add(**kwargs)\n",
        "\n",
        "    yield\n",
        "\n",
        "    logging_context_handler.remove()"
      ],
      "metadata": {
        "id": "PIWfHhbVyiHJ"
      },
      "execution_count": 13,
      "outputs": []
    },
    {
      "cell_type": "markdown",
      "source": [
        "# Adjusting log records with filters"
      ],
      "metadata": {
        "id": "4O8uzYITylCk"
      }
    },
    {
      "cell_type": "code",
      "source": [
        "class ContextFilter(logging.Filter):\n",
        "    def __init__(self):\n",
        "        super(ContextFilter, self).__init__()\n",
        "\n",
        "    def filter(self, record):\n",
        "        record.store = logging_context_handler.get(\"store\")\n",
        "        record.client = logging_context_handler.get(\"client\")\n",
        "        record.item = logging_context_handler.get(\"item\")\n",
        "\n",
        "        return True\n",
        "\n",
        "\n",
        "logger = logging.getLogger()\n",
        "context_filter = ContextFilter()\n",
        "logger.addFilter(context_filter)"
      ],
      "metadata": {
        "id": "osZ9mER3yjpL"
      },
      "execution_count": 14,
      "outputs": []
    },
    {
      "cell_type": "markdown",
      "source": [
        "# Creating a formatter"
      ],
      "metadata": {
        "id": "CanDkwoey53l"
      }
    },
    {
      "cell_type": "code",
      "source": [
        "format_string = \"[%(store)s | %(client)s | %(item)s]: %(message)s\"\n",
        "stdout_formatter = logging.Formatter(format_string)\n",
        "stdout_handler = logging.StreamHandler(sys.stdout)\n",
        "stdout_handler.setFormatter(stdout_formatter)\n",
        "logger.addHandler(stdout_handler)"
      ],
      "metadata": {
        "id": "r-tqlssoy10P"
      },
      "execution_count": 17,
      "outputs": []
    },
    {
      "cell_type": "code",
      "source": [
        "import logs"
      ],
      "metadata": {
        "colab": {
          "base_uri": "https://localhost:8080/",
          "height": 368
        },
        "id": "JT9GGAyNzGW7",
        "outputId": "9accc13c-fe3a-4321-84b9-1ade1b2a27bf"
      },
      "execution_count": 19,
      "outputs": [
        {
          "output_type": "error",
          "ename": "ModuleNotFoundError",
          "evalue": "ignored",
          "traceback": [
            "\u001b[0;31m---------------------------------------------------------------------------\u001b[0m",
            "\u001b[0;31mModuleNotFoundError\u001b[0m                       Traceback (most recent call last)",
            "\u001b[0;32m<ipython-input-19-48c100f115c0>\u001b[0m in \u001b[0;36m<module>\u001b[0;34m()\u001b[0m\n\u001b[0;32m----> 1\u001b[0;31m \u001b[0;32mimport\u001b[0m \u001b[0mlogs\u001b[0m\u001b[0;34m\u001b[0m\u001b[0;34m\u001b[0m\u001b[0m\n\u001b[0m",
            "\u001b[0;31mModuleNotFoundError\u001b[0m: No module named 'logs'",
            "",
            "\u001b[0;31m---------------------------------------------------------------------------\u001b[0;32m\nNOTE: If your import is failing due to a missing package, you can\nmanually install dependencies using either !pip or !apt.\n\nTo view examples of installing some common dependencies, click the\n\"Open Examples\" button below.\n\u001b[0;31m---------------------------------------------------------------------------\u001b[0m\n"
          ],
          "errorDetails": {
            "actions": [
              {
                "action": "open_url",
                "actionText": "Open Examples",
                "url": "/notebooks/snippets/importing_libraries.ipynb"
              }
            ]
          }
        }
      ]
    },
    {
      "cell_type": "code",
      "source": [
        "clients = {\"Jim\": [\"potatoes\", \"tomatoes\"], \"Tim\": [\"bread\", \"eggs\", \"milk\"]}\n",
        "\n",
        "\n",
        "def sell_goods(shopping_list):\n",
        "    for item in shopping_list:\n",
        "        with logging_context(item=item):\n",
        "            logger.info(\"Sold 1 item.\")\n",
        "\n",
        "\n",
        "with logging_context(store=\"Hannah's Grocery Store\"):\n",
        "    for client, shopping_list in clients.items():\n",
        "        with logging_context(client=client):\n",
        "            sell_goods(shopping_list)"
      ],
      "metadata": {
        "id": "nfXAE3ZUy7Al"
      },
      "execution_count": 21,
      "outputs": []
    }
  ]
}