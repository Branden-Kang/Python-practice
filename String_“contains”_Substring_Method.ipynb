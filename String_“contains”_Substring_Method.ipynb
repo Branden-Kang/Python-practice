{
  "nbformat": 4,
  "nbformat_minor": 0,
  "metadata": {
    "colab": {
      "name": "String “contains” Substring Method.ipynb",
      "provenance": [],
      "authorship_tag": "ABX9TyMqoqlL1omQ7JLQRYUPMHF2"
    },
    "kernelspec": {
      "name": "python3",
      "display_name": "Python 3"
    }
  },
  "cells": [
    {
      "cell_type": "markdown",
      "metadata": {
        "id": "MNC7nsdidhOh"
      },
      "source": [
        "[Reference](https://medium.com/better-programming/does-python-have-a-string-contains-substring-method-2a3a4e0e1b19)"
      ]
    },
    {
      "cell_type": "code",
      "metadata": {
        "colab": {
          "base_uri": "https://localhost:8080/"
        },
        "id": "MxGZwqBYbkou",
        "outputId": "8c70e965-d2a3-42fd-8155-1057869e7f0a"
      },
      "source": [
        "a = \"Braden\"\n",
        "print(\"ra\" in a)\n",
        "print(\"eo\" in a)"
      ],
      "execution_count": 4,
      "outputs": [
        {
          "output_type": "stream",
          "text": [
            "True\n",
            "False\n"
          ],
          "name": "stdout"
        }
      ]
    },
    {
      "cell_type": "code",
      "metadata": {
        "colab": {
          "base_uri": "https://localhost:8080/"
        },
        "id": "6zN6ywk_dkP7",
        "outputId": "17b715e0-0e2c-44e5-d827-112e2964e4ce"
      },
      "source": [
        "a = \"Braden\"\n",
        "print(a.find(\"ra\"))\n",
        "print(a.find(\"eo\"))"
      ],
      "execution_count": 5,
      "outputs": [
        {
          "output_type": "stream",
          "text": [
            "1\n",
            "-1\n"
          ],
          "name": "stdout"
        }
      ]
    },
    {
      "cell_type": "code",
      "metadata": {
        "id": "PzGNh6K3dlQV"
      },
      "source": [
        "a = \"Braden\"\n",
        "if a.find(\"ra\") >= 0:\n",
        "  pass"
      ],
      "execution_count": 6,
      "outputs": []
    }
  ]
}