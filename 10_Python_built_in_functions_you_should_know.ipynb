{
  "nbformat": 4,
  "nbformat_minor": 0,
  "metadata": {
    "colab": {
      "name": "10 Python built-in functions you should know.ipynb",
      "provenance": [],
      "authorship_tag": "ABX9TyOXMsMxmQIMrvNPav+qVum1"
    },
    "kernelspec": {
      "name": "python3",
      "display_name": "Python 3"
    }
  },
  "cells": [
    {
      "cell_type": "markdown",
      "metadata": {
        "id": "huvVrPVYx-w2"
      },
      "source": [
        "[Reference](https://towardsdatascience.com/10-python-built-in-functions-you-should-know-f6beba1698bb)"
      ]
    },
    {
      "cell_type": "markdown",
      "metadata": {
        "id": "8CP2VUf2yBAQ"
      },
      "source": [
        "# 1. isinstance"
      ]
    },
    {
      "cell_type": "code",
      "metadata": {
        "id": "a9ffNX0hx8oq",
        "outputId": "5288746d-4152-4bd9-c55b-735bb5c6a5e4",
        "colab": {
          "base_uri": "https://localhost:8080/"
        }
      },
      "source": [
        "# check if an object is of type list\n",
        "\n",
        "numbers = [1, 2, 3, 4, 5]\n",
        "\n",
        "print(isinstance(numbers, list))\n",
        "\n",
        "print(isinstance(numbers, float))\n",
        "\n",
        "print(isinstance(numbers, (list, float)))"
      ],
      "execution_count": null,
      "outputs": [
        {
          "output_type": "stream",
          "text": [
            "True\n",
            "False\n",
            "True\n"
          ],
          "name": "stdout"
        }
      ]
    },
    {
      "cell_type": "markdown",
      "metadata": {
        "id": "5RXw68qnyNFN"
      },
      "source": [
        "# 2. zip"
      ]
    },
    {
      "cell_type": "code",
      "metadata": {
        "id": "_9TZfegtyGP2"
      },
      "source": [
        "products = ['shirt', 'pants', 'socks', 'hat', 'jacket']\n",
        "prices = [110, 100, 10, 50, 200]"
      ],
      "execution_count": null,
      "outputs": []
    },
    {
      "cell_type": "code",
      "metadata": {
        "id": "P9HyERNcycwM"
      },
      "source": [
        "item_list = zip(products, prices)"
      ],
      "execution_count": null,
      "outputs": []
    },
    {
      "cell_type": "code",
      "metadata": {
        "id": "j-ncWkf9yd41",
        "outputId": "be256a4e-4b5a-430d-8f91-c61643cd253e",
        "colab": {
          "base_uri": "https://localhost:8080/"
        }
      },
      "source": [
        "list(item_list)"
      ],
      "execution_count": null,
      "outputs": [
        {
          "output_type": "execute_result",
          "data": {
            "text/plain": [
              "[('shirt', 110), ('pants', 100), ('socks', 10), ('hat', 50), ('jacket', 200)]"
            ]
          },
          "metadata": {
            "tags": []
          },
          "execution_count": 6
        }
      ]
    },
    {
      "cell_type": "code",
      "metadata": {
        "id": "vmuEjwLaykr6",
        "outputId": "846d7ce2-bb0b-45d6-c457-ee9183976641",
        "colab": {
          "base_uri": "https://localhost:8080/"
        }
      },
      "source": [
        "for product, price in zip(products, prices):\n",
        "    print('Product: {}, Price: {}'.format(product,price))"
      ],
      "execution_count": null,
      "outputs": [
        {
          "output_type": "stream",
          "text": [
            "Product: shirt, Price: 110\n",
            "Product: pants, Price: 100\n",
            "Product: socks, Price: 10\n",
            "Product: hat, Price: 50\n",
            "Product: jacket, Price: 200\n"
          ],
          "name": "stdout"
        }
      ]
    },
    {
      "cell_type": "code",
      "metadata": {
        "id": "AwHwmQMmyzRz",
        "outputId": "d400d0c9-eac8-462f-d14f-84c6d7fb1282",
        "colab": {
          "base_uri": "https://localhost:8080/"
        }
      },
      "source": [
        "dict(zip(products, prices))"
      ],
      "execution_count": null,
      "outputs": [
        {
          "output_type": "execute_result",
          "data": {
            "text/plain": [
              "{'hat': 50, 'jacket': 200, 'pants': 100, 'shirt': 110, 'socks': 10}"
            ]
          },
          "metadata": {
            "tags": []
          },
          "execution_count": 8
        }
      ]
    },
    {
      "cell_type": "code",
      "metadata": {
        "id": "fqemnzqby2Bc"
      },
      "source": [
        "products_and_prices = [('shirt', 110), ('pants', 100), ('socks', 10), ('hat', 50), ('jacket', 200)]"
      ],
      "execution_count": null,
      "outputs": []
    },
    {
      "cell_type": "code",
      "metadata": {
        "id": "m6SNsq1Ny7_0"
      },
      "source": [
        "products, prices = zip(*products_and_prices)"
      ],
      "execution_count": null,
      "outputs": []
    },
    {
      "cell_type": "code",
      "metadata": {
        "id": "hmq0Ejgry_B4",
        "outputId": "b92eb9cc-ce29-4eba-c209-e3d34d640754",
        "colab": {
          "base_uri": "https://localhost:8080/"
        }
      },
      "source": [
        "print(products)\n",
        "print(prices)"
      ],
      "execution_count": null,
      "outputs": [
        {
          "output_type": "stream",
          "text": [
            "('shirt', 'pants', 'socks', 'hat', 'jacket')\n",
            "(110, 100, 10, 50, 200)\n"
          ],
          "name": "stdout"
        }
      ]
    },
    {
      "cell_type": "markdown",
      "metadata": {
        "id": "3HiAgc7szCgM"
      },
      "source": [
        "# 3. map"
      ]
    },
    {
      "cell_type": "code",
      "metadata": {
        "id": "0XXkVUdrzBRR"
      },
      "source": [
        "numbers = [1, 2, 3, 4, 5]"
      ],
      "execution_count": null,
      "outputs": []
    },
    {
      "cell_type": "code",
      "metadata": {
        "id": "eWTqnVl8zWkp",
        "outputId": "5820a507-8a9a-4dd2-8701-f37fa4b6b01e",
        "colab": {
          "base_uri": "https://localhost:8080/"
        }
      },
      "source": [
        "list(map(lambda x: x + 1, numbers))"
      ],
      "execution_count": null,
      "outputs": [
        {
          "output_type": "execute_result",
          "data": {
            "text/plain": [
              "[2, 3, 4, 5, 6]"
            ]
          },
          "metadata": {
            "tags": []
          },
          "execution_count": 13
        }
      ]
    },
    {
      "cell_type": "code",
      "metadata": {
        "id": "YUWboQmJzXjo",
        "outputId": "71448a40-946c-4687-f1ab-3202c65079d4",
        "colab": {
          "base_uri": "https://localhost:8080/"
        }
      },
      "source": [
        "list(map(lambda x: x*2, numbers))"
      ],
      "execution_count": null,
      "outputs": [
        {
          "output_type": "execute_result",
          "data": {
            "text/plain": [
              "[2, 4, 6, 8, 10]"
            ]
          },
          "metadata": {
            "tags": []
          },
          "execution_count": 14
        }
      ]
    },
    {
      "cell_type": "code",
      "metadata": {
        "id": "v3xAdcJVzaZC",
        "outputId": "ba220aa1-372c-4ded-c9e9-21576ab8d101",
        "colab": {
          "base_uri": "https://localhost:8080/"
        }
      },
      "source": [
        "list(map(lambda x: x ** 3, numbers))"
      ],
      "execution_count": null,
      "outputs": [
        {
          "output_type": "execute_result",
          "data": {
            "text/plain": [
              "[1, 8, 27, 64, 125]"
            ]
          },
          "metadata": {
            "tags": []
          },
          "execution_count": 15
        }
      ]
    },
    {
      "cell_type": "code",
      "metadata": {
        "id": "pqtsIJw3zckK",
        "outputId": "05c62c2c-7c23-455b-ada0-bf3b87899897",
        "colab": {
          "base_uri": "https://localhost:8080/"
        }
      },
      "source": [
        "def add_one(x):\n",
        "    return x + 1 \n",
        "\n",
        "list(map(add_one, numbers))"
      ],
      "execution_count": null,
      "outputs": [
        {
          "output_type": "execute_result",
          "data": {
            "text/plain": [
              "[2, 3, 4, 5, 6]"
            ]
          },
          "metadata": {
            "tags": []
          },
          "execution_count": 16
        }
      ]
    },
    {
      "cell_type": "code",
      "metadata": {
        "id": "EhfYCmgSzhx3"
      },
      "source": [
        "numbers_1 = [1, 2, 3, 4, 5]\n",
        "numbers_2 = [6, 7, 8, 9, 10]"
      ],
      "execution_count": null,
      "outputs": []
    },
    {
      "cell_type": "code",
      "metadata": {
        "id": "salUVSsXzksJ",
        "outputId": "48260356-28b5-4d4d-a900-251682ec781f",
        "colab": {
          "base_uri": "https://localhost:8080/"
        }
      },
      "source": [
        "list(map(lambda x, y: x * y, numbers_1, numbers_2))"
      ],
      "execution_count": null,
      "outputs": [
        {
          "output_type": "execute_result",
          "data": {
            "text/plain": [
              "[6, 14, 24, 36, 50]"
            ]
          },
          "metadata": {
            "tags": []
          },
          "execution_count": 18
        }
      ]
    },
    {
      "cell_type": "markdown",
      "metadata": {
        "id": "jRdDw2IsznML"
      },
      "source": [
        "# 4. filter"
      ]
    },
    {
      "cell_type": "code",
      "metadata": {
        "id": "M1VTRv3Dzl9R",
        "outputId": "f2bf60f4-15f8-4f79-8871-659736c0149e",
        "colab": {
          "base_uri": "https://localhost:8080/"
        }
      },
      "source": [
        "numbers = [1, 2, 3, 4, 5, 6]\n",
        "list(filter(lambda x: x % 2, numbers))"
      ],
      "execution_count": null,
      "outputs": [
        {
          "output_type": "execute_result",
          "data": {
            "text/plain": [
              "[1, 3, 5]"
            ]
          },
          "metadata": {
            "tags": []
          },
          "execution_count": 19
        }
      ]
    },
    {
      "cell_type": "code",
      "metadata": {
        "id": "HtOffpE0zqSA"
      },
      "source": [
        "cities = ('Boston', 'Seoul', 'Texas', 'Paris', 'London')"
      ],
      "execution_count": null,
      "outputs": []
    },
    {
      "cell_type": "code",
      "metadata": {
        "id": "UrHV2MK0z2j8",
        "outputId": "4a2410a1-2672-4ee1-e079-90ccdfc3f85e",
        "colab": {
          "base_uri": "https://localhost:8080/"
        }
      },
      "source": [
        "tuple(filter(lambda x: x.startswith(('P','L')), cities))"
      ],
      "execution_count": null,
      "outputs": [
        {
          "output_type": "execute_result",
          "data": {
            "text/plain": [
              "('Paris', 'London')"
            ]
          },
          "metadata": {
            "tags": []
          },
          "execution_count": 22
        }
      ]
    },
    {
      "cell_type": "markdown",
      "metadata": {
        "id": "Bh2gpv2p0ACA"
      },
      "source": [
        "# 5. input"
      ]
    },
    {
      "cell_type": "code",
      "metadata": {
        "id": "3SzMTiYjz8UV",
        "outputId": "d3bfc0fe-9e6c-43e0-e58e-1ba36c4154f6",
        "colab": {
          "base_uri": "https://localhost:8080/"
        }
      },
      "source": [
        "name = input('What is your name: ')\n",
        "print('Hello {}'.format(name))"
      ],
      "execution_count": null,
      "outputs": [
        {
          "output_type": "stream",
          "text": [
            "What is your name: Branden\n",
            "Hello Branden\n"
          ],
          "name": "stdout"
        }
      ]
    },
    {
      "cell_type": "code",
      "metadata": {
        "id": "SALniyAH0JOX",
        "outputId": "47d664e8-0a39-4260-93b3-3afa11c121df",
        "colab": {
          "base_uri": "https://localhost:8080/"
        }
      },
      "source": [
        "number_1 = float(input('Enter first number: '))\n",
        "number_2 = float(input('Enter second number: '))\n",
        "print('The sum is: {}'.format(number_1 + number_2))"
      ],
      "execution_count": null,
      "outputs": [
        {
          "output_type": "stream",
          "text": [
            "Enter first number: 1\n",
            "Enter second number: 2\n",
            "The sum is: 3.0\n"
          ],
          "name": "stdout"
        }
      ]
    },
    {
      "cell_type": "markdown",
      "metadata": {
        "id": "RDHI0E5g0TDu"
      },
      "source": [
        "# 6. id"
      ]
    },
    {
      "cell_type": "code",
      "metadata": {
        "id": "oM-pgdlX0TZA",
        "outputId": "f955f1d0-7e77-4185-fca9-991b5d571ab5",
        "colab": {
          "base_uri": "https://localhost:8080/"
        }
      },
      "source": [
        "numbers = [1, 2, 3, 4, 5]\n",
        "new_numbers = numbers\n",
        "\n",
        "print('numbers id: {}, new_numbers id: {}'.format(id(numbers), id(new_numbers)))\n",
        "numbers is new_numbers"
      ],
      "execution_count": null,
      "outputs": [
        {
          "output_type": "stream",
          "text": [
            "numbers id: 140075918015624, new_numbers id: 140075918015624\n"
          ],
          "name": "stdout"
        },
        {
          "output_type": "execute_result",
          "data": {
            "text/plain": [
              "True"
            ]
          },
          "metadata": {
            "tags": []
          },
          "execution_count": 25
        }
      ]
    },
    {
      "cell_type": "code",
      "metadata": {
        "id": "WethQjX-0ZkU",
        "outputId": "b5a46401-89b4-4ac9-bad2-09887944b754",
        "colab": {
          "base_uri": "https://localhost:8080/"
        }
      },
      "source": [
        "import copy\n",
        "\n",
        "numbers = [1, 2, 3, 4, 5]\n",
        "new_numbers = copy.deepcopy(numbers)\n",
        "\n",
        "print('numbers id: {}, new_numbers id: {}'.format(id(numbers), id(new_numbers)))\n",
        "\n",
        "numbers is new_numbers"
      ],
      "execution_count": null,
      "outputs": [
        {
          "output_type": "stream",
          "text": [
            "numbers id: 140075918013256, new_numbers id: 140075918744072\n"
          ],
          "name": "stdout"
        },
        {
          "output_type": "execute_result",
          "data": {
            "text/plain": [
              "False"
            ]
          },
          "metadata": {
            "tags": []
          },
          "execution_count": 26
        }
      ]
    },
    {
      "cell_type": "markdown",
      "metadata": {
        "id": "4S8FifZG0jHU"
      },
      "source": [
        "# 7. hex"
      ]
    },
    {
      "cell_type": "code",
      "metadata": {
        "id": "_p27mXR10h1w"
      },
      "source": [
        "hex_number = hex(10)"
      ],
      "execution_count": null,
      "outputs": []
    },
    {
      "cell_type": "code",
      "metadata": {
        "id": "g9QsMXrd0lwR",
        "outputId": "b1708ae9-3b24-44a9-e3e8-b187b6213bbc",
        "colab": {
          "base_uri": "https://localhost:8080/"
        }
      },
      "source": [
        "print(hex_number)"
      ],
      "execution_count": null,
      "outputs": [
        {
          "output_type": "stream",
          "text": [
            "0xa\n"
          ],
          "name": "stdout"
        }
      ]
    },
    {
      "cell_type": "code",
      "metadata": {
        "id": "Kd-rqHFJ0myb",
        "outputId": "dd5a20c0-1095-4e3e-b7a0-e4471fb4fea5",
        "colab": {
          "base_uri": "https://localhost:8080/"
        }
      },
      "source": [
        "print(type(hex_number))"
      ],
      "execution_count": null,
      "outputs": [
        {
          "output_type": "stream",
          "text": [
            "<class 'str'>\n"
          ],
          "name": "stdout"
        }
      ]
    },
    {
      "cell_type": "code",
      "metadata": {
        "id": "bNE12x-j0oHx",
        "outputId": "e22ae755-26e3-4c1b-dfd9-9b5f4c0ea9a2",
        "colab": {
          "base_uri": "https://localhost:8080/",
          "height": 198
        }
      },
      "source": [
        "hex_number = hex(10.0)"
      ],
      "execution_count": null,
      "outputs": [
        {
          "output_type": "error",
          "ename": "TypeError",
          "evalue": "ignored",
          "traceback": [
            "\u001b[0;31m---------------------------------------------------------------------------\u001b[0m",
            "\u001b[0;31mTypeError\u001b[0m                                 Traceback (most recent call last)",
            "\u001b[0;32m<ipython-input-30-590769844d07>\u001b[0m in \u001b[0;36m<module>\u001b[0;34m()\u001b[0m\n\u001b[0;32m----> 1\u001b[0;31m \u001b[0mhex_number\u001b[0m \u001b[0;34m=\u001b[0m \u001b[0mhex\u001b[0m\u001b[0;34m(\u001b[0m\u001b[0;36m10.0\u001b[0m\u001b[0;34m)\u001b[0m\u001b[0;34m\u001b[0m\u001b[0;34m\u001b[0m\u001b[0m\n\u001b[0m",
            "\u001b[0;31mTypeError\u001b[0m: 'float' object cannot be interpreted as an integer"
          ]
        }
      ]
    },
    {
      "cell_type": "code",
      "metadata": {
        "id": "iEb544N10rIn"
      },
      "source": [
        "def rgb_to_hex(rgb_triple):\n",
        "    \"\"\"Function that maps a RGB tuple representation to a hexadecimal string\n",
        "    Parameters:\n",
        "    rgb_triple (tuple): RGB tuple representation (red, green, and blue)\n",
        "    Returns:\n",
        "    hex_string (string): Hexadecimal string representation '0xRRGGBB'\n",
        "    \"\"\"\n",
        "    hex_string = ''\n",
        "    # we loop through the red, green, blue values of the tuple rgb_tuple\n",
        "    for integer in rgb_triple:\n",
        "        hexadecimal = hex(integer)[2:] # string slicing to elimininate the prefix '0x'\n",
        "        if len(hexadecimal) == 1:\n",
        "            hexadecimal = '0' + hexadecimal # pad the string to the left with a 0\n",
        "        hex_string += hexadecimal\n",
        "    return '#' + hex_string\n",
        "\n",
        "# call the function\n",
        "color_1 = (255, 255, 255)\n",
        "color_2 = (255, 255, 0)\n",
        "color_3 = (70, 90, 200)\n",
        "\n",
        "color_1_hex = rgb_to_hex(color_1)\n",
        "\n",
        "color_2_hex = rgb_to_hex(color_2)\n",
        "\n",
        "color_3_hex = rgb_to_hex(color_3)"
      ],
      "execution_count": null,
      "outputs": []
    },
    {
      "cell_type": "code",
      "metadata": {
        "id": "5HBZMKHm011s",
        "outputId": "f4e2edf0-03aa-4da0-e92c-e53c6ba416b3",
        "colab": {
          "base_uri": "https://localhost:8080/",
          "height": 37
        }
      },
      "source": [
        "color_1_hex"
      ],
      "execution_count": null,
      "outputs": [
        {
          "output_type": "execute_result",
          "data": {
            "application/vnd.google.colaboratory.intrinsic+json": {
              "type": "string"
            },
            "text/plain": [
              "'#ffffff'"
            ]
          },
          "metadata": {
            "tags": []
          },
          "execution_count": 32
        }
      ]
    },
    {
      "cell_type": "code",
      "metadata": {
        "id": "pY4K7eiv02by",
        "outputId": "4606a1e4-e8bf-4cd9-fdca-3abfc404bcd1",
        "colab": {
          "base_uri": "https://localhost:8080/",
          "height": 37
        }
      },
      "source": [
        "color_2_hex"
      ],
      "execution_count": null,
      "outputs": [
        {
          "output_type": "execute_result",
          "data": {
            "application/vnd.google.colaboratory.intrinsic+json": {
              "type": "string"
            },
            "text/plain": [
              "'#ffff00'"
            ]
          },
          "metadata": {
            "tags": []
          },
          "execution_count": 33
        }
      ]
    },
    {
      "cell_type": "code",
      "metadata": {
        "id": "9ECpEzrj03Gi",
        "outputId": "2fb84a00-b082-4578-f465-3b97cee01c4a",
        "colab": {
          "base_uri": "https://localhost:8080/",
          "height": 37
        }
      },
      "source": [
        "color_3_hex"
      ],
      "execution_count": null,
      "outputs": [
        {
          "output_type": "execute_result",
          "data": {
            "application/vnd.google.colaboratory.intrinsic+json": {
              "type": "string"
            },
            "text/plain": [
              "'#465ac8'"
            ]
          },
          "metadata": {
            "tags": []
          },
          "execution_count": 34
        }
      ]
    },
    {
      "cell_type": "markdown",
      "metadata": {
        "id": "jTPByEUp09hN"
      },
      "source": [
        "# 8. bin"
      ]
    },
    {
      "cell_type": "code",
      "metadata": {
        "id": "Vz9Q7QhL037n",
        "outputId": "e713ad29-f5d8-471d-a0bd-978df352af4d",
        "colab": {
          "base_uri": "https://localhost:8080/"
        }
      },
      "source": [
        "def int2bin(integer):\n",
        "    \"\"\"Function that converts an integer to a binary string\"\"\"\n",
        "    try:\n",
        "        binary = bin(integer)\n",
        "        return binary[2:] # string slicing to elimininate the prefix '0b'\n",
        "\n",
        "    except TypeError:\n",
        "        print('An integer should be provided as input')\n",
        "\n",
        "print(int2bin(5))\n",
        "\n",
        "print(int2bin(6))\n",
        "\n",
        "print(int2bin(4.0))"
      ],
      "execution_count": null,
      "outputs": [
        {
          "output_type": "stream",
          "text": [
            "101\n",
            "110\n",
            "An integer should be provided as input\n",
            "None\n"
          ],
          "name": "stdout"
        }
      ]
    },
    {
      "cell_type": "markdown",
      "metadata": {
        "id": "Hi_ZfQu81PSC"
      },
      "source": [
        "# 9. format"
      ]
    },
    {
      "cell_type": "code",
      "metadata": {
        "id": "0AZ1qTsR1FbB",
        "outputId": "fabc89fd-f7eb-4c20-a760-958115a37acc",
        "colab": {
          "base_uri": "https://localhost:8080/",
          "height": 37
        }
      },
      "source": [
        "format(1234.5789,'.2f')"
      ],
      "execution_count": null,
      "outputs": [
        {
          "output_type": "execute_result",
          "data": {
            "application/vnd.google.colaboratory.intrinsic+json": {
              "type": "string"
            },
            "text/plain": [
              "'1234.58'"
            ]
          },
          "metadata": {
            "tags": []
          },
          "execution_count": 38
        }
      ]
    },
    {
      "cell_type": "code",
      "metadata": {
        "id": "yBsiDNQX1ZIX",
        "outputId": "2cba532a-eb2a-4cdc-c683-ffbc5aa6cf9d",
        "colab": {
          "base_uri": "https://localhost:8080/",
          "height": 37
        }
      },
      "source": [
        "format(0.3251,'.1%')"
      ],
      "execution_count": null,
      "outputs": [
        {
          "output_type": "execute_result",
          "data": {
            "application/vnd.google.colaboratory.intrinsic+json": {
              "type": "string"
            },
            "text/plain": [
              "'32.5%'"
            ]
          },
          "metadata": {
            "tags": []
          },
          "execution_count": 39
        }
      ]
    },
    {
      "cell_type": "code",
      "metadata": {
        "id": "PCpXSMe91deD",
        "outputId": "25f14058-785d-4ac1-e57d-9a17a501657e",
        "colab": {
          "base_uri": "https://localhost:8080/",
          "height": 37
        }
      },
      "source": [
        "format(10,'x')"
      ],
      "execution_count": null,
      "outputs": [
        {
          "output_type": "execute_result",
          "data": {
            "application/vnd.google.colaboratory.intrinsic+json": {
              "type": "string"
            },
            "text/plain": [
              "'a'"
            ]
          },
          "metadata": {
            "tags": []
          },
          "execution_count": 40
        }
      ]
    },
    {
      "cell_type": "code",
      "metadata": {
        "id": "S5IU1FCw1gMc",
        "outputId": "59d6274c-14d2-463a-a598-56aeaf08e598",
        "colab": {
          "base_uri": "https://localhost:8080/",
          "height": 37
        }
      },
      "source": [
        "format(12.345789,'+.2e')"
      ],
      "execution_count": null,
      "outputs": [
        {
          "output_type": "execute_result",
          "data": {
            "application/vnd.google.colaboratory.intrinsic+json": {
              "type": "string"
            },
            "text/plain": [
              "'+1.23e+01'"
            ]
          },
          "metadata": {
            "tags": []
          },
          "execution_count": 41
        }
      ]
    },
    {
      "cell_type": "code",
      "metadata": {
        "id": "jTqTOz2r1kw7",
        "outputId": "b32db6b4-daf5-4c85-c577-d7d72fd09891",
        "colab": {
          "base_uri": "https://localhost:8080/",
          "height": 37
        }
      },
      "source": [
        "format(12345.789,'*>30')"
      ],
      "execution_count": null,
      "outputs": [
        {
          "output_type": "execute_result",
          "data": {
            "application/vnd.google.colaboratory.intrinsic+json": {
              "type": "string"
            },
            "text/plain": [
              "'*********************12345.789'"
            ]
          },
          "metadata": {
            "tags": []
          },
          "execution_count": 42
        }
      ]
    },
    {
      "cell_type": "markdown",
      "metadata": {
        "id": "c7c3jmDA1oBY"
      },
      "source": [
        "# 10. open\n",
        "```python\n",
        "open(file, mode='r', buffering=-1, encoding=None, errors=None, newline=None, closefd=True, opener=None)\n",
        "\n",
        "\n",
        "# open a file in reading mode \n",
        "f = open('reading_file.txt', 'r')\n",
        "content = f.read()\n",
        "print(content)\n",
        "# Successful file reading!\n",
        "\n",
        "# close the file to avoid running out of file handles\n",
        "f.close()\n",
        "\n",
        "# open a file in reading mode\n",
        "f = open('reading_lines.txt', 'r')\n",
        "content = f.readlines()\n",
        "print(content)\n",
        "# ['First line\\n', 'Second line\\n', 'Third line\\n']\n",
        "\n",
        "# close the file to avoid running out of file handles\n",
        "f.close()\n",
        "\n",
        "# open a file in reading mode\n",
        "f = open('reading_lines.txt', 'r')\n",
        "first_line = f.readline()\n",
        "print(first_line)\n",
        "# First line\n",
        "second_line = f.readline()\n",
        "print(second_line)\n",
        "# Second line\n",
        "third_line = f.readline()\n",
        "print(third_line)\n",
        "# Third line\n",
        "\n",
        "# close the file to avoid running out of file handles\n",
        "f.close()\n",
        "\n",
        "with open('reading_lines.txt', 'r') as f:\n",
        "    content = f.readlines()\n",
        "    print(content)\n",
        "\n",
        "f = open('new_file.txt', 'w')\n",
        "f.write('This is a new file!')\n",
        "\n",
        "# close the file to avoid running out of file handles\n",
        "f.close()\n",
        "```"
      ]
    }
  ]
}