{
  "nbformat": 4,
  "nbformat_minor": 0,
  "metadata": {
    "colab": {
      "provenance": [],
      "authorship_tag": "ABX9TyMgW2a/PmjGNrRYbUiJxuRa"
    },
    "kernelspec": {
      "name": "python3",
      "display_name": "Python 3"
    },
    "language_info": {
      "name": "python"
    }
  },
  "cells": [
    {
      "cell_type": "markdown",
      "source": [
        "[Reference](https://medium.com/pineview-labs/cloud-native-pipelines-for-scientific-data-processing-with-prefect-and-dask-4ddd8ecfcd40)"
      ],
      "metadata": {
        "id": "i5JI9_AK5AUr"
      }
    },
    {
      "cell_type": "markdown",
      "source": [
        "# Run an xarray/Zarr example"
      ],
      "metadata": {
        "id": "aF8frFQE5Oan"
      }
    },
    {
      "cell_type": "code",
      "execution_count": 1,
      "metadata": {
        "colab": {
          "base_uri": "https://localhost:8080/"
        },
        "id": "itSQYfX_tLyJ",
        "outputId": "ee759bbc-def6-4874-fa30-d8730fe1c5c1"
      },
      "outputs": [
        {
          "output_type": "stream",
          "name": "stdout",
          "text": [
            "Error: Command '['/content/.venv/bin/python3', '-m', 'ensurepip', '--upgrade', '--default-pip']' returned non-zero exit status 1.\n",
            "/bin/bash: line 1: .venv/bin/activate: No such file or directory\n",
            "Requirement already satisfied: xarray in /usr/local/lib/python3.12/dist-packages (2025.9.0)\n",
            "Collecting zarr\n",
            "  Downloading zarr-3.1.3-py3-none-any.whl.metadata (10 kB)\n",
            "Requirement already satisfied: dask in /usr/local/lib/python3.12/dist-packages (2025.5.0)\n",
            "Collecting s3fs\n",
            "  Downloading s3fs-2025.9.0-py3-none-any.whl.metadata (1.4 kB)\n",
            "Requirement already satisfied: numpy>=1.26 in /usr/local/lib/python3.12/dist-packages (from xarray) (2.0.2)\n",
            "Requirement already satisfied: packaging>=24.1 in /usr/local/lib/python3.12/dist-packages (from xarray) (25.0)\n",
            "Requirement already satisfied: pandas>=2.2 in /usr/local/lib/python3.12/dist-packages (from xarray) (2.2.2)\n",
            "Collecting donfig>=0.8 (from zarr)\n",
            "  Downloading donfig-0.8.1.post1-py3-none-any.whl.metadata (5.0 kB)\n",
            "Collecting numcodecs>=0.14 (from numcodecs[crc32c]>=0.14->zarr)\n",
            "  Downloading numcodecs-0.16.3-cp312-cp312-manylinux_2_17_x86_64.manylinux2014_x86_64.whl.metadata (3.3 kB)\n",
            "Requirement already satisfied: typing-extensions>=4.9 in /usr/local/lib/python3.12/dist-packages (from zarr) (4.15.0)\n",
            "Requirement already satisfied: click>=8.1 in /usr/local/lib/python3.12/dist-packages (from dask) (8.2.1)\n",
            "Requirement already satisfied: cloudpickle>=3.0.0 in /usr/local/lib/python3.12/dist-packages (from dask) (3.1.1)\n",
            "Requirement already satisfied: fsspec>=2021.09.0 in /usr/local/lib/python3.12/dist-packages (from dask) (2025.3.0)\n",
            "Requirement already satisfied: partd>=1.4.0 in /usr/local/lib/python3.12/dist-packages (from dask) (1.4.2)\n",
            "Requirement already satisfied: pyyaml>=5.3.1 in /usr/local/lib/python3.12/dist-packages (from dask) (6.0.2)\n",
            "Requirement already satisfied: toolz>=0.10.0 in /usr/local/lib/python3.12/dist-packages (from dask) (0.12.1)\n",
            "Collecting aiobotocore<3.0.0,>=2.5.4 (from s3fs)\n",
            "  Downloading aiobotocore-2.24.2-py3-none-any.whl.metadata (25 kB)\n",
            "Collecting fsspec>=2021.09.0 (from dask)\n",
            "  Downloading fsspec-2025.9.0-py3-none-any.whl.metadata (10 kB)\n",
            "Requirement already satisfied: aiohttp!=4.0.0a0,!=4.0.0a1 in /usr/local/lib/python3.12/dist-packages (from s3fs) (3.12.15)\n",
            "Collecting aioitertools<1.0.0,>=0.5.1 (from aiobotocore<3.0.0,>=2.5.4->s3fs)\n",
            "  Downloading aioitertools-0.12.0-py3-none-any.whl.metadata (3.8 kB)\n",
            "Collecting botocore<1.40.19,>=1.40.15 (from aiobotocore<3.0.0,>=2.5.4->s3fs)\n",
            "  Downloading botocore-1.40.18-py3-none-any.whl.metadata (5.7 kB)\n",
            "Requirement already satisfied: python-dateutil<3.0.0,>=2.1 in /usr/local/lib/python3.12/dist-packages (from aiobotocore<3.0.0,>=2.5.4->s3fs) (2.9.0.post0)\n",
            "Collecting jmespath<2.0.0,>=0.7.1 (from aiobotocore<3.0.0,>=2.5.4->s3fs)\n",
            "  Downloading jmespath-1.0.1-py3-none-any.whl.metadata (7.6 kB)\n",
            "Requirement already satisfied: multidict<7.0.0,>=6.0.0 in /usr/local/lib/python3.12/dist-packages (from aiobotocore<3.0.0,>=2.5.4->s3fs) (6.6.4)\n",
            "Requirement already satisfied: wrapt<2.0.0,>=1.10.10 in /usr/local/lib/python3.12/dist-packages (from aiobotocore<3.0.0,>=2.5.4->s3fs) (1.17.3)\n",
            "Requirement already satisfied: aiohappyeyeballs>=2.5.0 in /usr/local/lib/python3.12/dist-packages (from aiohttp!=4.0.0a0,!=4.0.0a1->s3fs) (2.6.1)\n",
            "Requirement already satisfied: aiosignal>=1.4.0 in /usr/local/lib/python3.12/dist-packages (from aiohttp!=4.0.0a0,!=4.0.0a1->s3fs) (1.4.0)\n",
            "Requirement already satisfied: attrs>=17.3.0 in /usr/local/lib/python3.12/dist-packages (from aiohttp!=4.0.0a0,!=4.0.0a1->s3fs) (25.3.0)\n",
            "Requirement already satisfied: frozenlist>=1.1.1 in /usr/local/lib/python3.12/dist-packages (from aiohttp!=4.0.0a0,!=4.0.0a1->s3fs) (1.7.0)\n",
            "Requirement already satisfied: propcache>=0.2.0 in /usr/local/lib/python3.12/dist-packages (from aiohttp!=4.0.0a0,!=4.0.0a1->s3fs) (0.3.2)\n",
            "Requirement already satisfied: yarl<2.0,>=1.17.0 in /usr/local/lib/python3.12/dist-packages (from aiohttp!=4.0.0a0,!=4.0.0a1->s3fs) (1.20.1)\n",
            "Collecting crc32c>=2.7 (from numcodecs[crc32c]>=0.14->zarr)\n",
            "  Downloading crc32c-2.7.1-cp312-cp312-manylinux_2_5_x86_64.manylinux1_x86_64.manylinux_2_17_x86_64.manylinux2014_x86_64.whl.metadata (7.3 kB)\n",
            "Requirement already satisfied: pytz>=2020.1 in /usr/local/lib/python3.12/dist-packages (from pandas>=2.2->xarray) (2025.2)\n",
            "Requirement already satisfied: tzdata>=2022.7 in /usr/local/lib/python3.12/dist-packages (from pandas>=2.2->xarray) (2025.2)\n",
            "Requirement already satisfied: locket in /usr/local/lib/python3.12/dist-packages (from partd>=1.4.0->dask) (1.0.0)\n",
            "Requirement already satisfied: urllib3!=2.2.0,<3,>=1.25.4 in /usr/local/lib/python3.12/dist-packages (from botocore<1.40.19,>=1.40.15->aiobotocore<3.0.0,>=2.5.4->s3fs) (2.5.0)\n",
            "Requirement already satisfied: six>=1.5 in /usr/local/lib/python3.12/dist-packages (from python-dateutil<3.0.0,>=2.1->aiobotocore<3.0.0,>=2.5.4->s3fs) (1.17.0)\n",
            "Requirement already satisfied: idna>=2.0 in /usr/local/lib/python3.12/dist-packages (from yarl<2.0,>=1.17.0->aiohttp!=4.0.0a0,!=4.0.0a1->s3fs) (3.10)\n",
            "Downloading zarr-3.1.3-py3-none-any.whl (276 kB)\n",
            "\u001b[2K   \u001b[90m━━━━━━━━━━━━━━━━━━━━━━━━━━━━━━━━━━━━━━━━\u001b[0m \u001b[32m276.4/276.4 kB\u001b[0m \u001b[31m11.9 MB/s\u001b[0m eta \u001b[36m0:00:00\u001b[0m\n",
            "\u001b[?25hDownloading s3fs-2025.9.0-py3-none-any.whl (30 kB)\n",
            "Downloading fsspec-2025.9.0-py3-none-any.whl (199 kB)\n",
            "\u001b[2K   \u001b[90m━━━━━━━━━━━━━━━━━━━━━━━━━━━━━━━━━━━━━━━━\u001b[0m \u001b[32m199.3/199.3 kB\u001b[0m \u001b[31m17.6 MB/s\u001b[0m eta \u001b[36m0:00:00\u001b[0m\n",
            "\u001b[?25hDownloading aiobotocore-2.24.2-py3-none-any.whl (85 kB)\n",
            "\u001b[2K   \u001b[90m━━━━━━━━━━━━━━━━━━━━━━━━━━━━━━━━━━━━━━━━\u001b[0m \u001b[32m85.4/85.4 kB\u001b[0m \u001b[31m8.2 MB/s\u001b[0m eta \u001b[36m0:00:00\u001b[0m\n",
            "\u001b[?25hDownloading donfig-0.8.1.post1-py3-none-any.whl (21 kB)\n",
            "Downloading numcodecs-0.16.3-cp312-cp312-manylinux_2_17_x86_64.manylinux2014_x86_64.whl (8.8 MB)\n",
            "\u001b[2K   \u001b[90m━━━━━━━━━━━━━━━━━━━━━━━━━━━━━━━━━━━━━━━━\u001b[0m \u001b[32m8.8/8.8 MB\u001b[0m \u001b[31m103.5 MB/s\u001b[0m eta \u001b[36m0:00:00\u001b[0m\n",
            "\u001b[?25hDownloading aioitertools-0.12.0-py3-none-any.whl (24 kB)\n",
            "Downloading botocore-1.40.18-py3-none-any.whl (14.0 MB)\n",
            "\u001b[2K   \u001b[90m━━━━━━━━━━━━━━━━━━━━━━━━━━━━━━━━━━━━━━━━\u001b[0m \u001b[32m14.0/14.0 MB\u001b[0m \u001b[31m110.2 MB/s\u001b[0m eta \u001b[36m0:00:00\u001b[0m\n",
            "\u001b[?25hDownloading crc32c-2.7.1-cp312-cp312-manylinux_2_5_x86_64.manylinux1_x86_64.manylinux_2_17_x86_64.manylinux2014_x86_64.whl (53 kB)\n",
            "\u001b[2K   \u001b[90m━━━━━━━━━━━━━━━━━━━━━━━━━━━━━━━━━━━━━━━━\u001b[0m \u001b[32m53.5/53.5 kB\u001b[0m \u001b[31m4.6 MB/s\u001b[0m eta \u001b[36m0:00:00\u001b[0m\n",
            "\u001b[?25hDownloading jmespath-1.0.1-py3-none-any.whl (20 kB)\n",
            "Installing collected packages: numcodecs, jmespath, fsspec, donfig, crc32c, aioitertools, botocore, zarr, aiobotocore, s3fs\n",
            "  Attempting uninstall: fsspec\n",
            "    Found existing installation: fsspec 2025.3.0\n",
            "    Uninstalling fsspec-2025.3.0:\n",
            "      Successfully uninstalled fsspec-2025.3.0\n",
            "\u001b[31mERROR: pip's dependency resolver does not currently take into account all the packages that are installed. This behaviour is the source of the following dependency conflicts.\n",
            "gcsfs 2025.3.0 requires fsspec==2025.3.0, but you have fsspec 2025.9.0 which is incompatible.\n",
            "datasets 4.0.0 requires fsspec[http]<=2025.3.0,>=2023.1.0, but you have fsspec 2025.9.0 which is incompatible.\u001b[0m\u001b[31m\n",
            "\u001b[0mSuccessfully installed aiobotocore-2.24.2 aioitertools-0.12.0 botocore-1.40.18 crc32c-2.7.1 donfig-0.8.1.post1 fsspec-2025.9.0 jmespath-1.0.1 numcodecs-0.16.3 s3fs-2025.9.0 zarr-3.1.3\n"
          ]
        }
      ],
      "source": [
        "# create a venv first\n",
        "!python3 -m venv .venv\n",
        "!source .venv/bin/activate\n",
        "\n",
        "# install dependencies\n",
        "!pip install xarray zarr dask s3fs"
      ]
    },
    {
      "cell_type": "code",
      "source": [
        "import xarray as xr\n",
        "import numpy as np\n",
        "import zarr\n",
        "\n",
        "# Create a small example dataset and write with a chunking strategy\n",
        "time = np.arange(0, 3600, 1)  # seconds\n",
        "range_bin = np.arange(0, 1800, 1)  # samples\n",
        "\n",
        "ds = xr.Dataset(\n",
        "    data_vars=dict(\n",
        "        Sv=([\"time\", \"range_bin\"], np.random.randn(time.size, range_bin.size).astype(\"float32\")),\n",
        "    ),\n",
        "    coords=dict(time=(\"time\", time), range_bin=(\"range_bin\", range_bin)),\n",
        "    attrs={\"convention\": \"SONAR-netCDF4-like (illustrative)\"},\n",
        ")\n",
        "\n",
        "# chunk sizes should reflect read patterns (time-scan, or depth stripes, etc.)\n",
        "ds_chunked = ds.chunk({\"time\": 300, \"range_bin\": 256})\n",
        "\n",
        "# Write to a local Zarr store\n",
        "out = \"sonar_scan.zarr\"\n",
        "ds_chunked.to_zarr(out, mode=\"w\")\n",
        "\n",
        "# Lazy open without loading into memory\n",
        "ds2 = xr.open_zarr(out)# Create a small example dataset and write with a chunking strategy\n",
        "time = np.arange(0, 3600, 1)  # seconds\n",
        "range_bin = np.arange(0, 1800, 1)  # samples"
      ],
      "metadata": {
        "colab": {
          "base_uri": "https://localhost:8080/"
        },
        "id": "6si89x9j5JKd",
        "outputId": "e6640069-78c7-4dd4-8b41-fd4ef16c5ea4"
      },
      "execution_count": 2,
      "outputs": [
        {
          "output_type": "stream",
          "name": "stderr",
          "text": [
            "/usr/local/lib/python3.12/dist-packages/zarr/api/asynchronous.py:244: ZarrUserWarning: Consolidated metadata is currently not part in the Zarr format 3 specification. It may not be supported by other zarr implementations and may change in the future.\n",
            "  warnings.warn(\n"
          ]
        }
      ]
    },
    {
      "cell_type": "markdown",
      "source": [
        "# Save the Zarr store to Amazon S3"
      ],
      "metadata": {
        "id": "jwjJn9wU5R9M"
      }
    },
    {
      "cell_type": "markdown",
      "source": [
        "## Create a free AWS account"
      ],
      "metadata": {
        "id": "1NCMDylH5WKd"
      }
    },
    {
      "cell_type": "markdown",
      "source": [
        "```\n",
        "aws configure\n",
        "```"
      ],
      "metadata": {
        "id": "yQE-JW635bhL"
      }
    },
    {
      "cell_type": "markdown",
      "source": [
        "## Create a new S3 bucket with anonymous access\n",
        "```\n",
        "aws s3 mb s3://xarray-zarr-demo\n",
        "\n",
        "aws s3api put-public-access-block \\\n",
        "  --bucket xarray-zarr-demo \\\n",
        "  --public-access-block-configuration \"BlockPublicAcls=false,IgnorePublicAcls=false,BlockPublicPolicy=false,RestrictPublicBuckets=false\"\n",
        "aws s3api put-public-access-block \\\n",
        "  --bucket xarray-zarr-demo \\\n",
        "  --public-access-block-configuration '{\n",
        "    \"BlockPublicAcls\": false,\n",
        "    \"IgnorePublicAcls\": false,\n",
        "    \"BlockPublicPolicy\": false,\n",
        "    \"RestrictPublicBuckets\": false\n",
        "  }'\n",
        "```"
      ],
      "metadata": {
        "id": "kUTuTufA5erS"
      }
    },
    {
      "cell_type": "markdown",
      "source": [
        "## Save the dataset to the S3 Zarr store"
      ],
      "metadata": {
        "id": "P84C5aGP5jtX"
      }
    },
    {
      "cell_type": "code",
      "source": [
        "# Save the chunked dataset to the S3 bucket\n",
        "ds_chunked.to_zarr(\"s3://xarray-zarr-demo/sonar_scan.zarr\",\n",
        "           mode=\"w\",\n",
        "           consolidated=True,\n",
        "           zarr_format=2)\n",
        "\n",
        "# load directly from S3\n",
        "ds_from_s3 = xr.open_zarr(\"s3://xarray-zarr-demo/sonar_scan.zarr\")"
      ],
      "metadata": {
        "id": "hQ2dlG7c5Kzt"
      },
      "execution_count": 4,
      "outputs": []
    },
    {
      "cell_type": "code",
      "source": [
        "# load directly from S3\n",
        "ds_from_s3 = xr.open_zarr(\"s3://xarray-zarr-demo/sonar_scan.zarr\")\n",
        "\n",
        "# index-based window\n",
        "subset = ds2[\"Sv\"].isel(time=slice(600, 1200), range_bin=slice(0, 512)).load()"
      ],
      "metadata": {
        "id": "eoytIy9o5l9S"
      },
      "execution_count": 5,
      "outputs": []
    },
    {
      "cell_type": "markdown",
      "source": [
        "# Processing the raw data\n",
        "\n",
        "```\n",
        "# activate the venv if needed\n",
        "source .venv/bin/activate\n",
        "\n",
        "pip install echopype\n",
        "```"
      ],
      "metadata": {
        "id": "dI6Hlxyf53wG"
      }
    },
    {
      "cell_type": "code",
      "source": [
        "from pathlib import Path\n",
        "from typing import Optional, Dict\n",
        "\n",
        "from prefect import flow, task\n",
        "from dask.distributed import LocalCluster\n",
        "from prefect_dask import DaskTaskRunner\n",
        "from prefect.futures import as_completed\n",
        "\n",
        "\n",
        "DEFAULT_INPUT_DIR = Path(\"../raw_data\")\n",
        "S3_BUCKET_NAME = \"xarray-zarr-demo\"\n",
        "\n",
        "\n",
        "@task(\n",
        "    retries=3,\n",
        "    retry_delay_seconds=60,\n",
        "    task_run_name=\"convert-to-zarr-{raw_path}\",\n",
        ")\n",
        "def convert_single_raw_to_zarr(\n",
        "    raw_path: str,\n",
        "    s3_bucket: str,\n",
        "    s3_prefix: str = \"\",\n",
        "    sonar_model: str = \"EK60\",\n",
        "    overwrite: bool = True,\n",
        "    storage_options: Optional[Dict] = None\n",
        ") -> str:\n",
        "    # Lazy import so workers don't need echopype at collection time\n",
        "    import echopype as ep\n",
        "\n",
        "    raw_path_p = Path(raw_path)\n",
        "    if not raw_path_p.exists():\n",
        "        raise FileNotFoundError(f\"Input RAW file not found: {raw_path}\")\n",
        "\n",
        "    key_prefix = s3_prefix.strip(\"/\")\n",
        "\n",
        "    key = f\"{key_prefix}/{raw_path_p.stem}.zarr\" if key_prefix else f\"{raw_path_p.stem}.zarr\"\n",
        "    zarr_uri = f\"s3://{s3_bucket}/{key}\"\n",
        "\n",
        "    ed = ep.open_raw(str(raw_path_p), sonar_model=sonar_model)\n",
        "    ed.to_zarr(zarr_uri, overwrite=overwrite, output_storage_options=storage_options)\n",
        "\n",
        "    return zarr_uri\n",
        "\n",
        "\n",
        "@flow(\n",
        "    name=\"convert-raw-to-zarr\",\n",
        "    log_prints=True,\n",
        "    task_runner=DaskTaskRunner(address=\"tcp://127.0.0.1:8786\")\n",
        ")\n",
        "def convert_raw_to_zarr(\n",
        "    input_dir: str,\n",
        "    s3_bucket: str,\n",
        "    s3_prefix: str = \"\",\n",
        "    sonar_model: str = \"EK60\",\n",
        "    overwrite: bool = True,\n",
        "    glob_pattern: str = \"*.raw\",\n",
        "    storage_options: Optional[Dict] = None\n",
        "):\n",
        "    input_path = Path(input_dir)\n",
        "    if not input_path.exists():\n",
        "        raise FileNotFoundError(f\"Input directory not found: {input_dir}\")\n",
        "\n",
        "    raw_files = sorted(input_path.glob(glob_pattern))\n",
        "    if not raw_files:\n",
        "        print(f\"No files matching '{glob_pattern}' found in {input_dir}.\")\n",
        "        return\n",
        "\n",
        "    in_flight = []\n",
        "    batch_size = 2\n",
        "\n",
        "    for rp in raw_files:\n",
        "        task = convert_single_raw_to_zarr.submit(\n",
        "            raw_path=str(rp),\n",
        "            s3_bucket=s3_bucket,\n",
        "            s3_prefix=s3_prefix,\n",
        "            sonar_model=sonar_model,\n",
        "            overwrite=overwrite,\n",
        "            storage_options=storage_options\n",
        "        )\n",
        "        in_flight.append(task)\n",
        "\n",
        "        if len(in_flight) >= batch_size:\n",
        "            finished = next(as_completed(in_flight))\n",
        "            in_flight.remove(finished)\n",
        "\n",
        "    for future_task in in_flight:\n",
        "        future_task.result()\n",
        "\n",
        "\n",
        "if __name__ == \"__main__\":\n",
        "    cluster = LocalCluster(\n",
        "        n_workers=2,\n",
        "        scheduler_port=8786,\n",
        "        threads_per_worker=1,\n",
        "        memory_limit=\"8GB\"\n",
        "    )\n",
        "    client = cluster.get_client()\n",
        "\n",
        "    convert_raw_to_zarr.serve(\n",
        "        name=\"convert-raw-to-zarr-serve\",\n",
        "        parameters={\n",
        "            \"input_dir\": str(DEFAULT_INPUT_DIR),\n",
        "            \"s3_bucket\": S3_BUCKET_NAME,\n",
        "            \"s3_prefix\": \"echodata\",\n",
        "            \"sonar_model\": \"EK60\",\n",
        "            \"overwrite\": True,\n",
        "            \"glob_pattern\": \"*.raw\",\n",
        "            \"storage_options\": {}\n",
        "        },\n",
        "    )"
      ],
      "metadata": {
        "id": "5toOPj5_5pXu"
      },
      "execution_count": 6,
      "outputs": []
    }
  ]
}