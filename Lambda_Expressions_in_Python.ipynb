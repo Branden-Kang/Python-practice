{
  "nbformat": 4,
  "nbformat_minor": 0,
  "metadata": {
    "colab": {
      "name": "Lambda Expressions in Python.ipynb",
      "provenance": [],
      "authorship_tag": "ABX9TyNIATXIVJA/cagndHWVmIEo"
    },
    "kernelspec": {
      "name": "python3",
      "display_name": "Python 3"
    }
  },
  "cells": [
    {
      "cell_type": "markdown",
      "metadata": {
        "id": "q9K0N1WiFuOM",
        "colab_type": "text"
      },
      "source": [
        "[Reference](https://medium.com/better-programming/how-to-use-lambda-expressions-in-python-a96330b513d4)"
      ]
    },
    {
      "cell_type": "code",
      "metadata": {
        "id": "juZKI0SeFuFx",
        "colab_type": "code",
        "colab": {}
      },
      "source": [
        "# traditionally defined function to multiply a number by itself\n",
        "def traditional_square(n):\n",
        "   return n ** 2"
      ],
      "execution_count": 1,
      "outputs": []
    },
    {
      "cell_type": "code",
      "metadata": {
        "id": "aCx6gUZKB4-j",
        "colab_type": "code",
        "colab": {}
      },
      "source": [
        "# lambda function to multiply a number by itself\n",
        "lambda_square = lambda n: n ** 2"
      ],
      "execution_count": 2,
      "outputs": []
    },
    {
      "cell_type": "code",
      "metadata": {
        "id": "Cf14PEi9F01V",
        "colab_type": "code",
        "colab": {
          "base_uri": "https://localhost:8080/",
          "height": 51
        },
        "outputId": "c8c47577-9feb-4ed3-cd5c-17dfb32bd185"
      },
      "source": [
        "print(traditional_square(5)) # 25\n",
        "print(lambda_square(5)) # 25"
      ],
      "execution_count": 3,
      "outputs": [
        {
          "output_type": "stream",
          "text": [
            "25\n",
            "25\n"
          ],
          "name": "stdout"
        }
      ]
    },
    {
      "cell_type": "code",
      "metadata": {
        "id": "kMJUkAuRF1uP",
        "colab_type": "code",
        "colab": {
          "base_uri": "https://localhost:8080/",
          "height": 34
        },
        "outputId": "60e6eee0-40d2-413f-e6e0-d16b07b06cef"
      },
      "source": [
        "scores = [54,36,75,85,13,46]\n",
        "\n",
        "scores.sort()\n",
        "\n",
        "print(scores) # [13,36,46,54,75,85]"
      ],
      "execution_count": 4,
      "outputs": [
        {
          "output_type": "stream",
          "text": [
            "[13, 36, 46, 54, 75, 85]\n"
          ],
          "name": "stdout"
        }
      ]
    },
    {
      "cell_type": "code",
      "metadata": {
        "id": "RT4MiVRDGaCD",
        "colab_type": "code",
        "colab": {
          "base_uri": "https://localhost:8080/",
          "height": 34
        },
        "outputId": "c08976cc-40f7-46df-fcf5-9e714f718d8b"
      },
      "source": [
        "scores = [(\"Jade\",21),(\"Rab\",110),(\"Sylvando\",39),(\"Erik\",19)]\n",
        "\n",
        "scores.sort(key=lambda t: t[1]) # sort by 2nd value in tuple\n",
        "\n",
        "print(scores)"
      ],
      "execution_count": 7,
      "outputs": [
        {
          "output_type": "stream",
          "text": [
            "[('Erik', 19), ('Jade', 21), ('Sylvando', 39), ('Rab', 110)]\n"
          ],
          "name": "stdout"
        }
      ]
    },
    {
      "cell_type": "code",
      "metadata": {
        "id": "_lZKsyMzGbeb",
        "colab_type": "code",
        "colab": {
          "base_uri": "https://localhost:8080/",
          "height": 34
        },
        "outputId": "14da551b-8f2f-479a-9588-c4f587db7bf8"
      },
      "source": [
        "scores = [(\"Jade\",21),(\"Rab\",110),(\"Sylvando\",39),(\"Erik\",19)]\n",
        "\n",
        "result = filter(lambda t: t[1] > 25, scores)\n",
        "\n",
        "print(list(result)) # [(\"Rab\",110),(\"Sylvando\",39)]"
      ],
      "execution_count": 8,
      "outputs": [
        {
          "output_type": "stream",
          "text": [
            "[('Rab', 110), ('Sylvando', 39)]\n"
          ],
          "name": "stdout"
        }
      ]
    }
  ]
}