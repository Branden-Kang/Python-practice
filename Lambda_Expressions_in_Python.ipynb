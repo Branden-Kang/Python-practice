{
  "nbformat": 4,
  "nbformat_minor": 0,
  "metadata": {
    "colab": {
      "name": "Lambda Expressions in Python.ipynb",
      "provenance": [],
      "authorship_tag": "ABX9TyMEp8h+jYKoTFnVWgvMCBQK"
    },
    "kernelspec": {
      "name": "python3",
      "display_name": "Python 3"
    }
  },
  "cells": [
    {
      "cell_type": "markdown",
      "metadata": {
        "id": "E1UvKM8e2eNg",
        "colab_type": "text"
      },
      "source": [
        "[Reference](https://towardsdatascience.com/lambda-expressions-in-python-9ad476c75438)"
      ]
    },
    {
      "cell_type": "code",
      "metadata": {
        "id": "f8TZxGSs2ccS",
        "colab_type": "code",
        "colab": {}
      },
      "source": [
        "def square(num):\n",
        "   return num**2"
      ],
      "execution_count": 1,
      "outputs": []
    },
    {
      "cell_type": "code",
      "metadata": {
        "id": "fgJz2OBJ2htd",
        "colab_type": "code",
        "colab": {}
      },
      "source": [
        "square = lambda num: num**2"
      ],
      "execution_count": 2,
      "outputs": []
    },
    {
      "cell_type": "code",
      "metadata": {
        "id": "sXYsfna62kak",
        "colab_type": "code",
        "colab": {
          "base_uri": "https://localhost:8080/",
          "height": 34
        },
        "outputId": "35a2fe91-2e1d-4cc1-d658-0683f02363eb"
      },
      "source": [
        "square(3)"
      ],
      "execution_count": 3,
      "outputs": [
        {
          "output_type": "execute_result",
          "data": {
            "text/plain": [
              "9"
            ]
          },
          "metadata": {
            "tags": []
          },
          "execution_count": 3
        }
      ]
    },
    {
      "cell_type": "code",
      "metadata": {
        "id": "Y0CEZNtd2lj3",
        "colab_type": "code",
        "colab": {}
      },
      "source": [
        "# using def keyword that returns the sum of num1 and num2\n",
        "def sum(num1, num2):\n",
        "  return num1 + num2\n",
        "\n",
        "# using lambda keyword that returns the sum of num1 and num2\n",
        "lambda num1, num2: num1 + num2\n",
        "\n",
        "# can assign the lambda function to a variable\n",
        "sum = lambda num1, num2: num1 + num2"
      ],
      "execution_count": 4,
      "outputs": []
    },
    {
      "cell_type": "code",
      "metadata": {
        "id": "xloSvN7z2n7C",
        "colab_type": "code",
        "colab": {}
      },
      "source": [
        "# function that takes in num1 and num2 and returns the larger number\n",
        "\n",
        "# def keyword\n",
        "def larger_num(num1, num2):\n",
        "  if num1 > num2:\n",
        "    return num1\n",
        "  else: \n",
        "    return num2\n",
        "\n",
        "# using lambda expressions\n",
        "larger_num = lambda num1, num2: num1 if num1 > num2 else num2"
      ],
      "execution_count": 5,
      "outputs": []
    }
  ]
}