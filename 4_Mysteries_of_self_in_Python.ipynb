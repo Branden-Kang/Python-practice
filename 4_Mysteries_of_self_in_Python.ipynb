{
  "nbformat": 4,
  "nbformat_minor": 0,
  "metadata": {
    "colab": {
      "name": "4 Mysteries of self in Python.ipynb",
      "provenance": [],
      "authorship_tag": "ABX9TyPDB5/ZxAfmf+xz/uqlsxPl"
    },
    "kernelspec": {
      "name": "python3",
      "display_name": "Python 3"
    }
  },
  "cells": [
    {
      "cell_type": "markdown",
      "metadata": {
        "id": "78ruNrH2qpre"
      },
      "source": [
        "[Reference](https://medium.com/better-programming/unlock-the-4-mysteries-of-self-in-python-d1913fbb8e16)"
      ]
    },
    {
      "cell_type": "code",
      "metadata": {
        "colab": {
          "base_uri": "https://localhost:8080/"
        },
        "id": "ECHcsF4YqAes",
        "outputId": "86fb13c5-2819-4ac6-8d34-774f0dc54b60"
      },
      "source": [
        "class Student:\n",
        "     def greet(self, name):\n",
        "         print('Good Morning, ' + name)\n",
        " \n",
        "student = Student()\n",
        "student.greet('John')"
      ],
      "execution_count": 1,
      "outputs": [
        {
          "output_type": "stream",
          "text": [
            "Good Morning, John\n"
          ],
          "name": "stdout"
        }
      ]
    },
    {
      "cell_type": "code",
      "metadata": {
        "colab": {
          "base_uri": "https://localhost:8080/"
        },
        "id": "9OJ01ra5q6Q4",
        "outputId": "9c565ef5-96ef-4da3-c8a7-37da5410296d"
      },
      "source": [
        "type(Student)"
      ],
      "execution_count": 6,
      "outputs": [
        {
          "output_type": "execute_result",
          "data": {
            "text/plain": [
              "type"
            ]
          },
          "metadata": {
            "tags": []
          },
          "execution_count": 6
        }
      ]
    },
    {
      "cell_type": "code",
      "metadata": {
        "colab": {
          "base_uri": "https://localhost:8080/"
        },
        "id": "w0WK4ejCrKzx",
        "outputId": "21730aee-9268-4a7f-e80d-1b0d01314c4f"
      },
      "source": [
        "type(student)"
      ],
      "execution_count": 4,
      "outputs": [
        {
          "output_type": "execute_result",
          "data": {
            "text/plain": [
              "__main__.Student"
            ]
          },
          "metadata": {
            "tags": []
          },
          "execution_count": 4
        }
      ]
    },
    {
      "cell_type": "code",
      "metadata": {
        "colab": {
          "base_uri": "https://localhost:8080/"
        },
        "id": "Bxo8dSNJrMb2",
        "outputId": "582331a7-6377-4aa1-a193-bafc8fe5e186"
      },
      "source": [
        "isinstance(student, Student)"
      ],
      "execution_count": 5,
      "outputs": [
        {
          "output_type": "execute_result",
          "data": {
            "text/plain": [
              "True"
            ]
          },
          "metadata": {
            "tags": []
          },
          "execution_count": 5
        }
      ]
    },
    {
      "cell_type": "code",
      "metadata": {
        "colab": {
          "base_uri": "https://localhost:8080/"
        },
        "id": "Go0MPD4erNJ9",
        "outputId": "a041f566-6d08-4170-f7ec-2540eef2b0d8"
      },
      "source": [
        "hasattr(Student, 'greet')"
      ],
      "execution_count": 7,
      "outputs": [
        {
          "output_type": "execute_result",
          "data": {
            "text/plain": [
              "True"
            ]
          },
          "metadata": {
            "tags": []
          },
          "execution_count": 7
        }
      ]
    },
    {
      "cell_type": "code",
      "metadata": {
        "colab": {
          "base_uri": "https://localhost:8080/"
        },
        "id": "445v8nRLrOOu",
        "outputId": "74087e82-adfe-4333-cdd3-2779c902ce57"
      },
      "source": [
        "class Student:\n",
        "     def greet(self, name):\n",
        "         print(id(self))\n",
        "         print('Good Morning, ' + name)\n",
        " \n",
        "student = Student()\n",
        "student.greet('John')\n",
        "id(student)"
      ],
      "execution_count": 8,
      "outputs": [
        {
          "output_type": "stream",
          "text": [
            "140450832100320\n",
            "Good Morning, John\n"
          ],
          "name": "stdout"
        },
        {
          "output_type": "execute_result",
          "data": {
            "text/plain": [
              "140450832100320"
            ]
          },
          "metadata": {
            "tags": []
          },
          "execution_count": 8
        }
      ]
    },
    {
      "cell_type": "code",
      "metadata": {
        "id": "UpmlbeGyrTq0"
      },
      "source": [
        "student = Student()"
      ],
      "execution_count": 9,
      "outputs": []
    },
    {
      "cell_type": "code",
      "metadata": {
        "colab": {
          "base_uri": "https://localhost:8080/"
        },
        "id": "UEVTZUeArWUd",
        "outputId": "2cefeb20-23f4-4a6e-b4f9-65d7e9c8cd67"
      },
      "source": [
        "student.greet"
      ],
      "execution_count": 10,
      "outputs": [
        {
          "output_type": "execute_result",
          "data": {
            "text/plain": [
              "<bound method Student.greet of <__main__.Student object at 0x7fbd41f530b8>>"
            ]
          },
          "metadata": {
            "tags": []
          },
          "execution_count": 10
        }
      ]
    },
    {
      "cell_type": "code",
      "metadata": {
        "colab": {
          "base_uri": "https://localhost:8080/"
        },
        "id": "u6fNv06IrXRj",
        "outputId": "895b7d6a-5982-40f8-cc0c-6c4a625d3fa2"
      },
      "source": [
        "Student.greet(student, 'John')"
      ],
      "execution_count": 11,
      "outputs": [
        {
          "output_type": "stream",
          "text": [
            "140450832134328\n",
            "Good Morning, John\n"
          ],
          "name": "stdout"
        }
      ]
    },
    {
      "cell_type": "code",
      "metadata": {
        "colab": {
          "base_uri": "https://localhost:8080/",
          "height": 130
        },
        "id": "IDTlqKq4rf75",
        "outputId": "2749c77f-85e4-4c9e-b013-8732c94be17f"
      },
      "source": [
        "def=5"
      ],
      "execution_count": 12,
      "outputs": [
        {
          "output_type": "error",
          "ename": "SyntaxError",
          "evalue": "ignored",
          "traceback": [
            "\u001b[0;36m  File \u001b[0;32m\"<ipython-input-12-0be7e403a22e>\"\u001b[0;36m, line \u001b[0;32m1\u001b[0m\n\u001b[0;31m    def=5\u001b[0m\n\u001b[0m       ^\u001b[0m\n\u001b[0;31mSyntaxError\u001b[0m\u001b[0;31m:\u001b[0m invalid syntax\n"
          ]
        }
      ]
    },
    {
      "cell_type": "code",
      "metadata": {
        "colab": {
          "base_uri": "https://localhost:8080/",
          "height": 130
        },
        "id": "Dv8mAyXVrrVx",
        "outputId": "f15808c2-d621-44d4-a3bf-ae5e4fc02126"
      },
      "source": [
        "class=5"
      ],
      "execution_count": 13,
      "outputs": [
        {
          "output_type": "error",
          "ename": "SyntaxError",
          "evalue": "ignored",
          "traceback": [
            "\u001b[0;36m  File \u001b[0;32m\"<ipython-input-13-6b3d2e7f00f5>\"\u001b[0;36m, line \u001b[0;32m1\u001b[0m\n\u001b[0;31m    class=5\u001b[0m\n\u001b[0m         ^\u001b[0m\n\u001b[0;31mSyntaxError\u001b[0m\u001b[0;31m:\u001b[0m invalid syntax\n"
          ]
        }
      ]
    },
    {
      "cell_type": "code",
      "metadata": {
        "id": "LP1dR2mQrt0Y"
      },
      "source": [
        "self=4"
      ],
      "execution_count": 14,
      "outputs": []
    },
    {
      "cell_type": "code",
      "metadata": {
        "colab": {
          "base_uri": "https://localhost:8080/",
          "height": 232
        },
        "id": "n2oxxLYnrycJ",
        "outputId": "b74f2ce2-2c80-40fd-e4f7-2f9cfc30410f"
      },
      "source": [
        "class Teacher:\n",
        "     def say_hello(name):\n",
        "         print('Hello, ' + name)\n",
        "\n",
        "teacher = Teacher()\n",
        "teacher.say_hello('John')"
      ],
      "execution_count": 15,
      "outputs": [
        {
          "output_type": "error",
          "ename": "TypeError",
          "evalue": "ignored",
          "traceback": [
            "\u001b[0;31m---------------------------------------------------------------------------\u001b[0m",
            "\u001b[0;31mTypeError\u001b[0m                                 Traceback (most recent call last)",
            "\u001b[0;32m<ipython-input-15-54f010b7f068>\u001b[0m in \u001b[0;36m<module>\u001b[0;34m()\u001b[0m\n\u001b[1;32m      4\u001b[0m \u001b[0;34m\u001b[0m\u001b[0m\n\u001b[1;32m      5\u001b[0m \u001b[0mteacher\u001b[0m \u001b[0;34m=\u001b[0m \u001b[0mTeacher\u001b[0m\u001b[0;34m(\u001b[0m\u001b[0;34m)\u001b[0m\u001b[0;34m\u001b[0m\u001b[0;34m\u001b[0m\u001b[0m\n\u001b[0;32m----> 6\u001b[0;31m \u001b[0mteacher\u001b[0m\u001b[0;34m.\u001b[0m\u001b[0msay_hello\u001b[0m\u001b[0;34m(\u001b[0m\u001b[0;34m'John'\u001b[0m\u001b[0;34m)\u001b[0m\u001b[0;34m\u001b[0m\u001b[0;34m\u001b[0m\u001b[0m\n\u001b[0m",
            "\u001b[0;31mTypeError\u001b[0m: say_hello() takes 1 positional argument but 2 were given"
          ]
        }
      ]
    },
    {
      "cell_type": "code",
      "metadata": {
        "colab": {
          "base_uri": "https://localhost:8080/"
        },
        "id": "Mws5H_mZsYuj",
        "outputId": "de269a17-4204-4a19-b015-b20553338b29"
      },
      "source": [
        "class Teacher:\n",
        "     def say_hello(professor, name):\n",
        "         print('Hello, ' + name)\n",
        "\n",
        "teacher = Teacher()\n",
        "teacher.say_hello('John')"
      ],
      "execution_count": 16,
      "outputs": [
        {
          "output_type": "stream",
          "text": [
            "Hello, John\n"
          ],
          "name": "stdout"
        }
      ]
    },
    {
      "cell_type": "code",
      "metadata": {
        "colab": {
          "base_uri": "https://localhost:8080/",
          "height": 37
        },
        "id": "JwVYIEFNsaWB",
        "outputId": "fcd24ca4-a6c6-409d-bca5-1872db261dc4"
      },
      "source": [
        "class Student:\n",
        "     def __init__(self, name):\n",
        "         self.name = name\n",
        "     @classmethod\n",
        "     def with_names(cls, first_name, last_name):\n",
        "         return cls(first_name + ' ' + last_name)\n",
        " \n",
        "student = Student.with_names('John', 'Smith')\n",
        "student.name"
      ],
      "execution_count": 17,
      "outputs": [
        {
          "output_type": "execute_result",
          "data": {
            "application/vnd.google.colaboratory.intrinsic+json": {
              "type": "string"
            },
            "text/plain": [
              "'John Smith'"
            ]
          },
          "metadata": {
            "tags": []
          },
          "execution_count": 17
        }
      ]
    }
  ]
}