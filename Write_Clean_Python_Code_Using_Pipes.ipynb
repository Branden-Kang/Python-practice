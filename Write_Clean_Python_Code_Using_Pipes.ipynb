{
  "nbformat": 4,
  "nbformat_minor": 0,
  "metadata": {
    "colab": {
      "name": "Write Clean Python Code Using Pipes.ipynb",
      "provenance": [],
      "authorship_tag": "ABX9TyMKb4g8Ugh4EVbsir0rRbE/"
    },
    "kernelspec": {
      "name": "python3",
      "display_name": "Python 3"
    },
    "language_info": {
      "name": "python"
    }
  },
  "cells": [
    {
      "cell_type": "markdown",
      "metadata": {
        "id": "QYngShW-4xM_"
      },
      "source": [
        "[Reference](https://towardsdatascience.com/write-clean-python-code-using-pipes-1239a0f3abf5)"
      ]
    },
    {
      "cell_type": "code",
      "metadata": {
        "colab": {
          "base_uri": "https://localhost:8080/"
        },
        "id": "iW5_boJb4snJ",
        "outputId": "29d2d2b7-15f0-4b6e-ca04-5e8e0bbd521c"
      },
      "source": [
        "!pip install pipe"
      ],
      "execution_count": 1,
      "outputs": [
        {
          "output_type": "stream",
          "name": "stdout",
          "text": [
            "Collecting pipe\n",
            "  Downloading pipe-1.6.0-py2.py3-none-any.whl (6.8 kB)\n",
            "Installing collected packages: pipe\n",
            "Successfully installed pipe-1.6.0\n"
          ]
        }
      ]
    },
    {
      "cell_type": "code",
      "metadata": {
        "id": "Cg6UdDAf41kG"
      },
      "source": [
        "from pipe import where"
      ],
      "execution_count": 2,
      "outputs": []
    },
    {
      "cell_type": "markdown",
      "metadata": {
        "id": "kXIWvc9y45cC"
      },
      "source": [
        "# \n",
        "Filter Elements in an Iterable\n"
      ]
    },
    {
      "cell_type": "code",
      "metadata": {
        "colab": {
          "base_uri": "https://localhost:8080/"
        },
        "id": "D0BEmRpk43K2",
        "outputId": "cfe84f99-4ece-437a-bfeb-7f3ebf033c51"
      },
      "source": [
        "arr = [1, 2, 3, 4, 5]\n",
        "\n",
        "# filter using list comprehension\n",
        "[x for x in arr if x % 2 == 0]"
      ],
      "execution_count": 3,
      "outputs": [
        {
          "output_type": "execute_result",
          "data": {
            "text/plain": [
              "[2, 4]"
            ]
          },
          "metadata": {},
          "execution_count": 3
        }
      ]
    },
    {
      "cell_type": "code",
      "metadata": {
        "colab": {
          "base_uri": "https://localhost:8080/"
        },
        "id": "3RO8C38L43Te",
        "outputId": "7cf01021-16a7-4ed2-a340-0cdc340144e7"
      },
      "source": [
        "# filter using pipe\n",
        "list(arr | where(lambda x: x % 2 == 0))"
      ],
      "execution_count": 4,
      "outputs": [
        {
          "output_type": "execute_result",
          "data": {
            "text/plain": [
              "[2, 4]"
            ]
          },
          "metadata": {},
          "execution_count": 4
        }
      ]
    },
    {
      "cell_type": "markdown",
      "metadata": {
        "id": "EDykmd8c469v"
      },
      "source": [
        "# Apply a Function to an Iterable\n"
      ]
    },
    {
      "cell_type": "code",
      "metadata": {
        "id": "afI4tdDB44VC"
      },
      "source": [
        "from pipe import select"
      ],
      "execution_count": 5,
      "outputs": []
    },
    {
      "cell_type": "code",
      "metadata": {
        "id": "sL3F60OR4-DN"
      },
      "source": [
        "arr = [1, 2, 3, 4, 5]"
      ],
      "execution_count": 6,
      "outputs": []
    },
    {
      "cell_type": "code",
      "metadata": {
        "colab": {
          "base_uri": "https://localhost:8080/"
        },
        "id": "4rBZ7aNw4-vh",
        "outputId": "7540ea1d-af43-40c8-9290-af68f3d54b3e"
      },
      "source": [
        "list(arr | select(lambda x: x * 2))"
      ],
      "execution_count": 7,
      "outputs": [
        {
          "output_type": "execute_result",
          "data": {
            "text/plain": [
              "[2, 4, 6, 8, 10]"
            ]
          },
          "metadata": {},
          "execution_count": 7
        }
      ]
    },
    {
      "cell_type": "code",
      "metadata": {
        "colab": {
          "base_uri": "https://localhost:8080/"
        },
        "id": "FM0mQTtS4_V6",
        "outputId": "99275de8-c5f2-4991-b88b-87888663dc3d"
      },
      "source": [
        "list(map(lambda x: x * 2, filter(lambda x: x % 2 == 0, arr)))"
      ],
      "execution_count": 8,
      "outputs": [
        {
          "output_type": "execute_result",
          "data": {
            "text/plain": [
              "[4, 8]"
            ]
          },
          "metadata": {},
          "execution_count": 8
        }
      ]
    },
    {
      "cell_type": "code",
      "metadata": {
        "colab": {
          "base_uri": "https://localhost:8080/"
        },
        "id": "9E_IgFUC5AZM",
        "outputId": "4db9b17f-127d-48b1-cb68-58b5543d6fbd"
      },
      "source": [
        "list(arr | where(lambda x: x % 2 == 0) | select(lambda x: x * 2))"
      ],
      "execution_count": 9,
      "outputs": [
        {
          "output_type": "execute_result",
          "data": {
            "text/plain": [
              "[4, 8]"
            ]
          },
          "metadata": {},
          "execution_count": 9
        }
      ]
    },
    {
      "cell_type": "code",
      "metadata": {
        "colab": {
          "base_uri": "https://localhost:8080/"
        },
        "id": "kDOK6Mwx5BQM",
        "outputId": "5fa07967-777c-4be3-c5e0-30046093fdc0"
      },
      "source": [
        "list(arr | select(lambda x: x * 2) | where(lambda x: x % 2 == 0))"
      ],
      "execution_count": 10,
      "outputs": [
        {
          "output_type": "execute_result",
          "data": {
            "text/plain": [
              "[2, 4, 6, 8, 10]"
            ]
          },
          "metadata": {},
          "execution_count": 10
        }
      ]
    },
    {
      "cell_type": "markdown",
      "metadata": {
        "id": "VNV-zqNJ5DAK"
      },
      "source": [
        "# Unfold Iterables"
      ]
    },
    {
      "cell_type": "markdown",
      "metadata": {
        "id": "LiWG0uq65GBk"
      },
      "source": [
        "## Chain"
      ]
    },
    {
      "cell_type": "code",
      "metadata": {
        "id": "LM4575gu5CP-"
      },
      "source": [
        "from pipe import chain"
      ],
      "execution_count": 12,
      "outputs": []
    },
    {
      "cell_type": "code",
      "metadata": {
        "colab": {
          "base_uri": "https://localhost:8080/"
        },
        "id": "SUmWpk3W5Fwp",
        "outputId": "2a945adb-4256-4dd0-af33-a6f8547541cf"
      },
      "source": [
        "nested = [[1, 2, [3]], [4, 5]]\n",
        "list(nested | chain)"
      ],
      "execution_count": 13,
      "outputs": [
        {
          "output_type": "execute_result",
          "data": {
            "text/plain": [
              "[1, 2, [3], 4, 5]"
            ]
          },
          "metadata": {},
          "execution_count": 13
        }
      ]
    },
    {
      "cell_type": "markdown",
      "metadata": {
        "id": "EvfbCnpp5JCv"
      },
      "source": [
        "## Traverse"
      ]
    },
    {
      "cell_type": "code",
      "metadata": {
        "id": "vnLlYV865IGV"
      },
      "source": [
        "from pipe import traverse"
      ],
      "execution_count": 14,
      "outputs": []
    },
    {
      "cell_type": "code",
      "metadata": {
        "colab": {
          "base_uri": "https://localhost:8080/"
        },
        "id": "N8D4n1Qg5KZR",
        "outputId": "a5c142ef-352c-47c3-b527-701ef8826093"
      },
      "source": [
        "list(nested | traverse)"
      ],
      "execution_count": 15,
      "outputs": [
        {
          "output_type": "execute_result",
          "data": {
            "text/plain": [
              "[1, 2, 3, 4, 5]"
            ]
          },
          "metadata": {},
          "execution_count": 15
        }
      ]
    },
    {
      "cell_type": "code",
      "metadata": {
        "id": "7hlRbKHG5LJ7"
      },
      "source": [
        "fruits = [\n",
        "    {\"name\": \"apple\", \"price\": [2, 5]},\n",
        "    {\"name\": \"orange\", \"price\": 4},\n",
        "    {\"name\": \"grape\", \"price\": 5},\n",
        "]"
      ],
      "execution_count": 16,
      "outputs": []
    },
    {
      "cell_type": "code",
      "metadata": {
        "colab": {
          "base_uri": "https://localhost:8080/"
        },
        "id": "D12iqMRd5MIt",
        "outputId": "e5140855-bfa7-4d6b-f5a6-fde60eaa892c"
      },
      "source": [
        "list(fruits | select(lambda fruit: fruit[\"price\"]) | traverse)"
      ],
      "execution_count": 17,
      "outputs": [
        {
          "output_type": "execute_result",
          "data": {
            "text/plain": [
              "[2, 5, 4, 5]"
            ]
          },
          "metadata": {},
          "execution_count": 17
        }
      ]
    },
    {
      "cell_type": "markdown",
      "metadata": {
        "id": "ZVh8eJq75OjY"
      },
      "source": [
        "## Group Elements"
      ]
    },
    {
      "cell_type": "code",
      "metadata": {
        "id": "nO2cAQxC5NWU"
      },
      "source": [
        "from pipe import groupby"
      ],
      "execution_count": 18,
      "outputs": []
    },
    {
      "cell_type": "code",
      "metadata": {
        "colab": {
          "base_uri": "https://localhost:8080/"
        },
        "id": "ZY7nlljz5Pdb",
        "outputId": "689ced84-af87-441e-b717-320e85694b9d"
      },
      "source": [
        "list(\n",
        "    (1, 2, 3, 4, 5, 6, 7, 8, 9)\n",
        "    | groupby(lambda x: \"Even\" if x % 2==0 else \"Odd\")\n",
        "    | select(lambda x: {x[0]: list(x[1])})\n",
        ")"
      ],
      "execution_count": 19,
      "outputs": [
        {
          "output_type": "execute_result",
          "data": {
            "text/plain": [
              "[{'Even': [2, 4, 6, 8]}, {'Odd': [1, 3, 5, 7, 9]}]"
            ]
          },
          "metadata": {},
          "execution_count": 19
        }
      ]
    },
    {
      "cell_type": "code",
      "metadata": {
        "colab": {
          "base_uri": "https://localhost:8080/"
        },
        "id": "zrNGrOoW5REZ",
        "outputId": "35c437e7-57f7-47fe-d3ab-076edcbfe75c"
      },
      "source": [
        "list(\n",
        "    (1, 2, 3, 4, 5, 6, 7, 8, 9)\n",
        "    | groupby(lambda x: \"Even\" if x % 2==0 else \"Odd\")\n",
        "    | select(lambda x: {x[0]: list(x[1] | where(lambda x: x > 2))})\n",
        ")"
      ],
      "execution_count": 20,
      "outputs": [
        {
          "output_type": "execute_result",
          "data": {
            "text/plain": [
              "[{'Even': [4, 6, 8]}, {'Odd': [3, 5, 7, 9]}]"
            ]
          },
          "metadata": {},
          "execution_count": 20
        }
      ]
    },
    {
      "cell_type": "markdown",
      "metadata": {
        "id": "3I1GQBrY5TAA"
      },
      "source": [
        "## Deduplicate"
      ]
    },
    {
      "cell_type": "code",
      "metadata": {
        "id": "dYmwfapW5SDr"
      },
      "source": [
        "from pipe import dedup\n",
        "\n",
        "arr = [1, 2, 2, 3, 4, 5, 6, 6, 7, 9, 3, 3, 1]"
      ],
      "execution_count": 21,
      "outputs": []
    },
    {
      "cell_type": "code",
      "metadata": {
        "colab": {
          "base_uri": "https://localhost:8080/"
        },
        "id": "bPAkbCvZ5UYj",
        "outputId": "32486e79-eaed-48de-e4b0-482854734f6b"
      },
      "source": [
        "list(arr | dedup)"
      ],
      "execution_count": 22,
      "outputs": [
        {
          "output_type": "execute_result",
          "data": {
            "text/plain": [
              "[1, 2, 3, 4, 5, 6, 7, 9]"
            ]
          },
          "metadata": {},
          "execution_count": 22
        }
      ]
    },
    {
      "cell_type": "code",
      "metadata": {
        "colab": {
          "base_uri": "https://localhost:8080/"
        },
        "id": "5oGL3D-85VNy",
        "outputId": "646169fc-831f-4b25-f0f4-7fd9cfb3c156"
      },
      "source": [
        "list(arr | dedup(lambda key: key < 5))"
      ],
      "execution_count": 23,
      "outputs": [
        {
          "output_type": "execute_result",
          "data": {
            "text/plain": [
              "[1, 5]"
            ]
          },
          "metadata": {},
          "execution_count": 23
        }
      ]
    },
    {
      "cell_type": "code",
      "metadata": {
        "id": "pGtQ--rB5V8y"
      },
      "source": [
        "data = [\n",
        "    {\"name\": \"apple\", \"count\": 2},\n",
        "    {\"name\": \"orange\", \"count\": 4},\n",
        "    {\"name\": \"grape\", \"count\": None},\n",
        "    {\"name\": \"orange\", \"count\": 7},\n",
        "]"
      ],
      "execution_count": 24,
      "outputs": []
    },
    {
      "cell_type": "code",
      "metadata": {
        "colab": {
          "base_uri": "https://localhost:8080/"
        },
        "id": "HkCaCcgM5XOt",
        "outputId": "dcd856f2-d058-42f9-a641-10420a7bfe4e"
      },
      "source": [
        "list(\n",
        "    data\n",
        "    | dedup(key=lambda fruit: fruit[\"name\"])\n",
        "    | select(lambda fruit: fruit[\"count\"])\n",
        "    | where(lambda count: isinstance(count, int))\n",
        ")"
      ],
      "execution_count": 25,
      "outputs": [
        {
          "output_type": "execute_result",
          "data": {
            "text/plain": [
              "[2, 4]"
            ]
          },
          "metadata": {},
          "execution_count": 25
        }
      ]
    },
    {
      "cell_type": "code",
      "metadata": {
        "id": "Gd90UVvV5YTm"
      },
      "source": [
        ""
      ],
      "execution_count": null,
      "outputs": []
    }
  ]
}