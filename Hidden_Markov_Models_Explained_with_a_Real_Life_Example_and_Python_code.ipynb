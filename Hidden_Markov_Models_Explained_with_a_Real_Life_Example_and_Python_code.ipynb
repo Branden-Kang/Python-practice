{
  "nbformat": 4,
  "nbformat_minor": 0,
  "metadata": {
    "colab": {
      "provenance": [],
      "authorship_tag": "ABX9TyN8BTWDmmQew3GKHiCJ/BNL"
    },
    "kernelspec": {
      "name": "python3",
      "display_name": "Python 3"
    },
    "language_info": {
      "name": "python"
    }
  },
  "cells": [
    {
      "cell_type": "markdown",
      "source": [
        "[Reference](https://towardsdatascience.com/hidden-markov-models-explained-with-a-real-life-example-and-python-code-2df2a7956d65)"
      ],
      "metadata": {
        "id": "D_YJtH3KyEIY"
      }
    },
    {
      "cell_type": "code",
      "source": [
        "pip install hmmlearn"
      ],
      "metadata": {
        "colab": {
          "base_uri": "https://localhost:8080/"
        },
        "id": "Nw2fvhXFySMF",
        "outputId": "7b6020f9-1ae1-4e32-9250-1d282759e9b9"
      },
      "execution_count": 2,
      "outputs": [
        {
          "output_type": "stream",
          "name": "stdout",
          "text": [
            "Collecting hmmlearn\n",
            "  Downloading hmmlearn-0.3.0-cp310-cp310-manylinux_2_17_x86_64.manylinux2014_x86_64.whl (160 kB)\n",
            "\u001b[2K     \u001b[90m━━━━━━━━━━━━━━━━━━━━━━━━━━━━━━━━━━━━━━━━\u001b[0m \u001b[32m160.4/160.4 kB\u001b[0m \u001b[31m2.8 MB/s\u001b[0m eta \u001b[36m0:00:00\u001b[0m\n",
            "\u001b[?25hRequirement already satisfied: numpy>=1.10 in /usr/local/lib/python3.10/dist-packages (from hmmlearn) (1.23.5)\n",
            "Requirement already satisfied: scikit-learn!=0.22.0,>=0.16 in /usr/local/lib/python3.10/dist-packages (from hmmlearn) (1.2.2)\n",
            "Requirement already satisfied: scipy>=0.19 in /usr/local/lib/python3.10/dist-packages (from hmmlearn) (1.11.3)\n",
            "Requirement already satisfied: joblib>=1.1.1 in /usr/local/lib/python3.10/dist-packages (from scikit-learn!=0.22.0,>=0.16->hmmlearn) (1.3.2)\n",
            "Requirement already satisfied: threadpoolctl>=2.0.0 in /usr/local/lib/python3.10/dist-packages (from scikit-learn!=0.22.0,>=0.16->hmmlearn) (3.2.0)\n",
            "Installing collected packages: hmmlearn\n",
            "Successfully installed hmmlearn-0.3.0\n"
          ]
        }
      ]
    },
    {
      "cell_type": "code",
      "execution_count": 3,
      "metadata": {
        "colab": {
          "base_uri": "https://localhost:8080/"
        },
        "id": "DTbcdfTbyCmJ",
        "outputId": "0efe4708-09e8-44a9-f904-47b1872e6fce"
      },
      "outputs": [
        {
          "output_type": "stream",
          "name": "stdout",
          "text": [
            "Setup HMM model with parameters\n",
            "Step 1. Complete - Defined Initial Distribution\n",
            "Step 2. Complete - Defined Transition Matrix\n",
            "Step 3. Complete - Defined Observation Probability Matrix\n"
          ]
        },
        {
          "output_type": "stream",
          "name": "stderr",
          "text": [
            "WARNING:hmmlearn.base:Even though the 'startprob_' attribute is set, it will be overwritten during initialization because 'init_params' contains 's'\n",
            "WARNING:hmmlearn.base:Even though the 'transmat_' attribute is set, it will be overwritten during initialization because 'init_params' contains 't'\n",
            "WARNING:hmmlearn.base:Even though the 'emissionprob_' attribute is set, it will be overwritten during initialization because 'init_params' contains 'e'\n"
          ]
        },
        {
          "output_type": "stream",
          "name": "stdout",
          "text": [
            "\n",
            "Sample of Simulated Trials - Based on Model Parameters\n",
            "[[1]\n",
            " [1]\n",
            " [2]\n",
            " [1]\n",
            " [2]\n",
            " [0]\n",
            " [1]\n",
            " [1]\n",
            " [1]\n",
            " [2]]\n",
            "Predict the Hidden State Transitions that were being the exam scores OK, Fail, Perfect: \n",
            " 0 -> Tired , 1 -> Happy\n",
            "[1 0 0]\n"
          ]
        }
      ],
      "source": [
        "from hmmlearn import hmm\n",
        "import numpy as np\n",
        "\n",
        "## Part 1. Generating a HMM with specific parameters and simulating the exam\n",
        "print(\"Setup HMM model with parameters\")\n",
        "# init_params are the parameters used to initialize the model for training\n",
        "# s -> start probability\n",
        "# t -> transition probabilities\n",
        "# e -> emission probabilities\n",
        "model = hmm.CategoricalHMM(n_components=2, random_state=425, init_params='ste')\n",
        "\n",
        "# initial probabilities\n",
        "# probability of starting in the Tired state = 0\n",
        "# probability of starting in the Happy state = 1\n",
        "initial_distribution = np.array([0.1, 0.9])\n",
        "model.startprob_ = initial_distribution\n",
        "\n",
        "print(\"Step 1. Complete - Defined Initial Distribution\")\n",
        "\n",
        "transition_distribution = np.array([[0.4, 0.6], [0.2, 0.8]])\n",
        "model.transmat_ = transition_distribution\n",
        "print(\"Step 2. Complete - Defined Transition Matrix\")\n",
        "\n",
        "observation_probability_matrix = np.array([[0.3, 0.5, 0.2], [0.1, 0.5, 0.4]])\n",
        "model.emissionprob_ = observation_probability_matrix\n",
        "print(\"Step 3. Complete - Defined Observation Probability Matrix\")\n",
        "\n",
        "# simulate performing 100,000 trials, i.e., aptitude tests\n",
        "trials, simulated_states = model.sample(100000)\n",
        "\n",
        "# Output a sample of the simulated trials\n",
        "print(\"\\nSample of Simulated Trials - Based on Model Parameters\")\n",
        "print(trials[:10])\n",
        "\n",
        "## Part 2 - Decoding the hidden state sequence that leads\n",
        "## to an observation sequence of OK - Fail - Perfect\n",
        "\n",
        "# split our data into training and test sets (50/50 split)\n",
        "X_train = trials[:trials.shape[0] // 2]\n",
        "X_test = trials[trials.shape[0] // 2:]\n",
        "\n",
        "model.fit(X_train)\n",
        "\n",
        "# the exam had 3 trials and your dog had the following score: OK, Fail, Perfect (1, 0 , 2)\n",
        "exam_observations = [[1, 0, 2]]\n",
        "predicted_states = model.predict(X=[[1, 0, 2]])\n",
        "print(\"Predict the Hidden State Transitions that were being the exam scores OK, Fail, Perfect: \\n 0 -> Tired , \"\n",
        "      \"1 -> Happy\")\n",
        "print(predicted_states)"
      ]
    }
  ]
}