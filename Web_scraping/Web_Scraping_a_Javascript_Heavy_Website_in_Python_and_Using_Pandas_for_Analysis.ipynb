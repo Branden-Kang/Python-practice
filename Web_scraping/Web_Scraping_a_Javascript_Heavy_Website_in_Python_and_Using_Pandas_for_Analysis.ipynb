{
  "nbformat": 4,
  "nbformat_minor": 0,
  "metadata": {
    "colab": {
      "name": "Web Scraping a Javascript Heavy Website in Python and Using Pandas for Analysis.ipynb",
      "provenance": [],
      "authorship_tag": "ABX9TyMrJY5bRHH8EBv49L31P4Yj"
    },
    "kernelspec": {
      "name": "python3",
      "display_name": "Python 3"
    }
  },
  "cells": [
    {
      "cell_type": "markdown",
      "metadata": {
        "id": "iNjRlyEcPbCc",
        "colab_type": "text"
      },
      "source": [
        "[Reference1](https://medium.com/@megandibble/web-scraping-a-javascript-heavy-website-in-python-and-using-pandas-for-analysis-7efb22315858) <br>\n",
        "[Reference2](https://blog.hartleybrody.com/web-scraping-cheat-sheet/#useful-libraries)"
      ]
    },
    {
      "cell_type": "code",
      "metadata": {
        "id": "87Rgeo58Te7S",
        "colab_type": "code",
        "colab": {}
      },
      "source": [
        "import pandas as pd\n",
        "import requests \n",
        "import numpy as np\n",
        "from bs4 import BeautifulSoup"
      ],
      "execution_count": 9,
      "outputs": []
    },
    {
      "cell_type": "code",
      "metadata": {
        "id": "La3CHtS9Tywv",
        "colab_type": "code",
        "colab": {}
      },
      "source": [
        "current = pd.read_csv('https://raw.githubusercontent.com/mdibble2/Projects/master/data/suppliers_v2.csv')"
      ],
      "execution_count": 10,
      "outputs": []
    },
    {
      "cell_type": "code",
      "metadata": {
        "id": "4xwm4KgFT11z",
        "colab_type": "code",
        "colab": {
          "base_uri": "https://localhost:8080/",
          "height": 204
        },
        "outputId": "97b26087-0160-4625-d704-4eb9aa7b3aef"
      },
      "source": [
        "current.head()"
      ],
      "execution_count": 11,
      "outputs": [
        {
          "output_type": "execute_result",
          "data": {
            "text/html": [
              "<div>\n",
              "<style scoped>\n",
              "    .dataframe tbody tr th:only-of-type {\n",
              "        vertical-align: middle;\n",
              "    }\n",
              "\n",
              "    .dataframe tbody tr th {\n",
              "        vertical-align: top;\n",
              "    }\n",
              "\n",
              "    .dataframe thead th {\n",
              "        text-align: right;\n",
              "    }\n",
              "</style>\n",
              "<table border=\"1\" class=\"dataframe\">\n",
              "  <thead>\n",
              "    <tr style=\"text-align: right;\">\n",
              "      <th></th>\n",
              "      <th>supplier</th>\n",
              "    </tr>\n",
              "  </thead>\n",
              "  <tbody>\n",
              "    <tr>\n",
              "      <th>0</th>\n",
              "      <td>Ivystone</td>\n",
              "    </tr>\n",
              "    <tr>\n",
              "      <th>1</th>\n",
              "      <td>Meissenburg Designs</td>\n",
              "    </tr>\n",
              "    <tr>\n",
              "      <th>2</th>\n",
              "      <td>Snark City</td>\n",
              "    </tr>\n",
              "    <tr>\n",
              "      <th>3</th>\n",
              "      <td>Chronicle Books</td>\n",
              "    </tr>\n",
              "    <tr>\n",
              "      <th>4</th>\n",
              "      <td>Workman Publishing</td>\n",
              "    </tr>\n",
              "  </tbody>\n",
              "</table>\n",
              "</div>"
            ],
            "text/plain": [
              "              supplier\n",
              "0             Ivystone\n",
              "1  Meissenburg Designs\n",
              "2           Snark City\n",
              "3      Chronicle Books\n",
              "4   Workman Publishing"
            ]
          },
          "metadata": {
            "tags": []
          },
          "execution_count": 11
        }
      ]
    },
    {
      "cell_type": "code",
      "metadata": {
        "id": "-63MjNDbPWjq",
        "colab_type": "code",
        "colab": {
          "base_uri": "https://localhost:8080/",
          "height": 54
        },
        "outputId": "7c8688cc-9d8c-4820-b772-7e56ee60fbff"
      },
      "source": [
        "bnum = 1\n",
        "floornum = 20\n",
        "url = 'https://www.americasmart.com/browse/#/exhibitor?market=23&building=' + str(bnum) + '&floor=' + str(floornum) \n",
        "response = requests.get(url)\n",
        "print(url)\n",
        "\n",
        "if response.ok == True:\n",
        "    data = response.text\n",
        "    #print (data)\n",
        "    soup = BeautifulSoup(data, 'lxml')\n",
        "    #print (soup.prettify())\n",
        "    booths = soup.select('body')\n",
        "    #print (booths)\n",
        "    text = soup.find_all(text=True)\n",
        "    #print(text)"
      ],
      "execution_count": 12,
      "outputs": [
        {
          "output_type": "stream",
          "text": [
            "https://www.americasmart.com/browse/#/exhibitor?market=23&building=1&floor=20\n"
          ],
          "name": "stdout"
        }
      ]
    },
    {
      "cell_type": "code",
      "metadata": {
        "id": "Qrp0auOBPmdU",
        "colab_type": "code",
        "colab": {
          "base_uri": "https://localhost:8080/",
          "height": 54
        },
        "outputId": "8535b067-6c8e-4a04-ea93-f74f6a3e6452"
      },
      "source": [
        "url = 'https://wem.americasmart.com/api/v1.2/Search/LinesAndPhotosByMarket?status=ACTIVE_AND_UPCOMING&marketID=23'\n",
        "r = requests.get(url)\n",
        "info = r.json()\n",
        "print(info[1])"
      ],
      "execution_count": 13,
      "outputs": [
        {
          "output_type": "stream",
          "text": [
            "{'showroomName': 'Abbey & CA Gift', 'booths': [{'floorNum': 13, 'isPerm': True, 'building': 2.0, 'lateOptIn': None, 'meridianUID': '1335A', 'showMarketLateOptInDates': [{'showLateOptInDatesID': 14, 'showLateOptInDate': '2020-01-16T05:00:00Z'}], 'title': '1335A', 'boothID': 249415}], 'logo': '//wem.americasmart.com/convdata/amc/images/ExhibitorLogos/44FEE1FF-5056-86CF-980D4A62EACE696B.jpg', 'productLines': [{'exhibLineID': 294565, 'description': 'Cathedral Art Metal Co.'}, {'exhibLineID': 300361, 'description': 'Amazing Woman Collection'}, {'exhibLineID': 300362, 'description': 'Say it with Sass'}, {'exhibLineID': 300363, 'description': 'Advent Collection'}, {'exhibLineID': 300364, 'description': 'Grace Outpoured Coaster Mugs'}, {'exhibLineID': 300369, 'description': 'Professions'}, {'exhibLineID': 300373, 'description': 'Car Charms & Visor Clips'}, {'exhibLineID': 310947, 'description': 'Abbey & CA Gift'}], 'exhibitorID': 2189}\n"
          ],
          "name": "stdout"
        }
      ]
    },
    {
      "cell_type": "code",
      "metadata": {
        "id": "iAWIGZEJPnfY",
        "colab_type": "code",
        "colab": {
          "base_uri": "https://localhost:8080/",
          "height": 173
        },
        "outputId": "6d1a1ad0-1868-4779-be44-dfe9e81811f8"
      },
      "source": [
        "#narrowing down all suppliers in one show room\n",
        "for j in range(0,len(info[1]['productLines'])):\n",
        "    print(info[1]['productLines'][j]['description'])\n",
        "\n",
        "#played around with indexing to find the data I needed\n",
        "info[1]['booths'][0]['title']"
      ],
      "execution_count": 14,
      "outputs": [
        {
          "output_type": "stream",
          "text": [
            "Cathedral Art Metal Co.\n",
            "Amazing Woman Collection\n",
            "Say it with Sass\n",
            "Advent Collection\n",
            "Grace Outpoured Coaster Mugs\n",
            "Professions\n",
            "Car Charms & Visor Clips\n",
            "Abbey & CA Gift\n"
          ],
          "name": "stdout"
        },
        {
          "output_type": "execute_result",
          "data": {
            "application/vnd.google.colaboratory.intrinsic+json": {
              "type": "string"
            },
            "text/plain": [
              "'1335A'"
            ]
          },
          "metadata": {
            "tags": []
          },
          "execution_count": 14
        }
      ]
    },
    {
      "cell_type": "code",
      "metadata": {
        "id": "fODnfaShPpEj",
        "colab_type": "code",
        "colab": {}
      },
      "source": [
        "allbooths = []\n",
        "\n",
        "for i in range(0, len(info)):\n",
        "    loc = info[i] #select the item in the list provided by the AJAX query\n",
        "    for j in range(0,len(info[i]['productLines'])):  #some booths have multiple lines, which is why we need 2 for loops\n",
        "        \n",
        "        booth = loc['showroomName'] \n",
        "        boothid = loc['booths'][0]['title']\n",
        "        line = info[i]['productLines'][j]['description']\n",
        "        bldg = int(loc['booths'][0]['building']) \n",
        "        floor = loc['booths'][0]['floorNum']\n",
        "\n",
        "        sublist1 = [line,bldg,floor,booth,boothid] #want there to be a separate record if this line is in a booth with another title\n",
        "        sublist2 = [booth,bldg,floor,booth,boothid] #also want to capture lines that have their own booth\n",
        "        allbooths.append(sublist1)\n",
        "        allbooths.append(sublist2)\n",
        "\n",
        "df = pd.DataFrame(allbooths,columns=['supplier','building','floor','booth','id'])"
      ],
      "execution_count": 15,
      "outputs": []
    },
    {
      "cell_type": "code",
      "metadata": {
        "id": "_IY1RU4VP4OW",
        "colab_type": "code",
        "colab": {
          "base_uri": "https://localhost:8080/",
          "height": 204
        },
        "outputId": "dd3106c8-5630-46aa-feac-99028897fcf0"
      },
      "source": [
        "df.head()"
      ],
      "execution_count": 17,
      "outputs": [
        {
          "output_type": "execute_result",
          "data": {
            "text/html": [
              "<div>\n",
              "<style scoped>\n",
              "    .dataframe tbody tr th:only-of-type {\n",
              "        vertical-align: middle;\n",
              "    }\n",
              "\n",
              "    .dataframe tbody tr th {\n",
              "        vertical-align: top;\n",
              "    }\n",
              "\n",
              "    .dataframe thead th {\n",
              "        text-align: right;\n",
              "    }\n",
              "</style>\n",
              "<table border=\"1\" class=\"dataframe\">\n",
              "  <thead>\n",
              "    <tr style=\"text-align: right;\">\n",
              "      <th></th>\n",
              "      <th>supplier</th>\n",
              "      <th>building</th>\n",
              "      <th>floor</th>\n",
              "      <th>booth</th>\n",
              "      <th>id</th>\n",
              "    </tr>\n",
              "  </thead>\n",
              "  <tbody>\n",
              "    <tr>\n",
              "      <th>0</th>\n",
              "      <td>Moby Dick Specialties</td>\n",
              "      <td>2</td>\n",
              "      <td>10</td>\n",
              "      <td>Moby Dick Specialties</td>\n",
              "      <td>1029</td>\n",
              "    </tr>\n",
              "    <tr>\n",
              "      <th>1</th>\n",
              "      <td>Moby Dick Specialties</td>\n",
              "      <td>2</td>\n",
              "      <td>10</td>\n",
              "      <td>Moby Dick Specialties</td>\n",
              "      <td>1029</td>\n",
              "    </tr>\n",
              "    <tr>\n",
              "      <th>2</th>\n",
              "      <td>Cathedral Art Metal Co.</td>\n",
              "      <td>2</td>\n",
              "      <td>13</td>\n",
              "      <td>Abbey &amp; CA Gift</td>\n",
              "      <td>1335A</td>\n",
              "    </tr>\n",
              "    <tr>\n",
              "      <th>3</th>\n",
              "      <td>Abbey &amp; CA Gift</td>\n",
              "      <td>2</td>\n",
              "      <td>13</td>\n",
              "      <td>Abbey &amp; CA Gift</td>\n",
              "      <td>1335A</td>\n",
              "    </tr>\n",
              "    <tr>\n",
              "      <th>4</th>\n",
              "      <td>Amazing Woman Collection</td>\n",
              "      <td>2</td>\n",
              "      <td>13</td>\n",
              "      <td>Abbey &amp; CA Gift</td>\n",
              "      <td>1335A</td>\n",
              "    </tr>\n",
              "  </tbody>\n",
              "</table>\n",
              "</div>"
            ],
            "text/plain": [
              "                   supplier  building  floor                  booth     id\n",
              "0     Moby Dick Specialties         2     10  Moby Dick Specialties   1029\n",
              "1     Moby Dick Specialties         2     10  Moby Dick Specialties   1029\n",
              "2   Cathedral Art Metal Co.         2     13        Abbey & CA Gift  1335A\n",
              "3           Abbey & CA Gift         2     13        Abbey & CA Gift  1335A\n",
              "4  Amazing Woman Collection         2     13        Abbey & CA Gift  1335A"
            ]
          },
          "metadata": {
            "tags": []
          },
          "execution_count": 17
        }
      ]
    },
    {
      "cell_type": "code",
      "metadata": {
        "id": "RnWc5NNaUBdY",
        "colab_type": "code",
        "colab": {}
      },
      "source": [
        "df2 = df.drop_duplicates()"
      ],
      "execution_count": 20,
      "outputs": []
    },
    {
      "cell_type": "code",
      "metadata": {
        "id": "p__SGtEJUEXI",
        "colab_type": "code",
        "colab": {
          "base_uri": "https://localhost:8080/",
          "height": 80
        },
        "outputId": "37ed4144-d52d-45b4-e525-24926e88230c"
      },
      "source": [
        "df2[df2['supplier']==\"Ivystone\"]"
      ],
      "execution_count": 23,
      "outputs": [
        {
          "output_type": "execute_result",
          "data": {
            "text/html": [
              "<div>\n",
              "<style scoped>\n",
              "    .dataframe tbody tr th:only-of-type {\n",
              "        vertical-align: middle;\n",
              "    }\n",
              "\n",
              "    .dataframe tbody tr th {\n",
              "        vertical-align: top;\n",
              "    }\n",
              "\n",
              "    .dataframe thead th {\n",
              "        text-align: right;\n",
              "    }\n",
              "</style>\n",
              "<table border=\"1\" class=\"dataframe\">\n",
              "  <thead>\n",
              "    <tr style=\"text-align: right;\">\n",
              "      <th></th>\n",
              "      <th>supplier</th>\n",
              "      <th>building</th>\n",
              "      <th>floor</th>\n",
              "      <th>booth</th>\n",
              "      <th>id</th>\n",
              "    </tr>\n",
              "  </thead>\n",
              "  <tbody>\n",
              "    <tr>\n",
              "      <th>6714</th>\n",
              "      <td>Ivystone</td>\n",
              "      <td>2</td>\n",
              "      <td>11</td>\n",
              "      <td>Ivystone</td>\n",
              "      <td>1101</td>\n",
              "    </tr>\n",
              "  </tbody>\n",
              "</table>\n",
              "</div>"
            ],
            "text/plain": [
              "      supplier  building  floor     booth    id\n",
              "6714  Ivystone         2     11  Ivystone  1101"
            ]
          },
          "metadata": {
            "tags": []
          },
          "execution_count": 23
        }
      ]
    },
    {
      "cell_type": "code",
      "metadata": {
        "id": "04GXYiywUF7f",
        "colab_type": "code",
        "colab": {
          "base_uri": "https://localhost:8080/",
          "height": 204
        },
        "outputId": "bd60fbdb-df69-4739-8c96-5460b1f3bb41"
      },
      "source": [
        "merge = current.merge(df2)\n",
        "merge.head()"
      ],
      "execution_count": 22,
      "outputs": [
        {
          "output_type": "execute_result",
          "data": {
            "text/html": [
              "<div>\n",
              "<style scoped>\n",
              "    .dataframe tbody tr th:only-of-type {\n",
              "        vertical-align: middle;\n",
              "    }\n",
              "\n",
              "    .dataframe tbody tr th {\n",
              "        vertical-align: top;\n",
              "    }\n",
              "\n",
              "    .dataframe thead th {\n",
              "        text-align: right;\n",
              "    }\n",
              "</style>\n",
              "<table border=\"1\" class=\"dataframe\">\n",
              "  <thead>\n",
              "    <tr style=\"text-align: right;\">\n",
              "      <th></th>\n",
              "      <th>supplier</th>\n",
              "      <th>building</th>\n",
              "      <th>floor</th>\n",
              "      <th>booth</th>\n",
              "      <th>id</th>\n",
              "    </tr>\n",
              "  </thead>\n",
              "  <tbody>\n",
              "    <tr>\n",
              "      <th>0</th>\n",
              "      <td>Ivystone</td>\n",
              "      <td>2</td>\n",
              "      <td>11</td>\n",
              "      <td>Ivystone</td>\n",
              "      <td>1101</td>\n",
              "    </tr>\n",
              "    <tr>\n",
              "      <th>1</th>\n",
              "      <td>Meissenburg Designs</td>\n",
              "      <td>2</td>\n",
              "      <td>7</td>\n",
              "      <td>Meissenburg Designs</td>\n",
              "      <td>787B</td>\n",
              "    </tr>\n",
              "    <tr>\n",
              "      <th>2</th>\n",
              "      <td>Chronicle Books</td>\n",
              "      <td>2</td>\n",
              "      <td>16</td>\n",
              "      <td>Simblist Group, The</td>\n",
              "      <td>1621</td>\n",
              "    </tr>\n",
              "    <tr>\n",
              "      <th>3</th>\n",
              "      <td>Workman Publishing</td>\n",
              "      <td>2</td>\n",
              "      <td>17</td>\n",
              "      <td>Anne McGilvray &amp; Company</td>\n",
              "      <td>1718</td>\n",
              "    </tr>\n",
              "    <tr>\n",
              "      <th>4</th>\n",
              "      <td>Mary Square</td>\n",
              "      <td>2</td>\n",
              "      <td>18</td>\n",
              "      <td>OneCoast</td>\n",
              "      <td>1800</td>\n",
              "    </tr>\n",
              "  </tbody>\n",
              "</table>\n",
              "</div>"
            ],
            "text/plain": [
              "              supplier  building  floor                     booth    id\n",
              "0             Ivystone         2     11                  Ivystone  1101\n",
              "1  Meissenburg Designs         2      7       Meissenburg Designs  787B\n",
              "2      Chronicle Books         2     16       Simblist Group, The  1621\n",
              "3   Workman Publishing         2     17  Anne McGilvray & Company  1718\n",
              "4          Mary Square         2     18                  OneCoast  1800"
            ]
          },
          "metadata": {
            "tags": []
          },
          "execution_count": 22
        }
      ]
    },
    {
      "cell_type": "code",
      "metadata": {
        "id": "XvNFwRvNUMf9",
        "colab_type": "code",
        "colab": {
          "base_uri": "https://localhost:8080/",
          "height": 714
        },
        "outputId": "6b6c21d8-29ab-4807-b01e-b29b7832b0ee"
      },
      "source": [
        "s1 = merge.supplier\n",
        "s2 = current.supplier\n",
        "s3 = s1.append(s2)\n",
        "print(s3.drop_duplicates())"
      ],
      "execution_count": 24,
      "outputs": [
        {
          "output_type": "stream",
          "text": [
            "0                     Ivystone\n",
            "1          Meissenburg Designs\n",
            "2              Chronicle Books\n",
            "3           Workman Publishing\n",
            "4                  Mary Square\n",
            "5                Ellembee Home\n",
            "6             Walton Wood Farm\n",
            "7                Sapling Press\n",
            "8                  Knock Knock\n",
            "9                    Capabunga\n",
            "11             Barefoot Dreams\n",
            "12              Creative Co-Op\n",
            "13                 Adams & Co.\n",
            "14                Spunky Fluff\n",
            "15    Anne McGilvray & Company\n",
            "16                Design Ideas\n",
            "18          Eric & Christopher\n",
            "19                Karma Living\n",
            "20               Sweet Gumball\n",
            "21                 Stash Style\n",
            "22               Julio Designs\n",
            "23                      Joules\n",
            "26                  Chez Gagne\n",
            "27        Pretty Alright Goods\n",
            "28                Reeves & Co.\n",
            "2                   Snark City\n",
            "11                   Fish Kiss\n",
            "22              Ella B Candles\n",
            "24            Torched Products\n",
            "25            Socksmith Design\n",
            "26      Cedar Mountain Studios\n",
            "28       Venture Imports, LLC \n",
            "29                         WHD\n",
            "30       Cheryl Stevens Studio\n",
            "31                 Half United\n",
            "32                     Baizaar\n",
            "33                     Gorjana\n",
            "35             Carina Paper Co\n",
            "36                  WorldFinds\n",
            "38             Cotn Collection\n",
            "Name: supplier, dtype: object\n"
          ],
          "name": "stdout"
        }
      ]
    },
    {
      "cell_type": "code",
      "metadata": {
        "id": "LF_1L6UkUQFZ",
        "colab_type": "code",
        "colab": {}
      },
      "source": [
        "current2 = pd.read_csv('https://raw.githubusercontent.com/mdibble2/Projects/master/data/suppliers_v2.csv')\n",
        "merge2 = current2.merge(df2)"
      ],
      "execution_count": 26,
      "outputs": []
    },
    {
      "cell_type": "code",
      "metadata": {
        "id": "0MQFPok4UR8h",
        "colab_type": "code",
        "colab": {
          "base_uri": "https://localhost:8080/",
          "height": 714
        },
        "outputId": "7952b275-8dd1-4367-ed60-5119c81be442"
      },
      "source": [
        "s1 = merge2.supplier\n",
        "s2 = current2.supplier\n",
        "s3 = s1.append(s2)\n",
        "print(s3.drop_duplicates())"
      ],
      "execution_count": 27,
      "outputs": [
        {
          "output_type": "stream",
          "text": [
            "0                     Ivystone\n",
            "1          Meissenburg Designs\n",
            "2              Chronicle Books\n",
            "3           Workman Publishing\n",
            "4                  Mary Square\n",
            "5                Ellembee Home\n",
            "6             Walton Wood Farm\n",
            "7                Sapling Press\n",
            "8                  Knock Knock\n",
            "9                    Capabunga\n",
            "11             Barefoot Dreams\n",
            "12              Creative Co-Op\n",
            "13                 Adams & Co.\n",
            "14                Spunky Fluff\n",
            "15    Anne McGilvray & Company\n",
            "16                Design Ideas\n",
            "18          Eric & Christopher\n",
            "19                Karma Living\n",
            "20               Sweet Gumball\n",
            "21                 Stash Style\n",
            "22               Julio Designs\n",
            "23                      Joules\n",
            "26                  Chez Gagne\n",
            "27        Pretty Alright Goods\n",
            "28                Reeves & Co.\n",
            "2                   Snark City\n",
            "11                   Fish Kiss\n",
            "22              Ella B Candles\n",
            "24            Torched Products\n",
            "25            Socksmith Design\n",
            "26      Cedar Mountain Studios\n",
            "28       Venture Imports, LLC \n",
            "29                         WHD\n",
            "30       Cheryl Stevens Studio\n",
            "31                 Half United\n",
            "32                     Baizaar\n",
            "33                     Gorjana\n",
            "35             Carina Paper Co\n",
            "36                  WorldFinds\n",
            "38             Cotn Collection\n",
            "Name: supplier, dtype: object\n"
          ],
          "name": "stdout"
        }
      ]
    },
    {
      "cell_type": "code",
      "metadata": {
        "id": "jnpul1EcUW7W",
        "colab_type": "code",
        "colab": {
          "base_uri": "https://localhost:8080/",
          "height": 948
        },
        "outputId": "8b85a87e-b7f3-4847-9c30-f51fce0abd0c"
      },
      "source": [
        "merge2.sort_values(by=['building','floor'],inplace = True)\n",
        "merge2"
      ],
      "execution_count": 28,
      "outputs": [
        {
          "output_type": "execute_result",
          "data": {
            "text/html": [
              "<div>\n",
              "<style scoped>\n",
              "    .dataframe tbody tr th:only-of-type {\n",
              "        vertical-align: middle;\n",
              "    }\n",
              "\n",
              "    .dataframe tbody tr th {\n",
              "        vertical-align: top;\n",
              "    }\n",
              "\n",
              "    .dataframe thead th {\n",
              "        text-align: right;\n",
              "    }\n",
              "</style>\n",
              "<table border=\"1\" class=\"dataframe\">\n",
              "  <thead>\n",
              "    <tr style=\"text-align: right;\">\n",
              "      <th></th>\n",
              "      <th>supplier</th>\n",
              "      <th>building</th>\n",
              "      <th>floor</th>\n",
              "      <th>booth</th>\n",
              "      <th>id</th>\n",
              "    </tr>\n",
              "  </thead>\n",
              "  <tbody>\n",
              "    <tr>\n",
              "      <th>10</th>\n",
              "      <td>Capabunga</td>\n",
              "      <td>1</td>\n",
              "      <td>5</td>\n",
              "      <td>J. Grob Associates</td>\n",
              "      <td>G5</td>\n",
              "    </tr>\n",
              "    <tr>\n",
              "      <th>18</th>\n",
              "      <td>Eric &amp; Christopher</td>\n",
              "      <td>1</td>\n",
              "      <td>9</td>\n",
              "      <td>Eric &amp; Christopher</td>\n",
              "      <td>C19</td>\n",
              "    </tr>\n",
              "    <tr>\n",
              "      <th>19</th>\n",
              "      <td>Karma Living</td>\n",
              "      <td>1</td>\n",
              "      <td>9</td>\n",
              "      <td>Karma Living</td>\n",
              "      <td>C15</td>\n",
              "    </tr>\n",
              "    <tr>\n",
              "      <th>21</th>\n",
              "      <td>Stash Style</td>\n",
              "      <td>1</td>\n",
              "      <td>10</td>\n",
              "      <td>Stash Style</td>\n",
              "      <td>E6</td>\n",
              "    </tr>\n",
              "    <tr>\n",
              "      <th>20</th>\n",
              "      <td>Sweet Gumball</td>\n",
              "      <td>1</td>\n",
              "      <td>11</td>\n",
              "      <td>Sweet Gumball</td>\n",
              "      <td>E14</td>\n",
              "    </tr>\n",
              "    <tr>\n",
              "      <th>13</th>\n",
              "      <td>Adams &amp; Co.</td>\n",
              "      <td>2</td>\n",
              "      <td>6</td>\n",
              "      <td>Adams &amp; Co.</td>\n",
              "      <td>637A</td>\n",
              "    </tr>\n",
              "    <tr>\n",
              "      <th>1</th>\n",
              "      <td>Meissenburg Designs</td>\n",
              "      <td>2</td>\n",
              "      <td>7</td>\n",
              "      <td>Meissenburg Designs</td>\n",
              "      <td>787B</td>\n",
              "    </tr>\n",
              "    <tr>\n",
              "      <th>14</th>\n",
              "      <td>Spunky Fluff</td>\n",
              "      <td>2</td>\n",
              "      <td>7</td>\n",
              "      <td>Prairie Dance / Spunky Fluff</td>\n",
              "      <td>796</td>\n",
              "    </tr>\n",
              "    <tr>\n",
              "      <th>17</th>\n",
              "      <td>Design Ideas</td>\n",
              "      <td>2</td>\n",
              "      <td>8</td>\n",
              "      <td>Design Ideas</td>\n",
              "      <td>812B</td>\n",
              "    </tr>\n",
              "    <tr>\n",
              "      <th>11</th>\n",
              "      <td>Barefoot Dreams</td>\n",
              "      <td>2</td>\n",
              "      <td>9</td>\n",
              "      <td>FIELDSTONE</td>\n",
              "      <td>912</td>\n",
              "    </tr>\n",
              "    <tr>\n",
              "      <th>12</th>\n",
              "      <td>Creative Co-Op</td>\n",
              "      <td>2</td>\n",
              "      <td>10</td>\n",
              "      <td>Creative Co-Op</td>\n",
              "      <td>1080</td>\n",
              "    </tr>\n",
              "    <tr>\n",
              "      <th>0</th>\n",
              "      <td>Ivystone</td>\n",
              "      <td>2</td>\n",
              "      <td>11</td>\n",
              "      <td>Ivystone</td>\n",
              "      <td>1101</td>\n",
              "    </tr>\n",
              "    <tr>\n",
              "      <th>6</th>\n",
              "      <td>Walton Wood Farm</td>\n",
              "      <td>2</td>\n",
              "      <td>15</td>\n",
              "      <td>Road Runners</td>\n",
              "      <td>1500</td>\n",
              "    </tr>\n",
              "    <tr>\n",
              "      <th>2</th>\n",
              "      <td>Chronicle Books</td>\n",
              "      <td>2</td>\n",
              "      <td>16</td>\n",
              "      <td>Simblist Group, The</td>\n",
              "      <td>1621</td>\n",
              "    </tr>\n",
              "    <tr>\n",
              "      <th>7</th>\n",
              "      <td>Sapling Press</td>\n",
              "      <td>2</td>\n",
              "      <td>16</td>\n",
              "      <td>daniel richards</td>\n",
              "      <td>1634</td>\n",
              "    </tr>\n",
              "    <tr>\n",
              "      <th>16</th>\n",
              "      <td>Design Ideas</td>\n",
              "      <td>2</td>\n",
              "      <td>16</td>\n",
              "      <td>Simblist Group, The</td>\n",
              "      <td>1621</td>\n",
              "    </tr>\n",
              "    <tr>\n",
              "      <th>26</th>\n",
              "      <td>Chez Gagne</td>\n",
              "      <td>2</td>\n",
              "      <td>16</td>\n",
              "      <td>daniel richards</td>\n",
              "      <td>1634</td>\n",
              "    </tr>\n",
              "    <tr>\n",
              "      <th>3</th>\n",
              "      <td>Workman Publishing</td>\n",
              "      <td>2</td>\n",
              "      <td>17</td>\n",
              "      <td>Anne McGilvray &amp; Company</td>\n",
              "      <td>1718</td>\n",
              "    </tr>\n",
              "    <tr>\n",
              "      <th>8</th>\n",
              "      <td>Knock Knock</td>\n",
              "      <td>2</td>\n",
              "      <td>17</td>\n",
              "      <td>Just Got 2 Have It!</td>\n",
              "      <td>1709</td>\n",
              "    </tr>\n",
              "    <tr>\n",
              "      <th>9</th>\n",
              "      <td>Capabunga</td>\n",
              "      <td>2</td>\n",
              "      <td>17</td>\n",
              "      <td>Dugan-Bliss &amp; Assoc.</td>\n",
              "      <td>1701</td>\n",
              "    </tr>\n",
              "    <tr>\n",
              "      <th>15</th>\n",
              "      <td>Anne McGilvray &amp; Company</td>\n",
              "      <td>2</td>\n",
              "      <td>17</td>\n",
              "      <td>Anne McGilvray &amp; Company</td>\n",
              "      <td>1718</td>\n",
              "    </tr>\n",
              "    <tr>\n",
              "      <th>27</th>\n",
              "      <td>Pretty Alright Goods</td>\n",
              "      <td>2</td>\n",
              "      <td>17</td>\n",
              "      <td>Just Got 2 Have It!</td>\n",
              "      <td>1709</td>\n",
              "    </tr>\n",
              "    <tr>\n",
              "      <th>4</th>\n",
              "      <td>Mary Square</td>\n",
              "      <td>2</td>\n",
              "      <td>18</td>\n",
              "      <td>OneCoast</td>\n",
              "      <td>1800</td>\n",
              "    </tr>\n",
              "    <tr>\n",
              "      <th>5</th>\n",
              "      <td>Ellembee Home</td>\n",
              "      <td>2</td>\n",
              "      <td>18</td>\n",
              "      <td>Darrah &amp; Co.</td>\n",
              "      <td>1813</td>\n",
              "    </tr>\n",
              "    <tr>\n",
              "      <th>22</th>\n",
              "      <td>Julio Designs</td>\n",
              "      <td>3</td>\n",
              "      <td>9</td>\n",
              "      <td>Andy Acers Co.</td>\n",
              "      <td>S115A</td>\n",
              "    </tr>\n",
              "    <tr>\n",
              "      <th>23</th>\n",
              "      <td>Joules</td>\n",
              "      <td>3</td>\n",
              "      <td>11</td>\n",
              "      <td>Guy Bailey -Those Guys</td>\n",
              "      <td>S117</td>\n",
              "    </tr>\n",
              "    <tr>\n",
              "      <th>28</th>\n",
              "      <td>Reeves &amp; Co.</td>\n",
              "      <td>3</td>\n",
              "      <td>11</td>\n",
              "      <td>Reeves &amp; Co.</td>\n",
              "      <td>E112</td>\n",
              "    </tr>\n",
              "    <tr>\n",
              "      <th>24</th>\n",
              "      <td>Joules</td>\n",
              "      <td>3</td>\n",
              "      <td>13</td>\n",
              "      <td>Brentwood Sales</td>\n",
              "      <td>E327B</td>\n",
              "    </tr>\n",
              "    <tr>\n",
              "      <th>25</th>\n",
              "      <td>Joules</td>\n",
              "      <td>3</td>\n",
              "      <td>13</td>\n",
              "      <td>Teacup Tots</td>\n",
              "      <td>W123A</td>\n",
              "    </tr>\n",
              "  </tbody>\n",
              "</table>\n",
              "</div>"
            ],
            "text/plain": [
              "                    supplier  building  ...                         booth     id\n",
              "10                 Capabunga         1  ...            J. Grob Associates     G5\n",
              "18        Eric & Christopher         1  ...            Eric & Christopher    C19\n",
              "19              Karma Living         1  ...                  Karma Living    C15\n",
              "21               Stash Style         1  ...                   Stash Style     E6\n",
              "20             Sweet Gumball         1  ...                 Sweet Gumball    E14\n",
              "13               Adams & Co.         2  ...                   Adams & Co.   637A\n",
              "1        Meissenburg Designs         2  ...           Meissenburg Designs   787B\n",
              "14              Spunky Fluff         2  ...  Prairie Dance / Spunky Fluff    796\n",
              "17              Design Ideas         2  ...                  Design Ideas   812B\n",
              "11           Barefoot Dreams         2  ...                    FIELDSTONE    912\n",
              "12            Creative Co-Op         2  ...                Creative Co-Op   1080\n",
              "0                   Ivystone         2  ...                      Ivystone   1101\n",
              "6           Walton Wood Farm         2  ...                  Road Runners   1500\n",
              "2            Chronicle Books         2  ...           Simblist Group, The   1621\n",
              "7              Sapling Press         2  ...               daniel richards   1634\n",
              "16              Design Ideas         2  ...           Simblist Group, The   1621\n",
              "26                Chez Gagne         2  ...               daniel richards   1634\n",
              "3         Workman Publishing         2  ...      Anne McGilvray & Company   1718\n",
              "8                Knock Knock         2  ...           Just Got 2 Have It!   1709\n",
              "9                  Capabunga         2  ...          Dugan-Bliss & Assoc.   1701\n",
              "15  Anne McGilvray & Company         2  ...      Anne McGilvray & Company   1718\n",
              "27      Pretty Alright Goods         2  ...           Just Got 2 Have It!   1709\n",
              "4                Mary Square         2  ...                      OneCoast   1800\n",
              "5              Ellembee Home         2  ...                  Darrah & Co.   1813\n",
              "22             Julio Designs         3  ...                Andy Acers Co.  S115A\n",
              "23                    Joules         3  ...        Guy Bailey -Those Guys   S117\n",
              "28              Reeves & Co.         3  ...                  Reeves & Co.   E112\n",
              "24                    Joules         3  ...               Brentwood Sales  E327B\n",
              "25                    Joules         3  ...                   Teacup Tots  W123A\n",
              "\n",
              "[29 rows x 5 columns]"
            ]
          },
          "metadata": {
            "tags": []
          },
          "execution_count": 28
        }
      ]
    },
    {
      "cell_type": "code",
      "metadata": {
        "id": "b4fxZCwPUY5G",
        "colab_type": "code",
        "colab": {}
      },
      "source": [
        "merge2.set_index(np.arange(0,29),inplace=True)\n",
        "# merge2.to_csv('Market_Plan.csv')"
      ],
      "execution_count": 30,
      "outputs": []
    }
  ]
}