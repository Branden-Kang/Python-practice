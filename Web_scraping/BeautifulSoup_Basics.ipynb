{
  "nbformat": 4,
  "nbformat_minor": 0,
  "metadata": {
    "colab": {
      "name": "BeautifulSoup Basics.ipynb",
      "provenance": [],
      "authorship_tag": "ABX9TyMg8mTeJJl8geBo8aDTc4lE"
    },
    "kernelspec": {
      "name": "python3",
      "display_name": "Python 3"
    },
    "language_info": {
      "name": "python"
    }
  },
  "cells": [
    {
      "cell_type": "markdown",
      "metadata": {
        "id": "TM44VF6mQ1re"
      },
      "source": [
        "[Reference](https://andrew-muller.medium.com/beautifulsoup-basics-bbb96026e1c0)"
      ]
    },
    {
      "cell_type": "code",
      "metadata": {
        "id": "PvwN3IPcQxDP"
      },
      "source": [
        "from bs4 import BeautifulSoup\n",
        "import requests"
      ],
      "execution_count": 1,
      "outputs": []
    },
    {
      "cell_type": "code",
      "metadata": {
        "id": "2R27PdsEQ4lT"
      },
      "source": [
        "url = 'https://en.wikipedia.org/wiki/Web_scraping'\n",
        "soup = BeautifulSoup(requests.get(url).text, 'html.parser')"
      ],
      "execution_count": 2,
      "outputs": []
    },
    {
      "cell_type": "code",
      "metadata": {
        "id": "iCmE3mnPQ6cF"
      },
      "source": [
        "toc = soup.find('div', {'id':'toc', 'class':'toc'})"
      ],
      "execution_count": 3,
      "outputs": []
    },
    {
      "cell_type": "code",
      "metadata": {
        "id": "HqDs5g8qQ_ll"
      },
      "source": [
        "headers = [header.get_text().split('\\n')[0] for header in toc.find_all('li')]"
      ],
      "execution_count": 4,
      "outputs": []
    },
    {
      "cell_type": "code",
      "metadata": {
        "id": "nmFqTRE_RBK1"
      },
      "source": [
        "def get_wiki_headers(title):\n",
        "    \"\"\"\n",
        "    Uses BeautifulSoup and requests to scrape a Wikipedia page via the article title and return a list of strings containing all headers and subheaders in the article.\n",
        "    \"\"\"\n",
        "    url = 'https://en.wikipedia.org/wiki/' + title.replace(' ', '_')\n",
        "    soup = BeautifulSoup(requests.get(url).text, 'html.parser')\n",
        "    toc = soup.find('div', {'id':'toc', 'class':'toc'})\n",
        "    headers = [header.get_text().split('\\n')[0] for header in toc.find_all('li')]\n",
        "    return headers"
      ],
      "execution_count": 8,
      "outputs": []
    },
    {
      "cell_type": "code",
      "metadata": {
        "colab": {
          "base_uri": "https://localhost:8080/"
        },
        "id": "KzROXPzlRECI",
        "outputId": "8dbb608f-217c-4685-92bb-458e9f5479c1"
      },
      "source": [
        "get_wiki_headers('Python (programming language)')"
      ],
      "execution_count": 9,
      "outputs": [
        {
          "output_type": "execute_result",
          "data": {
            "text/plain": [
              "['1 History',\n",
              " '2 Design philosophy and features',\n",
              " '3 Syntax and semantics',\n",
              " '3.1 Indentation',\n",
              " '3.2 Statements and control flow',\n",
              " '3.3 Expressions',\n",
              " '3.4 Methods',\n",
              " '3.5 Typing',\n",
              " '3.6 Arithmetic operations',\n",
              " '4 Programming examples',\n",
              " '5 Libraries',\n",
              " '6 Development environments',\n",
              " '7 Implementations',\n",
              " '7.1 Reference implementation',\n",
              " '7.2 Other implementations',\n",
              " '7.3 Unsupported implementations',\n",
              " '7.4 Cross-compilers to other languages',\n",
              " '7.5 Performance',\n",
              " '8 Development',\n",
              " '9 API documentation generators',\n",
              " '10 Naming',\n",
              " '11 Uses',\n",
              " '12 Languages influenced by Python',\n",
              " '13 See also',\n",
              " '14 References',\n",
              " '14.1 Sources',\n",
              " '15 Further reading',\n",
              " '16 External links']"
            ]
          },
          "metadata": {
            "tags": []
          },
          "execution_count": 9
        }
      ]
    }
  ]
}