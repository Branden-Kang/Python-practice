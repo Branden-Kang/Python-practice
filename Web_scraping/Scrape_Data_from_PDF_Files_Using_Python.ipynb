{
  "nbformat": 4,
  "nbformat_minor": 0,
  "metadata": {
    "colab": {
      "name": "Scrape Data from PDF Files Using Python.ipynb",
      "provenance": [],
      "authorship_tag": "ABX9TyOuB57XvF9tgInU7qBclyux"
    },
    "kernelspec": {
      "name": "python3",
      "display_name": "Python 3"
    },
    "language_info": {
      "name": "python"
    }
  },
  "cells": [
    {
      "cell_type": "markdown",
      "metadata": {
        "id": "SoNsSzCds0jS"
      },
      "source": [
        "[Reference](https://towardsdatascience.com/scrape-data-from-pdf-files-using-python-fe2dc96b1e68)"
      ]
    },
    {
      "cell_type": "code",
      "metadata": {
        "colab": {
          "base_uri": "https://localhost:8080/"
        },
        "id": "1inij9LxsidI",
        "outputId": "8bb254de-d4ae-4476-ef66-c0a57e4c129a"
      },
      "source": [
        "!pip install tabula-py\n",
        "!pip install pandas"
      ],
      "execution_count": 1,
      "outputs": [
        {
          "output_type": "stream",
          "text": [
            "Collecting tabula-py\n",
            "\u001b[?25l  Downloading https://files.pythonhosted.org/packages/cf/29/d6cb0d77ef46d84d35cffa09cf42c73b373aea664d28604eab6818f8a47c/tabula_py-2.2.0-py3-none-any.whl (11.7MB)\n",
            "\u001b[K     |████████████████████████████████| 11.7MB 248kB/s \n",
            "\u001b[?25hCollecting distro\n",
            "  Downloading https://files.pythonhosted.org/packages/25/b7/b3c4270a11414cb22c6352ebc7a83aaa3712043be29daa05018fd5a5c956/distro-1.5.0-py2.py3-none-any.whl\n",
            "Requirement already satisfied: pandas>=0.25.3 in /usr/local/lib/python3.7/dist-packages (from tabula-py) (1.1.5)\n",
            "Requirement already satisfied: numpy in /usr/local/lib/python3.7/dist-packages (from tabula-py) (1.19.5)\n",
            "Requirement already satisfied: pytz>=2017.2 in /usr/local/lib/python3.7/dist-packages (from pandas>=0.25.3->tabula-py) (2018.9)\n",
            "Requirement already satisfied: python-dateutil>=2.7.3 in /usr/local/lib/python3.7/dist-packages (from pandas>=0.25.3->tabula-py) (2.8.1)\n",
            "Requirement already satisfied: six>=1.5 in /usr/local/lib/python3.7/dist-packages (from python-dateutil>=2.7.3->pandas>=0.25.3->tabula-py) (1.15.0)\n",
            "Installing collected packages: distro, tabula-py\n",
            "Successfully installed distro-1.5.0 tabula-py-2.2.0\n",
            "Requirement already satisfied: pandas in /usr/local/lib/python3.7/dist-packages (1.1.5)\n",
            "Requirement already satisfied: pytz>=2017.2 in /usr/local/lib/python3.7/dist-packages (from pandas) (2018.9)\n",
            "Requirement already satisfied: numpy>=1.15.4 in /usr/local/lib/python3.7/dist-packages (from pandas) (1.19.5)\n",
            "Requirement already satisfied: python-dateutil>=2.7.3 in /usr/local/lib/python3.7/dist-packages (from pandas) (2.8.1)\n",
            "Requirement already satisfied: six>=1.5 in /usr/local/lib/python3.7/dist-packages (from python-dateutil>=2.7.3->pandas) (1.15.0)\n"
          ],
          "name": "stdout"
        }
      ]
    },
    {
      "cell_type": "code",
      "metadata": {
        "id": "x2rt0UkXs92b"
      },
      "source": [
        "import tabula as tb\n",
        "import pandas as pd\n",
        "import re"
      ],
      "execution_count": 2,
      "outputs": []
    },
    {
      "cell_type": "code",
      "metadata": {
        "id": "F-PsH-nJs_YO"
      },
      "source": [
        "file = 'state_population.pdf'\n",
        "data = tb.read_pdf(file, area = (300, 0, 600, 800), pages = '1')"
      ],
      "execution_count": 3,
      "outputs": []
    },
    {
      "cell_type": "code",
      "metadata": {
        "id": "2MmZMuzotJD6"
      },
      "source": [
        "file = 'payroll_sample.pdf'\n",
        "df= tb.read_pdf(file, pages = '1', area = (0, 0, 1000, 1000), columns = [200, 265, 300, 320], pandas_options={'header': None}, stream=True)[0]"
      ],
      "execution_count": 4,
      "outputs": []
    },
    {
      "cell_type": "code",
      "metadata": {
        "id": "Okm3kC5PtTaB"
      },
      "source": [
        "df['border'] = df.apply(lambda x: 1 if re.findall('^[A-Z].*[a-z]$', str(x[0])) else 0, axis = 1)\n",
        "df['row'] = df['border'].transform('cumsum')"
      ],
      "execution_count": 5,
      "outputs": []
    },
    {
      "cell_type": "code",
      "metadata": {
        "id": "IxYHWEiUtW46"
      },
      "source": [
        "# reshape left section\n",
        "employee = df[[0, 'row']]\n",
        "employee = employee[employee[0].notnull()]\n",
        "employee['index'] = employee.groupby('row').cumcount()+1\n",
        "employee = employee.pivot(index = ['row'], columns = ['index'], values = 0).reset_index()\n",
        "employee = employee.rename(columns = {1: 'employee_name', 2: 'net_amount', 3: 'pay_date', 4: 'pay_period'})\n",
        "employee['net_amount'] = employee.apply(lambda x: x['net_amount'].replace('Net', '').strip(), axis = 1)# reshape right section\n",
        "payment = df[[1, 2, 3, 4, 'row']]\n",
        "payment = payment[payment[1].notnull()]\n",
        "payment = payment[payment['row']!=0]\n",
        "payment = payment.pivot(index = ['row'], columns = 1, values = [2, 3, 4]).reset_index()\n",
        "payment.columns = [str(col[0])+col[1] for col in payment.columns.values]\n",
        "for i in ['Regular', 'OT']:\n",
        "    payment = payment.rename(columns = {f'2{i}': f'{i}_Rate', f'3{i}': f'{i}_Hours', f'4{i}': f'{i}_Amt'})"
      ],
      "execution_count": 6,
      "outputs": []
    },
    {
      "cell_type": "code",
      "metadata": {
        "id": "p3BpWWqptZ0y"
      },
      "source": [
        "df_clean = employee.merge(payment, on = ['row'], how = 'inner')"
      ],
      "execution_count": 7,
      "outputs": []
    }
  ]
}