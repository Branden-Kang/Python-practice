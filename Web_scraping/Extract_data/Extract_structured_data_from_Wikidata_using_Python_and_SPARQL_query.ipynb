{
  "nbformat": 4,
  "nbformat_minor": 0,
  "metadata": {
    "colab": {
      "name": "Extract structured data from Wikidata using Python and SPARQL query.ipynb",
      "provenance": [],
      "authorship_tag": "ABX9TyObO41QYTRLo5rCo+d4rLo8"
    },
    "kernelspec": {
      "name": "python3",
      "display_name": "Python 3"
    },
    "language_info": {
      "name": "python"
    }
  },
  "cells": [
    {
      "cell_type": "markdown",
      "metadata": {
        "id": "FccB6AsGvL1I"
      },
      "source": [
        "[Reference](https://max-coding.medium.com/extract-structured-data-from-wikidata-using-python-and-sparql-query-987c3bff97be)"
      ]
    },
    {
      "cell_type": "markdown",
      "metadata": {
        "id": "QApR84INvXMu"
      },
      "source": [
        "https://query.wikidata.org/#SELECT%20DISTINCT%20%3FcityLabel%20%3Fpopulation%20%3Fgps%0AWHERE%0A%7B%0A%20%20%3Fcity%20wdt%3AP31%2Fwdt%3AP279%2a%20wd%3AQ515%20.%0A%20%20%3Fcity%20wdt%3AP1082%20%3Fpopulation%20.%0A%20%20%3Fcity%20wdt%3AP625%20%3Fgps%20.%0A%20%20SERVICE%20wikibase%3Alabel%20%7B%0A%20%20%20%20bd%3AserviceParam%20wikibase%3Alanguage%20%22en%22%20.%0A%20%20%7D%0A%7D%0AORDER%20BY%20DESC%28%3Fpopulation%29%20LIMIT%20100"
      ]
    },
    {
      "cell_type": "code",
      "metadata": {
        "colab": {
          "base_uri": "https://localhost:8080/"
        },
        "id": "EFqv94pwvKtW",
        "outputId": "d63c007f-6f44-4d4e-d5c6-a2306abd2dfd"
      },
      "source": [
        "!pip install mkwikidata"
      ],
      "execution_count": 1,
      "outputs": [
        {
          "output_type": "stream",
          "name": "stdout",
          "text": [
            "Collecting mkwikidata\n",
            "  Downloading mkwikidata-0.14-py2.py3-none-any.whl (3.0 kB)\n",
            "Collecting requests>=2.25.1\n",
            "  Downloading requests-2.26.0-py2.py3-none-any.whl (62 kB)\n",
            "\u001b[K     |████████████████████████████████| 62 kB 723 kB/s \n",
            "\u001b[?25hRequirement already satisfied: certifi>=2017.4.17 in /usr/local/lib/python3.7/dist-packages (from requests>=2.25.1->mkwikidata) (2021.5.30)\n",
            "Requirement already satisfied: urllib3<1.27,>=1.21.1 in /usr/local/lib/python3.7/dist-packages (from requests>=2.25.1->mkwikidata) (1.24.3)\n",
            "Requirement already satisfied: idna<4,>=2.5 in /usr/local/lib/python3.7/dist-packages (from requests>=2.25.1->mkwikidata) (2.10)\n",
            "Requirement already satisfied: charset-normalizer~=2.0.0 in /usr/local/lib/python3.7/dist-packages (from requests>=2.25.1->mkwikidata) (2.0.6)\n",
            "Installing collected packages: requests, mkwikidata\n",
            "  Attempting uninstall: requests\n",
            "    Found existing installation: requests 2.23.0\n",
            "    Uninstalling requests-2.23.0:\n",
            "      Successfully uninstalled requests-2.23.0\n",
            "\u001b[31mERROR: pip's dependency resolver does not currently take into account all the packages that are installed. This behaviour is the source of the following dependency conflicts.\n",
            "google-colab 1.0.0 requires requests~=2.23.0, but you have requests 2.26.0 which is incompatible.\n",
            "datascience 0.10.6 requires folium==0.2.1, but you have folium 0.8.3 which is incompatible.\u001b[0m\n",
            "Successfully installed mkwikidata-0.14 requests-2.26.0\n"
          ]
        }
      ]
    },
    {
      "cell_type": "code",
      "metadata": {
        "id": "7P5n0_zivewc"
      },
      "source": [
        "import mkwikidata\n",
        "query = \"\"\"\n",
        "SELECT DISTINCT ?cityLabel ?population ?gps\n",
        "WHERE\n",
        "{\n",
        "  ?city wdt:P31/wdt:P279* wd:Q515 .\n",
        "  ?city wdt:P1082 ?population .\n",
        "  ?city wdt:P625 ?gps .\n",
        "  SERVICE wikibase:label {\n",
        "    bd:serviceParam wikibase:language \"en\" .\n",
        "  }\n",
        "}\n",
        "ORDER BY DESC(?population) LIMIT 100\n",
        "\"\"\"\n",
        "query_result = mkwikidata.run_query(query, params={ })"
      ],
      "execution_count": 2,
      "outputs": []
    },
    {
      "cell_type": "code",
      "metadata": {
        "id": "XifRbZP1vgwp"
      },
      "source": [
        "data = [{\"name\" : x[\"cityLabel\"][\"value\"], \"population\" : int(x[\"population\"][\"value\"])} for x in query_result[\"results\"][\"bindings\"]]"
      ],
      "execution_count": 3,
      "outputs": []
    },
    {
      "cell_type": "code",
      "metadata": {
        "colab": {
          "base_uri": "https://localhost:8080/",
          "height": 278
        },
        "id": "SdVxGYx_vimo",
        "outputId": "24aa54d8-5c10-4ce0-a359-b699a4341d42"
      },
      "source": [
        "import pandas as pd\n",
        "pd.DataFrame(data).set_index(\"name\").head(10).plot.barh().invert_yaxis()"
      ],
      "execution_count": 4,
      "outputs": [
        {
          "output_type": "display_data",
          "data": {
            "image/png": "[encoded data removed]",
            "text/plain": [
              "<Figure size 432x288 with 1 Axes>"
            ]
          },
          "metadata": {
            "needs_background": "light"
          }
        }
      ]
    }
  ]
}