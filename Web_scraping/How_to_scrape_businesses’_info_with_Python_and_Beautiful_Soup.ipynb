{
  "nbformat": 4,
  "nbformat_minor": 0,
  "metadata": {
    "colab": {
      "name": "How to scrape businesses’ info with Python and Beautiful Soup.ipynb",
      "provenance": [],
      "authorship_tag": "ABX9TyNTqVlC3kSumlDabDITWbLs"
    },
    "kernelspec": {
      "name": "python3",
      "display_name": "Python 3"
    }
  },
  "cells": [
    {
      "cell_type": "markdown",
      "metadata": {
        "id": "I1zK1DFSUnzV",
        "colab_type": "text"
      },
      "source": [
        "[Reference](https://medium.com/better-programming/the-22-most-used-python-packages-in-the-world-7020a904b2e)"
      ]
    },
    {
      "cell_type": "code",
      "metadata": {
        "id": "lQYiMWqGDGuW",
        "colab_type": "code",
        "colab": {}
      },
      "source": [
        "from bs4 import BeautifulSoup\n",
        "import urllib\n",
        "import json"
      ],
      "execution_count": 16,
      "outputs": []
    },
    {
      "cell_type": "code",
      "metadata": {
        "id": "BX3uYM4jDN-p",
        "colab_type": "code",
        "colab": {}
      },
      "source": [
        "r = urllib.request.urlopen('https://www.coffeeshopdirect.com/Map.html').read()\n",
        "soup = BeautifulSoup(r, 'html.parser')"
      ],
      "execution_count": 32,
      "outputs": []
    },
    {
      "cell_type": "code",
      "metadata": {
        "id": "R-bc-KiSE8-v",
        "colab_type": "code",
        "colab": {
          "base_uri": "https://localhost:8080/",
          "height": 1000
        },
        "outputId": "faf2e5de-d693-43e6-c374-7d4971b54875"
      },
      "source": [
        "# Grab all the links\n",
        "coffeeshops = []\n",
        "for link in soup.find_all('area'):\n",
        "  coffeeshop = {}\n",
        "  coffeeshop['full_link'] = 'https://www.coffeeshopdirect.com/' + link.get('href')\n",
        "  coffeeshop_site = urllib.request.urlopen(coffeeshop['full_link']).read()\n",
        "  coffeeshop_soup = BeautifulSoup(coffeeshop_site, 'html.parser')\n",
        "  \n",
        "  title_elm = coffeeshop_soup.select('title')\n",
        "  if title_elm is not None and len(title_elm) > 0:\n",
        "    coffeeshop['title'] = coffeeshop_soup.select('title')[0].get_text()\n",
        "  \n",
        "  coffeeshops.append(coffeeshop)\n",
        "  print(coffeeshop)"
      ],
      "execution_count": 54,
      "outputs": [
        {
          "output_type": "stream",
          "text": [
            "{'full_link': 'https://www.coffeeshopdirect.com/Softland.html', 'title': 'Softland 1 - Amsterdam Coffeeshop Directory'}\n",
            "{'full_link': 'https://www.coffeeshopdirect.com/Flower.html', 'title': 'Flower Power - Amsterdam Coffeeshop Directory'}\n",
            "{'full_link': 'https://www.coffeeshopdirect.com/Sanementeren.html', 'title': 'Mr K & Co - Amsterdam Coffeeshop Directory'}\n",
            "{'full_link': 'https://www.coffeeshopdirect.com/Johnny.html', 'title': 'Johnny - Amsterdam Coffeeshop Directory'}\n",
            "{'full_link': 'https://www.coffeeshopdirect.com/PinkFloyd.html', 'title': 'CoffeeshopAmsterdam - Amsterdam Coffeeshop Directory'}\n",
            "{'full_link': 'https://www.coffeeshopdirect.com/Picasso.html', 'title': 'Amsterdamned - Amsterdam Coffeeshop Directory'}\n",
            "{'full_link': 'https://www.coffeeshopdirect.com/Doors.html', 'title': 'The Store - Amsterdam Coffeeshop Directory'}\n",
            "{'full_link': 'https://www.coffeeshopdirect.com/BulldogRock.html', 'title': 'The Bulldog Rockshop - Amsterdam Coffeeshop Directory'}\n",
            "{'full_link': 'https://www.coffeeshopdirect.com/Siberie.html', 'title': 'Siberie - Amsterdam Coffeeshop Directory'}\n",
            "{'full_link': 'https://www.coffeeshopdirect.com/PrixDAmi.html', 'title': \"Prix d'Ami - Amsterdam Coffeeshop Directory\"}\n",
            "{'full_link': 'https://www.coffeeshopdirect.com/Central.html', 'title': 'Central - Amsterdam Coffeeshop Directory'}\n",
            "{'full_link': 'https://www.coffeeshopdirect.com/Kuil.html', 'title': '420 Cafe - Amsterdam Coffeeshop Directory'}\n",
            "{'full_link': 'https://www.coffeeshopdirect.com/Bulldog.html', 'title': 'The Bulldog No. 90 - Amsterdam Coffeeshop Directory'}\n",
            "{'full_link': 'https://www.coffeeshopdirect.com/Kadinsky2.html', 'title': 'Kadinsky 2 - Amsterdam Coffeeshop Directory'}\n",
            "{'full_link': 'https://www.coffeeshopdirect.com/Paradox.html', 'title': 'Paradox - Amsterdam Coffeeshop Directory'}\n",
            "{'full_link': 'https://www.coffeeshopdirect.com/Grey.html', 'title': 'Grey Area - Amsterdam Coffeeshop Directory'}\n",
            "{'full_link': 'https://www.coffeeshopdirect.com/AbraxasCS.html', 'title': 'Abraxas - Amsterdam Coffeeshop Directory'}\n",
            "{'full_link': 'https://www.coffeeshopdirect.com/WildStyle.html', 'title': \"Rick's Coffeeshop - Amsterdam Coffeeshop Directory\"}\n",
            "{'full_link': 'https://www.coffeeshopdirect.com/GreenHouseC.html', 'title': 'Greenhouse Centrum - Amsterdam Coffeeshop Directory'}\n",
            "{'full_link': 'https://www.coffeeshopdirect.com/CityHall.html', 'title': 'City Hall - Amsterdam Coffeeshop Directory'}\n",
            "{'full_link': 'https://www.coffeeshopdirect.com/Kadinsky.html', 'title': 'Kadinsky - Amsterdam Coffeeshop Directory'}\n",
            "{'full_link': 'https://www.coffeeshopdirect.com/Tertulia.html', 'title': 'La Tertulia - Amsterdam Coffeeshop Directory'}\n",
            "{'full_link': 'https://www.coffeeshopdirect.com/TweedeKamer.html', 'title': 'Tweede Kamer - Amsterdam Coffeeshop Directory'}\n",
            "{'full_link': 'https://www.coffeeshopdirect.com/DutchFlowers.html', 'title': '420 Coffeeshop - Amsterdam Coffeeshop Directory'}\n",
            "{'full_link': 'https://www.coffeeshopdirect.com/Kadinsky3.html', 'title': 'Kadinsky 3 - Amsterdam Coffeeshop Directory'}\n",
            "{'full_link': 'https://www.coffeeshopdirect.com/Rusland.html', 'title': 'Rusland - Amsterdam Coffeeshop Directory'}\n",
            "{'full_link': 'https://www.coffeeshopdirect.com/Bagheera.html', 'title': 'Bagheera - Amsterdam Coffeeshop Directory'}\n",
            "{'full_link': 'https://www.coffeeshopdirect.com/BlueBird.html', 'title': 'Bluebird - Amsterdam Coffeeshop Directory'}\n",
            "{'full_link': 'https://www.coffeeshopdirect.com/Dampkring.html', 'title': 'De Dampkring - Amsterdam Coffeeshop Directory'}\n",
            "{'full_link': 'https://www.coffeeshopdirect.com/Rokerij3.html', 'title': 'Old Church 2 - Amsterdam Coffeeshop Directory'}\n",
            "{'full_link': 'https://www.coffeeshopdirect.com/GreenHouseN.html', 'title': 'Greenhouse Namaste - Amsterdam Coffeeshop Directory'}\n",
            "{'full_link': 'https://www.coffeeshopdirect.com/OverkantH.html', 'title': 'De Overkant Hortus - Amsterdam Coffeeshop Directory'}\n",
            "{'full_link': 'https://www.coffeeshopdirect.com/Ballonnetje.html', 'title': 'Het Ballonnetje - Amsterdam Coffeeshop Directory'}\n",
            "{'full_link': 'https://www.coffeeshopdirect.com/Saint.html', 'title': 'The Saint - Amsterdam Coffeeshop Directory'}\n",
            "{'full_link': 'https://www.coffeeshopdirect.com/Bushdocter.html', 'title': 'The Bushdocter - Amsterdam Coffeeshop Directory'}\n",
            "{'full_link': 'https://www.coffeeshopdirect.com/Dolphin.html', 'title': 'The Dolphins - Amsterdam Coffeeshop Directory'}\n",
            "{'full_link': 'https://www.coffeeshopdirect.com/HappyFeeling.html', 'title': 'Happy Feelings - Amsterdam Coffeeshop Directory'}\n",
            "{'full_link': 'https://www.coffeeshopdirect.com/Keteltje.html', 'title': \"'t Keteltje - Amsterdam Coffeeshop Directory\"}\n",
            "{'full_link': 'https://www.coffeeshopdirect.com/Bronx.html', 'title': 'Bronx - Amsterdam Coffeeshop Directory'}\n",
            "{'full_link': 'https://www.coffeeshopdirect.com/Spirit.html', 'title': 'Spirit - Amsterdam Coffeeshop Directory'}\n",
            "{'full_link': 'https://www.coffeeshopdirect.com/BlackStar.html', 'title': 'Black Star - Amsterdam Coffeeshop Directory'}\n",
            "{'full_link': 'https://www.coffeeshopdirect.com/Rockland.html', 'title': 'Rockland - Amsterdam Coffeeshop Directory'}\n",
            "{'full_link': 'https://www.coffeeshopdirect.com/BulldogPal.html', 'title': 'The Bulldog Palace - Amsterdam Coffeeshop Directory'}\n",
            "{'full_link': 'https://www.coffeeshopdirect.com/Rookies.html', 'title': 'The Rookies - Amsterdam Coffeeshop Directory'}\n",
            "{'full_link': 'https://www.coffeeshopdirect.com/Noon.html', 'title': 'Noon - Amsterdam Coffeeshop Directory'}\n",
            "{'full_link': 'https://www.coffeeshopdirect.com/Amnesia.html', 'title': 'Amnesia - Amsterdam Coffeeshop Directory'}\n",
            "{'full_link': 'https://www.coffeeshopdirect.com/Barney.html', 'title': \"Barney's Coffeeshop - Amsterdam Coffeeshop Directory\"}\n",
            "{'full_link': 'https://www.coffeeshopdirect.com/BlueVelvet.html', 'title': 'Greenhouse Lounge - Amsterdam Coffeeshop Directory'}\n",
            "{'full_link': 'https://www.coffeeshopdirect.com/Popeye.html', 'title': 'Popeye - Amsterdam Coffeeshop Directory'}\n",
            "{'full_link': 'https://www.coffeeshopdirect.com/Extreme.html', 'title': 'Best Friends II - Amsterdam Coffeeshop Directory'}\n",
            "{'full_link': 'https://www.coffeeshopdirect.com/Otherside.html', 'title': 'The Otherside - Amsterdam Coffeeshop Directory'}\n",
            "{'full_link': 'https://www.coffeeshopdirect.com/BettyToo.html', 'title': 'Betty Boop - Amsterdam Coffeeshop Directory'}\n",
            "{'full_link': 'https://www.coffeeshopdirect.com/FreeI.html', 'title': 'Free I - Amsterdam Coffeeshop Directory'}\n",
            "{'full_link': 'https://www.coffeeshopdirect.com/EasyTimes.html', 'title': 'Easy Times - Amsterdam Coffeeshop Directory'}\n",
            "{'full_link': 'https://www.coffeeshopdirect.com/Tops.html', 'title': 'Superskunk / Tops - Amsterdam Coffeeshop Directory'}\n",
            "{'full_link': 'https://www.coffeeshopdirect.com/GetDown.html', 'title': 'Get Down To It - Amsterdam Coffeeshop Directory'}\n",
            "{'full_link': 'https://www.coffeeshopdirect.com/Sevilla.html', 'title': \"Hunter's Rembrandtsquare - Amsterdam Coffeeshop Directory\"}\n",
            "{'full_link': 'https://www.coffeeshopdirect.com/Bushdocter2.html', 'title': 'Family First - Amsterdam Coffeeshop Directory'}\n",
            "{'full_link': 'https://www.coffeeshopdirect.com/Andalucia.html', 'title': 'Andalucia - Amsterdam Coffeeshop Directory'}\n",
            "{'full_link': 'https://www.coffeeshopdirect.com/Balou.html', 'title': 'Balou - Amsterdam Coffeeshop Directory'}\n",
            "{'full_link': 'https://www.coffeeshopdirect.com/Stix.html', 'title': 'Boerejongens Centre - Amsterdam Coffeeshop Directory'}\n",
            "{'full_link': 'https://www.coffeeshopdirect.com/Barney3.html', 'title': \"Barney's Lounge - Amsterdam Coffeeshop Directory\"}\n",
            "{'full_link': 'https://www.coffeeshopdirect.com/OldAms.html', 'title': 'Kooi - Amsterdam Coffeeshop Directory'}\n",
            "{'full_link': 'https://www.coffeeshopdirect.com/SmokeyR.html', 'title': 'Smokey - Amsterdam Coffeeshop Directory'}\n",
            "{'full_link': 'https://www.coffeeshopdirect.com/Reefer.html', 'title': 'Reefer - Amsterdam Coffeeshop Directory'}\n",
            "{'full_link': 'https://www.coffeeshopdirect.com/Basjoe.html', 'title': 'Basjoe - Amsterdam Coffeeshop Directory'}\n",
            "{'full_link': 'https://www.coffeeshopdirect.com/Stix2.html', 'title': 'Solo - Amsterdam Coffeeshop Directory'}\n",
            "{'full_link': 'https://www.coffeeshopdirect.com/Crush.html', 'title': 'Crush - Amsterdam Coffeeshop Directory'}\n",
            "{'full_link': 'https://www.coffeeshopdirect.com/GreenPlace.html', 'title': 'Green Place - Amsterdam Coffeeshop Directory'}\n",
            "{'full_link': 'https://www.coffeeshopdirect.com/Voyagers.html', 'title': 'Voyagers - Amsterdam Coffeeshop Directory'}\n",
            "{'full_link': 'https://www.coffeeshopdirect.com/Resin.html', 'title': 'Resin - Amsterdam Coffeeshop Directory'}\n",
            "{'full_link': 'https://www.coffeeshopdirect.com/Kroon.html', 'title': 'De Kroon - Amsterdam Coffeeshop Directory'}\n",
            "{'full_link': 'https://www.coffeeshopdirect.com/ElGuapo.html', 'title': 'El Guapo - Amsterdam Coffeeshop Directory'}\n",
            "{'full_link': 'https://www.coffeeshopdirect.com/Utopia.html', 'title': 'The Plug Utopia - Amsterdam Coffeeshop Directory'}\n",
            "{'full_link': 'https://www.coffeeshopdirect.com/Barraka.html', 'title': 'Barraka - Amsterdam Coffeeshop Directory'}\n",
            "{'full_link': 'https://www.coffeeshopdirect.com/Jolly.html', 'title': 'The Jolly Joker - Amsterdam Coffeeshop Directory'}\n",
            "{'full_link': 'https://www.coffeeshopdirect.com/RockIt.html', 'title': 'Rock-It - Amsterdam Coffeeshop Directory'}\n",
            "{'full_link': 'https://www.coffeeshopdirect.com/HillStreetMa.html', 'title': 'The Greenhouse Effect - Amsterdam Coffeeshop Directory'}\n",
            "{'full_link': 'https://www.coffeeshopdirect.com/Goa.html', 'title': 'Goa - Amsterdam Coffeeshop Directory'}\n",
            "{'full_link': 'https://www.coffeeshopdirect.com/Gelderse.html', 'title': 'Het Gelderse - Amsterdam Coffeeshop Directory'}\n",
            "{'full_link': 'https://www.coffeeshopdirect.com/Feels.html', 'title': 'Feels Good - Amsterdam Coffeeshop Directory'}\n",
            "{'full_link': 'https://www.coffeeshopdirect.com/KingstoneAms.html', 'title': 'Babylon - Amsterdam Coffeeshop Directory'}\n",
            "{'full_link': 'https://www.coffeeshopdirect.com/Monaco.html', 'title': 'Sativa - Amsterdam Coffeeshop Directory'}\n",
            "{'full_link': 'https://www.coffeeshopdirect.com/MandM.html', 'title': 'New Times - Amsterdam Coffeeshop Directory'}\n",
            "{'full_link': 'https://www.coffeeshopdirect.com/Mediterrane.html', 'title': 'Mediterrane - Amsterdam Coffeeshop Directory'}\n",
            "{'full_link': 'https://www.coffeeshopdirect.com/BulldogEnerg.html', 'title': 'The Bulldog Energy - Amsterdam Coffeeshop Directory'}\n",
            "{'full_link': 'https://www.coffeeshopdirect.com/Map.html', 'title': 'Map of Open Amsterdam Coffeeshops 2020 - ACD'}\n",
            "{'full_link': 'https://www.coffeeshopdirect.com/MapPijp.html', 'title': 'Pijp District map - Amsterdam Coffeeshop Directory'}\n",
            "{'full_link': 'https://www.coffeeshopdirect.com/MapFredHendrik.html', 'title': 'Frederik Hendrikbuurt District map - Amsterdam Coffeeshop Directory'}\n",
            "{'full_link': 'https://www.coffeeshopdirect.com/MapOost.html', 'title': 'Oost District map - Amsterdam Coffeeshop Directory'}\n",
            "{'full_link': 'https://www.coffeeshopdirect.com/MapZeeburg.html', 'title': 'Zeeburg District map - Amsterdam Coffeeshop Directory'}\n",
            "{'full_link': 'https://www.coffeeshopdirect.com/MapHaarStaat.html', 'title': 'Haarlemmerbuurt/Staatsliedenbuurt District map - Amsterdam Coffeeshop Directory'}\n",
            "{'full_link': 'https://www.coffeeshopdirect.com/MapBaarsjes.html', 'title': 'Baarsjes District map - Amsterdam Coffeeshop Directory'}\n"
          ],
          "name": "stdout"
        }
      ]
    },
    {
      "cell_type": "code",
      "metadata": {
        "id": "Or18C5sIEus9",
        "colab_type": "code",
        "colab": {
          "base_uri": "https://localhost:8080/",
          "height": 54
        },
        "outputId": "6e0820a5-8f91-4a9a-c270-2e513ba13283"
      },
      "source": [
        "print(coffeeshops)"
      ],
      "execution_count": 56,
      "outputs": [
        {
          "output_type": "stream",
          "text": [
            "[{'full_link': 'https://www.coffeeshopdirect.com/Softland.html', 'title': 'Softland 1 - Amsterdam Coffeeshop Directory'}, {'full_link': 'https://www.coffeeshopdirect.com/Flower.html', 'title': 'Flower Power - Amsterdam Coffeeshop Directory'}, {'full_link': 'https://www.coffeeshopdirect.com/Sanementeren.html', 'title': 'Mr K & Co - Amsterdam Coffeeshop Directory'}, {'full_link': 'https://www.coffeeshopdirect.com/Johnny.html', 'title': 'Johnny - Amsterdam Coffeeshop Directory'}, {'full_link': 'https://www.coffeeshopdirect.com/PinkFloyd.html', 'title': 'CoffeeshopAmsterdam - Amsterdam Coffeeshop Directory'}, {'full_link': 'https://www.coffeeshopdirect.com/Picasso.html', 'title': 'Amsterdamned - Amsterdam Coffeeshop Directory'}, {'full_link': 'https://www.coffeeshopdirect.com/Doors.html', 'title': 'The Store - Amsterdam Coffeeshop Directory'}, {'full_link': 'https://www.coffeeshopdirect.com/BulldogRock.html', 'title': 'The Bulldog Rockshop - Amsterdam Coffeeshop Directory'}, {'full_link': 'https://www.coffeeshopdirect.com/Siberie.html', 'title': 'Siberie - Amsterdam Coffeeshop Directory'}, {'full_link': 'https://www.coffeeshopdirect.com/PrixDAmi.html', 'title': \"Prix d'Ami - Amsterdam Coffeeshop Directory\"}, {'full_link': 'https://www.coffeeshopdirect.com/Central.html', 'title': 'Central - Amsterdam Coffeeshop Directory'}, {'full_link': 'https://www.coffeeshopdirect.com/Kuil.html', 'title': '420 Cafe - Amsterdam Coffeeshop Directory'}, {'full_link': 'https://www.coffeeshopdirect.com/Bulldog.html', 'title': 'The Bulldog No. 90 - Amsterdam Coffeeshop Directory'}, {'full_link': 'https://www.coffeeshopdirect.com/Kadinsky2.html', 'title': 'Kadinsky 2 - Amsterdam Coffeeshop Directory'}, {'full_link': 'https://www.coffeeshopdirect.com/Paradox.html', 'title': 'Paradox - Amsterdam Coffeeshop Directory'}, {'full_link': 'https://www.coffeeshopdirect.com/Grey.html', 'title': 'Grey Area - Amsterdam Coffeeshop Directory'}, {'full_link': 'https://www.coffeeshopdirect.com/AbraxasCS.html', 'title': 'Abraxas - Amsterdam Coffeeshop Directory'}, {'full_link': 'https://www.coffeeshopdirect.com/WildStyle.html', 'title': \"Rick's Coffeeshop - Amsterdam Coffeeshop Directory\"}, {'full_link': 'https://www.coffeeshopdirect.com/GreenHouseC.html', 'title': 'Greenhouse Centrum - Amsterdam Coffeeshop Directory'}, {'full_link': 'https://www.coffeeshopdirect.com/CityHall.html', 'title': 'City Hall - Amsterdam Coffeeshop Directory'}, {'full_link': 'https://www.coffeeshopdirect.com/Kadinsky.html', 'title': 'Kadinsky - Amsterdam Coffeeshop Directory'}, {'full_link': 'https://www.coffeeshopdirect.com/Tertulia.html', 'title': 'La Tertulia - Amsterdam Coffeeshop Directory'}, {'full_link': 'https://www.coffeeshopdirect.com/TweedeKamer.html', 'title': 'Tweede Kamer - Amsterdam Coffeeshop Directory'}, {'full_link': 'https://www.coffeeshopdirect.com/DutchFlowers.html', 'title': '420 Coffeeshop - Amsterdam Coffeeshop Directory'}, {'full_link': 'https://www.coffeeshopdirect.com/Kadinsky3.html', 'title': 'Kadinsky 3 - Amsterdam Coffeeshop Directory'}, {'full_link': 'https://www.coffeeshopdirect.com/Rusland.html', 'title': 'Rusland - Amsterdam Coffeeshop Directory'}, {'full_link': 'https://www.coffeeshopdirect.com/Bagheera.html', 'title': 'Bagheera - Amsterdam Coffeeshop Directory'}, {'full_link': 'https://www.coffeeshopdirect.com/BlueBird.html', 'title': 'Bluebird - Amsterdam Coffeeshop Directory'}, {'full_link': 'https://www.coffeeshopdirect.com/Dampkring.html', 'title': 'De Dampkring - Amsterdam Coffeeshop Directory'}, {'full_link': 'https://www.coffeeshopdirect.com/Rokerij3.html', 'title': 'Old Church 2 - Amsterdam Coffeeshop Directory'}, {'full_link': 'https://www.coffeeshopdirect.com/GreenHouseN.html', 'title': 'Greenhouse Namaste - Amsterdam Coffeeshop Directory'}, {'full_link': 'https://www.coffeeshopdirect.com/OverkantH.html', 'title': 'De Overkant Hortus - Amsterdam Coffeeshop Directory'}, {'full_link': 'https://www.coffeeshopdirect.com/Ballonnetje.html', 'title': 'Het Ballonnetje - Amsterdam Coffeeshop Directory'}, {'full_link': 'https://www.coffeeshopdirect.com/Saint.html', 'title': 'The Saint - Amsterdam Coffeeshop Directory'}, {'full_link': 'https://www.coffeeshopdirect.com/Bushdocter.html', 'title': 'The Bushdocter - Amsterdam Coffeeshop Directory'}, {'full_link': 'https://www.coffeeshopdirect.com/Dolphin.html', 'title': 'The Dolphins - Amsterdam Coffeeshop Directory'}, {'full_link': 'https://www.coffeeshopdirect.com/HappyFeeling.html', 'title': 'Happy Feelings - Amsterdam Coffeeshop Directory'}, {'full_link': 'https://www.coffeeshopdirect.com/Keteltje.html', 'title': \"'t Keteltje - Amsterdam Coffeeshop Directory\"}, {'full_link': 'https://www.coffeeshopdirect.com/Bronx.html', 'title': 'Bronx - Amsterdam Coffeeshop Directory'}, {'full_link': 'https://www.coffeeshopdirect.com/Spirit.html', 'title': 'Spirit - Amsterdam Coffeeshop Directory'}, {'full_link': 'https://www.coffeeshopdirect.com/BlackStar.html', 'title': 'Black Star - Amsterdam Coffeeshop Directory'}, {'full_link': 'https://www.coffeeshopdirect.com/Rockland.html', 'title': 'Rockland - Amsterdam Coffeeshop Directory'}, {'full_link': 'https://www.coffeeshopdirect.com/BulldogPal.html', 'title': 'The Bulldog Palace - Amsterdam Coffeeshop Directory'}, {'full_link': 'https://www.coffeeshopdirect.com/Rookies.html', 'title': 'The Rookies - Amsterdam Coffeeshop Directory'}, {'full_link': 'https://www.coffeeshopdirect.com/Noon.html', 'title': 'Noon - Amsterdam Coffeeshop Directory'}, {'full_link': 'https://www.coffeeshopdirect.com/Amnesia.html', 'title': 'Amnesia - Amsterdam Coffeeshop Directory'}, {'full_link': 'https://www.coffeeshopdirect.com/Barney.html', 'title': \"Barney's Coffeeshop - Amsterdam Coffeeshop Directory\"}, {'full_link': 'https://www.coffeeshopdirect.com/BlueVelvet.html', 'title': 'Greenhouse Lounge - Amsterdam Coffeeshop Directory'}, {'full_link': 'https://www.coffeeshopdirect.com/Popeye.html', 'title': 'Popeye - Amsterdam Coffeeshop Directory'}, {'full_link': 'https://www.coffeeshopdirect.com/Extreme.html', 'title': 'Best Friends II - Amsterdam Coffeeshop Directory'}, {'full_link': 'https://www.coffeeshopdirect.com/Otherside.html', 'title': 'The Otherside - Amsterdam Coffeeshop Directory'}, {'full_link': 'https://www.coffeeshopdirect.com/BettyToo.html', 'title': 'Betty Boop - Amsterdam Coffeeshop Directory'}, {'full_link': 'https://www.coffeeshopdirect.com/FreeI.html', 'title': 'Free I - Amsterdam Coffeeshop Directory'}, {'full_link': 'https://www.coffeeshopdirect.com/EasyTimes.html', 'title': 'Easy Times - Amsterdam Coffeeshop Directory'}, {'full_link': 'https://www.coffeeshopdirect.com/Tops.html', 'title': 'Superskunk / Tops - Amsterdam Coffeeshop Directory'}, {'full_link': 'https://www.coffeeshopdirect.com/GetDown.html', 'title': 'Get Down To It - Amsterdam Coffeeshop Directory'}, {'full_link': 'https://www.coffeeshopdirect.com/Sevilla.html', 'title': \"Hunter's Rembrandtsquare - Amsterdam Coffeeshop Directory\"}, {'full_link': 'https://www.coffeeshopdirect.com/Bushdocter2.html', 'title': 'Family First - Amsterdam Coffeeshop Directory'}, {'full_link': 'https://www.coffeeshopdirect.com/Andalucia.html', 'title': 'Andalucia - Amsterdam Coffeeshop Directory'}, {'full_link': 'https://www.coffeeshopdirect.com/Balou.html', 'title': 'Balou - Amsterdam Coffeeshop Directory'}, {'full_link': 'https://www.coffeeshopdirect.com/Stix.html', 'title': 'Boerejongens Centre - Amsterdam Coffeeshop Directory'}, {'full_link': 'https://www.coffeeshopdirect.com/Barney3.html', 'title': \"Barney's Lounge - Amsterdam Coffeeshop Directory\"}, {'full_link': 'https://www.coffeeshopdirect.com/OldAms.html', 'title': 'Kooi - Amsterdam Coffeeshop Directory'}, {'full_link': 'https://www.coffeeshopdirect.com/SmokeyR.html', 'title': 'Smokey - Amsterdam Coffeeshop Directory'}, {'full_link': 'https://www.coffeeshopdirect.com/Reefer.html', 'title': 'Reefer - Amsterdam Coffeeshop Directory'}, {'full_link': 'https://www.coffeeshopdirect.com/Basjoe.html', 'title': 'Basjoe - Amsterdam Coffeeshop Directory'}, {'full_link': 'https://www.coffeeshopdirect.com/Stix2.html', 'title': 'Solo - Amsterdam Coffeeshop Directory'}, {'full_link': 'https://www.coffeeshopdirect.com/Crush.html', 'title': 'Crush - Amsterdam Coffeeshop Directory'}, {'full_link': 'https://www.coffeeshopdirect.com/GreenPlace.html', 'title': 'Green Place - Amsterdam Coffeeshop Directory'}, {'full_link': 'https://www.coffeeshopdirect.com/Voyagers.html', 'title': 'Voyagers - Amsterdam Coffeeshop Directory'}, {'full_link': 'https://www.coffeeshopdirect.com/Resin.html', 'title': 'Resin - Amsterdam Coffeeshop Directory'}, {'full_link': 'https://www.coffeeshopdirect.com/Kroon.html', 'title': 'De Kroon - Amsterdam Coffeeshop Directory'}, {'full_link': 'https://www.coffeeshopdirect.com/ElGuapo.html', 'title': 'El Guapo - Amsterdam Coffeeshop Directory'}, {'full_link': 'https://www.coffeeshopdirect.com/Utopia.html', 'title': 'The Plug Utopia - Amsterdam Coffeeshop Directory'}, {'full_link': 'https://www.coffeeshopdirect.com/Barraka.html', 'title': 'Barraka - Amsterdam Coffeeshop Directory'}, {'full_link': 'https://www.coffeeshopdirect.com/Jolly.html', 'title': 'The Jolly Joker - Amsterdam Coffeeshop Directory'}, {'full_link': 'https://www.coffeeshopdirect.com/RockIt.html', 'title': 'Rock-It - Amsterdam Coffeeshop Directory'}, {'full_link': 'https://www.coffeeshopdirect.com/HillStreetMa.html', 'title': 'The Greenhouse Effect - Amsterdam Coffeeshop Directory'}, {'full_link': 'https://www.coffeeshopdirect.com/Goa.html', 'title': 'Goa - Amsterdam Coffeeshop Directory'}, {'full_link': 'https://www.coffeeshopdirect.com/Gelderse.html', 'title': 'Het Gelderse - Amsterdam Coffeeshop Directory'}, {'full_link': 'https://www.coffeeshopdirect.com/Feels.html', 'title': 'Feels Good - Amsterdam Coffeeshop Directory'}, {'full_link': 'https://www.coffeeshopdirect.com/KingstoneAms.html', 'title': 'Babylon - Amsterdam Coffeeshop Directory'}, {'full_link': 'https://www.coffeeshopdirect.com/Monaco.html', 'title': 'Sativa - Amsterdam Coffeeshop Directory'}, {'full_link': 'https://www.coffeeshopdirect.com/MandM.html', 'title': 'New Times - Amsterdam Coffeeshop Directory'}, {'full_link': 'https://www.coffeeshopdirect.com/Mediterrane.html', 'title': 'Mediterrane - Amsterdam Coffeeshop Directory'}, {'full_link': 'https://www.coffeeshopdirect.com/BulldogEnerg.html', 'title': 'The Bulldog Energy - Amsterdam Coffeeshop Directory'}, {'full_link': 'https://www.coffeeshopdirect.com/Map.html', 'title': 'Map of Open Amsterdam Coffeeshops 2020 - ACD'}, {'full_link': 'https://www.coffeeshopdirect.com/MapPijp.html', 'title': 'Pijp District map - Amsterdam Coffeeshop Directory'}, {'full_link': 'https://www.coffeeshopdirect.com/MapFredHendrik.html', 'title': 'Frederik Hendrikbuurt District map - Amsterdam Coffeeshop Directory'}, {'full_link': 'https://www.coffeeshopdirect.com/MapOost.html', 'title': 'Oost District map - Amsterdam Coffeeshop Directory'}, {'full_link': 'https://www.coffeeshopdirect.com/MapZeeburg.html', 'title': 'Zeeburg District map - Amsterdam Coffeeshop Directory'}, {'full_link': 'https://www.coffeeshopdirect.com/MapHaarStaat.html', 'title': 'Haarlemmerbuurt/Staatsliedenbuurt District map - Amsterdam Coffeeshop Directory'}, {'full_link': 'https://www.coffeeshopdirect.com/MapBaarsjes.html', 'title': 'Baarsjes District map - Amsterdam Coffeeshop Directory'}]\n"
          ],
          "name": "stdout"
        }
      ]
    },
    {
      "cell_type": "code",
      "metadata": {
        "id": "oM9cZQN4DP9Z",
        "colab_type": "code",
        "colab": {}
      },
      "source": [
        "# # Write to JSON document\n",
        "# with open('coffeeshops.json', 'w') as outfile:\n",
        "#   json.dump(coffeeshops, outfile)# Prettify JSON output\n",
        "# # https://jsonformatter.curiousconcept.com/"
      ],
      "execution_count": 57,
      "outputs": []
    }
  ]
}