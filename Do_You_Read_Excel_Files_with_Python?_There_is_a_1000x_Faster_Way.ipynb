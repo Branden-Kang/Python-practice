{
  "nbformat": 4,
  "nbformat_minor": 0,
  "metadata": {
    "colab": {
      "provenance": [],
      "authorship_tag": "ABX9TyNGvXl3yp6CFDRUPUw9hshx"
    },
    "kernelspec": {
      "name": "python3",
      "display_name": "Python 3"
    },
    "language_info": {
      "name": "python"
    }
  },
  "cells": [
    {
      "cell_type": "markdown",
      "source": [
        "[Reference](https://python.plainenglish.io/do-you-read-excel-files-with-python-there-is-a-1000x-faster-way-72a15964d30a)"
      ],
      "metadata": {
        "id": "g1z1v1hWQLt1"
      }
    },
    {
      "cell_type": "code",
      "execution_count": 1,
      "metadata": {
        "id": "0qe0VV51QIxb"
      },
      "outputs": [],
      "source": [
        "import pandas as pd\n",
        "import numpy as np\n",
        "from joblib import Parallel, delayed\n",
        "import time\n",
        "\n",
        "for file_number in range(10):\n",
        "    values = np.random.uniform(size=(20000,25))\n",
        "    pd.DataFrame(values).to_csv(f\"Dummy {file_number}.csv\")\n",
        "    pd.DataFrame(values).to_excel(f\"Dummy {file_number}.xlsx\")\n",
        "    pd.DataFrame(values).to_pickle(f\"Dummy {file_number}.pickle\")"
      ]
    },
    {
      "cell_type": "markdown",
      "source": [
        "# Loading Excel Files Using Pandas"
      ],
      "metadata": {
        "id": "cvgvUDa1QQoQ"
      }
    },
    {
      "cell_type": "code",
      "source": [
        "start = time.time()\n",
        "df = pd.read_excel(\"Dummy 0.xlsx\")\n",
        "for file_number in range(1,10):\n",
        "    df.append(pd.read_excel(f\"Dummy {file_number}.xlsx\"))\n",
        "end = time.time()\n",
        "print(\"Excel:\", end - start)"
      ],
      "metadata": {
        "id": "sKc0UkPQQPXi"
      },
      "execution_count": 2,
      "outputs": []
    },
    {
      "cell_type": "markdown",
      "source": [
        "# Smarter Creation of Pandas DataFrames"
      ],
      "metadata": {
        "id": "vFYquvExQVCe"
      }
    },
    {
      "cell_type": "code",
      "source": [
        "start = time.time()\n",
        "df = []\n",
        "for file_number in range(10):\n",
        "    temp = pd.read_csv(f\"Dummy {file_number}.csv\")\n",
        "    df.append(temp)\n",
        "df = pd.concat(df, ignore_index=True)\n",
        "end = time.time()\n",
        "print(\"CSV2:\", end - start)"
      ],
      "metadata": {
        "id": "h0AEV9f-QTJl"
      },
      "execution_count": 3,
      "outputs": []
    },
    {
      "cell_type": "markdown",
      "source": [
        "# Parallelize CSV Imports with Joblib"
      ],
      "metadata": {
        "id": "GPoCclklQYTx"
      }
    },
    {
      "cell_type": "code",
      "source": [
        "start = time.time()\n",
        "def loop(file_number):\n",
        "    return pd.read_csv(f\"Dummy {file_number}.csv\")\n",
        "df = Parallel(n_jobs=-1, verbose=10)(delayed(loop)(file_number) for file_number in range(10))\n",
        "df = pd.concat(df, ignore_index=True)\n",
        "end = time.time()\n",
        "print(\"CSV//:\", end - start)"
      ],
      "metadata": {
        "id": "TpRvVWNCQW8X"
      },
      "execution_count": 4,
      "outputs": []
    },
    {
      "cell_type": "code",
      "source": [
        "def loop(file_number):\n",
        "    return pd.read_csv(f\"Dummy {file_number}.csv\")\n",
        "df = Parallel(n_jobs=-1, verbose=10)(delayed(loop)(file_number) for file_number in range(10))\n",
        "\n",
        "#equivalent to\n",
        "df = [loop(file_number) for file_number in range(10)]"
      ],
      "metadata": {
        "id": "N0ozQ4wLQbDo"
      },
      "execution_count": 5,
      "outputs": []
    },
    {
      "cell_type": "markdown",
      "source": [
        "# Utilize Pickle Files"
      ],
      "metadata": {
        "id": "tx1tJhlDQgVm"
      }
    },
    {
      "cell_type": "code",
      "source": [
        "start = time.time()\n",
        "def loop(file_number):\n",
        "    return pd.read_pickle(f\"Dummy {file_number}.pickle\")\n",
        "df = Parallel(n_jobs=-1, verbose=10)(delayed(loop)(file_number) for file_number in range(10))\n",
        "df = pd.concat(df, ignore_index=True)\n",
        "end = time.time()\n",
        "print(\"Pickle//:\", end - start)"
      ],
      "metadata": {
        "id": "l2i-BF8qQeDi"
      },
      "execution_count": 6,
      "outputs": []
    },
    {
      "cell_type": "code",
      "source": [
        "start = time.time()\n",
        "def loop(file_number):\n",
        "    return pd.read_excel(f\"Dummy {file_number}.xlsx\")\n",
        "df = Parallel(n_jobs=-1, verbose=10)(delayed(loop)(file_number) for file_number in range(10))\n",
        "df = pd.concat(df, ignore_index=True)\n",
        "end = time.time()\n",
        "print(\"Excel//:\", end - start)"
      ],
      "metadata": {
        "id": "MZkazR8mQj8a"
      },
      "execution_count": 7,
      "outputs": []
    }
  ]
}