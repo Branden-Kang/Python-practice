{
  "nbformat": 4,
  "nbformat_minor": 0,
  "metadata": {
    "colab": {
      "provenance": [],
      "authorship_tag": "ABX9TyNogC0+5Mmimr+AdTWy1uqD"
    },
    "kernelspec": {
      "name": "python3",
      "display_name": "Python 3"
    },
    "language_info": {
      "name": "python"
    }
  },
  "cells": [
    {
      "cell_type": "markdown",
      "source": [
        "[Reference](https://medium.com/cloud-for-everybody/stop-overcomplicating-your-python-code-use-any-all-instead-11a2bbd04147)"
      ],
      "metadata": {
        "id": "H2ojpqG4n4Rw"
      }
    },
    {
      "cell_type": "code",
      "execution_count": 1,
      "metadata": {
        "colab": {
          "base_uri": "https://localhost:8080/"
        },
        "id": "XtS_a-HOnzFO",
        "outputId": "8f58e70e-6556-41f9-aebb-a81825eca7d0"
      },
      "outputs": [
        {
          "output_type": "stream",
          "name": "stdout",
          "text": [
            "True\n"
          ]
        }
      ],
      "source": [
        "numbers = [1, 0, -5, 3]\n",
        "\n",
        "found_positive = False\n",
        "for num in numbers:\n",
        "    if num > 0:\n",
        "        found_positive = True\n",
        "        break\n",
        "\n",
        "print(found_positive)  # True"
      ]
    },
    {
      "cell_type": "code",
      "source": [
        "numbers = [1, 0, -5, 3]\n",
        "print(any(num > 0 for num in numbers))"
      ],
      "metadata": {
        "colab": {
          "base_uri": "https://localhost:8080/"
        },
        "id": "J2zh5FaEn64J",
        "outputId": "bdb4dba0-b7d0-4dc6-9a4d-81a3a1cbe7ae"
      },
      "execution_count": 2,
      "outputs": [
        {
          "output_type": "stream",
          "name": "stdout",
          "text": [
            "True\n"
          ]
        }
      ]
    },
    {
      "cell_type": "code",
      "source": [
        "numbers = [1, 2, 3, 4]\n",
        "print(all(num > 0 for num in numbers))  # True"
      ],
      "metadata": {
        "colab": {
          "base_uri": "https://localhost:8080/"
        },
        "id": "wogY-IVTn70Q",
        "outputId": "f5083b35-d3e1-4bc7-f979-5fa40c17c247"
      },
      "execution_count": 3,
      "outputs": [
        {
          "output_type": "stream",
          "name": "stdout",
          "text": [
            "True\n"
          ]
        }
      ]
    },
    {
      "cell_type": "code",
      "source": [
        "values = [\"hello\", \"\", \"world\"]\n",
        "print(any(value == \"\" for value in values))  # True (empty string exists)"
      ],
      "metadata": {
        "colab": {
          "base_uri": "https://localhost:8080/"
        },
        "id": "xF2-HHmmn_qi",
        "outputId": "c8088897-086f-4515-b9cf-9ee3a0bd9319"
      },
      "execution_count": 4,
      "outputs": [
        {
          "output_type": "stream",
          "name": "stdout",
          "text": [
            "True\n"
          ]
        }
      ]
    },
    {
      "cell_type": "code",
      "source": [
        "users = [{\"name\": \"Rahim Raaz\", \"admin\": False}, {\"name\": \"Aliyan Shaikh\", \"admin\": True}]\n",
        "\n",
        "print(any(user[\"admin\"] for user in users))"
      ],
      "metadata": {
        "colab": {
          "base_uri": "https://localhost:8080/"
        },
        "id": "tB73izyToBYH",
        "outputId": "10acb8fd-8b8f-4d81-ec52-5d61ff3e717f"
      },
      "execution_count": 5,
      "outputs": [
        {
          "output_type": "stream",
          "name": "stdout",
          "text": [
            "True\n"
          ]
        }
      ]
    },
    {
      "cell_type": "code",
      "source": [
        "numbers = [3, 6, 9, 12]\n",
        "print(all(num > 0 for num in numbers))"
      ],
      "metadata": {
        "colab": {
          "base_uri": "https://localhost:8080/"
        },
        "id": "adHd8u0HoCjq",
        "outputId": "e45bf7c8-f185-4b9e-f29d-e29ef529bced"
      },
      "execution_count": 6,
      "outputs": [
        {
          "output_type": "stream",
          "name": "stdout",
          "text": [
            "True\n"
          ]
        }
      ]
    },
    {
      "cell_type": "code",
      "source": [
        "users = [{\"name\": \"Rahim Raaz\", \"verified\": True}, {\"name\": \"Aliyan Shaikh\", \"verified\": False}]\n",
        "\n",
        "print(all(user[\"verified\"] for user in users))"
      ],
      "metadata": {
        "colab": {
          "base_uri": "https://localhost:8080/"
        },
        "id": "LPrdjvYaoD2Z",
        "outputId": "a41b4e22-799b-4312-a053-150c1ebe848e"
      },
      "execution_count": 7,
      "outputs": [
        {
          "output_type": "stream",
          "name": "stdout",
          "text": [
            "False\n"
          ]
        }
      ]
    },
    {
      "cell_type": "markdown",
      "source": [
        "# 1. Form Validation with all()"
      ],
      "metadata": {
        "id": "LxHHK5B9oGhN"
      }
    },
    {
      "cell_type": "code",
      "source": [
        "form_data = {\"name\": \"Rahim Raaz\", \"email\": \"rahimraaz@example.com\", \"password\": \"\"}\n",
        "\n",
        "if all(form_data.values()):\n",
        "    print(\"Form submitted successfully!\")\n",
        "else:\n",
        "    print(\"Please fill in all the fields.\")"
      ],
      "metadata": {
        "colab": {
          "base_uri": "https://localhost:8080/"
        },
        "id": "vcHLrHwNoE6G",
        "outputId": "85c5d4b0-6276-4fe8-ca9a-3a48cd9d9a43"
      },
      "execution_count": 8,
      "outputs": [
        {
          "output_type": "stream",
          "name": "stdout",
          "text": [
            "Please fill in all the fields.\n"
          ]
        }
      ]
    },
    {
      "cell_type": "markdown",
      "source": [
        "# 2. Checking File Existence with any()"
      ],
      "metadata": {
        "id": "ADFmdwo2oKf6"
      }
    },
    {
      "cell_type": "code",
      "source": [
        "import os\n",
        "\n",
        "files = [\"data.csv\", \"report.pdf\", \"image.png\"]\n",
        "\n",
        "if any(os.path.exists(file) for file in files):\n",
        "    print(\"At least one file exists!\")\n",
        "else:\n",
        "    print(\"No files found.\")"
      ],
      "metadata": {
        "colab": {
          "base_uri": "https://localhost:8080/"
        },
        "id": "4goCLEXCoHZY",
        "outputId": "013280d5-4935-410e-9b80-6fc6519177ba"
      },
      "execution_count": 9,
      "outputs": [
        {
          "output_type": "stream",
          "name": "stdout",
          "text": [
            "No files found.\n"
          ]
        }
      ]
    },
    {
      "cell_type": "markdown",
      "source": [
        "# 3. User Access Control with any()"
      ],
      "metadata": {
        "id": "BqSTMnHGoMu1"
      }
    },
    {
      "cell_type": "code",
      "source": [
        "user_permissions = [\"read\", \"write\"]\n",
        "required_permissions = [\"admin\", \"edit\"]\n",
        "\n",
        "if any(perm in user_permissions for perm in required_permissions):\n",
        "    print(\"User has sufficient access.\")\n",
        "else:\n",
        "    print(\"Access denied.\")"
      ],
      "metadata": {
        "colab": {
          "base_uri": "https://localhost:8080/"
        },
        "id": "copZXNcvoLrS",
        "outputId": "bcafdd41-2813-4d28-d053-2792348a0b57"
      },
      "execution_count": 10,
      "outputs": [
        {
          "output_type": "stream",
          "name": "stdout",
          "text": [
            "Access denied.\n"
          ]
        }
      ]
    }
  ]
}