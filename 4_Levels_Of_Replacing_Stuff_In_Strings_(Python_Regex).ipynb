{
  "nbformat": 4,
  "nbformat_minor": 0,
  "metadata": {
    "colab": {
      "name": "4 Levels Of Replacing Stuff In Strings (Python Regex).ipynb",
      "provenance": [],
      "authorship_tag": "ABX9TyMv/ZrvNoQyNgF3uB94sDXR"
    },
    "kernelspec": {
      "name": "python3",
      "display_name": "Python 3"
    },
    "language_info": {
      "name": "python"
    }
  },
  "cells": [
    {
      "cell_type": "markdown",
      "source": [
        "[Reference](https://zlliu.medium.com/4-levels-of-replacing-stuff-in-strings-python-regex-e1b5cafe51ae)"
      ],
      "metadata": {
        "id": "1w8u9Z2NtvB9"
      }
    },
    {
      "cell_type": "markdown",
      "source": [
        "# 1) Basic — replacing one character with another (no regex yet)"
      ],
      "metadata": {
        "id": "Rm2fmlL_t3mk"
      }
    },
    {
      "cell_type": "code",
      "execution_count": 2,
      "metadata": {
        "colab": {
          "base_uri": "https://localhost:8080/"
        },
        "id": "Gy3T6kxXtnsm",
        "outputId": "06a1c35e-e4e5-4327-bac5-af8fe63e71fd"
      },
      "outputs": [
        {
          "output_type": "stream",
          "name": "stdout",
          "text": [
            "apple\n",
            "bpple\n"
          ]
        }
      ],
      "source": [
        "old = \"apple\"\n",
        "new = old.replace(\"a\",\"b\")\n",
        "print(old)\n",
        "print(new)"
      ]
    },
    {
      "cell_type": "markdown",
      "source": [
        "# # 2) Multiple replacements (no regex yet)"
      ],
      "metadata": {
        "id": "AUY5g2yBuCb-"
      }
    },
    {
      "cell_type": "code",
      "source": [
        "old = \"apple juice\"\n",
        "new = old.replace(\"a\",\"@\").replace(\"e\",\"3\")\n",
        "print(old)\n",
        "print(new)"
      ],
      "metadata": {
        "colab": {
          "base_uri": "https://localhost:8080/"
        },
        "id": "UNzr1T2ft20E",
        "outputId": "572fe6c9-0a2f-471f-b295-bb4efcea6598"
      },
      "execution_count": 3,
      "outputs": [
        {
          "output_type": "stream",
          "name": "stdout",
          "text": [
            "apple juice\n",
            "@ppl3 juic3\n"
          ]
        }
      ]
    },
    {
      "cell_type": "markdown",
      "source": [
        "# 3) Using regex — replacing multiple matches with the same string"
      ],
      "metadata": {
        "id": "iDwOwo_4uEN2"
      }
    },
    {
      "cell_type": "code",
      "source": [
        "old = \"hello!!??! my name is rocky!.!,!\"\n",
        "import re\n",
        "new = re.sub(\"[!?.,]\", \"\", old)\n",
        "print(old)\n",
        "print(new)"
      ],
      "metadata": {
        "colab": {
          "base_uri": "https://localhost:8080/"
        },
        "id": "pWfGWveCuC0F",
        "outputId": "609d35ad-c814-42e5-fb88-32bd9fb3f2bd"
      },
      "execution_count": 7,
      "outputs": [
        {
          "output_type": "stream",
          "name": "stdout",
          "text": [
            "hello!!??! my name is rocky!.!,!\n",
            "hello my name is rocky\n"
          ]
        }
      ]
    },
    {
      "cell_type": "code",
      "source": [
        "old = \"apple orange pear pineapple\"\n",
        "import re\n",
        "new = re.sub(\"[aeiou]\", \"!\", old)\n",
        "print(old)\n",
        "print(new)"
      ],
      "metadata": {
        "colab": {
          "base_uri": "https://localhost:8080/"
        },
        "id": "nbwusEfTuGql",
        "outputId": "cac81b4c-7e58-4493-9d80-6c389b4f9b32"
      },
      "execution_count": 8,
      "outputs": [
        {
          "output_type": "stream",
          "name": "stdout",
          "text": [
            "apple orange pear pineapple\n",
            "!ppl! !r!ng! p!!r p!n!!ppl!\n"
          ]
        }
      ]
    },
    {
      "cell_type": "markdown",
      "source": [
        "# 4) Using regex — replacing multiple matches with different strings"
      ],
      "metadata": {
        "id": "4sTavHN2uJr1"
      }
    },
    {
      "cell_type": "code",
      "source": [
        "old = \"apple orange pear\"\n",
        "\n",
        "import re\n",
        "new = re.sub(\"([aeiou])\",r\"\\1\\1\", old)\n",
        "\n",
        "print(old)\n",
        "print(new)"
      ],
      "metadata": {
        "colab": {
          "base_uri": "https://localhost:8080/"
        },
        "id": "P6aMj0V5uIGO",
        "outputId": "1730da4e-472b-43d6-8b2c-51c383022b33"
      },
      "execution_count": 9,
      "outputs": [
        {
          "output_type": "stream",
          "name": "stdout",
          "text": [
            "apple orange pear\n",
            "aapplee ooraangee peeaar\n"
          ]
        }
      ]
    },
    {
      "cell_type": "code",
      "source": [
        "string = \"hello :smile: my name is rocky :wave:\"\n",
        "\n",
        "import re\n",
        "print(re.findall(\":(.*?):\", string))"
      ],
      "metadata": {
        "colab": {
          "base_uri": "https://localhost:8080/"
        },
        "id": "O4TRlDn7uTUk",
        "outputId": "54424015-ab6a-4cfd-f59e-b2e4849a6f2d"
      },
      "execution_count": 10,
      "outputs": [
        {
          "output_type": "stream",
          "name": "stdout",
          "text": [
            "['smile', 'wave']\n"
          ]
        }
      ]
    },
    {
      "cell_type": "code",
      "source": [
        "import re\n",
        "new = re.sub(\":(.*?):\", \"<i class=\\\"\\\\1\\\"/>\", string)"
      ],
      "metadata": {
        "id": "XVnw5j-vuYFM"
      },
      "execution_count": 11,
      "outputs": []
    },
    {
      "cell_type": "code",
      "source": [
        "string = \"apple orange pear\"\n",
        "\n",
        "for vowel in \"aeiou\":\n",
        "    string = string.replace(vowel, vowel*2)"
      ],
      "metadata": {
        "id": "DrmG4do5ucMI"
      },
      "execution_count": 12,
      "outputs": []
    },
    {
      "cell_type": "code",
      "source": [
        "import re\n",
        "string = re.sub(\"([aeiou])\", \"\\\\1\\\\1\", string)"
      ],
      "metadata": {
        "id": "1w1JTirDueG7"
      },
      "execution_count": 13,
      "outputs": []
    }
  ]
}