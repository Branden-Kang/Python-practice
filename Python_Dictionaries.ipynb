{
  "nbformat": 4,
  "nbformat_minor": 0,
  "metadata": {
    "colab": {
      "name": "Python Dictionaries.ipynb",
      "provenance": [],
      "authorship_tag": "ABX9TyPIeWiUW36NOcNxTScPFl97"
    },
    "kernelspec": {
      "name": "python3",
      "display_name": "Python 3"
    }
  },
  "cells": [
    {
      "cell_type": "markdown",
      "metadata": {
        "id": "OMTovzCqv-My"
      },
      "source": [
        "[Reference](https://medium.com/swlh/how-to-use-python-dictionaries-19c003afa65f)"
      ]
    },
    {
      "cell_type": "code",
      "metadata": {
        "colab": {
          "base_uri": "https://localhost:8080/"
        },
        "id": "bm-v04G2vx_t",
        "outputId": "c14a9a5d-07c5-4cec-e8ed-f4058d3b2bb6"
      },
      "source": [
        "# Create an empty dictionary\n",
        "d = {}\n",
        "print(d)"
      ],
      "execution_count": 1,
      "outputs": [
        {
          "output_type": "stream",
          "text": [
            "{}\n"
          ],
          "name": "stdout"
        }
      ]
    },
    {
      "cell_type": "code",
      "metadata": {
        "colab": {
          "base_uri": "https://localhost:8080/"
        },
        "id": "7MwAT0nvwLsO",
        "outputId": "2123c4dc-2aff-47f1-d66c-cd5d5efb5b9a"
      },
      "source": [
        "# Add some key:value pairs to d\n",
        "d[\"one\"] = 1\n",
        "d[2] = \"two\"\n",
        "d[\"three\"]= [1.1,2.22,3.333]\n",
        "d[4] = {\"cat\": \"dog\", 555: \"3 fives\"}\n",
        "print(d)"
      ],
      "execution_count": 2,
      "outputs": [
        {
          "output_type": "stream",
          "text": [
            "{'one': 1, 2: 'two', 'three': [1.1, 2.22, 3.333], 4: {'cat': 'dog', 555: '3 fives'}}\n"
          ],
          "name": "stdout"
        }
      ]
    },
    {
      "cell_type": "code",
      "metadata": {
        "colab": {
          "base_uri": "https://localhost:8080/"
        },
        "id": "3V9O78eUwOMB",
        "outputId": "14402160-a654-4557-f21f-564c68153eae"
      },
      "source": [
        "print(d.keys())"
      ],
      "execution_count": 3,
      "outputs": [
        {
          "output_type": "stream",
          "text": [
            "dict_keys(['one', 2, 'three', 4])\n"
          ],
          "name": "stdout"
        }
      ]
    },
    {
      "cell_type": "code",
      "metadata": {
        "colab": {
          "base_uri": "https://localhost:8080/"
        },
        "id": "UL4JY-zwwPcM",
        "outputId": "9263ea0d-bd2f-4d17-d36a-9d2703557473"
      },
      "source": [
        "print(d.values())"
      ],
      "execution_count": 4,
      "outputs": [
        {
          "output_type": "stream",
          "text": [
            "dict_values([1, 'two', [1.1, 2.22, 3.333], {'cat': 'dog', 555: '3 fives'}])\n"
          ],
          "name": "stdout"
        }
      ]
    },
    {
      "cell_type": "code",
      "metadata": {
        "colab": {
          "base_uri": "https://localhost:8080/"
        },
        "id": "JPLulJZywQx0",
        "outputId": "197fee40-fa0a-4da3-e993-dcddce4a75f8"
      },
      "source": [
        "val = d[\"three\"]\n",
        "val2 = d[\"three\"][1]\n",
        "print(type(val), type(val2))\n",
        "print(val, val2)"
      ],
      "execution_count": 5,
      "outputs": [
        {
          "output_type": "stream",
          "text": [
            "<class 'list'> <class 'float'>\n",
            "[1.1, 2.22, 3.333] 2.22\n"
          ],
          "name": "stdout"
        }
      ]
    },
    {
      "cell_type": "code",
      "metadata": {
        "colab": {
          "base_uri": "https://localhost:8080/"
        },
        "id": "vDRNdwYlwbvL",
        "outputId": "f4815b13-d2f3-4510-e2b5-a69a952b0ab4"
      },
      "source": [
        "val3 = d[\"three\"][1]\n",
        "print(val3)"
      ],
      "execution_count": 6,
      "outputs": [
        {
          "output_type": "stream",
          "text": [
            "2.22\n"
          ],
          "name": "stdout"
        }
      ]
    },
    {
      "cell_type": "code",
      "metadata": {
        "colab": {
          "base_uri": "https://localhost:8080/"
        },
        "id": "7QIjGjwjwgcJ",
        "outputId": "5d31e3c9-a5fb-4e97-a613-75cf2ca320ea"
      },
      "source": [
        "val4 = d[4]\n",
        "val5 = d[4][555]\n",
        "print(type(val4), type(val5))\n",
        "print(val4, val5)"
      ],
      "execution_count": 8,
      "outputs": [
        {
          "output_type": "stream",
          "text": [
            "<class 'dict'> <class 'str'>\n",
            "{'cat': 'dog', 555: '3 fives'} 3 fives\n"
          ],
          "name": "stdout"
        }
      ]
    },
    {
      "cell_type": "code",
      "metadata": {
        "colab": {
          "base_uri": "https://localhost:8080/"
        },
        "id": "2ia2VbxJwoDr",
        "outputId": "e219e538-8c36-40c0-eeed-ca62d7113855"
      },
      "source": [
        "val6 = d[4][555]\n",
        "print(val6)"
      ],
      "execution_count": 9,
      "outputs": [
        {
          "output_type": "stream",
          "text": [
            "3 fives\n"
          ],
          "name": "stdout"
        }
      ]
    },
    {
      "cell_type": "code",
      "metadata": {
        "colab": {
          "base_uri": "https://localhost:8080/"
        },
        "id": "apz4Pskfwqo0",
        "outputId": "9ba1cc3f-f82f-43dc-d178-8b0f54fddff3"
      },
      "source": [
        "print(d.get(\"one\"))"
      ],
      "execution_count": 10,
      "outputs": [
        {
          "output_type": "stream",
          "text": [
            "1\n"
          ],
          "name": "stdout"
        }
      ]
    },
    {
      "cell_type": "code",
      "metadata": {
        "colab": {
          "base_uri": "https://localhost:8080/"
        },
        "id": "7Mx_WVpgw3FK",
        "outputId": "4e503de9-97eb-4fac-b05d-047fb20b20fd"
      },
      "source": [
        "print(d.items())"
      ],
      "execution_count": 11,
      "outputs": [
        {
          "output_type": "stream",
          "text": [
            "dict_items([('one', 1), (2, 'two'), ('three', [1.1, 2.22, 3.333]), (4, {'cat': 'dog', 555: '3 fives'})])\n"
          ],
          "name": "stdout"
        }
      ]
    },
    {
      "cell_type": "code",
      "metadata": {
        "colab": {
          "base_uri": "https://localhost:8080/"
        },
        "id": "axSohEIqw5PC",
        "outputId": "ef8655dc-38fc-4025-bda7-23a7357539c8"
      },
      "source": [
        "print(d.pop(\"one\"))"
      ],
      "execution_count": 12,
      "outputs": [
        {
          "output_type": "stream",
          "text": [
            "1\n"
          ],
          "name": "stdout"
        }
      ]
    },
    {
      "cell_type": "code",
      "metadata": {
        "colab": {
          "base_uri": "https://localhost:8080/"
        },
        "id": "EPRpkJNtw57H",
        "outputId": "a0108fad-9a1f-4321-b728-6f163cc0b243"
      },
      "source": [
        "print(d.popitem())"
      ],
      "execution_count": 13,
      "outputs": [
        {
          "output_type": "stream",
          "text": [
            "(4, {'cat': 'dog', 555: '3 fives'})\n"
          ],
          "name": "stdout"
        }
      ]
    },
    {
      "cell_type": "code",
      "metadata": {
        "colab": {
          "base_uri": "https://localhost:8080/"
        },
        "id": "0OyCyZI3w7ac",
        "outputId": "3bb733c3-a19f-4d57-f8d5-6b3e072c351d"
      },
      "source": [
        "print(d.setdefault(\"pie\")) # default value is None if not specified\n",
        "print(d.setdefault(2))"
      ],
      "execution_count": 14,
      "outputs": [
        {
          "output_type": "stream",
          "text": [
            "None\n",
            "two\n"
          ],
          "name": "stdout"
        }
      ]
    },
    {
      "cell_type": "code",
      "metadata": {
        "colab": {
          "base_uri": "https://localhost:8080/"
        },
        "id": "Mj2GgW38w9tk",
        "outputId": "0e1f26ac-0da5-406c-e8a9-7eb0a8b4e283"
      },
      "source": [
        "d2 = {\n",
        "      \"hot\": \"cold\", \n",
        "      \"three\": 3 \n",
        "     }\n",
        "     \n",
        "d.update(d2)\n",
        "print(d)"
      ],
      "execution_count": 15,
      "outputs": [
        {
          "output_type": "stream",
          "text": [
            "{2: 'two', 'three': 3, 'pie': None, 'hot': 'cold'}\n"
          ],
          "name": "stdout"
        }
      ]
    },
    {
      "cell_type": "code",
      "metadata": {
        "colab": {
          "base_uri": "https://localhost:8080/"
        },
        "id": "oFHBzfcrxC9q",
        "outputId": "67dfba18-0819-49d1-f00a-2860cbaec825"
      },
      "source": [
        "d.clear()\n",
        "print(d)"
      ],
      "execution_count": 16,
      "outputs": [
        {
          "output_type": "stream",
          "text": [
            "{}\n"
          ],
          "name": "stdout"
        }
      ]
    },
    {
      "cell_type": "markdown",
      "metadata": {
        "id": "N2NV3dnxxONA"
      },
      "source": [
        "# Dictionary Comprehension"
      ]
    },
    {
      "cell_type": "code",
      "metadata": {
        "colab": {
          "base_uri": "https://localhost:8080/"
        },
        "id": "_XyF19RRxNin",
        "outputId": "bf2d2039-da00-46fd-a175-1118b320590a"
      },
      "source": [
        "d = {chr(65+x):x for x in range(10)}\n",
        "print(d)"
      ],
      "execution_count": 28,
      "outputs": [
        {
          "output_type": "stream",
          "text": [
            "{'A': 0, 'B': 1, 'C': 2, 'D': 3, 'E': 4, 'F': 5, 'G': 6, 'H': 7, 'I': 8, 'J': 9}\n"
          ],
          "name": "stdout"
        }
      ]
    },
    {
      "cell_type": "code",
      "metadata": {
        "colab": {
          "base_uri": "https://localhost:8080/"
        },
        "id": "Oa5ldBzUxU4I",
        "outputId": "1638dabd-0807-4d03-e10b-898e759f9244"
      },
      "source": [
        "d = {k:v+1 for (k,v) in d.items()}\n",
        "print(d)"
      ],
      "execution_count": 29,
      "outputs": [
        {
          "output_type": "stream",
          "text": [
            "{'A': 1, 'B': 2, 'C': 3, 'D': 4, 'E': 5, 'F': 6, 'G': 7, 'H': 8, 'I': 9, 'J': 10}\n"
          ],
          "name": "stdout"
        }
      ]
    },
    {
      "cell_type": "code",
      "metadata": {
        "colab": {
          "base_uri": "https://localhost:8080/"
        },
        "id": "MWx0eeiExWpf",
        "outputId": "be173e28-03a7-4cac-e46a-d29dc9c9978c"
      },
      "source": [
        "d = {k:v if v%2==0 else v+5 for (k,v) in d.items()}\n",
        "print(d)"
      ],
      "execution_count": 30,
      "outputs": [
        {
          "output_type": "stream",
          "text": [
            "{'A': 6, 'B': 2, 'C': 8, 'D': 4, 'E': 10, 'F': 6, 'G': 12, 'H': 8, 'I': 14, 'J': 10}\n"
          ],
          "name": "stdout"
        }
      ]
    },
    {
      "cell_type": "code",
      "metadata": {
        "colab": {
          "base_uri": "https://localhost:8080/"
        },
        "id": "WfUHs1dOxZ0F",
        "outputId": "3d59c358-98c5-4948-fa52-211358a33015"
      },
      "source": [
        "d = {k:[x for x in range(v)] for (k,v) in d.items()}\n",
        "print(d)"
      ],
      "execution_count": 31,
      "outputs": [
        {
          "output_type": "stream",
          "text": [
            "{'A': [0, 1, 2, 3, 4, 5], 'B': [0, 1], 'C': [0, 1, 2, 3, 4, 5, 6, 7], 'D': [0, 1, 2, 3], 'E': [0, 1, 2, 3, 4, 5, 6, 7, 8, 9], 'F': [0, 1, 2, 3, 4, 5], 'G': [0, 1, 2, 3, 4, 5, 6, 7, 8, 9, 10, 11], 'H': [0, 1, 2, 3, 4, 5, 6, 7], 'I': [0, 1, 2, 3, 4, 5, 6, 7, 8, 9, 10, 11, 12, 13], 'J': [0, 1, 2, 3, 4, 5, 6, 7, 8, 9]}\n"
          ],
          "name": "stdout"
        }
      ]
    },
    {
      "cell_type": "code",
      "metadata": {
        "colab": {
          "base_uri": "https://localhost:8080/"
        },
        "id": "DJTQJ5tyxhiH",
        "outputId": "9c0f3bb0-d499-41ae-eff9-1b94df2c8c6b"
      },
      "source": [
        "d = {k+\"1\":[x+10 if x%3 == 0 else \"X\" for x in v] for (k,v) in d.items()}\n",
        "\n",
        "print(d)"
      ],
      "execution_count": 32,
      "outputs": [
        {
          "output_type": "stream",
          "text": [
            "{'A1': [10, 'X', 'X', 13, 'X', 'X'], 'B1': [10, 'X'], 'C1': [10, 'X', 'X', 13, 'X', 'X', 16, 'X'], 'D1': [10, 'X', 'X', 13], 'E1': [10, 'X', 'X', 13, 'X', 'X', 16, 'X', 'X', 19], 'F1': [10, 'X', 'X', 13, 'X', 'X'], 'G1': [10, 'X', 'X', 13, 'X', 'X', 16, 'X', 'X', 19, 'X', 'X'], 'H1': [10, 'X', 'X', 13, 'X', 'X', 16, 'X'], 'I1': [10, 'X', 'X', 13, 'X', 'X', 16, 'X', 'X', 19, 'X', 'X', 22, 'X'], 'J1': [10, 'X', 'X', 13, 'X', 'X', 16, 'X', 'X', 19]}\n"
          ],
          "name": "stdout"
        }
      ]
    },
    {
      "cell_type": "markdown",
      "metadata": {
        "id": "oVQsZI1sxm4j"
      },
      "source": [
        "# Dictionary Iteration"
      ]
    },
    {
      "cell_type": "code",
      "metadata": {
        "colab": {
          "base_uri": "https://localhost:8080/"
        },
        "id": "25MpTnrxxjUZ",
        "outputId": "cf86ba6d-c604-418c-ec00-a26566f23636"
      },
      "source": [
        "%%time\n",
        "# Iterate through the dictionary and add 3.14 else add \"-ray\"\n",
        "for k, v in d.items():\n",
        "    for x in range(len(v)):\n",
        "        if type(v[x]) == int:\n",
        "            d[k][x] = v[x] + 3.14 \n",
        "        else:\n",
        "            d[k][x] = v[x]+\"-ray\""
      ],
      "execution_count": 23,
      "outputs": [
        {
          "output_type": "stream",
          "text": [
            "CPU times: user 34 µs, sys: 8 µs, total: 42 µs\n",
            "Wall time: 44.3 µs\n"
          ],
          "name": "stdout"
        }
      ]
    },
    {
      "cell_type": "code",
      "metadata": {
        "colab": {
          "base_uri": "https://localhost:8080/"
        },
        "id": "p0bXlTBoxpri",
        "outputId": "02602e3a-9d17-4164-812c-f3ccd6ded241"
      },
      "source": [
        "%%time\n",
        "# Perform the same task as above except using a comprehension\n",
        "d = {k:[x+3.14 if type(x)==int else x+\"-ray\" for x in v] for (k,v) in d.items()}"
      ],
      "execution_count": 33,
      "outputs": [
        {
          "output_type": "stream",
          "text": [
            "CPU times: user 32 µs, sys: 7 µs, total: 39 µs\n",
            "Wall time: 43.4 µs\n"
          ],
          "name": "stdout"
        }
      ]
    }
  ]
}