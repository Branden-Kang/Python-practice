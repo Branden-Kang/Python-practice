{
  "nbformat": 4,
  "nbformat_minor": 0,
  "metadata": {
    "colab": {
      "name": "Automate your Excel Reporting in Python.ipynb",
      "provenance": [],
      "authorship_tag": "ABX9TyNZjKeAjFbxc3b4yBL+Fug1"
    },
    "kernelspec": {
      "name": "python3",
      "display_name": "Python 3"
    }
  },
  "cells": [
    {
      "cell_type": "markdown",
      "metadata": {
        "id": "YbItj6PPq7Sq"
      },
      "source": [
        "[Reference](https://towardsdatascience.com/automate-excel-reporting-with-python-233dd61fb0f2)"
      ]
    },
    {
      "cell_type": "code",
      "metadata": {
        "id": "B5lSBgHXqzET"
      },
      "source": [
        "import pandas as pd\n",
        "\n",
        "from openpyxl import load_workbook\n",
        "from openpyxl.styles import Font\n",
        "from openpyxl.chart import BarChart, Reference"
      ],
      "execution_count": 1,
      "outputs": []
    },
    {
      "cell_type": "code",
      "metadata": {
        "id": "wCtqkS8Aq-r7",
        "outputId": "55b34edc-55c0-483a-9901-e3cf0fc76b28",
        "colab": {
          "base_uri": "https://localhost:8080/",
          "height": 119
        }
      },
      "source": [
        "df = pd.read_excel('https://github.com/datagy/pivot_table_pandas/raw/master/sample_pivot.xlsx', parse_dates=['Date'])\n",
        "print(df.head())"
      ],
      "execution_count": 2,
      "outputs": [
        {
          "output_type": "stream",
          "text": [
            "        Date Region                 Type  Units  Sales\n",
            "0 2020-07-11   East  Children's Clothing   18.0    306\n",
            "1 2020-09-23  North  Children's Clothing   14.0    448\n",
            "2 2020-04-02  South     Women's Clothing   17.0    425\n",
            "3 2020-02-28   East  Children's Clothing   26.0    832\n",
            "4 2020-03-19   West     Women's Clothing    3.0     33\n"
          ],
          "name": "stdout"
        }
      ]
    },
    {
      "cell_type": "code",
      "metadata": {
        "id": "MNHKpdq5rK_5",
        "outputId": "04421213-6bd1-4643-a1f7-51be0789606b",
        "colab": {
          "base_uri": "https://localhost:8080/",
          "height": 136
        }
      },
      "source": [
        "filtered = df[df['Region'] == 'East']\n",
        "quarterly_sales = pd.pivot_table(filtered, index = filtered['Date'].dt.quarter, columns = 'Type', values = 'Sales', aggfunc='sum')\n",
        "\n",
        "print(\"Quarterly Sales Pivot Table:\")\n",
        "print(quarterly_sales.head())"
      ],
      "execution_count": 3,
      "outputs": [
        {
          "output_type": "stream",
          "text": [
            "Quarterly Sales Pivot Table:\n",
            "Type  Children's Clothing  Men's Clothing  Women's Clothing\n",
            "Date                                                       \n",
            "1                   12274           13293             16729\n",
            "2                    5496           17817             22384\n",
            "3                   14463            9622             15065\n",
            "4                   13616           10953             16051\n"
          ],
          "name": "stdout"
        }
      ]
    },
    {
      "cell_type": "code",
      "metadata": {
        "id": "i6fhT6Ierj_n",
        "outputId": "64737a87-ff4c-412c-d259-05b8f41ebec7",
        "colab": {
          "base_uri": "https://localhost:8080/",
          "height": 34
        }
      },
      "source": [
        "import os\n",
        "from google.colab import drive\n",
        "drive.mount('/content/gdrive')\n",
        "os.chdir('gdrive/My Drive/Medium')"
      ],
      "execution_count": 4,
      "outputs": [
        {
          "output_type": "stream",
          "text": [
            "Mounted at /content/gdrive\n"
          ],
          "name": "stdout"
        }
      ]
    },
    {
      "cell_type": "code",
      "metadata": {
        "id": "g7-kXfdRr7_Y",
        "outputId": "cd011825-661d-42e4-e56f-ff8e61fb8236",
        "colab": {
          "base_uri": "https://localhost:8080/",
          "height": 37
        }
      },
      "source": [
        "os.getcwd()"
      ],
      "execution_count": 5,
      "outputs": [
        {
          "output_type": "execute_result",
          "data": {
            "application/vnd.google.colaboratory.intrinsic+json": {
              "type": "string"
            },
            "text/plain": [
              "'/content/gdrive/My Drive/Medium'"
            ]
          },
          "metadata": {
            "tags": []
          },
          "execution_count": 5
        }
      ]
    },
    {
      "cell_type": "code",
      "metadata": {
        "id": "S6joqXPNrQJr"
      },
      "source": [
        "file_path = '/content/gdrive/My Drive/Medium/practice.xlsx'\n",
        "quarterly_sales.to_excel(file_path, sheet_name = 'Quarterly Sales', startrow=3)"
      ],
      "execution_count": 9,
      "outputs": []
    },
    {
      "cell_type": "code",
      "metadata": {
        "id": "vs2zJ0WGrwkA"
      },
      "source": [
        "# Section 05 - Loading the Workbook\n",
        "wb = load_workbook(file_path)\n",
        "sheet1 = wb['Quarterly Sales']\n",
        "\n",
        "# Section 06 - Formatting the First Sheet\n",
        "sheet1['A1'] = 'Quarterly Sales'\n",
        "sheet1['A2'] = 'datagy.io'\n",
        "sheet1['A4'] = 'Quarter'\n",
        "\n",
        "sheet1['A1'].style = 'Title'\n",
        "sheet1['A2'].style = 'Headline 2'\n",
        "\n",
        "for i in range(5, 9):\n",
        "    sheet1[f'B{i}'].style='Currency'\n",
        "    sheet1[f'C{i}'].style='Currency'\n",
        "    sheet1[f'D{i}'].style='Currency'\n",
        "\n",
        "# Section 07 - Adding a Bar Chart\n",
        "bar_chart = BarChart()\n",
        "data = Reference(sheet1, min_col=2, max_col=4, min_row=4, max_row=8)\n",
        "categories = Reference(sheet1, min_col=1, max_col=1, min_row=5, max_row=8)\n",
        "bar_chart.add_data(data, titles_from_data=True)\n",
        "bar_chart.set_categories(categories)\n",
        "sheet1.add_chart(bar_chart, \"F4\")\n",
        "\n",
        "bar_chart.title = 'Sales by Type'\n",
        "bar_chart.style = 3\n",
        "wb.save(filename = file_path)"
      ],
      "execution_count": 10,
      "outputs": []
    },
    {
      "cell_type": "code",
      "metadata": {
        "id": "rbcei6OlsnDc"
      },
      "source": [
        "# Section 08 - Getting Region Names\n",
        "regions = list(df['Region'].unique())\n",
        "\n",
        "# Section 09 - Looping Over All Regions\n",
        "folder_path = '/content/gdrive/My Drive/Medium'\n",
        "\n",
        "for region in regions:\n",
        "    filtered = df[df['Region'] == f'{region}']\n",
        "    quarterly_sales = pd.pivot_table(filtered, index = filtered['Date'].dt.quarter, columns = 'Type', values = 'Sales', aggfunc='sum')\n",
        "    file_path = f\"{folder_path}{region}.xlsx\"\n",
        "    quarterly_sales.to_excel(file_path, sheet_name = 'Quarterly Sales', startrow=3)\n",
        "    \n",
        "    wb = load_workbook(file_path)\n",
        "    sheet1 = wb['Quarterly Sales']\n",
        "    \n",
        "    sheet1['A1'] = 'Quarterly Sales'\n",
        "    sheet1['A2'] = 'datagy.io'\n",
        "    sheet1['A4'] = 'Quarter'\n",
        "\n",
        "    sheet1['A1'].style = 'Title'\n",
        "    sheet1['A2'].style = 'Headline 2'\n",
        "\n",
        "    for i in range(5, 10):\n",
        "        sheet1[f'B{i}'].style='Currency'\n",
        "        sheet1[f'C{i}'].style='Currency'\n",
        "        sheet1[f'D{i}'].style='Currency'\n",
        "\n",
        "    bar_chart = BarChart()\n",
        "    data = Reference(sheet1, min_col=2, max_col=4, min_row=4, max_row=8)\n",
        "    categories = Reference(sheet1, min_col=1, max_col=1, min_row=5, max_row=8)\n",
        "    bar_chart.add_data(data, titles_from_data=True)\n",
        "    bar_chart.set_categories(categories)\n",
        "    sheet1.add_chart(bar_chart, \"F4\")\n",
        "\n",
        "    bar_chart.title = 'Sales by Type'\n",
        "    bar_chart.style = 3\n",
        "    wb.save(file_path)"
      ],
      "execution_count": 13,
      "outputs": []
    }
  ]
}