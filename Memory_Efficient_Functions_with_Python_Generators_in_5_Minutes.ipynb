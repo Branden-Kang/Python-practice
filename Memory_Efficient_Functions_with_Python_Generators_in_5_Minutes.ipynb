{
  "nbformat": 4,
  "nbformat_minor": 0,
  "metadata": {
    "colab": {
      "name": "Memory Efficient Functions with Python Generators in 5 Minutes.ipynb",
      "provenance": [],
      "authorship_tag": "ABX9TyPiTEY///VlW19vbadByewC"
    },
    "kernelspec": {
      "name": "python3",
      "display_name": "Python 3"
    }
  },
  "cells": [
    {
      "cell_type": "markdown",
      "metadata": {
        "id": "M-6mo6Y_O0o3"
      },
      "source": [
        "[Reference](https://erdemisbilen.medium.com/memory-efficient-functions-with-python-generators-in-5-minutes-13ccfdfaa89a)"
      ]
    },
    {
      "cell_type": "code",
      "metadata": {
        "colab": {
          "base_uri": "https://localhost:8080/",
          "height": 283
        },
        "id": "t-P7ptMQOrO5",
        "outputId": "723c75dd-4557-4057-b1bd-b8d3fa6d56f1"
      },
      "source": [
        "# Simple Generator\n",
        "def my_simple_generator():\n",
        " k = 0\n",
        " yield k\n",
        " k = 1\n",
        " yield k\n",
        " k = 2\n",
        " yield k\n",
        "\n",
        "my_numbers = my_simple_generator()\n",
        "print(next(my_numbers))\n",
        "print(next(my_numbers))\n",
        "print(next(my_numbers))\n",
        "# Below call raises StopIteration as generator is fully iterated\n",
        "print(next(my_numbers))"
      ],
      "execution_count": 1,
      "outputs": [
        {
          "output_type": "stream",
          "text": [
            "0\n",
            "1\n",
            "2\n"
          ],
          "name": "stdout"
        },
        {
          "output_type": "error",
          "ename": "StopIteration",
          "evalue": "ignored",
          "traceback": [
            "\u001b[0;31m---------------------------------------------------------------------------\u001b[0m",
            "\u001b[0;31mStopIteration\u001b[0m                             Traceback (most recent call last)",
            "\u001b[0;32m<ipython-input-1-3310185c8e2a>\u001b[0m in \u001b[0;36m<module>\u001b[0;34m()\u001b[0m\n\u001b[1;32m     13\u001b[0m \u001b[0mprint\u001b[0m\u001b[0;34m(\u001b[0m\u001b[0mnext\u001b[0m\u001b[0;34m(\u001b[0m\u001b[0mmy_numbers\u001b[0m\u001b[0;34m)\u001b[0m\u001b[0;34m)\u001b[0m\u001b[0;34m\u001b[0m\u001b[0;34m\u001b[0m\u001b[0m\n\u001b[1;32m     14\u001b[0m \u001b[0;31m# Below call raises StopIteration as generator is fully iterated\u001b[0m\u001b[0;34m\u001b[0m\u001b[0;34m\u001b[0m\u001b[0;34m\u001b[0m\u001b[0m\n\u001b[0;32m---> 15\u001b[0;31m \u001b[0mprint\u001b[0m\u001b[0;34m(\u001b[0m\u001b[0mnext\u001b[0m\u001b[0;34m(\u001b[0m\u001b[0mmy_numbers\u001b[0m\u001b[0;34m)\u001b[0m\u001b[0;34m)\u001b[0m\u001b[0;34m\u001b[0m\u001b[0;34m\u001b[0m\u001b[0m\n\u001b[0m",
            "\u001b[0;31mStopIteration\u001b[0m: "
          ]
        }
      ]
    },
    {
      "cell_type": "code",
      "metadata": {
        "colab": {
          "base_uri": "https://localhost:8080/"
        },
        "id": "6YDTuP87O69M",
        "outputId": "0ca2701c-66c1-4a8b-829b-6c6aea1f1d29"
      },
      "source": [
        "def my_generator_with_loop(my_str):\n",
        "    length = len(my_str)\n",
        "    for k in range(length):\n",
        "        yield my_str[k]\n",
        "\n",
        "my_text = my_generator_with_loop(\"Coding\")\n",
        "for char in my_text:\n",
        " print(char)"
      ],
      "execution_count": 3,
      "outputs": [
        {
          "output_type": "stream",
          "text": [
            "C\n",
            "o\n",
            "d\n",
            "i\n",
            "n\n",
            "g\n"
          ],
          "name": "stdout"
        }
      ]
    },
    {
      "cell_type": "code",
      "metadata": {
        "colab": {
          "base_uri": "https://localhost:8080/"
        },
        "id": "naUDC-6rPBhA",
        "outputId": "4cf8d7a7-4ee2-4df3-b076-feb1ede7433c"
      },
      "source": [
        "# Defining Generators with Expressions\n",
        "my_generator_expression = (number**2 for number in range(4))\n",
        "print (sum(my_generator_expression))"
      ],
      "execution_count": 4,
      "outputs": [
        {
          "output_type": "stream",
          "text": [
            "14\n"
          ],
          "name": "stdout"
        }
      ]
    },
    {
      "cell_type": "code",
      "metadata": {
        "colab": {
          "base_uri": "https://localhost:8080/"
        },
        "id": "u5wAynRmPGKw",
        "outputId": "79123797-22d3-41a1-8c0e-5cac0b3a4175"
      },
      "source": [
        "# Defining Generator Pipeline\n",
        "my_generator_01 = (number**2 for number in range(40))\n",
        "my_generator_02 = (number-5 for number in my_generator_01)\n",
        "print(sum(my_generator_02))"
      ],
      "execution_count": 6,
      "outputs": [
        {
          "output_type": "stream",
          "text": [
            "20340\n"
          ],
          "name": "stdout"
        }
      ]
    }
  ]
}