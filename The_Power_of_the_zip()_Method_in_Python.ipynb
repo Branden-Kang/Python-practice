{
  "nbformat": 4,
  "nbformat_minor": 0,
  "metadata": {
    "colab": {
      "provenance": [],
      "authorship_tag": "ABX9TyPZQkhMu4O6nkAx5Ux+yG4m"
    },
    "kernelspec": {
      "name": "python3",
      "display_name": "Python 3"
    },
    "language_info": {
      "name": "python"
    }
  },
  "cells": [
    {
      "cell_type": "markdown",
      "source": [
        "[Reference](https://medium.com/@anala007/the-power-of-the-zip-method-in-python-d4dc862bb104)"
      ],
      "metadata": {
        "id": "HbLZuJrIYA2H"
      }
    },
    {
      "cell_type": "code",
      "execution_count": 1,
      "metadata": {
        "colab": {
          "base_uri": "https://localhost:8080/"
        },
        "id": "ZzCAAVDbX_Zp",
        "outputId": "a8329ce3-f771-4ab5-c2f4-881add416d37"
      },
      "outputs": [
        {
          "output_type": "stream",
          "name": "stdout",
          "text": [
            "<zip object at 0x7fe072a44e00>\n"
          ]
        }
      ],
      "source": [
        "names = [\"Joe\", \"Sally\", \"John\"] \n",
        "colors = [\"blue\", \"green\", \"red\"] \n",
        "friends = zip(names, colors) \n",
        "print(friends)"
      ]
    },
    {
      "cell_type": "code",
      "source": [
        "print(list(friends))"
      ],
      "metadata": {
        "colab": {
          "base_uri": "https://localhost:8080/"
        },
        "id": "3HVj23GYYDtb",
        "outputId": "213631db-3812-4df4-c43e-e36b798f8e0b"
      },
      "execution_count": 2,
      "outputs": [
        {
          "output_type": "stream",
          "name": "stdout",
          "text": [
            "[('Joe', 'blue'), ('Sally', 'green'), ('John', 'red')]\n"
          ]
        }
      ]
    },
    {
      "cell_type": "code",
      "source": [
        "friends = zip(names, colors) \n",
        "for i, (name, color) in enumerate(friends):\n",
        "    print(i, name, color)"
      ],
      "metadata": {
        "colab": {
          "base_uri": "https://localhost:8080/"
        },
        "id": "NFiO1emSYD0N",
        "outputId": "bf10262a-a2bb-4248-c46d-85f0b2e5203d"
      },
      "execution_count": 3,
      "outputs": [
        {
          "output_type": "stream",
          "name": "stdout",
          "text": [
            "0 Joe blue\n",
            "1 Sally green\n",
            "2 John red\n"
          ]
        }
      ]
    },
    {
      "cell_type": "code",
      "source": [
        "my_list1 = [1, 2, 3] \n",
        "my_list2 = [4, 5, 6] \n",
        "my_list3 = [7, 8, 9] \n",
        "my_zip = zip(my_list1, my_list2, my_list3) \n",
        "print(list(my_zip)) "
      ],
      "metadata": {
        "colab": {
          "base_uri": "https://localhost:8080/"
        },
        "id": "aImfRwQsYEow",
        "outputId": "c785d185-5dd4-4cb3-d249-4ad757d0c797"
      },
      "execution_count": 4,
      "outputs": [
        {
          "output_type": "stream",
          "name": "stdout",
          "text": [
            "[(1, 4, 7), (2, 5, 8), (3, 6, 9)]\n"
          ]
        }
      ]
    },
    {
      "cell_type": "code",
      "source": [
        "my_list1 = ['a' , 'b', 'c']    # this list has 3 elements\n",
        "my_list2 = ['d', 'e']      # this lsit has 2 elements \n",
        "my_zip = zip(my_list1, my_list2 ) # we're only zipping two lists together this time\n",
        "print(list(my_zip))"
      ],
      "metadata": {
        "colab": {
          "base_uri": "https://localhost:8080/"
        },
        "id": "0K3_muGsYFmf",
        "outputId": "bf7210c6-48d2-4058-aa20-a118a17d3570"
      },
      "execution_count": 5,
      "outputs": [
        {
          "output_type": "stream",
          "name": "stdout",
          "text": [
            "[('a', 'd'), ('b', 'e')]\n"
          ]
        }
      ]
    }
  ]
}