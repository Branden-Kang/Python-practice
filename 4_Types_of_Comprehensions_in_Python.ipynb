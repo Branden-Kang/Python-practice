{
  "nbformat": 4,
  "nbformat_minor": 0,
  "metadata": {
    "colab": {
      "name": "4 Types of Comprehensions in Python.ipynb",
      "provenance": [],
      "authorship_tag": "ABX9TyMWWPHkvy+WgwClERwtGNYe"
    },
    "kernelspec": {
      "name": "python3",
      "display_name": "Python 3"
    }
  },
  "cells": [
    {
      "cell_type": "markdown",
      "metadata": {
        "id": "IvjXzCAs_Z8U"
      },
      "source": [
        "[Reference](https://medium.com/techtofreedom/the-4-types-of-comprehensions-in-python-2cf1096fffc0)"
      ]
    },
    {
      "cell_type": "markdown",
      "metadata": {
        "id": "1y52mlhBAaU1"
      },
      "source": [
        "# List Comprehension"
      ]
    },
    {
      "cell_type": "code",
      "metadata": {
        "colab": {
          "base_uri": "https://localhost:8080/"
        },
        "id": "1IK6snCW_XG5",
        "outputId": "06edb5e4-15fe-4b3e-f22a-cf26aa5eb8dc"
      },
      "source": [
        "employees = [\"Branden\", \"James\", \"Emma\"]\n",
        "list_comprehension = [name for name in employees]\n",
        "print(list_comprehension)"
      ],
      "execution_count": 9,
      "outputs": [
        {
          "output_type": "stream",
          "text": [
            "['Branden', 'James', 'Emma']\n"
          ],
          "name": "stdout"
        }
      ]
    },
    {
      "cell_type": "code",
      "metadata": {
        "colab": {
          "base_uri": "https://localhost:8080/"
        },
        "id": "InBx1k2S_8fM",
        "outputId": "e56a531c-6e30-4fcd-ed7d-efc1cb1952df"
      },
      "source": [
        "employees = [\"Branden\", \"James\", \"Emma\"]\n",
        "list_ = []\n",
        "for name in employees:\n",
        "    list_.append(name)\n",
        "print(list_)"
      ],
      "execution_count": 11,
      "outputs": [
        {
          "output_type": "stream",
          "text": [
            "['Branden', 'James', 'Emma']\n"
          ],
          "name": "stdout"
        }
      ]
    },
    {
      "cell_type": "code",
      "metadata": {
        "colab": {
          "base_uri": "https://localhost:8080/"
        },
        "id": "xNAlfwv9HF_d",
        "outputId": "4e3e1647-ea61-4f88-f1a1-993db0807a0a"
      },
      "source": [
        "[i**2 for i in range(5) if i%2==0]"
      ],
      "execution_count": 16,
      "outputs": [
        {
          "output_type": "execute_result",
          "data": {
            "text/plain": [
              "[0, 4, 16]"
            ]
          },
          "metadata": {
            "tags": []
          },
          "execution_count": 16
        }
      ]
    },
    {
      "cell_type": "code",
      "metadata": {
        "colab": {
          "base_uri": "https://localhost:8080/"
        },
        "id": "8-VsH_PpIcSr",
        "outputId": "32cb02c9-2233-4462-f73a-d6c217fd4b4d"
      },
      "source": [
        "num = [(i, j) for i in range(2) for j in range(3)]\n",
        "print(num)"
      ],
      "execution_count": 18,
      "outputs": [
        {
          "output_type": "stream",
          "text": [
            "[(0, 0), (0, 1), (0, 2), (1, 0), (1, 1), (1, 2)]\n"
          ],
          "name": "stdout"
        }
      ]
    },
    {
      "cell_type": "markdown",
      "metadata": {
        "id": "EFNpuZ1dAcw5"
      },
      "source": [
        "# Generator Comprehension"
      ]
    },
    {
      "cell_type": "code",
      "metadata": {
        "colab": {
          "base_uri": "https://localhost:8080/"
        },
        "id": "Gb2RIlO0AJ0X",
        "outputId": "3a4db3a1-eeed-4751-a32a-ef4a0a7c35e6"
      },
      "source": [
        "employees = [\"Branden\", \"James\", \"Emma\"]\n",
        "generator_comprehension = (name for name in employees)\n",
        "print(generator_comprehension)\n",
        "print(list(generator_comprehension))"
      ],
      "execution_count": 12,
      "outputs": [
        {
          "output_type": "stream",
          "text": [
            "<generator object <genexpr> at 0x7eff1d215308>\n",
            "['Branden', 'James', 'Emma']\n"
          ],
          "name": "stdout"
        }
      ]
    },
    {
      "cell_type": "code",
      "metadata": {
        "colab": {
          "base_uri": "https://localhost:8080/",
          "height": 266
        },
        "id": "c2N3cKUuFJg-",
        "outputId": "f19cfdc2-7b2d-4326-ee2a-4f074c5c4833"
      },
      "source": [
        "gen_comprehension = (x**2 for x in range(3))\n",
        "print(gen_comprehension)\n",
        "print(next(gen_comprehension))\n",
        "print(next(gen_comprehension))\n",
        "print(next(gen_comprehension))\n",
        "print(next(gen_comprehension))"
      ],
      "execution_count": 15,
      "outputs": [
        {
          "output_type": "stream",
          "text": [
            "<generator object <genexpr> at 0x7eff1d2152b0>\n",
            "0\n",
            "1\n",
            "4\n"
          ],
          "name": "stdout"
        },
        {
          "output_type": "error",
          "ename": "StopIteration",
          "evalue": "ignored",
          "traceback": [
            "\u001b[0;31m---------------------------------------------------------------------------\u001b[0m",
            "\u001b[0;31mStopIteration\u001b[0m                             Traceback (most recent call last)",
            "\u001b[0;32m<ipython-input-15-794e97c241e8>\u001b[0m in \u001b[0;36m<module>\u001b[0;34m()\u001b[0m\n\u001b[1;32m      4\u001b[0m \u001b[0mprint\u001b[0m\u001b[0;34m(\u001b[0m\u001b[0mnext\u001b[0m\u001b[0;34m(\u001b[0m\u001b[0mgen_comprehension\u001b[0m\u001b[0;34m)\u001b[0m\u001b[0;34m)\u001b[0m\u001b[0;34m\u001b[0m\u001b[0;34m\u001b[0m\u001b[0m\n\u001b[1;32m      5\u001b[0m \u001b[0mprint\u001b[0m\u001b[0;34m(\u001b[0m\u001b[0mnext\u001b[0m\u001b[0;34m(\u001b[0m\u001b[0mgen_comprehension\u001b[0m\u001b[0;34m)\u001b[0m\u001b[0;34m)\u001b[0m\u001b[0;34m\u001b[0m\u001b[0;34m\u001b[0m\u001b[0m\n\u001b[0;32m----> 6\u001b[0;31m \u001b[0mprint\u001b[0m\u001b[0;34m(\u001b[0m\u001b[0mnext\u001b[0m\u001b[0;34m(\u001b[0m\u001b[0mgen_comprehension\u001b[0m\u001b[0;34m)\u001b[0m\u001b[0;34m)\u001b[0m\u001b[0;34m\u001b[0m\u001b[0;34m\u001b[0m\u001b[0m\n\u001b[0m",
            "\u001b[0;31mStopIteration\u001b[0m: "
          ]
        }
      ]
    },
    {
      "cell_type": "markdown",
      "metadata": {
        "id": "DipRddyfAzju"
      },
      "source": [
        "# Set Comprehension"
      ]
    },
    {
      "cell_type": "code",
      "metadata": {
        "colab": {
          "base_uri": "https://localhost:8080/"
        },
        "id": "Ji9AuMG-AjWP",
        "outputId": "66f74e00-929e-475c-c0e2-e28526058de6"
      },
      "source": [
        "nums = [1, 1, 1, 2, 2, 2, 3, 3, 3, 3, 4, 4, 4, 5, 5, 6, 6, 6, 7, 7, 2, 6, 8, 8, 8, 9, 9, 9, 1]\n",
        "list_comprehension = [n for n in nums]\n",
        "print(list_comprehension)\n",
        "\n",
        "nums = [1, 1, 1, 2, 2, 2, 3, 3, 3, 3, 4, 4, 4, 5, 5, 6, 6, 6, 7, 7, 2, 6, 8, 8, 8, 9, 9, 9, 1]\n",
        "set_comprehension = {n for n in nums}\n",
        "print(set_comprehension)"
      ],
      "execution_count": 5,
      "outputs": [
        {
          "output_type": "stream",
          "text": [
            "[1, 1, 1, 2, 2, 2, 3, 3, 3, 3, 4, 4, 4, 5, 5, 6, 6, 6, 7, 7, 2, 6, 8, 8, 8, 9, 9, 9, 1]\n",
            "{1, 2, 3, 4, 5, 6, 7, 8, 9}\n"
          ],
          "name": "stdout"
        }
      ]
    },
    {
      "cell_type": "markdown",
      "metadata": {
        "id": "GIToJGCFCQ2I"
      },
      "source": [
        "# Dictionary Comprehension"
      ]
    },
    {
      "cell_type": "code",
      "metadata": {
        "colab": {
          "base_uri": "https://localhost:8080/"
        },
        "id": "BvaFWoMCBqIe",
        "outputId": "080bfc9e-9a8a-4e8b-9a11-d23837a7e48a"
      },
      "source": [
        "employees = [\"Branden\", \"James\", \"Emma\"]\n",
        "dict_comprehension = {id: name for id, name in enumerate(employees)}\n",
        "print(dict_comprehension)"
      ],
      "execution_count": 13,
      "outputs": [
        {
          "output_type": "stream",
          "text": [
            "{0: 'Branden', 1: 'James', 2: 'Emma'}\n"
          ],
          "name": "stdout"
        }
      ]
    }
  ]
}