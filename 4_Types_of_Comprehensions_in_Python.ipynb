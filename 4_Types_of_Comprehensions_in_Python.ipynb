{
  "nbformat": 4,
  "nbformat_minor": 0,
  "metadata": {
    "colab": {
      "name": "4 Types of Comprehensions in Python.ipynb",
      "provenance": [],
      "authorship_tag": "ABX9TyPdCeXN0HbuzaeDOIM3Bc9m"
    },
    "kernelspec": {
      "name": "python3",
      "display_name": "Python 3"
    }
  },
  "cells": [
    {
      "cell_type": "markdown",
      "metadata": {
        "id": "IvjXzCAs_Z8U"
      },
      "source": [
        "[Reference](https://medium.com/techtofreedom/the-4-types-of-comprehensions-in-python-2cf1096fffc0)"
      ]
    },
    {
      "cell_type": "markdown",
      "metadata": {
        "id": "1y52mlhBAaU1"
      },
      "source": [
        "# List Comprehension"
      ]
    },
    {
      "cell_type": "code",
      "metadata": {
        "colab": {
          "base_uri": "https://localhost:8080/"
        },
        "id": "1IK6snCW_XG5",
        "outputId": "14a944f3-4efb-4c91-a95a-0ba7c39c5d35"
      },
      "source": [
        "employees = [\"Branden\", \"James\", \"chris\", \"john\", \"Emma\"]\n",
        "list_comprehension = [name for name in employees if name[0].isupper()]\n",
        "print(list_comprehension)"
      ],
      "execution_count": 1,
      "outputs": [
        {
          "output_type": "stream",
          "text": [
            "['Branden', 'James', 'Emma']\n"
          ],
          "name": "stdout"
        }
      ]
    },
    {
      "cell_type": "code",
      "metadata": {
        "colab": {
          "base_uri": "https://localhost:8080/"
        },
        "id": "InBx1k2S_8fM",
        "outputId": "ddd96208-315a-4af9-a60f-02ee7854db98"
      },
      "source": [
        "employees = [\"Branden\", \"James\", \"chris\", \"john\", \"Emma\"]\n",
        "list_ = []\n",
        "for name in employees:\n",
        "    if name[0].isupper():\n",
        "        list_.append(name)\n",
        "print(list_)"
      ],
      "execution_count": 2,
      "outputs": [
        {
          "output_type": "stream",
          "text": [
            "['Branden', 'James', 'Emma']\n"
          ],
          "name": "stdout"
        }
      ]
    },
    {
      "cell_type": "markdown",
      "metadata": {
        "id": "EFNpuZ1dAcw5"
      },
      "source": [
        "# Generator Comprehension"
      ]
    },
    {
      "cell_type": "code",
      "metadata": {
        "colab": {
          "base_uri": "https://localhost:8080/"
        },
        "id": "Gb2RIlO0AJ0X",
        "outputId": "0dacf7e7-7202-4a99-ba6c-d15cdb618674"
      },
      "source": [
        "Entrepreneurs = [\"Branden\", \"James\", \"chris\", \"john\", \"Emma\"]\n",
        "generator_comprehension = (name for name in Entrepreneurs if name[0].isupper())\n",
        "print(generator_comprehension)\n",
        "print(list(generator_comprehension))"
      ],
      "execution_count": 3,
      "outputs": [
        {
          "output_type": "stream",
          "text": [
            "<generator object <genexpr> at 0x7eff1d224c50>\n",
            "['Branden', 'James', 'Emma']\n"
          ],
          "name": "stdout"
        }
      ]
    },
    {
      "cell_type": "markdown",
      "metadata": {
        "id": "DipRddyfAzju"
      },
      "source": [
        "# Set Comprehension"
      ]
    },
    {
      "cell_type": "code",
      "metadata": {
        "colab": {
          "base_uri": "https://localhost:8080/"
        },
        "id": "Ji9AuMG-AjWP",
        "outputId": "66f74e00-929e-475c-c0e2-e28526058de6"
      },
      "source": [
        "nums = [1, 1, 1, 2, 2, 2, 3, 3, 3, 3, 4, 4, 4, 5, 5, 6, 6, 6, 7, 7, 2, 6, 8, 8, 8, 9, 9, 9, 1]\n",
        "list_comprehension = [n for n in nums]\n",
        "print(list_comprehension)\n",
        "\n",
        "nums = [1, 1, 1, 2, 2, 2, 3, 3, 3, 3, 4, 4, 4, 5, 5, 6, 6, 6, 7, 7, 2, 6, 8, 8, 8, 9, 9, 9, 1]\n",
        "set_comprehension = {n for n in nums}\n",
        "print(set_comprehension)"
      ],
      "execution_count": 5,
      "outputs": [
        {
          "output_type": "stream",
          "text": [
            "[1, 1, 1, 2, 2, 2, 3, 3, 3, 3, 4, 4, 4, 5, 5, 6, 6, 6, 7, 7, 2, 6, 8, 8, 8, 9, 9, 9, 1]\n",
            "{1, 2, 3, 4, 5, 6, 7, 8, 9}\n"
          ],
          "name": "stdout"
        }
      ]
    },
    {
      "cell_type": "markdown",
      "metadata": {
        "id": "GIToJGCFCQ2I"
      },
      "source": [
        "# Dictionary Comprehension"
      ]
    },
    {
      "cell_type": "code",
      "metadata": {
        "colab": {
          "base_uri": "https://localhost:8080/"
        },
        "id": "BvaFWoMCBqIe",
        "outputId": "495500db-8efd-48a6-89f3-aee8cbedfa74"
      },
      "source": [
        "employees = [\"Branden\", \"James\", \"chris\", \"john\", \"Emma\"]\n",
        "dict_comprehension = {id: name for id, name in enumerate(employees) if name[0].isupper()}\n",
        "print(dict_comprehension)"
      ],
      "execution_count": 8,
      "outputs": [
        {
          "output_type": "stream",
          "text": [
            "{0: 'Branden', 1: 'James', 4: 'Emma'}\n"
          ],
          "name": "stdout"
        }
      ]
    }
  ]
}