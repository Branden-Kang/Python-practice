{
  "nbformat": 4,
  "nbformat_minor": 0,
  "metadata": {
    "colab": {
      "provenance": [],
      "authorship_tag": "ABX9TyPeDEhtG8MmYfQdXiyRcozs"
    },
    "kernelspec": {
      "name": "python3",
      "display_name": "Python 3"
    },
    "language_info": {
      "name": "python"
    }
  },
  "cells": [
    {
      "cell_type": "markdown",
      "source": [
        "[Reference](https://medium.com/@yaduvanshineelam09/ultimate-python-cheat-sheet-practical-python-for-everyday-tasks-8a33abc0892f)"
      ],
      "metadata": {
        "id": "pCcPZbWSFGW-"
      }
    },
    {
      "cell_type": "markdown",
      "source": [
        "# Working With Files"
      ],
      "metadata": {
        "id": "0ZqHQxpkFKJ0"
      }
    },
    {
      "cell_type": "markdown",
      "source": [
        "## 1. Reading a File"
      ],
      "metadata": {
        "id": "Ozi6d_FAFLKK"
      }
    },
    {
      "cell_type": "code",
      "execution_count": 1,
      "metadata": {
        "id": "kicBr8RTEN7Q"
      },
      "outputs": [],
      "source": [
        "with open('example.txt', 'r') as file:\n",
        "    content = file.read()\n",
        "    print(content)"
      ]
    },
    {
      "cell_type": "markdown",
      "source": [
        "## 2. Writing to a File"
      ],
      "metadata": {
        "id": "Kk76-Q52FOL7"
      }
    },
    {
      "cell_type": "code",
      "source": [
        "with open('example.txt', 'w') as file:\n",
        "    file.write('Hello, Python!')"
      ],
      "metadata": {
        "id": "a-elnlKHFM0z"
      },
      "execution_count": 2,
      "outputs": []
    },
    {
      "cell_type": "markdown",
      "source": [
        "## 3. Appending to a File"
      ],
      "metadata": {
        "id": "_RYr99OJFSjS"
      }
    },
    {
      "cell_type": "code",
      "source": [
        "with open('example.txt', 'a') as file:\n",
        "    file.write('\\nAppend this line.')"
      ],
      "metadata": {
        "id": "-Dyl0EPjFP0i"
      },
      "execution_count": 3,
      "outputs": []
    },
    {
      "cell_type": "markdown",
      "source": [
        "## 4. Reading Lines into a List"
      ],
      "metadata": {
        "id": "9tSVp3ltFU-M"
      }
    },
    {
      "cell_type": "code",
      "source": [
        "with open('example.txt', 'r') as file:\n",
        "    lines = file.readlines()\n",
        "    print(lines)"
      ],
      "metadata": {
        "id": "IBvaLgETFT38"
      },
      "execution_count": 4,
      "outputs": []
    },
    {
      "cell_type": "markdown",
      "source": [
        "## 5. Iterating Over Each Line in a File"
      ],
      "metadata": {
        "id": "CQBx7d8xFXjA"
      }
    },
    {
      "cell_type": "code",
      "source": [
        "with open('example.txt', 'r') as file:\n",
        "    for line in file:\n",
        "        print(line.strip())"
      ],
      "metadata": {
        "id": "Ct7g8wFpFWbY"
      },
      "execution_count": 5,
      "outputs": []
    },
    {
      "cell_type": "markdown",
      "source": [
        "## 6. Checking If a File Exists"
      ],
      "metadata": {
        "id": "D0ejcMCjFaJx"
      }
    },
    {
      "cell_type": "code",
      "source": [
        "import os\n",
        "if os.path.exists('example.txt'):\n",
        "    print('File exists.')\n",
        "else:\n",
        "    print('File does not exist.')"
      ],
      "metadata": {
        "id": "niSKl1RrFY6M"
      },
      "execution_count": 6,
      "outputs": []
    },
    {
      "cell_type": "markdown",
      "source": [
        "## 7. Writing Lists to a File"
      ],
      "metadata": {
        "id": "OA_tvPc2Fep4"
      }
    },
    {
      "cell_type": "code",
      "source": [
        "lines = ['First line', 'Second line', 'Third line']\n",
        "with open('example.txt', 'w') as file:\n",
        "    for line in lines:\n",
        "        file.write(f'{line}\\n')"
      ],
      "metadata": {
        "id": "pALTzMGRFcJo"
      },
      "execution_count": 7,
      "outputs": []
    },
    {
      "cell_type": "markdown",
      "source": [
        "## 8. Using With Blocks for Multiple Files"
      ],
      "metadata": {
        "id": "HBDfjaLDFiij"
      }
    },
    {
      "cell_type": "code",
      "source": [
        "with open('source.txt', 'r') as source, open('destination.txt', 'w') as destination:\n",
        "    content = source.read()\n",
        "    destination.write(content)"
      ],
      "metadata": {
        "id": "VAl9JUuuFhOD"
      },
      "execution_count": 8,
      "outputs": []
    },
    {
      "cell_type": "markdown",
      "source": [
        "## 9. Deleting a File"
      ],
      "metadata": {
        "id": "RKryBEiJFlbi"
      }
    },
    {
      "cell_type": "code",
      "source": [
        "import os\n",
        "if os.path.exists('example.txt'):\n",
        "    os.remove('example.txt')\n",
        "    print('File deleted.')\n",
        "else:\n",
        "    print('File does not exist.')"
      ],
      "metadata": {
        "id": "zMVERJcqFkKg"
      },
      "execution_count": 9,
      "outputs": []
    },
    {
      "cell_type": "markdown",
      "source": [
        "## 10. Reading and Writing Binary Files"
      ],
      "metadata": {
        "id": "Dsl_vSCDFqrD"
      }
    },
    {
      "cell_type": "code",
      "source": [
        "# Reading a binary file\n",
        "with open('image.jpg', 'rb') as file:\n",
        "    content = file.read()\n",
        "# Writing to a binary file\n",
        "with open('copy.jpg', 'wb') as file:\n",
        "    file.write(content)"
      ],
      "metadata": {
        "id": "rMi3Ub3RFo2i"
      },
      "execution_count": 10,
      "outputs": []
    },
    {
      "cell_type": "markdown",
      "source": [
        "# Working With Object Oriented Programming"
      ],
      "metadata": {
        "id": "dAcoLJmHGL5C"
      }
    },
    {
      "cell_type": "markdown",
      "source": [
        "## 1. Defining a Class"
      ],
      "metadata": {
        "id": "jXPT9YxgGM_Y"
      }
    },
    {
      "cell_type": "code",
      "source": [
        "class Wizard:\n",
        "    def __init__(self, name, power):\n",
        "        self.name = name\n",
        "        self.power = power\n",
        "    def cast_spell(self):\n",
        "        print(f\"{self.name} casts a spell with power {self.power}!\")"
      ],
      "metadata": {
        "id": "Bxq1qQNMFxIb"
      },
      "execution_count": 14,
      "outputs": []
    },
    {
      "cell_type": "markdown",
      "source": [
        "## 2. Creating an Instance"
      ],
      "metadata": {
        "id": "9tftHeS4GQhs"
      }
    },
    {
      "cell_type": "code",
      "source": [
        "merlin = Wizard(\"Merlin\", 100)"
      ],
      "metadata": {
        "id": "PVHxmp7RGOPx"
      },
      "execution_count": 15,
      "outputs": []
    },
    {
      "cell_type": "markdown",
      "source": [
        "## 3. Invoking Methods"
      ],
      "metadata": {
        "id": "H3U_Z-c3GS1F"
      }
    },
    {
      "cell_type": "code",
      "source": [
        "merlin.cast_spell()"
      ],
      "metadata": {
        "colab": {
          "base_uri": "https://localhost:8080/"
        },
        "id": "Amhy4LzGGR8h",
        "outputId": "18c195d6-eb11-4161-a49f-4036e6297c1c"
      },
      "execution_count": 16,
      "outputs": [
        {
          "output_type": "stream",
          "name": "stdout",
          "text": [
            "Merlin casts a spell with power 100!\n"
          ]
        }
      ]
    },
    {
      "cell_type": "markdown",
      "source": [
        "## 4. Inheritance"
      ],
      "metadata": {
        "id": "tLd8AMb1GU97"
      }
    },
    {
      "cell_type": "code",
      "source": [
        "class ArchWizard(Wizard):\n",
        "    def __init__(self, name, power, realm):\n",
        "        super().__init__(name, power)\n",
        "        self.realm = realm\n",
        "    def summon_familiar(self):\n",
        "        print(f\"{self.name} summons a familiar from the {self.realm} realm.\")"
      ],
      "metadata": {
        "id": "W4eQpbjCGUA8"
      },
      "execution_count": 17,
      "outputs": []
    },
    {
      "cell_type": "markdown",
      "source": [
        "## 5. Overriding Methods"
      ],
      "metadata": {
        "id": "XEK9M6CJGXfd"
      }
    },
    {
      "cell_type": "code",
      "source": [
        "class Sorcerer(Wizard):\n",
        "    def cast_spell(self):\n",
        "        print(f\"{self.name} casts a powerful dark spell!\")"
      ],
      "metadata": {
        "id": "kX2aqasgGWMG"
      },
      "execution_count": 18,
      "outputs": []
    },
    {
      "cell_type": "markdown",
      "source": [
        "## 6. Polymorphism"
      ],
      "metadata": {
        "id": "ebJCYF8oGZl_"
      }
    },
    {
      "cell_type": "code",
      "source": [
        "def unleash_magic(wizard):\n",
        "    wizard.cast_spell()\n",
        "unleash_magic(merlin)\n",
        "unleash_magic(Sorcerer(\"Voldemort\", 90))"
      ],
      "metadata": {
        "colab": {
          "base_uri": "https://localhost:8080/"
        },
        "id": "KvDyO1cvGYc5",
        "outputId": "e48f6f4e-2b05-4229-cdc9-bc3b654549d1"
      },
      "execution_count": 19,
      "outputs": [
        {
          "output_type": "stream",
          "name": "stdout",
          "text": [
            "Merlin casts a spell with power 100!\n",
            "Voldemort casts a powerful dark spell!\n"
          ]
        }
      ]
    },
    {
      "cell_type": "markdown",
      "source": [
        "## 7. Encapsulation"
      ],
      "metadata": {
        "id": "Arv5g0lUGgDs"
      }
    },
    {
      "cell_type": "code",
      "source": [
        "class Alchemist:\n",
        "    def __init__(self, secret_ingredient):\n",
        "        self.__secret = secret_ingredient\n",
        "    def reveal_secret(self):\n",
        "        print(f\"The secret ingredient is {self.__secret}\")"
      ],
      "metadata": {
        "id": "E2bFath-Gb3u"
      },
      "execution_count": 20,
      "outputs": []
    },
    {
      "cell_type": "markdown",
      "source": [
        "## 8. Composition"
      ],
      "metadata": {
        "id": "pJ7iZyrcGiAj"
      }
    },
    {
      "cell_type": "code",
      "source": [
        "class Spellbook:\n",
        "    def __init__(self, spells):\n",
        "        self.spells = spells\n",
        "class Mage:\n",
        "    def __init__(self, name, spellbook):\n",
        "        self.name = name\n",
        "        self.spellbook = spellbook"
      ],
      "metadata": {
        "id": "XGIdp1OBGhJ6"
      },
      "execution_count": 21,
      "outputs": []
    },
    {
      "cell_type": "markdown",
      "source": [
        "## 9. Class Methods and Static Methods"
      ],
      "metadata": {
        "id": "EgNlbCrsGj5k"
      }
    },
    {
      "cell_type": "code",
      "source": [
        "class Enchanter:\n",
        "    @staticmethod\n",
        "    def enchant(item):\n",
        "        print(f\"{item} is enchanted!\")\n",
        "    @classmethod\n",
        "    def summon(cls):\n",
        "        print(\"A new enchanter is summoned.\")"
      ],
      "metadata": {
        "id": "mRg6HmprGi55"
      },
      "execution_count": 22,
      "outputs": []
    },
    {
      "cell_type": "markdown",
      "source": [
        "## 10. Properties and Setters"
      ],
      "metadata": {
        "id": "CoS2DhyEGmb2"
      }
    },
    {
      "cell_type": "code",
      "source": [
        "class Elementalist:\n",
        "    def __init__(self, element):\n",
        "        self._element = element\n",
        "    @property\n",
        "    def element(self):\n",
        "        return self._element\n",
        "    @element.setter\n",
        "    def element(self, value):\n",
        "        if value in [\"Fire\", \"Water\", \"Earth\", \"Air\"]:\n",
        "            self._element = value\n",
        "        else:\n",
        "            print(\"Invalid element!\")"
      ],
      "metadata": {
        "id": "z4DH_UHAGlhu"
      },
      "execution_count": 25,
      "outputs": []
    }
  ]
}