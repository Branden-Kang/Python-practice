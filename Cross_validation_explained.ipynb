{
  "nbformat": 4,
  "nbformat_minor": 0,
  "metadata": {
    "colab": {
      "provenance": [],
      "collapsed_sections": [],
      "authorship_tag": "ABX9TyNMAwLJyccDnuvxuKhDstel"
    },
    "kernelspec": {
      "name": "python3",
      "display_name": "Python 3"
    },
    "language_info": {
      "name": "python"
    }
  },
  "cells": [
    {
      "cell_type": "markdown",
      "source": [
        "[Reference](https://medium.com/@data.science.enthusiast/cross-validation-explained-a6fe4c0859d5)"
      ],
      "metadata": {
        "id": "VjoFLhTX7Kaa"
      }
    },
    {
      "cell_type": "code",
      "execution_count": 1,
      "metadata": {
        "id": "xKYbybYw7G-r"
      },
      "outputs": [],
      "source": [
        "from sklearn.model_selection import train_test_split \n",
        "from sklearn.linear_model import LogisticRegression \n",
        "import seaborn as sns \n",
        "import matplotlib.pyplot as plt \n",
        "from sklearn.metrics import confusion_matrix, precision_score, recall_score, auc, roc_curve, roc_auc_score, accuracy_score, classification_report\n",
        "from sklearn.preprocessing import MinMaxScaler"
      ]
    },
    {
      "cell_type": "code",
      "source": [
        "# loan = pd.read_csv('../input/preprocessed-lending-club-dataset-v2/mycsvfile.csv', low_memory=True)\n",
        "# X = loan.drop('loan_status', axis=1) \n",
        "# y = loan[['loan_status']] \n",
        "# y = y.values.ravel() \n",
        "# X_train, X_test, y_train, y_test = train_test_split(X, y, test_size=0.25, random_state=42, stratify=y) \n",
        "# scaler = MinMaxScaler() \n",
        "# X_train = scaler.fit_transform(X_train)\n",
        "# X_test = scaler.transform(X_test)\n",
        "\n",
        "# logreg = LogisticRegression()\n",
        "# logreg.fit(X_train, y_train) \n",
        "# y_pred = logreg.predict(X_test) \n",
        "# print('Accuracy of logistic regression classifier on train set: {:.2f}'.format(logreg.score(X_train, y_train))) \n",
        "# print('Accuracy of logistic regression classifier on test set: {:.2f}'.format(logreg.score(X_test, y_test))) \n",
        "# print('Recall of logistic regression classifier on test set: {:.2f}'.format(recall_score(y_test, y_pred))) \n",
        "# print('Precision of logistic regression classifier on test set: {:.2f}'.format(precision_score(y_test, y_pred))) \n",
        "# print('ROC/AUC of logistic regression classifier on test set: {:.2f}'.format(roc_auc_score(y_test, logreg.predict_proba(X_test)[:,1])))\n",
        "\n",
        "# from sklearn.model_selection import KFold from sklearn.model_selection import cross_val_score \n",
        "# kfold = KFold(n_splits=10) \n",
        "# results = cross_val_score(logreg, X_train, y_train, cv=kfold) print(\"Accuracy:%.2f%% (%.2f%%)\" % (results.mean()*100, results.std()*100))\n",
        "\n",
        "# from sklearn.metrics import make_scorer, accuracy_score, precision_score, recall_score, f1_score\n",
        "# from sklearn.model_selection import train_test_split\n",
        "# from sklearn import model_selection\n",
        "# scoring = {'accuracy' : make_scorer(accuracy_score), \n",
        "#            'precision' : make_scorer(precision_score),\n",
        "#            'recall' : make_scorer(recall_score), \n",
        "#            'f1_score' : make_scorer(f1_score)}\n",
        "# kfold_ms = model_selection.KFold(n_splits=10)\n",
        "# results = model_selection.cross_validate(estimator=logreg,\n",
        "#                                           X=X_train,\n",
        "#                                           y=y_train,\n",
        "#                                           cv=kfold_ms,\n",
        "#                                           scoring=scoring)\n",
        "# print(\"Accuracy:%.2f%% (%.2f%%)\" % (results['test_accuracy'].mean()*100, results['test_accuracy'].std()*100))\n",
        "# print(\"Precision:%.2f%% (%.2f%%)\" % (results['test_precision'].mean()*100, results['test_precision'].std()*100))\n",
        "# print(\"Recall:%.2f%% (%.2f%%)\" % (results['test_recall'].mean()*100, results['test_recall'].std()*100))\n",
        "# print(\"F1 Score:%.2f%% (%.2f%%)\" % (results['test_f1_score'].mean()*100, results['test_f1_score'].std()*100))"
      ],
      "metadata": {
        "id": "w9ropaaS7Pq1"
      },
      "execution_count": 2,
      "outputs": []
    },
    {
      "cell_type": "code",
      "source": [
        "# from sklearn.model_selection import cross_val_predict\n",
        "# # to calculate AUC\n",
        "# y_pred_proba = cross_val_predict(logreg, X_train, y_train, cv=kfold, method='predict_proba')\n",
        "# print('ROC/AUC of Logistic Regression classifier on test set: {:.2f}'.format(roc_auc_score(y_test, logreg.predict_proba(X_test)[:,1])))\n",
        "\n",
        "# from sklearn.metrics import confusion_matrix\n",
        "# y_pred = cross_val_predict(logreg, X_train, y_train, cv=kfold)\n",
        "# conf_mat = confusion_matrix(y_train, y_pred)\n",
        "# plt.figure(figsize = (12,8))\n",
        "# sns.set(font_scale=1.4)\n",
        "# ax = sns.heatmap(conf_mat, cmap='Blues',annot=True, fmt='d', square=True,xticklabels=['fully paid (0)', 'charged off (1)'], yticklabels=['fully paid (0)', 'charged off (1)'])\n",
        "# ax.set(xlabel='Predicted', ylabel='Actual')\n",
        "# ax.invert_yaxis()\n",
        "# ax.invert_xaxis()"
      ],
      "metadata": {
        "id": "A6jV_New7lYs"
      },
      "execution_count": 3,
      "outputs": []
    },
    {
      "cell_type": "code",
      "source": [
        "# dataset = loan \n",
        "# skf = StratifiedKFold(n_splits=10) \n",
        "# model = LogisticRegression() \n",
        "# x = loan \n",
        "# y = dataset.loan_status \n",
        "# def training(train, test, fold_no): \n",
        "#   x_train = train.drop(['loan_status'],axis=1) \n",
        "#   y_train = train.loan_status \n",
        "#   x_test = test.drop(['loan_status'],axis=1) \n",
        "#   y_test = test.loan_status \n",
        "#   model.fit(x_train, y_train) \n",
        "#   score = model.score(x_test,y_test) \n",
        "#   print('For Fold {} the accuracy is {}'.format(str(fold_no),score)) \n",
        "# fold_no = 1 \n",
        "# for train_index,test_index in skf.split(x, y): \n",
        "#   train = dataset.iloc[train_index,:] \n",
        "#   test = dataset.iloc[test_index,:] \n",
        "#   training(train, test, fold_no) \n",
        "#   fold_no += 1"
      ],
      "metadata": {
        "id": "aEVX-gnG7mcR"
      },
      "execution_count": 4,
      "outputs": []
    }
  ]
}