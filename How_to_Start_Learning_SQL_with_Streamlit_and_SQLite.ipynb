{
  "nbformat": 4,
  "nbformat_minor": 0,
  "metadata": {
    "colab": {
      "provenance": [],
      "collapsed_sections": [],
      "authorship_tag": "ABX9TyNZMPuiUd6zW4S4j7hY64yQ"
    },
    "kernelspec": {
      "name": "python3",
      "display_name": "Python 3"
    },
    "language_info": {
      "name": "python"
    }
  },
  "cells": [
    {
      "cell_type": "markdown",
      "source": [
        "[Reference](https://medium.com/mlearning-ai/how-to-start-learning-sql-with-streamlit-d3edad7494cd)"
      ],
      "metadata": {
        "id": "MyJJ2k0YECGt"
      }
    },
    {
      "cell_type": "code",
      "execution_count": 1,
      "metadata": {
        "id": "Sx5t3OxyEA-i"
      },
      "outputs": [],
      "source": [
        "# import sqlite3\n",
        "# import streamlit as st\n",
        "# import pandas as pd\n",
        "# import os\n",
        "\n",
        "\n",
        "# def create_connection(db_file):\n",
        "#     \"\"\" create a database connection to the SQLite database\n",
        "#         specified by the db_file\n",
        "#     :param db_file: database file\n",
        "#     :return: Connection object or None\n",
        "#     \"\"\"\n",
        "#     conn = None\n",
        "#     try:\n",
        "#         conn = sqlite3.connect(db_file)\n",
        "#     except Exception as e:\n",
        "#         st.write(e)\n",
        "\n",
        "#     return conn\n",
        "\n",
        "\n",
        "# def create_database():\n",
        "#     st.markdown(\"# Create Database\")\n",
        "\n",
        "#     st.write(\"\"\"A database in SQLite is just a file on same server. \n",
        "#     By convention their names always end in .db\"\"\")\n",
        "\n",
        "\n",
        "#     db_filename = st.text_input(\"DB Filename\")\n",
        "#     create_db = st.button('Create Database')\n",
        "\n",
        "#     if create_db:\n",
        "#         if db_filename.endswith('.db'):\n",
        "#             conn = create_connection(db_filename)\n",
        "#             st.write(conn) # success message?\n",
        "#         else: \n",
        "#             st.write('DB filename must end with .db, please retry.')\n",
        "\n",
        "\n",
        "# def upload_data():\n",
        "#     st.markdown(\"# Upload Data\")\n",
        "#     # https://discuss.streamlit.io/t/uploading-csv-and-excel-files/10866/2\n",
        "#     sqlite_dbs = [file for file in os.listdir('.') if file.endswith('.db')]\n",
        "#     db_filename = st.selectbox('DB Filename', sqlite_dbs)\n",
        "#     table_name = st.text_input('Table Name to Insert')\n",
        "#     conn = create_connection(db_filename)\n",
        "#     uploaded_file = st.file_uploader('Choose a file')\n",
        "#     if uploaded_file is not None:\n",
        "#         #read csv\n",
        "#         try:\n",
        "#             df = pd.read_csv(uploaded_file)\n",
        "#             df.to_sql(name=table_name, con=conn)\n",
        "#             st.write('Data uploaded successfully. These are the first 5 rows.')\n",
        "#             st.dataframe(df.head(5))\n",
        "\n",
        "#         except Exception as e:\n",
        "#             st.write(e)\n",
        "\n",
        "\n",
        "# def run_query():\n",
        "#     st.markdown(\"# Run Query\")\n",
        "#     sqlite_dbs = [file for file in os.listdir('.') if file.endswith('.db')]\n",
        "#     db_filename = st.selectbox('DB Filename', sqlite_dbs)\n",
        "\n",
        "#     query = st.text_area(\"SQL Query\", height=100)\n",
        "#     conn = create_connection(db_filename)\n",
        "\n",
        "#     submitted = st.button('Run Query')\n",
        "\n",
        "#     if submitted:\n",
        "#         try:\n",
        "#             query = conn.execute(query)\n",
        "#             cols = [column[0] for column in query.description]\n",
        "#             results_df= pd.DataFrame.from_records(\n",
        "#                 data = query.fetchall(), \n",
        "#                 columns = cols\n",
        "#             )\n",
        "#             st.dataframe(results_df)\n",
        "#         except Exception as e:\n",
        "#             st.write(e)\n",
        "\n",
        "#     st.sidebar.markdown(\"# Run Query\")\n",
        "\n",
        "# page_names_to_funcs = {\n",
        "#     \"Create Database\": create_database,\n",
        "#     \"Upload Data\": upload_data,\n",
        "#     \"Run Query\": run_query,\n",
        "# }\n",
        "\n",
        "# selected_page = st.sidebar.selectbox(\"Select a page\", page_names_to_funcs.keys())\n",
        "# page_names_to_funcs[selected_page]()"
      ]
    },
    {
      "cell_type": "code",
      "source": [
        "# streamlit run streamlit_sqlite_demo.py"
      ],
      "metadata": {
        "id": "zs2RyEj2EIUL"
      },
      "execution_count": 2,
      "outputs": []
    }
  ]
}