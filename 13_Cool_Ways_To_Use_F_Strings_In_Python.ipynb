{
  "nbformat": 4,
  "nbformat_minor": 0,
  "metadata": {
    "colab": {
      "provenance": [],
      "authorship_tag": "ABX9TyNTMz3wGxda/qm8bidxqvcG"
    },
    "kernelspec": {
      "name": "python3",
      "display_name": "Python 3"
    },
    "language_info": {
      "name": "python"
    }
  },
  "cells": [
    {
      "cell_type": "markdown",
      "source": [
        "[Reference](https://levelup.gitconnected.com/13-cool-ways-to-use-f-strings-in-python-f942db46a0e3)"
      ],
      "metadata": {
        "id": "wyxb1y0sv6_w"
      }
    },
    {
      "cell_type": "code",
      "source": [
        "name = 'lala'\n",
        "age = 5\n",
        "\n",
        "print(f'my name is {name} and my age is {age}')"
      ],
      "metadata": {
        "colab": {
          "base_uri": "https://localhost:8080/"
        },
        "id": "qIGe0d25vFHJ",
        "outputId": "87bd88b9-8593-4199-a13b-ca848b9180c7"
      },
      "execution_count": 9,
      "outputs": [
        {
          "output_type": "stream",
          "name": "stdout",
          "text": [
            "my name is lala and my age is 5\n"
          ]
        }
      ]
    },
    {
      "cell_type": "code",
      "source": [
        "name = 'lala'\n",
        "age = 5\n",
        "\n",
        "print(f'{name=} {age=}')"
      ],
      "metadata": {
        "colab": {
          "base_uri": "https://localhost:8080/"
        },
        "id": "Hk1SSAjivGnn",
        "outputId": "38a6be6c-b0ef-4b36-be83-404a864b57b2"
      },
      "execution_count": 10,
      "outputs": [
        {
          "output_type": "stream",
          "name": "stdout",
          "text": [
            "name='lala' age=5\n"
          ]
        }
      ]
    },
    {
      "cell_type": "code",
      "source": [
        "pi = 3.14159\n",
        "e = 2.71828\n",
        "\n",
        "print(f'{pi:.2f} {e:.4f}')"
      ],
      "metadata": {
        "colab": {
          "base_uri": "https://localhost:8080/"
        },
        "id": "KXtnxvJsvJ5e",
        "outputId": "6d17e035-b8b0-49f1-e617-dee7b4c2ac8c"
      },
      "execution_count": 11,
      "outputs": [
        {
          "output_type": "stream",
          "name": "stdout",
          "text": [
            "3.14 2.7183\n"
          ]
        }
      ]
    },
    {
      "cell_type": "code",
      "source": [
        "x = 'hi'\n",
        "\n",
        "print(f'>{x:<20}<')      # >hi                  <\n",
        "print(f'>{x:^20}<')      # >         hi         <\n",
        "print(f'>{x:>20}<')      # >                  hi<"
      ],
      "metadata": {
        "colab": {
          "base_uri": "https://localhost:8080/"
        },
        "id": "7LorNgeZv_4o",
        "outputId": "492bb4d0-098e-4394-f8ea-83757bd429e6"
      },
      "execution_count": 12,
      "outputs": [
        {
          "output_type": "stream",
          "name": "stdout",
          "text": [
            ">hi                  <\n",
            ">         hi         <\n",
            ">                  hi<\n"
          ]
        }
      ]
    },
    {
      "cell_type": "code",
      "source": [
        "x = 'hi'\n",
        "\n",
        "print(f'>{x:-<20}<')      # >hi------------------<\n",
        "print(f'>{x:=^20}<')      # >=========hi=========<\n",
        "print(f'>{x:x>20}<')      # >xxxxxxxxxxxxxxxxxxhi<"
      ],
      "metadata": {
        "colab": {
          "base_uri": "https://localhost:8080/"
        },
        "id": "68FrMblUwBCX",
        "outputId": "ea6eae88-7519-4ad3-afa5-012a5aa9a301"
      },
      "execution_count": 13,
      "outputs": [
        {
          "output_type": "stream",
          "name": "stdout",
          "text": [
            ">hi------------------<\n",
            ">=========hi=========<\n",
            ">xxxxxxxxxxxxxxxxxxhi<\n"
          ]
        }
      ]
    },
    {
      "cell_type": "code",
      "source": [
        "print(f'{1000:,}')      # 1,000\n",
        "print(f'{10000:,}')     # 10,000\n",
        "print(f'{100000:,}')    # 100,000\n",
        "print(f'{1000000:,}')   # 1,000,000"
      ],
      "metadata": {
        "colab": {
          "base_uri": "https://localhost:8080/"
        },
        "id": "YB5HBMr2wCBN",
        "outputId": "5bab00d5-00dc-4bab-f03a-52e62ce0a34f"
      },
      "execution_count": 14,
      "outputs": [
        {
          "output_type": "stream",
          "name": "stdout",
          "text": [
            "1,000\n",
            "10,000\n",
            "100,000\n",
            "1,000,000\n"
          ]
        }
      ]
    },
    {
      "cell_type": "code",
      "source": [
        "print(f'{0.25:.0%}')    # 25%\n",
        "print(f'{0.5:.1%}')     # 50.0%\n",
        "print(f'{0.75:.2%}')    # 75.00%\n",
        "print(f'{1.5:.3%}')     # 150.000%"
      ],
      "metadata": {
        "colab": {
          "base_uri": "https://localhost:8080/"
        },
        "id": "JDxbaYurwC_q",
        "outputId": "7b4b4f9e-8c60-456e-cd1e-60aef80e17d9"
      },
      "execution_count": 15,
      "outputs": [
        {
          "output_type": "stream",
          "name": "stdout",
          "text": [
            "25%\n",
            "50.0%\n",
            "75.00%\n",
            "150.000%\n"
          ]
        }
      ]
    },
    {
      "cell_type": "code",
      "source": [
        "print(f'{4:+}')      # +4\n",
        "print(f'{-5:+}')     # -5\n",
        "print(f'{3.14:+}')   # +3.14"
      ],
      "metadata": {
        "colab": {
          "base_uri": "https://localhost:8080/"
        },
        "id": "uiuHwYAVwDzp",
        "outputId": "ae68cf55-9555-4b2a-e7ff-8ffb874a2930"
      },
      "execution_count": 16,
      "outputs": [
        {
          "output_type": "stream",
          "name": "stdout",
          "text": [
            "+4\n",
            "-5\n",
            "+3.14\n"
          ]
        }
      ]
    },
    {
      "cell_type": "code",
      "source": [
        "import datetime\n",
        "today = datetime.datetime.today()\n",
        "print(f'{today:%B %d, %Y}')    # April 28, 2023"
      ],
      "metadata": {
        "colab": {
          "base_uri": "https://localhost:8080/"
        },
        "id": "ot-uRN5KwE5U",
        "outputId": "257991e9-65e5-4eb3-f312-18b0e6a65104"
      },
      "execution_count": 17,
      "outputs": [
        {
          "output_type": "stream",
          "name": "stdout",
          "text": [
            "May 08, 2023\n"
          ]
        }
      ]
    },
    {
      "cell_type": "code",
      "source": [
        "name = 'rocky'\n",
        "print(f'my name is {name!r}')"
      ],
      "metadata": {
        "colab": {
          "base_uri": "https://localhost:8080/"
        },
        "id": "KcNbd-W0wFpO",
        "outputId": "35fa90f9-5826-44fd-da76-5b8010766fe0"
      },
      "execution_count": 18,
      "outputs": [
        {
          "output_type": "stream",
          "name": "stdout",
          "text": [
            "my name is 'rocky'\n"
          ]
        }
      ]
    },
    {
      "cell_type": "code",
      "source": [
        "name = 'rocky'\n",
        "print(f'my name is {repr(name)}')"
      ],
      "metadata": {
        "colab": {
          "base_uri": "https://localhost:8080/"
        },
        "id": "augAVgP8wGg6",
        "outputId": "f29bd52c-dd54-4dc5-a099-500906cae014"
      },
      "execution_count": 19,
      "outputs": [
        {
          "output_type": "stream",
          "name": "stdout",
          "text": [
            "my name is 'rocky'\n"
          ]
        }
      ]
    },
    {
      "cell_type": "code",
      "source": [
        "print(f'{9:#0x}')       # 0x9\n",
        "print(f'{10:#0x}')      # 0xa\n",
        "print(f'{11:#0x}')      # 0xb\n",
        "print(f'{12:#0x}')      # 0xc\n",
        "print(f'{13:#0x}')      # 0xd\n",
        "print(f'{14:#0x}')      # 0xe\n",
        "print(f'{15:#0x}')      # 0xf\n",
        "print(f'{16:#0x}')      # 0x10\n",
        "print(f'{17:#0x}')      # 0x11\n",
        "print(f'{100:#0x}')     # 0x64"
      ],
      "metadata": {
        "colab": {
          "base_uri": "https://localhost:8080/"
        },
        "id": "1b3BQIAQwHXu",
        "outputId": "b62cbc4d-b9bc-45a7-d8f3-2b0d92e447b7"
      },
      "execution_count": 20,
      "outputs": [
        {
          "output_type": "stream",
          "name": "stdout",
          "text": [
            "0x9\n",
            "0xa\n",
            "0xb\n",
            "0xc\n",
            "0xd\n",
            "0xe\n",
            "0xf\n",
            "0x10\n",
            "0x11\n",
            "0x64\n"
          ]
        }
      ]
    },
    {
      "cell_type": "code",
      "source": [
        "print(f'{3.14159:.3g}')        # 3.14\n",
        "print(f'{314159:.3g}')         # 3.14e+05\n",
        "print(f'{0.00314159:.3g}')     # 0.00314"
      ],
      "metadata": {
        "colab": {
          "base_uri": "https://localhost:8080/"
        },
        "id": "Rx6xz_ZiwIZn",
        "outputId": "e09cfacc-0535-4fdb-9306-643709a6fa27"
      },
      "execution_count": 21,
      "outputs": [
        {
          "output_type": "stream",
          "name": "stdout",
          "text": [
            "3.14\n",
            "3.14e+05\n",
            "0.00314\n"
          ]
        }
      ]
    },
    {
      "cell_type": "code",
      "source": [
        "print(f'{1:b}')    # 1\n",
        "print(f'{2:b}')    # 10\n",
        "print(f'{4:b}')    # 100\n",
        "print(f'{5:b}')    # 101\n",
        "print(f'{8:b}')    # 1000\n",
        "print(f'{9:b}')    # 1001"
      ],
      "metadata": {
        "colab": {
          "base_uri": "https://localhost:8080/"
        },
        "id": "-nJ17qZUwJvq",
        "outputId": "d446d42c-ac85-4fd4-f4c1-8f6cfbf2d07e"
      },
      "execution_count": 22,
      "outputs": [
        {
          "output_type": "stream",
          "name": "stdout",
          "text": [
            "1\n",
            "10\n",
            "100\n",
            "101\n",
            "1000\n",
            "1001\n"
          ]
        }
      ]
    }
  ]
}