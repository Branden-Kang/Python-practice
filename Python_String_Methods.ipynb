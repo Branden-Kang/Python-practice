{
  "nbformat": 4,
  "nbformat_minor": 0,
  "metadata": {
    "colab": {
      "name": "Python String Methods.ipynb",
      "provenance": [],
      "authorship_tag": "ABX9TyMm3IJnB4qFOJgCKScz3FSE"
    },
    "kernelspec": {
      "name": "python3",
      "display_name": "Python 3"
    }
  },
  "cells": [
    {
      "cell_type": "markdown",
      "metadata": {
        "id": "Z6Nm3VcHq23D",
        "colab_type": "text"
      },
      "source": [
        "# Python String Methods\n",
        "[Reference](https://towardsdatascience.com/useful-string-methods-in-python-5047ea4d3f90)"
      ]
    },
    {
      "cell_type": "code",
      "metadata": {
        "id": "vnZZmBbiqeBa",
        "colab_type": "code",
        "colab": {}
      },
      "source": [
        "from IPython.core.interactiveshell import InteractiveShell  \n",
        "InteractiveShell.ast_node_interactivity = \"all\""
      ],
      "execution_count": 1,
      "outputs": []
    },
    {
      "cell_type": "markdown",
      "metadata": {
        "id": "7Y5t8-cysh7I",
        "colab_type": "text"
      },
      "source": [
        "## 1. center()\n",
        "```\n",
        "str.center(length, fillchar), where :\n",
        "```"
      ]
    },
    {
      "cell_type": "code",
      "metadata": {
        "id": "bhuKZ3dHqhYo",
        "colab_type": "code",
        "colab": {
          "base_uri": "https://localhost:8080/",
          "height": 37
        },
        "outputId": "e3ee5109-ad92-4dc8-8bd3-f21e0ac5e744"
      },
      "source": [
        "sentence = 'algorithm'\n",
        "sentence.center(15,'#')"
      ],
      "execution_count": 2,
      "outputs": [
        {
          "output_type": "execute_result",
          "data": {
            "application/vnd.google.colaboratory.intrinsic": {
              "type": "string"
            },
            "text/plain": [
              "'###algorithm###'"
            ]
          },
          "metadata": {
            "tags": []
          },
          "execution_count": 2
        }
      ]
    },
    {
      "cell_type": "markdown",
      "metadata": {
        "id": "T2RWhUXOsjht",
        "colab_type": "text"
      },
      "source": [
        "## 2. count()\n",
        "\n",
        "```\n",
        "str.count(value, start, end), where :\n",
        "```"
      ]
    },
    {
      "cell_type": "code",
      "metadata": {
        "id": "BFQAHUhhseZd",
        "colab_type": "code",
        "colab": {
          "base_uri": "https://localhost:8080/",
          "height": 34
        },
        "outputId": "8411148c-4643-44bd-e816-2b0b053cc9d3"
      },
      "source": [
        "sentence = 'She sells seashells by the seashore. The shells she sells are surely seashells'\n",
        "sentence.count('seashells')\n",
        "sentence.count('seashells',9,25)"
      ],
      "execution_count": 3,
      "outputs": [
        {
          "output_type": "execute_result",
          "data": {
            "text/plain": [
              "2"
            ]
          },
          "metadata": {
            "tags": []
          },
          "execution_count": 3
        },
        {
          "output_type": "execute_result",
          "data": {
            "text/plain": [
              "1"
            ]
          },
          "metadata": {
            "tags": []
          },
          "execution_count": 3
        }
      ]
    },
    {
      "cell_type": "markdown",
      "metadata": {
        "id": "6iijXIbgsvHR",
        "colab_type": "text"
      },
      "source": [
        "## 3. find()\n",
        "```\n",
        "str.fubd(value, start, end), where :\n",
        "```"
      ]
    },
    {
      "cell_type": "code",
      "metadata": {
        "id": "pCFC4TpVspoW",
        "colab_type": "code",
        "colab": {
          "base_uri": "https://localhost:8080/",
          "height": 34
        },
        "outputId": "66d72175-6c23-46d0-be27-90cd209fac6d"
      },
      "source": [
        "sentence = 'She sells seashells by the seashore. The shells she sells are surely seashells'\n",
        "sentence.find('seashells')\n",
        "sentence.find('seashells',0,9)\n",
        "sentence.find('s',5,10)\n",
        "sentence.rfind('seashells')"
      ],
      "execution_count": 4,
      "outputs": [
        {
          "output_type": "execute_result",
          "data": {
            "text/plain": [
              "10"
            ]
          },
          "metadata": {
            "tags": []
          },
          "execution_count": 4
        },
        {
          "output_type": "execute_result",
          "data": {
            "text/plain": [
              "-1"
            ]
          },
          "metadata": {
            "tags": []
          },
          "execution_count": 4
        },
        {
          "output_type": "execute_result",
          "data": {
            "text/plain": [
              "8"
            ]
          },
          "metadata": {
            "tags": []
          },
          "execution_count": 4
        },
        {
          "output_type": "execute_result",
          "data": {
            "text/plain": [
              "69"
            ]
          },
          "metadata": {
            "tags": []
          },
          "execution_count": 4
        }
      ]
    },
    {
      "cell_type": "markdown",
      "metadata": {
        "id": "v480PzZPs44U",
        "colab_type": "text"
      },
      "source": [
        "## 4. swapcase()\n",
        "```\n",
        "string.swapcase()\n",
        "```"
      ]
    },
    {
      "cell_type": "code",
      "metadata": {
        "id": "jopA_a9ys3dx",
        "colab_type": "code",
        "colab": {
          "base_uri": "https://localhost:8080/",
          "height": 37
        },
        "outputId": "ed8f969c-aacb-4cf4-a380-e91abc2349fb"
      },
      "source": [
        "sentence = 'Queue IS another FUNDAMENTAL data STRucture AND IS a close COUSIN of the STACK'\n",
        "sentence.swapcase()"
      ],
      "execution_count": 5,
      "outputs": [
        {
          "output_type": "execute_result",
          "data": {
            "application/vnd.google.colaboratory.intrinsic": {
              "type": "string"
            },
            "text/plain": [
              "'qUEUE is ANOTHER fundamental DATA strUCTURE and is A CLOSE cousin OF THE stack'"
            ]
          },
          "metadata": {
            "tags": []
          },
          "execution_count": 5
        }
      ]
    },
    {
      "cell_type": "markdown",
      "metadata": {
        "id": "FlLmIVT8tDcZ",
        "colab_type": "text"
      },
      "source": [
        "## 5. startwith() and endswith()\n",
        "```\n",
        "string.startswith(value, start, end)\n",
        "string.endsswith(value, start, end)\n",
        "```"
      ]
    },
    {
      "cell_type": "code",
      "metadata": {
        "id": "I04JuF3Rs-HV",
        "colab_type": "code",
        "colab": {
          "base_uri": "https://localhost:8080/",
          "height": 34
        },
        "outputId": "c685916f-6a00-41ff-8cfe-ccce7f0b80c0"
      },
      "source": [
        "sentence = 'Binary Search is a classic recursive algorithm'\n",
        "sentence.startswith(\"Binary\")\n",
        "sentence.startswith(\"Search\",7,20)"
      ],
      "execution_count": 6,
      "outputs": [
        {
          "output_type": "execute_result",
          "data": {
            "text/plain": [
              "True"
            ]
          },
          "metadata": {
            "tags": []
          },
          "execution_count": 6
        },
        {
          "output_type": "execute_result",
          "data": {
            "text/plain": [
              "True"
            ]
          },
          "metadata": {
            "tags": []
          },
          "execution_count": 6
        }
      ]
    },
    {
      "cell_type": "markdown",
      "metadata": {
        "id": "oNtl4lEKtJU0",
        "colab_type": "text"
      },
      "source": [
        "## 6. split()\n",
        "```\n",
        "string.split(sep, maxsplit)\n",
        "```"
      ]
    },
    {
      "cell_type": "code",
      "metadata": {
        "id": "bgpj7ogVtH7K",
        "colab_type": "code",
        "colab": {
          "base_uri": "https://localhost:8080/",
          "height": 34
        },
        "outputId": "3ec719cd-af33-43f7-c6f9-958f06a6e172"
      },
      "source": [
        "fruits = 'apples, mangoes, bananas, grapes'\n",
        "fruits.split()\n",
        "fruits.split(\",\",maxsplit = 2)"
      ],
      "execution_count": 7,
      "outputs": [
        {
          "output_type": "execute_result",
          "data": {
            "text/plain": [
              "['apples,', 'mangoes,', 'bananas,', 'grapes']"
            ]
          },
          "metadata": {
            "tags": []
          },
          "execution_count": 7
        },
        {
          "output_type": "execute_result",
          "data": {
            "text/plain": [
              "['apples', ' mangoes', ' bananas, grapes']"
            ]
          },
          "metadata": {
            "tags": []
          },
          "execution_count": 7
        }
      ]
    },
    {
      "cell_type": "markdown",
      "metadata": {
        "id": "rvF8C-t4tUt5",
        "colab_type": "text"
      },
      "source": [
        "## 7. String Capitalization\n",
        "\n",
        "### 1. capitalize()\n",
        "\n",
        "```\n",
        "string.capitalize()\n",
        "```"
      ]
    },
    {
      "cell_type": "code",
      "metadata": {
        "id": "Qv60xIbQtUAd",
        "colab_type": "code",
        "colab": {
          "base_uri": "https://localhost:8080/",
          "height": 37
        },
        "outputId": "22d0b664-1404-4b60-9da9-699d3ff679a6"
      },
      "source": [
        "\"san francisco\".capitalize()"
      ],
      "execution_count": 8,
      "outputs": [
        {
          "output_type": "execute_result",
          "data": {
            "application/vnd.google.colaboratory.intrinsic": {
              "type": "string"
            },
            "text/plain": [
              "'San francisco'"
            ]
          },
          "metadata": {
            "tags": []
          },
          "execution_count": 8
        }
      ]
    },
    {
      "cell_type": "markdown",
      "metadata": {
        "id": "c4rTzI1Gte-4",
        "colab_type": "text"
      },
      "source": [
        "### 2. upper( )\n",
        "```\n",
        "string.upper()\n",
        "```"
      ]
    },
    {
      "cell_type": "code",
      "metadata": {
        "id": "6z3jL3SitcZa",
        "colab_type": "code",
        "colab": {
          "base_uri": "https://localhost:8080/",
          "height": 37
        },
        "outputId": "8ad2d502-2f7f-479c-f704-738c6ae3750a"
      },
      "source": [
        "\"san francisco\".upper()"
      ],
      "execution_count": 9,
      "outputs": [
        {
          "output_type": "execute_result",
          "data": {
            "application/vnd.google.colaboratory.intrinsic": {
              "type": "string"
            },
            "text/plain": [
              "'SAN FRANCISCO'"
            ]
          },
          "metadata": {
            "tags": []
          },
          "execution_count": 9
        }
      ]
    },
    {
      "cell_type": "markdown",
      "metadata": {
        "id": "USzUVCFdtlMj",
        "colab_type": "text"
      },
      "source": [
        "### 3. string.title( )\n",
        "```\n",
        "string.title()\n",
        "```"
      ]
    },
    {
      "cell_type": "code",
      "metadata": {
        "id": "_X0wQTo6ti4f",
        "colab_type": "code",
        "colab": {
          "base_uri": "https://localhost:8080/",
          "height": 37
        },
        "outputId": "6ae7fafe-197b-4d08-da8d-978baf277214"
      },
      "source": [
        "\"san francisco\".title()"
      ],
      "execution_count": 10,
      "outputs": [
        {
          "output_type": "execute_result",
          "data": {
            "application/vnd.google.colaboratory.intrinsic": {
              "type": "string"
            },
            "text/plain": [
              "'San Francisco'"
            ]
          },
          "metadata": {
            "tags": []
          },
          "execution_count": 10
        }
      ]
    },
    {
      "cell_type": "markdown",
      "metadata": {
        "id": "NY9ua7zttqSE",
        "colab_type": "text"
      },
      "source": [
        "## 8. ljust( ) and rjust( )\n",
        "```\n",
        "string.rjust/ljust(length, character)\n",
        "```"
      ]
    },
    {
      "cell_type": "code",
      "metadata": {
        "id": "uDWOaKyftoQd",
        "colab_type": "code",
        "colab": {
          "base_uri": "https://localhost:8080/",
          "height": 34
        },
        "outputId": "2820b36b-33c8-491a-a5ed-05fc3c41e6c3"
      },
      "source": [
        "text = 'Binary Search'\n",
        "print(text.rjust(25),\"is a classic recursive algorithm\")"
      ],
      "execution_count": 11,
      "outputs": [
        {
          "output_type": "stream",
          "text": [
            "            Binary Search is a classic recursive algorithm\n"
          ],
          "name": "stdout"
        }
      ]
    },
    {
      "cell_type": "code",
      "metadata": {
        "id": "bpCDv0VDtw26",
        "colab_type": "code",
        "colab": {
          "base_uri": "https://localhost:8080/",
          "height": 34
        },
        "outputId": "ed058776-50cb-4365-8fec-b2dd6b9060f4"
      },
      "source": [
        "text = 'Binary Search'\n",
        "print(text.ljust(25),\"is a classic recursive algorithm\")"
      ],
      "execution_count": 12,
      "outputs": [
        {
          "output_type": "stream",
          "text": [
            "Binary Search             is a classic recursive algorithm\n"
          ],
          "name": "stdout"
        }
      ]
    },
    {
      "cell_type": "markdown",
      "metadata": {
        "id": "_L6dcB2It1tk",
        "colab_type": "text"
      },
      "source": [
        "## 9. strip( ) \n",
        "```\n",
        "string.strip(character)\n",
        "```"
      ]
    },
    {
      "cell_type": "code",
      "metadata": {
        "id": "kvzdiqHXtx3S",
        "colab_type": "code",
        "colab": {
          "base_uri": "https://localhost:8080/",
          "height": 37
        },
        "outputId": "3d58584d-e933-4be4-e38a-441056017144"
      },
      "source": [
        "string = '#.......Section 3.2.1 Issue #32......'\n",
        "string.strip('.#!')"
      ],
      "execution_count": 13,
      "outputs": [
        {
          "output_type": "execute_result",
          "data": {
            "application/vnd.google.colaboratory.intrinsic": {
              "type": "string"
            },
            "text/plain": [
              "'Section 3.2.1 Issue #32'"
            ]
          },
          "metadata": {
            "tags": []
          },
          "execution_count": 13
        }
      ]
    },
    {
      "cell_type": "code",
      "metadata": {
        "id": "TT7n-Dfnt6pa",
        "colab_type": "code",
        "colab": {
          "base_uri": "https://localhost:8080/",
          "height": 37
        },
        "outputId": "c77d1221-e0fd-460b-f0f2-2900d1121e56"
      },
      "source": [
        "string.rstrip('.#!')\n",
        "string.lstrip('.#!')"
      ],
      "execution_count": 14,
      "outputs": [
        {
          "output_type": "execute_result",
          "data": {
            "application/vnd.google.colaboratory.intrinsic": {
              "type": "string"
            },
            "text/plain": [
              "'#.......Section 3.2.1 Issue #32'"
            ]
          },
          "metadata": {
            "tags": []
          },
          "execution_count": 14
        },
        {
          "output_type": "execute_result",
          "data": {
            "application/vnd.google.colaboratory.intrinsic": {
              "type": "string"
            },
            "text/plain": [
              "'Section 3.2.1 Issue #32......'"
            ]
          },
          "metadata": {
            "tags": []
          },
          "execution_count": 14
        }
      ]
    },
    {
      "cell_type": "markdown",
      "metadata": {
        "id": "WiH0i0v3t9DA",
        "colab_type": "text"
      },
      "source": [
        "## 10. zfill( )\n",
        "### Syntax\n",
        "```\n",
        "string.zfill(width)\n",
        "```"
      ]
    },
    {
      "cell_type": "code",
      "metadata": {
        "id": "Yyd45CSqt8fD",
        "colab_type": "code",
        "colab": {
          "base_uri": "https://localhost:8080/",
          "height": 37
        },
        "outputId": "63897a69-2a22-44c9-c04c-e8ccc46bc932"
      },
      "source": [
        "'7'.zfill(3)\n",
        "'-21'.zfill(5)\n",
        "'Python'.zfill(10)\n",
        "'Python'.zfill(3)"
      ],
      "execution_count": 15,
      "outputs": [
        {
          "output_type": "execute_result",
          "data": {
            "application/vnd.google.colaboratory.intrinsic": {
              "type": "string"
            },
            "text/plain": [
              "'007'"
            ]
          },
          "metadata": {
            "tags": []
          },
          "execution_count": 15
        },
        {
          "output_type": "execute_result",
          "data": {
            "application/vnd.google.colaboratory.intrinsic": {
              "type": "string"
            },
            "text/plain": [
              "'-0021'"
            ]
          },
          "metadata": {
            "tags": []
          },
          "execution_count": 15
        },
        {
          "output_type": "execute_result",
          "data": {
            "application/vnd.google.colaboratory.intrinsic": {
              "type": "string"
            },
            "text/plain": [
              "'0000Python'"
            ]
          },
          "metadata": {
            "tags": []
          },
          "execution_count": 15
        },
        {
          "output_type": "execute_result",
          "data": {
            "application/vnd.google.colaboratory.intrinsic": {
              "type": "string"
            },
            "text/plain": [
              "'Python'"
            ]
          },
          "metadata": {
            "tags": []
          },
          "execution_count": 15
        }
      ]
    }
  ]
}