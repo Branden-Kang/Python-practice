{
  "nbformat": 4,
  "nbformat_minor": 0,
  "metadata": {
    "colab": {
      "provenance": [],
      "authorship_tag": "ABX9TyMQA+2pLJZF3GQbxKdUNC1T"
    },
    "kernelspec": {
      "name": "python3",
      "display_name": "Python 3"
    },
    "language_info": {
      "name": "python"
    }
  },
  "cells": [
    {
      "cell_type": "markdown",
      "source": [
        "[Reference](https://awstip.com/usage-of-args-and-kwargs-in-python-extra-example-in-django-46c8fd71d4e1)"
      ],
      "metadata": {
        "id": "Ds9COnABxdL4"
      }
    },
    {
      "cell_type": "code",
      "execution_count": 1,
      "metadata": {
        "id": "RfStfeyxxGgy"
      },
      "outputs": [],
      "source": [
        "def my_func(name, *args):\n",
        "    print(name, args)"
      ]
    },
    {
      "cell_type": "code",
      "source": [
        "my_func('Alex', 'Bob', 'Danny')"
      ],
      "metadata": {
        "colab": {
          "base_uri": "https://localhost:8080/"
        },
        "id": "aYIfcw9uxJak",
        "outputId": "1a461c2a-9578-445f-8be7-1081d9cb5d4a"
      },
      "execution_count": 2,
      "outputs": [
        {
          "output_type": "stream",
          "name": "stdout",
          "text": [
            "Alex ('Bob', 'Danny')\n"
          ]
        }
      ]
    },
    {
      "cell_type": "code",
      "source": [
        "def my_func(name, *args, other_name=None):\n",
        "    print(name, args, other_name)"
      ],
      "metadata": {
        "id": "HC5D7w43xMue"
      },
      "execution_count": 3,
      "outputs": []
    },
    {
      "cell_type": "code",
      "source": [
        "my_func('Alex', 'Bob', 'Danny', other_name='XXXX')"
      ],
      "metadata": {
        "colab": {
          "base_uri": "https://localhost:8080/"
        },
        "id": "iwQyYdBJxQEl",
        "outputId": "1de0eb0e-f31f-4f5c-a897-9e443d00b421"
      },
      "execution_count": 4,
      "outputs": [
        {
          "output_type": "stream",
          "name": "stdout",
          "text": [
            "Alex ('Bob', 'Danny') XXXX\n"
          ]
        }
      ]
    },
    {
      "cell_type": "code",
      "source": [
        "def my_func(name, *args, other_name=None):\n",
        "    print(name, args, other_name)"
      ],
      "metadata": {
        "id": "ErPWmnTfxQgk"
      },
      "execution_count": 5,
      "outputs": []
    },
    {
      "cell_type": "code",
      "source": [
        "my_func('Alex', 'Bob', 'Danny', other_name='XXXX', other_name2='YYYY')"
      ],
      "metadata": {
        "colab": {
          "base_uri": "https://localhost:8080/",
          "height": 215
        },
        "id": "ae7DTHNOxR6Z",
        "outputId": "7553f75c-e882-4d4b-f329-3e43a6f6ec81"
      },
      "execution_count": 6,
      "outputs": [
        {
          "output_type": "error",
          "ename": "TypeError",
          "evalue": "ignored",
          "traceback": [
            "\u001b[0;31m---------------------------------------------------------------------------\u001b[0m",
            "\u001b[0;31mTypeError\u001b[0m                                 Traceback (most recent call last)",
            "\u001b[0;32m<ipython-input-6-9b19340fd0cb>\u001b[0m in \u001b[0;36m<module>\u001b[0;34m\u001b[0m\n\u001b[0;32m----> 1\u001b[0;31m \u001b[0mmy_func\u001b[0m\u001b[0;34m(\u001b[0m\u001b[0;34m'Alex'\u001b[0m\u001b[0;34m,\u001b[0m \u001b[0;34m'Bob'\u001b[0m\u001b[0;34m,\u001b[0m \u001b[0;34m'Danny'\u001b[0m\u001b[0;34m,\u001b[0m \u001b[0mother_name\u001b[0m\u001b[0;34m=\u001b[0m\u001b[0;34m'XXXX'\u001b[0m\u001b[0;34m,\u001b[0m \u001b[0mother_name2\u001b[0m\u001b[0;34m=\u001b[0m\u001b[0;34m'YYYY'\u001b[0m\u001b[0;34m)\u001b[0m\u001b[0;34m\u001b[0m\u001b[0;34m\u001b[0m\u001b[0m\n\u001b[0m",
            "\u001b[0;31mTypeError\u001b[0m: my_func() got an unexpected keyword argument 'other_name2'"
          ]
        }
      ]
    },
    {
      "cell_type": "code",
      "source": [
        "def my_func(name, *args, **kwargs):\n",
        "    print(name, args, kwargs)"
      ],
      "metadata": {
        "id": "2Yz25DxSxS3z"
      },
      "execution_count": 7,
      "outputs": []
    },
    {
      "cell_type": "code",
      "source": [
        "my_func('Alex', 'Bob', 'Danny', other_name='XXXX', other_name2='YYYY')"
      ],
      "metadata": {
        "colab": {
          "base_uri": "https://localhost:8080/"
        },
        "id": "7Hws7mf2xTxV",
        "outputId": "7ea6257c-8c54-4a5f-f6fa-88326a264890"
      },
      "execution_count": 8,
      "outputs": [
        {
          "output_type": "stream",
          "name": "stdout",
          "text": [
            "Alex ('Bob', 'Danny') {'other_name': 'XXXX', 'other_name2': 'YYYY'}\n"
          ]
        }
      ]
    },
    {
      "cell_type": "code",
      "source": [
        "def my_func(name, *args, other_name=None, **kwargs):\n",
        "    print(name, args, other_name, kwargs)"
      ],
      "metadata": {
        "id": "h_H7uaAsxUz-"
      },
      "execution_count": 9,
      "outputs": []
    },
    {
      "cell_type": "code",
      "source": [
        "my_func('Alex', 'Bob', 'Danny', other_name='XXXX', other_name1='YYYY', other_name2='ZZZZ')"
      ],
      "metadata": {
        "colab": {
          "base_uri": "https://localhost:8080/"
        },
        "id": "OhfU3GjpxWPw",
        "outputId": "030dd4a7-90f0-49bc-c31a-5a52b517ea7e"
      },
      "execution_count": 10,
      "outputs": [
        {
          "output_type": "stream",
          "name": "stdout",
          "text": [
            "Alex ('Bob', 'Danny') XXXX {'other_name1': 'YYYY', 'other_name2': 'ZZZZ'}\n"
          ]
        }
      ]
    }
  ]
}