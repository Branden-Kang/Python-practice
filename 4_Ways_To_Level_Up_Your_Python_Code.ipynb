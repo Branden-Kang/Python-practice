{
  "nbformat": 4,
  "nbformat_minor": 0,
  "metadata": {
    "colab": {
      "name": "4 Ways To Level Up Your Python Code.ipynb",
      "provenance": [],
      "authorship_tag": "ABX9TyM7ioy+lrtDiQlZHYulTohK"
    },
    "kernelspec": {
      "name": "python3",
      "display_name": "Python 3"
    },
    "language_info": {
      "name": "python"
    }
  },
  "cells": [
    {
      "cell_type": "markdown",
      "metadata": {
        "id": "R0FDPJFKyogG"
      },
      "source": [
        "[Reference](https://betterprogramming.pub/4-ways-to-level-up-your-python-code-f148a50efeea)\n"
      ]
    },
    {
      "cell_type": "code",
      "metadata": {
        "colab": {
          "base_uri": "https://localhost:8080/"
        },
        "id": "-8rtOd5Rygyq",
        "outputId": "75f402b1-06b0-4f5a-b189-709e2fe2db4d"
      },
      "source": [
        "# Define a collection, such as list:\n",
        "names = ['Nik', 'Jane', 'Katie', 'Jim', 'Luke']\n",
        "\n",
        "# Using the range(len(collection)) method, you'd write:\n",
        "for i in range(len(names)):\n",
        "    print(i, names[i])\n",
        "\n",
        "# Using enumerate, you can define this by writing:\n",
        "for idx, name in enumerate(names):\n",
        "    print(idx, name)"
      ],
      "execution_count": 1,
      "outputs": [
        {
          "output_type": "stream",
          "text": [
            "0 Nik\n",
            "1 Jane\n",
            "2 Katie\n",
            "3 Jim\n",
            "4 Luke\n",
            "0 Nik\n",
            "1 Jane\n",
            "2 Katie\n",
            "3 Jim\n",
            "4 Luke\n"
          ],
          "name": "stdout"
        }
      ]
    },
    {
      "cell_type": "code",
      "metadata": {
        "colab": {
          "base_uri": "https://localhost:8080/"
        },
        "id": "2GzmpAYuysnM",
        "outputId": "ab1b4c62-46fc-4621-c5d3-b7aa8edc9447"
      },
      "source": [
        "# Define a collection, such as list:\n",
        "names = ['Nik', 'Jane', 'Katie', 'Jim', 'Luke']\n",
        "\n",
        "# Using enumerate, you can define this by writing:\n",
        "for idx, name in enumerate(names, start=1):\n",
        "    print(idx, name)"
      ],
      "execution_count": 2,
      "outputs": [
        {
          "output_type": "stream",
          "text": [
            "1 Nik\n",
            "2 Jane\n",
            "3 Katie\n",
            "4 Jim\n",
            "5 Luke\n"
          ],
          "name": "stdout"
        }
      ]
    },
    {
      "cell_type": "code",
      "metadata": {
        "id": "l6Tt1yy-ytlL"
      },
      "source": [
        "nik = {\n",
        "  'age':32,\n",
        "  'gender':'male',\n",
        "  'employed':True,\n",
        "}"
      ],
      "execution_count": 3,
      "outputs": []
    },
    {
      "cell_type": "code",
      "metadata": {
        "colab": {
          "base_uri": "https://localhost:8080/",
          "height": 232
        },
        "id": "RQ9eKnDHywKH",
        "outputId": "e101e46b-0a92-4d0c-bfeb-8bcd9983b76e"
      },
      "source": [
        "nik = {\n",
        "  'age':32,\n",
        "  'gender':'male',\n",
        "  'employed':True,\n",
        "}\n",
        "\n",
        "print(nik['location'])"
      ],
      "execution_count": 4,
      "outputs": [
        {
          "output_type": "error",
          "ename": "KeyError",
          "evalue": "ignored",
          "traceback": [
            "\u001b[0;31m---------------------------------------------------------------------------\u001b[0m",
            "\u001b[0;31mKeyError\u001b[0m                                  Traceback (most recent call last)",
            "\u001b[0;32m<ipython-input-4-3ec7abe3bc31>\u001b[0m in \u001b[0;36m<module>\u001b[0;34m()\u001b[0m\n\u001b[1;32m      5\u001b[0m }\n\u001b[1;32m      6\u001b[0m \u001b[0;34m\u001b[0m\u001b[0m\n\u001b[0;32m----> 7\u001b[0;31m \u001b[0mprint\u001b[0m\u001b[0;34m(\u001b[0m\u001b[0mnik\u001b[0m\u001b[0;34m[\u001b[0m\u001b[0;34m'location'\u001b[0m\u001b[0;34m]\u001b[0m\u001b[0;34m)\u001b[0m\u001b[0;34m\u001b[0m\u001b[0;34m\u001b[0m\u001b[0m\n\u001b[0m",
            "\u001b[0;31mKeyError\u001b[0m: 'location'"
          ]
        }
      ]
    },
    {
      "cell_type": "code",
      "metadata": {
        "colab": {
          "base_uri": "https://localhost:8080/"
        },
        "id": "8eIrjQzryxYY",
        "outputId": "74733dbf-9156-4a8f-b009-06120c44addc"
      },
      "source": [
        "nik = {\n",
        "  'age':32,\n",
        "  'gender':'male',\n",
        "  'employed':True,\n",
        "}\n",
        "\n",
        "print(nik.get('location'))"
      ],
      "execution_count": 5,
      "outputs": [
        {
          "output_type": "stream",
          "text": [
            "None\n"
          ],
          "name": "stdout"
        }
      ]
    },
    {
      "cell_type": "code",
      "metadata": {
        "colab": {
          "base_uri": "https://localhost:8080/"
        },
        "id": "Epq_COu6yzWM",
        "outputId": "168c94ac-b8a4-44a1-ccc5-4fc522358970"
      },
      "source": [
        "names = ['Nik', 'Jane', 'Melissa', 'Doug']\n",
        "ages = [32, 28, 37, 53]\n",
        "gender = ['Male', 'Female', 'Female', 'Male']\n",
        "\n",
        "# Old boring way:\n",
        "for_looped = []\n",
        "for i in range(len(names)):\n",
        "    for_looped.append((names[i], ages[i], gender[i]))\n",
        "\n",
        "print(for_looped)"
      ],
      "execution_count": 6,
      "outputs": [
        {
          "output_type": "stream",
          "text": [
            "[('Nik', 32, 'Male'), ('Jane', 28, 'Female'), ('Melissa', 37, 'Female'), ('Doug', 53, 'Male')]\n"
          ],
          "name": "stdout"
        }
      ]
    },
    {
      "cell_type": "code",
      "metadata": {
        "colab": {
          "base_uri": "https://localhost:8080/"
        },
        "id": "5yEEAM7ry1y_",
        "outputId": "a83d61ff-406b-463e-e9b7-3822fac92ecc"
      },
      "source": [
        "names = ['Nik', 'Jane', 'Melissa', 'Doug']\n",
        "ages = [32, 28, 37, 53]\n",
        "gender = ['Male', 'Female', 'Female', 'Male']\n",
        "\n",
        "# Zipping through lists with zip()\n",
        "zipped = zip(names, ages, gender)\n",
        "zipped_list = list(zipped)\n",
        "\n",
        "print(zipped_list)"
      ],
      "execution_count": 7,
      "outputs": [
        {
          "output_type": "stream",
          "text": [
            "[('Nik', 32, 'Male'), ('Jane', 28, 'Female'), ('Melissa', 37, 'Female'), ('Doug', 53, 'Male')]\n"
          ],
          "name": "stdout"
        }
      ]
    },
    {
      "cell_type": "code",
      "metadata": {
        "colab": {
          "base_uri": "https://localhost:8080/"
        },
        "id": "qZNME3EYy3fG",
        "outputId": "927849bc-6b0c-4e8f-fb81-6a8ec9c83fd5"
      },
      "source": [
        "names = ['Nik', 'Jane', 'Melissa', 'Doug']\n",
        "ages = [32, 28, 37, 53]\n",
        "gender = ['Male', 'Female', 'Female', 'Male']\n",
        "\n",
        "ages = dict(zip(names,ages))\n",
        "\n",
        "print(ages)\n"
      ],
      "execution_count": 8,
      "outputs": [
        {
          "output_type": "stream",
          "text": [
            "{'Nik': 32, 'Jane': 28, 'Melissa': 37, 'Doug': 53}\n"
          ],
          "name": "stdout"
        }
      ]
    },
    {
      "cell_type": "code",
      "metadata": {
        "colab": {
          "base_uri": "https://localhost:8080/"
        },
        "id": "cbx_Pj1Sy5AH",
        "outputId": "ba26b1f3-2673-4643-da3e-085ddcb9cf67"
      },
      "source": [
        "some_variable = \"HELLO!\"\n",
        "\n",
        "print(f\"some_variable={some_variable}\")"
      ],
      "execution_count": 9,
      "outputs": [
        {
          "output_type": "stream",
          "text": [
            "some_variable=HELLO!\n"
          ],
          "name": "stdout"
        }
      ]
    },
    {
      "cell_type": "code",
      "metadata": {
        "colab": {
          "base_uri": "https://localhost:8080/"
        },
        "id": "ckGaG3E7y7RW",
        "outputId": "572d322b-484c-4caf-c8c4-3807cf5d6bf6"
      },
      "source": [
        "some_variable = \"HELLO!\"\n",
        "\n",
        "print(f\"some_variable={some_variable}\")"
      ],
      "execution_count": 11,
      "outputs": [
        {
          "output_type": "stream",
          "text": [
            "some_variable=HELLO!\n"
          ],
          "name": "stdout"
        }
      ]
    }
  ]
}