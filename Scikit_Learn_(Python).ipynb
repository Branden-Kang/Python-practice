{
  "nbformat": 4,
  "nbformat_minor": 0,
  "metadata": {
    "colab": {
      "name": "Scikit-Learn (Python).ipynb",
      "provenance": [],
      "authorship_tag": "ABX9TyNqhX0CxyIQo9TIaXdg9tZT"
    },
    "kernelspec": {
      "name": "python3",
      "display_name": "Python 3"
    }
  },
  "cells": [
    {
      "cell_type": "markdown",
      "metadata": {
        "id": "3lXFJS1AdXf9",
        "colab_type": "text"
      },
      "source": [
        "[Reference](https://levelup.gitconnected.com/scikit-learn-python-6-useful-tricks-for-data-scientists-1a0a502a6aa3)"
      ]
    },
    {
      "cell_type": "code",
      "metadata": {
        "id": "7ntsbnSYdWod",
        "colab_type": "code",
        "colab": {}
      },
      "source": [
        "from sklearn.experimental import enable_iterative_imputer\n",
        "from sklearn.impute import SimpleImputer, KNNImputer\n",
        "from sklearn.datasets import make_classification\n",
        "import pandas as pd\n",
        "X, y = make_classification(n_samples=10, n_features=4, n_classes=2, random_state=123)"
      ],
      "execution_count": 5,
      "outputs": []
    },
    {
      "cell_type": "code",
      "metadata": {
        "id": "BqphqQ5BdaSA",
        "colab_type": "code",
        "colab": {
          "base_uri": "https://localhost:8080/",
          "height": 359
        },
        "outputId": "b680418e-8d01-4e7e-8c3d-d3aa2d4d9fc6"
      },
      "source": [
        "pd.DataFrame(X, columns=['Feature_1', 'Feature_2', 'Feature_3', 'Feature_4'])"
      ],
      "execution_count": 6,
      "outputs": [
        {
          "output_type": "execute_result",
          "data": {
            "text/html": [
              "<div>\n",
              "<style scoped>\n",
              "    .dataframe tbody tr th:only-of-type {\n",
              "        vertical-align: middle;\n",
              "    }\n",
              "\n",
              "    .dataframe tbody tr th {\n",
              "        vertical-align: top;\n",
              "    }\n",
              "\n",
              "    .dataframe thead th {\n",
              "        text-align: right;\n",
              "    }\n",
              "</style>\n",
              "<table border=\"1\" class=\"dataframe\">\n",
              "  <thead>\n",
              "    <tr style=\"text-align: right;\">\n",
              "      <th></th>\n",
              "      <th>Feature_1</th>\n",
              "      <th>Feature_2</th>\n",
              "      <th>Feature_3</th>\n",
              "      <th>Feature_4</th>\n",
              "    </tr>\n",
              "  </thead>\n",
              "  <tbody>\n",
              "    <tr>\n",
              "      <th>0</th>\n",
              "      <td>-0.525038</td>\n",
              "      <td>-0.891119</td>\n",
              "      <td>-1.713221</td>\n",
              "      <td>1.315132</td>\n",
              "    </tr>\n",
              "    <tr>\n",
              "      <th>1</th>\n",
              "      <td>0.350666</td>\n",
              "      <td>0.780601</td>\n",
              "      <td>1.892239</td>\n",
              "      <td>-1.453395</td>\n",
              "    </tr>\n",
              "    <tr>\n",
              "      <th>2</th>\n",
              "      <td>-0.128317</td>\n",
              "      <td>-0.408917</td>\n",
              "      <td>-1.189686</td>\n",
              "      <td>0.914115</td>\n",
              "    </tr>\n",
              "    <tr>\n",
              "      <th>3</th>\n",
              "      <td>1.422256</td>\n",
              "      <td>1.031467</td>\n",
              "      <td>-0.935643</td>\n",
              "      <td>0.724513</td>\n",
              "    </tr>\n",
              "    <tr>\n",
              "      <th>4</th>\n",
              "      <td>-1.043645</td>\n",
              "      <td>-1.322303</td>\n",
              "      <td>-1.594203</td>\n",
              "      <td>1.221731</td>\n",
              "    </tr>\n",
              "    <tr>\n",
              "      <th>5</th>\n",
              "      <td>0.794175</td>\n",
              "      <td>0.935251</td>\n",
              "      <td>0.926843</td>\n",
              "      <td>-0.709606</td>\n",
              "    </tr>\n",
              "    <tr>\n",
              "      <th>6</th>\n",
              "      <td>-0.773266</td>\n",
              "      <td>-0.353686</td>\n",
              "      <td>1.344147</td>\n",
              "      <td>-1.036172</td>\n",
              "    </tr>\n",
              "    <tr>\n",
              "      <th>7</th>\n",
              "      <td>-0.992341</td>\n",
              "      <td>-0.860456</td>\n",
              "      <td>0.084953</td>\n",
              "      <td>-0.068954</td>\n",
              "    </tr>\n",
              "    <tr>\n",
              "      <th>8</th>\n",
              "      <td>-0.152253</td>\n",
              "      <td>0.411750</td>\n",
              "      <td>2.206481</td>\n",
              "      <td>-1.696821</td>\n",
              "    </tr>\n",
              "    <tr>\n",
              "      <th>9</th>\n",
              "      <td>-1.543099</td>\n",
              "      <td>-1.470873</td>\n",
              "      <td>-0.403813</td>\n",
              "      <td>0.304769</td>\n",
              "    </tr>\n",
              "  </tbody>\n",
              "</table>\n",
              "</div>"
            ],
            "text/plain": [
              "   Feature_1  Feature_2  Feature_3  Feature_4\n",
              "0  -0.525038  -0.891119  -1.713221   1.315132\n",
              "1   0.350666   0.780601   1.892239  -1.453395\n",
              "2  -0.128317  -0.408917  -1.189686   0.914115\n",
              "3   1.422256   1.031467  -0.935643   0.724513\n",
              "4  -1.043645  -1.322303  -1.594203   1.221731\n",
              "5   0.794175   0.935251   0.926843  -0.709606\n",
              "6  -0.773266  -0.353686   1.344147  -1.036172\n",
              "7  -0.992341  -0.860456   0.084953  -0.068954\n",
              "8  -0.152253   0.411750   2.206481  -1.696821\n",
              "9  -1.543099  -1.470873  -0.403813   0.304769"
            ]
          },
          "metadata": {
            "tags": []
          },
          "execution_count": 6
        }
      ]
    },
    {
      "cell_type": "code",
      "metadata": {
        "id": "1tdiocAFdf_y",
        "colab_type": "code",
        "colab": {
          "base_uri": "https://localhost:8080/",
          "height": 359
        },
        "outputId": "110a424d-7248-4d92-e57a-0a128e8d0a15"
      },
      "source": [
        "pd.DataFrame(y, columns=['Label'])"
      ],
      "execution_count": 7,
      "outputs": [
        {
          "output_type": "execute_result",
          "data": {
            "text/html": [
              "<div>\n",
              "<style scoped>\n",
              "    .dataframe tbody tr th:only-of-type {\n",
              "        vertical-align: middle;\n",
              "    }\n",
              "\n",
              "    .dataframe tbody tr th {\n",
              "        vertical-align: top;\n",
              "    }\n",
              "\n",
              "    .dataframe thead th {\n",
              "        text-align: right;\n",
              "    }\n",
              "</style>\n",
              "<table border=\"1\" class=\"dataframe\">\n",
              "  <thead>\n",
              "    <tr style=\"text-align: right;\">\n",
              "      <th></th>\n",
              "      <th>Label</th>\n",
              "    </tr>\n",
              "  </thead>\n",
              "  <tbody>\n",
              "    <tr>\n",
              "      <th>0</th>\n",
              "      <td>0</td>\n",
              "    </tr>\n",
              "    <tr>\n",
              "      <th>1</th>\n",
              "      <td>1</td>\n",
              "    </tr>\n",
              "    <tr>\n",
              "      <th>2</th>\n",
              "      <td>0</td>\n",
              "    </tr>\n",
              "    <tr>\n",
              "      <th>3</th>\n",
              "      <td>0</td>\n",
              "    </tr>\n",
              "    <tr>\n",
              "      <th>4</th>\n",
              "      <td>0</td>\n",
              "    </tr>\n",
              "    <tr>\n",
              "      <th>5</th>\n",
              "      <td>1</td>\n",
              "    </tr>\n",
              "    <tr>\n",
              "      <th>6</th>\n",
              "      <td>1</td>\n",
              "    </tr>\n",
              "    <tr>\n",
              "      <th>7</th>\n",
              "      <td>1</td>\n",
              "    </tr>\n",
              "    <tr>\n",
              "      <th>8</th>\n",
              "      <td>1</td>\n",
              "    </tr>\n",
              "    <tr>\n",
              "      <th>9</th>\n",
              "      <td>0</td>\n",
              "    </tr>\n",
              "  </tbody>\n",
              "</table>\n",
              "</div>"
            ],
            "text/plain": [
              "   Label\n",
              "0      0\n",
              "1      1\n",
              "2      0\n",
              "3      0\n",
              "4      0\n",
              "5      1\n",
              "6      1\n",
              "7      1\n",
              "8      1\n",
              "9      0"
            ]
          },
          "metadata": {
            "tags": []
          },
          "execution_count": 7
        }
      ]
    },
    {
      "cell_type": "code",
      "metadata": {
        "id": "CCb7hWoJdu6H",
        "colab_type": "code",
        "colab": {}
      },
      "source": [
        "X = pd.DataFrame(X, columns=['Feature_1', 'Feature_2', 'Feature_3', 'Feature_4'])"
      ],
      "execution_count": 10,
      "outputs": []
    },
    {
      "cell_type": "code",
      "metadata": {
        "id": "E1pEdiRhdiad",
        "colab_type": "code",
        "colab": {
          "base_uri": "https://localhost:8080/",
          "height": 34
        },
        "outputId": "4582551b-edb5-488c-9cce-b6ead17a10a8"
      },
      "source": [
        "print(X.iloc[1,2])"
      ],
      "execution_count": 11,
      "outputs": [
        {
          "output_type": "stream",
          "text": [
            "1.8922386670369293\n"
          ],
          "name": "stdout"
        }
      ]
    },
    {
      "cell_type": "code",
      "metadata": {
        "id": "K4MHHbAQdpJ2",
        "colab_type": "code",
        "colab": {
          "base_uri": "https://localhost:8080/",
          "height": 359
        },
        "outputId": "bb1be4c6-ab26-4b98-dca4-43250ba762c2"
      },
      "source": [
        "X.iloc[1, 2] = float('NaN')\n",
        "X"
      ],
      "execution_count": 12,
      "outputs": [
        {
          "output_type": "execute_result",
          "data": {
            "text/html": [
              "<div>\n",
              "<style scoped>\n",
              "    .dataframe tbody tr th:only-of-type {\n",
              "        vertical-align: middle;\n",
              "    }\n",
              "\n",
              "    .dataframe tbody tr th {\n",
              "        vertical-align: top;\n",
              "    }\n",
              "\n",
              "    .dataframe thead th {\n",
              "        text-align: right;\n",
              "    }\n",
              "</style>\n",
              "<table border=\"1\" class=\"dataframe\">\n",
              "  <thead>\n",
              "    <tr style=\"text-align: right;\">\n",
              "      <th></th>\n",
              "      <th>Feature_1</th>\n",
              "      <th>Feature_2</th>\n",
              "      <th>Feature_3</th>\n",
              "      <th>Feature_4</th>\n",
              "    </tr>\n",
              "  </thead>\n",
              "  <tbody>\n",
              "    <tr>\n",
              "      <th>0</th>\n",
              "      <td>-0.525038</td>\n",
              "      <td>-0.891119</td>\n",
              "      <td>-1.713221</td>\n",
              "      <td>1.315132</td>\n",
              "    </tr>\n",
              "    <tr>\n",
              "      <th>1</th>\n",
              "      <td>0.350666</td>\n",
              "      <td>0.780601</td>\n",
              "      <td>NaN</td>\n",
              "      <td>-1.453395</td>\n",
              "    </tr>\n",
              "    <tr>\n",
              "      <th>2</th>\n",
              "      <td>-0.128317</td>\n",
              "      <td>-0.408917</td>\n",
              "      <td>-1.189686</td>\n",
              "      <td>0.914115</td>\n",
              "    </tr>\n",
              "    <tr>\n",
              "      <th>3</th>\n",
              "      <td>1.422256</td>\n",
              "      <td>1.031467</td>\n",
              "      <td>-0.935643</td>\n",
              "      <td>0.724513</td>\n",
              "    </tr>\n",
              "    <tr>\n",
              "      <th>4</th>\n",
              "      <td>-1.043645</td>\n",
              "      <td>-1.322303</td>\n",
              "      <td>-1.594203</td>\n",
              "      <td>1.221731</td>\n",
              "    </tr>\n",
              "    <tr>\n",
              "      <th>5</th>\n",
              "      <td>0.794175</td>\n",
              "      <td>0.935251</td>\n",
              "      <td>0.926843</td>\n",
              "      <td>-0.709606</td>\n",
              "    </tr>\n",
              "    <tr>\n",
              "      <th>6</th>\n",
              "      <td>-0.773266</td>\n",
              "      <td>-0.353686</td>\n",
              "      <td>1.344147</td>\n",
              "      <td>-1.036172</td>\n",
              "    </tr>\n",
              "    <tr>\n",
              "      <th>7</th>\n",
              "      <td>-0.992341</td>\n",
              "      <td>-0.860456</td>\n",
              "      <td>0.084953</td>\n",
              "      <td>-0.068954</td>\n",
              "    </tr>\n",
              "    <tr>\n",
              "      <th>8</th>\n",
              "      <td>-0.152253</td>\n",
              "      <td>0.411750</td>\n",
              "      <td>2.206481</td>\n",
              "      <td>-1.696821</td>\n",
              "    </tr>\n",
              "    <tr>\n",
              "      <th>9</th>\n",
              "      <td>-1.543099</td>\n",
              "      <td>-1.470873</td>\n",
              "      <td>-0.403813</td>\n",
              "      <td>0.304769</td>\n",
              "    </tr>\n",
              "  </tbody>\n",
              "</table>\n",
              "</div>"
            ],
            "text/plain": [
              "   Feature_1  Feature_2  Feature_3  Feature_4\n",
              "0  -0.525038  -0.891119  -1.713221   1.315132\n",
              "1   0.350666   0.780601        NaN  -1.453395\n",
              "2  -0.128317  -0.408917  -1.189686   0.914115\n",
              "3   1.422256   1.031467  -0.935643   0.724513\n",
              "4  -1.043645  -1.322303  -1.594203   1.221731\n",
              "5   0.794175   0.935251   0.926843  -0.709606\n",
              "6  -0.773266  -0.353686   1.344147  -1.036172\n",
              "7  -0.992341  -0.860456   0.084953  -0.068954\n",
              "8  -0.152253   0.411750   2.206481  -1.696821\n",
              "9  -1.543099  -1.470873  -0.403813   0.304769"
            ]
          },
          "metadata": {
            "tags": []
          },
          "execution_count": 12
        }
      ]
    },
    {
      "cell_type": "code",
      "metadata": {
        "id": "peY3fyxmdxZQ",
        "colab_type": "code",
        "colab": {
          "base_uri": "https://localhost:8080/",
          "height": 359
        },
        "outputId": "e63ef48e-00b1-491e-a506-551bb8bd93d4"
      },
      "source": [
        "imputer_simple = SimpleImputer()\n",
        "\n",
        "pd.DataFrame(imputer_simple.fit_transform(X))"
      ],
      "execution_count": 13,
      "outputs": [
        {
          "output_type": "execute_result",
          "data": {
            "text/html": [
              "<div>\n",
              "<style scoped>\n",
              "    .dataframe tbody tr th:only-of-type {\n",
              "        vertical-align: middle;\n",
              "    }\n",
              "\n",
              "    .dataframe tbody tr th {\n",
              "        vertical-align: top;\n",
              "    }\n",
              "\n",
              "    .dataframe thead th {\n",
              "        text-align: right;\n",
              "    }\n",
              "</style>\n",
              "<table border=\"1\" class=\"dataframe\">\n",
              "  <thead>\n",
              "    <tr style=\"text-align: right;\">\n",
              "      <th></th>\n",
              "      <th>0</th>\n",
              "      <th>1</th>\n",
              "      <th>2</th>\n",
              "      <th>3</th>\n",
              "    </tr>\n",
              "  </thead>\n",
              "  <tbody>\n",
              "    <tr>\n",
              "      <th>0</th>\n",
              "      <td>-0.525038</td>\n",
              "      <td>-0.891119</td>\n",
              "      <td>-1.713221</td>\n",
              "      <td>1.315132</td>\n",
              "    </tr>\n",
              "    <tr>\n",
              "      <th>1</th>\n",
              "      <td>0.350666</td>\n",
              "      <td>0.780601</td>\n",
              "      <td>-0.141571</td>\n",
              "      <td>-1.453395</td>\n",
              "    </tr>\n",
              "    <tr>\n",
              "      <th>2</th>\n",
              "      <td>-0.128317</td>\n",
              "      <td>-0.408917</td>\n",
              "      <td>-1.189686</td>\n",
              "      <td>0.914115</td>\n",
              "    </tr>\n",
              "    <tr>\n",
              "      <th>3</th>\n",
              "      <td>1.422256</td>\n",
              "      <td>1.031467</td>\n",
              "      <td>-0.935643</td>\n",
              "      <td>0.724513</td>\n",
              "    </tr>\n",
              "    <tr>\n",
              "      <th>4</th>\n",
              "      <td>-1.043645</td>\n",
              "      <td>-1.322303</td>\n",
              "      <td>-1.594203</td>\n",
              "      <td>1.221731</td>\n",
              "    </tr>\n",
              "    <tr>\n",
              "      <th>5</th>\n",
              "      <td>0.794175</td>\n",
              "      <td>0.935251</td>\n",
              "      <td>0.926843</td>\n",
              "      <td>-0.709606</td>\n",
              "    </tr>\n",
              "    <tr>\n",
              "      <th>6</th>\n",
              "      <td>-0.773266</td>\n",
              "      <td>-0.353686</td>\n",
              "      <td>1.344147</td>\n",
              "      <td>-1.036172</td>\n",
              "    </tr>\n",
              "    <tr>\n",
              "      <th>7</th>\n",
              "      <td>-0.992341</td>\n",
              "      <td>-0.860456</td>\n",
              "      <td>0.084953</td>\n",
              "      <td>-0.068954</td>\n",
              "    </tr>\n",
              "    <tr>\n",
              "      <th>8</th>\n",
              "      <td>-0.152253</td>\n",
              "      <td>0.411750</td>\n",
              "      <td>2.206481</td>\n",
              "      <td>-1.696821</td>\n",
              "    </tr>\n",
              "    <tr>\n",
              "      <th>9</th>\n",
              "      <td>-1.543099</td>\n",
              "      <td>-1.470873</td>\n",
              "      <td>-0.403813</td>\n",
              "      <td>0.304769</td>\n",
              "    </tr>\n",
              "  </tbody>\n",
              "</table>\n",
              "</div>"
            ],
            "text/plain": [
              "          0         1         2         3\n",
              "0 -0.525038 -0.891119 -1.713221  1.315132\n",
              "1  0.350666  0.780601 -0.141571 -1.453395\n",
              "2 -0.128317 -0.408917 -1.189686  0.914115\n",
              "3  1.422256  1.031467 -0.935643  0.724513\n",
              "4 -1.043645 -1.322303 -1.594203  1.221731\n",
              "5  0.794175  0.935251  0.926843 -0.709606\n",
              "6 -0.773266 -0.353686  1.344147 -1.036172\n",
              "7 -0.992341 -0.860456  0.084953 -0.068954\n",
              "8 -0.152253  0.411750  2.206481 -1.696821\n",
              "9 -1.543099 -1.470873 -0.403813  0.304769"
            ]
          },
          "metadata": {
            "tags": []
          },
          "execution_count": 13
        }
      ]
    },
    {
      "cell_type": "code",
      "metadata": {
        "id": "eOGQw-r4dy8x",
        "colab_type": "code",
        "colab": {
          "base_uri": "https://localhost:8080/",
          "height": 359
        },
        "outputId": "71626829-cada-4445-e8e1-3e3e79060539"
      },
      "source": [
        "imputer_KNN = KNNImputer(n_neighbors=2, weights=\"uniform\")\n",
        "\n",
        "pd.DataFrame(imputer_KNN.fit_transform(X))"
      ],
      "execution_count": 14,
      "outputs": [
        {
          "output_type": "execute_result",
          "data": {
            "text/html": [
              "<div>\n",
              "<style scoped>\n",
              "    .dataframe tbody tr th:only-of-type {\n",
              "        vertical-align: middle;\n",
              "    }\n",
              "\n",
              "    .dataframe tbody tr th {\n",
              "        vertical-align: top;\n",
              "    }\n",
              "\n",
              "    .dataframe thead th {\n",
              "        text-align: right;\n",
              "    }\n",
              "</style>\n",
              "<table border=\"1\" class=\"dataframe\">\n",
              "  <thead>\n",
              "    <tr style=\"text-align: right;\">\n",
              "      <th></th>\n",
              "      <th>0</th>\n",
              "      <th>1</th>\n",
              "      <th>2</th>\n",
              "      <th>3</th>\n",
              "    </tr>\n",
              "  </thead>\n",
              "  <tbody>\n",
              "    <tr>\n",
              "      <th>0</th>\n",
              "      <td>-0.525038</td>\n",
              "      <td>-0.891119</td>\n",
              "      <td>-1.713221</td>\n",
              "      <td>1.315132</td>\n",
              "    </tr>\n",
              "    <tr>\n",
              "      <th>1</th>\n",
              "      <td>0.350666</td>\n",
              "      <td>0.780601</td>\n",
              "      <td>1.566662</td>\n",
              "      <td>-1.453395</td>\n",
              "    </tr>\n",
              "    <tr>\n",
              "      <th>2</th>\n",
              "      <td>-0.128317</td>\n",
              "      <td>-0.408917</td>\n",
              "      <td>-1.189686</td>\n",
              "      <td>0.914115</td>\n",
              "    </tr>\n",
              "    <tr>\n",
              "      <th>3</th>\n",
              "      <td>1.422256</td>\n",
              "      <td>1.031467</td>\n",
              "      <td>-0.935643</td>\n",
              "      <td>0.724513</td>\n",
              "    </tr>\n",
              "    <tr>\n",
              "      <th>4</th>\n",
              "      <td>-1.043645</td>\n",
              "      <td>-1.322303</td>\n",
              "      <td>-1.594203</td>\n",
              "      <td>1.221731</td>\n",
              "    </tr>\n",
              "    <tr>\n",
              "      <th>5</th>\n",
              "      <td>0.794175</td>\n",
              "      <td>0.935251</td>\n",
              "      <td>0.926843</td>\n",
              "      <td>-0.709606</td>\n",
              "    </tr>\n",
              "    <tr>\n",
              "      <th>6</th>\n",
              "      <td>-0.773266</td>\n",
              "      <td>-0.353686</td>\n",
              "      <td>1.344147</td>\n",
              "      <td>-1.036172</td>\n",
              "    </tr>\n",
              "    <tr>\n",
              "      <th>7</th>\n",
              "      <td>-0.992341</td>\n",
              "      <td>-0.860456</td>\n",
              "      <td>0.084953</td>\n",
              "      <td>-0.068954</td>\n",
              "    </tr>\n",
              "    <tr>\n",
              "      <th>8</th>\n",
              "      <td>-0.152253</td>\n",
              "      <td>0.411750</td>\n",
              "      <td>2.206481</td>\n",
              "      <td>-1.696821</td>\n",
              "    </tr>\n",
              "    <tr>\n",
              "      <th>9</th>\n",
              "      <td>-1.543099</td>\n",
              "      <td>-1.470873</td>\n",
              "      <td>-0.403813</td>\n",
              "      <td>0.304769</td>\n",
              "    </tr>\n",
              "  </tbody>\n",
              "</table>\n",
              "</div>"
            ],
            "text/plain": [
              "          0         1         2         3\n",
              "0 -0.525038 -0.891119 -1.713221  1.315132\n",
              "1  0.350666  0.780601  1.566662 -1.453395\n",
              "2 -0.128317 -0.408917 -1.189686  0.914115\n",
              "3  1.422256  1.031467 -0.935643  0.724513\n",
              "4 -1.043645 -1.322303 -1.594203  1.221731\n",
              "5  0.794175  0.935251  0.926843 -0.709606\n",
              "6 -0.773266 -0.353686  1.344147 -1.036172\n",
              "7 -0.992341 -0.860456  0.084953 -0.068954\n",
              "8 -0.152253  0.411750  2.206481 -1.696821\n",
              "9 -1.543099 -1.470873 -0.403813  0.304769"
            ]
          },
          "metadata": {
            "tags": []
          },
          "execution_count": 14
        }
      ]
    },
    {
      "cell_type": "code",
      "metadata": {
        "id": "uJrJLW4Jd6Cd",
        "colab_type": "code",
        "colab": {}
      },
      "source": [
        "from sklearn.model_selection import train_test_split\n",
        "from sklearn.impute import SimpleImputer\n",
        "from sklearn.linear_model import LogisticRegression\n",
        "from sklearn.pipeline import make_pipeline\n",
        "from sklearn.datasets import make_classification\n",
        "import pandas as pd\n",
        "\n",
        "X, y = make_classification(n_samples=25, n_features=4, n_classes=2, random_state=123)\n",
        "\n",
        "X_train, X_test, y_train, y_test = train_test_split(X, y, test_size=0.2, random_state=123)\n",
        "\n",
        "imputer = SimpleImputer()\n",
        "clf = LogisticRegression()\n",
        "\n",
        "pipe = make_pipeline(imputer, clf)"
      ],
      "execution_count": 17,
      "outputs": []
    },
    {
      "cell_type": "code",
      "metadata": {
        "id": "U8mN53x9d-yB",
        "colab_type": "code",
        "colab": {
          "base_uri": "https://localhost:8080/",
          "height": 204
        },
        "outputId": "a7dda8fb-0c8c-4b38-de1c-925535b194aa"
      },
      "source": [
        "pipe.fit(X_train, y_train)\n",
        "\n",
        "y_pred = pipe.predict(X_test)\n",
        "\n",
        "pd.DataFrame({'Prediction': y_pred, 'True': y_test})"
      ],
      "execution_count": 18,
      "outputs": [
        {
          "output_type": "execute_result",
          "data": {
            "text/html": [
              "<div>\n",
              "<style scoped>\n",
              "    .dataframe tbody tr th:only-of-type {\n",
              "        vertical-align: middle;\n",
              "    }\n",
              "\n",
              "    .dataframe tbody tr th {\n",
              "        vertical-align: top;\n",
              "    }\n",
              "\n",
              "    .dataframe thead th {\n",
              "        text-align: right;\n",
              "    }\n",
              "</style>\n",
              "<table border=\"1\" class=\"dataframe\">\n",
              "  <thead>\n",
              "    <tr style=\"text-align: right;\">\n",
              "      <th></th>\n",
              "      <th>Prediction</th>\n",
              "      <th>True</th>\n",
              "    </tr>\n",
              "  </thead>\n",
              "  <tbody>\n",
              "    <tr>\n",
              "      <th>0</th>\n",
              "      <td>0</td>\n",
              "      <td>0</td>\n",
              "    </tr>\n",
              "    <tr>\n",
              "      <th>1</th>\n",
              "      <td>0</td>\n",
              "      <td>0</td>\n",
              "    </tr>\n",
              "    <tr>\n",
              "      <th>2</th>\n",
              "      <td>1</td>\n",
              "      <td>1</td>\n",
              "    </tr>\n",
              "    <tr>\n",
              "      <th>3</th>\n",
              "      <td>1</td>\n",
              "      <td>1</td>\n",
              "    </tr>\n",
              "    <tr>\n",
              "      <th>4</th>\n",
              "      <td>0</td>\n",
              "      <td>1</td>\n",
              "    </tr>\n",
              "  </tbody>\n",
              "</table>\n",
              "</div>"
            ],
            "text/plain": [
              "   Prediction  True\n",
              "0           0     0\n",
              "1           0     0\n",
              "2           1     1\n",
              "3           1     1\n",
              "4           0     1"
            ]
          },
          "metadata": {
            "tags": []
          },
          "execution_count": 18
        }
      ]
    },
    {
      "cell_type": "code",
      "metadata": {
        "id": "aG01JpMKeAJN",
        "colab_type": "code",
        "colab": {
          "base_uri": "https://localhost:8080/",
          "height": 34
        },
        "outputId": "e5447d97-a2d8-4841-af32-23db7dd435b4"
      },
      "source": [
        "import joblib\n",
        "\n",
        "joblib.dump(pipe, 'pipe.joblib')"
      ],
      "execution_count": 20,
      "outputs": [
        {
          "output_type": "execute_result",
          "data": {
            "text/plain": [
              "['pipe.joblib']"
            ]
          },
          "metadata": {
            "tags": []
          },
          "execution_count": 20
        }
      ]
    },
    {
      "cell_type": "code",
      "metadata": {
        "id": "123QLg1seEXz",
        "colab_type": "code",
        "colab": {
          "base_uri": "https://localhost:8080/",
          "height": 34
        },
        "outputId": "1f598826-38eb-4177-9d95-5619793675c2"
      },
      "source": [
        "new_pipe = joblib.load('./pipe.joblib')\n",
        "\n",
        "new_pipe.predict(X_test)"
      ],
      "execution_count": 23,
      "outputs": [
        {
          "output_type": "execute_result",
          "data": {
            "text/plain": [
              "array([0, 0, 1, 1, 0])"
            ]
          },
          "metadata": {
            "tags": []
          },
          "execution_count": 23
        }
      ]
    },
    {
      "cell_type": "code",
      "metadata": {
        "id": "ILL1eTuZeJDq",
        "colab_type": "code",
        "colab": {
          "base_uri": "https://localhost:8080/",
          "height": 279
        },
        "outputId": "358a6d19-fdce-4a9b-8ec9-729a81da0eb0"
      },
      "source": [
        "from sklearn.metrics import plot_confusion_matrix\n",
        "\n",
        "X, y = make_classification(n_samples=1000, n_features=4, n_classes=2, random_state=123)\n",
        "X_train, X_test, y_train, y_test = train_test_split(X, y, test_size=0.2, random_state=123)\n",
        "\n",
        "clf = LogisticRegression()\n",
        "\n",
        "clf.fit(X_train, y_train)\n",
        "\n",
        "confmat = plot_confusion_matrix(clf, X_test, y_test, cmap=\"Blues\")"
      ],
      "execution_count": 25,
      "outputs": [
        {
          "output_type": "display_data",
          "data": {
            "image/png": "[encoded data removed]",
            "text/plain": [
              "<Figure size 432x288 with 2 Axes>"
            ]
          },
          "metadata": {
            "tags": [],
            "needs_background": "light"
          }
        }
      ]
    },
    {
      "cell_type": "code",
      "metadata": {
        "id": "EKidtQq0eNyE",
        "colab_type": "code",
        "colab": {
          "base_uri": "https://localhost:8080/",
          "height": 863
        },
        "outputId": "913ab881-126d-4811-93b9-fa8d8bf0b5d5"
      },
      "source": [
        "from sklearn.tree import DecisionTreeClassifier, plot_tree\n",
        "\n",
        "clf = DecisionTreeClassifier()\n",
        "\n",
        "clf.fit(X_train, y_train)\n",
        "\n",
        "plot_tree(clf, filled=True)"
      ],
      "execution_count": 27,
      "outputs": [
        {
          "output_type": "execute_result",
          "data": {
            "text/plain": [
              "[Text(174.67826086956524, 201.90857142857143, 'X[0] <= -0.135\\ngini = 0.5\\nsamples = 800\\nvalue = [400, 400]'),\n",
              " Text(109.17391304347827, 170.84571428571428, 'X[2] <= 0.923\\ngini = 0.09\\nsamples = 401\\nvalue = [382, 19]'),\n",
              " Text(94.61739130434783, 139.78285714285715, 'X[2] <= 0.765\\ngini = 0.015\\nsamples = 385\\nvalue = [382, 3]'),\n",
              " Text(58.22608695652174, 108.72, 'X[2] <= -0.993\\ngini = 0.01\\nsamples = 381\\nvalue = [379, 2]'),\n",
              " Text(29.11304347826087, 77.65714285714284, 'X[2] <= -0.996\\ngini = 0.038\\nsamples = 51\\nvalue = [50, 1]'),\n",
              " Text(14.556521739130435, 46.59428571428572, 'gini = 0.0\\nsamples = 50\\nvalue = [50, 0]'),\n",
              " Text(43.66956521739131, 46.59428571428572, 'gini = 0.0\\nsamples = 1\\nvalue = [0, 1]'),\n",
              " Text(87.33913043478262, 77.65714285714284, 'X[3] <= -0.777\\ngini = 0.006\\nsamples = 330\\nvalue = [329, 1]'),\n",
              " Text(72.78260869565217, 46.59428571428572, 'X[3] <= -0.78\\ngini = 0.022\\nsamples = 88\\nvalue = [87, 1]'),\n",
              " Text(58.22608695652174, 15.531428571428563, 'gini = 0.0\\nsamples = 87\\nvalue = [87, 0]'),\n",
              " Text(87.33913043478262, 15.531428571428563, 'gini = 0.0\\nsamples = 1\\nvalue = [0, 1]'),\n",
              " Text(101.89565217391305, 46.59428571428572, 'gini = 0.0\\nsamples = 242\\nvalue = [242, 0]'),\n",
              " Text(131.0086956521739, 108.72, 'X[0] <= -1.37\\ngini = 0.375\\nsamples = 4\\nvalue = [3, 1]'),\n",
              " Text(116.45217391304348, 77.65714285714284, 'gini = 0.0\\nsamples = 3\\nvalue = [3, 0]'),\n",
              " Text(145.56521739130434, 77.65714285714284, 'gini = 0.0\\nsamples = 1\\nvalue = [0, 1]'),\n",
              " Text(123.7304347826087, 139.78285714285715, 'gini = 0.0\\nsamples = 16\\nvalue = [0, 16]'),\n",
              " Text(240.1826086956522, 170.84571428571428, 'X[0] <= 0.302\\ngini = 0.086\\nsamples = 399\\nvalue = [18, 381]'),\n",
              " Text(203.7913043478261, 139.78285714285715, 'X[2] <= 0.816\\ngini = 0.449\\nsamples = 47\\nvalue = [16, 31]'),\n",
              " Text(189.23478260869567, 108.72, 'X[2] <= -0.827\\ngini = 0.49\\nsamples = 28\\nvalue = [16, 12]'),\n",
              " Text(174.67826086956524, 77.65714285714284, 'gini = 0.0\\nsamples = 10\\nvalue = [0, 10]'),\n",
              " Text(203.7913043478261, 77.65714285714284, 'X[1] <= -0.709\\ngini = 0.198\\nsamples = 18\\nvalue = [16, 2]'),\n",
              " Text(189.23478260869567, 46.59428571428572, 'X[0] <= -0.03\\ngini = 0.444\\nsamples = 3\\nvalue = [1, 2]'),\n",
              " Text(174.67826086956524, 15.531428571428563, 'gini = 0.0\\nsamples = 1\\nvalue = [1, 0]'),\n",
              " Text(203.7913043478261, 15.531428571428563, 'gini = 0.0\\nsamples = 2\\nvalue = [0, 2]'),\n",
              " Text(218.34782608695653, 46.59428571428572, 'gini = 0.0\\nsamples = 15\\nvalue = [15, 0]'),\n",
              " Text(218.34782608695653, 108.72, 'gini = 0.0\\nsamples = 19\\nvalue = [0, 19]'),\n",
              " Text(276.5739130434783, 139.78285714285715, 'X[0] <= 0.424\\ngini = 0.011\\nsamples = 352\\nvalue = [2, 350]'),\n",
              " Text(247.4608695652174, 108.72, 'X[0] <= 0.424\\ngini = 0.08\\nsamples = 24\\nvalue = [1, 23]'),\n",
              " Text(232.90434782608696, 77.65714285714284, 'gini = 0.0\\nsamples = 23\\nvalue = [0, 23]'),\n",
              " Text(262.0173913043478, 77.65714285714284, 'gini = 0.0\\nsamples = 1\\nvalue = [1, 0]'),\n",
              " Text(305.68695652173915, 108.72, 'X[3] <= 0.017\\ngini = 0.006\\nsamples = 328\\nvalue = [1, 327]'),\n",
              " Text(291.1304347826087, 77.65714285714284, 'X[3] <= 0.016\\ngini = 0.019\\nsamples = 102\\nvalue = [1, 101]'),\n",
              " Text(276.5739130434783, 46.59428571428572, 'gini = 0.0\\nsamples = 101\\nvalue = [0, 101]'),\n",
              " Text(305.68695652173915, 46.59428571428572, 'gini = 0.0\\nsamples = 1\\nvalue = [1, 0]'),\n",
              " Text(320.24347826086955, 77.65714285714284, 'gini = 0.0\\nsamples = 226\\nvalue = [0, 226]')]"
            ]
          },
          "metadata": {
            "tags": []
          },
          "execution_count": 27
        },
        {
          "output_type": "display_data",
          "data": {
            "image/png": "[encoded data removed]",
            "text/plain": [
              "<Figure size 432x288 with 1 Axes>"
            ]
          },
          "metadata": {
            "tags": [],
            "needs_background": "light"
          }
        }
      ]
    }
  ]
}