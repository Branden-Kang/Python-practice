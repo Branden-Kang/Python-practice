{
  "nbformat": 4,
  "nbformat_minor": 0,
  "metadata": {
    "colab": {
      "name": "Python Virtual Environment.ipynb",
      "provenance": [],
      "authorship_tag": "ABX9TyPq/7bBAPCutKqe59MFebtL"
    },
    "kernelspec": {
      "name": "python3",
      "display_name": "Python 3"
    }
  },
  "cells": [
    {
      "cell_type": "markdown",
      "metadata": {
        "id": "nqvG5uYHJfse"
      },
      "source": [
        "[Reference](https://medium.com/@atufashireen/python-virtual-environment-c397c89a6f06)"
      ]
    },
    {
      "cell_type": "code",
      "metadata": {
        "id": "5U1Jz_J4_jgG",
        "outputId": "506e6b39-8a74-400e-ab4e-ec0e69ef7852",
        "colab": {
          "base_uri": "https://localhost:8080/",
          "height": 51
        }
      },
      "source": [
        "!pip install -q atlassian-python-api"
      ],
      "execution_count": 1,
      "outputs": [
        {
          "output_type": "stream",
          "text": [
            "\u001b[?25l\r\u001b[K     |████                            | 10kB 20.8MB/s eta 0:00:01\r\u001b[K     |███████▉                        | 20kB 2.9MB/s eta 0:00:01\r\u001b[K     |███████████▉                    | 30kB 3.5MB/s eta 0:00:01\r\u001b[K     |███████████████▊                | 40kB 3.7MB/s eta 0:00:01\r\u001b[K     |███████████████████▊            | 51kB 3.3MB/s eta 0:00:01\r\u001b[K     |███████████████████████▋        | 61kB 3.6MB/s eta 0:00:01\r\u001b[K     |███████████████████████████▋    | 71kB 3.9MB/s eta 0:00:01\r\u001b[K     |███████████████████████████████▌| 81kB 4.2MB/s eta 0:00:01\r\u001b[K     |████████████████████████████████| 92kB 3.3MB/s \n",
            "\u001b[?25h  Building wheel for atlassian-python-api (setup.py) ... \u001b[?25l\u001b[?25hdone\n"
          ],
          "name": "stdout"
        }
      ]
    },
    {
      "cell_type": "markdown",
      "metadata": {
        "id": "1FU3dXLhJmCX"
      },
      "source": [
        "A virtual environment is a method which helps different projects separate and make its setting easier."
      ]
    },
    {
      "cell_type": "code",
      "metadata": {
        "id": "z7kdKtLA_sf0",
        "outputId": "f673f5bc-9439-4291-c985-ece1b9ba17f3",
        "colab": {
          "base_uri": "https://localhost:8080/",
          "height": 309
        }
      },
      "source": [
        "!pip install virtualenv"
      ],
      "execution_count": 6,
      "outputs": [
        {
          "output_type": "stream",
          "text": [
            "Collecting virtualenv\n",
            "\u001b[?25l  Downloading https://files.pythonhosted.org/packages/be/98/8c548c1b11391695c9de2660a289bedfb7c2784651e9f93449159ca8bf81/virtualenv-20.0.33-py2.py3-none-any.whl (4.9MB)\n",
            "\u001b[K     |████████████████████████████████| 4.9MB 4.4MB/s \n",
            "\u001b[?25hCollecting distlib<1,>=0.3.1\n",
            "\u001b[?25l  Downloading https://files.pythonhosted.org/packages/f5/0a/490fa011d699bb5a5f3a0cf57de82237f52a6db9d40f33c53b2736c9a1f9/distlib-0.3.1-py2.py3-none-any.whl (335kB)\n",
            "\u001b[K     |████████████████████████████████| 337kB 31.5MB/s \n",
            "\u001b[?25hRequirement already satisfied: filelock<4,>=3.0.0 in /usr/local/lib/python3.6/dist-packages (from virtualenv) (3.0.12)\n",
            "Requirement already satisfied: importlib-metadata<3,>=0.12; python_version < \"3.8\" in /usr/local/lib/python3.6/dist-packages (from virtualenv) (2.0.0)\n",
            "Requirement already satisfied: six<2,>=1.9.0 in /usr/local/lib/python3.6/dist-packages (from virtualenv) (1.15.0)\n",
            "Collecting importlib-resources>=1.0; python_version < \"3.7\"\n",
            "  Downloading https://files.pythonhosted.org/packages/ba/03/0f9595c0c2ef12590877f3c47e5f579759ce5caf817f8256d5dcbd8a1177/importlib_resources-3.0.0-py2.py3-none-any.whl\n",
            "Collecting appdirs<2,>=1.4.3\n",
            "  Downloading https://files.pythonhosted.org/packages/3b/00/2344469e2084fb287c2e0b57b72910309874c3245463acd6cf5e3db69324/appdirs-1.4.4-py2.py3-none-any.whl\n",
            "Requirement already satisfied: zipp>=0.5 in /usr/local/lib/python3.6/dist-packages (from importlib-metadata<3,>=0.12; python_version < \"3.8\"->virtualenv) (3.2.0)\n",
            "Installing collected packages: distlib, importlib-resources, appdirs, virtualenv\n",
            "Successfully installed appdirs-1.4.4 distlib-0.3.1 importlib-resources-3.0.0 virtualenv-20.0.33\n"
          ],
          "name": "stdout"
        }
      ]
    },
    {
      "cell_type": "code",
      "metadata": {
        "id": "nYUIRSKC_wo-",
        "outputId": "c2459dc5-bb0f-4e0a-f137-a1a1544c61ec",
        "colab": {
          "base_uri": "https://localhost:8080/",
          "height": 54
        }
      },
      "source": [
        "!virtualenv --version"
      ],
      "execution_count": 8,
      "outputs": [
        {
          "output_type": "stream",
          "text": [
            "virtualenv 20.0.33 from /usr/local/lib/python3.6/dist-packages/virtualenv/__init__.py\n"
          ],
          "name": "stdout"
        }
      ]
    },
    {
      "cell_type": "code",
      "metadata": {
        "id": "KrrhLCo__zHO",
        "outputId": "576d60b2-7b08-4ab3-84cb-97735a7ec7ef",
        "colab": {
          "base_uri": "https://localhost:8080/",
          "height": 122
        }
      },
      "source": [
        "!virtualenv my_name"
      ],
      "execution_count": 9,
      "outputs": [
        {
          "output_type": "stream",
          "text": [
            "created virtual environment CPython3.6.9.final.0-64 in 725ms\n",
            "  creator CPython3Posix(dest=/content/my_name, clear=False, global=False)\n",
            "  seeder FromAppData(download=False, pip=bundle, setuptools=bundle, wheel=bundle, via=copy, app_data_dir=/root/.local/share/virtualenv)\n",
            "    added seed packages: pip==20.2.3, setuptools==50.3.0, wheel==0.35.1\n",
            "  activators BashActivator,CShellActivator,FishActivator,PowerShellActivator,PythonActivator,XonshActivator\n"
          ],
          "name": "stdout"
        }
      ]
    },
    {
      "cell_type": "code",
      "metadata": {
        "id": "GLIpniyEJ-tF",
        "outputId": "274a4bf0-841d-4b1e-fc1d-55921e3d0671",
        "colab": {
          "base_uri": "https://localhost:8080/",
          "height": 122
        }
      },
      "source": [
        "!virtualenv -p /usr/bin/python3 my_name"
      ],
      "execution_count": 10,
      "outputs": [
        {
          "output_type": "stream",
          "text": [
            "created virtual environment CPython3.6.9.final.0-64 in 262ms\n",
            "  creator CPython3Posix(dest=/content/my_name, clear=False, global=False)\n",
            "  seeder FromAppData(download=False, pip=bundle, setuptools=bundle, wheel=bundle, via=copy, app_data_dir=/root/.local/share/virtualenv)\n",
            "    added seed packages: pip==20.2.3, setuptools==50.3.0, wheel==0.35.1\n",
            "  activators BashActivator,CShellActivator,FishActivator,PowerShellActivator,PythonActivator,XonshActivator\n"
          ],
          "name": "stdout"
        }
      ]
    },
    {
      "cell_type": "code",
      "metadata": {
        "id": "OBbDKsb1KMG0"
      },
      "source": [
        "!source my_name/bin/activate"
      ],
      "execution_count": 11,
      "outputs": []
    },
    {
      "cell_type": "markdown",
      "metadata": {
        "id": "3hlcO7nIKebH"
      },
      "source": [
        "```python\n",
        "(my_name)$ pip install Django==1.9\n",
        "```"
      ]
    },
    {
      "cell_type": "code",
      "metadata": {
        "id": "ixKD3gE9KYYv",
        "outputId": "214d10d5-06ea-45bf-a6c5-d2e889f3f016",
        "colab": {
          "base_uri": "https://localhost:8080/",
          "height": 34
        }
      },
      "source": [
        "!deactivate"
      ],
      "execution_count": 12,
      "outputs": [
        {
          "output_type": "stream",
          "text": [
            "/bin/bash: deactivate: command not found\n"
          ],
          "name": "stdout"
        }
      ]
    }
  ]
}