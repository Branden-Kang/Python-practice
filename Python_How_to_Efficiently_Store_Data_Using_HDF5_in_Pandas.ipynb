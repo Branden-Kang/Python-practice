{
  "nbformat": 4,
  "nbformat_minor": 0,
  "metadata": {
    "colab": {
      "provenance": [],
      "authorship_tag": "ABX9TyNftkCMLre00R6jo4P0EaR1"
    },
    "kernelspec": {
      "name": "python3",
      "display_name": "Python 3"
    },
    "language_info": {
      "name": "python"
    }
  },
  "cells": [
    {
      "cell_type": "markdown",
      "source": [
        "[Reference](https://medium.com/@tubelwj/how-to-efficiently-store-data-using-hdf5-in-pandas-e884ea608322)"
      ],
      "metadata": {
        "id": "BTJ2-JLEDwv3"
      }
    },
    {
      "cell_type": "code",
      "execution_count": 1,
      "metadata": {
        "colab": {
          "base_uri": "https://localhost:8080/"
        },
        "id": "seBpWRxSDu6s",
        "outputId": "c3df68f6-c80e-457e-f252-4ecdc55ba8f0"
      },
      "outputs": [
        {
          "output_type": "stream",
          "name": "stdout",
          "text": [
            "<class 'pandas.io.pytables.HDFStore'>\n",
            "File path: example.h5\n",
            "\n"
          ]
        }
      ],
      "source": [
        "import pandas as pd\n",
        "\n",
        "store = pd.HDFStore('example.h5',mode='w')\n",
        "print(store)"
      ]
    },
    {
      "cell_type": "code",
      "source": [
        "import numpy as np\n",
        "\n",
        "# create a series data object\n",
        "s = pd.Series(np.random.randn(10),index=['1','2','3','4','5','6','7','8','9','10'])\n",
        "print(s)"
      ],
      "metadata": {
        "colab": {
          "base_uri": "https://localhost:8080/"
        },
        "id": "JLqi-6ZqD0yK",
        "outputId": "8aedf7b3-3a11-41ab-f852-ccfb62a5c8d6"
      },
      "execution_count": 2,
      "outputs": [
        {
          "output_type": "stream",
          "name": "stdout",
          "text": [
            "1     0.976726\n",
            "2    -0.793165\n",
            "3     1.526609\n",
            "4    -1.369282\n",
            "5     0.430611\n",
            "6    -0.168730\n",
            "7    -0.597328\n",
            "8     0.278360\n",
            "9    -0.121097\n",
            "10   -0.461608\n",
            "dtype: float64\n"
          ]
        }
      ]
    },
    {
      "cell_type": "code",
      "source": [
        "# create a dataframe object\n",
        "df = pd.DataFrame(np.random.randn(20, 3),\n",
        "                 columns=['col-1', 'col-2', 'col-3'])\n",
        "print(df)"
      ],
      "metadata": {
        "colab": {
          "base_uri": "https://localhost:8080/"
        },
        "id": "1hDEN09ND1p6",
        "outputId": "2e34af67-92db-4478-817f-eff5bd3aff33"
      },
      "execution_count": 4,
      "outputs": [
        {
          "output_type": "stream",
          "name": "stdout",
          "text": [
            "       col-1     col-2     col-3\n",
            "0  -1.137646  0.227373 -2.133855\n",
            "1   0.042914 -1.811884 -0.519628\n",
            "2  -0.825642  0.283054 -0.164526\n",
            "3   1.055442 -0.472779  0.209853\n",
            "4  -0.366718 -1.380333 -1.708436\n",
            "5   0.563197  1.358584 -0.911532\n",
            "6  -0.895523  1.856758 -0.002671\n",
            "7  -0.550381 -0.901912  0.802584\n",
            "8   0.992914  1.649688  0.797544\n",
            "9  -0.049256 -0.026693  0.749874\n",
            "10 -0.335003 -0.604986 -0.202995\n",
            "11 -1.013000 -0.162675 -0.122958\n",
            "12 -2.394313  0.203914 -0.355097\n",
            "13  0.267504 -0.072416  0.751368\n",
            "14  0.960970  2.013179 -0.829203\n",
            "15 -0.419807  1.197628  0.802148\n",
            "16 -0.602466 -1.545044  1.494019\n",
            "17 -1.240532  1.334418  1.579872\n",
            "18 -1.393093  1.714403 -2.760557\n",
            "19  0.418806 -0.865781  0.891172\n"
          ]
        }
      ]
    },
    {
      "cell_type": "code",
      "source": [
        "store['s'] = s\n",
        "store['df'] = df"
      ],
      "metadata": {
        "id": "1mAwXe2nD3c3"
      },
      "execution_count": 5,
      "outputs": []
    },
    {
      "cell_type": "code",
      "source": [
        "print(store.items)"
      ],
      "metadata": {
        "id": "itg4ivSSD69R"
      },
      "execution_count": 6,
      "outputs": []
    },
    {
      "cell_type": "code",
      "source": [
        "print(store['df'])"
      ],
      "metadata": {
        "colab": {
          "base_uri": "https://localhost:8080/"
        },
        "id": "vbjv1WY-D8Kz",
        "outputId": "4808b964-e27a-4a5a-a0dc-7bbd690fe97b"
      },
      "execution_count": 7,
      "outputs": [
        {
          "output_type": "stream",
          "name": "stdout",
          "text": [
            "       col-1     col-2     col-3\n",
            "0  -1.137646  0.227373 -2.133855\n",
            "1   0.042914 -1.811884 -0.519628\n",
            "2  -0.825642  0.283054 -0.164526\n",
            "3   1.055442 -0.472779  0.209853\n",
            "4  -0.366718 -1.380333 -1.708436\n",
            "5   0.563197  1.358584 -0.911532\n",
            "6  -0.895523  1.856758 -0.002671\n",
            "7  -0.550381 -0.901912  0.802584\n",
            "8   0.992914  1.649688  0.797544\n",
            "9  -0.049256 -0.026693  0.749874\n",
            "10 -0.335003 -0.604986 -0.202995\n",
            "11 -1.013000 -0.162675 -0.122958\n",
            "12 -2.394313  0.203914 -0.355097\n",
            "13  0.267504 -0.072416  0.751368\n",
            "14  0.960970  2.013179 -0.829203\n",
            "15 -0.419807  1.197628  0.802148\n",
            "16 -0.602466 -1.545044  1.494019\n",
            "17 -1.240532  1.334418  1.579872\n",
            "18 -1.393093  1.714403 -2.760557\n",
            "19  0.418806 -0.865781  0.891172\n"
          ]
        }
      ]
    },
    {
      "cell_type": "code",
      "source": [
        "store.remove('s')"
      ],
      "metadata": {
        "id": "NWfzfBxpErFW"
      },
      "execution_count": 8,
      "outputs": []
    },
    {
      "cell_type": "code",
      "source": [
        "# Create a new DataFrame\n",
        "df_ = pd.DataFrame(np.random.randn(8, 8))\n",
        "\n",
        "# Export to an existing HDF5 file, a key must be specified here\n",
        "df_.to_hdf(path_or_buf='example.h5', key='new_df_key')\n",
        "\n",
        "# Create a store object to connect to the local example.h5 file for I/O operations\n",
        "store = pd.HDFStore('example.h5')\n",
        "\n",
        "# View all keys in the specified HDF5 file\n",
        "print(store.keys())"
      ],
      "metadata": {
        "colab": {
          "base_uri": "https://localhost:8080/"
        },
        "id": "PuYNYt2-EuD_",
        "outputId": "ac0f636a-6fed-4cb5-b827-40e022a1470f"
      },
      "execution_count": 10,
      "outputs": [
        {
          "output_type": "stream",
          "name": "stdout",
          "text": [
            "['/df', '/new_df_key']\n"
          ]
        }
      ]
    },
    {
      "cell_type": "code",
      "source": [
        "store = pd.HDFStore('example.h5')\n",
        "\n",
        "# method 1\n",
        "df1 = store['df']\n",
        "\n",
        "# method 2\n",
        "df2 = store.get('df')\n",
        "\n",
        "print(df1 == df2)"
      ],
      "metadata": {
        "colab": {
          "base_uri": "https://localhost:8080/"
        },
        "id": "juMtSTlvEvJu",
        "outputId": "15a0b62a-75e6-47f7-d2c3-69c5bfdcba90"
      },
      "execution_count": 11,
      "outputs": [
        {
          "output_type": "stream",
          "name": "stdout",
          "text": [
            "    col-1  col-2  col-3\n",
            "0    True   True   True\n",
            "1    True   True   True\n",
            "2    True   True   True\n",
            "3    True   True   True\n",
            "4    True   True   True\n",
            "5    True   True   True\n",
            "6    True   True   True\n",
            "7    True   True   True\n",
            "8    True   True   True\n",
            "9    True   True   True\n",
            "10   True   True   True\n",
            "11   True   True   True\n",
            "12   True   True   True\n",
            "13   True   True   True\n",
            "14   True   True   True\n",
            "15   True   True   True\n",
            "16   True   True   True\n",
            "17   True   True   True\n",
            "18   True   True   True\n",
            "19   True   True   True\n"
          ]
        }
      ]
    },
    {
      "cell_type": "code",
      "source": [
        "print(store.is_open)"
      ],
      "metadata": {
        "colab": {
          "base_uri": "https://localhost:8080/"
        },
        "id": "tmSPJX5pEy_t",
        "outputId": "54ec6e99-7076-4866-cfaf-fa43ea1f8920"
      },
      "execution_count": 13,
      "outputs": [
        {
          "output_type": "stream",
          "name": "stdout",
          "text": [
            "True\n"
          ]
        }
      ]
    }
  ]
}