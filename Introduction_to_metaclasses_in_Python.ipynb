{
  "nbformat": 4,
  "nbformat_minor": 0,
  "metadata": {
    "colab": {
      "name": "Introduction to metaclasses in Python.ipynb",
      "provenance": [],
      "authorship_tag": "ABX9TyOIb71n/YFMnG5TK9DyU22t"
    },
    "kernelspec": {
      "name": "python3",
      "display_name": "Python 3"
    },
    "language_info": {
      "name": "python"
    }
  },
  "cells": [
    {
      "cell_type": "markdown",
      "metadata": {
        "id": "pFu6eTYEuu-U"
      },
      "source": [
        "[Reference](https://medium.com/analytics-vidhya/metaprogramming-in-python-for-beginners-546adbc76f98)"
      ]
    },
    {
      "cell_type": "code",
      "metadata": {
        "colab": {
          "base_uri": "https://localhost:8080/"
        },
        "id": "tsWwozBTt8W3",
        "outputId": "905d39a5-511f-43c6-a0db-b8b1fce0a082"
      },
      "source": [
        "_10_type = type(10)\n",
        "type(_10_type)"
      ],
      "execution_count": 4,
      "outputs": [
        {
          "output_type": "execute_result",
          "data": {
            "text/plain": [
              "type"
            ]
          },
          "metadata": {
            "tags": []
          },
          "execution_count": 4
        }
      ]
    },
    {
      "cell_type": "code",
      "metadata": {
        "colab": {
          "base_uri": "https://localhost:8080/"
        },
        "id": "O3kVW9Zmt9RR",
        "outputId": "6125be5c-86d8-4136-e208-477e664a19b4"
      },
      "source": [
        "class Example:\n",
        "    pass\n",
        "type(Example)"
      ],
      "execution_count": 5,
      "outputs": [
        {
          "output_type": "execute_result",
          "data": {
            "text/plain": [
              "type"
            ]
          },
          "metadata": {
            "tags": []
          },
          "execution_count": 5
        }
      ]
    },
    {
      "cell_type": "code",
      "metadata": {
        "colab": {
          "base_uri": "https://localhost:8080/"
        },
        "id": "Sppm5Eoau2VN",
        "outputId": "d48bb1af-a4d9-462f-a035-a5ff8b3ce28d"
      },
      "source": [
        "a = [1,2,3]\n",
        "_a_type = type(a)\n",
        "type(_a_type)"
      ],
      "execution_count": 6,
      "outputs": [
        {
          "output_type": "execute_result",
          "data": {
            "text/plain": [
              "type"
            ]
          },
          "metadata": {
            "tags": []
          },
          "execution_count": 6
        }
      ]
    },
    {
      "cell_type": "code",
      "metadata": {
        "colab": {
          "base_uri": "https://localhost:8080/"
        },
        "id": "bzXF82VcvCNm",
        "outputId": "38e2c119-0e87-465f-cc6a-48342e4f4a68"
      },
      "source": [
        "def mymethod(self):\n",
        "    return self.x > 100\n",
        "\n",
        "class_name = \"MyClass\"\n",
        "base_classes = tuple()\n",
        "params= {\"x\": 10, \"check_greater\": mymethod}\n",
        "MyClass = type(\"MyClass\", base_classes, params)\n",
        "obj = MyClass()\n",
        "print(obj.check_greater())"
      ],
      "execution_count": 7,
      "outputs": [
        {
          "output_type": "stream",
          "text": [
            "False\n"
          ],
          "name": "stdout"
        }
      ]
    },
    {
      "cell_type": "code",
      "metadata": {
        "colab": {
          "base_uri": "https://localhost:8080/",
          "height": 249
        },
        "id": "hO1q4lWmvE8O",
        "outputId": "087bb0c0-2c9c-4cfc-d81a-f87e2affc144"
      },
      "source": [
        "x = \"adsads\"# Works\n",
        "x.replace(\"a\", \"x\")  # replace method is available in str type# Will throw error\n",
        "x.iszero()  # iszero method is not defined in str type"
      ],
      "execution_count": 8,
      "outputs": [
        {
          "output_type": "error",
          "ename": "AttributeError",
          "evalue": "ignored",
          "traceback": [
            "\u001b[0;31m---------------------------------------------------------------------------\u001b[0m",
            "\u001b[0;31mAttributeError\u001b[0m                            Traceback (most recent call last)",
            "\u001b[0;32m<ipython-input-8-4d7e10c37b02>\u001b[0m in \u001b[0;36m<module>\u001b[0;34m()\u001b[0m\n\u001b[1;32m      1\u001b[0m \u001b[0mx\u001b[0m \u001b[0;34m=\u001b[0m \u001b[0;34m\"adsads\"\u001b[0m\u001b[0;31m# Works\u001b[0m\u001b[0;34m\u001b[0m\u001b[0;34m\u001b[0m\u001b[0m\n\u001b[1;32m      2\u001b[0m \u001b[0mx\u001b[0m\u001b[0;34m.\u001b[0m\u001b[0mreplace\u001b[0m\u001b[0;34m(\u001b[0m\u001b[0;34m\"a\"\u001b[0m\u001b[0;34m,\u001b[0m \u001b[0;34m\"x\"\u001b[0m\u001b[0;34m)\u001b[0m  \u001b[0;31m# replace method is available in str type# Will throw error\u001b[0m\u001b[0;34m\u001b[0m\u001b[0;34m\u001b[0m\u001b[0m\n\u001b[0;32m----> 3\u001b[0;31m \u001b[0mx\u001b[0m\u001b[0;34m.\u001b[0m\u001b[0miszero\u001b[0m\u001b[0;34m(\u001b[0m\u001b[0;34m)\u001b[0m  \u001b[0;31m# iszero method is not defined in str type\u001b[0m\u001b[0;34m\u001b[0m\u001b[0;34m\u001b[0m\u001b[0m\n\u001b[0m",
            "\u001b[0;31mAttributeError\u001b[0m: 'str' object has no attribute 'iszero'"
          ]
        }
      ]
    },
    {
      "cell_type": "code",
      "metadata": {
        "id": "X0jz1oWevLRZ"
      },
      "source": [
        "class StringFactory(type):\n",
        "    def iszero(self):\n",
        "        \"\"\"Check if the given string is equals to one or more zeros\"\"\"\n",
        "        try:\n",
        "            return not sum([int(chr) for chr in self]) \n",
        "        except:\n",
        "            return False    \n",
        "    def __new__(cls, name, bases, dct):\n",
        "        print(\"My class is not yet created\")\n",
        "        bases += (str,)  # add str class as base to the new class\n",
        "        dct[\"iszero\"] = StringFactory.iszero  # add our custom method to the new class\n",
        "        class_ = type.__new__(cls, name, bases, dct)\n",
        "        print(\"My class is created with custom method at run time\")\n",
        "        return class_"
      ],
      "execution_count": 9,
      "outputs": []
    },
    {
      "cell_type": "code",
      "metadata": {
        "colab": {
          "base_uri": "https://localhost:8080/"
        },
        "id": "bZppLoyMvO1C",
        "outputId": "53ad49b6-a53d-4c0f-ac6a-4da880e51fe4"
      },
      "source": [
        "class MyCustomString(metaclass=StringFactory):\n",
        "    pass"
      ],
      "execution_count": 10,
      "outputs": [
        {
          "output_type": "stream",
          "text": [
            "My class is not yet created\n",
            "My class is created with custom method at run time\n"
          ],
          "name": "stdout"
        }
      ]
    },
    {
      "cell_type": "code",
      "metadata": {
        "colab": {
          "base_uri": "https://localhost:8080/"
        },
        "id": "QW2IxufFvQWz",
        "outputId": "4d5e213f-9071-4544-f040-96ae08c436a4"
      },
      "source": [
        "test_string = MyCustomString(\"abcd\")\n",
        "print(test_string.iszero())  # Outputs Falsetest_string = MyCustomString(\"0000\")\n",
        "print(test_string.iszero())  # Outputs True"
      ],
      "execution_count": 11,
      "outputs": [
        {
          "output_type": "stream",
          "text": [
            "False\n",
            "False\n"
          ],
          "name": "stdout"
        }
      ]
    },
    {
      "cell_type": "code",
      "metadata": {
        "colab": {
          "base_uri": "https://localhost:8080/"
        },
        "id": "UUwhpaFwvRjd",
        "outputId": "61c9221f-1d82-434f-c609-3ab1ed226e8f"
      },
      "source": [
        "class MyMeta(type):\n",
        "    _instances = {}\n",
        "    def __call__(cls, *args, **kwargs):\n",
        "        if cls not in MyMeta._instances:\n",
        "            MyMeta._instances[cls] = super().__call__(*args, **kwargs)\n",
        "        return MyMeta._instances[cls]\n",
        "        \n",
        "class Singleton(metaclass=MyMeta):\n",
        " pass\n",
        " \n",
        "x = Singleton()\n",
        "y = Singleton()\n",
        "print(x is y)  # Outputs True"
      ],
      "execution_count": 12,
      "outputs": [
        {
          "output_type": "stream",
          "text": [
            "True\n"
          ],
          "name": "stdout"
        }
      ]
    }
  ]
}