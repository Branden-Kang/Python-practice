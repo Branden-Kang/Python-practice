{
  "nbformat": 4,
  "nbformat_minor": 0,
  "metadata": {
    "colab": {
      "provenance": [],
      "authorship_tag": "ABX9TyPf7gqY2jPApq7U2AZUUP6+"
    },
    "kernelspec": {
      "name": "python3",
      "display_name": "Python 3"
    },
    "language_info": {
      "name": "python"
    }
  },
  "cells": [
    {
      "cell_type": "markdown",
      "source": [
        "[Reference](https://shweta-lodha.medium.com/magic-of-in-python-a62db3e9b119)"
      ],
      "metadata": {
        "id": "ll6nttM65Uwp"
      }
    },
    {
      "cell_type": "markdown",
      "source": [
        "# Create Collection With Repeated Elements"
      ],
      "metadata": {
        "id": "IymThMkY5X3z"
      }
    },
    {
      "cell_type": "code",
      "execution_count": 1,
      "metadata": {
        "colab": {
          "base_uri": "https://localhost:8080/"
        },
        "id": "3J-Tpltq5TpP",
        "outputId": "3cf80b45-8665-48db-fbb7-dd322c17473e"
      },
      "outputs": [
        {
          "output_type": "stream",
          "name": "stdout",
          "text": [
            "[4, 3, 5, 4, 3, 5, 4, 3, 5]\n"
          ]
        }
      ],
      "source": [
        "lst = [4,3,5] * 3\n",
        "print(lst)"
      ]
    },
    {
      "cell_type": "code",
      "source": [
        "lst = (4,3,5) * 3\n",
        "print(lst)"
      ],
      "metadata": {
        "colab": {
          "base_uri": "https://localhost:8080/"
        },
        "id": "dKOFdt765ZnA",
        "outputId": "a4ae1615-4c93-4125-e030-2c975eb1ec12"
      },
      "execution_count": 2,
      "outputs": [
        {
          "output_type": "stream",
          "name": "stdout",
          "text": [
            "(4, 3, 5, 4, 3, 5, 4, 3, 5)\n"
          ]
        }
      ]
    },
    {
      "cell_type": "code",
      "source": [
        "word = \"SH\" * 3\n",
        "print(word)"
      ],
      "metadata": {
        "colab": {
          "base_uri": "https://localhost:8080/"
        },
        "id": "6RTRdlvT5ZuC",
        "outputId": "187f23cb-ac90-4201-98a0-bd238f069d72"
      },
      "execution_count": 3,
      "outputs": [
        {
          "output_type": "stream",
          "name": "stdout",
          "text": [
            "SHSHSH\n"
          ]
        }
      ]
    },
    {
      "cell_type": "markdown",
      "source": [
        "# Unpacking Function Parameters"
      ],
      "metadata": {
        "id": "FfFRuTo35c-K"
      }
    },
    {
      "cell_type": "code",
      "source": [
        "def func(x,y,z): \n",
        "   print(x,y,z)"
      ],
      "metadata": {
        "id": "1Nya0hXE5bOB"
      },
      "execution_count": 4,
      "outputs": []
    },
    {
      "cell_type": "code",
      "source": [
        "# list\n",
        "lst = [0,1,2]\n",
        "func(*lst)     \n",
        "lst = (0,1,2)\n",
        "func(*lst)     \n",
        "dict = {'x':1,'y':2,'z':3}\n",
        "func(*lst)    "
      ],
      "metadata": {
        "colab": {
          "base_uri": "https://localhost:8080/"
        },
        "id": "vc3X639O5cPq",
        "outputId": "5dd60e7d-66a1-416b-c9f4-12a1ad2e8f22"
      },
      "execution_count": 5,
      "outputs": [
        {
          "output_type": "stream",
          "name": "stdout",
          "text": [
            "0 1 2\n",
            "0 1 2\n",
            "0 1 2\n"
          ]
        }
      ]
    },
    {
      "cell_type": "markdown",
      "source": [
        "# Unpacking Containers"
      ],
      "metadata": {
        "id": "mGoc6X1U5ioe"
      }
    },
    {
      "cell_type": "code",
      "source": [
        "lst = [1,2,3,4,5]\n",
        "start, *center, end = lst\n",
        "print(start)\n",
        "print(center)\n",
        "print(end)"
      ],
      "metadata": {
        "colab": {
          "base_uri": "https://localhost:8080/"
        },
        "id": "EHA9R9TO5hJC",
        "outputId": "3f42e494-fd4b-497a-b42f-74cc92bc70bd"
      },
      "execution_count": 6,
      "outputs": [
        {
          "output_type": "stream",
          "name": "stdout",
          "text": [
            "1\n",
            "[2, 3, 4]\n",
            "5\n"
          ]
        }
      ]
    },
    {
      "cell_type": "code",
      "source": [
        "lst = [1,2,3,4,5]\n",
        "*start, end = lst\n",
        "print(start)\n",
        "print(end)"
      ],
      "metadata": {
        "colab": {
          "base_uri": "https://localhost:8080/"
        },
        "id": "WXEnNVy_5lB9",
        "outputId": "6211d1e0-a133-4ce9-a442-feaeef3a6a48"
      },
      "execution_count": 7,
      "outputs": [
        {
          "output_type": "stream",
          "name": "stdout",
          "text": [
            "[1, 2, 3, 4]\n",
            "5\n"
          ]
        }
      ]
    },
    {
      "cell_type": "markdown",
      "source": [
        "# args and kwargs"
      ],
      "metadata": {
        "id": "jQiNG93t5n8h"
      }
    },
    {
      "cell_type": "code",
      "source": [
        "def calculate(a,b,*args,**kwargs):\n",
        "  print(a)\n",
        "  for arg in args:\n",
        "    print(arg)\n",
        "  for key in kwargs:\n",
        "    print(key,kwargs[key])"
      ],
      "metadata": {
        "id": "6yLtNk765moU"
      },
      "execution_count": 8,
      "outputs": []
    },
    {
      "cell_type": "code",
      "source": [
        "calculate(2,3,4,5,6,v1=8,v2=9)"
      ],
      "metadata": {
        "colab": {
          "base_uri": "https://localhost:8080/"
        },
        "id": "hkuKUu4I5o86",
        "outputId": "6ca4a32c-40b8-4aeb-bb28-a17f35561d10"
      },
      "execution_count": 9,
      "outputs": [
        {
          "output_type": "stream",
          "name": "stdout",
          "text": [
            "2\n",
            "4\n",
            "5\n",
            "6\n",
            "v1 8\n",
            "v2 9\n"
          ]
        }
      ]
    }
  ]
}