{
  "nbformat": 4,
  "nbformat_minor": 0,
  "metadata": {
    "colab": {
      "name": "Python Data Types.ipynb",
      "provenance": [],
      "collapsed_sections": [],
      "authorship_tag": "ABX9TyNGh33/qBIt58IQcn7ipVri"
    },
    "kernelspec": {
      "name": "python3",
      "display_name": "Python 3"
    },
    "language_info": {
      "name": "python"
    }
  },
  "cells": [
    {
      "cell_type": "markdown",
      "metadata": {
        "id": "Bb0tEsxRYI7S"
      },
      "source": [
        "[Reference](https://parthbpatel.medium.com/python-data-types-5a38f55ad8a6)"
      ]
    },
    {
      "cell_type": "markdown",
      "metadata": {
        "id": "umXYwxQPYLxk"
      },
      "source": [
        "Text Type: str <br>\n",
        "Numeric Types: int, float, complex <br>\n",
        "Sequence Types: list, tuple, range <br>\n",
        "Mapping Type: dict <br>\n",
        "Set Types: set, frozenset <br>\n",
        "Boolean Type: bool <br>\n",
        "Binary Types: bytes, bytearray, memoryview <br>"
      ]
    },
    {
      "cell_type": "code",
      "metadata": {
        "colab": {
          "base_uri": "https://localhost:8080/"
        },
        "id": "Vu3kDwwdYrxL",
        "outputId": "c2e42aa0-c410-46ea-9de0-dd320094aa93"
      },
      "source": [
        "a = 5\n",
        "b = \"hello\"\n",
        "c = 10.10\n",
        "d = [1,2,3]\n",
        "print(type(a))\n",
        "print(type(b))\n",
        "print(type(c))\n",
        "print(type(d))"
      ],
      "execution_count": 1,
      "outputs": [
        {
          "output_type": "stream",
          "name": "stdout",
          "text": [
            "<class 'int'>\n",
            "<class 'str'>\n",
            "<class 'float'>\n",
            "<class 'list'>\n"
          ]
        }
      ]
    },
    {
      "cell_type": "code",
      "metadata": {
        "id": "Gk9NTfwZYG9u"
      },
      "source": [
        "x = \"Hello World\" # to create str type\n",
        "x = 20 # to create int type\n",
        "x = 20.5 # to create float type\n",
        "x = 1j # to create complex type\n",
        "x = [\"apple\", \"banana\", \"cherry\"] # to create list type\n",
        "x = (\"apple\", \"banana\", \"cherry\") # to create tuple type\n",
        "x = range(6) # to create range type\n",
        "x = {\"name\" : \"John\", \"age\" : 36} # to create dict type\n",
        "x = {\"apple\", \"banana\", \"cherry\"} # to create set type\n",
        "x = frozenset({\"apple\", \"banana\", \"cherry\"}) # to create frozenset type\n",
        "x = True # to create bool type\n",
        "x = b\"Hello\" # to create bytes type\n",
        "x = bytearray(5) # to create bytearray type\n",
        "x = memoryview(bytes(5)) # to create memoryview type"
      ],
      "execution_count": 2,
      "outputs": []
    },
    {
      "cell_type": "code",
      "metadata": {
        "id": "lzucNxJfYaQ6"
      },
      "source": [
        "x = str(\"Hello World\") # to create str type\n",
        "x = int(20) # to create int type\n",
        "x = float(20.5) # to create float type\n",
        "x = complex(1j) # to create complex type\n",
        "x = list((\"apple\", \"banana\", \"cherry\")) # to create list type\n",
        "x = tuple((\"apple\", \"banana\", \"cherry\")) # to create tuple type\n",
        "x = range(6) # to create range type\n",
        "x = dict(name=\"John\", age=36) # to create dict type\n",
        "x = set((\"apple\", \"banana\", \"cherry\")) # to create set type\n",
        "x = frozenset((\"apple\", \"banana\", \"cherry\")) # to create frozenset type\n",
        "x = bool(5) # to create bool type\n",
        "x = bytes(5) # to create bytes type\n",
        "x = bytearray(5) # to create bytearray type\n",
        "x = memoryview(bytes(5)) # to create memoryview type"
      ],
      "execution_count": 3,
      "outputs": []
    }
  ]
}