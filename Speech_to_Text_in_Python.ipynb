{
  "nbformat": 4,
  "nbformat_minor": 0,
  "metadata": {
    "colab": {
      "name": "Speech to Text in Python.ipynb",
      "provenance": [],
      "authorship_tag": "ABX9TyMlZmoviT1P1REXxSBPWw1F"
    },
    "kernelspec": {
      "name": "python3",
      "display_name": "Python 3"
    }
  },
  "cells": [
    {
      "cell_type": "markdown",
      "metadata": {
        "id": "QTbW53XgnhU9"
      },
      "source": [
        "[Reference](https://medium.com/@yashmahe2018/speech-to-text-using-python-722ecf3534fb)"
      ]
    },
    {
      "cell_type": "code",
      "metadata": {
        "id": "nx9edDGsns2T"
      },
      "source": [
        "pip install pyaudio"
      ],
      "execution_count": 7,
      "outputs": []
    },
    {
      "cell_type": "code",
      "metadata": {
        "id": "qUT6rsphngJN"
      },
      "source": [
        "pip install speech-recognition"
      ],
      "execution_count": 8,
      "outputs": []
    },
    {
      "cell_type": "code",
      "metadata": {
        "id": "mq-EAPlXnwfP"
      },
      "source": [
        "import speech_recognition as r"
      ],
      "execution_count": 9,
      "outputs": []
    },
    {
      "cell_type": "code",
      "metadata": {
        "id": "P9BzJII4n8nv"
      },
      "source": [
        "mic = sr.Recognizer()\n",
        "\n",
        "while True:\n",
        "    with sr.Microphone() as source:\n",
        "        print(\"Please state your question\")\n",
        "        audio_text = mic.listen(source)\n",
        "        print(\"Time over, thank you for input\")\n",
        "\n",
        "        try:\n",
        "            usertext = mic.recognizer_google(audio_text)\n",
        "        except:\n",
        "            usertext = 'error'\n",
        "\n",
        "print(usertext)"
      ],
      "execution_count": 10,
      "outputs": []
    }
  ]
}