{
  "nbformat": 4,
  "nbformat_minor": 0,
  "metadata": {
    "colab": {
      "provenance": [],
      "authorship_tag": "ABX9TyMIcbOxZdNYbtU2hsgMjLFC"
    },
    "kernelspec": {
      "name": "python3",
      "display_name": "Python 3"
    },
    "language_info": {
      "name": "python"
    }
  },
  "cells": [
    {
      "cell_type": "markdown",
      "source": [
        "[Reference](https://medium.com/@alensabu12xtz/10-advanced-concepts-in-python-553ee3df9127)"
      ],
      "metadata": {
        "id": "LB3FoSXdMhqg"
      }
    },
    {
      "cell_type": "markdown",
      "source": [
        "# 1. Context Managers"
      ],
      "metadata": {
        "id": "3RaFJsYHMjyo"
      }
    },
    {
      "cell_type": "code",
      "execution_count": 1,
      "metadata": {
        "id": "GD0p8pb6Mfzd"
      },
      "outputs": [],
      "source": [
        "with open(\"file.txt\", \"w\") as file:\n",
        "    file.write(\"Hello, World!\")\n",
        "# File is automatically closed after exiting the block."
      ]
    },
    {
      "cell_type": "markdown",
      "source": [
        "# 2. Metaclasses"
      ],
      "metadata": {
        "id": "feOH0_LlMlyN"
      }
    },
    {
      "cell_type": "code",
      "source": [
        "class Meta(type):\n",
        "    def __new__(cls, name, bases, dct):\n",
        "        print(f\"Creating class {name}\")\n",
        "        return super().__new__(cls, name, bases, dct)\n",
        "\n",
        "class MyClass(metaclass=Meta):\n",
        "    pass"
      ],
      "metadata": {
        "colab": {
          "base_uri": "https://localhost:8080/"
        },
        "id": "mhwpT_p4MlGn",
        "outputId": "6f196a73-e724-4980-eecf-06d286db2c06"
      },
      "execution_count": 2,
      "outputs": [
        {
          "output_type": "stream",
          "name": "stdout",
          "text": [
            "Creating class MyClass\n"
          ]
        }
      ]
    },
    {
      "cell_type": "markdown",
      "source": [
        "# 3. Coroutines"
      ],
      "metadata": {
        "id": "NCYWQDykMp1j"
      }
    },
    {
      "cell_type": "code",
      "source": [
        "import asyncio\n",
        "\n",
        "async def async_task():\n",
        "    print(\"Task started\")\n",
        "    await asyncio.sleep(1)\n",
        "    print(\"Task completed\")\n",
        "\n",
        "asyncio.run(async_task())"
      ],
      "metadata": {
        "id": "rPu5-TPaMm2V"
      },
      "execution_count": 4,
      "outputs": []
    },
    {
      "cell_type": "markdown",
      "source": [
        "# 4. Abstract Base Classes (ABCs)"
      ],
      "metadata": {
        "id": "s86Lb39AMryn"
      }
    },
    {
      "cell_type": "code",
      "source": [
        "from abc import ABC, abstractmethod\n",
        "\n",
        "class Animal(ABC):\n",
        "    @abstractmethod\n",
        "    def sound(self):\n",
        "        pass\n",
        "\n",
        "class Dog(Animal):\n",
        "    def sound(self):\n",
        "        return \"Woof!\"\n",
        "\n",
        "dog = Dog()\n",
        "print(dog.sound())"
      ],
      "metadata": {
        "colab": {
          "base_uri": "https://localhost:8080/"
        },
        "id": "yyHoob4kMrGw",
        "outputId": "199f7c9c-8062-4c7e-8391-30d9906e7b35"
      },
      "execution_count": 5,
      "outputs": [
        {
          "output_type": "stream",
          "name": "stdout",
          "text": [
            "Woof!\n"
          ]
        }
      ]
    },
    {
      "cell_type": "markdown",
      "source": [
        "# 5. Descriptors"
      ],
      "metadata": {
        "id": "F1BERNzrMw2F"
      }
    },
    {
      "cell_type": "code",
      "source": [
        "class Descriptor:\n",
        "    def __get__(self, instance, owner):\n",
        "        return instance._value\n",
        "\n",
        "    def __set__(self, instance, value):\n",
        "        instance._value = value * 2\n",
        "\n",
        "class MyClass:\n",
        "    attribute = Descriptor()\n",
        "\n",
        "obj = MyClass()\n",
        "obj.attribute = 10\n",
        "print(obj.attribute)  # Output: 20"
      ],
      "metadata": {
        "colab": {
          "base_uri": "https://localhost:8080/"
        },
        "id": "EpEYLuVHMvbU",
        "outputId": "a4ec700c-79cd-4ad7-8c28-cb7662437dfd"
      },
      "execution_count": 6,
      "outputs": [
        {
          "output_type": "stream",
          "name": "stdout",
          "text": [
            "20\n"
          ]
        }
      ]
    },
    {
      "cell_type": "markdown",
      "source": [
        "# 6. Threading and Multiprocessing"
      ],
      "metadata": {
        "id": "uwm0ZoCLMy9R"
      }
    },
    {
      "cell_type": "code",
      "source": [
        "import threading\n",
        "\n",
        "def task():\n",
        "    print(\"Task executed\")\n",
        "\n",
        "thread = threading.Thread(target=task)\n",
        "thread.start()\n",
        "thread.join()"
      ],
      "metadata": {
        "colab": {
          "base_uri": "https://localhost:8080/"
        },
        "id": "qog5XewHMyCJ",
        "outputId": "43bb8012-4a40-4538-e24e-31b51655904c"
      },
      "execution_count": 8,
      "outputs": [
        {
          "output_type": "stream",
          "name": "stdout",
          "text": [
            "Task executed\n"
          ]
        }
      ]
    },
    {
      "cell_type": "markdown",
      "source": [
        "# 7. Duck Typing and Polymorphism"
      ],
      "metadata": {
        "id": "gkPIP-4KM2SO"
      }
    },
    {
      "cell_type": "code",
      "source": [
        "class Bird:\n",
        "    def fly(self):\n",
        "        print(\"Flying\")\n",
        "\n",
        "class Airplane:\n",
        "    def fly(self):\n",
        "        print(\"Flying with engines\")\n",
        "\n",
        "def test_fly(obj):\n",
        "    obj.fly()\n",
        "\n",
        "test_fly(Bird())\n",
        "test_fly(Airplane())"
      ],
      "metadata": {
        "colab": {
          "base_uri": "https://localhost:8080/"
        },
        "id": "13OlcqBNM0J3",
        "outputId": "1254bcfd-2080-4fcc-d9a7-4048362af702"
      },
      "execution_count": 9,
      "outputs": [
        {
          "output_type": "stream",
          "name": "stdout",
          "text": [
            "Flying\n",
            "Flying with engines\n"
          ]
        }
      ]
    },
    {
      "cell_type": "markdown",
      "source": [
        "# 9. Comprehensions"
      ],
      "metadata": {
        "id": "mIfcL9lrM47A"
      }
    },
    {
      "cell_type": "code",
      "source": [
        "# Nested comprehension\n",
        "matrix = [[j for j in range(3)] for i in range(3)]\n",
        "print(matrix)\n",
        "\n",
        "# With conditions\n",
        "squares = [x**2 for x in range(10) if x % 2 == 0]\n",
        "print(squares)"
      ],
      "metadata": {
        "colab": {
          "base_uri": "https://localhost:8080/"
        },
        "id": "ZMBGhrg2M3ca",
        "outputId": "7fa4b048-7fbc-420c-c79a-39805ecd7c80"
      },
      "execution_count": 10,
      "outputs": [
        {
          "output_type": "stream",
          "name": "stdout",
          "text": [
            "[[0, 1, 2], [0, 1, 2], [0, 1, 2]]\n",
            "[0, 4, 16, 36, 64]\n"
          ]
        }
      ]
    },
    {
      "cell_type": "markdown",
      "source": [
        "# 10. Custom Iterators\n"
      ],
      "metadata": {
        "id": "FT24auKEM7J7"
      }
    },
    {
      "cell_type": "code",
      "source": [
        "class MyIterator:\n",
        "    def __init__(self, max):\n",
        "        self.max = max\n",
        "        self.current = 0\n",
        "\n",
        "    def __iter__(self):\n",
        "        return self\n",
        "\n",
        "    def __next__(self):\n",
        "        if self.current < self.max:\n",
        "            self.current += 1\n",
        "            return self.current\n",
        "        else:\n",
        "            raise StopIteration\n",
        "\n",
        "iterator = MyIterator(5)\n",
        "for value in iterator:\n",
        "    print(value)"
      ],
      "metadata": {
        "colab": {
          "base_uri": "https://localhost:8080/"
        },
        "id": "22t1RI_XM5_B",
        "outputId": "a2c0c0ee-a6d0-4fa4-93ed-e5d49c8784ba"
      },
      "execution_count": 11,
      "outputs": [
        {
          "output_type": "stream",
          "name": "stdout",
          "text": [
            "1\n",
            "2\n",
            "3\n",
            "4\n",
            "5\n"
          ]
        }
      ]
    }
  ]
}