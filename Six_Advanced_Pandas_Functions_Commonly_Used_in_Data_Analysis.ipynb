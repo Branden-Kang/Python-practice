{
  "nbformat": 4,
  "nbformat_minor": 0,
  "metadata": {
    "colab": {
      "provenance": [],
      "authorship_tag": "ABX9TyMYxvcGowL7VfuHV511WhP6"
    },
    "kernelspec": {
      "name": "python3",
      "display_name": "Python 3"
    },
    "language_info": {
      "name": "python"
    }
  },
  "cells": [
    {
      "cell_type": "markdown",
      "source": [
        "[Reference](https://medium.com/@tubelwj/six-advanced-pandas-functions-commonly-used-in-data-analysis-57353cb91193)"
      ],
      "metadata": {
        "id": "jBBDrV8LNoce"
      }
    },
    {
      "cell_type": "markdown",
      "source": [
        "# GroupBy"
      ],
      "metadata": {
        "id": "t233MrSENtut"
      }
    },
    {
      "cell_type": "code",
      "execution_count": 1,
      "metadata": {
        "colab": {
          "base_uri": "https://localhost:8080/"
        },
        "id": "D94PC-IBNbN7",
        "outputId": "ca64dcc0-5ded-44e1-94cf-130a906c2f54"
      },
      "outputs": [
        {
          "output_type": "stream",
          "name": "stdout",
          "text": [
            "                         Sales  Quantity\n",
            "City        Category                    \n",
            "Chicago     Clothing       220         8\n",
            "            Electronics    300         6\n",
            "Los Angeles Clothing       450        12\n",
            "            Electronics    270         9\n",
            "New York    Clothing       180         4\n",
            "            Electronics    250         5\n",
            "                        Sales             Quantity         \n",
            "                          sum   mean  max      sum mean max\n",
            "City        Category                                       \n",
            "Chicago     Clothing      220  220.0  220        8  8.0   8\n",
            "            Electronics   300  300.0  300        6  6.0   6\n",
            "Los Angeles Clothing      450  225.0  250       12  6.0   7\n",
            "            Electronics   270  270.0  270        9  9.0   9\n",
            "New York    Clothing      180  180.0  180        4  4.0   4\n",
            "            Electronics   250  125.0  150        5  2.5   3\n"
          ]
        }
      ],
      "source": [
        "import pandas as pd\n",
        "\n",
        "# Sample dataframe with U.S. cities etc.\n",
        "df = pd.DataFrame({\n",
        "    'City': ['New York', 'Los Angeles', 'New York', 'Los Angeles', 'Chicago', 'New York', 'Chicago', 'Los Angeles'],\n",
        "    'Category': ['Electronics', 'Clothing', 'Electronics', 'Clothing', 'Electronics', 'Clothing', 'Clothing', 'Electronics'],\n",
        "    'Sales': [100, 200, 150, 250, 300, 180, 220, 270],\n",
        "    'Quantity': [2, 5, 3, 7, 6, 4, 8, 9]\n",
        "})\n",
        "\n",
        "# Grouping by 'City' and 'Category' and summing up the other columns\n",
        "grouped = df.groupby(['City', 'Category']).sum()\n",
        "\n",
        "print(grouped)\n",
        "\n",
        "# Grouping by 'City' and 'Category' and calculating sum, mean, and max for Sales and Quantity\n",
        "grouped = df.groupby(['City', 'Category']).agg({\n",
        "    'Sales': ['sum', 'mean', 'max'],\n",
        "    'Quantity': ['sum', 'mean', 'max']\n",
        "})\n",
        "\n",
        "print(grouped)"
      ]
    },
    {
      "cell_type": "markdown",
      "source": [
        "# Multi-Indexing"
      ],
      "metadata": {
        "id": "5iZiYrNZNwyS"
      }
    },
    {
      "cell_type": "code",
      "source": [
        "import pandas as pd\n",
        "import numpy as np\n",
        "\n",
        "# Creating a more complex dataframe with multi-index\n",
        "index = pd.MultiIndex.from_tuples([('New York', 'Q1', 'one'), ('New York', 'Q1', 'two'),\n",
        "                                   ('Los Angeles', 'Q1', 'one'), ('Los Angeles', 'Q1', 'two'),\n",
        "                                   ('Chicago', 'Q2', 'one'), ('Chicago', 'Q2', 'two'),\n",
        "                                   ('New York', 'Q2', 'one'), ('New York', 'Q2', 'two')],\n",
        "                                  names=['City', 'Quarter', 'ID'])\n",
        "\n",
        "# Creating random data for Sales, Profit, and Quantity\n",
        "sales = np.round(np.random.uniform(100, 500, 8), 2)  # Sales between 100 and 500\n",
        "profit = np.round(np.random.uniform(0, 0.35, 8), 2)     # Profit between 0 and 0.35\n",
        "quantity = np.random.randint(1, 20, 8)               # Quantity as integers\n",
        "\n",
        "# Creating the dataframe\n",
        "df_multi = pd.DataFrame({'Sales': sales, 'Profit(%)': profit, 'Quantity': quantity}, index=index)\n",
        "\n",
        "print(df_multi)"
      ],
      "metadata": {
        "colab": {
          "base_uri": "https://localhost:8080/"
        },
        "id": "7cRs0UFBNvnu",
        "outputId": "1ca952f1-457c-4878-8f25-907ba1c32ded"
      },
      "execution_count": 2,
      "outputs": [
        {
          "output_type": "stream",
          "name": "stdout",
          "text": [
            "                          Sales  Profit(%)  Quantity\n",
            "City        Quarter ID                              \n",
            "New York    Q1      one  489.06       0.29        15\n",
            "                    two  336.44       0.33         2\n",
            "Los Angeles Q1      one  292.79       0.32         6\n",
            "                    two  116.29       0.03         7\n",
            "Chicago     Q2      one  219.42       0.15         3\n",
            "                    two  479.45       0.22         8\n",
            "New York    Q2      one  111.90       0.26        18\n",
            "                    two  341.27       0.08         9\n"
          ]
        }
      ]
    },
    {
      "cell_type": "markdown",
      "source": [
        "# Pivot Tables"
      ],
      "metadata": {
        "id": "-R9q3ixJN0kv"
      }
    },
    {
      "cell_type": "code",
      "source": [
        "import numpy as np\n",
        "import pandas as pd\n",
        "\n",
        "# Create a sample DataFrame\n",
        "data = {\n",
        "    'City': ['New York', 'Los Angeles', 'New York', 'Los Angeles', 'New York', 'Los Angeles', 'New York', 'Los Angeles'],\n",
        "    'Quarter': ['Q1', 'Q1', 'Q2', 'Q2', 'Q1', 'Q1', 'Q2', 'Q2'],\n",
        "    'NumOfHouses': [10, 20, 30, 40, 50, 60, 70, 80],\n",
        "    'TotalValue': [100, 200, 300, 400, 500, 600, 700, 800]\n",
        "}\n",
        "\n",
        "df = pd.DataFrame(data)\n",
        "\n",
        "# Create a pivot table, grouped by columns A and B, and sum C and D\n",
        "pivot = pd.pivot_table(df, values=['NumOfHouses', 'TotalValue'], index=['City', 'Quarter'], aggfunc=np.sum)\n",
        "\n",
        "# Output the result\n",
        "print(pivot)"
      ],
      "metadata": {
        "colab": {
          "base_uri": "https://localhost:8080/"
        },
        "id": "J2EK8ntTNyz6",
        "outputId": "83bd496c-b1b6-4e49-e32c-c4dcd51f7bb0"
      },
      "execution_count": 3,
      "outputs": [
        {
          "output_type": "stream",
          "name": "stdout",
          "text": [
            "                     NumOfHouses  TotalValue\n",
            "City        Quarter                         \n",
            "Los Angeles Q1                80         800\n",
            "            Q2               120        1200\n",
            "New York    Q1                60         600\n",
            "            Q2               100        1000\n"
          ]
        },
        {
          "output_type": "stream",
          "name": "stderr",
          "text": [
            "<ipython-input-3-9de2de093c56>:15: FutureWarning: The provided callable <function sum at 0x7e2f8f35b370> is currently using DataFrameGroupBy.sum. In a future version of pandas, the provided callable will be used directly. To keep current behavior pass the string \"sum\" instead.\n",
            "  pivot = pd.pivot_table(df, values=['NumOfHouses', 'TotalValue'], index=['City', 'Quarter'], aggfunc=np.sum)\n"
          ]
        }
      ]
    },
    {
      "cell_type": "markdown",
      "source": [
        "# Merging, Joining, and Concatenating"
      ],
      "metadata": {
        "id": "us2XwyJiN4j1"
      }
    },
    {
      "cell_type": "code",
      "source": [
        "import pandas as pd\n",
        "\n",
        "# Create the first DataFrame\n",
        "data1 = {'Name': ['Alice', 'Bob', 'Charlie'],\n",
        "         'Age': [25, 30, 35]}\n",
        "df1 = pd.DataFrame(data1)\n",
        "\n",
        "# Create the second DataFrame\n",
        "data2 = {'Name': ['David', 'Eva', 'Frank'],\n",
        "         'Age': [40, 45, 50]}\n",
        "df2 = pd.DataFrame(data2)\n",
        "\n",
        "# Use pandas.concat() to concatenate the two DataFrames\n",
        "df_combined = pd.concat([df1, df2], ignore_index=True)\n",
        "\n",
        "# Output the result\n",
        "print(df_combined)"
      ],
      "metadata": {
        "colab": {
          "base_uri": "https://localhost:8080/"
        },
        "id": "o2AuBTszN22E",
        "outputId": "bc986931-ccbd-4ab1-f63a-8e3550bb8cfe"
      },
      "execution_count": 4,
      "outputs": [
        {
          "output_type": "stream",
          "name": "stdout",
          "text": [
            "      Name  Age\n",
            "0    Alice   25\n",
            "1      Bob   30\n",
            "2  Charlie   35\n",
            "3    David   40\n",
            "4      Eva   45\n",
            "5    Frank   50\n"
          ]
        }
      ]
    },
    {
      "cell_type": "code",
      "source": [
        "import pandas as pd\n",
        "\n",
        "# Create two sample DataFrames\n",
        "data1 = {\n",
        "    'EmployeeID': [1, 2, 3, 4],\n",
        "    'Name': ['Alice', 'Bob', 'Charlie', 'David'],\n",
        "    'Department': ['HR', 'IT', 'Finance', 'IT']\n",
        "}\n",
        "\n",
        "data2 = {\n",
        "    'EmployeeID': [2, 4, 3, 5],\n",
        "    'Salary': [70000, 80000, 60000, 90000]\n",
        "}\n",
        "\n",
        "# Convert dictionaries to DataFrames\n",
        "df1 = pd.DataFrame(data1)\n",
        "df2 = pd.DataFrame(data2)\n",
        "\n",
        "# Display the original DataFrames\n",
        "print(\"DataFrame 1:\")\n",
        "print(df1)\n",
        "print(\"\\nDataFrame 2:\")\n",
        "print(df2)\n",
        "\n",
        "# Merge the DataFrames on 'EmployeeID' using an inner join\n",
        "merged_df = pd.merge(df1, df2, on='EmployeeID', how='inner')\n",
        "\n",
        "# Display the merged DataFrame\n",
        "print(\"\\nMerged DataFrame (inner join):\")\n",
        "print(merged_df)\n",
        "\n",
        "# Merge the DataFrames on 'EmployeeID' using a left join\n",
        "left_merged_df = pd.merge(df1, df2, on='EmployeeID', how='left')\n",
        "\n",
        "# Display the left-merged DataFrame\n",
        "print(\"\\nMerged DataFrame (left join):\")\n",
        "print(left_merged_df)"
      ],
      "metadata": {
        "colab": {
          "base_uri": "https://localhost:8080/"
        },
        "id": "vZ2JkxbvN6Be",
        "outputId": "a7611e22-dc8a-40b5-8539-83b93ca62dc6"
      },
      "execution_count": 5,
      "outputs": [
        {
          "output_type": "stream",
          "name": "stdout",
          "text": [
            "DataFrame 1:\n",
            "   EmployeeID     Name Department\n",
            "0           1    Alice         HR\n",
            "1           2      Bob         IT\n",
            "2           3  Charlie    Finance\n",
            "3           4    David         IT\n",
            "\n",
            "DataFrame 2:\n",
            "   EmployeeID  Salary\n",
            "0           2   70000\n",
            "1           4   80000\n",
            "2           3   60000\n",
            "3           5   90000\n",
            "\n",
            "Merged DataFrame (inner join):\n",
            "   EmployeeID     Name Department  Salary\n",
            "0           2      Bob         IT   70000\n",
            "1           3  Charlie    Finance   60000\n",
            "2           4    David         IT   80000\n",
            "\n",
            "Merged DataFrame (left join):\n",
            "   EmployeeID     Name Department   Salary\n",
            "0           1    Alice         HR      NaN\n",
            "1           2      Bob         IT  70000.0\n",
            "2           3  Charlie    Finance  60000.0\n",
            "3           4    David         IT  80000.0\n"
          ]
        }
      ]
    },
    {
      "cell_type": "code",
      "source": [
        "import pandas as pd\n",
        "\n",
        "# Create two sample DataFrames\n",
        "data1 = {\n",
        "    'EmployeeID': [1, 2, 3, 4],\n",
        "    'Name': ['Alice', 'Bob', 'Charlie', 'David'],\n",
        "    'Department': ['HR', 'IT', 'Finance', 'IT']\n",
        "}\n",
        "\n",
        "data2 = {\n",
        "    'EmployeeID': [2, 4, 3, 5],\n",
        "    'Salary': [70000, 80000, 60000, 90000]\n",
        "}\n",
        "\n",
        "# Convert dictionaries to DataFrames\n",
        "df1 = pd.DataFrame(data1)\n",
        "df2 = pd.DataFrame(data2)\n",
        "\n",
        "# Display the original DataFrames\n",
        "print(\"DataFrame 1:\")\n",
        "print(df1)\n",
        "print(\"\\nDataFrame 2:\")\n",
        "print(df2)\n",
        "\n",
        "# Set 'EmployeeID' as the index for both DataFrames to facilitate join\n",
        "df1.set_index('EmployeeID', inplace=True)\n",
        "df2.set_index('EmployeeID', inplace=True)\n",
        "\n",
        "# Perform an inner join on the two DataFrames\n",
        "joined_df_inner = df1.join(df2, how='inner')\n",
        "\n",
        "# Display the result of the inner join\n",
        "print(\"\\nJoined DataFrame (inner join):\")\n",
        "print(joined_df_inner)\n",
        "\n",
        "# Perform a left join on the two DataFrames\n",
        "joined_df_left = df1.join(df2, how='left')\n",
        "\n",
        "# Display the result of the left join\n",
        "print(\"\\nJoined DataFrame (left join):\")\n",
        "print(joined_df_left)\n",
        "\n",
        "# Perform a right join on the two DataFrames\n",
        "joined_df_right = df1.join(df2, how='right')\n",
        "\n",
        "# Display the result of the right join\n",
        "print(\"\\nJoined DataFrame (right join):\")\n",
        "print(joined_df_right)\n",
        "\n",
        "# Perform an outer join on the two DataFrames\n",
        "joined_df_outer = df1.join(df2, how='outer')\n",
        "\n",
        "# Display the result of the outer join\n",
        "print(\"\\nJoined DataFrame (outer join):\")\n",
        "print(joined_df_outer)"
      ],
      "metadata": {
        "colab": {
          "base_uri": "https://localhost:8080/"
        },
        "id": "SwZYdwIZN8aX",
        "outputId": "da230678-59c3-4874-9b69-dd51eaa99440"
      },
      "execution_count": 6,
      "outputs": [
        {
          "output_type": "stream",
          "name": "stdout",
          "text": [
            "DataFrame 1:\n",
            "   EmployeeID     Name Department\n",
            "0           1    Alice         HR\n",
            "1           2      Bob         IT\n",
            "2           3  Charlie    Finance\n",
            "3           4    David         IT\n",
            "\n",
            "DataFrame 2:\n",
            "   EmployeeID  Salary\n",
            "0           2   70000\n",
            "1           4   80000\n",
            "2           3   60000\n",
            "3           5   90000\n",
            "\n",
            "Joined DataFrame (inner join):\n",
            "               Name Department  Salary\n",
            "EmployeeID                            \n",
            "2               Bob         IT   70000\n",
            "3           Charlie    Finance   60000\n",
            "4             David         IT   80000\n",
            "\n",
            "Joined DataFrame (left join):\n",
            "               Name Department   Salary\n",
            "EmployeeID                             \n",
            "1             Alice         HR      NaN\n",
            "2               Bob         IT  70000.0\n",
            "3           Charlie    Finance  60000.0\n",
            "4             David         IT  80000.0\n",
            "\n",
            "Joined DataFrame (right join):\n",
            "               Name Department  Salary\n",
            "EmployeeID                            \n",
            "2               Bob         IT   70000\n",
            "4             David         IT   80000\n",
            "3           Charlie    Finance   60000\n",
            "5               NaN        NaN   90000\n",
            "\n",
            "Joined DataFrame (outer join):\n",
            "               Name Department   Salary\n",
            "EmployeeID                             \n",
            "1             Alice         HR      NaN\n",
            "2               Bob         IT  70000.0\n",
            "3           Charlie    Finance  60000.0\n",
            "4             David         IT  80000.0\n",
            "5               NaN        NaN  90000.0\n"
          ]
        }
      ]
    },
    {
      "cell_type": "markdown",
      "source": [
        "# Using `apply()` and `map()` for Data Transformation"
      ],
      "metadata": {
        "id": "-HGwMkmuOAQ1"
      }
    },
    {
      "cell_type": "code",
      "source": [
        "import pandas as pd\n",
        "\n",
        "# Create a sample DataFrame\n",
        "data = {\n",
        "    'Name': ['Alice', 'Bob', 'Charlie'],\n",
        "    'Age': [25, 30, 35],\n",
        "    'Salary': [50000, 60000, 70000]\n",
        "}\n",
        "\n",
        "df = pd.DataFrame(data)\n",
        "\n",
        "# Define a function to calculate tax (for example, 10% tax)\n",
        "def calculate_tax(salary):\n",
        "    return salary * 0.10\n",
        "\n",
        "# Apply the function to the 'Salary' column\n",
        "df['Tax'] = df['Salary'].apply(calculate_tax)\n",
        "\n",
        "# Display the updated DataFrame\n",
        "print(df)"
      ],
      "metadata": {
        "colab": {
          "base_uri": "https://localhost:8080/"
        },
        "id": "JrBQYrbxN-ia",
        "outputId": "4a81222e-405f-46a3-9a6e-c270f0c034a2"
      },
      "execution_count": 7,
      "outputs": [
        {
          "output_type": "stream",
          "name": "stdout",
          "text": [
            "      Name  Age  Salary     Tax\n",
            "0    Alice   25   50000  5000.0\n",
            "1      Bob   30   60000  6000.0\n",
            "2  Charlie   35   70000  7000.0\n"
          ]
        }
      ]
    },
    {
      "cell_type": "code",
      "source": [
        "import pandas as pd\n",
        "\n",
        "# Create a sample DataFrame\n",
        "data = {\n",
        "    'Name': ['Alice', 'Bob', 'Charlie'],\n",
        "    'Age': [25, 30, 35],\n",
        "    'Salary': [50000, 60000, 70000]\n",
        "}\n",
        "\n",
        "df = pd.DataFrame(data)\n",
        "\n",
        "# Define a function to calculate tax (for example, 10% tax)\n",
        "def calculate_tax(salary):\n",
        "    return salary * 0.10\n",
        "\n",
        "# Apply the function to the 'Salary' column\n",
        "df['Tax'] = df['Salary'].apply(calculate_tax)\n",
        "\n",
        "# Display the updated DataFrame\n",
        "print(df)"
      ],
      "metadata": {
        "colab": {
          "base_uri": "https://localhost:8080/"
        },
        "id": "l_QZfD4GODVX",
        "outputId": "5899ea50-d2ad-4215-b9ad-ea8f45df6f3b"
      },
      "execution_count": 8,
      "outputs": [
        {
          "output_type": "stream",
          "name": "stdout",
          "text": [
            "      Name  Age  Salary     Tax\n",
            "0    Alice   25   50000  5000.0\n",
            "1      Bob   30   60000  6000.0\n",
            "2  Charlie   35   70000  7000.0\n"
          ]
        }
      ]
    },
    {
      "cell_type": "markdown",
      "source": [
        "# Query Function"
      ],
      "metadata": {
        "id": "SU6nLZT-OLS4"
      }
    },
    {
      "cell_type": "code",
      "source": [
        "import pandas as pd\n",
        "\n",
        "# Sample DataFrame\n",
        "df = pd.DataFrame({\n",
        "    'X': range(5, 11),\n",
        "    'Y': range(20, 121, 20),\n",
        "    'City': ['New York', 'Los Angeles', 'New York', 'Chicago', 'Los Angeles', 'Chicago']\n",
        "})\n",
        "\n",
        "# Using query() to filter rows\n",
        "filtered_df = df.query('(X < 8) & (City == \"New York\")')\n",
        "\n",
        "print(filtered_df)"
      ],
      "metadata": {
        "colab": {
          "base_uri": "https://localhost:8080/"
        },
        "id": "_0TEOU64OH0f",
        "outputId": "a5dc8840-2fb3-43ec-a72f-d68e9d6f1dd4"
      },
      "execution_count": 9,
      "outputs": [
        {
          "output_type": "stream",
          "name": "stdout",
          "text": [
            "   X   Y      City\n",
            "0  5  20  New York\n",
            "2  7  60  New York\n"
          ]
        }
      ]
    }
  ]
}