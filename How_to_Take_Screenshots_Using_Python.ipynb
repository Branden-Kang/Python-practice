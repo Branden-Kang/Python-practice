{
  "nbformat": 4,
  "nbformat_minor": 0,
  "metadata": {
    "colab": {
      "name": "How to Take Screenshots Using Python",
      "provenance": [],
      "collapsed_sections": [],
      "authorship_tag": "ABX9TyMFB2r2RuUoQWbiKkUJGwSK"
    },
    "kernelspec": {
      "name": "python3",
      "display_name": "Python 3"
    },
    "language_info": {
      "name": "python"
    }
  },
  "cells": [
    {
      "cell_type": "markdown",
      "metadata": {
        "id": "vh5VHuCTAl8v"
      },
      "source": [
        "[Reference](https://python.plainenglish.io/how-to-take-screenshot-using-python-cbd3ac975601)"
      ]
    },
    {
      "cell_type": "code",
      "metadata": {
        "colab": {
          "base_uri": "https://localhost:8080/"
        },
        "id": "j1bdGwEgAs-Q",
        "outputId": "2f9b178f-2448-41c1-c963-7f8742a6ecec"
      },
      "source": [
        "pip install pyautogui"
      ],
      "execution_count": 2,
      "outputs": [
        {
          "output_type": "stream",
          "text": [
            "Collecting pyautogui\n",
            "\u001b[?25l  Downloading https://files.pythonhosted.org/packages/40/0a/1373680148828d7ea3f0e432f06c08f51a33d72306719954d3ae379f5890/PyAutoGUI-0.9.52.tar.gz (55kB)\n",
            "\r\u001b[K     |█████▉                          | 10kB 15.4MB/s eta 0:00:01\r\u001b[K     |███████████▊                    | 20kB 19.7MB/s eta 0:00:01\r\u001b[K     |█████████████████▋              | 30kB 23.1MB/s eta 0:00:01\r\u001b[K     |███████████████████████▌        | 40kB 26.4MB/s eta 0:00:01\r\u001b[K     |█████████████████████████████▎  | 51kB 29.1MB/s eta 0:00:01\r\u001b[K     |████████████████████████████████| 61kB 5.3MB/s \n",
            "\u001b[?25hCollecting pymsgbox\n",
            "  Downloading https://files.pythonhosted.org/packages/7d/ff/4c6f31a4f08979f12a663f2aeb6c8b765d3bd592e66eaaac445f547bb875/PyMsgBox-1.0.9.tar.gz\n",
            "  Installing build dependencies ... \u001b[?25l\u001b[?25hdone\n",
            "  Getting requirements to build wheel ... \u001b[?25l\u001b[?25hdone\n",
            "    Preparing wheel metadata ... \u001b[?25l\u001b[?25hdone\n",
            "Collecting PyTweening>=1.0.1\n",
            "  Downloading https://files.pythonhosted.org/packages/b9/f8/c32a58d6e4dff8aa5c27e907194d69f3b57e525c2e4af96f39c6e9c854d2/PyTweening-1.0.3.zip\n",
            "Collecting pyscreeze>=0.1.21\n",
            "  Downloading https://files.pythonhosted.org/packages/4b/64/1087b4f2c1c5ca14e6ceba7d1e116c494629de36b9882cf014ae02814ce5/PyScreeze-0.1.27.tar.gz\n",
            "  Installing build dependencies ... \u001b[?25l\u001b[?25hdone\n",
            "  Getting requirements to build wheel ... \u001b[?25l\u001b[?25hdone\n",
            "    Preparing wheel metadata ... \u001b[?25l\u001b[?25hdone\n",
            "Collecting pygetwindow>=0.0.5\n",
            "  Downloading https://files.pythonhosted.org/packages/e1/70/c7a4f46dbf06048c6d57d9489b8e0f9c4c3d36b7479f03c5ca97eaa2541d/PyGetWindow-0.0.9.tar.gz\n",
            "Collecting mouseinfo\n",
            "  Downloading https://files.pythonhosted.org/packages/28/fa/b2ba8229b9381e8f6381c1dcae6f4159a7f72349e414ed19cfbbd1817173/MouseInfo-0.1.3.tar.gz\n",
            "Collecting python3-Xlib\n",
            "\u001b[?25l  Downloading https://files.pythonhosted.org/packages/ef/c6/2c5999de3bb1533521f1101e8fe56fd9c266732f4d48011c7c69b29d12ae/python3-xlib-0.15.tar.gz (132kB)\n",
            "\u001b[K     |████████████████████████████████| 133kB 32.1MB/s \n",
            "\u001b[?25hRequirement already satisfied: Pillow>=5.2.0; python_version == \"3.7\" in /usr/local/lib/python3.7/dist-packages (from pyscreeze>=0.1.21->pyautogui) (7.1.2)\n",
            "Collecting pyrect\n",
            "  Downloading https://files.pythonhosted.org/packages/2f/68/bd7bf96fc44217e769f27912e6c9bb3e9987cba286054af6120448ce8212/PyRect-0.1.4.tar.gz\n",
            "Collecting pyperclip\n",
            "  Downloading https://files.pythonhosted.org/packages/a7/2c/4c64579f847bd5d539803c8b909e54ba087a79d01bb3aba433a95879a6c5/pyperclip-1.8.2.tar.gz\n",
            "Building wheels for collected packages: pymsgbox, pyscreeze\n",
            "  Building wheel for pymsgbox (PEP 517) ... \u001b[?25l\u001b[?25hdone\n",
            "  Created wheel for pymsgbox: filename=PyMsgBox-1.0.9-cp37-none-any.whl size=7420 sha256=ccbbbcc4df8fcf6221c74cec3b52825749506f8cd330f13852bd8a7704902c21\n",
            "  Stored in directory: /root/.cache/pip/wheels/16/d7/4e/fffdd54b1cca86608b7655c9a2854890a38f955ce9532848cd\n",
            "  Building wheel for pyscreeze (PEP 517) ... \u001b[?25l\u001b[?25hdone\n",
            "  Created wheel for pyscreeze: filename=PyScreeze-0.1.27-cp37-none-any.whl size=12891 sha256=b5e34a8a64762900bb136a43c6ec662ee1aaf3e63d5cd07a3ea0eb6ae56dae96\n",
            "  Stored in directory: /root/.cache/pip/wheels/4d/c1/33/e7a099b5906e1110c51d32c957ad56df5a9976cd43153398df\n",
            "Successfully built pymsgbox pyscreeze\n",
            "Building wheels for collected packages: pyautogui, PyTweening, pygetwindow, mouseinfo, python3-Xlib, pyrect, pyperclip\n",
            "  Building wheel for pyautogui (setup.py) ... \u001b[?25l\u001b[?25hdone\n",
            "  Created wheel for pyautogui: filename=PyAutoGUI-0.9.52-cp37-none-any.whl size=35213 sha256=4a8bfe87a04316fe57757deb0c900f25d26e6808abbb8385079e0bbe5706e797\n",
            "  Stored in directory: /root/.cache/pip/wheels/c8/ae/a9/62d83c8ea2068e8553766c8f6f5fbf1f61d264701cafeca49f\n",
            "  Building wheel for PyTweening (setup.py) ... \u001b[?25l\u001b[?25hdone\n",
            "  Created wheel for PyTweening: filename=PyTweening-1.0.3-cp37-none-any.whl size=3814 sha256=8429fc7d4061d77f321d5bd3722addd2babd3b5133a758a554b4023afcb48a45\n",
            "  Stored in directory: /root/.cache/pip/wheels/7b/92/30/06e21159eed2709436bfb6d7c690959e578cf74f029643866e\n",
            "  Building wheel for pygetwindow (setup.py) ... \u001b[?25l\u001b[?25hdone\n",
            "  Created wheel for pygetwindow: filename=PyGetWindow-0.0.9-cp37-none-any.whl size=11081 sha256=db8c604c624fe51bde2e54e618b999ee2b47777aa1b4c8a78e42200cc2921cd7\n",
            "  Stored in directory: /root/.cache/pip/wheels/4b/c1/c6/89b4fb35adcbfe54c5e71e830330dc39cfa231b32dc62eed6b\n",
            "  Building wheel for mouseinfo (setup.py) ... \u001b[?25l\u001b[?25hdone\n",
            "  Created wheel for mouseinfo: filename=MouseInfo-0.1.3-cp37-none-any.whl size=10907 sha256=7b27f8df13fdf6ffc1ee1499a6752b381b827812834c8ea41c0ba1208ffde40e\n",
            "  Stored in directory: /root/.cache/pip/wheels/eb/81/32/4d7b345486dbc3f3ee45316f8f4cbdebafc1b5d1da3353b529\n",
            "  Building wheel for python3-Xlib (setup.py) ... \u001b[?25l\u001b[?25hdone\n",
            "  Created wheel for python3-Xlib: filename=python3_xlib-0.15-cp37-none-any.whl size=109517 sha256=664060119a72923c312581032d09ebe127863db2472f704c04b2826bd0d58e8c\n",
            "  Stored in directory: /root/.cache/pip/wheels/e9/be/31/bebab5ac079cfa8305381fa6ee15ea142eade1fec0c71e1278\n",
            "  Building wheel for pyrect (setup.py) ... \u001b[?25l\u001b[?25hdone\n",
            "  Created wheel for pyrect: filename=PyRect-0.1.4-py2.py3-none-any.whl size=9547 sha256=3af0e7bdef2d0bff9bc72841754f09d79dbd514d59e05933a73cd2f523ca2fe4\n",
            "  Stored in directory: /root/.cache/pip/wheels/3e/61/83/8fd1478e984f7378e57972f5fd9bb0dbffc349fefc9efa5bf9\n",
            "  Building wheel for pyperclip (setup.py) ... \u001b[?25l\u001b[?25hdone\n",
            "  Created wheel for pyperclip: filename=pyperclip-1.8.2-cp37-none-any.whl size=11136 sha256=cec5165656289b102f390f7ca0cc32c0976a5e7cc9744e3d975ec495aa451cf2\n",
            "  Stored in directory: /root/.cache/pip/wheels/25/af/b8/3407109267803f4015e1ee2ff23be0c8c19ce4008665931ee1\n",
            "Successfully built pyautogui PyTweening pygetwindow mouseinfo python3-Xlib pyrect pyperclip\n",
            "Installing collected packages: pymsgbox, PyTweening, pyscreeze, pyrect, pygetwindow, pyperclip, python3-Xlib, mouseinfo, pyautogui\n",
            "Successfully installed PyTweening-1.0.3 mouseinfo-0.1.3 pyautogui-0.9.52 pygetwindow-0.0.9 pymsgbox-1.0.9 pyperclip-1.8.2 pyrect-0.1.4 pyscreeze-0.1.27 python3-Xlib-0.15\n"
          ],
          "name": "stdout"
        }
      ]
    },
    {
      "cell_type": "code",
      "metadata": {
        "id": "62FkXBHmAjq4"
      },
      "source": [
        "import pyautogui\n",
        "\n",
        "import tkinter as tk\n",
        "\n",
        "from tkinter.filedialog import *"
      ],
      "execution_count": 4,
      "outputs": []
    },
    {
      "cell_type": "code",
      "metadata": {
        "id": "3p5cJSXcAqah"
      },
      "source": [
        "mainapp = tk.Tk()\n",
        "\n",
        "screen = tk.Canvas(mainapp,width = 300 ,height = 300)\n",
        "\n",
        "screen.pack()"
      ],
      "execution_count": 6,
      "outputs": []
    },
    {
      "cell_type": "code",
      "metadata": {
        "id": "YwEFhovxBJD5"
      },
      "source": [
        "def screenshot():\n",
        "    screenshottaker = pyautogui.screenshot()\n",
        "    \n",
        "    save_path = asksaveasfilename()\n",
        "    \n",
        "    screenshottaker.save(save_path+\"_screenshot.png\")"
      ],
      "execution_count": 7,
      "outputs": []
    },
    {
      "cell_type": "code",
      "metadata": {
        "id": "PyeyktTIBOf4"
      },
      "source": [
        "button = tk.Button(text = 'screenshot', command= screenshot, font = 10)\n",
        "\n",
        "screen.create_window(150,150,window = button)\n",
        "\n",
        "mainapp.mainloop()"
      ],
      "execution_count": 8,
      "outputs": []
    }
  ]
}