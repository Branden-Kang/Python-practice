{
  "nbformat": 4,
  "nbformat_minor": 0,
  "metadata": {
    "colab": {
      "name": "How to use Python & SQL to manipulate data in 1 min.ipynb",
      "provenance": [],
      "authorship_tag": "ABX9TyOlTdUOFOwG81V57AWkkA8I"
    },
    "kernelspec": {
      "name": "python3",
      "display_name": "Python 3"
    },
    "language_info": {
      "name": "python"
    }
  },
  "cells": [
    {
      "cell_type": "markdown",
      "metadata": {
        "id": "XC765B3olpbG"
      },
      "source": [
        "[Reference](https://medium.com/mlearning-ai/how-to-use-python-sql-to-manipulate-data-in-1-min-bbf9ec17dc5d)"
      ]
    },
    {
      "cell_type": "code",
      "metadata": {
        "colab": {
          "base_uri": "https://localhost:8080/"
        },
        "id": "ZrI8WMr8l2k1",
        "outputId": "0dad599a-9b4a-475a-eb37-3d08b0b96eec"
      },
      "source": [
        "!python3 -m pip install fugue"
      ],
      "execution_count": 2,
      "outputs": [
        {
          "output_type": "stream",
          "name": "stdout",
          "text": [
            "Collecting fugue\n",
            "  Downloading fugue-0.6.3-py3-none-any.whl (405 kB)\n",
            "\u001b[?25l\r\u001b[K     |▉                               | 10 kB 22.7 MB/s eta 0:00:01\r\u001b[K     |█▋                              | 20 kB 30.4 MB/s eta 0:00:01\r\u001b[K     |██▍                             | 30 kB 36.9 MB/s eta 0:00:01\r\u001b[K     |███▎                            | 40 kB 39.1 MB/s eta 0:00:01\r\u001b[K     |████                            | 51 kB 35.8 MB/s eta 0:00:01\r\u001b[K     |████▉                           | 61 kB 38.6 MB/s eta 0:00:01\r\u001b[K     |█████▋                          | 71 kB 27.8 MB/s eta 0:00:01\r\u001b[K     |██████▌                         | 81 kB 28.8 MB/s eta 0:00:01\r\u001b[K     |███████▎                        | 92 kB 29.3 MB/s eta 0:00:01\r\u001b[K     |████████                        | 102 kB 31.0 MB/s eta 0:00:01\r\u001b[K     |█████████                       | 112 kB 31.0 MB/s eta 0:00:01\r\u001b[K     |█████████▊                      | 122 kB 31.0 MB/s eta 0:00:01\r\u001b[K     |██████████▌                     | 133 kB 31.0 MB/s eta 0:00:01\r\u001b[K     |███████████▎                    | 143 kB 31.0 MB/s eta 0:00:01\r\u001b[K     |████████████▏                   | 153 kB 31.0 MB/s eta 0:00:01\r\u001b[K     |█████████████                   | 163 kB 31.0 MB/s eta 0:00:01\r\u001b[K     |█████████████▊                  | 174 kB 31.0 MB/s eta 0:00:01\r\u001b[K     |██████████████▌                 | 184 kB 31.0 MB/s eta 0:00:01\r\u001b[K     |███████████████▍                | 194 kB 31.0 MB/s eta 0:00:01\r\u001b[K     |████████████████▏               | 204 kB 31.0 MB/s eta 0:00:01\r\u001b[K     |█████████████████               | 215 kB 31.0 MB/s eta 0:00:01\r\u001b[K     |█████████████████▉              | 225 kB 31.0 MB/s eta 0:00:01\r\u001b[K     |██████████████████▋             | 235 kB 31.0 MB/s eta 0:00:01\r\u001b[K     |███████████████████▍            | 245 kB 31.0 MB/s eta 0:00:01\r\u001b[K     |████████████████████▏           | 256 kB 31.0 MB/s eta 0:00:01\r\u001b[K     |█████████████████████           | 266 kB 31.0 MB/s eta 0:00:01\r\u001b[K     |█████████████████████▉          | 276 kB 31.0 MB/s eta 0:00:01\r\u001b[K     |██████████████████████▋         | 286 kB 31.0 MB/s eta 0:00:01\r\u001b[K     |███████████████████████▍        | 296 kB 31.0 MB/s eta 0:00:01\r\u001b[K     |████████████████████████▎       | 307 kB 31.0 MB/s eta 0:00:01\r\u001b[K     |█████████████████████████       | 317 kB 31.0 MB/s eta 0:00:01\r\u001b[K     |█████████████████████████▉      | 327 kB 31.0 MB/s eta 0:00:01\r\u001b[K     |██████████████████████████▊     | 337 kB 31.0 MB/s eta 0:00:01\r\u001b[K     |███████████████████████████▌    | 348 kB 31.0 MB/s eta 0:00:01\r\u001b[K     |████████████████████████████▎   | 358 kB 31.0 MB/s eta 0:00:01\r\u001b[K     |█████████████████████████████   | 368 kB 31.0 MB/s eta 0:00:01\r\u001b[K     |██████████████████████████████  | 378 kB 31.0 MB/s eta 0:00:01\r\u001b[K     |██████████████████████████████▊ | 389 kB 31.0 MB/s eta 0:00:01\r\u001b[K     |███████████████████████████████▌| 399 kB 31.0 MB/s eta 0:00:01\r\u001b[K     |████████████████████████████████| 405 kB 31.0 MB/s \n",
            "\u001b[?25hRequirement already satisfied: pyarrow>=0.15.1 in /usr/local/lib/python3.7/dist-packages (from fugue) (3.0.0)\n",
            "Requirement already satisfied: sqlalchemy in /usr/local/lib/python3.7/dist-packages (from fugue) (1.4.25)\n",
            "Collecting adagio>=0.2.3\n",
            "  Downloading adagio-0.2.3-py3-none-any.whl (26 kB)\n",
            "Collecting triad>=0.5.4\n",
            "  Downloading triad-0.5.4-py3-none-any.whl (54 kB)\n",
            "\u001b[K     |████████████████████████████████| 54 kB 3.1 MB/s \n",
            "\u001b[?25hRequirement already satisfied: pandas>=1.0.2 in /usr/local/lib/python3.7/dist-packages (from fugue) (1.1.5)\n",
            "Collecting qpd>=0.2.4\n",
            "  Downloading qpd-0.2.5-py3-none-any.whl (194 kB)\n",
            "\u001b[K     |████████████████████████████████| 194 kB 61.3 MB/s \n",
            "\u001b[?25hRequirement already satisfied: pytz>=2017.2 in /usr/local/lib/python3.7/dist-packages (from pandas>=1.0.2->fugue) (2018.9)\n",
            "Requirement already satisfied: python-dateutil>=2.7.3 in /usr/local/lib/python3.7/dist-packages (from pandas>=1.0.2->fugue) (2.8.2)\n",
            "Requirement already satisfied: numpy>=1.15.4 in /usr/local/lib/python3.7/dist-packages (from pandas>=1.0.2->fugue) (1.19.5)\n",
            "Requirement already satisfied: six>=1.5 in /usr/local/lib/python3.7/dist-packages (from python-dateutil>=2.7.3->pandas>=1.0.2->fugue) (1.15.0)\n",
            "Collecting antlr4-python3-runtime\n",
            "  Downloading antlr4-python3-runtime-4.9.2.tar.gz (117 kB)\n",
            "\u001b[K     |████████████████████████████████| 117 kB 76.6 MB/s \n",
            "\u001b[?25hCollecting fs\n",
            "  Downloading fs-2.4.13-py2.py3-none-any.whl (131 kB)\n",
            "\u001b[K     |████████████████████████████████| 131 kB 73.0 MB/s \n",
            "\u001b[?25hCollecting ciso8601\n",
            "  Downloading ciso8601-2.2.0.tar.gz (18 kB)\n",
            "  Installing build dependencies ... \u001b[?25l\u001b[?25hdone\n",
            "  Getting requirements to build wheel ... \u001b[?25l\u001b[?25hdone\n",
            "    Preparing wheel metadata ... \u001b[?25l\u001b[?25hdone\n",
            "Requirement already satisfied: appdirs~=1.4.3 in /usr/local/lib/python3.7/dist-packages (from fs->triad>=0.5.4->fugue) (1.4.4)\n",
            "Requirement already satisfied: setuptools in /usr/local/lib/python3.7/dist-packages (from fs->triad>=0.5.4->fugue) (57.4.0)\n",
            "Requirement already satisfied: importlib-metadata in /usr/local/lib/python3.7/dist-packages (from sqlalchemy->fugue) (4.8.1)\n",
            "Requirement already satisfied: greenlet!=0.4.17 in /usr/local/lib/python3.7/dist-packages (from sqlalchemy->fugue) (1.1.2)\n",
            "Requirement already satisfied: typing-extensions>=3.6.4 in /usr/local/lib/python3.7/dist-packages (from importlib-metadata->sqlalchemy->fugue) (3.7.4.3)\n",
            "Requirement already satisfied: zipp>=0.5 in /usr/local/lib/python3.7/dist-packages (from importlib-metadata->sqlalchemy->fugue) (3.6.0)\n",
            "Building wheels for collected packages: antlr4-python3-runtime, ciso8601\n",
            "  Building wheel for antlr4-python3-runtime (setup.py) ... \u001b[?25l\u001b[?25hdone\n",
            "  Created wheel for antlr4-python3-runtime: filename=antlr4_python3_runtime-4.9.2-py3-none-any.whl size=144567 sha256=db820879ad7e9e72130a373c97282b88e7ce974d86052815ea587ccf532550fd\n",
            "  Stored in directory: /root/.cache/pip/wheels/14/4c/18/1dbbc9875a2547d2063400ea9f404da4af3331965a71061029\n",
            "  Building wheel for ciso8601 (PEP 517) ... \u001b[?25l\u001b[?25hdone\n",
            "  Created wheel for ciso8601: filename=ciso8601-2.2.0-cp37-cp37m-linux_x86_64.whl size=37526 sha256=ac1ed7e910dedc797b0cacc955fba56e3335ecb1b1ded3c7551ecdcbaef393a4\n",
            "  Stored in directory: /root/.cache/pip/wheels/ad/25/8f/3b0a82303191efe3c1204f3741c42d8eb2b0236567e22485de\n",
            "Successfully built antlr4-python3-runtime ciso8601\n",
            "Installing collected packages: fs, ciso8601, triad, antlr4-python3-runtime, adagio, qpd, fugue\n",
            "Successfully installed adagio-0.2.3 antlr4-python3-runtime-4.9.2 ciso8601-2.2.0 fs-2.4.13 fugue-0.6.3 qpd-0.2.5 triad-0.5.4\n"
          ]
        }
      ]
    },
    {
      "cell_type": "code",
      "metadata": {
        "colab": {
          "base_uri": "https://localhost:8080/"
        },
        "id": "Wc5eBpZkldBr",
        "outputId": "0c570a26-3881-462a-b7b9-86f083bba054"
      },
      "source": [
        "from fugue_sql import fsql\n",
        "import pandas as pd\n",
        "\n",
        "# Build a pandas DataFrame\n",
        "df = pd.DataFrame({\"monthly_readers\":[1000,2000,3000], \n",
        "                   \"topic\"          :[\"ML\",\"AI\",\"Python\"]})\n",
        "\n",
        "print(df)\n",
        "\n",
        "query = \"\"\"\n",
        " SELECT topic FROM df\n",
        " WHERE monthly_readers > 1000\n",
        " PRINT\n",
        " \"\"\"\n",
        "\n",
        "# execute the query\n",
        "fsql(query).run()"
      ],
      "execution_count": 3,
      "outputs": [
        {
          "output_type": "stream",
          "name": "stdout",
          "text": [
            "   monthly_readers   topic\n",
            "0             1000      ML\n",
            "1             2000      AI\n",
            "2             3000  Python\n",
            "PandasDataFrame\n",
            "topic:str\n",
            "---------\n",
            "AI       \n",
            "Python   \n",
            "Total count: 2\n",
            "\n"
          ]
        },
        {
          "output_type": "execute_result",
          "data": {
            "text/plain": [
              "DataFrames()"
            ]
          },
          "metadata": {},
          "execution_count": 3
        }
      ]
    }
  ]
}