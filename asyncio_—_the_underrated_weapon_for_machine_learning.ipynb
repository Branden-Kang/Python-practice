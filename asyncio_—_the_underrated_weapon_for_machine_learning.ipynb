{
  "nbformat": 4,
  "nbformat_minor": 0,
  "metadata": {
    "colab": {
      "provenance": [],
      "collapsed_sections": [],
      "authorship_tag": "ABX9TyOOEDJqmp+HEKVgojgU0z2t"
    },
    "kernelspec": {
      "name": "python3",
      "display_name": "Python 3"
    },
    "language_info": {
      "name": "python"
    }
  },
  "cells": [
    {
      "cell_type": "markdown",
      "source": [
        "[Reference](https://medium.com/@write2bishwarup/asyncio-the-underrated-weapon-for-ml-11a37f315355)"
      ],
      "metadata": {
        "id": "21XFe-zEetrq"
      }
    },
    {
      "cell_type": "markdown",
      "source": [
        "# 1. Sequential\n"
      ],
      "metadata": {
        "id": "K7WdZMGkfBau"
      }
    },
    {
      "cell_type": "code",
      "execution_count": 1,
      "metadata": {
        "colab": {
          "base_uri": "https://localhost:8080/"
        },
        "id": "tiRnPvQIeqOO",
        "outputId": "6db24fc3-29c0-41a1-c7bf-105aabf23c96"
      },
      "outputs": [
        {
          "output_type": "stream",
          "name": "stdout",
          "text": [
            "Downloading the images sequentially...\n",
            "image 0 shape: (300, 300)\n",
            "image 1 shape: (300, 300)\n",
            "image 2 shape: (300, 300)\n",
            "image 3 shape: (300, 300)\n",
            "image 4 shape: (300, 300)\n",
            "image 5 shape: (300, 300)\n",
            "image 6 shape: (300, 300)\n",
            "image 7 shape: (300, 300)\n",
            "image 8 shape: (300, 300)\n",
            "image 9 shape: (300, 300)\n",
            "elapsed: 1.73 seconds\n"
          ]
        }
      ],
      "source": [
        "import io\n",
        "import time\n",
        "\n",
        "import requests\n",
        "from numpy.typing import NDArray\n",
        "from PIL import Image\n",
        "\n",
        "# this gives a ranodm 300x300 image everytime you request the url\n",
        "unsplash_search_url = \"https://source.unsplash.com/random/300x300\"\n",
        "\n",
        "\n",
        "def download_random_image(num: int = 1) -> NDArray:\n",
        "    \"\"\"downloads an image using requests\"\"\"\n",
        "    response = requests.get(unsplash_search_url)\n",
        "    if response.status_code == 200:\n",
        "        img = Image.open(io.BytesIO(response.content))\n",
        "\n",
        "    print(f\"image {num} shape: {img.size}\")\n",
        "    \n",
        "def download_random_images(n: int = 10):\n",
        "    print(\"Downloading the images sequentially...\")\n",
        "    for i in range(n):\n",
        "        download_random_image(i)\n",
        "        \n",
        "if __name__ == \"__main__\":\n",
        "    tick = time.perf_counter()\n",
        "    download_random_images()\n",
        "    tock = time.perf_counter()\n",
        "    print(f\"elapsed: {tock-tick:.2f} seconds\")"
      ]
    },
    {
      "cell_type": "markdown",
      "source": [
        "# 2. Multi-processing\n"
      ],
      "metadata": {
        "id": "G8q44aVpfKFE"
      }
    },
    {
      "cell_type": "code",
      "source": [
        "from multiprocessing import Pool\n",
        "\n",
        "def download_multiprocessing(n: int = 10, n_processes: int = 4) -> None:\n",
        "    \"\"\"downloads a bunch of images using multiprocessing\"\"\"\n",
        "    print(\"downloading images using multi-processing...\")\n",
        "    p = Pool(n_processes)\n",
        "    p.map(download_random_image, range(n))\n",
        "    \n",
        "if __name__ == \"__main__\":\n",
        "    tick = time.perf_counter()\n",
        "    download_multiprocessing()\n",
        "    tock = time.perf_counter()\n",
        "    print(f\"elapsed: {tock-tick:.2f} seconds\")"
      ],
      "metadata": {
        "colab": {
          "base_uri": "https://localhost:8080/"
        },
        "id": "rOxRiEbDfEAQ",
        "outputId": "c7c96648-0821-42b3-e6cc-11d2b6a35ab0"
      },
      "execution_count": 2,
      "outputs": [
        {
          "output_type": "stream",
          "name": "stdout",
          "text": [
            "downloading images using multi-processing...\n",
            "image 0 shape: (300, 300)\n",
            "image 3 shape: (300, 300)\n",
            "image 2 shape: (300, 300)\n",
            "image 1 shape: (300, 300)\n",
            "image 5 shape: (300, 300)image 7 shape: (300, 300)image 6 shape: (300, 300)image 4 shape: (300, 300)\n",
            "\n",
            "\n",
            "\n",
            "image 9 shape: (300, 300)\n",
            "image 8 shape: (300, 300)\n",
            "elapsed: 1.64 seconds\n"
          ]
        }
      ]
    },
    {
      "cell_type": "markdown",
      "source": [
        "# 3. Multi-threading\n"
      ],
      "metadata": {
        "id": "zOT-6hP5fWFU"
      }
    },
    {
      "cell_type": "code",
      "source": [
        "import concurrent.futures\n",
        "\n",
        "def download_multithreading(n: int = 10, n_threads: int = 4) -> None:\n",
        "    \"\"\"downloads a bunch of images using threading\"\"\"\n",
        "    print(\"downloading images using multi-threading...\")\n",
        "    with concurrent.futures.ThreadPoolExecutor(max_workers=n_threads) as executor:\n",
        "        for i in range(n):\n",
        "            executor.submit(download_random_image, i)\n",
        "\n",
        "if __name__ == \"__main__\":\n",
        "    tick = time.perf_counter()\n",
        "    download_multithreading(n_threads=4)\n",
        "    tock = time.perf_counter()\n",
        "    print(f\"elapsed: {tock-tick:.2f} seconds\")"
      ],
      "metadata": {
        "colab": {
          "base_uri": "https://localhost:8080/"
        },
        "id": "d3ze8RrcfOrH",
        "outputId": "1664c55b-0ba8-48e6-f664-63995e44e0a2"
      },
      "execution_count": 3,
      "outputs": [
        {
          "output_type": "stream",
          "name": "stdout",
          "text": [
            "downloading images using multi-threading...\n",
            "image 3 shape: (300, 300)image 2 shape: (300, 300)image 1 shape: (300, 300)\n",
            "\n",
            "\n",
            "image 0 shape: (300, 300)\n",
            "image 4 shape: (300, 300)\n",
            "image 5 shape: (300, 300)\n",
            "image 6 shape: (300, 300)image 7 shape: (300, 300)\n",
            "\n",
            "image 8 shape: (300, 300)\n",
            "image 9 shape: (300, 300)\n",
            "elapsed: 0.75 seconds\n"
          ]
        }
      ]
    },
    {
      "cell_type": "markdown",
      "source": [
        "# 4. asyncio\n"
      ],
      "metadata": {
        "id": "YxC1if9Hfxmn"
      }
    },
    {
      "cell_type": "code",
      "source": [
        "# import asyncio\n",
        "\n",
        "# import aiohttp\n",
        "\n",
        "# async def download_image_async(session: aiohttp.ClientSession, num: int = 1):\n",
        "#     async with session.get(unsplash_search_url) as response:\n",
        "#         if response.status == 200:\n",
        "#             image_buffer = await response.read()\n",
        "#             img = Image.open(io.BytesIO(image_buffer))\n",
        "#             print(f\"image {num} shape: {img.size}\")\n",
        "\n",
        "\n",
        "# async def download_images_async(n: int = 10):\n",
        "#     print(\"Downloading images using async...\")\n",
        "#     async with aiohttp.ClientSession() as session:\n",
        "#         tasks = [download_image_async(session, i + 1) for i in range(n)]\n",
        "#         _ = await asyncio.gather(*tasks)\n",
        "#     return\n",
        "\n",
        "\n",
        "# if __name__ == \"__main__\":\n",
        "#     tick = time.perf_counter()\n",
        "#     asyncio.run(download_images_async())\n",
        "#     tock = time.perf_counter()\n",
        "#     print(f\"elapsed: {tock-tick:.2f} seconds\")"
      ],
      "metadata": {
        "id": "VODDonGZfamk"
      },
      "execution_count": 4,
      "outputs": []
    }
  ]
}