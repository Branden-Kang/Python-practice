{
  "nbformat": 4,
  "nbformat_minor": 0,
  "metadata": {
    "colab": {
      "name": "Higher Order Functions in Python.ipynb",
      "provenance": [],
      "authorship_tag": "ABX9TyN+wuS7KX2JkMAaccCNnE0Q"
    },
    "kernelspec": {
      "name": "python3",
      "display_name": "Python 3"
    }
  },
  "cells": [
    {
      "cell_type": "markdown",
      "metadata": {
        "id": "6_vaEHTfwsjT"
      },
      "source": [
        "[Reference](https://medium.com/techtofreedom/higher-order-functions-in-python-e78daaeb37ae)"
      ]
    },
    {
      "cell_type": "markdown",
      "metadata": {
        "id": "cXo9zoIQwxqM"
      },
      "source": [
        "# The Map Function"
      ]
    },
    {
      "cell_type": "code",
      "metadata": {
        "id": "Jeo5kF-Ewn5a",
        "outputId": "106736d4-301b-434e-df70-41d5e34bfb54",
        "colab": {
          "base_uri": "https://localhost:8080/"
        }
      },
      "source": [
        "def f(x):\n",
        "    return x * x\n",
        "r = map(f, [1, 2, 3, 4, 5, 6, 7, 8, 9])\n",
        "print(list(r))"
      ],
      "execution_count": 1,
      "outputs": [
        {
          "output_type": "stream",
          "text": [
            "[1, 4, 9, 16, 25, 36, 49, 64, 81]\n"
          ],
          "name": "stdout"
        }
      ]
    },
    {
      "cell_type": "code",
      "metadata": {
        "id": "f6CzhM9vwy2K",
        "outputId": "bf4b6315-aa2c-4228-b1d1-eec2ffada322",
        "colab": {
          "base_uri": "https://localhost:8080/"
        }
      },
      "source": [
        "names = ['yAnG', 'MASk', 'thoMas', 'LISA']\n",
        "names = map(str.capitalize, names)\n",
        "print(list(names))"
      ],
      "execution_count": 2,
      "outputs": [
        {
          "output_type": "stream",
          "text": [
            "['Yang', 'Mask', 'Thomas', 'Lisa']\n"
          ],
          "name": "stdout"
        }
      ]
    },
    {
      "cell_type": "markdown",
      "metadata": {
        "id": "pm5rJhFqw0-U"
      },
      "source": [
        "# The Reduce Function"
      ]
    },
    {
      "cell_type": "code",
      "metadata": {
        "id": "wrqpZ0krwz8U",
        "outputId": "7dd21e73-50bd-4a4d-a2ce-77ef4c733359",
        "colab": {
          "base_uri": "https://localhost:8080/"
        }
      },
      "source": [
        "from functools import reduce\n",
        "\n",
        "city = ['L', 'o', 'n', 'd', 'o', 'n', 2, 0, 2, 0]\n",
        "city_to_str = reduce(lambda x, y: str(x) + str(y), city)\n",
        "print(city_to_str)"
      ],
      "execution_count": 3,
      "outputs": [
        {
          "output_type": "stream",
          "text": [
            "London2020\n"
          ],
          "name": "stdout"
        }
      ]
    },
    {
      "cell_type": "markdown",
      "metadata": {
        "id": "e6E3tc65w4ts"
      },
      "source": [
        "# The Filter Function"
      ]
    },
    {
      "cell_type": "code",
      "metadata": {
        "id": "FA3gfxlww3rR",
        "outputId": "2bb1569e-e2eb-4264-8933-01be77a2861b",
        "colab": {
          "base_uri": "https://localhost:8080/"
        }
      },
      "source": [
        "names = ['yAnG', 'MASk', 'thoMas', 'LISA']\n",
        "names = map(str.capitalize, names)\n",
        "names = filter(lambda x: len(x) <= 4, names)\n",
        "print(list(names))"
      ],
      "execution_count": 4,
      "outputs": [
        {
          "output_type": "stream",
          "text": [
            "['Yang', 'Mask', 'Lisa']\n"
          ],
          "name": "stdout"
        }
      ]
    },
    {
      "cell_type": "markdown",
      "metadata": {
        "id": "uE5o0ObFw7Ah"
      },
      "source": [
        "# The Sort Function"
      ]
    },
    {
      "cell_type": "code",
      "metadata": {
        "id": "4pa_9NJbw5vW",
        "outputId": "9c0b8883-3b9e-46f4-a7b0-730eae435bd1",
        "colab": {
          "base_uri": "https://localhost:8080/"
        }
      },
      "source": [
        "names = ['Yang', 'Robert', 'Tom', 'Gates']\n",
        "names = sorted(names, key=len)\n",
        "print(names)"
      ],
      "execution_count": 5,
      "outputs": [
        {
          "output_type": "stream",
          "text": [
            "['Tom', 'Yang', 'Gates', 'Robert']\n"
          ],
          "name": "stdout"
        }
      ]
    },
    {
      "cell_type": "markdown",
      "metadata": {
        "id": "2sP-Wk57w-kO"
      },
      "source": [
        " # Return a Function"
      ]
    },
    {
      "cell_type": "code",
      "metadata": {
        "id": "d9GHlz1vw8uC",
        "outputId": "3228bc34-dd52-4aa7-b3c0-242cdc7fc869",
        "colab": {
          "base_uri": "https://localhost:8080/"
        }
      },
      "source": [
        "def lazy_sum(numbers: list):\n",
        "    def sum():\n",
        "        s = 0\n",
        "        for n in numbers:\n",
        "            s += n\n",
        "        return s\n",
        "\n",
        "    return sum\n",
        "\n",
        "func = lazy_sum([1, 2, 3, 4, 5])\n",
        "print(func)"
      ],
      "execution_count": 6,
      "outputs": [
        {
          "output_type": "stream",
          "text": [
            "<function lazy_sum.<locals>.sum at 0x7f0799409ea0>\n"
          ],
          "name": "stdout"
        }
      ]
    },
    {
      "cell_type": "code",
      "metadata": {
        "id": "R1ZTGaxmxCIZ",
        "outputId": "f32cdc40-31b7-4f77-875c-f6210d2afabc",
        "colab": {
          "base_uri": "https://localhost:8080/"
        }
      },
      "source": [
        "print(func()) # 15"
      ],
      "execution_count": 7,
      "outputs": [
        {
          "output_type": "stream",
          "text": [
            "15\n"
          ],
          "name": "stdout"
        }
      ]
    }
  ]
}