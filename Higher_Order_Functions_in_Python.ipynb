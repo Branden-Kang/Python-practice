{
  "nbformat": 4,
  "nbformat_minor": 0,
  "metadata": {
    "colab": {
      "name": "Higher Order Functions in Python.ipynb",
      "provenance": [],
      "authorship_tag": "ABX9TyNemxfUFq2VdHVP4RQh7pO4"
    },
    "kernelspec": {
      "name": "python3",
      "display_name": "Python 3"
    }
  },
  "cells": [
    {
      "cell_type": "markdown",
      "metadata": {
        "id": "Vww4YqBgu1hU"
      },
      "source": [
        "[Reference](https://medium.com/illumination/higher-order-functions-in-python-ec2ca97eb408)"
      ]
    },
    {
      "cell_type": "code",
      "metadata": {
        "colab": {
          "base_uri": "https://localhost:8080/"
        },
        "id": "hYFseIEQuypq",
        "outputId": "e8ccb259-ace3-4f58-e2c6-4e7e70deeaa2"
      },
      "source": [
        "def doOperation(operation, number1, number2):\n",
        "    return operation(number1, number2)\n",
        "\n",
        "def sumBothNumbers(number1, number2):\n",
        "    return number1 + number2\n",
        "\n",
        "doOperation(sumBothNumbers, 4, 5)"
      ],
      "execution_count": 1,
      "outputs": [
        {
          "output_type": "execute_result",
          "data": {
            "text/plain": [
              "9"
            ]
          },
          "metadata": {
            "tags": []
          },
          "execution_count": 1
        }
      ]
    },
    {
      "cell_type": "code",
      "metadata": {
        "colab": {
          "base_uri": "https://localhost:8080/"
        },
        "id": "oi-zMAmMu6sl",
        "outputId": "5e92e901-4365-4dbb-c318-18584f8faa09"
      },
      "source": [
        "def multiplyBy(multiplier):\n",
        "    def result(num):\n",
        "        return num * multiplier\n",
        "    return result\n",
        "\n",
        "multiplyByThree = multiplyBy(3)\n",
        "multiplyByThree(4)\n"
      ],
      "execution_count": 2,
      "outputs": [
        {
          "output_type": "execute_result",
          "data": {
            "text/plain": [
              "12"
            ]
          },
          "metadata": {
            "tags": []
          },
          "execution_count": 2
        }
      ]
    },
    {
      "cell_type": "code",
      "metadata": {
        "colab": {
          "base_uri": "https://localhost:8080/"
        },
        "id": "PhjeeYjVu-dx",
        "outputId": "e20ee93e-81aa-46f1-9bdf-ff5dc86695cd"
      },
      "source": [
        "def filtering(arr, test):\n",
        "    passed = []\n",
        "    for element in arr:\n",
        "        if (test(element)):\n",
        "            passed.append(element)\n",
        "    return passed\n",
        "\n",
        "def isSuperNumber(num):\n",
        "    return num >= 10\n",
        "\n",
        "filtering([1, 5, 11, 3, 22], isSuperNumber)"
      ],
      "execution_count": 3,
      "outputs": [
        {
          "output_type": "execute_result",
          "data": {
            "text/plain": [
              "[11, 22]"
            ]
          },
          "metadata": {
            "tags": []
          },
          "execution_count": 3
        }
      ]
    },
    {
      "cell_type": "code",
      "metadata": {
        "colab": {
          "base_uri": "https://localhost:8080/"
        },
        "id": "2TmiCN57vApL",
        "outputId": "6aa0961b-87d1-4fd7-e25a-5e85118485fb"
      },
      "source": [
        "def mapping(arr, transform):\n",
        "    mapped = []\n",
        "    for element in arr:\n",
        "        mapped.append(transform(element))\n",
        "    return mapped\n",
        "\n",
        "def addTwo(num):\n",
        "    return num+2\n",
        "\n",
        "mapping([1, 2, 3], addTwo)"
      ],
      "execution_count": 4,
      "outputs": [
        {
          "output_type": "execute_result",
          "data": {
            "text/plain": [
              "[3, 4, 5]"
            ]
          },
          "metadata": {
            "tags": []
          },
          "execution_count": 4
        }
      ]
    },
    {
      "cell_type": "code",
      "metadata": {
        "colab": {
          "base_uri": "https://localhost:8080/"
        },
        "id": "bFUbvw09vDFc",
        "outputId": "b0801109-2879-42c3-f0d3-bb28a76a1c99"
      },
      "source": [
        "def reducing(reducer, initial, arr):\n",
        "    acc = initial\n",
        "    for element in arr:\n",
        "        acc = reducer(acc, element)\n",
        "    return acc\n",
        "\n",
        "def accum(acc, curr):\n",
        "    return acc + curr\n",
        "\n",
        "reducing(accum, 0, [1, 2, 3])"
      ],
      "execution_count": 5,
      "outputs": [
        {
          "output_type": "execute_result",
          "data": {
            "text/plain": [
              "6"
            ]
          },
          "metadata": {
            "tags": []
          },
          "execution_count": 5
        }
      ]
    }
  ]
}