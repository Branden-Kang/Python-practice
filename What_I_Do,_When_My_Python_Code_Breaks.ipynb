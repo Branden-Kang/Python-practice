{
  "nbformat": 4,
  "nbformat_minor": 0,
  "metadata": {
    "colab": {
      "provenance": [],
      "authorship_tag": "ABX9TyPEYVoJekK82z0G+olkXwQs"
    },
    "kernelspec": {
      "name": "python3",
      "display_name": "Python 3"
    },
    "language_info": {
      "name": "python"
    }
  },
  "cells": [
    {
      "cell_type": "markdown",
      "source": [
        "[Reference](https://python.plainenglish.io/what-i-do-when-my-python-code-breaks-ac84febfa898)"
      ],
      "metadata": {
        "id": "sC_ukW3XGANz"
      }
    },
    {
      "cell_type": "markdown",
      "source": [
        "# Step 1: We have to fix the problem — Debugging"
      ],
      "metadata": {
        "id": "xqlKbkKwGDKr"
      }
    },
    {
      "cell_type": "code",
      "execution_count": 1,
      "metadata": {
        "colab": {
          "base_uri": "https://localhost:8080/"
        },
        "id": "8gsPFs5hF57w",
        "outputId": "41269220-ec82-4135-da87-538921977cd2"
      },
      "outputs": [
        {
          "output_type": "stream",
          "name": "stdout",
          "text": [
            "KeyError: 'address'\n"
          ]
        }
      ],
      "source": [
        "my_dict = {\"name\": \"kiran\", \"age\": 24}\n",
        "try:\n",
        "    print(my_dict[\"address\"])\n",
        "except KeyError as e:\n",
        "    print(f\"KeyError: {e}\")"
      ]
    },
    {
      "cell_type": "code",
      "source": [
        "import pdb\n",
        "my_list = [1, 2, 3]\n",
        "pdb.set_trace()  # It will pause the program and open the debugger\n",
        "print(my_list[3])  # This will cause IndexError"
      ],
      "metadata": {
        "colab": {
          "base_uri": "https://localhost:8080/"
        },
        "id": "KYmQSsQ2GFG2",
        "outputId": "2525c3eb-0e32-41c5-e61d-a5a8bdf36086"
      },
      "execution_count": 2,
      "outputs": [
        {
          "name": "stdout",
          "output_type": "stream",
          "text": [
            "--Return--\n",
            "None\n",
            "> \u001b[0;32m<ipython-input-2-4735c2407405>\u001b[0m(3)\u001b[0;36m<cell line: 0>\u001b[0;34m()\u001b[0m\n",
            "\u001b[0;32m      1 \u001b[0;31m\u001b[0;32mimport\u001b[0m \u001b[0mpdb\u001b[0m\u001b[0;34m\u001b[0m\u001b[0;34m\u001b[0m\u001b[0m\n",
            "\u001b[0m\u001b[0;32m      2 \u001b[0;31m\u001b[0mmy_list\u001b[0m \u001b[0;34m=\u001b[0m \u001b[0;34m[\u001b[0m\u001b[0;36m1\u001b[0m\u001b[0;34m,\u001b[0m \u001b[0;36m2\u001b[0m\u001b[0;34m,\u001b[0m \u001b[0;36m3\u001b[0m\u001b[0;34m]\u001b[0m\u001b[0;34m\u001b[0m\u001b[0;34m\u001b[0m\u001b[0m\n",
            "\u001b[0m\u001b[0;32m----> 3 \u001b[0;31m\u001b[0mpdb\u001b[0m\u001b[0;34m.\u001b[0m\u001b[0mset_trace\u001b[0m\u001b[0;34m(\u001b[0m\u001b[0;34m)\u001b[0m  \u001b[0;31m# It will pause the program and open the debugger\u001b[0m\u001b[0;34m\u001b[0m\u001b[0;34m\u001b[0m\u001b[0m\n",
            "\u001b[0m\u001b[0;32m      4 \u001b[0;31m\u001b[0mprint\u001b[0m\u001b[0;34m(\u001b[0m\u001b[0mmy_list\u001b[0m\u001b[0;34m[\u001b[0m\u001b[0;36m3\u001b[0m\u001b[0;34m]\u001b[0m\u001b[0;34m)\u001b[0m  \u001b[0;31m# This will cause IndexError\u001b[0m\u001b[0;34m\u001b[0m\u001b[0;34m\u001b[0m\u001b[0m\n",
            "\u001b[0m\n",
            "ipdb> \n",
            "ipdb> \n",
            "ipdb> \n",
            "ipdb> exit\n"
          ]
        },
        {
          "output_type": "stream",
          "name": "stderr",
          "text": [
            "\n",
            "PYDEV DEBUGGER WARNING:\n",
            "sys.settrace() should not be used when the debugger is being used.\n",
            "This may cause the debugger to stop working correctly.\n",
            "If this is needed, please check: \n",
            "http://pydev.blogspot.com/2007/06/why-cant-pydev-debugger-work-with.html\n",
            "to see how to restore the debug tracing back correctly.\n",
            "Call Location:\n",
            "  File \"/usr/lib/python3.11/bdb.py\", line 361, in set_quit\n",
            "    sys.settrace(None)\n",
            "\n"
          ]
        }
      ]
    },
    {
      "cell_type": "code",
      "source": [
        "def divide(a, b):\n",
        "    return a / b\n",
        "\n",
        "def test_divide():\n",
        "    assert divide(10, 2) == 5\n",
        "    try:\n",
        "        divide(10, 0)\n",
        "    except ZeroDivisionError:\n",
        "        assert True\n",
        "\n",
        "# Now run with: pytest test_script.py"
      ],
      "metadata": {
        "id": "BN7FmboxGGgc"
      },
      "execution_count": 3,
      "outputs": []
    },
    {
      "cell_type": "markdown",
      "source": [
        "# Step 2: Improve the Code — Refactoring"
      ],
      "metadata": {
        "id": "ufTGeqLOGKPQ"
      }
    },
    {
      "cell_type": "code",
      "source": [
        "# Instead of writing this function\n",
        "def calculate_discount(price, discount):\n",
        "    if discount > price:\n",
        "        return 0\n",
        "    return price - discount\n",
        "\n",
        "\n",
        "# I write this by refactoring it into smaller functions\n",
        "def is_discount_valid(price, discount):\n",
        "    return discount <= price\n",
        "def apply_discount(price, discount):\n",
        "    return price - discount\n",
        "if is_discount_valid(100, 20):\n",
        "    print(apply_discount(100, 20))  # Output: 80"
      ],
      "metadata": {
        "colab": {
          "base_uri": "https://localhost:8080/"
        },
        "id": "KGWzaMIwGJG-",
        "outputId": "ac6551f1-e4d7-4cef-e9bb-3ffe0ce6f299"
      },
      "execution_count": 4,
      "outputs": [
        {
          "output_type": "stream",
          "name": "stdout",
          "text": [
            "80\n"
          ]
        }
      ]
    },
    {
      "cell_type": "code",
      "source": [
        "def validate_email(email):\n",
        "    return \"@\" in email and \".\" in email\n",
        "\n",
        "print(validate_email(\"kiran@gmail.com\"))  # Output: True\n",
        "print(validate_email(\"invalid-email\"))     # Output: False"
      ],
      "metadata": {
        "colab": {
          "base_uri": "https://localhost:8080/"
        },
        "id": "nhZ8ru_-GL2f",
        "outputId": "5f46135f-eca5-463a-bdc6-9ea9c1237ff1"
      },
      "execution_count": 5,
      "outputs": [
        {
          "output_type": "stream",
          "name": "stdout",
          "text": [
            "True\n",
            "False\n"
          ]
        }
      ]
    },
    {
      "cell_type": "code",
      "source": [
        "nums = [1, 2, 3, 4]\n",
        "# Using List comprehension\n",
        "squares = [x**2 for x in nums]\n",
        "print(squares)  # Output: [1, 4, 9, 16]"
      ],
      "metadata": {
        "colab": {
          "base_uri": "https://localhost:8080/"
        },
        "id": "LuCF3lYqGNv-",
        "outputId": "62b0eb7c-13da-4457-8374-95369069dc71"
      },
      "execution_count": 6,
      "outputs": [
        {
          "output_type": "stream",
          "name": "stdout",
          "text": [
            "[1, 4, 9, 16]\n"
          ]
        }
      ]
    },
    {
      "cell_type": "code",
      "source": [
        "import timeit\n",
        "def slow_function():\n",
        "    return sum([i for i in range(1000000)])\n",
        "\n",
        "def fast_function():\n",
        "    return sum(range(1000000))\n",
        "\n",
        "print(timeit.timeit(slow_function, number=10))\n",
        "print(timeit.timeit(fast_function, number=10))"
      ],
      "metadata": {
        "colab": {
          "base_uri": "https://localhost:8080/"
        },
        "id": "gzL8tnsRGPDH",
        "outputId": "b01c02c8-bf7f-4fef-ca2a-51447f09e900"
      },
      "execution_count": 7,
      "outputs": [
        {
          "output_type": "stream",
          "name": "stdout",
          "text": [
            "0.7720181760000173\n",
            "0.17902536699997995\n"
          ]
        }
      ]
    }
  ]
}