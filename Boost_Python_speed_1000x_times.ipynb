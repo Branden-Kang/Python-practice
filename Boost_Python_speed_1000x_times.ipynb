{
  "nbformat": 4,
  "nbformat_minor": 0,
  "metadata": {
    "colab": {
      "name": "Boost Python speed 1000x times.ipynb",
      "provenance": [],
      "authorship_tag": "ABX9TyMdHgO1GohRAzh23RNsCFNQ"
    },
    "kernelspec": {
      "name": "python3",
      "display_name": "Python 3"
    },
    "language_info": {
      "name": "python"
    }
  },
  "cells": [
    {
      "cell_type": "markdown",
      "metadata": {
        "id": "Bn-2ZbgBNrIk"
      },
      "source": [
        "[Reference](https://python.plainenglish.io/a-solution-to-boost-python-speed-1000x-times-c9e7d5be2f40)"
      ]
    },
    {
      "cell_type": "code",
      "metadata": {
        "colab": {
          "base_uri": "https://localhost:8080/"
        },
        "id": "3sPmbohtNpKj",
        "outputId": "cad07859-196f-41ca-a5f4-080a7a8da0ee"
      },
      "source": [
        "import numpy as np\n",
        "np.random.seed(0)\n",
        "values = np.random.randint(1, 100, size=1000000)\n",
        "def get_reciprocal(values):\n",
        "    output = np.empty(len(values))\n",
        "    for i in range(len(values)):\n",
        "        output[i] = 1.0/values[i]\n",
        "%timeit get_reciprocal(values)"
      ],
      "execution_count": 1,
      "outputs": [
        {
          "output_type": "stream",
          "text": [
            "1 loop, best of 5: 2.23 s per loop\n"
          ],
          "name": "stdout"
        }
      ]
    },
    {
      "cell_type": "code",
      "metadata": {
        "colab": {
          "base_uri": "https://localhost:8080/"
        },
        "id": "cjCTaJGMNuzg",
        "outputId": "5633b03d-b58e-4f2b-ca42-8b3c3ead2280"
      },
      "source": [
        "import numpy as np\n",
        "np.random.seed(0)\n",
        "values = np.random.randint(1, 100, size=1000000)\n",
        "%timeit result = 1.0/values"
      ],
      "execution_count": 2,
      "outputs": [
        {
          "output_type": "stream",
          "text": [
            "100 loops, best of 5: 2.76 ms per loop\n"
          ],
          "name": "stdout"
        }
      ]
    }
  ]
}