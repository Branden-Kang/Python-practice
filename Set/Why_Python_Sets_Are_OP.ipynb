{
  "nbformat": 4,
  "nbformat_minor": 0,
  "metadata": {
    "colab": {
      "provenance": [],
      "authorship_tag": "ABX9TyOiUbgKe0jJhgdudvjTxkh6"
    },
    "kernelspec": {
      "name": "python3",
      "display_name": "Python 3"
    },
    "language_info": {
      "name": "python"
    }
  },
  "cells": [
    {
      "cell_type": "markdown",
      "source": [
        "[Reference](https://levelup.gitconnected.com/why-python-sets-are-op-9eca331c23c3)"
      ],
      "metadata": {
        "id": "mIlouPp2jHhb"
      }
    },
    {
      "cell_type": "markdown",
      "source": [
        "# 1. Merging Two Lists"
      ],
      "metadata": {
        "id": "CYX6U7_ujWme"
      }
    },
    {
      "cell_type": "code",
      "execution_count": 1,
      "metadata": {
        "colab": {
          "base_uri": "https://localhost:8080/"
        },
        "id": "nix_mID_i41X",
        "outputId": "d01b34d1-1360-4abc-fe37-deec86b42b51"
      },
      "outputs": [
        {
          "output_type": "stream",
          "name": "stdout",
          "text": [
            "[1, 2, 3, 3, 4, 5]\n"
          ]
        }
      ],
      "source": [
        "arrayA = [1, 2, 3]\n",
        "arrayB = [3, 4, 5]\n",
        "combined = arrayA + arrayB\n",
        "print(combined)"
      ]
    },
    {
      "cell_type": "markdown",
      "source": [
        "# 2. Removing Duplicates with Sets"
      ],
      "metadata": {
        "id": "_3eV3bbJjZXM"
      }
    },
    {
      "cell_type": "code",
      "source": [
        "combined_set = set([1, 2, 3, 3, 4, 5])\n",
        "print(combined_set)"
      ],
      "metadata": {
        "colab": {
          "base_uri": "https://localhost:8080/"
        },
        "id": "7xQ11qxgjYf3",
        "outputId": "a2f94180-e925-46ec-93a6-000f74b57c2a"
      },
      "execution_count": 2,
      "outputs": [
        {
          "output_type": "stream",
          "name": "stdout",
          "text": [
            "{1, 2, 3, 4, 5}\n"
          ]
        }
      ]
    },
    {
      "cell_type": "markdown",
      "source": [
        "# 3. Sorting the Set"
      ],
      "metadata": {
        "id": "zOOWPbOKjcUa"
      }
    },
    {
      "cell_type": "code",
      "source": [
        "sorted_list = sorted({1, 2, 3, 4, 5})\n",
        "print(sorted_list)"
      ],
      "metadata": {
        "colab": {
          "base_uri": "https://localhost:8080/"
        },
        "id": "B3dNuWiQjbTe",
        "outputId": "b098830a-54dc-4486-b316-411c4d88c631"
      },
      "execution_count": 3,
      "outputs": [
        {
          "output_type": "stream",
          "name": "stdout",
          "text": [
            "[1, 2, 3, 4, 5]\n"
          ]
        }
      ]
    },
    {
      "cell_type": "code",
      "source": [
        "def merge_arrays(arrayA, arrayB):\n",
        "    return sorted(set(arrayA + arrayB))\n",
        "\n",
        "# Example usage\n",
        "arrayA = [1, 2, 3, 4]\n",
        "arrayB = [3, 4, 5, 6]\n",
        "\n",
        "result = merge_arrays(arrayA, arrayB)\n",
        "print(result)"
      ],
      "metadata": {
        "colab": {
          "base_uri": "https://localhost:8080/"
        },
        "id": "Jh8OYfsZjeu3",
        "outputId": "a5450f30-cd61-4b68-df7d-fd3ce7b66034"
      },
      "execution_count": 4,
      "outputs": [
        {
          "output_type": "stream",
          "name": "stdout",
          "text": [
            "[1, 2, 3, 4, 5, 6]\n"
          ]
        }
      ]
    }
  ]
}
