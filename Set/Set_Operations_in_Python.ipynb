{
  "nbformat": 4,
  "nbformat_minor": 0,
  "metadata": {
    "colab": {
      "name": "Set Operations in Python.ipynb",
      "provenance": [],
      "authorship_tag": "ABX9TyNOv/xLXfXSAGrlDUXuLFrG"
    },
    "kernelspec": {
      "name": "python3",
      "display_name": "Python 3"
    }
  },
  "cells": [
    {
      "cell_type": "markdown",
      "metadata": {
        "id": "i4t-9yDDvA6Q"
      },
      "source": [
        "# union()"
      ]
    },
    {
      "cell_type": "code",
      "metadata": {
        "colab": {
          "base_uri": "https://localhost:8080/"
        },
        "id": "c9QOceqGS1a-",
        "outputId": "226a7147-84fa-4184-be8f-ad38f73037af"
      },
      "source": [
        "A={1,2,3,4,5}\n",
        "B={2,4,6,8}\n",
        "print (A.union(B))#Output:{1, 2, 3, 4, 5, 6, 8}\n",
        "print (A|B)#Output:{1, 2, 3, 4, 5, 6, 8}"
      ],
      "execution_count": 1,
      "outputs": [
        {
          "output_type": "stream",
          "text": [
            "{1, 2, 3, 4, 5, 6, 8}\n",
            "{1, 2, 3, 4, 5, 6, 8}\n"
          ],
          "name": "stdout"
        }
      ]
    },
    {
      "cell_type": "code",
      "metadata": {
        "colab": {
          "base_uri": "https://localhost:8080/"
        },
        "id": "XhP6Y7vSuqAX",
        "outputId": "a0d7ca77-f1f2-46dc-e464-275ece91c3b8"
      },
      "source": [
        "A={1,2,3,4,5}\n",
        "B={2,4,6,8,10}\n",
        "C={1,3,5,7,9}\n",
        "print (A|B|C)#Output:{1, 2, 3, 4, 5, 6, 7, 8, 9, 10}\n",
        "print (A.union(B,C))#Output:{1, 2, 3, 4, 5, 6, 7, 8, 9, 10}"
      ],
      "execution_count": 2,
      "outputs": [
        {
          "output_type": "stream",
          "text": [
            "{1, 2, 3, 4, 5, 6, 7, 8, 9, 10}\n",
            "{1, 2, 3, 4, 5, 6, 7, 8, 9, 10}\n"
          ],
          "name": "stdout"
        }
      ]
    },
    {
      "cell_type": "code",
      "metadata": {
        "colab": {
          "base_uri": "https://localhost:8080/"
        },
        "id": "KXCyAbytuyhM",
        "outputId": "68ead6ac-e1b7-4bd1-e8a7-f04afa8d6841"
      },
      "source": [
        "A={1,2,3,4,5}\n",
        "#iterable is given as list\n",
        "print (A.union([2,4,6]))#Output:{1, 2, 3, 4, 5, 6}\n",
        "\n",
        "#iterable is given as tuple\n",
        "print (A.union((2,4,6)))#Output:{1, 2, 3, 4, 5, 6}\n",
        "\n",
        "#iterable is given as range object\n",
        "print (A.union(range(5,10)))#Output:{1, 2, 3, 4, 5, 6, 7, 8, 9}\n",
        "\n",
        "#iterable is given as a dictionary\n",
        "print (A.union({'a':6,'b':7}))#Output:{1, 2, 3, 4, 5, 'b', 'a'}"
      ],
      "execution_count": 3,
      "outputs": [
        {
          "output_type": "stream",
          "text": [
            "{1, 2, 3, 4, 5, 6}\n",
            "{1, 2, 3, 4, 5, 6}\n",
            "{1, 2, 3, 4, 5, 6, 7, 8, 9}\n",
            "{1, 2, 3, 4, 5, 'a', 'b'}\n"
          ],
          "name": "stdout"
        }
      ]
    },
    {
      "cell_type": "code",
      "metadata": {
        "colab": {
          "base_uri": "https://localhost:8080/",
          "height": 266
        },
        "id": "p0ygeieAu5Kf",
        "outputId": "773c28bf-9187-4003-b18c-ce254744f6cc"
      },
      "source": [
        "A={1,2,3,4,5}\n",
        "B=[1,2,3]\n",
        "print (A|B)\n",
        "#Output:TypeError: unsupported operand type(s) for |: 'set' and 'list'"
      ],
      "execution_count": 4,
      "outputs": [
        {
          "output_type": "error",
          "ename": "TypeError",
          "evalue": "ignored",
          "traceback": [
            "\u001b[0;31m---------------------------------------------------------------------------\u001b[0m",
            "\u001b[0;31mTypeError\u001b[0m                                 Traceback (most recent call last)",
            "\u001b[0;32m<ipython-input-4-bfe99643b338>\u001b[0m in \u001b[0;36m<module>\u001b[0;34m()\u001b[0m\n\u001b[1;32m      1\u001b[0m \u001b[0mA\u001b[0m\u001b[0;34m=\u001b[0m\u001b[0;34m{\u001b[0m\u001b[0;36m1\u001b[0m\u001b[0;34m,\u001b[0m\u001b[0;36m2\u001b[0m\u001b[0;34m,\u001b[0m\u001b[0;36m3\u001b[0m\u001b[0;34m,\u001b[0m\u001b[0;36m4\u001b[0m\u001b[0;34m,\u001b[0m\u001b[0;36m5\u001b[0m\u001b[0;34m}\u001b[0m\u001b[0;34m\u001b[0m\u001b[0;34m\u001b[0m\u001b[0m\n\u001b[1;32m      2\u001b[0m \u001b[0mB\u001b[0m\u001b[0;34m=\u001b[0m\u001b[0;34m[\u001b[0m\u001b[0;36m1\u001b[0m\u001b[0;34m,\u001b[0m\u001b[0;36m2\u001b[0m\u001b[0;34m,\u001b[0m\u001b[0;36m3\u001b[0m\u001b[0;34m]\u001b[0m\u001b[0;34m\u001b[0m\u001b[0;34m\u001b[0m\u001b[0m\n\u001b[0;32m----> 3\u001b[0;31m \u001b[0mprint\u001b[0m \u001b[0;34m(\u001b[0m\u001b[0mA\u001b[0m\u001b[0;34m|\u001b[0m\u001b[0mB\u001b[0m\u001b[0;34m)\u001b[0m\u001b[0;34m\u001b[0m\u001b[0;34m\u001b[0m\u001b[0m\n\u001b[0m\u001b[1;32m      4\u001b[0m \u001b[0;31m#Output:TypeError: unsupported operand type(s) for |: 'set' and 'list'\u001b[0m\u001b[0;34m\u001b[0m\u001b[0;34m\u001b[0m\u001b[0;34m\u001b[0m\u001b[0m\n",
            "\u001b[0;31mTypeError\u001b[0m: unsupported operand type(s) for |: 'set' and 'list'"
          ]
        }
      ]
    },
    {
      "cell_type": "markdown",
      "metadata": {
        "id": "9BcNPvhgvDT0"
      },
      "source": [
        "# update()"
      ]
    },
    {
      "cell_type": "code",
      "metadata": {
        "colab": {
          "base_uri": "https://localhost:8080/"
        },
        "id": "xe_Ig8wdu7gb",
        "outputId": "d87e5467-85ab-40f3-9672-977c4426fcf4"
      },
      "source": [
        "#update()\n",
        "A={1,2,3,4,5}\n",
        "B={4,5,6,7,8}\n",
        "print (A.update(B)) #Output: None\n",
        "print (A) #Output: {1, 2, 3, 4, 5, 6, 7, 8}A={1,2,3,4,5}\n",
        "B={4,5,6,7,8}\n",
        "A|=B\n",
        "print (A) #Output: {1, 2, 3, 4, 5, 6, 7, 8}"
      ],
      "execution_count": 5,
      "outputs": [
        {
          "output_type": "stream",
          "text": [
            "None\n",
            "{1, 2, 3, 4, 5, 6, 7, 8}\n",
            "{1, 2, 3, 4, 5, 6, 7, 8}\n"
          ],
          "name": "stdout"
        }
      ]
    },
    {
      "cell_type": "code",
      "metadata": {
        "colab": {
          "base_uri": "https://localhost:8080/"
        },
        "id": "fs502WlzvZUV",
        "outputId": "7738414d-e234-477d-fed8-99c19af1589e"
      },
      "source": [
        "#update()\n",
        "A={1,2,3}\n",
        "B={3,4,5}\n",
        "C={5,6,7}\n",
        "print (A.update(B,C)) #Output: None\n",
        "print (A) #Output: {1, 2, 3, 4, 5, 6, 7}\n",
        "\n",
        "A={1,2,3}\n",
        "B={3,4,5}\n",
        "C={5,6,7}\n",
        "A|=B|C\n",
        "print (A) #Output: {1, 2, 3, 4, 5, 6, 7}"
      ],
      "execution_count": 7,
      "outputs": [
        {
          "output_type": "stream",
          "text": [
            "None\n",
            "{1, 2, 3, 4, 5, 6, 7}\n",
            "{1, 2, 3, 4, 5, 6, 7}\n"
          ],
          "name": "stdout"
        }
      ]
    },
    {
      "cell_type": "code",
      "metadata": {
        "colab": {
          "base_uri": "https://localhost:8080/"
        },
        "id": "1gU-esQhwK6D",
        "outputId": "4dd68c59-5c70-4c83-a3f3-e1aa6e1995b6"
      },
      "source": [
        "A={1,2,3}\n",
        "#iterable is given as list\n",
        "print (A.update([2,3,4]))#Output:None\n",
        "print (A)#Output:{1,2,3,4}\n",
        "\n",
        "#iterable is given as tuple\n",
        "A={1,2,3}\n",
        "A.update((2,3,4))\n",
        "print (A)#Output:{1,2,3,4}\n",
        "\n",
        "#iterable is given as range object\n",
        "A={1,2,3}\n",
        "A.update(range(2,5))\n",
        "print (A)#Output:{1,2,3,4}\n",
        "\n",
        "#iterable is given as a dictionary\n",
        "A={1,2,3}\n",
        "A.update({2:'a',3:'b'})\n",
        "print (A) #Output:{1, 2, 3}"
      ],
      "execution_count": 8,
      "outputs": [
        {
          "output_type": "stream",
          "text": [
            "None\n",
            "{1, 2, 3, 4}\n",
            "{1, 2, 3, 4}\n",
            "{1, 2, 3, 4}\n",
            "{1, 2, 3}\n"
          ],
          "name": "stdout"
        }
      ]
    },
    {
      "cell_type": "code",
      "metadata": {
        "colab": {
          "base_uri": "https://localhost:8080/",
          "height": 266
        },
        "id": "N1OlOlCzwNBh",
        "outputId": "57782e4b-0a22-4fd2-9274-26db2355ad5c"
      },
      "source": [
        "#iterable is given as tuple\n",
        "A={1,2,3}\n",
        "B=(3,4)\n",
        "A|=B\n",
        "#Output:TypeError: unsupported operand type(s) for |=: 'set' and 'tuple'"
      ],
      "execution_count": 9,
      "outputs": [
        {
          "output_type": "error",
          "ename": "TypeError",
          "evalue": "ignored",
          "traceback": [
            "\u001b[0;31m---------------------------------------------------------------------------\u001b[0m",
            "\u001b[0;31mTypeError\u001b[0m                                 Traceback (most recent call last)",
            "\u001b[0;32m<ipython-input-9-c2cd652545d8>\u001b[0m in \u001b[0;36m<module>\u001b[0;34m()\u001b[0m\n\u001b[1;32m      2\u001b[0m \u001b[0mA\u001b[0m\u001b[0;34m=\u001b[0m\u001b[0;34m{\u001b[0m\u001b[0;36m1\u001b[0m\u001b[0;34m,\u001b[0m\u001b[0;36m2\u001b[0m\u001b[0;34m,\u001b[0m\u001b[0;36m3\u001b[0m\u001b[0;34m}\u001b[0m\u001b[0;34m\u001b[0m\u001b[0;34m\u001b[0m\u001b[0m\n\u001b[1;32m      3\u001b[0m \u001b[0mB\u001b[0m\u001b[0;34m=\u001b[0m\u001b[0;34m(\u001b[0m\u001b[0;36m3\u001b[0m\u001b[0;34m,\u001b[0m\u001b[0;36m4\u001b[0m\u001b[0;34m)\u001b[0m\u001b[0;34m\u001b[0m\u001b[0;34m\u001b[0m\u001b[0m\n\u001b[0;32m----> 4\u001b[0;31m \u001b[0mA\u001b[0m\u001b[0;34m|=\u001b[0m\u001b[0mB\u001b[0m\u001b[0;34m\u001b[0m\u001b[0;34m\u001b[0m\u001b[0m\n\u001b[0m\u001b[1;32m      5\u001b[0m \u001b[0;31m#Output:TypeError: unsupported operand type(s) for |=: 'set' and 'tuple'\u001b[0m\u001b[0;34m\u001b[0m\u001b[0;34m\u001b[0m\u001b[0;34m\u001b[0m\u001b[0m\n",
            "\u001b[0;31mTypeError\u001b[0m: unsupported operand type(s) for |=: 'set' and 'tuple'"
          ]
        }
      ]
    },
    {
      "cell_type": "markdown",
      "metadata": {
        "id": "B_t8i6lgwQxw"
      },
      "source": [
        "# intersection()"
      ]
    },
    {
      "cell_type": "code",
      "metadata": {
        "colab": {
          "base_uri": "https://localhost:8080/"
        },
        "id": "KsuGZKDmwPEr",
        "outputId": "542cfc0c-d5e5-439d-e59b-ce843674d350"
      },
      "source": [
        "A={1,2,3,4,5}\n",
        "B={2,4,6,8}\n",
        "#intersection is performed by intersection() method or & operator\n",
        "print (A.intersection(B))#Output:{2,4}\n",
        "print (A&B)#Output:{2,4}"
      ],
      "execution_count": 10,
      "outputs": [
        {
          "output_type": "stream",
          "text": [
            "{2, 4}\n",
            "{2, 4}\n"
          ],
          "name": "stdout"
        }
      ]
    },
    {
      "cell_type": "code",
      "metadata": {
        "colab": {
          "base_uri": "https://localhost:8080/"
        },
        "id": "LKrIB5jzwWIV",
        "outputId": "869dcba6-8eaa-4e87-eb45-00b561c4cb65"
      },
      "source": [
        "A={1,2,3,4,5}\n",
        "B={2,4,6,8,10}\n",
        "C={2,4}\n",
        "print (A&B&C)#Output:{2,4}\n",
        "print (A.intersection(B,C))#Output:{2,4}"
      ],
      "execution_count": 11,
      "outputs": [
        {
          "output_type": "stream",
          "text": [
            "{2, 4}\n",
            "{2, 4}\n"
          ],
          "name": "stdout"
        }
      ]
    },
    {
      "cell_type": "code",
      "metadata": {
        "colab": {
          "base_uri": "https://localhost:8080/"
        },
        "id": "LGKjCIbmwY7q",
        "outputId": "a98d7f2f-8281-4a0a-f07b-c9c605741ac5"
      },
      "source": [
        "A={1,2,3,4,5}\n",
        "#iterable is given as list\n",
        "print (A.intersection([1,4,6]))#Output:{1,4}\n",
        "\n",
        "#iterable is given as tuple\n",
        "print (A.intersection((2,4,6)))#Output:{2,4}\n",
        "\n",
        "#iterable is given as range object\n",
        "print (A.intersection(range(5,10)))#Output:{5}\n",
        "\n",
        "#iterable is given as a dictionary\n",
        "print (A.intersection({1:'a','b':7}))#Output:{1}"
      ],
      "execution_count": 12,
      "outputs": [
        {
          "output_type": "stream",
          "text": [
            "{1, 4}\n",
            "{2, 4}\n",
            "{5}\n",
            "{1}\n"
          ],
          "name": "stdout"
        }
      ]
    },
    {
      "cell_type": "code",
      "metadata": {
        "colab": {
          "base_uri": "https://localhost:8080/",
          "height": 266
        },
        "id": "AIFslSAfwjpW",
        "outputId": "daee2aa7-9578-40d3-8cfa-982f27ea3f86"
      },
      "source": [
        "A={1,2,3,4,5}\n",
        "B=[1,2,3]\n",
        "print (A&B)\n",
        "#Output:TypeError: unsupported operand type(s) for &: 'set' and 'list'"
      ],
      "execution_count": 13,
      "outputs": [
        {
          "output_type": "error",
          "ename": "TypeError",
          "evalue": "ignored",
          "traceback": [
            "\u001b[0;31m---------------------------------------------------------------------------\u001b[0m",
            "\u001b[0;31mTypeError\u001b[0m                                 Traceback (most recent call last)",
            "\u001b[0;32m<ipython-input-13-3c9999435760>\u001b[0m in \u001b[0;36m<module>\u001b[0;34m()\u001b[0m\n\u001b[1;32m      1\u001b[0m \u001b[0mA\u001b[0m\u001b[0;34m=\u001b[0m\u001b[0;34m{\u001b[0m\u001b[0;36m1\u001b[0m\u001b[0;34m,\u001b[0m\u001b[0;36m2\u001b[0m\u001b[0;34m,\u001b[0m\u001b[0;36m3\u001b[0m\u001b[0;34m,\u001b[0m\u001b[0;36m4\u001b[0m\u001b[0;34m,\u001b[0m\u001b[0;36m5\u001b[0m\u001b[0;34m}\u001b[0m\u001b[0;34m\u001b[0m\u001b[0;34m\u001b[0m\u001b[0m\n\u001b[1;32m      2\u001b[0m \u001b[0mB\u001b[0m\u001b[0;34m=\u001b[0m\u001b[0;34m[\u001b[0m\u001b[0;36m1\u001b[0m\u001b[0;34m,\u001b[0m\u001b[0;36m2\u001b[0m\u001b[0;34m,\u001b[0m\u001b[0;36m3\u001b[0m\u001b[0;34m]\u001b[0m\u001b[0;34m\u001b[0m\u001b[0;34m\u001b[0m\u001b[0m\n\u001b[0;32m----> 3\u001b[0;31m \u001b[0mprint\u001b[0m \u001b[0;34m(\u001b[0m\u001b[0mA\u001b[0m\u001b[0;34m&\u001b[0m\u001b[0mB\u001b[0m\u001b[0;34m)\u001b[0m\u001b[0;34m\u001b[0m\u001b[0;34m\u001b[0m\u001b[0m\n\u001b[0m\u001b[1;32m      4\u001b[0m \u001b[0;31m#Output:TypeError: unsupported operand type(s) for &: 'set' and 'list'\u001b[0m\u001b[0;34m\u001b[0m\u001b[0;34m\u001b[0m\u001b[0;34m\u001b[0m\u001b[0m\n",
            "\u001b[0;31mTypeError\u001b[0m: unsupported operand type(s) for &: 'set' and 'list'"
          ]
        }
      ]
    },
    {
      "cell_type": "markdown",
      "metadata": {
        "id": "9o5-9B9YwmHL"
      },
      "source": [
        "# intersection_update()"
      ]
    },
    {
      "cell_type": "code",
      "metadata": {
        "colab": {
          "base_uri": "https://localhost:8080/"
        },
        "id": "ylgZLvD9wk_o",
        "outputId": "da46cf58-93d3-46b1-cb9c-754e98fd99db"
      },
      "source": [
        "#intersection_update()\n",
        "A={1,2,3,4,5}\n",
        "B={4,5,6,7,8}\n",
        "print (A.intersection_update(B)) #Output: None\n",
        "print (A) #Output: {4,5}A={1,2,3,4,5}\n",
        "B={4,5,6,7,8}\n",
        "A&=B\n",
        "print (A) #Output: {4,5}"
      ],
      "execution_count": 14,
      "outputs": [
        {
          "output_type": "stream",
          "text": [
            "None\n",
            "{4, 5}\n",
            "{4, 5}\n"
          ],
          "name": "stdout"
        }
      ]
    },
    {
      "cell_type": "markdown",
      "metadata": {
        "id": "oPJQtu77yyfL"
      },
      "source": [
        "# difference()"
      ]
    },
    {
      "cell_type": "code",
      "metadata": {
        "colab": {
          "base_uri": "https://localhost:8080/"
        },
        "id": "0kxayGkjygjf",
        "outputId": "4b9e886a-fab4-410a-dfe2-3911630ae5f5"
      },
      "source": [
        "A={1,2,3,4,5}\n",
        "B={2,4,6,8}\n",
        "\n",
        "print (A.difference(B))#Output:{1,3,5}\n",
        "print (A-B)#Output:{1,3,5}"
      ],
      "execution_count": 15,
      "outputs": [
        {
          "output_type": "stream",
          "text": [
            "{1, 3, 5}\n",
            "{1, 3, 5}\n"
          ],
          "name": "stdout"
        }
      ]
    },
    {
      "cell_type": "code",
      "metadata": {
        "colab": {
          "base_uri": "https://localhost:8080/"
        },
        "id": "5Pz8sd0Vyz5X",
        "outputId": "7c72c99e-146c-4084-dbc8-5ac3c3a832f6"
      },
      "source": [
        "A={1,2,3,4,5}\n",
        "B={2,4,6,8,10}\n",
        "C={2,3}\n",
        "print (A-B-C)#Output:{1,5}\n",
        "print (A.difference(B,C))#Output:{1,5}"
      ],
      "execution_count": 16,
      "outputs": [
        {
          "output_type": "stream",
          "text": [
            "{1, 5}\n",
            "{1, 5}\n"
          ],
          "name": "stdout"
        }
      ]
    },
    {
      "cell_type": "code",
      "metadata": {
        "colab": {
          "base_uri": "https://localhost:8080/"
        },
        "id": "ljZipU9Vy1Op",
        "outputId": "b47aafea-1638-474d-92b0-cfb867431c08"
      },
      "source": [
        "A={1,2,3,4,5}\n",
        "#iterable is given as list\n",
        "print (A.difference([1,2,3]))#Output:{4,5}\n",
        "\n",
        "#iterable is given as tuple\n",
        "print (A.difference((1,2,3)))#Output:{4,5}\n",
        "\n",
        "#iterable is given as range object\n",
        "print (A.difference(range(1,4)))#Output:{4,5}\n",
        "\n",
        "#iterable is given as a dictionary\n",
        "print (A.difference({1:'a',2:'b',3:'c'}))#Output:{4,5}"
      ],
      "execution_count": 17,
      "outputs": [
        {
          "output_type": "stream",
          "text": [
            "{4, 5}\n",
            "{4, 5}\n",
            "{4, 5}\n",
            "{4, 5}\n"
          ],
          "name": "stdout"
        }
      ]
    },
    {
      "cell_type": "code",
      "metadata": {
        "colab": {
          "base_uri": "https://localhost:8080/",
          "height": 266
        },
        "id": "2k_dObNCy27d",
        "outputId": "1e1c807b-c888-4e88-965b-3187e5d92e3f"
      },
      "source": [
        "A={1,2,3,4,5}\n",
        "B=[1,2,3]\n",
        "print (A-B)\n",
        "#Output:TypeError: unsupported operand type(s) for -: 'set' and 'list'"
      ],
      "execution_count": 18,
      "outputs": [
        {
          "output_type": "error",
          "ename": "TypeError",
          "evalue": "ignored",
          "traceback": [
            "\u001b[0;31m---------------------------------------------------------------------------\u001b[0m",
            "\u001b[0;31mTypeError\u001b[0m                                 Traceback (most recent call last)",
            "\u001b[0;32m<ipython-input-18-a6dfa9aaf75d>\u001b[0m in \u001b[0;36m<module>\u001b[0;34m()\u001b[0m\n\u001b[1;32m      1\u001b[0m \u001b[0mA\u001b[0m\u001b[0;34m=\u001b[0m\u001b[0;34m{\u001b[0m\u001b[0;36m1\u001b[0m\u001b[0;34m,\u001b[0m\u001b[0;36m2\u001b[0m\u001b[0;34m,\u001b[0m\u001b[0;36m3\u001b[0m\u001b[0;34m,\u001b[0m\u001b[0;36m4\u001b[0m\u001b[0;34m,\u001b[0m\u001b[0;36m5\u001b[0m\u001b[0;34m}\u001b[0m\u001b[0;34m\u001b[0m\u001b[0;34m\u001b[0m\u001b[0m\n\u001b[1;32m      2\u001b[0m \u001b[0mB\u001b[0m\u001b[0;34m=\u001b[0m\u001b[0;34m[\u001b[0m\u001b[0;36m1\u001b[0m\u001b[0;34m,\u001b[0m\u001b[0;36m2\u001b[0m\u001b[0;34m,\u001b[0m\u001b[0;36m3\u001b[0m\u001b[0;34m]\u001b[0m\u001b[0;34m\u001b[0m\u001b[0;34m\u001b[0m\u001b[0m\n\u001b[0;32m----> 3\u001b[0;31m \u001b[0mprint\u001b[0m \u001b[0;34m(\u001b[0m\u001b[0mA\u001b[0m\u001b[0;34m-\u001b[0m\u001b[0mB\u001b[0m\u001b[0;34m)\u001b[0m\u001b[0;34m\u001b[0m\u001b[0;34m\u001b[0m\u001b[0m\n\u001b[0m\u001b[1;32m      4\u001b[0m \u001b[0;31m#Output:TypeError: unsupported operand type(s) for -: 'set' and 'list'\u001b[0m\u001b[0;34m\u001b[0m\u001b[0;34m\u001b[0m\u001b[0;34m\u001b[0m\u001b[0m\n",
            "\u001b[0;31mTypeError\u001b[0m: unsupported operand type(s) for -: 'set' and 'list'"
          ]
        }
      ]
    },
    {
      "cell_type": "markdown",
      "metadata": {
        "id": "JuPQkJDBy5Uz"
      },
      "source": [
        "# difference_update()"
      ]
    },
    {
      "cell_type": "code",
      "metadata": {
        "colab": {
          "base_uri": "https://localhost:8080/"
        },
        "id": "8QFDehaRy4D2",
        "outputId": "f562dec2-2fdb-43e7-fad3-2ce8e4c8ef81"
      },
      "source": [
        "A={1,2,3,4,5}\n",
        "B={2,4,6}\n",
        "#Return type is None.\n",
        "print (A.difference_update(B))#Output:None\n",
        "#It will update the original set\n",
        "print (A) #Output: {1,3,5}\n",
        "\n",
        "# difference_update by using -= operator\n",
        "A-=(B)\n",
        "print (A) #Output: {1,3,5}"
      ],
      "execution_count": 19,
      "outputs": [
        {
          "output_type": "stream",
          "text": [
            "None\n",
            "{1, 3, 5}\n",
            "{1, 3, 5}\n"
          ],
          "name": "stdout"
        }
      ]
    },
    {
      "cell_type": "code",
      "metadata": {
        "colab": {
          "base_uri": "https://localhost:8080/"
        },
        "id": "9S5NxYzuy8PJ",
        "outputId": "08b01f27-4ae9-417c-b1fd-0da0e69fe785"
      },
      "source": [
        "#difference_update() will modify the original set.\n",
        "A={1,2,3}\n",
        "B={1}\n",
        "C={2}\n",
        "#Return type is None.\n",
        "print (A.difference_update(B,C))#Output:None\n",
        "#It will update the original set\n",
        "print (A) #Output: {3}\n",
        "\n",
        "# difference_update by using -= operator\n",
        "A={1,2,3}\n",
        "B={1}\n",
        "C={2}\n",
        "A-=B|C\n",
        "print (A) #Output: {3}"
      ],
      "execution_count": 20,
      "outputs": [
        {
          "output_type": "stream",
          "text": [
            "None\n",
            "{3}\n",
            "{3}\n"
          ],
          "name": "stdout"
        }
      ]
    },
    {
      "cell_type": "code",
      "metadata": {
        "colab": {
          "base_uri": "https://localhost:8080/"
        },
        "id": "xM7v03M_y96X",
        "outputId": "5000ca43-a250-4cb0-b699-1984b6072042"
      },
      "source": [
        "#iterable is given as list\n",
        "A={1,2,3}\n",
        "B=[1]\n",
        "print (A.difference_update(B))#Output:None\n",
        "print (A)#Output:{2,3}"
      ],
      "execution_count": 21,
      "outputs": [
        {
          "output_type": "stream",
          "text": [
            "None\n",
            "{2, 3}\n"
          ],
          "name": "stdout"
        }
      ]
    },
    {
      "cell_type": "code",
      "metadata": {
        "colab": {
          "base_uri": "https://localhost:8080/",
          "height": 283
        },
        "id": "qs2O7A3ky_Zl",
        "outputId": "4f6ddec4-ab10-4690-d313-9bb83744594f"
      },
      "source": [
        "A={1,2,3}\n",
        "B=[1]\n",
        "A-=B\n",
        "print (A) \n",
        "#Output: TypeError: unsupported operand type(s) for -=: 'set' and 'list'"
      ],
      "execution_count": 22,
      "outputs": [
        {
          "output_type": "error",
          "ename": "TypeError",
          "evalue": "ignored",
          "traceback": [
            "\u001b[0;31m---------------------------------------------------------------------------\u001b[0m",
            "\u001b[0;31mTypeError\u001b[0m                                 Traceback (most recent call last)",
            "\u001b[0;32m<ipython-input-22-08431428986c>\u001b[0m in \u001b[0;36m<module>\u001b[0;34m()\u001b[0m\n\u001b[1;32m      2\u001b[0m \u001b[0mA\u001b[0m\u001b[0;34m=\u001b[0m\u001b[0;34m{\u001b[0m\u001b[0;36m1\u001b[0m\u001b[0;34m,\u001b[0m\u001b[0;36m2\u001b[0m\u001b[0;34m,\u001b[0m\u001b[0;36m3\u001b[0m\u001b[0;34m}\u001b[0m\u001b[0;34m\u001b[0m\u001b[0;34m\u001b[0m\u001b[0m\n\u001b[1;32m      3\u001b[0m \u001b[0mB\u001b[0m\u001b[0;34m=\u001b[0m\u001b[0;34m[\u001b[0m\u001b[0;36m1\u001b[0m\u001b[0;34m]\u001b[0m\u001b[0;34m\u001b[0m\u001b[0;34m\u001b[0m\u001b[0m\n\u001b[0;32m----> 4\u001b[0;31m \u001b[0mA\u001b[0m\u001b[0;34m-=\u001b[0m\u001b[0mB\u001b[0m\u001b[0;34m\u001b[0m\u001b[0;34m\u001b[0m\u001b[0m\n\u001b[0m\u001b[1;32m      5\u001b[0m \u001b[0mprint\u001b[0m \u001b[0;34m(\u001b[0m\u001b[0mA\u001b[0m\u001b[0;34m)\u001b[0m\u001b[0;34m\u001b[0m\u001b[0;34m\u001b[0m\u001b[0m\n\u001b[1;32m      6\u001b[0m \u001b[0;31m#Output: TypeError: unsupported operand type(s) for -=: 'set' and 'list'\u001b[0m\u001b[0;34m\u001b[0m\u001b[0;34m\u001b[0m\u001b[0;34m\u001b[0m\u001b[0m\n",
            "\u001b[0;31mTypeError\u001b[0m: unsupported operand type(s) for -=: 'set' and 'list'"
          ]
        }
      ]
    },
    {
      "cell_type": "markdown",
      "metadata": {
        "id": "YokKfVTlzDVZ"
      },
      "source": [
        "# symmetric_difference()"
      ]
    },
    {
      "cell_type": "code",
      "metadata": {
        "colab": {
          "base_uri": "https://localhost:8080/"
        },
        "id": "QciZPsQUzAx2",
        "outputId": "369368c3-c31e-4f57-e0e6-9d7e51122c85"
      },
      "source": [
        "A={1,2}\n",
        "B={2,3}\n",
        "\n",
        "print (A.symmetric_difference(B))#Output:{1,3}\n",
        "print (A^B)#Output:{1,3}"
      ],
      "execution_count": 23,
      "outputs": [
        {
          "output_type": "stream",
          "text": [
            "{1, 3}\n",
            "{1, 3}\n"
          ],
          "name": "stdout"
        }
      ]
    },
    {
      "cell_type": "code",
      "metadata": {
        "colab": {
          "base_uri": "https://localhost:8080/",
          "height": 249
        },
        "id": "UCQ9Z_t8zFEa",
        "outputId": "b90a3442-cabb-4bcd-e3ac-8610f23d7671"
      },
      "source": [
        "A={1,2}\n",
        "B={2,3,5}\n",
        "C={3,4}\n",
        "\n",
        "print (A.symmetric_difference(B,C))#Output:TypeError: symmetric_difference() takes exactly one argument (2 given)"
      ],
      "execution_count": 24,
      "outputs": [
        {
          "output_type": "error",
          "ename": "TypeError",
          "evalue": "ignored",
          "traceback": [
            "\u001b[0;31m---------------------------------------------------------------------------\u001b[0m",
            "\u001b[0;31mTypeError\u001b[0m                                 Traceback (most recent call last)",
            "\u001b[0;32m<ipython-input-24-ae1b76871b14>\u001b[0m in \u001b[0;36m<module>\u001b[0;34m()\u001b[0m\n\u001b[1;32m      3\u001b[0m \u001b[0mC\u001b[0m\u001b[0;34m=\u001b[0m\u001b[0;34m{\u001b[0m\u001b[0;36m3\u001b[0m\u001b[0;34m,\u001b[0m\u001b[0;36m4\u001b[0m\u001b[0;34m}\u001b[0m\u001b[0;34m\u001b[0m\u001b[0;34m\u001b[0m\u001b[0m\n\u001b[1;32m      4\u001b[0m \u001b[0;34m\u001b[0m\u001b[0m\n\u001b[0;32m----> 5\u001b[0;31m \u001b[0mprint\u001b[0m \u001b[0;34m(\u001b[0m\u001b[0mA\u001b[0m\u001b[0;34m.\u001b[0m\u001b[0msymmetric_difference\u001b[0m\u001b[0;34m(\u001b[0m\u001b[0mB\u001b[0m\u001b[0;34m,\u001b[0m\u001b[0mC\u001b[0m\u001b[0;34m)\u001b[0m\u001b[0;34m)\u001b[0m\u001b[0;31m#Output:TypeError: symmetric_difference() takes exactly one argument (2 given)\u001b[0m\u001b[0;34m\u001b[0m\u001b[0;34m\u001b[0m\u001b[0m\n\u001b[0m",
            "\u001b[0;31mTypeError\u001b[0m: symmetric_difference() takes exactly one argument (2 given)"
          ]
        }
      ]
    },
    {
      "cell_type": "code",
      "metadata": {
        "colab": {
          "base_uri": "https://localhost:8080/"
        },
        "id": "1WcxgMUFz5TA",
        "outputId": "170777be-a27d-4024-ee41-f6817fd4b834"
      },
      "source": [
        "A={1,2}\n",
        "B={2,3,5}\n",
        "C={3,4}\n",
        "\n",
        "print (A^B^C)#Output:{1,4,5}"
      ],
      "execution_count": 25,
      "outputs": [
        {
          "output_type": "stream",
          "text": [
            "{1, 4, 5}\n"
          ],
          "name": "stdout"
        }
      ]
    },
    {
      "cell_type": "code",
      "metadata": {
        "colab": {
          "base_uri": "https://localhost:8080/"
        },
        "id": "_QBPfmdhz9YD",
        "outputId": "0306874f-b210-4bc1-e429-27377c5d9448"
      },
      "source": [
        "#iterable is given as list\n",
        "A={1,2,3}\n",
        "B=[1]\n",
        "print (A.symmetric_difference(B))#Output:{2,3}\n",
        "\n",
        "#iterable is given as tuple\n",
        "A={1,2,3}\n",
        "B=(1,)\n",
        "print (A.symmetric_difference(B))#Output:{2,3}\n",
        "\n",
        "#iterable is given as range object\n",
        "A={1,2,3}\n",
        "B=range(2)\n",
        "print (A.symmetric_difference(B))#Output:{2,3}"
      ],
      "execution_count": 26,
      "outputs": [
        {
          "output_type": "stream",
          "text": [
            "{2, 3}\n",
            "{2, 3}\n",
            "{0, 2, 3}\n"
          ],
          "name": "stdout"
        }
      ]
    },
    {
      "cell_type": "code",
      "metadata": {
        "colab": {
          "base_uri": "https://localhost:8080/",
          "height": 266
        },
        "id": "lX_1jC_Tz_wg",
        "outputId": "b919889d-937f-44fd-f058-9b721987c361"
      },
      "source": [
        "A={1,2,3}\n",
        "B=[1]\n",
        "A^B\n",
        "print (A) #Output: TypeError: unsupported operand type(s) for ^: 'set' and 'list'"
      ],
      "execution_count": 27,
      "outputs": [
        {
          "output_type": "error",
          "ename": "TypeError",
          "evalue": "ignored",
          "traceback": [
            "\u001b[0;31m---------------------------------------------------------------------------\u001b[0m",
            "\u001b[0;31mTypeError\u001b[0m                                 Traceback (most recent call last)",
            "\u001b[0;32m<ipython-input-27-53f968feb152>\u001b[0m in \u001b[0;36m<module>\u001b[0;34m()\u001b[0m\n\u001b[1;32m      1\u001b[0m \u001b[0mA\u001b[0m\u001b[0;34m=\u001b[0m\u001b[0;34m{\u001b[0m\u001b[0;36m1\u001b[0m\u001b[0;34m,\u001b[0m\u001b[0;36m2\u001b[0m\u001b[0;34m,\u001b[0m\u001b[0;36m3\u001b[0m\u001b[0;34m}\u001b[0m\u001b[0;34m\u001b[0m\u001b[0;34m\u001b[0m\u001b[0m\n\u001b[1;32m      2\u001b[0m \u001b[0mB\u001b[0m\u001b[0;34m=\u001b[0m\u001b[0;34m[\u001b[0m\u001b[0;36m1\u001b[0m\u001b[0;34m]\u001b[0m\u001b[0;34m\u001b[0m\u001b[0;34m\u001b[0m\u001b[0m\n\u001b[0;32m----> 3\u001b[0;31m \u001b[0mA\u001b[0m\u001b[0;34m^\u001b[0m\u001b[0mB\u001b[0m\u001b[0;34m\u001b[0m\u001b[0;34m\u001b[0m\u001b[0m\n\u001b[0m\u001b[1;32m      4\u001b[0m \u001b[0mprint\u001b[0m \u001b[0;34m(\u001b[0m\u001b[0mA\u001b[0m\u001b[0;34m)\u001b[0m \u001b[0;31m#Output: TypeError: unsupported operand type(s) for ^: 'set' and 'list'\u001b[0m\u001b[0;34m\u001b[0m\u001b[0;34m\u001b[0m\u001b[0m\n",
            "\u001b[0;31mTypeError\u001b[0m: unsupported operand type(s) for ^: 'set' and 'list'"
          ]
        }
      ]
    },
    {
      "cell_type": "code",
      "metadata": {
        "colab": {
          "base_uri": "https://localhost:8080/"
        },
        "id": "wTP0WDwo0E0v",
        "outputId": "bf93a59f-7f76-4c50-9cfa-7f9d5f6ce8f4"
      },
      "source": [
        "#symmetric_difference_update()\n",
        "A={1,2,3,4,5}\n",
        "B={4,5,6,7,8}\n",
        "print (A.symmetric_difference_update(B)) #Output: None\n",
        "print (A) #Output: {1, 2, 3, 6, 7, 8}\n",
        "\n",
        "A={1,2,3,4,5}\n",
        "B={4,5,6,7,8}\n",
        "A^=B\n",
        "print (A) #Output: {1, 2, 3, 6, 7, 8}"
      ],
      "execution_count": 28,
      "outputs": [
        {
          "output_type": "stream",
          "text": [
            "None\n",
            "{1, 2, 3, 6, 7, 8}\n",
            "{1, 2, 3, 6, 7, 8}\n"
          ],
          "name": "stdout"
        }
      ]
    },
    {
      "cell_type": "markdown",
      "metadata": {
        "id": "kYBw66I-0IV6"
      },
      "source": [
        "# isdisjoint()"
      ]
    },
    {
      "cell_type": "code",
      "metadata": {
        "colab": {
          "base_uri": "https://localhost:8080/"
        },
        "id": "5qSmfhmp0GL8",
        "outputId": "09f3c5ac-0d5e-41c9-eb38-c9fd69ec8c94"
      },
      "source": [
        "#Set A and Set B containing common elements\n",
        "A={1,2,3,4,5}\n",
        "B={4,5,6,7,8}\n",
        "print (A.isdisjoint(B))#Output:False\n",
        "\n",
        "#Set A and Set B not containing common elements\n",
        "A={1,2}\n",
        "B={3,4}\n",
        "print (A.isdisjoint(B))#Output:True"
      ],
      "execution_count": 29,
      "outputs": [
        {
          "output_type": "stream",
          "text": [
            "False\n",
            "True\n"
          ],
          "name": "stdout"
        }
      ]
    },
    {
      "cell_type": "markdown",
      "metadata": {
        "id": "t2A4q7YL0MwG"
      },
      "source": [
        "# issubset()"
      ]
    },
    {
      "cell_type": "code",
      "metadata": {
        "colab": {
          "base_uri": "https://localhost:8080/"
        },
        "id": "31ibMaHc0J1F",
        "outputId": "f4292fd0-c5fe-4268-aff7-8adc73e3a69f"
      },
      "source": [
        "A={1,2,3,4,5}\n",
        "B={4,5,6,7,8}\n",
        "print (A.issubset(B)) #Output: False\n",
        "print (A<=B)#Output: False\n",
        "\n",
        "A={1,2,3}\n",
        "B={1,2,3,4,5}\n",
        "print (A.issubset(B)) #Output: True\n",
        "print (A<=B)#Output: False"
      ],
      "execution_count": 30,
      "outputs": [
        {
          "output_type": "stream",
          "text": [
            "False\n",
            "False\n",
            "True\n",
            "True\n"
          ],
          "name": "stdout"
        }
      ]
    },
    {
      "cell_type": "code",
      "metadata": {
        "colab": {
          "base_uri": "https://localhost:8080/"
        },
        "id": "_ciG6y-n0Pfa",
        "outputId": "e317ec9f-fcc4-4153-9f67-2ab8a1bf8734"
      },
      "source": [
        "A={1,2,3,4,5}\n",
        "B={4,5,6,7,8}\n",
        "print (A<B)#Output: False\n",
        "\n",
        "A={1,2,3,4,5}\n",
        "B={1,2,3,4,5}\n",
        "print (A<B)#Output: False\n",
        "\n",
        "A={1,2,3}\n",
        "B={1,2,3,4,5}\n",
        "print (A<B)#Output: True"
      ],
      "execution_count": 31,
      "outputs": [
        {
          "output_type": "stream",
          "text": [
            "False\n",
            "False\n",
            "True\n"
          ],
          "name": "stdout"
        }
      ]
    },
    {
      "cell_type": "markdown",
      "metadata": {
        "id": "cJ5VQCEC0X64"
      },
      "source": [
        "# issuperset()"
      ]
    },
    {
      "cell_type": "code",
      "metadata": {
        "colab": {
          "base_uri": "https://localhost:8080/"
        },
        "id": "NsPQ3Qe-0TnX",
        "outputId": "40256d66-ebbc-41cc-b04e-32e91b353323"
      },
      "source": [
        "A={1,2,3,4,5}\n",
        "B={4,5,6,7,8}\n",
        "print (A.issuperset(B)) #Output: False\n",
        "print (A>=B)#Output:True\n",
        "\n",
        "A={1,2,3,4,5}\n",
        "B={1,2,3}\n",
        "print (A.issuperset(B)) #Output: True\n",
        "print (A>=B)#Output:True"
      ],
      "execution_count": 32,
      "outputs": [
        {
          "output_type": "stream",
          "text": [
            "False\n",
            "False\n",
            "True\n",
            "True\n"
          ],
          "name": "stdout"
        }
      ]
    },
    {
      "cell_type": "code",
      "metadata": {
        "colab": {
          "base_uri": "https://localhost:8080/"
        },
        "id": "tYGSURjM0aYd",
        "outputId": "46ba333f-e3e9-46e1-b214-144b35b85f5c"
      },
      "source": [
        "A={1,2,3,4,5}\n",
        "B={4,5}\n",
        "print (A>B)#Output: True\n",
        "\n",
        "A={1,2,3,4,5}\n",
        "B={1,2,3,4,5}\n",
        "print (A>B)#Output: False\n",
        "\n",
        "A={1,2,3}\n",
        "B={1,2,3,4,5}\n",
        "print (A>B)#Output: True"
      ],
      "execution_count": 33,
      "outputs": [
        {
          "output_type": "stream",
          "text": [
            "True\n",
            "False\n",
            "False\n"
          ],
          "name": "stdout"
        }
      ]
    }
  ]
}