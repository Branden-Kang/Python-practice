{
  "nbformat": 4,
  "nbformat_minor": 0,
  "metadata": {
    "colab": {
      "provenance": [],
      "authorship_tag": "ABX9TyOmtNfgYA4Xj9EYXsj1hujp"
    },
    "kernelspec": {
      "name": "python3",
      "display_name": "Python 3"
    },
    "language_info": {
      "name": "python"
    }
  },
  "cells": [
    {
      "cell_type": "markdown",
      "source": [
        "[Reference](https://medium.com/@coder033/what-are-sets-in-python-31ab56e5ac9d)"
      ],
      "metadata": {
        "id": "LFbor8w5WH1O"
      }
    },
    {
      "cell_type": "markdown",
      "source": [
        "- Set is unordered\n",
        "- Set is changeable\n",
        "- Set ais enclosed in curly brackets {,}\n",
        "- Set will no allow duplicate elements"
      ],
      "metadata": {
        "id": "wYw_9ddhWLZ2"
      }
    },
    {
      "cell_type": "markdown",
      "source": [
        "# Creating Set"
      ],
      "metadata": {
        "id": "bz5heUlSWXYU"
      }
    },
    {
      "cell_type": "code",
      "execution_count": 3,
      "metadata": {
        "id": "yiR8ywiAV49E"
      },
      "outputs": [],
      "source": [
        "alpha = {'a','b','c','d','e','f','g','h'}\n",
        "number={1,2,3,4,5}\n",
        "mixed = {5.4,\"hello\",(3,2,1)}"
      ]
    },
    {
      "cell_type": "markdown",
      "source": [
        "# Accessing a Set"
      ],
      "metadata": {
        "id": "EEHxMzPYWd4a"
      }
    },
    {
      "cell_type": "code",
      "source": [
        "print(alpha)\n",
        "print(number)\n",
        "print(mixed)\n",
        "print(type(alpha))"
      ],
      "metadata": {
        "colab": {
          "base_uri": "https://localhost:8080/"
        },
        "id": "cMi50ectWYV_",
        "outputId": "03f4d18c-0733-445f-bff6-b432ee9976fb"
      },
      "execution_count": 4,
      "outputs": [
        {
          "output_type": "stream",
          "name": "stdout",
          "text": [
            "{'g', 'a', 'd', 'h', 'b', 'e', 'c', 'f'}\n",
            "{1, 2, 3, 4, 5}\n",
            "{(3, 2, 1), 'hello', 5.4}\n",
            "<class 'set'>\n"
          ]
        }
      ]
    },
    {
      "cell_type": "markdown",
      "source": [
        "# Add in Set"
      ],
      "metadata": {
        "id": "NxrYFIdBWgTJ"
      }
    },
    {
      "cell_type": "code",
      "source": [
        "alpha.add('i')\n",
        "print(alpha)"
      ],
      "metadata": {
        "colab": {
          "base_uri": "https://localhost:8080/"
        },
        "id": "BHgcaxBRWeyL",
        "outputId": "2a233d88-669c-4eb4-d4ab-7f5bca95f54e"
      },
      "execution_count": 5,
      "outputs": [
        {
          "output_type": "stream",
          "name": "stdout",
          "text": [
            "{'i', 'g', 'a', 'd', 'h', 'b', 'e', 'c', 'f'}\n"
          ]
        }
      ]
    },
    {
      "cell_type": "markdown",
      "source": [
        "# Sorted in Set"
      ],
      "metadata": {
        "id": "9NzwsrfNWloT"
      }
    },
    {
      "cell_type": "code",
      "source": [
        "print(sorted(alpha))"
      ],
      "metadata": {
        "colab": {
          "base_uri": "https://localhost:8080/"
        },
        "id": "-gm5xYuyWiu1",
        "outputId": "5b36dc0d-aae4-41f5-e5f9-4c0f6ba0b930"
      },
      "execution_count": 6,
      "outputs": [
        {
          "output_type": "stream",
          "name": "stdout",
          "text": [
            "['a', 'b', 'c', 'd', 'e', 'f', 'g', 'h', 'i']\n"
          ]
        }
      ]
    },
    {
      "cell_type": "markdown",
      "source": [
        "# Remove in Set"
      ],
      "metadata": {
        "id": "ulexCEttWoF7"
      }
    },
    {
      "cell_type": "code",
      "source": [
        "alpha.remove('i')\n",
        "print(sorted(alpha))\n",
        "alpha.discard('h')\n",
        "print(sorted(alpha))"
      ],
      "metadata": {
        "colab": {
          "base_uri": "https://localhost:8080/"
        },
        "id": "5TJXuRiOWnBK",
        "outputId": "e1e57122-5b17-4a7a-fcce-23375f61bd64"
      },
      "execution_count": 8,
      "outputs": [
        {
          "output_type": "stream",
          "name": "stdout",
          "text": [
            "['a', 'b', 'c', 'd', 'e', 'f', 'g', 'h']\n",
            "['a', 'b', 'c', 'd', 'e', 'f', 'g']\n"
          ]
        }
      ]
    },
    {
      "cell_type": "markdown",
      "source": [
        "# Update in Set"
      ],
      "metadata": {
        "id": "R3QzyLEkWtSV"
      }
    },
    {
      "cell_type": "code",
      "source": [
        "alpha.update(['g','h','i'])\n",
        "print(sorted(alpha))#no Duplication"
      ],
      "metadata": {
        "colab": {
          "base_uri": "https://localhost:8080/"
        },
        "id": "9PcYmKaaWrfu",
        "outputId": "81298e8f-5514-431b-d769-60239ef9b0db"
      },
      "execution_count": 9,
      "outputs": [
        {
          "output_type": "stream",
          "name": "stdout",
          "text": [
            "['a', 'b', 'c', 'd', 'e', 'f', 'g', 'h', 'i']\n"
          ]
        }
      ]
    },
    {
      "cell_type": "markdown",
      "source": [
        "# min and max"
      ],
      "metadata": {
        "id": "qX8jguz0WxoK"
      }
    },
    {
      "cell_type": "code",
      "source": [
        "print(min(alpha))\n",
        "print(max(alpha))\n",
        "print(min(number))\n",
        "print(max(number))"
      ],
      "metadata": {
        "colab": {
          "base_uri": "https://localhost:8080/"
        },
        "id": "RdmScbSAWwPQ",
        "outputId": "901e3ac8-31c8-4464-c0e1-3da113aa78e0"
      },
      "execution_count": 11,
      "outputs": [
        {
          "output_type": "stream",
          "name": "stdout",
          "text": [
            "a\n",
            "i\n",
            "1\n",
            "5\n"
          ]
        }
      ]
    },
    {
      "cell_type": "markdown",
      "source": [
        "# Pop in Set"
      ],
      "metadata": {
        "id": "eSjriXMdWztW"
      }
    },
    {
      "cell_type": "code",
      "source": [
        "mixed.pop()\n",
        "print(mixed)"
      ],
      "metadata": {
        "colab": {
          "base_uri": "https://localhost:8080/"
        },
        "id": "37bwm9gFWyg_",
        "outputId": "163b0e9c-3e0a-40fb-c5b0-fef08032f451"
      },
      "execution_count": 12,
      "outputs": [
        {
          "output_type": "stream",
          "name": "stdout",
          "text": [
            "{'hello', 5.4}\n"
          ]
        }
      ]
    },
    {
      "cell_type": "markdown",
      "source": [
        "# Clear in Set"
      ],
      "metadata": {
        "id": "76WYU5alW1Za"
      }
    },
    {
      "cell_type": "code",
      "source": [
        "print(\"Before Clear \",mixed)\n",
        "mixed.clear()\n",
        "print(\"After Clear \",mixed)"
      ],
      "metadata": {
        "colab": {
          "base_uri": "https://localhost:8080/"
        },
        "id": "6OXLw301W0oj",
        "outputId": "9c9fb044-54a5-4198-b121-42b5d6a94780"
      },
      "execution_count": 13,
      "outputs": [
        {
          "output_type": "stream",
          "name": "stdout",
          "text": [
            "Before Clear  {'hello', 5.4}\n",
            "After Clear  set()\n"
          ]
        }
      ]
    },
    {
      "cell_type": "markdown",
      "source": [
        "# Looping in Set"
      ],
      "metadata": {
        "id": "fmXkUNziW4KT"
      }
    },
    {
      "cell_type": "code",
      "source": [
        "for value in alpha:\n",
        "    print(value)"
      ],
      "metadata": {
        "colab": {
          "base_uri": "https://localhost:8080/"
        },
        "id": "UXZrisC2W3UA",
        "outputId": "84180dba-eecf-40e9-b489-c5cc07832724"
      },
      "execution_count": 14,
      "outputs": [
        {
          "output_type": "stream",
          "name": "stdout",
          "text": [
            "i\n",
            "g\n",
            "a\n",
            "d\n",
            "h\n",
            "b\n",
            "e\n",
            "c\n",
            "f\n"
          ]
        }
      ]
    },
    {
      "cell_type": "markdown",
      "source": [
        "# Creating some variable for math methods"
      ],
      "metadata": {
        "id": "e5F8odDLW6sw"
      }
    },
    {
      "cell_type": "code",
      "source": [
        "set1={1,2,3,4,5}\n",
        "set2={4,5,6,7,8}\n",
        "set3={1,2,3}\n",
        "set4={10,20,30}\n",
        "alpha1 = {'a','b','c','d','e'}\n",
        "alpha2 = {'d','e','f','g','h'}\n",
        "alpha3 = {'a','b','c'}\n",
        "alpha4 = {'x','y','z'}"
      ],
      "metadata": {
        "id": "Kz-KjPxjW50i"
      },
      "execution_count": 15,
      "outputs": []
    },
    {
      "cell_type": "markdown",
      "source": [
        "# Union Set"
      ],
      "metadata": {
        "id": "qkc3of11W_th"
      }
    },
    {
      "cell_type": "code",
      "source": [
        "result = set1.union(set2)\n",
        "print(\"Union Result is \",result)\n",
        "result1 = alpha1 | alpha2\n",
        "print(\"Union Result is \",sorted(result1))"
      ],
      "metadata": {
        "colab": {
          "base_uri": "https://localhost:8080/"
        },
        "id": "jZK6kO7hW-sm",
        "outputId": "a79e6ab0-ff51-4969-b6f3-3a372614a4a0"
      },
      "execution_count": 16,
      "outputs": [
        {
          "output_type": "stream",
          "name": "stdout",
          "text": [
            "Union Result is  {1, 2, 3, 4, 5, 6, 7, 8}\n",
            "Union Result is  ['a', 'b', 'c', 'd', 'e', 'f', 'g', 'h']\n"
          ]
        }
      ]
    },
    {
      "cell_type": "markdown",
      "source": [
        "# Intersection Set"
      ],
      "metadata": {
        "id": "-wre41sxXDqo"
      }
    },
    {
      "cell_type": "code",
      "source": [
        "result = set1.intersection(set2)\n",
        "print(\"Intersection Result is \",result)\n",
        "result1 = alpha1 & alpha2\n",
        "print(\"Intersection Result is \",sorted(result1))"
      ],
      "metadata": {
        "colab": {
          "base_uri": "https://localhost:8080/"
        },
        "id": "K7BTRJAKXCd1",
        "outputId": "e5f8e7d3-f339-4e5d-bcc2-7db62ebc96b1"
      },
      "execution_count": 17,
      "outputs": [
        {
          "output_type": "stream",
          "name": "stdout",
          "text": [
            "Intersection Result is  {4, 5}\n",
            "Intersection Result is  ['d', 'e']\n"
          ]
        }
      ]
    },
    {
      "cell_type": "markdown",
      "source": [
        "# Difference Set"
      ],
      "metadata": {
        "id": "ZZu3Ek0yXG_U"
      }
    },
    {
      "cell_type": "code",
      "source": [
        "result = set1.difference(set2)\n",
        "print(\"Differences Result is \",result)\n",
        "result1 = alpha1 - alpha2\n",
        "print(\"Differences Result is \",sorted(result1))\n",
        "result2 = set2.difference(set1)\n",
        "print(\"Another Differences side Result \",result2)\n",
        "result3 = alpha2 - alpha1\n",
        "print(\"Another Differences side Result \",sorted(result3))"
      ],
      "metadata": {
        "colab": {
          "base_uri": "https://localhost:8080/"
        },
        "id": "_9rPmPrOXGDK",
        "outputId": "4693865a-9e21-4513-918f-cd66c1183b57"
      },
      "execution_count": 19,
      "outputs": [
        {
          "output_type": "stream",
          "name": "stdout",
          "text": [
            "Differences Result is  {1, 2, 3}\n",
            "Differences Result is  ['a', 'b', 'c']\n",
            "Another Differences side Result  {8, 6, 7}\n",
            "Another Differences side Result  ['f', 'g', 'h']\n"
          ]
        }
      ]
    },
    {
      "cell_type": "markdown",
      "source": [
        "# Symmetric Difference Set"
      ],
      "metadata": {
        "id": "FNU29AumXLV_"
      }
    },
    {
      "cell_type": "code",
      "source": [
        "result = set1.symmetric_difference(set2)\n",
        "print(\"First Sym-Differences Result \",result)\n",
        "result1 = alpha1 ^ alpha2\n",
        "print(\"Second Sym-Differences Result \",sorted(result1))"
      ],
      "metadata": {
        "colab": {
          "base_uri": "https://localhost:8080/"
        },
        "id": "yTsQ116xXKoT",
        "outputId": "2ce9d812-528b-4127-9fb7-0a565db12c08"
      },
      "execution_count": 20,
      "outputs": [
        {
          "output_type": "stream",
          "name": "stdout",
          "text": [
            "First Sym-Differences Result  {1, 2, 3, 6, 7, 8}\n",
            "Second Sym-Differences Result  ['a', 'b', 'c', 'f', 'g', 'h']\n"
          ]
        }
      ]
    },
    {
      "cell_type": "markdown",
      "source": [
        "# Subset"
      ],
      "metadata": {
        "id": "8shCUwKvXQjU"
      }
    },
    {
      "cell_type": "code",
      "source": [
        "result = set3.issubset(set1)\n",
        "print(\"Set 3 is child setl is parent \",result)\n",
        "result1 = set2.issubset(set1)\n",
        "print(\"Set 2 is child setl is parent \",result1)\n",
        "result2 = alpha3 <= alpha1\n",
        "print(\"alpha 3 is child alphal is parent \",result2)"
      ],
      "metadata": {
        "colab": {
          "base_uri": "https://localhost:8080/"
        },
        "id": "B0x1794WXPxX",
        "outputId": "db788875-24dd-4030-f973-583e41dab60a"
      },
      "execution_count": 21,
      "outputs": [
        {
          "output_type": "stream",
          "name": "stdout",
          "text": [
            "Set 3 is child setl is parent  True\n",
            "Set 2 is child setl is parent  False\n",
            "alpha 3 is child alphal is parent  True\n"
          ]
        }
      ]
    },
    {
      "cell_type": "markdown",
      "source": [
        "# Superset"
      ],
      "metadata": {
        "id": "kCxvVJSKXUkn"
      }
    },
    {
      "cell_type": "code",
      "source": [
        "result = set1.issuperset(set3)\n",
        "print(\"setl is parent Set 3 is child \",result)\n",
        "result1 = set2.issuperset(set1)\n",
        "print(\"Set 2 is child setl is parent \",result1)\n",
        "result2 = alpha1 >= alpha3\n",
        "print(\"alphal is parent alpha 3 is child \",result2)"
      ],
      "metadata": {
        "colab": {
          "base_uri": "https://localhost:8080/"
        },
        "id": "03jRl0TVXTq_",
        "outputId": "f396bef4-9bc5-4228-f794-762cf7fadd30"
      },
      "execution_count": 22,
      "outputs": [
        {
          "output_type": "stream",
          "name": "stdout",
          "text": [
            "setl is parent Set 3 is child  True\n",
            "Set 2 is child setl is parent  False\n",
            "alphal is parent alpha 3 is child  True\n"
          ]
        }
      ]
    },
    {
      "cell_type": "markdown",
      "source": [
        "# Disjoint"
      ],
      "metadata": {
        "id": "yp3WcQtgXYDR"
      }
    },
    {
      "cell_type": "code",
      "source": [
        "result = set3.isdisjoint(set1)\n",
        "print(\"The is no matching values\",result)\n",
        "result1 = set4.isdisjoint(set1)\n",
        "print(\"The is no matching values\",result1)\n",
        "result2 = alpha3.isdisjoint(alpha1)\n",
        "print(\"The is no matching values\",result2)\n",
        "result3 = alpha4.isdisjoint(alpha1)\n",
        "print(\"The is no matching values\",result3)"
      ],
      "metadata": {
        "colab": {
          "base_uri": "https://localhost:8080/"
        },
        "id": "Uugu6iFxXXWb",
        "outputId": "95d85abf-00e4-4e3e-d4a2-dd6d4ec0518b"
      },
      "execution_count": 24,
      "outputs": [
        {
          "output_type": "stream",
          "name": "stdout",
          "text": [
            "The is no matching values False\n",
            "The is no matching values True\n",
            "The is no matching values False\n",
            "The is no matching values True\n"
          ]
        }
      ]
    }
  ]
}
