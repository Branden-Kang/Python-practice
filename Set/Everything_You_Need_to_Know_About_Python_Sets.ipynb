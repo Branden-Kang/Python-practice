{
  "nbformat": 4,
  "nbformat_minor": 0,
  "metadata": {
    "colab": {
      "provenance": [],
      "authorship_tag": "ABX9TyOuE6b625K1yhlB/SZzDr2K"
    },
    "kernelspec": {
      "name": "python3",
      "display_name": "Python 3"
    },
    "language_info": {
      "name": "python"
    }
  },
  "cells": [
    {
      "cell_type": "markdown",
      "source": [
        "[Reference](https://medium.com/@aliyannshaikhh/f694edf08d02)"
      ],
      "metadata": {
        "id": "hIZWL4xDcWm3"
      }
    },
    {
      "cell_type": "markdown",
      "source": [
        "# How to Add and Remove Elements in a Set"
      ],
      "metadata": {
        "id": "0kS--jOpcgki"
      }
    },
    {
      "cell_type": "code",
      "execution_count": 1,
      "metadata": {
        "colab": {
          "base_uri": "https://localhost:8080/"
        },
        "id": "U7EPTU_LcM6F",
        "outputId": "f052d319-5ecb-4228-c229-36b99eb15253"
      },
      "outputs": [
        {
          "output_type": "stream",
          "name": "stdout",
          "text": [
            "{1, 2, 3, 4, 5}\n"
          ]
        }
      ],
      "source": [
        "my_set = {1, 2, 3, 4, 5}\n",
        "print(my_set)"
      ]
    },
    {
      "cell_type": "code",
      "source": [
        "my_set = set([2, 4, 6, 8, 10])\n",
        "print(my_set)"
      ],
      "metadata": {
        "colab": {
          "base_uri": "https://localhost:8080/"
        },
        "id": "Zl7_kRPOccS_",
        "outputId": "bb79663b-4cbd-40d4-f25e-01ffd0a928e5"
      },
      "execution_count": 2,
      "outputs": [
        {
          "output_type": "stream",
          "name": "stdout",
          "text": [
            "{2, 4, 6, 8, 10}\n"
          ]
        }
      ]
    },
    {
      "cell_type": "markdown",
      "source": [
        "# How to Add and Remove Elements in a Set"
      ],
      "metadata": {
        "id": "Il7BiQRXcfO4"
      }
    },
    {
      "cell_type": "code",
      "source": [
        "# Adding a single item\n",
        "my_set = {1, 2, 3}\n",
        "my_set.add(4)\n",
        "print(my_set)\n",
        "\n",
        "# Adding multiple items\n",
        "my_set.update([5, 6, 7])\n",
        "print(my_set)"
      ],
      "metadata": {
        "colab": {
          "base_uri": "https://localhost:8080/"
        },
        "id": "HzC-V8Q9cdm7",
        "outputId": "70d07b25-fe11-4769-ab39-b57fcd050862"
      },
      "execution_count": 3,
      "outputs": [
        {
          "output_type": "stream",
          "name": "stdout",
          "text": [
            "{1, 2, 3, 4}\n",
            "{1, 2, 3, 4, 5, 6, 7}\n"
          ]
        }
      ]
    },
    {
      "cell_type": "code",
      "source": [
        "my_set = {1, 2, 3}\n",
        "\n",
        "# Using remove()\n",
        "my_set.remove(3)\n",
        "print(my_set)\n",
        "\n",
        "# Using discard ()\n",
        "my_set.discard(10)\n",
        "\n",
        "# Using pop()\n",
        "print(my_set.pop())"
      ],
      "metadata": {
        "colab": {
          "base_uri": "https://localhost:8080/"
        },
        "id": "1el7-a3-cjia",
        "outputId": "3d7ccd41-1add-450a-ed7b-78056c5f24ea"
      },
      "execution_count": 4,
      "outputs": [
        {
          "output_type": "stream",
          "name": "stdout",
          "text": [
            "{1, 2}\n",
            "1\n"
          ]
        }
      ]
    },
    {
      "cell_type": "markdown",
      "source": [
        "# How to Perform Set Operations in Python"
      ],
      "metadata": {
        "id": "LxrH85pVco11"
      }
    },
    {
      "cell_type": "code",
      "source": [
        "a = {1, 2, 3}\n",
        "b = {3, 4, 5}\n",
        "print(a | b)\n",
        "print(a.union(b))"
      ],
      "metadata": {
        "colab": {
          "base_uri": "https://localhost:8080/"
        },
        "id": "iWUkKNb7cnDZ",
        "outputId": "044aa899-420e-4813-cd1d-f299cda56075"
      },
      "execution_count": 5,
      "outputs": [
        {
          "output_type": "stream",
          "name": "stdout",
          "text": [
            "{1, 2, 3, 4, 5}\n",
            "{1, 2, 3, 4, 5}\n"
          ]
        }
      ]
    },
    {
      "cell_type": "code",
      "source": [
        "a = {1, 2, 3}\n",
        "b = {3, 4, 5}\n",
        "print(a & b)\n",
        "print(a.intersection(b))"
      ],
      "metadata": {
        "colab": {
          "base_uri": "https://localhost:8080/"
        },
        "id": "NsH2-EMDcr10",
        "outputId": "6322fe35-0bf7-4860-e03b-51850422091a"
      },
      "execution_count": 6,
      "outputs": [
        {
          "output_type": "stream",
          "name": "stdout",
          "text": [
            "{3}\n",
            "{3}\n"
          ]
        }
      ]
    },
    {
      "cell_type": "code",
      "source": [
        "a = {1, 2, 3}\n",
        "b = {3, 4, 5}\n",
        "print(a - b)\n",
        "print(a.difference(b))"
      ],
      "metadata": {
        "colab": {
          "base_uri": "https://localhost:8080/"
        },
        "id": "YiYvjT4ncueP",
        "outputId": "d7d52005-b4da-49a0-8129-39d0c318d11d"
      },
      "execution_count": 7,
      "outputs": [
        {
          "output_type": "stream",
          "name": "stdout",
          "text": [
            "{1, 2}\n",
            "{1, 2}\n"
          ]
        }
      ]
    },
    {
      "cell_type": "code",
      "source": [
        "a = {1, 2, 3}\n",
        "b = {3, 4, 5}\n",
        "print(a ^ b)\n",
        "print(a.symmetric_difference(b))"
      ],
      "metadata": {
        "colab": {
          "base_uri": "https://localhost:8080/"
        },
        "id": "kC_I_9QycxQo",
        "outputId": "a1bd5c21-93d1-408d-c94f-e66df361839f"
      },
      "execution_count": 8,
      "outputs": [
        {
          "output_type": "stream",
          "name": "stdout",
          "text": [
            "{1, 2, 4, 5}\n",
            "{1, 2, 4, 5}\n"
          ]
        }
      ]
    },
    {
      "cell_type": "markdown",
      "source": [
        "# The Most Frequently Used Set Methods in Python"
      ],
      "metadata": {
        "id": "muOTMmCic1GF"
      }
    },
    {
      "cell_type": "code",
      "source": [
        "my_set = {1, 2, 3, 4}\n",
        "my_set.clear()\n",
        "print(my_set)"
      ],
      "metadata": {
        "colab": {
          "base_uri": "https://localhost:8080/"
        },
        "id": "ZTHEa_7vcz6N",
        "outputId": "0fdf8536-1a87-420a-d977-cc4ca146a1e7"
      },
      "execution_count": 9,
      "outputs": [
        {
          "output_type": "stream",
          "name": "stdout",
          "text": [
            "set()\n"
          ]
        }
      ]
    },
    {
      "cell_type": "code",
      "source": [
        "original_set = {1, 2, 3}\n",
        "copy_set = original_set.copy()\n",
        "copy_set.add(4)\n",
        "print(original_set)\n",
        "print(copy_set)"
      ],
      "metadata": {
        "colab": {
          "base_uri": "https://localhost:8080/"
        },
        "id": "ZR9C83S6c2pw",
        "outputId": "1307983e-ff35-4cb0-c3bb-27c9a1329c08"
      },
      "execution_count": 10,
      "outputs": [
        {
          "output_type": "stream",
          "name": "stdout",
          "text": [
            "{1, 2, 3}\n",
            "{1, 2, 3, 4}\n"
          ]
        }
      ]
    },
    {
      "cell_type": "code",
      "source": [
        "a = {1, 2, 3}\n",
        "b = {1, 2, 3, 4, 5}\n",
        "print(a.issubset(b))\n",
        "print(b.issubset(a))"
      ],
      "metadata": {
        "colab": {
          "base_uri": "https://localhost:8080/"
        },
        "id": "1pr3ujmvc5fs",
        "outputId": "6c951a82-4606-4435-9742-a73b57bcc118"
      },
      "execution_count": 11,
      "outputs": [
        {
          "output_type": "stream",
          "name": "stdout",
          "text": [
            "True\n",
            "False\n"
          ]
        }
      ]
    },
    {
      "cell_type": "code",
      "source": [
        "a = {1, 2, 3, 4, 5}\n",
        "b = {1, 2, 3}\n",
        "print(a.issuperset(b))\n",
        "print(b.issuperset(a))"
      ],
      "metadata": {
        "colab": {
          "base_uri": "https://localhost:8080/"
        },
        "id": "PeKoi7fQc9-C",
        "outputId": "f504b7c4-991e-4613-a1d1-46a5582d40e9"
      },
      "execution_count": 12,
      "outputs": [
        {
          "output_type": "stream",
          "name": "stdout",
          "text": [
            "True\n",
            "False\n"
          ]
        }
      ]
    },
    {
      "cell_type": "code",
      "source": [
        "a = {1, 2, 3}\n",
        "b = {4, 5, 6}\n",
        "c = {2, 4, 6}\n",
        "print(a.isdisjoint(b))\n",
        "print(a.isdisjoint(c))"
      ],
      "metadata": {
        "colab": {
          "base_uri": "https://localhost:8080/"
        },
        "id": "FlXkKWladAsy",
        "outputId": "74596a96-740e-4413-c4a9-7e95a1606304"
      },
      "execution_count": 13,
      "outputs": [
        {
          "output_type": "stream",
          "name": "stdout",
          "text": [
            "True\n",
            "False\n"
          ]
        }
      ]
    }
  ]
}
