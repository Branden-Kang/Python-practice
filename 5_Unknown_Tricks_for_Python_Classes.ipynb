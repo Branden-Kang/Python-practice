{
  "nbformat": 4,
  "nbformat_minor": 0,
  "metadata": {
    "colab": {
      "name": "5 Unknown Tricks for Python Classes.ipynb",
      "provenance": [],
      "authorship_tag": "ABX9TyOc5hiEcR7SyR/J6INgvSyL"
    },
    "kernelspec": {
      "name": "python3",
      "display_name": "Python 3"
    },
    "language_info": {
      "name": "python"
    }
  },
  "cells": [
    {
      "cell_type": "markdown",
      "metadata": {
        "id": "b5cbzdmCy9El"
      },
      "source": [
        "[Reference](https://python.plainenglish.io/five-unknown-tricks-for-python-classes-ba5edd29a108)"
      ]
    },
    {
      "cell_type": "markdown",
      "metadata": {
        "id": "4R9AexylzADO"
      },
      "source": [
        "# 1. Create a constant value"
      ]
    },
    {
      "cell_type": "code",
      "metadata": {
        "id": "2m9cCjZby7An"
      },
      "source": [
        "class Circle():\n",
        "  def __init__(self, radius):\n",
        "    self.radius = radius  \n",
        "    \n",
        "  def area(self):\n",
        "    return 3.14 * self.radius * self.radius \n",
        "  \n",
        "  def perimeter(self):\n",
        "    return 2 * 3.14 * self.radius"
      ],
      "execution_count": 2,
      "outputs": []
    },
    {
      "cell_type": "code",
      "metadata": {
        "id": "G6ryj8s_zBAZ"
      },
      "source": [
        "class Circle():\n",
        "  def __init__(self, radius):\n",
        "    self.radius = radius\n",
        "    self.pi = 3.14  \n",
        "  def area(self):\n",
        "    return self.pi * self.radius * self.radius \n",
        "  \n",
        "  def perimeter(self):\n",
        "    return 2 * self.pi * self.radius"
      ],
      "execution_count": 3,
      "outputs": []
    },
    {
      "cell_type": "code",
      "metadata": {
        "id": "KjpGbPhnzF1m"
      },
      "source": [
        "c = Circle(4)\n",
        "c.pi = 5"
      ],
      "execution_count": 4,
      "outputs": []
    },
    {
      "cell_type": "code",
      "metadata": {
        "id": "b3h9HLOGzHB7"
      },
      "source": [
        "class Circle():\n",
        "  def __init__(self, radius):\n",
        "    self.radius = radius\n",
        "   \n",
        "  @property\n",
        "  def pi(self):\n",
        "    return 3.14  \n",
        "    \n",
        "  def area(self):\n",
        "    return self.pi * self.radius * self.radius \n",
        "  \n",
        "  def perimeter(self):\n",
        "    return 2 * self.pi * self.radius"
      ],
      "execution_count": 5,
      "outputs": []
    },
    {
      "cell_type": "markdown",
      "metadata": {
        "id": "ZgEeg2kCzL2k"
      },
      "source": [
        "# 2. Multiple Class constructors"
      ]
    },
    {
      "cell_type": "code",
      "metadata": {
        "id": "iuNnCFZJzKQ4"
      },
      "source": [
        "class Date():\n",
        "  def __init__(self, day, month, year):\n",
        "    self.day = day\n",
        "    self.month = month\n",
        "    self.year = year\n",
        "  @classmethod\n",
        "  def fromString(obj, s):\n",
        "   day = int(s[:2])\n",
        "   month = int(s[3:5])\n",
        "   year = int(s[6:])\n",
        "   return obj(day, month, year) # Return a new object"
      ],
      "execution_count": 7,
      "outputs": []
    },
    {
      "cell_type": "code",
      "metadata": {
        "colab": {
          "base_uri": "https://localhost:8080/"
        },
        "id": "U0KFo2uozNag",
        "outputId": "4fe1dbe5-88a0-40e9-99c6-d4d30c99b770"
      },
      "source": [
        "d = Date.fromString(\"21/07/2020\")\n",
        "print(d.day, d.month, d.year)"
      ],
      "execution_count": 8,
      "outputs": [
        {
          "output_type": "stream",
          "text": [
            "21 7 2020\n"
          ],
          "name": "stdout"
        }
      ]
    },
    {
      "cell_type": "markdown",
      "metadata": {
        "id": "_GBP3P0MzUDo"
      },
      "source": [
        "# 3. Creating Enum"
      ]
    },
    {
      "cell_type": "code",
      "metadata": {
        "id": "kNG1k2SIzSIA"
      },
      "source": [
        "from enum import Enum\n",
        "\n",
        "class WeekDay(Enum):\n",
        "  Monday = 1\n",
        "  Tuesday = 2\n",
        "  Wednesday = 3\n",
        "  Thursday = 4\n",
        "  Friday = 5\n",
        "  Saturday = 6\n",
        "  Sunday = 7"
      ],
      "execution_count": 11,
      "outputs": []
    },
    {
      "cell_type": "code",
      "metadata": {
        "id": "kRq_V3m2zVIS"
      },
      "source": [
        "day = WeekDay.Friday"
      ],
      "execution_count": 12,
      "outputs": []
    },
    {
      "cell_type": "code",
      "metadata": {
        "colab": {
          "base_uri": "https://localhost:8080/"
        },
        "id": "5E-tsOrLzYTY",
        "outputId": "21130533-03d1-4def-c9ec-925ce4b8bf41"
      },
      "source": [
        "intDay = day.value # This will be 5\n",
        "intDay"
      ],
      "execution_count": 13,
      "outputs": [
        {
          "output_type": "execute_result",
          "data": {
            "text/plain": [
              "5"
            ]
          },
          "metadata": {
            "tags": []
          },
          "execution_count": 13
        }
      ]
    },
    {
      "cell_type": "markdown",
      "metadata": {
        "id": "ewY3vstCzgtn"
      },
      "source": [
        "# 4. Iterators"
      ]
    },
    {
      "cell_type": "code",
      "metadata": {
        "id": "lRABJSZbzZ78"
      },
      "source": [
        "class Backward():\n",
        "  def __init__(self, data):\n",
        "    self.data = data # The list we want to iterate \n",
        "    self.index = len(self.data)  \n",
        "  def __iter__(self):\n",
        "    return self  \n",
        "  def __next__(self):\n",
        "    if(self.index == 0):\n",
        "      raise StopIteration\n",
        "    else:\n",
        "      self.index -= 1\n",
        "      return self.data[self.index]"
      ],
      "execution_count": 14,
      "outputs": []
    },
    {
      "cell_type": "code",
      "metadata": {
        "colab": {
          "base_uri": "https://localhost:8080/"
        },
        "id": "d0CiLqofzkIw",
        "outputId": "38adf276-3193-4fe7-d45a-ed8385b0aae7"
      },
      "source": [
        "bw = Backward([1,2,3,4,5])\n",
        "for elem in bw:\n",
        "  print(elem)"
      ],
      "execution_count": 15,
      "outputs": [
        {
          "output_type": "stream",
          "text": [
            "5\n",
            "4\n",
            "3\n",
            "2\n",
            "1\n"
          ],
          "name": "stdout"
        }
      ]
    },
    {
      "cell_type": "markdown",
      "metadata": {
        "id": "LRHvJYrjzn-y"
      },
      "source": [
        "# 5. Accessing a class as a list"
      ]
    },
    {
      "cell_type": "code",
      "metadata": {
        "id": "CVFT3o6-zl9U"
      },
      "source": [
        "class MyList():\n",
        "  def __init__(self, dimension):\n",
        "    self.l = [0 for i in range(dimension)]\n",
        "  \n",
        "  def __getitem__(self, idx):\n",
        "    return self.l[idx-1]\n",
        "  \n",
        "  def __setitem__(self, idx, data):\n",
        "    self.l[idx-1]=data\n",
        "\n",
        "ml = MyList(5)\n",
        "ml[1] = 50 # Set the first element of ml to 50\n",
        "ml[2] = 100 # Set the second element of ml to 100\n",
        "x = ml[1] # x is now 50"
      ],
      "execution_count": 16,
      "outputs": []
    },
    {
      "cell_type": "code",
      "metadata": {
        "colab": {
          "base_uri": "https://localhost:8080/"
        },
        "id": "Br1r5uEQ0BJp",
        "outputId": "2f8c2905-b801-43e0-af63-7a1643077b8b"
      },
      "source": [
        "x"
      ],
      "execution_count": 17,
      "outputs": [
        {
          "output_type": "execute_result",
          "data": {
            "text/plain": [
              "50"
            ]
          },
          "metadata": {
            "tags": []
          },
          "execution_count": 17
        }
      ]
    }
  ]
}