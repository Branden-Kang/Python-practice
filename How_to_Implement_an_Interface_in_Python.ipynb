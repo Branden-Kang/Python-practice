{
  "nbformat": 4,
  "nbformat_minor": 0,
  "metadata": {
    "colab": {
      "name": "How to Implement an Interface in Python.ipynb",
      "provenance": [],
      "authorship_tag": "ABX9TyPFBnnAqBkwraRP8IX9f55t"
    },
    "kernelspec": {
      "name": "python3",
      "display_name": "Python 3"
    },
    "language_info": {
      "name": "python"
    }
  },
  "cells": [
    {
      "cell_type": "markdown",
      "source": [
        "[Reference](https://medium.com/@tomisinabiodun/how-to-implement-an-interface-in-python-6d3658d248c)"
      ],
      "metadata": {
        "id": "AN_lffLrh9wr"
      }
    },
    {
      "cell_type": "markdown",
      "source": [
        "# Declaring an Abstract Class in Python\n"
      ],
      "metadata": {
        "id": "EUDQNGvOiAeS"
      }
    },
    {
      "cell_type": "code",
      "execution_count": 1,
      "metadata": {
        "id": "ewTsX048h8ZW"
      },
      "outputs": [],
      "source": [
        "from abc import ABC, ABCMeta\n",
        "# using the abc.ABCMeta as a metaclass\n",
        "class HumanInterface(metaclass=ABCMeta):\n",
        "    pass\n",
        "# inheriting the abc.ABC class\n",
        "class HumanInterface(ABC):\n",
        "    pass"
      ]
    },
    {
      "cell_type": "code",
      "source": [
        "from abc import ABC, abstractmethod\n",
        "\n",
        "\n",
        "class HumanInterface(ABC):\n",
        "    @abstractmethod\n",
        "    def greet(self):\n",
        "        pass"
      ],
      "metadata": {
        "id": "n6Ha5P4CiByN"
      },
      "execution_count": 2,
      "outputs": []
    },
    {
      "cell_type": "code",
      "source": [
        "from abc import ABC, abstractmethod\n",
        "\n",
        "\n",
        "class HumanInterface(ABC):\n",
        "    @abstractmethod\n",
        "    def greet(self):\n",
        "        pass\n",
        "\n",
        "      \n",
        "class Hispanic(HumanInterface):\n",
        "    def sing(self):\n",
        "        pass\n",
        "    \n",
        "    \n",
        "if __name__ == '__main__':\n",
        "    Hispanic();"
      ],
      "metadata": {
        "colab": {
          "base_uri": "https://localhost:8080/",
          "height": 249
        },
        "id": "aGqxM_3tiDMc",
        "outputId": "10948307-0389-4411-d86a-e087b8cbb200"
      },
      "execution_count": 3,
      "outputs": [
        {
          "output_type": "error",
          "ename": "TypeError",
          "evalue": "ignored",
          "traceback": [
            "\u001b[0;31m---------------------------------------------------------------------------\u001b[0m",
            "\u001b[0;31mTypeError\u001b[0m                                 Traceback (most recent call last)",
            "\u001b[0;32m<ipython-input-3-6b77f441ac58>\u001b[0m in \u001b[0;36m<module>\u001b[0;34m()\u001b[0m\n\u001b[1;32m     14\u001b[0m \u001b[0;34m\u001b[0m\u001b[0m\n\u001b[1;32m     15\u001b[0m \u001b[0;32mif\u001b[0m \u001b[0m__name__\u001b[0m \u001b[0;34m==\u001b[0m \u001b[0;34m'__main__'\u001b[0m\u001b[0;34m:\u001b[0m\u001b[0;34m\u001b[0m\u001b[0;34m\u001b[0m\u001b[0m\n\u001b[0;32m---> 16\u001b[0;31m     \u001b[0mHispanic\u001b[0m\u001b[0;34m(\u001b[0m\u001b[0;34m)\u001b[0m\u001b[0;34m;\u001b[0m\u001b[0;34m\u001b[0m\u001b[0;34m\u001b[0m\u001b[0m\n\u001b[0m",
            "\u001b[0;31mTypeError\u001b[0m: Can't instantiate abstract class Hispanic with abstract methods greet"
          ]
        }
      ]
    },
    {
      "cell_type": "code",
      "source": [
        "from abc import ABC, abstractmethod\n",
        "\n",
        "\n",
        "class HumanInterface(ABC):\n",
        "    @abstractmethod\n",
        "    def greet(self):\n",
        "        pass\n",
        "    \n",
        "    @abstractmethod\n",
        "    def exercise(self):\n",
        "        pass\n",
        "    \n",
        "    @abstractmethod\n",
        "    def introduce_self(self):\n",
        "        pass\n",
        "      \n",
        "      \n",
        "class Hispanic(HumanInterface):\n",
        "    def greet(self):\n",
        "        print(\"Hola! Como estas?\")\n",
        "        \n",
        "    def exercise(self):\n",
        "        print(\"Comenzando el entrenamiento\")\n",
        "        \n",
        "    def introduce_self(self):\n",
        "        print(\"Me llamo Sam\")\n",
        "\n",
        "        \n",
        "if __name__ == '__main__':\n",
        "    Hispanic().greet()\n",
        "    # Hola! Como estas?"
      ],
      "metadata": {
        "id": "zj8GAy56iEtG",
        "outputId": "824a4206-29e3-4f00-e6b0-9283176af686",
        "colab": {
          "base_uri": "https://localhost:8080/"
        }
      },
      "execution_count": 4,
      "outputs": [
        {
          "output_type": "stream",
          "name": "stdout",
          "text": [
            "Hola! Como estas?\n"
          ]
        }
      ]
    }
  ]
}