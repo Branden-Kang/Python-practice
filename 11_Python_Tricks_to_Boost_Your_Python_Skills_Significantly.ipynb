{
  "nbformat": 4,
  "nbformat_minor": 0,
  "metadata": {
    "colab": {
      "name": "11 Python Tricks to Boost Your Python Skills Significantly.ipynb",
      "provenance": [],
      "authorship_tag": "ABX9TyN65C1wjDmm2qL4Z87iFnkB"
    },
    "kernelspec": {
      "name": "python3",
      "display_name": "Python 3"
    },
    "language_info": {
      "name": "python"
    }
  },
  "cells": [
    {
      "cell_type": "markdown",
      "metadata": {
        "id": "EP8bAxWI6GMk"
      },
      "source": [
        "[Reference](https://python.plainenglish.io/11-python-tricks-to-boost-your-python-skills-significantly-1a5221dfa5c7)"
      ]
    },
    {
      "cell_type": "code",
      "metadata": {
        "colab": {
          "base_uri": "https://localhost:8080/"
        },
        "id": "FRhxEXsX4uW8",
        "outputId": "af341a79-dae0-48d7-bee3-4a60658582bc"
      },
      "source": [
        "numbers = [1, 2, 2, 3, 3, 3]\n",
        "print(list(set(numbers)))"
      ],
      "execution_count": 1,
      "outputs": [
        {
          "output_type": "stream",
          "text": [
            "[1, 2, 3]\n"
          ],
          "name": "stdout"
        }
      ]
    },
    {
      "cell_type": "code",
      "metadata": {
        "colab": {
          "base_uri": "https://localhost:8080/"
        },
        "id": "D1LyHDO_5OgB",
        "outputId": "21860bcf-c1e5-463e-b3f2-0ae7f375ccce"
      },
      "source": [
        "colors = ['blue', 'red', 'red', 'blue', 'red']\n",
        "print(list(set(colors)))"
      ],
      "execution_count": 2,
      "outputs": [
        {
          "output_type": "stream",
          "text": [
            "['red', 'blue']\n"
          ],
          "name": "stdout"
        }
      ]
    },
    {
      "cell_type": "code",
      "metadata": {
        "colab": {
          "base_uri": "https://localhost:8080/"
        },
        "id": "LLjAD0gy5QHQ",
        "outputId": "4a8a20f5-ff3f-40cb-9ce1-4cef21f9bf2d"
      },
      "source": [
        "names = list(zip((1, 2), ['Anna', 'Alice']))\n",
        "print(names)"
      ],
      "execution_count": 3,
      "outputs": [
        {
          "output_type": "stream",
          "text": [
            "[(1, 'Anna'), (2, 'Alice')]\n"
          ],
          "name": "stdout"
        }
      ]
    },
    {
      "cell_type": "code",
      "metadata": {
        "colab": {
          "base_uri": "https://localhost:8080/"
        },
        "id": "DanFV48C5Rjj",
        "outputId": "ea81a1d6-4543-42d7-c4ee-1374a55ef39d"
      },
      "source": [
        "names = list(zip(('Mrs', 'Mr'), ['Anna', 'Jack']))\n",
        "print(names)"
      ],
      "execution_count": 4,
      "outputs": [
        {
          "output_type": "stream",
          "text": [
            "[('Mrs', 'Anna'), ('Mr', 'Jack')]\n"
          ],
          "name": "stdout"
        }
      ]
    },
    {
      "cell_type": "code",
      "metadata": {
        "colab": {
          "base_uri": "https://localhost:8080/"
        },
        "id": "Uo5YZZfS5TKD",
        "outputId": "8acc3526-d04a-4e88-cdc4-573379af7cb2"
      },
      "source": [
        "numbers = [1, 2, 3, 4, 5]\n",
        "print(numbers[::-1])"
      ],
      "execution_count": 5,
      "outputs": [
        {
          "output_type": "stream",
          "text": [
            "[5, 4, 3, 2, 1]\n"
          ],
          "name": "stdout"
        }
      ]
    },
    {
      "cell_type": "code",
      "metadata": {
        "colab": {
          "base_uri": "https://localhost:8080/"
        },
        "id": "oKZ2iKu25VgR",
        "outputId": "3928fbc8-bc48-4cc8-9a93-b8d8842b0474"
      },
      "source": [
        "s = \"Hello\"\n",
        "print(s[::-1])"
      ],
      "execution_count": 6,
      "outputs": [
        {
          "output_type": "stream",
          "text": [
            "olleH\n"
          ],
          "name": "stdout"
        }
      ]
    },
    {
      "cell_type": "code",
      "metadata": {
        "colab": {
          "base_uri": "https://localhost:8080/"
        },
        "id": "QVQqXS5E5XPF",
        "outputId": "477a126f-649a-46f3-f9f4-9d3c5cae07f5"
      },
      "source": [
        "from collections import Counter\n",
        "\n",
        "numbers = [1, 1, 1, 2, 1, 4, 4, 4, 3, 6]\n",
        "c = Counter(numbers)\n",
        "print(c)"
      ],
      "execution_count": 7,
      "outputs": [
        {
          "output_type": "stream",
          "text": [
            "Counter({1: 4, 4: 3, 2: 1, 3: 1, 6: 1})\n"
          ],
          "name": "stdout"
        }
      ]
    },
    {
      "cell_type": "code",
      "metadata": {
        "colab": {
          "base_uri": "https://localhost:8080/"
        },
        "id": "6OsJ8rJm5aB-",
        "outputId": "ce4e7e53-27fc-4e29-a0b0-0acda5a031bc"
      },
      "source": [
        "from collections import Counter\n",
        "\n",
        "ch = \"aabcaaabccaaaa\"\n",
        "c = Counter(ch)\n",
        "print(c)"
      ],
      "execution_count": 8,
      "outputs": [
        {
          "output_type": "stream",
          "text": [
            "Counter({'a': 9, 'c': 3, 'b': 2})\n"
          ],
          "name": "stdout"
        }
      ]
    },
    {
      "cell_type": "code",
      "metadata": {
        "colab": {
          "base_uri": "https://localhost:8080/"
        },
        "id": "Ag273nT55c97",
        "outputId": "1f6450fc-8693-4820-d956-2b6303b7beec"
      },
      "source": [
        "import sys\n",
        "print(sys.version_info)"
      ],
      "execution_count": 9,
      "outputs": [
        {
          "output_type": "stream",
          "text": [
            "sys.version_info(major=3, minor=7, micro=10, releaselevel='final', serial=0)\n"
          ],
          "name": "stdout"
        }
      ]
    },
    {
      "cell_type": "code",
      "metadata": {
        "colab": {
          "base_uri": "https://localhost:8080/"
        },
        "id": "ezZGRSXL5fOr",
        "outputId": "6a4e5459-b149-4910-a4bd-d93ac253cafb"
      },
      "source": [
        "username = \"user\"\n",
        "host = \"mail.com\"\n",
        "\n",
        "print(username, host,sep=\"@\")"
      ],
      "execution_count": 10,
      "outputs": [
        {
          "output_type": "stream",
          "text": [
            "user@mail.com\n"
          ],
          "name": "stdout"
        }
      ]
    },
    {
      "cell_type": "code",
      "metadata": {
        "colab": {
          "base_uri": "https://localhost:8080/"
        },
        "id": "CPRQK8L15jqE",
        "outputId": "9e125000-413a-4709-9535-2405342051de"
      },
      "source": [
        "print('25','06','2021', sep='-')"
      ],
      "execution_count": 11,
      "outputs": [
        {
          "output_type": "stream",
          "text": [
            "25-06-2021\n"
          ],
          "name": "stdout"
        }
      ]
    },
    {
      "cell_type": "code",
      "metadata": {
        "colab": {
          "base_uri": "https://localhost:8080/"
        },
        "id": "OBM0H9MM5lpa",
        "outputId": "8841c605-b53e-4bef-ab15-b2579dd63bc4"
      },
      "source": [
        "mydict= {1: 11, 2: 22, 3: 33}\n",
        "\n",
        "mydict = {i: j for j, i in mydict.items()}\n",
        "\n",
        "print(mydict)"
      ],
      "execution_count": 12,
      "outputs": [
        {
          "output_type": "stream",
          "text": [
            "{11: 1, 22: 2, 33: 3}\n"
          ],
          "name": "stdout"
        }
      ]
    },
    {
      "cell_type": "code",
      "metadata": {
        "colab": {
          "base_uri": "https://localhost:8080/"
        },
        "id": "8nCjXgMf5obD",
        "outputId": "c97b5518-a621-4b3e-c4be-f4fb5646535c"
      },
      "source": [
        "mydict= {'John': 'Tesla', 'Jane': 'BMW'}\n",
        "mydict = {i:j for j,i in mydict.items()}\n",
        "\n",
        "print(mydict)"
      ],
      "execution_count": 13,
      "outputs": [
        {
          "output_type": "stream",
          "text": [
            "{'Tesla': 'John', 'BMW': 'Jane'}\n"
          ],
          "name": "stdout"
        }
      ]
    },
    {
      "cell_type": "code",
      "metadata": {
        "colab": {
          "base_uri": "https://localhost:8080/"
        },
        "id": "dyErSVcm5tY2",
        "outputId": "253ddd3c-e680-4a70-acdc-6033066a43e4"
      },
      "source": [
        "s = 'Python'\n",
        "e = enumerate(s)\n",
        "print(list(e))"
      ],
      "execution_count": 15,
      "outputs": [
        {
          "output_type": "stream",
          "text": [
            "[(0, 'P'), (1, 'y'), (2, 't'), (3, 'h'), (4, 'o'), (5, 'n')]\n"
          ],
          "name": "stdout"
        }
      ]
    },
    {
      "cell_type": "code",
      "metadata": {
        "colab": {
          "base_uri": "https://localhost:8080/"
        },
        "id": "tL0MfKb_5u_K",
        "outputId": "a986a93d-36eb-4ede-959b-b39ad5a326c8"
      },
      "source": [
        "s = 'Hello'\n",
        "e = enumerate(s)\n",
        "print(list(e))"
      ],
      "execution_count": 17,
      "outputs": [
        {
          "output_type": "stream",
          "text": [
            "[(0, 'H'), (1, 'e'), (2, 'l'), (3, 'l'), (4, 'o')]\n"
          ],
          "name": "stdout"
        }
      ]
    },
    {
      "cell_type": "code",
      "metadata": {
        "colab": {
          "base_uri": "https://localhost:8080/"
        },
        "id": "FR7ujQ4K5xpF",
        "outputId": "6a2132a7-1f1c-48a8-fa82-84219d77adaf"
      },
      "source": [
        "t1 = [\"Africa\"]\n",
        "t2 = [\"Africa\"]\n",
        "t3 = t2\n",
        "print(t1 is t2)\n",
        "print(t1 is t3)\n",
        "print(t1 is not t2)"
      ],
      "execution_count": 18,
      "outputs": [
        {
          "output_type": "stream",
          "text": [
            "False\n",
            "False\n",
            "True\n"
          ],
          "name": "stdout"
        }
      ]
    },
    {
      "cell_type": "code",
      "metadata": {
        "colab": {
          "base_uri": "https://localhost:8080/"
        },
        "id": "i96R5Rdo51zt",
        "outputId": "3fca8d72-5cdc-48ee-b26b-82f3112b1e41"
      },
      "source": [
        "t1 = \"Africa\"\n",
        "t2 = \"Africa\"\n",
        "t3 = t2\n",
        "\n",
        "print(t1 is t2)\n",
        "print(t1 is t3)\n",
        "print(t1 is not t2)"
      ],
      "execution_count": 19,
      "outputs": [
        {
          "output_type": "stream",
          "text": [
            "True\n",
            "True\n",
            "False\n"
          ],
          "name": "stdout"
        }
      ]
    },
    {
      "cell_type": "code",
      "metadata": {
        "colab": {
          "base_uri": "https://localhost:8080/"
        },
        "id": "KIo4EKVQ54Yn",
        "outputId": "5cdb4bd9-c23b-4902-8601-aed6e007ec79"
      },
      "source": [
        "colors = ('blue', 'red') + ('yellow', 'green')\n",
        "print(colors)"
      ],
      "execution_count": 20,
      "outputs": [
        {
          "output_type": "stream",
          "text": [
            "('blue', 'red', 'yellow', 'green')\n"
          ],
          "name": "stdout"
        }
      ]
    },
    {
      "cell_type": "code",
      "metadata": {
        "colab": {
          "base_uri": "https://localhost:8080/"
        },
        "id": "NSK6Ps9l56hB",
        "outputId": "932eae23-d41a-4c84-c163-21f3dc0f3e10"
      },
      "source": [
        "numbers = (1, 2) + (3,) + (4, 5) \n",
        "print(numbers)"
      ],
      "execution_count": 21,
      "outputs": [
        {
          "output_type": "stream",
          "text": [
            "(1, 2, 3, 4, 5)\n"
          ],
          "name": "stdout"
        }
      ]
    },
    {
      "cell_type": "code",
      "metadata": {
        "colab": {
          "base_uri": "https://localhost:8080/"
        },
        "id": "UfpOWnih58Fx",
        "outputId": "468306c8-4aad-4142-a18f-17a5753fd3f9"
      },
      "source": [
        "def double(n):\n",
        "     print(n * 2)\n",
        "\n",
        "double(5)\n",
        "print(type(double(5)))"
      ],
      "execution_count": 22,
      "outputs": [
        {
          "output_type": "stream",
          "text": [
            "10\n",
            "10\n",
            "<class 'NoneType'>\n"
          ],
          "name": "stdout"
        }
      ]
    },
    {
      "cell_type": "code",
      "metadata": {
        "colab": {
          "base_uri": "https://localhost:8080/"
        },
        "id": "pJJp0Bx15-9W",
        "outputId": "afa4ea56-2876-4659-b19a-6c77ab84e329"
      },
      "source": [
        "def add_zero(l):\n",
        "     l.append(0)\n",
        "     \n",
        "l = [1, 2, 3]\n",
        "add_zero(l)\n",
        "print(l)\n",
        "print(type(add_zero(l)))"
      ],
      "execution_count": 23,
      "outputs": [
        {
          "output_type": "stream",
          "text": [
            "[1, 2, 3, 0]\n",
            "<class 'NoneType'>\n"
          ],
          "name": "stdout"
        }
      ]
    }
  ]
}