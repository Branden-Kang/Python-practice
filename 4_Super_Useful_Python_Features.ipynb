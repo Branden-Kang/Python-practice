{
  "nbformat": 4,
  "nbformat_minor": 0,
  "metadata": {
    "colab": {
      "name": "4 Super Useful Python Features.ipynb",
      "provenance": [],
      "authorship_tag": "ABX9TyNFwYzDqALEnx0pV2Ymz62w"
    },
    "kernelspec": {
      "name": "python3",
      "display_name": "Python 3"
    }
  },
  "cells": [
    {
      "cell_type": "markdown",
      "metadata": {
        "id": "55YlsUKfECXF"
      },
      "source": [
        "[Reference](https://towardsdatascience.com/4-super-useful-python-features-993ae484fbb8)"
      ]
    },
    {
      "cell_type": "markdown",
      "metadata": {
        "id": "7ulret9eEE_o"
      },
      "source": [
        "# append and extend"
      ]
    },
    {
      "cell_type": "code",
      "metadata": {
        "colab": {
          "base_uri": "https://localhost:8080/"
        },
        "id": "inYG-JH9EBJK",
        "outputId": "d0680696-a70b-4d96-f6a7-4dadada4cd7d"
      },
      "source": [
        "x = [1, 2, 3]\n",
        "y = [4, 5]\n",
        "x.append(y)\n",
        "print(x)"
      ],
      "execution_count": 1,
      "outputs": [
        {
          "output_type": "stream",
          "text": [
            "[1, 2, 3, [4, 5]]\n"
          ],
          "name": "stdout"
        }
      ]
    },
    {
      "cell_type": "code",
      "metadata": {
        "colab": {
          "base_uri": "https://localhost:8080/"
        },
        "id": "TDUDJxSlEF_g",
        "outputId": "5d1fa73f-2c13-4617-f0e0-ffeaa8f17a3f"
      },
      "source": [
        "x = [1, 2, 3]\n",
        "y = [4, 5]\n",
        "x.extend(y)\n",
        "print(x)"
      ],
      "execution_count": 2,
      "outputs": [
        {
          "output_type": "stream",
          "text": [
            "[1, 2, 3, 4, 5]\n"
          ],
          "name": "stdout"
        }
      ]
    },
    {
      "cell_type": "markdown",
      "metadata": {
        "id": "P5G5FggxEKwT"
      },
      "source": [
        "# Yield vs Return"
      ]
    },
    {
      "cell_type": "code",
      "metadata": {
        "id": "Y5xeYVRNEG-_"
      },
      "source": [
        "def generator_yield():\n",
        "    yield \"hel\"\n",
        "    yield \"lo \"\n",
        "    yield \"wor\"\n",
        "    yield \"ld!\"\n",
        "\n",
        "def generator_return():\n",
        "    return \"hel\"\n",
        "    return \"lo \"\n",
        "    return \"wor\"\n",
        "    return \"ld!\""
      ],
      "execution_count": 8,
      "outputs": []
    },
    {
      "cell_type": "code",
      "metadata": {
        "colab": {
          "base_uri": "https://localhost:8080/"
        },
        "id": "Gv39UngVEMg4",
        "outputId": "9d016b96-55a6-4e33-b5cf-02e8f3f979ec"
      },
      "source": [
        "for value in generator_yield():\n",
        "    print(value, end=\"\")"
      ],
      "execution_count": 6,
      "outputs": [
        {
          "output_type": "stream",
          "text": [
            "hello world!"
          ],
          "name": "stdout"
        }
      ]
    },
    {
      "cell_type": "code",
      "metadata": {
        "colab": {
          "base_uri": "https://localhost:8080/"
        },
        "id": "M0CW-nvuEOR8",
        "outputId": "1f294936-e4d4-4bdb-fd0a-dbb518c6bf00"
      },
      "source": [
        "for value in generator_return():\n",
        "    print(value, end=\"\")"
      ],
      "execution_count": 9,
      "outputs": [
        {
          "output_type": "stream",
          "text": [
            "hel"
          ],
          "name": "stdout"
        }
      ]
    },
    {
      "cell_type": "markdown",
      "metadata": {
        "id": "GaQjfVeREXL5"
      },
      "source": [
        "# print(start, end)"
      ]
    },
    {
      "cell_type": "code",
      "metadata": {
        "colab": {
          "base_uri": "https://localhost:8080/"
        },
        "id": "KJ5gv6rwESGV",
        "outputId": "eb10816d-0e91-4135-e304-c49512e3761b"
      },
      "source": [
        "generator = (x for x in [1, 2, 3])\n",
        "for _ in generator:\n",
        "    print(_, end=\" \")"
      ],
      "execution_count": 10,
      "outputs": [
        {
          "output_type": "stream",
          "text": [
            "1 2 3 "
          ],
          "name": "stdout"
        }
      ]
    },
    {
      "cell_type": "code",
      "metadata": {
        "id": "j5jSbMvOEYVs"
      },
      "source": [
        "for _ in generator:\n",
        "    print(_)"
      ],
      "execution_count": 11,
      "outputs": []
    },
    {
      "cell_type": "markdown",
      "metadata": {
        "id": "GGIXnSVvEciQ"
      },
      "source": [
        "# map and lambda"
      ]
    },
    {
      "cell_type": "code",
      "metadata": {
        "colab": {
          "base_uri": "https://localhost:8080/"
        },
        "id": "t91uQwOhEZZg",
        "outputId": "a842a4de-d46f-481f-b01b-b49176bdeeeb"
      },
      "source": [
        "def add2(x):\n",
        "    return x + 2\n",
        "\n",
        "list(map(add2, [1, 2, 3]))"
      ],
      "execution_count": 12,
      "outputs": [
        {
          "output_type": "execute_result",
          "data": {
            "text/plain": [
              "[3, 4, 5]"
            ]
          },
          "metadata": {
            "tags": []
          },
          "execution_count": 12
        }
      ]
    },
    {
      "cell_type": "code",
      "metadata": {
        "colab": {
          "base_uri": "https://localhost:8080/"
        },
        "id": "uUo3J8mREgCU",
        "outputId": "4da747d1-4ef2-4dde-e1ed-95bf306cff22"
      },
      "source": [
        "results = [(0.1, 0.2), (0.3, 0.1), (0.2, 0.4)]\n",
        "\n",
        "list(map(lambda x: x[0], results))"
      ],
      "execution_count": 13,
      "outputs": [
        {
          "output_type": "execute_result",
          "data": {
            "text/plain": [
              "[0.1, 0.3, 0.2]"
            ]
          },
          "metadata": {
            "tags": []
          },
          "execution_count": 13
        }
      ]
    }
  ]
}