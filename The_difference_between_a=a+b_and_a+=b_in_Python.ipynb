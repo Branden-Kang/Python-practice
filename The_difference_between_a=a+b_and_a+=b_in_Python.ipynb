{
  "nbformat": 4,
  "nbformat_minor": 0,
  "metadata": {
    "colab": {
      "name": "The difference between a=a+b and a+=b in Python.ipynb",
      "provenance": [],
      "authorship_tag": "ABX9TyPHjMG7srY9jafkrd2i4ocZ"
    },
    "kernelspec": {
      "name": "python3",
      "display_name": "Python 3"
    },
    "language_info": {
      "name": "python"
    }
  },
  "cells": [
    {
      "cell_type": "markdown",
      "metadata": {
        "id": "sRIg5991OJDk"
      },
      "source": [
        "[Reference](https://pub.towardsai.net/the-difference-between-a-a-b-and-a-b-in-python-a7338d96e408)"
      ]
    },
    {
      "cell_type": "code",
      "metadata": {
        "colab": {
          "base_uri": "https://localhost:8080/"
        },
        "id": "INGJAmbQODob",
        "outputId": "bbbea873-6beb-487e-80bf-dfb32a6ec0c5"
      },
      "source": [
        "mylist_1 = [1, 2, 3]\n",
        "mylist_2 = [4, 5]\n",
        "print(id(mylist_1), id(mylist_2))"
      ],
      "execution_count": 1,
      "outputs": [
        {
          "output_type": "stream",
          "text": [
            "140417758541936 140417758414800\n"
          ],
          "name": "stdout"
        }
      ]
    },
    {
      "cell_type": "code",
      "metadata": {
        "colab": {
          "base_uri": "https://localhost:8080/"
        },
        "id": "93r71KkIOqyC",
        "outputId": "0cf35394-8233-4847-b6ce-7f805a5b2473"
      },
      "source": [
        "mylist_1 = mylist_1 + mylist_2\n",
        "print(mylist_1)\n",
        "print(id(mylist_1))"
      ],
      "execution_count": 2,
      "outputs": [
        {
          "output_type": "stream",
          "text": [
            "[1, 2, 3, 4, 5]\n",
            "140417758541696\n"
          ],
          "name": "stdout"
        }
      ]
    },
    {
      "cell_type": "code",
      "metadata": {
        "colab": {
          "base_uri": "https://localhost:8080/"
        },
        "id": "fspJQTWiOsV1",
        "outputId": "a852c882-2153-471f-9fe0-b9c6cf193618"
      },
      "source": [
        "mylist_1 = [1, 2, 3]\n",
        "mylist_2 = [4, 5]\n",
        "print(id(mylist_1), id(mylist_2))"
      ],
      "execution_count": 3,
      "outputs": [
        {
          "output_type": "stream",
          "text": [
            "140417724705840 140417724706160\n"
          ],
          "name": "stdout"
        }
      ]
    },
    {
      "cell_type": "code",
      "metadata": {
        "colab": {
          "base_uri": "https://localhost:8080/"
        },
        "id": "N_9mtw0oOuXH",
        "outputId": "6424fd37-b3e2-4cdc-d34d-0bbc5f368347"
      },
      "source": [
        "mylist_1 += mylist_2\n",
        "print(mylist_1)\n",
        "print(id(mylist_1))"
      ],
      "execution_count": 4,
      "outputs": [
        {
          "output_type": "stream",
          "text": [
            "[1, 2, 3, 4, 5]\n",
            "140417724705840\n"
          ],
          "name": "stdout"
        }
      ]
    },
    {
      "cell_type": "code",
      "metadata": {
        "colab": {
          "base_uri": "https://localhost:8080/"
        },
        "id": "ucrZ8cuHOwuM",
        "outputId": "caa0bab4-f01b-4807-9f40-11dd3f81659f"
      },
      "source": [
        "num1 = 10\n",
        "num2 = 20\n",
        "id(num1), id(num2)"
      ],
      "execution_count": 5,
      "outputs": [
        {
          "output_type": "execute_result",
          "data": {
            "text/plain": [
              "(93976544131872, 93976544132192)"
            ]
          },
          "metadata": {
            "tags": []
          },
          "execution_count": 5
        }
      ]
    },
    {
      "cell_type": "code",
      "metadata": {
        "colab": {
          "base_uri": "https://localhost:8080/"
        },
        "id": "SfH8F-vFO3_E",
        "outputId": "9c78f7db-9b8c-41ab-b83c-c709717b9b2e"
      },
      "source": [
        "num1 = num1 + num2\n",
        "id(num1)  "
      ],
      "execution_count": 6,
      "outputs": [
        {
          "output_type": "execute_result",
          "data": {
            "text/plain": [
              "93976544132512"
            ]
          },
          "metadata": {
            "tags": []
          },
          "execution_count": 6
        }
      ]
    },
    {
      "cell_type": "code",
      "metadata": {
        "colab": {
          "base_uri": "https://localhost:8080/"
        },
        "id": "iGBliQhxO5bE",
        "outputId": "fa0249bc-a030-4704-8d94-7b756d7a64c1"
      },
      "source": [
        "num1 += num2\n",
        "id(num1)"
      ],
      "execution_count": 7,
      "outputs": [
        {
          "output_type": "execute_result",
          "data": {
            "text/plain": [
              "93976544133152"
            ]
          },
          "metadata": {
            "tags": []
          },
          "execution_count": 7
        }
      ]
    },
    {
      "cell_type": "code",
      "metadata": {
        "colab": {
          "base_uri": "https://localhost:8080/"
        },
        "id": "OEKlp9l-O6wT",
        "outputId": "ff79f19e-3083-4815-c8dd-075730455ba9"
      },
      "source": [
        "mylist1 = [1,2]\n",
        "id(mylist1)"
      ],
      "execution_count": 8,
      "outputs": [
        {
          "output_type": "execute_result",
          "data": {
            "text/plain": [
              "140417696976320"
            ]
          },
          "metadata": {
            "tags": []
          },
          "execution_count": 8
        }
      ]
    },
    {
      "cell_type": "code",
      "metadata": {
        "colab": {
          "base_uri": "https://localhost:8080/"
        },
        "id": "zGHjdWHKPMhp",
        "outputId": "847cbe4f-e9e0-496f-8d93-1fb72d187d82"
      },
      "source": [
        "mylist1 = mylist1 * 3\n",
        "print(mylist1)"
      ],
      "execution_count": 9,
      "outputs": [
        {
          "output_type": "stream",
          "text": [
            "[1, 2, 1, 2, 1, 2]\n"
          ],
          "name": "stdout"
        }
      ]
    },
    {
      "cell_type": "code",
      "metadata": {
        "colab": {
          "base_uri": "https://localhost:8080/"
        },
        "id": "KtkZIvq7PN7c",
        "outputId": "53f5c40f-68fc-4588-bccb-cfca6680445a"
      },
      "source": [
        "id(mylist1)"
      ],
      "execution_count": 10,
      "outputs": [
        {
          "output_type": "execute_result",
          "data": {
            "text/plain": [
              "140417724656048"
            ]
          },
          "metadata": {
            "tags": []
          },
          "execution_count": 10
        }
      ]
    },
    {
      "cell_type": "code",
      "metadata": {
        "colab": {
          "base_uri": "https://localhost:8080/"
        },
        "id": "0tVkMCP5POyH",
        "outputId": "e1eb07c9-34ee-4df4-9c2d-e590956e121e"
      },
      "source": [
        "mylist1 = [1,2]\n",
        "id(mylist1)"
      ],
      "execution_count": 11,
      "outputs": [
        {
          "output_type": "execute_result",
          "data": {
            "text/plain": [
              "140417758541696"
            ]
          },
          "metadata": {
            "tags": []
          },
          "execution_count": 11
        }
      ]
    },
    {
      "cell_type": "code",
      "metadata": {
        "colab": {
          "base_uri": "https://localhost:8080/"
        },
        "id": "lzeiFDjbPQW7",
        "outputId": "107fde2c-e09e-465a-96c4-e2845fe0926b"
      },
      "source": [
        "mylist1 *= 3\n",
        "print(mylist1)"
      ],
      "execution_count": 12,
      "outputs": [
        {
          "output_type": "stream",
          "text": [
            "[1, 2, 1, 2, 1, 2]\n"
          ],
          "name": "stdout"
        }
      ]
    },
    {
      "cell_type": "code",
      "metadata": {
        "colab": {
          "base_uri": "https://localhost:8080/"
        },
        "id": "5m-EnkfHPSY4",
        "outputId": "e65ab092-5cd7-4fa1-882b-926f7ea6feed"
      },
      "source": [
        "id(mylist1)"
      ],
      "execution_count": 13,
      "outputs": [
        {
          "output_type": "execute_result",
          "data": {
            "text/plain": [
              "140417758541696"
            ]
          },
          "metadata": {
            "tags": []
          },
          "execution_count": 13
        }
      ]
    },
    {
      "cell_type": "code",
      "metadata": {
        "colab": {
          "base_uri": "https://localhost:8080/"
        },
        "id": "ag4bQMaLPTb0",
        "outputId": "20b7f2fe-27c3-4874-d624-c00046f6b516"
      },
      "source": [
        "code = \"\"\"\n",
        "mylist_1 = [1, 2, 3, 4, 5, 7, 8]\n",
        "mylist_2 = [9, 10]\n",
        "mylist_1 = mylist_1 + mylist_2\n",
        "\"\"\"\n",
        "import timeit\n",
        "timeit.timeit(stmt=code, number=10_000_000)"
      ],
      "execution_count": 14,
      "outputs": [
        {
          "output_type": "execute_result",
          "data": {
            "text/plain": [
              "2.0970455679999986"
            ]
          },
          "metadata": {
            "tags": []
          },
          "execution_count": 14
        }
      ]
    },
    {
      "cell_type": "code",
      "metadata": {
        "colab": {
          "base_uri": "https://localhost:8080/"
        },
        "id": "_Ja6eo0tPgJR",
        "outputId": "af9a280d-757d-407a-e8a7-afbed4afc326"
      },
      "source": [
        "code = \"\"\"\n",
        "mylist_1 = [1, 2, 3, 4, 5, 7, 8]\n",
        "mylist_2 = [9, 10]\n",
        "mylist_1 += mylist_2\n",
        "\"\"\"\n",
        "import timeit\n",
        "timeit.timeit(stmt=code, number=10_000_000)"
      ],
      "execution_count": 15,
      "outputs": [
        {
          "output_type": "execute_result",
          "data": {
            "text/plain": [
              "2.0400456039999426"
            ]
          },
          "metadata": {
            "tags": []
          },
          "execution_count": 15
        }
      ]
    },
    {
      "cell_type": "code",
      "metadata": {
        "colab": {
          "base_uri": "https://localhost:8080/"
        },
        "id": "_iftnlSCPljr",
        "outputId": "261f9556-ce32-4c91-ad83-2d2663638863"
      },
      "source": [
        "code = \"\"\"\n",
        "mylist_1 = [1, 2, 3, 4, 5, 6, 7, 8, 9, 10]\n",
        "mylist_1 = mylist_1 * 2\n",
        "\"\"\"\n",
        "\n",
        "import timeit\n",
        "timeit.timeit(stmt=code, number=10_000_000)"
      ],
      "execution_count": 16,
      "outputs": [
        {
          "output_type": "execute_result",
          "data": {
            "text/plain": [
              "2.2826116710000406"
            ]
          },
          "metadata": {
            "tags": []
          },
          "execution_count": 16
        }
      ]
    },
    {
      "cell_type": "code",
      "metadata": {
        "colab": {
          "base_uri": "https://localhost:8080/"
        },
        "id": "VfD-2BwEPpBD",
        "outputId": "2cfb2809-53b5-47a9-9883-8715cc2cfd66"
      },
      "source": [
        "code = \"\"\"\n",
        "mylist_1 = [1, 2, 3, 4, 5, 6, 7, 8, 9, 10]\n",
        "mylist_1 *= 2\n",
        "\"\"\"\n",
        "\n",
        "import timeit\n",
        "timeit.timeit(stmt=code, number=10_000_000)"
      ],
      "execution_count": 17,
      "outputs": [
        {
          "output_type": "execute_result",
          "data": {
            "text/plain": [
              "2.181778760000043"
            ]
          },
          "metadata": {
            "tags": []
          },
          "execution_count": 17
        }
      ]
    }
  ]
}