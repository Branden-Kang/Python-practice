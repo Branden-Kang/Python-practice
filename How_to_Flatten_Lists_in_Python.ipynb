{
  "nbformat": 4,
  "nbformat_minor": 0,
  "metadata": {
    "colab": {
      "provenance": [],
      "authorship_tag": "ABX9TyP/3YvYuo/rEE8yJOf3vFW+"
    },
    "kernelspec": {
      "name": "python3",
      "display_name": "Python 3"
    },
    "language_info": {
      "name": "python"
    }
  },
  "cells": [
    {
      "cell_type": "markdown",
      "source": [
        "[Reference](https://python.plainenglish.io/how-to-flatten-lists-in-python-502e9c7b1e0)"
      ],
      "metadata": {
        "id": "3jC-1QgkDG4g"
      }
    },
    {
      "cell_type": "markdown",
      "source": [
        "# Flattening 2D Lists"
      ],
      "metadata": {
        "id": "xwV6b-sjDRah"
      }
    },
    {
      "cell_type": "code",
      "execution_count": 1,
      "metadata": {
        "id": "vfhPWfN5CmNz"
      },
      "outputs": [],
      "source": [
        "def flatten_2d(input_list: list) -> list:\n",
        "   flattened = []\n",
        "   for sublist in input_list:\n",
        "      for element in sublist:\n",
        "        flattened.append(element)\n",
        "   return flattened"
      ]
    },
    {
      "cell_type": "code",
      "source": [
        "list_2d = [[1, 2], [3, 4], [5, 6]]\n",
        "print(flatten_2d(list_2d))"
      ],
      "metadata": {
        "colab": {
          "base_uri": "https://localhost:8080/"
        },
        "id": "xMMePCe5DTBv",
        "outputId": "a7118ac2-8845-4bcc-9ccf-8efe2481a46d"
      },
      "execution_count": 2,
      "outputs": [
        {
          "output_type": "stream",
          "name": "stdout",
          "text": [
            "[1, 2, 3, 4, 5, 6]\n"
          ]
        }
      ]
    },
    {
      "cell_type": "markdown",
      "source": [
        "# Flattening 3D Lists"
      ],
      "metadata": {
        "id": "9i6MaHULDU98"
      }
    },
    {
      "cell_type": "code",
      "source": [
        "def flatten_3d(input_list: list) -> list:\n",
        "  flattened = []\n",
        "  for sublist in input_list:\n",
        "    for sublist_2 in sublist:\n",
        "      for element in sublist_2:\n",
        "        flattened.append(element)\n",
        "  return flattened"
      ],
      "metadata": {
        "id": "isRQkYTSDTLt"
      },
      "execution_count": 3,
      "outputs": []
    },
    {
      "cell_type": "code",
      "source": [
        "list_3d = [[[1, 2, 3, 4, 5, 6, 7, 8]]]\n",
        "print(flatten_3d(list_3d))"
      ],
      "metadata": {
        "colab": {
          "base_uri": "https://localhost:8080/"
        },
        "id": "zAc69eKjDW-P",
        "outputId": "fb01f45d-a447-4745-d971-9f12c45d27a6"
      },
      "execution_count": 4,
      "outputs": [
        {
          "output_type": "stream",
          "name": "stdout",
          "text": [
            "[1, 2, 3, 4, 5, 6, 7, 8]\n"
          ]
        }
      ]
    },
    {
      "cell_type": "markdown",
      "source": [
        "# Flattening Any List with NumPy"
      ],
      "metadata": {
        "id": "UutMBJ4BDlKD"
      }
    },
    {
      "cell_type": "code",
      "source": [
        "import numpy as np\n",
        "\n",
        "def flatten_any(input_list: list) -> list:\n",
        "  np_list = np.array(input_list)\n",
        "  flattened = np_list.flatten()\n",
        "  return flattened.tolist()"
      ],
      "metadata": {
        "id": "9xOKMoIPDXHh"
      },
      "execution_count": 5,
      "outputs": []
    },
    {
      "cell_type": "code",
      "source": [
        "list_4d = [[[[1, 2, 3, 4, 5, 6, 7, 8]]]]\n",
        "print(flatten_any(list_4d))"
      ],
      "metadata": {
        "colab": {
          "base_uri": "https://localhost:8080/"
        },
        "id": "V78FHRB1Dm1x",
        "outputId": "d96093f4-137d-4656-f499-9a0f3ab7b04e"
      },
      "execution_count": 6,
      "outputs": [
        {
          "output_type": "stream",
          "name": "stdout",
          "text": [
            "[1, 2, 3, 4, 5, 6, 7, 8]\n"
          ]
        }
      ]
    },
    {
      "cell_type": "markdown",
      "source": [
        "# Flattening list Using itertools.chain"
      ],
      "metadata": {
        "id": "WXI2pfhfDo8e"
      }
    },
    {
      "cell_type": "code",
      "source": [
        "import itertools\n",
        "\n",
        "original_list = [[1, 2, 3], [4, 5], [6, 7, 8]]\n",
        "flattened_list = list(itertools.chain(*original_list))\n",
        "print(flattened_list)"
      ],
      "metadata": {
        "colab": {
          "base_uri": "https://localhost:8080/"
        },
        "id": "NHIjXcGVDoH4",
        "outputId": "dcc7234e-ee28-437b-d647-b34fcb5ad47a"
      },
      "execution_count": 7,
      "outputs": [
        {
          "output_type": "stream",
          "name": "stdout",
          "text": [
            "[1, 2, 3, 4, 5, 6, 7, 8]\n"
          ]
        }
      ]
    }
  ]
}