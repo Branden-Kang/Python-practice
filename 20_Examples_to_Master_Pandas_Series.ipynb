{
  "nbformat": 4,
  "nbformat_minor": 0,
  "metadata": {
    "colab": {
      "name": "20 Examples to Master Pandas Series.ipynb",
      "provenance": [],
      "authorship_tag": "ABX9TyNSE1Q0m+9QU8rbLNqCBwxu"
    },
    "kernelspec": {
      "name": "python3",
      "display_name": "Python 3"
    },
    "language_info": {
      "name": "python"
    }
  },
  "cells": [
    {
      "cell_type": "markdown",
      "metadata": {
        "id": "DXeZyEih8rV1"
      },
      "source": [
        "[Reference](https://towardsdatascience.com/20-examples-to-master-pandas-series-bc4c68200324)"
      ]
    },
    {
      "cell_type": "code",
      "metadata": {
        "id": "HyMV4X_m8rKo"
      },
      "source": [
        "import numpy as np\n",
        "import pandas as pd"
      ],
      "execution_count": 8,
      "outputs": []
    },
    {
      "cell_type": "markdown",
      "metadata": {
        "id": "Saa_C2AMYfdW"
      },
      "source": [
        "# 1. DataFrame is composed of Series"
      ]
    },
    {
      "cell_type": "code",
      "metadata": {
        "colab": {
          "base_uri": "https://localhost:8080/",
          "height": 204
        },
        "id": "zrlmYwyQ80tl",
        "outputId": "7540e78f-41cc-4c78-d80f-98afdf510809"
      },
      "source": [
        "df = pd.DataFrame(np.array([[1,6,9,2],[2,1,7,2],[3,0,6,3],[5,2,4,8],[4,0,2,3]]))\n",
        "df"
      ],
      "execution_count": 9,
      "outputs": [
        {
          "output_type": "execute_result",
          "data": {
            "text/html": [
              "<div>\n",
              "<style scoped>\n",
              "    .dataframe tbody tr th:only-of-type {\n",
              "        vertical-align: middle;\n",
              "    }\n",
              "\n",
              "    .dataframe tbody tr th {\n",
              "        vertical-align: top;\n",
              "    }\n",
              "\n",
              "    .dataframe thead th {\n",
              "        text-align: right;\n",
              "    }\n",
              "</style>\n",
              "<table border=\"1\" class=\"dataframe\">\n",
              "  <thead>\n",
              "    <tr style=\"text-align: right;\">\n",
              "      <th></th>\n",
              "      <th>0</th>\n",
              "      <th>1</th>\n",
              "      <th>2</th>\n",
              "      <th>3</th>\n",
              "    </tr>\n",
              "  </thead>\n",
              "  <tbody>\n",
              "    <tr>\n",
              "      <th>0</th>\n",
              "      <td>1</td>\n",
              "      <td>6</td>\n",
              "      <td>9</td>\n",
              "      <td>2</td>\n",
              "    </tr>\n",
              "    <tr>\n",
              "      <th>1</th>\n",
              "      <td>2</td>\n",
              "      <td>1</td>\n",
              "      <td>7</td>\n",
              "      <td>2</td>\n",
              "    </tr>\n",
              "    <tr>\n",
              "      <th>2</th>\n",
              "      <td>3</td>\n",
              "      <td>0</td>\n",
              "      <td>6</td>\n",
              "      <td>3</td>\n",
              "    </tr>\n",
              "    <tr>\n",
              "      <th>3</th>\n",
              "      <td>5</td>\n",
              "      <td>2</td>\n",
              "      <td>4</td>\n",
              "      <td>8</td>\n",
              "    </tr>\n",
              "    <tr>\n",
              "      <th>4</th>\n",
              "      <td>4</td>\n",
              "      <td>0</td>\n",
              "      <td>2</td>\n",
              "      <td>3</td>\n",
              "    </tr>\n",
              "  </tbody>\n",
              "</table>\n",
              "</div>"
            ],
            "text/plain": [
              "   0  1  2  3\n",
              "0  1  6  9  2\n",
              "1  2  1  7  2\n",
              "2  3  0  6  3\n",
              "3  5  2  4  8\n",
              "4  4  0  2  3"
            ]
          },
          "metadata": {
            "tags": []
          },
          "execution_count": 9
        }
      ]
    },
    {
      "cell_type": "code",
      "metadata": {
        "colab": {
          "base_uri": "https://localhost:8080/"
        },
        "id": "ZIzgjcNT8keQ",
        "outputId": "f925dff9-794b-4563-867b-b33537b160bd"
      },
      "source": [
        "a = df.iloc[0, :]\n",
        "print(type(a))\n",
        "\n",
        "b = df[0]\n",
        "type(b)"
      ],
      "execution_count": 11,
      "outputs": [
        {
          "output_type": "stream",
          "text": [
            "<class 'pandas.core.series.Series'>\n"
          ],
          "name": "stdout"
        },
        {
          "output_type": "execute_result",
          "data": {
            "text/plain": [
              "pandas.core.series.Series"
            ]
          },
          "metadata": {
            "tags": []
          },
          "execution_count": 11
        }
      ]
    },
    {
      "cell_type": "markdown",
      "metadata": {
        "id": "rbVKds_hYh-k"
      },
      "source": [
        "# 2. Series consists of values and index"
      ]
    },
    {
      "cell_type": "code",
      "metadata": {
        "colab": {
          "base_uri": "https://localhost:8080/"
        },
        "id": "VbjhU-hp8x6r",
        "outputId": "f359ca99-4be7-4da6-93d9-28c1e2a6b66f"
      },
      "source": [
        "ser = pd.Series(['a','b','c','d','e'])\n",
        "print(ser.index)\n",
        "print(ser.values)"
      ],
      "execution_count": 14,
      "outputs": [
        {
          "output_type": "stream",
          "text": [
            "RangeIndex(start=0, stop=5, step=1)\n",
            "['a' 'b' 'c' 'd' 'e']\n"
          ],
          "name": "stdout"
        }
      ]
    },
    {
      "cell_type": "markdown",
      "metadata": {
        "id": "YfwdS4h3YjoM"
      },
      "source": [
        "# 3. Index can be customized"
      ]
    },
    {
      "cell_type": "code",
      "metadata": {
        "colab": {
          "base_uri": "https://localhost:8080/"
        },
        "id": "O3DpRTb7YX9x",
        "outputId": "eced6ef1-a9f8-45a8-8f43-80800428ffad"
      },
      "source": [
        "ser = pd.Series(['a','b','c','d','e'], index=[10,20,30,40,50])\n",
        "print(ser.index)"
      ],
      "execution_count": 16,
      "outputs": [
        {
          "output_type": "stream",
          "text": [
            "Int64Index([10, 20, 30, 40, 50], dtype='int64')\n"
          ],
          "name": "stdout"
        }
      ]
    },
    {
      "cell_type": "markdown",
      "metadata": {
        "id": "v6K_qBoKY7Ok"
      },
      "source": [
        "# 4. Series from a list"
      ]
    },
    {
      "cell_type": "code",
      "metadata": {
        "colab": {
          "base_uri": "https://localhost:8080/"
        },
        "id": "P805gE0NYclC",
        "outputId": "b5a7ccb6-9536-4da3-e344-ef58442e8dbb"
      },
      "source": [
        "list_a = ['data', 'science', 'machine', 'learning']\n",
        "ser = pd.Series(list_a)\n",
        "type(ser)"
      ],
      "execution_count": 17,
      "outputs": [
        {
          "output_type": "execute_result",
          "data": {
            "text/plain": [
              "pandas.core.series.Series"
            ]
          },
          "metadata": {
            "tags": []
          },
          "execution_count": 17
        }
      ]
    },
    {
      "cell_type": "markdown",
      "metadata": {
        "id": "Gzlc5NILZCaW"
      },
      "source": [
        "# 5. Series from a NumPy array"
      ]
    },
    {
      "cell_type": "code",
      "metadata": {
        "id": "SitKzBOTY-lO"
      },
      "source": [
        "arr = np.random.randint(0, 10, size=50)\n",
        "ser = pd.Series(arr)"
      ],
      "execution_count": 18,
      "outputs": []
    },
    {
      "cell_type": "markdown",
      "metadata": {
        "id": "mczZCz5wZF1X"
      },
      "source": [
        "# 6. Accessing individual values"
      ]
    },
    {
      "cell_type": "code",
      "metadata": {
        "colab": {
          "base_uri": "https://localhost:8080/"
        },
        "id": "Os-jmRLuZEf2",
        "outputId": "09d4d1c1-3c78-4af2-855b-1ca2a17e127b"
      },
      "source": [
        "ser = pd.Series(['a','b','c','d','e'])\n",
        "print(ser[0])\n",
        "print(ser[2])"
      ],
      "execution_count": 19,
      "outputs": [
        {
          "output_type": "stream",
          "text": [
            "a\n",
            "c\n"
          ],
          "name": "stdout"
        }
      ]
    },
    {
      "cell_type": "markdown",
      "metadata": {
        "id": "YKTbV8bdZKAj"
      },
      "source": [
        "# 7. Slicing a Series"
      ]
    },
    {
      "cell_type": "code",
      "metadata": {
        "colab": {
          "base_uri": "https://localhost:8080/"
        },
        "id": "wuLJMeLBZIN6",
        "outputId": "ced59909-1077-485f-9838-46ec472fbb83"
      },
      "source": [
        "ser = pd.Series(['a','b','c','d','e'])\n",
        "\n",
        "print(ser[:3])\n",
        "print(ser[2:])"
      ],
      "execution_count": 20,
      "outputs": [
        {
          "output_type": "stream",
          "text": [
            "0    a\n",
            "1    b\n",
            "2    c\n",
            "dtype: object\n",
            "2    c\n",
            "3    d\n",
            "4    e\n",
            "dtype: object\n"
          ],
          "name": "stdout"
        }
      ]
    },
    {
      "cell_type": "markdown",
      "metadata": {
        "id": "wMyD8KpAZOvi"
      },
      "source": [
        "# 8. Data types"
      ]
    },
    {
      "cell_type": "code",
      "metadata": {
        "colab": {
          "base_uri": "https://localhost:8080/"
        },
        "id": "qS2bD-EVZNY3",
        "outputId": "3d0adca6-d31b-42f6-da92-7e96d133c20e"
      },
      "source": [
        "ser1 = pd.Series([1,2,3,4,5])\n",
        "print(ser1)"
      ],
      "execution_count": 21,
      "outputs": [
        {
          "output_type": "stream",
          "text": [
            "0    1\n",
            "1    2\n",
            "2    3\n",
            "3    4\n",
            "4    5\n",
            "dtype: int64\n"
          ],
          "name": "stdout"
        }
      ]
    },
    {
      "cell_type": "code",
      "metadata": {
        "colab": {
          "base_uri": "https://localhost:8080/"
        },
        "id": "QlGkjtEFZQpA",
        "outputId": "85a6f652-24fa-4214-ea90-bb3d70e021dd"
      },
      "source": [
        "ser2 = pd.Series([1,2,3,4,5], dtype='float')\n",
        "print(ser2)"
      ],
      "execution_count": 22,
      "outputs": [
        {
          "output_type": "stream",
          "text": [
            "0    1.0\n",
            "1    2.0\n",
            "2    3.0\n",
            "3    4.0\n",
            "4    5.0\n",
            "dtype: float64\n"
          ],
          "name": "stdout"
        }
      ]
    },
    {
      "cell_type": "markdown",
      "metadata": {
        "id": "hAoD5W6nZgCz"
      },
      "source": [
        "# 9. Number of items in a Series"
      ]
    },
    {
      "cell_type": "code",
      "metadata": {
        "colab": {
          "base_uri": "https://localhost:8080/"
        },
        "id": "nih3rDAEZVcA",
        "outputId": "75f91bf4-7146-432e-cc59-cbc27ab556f5"
      },
      "source": [
        "ser = pd.Series([1,2,3,4,5])\n",
        "len(ser)"
      ],
      "execution_count": 23,
      "outputs": [
        {
          "output_type": "execute_result",
          "data": {
            "text/plain": [
              "5"
            ]
          },
          "metadata": {
            "tags": []
          },
          "execution_count": 23
        }
      ]
    },
    {
      "cell_type": "code",
      "metadata": {
        "colab": {
          "base_uri": "https://localhost:8080/"
        },
        "id": "6RezWLzGZiY1",
        "outputId": "888b9936-720e-41b3-d185-b6ba39048a09"
      },
      "source": [
        "ser.size"
      ],
      "execution_count": 24,
      "outputs": [
        {
          "output_type": "execute_result",
          "data": {
            "text/plain": [
              "5"
            ]
          },
          "metadata": {
            "tags": []
          },
          "execution_count": 24
        }
      ]
    },
    {
      "cell_type": "code",
      "metadata": {
        "colab": {
          "base_uri": "https://localhost:8080/"
        },
        "id": "eKBGXrBaZkfU",
        "outputId": "7ab01f6e-96d0-4051-d40b-ca09b9d9c012"
      },
      "source": [
        "ser.shape"
      ],
      "execution_count": 25,
      "outputs": [
        {
          "output_type": "execute_result",
          "data": {
            "text/plain": [
              "(5,)"
            ]
          },
          "metadata": {
            "tags": []
          },
          "execution_count": 25
        }
      ]
    },
    {
      "cell_type": "markdown",
      "metadata": {
        "id": "A8R4jxFdZm7Z"
      },
      "source": [
        "# 10. Unique and Nunique"
      ]
    },
    {
      "cell_type": "code",
      "metadata": {
        "colab": {
          "base_uri": "https://localhost:8080/"
        },
        "id": "uBwH8HIKZkp_",
        "outputId": "23034e2a-4511-42d7-ab28-08c25a6f9185"
      },
      "source": [
        "ser = pd.Series(['a','a','a','b','b','c'])\n",
        "ser.unique()"
      ],
      "execution_count": 26,
      "outputs": [
        {
          "output_type": "execute_result",
          "data": {
            "text/plain": [
              "array(['a', 'b', 'c'], dtype=object)"
            ]
          },
          "metadata": {
            "tags": []
          },
          "execution_count": 26
        }
      ]
    },
    {
      "cell_type": "code",
      "metadata": {
        "colab": {
          "base_uri": "https://localhost:8080/"
        },
        "id": "dzEf95VXZrX5",
        "outputId": "2c92fcd0-52c6-4fdd-b0f7-0173aef64540"
      },
      "source": [
        "ser.nunique()"
      ],
      "execution_count": 27,
      "outputs": [
        {
          "output_type": "execute_result",
          "data": {
            "text/plain": [
              "3"
            ]
          },
          "metadata": {
            "tags": []
          },
          "execution_count": 27
        }
      ]
    },
    {
      "cell_type": "markdown",
      "metadata": {
        "id": "-OSYFSz6Ztxx"
      },
      "source": [
        "# 11. Largest and smallest values"
      ]
    },
    {
      "cell_type": "code",
      "metadata": {
        "colab": {
          "base_uri": "https://localhost:8080/"
        },
        "id": "VJ-j6FnbZrkf",
        "outputId": "1db7772a-9369-46a2-f359-1607c139a74f"
      },
      "source": [
        "ser = pd.Series(np.random.random(size=500))\n",
        "ser.nlargest(n=3)"
      ],
      "execution_count": 28,
      "outputs": [
        {
          "output_type": "execute_result",
          "data": {
            "text/plain": [
              "348    0.996721\n",
              "260    0.993279\n",
              "51     0.991170\n",
              "dtype: float64"
            ]
          },
          "metadata": {
            "tags": []
          },
          "execution_count": 28
        }
      ]
    },
    {
      "cell_type": "code",
      "metadata": {
        "colab": {
          "base_uri": "https://localhost:8080/"
        },
        "id": "8iAFTRvRZxn_",
        "outputId": "c3cb76d8-511b-4a5c-c81b-b60ba9d99880"
      },
      "source": [
        "ser.nsmallest(n=2)"
      ],
      "execution_count": 29,
      "outputs": [
        {
          "output_type": "execute_result",
          "data": {
            "text/plain": [
              "28     0.003819\n",
              "458    0.005042\n",
              "dtype: float64"
            ]
          },
          "metadata": {
            "tags": []
          },
          "execution_count": 29
        }
      ]
    },
    {
      "cell_type": "markdown",
      "metadata": {
        "id": "4fcfHsaqZy1V"
      },
      "source": [
        "# 12. Series from a dictionary"
      ]
    },
    {
      "cell_type": "code",
      "metadata": {
        "colab": {
          "base_uri": "https://localhost:8080/"
        },
        "id": "lDN6w8XyZxyq",
        "outputId": "f66b8337-ff61-44a1-8362-5bcdd6ce0a3b"
      },
      "source": [
        "dict_a = {'a':1, 'b':2, 'c':8, 'd':5}\n",
        "pd.Series(dict_a)"
      ],
      "execution_count": 30,
      "outputs": [
        {
          "output_type": "execute_result",
          "data": {
            "text/plain": [
              "a    1\n",
              "b    2\n",
              "c    8\n",
              "d    5\n",
              "dtype: int64"
            ]
          },
          "metadata": {
            "tags": []
          },
          "execution_count": 30
        }
      ]
    },
    {
      "cell_type": "markdown",
      "metadata": {
        "id": "276uICJxZ3oV"
      },
      "source": [
        "# 13. Converting data type"
      ]
    },
    {
      "cell_type": "code",
      "metadata": {
        "colab": {
          "base_uri": "https://localhost:8080/"
        },
        "id": "hcAuhT_hZ0uO",
        "outputId": "9e658a62-4841-4824-a1c5-113564d33f90"
      },
      "source": [
        "ser = pd.Series(['1','2','3','4'])\n",
        "ser"
      ],
      "execution_count": 31,
      "outputs": [
        {
          "output_type": "execute_result",
          "data": {
            "text/plain": [
              "0    1\n",
              "1    2\n",
              "2    3\n",
              "3    4\n",
              "dtype: object"
            ]
          },
          "metadata": {
            "tags": []
          },
          "execution_count": 31
        }
      ]
    },
    {
      "cell_type": "code",
      "metadata": {
        "colab": {
          "base_uri": "https://localhost:8080/"
        },
        "id": "R8d4drVZZ6hv",
        "outputId": "23826afb-a731-4946-eaed-f8fbef99e102"
      },
      "source": [
        "ser.astype('int')"
      ],
      "execution_count": 32,
      "outputs": [
        {
          "output_type": "execute_result",
          "data": {
            "text/plain": [
              "0    1\n",
              "1    2\n",
              "2    3\n",
              "3    4\n",
              "dtype: int64"
            ]
          },
          "metadata": {
            "tags": []
          },
          "execution_count": 32
        }
      ]
    },
    {
      "cell_type": "markdown",
      "metadata": {
        "id": "XTkSCbQpakwf"
      },
      "source": [
        "# 14. Number of occurrences of values"
      ]
    },
    {
      "cell_type": "code",
      "metadata": {
        "colab": {
          "base_uri": "https://localhost:8080/"
        },
        "id": "lVCefVOVZ6qi",
        "outputId": "4d046973-c470-4871-8ad0-77e05610977a"
      },
      "source": [
        "ser = pd.Series(['a','a','a','b','b','c'])\n",
        "ser.value_counts()"
      ],
      "execution_count": 33,
      "outputs": [
        {
          "output_type": "execute_result",
          "data": {
            "text/plain": [
              "a    3\n",
              "b    2\n",
              "c    1\n",
              "dtype: int64"
            ]
          },
          "metadata": {
            "tags": []
          },
          "execution_count": 33
        }
      ]
    },
    {
      "cell_type": "markdown",
      "metadata": {
        "id": "k4TkpM-6arLM"
      },
      "source": [
        "# 15. From series to list"
      ]
    },
    {
      "cell_type": "code",
      "metadata": {
        "colab": {
          "base_uri": "https://localhost:8080/"
        },
        "id": "4xgE_RiNapog",
        "outputId": "560bec68-0355-4c20-fb37-19434d34d99e"
      },
      "source": [
        "ser = pd.Series(np.random.randint(10, size=10))\n",
        "ser.to_list()"
      ],
      "execution_count": 34,
      "outputs": [
        {
          "output_type": "execute_result",
          "data": {
            "text/plain": [
              "[7, 7, 4, 9, 3, 6, 5, 2, 8, 6]"
            ]
          },
          "metadata": {
            "tags": []
          },
          "execution_count": 34
        }
      ]
    },
    {
      "cell_type": "markdown",
      "metadata": {
        "id": "o2yzeMwSa1NR"
      },
      "source": [
        "# 16. Null values"
      ]
    },
    {
      "cell_type": "code",
      "metadata": {
        "colab": {
          "base_uri": "https://localhost:8080/"
        },
        "id": "AxTSsWx3a0P0",
        "outputId": "2bacd2d4-7743-4f2d-fef8-1dc61d68323a"
      },
      "source": [
        "ser = pd.Series([1, 2, 3, np.nan, np.nan])\n",
        "ser.count()"
      ],
      "execution_count": 35,
      "outputs": [
        {
          "output_type": "execute_result",
          "data": {
            "text/plain": [
              "3"
            ]
          },
          "metadata": {
            "tags": []
          },
          "execution_count": 35
        }
      ]
    },
    {
      "cell_type": "markdown",
      "metadata": {
        "id": "hIWbkzwBa5Ck"
      },
      "source": [
        "# 17. Null values — 2"
      ]
    },
    {
      "cell_type": "code",
      "metadata": {
        "colab": {
          "base_uri": "https://localhost:8080/"
        },
        "id": "Aca2v02ra3h7",
        "outputId": "c8a88000-8aad-455e-eec4-37b4cce9f547"
      },
      "source": [
        "ser = pd.Series([1, 2, 3, np.nan, np.nan])\n",
        "ser.isna()"
      ],
      "execution_count": 36,
      "outputs": [
        {
          "output_type": "execute_result",
          "data": {
            "text/plain": [
              "0    False\n",
              "1    False\n",
              "2    False\n",
              "3     True\n",
              "4     True\n",
              "dtype: bool"
            ]
          },
          "metadata": {
            "tags": []
          },
          "execution_count": 36
        }
      ]
    },
    {
      "cell_type": "code",
      "metadata": {
        "colab": {
          "base_uri": "https://localhost:8080/"
        },
        "id": "Xb8dCOnWa7ov",
        "outputId": "937f925b-396a-4432-9d8f-de3a6eb68e9a"
      },
      "source": [
        "ser.isna().sum()"
      ],
      "execution_count": 37,
      "outputs": [
        {
          "output_type": "execute_result",
          "data": {
            "text/plain": [
              "2"
            ]
          },
          "metadata": {
            "tags": []
          },
          "execution_count": 37
        }
      ]
    },
    {
      "cell_type": "markdown",
      "metadata": {
        "id": "hNZ6hGVvbF4x"
      },
      "source": [
        "# 18. Rounding up floating point numbers"
      ]
    },
    {
      "cell_type": "code",
      "metadata": {
        "colab": {
          "base_uri": "https://localhost:8080/"
        },
        "id": "qa12oCy3bEep",
        "outputId": "c5d5b7f0-8ce8-47cb-db2a-2d0f13174e4f"
      },
      "source": [
        "ser"
      ],
      "execution_count": 38,
      "outputs": [
        {
          "output_type": "execute_result",
          "data": {
            "text/plain": [
              "0    1.0\n",
              "1    2.0\n",
              "2    3.0\n",
              "3    NaN\n",
              "4    NaN\n",
              "dtype: float64"
            ]
          },
          "metadata": {
            "tags": []
          },
          "execution_count": 38
        }
      ]
    },
    {
      "cell_type": "code",
      "metadata": {
        "colab": {
          "base_uri": "https://localhost:8080/"
        },
        "id": "NfhOaohObIEV",
        "outputId": "7214c71e-c0b2-4c7c-f727-c43a8368912c"
      },
      "source": [
        "ser.round(2)"
      ],
      "execution_count": 39,
      "outputs": [
        {
          "output_type": "execute_result",
          "data": {
            "text/plain": [
              "0    1.0\n",
              "1    2.0\n",
              "2    3.0\n",
              "3    NaN\n",
              "4    NaN\n",
              "dtype: float64"
            ]
          },
          "metadata": {
            "tags": []
          },
          "execution_count": 39
        }
      ]
    },
    {
      "cell_type": "markdown",
      "metadata": {
        "id": "ftmZ0U_6bLjq"
      },
      "source": [
        "# 19. Logical operators"
      ]
    },
    {
      "cell_type": "code",
      "metadata": {
        "colab": {
          "base_uri": "https://localhost:8080/"
        },
        "id": "VPkCvOzXbJ81",
        "outputId": "ad498f06-3998-49e1-c6be-6d720ee0c625"
      },
      "source": [
        "ser = pd.Series([1, 2, 3, 4])\n",
        "ser.eq(3)"
      ],
      "execution_count": 40,
      "outputs": [
        {
          "output_type": "execute_result",
          "data": {
            "text/plain": [
              "0    False\n",
              "1    False\n",
              "2     True\n",
              "3    False\n",
              "dtype: bool"
            ]
          },
          "metadata": {
            "tags": []
          },
          "execution_count": 40
        }
      ]
    },
    {
      "cell_type": "code",
      "metadata": {
        "colab": {
          "base_uri": "https://localhost:8080/"
        },
        "id": "30JpkQtwbOzV",
        "outputId": "36d8954f-5eae-4c59-d6ef-97439903d48e"
      },
      "source": [
        "ser.gt(2)"
      ],
      "execution_count": 41,
      "outputs": [
        {
          "output_type": "execute_result",
          "data": {
            "text/plain": [
              "0    False\n",
              "1    False\n",
              "2     True\n",
              "3     True\n",
              "dtype: bool"
            ]
          },
          "metadata": {
            "tags": []
          },
          "execution_count": 41
        }
      ]
    },
    {
      "cell_type": "markdown",
      "metadata": {
        "id": "xR5-q-SjbROj"
      },
      "source": [
        "# 20. Data aggregations"
      ]
    },
    {
      "cell_type": "code",
      "metadata": {
        "colab": {
          "base_uri": "https://localhost:8080/"
        },
        "id": "LuxIPvJEbO87",
        "outputId": "e9fb6893-b10f-4a54-c17c-19b2fc9b5635"
      },
      "source": [
        "ser = pd.Series([1, 2, 3, 4, 10])\n",
        "ser.mean()"
      ],
      "execution_count": 42,
      "outputs": [
        {
          "output_type": "execute_result",
          "data": {
            "text/plain": [
              "4.0"
            ]
          },
          "metadata": {
            "tags": []
          },
          "execution_count": 42
        }
      ]
    },
    {
      "cell_type": "code",
      "metadata": {
        "colab": {
          "base_uri": "https://localhost:8080/"
        },
        "id": "KE9TYBAGbTHm",
        "outputId": "24897c20-5a00-4ad5-b837-ced3fa51fb15"
      },
      "source": [
        "ser.agg(['mean','median','sum', 'count'])"
      ],
      "execution_count": 43,
      "outputs": [
        {
          "output_type": "execute_result",
          "data": {
            "text/plain": [
              "mean       4.0\n",
              "median     3.0\n",
              "sum       20.0\n",
              "count      5.0\n",
              "dtype: float64"
            ]
          },
          "metadata": {
            "tags": []
          },
          "execution_count": 43
        }
      ]
    }
  ]
}