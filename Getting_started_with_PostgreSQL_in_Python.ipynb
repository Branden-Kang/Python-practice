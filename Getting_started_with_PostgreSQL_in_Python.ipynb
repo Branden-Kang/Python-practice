{
  "nbformat": 4,
  "nbformat_minor": 0,
  "metadata": {
    "colab": {
      "name": "Getting started with PostgreSQL in Python.ipynb",
      "provenance": [],
      "authorship_tag": "ABX9TyMDfTJMlUvcBYeqj+x7OL8P"
    },
    "kernelspec": {
      "name": "python3",
      "display_name": "Python 3"
    },
    "language_info": {
      "name": "python"
    }
  },
  "cells": [
    {
      "cell_type": "markdown",
      "source": [
        "[Reference](https://towardsdev.com/getting-started-with-postgresql-in-python-e6ff10649ed6)"
      ],
      "metadata": {
        "id": "b77vEr168V36"
      }
    },
    {
      "cell_type": "code",
      "execution_count": 1,
      "metadata": {
        "colab": {
          "base_uri": "https://localhost:8080/"
        },
        "id": "8zRec65w7-C-",
        "outputId": "8b1a3aef-b973-4990-a60d-da6e44ccf2e7"
      },
      "outputs": [
        {
          "output_type": "stream",
          "name": "stdout",
          "text": [
            "Requirement already satisfied: psycopg2 in /usr/local/lib/python3.7/dist-packages (2.7.6.1)\n"
          ]
        }
      ],
      "source": [
        "pip install psycopg2"
      ]
    },
    {
      "cell_type": "code",
      "source": [
        "# config.py\n",
        "# # PGConnString=\"dbname='postgres' user='postgres' host='localhost' password=<your password here>\""
      ],
      "metadata": {
        "id": "sEzCX42n8Ymd"
      },
      "execution_count": 2,
      "outputs": []
    },
    {
      "cell_type": "code",
      "source": [
        "# #postgres_demo.py\n",
        "# import psycopg2\n",
        "# import config\n",
        "# try:\n",
        "#    conn = psycopg2.connect(config.PGConnString)\n",
        "# except:\n",
        "#    print (\"Can't connect to database\")"
      ],
      "metadata": {
        "id": "737YlTHy8b8R"
      },
      "execution_count": 3,
      "outputs": []
    },
    {
      "cell_type": "code",
      "source": [
        "import psycopg2\n",
        "import config\n",
        "\n",
        "try:\n",
        "    conn = psycopg2.connect(config.PGConnString)\n",
        "except:\n",
        "    print (\"Unable to connect to the database\")\n",
        "\n",
        "queries = (\"\"\"DROP TABLE IF EXISTS students\"\"\",\n",
        "\"\"\"CREATE TABLE students (\n",
        "            student_id SERIAL PRIMARY KEY,\n",
        "            student_name VARCHAR(255) NOT NULL\n",
        "            )\n",
        "            \"\"\",\n",
        "\"\"\"INSERT INTO students\n",
        "    VALUES (123, 'Alice'), (456, 'Bob'), (789, 'Carl')\n",
        "    \"\"\",\n",
        "\"\"\"SELECT * FROM students\"\"\")\n",
        "\n",
        "cursor = conn.cursor()\n",
        "for query in queries:\n",
        "    cursor.execute(query)\n",
        "result = cursor.fetchall()\n",
        "cursor.close()\n",
        "conn.commit()\n",
        "print(result)\n",
        "\n",
        "\n",
        "#JSON exercise\n",
        "import json\n",
        "from psycopg2.extras import RealDictCursor\n",
        "\n",
        "query = \"\"\"SELECT * FROM students\"\"\"\n",
        "cursor = conn.cursor(cursor_factory=RealDictCursor)\n",
        "cursor.execute(query)\n",
        "print(json.dumps(cursor.fetchall()))\n",
        "\n",
        "\n",
        "#Pandas exercise\n",
        "import pandas as pd\n",
        "\n",
        "sql = \"select * from students;\"\n",
        "df = pd.read_sql_query(sql, conn)\n",
        "print(df)"
      ],
      "metadata": {
        "id": "Qgfbshrw8eli"
      },
      "execution_count": 4,
      "outputs": []
    }
  ]
}