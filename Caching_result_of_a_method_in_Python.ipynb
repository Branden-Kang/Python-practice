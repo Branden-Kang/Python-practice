{
  "nbformat": 4,
  "nbformat_minor": 0,
  "metadata": {
    "colab": {
      "name": "Caching result of a method in Python.ipynb",
      "provenance": [],
      "authorship_tag": "ABX9TyPgIJ2Q19IDSm/fiyqWp5EH"
    },
    "kernelspec": {
      "name": "python3",
      "display_name": "Python 3"
    },
    "language_info": {
      "name": "python"
    }
  },
  "cells": [
    {
      "cell_type": "markdown",
      "metadata": {
        "id": "2H6GhjwSLA2E"
      },
      "source": [
        "[Reference](https://akanuragkumar712.medium.com/caching-result-of-the-method-in-python-c6252b02dd23)"
      ]
    },
    {
      "cell_type": "code",
      "metadata": {
        "id": "yXyBhNbrK9h8"
      },
      "source": [
        "def get_obj():\n",
        "    model_obj = model()         # Some large database query\n",
        "    return model_obj\n",
        "\n",
        "def get_obj_value(self):\n",
        "    obj = self.get_obj()\n",
        "    return obj\n",
        "\n",
        "def get_obj_value_dup(self):\n",
        "    obj = self.get_obj()\n",
        "    return obj"
      ],
      "execution_count": 1,
      "outputs": []
    },
    {
      "cell_type": "code",
      "metadata": {
        "id": "73AZTkmMK--X"
      },
      "source": [
        "def memoize(function):\n",
        "    memo = {}\n",
        "\n",
        "    def wrapper(*args):\n",
        "        if args in memo:\n",
        "            return memo[args]\n",
        "        else:\n",
        "            rv = function(*args)\n",
        "            memo[args] = rv\n",
        "            return rv\n",
        "\n",
        "    return wrapper\n",
        "\n",
        "@memoize\n",
        "def get_obj():\n",
        "    model_obj = model()\n",
        "    return model_obj\n",
        "\n",
        "def get_obj_value(self):\n",
        "    obj = self.get_obj()\n",
        "    return obj\n",
        "    \n",
        "def get_obj_value_dup(self):\n",
        "    obj = self.get_obj()\n",
        "    return obj"
      ],
      "execution_count": 3,
      "outputs": []
    },
    {
      "cell_type": "code",
      "metadata": {
        "colab": {
          "base_uri": "https://localhost:8080/",
          "height": 453
        },
        "id": "lCFkWacdLEnN",
        "outputId": "1bf2a7a8-590b-433b-ec85-a9b2b4fe5bbf"
      },
      "source": [
        "from functools import cached_property\n",
        "\n",
        "@cached_property\n",
        "def get_obj():\n",
        "    model_obj = model()\n",
        "    return model_obj"
      ],
      "execution_count": 4,
      "outputs": [
        {
          "output_type": "error",
          "ename": "ImportError",
          "evalue": "ignored",
          "traceback": [
            "\u001b[0;31m---------------------------------------------------------------------------\u001b[0m",
            "\u001b[0;31mImportError\u001b[0m                               Traceback (most recent call last)",
            "\u001b[0;32m<ipython-input-4-d24bd6d1ed1f>\u001b[0m in \u001b[0;36m<module>\u001b[0;34m()\u001b[0m\n\u001b[0;32m----> 1\u001b[0;31m \u001b[0;32mfrom\u001b[0m \u001b[0mfunctools\u001b[0m \u001b[0;32mimport\u001b[0m \u001b[0mcached_property\u001b[0m\u001b[0;34m\u001b[0m\u001b[0;34m\u001b[0m\u001b[0m\n\u001b[0m\u001b[1;32m      2\u001b[0m \u001b[0;34m\u001b[0m\u001b[0m\n\u001b[1;32m      3\u001b[0m \u001b[0;34m@\u001b[0m\u001b[0mcached_property\u001b[0m\u001b[0;34m\u001b[0m\u001b[0;34m\u001b[0m\u001b[0m\n\u001b[1;32m      4\u001b[0m \u001b[0;32mdef\u001b[0m \u001b[0mget_obj\u001b[0m\u001b[0;34m(\u001b[0m\u001b[0;34m)\u001b[0m\u001b[0;34m:\u001b[0m\u001b[0;34m\u001b[0m\u001b[0;34m\u001b[0m\u001b[0m\n\u001b[1;32m      5\u001b[0m     \u001b[0mmodel_obj\u001b[0m \u001b[0;34m=\u001b[0m \u001b[0mmodel\u001b[0m\u001b[0;34m(\u001b[0m\u001b[0;34m)\u001b[0m\u001b[0;34m\u001b[0m\u001b[0;34m\u001b[0m\u001b[0m\n",
            "\u001b[0;31mImportError\u001b[0m: cannot import name 'cached_property' from 'functools' (/usr/lib/python3.7/functools.py)",
            "",
            "\u001b[0;31m---------------------------------------------------------------------------\u001b[0;32m\nNOTE: If your import is failing due to a missing package, you can\nmanually install dependencies using either !pip or !apt.\n\nTo view examples of installing some common dependencies, click the\n\"Open Examples\" button below.\n\u001b[0;31m---------------------------------------------------------------------------\u001b[0m\n"
          ]
        }
      ]
    }
  ]
}