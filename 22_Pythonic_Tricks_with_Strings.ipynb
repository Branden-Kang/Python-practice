{
  "nbformat": 4,
  "nbformat_minor": 0,
  "metadata": {
    "colab": {
      "name": "22 Pythonic Tricks with Strings",
      "provenance": [],
      "authorship_tag": "ABX9TyNkbltG2xdD9zyiV2+kXhRr"
    },
    "kernelspec": {
      "name": "python3",
      "display_name": "Python 3"
    }
  },
  "cells": [
    {
      "cell_type": "markdown",
      "metadata": {
        "id": "q21k55CafM8A"
      },
      "source": [
        "[Reference](https://medium.com/python-in-plain-english/22-pythonic-tricks-for-working-with-strings-8b893776743c)"
      ]
    },
    {
      "cell_type": "markdown",
      "metadata": {
        "id": "5xgEyfEihI3E"
      },
      "source": [
        "# 0. Is a Substring in a String?"
      ]
    },
    {
      "cell_type": "code",
      "metadata": {
        "id": "sFFxJHh5fLF9"
      },
      "source": [
        "def sub_00(haystack: str=\"\", needle:str=\"\") -> bool:\n",
        "    return needle in haystack\n",
        "\n",
        "assert sub_00(\"the quick brown fox jumped over the lazy dog\", \"lazy\") == True\n",
        "assert sub_00(\"the quick brown fox jumped over the lazy dog\", \"lazys\") == False"
      ],
      "execution_count": 1,
      "outputs": []
    },
    {
      "cell_type": "markdown",
      "metadata": {
        "id": "4yHrej1UhM-L"
      },
      "source": [
        "# 1. Reverse a String"
      ]
    },
    {
      "cell_type": "code",
      "metadata": {
        "id": "e4Fo6oPZhKNU"
      },
      "source": [
        "def string_reverse(forward: str = \"\") -> str:\n",
        "    return forward[::-1]\n",
        "\n",
        "assert string_reverse(\"hello\") == \"olleh\"\n",
        "assert string_reverse(\"goodbye\") != \"goodbye\""
      ],
      "execution_count": 2,
      "outputs": []
    },
    {
      "cell_type": "markdown",
      "metadata": {
        "id": "TNlkstYXhO__"
      },
      "source": [
        "# 2. Compare Two Strings for Equality"
      ]
    },
    {
      "cell_type": "code",
      "metadata": {
        "id": "IyK84ROEhOM-"
      },
      "source": [
        "def are_equal(first_comparator: str = \"\", second_comparator: str = \"\") -> bool:\n",
        "    return first_comparator == second_comparator\n",
        "\n",
        "\n",
        "assert are_equal(\"thing one\", \"thing two\") is False\n",
        "assert are_equal(\"a thing\", \"a \" + \"thing\") is True"
      ],
      "execution_count": 3,
      "outputs": []
    },
    {
      "cell_type": "markdown",
      "metadata": {
        "id": "5gn4ilK-hSR2"
      },
      "source": [
        "# 3. Lowercase, Uppercase, Sentence Case and Title Case of a String"
      ]
    },
    {
      "cell_type": "code",
      "metadata": {
        "id": "SEmv3fQchRq0"
      },
      "source": [
        "def to_uppercase(input_string:str) -> str:\n",
        "    return input_string.upper()\n",
        "\n",
        "def to_lowercase(input_string:str) -> str:\n",
        "    return input_string.lower()\n",
        "\n",
        "def to_sentencecase(input_string:str) -> str:\n",
        "    return input_string.capitalize()\n",
        "\n",
        "def to_titlecase(input_string:str) -> str:\n",
        "    return input_string.title()\n",
        "\n",
        "def to_swapcase(input_string:str) -> str:\n",
        "    return input_string.swapcase()\n",
        "\n",
        "assert to_uppercase(\"the end of time\") == \"THE END OF TIME\"\n",
        "assert to_lowercase(\"The End Of Time\") == \"the end of time\"\n",
        "assert to_sentencecase(\"The End of Time\") == \"The end of time\"\n",
        "assert to_titlecase(\"the end of time\") == \"The End Of Time\"\n",
        "assert to_swapcase(\"The End Of Time\") == \"tHE eND oF tIME\""
      ],
      "execution_count": 4,
      "outputs": []
    },
    {
      "cell_type": "markdown",
      "metadata": {
        "id": "BLifaFYihXEi"
      },
      "source": [
        "# 4. Concatenate Strings Efficiently"
      ]
    },
    {
      "cell_type": "code",
      "metadata": {
        "id": "SNZvpRXohWQU"
      },
      "source": [
        "def concatenate(*argv)->str:\n",
        "    return ''.join(argv)\n",
        "\n",
        "\n",
        "assert concatenate(\"a\", \"b\", \"c\") == \"abc\""
      ],
      "execution_count": 5,
      "outputs": []
    },
    {
      "cell_type": "markdown",
      "metadata": {
        "id": "4GKh9TbhhbmW"
      },
      "source": [
        "# 5. Is the String Empty or None?"
      ]
    },
    {
      "cell_type": "code",
      "metadata": {
        "id": "i1lrmSU-hY7p"
      },
      "source": [
        "def is_null_or_blank(input_string: str = \"\") -> bool:\n",
        "\n",
        "    if input_string: \n",
        "        if input_string.strip():\n",
        "            return False\n",
        "    return True\n",
        "\n",
        "\n",
        "assert is_null_or_blank(None) == True\n",
        "assert is_null_or_blank(\"\") == True\n",
        "assert is_null_or_blank(\"  \") == True\n",
        "assert is_null_or_blank(\" d \") == False"
      ],
      "execution_count": 6,
      "outputs": []
    },
    {
      "cell_type": "markdown",
      "metadata": {
        "id": "exXYDCyihhLZ"
      },
      "source": [
        "# 6. Trim Leading and Trailing Whitespace"
      ]
    },
    {
      "cell_type": "code",
      "metadata": {
        "id": "Nw-Hr4d_he2Z"
      },
      "source": [
        "def strip_it(input_string: str) -> tuple:\n",
        "\n",
        "    return (input_string.lstrip(), input_string.rstrip(), input_string.strip())\n",
        "\n",
        "\n",
        "left, right, full = strip_it(\"  A padded  string   \")\n",
        "assert left == \"A padded  string   \"\n",
        "assert right == \"  A padded  string\"\n",
        "assert full == \"A padded  string\""
      ],
      "execution_count": 7,
      "outputs": []
    },
    {
      "cell_type": "markdown",
      "metadata": {
        "id": "LpoDWnghhz7S"
      },
      "source": [
        "# 7. Generate a String of Random Characters"
      ]
    },
    {
      "cell_type": "code",
      "metadata": {
        "id": "7vRuMNX2hzKe"
      },
      "source": [
        "import string\n",
        "import secrets\n",
        "\n",
        "def generate_random_string(length: int = 0) -> str:\n",
        "    result = \"\".join(\n",
        "        secrets.choice(string.ascii_letters + string.digits)\n",
        "        for _ in range(length))\n",
        "    return result\n",
        "\n",
        "\n",
        "assert len(generate_random_string(20)) == 20"
      ],
      "execution_count": 8,
      "outputs": []
    },
    {
      "cell_type": "markdown",
      "metadata": {
        "id": "BjZ0gbEQh5JM"
      },
      "source": [
        "# 8. Read the Lines in a File to a List"
      ]
    },
    {
      "cell_type": "code",
      "metadata": {
        "id": "TVd4Sjqih2Da"
      },
      "source": [
        "def file_to_list(filename: str = \"\") -> list:\n",
        "\n",
        "    with open(filename, \"r\") as f:\n",
        "        lines = list(f)\n",
        "\n",
        "    return lines\n",
        "\n",
        "\n",
        "assert len(file_to_list(\"<PATH TO FILE>\")) == LINE_COUNT"
      ],
      "execution_count": 10,
      "outputs": []
    },
    {
      "cell_type": "markdown",
      "metadata": {
        "id": "laryW3uQh9dN"
      },
      "source": [
        "# 9. Tokenize a Sentence Fully"
      ]
    },
    {
      "cell_type": "code",
      "metadata": {
        "id": "hkXLapHwh69-"
      },
      "source": [
        "import nltk\n",
        "\n",
        "\n",
        "def tokenize_text(input_str: str = \"\") -> list:\n",
        "    return nltk.wordpunct_tokenize(input_str)\n",
        "\n",
        "\n",
        "assert tokenize_text(\"Good muffins cost $3.88\\nin New York.\") == [\n",
        "    \"Good\",\n",
        "    \"muffins\",\n",
        "    \"cost\",\n",
        "    \"$\",\n",
        "    \"3\",\n",
        "    \".\",\n",
        "    \"88\",\n",
        "    \"in\",\n",
        "    \"New\",\n",
        "    \"York\",\n",
        "    \".\",\n",
        "]"
      ],
      "execution_count": 11,
      "outputs": []
    },
    {
      "cell_type": "markdown",
      "metadata": {
        "id": "r9L-JKmRiBr3"
      },
      "source": [
        "# 10. Execute Python Code Found Inside a String"
      ]
    },
    {
      "cell_type": "code",
      "metadata": {
        "id": "LsTys8KviAx0"
      },
      "source": [
        "import subprocess\n",
        "import ast\n",
        "\n",
        "def exec_string(input_string: str = \"\") -> str:\n",
        "    result = subprocess.getoutput(input_string)\n",
        "    return result\n",
        "\n",
        "def eval_string(input_string: str = \"\") -> str:\n",
        "    result = ast.literal_eval(input_string)\n",
        "    return str(result)\n",
        "\n",
        "assert exec_string(\"ls -l\")\n",
        "assert eval_string(\"{ 'key':'value' }\") == \"{'key': 'value'}\""
      ],
      "execution_count": 12,
      "outputs": []
    },
    {
      "cell_type": "markdown",
      "metadata": {
        "id": "eQ1cOCqOiy0S"
      },
      "source": [
        "# 11. Find the Substring Between Two Markers"
      ]
    },
    {
      "cell_type": "code",
      "metadata": {
        "id": "573WEcBdiE7Q"
      },
      "source": [
        "import re\n",
        "\n",
        "def between(first: str = \"\", second: str = \"\", input_string=\"\") -> str:\n",
        "    \n",
        "    m = re.search(f\"{first}(.+?){second}\", input_string)\n",
        "    if m:\n",
        "        return m.group(1)\n",
        "\n",
        "    else:\n",
        "        return \"\"\n",
        "\n",
        "assert between(input_string=\"adCCCTHETEXTZZZdfhewihu\",\n",
        "               first=\"CCC\",\n",
        "               second=\"ZZZ\") == \"THETEXT\""
      ],
      "execution_count": 13,
      "outputs": []
    },
    {
      "cell_type": "markdown",
      "metadata": {
        "id": "OpdD9rznjIzG"
      },
      "source": [
        "# 12. Remove all Punctuation from a String"
      ]
    },
    {
      "cell_type": "code",
      "metadata": {
        "id": "PXINH_dhi1Dr"
      },
      "source": [
        "import string\n",
        "\n",
        "def remove_punctuation(input_string: str = \"\") -> str:\n",
        "    return input_string.translate(str.maketrans(\"\", \"\", string.punctuation))\n",
        "\n",
        "assert remove_punctuation(\"Hello!\") == \"Hello\"\n",
        "assert remove_punctuation(\"He. Saw! Me?\") == \"He Saw Me\""
      ],
      "execution_count": 14,
      "outputs": []
    },
    {
      "cell_type": "markdown",
      "metadata": {
        "id": "hly9j6scjcRs"
      },
      "source": [
        "# 13. Encode and Decode UTF-8 URLs"
      ]
    },
    {
      "cell_type": "code",
      "metadata": {
        "id": "zTOINPQIjacK"
      },
      "source": [
        "import urllib.parse\n",
        "\n",
        "def encode_url(url: str = \"\") -> str:\n",
        "    return urllib.parse.quote(url)\n",
        "\n",
        "def decode_url(url: str = \"\") -> str:\n",
        "    return urllib.parse.unquote(url)\n",
        "\n",
        "assert (encode_url(\"example.com?title=¨ˆπœ˚∑π\") ==\n",
        "        \"example.com%3Ftitle%3D%C2%A8%CB%86%CF%80%C5%93%CB%9A%E2%88%91%CF%80\")\n",
        "assert decode_url(\"example.com?title=%a0%f7%b1\") == \"example.com?title=���\""
      ],
      "execution_count": 15,
      "outputs": []
    },
    {
      "cell_type": "markdown",
      "metadata": {
        "id": "cF1qK1JXjgv6"
      },
      "source": [
        "# 14. Use Base64 Encoding on Strings"
      ]
    },
    {
      "cell_type": "code",
      "metadata": {
        "id": "96IGTzbOjewA"
      },
      "source": [
        "import base64\n",
        "\n",
        "def encode_b64(input_string: str = \"\") -> object:\n",
        "    return base64.b64encode(input_string.encode(\"utf-8\"))\n",
        "\n",
        "def decode_b64(input_string: str = \"\") -> object:\n",
        "    return base64.b64decode(input_string).decode(\"utf-8\")\n",
        "\n",
        "assert encode_b64(\"Hello\") == b\"SGVsbG8=\"\n",
        "assert decode_b64(b\"SGVsbG8=\") == \"Hello\""
      ],
      "execution_count": 16,
      "outputs": []
    },
    {
      "cell_type": "markdown",
      "metadata": {
        "id": "F0glutvPjzQ9"
      },
      "source": [
        "# 15. Calculate the Similarity of Two Strings"
      ]
    },
    {
      "cell_type": "code",
      "metadata": {
        "id": "DL5ucoDvji2E"
      },
      "source": [
        "import difflib\n",
        "\n",
        "def similarity(left: str = \"\", right: str = \"\") -> float:\n",
        "    seq = difflib.SequenceMatcher(None, left, right)\n",
        "    return seq.ratio()\n",
        "\n",
        "assert similarity(\"I like bananas\", \"I like bananarama\") >= 0.80\n",
        "assert similarity(\"I like bananas\", \"The quick brown fox\") <= 0.25"
      ],
      "execution_count": 17,
      "outputs": []
    },
    {
      "cell_type": "markdown",
      "metadata": {
        "id": "p6pUYvTrj49T"
      },
      "source": [
        "# 16. Remove a Character at a Specific Index"
      ]
    },
    {
      "cell_type": "code",
      "metadata": {
        "id": "cDLkJebLj3g_"
      },
      "source": [
        "def remove_by_index(original: str = \"\", index: int = -1) -> tuple:\n",
        "    if len(original) >= index and index >= 0:\n",
        "        return (original[:index] + original[index + 1:], original[index])\n",
        "    else:\n",
        "        return (original, \"\")\n",
        "\n",
        "assert remove_by_index(\"0123456789\", 5) == (\"012346789\", \"5\")"
      ],
      "execution_count": 18,
      "outputs": []
    },
    {
      "cell_type": "markdown",
      "metadata": {
        "id": "liM85SNPj_SI"
      },
      "source": [
        "# 17. Convert Between CSV and List"
      ]
    },
    {
      "cell_type": "code",
      "metadata": {
        "id": "vn6no9oXj7OT"
      },
      "source": [
        "def from_csv_line(line: str = \"\") -> list:\n",
        "    return line.split(\",\")\n",
        "\n",
        "assert from_csv_line(\"a,b,c\") == [\"a\", \"b\", \"c\"]"
      ],
      "execution_count": 19,
      "outputs": []
    },
    {
      "cell_type": "code",
      "metadata": {
        "id": "Cf6VXKGFkC_9"
      },
      "source": [
        "def from_list(line: list = []) -> str:\n",
        "    ret = \", \".join(e for e in line)\n",
        "    return ret\n",
        "\n",
        "assert from_list([\"a\", \"b\", \"c\"]) == \"a, b, c\"\n",
        "assert from_list([\"one\", \"two\", \"three\"]) == \"one, two, three\""
      ],
      "execution_count": 20,
      "outputs": []
    },
    {
      "cell_type": "markdown",
      "metadata": {
        "id": "6LDYy9MvkRSs"
      },
      "source": [
        "# 18. Weave Two Strings"
      ]
    },
    {
      "cell_type": "code",
      "metadata": {
        "id": "YmwH7VWjkFmA"
      },
      "source": [
        "import itertools\n",
        "\n",
        "def interleave(left: str = \"\", right: str = \"\") -> str:\n",
        "    return \"\".join(\n",
        "        [i + j for i, j in itertools.zip_longest(left, right, fillvalue=\"\")])\n",
        "\n",
        "assert interleave(\"ABCD\", \"01\") == \"A0B1CD\""
      ],
      "execution_count": 21,
      "outputs": []
    },
    {
      "cell_type": "markdown",
      "metadata": {
        "id": "ashUJzRkkaWX"
      },
      "source": [
        "# 19. Remove Unwanted Characters from a String"
      ]
    },
    {
      "cell_type": "code",
      "metadata": {
        "id": "akwc9ySEkWG4"
      },
      "source": [
        "def remove_unwanted(original: str = \"\",\n",
        "                    unwanted: str = \"\",\n",
        "                    replacement: str = \"\") -> str:\n",
        "                    \n",
        "    return original.replace(unwanted, replacement)\n",
        "\n",
        "assert remove_unwanted(original=\"M'The Real String'\",\n",
        "                       unwanted=\"M\") == \"'The Real String'\""
      ],
      "execution_count": 22,
      "outputs": []
    },
    {
      "cell_type": "markdown",
      "metadata": {
        "id": "3G61tJgDkgAF"
      },
      "source": [
        "# 20. Find the Index Locations of a Character in a String"
      ]
    },
    {
      "cell_type": "code",
      "metadata": {
        "id": "IHRbKZ7akeqy"
      },
      "source": [
        "def find_char_locations(original: str = \"\", character: str = \"\") -> list:\n",
        "    return [index for index, char in enumerate(original) if char == character]\n",
        "\n",
        "assert find_char_locations(\"The jolly green giant.\", \"e\") == [2, 12, 13]"
      ],
      "execution_count": 23,
      "outputs": []
    },
    {
      "cell_type": "markdown",
      "metadata": {
        "id": "bFkATXFlkku3"
      },
      "source": [
        "# 21. Translate a String to Leetspeak"
      ]
    },
    {
      "cell_type": "code",
      "metadata": {
        "id": "FFfzPHfZkjiT"
      },
      "source": [
        "def to_leetspeak(normal_speak:str=\"\") -> str:\n",
        "    leet_mapping = str.maketrans(\"iseoau\", \"1530^Ü\")\n",
        "    return normal_speak.translate(leet_mapping).title().swapcase()\n",
        "\n",
        "assert to_leetspeak(\"the quick brown fox jumped over the lazy dogs\") == \\\n",
        "    \"tH3 qÜ1cK bR0wN f0x jÜMP3d 0v3r tH3 l^zY d0g5\""
      ],
      "execution_count": 24,
      "outputs": []
    }
  ]
}