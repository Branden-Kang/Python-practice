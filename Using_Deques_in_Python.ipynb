{
  "nbformat": 4,
  "nbformat_minor": 0,
  "metadata": {
    "colab": {
      "name": "Using Deques in Python.ipynb",
      "provenance": [],
      "authorship_tag": "ABX9TyOndxmEUgjgfaNDTraK+q8G"
    },
    "kernelspec": {
      "name": "python3",
      "display_name": "Python 3"
    },
    "language_info": {
      "name": "python"
    }
  },
  "cells": [
    {
      "cell_type": "markdown",
      "metadata": {
        "id": "yA5lRVOZVii_"
      },
      "source": [
        "[Reference](https://betterprogramming.pub/stop-using-python-lists-everywhere-consider-using-deques-instead-74d37441be4e)"
      ]
    },
    {
      "cell_type": "code",
      "metadata": {
        "id": "ylZBUOHKVf96"
      },
      "source": [
        "clients = list()\n",
        "\n",
        "\n",
        "def check_in(client):\n",
        "    clients.append(client)\n",
        "    print(f\"in: New client {client} joined the queue.\")\n",
        "    \n",
        "    \n",
        "def connect_to_associate(associate):\n",
        "    if clients:\n",
        "        client_to_connect = clients.pop(0)\n",
        "        print(f\"out: Remove client {client_to_connect}, connecting to {associate}.\")\n",
        "    else:\n",
        "        print(\"No more clients are waiting.\")"
      ],
      "execution_count": 1,
      "outputs": []
    },
    {
      "cell_type": "code",
      "metadata": {
        "colab": {
          "base_uri": "https://localhost:8080/"
        },
        "id": "8E03c88nVonr",
        "outputId": "27adeb0a-1765-476e-efbb-4d31d3fcfcbd"
      },
      "source": [
        "check_in(\"John\")\n",
        "check_in(\"Sam\")\n",
        "connect_to_associate(\"Emily\")\n",
        "check_in(\"Danny\")\n",
        "connect_to_associate(\"Zoe\")\n",
        "connect_to_associate(\"Jack\")\n",
        "connect_to_associate(\"Aaron\")"
      ],
      "execution_count": 2,
      "outputs": [
        {
          "output_type": "stream",
          "text": [
            "in: New client John joined the queue.\n",
            "in: New client Sam joined the queue.\n",
            "out: Remove client John, connecting to Emily.\n",
            "in: New client Danny joined the queue.\n",
            "out: Remove client Sam, connecting to Zoe.\n",
            "out: Remove client Danny, connecting to Jack.\n",
            "No more clients are waiting.\n"
          ],
          "name": "stdout"
        }
      ]
    },
    {
      "cell_type": "code",
      "metadata": {
        "id": "8tchLbOUVrF4"
      },
      "source": [
        "from collections import deque\n",
        "from timeit import timeit\n",
        "\n",
        "\n",
        "def time_fifo_testing(n):\n",
        "    integer_l = list(range(n))\n",
        "    integer_d = deque(range(n))\n",
        "    t_l = timeit(lambda: integer_l.pop(0), number=n)\n",
        "    t_d = timeit(lambda: integer_d.popleft(), number=n)\n",
        "    return f\"{n: <9} list: {t_l:.6e} | deque: {t_d:.6e}\""
      ],
      "execution_count": 3,
      "outputs": []
    },
    {
      "cell_type": "code",
      "metadata": {
        "colab": {
          "base_uri": "https://localhost:8080/"
        },
        "id": "Pp9hxkiXVu9l",
        "outputId": "da256796-b23d-4771-ef2a-2af5c0f4a8ef"
      },
      "source": [
        "numbers = (100, 1000, 10000, 100000)\n",
        "for number in numbers:\n",
        "    print(time_fifo_testing(number))"
      ],
      "execution_count": 4,
      "outputs": [
        {
          "output_type": "stream",
          "text": [
            "100       list: 2.861200e-05 | deque: 1.549500e-05\n",
            "1000      list: 2.772130e-04 | deque: 1.728670e-04\n",
            "10000     list: 1.508066e-02 | deque: 3.293949e-03\n",
            "100000    list: 9.912980e-01 | deque: 1.537986e-02\n"
          ],
          "name": "stdout"
        }
      ]
    },
    {
      "cell_type": "code",
      "metadata": {
        "id": "w7X3pmSFVwyy"
      },
      "source": [
        "from collections import deque\n",
        "\n",
        "clients = deque()\n",
        "\n",
        "def check_in(client):\n",
        "    clients.append(client)\n",
        "    print(f\"in: New client {client} joined the queue.\")\n",
        "\n",
        "def connect_to_associate(associate):\n",
        "    if clients:\n",
        "        client_to_connect = clients.popleft()\n",
        "        print(f\"out: Remove client {client_to_connect}, connecting to {associate}.\")\n",
        "    else:\n",
        "        print(\"No more clients are waiting.\")"
      ],
      "execution_count": 5,
      "outputs": []
    }
  ]
}