{
  "nbformat": 4,
  "nbformat_minor": 0,
  "metadata": {
    "colab": {
      "name": "Understand Try & Finally in Python.ipynb",
      "provenance": [],
      "collapsed_sections": [],
      "authorship_tag": "ABX9TyP4gH1UVR4mkBOV6zy9lGJu"
    },
    "kernelspec": {
      "name": "python3",
      "display_name": "Python 3"
    },
    "language_info": {
      "name": "python"
    }
  },
  "cells": [
    {
      "cell_type": "markdown",
      "metadata": {
        "id": "c7zd6SSU7c_q"
      },
      "source": [
        "[Reference](https://medium.com/analytics-vidhya/do-you-really-understand-try-finally-in-python-110cee4c1a8)"
      ]
    },
    {
      "cell_type": "code",
      "metadata": {
        "colab": {
          "base_uri": "https://localhost:8080/",
          "height": 71
        },
        "id": "NZeKQ_d7zJrV",
        "outputId": "15737ab2-ca96-4f45-fd2f-8bcef4c65a72"
      },
      "source": [
        "# Both the try & final blocks have print statements and function returns value from final-block\n",
        "def example_1():\n",
        "    try:\n",
        "        val = 1\n",
        "        print(f\"Print: Try Block - {val}\")\n",
        "    finally:\n",
        "        val = val + 1\n",
        "        print(f\"Print: Finally Block - {val}\")\n",
        "        return f\"Return: Finally Block - {val}\"\n",
        "    \n",
        "example_1()"
      ],
      "execution_count": null,
      "outputs": [
        {
          "output_type": "stream",
          "text": [
            "Print: Try Block - 1\n",
            "Print: Finally Block - 2\n"
          ],
          "name": "stdout"
        },
        {
          "output_type": "execute_result",
          "data": {
            "application/vnd.google.colaboratory.intrinsic+json": {
              "type": "string"
            },
            "text/plain": [
              "'Return: Finally Block - 2'"
            ]
          },
          "metadata": {},
          "execution_count": 1
        }
      ]
    },
    {
      "cell_type": "code",
      "metadata": {
        "colab": {
          "base_uri": "https://localhost:8080/",
          "height": 71
        },
        "id": "Tn4DHGc_7hcr",
        "outputId": "be9a27b4-b227-4bf6-c6ea-36d76318c8f8"
      },
      "source": [
        "# The try block has return statement & final block has only print statement\n",
        "def example_2():\n",
        "    try:\n",
        "        val = 1\n",
        "        print(f\"Print: Try Block - {val}\")\n",
        "        return f\"Return: Try Block - {val}\"\n",
        "    finally:\n",
        "        val = val + 1\n",
        "        print(f\"Print: Finally Block - {val}\")\n",
        "        \n",
        "example_2()"
      ],
      "execution_count": null,
      "outputs": [
        {
          "output_type": "stream",
          "text": [
            "Print: Try Block - 1\n",
            "Print: Finally Block - 2\n"
          ],
          "name": "stdout"
        },
        {
          "output_type": "execute_result",
          "data": {
            "application/vnd.google.colaboratory.intrinsic+json": {
              "type": "string"
            },
            "text/plain": [
              "'Return: Try Block - 1'"
            ]
          },
          "metadata": {},
          "execution_count": 2
        }
      ]
    },
    {
      "cell_type": "code",
      "metadata": {
        "colab": {
          "base_uri": "https://localhost:8080/",
          "height": 71
        },
        "id": "lXzuMS4d7kEp",
        "outputId": "94ecec1f-8431-4c23-e8cd-166385c39aa2"
      },
      "source": [
        "# Both the try & final blocks have return statements\n",
        "def example_3():\n",
        "    try:\n",
        "        val = 1\n",
        "        print(f\"Print: Try Block - {val}\")\n",
        "        return f\"Return: Try Block - {val}\"\n",
        "    finally:\n",
        "        val = val + 1\n",
        "        print(f\"Print: Finally Block - {val}\")\n",
        "        return f\"Return: Finally Block - {val}\"\n",
        "    \n",
        "example_3()"
      ],
      "execution_count": null,
      "outputs": [
        {
          "output_type": "stream",
          "text": [
            "Print: Try Block - 1\n",
            "Print: Finally Block - 2\n"
          ],
          "name": "stdout"
        },
        {
          "output_type": "execute_result",
          "data": {
            "application/vnd.google.colaboratory.intrinsic+json": {
              "type": "string"
            },
            "text/plain": [
              "'Return: Finally Block - 2'"
            ]
          },
          "metadata": {},
          "execution_count": 3
        }
      ]
    }
  ]
}