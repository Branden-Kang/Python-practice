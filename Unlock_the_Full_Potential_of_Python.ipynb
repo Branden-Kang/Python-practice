{
  "nbformat": 4,
  "nbformat_minor": 0,
  "metadata": {
    "colab": {
      "provenance": [],
      "authorship_tag": "ABX9TyM+KbDyz/wb5Yl+DkHsZf2y"
    },
    "kernelspec": {
      "name": "python3",
      "display_name": "Python 3"
    },
    "language_info": {
      "name": "python"
    }
  },
  "cells": [
    {
      "cell_type": "markdown",
      "source": [
        "[Reference](https://towardsdatascience.com/unlock-the-full-potential-of-python-bc78a980168b)"
      ],
      "metadata": {
        "id": "EK82jDxSTeA6"
      }
    },
    {
      "cell_type": "code",
      "execution_count": 1,
      "metadata": {
        "colab": {
          "base_uri": "https://localhost:8080/"
        },
        "id": "rf990Z-zTcCD",
        "outputId": "0a7c6504-3fa0-4a9c-d340-e5f165ef8fc4"
      },
      "outputs": [
        {
          "output_type": "stream",
          "name": "stdout",
          "text": [
            "0 Tesla\n",
            "1 Apple\n",
            "2 Block\n",
            "3 Palantir\n"
          ]
        }
      ],
      "source": [
        "company_list = [\"Tesla\", \"Apple\", \"Block\", \"Palantir\"]\n",
        "\n",
        "i = 0\n",
        "for company in company_list:\n",
        "    print(i, company)\n",
        "    i+=1"
      ]
    },
    {
      "cell_type": "code",
      "source": [
        "company_list = [\"Tesla\", \"Apple\", \"Block\", \"Palantir\"]\n",
        "\n",
        "for count, company in enumerate(company_list, start=0):\n",
        "    print(count, company)"
      ],
      "metadata": {
        "colab": {
          "base_uri": "https://localhost:8080/"
        },
        "id": "WQV4S8tnT4CH",
        "outputId": "6c0b152a-1b34-4d96-f3ef-13aa0a280a81"
      },
      "execution_count": 2,
      "outputs": [
        {
          "output_type": "stream",
          "name": "stdout",
          "text": [
            "0 Tesla\n",
            "1 Apple\n",
            "2 Block\n",
            "3 Palantir\n"
          ]
        }
      ]
    },
    {
      "cell_type": "code",
      "source": [
        "list_a = [0,1,1]\n",
        "list_b = [2,3,5]\n",
        "\n",
        "zipped = zip(list_a, list_b)\n",
        "list(zipped)"
      ],
      "metadata": {
        "colab": {
          "base_uri": "https://localhost:8080/"
        },
        "id": "auqUcfFcT495",
        "outputId": "165d1e72-c0a7-4d5e-d6b1-14e7b664c383"
      },
      "execution_count": 3,
      "outputs": [
        {
          "output_type": "execute_result",
          "data": {
            "text/plain": [
              "[(0, 2), (1, 3), (1, 5)]"
            ]
          },
          "metadata": {},
          "execution_count": 3
        }
      ]
    },
    {
      "cell_type": "code",
      "source": [
        "list(zip(range(7), range(42)))"
      ],
      "metadata": {
        "colab": {
          "base_uri": "https://localhost:8080/"
        },
        "id": "XraHnqm_T6zU",
        "outputId": "a5498e68-14c7-4d66-8228-23d8ae2bb577"
      },
      "execution_count": 4,
      "outputs": [
        {
          "output_type": "execute_result",
          "data": {
            "text/plain": [
              "[(0, 0), (1, 1), (2, 2), (3, 3), (4, 4), (5, 5), (6, 6)]"
            ]
          },
          "metadata": {},
          "execution_count": 4
        }
      ]
    },
    {
      "cell_type": "code",
      "source": [
        "list(zip(range(7), range(42), strict=True))"
      ],
      "metadata": {
        "colab": {
          "base_uri": "https://localhost:8080/",
          "height": 198
        },
        "id": "9vofj3tgT7no",
        "outputId": "0decf144-65cb-4bdf-dac8-f64f3fb55e3b"
      },
      "execution_count": 5,
      "outputs": [
        {
          "output_type": "error",
          "ename": "ValueError",
          "evalue": "ignored",
          "traceback": [
            "\u001b[0;31m---------------------------------------------------------------------------\u001b[0m",
            "\u001b[0;31mValueError\u001b[0m                                Traceback (most recent call last)",
            "\u001b[0;32m<ipython-input-5-80abac45bc04>\u001b[0m in \u001b[0;36m<cell line: 1>\u001b[0;34m()\u001b[0m\n\u001b[0;32m----> 1\u001b[0;31m \u001b[0mlist\u001b[0m\u001b[0;34m(\u001b[0m\u001b[0mzip\u001b[0m\u001b[0;34m(\u001b[0m\u001b[0mrange\u001b[0m\u001b[0;34m(\u001b[0m\u001b[0;36m7\u001b[0m\u001b[0;34m)\u001b[0m\u001b[0;34m,\u001b[0m \u001b[0mrange\u001b[0m\u001b[0;34m(\u001b[0m\u001b[0;36m42\u001b[0m\u001b[0;34m)\u001b[0m\u001b[0;34m,\u001b[0m \u001b[0mstrict\u001b[0m\u001b[0;34m=\u001b[0m\u001b[0;32mTrue\u001b[0m\u001b[0;34m)\u001b[0m\u001b[0;34m)\u001b[0m\u001b[0;34m\u001b[0m\u001b[0;34m\u001b[0m\u001b[0m\n\u001b[0m",
            "\u001b[0;31mValueError\u001b[0m: zip() argument 2 is longer than argument 1"
          ]
        }
      ]
    },
    {
      "cell_type": "code",
      "source": [
        "from time import perf_counter\n",
        "\n",
        "list_a = range(0, 10_000, 1)\n",
        "list_b = range(10_000, 20_000, 1)\n",
        "\n",
        "start = perf_counter()\n",
        "for i in range(len(list_a)):\n",
        "    a = list_a[i]\n",
        "    b = list_b[i]\n",
        "print(perf_counter()-start)"
      ],
      "metadata": {
        "colab": {
          "base_uri": "https://localhost:8080/"
        },
        "id": "zVM91FiMT8h-",
        "outputId": "64d4b44a-fc55-46fe-9d60-3380781341eb"
      },
      "execution_count": 6,
      "outputs": [
        {
          "output_type": "stream",
          "name": "stdout",
          "text": [
            "0.014999676999991607\n"
          ]
        }
      ]
    },
    {
      "cell_type": "code",
      "source": [
        "from time import perf_counter\n",
        "\n",
        "list_a = range(0, 10_000, 1)\n",
        "list_b = range(10_000, 20_000, 1)\n",
        "\n",
        "start = perf_counter()\n",
        "for a,b in zip(list_a, list_b):\n",
        "    # do something\n",
        "    pass\n",
        "print(perf_counter()-start)"
      ],
      "metadata": {
        "colab": {
          "base_uri": "https://localhost:8080/"
        },
        "id": "9-C23JuIT9XA",
        "outputId": "f63fcad2-7fa8-4fd3-ea39-66da16ef2393"
      },
      "execution_count": 7,
      "outputs": [
        {
          "output_type": "stream",
          "name": "stdout",
          "text": [
            "0.0012845319999996718\n"
          ]
        }
      ]
    },
    {
      "cell_type": "code",
      "source": [
        "def add_function(a, b):\n",
        "    print(a + b)\n",
        "\n",
        "foo = 2\n",
        "bar = 5\n",
        "add_function(foo, bar)"
      ],
      "metadata": {
        "colab": {
          "base_uri": "https://localhost:8080/"
        },
        "id": "zQbBlG-aT-Y-",
        "outputId": "70d8531e-3d8c-4ba3-dcaf-7e4fed1d753c"
      },
      "execution_count": 8,
      "outputs": [
        {
          "output_type": "stream",
          "name": "stdout",
          "text": [
            "7\n"
          ]
        }
      ]
    },
    {
      "cell_type": "code",
      "source": [
        "# Unpacking\n",
        "def add_function(a, b):\n",
        "    print(a + b)\n",
        "\n",
        "foo1 = [2, 5]\n",
        "foo2 = {'a':2, 'b':5}\n",
        "add_function(*foo1)\n",
        "add_function(**foo2)"
      ],
      "metadata": {
        "colab": {
          "base_uri": "https://localhost:8080/"
        },
        "id": "OeWrthM3T_y5",
        "outputId": "a50dbf16-e28f-4da3-9a34-28e7e1f54309"
      },
      "execution_count": 9,
      "outputs": [
        {
          "output_type": "stream",
          "name": "stdout",
          "text": [
            "7\n",
            "7\n"
          ]
        }
      ]
    },
    {
      "cell_type": "code",
      "source": [
        "# Packing\n",
        "def add_function(*args):\n",
        "    print(sum(args))\n",
        "\n",
        "add_function(1, 1, 2, 3, 5)"
      ],
      "metadata": {
        "colab": {
          "base_uri": "https://localhost:8080/"
        },
        "id": "3snd8cvhUAkQ",
        "outputId": "f2c05759-b11c-44cd-a4d5-37502a53c08b"
      },
      "execution_count": 10,
      "outputs": [
        {
          "output_type": "stream",
          "name": "stdout",
          "text": [
            "12\n"
          ]
        }
      ]
    },
    {
      "cell_type": "code",
      "source": [
        "a = 2\n",
        "b = 4\n",
        "tmp = a\n",
        "a = b\n",
        "b = tmp\n",
        "print(a, b)"
      ],
      "metadata": {
        "colab": {
          "base_uri": "https://localhost:8080/"
        },
        "id": "g5qcs1MqUBjI",
        "outputId": "6400d915-fb56-4c09-e4d9-b1ccb2433724"
      },
      "execution_count": 11,
      "outputs": [
        {
          "output_type": "stream",
          "name": "stdout",
          "text": [
            "4 2\n"
          ]
        }
      ]
    },
    {
      "cell_type": "code",
      "source": [
        "a = 2\n",
        "b = 4\n",
        "a, b = b, a\n",
        "print(a, b)"
      ],
      "metadata": {
        "colab": {
          "base_uri": "https://localhost:8080/"
        },
        "id": "iy9tbL2rUDfS",
        "outputId": "c05246f5-dde9-4640-d153-a11fe44bb371"
      },
      "execution_count": 12,
      "outputs": [
        {
          "output_type": "stream",
          "name": "stdout",
          "text": [
            "4 2\n"
          ]
        }
      ]
    },
    {
      "cell_type": "code",
      "source": [
        "example_list = [1, 1, 2, 3, 5]\n",
        "example_list[0], example_list[3] = example_list[3], example_list[0]\n",
        "\n",
        "print(example_list)"
      ],
      "metadata": {
        "colab": {
          "base_uri": "https://localhost:8080/"
        },
        "id": "htYft45vUDla",
        "outputId": "1ba962fe-6a02-4844-d585-35913813ac46"
      },
      "execution_count": 13,
      "outputs": [
        {
          "output_type": "stream",
          "name": "stdout",
          "text": [
            "[3, 1, 2, 1, 5]\n"
          ]
        }
      ]
    },
    {
      "cell_type": "code",
      "source": [
        "dict={1: 2, 3: 4, 3: 5}\n",
        "print(dict[8]) "
      ],
      "metadata": {
        "colab": {
          "base_uri": "https://localhost:8080/",
          "height": 215
        },
        "id": "h0_9k-_IUEmg",
        "outputId": "6b1f6307-29ce-49eb-f8d7-d28384a42fe0"
      },
      "execution_count": 14,
      "outputs": [
        {
          "output_type": "error",
          "ename": "KeyError",
          "evalue": "ignored",
          "traceback": [
            "\u001b[0;31m---------------------------------------------------------------------------\u001b[0m",
            "\u001b[0;31mKeyError\u001b[0m                                  Traceback (most recent call last)",
            "\u001b[0;32m<ipython-input-14-6771a42897a4>\u001b[0m in \u001b[0;36m<cell line: 2>\u001b[0;34m()\u001b[0m\n\u001b[1;32m      1\u001b[0m \u001b[0mdict\u001b[0m\u001b[0;34m=\u001b[0m\u001b[0;34m{\u001b[0m\u001b[0;36m1\u001b[0m\u001b[0;34m:\u001b[0m \u001b[0;36m2\u001b[0m\u001b[0;34m,\u001b[0m \u001b[0;36m3\u001b[0m\u001b[0;34m:\u001b[0m \u001b[0;36m4\u001b[0m\u001b[0;34m,\u001b[0m \u001b[0;36m3\u001b[0m\u001b[0;34m:\u001b[0m \u001b[0;36m5\u001b[0m\u001b[0;34m}\u001b[0m\u001b[0;34m\u001b[0m\u001b[0;34m\u001b[0m\u001b[0m\n\u001b[0;32m----> 2\u001b[0;31m \u001b[0mprint\u001b[0m\u001b[0;34m(\u001b[0m\u001b[0mdict\u001b[0m\u001b[0;34m[\u001b[0m\u001b[0;36m8\u001b[0m\u001b[0;34m]\u001b[0m\u001b[0;34m)\u001b[0m\u001b[0;34m\u001b[0m\u001b[0;34m\u001b[0m\u001b[0m\n\u001b[0m",
            "\u001b[0;31mKeyError\u001b[0m: 8"
          ]
        }
      ]
    },
    {
      "cell_type": "code",
      "source": [
        "dict={1: 2, 3: 4, 3: 5}\n",
        "print(dict.get(8)) "
      ],
      "metadata": {
        "colab": {
          "base_uri": "https://localhost:8080/"
        },
        "id": "Jjj6DT8DUFQv",
        "outputId": "725e4963-10a9-4057-c526-1a995ab61d56"
      },
      "execution_count": 15,
      "outputs": [
        {
          "output_type": "stream",
          "name": "stdout",
          "text": [
            "None\n"
          ]
        }
      ]
    },
    {
      "cell_type": "code",
      "source": [
        "dict={1: 2, 3: 4, 3: 5}\n",
        "print(dict.get(8), 0) "
      ],
      "metadata": {
        "colab": {
          "base_uri": "https://localhost:8080/"
        },
        "id": "zsd4A7yxUGYm",
        "outputId": "41c70a91-00d1-4e21-fa00-a7a62aa50329"
      },
      "execution_count": 16,
      "outputs": [
        {
          "output_type": "stream",
          "name": "stdout",
          "text": [
            "None 0\n"
          ]
        }
      ]
    },
    {
      "cell_type": "code",
      "source": [
        "# import json\n",
        "# with open('config/config_timescaleDB.json') as timescaleDB_file:\n",
        "#     config_timescaleDB_dict = json.load(timescaleDB_file)"
      ],
      "metadata": {
        "id": "pkk-zOS_UHKT"
      },
      "execution_count": 17,
      "outputs": []
    },
    {
      "cell_type": "code",
      "source": [
        "# bad way\n",
        "million = 1000000     # 1 million\n",
        "thousand = 1000        # 1 thousand\n",
        "total = million + thousand\n",
        "print(f'{total:,}')  \n",
        "\n",
        "# smart way\n",
        "million = 1_000_000     # 1 million\n",
        "thousand = 1_000        # 1 thousand\n",
        "total = million + thousand\n",
        "print(f'{total:,}')"
      ],
      "metadata": {
        "colab": {
          "base_uri": "https://localhost:8080/"
        },
        "id": "n4UMFXHOUJYh",
        "outputId": "f6149137-f0d8-4724-fbe7-f10d242752d0"
      },
      "execution_count": 18,
      "outputs": [
        {
          "output_type": "stream",
          "name": "stdout",
          "text": [
            "1,001,000\n",
            "1,001,000\n"
          ]
        }
      ]
    }
  ]
}