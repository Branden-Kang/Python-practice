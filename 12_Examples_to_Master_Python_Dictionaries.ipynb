{
  "nbformat": 4,
  "nbformat_minor": 0,
  "metadata": {
    "colab": {
      "name": "12 Examples to Master Python Dictionaries.ipynb",
      "provenance": [],
      "authorship_tag": "ABX9TyNkezUJ8SS6pUFnvt64iBFN"
    },
    "kernelspec": {
      "name": "python3",
      "display_name": "Python 3"
    }
  },
  "cells": [
    {
      "cell_type": "markdown",
      "metadata": {
        "id": "AgUItgKRfX-Z"
      },
      "source": [
        "[Reference](https://towardsdatascience.com/12-examples-to-master-python-dictionaries-5a8bcd688c6d)"
      ]
    },
    {
      "cell_type": "code",
      "metadata": {
        "id": "jqqj-Ia5fXxv",
        "outputId": "60549137-0633-4d2f-d5ba-0eee79f94162",
        "colab": {
          "base_uri": "https://localhost:8080/"
        }
      },
      "source": [
        "empty_dict = {}\n",
        "grades = {'John':'A', 'Emily':'A+', 'Betty':'B', 'Mike':'C', 'Ashley':'A'}\n",
        "grades"
      ],
      "execution_count": 1,
      "outputs": [
        {
          "output_type": "execute_result",
          "data": {
            "text/plain": [
              "{'Ashley': 'A', 'Betty': 'B', 'Emily': 'A+', 'John': 'A', 'Mike': 'C'}"
            ]
          },
          "metadata": {
            "tags": []
          },
          "execution_count": 1
        }
      ]
    },
    {
      "cell_type": "code",
      "metadata": {
        "id": "A-KgfBlqfWiP",
        "outputId": "a0b38c64-e3ef-4604-b968-410c076540dc",
        "colab": {
          "base_uri": "https://localhost:8080/",
          "height": 37
        }
      },
      "source": [
        "grades['John']"
      ],
      "execution_count": 2,
      "outputs": [
        {
          "output_type": "execute_result",
          "data": {
            "application/vnd.google.colaboratory.intrinsic+json": {
              "type": "string"
            },
            "text/plain": [
              "'A'"
            ]
          },
          "metadata": {
            "tags": []
          },
          "execution_count": 2
        }
      ]
    },
    {
      "cell_type": "code",
      "metadata": {
        "id": "0EJrosCdfd_c",
        "outputId": "bdc2eb31-5ea3-40bc-e45d-e3605fb304cb",
        "colab": {
          "base_uri": "https://localhost:8080/",
          "height": 37
        }
      },
      "source": [
        "grades.get('Betty')"
      ],
      "execution_count": 3,
      "outputs": [
        {
          "output_type": "execute_result",
          "data": {
            "application/vnd.google.colaboratory.intrinsic+json": {
              "type": "string"
            },
            "text/plain": [
              "'B'"
            ]
          },
          "metadata": {
            "tags": []
          },
          "execution_count": 3
        }
      ]
    },
    {
      "cell_type": "code",
      "metadata": {
        "id": "naJErfQUfe3l",
        "outputId": "add05282-4ae9-418f-cc17-b3bd529f10c9",
        "colab": {
          "base_uri": "https://localhost:8080/"
        }
      },
      "source": [
        "grades.keys()"
      ],
      "execution_count": 5,
      "outputs": [
        {
          "output_type": "execute_result",
          "data": {
            "text/plain": [
              "dict_keys(['John', 'Emily', 'Betty', 'Mike', 'Ashley'])"
            ]
          },
          "metadata": {
            "tags": []
          },
          "execution_count": 5
        }
      ]
    },
    {
      "cell_type": "code",
      "metadata": {
        "id": "p9AQGy_ffgq-",
        "outputId": "b0776119-ac7d-409d-8d4a-07d505d64839",
        "colab": {
          "base_uri": "https://localhost:8080/"
        }
      },
      "source": [
        "grades.values()"
      ],
      "execution_count": 6,
      "outputs": [
        {
          "output_type": "execute_result",
          "data": {
            "text/plain": [
              "dict_values(['A', 'A+', 'B', 'C', 'A'])"
            ]
          },
          "metadata": {
            "tags": []
          },
          "execution_count": 6
        }
      ]
    },
    {
      "cell_type": "code",
      "metadata": {
        "id": "6XET3G7Yfjkq",
        "outputId": "96bde382-c7e9-46c0-e292-640550aca3c9",
        "colab": {
          "base_uri": "https://localhost:8080/",
          "height": 37
        }
      },
      "source": [
        "list(grades.values())[0]"
      ],
      "execution_count": 7,
      "outputs": [
        {
          "output_type": "execute_result",
          "data": {
            "application/vnd.google.colaboratory.intrinsic+json": {
              "type": "string"
            },
            "text/plain": [
              "'A'"
            ]
          },
          "metadata": {
            "tags": []
          },
          "execution_count": 7
        }
      ]
    },
    {
      "cell_type": "code",
      "metadata": {
        "id": "pS2kH8ikfkcx",
        "outputId": "fbc9423f-d854-4da2-81fb-a3a634a7e7dd",
        "colab": {
          "base_uri": "https://localhost:8080/"
        }
      },
      "source": [
        "grades.items()"
      ],
      "execution_count": 8,
      "outputs": [
        {
          "output_type": "execute_result",
          "data": {
            "text/plain": [
              "dict_items([('John', 'A'), ('Emily', 'A+'), ('Betty', 'B'), ('Mike', 'C'), ('Ashley', 'A')])"
            ]
          },
          "metadata": {
            "tags": []
          },
          "execution_count": 8
        }
      ]
    },
    {
      "cell_type": "code",
      "metadata": {
        "id": "8DxAAgVOfl4o",
        "outputId": "360c619a-9c48-4076-efb3-16bc1ce052ff",
        "colab": {
          "base_uri": "https://localhost:8080/"
        }
      },
      "source": [
        "grades['Edward'] = 'B+'\n",
        "grades['John'] = 'B'\n",
        "grades"
      ],
      "execution_count": 10,
      "outputs": [
        {
          "output_type": "execute_result",
          "data": {
            "text/plain": [
              "{'Ashley': 'A',\n",
              " 'Betty': 'B',\n",
              " 'Edward': 'B+',\n",
              " 'Emily': 'A+',\n",
              " 'John': 'B',\n",
              " 'Mike': 'C'}"
            ]
          },
          "metadata": {
            "tags": []
          },
          "execution_count": 10
        }
      ]
    },
    {
      "cell_type": "code",
      "metadata": {
        "id": "KPKYCvmcfnOs"
      },
      "source": [
        "grades = {'John':'A', 'Emily':'A+', 'Betty':'B', 'Mike':'C'}\n",
        "grades_new = {'John':'B', 'Sam':'A', 'Betty':'A'}"
      ],
      "execution_count": 11,
      "outputs": []
    },
    {
      "cell_type": "code",
      "metadata": {
        "id": "dBFrrnq1fpSR",
        "outputId": "e9fb9cf1-8f52-441f-8c54-0f9756b16976",
        "colab": {
          "base_uri": "https://localhost:8080/"
        }
      },
      "source": [
        "grades.update(grades_new)\n",
        "grades"
      ],
      "execution_count": 12,
      "outputs": [
        {
          "output_type": "execute_result",
          "data": {
            "text/plain": [
              "{'Betty': 'A', 'Emily': 'A+', 'John': 'B', 'Mike': 'C', 'Sam': 'A'}"
            ]
          },
          "metadata": {
            "tags": []
          },
          "execution_count": 12
        }
      ]
    },
    {
      "cell_type": "code",
      "metadata": {
        "id": "mgEcypa-fq8W",
        "outputId": "734ef394-d05d-4ac2-dd9f-4cab32c324d4",
        "colab": {
          "base_uri": "https://localhost:8080/",
          "height": 232
        }
      },
      "source": [
        "del(grades['Edward'])\n",
        "grades.pop('Ashley')\n",
        "grades"
      ],
      "execution_count": 13,
      "outputs": [
        {
          "output_type": "error",
          "ename": "KeyError",
          "evalue": "ignored",
          "traceback": [
            "\u001b[0;31m---------------------------------------------------------------------------\u001b[0m",
            "\u001b[0;31mKeyError\u001b[0m                                  Traceback (most recent call last)",
            "\u001b[0;32m<ipython-input-13-e40549ff60e5>\u001b[0m in \u001b[0;36m<module>\u001b[0;34m()\u001b[0m\n\u001b[0;32m----> 1\u001b[0;31m \u001b[0;32mdel\u001b[0m\u001b[0;34m(\u001b[0m\u001b[0mgrades\u001b[0m\u001b[0;34m[\u001b[0m\u001b[0;34m'Edward'\u001b[0m\u001b[0;34m]\u001b[0m\u001b[0;34m)\u001b[0m\u001b[0;34m\u001b[0m\u001b[0;34m\u001b[0m\u001b[0m\n\u001b[0m\u001b[1;32m      2\u001b[0m \u001b[0mgrades\u001b[0m\u001b[0;34m.\u001b[0m\u001b[0mpop\u001b[0m\u001b[0;34m(\u001b[0m\u001b[0;34m'Ashley'\u001b[0m\u001b[0;34m)\u001b[0m\u001b[0;34m\u001b[0m\u001b[0;34m\u001b[0m\u001b[0m\n\u001b[1;32m      3\u001b[0m \u001b[0mgrades\u001b[0m\u001b[0;34m\u001b[0m\u001b[0;34m\u001b[0m\u001b[0m\n",
            "\u001b[0;31mKeyError\u001b[0m: 'Edward'"
          ]
        }
      ]
    },
    {
      "cell_type": "code",
      "metadata": {
        "id": "qSMKF5a1fwYL",
        "outputId": "e5994fac-c64c-4ee4-8c93-b3855f384704",
        "colab": {
          "base_uri": "https://localhost:8080/"
        }
      },
      "source": [
        "for i in grades:\n",
        "    print(i)"
      ],
      "execution_count": 14,
      "outputs": [
        {
          "output_type": "stream",
          "text": [
            "John\n",
            "Emily\n",
            "Betty\n",
            "Mike\n",
            "Sam\n"
          ],
          "name": "stdout"
        }
      ]
    },
    {
      "cell_type": "code",
      "metadata": {
        "id": "phCmDbVXfxud",
        "outputId": "cb19776f-7bbb-431e-fc43-7d902cd3616b",
        "colab": {
          "base_uri": "https://localhost:8080/"
        }
      },
      "source": [
        "{x: x**2 for x in range(5)}"
      ],
      "execution_count": 15,
      "outputs": [
        {
          "output_type": "execute_result",
          "data": {
            "text/plain": [
              "{0: 0, 1: 1, 2: 4, 3: 9, 4: 16}"
            ]
          },
          "metadata": {
            "tags": []
          },
          "execution_count": 15
        }
      ]
    },
    {
      "cell_type": "code",
      "metadata": {
        "id": "qst5utKxf0Pr",
        "outputId": "a02a684b-35a8-45cb-f4c9-d2f6e483c91b",
        "colab": {
          "base_uri": "https://localhost:8080/"
        }
      },
      "source": [
        "{word: len(word) for word in ['data','science','is','awesome']}"
      ],
      "execution_count": 16,
      "outputs": [
        {
          "output_type": "execute_result",
          "data": {
            "text/plain": [
              "{'awesome': 7, 'data': 4, 'is': 2, 'science': 7}"
            ]
          },
          "metadata": {
            "tags": []
          },
          "execution_count": 16
        }
      ]
    },
    {
      "cell_type": "code",
      "metadata": {
        "id": "JQqS-Xrcf1K3",
        "outputId": "49749aad-8e9b-4424-a6d0-455ab33ffcd5",
        "colab": {
          "base_uri": "https://localhost:8080/"
        }
      },
      "source": [
        "a = [['A',4], ['B',5], ['C',11]]\n",
        "dict(a)"
      ],
      "execution_count": 18,
      "outputs": [
        {
          "output_type": "execute_result",
          "data": {
            "text/plain": [
              "{'A': 4, 'B': 5, 'C': 11}"
            ]
          },
          "metadata": {
            "tags": []
          },
          "execution_count": 18
        }
      ]
    },
    {
      "cell_type": "code",
      "metadata": {
        "id": "F_YJFbxZf2oX",
        "outputId": "6e7df138-dfee-4426-86d7-49246e4a0ae7",
        "colab": {
          "base_uri": "https://localhost:8080/"
        }
      },
      "source": [
        "b = [('A',4), ('B',5), ('C',11)]\n",
        "dict(b)"
      ],
      "execution_count": 19,
      "outputs": [
        {
          "output_type": "execute_result",
          "data": {
            "text/plain": [
              "{'A': 4, 'B': 5, 'C': 11}"
            ]
          },
          "metadata": {
            "tags": []
          },
          "execution_count": 19
        }
      ]
    },
    {
      "cell_type": "code",
      "metadata": {
        "id": "DkdDYXeMf459",
        "outputId": "49d5c5aa-2b5b-4a54-ea9b-b57b9c21d730",
        "colab": {
          "base_uri": "https://localhost:8080/",
          "height": 173
        }
      },
      "source": [
        "import numpy as np\n",
        "import pandas as pd\n",
        "dict_a = {'names':['Amber','John','Edward','Emily'],\n",
        "         'points':np.random.randint(100, size=4)}\n",
        "df = pd.DataFrame(dict_a)\n",
        "df"
      ],
      "execution_count": 20,
      "outputs": [
        {
          "output_type": "execute_result",
          "data": {
            "text/html": [
              "<div>\n",
              "<style scoped>\n",
              "    .dataframe tbody tr th:only-of-type {\n",
              "        vertical-align: middle;\n",
              "    }\n",
              "\n",
              "    .dataframe tbody tr th {\n",
              "        vertical-align: top;\n",
              "    }\n",
              "\n",
              "    .dataframe thead th {\n",
              "        text-align: right;\n",
              "    }\n",
              "</style>\n",
              "<table border=\"1\" class=\"dataframe\">\n",
              "  <thead>\n",
              "    <tr style=\"text-align: right;\">\n",
              "      <th></th>\n",
              "      <th>names</th>\n",
              "      <th>points</th>\n",
              "    </tr>\n",
              "  </thead>\n",
              "  <tbody>\n",
              "    <tr>\n",
              "      <th>0</th>\n",
              "      <td>Amber</td>\n",
              "      <td>69</td>\n",
              "    </tr>\n",
              "    <tr>\n",
              "      <th>1</th>\n",
              "      <td>John</td>\n",
              "      <td>7</td>\n",
              "    </tr>\n",
              "    <tr>\n",
              "      <th>2</th>\n",
              "      <td>Edward</td>\n",
              "      <td>31</td>\n",
              "    </tr>\n",
              "    <tr>\n",
              "      <th>3</th>\n",
              "      <td>Emily</td>\n",
              "      <td>99</td>\n",
              "    </tr>\n",
              "  </tbody>\n",
              "</table>\n",
              "</div>"
            ],
            "text/plain": [
              "    names  points\n",
              "0   Amber      69\n",
              "1    John       7\n",
              "2  Edward      31\n",
              "3   Emily      99"
            ]
          },
          "metadata": {
            "tags": []
          },
          "execution_count": 20
        }
      ]
    },
    {
      "cell_type": "code",
      "metadata": {
        "id": "w8v-C0kNf7-2",
        "outputId": "ffbc0279-0740-4a14-b06a-bdc333990fa7",
        "colab": {
          "base_uri": "https://localhost:8080/"
        }
      },
      "source": [
        "len(grades)"
      ],
      "execution_count": 21,
      "outputs": [
        {
          "output_type": "execute_result",
          "data": {
            "text/plain": [
              "5"
            ]
          },
          "metadata": {
            "tags": []
          },
          "execution_count": 21
        }
      ]
    },
    {
      "cell_type": "code",
      "metadata": {
        "id": "oILnd0kOf-kb",
        "outputId": "6b0c85f3-e716-4b02-8a53-bf2654da9f98",
        "colab": {
          "base_uri": "https://localhost:8080/"
        }
      },
      "source": [
        "grades.clear()\n",
        "len(grades)"
      ],
      "execution_count": 23,
      "outputs": [
        {
          "output_type": "execute_result",
          "data": {
            "text/plain": [
              "0"
            ]
          },
          "metadata": {
            "tags": []
          },
          "execution_count": 23
        }
      ]
    },
    {
      "cell_type": "code",
      "metadata": {
        "id": "MGtJtGS9f-tK"
      },
      "source": [
        "grades = {'John':'A', 'Emily':'A+', 'Betty':'B'}\n",
        "dict1 = grades\n",
        "dict2 = grades.copy()\n",
        "dict3 = dict(grades)"
      ],
      "execution_count": 24,
      "outputs": []
    },
    {
      "cell_type": "code",
      "metadata": {
        "id": "zX2l8UZKgCGH"
      },
      "source": [
        "x = {\"key1\": \"value1 from x\", \"key2\": \"value2 from x\"}\n",
        "y = {\"key2\": \"value2 from y\", \"key3\": \"value3 from y\"}\n",
        "x | y"
      ],
      "execution_count": 27,
      "outputs": []
    },
    {
      "cell_type": "code",
      "metadata": {
        "id": "pn2KDlKDgFfK"
      },
      "source": [
        "y | x"
      ],
      "execution_count": 28,
      "outputs": []
    }
  ]
}