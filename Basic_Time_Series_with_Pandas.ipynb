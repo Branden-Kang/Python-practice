{
  "nbformat": 4,
  "nbformat_minor": 0,
  "metadata": {
    "colab": {
      "name": "Basic Time Series with Pandas.ipynb",
      "provenance": [],
      "authorship_tag": "ABX9TyMIZoNTFEdlsl4Q1pGPEtXD"
    },
    "kernelspec": {
      "name": "python3",
      "display_name": "Python 3"
    }
  },
  "cells": [
    {
      "cell_type": "markdown",
      "metadata": {
        "id": "l3QCE6_Ff1Yk"
      },
      "source": [
        "[Reference](https://medium.com/@parkashsharma/basic-time-series-with-pandas-71110b1b7835)"
      ]
    },
    {
      "cell_type": "code",
      "metadata": {
        "id": "IPihKCO-fz_U"
      },
      "source": [
        "import numpy as np"
      ],
      "execution_count": 7,
      "outputs": []
    },
    {
      "cell_type": "code",
      "metadata": {
        "colab": {
          "base_uri": "https://localhost:8080/"
        },
        "id": "QYG3P0tQhMtJ",
        "outputId": "7b31dbfb-d40a-4d37-eace-b73cba017274"
      },
      "source": [
        "np.array(['2020-03-15', '2020-05-24', '2020-08-09'], dtype='datetime64')"
      ],
      "execution_count": 11,
      "outputs": [
        {
          "output_type": "execute_result",
          "data": {
            "text/plain": [
              "array(['2020-03-15', '2020-05-24', '2020-08-09'], dtype='datetime64[D]')"
            ]
          },
          "metadata": {
            "tags": []
          },
          "execution_count": 11
        }
      ]
    },
    {
      "cell_type": "code",
      "metadata": {
        "colab": {
          "base_uri": "https://localhost:8080/"
        },
        "id": "2aBPxGHOsg58",
        "outputId": "6fc0b5a8-f95f-4370-84ce-aeafb220f8b5"
      },
      "source": [
        "np.array(['2020-03-15', '2020-05-24', '2020-08-09'], dtype='datetime64[Y]')"
      ],
      "execution_count": 12,
      "outputs": [
        {
          "output_type": "execute_result",
          "data": {
            "text/plain": [
              "array(['2020', '2020', '2020'], dtype='datetime64[Y]')"
            ]
          },
          "metadata": {
            "tags": []
          },
          "execution_count": 12
        }
      ]
    },
    {
      "cell_type": "code",
      "metadata": {
        "colab": {
          "base_uri": "https://localhost:8080/"
        },
        "id": "9hLiFgRKhQwu",
        "outputId": "d4f6ca6f-1b9a-4b7b-dfa9-67067a94d9a5"
      },
      "source": [
        "np.arange(start='2020-06-01', stop='2020-06-23', step=7, dtype='datetime64[D]')"
      ],
      "execution_count": 13,
      "outputs": [
        {
          "output_type": "execute_result",
          "data": {
            "text/plain": [
              "array(['2020-06-01', '2020-06-08', '2020-06-15', '2020-06-22'],\n",
              "      dtype='datetime64[D]')"
            ]
          },
          "metadata": {
            "tags": []
          },
          "execution_count": 13
        }
      ]
    },
    {
      "cell_type": "code",
      "metadata": {
        "colab": {
          "base_uri": "https://localhost:8080/"
        },
        "id": "9UhgDSVohTY2",
        "outputId": "e1628f18-ea8e-4b32-8b3d-b4501a143626"
      },
      "source": [
        "import pandas as pd\n",
        "dates = np.array(['2020-03-15', '2019-05-24', '2018-08-09'], dtype='datetime64[D]')\n",
        "idx = pd.DatetimeIndex(dates)\n",
        "idx"
      ],
      "execution_count": 14,
      "outputs": [
        {
          "output_type": "execute_result",
          "data": {
            "text/plain": [
              "DatetimeIndex(['2020-03-15', '2019-05-24', '2018-08-09'], dtype='datetime64[ns]', freq=None)"
            ]
          },
          "metadata": {
            "tags": []
          },
          "execution_count": 14
        }
      ]
    },
    {
      "cell_type": "code",
      "metadata": {
        "colab": {
          "base_uri": "https://localhost:8080/"
        },
        "id": "QmVBqJ1psqjh",
        "outputId": "559a24f6-c852-4d2b-d7dd-21a79b74b356"
      },
      "source": [
        "idx = pd.date_range('2020-07-01', periods=7, freq='D')\n",
        "idx"
      ],
      "execution_count": 15,
      "outputs": [
        {
          "output_type": "execute_result",
          "data": {
            "text/plain": [
              "DatetimeIndex(['2020-07-01', '2020-07-02', '2020-07-03', '2020-07-04',\n",
              "               '2020-07-05', '2020-07-06', '2020-07-07'],\n",
              "              dtype='datetime64[ns]', freq='D')"
            ]
          },
          "metadata": {
            "tags": []
          },
          "execution_count": 15
        }
      ]
    },
    {
      "cell_type": "code",
      "metadata": {
        "colab": {
          "base_uri": "https://localhost:8080/"
        },
        "id": "43Z2U58BstgD",
        "outputId": "71b8a67c-173e-4cfd-8f91-16eef2953d1d"
      },
      "source": [
        "idx = pd.to_datetime(['Jan 01, 2020','1/2/20','03-Jul-2020',None])\n",
        "idx"
      ],
      "execution_count": 16,
      "outputs": [
        {
          "output_type": "execute_result",
          "data": {
            "text/plain": [
              "DatetimeIndex(['2020-01-01', '2020-01-02', '2020-07-03', 'NaT'], dtype='datetime64[ns]', freq=None)"
            ]
          },
          "metadata": {
            "tags": []
          },
          "execution_count": 16
        }
      ]
    },
    {
      "cell_type": "code",
      "metadata": {
        "colab": {
          "base_uri": "https://localhost:8080/"
        },
        "id": "8aB5q1VBswA4",
        "outputId": "09dacd3b-62f3-4987-9a82-43229d3316b4"
      },
      "source": [
        "data = np.random.randn(7,2)\n",
        "data"
      ],
      "execution_count": 17,
      "outputs": [
        {
          "output_type": "execute_result",
          "data": {
            "text/plain": [
              "array([[ 0.53746281, -1.35792731],\n",
              "       [-0.23071251,  0.17172801],\n",
              "       [ 0.78666629, -0.18895838],\n",
              "       [ 1.41874399, -0.50249651],\n",
              "       [ 1.29712539, -0.01622628],\n",
              "       [ 1.65936932,  0.46222434],\n",
              "       [ 0.49811427,  0.64148702]])"
            ]
          },
          "metadata": {
            "tags": []
          },
          "execution_count": 17
        }
      ]
    },
    {
      "cell_type": "code",
      "metadata": {
        "colab": {
          "base_uri": "https://localhost:8080/",
          "height": 266
        },
        "id": "lFjNlHJMszbQ",
        "outputId": "99d400dd-055e-4525-ff87-e0dbd18a503b"
      },
      "source": [
        "df = pd.DataFrame(data,\n",
        "                   index=pd.date_range(start='2020-07-01', periods=data.shape[0]),\n",
        "                   columns=['A', 'B'])\n",
        "df"
      ],
      "execution_count": 18,
      "outputs": [
        {
          "output_type": "execute_result",
          "data": {
            "text/html": [
              "<div>\n",
              "<style scoped>\n",
              "    .dataframe tbody tr th:only-of-type {\n",
              "        vertical-align: middle;\n",
              "    }\n",
              "\n",
              "    .dataframe tbody tr th {\n",
              "        vertical-align: top;\n",
              "    }\n",
              "\n",
              "    .dataframe thead th {\n",
              "        text-align: right;\n",
              "    }\n",
              "</style>\n",
              "<table border=\"1\" class=\"dataframe\">\n",
              "  <thead>\n",
              "    <tr style=\"text-align: right;\">\n",
              "      <th></th>\n",
              "      <th>A</th>\n",
              "      <th>B</th>\n",
              "    </tr>\n",
              "  </thead>\n",
              "  <tbody>\n",
              "    <tr>\n",
              "      <th>2020-07-01</th>\n",
              "      <td>0.537463</td>\n",
              "      <td>-1.357927</td>\n",
              "    </tr>\n",
              "    <tr>\n",
              "      <th>2020-07-02</th>\n",
              "      <td>-0.230713</td>\n",
              "      <td>0.171728</td>\n",
              "    </tr>\n",
              "    <tr>\n",
              "      <th>2020-07-03</th>\n",
              "      <td>0.786666</td>\n",
              "      <td>-0.188958</td>\n",
              "    </tr>\n",
              "    <tr>\n",
              "      <th>2020-07-04</th>\n",
              "      <td>1.418744</td>\n",
              "      <td>-0.502497</td>\n",
              "    </tr>\n",
              "    <tr>\n",
              "      <th>2020-07-05</th>\n",
              "      <td>1.297125</td>\n",
              "      <td>-0.016226</td>\n",
              "    </tr>\n",
              "    <tr>\n",
              "      <th>2020-07-06</th>\n",
              "      <td>1.659369</td>\n",
              "      <td>0.462224</td>\n",
              "    </tr>\n",
              "    <tr>\n",
              "      <th>2020-07-07</th>\n",
              "      <td>0.498114</td>\n",
              "      <td>0.641487</td>\n",
              "    </tr>\n",
              "  </tbody>\n",
              "</table>\n",
              "</div>"
            ],
            "text/plain": [
              "                   A         B\n",
              "2020-07-01  0.537463 -1.357927\n",
              "2020-07-02 -0.230713  0.171728\n",
              "2020-07-03  0.786666 -0.188958\n",
              "2020-07-04  1.418744 -0.502497\n",
              "2020-07-05  1.297125 -0.016226\n",
              "2020-07-06  1.659369  0.462224\n",
              "2020-07-07  0.498114  0.641487"
            ]
          },
          "metadata": {
            "tags": []
          },
          "execution_count": 18
        }
      ]
    }
  ]
}