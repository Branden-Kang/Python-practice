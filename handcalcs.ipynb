{
  "nbformat": 4,
  "nbformat_minor": 0,
  "metadata": {
    "colab": {
      "name": "handcalcs.ipynb",
      "provenance": [],
      "authorship_tag": "ABX9TyPR9gKagB3FxpP/I5rQbudx"
    },
    "kernelspec": {
      "name": "python3",
      "display_name": "Python 3"
    }
  },
  "cells": [
    {
      "cell_type": "markdown",
      "metadata": {
        "id": "iMKMPDawtAzs",
        "colab_type": "text"
      },
      "source": [
        "[Reference](https://github.com/connorferster/handcalcs)"
      ]
    },
    {
      "cell_type": "code",
      "metadata": {
        "id": "L_gYpCVEs6Rd",
        "colab_type": "code",
        "colab": {
          "base_uri": "https://localhost:8080/",
          "height": 156
        },
        "outputId": "3f361cfd-7217-4d1e-beec-f6c8e771243a"
      },
      "source": [
        "!pip install handcalcs"
      ],
      "execution_count": 1,
      "outputs": [
        {
          "output_type": "stream",
          "text": [
            "Collecting handcalcs\n",
            "  Downloading https://files.pythonhosted.org/packages/bc/92/15b04383f62df9fab6061517c3b7761e046b3c38046f6b45fcb8c00eaa60/handcalcs-0.2.0-py3-none-any.whl\n",
            "Requirement already satisfied: jinja2 in /usr/local/lib/python3.6/dist-packages (from handcalcs) (2.11.2)\n",
            "Requirement already satisfied: pyparsing in /usr/local/lib/python3.6/dist-packages (from handcalcs) (2.4.7)\n",
            "Requirement already satisfied: MarkupSafe>=0.23 in /usr/local/lib/python3.6/dist-packages (from jinja2->handcalcs) (1.1.1)\n",
            "Installing collected packages: handcalcs\n",
            "Successfully installed handcalcs-0.2.0\n"
          ],
          "name": "stdout"
        }
      ]
    },
    {
      "cell_type": "code",
      "metadata": {
        "id": "6brT57X-s7RG",
        "colab_type": "code",
        "colab": {}
      },
      "source": [
        "import handcalcs.render"
      ],
      "execution_count": 3,
      "outputs": []
    },
    {
      "cell_type": "code",
      "metadata": {
        "id": "O0HgM9lis86B",
        "colab_type": "code",
        "colab": {
          "base_uri": "https://localhost:8080/",
          "height": 156
        },
        "outputId": "159c23a9-022b-4ba8-8602-71d3ce4d2aec"
      },
      "source": [
        "%%render\n",
        "a = 2\n",
        "b = 3\n",
        "c = 2*a + b/3"
      ],
      "execution_count": 4,
      "outputs": [
        {
          "output_type": "display_data",
          "data": {
            "text/latex": "\\[\n\\begin{aligned}\na &= 2 \\;\\textit{    }\\\\[10pt]\nb &= 3 \\;\\textit{    }\\\\[10pt]\nc &= 2 \\cdot a + \\frac{ b }{ 3 } = 2 \\cdot 2 + \\frac{ 3 }{ 3 } &= 5.0 \\;\\textit{    }\n\\end{aligned}\n\\]",
            "text/plain": [
              "<IPython.core.display.Latex object>"
            ]
          },
          "metadata": {
            "tags": []
          }
        }
      ]
    },
    {
      "cell_type": "code",
      "metadata": {
        "id": "PJDHKoh8tF7O",
        "colab_type": "code",
        "colab": {}
      },
      "source": [
        "import handcalcs.render\n",
        "from math import sqrt, pi"
      ],
      "execution_count": 5,
      "outputs": []
    }
  ]
}