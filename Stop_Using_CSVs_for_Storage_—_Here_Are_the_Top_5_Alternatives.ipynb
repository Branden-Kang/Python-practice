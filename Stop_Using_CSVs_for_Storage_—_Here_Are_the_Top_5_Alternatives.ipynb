{
  "nbformat": 4,
  "nbformat_minor": 0,
  "metadata": {
    "colab": {
      "name": "Stop Using CSVs for Storage — Here Are the Top 5 Alternatives.ipynb",
      "provenance": [],
      "authorship_tag": "ABX9TyM2l+YPcI7cjpQ6OijAAzgX"
    },
    "kernelspec": {
      "name": "python3",
      "display_name": "Python 3"
    },
    "language_info": {
      "name": "python"
    }
  },
  "cells": [
    {
      "cell_type": "markdown",
      "metadata": {
        "id": "pUxtAaD5nPoz"
      },
      "source": [
        "[Reference](https://towardsdatascience.com/stop-using-csvs-for-storage-here-are-the-top-5-alternatives-e3a7c9018de0)"
      ]
    },
    {
      "cell_type": "code",
      "metadata": {
        "id": "-KNEsb5YnJDK"
      },
      "source": [
        "# conda create --name file_formats python=3.8\n",
        "# conda activate file_formats\n",
        "\n",
        "# conda install -c conda forge numpy pandas fastavro pyarrow feather-format jupyter jupyterlab"
      ],
      "execution_count": 1,
      "outputs": []
    },
    {
      "cell_type": "code",
      "metadata": {
        "id": "nNM5Og-7nUwN"
      },
      "source": [
        "# jupyter lab"
      ],
      "execution_count": 2,
      "outputs": []
    },
    {
      "cell_type": "code",
      "metadata": {
        "colab": {
          "base_uri": "https://localhost:8080/"
        },
        "id": "ihy0sUMVnaJQ",
        "outputId": "f6294db5-dcc6-4ada-bde4-78c3786b339e"
      },
      "source": [
        "pip install fastavro"
      ],
      "execution_count": 4,
      "outputs": [
        {
          "output_type": "stream",
          "name": "stdout",
          "text": [
            "Collecting fastavro\n",
            "  Downloading fastavro-1.4.5-cp37-cp37m-manylinux_2_17_x86_64.manylinux2014_x86_64.whl (2.3 MB)\n",
            "\u001b[K     |████████████████████████████████| 2.3 MB 5.4 MB/s \n",
            "\u001b[?25hInstalling collected packages: fastavro\n",
            "Successfully installed fastavro-1.4.5\n"
          ]
        }
      ]
    },
    {
      "cell_type": "code",
      "metadata": {
        "colab": {
          "base_uri": "https://localhost:8080/"
        },
        "id": "1QEzienVoBis",
        "outputId": "7bed71a4-1ca8-4a16-a767-38a7d86cbf06"
      },
      "source": [
        "pip install pyarrow"
      ],
      "execution_count": 9,
      "outputs": [
        {
          "output_type": "stream",
          "name": "stdout",
          "text": [
            "Requirement already satisfied: pyarrow in /usr/local/lib/python3.7/dist-packages (3.0.0)\n",
            "Requirement already satisfied: numpy>=1.16.6 in /usr/local/lib/python3.7/dist-packages (from pyarrow) (1.19.5)\n"
          ]
        }
      ]
    },
    {
      "cell_type": "code",
      "metadata": {
        "colab": {
          "base_uri": "https://localhost:8080/",
          "height": 204
        },
        "id": "_OG0ETPpnVv2",
        "outputId": "51fdc539-8946-4755-897f-bbd0822f0529"
      },
      "source": [
        "import numpy as np\n",
        "import pandas as pd\n",
        "\n",
        "import feather\n",
        "import pickle\n",
        "import pyarrow as pa\n",
        "import pyarrow.orc as orc \n",
        "from fastavro import writer, reader, parse_schema\n",
        "\n",
        "np.random.seed = 42\n",
        "df_size = 10_000_000\n",
        "\n",
        "df = pd.DataFrame({\n",
        "    'a': np.random.rand(df_size),\n",
        "    'b': np.random.rand(df_size),\n",
        "    'c': np.random.rand(df_size),\n",
        "    'd': np.random.rand(df_size),\n",
        "    'e': np.random.rand(df_size)\n",
        "})\n",
        "df.head()"
      ],
      "execution_count": 10,
      "outputs": [
        {
          "output_type": "execute_result",
          "data": {
            "text/html": [
              "<div>\n",
              "<style scoped>\n",
              "    .dataframe tbody tr th:only-of-type {\n",
              "        vertical-align: middle;\n",
              "    }\n",
              "\n",
              "    .dataframe tbody tr th {\n",
              "        vertical-align: top;\n",
              "    }\n",
              "\n",
              "    .dataframe thead th {\n",
              "        text-align: right;\n",
              "    }\n",
              "</style>\n",
              "<table border=\"1\" class=\"dataframe\">\n",
              "  <thead>\n",
              "    <tr style=\"text-align: right;\">\n",
              "      <th></th>\n",
              "      <th>a</th>\n",
              "      <th>b</th>\n",
              "      <th>c</th>\n",
              "      <th>d</th>\n",
              "      <th>e</th>\n",
              "    </tr>\n",
              "  </thead>\n",
              "  <tbody>\n",
              "    <tr>\n",
              "      <th>0</th>\n",
              "      <td>0.594589</td>\n",
              "      <td>0.023753</td>\n",
              "      <td>0.119105</td>\n",
              "      <td>0.215425</td>\n",
              "      <td>0.354810</td>\n",
              "    </tr>\n",
              "    <tr>\n",
              "      <th>1</th>\n",
              "      <td>0.151257</td>\n",
              "      <td>0.904785</td>\n",
              "      <td>0.756177</td>\n",
              "      <td>0.665009</td>\n",
              "      <td>0.619944</td>\n",
              "    </tr>\n",
              "    <tr>\n",
              "      <th>2</th>\n",
              "      <td>0.948392</td>\n",
              "      <td>0.582541</td>\n",
              "      <td>0.145244</td>\n",
              "      <td>0.965627</td>\n",
              "      <td>0.262283</td>\n",
              "    </tr>\n",
              "    <tr>\n",
              "      <th>3</th>\n",
              "      <td>0.421178</td>\n",
              "      <td>0.368370</td>\n",
              "      <td>0.266514</td>\n",
              "      <td>0.768328</td>\n",
              "      <td>0.116120</td>\n",
              "    </tr>\n",
              "    <tr>\n",
              "      <th>4</th>\n",
              "      <td>0.756303</td>\n",
              "      <td>0.388640</td>\n",
              "      <td>0.281472</td>\n",
              "      <td>0.603944</td>\n",
              "      <td>0.811477</td>\n",
              "    </tr>\n",
              "  </tbody>\n",
              "</table>\n",
              "</div>"
            ],
            "text/plain": [
              "          a         b         c         d         e\n",
              "0  0.594589  0.023753  0.119105  0.215425  0.354810\n",
              "1  0.151257  0.904785  0.756177  0.665009  0.619944\n",
              "2  0.948392  0.582541  0.145244  0.965627  0.262283\n",
              "3  0.421178  0.368370  0.266514  0.768328  0.116120\n",
              "4  0.756303  0.388640  0.281472  0.603944  0.811477"
            ]
          },
          "metadata": {},
          "execution_count": 10
        }
      ]
    },
    {
      "cell_type": "code",
      "metadata": {
        "id": "M-Z0guevncES"
      },
      "source": [
        "table = pa.Table.from_pandas(df, preserve_index=False)\n",
        "orc.write_table(table, '10M.orc')"
      ],
      "execution_count": 12,
      "outputs": []
    },
    {
      "cell_type": "code",
      "metadata": {
        "id": "K-9aWqdOndd2"
      },
      "source": [
        "df = pd.read_orc('10M.orc')"
      ],
      "execution_count": 13,
      "outputs": []
    },
    {
      "cell_type": "code",
      "metadata": {
        "id": "28gGDCTVniWG"
      },
      "source": [
        "# 1. Define the schema\n",
        "schema = {\n",
        "    'doc': 'Float data',\n",
        "    'name': 'Data',\n",
        "    'namespace': 'data',\n",
        "    'type': 'record',\n",
        "    'fields': [\n",
        "        {'name': 'a', 'type': 'float'},\n",
        "        {'name': 'b', 'type': 'float'},\n",
        "        {'name': 'c', 'type': 'float'},\n",
        "        {'name': 'd', 'type': 'float'},\n",
        "        {'name': 'e', 'type': 'float'},\n",
        "    ]\n",
        "}\n",
        "parsed_schema = parse_schema(schema)\n",
        "\n",
        "# 2. Convert pd.DataFrame to records - list of dictionaries\n",
        "records = df.to_dict('records')\n",
        "\n",
        "# 3. Write to Avro file\n",
        "with open('10M.avro', 'wb') as out:\n",
        "    writer(out, parsed_schema, records)"
      ],
      "execution_count": 14,
      "outputs": []
    },
    {
      "cell_type": "code",
      "metadata": {
        "id": "0jZYDU15oS4W"
      },
      "source": [
        "# 1. List to store the records\n",
        "avro_records = []\n",
        "\n",
        "# 2. Read the Avro file\n",
        "with open('10M.avro', 'rb') as fo:\n",
        "    avro_reader = reader(fo)\n",
        "    for record in avro_reader:\n",
        "        avro_records.append(record)\n",
        "        \n",
        "# 3. Convert to pd.DataFrame\n",
        "df = pd.DataFrame(avro_records)"
      ],
      "execution_count": 15,
      "outputs": []
    },
    {
      "cell_type": "code",
      "metadata": {
        "id": "bAsrz8YAoWUh"
      },
      "source": [
        "df.to_parquet('10M.parquet')"
      ],
      "execution_count": 16,
      "outputs": []
    },
    {
      "cell_type": "code",
      "metadata": {
        "id": "BrwOqHnpoXEV"
      },
      "source": [
        "df = pd.read_parquet('10M.parquet')"
      ],
      "execution_count": 17,
      "outputs": []
    },
    {
      "cell_type": "code",
      "metadata": {
        "id": "pAptdwkqoXTQ"
      },
      "source": [
        "with open('10M.pkl', 'wb') as f:\n",
        "    pickle.dump(df, f)"
      ],
      "execution_count": 18,
      "outputs": []
    },
    {
      "cell_type": "code",
      "metadata": {
        "id": "Qv_2zAsRoayh"
      },
      "source": [
        "with open('10M.pkl', 'rb') as f:\n",
        "    df = pickle.load(f)"
      ],
      "execution_count": 19,
      "outputs": []
    },
    {
      "cell_type": "code",
      "metadata": {
        "id": "igw9v8bPoa_e"
      },
      "source": [
        "feather.write_dataframe(df, '10M.feather')"
      ],
      "execution_count": 20,
      "outputs": []
    },
    {
      "cell_type": "code",
      "metadata": {
        "id": "Q4WrqY8RocfK"
      },
      "source": [
        "df = feather.read_dataframe('10M.feather')"
      ],
      "execution_count": 21,
      "outputs": []
    }
  ]
}