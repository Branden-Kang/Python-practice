{
  "nbformat": 4,
  "nbformat_minor": 0,
  "metadata": {
    "colab": {
      "provenance": [],
      "authorship_tag": "ABX9TyOJ8lAkGwUZv70W4e9CJJ5E"
    },
    "kernelspec": {
      "name": "python3",
      "display_name": "Python 3"
    },
    "language_info": {
      "name": "python"
    }
  },
  "cells": [
    {
      "cell_type": "markdown",
      "source": [
        "[Reference](https://medium.com/@dhruvahuja2330/date-time-in-python-datetime-pytz-module-and-more-285b50141140)"
      ],
      "metadata": {
        "id": "zHTFWnVrbx1z"
      }
    },
    {
      "cell_type": "markdown",
      "source": [
        "# 1. Getting the Current Date & Time"
      ],
      "metadata": {
        "id": "SyGPqDP_b1lU"
      }
    },
    {
      "cell_type": "code",
      "execution_count": 1,
      "metadata": {
        "colab": {
          "base_uri": "https://localhost:8080/"
        },
        "id": "1F-e05TVboZ2",
        "outputId": "de38d3e1-e5f5-487d-ea2e-e8a3738df061"
      },
      "outputs": [
        {
          "output_type": "stream",
          "name": "stdout",
          "text": [
            "2025-02-20 12:57:52.239224\n"
          ]
        }
      ],
      "source": [
        "from datetime import datetime\n",
        "\n",
        "now = datetime.now()\n",
        "print(now)"
      ]
    },
    {
      "cell_type": "code",
      "source": [
        "formatted_date = now.strftime(\"%Y-%m-%d %H:%M:%S\")\n",
        "print(formatted_date)"
      ],
      "metadata": {
        "colab": {
          "base_uri": "https://localhost:8080/"
        },
        "id": "53u4fPtob31f",
        "outputId": "3464db1c-7f71-4b81-e967-670f0755e460"
      },
      "execution_count": 2,
      "outputs": [
        {
          "output_type": "stream",
          "name": "stdout",
          "text": [
            "2025-02-20 12:57:52\n"
          ]
        }
      ]
    },
    {
      "cell_type": "markdown",
      "source": [
        "# 2. Formatting and Parsing Dates"
      ],
      "metadata": {
        "id": "TnF_Uergb6i8"
      }
    },
    {
      "cell_type": "code",
      "source": [
        "from datetime import datetime\n",
        "\n",
        "date_str = \"2024-10-04 16:30:00\"\n",
        "parsed_date = datetime.strptime(date_str, \"%Y-%m-%d %H:%M:%S\")\n",
        "print(parsed_date)"
      ],
      "metadata": {
        "colab": {
          "base_uri": "https://localhost:8080/"
        },
        "id": "iGRY3Sdxb5TD",
        "outputId": "0b03749f-0617-4455-ab1e-0cfb86cdeb65"
      },
      "execution_count": 3,
      "outputs": [
        {
          "output_type": "stream",
          "name": "stdout",
          "text": [
            "2024-10-04 16:30:00\n"
          ]
        }
      ]
    },
    {
      "cell_type": "code",
      "source": [
        "readable_format = now.strftime(\"%A, %B %d, %Y, %I:%M %p\")\n",
        "print(readable_format)"
      ],
      "metadata": {
        "colab": {
          "base_uri": "https://localhost:8080/"
        },
        "id": "CVfPMToMb9TA",
        "outputId": "83abb152-d761-4709-fde8-b0aaddc4ef61"
      },
      "execution_count": 4,
      "outputs": [
        {
          "output_type": "stream",
          "name": "stdout",
          "text": [
            "Thursday, February 20, 2025, 12:57 PM\n"
          ]
        }
      ]
    },
    {
      "cell_type": "markdown",
      "source": [
        "# 3. Time Zones: Handling UTC & Local Time"
      ],
      "metadata": {
        "id": "pl6Lah9eb_5f"
      }
    },
    {
      "cell_type": "markdown",
      "source": [
        "## Step 1: Install pytz"
      ],
      "metadata": {
        "id": "OKiM06SfcEEI"
      }
    },
    {
      "cell_type": "code",
      "source": [
        "pip install pytz"
      ],
      "metadata": {
        "colab": {
          "base_uri": "https://localhost:8080/"
        },
        "id": "ccs7dsMqcCdX",
        "outputId": "c244b648-86f8-4eda-ff31-7ca01764bd67"
      },
      "execution_count": 5,
      "outputs": [
        {
          "output_type": "stream",
          "name": "stdout",
          "text": [
            "Requirement already satisfied: pytz in /usr/local/lib/python3.11/dist-packages (2025.1)\n"
          ]
        }
      ]
    },
    {
      "cell_type": "markdown",
      "source": [
        "## Step 2: Convert Time Zones"
      ],
      "metadata": {
        "id": "KMSWrFtzcFqR"
      }
    },
    {
      "cell_type": "code",
      "source": [
        "from datetime import datetime\n",
        "import pytz\n",
        "\n",
        "utc_now = datetime.now(pytz.utc)  # Get current time in UTC\n",
        "ny_timezone = pytz.timezone('America/New_York')\n",
        "\n",
        "ny_time = utc_now.astimezone(ny_timezone)\n",
        "print(\"New York Time:\", ny_time)"
      ],
      "metadata": {
        "colab": {
          "base_uri": "https://localhost:8080/"
        },
        "id": "4sljGOD5b-8y",
        "outputId": "f29fba36-b7ee-4d29-e3c3-21b4069d5721"
      },
      "execution_count": 6,
      "outputs": [
        {
          "output_type": "stream",
          "name": "stdout",
          "text": [
            "New York Time: 2025-02-20 07:58:48.073151-05:00\n"
          ]
        }
      ]
    },
    {
      "cell_type": "markdown",
      "source": [
        "# 4. Date Arithmetic: Adding & Subtracting Time"
      ],
      "metadata": {
        "id": "bcq8ggmdcJf2"
      }
    },
    {
      "cell_type": "code",
      "source": [
        "from datetime import timedelta\n",
        "\n",
        "# Add 5 days to today\n",
        "future_date = now + timedelta(days=5)\n",
        "print(future_date)\n",
        "\n",
        "# Subtract 3 hours\n",
        "past_time = now - timedelta(hours=3)\n",
        "print(past_time)"
      ],
      "metadata": {
        "colab": {
          "base_uri": "https://localhost:8080/"
        },
        "id": "hPtyoU6qcHaq",
        "outputId": "e2e956bd-e717-4021-d895-297ef5513074"
      },
      "execution_count": 8,
      "outputs": [
        {
          "output_type": "stream",
          "name": "stdout",
          "text": [
            "2025-02-25 12:57:52.239224\n",
            "2025-02-20 09:57:52.239224\n"
          ]
        }
      ]
    },
    {
      "cell_type": "markdown",
      "source": [
        "# 5. Date and Time in Databases"
      ],
      "metadata": {
        "id": "JsqPCw0tcPTL"
      }
    },
    {
      "cell_type": "code",
      "source": [
        "from sqlalchemy import Column, Integer, DateTime\n",
        "from sqlalchemy.ext.declarative import declarative_base\n",
        "import pytz\n",
        "\n",
        "Base = declarative_base()\n",
        "\n",
        "class Event(Base):\n",
        "    __tablename__ = 'events'\n",
        "    id = Column(Integer, primary_key=True)\n",
        "    event_date = Column(DateTime, default=datetime.now(pytz.utc))  # Store in UTC"
      ],
      "metadata": {
        "colab": {
          "base_uri": "https://localhost:8080/"
        },
        "id": "9KlDHUcCcNhm",
        "outputId": "2a9e9683-d6a2-4bfa-f9f1-961a7414c404"
      },
      "execution_count": 9,
      "outputs": [
        {
          "output_type": "stream",
          "name": "stderr",
          "text": [
            "<ipython-input-9-cffcda0f14fd>:5: MovedIn20Warning: The ``declarative_base()`` function is now available as sqlalchemy.orm.declarative_base(). (deprecated since: 2.0) (Background on SQLAlchemy 2.0 at: https://sqlalche.me/e/b8d9)\n",
            "  Base = declarative_base()\n"
          ]
        }
      ]
    },
    {
      "cell_type": "markdown",
      "source": [
        "# 6. Scheduling Tasks in the Future"
      ],
      "metadata": {
        "id": "PNPcOpsPcZl4"
      }
    },
    {
      "cell_type": "code",
      "source": [
        "future_time = now + timedelta(minutes=30)\n",
        "print(f\"Task scheduled at {future_time}\")"
      ],
      "metadata": {
        "colab": {
          "base_uri": "https://localhost:8080/"
        },
        "id": "joJ1mMPvcVTM",
        "outputId": "0b9a0621-4768-4a86-8735-446d60393f97"
      },
      "execution_count": 12,
      "outputs": [
        {
          "output_type": "stream",
          "name": "stdout",
          "text": [
            "Task scheduled at 2025-02-20 13:27:52.239224\n"
          ]
        }
      ]
    },
    {
      "cell_type": "markdown",
      "source": [
        "# 7. Handling ISO 8601 Dates"
      ],
      "metadata": {
        "id": "6M_EkBq2cfUA"
      }
    },
    {
      "cell_type": "code",
      "source": [
        "iso_date_str = \"2024-10-04T16:30:00Z\"\n",
        "parsed_iso = datetime.fromisoformat(iso_date_str[:-1])\n",
        "print(parsed_iso)"
      ],
      "metadata": {
        "colab": {
          "base_uri": "https://localhost:8080/"
        },
        "id": "8bZmwJCwccCb",
        "outputId": "8fa4291a-1738-418d-e2a4-bf2fe2d20fc9"
      },
      "execution_count": 13,
      "outputs": [
        {
          "output_type": "stream",
          "name": "stdout",
          "text": [
            "2024-10-04 16:30:00\n"
          ]
        }
      ]
    },
    {
      "cell_type": "code",
      "source": [
        "now_iso = now.isoformat()\n",
        "print(now_iso)"
      ],
      "metadata": {
        "colab": {
          "base_uri": "https://localhost:8080/"
        },
        "id": "wp-4uQQ_ciWl",
        "outputId": "78360ea6-fd9d-4f2d-f5c0-faf53c1a1f2f"
      },
      "execution_count": 14,
      "outputs": [
        {
          "output_type": "stream",
          "name": "stdout",
          "text": [
            "2025-02-20T12:57:52.239224\n"
          ]
        }
      ]
    },
    {
      "cell_type": "markdown",
      "source": [
        "# 8. Time Deltas: Differences Between Dates"
      ],
      "metadata": {
        "id": "KDtfOFPRcnHk"
      }
    },
    {
      "cell_type": "code",
      "source": [
        "birthday = datetime(1990, 10, 10)\n",
        "age = now - birthday\n",
        "print(f\"Days lived: {age.days}\")"
      ],
      "metadata": {
        "colab": {
          "base_uri": "https://localhost:8080/"
        },
        "id": "or7RAm-DcmHz",
        "outputId": "c345549e-0732-47fa-cd64-b1b4a5115409"
      },
      "execution_count": 15,
      "outputs": [
        {
          "output_type": "stream",
          "name": "stdout",
          "text": [
            "Days lived: 12552\n"
          ]
        }
      ]
    }
  ]
}
