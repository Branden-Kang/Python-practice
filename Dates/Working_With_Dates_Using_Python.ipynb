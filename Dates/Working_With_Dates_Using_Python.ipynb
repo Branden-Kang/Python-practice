{
  "nbformat": 4,
  "nbformat_minor": 0,
  "metadata": {
    "colab": {
      "name": "Working With Dates Using Python.ipynb",
      "provenance": [],
      "collapsed_sections": [],
      "authorship_tag": "ABX9TyOVw0FJ2Uf3V8dU383/s6UO"
    },
    "kernelspec": {
      "name": "python3",
      "display_name": "Python 3"
    },
    "language_info": {
      "name": "python"
    }
  },
  "cells": [
    {
      "cell_type": "markdown",
      "source": [
        "[Reference](https://medium.com/@natashanewbold/working-with-dates-using-python-52afcefe5942)"
      ],
      "metadata": {
        "id": "XnzPLJu0nuw0"
      }
    },
    {
      "cell_type": "code",
      "execution_count": 1,
      "metadata": {
        "colab": {
          "base_uri": "https://localhost:8080/"
        },
        "id": "X8voq2Qrntc1",
        "outputId": "259e16c8-0260-4d82-b87c-1c05f4a899a0"
      },
      "outputs": [
        {
          "output_type": "stream",
          "name": "stdout",
          "text": [
            "2021-02-01\n",
            "2021-02-02\n",
            "2021-02-03\n",
            "2021-02-04\n",
            "2021-02-05\n",
            "2021-02-06\n",
            "2021-02-07\n",
            "2021-02-08\n",
            "2021-02-09\n",
            "2021-02-10\n",
            "2021-02-11\n",
            "2021-02-12\n",
            "2021-02-13\n",
            "2021-02-14\n",
            "2021-02-15\n",
            "2021-02-16\n",
            "2021-02-17\n",
            "2021-02-18\n",
            "2021-02-19\n",
            "2021-02-20\n",
            "2021-02-21\n",
            "2021-02-22\n",
            "2021-02-23\n",
            "2021-02-24\n",
            "2021-02-25\n",
            "2021-02-26\n",
            "2021-02-27\n",
            "2021-02-28\n",
            "2021-03-01\n"
          ]
        }
      ],
      "source": [
        "# import datetime module\n",
        "import datetime\n",
        "  \n",
        "# consider the start date as 2021-february 1 st\n",
        "start_date = datetime.date(2021, 2, 1)\n",
        "  \n",
        "# consider the end date as 2021-march 1 st\n",
        "end_date = datetime.date(2021, 3, 1)\n",
        "  \n",
        "# delta time\n",
        "delta = datetime.timedelta(days=1)\n",
        "  \n",
        "# iterate over range of dates\n",
        "while (start_date <= end_date):\n",
        "    print(start_date, end=\"\\n\")\n",
        "    start_date += delta"
      ]
    },
    {
      "cell_type": "code",
      "source": [
        "# import pandas module\n",
        "import pandas as pd\n",
        "  \n",
        "# specify the start date is 2021 jan 1 st\n",
        "# specify the emd date is 2021 feb 1 st\n",
        "a = pd.date_range(start='1/1/2021', end='2/1/2021')\n",
        "  \n",
        "# display only date using date() function\n",
        "for i in a:\n",
        "    print(i.date())"
      ],
      "metadata": {
        "colab": {
          "base_uri": "https://localhost:8080/"
        },
        "id": "p5BJ3EsTnxtB",
        "outputId": "0e0fba0f-dfc6-4179-d222-161b938239d9"
      },
      "execution_count": 2,
      "outputs": [
        {
          "output_type": "stream",
          "name": "stdout",
          "text": [
            "2021-01-01\n",
            "2021-01-02\n",
            "2021-01-03\n",
            "2021-01-04\n",
            "2021-01-05\n",
            "2021-01-06\n",
            "2021-01-07\n",
            "2021-01-08\n",
            "2021-01-09\n",
            "2021-01-10\n",
            "2021-01-11\n",
            "2021-01-12\n",
            "2021-01-13\n",
            "2021-01-14\n",
            "2021-01-15\n",
            "2021-01-16\n",
            "2021-01-17\n",
            "2021-01-18\n",
            "2021-01-19\n",
            "2021-01-20\n",
            "2021-01-21\n",
            "2021-01-22\n",
            "2021-01-23\n",
            "2021-01-24\n",
            "2021-01-25\n",
            "2021-01-26\n",
            "2021-01-27\n",
            "2021-01-28\n",
            "2021-01-29\n",
            "2021-01-30\n",
            "2021-01-31\n",
            "2021-02-01\n"
          ]
        }
      ]
    },
    {
      "cell_type": "code",
      "source": [
        "# Python3 code to demonstrate\n",
        "# Getting datetime object using a date_string\n",
        "  \n",
        "# importing datetime module\n",
        "import datetime\n",
        "  \n",
        "# datestring for which datetime_obj required\n",
        "date_string = '2021-09-01 15:27:05'\n",
        "  \n",
        "# using strptime() to get datetime object\n",
        "datetime_obj = datetime.datetime.strptime(date_string, '%Y-%m-%d %H:%M:%S')\n",
        "  \n",
        "# Printing datetime\n",
        "print(datetime_obj)"
      ],
      "metadata": {
        "colab": {
          "base_uri": "https://localhost:8080/"
        },
        "id": "wla-uGsYnzVq",
        "outputId": "cf8fc4b5-cdcb-4070-dbab-56e47e9825b1"
      },
      "execution_count": 3,
      "outputs": [
        {
          "output_type": "stream",
          "name": "stdout",
          "text": [
            "2021-09-01 15:27:05\n"
          ]
        }
      ]
    },
    {
      "cell_type": "code",
      "source": [
        "# importing datetime module\n",
        "from datetime import datetime\n",
        "  \n",
        "# Getting today's date\n",
        "todays_Date = datetime.now()\n",
        "  \n",
        "# Get date into the isoformat\n",
        "isoformat_date = todays_Date.isoformat()\n",
        "  \n",
        "# print the type of date\n",
        "print(type(isoformat_date))\n",
        "  \n",
        "# convert string date into datetime format\n",
        "result = datetime.fromisoformat(isoformat_date)\n",
        "print(type(result))"
      ],
      "metadata": {
        "colab": {
          "base_uri": "https://localhost:8080/"
        },
        "id": "Oepaymwpn1A4",
        "outputId": "f9c70dfe-ac2a-45a8-ff20-8d124a6e0088"
      },
      "execution_count": 4,
      "outputs": [
        {
          "output_type": "stream",
          "name": "stdout",
          "text": [
            "<class 'str'>\n",
            "<class 'datetime.datetime'>\n"
          ]
        }
      ]
    },
    {
      "cell_type": "code",
      "source": [
        "# importing datetime module\n",
        "from datetime import datetime\n",
        "import dateutil\n",
        "  \n",
        "# Getting today's date\n",
        "todays_Date = datetime.now()\n",
        "isoformat_date = todays_Date.isoformat()\n",
        "  \n",
        "# display isoformat type\n",
        "print(type(isoformat_date))\n",
        "  \n",
        "# convert it into datetime and display\n",
        "result = dateutil.parser.parse(isoformat_date)\n",
        "print(type(result))"
      ],
      "metadata": {
        "colab": {
          "base_uri": "https://localhost:8080/"
        },
        "id": "e-bZVQ-Yn2cy",
        "outputId": "6e09a378-a073-4d2f-ae6f-c4cd08e97394"
      },
      "execution_count": 5,
      "outputs": [
        {
          "output_type": "stream",
          "name": "stdout",
          "text": [
            "<class 'str'>\n",
            "<class 'datetime.datetime'>\n"
          ]
        }
      ]
    }
  ]
}
