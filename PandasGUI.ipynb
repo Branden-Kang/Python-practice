{
 "cells": [
  {
   "cell_type": "markdown",
   "metadata": {
    "id": "k_D93q6W1HTY"
   },
   "source": [
    "[Reference](https://github.com/adamerose/pandasgui)"
   ]
  },
  {
   "cell_type": "code",
   "execution_count": 1,
   "metadata": {
    "colab": {
     "base_uri": "https://localhost:8080/",
     "height": 955
    },
    "id": "SbeBcg64wF0X",
    "outputId": "8ca4621b-6b95-4b31-be49-54ef0439b419"
   },
   "outputs": [
    {
     "name": "stdout",
     "output_type": "stream",
     "text": [
      "Collecting pandasgui\n",
      "\u001b[?25l  Downloading https://files.pythonhosted.org/packages/30/5e/73fbfe9c5ea894488defcdb9d303ccbc1e2ed6a137f50100ec2c86f0309a/pandasgui-0.2.5.1.tar.gz (83kB)\n",
      "\u001b[K     |████████████████████████████████| 92kB 2.6MB/s \n",
      "\u001b[?25hRequirement already satisfied: pandas in /usr/local/lib/python3.6/dist-packages (from pandasgui) (1.1.2)\n",
      "Collecting PyQt5\n",
      "\u001b[?25l  Downloading https://files.pythonhosted.org/packages/4c/bb/7fce18fbe0275d7a3e069a306d8f4662c77eda30ec6780634fd4a7ee50ce/PyQt5-5.15.1-5.15.1-cp35.cp36.cp37.cp38.cp39-abi3-manylinux2014_x86_64.whl (71.6MB)\n",
      "\u001b[K     |████████████████████████████████| 71.6MB 72kB/s \n",
      "\u001b[?25hCollecting PyQtWebEngine\n",
      "\u001b[?25l  Downloading https://files.pythonhosted.org/packages/02/8b/becb67d45d0b30afd68fa64c0292ef53d448e0345c7e9083923e859d0888/PyQtWebEngine-5.15.1-5.15.1-cp35.cp36.cp37.cp38.cp39-abi3-manylinux2014_x86_64.whl (66.1MB)\n",
      "\u001b[K     |████████████████████████████████| 66.2MB 31kB/s \n",
      "\u001b[?25hRequirement already satisfied: plotly in /usr/local/lib/python3.6/dist-packages (from pandasgui) (4.4.1)\n",
      "Requirement already satisfied: setuptools in /usr/local/lib/python3.6/dist-packages (from pandasgui) (50.3.0)\n",
      "Collecting appdirs\n",
      "  Downloading https://files.pythonhosted.org/packages/3b/00/2344469e2084fb287c2e0b57b72910309874c3245463acd6cf5e3db69324/appdirs-1.4.4-py2.py3-none-any.whl\n",
      "Collecting dacite\n",
      "  Downloading https://files.pythonhosted.org/packages/20/c2/8a82f9bda39fd43948f5104308e4feebe931ea550791a4ff5d1459fa9717/dacite-1.5.1-py3-none-any.whl\n",
      "Collecting pynput\n",
      "\u001b[?25l  Downloading https://files.pythonhosted.org/packages/89/66/0e62f409bb785db78ae5d228e6b1bf1e80d210744bcd21b9487417b049f5/pynput-1.7.1-py2.py3-none-any.whl (99kB)\n",
      "\u001b[K     |████████████████████████████████| 102kB 10.7MB/s \n",
      "\u001b[?25hRequirement already satisfied: IPython in /usr/local/lib/python3.6/dist-packages (from pandasgui) (5.5.0)\n",
      "Requirement already satisfied: numpy>=1.15.4 in /usr/local/lib/python3.6/dist-packages (from pandas->pandasgui) (1.18.5)\n",
      "Requirement already satisfied: pytz>=2017.2 in /usr/local/lib/python3.6/dist-packages (from pandas->pandasgui) (2018.9)\n",
      "Requirement already satisfied: python-dateutil>=2.7.3 in /usr/local/lib/python3.6/dist-packages (from pandas->pandasgui) (2.8.1)\n",
      "Collecting PyQt5-sip<13,>=12.8\n",
      "\u001b[?25l  Downloading https://files.pythonhosted.org/packages/f5/a7/3c52a17b065bcc69a6ca791b88901feeacd410235ec4b23441d975d0ecf4/PyQt5_sip-12.8.1-cp36-cp36m-manylinux1_x86_64.whl (278kB)\n",
      "\u001b[K     |████████████████████████████████| 286kB 44.2MB/s \n",
      "\u001b[?25hRequirement already satisfied: retrying>=1.3.3 in /usr/local/lib/python3.6/dist-packages (from plotly->pandasgui) (1.3.3)\n",
      "Requirement already satisfied: six in /usr/local/lib/python3.6/dist-packages (from plotly->pandasgui) (1.15.0)\n",
      "Requirement already satisfied: dataclasses; python_version < \"3.7\" in /usr/local/lib/python3.6/dist-packages (from dacite->pandasgui) (0.7)\n",
      "Collecting python-xlib>=0.17; \"linux\" in sys_platform\n",
      "\u001b[?25l  Downloading https://files.pythonhosted.org/packages/ae/d1/bbe7165cf33890cae9e30abb94fb153d54c6c78ab487bd9bb1c242453d23/python_xlib-0.28-py2.py3-none-any.whl (176kB)\n",
      "\u001b[K     |████████████████████████████████| 184kB 44.9MB/s \n",
      "\u001b[?25hCollecting evdev>=1.3; \"linux\" in sys_platform\n",
      "  Downloading https://files.pythonhosted.org/packages/89/83/5f5635fd0d91a08ac355dd9ca9bde34bfa6b29a5c59f703ad83d1ad0bf34/evdev-1.3.0.tar.gz\n",
      "Requirement already satisfied: pygments in /usr/local/lib/python3.6/dist-packages (from IPython->pandasgui) (2.6.1)\n",
      "Requirement already satisfied: decorator in /usr/local/lib/python3.6/dist-packages (from IPython->pandasgui) (4.4.2)\n",
      "Requirement already satisfied: prompt-toolkit<2.0.0,>=1.0.4 in /usr/local/lib/python3.6/dist-packages (from IPython->pandasgui) (1.0.18)\n",
      "Requirement already satisfied: pexpect; sys_platform != \"win32\" in /usr/local/lib/python3.6/dist-packages (from IPython->pandasgui) (4.8.0)\n",
      "Requirement already satisfied: traitlets>=4.2 in /usr/local/lib/python3.6/dist-packages (from IPython->pandasgui) (4.3.3)\n",
      "Requirement already satisfied: pickleshare in /usr/local/lib/python3.6/dist-packages (from IPython->pandasgui) (0.7.5)\n",
      "Requirement already satisfied: simplegeneric>0.8 in /usr/local/lib/python3.6/dist-packages (from IPython->pandasgui) (0.8.1)\n",
      "Requirement already satisfied: wcwidth in /usr/local/lib/python3.6/dist-packages (from prompt-toolkit<2.0.0,>=1.0.4->IPython->pandasgui) (0.2.5)\n",
      "Requirement already satisfied: ptyprocess>=0.5 in /usr/local/lib/python3.6/dist-packages (from pexpect; sys_platform != \"win32\"->IPython->pandasgui) (0.6.0)\n",
      "Requirement already satisfied: ipython-genutils in /usr/local/lib/python3.6/dist-packages (from traitlets>=4.2->IPython->pandasgui) (0.2.0)\n",
      "Building wheels for collected packages: pandasgui, evdev\n",
      "  Building wheel for pandasgui (setup.py) ... \u001b[?25l\u001b[?25hdone\n",
      "  Created wheel for pandasgui: filename=pandasgui-0.2.5.1-cp36-none-any.whl size=93874 sha256=a36145c9e6bd87edf77195bae611509767d60a972e6ee26c75857feb9608b086\n",
      "  Stored in directory: /root/.cache/pip/wheels/6f/70/96/4fc43913621d06b9a8b0d71817ad3ab12ac2798e85397f9faf\n",
      "  Building wheel for evdev (setup.py) ... \u001b[?25l\u001b[?25hdone\n",
      "  Created wheel for evdev: filename=evdev-1.3.0-cp36-cp36m-linux_x86_64.whl size=94118 sha256=945af90d62c6135e44c4f37e19d69067d4935469f188a3851026d9fbe3daa6f0\n",
      "  Stored in directory: /root/.cache/pip/wheels/3e/8d/02/a7f482e01af02be59232ad61ad8eed5b21156b49d32df64a11\n",
      "Successfully built pandasgui evdev\n",
      "Installing collected packages: PyQt5-sip, PyQt5, PyQtWebEngine, appdirs, dacite, python-xlib, evdev, pynput, pandasgui\n",
      "Successfully installed PyQt5-5.15.1 PyQt5-sip-12.8.1 PyQtWebEngine-5.15.1 appdirs-1.4.4 dacite-1.5.1 evdev-1.3.0 pandasgui-0.2.5.1 pynput-1.7.1 python-xlib-0.28\n"
     ]
    }
   ],
   "source": [
    "!pip install pandasgui"
   ]
  },
  {
   "cell_type": "code",
   "execution_count": 1,
   "metadata": {
    "ExecuteTime": {
     "end_time": "2020-10-22T15:08:57.298312Z",
     "start_time": "2020-10-22T15:08:54.461634Z"
    },
    "colab": {
     "base_uri": "https://localhost:8080/",
     "height": 630
    },
    "id": "0w9W0leQ1YZ-",
    "outputId": "e4ecd838-cfa1-4f86-e1da-e597ec803045"
   },
   "outputs": [],
   "source": [
    "import pandasgui"
   ]
  },
  {
   "cell_type": "code",
   "execution_count": 2,
   "metadata": {
    "ExecuteTime": {
     "end_time": "2020-10-22T15:09:07.254114Z",
     "start_time": "2020-10-22T15:09:00.661080Z"
    },
    "colab": {
     "base_uri": "https://localhost:8080/",
     "height": 715
    },
    "id": "LPxl-O5j1BnP",
    "outputId": "1406dc31-ad6d-406a-d3f5-9411197c0ca7"
   },
   "outputs": [
    {
     "data": {
      "text/plain": [
       "<pandasgui.gui.PandasGui at 0x7fbd157815e8>"
      ]
     },
     "execution_count": 2,
     "metadata": {},
     "output_type": "execute_result"
    }
   ],
   "source": [
    "import pandas as pd\n",
    "from pandasgui import show\n",
    "\n",
    "df = pd.DataFrame(([[1, 2, 3], [4, 5, 6], [7, 8, 9]]), columns=['a', 'b', 'c'])\n",
    "show(df)"
   ]
  },
  {
   "cell_type": "code",
   "execution_count": 3,
   "metadata": {
    "ExecuteTime": {
     "end_time": "2020-10-22T15:10:03.372906Z",
     "start_time": "2020-10-22T15:09:52.557862Z"
    },
    "id": "Ij7-_R8i1EcO"
   },
   "outputs": [
    {
     "data": {
      "text/plain": [
       "<pandasgui.gui.PandasGui at 0x7fbd187ddf78>"
      ]
     },
     "execution_count": 3,
     "metadata": {},
     "output_type": "execute_result"
    }
   ],
   "source": [
    "# This will pause the script until you close the GUI\n",
    "show(df, settings={'block': True})"
   ]
  },
  {
   "cell_type": "code",
   "execution_count": 4,
   "metadata": {
    "ExecuteTime": {
     "end_time": "2020-10-22T15:10:21.743716Z",
     "start_time": "2020-10-22T15:10:06.974314Z"
    },
    "id": "UVnKt2h11kD6"
   },
   "outputs": [
    {
     "name": "stdout",
     "output_type": "stream",
     "text": [
      "PandasGUI INFO — pandasgui.datasets — Saved https://raw.githubusercontent.com/adamerose/datasets/master/pokemon.csv to /Users/kang/Library/Application Support/pandasgui/dataset_files\n",
      "PandasGUI INFO — pandasgui.datasets — Saved https://raw.githubusercontent.com/adamerose/datasets/master/car_crashes.csv to /Users/kang/Library/Application Support/pandasgui/dataset_files\n",
      "PandasGUI INFO — pandasgui.datasets — Saved https://raw.githubusercontent.com/adamerose/datasets/master/iris.csv to /Users/kang/Library/Application Support/pandasgui/dataset_files\n",
      "PandasGUI INFO — pandasgui.datasets — Saved https://raw.githubusercontent.com/adamerose/datasets/master/mpg.csv to /Users/kang/Library/Application Support/pandasgui/dataset_files\n",
      "PandasGUI INFO — pandasgui.datasets — Saved https://raw.githubusercontent.com/adamerose/datasets/master/penguins.csv to /Users/kang/Library/Application Support/pandasgui/dataset_files\n",
      "PandasGUI INFO — pandasgui.datasets — Saved https://raw.githubusercontent.com/adamerose/datasets/master/tips.csv to /Users/kang/Library/Application Support/pandasgui/dataset_files\n",
      "PandasGUI INFO — pandasgui.datasets — Saved https://raw.githubusercontent.com/adamerose/datasets/master/titanic.csv to /Users/kang/Library/Application Support/pandasgui/dataset_files\n",
      "PandasGUI INFO — pandasgui.datasets — Saved https://raw.githubusercontent.com/adamerose/datasets/master/gapminder.csv to /Users/kang/Library/Application Support/pandasgui/dataset_files\n",
      "PandasGUI INFO — pandasgui.datasets — Saved https://raw.githubusercontent.com/adamerose/datasets/master/stockdata.csv to /Users/kang/Library/Application Support/pandasgui/dataset_files\n",
      "PandasGUI INFO — pandasgui.datasets — Saved https://raw.githubusercontent.com/adamerose/datasets/master/mi_manufacturing.csv to /Users/kang/Library/Application Support/pandasgui/dataset_files\n"
     ]
    },
    {
     "data": {
      "text/plain": [
       "<pandasgui.gui.PandasGui at 0x7fbd187beaf8>"
      ]
     },
     "execution_count": 4,
     "metadata": {},
     "output_type": "execute_result"
    }
   ],
   "source": [
    "from pandasgui import show\n",
    "from pandasgui.datasets import pokemon, titanic, all_datasets\n",
    "show(pokemon, titanic)\n",
    "show(**all_datasets)"
   ]
  }
 ],
 "metadata": {
  "colab": {
   "name": "PandasGUI.ipynb",
   "provenance": []
  },
  "hide_input": false,
  "kernelspec": {
   "display_name": "Python 3",
   "language": "python",
   "name": "python3"
  },
  "language_info": {
   "codemirror_mode": {
    "name": "ipython",
    "version": 3
   },
   "file_extension": ".py",
   "mimetype": "text/x-python",
   "name": "python",
   "nbconvert_exporter": "python",
   "pygments_lexer": "ipython3",
   "version": "3.7.3"
  },
  "varInspector": {
   "cols": {
    "lenName": 16,
    "lenType": 16,
    "lenVar": 40
   },
   "kernels_config": {
    "python": {
     "delete_cmd_postfix": "",
     "delete_cmd_prefix": "del ",
     "library": "var_list.py",
     "varRefreshCmd": "print(var_dic_list())"
    },
    "r": {
     "delete_cmd_postfix": ") ",
     "delete_cmd_prefix": "rm(",
     "library": "var_list.r",
     "varRefreshCmd": "cat(var_dic_list()) "
    }
   },
   "types_to_exclude": [
    "module",
    "function",
    "builtin_function_or_method",
    "instance",
    "_Feature"
   ],
   "window_display": false
  }
 },
 "nbformat": 4,
 "nbformat_minor": 1
}
