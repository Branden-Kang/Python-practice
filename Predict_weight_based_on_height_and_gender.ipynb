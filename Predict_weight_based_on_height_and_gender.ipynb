{
  "nbformat": 4,
  "nbformat_minor": 0,
  "metadata": {
    "colab": {
      "name": "Predict weight based on height and gender.ipynb",
      "provenance": [],
      "authorship_tag": "ABX9TyPKHE/SHkRqvy13iIYHqMgp"
    },
    "kernelspec": {
      "name": "python3",
      "display_name": "Python 3"
    }
  },
  "cells": [
    {
      "cell_type": "markdown",
      "metadata": {
        "id": "jy779VZ0eHHW",
        "colab_type": "text"
      },
      "source": [
        "[Reference](https://towardsdatascience.com/machine-learning-project-9-predict-weight-based-on-height-and-gender-9ed47285bcbb)"
      ]
    },
    {
      "cell_type": "code",
      "metadata": {
        "id": "P7ymNINqeGuj",
        "colab_type": "code",
        "colab": {}
      },
      "source": [
        "# Step 1 - Load data\n",
        "import pandas as pd\n",
        "dataset = pd.read_csv(\"https://raw.githubusercontent.com/omairaasim/machine_learning/master/project_9_predict_weight_sex/weight-height.csv\")"
      ],
      "execution_count": 1,
      "outputs": []
    },
    {
      "cell_type": "code",
      "metadata": {
        "id": "eiwXn3BDeGJ6",
        "colab_type": "code",
        "colab": {
          "base_uri": "https://localhost:8080/",
          "height": 255
        },
        "outputId": "b8a6f2af-c2e8-46bf-d0e8-1ba9204ab0d2"
      },
      "source": [
        "# Step 2 - Analyze Data\n",
        "dataset.info()\n",
        "dataset.describe()\n",
        "dataset.isnull().sum()"
      ],
      "execution_count": 2,
      "outputs": [
        {
          "output_type": "stream",
          "text": [
            "<class 'pandas.core.frame.DataFrame'>\n",
            "RangeIndex: 10000 entries, 0 to 9999\n",
            "Data columns (total 3 columns):\n",
            " #   Column  Non-Null Count  Dtype  \n",
            "---  ------  --------------  -----  \n",
            " 0   Gender  10000 non-null  object \n",
            " 1   Height  10000 non-null  float64\n",
            " 2   Weight  10000 non-null  float64\n",
            "dtypes: float64(2), object(1)\n",
            "memory usage: 234.5+ KB\n"
          ],
          "name": "stdout"
        },
        {
          "output_type": "execute_result",
          "data": {
            "text/plain": [
              "Gender    0\n",
              "Height    0\n",
              "Weight    0\n",
              "dtype: int64"
            ]
          },
          "metadata": {
            "tags": []
          },
          "execution_count": 2
        }
      ]
    },
    {
      "cell_type": "code",
      "metadata": {
        "id": "zFO6OfQOeWEM",
        "colab_type": "code",
        "colab": {}
      },
      "source": [
        "# Step 3 - Convert Gender to number \n",
        "# Using LabelEncoder\n",
        "X = dataset.iloc[:, :-1].values\n",
        "y = dataset.iloc[:, 2].values\n",
        "from sklearn.preprocessing import LabelEncoder\n",
        "labelEncoder_gender =  LabelEncoder()\n",
        "X[:,0] = labelEncoder_gender.fit_transform(X[:,0])\n",
        "\n",
        "# Optional - if you want to convert X to float data type\n",
        "import numpy as np\n",
        "X = np.vstack(X[:, :]).astype(np.float)"
      ],
      "execution_count": 3,
      "outputs": []
    },
    {
      "cell_type": "code",
      "metadata": {
        "id": "wHeb1oBveYfk",
        "colab_type": "code",
        "colab": {}
      },
      "source": [
        "# # Step 3 - Convert Gender to number \n",
        "# # Replace directly in dataframe\n",
        "# dataset['Gender'].replace('Female',0, inplace=True)\n",
        "# dataset['Gender'].replace('Male',1, inplace=True)\n",
        "# X = dataset.iloc[:, :-1].values\n",
        "# y = dataset.iloc[:, 2].values"
      ],
      "execution_count": 4,
      "outputs": []
    },
    {
      "cell_type": "code",
      "metadata": {
        "id": "yFAERq3zel0B",
        "colab_type": "code",
        "colab": {}
      },
      "source": [
        "# Step 4 - Split data\n",
        "from sklearn.model_selection import train_test_split\n",
        "X_train, X_test, y_train, y_test = train_test_split(X, y, test_size=0.2, random_state=0)"
      ],
      "execution_count": 5,
      "outputs": []
    },
    {
      "cell_type": "code",
      "metadata": {
        "id": "eSLp53nFem0s",
        "colab_type": "code",
        "colab": {
          "base_uri": "https://localhost:8080/",
          "height": 34
        },
        "outputId": "1fa2feba-4e0b-4484-dd9e-be9f6fd1f243"
      },
      "source": [
        "# Step 5 - Fit Regression Model\n",
        "from sklearn.linear_model import LinearRegression\n",
        "lin_reg = LinearRegression()\n",
        "lin_reg.fit(X_train, y_train)"
      ],
      "execution_count": 6,
      "outputs": [
        {
          "output_type": "execute_result",
          "data": {
            "text/plain": [
              "LinearRegression(copy_X=True, fit_intercept=True, n_jobs=None, normalize=False)"
            ]
          },
          "metadata": {
            "tags": []
          },
          "execution_count": 6
        }
      ]
    },
    {
      "cell_type": "code",
      "metadata": {
        "id": "VlKFV25Aeooi",
        "colab_type": "code",
        "colab": {}
      },
      "source": [
        "# Step 6 - Make Prediction using test data\n",
        "lin_pred = lin_reg.predict(X_test)"
      ],
      "execution_count": 7,
      "outputs": []
    },
    {
      "cell_type": "code",
      "metadata": {
        "id": "iIMaHEzNe0yT",
        "colab_type": "code",
        "colab": {
          "base_uri": "https://localhost:8080/",
          "height": 68
        },
        "outputId": "075ad0b0-8993-41fb-d84d-d770fd682198"
      },
      "source": [
        "# Step 7 - Model Accuracy\n",
        "from sklearn import metrics\n",
        "print('R square = ',metrics.r2_score(y_test, lin_pred))\n",
        "print('Mean squared Error = ',metrics.mean_squared_error(y_test, lin_pred))\n",
        "print('Mean absolute Error = ',metrics.mean_absolute_error(y_test, lin_pred))"
      ],
      "execution_count": 8,
      "outputs": [
        {
          "output_type": "stream",
          "text": [
            "R square =  0.9052889824534557\n",
            "Mean squared Error =  97.87152220196162\n",
            "Mean absolute Error =  7.955916525326744\n"
          ],
          "name": "stdout"
        }
      ]
    },
    {
      "cell_type": "code",
      "metadata": {
        "id": "EvsA8-eieqtV",
        "colab_type": "code",
        "colab": {}
      },
      "source": [
        "# Step 8 - Predict my weight\n",
        "my_weight_pred = lin_reg.predict([[0,74]])"
      ],
      "execution_count": 9,
      "outputs": []
    }
  ]
}