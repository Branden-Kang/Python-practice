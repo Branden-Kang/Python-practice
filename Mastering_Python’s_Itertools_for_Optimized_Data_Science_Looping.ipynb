{
  "nbformat": 4,
  "nbformat_minor": 0,
  "metadata": {
    "colab": {
      "provenance": [],
      "authorship_tag": "ABX9TyOUXI0EUmE5VzzHqviCsUKN"
    },
    "kernelspec": {
      "name": "python3",
      "display_name": "Python 3"
    },
    "language_info": {
      "name": "python"
    }
  },
  "cells": [
    {
      "cell_type": "markdown",
      "source": [
        "[Reference](https://python.plainenglish.io/mastering-pythons-itertools-for-optimized-data-science-looping-b33f3c4d0bbd)"
      ],
      "metadata": {
        "id": "uE4VXLTPw3Dl"
      }
    },
    {
      "cell_type": "markdown",
      "source": [
        "# Infinite iterators\n",
        "## count()"
      ],
      "metadata": {
        "id": "-XbKYDm_w7nh"
      }
    },
    {
      "cell_type": "code",
      "execution_count": 1,
      "metadata": {
        "colab": {
          "base_uri": "https://localhost:8080/"
        },
        "id": "_NNiYcPzwqmB",
        "outputId": "87945241-fb46-4ad4-c7b2-17cee2a911d7"
      },
      "outputs": [
        {
          "output_type": "stream",
          "name": "stdout",
          "text": [
            "{1: 70, 2: 71, 3: 69, 4: 68, 5: 70}\n"
          ]
        }
      ],
      "source": [
        "from itertools import count\n",
        "\n",
        "# Start counting from 1\n",
        "counter = count(start=1)\n",
        "\n",
        "# Simulated data points for weight measurements\n",
        "weight_data = [70, 71, 69, 68, 70]\n",
        "\n",
        "# Create a dictionary with indexes for each weight\n",
        "indexed_data = {}\n",
        "for index, weight in zip(counter, weight_data):\n",
        "    indexed_data[index] = weight\n",
        "print(indexed_data)"
      ]
    },
    {
      "cell_type": "markdown",
      "source": [
        "## cycle()"
      ],
      "metadata": {
        "id": "cCPFHeWPw_kd"
      }
    },
    {
      "cell_type": "code",
      "source": [
        "from itertools import cycle, islice\n",
        "\n",
        "# Create a cycle of days of the week\n",
        "days_of_week = cycle(['Mon', 'Tue', 'Wed', 'Thu', 'Fri', 'Sat', 'Sun'])\n",
        "\n",
        "# Simulated temperature data for 7 days\n",
        "temperatures = [23, 25, 22, 21, 20, 19, 24]\n",
        "\n",
        "# Pair each temperature with a day of the week for the next two weeks\n",
        "next_two_weeks_temp = list(zip(islice(days_of_week, 14), temperatures * 2))\n",
        "\n",
        "print(next_two_weeks_temp)"
      ],
      "metadata": {
        "colab": {
          "base_uri": "https://localhost:8080/"
        },
        "id": "_609Cqt9w-U1",
        "outputId": "d4d82952-493a-4fff-a89c-d545491c5dfe"
      },
      "execution_count": 2,
      "outputs": [
        {
          "output_type": "stream",
          "name": "stdout",
          "text": [
            "[('Mon', 23), ('Tue', 25), ('Wed', 22), ('Thu', 21), ('Fri', 20), ('Sat', 19), ('Sun', 24), ('Mon', 23), ('Tue', 25), ('Wed', 22), ('Thu', 21), ('Fri', 20), ('Sat', 19), ('Sun', 24)]\n"
          ]
        }
      ]
    },
    {
      "cell_type": "markdown",
      "source": [
        "## repeat()"
      ],
      "metadata": {
        "id": "cD-XOXTAxCu-"
      }
    },
    {
      "cell_type": "code",
      "source": [
        "from itertools import repeat\n",
        "\n",
        "# Use repeat to generate the same revenue for the next 3 months\n",
        "revenue_projection = list(repeat(5000, 3))\n",
        "\n",
        "# Existing revenue data for past months\n",
        "past_revenue = [4000, 4200, 4500]\n",
        "\n",
        "# Combine past revenue and future projections\n",
        "total_revenue = past_revenue + revenue_projection\n",
        "\n",
        "print(total_revenue)"
      ],
      "metadata": {
        "colab": {
          "base_uri": "https://localhost:8080/"
        },
        "id": "konQZewbxBjM",
        "outputId": "1008f1ec-0cc8-4bbc-ed0e-d09edc2b6391"
      },
      "execution_count": 3,
      "outputs": [
        {
          "output_type": "stream",
          "name": "stdout",
          "text": [
            "[4000, 4200, 4500, 5000, 5000, 5000]\n"
          ]
        }
      ]
    },
    {
      "cell_type": "markdown",
      "source": [
        "# Finite iterators\n",
        "## chain()"
      ],
      "metadata": {
        "id": "W1Ew0C1TxGd9"
      }
    },
    {
      "cell_type": "code",
      "source": [
        "from itertools import chain\n",
        "\n",
        "# Quarterly sales data for a year\n",
        "Q1_sales = [1000, 1100, 1050]\n",
        "Q2_sales = [1200, 1300, 1250]\n",
        "Q3_sales = [1100, 1000, 1150]\n",
        "Q4_sales = [1050, 1100, 1200]\n",
        "\n",
        "# Use chain to combine all the sales data\n",
        "annual_sales = list(chain(Q1_sales, Q2_sales, Q3_sales, Q4_sales))\n",
        "\n",
        "print(annual_sales)"
      ],
      "metadata": {
        "colab": {
          "base_uri": "https://localhost:8080/"
        },
        "id": "jOPlA__lxEf-",
        "outputId": "0f43f8f7-b760-4cfa-dc6b-73d06ac3b576"
      },
      "execution_count": 4,
      "outputs": [
        {
          "output_type": "stream",
          "name": "stdout",
          "text": [
            "[1000, 1100, 1050, 1200, 1300, 1250, 1100, 1000, 1150, 1050, 1100, 1200]\n"
          ]
        }
      ]
    },
    {
      "cell_type": "markdown",
      "source": [
        "## compress()"
      ],
      "metadata": {
        "id": "G0MNf61OxwM8"
      }
    },
    {
      "cell_type": "code",
      "source": [
        "from itertools import compress\n",
        "\n",
        "# Product reviews\n",
        "reviews = [\"Great!\", \"Bad!\", \"Average.\", \"Excellent!\", \"Poor!\"]\n",
        "\n",
        "# Relevance flags: 1 for relevant, 0 for irrelevant\n",
        "relevance_flags = [1, 0, 0, 1, 0]\n",
        "\n",
        "# Use compress to keep only relevant reviews\n",
        "relevant_reviews = list(compress(reviews, relevance_flags))\n",
        "\n",
        "print(relevant_reviews)"
      ],
      "metadata": {
        "colab": {
          "base_uri": "https://localhost:8080/"
        },
        "id": "Hv96IR1CxKIo",
        "outputId": "9f174a1b-16df-4663-e39d-c424be1212cc"
      },
      "execution_count": 5,
      "outputs": [
        {
          "output_type": "stream",
          "name": "stdout",
          "text": [
            "['Great!', 'Excellent!']\n"
          ]
        }
      ]
    },
    {
      "cell_type": "markdown",
      "source": [
        "## dropwhile()"
      ],
      "metadata": {
        "id": "c-UydCfZx380"
      }
    },
    {
      "cell_type": "code",
      "source": [
        "from itertools import dropwhile\n",
        "\n",
        "# Hourly website traffic counts\n",
        "traffic_data = [10, 12, 8, 15, 20, 25, 30]\n",
        "\n",
        "# Function to check for low traffic\n",
        "def is_low_traffic(x):\n",
        "    return x < 15\n",
        "\n",
        "# Use dropwhile to ignore low-traffic hours\n",
        "high_traffic_data = list(dropwhile(is_low_traffic, traffic_data))\n",
        "\n",
        "print(high_traffic_data)"
      ],
      "metadata": {
        "colab": {
          "base_uri": "https://localhost:8080/"
        },
        "id": "qNd0QDqdxxij",
        "outputId": "1d0ec18c-c107-44e3-aed0-7a613aa50738"
      },
      "execution_count": 6,
      "outputs": [
        {
          "output_type": "stream",
          "name": "stdout",
          "text": [
            "[15, 20, 25, 30]\n"
          ]
        }
      ]
    },
    {
      "cell_type": "markdown",
      "source": [
        "# Combinatoric iterators\n",
        "## product()"
      ],
      "metadata": {
        "id": "50AW_mezx7OU"
      }
    },
    {
      "cell_type": "code",
      "source": [
        "from itertools import product\n",
        "\n",
        "# Possible learning rates and batch sizes\n",
        "learning_rates = [0.01, 0.1, 0.5]\n",
        "batch_sizes = [32, 64, 128]\n",
        "\n",
        "# Generate all combinations using product\n",
        "parameter_combinations = list(product(learning_rates, batch_sizes))\n",
        "\n",
        "print(parameter_combinations)"
      ],
      "metadata": {
        "colab": {
          "base_uri": "https://localhost:8080/"
        },
        "id": "5coNEfwIx5iD",
        "outputId": "633c023c-9bec-4054-dc01-6e74fc4922d9"
      },
      "execution_count": 7,
      "outputs": [
        {
          "output_type": "stream",
          "name": "stdout",
          "text": [
            "[(0.01, 32), (0.01, 64), (0.01, 128), (0.1, 32), (0.1, 64), (0.1, 128), (0.5, 32), (0.5, 64), (0.5, 128)]\n"
          ]
        }
      ]
    },
    {
      "cell_type": "markdown",
      "source": [
        "## permutations()"
      ],
      "metadata": {
        "id": "EE17tQDOyAq4"
      }
    },
    {
      "cell_type": "code",
      "source": [
        "from itertools import permutations\n",
        "\n",
        "# Features in a dataset\n",
        "features = ['Age', 'Income', 'Education Level']\n",
        "\n",
        "# Generate all permutations of features\n",
        "feature_permutations = list(permutations(features, 2))\n",
        "\n",
        "print(feature_permutations)"
      ],
      "metadata": {
        "colab": {
          "base_uri": "https://localhost:8080/"
        },
        "id": "zG9R4_c8x-yU",
        "outputId": "7e4fd401-d48f-4dbc-b0a7-75df7d382caa"
      },
      "execution_count": 8,
      "outputs": [
        {
          "output_type": "stream",
          "name": "stdout",
          "text": [
            "[('Age', 'Income'), ('Age', 'Education Level'), ('Income', 'Age'), ('Income', 'Education Level'), ('Education Level', 'Age'), ('Education Level', 'Income')]\n"
          ]
        }
      ]
    },
    {
      "cell_type": "markdown",
      "source": [
        "## combinations()"
      ],
      "metadata": {
        "id": "uUb3DybHyEbj"
      }
    },
    {
      "cell_type": "code",
      "source": [
        "from itertools import combinations\n",
        "\n",
        "# List of features in a dataset\n",
        "features = ['Age', 'Salary', 'Years of Experience']\n",
        "\n",
        "# Generate all 2-element combinations of features\n",
        "feature_combinations = list(combinations(features, 2))\n",
        "\n",
        "print(feature_combinations)"
      ],
      "metadata": {
        "colab": {
          "base_uri": "https://localhost:8080/"
        },
        "id": "E1OkpS5jyCYS",
        "outputId": "09e40f26-eb9e-4b1b-c1db-a4fa94574e01"
      },
      "execution_count": 9,
      "outputs": [
        {
          "output_type": "stream",
          "name": "stdout",
          "text": [
            "[('Age', 'Salary'), ('Age', 'Years of Experience'), ('Salary', 'Years of Experience')]\n"
          ]
        }
      ]
    }
  ]
}