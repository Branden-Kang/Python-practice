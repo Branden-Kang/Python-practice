{
  "nbformat": 4,
  "nbformat_minor": 0,
  "metadata": {
    "colab": {
      "name": "Jupyter interactive widgets framework.ipynb",
      "provenance": [],
      "authorship_tag": "ABX9TyMKsvS6Ztr9VjPtexI6+966"
    },
    "kernelspec": {
      "name": "python3",
      "display_name": "Python 3"
    },
    "widgets": {
      "application/vnd.jupyter.widget-state+json": {
        "2a816a4876344f85b07210dc7b0f694b": {
          "model_module": "jupyter-matplotlib",
          "model_name": "MPLCanvasModel",
          "state": {
            "_view_name": "MPLCanvasView",
            "_view_module": "jupyter-matplotlib",
            "_figure_label": "Figure",
            "_view_count": null,
            "_cursor": "pointer",
            "capture_scroll": true,
            "layout": "IPY_MODEL_f0bd309dadfb4c04880e4bdb32a2f06c",
            "_model_module": "jupyter-matplotlib",
            "footer_visible": false,
            "_image_mode": "full",
            "_dom_classes": [],
            "resizable": false,
            "_model_name": "MPLCanvasModel",
            "_height": 0,
            "header_visible": false,
            "_model_module_version": "^0.7.4",
            "_rubberband_x": 0,
            "_rubberband_y": 0,
            "toolbar": "IPY_MODEL_8bd28e75d90f4cd58fdbeef8a8c91aca",
            "toolbar_visible": true,
            "_rubberband_width": 0,
            "_width": 0,
            "_message": "",
            "_rubberband_height": 0,
            "_view_module_version": "^0.7.4",
            "toolbar_position": "left"
          }
        },
        "637ba0d9bcf549088789553adf4525fd": {
          "model_module": "jupyter-matplotlib",
          "model_name": "MPLCanvasModel",
          "state": {
            "_view_name": "MPLCanvasView",
            "_view_module": "jupyter-matplotlib",
            "_figure_label": "Figure",
            "_view_count": null,
            "_cursor": "pointer",
            "capture_scroll": false,
            "layout": "IPY_MODEL_69d5f426cf234450a2da64f90b71c12f",
            "_model_module": "jupyter-matplotlib",
            "footer_visible": true,
            "_image_mode": "full",
            "_dom_classes": [],
            "resizable": true,
            "_model_name": "MPLCanvasModel",
            "_height": 0,
            "header_visible": true,
            "_model_module_version": "^0.7.4",
            "_rubberband_x": 0,
            "_rubberband_y": 0,
            "toolbar": "IPY_MODEL_38598128565b475bb9eebbc0d8297fbf",
            "toolbar_visible": true,
            "_rubberband_width": 0,
            "_width": 0,
            "_message": "",
            "_rubberband_height": 0,
            "_view_module_version": "^0.7.4",
            "toolbar_position": "left"
          }
        },
        "61d57c7af0034d8a8697396c7c472eaa": {
          "model_module": "jupyter-matplotlib",
          "model_name": "MPLCanvasModel",
          "state": {
            "_view_name": "MPLCanvasView",
            "_view_module": "jupyter-matplotlib",
            "_figure_label": "Figure",
            "_view_count": null,
            "_cursor": "pointer",
            "capture_scroll": false,
            "layout": "IPY_MODEL_23a8d3c5bc2e41e9bf3853207fac5595",
            "_model_module": "jupyter-matplotlib",
            "footer_visible": true,
            "_image_mode": "full",
            "_dom_classes": [],
            "resizable": true,
            "_model_name": "MPLCanvasModel",
            "_height": 0,
            "header_visible": true,
            "_model_module_version": "^0.7.4",
            "_rubberband_x": 0,
            "_rubberband_y": 0,
            "toolbar": "IPY_MODEL_d587dc1279e4403d87a8556ca65f82da",
            "toolbar_visible": false,
            "_rubberband_width": 0,
            "_width": 0,
            "_message": "",
            "_rubberband_height": 0,
            "_view_module_version": "^0.7.4",
            "toolbar_position": "right"
          }
        },
        "e2ef5db2c1d84619931f33e0c69fe7e8": {
          "model_module": "jupyter-matplotlib",
          "model_name": "MPLCanvasModel",
          "state": {
            "_view_name": "MPLCanvasView",
            "_view_module": "jupyter-matplotlib",
            "_figure_label": "Figure",
            "_view_count": null,
            "_cursor": "pointer",
            "capture_scroll": false,
            "layout": "IPY_MODEL_f80bfca040f44383b6ffcbb5d19674bf",
            "_model_module": "jupyter-matplotlib",
            "footer_visible": true,
            "_image_mode": "full",
            "_dom_classes": [],
            "resizable": true,
            "_model_name": "MPLCanvasModel",
            "_height": 0,
            "header_visible": true,
            "_model_module_version": "^0.7.4",
            "_rubberband_x": 0,
            "_rubberband_y": 0,
            "toolbar": "IPY_MODEL_927dbed7e2d84a3cba468a6d4ecb0c64",
            "toolbar_visible": true,
            "_rubberband_width": 0,
            "_width": 0,
            "_message": "",
            "_rubberband_height": 0,
            "_view_module_version": "^0.7.4",
            "toolbar_position": "left"
          }
        },
        "07b277516a9949959cd310c9cbc2d5f7": {
          "model_module": "@jupyter-widgets/controls",
          "model_name": "GridBoxModel",
          "state": {
            "_view_name": "GridBoxView",
            "_dom_classes": [],
            "_model_name": "GridBoxModel",
            "_view_module": "@jupyter-widgets/controls",
            "_model_module_version": "1.5.0",
            "_view_count": null,
            "_view_module_version": "1.5.0",
            "box_style": "",
            "layout": "IPY_MODEL_c029dfd26d3640ceaadfa8850534ce94",
            "_model_module": "@jupyter-widgets/controls",
            "children": [
              "IPY_MODEL_0cf1b691ca7a418f918b916b0a773113",
              "IPY_MODEL_e2ef5db2c1d84619931f33e0c69fe7e8"
            ]
          }
        },
        "c029dfd26d3640ceaadfa8850534ce94": {
          "model_module": "@jupyter-widgets/base",
          "model_name": "LayoutModel",
          "state": {
            "_view_name": "LayoutView",
            "grid_template_rows": "6fr 1fr",
            "right": null,
            "justify_content": null,
            "_view_module": "@jupyter-widgets/base",
            "overflow": null,
            "_model_module_version": "1.2.0",
            "_view_count": null,
            "flex_flow": null,
            "width": null,
            "min_width": null,
            "border": null,
            "align_items": null,
            "bottom": null,
            "_model_module": "@jupyter-widgets/base",
            "top": null,
            "grid_column": null,
            "overflow_y": null,
            "overflow_x": null,
            "grid_auto_flow": null,
            "grid_area": null,
            "grid_template_columns": "1fr 2fr 1fr",
            "flex": null,
            "_model_name": "LayoutModel",
            "justify_items": null,
            "grid_row": null,
            "max_height": null,
            "align_content": null,
            "visibility": null,
            "align_self": null,
            "height": null,
            "min_height": null,
            "padding": null,
            "grid_auto_rows": null,
            "grid_gap": null,
            "max_width": null,
            "order": null,
            "_view_module_version": "1.2.0",
            "grid_template_areas": "\"center center center\"\n\"footer footer footer\"",
            "object_position": null,
            "object_fit": null,
            "grid_auto_columns": null,
            "margin": null,
            "display": null,
            "left": null
          }
        },
        "0cf1b691ca7a418f918b916b0a773113": {
          "model_module": "@jupyter-widgets/controls",
          "model_name": "ButtonModel",
          "state": {
            "_view_name": "ButtonView",
            "style": "IPY_MODEL_c4cea3863c9c4f3ebc1e66bef390b88b",
            "_dom_classes": [],
            "description": "",
            "_model_name": "ButtonModel",
            "button_style": "",
            "_view_module": "@jupyter-widgets/controls",
            "_model_module_version": "1.5.0",
            "tooltip": "",
            "_view_count": null,
            "disabled": false,
            "_view_module_version": "1.5.0",
            "layout": "IPY_MODEL_69ff8e7ac5ec41a29ffd99a8ab3914bf",
            "_model_module": "@jupyter-widgets/controls",
            "icon": "check"
          }
        },
        "c4cea3863c9c4f3ebc1e66bef390b88b": {
          "model_module": "@jupyter-widgets/controls",
          "model_name": "ButtonStyleModel",
          "state": {
            "_view_name": "StyleView",
            "_model_name": "ButtonStyleModel",
            "_view_module": "@jupyter-widgets/base",
            "_model_module_version": "1.5.0",
            "_view_count": null,
            "button_color": null,
            "font_weight": "",
            "_view_module_version": "1.2.0",
            "_model_module": "@jupyter-widgets/controls"
          }
        },
        "69ff8e7ac5ec41a29ffd99a8ab3914bf": {
          "model_module": "@jupyter-widgets/base",
          "model_name": "LayoutModel",
          "state": {
            "_view_name": "LayoutView",
            "grid_template_rows": null,
            "right": null,
            "justify_content": null,
            "_view_module": "@jupyter-widgets/base",
            "overflow": null,
            "_model_module_version": "1.2.0",
            "_view_count": null,
            "flex_flow": null,
            "width": null,
            "min_width": null,
            "border": null,
            "align_items": null,
            "bottom": null,
            "_model_module": "@jupyter-widgets/base",
            "top": null,
            "grid_column": null,
            "overflow_y": null,
            "overflow_x": null,
            "grid_auto_flow": null,
            "grid_area": "footer",
            "grid_template_columns": null,
            "flex": null,
            "_model_name": "LayoutModel",
            "justify_items": null,
            "grid_row": null,
            "max_height": null,
            "align_content": null,
            "visibility": null,
            "align_self": null,
            "height": null,
            "min_height": null,
            "padding": null,
            "grid_auto_rows": null,
            "grid_gap": null,
            "max_width": null,
            "order": null,
            "_view_module_version": "1.2.0",
            "grid_template_areas": null,
            "object_position": null,
            "object_fit": null,
            "grid_auto_columns": null,
            "margin": null,
            "display": null,
            "left": null
          }
        },
        "64082c1a68894d4c854585007a82e2aa": {
          "model_module": "@jupyter-widgets/controls",
          "model_name": "GridBoxModel",
          "state": {
            "_view_name": "GridBoxView",
            "_dom_classes": [],
            "_model_name": "GridBoxModel",
            "_view_module": "@jupyter-widgets/controls",
            "_model_module_version": "1.5.0",
            "_view_count": null,
            "_view_module_version": "1.5.0",
            "box_style": "",
            "layout": "IPY_MODEL_15cb268342e94ec7a52d53d66cf5e8f2",
            "_model_module": "@jupyter-widgets/controls",
            "children": [
              "IPY_MODEL_aac7fd82459044738394842a28168d64",
              "IPY_MODEL_f67fa58b3427486aa8d4f0235c37f5bc"
            ]
          }
        },
        "15cb268342e94ec7a52d53d66cf5e8f2": {
          "model_module": "@jupyter-widgets/base",
          "model_name": "LayoutModel",
          "state": {
            "_view_name": "LayoutView",
            "grid_template_rows": "6fr 1fr",
            "right": null,
            "justify_content": null,
            "_view_module": "@jupyter-widgets/base",
            "overflow": null,
            "_model_module_version": "1.2.0",
            "_view_count": null,
            "flex_flow": null,
            "width": null,
            "min_width": null,
            "border": null,
            "align_items": null,
            "bottom": null,
            "_model_module": "@jupyter-widgets/base",
            "top": null,
            "grid_column": null,
            "overflow_y": null,
            "overflow_x": null,
            "grid_auto_flow": null,
            "grid_area": null,
            "grid_template_columns": "1fr 2fr 1fr",
            "flex": null,
            "_model_name": "LayoutModel",
            "justify_items": null,
            "grid_row": null,
            "max_height": null,
            "align_content": null,
            "visibility": null,
            "align_self": null,
            "height": null,
            "min_height": null,
            "padding": null,
            "grid_auto_rows": null,
            "grid_gap": null,
            "max_width": null,
            "order": null,
            "_view_module_version": "1.2.0",
            "grid_template_areas": "\"center center center\"\n\"footer footer footer\"",
            "object_position": null,
            "object_fit": null,
            "grid_auto_columns": null,
            "margin": null,
            "display": null,
            "left": null
          }
        },
        "aac7fd82459044738394842a28168d64": {
          "model_module": "@jupyter-widgets/controls",
          "model_name": "ButtonModel",
          "state": {
            "_view_name": "ButtonView",
            "style": "IPY_MODEL_be8cd4ca073f49d9b9582d2e759d2826",
            "_dom_classes": [],
            "description": "",
            "_model_name": "ButtonModel",
            "button_style": "",
            "_view_module": "@jupyter-widgets/controls",
            "_model_module_version": "1.5.0",
            "tooltip": "",
            "_view_count": null,
            "disabled": false,
            "_view_module_version": "1.5.0",
            "layout": "IPY_MODEL_57a00cdbc6f748c1873b1c2f15c72337",
            "_model_module": "@jupyter-widgets/controls",
            "icon": "check"
          }
        },
        "f67fa58b3427486aa8d4f0235c37f5bc": {
          "model_module": "jupyter-matplotlib",
          "model_name": "MPLCanvasModel",
          "state": {
            "_view_name": "MPLCanvasView",
            "_view_module": "jupyter-matplotlib",
            "_figure_label": "Figure",
            "_view_count": null,
            "_cursor": "pointer",
            "capture_scroll": false,
            "layout": "IPY_MODEL_f4c2ee1343f04d21b95192811f2bb739",
            "_model_module": "jupyter-matplotlib",
            "footer_visible": true,
            "_image_mode": "full",
            "_dom_classes": [],
            "resizable": true,
            "_model_name": "MPLCanvasModel",
            "_height": 0,
            "header_visible": true,
            "_model_module_version": "^0.7.4",
            "_rubberband_x": 0,
            "_rubberband_y": 0,
            "toolbar": "IPY_MODEL_52a285cbac2c41249f1891fac8059384",
            "toolbar_visible": true,
            "_rubberband_width": 0,
            "_width": 0,
            "_message": "",
            "_rubberband_height": 0,
            "_view_module_version": "^0.7.4",
            "toolbar_position": "left"
          }
        },
        "be8cd4ca073f49d9b9582d2e759d2826": {
          "model_module": "@jupyter-widgets/controls",
          "model_name": "ButtonStyleModel",
          "state": {
            "_view_name": "StyleView",
            "_model_name": "ButtonStyleModel",
            "_view_module": "@jupyter-widgets/base",
            "_model_module_version": "1.5.0",
            "_view_count": null,
            "button_color": null,
            "font_weight": "",
            "_view_module_version": "1.2.0",
            "_model_module": "@jupyter-widgets/controls"
          }
        },
        "57a00cdbc6f748c1873b1c2f15c72337": {
          "model_module": "@jupyter-widgets/base",
          "model_name": "LayoutModel",
          "state": {
            "_view_name": "LayoutView",
            "grid_template_rows": null,
            "right": null,
            "justify_content": null,
            "_view_module": "@jupyter-widgets/base",
            "overflow": null,
            "_model_module_version": "1.2.0",
            "_view_count": null,
            "flex_flow": null,
            "width": null,
            "min_width": null,
            "border": null,
            "align_items": null,
            "bottom": null,
            "_model_module": "@jupyter-widgets/base",
            "top": null,
            "grid_column": null,
            "overflow_y": null,
            "overflow_x": null,
            "grid_auto_flow": null,
            "grid_area": "footer",
            "grid_template_columns": null,
            "flex": null,
            "_model_name": "LayoutModel",
            "justify_items": null,
            "grid_row": null,
            "max_height": null,
            "align_content": null,
            "visibility": null,
            "align_self": null,
            "height": null,
            "min_height": null,
            "padding": null,
            "grid_auto_rows": null,
            "grid_gap": null,
            "max_width": null,
            "order": null,
            "_view_module_version": "1.2.0",
            "grid_template_areas": null,
            "object_position": null,
            "object_fit": null,
            "grid_auto_columns": null,
            "margin": null,
            "display": null,
            "left": null
          }
        },
        "c611ae47fd0f463d971c52bb5c986a22": {
          "model_module": "@jupyter-widgets/controls",
          "model_name": "GridBoxModel",
          "state": {
            "_view_name": "GridBoxView",
            "_dom_classes": [],
            "_model_name": "GridBoxModel",
            "_view_module": "@jupyter-widgets/controls",
            "_model_module_version": "1.5.0",
            "_view_count": null,
            "_view_module_version": "1.5.0",
            "box_style": "",
            "layout": "IPY_MODEL_6e0022135b1a4b4a9b75c2e42db3e332",
            "_model_module": "@jupyter-widgets/controls",
            "children": [
              "IPY_MODEL_431ed5fd84fe4ac3baabaabc655cd604",
              "IPY_MODEL_89811e16a23240e8b7339fb3ec12f2a9"
            ]
          }
        },
        "6e0022135b1a4b4a9b75c2e42db3e332": {
          "model_module": "@jupyter-widgets/base",
          "model_name": "LayoutModel",
          "state": {
            "_view_name": "LayoutView",
            "grid_template_rows": "6fr 1fr",
            "right": null,
            "justify_content": null,
            "_view_module": "@jupyter-widgets/base",
            "overflow": null,
            "_model_module_version": "1.2.0",
            "_view_count": null,
            "flex_flow": null,
            "width": null,
            "min_width": null,
            "border": null,
            "align_items": null,
            "bottom": null,
            "_model_module": "@jupyter-widgets/base",
            "top": null,
            "grid_column": null,
            "overflow_y": null,
            "overflow_x": null,
            "grid_auto_flow": null,
            "grid_area": null,
            "grid_template_columns": "1fr 2fr 1fr",
            "flex": null,
            "_model_name": "LayoutModel",
            "justify_items": null,
            "grid_row": null,
            "max_height": null,
            "align_content": null,
            "visibility": null,
            "align_self": null,
            "height": null,
            "min_height": null,
            "padding": null,
            "grid_auto_rows": null,
            "grid_gap": null,
            "max_width": null,
            "order": null,
            "_view_module_version": "1.2.0",
            "grid_template_areas": "\"center center center\"\n\"footer footer footer\"",
            "object_position": null,
            "object_fit": null,
            "grid_auto_columns": null,
            "margin": null,
            "display": null,
            "left": null
          }
        },
        "431ed5fd84fe4ac3baabaabc655cd604": {
          "model_module": "@jupyter-widgets/controls",
          "model_name": "ButtonModel",
          "state": {
            "_view_name": "ButtonView",
            "style": "IPY_MODEL_52756e4ab4b7415cbd4bd3dea5b4e43e",
            "_dom_classes": [],
            "description": "",
            "_model_name": "ButtonModel",
            "button_style": "",
            "_view_module": "@jupyter-widgets/controls",
            "_model_module_version": "1.5.0",
            "tooltip": "",
            "_view_count": null,
            "disabled": false,
            "_view_module_version": "1.5.0",
            "layout": "IPY_MODEL_2491539f22244069b1ad3430d12524ea",
            "_model_module": "@jupyter-widgets/controls",
            "icon": "check"
          }
        },
        "89811e16a23240e8b7339fb3ec12f2a9": {
          "model_module": "@jupyter-widgets/output",
          "model_name": "OutputModel",
          "state": {
            "_view_name": "OutputView",
            "msg_id": "",
            "_dom_classes": [],
            "_model_name": "OutputModel",
            "outputs": [
              {
                "output_type": "display_data",
                "metadata": {
                  "tags": []
                },
                "application/vnd.jupyter.widget-view+json": {
                  "model_id": "c42e573be7444fa08d1c4bd8e4bd2883",
                  "version_minor": 0,
                  "version_major": 2
                },
                "text/plain": "Canvas(toolbar=Toolbar(toolitems=[('Home', 'Reset original view', 'home', 'home'), ('Back', 'Back to previous …"
              }
            ],
            "_view_module": "@jupyter-widgets/output",
            "_model_module_version": "1.0.0",
            "_view_count": null,
            "_view_module_version": "1.0.0",
            "layout": "IPY_MODEL_72299f0f90854db2a594f2d9c990f396",
            "_model_module": "@jupyter-widgets/output"
          }
        },
        "52756e4ab4b7415cbd4bd3dea5b4e43e": {
          "model_module": "@jupyter-widgets/controls",
          "model_name": "ButtonStyleModel",
          "state": {
            "_view_name": "StyleView",
            "_model_name": "ButtonStyleModel",
            "_view_module": "@jupyter-widgets/base",
            "_model_module_version": "1.5.0",
            "_view_count": null,
            "button_color": null,
            "font_weight": "",
            "_view_module_version": "1.2.0",
            "_model_module": "@jupyter-widgets/controls"
          }
        },
        "2491539f22244069b1ad3430d12524ea": {
          "model_module": "@jupyter-widgets/base",
          "model_name": "LayoutModel",
          "state": {
            "_view_name": "LayoutView",
            "grid_template_rows": null,
            "right": null,
            "justify_content": null,
            "_view_module": "@jupyter-widgets/base",
            "overflow": null,
            "_model_module_version": "1.2.0",
            "_view_count": null,
            "flex_flow": null,
            "width": null,
            "min_width": null,
            "border": null,
            "align_items": null,
            "bottom": null,
            "_model_module": "@jupyter-widgets/base",
            "top": null,
            "grid_column": null,
            "overflow_y": null,
            "overflow_x": null,
            "grid_auto_flow": null,
            "grid_area": "footer",
            "grid_template_columns": null,
            "flex": null,
            "_model_name": "LayoutModel",
            "justify_items": null,
            "grid_row": null,
            "max_height": null,
            "align_content": null,
            "visibility": null,
            "align_self": null,
            "height": null,
            "min_height": null,
            "padding": null,
            "grid_auto_rows": null,
            "grid_gap": null,
            "max_width": null,
            "order": null,
            "_view_module_version": "1.2.0",
            "grid_template_areas": null,
            "object_position": null,
            "object_fit": null,
            "grid_auto_columns": null,
            "margin": null,
            "display": null,
            "left": null
          }
        },
        "c42e573be7444fa08d1c4bd8e4bd2883": {
          "model_module": "jupyter-matplotlib",
          "model_name": "MPLCanvasModel",
          "state": {
            "_view_name": "MPLCanvasView",
            "_view_module": "jupyter-matplotlib",
            "_figure_label": "Figure",
            "_view_count": null,
            "_cursor": "pointer",
            "capture_scroll": false,
            "layout": "IPY_MODEL_ffe095a542a843b092534f5ff6d27bae",
            "_model_module": "jupyter-matplotlib",
            "footer_visible": true,
            "_image_mode": "full",
            "_dom_classes": [],
            "resizable": true,
            "_model_name": "MPLCanvasModel",
            "_height": 0,
            "header_visible": true,
            "_model_module_version": "^0.7.4",
            "_rubberband_x": 0,
            "_rubberband_y": 0,
            "toolbar": "IPY_MODEL_9084c5dfd53d477fab79913fee7d3d5f",
            "toolbar_visible": true,
            "_rubberband_width": 0,
            "_width": 0,
            "_message": "",
            "_rubberband_height": 0,
            "_view_module_version": "^0.7.4",
            "toolbar_position": "left"
          }
        },
        "72299f0f90854db2a594f2d9c990f396": {
          "model_module": "@jupyter-widgets/base",
          "model_name": "LayoutModel",
          "state": {
            "_view_name": "LayoutView",
            "grid_template_rows": null,
            "right": null,
            "justify_content": null,
            "_view_module": "@jupyter-widgets/base",
            "overflow": null,
            "_model_module_version": "1.2.0",
            "_view_count": null,
            "flex_flow": null,
            "width": null,
            "min_width": null,
            "border": null,
            "align_items": null,
            "bottom": null,
            "_model_module": "@jupyter-widgets/base",
            "top": null,
            "grid_column": null,
            "overflow_y": null,
            "overflow_x": null,
            "grid_auto_flow": null,
            "grid_area": "center",
            "grid_template_columns": null,
            "flex": null,
            "_model_name": "LayoutModel",
            "justify_items": null,
            "grid_row": null,
            "max_height": null,
            "align_content": null,
            "visibility": null,
            "align_self": null,
            "height": null,
            "min_height": null,
            "padding": null,
            "grid_auto_rows": null,
            "grid_gap": null,
            "max_width": null,
            "order": null,
            "_view_module_version": "1.2.0",
            "grid_template_areas": null,
            "object_position": null,
            "object_fit": null,
            "grid_auto_columns": null,
            "margin": null,
            "display": null,
            "left": null
          }
        },
        "40518fd330a34b4f885dea3e789c3cd8": {
          "model_module": "@jupyter-widgets/controls",
          "model_name": "GridBoxModel",
          "state": {
            "_view_name": "GridBoxView",
            "_dom_classes": [],
            "_model_name": "GridBoxModel",
            "_view_module": "@jupyter-widgets/controls",
            "_model_module_version": "1.5.0",
            "_view_count": null,
            "_view_module_version": "1.5.0",
            "box_style": "",
            "layout": "IPY_MODEL_707b56d76f9f4608a40183a1ad4655a0",
            "_model_module": "@jupyter-widgets/controls",
            "children": [
              "IPY_MODEL_4e2f446fbafc4a7197340e424e64471c",
              "IPY_MODEL_84ce20c8e6a345b79a7337ba0a4fd3f8"
            ]
          }
        },
        "707b56d76f9f4608a40183a1ad4655a0": {
          "model_module": "@jupyter-widgets/base",
          "model_name": "LayoutModel",
          "state": {
            "_view_name": "LayoutView",
            "grid_template_rows": "6fr 1fr",
            "right": null,
            "justify_content": null,
            "_view_module": "@jupyter-widgets/base",
            "overflow": null,
            "_model_module_version": "1.2.0",
            "_view_count": null,
            "flex_flow": null,
            "width": null,
            "min_width": null,
            "border": null,
            "align_items": null,
            "bottom": null,
            "_model_module": "@jupyter-widgets/base",
            "top": null,
            "grid_column": null,
            "overflow_y": null,
            "overflow_x": null,
            "grid_auto_flow": null,
            "grid_area": null,
            "grid_template_columns": "1fr 2fr 1fr",
            "flex": null,
            "_model_name": "LayoutModel",
            "justify_items": null,
            "grid_row": null,
            "max_height": null,
            "align_content": null,
            "visibility": null,
            "align_self": null,
            "height": null,
            "min_height": null,
            "padding": null,
            "grid_auto_rows": null,
            "grid_gap": null,
            "max_width": null,
            "order": null,
            "_view_module_version": "1.2.0",
            "grid_template_areas": "\"center center center\"\n\"footer footer footer\"",
            "object_position": null,
            "object_fit": null,
            "grid_auto_columns": null,
            "margin": null,
            "display": null,
            "left": null
          }
        },
        "4e2f446fbafc4a7197340e424e64471c": {
          "model_module": "@jupyter-widgets/controls",
          "model_name": "FloatSliderModel",
          "state": {
            "_view_name": "FloatSliderView",
            "style": "IPY_MODEL_8e8f9389a82947c89eb5b2d5a5df6dad",
            "_dom_classes": [],
            "description": "Factor:",
            "step": 0.1,
            "_model_name": "FloatSliderModel",
            "orientation": "horizontal",
            "max": 2,
            "_view_module": "@jupyter-widgets/controls",
            "_model_module_version": "1.5.0",
            "value": 1,
            "_view_count": null,
            "disabled": false,
            "_view_module_version": "1.5.0",
            "min": 0.02,
            "continuous_update": true,
            "readout_format": ".2f",
            "description_tooltip": null,
            "readout": true,
            "_model_module": "@jupyter-widgets/controls",
            "layout": "IPY_MODEL_9a6ca9c0c0d5467091af38a95695c4fe"
          }
        },
        "84ce20c8e6a345b79a7337ba0a4fd3f8": {
          "model_module": "jupyter-matplotlib",
          "model_name": "MPLCanvasModel",
          "state": {
            "_view_name": "MPLCanvasView",
            "_view_module": "jupyter-matplotlib",
            "_figure_label": "Figure",
            "_view_count": null,
            "_cursor": "pointer",
            "capture_scroll": false,
            "layout": "IPY_MODEL_237dd14bcb634fc98d8dea89b13a3a77",
            "_model_module": "jupyter-matplotlib",
            "footer_visible": true,
            "_image_mode": "full",
            "_dom_classes": [],
            "resizable": true,
            "_model_name": "MPLCanvasModel",
            "_height": 0,
            "header_visible": false,
            "_model_module_version": "^0.7.4",
            "_rubberband_x": 0,
            "_rubberband_y": 0,
            "toolbar": "IPY_MODEL_9a40902227de4ca5b699e8105b47850f",
            "toolbar_visible": true,
            "_rubberband_width": 0,
            "_width": 0,
            "_message": "",
            "_rubberband_height": 0,
            "_view_module_version": "^0.7.4",
            "toolbar_position": "left"
          }
        },
        "8e8f9389a82947c89eb5b2d5a5df6dad": {
          "model_module": "@jupyter-widgets/controls",
          "model_name": "SliderStyleModel",
          "state": {
            "_view_name": "StyleView",
            "handle_color": null,
            "_model_name": "SliderStyleModel",
            "description_width": "",
            "_view_module": "@jupyter-widgets/base",
            "_model_module_version": "1.5.0",
            "_view_count": null,
            "_view_module_version": "1.2.0",
            "_model_module": "@jupyter-widgets/controls"
          }
        },
        "9a6ca9c0c0d5467091af38a95695c4fe": {
          "model_module": "@jupyter-widgets/base",
          "model_name": "LayoutModel",
          "state": {
            "_view_name": "LayoutView",
            "grid_template_rows": null,
            "right": null,
            "justify_content": null,
            "_view_module": "@jupyter-widgets/base",
            "overflow": null,
            "_model_module_version": "1.2.0",
            "_view_count": null,
            "flex_flow": null,
            "width": "40%",
            "min_width": null,
            "border": null,
            "align_items": null,
            "bottom": null,
            "_model_module": "@jupyter-widgets/base",
            "top": null,
            "grid_column": null,
            "overflow_y": null,
            "overflow_x": null,
            "grid_auto_flow": null,
            "grid_area": "footer",
            "grid_template_columns": null,
            "flex": null,
            "_model_name": "LayoutModel",
            "justify_items": null,
            "grid_row": null,
            "max_height": null,
            "align_content": null,
            "visibility": null,
            "align_self": null,
            "height": null,
            "min_height": null,
            "padding": null,
            "grid_auto_rows": null,
            "grid_gap": null,
            "max_width": null,
            "order": null,
            "_view_module_version": "1.2.0",
            "grid_template_areas": null,
            "object_position": null,
            "object_fit": null,
            "grid_auto_columns": null,
            "margin": "0px 30% 0px 30%",
            "display": null,
            "left": null
          }
        },
        "57bb8ffafe1c438c8f53103bcfcef9b4": {
          "model_module": "@jupyter-widgets/controls",
          "model_name": "VBoxModel",
          "state": {
            "_view_name": "VBoxView",
            "_dom_classes": [],
            "_model_name": "VBoxModel",
            "_view_module": "@jupyter-widgets/controls",
            "_model_module_version": "1.5.0",
            "_view_count": null,
            "_view_module_version": "1.5.0",
            "box_style": "",
            "layout": "IPY_MODEL_db8cf5a86a084797926429ad2f739e53",
            "_model_module": "@jupyter-widgets/controls",
            "children": [
              "IPY_MODEL_34bb831d63574a6d86468d31743f7a2d",
              "IPY_MODEL_13568252a49b47ecb6b25c1468f25b94"
            ]
          }
        },
        "db8cf5a86a084797926429ad2f739e53": {
          "model_module": "@jupyter-widgets/base",
          "model_name": "LayoutModel",
          "state": {
            "_view_name": "LayoutView",
            "grid_template_rows": null,
            "right": null,
            "justify_content": null,
            "_view_module": "@jupyter-widgets/base",
            "overflow": null,
            "_model_module_version": "1.2.0",
            "_view_count": null,
            "flex_flow": null,
            "width": null,
            "min_width": null,
            "border": null,
            "align_items": null,
            "bottom": null,
            "_model_module": "@jupyter-widgets/base",
            "top": null,
            "grid_column": null,
            "overflow_y": null,
            "overflow_x": null,
            "grid_auto_flow": null,
            "grid_area": null,
            "grid_template_columns": null,
            "flex": null,
            "_model_name": "LayoutModel",
            "justify_items": null,
            "grid_row": null,
            "max_height": null,
            "align_content": null,
            "visibility": null,
            "align_self": null,
            "height": null,
            "min_height": null,
            "padding": null,
            "grid_auto_rows": null,
            "grid_gap": null,
            "max_width": null,
            "order": null,
            "_view_module_version": "1.2.0",
            "grid_template_areas": null,
            "object_position": null,
            "object_fit": null,
            "grid_auto_columns": null,
            "margin": null,
            "display": null,
            "left": null
          }
        },
        "34bb831d63574a6d86468d31743f7a2d": {
          "model_module": "@jupyter-widgets/controls",
          "model_name": "IntSliderModel",
          "state": {
            "_view_name": "IntSliderView",
            "style": "IPY_MODEL_c460ef0ff0474ed6a97692f67d7f4ccb",
            "_dom_classes": [],
            "description": "",
            "step": 1,
            "_model_name": "IntSliderModel",
            "orientation": "horizontal",
            "max": 49,
            "_view_module": "@jupyter-widgets/controls",
            "_model_module_version": "1.5.0",
            "value": 0,
            "_view_count": null,
            "disabled": false,
            "_view_module_version": "1.5.0",
            "min": 0,
            "continuous_update": true,
            "readout_format": "d",
            "description_tooltip": null,
            "readout": true,
            "_model_module": "@jupyter-widgets/controls",
            "layout": "IPY_MODEL_6d372e0e91d5454b89061b8b6bee8fe9"
          }
        },
        "13568252a49b47ecb6b25c1468f25b94": {
          "model_module": "jupyter-matplotlib",
          "model_name": "MPLCanvasModel",
          "state": {
            "_view_name": "MPLCanvasView",
            "_view_module": "jupyter-matplotlib",
            "_figure_label": "Figure",
            "_view_count": null,
            "_cursor": "pointer",
            "capture_scroll": false,
            "layout": "IPY_MODEL_19c02da73d1c4290886e722c8b99ecec",
            "_model_module": "jupyter-matplotlib",
            "footer_visible": true,
            "_image_mode": "full",
            "_dom_classes": [],
            "resizable": true,
            "_model_name": "MPLCanvasModel",
            "_height": 0,
            "header_visible": true,
            "_model_module_version": "^0.7.4",
            "_rubberband_x": 0,
            "_rubberband_y": 0,
            "toolbar": "IPY_MODEL_2b5c630e613e4a9b863019e9b76504aa",
            "toolbar_visible": true,
            "_rubberband_width": 0,
            "_width": 0,
            "_message": "",
            "_rubberband_height": 0,
            "_view_module_version": "^0.7.4",
            "toolbar_position": "left"
          }
        },
        "c460ef0ff0474ed6a97692f67d7f4ccb": {
          "model_module": "@jupyter-widgets/controls",
          "model_name": "SliderStyleModel",
          "state": {
            "_view_name": "StyleView",
            "handle_color": null,
            "_model_name": "SliderStyleModel",
            "description_width": "",
            "_view_module": "@jupyter-widgets/base",
            "_model_module_version": "1.5.0",
            "_view_count": null,
            "_view_module_version": "1.2.0",
            "_model_module": "@jupyter-widgets/controls"
          }
        },
        "6d372e0e91d5454b89061b8b6bee8fe9": {
          "model_module": "@jupyter-widgets/base",
          "model_name": "LayoutModel",
          "state": {
            "_view_name": "LayoutView",
            "grid_template_rows": null,
            "right": null,
            "justify_content": null,
            "_view_module": "@jupyter-widgets/base",
            "overflow": null,
            "_model_module_version": "1.2.0",
            "_view_count": null,
            "flex_flow": null,
            "width": null,
            "min_width": null,
            "border": null,
            "align_items": null,
            "bottom": null,
            "_model_module": "@jupyter-widgets/base",
            "top": null,
            "grid_column": null,
            "overflow_y": null,
            "overflow_x": null,
            "grid_auto_flow": null,
            "grid_area": null,
            "grid_template_columns": null,
            "flex": null,
            "_model_name": "LayoutModel",
            "justify_items": null,
            "grid_row": null,
            "max_height": null,
            "align_content": null,
            "visibility": null,
            "align_self": null,
            "height": null,
            "min_height": null,
            "padding": null,
            "grid_auto_rows": null,
            "grid_gap": null,
            "max_width": null,
            "order": null,
            "_view_module_version": "1.2.0",
            "grid_template_areas": null,
            "object_position": null,
            "object_fit": null,
            "grid_auto_columns": null,
            "margin": null,
            "display": null,
            "left": null
          }
        },
        "d28588bb568a4fb1b5a8335070e77296": {
          "model_module": "@jupyter-widgets/controls",
          "model_name": "VBoxModel",
          "state": {
            "_view_name": "VBoxView",
            "_dom_classes": [],
            "_model_name": "VBoxModel",
            "_view_module": "@jupyter-widgets/controls",
            "_model_module_version": "1.5.0",
            "_view_count": null,
            "_view_module_version": "1.5.0",
            "box_style": "",
            "layout": "IPY_MODEL_f2bfcf62a7a643d7bf1049f4989c7373",
            "_model_module": "@jupyter-widgets/controls",
            "children": [
              "IPY_MODEL_aa11af9c883741a7960fdeb84bac9a6a",
              "IPY_MODEL_f2616e2897a44d5580269e2241acff5a"
            ]
          }
        },
        "f2bfcf62a7a643d7bf1049f4989c7373": {
          "model_module": "@jupyter-widgets/base",
          "model_name": "LayoutModel",
          "state": {
            "_view_name": "LayoutView",
            "grid_template_rows": null,
            "right": null,
            "justify_content": null,
            "_view_module": "@jupyter-widgets/base",
            "overflow": null,
            "_model_module_version": "1.2.0",
            "_view_count": null,
            "flex_flow": null,
            "width": null,
            "min_width": null,
            "border": null,
            "align_items": null,
            "bottom": null,
            "_model_module": "@jupyter-widgets/base",
            "top": null,
            "grid_column": null,
            "overflow_y": null,
            "overflow_x": null,
            "grid_auto_flow": null,
            "grid_area": null,
            "grid_template_columns": null,
            "flex": null,
            "_model_name": "LayoutModel",
            "justify_items": null,
            "grid_row": null,
            "max_height": null,
            "align_content": null,
            "visibility": null,
            "align_self": null,
            "height": null,
            "min_height": null,
            "padding": null,
            "grid_auto_rows": null,
            "grid_gap": null,
            "max_width": null,
            "order": null,
            "_view_module_version": "1.2.0",
            "grid_template_areas": null,
            "object_position": null,
            "object_fit": null,
            "grid_auto_columns": null,
            "margin": null,
            "display": null,
            "left": null
          }
        },
        "aa11af9c883741a7960fdeb84bac9a6a": {
          "model_module": "@jupyter-widgets/controls",
          "model_name": "IntSliderModel",
          "state": {
            "_view_name": "IntSliderView",
            "style": "IPY_MODEL_dfcbb3dc571a45eab46cc0d1bcf7dfa7",
            "_dom_classes": [],
            "description": "",
            "step": 1,
            "_model_name": "IntSliderModel",
            "orientation": "horizontal",
            "max": 60,
            "_view_module": "@jupyter-widgets/controls",
            "_model_module_version": "1.5.0",
            "value": 0,
            "_view_count": null,
            "disabled": false,
            "_view_module_version": "1.5.0",
            "min": 0,
            "continuous_update": true,
            "readout_format": "d",
            "description_tooltip": null,
            "readout": true,
            "_model_module": "@jupyter-widgets/controls",
            "layout": "IPY_MODEL_75b93fdf9d494d198d919b6f50688064"
          }
        },
        "f2616e2897a44d5580269e2241acff5a": {
          "model_module": "jupyter-matplotlib",
          "model_name": "MPLCanvasModel",
          "state": {
            "_view_name": "MPLCanvasView",
            "_view_module": "jupyter-matplotlib",
            "_figure_label": "Figure",
            "_view_count": null,
            "_cursor": "pointer",
            "capture_scroll": false,
            "layout": "IPY_MODEL_64ec0ef040bd461aaedee5ba670d4ad0",
            "_model_module": "jupyter-matplotlib",
            "footer_visible": true,
            "_image_mode": "full",
            "_dom_classes": [],
            "resizable": true,
            "_model_name": "MPLCanvasModel",
            "_height": 0,
            "header_visible": true,
            "_model_module_version": "^0.7.4",
            "_rubberband_x": 0,
            "_rubberband_y": 0,
            "toolbar": "IPY_MODEL_71e48e74d97d4796aa770fa0f89f32e2",
            "toolbar_visible": true,
            "_rubberband_width": 0,
            "_width": 0,
            "_message": "",
            "_rubberband_height": 0,
            "_view_module_version": "^0.7.4",
            "toolbar_position": "left"
          }
        },
        "dfcbb3dc571a45eab46cc0d1bcf7dfa7": {
          "model_module": "@jupyter-widgets/controls",
          "model_name": "SliderStyleModel",
          "state": {
            "_view_name": "StyleView",
            "handle_color": null,
            "_model_name": "SliderStyleModel",
            "description_width": "",
            "_view_module": "@jupyter-widgets/base",
            "_model_module_version": "1.5.0",
            "_view_count": null,
            "_view_module_version": "1.2.0",
            "_model_module": "@jupyter-widgets/controls"
          }
        },
        "75b93fdf9d494d198d919b6f50688064": {
          "model_module": "@jupyter-widgets/base",
          "model_name": "LayoutModel",
          "state": {
            "_view_name": "LayoutView",
            "grid_template_rows": null,
            "right": null,
            "justify_content": null,
            "_view_module": "@jupyter-widgets/base",
            "overflow": null,
            "_model_module_version": "1.2.0",
            "_view_count": null,
            "flex_flow": null,
            "width": null,
            "min_width": null,
            "border": null,
            "align_items": null,
            "bottom": null,
            "_model_module": "@jupyter-widgets/base",
            "top": null,
            "grid_column": null,
            "overflow_y": null,
            "overflow_x": null,
            "grid_auto_flow": null,
            "grid_area": null,
            "grid_template_columns": null,
            "flex": null,
            "_model_name": "LayoutModel",
            "justify_items": null,
            "grid_row": null,
            "max_height": null,
            "align_content": null,
            "visibility": null,
            "align_self": null,
            "height": null,
            "min_height": null,
            "padding": null,
            "grid_auto_rows": null,
            "grid_gap": null,
            "max_width": null,
            "order": null,
            "_view_module_version": "1.2.0",
            "grid_template_areas": null,
            "object_position": null,
            "object_fit": null,
            "grid_auto_columns": null,
            "margin": null,
            "display": null,
            "left": null
          }
        },
        "562116d3d5b347aa91ec4be8ff2f860f": {
          "model_module": "@jupyter-widgets/output",
          "model_name": "OutputModel",
          "state": {
            "_view_name": "OutputView",
            "msg_id": "",
            "_dom_classes": [],
            "_model_name": "OutputModel",
            "outputs": [],
            "_view_module": "@jupyter-widgets/output",
            "_model_module_version": "1.0.0",
            "_view_count": null,
            "_view_module_version": "1.0.0",
            "layout": "IPY_MODEL_5330239c2b0d463e82e0c5fd4061b413",
            "_model_module": "@jupyter-widgets/output"
          }
        },
        "5330239c2b0d463e82e0c5fd4061b413": {
          "model_module": "@jupyter-widgets/base",
          "model_name": "LayoutModel",
          "state": {
            "_view_name": "LayoutView",
            "grid_template_rows": null,
            "right": null,
            "justify_content": null,
            "_view_module": "@jupyter-widgets/base",
            "overflow": null,
            "_model_module_version": "1.2.0",
            "_view_count": null,
            "flex_flow": null,
            "width": null,
            "min_width": null,
            "border": null,
            "align_items": null,
            "bottom": null,
            "_model_module": "@jupyter-widgets/base",
            "top": null,
            "grid_column": null,
            "overflow_y": null,
            "overflow_x": null,
            "grid_auto_flow": null,
            "grid_area": null,
            "grid_template_columns": null,
            "flex": null,
            "_model_name": "LayoutModel",
            "justify_items": null,
            "grid_row": null,
            "max_height": null,
            "align_content": null,
            "visibility": null,
            "align_self": null,
            "height": null,
            "min_height": null,
            "padding": null,
            "grid_auto_rows": null,
            "grid_gap": null,
            "max_width": null,
            "order": null,
            "_view_module_version": "1.2.0",
            "grid_template_areas": null,
            "object_position": null,
            "object_fit": null,
            "grid_auto_columns": null,
            "margin": null,
            "display": null,
            "left": null
          }
        }
      }
    }
  },
  "cells": [
    {
      "cell_type": "markdown",
      "metadata": {
        "id": "ijwaOkOBg1hK"
      },
      "source": [
        "[Reference](https://github.com/matplotlib/ipympl)"
      ]
    },
    {
      "cell_type": "code",
      "metadata": {
        "id": "tcWRR84cg9VQ",
        "outputId": "f9425c79-c6bf-4ba7-ed1d-660d9b9f1604",
        "colab": {
          "base_uri": "https://localhost:8080/",
          "height": 836
        }
      },
      "source": [
        "# !conda install -c conda-forge ipympl\n",
        "!pip install ipympl"
      ],
      "execution_count": 2,
      "outputs": [
        {
          "output_type": "stream",
          "text": [
            "Collecting ipympl\n",
            "\u001b[?25l  Downloading https://files.pythonhosted.org/packages/a1/b9/638ad2b406cb33d92ad41a85964f9e81d9eac240ae9b5c06b17c4b6d602c/ipympl-0.5.8-py2.py3-none-any.whl (2.0MB)\n",
            "\u001b[K     |████████████████████████████████| 2.0MB 2.7MB/s \n",
            "\u001b[?25hRequirement already satisfied: matplotlib>=2.0.0 in /usr/local/lib/python3.6/dist-packages (from ipympl) (3.2.2)\n",
            "Requirement already satisfied: ipykernel>=4.7 in /usr/local/lib/python3.6/dist-packages (from ipympl) (4.10.1)\n",
            "Requirement already satisfied: ipywidgets>=7.5.0 in /usr/local/lib/python3.6/dist-packages (from ipympl) (7.5.1)\n",
            "Requirement already satisfied: cycler>=0.10 in /usr/local/lib/python3.6/dist-packages (from matplotlib>=2.0.0->ipympl) (0.10.0)\n",
            "Requirement already satisfied: pyparsing!=2.0.4,!=2.1.2,!=2.1.6,>=2.0.1 in /usr/local/lib/python3.6/dist-packages (from matplotlib>=2.0.0->ipympl) (2.4.7)\n",
            "Requirement already satisfied: kiwisolver>=1.0.1 in /usr/local/lib/python3.6/dist-packages (from matplotlib>=2.0.0->ipympl) (1.2.0)\n",
            "Requirement already satisfied: numpy>=1.11 in /usr/local/lib/python3.6/dist-packages (from matplotlib>=2.0.0->ipympl) (1.18.5)\n",
            "Requirement already satisfied: python-dateutil>=2.1 in /usr/local/lib/python3.6/dist-packages (from matplotlib>=2.0.0->ipympl) (2.8.1)\n",
            "Requirement already satisfied: ipython>=4.0.0 in /usr/local/lib/python3.6/dist-packages (from ipykernel>=4.7->ipympl) (5.5.0)\n",
            "Requirement already satisfied: jupyter-client in /usr/local/lib/python3.6/dist-packages (from ipykernel>=4.7->ipympl) (5.3.5)\n",
            "Requirement already satisfied: tornado>=4.0 in /usr/local/lib/python3.6/dist-packages (from ipykernel>=4.7->ipympl) (5.1.1)\n",
            "Requirement already satisfied: traitlets>=4.1.0 in /usr/local/lib/python3.6/dist-packages (from ipykernel>=4.7->ipympl) (4.3.3)\n",
            "Requirement already satisfied: nbformat>=4.2.0 in /usr/local/lib/python3.6/dist-packages (from ipywidgets>=7.5.0->ipympl) (5.0.7)\n",
            "Requirement already satisfied: widgetsnbextension~=3.5.0 in /usr/local/lib/python3.6/dist-packages (from ipywidgets>=7.5.0->ipympl) (3.5.1)\n",
            "Requirement already satisfied: six in /usr/local/lib/python3.6/dist-packages (from cycler>=0.10->matplotlib>=2.0.0->ipympl) (1.15.0)\n",
            "Requirement already satisfied: decorator in /usr/local/lib/python3.6/dist-packages (from ipython>=4.0.0->ipykernel>=4.7->ipympl) (4.4.2)\n",
            "Requirement already satisfied: setuptools>=18.5 in /usr/local/lib/python3.6/dist-packages (from ipython>=4.0.0->ipykernel>=4.7->ipympl) (50.3.0)\n",
            "Requirement already satisfied: pickleshare in /usr/local/lib/python3.6/dist-packages (from ipython>=4.0.0->ipykernel>=4.7->ipympl) (0.7.5)\n",
            "Requirement already satisfied: pygments in /usr/local/lib/python3.6/dist-packages (from ipython>=4.0.0->ipykernel>=4.7->ipympl) (2.6.1)\n",
            "Requirement already satisfied: simplegeneric>0.8 in /usr/local/lib/python3.6/dist-packages (from ipython>=4.0.0->ipykernel>=4.7->ipympl) (0.8.1)\n",
            "Requirement already satisfied: pexpect; sys_platform != \"win32\" in /usr/local/lib/python3.6/dist-packages (from ipython>=4.0.0->ipykernel>=4.7->ipympl) (4.8.0)\n",
            "Requirement already satisfied: prompt-toolkit<2.0.0,>=1.0.4 in /usr/local/lib/python3.6/dist-packages (from ipython>=4.0.0->ipykernel>=4.7->ipympl) (1.0.18)\n",
            "Requirement already satisfied: jupyter-core>=4.6.0 in /usr/local/lib/python3.6/dist-packages (from jupyter-client->ipykernel>=4.7->ipympl) (4.6.3)\n",
            "Requirement already satisfied: pyzmq>=13 in /usr/local/lib/python3.6/dist-packages (from jupyter-client->ipykernel>=4.7->ipympl) (19.0.2)\n",
            "Requirement already satisfied: ipython-genutils in /usr/local/lib/python3.6/dist-packages (from traitlets>=4.1.0->ipykernel>=4.7->ipympl) (0.2.0)\n",
            "Requirement already satisfied: jsonschema!=2.5.0,>=2.4 in /usr/local/lib/python3.6/dist-packages (from nbformat>=4.2.0->ipywidgets>=7.5.0->ipympl) (2.6.0)\n",
            "Requirement already satisfied: notebook>=4.4.1 in /usr/local/lib/python3.6/dist-packages (from widgetsnbextension~=3.5.0->ipywidgets>=7.5.0->ipympl) (5.3.1)\n",
            "Requirement already satisfied: ptyprocess>=0.5 in /usr/local/lib/python3.6/dist-packages (from pexpect; sys_platform != \"win32\"->ipython>=4.0.0->ipykernel>=4.7->ipympl) (0.6.0)\n",
            "Requirement already satisfied: wcwidth in /usr/local/lib/python3.6/dist-packages (from prompt-toolkit<2.0.0,>=1.0.4->ipython>=4.0.0->ipykernel>=4.7->ipympl) (0.2.5)\n",
            "Requirement already satisfied: nbconvert in /usr/local/lib/python3.6/dist-packages (from notebook>=4.4.1->widgetsnbextension~=3.5.0->ipywidgets>=7.5.0->ipympl) (5.6.1)\n",
            "Requirement already satisfied: terminado>=0.8.1 in /usr/local/lib/python3.6/dist-packages (from notebook>=4.4.1->widgetsnbextension~=3.5.0->ipywidgets>=7.5.0->ipympl) (0.9.1)\n",
            "Requirement already satisfied: Send2Trash in /usr/local/lib/python3.6/dist-packages (from notebook>=4.4.1->widgetsnbextension~=3.5.0->ipywidgets>=7.5.0->ipympl) (1.5.0)\n",
            "Requirement already satisfied: jinja2 in /usr/local/lib/python3.6/dist-packages (from notebook>=4.4.1->widgetsnbextension~=3.5.0->ipywidgets>=7.5.0->ipympl) (2.11.2)\n",
            "Requirement already satisfied: bleach in /usr/local/lib/python3.6/dist-packages (from nbconvert->notebook>=4.4.1->widgetsnbextension~=3.5.0->ipywidgets>=7.5.0->ipympl) (3.2.1)\n",
            "Requirement already satisfied: pandocfilters>=1.4.1 in /usr/local/lib/python3.6/dist-packages (from nbconvert->notebook>=4.4.1->widgetsnbextension~=3.5.0->ipywidgets>=7.5.0->ipympl) (1.4.2)\n",
            "Requirement already satisfied: mistune<2,>=0.8.1 in /usr/local/lib/python3.6/dist-packages (from nbconvert->notebook>=4.4.1->widgetsnbextension~=3.5.0->ipywidgets>=7.5.0->ipympl) (0.8.4)\n",
            "Requirement already satisfied: entrypoints>=0.2.2 in /usr/local/lib/python3.6/dist-packages (from nbconvert->notebook>=4.4.1->widgetsnbextension~=3.5.0->ipywidgets>=7.5.0->ipympl) (0.3)\n",
            "Requirement already satisfied: testpath in /usr/local/lib/python3.6/dist-packages (from nbconvert->notebook>=4.4.1->widgetsnbextension~=3.5.0->ipywidgets>=7.5.0->ipympl) (0.4.4)\n",
            "Requirement already satisfied: defusedxml in /usr/local/lib/python3.6/dist-packages (from nbconvert->notebook>=4.4.1->widgetsnbextension~=3.5.0->ipywidgets>=7.5.0->ipympl) (0.6.0)\n",
            "Requirement already satisfied: MarkupSafe>=0.23 in /usr/local/lib/python3.6/dist-packages (from jinja2->notebook>=4.4.1->widgetsnbextension~=3.5.0->ipywidgets>=7.5.0->ipympl) (1.1.1)\n",
            "Requirement already satisfied: packaging in /usr/local/lib/python3.6/dist-packages (from bleach->nbconvert->notebook>=4.4.1->widgetsnbextension~=3.5.0->ipywidgets>=7.5.0->ipympl) (20.4)\n",
            "Requirement already satisfied: webencodings in /usr/local/lib/python3.6/dist-packages (from bleach->nbconvert->notebook>=4.4.1->widgetsnbextension~=3.5.0->ipywidgets>=7.5.0->ipympl) (0.5.1)\n",
            "Installing collected packages: ipympl\n",
            "Successfully installed ipympl-0.5.8\n"
          ],
          "name": "stdout"
        }
      ]
    },
    {
      "cell_type": "code",
      "metadata": {
        "id": "Ue3y2NzcgxVD"
      },
      "source": [
        "# Enabling the `widget` backend.\n",
        "# This requires jupyter-matplotlib a.k.a. ipympl.\n",
        "# ipympl can be install via pip or conda.\n",
        "%matplotlib widget\n",
        "\n",
        "import matplotlib.pyplot as plt\n",
        "import numpy as np"
      ],
      "execution_count": 3,
      "outputs": []
    },
    {
      "cell_type": "code",
      "metadata": {
        "id": "38V4DM4Eg5pH",
        "outputId": "57977c4f-6830-46dc-bb4d-91a564125e61",
        "colab": {
          "base_uri": "https://localhost:8080/",
          "height": 17,
          "referenced_widgets": [
            "2a816a4876344f85b07210dc7b0f694b"
          ]
        }
      },
      "source": [
        "# Testing matplotlib interactions with a simple plot\n",
        "fig = plt.figure()\n",
        "plt.plot(np.sin(np.linspace(0, 20, 100)));"
      ],
      "execution_count": 4,
      "outputs": [
        {
          "output_type": "display_data",
          "data": {
            "application/vnd.jupyter.widget-view+json": {
              "model_id": "2a816a4876344f85b07210dc7b0f694b",
              "version_minor": 0,
              "version_major": 2
            },
            "text/plain": [
              "Canvas(toolbar=Toolbar(toolitems=[('Home', 'Reset original view', 'home', 'home'), ('Back', 'Back to previous …"
            ]
          },
          "metadata": {
            "tags": []
          }
        }
      ]
    },
    {
      "cell_type": "code",
      "metadata": {
        "id": "FnZPdkj6hHTF"
      },
      "source": [
        "fig.canvas.toolbar_visible = False\n",
        "fig.canvas.header_visible = False # Hide the Figure name at the top of the figure"
      ],
      "execution_count": 5,
      "outputs": []
    },
    {
      "cell_type": "code",
      "metadata": {
        "id": "GY2fuIxphIUu"
      },
      "source": [
        "fig.canvas.footer_visible = False"
      ],
      "execution_count": 6,
      "outputs": []
    },
    {
      "cell_type": "code",
      "metadata": {
        "id": "X_Y38qbHhJI0"
      },
      "source": [
        "fig.canvas.resizable = False"
      ],
      "execution_count": 7,
      "outputs": []
    },
    {
      "cell_type": "code",
      "metadata": {
        "id": "d_5R5vRvhKQM"
      },
      "source": [
        "fig.canvas.capture_scroll = True"
      ],
      "execution_count": 8,
      "outputs": []
    },
    {
      "cell_type": "code",
      "metadata": {
        "id": "orlgYc_LhLR3",
        "outputId": "d7c9bd31-cd1c-4028-ee56-cf627f9a1731",
        "colab": {
          "base_uri": "https://localhost:8080/",
          "height": 17,
          "referenced_widgets": [
            "2a816a4876344f85b07210dc7b0f694b"
          ]
        }
      },
      "source": [
        "fig.canvas.toolbar_visible = True\n",
        "display(fig.canvas)"
      ],
      "execution_count": 9,
      "outputs": [
        {
          "output_type": "display_data",
          "data": {
            "application/vnd.jupyter.widget-view+json": {
              "model_id": "2a816a4876344f85b07210dc7b0f694b",
              "version_minor": 0,
              "version_major": 2
            },
            "text/plain": [
              "Canvas(capture_scroll=True, footer_visible=False, header_visible=False, resizable=False, toolbar=Toolbar(tooli…"
            ]
          },
          "metadata": {
            "tags": []
          }
        }
      ]
    },
    {
      "cell_type": "code",
      "metadata": {
        "id": "C2V3NKXZhMxc",
        "outputId": "e168718f-bf29-4b27-c0bc-44e223debf63",
        "colab": {
          "base_uri": "https://localhost:8080/",
          "height": 265
        }
      },
      "source": [
        "display(fig)"
      ],
      "execution_count": 10,
      "outputs": [
        {
          "output_type": "display_data",
          "data": {
            "image/png": "[encoded data removed]",
            "text/plain": [
              "<Figure size 432x288 with 1 Axes>"
            ]
          },
          "metadata": {
            "tags": []
          }
        }
      ]
    },
    {
      "cell_type": "code",
      "metadata": {
        "id": "2oIuriqRhNkO",
        "outputId": "ec60e990-897d-4a7e-aa64-67c508de4225",
        "colab": {
          "base_uri": "https://localhost:8080/",
          "height": 17,
          "referenced_widgets": [
            "637ba0d9bcf549088789553adf4525fd"
          ]
        }
      },
      "source": [
        "from mpl_toolkits.mplot3d import axes3d\n",
        "\n",
        "fig = plt.figure()\n",
        "ax = fig.add_subplot(111, projection='3d')\n",
        "\n",
        "# Grab some test data.\n",
        "X, Y, Z = axes3d.get_test_data(0.05)\n",
        "\n",
        "# Plot a basic wireframe.\n",
        "ax.plot_wireframe(X, Y, Z, rstride=10, cstride=10)\n",
        "\n",
        "plt.show()"
      ],
      "execution_count": 11,
      "outputs": [
        {
          "output_type": "display_data",
          "data": {
            "application/vnd.jupyter.widget-view+json": {
              "model_id": "637ba0d9bcf549088789553adf4525fd",
              "version_minor": 0,
              "version_major": 2
            },
            "text/plain": [
              "Canvas(toolbar=Toolbar(toolitems=[('Home', 'Reset original view', 'home', 'home'), ('Back', 'Back to previous …"
            ]
          },
          "metadata": {
            "tags": []
          }
        }
      ]
    },
    {
      "cell_type": "code",
      "metadata": {
        "id": "XQGCWm73hPtb",
        "outputId": "44d01ac4-bc64-4079-e734-3b2f09c250aa",
        "colab": {
          "base_uri": "https://localhost:8080/",
          "height": 17,
          "referenced_widgets": [
            "61d57c7af0034d8a8697396c7c472eaa"
          ]
        }
      },
      "source": [
        "# A more complex example from the matplotlib gallery\n",
        "np.random.seed(0)\n",
        "\n",
        "n_bins = 10\n",
        "x = np.random.randn(1000, 3)\n",
        "\n",
        "fig, axes = plt.subplots(nrows=2, ncols=2)\n",
        "ax0, ax1, ax2, ax3 = axes.flatten()\n",
        "\n",
        "colors = ['red', 'tan', 'lime']\n",
        "ax0.hist(x, n_bins, density=1, histtype='bar', color=colors, label=colors)\n",
        "ax0.legend(prop={'size': 10})\n",
        "ax0.set_title('bars with legend')\n",
        "\n",
        "ax1.hist(x, n_bins, density=1, histtype='bar', stacked=True)\n",
        "ax1.set_title('stacked bar')\n",
        "\n",
        "ax2.hist(x, n_bins, histtype='step', stacked=True, fill=False)\n",
        "ax2.set_title('stack step (unfilled)')\n",
        "\n",
        "# Make a multiple-histogram of data-sets with different length.\n",
        "x_multi = [np.random.randn(n) for n in [10000, 5000, 2000]]\n",
        "ax3.hist(x_multi, n_bins, histtype='bar')\n",
        "ax3.set_title('different sample sizes')\n",
        "\n",
        "fig.tight_layout()\n",
        "plt.show()"
      ],
      "execution_count": 12,
      "outputs": [
        {
          "output_type": "display_data",
          "data": {
            "application/vnd.jupyter.widget-view+json": {
              "model_id": "61d57c7af0034d8a8697396c7c472eaa",
              "version_minor": 0,
              "version_major": 2
            },
            "text/plain": [
              "Canvas(toolbar=Toolbar(toolitems=[('Home', 'Reset original view', 'home', 'home'), ('Back', 'Back to previous …"
            ]
          },
          "metadata": {
            "tags": []
          }
        }
      ]
    },
    {
      "cell_type": "code",
      "metadata": {
        "id": "AhvpyUO_hRW4"
      },
      "source": [
        "fig.canvas.toolbar_position = 'right'"
      ],
      "execution_count": 13,
      "outputs": []
    },
    {
      "cell_type": "code",
      "metadata": {
        "id": "WD_Kd3CWhS0-"
      },
      "source": [
        "fig.canvas.toolbar_visible = False"
      ],
      "execution_count": 14,
      "outputs": []
    },
    {
      "cell_type": "code",
      "metadata": {
        "id": "eo4of2UzhTDl",
        "outputId": "247e168d-458d-4656-86b4-643375e5ea46",
        "colab": {
          "base_uri": "https://localhost:8080/",
          "height": 17,
          "referenced_widgets": [
            "e2ef5db2c1d84619931f33e0c69fe7e8",
            "07b277516a9949959cd310c9cbc2d5f7",
            "c029dfd26d3640ceaadfa8850534ce94",
            "0cf1b691ca7a418f918b916b0a773113",
            "c4cea3863c9c4f3ebc1e66bef390b88b",
            "69ff8e7ac5ec41a29ffd99a8ab3914bf"
          ]
        }
      },
      "source": [
        "import ipywidgets as widgets\n",
        "\n",
        "# ensure we are interactive mode \n",
        "# this is default but if this notebook is executed out of order it may have been turned off\n",
        "plt.ion()\n",
        "\n",
        "\n",
        "fig = plt.figure()\n",
        "ax = fig.gca()\n",
        "ax.imshow(Z)\n",
        "\n",
        "widgets.AppLayout(\n",
        "    center=fig.canvas,\n",
        "    footer=widgets.Button(icon='check'),\n",
        "    pane_heights=[0, 6, 1]\n",
        ")"
      ],
      "execution_count": 16,
      "outputs": [
        {
          "output_type": "display_data",
          "data": {
            "application/vnd.jupyter.widget-view+json": {
              "model_id": "e2ef5db2c1d84619931f33e0c69fe7e8",
              "version_minor": 0,
              "version_major": 2
            },
            "text/plain": [
              "Canvas(toolbar=Toolbar(toolitems=[('Home', 'Reset original view', 'home', 'home'), ('Back', 'Back to previous …"
            ]
          },
          "metadata": {
            "tags": []
          }
        },
        {
          "output_type": "display_data",
          "data": {
            "application/vnd.jupyter.widget-view+json": {
              "model_id": "07b277516a9949959cd310c9cbc2d5f7",
              "version_minor": 0,
              "version_major": 2
            },
            "text/plain": [
              "AppLayout(children=(Button(icon='check', layout=Layout(grid_area='footer'), style=ButtonStyle()), Canvas(layou…"
            ]
          },
          "metadata": {
            "tags": []
          }
        }
      ]
    },
    {
      "cell_type": "code",
      "metadata": {
        "id": "8y8DJxB5hW0F",
        "outputId": "943a9efc-6fd0-4b00-fc78-9d7321778669",
        "colab": {
          "base_uri": "https://localhost:8080/",
          "height": 17,
          "referenced_widgets": [
            "64082c1a68894d4c854585007a82e2aa",
            "15cb268342e94ec7a52d53d66cf5e8f2",
            "aac7fd82459044738394842a28168d64",
            "f67fa58b3427486aa8d4f0235c37f5bc",
            "be8cd4ca073f49d9b9582d2e759d2826",
            "57a00cdbc6f748c1873b1c2f15c72337"
          ]
        }
      },
      "source": [
        "plt.ioff()\n",
        "fig = plt.figure()\n",
        "plt.ion()\n",
        "\n",
        "ax = fig.gca()\n",
        "ax.imshow(Z)\n",
        "\n",
        "widgets.AppLayout(\n",
        "    center=fig.canvas,\n",
        "    footer=widgets.Button(icon='check'),\n",
        "    pane_heights=[0, 6, 1]\n",
        ")"
      ],
      "execution_count": 17,
      "outputs": [
        {
          "output_type": "display_data",
          "data": {
            "application/vnd.jupyter.widget-view+json": {
              "model_id": "64082c1a68894d4c854585007a82e2aa",
              "version_minor": 0,
              "version_major": 2
            },
            "text/plain": [
              "AppLayout(children=(Button(icon='check', layout=Layout(grid_area='footer'), style=ButtonStyle()), Canvas(layou…"
            ]
          },
          "metadata": {
            "tags": []
          }
        }
      ]
    },
    {
      "cell_type": "code",
      "metadata": {
        "id": "pS6yBj90hZW9",
        "outputId": "96922105-6fb2-496b-b558-35c3d1d28eb0",
        "colab": {
          "base_uri": "https://localhost:8080/",
          "height": 241,
          "referenced_widgets": [
            "c611ae47fd0f463d971c52bb5c986a22",
            "6e0022135b1a4b4a9b75c2e42db3e332",
            "431ed5fd84fe4ac3baabaabc655cd604",
            "89811e16a23240e8b7339fb3ec12f2a9",
            "52756e4ab4b7415cbd4bd3dea5b4e43e",
            "2491539f22244069b1ad3430d12524ea",
            "c42e573be7444fa08d1c4bd8e4bd2883",
            "72299f0f90854db2a594f2d9c990f396"
          ]
        }
      },
      "source": [
        "out = widgets.Output()\n",
        "with out:\n",
        "    fig = plt.figure()\n",
        "\n",
        "ax = fig.gca()\n",
        "ax.imshow(Z)\n",
        "\n",
        "widgets.AppLayout(\n",
        "    center=out,\n",
        "    footer=widgets.Button(icon='check'),\n",
        "    pane_heights=[0, 6, 1]\n",
        ")"
      ],
      "execution_count": 18,
      "outputs": [
        {
          "output_type": "display_data",
          "data": {
            "application/vnd.jupyter.widget-view+json": {
              "model_id": "c611ae47fd0f463d971c52bb5c986a22",
              "version_minor": 0,
              "version_major": 2
            },
            "text/plain": [
              "AppLayout(children=(Button(icon='check', layout=Layout(grid_area='footer'), style=ButtonStyle()), Output(layou…"
            ]
          },
          "metadata": {
            "tags": []
          }
        }
      ]
    },
    {
      "cell_type": "code",
      "metadata": {
        "id": "Q3es12Nahama",
        "outputId": "761531f8-d294-402d-a989-92e7c5f57b7e",
        "colab": {
          "base_uri": "https://localhost:8080/",
          "height": 17,
          "referenced_widgets": [
            "40518fd330a34b4f885dea3e789c3cd8",
            "707b56d76f9f4608a40183a1ad4655a0",
            "4e2f446fbafc4a7197340e424e64471c",
            "84ce20c8e6a345b79a7337ba0a4fd3f8",
            "8e8f9389a82947c89eb5b2d5a5df6dad",
            "9a6ca9c0c0d5467091af38a95695c4fe"
          ]
        }
      },
      "source": [
        "from ipywidgets import AppLayout, FloatSlider\n",
        "\n",
        "plt.ioff()\n",
        "\n",
        "slider = FloatSlider(\n",
        "    orientation='horizontal',\n",
        "    description='Factor:',\n",
        "    value=1.0,\n",
        "    min=0.02,\n",
        "    max=2.0\n",
        ")\n",
        "\n",
        "slider.layout.margin = '0px 30% 0px 30%'\n",
        "slider.layout.width = '40%'\n",
        "\n",
        "fig = plt.figure()\n",
        "fig.canvas.header_visible = False\n",
        "fig.canvas.layout.min_height = '400px'\n",
        "plt.title('Plotting: y=sin({} * x)'.format(slider.value))\n",
        "\n",
        "x = np.linspace(0, 20, 500)\n",
        "\n",
        "lines = plt.plot(x, np.sin(slider.value * x))\n",
        "\n",
        "def update_lines(change):\n",
        "    plt.title('Plotting: y=sin({} * x)'.format(change.new))\n",
        "    lines[0].set_data(x, np.sin(change.new * x))\n",
        "    fig.canvas.draw()\n",
        "    fig.canvas.flush_events()\n",
        "\n",
        "slider.observe(update_lines, names='value')\n",
        "\n",
        "AppLayout(\n",
        "    center=fig.canvas,\n",
        "    footer=slider,\n",
        "    pane_heights=[0, 6, 1]\n",
        ")"
      ],
      "execution_count": 19,
      "outputs": [
        {
          "output_type": "display_data",
          "data": {
            "application/vnd.jupyter.widget-view+json": {
              "model_id": "40518fd330a34b4f885dea3e789c3cd8",
              "version_minor": 0,
              "version_major": 2
            },
            "text/plain": [
              "AppLayout(children=(FloatSlider(value=1.0, description='Factor:', layout=Layout(grid_area='footer', margin='0p…"
            ]
          },
          "metadata": {
            "tags": []
          }
        }
      ]
    },
    {
      "cell_type": "code",
      "metadata": {
        "id": "Nj_Ux1xHhdY-"
      },
      "source": [
        "# precomputing all images\n",
        "x = np.linspace(0,np.pi,200)\n",
        "y = np.linspace(0,10,200)\n",
        "X,Y = np.meshgrid(x,y)\n",
        "parameter = np.linspace(-5,5)\n",
        "example_image_stack = np.sin(X)[None,:,:]+np.exp(np.cos(Y[None,:,:]*parameter[:,None,None]))"
      ],
      "execution_count": 20,
      "outputs": []
    },
    {
      "cell_type": "code",
      "metadata": {
        "id": "CJsryGZ7he5o",
        "outputId": "1a87d6f0-4a95-4883-d73c-7a1bebcc6fd7",
        "colab": {
          "base_uri": "https://localhost:8080/",
          "height": 17,
          "referenced_widgets": [
            "57bb8ffafe1c438c8f53103bcfcef9b4",
            "db8cf5a86a084797926429ad2f739e53",
            "34bb831d63574a6d86468d31743f7a2d",
            "13568252a49b47ecb6b25c1468f25b94",
            "c460ef0ff0474ed6a97692f67d7f4ccb",
            "6d372e0e91d5454b89061b8b6bee8fe9"
          ]
        }
      },
      "source": [
        "plt.ioff()\n",
        "fig = plt.figure()\n",
        "plt.ion()\n",
        "im = plt.imshow(example_image_stack[0])\n",
        "\n",
        "def update(change):\n",
        "    im.set_data(example_image_stack[change['new']])\n",
        "    fig.canvas.draw_idle()\n",
        "    \n",
        "    \n",
        "slider = widgets.IntSlider(value=0, min=0, max=len(parameter)-1)\n",
        "slider.observe(update, names='value')\n",
        "widgets.VBox([slider, fig.canvas])"
      ],
      "execution_count": 21,
      "outputs": [
        {
          "output_type": "display_data",
          "data": {
            "application/vnd.jupyter.widget-view+json": {
              "model_id": "57bb8ffafe1c438c8f53103bcfcef9b4",
              "version_minor": 0,
              "version_major": 2
            },
            "text/plain": [
              "VBox(children=(IntSlider(value=0, max=49), Canvas(toolbar=Toolbar(toolitems=[('Home', 'Reset original view', '…"
            ]
          },
          "metadata": {
            "tags": []
          }
        }
      ]
    },
    {
      "cell_type": "code",
      "metadata": {
        "id": "rps0lWcVhg3_",
        "outputId": "ca90c21d-c73c-4c52-d2a6-7cc0509c9f1c",
        "colab": {
          "base_uri": "https://localhost:8080/",
          "height": 17,
          "referenced_widgets": [
            "d28588bb568a4fb1b5a8335070e77296",
            "f2bfcf62a7a643d7bf1049f4989c7373",
            "aa11af9c883741a7960fdeb84bac9a6a",
            "f2616e2897a44d5580269e2241acff5a",
            "dfcbb3dc571a45eab46cc0d1bcf7dfa7",
            "75b93fdf9d494d198d919b6f50688064",
            "562116d3d5b347aa91ec4be8ff2f860f",
            "5330239c2b0d463e82e0c5fd4061b413"
          ]
        }
      },
      "source": [
        "plt.ioff()\n",
        "fig = plt.figure()\n",
        "plt.ion()\n",
        "im = plt.imshow(example_image_stack[0])\n",
        "\n",
        "out = widgets.Output()\n",
        "@out.capture()\n",
        "def update(change):\n",
        "    with out:\n",
        "        if change['name'] == 'value':\n",
        "            im.set_data(example_image_stack[change['new']])\n",
        "            fig.canvas.draw_idle\n",
        "    \n",
        "    \n",
        "slider = widgets.IntSlider(value=0, min=0, max=len(parameter)+10)\n",
        "slider.observe(update)\n",
        "display(widgets.VBox([slider, fig.canvas]))\n",
        "display(out)"
      ],
      "execution_count": 22,
      "outputs": [
        {
          "output_type": "display_data",
          "data": {
            "application/vnd.jupyter.widget-view+json": {
              "model_id": "d28588bb568a4fb1b5a8335070e77296",
              "version_minor": 0,
              "version_major": 2
            },
            "text/plain": [
              "VBox(children=(IntSlider(value=0, max=60), Canvas(toolbar=Toolbar(toolitems=[('Home', 'Reset original view', '…"
            ]
          },
          "metadata": {
            "tags": []
          }
        },
        {
          "output_type": "display_data",
          "data": {
            "application/vnd.jupyter.widget-view+json": {
              "model_id": "562116d3d5b347aa91ec4be8ff2f860f",
              "version_minor": 0,
              "version_major": 2
            },
            "text/plain": [
              "Output()"
            ]
          },
          "metadata": {
            "tags": []
          }
        }
      ]
    }
  ]
}