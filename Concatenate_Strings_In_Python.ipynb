{
  "nbformat": 4,
  "nbformat_minor": 0,
  "metadata": {
    "colab": {
      "name": "Concatenate Strings In Python.ipynb",
      "provenance": [],
      "authorship_tag": "ABX9TyN0hVKFPTpxLABRRgrhJEQv"
    },
    "kernelspec": {
      "name": "python3",
      "display_name": "Python 3"
    }
  },
  "cells": [
    {
      "cell_type": "markdown",
      "metadata": {
        "id": "tF1QcOrOlHCY"
      },
      "source": [
        "[Reference](https://medium.com/python-in-plain-english/concatenating-strings-efficiently-in-python-9bfc8e8d6f6e)"
      ]
    },
    {
      "cell_type": "code",
      "metadata": {
        "colab": {
          "base_uri": "https://localhost:8080/"
        },
        "id": "ifi2ItpNk7v7",
        "outputId": "8c51d6f1-ba56-4c3f-9b8a-7cb3711f4732"
      },
      "source": [
        "x =  \"hello\"\n",
        "y =  \"world\"\n",
        "print(x + y)"
      ],
      "execution_count": 1,
      "outputs": [
        {
          "output_type": "stream",
          "text": [
            "helloworld\n"
          ],
          "name": "stdout"
        }
      ]
    },
    {
      "cell_type": "code",
      "metadata": {
        "colab": {
          "base_uri": "https://localhost:8080/"
        },
        "id": "8mAr5vKJlKbU",
        "outputId": "7aadd781-4f2e-442a-ebaf-9a2dd3dd01df"
      },
      "source": [
        "def concat_strings():\n",
        "    \"\"\"\n",
        "    This is a program to remove spaces in a string\n",
        "    :return:\n",
        "    \"\"\"\n",
        "\n",
        "    input_string = \"Th is is an ex am pl ew it hs pa ce\"\n",
        "\n",
        "    output_string = \"\"\n",
        "\n",
        "    for i in input_string:\n",
        "        if i == \" \":\n",
        "            pass\n",
        "        else:\n",
        "            output_string += i\n",
        "\n",
        "    print(output_string)\n",
        "\n",
        "\n",
        "concat_strings()"
      ],
      "execution_count": 2,
      "outputs": [
        {
          "output_type": "stream",
          "text": [
            "Thisisanexamplewithspace\n"
          ],
          "name": "stdout"
        }
      ]
    },
    {
      "cell_type": "code",
      "metadata": {
        "colab": {
          "base_uri": "https://localhost:8080/"
        },
        "id": "XKeLefV4lMUp",
        "outputId": "229f7009-3909-4d47-ba11-f167a540bf7a"
      },
      "source": [
        "def concat_strings():\n",
        "    \"\"\"\n",
        "    This is a program to remove spaces in a string\n",
        "    :return:\n",
        "    \"\"\"\n",
        "\n",
        "    input_string = \"Th is is an ex am pl ew it hs pa ce\"\n",
        "\n",
        "    output_lst = list()\n",
        "\n",
        "    for i in input_string:\n",
        "        if i == \" \":\n",
        "            pass\n",
        "        else:\n",
        "            output_lst.append(i)\n",
        "\n",
        "    print(\"\".join(output_lst))\n",
        "\n",
        "concat_strings()"
      ],
      "execution_count": 3,
      "outputs": [
        {
          "output_type": "stream",
          "text": [
            "Thisisanexamplewithspace\n"
          ],
          "name": "stdout"
        }
      ]
    },
    {
      "cell_type": "code",
      "metadata": {
        "colab": {
          "base_uri": "https://localhost:8080/"
        },
        "id": "nIgTLUgVlTtH",
        "outputId": "0151a654-425a-41b2-ae58-21f6d7a7eba3"
      },
      "source": [
        "def concat_strings():\n",
        "    \"\"\"\n",
        "    This is a program to remove spaces in a string\n",
        "    :return:\n",
        "    \"\"\"\n",
        "\n",
        "    input_string = \"Th is is an ex am pl ew it hs pa ce\"\n",
        "\n",
        "    print(\"\".join(input_string.split()))\n",
        "\n",
        "concat_strings()"
      ],
      "execution_count": 4,
      "outputs": [
        {
          "output_type": "stream",
          "text": [
            "Thisisanexamplewithspace\n"
          ],
          "name": "stdout"
        }
      ]
    }
  ]
}