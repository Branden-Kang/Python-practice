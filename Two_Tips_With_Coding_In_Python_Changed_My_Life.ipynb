{
  "nbformat": 4,
  "nbformat_minor": 0,
  "metadata": {
    "colab": {
      "name": "Two Tips With Coding In Python Changed My Life.ipynb",
      "provenance": [],
      "authorship_tag": "ABX9TyOUD6AoQPdQ9Vv2OnwaVKH+"
    },
    "kernelspec": {
      "name": "python3",
      "display_name": "Python 3"
    },
    "language_info": {
      "name": "python"
    }
  },
  "cells": [
    {
      "cell_type": "markdown",
      "source": [
        "[Reference](https://medium.com/@mhmdjmala51/two-tips-with-coding-in-python-changed-my-life-1142892fc405)"
      ],
      "metadata": {
        "id": "9Lgv4Tw8LwDG"
      }
    },
    {
      "cell_type": "code",
      "execution_count": 1,
      "metadata": {
        "colab": {
          "base_uri": "https://localhost:8080/"
        },
        "id": "cMBcAKMiLuDE",
        "outputId": "3b88d971-8552-4c43-feba-cffb8f99da9d"
      },
      "outputs": [
        {
          "output_type": "stream",
          "name": "stdout",
          "text": [
            "Length of \"Python\" string is: 6\n"
          ]
        }
      ],
      "source": [
        "# Create a list contains the items \"Strings\" \n",
        "items = [\"Java\", \"Python\", \"C++\", \"Rust\"]\n",
        "\n",
        "# Create a variable to store the length of the longest word\n",
        "max_length = 0\n",
        "\n",
        "# Create a variable to store the longest word \n",
        "longest_word = ''\n",
        "\n",
        "# create a for loop\n",
        "for item in items:\n",
        "  # Create a variable to store the length of each word\n",
        "  l = 0\n",
        "  for char in item:\n",
        "    l += 1\n",
        "  if l > max_length:\n",
        "    max_length = l\n",
        "    longest_word = item\n",
        "\n",
        "# Show the result\n",
        "print(F\"Length of \\\"{longest_word}\\\" string is: {max_length}\")"
      ]
    },
    {
      "cell_type": "code",
      "source": [
        "# Create a list contains the items \"Strings\"\n",
        "items = [\"Java\", \"Python\", \"C++\", \"Rust\"]\n",
        "\n",
        "longest_word = max(items, key=len)\n",
        "\n",
        "# Show the result\n",
        "print(F\"The longest string is \\\"{longest_word}\\\" \")"
      ],
      "metadata": {
        "colab": {
          "base_uri": "https://localhost:8080/"
        },
        "id": "tm9rZ4ohLzU1",
        "outputId": "636f8fcf-561d-4ab0-c4a2-0e658b9b3b0f"
      },
      "execution_count": 2,
      "outputs": [
        {
          "output_type": "stream",
          "name": "stdout",
          "text": [
            "The longest string is \"Python\" \n"
          ]
        }
      ]
    },
    {
      "cell_type": "code",
      "source": [
        "# Create a list\n",
        "companies = [\"apple\", \"microsoft\", \"google\", \"mawdoo3\", \"yahoo\"]\n",
        "# Create a new list to store the values in it \n",
        "new_list = []\n",
        "\n",
        "for company in companies:\n",
        "  # Some condition\n",
        "  if \"m\" in company:\n",
        "    new_list.append(company)\n",
        "\n",
        "# Show result\n",
        "print(new_list)"
      ],
      "metadata": {
        "colab": {
          "base_uri": "https://localhost:8080/"
        },
        "id": "fAPsVILRL00F",
        "outputId": "f002c9ea-066c-4809-f2ad-42b4558b2492"
      },
      "execution_count": 3,
      "outputs": [
        {
          "output_type": "stream",
          "name": "stdout",
          "text": [
            "['microsoft', 'mawdoo3']\n"
          ]
        }
      ]
    },
    {
      "cell_type": "code",
      "source": [
        "# Create a list\n",
        "companies = [\"apple\", \"microsoft\", \"google\", \"mawdoo3\", \"yahoo\"]\n",
        "\n",
        "# List comprehension\n",
        "new_list = [c for c in companies if \"m\" in c]\n",
        "\n",
        "print(new_list)"
      ],
      "metadata": {
        "id": "L2V-lCQfL2ME",
        "outputId": "2ec61b67-8b3b-4f0b-be63-225591a0adaa",
        "colab": {
          "base_uri": "https://localhost:8080/"
        }
      },
      "execution_count": 4,
      "outputs": [
        {
          "output_type": "stream",
          "name": "stdout",
          "text": [
            "['microsoft', 'mawdoo3']\n"
          ]
        }
      ]
    }
  ]
}