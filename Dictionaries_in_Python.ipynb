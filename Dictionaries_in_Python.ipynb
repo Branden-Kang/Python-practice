{
  "nbformat": 4,
  "nbformat_minor": 0,
  "metadata": {
    "colab": {
      "name": "Dictionaries in Python.ipynb",
      "provenance": [],
      "authorship_tag": "ABX9TyPF7i1kTNG1R+vkiJm89VoA"
    },
    "kernelspec": {
      "name": "python3",
      "display_name": "Python 3"
    }
  },
  "cells": [
    {
      "cell_type": "code",
      "metadata": {
        "colab": {
          "base_uri": "https://localhost:8080/"
        },
        "id": "iDlJZqFsYezS",
        "outputId": "7feb1408-c5b5-4fe7-8651-f12715c067a5"
      },
      "source": [
        "dict1 = {1:'apple',2:'banana'}\n",
        "print(dict1)\n",
        "\n",
        "dict2 = {1:1,2:[1,2,3],3:['apple','banna','grape']}\n",
        "print(dict2)"
      ],
      "execution_count": 2,
      "outputs": [
        {
          "output_type": "stream",
          "text": [
            "{1: 'apple', 2: 'banana'}\n",
            "{1: 1, 2: [1, 2, 3], 3: ['apple', 'banna', 'grape']}\n"
          ],
          "name": "stdout"
        }
      ]
    },
    {
      "cell_type": "code",
      "metadata": {
        "colab": {
          "base_uri": "https://localhost:8080/"
        },
        "id": "dD3qgIkmZK4K",
        "outputId": "c39ecd30-9b50-4335-a82b-476e1f850fe0"
      },
      "source": [
        "dict1.keys()"
      ],
      "execution_count": 3,
      "outputs": [
        {
          "output_type": "execute_result",
          "data": {
            "text/plain": [
              "dict_keys([1, 2])"
            ]
          },
          "metadata": {
            "tags": []
          },
          "execution_count": 3
        }
      ]
    },
    {
      "cell_type": "code",
      "metadata": {
        "colab": {
          "base_uri": "https://localhost:8080/"
        },
        "id": "b9Wt1XNNZV6f",
        "outputId": "245b2cf2-395c-4228-bfb1-18eda3bfefa4"
      },
      "source": [
        "dict1.values"
      ],
      "execution_count": 4,
      "outputs": [
        {
          "output_type": "execute_result",
          "data": {
            "text/plain": [
              "<function dict.values>"
            ]
          },
          "metadata": {
            "tags": []
          },
          "execution_count": 4
        }
      ]
    },
    {
      "cell_type": "code",
      "metadata": {
        "colab": {
          "base_uri": "https://localhost:8080/",
          "height": 37
        },
        "id": "lWBMtXcwZXDn",
        "outputId": "700b7201-21d8-4d25-9451-cb21300e619a"
      },
      "source": [
        "dict1[2]"
      ],
      "execution_count": 5,
      "outputs": [
        {
          "output_type": "execute_result",
          "data": {
            "application/vnd.google.colaboratory.intrinsic+json": {
              "type": "string"
            },
            "text/plain": [
              "'banana'"
            ]
          },
          "metadata": {
            "tags": []
          },
          "execution_count": 5
        }
      ]
    },
    {
      "cell_type": "code",
      "metadata": {
        "colab": {
          "base_uri": "https://localhost:8080/"
        },
        "id": "EDwoMCeKZYMp",
        "outputId": "d266971a-3c8f-4db7-a60c-62195c48a063"
      },
      "source": [
        "dict2[2]"
      ],
      "execution_count": 6,
      "outputs": [
        {
          "output_type": "execute_result",
          "data": {
            "text/plain": [
              "[1, 2, 3]"
            ]
          },
          "metadata": {
            "tags": []
          },
          "execution_count": 6
        }
      ]
    },
    {
      "cell_type": "code",
      "metadata": {
        "colab": {
          "base_uri": "https://localhost:8080/"
        },
        "id": "a7SvD-AiZay6",
        "outputId": "94210806-ce21-4d57-ef8e-15bd5b1087a0"
      },
      "source": [
        "dict2[2][2]"
      ],
      "execution_count": 7,
      "outputs": [
        {
          "output_type": "execute_result",
          "data": {
            "text/plain": [
              "3"
            ]
          },
          "metadata": {
            "tags": []
          },
          "execution_count": 7
        }
      ]
    },
    {
      "cell_type": "code",
      "metadata": {
        "colab": {
          "base_uri": "https://localhost:8080/"
        },
        "id": "HkT-a7LwZd2r",
        "outputId": "bcc622c0-63a9-4319-fbc3-940f906ad665"
      },
      "source": [
        "dict1[2]='grape'\n",
        "print(dict1)"
      ],
      "execution_count": 8,
      "outputs": [
        {
          "output_type": "stream",
          "text": [
            "{1: 'apple', 2: 'grape'}\n"
          ],
          "name": "stdout"
        }
      ]
    },
    {
      "cell_type": "code",
      "metadata": {
        "colab": {
          "base_uri": "https://localhost:8080/"
        },
        "id": "ciIBQ9tYZkKr",
        "outputId": "b5856d27-5cbd-4d41-e148-3e45e4f651e2"
      },
      "source": [
        "nested_dict = {'key':{'nested_key':{'nested_sub_key':'value'}}}\n",
        "print(nested_dict)"
      ],
      "execution_count": 9,
      "outputs": [
        {
          "output_type": "stream",
          "text": [
            "{'key': {'nested_key': {'nested_sub_key': 'value'}}}\n"
          ],
          "name": "stdout"
        }
      ]
    },
    {
      "cell_type": "code",
      "metadata": {
        "colab": {
          "base_uri": "https://localhost:8080/",
          "height": 37
        },
        "id": "PP380hJQZ2N7",
        "outputId": "bd1da3cd-57b0-4b78-c2be-ade4b39c4c14"
      },
      "source": [
        "nested_dict['key']['nested_key']['nested_sub_key']"
      ],
      "execution_count": 10,
      "outputs": [
        {
          "output_type": "execute_result",
          "data": {
            "application/vnd.google.colaboratory.intrinsic+json": {
              "type": "string"
            },
            "text/plain": [
              "'value'"
            ]
          },
          "metadata": {
            "tags": []
          },
          "execution_count": 10
        }
      ]
    },
    {
      "cell_type": "code",
      "metadata": {
        "colab": {
          "base_uri": "https://localhost:8080/"
        },
        "id": "-KNj42TWZ58_",
        "outputId": "17367057-f87d-4168-b012-db5e9bed8642"
      },
      "source": [
        "dict1.keys()"
      ],
      "execution_count": 11,
      "outputs": [
        {
          "output_type": "execute_result",
          "data": {
            "text/plain": [
              "dict_keys([1, 2])"
            ]
          },
          "metadata": {
            "tags": []
          },
          "execution_count": 11
        }
      ]
    },
    {
      "cell_type": "code",
      "metadata": {
        "colab": {
          "base_uri": "https://localhost:8080/"
        },
        "id": "ygJsh2RpaAsL",
        "outputId": "57645b02-4742-4a3d-8f4e-e517adfffbe6"
      },
      "source": [
        "dict1.values()"
      ],
      "execution_count": 12,
      "outputs": [
        {
          "output_type": "execute_result",
          "data": {
            "text/plain": [
              "dict_values(['apple', 'grape'])"
            ]
          },
          "metadata": {
            "tags": []
          },
          "execution_count": 12
        }
      ]
    },
    {
      "cell_type": "code",
      "metadata": {
        "colab": {
          "base_uri": "https://localhost:8080/"
        },
        "id": "a57oyhCIaCi5",
        "outputId": "f50a4c34-f5df-40da-e382-ac3bb5d82469"
      },
      "source": [
        "dict1.items()"
      ],
      "execution_count": 13,
      "outputs": [
        {
          "output_type": "execute_result",
          "data": {
            "text/plain": [
              "dict_items([(1, 'apple'), (2, 'grape')])"
            ]
          },
          "metadata": {
            "tags": []
          },
          "execution_count": 13
        }
      ]
    },
    {
      "cell_type": "code",
      "metadata": {
        "id": "6lJVX5ZpaEDE"
      },
      "source": [
        "dict1.clear()"
      ],
      "execution_count": 14,
      "outputs": []
    },
    {
      "cell_type": "code",
      "metadata": {
        "colab": {
          "base_uri": "https://localhost:8080/"
        },
        "id": "-W8rUO-ZaFDA",
        "outputId": "2af5ccf8-3da0-4a77-ebc7-4c951b043979"
      },
      "source": [
        "dict1"
      ],
      "execution_count": 15,
      "outputs": [
        {
          "output_type": "execute_result",
          "data": {
            "text/plain": [
              "{}"
            ]
          },
          "metadata": {
            "tags": []
          },
          "execution_count": 15
        }
      ]
    }
  ]
}