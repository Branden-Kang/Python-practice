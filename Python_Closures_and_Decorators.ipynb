{
  "nbformat": 4,
  "nbformat_minor": 0,
  "metadata": {
    "colab": {
      "name": "Python - Closures and Decorators.ipynb",
      "provenance": [],
      "authorship_tag": "ABX9TyNqY9DaNDdjjYW03iTOZguO"
    },
    "kernelspec": {
      "name": "python3",
      "display_name": "Python 3"
    },
    "language_info": {
      "name": "python"
    }
  },
  "cells": [
    {
      "cell_type": "markdown",
      "metadata": {
        "id": "3Xx7C7KbYE48"
      },
      "source": [
        "[Reference](https://nandhabalanmarimuthu.medium.com/python-closures-and-decorators-7ab85f349dae)"
      ]
    },
    {
      "cell_type": "code",
      "metadata": {
        "colab": {
          "base_uri": "https://localhost:8080/"
        },
        "id": "ZiqWIczWYC58",
        "outputId": "04c638d4-624b-4593-e54e-b8ccaca0cb59"
      },
      "source": [
        "def fun1(x):\n",
        " def fun2():\n",
        "  print(x**2)\n",
        " fun2()\n",
        "fun1(5)"
      ],
      "execution_count": 1,
      "outputs": [
        {
          "output_type": "stream",
          "text": [
            "25\n"
          ],
          "name": "stdout"
        }
      ]
    },
    {
      "cell_type": "code",
      "metadata": {
        "colab": {
          "base_uri": "https://localhost:8080/",
          "height": 130
        },
        "id": "LUYpySV0YIfh",
        "outputId": "41628416-1352-496f-874f-501ac422d380"
      },
      "source": [
        "def fun1(x):\n",
        "    def fun2():\n",
        "        print(x**2)\n",
        "    return fun2  #Returning instead of calling\n",
        "\n",
        "a = fun1(5)\n",
        "del(fun1())   #deleting the Original function\n",
        "a()"
      ],
      "execution_count": 8,
      "outputs": [
        {
          "output_type": "error",
          "ename": "SyntaxError",
          "evalue": "ignored",
          "traceback": [
            "\u001b[0;36m  File \u001b[0;32m\"<ipython-input-8-fb5b647a5ddc>\"\u001b[0;36m, line \u001b[0;32m7\u001b[0m\n\u001b[0;31m    del(fun1())   #deleting the Original function\u001b[0m\n\u001b[0m      ^\u001b[0m\n\u001b[0;31mSyntaxError\u001b[0m\u001b[0;31m:\u001b[0m can't delete function call\n"
          ]
        }
      ]
    },
    {
      "cell_type": "code",
      "metadata": {
        "colab": {
          "base_uri": "https://localhost:8080/"
        },
        "id": "PP1jFWl6YOVk",
        "outputId": "aad27261-7b99-4a42-e701-5398f514013a"
      },
      "source": [
        "def fun1(func):\n",
        " def fun2(x):\n",
        "    func(x)\n",
        "    print('hi',x)\n",
        " return fun2\n",
        " \n",
        "@fun1             #calling the original function\n",
        "def fun3(y):\n",
        "    print('hello',y)\n",
        "fun3('jon')"
      ],
      "execution_count": 6,
      "outputs": [
        {
          "output_type": "stream",
          "text": [
            "hello jon\n",
            "hi jon\n"
          ],
          "name": "stdout"
        }
      ]
    }
  ]
}