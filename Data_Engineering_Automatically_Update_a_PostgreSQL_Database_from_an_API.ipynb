{
  "nbformat": 4,
  "nbformat_minor": 0,
  "metadata": {
    "colab": {
      "name": "Data Engineering: Automatically Update a PostgreSQL Database from an API.ipynb",
      "provenance": [],
      "collapsed_sections": [],
      "authorship_tag": "ABX9TyNUhjyEu6B0AIbmigD4cvDC"
    },
    "kernelspec": {
      "name": "python3",
      "display_name": "Python 3"
    },
    "language_info": {
      "name": "python"
    }
  },
  "cells": [
    {
      "cell_type": "markdown",
      "source": [
        "[Reference](https://elibenjamin.medium.com/data-engineering-automatically-update-postgresql-database-from-api-4f07da1df2a9)"
      ],
      "metadata": {
        "id": "BZ68ERun7-zU"
      }
    },
    {
      "cell_type": "code",
      "execution_count": 1,
      "metadata": {
        "id": "Xer8b7wA74PI"
      },
      "outputs": [],
      "source": [
        "#### source: https://www.alphavantage.co/documentation/#intraday-extended\n",
        "##### API key: KKIN2Z4QVNYBF6MI\n",
        "\n",
        "import requests\n",
        "import psycopg2\n",
        "import numpy as np\n",
        "import psycopg2.extras as extras\n",
        "import pandas as pd\n",
        "from datetime import datetime\n",
        "import pytz\n",
        "\n",
        "portfolio_stocks = ['TSLA', 'AAPL', 'XOM', 'GOOGL']\n",
        "dft = pd.DataFrame()\n",
        "\n",
        "for stock in portfolio_stocks:\n",
        "    # extract intraday data from free AlphaAdvantage API\n",
        "    url = 'https://www.alphavantage.co/query?function=TIME_SERIES_INTRADAY&symbol=%s&interval=1min&outputsize=full&apikey=KKIN2Z4QVNYBF6MI' %stock\n",
        "    r = requests.get(url)\n",
        "    data = r.json()\n",
        "\n",
        "    #extract ticker from metadata\n",
        "    symbol = pd.DataFrame(data['Meta Data'], index=[0])['2. Symbol'][0]\n",
        "\n",
        "    # turn time series into DF and transform\n",
        "    df = pd.DataFrame(data['Time Series (1min)']).T.reset_index()\n",
        "\n",
        "    # cleaning to match postgres table (as below):\n",
        "        # CREATE TABLE IF NOT EXISTS stocks(\n",
        "        # \tticker VARCHAR(10) NOT NULL,\n",
        "        # \ttime TIMESTAMP NOT NULL,\n",
        "        # \topen FLOAT(2),\n",
        "        # \thigh FLOAT(2),\n",
        "        # \tlow FLOAT(2),\n",
        "        # \tclose FLOAT(2),\n",
        "        # \tvolume INTEGER\n",
        "        # );\n",
        "\n",
        "    # change data types\n",
        "    df = df.astype({'1. open':'float', '2. high':'float', '3. low':'float', '4. close':'float', '5. volume':'float'})\n",
        "    # change column names\n",
        "    df = df.rename({'index':'time', '1. open':'open', '2. high':'high', '3. low':'low', '4. close':'close', '5. volume':'volume'}, axis=1)\n",
        "    # set ticker name from json metadata\n",
        "    df['ticker'] = symbol\n",
        "    # concatenate the dataframe\n",
        "    dft = pd.concat([dft, df], axis = 0)\n",
        "    \n",
        "def execute_values(conn, df, table):\n",
        "    \n",
        "    # get new york time zone for log file\n",
        "    logtime = datetime.now(pytz.timezone('America/New_York'))\n",
        "    # transform timestamp into unique log file name\n",
        "    logname = str(logtime)[:19].translate(str.maketrans({'-':'', ' ':'', ':':''}))\n",
        "\n",
        "    tuples = [tuple(x) for x in df.to_numpy()]\n",
        "\n",
        "    cols = ','.join(list(df.columns))\n",
        "    # UPSERT query with conflict handling to avoid duplication\n",
        "    query = \"INSERT INTO %s(%s) VALUES %%s ON CONFLICT DO NOTHING\" % (table, cols)\n",
        "    cursor = conn.cursor()\n",
        "    try:\n",
        "        extras.execute_values(cursor, query, tuples)\n",
        "        conn.commit()\n",
        "        message = 'PostgreSQL 14 - Stocks DB - Stocks Table has been successfule updated at %s' %logtime\n",
        "    except (Exception, psycopg2.DatabaseError) as error:\n",
        "        message = 'Error: %s' % error\n",
        "        conn.rollback()\n",
        "        cursor.close()\n",
        "        return 1\n",
        "    cursor.close()\n",
        "    # write log\n",
        "    log = open('logs/%s.txt' %logname, 'w')\n",
        "    log.write('%s\\n%s' %(logtime, message))\n",
        "    log.close()\n",
        "\n",
        "conn = psycopg2.connect(user=\"postgres\",\n",
        "                            password=\"462shadow\",\n",
        "                            host='localhost',\n",
        "                            port=\"5433\",\n",
        "                            database=\"stocks\")\n",
        "\n",
        "# execute the function for the specific ticker                             \n",
        "execute_values(conn, dft, 'stocks')"
      ]
    }
  ]
}