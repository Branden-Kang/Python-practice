{
  "nbformat": 4,
  "nbformat_minor": 0,
  "metadata": {
    "colab": {
      "name": "Meta-Programming in Python.ipynb",
      "provenance": [],
      "authorship_tag": "ABX9TyNe/Yj8L8mGxfIgbvPyhUdq"
    },
    "kernelspec": {
      "name": "python3",
      "display_name": "Python 3"
    }
  },
  "cells": [
    {
      "cell_type": "markdown",
      "metadata": {
        "id": "capHwbHncp5j"
      },
      "source": [
        "[Reference](https://betterprogramming.pub/meta-programming-in-python-7fb94c8c7152)"
      ]
    },
    {
      "cell_type": "markdown",
      "metadata": {
        "id": "QJD8nVujcyn3"
      },
      "source": [
        "# Meta-Programming\n",
        "\n",
        "1. Decorators\n",
        "2. Meta-classes\n"
      ]
    },
    {
      "cell_type": "markdown",
      "metadata": {
        "id": "zEKoA1N4cuQn"
      },
      "source": [
        "## 1. Decorators"
      ]
    },
    {
      "cell_type": "code",
      "metadata": {
        "id": "FmRnz-AScmRT"
      },
      "source": [
        "def add(x, y):\n",
        "    return x + y    \n",
        "\n",
        "def sub(x, y):\n",
        "    return x - y\n",
        "    \n",
        "def mul(x, y):\n",
        "    return x * y"
      ],
      "execution_count": 1,
      "outputs": []
    },
    {
      "cell_type": "code",
      "metadata": {
        "colab": {
          "base_uri": "https://localhost:8080/"
        },
        "id": "TE-liU91cts8",
        "outputId": "f6306f2b-8d1b-428f-ba7c-4c2241e9677f"
      },
      "source": [
        "def add(x, y):\n",
        "    print(\"add is called with parameter {0},{1}\".format(x,y))\n",
        "    return x + y    \n",
        "\n",
        "def sub(x, y):\n",
        "    print(\"sub is called with parameter {0},{1}\".format(x,y))\n",
        "    return x - y\n",
        "    \n",
        "def mul(x, y):\n",
        "    print(\"mul is called with parameter {0},{1}\".format(x,y))\n",
        "    return x * y    \n",
        "\n",
        "print(add(5,3))\n",
        "print(sub(5,3))\n",
        "print(mul(5,3))"
      ],
      "execution_count": 2,
      "outputs": [
        {
          "output_type": "stream",
          "text": [
            "add is called with parameter 5,3\n",
            "8\n",
            "sub is called with parameter 5,3\n",
            "2\n",
            "mul is called with parameter 5,3\n",
            "15\n"
          ],
          "name": "stdout"
        }
      ]
    },
    {
      "cell_type": "code",
      "metadata": {
        "id": "i0eMJtSLc7yD"
      },
      "source": [
        "def my_decorator(func):\n",
        "    def wrapper_function(*args):\n",
        "        print(\"{0} is called with parameter {1}\".format(func.__name__, args))\n",
        "        return func(*args)\n",
        "    return wrapper_function\n",
        "\n",
        "@my_decorator\n",
        "def add(x, y):\n",
        "    return x + y\n",
        "    \n",
        "@my_decorator\n",
        "def sub(x, y):\n",
        "    return x - y\n",
        "\n",
        "@my_decorator    \n",
        "def mul(x, y):\n",
        "    return x * y "
      ],
      "execution_count": 3,
      "outputs": []
    },
    {
      "cell_type": "code",
      "metadata": {
        "colab": {
          "base_uri": "https://localhost:8080/"
        },
        "id": "159GnJ-SdD3z",
        "outputId": "931b2d0c-8338-4b99-ca89-bd83e38e3286"
      },
      "source": [
        "print(add(5,3))\n",
        "print(sub(5,3))\n",
        "print(mul(5,3))"
      ],
      "execution_count": 4,
      "outputs": [
        {
          "output_type": "stream",
          "text": [
            "add is called with parameter (5, 3)\n",
            "8\n",
            "sub is called with parameter (5, 3)\n",
            "2\n",
            "mul is called with parameter (5, 3)\n",
            "15\n"
          ],
          "name": "stdout"
        }
      ]
    },
    {
      "cell_type": "markdown",
      "metadata": {
        "id": "fMF52b4CdNnX"
      },
      "source": [
        "## 2. Meta-Classes"
      ]
    },
    {
      "cell_type": "code",
      "metadata": {
        "id": "3R-xip2idGv4"
      },
      "source": [
        "class Calc():\n",
        "    def add(self, x, y):\n",
        "        return x + y\n",
        "    \n",
        "    def sub(self, x, y):\n",
        "        return x - y\n",
        "    \n",
        "    def mul(self, x, y):\n",
        "        return x * y"
      ],
      "execution_count": 5,
      "outputs": []
    },
    {
      "cell_type": "code",
      "metadata": {
        "colab": {
          "base_uri": "https://localhost:8080/"
        },
        "id": "nDoiNGF4dWYP",
        "outputId": "658a8635-b7ca-4d54-ded2-0a943cadb8c9"
      },
      "source": [
        "def debug_function(func):\n",
        "\n",
        "    def wrapper(*args, **kwargs):\n",
        "        print(\"{0} is called with parameter {1}\".format(func.__qualname__, args[1:]))\n",
        "        return func(*args, **kwargs)\n",
        "    \n",
        "    return wrapper\n",
        "\n",
        "def debug_all_methods(cls):\n",
        "\n",
        "    for key, val in vars(cls).items():\n",
        "        if callable(val):\n",
        "            setattr(cls, key, debug_function(val))\n",
        "    return cls\n",
        "\n",
        "class MetaClassDebug(type):\n",
        "\n",
        "    def __new__(cls, clsname, bases, clsdict):\n",
        "        obj = super().__new__(cls, clsname, bases, clsdict)\n",
        "        obj = debug_all_methods(obj)\n",
        "        return obj\n",
        "\n",
        "class Calc(metaclass=MetaClassDebug):\n",
        "    def add(self, x, y):\n",
        "        return x + y\n",
        "\n",
        "    def sub(self, x, y):\n",
        "        return x - y\n",
        "\n",
        "    def mul(self, x, y):\n",
        "        return x * y\n",
        "\n",
        "calc = Calc()\n",
        "print(calc.add(2, 3))\n",
        "print(calc.sub(2, 3))\n",
        "print(calc.mul(2, 3))"
      ],
      "execution_count": 6,
      "outputs": [
        {
          "output_type": "stream",
          "text": [
            "Calc.add is called with parameter (2, 3)\n",
            "5\n",
            "Calc.sub is called with parameter (2, 3)\n",
            "-1\n",
            "Calc.mul is called with parameter (2, 3)\n",
            "6\n"
          ],
          "name": "stdout"
        }
      ]
    }
  ]
}