{
  "nbformat": 4,
  "nbformat_minor": 0,
  "metadata": {
    "colab": {
      "provenance": [],
      "authorship_tag": "ABX9TyPcYoZXbSvE0t04W/eaSvsY"
    },
    "kernelspec": {
      "name": "python3",
      "display_name": "Python 3"
    },
    "language_info": {
      "name": "python"
    }
  },
  "cells": [
    {
      "cell_type": "markdown",
      "source": [
        "[Reference](https://medium.com/@kirantechblog/what-will-happen-if-we-multiply-a-python-list-by-1-f8d4bca73e18)"
      ],
      "metadata": {
        "id": "WDkwfQH3nK7g"
      }
    },
    {
      "cell_type": "code",
      "execution_count": 1,
      "metadata": {
        "colab": {
          "base_uri": "https://localhost:8080/"
        },
        "id": "5LGb03aLnG9N",
        "outputId": "6cb360e5-3935-4a32-b140-7beafc863c3a"
      },
      "outputs": [
        {
          "output_type": "stream",
          "name": "stdout",
          "text": [
            "[1, 2, 3, 1, 2, 3, 1, 2, 3]\n"
          ]
        }
      ],
      "source": [
        "numbers = [1, 2, 3]\n",
        "print(numbers * 3)"
      ]
    },
    {
      "cell_type": "code",
      "source": [
        "numbers = [1, 2, 3]\n",
        "print(numbers * -1)"
      ],
      "metadata": {
        "colab": {
          "base_uri": "https://localhost:8080/"
        },
        "id": "loG36FCrnP6K",
        "outputId": "43cae1fb-2fd3-4171-a31c-ebf81c4c04fd"
      },
      "execution_count": 2,
      "outputs": [
        {
          "output_type": "stream",
          "name": "stdout",
          "text": [
            "[]\n"
          ]
        }
      ]
    },
    {
      "cell_type": "code",
      "source": [
        "numbers = [5, 6, 7]\n",
        "print(numbers * -3)"
      ],
      "metadata": {
        "colab": {
          "base_uri": "https://localhost:8080/"
        },
        "id": "9quqG4ivnRMG",
        "outputId": "a3eca5b3-d814-45cf-da98-a509ade52ca7"
      },
      "execution_count": 3,
      "outputs": [
        {
          "output_type": "stream",
          "name": "stdout",
          "text": [
            "[]\n"
          ]
        }
      ]
    },
    {
      "cell_type": "code",
      "source": [
        "numbers = [[1, 2], [3, 4]]\n",
        "print(numbers * -1)"
      ],
      "metadata": {
        "colab": {
          "base_uri": "https://localhost:8080/"
        },
        "id": "p6ECcqSDnUit",
        "outputId": "54ba4d95-27fd-4906-9dcb-ecd1cd305b44"
      },
      "execution_count": 4,
      "outputs": [
        {
          "output_type": "stream",
          "name": "stdout",
          "text": [
            "[]\n"
          ]
        }
      ]
    },
    {
      "cell_type": "markdown",
      "source": [
        "- The Python will repeat the number list N times. If N is positive, then the list will duplicate itself as many times as N is.\n",
        "- If N is zero, then it will return an empty list.\n",
        "- When we multiply the negative N with the list, then Python will treat negative numbers just like 0."
      ],
      "metadata": {
        "id": "PJgueYksnhxW"
      }
    }
  ]
}