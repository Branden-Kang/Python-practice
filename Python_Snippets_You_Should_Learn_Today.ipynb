{
  "nbformat": 4,
  "nbformat_minor": 0,
  "metadata": {
    "colab": {
      "name": "Python Snippets You Should Learn Today.ipynb",
      "provenance": [],
      "authorship_tag": "ABX9TyPPNF+86S4MhAmODmbZqVR4"
    },
    "kernelspec": {
      "name": "python3",
      "display_name": "Python 3"
    },
    "language_info": {
      "name": "python"
    }
  },
  "cells": [
    {
      "cell_type": "markdown",
      "metadata": {
        "id": "RBXu3ODiwfXP"
      },
      "source": [
        "[Reference](https://python.plainenglish.io/python-snippets-you-should-learn-today-e796456bd6db)"
      ]
    },
    {
      "cell_type": "markdown",
      "metadata": {
        "id": "Dk0jJKXiwiju"
      },
      "source": [
        "# 1. Magic of Lambda"
      ]
    },
    {
      "cell_type": "code",
      "metadata": {
        "colab": {
          "base_uri": "https://localhost:8080/"
        },
        "id": "qIQVc7sJvhRK",
        "outputId": "07722f5c-07c7-4e8c-8cc4-dfff992f5c6f"
      },
      "source": [
        "#example 1 finding odd number\n",
        "\n",
        "fun = lambda x : x % 2 != 0\n",
        "print(fun(3)) # true\n",
        "print(fun(2)) # false\n",
        "\n",
        "#example 2 lenght of string\n",
        "\n",
        "lenght = lambda x : len(x)\n",
        "print(lenght(\"Python\")) # 6"
      ],
      "execution_count": 1,
      "outputs": [
        {
          "output_type": "stream",
          "text": [
            "True\n",
            "False\n",
            "6\n"
          ],
          "name": "stdout"
        }
      ]
    },
    {
      "cell_type": "code",
      "metadata": {
        "colab": {
          "base_uri": "https://localhost:8080/"
        },
        "id": "n-NuHe6UwmFN",
        "outputId": "8026ce90-48c6-4b94-b4e8-6cfec2dee1c3"
      },
      "source": [
        "# iterating list with lambda\n",
        "\n",
        "mylst = [1, 2, 3, 4, 5, 6, 7, 8]\n",
        "\n",
        "fun = [(lambda x : x * x) (x) for x in mylst ]\n",
        "print(fun) # [1, 4, 9, 16, 25, 36, 49, 64]"
      ],
      "execution_count": 2,
      "outputs": [
        {
          "output_type": "stream",
          "text": [
            "[1, 4, 9, 16, 25, 36, 49, 64]\n"
          ],
          "name": "stdout"
        }
      ]
    },
    {
      "cell_type": "markdown",
      "metadata": {
        "id": "apFWD96VwqLy"
      },
      "source": [
        "# 2. Print Function with Condition"
      ]
    },
    {
      "cell_type": "code",
      "metadata": {
        "colab": {
          "base_uri": "https://localhost:8080/"
        },
        "id": "bJQoo-SewpAH",
        "outputId": "6bb20957-4d84-450d-adcc-a5bb115ce2ce"
      },
      "source": [
        "# example code\n",
        "num = 6\n",
        "print(\"This is even number\" if num % 2 == 0 else \"This is odd number\")"
      ],
      "execution_count": 4,
      "outputs": [
        {
          "output_type": "stream",
          "text": [
            "This is even number\n"
          ],
          "name": "stdout"
        }
      ]
    },
    {
      "cell_type": "markdown",
      "metadata": {
        "id": "zK5W7J3Ewtit"
      },
      "source": [
        "# 3. Use Counter Class"
      ]
    },
    {
      "cell_type": "code",
      "metadata": {
        "colab": {
          "base_uri": "https://localhost:8080/"
        },
        "id": "K3J1KZe6wsGf",
        "outputId": "7c03cfae-e9f7-4098-a29d-ca13081e47cc"
      },
      "source": [
        "from collections import Counter\n",
        "mylist = [100, 100, 200, 200, 200, 450, 660, 550, 550]\n",
        "occ = Counter(mylist)\n",
        "print(occ) # Counter({200: 3, 100: 2, 550: 2, 450: 1, 660: 1})\n",
        "#make in dict format\n",
        "print(dict(occ)) # {100: 2, 200: 3, 450: 1, 660: 1, 550: 2}"
      ],
      "execution_count": 5,
      "outputs": [
        {
          "output_type": "stream",
          "text": [
            "Counter({200: 3, 100: 2, 550: 2, 450: 1, 660: 1})\n",
            "{100: 2, 200: 3, 450: 1, 660: 1, 550: 2}\n"
          ],
          "name": "stdout"
        }
      ]
    },
    {
      "cell_type": "markdown",
      "metadata": {
        "id": "V1pEvuabwx4a"
      },
      "source": [
        "# 4. Split a string in a list of substring"
      ]
    },
    {
      "cell_type": "code",
      "metadata": {
        "colab": {
          "base_uri": "https://localhost:8080/"
        },
        "id": "o-U28DEfww8v",
        "outputId": "db09a0cc-e6a7-400b-9d31-04e3b4a69ce8"
      },
      "source": [
        "#example 1\n",
        "string1 = \"I'm a Python Programmer\"\n",
        "lst1 = string1.split()\n",
        "print(lst1) # [\"I'm\", 'a', 'Python', 'Programmer']\n",
        "\n",
        "#example 2\n",
        "string2 = \"Learning Python is Fun\"\n",
        "lst2 = string2.split(\"Python\")\n",
        "print(lst2) # ['Learning ', ' is Fun']"
      ],
      "execution_count": 6,
      "outputs": [
        {
          "output_type": "stream",
          "text": [
            "[\"I'm\", 'a', 'Python', 'Programmer']\n",
            "['Learning ', ' is Fun']\n"
          ],
          "name": "stdout"
        }
      ]
    },
    {
      "cell_type": "markdown",
      "metadata": {
        "id": "u7ves0C4w3OP"
      },
      "source": [
        "# 5. Check string is alphabet or not"
      ]
    },
    {
      "cell_type": "code",
      "metadata": {
        "colab": {
          "base_uri": "https://localhost:8080/"
        },
        "id": "iJB9_o68w2RZ",
        "outputId": "cce47fa5-acb0-426a-86f5-b341f12c0245"
      },
      "source": [
        "data1 = \"Programming\"\n",
        "data2 = \"123\"\n",
        "print(data1.isalpha()) # True\n",
        "print(data2.isalpha()) # false"
      ],
      "execution_count": 7,
      "outputs": [
        {
          "output_type": "stream",
          "text": [
            "True\n",
            "False\n"
          ],
          "name": "stdout"
        }
      ]
    },
    {
      "cell_type": "markdown",
      "metadata": {
        "id": "YrShOR0ew5y2"
      },
      "source": [
        "# 6. Use try-except for Error Handling"
      ]
    },
    {
      "cell_type": "code",
      "metadata": {
        "colab": {
          "base_uri": "https://localhost:8080/"
        },
        "id": "rWqYD0uew4wy",
        "outputId": "859a3dde-520b-41ba-d26a-c61484b67496"
      },
      "source": [
        "#example 1\n",
        "num = 2\n",
        "\n",
        "try:\n",
        "    print(num2)\n",
        "except:\n",
        "    print(\"An Error Occurred\")"
      ],
      "execution_count": 8,
      "outputs": [
        {
          "output_type": "stream",
          "text": [
            "An Error Occurred\n"
          ],
          "name": "stdout"
        }
      ]
    },
    {
      "cell_type": "markdown",
      "metadata": {
        "id": "rvM5tKb0P3F_"
      },
      "source": [
        "# 7. Print location of Modules"
      ]
    },
    {
      "cell_type": "code",
      "metadata": {
        "colab": {
          "base_uri": "https://localhost:8080/"
        },
        "id": "N_lnNtUnw7wD",
        "outputId": "145b23e1-bfa5-4d8c-eb3c-644ed7550dcd"
      },
      "source": [
        "import os\n",
        "import requests\n",
        "print(os) # <module 'os' from 'C:\\\\Users\\\\hp\\\\AppData\\\\Local\\\\Programs\\\\Python\\\\Python37\\\\lib\\\\os.py'>\n",
        "print(requests) # <module 'requests' from 'C:\\\\Users\\\\hp\\\\AppData\\\\Local\\\\Programs\\\\Python\\\\Python37\\\\lib\\\\site-packages\\\\requests\\\\__init__.py'>"
      ],
      "execution_count": 9,
      "outputs": [
        {
          "output_type": "stream",
          "text": [
            "<module 'os' from '/usr/lib/python3.7/os.py'>\n",
            "<module 'requests' from '/usr/local/lib/python3.7/dist-packages/requests/__init__.py'>\n"
          ],
          "name": "stdout"
        }
      ]
    },
    {
      "cell_type": "markdown",
      "metadata": {
        "id": "smH2yubRP9Kf"
      },
      "source": [
        "# 8. Merge two sets"
      ]
    },
    {
      "cell_type": "code",
      "metadata": {
        "colab": {
          "base_uri": "https://localhost:8080/"
        },
        "id": "eDYztcE9P7V0",
        "outputId": "0297aca5-8188-4519-fa70-b78f4f796e29"
      },
      "source": [
        "mylst1 = {\"A\", \"B\", \"C\", \"D\"}\n",
        "mylst2 = {\"E\", \"F\", \"G\"}\n",
        "mergelst = mylst2.union(mylst1)\n",
        "print(mergelst) # {'A', 'F', 'C', 'E', 'B', 'G', 'D'}"
      ],
      "execution_count": 10,
      "outputs": [
        {
          "output_type": "stream",
          "text": [
            "{'F', 'C', 'E', 'B', 'A', 'G', 'D'}\n"
          ],
          "name": "stdout"
        }
      ]
    },
    {
      "cell_type": "markdown",
      "metadata": {
        "id": "DU2lQDXnQAu-"
      },
      "source": [
        "# 9. Values and keys of the dictionary"
      ]
    },
    {
      "cell_type": "code",
      "metadata": {
        "colab": {
          "base_uri": "https://localhost:8080/"
        },
        "id": "Kwo3NK-tP_Rb",
        "outputId": "3b36088e-01f2-417a-f48a-ba90bd7ed3c9"
      },
      "source": [
        "mydict = {1:\"a\", 2:\"b\", 3:\"c\"}\n",
        "values = list(mydict.values())\n",
        "keys = list(mydict.keys())\n",
        "print(values) # ['a', 'b', 'c']\n",
        "print(keys) # [1, 2, 3]"
      ],
      "execution_count": 11,
      "outputs": [
        {
          "output_type": "stream",
          "text": [
            "['a', 'b', 'c']\n",
            "[1, 2, 3]\n"
          ],
          "name": "stdout"
        }
      ]
    },
    {
      "cell_type": "markdown",
      "metadata": {
        "id": "OsTnqJPqQDs_"
      },
      "source": [
        "# 10. Remove False values"
      ]
    },
    {
      "cell_type": "code",
      "metadata": {
        "colab": {
          "base_uri": "https://localhost:8080/"
        },
        "id": "0KP0T7KSQC31",
        "outputId": "f00f61ef-429e-49ed-fb37-3144d2599fca"
      },
      "source": [
        "mylst = [False, None, 0, 2, None, 9, 4, 7]\n",
        "newlst = list(filter(None, mylst))\n",
        "\n",
        "print(newlst) # [2, 9, 4, 7]"
      ],
      "execution_count": 12,
      "outputs": [
        {
          "output_type": "stream",
          "text": [
            "[2, 9, 4, 7]\n"
          ],
          "name": "stdout"
        }
      ]
    },
    {
      "cell_type": "markdown",
      "metadata": {
        "id": "h2MJhy6PQGaS"
      },
      "source": [
        "# 11. Unicode of Characters"
      ]
    },
    {
      "cell_type": "code",
      "metadata": {
        "colab": {
          "base_uri": "https://localhost:8080/"
        },
        "id": "_RfZFsQ1QFQg",
        "outputId": "9b0471ec-8104-4d06-f3c3-50edfa417fa0"
      },
      "source": [
        "print(ord(\"C\")) # 67\n",
        "print(ord(\"F\")) # 70\n",
        "print(ord(\"G\")) # 71\n",
        "print(ord(\"H\")) # 72\n",
        "print(ord(\"P\")) # 80"
      ],
      "execution_count": 13,
      "outputs": [
        {
          "output_type": "stream",
          "text": [
            "67\n",
            "70\n",
            "71\n",
            "72\n",
            "80\n"
          ],
          "name": "stdout"
        }
      ]
    },
    {
      "cell_type": "markdown",
      "metadata": {
        "id": "0bFd28DKQIsB"
      },
      "source": [
        "# 12. Generate Unique ids with Uuid"
      ]
    },
    {
      "cell_type": "code",
      "metadata": {
        "colab": {
          "base_uri": "https://localhost:8080/"
        },
        "id": "SyEWU7dtQHvl",
        "outputId": "0b03a71c-f1f2-427b-d1f3-05cc2065c2fd"
      },
      "source": [
        "import uuid\n",
        "#make random uuid\n",
        "print(uuid.uuid4()) # 3b56e3db-278b-4d99-8072-47bade4635b7\n",
        "\n",
        "#convert uuid to 32 char hexadecimal\n",
        "print(uuid.uuid4().hex) # 3190bf84ba8846d69a1aadd9cfbd373e"
      ],
      "execution_count": 14,
      "outputs": [
        {
          "output_type": "stream",
          "text": [
            "0a0ff95c-ec6a-4b71-a928-98d49da6804a\n",
            "5e3d53e30f2349b381ac3803c64db00d\n"
          ],
          "name": "stdout"
        }
      ]
    }
  ]
}