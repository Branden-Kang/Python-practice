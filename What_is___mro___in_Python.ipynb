{
  "nbformat": 4,
  "nbformat_minor": 0,
  "metadata": {
    "colab": {
      "provenance": [],
      "authorship_tag": "ABX9TyMiO8IbLX9rkvi52s2CxoL7"
    },
    "kernelspec": {
      "name": "python3",
      "display_name": "Python 3"
    },
    "language_info": {
      "name": "python"
    }
  },
  "cells": [
    {
      "cell_type": "markdown",
      "source": [
        "[Reference](https://towardsdev.com/what-is-mro-in-python-87c0c07f0c5a)"
      ],
      "metadata": {
        "id": "35L5WUxgtKUW"
      }
    },
    {
      "cell_type": "code",
      "source": [
        "class A:\n",
        "    def method(self):\n",
        "        print(\"A.method() called\")\n",
        "        \n",
        "class B():\n",
        "    def method(self):\n",
        "        print(\"B.method() called\")\n",
        "\n",
        "class C(B,A):\n",
        "    pass\n",
        "    \n",
        "c = C()\n",
        "\n",
        "c.method()\n",
        "\n",
        "C.__mro__"
      ],
      "metadata": {
        "colab": {
          "base_uri": "https://localhost:8080/"
        },
        "id": "ic63sDkftMoG",
        "outputId": "3f7edc6a-da51-4060-ca92-697cad0bb93b"
      },
      "execution_count": 4,
      "outputs": [
        {
          "output_type": "stream",
          "name": "stdout",
          "text": [
            "B.method() called\n"
          ]
        },
        {
          "output_type": "execute_result",
          "data": {
            "text/plain": [
              "(__main__.C, __main__.B, __main__.A, object)"
            ]
          },
          "metadata": {},
          "execution_count": 4
        }
      ]
    },
    {
      "cell_type": "code",
      "source": [
        "class A:\n",
        "    def method(self):\n",
        "        print(\"A.method() called\")\n",
        "\n",
        "class B():\n",
        "    def method(self):\n",
        "        print(\"B.method() called\")\n",
        "\n",
        "class C(B,A):\n",
        "    pass\n",
        "    \n",
        "class D(C, B):\n",
        "    pass\n",
        "    \n",
        "d = D()\n",
        "d.method()\n",
        "D.__mro__"
      ],
      "metadata": {
        "colab": {
          "base_uri": "https://localhost:8080/"
        },
        "id": "hKpJJ2eqtTRo",
        "outputId": "8a4431c9-9ff6-4a5a-ec92-da5585a9c067"
      },
      "execution_count": 5,
      "outputs": [
        {
          "output_type": "stream",
          "name": "stdout",
          "text": [
            "B.method() called\n"
          ]
        },
        {
          "output_type": "execute_result",
          "data": {
            "text/plain": [
              "(__main__.D, __main__.C, __main__.B, __main__.A, object)"
            ]
          },
          "metadata": {},
          "execution_count": 5
        }
      ]
    },
    {
      "cell_type": "code",
      "source": [
        "class A:\n",
        "    def method(self):\n",
        "        print(\"A.method() called\")\n",
        "class B():\n",
        "    def method(self):\n",
        "        print(\"B.method() called\")\n",
        "class C(B,A):\n",
        "    pass\n",
        "\n",
        "class D(B,C):\n",
        "    pass\n",
        "    \n",
        "d = D()\n",
        "d.method()\n",
        "D.__mro__"
      ],
      "metadata": {
        "colab": {
          "base_uri": "https://localhost:8080/",
          "height": 283
        },
        "id": "fo2LOVhrtaxg",
        "outputId": "323a3dc4-e14f-44ff-e3b6-d4b145cfecaa"
      },
      "execution_count": 6,
      "outputs": [
        {
          "output_type": "error",
          "ename": "TypeError",
          "evalue": "ignored",
          "traceback": [
            "\u001b[0;31m---------------------------------------------------------------------------\u001b[0m",
            "\u001b[0;31mTypeError\u001b[0m                                 Traceback (most recent call last)",
            "\u001b[0;32m<ipython-input-6-4927318f7bbe>\u001b[0m in \u001b[0;36m<module>\u001b[0;34m\u001b[0m\n\u001b[1;32m      8\u001b[0m     \u001b[0;32mpass\u001b[0m\u001b[0;34m\u001b[0m\u001b[0;34m\u001b[0m\u001b[0m\n\u001b[1;32m      9\u001b[0m \u001b[0;34m\u001b[0m\u001b[0m\n\u001b[0;32m---> 10\u001b[0;31m \u001b[0;32mclass\u001b[0m \u001b[0mD\u001b[0m\u001b[0;34m(\u001b[0m\u001b[0mB\u001b[0m\u001b[0;34m,\u001b[0m\u001b[0mC\u001b[0m\u001b[0;34m)\u001b[0m\u001b[0;34m:\u001b[0m\u001b[0;34m\u001b[0m\u001b[0;34m\u001b[0m\u001b[0m\n\u001b[0m\u001b[1;32m     11\u001b[0m     \u001b[0;32mpass\u001b[0m\u001b[0;34m\u001b[0m\u001b[0;34m\u001b[0m\u001b[0m\n\u001b[1;32m     12\u001b[0m \u001b[0;34m\u001b[0m\u001b[0m\n",
            "\u001b[0;31mTypeError\u001b[0m: Cannot create a consistent method resolution\norder (MRO) for bases B, C"
          ]
        }
      ]
    }
  ]
}