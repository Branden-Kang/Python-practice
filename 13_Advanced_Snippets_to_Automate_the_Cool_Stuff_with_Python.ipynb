{
  "nbformat": 4,
  "nbformat_minor": 0,
  "metadata": {
    "colab": {
      "name": "13 Advanced Snippets to Automate the Cool Stuff with Python.ipynb",
      "provenance": [],
      "authorship_tag": "ABX9TyNJlEV/vx+Zk/PRI16cN0T8"
    },
    "kernelspec": {
      "name": "python3",
      "display_name": "Python 3"
    },
    "language_info": {
      "name": "python"
    }
  },
  "cells": [
    {
      "cell_type": "markdown",
      "metadata": {
        "id": "b9syWmp_4EIH"
      },
      "source": [
        "[Reference](https://python.plainenglish.io/13-advanced-snippets-to-automate-the-cool-stuff-with-python-5d8ea3d389e9)"
      ]
    },
    {
      "cell_type": "markdown",
      "metadata": {
        "id": "DAH4HU7x4jEn"
      },
      "source": [
        "# 1. Get Google Search Result"
      ]
    },
    {
      "cell_type": "code",
      "metadata": {
        "colab": {
          "base_uri": "https://localhost:8080/"
        },
        "id": "hcjKz7mS4Btk",
        "outputId": "b8b617e2-5346-4050-e0ff-cee4bbdc7489"
      },
      "source": [
        "# Get google search results\n",
        "\n",
        "from googlesearch import search\n",
        "\n",
        "query = \"Medium.com\"\n",
        "\n",
        "for i in search(query, num= 10, stop= 10, pause= 2):\n",
        "    print(i)"
      ],
      "execution_count": 1,
      "outputs": [
        {
          "output_type": "stream",
          "name": "stdout",
          "text": [
            "https://medium.com/\n",
            "https://en.wikipedia.org/wiki/Medium_(website)\n",
            "https://twitter.com/Medium?ref_src=twsrc%5Egoogle%7Ctwcamp%5Eserp%7Ctwgr%5Eauthor\n",
            "https://twitter.com/Medium/status/1461106885445120001?ref_src=twsrc%5Egoogle%7Ctwcamp%5Eserp%7Ctwgr%5Etweet\n",
            "https://twitter.com/Medium/status/1461069129922715654?ref_src=twsrc%5Egoogle%7Ctwcamp%5Eserp%7Ctwgr%5Etweet\n",
            "https://twitter.com/Medium/status/1461001193308647424?ref_src=twsrc%5Egoogle%7Ctwcamp%5Eserp%7Ctwgr%5Etweet\n",
            "https://www.linkedin.com/company/medium-com\n",
            "https://www.facebook.com/medium/\n",
            "https://www.alexa.com/siteinfo/medium.com\n",
            "https://medium.statuspage.io/\n"
          ]
        }
      ]
    },
    {
      "cell_type": "markdown",
      "metadata": {
        "id": "w040QRVJ4k8D"
      },
      "source": [
        "# 2. Speedtest with Python"
      ]
    },
    {
      "cell_type": "code",
      "metadata": {
        "colab": {
          "base_uri": "https://localhost:8080/"
        },
        "id": "Whc0Pcka4qZ8",
        "outputId": "94c0e429-51a5-4c01-b4a4-7b0d86a7215b"
      },
      "source": [
        "!pip install speedtest"
      ],
      "execution_count": 3,
      "outputs": [
        {
          "output_type": "stream",
          "name": "stdout",
          "text": [
            "Collecting speedtest\n",
            "  Downloading speedtest-0.0.1-py3-none-any.whl (1.3 kB)\n",
            "Installing collected packages: speedtest\n",
            "Successfully installed speedtest-0.0.1\n"
          ]
        }
      ]
    },
    {
      "cell_type": "code",
      "metadata": {
        "id": "SPT8rjnX4h-b"
      },
      "source": [
        "# Speed test with Python\n",
        "\n",
        "from speedtest import Speedtest\n",
        "\n",
        "test = Speedtest()\n",
        "\n",
        "# Download Speed\n",
        "print(test.download())\n",
        "\n",
        "# Upload Speed\n",
        "print(test.upload())\n",
        "\n",
        "# Ping test\n",
        "server_names = []\n",
        "test.get_servers(server_names)\n",
        "print(test.result.ping)"
      ],
      "execution_count": 5,
      "outputs": []
    },
    {
      "cell_type": "markdown",
      "metadata": {
        "id": "phMMHJUM4wS_"
      },
      "source": [
        "# 3. Email with Attachment"
      ]
    },
    {
      "cell_type": "code",
      "metadata": {
        "id": "T947fIRT4pGw"
      },
      "source": [
        "import email\n",
        "import smtplib, ssl\n",
        "from email import encoders\n",
        "from email.mime.base import MIMEBase\n",
        "from email.mime.multipart import MIMEMultipart\n",
        "from email.mime.text import MIMEText\n",
        "\n",
        "sender_email = 'sender@gmail.com'\n",
        "password = 'xxxxxxxx'\n",
        "receiver_address = 'receiver@gmail.com'\n",
        "body=\"This is test Python email\"\n",
        "\n",
        "message = MIMEMultipart()\n",
        "message[\"From\"] = \"sender@gmail.com\"\n",
        "message[\"To\"] = \"reciver@gmail.com\"\n",
        "message[\"Subject\"] = \"Python Mail\"\n",
        "message[\"Bcc\"] = \"reciver@gmail.com\" \n",
        "message.attach(MIMEText(body, \"plain\"))\n",
        "\n",
        "filename = \"excel.xlsx\" \n",
        "with open(filename, \"rb\") as attachment:\n",
        "  part = MIMEBase(\"application\", \"octet-stream\")\n",
        "  part.set_payload(attachment.read())\n",
        "encoders.encode_base64(part)\n",
        "\n",
        "print(\"Email Sended\")"
      ],
      "execution_count": 6,
      "outputs": []
    },
    {
      "cell_type": "markdown",
      "metadata": {
        "id": "pNn0wyDU42ky"
      },
      "source": [
        "# 4. Convert Pdf to Image"
      ]
    },
    {
      "cell_type": "code",
      "metadata": {
        "id": "8raQ5Hg141jV"
      },
      "source": [
        "# Convert PDF to Image\n",
        "\n",
        "import fitz\n",
        "\n",
        "filename = \"test.pdf\"\n",
        "pdf = fitz.open(filename)\n",
        "\n",
        "for page in pdf:\n",
        "    img = page.getPixmap(alpha=False)\n",
        "    img.writePNG('page-%i.png' % page.number)"
      ],
      "execution_count": 7,
      "outputs": []
    },
    {
      "cell_type": "markdown",
      "metadata": {
        "id": "uxLzNaw447wh"
      },
      "source": [
        "# 5. Convert Text To Art"
      ]
    },
    {
      "cell_type": "code",
      "metadata": {
        "colab": {
          "base_uri": "https://localhost:8080/"
        },
        "id": "T5Oppv_w5A9Y",
        "outputId": "d2ab8a57-d4a1-43f2-9b1a-95a834c7fe46"
      },
      "source": [
        "!pip install art"
      ],
      "execution_count": 9,
      "outputs": [
        {
          "output_type": "stream",
          "name": "stdout",
          "text": [
            "Collecting art\n",
            "  Downloading art-5.3-py2.py3-none-any.whl (574 kB)\n",
            "\u001b[?25l\r\u001b[K     |▋                               | 10 kB 12.0 MB/s eta 0:00:01\r\u001b[K     |█▏                              | 20 kB 16.2 MB/s eta 0:00:01\r\u001b[K     |█▊                              | 30 kB 19.1 MB/s eta 0:00:01\r\u001b[K     |██▎                             | 40 kB 19.4 MB/s eta 0:00:01\r\u001b[K     |██▉                             | 51 kB 21.4 MB/s eta 0:00:01\r\u001b[K     |███▍                            | 61 kB 22.9 MB/s eta 0:00:01\r\u001b[K     |████                            | 71 kB 21.7 MB/s eta 0:00:01\r\u001b[K     |████▋                           | 81 kB 23.2 MB/s eta 0:00:01\r\u001b[K     |█████▏                          | 92 kB 24.5 MB/s eta 0:00:01\r\u001b[K     |█████▊                          | 102 kB 24.6 MB/s eta 0:00:01\r\u001b[K     |██████▎                         | 112 kB 24.6 MB/s eta 0:00:01\r\u001b[K     |██████▉                         | 122 kB 24.6 MB/s eta 0:00:01\r\u001b[K     |███████▍                        | 133 kB 24.6 MB/s eta 0:00:01\r\u001b[K     |████████                        | 143 kB 24.6 MB/s eta 0:00:01\r\u001b[K     |████████▌                       | 153 kB 24.6 MB/s eta 0:00:01\r\u001b[K     |█████████▏                      | 163 kB 24.6 MB/s eta 0:00:01\r\u001b[K     |█████████▊                      | 174 kB 24.6 MB/s eta 0:00:01\r\u001b[K     |██████████▎                     | 184 kB 24.6 MB/s eta 0:00:01\r\u001b[K     |██████████▉                     | 194 kB 24.6 MB/s eta 0:00:01\r\u001b[K     |███████████▍                    | 204 kB 24.6 MB/s eta 0:00:01\r\u001b[K     |████████████                    | 215 kB 24.6 MB/s eta 0:00:01\r\u001b[K     |████████████▌                   | 225 kB 24.6 MB/s eta 0:00:01\r\u001b[K     |█████████████                   | 235 kB 24.6 MB/s eta 0:00:01\r\u001b[K     |█████████████▊                  | 245 kB 24.6 MB/s eta 0:00:01\r\u001b[K     |██████████████▎                 | 256 kB 24.6 MB/s eta 0:00:01\r\u001b[K     |██████████████▉                 | 266 kB 24.6 MB/s eta 0:00:01\r\u001b[K     |███████████████▍                | 276 kB 24.6 MB/s eta 0:00:01\r\u001b[K     |████████████████                | 286 kB 24.6 MB/s eta 0:00:01\r\u001b[K     |████████████████▌               | 296 kB 24.6 MB/s eta 0:00:01\r\u001b[K     |█████████████████               | 307 kB 24.6 MB/s eta 0:00:01\r\u001b[K     |█████████████████▊              | 317 kB 24.6 MB/s eta 0:00:01\r\u001b[K     |██████████████████▎             | 327 kB 24.6 MB/s eta 0:00:01\r\u001b[K     |██████████████████▉             | 337 kB 24.6 MB/s eta 0:00:01\r\u001b[K     |███████████████████▍            | 348 kB 24.6 MB/s eta 0:00:01\r\u001b[K     |████████████████████            | 358 kB 24.6 MB/s eta 0:00:01\r\u001b[K     |████████████████████▌           | 368 kB 24.6 MB/s eta 0:00:01\r\u001b[K     |█████████████████████           | 378 kB 24.6 MB/s eta 0:00:01\r\u001b[K     |█████████████████████▋          | 389 kB 24.6 MB/s eta 0:00:01\r\u001b[K     |██████████████████████▎         | 399 kB 24.6 MB/s eta 0:00:01\r\u001b[K     |██████████████████████▉         | 409 kB 24.6 MB/s eta 0:00:01\r\u001b[K     |███████████████████████▍        | 419 kB 24.6 MB/s eta 0:00:01\r\u001b[K     |████████████████████████        | 430 kB 24.6 MB/s eta 0:00:01\r\u001b[K     |████████████████████████▌       | 440 kB 24.6 MB/s eta 0:00:01\r\u001b[K     |█████████████████████████       | 450 kB 24.6 MB/s eta 0:00:01\r\u001b[K     |█████████████████████████▋      | 460 kB 24.6 MB/s eta 0:00:01\r\u001b[K     |██████████████████████████▏     | 471 kB 24.6 MB/s eta 0:00:01\r\u001b[K     |██████████████████████████▉     | 481 kB 24.6 MB/s eta 0:00:01\r\u001b[K     |███████████████████████████▍    | 491 kB 24.6 MB/s eta 0:00:01\r\u001b[K     |████████████████████████████    | 501 kB 24.6 MB/s eta 0:00:01\r\u001b[K     |████████████████████████████▌   | 512 kB 24.6 MB/s eta 0:00:01\r\u001b[K     |█████████████████████████████   | 522 kB 24.6 MB/s eta 0:00:01\r\u001b[K     |█████████████████████████████▋  | 532 kB 24.6 MB/s eta 0:00:01\r\u001b[K     |██████████████████████████████▏ | 542 kB 24.6 MB/s eta 0:00:01\r\u001b[K     |██████████████████████████████▉ | 552 kB 24.6 MB/s eta 0:00:01\r\u001b[K     |███████████████████████████████▍| 563 kB 24.6 MB/s eta 0:00:01\r\u001b[K     |████████████████████████████████| 573 kB 24.6 MB/s eta 0:00:01\r\u001b[K     |████████████████████████████████| 574 kB 24.6 MB/s \n",
            "\u001b[?25hInstalling collected packages: art\n",
            "Successfully installed art-5.3\n"
          ]
        }
      ]
    },
    {
      "cell_type": "code",
      "metadata": {
        "colab": {
          "base_uri": "https://localhost:8080/"
        },
        "id": "iIEa3cnr46yi",
        "outputId": "a976fe9d-3846-49bc-9b90-b5defbf18c23"
      },
      "source": [
        "from art import text2art, tprint, art\n",
        " \n",
        "print(text2art(\"default\"))\n",
        "tprint(\"Python\",font=\"block\",chr_ignore=True)\n",
        "print(art(\"coffee\"))"
      ],
      "execution_count": 10,
      "outputs": [
        {
          "output_type": "stream",
          "name": "stdout",
          "text": [
            "     _         __                _  _   \n",
            "  __| |  ___  / _|  __ _  _   _ | || |_ \n",
            " / _` | / _ \\| |_  / _` || | | || || __|\n",
            "| (_| ||  __/|  _|| (_| || |_| || || |_ \n",
            " \\__,_| \\___||_|   \\__,_| \\__,_||_| \\__|\n",
            "                                        \n",
            "\n",
            "\n",
            " .----------------.  .----------------.  .----------------.  .----------------.  .----------------.  .-----------------.\n",
            "| .--------------. || .--------------. || .--------------. || .--------------. || .--------------. || .--------------. |\n",
            "| |   ______     | || |  ____  ____  | || |  _________   | || |  ____  ____  | || |     ____     | || | ____  _____  | |\n",
            "| |  |_   __ \\   | || | |_  _||_  _| | || | |  _   _  |  | || | |_   ||   _| | || |   .'    `.   | || ||_   \\|_   _| | |\n",
            "| |    | |__) |  | || |   \\ \\  / /   | || | |_/ | | \\_|  | || |   | |__| |   | || |  /  .--.  \\  | || |  |   \\ | |   | |\n",
            "| |    |  ___/   | || |    \\ \\/ /    | || |     | |      | || |   |  __  |   | || |  | |    | |  | || |  | |\\ \\| |   | |\n",
            "| |   _| |_      | || |    _|  |_    | || |    _| |_     | || |  _| |  | |_  | || |  \\  `--'  /  | || | _| |_\\   |_  | |\n",
            "| |  |_____|     | || |   |______|   | || |   |_____|    | || | |____||____| | || |   `.____.'   | || ||_____|\\____| | |\n",
            "| |              | || |              | || |              | || |              | || |              | || |              | |\n",
            "| '--------------' || '--------------' || '--------------' || '--------------' || '--------------' || '--------------' |\n",
            " '----------------'  '----------------'  '----------------'  '----------------'  '----------------'  '----------------'\n",
            "\n",
            "c[_] \n"
          ]
        }
      ]
    },
    {
      "cell_type": "markdown",
      "metadata": {
        "id": "DYQWKMwv5CdZ"
      },
      "source": [
        "# 6. Get File Size"
      ]
    },
    {
      "cell_type": "code",
      "metadata": {
        "id": "gUpkkIJe4_om"
      },
      "source": [
        " # Get File Size\n",
        "import os \n",
        "size = os.stat(\"excel.xlsx\")\n",
        "filesize = size.st_sizeprint(filesize, \"bytes\")"
      ],
      "execution_count": 12,
      "outputs": []
    },
    {
      "cell_type": "markdown",
      "metadata": {
        "id": "1MDNznqv5Kd7"
      },
      "source": [
        "# 7. Get Wifi Passwords"
      ]
    },
    {
      "cell_type": "code",
      "metadata": {
        "id": "TfEAvjdQ5I0E"
      },
      "source": [
        "# Get Wifi Passwords\n",
        "\n",
        "import subprocess\n",
        "network = subprocess.check_output(['netsh', 'wlan', 'show','profiles']).decode('utf-8').split('\\n')\n",
        " \n",
        "profiles = [i.split(\":\")[1][1:-1] for i in network if \"All User Profile\" in i]\n",
        " \n",
        "for i in profiles:\n",
        "    results = subprocess.check_output(['netsh', 'wlan', 'show', 'profile', i,'key=clear']).decode('utf-8').split('\\n')\n",
        "    results = [net.split(\":\")[1][1:-1] for net in results if \"Key Content\" in net]\n",
        "    print (\"{:<30}|  {:<}\".format(i, results[0]))"
      ],
      "execution_count": 13,
      "outputs": []
    },
    {
      "cell_type": "markdown",
      "metadata": {
        "id": "jNxo9kYv5PFe"
      },
      "source": [
        "# 8. Shorten URL"
      ]
    },
    {
      "cell_type": "code",
      "metadata": {
        "colab": {
          "base_uri": "https://localhost:8080/"
        },
        "id": "S_4JJDD95UWK",
        "outputId": "58e6c778-b259-4689-ee23-f49302dee422"
      },
      "source": [
        "!pip install pyshorteners"
      ],
      "execution_count": 15,
      "outputs": [
        {
          "output_type": "stream",
          "name": "stdout",
          "text": [
            "Collecting pyshorteners\n",
            "  Downloading pyshorteners-1.0.1.tar.gz (10.0 kB)\n",
            "Requirement already satisfied: requests in /usr/local/lib/python3.7/dist-packages (from pyshorteners) (2.23.0)\n",
            "Requirement already satisfied: urllib3!=1.25.0,!=1.25.1,<1.26,>=1.21.1 in /usr/local/lib/python3.7/dist-packages (from requests->pyshorteners) (1.24.3)\n",
            "Requirement already satisfied: certifi>=2017.4.17 in /usr/local/lib/python3.7/dist-packages (from requests->pyshorteners) (2021.10.8)\n",
            "Requirement already satisfied: idna<3,>=2.5 in /usr/local/lib/python3.7/dist-packages (from requests->pyshorteners) (2.10)\n",
            "Requirement already satisfied: chardet<4,>=3.0.2 in /usr/local/lib/python3.7/dist-packages (from requests->pyshorteners) (3.0.4)\n",
            "Building wheels for collected packages: pyshorteners\n",
            "  Building wheel for pyshorteners (setup.py) ... \u001b[?25l\u001b[?25hdone\n",
            "  Created wheel for pyshorteners: filename=pyshorteners-1.0.1-py3-none-any.whl size=17496 sha256=33a56a7aa4f955c0dc59bdb25fd9453556601088053120e27f34eeb840e2f9c6\n",
            "  Stored in directory: /root/.cache/pip/wheels/1e/c6/50/b06780af353f181fae16d55deb7b47f8aef30567e24a9ce456\n",
            "Successfully built pyshorteners\n",
            "Installing collected packages: pyshorteners\n",
            "Successfully installed pyshorteners-1.0.1\n"
          ]
        }
      ]
    },
    {
      "cell_type": "code",
      "metadata": {
        "colab": {
          "base_uri": "https://localhost:8080/"
        },
        "id": "di8fNvU85NlJ",
        "outputId": "1552d1bb-1fbd-45fb-a024-9be603084f56"
      },
      "source": [
        "# URl Shortner\n",
        "\n",
        "from pyshorteners import Shortener\n",
        "\n",
        "link = \"https://medium.com/\"\n",
        "\n",
        "s = Shortener()\n",
        "\n",
        "sh = s.tinyurl.short(link)\n",
        "\n",
        "print(sh)"
      ],
      "execution_count": 16,
      "outputs": [
        {
          "output_type": "stream",
          "name": "stdout",
          "text": [
            "https://tinyurl.com/98wgtml\n"
          ]
        }
      ]
    },
    {
      "cell_type": "markdown",
      "metadata": {
        "id": "_IVxQoEd5WnK"
      },
      "source": [
        "# 9. Get IP Address"
      ]
    },
    {
      "cell_type": "code",
      "metadata": {
        "id": "tgnaA1aZ5THU"
      },
      "source": [
        "# Get IP Address\n",
        "\n",
        "import socket\n",
        "\n",
        "s = socket.socket(socket.AF_INET, socket.SOCK_DGRAM)\n",
        "s.connect((\"8.8.8.8\", 80))\n",
        "ip_addr = s.getsockname()[0]\n",
        "s.close()\n",
        "\n",
        "print(ip_addr)"
      ],
      "execution_count": 17,
      "outputs": []
    },
    {
      "cell_type": "markdown",
      "metadata": {
        "id": "uR-Oy-5F5cCr"
      },
      "source": [
        "# 10. Screenshot a Website"
      ]
    },
    {
      "cell_type": "code",
      "metadata": {
        "id": "sM22JyJ35a6A"
      },
      "source": [
        "# Screenshot a Website\n",
        "\n",
        "from selenium import webdriver\n",
        "import time\n",
        "\n",
        "driver = webdriver.Chrome(\"chromedriver.exe\")\n",
        "driver.maximize_window()\n",
        "driver.get(\"https://medium.com/\")\n",
        "time.sleep(3)\n",
        "\n",
        "driver.save_screenshot(\"shot.jpg\")"
      ],
      "execution_count": 18,
      "outputs": []
    },
    {
      "cell_type": "markdown",
      "metadata": {
        "id": "lLFfeFuV5f-P"
      },
      "source": [
        "# 11. Unzip Files"
      ]
    },
    {
      "cell_type": "code",
      "metadata": {
        "id": "wzGcf4-L5e0M"
      },
      "source": [
        "# Unzip the files\n",
        "\n",
        "import zipfile\n",
        "\n",
        "unzip = zipfile.Zipfile(\"filename.zip\")\n",
        "unzip.extractall()"
      ],
      "execution_count": 19,
      "outputs": []
    },
    {
      "cell_type": "markdown",
      "metadata": {
        "id": "CVI5d0dZ5jYw"
      },
      "source": [
        "# 12. Download Youtube Videos"
      ]
    },
    {
      "cell_type": "code",
      "metadata": {
        "id": "3Q514ZsH5iXQ"
      },
      "source": [
        "# Download Youtube Videos\n",
        "\n",
        "import pytube\n",
        "\n",
        "link = \"Youtube video url here\"\n",
        "\n",
        "youtube = pytube.Youtube(link)\n",
        "video = youtube.streams.get_highest_resolution()\n",
        "\n",
        "video.download()\n",
        "# or\n",
        "video.download('save location')"
      ],
      "execution_count": 20,
      "outputs": []
    },
    {
      "cell_type": "markdown",
      "metadata": {
        "id": "HfLFIjfB5oLB"
      },
      "source": [
        "# 13. Exif Data from Photo"
      ]
    },
    {
      "cell_type": "code",
      "metadata": {
        "id": "z3lQ-GgG5nH-"
      },
      "source": [
        "# Get Exif from Images\n",
        "\n",
        "import PIL.Image\n",
        "import PIL.ExifTags\n",
        " \n",
        "img= PIL.Image.open(\"img.png\")\n",
        " \n",
        "Exif = {\n",
        "    PIL.ExifTags.TAGS[k]: v\n",
        "    for k, v in IMG._getexif().items()\n",
        "    if k in PIL.ExifTags.TAGS\n",
        "}\n",
        "\n",
        "print(Exif)"
      ],
      "execution_count": 21,
      "outputs": []
    }
  ]
}