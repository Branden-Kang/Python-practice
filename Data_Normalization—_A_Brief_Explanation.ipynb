{
  "nbformat": 4,
  "nbformat_minor": 0,
  "metadata": {
    "colab": {
      "provenance": [],
      "authorship_tag": "ABX9TyNbFxIaS97yplsXuEqX54X9"
    },
    "kernelspec": {
      "name": "python3",
      "display_name": "Python 3"
    },
    "language_info": {
      "name": "python"
    }
  },
  "cells": [
    {
      "cell_type": "markdown",
      "source": [
        "[Reference](https://medium.com/@WojtekFulmyk/normalizing-data-for-machine-learning-27aa69988772)"
      ],
      "metadata": {
        "id": "ykw4LvwbocfS"
      }
    },
    {
      "cell_type": "code",
      "execution_count": 1,
      "metadata": {
        "colab": {
          "base_uri": "https://localhost:8080/"
        },
        "id": "7GRkBHt3oakD",
        "outputId": "115a0c7e-c415-4a46-93de-accb50722972"
      },
      "outputs": [
        {
          "output_type": "stream",
          "name": "stdout",
          "text": [
            "[[0.58188288 0.         0.39797058]\n",
            " [0.60472846 0.57108572 0.12449106]\n",
            " [0.         0.07194099 1.        ]\n",
            " [0.63365613 0.17524012 0.37293034]\n",
            " [0.25355013 0.11156149 0.91674555]\n",
            " [1.         1.         0.        ]]\n"
          ]
        }
      ],
      "source": [
        "import numpy as np\n",
        "import pandas as pd\n",
        "from sklearn.preprocessing import minmax_scale\n",
        "\n",
        "# example df of 6 rows and 3 columns\n",
        "df = pd.DataFrame(np.random.randn(6, 3))\n",
        "normalized = minmax_scale(df)\n",
        "\n",
        "print(normalized)"
      ]
    }
  ]
}