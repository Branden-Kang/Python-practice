{
  "nbformat": 4,
  "nbformat_minor": 0,
  "metadata": {
    "colab": {
      "name": "Globals in Python.ipynb",
      "provenance": [],
      "authorship_tag": "ABX9TyM+A8axaWgvqpuw3lnfaSCp"
    },
    "kernelspec": {
      "name": "python3",
      "display_name": "Python 3"
    }
  },
  "cells": [
    {
      "cell_type": "markdown",
      "metadata": {
        "id": "6QHgBHyj4K1t"
      },
      "source": [
        "[Reference](https://medium.com/better-programming/alternatives-to-using-globals-in-python-a3b2a7d5411b)"
      ]
    },
    {
      "cell_type": "code",
      "metadata": {
        "colab": {
          "base_uri": "https://localhost:8080/"
        },
        "id": "hUa519GT3cpx",
        "outputId": "85c0e6fb-bca1-434c-dfe5-9aec44ea1ffc"
      },
      "source": [
        "INIT = False\n",
        "\n",
        "def run():\n",
        "    global INIT\n",
        "    print('Will Run')\n",
        "    if INIT:\n",
        "        print( 'Already initiated' )\n",
        "    if not INIT:\n",
        "        init()\n",
        "\n",
        "def init():\n",
        "    global INIT\n",
        "    INIT = True\n",
        "    print('Will Init')\n",
        "    \n",
        "run()\n",
        "run()"
      ],
      "execution_count": 1,
      "outputs": [
        {
          "output_type": "stream",
          "text": [
            "Will Run\n",
            "Will Init\n",
            "Will Run\n",
            "Already initiated\n"
          ],
          "name": "stdout"
        }
      ]
    },
    {
      "cell_type": "code",
      "metadata": {
        "colab": {
          "base_uri": "https://localhost:8080/"
        },
        "id": "N-GRij4u4Sod",
        "outputId": "ca5cef3f-9b70-483d-9717-f1d551d5d154"
      },
      "source": [
        "GUI_THEME = 'BabyBlue'\n",
        "GUI_FONT = 'Lobster'\n",
        "\n",
        "def makeGUI():\n",
        "    global GUI_THEME,GUI_FONT\n",
        "    print('making GUI in: ' + GUI_THEME)\n",
        "    print('with FONT: ' + GUI_FONT)\n",
        "    \n",
        "def changeTheme():\n",
        "    global GUI_THEME\n",
        "    GUI_THEME = 'AwesomeOrange'\n",
        "    \n",
        "def changeFont():\n",
        "    global GUI_FONT\n",
        "    GUI_FONT = 'Merryweather'\n",
        "    \n",
        "makeGUI()\n",
        "changeTheme()\n",
        "changeFont()\n",
        "makeGUI()"
      ],
      "execution_count": 2,
      "outputs": [
        {
          "output_type": "stream",
          "text": [
            "making GUI in: BabyBlue\n",
            "with FONT: Lobster\n",
            "making GUI in: AwesomeOrange\n",
            "with FONT: Merryweather\n"
          ],
          "name": "stdout"
        }
      ]
    },
    {
      "cell_type": "code",
      "metadata": {
        "colab": {
          "base_uri": "https://localhost:8080/"
        },
        "id": "qteKS0Dj4aB_",
        "outputId": "3a7ca713-f3d2-4702-8928-bbe9a2c1178c"
      },
      "source": [
        "GUI_THEME = 'constantGrey'\n",
        "\n",
        "def makeGUI():\n",
        "    print('making GUI in: ' + GUI_THEME)\n",
        "    # Try to change it:\n",
        "    \n",
        "def changeGUI():\n",
        "    GUI_THEME = 'variableGrey' # Local variable\n",
        "    print('making GUI in: ' + GUI_THEME)\n",
        "\n",
        "makeGUI()\n",
        "changeGUI()\n",
        "makeGUI()"
      ],
      "execution_count": 3,
      "outputs": [
        {
          "output_type": "stream",
          "text": [
            "making GUI in: constantGrey\n",
            "making GUI in: variableGrey\n",
            "making GUI in: constantGrey\n"
          ],
          "name": "stdout"
        }
      ]
    },
    {
      "cell_type": "code",
      "metadata": {
        "colab": {
          "base_uri": "https://localhost:8080/"
        },
        "id": "kXV6GeeS4evC",
        "outputId": "1816cbfd-e2a9-46e6-95a3-1f577ad4471d"
      },
      "source": [
        "# Create class\n",
        "class Init:\n",
        "    def __init__(self, init_: bool):\n",
        "        self.init = init_# Create Instance of the class\n",
        "\n",
        "init_ = Init(False)\n",
        "\n",
        "def run():\n",
        "    print('Will Run')    \n",
        "    \n",
        "    if init_.init:\n",
        "        print( 'Already initiated' )\n",
        "    if not init_.init:\n",
        "        init()\n",
        "\n",
        "def init():\n",
        "    init_.init = True\n",
        "    print('Will Init')\n",
        "\n",
        "run()\n",
        "run()"
      ],
      "execution_count": 5,
      "outputs": [
        {
          "output_type": "stream",
          "text": [
            "Will Run\n",
            "Will Init\n",
            "Will Run\n",
            "Already initiated\n"
          ],
          "name": "stdout"
        }
      ]
    },
    {
      "cell_type": "code",
      "metadata": {
        "colab": {
          "base_uri": "https://localhost:8080/"
        },
        "id": "Ej-CwG024rCw",
        "outputId": "898e2e4e-f539-4f15-c73d-9e18120f1ccf"
      },
      "source": [
        "class GUI:\n",
        "    def __init__(self):\n",
        "        self.GUI_THEME = 'BabyBlue'\n",
        "        self.GUI_FONT = 'Lobster'\n",
        "        \n",
        "GUI_ = GUI() # Can also use initialization arguments\n",
        "\n",
        "def makeGUI():\n",
        "    print('making GUI in: ' + GUI_.GUI_THEME)\n",
        "    print('with FONT: ' + GUI_.GUI_FONT)\n",
        "    \n",
        "def changeTheme():\n",
        "    GUI_.GUI_THEME = 'AwesomeOrange'\n",
        "    \n",
        "def changeFont():\n",
        "    GUI_.GUI_FONT = 'Merryweather'\n",
        "\n",
        "makeGUI()\n",
        "\n",
        "changeTheme()\n",
        "changeFont()\n",
        "makeGUI()"
      ],
      "execution_count": 7,
      "outputs": [
        {
          "output_type": "stream",
          "text": [
            "making GUI in: BabyBlue\n",
            "with FONT: Lobster\n",
            "making GUI in: AwesomeOrange\n",
            "with FONT: Merryweather\n"
          ],
          "name": "stdout"
        }
      ]
    },
    {
      "cell_type": "code",
      "metadata": {
        "colab": {
          "base_uri": "https://localhost:8080/"
        },
        "id": "xK9AgtbH4yFh",
        "outputId": "5992c2bc-5730-4382-d7a3-358130dddcc3"
      },
      "source": [
        "_G = {'INIT': False }\n",
        "# Mutable Dict\n",
        "\n",
        "def run():\n",
        "    print('Will Run')\n",
        "    if _G['INIT']:\n",
        "        print(\"Already initiated\")\n",
        "    else:\n",
        "        init()\n",
        "        \n",
        "def init():\n",
        "    _G['INIT'] = True\n",
        "    print('Will Init')\n",
        "\n",
        "run()\n",
        "run()\n",
        "print(_G)"
      ],
      "execution_count": 8,
      "outputs": [
        {
          "output_type": "stream",
          "text": [
            "Will Run\n",
            "Will Init\n",
            "Will Run\n",
            "Already initiated\n",
            "{'INIT': True}\n"
          ],
          "name": "stdout"
        }
      ]
    },
    {
      "cell_type": "code",
      "metadata": {
        "colab": {
          "base_uri": "https://localhost:8080/"
        },
        "id": "uQgHAXPk43gD",
        "outputId": "40868c59-b393-4ae3-fe3c-0d100789ce72"
      },
      "source": [
        "_INIT = [False]\n",
        "# Mutable List:\n",
        "\n",
        "def run():\n",
        "    print('Will Run')\n",
        "    if _INIT[0]:\n",
        "        print(\"Already initiated\")\n",
        "    else:\n",
        "        init()\n",
        "        \n",
        "def init():\n",
        "    _INIT[0] = True\n",
        "    print('Will Init')\n",
        "    \n",
        "run()\n",
        "run()\n",
        "print(_INIT)"
      ],
      "execution_count": 9,
      "outputs": [
        {
          "output_type": "stream",
          "text": [
            "Will Run\n",
            "Will Init\n",
            "Will Run\n",
            "Already initiated\n",
            "[True]\n"
          ],
          "name": "stdout"
        }
      ]
    },
    {
      "cell_type": "code",
      "metadata": {
        "colab": {
          "base_uri": "https://localhost:8080/"
        },
        "id": "E9MVgbcg47d6",
        "outputId": "45b613cd-9d1f-4c20-e600-5dd1155ee63a"
      },
      "source": [
        "_INITSET = {'notInititated'}\n",
        "# MUTABLE SET\n",
        "\n",
        "def run():\n",
        "    print('Will Run')\n",
        "    if (\"Inititated\" in _INITSET):\n",
        "        print(\"Already initiated\")\n",
        "    else:\n",
        "        init()\n",
        "\n",
        "def init():\n",
        "    _INITSET.remove(\"notInititated\")\n",
        "    _INITSET.add(\"Inititated\")\n",
        "    print('Will Init')\n",
        "    \n",
        "run()\n",
        "run()\n",
        "print(_INITSET)"
      ],
      "execution_count": 10,
      "outputs": [
        {
          "output_type": "stream",
          "text": [
            "Will Run\n",
            "Will Init\n",
            "Will Run\n",
            "Already initiated\n",
            "{'Inititated'}\n"
          ],
          "name": "stdout"
        }
      ]
    },
    {
      "cell_type": "code",
      "metadata": {
        "colab": {
          "base_uri": "https://localhost:8080/"
        },
        "id": "8RrYhDaz4_p5",
        "outputId": "258fd360-1b6c-4660-c081-613e2c6eb103"
      },
      "source": [
        "_GUI = {'THEME_COLOR': 'BabyBlue', 'THEME_FONT': 'Lobster'}\n",
        "\n",
        "def makeGUI():\n",
        "    print('makig GUI in: ' + _GUI['THEME_COLOR'])\n",
        "    print('with FONT: ' + _GUI['THEME_FONT'])\n",
        "    \n",
        "def changeThemeColor():\n",
        "     _GUI['THEME_COLOR'] = 'AwesomeOrange'\n",
        "     \n",
        "def changeThemeFont():\n",
        "    _GUI['THEME_FONT'] = 'Merryweather'\n",
        "    \n",
        "makeGUI()\n",
        "changeThemeColor()\n",
        "changeThemeFont()\n",
        "makeGUI()"
      ],
      "execution_count": 11,
      "outputs": [
        {
          "output_type": "stream",
          "text": [
            "makig GUI in: BabyBlue\n",
            "with FONT: Lobster\n",
            "makig GUI in: AwesomeOrange\n",
            "with FONT: Merryweather\n"
          ],
          "name": "stdout"
        }
      ]
    }
  ]
}