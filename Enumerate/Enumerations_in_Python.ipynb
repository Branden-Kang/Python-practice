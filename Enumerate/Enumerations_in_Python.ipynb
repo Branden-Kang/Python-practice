{
  "nbformat": 4,
  "nbformat_minor": 0,
  "metadata": {
    "colab": {
      "name": "Enumerations in Python.ipynb",
      "provenance": [],
      "authorship_tag": "ABX9TyPBW8x5NkvcCWSx/PmX+6H5"
    },
    "kernelspec": {
      "name": "python3",
      "display_name": "Python 3"
    }
  },
  "cells": [
    {
      "cell_type": "markdown",
      "metadata": {
        "id": "JoumXnV4sc1d"
      },
      "source": [
        "[Reference](https://medium.com/better-programming/enumerations-in-python-b01a1fb479de)"
      ]
    },
    {
      "cell_type": "code",
      "metadata": {
        "id": "hY08eyHcsZEs"
      },
      "source": [
        "from enum import Enum\n",
        "\n",
        "class Avengers(Enum):\n",
        "    IRONMAN = \"🤖\"\n",
        "    THOR = \"⚒\"\n",
        "    BLACK_WIDOW = \"🦸\" "
      ],
      "execution_count": 1,
      "outputs": []
    },
    {
      "cell_type": "code",
      "metadata": {
        "colab": {
          "base_uri": "https://localhost:8080/"
        },
        "id": "n24i_5cmsnQx",
        "outputId": "ff658504-0f38-4140-fe76-e0cc92a120e6"
      },
      "source": [
        "print(Avengers.IRONMAN)"
      ],
      "execution_count": 2,
      "outputs": [
        {
          "output_type": "stream",
          "text": [
            "Avengers.IRONMAN\n"
          ],
          "name": "stdout"
        }
      ]
    },
    {
      "cell_type": "code",
      "metadata": {
        "colab": {
          "base_uri": "https://localhost:8080/"
        },
        "id": "fmZWWplhs0Tb",
        "outputId": "70c9ac53-623f-44e0-f2b8-cbd800ee0892"
      },
      "source": [
        "print(repr(Avengers.IRONMAN))"
      ],
      "execution_count": 3,
      "outputs": [
        {
          "output_type": "stream",
          "text": [
            "<Avengers.IRONMAN: '🤖'>\n"
          ],
          "name": "stdout"
        }
      ]
    },
    {
      "cell_type": "code",
      "metadata": {
        "colab": {
          "base_uri": "https://localhost:8080/"
        },
        "id": "TdIUO7KHs8zj",
        "outputId": "e8e7b793-baca-4d3f-8989-04a6dec2ae4c"
      },
      "source": [
        "print(Avengers.IRONMAN.name)\n",
        "print(Avengers.IRONMAN.value)"
      ],
      "execution_count": 4,
      "outputs": [
        {
          "output_type": "stream",
          "text": [
            "IRONMAN\n",
            "🤖\n"
          ],
          "name": "stdout"
        }
      ]
    },
    {
      "cell_type": "code",
      "metadata": {
        "colab": {
          "base_uri": "https://localhost:8080/"
        },
        "id": "hM5HJIaqtA16",
        "outputId": "15abf413-fca0-4bf2-8da4-74e36b735847"
      },
      "source": [
        "for avenger in Avengers:\n",
        "    print(avenger)"
      ],
      "execution_count": 5,
      "outputs": [
        {
          "output_type": "stream",
          "text": [
            "Avengers.IRONMAN\n",
            "Avengers.THOR\n",
            "Avengers.BLACK_WIDOW\n"
          ],
          "name": "stdout"
        }
      ]
    },
    {
      "cell_type": "code",
      "metadata": {
        "colab": {
          "base_uri": "https://localhost:8080/"
        },
        "id": "MsENd0A4tOSA",
        "outputId": "7a9880ef-8c40-4711-9529-e350dd213e5d"
      },
      "source": [
        "class Avengers(Enum):\n",
        "    IRONMAN = \"🤖\"\n",
        "    THOR = \"⚒\"\n",
        "    BLACK_WIDOW = \"🦸\"\n",
        "    LOKKI = \"⚒\"\n",
        "\n",
        "print(Avengers.THOR)\n",
        "print(Avengers.LOKKI)"
      ],
      "execution_count": 6,
      "outputs": [
        {
          "output_type": "stream",
          "text": [
            "Avengers.THOR\n",
            "Avengers.THOR\n"
          ],
          "name": "stdout"
        }
      ]
    },
    {
      "cell_type": "code",
      "metadata": {
        "colab": {
          "base_uri": "https://localhost:8080/",
          "height": 402
        },
        "id": "rRNXstM3tWbD",
        "outputId": "bc2586bb-73e9-4091-cc9f-dd14fec56343"
      },
      "source": [
        "from enum import unique \n",
        "\n",
        "@unique\n",
        "class Avengers(Enum):\n",
        "    IRONMAN = \"🤖\"\n",
        "    THOR = \"⚒\"\n",
        "    BLACK_WIDOW = \"🦸\"\n",
        "    LOKKI = \"⚒\"\n",
        "\n",
        "print(Avengers.THOR)\n",
        "print(Avengers.LOKKI)"
      ],
      "execution_count": 9,
      "outputs": [
        {
          "output_type": "error",
          "ename": "ValueError",
          "evalue": "ignored",
          "traceback": [
            "\u001b[0;31m---------------------------------------------------------------------------\u001b[0m",
            "\u001b[0;31mValueError\u001b[0m                                Traceback (most recent call last)",
            "\u001b[0;32m<ipython-input-9-913943f70870>\u001b[0m in \u001b[0;36m<module>\u001b[0;34m()\u001b[0m\n\u001b[1;32m      2\u001b[0m \u001b[0;34m\u001b[0m\u001b[0m\n\u001b[1;32m      3\u001b[0m \u001b[0;34m@\u001b[0m\u001b[0munique\u001b[0m\u001b[0;34m\u001b[0m\u001b[0;34m\u001b[0m\u001b[0m\n\u001b[0;32m----> 4\u001b[0;31m \u001b[0;32mclass\u001b[0m \u001b[0mAvengers\u001b[0m\u001b[0;34m(\u001b[0m\u001b[0mEnum\u001b[0m\u001b[0;34m)\u001b[0m\u001b[0;34m:\u001b[0m\u001b[0;34m\u001b[0m\u001b[0;34m\u001b[0m\u001b[0m\n\u001b[0m\u001b[1;32m      5\u001b[0m     \u001b[0mIRONMAN\u001b[0m \u001b[0;34m=\u001b[0m \u001b[0;34m\"🤖\"\u001b[0m\u001b[0;34m\u001b[0m\u001b[0;34m\u001b[0m\u001b[0m\n\u001b[1;32m      6\u001b[0m     \u001b[0mTHOR\u001b[0m \u001b[0;34m=\u001b[0m \u001b[0;34m\"⚒\"\u001b[0m\u001b[0;34m\u001b[0m\u001b[0;34m\u001b[0m\u001b[0m\n",
            "\u001b[0;32m/usr/lib/python3.6/enum.py\u001b[0m in \u001b[0;36munique\u001b[0;34m(enumeration)\u001b[0m\n\u001b[1;32m    834\u001b[0m                 [\"%s -> %s\" % (alias, name) for (alias, name) in duplicates])\n\u001b[1;32m    835\u001b[0m         raise ValueError('duplicate values found in %r: %s' %\n\u001b[0;32m--> 836\u001b[0;31m                 (enumeration, alias_details))\n\u001b[0m\u001b[1;32m    837\u001b[0m     \u001b[0;32mreturn\u001b[0m \u001b[0menumeration\u001b[0m\u001b[0;34m\u001b[0m\u001b[0;34m\u001b[0m\u001b[0m\n\u001b[1;32m    838\u001b[0m \u001b[0;34m\u001b[0m\u001b[0m\n",
            "\u001b[0;31mValueError\u001b[0m: duplicate values found in <enum 'Avengers'>: LOKKI -> THOR"
          ]
        }
      ]
    },
    {
      "cell_type": "code",
      "metadata": {
        "colab": {
          "base_uri": "https://localhost:8080/"
        },
        "id": "QKt_4L5ltfU5",
        "outputId": "3210333c-5228-4b5b-e040-ce49de4cba12"
      },
      "source": [
        "from enum import auto\n",
        "\n",
        "@unique\n",
        "class Avengers(Enum):\n",
        "    IRONMAN = auto()\n",
        "    THOR = auto()\n",
        "    BLACK_WIDOW = auto()\n",
        "\n",
        "print(list(Avengers))"
      ],
      "execution_count": 12,
      "outputs": [
        {
          "output_type": "stream",
          "text": [
            "[<Avengers.IRONMAN: 1>, <Avengers.THOR: 2>, <Avengers.BLACK_WIDOW: 3>]\n"
          ],
          "name": "stdout"
        }
      ]
    },
    {
      "cell_type": "code",
      "metadata": {
        "colab": {
          "base_uri": "https://localhost:8080/"
        },
        "id": "kzsKJHa2tja-",
        "outputId": "d334adec-b067-4c2e-d8b7-ee11f676abf4"
      },
      "source": [
        "print(type(Avengers.IRONMAN))\n",
        "print(isinstance(Avengers.IRONMAN,Avengers))"
      ],
      "execution_count": 13,
      "outputs": [
        {
          "output_type": "stream",
          "text": [
            "<enum 'Avengers'>\n",
            "True\n"
          ],
          "name": "stdout"
        }
      ]
    }
  ]
}