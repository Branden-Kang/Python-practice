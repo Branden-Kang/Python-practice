{
  "nbformat": 4,
  "nbformat_minor": 0,
  "metadata": {
    "colab": {
      "name": "Python Enums.ipynb",
      "provenance": [],
      "collapsed_sections": [],
      "authorship_tag": "ABX9TyP4bc2ba+mkq03CyoZJiE2l"
    },
    "kernelspec": {
      "name": "python3",
      "display_name": "Python 3"
    },
    "language_info": {
      "name": "python"
    }
  },
  "cells": [
    {
      "cell_type": "markdown",
      "source": [
        "[Reference](https://medium.com/@bengiese22/python-enums-how-you-should-be-using-them-92aef37714d2)"
      ],
      "metadata": {
        "id": "6CMYqYNKpALt"
      }
    },
    {
      "cell_type": "code",
      "execution_count": 1,
      "metadata": {
        "colab": {
          "base_uri": "https://localhost:8080/"
        },
        "id": "jE-WqmIio-T-",
        "outputId": "7d7f4793-7b23-42be-b8ce-cf098949251c"
      },
      "outputs": [
        {
          "output_type": "stream",
          "name": "stdout",
          "text": [
            "Color.RED\n",
            "1\n"
          ]
        }
      ],
      "source": [
        "# Here is a simple example of utilizing an enum in Python.\n",
        "from enum import Enum\n",
        "class Color(Enum):\n",
        "    RED = 1\n",
        "    GREEN = 2\n",
        "    BLUE = 3\n",
        "print(Color.RED)\n",
        "print(Color.RED.value)"
      ]
    },
    {
      "cell_type": "code",
      "source": [
        "from typing import Tuple\n",
        "from enum import Enum\n",
        "class Color(Enum):\n",
        "    RED = (1, (255,0,0), \"#FF0000\")\n",
        "    GREEN = (2, (128,0,0), \"#008000\")\n",
        "    BLUE = (3, (0,0,255), \"#0000FF\")\n",
        "    def __str__(self) -> str:\n",
        "        return self.name.lower()\n",
        "    def num(self) -> int:\n",
        "        return self.value[0]\n",
        "    def rgb(self) -> Tuple:\n",
        "        return self.value[1]\n",
        "    def hex(self) -> str:\n",
        "        return self.value[2]\n",
        "    def combine_with(self, other_color) -> str:\n",
        "        if self.name == 'RED':\n",
        "            if other_color.name == 'BLUE':\n",
        "                return \"#800080\" # PURPLE\n",
        "            elif other_color.name == 'GREEN':\n",
        "                return \"#FFFF00\" # yellow\n",
        "\n",
        "    @classmethod\n",
        "    def default_color(cls):\n",
        "       # `cls` here is the enumeration\n",
        "       return cls.RED\n",
        "str(Color.RED)\n",
        "Color.default_color()\n",
        "Color.BLUE.hex()\n",
        "Color.GREEN.rgb()\n",
        "Color.RED.combine_with(Color.BLUE)"
      ],
      "metadata": {
        "colab": {
          "base_uri": "https://localhost:8080/",
          "height": 37
        },
        "id": "vQprSA6WpD2H",
        "outputId": "9b24dd52-cb3f-43f4-8ab5-5948d9ce3a45"
      },
      "execution_count": 2,
      "outputs": [
        {
          "output_type": "execute_result",
          "data": {
            "text/plain": [
              "'#800080'"
            ],
            "application/vnd.google.colaboratory.intrinsic+json": {
              "type": "string"
            }
          },
          "metadata": {},
          "execution_count": 2
        }
      ]
    }
  ]
}
