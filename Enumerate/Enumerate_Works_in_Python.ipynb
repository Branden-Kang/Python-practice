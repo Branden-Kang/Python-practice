{
  "nbformat": 4,
  "nbformat_minor": 0,
  "metadata": {
    "colab": {
      "name": "Enumerate Works in Python.ipynb",
      "provenance": [],
      "authorship_tag": "ABX9TyPVtb1e2f4G7EUbunnjQoL6"
    },
    "kernelspec": {
      "name": "python3",
      "display_name": "Python 3"
    },
    "language_info": {
      "name": "python"
    }
  },
  "cells": [
    {
      "cell_type": "markdown",
      "metadata": {
        "id": "zP5-B3KQjNXm"
      },
      "source": [
        "[Reference](https://python.plainenglish.io/how-enumerate-works-in-python-be15e48c93ba)"
      ]
    },
    {
      "cell_type": "code",
      "metadata": {
        "colab": {
          "base_uri": "https://localhost:8080/"
        },
        "id": "T2EmdpydjMNM",
        "outputId": "b03cfd2d-fc18-4433-c9f4-4e4654c51cbf"
      },
      "source": [
        "nums = [100, 200, 300, 400, 500]\n",
        "enumeratedNums = enumerate(nums)\n",
        "print(enumeratedNums)"
      ],
      "execution_count": 1,
      "outputs": [
        {
          "output_type": "stream",
          "text": [
            "<enumerate object at 0x7fd4c9685e60>\n"
          ],
          "name": "stdout"
        }
      ]
    },
    {
      "cell_type": "code",
      "metadata": {
        "colab": {
          "base_uri": "https://localhost:8080/"
        },
        "id": "Poy4Bt5HjQhC",
        "outputId": "4485b255-124a-4fdb-ea3f-4df264690080"
      },
      "source": [
        "nums = [100, 200, 300, 400, 500]\n",
        "enumeratedNums = enumerate(nums, 10)\n",
        "print(list(enumeratedNums))"
      ],
      "execution_count": 4,
      "outputs": [
        {
          "output_type": "stream",
          "text": [
            "[(10, 100), (11, 200), (12, 300), (13, 400), (14, 500)]\n"
          ],
          "name": "stdout"
        }
      ]
    },
    {
      "cell_type": "code",
      "metadata": {
        "colab": {
          "base_uri": "https://localhost:8080/"
        },
        "id": "g684cnQCjSbw",
        "outputId": "fc88dcfd-e797-4d85-fb85-a86848862944"
      },
      "source": [
        "nums = [100, 200, 300, 400, 500]\n",
        "enumeratedNums = enumerate(nums)\n",
        "\n",
        "for item in enumeratedNums:\n",
        "    print(item)"
      ],
      "execution_count": 5,
      "outputs": [
        {
          "output_type": "stream",
          "text": [
            "(0, 100)\n",
            "(1, 200)\n",
            "(2, 300)\n",
            "(3, 400)\n",
            "(4, 500)\n"
          ],
          "name": "stdout"
        }
      ]
    },
    {
      "cell_type": "code",
      "metadata": {
        "colab": {
          "base_uri": "https://localhost:8080/"
        },
        "id": "nKrSYJT6jW9N",
        "outputId": "34b9011a-effd-47b2-ed7b-05be64799c36"
      },
      "source": [
        "nums = [100, 200, 300, 400, 500]\n",
        "enumeratedNums = enumerate(nums)\n",
        "\n",
        "for index, item in enumeratedNums:\n",
        "    print(f'Index: {index}, value: {item}')"
      ],
      "execution_count": 6,
      "outputs": [
        {
          "output_type": "stream",
          "text": [
            "Index: 0, value: 100\n",
            "Index: 1, value: 200\n",
            "Index: 2, value: 300\n",
            "Index: 3, value: 400\n",
            "Index: 4, value: 500\n"
          ],
          "name": "stdout"
        }
      ]
    },
    {
      "cell_type": "code",
      "metadata": {
        "colab": {
          "base_uri": "https://localhost:8080/"
        },
        "id": "mTWZ6modjYgF",
        "outputId": "daf26905-d464-49e4-cb3e-af11414e730d"
      },
      "source": [
        "nums = [100, 200, 300, 400, 500]\n",
        "\n",
        "for i in range(0, len(nums)):\n",
        "    print(f'Index: {i}, value: {nums[i]}')"
      ],
      "execution_count": 8,
      "outputs": [
        {
          "output_type": "stream",
          "text": [
            "Index: 0, value: 100\n",
            "Index: 1, value: 200\n",
            "Index: 2, value: 300\n",
            "Index: 3, value: 400\n",
            "Index: 4, value: 500\n"
          ],
          "name": "stdout"
        }
      ]
    },
    {
      "cell_type": "code",
      "metadata": {
        "colab": {
          "base_uri": "https://localhost:8080/"
        },
        "id": "D76RBqZKjaLt",
        "outputId": "122abaef-db4b-434b-fbf4-c4e116e00097"
      },
      "source": [
        "students = ['Ron', 'Harry', 'Hermione', 'Draco', 'Newt', 'Luna', 'Dobby', 'Ginny']\n",
        "\n",
        "evenStudents = []\n",
        "oddStudents = []\n",
        "\n",
        "for id, name in enumerate(students, 1):\n",
        "    if id % 2 == 0:\n",
        "        evenStudents.append((id, name))\n",
        "    else:\n",
        "        oddStudents.append((id, name))\n",
        "        \n",
        "print('Students with even id : ', evenStudents)\n",
        "print('Students with odd id : ', oddStudents)"
      ],
      "execution_count": 10,
      "outputs": [
        {
          "output_type": "stream",
          "text": [
            "Students with even id :  [(2, 'Harry'), (4, 'Draco'), (6, 'Luna'), (8, 'Ginny')]\n",
            "Students with odd id :  [(1, 'Ron'), (3, 'Hermione'), (5, 'Newt'), (7, 'Dobby')]\n"
          ],
          "name": "stdout"
        }
      ]
    }
  ]
}