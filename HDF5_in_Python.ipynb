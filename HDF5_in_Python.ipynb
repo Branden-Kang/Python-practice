{
  "nbformat": 4,
  "nbformat_minor": 0,
  "metadata": {
    "colab": {
      "name": "HDF5 in Python.ipynb",
      "provenance": [],
      "authorship_tag": "ABX9TyNY749M1hsT0oVyeNmseu7G"
    },
    "kernelspec": {
      "name": "python3",
      "display_name": "Python 3"
    }
  },
  "cells": [
    {
      "cell_type": "markdown",
      "metadata": {
        "id": "hEDAA3ylTMaL"
      },
      "source": [
        "[Reference](https://medium.com/python-in-plain-english/python-package-for-working-on-huge-amounts-of-numerical-data-in-python-1964640243a3)"
      ]
    },
    {
      "cell_type": "code",
      "metadata": {
        "id": "pNNiCsBZS9Rc",
        "outputId": "14009174-74d1-49ea-a609-711408dc32ad",
        "colab": {
          "base_uri": "https://localhost:8080/"
        }
      },
      "source": [
        "import numpy as np\n",
        "temperature = np.random.random(1024)\n",
        "temperature"
      ],
      "execution_count": 1,
      "outputs": [
        {
          "output_type": "execute_result",
          "data": {
            "text/plain": [
              "array([0.5624073 , 0.6784814 , 0.73123606, ..., 0.28792807, 0.57731898,\n",
              "       0.16344095])"
            ]
          },
          "metadata": {
            "tags": []
          },
          "execution_count": 1
        }
      ]
    },
    {
      "cell_type": "code",
      "metadata": {
        "id": "udukSz-KTRqY",
        "outputId": "a4e2217b-9af1-4a60-d11a-6b737ee3712c",
        "colab": {
          "base_uri": "https://localhost:8080/"
        }
      },
      "source": [
        "dt = 10.0\n",
        "start_time = 1375204299  # in Unix time\n",
        "station = 15\n",
        "\n",
        "np.savez(\"weather.npz\", data=temperature, start_time=start_time, station=station)\n",
        "out = np.load(\"weather.npz\")\n",
        "out[\"data\"]"
      ],
      "execution_count": 2,
      "outputs": [
        {
          "output_type": "execute_result",
          "data": {
            "text/plain": [
              "array([0.5624073 , 0.6784814 , 0.73123606, ..., 0.28792807, 0.57731898,\n",
              "       0.16344095])"
            ]
          },
          "metadata": {
            "tags": []
          },
          "execution_count": 2
        }
      ]
    },
    {
      "cell_type": "code",
      "metadata": {
        "id": "Cs6I6d9-TU_5",
        "outputId": "a66d3749-5153-4a53-80bc-2d9160810adc",
        "colab": {
          "base_uri": "https://localhost:8080/"
        }
      },
      "source": [
        "out[\"start_time\"]"
      ],
      "execution_count": 3,
      "outputs": [
        {
          "output_type": "execute_result",
          "data": {
            "text/plain": [
              "array(1375204299)"
            ]
          },
          "metadata": {
            "tags": []
          },
          "execution_count": 3
        }
      ]
    },
    {
      "cell_type": "code",
      "metadata": {
        "id": "avNNH8AATWs9",
        "outputId": "664dc3a1-4018-4997-c74a-60905a3a0d18",
        "colab": {
          "base_uri": "https://localhost:8080/"
        }
      },
      "source": [
        "out[\"station\"]"
      ],
      "execution_count": 4,
      "outputs": [
        {
          "output_type": "execute_result",
          "data": {
            "text/plain": [
              "array(15)"
            ]
          },
          "metadata": {
            "tags": []
          },
          "execution_count": 4
        }
      ]
    },
    {
      "cell_type": "code",
      "metadata": {
        "id": "lSQUBtlnTXmW"
      },
      "source": [
        "import h5py\n",
        "f = h5py.File(\"weather.hdf5\")\n",
        "f[\"/15/temperature\"] = temperature\n",
        "f[\"/15/temperature\"].attrs[\"dt\"] = 10.0\n",
        "f[\"/15/temperature\"].attrs[\"start_time\"] = 1375204299\n",
        "f[\"/15/wind\"] = wind\n",
        "f[\"/15/wind\"].attrs[\"dt\"] = 5.0"
      ],
      "execution_count": 7,
      "outputs": []
    },
    {
      "cell_type": "code",
      "metadata": {
        "id": "Lclxm5RvTkpT"
      },
      "source": [
        "!pip install mpi4py\n",
        "\n",
        "from mpi4py import MPI\n",
        "import h5py\n",
        "\n",
        "rank = MPI.COMM_WORLD.rank  # The process ID (integer 0-3 for 4-process run)\n",
        "\n",
        "f = h5py.File('parallel_test.hdf5', 'w', driver='mpio', comm=MPI.COMM_WORLD)\n",
        "\n",
        "dset = f.create_dataset('test', (4,), dtype='i')\n",
        "dset[rank] = rank\n",
        "\n",
        "f.close()"
      ],
      "execution_count": 10,
      "outputs": []
    },
    {
      "cell_type": "code",
      "metadata": {
        "id": "Hx4X22ZETz_G"
      },
      "source": [
        "import h5py\n",
        "hdf5_store = h5py.File(“./cache.hdf5”, “a”)\n",
        "results = hdf5_store.create_dataset(“results”, (600,600,600,6), compression=”gzip”)\n",
        "# do something…\n",
        "results[2,4,5,1] = 100"
      ],
      "execution_count": 11,
      "outputs": []
    }
  ]
}