{
  "nbformat": 4,
  "nbformat_minor": 0,
  "metadata": {
    "colab": {
      "provenance": [],
      "authorship_tag": "ABX9TyN8kmj3X4dG3FQp9PMBQLA6"
    },
    "kernelspec": {
      "name": "python3",
      "display_name": "Python 3"
    },
    "language_info": {
      "name": "python"
    }
  },
  "cells": [
    {
      "cell_type": "markdown",
      "source": [
        "[Reference](https://medium.com/vacatronics/6-ways-to-use-metaclasses-in-python-8c033dbd225d)"
      ],
      "metadata": {
        "id": "eIFcBYHWBsVz"
      }
    },
    {
      "cell_type": "markdown",
      "source": [
        "# 1. Class Registration"
      ],
      "metadata": {
        "id": "KiO7WHUZBuPk"
      }
    },
    {
      "cell_type": "code",
      "execution_count": 1,
      "metadata": {
        "id": "pdO-J4qMBqw9"
      },
      "outputs": [],
      "source": [
        "class Animal:\n",
        "    def sound(self):\n",
        "        print(f\"Hey, I'm {self.name}\")\n",
        "\n",
        "\n",
        "class Dog(Animal):\n",
        "    name = \"Rex\"\n",
        "\n",
        "\n",
        "class Cat(Animal):\n",
        "    name = \"Kitty\""
      ]
    },
    {
      "cell_type": "code",
      "source": [
        "class AnimalFactory:\n",
        "    animals = {}\n",
        "\n",
        "    @classmethod\n",
        "    def from_name(cls, name):\n",
        "        animal_class = cls.animals.get(name.lower())\n",
        "        if not animal_class:\n",
        "            raise ValueError(\"Animal not found\")\n",
        "\n",
        "        return animal_class()\n",
        "\n",
        "    @classmethod\n",
        "    def register(cls, name, animal_class):\n",
        "        cls.animals[name] = animal_class"
      ],
      "metadata": {
        "id": "R0G9OgmrBvOG"
      },
      "execution_count": 2,
      "outputs": []
    },
    {
      "cell_type": "code",
      "source": [
        "class AnimalMeta(type):\n",
        "    def __new__(cls, name, bases, namespace):\n",
        "        new_cls = super().__new__(cls, name, bases, namespace)\n",
        "        AnimalFactory.register(name.lower(), new_cls)\n",
        "        return new_cls"
      ],
      "metadata": {
        "id": "a9IE31bQBwQJ"
      },
      "execution_count": 3,
      "outputs": []
    },
    {
      "cell_type": "code",
      "source": [
        "class AnimalFactory:\n",
        "    animals = {}\n",
        "\n",
        "    @classmethod\n",
        "    def from_name(cls, name):\n",
        "        animal_class = cls.animals.get(name.lower())\n",
        "        if not animal_class:\n",
        "            raise ValueError(\"Animal not found\")\n",
        "\n",
        "        return animal_class()\n",
        "\n",
        "    @classmethod\n",
        "    def register(cls, name, animal_class):\n",
        "        cls.animals[name] = animal_class\n",
        "\n",
        "\n",
        "class AnimalMeta(type):\n",
        "    def __new__(cls, name, bases, namespace):\n",
        "        new_cls = super().__new__(cls, name, bases, namespace)\n",
        "        AnimalFactory.register(name.lower(), new_cls)\n",
        "        return new_cls\n",
        "\n",
        "\n",
        "class Animal(metaclass=AnimalMeta):\n",
        "    name = \"animal\"\n",
        "\n",
        "    def sound(self):\n",
        "        print(f\"Hey, I'm {self.name}!\")\n",
        "\n",
        "\n",
        "class Dog(Animal):\n",
        "    name = \"Rex\"\n",
        "\n",
        "\n",
        "class Cat(Animal):\n",
        "    name = \"Kitty\"\n",
        "\n",
        "\n",
        "cat = AnimalFactory.from_name(\"cat\")\n",
        "cat.sound()\n",
        "dog = AnimalFactory.from_name(\"dog\")\n",
        "dog.sound()"
      ],
      "metadata": {
        "colab": {
          "base_uri": "https://localhost:8080/"
        },
        "id": "_1ayieZ6BxRo",
        "outputId": "79b3798b-defd-4ccc-dacb-d7bf70f4878d"
      },
      "execution_count": 4,
      "outputs": [
        {
          "output_type": "stream",
          "name": "stdout",
          "text": [
            "Hey, I'm Kitty!\n",
            "Hey, I'm Rex!\n"
          ]
        }
      ]
    },
    {
      "cell_type": "markdown",
      "source": [
        "# 2. Attributes Modification"
      ],
      "metadata": {
        "id": "MaeWe_CNBz3j"
      }
    },
    {
      "cell_type": "code",
      "source": [
        "class Field:\n",
        "    name: str\n",
        "\n",
        "\n",
        "class Model:\n",
        "    x = Field()\n",
        "    y = Field()\n",
        "    z = Field()"
      ],
      "metadata": {
        "id": "__EiUewwBy8o"
      },
      "execution_count": 5,
      "outputs": []
    },
    {
      "cell_type": "code",
      "source": [
        "class Field:\n",
        "    name: str\n",
        "\n",
        "\n",
        "class MetaModel(type):\n",
        "    def __new__(cls, name, bases, namespace):\n",
        "        fields = {}\n",
        "        def mod_fields(items):\n",
        "            for key, value in items:\n",
        "                if isinstance(value, Field):\n",
        "                    value.name = f\"{name}.{key}\"\n",
        "                    fields[key] = value\n",
        "        \n",
        "        mod_fields(namespace.items())\n",
        "        for base in bases:\n",
        "            if hasattr(base, '_fields'):\n",
        "                mod_fields(base._fields.items())\n",
        "        \n",
        "        namespace['_fields'] = fields\n",
        "        return super().__new__(cls, name, bases, namespace)\n",
        "\n",
        "\n",
        "class Model(metaclass=MetaModel):\n",
        "    x = Field()\n",
        "    y = Field()\n",
        "    z = Field()\n",
        "\n",
        "\n",
        "class SubModel(Model):\n",
        "    w = Field()\n",
        "\n",
        "\n",
        "sm = SubModel()\n",
        "for f in sm._fields.values():\n",
        "    print(f.name)"
      ],
      "metadata": {
        "colab": {
          "base_uri": "https://localhost:8080/"
        },
        "id": "iup1MQYEB05B",
        "outputId": "cb14ada2-0b1b-4ac2-fcf1-bac244df9e63"
      },
      "execution_count": 6,
      "outputs": [
        {
          "output_type": "stream",
          "name": "stdout",
          "text": [
            "SubModel.w\n",
            "SubModel.x\n",
            "SubModel.y\n",
            "SubModel.z\n"
          ]
        }
      ]
    },
    {
      "cell_type": "markdown",
      "source": [
        "# 3. Final Class"
      ],
      "metadata": {
        "id": "LE964gc8B3ue"
      }
    },
    {
      "cell_type": "code",
      "source": [
        "class FinalMeta(type):\n",
        "    def __new__(cls, name, bases, namespace):\n",
        "        for base in bases:\n",
        "            if type(base) is FinalMeta:\n",
        "                raise RuntimeError(\"You cannot subclass a final class\")\n",
        "        return super().__new__(cls, name, bases, namespace)\n",
        "\n",
        "\n",
        "class Person(metaclass=FinalMeta):\n",
        "    def run(self):\n",
        "        print(\"Run, Forrest, run!\")\n",
        "\n",
        "\n",
        "class OtherPerson(Person):\n",
        "    def walk(self):\n",
        "        print(\"Walking...\")"
      ],
      "metadata": {
        "colab": {
          "base_uri": "https://localhost:8080/",
          "height": 402
        },
        "id": "DHptEJa8B2m0",
        "outputId": "79cb7ba0-02e9-4a77-b8ee-0424a1cdd755"
      },
      "execution_count": 7,
      "outputs": [
        {
          "output_type": "error",
          "ename": "RuntimeError",
          "evalue": "ignored",
          "traceback": [
            "\u001b[0;31m---------------------------------------------------------------------------\u001b[0m",
            "\u001b[0;31mRuntimeError\u001b[0m                              Traceback (most recent call last)",
            "\u001b[0;32m<ipython-input-7-2a38129f50ca>\u001b[0m in \u001b[0;36m<cell line: 14>\u001b[0;34m()\u001b[0m\n\u001b[1;32m     12\u001b[0m \u001b[0;34m\u001b[0m\u001b[0m\n\u001b[1;32m     13\u001b[0m \u001b[0;34m\u001b[0m\u001b[0m\n\u001b[0;32m---> 14\u001b[0;31m \u001b[0;32mclass\u001b[0m \u001b[0mOtherPerson\u001b[0m\u001b[0;34m(\u001b[0m\u001b[0mPerson\u001b[0m\u001b[0;34m)\u001b[0m\u001b[0;34m:\u001b[0m\u001b[0;34m\u001b[0m\u001b[0;34m\u001b[0m\u001b[0m\n\u001b[0m\u001b[1;32m     15\u001b[0m     \u001b[0;32mdef\u001b[0m \u001b[0mwalk\u001b[0m\u001b[0;34m(\u001b[0m\u001b[0mself\u001b[0m\u001b[0;34m)\u001b[0m\u001b[0;34m:\u001b[0m\u001b[0;34m\u001b[0m\u001b[0;34m\u001b[0m\u001b[0m\n\u001b[1;32m     16\u001b[0m         \u001b[0mprint\u001b[0m\u001b[0;34m(\u001b[0m\u001b[0;34m\"Walking...\"\u001b[0m\u001b[0;34m)\u001b[0m\u001b[0;34m\u001b[0m\u001b[0;34m\u001b[0m\u001b[0m\n",
            "\u001b[0;32m<ipython-input-7-2a38129f50ca>\u001b[0m in \u001b[0;36m__new__\u001b[0;34m(cls, name, bases, namespace)\u001b[0m\n\u001b[1;32m      3\u001b[0m         \u001b[0;32mfor\u001b[0m \u001b[0mbase\u001b[0m \u001b[0;32min\u001b[0m \u001b[0mbases\u001b[0m\u001b[0;34m:\u001b[0m\u001b[0;34m\u001b[0m\u001b[0;34m\u001b[0m\u001b[0m\n\u001b[1;32m      4\u001b[0m             \u001b[0;32mif\u001b[0m \u001b[0mtype\u001b[0m\u001b[0;34m(\u001b[0m\u001b[0mbase\u001b[0m\u001b[0;34m)\u001b[0m \u001b[0;32mis\u001b[0m \u001b[0mFinalMeta\u001b[0m\u001b[0;34m:\u001b[0m\u001b[0;34m\u001b[0m\u001b[0;34m\u001b[0m\u001b[0m\n\u001b[0;32m----> 5\u001b[0;31m                 \u001b[0;32mraise\u001b[0m \u001b[0mRuntimeError\u001b[0m\u001b[0;34m(\u001b[0m\u001b[0;34m\"You cannot subclass a final class\"\u001b[0m\u001b[0;34m)\u001b[0m\u001b[0;34m\u001b[0m\u001b[0;34m\u001b[0m\u001b[0m\n\u001b[0m\u001b[1;32m      6\u001b[0m         \u001b[0;32mreturn\u001b[0m \u001b[0msuper\u001b[0m\u001b[0;34m(\u001b[0m\u001b[0;34m)\u001b[0m\u001b[0;34m.\u001b[0m\u001b[0m__new__\u001b[0m\u001b[0;34m(\u001b[0m\u001b[0mcls\u001b[0m\u001b[0;34m,\u001b[0m \u001b[0mname\u001b[0m\u001b[0;34m,\u001b[0m \u001b[0mbases\u001b[0m\u001b[0;34m,\u001b[0m \u001b[0mnamespace\u001b[0m\u001b[0;34m)\u001b[0m\u001b[0;34m\u001b[0m\u001b[0;34m\u001b[0m\u001b[0m\n\u001b[1;32m      7\u001b[0m \u001b[0;34m\u001b[0m\u001b[0m\n",
            "\u001b[0;31mRuntimeError\u001b[0m: You cannot subclass a final class"
          ]
        }
      ]
    },
    {
      "cell_type": "markdown",
      "source": [
        "# 4. Singleton"
      ],
      "metadata": {
        "id": "3kfrh0__B514"
      }
    },
    {
      "cell_type": "code",
      "source": [
        "class Singleton(type):\n",
        "    _instance = None\n",
        "\n",
        "    def __call__(cls, *args, **kwds):\n",
        "        if not cls._instance:\n",
        "            cls._instance = super().__call__(*args, **kwds)\n",
        "        return cls._instance\n",
        "\n",
        "\n",
        "class A(metaclass=Singleton):\n",
        "    pass\n",
        "\n",
        "\n",
        "a1 = A()\n",
        "a2 = A()\n",
        "\n",
        "print(a1 is a2)\n",
        "print(a1.__class__, a2.__class__)\n",
        "\n",
        "## Output:"
      ],
      "metadata": {
        "colab": {
          "base_uri": "https://localhost:8080/"
        },
        "id": "7601hrFHB5B4",
        "outputId": "32cab3b4-af7b-47f0-a464-4659c46f752f"
      },
      "execution_count": 8,
      "outputs": [
        {
          "output_type": "stream",
          "name": "stdout",
          "text": [
            "True\n",
            "<class '__main__.A'> <class '__main__.A'>\n"
          ]
        }
      ]
    },
    {
      "cell_type": "markdown",
      "source": [
        "# 5. Validation"
      ],
      "metadata": {
        "id": "mK-c7_ttB8hn"
      }
    },
    {
      "cell_type": "code",
      "source": [
        "class Interface(type):\n",
        "\n",
        "    def __new__(cls, name, bases, namespace):\n",
        "        # This is very simple, but just to give an example\n",
        "        if len(bases) == 0:\n",
        "            return super().__new__(cls, name, bases, namespace)\n",
        "        \n",
        "        for key in bases[0].__dict__.keys():\n",
        "            if key.startswith(\"_\"):\n",
        "                continue\n",
        "\n",
        "            if key not in namespace or not callable(namespace[key]):\n",
        "                raise TypeError(f\"Class {name} should implement method {key}\")\n",
        "\n",
        "        return super().__new__(cls, name, bases, namespace)\n",
        "\n",
        "\n",
        "class WriterInterface(metaclass=Interface):\n",
        "    def open(self):\n",
        "        pass\n",
        "\n",
        "    def close(self):\n",
        "        pass\n",
        "\n",
        "    def write(self):\n",
        "        pass\n",
        "\n",
        "\n",
        "class FileWriter(WriterInterface):\n",
        "    def open(self):\n",
        "        pass"
      ],
      "metadata": {
        "colab": {
          "base_uri": "https://localhost:8080/",
          "height": 419
        },
        "id": "X72GbCE1B73V",
        "outputId": "a22b9d2e-68a7-4577-88f3-642c5a3c9d41"
      },
      "execution_count": 9,
      "outputs": [
        {
          "output_type": "error",
          "ename": "TypeError",
          "evalue": "ignored",
          "traceback": [
            "\u001b[0;31m---------------------------------------------------------------------------\u001b[0m",
            "\u001b[0;31mTypeError\u001b[0m                                 Traceback (most recent call last)",
            "\u001b[0;32m<ipython-input-9-dccf13f53c3c>\u001b[0m in \u001b[0;36m<cell line: 29>\u001b[0;34m()\u001b[0m\n\u001b[1;32m     27\u001b[0m \u001b[0;34m\u001b[0m\u001b[0m\n\u001b[1;32m     28\u001b[0m \u001b[0;34m\u001b[0m\u001b[0m\n\u001b[0;32m---> 29\u001b[0;31m \u001b[0;32mclass\u001b[0m \u001b[0mFileWriter\u001b[0m\u001b[0;34m(\u001b[0m\u001b[0mWriterInterface\u001b[0m\u001b[0;34m)\u001b[0m\u001b[0;34m:\u001b[0m\u001b[0;34m\u001b[0m\u001b[0;34m\u001b[0m\u001b[0m\n\u001b[0m\u001b[1;32m     30\u001b[0m     \u001b[0;32mdef\u001b[0m \u001b[0mopen\u001b[0m\u001b[0;34m(\u001b[0m\u001b[0mself\u001b[0m\u001b[0;34m)\u001b[0m\u001b[0;34m:\u001b[0m\u001b[0;34m\u001b[0m\u001b[0;34m\u001b[0m\u001b[0m\n\u001b[1;32m     31\u001b[0m         \u001b[0;32mpass\u001b[0m\u001b[0;34m\u001b[0m\u001b[0;34m\u001b[0m\u001b[0m\n",
            "\u001b[0;32m<ipython-input-9-dccf13f53c3c>\u001b[0m in \u001b[0;36m__new__\u001b[0;34m(cls, name, bases, namespace)\u001b[0m\n\u001b[1;32m     11\u001b[0m \u001b[0;34m\u001b[0m\u001b[0m\n\u001b[1;32m     12\u001b[0m             \u001b[0;32mif\u001b[0m \u001b[0mkey\u001b[0m \u001b[0;32mnot\u001b[0m \u001b[0;32min\u001b[0m \u001b[0mnamespace\u001b[0m \u001b[0;32mor\u001b[0m \u001b[0;32mnot\u001b[0m \u001b[0mcallable\u001b[0m\u001b[0;34m(\u001b[0m\u001b[0mnamespace\u001b[0m\u001b[0;34m[\u001b[0m\u001b[0mkey\u001b[0m\u001b[0;34m]\u001b[0m\u001b[0;34m)\u001b[0m\u001b[0;34m:\u001b[0m\u001b[0;34m\u001b[0m\u001b[0;34m\u001b[0m\u001b[0m\n\u001b[0;32m---> 13\u001b[0;31m                 \u001b[0;32mraise\u001b[0m \u001b[0mTypeError\u001b[0m\u001b[0;34m(\u001b[0m\u001b[0;34mf\"Class {name} should implement method {key}\"\u001b[0m\u001b[0;34m)\u001b[0m\u001b[0;34m\u001b[0m\u001b[0;34m\u001b[0m\u001b[0m\n\u001b[0m\u001b[1;32m     14\u001b[0m \u001b[0;34m\u001b[0m\u001b[0m\n\u001b[1;32m     15\u001b[0m         \u001b[0;32mreturn\u001b[0m \u001b[0msuper\u001b[0m\u001b[0;34m(\u001b[0m\u001b[0;34m)\u001b[0m\u001b[0;34m.\u001b[0m\u001b[0m__new__\u001b[0m\u001b[0;34m(\u001b[0m\u001b[0mcls\u001b[0m\u001b[0;34m,\u001b[0m \u001b[0mname\u001b[0m\u001b[0;34m,\u001b[0m \u001b[0mbases\u001b[0m\u001b[0;34m,\u001b[0m \u001b[0mnamespace\u001b[0m\u001b[0;34m)\u001b[0m\u001b[0;34m\u001b[0m\u001b[0;34m\u001b[0m\u001b[0m\n",
            "\u001b[0;31mTypeError\u001b[0m: Class FileWriter should implement method close"
          ]
        }
      ]
    },
    {
      "cell_type": "markdown",
      "source": [
        "# 6. Declarative form"
      ],
      "metadata": {
        "id": "2oj-_vVJB_wO"
      }
    },
    {
      "cell_type": "code",
      "source": [
        "root = Element()\n",
        "child1 = Element()\n",
        "child2 = Element()\n",
        "child11 = Element()\n",
        "\n",
        "child1.add(child11)\n",
        "root.add(child1)\n",
        "root.add(child2)"
      ],
      "metadata": {
        "id": "RcdJxcW1B-6A"
      },
      "execution_count": 12,
      "outputs": []
    },
    {
      "cell_type": "code",
      "source": [
        "class Root:\n",
        "    class Child1:\n",
        "        class Child11:\n",
        "            pass\n",
        "    \n",
        "    class Child2:\n",
        "        pass"
      ],
      "metadata": {
        "id": "iCTdoe0_CBIC"
      },
      "execution_count": 11,
      "outputs": []
    }
  ]
}