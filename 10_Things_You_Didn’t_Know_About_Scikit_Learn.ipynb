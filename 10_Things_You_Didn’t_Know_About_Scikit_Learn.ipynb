{
  "nbformat": 4,
  "nbformat_minor": 0,
  "metadata": {
    "colab": {
      "name": "10 Things You Didn’t Know About Scikit-Learn.ipynb",
      "provenance": [],
      "authorship_tag": "ABX9TyOjRtgSnqyIsNxPdvl3eHD0"
    },
    "kernelspec": {
      "name": "python3",
      "display_name": "Python 3"
    },
    "language_info": {
      "name": "python"
    }
  },
  "cells": [
    {
      "cell_type": "markdown",
      "metadata": {
        "id": "cuDlqAVW4QtL"
      },
      "source": [
        "[Reference](https://towardsdatascience.com/10-things-you-didnt-know-about-scikit-learn-cccc94c50e4f)"
      ]
    },
    {
      "cell_type": "markdown",
      "metadata": {
        "id": "5msDumtf4jNn"
      },
      "source": [
        "# 1. Scikit-learn has built-in data sets"
      ]
    },
    {
      "cell_type": "code",
      "metadata": {
        "id": "jTKGT3w94L8u"
      },
      "source": [
        "# Toy regression data set loading\n",
        "from sklearn.datasets import load_boston\n",
        "\n",
        "X,y = load_boston(return_X_y = True)\n",
        "\n",
        "# Synthetic regresion data set loading\n",
        "from sklearn.datasets import make_regression\n",
        "\n",
        "X,y = make_regression(n_samples=10000, noise=100, random_state=0)"
      ],
      "execution_count": 1,
      "outputs": []
    },
    {
      "cell_type": "markdown",
      "metadata": {
        "id": "i9tHoTAc4nCH"
      },
      "source": [
        "# 2. Third-party public data sets are also easily available"
      ]
    },
    {
      "cell_type": "code",
      "metadata": {
        "id": "ijoVApn24UIe"
      },
      "source": [
        "from sklearn.datasets import fetch_openml\n",
        "\n",
        "X,y = fetch_openml(\"wine\", version=1, as_frame=True, return_X_y=True)"
      ],
      "execution_count": 2,
      "outputs": []
    },
    {
      "cell_type": "markdown",
      "metadata": {
        "id": "A4kDRK6a4qC_"
      },
      "source": [
        "# 3. There are ready-made classifiers to train baseline models"
      ]
    },
    {
      "cell_type": "code",
      "metadata": {
        "colab": {
          "base_uri": "https://localhost:8080/"
        },
        "id": "OsgUrXlM4VhF",
        "outputId": "75e5ef15-b66f-4b2f-d3f1-ea5e34327ede"
      },
      "source": [
        "from sklearn.dummy import DummyClassifier\n",
        "\n",
        "# Fit the model on the wine dataset and return the model score\n",
        "dummy_clf = DummyClassifier(strategy=\"most_frequent\", random_state=0)\n",
        "\n",
        "dummy_clf.fit(X, y)\n",
        "\n",
        "dummy_clf.score(X, y)"
      ],
      "execution_count": 3,
      "outputs": [
        {
          "output_type": "execute_result",
          "data": {
            "text/plain": [
              "0.398876404494382"
            ]
          },
          "metadata": {
            "tags": []
          },
          "execution_count": 3
        }
      ]
    },
    {
      "cell_type": "markdown",
      "metadata": {
        "id": "HJGDP6OY4v7Y"
      },
      "source": [
        "# 4. Scikit-learn has its own plotting API"
      ]
    },
    {
      "cell_type": "code",
      "metadata": {
        "colab": {
          "base_uri": "https://localhost:8080/",
          "height": 279
        },
        "id": "rIryGNR94W2a",
        "outputId": "c5b84e18-94e8-491b-b7e1-56d1d91e8999"
      },
      "source": [
        "import matplotlib.pyplot as plt \n",
        "from sklearn import metrics, model_selection\n",
        "from sklearn.ensemble import RandomForestClassifier\n",
        "from sklearn.datasets import load_breast_cancer\n",
        "\n",
        "X,y = load_breast_cancer(return_X_y = True)\n",
        "\n",
        "X_train, X_test, y_train, y_test = model_selection.train_test_split(X, y, random_state=0)\n",
        "clf = RandomForestClassifier(random_state=0)\n",
        "clf.fit(X_train, y_train)\n",
        "\n",
        "metrics.plot_roc_curve(clf, X_test, y_test)\n",
        "plt.show()"
      ],
      "execution_count": 4,
      "outputs": [
        {
          "output_type": "display_data",
          "data": {
            "image/png": "[encoded data removed]",
            "text/plain": [
              "<Figure size 432x288 with 1 Axes>"
            ]
          },
          "metadata": {
            "tags": [],
            "needs_background": "light"
          }
        }
      ]
    },
    {
      "cell_type": "markdown",
      "metadata": {
        "id": "FZAMoOjo4zpa"
      },
      "source": [
        "# 5. Scikit-learn has built-in feature selection methods"
      ]
    },
    {
      "cell_type": "code",
      "metadata": {
        "id": "DLYRQP-t4xl2"
      },
      "source": [
        "from sklearn import model_selection\n",
        "from sklearn.ensemble import RandomForestClassifier\n",
        "from sklearn.datasets import load_wine\n",
        "from sklearn.pipeline import Pipeline\n",
        "from sklearn.preprocessing import StandardScaler\n",
        "from sklearn.feature_selection import SelectPercentile, chi2\n",
        "\n",
        "X,y = load_wine(return_X_y = True)\n",
        "\n",
        "X_trasformed = SelectPercentile(chi2, percentile=60).fit_transform(X, y)"
      ],
      "execution_count": 5,
      "outputs": []
    },
    {
      "cell_type": "markdown",
      "metadata": {
        "id": "XARWdfyl45Tq"
      },
      "source": [
        "# 6. Pipelines allow you to chain together all the steps in a machine learning workflow"
      ]
    },
    {
      "cell_type": "code",
      "metadata": {
        "colab": {
          "base_uri": "https://localhost:8080/"
        },
        "id": "N4GQhL3342b6",
        "outputId": "dfbc20b5-7bf1-4e11-f431-d4dfb94855e8"
      },
      "source": [
        "from sklearn import model_selection\n",
        "from sklearn.ensemble import RandomForestClassifier\n",
        "from sklearn.datasets import load_breast_cancer\n",
        "from sklearn.pipeline import Pipeline\n",
        "from sklearn.preprocessing import StandardScaler\n",
        "\n",
        "X,y = load_breast_cancer(return_X_y = True)\n",
        "\n",
        "X_train, X_test, y_train, y_test = model_selection.train_test_split(X, y, random_state=0)\n",
        "\n",
        "# Chain together scaling the variables with the model\n",
        "pipe = Pipeline([('scaler', StandardScaler()), ('rf', RandomForestClassifier())])\n",
        "pipe.fit(X_train, y_train)\n",
        "\n",
        "pipe.score(X_test, y_test)"
      ],
      "execution_count": 6,
      "outputs": [
        {
          "output_type": "execute_result",
          "data": {
            "text/plain": [
              "0.972027972027972"
            ]
          },
          "metadata": {
            "tags": []
          },
          "execution_count": 6
        }
      ]
    },
    {
      "cell_type": "markdown",
      "metadata": {
        "id": "FpNAPqoa4-UL"
      },
      "source": [
        "# 7. With the ColumnTransformer you can apply different preprocessing to different features"
      ]
    },
    {
      "cell_type": "code",
      "metadata": {
        "colab": {
          "base_uri": "https://localhost:8080/"
        },
        "id": "XtY-_zHB48R-",
        "outputId": "fb12f31a-fff8-43d9-fed2-8b801001c16b"
      },
      "source": [
        "from sklearn import model_selection\n",
        "from sklearn.linear_model import LinearRegression\n",
        "from sklearn.datasets import fetch_openml\n",
        "from sklearn.compose import ColumnTransformer\n",
        "from sklearn.pipeline import Pipeline\n",
        "from sklearn.impute import SimpleImputer\n",
        "from sklearn.preprocessing import StandardScaler, OneHotEncoder\n",
        "\n",
        "# Load auto93 data set which contains both categorical and numeric features\n",
        "X,y = fetch_openml(\"auto93\", version=1, as_frame=True, return_X_y=True)\n",
        "\n",
        "# Create lists of numeric and categorical features  \n",
        "numeric_features = X.select_dtypes(include=['int64', 'float64']).columns\n",
        "categorical_features = X.select_dtypes(include=['object']).columns\n",
        "\n",
        "X_train, X_test, y_train, y_test = model_selection.train_test_split(X, y, random_state=0)\n",
        "\n",
        "# Create a numeric and categorical transformer to perform preprocessing steps\n",
        "numeric_transformer = Pipeline(steps=[\n",
        "    ('imputer', SimpleImputer(strategy='median')),\n",
        "    ('scaler', StandardScaler())])\n",
        "\n",
        "categorical_transformer = Pipeline(steps=[\n",
        "    ('imputer', SimpleImputer(strategy='constant', fill_value='missing')),\n",
        "    ('onehot', OneHotEncoder(handle_unknown='ignore'))])\n",
        "\n",
        "# Use the ColumnTransformer to apply to the correct features\n",
        "preprocessor = ColumnTransformer(\n",
        "    transformers=[\n",
        "        ('num', numeric_transformer, numeric_features),\n",
        "        ('cat', categorical_transformer, categorical_features)])\n",
        "\n",
        "# Append regressor to the preprocessor\n",
        "lr = Pipeline(steps=[('preprocessor', preprocessor),\n",
        "                      ('classifier', LinearRegression())])\n",
        "\n",
        "# Fit the complete pipeline\n",
        "lr.fit(X_train, y_train)\n",
        "print(\"model score: %.3f\" % lr.score(X_test, y_test))"
      ],
      "execution_count": 7,
      "outputs": [
        {
          "output_type": "stream",
          "text": [
            "model score: 0.766\n"
          ],
          "name": "stdout"
        }
      ]
    },
    {
      "cell_type": "markdown",
      "metadata": {
        "id": "u5fJ9LnU5Kel"
      },
      "source": [
        "# 8. You can easily output an HTML representation of your pipeline"
      ]
    },
    {
      "cell_type": "code",
      "metadata": {
        "colab": {
          "base_uri": "https://localhost:8080/",
          "height": 266
        },
        "id": "UkQKsO4v5I8D",
        "outputId": "b8a9e6e5-6b3d-4515-d164-03df3220381b"
      },
      "source": [
        "from sklearn import set_config\n",
        "\n",
        "set_config(display='diagram')   \n",
        "\n",
        "lr"
      ],
      "execution_count": 8,
      "outputs": [
        {
          "output_type": "error",
          "ename": "TypeError",
          "evalue": "ignored",
          "traceback": [
            "\u001b[0;31m---------------------------------------------------------------------------\u001b[0m",
            "\u001b[0;31mTypeError\u001b[0m                                 Traceback (most recent call last)",
            "\u001b[0;32m<ipython-input-8-755d21d63ff8>\u001b[0m in \u001b[0;36m<module>\u001b[0;34m()\u001b[0m\n\u001b[1;32m      1\u001b[0m \u001b[0;32mfrom\u001b[0m \u001b[0msklearn\u001b[0m \u001b[0;32mimport\u001b[0m \u001b[0mset_config\u001b[0m\u001b[0;34m\u001b[0m\u001b[0;34m\u001b[0m\u001b[0m\n\u001b[1;32m      2\u001b[0m \u001b[0;34m\u001b[0m\u001b[0m\n\u001b[0;32m----> 3\u001b[0;31m \u001b[0mset_config\u001b[0m\u001b[0;34m(\u001b[0m\u001b[0mdisplay\u001b[0m\u001b[0;34m=\u001b[0m\u001b[0;34m'diagram'\u001b[0m\u001b[0;34m)\u001b[0m\u001b[0;34m\u001b[0m\u001b[0;34m\u001b[0m\u001b[0m\n\u001b[0m\u001b[1;32m      4\u001b[0m \u001b[0;34m\u001b[0m\u001b[0m\n\u001b[1;32m      5\u001b[0m \u001b[0mlr\u001b[0m\u001b[0;34m\u001b[0m\u001b[0;34m\u001b[0m\u001b[0m\n",
            "\u001b[0;31mTypeError\u001b[0m: set_config() got an unexpected keyword argument 'display'"
          ]
        }
      ]
    },
    {
      "cell_type": "markdown",
      "metadata": {
        "id": "c3TGCK-t5TiF"
      },
      "source": [
        "# 9. There is a plotting function to visualise trees"
      ]
    },
    {
      "cell_type": "code",
      "metadata": {
        "colab": {
          "base_uri": "https://localhost:8080/",
          "height": 248
        },
        "id": "OSzXqPrM5Pkg",
        "outputId": "ff7732bf-32e6-430c-928c-cf7e7c62be5a"
      },
      "source": [
        "import matplotlib.pyplot as plt \n",
        "from sklearn import metrics, model_selection\n",
        "from sklearn.tree import DecisionTreeClassifier, plot_tree\n",
        "from sklearn.datasets import load_breast_cancer\n",
        "\n",
        "X,y = load_breast_cancer(return_X_y = True)\n",
        "\n",
        "X_train, X_test, y_train, y_test = model_selection.train_test_split(X, y, random_state=0)\n",
        "clf = DecisionTreeClassifier()\n",
        "clf.fit(X_train, y_train)\n",
        "\n",
        "plot_tree(clf, filled=True)\n",
        "plt.show()"
      ],
      "execution_count": 9,
      "outputs": [
        {
          "output_type": "display_data",
          "data": {
            "image/png": "[encoded data removed]",
            "text/plain": [
              "<Figure size 432x288 with 1 Axes>"
            ]
          },
          "metadata": {
            "tags": [],
            "needs_background": "light"
          }
        }
      ]
    },
    {
      "cell_type": "markdown",
      "metadata": {
        "id": "GvYzi1wG5W1L"
      },
      "source": [
        "# 10. There are many third-party libraries that extend the features of Scikit-learn"
      ]
    },
    {
      "cell_type": "code",
      "metadata": {
        "colab": {
          "base_uri": "https://localhost:8080/"
        },
        "id": "6sTvm59t5bOd",
        "outputId": "7832aad1-d4d1-482c-a863-120503b7a61b"
      },
      "source": [
        "!pip install category_encoders"
      ],
      "execution_count": 11,
      "outputs": [
        {
          "output_type": "stream",
          "text": [
            "Collecting category_encoders\n",
            "\u001b[?25l  Downloading https://files.pythonhosted.org/packages/44/57/fcef41c248701ee62e8325026b90c432adea35555cbc870aff9cfba23727/category_encoders-2.2.2-py2.py3-none-any.whl (80kB)\n",
            "\r\u001b[K     |████                            | 10kB 18.5MB/s eta 0:00:01\r\u001b[K     |████████▏                       | 20kB 17.9MB/s eta 0:00:01\r\u001b[K     |████████████▏                   | 30kB 10.3MB/s eta 0:00:01\r\u001b[K     |████████████████▎               | 40kB 8.8MB/s eta 0:00:01\r\u001b[K     |████████████████████▎           | 51kB 6.1MB/s eta 0:00:01\r\u001b[K     |████████████████████████▍       | 61kB 6.5MB/s eta 0:00:01\r\u001b[K     |████████████████████████████▍   | 71kB 7.0MB/s eta 0:00:01\r\u001b[K     |████████████████████████████████| 81kB 4.7MB/s \n",
            "\u001b[?25hRequirement already satisfied: scipy>=1.0.0 in /usr/local/lib/python3.7/dist-packages (from category_encoders) (1.4.1)\n",
            "Requirement already satisfied: scikit-learn>=0.20.0 in /usr/local/lib/python3.7/dist-packages (from category_encoders) (0.22.2.post1)\n",
            "Requirement already satisfied: numpy>=1.14.0 in /usr/local/lib/python3.7/dist-packages (from category_encoders) (1.19.5)\n",
            "Requirement already satisfied: statsmodels>=0.9.0 in /usr/local/lib/python3.7/dist-packages (from category_encoders) (0.10.2)\n",
            "Requirement already satisfied: patsy>=0.5.1 in /usr/local/lib/python3.7/dist-packages (from category_encoders) (0.5.1)\n",
            "Requirement already satisfied: pandas>=0.21.1 in /usr/local/lib/python3.7/dist-packages (from category_encoders) (1.1.5)\n",
            "Requirement already satisfied: joblib>=0.11 in /usr/local/lib/python3.7/dist-packages (from scikit-learn>=0.20.0->category_encoders) (1.0.1)\n",
            "Requirement already satisfied: six in /usr/local/lib/python3.7/dist-packages (from patsy>=0.5.1->category_encoders) (1.15.0)\n",
            "Requirement already satisfied: pytz>=2017.2 in /usr/local/lib/python3.7/dist-packages (from pandas>=0.21.1->category_encoders) (2018.9)\n",
            "Requirement already satisfied: python-dateutil>=2.7.3 in /usr/local/lib/python3.7/dist-packages (from pandas>=0.21.1->category_encoders) (2.8.1)\n",
            "Installing collected packages: category-encoders\n",
            "Successfully installed category-encoders-2.2.2\n"
          ],
          "name": "stdout"
        }
      ]
    },
    {
      "cell_type": "code",
      "metadata": {
        "colab": {
          "base_uri": "https://localhost:8080/"
        },
        "id": "56i0bcmC5Uzv",
        "outputId": "366a19c5-fd86-4532-90ce-95005404ce86"
      },
      "source": [
        "# Pipeline using Weight of Evidence transformer from category encoders\n",
        "\n",
        "from sklearn import model_selection\n",
        "from sklearn.linear_model import LinearRegression\n",
        "from sklearn.datasets import fetch_openml\n",
        "from sklearn.compose import ColumnTransformer\n",
        "from sklearn.pipeline import Pipeline\n",
        "from sklearn.impute import SimpleImputer\n",
        "from sklearn.preprocessing import StandardScaler, OneHotEncoder\n",
        "import category_encoders as ce\n",
        "\n",
        "# Load auto93 data set which contains both categorical and numeric features\n",
        "X,y = fetch_openml(\"auto93\", version=1, as_frame=True, return_X_y=True)\n",
        "\n",
        "# Create lists of numeric and categorical features  \n",
        "numeric_features = X.select_dtypes(include=['int64', 'float64']).columns\n",
        "categorical_features = X.select_dtypes(include=['object']).columns\n",
        "\n",
        "X_train, X_test, y_train, y_test = model_selection.train_test_split(X, y, random_state=0)\n",
        "\n",
        "# Create a numeric and categorical transformer to perform preprocessing steps\n",
        "numeric_transformer = Pipeline(steps=[\n",
        "    ('imputer', SimpleImputer(strategy='median')),\n",
        "    ('scaler', StandardScaler())])\n",
        "\n",
        "categorical_transformer = Pipeline(steps=[\n",
        "        ('imputer', SimpleImputer(strategy='constant', fill_value='missing')),\n",
        "        ('woe', ce.woe.WOEEncoder())])\n",
        "\n",
        "# Use the ColumnTransformer to apply to the correct features\n",
        "preprocessor = ColumnTransformer(\n",
        "    transformers=[\n",
        "        ('num', numeric_transformer, numeric_features),\n",
        "        ('cat', categorical_transformer, categorical_features)])\n",
        "\n",
        "# Append regressor to the preprocessor\n",
        "lr = Pipeline(steps=[('preprocessor', preprocessor),\n",
        "                      ('classifier', LinearRegression())])\n",
        "\n",
        "# Fit the complete pipeline\n",
        "lr.fit(X_train, y_train)\n",
        "print(\"model score: %.3f\" % lr.score(X_test, y_test))"
      ],
      "execution_count": 12,
      "outputs": [
        {
          "output_type": "stream",
          "text": [
            "/usr/local/lib/python3.7/dist-packages/statsmodels/tools/_testing.py:19: FutureWarning: pandas.util.testing is deprecated. Use the functions in the public API at pandas.testing instead.\n",
            "  import pandas.util.testing as tm\n"
          ],
          "name": "stderr"
        },
        {
          "output_type": "stream",
          "text": [
            "model score: 0.766\n"
          ],
          "name": "stdout"
        }
      ]
    }
  ]
}