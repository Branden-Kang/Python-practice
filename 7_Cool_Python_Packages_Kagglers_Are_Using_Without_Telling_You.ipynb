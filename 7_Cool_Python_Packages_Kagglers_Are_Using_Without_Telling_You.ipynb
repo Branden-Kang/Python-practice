{
  "nbformat": 4,
  "nbformat_minor": 0,
  "metadata": {
    "colab": {
      "name": "7 Cool Python Packages Kagglers Are Using Without Telling You.ipynb",
      "provenance": [],
      "authorship_tag": "ABX9TyNrF8Ktaa20rA7VYTT1s8Wl"
    },
    "kernelspec": {
      "name": "python3",
      "display_name": "Python 3"
    },
    "language_info": {
      "name": "python"
    }
  },
  "cells": [
    {
      "cell_type": "markdown",
      "metadata": {
        "id": "NSsTZEonvdLk"
      },
      "source": [
        "[Reference](https://towardsdatascience.com/7-cool-python-packages-kagglers-are-using-without-telling-you-e83298781cf4)"
      ]
    },
    {
      "cell_type": "markdown",
      "metadata": {
        "id": "iAwTaqASvgIu"
      },
      "source": [
        "# 1. UMAP"
      ]
    },
    {
      "cell_type": "code",
      "metadata": {
        "colab": {
          "base_uri": "https://localhost:8080/"
        },
        "id": "SHcu7U_ovfUe",
        "outputId": "c02df536-ea45-428e-8a32-ea3f770a3e1e"
      },
      "source": [
        "pip install umap-learn"
      ],
      "execution_count": 1,
      "outputs": [
        {
          "output_type": "stream",
          "text": [
            "Requirement already satisfied: umap-learn in /usr/local/lib/python3.7/dist-packages (0.5.1)\n",
            "Requirement already satisfied: numpy>=1.17 in /usr/local/lib/python3.7/dist-packages (from umap-learn) (1.19.1)\n",
            "Requirement already satisfied: numba>=0.49 in /usr/local/lib/python3.7/dist-packages (from umap-learn) (0.51.2)\n",
            "Requirement already satisfied: scikit-learn>=0.22 in /usr/local/lib/python3.7/dist-packages (from umap-learn) (0.23.1)\n",
            "Requirement already satisfied: scipy>=1.0 in /usr/local/lib/python3.7/dist-packages (from umap-learn) (1.5.4)\n",
            "Requirement already satisfied: pynndescent>=0.5 in /usr/local/lib/python3.7/dist-packages (from umap-learn) (0.5.4)\n",
            "Requirement already satisfied: setuptools in /usr/local/lib/python3.7/dist-packages (from numba>=0.49->umap-learn) (57.2.0)\n",
            "Requirement already satisfied: llvmlite<0.35,>=0.34.0.dev0 in /usr/local/lib/python3.7/dist-packages (from numba>=0.49->umap-learn) (0.34.0)\n",
            "Requirement already satisfied: joblib>=0.11 in /usr/local/lib/python3.7/dist-packages (from pynndescent>=0.5->umap-learn) (1.0.0)\n",
            "Requirement already satisfied: threadpoolctl>=2.0.0 in /usr/local/lib/python3.7/dist-packages (from scikit-learn>=0.22->umap-learn) (2.2.0)\n"
          ],
          "name": "stdout"
        }
      ]
    },
    {
      "cell_type": "code",
      "metadata": {
        "id": "kSs81AYjvRs1"
      },
      "source": [
        "import umap\n",
        "\n",
        "# Create the mapper\n",
        "mapper = umap.UMAP()\n",
        "# Fit to the data\n",
        "mapper.fit(X, y)\n",
        "\n",
        "# Plot as a scatterplot\n",
        "umap.plot.points(mapper)"
      ],
      "execution_count": 2,
      "outputs": []
    },
    {
      "cell_type": "markdown",
      "metadata": {
        "id": "zF8B1sGpvtIH"
      },
      "source": [
        "# 2. Datatable"
      ]
    },
    {
      "cell_type": "code",
      "metadata": {
        "colab": {
          "base_uri": "https://localhost:8080/"
        },
        "id": "exWTDhAmv34L",
        "outputId": "71738a49-b841-439a-e11b-1de632fa4ab5"
      },
      "source": [
        "pip install datatable"
      ],
      "execution_count": 3,
      "outputs": [
        {
          "output_type": "stream",
          "text": [
            "Requirement already satisfied: datatable in /usr/local/lib/python3.7/dist-packages (1.0.0)\n"
          ],
          "name": "stdout"
        }
      ]
    },
    {
      "cell_type": "code",
      "metadata": {
        "id": "T8Owb9WIvnky"
      },
      "source": [
        " # pip install datatable\n",
        "\n",
        "frame = dt.fread(\"data/station_day.csv\")\n",
        "frame.head(5)"
      ],
      "execution_count": 4,
      "outputs": []
    },
    {
      "cell_type": "code",
      "metadata": {
        "colab": {
          "base_uri": "https://localhost:8080/",
          "height": 204
        },
        "id": "v8Exr9Qhv0KR",
        "outputId": "7e504aa4-5685-41a2-a77f-a5493466b472"
      },
      "source": [
        "from datatable import by, f, sum\n",
        "import datatable as dt \n",
        "import seaborn as sns\n",
        "\n",
        "tips = sns.load_dataset(\"tips\")\n",
        "frame = dt.Frame(tips)\n",
        "frame[:, sum(f.total_bill), by(f.size)]"
      ],
      "execution_count": 8,
      "outputs": [
        {
          "output_type": "execute_result",
          "data": {
            "text/html": [
              "<div class='datatable'>\n",
              "  <table class='frame'>\n",
              "  <thead>\n",
              "    <tr class='colnames'><td class='row_index'></td><th>size</th><th>total_bill</th></tr>\n",
              "    <tr class='coltypes'><td class='row_index'></td><td class='int' title='int64'>&#x25AA;&#x25AA;&#x25AA;&#x25AA;&#x25AA;&#x25AA;&#x25AA;&#x25AA;</td><td class='float' title='float64'>&#x25AA;&#x25AA;&#x25AA;&#x25AA;&#x25AA;&#x25AA;&#x25AA;&#x25AA;</td></tr>\n",
              "  </thead>\n",
              "  <tbody>\n",
              "    <tr><td class='row_index'>0</td><td>1</td><td>28.97</td></tr>\n",
              "    <tr><td class='row_index'>1</td><td>2</td><td>2565.89</td></tr>\n",
              "    <tr><td class='row_index'>2</td><td>3</td><td>884.55</td></tr>\n",
              "    <tr><td class='row_index'>3</td><td>4</td><td>1058.7</td></tr>\n",
              "    <tr><td class='row_index'>4</td><td>5</td><td>150.34</td></tr>\n",
              "    <tr><td class='row_index'>5</td><td>6</td><td>139.32</td></tr>\n",
              "  </tbody>\n",
              "  </table>\n",
              "  <div class='footer'>\n",
              "    <div class='frame_dimensions'>6 rows &times; 2 columns</div>\n",
              "  </div>\n",
              "</div>\n"
            ],
            "text/plain": [
              "<Frame#7ff11ac72ed0 6x2>"
            ]
          },
          "metadata": {
            "tags": []
          },
          "execution_count": 8
        }
      ]
    },
    {
      "cell_type": "markdown",
      "metadata": {
        "id": "VgWhaXX8v7Ie"
      },
      "source": [
        "# 3. Lazypredict"
      ]
    },
    {
      "cell_type": "code",
      "metadata": {
        "colab": {
          "base_uri": "https://localhost:8080/"
        },
        "id": "rdnhnW41v_0F",
        "outputId": "c2c3286f-b47e-411f-b0b3-72c5a885f973"
      },
      "source": [
        "pip install lazypredict"
      ],
      "execution_count": 9,
      "outputs": [
        {
          "output_type": "stream",
          "text": [
            "Requirement already satisfied: lazypredict in /usr/local/lib/python3.7/dist-packages (0.2.9)\n",
            "Requirement already satisfied: six==1.15.0 in /usr/local/lib/python3.7/dist-packages (from lazypredict) (1.15.0)\n",
            "Requirement already satisfied: xgboost==1.1.1 in /usr/local/lib/python3.7/dist-packages (from lazypredict) (1.1.1)\n",
            "Requirement already satisfied: pytest==5.4.3 in /usr/local/lib/python3.7/dist-packages (from lazypredict) (5.4.3)\n",
            "Requirement already satisfied: scipy==1.5.4 in /usr/local/lib/python3.7/dist-packages (from lazypredict) (1.5.4)\n",
            "Requirement already satisfied: numpy==1.19.1 in /usr/local/lib/python3.7/dist-packages (from lazypredict) (1.19.1)\n",
            "Requirement already satisfied: click==7.1.2 in /usr/local/lib/python3.7/dist-packages (from lazypredict) (7.1.2)\n",
            "Requirement already satisfied: joblib==1.0.0 in /usr/local/lib/python3.7/dist-packages (from lazypredict) (1.0.0)\n",
            "Requirement already satisfied: lightgbm==2.3.1 in /usr/local/lib/python3.7/dist-packages (from lazypredict) (2.3.1)\n",
            "Requirement already satisfied: PyYAML==5.3.1 in /usr/local/lib/python3.7/dist-packages (from lazypredict) (5.3.1)\n",
            "Requirement already satisfied: tqdm==4.56.0 in /usr/local/lib/python3.7/dist-packages (from lazypredict) (4.56.0)\n",
            "Requirement already satisfied: scikit-learn==0.23.1 in /usr/local/lib/python3.7/dist-packages (from lazypredict) (0.23.1)\n",
            "Requirement already satisfied: pandas==1.0.5 in /usr/local/lib/python3.7/dist-packages (from lazypredict) (1.0.5)\n",
            "Requirement already satisfied: pytz>=2017.2 in /usr/local/lib/python3.7/dist-packages (from pandas==1.0.5->lazypredict) (2018.9)\n",
            "Requirement already satisfied: python-dateutil>=2.6.1 in /usr/local/lib/python3.7/dist-packages (from pandas==1.0.5->lazypredict) (2.8.1)\n",
            "Requirement already satisfied: importlib-metadata>=0.12 in /usr/local/lib/python3.7/dist-packages (from pytest==5.4.3->lazypredict) (4.6.1)\n",
            "Requirement already satisfied: more-itertools>=4.0.0 in /usr/local/lib/python3.7/dist-packages (from pytest==5.4.3->lazypredict) (8.8.0)\n",
            "Requirement already satisfied: attrs>=17.4.0 in /usr/local/lib/python3.7/dist-packages (from pytest==5.4.3->lazypredict) (21.2.0)\n",
            "Requirement already satisfied: pluggy<1.0,>=0.12 in /usr/local/lib/python3.7/dist-packages (from pytest==5.4.3->lazypredict) (0.13.1)\n",
            "Requirement already satisfied: wcwidth in /usr/local/lib/python3.7/dist-packages (from pytest==5.4.3->lazypredict) (0.2.5)\n",
            "Requirement already satisfied: packaging in /usr/local/lib/python3.7/dist-packages (from pytest==5.4.3->lazypredict) (21.0)\n",
            "Requirement already satisfied: py>=1.5.0 in /usr/local/lib/python3.7/dist-packages (from pytest==5.4.3->lazypredict) (1.10.0)\n",
            "Requirement already satisfied: threadpoolctl>=2.0.0 in /usr/local/lib/python3.7/dist-packages (from scikit-learn==0.23.1->lazypredict) (2.2.0)\n",
            "Requirement already satisfied: typing-extensions>=3.6.4 in /usr/local/lib/python3.7/dist-packages (from importlib-metadata>=0.12->pytest==5.4.3->lazypredict) (3.7.4.3)\n",
            "Requirement already satisfied: zipp>=0.5 in /usr/local/lib/python3.7/dist-packages (from importlib-metadata>=0.12->pytest==5.4.3->lazypredict) (3.5.0)\n",
            "Requirement already satisfied: pyparsing>=2.0.2 in /usr/local/lib/python3.7/dist-packages (from packaging->pytest==5.4.3->lazypredict) (2.4.7)\n"
          ],
          "name": "stdout"
        }
      ]
    },
    {
      "cell_type": "code",
      "metadata": {
        "colab": {
          "base_uri": "https://localhost:8080/",
          "height": 461
        },
        "id": "GOmEhdcMv2tJ",
        "outputId": "96a0dcac-c71b-4f16-c6dc-f9751d9b1e0b"
      },
      "source": [
        "from lazypredict.Supervised import (\n",
        "    LazyClassifier,\n",
        "    LazyRegressor,\n",
        ")\n",
        "from sklearn.datasets import load_boston\n",
        "from sklearn.model_selection import train_test_split\n",
        "\n",
        "# Load data and split\n",
        "X, y = load_boston(return_X_y=True)\n",
        "X_train, X_test, y_train, y_test = train_test_split(X, y, test_size=0.2)\n",
        "\n",
        "# Fit LazyRegressor\n",
        "reg = LazyRegressor(\n",
        "    ignore_warnings=True, random_state=1121218, verbose=False\n",
        "  )\n",
        "models, predictions = reg.fit(X_train, X_test, y_train, y_test)  # pass all sets\n",
        "\n",
        "models.head(10)"
      ],
      "execution_count": 10,
      "outputs": [
        {
          "output_type": "stream",
          "text": [
            "/usr/local/lib/python3.7/dist-packages/sklearn/utils/deprecation.py:143: FutureWarning: The sklearn.utils.testing module is  deprecated in version 0.22 and will be removed in version 0.24. The corresponding classes / functions should instead be imported from sklearn.utils. Anything that cannot be imported from sklearn.utils is now part of the private API.\n",
            "  warnings.warn(message, FutureWarning)\n",
            "100%|██████████| 42/42 [00:03<00:00, 12.15it/s]\n"
          ],
          "name": "stderr"
        },
        {
          "output_type": "execute_result",
          "data": {
            "text/html": [
              "<div>\n",
              "<style scoped>\n",
              "    .dataframe tbody tr th:only-of-type {\n",
              "        vertical-align: middle;\n",
              "    }\n",
              "\n",
              "    .dataframe tbody tr th {\n",
              "        vertical-align: top;\n",
              "    }\n",
              "\n",
              "    .dataframe thead th {\n",
              "        text-align: right;\n",
              "    }\n",
              "</style>\n",
              "<table border=\"1\" class=\"dataframe\">\n",
              "  <thead>\n",
              "    <tr style=\"text-align: right;\">\n",
              "      <th></th>\n",
              "      <th>Adjusted R-Squared</th>\n",
              "      <th>R-Squared</th>\n",
              "      <th>RMSE</th>\n",
              "      <th>Time Taken</th>\n",
              "    </tr>\n",
              "    <tr>\n",
              "      <th>Model</th>\n",
              "      <th></th>\n",
              "      <th></th>\n",
              "      <th></th>\n",
              "      <th></th>\n",
              "    </tr>\n",
              "  </thead>\n",
              "  <tbody>\n",
              "    <tr>\n",
              "      <th>RandomForestRegressor</th>\n",
              "      <td>0.86</td>\n",
              "      <td>0.88</td>\n",
              "      <td>2.62</td>\n",
              "      <td>0.39</td>\n",
              "    </tr>\n",
              "    <tr>\n",
              "      <th>ExtraTreesRegressor</th>\n",
              "      <td>0.86</td>\n",
              "      <td>0.88</td>\n",
              "      <td>2.63</td>\n",
              "      <td>0.23</td>\n",
              "    </tr>\n",
              "    <tr>\n",
              "      <th>BaggingRegressor</th>\n",
              "      <td>0.85</td>\n",
              "      <td>0.87</td>\n",
              "      <td>2.78</td>\n",
              "      <td>0.05</td>\n",
              "    </tr>\n",
              "    <tr>\n",
              "      <th>GradientBoostingRegressor</th>\n",
              "      <td>0.84</td>\n",
              "      <td>0.86</td>\n",
              "      <td>2.79</td>\n",
              "      <td>0.19</td>\n",
              "    </tr>\n",
              "    <tr>\n",
              "      <th>LGBMRegressor</th>\n",
              "      <td>0.84</td>\n",
              "      <td>0.86</td>\n",
              "      <td>2.85</td>\n",
              "      <td>0.07</td>\n",
              "    </tr>\n",
              "    <tr>\n",
              "      <th>XGBRegressor</th>\n",
              "      <td>0.83</td>\n",
              "      <td>0.85</td>\n",
              "      <td>2.90</td>\n",
              "      <td>0.23</td>\n",
              "    </tr>\n",
              "    <tr>\n",
              "      <th>HistGradientBoostingRegressor</th>\n",
              "      <td>0.82</td>\n",
              "      <td>0.84</td>\n",
              "      <td>3.00</td>\n",
              "      <td>0.27</td>\n",
              "    </tr>\n",
              "    <tr>\n",
              "      <th>AdaBoostRegressor</th>\n",
              "      <td>0.78</td>\n",
              "      <td>0.81</td>\n",
              "      <td>3.30</td>\n",
              "      <td>0.11</td>\n",
              "    </tr>\n",
              "    <tr>\n",
              "      <th>KNeighborsRegressor</th>\n",
              "      <td>0.76</td>\n",
              "      <td>0.79</td>\n",
              "      <td>3.47</td>\n",
              "      <td>0.02</td>\n",
              "    </tr>\n",
              "    <tr>\n",
              "      <th>ExtraTreeRegressor</th>\n",
              "      <td>0.76</td>\n",
              "      <td>0.79</td>\n",
              "      <td>3.48</td>\n",
              "      <td>0.01</td>\n",
              "    </tr>\n",
              "  </tbody>\n",
              "</table>\n",
              "</div>"
            ],
            "text/plain": [
              "                               Adjusted R-Squared  R-Squared  RMSE  Time Taken\n",
              "Model                                                                         \n",
              "RandomForestRegressor                        0.86       0.88  2.62        0.39\n",
              "ExtraTreesRegressor                          0.86       0.88  2.63        0.23\n",
              "BaggingRegressor                             0.85       0.87  2.78        0.05\n",
              "GradientBoostingRegressor                    0.84       0.86  2.79        0.19\n",
              "LGBMRegressor                                0.84       0.86  2.85        0.07\n",
              "XGBRegressor                                 0.83       0.85  2.90        0.23\n",
              "HistGradientBoostingRegressor                0.82       0.84  3.00        0.27\n",
              "AdaBoostRegressor                            0.78       0.81  3.30        0.11\n",
              "KNeighborsRegressor                          0.76       0.79  3.47        0.02\n",
              "ExtraTreeRegressor                           0.76       0.79  3.48        0.01"
            ]
          },
          "metadata": {
            "tags": []
          },
          "execution_count": 10
        }
      ]
    },
    {
      "cell_type": "markdown",
      "metadata": {
        "id": "Aij13D02wCf6"
      },
      "source": [
        "# 4. Optuna"
      ]
    },
    {
      "cell_type": "code",
      "metadata": {
        "colab": {
          "base_uri": "https://localhost:8080/"
        },
        "id": "3DXsOfrlwlFU",
        "outputId": "cd102a98-b5e6-48c0-c427-54d94b8aa393"
      },
      "source": [
        "pip install optuna"
      ],
      "execution_count": 11,
      "outputs": [
        {
          "output_type": "stream",
          "text": [
            "Collecting optuna\n",
            "  Downloading optuna-2.9.1-py3-none-any.whl (302 kB)\n",
            "\u001b[?25l\r\u001b[K     |█                               | 10 kB 24.2 MB/s eta 0:00:01\r\u001b[K     |██▏                             | 20 kB 25.7 MB/s eta 0:00:01\r\u001b[K     |███▎                            | 30 kB 30.3 MB/s eta 0:00:01\r\u001b[K     |████▎                           | 40 kB 24.3 MB/s eta 0:00:01\r\u001b[K     |█████▍                          | 51 kB 9.4 MB/s eta 0:00:01\r\u001b[K     |██████▌                         | 61 kB 7.7 MB/s eta 0:00:01\r\u001b[K     |███████▋                        | 71 kB 7.9 MB/s eta 0:00:01\r\u001b[K     |████████▋                       | 81 kB 8.8 MB/s eta 0:00:01\r\u001b[K     |█████████▊                      | 92 kB 9.7 MB/s eta 0:00:01\r\u001b[K     |██████████▉                     | 102 kB 8.1 MB/s eta 0:00:01\r\u001b[K     |████████████                    | 112 kB 8.1 MB/s eta 0:00:01\r\u001b[K     |█████████████                   | 122 kB 8.1 MB/s eta 0:00:01\r\u001b[K     |██████████████                  | 133 kB 8.1 MB/s eta 0:00:01\r\u001b[K     |███████████████▏                | 143 kB 8.1 MB/s eta 0:00:01\r\u001b[K     |████████████████▎               | 153 kB 8.1 MB/s eta 0:00:01\r\u001b[K     |█████████████████▎              | 163 kB 8.1 MB/s eta 0:00:01\r\u001b[K     |██████████████████▍             | 174 kB 8.1 MB/s eta 0:00:01\r\u001b[K     |███████████████████▌            | 184 kB 8.1 MB/s eta 0:00:01\r\u001b[K     |████████████████████▋           | 194 kB 8.1 MB/s eta 0:00:01\r\u001b[K     |█████████████████████▋          | 204 kB 8.1 MB/s eta 0:00:01\r\u001b[K     |██████████████████████▊         | 215 kB 8.1 MB/s eta 0:00:01\r\u001b[K     |███████████████████████▉        | 225 kB 8.1 MB/s eta 0:00:01\r\u001b[K     |█████████████████████████       | 235 kB 8.1 MB/s eta 0:00:01\r\u001b[K     |██████████████████████████      | 245 kB 8.1 MB/s eta 0:00:01\r\u001b[K     |███████████████████████████     | 256 kB 8.1 MB/s eta 0:00:01\r\u001b[K     |████████████████████████████▏   | 266 kB 8.1 MB/s eta 0:00:01\r\u001b[K     |█████████████████████████████▎  | 276 kB 8.1 MB/s eta 0:00:01\r\u001b[K     |██████████████████████████████▎ | 286 kB 8.1 MB/s eta 0:00:01\r\u001b[K     |███████████████████████████████▍| 296 kB 8.1 MB/s eta 0:00:01\r\u001b[K     |████████████████████████████████| 302 kB 8.1 MB/s \n",
            "\u001b[?25hRequirement already satisfied: PyYAML in /usr/local/lib/python3.7/dist-packages (from optuna) (5.3.1)\n",
            "Requirement already satisfied: numpy in /usr/local/lib/python3.7/dist-packages (from optuna) (1.19.1)\n",
            "Requirement already satisfied: packaging>=20.0 in /usr/local/lib/python3.7/dist-packages (from optuna) (21.0)\n",
            "Collecting cliff\n",
            "  Downloading cliff-3.8.0-py3-none-any.whl (80 kB)\n",
            "\u001b[K     |████████████████████████████████| 80 kB 7.1 MB/s \n",
            "\u001b[?25hRequirement already satisfied: tqdm in /usr/local/lib/python3.7/dist-packages (from optuna) (4.56.0)\n",
            "Collecting colorlog\n",
            "  Downloading colorlog-5.0.1-py2.py3-none-any.whl (10 kB)\n",
            "Requirement already satisfied: scipy!=1.4.0 in /usr/local/lib/python3.7/dist-packages (from optuna) (1.5.4)\n",
            "Collecting alembic\n",
            "  Downloading alembic-1.6.5-py2.py3-none-any.whl (164 kB)\n",
            "\u001b[K     |████████████████████████████████| 164 kB 57.1 MB/s \n",
            "\u001b[?25hRequirement already satisfied: sqlalchemy>=1.1.0 in /usr/local/lib/python3.7/dist-packages (from optuna) (1.4.20)\n",
            "Collecting cmaes>=0.8.2\n",
            "  Downloading cmaes-0.8.2-py3-none-any.whl (15 kB)\n",
            "Requirement already satisfied: pyparsing>=2.0.2 in /usr/local/lib/python3.7/dist-packages (from packaging>=20.0->optuna) (2.4.7)\n",
            "Requirement already satisfied: greenlet!=0.4.17 in /usr/local/lib/python3.7/dist-packages (from sqlalchemy>=1.1.0->optuna) (1.1.0)\n",
            "Requirement already satisfied: importlib-metadata in /usr/local/lib/python3.7/dist-packages (from sqlalchemy>=1.1.0->optuna) (4.6.1)\n",
            "Collecting python-editor>=0.3\n",
            "  Downloading python_editor-1.0.4-py3-none-any.whl (4.9 kB)\n",
            "Collecting Mako\n",
            "  Downloading Mako-1.1.4-py2.py3-none-any.whl (75 kB)\n",
            "\u001b[K     |████████████████████████████████| 75 kB 4.6 MB/s \n",
            "\u001b[?25hRequirement already satisfied: python-dateutil in /usr/local/lib/python3.7/dist-packages (from alembic->optuna) (2.8.1)\n",
            "Collecting pbr!=2.1.0,>=2.0.0\n",
            "  Downloading pbr-5.6.0-py2.py3-none-any.whl (111 kB)\n",
            "\u001b[K     |████████████████████████████████| 111 kB 60.9 MB/s \n",
            "\u001b[?25hCollecting stevedore>=2.0.1\n",
            "  Downloading stevedore-3.3.0-py3-none-any.whl (49 kB)\n",
            "\u001b[K     |████████████████████████████████| 49 kB 6.8 MB/s \n",
            "\u001b[?25hCollecting cmd2>=1.0.0\n",
            "  Downloading cmd2-2.1.2-py3-none-any.whl (141 kB)\n",
            "\u001b[K     |████████████████████████████████| 141 kB 44.0 MB/s \n",
            "\u001b[?25hRequirement already satisfied: PrettyTable>=0.7.2 in /usr/local/lib/python3.7/dist-packages (from cliff->optuna) (2.1.0)\n",
            "Requirement already satisfied: wcwidth>=0.1.7 in /usr/local/lib/python3.7/dist-packages (from cmd2>=1.0.0->cliff->optuna) (0.2.5)\n",
            "Requirement already satisfied: typing-extensions in /usr/local/lib/python3.7/dist-packages (from cmd2>=1.0.0->cliff->optuna) (3.7.4.3)\n",
            "Collecting pyperclip>=1.6\n",
            "  Downloading pyperclip-1.8.2.tar.gz (20 kB)\n",
            "Collecting colorama>=0.3.7\n",
            "  Downloading colorama-0.4.4-py2.py3-none-any.whl (16 kB)\n",
            "Requirement already satisfied: attrs>=16.3.0 in /usr/local/lib/python3.7/dist-packages (from cmd2>=1.0.0->cliff->optuna) (21.2.0)\n",
            "Requirement already satisfied: zipp>=0.5 in /usr/local/lib/python3.7/dist-packages (from importlib-metadata->sqlalchemy>=1.1.0->optuna) (3.5.0)\n",
            "Requirement already satisfied: MarkupSafe>=0.9.2 in /usr/local/lib/python3.7/dist-packages (from Mako->alembic->optuna) (2.0.1)\n",
            "Requirement already satisfied: six>=1.5 in /usr/local/lib/python3.7/dist-packages (from python-dateutil->alembic->optuna) (1.15.0)\n",
            "Building wheels for collected packages: pyperclip\n",
            "  Building wheel for pyperclip (setup.py) ... \u001b[?25l\u001b[?25hdone\n",
            "  Created wheel for pyperclip: filename=pyperclip-1.8.2-py3-none-any.whl size=11137 sha256=0b3b77beb2ac7e0547ddd33984672c6f3f3952cb6c8979d65fcc18e0ac95b555\n",
            "  Stored in directory: /root/.cache/pip/wheels/9f/18/84/8f69f8b08169c7bae2dde6bd7daf0c19fca8c8e500ee620a28\n",
            "Successfully built pyperclip\n",
            "Installing collected packages: pyperclip, pbr, colorama, stevedore, python-editor, Mako, cmd2, colorlog, cmaes, cliff, alembic, optuna\n",
            "Successfully installed Mako-1.1.4 alembic-1.6.5 cliff-3.8.0 cmaes-0.8.2 cmd2-2.1.2 colorama-0.4.4 colorlog-5.0.1 optuna-2.9.1 pbr-5.6.0 pyperclip-1.8.2 python-editor-1.0.4 stevedore-3.3.0\n"
          ],
          "name": "stdout"
        }
      ]
    },
    {
      "cell_type": "code",
      "metadata": {
        "colab": {
          "base_uri": "https://localhost:8080/"
        },
        "id": "bMjEvIqXv-8V",
        "outputId": "8c5f985e-40e5-4526-8956-b5dbeb45487d"
      },
      "source": [
        "import optuna \n",
        "\n",
        "def objective(trial):\n",
        "    x = trial.suggest_float(\"x\", -7, 7)\n",
        "    y = trial.suggest_float(\"y\", -7, 7)\n",
        "    return (x - 1) ** 2 + (y + 3) ** 2\n",
        "\n",
        "study = optuna.create_study()\n",
        "study.optimize(objective, n_trials=200)  # number of iterations\n",
        "\n",
        "study.best_params"
      ],
      "execution_count": 12,
      "outputs": [
        {
          "output_type": "stream",
          "text": [
            "\u001b[32m[I 2021-08-09 11:53:13,919]\u001b[0m A new study created in memory with name: no-name-50bfb082-b1ff-4656-aa1a-2062e0e2efb4\u001b[0m\n",
            "\u001b[32m[I 2021-08-09 11:53:13,924]\u001b[0m Trial 0 finished with value: 64.55106302092564 and parameters: {'x': 2.0219973240178497, 'y': 4.969101862231778}. Best is trial 0 with value: 64.55106302092564.\u001b[0m\n",
            "\u001b[32m[I 2021-08-09 11:53:13,931]\u001b[0m Trial 1 finished with value: 34.582395735396794 and parameters: {'x': 6.200392735389544, 'y': -0.25440149819671376}. Best is trial 1 with value: 34.582395735396794.\u001b[0m\n",
            "\u001b[32m[I 2021-08-09 11:53:13,934]\u001b[0m Trial 2 finished with value: 104.1280293272745 and parameters: {'x': -1.0591895260470388, 'y': 6.99438681576277}. Best is trial 1 with value: 34.582395735396794.\u001b[0m\n",
            "\u001b[32m[I 2021-08-09 11:53:13,938]\u001b[0m Trial 3 finished with value: 46.96094877599998 and parameters: {'x': -1.5080010943731352, 'y': 3.37737244377519}. Best is trial 1 with value: 34.582395735396794.\u001b[0m\n",
            "\u001b[32m[I 2021-08-09 11:53:13,942]\u001b[0m Trial 4 finished with value: 64.49895190450376 and parameters: {'x': -1.3337882578361429, 'y': 4.684554916980547}. Best is trial 1 with value: 34.582395735396794.\u001b[0m\n",
            "\u001b[32m[I 2021-08-09 11:53:13,946]\u001b[0m Trial 5 finished with value: 111.24017349093666 and parameters: {'x': -5.586508578901201, 'y': 5.237601485323111}. Best is trial 1 with value: 34.582395735396794.\u001b[0m\n",
            "\u001b[32m[I 2021-08-09 11:53:13,949]\u001b[0m Trial 6 finished with value: 64.67242208862251 and parameters: {'x': -4.13851961781114, 'y': 3.186116570676031}. Best is trial 1 with value: 34.582395735396794.\u001b[0m\n",
            "\u001b[32m[I 2021-08-09 11:53:13,953]\u001b[0m Trial 7 finished with value: 11.418471761464044 and parameters: {'x': -1.8808758511688062, 'y': -1.2339235317754635}. Best is trial 7 with value: 11.418471761464044.\u001b[0m\n",
            "\u001b[32m[I 2021-08-09 11:53:13,957]\u001b[0m Trial 8 finished with value: 59.40245850116713 and parameters: {'x': 5.943952658817626, 'y': 2.9126804926815772}. Best is trial 7 with value: 11.418471761464044.\u001b[0m\n",
            "\u001b[32m[I 2021-08-09 11:53:13,961]\u001b[0m Trial 9 finished with value: 34.12548143108473 and parameters: {'x': -4.834196727766282, 'y': -2.7039763982282246}. Best is trial 7 with value: 11.418471761464044.\u001b[0m\n",
            "\u001b[32m[I 2021-08-09 11:53:13,972]\u001b[0m Trial 10 finished with value: 9.164989604895794 and parameters: {'x': 2.152310767057825, 'y': -5.799494508124351}. Best is trial 10 with value: 9.164989604895794.\u001b[0m\n",
            "\u001b[32m[I 2021-08-09 11:53:13,982]\u001b[0m Trial 11 finished with value: 16.74422240928573 and parameters: {'x': 2.0029586845985166, 'y': -6.967152163236765}. Best is trial 10 with value: 9.164989604895794.\u001b[0m\n",
            "\u001b[32m[I 2021-08-09 11:53:13,993]\u001b[0m Trial 12 finished with value: 9.239163423342502 and parameters: {'x': 2.1353164108014386, 'y': -5.819613461222556}. Best is trial 10 with value: 9.164989604895794.\u001b[0m\n",
            "\u001b[32m[I 2021-08-09 11:53:14,004]\u001b[0m Trial 13 finished with value: 17.636417365795367 and parameters: {'x': 2.771935547949753, 'y': -6.8074481979020245}. Best is trial 10 with value: 9.164989604895794.\u001b[0m\n",
            "\u001b[32m[I 2021-08-09 11:53:14,015]\u001b[0m Trial 14 finished with value: 10.211009803604226 and parameters: {'x': 3.987708304149476, 'y': -4.133405881809552}. Best is trial 10 with value: 9.164989604895794.\u001b[0m\n",
            "\u001b[32m[I 2021-08-09 11:53:14,026]\u001b[0m Trial 15 finished with value: 4.172512470300604 and parameters: {'x': 0.8590973793167254, 'y': -5.037807380933043}. Best is trial 15 with value: 4.172512470300604.\u001b[0m\n",
            "\u001b[32m[I 2021-08-09 11:53:14,036]\u001b[0m Trial 16 finished with value: 1.9580076754308136 and parameters: {'x': 0.7300882518410501, 'y': -4.373009586141551}. Best is trial 16 with value: 1.9580076754308136.\u001b[0m\n",
            "\u001b[32m[I 2021-08-09 11:53:14,046]\u001b[0m Trial 17 finished with value: 1.596465253196863 and parameters: {'x': -0.02136901334872565, 'y': -3.743821612866898}. Best is trial 17 with value: 1.596465253196863.\u001b[0m\n",
            "\u001b[32m[I 2021-08-09 11:53:14,057]\u001b[0m Trial 18 finished with value: 17.85459682535288 and parameters: {'x': -3.2248026712893454, 'y': -2.924905299659092}. Best is trial 17 with value: 1.596465253196863.\u001b[0m\n",
            "\u001b[32m[I 2021-08-09 11:53:14,069]\u001b[0m Trial 19 finished with value: 80.36470274755338 and parameters: {'x': -6.9531467648915735, 'y': 1.1366845762818423}. Best is trial 17 with value: 1.596465253196863.\u001b[0m\n",
            "\u001b[32m[I 2021-08-09 11:53:14,079]\u001b[0m Trial 20 finished with value: 0.25603904986652287 and parameters: {'x': 0.5736986372118354, 'y': -2.7274083677889642}. Best is trial 20 with value: 0.25603904986652287.\u001b[0m\n",
            "\u001b[32m[I 2021-08-09 11:53:14,089]\u001b[0m Trial 21 finished with value: 0.3151092545151977 and parameters: {'x': 0.47145911934424467, 'y': -2.8109132686018494}. Best is trial 20 with value: 0.25603904986652287.\u001b[0m\n",
            "\u001b[32m[I 2021-08-09 11:53:14,100]\u001b[0m Trial 22 finished with value: 1.105799720233759 and parameters: {'x': 0.037169643749185674, 'y': -2.577202855596577}. Best is trial 20 with value: 0.25603904986652287.\u001b[0m\n",
            "\u001b[32m[I 2021-08-09 11:53:14,111]\u001b[0m Trial 23 finished with value: 10.555509497181346 and parameters: {'x': 4.012133548526644, 'y': -1.7823953913434654}. Best is trial 20 with value: 0.25603904986652287.\u001b[0m\n",
            "\u001b[32m[I 2021-08-09 11:53:14,122]\u001b[0m Trial 24 finished with value: 17.387343005625283 and parameters: {'x': 0.00624908046110717, 'y': 1.049666914147494}. Best is trial 20 with value: 0.25603904986652287.\u001b[0m\n",
            "\u001b[32m[I 2021-08-09 11:53:14,133]\u001b[0m Trial 25 finished with value: 15.78864140019829 and parameters: {'x': -2.5824651290040794, 'y': -1.281109369486216}. Best is trial 20 with value: 0.25603904986652287.\u001b[0m\n",
            "\u001b[32m[I 2021-08-09 11:53:14,145]\u001b[0m Trial 26 finished with value: 1.5492750026675997 and parameters: {'x': -0.20894643239247757, 'y': -2.7038184234745506}. Best is trial 20 with value: 0.25603904986652287.\u001b[0m\n",
            "\u001b[32m[I 2021-08-09 11:53:14,157]\u001b[0m Trial 27 finished with value: 21.91533453275986 and parameters: {'x': 3.6876162460905073, 'y': 0.8330214513501266}. Best is trial 20 with value: 0.25603904986652287.\u001b[0m\n",
            "\u001b[32m[I 2021-08-09 11:53:14,170]\u001b[0m Trial 28 finished with value: 9.256187821269139 and parameters: {'x': 0.8384781230817906, 'y': 0.03810771773252903}. Best is trial 20 with value: 0.25603904986652287.\u001b[0m\n",
            "\u001b[32m[I 2021-08-09 11:53:14,184]\u001b[0m Trial 29 finished with value: 17.127398989991242 and parameters: {'x': 5.016863834520602, 'y': -2.0039056646523443}. Best is trial 20 with value: 0.25603904986652287.\u001b[0m\n",
            "\u001b[32m[I 2021-08-09 11:53:14,197]\u001b[0m Trial 30 finished with value: 0.38489192417965057 and parameters: {'x': 1.3951582564084046, 'y': -3.47826966929957}. Best is trial 20 with value: 0.25603904986652287.\u001b[0m\n",
            "\u001b[32m[I 2021-08-09 11:53:14,212]\u001b[0m Trial 31 finished with value: 0.2499481062978915 and parameters: {'x': 1.1764124718229345, 'y': -3.4677892111658988}. Best is trial 31 with value: 0.2499481062978915.\u001b[0m\n",
            "\u001b[32m[I 2021-08-09 11:53:14,226]\u001b[0m Trial 32 finished with value: 0.755496002923083 and parameters: {'x': 1.7583830519231496, 'y': -3.4246777007082105}. Best is trial 31 with value: 0.2499481062978915.\u001b[0m\n",
            "\u001b[32m[I 2021-08-09 11:53:14,244]\u001b[0m Trial 33 finished with value: 7.772898916294977 and parameters: {'x': 3.0226866288781697, 'y': -4.918759421514965}. Best is trial 31 with value: 0.2499481062978915.\u001b[0m\n",
            "\u001b[32m[I 2021-08-09 11:53:14,257]\u001b[0m Trial 34 finished with value: 7.008460941853431 and parameters: {'x': 1.2907965696877144, 'y': -0.3686698616647719}. Best is trial 31 with value: 0.2499481062978915.\u001b[0m\n",
            "\u001b[32m[I 2021-08-09 11:53:14,270]\u001b[0m Trial 35 finished with value: 8.148160216236496 and parameters: {'x': -0.7471732153894309, 'y': -0.7426683957242228}. Best is trial 31 with value: 0.2499481062978915.\u001b[0m\n",
            "\u001b[32m[I 2021-08-09 11:53:14,289]\u001b[0m Trial 36 finished with value: 5.604476031866524 and parameters: {'x': -0.7164478453726452, 'y': -4.630424124570698}. Best is trial 31 with value: 0.2499481062978915.\u001b[0m\n",
            "\u001b[32m[I 2021-08-09 11:53:14,304]\u001b[0m Trial 37 finished with value: 8.74302761298259 and parameters: {'x': -1.9075692399335278, 'y': -3.537651121058033}. Best is trial 31 with value: 0.2499481062978915.\u001b[0m\n",
            "\u001b[32m[I 2021-08-09 11:53:14,319]\u001b[0m Trial 38 finished with value: 11.852187431202417 and parameters: {'x': 2.8271443906879936, 'y': -5.917829811140433}. Best is trial 31 with value: 0.2499481062978915.\u001b[0m\n",
            "\u001b[32m[I 2021-08-09 11:53:14,332]\u001b[0m Trial 39 finished with value: 0.9655739924307277 and parameters: {'x': 1.229003103887293, 'y': -2.0444208191673945}. Best is trial 31 with value: 0.2499481062978915.\u001b[0m\n",
            "\u001b[32m[I 2021-08-09 11:53:14,351]\u001b[0m Trial 40 finished with value: 31.47512902435213 and parameters: {'x': -1.5672148799100984, 'y': 1.9884403158422481}. Best is trial 31 with value: 0.2499481062978915.\u001b[0m\n",
            "\u001b[32m[I 2021-08-09 11:53:14,365]\u001b[0m Trial 41 finished with value: 0.38631095125301335 and parameters: {'x': 1.4422133447691228, 'y': -3.4367588682111885}. Best is trial 31 with value: 0.2499481062978915.\u001b[0m\n",
            "\u001b[32m[I 2021-08-09 11:53:14,379]\u001b[0m Trial 42 finished with value: 0.4134780202744222 and parameters: {'x': 0.3719642446738792, 'y': -3.1380185143608315}. Best is trial 31 with value: 0.2499481062978915.\u001b[0m\n",
            "\u001b[32m[I 2021-08-09 11:53:14,394]\u001b[0m Trial 43 finished with value: 1.1545600598059396 and parameters: {'x': 1.540767224077825, 'y': -3.9285100264235724}. Best is trial 31 with value: 0.2499481062978915.\u001b[0m\n",
            "\u001b[32m[I 2021-08-09 11:53:14,409]\u001b[0m Trial 44 finished with value: 5.798117717677448 and parameters: {'x': -0.6540276541541035, 'y': -1.250054218848218}. Best is trial 31 with value: 0.2499481062978915.\u001b[0m\n",
            "\u001b[32m[I 2021-08-09 11:53:14,425]\u001b[0m Trial 45 finished with value: 8.11131516378666 and parameters: {'x': 2.513678263320921, 'y': -5.412486948967065}. Best is trial 31 with value: 0.2499481062978915.\u001b[0m\n",
            "\u001b[32m[I 2021-08-09 11:53:14,439]\u001b[0m Trial 46 finished with value: 5.905453611115282 and parameters: {'x': 3.2695203984518315, 'y': -2.131247577196862}. Best is trial 31 with value: 0.2499481062978915.\u001b[0m\n",
            "\u001b[32m[I 2021-08-09 11:53:14,458]\u001b[0m Trial 47 finished with value: 88.24464776174692 and parameters: {'x': 0.6693530267633752, 'y': 6.388041347418341}. Best is trial 31 with value: 0.2499481062978915.\u001b[0m\n",
            "\u001b[32m[I 2021-08-09 11:53:14,477]\u001b[0m Trial 48 finished with value: 12.877995655436287 and parameters: {'x': 2.2348735866565366, 'y': -6.369433614187154}. Best is trial 31 with value: 0.2499481062978915.\u001b[0m\n",
            "\u001b[32m[I 2021-08-09 11:53:14,496]\u001b[0m Trial 49 finished with value: 16.51828818846781 and parameters: {'x': 4.872211464776425, 'y': -4.234611906844341}. Best is trial 31 with value: 0.2499481062978915.\u001b[0m\n",
            "\u001b[32m[I 2021-08-09 11:53:14,508]\u001b[0m Trial 50 finished with value: 37.533763696377044 and parameters: {'x': 6.718405466043632, 'y': -5.198545569757279}. Best is trial 31 with value: 0.2499481062978915.\u001b[0m\n",
            "\u001b[32m[I 2021-08-09 11:53:14,520]\u001b[0m Trial 51 finished with value: 0.39804369169299275 and parameters: {'x': 0.5900068698900618, 'y': -3.4795303170349587}. Best is trial 31 with value: 0.2499481062978915.\u001b[0m\n",
            "\u001b[32m[I 2021-08-09 11:53:14,531]\u001b[0m Trial 52 finished with value: 0.6707779610274298 and parameters: {'x': 1.7393236026460444, 'y': -3.3523898006439796}. Best is trial 31 with value: 0.2499481062978915.\u001b[0m\n",
            "\u001b[32m[I 2021-08-09 11:53:14,544]\u001b[0m Trial 53 finished with value: 0.31214199317321417 and parameters: {'x': 1.164042442461343, 'y': -2.465928777928888}. Best is trial 31 with value: 0.2499481062978915.\u001b[0m\n",
            "\u001b[32m[I 2021-08-09 11:53:14,556]\u001b[0m Trial 54 finished with value: 0.25189758714252986 and parameters: {'x': 1.20500155999317, 'y': -2.541882168494942}. Best is trial 31 with value: 0.2499481062978915.\u001b[0m\n",
            "\u001b[32m[I 2021-08-09 11:53:14,568]\u001b[0m Trial 55 finished with value: 5.056550986322985 and parameters: {'x': -1.2067577738639992, 'y': -2.5678297629246183}. Best is trial 31 with value: 0.2499481062978915.\u001b[0m\n",
            "\u001b[32m[I 2021-08-09 11:53:14,580]\u001b[0m Trial 56 finished with value: 2.3258227213358933 and parameters: {'x': 1.1241555141049149, 'y': -1.4799973257743138}. Best is trial 31 with value: 0.2499481062978915.\u001b[0m\n",
            "\u001b[32m[I 2021-08-09 11:53:14,591]\u001b[0m Trial 57 finished with value: 5.566285764171639 and parameters: {'x': 0.2387032995967392, 'y': -0.7669050405039317}. Best is trial 31 with value: 0.2499481062978915.\u001b[0m\n",
            "\u001b[32m[I 2021-08-09 11:53:14,601]\u001b[0m Trial 58 finished with value: 1.5023853270111673 and parameters: {'x': 2.0491684754565584, 'y': -2.366256489485432}. Best is trial 31 with value: 0.2499481062978915.\u001b[0m\n",
            "\u001b[32m[I 2021-08-09 11:53:14,613]\u001b[0m Trial 59 finished with value: 13.400345385779842 and parameters: {'x': -0.4938462096637545, 'y': 0.3419708089169595}. Best is trial 31 with value: 0.2499481062978915.\u001b[0m\n",
            "\u001b[32m[I 2021-08-09 11:53:14,625]\u001b[0m Trial 60 finished with value: 1.839037223680556 and parameters: {'x': 2.3531268548815425, 'y': -2.9100837151627066}. Best is trial 31 with value: 0.2499481062978915.\u001b[0m\n",
            "\u001b[32m[I 2021-08-09 11:53:14,636]\u001b[0m Trial 61 finished with value: 0.7886834757715088 and parameters: {'x': 1.2003425233556142, 'y': -3.865185730989025}. Best is trial 31 with value: 0.2499481062978915.\u001b[0m\n",
            "\u001b[32m[I 2021-08-09 11:53:14,648]\u001b[0m Trial 62 finished with value: 2.425239664375564 and parameters: {'x': 1.5582986991686543, 'y': -4.453802678110806}. Best is trial 31 with value: 0.2499481062978915.\u001b[0m\n",
            "\u001b[32m[I 2021-08-09 11:53:14,658]\u001b[0m Trial 63 finished with value: 3.0502247138874945 and parameters: {'x': -0.20786551950788978, 'y': -1.7385383078858756}. Best is trial 31 with value: 0.2499481062978915.\u001b[0m\n",
            "\u001b[32m[I 2021-08-09 11:53:14,670]\u001b[0m Trial 64 finished with value: 5.946183700071183 and parameters: {'x': 3.4379058328283376, 'y': -2.9470958382284365}. Best is trial 31 with value: 0.2499481062978915.\u001b[0m\n",
            "\u001b[32m[I 2021-08-09 11:53:14,682]\u001b[0m Trial 65 finished with value: 4.726581678762162 and parameters: {'x': 0.6115947011032534, 'y': -0.8609060323232427}. Best is trial 31 with value: 0.2499481062978915.\u001b[0m\n",
            "\u001b[32m[I 2021-08-09 11:53:14,693]\u001b[0m Trial 66 finished with value: 3.103483510340112 and parameters: {'x': 1.0126427476162578, 'y': -4.7616252925275635}. Best is trial 31 with value: 0.2499481062978915.\u001b[0m\n",
            "\u001b[32m[I 2021-08-09 11:53:14,706]\u001b[0m Trial 67 finished with value: 1.1117731938583821 and parameters: {'x': 0.22324843236909375, 'y': -2.28695708681643}. Best is trial 31 with value: 0.2499481062978915.\u001b[0m\n",
            "\u001b[32m[I 2021-08-09 11:53:14,718]\u001b[0m Trial 68 finished with value: 51.73225437740049 and parameters: {'x': 1.7739762379805173, 'y': 4.150749272659615}. Best is trial 31 with value: 0.2499481062978915.\u001b[0m\n",
            "\u001b[32m[I 2021-08-09 11:53:14,730]\u001b[0m Trial 69 finished with value: 4.422343757585333 and parameters: {'x': 2.582857321924594, 'y': -1.6154760904863232}. Best is trial 31 with value: 0.2499481062978915.\u001b[0m\n",
            "\u001b[32m[I 2021-08-09 11:53:14,742]\u001b[0m Trial 70 finished with value: 11.300862879785718 and parameters: {'x': -2.219469987639173, 'y': -3.967406780251381}. Best is trial 31 with value: 0.2499481062978915.\u001b[0m\n",
            "\u001b[32m[I 2021-08-09 11:53:14,754]\u001b[0m Trial 71 finished with value: 0.4225361236389546 and parameters: {'x': 0.547719495392573, 'y': -3.4668816432362766}. Best is trial 31 with value: 0.2499481062978915.\u001b[0m\n",
            "\u001b[32m[I 2021-08-09 11:53:14,766]\u001b[0m Trial 72 finished with value: 1.6291914776190215 and parameters: {'x': -0.2620444523961223, 'y': -3.1908802708380133}. Best is trial 31 with value: 0.2499481062978915.\u001b[0m\n",
            "\u001b[32m[I 2021-08-09 11:53:14,777]\u001b[0m Trial 73 finished with value: 3.984033519554813 and parameters: {'x': -0.9794897091520256, 'y': -2.743769613597368}. Best is trial 31 with value: 0.2499481062978915.\u001b[0m\n",
            "\u001b[32m[I 2021-08-09 11:53:14,789]\u001b[0m Trial 74 finished with value: 0.4878591912722098 and parameters: {'x': 0.8438013344110045, 'y': -3.6807798235409352}. Best is trial 31 with value: 0.2499481062978915.\u001b[0m\n",
            "\u001b[32m[I 2021-08-09 11:53:14,801]\u001b[0m Trial 75 finished with value: 1.6512604106559636 and parameters: {'x': 1.4621164323168763, 'y': -4.199044958973051}. Best is trial 31 with value: 0.2499481062978915.\u001b[0m\n",
            "\u001b[32m[I 2021-08-09 11:53:14,812]\u001b[0m Trial 76 finished with value: 0.9079008260272556 and parameters: {'x': 1.943223653354973, 'y': -3.1350183905212674}. Best is trial 31 with value: 0.2499481062978915.\u001b[0m\n",
            "\u001b[32m[I 2021-08-09 11:53:14,826]\u001b[0m Trial 77 finished with value: 6.857081028915576 and parameters: {'x': 0.4339074657332723, 'y': -5.556681495916738}. Best is trial 31 with value: 0.2499481062978915.\u001b[0m\n",
            "\u001b[32m[I 2021-08-09 11:53:14,840]\u001b[0m Trial 78 finished with value: 1.4008625303640532 and parameters: {'x': 0.003378928260725056, 'y': -2.361557387285817}. Best is trial 31 with value: 0.2499481062978915.\u001b[0m\n",
            "\u001b[32m[I 2021-08-09 11:53:14,854]\u001b[0m Trial 79 finished with value: 2.7624908520170233 and parameters: {'x': 1.018690651493891, 'y': -4.661969166851105}. Best is trial 31 with value: 0.2499481062978915.\u001b[0m\n",
            "\u001b[32m[I 2021-08-09 11:53:14,870]\u001b[0m Trial 80 finished with value: 0.6690013681556161 and parameters: {'x': 1.3940327821634637, 'y': -3.716756258944515}. Best is trial 31 with value: 0.2499481062978915.\u001b[0m\n",
            "\u001b[32m[I 2021-08-09 11:53:14,883]\u001b[0m Trial 81 finished with value: 2.2320026537928292 and parameters: {'x': -0.4607262055258168, 'y': -3.3134989733364026}. Best is trial 31 with value: 0.2499481062978915.\u001b[0m\n",
            "\u001b[32m[I 2021-08-09 11:53:14,904]\u001b[0m Trial 82 finished with value: 0.3791466595546624 and parameters: {'x': 0.48171398034449653, 'y': -2.6675450987211686}. Best is trial 31 with value: 0.2499481062978915.\u001b[0m\n",
            "\u001b[32m[I 2021-08-09 11:53:14,919]\u001b[0m Trial 83 finished with value: 0.23881538511583358 and parameters: {'x': 0.7954746799656651, 'y': -2.5561703270615106}. Best is trial 83 with value: 0.23881538511583358.\u001b[0m\n",
            "\u001b[32m[I 2021-08-09 11:53:14,930]\u001b[0m Trial 84 finished with value: 2.4908707192981945 and parameters: {'x': 2.1337383166909785, 'y': -1.9020436490620853}. Best is trial 83 with value: 0.23881538511583358.\u001b[0m\n",
            "\u001b[32m[I 2021-08-09 11:53:14,943]\u001b[0m Trial 85 finished with value: 0.7920714027718734 and parameters: {'x': 0.197766431913799, 'y': -2.6146524879961515}. Best is trial 83 with value: 0.23881538511583358.\u001b[0m\n",
            "\u001b[32m[I 2021-08-09 11:53:14,957]\u001b[0m Trial 86 finished with value: 6.705370656536584 and parameters: {'x': 2.738329450962349, 'y': -1.0807341569095954}. Best is trial 83 with value: 0.23881538511583358.\u001b[0m\n",
            "\u001b[32m[I 2021-08-09 11:53:14,971]\u001b[0m Trial 87 finished with value: 0.8756699526203888 and parameters: {'x': 0.7773117288629131, 'y': -2.0911106302093945}. Best is trial 83 with value: 0.23881538511583358.\u001b[0m\n",
            "\u001b[32m[I 2021-08-09 11:53:14,987]\u001b[0m Trial 88 finished with value: 50.715982368236 and parameters: {'x': -6.101868867875473, 'y': -2.4713782526823733}. Best is trial 83 with value: 0.23881538511583358.\u001b[0m\n",
            "\u001b[32m[I 2021-08-09 11:53:15,001]\u001b[0m Trial 89 finished with value: 6.129588185592219 and parameters: {'x': -1.4737899108224632, 'y': -2.9002419792437335}. Best is trial 83 with value: 0.23881538511583358.\u001b[0m\n",
            "\u001b[32m[I 2021-08-09 11:53:15,013]\u001b[0m Trial 90 finished with value: 7.0560510062879525 and parameters: {'x': 1.6212786212770065, 'y': -0.41735331858341596}. Best is trial 83 with value: 0.23881538511583358.\u001b[0m\n",
            "\u001b[32m[I 2021-08-09 11:53:15,026]\u001b[0m Trial 91 finished with value: 0.6013567118483489 and parameters: {'x': 0.44724940432063454, 'y': -3.543896581000888}. Best is trial 83 with value: 0.23881538511583358.\u001b[0m\n",
            "\u001b[32m[I 2021-08-09 11:53:15,039]\u001b[0m Trial 92 finished with value: 1.4033935965928919 and parameters: {'x': 1.1419230840221946, 'y': -4.17611710080864}. Best is trial 83 with value: 0.23881538511583358.\u001b[0m\n",
            "\u001b[32m[I 2021-08-09 11:53:15,059]\u001b[0m Trial 93 finished with value: 0.05204166908181769 and parameters: {'x': 0.7844872877694948, 'y': -3.0748060154591137}. Best is trial 93 with value: 0.05204166908181769.\u001b[0m\n",
            "\u001b[32m[I 2021-08-09 11:53:15,072]\u001b[0m Trial 94 finished with value: 5.953434662195857 and parameters: {'x': -1.0004914565444434, 'y': -1.6030502534133348}. Best is trial 93 with value: 0.05204166908181769.\u001b[0m\n",
            "\u001b[32m[I 2021-08-09 11:53:15,090]\u001b[0m Trial 95 finished with value: 1.5096132787972278 and parameters: {'x': -0.2231371037650226, 'y': -3.1163997602683957}. Best is trial 93 with value: 0.05204166908181769.\u001b[0m\n",
            "\u001b[32m[I 2021-08-09 11:53:15,104]\u001b[0m Trial 96 finished with value: 0.8116247073053449 and parameters: {'x': 1.8665355483015946, 'y': -2.7535434098365403}. Best is trial 93 with value: 0.05204166908181769.\u001b[0m\n",
            "\u001b[32m[I 2021-08-09 11:53:15,119]\u001b[0m Trial 97 finished with value: 0.9107519087661385 and parameters: {'x': 0.8947890658252962, 'y': -2.051484018006958}. Best is trial 93 with value: 0.05204166908181769.\u001b[0m\n",
            "\u001b[32m[I 2021-08-09 11:53:15,136]\u001b[0m Trial 98 finished with value: 6.29118677088967 and parameters: {'x': 3.0471625827103543, 'y': -4.449245365988914}. Best is trial 93 with value: 0.05204166908181769.\u001b[0m\n",
            "\u001b[32m[I 2021-08-09 11:53:15,150]\u001b[0m Trial 99 finished with value: 0.9000396824855326 and parameters: {'x': 1.4404679993780505, 'y': -3.8402544995472683}. Best is trial 93 with value: 0.05204166908181769.\u001b[0m\n",
            "\u001b[32m[I 2021-08-09 11:53:15,164]\u001b[0m Trial 100 finished with value: 26.240026995502 and parameters: {'x': -3.874496345819915, 'y': -1.4254167630479837}. Best is trial 93 with value: 0.05204166908181769.\u001b[0m\n",
            "\u001b[32m[I 2021-08-09 11:53:15,183]\u001b[0m Trial 101 finished with value: 0.24237652353070888 and parameters: {'x': 0.6477129418371199, 'y': -3.3439045684221895}. Best is trial 93 with value: 0.05204166908181769.\u001b[0m\n",
            "\u001b[32m[I 2021-08-09 11:53:15,200]\u001b[0m Trial 102 finished with value: 1.091184779553871 and parameters: {'x': 0.19128007193156293, 'y': -2.338821614464861}. Best is trial 93 with value: 0.05204166908181769.\u001b[0m\n",
            "\u001b[32m[I 2021-08-09 11:53:15,217]\u001b[0m Trial 103 finished with value: 0.08389690411701493 and parameters: {'x': 1.2885665505809702, 'y': -3.0250249875687336}. Best is trial 93 with value: 0.05204166908181769.\u001b[0m\n",
            "\u001b[32m[I 2021-08-09 11:53:15,232]\u001b[0m Trial 104 finished with value: 0.043825404209275186 and parameters: {'x': 1.2091986964532466, 'y': -2.9921699545635057}. Best is trial 104 with value: 0.043825404209275186.\u001b[0m\n",
            "\u001b[32m[I 2021-08-09 11:53:15,249]\u001b[0m Trial 105 finished with value: 0.06969649942480435 and parameters: {'x': 0.7418103239198937, 'y': -2.944912881810226}. Best is trial 104 with value: 0.043825404209275186.\u001b[0m\n",
            "\u001b[32m[I 2021-08-09 11:53:15,268]\u001b[0m Trial 106 finished with value: 0.004187225237785906 and parameters: {'x': 0.9432404887367125, 'y': -2.96892616665201}. Best is trial 106 with value: 0.004187225237785906.\u001b[0m\n",
            "\u001b[32m[I 2021-08-09 11:53:15,280]\u001b[0m Trial 107 finished with value: 1.5381831710535505 and parameters: {'x': 1.1594751133918988, 'y': -1.770060627810382}. Best is trial 106 with value: 0.004187225237785906.\u001b[0m\n",
            "\u001b[32m[I 2021-08-09 11:53:15,292]\u001b[0m Trial 108 finished with value: 1.740272282911192 and parameters: {'x': 2.318150316822001, 'y': -2.9475402518758353}. Best is trial 106 with value: 0.004187225237785906.\u001b[0m\n",
            "\u001b[32m[I 2021-08-09 11:53:15,307]\u001b[0m Trial 109 finished with value: 0.030117806788900317 and parameters: {'x': 0.8729792941456724, 'y': -3.1182520489174235}. Best is trial 106 with value: 0.004187225237785906.\u001b[0m\n",
            "\u001b[32m[I 2021-08-09 11:53:15,320]\u001b[0m Trial 110 finished with value: 4.255009472445085 and parameters: {'x': 0.7617762849253297, 'y': -5.048965332557168}. Best is trial 106 with value: 0.004187225237785906.\u001b[0m\n",
            "\u001b[32m[I 2021-08-09 11:53:15,334]\u001b[0m Trial 111 finished with value: 0.02717345962073819 and parameters: {'x': 0.9687485297082644, 'y': -3.161854271569653}. Best is trial 106 with value: 0.004187225237785906.\u001b[0m\n",
            "\u001b[32m[I 2021-08-09 11:53:15,348]\u001b[0m Trial 112 finished with value: 0.9996095184791716 and parameters: {'x': 0.9441004755897753, 'y': -3.998240833491539}. Best is trial 106 with value: 0.004187225237785906.\u001b[0m\n",
            "\u001b[32m[I 2021-08-09 11:53:15,362]\u001b[0m Trial 113 finished with value: 0.8221993235378525 and parameters: {'x': 0.10955553811644958, 'y': -3.1711957471398367}. Best is trial 106 with value: 0.004187225237785906.\u001b[0m\n",
            "\u001b[32m[I 2021-08-09 11:53:15,379]\u001b[0m Trial 114 finished with value: 0.9695546180839172 and parameters: {'x': 1.7642062077062892, 'y': -3.620921484720161}. Best is trial 106 with value: 0.004187225237785906.\u001b[0m\n",
            "\u001b[32m[I 2021-08-09 11:53:15,399]\u001b[0m Trial 115 finished with value: 1.5227509896367064 and parameters: {'x': -0.23358148261539013, 'y': -2.9679419996705585}. Best is trial 106 with value: 0.004187225237785906.\u001b[0m\n",
            "\u001b[32m[I 2021-08-09 11:53:15,411]\u001b[0m Trial 116 finished with value: 0.1585912271873796 and parameters: {'x': 0.728095366124838, 'y': -3.2909623640002152}. Best is trial 106 with value: 0.004187225237785906.\u001b[0m\n",
            "\u001b[32m[I 2021-08-09 11:53:15,424]\u001b[0m Trial 117 finished with value: 0.27641715953303003 and parameters: {'x': 1.4031001409893895, 'y': -3.337531385010882}. Best is trial 106 with value: 0.004187225237785906.\u001b[0m\n",
            "\u001b[32m[I 2021-08-09 11:53:15,437]\u001b[0m Trial 118 finished with value: 1.936312955668178 and parameters: {'x': 0.6114592989695622, 'y': -4.336169554851088}. Best is trial 106 with value: 0.004187225237785906.\u001b[0m\n",
            "\u001b[32m[I 2021-08-09 11:53:15,450]\u001b[0m Trial 119 finished with value: 1.462411194486163 and parameters: {'x': 1.9079419838378908, 'y': -2.201218084537038}. Best is trial 106 with value: 0.004187225237785906.\u001b[0m\n",
            "\u001b[32m[I 2021-08-09 11:53:15,467]\u001b[0m Trial 120 finished with value: 0.042884746477301144 and parameters: {'x': 1.060459102526374, 'y': -3.1980642405862465}. Best is trial 106 with value: 0.004187225237785906.\u001b[0m\n",
            "\u001b[32m[I 2021-08-09 11:53:15,480]\u001b[0m Trial 121 finished with value: 0.7182838754657391 and parameters: {'x': 1.3186406794089118, 'y': -3.7853355925281664}. Best is trial 106 with value: 0.004187225237785906.\u001b[0m\n",
            "\u001b[32m[I 2021-08-09 11:53:15,495]\u001b[0m Trial 122 finished with value: 0.0499900132231024 and parameters: {'x': 0.9073286059744252, 'y': -3.203474877939413}. Best is trial 106 with value: 0.004187225237785906.\u001b[0m\n",
            "\u001b[32m[I 2021-08-09 11:53:15,513]\u001b[0m Trial 123 finished with value: 0.10716525774119084 and parameters: {'x': 0.8909581460727394, 'y': -3.3086667002339203}. Best is trial 106 with value: 0.004187225237785906.\u001b[0m\n",
            "\u001b[32m[I 2021-08-09 11:53:15,527]\u001b[0m Trial 124 finished with value: 0.05490491880221644 and parameters: {'x': 0.8943261330861838, 'y': -3.209136205984754}. Best is trial 106 with value: 0.004187225237785906.\u001b[0m\n",
            "\u001b[32m[I 2021-08-09 11:53:15,542]\u001b[0m Trial 125 finished with value: 0.005280301542796825 and parameters: {'x': 0.9292670961783907, 'y': -3.016648058738477}. Best is trial 106 with value: 0.004187225237785906.\u001b[0m\n",
            "\u001b[32m[I 2021-08-09 11:53:15,556]\u001b[0m Trial 126 finished with value: 0.37285655395447836 and parameters: {'x': 0.39391913620816577, 'y': -3.0743137975064014}. Best is trial 106 with value: 0.004187225237785906.\u001b[0m\n",
            "\u001b[32m[I 2021-08-09 11:53:15,571]\u001b[0m Trial 127 finished with value: 1.777152997503228 and parameters: {'x': -0.03830799195086221, 'y': -3.836103768293264}. Best is trial 106 with value: 0.004187225237785906.\u001b[0m\n",
            "\u001b[32m[I 2021-08-09 11:53:15,584]\u001b[0m Trial 128 finished with value: 1.4189037018319246 and parameters: {'x': 1.6273562308512153, 'y': -4.012584742845793}. Best is trial 106 with value: 0.004187225237785906.\u001b[0m\n",
            "\u001b[32m[I 2021-08-09 11:53:15,596]\u001b[0m Trial 129 finished with value: 0.030970426775585768 and parameters: {'x': 0.9826261762550929, 'y': -2.8248755384760122}. Best is trial 106 with value: 0.004187225237785906.\u001b[0m\n",
            "\u001b[32m[I 2021-08-09 11:53:15,610]\u001b[0m Trial 130 finished with value: 0.040010533182414015 and parameters: {'x': 1.003417764178211, 'y': -2.8000028698444996}. Best is trial 106 with value: 0.004187225237785906.\u001b[0m\n",
            "\u001b[32m[I 2021-08-09 11:53:15,623]\u001b[0m Trial 131 finished with value: 0.036498771360398405 and parameters: {'x': 0.9402299146329414, 'y': -2.8185439219656367}. Best is trial 106 with value: 0.004187225237785906.\u001b[0m\n",
            "\u001b[32m[I 2021-08-09 11:53:15,636]\u001b[0m Trial 132 finished with value: 0.11632132981367185 and parameters: {'x': 1.0357001879878571, 'y': -2.66081446612318}. Best is trial 106 with value: 0.004187225237785906.\u001b[0m\n",
            "\u001b[32m[I 2021-08-09 11:53:15,648]\u001b[0m Trial 133 finished with value: 0.45934706743760345 and parameters: {'x': 0.32629095514760365, 'y': -2.926086602556267}. Best is trial 106 with value: 0.004187225237785906.\u001b[0m\n",
            "\u001b[32m[I 2021-08-09 11:53:15,663]\u001b[0m Trial 134 finished with value: 1.979290397564954 and parameters: {'x': 2.182002472003122, 'y': -2.2370055349195104}. Best is trial 106 with value: 0.004187225237785906.\u001b[0m\n",
            "\u001b[32m[I 2021-08-09 11:53:15,675]\u001b[0m Trial 135 finished with value: 0.7439159077060105 and parameters: {'x': 1.6069251247374685, 'y': -3.6128277087962153}. Best is trial 106 with value: 0.004187225237785906.\u001b[0m\n",
            "\u001b[32m[I 2021-08-09 11:53:15,688]\u001b[0m Trial 136 finished with value: 0.05913041310338381 and parameters: {'x': 1.1763698950711197, 'y': -2.8325960776565076}. Best is trial 106 with value: 0.004187225237785906.\u001b[0m\n",
            "\u001b[32m[I 2021-08-09 11:53:15,700]\u001b[0m Trial 137 finished with value: 26.735546736138936 and parameters: {'x': -0.5667815626122857, 'y': 1.9275493169726001}. Best is trial 106 with value: 0.004187225237785906.\u001b[0m\n",
            "\u001b[32m[I 2021-08-09 11:53:15,713]\u001b[0m Trial 138 finished with value: 1.232397139190772 and parameters: {'x': 1.0437980524786092, 'y': -1.8907304791936934}. Best is trial 106 with value: 0.004187225237785906.\u001b[0m\n",
            "\u001b[32m[I 2021-08-09 11:53:15,727]\u001b[0m Trial 139 finished with value: 1.0173032336265735 and parameters: {'x': 0.021374919009666815, 'y': -2.7558767022932114}. Best is trial 106 with value: 0.004187225237785906.\u001b[0m\n",
            "\u001b[32m[I 2021-08-09 11:53:15,740]\u001b[0m Trial 140 finished with value: 0.878129417997267 and parameters: {'x': 0.3107819561391666, 'y': -2.36509220668359}. Best is trial 106 with value: 0.004187225237785906.\u001b[0m\n",
            "\u001b[32m[I 2021-08-09 11:53:15,753]\u001b[0m Trial 141 finished with value: 0.1187931109328539 and parameters: {'x': 1.3312060710885256, 'y': -2.9046288858880405}. Best is trial 106 with value: 0.004187225237785906.\u001b[0m\n",
            "\u001b[32m[I 2021-08-09 11:53:15,767]\u001b[0m Trial 142 finished with value: 0.9878692818243245 and parameters: {'x': 1.9888032325400038, 'y': -3.100684900271906}. Best is trial 106 with value: 0.004187225237785906.\u001b[0m\n",
            "\u001b[32m[I 2021-08-09 11:53:15,780]\u001b[0m Trial 143 finished with value: 0.22523926414561682 and parameters: {'x': 1.202610367588243, 'y': -2.5708283524143587}. Best is trial 106 with value: 0.004187225237785906.\u001b[0m\n",
            "\u001b[32m[I 2021-08-09 11:53:15,794]\u001b[0m Trial 144 finished with value: 0.3050929947516459 and parameters: {'x': 0.9162612021666057, 'y': -3.5459677723905174}. Best is trial 106 with value: 0.004187225237785906.\u001b[0m\n",
            "\u001b[32m[I 2021-08-09 11:53:15,808]\u001b[0m Trial 145 finished with value: 0.37149014015254084 and parameters: {'x': 1.6036552721858115, 'y': -3.084204824771593}. Best is trial 106 with value: 0.004187225237785906.\u001b[0m\n",
            "\u001b[32m[I 2021-08-09 11:53:15,820]\u001b[0m Trial 146 finished with value: 0.2196719731058849 and parameters: {'x': 0.598625303009408, 'y': -2.7579869306801896}. Best is trial 106 with value: 0.004187225237785906.\u001b[0m\n",
            "\u001b[32m[I 2021-08-09 11:53:15,834]\u001b[0m Trial 147 finished with value: 0.46866400203207215 and parameters: {'x': 1.3556318422940956, 'y': -2.4150299197577882}. Best is trial 106 with value: 0.004187225237785906.\u001b[0m\n",
            "\u001b[32m[I 2021-08-09 11:53:15,847]\u001b[0m Trial 148 finished with value: 0.8271242010454254 and parameters: {'x': 1.012903921390911, 'y': -2.090627859532654}. Best is trial 106 with value: 0.004187225237785906.\u001b[0m\n",
            "\u001b[32m[I 2021-08-09 11:53:15,860]\u001b[0m Trial 149 finished with value: 0.6092849650237298 and parameters: {'x': 0.4714322368567017, 'y': -3.5743701635612872}. Best is trial 106 with value: 0.004187225237785906.\u001b[0m\n",
            "\u001b[32m[I 2021-08-09 11:53:15,872]\u001b[0m Trial 150 finished with value: 0.5213026448449383 and parameters: {'x': 1.6746088785424176, 'y': -3.257304305903885}. Best is trial 106 with value: 0.004187225237785906.\u001b[0m\n",
            "\u001b[32m[I 2021-08-09 11:53:15,885]\u001b[0m Trial 151 finished with value: 0.10184872151098291 and parameters: {'x': 0.9771329646161842, 'y': -3.318317169194089}. Best is trial 106 with value: 0.004187225237785906.\u001b[0m\n",
            "\u001b[32m[I 2021-08-09 11:53:15,898]\u001b[0m Trial 152 finished with value: 1.2522525177739248 and parameters: {'x': 0.7464298179864239, 'y': -4.089933337671404}. Best is trial 106 with value: 0.004187225237785906.\u001b[0m\n",
            "\u001b[32m[I 2021-08-09 11:53:15,911]\u001b[0m Trial 153 finished with value: 0.13519603238154748 and parameters: {'x': 1.3345407764532125, 'y': -2.8474270624533}. Best is trial 106 with value: 0.004187225237785906.\u001b[0m\n",
            "\u001b[32m[I 2021-08-09 11:53:15,925]\u001b[0m Trial 154 finished with value: 0.01858588212899073 and parameters: {'x': 1.0300743400629553, 'y': -3.1329714864125706}. Best is trial 106 with value: 0.004187225237785906.\u001b[0m\n",
            "\u001b[32m[I 2021-08-09 11:53:15,939]\u001b[0m Trial 155 finished with value: 0.8259346981261981 and parameters: {'x': 0.22025020625393266, 'y': -2.5331756676444943}. Best is trial 106 with value: 0.004187225237785906.\u001b[0m\n",
            "\u001b[32m[I 2021-08-09 11:53:15,953]\u001b[0m Trial 156 finished with value: 1.287762266497105 and parameters: {'x': 1.8857328587854005, 'y': -3.7093938041489696}. Best is trial 106 with value: 0.004187225237785906.\u001b[0m\n",
            "\u001b[32m[I 2021-08-09 11:53:15,965]\u001b[0m Trial 157 finished with value: 0.1563618925822735 and parameters: {'x': 0.6179381504643073, 'y': -3.1019344677311813}. Best is trial 106 with value: 0.004187225237785906.\u001b[0m\n",
            "\u001b[32m[I 2021-08-09 11:53:15,979]\u001b[0m Trial 158 finished with value: 0.03889558716520301 and parameters: {'x': 1.1737399374723734, 'y': -2.906672505164347}. Best is trial 106 with value: 0.004187225237785906.\u001b[0m\n",
            "\u001b[32m[I 2021-08-09 11:53:15,994]\u001b[0m Trial 159 finished with value: 0.07024728429011706 and parameters: {'x': 0.8379785183574477, 'y': -2.7902469934030285}. Best is trial 106 with value: 0.004187225237785906.\u001b[0m\n",
            "\u001b[32m[I 2021-08-09 11:53:16,008]\u001b[0m Trial 160 finished with value: 2.5861050940848345 and parameters: {'x': 2.3599310008874594, 'y': -2.141691916087197}. Best is trial 106 with value: 0.004187225237785906.\u001b[0m\n",
            "\u001b[32m[I 2021-08-09 11:53:16,024]\u001b[0m Trial 161 finished with value: 0.16858945163523795 and parameters: {'x': 0.8023322871247702, 'y': -2.640115397770461}. Best is trial 106 with value: 0.004187225237785906.\u001b[0m\n",
            "\u001b[32m[I 2021-08-09 11:53:16,044]\u001b[0m Trial 162 finished with value: 0.16206479580043684 and parameters: {'x': 0.9749628535021895, 'y': -3.401793401010624}. Best is trial 106 with value: 0.004187225237785906.\u001b[0m\n",
            "\u001b[32m[I 2021-08-09 11:53:16,060]\u001b[0m Trial 163 finished with value: 0.3451870083367374 and parameters: {'x': 0.4483736958739379, 'y': -2.7977738173901345}. Best is trial 106 with value: 0.004187225237785906.\u001b[0m\n",
            "\u001b[32m[I 2021-08-09 11:53:16,073]\u001b[0m Trial 164 finished with value: 0.33945565683320705 and parameters: {'x': 1.1635461147472625, 'y': -2.440796704959384}. Best is trial 106 with value: 0.004187225237785906.\u001b[0m\n",
            "\u001b[32m[I 2021-08-09 11:53:16,090]\u001b[0m Trial 165 finished with value: 0.23310544707006375 and parameters: {'x': 1.480481673052453, 'y': -3.0473583037151815}. Best is trial 106 with value: 0.004187225237785906.\u001b[0m\n",
            "\u001b[32m[I 2021-08-09 11:53:16,108]\u001b[0m Trial 166 finished with value: 1.7894293656292772 and parameters: {'x': -0.12217295320697241, 'y': -3.7281189660488314}. Best is trial 106 with value: 0.004187225237785906.\u001b[0m\n",
            "\u001b[32m[I 2021-08-09 11:53:16,130]\u001b[0m Trial 167 finished with value: 0.20742532231367986 and parameters: {'x': 0.7092497357799071, 'y': -3.3505561383995808}. Best is trial 106 with value: 0.004187225237785906.\u001b[0m\n",
            "\u001b[32m[I 2021-08-09 11:53:16,151]\u001b[0m Trial 168 finished with value: 0.6011297570341743 and parameters: {'x': 0.2507907608863893, 'y': -2.8004623517704523}. Best is trial 106 with value: 0.004187225237785906.\u001b[0m\n",
            "\u001b[32m[I 2021-08-09 11:53:16,164]\u001b[0m Trial 169 finished with value: 0.04498700352270969 and parameters: {'x': 1.1407901167522478, 'y': -3.1586352626234095}. Best is trial 106 with value: 0.004187225237785906.\u001b[0m\n",
            "\u001b[32m[I 2021-08-09 11:53:16,180]\u001b[0m Trial 170 finished with value: 1.5998288922140143 and parameters: {'x': 1.7106124064066683, 'y': -4.046355054498681}. Best is trial 106 with value: 0.004187225237785906.\u001b[0m\n",
            "\u001b[32m[I 2021-08-09 11:53:16,196]\u001b[0m Trial 171 finished with value: 0.026960250723454735 and parameters: {'x': 1.1493199854765506, 'y': -3.068291966297197}. Best is trial 106 with value: 0.004187225237785906.\u001b[0m\n",
            "\u001b[32m[I 2021-08-09 11:53:16,213]\u001b[0m Trial 172 finished with value: 0.05769341958273062 and parameters: {'x': 1.139894293491575, 'y': -3.195251136312247}. Best is trial 106 with value: 0.004187225237785906.\u001b[0m\n",
            "\u001b[32m[I 2021-08-09 11:53:16,230]\u001b[0m Trial 173 finished with value: 0.3606011677961232 and parameters: {'x': 1.167478838668969, 'y': -3.576673223233242}. Best is trial 106 with value: 0.004187225237785906.\u001b[0m\n",
            "\u001b[32m[I 2021-08-09 11:53:16,246]\u001b[0m Trial 174 finished with value: 0.27247335246455534 and parameters: {'x': 1.4976824429124396, 'y': -3.157434235416766}. Best is trial 106 with value: 0.004187225237785906.\u001b[0m\n",
            "\u001b[32m[I 2021-08-09 11:53:16,262]\u001b[0m Trial 175 finished with value: 0.18100341406687342 and parameters: {'x': 1.2010498794600026, 'y': -3.374943142404274}. Best is trial 106 with value: 0.004187225237785906.\u001b[0m\n",
            "\u001b[32m[I 2021-08-09 11:53:16,280]\u001b[0m Trial 176 finished with value: 1.0058463894012442 and parameters: {'x': 1.8124243880933135, 'y': -2.4119413268793246}. Best is trial 106 with value: 0.004187225237785906.\u001b[0m\n",
            "\u001b[32m[I 2021-08-09 11:53:16,297]\u001b[0m Trial 177 finished with value: 78.98170413214817 and parameters: {'x': 1.0578739985316261, 'y': 5.886976692466461}. Best is trial 106 with value: 0.004187225237785906.\u001b[0m\n",
            "\u001b[32m[I 2021-08-09 11:53:16,312]\u001b[0m Trial 178 finished with value: 0.9781889821652452 and parameters: {'x': 1.4464002707323282, 'y': -3.8825620547334614}. Best is trial 106 with value: 0.004187225237785906.\u001b[0m\n",
            "\u001b[32m[I 2021-08-09 11:53:16,325]\u001b[0m Trial 179 finished with value: 0.2812188435996057 and parameters: {'x': 0.5063316847563653, 'y': -3.1936761165557512}. Best is trial 106 with value: 0.004187225237785906.\u001b[0m\n",
            "\u001b[32m[I 2021-08-09 11:53:16,348]\u001b[0m Trial 180 finished with value: 1.3481522237665524 and parameters: {'x': 2.0126523106606635, 'y': -3.56805591404383}. Best is trial 106 with value: 0.004187225237785906.\u001b[0m\n",
            "\u001b[32m[I 2021-08-09 11:53:16,364]\u001b[0m Trial 181 finished with value: 0.02765564486194717 and parameters: {'x': 0.8369007710484684, 'y': -2.9675302236323833}. Best is trial 106 with value: 0.004187225237785906.\u001b[0m\n",
            "\u001b[32m[I 2021-08-09 11:53:16,379]\u001b[0m Trial 182 finished with value: 0.0009382071414065035 and parameters: {'x': 0.9729714617874795, 'y': -2.9855894044709865}. Best is trial 182 with value: 0.0009382071414065035.\u001b[0m\n",
            "\u001b[32m[I 2021-08-09 11:53:16,392]\u001b[0m Trial 183 finished with value: 0.07461388282882206 and parameters: {'x': 0.7524385492517232, 'y': -3.1154435400194855}. Best is trial 182 with value: 0.0009382071414065035.\u001b[0m\n",
            "\u001b[32m[I 2021-08-09 11:53:16,408]\u001b[0m Trial 184 finished with value: 0.14551157965412573 and parameters: {'x': 0.956225290410791, 'y': -2.6210602231824875}. Best is trial 182 with value: 0.0009382071414065035.\u001b[0m\n",
            "\u001b[32m[I 2021-08-09 11:53:16,421]\u001b[0m Trial 185 finished with value: 0.4650407816549546 and parameters: {'x': 0.4559412104221957, 'y': -3.411145734670918}. Best is trial 182 with value: 0.0009382071414065035.\u001b[0m\n",
            "\u001b[32m[I 2021-08-09 11:53:16,435]\u001b[0m Trial 186 finished with value: 0.21149374003581461 and parameters: {'x': 1.4598840725284306, 'y': -2.999383663663377}. Best is trial 182 with value: 0.0009382071414065035.\u001b[0m\n",
            "\u001b[32m[I 2021-08-09 11:53:16,450]\u001b[0m Trial 187 finished with value: 0.6101178221472423 and parameters: {'x': 1.027855854099011, 'y': -2.219396468404314}. Best is trial 182 with value: 0.0009382071414065035.\u001b[0m\n",
            "\u001b[32m[I 2021-08-09 11:53:16,465]\u001b[0m Trial 188 finished with value: 0.7455560468843532 and parameters: {'x': 0.19827446031887985, 'y': -2.6793877639462744}. Best is trial 182 with value: 0.0009382071414065035.\u001b[0m\n",
            "\u001b[32m[I 2021-08-09 11:53:16,479]\u001b[0m Trial 189 finished with value: 0.6770767262592833 and parameters: {'x': 0.6448939990636744, 'y': -3.742277882169672}. Best is trial 182 with value: 0.0009382071414065035.\u001b[0m\n",
            "\u001b[32m[I 2021-08-09 11:53:16,495]\u001b[0m Trial 190 finished with value: 0.15426731138998304 and parameters: {'x': 1.3248973770168788, 'y': -3.2207011685459213}. Best is trial 182 with value: 0.0009382071414065035.\u001b[0m\n",
            "\u001b[32m[I 2021-08-09 11:53:16,508]\u001b[0m Trial 191 finished with value: 0.028256331799766964 and parameters: {'x': 1.129218988305322, 'y': -2.892488210594763}. Best is trial 182 with value: 0.0009382071414065035.\u001b[0m\n",
            "\u001b[32m[I 2021-08-09 11:53:16,525]\u001b[0m Trial 192 finished with value: 0.006887322668769854 and parameters: {'x': 0.9179057545610664, 'y': -2.9878403316417765}. Best is trial 182 with value: 0.0009382071414065035.\u001b[0m\n",
            "\u001b[32m[I 2021-08-09 11:53:16,539]\u001b[0m Trial 193 finished with value: 0.032845532958932146 and parameters: {'x': 0.8474987098533231, 'y': -2.902077124927159}. Best is trial 182 with value: 0.0009382071414065035.\u001b[0m\n",
            "\u001b[32m[I 2021-08-09 11:53:16,555]\u001b[0m Trial 194 finished with value: 0.3778570999868511 and parameters: {'x': 0.6717396031171798, 'y': -2.4802864136611547}. Best is trial 182 with value: 0.0009382071414065035.\u001b[0m\n",
            "\u001b[32m[I 2021-08-09 11:53:16,569]\u001b[0m Trial 195 finished with value: 0.3818076060827603 and parameters: {'x': 1.607680166971318, 'y': -2.8880517050041794}. Best is trial 182 with value: 0.0009382071414065035.\u001b[0m\n",
            "\u001b[32m[I 2021-08-09 11:53:16,586]\u001b[0m Trial 196 finished with value: 0.11716812881750525 and parameters: {'x': 0.9061781531291775, 'y': -2.6708107081522043}. Best is trial 182 with value: 0.0009382071414065035.\u001b[0m\n",
            "\u001b[32m[I 2021-08-09 11:53:16,610]\u001b[0m Trial 197 finished with value: 0.2816932676196101 and parameters: {'x': 0.4715920563976672, 'y': -2.9502173448120335}. Best is trial 182 with value: 0.0009382071414065035.\u001b[0m\n",
            "\u001b[32m[I 2021-08-09 11:53:16,628]\u001b[0m Trial 198 finished with value: 1.2709970691071957 and parameters: {'x': 1.2988672340823173, 'y': -1.912951038131593}. Best is trial 182 with value: 0.0009382071414065035.\u001b[0m\n",
            "\u001b[32m[I 2021-08-09 11:53:16,644]\u001b[0m Trial 199 finished with value: 0.394267471474926 and parameters: {'x': 0.8970653485383937, 'y': -2.3805874323171965}. Best is trial 182 with value: 0.0009382071414065035.\u001b[0m\n"
          ],
          "name": "stderr"
        },
        {
          "output_type": "execute_result",
          "data": {
            "text/plain": [
              "{'x': 0.9729714617874795, 'y': -2.9855894044709865}"
            ]
          },
          "metadata": {
            "tags": []
          },
          "execution_count": 12
        }
      ]
    },
    {
      "cell_type": "code",
      "metadata": {
        "colab": {
          "base_uri": "https://localhost:8080/"
        },
        "id": "cJJpgC2NwKx8",
        "outputId": "0e11e848-896f-47de-e678-76073fc86195"
      },
      "source": [
        "study.best_value"
      ],
      "execution_count": 13,
      "outputs": [
        {
          "output_type": "execute_result",
          "data": {
            "text/plain": [
              "0.0009382071414065035"
            ]
          },
          "metadata": {
            "tags": []
          },
          "execution_count": 13
        }
      ]
    },
    {
      "cell_type": "markdown",
      "metadata": {
        "id": "3ZuLakLYwNKe"
      },
      "source": [
        "# 5. SHAP"
      ]
    },
    {
      "cell_type": "code",
      "metadata": {
        "colab": {
          "base_uri": "https://localhost:8080/"
        },
        "id": "SXXewXEQwq-u",
        "outputId": "22f01723-aa29-4748-c8ea-8b920bf8de9e"
      },
      "source": [
        "pip install shap"
      ],
      "execution_count": 15,
      "outputs": [
        {
          "output_type": "stream",
          "text": [
            "Collecting shap\n",
            "  Downloading shap-0.39.0.tar.gz (356 kB)\n",
            "\u001b[?25l\r\u001b[K     |█                               | 10 kB 16.6 MB/s eta 0:00:01\r\u001b[K     |█▉                              | 20 kB 20.4 MB/s eta 0:00:01\r\u001b[K     |██▊                             | 30 kB 24.3 MB/s eta 0:00:01\r\u001b[K     |███▊                            | 40 kB 23.2 MB/s eta 0:00:01\r\u001b[K     |████▋                           | 51 kB 9.1 MB/s eta 0:00:01\r\u001b[K     |█████▌                          | 61 kB 8.2 MB/s eta 0:00:01\r\u001b[K     |██████▍                         | 71 kB 8.2 MB/s eta 0:00:01\r\u001b[K     |███████▍                        | 81 kB 9.1 MB/s eta 0:00:01\r\u001b[K     |████████▎                       | 92 kB 10.0 MB/s eta 0:00:01\r\u001b[K     |█████████▏                      | 102 kB 7.6 MB/s eta 0:00:01\r\u001b[K     |██████████▏                     | 112 kB 7.6 MB/s eta 0:00:01\r\u001b[K     |███████████                     | 122 kB 7.6 MB/s eta 0:00:01\r\u001b[K     |████████████                    | 133 kB 7.6 MB/s eta 0:00:01\r\u001b[K     |████████████▉                   | 143 kB 7.6 MB/s eta 0:00:01\r\u001b[K     |█████████████▉                  | 153 kB 7.6 MB/s eta 0:00:01\r\u001b[K     |██████████████▊                 | 163 kB 7.6 MB/s eta 0:00:01\r\u001b[K     |███████████████▋                | 174 kB 7.6 MB/s eta 0:00:01\r\u001b[K     |████████████████▋               | 184 kB 7.6 MB/s eta 0:00:01\r\u001b[K     |█████████████████▌              | 194 kB 7.6 MB/s eta 0:00:01\r\u001b[K     |██████████████████▍             | 204 kB 7.6 MB/s eta 0:00:01\r\u001b[K     |███████████████████▎            | 215 kB 7.6 MB/s eta 0:00:01\r\u001b[K     |████████████████████▎           | 225 kB 7.6 MB/s eta 0:00:01\r\u001b[K     |█████████████████████▏          | 235 kB 7.6 MB/s eta 0:00:01\r\u001b[K     |██████████████████████          | 245 kB 7.6 MB/s eta 0:00:01\r\u001b[K     |███████████████████████         | 256 kB 7.6 MB/s eta 0:00:01\r\u001b[K     |████████████████████████        | 266 kB 7.6 MB/s eta 0:00:01\r\u001b[K     |████████████████████████▉       | 276 kB 7.6 MB/s eta 0:00:01\r\u001b[K     |█████████████████████████▊      | 286 kB 7.6 MB/s eta 0:00:01\r\u001b[K     |██████████████████████████▊     | 296 kB 7.6 MB/s eta 0:00:01\r\u001b[K     |███████████████████████████▋    | 307 kB 7.6 MB/s eta 0:00:01\r\u001b[K     |████████████████████████████▌   | 317 kB 7.6 MB/s eta 0:00:01\r\u001b[K     |█████████████████████████████▍  | 327 kB 7.6 MB/s eta 0:00:01\r\u001b[K     |██████████████████████████████▍ | 337 kB 7.6 MB/s eta 0:00:01\r\u001b[K     |███████████████████████████████▎| 348 kB 7.6 MB/s eta 0:00:01\r\u001b[K     |████████████████████████████████| 356 kB 7.6 MB/s \n",
            "\u001b[?25hRequirement already satisfied: numpy in /usr/local/lib/python3.7/dist-packages (from shap) (1.19.1)\n",
            "Requirement already satisfied: scipy in /usr/local/lib/python3.7/dist-packages (from shap) (1.5.4)\n",
            "Requirement already satisfied: scikit-learn in /usr/local/lib/python3.7/dist-packages (from shap) (0.23.1)\n",
            "Requirement already satisfied: pandas in /usr/local/lib/python3.7/dist-packages (from shap) (1.0.5)\n",
            "Requirement already satisfied: tqdm>4.25.0 in /usr/local/lib/python3.7/dist-packages (from shap) (4.56.0)\n",
            "Collecting slicer==0.0.7\n",
            "  Downloading slicer-0.0.7-py3-none-any.whl (14 kB)\n",
            "Requirement already satisfied: numba in /usr/local/lib/python3.7/dist-packages (from shap) (0.51.2)\n",
            "Requirement already satisfied: cloudpickle in /usr/local/lib/python3.7/dist-packages (from shap) (1.3.0)\n",
            "Requirement already satisfied: setuptools in /usr/local/lib/python3.7/dist-packages (from numba->shap) (57.2.0)\n",
            "Requirement already satisfied: llvmlite<0.35,>=0.34.0.dev0 in /usr/local/lib/python3.7/dist-packages (from numba->shap) (0.34.0)\n",
            "Requirement already satisfied: python-dateutil>=2.6.1 in /usr/local/lib/python3.7/dist-packages (from pandas->shap) (2.8.1)\n",
            "Requirement already satisfied: pytz>=2017.2 in /usr/local/lib/python3.7/dist-packages (from pandas->shap) (2018.9)\n",
            "Requirement already satisfied: six>=1.5 in /usr/local/lib/python3.7/dist-packages (from python-dateutil>=2.6.1->pandas->shap) (1.15.0)\n",
            "Requirement already satisfied: joblib>=0.11 in /usr/local/lib/python3.7/dist-packages (from scikit-learn->shap) (1.0.0)\n",
            "Requirement already satisfied: threadpoolctl>=2.0.0 in /usr/local/lib/python3.7/dist-packages (from scikit-learn->shap) (2.2.0)\n",
            "Building wheels for collected packages: shap\n",
            "  Building wheel for shap (setup.py) ... \u001b[?25l\u001b[?25hdone\n",
            "  Created wheel for shap: filename=shap-0.39.0-cp37-cp37m-linux_x86_64.whl size=491651 sha256=03ad5cee3eed25b52749dfa6e97364aecb94b53e81493d2664b22e3a3b2fa8e6\n",
            "  Stored in directory: /root/.cache/pip/wheels/ca/25/8f/6ae5df62c32651cd719e972e738a8aaa4a87414c4d2b14c9c0\n",
            "Successfully built shap\n",
            "Installing collected packages: slicer, shap\n",
            "Successfully installed shap-0.39.0 slicer-0.0.7\n"
          ],
          "name": "stdout"
        }
      ]
    },
    {
      "cell_type": "code",
      "metadata": {
        "colab": {
          "base_uri": "https://localhost:8080/",
          "height": 368
        },
        "id": "T0F3zXj_wLPa",
        "outputId": "f07ed901-f28f-4dbf-db7c-59a2af2e84cb"
      },
      "source": [
        "import shap\n",
        "import xgboost as xgb\n",
        "\n",
        "# Load and train a model\n",
        "X, y = shap.datasets.diabetes()\n",
        "clf = xgb.XGBRegressor().fit(X, y)\n",
        "\n",
        "# Explain model's predictions with SHAP\n",
        "explainer = shap.Explainer(clf)\n",
        "shap_values = explainer(X)\n",
        "\n",
        "# Visualize the predictions' explanation\n",
        "shap.plots.beeswarm(shap_values)"
      ],
      "execution_count": 16,
      "outputs": [
        {
          "output_type": "display_data",
          "data": {
            "image/png": "[encoded data removed]",
            "text/plain": [
              "<Figure size 576x396 with 2 Axes>"
            ]
          },
          "metadata": {
            "tags": [],
            "needs_background": "light"
          }
        }
      ]
    },
    {
      "cell_type": "markdown",
      "metadata": {
        "id": "bjklXfmiwyJh"
      },
      "source": [
        "# 6. Rapids cuDF"
      ]
    },
    {
      "cell_type": "code",
      "metadata": {
        "id": "LWJRJsjUwosF"
      },
      "source": [
        "import cudf, io, requests\n",
        "from io import StringIO\n",
        "\n",
        "url = \"https://github.com/plotly/datasets/raw/master/tips.csv\"\n",
        "content = requests.get(url).content.decode('utf-8')\n",
        "\n",
        "tips_df = cudf.read_csv(StringIO(content))\n",
        "tips_df['tip_percentage'] = tips_df['tip'] / tips_df['total_bill'] * 100\n",
        "\n",
        "# display average tip by dining party size\n",
        "print(tips_df.groupby('size').tip_percentage.mean())"
      ],
      "execution_count": 17,
      "outputs": []
    },
    {
      "cell_type": "markdown",
      "metadata": {
        "id": "zxQODEjaw3eo"
      },
      "source": [
        "# 7. Automatic EDA libraries\n",
        "- Automatic EDA libraries\n",
        "- AutoViz\n",
        "- PandasProfiling\n",
        "- Lux"
      ]
    }
  ]
}