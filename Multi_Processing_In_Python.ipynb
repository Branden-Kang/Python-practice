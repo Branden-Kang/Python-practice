{
  "nbformat": 4,
  "nbformat_minor": 0,
  "metadata": {
    "colab": {
      "provenance": [],
      "authorship_tag": "ABX9TyNDFW46brRI/jaCznVguMom"
    },
    "kernelspec": {
      "name": "python3",
      "display_name": "Python 3"
    },
    "language_info": {
      "name": "python"
    }
  },
  "cells": [
    {
      "cell_type": "markdown",
      "source": [
        "[Reference](https://medium.com/@shahooda637/multi-processing-in-python-32d4b1c97354)"
      ],
      "metadata": {
        "id": "4_yi6YrSxt7G"
      }
    },
    {
      "cell_type": "code",
      "execution_count": 1,
      "metadata": {
        "id": "Trly-4RTxji6"
      },
      "outputs": [],
      "source": [
        "import multiprocessing"
      ]
    },
    {
      "cell_type": "code",
      "source": [
        "def test():\n",
        "  print(\"This is my sample program\")\n",
        "\n",
        "test()"
      ],
      "metadata": {
        "colab": {
          "base_uri": "https://localhost:8080/"
        },
        "id": "_HFZKcr3xy21",
        "outputId": "8e0d9f25-a207-4b9c-febb-2a26d9677bf3"
      },
      "execution_count": 2,
      "outputs": [
        {
          "output_type": "stream",
          "name": "stdout",
          "text": [
            "This is my sample program\n"
          ]
        }
      ]
    },
    {
      "cell_type": "code",
      "source": [
        "def test01():\n",
        "  print(\"This is a sample multiprocessing program\")\n",
        "\n",
        "if __name__ == \"__main__\":\n",
        "  m = multiprocessing.Process(target=test01)\n",
        "  print(\"this is my main program\")\n",
        "\n",
        "  #start the program\n",
        "  m.start()\n",
        "\n",
        "  #stop/terminate the program and release the resource\n",
        "  m.join()"
      ],
      "metadata": {
        "colab": {
          "base_uri": "https://localhost:8080/"
        },
        "id": "NK5x4Sk1xztE",
        "outputId": "4f0d0d08-952f-4885-a637-22c3b18d9a09"
      },
      "execution_count": 3,
      "outputs": [
        {
          "output_type": "stream",
          "name": "stdout",
          "text": [
            "this is my main program\n",
            "This is a sample multiprocessing program\n"
          ]
        }
      ]
    },
    {
      "cell_type": "code",
      "source": [
        "def square(n):\n",
        "  return n**2\n",
        "\n",
        "if __name__ == '__main__':\n",
        "  with multiprocessing.Pool(processes=5) as pool:\n",
        "    out = pool.map(square, [12,2,3,5,23,14,26,8,4,6])\n",
        "    print(out)"
      ],
      "metadata": {
        "colab": {
          "base_uri": "https://localhost:8080/"
        },
        "id": "dr3K09BSx01p",
        "outputId": "b9e89fac-1cd8-4860-f754-95cf7baedc2c"
      },
      "execution_count": 4,
      "outputs": [
        {
          "output_type": "stream",
          "name": "stdout",
          "text": [
            "[144, 4, 9, 25, 529, 196, 676, 64, 16, 36]\n"
          ]
        }
      ]
    },
    {
      "cell_type": "markdown",
      "source": [
        "# Parallel Execution of Functions"
      ],
      "metadata": {
        "id": "OQrm-D1Jx3iU"
      }
    },
    {
      "cell_type": "code",
      "source": [
        "def workers(num):\n",
        "    print(f\"Worker number {num}\")\n",
        "\n",
        "if __name__ == \"__main__\":\n",
        "    processes = []\n",
        "    for i in range(4):\n",
        "        process = multiprocessing.Process(target=workers, args=(i,))\n",
        "        processes.append(process)\n",
        "        process.start()\n",
        "\n",
        "    for process in processes:\n",
        "        process.join()\n"
      ],
      "metadata": {
        "colab": {
          "base_uri": "https://localhost:8080/"
        },
        "id": "1xEvYC_Px2I5",
        "outputId": "5fe7c371-adba-48c4-a906-95141307be45"
      },
      "execution_count": 5,
      "outputs": [
        {
          "output_type": "stream",
          "name": "stdout",
          "text": [
            "Worker number 1Worker number 0\n",
            "\n",
            "Worker number 2Worker number 3\n",
            "\n"
          ]
        }
      ]
    },
    {
      "cell_type": "markdown",
      "source": [
        "# Sharing Data Between Processes\n"
      ],
      "metadata": {
        "id": "peMxVC3Vx-3b"
      }
    },
    {
      "cell_type": "code",
      "source": [
        "import multiprocessing\n",
        "import time\n",
        "\n",
        "#defining our function we want to apply multiprocessing on\n",
        "#01 the producer function to add elements in the queue\n",
        "def producer(q):\n",
        "  for item in range(5):\n",
        "    q.put(item)\n",
        "    print(f\"Produced:  {item}\")\n",
        "\n",
        "\n",
        "#02 consumer function to get elements from the queue\n",
        "def consumer(q):\n",
        "  while True:\n",
        "    item = q.get()\n",
        "    if item is None:\n",
        "      break\n",
        "    print(f\"Consumed: {item}\")\n",
        "\n",
        "\n",
        "if __name__ == \"__main__\":\n",
        "  #creating a multiprocessing queue\n",
        "  q = multiprocessing.Queue()\n",
        "\n",
        "  #creating the producer and consumer processes\n",
        "  producer_process = multiprocessing.Process(target=producer, args=(q,))\n",
        "  consumer_process = multiprocessing.Process(target=consumer, args=(q,))\n",
        "\n",
        "  #starting the processes\n",
        "  producer_process.start()\n",
        "  consumer_process.start()\n",
        "\n",
        "  #finish the producer, signal the consumer to exit\n",
        "  producer_process.join()\n",
        "  q.put(None) #signaling the consumer about no more data in the queue\n",
        "  consumer_process.join()"
      ],
      "metadata": {
        "colab": {
          "base_uri": "https://localhost:8080/"
        },
        "id": "067IU52Tx5Bv",
        "outputId": "c3734bb1-6a98-4667-f8c4-a97e494a825d"
      },
      "execution_count": 6,
      "outputs": [
        {
          "output_type": "stream",
          "name": "stdout",
          "text": [
            "Produced:  0Consumed: 0\n",
            "\n",
            "Produced:  1Consumed: 1\n",
            "\n",
            "Produced:  2\n",
            "Produced:  3Consumed: 2\n",
            "\n",
            "Consumed: 3\n",
            "Produced:  4\n",
            "Consumed: 4\n"
          ]
        }
      ]
    },
    {
      "cell_type": "markdown",
      "source": [
        "# Pooling Processes"
      ],
      "metadata": {
        "id": "VumDXkaIyDZb"
      }
    },
    {
      "cell_type": "code",
      "source": [
        "def square(x):\n",
        "  return x**2\n",
        "\n",
        "if __name__=='__main__':\n",
        "\n",
        "  #create a multiprocessing pool with 4 worker processes\n",
        "  with multiprocessing.Pool(processes=4) as pool:\n",
        "    #distribute the tasks among worker processes and collect results\n",
        "    results = pool.map(square, [2,5,3,2,1,7,8,5,6,2,2,3])\n",
        "\n",
        "    #print the results\n",
        "    print(results)"
      ],
      "metadata": {
        "colab": {
          "base_uri": "https://localhost:8080/"
        },
        "id": "eM0qdGkeyCMe",
        "outputId": "c4b9dccc-16ed-4f96-ff8e-066237a4237a"
      },
      "execution_count": 7,
      "outputs": [
        {
          "output_type": "stream",
          "name": "stdout",
          "text": [
            "[4, 25, 9, 4, 1, 49, 64, 25, 36, 4, 4, 9]\n"
          ]
        }
      ]
    }
  ]
}