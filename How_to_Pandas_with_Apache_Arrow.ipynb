{
  "nbformat": 4,
  "nbformat_minor": 0,
  "metadata": {
    "colab": {
      "provenance": [],
      "authorship_tag": "ABX9TyPLEhUpY5B5zTxSHBcS85IT"
    },
    "kernelspec": {
      "name": "python3",
      "display_name": "Python 3"
    },
    "language_info": {
      "name": "python"
    }
  },
  "cells": [
    {
      "cell_type": "markdown",
      "source": [
        "[Reference](https://medium.com/@diehardankush/how-to-pandas-with-apache-arrow-b81e2a8424bd)"
      ],
      "metadata": {
        "id": "UeEWaef1-3Ns"
      }
    },
    {
      "cell_type": "code",
      "execution_count": 1,
      "metadata": {
        "id": "zroe2IIk-iPg"
      },
      "outputs": [],
      "source": [
        "import pandas as pd\n",
        "import pyarrow as pa"
      ]
    },
    {
      "cell_type": "code",
      "source": [
        "# Creating a pandas dataframe\n",
        "df = pd.DataFrame({\n",
        "  'A': [1, 2, 3, 4],\n",
        "  'B': ['foo', 'bar', 'baz', 'qux'],\n",
        "})\n",
        "# Converting the pandas dataframe to arrow table\n",
        "table = pa.Table.from_pandas(df)\n",
        "# We can convert it back to Pandas DataFrame\n",
        "df_new = table.to_pandas()"
      ],
      "metadata": {
        "id": "r5AVcCPU-7Zh"
      },
      "execution_count": 2,
      "outputs": []
    }
  ]
}