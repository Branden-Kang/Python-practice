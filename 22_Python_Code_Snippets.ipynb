{
  "nbformat": 4,
  "nbformat_minor": 0,
  "metadata": {
    "colab": {
      "name": "22 Python Code Snippets.ipynb",
      "provenance": [],
      "authorship_tag": "ABX9TyO7hDJeq2oWoGe7Wg3DkZqQ"
    },
    "kernelspec": {
      "name": "python3",
      "display_name": "Python 3"
    },
    "language_info": {
      "name": "python"
    }
  },
  "cells": [
    {
      "cell_type": "markdown",
      "metadata": {
        "id": "9XGdBKWlHHZu"
      },
      "source": [
        "[Reference](https://levelup.gitconnected.com/22-python-code-snippets-for-everyday-problems-4c6a216c33ae)"
      ]
    },
    {
      "cell_type": "code",
      "metadata": {
        "colab": {
          "base_uri": "https://localhost:8080/",
          "height": 317
        },
        "id": "lXcEo-hgHGCl",
        "outputId": "582d9b7e-f550-4fce-dd58-3e6657461e29"
      },
      "source": [
        "## Taking Two Integers as input\n",
        "a,b = map(int,input().split())\n",
        "print(\"a:\",a)\n",
        "print(\"b:\",b)\n",
        "\n",
        "## Taking a List as input\n",
        "arr = list(map(int,input().split()))\n",
        "print(\"Input List:\",arr)"
      ],
      "execution_count": 2,
      "outputs": [
        {
          "output_type": "stream",
          "text": [
            "1 2\n",
            "a: 1\n",
            "b: 2\n",
            "1,2,3,4,5\n"
          ],
          "name": "stdout"
        },
        {
          "output_type": "error",
          "ename": "ValueError",
          "evalue": "ignored",
          "traceback": [
            "\u001b[0;31m---------------------------------------------------------------------------\u001b[0m",
            "\u001b[0;31mValueError\u001b[0m                                Traceback (most recent call last)",
            "\u001b[0;32m<ipython-input-2-2cb903bd7088>\u001b[0m in \u001b[0;36m<module>\u001b[0;34m()\u001b[0m\n\u001b[1;32m      5\u001b[0m \u001b[0;34m\u001b[0m\u001b[0m\n\u001b[1;32m      6\u001b[0m \u001b[0;31m## Taking a List as input\u001b[0m\u001b[0;34m\u001b[0m\u001b[0;34m\u001b[0m\u001b[0;34m\u001b[0m\u001b[0m\n\u001b[0;32m----> 7\u001b[0;31m \u001b[0marr\u001b[0m \u001b[0;34m=\u001b[0m \u001b[0mlist\u001b[0m\u001b[0;34m(\u001b[0m\u001b[0mmap\u001b[0m\u001b[0;34m(\u001b[0m\u001b[0mint\u001b[0m\u001b[0;34m,\u001b[0m\u001b[0minput\u001b[0m\u001b[0;34m(\u001b[0m\u001b[0;34m)\u001b[0m\u001b[0;34m.\u001b[0m\u001b[0msplit\u001b[0m\u001b[0;34m(\u001b[0m\u001b[0;34m)\u001b[0m\u001b[0;34m)\u001b[0m\u001b[0;34m)\u001b[0m\u001b[0;34m\u001b[0m\u001b[0;34m\u001b[0m\u001b[0m\n\u001b[0m\u001b[1;32m      8\u001b[0m \u001b[0mprint\u001b[0m\u001b[0;34m(\u001b[0m\u001b[0;34m\"Input List:\"\u001b[0m\u001b[0;34m,\u001b[0m\u001b[0marr\u001b[0m\u001b[0;34m)\u001b[0m\u001b[0;34m\u001b[0m\u001b[0;34m\u001b[0m\u001b[0m\n",
            "\u001b[0;31mValueError\u001b[0m: invalid literal for int() with base 10: '1,2,3,4,5'"
          ]
        }
      ]
    },
    {
      "cell_type": "code",
      "metadata": {
        "colab": {
          "base_uri": "https://localhost:8080/"
        },
        "id": "udcK90cHHJrK",
        "outputId": "89e9a4d3-13ce-4b01-ab23-52e612a3766a"
      },
      "source": [
        "arr = [2,4,6,3,8,10]\n",
        "\n",
        "for index,value in enumerate(arr):\n",
        "  print(f\"At Index {index} The Value Is -> {value}\")"
      ],
      "execution_count": 3,
      "outputs": [
        {
          "output_type": "stream",
          "text": [
            "At Index 0 The Value Is -> 2\n",
            "At Index 1 The Value Is -> 4\n",
            "At Index 2 The Value Is -> 6\n",
            "At Index 3 The Value Is -> 3\n",
            "At Index 4 The Value Is -> 8\n",
            "At Index 5 The Value Is -> 10\n"
          ],
          "name": "stdout"
        }
      ]
    },
    {
      "cell_type": "code",
      "metadata": {
        "colab": {
          "base_uri": "https://localhost:8080/"
        },
        "id": "QyGZZQijHLCN",
        "outputId": "b19e5b6d-523c-4cc6-f78b-bfff1d16c89a"
      },
      "source": [
        "import sys\n",
        "\n",
        "a = 20\n",
        "print(sys.getsizeof(a))"
      ],
      "execution_count": 4,
      "outputs": [
        {
          "output_type": "stream",
          "text": [
            "28\n"
          ],
          "name": "stdout"
        }
      ]
    },
    {
      "cell_type": "code",
      "metadata": {
        "colab": {
          "base_uri": "https://localhost:8080/"
        },
        "id": "yp8LSp-AHVVE",
        "outputId": "52bd81eb-439e-4422-ac50-451e2ec67836"
      },
      "source": [
        "a = 20\n",
        "name = 'branden'\n",
        "deci = 6.6\n",
        "\n",
        "print(id(a))\n",
        "print(id(name))\n",
        "print(id(deci))"
      ],
      "execution_count": 5,
      "outputs": [
        {
          "output_type": "stream",
          "text": [
            "94497581616224\n",
            "139818434530736\n",
            "139818435348144\n"
          ],
          "name": "stdout"
        }
      ]
    },
    {
      "cell_type": "code",
      "metadata": {
        "colab": {
          "base_uri": "https://localhost:8080/"
        },
        "id": "C3aR0lfnHbiC",
        "outputId": "3206fa70-5e52-4b1f-939d-75ec701c1cf5"
      },
      "source": [
        "def check_anagram(first_word, second_word):\n",
        "  return sorted(first_word) == sorted(second_word)\n",
        "  \n",
        "print(check_anagram(\"silent\", \"listen\"))   # True\n",
        "print(check_anagram(\"ginger\", \"danger\"))   # False"
      ],
      "execution_count": 6,
      "outputs": [
        {
          "output_type": "stream",
          "text": [
            "True\n",
            "False\n"
          ],
          "name": "stdout"
        }
      ]
    },
    {
      "cell_type": "code",
      "metadata": {
        "colab": {
          "base_uri": "https://localhost:8080/"
        },
        "id": "6vcnp4yXHcsv",
        "outputId": "36433308-aad0-4006-cd35-45cf3d6dd3cf"
      },
      "source": [
        "basic_information = {\"name\":['karl','Lary'],\"mobile\":[\"0134567894\",\"0123456789\"]}\n",
        "academic_information = {\"grade\":[\"A\",\"B\"]}\n",
        "details = dict() ## Combines Dict\n",
        "\n",
        "## Dictionary Comprehension Method\n",
        "details = {key: value for data in (basic_information, academic_information) for key,value in data.items()}\n",
        "print(details)\n",
        "\n",
        "## Dictionary unpacking\n",
        "details = {**basic_information ,**academic_information}\n",
        "print(details)\n",
        "\n",
        "## Copy and Update Method\n",
        "details = basic_information.copy()\n",
        "details.update(academic_information)\n",
        "print(details)"
      ],
      "execution_count": 7,
      "outputs": [
        {
          "output_type": "stream",
          "text": [
            "{'name': ['karl', 'Lary'], 'mobile': ['0134567894', '0123456789'], 'grade': ['A', 'B']}\n",
            "{'name': ['karl', 'Lary'], 'mobile': ['0134567894', '0123456789'], 'grade': ['A', 'B']}\n",
            "{'name': ['karl', 'Lary'], 'mobile': ['0134567894', '0123456789'], 'grade': ['A', 'B']}\n"
          ],
          "name": "stdout"
        }
      ]
    },
    {
      "cell_type": "code",
      "metadata": {
        "colab": {
          "base_uri": "https://localhost:8080/",
          "height": 54
        },
        "id": "on98HvhOHeVe",
        "outputId": "090d5978-c4e0-4bb1-d326-b766db63f63f"
      },
      "source": [
        "# Brute force Method\n",
        "import os.path\n",
        "from os import path\n",
        "\n",
        "def check_for_file():\n",
        "\tprint(\"File exists: \",path.exists(\"data.txt\"))\n",
        "\n",
        "if __name__==\"__main__\":\n",
        "   check_for_file()\n",
        "    \n",
        "'''\n",
        "File exists:  False\n",
        "'''"
      ],
      "execution_count": 8,
      "outputs": [
        {
          "output_type": "stream",
          "text": [
            "File exists:  False\n"
          ],
          "name": "stdout"
        },
        {
          "output_type": "execute_result",
          "data": {
            "application/vnd.google.colaboratory.intrinsic+json": {
              "type": "string"
            },
            "text/plain": [
              "'\\nFile exists:  False\\n'"
            ]
          },
          "metadata": {
            "tags": []
          },
          "execution_count": 8
        }
      ]
    },
    {
      "cell_type": "code",
      "metadata": {
        "colab": {
          "base_uri": "https://localhost:8080/",
          "height": 71
        },
        "id": "6Yz6J3PpHfyE",
        "outputId": "cf678aa6-c8fb-425b-d91c-ae0654ba11d8"
      },
      "source": [
        "# METHOD 1\n",
        "from itertools import repeat\n",
        "\n",
        "n = 5\n",
        "squares = list(map(pow, range(1, n+1), repeat(2)))\n",
        "print(squares)\n",
        "\n",
        "# METHOD 2\n",
        "n = 6\n",
        "squares = [i**2 for i in range(1,n+1)]\n",
        "print(squares)\n",
        "\n",
        "\n",
        "\"\"\"Output\n",
        "  [1, 4, 9, 16, 25]\n",
        "\"\"\""
      ],
      "execution_count": 9,
      "outputs": [
        {
          "output_type": "stream",
          "text": [
            "[1, 4, 9, 16, 25]\n",
            "[1, 4, 9, 16, 25, 36]\n"
          ],
          "name": "stdout"
        },
        {
          "output_type": "execute_result",
          "data": {
            "application/vnd.google.colaboratory.intrinsic+json": {
              "type": "string"
            },
            "text/plain": [
              "'Output\\n  [1, 4, 9, 16, 25]\\n'"
            ]
          },
          "metadata": {
            "tags": []
          },
          "execution_count": 9
        }
      ]
    },
    {
      "cell_type": "code",
      "metadata": {
        "colab": {
          "base_uri": "https://localhost:8080/"
        },
        "id": "wc-PtpIEHhOT",
        "outputId": "7ac4369a-5970-4343-d9ad-845c533c18fa"
      },
      "source": [
        "list1 = ['karl','lary','keera']\n",
        "list2 = [28934,28935,28936]\n",
        "\n",
        "# Method 1: zip()\n",
        "dictt0 = dict(zip(list1,list2))\n",
        "\n",
        "# Method 2: dictionary comprehension\n",
        "dictt1 = {key:value for key,value in zip(list1,list2)}\n",
        "\n",
        "# Method 3: Using a For Loop (Not Recommended)\n",
        "tuples = zip(list1, list2) \n",
        "dictt2 = {} \n",
        "for key, value in tuples: \n",
        "  if key in dictt2: \n",
        "    pass\n",
        "  else: \n",
        "    dictt2[key] = value\n",
        "print(dictt0, dictt1, dictt2, sep = \"\\n\")"
      ],
      "execution_count": 10,
      "outputs": [
        {
          "output_type": "stream",
          "text": [
            "{'karl': 28934, 'lary': 28935, 'keera': 28936}\n",
            "{'karl': 28934, 'lary': 28935, 'keera': 28936}\n",
            "{'karl': 28934, 'lary': 28935, 'keera': 28936}\n"
          ],
          "name": "stdout"
        }
      ]
    },
    {
      "cell_type": "code",
      "metadata": {
        "colab": {
          "base_uri": "https://localhost:8080/"
        },
        "id": "54xMlVqlHieg",
        "outputId": "d8a47712-dfb8-4a3f-a93a-ad8a948d8ee4"
      },
      "source": [
        "list1 = [\"Karl\",\"Larry\",\"Ana\",\"Zack\"]\n",
        "\n",
        "# Method 1: sort()\n",
        "list1.sort()\n",
        "\n",
        "# Method 2: sorted()\n",
        "sorted_list = sorted(list1)\n",
        "\n",
        "# Method 3: Brute Force Method \n",
        "size = len(list1)\n",
        "for i in range(size): \n",
        "  for j in range(size): \n",
        "    if list1[i] < list1[j]: \n",
        "       temp = list1[i] \n",
        "       list1[i] = list1[j] \n",
        "       list1[j] = temp\n",
        "print(list1)"
      ],
      "execution_count": 11,
      "outputs": [
        {
          "output_type": "stream",
          "text": [
            "['Ana', 'Karl', 'Larry', 'Zack']\n"
          ],
          "name": "stdout"
        }
      ]
    },
    {
      "cell_type": "code",
      "metadata": {
        "colab": {
          "base_uri": "https://localhost:8080/"
        },
        "id": "5q6GE6m1HjtN",
        "outputId": "753b3b7c-25b3-4b99-de31-18bacdb7a130"
      },
      "source": [
        "[\"Dvided By 5\" if i%5 == 0 else i for i in range(1,20)]"
      ],
      "execution_count": 12,
      "outputs": [
        {
          "output_type": "execute_result",
          "data": {
            "text/plain": [
              "[1,\n",
              " 2,\n",
              " 3,\n",
              " 4,\n",
              " 'Dvided By 5',\n",
              " 6,\n",
              " 7,\n",
              " 8,\n",
              " 9,\n",
              " 'Dvided By 5',\n",
              " 11,\n",
              " 12,\n",
              " 13,\n",
              " 14,\n",
              " 'Dvided By 5',\n",
              " 16,\n",
              " 17,\n",
              " 18,\n",
              " 19]"
            ]
          },
          "metadata": {
            "tags": []
          },
          "execution_count": 12
        }
      ]
    },
    {
      "cell_type": "code",
      "metadata": {
        "colab": {
          "base_uri": "https://localhost:8080/",
          "height": 37
        },
        "id": "lp-uBQdOHpjb",
        "outputId": "64505f82-3ead-4120-b8e1-4c62e35dce35"
      },
      "source": [
        "maths = [59, 64, 75, 86]\n",
        "physics = [78, 98, 56, 56] \n",
        "\n",
        "# Brute Force Method\n",
        "list1 = [\n",
        "  maths[0]+physics[0],\n",
        "  maths[1]+physics[1],\n",
        "  maths[2]+physics[2],\n",
        "  maths[3]+physics[3]\n",
        "]\n",
        "\n",
        "\n",
        "# List Comprehension\n",
        "list1 = [x + y for x,y in zip(maths,physics)]\n",
        "\n",
        "# Using Maps\n",
        "import operator \n",
        "all_devices = list(map(operator.add, maths, physics))\n",
        "\n",
        "# Using Numpy Library\n",
        "import numpy as np\n",
        "list1 = np.add(maths,physics)\n",
        "\n",
        "'''Output\n",
        "[137 162 131 142]\n",
        "'''"
      ],
      "execution_count": 13,
      "outputs": [
        {
          "output_type": "execute_result",
          "data": {
            "application/vnd.google.colaboratory.intrinsic+json": {
              "type": "string"
            },
            "text/plain": [
              "'Output\\n[137 162 131 142]\\n'"
            ]
          },
          "metadata": {
            "tags": []
          },
          "execution_count": 13
        }
      ]
    },
    {
      "cell_type": "code",
      "metadata": {
        "colab": {
          "base_uri": "https://localhost:8080/",
          "height": 54
        },
        "id": "bOh5JuThHrls",
        "outputId": "66ef241f-9895-4c28-82df-0a328819830d"
      },
      "source": [
        "dict1 = [\n",
        "    {\"Name\":\"Karl\",\n",
        "     \"Age\":25},\n",
        "     {\"Name\":\"Lary\",\n",
        "     \"Age\":39},\n",
        "     {\"Name\":\"Nina\",\n",
        "     \"Age\":35}\n",
        "]\n",
        "\n",
        "## Using sort()\n",
        "dict1.sort(key=lambda item: item.get(\"Age\"))\n",
        "\n",
        "# List sorting using itemgetter\n",
        "from operator import itemgetter\n",
        "f = itemgetter('Name')\n",
        "dict1.sort(key=f)\n",
        "\n",
        "\n",
        "# Iterable sorted function\n",
        "dict1 = sorted(dict1, key=lambda item: item.get(\"Age\"))\n",
        "\n",
        "'''Output\n",
        "[{'Age': 25, 'Name': 'Karl'},\n",
        " {'Age': 35, 'Name': 'Nina'},\n",
        " {'Age': 39, 'Name': 'Lary'}]\n",
        "'''"
      ],
      "execution_count": 14,
      "outputs": [
        {
          "output_type": "execute_result",
          "data": {
            "application/vnd.google.colaboratory.intrinsic+json": {
              "type": "string"
            },
            "text/plain": [
              "\"Output\\n[{'Age': 25, 'Name': 'Karl'},\\n {'Age': 35, 'Name': 'Nina'},\\n {'Age': 39, 'Name': 'Lary'}]\\n\""
            ]
          },
          "metadata": {
            "tags": []
          },
          "execution_count": 14
        }
      ]
    },
    {
      "cell_type": "code",
      "metadata": {
        "id": "QWtgKNmeHsxe"
      },
      "source": [
        "# METHOD 1\n",
        "import datetime\n",
        "start = datetime.datetime.now()\n",
        "\"\"\"\n",
        "CODE\n",
        "\"\"\"\n",
        "print(datetime.datetime.now()-start)\n",
        "\n",
        "# METHOD 2\n",
        "import time\n",
        "start_time = time.time()\n",
        "main()\n",
        "print(f\"Total Time To Execute The Code is {(time.time() - start_time)}\" )\n",
        "\n",
        "# METHOD 3\n",
        "import timeit\n",
        "code = '''\n",
        "## Code snippet whose execution time is to be measured\n",
        "[2,6,3,6,7,1,5,72,1].sort()\n",
        "'''\n",
        "print(timeit.timeit(stmy = code,number = 1000))"
      ],
      "execution_count": 16,
      "outputs": []
    },
    {
      "cell_type": "code",
      "metadata": {
        "colab": {
          "base_uri": "https://localhost:8080/",
          "height": 71
        },
        "id": "IWaXUPyeHuOP",
        "outputId": "80fedebe-d49b-4f5f-8669-cb5ad61dcbe1"
      },
      "source": [
        "\n",
        "addresses = [\n",
        "  \"12/45 Elm street\",\n",
        "  '34/56 Clark street',\n",
        "  '56,77 maple street',\n",
        "  '17/45 Elm street'\n",
        "\n",
        "]\n",
        "street = 'Elm street'\n",
        "for i in addresses:\n",
        "  if street in i:\n",
        "    print(i)\n",
        "\n",
        "'''output\n",
        "12/45 Elm street\n",
        "17/45 Elm street\n",
        "'''"
      ],
      "execution_count": 17,
      "outputs": [
        {
          "output_type": "stream",
          "text": [
            "12/45 Elm street\n",
            "17/45 Elm street\n"
          ],
          "name": "stdout"
        },
        {
          "output_type": "execute_result",
          "data": {
            "application/vnd.google.colaboratory.intrinsic+json": {
              "type": "string"
            },
            "text/plain": [
              "'output\\n12/45 Elm street\\n17/45 Elm street\\n'"
            ]
          },
          "metadata": {
            "tags": []
          },
          "execution_count": 17
        }
      ]
    },
    {
      "cell_type": "code",
      "metadata": {
        "colab": {
          "base_uri": "https://localhost:8080/"
        },
        "id": "BhkeWGDMHx9j",
        "outputId": "b2be0c54-5df7-45e9-b7fc-8ff77927cdb8"
      },
      "source": [
        "name = \"Abhay\"\n",
        "age = 21\n",
        "\n",
        "## METHOD 1: Concatenation\n",
        "print(\"My name is \"+name+\", and I am \"+str(age)+ \" years old.\")\n",
        "\n",
        "## METHOD 2: F-strings (Python 3+)\n",
        "print(f\"My name is {name}, and I am {age} years old\")\n",
        "\n",
        "## METHOD 3: Join\n",
        "print(''.join([\"My name is \", name, \", and I am \", str(age), \" years old\"]))\n",
        "\n",
        "## METHOD 4: modulus operator\n",
        "print(\"My name is %s, and I am %d years old.\" % (name, age))\n",
        "\n",
        "## METHOD 5: format(Python 2 and 3)\n",
        "print(\"My name is {}, and I am {} years old\".format(name, age))"
      ],
      "execution_count": 18,
      "outputs": [
        {
          "output_type": "stream",
          "text": [
            "My name is Abhay, and I am 21 years old.\n",
            "My name is Abhay, and I am 21 years old\n",
            "My name is Abhay, and I am 21 years old\n",
            "My name is Abhay, and I am 21 years old.\n",
            "My name is Abhay, and I am 21 years old\n"
          ],
          "name": "stdout"
        }
      ]
    },
    {
      "cell_type": "code",
      "metadata": {
        "colab": {
          "base_uri": "https://localhost:8080/"
        },
        "id": "_D9H2VVaHzyF",
        "outputId": "19811372-949a-42d7-a4ad-6bf7d2e6efac"
      },
      "source": [
        "# Example 1\n",
        "try:  \n",
        "    a = int(input(\"Enter a:\"))    \n",
        "    b = int(input(\"Enter b:\"))    \n",
        "    c = a/b  \n",
        "    print(c)\n",
        "except:  \n",
        "    print(\"Can't divide with zero\") \n",
        "    \n",
        "# Example 2\n",
        "try:    \n",
        "    #this will throw an exception if the file doesn't exist.     \n",
        "    fileptr = open(\"file.txt\",\"r\")    \n",
        "except IOError:    \n",
        "    print(\"File not found\")    \n",
        "else:    \n",
        "    print(\"The file opened successfully\")    \n",
        "    fileptr.close()  \n",
        "\n",
        "# Example 3\n",
        "try:\n",
        "  fptr = open(\"data.txt\",'r')\n",
        "  try:\n",
        "    fptr.write(\"Hello World!\")\n",
        "  finally:\n",
        "    fptr.close()\n",
        "    print(\"File Closed\")\n",
        "except:\n",
        "  print(\"Error\")\n",
        "  "
      ],
      "execution_count": 19,
      "outputs": [
        {
          "output_type": "stream",
          "text": [
            "Enter a:1\n",
            "Enter b:2\n",
            "0.5\n",
            "File not found\n",
            "Error\n"
          ],
          "name": "stdout"
        }
      ]
    },
    {
      "cell_type": "code",
      "metadata": {
        "id": "-hy2ehIWH1Ji"
      },
      "source": [
        "def most_frequent(nums):\n",
        "    return max(set(nums), key =nums.count)"
      ],
      "execution_count": 20,
      "outputs": []
    },
    {
      "cell_type": "code",
      "metadata": {
        "colab": {
          "base_uri": "https://localhost:8080/"
        },
        "id": "_Q-Uf8obH-dO",
        "outputId": "9f98a4f2-ecb1-4c03-be63-11a6cda47990"
      },
      "source": [
        "import operator\n",
        "\n",
        "action = {\n",
        "  \"+\" : operator.add,\n",
        "  \"-\" : operator.sub,\n",
        "  \"/\" : operator.truediv,\n",
        "  \"*\" : operator.mul,\n",
        "  \"**\" : pow\n",
        "}\n",
        "\n",
        "print(action['*'](5, 5))    # 25"
      ],
      "execution_count": 21,
      "outputs": [
        {
          "output_type": "stream",
          "text": [
            "25\n"
          ],
          "name": "stdout"
        }
      ]
    },
    {
      "cell_type": "code",
      "metadata": {
        "colab": {
          "base_uri": "https://localhost:8080/"
        },
        "id": "LuSPqjnLIc-8",
        "outputId": "cd197372-ac71-4676-819e-42cdc45bd47c"
      },
      "source": [
        "\n",
        "def add(a,b):\n",
        "  return a+b\n",
        "\n",
        "def sub(a,b):\n",
        "  return a-b\n",
        "\n",
        "a,b = 9,6\n",
        "print((sub if a > b else add)(a, b))"
      ],
      "execution_count": 22,
      "outputs": [
        {
          "output_type": "stream",
          "text": [
            "3\n"
          ],
          "name": "stdout"
        }
      ]
    },
    {
      "cell_type": "code",
      "metadata": {
        "colab": {
          "base_uri": "https://localhost:8080/"
        },
        "id": "nlvSgu52Id7Q",
        "outputId": "0db77936-f21f-49f7-c294-a0b4ab96f99c"
      },
      "source": [
        "a,b = 5,7\n",
        "\n",
        "# Method 1\n",
        "b,a = a,b\n",
        "\n",
        "# Method 2\n",
        "def swap(a,b):\n",
        "  return b,a\n",
        "swap(a,b)"
      ],
      "execution_count": 23,
      "outputs": [
        {
          "output_type": "execute_result",
          "data": {
            "text/plain": [
              "(5, 7)"
            ]
          },
          "metadata": {
            "tags": []
          },
          "execution_count": 23
        }
      ]
    },
    {
      "cell_type": "code",
      "metadata": {
        "colab": {
          "base_uri": "https://localhost:8080/"
        },
        "id": "iG_5rB-sIe9p",
        "outputId": "d6dd596e-9de7-4aa7-ad4e-776739900ed9"
      },
      "source": [
        "def has_duplicate(lst):\n",
        "    return len(lst) != len(set(lst))\n",
        "\n",
        "x = [1,2,2,4,3,5]\n",
        "y = [1,2,3,4,5]\n",
        "has_duplicate(x)\n",
        "has_duplicate(y)"
      ],
      "execution_count": 24,
      "outputs": [
        {
          "output_type": "execute_result",
          "data": {
            "text/plain": [
              "False"
            ]
          },
          "metadata": {
            "tags": []
          },
          "execution_count": 24
        }
      ]
    }
  ]
}