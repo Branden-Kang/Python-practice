{
  "nbformat": 4,
  "nbformat_minor": 0,
  "metadata": {
    "colab": {
      "name": "Writing a CSV splitter in Python.ipynb",
      "provenance": [],
      "authorship_tag": "ABX9TyN+48UK9lyfLVeIYQ/3fgVe"
    },
    "kernelspec": {
      "name": "python3",
      "display_name": "Python 3"
    },
    "language_info": {
      "name": "python"
    }
  },
  "cells": [
    {
      "cell_type": "markdown",
      "metadata": {
        "id": "i8aeZhiZ0k7L"
      },
      "source": [
        "[Reference](https://artwilton.medium.com/writing-a-csv-splitter-in-python-7cd1a42cb78)"
      ]
    },
    {
      "cell_type": "code",
      "metadata": {
        "id": "4XIdeC3d0jta"
      },
      "source": [
        "import csv\n",
        "\n",
        "def main():    \n",
        "    \n",
        "    csv_file_path = input('Enter csv file path: ')\n",
        "    split_threshold = int(input('Enter how many rows per CSV...'))    \n",
        "    \n",
        "    with open(csv_file_path) as csv_file:\n",
        "        csv_reader = csv.DictReader(csv_file)\n",
        "        column_headers = csv_reader.fieldnames\n",
        "        loop_through_csv(\n",
        "            csv_reader,\n",
        "            split_threshold,\n",
        "            column_headers\n",
        "        )\n",
        "        \n",
        "if __name__ == \"__main__\":\n",
        "    main()"
      ],
      "execution_count": 2,
      "outputs": []
    },
    {
      "cell_type": "code",
      "metadata": {
        "id": "O9yCGYW90olI"
      },
      "source": [
        "def write_new_csv(csv_file_write, column_headers, split_number):\n",
        "    writer = csv.DictWriter(csv_file_write, fieldnames=column_headers)\n",
        "    writer.writeheader()    \n",
        "    \n",
        "    return writer"
      ],
      "execution_count": 3,
      "outputs": []
    },
    {
      "cell_type": "code",
      "metadata": {
        "id": "4YmGsLTH03y3"
      },
      "source": [
        "def loop_through_csv(csv, split_threshold, column_headers):    \n",
        "    row_counter = 0\n",
        "    split_number = 0\n",
        "    write_csv = None    \n",
        "    \n",
        "    for row in csv:        \n",
        "        \n",
        "        if (row_counter == 0) or (row_counter == split_threshold):\n",
        "            if write_csv:\n",
        "                write_csv.close()            \n",
        "                \n",
        "            split_number += 1\n",
        "            write_csv = open(f'CSV_{split_number}.csv', 'w')\n",
        "            writer = write_new_csv(\n",
        "                         write_csv,\n",
        "                         column_headers,\n",
        "                         split_number\n",
        "                         )\n",
        "            writer.writerow(row)\n",
        "            row_counter = 0\n",
        "        else:\n",
        "            writer.writerow(row)        \n",
        "            \n",
        "        row_counter += 1"
      ],
      "execution_count": 4,
      "outputs": []
    },
    {
      "cell_type": "code",
      "metadata": {
        "id": "OwYEDqRn09pv"
      },
      "source": [
        "import csv\n",
        "\n",
        "def write_new_csv(csv_file_write, column_headers, split_number):\n",
        "\n",
        "    writer = csv.DictWriter(csv_file_write, fieldnames=column_headers)\n",
        "    writer.writeheader()\n",
        "\n",
        "    return writer\n",
        "\n",
        "def loop_through_csv(csv, split_threshold, column_headers):\n",
        "\n",
        "    row_counter = 0\n",
        "    split_number = 0\n",
        "    write_csv = None\n",
        "\n",
        "    for row in csv:\n",
        "\n",
        "        if (row_counter == 0) or (row_counter == split_threshold):\n",
        "\n",
        "            # close file if it already exists before writing to a new csv file\n",
        "            if write_csv:\n",
        "                write_csv.close()\n",
        "\n",
        "            split_number += 1\n",
        "            write_csv = open(f'CSV_{split_number}.csv', 'w')\n",
        "            writer = write_new_csv(write_csv, column_headers, split_number)\n",
        "            writer.writerow(row)\n",
        "            row_counter = 0\n",
        "        else:\n",
        "            writer.writerow(row)\n",
        "\n",
        "        row_counter += 1\n",
        "\n",
        "def main():\n",
        "\n",
        "    # grab inputs from user\n",
        "    csv_file_path = input('Enter csv file path: ')\n",
        "    split_threshold = int(input('Enter how many rows per CSV file you would like: '))\n",
        "\n",
        "    with open(csv_file_path) as csv_file:\n",
        "        csv_reader = csv.DictReader(csv_file)\n",
        "        column_headers = csv_reader.fieldnames\n",
        "        loop_through_csv(csv_reader, split_threshold, column_headers)\n",
        "\n",
        "if __name__ == \"__main__\":\n",
        "    main()"
      ],
      "execution_count": 5,
      "outputs": []
    }
  ]
}