{
  "nbformat": 4,
  "nbformat_minor": 0,
  "metadata": {
    "colab": {
      "name": "4 Rarely-Used Yet Very Useful Pandas Tricks.ipynb",
      "provenance": [],
      "authorship_tag": "ABX9TyMtCPNFr+7fbdG3Xq4DRTb+"
    },
    "kernelspec": {
      "name": "python3",
      "display_name": "Python 3"
    }
  },
  "cells": [
    {
      "cell_type": "markdown",
      "metadata": {
        "id": "OvyJ_wbm8Drc"
      },
      "source": [
        "[Reference](https://towardsdatascience.com/4-rarely-used-yet-very-useful-pandas-tricks-b43ef4b726fb)"
      ]
    },
    {
      "cell_type": "markdown",
      "metadata": {
        "id": "G0VzV7r18FtW"
      },
      "source": [
        "# NamedAgg"
      ]
    },
    {
      "cell_type": "code",
      "metadata": {
        "id": "yIVd2A_28BOs"
      },
      "source": [
        "import numpy as np\n",
        "import pandas as pd\n",
        "cats = pd.Series(list('abc')*3).sample(n=9).reset_index(drop=True)\n",
        "\n",
        "df = pd.DataFrame({\n",
        "                   'A': cats, \n",
        "                   'B': np.random.randint(1,10, size=9),\n",
        "                   'C': np.random.randint(1,20, size=9)\n",
        "                }\n",
        "            )"
      ],
      "execution_count": 2,
      "outputs": []
    },
    {
      "cell_type": "code",
      "metadata": {
        "colab": {
          "base_uri": "https://localhost:8080/",
          "height": 173
        },
        "id": "Gkett1Dm8G_p",
        "outputId": "ff017845-ac84-4313-adce-ba4d30154c5d"
      },
      "source": [
        "df.groupby('A').agg(\n",
        "      average_B = pd.NamedAgg('B','mean'),\n",
        "      total_C = pd.NamedAgg('C', 'sum')\n",
        "   )"
      ],
      "execution_count": 3,
      "outputs": [
        {
          "output_type": "execute_result",
          "data": {
            "text/html": [
              "<div>\n",
              "<style scoped>\n",
              "    .dataframe tbody tr th:only-of-type {\n",
              "        vertical-align: middle;\n",
              "    }\n",
              "\n",
              "    .dataframe tbody tr th {\n",
              "        vertical-align: top;\n",
              "    }\n",
              "\n",
              "    .dataframe thead th {\n",
              "        text-align: right;\n",
              "    }\n",
              "</style>\n",
              "<table border=\"1\" class=\"dataframe\">\n",
              "  <thead>\n",
              "    <tr style=\"text-align: right;\">\n",
              "      <th></th>\n",
              "      <th>average_B</th>\n",
              "      <th>total_C</th>\n",
              "    </tr>\n",
              "    <tr>\n",
              "      <th>A</th>\n",
              "      <th></th>\n",
              "      <th></th>\n",
              "    </tr>\n",
              "  </thead>\n",
              "  <tbody>\n",
              "    <tr>\n",
              "      <th>a</th>\n",
              "      <td>5.666667</td>\n",
              "      <td>44</td>\n",
              "    </tr>\n",
              "    <tr>\n",
              "      <th>b</th>\n",
              "      <td>3.666667</td>\n",
              "      <td>27</td>\n",
              "    </tr>\n",
              "    <tr>\n",
              "      <th>c</th>\n",
              "      <td>4.666667</td>\n",
              "      <td>24</td>\n",
              "    </tr>\n",
              "  </tbody>\n",
              "</table>\n",
              "</div>"
            ],
            "text/plain": [
              "   average_B  total_C\n",
              "A                    \n",
              "a   5.666667       44\n",
              "b   3.666667       27\n",
              "c   4.666667       24"
            ]
          },
          "metadata": {
            "tags": []
          },
          "execution_count": 3
        }
      ]
    },
    {
      "cell_type": "code",
      "metadata": {
        "id": "MPW63rGf8KRt"
      },
      "source": [
        "df['C'] = df.groupby('A').B.pipe(\n",
        "    lambda x: (\n",
        "        x.get_group('a') - x.get_group('b').mean()).\n",
        "    append(\n",
        "        x.get_group('b') - x.get_group('a').mean()\n",
        "    )\n",
        ")"
      ],
      "execution_count": 4,
      "outputs": []
    },
    {
      "cell_type": "code",
      "metadata": {
        "id": "R9FAqrbG8Lri"
      },
      "source": [
        "df['D'] = df['B'].where(df['B'] > 5, 5)"
      ],
      "execution_count": 5,
      "outputs": []
    },
    {
      "cell_type": "code",
      "metadata": {
        "colab": {
          "base_uri": "https://localhost:8080/"
        },
        "id": "q1oDIKtv8Nah",
        "outputId": "2c4e9f65-d769-4573-9009-4a7033319b0d"
      },
      "source": [
        "np.where(df['B'] > 5, df['B'], 0)"
      ],
      "execution_count": 6,
      "outputs": [
        {
          "output_type": "execute_result",
          "data": {
            "text/plain": [
              "array([0, 0, 0, 0, 7, 0, 8, 8, 0])"
            ]
          },
          "metadata": {
            "tags": []
          },
          "execution_count": 6
        }
      ]
    },
    {
      "cell_type": "code",
      "metadata": {
        "id": "pJw8w4oX8OhU"
      },
      "source": [
        "df2['Person_point'] = df2.lookup(df2.index, df2['Names'])"
      ],
      "execution_count": 8,
      "outputs": []
    }
  ]
}