{
  "nbformat": 4,
  "nbformat_minor": 0,
  "metadata": {
    "colab": {
      "name": "4 Special Methods in Python class.ipynb",
      "provenance": [],
      "authorship_tag": "ABX9TyNJ3n+SHwCEVY9NcHQFH6hO"
    },
    "kernelspec": {
      "name": "python3",
      "display_name": "Python 3"
    },
    "language_info": {
      "name": "python"
    }
  },
  "cells": [
    {
      "cell_type": "markdown",
      "metadata": {
        "id": "6SjbW1Ut7Nk4"
      },
      "source": [
        "[Reference](https://towardsdatascience.com/4-must-know-special-methods-for-python-2ffa62b59326)"
      ]
    },
    {
      "cell_type": "code",
      "metadata": {
        "id": "aeB4xmHM7Hjr"
      },
      "source": [
        "class Book():    \n",
        "    \n",
        "    def __init__(self, name, writer, pages):\n",
        "       self.name = name\n",
        "       self.writer = writer\n",
        "       self.pages = pages"
      ],
      "execution_count": 1,
      "outputs": []
    },
    {
      "cell_type": "code",
      "metadata": {
        "colab": {
          "base_uri": "https://localhost:8080/"
        },
        "id": "v4HQWnGP9XMF",
        "outputId": "78fcccec-c30d-449f-fa35-9dee6f795fe2"
      },
      "source": [
        "b = Book(\"Moby Dick\", \"Herman Melville\", \"378\")\n",
        "type(b)"
      ],
      "execution_count": 2,
      "outputs": [
        {
          "output_type": "execute_result",
          "data": {
            "text/plain": [
              "__main__.Book"
            ]
          },
          "metadata": {
            "tags": []
          },
          "execution_count": 2
        }
      ]
    },
    {
      "cell_type": "code",
      "metadata": {
        "colab": {
          "base_uri": "https://localhost:8080/"
        },
        "id": "qx_85iJD9YsA",
        "outputId": "704b612d-7820-4d5f-8640-f3f48f9a8a94"
      },
      "source": [
        "print(b)"
      ],
      "execution_count": 3,
      "outputs": [
        {
          "output_type": "stream",
          "text": [
            "<__main__.Book object at 0x7ff4b8e7c0d0>\n"
          ],
          "name": "stdout"
        }
      ]
    },
    {
      "cell_type": "code",
      "metadata": {
        "id": "f2-5YEWT9aWZ"
      },
      "source": [
        "class Book():    \n",
        "    \n",
        "    def __init__(self, name, writer, pages):\n",
        "       self.name = name\n",
        "       self.writer = writer\n",
        "       self.pages = pages\n",
        "\n",
        "    def __str__(self):\n",
        "        return f\"The title of the book is {self.name}\""
      ],
      "execution_count": 6,
      "outputs": []
    },
    {
      "cell_type": "code",
      "metadata": {
        "colab": {
          "base_uri": "https://localhost:8080/"
        },
        "id": "elvbNNkk9eeT",
        "outputId": "0a9520d7-decb-4b43-af39-c990ea6c7bf1"
      },
      "source": [
        "b = Book(\"Moby Dick\", \"Herman Melville\", \"378\")\n",
        "print(b)"
      ],
      "execution_count": 8,
      "outputs": [
        {
          "output_type": "stream",
          "text": [
            "The title of the book is Moby Dick\n"
          ],
          "name": "stdout"
        }
      ]
    },
    {
      "cell_type": "code",
      "metadata": {
        "id": "anJYiMrQ9gbs"
      },
      "source": [
        "class Book():    \n",
        "    \n",
        "    def __init__(self, name, writer, pages):\n",
        "       self.name = name\n",
        "       self.writer = writer\n",
        "       self.pages = pages\n",
        "\n",
        "    def __str__(self):\n",
        "        return f\"The title of the book is {self.name}\"\n",
        "\n",
        "    def __len__(self):\n",
        "        return int(self.pages)"
      ],
      "execution_count": 9,
      "outputs": []
    },
    {
      "cell_type": "code",
      "metadata": {
        "colab": {
          "base_uri": "https://localhost:8080/"
        },
        "id": "8TNJYVgr9s0n",
        "outputId": "3ac32be5-fd03-4965-a71a-595e06ceccb3"
      },
      "source": [
        "b = Book(\"Moby Dick\", \"Herman Melville\", \"378\")\n",
        "len(b)"
      ],
      "execution_count": 10,
      "outputs": [
        {
          "output_type": "execute_result",
          "data": {
            "text/plain": [
              "378"
            ]
          },
          "metadata": {
            "tags": []
          },
          "execution_count": 10
        }
      ]
    },
    {
      "cell_type": "code",
      "metadata": {
        "id": "RboHJlJi9u43"
      },
      "source": [
        "class Book():    \n",
        "    \n",
        "    def __init__(self, name, writer, pages):\n",
        "       self.name = name\n",
        "       self.writer = writer\n",
        "       self.pages = pages\n",
        "\n",
        "    def __str__(self):\n",
        "        return f\"The title of the book is {self.name}\"\n",
        "\n",
        "    def __len__(self):\n",
        "        return int(self.pages)\n",
        "\n",
        "    def __eq__(self, other):\n",
        "        return (self.name == other.name) & (self.writer == other.writer)"
      ],
      "execution_count": 11,
      "outputs": []
    },
    {
      "cell_type": "code",
      "metadata": {
        "colab": {
          "base_uri": "https://localhost:8080/"
        },
        "id": "6tTMnjL69yZz",
        "outputId": "7fc5f415-ab94-49dd-d5d6-49576b6c1250"
      },
      "source": [
        "b = Book(\"Moby Dick\", \"Herman Melville\", \"378\")\n",
        "a = Book(\"Moby Dick\", \"Herman Melville\", \"410\")\n",
        "b == a"
      ],
      "execution_count": 12,
      "outputs": [
        {
          "output_type": "execute_result",
          "data": {
            "text/plain": [
              "True"
            ]
          },
          "metadata": {
            "tags": []
          },
          "execution_count": 12
        }
      ]
    }
  ]
}