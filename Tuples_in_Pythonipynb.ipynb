{
  "nbformat": 4,
  "nbformat_minor": 0,
  "metadata": {
    "colab": {
      "name": "Tuples in Pythonipynb",
      "provenance": [],
      "authorship_tag": "ABX9TyMPrBoDE4LU+AwrBLJbQsIY"
    },
    "kernelspec": {
      "name": "python3",
      "display_name": "Python 3"
    }
  },
  "cells": [
    {
      "cell_type": "markdown",
      "metadata": {
        "id": "lWLStY0B9f7T"
      },
      "source": [
        "[Reference](https://medium.com/better-programming/5-things-to-know-to-level-up-your-skills-with-tuples-in-python-6e7c1dc16945)"
      ]
    },
    {
      "cell_type": "markdown",
      "metadata": {
        "id": "vgDvTNdE9jXa"
      },
      "source": [
        "There are four containers: tuple, list, dict, and set."
      ]
    },
    {
      "cell_type": "markdown",
      "metadata": {
        "id": "ki7vCHSn-Nlp"
      },
      "source": [
        "# 1. Multiple-Variable Assignment"
      ]
    },
    {
      "cell_type": "code",
      "metadata": {
        "id": "2fBq2-h4-XO2",
        "outputId": "cd0461bb-e834-4b34-9ff0-95c741a4bbe4",
        "colab": {
          "base_uri": "https://localhost:8080/",
          "height": 51
        }
      },
      "source": [
        "a = 3\n",
        "b = 'Three'\n",
        "a, b = b, a\n",
        "print(a)\n",
        "print(b)"
      ],
      "execution_count": 2,
      "outputs": [
        {
          "output_type": "stream",
          "text": [
            "Three\n",
            "3\n"
          ],
          "name": "stdout"
        }
      ]
    },
    {
      "cell_type": "code",
      "metadata": {
        "id": "TCYspYQq-ps-",
        "outputId": "2479a0b8-d152-4276-e3e9-35282ae8e959",
        "colab": {
          "base_uri": "https://localhost:8080/",
          "height": 34
        }
      },
      "source": [
        "c = 1,\n",
        "type(c)"
      ],
      "execution_count": 3,
      "outputs": [
        {
          "output_type": "execute_result",
          "data": {
            "text/plain": [
              "tuple"
            ]
          },
          "metadata": {
            "tags": []
          },
          "execution_count": 3
        }
      ]
    },
    {
      "cell_type": "code",
      "metadata": {
        "id": "mo3ioIsB_Tlm",
        "outputId": "c5caa59e-9080-4a86-8a7f-2557737dff6d",
        "colab": {
          "base_uri": "https://localhost:8080/",
          "height": 34
        }
      },
      "source": [
        "d = 1,2\n",
        "type(d)"
      ],
      "execution_count": 4,
      "outputs": [
        {
          "output_type": "execute_result",
          "data": {
            "text/plain": [
              "tuple"
            ]
          },
          "metadata": {
            "tags": []
          },
          "execution_count": 4
        }
      ]
    },
    {
      "cell_type": "code",
      "metadata": {
        "id": "i4gA7Gaz_VpM",
        "outputId": "dc2114fe-7d71-4e93-bad9-14d50d9bab95",
        "colab": {
          "base_uri": "https://localhost:8080/",
          "height": 68
        }
      },
      "source": [
        "e, f, g  = (1, 3, 5)\n",
        "print(f\"e: {e}\\nf: {f}\\ng: {g}\")"
      ],
      "execution_count": 6,
      "outputs": [
        {
          "output_type": "stream",
          "text": [
            "e: 1\n",
            "f: 3\n",
            "g: 5\n"
          ],
          "name": "stdout"
        }
      ]
    },
    {
      "cell_type": "code",
      "metadata": {
        "id": "lSuGtZ-y_4kP",
        "outputId": "dd6988dc-c98b-4290-a49d-14ee68de2e34",
        "colab": {
          "base_uri": "https://localhost:8080/",
          "height": 51
        }
      },
      "source": [
        "error_code, message = 404, \"Not Found\"\n",
        "print(f\"error code is {error_code}\\nmessage is {message!r}\")"
      ],
      "execution_count": 9,
      "outputs": [
        {
          "output_type": "stream",
          "text": [
            "error code is 404\n",
            "message is 'Not Found'\n"
          ],
          "name": "stdout"
        }
      ]
    },
    {
      "cell_type": "markdown",
      "metadata": {
        "id": "kaKIjaS8Aol8"
      },
      "source": [
        "# 2. Unpacking With _ and *"
      ]
    },
    {
      "cell_type": "code",
      "metadata": {
        "id": "nlXSze6tAUO3",
        "outputId": "34f878b5-38c7-45c2-cb15-549a4a92ccbb",
        "colab": {
          "base_uri": "https://localhost:8080/",
          "height": 51
        }
      },
      "source": [
        "http_response = (200, \"The email has been validated\")\n",
        "_, message = http_response\n",
        "print(message)\n",
        "print(_)"
      ],
      "execution_count": 10,
      "outputs": [
        {
          "output_type": "stream",
          "text": [
            "The email has been validated\n",
            "200\n"
          ],
          "name": "stdout"
        }
      ]
    },
    {
      "cell_type": "code",
      "metadata": {
        "id": "4A03obUmAyt6",
        "outputId": "75547d01-b2ce-47fd-9b66-97700a798fb5",
        "colab": {
          "base_uri": "https://localhost:8080/",
          "height": 68
        }
      },
      "source": [
        "scores = (8.9, 9.2, 9.3, 9.4, 9.5, 9.9)\n",
        "min_score, *valid_scores, max_score = scores\n",
        "print(f\"min score: {min_score}\\nvalid scores: {valid_scores}\\nmax score: {max_score}\")"
      ],
      "execution_count": 11,
      "outputs": [
        {
          "output_type": "stream",
          "text": [
            "min score: 8.9\n",
            "valid scores: [9.2, 9.3, 9.4, 9.5]\n",
            "max score: 9.9\n"
          ],
          "name": "stdout"
        }
      ]
    },
    {
      "cell_type": "code",
      "metadata": {
        "id": "rAzzYm37BEty",
        "outputId": "e535e954-d385-43a4-ca6d-b97fbe2023e1",
        "colab": {
          "base_uri": "https://localhost:8080/",
          "height": 34
        }
      },
      "source": [
        "*valid_scores, max_score = scores\n",
        "valid_scores\n",
        "_, *valid_scores = scores\n",
        "valid_scores"
      ],
      "execution_count": 12,
      "outputs": [
        {
          "output_type": "execute_result",
          "data": {
            "text/plain": [
              "[9.2, 9.3, 9.4, 9.5, 9.9]"
            ]
          },
          "metadata": {
            "tags": []
          },
          "execution_count": 12
        }
      ]
    },
    {
      "cell_type": "markdown",
      "metadata": {
        "id": "LQS6k1e9BTT7"
      },
      "source": [
        "# 3. Variable Positional Arguments in Functions"
      ]
    },
    {
      "cell_type": "code",
      "metadata": {
        "id": "hDR3GadYBI3M",
        "outputId": "87d4aec8-5fc7-4dc9-f506-36039dab9929",
        "colab": {
          "base_uri": "https://localhost:8080/",
          "height": 130
        }
      },
      "source": [
        "*valid_scores = scores"
      ],
      "execution_count": 13,
      "outputs": [
        {
          "output_type": "error",
          "ename": "SyntaxError",
          "evalue": "ignored",
          "traceback": [
            "\u001b[0;36m  File \u001b[0;32m\"<ipython-input-13-99592b18fe96>\"\u001b[0;36m, line \u001b[0;32m1\u001b[0m\n\u001b[0;31m    *valid_scores = scores\u001b[0m\n\u001b[0m                          ^\u001b[0m\n\u001b[0;31mSyntaxError\u001b[0m\u001b[0;31m:\u001b[0m starred assignment target must be in a list or tuple\n"
          ]
        }
      ]
    },
    {
      "cell_type": "markdown",
      "metadata": {
        "id": "3gTGc_RCBgi4"
      },
      "source": [
        "Solution:"
      ]
    },
    {
      "cell_type": "code",
      "metadata": {
        "id": "W31FXokrBW8w",
        "outputId": "dd1b529b-cbc9-48d0-a627-ea06ce385038",
        "colab": {
          "base_uri": "https://localhost:8080/",
          "height": 34
        }
      },
      "source": [
        "*valid_scores, = scores\n",
        "valid_scores"
      ],
      "execution_count": 15,
      "outputs": [
        {
          "output_type": "execute_result",
          "data": {
            "text/plain": [
              "[8.9, 9.2, 9.3, 9.4, 9.5, 9.9]"
            ]
          },
          "metadata": {
            "tags": []
          },
          "execution_count": 15
        }
      ]
    },
    {
      "cell_type": "code",
      "metadata": {
        "id": "jqx46SsnBkGC",
        "outputId": "2d103153-a1cd-40f0-9f1f-3e1e1405a12e",
        "colab": {
          "base_uri": "https://localhost:8080/",
          "height": 51
        }
      },
      "source": [
        "def calc_mean(*numbers):\n",
        "    print(f\"{type(numbers)} | {numbers}\")\n",
        "    average = sum(numbers)/len(numbers)\n",
        "    return average\n",
        "\n",
        "calc_mean(1,2,3,4,5)"
      ],
      "execution_count": 17,
      "outputs": [
        {
          "output_type": "stream",
          "text": [
            "<class 'tuple'> | (1, 2, 3, 4, 5)\n"
          ],
          "name": "stdout"
        },
        {
          "output_type": "execute_result",
          "data": {
            "text/plain": [
              "3.0"
            ]
          },
          "metadata": {
            "tags": []
          },
          "execution_count": 17
        }
      ]
    },
    {
      "cell_type": "markdown",
      "metadata": {
        "id": "gETZRUapB4LQ"
      },
      "source": [
        "# 4. Relative Immutability"
      ]
    },
    {
      "cell_type": "code",
      "metadata": {
        "id": "bT9PWX34BzDL",
        "outputId": "c4dd2149-8923-4e96-805d-c5e3d0928d59",
        "colab": {
          "base_uri": "https://localhost:8080/",
          "height": 215
        }
      },
      "source": [
        "http_response = (200, \"Data Fetched\")\n",
        "http_response[1] = \"New Data Fetched\""
      ],
      "execution_count": 18,
      "outputs": [
        {
          "output_type": "error",
          "ename": "TypeError",
          "evalue": "ignored",
          "traceback": [
            "\u001b[0;31m---------------------------------------------------------------------------\u001b[0m",
            "\u001b[0;31mTypeError\u001b[0m                                 Traceback (most recent call last)",
            "\u001b[0;32m<ipython-input-18-8cfbc6cf9580>\u001b[0m in \u001b[0;36m<module>\u001b[0;34m()\u001b[0m\n\u001b[1;32m      1\u001b[0m \u001b[0mhttp_response\u001b[0m \u001b[0;34m=\u001b[0m \u001b[0;34m(\u001b[0m\u001b[0;36m200\u001b[0m\u001b[0;34m,\u001b[0m \u001b[0;34m\"Data Fetched\"\u001b[0m\u001b[0;34m)\u001b[0m\u001b[0;34m\u001b[0m\u001b[0;34m\u001b[0m\u001b[0m\n\u001b[0;32m----> 2\u001b[0;31m \u001b[0mhttp_response\u001b[0m\u001b[0;34m[\u001b[0m\u001b[0;36m1\u001b[0m\u001b[0;34m]\u001b[0m \u001b[0;34m=\u001b[0m \u001b[0;34m\"New Data Fetched\"\u001b[0m\u001b[0;34m\u001b[0m\u001b[0;34m\u001b[0m\u001b[0m\n\u001b[0m",
            "\u001b[0;31mTypeError\u001b[0m: 'tuple' object does not support item assignment"
          ]
        }
      ]
    },
    {
      "cell_type": "markdown",
      "metadata": {
        "id": "oyH_AcJ9CLdr"
      },
      "source": [
        "solution:"
      ]
    },
    {
      "cell_type": "code",
      "metadata": {
        "id": "3XQc__OLCJIG",
        "outputId": "a5b6b6bd-db23-44bd-e314-7506ab27732a",
        "colab": {
          "base_uri": "https://localhost:8080/",
          "height": 34
        }
      },
      "source": [
        "http_response1 = (200, [1, 2, 3])\n",
        "http_response1[1].append(4)\n",
        "http_response1"
      ],
      "execution_count": 19,
      "outputs": [
        {
          "output_type": "execute_result",
          "data": {
            "text/plain": [
              "(200, [1, 2, 3, 4])"
            ]
          },
          "metadata": {
            "tags": []
          },
          "execution_count": 19
        }
      ]
    },
    {
      "cell_type": "code",
      "metadata": {
        "id": "_I3eX_r7COws",
        "outputId": "ad5b96bf-f17f-4dc4-bcb9-348ae7441e1d",
        "colab": {
          "base_uri": "https://localhost:8080/",
          "height": 34
        }
      },
      "source": [
        "http_response2 = (200, {1: 'one'})\n",
        "http_response2[1][2] = 'two'\n",
        "http_response2"
      ],
      "execution_count": 20,
      "outputs": [
        {
          "output_type": "execute_result",
          "data": {
            "text/plain": [
              "(200, {1: 'one', 2: 'two'})"
            ]
          },
          "metadata": {
            "tags": []
          },
          "execution_count": 20
        }
      ]
    },
    {
      "cell_type": "code",
      "metadata": {
        "id": "Fz8ktY1BCRzz",
        "outputId": "09fb8ad5-98fb-4470-9891-c371b4b863d2",
        "colab": {
          "base_uri": "https://localhost:8080/",
          "height": 34
        }
      },
      "source": [
        "http_response1 = (200, [1, 2, 3])\n",
        "id(http_response1[1])"
      ],
      "execution_count": 21,
      "outputs": [
        {
          "output_type": "execute_result",
          "data": {
            "text/plain": [
              "140162666969672"
            ]
          },
          "metadata": {
            "tags": []
          },
          "execution_count": 21
        }
      ]
    },
    {
      "cell_type": "code",
      "metadata": {
        "id": "4D93V95ACZ8p",
        "outputId": "70afb975-4a43-445b-e107-49f178d0a114",
        "colab": {
          "base_uri": "https://localhost:8080/",
          "height": 34
        }
      },
      "source": [
        "http_response1[1].append(4)\n",
        "http_response1\n",
        "id(http_response1[1])"
      ],
      "execution_count": 22,
      "outputs": [
        {
          "output_type": "execute_result",
          "data": {
            "text/plain": [
              "140162666969672"
            ]
          },
          "metadata": {
            "tags": []
          },
          "execution_count": 22
        }
      ]
    },
    {
      "cell_type": "markdown",
      "metadata": {
        "id": "lwcWf1g-CebV"
      },
      "source": [
        "# 5. Named Tuples"
      ]
    },
    {
      "cell_type": "code",
      "metadata": {
        "id": "FOXJ-n70CcpQ",
        "outputId": "f186f2b7-a227-4242-9597-0763898fc443",
        "colab": {
          "base_uri": "https://localhost:8080/",
          "height": 68
        }
      },
      "source": [
        "student = (\"John Smith\", 17, 178044)\n",
        "print(f\"name: {student[0]}\\nage: {student[1]}\\nstudent id: {student[2]}\")"
      ],
      "execution_count": 25,
      "outputs": [
        {
          "output_type": "stream",
          "text": [
            "name: John Smith\n",
            "age: 17\n",
            "student id: 178044\n"
          ],
          "name": "stdout"
        }
      ]
    },
    {
      "cell_type": "code",
      "metadata": {
        "id": "vNlyMRzRCifZ",
        "outputId": "5a0b17fe-ef1f-4af2-fbc2-0cef89313f4b",
        "colab": {
          "base_uri": "https://localhost:8080/",
          "height": 68
        }
      },
      "source": [
        "from collections import namedtuple\n",
        "Student = namedtuple(\"Student\", \"name age student_id\")\n",
        "student = Student(\"John Smith\", 17, 178044)\n",
        "print(f\"name: {student.name}\\nage: {student.age}\\nstudent id: {student.student_id}\")"
      ],
      "execution_count": 26,
      "outputs": [
        {
          "output_type": "stream",
          "text": [
            "name: John Smith\n",
            "age: 17\n",
            "student id: 178044\n"
          ],
          "name": "stdout"
        }
      ]
    },
    {
      "cell_type": "code",
      "metadata": {
        "id": "L-qh4ZYZDC1n",
        "outputId": "f4c56528-4172-4aaa-89dd-0a5275994731",
        "colab": {
          "base_uri": "https://localhost:8080/",
          "height": 68
        }
      },
      "source": [
        "from collections import namedtuple\n",
        "Student = namedtuple(\"Student\", [\"name\", \"age\", \"student_id\"])\n",
        "student = Student(\"John Smith\", 17, 178044)\n",
        "print(f\"name: {student.name}\\nage: {student.age}\\nstudent id: {student.student_id}\")"
      ],
      "execution_count": 27,
      "outputs": [
        {
          "output_type": "stream",
          "text": [
            "name: John Smith\n",
            "age: 17\n",
            "student id: 178044\n"
          ],
          "name": "stdout"
        }
      ]
    },
    {
      "cell_type": "code",
      "metadata": {
        "id": "EP__E_qhDKry",
        "outputId": "fe580c71-fa05-4052-9656-70aaf6ffaff7",
        "colab": {
          "base_uri": "https://localhost:8080/",
          "height": 51
        }
      },
      "source": [
        "print(issubclass(Student, tuple))\n",
        "print(isinstance(student, tuple))"
      ],
      "execution_count": 28,
      "outputs": [
        {
          "output_type": "stream",
          "text": [
            "True\n",
            "True\n"
          ],
          "name": "stdout"
        }
      ]
    }
  ]
}