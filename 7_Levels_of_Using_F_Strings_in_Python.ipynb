{
  "nbformat": 4,
  "nbformat_minor": 0,
  "metadata": {
    "colab": {
      "name": "7 Levels of Using F-Strings in Python.ipynb",
      "provenance": [],
      "authorship_tag": "ABX9TyN4KKGpsVg8gOePbNmre7wX"
    },
    "kernelspec": {
      "name": "python3",
      "display_name": "Python 3"
    },
    "language_info": {
      "name": "python"
    }
  },
  "cells": [
    {
      "cell_type": "markdown",
      "metadata": {
        "id": "c5GpieCSDdyE"
      },
      "source": [
        "[Reference](https://medium.com/techtofreedom/7-levels-of-using-f-strings-in-python-99b11707d14b)"
      ]
    },
    {
      "cell_type": "code",
      "metadata": {
        "colab": {
          "base_uri": "https://localhost:8080/"
        },
        "id": "QQbX2G2xDbEX",
        "outputId": "12c971ee-d3fd-4121-8fcd-38a7bea3cbad"
      },
      "source": [
        "name = 'Yang'\n",
        "title = 'full stack hacker'\n",
        "print(f'{name} is a {title}.')"
      ],
      "execution_count": 1,
      "outputs": [
        {
          "output_type": "stream",
          "text": [
            "Yang is a full stack hacker.\n"
          ],
          "name": "stdout"
        }
      ]
    },
    {
      "cell_type": "code",
      "metadata": {
        "colab": {
          "base_uri": "https://localhost:8080/"
        },
        "id": "6z0sTrVXDh61",
        "outputId": "e97a7a4e-f00f-4e8a-8d2b-83644c3328e8"
      },
      "source": [
        "pi = 3.1415926\n",
        "print(f'Pi is approximately equal to {pi:.2f}')\n",
        "# Pi is approximately equal to 3.14\n",
        "\n",
        "id = 1  # need to print a 3-digit number\n",
        "print(f\"The id is {id:03d}\")\n",
        "# The id is 001\n",
        "\n",
        "N = 1000000000  # need to add separator\n",
        "print(f'His networth is ${N:,d}')"
      ],
      "execution_count": 2,
      "outputs": [
        {
          "output_type": "stream",
          "text": [
            "Pi is approximately equal to 3.14\n",
            "The id is 001\n",
            "His networth is $1,000,000,000\n"
          ],
          "name": "stdout"
        }
      ]
    },
    {
      "cell_type": "code",
      "metadata": {
        "colab": {
          "base_uri": "https://localhost:8080/",
          "height": 130
        },
        "id": "TsREHxY-DjeP",
        "outputId": "30c5c140-e616-46f3-b6a5-94d573229d12"
      },
      "source": [
        "name = 'Yang'\n",
        "# Correct Way:\n",
        "print(f'\\'{name}\\' is a full stack hacker.')\n",
        "# 'Yang' is a full stack hacker.\n",
        "\n",
        "# Wrong Way:\n",
        "print(f'{\\'name\\'} is a full stack hacker.')"
      ],
      "execution_count": 3,
      "outputs": [
        {
          "output_type": "error",
          "ename": "SyntaxError",
          "evalue": "ignored",
          "traceback": [
            "\u001b[0;36m  File \u001b[0;32m\"<ipython-input-3-021ba2e2844e>\"\u001b[0;36m, line \u001b[0;32m7\u001b[0m\n\u001b[0;31m    print(f'{\\'name\\'} is a full stack hacker.')\u001b[0m\n\u001b[0m         ^\u001b[0m\n\u001b[0;31mSyntaxError\u001b[0m\u001b[0;31m:\u001b[0m f-string expression part cannot include a backslash\n"
          ]
        }
      ]
    },
    {
      "cell_type": "code",
      "metadata": {
        "colab": {
          "base_uri": "https://localhost:8080/"
        },
        "id": "E4IFytXNDlDX",
        "outputId": "e58bb167-c70d-4a45-d3bc-007471ac9bdb"
      },
      "source": [
        "name = 'Yang'\n",
        "\n",
        "# 1\n",
        "print(f'{name} is a full stack hacker.')\n",
        "# 'Yang' is a full stack hacker.\n",
        "\n",
        "# 2\n",
        "print(f'{{name}} is a full stack hacker.')\n",
        "# {name} is a full stack hacker.\n",
        "\n",
        "# 3\n",
        "print(f'{{{name}}} is a full stack hacker.')\n",
        "# {Yang} is a full stack hacker.\n",
        "\n",
        "# 4\n",
        "print(f'{{{{name}}}} is a full stack hacker.')\n",
        "# {{name}} is a full stack hacker.\n",
        "\n",
        "# 5\n",
        "print(f'{{{{{name}}}}} is a full stack hacker.')\n",
        "# {{Yang}} is a full stack hacker."
      ],
      "execution_count": 4,
      "outputs": [
        {
          "output_type": "stream",
          "text": [
            "Yang is a full stack hacker.\n",
            "{name} is a full stack hacker.\n",
            "{Yang} is a full stack hacker.\n",
            "{{name}} is a full stack hacker.\n",
            "{{Yang}} is a full stack hacker.\n"
          ],
          "name": "stdout"
        }
      ]
    },
    {
      "cell_type": "code",
      "metadata": {
        "colab": {
          "base_uri": "https://localhost:8080/",
          "height": 130
        },
        "id": "uajlmBgNDp9c",
        "outputId": "d344d5e2-f1c8-4f75-8c1c-1891be5b7158"
      },
      "source": [
        "name = 'Yang'\n",
        "\n",
        "print(f'\\\\{name}\\\\ is a full \\\\stack hacker.')\n",
        "# \\Yang\\ is a full \\stack hacker.\n",
        "\n",
        "print(f'{\\\\name\\\\} is a full \\\\stack hacker.')\n",
        "# SyntaxError: f-string expression part cannot include a backslash"
      ],
      "execution_count": 5,
      "outputs": [
        {
          "output_type": "error",
          "ename": "SyntaxError",
          "evalue": "ignored",
          "traceback": [
            "\u001b[0;36m  File \u001b[0;32m\"<ipython-input-5-0e9819508cf0>\"\u001b[0;36m, line \u001b[0;32m6\u001b[0m\n\u001b[0;31m    print(f'{\\\\name\\\\} is a full \\\\stack hacker.')\u001b[0m\n\u001b[0m         ^\u001b[0m\n\u001b[0;31mSyntaxError\u001b[0m\u001b[0;31m:\u001b[0m f-string expression part cannot include a backslash\n"
          ]
        }
      ]
    },
    {
      "cell_type": "code",
      "metadata": {
        "colab": {
          "base_uri": "https://localhost:8080/",
          "height": 130
        },
        "id": "BmUtSLSBDrNC",
        "outputId": "8713b2e3-c8ed-46b5-a58a-ea283b825dbd"
      },
      "source": [
        "Hacker = {'name': 'Yang'}\n",
        "\n",
        "print(f\"{Hacker['name']} is a hacker\")\n",
        "# Yang is a hacker\n",
        "print(f'{Hacker[\"name\"]} is a hacker')\n",
        "# Yang is a hacker\n",
        "print(f'{Hacker['name']} is a hacker')\n",
        "# SyntaxError: invalid syntax\n",
        "print(f\"{Hacker[\"name\"]} is a hacker\")"
      ],
      "execution_count": 6,
      "outputs": [
        {
          "output_type": "error",
          "ename": "SyntaxError",
          "evalue": "ignored",
          "traceback": [
            "\u001b[0;36m  File \u001b[0;32m\"<ipython-input-6-1a422aac7d54>\"\u001b[0;36m, line \u001b[0;32m7\u001b[0m\n\u001b[0;31m    print(f'{Hacker['name']} is a hacker')\u001b[0m\n\u001b[0m                        ^\u001b[0m\n\u001b[0;31mSyntaxError\u001b[0m\u001b[0;31m:\u001b[0m invalid syntax\n"
          ]
        }
      ]
    },
    {
      "cell_type": "code",
      "metadata": {
        "colab": {
          "base_uri": "https://localhost:8080/"
        },
        "id": "U73qipbSDsfT",
        "outputId": "2cfb786f-00c8-4083-f7b6-6606b29b51bd"
      },
      "source": [
        "name = 'Yang'\n",
        "\n",
        "# wrong way\n",
        "print(f\"{name} is a hacker.\"\n",
        "      \"{name} is also a top writer.\"\n",
        "      \"{name} writes on Medium.\"\n",
        "      )\n",
        "# Yang is a hacker.{name} is also a top writer.{name} writes on Medium.\n",
        "\n",
        "# correct way\n",
        "print(f\"{name} is a hacker.\"\n",
        "      f\"{name} is also a top writer.\"\n",
        "      f\"{name} writes on Medium.\"\n",
        "      )"
      ],
      "execution_count": 7,
      "outputs": [
        {
          "output_type": "stream",
          "text": [
            "Yang is a hacker.{name} is also a top writer.{name} writes on Medium.\n",
            "Yang is a hacker.Yang is also a top writer.Yang writes on Medium.\n"
          ],
          "name": "stdout"
        }
      ]
    },
    {
      "cell_type": "code",
      "metadata": {
        "colab": {
          "base_uri": "https://localhost:8080/"
        },
        "id": "6RaHc88JDt33",
        "outputId": "1e2ea4d9-49c6-4ab1-a5ea-48360de68e01"
      },
      "source": [
        "from datetime import datetime\n",
        "today = datetime.today()\n",
        "print(f\"Today is {today}\")\n",
        "print(f\"Today is {today:%B %d, %Y}\")\n",
        "print(f\"Today is {today:%m-%d-%Y}\")"
      ],
      "execution_count": 8,
      "outputs": [
        {
          "output_type": "stream",
          "text": [
            "Today is 2021-08-03 12:48:36.688262\n",
            "Today is August 03, 2021\n",
            "Today is 08-03-2021\n"
          ],
          "name": "stdout"
        }
      ]
    },
    {
      "cell_type": "code",
      "metadata": {
        "colab": {
          "base_uri": "https://localhost:8080/"
        },
        "id": "UN6Fexr5DwFD",
        "outputId": "97bb437e-5df0-4f53-a292-0ad56586a585"
      },
      "source": [
        "from datetime import datetime\n",
        "\n",
        "print(f\"Today is {datetime.today()}\")"
      ],
      "execution_count": 9,
      "outputs": [
        {
          "output_type": "stream",
          "text": [
            "Today is 2021-08-03 12:48:41.737918\n"
          ],
          "name": "stdout"
        }
      ]
    }
  ]
}