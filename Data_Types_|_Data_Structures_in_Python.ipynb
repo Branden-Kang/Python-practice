{
  "nbformat": 4,
  "nbformat_minor": 0,
  "metadata": {
    "colab": {
      "name": "Data Types | Data Structures in Python.ipynb",
      "provenance": [],
      "authorship_tag": "ABX9TyMTisRAmDMo+3FQZ3nFHdy/"
    },
    "kernelspec": {
      "name": "python3",
      "display_name": "Python 3"
    },
    "language_info": {
      "name": "python"
    }
  },
  "cells": [
    {
      "cell_type": "markdown",
      "metadata": {
        "id": "RPFYBjG2vKpC"
      },
      "source": [
        "[Reference](https://alexander-aw-wagner.medium.com/python-course-part-03-26b38ac736a2)"
      ]
    },
    {
      "cell_type": "code",
      "metadata": {
        "colab": {
          "base_uri": "https://localhost:8080/"
        },
        "id": "80xzIVlXtf9L",
        "outputId": "19df6207-a992-43a5-a240-cc487c672149"
      },
      "source": [
        "x=7\n",
        "print(\"Variable x: \",x)\n",
        "\n",
        "y=3\n",
        "print(\"Variable y: \",y)\n",
        "\n",
        "a=-x\n",
        "print(\"Negation -x: \",a)\n",
        "\n",
        "b=x+y\n",
        "print(\"Addition x+y: \",b)\n",
        "\n",
        "c=x-y\n",
        "print(\"Subtraction x-y: \",c)\n",
        "\n",
        "d=x*y\n",
        "print(\"Multiplication x*y:\",d)\n",
        "\n",
        "e=x/y\n",
        "print(\"Division x/y:\",e)\n",
        "\n",
        "f=x**y\n",
        "print(\"Power x**y:\",f)\n",
        "\n",
        "g=x%y\n",
        "print(\"Remainder of integer division x%y:\",g)\n",
        "\n",
        "h=x//y\n",
        "print(\"Integer division x//y:\",h)"
      ],
      "execution_count": 1,
      "outputs": [
        {
          "output_type": "stream",
          "text": [
            "Variable x:  7\n",
            "Variable y:  3\n",
            "Negation -x:  -7\n",
            "Addition x+y:  10\n",
            "Subtraction x-y:  4\n",
            "Multiplication x*y: 21\n",
            "Division x/y: 2.3333333333333335\n",
            "Power x**y: 343\n",
            "Remainder of integer division x%y: 1\n",
            "Integer division x//y: 2\n"
          ],
          "name": "stdout"
        }
      ]
    },
    {
      "cell_type": "code",
      "metadata": {
        "colab": {
          "base_uri": "https://localhost:8080/"
        },
        "id": "mA6cyFYGtj_O",
        "outputId": "e1807e63-2d4b-4076-89ec-1ed422333618"
      },
      "source": [
        "a=4\n",
        "b=7.2\n",
        "c=-6.1\n",
        "d=4.0\n",
        "\n",
        "print(\"a==b: %s\"%(a==b))\n",
        "print(\"a==d: %s\"%(a==d))\n",
        "print(\"a!=d: %s\"%(a!=d))\n",
        "print(\"a<=d: %s\"%(a<=d))\n",
        "print(\"b>c : %s\"%(b>c))\n",
        "print(\"c>d : %s\"%(c>d))"
      ],
      "execution_count": 2,
      "outputs": [
        {
          "output_type": "stream",
          "text": [
            "a==b: False\n",
            "a==d: True\n",
            "a!=d: False\n",
            "a<=d: True\n",
            "b>c : True\n",
            "c>d : False\n"
          ],
          "name": "stdout"
        }
      ]
    },
    {
      "cell_type": "code",
      "metadata": {
        "colab": {
          "base_uri": "https://localhost:8080/"
        },
        "id": "-npp_w3ltmYp",
        "outputId": "c3e0a2ef-888c-4a15-b9e6-ba22bd068f92"
      },
      "source": [
        "a=4\n",
        "b=7.2\n",
        "c=-6.1\n",
        "d=4.0\n",
        "\n",
        "ef = (a==b) or (a==d)\n",
        "print(ef)\n",
        "\n",
        "gh = (a==b) and (a==d)\n",
        "print(gh)\n",
        "print(not gh)\n",
        "\n",
        "# or arithmetic operations with logical operators\n",
        "\n",
        "ef = (a==b) | (a==d)\n",
        "print(ef)\n",
        "\n",
        "gh = (a==b) & (a==d)\n",
        "print(gh)\n",
        "print(ef != gh)"
      ],
      "execution_count": 3,
      "outputs": [
        {
          "output_type": "stream",
          "text": [
            "True\n",
            "False\n",
            "True\n",
            "True\n",
            "False\n",
            "True\n"
          ],
          "name": "stdout"
        }
      ]
    },
    {
      "cell_type": "code",
      "metadata": {
        "colab": {
          "base_uri": "https://localhost:8080/"
        },
        "id": "ymxSCJYLtn6y",
        "outputId": "e3f99606-90ee-44b5-c68a-4f07760d4ee6"
      },
      "source": [
        "x=3\n",
        "print(\"Initial type of x: %s\"%type(x))\n",
        "x=float(x)\n",
        "print(\"Type after float cast: %s\"%type(x))\n",
        "x=3\n",
        "print(\"Type after int declaration: %s\"%type(x))\n",
        "x=3.9\n",
        "print(\"Type after float declatation: %s\"%type(x))\n",
        "x=int(x)\n",
        "print(\"Type after after int cast: %s\"%type(x))\n",
        "x = bool(x)\n",
        "print(\"Type after boolean cast: %s\"%type(x))"
      ],
      "execution_count": 4,
      "outputs": [
        {
          "output_type": "stream",
          "text": [
            "Initial type of x: <class 'int'>\n",
            "Type after float cast: <class 'float'>\n",
            "Type after int declaration: <class 'int'>\n",
            "Type after float declatation: <class 'float'>\n",
            "Type after after int cast: <class 'int'>\n",
            "Type after boolean cast: <class 'bool'>\n"
          ],
          "name": "stdout"
        }
      ]
    },
    {
      "cell_type": "code",
      "metadata": {
        "colab": {
          "base_uri": "https://localhost:8080/"
        },
        "id": "T4ZL6E6stpiW",
        "outputId": "8034d472-02c1-4662-e467-9c983aad27a9"
      },
      "source": [
        "str1='my first string'\n",
        "print(str1)\n",
        "print(type(str1))\n",
        "\n",
        "str2=\"my second string\"\n",
        "print(str2) \n",
        "print(type(str2))\n",
        "\n",
        "str3=\"\"\"using triple quotes\n",
        "strings can be defined \n",
        "over multiple lines\"\"\"\n",
        "print(str3)\n",
        "print(type(str3))"
      ],
      "execution_count": 5,
      "outputs": [
        {
          "output_type": "stream",
          "text": [
            "my first string\n",
            "<class 'str'>\n",
            "my second string\n",
            "<class 'str'>\n",
            "using triple quotes\n",
            "strings can be defined \n",
            "over multiple lines\n",
            "<class 'str'>\n"
          ],
          "name": "stdout"
        }
      ]
    },
    {
      "cell_type": "code",
      "metadata": {
        "colab": {
          "base_uri": "https://localhost:8080/"
        },
        "id": "ouuS4SSEtrjW",
        "outputId": "5b76ee15-0d7a-4758-8260-83dae8c858f4"
      },
      "source": [
        "print(\"First element of str1 is %s\"%str1[0])\n",
        "\n",
        "print(\"The first 2 elements of str1 are: %s\"%str1[:2])\n",
        "\n",
        "print(\"The subsequence containing the 3rd, 4th, 5th, 6th, 7th an 8th element of s3 are: %s\"%str1[2:8])\n",
        "\n",
        "print(\"The last character of str3 is %s\"%str1[-1])\n",
        "\n",
        "print(\"The last 6 characters of str3 are: %s\"%str1[-6:])"
      ],
      "execution_count": 6,
      "outputs": [
        {
          "output_type": "stream",
          "text": [
            "First element of str1 is m\n",
            "The first 2 elements of str1 are: my\n",
            "The subsequence containing the 3rd, 4th, 5th, 6th, 7th an 8th element of s3 are:  first\n",
            "The last character of str3 is g\n",
            "The last 6 characters of str3 are: string\n"
          ],
          "name": "stdout"
        }
      ]
    },
    {
      "cell_type": "code",
      "metadata": {
        "colab": {
          "base_uri": "https://localhost:8080/"
        },
        "id": "G7ChNYyrt-5x",
        "outputId": "09a4013b-2175-476c-9285-862ef4961e08"
      },
      "source": [
        "print((str1 + ' ' + str2))\n",
        "print((str1 + ' \\t' + str2))\n",
        "print((str1 + ' \\n' + str2))"
      ],
      "execution_count": 7,
      "outputs": [
        {
          "output_type": "stream",
          "text": [
            "my first string my second string\n",
            "my first string \tmy second string\n",
            "my first string \n",
            "my second string\n"
          ],
          "name": "stdout"
        }
      ]
    },
    {
      "cell_type": "code",
      "metadata": {
        "colab": {
          "base_uri": "https://localhost:8080/"
        },
        "id": "YFg3F_8guCtN",
        "outputId": "04e567aa-4a9d-4f6d-9720-76914368eeb8"
      },
      "source": [
        "len(str1)"
      ],
      "execution_count": 8,
      "outputs": [
        {
          "output_type": "execute_result",
          "data": {
            "text/plain": [
              "15"
            ]
          },
          "metadata": {
            "tags": []
          },
          "execution_count": 8
        }
      ]
    },
    {
      "cell_type": "code",
      "metadata": {
        "colab": {
          "base_uri": "https://localhost:8080/"
        },
        "id": "C11RFbNVuESe",
        "outputId": "4775c65b-bce4-41f9-9fdf-d21904b8e404"
      },
      "source": [
        "print(str1.index('first'))\n",
        "print(str1.index('string'))"
      ],
      "execution_count": 9,
      "outputs": [
        {
          "output_type": "stream",
          "text": [
            "3\n",
            "9\n"
          ],
          "name": "stdout"
        }
      ]
    },
    {
      "cell_type": "code",
      "metadata": {
        "colab": {
          "base_uri": "https://localhost:8080/",
          "height": 37
        },
        "id": "di5iQOe0uI9T",
        "outputId": "697d2f7b-7c4f-4649-cb0b-fcb96905ba28"
      },
      "source": [
        "'abcdefg ' *5"
      ],
      "execution_count": 10,
      "outputs": [
        {
          "output_type": "execute_result",
          "data": {
            "application/vnd.google.colaboratory.intrinsic+json": {
              "type": "string"
            },
            "text/plain": [
              "'abcdefg abcdefg abcdefg abcdefg abcdefg '"
            ]
          },
          "metadata": {
            "tags": []
          },
          "execution_count": 10
        }
      ]
    },
    {
      "cell_type": "code",
      "metadata": {
        "colab": {
          "base_uri": "https://localhost:8080/"
        },
        "id": "F70ZS2KluJ5x",
        "outputId": "e6adaf11-358b-4bac-fbe6-7c57d8c275d5"
      },
      "source": [
        "print(str1.count('first'))\n",
        "print(str1.count('i'))"
      ],
      "execution_count": 11,
      "outputs": [
        {
          "output_type": "stream",
          "text": [
            "1\n",
            "2\n"
          ],
          "name": "stdout"
        }
      ]
    },
    {
      "cell_type": "code",
      "metadata": {
        "colab": {
          "base_uri": "https://localhost:8080/"
        },
        "id": "cDj9pDESuK1r",
        "outputId": "50b70f49-4a77-47b3-aa90-01928ac7bc73"
      },
      "source": [
        "print(str1)\n",
        "print('fi' in str1)\n",
        "print('ng' in str1)\n",
        "print(' ' in str1)\n",
        "print('\\n' in str1)\n",
        "print('\\n' in str3)"
      ],
      "execution_count": 12,
      "outputs": [
        {
          "output_type": "stream",
          "text": [
            "my first string\n",
            "True\n",
            "True\n",
            "True\n",
            "False\n",
            "True\n"
          ],
          "name": "stdout"
        }
      ]
    },
    {
      "cell_type": "code",
      "metadata": {
        "colab": {
          "base_uri": "https://localhost:8080/"
        },
        "id": "-ijTyEVcuMSC",
        "outputId": "a5f86f88-b131-4b03-b0e8-074bbabbe88b"
      },
      "source": [
        "li1=[1,2,3.4,\"string1\",False,['a','b','c']]\n",
        "print(li1)\n",
        "print(type(li1))\n",
        "\n",
        "li2=list() \n",
        "print(li2)\n",
        "print(type(li2))\n",
        "\n",
        "li3=list(range(20))\n",
        "print(li3)\n",
        "print(type(li3))\n",
        "\n",
        "li4=list(range(30,39,2))\n",
        "print(li4)\n",
        "print(type(li4))"
      ],
      "execution_count": 13,
      "outputs": [
        {
          "output_type": "stream",
          "text": [
            "[1, 2, 3.4, 'string1', False, ['a', 'b', 'c']]\n",
            "<class 'list'>\n",
            "[]\n",
            "<class 'list'>\n",
            "[0, 1, 2, 3, 4, 5, 6, 7, 8, 9, 10, 11, 12, 13, 14, 15, 16, 17, 18, 19]\n",
            "<class 'list'>\n",
            "[30, 32, 34, 36, 38]\n",
            "<class 'list'>\n"
          ],
          "name": "stdout"
        }
      ]
    },
    {
      "cell_type": "code",
      "metadata": {
        "colab": {
          "base_uri": "https://localhost:8080/"
        },
        "id": "Nchwl7jquNwb",
        "outputId": "a01fd07c-ad98-49ff-e9de-3a5f961b3027"
      },
      "source": [
        "print(li1)\n",
        "print(li1[2])\n",
        "print(li1[-2])\n",
        "print(li1[1:4])\n",
        "print(li1[3:])\n",
        "\n",
        "#The last element of list li1 is a list itself\n",
        "\n",
        "print(li1[-1][1])"
      ],
      "execution_count": 14,
      "outputs": [
        {
          "output_type": "stream",
          "text": [
            "[1, 2, 3.4, 'string1', False, ['a', 'b', 'c']]\n",
            "3.4\n",
            "False\n",
            "[2, 3.4, 'string1']\n",
            "['string1', False, ['a', 'b', 'c']]\n",
            "b\n"
          ],
          "name": "stdout"
        }
      ]
    },
    {
      "cell_type": "code",
      "metadata": {
        "colab": {
          "base_uri": "https://localhost:8080/"
        },
        "id": "3K5AKLSpuPhe",
        "outputId": "62e69ebc-5169-45cf-d22c-2eca1b969d09"
      },
      "source": [
        "#Editing a single list element\n",
        "li5=[6,8,10]\n",
        "print(li5)\n",
        "\n",
        "#Assign a new value to the third element\n",
        "li5[2]=20\n",
        "print(li5)\n",
        "\n",
        "#Assign a new list to the third element\n",
        "li5[2]=[21,22]\n",
        "print(li5)"
      ],
      "execution_count": 15,
      "outputs": [
        {
          "output_type": "stream",
          "text": [
            "[6, 8, 10]\n",
            "[6, 8, 20]\n",
            "[6, 8, [21, 22]]\n"
          ],
          "name": "stdout"
        }
      ]
    },
    {
      "cell_type": "code",
      "metadata": {
        "colab": {
          "base_uri": "https://localhost:8080/"
        },
        "id": "TGqPO1SauRIZ",
        "outputId": "1393fc88-b537-491e-c2d8-90d3e904b3d7"
      },
      "source": [
        "li6=[]\n",
        "li6.append('a') \n",
        "print(li6)\n",
        "li6.append('b') \n",
        "print(li6)"
      ],
      "execution_count": 16,
      "outputs": [
        {
          "output_type": "stream",
          "text": [
            "['a']\n",
            "['a', 'b']\n"
          ],
          "name": "stdout"
        }
      ]
    },
    {
      "cell_type": "code",
      "metadata": {
        "colab": {
          "base_uri": "https://localhost:8080/"
        },
        "id": "GZFwi5I1uS23",
        "outputId": "4824a37d-c799-4f0b-d34d-b2b6f8b4df71"
      },
      "source": [
        "li6.append(['c','d','e'])\n",
        "print(li6)\n",
        "print(len(li6))"
      ],
      "execution_count": 17,
      "outputs": [
        {
          "output_type": "stream",
          "text": [
            "['a', 'b', ['c', 'd', 'e']]\n",
            "3\n"
          ],
          "name": "stdout"
        }
      ]
    },
    {
      "cell_type": "code",
      "metadata": {
        "colab": {
          "base_uri": "https://localhost:8080/"
        },
        "id": "bjOyRtQDuYbo",
        "outputId": "a2dce5e3-420c-4f6d-d912-092b44499f16"
      },
      "source": [
        "print(\"pop() function:  \",li6.pop())\n",
        "print(\"After pop() last element is removed:  \",li6)\n",
        "print(li6)\n",
        "\n",
        "li6.extend(['c','d','e','f'])\n",
        "print(\"List extended: \",li6)\n",
        "print(\"Another list extension: \",li6 + ['g','h','i'])"
      ],
      "execution_count": 18,
      "outputs": [
        {
          "output_type": "stream",
          "text": [
            "pop() function:   ['c', 'd', 'e']\n",
            "After pop() last element is removed:   ['a', 'b']\n",
            "['a', 'b']\n",
            "List extended:  ['a', 'b', 'c', 'd', 'e', 'f']\n",
            "Another list extension:  ['a', 'b', 'c', 'd', 'e', 'f', 'g', 'h', 'i']\n"
          ],
          "name": "stdout"
        }
      ]
    },
    {
      "cell_type": "code",
      "metadata": {
        "colab": {
          "base_uri": "https://localhost:8080/"
        },
        "id": "5jJBChQ4uaXk",
        "outputId": "a3a2f53d-d00b-455c-911d-461de384338a"
      },
      "source": [
        "li6.insert(0,'A') \n",
        "print(li6)\n",
        "\n",
        "li6.insert(1,['B','C']) \n",
        "print(li6)"
      ],
      "execution_count": 19,
      "outputs": [
        {
          "output_type": "stream",
          "text": [
            "['A', 'a', 'b', 'c', 'd', 'e', 'f']\n",
            "['A', ['B', 'C'], 'a', 'b', 'c', 'd', 'e', 'f']\n"
          ],
          "name": "stdout"
        }
      ]
    },
    {
      "cell_type": "code",
      "metadata": {
        "colab": {
          "base_uri": "https://localhost:8080/"
        },
        "id": "UkwcQcahubpe",
        "outputId": "7941f17c-13d0-4a2e-f081-d1e7a2e4bf04"
      },
      "source": [
        "print(li6)\n",
        "li6[1:2]=[] \n",
        "\n",
        "print(li6)\n",
        "\n",
        "li6[:5]=[] \n",
        "print(li6)"
      ],
      "execution_count": 20,
      "outputs": [
        {
          "output_type": "stream",
          "text": [
            "['A', ['B', 'C'], 'a', 'b', 'c', 'd', 'e', 'f']\n",
            "['A', 'a', 'b', 'c', 'd', 'e', 'f']\n",
            "['e', 'f']\n"
          ],
          "name": "stdout"
        }
      ]
    },
    {
      "cell_type": "code",
      "metadata": {
        "colab": {
          "base_uri": "https://localhost:8080/"
        },
        "id": "OgRX_z0UuctJ",
        "outputId": "30b1f453-b823-49dc-92f6-63353f29be94"
      },
      "source": [
        "myString=\"\"\"Python is an interpreted, high-level and general-purpose programming language. Python's design philosophy\n",
        "emphasizes code readability with its notable use of significant indentation. Its language \n",
        "constructs and object-oriented approach aim to help programmers write clear, logical code for small and \n",
        "large-scale projects\n",
        "\"\"\"\n",
        "myList=myString.split()\n",
        "print(myList)"
      ],
      "execution_count": 21,
      "outputs": [
        {
          "output_type": "stream",
          "text": [
            "['Python', 'is', 'an', 'interpreted,', 'high-level', 'and', 'general-purpose', 'programming', 'language.', \"Python's\", 'design', 'philosophy', 'emphasizes', 'code', 'readability', 'with', 'its', 'notable', 'use', 'of', 'significant', 'indentation.', 'Its', 'language', 'constructs', 'and', 'object-oriented', 'approach', 'aim', 'to', 'help', 'programmers', 'write', 'clear,', 'logical', 'code', 'for', 'small', 'and', 'large-scale', 'projects']\n"
          ],
          "name": "stdout"
        }
      ]
    },
    {
      "cell_type": "code",
      "metadata": {
        "colab": {
          "base_uri": "https://localhost:8080/"
        },
        "id": "qhYNjRKUueXO",
        "outputId": "93ce5fdb-1f9f-4b88-d49f-db33a5649637"
      },
      "source": [
        "myNormList=[word.strip('.,!?:\\\"()').lower() for word in myList]\n",
        "\n",
        "print(myNormList)"
      ],
      "execution_count": 22,
      "outputs": [
        {
          "output_type": "stream",
          "text": [
            "['python', 'is', 'an', 'interpreted', 'high-level', 'and', 'general-purpose', 'programming', 'language', \"python's\", 'design', 'philosophy', 'emphasizes', 'code', 'readability', 'with', 'its', 'notable', 'use', 'of', 'significant', 'indentation', 'its', 'language', 'constructs', 'and', 'object-oriented', 'approach', 'aim', 'to', 'help', 'programmers', 'write', 'clear', 'logical', 'code', 'for', 'small', 'and', 'large-scale', 'projects']\n"
          ],
          "name": "stdout"
        }
      ]
    },
    {
      "cell_type": "code",
      "metadata": {
        "colab": {
          "base_uri": "https://localhost:8080/"
        },
        "id": "lozsm2r-uf7f",
        "outputId": "e702b616-9c17-4c9d-a76f-952138b63a1c"
      },
      "source": [
        "myNumList=list(range(21))\n",
        "csvString=','.join(str(e) for e in myNumList)\n",
        "print(\"List:\",myNumList)\n",
        "print(\"List type:\",type(myNumList))\n",
        "print(\"csvString:\",csvString)\n",
        "print(\"csvString type:\",type(csvString))"
      ],
      "execution_count": 23,
      "outputs": [
        {
          "output_type": "stream",
          "text": [
            "List: [0, 1, 2, 3, 4, 5, 6, 7, 8, 9, 10, 11, 12, 13, 14, 15, 16, 17, 18, 19, 20]\n",
            "List type: <class 'list'>\n",
            "csvString: 0,1,2,3,4,5,6,7,8,9,10,11,12,13,14,15,16,17,18,19,20\n",
            "csvString type: <class 'str'>\n"
          ],
          "name": "stdout"
        }
      ]
    },
    {
      "cell_type": "code",
      "metadata": {
        "colab": {
          "base_uri": "https://localhost:8080/"
        },
        "id": "3XXeX8D1uhQz",
        "outputId": "93de0b72-38fe-4137-b3f3-36749a9a4d0a"
      },
      "source": [
        "tup1=(2,4.6,8,10,'a','b','c','a tuple',(1,2,3,4,5))\n",
        "print(tup1)\n",
        "print(type(tup1))"
      ],
      "execution_count": 24,
      "outputs": [
        {
          "output_type": "stream",
          "text": [
            "(2, 4.6, 8, 10, 'a', 'b', 'c', 'a tuple', (1, 2, 3, 4, 5))\n",
            "<class 'tuple'>\n"
          ],
          "name": "stdout"
        }
      ]
    },
    {
      "cell_type": "code",
      "metadata": {
        "colab": {
          "base_uri": "https://localhost:8080/"
        },
        "id": "LkbmOqFAuigx",
        "outputId": "c7dd1d0f-8170-461d-a5ca-2859fcd507ec"
      },
      "source": [
        "print(tup1[:5])"
      ],
      "execution_count": 25,
      "outputs": [
        {
          "output_type": "stream",
          "text": [
            "(2, 4.6, 8, 10, 'a')\n"
          ],
          "name": "stdout"
        }
      ]
    },
    {
      "cell_type": "code",
      "metadata": {
        "colab": {
          "base_uri": "https://localhost:8080/",
          "height": 198
        },
        "id": "siZlaQfFujnL",
        "outputId": "b14b0b99-d182-4184-dede-ed5c84bfeea3"
      },
      "source": [
        "tup1[1]=56"
      ],
      "execution_count": 26,
      "outputs": [
        {
          "output_type": "error",
          "ename": "TypeError",
          "evalue": "ignored",
          "traceback": [
            "\u001b[0;31m---------------------------------------------------------------------------\u001b[0m",
            "\u001b[0;31mTypeError\u001b[0m                                 Traceback (most recent call last)",
            "\u001b[0;32m<ipython-input-26-3750f26fc4aa>\u001b[0m in \u001b[0;36m<module>\u001b[0;34m()\u001b[0m\n\u001b[0;32m----> 1\u001b[0;31m \u001b[0mtup1\u001b[0m\u001b[0;34m[\u001b[0m\u001b[0;36m1\u001b[0m\u001b[0;34m]\u001b[0m\u001b[0;34m=\u001b[0m\u001b[0;36m56\u001b[0m\u001b[0;34m\u001b[0m\u001b[0;34m\u001b[0m\u001b[0m\n\u001b[0m",
            "\u001b[0;31mTypeError\u001b[0m: 'tuple' object does not support item assignment"
          ]
        }
      ]
    },
    {
      "cell_type": "code",
      "metadata": {
        "colab": {
          "base_uri": "https://localhost:8080/"
        },
        "id": "DrtAIVr1ukoe",
        "outputId": "9414a035-d2fc-4616-91b4-9cb244623a5f"
      },
      "source": [
        "mySet=set()\n",
        "print(mySet)"
      ],
      "execution_count": 27,
      "outputs": [
        {
          "output_type": "stream",
          "text": [
            "set()\n"
          ],
          "name": "stdout"
        }
      ]
    },
    {
      "cell_type": "code",
      "metadata": {
        "colab": {
          "base_uri": "https://localhost:8080/"
        },
        "id": "bIC8YL2bul8Z",
        "outputId": "cec655d0-9ba9-4339-f4c6-4127ca61d694"
      },
      "source": [
        "se=\"hello i am a small text i am a big text \" \n",
        "seWord=se.split() \n",
        "print(se)\n",
        "print(len(se))\n",
        "\n",
        "vocab=set(seWord) \n",
        "print(vocab)\n",
        "print(len(vocab))"
      ],
      "execution_count": 28,
      "outputs": [
        {
          "output_type": "stream",
          "text": [
            "hello i am a small text i am a big text \n",
            "40\n",
            "{'hello', 'big', 'a', 'am', 'i', 'text', 'small'}\n",
            "7\n"
          ],
          "name": "stdout"
        }
      ]
    },
    {
      "cell_type": "code",
      "metadata": {
        "colab": {
          "base_uri": "https://localhost:8080/"
        },
        "id": "pyNJi8W2unng",
        "outputId": "20fbd3ea-a569-4f32-9f57-73d831be84f0"
      },
      "source": [
        "vocab2=vocab.copy()\n",
        "print(vocab2)\n",
        "vocab2.add('new1')\n",
        "print(vocab2)\n",
        "vocab2.add('new2')\n",
        "print(vocab2)\n",
        "vocab2.remove('new1')\n",
        "print(vocab2)"
      ],
      "execution_count": 29,
      "outputs": [
        {
          "output_type": "stream",
          "text": [
            "{'text', 'hello', 'big', 'small', 'a', 'am', 'i'}\n",
            "{'text', 'hello', 'new1', 'big', 'small', 'a', 'am', 'i'}\n",
            "{'new1', 'a', 'i', 'hello', 'big', 'am', 'text', 'small', 'new2'}\n",
            "{'a', 'i', 'hello', 'big', 'am', 'text', 'small', 'new2'}\n"
          ],
          "name": "stdout"
        }
      ]
    },
    {
      "cell_type": "code",
      "metadata": {
        "colab": {
          "base_uri": "https://localhost:8080/"
        },
        "id": "26ocBlFMuo1X",
        "outputId": "4e713768-8958-4196-ad8e-5cb0ce9cf75d"
      },
      "source": [
        "vocabInter=vocab2&vocab\n",
        "print(vocabInter)"
      ],
      "execution_count": 30,
      "outputs": [
        {
          "output_type": "stream",
          "text": [
            "{'hello', 'big', 'a', 'am', 'i', 'text', 'small'}\n"
          ],
          "name": "stdout"
        }
      ]
    },
    {
      "cell_type": "code",
      "metadata": {
        "colab": {
          "base_uri": "https://localhost:8080/"
        },
        "id": "Z9ookw5iup2l",
        "outputId": "ed325718-a1ee-406c-8180-5cbb96c8c402"
      },
      "source": [
        "vocabUn=vocab2|vocab\n",
        "print(vocabUn)"
      ],
      "execution_count": 31,
      "outputs": [
        {
          "output_type": "stream",
          "text": [
            "{'hello', 'big', 'a', 'am', 'i', 'text', 'small', 'new2'}\n"
          ],
          "name": "stdout"
        }
      ]
    },
    {
      "cell_type": "code",
      "metadata": {
        "colab": {
          "base_uri": "https://localhost:8080/"
        },
        "id": "FgEvMOxputrk",
        "outputId": "b9b4a850-3024-4d78-d84c-c82ffd9ab6ee"
      },
      "source": [
        "vocabEx=vocab^vocab2\n",
        "print(vocabEx)"
      ],
      "execution_count": 32,
      "outputs": [
        {
          "output_type": "stream",
          "text": [
            "{'new2'}\n"
          ],
          "name": "stdout"
        }
      ]
    },
    {
      "cell_type": "code",
      "metadata": {
        "colab": {
          "base_uri": "https://localhost:8080/"
        },
        "id": "9q-YGB1Guu1J",
        "outputId": "73b0b9d1-71ab-42ff-b02d-d2c19488a4b2"
      },
      "source": [
        "print('i' in vocab2)\n",
        "print('sunshine' in vocab2)"
      ],
      "execution_count": 33,
      "outputs": [
        {
          "output_type": "stream",
          "text": [
            "True\n",
            "False\n"
          ],
          "name": "stdout"
        }
      ]
    },
    {
      "cell_type": "code",
      "metadata": {
        "colab": {
          "base_uri": "https://localhost:8080/"
        },
        "id": "MPTtwgasuvnC",
        "outputId": "c181bcdd-5198-4260-f8ae-ac8d937ef091"
      },
      "source": [
        "print(vocab2<vocab)  #true if vocab 2 is subset of vocabulary\n",
        "print(vocab2<=vocab) #true if vocab 2 is real subset of vocabulary (not equal)\n",
        "print(set(['a','text']) <= vocab2)"
      ],
      "execution_count": 34,
      "outputs": [
        {
          "output_type": "stream",
          "text": [
            "False\n",
            "False\n",
            "True\n"
          ],
          "name": "stdout"
        }
      ]
    },
    {
      "cell_type": "code",
      "metadata": {
        "colab": {
          "base_uri": "https://localhost:8080/"
        },
        "id": "lErYO3p2uxIU",
        "outputId": "92bf5490-d7a3-44b6-9b23-4e2e28bc9ac7"
      },
      "source": [
        "vocabList=list(vocab2)\n",
        "print(vocabList)\n",
        "print(vocabList[6])"
      ],
      "execution_count": 35,
      "outputs": [
        {
          "output_type": "stream",
          "text": [
            "['a', 'i', 'hello', 'big', 'am', 'text', 'small', 'new2']\n",
            "small\n"
          ],
          "name": "stdout"
        }
      ]
    },
    {
      "cell_type": "code",
      "metadata": {
        "colab": {
          "base_uri": "https://localhost:8080/",
          "height": 249
        },
        "id": "yWgDivQXuz4m",
        "outputId": "a8069e9d-628e-47d9-cbcb-44858bcc6dc7"
      },
      "source": [
        "frozSet=frozenset(['a','b','c','d','e'])\n",
        "print(frozSet)\n",
        "\n",
        "frozSet.add('f')"
      ],
      "execution_count": 36,
      "outputs": [
        {
          "output_type": "stream",
          "text": [
            "frozenset({'b', 'a', 'e', 'c', 'd'})\n"
          ],
          "name": "stdout"
        },
        {
          "output_type": "error",
          "ename": "AttributeError",
          "evalue": "ignored",
          "traceback": [
            "\u001b[0;31m---------------------------------------------------------------------------\u001b[0m",
            "\u001b[0;31mAttributeError\u001b[0m                            Traceback (most recent call last)",
            "\u001b[0;32m<ipython-input-36-02d036268261>\u001b[0m in \u001b[0;36m<module>\u001b[0;34m()\u001b[0m\n\u001b[1;32m      2\u001b[0m \u001b[0mprint\u001b[0m\u001b[0;34m(\u001b[0m\u001b[0mfrozSet\u001b[0m\u001b[0;34m)\u001b[0m\u001b[0;34m\u001b[0m\u001b[0;34m\u001b[0m\u001b[0m\n\u001b[1;32m      3\u001b[0m \u001b[0;34m\u001b[0m\u001b[0m\n\u001b[0;32m----> 4\u001b[0;31m \u001b[0mfrozSet\u001b[0m\u001b[0;34m.\u001b[0m\u001b[0madd\u001b[0m\u001b[0;34m(\u001b[0m\u001b[0;34m'f'\u001b[0m\u001b[0;34m)\u001b[0m\u001b[0;34m\u001b[0m\u001b[0;34m\u001b[0m\u001b[0m\n\u001b[0m",
            "\u001b[0;31mAttributeError\u001b[0m: 'frozenset' object has no attribute 'add'"
          ]
        }
      ]
    },
    {
      "cell_type": "code",
      "metadata": {
        "colab": {
          "base_uri": "https://localhost:8080/"
        },
        "id": "1VMDnQL1u1FU",
        "outputId": "a7fde3f4-4124-4a9b-c06c-d46e26555c29"
      },
      "source": [
        "c1=['Tesla','Model S','ELECTRIC',2020]\n",
        "print(c1)\n",
        "c2=['Audi','e-Tron','ELECTRIC',2021]\n",
        "print(c2)\n",
        "cars=[c1,c2]\n",
        "print(cars)"
      ],
      "execution_count": 37,
      "outputs": [
        {
          "output_type": "stream",
          "text": [
            "['Tesla', 'Model S', 'ELECTRIC', 2020]\n",
            "['Audi', 'e-Tron', 'ELECTRIC', 2021]\n",
            "[['Tesla', 'Model S', 'ELECTRIC', 2020], ['Audi', 'e-Tron', 'ELECTRIC', 2021]]\n"
          ],
          "name": "stdout"
        }
      ]
    },
    {
      "cell_type": "code",
      "metadata": {
        "colab": {
          "base_uri": "https://localhost:8080/"
        },
        "id": "Nu-6qoFsu2bm",
        "outputId": "86210532-4aa9-4aed-a22a-cd4a020a1818"
      },
      "source": [
        "car1 = {\"brand\": \"Tesla\",\n",
        "        \"model\": \"Model S\",\n",
        "        \"fueltype\": \"ELECTRIC\",\n",
        "        \"year\": 2020,\n",
        "        \"colors\": [\"black\", \"white\", \"green\"]}\n",
        "\n",
        "print(car1)\n",
        "type(car1)\n",
        "\n",
        "car2 = {\"brand\": \"Audi\",\n",
        "        \"model\": \"e-Tron\",\n",
        "        \"fueltype\": \"ELECTRIC\",\n",
        "        \"year\": 2021 }\n",
        "\n",
        "print(car2)\n",
        "type(car2)"
      ],
      "execution_count": 38,
      "outputs": [
        {
          "output_type": "stream",
          "text": [
            "{'brand': 'Tesla', 'model': 'Model S', 'fueltype': 'ELECTRIC', 'year': 2020, 'colors': ['black', 'white', 'green']}\n",
            "{'brand': 'Audi', 'model': 'e-Tron', 'fueltype': 'ELECTRIC', 'year': 2021}\n"
          ],
          "name": "stdout"
        },
        {
          "output_type": "execute_result",
          "data": {
            "text/plain": [
              "dict"
            ]
          },
          "metadata": {
            "tags": []
          },
          "execution_count": 38
        }
      ]
    },
    {
      "cell_type": "code",
      "metadata": {
        "colab": {
          "base_uri": "https://localhost:8080/"
        },
        "id": "ZfqTPZe8u78H",
        "outputId": "9ffe6098-4737-492a-9851-2149d248d1a2"
      },
      "source": [
        "print(len(car1))\n",
        "print(len(car1['colors']))"
      ],
      "execution_count": 39,
      "outputs": [
        {
          "output_type": "stream",
          "text": [
            "5\n",
            "3\n"
          ],
          "name": "stdout"
        }
      ]
    },
    {
      "cell_type": "code",
      "metadata": {
        "colab": {
          "base_uri": "https://localhost:8080/"
        },
        "id": "P2jSl8Hgu9Fj",
        "outputId": "cb660959-bccb-4abc-dbb9-a2649d31279c"
      },
      "source": [
        "print(\"Keys:\\n\",list(car1.keys()))\n",
        "print(\"Values:\\n\",list(car1.values()))"
      ],
      "execution_count": 40,
      "outputs": [
        {
          "output_type": "stream",
          "text": [
            "Keys:\n",
            " ['brand', 'model', 'fueltype', 'year', 'colors']\n",
            "Values:\n",
            " ['Tesla', 'Model S', 'ELECTRIC', 2020, ['black', 'white', 'green']]\n"
          ],
          "name": "stdout"
        }
      ]
    },
    {
      "cell_type": "code",
      "metadata": {
        "colab": {
          "base_uri": "https://localhost:8080/"
        },
        "id": "O48VmhV4u98d",
        "outputId": "6c57a52b-0cc2-4f4f-9770-8147aedd18f9"
      },
      "source": [
        "print(list(car1.items()))"
      ],
      "execution_count": 41,
      "outputs": [
        {
          "output_type": "stream",
          "text": [
            "[('brand', 'Tesla'), ('model', 'Model S'), ('fueltype', 'ELECTRIC'), ('year', 2020), ('colors', ['black', 'white', 'green'])]\n"
          ],
          "name": "stdout"
        }
      ]
    },
    {
      "cell_type": "code",
      "metadata": {
        "colab": {
          "base_uri": "https://localhost:8080/",
          "height": 37
        },
        "id": "NYHfmmjOu-_B",
        "outputId": "4a8f6a05-9e40-48fc-dea6-206745120a96"
      },
      "source": [
        "car1['model']"
      ],
      "execution_count": 42,
      "outputs": [
        {
          "output_type": "execute_result",
          "data": {
            "application/vnd.google.colaboratory.intrinsic+json": {
              "type": "string"
            },
            "text/plain": [
              "'Model S'"
            ]
          },
          "metadata": {
            "tags": []
          },
          "execution_count": 42
        }
      ]
    },
    {
      "cell_type": "code",
      "metadata": {
        "colab": {
          "base_uri": "https://localhost:8080/"
        },
        "id": "BfMUR9gMu_24",
        "outputId": "352d73b1-9803-46e9-a7db-5dc0098dd50f"
      },
      "source": [
        "car3 = {\"brand\": \"VW\",\n",
        "        \"model\": \"ID.4\",\n",
        "        \"fueltype\": \"ELECTRIC\",\n",
        "        \"year\": 2019,\n",
        "        \"year\": 2021,\n",
        "        \"colors\": [\"yellow\", \"black\", \"purple\"]}\n",
        "\n",
        "print(car3)\n",
        "type(car3)"
      ],
      "execution_count": 43,
      "outputs": [
        {
          "output_type": "stream",
          "text": [
            "{'brand': 'VW', 'model': 'ID.4', 'fueltype': 'ELECTRIC', 'year': 2021, 'colors': ['yellow', 'black', 'purple']}\n"
          ],
          "name": "stdout"
        },
        {
          "output_type": "execute_result",
          "data": {
            "text/plain": [
              "dict"
            ]
          },
          "metadata": {
            "tags": []
          },
          "execution_count": 43
        }
      ]
    },
    {
      "cell_type": "code",
      "metadata": {
        "colab": {
          "base_uri": "https://localhost:8080/"
        },
        "id": "GM0MzSo2vA_V",
        "outputId": "843fcc52-751c-4a40-905d-8974b9deb443"
      },
      "source": [
        "print(car3)\n",
        "print(len(car3))\n",
        "del car3['colors']\n",
        "print(\"colors deleted\")\n",
        "print(car3)\n",
        "print(len(car3))"
      ],
      "execution_count": 44,
      "outputs": [
        {
          "output_type": "stream",
          "text": [
            "{'brand': 'VW', 'model': 'ID.4', 'fueltype': 'ELECTRIC', 'year': 2021, 'colors': ['yellow', 'black', 'purple']}\n",
            "5\n",
            "colors deleted\n",
            "{'brand': 'VW', 'model': 'ID.4', 'fueltype': 'ELECTRIC', 'year': 2021}\n",
            "4\n"
          ],
          "name": "stdout"
        }
      ]
    },
    {
      "cell_type": "code",
      "metadata": {
        "id": "OoVRU45vvCzH"
      },
      "source": [
        "import json\n",
        "\n",
        "with open(\"03_carFile.json\",\"w\") as f:\n",
        "    json.dump(car3,f)"
      ],
      "execution_count": 45,
      "outputs": []
    },
    {
      "cell_type": "code",
      "metadata": {
        "colab": {
          "base_uri": "https://localhost:8080/"
        },
        "id": "vjvBlmDsvEf4",
        "outputId": "3b7a2f0d-700c-4e70-e423-bc8eb95e9711"
      },
      "source": [
        "with open(\"03_carFile.json\",\"r\") as f:\n",
        "    mycar=json.load(f)\n",
        "print(mycar)"
      ],
      "execution_count": 46,
      "outputs": [
        {
          "output_type": "stream",
          "text": [
            "{'brand': 'VW', 'model': 'ID.4', 'fueltype': 'ELECTRIC', 'year': 2021}\n"
          ],
          "name": "stdout"
        }
      ]
    }
  ]
}