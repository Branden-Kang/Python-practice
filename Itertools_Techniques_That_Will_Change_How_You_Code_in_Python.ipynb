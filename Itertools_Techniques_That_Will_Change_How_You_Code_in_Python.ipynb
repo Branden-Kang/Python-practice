{
  "nbformat": 4,
  "nbformat_minor": 0,
  "metadata": {
    "colab": {
      "provenance": [],
      "authorship_tag": "ABX9TyOXP2FsAahDCUQNKi2S9hdq"
    },
    "kernelspec": {
      "name": "python3",
      "display_name": "Python 3"
    },
    "language_info": {
      "name": "python"
    }
  },
  "cells": [
    {
      "cell_type": "markdown",
      "source": [
        "[Reference](https://medium.com/pythoneers/itertools-techniques-that-will-change-how-you-code-in-python-11930d2caf1a)"
      ],
      "metadata": {
        "id": "Br4c67C4bYjd"
      }
    },
    {
      "cell_type": "markdown",
      "source": [
        "# 1. groupby"
      ],
      "metadata": {
        "id": "UW_QlSFibb6a"
      }
    },
    {
      "cell_type": "code",
      "execution_count": 1,
      "metadata": {
        "colab": {
          "base_uri": "https://localhost:8080/"
        },
        "id": "LPSvzhTlbVZb",
        "outputId": "b4fabc05-74c9-4d37-e06b-6abaae269a9c"
      },
      "outputs": [
        {
          "output_type": "stream",
          "name": "stdout",
          "text": [
            "6\n"
          ]
        }
      ],
      "source": [
        "\n",
        "from itertools import groupby\n",
        "\n",
        "game_results = \"WWWLLWWWWLWWWWWW\"\n",
        "longest_streak = 0\n",
        "\n",
        "for key, streak in groupby(game_results):\n",
        "    if key == \"W\":\n",
        "        longest_streak = max(longest_streak, len(list(streak)))\n",
        "\n",
        "print(longest_streak) # 6"
      ]
    },
    {
      "cell_type": "code",
      "source": [
        "from itertools import groupby\n",
        "\n",
        "def count_char_occurrences(input_string):\n",
        "    result = \"\"\n",
        "    for char, group in groupby(input_string):\n",
        "        count = len(list(group))\n",
        "        result += str(count) + char\n",
        "    return result\n",
        "\n",
        "input_string = \"aaaaabbccccde\"\n",
        "output = count_char_occurrences(input_string)\n",
        "print(output)"
      ],
      "metadata": {
        "colab": {
          "base_uri": "https://localhost:8080/"
        },
        "id": "H-i31EHHbeFZ",
        "outputId": "1a2adb4a-db21-4251-b61a-00b043d13849"
      },
      "execution_count": 2,
      "outputs": [
        {
          "output_type": "stream",
          "name": "stdout",
          "text": [
            "5a2b4c1d1e\n"
          ]
        }
      ]
    },
    {
      "cell_type": "markdown",
      "source": [
        "# 2. cycle"
      ],
      "metadata": {
        "id": "WarjRwBcbjKC"
      }
    },
    {
      "cell_type": "code",
      "source": [
        "from itertools import cycle\n",
        "\n",
        "workers = [\"Node A\", \"Node B\", \"Node C\"]\n",
        "tasks = [\"Task 1\", \"Task 2\", \"Task 3\", \"Task 4\", \"Task 5\", \"Task 6\", \"Task 7\"]\n",
        "\n",
        "def assign_tasks(workers, tasks):\n",
        "    worker_cycle = cycle(workers)\n",
        "    for task in tasks:\n",
        "        worker = next(worker_cycle)\n",
        "        print(f\"{worker}: {task}\")\n",
        "\n",
        "assign_tasks(workers, tasks)"
      ],
      "metadata": {
        "colab": {
          "base_uri": "https://localhost:8080/"
        },
        "id": "G82wAYTXbiEy",
        "outputId": "43614cde-9970-40eb-aee6-dd7f683c8a09"
      },
      "execution_count": 3,
      "outputs": [
        {
          "output_type": "stream",
          "name": "stdout",
          "text": [
            "Node A: Task 1\n",
            "Node B: Task 2\n",
            "Node C: Task 3\n",
            "Node A: Task 4\n",
            "Node B: Task 5\n",
            "Node C: Task 6\n",
            "Node A: Task 7\n"
          ]
        }
      ]
    },
    {
      "cell_type": "markdown",
      "source": [
        "# 3. combinations_with_replacement"
      ],
      "metadata": {
        "id": "023id2PpbmOQ"
      }
    },
    {
      "cell_type": "code",
      "source": [
        "from itertools import combinations_with_replacement\n",
        "\n",
        "levels = 2\n",
        "sizes = [16, 32, 64]\n",
        "\n",
        "cache_combinations = list(combinations_with_replacement(sizes, levels))\n",
        "\n",
        "print(cache_combinations)"
      ],
      "metadata": {
        "colab": {
          "base_uri": "https://localhost:8080/"
        },
        "id": "o7Tfrvm-bksB",
        "outputId": "cae66387-5016-4fa4-f88e-c3c5e3f97e62"
      },
      "execution_count": 4,
      "outputs": [
        {
          "output_type": "stream",
          "name": "stdout",
          "text": [
            "[(16, 16), (16, 32), (16, 64), (32, 32), (32, 64), (64, 64)]\n"
          ]
        }
      ]
    }
  ]
}