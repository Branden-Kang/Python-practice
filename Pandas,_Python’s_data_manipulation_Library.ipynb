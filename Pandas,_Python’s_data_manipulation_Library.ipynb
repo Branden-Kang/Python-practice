{
  "nbformat": 4,
  "nbformat_minor": 0,
  "metadata": {
    "colab": {
      "name": "Pandas, Python’s data manipulation Library.ipynb",
      "provenance": [],
      "authorship_tag": "ABX9TyPtBnXm2oi48dpeqehFAovL"
    },
    "kernelspec": {
      "name": "python3",
      "display_name": "Python 3"
    },
    "language_info": {
      "name": "python"
    }
  },
  "cells": [
    {
      "cell_type": "markdown",
      "source": [
        "[Reference](https://medium.com/analytics-and-data/become-a-pro-at-pandas-pythons-data-manipulation-library-264351b586b1)"
      ],
      "metadata": {
        "id": "QHhUlZ06n3mm"
      }
    },
    {
      "cell_type": "code",
      "source": [
        "!pip install pandasql"
      ],
      "metadata": {
        "colab": {
          "base_uri": "https://localhost:8080/"
        },
        "id": "yUYThu87oZKD",
        "outputId": "5402086d-674a-4041-a54a-39fd6067ad18"
      },
      "execution_count": 2,
      "outputs": [
        {
          "output_type": "stream",
          "name": "stdout",
          "text": [
            "Collecting pandasql\n",
            "  Downloading pandasql-0.7.3.tar.gz (26 kB)\n",
            "Requirement already satisfied: numpy in /usr/local/lib/python3.7/dist-packages (from pandasql) (1.19.5)\n",
            "Requirement already satisfied: pandas in /usr/local/lib/python3.7/dist-packages (from pandasql) (1.1.5)\n",
            "Requirement already satisfied: sqlalchemy in /usr/local/lib/python3.7/dist-packages (from pandasql) (1.4.27)\n",
            "Requirement already satisfied: pytz>=2017.2 in /usr/local/lib/python3.7/dist-packages (from pandas->pandasql) (2018.9)\n",
            "Requirement already satisfied: python-dateutil>=2.7.3 in /usr/local/lib/python3.7/dist-packages (from pandas->pandasql) (2.8.2)\n",
            "Requirement already satisfied: six>=1.5 in /usr/local/lib/python3.7/dist-packages (from python-dateutil>=2.7.3->pandas->pandasql) (1.15.0)\n",
            "Requirement already satisfied: greenlet!=0.4.17 in /usr/local/lib/python3.7/dist-packages (from sqlalchemy->pandasql) (1.1.2)\n",
            "Requirement already satisfied: importlib-metadata in /usr/local/lib/python3.7/dist-packages (from sqlalchemy->pandasql) (4.8.2)\n",
            "Requirement already satisfied: zipp>=0.5 in /usr/local/lib/python3.7/dist-packages (from importlib-metadata->sqlalchemy->pandasql) (3.6.0)\n",
            "Requirement already satisfied: typing-extensions>=3.6.4 in /usr/local/lib/python3.7/dist-packages (from importlib-metadata->sqlalchemy->pandasql) (3.10.0.2)\n",
            "Building wheels for collected packages: pandasql\n",
            "  Building wheel for pandasql (setup.py) ... \u001b[?25l\u001b[?25hdone\n",
            "  Created wheel for pandasql: filename=pandasql-0.7.3-py3-none-any.whl size=26781 sha256=d8432bdcdd0e33487d4407c79528416c616df0c8ffc12a67dfd08c3952ad0e0e\n",
            "  Stored in directory: /root/.cache/pip/wheels/5c/4b/ec/41f4e116c8053c3654e2c2a47c62b4fca34cc67ef7b55deb7f\n",
            "Successfully built pandasql\n",
            "Installing collected packages: pandasql\n",
            "Successfully installed pandasql-0.7.3\n"
          ]
        }
      ]
    },
    {
      "cell_type": "code",
      "execution_count": 3,
      "metadata": {
        "colab": {
          "base_uri": "https://localhost:8080/",
          "height": 142
        },
        "id": "zzi6vnFSn01K",
        "outputId": "b041b2b4-8729-41c5-ab39-27ffa1414a89"
      },
      "outputs": [
        {
          "output_type": "execute_result",
          "data": {
            "text/html": [
              "\n",
              "  <div id=\"df-822af3f1-7fec-4f2c-8677-1524a9102732\">\n",
              "    <div class=\"colab-df-container\">\n",
              "      <div>\n",
              "<style scoped>\n",
              "    .dataframe tbody tr th:only-of-type {\n",
              "        vertical-align: middle;\n",
              "    }\n",
              "\n",
              "    .dataframe tbody tr th {\n",
              "        vertical-align: top;\n",
              "    }\n",
              "\n",
              "    .dataframe thead th {\n",
              "        text-align: right;\n",
              "    }\n",
              "</style>\n",
              "<table border=\"1\" class=\"dataframe\">\n",
              "  <thead>\n",
              "    <tr style=\"text-align: right;\">\n",
              "      <th></th>\n",
              "      <th>uid</th>\n",
              "      <th>new_val</th>\n",
              "    </tr>\n",
              "  </thead>\n",
              "  <tbody>\n",
              "    <tr>\n",
              "      <th>0</th>\n",
              "      <td>1</td>\n",
              "      <td>1</td>\n",
              "    </tr>\n",
              "    <tr>\n",
              "      <th>1</th>\n",
              "      <td>3</td>\n",
              "      <td>2</td>\n",
              "    </tr>\n",
              "    <tr>\n",
              "      <th>2</th>\n",
              "      <td>5</td>\n",
              "      <td>3</td>\n",
              "    </tr>\n",
              "  </tbody>\n",
              "</table>\n",
              "</div>\n",
              "      <button class=\"colab-df-convert\" onclick=\"convertToInteractive('df-822af3f1-7fec-4f2c-8677-1524a9102732')\"\n",
              "              title=\"Convert this dataframe to an interactive table.\"\n",
              "              style=\"display:none;\">\n",
              "        \n",
              "  <svg xmlns=\"http://www.w3.org/2000/svg\" height=\"24px\"viewBox=\"0 0 24 24\"\n",
              "       width=\"24px\">\n",
              "    <path d=\"M0 0h24v24H0V0z\" fill=\"none\"/>\n",
              "    <path d=\"M18.56 5.44l.94 2.06.94-2.06 2.06-.94-2.06-.94-.94-2.06-.94 2.06-2.06.94zm-11 1L8.5 8.5l.94-2.06 2.06-.94-2.06-.94L8.5 2.5l-.94 2.06-2.06.94zm10 10l.94 2.06.94-2.06 2.06-.94-2.06-.94-.94-2.06-.94 2.06-2.06.94z\"/><path d=\"M17.41 7.96l-1.37-1.37c-.4-.4-.92-.59-1.43-.59-.52 0-1.04.2-1.43.59L10.3 9.45l-7.72 7.72c-.78.78-.78 2.05 0 2.83L4 21.41c.39.39.9.59 1.41.59.51 0 1.02-.2 1.41-.59l7.78-7.78 2.81-2.81c.8-.78.8-2.07 0-2.86zM5.41 20L4 18.59l7.72-7.72 1.47 1.35L5.41 20z\"/>\n",
              "  </svg>\n",
              "      </button>\n",
              "      \n",
              "  <style>\n",
              "    .colab-df-container {\n",
              "      display:flex;\n",
              "      flex-wrap:wrap;\n",
              "      gap: 12px;\n",
              "    }\n",
              "\n",
              "    .colab-df-convert {\n",
              "      background-color: #E8F0FE;\n",
              "      border: none;\n",
              "      border-radius: 50%;\n",
              "      cursor: pointer;\n",
              "      display: none;\n",
              "      fill: #1967D2;\n",
              "      height: 32px;\n",
              "      padding: 0 0 0 0;\n",
              "      width: 32px;\n",
              "    }\n",
              "\n",
              "    .colab-df-convert:hover {\n",
              "      background-color: #E2EBFA;\n",
              "      box-shadow: 0px 1px 2px rgba(60, 64, 67, 0.3), 0px 1px 3px 1px rgba(60, 64, 67, 0.15);\n",
              "      fill: #174EA6;\n",
              "    }\n",
              "\n",
              "    [theme=dark] .colab-df-convert {\n",
              "      background-color: #3B4455;\n",
              "      fill: #D2E3FC;\n",
              "    }\n",
              "\n",
              "    [theme=dark] .colab-df-convert:hover {\n",
              "      background-color: #434B5C;\n",
              "      box-shadow: 0px 1px 3px 1px rgba(0, 0, 0, 0.15);\n",
              "      filter: drop-shadow(0px 1px 2px rgba(0, 0, 0, 0.3));\n",
              "      fill: #FFFFFF;\n",
              "    }\n",
              "  </style>\n",
              "\n",
              "      <script>\n",
              "        const buttonEl =\n",
              "          document.querySelector('#df-822af3f1-7fec-4f2c-8677-1524a9102732 button.colab-df-convert');\n",
              "        buttonEl.style.display =\n",
              "          google.colab.kernel.accessAllowed ? 'block' : 'none';\n",
              "\n",
              "        async function convertToInteractive(key) {\n",
              "          const element = document.querySelector('#df-822af3f1-7fec-4f2c-8677-1524a9102732');\n",
              "          const dataTable =\n",
              "            await google.colab.kernel.invokeFunction('convertToInteractive',\n",
              "                                                     [key], {});\n",
              "          if (!dataTable) return;\n",
              "\n",
              "          const docLinkHtml = 'Like what you see? Visit the ' +\n",
              "            '<a target=\"_blank\" href=https://colab.research.google.com/notebooks/data_table.ipynb>data table notebook</a>'\n",
              "            + ' to learn more about interactive tables.';\n",
              "          element.innerHTML = '';\n",
              "          dataTable['output_type'] = 'display_data';\n",
              "          await google.colab.output.renderOutput(dataTable, element);\n",
              "          const docLink = document.createElement('div');\n",
              "          docLink.innerHTML = docLinkHtml;\n",
              "          element.appendChild(docLink);\n",
              "        }\n",
              "      </script>\n",
              "    </div>\n",
              "  </div>\n",
              "  "
            ],
            "text/plain": [
              "   uid  new_val\n",
              "0    1        1\n",
              "1    3        2\n",
              "2    5        3"
            ]
          },
          "metadata": {},
          "execution_count": 3
        }
      ],
      "source": [
        "import pandas as pd\n",
        "import pandasql as pdsql\n",
        "\n",
        "pysql = lambda q: pdsql.sqldf(q, globals())\n",
        "\n",
        "mydataframe = pd.DataFrame([[1,2],[3,4],[5,6]], columns=['uid','test'])\n",
        "pysql(\"select uid, (test / 2) as new_val from mydataframe;\")"
      ]
    },
    {
      "cell_type": "code",
      "source": [
        "!pip install prettypandas"
      ],
      "metadata": {
        "colab": {
          "base_uri": "https://localhost:8080/"
        },
        "id": "3K7G_70iow5-",
        "outputId": "a4dd697f-1940-4a80-92c1-cd8875339c59"
      },
      "execution_count": 4,
      "outputs": [
        {
          "output_type": "stream",
          "name": "stdout",
          "text": [
            "Collecting prettypandas\n",
            "  Downloading prettypandas-0.0.4.tar.gz (6.5 kB)\n",
            "Requirement already satisfied: babel in /usr/local/lib/python3.7/dist-packages (from prettypandas) (2.9.1)\n",
            "Requirement already satisfied: numpy in /usr/local/lib/python3.7/dist-packages (from prettypandas) (1.19.5)\n",
            "Requirement already satisfied: pandas>=0.17.1 in /usr/local/lib/python3.7/dist-packages (from prettypandas) (1.1.5)\n",
            "Requirement already satisfied: pytz>=2017.2 in /usr/local/lib/python3.7/dist-packages (from pandas>=0.17.1->prettypandas) (2018.9)\n",
            "Requirement already satisfied: python-dateutil>=2.7.3 in /usr/local/lib/python3.7/dist-packages (from pandas>=0.17.1->prettypandas) (2.8.2)\n",
            "Requirement already satisfied: six>=1.5 in /usr/local/lib/python3.7/dist-packages (from python-dateutil>=2.7.3->pandas>=0.17.1->prettypandas) (1.15.0)\n",
            "Building wheels for collected packages: prettypandas\n",
            "  Building wheel for prettypandas (setup.py) ... \u001b[?25l\u001b[?25hdone\n",
            "  Created wheel for prettypandas: filename=prettypandas-0.0.4-py3-none-any.whl size=6441 sha256=18eabaf58b0e4775f60d9a1594e87d922393e4e9a4b6f1aa701bfe3e76c63921\n",
            "  Stored in directory: /root/.cache/pip/wheels/35/47/0e/65585272aa3e5b3f82b90cd0177f13deabe7b6a4f14e2d6d2c\n",
            "Successfully built prettypandas\n",
            "Installing collected packages: prettypandas\n",
            "Successfully installed prettypandas-0.0.4\n"
          ]
        }
      ]
    },
    {
      "cell_type": "code",
      "source": [
        "import pandas as pd\n",
        "import prettypandas as pp\n",
        "\n",
        "df = pd.DataFrame([[1,2,3],[4,5,6]], columns=['a','b','c'])\n",
        "df \\\n",
        "    .pipe(pp.PrettyPandas) \\\n",
        "    .as_currency('EUR', subset='b') \\\n",
        "    .total() \\\n",
        "    .average()"
      ],
      "metadata": {
        "colab": {
          "base_uri": "https://localhost:8080/",
          "height": 124
        },
        "id": "YxhOsIkqoWxK",
        "outputId": "fe962551-b2d9-4421-9a01-b9bdde4745a3"
      },
      "execution_count": 5,
      "outputs": [
        {
          "output_type": "execute_result",
          "data": {
            "text/html": [
              "<style  type=\"text/css\" >\n",
              "#T_6b285628_6644_11ec_bcfa_0242ac1c0002row2_col0,#T_6b285628_6644_11ec_bcfa_0242ac1c0002row2_col1,#T_6b285628_6644_11ec_bcfa_0242ac1c0002row2_col2,#T_6b285628_6644_11ec_bcfa_0242ac1c0002row3_col0,#T_6b285628_6644_11ec_bcfa_0242ac1c0002row3_col1,#T_6b285628_6644_11ec_bcfa_0242ac1c0002row3_col2{\n",
              "            font-weight:  900;\n",
              "        }</style><table id=\"T_6b285628_6644_11ec_bcfa_0242ac1c0002\" ><thead>    <tr>        <th class=\"blank level0\" ></th>        <th class=\"col_heading level0 col0\" >a</th>        <th class=\"col_heading level0 col1\" >b</th>        <th class=\"col_heading level0 col2\" >c</th>    </tr></thead><tbody>\n",
              "                <tr>\n",
              "                        <th id=\"T_6b285628_6644_11ec_bcfa_0242ac1c0002level0_row0\" class=\"row_heading level0 row0\" >0</th>\n",
              "                        <td id=\"T_6b285628_6644_11ec_bcfa_0242ac1c0002row0_col0\" class=\"data row0 col0\" >1.000000</td>\n",
              "                        <td id=\"T_6b285628_6644_11ec_bcfa_0242ac1c0002row0_col1\" class=\"data row0 col1\" >€2.00</td>\n",
              "                        <td id=\"T_6b285628_6644_11ec_bcfa_0242ac1c0002row0_col2\" class=\"data row0 col2\" >3.000000</td>\n",
              "            </tr>\n",
              "            <tr>\n",
              "                        <th id=\"T_6b285628_6644_11ec_bcfa_0242ac1c0002level0_row1\" class=\"row_heading level0 row1\" >1</th>\n",
              "                        <td id=\"T_6b285628_6644_11ec_bcfa_0242ac1c0002row1_col0\" class=\"data row1 col0\" >4.000000</td>\n",
              "                        <td id=\"T_6b285628_6644_11ec_bcfa_0242ac1c0002row1_col1\" class=\"data row1 col1\" >€5.00</td>\n",
              "                        <td id=\"T_6b285628_6644_11ec_bcfa_0242ac1c0002row1_col2\" class=\"data row1 col2\" >6.000000</td>\n",
              "            </tr>\n",
              "            <tr>\n",
              "                        <th id=\"T_6b285628_6644_11ec_bcfa_0242ac1c0002level0_row2\" class=\"row_heading level0 row2\" >Total</th>\n",
              "                        <td id=\"T_6b285628_6644_11ec_bcfa_0242ac1c0002row2_col0\" class=\"data row2 col0\" >5.000000</td>\n",
              "                        <td id=\"T_6b285628_6644_11ec_bcfa_0242ac1c0002row2_col1\" class=\"data row2 col1\" >€7.00</td>\n",
              "                        <td id=\"T_6b285628_6644_11ec_bcfa_0242ac1c0002row2_col2\" class=\"data row2 col2\" >9.000000</td>\n",
              "            </tr>\n",
              "            <tr>\n",
              "                        <th id=\"T_6b285628_6644_11ec_bcfa_0242ac1c0002level0_row3\" class=\"row_heading level0 row3\" >Average</th>\n",
              "                        <td id=\"T_6b285628_6644_11ec_bcfa_0242ac1c0002row3_col0\" class=\"data row3 col0\" >2.500000</td>\n",
              "                        <td id=\"T_6b285628_6644_11ec_bcfa_0242ac1c0002row3_col1\" class=\"data row3 col1\" >€3.50</td>\n",
              "                        <td id=\"T_6b285628_6644_11ec_bcfa_0242ac1c0002row3_col2\" class=\"data row3 col2\" >4.500000</td>\n",
              "            </tr>\n",
              "    </tbody></table>"
            ],
            "text/plain": [
              "           a    b    c\n",
              "0        1.0  2.0  3.0\n",
              "1        4.0  5.0  6.0\n",
              "Total    5.0  7.0  9.0\n",
              "Average  2.5  3.5  4.5"
            ]
          },
          "metadata": {},
          "execution_count": 5
        }
      ]
    }
  ]
}