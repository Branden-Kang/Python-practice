{
  "nbformat": 4,
  "nbformat_minor": 0,
  "metadata": {
    "colab": {
      "name": "How and when to use __slots__ in python.ipynb",
      "provenance": [],
      "authorship_tag": "ABX9TyMQ/O4Au7JMblVkI90NiuTV"
    },
    "kernelspec": {
      "name": "python3",
      "display_name": "Python 3"
    },
    "language_info": {
      "name": "python"
    }
  },
  "cells": [
    {
      "cell_type": "markdown",
      "source": [
        "[Reference](https://aabidalisofi.medium.com/how-and-when-to-use-slots-in-python-ac1ca167f2d)"
      ],
      "metadata": {
        "id": "q8nzTDyC0XqE"
      }
    },
    {
      "cell_type": "code",
      "execution_count": 1,
      "metadata": {
        "colab": {
          "base_uri": "https://localhost:8080/",
          "height": 37
        },
        "id": "9KefSh3DzYOW",
        "outputId": "f0f57f04-b503-4423-f169-7711eab49efc"
      },
      "outputs": [
        {
          "output_type": "execute_result",
          "data": {
            "text/plain": [
              "'test'"
            ],
            "application/vnd.google.colaboratory.intrinsic+json": {
              "type": "string"
            }
          },
          "metadata": {},
          "execution_count": 1
        }
      ],
      "source": [
        "# A email class with out using slots\n",
        "class Email :\n",
        "  def __init__(self,subject,to,message) :\n",
        "    self.subject = subject\n",
        "    self.message = message\n",
        "    self.to = to\n",
        "\n",
        "class EmailWithSlots :\n",
        "  __slots__ = ('subject','to','message')\n",
        "  def __init__(self,subject,to,message) :\n",
        "    self.subject = subject\n",
        "    self.message = message\n",
        "    self.to = to\n",
        "\n",
        "email = EmailWithSlots('test','me@gmail.com','testing slots')\n",
        "email.subject"
      ]
    },
    {
      "cell_type": "code",
      "source": [
        "email.__dict__  # cant access __dict__ because its not created"
      ],
      "metadata": {
        "colab": {
          "base_uri": "https://localhost:8080/",
          "height": 198
        },
        "id": "IOX_kCZOz2Dt",
        "outputId": "75ce18d4-da3f-4bdf-a9b2-86d0ff9ebe6a"
      },
      "execution_count": 2,
      "outputs": [
        {
          "output_type": "error",
          "ename": "AttributeError",
          "evalue": "ignored",
          "traceback": [
            "\u001b[0;31m---------------------------------------------------------------------------\u001b[0m",
            "\u001b[0;31mAttributeError\u001b[0m                            Traceback (most recent call last)",
            "\u001b[0;32m<ipython-input-2-a3d18eb7120e>\u001b[0m in \u001b[0;36m<module>\u001b[0;34m()\u001b[0m\n\u001b[0;32m----> 1\u001b[0;31m \u001b[0memail\u001b[0m\u001b[0;34m.\u001b[0m\u001b[0m__dict__\u001b[0m  \u001b[0;31m# cant access __dict__ because its not created\u001b[0m\u001b[0;34m\u001b[0m\u001b[0;34m\u001b[0m\u001b[0m\n\u001b[0m",
            "\u001b[0;31mAttributeError\u001b[0m: 'EmailWithSlots' object has no attribute '__dict__'"
          ]
        }
      ]
    }
  ]
}