{
  "nbformat": 4,
  "nbformat_minor": 0,
  "metadata": {
    "colab": {
      "provenance": [],
      "authorship_tag": "ABX9TyPl0jwJIXjg7VaE4X2XCOcg"
    },
    "kernelspec": {
      "name": "python3",
      "display_name": "Python 3"
    },
    "language_info": {
      "name": "python"
    }
  },
  "cells": [
    {
      "cell_type": "markdown",
      "source": [
        "[Reference](https://pravash-techie.medium.com/python-event-monitoring-with-watchdogs-86125f946da6)"
      ],
      "metadata": {
        "id": "x9xm17lIlPqj"
      }
    },
    {
      "cell_type": "code",
      "execution_count": 1,
      "metadata": {
        "id": "5KI87t7ElNBy"
      },
      "outputs": [],
      "source": [
        "from watchdog.observers import Observer\n",
        "from watchdog.events import FileSystemEventHandler\n",
        "import shutil\n",
        "import time\n",
        "import os\n",
        "from datetime import datetime\n",
        "from watchdog_fileobserver_ex.main import main\n",
        "\n",
        "\n",
        "def create_directory(file_path=None):\n",
        "    # Get the current date in the format of 'year-month-day'\n",
        "    current_date = datetime.now().strftime('%Y-%m-%d')\n",
        "\n",
        "    # Create a folder with the current date\n",
        "    folder_path = f'{file_path}/{current_date}'\n",
        "    if not os.path.exists(folder_path):\n",
        "        os.makedirs(folder_path)\n",
        "        return folder_path\n",
        "    else:\n",
        "        return folder_path\n",
        "\n",
        "\n",
        "class MyHandler(FileSystemEventHandler):\n",
        "    def on_created(self, event):\n",
        "        dir_path = event.src_path.split('/input_files')\n",
        "        processed_files = f'{dir_path[0]}/processed_files'\n",
        "\n",
        "        child_processed_dir = create_directory(file_path=processed_files)\n",
        "\n",
        "        if event:\n",
        "            print(\"file created:{}\".format(event.src_path))\n",
        "            # call function here\n",
        "            main(file_name=event.src_path)\n",
        "\n",
        "            file_name = event.src_path.split('/')[-1]\n",
        "            destination_path = f'{child_processed_dir}/{file_name}'\n",
        "\n",
        "            shutil.move(event.src_path, destination_path)\n",
        "            print(\"file moved:{} to {}\".format(event.src_path, destination_path))\n",
        "\n",
        "\n",
        "if __name__ == \"__main__\":\n",
        "    observer = Observer()\n",
        "    event_handler = MyHandler()\n",
        "    observer.schedule(event_handler, path='./input_files', recursive=True)\n",
        "    observer.start()\n",
        "    try:\n",
        "        while True:\n",
        "            time.sleep(300)\n",
        "    except KeyboardInterrupt:\n",
        "        observer.stop()\n",
        "    observer.join()"
      ]
    },
    {
      "cell_type": "code",
      "source": [
        "import csv\n",
        "\n",
        "def read_csv_file(file_name):\n",
        "    try:\n",
        "        with open(f\"{file_name}\", 'r') as file:\n",
        "          csvreader = csv.DictReader(file)\n",
        "          for row in csvreader:\n",
        "            print(row)\n",
        "        return csvreader\n",
        "    except Exception as e:\n",
        "        pass\n",
        "\n",
        "def main(file_name=None):\n",
        "    if file_name:\n",
        "        dict_data = read_csv_file(file_name)\n",
        "        print(\"Process completed\")\n",
        "    else:\n",
        "        print(\"Invalid file path\")"
      ],
      "metadata": {
        "id": "LpweQXPSlUHh"
      },
      "execution_count": 2,
      "outputs": []
    },
    {
      "cell_type": "code",
      "source": [
        "from celery import Celery\n",
        "from watchdog.observers import Observer\n",
        "from watchdog.events import PatternMatchingEventHandler\n",
        "import os\n",
        "import time\n",
        "\n",
        "app = Celery('celery_ex.celery_apptask_ex', broker='redis://localhost:6379/0')\n",
        "\n",
        "\n",
        "@app.task\n",
        "def process_file(file_path):\n",
        "    # do something with the file\n",
        "    with open(file_path, 'r') as f:\n",
        "        print(f.read())\n",
        "\n",
        "\n",
        "class MyHandler(PatternMatchingEventHandler):\n",
        "    def on_created(self, event):\n",
        "        file_size = -1\n",
        "        while file_size != os.path.getsize(event.src_path):\n",
        "            file_size = os.path.getsize(event.src_path)\n",
        "            print(file_size)\n",
        "            time.sleep(1)\n",
        "\n",
        "        if event:\n",
        "            print(\"file created:{}\".format(event.src_path))\n",
        "            # call function here\n",
        "            process_file.apply_async(args=(event.src_path,))\n",
        "\n",
        "\n",
        "if __name__ == \"__main__\":\n",
        "    observer = Observer()\n",
        "    event_handler = MyHandler(patterns=[\"*.csv\", \"*.pdf\"],\n",
        "                              ignore_patterns=[],\n",
        "                              ignore_directories=True\n",
        "                              )\n",
        "    observer.schedule(event_handler, path='./input_files', recursive=True)\n",
        "    observer.start()\n",
        "\n",
        "    try:\n",
        "        while True:\n",
        "            time.sleep(1)\n",
        "    except KeyboardInterrupt:\n",
        "        observer.stop()\n",
        "    observer.join()"
      ],
      "metadata": {
        "id": "ZgwqCvmTlWGQ"
      },
      "execution_count": 3,
      "outputs": []
    }
  ]
}