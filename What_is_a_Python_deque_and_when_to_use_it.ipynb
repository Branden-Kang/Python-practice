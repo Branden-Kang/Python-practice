{
  "nbformat": 4,
  "nbformat_minor": 0,
  "metadata": {
    "colab": {
      "provenance": [],
      "authorship_tag": "ABX9TyNJ2Tmj/DjimDYgLiQEI420"
    },
    "kernelspec": {
      "name": "python3",
      "display_name": "Python 3"
    },
    "language_info": {
      "name": "python"
    }
  },
  "cells": [
    {
      "cell_type": "markdown",
      "source": [
        "[Reference](https://medium.com/@BetterEverything/what-is-a-python-deque-and-when-to-use-it-a0dd118218a1)"
      ],
      "metadata": {
        "id": "Rh3KCHwwCmol"
      }
    },
    {
      "cell_type": "code",
      "execution_count": 1,
      "metadata": {
        "colab": {
          "base_uri": "https://localhost:8080/"
        },
        "id": "aAOsLsh1ClMK",
        "outputId": "753c0708-2976-4ed7-81fa-caa8a28c7712"
      },
      "outputs": [
        {
          "output_type": "stream",
          "name": "stdout",
          "text": [
            "deque([(50, 20), (300, 18), (400, 16)])\n"
          ]
        }
      ],
      "source": [
        "from collections import deque\n",
        "\n",
        "batches = deque()\n",
        "\n",
        "batches.append((200,20))\n",
        "batches.append((300,18))\n",
        "batches.append((400,16))\n",
        "\n",
        "sale_amount = 150\n",
        "\n",
        "while sale_amount>0:\n",
        "    oldest_batch = batches.popleft()\n",
        "    batch_amount, batch_price = oldest_batch\n",
        "\n",
        "    remove_from_batch = min(batch_amount,sale_amount)\n",
        "    remainder = batch_amount - remove_from_batch\n",
        "    if remainder > 0:\n",
        "        batches.appendleft((remainder,batch_price))\n",
        "\n",
        "    sale_amount -= remove_from_batch\n",
        "\n",
        "print(batches)"
      ]
    }
  ]
}