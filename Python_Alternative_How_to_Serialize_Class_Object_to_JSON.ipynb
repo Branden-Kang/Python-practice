{
  "nbformat": 4,
  "nbformat_minor": 0,
  "metadata": {
    "colab": {
      "provenance": [],
      "authorship_tag": "ABX9TyNoDUbuY1UBw/uYa/xiqjmL"
    },
    "kernelspec": {
      "name": "python3",
      "display_name": "Python 3"
    },
    "language_info": {
      "name": "python"
    }
  },
  "cells": [
    {
      "cell_type": "markdown",
      "source": [
        "[Reference](https://medium.com/@life-is-short-so-enjoy-it/python-alternative-how-to-serialize-class-object-to-json-de614210dea2)"
      ],
      "metadata": {
        "id": "ACJnD22jXa45"
      }
    },
    {
      "cell_type": "markdown",
      "source": [
        "# Class Definition with PyDantic"
      ],
      "metadata": {
        "id": "ZjHk87w9YXSy"
      }
    },
    {
      "cell_type": "code",
      "source": [
        "from pydantic import BaseModel"
      ],
      "metadata": {
        "id": "iPyU160wYflO"
      },
      "execution_count": 2,
      "outputs": []
    },
    {
      "cell_type": "code",
      "execution_count": 3,
      "metadata": {
        "id": "xnh_jcZmXW6p"
      },
      "outputs": [],
      "source": [
        "class EMREKSJobRun(BaseModel):\n",
        "    job_name: str\n",
        "\n",
        "class EMREKSSJobPayload(BaseModel):\n",
        "    spark_job_name: str"
      ]
    },
    {
      "cell_type": "markdown",
      "source": [
        "# Built-in “json.dumps” doesn’t work"
      ],
      "metadata": {
        "id": "36UKith3YZov"
      }
    },
    {
      "cell_type": "code",
      "source": [
        "import json\n",
        "from typing import List\n",
        "\n",
        "from pydantic import BaseModel\n",
        "\n",
        "\n",
        "class EMREKSVirtualCluster(BaseModel):\n",
        "    name: str\n",
        "\n",
        "\n",
        "def get_virtual_clusters() -> List[EMREKSVirtualCluster]:\n",
        "    r_value = [\n",
        "        EMREKSVirtualCluster(name=\"xxx\"),\n",
        "        EMREKSVirtualCluster(name=\"yyy\"),\n",
        "    ]\n",
        "\n",
        "    return r_value\n",
        "\n",
        "\n",
        "res = get_virtual_clusters()\n",
        "print(json.dumps(res))"
      ],
      "metadata": {
        "id": "SWGUj3C3YX24"
      },
      "execution_count": 5,
      "outputs": []
    },
    {
      "cell_type": "markdown",
      "source": [
        "# Try `jsonable_encoder` to Serialize Class Object"
      ],
      "metadata": {
        "id": "j6ArjZc_Ym3Q"
      }
    },
    {
      "cell_type": "code",
      "source": [
        "import json\n",
        "from typing import List\n",
        "\n",
        "from pydantic import BaseModel\n",
        "\n",
        "\n",
        "# class EMREKSVirtualCluster(BaseModel):\n",
        "class EMREKSVirtualCluster(BaseModel):\n",
        "    name: str\n",
        "\n",
        "\n",
        "def get_virtual_clusters() -> List[EMREKSVirtualCluster]:\n",
        "    r_value = [\n",
        "        EMREKSVirtualCluster(name=\"xxx\"),\n",
        "        EMREKSVirtualCluster(name=\"yyy\"),\n",
        "    ]\n",
        "\n",
        "    return r_value\n",
        "\n",
        "\n",
        "from fastapi.encoders import jsonable_encoder\n",
        "\n",
        "res = get_virtual_clusters()\n",
        "print(jsonable_encoder(res))"
      ],
      "metadata": {
        "id": "LVzuJF4LYgMX"
      },
      "execution_count": 11,
      "outputs": []
    }
  ]
}