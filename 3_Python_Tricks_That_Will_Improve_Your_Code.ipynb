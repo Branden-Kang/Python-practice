{
  "nbformat": 4,
  "nbformat_minor": 0,
  "metadata": {
    "colab": {
      "name": "3 Python Tricks That Will Improve Your Code.ipynb",
      "provenance": [],
      "authorship_tag": "ABX9TyOT98jgcjXjfkdQPk0WLWJX"
    },
    "kernelspec": {
      "name": "python3",
      "display_name": "Python 3"
    },
    "language_info": {
      "name": "python"
    }
  },
  "cells": [
    {
      "cell_type": "markdown",
      "metadata": {
        "id": "NRuFEFATHGzE"
      },
      "source": [
        "[Reference](https://betterprogramming.pub/3-python-tricks-that-will-improve-your-code-525ca693632e)"
      ]
    },
    {
      "cell_type": "markdown",
      "metadata": {
        "id": "PNUDmISYHJqs"
      },
      "source": [
        "# 1. Formatting big integers"
      ]
    },
    {
      "cell_type": "code",
      "metadata": {
        "id": "YenW4Jo4F6jH"
      },
      "source": [
        "a = 1000000000\n",
        "# Is variable a billion or 100 millions?\n",
        "\n",
        "# Let's use underscores to make it easier to read\n",
        "a = 1_000_000_000\n",
        "\n",
        "# You can group numbers as you like\n",
        "b = 1_0_9_0"
      ],
      "execution_count": 1,
      "outputs": []
    },
    {
      "cell_type": "code",
      "metadata": {
        "colab": {
          "base_uri": "https://localhost:8080/"
        },
        "id": "q8HIKhQ6HM3W",
        "outputId": "3789210e-694f-4458-84d1-0e9264f094b5"
      },
      "source": [
        "print(a)\n",
        "print(b)"
      ],
      "execution_count": 2,
      "outputs": [
        {
          "output_type": "stream",
          "text": [
            "1000000000\n",
            "1090\n"
          ],
          "name": "stdout"
        }
      ]
    },
    {
      "cell_type": "code",
      "metadata": {
        "id": "Zj8cGUHjHO7m"
      },
      "source": [
        "# grouping hexadecimal addresses by words\n",
        "addr = 0xCAFE_F00D\n",
        "\n",
        "# grouping bits into nibbles in a binary literal\n",
        "flags = 0b_0011_1111_0100_1110"
      ],
      "execution_count": 3,
      "outputs": []
    },
    {
      "cell_type": "code",
      "metadata": {
        "colab": {
          "base_uri": "https://localhost:8080/"
        },
        "id": "emG81awqHRf6",
        "outputId": "6045400b-5a2e-4d21-df66-d84022cac201"
      },
      "source": [
        "print(addr)\n",
        "print(flags)"
      ],
      "execution_count": 4,
      "outputs": [
        {
          "output_type": "stream",
          "text": [
            "3405705229\n",
            "16206\n"
          ],
          "name": "stdout"
        }
      ]
    },
    {
      "cell_type": "markdown",
      "metadata": {
        "id": "dmOtpvcNHUf6"
      },
      "source": [
        "# 2. Pathlib"
      ]
    },
    {
      "cell_type": "code",
      "metadata": {
        "colab": {
          "base_uri": "https://localhost:8080/"
        },
        "id": "IwB31KQJHSxg",
        "outputId": "688b6c86-e1be-4bcf-e00f-735fe43ad41f"
      },
      "source": [
        "from pathlib import Path\n",
        "\n",
        "path = Path(\"some_folder\")\n",
        "print(path)\n",
        "\n",
        "# We can add more subfolders in a readable way\n",
        "path = path / \"sub_folter\" / \"sub_sub_folder\"\n",
        "print(path)\n",
        "\n",
        "# output: some_folder/sub_folter/sub_sub_folder# make path absolute\n",
        "print(path.resolve())"
      ],
      "execution_count": 6,
      "outputs": [
        {
          "output_type": "stream",
          "text": [
            "some_folder\n",
            "some_folder/sub_folter/sub_sub_folder\n",
            "/content/some_folder/sub_folter/sub_sub_folder\n"
          ],
          "name": "stdout"
        }
      ]
    },
    {
      "cell_type": "markdown",
      "metadata": {
        "id": "XEvtT2VOHdeu"
      },
      "source": [
        "# 3. Simplify string formatting"
      ]
    },
    {
      "cell_type": "code",
      "metadata": {
        "colab": {
          "base_uri": "https://localhost:8080/"
        },
        "id": "CNVregJZHYu1",
        "outputId": "9783b191-20ea-4a91-c381-c2e7e7b165c2"
      },
      "source": [
        "person = 'Roman'\n",
        "exercise = 0\n",
        "print(\"%d-times %s exercised during corona epidemic\" % (exercise, person))"
      ],
      "execution_count": 7,
      "outputs": [
        {
          "output_type": "stream",
          "text": [
            "0-times Roman exercised during corona epidemic\n"
          ],
          "name": "stdout"
        }
      ]
    },
    {
      "cell_type": "code",
      "metadata": {
        "colab": {
          "base_uri": "https://localhost:8080/"
        },
        "id": "j6crPbbWHga1",
        "outputId": "c9393e90-0d14-4fed-e64f-feb163089375"
      },
      "source": [
        "person = 'roman'\n",
        "exercise = 0\n",
        "\n",
        "print(f\"{exercise}-times {person} exercised during corona epidemic\")"
      ],
      "execution_count": 8,
      "outputs": [
        {
          "output_type": "stream",
          "text": [
            "0-times roman exercised during corona epidemic\n"
          ],
          "name": "stdout"
        }
      ]
    },
    {
      "cell_type": "code",
      "metadata": {
        "colab": {
          "base_uri": "https://localhost:8080/"
        },
        "id": "ccbBItCBHjKJ",
        "outputId": "a6cc94cb-0cb9-4d06-d8f8-dcff62f7ec5a"
      },
      "source": [
        "print(f\"{exercise+1}-times {person} exercised during corona epidemic\")"
      ],
      "execution_count": 9,
      "outputs": [
        {
          "output_type": "stream",
          "text": [
            "1-times roman exercised during corona epidemic\n"
          ],
          "name": "stdout"
        }
      ]
    },
    {
      "cell_type": "code",
      "metadata": {
        "colab": {
          "base_uri": "https://localhost:8080/"
        },
        "id": "byQ14MgOHk0N",
        "outputId": "620518eb-b8e5-42fb-ea83-31c53901e88f"
      },
      "source": [
        "f = 0.333333\n",
        "print(f\"this is f={f:.2f} rounded to 2 decimals\")"
      ],
      "execution_count": 10,
      "outputs": [
        {
          "output_type": "stream",
          "text": [
            "this is f=0.33 rounded to 2 decimals\n"
          ],
          "name": "stdout"
        }
      ]
    }
  ]
}