{
  "nbformat": 4,
  "nbformat_minor": 0,
  "metadata": {
    "colab": {
      "name": "7 Modern Python Mistakes.ipynb",
      "provenance": [],
      "authorship_tag": "ABX9TyOaCv1fO5Ao+PDWeIrGCVS3"
    },
    "kernelspec": {
      "name": "python3",
      "display_name": "Python 3"
    }
  },
  "cells": [
    {
      "cell_type": "markdown",
      "metadata": {
        "id": "rePgYcG2-3gZ"
      },
      "source": [
        "[Reference](https://towardsdatascience.com/7-modern-python-mistakes-to-fix-now-6ff6f1dedbf3)"
      ]
    },
    {
      "cell_type": "markdown",
      "metadata": {
        "id": "SiPEA7zXCQke"
      },
      "source": [
        "# +="
      ]
    },
    {
      "cell_type": "code",
      "metadata": {
        "id": "R6Okzi2h_KMU"
      },
      "source": [
        "x = 5"
      ],
      "execution_count": 3,
      "outputs": []
    },
    {
      "cell_type": "code",
      "metadata": {
        "colab": {
          "base_uri": "https://localhost:8080/"
        },
        "id": "YCKcvzu1-3ps",
        "outputId": "8b38f13b-05db-4da7-86ef-a1efc289b40e"
      },
      "source": [
        "x += 5 # x = x + 5\n",
        "x"
      ],
      "execution_count": 4,
      "outputs": [
        {
          "output_type": "execute_result",
          "data": {
            "text/plain": [
              "10"
            ]
          },
          "metadata": {
            "tags": []
          },
          "execution_count": 4
        }
      ]
    },
    {
      "cell_type": "markdown",
      "metadata": {
        "id": "GI-sxiByCPOz"
      },
      "source": [
        "# Positional Argument Denotion"
      ]
    },
    {
      "cell_type": "code",
      "metadata": {
        "id": "bX-Gm1ET-fdA"
      },
      "source": [
        "def numbers(custom,\\,five=5,ten=10,fifteen=15):\n",
        "    total = five + ten + fifteen + custom\n",
        "    return(total)"
      ],
      "execution_count": 6,
      "outputs": []
    },
    {
      "cell_type": "markdown",
      "metadata": {
        "id": "n-8oIuGUCJHu"
      },
      "source": [
        "# Return on init"
      ]
    },
    {
      "cell_type": "code",
      "metadata": {
        "colab": {
          "base_uri": "https://localhost:8080/",
          "height": 232
        },
        "id": "piYp-65dBX-7",
        "outputId": "a6797846-7546-4f8f-f790-03812c448469"
      },
      "source": [
        "class hello:\n",
        "    def __init__(self):\n",
        "        return(10)\n",
        "myclass = hello()"
      ],
      "execution_count": 7,
      "outputs": [
        {
          "output_type": "error",
          "ename": "TypeError",
          "evalue": "ignored",
          "traceback": [
            "\u001b[0;31m---------------------------------------------------------------------------\u001b[0m",
            "\u001b[0;31mTypeError\u001b[0m                                 Traceback (most recent call last)",
            "\u001b[0;32m<ipython-input-7-cd717e59506a>\u001b[0m in \u001b[0;36m<module>\u001b[0;34m()\u001b[0m\n\u001b[1;32m      2\u001b[0m     \u001b[0;32mdef\u001b[0m \u001b[0m__init__\u001b[0m\u001b[0;34m(\u001b[0m\u001b[0mself\u001b[0m\u001b[0;34m)\u001b[0m\u001b[0;34m:\u001b[0m\u001b[0;34m\u001b[0m\u001b[0;34m\u001b[0m\u001b[0m\n\u001b[1;32m      3\u001b[0m         \u001b[0;32mreturn\u001b[0m\u001b[0;34m(\u001b[0m\u001b[0;36m10\u001b[0m\u001b[0;34m)\u001b[0m\u001b[0;34m\u001b[0m\u001b[0;34m\u001b[0m\u001b[0m\n\u001b[0;32m----> 4\u001b[0;31m \u001b[0mmyclass\u001b[0m \u001b[0;34m=\u001b[0m \u001b[0mhello\u001b[0m\u001b[0;34m(\u001b[0m\u001b[0;34m)\u001b[0m\u001b[0;34m\u001b[0m\u001b[0;34m\u001b[0m\u001b[0m\n\u001b[0m",
            "\u001b[0;31mTypeError\u001b[0m: __init__() should return None, not 'int'"
          ]
        }
      ]
    },
    {
      "cell_type": "markdown",
      "metadata": {
        "id": "dHhHMdytCHzC"
      },
      "source": [
        "# Circular Dependencies\n",
        "When writing a large Python package with different pieces that all accomplish similar goals, often your packages will depend on each-other"
      ]
    },
    {
      "cell_type": "markdown",
      "metadata": {
        "id": "fOtNiKEuCE1o"
      },
      "source": [
        "# Spaces or indentations\n",
        "Python uses indentation rather than delimiters for containing code within other code"
      ]
    },
    {
      "cell_type": "markdown",
      "metadata": {
        "id": "F-5K1EgaDQC4"
      },
      "source": [
        "# Block Iteration"
      ]
    },
    {
      "cell_type": "code",
      "metadata": {
        "id": "WZNP_lYHDj1x"
      },
      "source": [
        "x = [1,2,3]"
      ],
      "execution_count": 9,
      "outputs": []
    },
    {
      "cell_type": "code",
      "metadata": {
        "colab": {
          "base_uri": "https://localhost:8080/"
        },
        "id": "ImVpQGuPCFQe",
        "outputId": "f3f365ec-16fd-42bf-b02c-cf2fe3c22014"
      },
      "source": [
        "[i + 5 for i in x]"
      ],
      "execution_count": 10,
      "outputs": [
        {
          "output_type": "execute_result",
          "data": {
            "text/plain": [
              "[6, 7, 8]"
            ]
          },
          "metadata": {
            "tags": []
          },
          "execution_count": 10
        }
      ]
    },
    {
      "cell_type": "markdown",
      "metadata": {
        "id": "0arH6xXBDlqP"
      },
      "source": [
        "# Interned Strings"
      ]
    },
    {
      "cell_type": "code",
      "metadata": {
        "colab": {
          "base_uri": "https://localhost:8080/"
        },
        "id": "ABuHuwqwDi-l",
        "outputId": "6a3403f7-4eea-43b8-ad2f-7f6ca39d4e11"
      },
      "source": [
        "a = 'hello'\n",
        "b = 'hello'\n",
        "\n",
        "a is b"
      ],
      "execution_count": 11,
      "outputs": [
        {
          "output_type": "execute_result",
          "data": {
            "text/plain": [
              "True"
            ]
          },
          "metadata": {
            "tags": []
          },
          "execution_count": 11
        }
      ]
    },
    {
      "cell_type": "code",
      "metadata": {
        "colab": {
          "base_uri": "https://localhost:8080/"
        },
        "id": "bPyayps-DoVM",
        "outputId": "2a907028-1c00-4a73-f5a3-df12622ce6d2"
      },
      "source": [
        "a = '@hello'\n",
        "b = '@hello'\n",
        "\n",
        "a is b"
      ],
      "execution_count": 12,
      "outputs": [
        {
          "output_type": "execute_result",
          "data": {
            "text/plain": [
              "False"
            ]
          },
          "metadata": {
            "tags": []
          },
          "execution_count": 12
        }
      ]
    }
  ]
}