{
  "nbformat": 4,
  "nbformat_minor": 0,
  "metadata": {
    "colab": {
      "name": "Boolean Operators in Python.ipynb",
      "provenance": [],
      "authorship_tag": "ABX9TyPgtK2+n6D8yWD1ooRvoXrN"
    },
    "kernelspec": {
      "name": "python3",
      "display_name": "Python 3"
    }
  },
  "cells": [
    {
      "cell_type": "markdown",
      "metadata": {
        "id": "SyTDPu0JQOS4"
      },
      "source": [
        "[Reference](https://medium.com/techtofreedom/4-facts-to-know-before-you-use-boolean-operators-in-python-f646fc496169)"
      ]
    },
    {
      "cell_type": "code",
      "metadata": {
        "colab": {
          "base_uri": "https://localhost:8080/"
        },
        "id": "fvwEh4GTP5mb",
        "outputId": "5cf1cbb9-e142-457a-9fb1-32e046302c41"
      },
      "source": [
        "du = 0\n",
        "duration = du or 3600\n",
        "duration"
      ],
      "execution_count": 1,
      "outputs": [
        {
          "output_type": "execute_result",
          "data": {
            "text/plain": [
              "3600"
            ]
          },
          "metadata": {
            "tags": []
          },
          "execution_count": 1
        }
      ]
    },
    {
      "cell_type": "code",
      "metadata": {
        "id": "Ii_hvWWvQsBq"
      },
      "source": [
        "a = True or b"
      ],
      "execution_count": 2,
      "outputs": []
    },
    {
      "cell_type": "code",
      "metadata": {
        "colab": {
          "base_uri": "https://localhost:8080/"
        },
        "id": "p2hZI99OQvWv",
        "outputId": "b60906d8-ae0b-4f4c-9b39-3dda6ba0bde1"
      },
      "source": [
        "print (False and \"Branden\")"
      ],
      "execution_count": 3,
      "outputs": [
        {
          "output_type": "stream",
          "text": [
            "False\n"
          ],
          "name": "stdout"
        }
      ]
    },
    {
      "cell_type": "code",
      "metadata": {
        "colab": {
          "base_uri": "https://localhost:8080/"
        },
        "id": "IHVJZk9qQxP4",
        "outputId": "04a03db6-50bd-4a28-adee-8f932bbf51f7"
      },
      "source": [
        "print (False or \"Branden\")"
      ],
      "execution_count": 4,
      "outputs": [
        {
          "output_type": "stream",
          "text": [
            "Branden\n"
          ],
          "name": "stdout"
        }
      ]
    },
    {
      "cell_type": "code",
      "metadata": {
        "colab": {
          "base_uri": "https://localhost:8080/"
        },
        "id": "qfwlcBboQzu9",
        "outputId": "5895aaaf-d702-4390-f12a-67a89b3690af"
      },
      "source": [
        "True and False or not False"
      ],
      "execution_count": 6,
      "outputs": [
        {
          "output_type": "execute_result",
          "data": {
            "text/plain": [
              "True"
            ]
          },
          "metadata": {
            "tags": []
          },
          "execution_count": 6
        }
      ]
    },
    {
      "cell_type": "code",
      "metadata": {
        "colab": {
          "base_uri": "https://localhost:8080/"
        },
        "id": "H4DpyjxJQ5cU",
        "outputId": "45934328-18dd-42b9-be36-45c17eb6d5e1"
      },
      "source": [
        "(True and False) or (not False)"
      ],
      "execution_count": 7,
      "outputs": [
        {
          "output_type": "execute_result",
          "data": {
            "text/plain": [
              "True"
            ]
          },
          "metadata": {
            "tags": []
          },
          "execution_count": 7
        }
      ]
    }
  ]
}