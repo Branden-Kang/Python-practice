{
  "nbformat": 4,
  "nbformat_minor": 0,
  "metadata": {
    "colab": {
      "name": "Pearson’s Correlation.ipynb",
      "provenance": [],
      "authorship_tag": "ABX9TyN8VmZqJ9LC8us6c0qcsnRC"
    },
    "kernelspec": {
      "name": "python3",
      "display_name": "Python 3"
    },
    "language_info": {
      "name": "python"
    }
  },
  "cells": [
    {
      "cell_type": "markdown",
      "source": [
        "[Reference](https://towardsdev.com/pearsons-correlation-d7cc0890f646)"
      ],
      "metadata": {
        "id": "J_G1kRtGsfPB"
      }
    },
    {
      "cell_type": "code",
      "execution_count": 1,
      "metadata": {
        "id": "kLm8y47lW5Fk"
      },
      "outputs": [],
      "source": [
        "#dummy data\n",
        "ml = [48,67,89,76,55,66,89,90,99,100,100,32,55]\n",
        "dl = [52,61,78,81,50,49,95,100,100,90,89,21,62]\n",
        "\n",
        "## lets use numpy first\n",
        "import numpy as np\n",
        "\n",
        "#we can easily find corr matrix as follows\n",
        "corr = np.corrcoef(ml,dl)\n",
        "#corr = [[1 0.931] [0.931 1]]\n",
        "#or we can compute it via scipy\n",
        "\n",
        "from scipy.stats import pearsonr\n",
        "corr, _ = pearsonr(ml, dl)\n",
        "#corr = 0.931"
      ]
    }
  ]
}
