{
  "nbformat": 4,
  "nbformat_minor": 0,
  "metadata": {
    "colab": {
      "provenance": [],
      "authorship_tag": "ABX9TyOnXF2NrXrPpDHq/AxUtKdY"
    },
    "kernelspec": {
      "name": "python3",
      "display_name": "Python 3"
    },
    "language_info": {
      "name": "python"
    }
  },
  "cells": [
    {
      "cell_type": "markdown",
      "source": [
        "[Reference](https://nathanrosidi.medium.com/commonly-used-statistical-tests-in-data-science-93787568eb36)"
      ],
      "metadata": {
        "id": "PqWZBBvAV-IJ"
      }
    },
    {
      "cell_type": "markdown",
      "source": [
        "# T-Test"
      ],
      "metadata": {
        "id": "eiz8N7_nWE3b"
      }
    },
    {
      "cell_type": "code",
      "execution_count": 1,
      "metadata": {
        "colab": {
          "base_uri": "https://localhost:8080/"
        },
        "id": "nDevR4t0V8Xb",
        "outputId": "600c9696-3cf3-4738-c4a1-f9891de57018"
      },
      "outputs": [
        {
          "output_type": "stream",
          "name": "stdout",
          "text": [
            "T-Statistic: -1.243907870881994, P-Value: 0.21853742300977272\n"
          ]
        }
      ],
      "source": [
        "import numpy as np\n",
        "from scipy import stats\n",
        "\n",
        "# Sample data: Group A and Group B\n",
        "group_a = np.random.normal(5.0, 1.5, 30)\n",
        "group_b = np.random.normal(6.0, 1.5, 30)\n",
        "\n",
        "# Performing an Independent T-test\n",
        "t_stat, p_val = stats.ttest_ind(group_a, group_b)\n",
        "print(f\"T-Statistic: {t_stat}, P-Value: {p_val}\")"
      ]
    },
    {
      "cell_type": "markdown",
      "source": [
        "# Chi-Square Test"
      ],
      "metadata": {
        "id": "hRxMBL47WIK8"
      }
    },
    {
      "cell_type": "code",
      "source": [
        "from scipy.stats import chi2_contingency\n",
        "import numpy as np\n",
        "\n",
        "# Example data: Gender vs. Movie Preference\n",
        "data = np.array([[30, 10], [5, 25]])\n",
        "chi2, p, dof, expected = chi2_contingency(data)\n",
        "print(f\"Chi2 Statistic: {chi2}, P-value: {p}\")"
      ],
      "metadata": {
        "colab": {
          "base_uri": "https://localhost:8080/"
        },
        "id": "sZ5sG3BqWGWh",
        "outputId": "c8fa3c94-b6bd-4246-b024-5df65f933121"
      },
      "execution_count": 2,
      "outputs": [
        {
          "output_type": "stream",
          "name": "stdout",
          "text": [
            "Chi2 Statistic: 21.058333333333334, P-value: 4.455110459655313e-06\n"
          ]
        }
      ]
    },
    {
      "cell_type": "markdown",
      "source": [
        "# ANOVA (Analysis of Variance)"
      ],
      "metadata": {
        "id": "OzI2fiTZWKr2"
      }
    },
    {
      "cell_type": "code",
      "source": [
        "from scipy import stats\n",
        "import numpy as np\n",
        "\n",
        "# Sample data: Three different groups\n",
        "group1 = np.random.normal(5.0, 1.5, 30)\n",
        "group2 = np.random.normal(6.0, 1.5, 30)\n",
        "group3 = np.random.normal(7.0, 1.5, 30)\n",
        "\n",
        "# Performing One-Way ANOVA\n",
        "f_stat, p_val = stats.f_oneway(group1, group2, group3)\n",
        "print(f\"F-Statistic: {f_stat}, P-Value: {p_val}\")"
      ],
      "metadata": {
        "colab": {
          "base_uri": "https://localhost:8080/"
        },
        "id": "YjjGNg2pWJI7",
        "outputId": "b2d83e6c-2894-49d9-c66a-df86bdac9d4f"
      },
      "execution_count": 3,
      "outputs": [
        {
          "output_type": "stream",
          "name": "stdout",
          "text": [
            "F-Statistic: 13.531525828513411, P-Value: 7.643294139106177e-06\n"
          ]
        }
      ]
    },
    {
      "cell_type": "markdown",
      "source": [
        "# Pearson Correlation"
      ],
      "metadata": {
        "id": "5BVsugzWWNUS"
      }
    },
    {
      "cell_type": "code",
      "source": [
        "import numpy as np\n",
        "from scipy.stats import pearsonr\n",
        "\n",
        "# Sample data\n",
        "x = np.array([10, 20, 30, 40, 50])\n",
        "y = np.array([15, 25, 35, 45, 55])\n",
        "\n",
        "# Calculating Pearson Correlation\n",
        "corr, _ = pearsonr(x, y)\n",
        "print(f\"Pearson Correlation Coefficient: {corr}\")"
      ],
      "metadata": {
        "colab": {
          "base_uri": "https://localhost:8080/"
        },
        "id": "1TB92aG4WL5R",
        "outputId": "c4c2084d-de53-410b-bd12-afc9f0036d01"
      },
      "execution_count": 4,
      "outputs": [
        {
          "output_type": "stream",
          "name": "stdout",
          "text": [
            "Pearson Correlation Coefficient: 1.0\n"
          ]
        }
      ]
    },
    {
      "cell_type": "markdown",
      "source": [
        "# Mann-Whitney U Test"
      ],
      "metadata": {
        "id": "8mCnnllwWQWy"
      }
    },
    {
      "cell_type": "code",
      "source": [
        "from scipy.stats import mannwhitneyu\n",
        "import numpy as np\n",
        "\n",
        "# Sample data: Two groups\n",
        "group1 = np.random.normal(5.0, 1.5, 30)\n",
        "group2 = np.random.normal(6.0, 1.5, 30)\n",
        "\n",
        "# Performing Mann-Whitney U Test\n",
        "u_stat, p_val = mannwhitneyu(group1, group2)\n",
        "print(f\"U Statistic: {u_stat}, P-Value: {p_val}\")"
      ],
      "metadata": {
        "colab": {
          "base_uri": "https://localhost:8080/"
        },
        "id": "K2zSXUUhWPGQ",
        "outputId": "f1ec30c6-05b4-4abe-ec1c-5f5759ad55e3"
      },
      "execution_count": 5,
      "outputs": [
        {
          "output_type": "stream",
          "name": "stdout",
          "text": [
            "U Statistic: 224.0, P-Value: 0.000856411554987191\n"
          ]
        }
      ]
    }
  ]
}
