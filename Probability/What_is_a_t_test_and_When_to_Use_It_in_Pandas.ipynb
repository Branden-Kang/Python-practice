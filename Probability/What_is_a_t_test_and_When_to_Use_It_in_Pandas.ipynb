{
  "nbformat": 4,
  "nbformat_minor": 0,
  "metadata": {
    "colab": {
      "provenance": [],
      "authorship_tag": "ABX9TyOWS1zokQ9wGy0HEdV2Ajml"
    },
    "kernelspec": {
      "name": "python3",
      "display_name": "Python 3"
    },
    "language_info": {
      "name": "python"
    }
  },
  "cells": [
    {
      "cell_type": "markdown",
      "source": [
        "[Reference](https://medium.com/@amit25173/what-is-a-t-test-and-when-to-use-it-in-pandas-9fde303d3c9f)"
      ],
      "metadata": {
        "id": "Lt88UooOxamm"
      }
    },
    {
      "cell_type": "markdown",
      "source": [
        "# 1. One-Sample t-test"
      ],
      "metadata": {
        "id": "Td_iR1kFxfoZ"
      }
    },
    {
      "cell_type": "code",
      "execution_count": 1,
      "metadata": {
        "colab": {
          "base_uri": "https://localhost:8080/"
        },
        "id": "gXC1wk3Dve6P",
        "outputId": "96357632-bf7f-4604-b638-8238c848925c"
      },
      "outputs": [
        {
          "output_type": "stream",
          "name": "stdout",
          "text": [
            "T-statistic: 0.1653008495694165, P-value: 0.8698541293440403\n"
          ]
        }
      ],
      "source": [
        "import pandas as pd\n",
        "import numpy as np\n",
        "from scipy import stats\n",
        "\n",
        "# Generate random heights (mean = 172, std = 5)\n",
        "data = pd.DataFrame({'heights': np.random.normal(loc=172, scale=5, size=30)})\n",
        "\n",
        "# Perform one-sample t-test against population mean of 170\n",
        "t_stat, p_value = stats.ttest_1samp(data['heights'], 170)\n",
        "\n",
        "print(f\"T-statistic: {t_stat}, P-value: {p_value}\")"
      ]
    },
    {
      "cell_type": "markdown",
      "source": [
        "# 2. Two-Sample (Independent) t-test"
      ],
      "metadata": {
        "id": "VvFEr31Pxh5m"
      }
    },
    {
      "cell_type": "code",
      "source": [
        "# Generate sample data\n",
        "farm_a = np.random.normal(loc=150, scale=10, size=30)  # Avg 150g\n",
        "farm_b = np.random.normal(loc=155, scale=12, size=30)  # Avg 155g\n",
        "\n",
        "# Perform independent t-test\n",
        "t_stat, p_value = stats.ttest_ind(farm_a, farm_b)\n",
        "\n",
        "print(f\"T-statistic: {t_stat}, P-value: {p_value}\")"
      ],
      "metadata": {
        "colab": {
          "base_uri": "https://localhost:8080/"
        },
        "id": "kEzXx-A0xdrL",
        "outputId": "5424f4d5-1f8d-4b21-864e-39f56c56de77"
      },
      "execution_count": 2,
      "outputs": [
        {
          "output_type": "stream",
          "name": "stdout",
          "text": [
            "T-statistic: -2.268539598839019, P-value: 0.02703449236864183\n"
          ]
        }
      ]
    },
    {
      "cell_type": "markdown",
      "source": [
        "# 3. Paired t-test"
      ],
      "metadata": {
        "id": "BkQYXFJgxqcO"
      }
    },
    {
      "cell_type": "code",
      "source": [
        "# Create before and after reaction times\n",
        "before = np.random.normal(loc=250, scale=30, size=30)  # Initial reaction time (ms)\n",
        "after = before - np.random.normal(loc=15, scale=10, size=30)  # Expected improvement\n",
        "\n",
        "# Perform paired t-test\n",
        "t_stat, p_value = stats.ttest_rel(before, after)\n",
        "\n",
        "print(f\"T-statistic: {t_stat}, P-value: {p_value}\")"
      ],
      "metadata": {
        "colab": {
          "base_uri": "https://localhost:8080/"
        },
        "id": "snxZYBKExonu",
        "outputId": "7a60bcc7-405c-45b5-ff73-d3fa0ae5e98a"
      },
      "execution_count": 3,
      "outputs": [
        {
          "output_type": "stream",
          "name": "stdout",
          "text": [
            "T-statistic: 6.644941421092007, P-value: 2.760927868545841e-07\n"
          ]
        }
      ]
    },
    {
      "cell_type": "markdown",
      "source": [
        "# How to Perform a t-test in Pandas (Step-by-Step Guide)\n"
      ],
      "metadata": {
        "id": "aJX1MWYOx1RB"
      }
    },
    {
      "cell_type": "markdown",
      "source": [
        "## 1) One-Sample t-test (Compare a sample mean to a known value)"
      ],
      "metadata": {
        "id": "g033lVaYx3ni"
      }
    },
    {
      "cell_type": "code",
      "source": [
        "import pandas as pd\n",
        "import numpy as np\n",
        "from scipy import stats\n",
        "\n",
        "# Generate sample data (espresso caffeine levels)\n",
        "data = pd.DataFrame({'caffeine_mg': np.random.normal(loc=50, scale=10, size=30)})\n",
        "\n",
        "print(data.head())  # Preview the data"
      ],
      "metadata": {
        "colab": {
          "base_uri": "https://localhost:8080/"
        },
        "id": "Z1PZSRTMxta_",
        "outputId": "7e5f0d52-5771-4c36-f04a-347ef74227b9"
      },
      "execution_count": 4,
      "outputs": [
        {
          "output_type": "stream",
          "name": "stdout",
          "text": [
            "   caffeine_mg\n",
            "0    34.583903\n",
            "1    48.541065\n",
            "2    59.832952\n",
            "3    47.945545\n",
            "4    44.939391\n"
          ]
        }
      ]
    },
    {
      "cell_type": "code",
      "source": [
        "# Perform one-sample t-test (testing if mean is 50)\n",
        "t_stat, p_value = stats.ttest_1samp(data['caffeine_mg'], 50)\n",
        "\n",
        "print(f\"T-statistic: {t_stat}, P-value: {p_value}\")"
      ],
      "metadata": {
        "colab": {
          "base_uri": "https://localhost:8080/"
        },
        "id": "uy3ur8TTx7cs",
        "outputId": "ece803e0-1ffe-4ef4-bce4-3d21210621a7"
      },
      "execution_count": 5,
      "outputs": [
        {
          "output_type": "stream",
          "name": "stdout",
          "text": [
            "T-statistic: 0.7593222528425991, P-value: 0.45378816265855093\n"
          ]
        }
      ]
    },
    {
      "cell_type": "markdown",
      "source": [
        "## 2) Independent Two-Sample t-test (Compare means of two groups)"
      ],
      "metadata": {
        "id": "MgQ0cZh_x-1t"
      }
    },
    {
      "cell_type": "code",
      "source": [
        "# Generate sample data\n",
        "old_machine = np.random.normal(loc=50, scale=10, size=30)  # Old espresso machine\n",
        "new_machine = np.random.normal(loc=55, scale=12, size=30)  # New espresso machine\n",
        "\n",
        "# Convert to Pandas DataFrame\n",
        "espresso_data = pd.DataFrame({'Old Machine': old_machine, 'New Machine': new_machine})\n",
        "\n",
        "print(espresso_data.head())  # Preview data"
      ],
      "metadata": {
        "colab": {
          "base_uri": "https://localhost:8080/"
        },
        "id": "a_UgOKAmx9On",
        "outputId": "a0ce4719-4159-457d-9cff-fc7c9dd879c4"
      },
      "execution_count": 6,
      "outputs": [
        {
          "output_type": "stream",
          "name": "stdout",
          "text": [
            "   Old Machine  New Machine\n",
            "0    41.570022    62.917461\n",
            "1    44.705279    58.425340\n",
            "2    57.125574    37.266476\n",
            "3    62.469728    53.577511\n",
            "4    20.646835    68.295671\n"
          ]
        }
      ]
    },
    {
      "cell_type": "code",
      "source": [
        "# Perform independent t-test\n",
        "t_stat, p_value = stats.ttest_ind(old_machine, new_machine)\n",
        "\n",
        "print(f\"T-statistic: {t_stat}, P-value: {p_value}\")"
      ],
      "metadata": {
        "colab": {
          "base_uri": "https://localhost:8080/"
        },
        "id": "xfduKUaByBBj",
        "outputId": "7ecc2df5-ddae-4459-ea8f-cd6be4fe6191"
      },
      "execution_count": 8,
      "outputs": [
        {
          "output_type": "stream",
          "name": "stdout",
          "text": [
            "T-statistic: -1.6049524731775158, P-value: 0.11393608483127382\n"
          ]
        }
      ]
    },
    {
      "cell_type": "markdown",
      "source": [
        "## 3) Perform independent t-test"
      ],
      "metadata": {
        "id": "chK_ZS8tyH4h"
      }
    },
    {
      "cell_type": "code",
      "source": [
        "# Generate sample data\n",
        "before_scores = np.random.normal(loc=70, scale=10, size=30)  # Pre-training scores\n",
        "after_scores = before_scores + np.random.normal(loc=5, scale=5, size=30)  # Post-training improvement\n",
        "\n",
        "# Convert to Pandas DataFrame\n",
        "scores_data = pd.DataFrame({'Before Training': before_scores, 'After Training': after_scores})\n",
        "\n",
        "print(scores_data.head())  # Preview data"
      ],
      "metadata": {
        "colab": {
          "base_uri": "https://localhost:8080/"
        },
        "id": "vuI9-mGayE4x",
        "outputId": "8f273e7c-8ce1-47b5-9175-da21ca6c9153"
      },
      "execution_count": 9,
      "outputs": [
        {
          "output_type": "stream",
          "name": "stdout",
          "text": [
            "   Before Training  After Training\n",
            "0        71.419282       80.494157\n",
            "1        69.212194       71.822777\n",
            "2        65.914100       69.792141\n",
            "3        79.712631       89.030549\n",
            "4        67.713720       73.809358\n"
          ]
        }
      ]
    },
    {
      "cell_type": "code",
      "source": [
        "# Perform paired t-test\n",
        "t_stat, p_value = stats.ttest_rel(before_scores, after_scores)\n",
        "\n",
        "print(f\"T-statistic: {t_stat}, P-value: {p_value}\")"
      ],
      "metadata": {
        "colab": {
          "base_uri": "https://localhost:8080/"
        },
        "id": "DwGjWbpEyMEH",
        "outputId": "ef8fb766-202b-4440-b16b-263378647265"
      },
      "execution_count": 10,
      "outputs": [
        {
          "output_type": "stream",
          "name": "stdout",
          "text": [
            "T-statistic: -6.863422558357479, P-value: 1.538367302063487e-07\n"
          ]
        }
      ]
    },
    {
      "cell_type": "markdown",
      "source": [
        "## Shapiro-Wilk Test"
      ],
      "metadata": {
        "id": "Bt51nmZhyTlZ"
      }
    },
    {
      "cell_type": "code",
      "source": [
        "from scipy.stats import shapiro\n",
        "\n",
        "# Assume 'data' contains our sample values\n",
        "stat, p = shapiro(data['caffeine_mg'])\n",
        "\n",
        "print(f\"Shapiro-Wilk test statistic: {stat}, P-value: {p}\")"
      ],
      "metadata": {
        "colab": {
          "base_uri": "https://localhost:8080/"
        },
        "id": "82SKKXtxyNfy",
        "outputId": "363d678d-781e-4c70-9264-d542c768b6b6"
      },
      "execution_count": 12,
      "outputs": [
        {
          "output_type": "stream",
          "name": "stdout",
          "text": [
            "Shapiro-Wilk test statistic: 0.9688659296323879, P-value: 0.5086293740135761\n"
          ]
        }
      ]
    },
    {
      "cell_type": "markdown",
      "source": [
        "## QQ Plot (Visual Approach)"
      ],
      "metadata": {
        "id": "R0KIV0FhyWxj"
      }
    },
    {
      "cell_type": "code",
      "source": [
        "import matplotlib.pyplot as plt\n",
        "import scipy.stats as stats\n",
        "\n",
        "# QQ plot\n",
        "stats.probplot(data['caffeine_mg'], dist=\"norm\", plot=plt)\n",
        "plt.show()"
      ],
      "metadata": {
        "colab": {
          "base_uri": "https://localhost:8080/",
          "height": 472
        },
        "id": "IcUIII0RyQnI",
        "outputId": "007a221f-0521-49b3-fdc3-94cff5d4f6af"
      },
      "execution_count": 13,
      "outputs": [
        {
          "output_type": "display_data",
          "data": {
            "text/plain": [
              "<Figure size 640x480 with 1 Axes>"
            ],
            "image/png": "[encoded data removed]"
          },
          "metadata": {}
        }
      ]
    },
    {
      "cell_type": "markdown",
      "source": [
        "## Mann-Whitney U test (For Two Independent Groups)"
      ],
      "metadata": {
        "id": "Q9pt-PVyyez9"
      }
    },
    {
      "cell_type": "code",
      "source": [
        "from scipy.stats import mannwhitneyu\n",
        "\n",
        "# Compare two non-normally distributed groups\n",
        "stat, p = mannwhitneyu(old_machine, new_machine)\n",
        "\n",
        "print(f\"Mann-Whitney U test statistic: {stat}, P-value: {p}\")"
      ],
      "metadata": {
        "colab": {
          "base_uri": "https://localhost:8080/"
        },
        "id": "QRY4w_2tyYD0",
        "outputId": "849acbc0-0cf0-4fcd-f30f-e03b8f340e68"
      },
      "execution_count": 15,
      "outputs": [
        {
          "output_type": "stream",
          "name": "stdout",
          "text": [
            "Mann-Whitney U test statistic: 354.0, P-value: 0.1579756891505133\n"
          ]
        }
      ]
    }
  ]
}
