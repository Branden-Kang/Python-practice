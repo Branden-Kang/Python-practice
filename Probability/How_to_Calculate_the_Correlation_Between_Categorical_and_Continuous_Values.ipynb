{
  "nbformat": 4,
  "nbformat_minor": 0,
  "metadata": {
    "colab": {
      "provenance": [],
      "authorship_tag": "ABX9TyNRaqbOtcy1JvHMPPLLxX2I"
    },
    "kernelspec": {
      "name": "python3",
      "display_name": "Python 3"
    },
    "language_info": {
      "name": "python"
    }
  },
  "cells": [
    {
      "cell_type": "markdown",
      "source": [
        "[Reference](https://medium.com/mlearning-ai/how-to-calculate-the-correlation-between-categorical-and-continuous-values-dcb7abf79406)"
      ],
      "metadata": {
        "id": "RaMlKIC4YHp_"
      }
    },
    {
      "cell_type": "code",
      "execution_count": 1,
      "metadata": {
        "id": "rSKcFlFnYApp"
      },
      "outputs": [],
      "source": [
        "import numpy as np\n",
        "import pandas as pd"
      ]
    },
    {
      "cell_type": "code",
      "source": [
        "ages = [19, 19, 19, 19, 20, 20, 20, 20, 30, 19, 22, 22, 20, 26, 19, 21, 19, 20, 20, 19, 19, 30, 18, 19, 20, 19, 18, 19, 18, 17, 19, 20, 18, 19, 19, 20, 18, 17, 18, 18]\n",
        "weights = [99, 112, 160, 123, 112, 108, 145, 110, 218, 120, 145, 130, 110, 120, 125, 182, 170, 220, 170, 190, 235, 328, 190, 120, 94, 120, 180, 110, 153, 175, 140, 111, 165, 175, 125, 129, 132, 164, 220, 140]"
      ],
      "metadata": {
        "id": "YbFKXiCPYL2T"
      },
      "execution_count": 2,
      "outputs": []
    },
    {
      "cell_type": "code",
      "source": [
        "personal_data = pd.DataFrame({'age': ages, 'weight': weights})\n",
        "personal_data.corr(method='pearson')"
      ],
      "metadata": {
        "colab": {
          "base_uri": "https://localhost:8080/",
          "height": 111
        },
        "id": "Jxc8TTc7YMOj",
        "outputId": "1d1a656c-de32-4849-f9c1-45ba4f53f338"
      },
      "execution_count": 3,
      "outputs": [
        {
          "output_type": "execute_result",
          "data": {
            "text/plain": [
              "             age    weight\n",
              "age     1.000000  0.396978\n",
              "weight  0.396978  1.000000"
            ],
            "text/html": [
              "\n",
              "  <div id=\"df-2502471a-795c-4456-9c04-f501af3d9fd5\" class=\"colab-df-container\">\n",
              "    <div>\n",
              "<style scoped>\n",
              "    .dataframe tbody tr th:only-of-type {\n",
              "        vertical-align: middle;\n",
              "    }\n",
              "\n",
              "    .dataframe tbody tr th {\n",
              "        vertical-align: top;\n",
              "    }\n",
              "\n",
              "    .dataframe thead th {\n",
              "        text-align: right;\n",
              "    }\n",
              "</style>\n",
              "<table border=\"1\" class=\"dataframe\">\n",
              "  <thead>\n",
              "    <tr style=\"text-align: right;\">\n",
              "      <th></th>\n",
              "      <th>age</th>\n",
              "      <th>weight</th>\n",
              "    </tr>\n",
              "  </thead>\n",
              "  <tbody>\n",
              "    <tr>\n",
              "      <th>age</th>\n",
              "      <td>1.000000</td>\n",
              "      <td>0.396978</td>\n",
              "    </tr>\n",
              "    <tr>\n",
              "      <th>weight</th>\n",
              "      <td>0.396978</td>\n",
              "      <td>1.000000</td>\n",
              "    </tr>\n",
              "  </tbody>\n",
              "</table>\n",
              "</div>\n",
              "    <div class=\"colab-df-buttons\">\n",
              "\n",
              "  <div class=\"colab-df-container\">\n",
              "    <button class=\"colab-df-convert\" onclick=\"convertToInteractive('df-2502471a-795c-4456-9c04-f501af3d9fd5')\"\n",
              "            title=\"Convert this dataframe to an interactive table.\"\n",
              "            style=\"display:none;\">\n",
              "\n",
              "  <svg xmlns=\"http://www.w3.org/2000/svg\" height=\"24px\" viewBox=\"0 -960 960 960\">\n",
              "    <path d=\"M120-120v-720h720v720H120Zm60-500h600v-160H180v160Zm220 220h160v-160H400v160Zm0 220h160v-160H400v160ZM180-400h160v-160H180v160Zm440 0h160v-160H620v160ZM180-180h160v-160H180v160Zm440 0h160v-160H620v160Z\"/>\n",
              "  </svg>\n",
              "    </button>\n",
              "\n",
              "  <style>\n",
              "    .colab-df-container {\n",
              "      display:flex;\n",
              "      gap: 12px;\n",
              "    }\n",
              "\n",
              "    .colab-df-convert {\n",
              "      background-color: #E8F0FE;\n",
              "      border: none;\n",
              "      border-radius: 50%;\n",
              "      cursor: pointer;\n",
              "      display: none;\n",
              "      fill: #1967D2;\n",
              "      height: 32px;\n",
              "      padding: 0 0 0 0;\n",
              "      width: 32px;\n",
              "    }\n",
              "\n",
              "    .colab-df-convert:hover {\n",
              "      background-color: #E2EBFA;\n",
              "      box-shadow: 0px 1px 2px rgba(60, 64, 67, 0.3), 0px 1px 3px 1px rgba(60, 64, 67, 0.15);\n",
              "      fill: #174EA6;\n",
              "    }\n",
              "\n",
              "    .colab-df-buttons div {\n",
              "      margin-bottom: 4px;\n",
              "    }\n",
              "\n",
              "    [theme=dark] .colab-df-convert {\n",
              "      background-color: #3B4455;\n",
              "      fill: #D2E3FC;\n",
              "    }\n",
              "\n",
              "    [theme=dark] .colab-df-convert:hover {\n",
              "      background-color: #434B5C;\n",
              "      box-shadow: 0px 1px 3px 1px rgba(0, 0, 0, 0.15);\n",
              "      filter: drop-shadow(0px 1px 2px rgba(0, 0, 0, 0.3));\n",
              "      fill: #FFFFFF;\n",
              "    }\n",
              "  </style>\n",
              "\n",
              "    <script>\n",
              "      const buttonEl =\n",
              "        document.querySelector('#df-2502471a-795c-4456-9c04-f501af3d9fd5 button.colab-df-convert');\n",
              "      buttonEl.style.display =\n",
              "        google.colab.kernel.accessAllowed ? 'block' : 'none';\n",
              "\n",
              "      async function convertToInteractive(key) {\n",
              "        const element = document.querySelector('#df-2502471a-795c-4456-9c04-f501af3d9fd5');\n",
              "        const dataTable =\n",
              "          await google.colab.kernel.invokeFunction('convertToInteractive',\n",
              "                                                    [key], {});\n",
              "        if (!dataTable) return;\n",
              "\n",
              "        const docLinkHtml = 'Like what you see? Visit the ' +\n",
              "          '<a target=\"_blank\" href=https://colab.research.google.com/notebooks/data_table.ipynb>data table notebook</a>'\n",
              "          + ' to learn more about interactive tables.';\n",
              "        element.innerHTML = '';\n",
              "        dataTable['output_type'] = 'display_data';\n",
              "        await google.colab.output.renderOutput(dataTable, element);\n",
              "        const docLink = document.createElement('div');\n",
              "        docLink.innerHTML = docLinkHtml;\n",
              "        element.appendChild(docLink);\n",
              "      }\n",
              "    </script>\n",
              "  </div>\n",
              "\n",
              "\n",
              "<div id=\"df-b403b30b-68ef-4197-8759-70fe29c281c5\">\n",
              "  <button class=\"colab-df-quickchart\" onclick=\"quickchart('df-b403b30b-68ef-4197-8759-70fe29c281c5')\"\n",
              "            title=\"Suggest charts.\"\n",
              "            style=\"display:none;\">\n",
              "\n",
              "<svg xmlns=\"http://www.w3.org/2000/svg\" height=\"24px\"viewBox=\"0 0 24 24\"\n",
              "     width=\"24px\">\n",
              "    <g>\n",
              "        <path d=\"M19 3H5c-1.1 0-2 .9-2 2v14c0 1.1.9 2 2 2h14c1.1 0 2-.9 2-2V5c0-1.1-.9-2-2-2zM9 17H7v-7h2v7zm4 0h-2V7h2v10zm4 0h-2v-4h2v4z\"/>\n",
              "    </g>\n",
              "</svg>\n",
              "  </button>\n",
              "\n",
              "<style>\n",
              "  .colab-df-quickchart {\n",
              "    background-color: #E8F0FE;\n",
              "    border: none;\n",
              "    border-radius: 50%;\n",
              "    cursor: pointer;\n",
              "    display: none;\n",
              "    fill: #1967D2;\n",
              "    height: 32px;\n",
              "    padding: 0 0 0 0;\n",
              "    width: 32px;\n",
              "  }\n",
              "\n",
              "  .colab-df-quickchart:hover {\n",
              "    background-color: #E2EBFA;\n",
              "    box-shadow: 0px 1px 2px rgba(60, 64, 67, 0.3), 0px 1px 3px 1px rgba(60, 64, 67, 0.15);\n",
              "    fill: #174EA6;\n",
              "  }\n",
              "\n",
              "  [theme=dark] .colab-df-quickchart {\n",
              "    background-color: #3B4455;\n",
              "    fill: #D2E3FC;\n",
              "  }\n",
              "\n",
              "  [theme=dark] .colab-df-quickchart:hover {\n",
              "    background-color: #434B5C;\n",
              "    box-shadow: 0px 1px 3px 1px rgba(0, 0, 0, 0.15);\n",
              "    filter: drop-shadow(0px 1px 2px rgba(0, 0, 0, 0.3));\n",
              "    fill: #FFFFFF;\n",
              "  }\n",
              "</style>\n",
              "\n",
              "  <script>\n",
              "    async function quickchart(key) {\n",
              "      const charts = await google.colab.kernel.invokeFunction(\n",
              "          'suggestCharts', [key], {});\n",
              "    }\n",
              "    (() => {\n",
              "      let quickchartButtonEl =\n",
              "        document.querySelector('#df-b403b30b-68ef-4197-8759-70fe29c281c5 button');\n",
              "      quickchartButtonEl.style.display =\n",
              "        google.colab.kernel.accessAllowed ? 'block' : 'none';\n",
              "    })();\n",
              "  </script>\n",
              "</div>\n",
              "    </div>\n",
              "  </div>\n"
            ]
          },
          "metadata": {},
          "execution_count": 3
        }
      ]
    },
    {
      "cell_type": "code",
      "source": [
        "import numpy as np\n",
        "import pandas as pd\n",
        "import scipy.stats as ss"
      ],
      "metadata": {
        "id": "gvcQ_CTAYSoH"
      },
      "execution_count": 4,
      "outputs": []
    },
    {
      "cell_type": "code",
      "source": [
        "# https://www.kaggle.com/datasets/spscientist/students-performance-in-exams\n",
        "parental_level_of_education = ['some college', \"bachelor's degree\", 'some high school', 'some college', 'some college', 'some college', 'high school', 'high school', \"associate's degree\", 'some college', 'some college', \"bachelor's degree\", 'high school', \"bachelor's degree\", \"associate's degree\", 'high school', 'some college', 'some college', \"associate's degree\", 'some high school', \"bachelor's degree\", 'some college', 'high school', 'high school', \"associate's degree\", 'some college', 'some high school', 'some college', 'some college', \"master's degree\", \"associate's degree\", 'some high school', 'some college', \"bachelor's degree\", 'high school', 'high school', 'high school', 'some high school', \"associate's degree\", 'some high school', \"associate's degree\", 'some college', \"associate's degree\", 'some college', \"bachelor's degree\", \"associate's degree\", \"associate's degree\", 'high school', \"associate's degree\", \"associate's degree\", 'some college', \"associate's degree\", \"master's degree\", \"master's degree\", 'some high school', 'high school', \"bachelor's degree\", \"associate's degree\", 'high school', 'some college', 'some college', \"associate's degree\", 'some high school', 'some high school', \"bachelor's degree\", 'high school', 'high school', 'high school', 'some college', 'some high school', 'some high school', \"associate's degree\", \"associate's degree\", 'high school', \"associate's degree\", \"bachelor's degree\", 'high school', 'some college', 'some college', \"associate's degree\", 'some college', \"master's degree\", \"associate's degree\", 'high school', \"bachelor's degree\", 'some high school', 'some college', 'some high school', \"associate's degree\", \"associate's degree\", 'some high school', 'high school', 'some high school', \"bachelor's degree\", 'high school', \"master's degree\", 'high school', \"associate's degree\", 'some high school', 'some college']\n",
        "course = ['completed', 'completed', 'completed', 'none', 'none', 'none', 'completed', 'none', 'completed', 'completed', 'none', 'none', 'none', 'none', 'none', 'none', 'none', 'none', 'none', 'none', 'completed', 'none', 'none', 'none', 'completed', 'none', 'none', 'none', 'none', 'none', 'none', 'none', 'none', 'none', 'none', 'completed', 'none', 'completed', 'none', 'completed', 'none', 'none', 'none', 'none', 'none', 'none', 'none', 'none', 'completed', 'completed', 'none', 'completed', 'none', 'completed', 'none', 'none', 'completed', 'completed', 'none', 'completed', 'completed', 'none', 'none', 'none', 'none', 'none', 'none', 'none', 'none', 'none', 'completed', 'completed', 'none', 'none', 'none', 'completed', 'none', 'none', 'none', 'completed', 'completed', 'completed', 'none', 'none', 'none', 'completed', 'none', 'completed', 'completed', 'none', 'completed', 'none', 'completed', 'none', 'none', 'none', 'none', 'none', 'completed', 'none']\n",
        "gender = ['male', 'male', 'male', 'male', 'male', 'female', 'male', 'male', 'female', 'male', 'female', 'male', 'male', 'female', 'female', 'female', 'female', 'female', 'male', 'female', 'female', 'female', 'male', 'female', 'female', 'male', 'male', 'female', 'female', 'female', 'female', 'female', 'female', 'male', 'male', 'female', 'female', 'male', 'male', 'female', 'male', 'female', 'female', 'female', 'female', 'female', 'female', 'female', 'male', 'male', 'female', 'female', 'male', 'female', 'male', 'female', 'male', 'female', 'female', 'female', 'female', 'male', 'female', 'female', 'female', 'male', 'male', 'male', 'female', 'male', 'male', 'female', 'male', 'male', 'male', 'female', 'female', 'female', 'female', 'male', 'male', 'female', 'female', 'female', 'male', 'male', 'female', 'male', 'female', 'female', 'female', 'male', 'female', 'female', 'female', 'female', 'male', 'male', 'female', 'female']"
      ],
      "metadata": {
        "id": "E8BzqgeoZN60"
      },
      "execution_count": 5,
      "outputs": []
    },
    {
      "cell_type": "code",
      "source": [
        "students = pd.DataFrame({'course': course,\n",
        "                         'parental_level_of_education': parental_level_of_education,\n",
        "                         'gender': gender})"
      ],
      "metadata": {
        "id": "YMIWg7DyZPC4"
      },
      "execution_count": 6,
      "outputs": []
    },
    {
      "cell_type": "code",
      "source": [
        "# https://stackoverflow.com/questions/46498455/categorical-features-correlation/46498792#46498792\n",
        "def cramers_v(confusion_matrix):\n",
        "    \"\"\" calculate Cramers V statistic for categorial-categorial association.\n",
        "        uses correction from Bergsma and Wicher,\n",
        "        Journal of the Korean Statistical Society 42 (2013): 323-328\n",
        "    \"\"\"\n",
        "    chi2 = ss.chi2_contingency(confusion_matrix)[0]\n",
        "    n = confusion_matrix.sum()\n",
        "    phi2 = chi2 / n\n",
        "    r, k = confusion_matrix.shape\n",
        "    phi2corr = max(0, phi2 - ((k - 1) * (r - 1)) / (n - 1))\n",
        "    rcorr = r - ((r - 1) ** 2) / (n - 1)\n",
        "    kcorr = k - ((k - 1) ** 2) / (n - 1)\n",
        "    return np.sqrt(phi2corr / min((kcorr - 1), (rcorr - 1)))"
      ],
      "metadata": {
        "id": "Y_fSBaD7ZP9V"
      },
      "execution_count": 7,
      "outputs": []
    },
    {
      "cell_type": "code",
      "source": [
        "confusion_matrix = pd.crosstab(students['parental_level_of_education'], students['course'])\n",
        "cramers_v(confusion_matrix.values)"
      ],
      "metadata": {
        "colab": {
          "base_uri": "https://localhost:8080/"
        },
        "id": "3hkCpJb_ZRZe",
        "outputId": "bd8412f6-964c-4c58-a5cb-a724c1f21f1e"
      },
      "execution_count": 8,
      "outputs": [
        {
          "output_type": "execute_result",
          "data": {
            "text/plain": [
              "0.25535063445800765"
            ]
          },
          "metadata": {},
          "execution_count": 8
        }
      ]
    },
    {
      "cell_type": "code",
      "source": [
        "confusion_matrix = pd.crosstab(students['parental_level_of_education'], students['gender'])\n",
        "cramers_v(confusion_matrix.values)"
      ],
      "metadata": {
        "colab": {
          "base_uri": "https://localhost:8080/"
        },
        "id": "OtfZxDGGZStd",
        "outputId": "8e70e8c9-7334-4888-e739-403e580f36a8"
      },
      "execution_count": 9,
      "outputs": [
        {
          "output_type": "execute_result",
          "data": {
            "text/plain": [
              "0.04603264414335656"
            ]
          },
          "metadata": {},
          "execution_count": 9
        }
      ]
    },
    {
      "cell_type": "code",
      "source": [
        "import scipy.stats as stats\n",
        "import pandas as pd\n",
        "from sklearn import preprocessing\n",
        "\n",
        "# https://www.kaggle.com/datasets/blastchar/telco-customer-churn\n",
        "df = pd.read_csv('churn_data.csv')\n",
        "\n",
        "le = preprocessing.LabelEncoder()\n",
        "df['Churn'] = le.fit_transform(df['Churn'])\n",
        "df['gender']= le.fit_transform(df['gender'])\n",
        "\n",
        "print(stats.pointbiserialr(df['gender'], df['MonthlyCharges']))\n",
        "print(stats.pointbiserialr(df['Churn'], df['MonthlyCharges']))"
      ],
      "metadata": {
        "id": "LZHK5id8ZUHA"
      },
      "execution_count": 10,
      "outputs": []
    }
  ]
}
