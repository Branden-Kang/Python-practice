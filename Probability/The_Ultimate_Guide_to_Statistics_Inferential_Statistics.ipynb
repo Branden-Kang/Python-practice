{
  "nbformat": 4,
  "nbformat_minor": 0,
  "metadata": {
    "colab": {
      "provenance": [],
      "authorship_tag": "ABX9TyM+mEfqaEn/H6dJOZH7H/z7"
    },
    "kernelspec": {
      "name": "python3",
      "display_name": "Python 3"
    },
    "language_info": {
      "name": "python"
    }
  },
  "cells": [
    {
      "cell_type": "markdown",
      "source": [
        "[Reference](https://medium.com/@simranjeetsingh1497/the-ultimate-guide-to-statistics-part-2-inferential-statistics-54964a1d0e14)"
      ],
      "metadata": {
        "id": "wfHSbfVpmI-s"
      }
    },
    {
      "cell_type": "code",
      "execution_count": 1,
      "metadata": {
        "colab": {
          "base_uri": "https://localhost:8080/",
          "height": 430
        },
        "id": "z8pheGTdl9wm",
        "outputId": "a768e052-3ce1-49ce-f60d-fcc994389191"
      },
      "outputs": [
        {
          "output_type": "display_data",
          "data": {
            "text/plain": [
              "<Figure size 640x480 with 1 Axes>"
            ],
            "image/png": "[encoded data removed]"
          },
          "metadata": {}
        }
      ],
      "source": [
        "# Python code for generating a normal distribution\n",
        "import numpy as np\n",
        "import matplotlib.pyplot as plt\n",
        "\n",
        "mu, sigma = 0, 0.1 # mean and standard deviation\n",
        "s = np.random.normal(mu, sigma, 1000)\n",
        "\n",
        "count, bins, ignored = plt.hist(s, 30, density=True)\n",
        "plt.plot(bins, 1/(sigma * np.sqrt(2 * np.pi)) * np.exp( - (bins - mu)**2 / (2 * sigma**2) ), linewidth=2, color='r')\n",
        "plt.show()"
      ]
    },
    {
      "cell_type": "code",
      "source": [
        "# Null Hypothesis: Average height of students in a school is 5 feet\n",
        "# Alternative Hypothesis: Average height of students in a school is greater than 5 feet\n",
        "\n",
        "import numpy as np\n",
        "from scipy.stats import ttest_1samp\n",
        "\n",
        "heights = [5.1, 5.3, 5.5, 5.2, 5.7, 5.6, 5.4, 5.5, 5.3, 5.5]\n",
        "mu = 5 # Population mean height\n",
        "alpha = 0.05 # Significance level\n",
        "\n",
        "t_statistic, p_value = ttest_1samp(heights, mu)\n",
        "print(\"t-statistic:\", t_statistic)\n",
        "print(\"p-value:\", p_value)\n",
        "\n",
        "if p_value < alpha:\n",
        "    print(\"Reject null hypothesis\")\n",
        "else:\n",
        "    print(\"Fail to reject null hypothesis\")"
      ],
      "metadata": {
        "colab": {
          "base_uri": "https://localhost:8080/"
        },
        "id": "HE629TP3mMxI",
        "outputId": "af91bb8c-e34d-406a-ee39-58dd46e9f63f"
      },
      "execution_count": 2,
      "outputs": [
        {
          "output_type": "stream",
          "name": "stdout",
          "text": [
            "t-statistic: 6.997225525059449\n",
            "p-value: 6.344142530405409e-05\n",
            "Reject null hypothesis\n"
          ]
        }
      ]
    },
    {
      "cell_type": "code",
      "source": [
        "import numpy as np\n",
        "from scipy.stats import ttest_1samp\n",
        "\n",
        "heights = [5.1, 5.3, 5.5, 5.2, 5.7, 5.6, 5.4, 5.5, 5.3, 5.5]\n",
        "mu = 5 # Population mean height\n",
        "alpha = 0.05 # Significance level\n",
        "\n",
        "t_statistic, p_value = ttest_1samp(heights, mu)\n",
        "print(\"t-statistic:\", t_statistic)\n",
        "print(\"p-value:\", p_value)"
      ],
      "metadata": {
        "colab": {
          "base_uri": "https://localhost:8080/"
        },
        "id": "yfXGdUlYmduJ",
        "outputId": "8d577368-6c63-4e1b-dcaa-4f501b162fbe"
      },
      "execution_count": 3,
      "outputs": [
        {
          "output_type": "stream",
          "name": "stdout",
          "text": [
            "t-statistic: 6.997225525059449\n",
            "p-value: 6.344142530405409e-05\n"
          ]
        }
      ]
    },
    {
      "cell_type": "code",
      "source": [
        "import numpy as np\n",
        "from scipy.stats import ttest_ind\n",
        "\n",
        "group1 = [10, 11, 13, 12, 14]\n",
        "group2 = [12, 10, 15, 13, 11]\n",
        "alpha = 0.05\n",
        "\n",
        "t_statistic, p_value = ttest_ind(group1, group2)\n",
        "print(\"t-statistic:\", t_statistic)\n",
        "print(\"p-value:\", p_value)\n",
        "\n",
        "if p_value < alpha:\n",
        "    print(\"Reject null hypothesis\")\n",
        "else:\n",
        "    print(\"Fail to reject null hypothesis\")"
      ],
      "metadata": {
        "colab": {
          "base_uri": "https://localhost:8080/"
        },
        "id": "En05AMWPme3d",
        "outputId": "068f390d-f6e2-457c-e1ce-be7532a0c3da"
      },
      "execution_count": 4,
      "outputs": [
        {
          "output_type": "stream",
          "name": "stdout",
          "text": [
            "t-statistic: -0.17960530202677424\n",
            "p-value: 0.8619282156106923\n",
            "Fail to reject null hypothesis\n"
          ]
        }
      ]
    },
    {
      "cell_type": "code",
      "source": [
        "from scipy import stats\n",
        "\n",
        "# Sample of blood pressure measurements\n",
        "bp = [130, 135, 125, 140, 128, 132, 138, 130, 136, 129]\n",
        "\n",
        "# One-sample t-test\n",
        "stats.ttest_1samp(bp, popmean=120)"
      ],
      "metadata": {
        "colab": {
          "base_uri": "https://localhost:8080/"
        },
        "id": "zhFFbV--mf4q",
        "outputId": "a875d1f3-3f00-4c2d-846e-17087f90955d"
      },
      "execution_count": 5,
      "outputs": [
        {
          "output_type": "execute_result",
          "data": {
            "text/plain": [
              "TtestResult(statistic=8.128068785597613, pvalue=1.9492773360422643e-05, df=9)"
            ]
          },
          "metadata": {},
          "execution_count": 5
        }
      ]
    },
    {
      "cell_type": "code",
      "source": [
        "import numpy as np\n",
        "from scipy.stats import norm\n",
        "\n",
        "# Sample data\n",
        "data = [10.2, 9.5, 8.7, 9.9, 11.1, 8.5, 10.3, 9.8]\n",
        "\n",
        "# Sample mean and standard deviation\n",
        "sample_mean = np.mean(data)\n",
        "sample_std = np.std(data, ddof=1)\n",
        "\n",
        "# Level of confidence\n",
        "conf_level = 0.95\n",
        "\n",
        "# Degrees of freedom\n",
        "df = len(data) - 1\n",
        "\n",
        "# Critical value\n",
        "crit_val = norm.ppf((1 + conf_level) / 2)\n",
        "\n",
        "# Margin of error\n",
        "moe = crit_val * sample_std / np.sqrt(len(data))\n",
        "\n",
        "# Confidence interval\n",
        "conf_int = (sample_mean - moe, sample_mean + moe)\n",
        "\n",
        "print(\"Confidence interval: \", conf_int)"
      ],
      "metadata": {
        "colab": {
          "base_uri": "https://localhost:8080/"
        },
        "id": "vzlwzPJCmhFT",
        "outputId": "1945ff6f-5064-4ab9-98b3-05b4d03f5c49"
      },
      "execution_count": 6,
      "outputs": [
        {
          "output_type": "stream",
          "name": "stdout",
          "text": [
            "Confidence interval:  (9.159682125444172, 10.340317874555828)\n"
          ]
        }
      ]
    },
    {
      "cell_type": "code",
      "source": [
        "import numpy as np\n",
        "import matplotlib.pyplot as plt\n",
        "from sklearn.linear_model import LinearRegression\n",
        "\n",
        "# Create the dataset\n",
        "X = np.array([1, 2, 3, 4, 5, 6, 7, 8, 9, 10]).reshape(-1, 1)\n",
        "y = np.array([2, 4, 5, 7, 8, 10, 11, 13, 14, 16])\n",
        "\n",
        "# Create the linear regression model\n",
        "model = LinearRegression().fit(X, y)\n",
        "\n",
        "# Get the slope and intercept of the line\n",
        "slope = model.coef_\n",
        "intercept = model.intercept_\n",
        "\n",
        "# Plot the data points and the regression line\n",
        "plt.scatter(X, y)\n",
        "plt.plot(X, slope*X + intercept, color='red')\n",
        "plt.show()"
      ],
      "metadata": {
        "colab": {
          "base_uri": "https://localhost:8080/",
          "height": 430
        },
        "id": "GwnxFu5vmkUt",
        "outputId": "1bc01547-b9e2-4d36-c390-87437641a2af"
      },
      "execution_count": 8,
      "outputs": [
        {
          "output_type": "display_data",
          "data": {
            "text/plain": [
              "<Figure size 640x480 with 1 Axes>"
            ],
            "image/png": "[encoded data removed]"
          },
          "metadata": {}
        }
      ]
    },
    {
      "cell_type": "code",
      "source": [
        "import pandas as pd\n",
        "import numpy as np\n",
        "import statsmodels.api as sm\n",
        "\n",
        "data = pd.read_csv('data.csv') # read data from csv file\n",
        "X = data[['Independent_Var_1', 'Independent_Var_2', 'Independent_Var_3']] # select independent variables\n",
        "Y = data['Dependent_Var'] # select dependent variable\n",
        "\n",
        "# Add a constant to the independent variable set\n",
        "X = sm.add_constant(X)\n",
        "\n",
        "# Fit the logistic regression model\n",
        "model = sm.Logit(Y, X).fit()\n",
        "\n",
        "# Print model summary\n",
        "print(model.summary())"
      ],
      "metadata": {
        "id": "qT2C7x13mnVg"
      },
      "execution_count": 10,
      "outputs": []
    }
  ]
}
