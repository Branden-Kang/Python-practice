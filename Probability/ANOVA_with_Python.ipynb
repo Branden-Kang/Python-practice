{
  "nbformat": 4,
  "nbformat_minor": 0,
  "metadata": {
    "colab": {
      "name": "ANOVA with Python.ipynb",
      "provenance": [],
      "authorship_tag": "ABX9TyO5I5IfHa3viJasv/VZMIjq"
    },
    "kernelspec": {
      "name": "python3",
      "display_name": "Python 3"
    },
    "language_info": {
      "name": "python"
    }
  },
  "cells": [
    {
      "cell_type": "markdown",
      "source": [
        "[Reference](https://towardsdev.com/anova-with-python-c036b949ed8d)"
      ],
      "metadata": {
        "id": "XLPGgvNycPr5"
      }
    },
    {
      "cell_type": "markdown",
      "source": [
        "F = Between group variability / Within group variability\n",
        "<br>\n",
        "F = (SSB / dfb) / (SSW / dfw)"
      ],
      "metadata": {
        "id": "UpBBf1wpc8l5"
      }
    },
    {
      "cell_type": "markdown",
      "source": [
        "Hypothesis <br>\n",
        "H0: There is no difference in means. <br>\n",
        "H1: At least one group is different."
      ],
      "metadata": {
        "id": "xr5ELpZ0dG6U"
      }
    },
    {
      "cell_type": "markdown",
      "source": [
        "# Sum Squares\n"
      ],
      "metadata": {
        "id": "xl94xheOdLnD"
      }
    },
    {
      "cell_type": "code",
      "execution_count": 1,
      "metadata": {
        "id": "XtzP_RitcM3B"
      },
      "outputs": [],
      "source": [
        "import pandas as pd\n",
        "df = pd.read_csv('dummy.csv') #read dummy data\n",
        "#find means\n",
        "Mw, Mc, Mr = df.mean()[0], df.mean()[1], df.mean()[2]\n",
        "#grand mean\n",
        "Mg = (Mw + Mc + Mr) / 3"
      ]
    },
    {
      "cell_type": "code",
      "source": [
        "#within the sum of squares\n",
        "df.loc[len(df),:] = Mw, Mc, Mr\n",
        "ss_w = (((df.iloc[:-1] - df.iloc[-1])**2).sum()).sum()\n",
        "#between the sum of squares\n",
        "ss_b = ((df.shape[0]-1) * (df.iloc[-1] - Mg)**2).sum()"
      ],
      "metadata": {
        "id": "uUMIBww0dd91"
      },
      "execution_count": 2,
      "outputs": []
    },
    {
      "cell_type": "code",
      "source": [
        "#F-Value\n",
        "dfb = 2\n",
        "dfw = 54\n",
        "F = (ss_b / dfb) / (ss_w / dfw)"
      ],
      "metadata": {
        "id": "h6UiCYMhdgu6"
      },
      "execution_count": 3,
      "outputs": []
    }
  ]
}
