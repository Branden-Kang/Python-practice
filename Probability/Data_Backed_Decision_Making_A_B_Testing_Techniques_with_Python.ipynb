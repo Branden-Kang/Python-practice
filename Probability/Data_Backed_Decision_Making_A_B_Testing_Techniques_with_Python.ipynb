{
  "nbformat": 4,
  "nbformat_minor": 0,
  "metadata": {
    "colab": {
      "provenance": [],
      "authorship_tag": "ABX9TyN4d8g3WUyDkbfil1//Majy"
    },
    "kernelspec": {
      "name": "python3",
      "display_name": "Python 3"
    },
    "language_info": {
      "name": "python"
    }
  },
  "cells": [
    {
      "cell_type": "markdown",
      "source": [
        "[Reference](https://medium.com/@abdullahorzan/data-backed-decision-making-a-b-testing-techniques-with-python-2599e80b29ac)"
      ],
      "metadata": {
        "id": "VzwotQIydbzi"
      }
    },
    {
      "cell_type": "markdown",
      "source": [
        "# Two-Sample Independent T-Test"
      ],
      "metadata": {
        "id": "7d8tEeUPdrFV"
      }
    },
    {
      "cell_type": "code",
      "execution_count": 1,
      "metadata": {
        "colab": {
          "base_uri": "https://localhost:8080/"
        },
        "id": "FZU36PI9dZpk",
        "outputId": "7df95e7a-781f-4683-a10a-53e37cf37e1e"
      },
      "outputs": [
        {
          "output_type": "stream",
          "name": "stdout",
          "text": [
            "Test Stat = 0.9367, p-value = 0.0002\n",
            "Test Stat = 0.9045, p-value = 0.0000\n",
            "Test Stat = 4.0537, p-value = 0.0452\n",
            "Test Stat = 1.3384, p-value = 0.1820\n",
            "Test Stat = 7531.5000, p-value = 0.3413\n"
          ]
        }
      ],
      "source": [
        "import pandas as pd\n",
        "import seaborn as sns\n",
        "import statsmodels.stats.api as sms\n",
        "from scipy.stats import shapiro, levene, ttest_ind, mannwhitneyu\n",
        "\n",
        "######################################################\n",
        "# Two-Sample Independent T-Test\n",
        "######################################################\n",
        "\n",
        "# 1. Formulate Hypotheses\n",
        "# 2. Check Assumptions\n",
        "#   - 1. Normality Assumption\n",
        "#   - 2. Variance Homogeneity Assumption\n",
        "# 3. Apply Hypothesis\n",
        "#   - 1. If assumptions are satisfied: the parametric test\n",
        "#   - 2. If assumptions are not satisfied: non-parametric test (Mann-Whitney U Test)\n",
        "# 4. Examine results based on the p-value\n",
        "# Important:\n",
        "# - If normality is not satisfied, we can directly apply the Mann-Whitney U Test. If variance homogeneity is not satisfied, we add an equal_var parameter.\n",
        "# - It can be beneficial to perform outlier detection and correction before conducting the normality assessment\n",
        "\n",
        "\n",
        "############################\n",
        "# Experiment: Is there a statistically significant difference in the mean bills between smokers and non-smokers?\"\n",
        "############################\n",
        "\n",
        "\n",
        "df = sns.load_dataset(\"tips\")\n",
        "df.head()\n",
        "\n",
        "df.groupby(\"smoker\").agg({\"total_bill\": \"mean\"})\n",
        "\n",
        "############################\n",
        "# 1. Formulate the hypothesis\n",
        "############################\n",
        "\n",
        "# H0: M1 = M2\n",
        "# H1: M1 != M2\n",
        "\n",
        "############################\n",
        "# 2. Assumption Checking\n",
        "############################\n",
        "\n",
        "# Normality Assumption\n",
        "# Variance Homogeneity Assumption\n",
        "\n",
        "############################\n",
        "# Normality Assumption\n",
        "############################\n",
        "\n",
        "# H0: The assumption of the normal distribution is satisfied\n",
        "# H1:.. is not satisfied.\n",
        "\n",
        "\n",
        "test_stat, pvalue = shapiro(df.loc[df[\"smoker\"] == \"Yes\", \"total_bill\"])\n",
        "print('Test Stat = %.4f, p-value = %.4f' % (test_stat, pvalue))\n",
        "\n",
        "# if p-value < 0.05 H0 REJECT\n",
        "# if p-value > 0.05 H0 FAIL TO REJECT\n",
        "\n",
        "\n",
        "test_stat, pvalue = shapiro(df.loc[df[\"smoker\"] == \"No\", \"total_bill\"])\n",
        "print('Test Stat = %.4f, p-value = %.4f' % (test_stat, pvalue))\n",
        "\n",
        "\n",
        "############################\n",
        "# Variance Homogeneity Assumption\n",
        "############################\n",
        "\n",
        "# H0: The variances are homogeneous\n",
        "# H1: The variances are not homogeneous\n",
        "\n",
        "test_stat, pvalue = levene(df.loc[df[\"smoker\"] == \"Yes\", \"total_bill\"],\n",
        "                           df.loc[df[\"smoker\"] == \"No\", \"total_bill\"])\n",
        "print('Test Stat = %.4f, p-value = %.4f' % (test_stat, pvalue))\n",
        "\n",
        "# if p-value < 0.05 H0 REJECT\n",
        "# if p-value > 0.05 H0 FAIL TO REJECT\n",
        "\n",
        "############################\n",
        "# 3 ve 4. Application of the Hypothesis\n",
        "############################\n",
        "\n",
        "# 1. If the assumptions are satisfied, the two-sample independent t-test is applied (parametric test)\n",
        "# 2. If the assumptions are not satisfied, the Mann-Whitney U test is used (non-parametric test)\n",
        "\n",
        "############################\n",
        "# 1.1 If the assumptions are met, the two-sample independent t-test is conducted (parametric test)\n",
        "############################\n",
        "\n",
        "test_stat, pvalue = ttest_ind(df.loc[df[\"smoker\"] == \"Yes\", \"total_bill\"],\n",
        "                              df.loc[df[\"smoker\"] == \"No\", \"total_bill\"],\n",
        "                              equal_var=True)\n",
        "\n",
        "print('Test Stat = %.4f, p-value = %.4f' % (test_stat, pvalue))\n",
        "\n",
        "# if p-value < 0.05 H0 REJECT\n",
        "# if p-value > 0.05 H0 FAIL TO REJECT\n",
        "\n",
        "############################\n",
        "# 1.2 If the assumptions are not met, the Mann-Whitney U test is conducted (non-parametric test)\n",
        "############################\n",
        "\n",
        "test_stat, pvalue = mannwhitneyu(df.loc[df[\"smoker\"] == \"Yes\", \"total_bill\"],\n",
        "                                 df.loc[df[\"smoker\"] == \"No\", \"total_bill\"])\n",
        "\n",
        "print('Test Stat = %.4f, p-value = %.4f' % (test_stat, pvalue))"
      ]
    },
    {
      "cell_type": "markdown",
      "source": [
        "# Two Independent Proportions Test"
      ],
      "metadata": {
        "id": "BYfzvFM5eAP-"
      }
    },
    {
      "cell_type": "code",
      "source": [
        "import seaborn as sns\n",
        "import numpy as np\n",
        "import pandas as pd\n",
        "from statsmodels.stats.proportion import proportions_ztest\n",
        "\n",
        "######################################################\n",
        "# Two Independent Proportions Test\n",
        "######################################################\n",
        "\n",
        "# When applying this test, we input the total number of successes and the total number of observations\n",
        "# as separate numpy arrays in the function, respectively.\n",
        "\n",
        "############################\n",
        "# Example\n",
        "############################\n",
        "\n",
        "total_num_of_success = np.array([300, 250])\n",
        "total_num_of_observations = np.array([1000, 1100])\n",
        "\n",
        "proportions_ztest(count=total_num_of_success, nobs=total_num_of_observations)\n",
        "\n",
        "\n",
        "############################\n",
        "# Application: Is there a statistically significant difference in the survival rates between males and females?\n",
        "############################\n",
        "\n",
        "# H0: p1 = p2\n",
        "# There is no statistically significant difference in the survival rates between males and females\n",
        "\n",
        "# H1: p1 != p2\n",
        "# .. there is a statistically significant difference\n",
        "\n",
        "df = sns.load_dataset(\"titanic\")\n",
        "df.head()\n",
        "\n",
        "df.loc[df[\"sex\"] == \"female\", \"survived\"].mean()\n",
        "\n",
        "df.loc[df[\"sex\"] == \"male\", \"survived\"].mean()\n",
        "\n",
        "# The sum of the survivors gives us the total number of successes\n",
        "female_succ_count = df.loc[df[\"sex\"] == \"female\", \"survived\"].sum()\n",
        "male_succ_count = df.loc[df[\"sex\"] == \"male\", \"survived\"].sum()\n",
        "\n",
        "# To obtain the total number of observations, we apply filtering and\n",
        "# then retrieve the row count, which provides us with the total number of observations that meet the condition within the variable\n",
        "test_stat, pvalue = proportions_ztest(count=[female_succ_count, male_succ_count],\n",
        "                                      nobs=[df.loc[df[\"sex\"] == \"female\", \"survived\"].shape[0],\n",
        "                                            df.loc[df[\"sex\"] == \"male\", \"survived\"].shape[0]])\n",
        "\n",
        "print('Test Stat = %.4f, p-value = %.4f' % (test_stat, pvalue))"
      ],
      "metadata": {
        "colab": {
          "base_uri": "https://localhost:8080/"
        },
        "id": "4zLrgI-Bd-V6",
        "outputId": "6ff3e8cf-2ae1-4243-9c25-022130f25c82"
      },
      "execution_count": 2,
      "outputs": [
        {
          "output_type": "stream",
          "name": "stdout",
          "text": [
            "Test Stat = 16.2188, p-value = 0.0000\n"
          ]
        }
      ]
    },
    {
      "cell_type": "markdown",
      "source": [
        "# ANOVA (Analysis of Variance)"
      ],
      "metadata": {
        "id": "96iv7gQYeK79"
      }
    },
    {
      "cell_type": "code",
      "source": [
        "import seaborn as sns\n",
        "import pandas as pd\n",
        "from scipy.stats import f_oneway, kruskal, shapiro, levene, mannwhitneyu\n",
        "\n",
        "######################################################\n",
        "# ANOVA (Analysis of Variance)\n",
        "######################################################\n",
        "\n",
        "\n",
        "df = sns.load_dataset(\"tips\")\n",
        "df.head()\n",
        "\n",
        "df.groupby(\"day\")[\"total_bill\"].mean()\n",
        "\n",
        "############################\n",
        "# 1. Formulate the hypothesis\n",
        "############################\n",
        "\n",
        "# HO: m1 = m2 = m3 = m4\n",
        "# There is no significant difference among the group means\n",
        "\n",
        "# H1: .. there is a difference\n",
        "\n",
        "############################\n",
        "# 2. Checking assumptions\n",
        "############################\n",
        "\n",
        "# Normality assumption\n",
        "# Variance homogeneity assumption\n",
        "\n",
        "# If the assumption is satisfied, we apply the One-Way ANOVA test\n",
        "# If the assumption is not satisfied, we use the Kruskal-Wallis test\n",
        "\n",
        "# H0: The assumption of the normal distribution is satisfied\n",
        "\n",
        "for group in list(df[\"day\"].unique()):\n",
        "  #We select the first index element, which is the p-value, as the Shapiro test function returns both the test statistic and the p-value\n",
        "    pvalue = shapiro(df.loc[df[\"day\"] == group, \"total_bill\"])[1]\n",
        "    print(group, 'p-value: %.4f' % pvalue)\n",
        "\n",
        "\n",
        "# H0: The assumption of homogeneity of variances is satisfied\n",
        "\n",
        "test_stat, pvalue = levene(df.loc[df[\"day\"] == \"Sun\", \"total_bill\"],\n",
        "                           df.loc[df[\"day\"] == \"Sat\", \"total_bill\"],\n",
        "                           df.loc[df[\"day\"] == \"Thur\", \"total_bill\"],\n",
        "                           df.loc[df[\"day\"] == \"Fri\", \"total_bill\"])\n",
        "print('Test Stat = %.4f, p-value = %.4f' % (test_stat, pvalue))\n",
        "\n",
        "############################\n",
        "# 3. Hypothesis testing and interpretation of the p-value\n",
        "############################\n",
        "\n",
        "# HO: There is no statistically significant difference among the group means\n",
        "\n",
        "# Parametric ANOVA test:\n",
        "f_oneway(df.loc[df[\"day\"] == \"Thur\", \"total_bill\"],\n",
        "         df.loc[df[\"day\"] == \"Fri\", \"total_bill\"],\n",
        "         df.loc[df[\"day\"] == \"Sat\", \"total_bill\"],\n",
        "         df.loc[df[\"day\"] == \"Sun\", \"total_bill\"])\n",
        "\n",
        "# Non-parametric ANOVA test:\n",
        "kruskal(df.loc[df[\"day\"] == \"Thur\", \"total_bill\"],\n",
        "        df.loc[df[\"day\"] == \"Fri\", \"total_bill\"],\n",
        "        df.loc[df[\"day\"] == \"Sat\", \"total_bill\"],\n",
        "        df.loc[df[\"day\"] == \"Sun\", \"total_bill\"])"
      ],
      "metadata": {
        "colab": {
          "base_uri": "https://localhost:8080/"
        },
        "id": "6I85jUEmeEvc",
        "outputId": "33ede18e-9a24-401b-e05b-2c33c456a278"
      },
      "execution_count": 3,
      "outputs": [
        {
          "output_type": "stream",
          "name": "stdout",
          "text": [
            "Sun p-value: 0.0036\n",
            "Sat p-value: 0.0000\n",
            "Thur p-value: 0.0000\n",
            "Fri p-value: 0.0409\n",
            "Test Stat = 0.6654, p-value = 0.5741\n"
          ]
        },
        {
          "output_type": "execute_result",
          "data": {
            "text/plain": [
              "KruskalResult(statistic=10.403076391437086, pvalue=0.01543300820104127)"
            ]
          },
          "metadata": {},
          "execution_count": 3
        }
      ]
    },
    {
      "cell_type": "code",
      "source": [
        "from statsmodels.stats.multicomp import MultiComparison\n",
        "\n",
        "comparison = MultiComparison(df['total_bill'], df['day'])\n",
        "tukey = comparison.tukeyhsd(0.05)\n",
        "\n",
        "print(tukey.summary())"
      ],
      "metadata": {
        "colab": {
          "base_uri": "https://localhost:8080/"
        },
        "id": "IqwsbjSWeUMV",
        "outputId": "9653c700-e20b-476c-f546-2de6db20daa4"
      },
      "execution_count": 4,
      "outputs": [
        {
          "output_type": "stream",
          "name": "stdout",
          "text": [
            "Multiple Comparison of Means - Tukey HSD, FWER=0.05 \n",
            "====================================================\n",
            "group1 group2 meandiff p-adj   lower   upper  reject\n",
            "----------------------------------------------------\n",
            "   Fri    Sat   3.2898 0.4541 -2.4799  9.0595  False\n",
            "   Fri    Sun   4.2584 0.2371 -1.5856 10.1025  False\n",
            "   Fri   Thur   0.5312 0.9957 -5.4434  6.5057  False\n",
            "   Sat    Sun   0.9686 0.8968 -2.6088   4.546  False\n",
            "   Sat   Thur  -2.7586 0.2374 -6.5455  1.0282  False\n",
            "   Sun   Thur  -3.7273 0.0668 -7.6264  0.1719  False\n",
            "----------------------------------------------------\n"
          ]
        }
      ]
    }
  ]
}
