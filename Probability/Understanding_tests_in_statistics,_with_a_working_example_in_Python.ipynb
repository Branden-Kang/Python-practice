{
  "nbformat": 4,
  "nbformat_minor": 0,
  "metadata": {
    "colab": {
      "name": "Understanding tests in statistics, with a working example in Python.ipynb",
      "provenance": [],
      "authorship_tag": "ABX9TyNDTnbe3/1bXANdJgPu0YhI"
    },
    "kernelspec": {
      "name": "python3",
      "display_name": "Python 3"
    },
    "language_info": {
      "name": "python"
    }
  },
  "cells": [
    {
      "cell_type": "markdown",
      "source": [
        "[Reference](https://amitb0007.medium.com/understanding-tests-in-statistics-with-a-working-example-in-python-158650aa5674)"
      ],
      "metadata": {
        "id": "1ZT6f3uAcLuC"
      }
    },
    {
      "cell_type": "code",
      "execution_count": 1,
      "metadata": {
        "colab": {
          "base_uri": "https://localhost:8080/"
        },
        "id": "a5YKRebfb0PE",
        "outputId": "b4fe3f16-c7ab-4559-b688-21667f45084b"
      },
      "outputs": [
        {
          "output_type": "stream",
          "name": "stderr",
          "text": [
            "/usr/local/lib/python3.7/dist-packages/statsmodels/tools/_testing.py:19: FutureWarning: pandas.util.testing is deprecated. Use the functions in the public API at pandas.testing instead.\n",
            "  import pandas.util.testing as tm\n"
          ]
        }
      ],
      "source": [
        "import numpy as np\n",
        "import pandas as pd\n",
        "import scipy.stats as stats\n",
        "import math\n",
        "from scipy.stats import ttest_rel,ttest_ind,ttest_1samp\n",
        "import statsmodels.api as sm\n",
        "from statsmodels.formula.api import ols\n",
        "from statsmodels.stats.anova import anova_lm\n",
        "from scipy.stats import ttest_1samp,ttest_ind,wilcoxon,levene,bartlett,shapiro,mannwhitneyu"
      ]
    },
    {
      "cell_type": "code",
      "source": [
        "μ=300  # (population mean),\n",
        "n=50   # (sample size),\n",
        "σ =20  # (standard deviation),\n",
        "x_bar=295 # (sample mean),\n",
        "α =0.05   # (level of significance)"
      ],
      "metadata": {
        "id": "ol3evulhcjju"
      },
      "execution_count": 2,
      "outputs": []
    },
    {
      "cell_type": "code",
      "source": [
        "z = stats.norm.isf(0.05)\n",
        "Standard_Error = σ/np.sqrt(n)\n",
        "UB = x_bar+z*Standard_Error\n",
        "LB= x_bar-z*Standard_Error\n",
        "print('Upper limit is :',UB,'\\n','Lower Limit is ',LB)"
      ],
      "metadata": {
        "colab": {
          "base_uri": "https://localhost:8080/"
        },
        "id": "3THs0jBZcbCw",
        "outputId": "0b9a1fa5-f197-4748-e810-3fbde17d9983"
      },
      "execution_count": 4,
      "outputs": [
        {
          "output_type": "stream",
          "name": "stdout",
          "text": [
            "Upper limit is : 299.6523486147067 \n",
            " Lower Limit is  290.3476513852933\n"
          ]
        }
      ]
    },
    {
      "cell_type": "code",
      "source": [
        "tsat = (x_bar-μ)/Standard_Error"
      ],
      "metadata": {
        "id": "LeSw2WEoc5Ej"
      },
      "execution_count": 5,
      "outputs": []
    },
    {
      "cell_type": "code",
      "source": [
        "tcritical=stats.t.isf((0.025),n-1)\n",
        "pvalue=stats.t.cdf(tsat,n-1)"
      ],
      "metadata": {
        "id": "lCOZoRXLclxk"
      },
      "execution_count": 6,
      "outputs": []
    },
    {
      "cell_type": "code",
      "source": [
        "print('tcritical: ', tcritical)"
      ],
      "metadata": {
        "colab": {
          "base_uri": "https://localhost:8080/"
        },
        "id": "Or8ctskJc9vi",
        "outputId": "95c89ce7-0c0e-4651-d268-2d846cf7016e"
      },
      "execution_count": 7,
      "outputs": [
        {
          "output_type": "stream",
          "name": "stdout",
          "text": [
            "tcritical:  2.0095752344892093\n"
          ]
        }
      ]
    },
    {
      "cell_type": "code",
      "source": [
        "print('pvalue: ', pvalue)"
      ],
      "metadata": {
        "colab": {
          "base_uri": "https://localhost:8080/"
        },
        "id": "K_CYYyjIdDN3",
        "outputId": "1210b3fe-db03-4971-e5c7-cc2115ee2e40"
      },
      "execution_count": 8,
      "outputs": [
        {
          "output_type": "stream",
          "name": "stdout",
          "text": [
            "pvalue:  0.04166307987075465\n"
          ]
        }
      ]
    },
    {
      "cell_type": "markdown",
      "source": [
        "- as we see above p-value is greater than α(0.025) so we fail to reject H0\n",
        "- t_statistic value is less than t_critical hence fails to reject H0\n",
        "from both results, we get to know that our H0 fails to reject (accept H0)\n",
        "- Therefore, the mean run-time of a machine is 300 minutes μ=300 (accept H0)"
      ],
      "metadata": {
        "id": "turUXLjJdJHK"
      }
    }
  ]
}
