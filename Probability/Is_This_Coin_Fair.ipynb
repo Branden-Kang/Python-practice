{
  "nbformat": 4,
  "nbformat_minor": 0,
  "metadata": {
    "colab": {
      "provenance": [],
      "authorship_tag": "ABX9TyPuAAQjNr/yF28MrFKL2gER"
    },
    "kernelspec": {
      "name": "python3",
      "display_name": "Python 3"
    },
    "language_info": {
      "name": "python"
    }
  },
  "cells": [
    {
      "cell_type": "markdown",
      "source": [
        "[Reference](https://rationalpursuit.medium.com/is-this-coin-fair-b17e9b04941f)"
      ],
      "metadata": {
        "id": "aO0mWwNKuLn1"
      }
    },
    {
      "cell_type": "code",
      "execution_count": 1,
      "metadata": {
        "id": "VK5TNi8juJKf"
      },
      "outputs": [],
      "source": [
        "import random\n",
        "\n",
        "# Data\n",
        "n_flips = 100\n",
        "n_heads = 45"
      ]
    },
    {
      "cell_type": "markdown",
      "source": [
        "# Frequentist Perspective"
      ],
      "metadata": {
        "id": "9GGmLLd2uTUe"
      }
    },
    {
      "cell_type": "code",
      "source": [
        "# Simulate 10,000 experiments of flipping a fair coin 100 times\n",
        "random.seed(42)\n",
        "n_simulations = 10000\n",
        "\n",
        "sim_results = [sum(random.random() < 0.5 for i in range(n_flips)) for _ in range(n_simulations)]\n",
        "\n",
        "# equivalent to random.binomialvariate(n=1100, p=0.5)\n",
        "\n",
        "# Compute fraction\n",
        "extreme_count = sum([count <= n_heads or count >= (n_flips-n_heads) for count in sim_results])\n",
        "\n",
        "fraction = extreme_count / n_simulations\n",
        "\n",
        "print(f\"Extreme fraction (p-value): {fraction:.3f}\")"
      ],
      "metadata": {
        "colab": {
          "base_uri": "https://localhost:8080/"
        },
        "id": "zJEcLYZhuQAH",
        "outputId": "a71aed92-4ace-47e2-e935-993413236382"
      },
      "execution_count": 2,
      "outputs": [
        {
          "output_type": "stream",
          "name": "stdout",
          "text": [
            "Extreme fraction (p-value): 0.369\n"
          ]
        }
      ]
    },
    {
      "cell_type": "markdown",
      "source": [
        "# Bayesian Perspective"
      ],
      "metadata": {
        "id": "FqKgg0gguVE0"
      }
    },
    {
      "cell_type": "code",
      "source": [
        "random.seed(42)\n",
        "n_simulations = 500_000\n",
        "\n",
        "# Draw many values from our prior\n",
        "prior_p =[random.random() for _ in range(n_simulations)]\n",
        "\n",
        "# Simulate coin tosses for each value of p\n",
        "# Here I use np.random.binomial to directly simulate n_flips coin flips\n",
        "simulated_heads =  [sum(random.random() < p for _ in range(n_flips)) for p in prior_p]\n",
        "\n",
        "# Condition on the observed data by selecting only those simulations\n",
        "# where the number of heads is equal to the observed number of heads\n",
        "posterior_p = [p for (p, heads) in zip(prior_p, simulated_heads) if heads == n_heads]"
      ],
      "metadata": {
        "id": "L-yHb8dluQ70"
      },
      "execution_count": 3,
      "outputs": []
    },
    {
      "cell_type": "code",
      "source": [
        "import statistics\n",
        "# If we compute n=40 quantiles, the 1st and last values will be the 2.5th and 97.5th percentiles\n",
        "quantiles = statistics.quantiles(posterior_p, n=40, method='inclusive')\n",
        "credible_interval =  quantiles[0],quantiles[-1]\n",
        "print(f\"95% credible interval: {credible_interval[0]:.3f} to {credible_interval[1]:.3f}\")"
      ],
      "metadata": {
        "colab": {
          "base_uri": "https://localhost:8080/"
        },
        "id": "xJdVeleruW96",
        "outputId": "09e6e872-b0c2-4455-fe1d-f46a27ea204c"
      },
      "execution_count": 4,
      "outputs": [
        {
          "output_type": "stream",
          "name": "stdout",
          "text": [
            "95% credible interval: 0.357 to 0.550\n"
          ]
        }
      ]
    }
  ]
}
