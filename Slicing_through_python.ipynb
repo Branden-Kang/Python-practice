{
  "nbformat": 4,
  "nbformat_minor": 0,
  "metadata": {
    "colab": {
      "name": "Slicing through python.ipynb",
      "provenance": [],
      "authorship_tag": "ABX9TyP3AHFct4C76OOqU2ltVYUD"
    },
    "kernelspec": {
      "name": "python3",
      "display_name": "Python 3"
    },
    "language_info": {
      "name": "python"
    }
  },
  "cells": [
    {
      "cell_type": "markdown",
      "metadata": {
        "id": "G3t3wuFupih3"
      },
      "source": [
        "[Reference](https://aditipateriya21.medium.com/slicing-through-python-31a6e2d57e37)"
      ]
    },
    {
      "cell_type": "code",
      "metadata": {
        "colab": {
          "base_uri": "https://localhost:8080/"
        },
        "id": "UMtkiupcoF54",
        "outputId": "8d8f08b1-3841-477e-92ed-6db2a74c34a3"
      },
      "source": [
        "#declaring a string \n",
        "str='Branden'\n",
        "#slicing the string \n",
        "print(str[:4])\n",
        "print (str[1:5])"
      ],
      "execution_count": 4,
      "outputs": [
        {
          "output_type": "stream",
          "name": "stdout",
          "text": [
            "Bran\n",
            "rand\n"
          ]
        }
      ]
    },
    {
      "cell_type": "code",
      "metadata": {
        "colab": {
          "base_uri": "https://localhost:8080/"
        },
        "id": "b8wH42keplly",
        "outputId": "3b56d5da-12b8-4953-a931-490f5d0cf992"
      },
      "source": [
        "str_ =\"Braden\"\n",
        "print(\"Original String :\")\n",
        "print(str_)\n",
        "#reversing the string using negative index slicing \n",
        "print(\"Reverse String :\")\n",
        "print(str_[: : -1])"
      ],
      "execution_count": 6,
      "outputs": [
        {
          "output_type": "stream",
          "name": "stdout",
          "text": [
            "Original String :\n",
            "Braden\n",
            "Reverse String :\n",
            "nedarB\n"
          ]
        }
      ]
    },
    {
      "cell_type": "code",
      "metadata": {
        "colab": {
          "base_uri": "https://localhost:8080/"
        },
        "id": "shCUicK6polh",
        "outputId": "2e9ece44-58a2-4e75-b0fb-e2d258229e8a"
      },
      "source": [
        "# declaring the string\n",
        "str_ =\"Braden\"\n",
        "#accessing the character of str at 0th index\n",
        "print(str_[0])"
      ],
      "execution_count": 8,
      "outputs": [
        {
          "output_type": "stream",
          "name": "stdout",
          "text": [
            "B\n"
          ]
        }
      ]
    },
    {
      "cell_type": "code",
      "metadata": {
        "colab": {
          "base_uri": "https://localhost:8080/"
        },
        "id": "MzRRj9mQqLcE",
        "outputId": "a4220c4b-369b-462a-c4e8-1e916e4bec1a"
      },
      "source": [
        "# Python program to handle simple runtime error\n",
        "a = [1, 2]\n",
        "try:\n",
        "    print(\"Second element = %d\" %(a[1]))\n",
        "    # Throws error since there are only 2 elements in array\n",
        "    print(\"Third element = %d\" %(a[2]))\n",
        "except IndexError:\n",
        "    print(\"error has occurred\")"
      ],
      "execution_count": 9,
      "outputs": [
        {
          "output_type": "stream",
          "name": "stdout",
          "text": [
            "Second element = 2\n",
            "error has occurred\n"
          ]
        }
      ]
    },
    {
      "cell_type": "code",
      "metadata": {
        "id": "OQH5JhqlqVYb"
      },
      "source": [
        "import re\n",
        "Phonenoregex=re.compile('r,\\d\\d\\d-\\d\\d\\d-\\d\\d\\d\\d')\n",
        "mo=Phonenoregex.search('My no is 414-222-1234.')\n",
        "print('Phone no found '+ mo.group)"
      ],
      "execution_count": 12,
      "outputs": []
    }
  ]
}