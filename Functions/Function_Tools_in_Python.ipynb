{
  "nbformat": 4,
  "nbformat_minor": 0,
  "metadata": {
    "colab": {
      "name": "Function-Tools in Python.ipynb",
      "provenance": [],
      "authorship_tag": "ABX9TyPt8Os6mgG3JLPVPEqidJx8"
    },
    "kernelspec": {
      "name": "python3",
      "display_name": "Python 3"
    }
  },
  "cells": [
    {
      "cell_type": "markdown",
      "metadata": {
        "id": "-sQSS8WSI015"
      },
      "source": [
        "[Reference](https://medium.com/swlh/are-you-using-python-function-tools-b3c8c5a01848)"
      ]
    },
    {
      "cell_type": "markdown",
      "metadata": {
        "id": "ZoOF33ChJIki"
      },
      "source": [
        "# Reduce"
      ]
    },
    {
      "cell_type": "code",
      "metadata": {
        "id": "VFOdd9TBIzEb"
      },
      "source": [
        "from functools import reduce"
      ],
      "execution_count": 1,
      "outputs": []
    },
    {
      "cell_type": "code",
      "metadata": {
        "id": "R2xBOeXbJCb4"
      },
      "source": [
        "def custom_string_concatenation(string_a, string_b):\n",
        "    return string_a + string_b"
      ],
      "execution_count": 2,
      "outputs": []
    },
    {
      "cell_type": "code",
      "metadata": {
        "colab": {
          "base_uri": "https://localhost:8080/",
          "height": 37
        },
        "id": "Nyq_xiNrJCrS",
        "outputId": "3ad9aa55-ef4f-4038-ce8f-e8ba3b7a9cba"
      },
      "source": [
        "# testing basic function\n",
        "custom_string_concatenation('a', 'b')"
      ],
      "execution_count": 3,
      "outputs": [
        {
          "output_type": "execute_result",
          "data": {
            "application/vnd.google.colaboratory.intrinsic+json": {
              "type": "string"
            },
            "text/plain": [
              "'ab'"
            ]
          },
          "metadata": {
            "tags": []
          },
          "execution_count": 3
        }
      ]
    },
    {
      "cell_type": "code",
      "metadata": {
        "colab": {
          "base_uri": "https://localhost:8080/",
          "height": 37
        },
        "id": "gwNXiAuIJD77",
        "outputId": "12ca22d0-cc6b-47b7-bd04-c4bfccd4ce17"
      },
      "source": [
        "reduce(custom_string_concatenation, ['w','o','r','k','s','!'])"
      ],
      "execution_count": 4,
      "outputs": [
        {
          "output_type": "execute_result",
          "data": {
            "application/vnd.google.colaboratory.intrinsic+json": {
              "type": "string"
            },
            "text/plain": [
              "'works!'"
            ]
          },
          "metadata": {
            "tags": []
          },
          "execution_count": 4
        }
      ]
    },
    {
      "cell_type": "markdown",
      "metadata": {
        "id": "UMLwYVMUJJt5"
      },
      "source": [
        "# Partial Functions"
      ]
    },
    {
      "cell_type": "code",
      "metadata": {
        "id": "bpLrC5xeJG2e"
      },
      "source": [
        "from functools import partial"
      ],
      "execution_count": 5,
      "outputs": []
    },
    {
      "cell_type": "code",
      "metadata": {
        "id": "D4wvSBp_JK9c"
      },
      "source": [
        "def exponent(base, power):\n",
        "    return base ** power"
      ],
      "execution_count": 6,
      "outputs": []
    },
    {
      "cell_type": "code",
      "metadata": {
        "id": "lvZfldfbJMWt"
      },
      "source": [
        "root = partial(exponent, power=1/2)"
      ],
      "execution_count": 7,
      "outputs": []
    },
    {
      "cell_type": "code",
      "metadata": {
        "colab": {
          "base_uri": "https://localhost:8080/"
        },
        "id": "GAANtXzWJNKV",
        "outputId": "d0892981-2179-4804-f4bc-fba8d80211ee"
      },
      "source": [
        "root(100)"
      ],
      "execution_count": 8,
      "outputs": [
        {
          "output_type": "execute_result",
          "data": {
            "text/plain": [
              "10.0"
            ]
          },
          "metadata": {
            "tags": []
          },
          "execution_count": 8
        }
      ]
    },
    {
      "cell_type": "markdown",
      "metadata": {
        "id": "cQKI7aywJY06"
      },
      "source": [
        "# Cached Properties"
      ]
    },
    {
      "cell_type": "code",
      "metadata": {
        "id": "SV0GMQEQJN-s"
      },
      "source": [
        "class RegularProperty:\n",
        "    def __init__(self, x, y):\n",
        "        self.x = x\n",
        "        self.y = y\n",
        "        \n",
        "    @property\n",
        "    def computation(self):\n",
        "        return self.x + self.y"
      ],
      "execution_count": 9,
      "outputs": []
    },
    {
      "cell_type": "code",
      "metadata": {
        "id": "pApvBmGSJbdL"
      },
      "source": [
        "some_object = RegularProperty(5, 10)"
      ],
      "execution_count": 10,
      "outputs": []
    },
    {
      "cell_type": "code",
      "metadata": {
        "colab": {
          "base_uri": "https://localhost:8080/"
        },
        "id": "uFSftDmyJc7P",
        "outputId": "5350dfe7-0318-4060-ec41-ff14fcf237dd"
      },
      "source": [
        "some_object.computation"
      ],
      "execution_count": 11,
      "outputs": [
        {
          "output_type": "execute_result",
          "data": {
            "text/plain": [
              "15"
            ]
          },
          "metadata": {
            "tags": []
          },
          "execution_count": 11
        }
      ]
    },
    {
      "cell_type": "code",
      "metadata": {
        "id": "nKGJpmdwJfc4"
      },
      "source": [
        "some_object.x = 7"
      ],
      "execution_count": 12,
      "outputs": []
    },
    {
      "cell_type": "code",
      "metadata": {
        "colab": {
          "base_uri": "https://localhost:8080/"
        },
        "id": "Ozexa6h-JgcP",
        "outputId": "ca86891d-a1ee-4a13-a0b1-88f0587475a8"
      },
      "source": [
        "some_object.computation"
      ],
      "execution_count": 13,
      "outputs": [
        {
          "output_type": "execute_result",
          "data": {
            "text/plain": [
              "17"
            ]
          },
          "metadata": {
            "tags": []
          },
          "execution_count": 13
        }
      ]
    },
    {
      "cell_type": "code",
      "metadata": {
        "id": "xlUOk3SSJhc0"
      },
      "source": [
        "from functools import cached_property\n",
        "\n",
        "class RegularProperty:\n",
        "    def __init__(self, x, y):\n",
        "        self.x = x\n",
        "        self.y = y\n",
        "        \n",
        "    @cached_property\n",
        "    def computation(self):\n",
        "        return self.x + self.y\n",
        "\n",
        "some_object = RegularProperty(5, 10)\n",
        "some_object.computation"
      ],
      "execution_count": 15,
      "outputs": []
    }
  ]
}