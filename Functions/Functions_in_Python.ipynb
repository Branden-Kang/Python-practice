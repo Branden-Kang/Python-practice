{
  "nbformat": 4,
  "nbformat_minor": 0,
  "metadata": {
    "colab": {
      "provenance": [],
      "authorship_tag": "ABX9TyOUHYvnk/fuW2IZ1ngCPUui"
    },
    "kernelspec": {
      "name": "python3",
      "display_name": "Python 3"
    },
    "language_info": {
      "name": "python"
    }
  },
  "cells": [
    {
      "cell_type": "markdown",
      "source": [
        "[Reference](https://martinxpn.medium.com/functions-in-python-27-100-days-of-python-cb19ebf60def)"
      ],
      "metadata": {
        "id": "djdeiFlkutmY"
      }
    },
    {
      "cell_type": "code",
      "execution_count": 1,
      "metadata": {
        "colab": {
          "base_uri": "https://localhost:8080/"
        },
        "id": "eALhmPdluhtw",
        "outputId": "d3046050-be3f-44b7-d52a-859dd7b5c074"
      },
      "outputs": [
        {
          "output_type": "stream",
          "name": "stdout",
          "text": [
            "Hello, World!\n"
          ]
        }
      ],
      "source": [
        "def greet():\n",
        "    print('Hello, World!')\n",
        "\n",
        "# You can call this function by simply typing its name followed by parentheses:\n",
        "greet()"
      ]
    },
    {
      "cell_type": "code",
      "source": [
        "def play_tutorial():\n",
        "    print('Welcome to the tutorial.')\n",
        "    print('Learn how to play the game.')\n",
        "    print('Enjoy the game.')\n",
        "\n",
        "play_tutorial()"
      ],
      "metadata": {
        "colab": {
          "base_uri": "https://localhost:8080/"
        },
        "id": "2wjrF9q5uxOA",
        "outputId": "65acde5d-1402-4b1e-99d7-f6296b735721"
      },
      "execution_count": 2,
      "outputs": [
        {
          "output_type": "stream",
          "name": "stdout",
          "text": [
            "Welcome to the tutorial.\n",
            "Learn how to play the game.\n",
            "Enjoy the game.\n"
          ]
        }
      ]
    },
    {
      "cell_type": "markdown",
      "source": [
        "# Passing Arguments to Functions"
      ],
      "metadata": {
        "id": "4N1-e9Dfuz7Q"
      }
    },
    {
      "cell_type": "code",
      "source": [
        "def post_to_timeline(user_id, message):\n",
        "    print(f'Posting {message} on {user_id}\\'s timeline')\n",
        "\n",
        "post_to_timeline('anna123', 'Hey there')"
      ],
      "metadata": {
        "colab": {
          "base_uri": "https://localhost:8080/"
        },
        "id": "lUX8UYtSuyqx",
        "outputId": "324ca199-2eb3-4cb1-a642-d4b05467520c"
      },
      "execution_count": 3,
      "outputs": [
        {
          "output_type": "stream",
          "name": "stdout",
          "text": [
            "Posting Hey there on anna123's timeline\n"
          ]
        }
      ]
    },
    {
      "cell_type": "markdown",
      "source": [
        "# Return Values from Functions"
      ],
      "metadata": {
        "id": "p6hUa441vBRD"
      }
    },
    {
      "cell_type": "code",
      "source": [
        "def calculate_discount(price, discount_percentage):\n",
        "    return price - (price * discount_percentage / 100)\n",
        "\n",
        "discounted_price = calculate_discount(100, 10)\n",
        "print(discounted_price)"
      ],
      "metadata": {
        "colab": {
          "base_uri": "https://localhost:8080/"
        },
        "id": "n-xU2hdSu2Db",
        "outputId": "e310f2ed-87c4-4f92-b954-8b168360086c"
      },
      "execution_count": 4,
      "outputs": [
        {
          "output_type": "stream",
          "name": "stdout",
          "text": [
            "90.0\n"
          ]
        }
      ]
    },
    {
      "cell_type": "markdown",
      "source": [
        "# Return Multiple Values from a Function"
      ],
      "metadata": {
        "id": "biRUwqKIvDqh"
      }
    },
    {
      "cell_type": "code",
      "source": [
        "def calculate_cost_and_tax(price):\n",
        "    tax = price * 0.08\n",
        "    return price, tax\n",
        "\n",
        "cost, tax = calculate_cost_and_tax(100)\n",
        "print('Cost: ', cost)\n",
        "print('Tax: ', tax)"
      ],
      "metadata": {
        "colab": {
          "base_uri": "https://localhost:8080/"
        },
        "id": "o8lWNNrJvDEB",
        "outputId": "0f234835-99bc-458c-baf0-c73fd2fd2763"
      },
      "execution_count": 5,
      "outputs": [
        {
          "output_type": "stream",
          "name": "stdout",
          "text": [
            "Cost:  100\n",
            "Tax:  8.0\n"
          ]
        }
      ]
    },
    {
      "cell_type": "code",
      "source": [
        "def date_to_day_month_year(date):\n",
        "    day, month, year = date.split('-')\n",
        "    return day, month, year\n",
        "\n",
        "day, month, year = date_to_day_month_year('28-01-2023')\n",
        "print('Day: ', day)\n",
        "print('Month: ', month)\n",
        "print('Year: ', year)"
      ],
      "metadata": {
        "id": "bwvPtV-ivGGy"
      },
      "execution_count": null,
      "outputs": []
    }
  ]
}
