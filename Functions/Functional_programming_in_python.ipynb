{
  "nbformat": 4,
  "nbformat_minor": 0,
  "metadata": {
    "colab": {
      "name": "Functional programming in python.ipynb",
      "provenance": [],
      "authorship_tag": "ABX9TyNlYG3c5Zn/pNwP7y7F2lOq"
    },
    "kernelspec": {
      "name": "python3",
      "display_name": "Python 3"
    },
    "language_info": {
      "name": "python"
    }
  },
  "cells": [
    {
      "cell_type": "markdown",
      "metadata": {
        "id": "HHVGiLWpn9r-"
      },
      "source": [
        "[Reference](https://medium.com/techsoftware/functional-programming-in-python-4db77cfd7d5c)"
      ]
    },
    {
      "cell_type": "code",
      "metadata": {
        "colab": {
          "base_uri": "https://localhost:8080/"
        },
        "id": "nGIteY6wnWaB",
        "outputId": "fe7dde8e-5c99-442c-8167-4d9e8c4979d6"
      },
      "source": [
        "def square(number):\n",
        "    return number ** 2\n",
        "\n",
        "squares = list(map(square, [2,6,10]))\n",
        "print(squares)"
      ],
      "execution_count": 1,
      "outputs": [
        {
          "output_type": "stream",
          "text": [
            "[4, 36, 100]\n"
          ],
          "name": "stdout"
        }
      ]
    },
    {
      "cell_type": "code",
      "metadata": {
        "colab": {
          "base_uri": "https://localhost:8080/"
        },
        "id": "60d0QppWoL4q",
        "outputId": "f8f490ce-cc58-4120-de12-7536bdfc69f9"
      },
      "source": [
        "input_numbers = list(map(int, input(\"Enter some numbers: \").split()))\n",
        "print(\"Check your numbers:\", input_numbers)"
      ],
      "execution_count": 4,
      "outputs": [
        {
          "output_type": "stream",
          "text": [
            "Enter some numbers: 1 2 3 4 5\n",
            "Check your numbers: [1, 2, 3, 4, 5]\n"
          ],
          "name": "stdout"
        }
      ]
    },
    {
      "cell_type": "code",
      "metadata": {
        "colab": {
          "base_uri": "https://localhost:8080/"
        },
        "id": "4SxrPmQHoW0-",
        "outputId": "2e4d630b-1f7d-4203-c373-24630f93757e"
      },
      "source": [
        "def only_even(number):\n",
        "    return number % 2 == 0\n",
        "\n",
        "my_list = [1, 2, 3, 4, 5, 6, 7, 8, 9, 10]\n",
        "\n",
        "print(list(filter(only_even, my_list)))"
      ],
      "execution_count": 6,
      "outputs": [
        {
          "output_type": "stream",
          "text": [
            "[2, 4, 6, 8, 10]\n"
          ],
          "name": "stdout"
        }
      ]
    },
    {
      "cell_type": "code",
      "metadata": {
        "colab": {
          "base_uri": "https://localhost:8080/"
        },
        "id": "47LhuVVhomXq",
        "outputId": "ea4b20e0-1744-4fe4-d3de-8b8be5a6ff08"
      },
      "source": [
        "my_list = [\"Iron Man\", \"Spider-Man\"]\n",
        "your_list = [\"Batman\", \"Superman\"]\n",
        "\n",
        "print(list(zip(my_list, your_list)))"
      ],
      "execution_count": 7,
      "outputs": [
        {
          "output_type": "stream",
          "text": [
            "[('Iron Man', 'Batman'), ('Spider-Man', 'Superman')]\n"
          ],
          "name": "stdout"
        }
      ]
    },
    {
      "cell_type": "code",
      "metadata": {
        "colab": {
          "base_uri": "https://localhost:8080/"
        },
        "id": "JprGcGTuovpS",
        "outputId": "ac69399d-94ba-455d-a51c-045866853929"
      },
      "source": [
        "from functools import reduce\n",
        "\n",
        "def accumulate(acc, item):\n",
        "    return acc + item\n",
        "\n",
        "my_list = [1, 3, 5]\n",
        "print(reduce(accumulate, my_list, 0))"
      ],
      "execution_count": 8,
      "outputs": [
        {
          "output_type": "stream",
          "text": [
            "9\n"
          ],
          "name": "stdout"
        }
      ]
    }
  ]
}