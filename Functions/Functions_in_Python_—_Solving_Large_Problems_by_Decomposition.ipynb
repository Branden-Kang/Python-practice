{
  "nbformat": 4,
  "nbformat_minor": 0,
  "metadata": {
    "colab": {
      "name": "Functions in Python — Solving Large Problems by Decomposition.ipynb",
      "provenance": [],
      "authorship_tag": "ABX9TyNuF51YPQOYP5uMdxbj5zot"
    },
    "kernelspec": {
      "name": "python3",
      "display_name": "Python 3"
    },
    "language_info": {
      "name": "python"
    }
  },
  "cells": [
    {
      "cell_type": "markdown",
      "metadata": {
        "id": "I_16mOnV13Iv"
      },
      "source": [
        "[Reference](https://medium.com/geekculture/functions-in-python-solving-large-problems-by-decomposition-9f032461982c)"
      ]
    },
    {
      "cell_type": "code",
      "metadata": {
        "colab": {
          "base_uri": "https://localhost:8080/"
        },
        "id": "sQfR97v-1SFY",
        "outputId": "bf609ba0-903f-4e1c-8f48-7ae2d2ff9cdb"
      },
      "source": [
        "def clean(my_list):\n",
        "    result = []\n",
        "    for x in my_list:\n",
        "        if x > 0:\n",
        "            result.append(x)\n",
        "    return result\n",
        "\n",
        "def add(my_list):\n",
        "    sum = 0\n",
        "    for x in my_list:\n",
        "        sum += x\n",
        "    return sum\n",
        "\n",
        "passengers = [1, -1, 1, 2, 2, 1, 4, 3, 7, -1, 0, 9, 11, 1, 3]\n",
        "clean_list = clean(passengers)\n",
        "total = add(clean_list)\n",
        "\n",
        "print(clean_list)\n",
        "print(\"Total number of passengers is\", total)"
      ],
      "execution_count": 1,
      "outputs": [
        {
          "output_type": "stream",
          "text": [
            "[1, 1, 2, 2, 1, 4, 3, 7, 9, 11, 1, 3]\n",
            "Total number of passengers is 45\n"
          ],
          "name": "stdout"
        }
      ]
    }
  ]
}