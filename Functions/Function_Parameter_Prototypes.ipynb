{
  "nbformat": 4,
  "nbformat_minor": 0,
  "metadata": {
    "colab": {
      "name": "Function Parameter Prototypes.ipynb",
      "provenance": [],
      "authorship_tag": "ABX9TyPf02Fum3CRAI6PXluWkNUC"
    },
    "kernelspec": {
      "name": "python3",
      "display_name": "Python 3"
    },
    "language_info": {
      "name": "python"
    }
  },
  "cells": [
    {
      "cell_type": "markdown",
      "metadata": {
        "id": "NsQIrgNttWBn"
      },
      "source": [
        "[Reference](https://python.plainenglish.io/python-function-parameter-prototypes-762b9e9e7864)"
      ]
    },
    {
      "cell_type": "code",
      "metadata": {
        "id": "8K8FIPBwrfHe"
      },
      "source": [
        "def add_to_list(some_list = [1]):\n",
        "   some_list.append(some_list[-1] + 1)\n",
        "   return some_list"
      ],
      "execution_count": 1,
      "outputs": []
    },
    {
      "cell_type": "code",
      "metadata": {
        "colab": {
          "base_uri": "https://localhost:8080/"
        },
        "id": "vFzwqEverga-",
        "outputId": "21591861-dd9f-403a-a670-2e3668a87686"
      },
      "source": [
        "print(add_to_list())\n",
        "print(add_to_list())\n",
        "print(add_to_list())"
      ],
      "execution_count": 2,
      "outputs": [
        {
          "output_type": "stream",
          "text": [
            "[1, 2]\n",
            "[1, 2, 3]\n",
            "[1, 2, 3, 4]\n"
          ],
          "name": "stdout"
        }
      ]
    },
    {
      "cell_type": "code",
      "metadata": {
        "colab": {
          "base_uri": "https://localhost:8080/"
        },
        "id": "xLJZfFj_ribi",
        "outputId": "f92eed14-5b43-4b7f-d33f-d4ade4e912d3"
      },
      "source": [
        "print(add_to_list.__defaults__)"
      ],
      "execution_count": 3,
      "outputs": [
        {
          "output_type": "stream",
          "text": [
            "([1, 2, 3, 4],)\n"
          ],
          "name": "stdout"
        }
      ]
    },
    {
      "cell_type": "code",
      "metadata": {
        "id": "E1Gsgi6_rkI1"
      },
      "source": [
        "def safe_add_to_list(some_list = None):\n",
        "   if some_list is None: \n",
        "       some_list == [1]           \n",
        "   some_list.append(some_list[-1] + 1)\n",
        "   return some_list"
      ],
      "execution_count": 6,
      "outputs": []
    },
    {
      "cell_type": "code",
      "metadata": {
        "colab": {
          "base_uri": "https://localhost:8080/",
          "height": 334
        },
        "id": "NLT-7wxUroR3",
        "outputId": "31755f32-f2fc-4c1c-97fd-b85f2105e4f4"
      },
      "source": [
        "print(safe_add_to_list())\n",
        "print(safe_add_to_list())\n",
        "print(safe_add_to_list())"
      ],
      "execution_count": 7,
      "outputs": [
        {
          "output_type": "error",
          "ename": "AttributeError",
          "evalue": "ignored",
          "traceback": [
            "\u001b[0;31m---------------------------------------------------------------------------\u001b[0m",
            "\u001b[0;31mAttributeError\u001b[0m                            Traceback (most recent call last)",
            "\u001b[0;32m<ipython-input-7-6f1c3ccedcf5>\u001b[0m in \u001b[0;36m<module>\u001b[0;34m()\u001b[0m\n\u001b[0;32m----> 1\u001b[0;31m \u001b[0mprint\u001b[0m\u001b[0;34m(\u001b[0m\u001b[0msafe_add_to_list\u001b[0m\u001b[0;34m(\u001b[0m\u001b[0;34m)\u001b[0m\u001b[0;34m)\u001b[0m\u001b[0;34m\u001b[0m\u001b[0;34m\u001b[0m\u001b[0m\n\u001b[0m\u001b[1;32m      2\u001b[0m \u001b[0mprint\u001b[0m\u001b[0;34m(\u001b[0m\u001b[0msafe_add_to_list\u001b[0m\u001b[0;34m(\u001b[0m\u001b[0;34m)\u001b[0m\u001b[0;34m)\u001b[0m\u001b[0;34m\u001b[0m\u001b[0;34m\u001b[0m\u001b[0m\n\u001b[1;32m      3\u001b[0m \u001b[0mprint\u001b[0m\u001b[0;34m(\u001b[0m\u001b[0msafe_add_to_list\u001b[0m\u001b[0;34m(\u001b[0m\u001b[0;34m)\u001b[0m\u001b[0;34m)\u001b[0m\u001b[0;34m\u001b[0m\u001b[0;34m\u001b[0m\u001b[0m\n",
            "\u001b[0;32m<ipython-input-6-f90ebd448eb9>\u001b[0m in \u001b[0;36msafe_add_to_list\u001b[0;34m(some_list)\u001b[0m\n\u001b[1;32m      2\u001b[0m    \u001b[0;32mif\u001b[0m \u001b[0msome_list\u001b[0m \u001b[0;32mis\u001b[0m \u001b[0;32mNone\u001b[0m\u001b[0;34m:\u001b[0m\u001b[0;34m\u001b[0m\u001b[0;34m\u001b[0m\u001b[0m\n\u001b[1;32m      3\u001b[0m        \u001b[0msome_list\u001b[0m \u001b[0;34m==\u001b[0m \u001b[0;34m[\u001b[0m\u001b[0;36m1\u001b[0m\u001b[0;34m]\u001b[0m\u001b[0;34m\u001b[0m\u001b[0;34m\u001b[0m\u001b[0m\n\u001b[0;32m----> 4\u001b[0;31m    \u001b[0msome_list\u001b[0m\u001b[0;34m.\u001b[0m\u001b[0mappend\u001b[0m\u001b[0;34m(\u001b[0m\u001b[0msome_list\u001b[0m\u001b[0;34m[\u001b[0m\u001b[0;34m-\u001b[0m\u001b[0;36m1\u001b[0m\u001b[0;34m]\u001b[0m \u001b[0;34m+\u001b[0m \u001b[0;36m1\u001b[0m\u001b[0;34m)\u001b[0m\u001b[0;34m\u001b[0m\u001b[0;34m\u001b[0m\u001b[0m\n\u001b[0m\u001b[1;32m      5\u001b[0m    \u001b[0;32mreturn\u001b[0m \u001b[0msome_list\u001b[0m\u001b[0;34m\u001b[0m\u001b[0;34m\u001b[0m\u001b[0m\n",
            "\u001b[0;31mAttributeError\u001b[0m: 'NoneType' object has no attribute 'append'"
          ]
        }
      ]
    },
    {
      "cell_type": "code",
      "metadata": {
        "id": "J-Dw67K5ror3"
      },
      "source": [
        "from copy import deepcopy\n",
        "\n",
        "class Prototype(object):\n",
        "    def __init__(self,argument):\n",
        "        self._argument = deepcopy(argument)    \n",
        "        \n",
        "    def copy(self):\n",
        "        return deepcopy(self._argument)    \n",
        "        \n",
        "    @staticmethod\n",
        "    def value(item):\n",
        "        if issubclass(type(item),Prototype):\n",
        "            return item.copy()\n",
        "        return item"
      ],
      "execution_count": 8,
      "outputs": []
    },
    {
      "cell_type": "code",
      "metadata": {
        "id": "HyOxSdNNr1Xz"
      },
      "source": [
        "def some_function(item = Prototype([1])):\n",
        "    # Returns item or prototype copy.\n",
        "    v = Prototype.value(item) \n",
        "    v.append(v[-1]+1)\n",
        "    return v"
      ],
      "execution_count": 9,
      "outputs": []
    },
    {
      "cell_type": "code",
      "metadata": {
        "colab": {
          "base_uri": "https://localhost:8080/"
        },
        "id": "UilcOQ5er3Uw",
        "outputId": "170c5f9a-8cdf-466f-fcda-dc8b215c8a11"
      },
      "source": [
        "print(some_function())\n",
        "print(some_function([3]))\n",
        "print(some_function())"
      ],
      "execution_count": 10,
      "outputs": [
        {
          "output_type": "stream",
          "text": [
            "[1, 2]\n",
            "[3, 4]\n",
            "[1, 2]\n"
          ],
          "name": "stdout"
        }
      ]
    },
    {
      "cell_type": "code",
      "metadata": {
        "id": "oGA3xFBfr_yy"
      },
      "source": [
        "from inspect import signature\n",
        "from functools import wraps\n",
        "from copy import deepcopy\n",
        "\n",
        "def use_defaults_as_prototypes(*param_names):\n",
        "    def decorator(func):  \n",
        "        fname = func.__name__\n",
        "        sig = signature(func)\n",
        "        no_params = (len(param_names) == 0)        \n",
        "        \n",
        "        def copy_fn(val):\n",
        "            if callable(val):\n",
        "                return val            \n",
        "                \n",
        "            # In case __defaults__ is changed, store a copy.\n",
        "            val_copy = deepcopy(val) \n",
        "            return lambda : deepcopy(val_copy)        \n",
        "            \n",
        "        def keep(x): \n",
        "            return (x.name in param_names or no_params) \\\n",
        "                and x.default != x.empty        \n",
        "        items = {\n",
        "            x.name:copy_fn(x.default) for x in \\\n",
        "               sig.parameters.values() if keep(x)\n",
        "        }\n",
        "        err = \", \".join(set(param_names) - set(items.keys()))\n",
        "        assert err == '',f'{fname} parameter error(s): {err}'                \n",
        "        \n",
        "        @wraps(func)\n",
        "        def wrapper(*args,**kwargs):\n",
        "                bound = sig.bind(*args,**kwargs)\n",
        "                for k, copy in items.items():\n",
        "                    if k not in bound.arguments.keys():\n",
        "                        bound.arguments[k] = copy()\n",
        "                bound.apply_defaults()\n",
        "                return func(*bound.args,**bound.kwargs)             \n",
        "        return wrapper    \n",
        "    return decorator"
      ],
      "execution_count": 15,
      "outputs": []
    },
    {
      "cell_type": "code",
      "metadata": {
        "id": "2nDjzWpVr5QG"
      },
      "source": [
        "@use_defaults_as_prototypes('item_1')\n",
        "def some_function(item_1 = [1], item_2 = [2]):\n",
        "   item_1.append(item_1[-1]+1)\n",
        "   item_2.append(item_2[-1]+1)\n",
        "   return {'item_1':item_1, 'item_2':item_2}"
      ],
      "execution_count": 16,
      "outputs": []
    },
    {
      "cell_type": "code",
      "metadata": {
        "colab": {
          "base_uri": "https://localhost:8080/"
        },
        "id": "OeZ3YUGer8Wr",
        "outputId": "53caa425-55eb-4d90-caec-2621df344dd5"
      },
      "source": [
        "print(some_function())\n",
        "print(some_function([3]))\n",
        "print(some_function())"
      ],
      "execution_count": 17,
      "outputs": [
        {
          "output_type": "stream",
          "text": [
            "{'item_1': [1, 2], 'item_2': [2, 3]}\n",
            "{'item_1': [3, 4], 'item_2': [2, 3, 4]}\n",
            "{'item_1': [1, 2], 'item_2': [2, 3, 4, 5]}\n"
          ],
          "name": "stdout"
        }
      ]
    },
    {
      "cell_type": "code",
      "metadata": {
        "id": "oJkX_e-nsMeX"
      },
      "source": [
        "class Prototype(object):\n",
        "    def __init__(self,argument):\n",
        "        # In case a variable is passed. We want to lock \n",
        "        # this value down.\n",
        "        self._argument = deepcopy(argument)    \n",
        "        \n",
        "    def copy(self):\n",
        "        return deepcopy(self._argument)\n",
        "        \n",
        "def generate_defaults_from_prototypes(func):\n",
        "    sig = signature(func)\n",
        "    is_prototype = lambda x: isinstance(x.default,Prototype)\n",
        "    sig_vals = sig.parameters.values()\n",
        "    items = {x.name:x.default for x in sig_vals if is_prototype(x)}    @wraps(func)\n",
        "    def wrapper(*args,**kwargs):\n",
        "        bound = sig.bind(*args, **kwargs)\n",
        "        for k in items.keys() - bound.arguments.keys():\n",
        "            bound.arguments[k] = items[k].copy()\n",
        "        bound.apply_defaults()\n",
        "        return func(*bound.args, **bound.kwargs)    \n",
        "        \n",
        "    return wrapper"
      ],
      "execution_count": 19,
      "outputs": []
    },
    {
      "cell_type": "code",
      "metadata": {
        "colab": {
          "base_uri": "https://localhost:8080/",
          "height": 419
        },
        "id": "NUJ7kos0sScE",
        "outputId": "48a20557-0ab5-466e-edbf-00a1a9af7125"
      },
      "source": [
        "@generate_defaults_from_prototypes\n",
        "def a_function(item_1 = Prototype([1]), item_2 = [2]):\n",
        "    item_1.append(item_1[-1]+1)\n",
        "    item_2.append(item_2[-1]+1)\n",
        "    return {'item_1':item_1,'item_2':item_2}"
      ],
      "execution_count": 20,
      "outputs": [
        {
          "output_type": "error",
          "ename": "TypeError",
          "evalue": "ignored",
          "traceback": [
            "\u001b[0;31m---------------------------------------------------------------------------\u001b[0m",
            "\u001b[0;31mTypeError\u001b[0m                                 Traceback (most recent call last)",
            "\u001b[0;32m<ipython-input-20-c093f21aa1e5>\u001b[0m in \u001b[0;36m<module>\u001b[0;34m()\u001b[0m\n\u001b[1;32m      1\u001b[0m \u001b[0;34m@\u001b[0m\u001b[0mgenerate_defaults_from_prototypes\u001b[0m\u001b[0;34m\u001b[0m\u001b[0;34m\u001b[0m\u001b[0m\n\u001b[0;32m----> 2\u001b[0;31m \u001b[0;32mdef\u001b[0m \u001b[0ma_function\u001b[0m\u001b[0;34m(\u001b[0m\u001b[0mitem_1\u001b[0m \u001b[0;34m=\u001b[0m \u001b[0mPrototype\u001b[0m\u001b[0;34m(\u001b[0m\u001b[0;34m[\u001b[0m\u001b[0;36m1\u001b[0m\u001b[0;34m]\u001b[0m\u001b[0;34m)\u001b[0m\u001b[0;34m,\u001b[0m \u001b[0mitem_2\u001b[0m \u001b[0;34m=\u001b[0m \u001b[0;34m[\u001b[0m\u001b[0;36m2\u001b[0m\u001b[0;34m]\u001b[0m\u001b[0;34m)\u001b[0m\u001b[0;34m:\u001b[0m\u001b[0;34m\u001b[0m\u001b[0;34m\u001b[0m\u001b[0m\n\u001b[0m\u001b[1;32m      3\u001b[0m     \u001b[0mitem_1\u001b[0m\u001b[0;34m.\u001b[0m\u001b[0mappend\u001b[0m\u001b[0;34m(\u001b[0m\u001b[0mitem_1\u001b[0m\u001b[0;34m[\u001b[0m\u001b[0;34m-\u001b[0m\u001b[0;36m1\u001b[0m\u001b[0;34m]\u001b[0m\u001b[0;34m+\u001b[0m\u001b[0;36m1\u001b[0m\u001b[0;34m)\u001b[0m\u001b[0;34m\u001b[0m\u001b[0;34m\u001b[0m\u001b[0m\n\u001b[1;32m      4\u001b[0m     \u001b[0mitem_2\u001b[0m\u001b[0;34m.\u001b[0m\u001b[0mappend\u001b[0m\u001b[0;34m(\u001b[0m\u001b[0mitem_2\u001b[0m\u001b[0;34m[\u001b[0m\u001b[0;34m-\u001b[0m\u001b[0;36m1\u001b[0m\u001b[0;34m]\u001b[0m\u001b[0;34m+\u001b[0m\u001b[0;36m1\u001b[0m\u001b[0;34m)\u001b[0m\u001b[0;34m\u001b[0m\u001b[0;34m\u001b[0m\u001b[0m\n\u001b[1;32m      5\u001b[0m     \u001b[0;32mreturn\u001b[0m \u001b[0;34m{\u001b[0m\u001b[0;34m'item_1'\u001b[0m\u001b[0;34m:\u001b[0m\u001b[0mitem_1\u001b[0m\u001b[0;34m,\u001b[0m\u001b[0;34m'item_2'\u001b[0m\u001b[0;34m:\u001b[0m\u001b[0mitem_2\u001b[0m\u001b[0;34m}\u001b[0m\u001b[0;34m\u001b[0m\u001b[0;34m\u001b[0m\u001b[0m\n",
            "\u001b[0;32m<ipython-input-19-c78f5072374c>\u001b[0m in \u001b[0;36mgenerate_defaults_from_prototypes\u001b[0;34m(func)\u001b[0m\n\u001b[1;32m     12\u001b[0m     \u001b[0mis_prototype\u001b[0m \u001b[0;34m=\u001b[0m \u001b[0;32mlambda\u001b[0m \u001b[0mx\u001b[0m\u001b[0;34m:\u001b[0m \u001b[0misinstance\u001b[0m\u001b[0;34m(\u001b[0m\u001b[0mx\u001b[0m\u001b[0;34m.\u001b[0m\u001b[0mdefault\u001b[0m\u001b[0;34m,\u001b[0m\u001b[0mPrototype\u001b[0m\u001b[0;34m)\u001b[0m\u001b[0;34m\u001b[0m\u001b[0;34m\u001b[0m\u001b[0m\n\u001b[1;32m     13\u001b[0m     \u001b[0msig_vals\u001b[0m \u001b[0;34m=\u001b[0m \u001b[0msig\u001b[0m\u001b[0;34m.\u001b[0m\u001b[0mparameters\u001b[0m\u001b[0;34m.\u001b[0m\u001b[0mvalues\u001b[0m\u001b[0;34m(\u001b[0m\u001b[0;34m)\u001b[0m\u001b[0;34m\u001b[0m\u001b[0;34m\u001b[0m\u001b[0m\n\u001b[0;32m---> 14\u001b[0;31m     \u001b[0mitems\u001b[0m \u001b[0;34m=\u001b[0m \u001b[0;34m{\u001b[0m\u001b[0mx\u001b[0m\u001b[0;34m.\u001b[0m\u001b[0mname\u001b[0m\u001b[0;34m:\u001b[0m\u001b[0mx\u001b[0m\u001b[0;34m.\u001b[0m\u001b[0mdefault\u001b[0m \u001b[0;32mfor\u001b[0m \u001b[0mx\u001b[0m \u001b[0;32min\u001b[0m \u001b[0msig_vals\u001b[0m \u001b[0;32mif\u001b[0m \u001b[0mis_prototype\u001b[0m\u001b[0;34m(\u001b[0m\u001b[0mx\u001b[0m\u001b[0;34m)\u001b[0m\u001b[0;34m}\u001b[0m    \u001b[0;34m@\u001b[0m\u001b[0mwraps\u001b[0m\u001b[0;34m(\u001b[0m\u001b[0mfunc\u001b[0m\u001b[0;34m)\u001b[0m\u001b[0;34m\u001b[0m\u001b[0;34m\u001b[0m\u001b[0m\n\u001b[0m\u001b[1;32m     15\u001b[0m     \u001b[0;32mdef\u001b[0m \u001b[0mwrapper\u001b[0m\u001b[0;34m(\u001b[0m\u001b[0;34m*\u001b[0m\u001b[0margs\u001b[0m\u001b[0;34m,\u001b[0m\u001b[0;34m**\u001b[0m\u001b[0mkwargs\u001b[0m\u001b[0;34m)\u001b[0m\u001b[0;34m:\u001b[0m\u001b[0;34m\u001b[0m\u001b[0;34m\u001b[0m\u001b[0m\n\u001b[1;32m     16\u001b[0m         \u001b[0mbound\u001b[0m \u001b[0;34m=\u001b[0m \u001b[0msig\u001b[0m\u001b[0;34m.\u001b[0m\u001b[0mbind\u001b[0m\u001b[0;34m(\u001b[0m\u001b[0;34m*\u001b[0m\u001b[0margs\u001b[0m\u001b[0;34m,\u001b[0m \u001b[0;34m**\u001b[0m\u001b[0mkwargs\u001b[0m\u001b[0;34m)\u001b[0m\u001b[0;34m\u001b[0m\u001b[0;34m\u001b[0m\u001b[0m\n",
            "\u001b[0;31mTypeError\u001b[0m: unsupported operand type(s) for @: 'dict' and 'functools.partial'"
          ]
        }
      ]
    },
    {
      "cell_type": "code",
      "metadata": {
        "id": "JMn9bsawsVU6"
      },
      "source": [
        "class Prototype(object):\n",
        "    def __init__(self,argument):\n",
        "        self._argument = deepcopy(argument)\n",
        "    \n",
        "    def copy(self):\n",
        "        return deepcopy(self._argument)\n",
        "        \n",
        "def generate_defaults_from_prototypes(func):\n",
        "    sig = signature(func)\n",
        "    annotations = func.__annotations__.items()\n",
        "    params = sig.parameters\n",
        "    def prototype(k,v): return v(params[k].default)\n",
        "    def not_empty(p): return p.default != p.empty\n",
        "    \n",
        "    items = {\n",
        "        k:prototype(k,v) for k,v in annotations \\\n",
        "        if issubclass(v,Prototype) and not_empty(params[k])\n",
        "    }    \n",
        "    \n",
        "    @wraps (func)\n",
        "    def wrapper(*args,**kwargs):\n",
        "        bound = sig.bind(*args,**kwargs)\n",
        "        for k  in items.keys() - bound.arguments.keys():\n",
        "            bound.arguments[k] = items[k].copy()\n",
        "            bound.apply_defaults()\n",
        "        return func(*bound.args,**bound.kwargs)    \n",
        "        \n",
        "    return wrapper"
      ],
      "execution_count": 21,
      "outputs": []
    },
    {
      "cell_type": "code",
      "metadata": {
        "id": "a96pHCpEsgFy"
      },
      "source": [
        "@generate_defaults_from_prototypes \n",
        "def some_func(item_1: Prototype = [1], item_2 = [2]):\n",
        "    item_1.append(item_1[-1]+1)\n",
        "    item_2.append(item_2[-1]+1)\n",
        "    return {'item_1':item_1, 'item_2':item_2}"
      ],
      "execution_count": 22,
      "outputs": []
    }
  ]
}