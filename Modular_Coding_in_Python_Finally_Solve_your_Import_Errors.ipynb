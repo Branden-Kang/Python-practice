{
  "nbformat": 4,
  "nbformat_minor": 0,
  "metadata": {
    "colab": {
      "provenance": [],
      "authorship_tag": "ABX9TyNX4UtNzfpaG5xkhwoi9BuV"
    },
    "kernelspec": {
      "name": "python3",
      "display_name": "Python 3"
    },
    "language_info": {
      "name": "python"
    }
  },
  "cells": [
    {
      "cell_type": "markdown",
      "source": [
        "[Reference](https://levelup.gitconnected.com/modular-coding-in-python-finally-solve-your-import-errors-af2fd172fcf7)"
      ],
      "metadata": {
        "id": "hBS_XRBO56lh"
      }
    },
    {
      "cell_type": "code",
      "execution_count": 1,
      "metadata": {
        "colab": {
          "base_uri": "https://localhost:8080/"
        },
        "id": "qUofHfAG5Apw",
        "outputId": "83dc0dc2-98ef-4c55-a67f-30e65e6202b3"
      },
      "outputs": [
        {
          "output_type": "stream",
          "name": "stdout",
          "text": [
            "Database URL: example.com/db\n",
            "API Key: your_api_key\n",
            "Debug Mode: True\n",
            "Add config result: 15\n"
          ]
        }
      ],
      "source": [
        "# This is a script has multiple code blocks\n",
        "# app.py\n",
        "\n",
        "# Configs block\n",
        "database_url = \"example.com/db\"\n",
        "api_key = \"your_api_key\"\n",
        "debug_mode = True\n",
        "config_constant = 10\n",
        "\n",
        "# Functions block\n",
        "def add_config_constant(a:int)->int:\n",
        "    return a + config_constant\n",
        "\n",
        "# Prints and usage of the previous parameters and funcion blocks\n",
        "print(\"Database URL:\", database_url)\n",
        "print(\"API Key:\", api_key)\n",
        "print(\"Debug Mode:\", debug_mode)\n",
        "\n",
        "result_add = add_config_constant(5)\n",
        "print(\"Add config result:\", result_add)"
      ]
    },
    {
      "cell_type": "code",
      "source": [
        "print(f\"running {__name__}\")"
      ],
      "metadata": {
        "colab": {
          "base_uri": "https://localhost:8080/"
        },
        "id": "3-Dwp0wY5-7X",
        "outputId": "98493654-6c51-4bc2-f5f4-8e9ebefbacfd"
      },
      "execution_count": 3,
      "outputs": [
        {
          "output_type": "stream",
          "name": "stdout",
          "text": [
            "running __main__\n"
          ]
        }
      ]
    }
  ]
}