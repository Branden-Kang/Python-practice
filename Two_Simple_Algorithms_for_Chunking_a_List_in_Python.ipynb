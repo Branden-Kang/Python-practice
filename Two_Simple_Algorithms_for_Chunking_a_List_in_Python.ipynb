{
  "nbformat": 4,
  "nbformat_minor": 0,
  "metadata": {
    "colab": {
      "name": "Two Simple Algorithms for Chunking a List in Python.ipynb",
      "provenance": [],
      "authorship_tag": "ABX9TyNF6ldUbHEU5u2IeIe5DFwc"
    },
    "kernelspec": {
      "name": "python3",
      "display_name": "Python 3"
    }
  },
  "cells": [
    {
      "cell_type": "markdown",
      "metadata": {
        "id": "4aURZTATKeSV"
      },
      "source": [
        "[Reference](https://medium.com/code-85/two-simple-algorithms-for-chunking-a-list-in-python-dc46bc9cc1a2)"
      ]
    },
    {
      "cell_type": "code",
      "metadata": {
        "id": "6sZxxbkgJDp0"
      },
      "source": [
        "def genericChunk(arr, chunk_size):\n",
        "    chunked_list = []\n",
        "    i = 0\n",
        "    arr_length = len(arr) \n",
        "\n",
        "    while i < arr_length:\n",
        "        if i % chunk_size == 0:\n",
        "            chunked_list.append([])\n",
        "        chunked_list[len(chunked_list)-1].append(arr[i])    \n",
        "\n",
        "        i = i + 1  \n",
        "\n",
        "    return chunked_list"
      ],
      "execution_count": 11,
      "outputs": []
    },
    {
      "cell_type": "code",
      "metadata": {
        "id": "r_9pNjNSKh71"
      },
      "source": [
        "from math import ceil\n",
        "def chunkList2(arr, chunk_size):\n",
        "  return [\n",
        "    arr[i*chunk_size:i*chunk_size+chunk_size]\n",
        "    for i in range(ceil(len(arr)/chunk_size))\n",
        "  ]"
      ],
      "execution_count": 6,
      "outputs": []
    },
    {
      "cell_type": "code",
      "metadata": {
        "id": "ImjgXbC8KnXs"
      },
      "source": [
        "def batch(seq, size):\n",
        "  return [\n",
        "    seq[i:i + size]\n",
        "    for i in range(0, len(seq), size)\n",
        "  ]"
      ],
      "execution_count": 2,
      "outputs": []
    },
    {
      "cell_type": "code",
      "metadata": {
        "colab": {
          "base_uri": "https://localhost:8080/"
        },
        "id": "9nlSl8jyKqy7",
        "outputId": "94ac9355-a58a-4107-ba04-e1a148465be1"
      },
      "source": [
        "genericChunk([1,2,3,4,5,6],3)"
      ],
      "execution_count": 12,
      "outputs": [
        {
          "output_type": "execute_result",
          "data": {
            "text/plain": [
              "[[1, 2, 3], [4, 5, 6]]"
            ]
          },
          "metadata": {
            "tags": []
          },
          "execution_count": 12
        }
      ]
    },
    {
      "cell_type": "code",
      "metadata": {
        "colab": {
          "base_uri": "https://localhost:8080/"
        },
        "id": "YrBKFhR3KvzX",
        "outputId": "4b23be1d-78da-4a51-c93f-33ed5c0f0da6"
      },
      "source": [
        "chunkList2([1,2,3,4,5,6],3)"
      ],
      "execution_count": 9,
      "outputs": [
        {
          "output_type": "execute_result",
          "data": {
            "text/plain": [
              "[[1, 2, 3], [4, 5, 6]]"
            ]
          },
          "metadata": {
            "tags": []
          },
          "execution_count": 9
        }
      ]
    },
    {
      "cell_type": "code",
      "metadata": {
        "colab": {
          "base_uri": "https://localhost:8080/"
        },
        "id": "3hbFFVj8K_2f",
        "outputId": "9692e604-090a-4b0d-a55f-6abfda578cdf"
      },
      "source": [
        "batch([1,2,3,4,5,6],3)"
      ],
      "execution_count": 10,
      "outputs": [
        {
          "output_type": "execute_result",
          "data": {
            "text/plain": [
              "[[1, 2, 3], [4, 5, 6]]"
            ]
          },
          "metadata": {
            "tags": []
          },
          "execution_count": 10
        }
      ]
    }
  ]
}