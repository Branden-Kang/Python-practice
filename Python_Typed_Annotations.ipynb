{
  "nbformat": 4,
  "nbformat_minor": 0,
  "metadata": {
    "colab": {
      "name": "Python Typed Annotations.ipynb",
      "provenance": [],
      "authorship_tag": "ABX9TyPyGj02mmPyFH2bWDNvSiWb"
    },
    "kernelspec": {
      "name": "python3",
      "display_name": "Python 3"
    },
    "language_info": {
      "name": "python"
    }
  },
  "cells": [
    {
      "cell_type": "markdown",
      "metadata": {
        "id": "IuYE9lYiuCLp"
      },
      "source": [
        "[Reference](https://medium.com/geekculture/python-typed-annotations-1e3f3f5f6841)"
      ]
    },
    {
      "cell_type": "code",
      "metadata": {
        "id": "44iaT9cct4Nq"
      },
      "source": [
        "# annotated \n",
        "def λ(x:int)->float:\n",
        "     return x*0.1\n",
        "\n",
        "# unannotated\n",
        "def λ(x):\n",
        "     return x*0.1"
      ],
      "execution_count": 1,
      "outputs": []
    },
    {
      "cell_type": "code",
      "metadata": {
        "id": "zSsnO3iGvsSK"
      },
      "source": [
        "# in previous versions\n",
        "def λ(x: Union[int, float])->Union[int, float]:\n",
        "    return x*2\n",
        "\n",
        "# in Python 3.10\n",
        "def λ(x: int | float)-> int | float:\n",
        "   return x*2"
      ],
      "execution_count": 3,
      "outputs": []
    }
  ]
}