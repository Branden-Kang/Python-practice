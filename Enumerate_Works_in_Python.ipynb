{
  "nbformat": 4,
  "nbformat_minor": 0,
  "metadata": {
    "colab": {
      "name": "Enumerate Works in Python.ipynb",
      "provenance": [],
      "authorship_tag": "ABX9TyPKNhlXfVqCn+9hjAO3Y5DB"
    },
    "kernelspec": {
      "name": "python3",
      "display_name": "Python 3"
    },
    "language_info": {
      "name": "python"
    }
  },
  "cells": [
    {
      "cell_type": "markdown",
      "metadata": {
        "id": "AMTxwfyGZVUk"
      },
      "source": [
        "[Reference](https://python.plainenglish.io/how-enumerate-works-in-python-be15e48c93ba)"
      ]
    },
    {
      "cell_type": "code",
      "metadata": {
        "colab": {
          "base_uri": "https://localhost:8080/"
        },
        "id": "yCh1RRMgZEte",
        "outputId": "8e3fc221-e62a-41ac-85b4-2bcb3fec1576"
      },
      "source": [
        "nums = [100, 200, 300, 400, 500]\n",
        "enumeratedNums = enumerate(nums)\n",
        "print(enumeratedNums)"
      ],
      "execution_count": 1,
      "outputs": [
        {
          "output_type": "stream",
          "text": [
            "<enumerate object at 0x7f1536ad6230>\n"
          ],
          "name": "stdout"
        }
      ]
    },
    {
      "cell_type": "code",
      "metadata": {
        "colab": {
          "base_uri": "https://localhost:8080/"
        },
        "id": "mSVOeYREZqFD",
        "outputId": "2f485816-080a-45ac-e7a1-a38b9abc533d"
      },
      "source": [
        "nums = [100, 200, 300, 400, 500]\n",
        "enumeratedNums = enumerate(nums)\n",
        "print(list(enumeratedNums))"
      ],
      "execution_count": 2,
      "outputs": [
        {
          "output_type": "stream",
          "text": [
            "[(0, 100), (1, 200), (2, 300), (3, 400), (4, 500)]\n"
          ],
          "name": "stdout"
        }
      ]
    },
    {
      "cell_type": "code",
      "metadata": {
        "colab": {
          "base_uri": "https://localhost:8080/"
        },
        "id": "hHIWnicOZskS",
        "outputId": "1d340ac0-57b9-49e0-a1e3-2a02b81b017a"
      },
      "source": [
        "nums = [100, 200, 300, 400, 500]\n",
        "enumeratedNums = enumerate(nums, 10)\n",
        "print(list(enumeratedNums))"
      ],
      "execution_count": 3,
      "outputs": [
        {
          "output_type": "stream",
          "text": [
            "[(10, 100), (11, 200), (12, 300), (13, 400), (14, 500)]\n"
          ],
          "name": "stdout"
        }
      ]
    },
    {
      "cell_type": "code",
      "metadata": {
        "colab": {
          "base_uri": "https://localhost:8080/"
        },
        "id": "wKok4Kt6ZuAZ",
        "outputId": "cc5aa449-0ed5-44ad-f1ea-9444e90dd88a"
      },
      "source": [
        "nums = [100, 200, 300, 400, 500]\n",
        "enumeratedNums = enumerate(nums)\n",
        "for item in enumeratedNums:\n",
        "    print(item)"
      ],
      "execution_count": 5,
      "outputs": [
        {
          "output_type": "stream",
          "text": [
            "(0, 100)\n",
            "(1, 200)\n",
            "(2, 300)\n",
            "(3, 400)\n",
            "(4, 500)\n"
          ],
          "name": "stdout"
        }
      ]
    },
    {
      "cell_type": "code",
      "metadata": {
        "colab": {
          "base_uri": "https://localhost:8080/"
        },
        "id": "WgHgOUhPZvIE",
        "outputId": "09a61c2d-493d-4a98-c110-5dacd4614d46"
      },
      "source": [
        "nums = [100, 200, 300, 400, 500]\n",
        "enumeratedNums = enumerate(nums)\n",
        "\n",
        "for index, item in enumeratedNums:\n",
        "    print(f'Index: {index}, value: {item}')"
      ],
      "execution_count": 6,
      "outputs": [
        {
          "output_type": "stream",
          "text": [
            "Index: 0, value: 100\n",
            "Index: 1, value: 200\n",
            "Index: 2, value: 300\n",
            "Index: 3, value: 400\n",
            "Index: 4, value: 500\n"
          ],
          "name": "stdout"
        }
      ]
    },
    {
      "cell_type": "code",
      "metadata": {
        "colab": {
          "base_uri": "https://localhost:8080/"
        },
        "id": "7yC6inejZx0g",
        "outputId": "23981c8e-df03-4d50-9492-04960e72d837"
      },
      "source": [
        "nums = [100, 200, 300, 400, 500]\n",
        "\n",
        "for i in range(0, len(nums)):\n",
        "    print(f'Index: {i}, value: {nums[i]}')"
      ],
      "execution_count": 8,
      "outputs": [
        {
          "output_type": "stream",
          "text": [
            "Index: 0, value: 100\n",
            "Index: 1, value: 200\n",
            "Index: 2, value: 300\n",
            "Index: 3, value: 400\n",
            "Index: 4, value: 500\n"
          ],
          "name": "stdout"
        }
      ]
    },
    {
      "cell_type": "code",
      "metadata": {
        "colab": {
          "base_uri": "https://localhost:8080/"
        },
        "id": "uF2DPIzIZzmv",
        "outputId": "b8d86d13-1d2a-4788-fa73-80ef0e4cdabf"
      },
      "source": [
        "students = ['Ron', 'Harry', 'Hermione', 'Draco', 'Newt', 'Luna', 'Dobby', 'Ginny']\n",
        "\n",
        "evenStudents = []\n",
        "oddStudents = []\n",
        "for id, name in enumerate(students, 1):\n",
        "    if id % 2 == 0:\n",
        "        evenStudents.append((id, name))\n",
        "    else:\n",
        "        oddStudents.append((id, name))\n",
        "        \n",
        "print('Students with even id : ', evenStudents)\n",
        "print('Students with odd id : ', oddStudents)"
      ],
      "execution_count": 10,
      "outputs": [
        {
          "output_type": "stream",
          "text": [
            "Students with even id :  [(2, 'Harry'), (4, 'Draco'), (6, 'Luna'), (8, 'Ginny')]\n",
            "Students with odd id :  [(1, 'Ron'), (3, 'Hermione'), (5, 'Newt'), (7, 'Dobby')]\n"
          ],
          "name": "stdout"
        }
      ]
    }
  ]
}