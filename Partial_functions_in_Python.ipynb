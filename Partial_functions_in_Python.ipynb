{
  "nbformat": 4,
  "nbformat_minor": 0,
  "metadata": {
    "colab": {
      "name": "Partial functions in Python.ipynb",
      "provenance": [],
      "authorship_tag": "ABX9TyOTMApcqNuiQuJ2T5nLBfcv"
    },
    "kernelspec": {
      "name": "python3",
      "display_name": "Python 3"
    }
  },
  "cells": [
    {
      "cell_type": "markdown",
      "metadata": {
        "id": "0Yps0uNiOPyw"
      },
      "source": [
        "[Reference](https://towardsdatascience.com/partial-functions-in-python-4441270df1e8)"
      ]
    },
    {
      "cell_type": "code",
      "metadata": {
        "id": "1_2Taox__-aN"
      },
      "source": [
        "from functools import partial\n",
        "\n",
        "def power(base, exponent):\n",
        "  return base ** exponent\n",
        "\n",
        "squared = partial(power, exponent=2)"
      ],
      "execution_count": 1,
      "outputs": []
    },
    {
      "cell_type": "code",
      "metadata": {
        "id": "vZsJGsbAM6tI",
        "outputId": "a97d3f82-101a-4150-862f-69d874cb661b",
        "colab": {
          "base_uri": "https://localhost:8080/",
          "height": 34
        }
      },
      "source": [
        "squared(3)"
      ],
      "execution_count": 2,
      "outputs": [
        {
          "output_type": "execute_result",
          "data": {
            "text/plain": [
              "9"
            ]
          },
          "metadata": {
            "tags": []
          },
          "execution_count": 2
        }
      ]
    },
    {
      "cell_type": "code",
      "metadata": {
        "id": "2ZKJ9WdVN-rW",
        "outputId": "3b19d865-f6dd-460c-eeec-e6e90ffda671",
        "colab": {
          "base_uri": "https://localhost:8080/",
          "height": 34
        }
      },
      "source": [
        "squared(base=7)"
      ],
      "execution_count": 3,
      "outputs": [
        {
          "output_type": "execute_result",
          "data": {
            "text/plain": [
              "49"
            ]
          },
          "metadata": {
            "tags": []
          },
          "execution_count": 3
        }
      ]
    }
  ]
}