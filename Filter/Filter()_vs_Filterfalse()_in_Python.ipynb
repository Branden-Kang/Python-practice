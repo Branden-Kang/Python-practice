{
  "nbformat": 4,
  "nbformat_minor": 0,
  "metadata": {
    "colab": {
      "name": "Filter() vs Filterfalse() in Python.ipynb",
      "provenance": [],
      "authorship_tag": "ABX9TyPtXpUuGgtN0YhwULE2T8Bp"
    },
    "kernelspec": {
      "name": "python3",
      "display_name": "Python 3"
    }
  },
  "cells": [
    {
      "cell_type": "markdown",
      "metadata": {
        "id": "NhZQ5xjRz0Bo"
      },
      "source": [
        "[Reference](https://medium.com/dev-genius/filter-vs-itertools-filterfalse-in-python-d2e56ec54cae)"
      ]
    },
    {
      "cell_type": "markdown",
      "metadata": {
        "id": "6mE-l4Fv0cYt"
      },
      "source": [
        "# filter"
      ]
    },
    {
      "cell_type": "code",
      "metadata": {
        "colab": {
          "base_uri": "https://localhost:8080/"
        },
        "id": "_Mheao1EzwjC",
        "outputId": "8aaacb4a-c299-4164-86f2-2b4c64a2490e"
      },
      "source": [
        "def even(x):\n",
        "    if x%2==0:\n",
        "        return True\n",
        "num1=[1,2,3,4,5,6,7,8,9,10]\n",
        "\n",
        "even=filter(even,num1)\n",
        "print(even)\n",
        "print(type(even))\n",
        "print(list(even))"
      ],
      "execution_count": 1,
      "outputs": [
        {
          "output_type": "stream",
          "text": [
            "<filter object at 0x7fe7422b3dd8>\n",
            "<class 'filter'>\n",
            "[2, 4, 6, 8, 10]\n"
          ],
          "name": "stdout"
        }
      ]
    },
    {
      "cell_type": "code",
      "metadata": {
        "colab": {
          "base_uri": "https://localhost:8080/"
        },
        "id": "LI7GpsSXz7ov",
        "outputId": "6fdf27c5-98d9-445c-e058-327b232f1937"
      },
      "source": [
        "d={'a':100,'b':40,'c':2}\n",
        "d1=filter(lambda x:x>10,d.values())\n",
        "\n",
        "print(d1)\n",
        "print(type(d1))\n",
        "print(list(d1))"
      ],
      "execution_count": 3,
      "outputs": [
        {
          "output_type": "stream",
          "text": [
            "<filter object at 0x7fe7422b3cc0>\n",
            "<class 'filter'>\n",
            "[100, 40]\n"
          ],
          "name": "stdout"
        }
      ]
    },
    {
      "cell_type": "code",
      "metadata": {
        "colab": {
          "base_uri": "https://localhost:8080/"
        },
        "id": "m1E64Tso0AkG",
        "outputId": "8507d552-e905-497b-d19e-d57e10e4749c"
      },
      "source": [
        "num1=[1,0,2,3,{},False]\n",
        "d1=filter(None,num1)\n",
        "print(d1)\n",
        "print(type(d1))\n",
        "print(list(d1))"
      ],
      "execution_count": 4,
      "outputs": [
        {
          "output_type": "stream",
          "text": [
            "<filter object at 0x7fe7422b3b00>\n",
            "<class 'filter'>\n",
            "[1, 2, 3]\n"
          ],
          "name": "stdout"
        }
      ]
    },
    {
      "cell_type": "code",
      "metadata": {
        "colab": {
          "base_uri": "https://localhost:8080/"
        },
        "id": "P2NkEX1T0FrP",
        "outputId": "69d065e5-7158-4963-d6ae-be00fc274ba6"
      },
      "source": [
        "num1=[\"red\",\"rain\",\"region\",'blue','purple']\n",
        "d1=filter(lambda x:x.startswith(\"r\"),num1)\n",
        "print(d1)\n",
        "print(type(d1))\n",
        "for i in d1:\n",
        "    print(i)"
      ],
      "execution_count": 5,
      "outputs": [
        {
          "output_type": "stream",
          "text": [
            "<filter object at 0x7fe7422b3f28>\n",
            "<class 'filter'>\n",
            "red\n",
            "rain\n",
            "region\n"
          ],
          "name": "stdout"
        }
      ]
    },
    {
      "cell_type": "code",
      "metadata": {
        "colab": {
          "base_uri": "https://localhost:8080/"
        },
        "id": "S0oG9wCW0LUu",
        "outputId": "f888a3b9-5cb3-4133-de48-213781a1fba8"
      },
      "source": [
        "t1=(1,2,3,4,5)\n",
        "d1=filter(lambda x:x%2!=0,t1)\n",
        "print(d1)\n",
        "print(type(d1))\n",
        "print(next(d1))\n",
        "print(next(d1))\n",
        "print(next(d1))"
      ],
      "execution_count": 6,
      "outputs": [
        {
          "output_type": "stream",
          "text": [
            "<filter object at 0x7fe741a4dfd0>\n",
            "<class 'filter'>\n",
            "1\n",
            "3\n",
            "5\n"
          ],
          "name": "stdout"
        }
      ]
    },
    {
      "cell_type": "markdown",
      "metadata": {
        "id": "U6BCJFW-0af-"
      },
      "source": [
        "# itertools.filterfalse"
      ]
    },
    {
      "cell_type": "code",
      "metadata": {
        "colab": {
          "base_uri": "https://localhost:8080/"
        },
        "id": "gZ0nWwfu0Vfi",
        "outputId": "9cfe6d87-6217-4b70-aad2-cac11f0d499a"
      },
      "source": [
        "import itertools\n",
        "#iterator will filter the elements from the iterable which returns False for the given function\n",
        "num1=itertools.filterfalse(lambda x:x>4,[1,2,3,4,5,6,7,8,9])\n",
        "print(num1)\n",
        "print(list(num1))"
      ],
      "execution_count": 7,
      "outputs": [
        {
          "output_type": "stream",
          "text": [
            "<itertools.filterfalse object at 0x7fe741a4dc18>\n",
            "[1, 2, 3, 4]\n"
          ],
          "name": "stdout"
        }
      ]
    },
    {
      "cell_type": "code",
      "metadata": {
        "colab": {
          "base_uri": "https://localhost:8080/"
        },
        "id": "NypRhuQW1Z4q",
        "outputId": "dc24171e-5a0f-4a9e-eef0-48215553aa71"
      },
      "source": [
        "import itertools\n",
        "\n",
        "def even(x):\n",
        "    if x%2==0:\n",
        "        return x\n",
        "        \n",
        "num1=[1,2,3,4,5,6,7,8,9,10]\n",
        "num2=itertools.filterfalse(even,num1)\n",
        "\n",
        "print(list(num2))"
      ],
      "execution_count": 8,
      "outputs": [
        {
          "output_type": "stream",
          "text": [
            "[1, 3, 5, 7, 9]\n"
          ],
          "name": "stdout"
        }
      ]
    },
    {
      "cell_type": "code",
      "metadata": {
        "colab": {
          "base_uri": "https://localhost:8080/"
        },
        "id": "6Tc1oSo41fE8",
        "outputId": "abadc08e-3507-44b6-9fef-e70faa10238f"
      },
      "source": [
        "#If predicate is None, returns the items that are False.\n",
        "num5=itertools.filterfalse(None,[0,1,2,3,4,5])\n",
        "print(list(num5))"
      ],
      "execution_count": 9,
      "outputs": [
        {
          "output_type": "stream",
          "text": [
            "[0]\n"
          ],
          "name": "stdout"
        }
      ]
    },
    {
      "cell_type": "code",
      "metadata": {
        "colab": {
          "base_uri": "https://localhost:8080/"
        },
        "id": "zbIobjXP1iIO",
        "outputId": "60f95187-a0b0-430d-9da9-3507448bb05d"
      },
      "source": [
        "from itertools import filterfalse\n",
        "num1=[\"red\",\"rain\",\"region\",'blue','purple']\n",
        "\n",
        "d1=filterfalse(lambda x:x.startswith(\"r\"),num1)\n",
        "print(d1)\n",
        "\n",
        "print(type(d1))\n",
        "\n",
        "for i in d1:\n",
        "    print (i)"
      ],
      "execution_count": 10,
      "outputs": [
        {
          "output_type": "stream",
          "text": [
            "<itertools.filterfalse object at 0x7fe7422b3f28>\n",
            "<class 'itertools.filterfalse'>\n",
            "blue\n",
            "purple\n"
          ],
          "name": "stdout"
        }
      ]
    },
    {
      "cell_type": "code",
      "metadata": {
        "colab": {
          "base_uri": "https://localhost:8080/"
        },
        "id": "naTcm4cM1qMO",
        "outputId": "c2d0dc50-bae6-428c-8988-7ef5f9bf8a1d"
      },
      "source": [
        "import itertools\n",
        "t1=(1,2,3,4,5)\n",
        "d1=itertools.filterfalse(lambda x:x%2!=0,t1)\n",
        "print(d1)\n",
        "print(type(d1))\n",
        "print(next(d1))\n",
        "print(next(d1))"
      ],
      "execution_count": 11,
      "outputs": [
        {
          "output_type": "stream",
          "text": [
            "<itertools.filterfalse object at 0x7fe741a554e0>\n",
            "<class 'itertools.filterfalse'>\n",
            "2\n",
            "4\n"
          ],
          "name": "stdout"
        }
      ]
    }
  ]
}