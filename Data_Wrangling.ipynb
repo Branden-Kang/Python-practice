{
  "nbformat": 4,
  "nbformat_minor": 0,
  "metadata": {
    "colab": {
      "name": "Data Wrangling.ipynb",
      "provenance": [],
      "authorship_tag": "ABX9TyO2XOZMHvcvhN4BUG90koKL"
    },
    "kernelspec": {
      "name": "python3",
      "display_name": "Python 3"
    }
  },
  "cells": [
    {
      "cell_type": "markdown",
      "metadata": {
        "id": "oruBprTpiMqp",
        "colab_type": "text"
      },
      "source": [
        "[Reference](https://medium.com/swlh/data-wrangling-in-python-basics-8bd7d81a8710)"
      ]
    },
    {
      "cell_type": "code",
      "metadata": {
        "id": "mk1g0yHghTPG",
        "colab_type": "code",
        "colab": {}
      },
      "source": [
        "df = pd.read_csv(FilePath)"
      ],
      "execution_count": null,
      "outputs": []
    },
    {
      "cell_type": "code",
      "metadata": {
        "id": "lPCSy7W9hcg7",
        "colab_type": "code",
        "colab": {}
      },
      "source": [
        "df.iloc[:,:10].head()"
      ],
      "execution_count": null,
      "outputs": []
    },
    {
      "cell_type": "code",
      "metadata": {
        "id": "g_ZOChIZhx4g",
        "colab_type": "code",
        "colab": {}
      },
      "source": [
        "nunique = df.apply(pd.Series.nunique)\n",
        "cols_to_drop = nunique[nunique == 1].index\n",
        "df.drop(cols_to_drop, axis=1,inplace=True)"
      ],
      "execution_count": null,
      "outputs": []
    },
    {
      "cell_type": "code",
      "metadata": {
        "id": "uUUzoTE7hzHs",
        "colab_type": "code",
        "colab": {}
      },
      "source": [
        "df.drop(['ColumnName'], axis=1,inplace=True, errors=i'gnore')"
      ],
      "execution_count": null,
      "outputs": []
    },
    {
      "cell_type": "code",
      "metadata": {
        "id": "xjn7ypUxh3dt",
        "colab_type": "code",
        "colab": {}
      },
      "source": [
        "df.dropna(1,thresh=len(df.index)*0.9,inplace=True)"
      ],
      "execution_count": null,
      "outputs": []
    },
    {
      "cell_type": "code",
      "metadata": {
        "id": "IvbzZk-Yh4oM",
        "colab_type": "code",
        "colab": {}
      },
      "source": [
        "df['ColumnName'].fillna(0, inplace = True)"
      ],
      "execution_count": null,
      "outputs": []
    },
    {
      "cell_type": "code",
      "metadata": {
        "id": "tBHA6xb1h6Ed",
        "colab_type": "code",
        "colab": {}
      },
      "source": [
        "df['ColumnName'] = df['ColumnName'].map({'YES': 1, 'NO': 0})\n",
        "df['ColumnName'] = df['ColumnName'].astype('int8')"
      ],
      "execution_count": null,
      "outputs": []
    },
    {
      "cell_type": "code",
      "metadata": {
        "id": "EpHDTfF6iC4E",
        "colab_type": "code",
        "colab": {}
      },
      "source": [
        "df[df['Country']!='USA']"
      ],
      "execution_count": null,
      "outputs": []
    },
    {
      "cell_type": "code",
      "metadata": {
        "id": "lij71zyMiG7M",
        "colab_type": "code",
        "colab": {}
      },
      "source": [
        "pd.merge(customer,location,how='left',on=['city'])"
      ],
      "execution_count": null,
      "outputs": []
    }
  ]
}