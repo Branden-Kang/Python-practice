{
  "nbformat": 4,
  "nbformat_minor": 0,
  "metadata": {
    "colab": {
      "provenance": [],
      "authorship_tag": "ABX9TyNlF8gYWXvYFb3yflSF3urn"
    },
    "kernelspec": {
      "name": "python3",
      "display_name": "Python 3"
    },
    "language_info": {
      "name": "python"
    }
  },
  "cells": [
    {
      "cell_type": "markdown",
      "source": [
        "[Reference](https://medium.com/@naghma2404/understanding-probability-7-essential-concepts-for-data-science-with-python-examples-9c979767d0f6)"
      ],
      "metadata": {
        "id": "KnDab6JEUfSw"
      }
    },
    {
      "cell_type": "markdown",
      "source": [
        "# 1. Probability Distribution"
      ],
      "metadata": {
        "id": "8vKODH4zUh9c"
      }
    },
    {
      "cell_type": "code",
      "execution_count": 1,
      "metadata": {
        "id": "yLHf8k4qUcew"
      },
      "outputs": [],
      "source": [
        "import numpy as np\n",
        "samples = np.random.normal(0, 1, 500)"
      ]
    },
    {
      "cell_type": "markdown",
      "source": [
        "# 2. Empirical Probability\n"
      ],
      "metadata": {
        "id": "VH76OeT2UjvP"
      }
    },
    {
      "cell_type": "code",
      "source": [
        "import numpy as np\n",
        "\n",
        "coin_flips = np.random.randint(0, 2, 1000)\n",
        "heads_count = np.sum(coin_flips == 1)\n",
        "empirical_prob = heads_count / 1000"
      ],
      "metadata": {
        "id": "OicWzNO8Ui-3"
      },
      "execution_count": 2,
      "outputs": []
    },
    {
      "cell_type": "markdown",
      "source": [
        "# 3. Conditional Probability\n"
      ],
      "metadata": {
        "id": "9BYxmEa9Ul4O"
      }
    },
    {
      "cell_type": "code",
      "source": [
        "# Calculating the conditional probability of drawing a red card from a standard deck of cards, given that the card is a face card\n",
        "\n",
        "# Total number of face cards in the deck\n",
        "num_face_cards = 12\n",
        "\n",
        "# Number of face cards that are red\n",
        "num_red_face_cards = 3\n",
        "\n",
        "# Probability of drawing a face card\n",
        "p_face_card = num_face_cards / 52\n",
        "\n",
        "# Probability of drawing a red face card\n",
        "p_red_face_card = num_red_face_cards / 52\n",
        "\n",
        "# Conditional probability of drawing a red card given that the card is a face card\n",
        "p_red_given_face = num_red_face_cards / num_face_cards\n",
        "\n",
        "print(\"The conditional probability of drawing a red card from a standard deck of cards, given that the card is a face card, is:\", p_red_given_face)"
      ],
      "metadata": {
        "colab": {
          "base_uri": "https://localhost:8080/"
        },
        "id": "_Y1hvMnsUkwq",
        "outputId": "3a47e6b2-86c1-4b29-9a30-ec749bad6989"
      },
      "execution_count": 3,
      "outputs": [
        {
          "output_type": "stream",
          "name": "stdout",
          "text": [
            "The conditional probability of drawing a red card from a standard deck of cards, given that the card is a face card, is: 0.25\n"
          ]
        }
      ]
    },
    {
      "cell_type": "markdown",
      "source": [
        "# 4. Law of Total Probability\n"
      ],
      "metadata": {
        "id": "OYew5IRxUorZ"
      }
    },
    {
      "cell_type": "code",
      "source": [
        "# Define the delivery methods and their probabilities\n",
        "delivery_methods = [\"standard\", \"express\", \"same-day\"]\n",
        "delivery_probabilities = [0.6, 0.3, 0.1]\n",
        "\n",
        "# Define the delivery success rates for each method\n",
        "success_rates = {\"standard\": 0.95, \"express\": 0.9, \"same-day\": 0.85}\n",
        "\n",
        "# Calculate the probability of a delivery failing for each method\n",
        "failure_rates = {method: 1 - success_rates[method] for method in delivery_methods}\n",
        "\n",
        "# Calculate the total probability of a delivery failing\n",
        "total_failure_prob = sum(failure_rates[method] * delivery_probabilities[i] for i, method in enumerate(delivery_methods))\n",
        "\n",
        "# Calculate the probability of choosing express delivery and their delivery failing\n",
        "express_failure_prob = failure_rates[\"express\"] * delivery_probabilities[delivery_methods.index(\"express\")]\n",
        "\n",
        "# Calculate the probability of choosing express delivery given delivery failed\n",
        "express_given_failure_prob = express_failure_prob / total_failure_prob\n",
        "\n",
        "print(\"The probability that a customer chose express delivery given that their delivery failed is:\", express_given_failure_prob)"
      ],
      "metadata": {
        "colab": {
          "base_uri": "https://localhost:8080/"
        },
        "id": "NJEfFqv_Unw-",
        "outputId": "0567963f-d27b-46ef-e642-a8a0f7be3240"
      },
      "execution_count": 4,
      "outputs": [
        {
          "output_type": "stream",
          "name": "stdout",
          "text": [
            "The probability that a customer chose express delivery given that their delivery failed is: 0.39999999999999974\n"
          ]
        }
      ]
    },
    {
      "cell_type": "markdown",
      "source": [
        "# 5. Bayes’ theorem\n"
      ],
      "metadata": {
        "id": "0HXWytyHUsN0"
      }
    },
    {
      "cell_type": "code",
      "source": [
        "# Define the prior probability of having the disease\n",
        "p_disease = 0.01\n",
        "\n",
        "# Define the sensitivity and specificity of the medical test\n",
        "sensitivity = 0.95\n",
        "specificity = 0.95\n",
        "\n",
        "# Define the probability of a positive test result given the disease and no disease\n",
        "p_pos_given_disease = sensitivity\n",
        "p_pos_given_no_disease = 1 - specificity\n",
        "\n",
        "# Calculate the probability of a positive test result\n",
        "p_pos = p_disease * p_pos_given_disease + (1 - p_disease) * p_pos_given_no_disease\n",
        "\n",
        "# Calculate the probability of having the disease given a positive test result using Bayes' theorem\n",
        "p_disease_given_pos = p_pos_given_disease * p_disease / p_pos\n",
        "\n",
        "# Print the result\n",
        "print(\"The probability of having the disease given a positive test result is:\", round(p_disease_given_pos * 100, 2), \"%\")"
      ],
      "metadata": {
        "colab": {
          "base_uri": "https://localhost:8080/"
        },
        "id": "B731Mh8GUqa4",
        "outputId": "08b997c4-72a5-4603-85b3-298de8c586c3"
      },
      "execution_count": 5,
      "outputs": [
        {
          "output_type": "stream",
          "name": "stdout",
          "text": [
            "The probability of having the disease given a positive test result is: 16.1 %\n"
          ]
        }
      ]
    },
    {
      "cell_type": "markdown",
      "source": [
        "# 6. Monte Carlo Simulation"
      ],
      "metadata": {
        "id": "FELvT0cYUwCp"
      }
    },
    {
      "cell_type": "code",
      "source": [
        "import random\n",
        "\n",
        "# Define the number of simulations and successes to use\n",
        "n_simulations = 1000000\n",
        "n_successes = 0\n",
        "\n",
        "# Run the simulations\n",
        "for i in range(n_simulations):\n",
        "    coin_tosses = [random.choice(['H', 'T']) for _ in range(2)]\n",
        "    if 'H' in coin_tosses:\n",
        "        n_successes += 1\n",
        "\n",
        "# Calculate the estimated probability of getting at least one head in two coin tosses\n",
        "p_estimate = n_successes / n_simulations\n",
        "\n",
        "# Print the result\n",
        "print(\"The estimated probability of getting at least one head in two coin tosses using Monte Carlo simulation is:\", p_estimate)"
      ],
      "metadata": {
        "colab": {
          "base_uri": "https://localhost:8080/"
        },
        "id": "OievEDryUua-",
        "outputId": "2e53abf2-71c1-47eb-c9cf-7f4f327a5b45"
      },
      "execution_count": 6,
      "outputs": [
        {
          "output_type": "stream",
          "name": "stdout",
          "text": [
            "The estimated probability of getting at least one head in two coin tosses using Monte Carlo simulation is: 0.750307\n"
          ]
        }
      ]
    },
    {
      "cell_type": "markdown",
      "source": [
        "# 7. Hypothesis Testing"
      ],
      "metadata": {
        "id": "OQif2QaBUznC"
      }
    },
    {
      "cell_type": "code",
      "source": [
        "import numpy as np\n",
        "from scipy.stats import ttest_ind\n",
        "\n",
        "# Define the two groups of data\n",
        "group1 = np.array([5, 6, 7, 8, 9])\n",
        "group2 = np.array([1, 2, 3, 4, 5])\n",
        "\n",
        "# Perform the t-test\n",
        "t_stat, p_val = ttest_ind(group1, group2)\n",
        "\n",
        "# Print the results\n",
        "print(\"The t-statistic is:\", t_stat)\n",
        "print(\"The p-value is:\", p_val)\n",
        "\n",
        "# Interpret the results\n",
        "if p_val < 0.05:\n",
        "    print(\"The difference in means is statistically significant.\")\n",
        "else:\n",
        "    print(\"The difference in means is not statistically significant.\")"
      ],
      "metadata": {
        "colab": {
          "base_uri": "https://localhost:8080/"
        },
        "id": "j_H4gjB2Uxrm",
        "outputId": "3b0d798f-e42e-4ffd-82b4-ae3f9fcdf43c"
      },
      "execution_count": 7,
      "outputs": [
        {
          "output_type": "stream",
          "name": "stdout",
          "text": [
            "The t-statistic is: 4.0\n",
            "The p-value is: 0.003949772803445322\n",
            "The difference in means is statistically significant.\n"
          ]
        }
      ]
    }
  ]
}