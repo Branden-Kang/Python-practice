{
  "nbformat": 4,
  "nbformat_minor": 0,
  "metadata": {
    "colab": {
      "provenance": [],
      "authorship_tag": "ABX9TyPpM04FmrdRw2UIKExIbHX4"
    },
    "kernelspec": {
      "name": "python3",
      "display_name": "Python 3"
    },
    "language_info": {
      "name": "python"
    }
  },
  "cells": [
    {
      "cell_type": "markdown",
      "source": [
        "[Reference](https://python.plainenglish.io/debugging-in-python-using-ic-instead-of-print-01d600286d85)"
      ],
      "metadata": {
        "id": "246uxKUfb5k-"
      }
    },
    {
      "cell_type": "code",
      "execution_count": 1,
      "metadata": {
        "colab": {
          "base_uri": "https://localhost:8080/"
        },
        "id": "kVaBgSU_b2Fk",
        "outputId": "48b1148b-6152-43fe-8293-bcf3320c859d"
      },
      "outputs": [
        {
          "output_type": "stream",
          "name": "stdout",
          "text": [
            "Collecting icecream\n",
            "  Downloading icecream-2.1.3-py2.py3-none-any.whl.metadata (1.4 kB)\n",
            "Collecting colorama>=0.3.9 (from icecream)\n",
            "  Downloading colorama-0.4.6-py2.py3-none-any.whl.metadata (17 kB)\n",
            "Requirement already satisfied: pygments>=2.2.0 in /usr/local/lib/python3.10/dist-packages (from icecream) (2.18.0)\n",
            "Collecting executing>=0.3.1 (from icecream)\n",
            "  Downloading executing-2.1.0-py2.py3-none-any.whl.metadata (8.9 kB)\n",
            "Collecting asttokens>=2.0.1 (from icecream)\n",
            "  Downloading asttokens-3.0.0-py3-none-any.whl.metadata (4.7 kB)\n",
            "Downloading icecream-2.1.3-py2.py3-none-any.whl (8.4 kB)\n",
            "Downloading asttokens-3.0.0-py3-none-any.whl (26 kB)\n",
            "Downloading colorama-0.4.6-py2.py3-none-any.whl (25 kB)\n",
            "Downloading executing-2.1.0-py2.py3-none-any.whl (25 kB)\n",
            "Installing collected packages: executing, colorama, asttokens, icecream\n",
            "Successfully installed asttokens-3.0.0 colorama-0.4.6 executing-2.1.0 icecream-2.1.3\n"
          ]
        }
      ],
      "source": [
        "pip install icecream"
      ]
    },
    {
      "cell_type": "code",
      "source": [
        "def divide_numbers(a, b):\n",
        "    print(\"Inputs - a:\", a, \"b:\", b)  # Debugging with print\n",
        "    result = a / b\n",
        "    print(\"Result:\", result)  # Debugging with print\n",
        "    return result\n",
        "\n",
        "if __name__ == \"__main__\":\n",
        "    num1 = 10\n",
        "    num2 = 0  # Intentional error: Division by zero\n",
        "    divide_numbers(num1, num2)"
      ],
      "metadata": {
        "colab": {
          "base_uri": "https://localhost:8080/",
          "height": 309
        },
        "id": "fBaOkgqcb8FQ",
        "outputId": "75d44a57-16e5-428a-a077-53a58d338d05"
      },
      "execution_count": 2,
      "outputs": [
        {
          "output_type": "stream",
          "name": "stdout",
          "text": [
            "Inputs - a: 10 b: 0\n"
          ]
        },
        {
          "output_type": "error",
          "ename": "ZeroDivisionError",
          "evalue": "division by zero",
          "traceback": [
            "\u001b[0;31m---------------------------------------------------------------------------\u001b[0m",
            "\u001b[0;31mZeroDivisionError\u001b[0m                         Traceback (most recent call last)",
            "\u001b[0;32m<ipython-input-2-87aa26a0b1f8>\u001b[0m in \u001b[0;36m<cell line: 7>\u001b[0;34m()\u001b[0m\n\u001b[1;32m      8\u001b[0m     \u001b[0mnum1\u001b[0m \u001b[0;34m=\u001b[0m \u001b[0;36m10\u001b[0m\u001b[0;34m\u001b[0m\u001b[0;34m\u001b[0m\u001b[0m\n\u001b[1;32m      9\u001b[0m     \u001b[0mnum2\u001b[0m \u001b[0;34m=\u001b[0m \u001b[0;36m0\u001b[0m  \u001b[0;31m# Intentional error: Division by zero\u001b[0m\u001b[0;34m\u001b[0m\u001b[0;34m\u001b[0m\u001b[0m\n\u001b[0;32m---> 10\u001b[0;31m     \u001b[0mdivide_numbers\u001b[0m\u001b[0;34m(\u001b[0m\u001b[0mnum1\u001b[0m\u001b[0;34m,\u001b[0m \u001b[0mnum2\u001b[0m\u001b[0;34m)\u001b[0m\u001b[0;34m\u001b[0m\u001b[0;34m\u001b[0m\u001b[0m\n\u001b[0m",
            "\u001b[0;32m<ipython-input-2-87aa26a0b1f8>\u001b[0m in \u001b[0;36mdivide_numbers\u001b[0;34m(a, b)\u001b[0m\n\u001b[1;32m      1\u001b[0m \u001b[0;32mdef\u001b[0m \u001b[0mdivide_numbers\u001b[0m\u001b[0;34m(\u001b[0m\u001b[0ma\u001b[0m\u001b[0;34m,\u001b[0m \u001b[0mb\u001b[0m\u001b[0;34m)\u001b[0m\u001b[0;34m:\u001b[0m\u001b[0;34m\u001b[0m\u001b[0;34m\u001b[0m\u001b[0m\n\u001b[1;32m      2\u001b[0m     \u001b[0mprint\u001b[0m\u001b[0;34m(\u001b[0m\u001b[0;34m\"Inputs - a:\"\u001b[0m\u001b[0;34m,\u001b[0m \u001b[0ma\u001b[0m\u001b[0;34m,\u001b[0m \u001b[0;34m\"b:\"\u001b[0m\u001b[0;34m,\u001b[0m \u001b[0mb\u001b[0m\u001b[0;34m)\u001b[0m  \u001b[0;31m# Debugging with print\u001b[0m\u001b[0;34m\u001b[0m\u001b[0;34m\u001b[0m\u001b[0m\n\u001b[0;32m----> 3\u001b[0;31m     \u001b[0mresult\u001b[0m \u001b[0;34m=\u001b[0m \u001b[0ma\u001b[0m \u001b[0;34m/\u001b[0m \u001b[0mb\u001b[0m\u001b[0;34m\u001b[0m\u001b[0;34m\u001b[0m\u001b[0m\n\u001b[0m\u001b[1;32m      4\u001b[0m     \u001b[0mprint\u001b[0m\u001b[0;34m(\u001b[0m\u001b[0;34m\"Result:\"\u001b[0m\u001b[0;34m,\u001b[0m \u001b[0mresult\u001b[0m\u001b[0;34m)\u001b[0m  \u001b[0;31m# Debugging with print\u001b[0m\u001b[0;34m\u001b[0m\u001b[0;34m\u001b[0m\u001b[0m\n\u001b[1;32m      5\u001b[0m     \u001b[0;32mreturn\u001b[0m \u001b[0mresult\u001b[0m\u001b[0;34m\u001b[0m\u001b[0;34m\u001b[0m\u001b[0m\n",
            "\u001b[0;31mZeroDivisionError\u001b[0m: division by zero"
          ]
        }
      ]
    },
    {
      "cell_type": "code",
      "source": [
        "from icecream import ic\n",
        "\n",
        "def divide_numbers(a, b):\n",
        "    ic(a, b)  # Debugging with ic\n",
        "    result = a / b\n",
        "    ic(result)  # Debugging with ic\n",
        "    return result\n",
        "\n",
        "if __name__ == \"__main__\":\n",
        "    num1 = 10\n",
        "    num2 = 0  # Intentional error: Division by zero\n",
        "    divide_numbers(num1, num2)"
      ],
      "metadata": {
        "colab": {
          "base_uri": "https://localhost:8080/",
          "height": 309
        },
        "id": "vGCqxUr3cEXj",
        "outputId": "3c4d4902-03ba-4a0d-8b55-a1ec9360fec5"
      },
      "execution_count": 3,
      "outputs": [
        {
          "output_type": "stream",
          "name": "stderr",
          "text": [
            "ic| a: 10, b: 0\n"
          ]
        },
        {
          "output_type": "error",
          "ename": "ZeroDivisionError",
          "evalue": "division by zero",
          "traceback": [
            "\u001b[0;31m---------------------------------------------------------------------------\u001b[0m",
            "\u001b[0;31mZeroDivisionError\u001b[0m                         Traceback (most recent call last)",
            "\u001b[0;32m<ipython-input-3-28049e9b9509>\u001b[0m in \u001b[0;36m<cell line: 9>\u001b[0;34m()\u001b[0m\n\u001b[1;32m     10\u001b[0m     \u001b[0mnum1\u001b[0m \u001b[0;34m=\u001b[0m \u001b[0;36m10\u001b[0m\u001b[0;34m\u001b[0m\u001b[0;34m\u001b[0m\u001b[0m\n\u001b[1;32m     11\u001b[0m     \u001b[0mnum2\u001b[0m \u001b[0;34m=\u001b[0m \u001b[0;36m0\u001b[0m  \u001b[0;31m# Intentional error: Division by zero\u001b[0m\u001b[0;34m\u001b[0m\u001b[0;34m\u001b[0m\u001b[0m\n\u001b[0;32m---> 12\u001b[0;31m     \u001b[0mdivide_numbers\u001b[0m\u001b[0;34m(\u001b[0m\u001b[0mnum1\u001b[0m\u001b[0;34m,\u001b[0m \u001b[0mnum2\u001b[0m\u001b[0;34m)\u001b[0m\u001b[0;34m\u001b[0m\u001b[0;34m\u001b[0m\u001b[0m\n\u001b[0m",
            "\u001b[0;32m<ipython-input-3-28049e9b9509>\u001b[0m in \u001b[0;36mdivide_numbers\u001b[0;34m(a, b)\u001b[0m\n\u001b[1;32m      3\u001b[0m \u001b[0;32mdef\u001b[0m \u001b[0mdivide_numbers\u001b[0m\u001b[0;34m(\u001b[0m\u001b[0ma\u001b[0m\u001b[0;34m,\u001b[0m \u001b[0mb\u001b[0m\u001b[0;34m)\u001b[0m\u001b[0;34m:\u001b[0m\u001b[0;34m\u001b[0m\u001b[0;34m\u001b[0m\u001b[0m\n\u001b[1;32m      4\u001b[0m     \u001b[0mic\u001b[0m\u001b[0;34m(\u001b[0m\u001b[0ma\u001b[0m\u001b[0;34m,\u001b[0m \u001b[0mb\u001b[0m\u001b[0;34m)\u001b[0m  \u001b[0;31m# Debugging with ic\u001b[0m\u001b[0;34m\u001b[0m\u001b[0;34m\u001b[0m\u001b[0m\n\u001b[0;32m----> 5\u001b[0;31m     \u001b[0mresult\u001b[0m \u001b[0;34m=\u001b[0m \u001b[0ma\u001b[0m \u001b[0;34m/\u001b[0m \u001b[0mb\u001b[0m\u001b[0;34m\u001b[0m\u001b[0;34m\u001b[0m\u001b[0m\n\u001b[0m\u001b[1;32m      6\u001b[0m     \u001b[0mic\u001b[0m\u001b[0;34m(\u001b[0m\u001b[0mresult\u001b[0m\u001b[0;34m)\u001b[0m  \u001b[0;31m# Debugging with ic\u001b[0m\u001b[0;34m\u001b[0m\u001b[0;34m\u001b[0m\u001b[0m\n\u001b[1;32m      7\u001b[0m     \u001b[0;32mreturn\u001b[0m \u001b[0mresult\u001b[0m\u001b[0;34m\u001b[0m\u001b[0;34m\u001b[0m\u001b[0m\n",
            "\u001b[0;31mZeroDivisionError\u001b[0m: division by zero"
          ]
        }
      ]
    },
    {
      "cell_type": "code",
      "source": [
        "from icecream import ic\n",
        "\n",
        "# Enable full context for debugging (includes file name and line number)\n",
        "ic.configureOutput(includeContext=True)\n",
        "\n",
        "def divide_numbers(a, b):\n",
        "    ic(a, b)\n",
        "    result = a / b\n",
        "    ic(result)\n",
        "    return result\n",
        "\n",
        "if __name__ == \"__main__\":\n",
        "    num1 = 10\n",
        "    num2 = 0  # Intentional error: Division by zero\n",
        "    divide_numbers(num1, num2)"
      ],
      "metadata": {
        "colab": {
          "base_uri": "https://localhost:8080/",
          "height": 309
        },
        "id": "ZzIrtPk7cIQg",
        "outputId": "2351103b-7c45-48da-a552-8cb55eef17fa"
      },
      "execution_count": 6,
      "outputs": [
        {
          "output_type": "stream",
          "name": "stderr",
          "text": [
            "ic| <ipython-input-6-7603ccff16b2>:7 in divide_numbers()- a: 10, b: 0\n"
          ]
        },
        {
          "output_type": "error",
          "ename": "ZeroDivisionError",
          "evalue": "division by zero",
          "traceback": [
            "\u001b[0;31m---------------------------------------------------------------------------\u001b[0m",
            "\u001b[0;31mZeroDivisionError\u001b[0m                         Traceback (most recent call last)",
            "\u001b[0;32m<ipython-input-6-7603ccff16b2>\u001b[0m in \u001b[0;36m<cell line: 12>\u001b[0;34m()\u001b[0m\n\u001b[1;32m     13\u001b[0m     \u001b[0mnum1\u001b[0m \u001b[0;34m=\u001b[0m \u001b[0;36m10\u001b[0m\u001b[0;34m\u001b[0m\u001b[0;34m\u001b[0m\u001b[0m\n\u001b[1;32m     14\u001b[0m     \u001b[0mnum2\u001b[0m \u001b[0;34m=\u001b[0m \u001b[0;36m0\u001b[0m  \u001b[0;31m# Intentional error: Division by zero\u001b[0m\u001b[0;34m\u001b[0m\u001b[0;34m\u001b[0m\u001b[0m\n\u001b[0;32m---> 15\u001b[0;31m     \u001b[0mdivide_numbers\u001b[0m\u001b[0;34m(\u001b[0m\u001b[0mnum1\u001b[0m\u001b[0;34m,\u001b[0m \u001b[0mnum2\u001b[0m\u001b[0;34m)\u001b[0m\u001b[0;34m\u001b[0m\u001b[0;34m\u001b[0m\u001b[0m\n\u001b[0m",
            "\u001b[0;32m<ipython-input-6-7603ccff16b2>\u001b[0m in \u001b[0;36mdivide_numbers\u001b[0;34m(a, b)\u001b[0m\n\u001b[1;32m      6\u001b[0m \u001b[0;32mdef\u001b[0m \u001b[0mdivide_numbers\u001b[0m\u001b[0;34m(\u001b[0m\u001b[0ma\u001b[0m\u001b[0;34m,\u001b[0m \u001b[0mb\u001b[0m\u001b[0;34m)\u001b[0m\u001b[0;34m:\u001b[0m\u001b[0;34m\u001b[0m\u001b[0;34m\u001b[0m\u001b[0m\n\u001b[1;32m      7\u001b[0m     \u001b[0mic\u001b[0m\u001b[0;34m(\u001b[0m\u001b[0ma\u001b[0m\u001b[0;34m,\u001b[0m \u001b[0mb\u001b[0m\u001b[0;34m)\u001b[0m\u001b[0;34m\u001b[0m\u001b[0;34m\u001b[0m\u001b[0m\n\u001b[0;32m----> 8\u001b[0;31m     \u001b[0mresult\u001b[0m \u001b[0;34m=\u001b[0m \u001b[0ma\u001b[0m \u001b[0;34m/\u001b[0m \u001b[0mb\u001b[0m\u001b[0;34m\u001b[0m\u001b[0;34m\u001b[0m\u001b[0m\n\u001b[0m\u001b[1;32m      9\u001b[0m     \u001b[0mic\u001b[0m\u001b[0;34m(\u001b[0m\u001b[0mresult\u001b[0m\u001b[0;34m)\u001b[0m\u001b[0;34m\u001b[0m\u001b[0;34m\u001b[0m\u001b[0m\n\u001b[1;32m     10\u001b[0m     \u001b[0;32mreturn\u001b[0m \u001b[0mresult\u001b[0m\u001b[0;34m\u001b[0m\u001b[0;34m\u001b[0m\u001b[0m\n",
            "\u001b[0;31mZeroDivisionError\u001b[0m: division by zero"
          ]
        }
      ]
    },
    {
      "cell_type": "code",
      "source": [
        "from icecream import ic\n",
        "\n",
        "# Enable full debugging context\n",
        "ic.configureOutput(includeContext=True)\n",
        "\n",
        "def divide_numbers(a, b):\n",
        "    c = a * 2\n",
        "    ic(a, b, c)  # Debugging intermediate calculations\n",
        "    result = c / b\n",
        "    ic(result)\n",
        "    return result\n",
        "\n",
        "if __name__ == \"__main__\":\n",
        "    num1 = 10\n",
        "    num2 = 0  # Intentional error: Division by zero\n",
        "    divide_numbers(num1, num2)"
      ],
      "metadata": {
        "colab": {
          "base_uri": "https://localhost:8080/",
          "height": 360
        },
        "id": "gT5bthjPcJKi",
        "outputId": "1920e092-aa84-4e6d-8342-0e36c1451971"
      },
      "execution_count": 7,
      "outputs": [
        {
          "output_type": "stream",
          "name": "stderr",
          "text": [
            "ic| <ipython-input-7-13425ed7d8b7>:8 in divide_numbers()\n",
            "    a: 10\n",
            "    b: 0\n",
            "    c: 20\n"
          ]
        },
        {
          "output_type": "error",
          "ename": "ZeroDivisionError",
          "evalue": "division by zero",
          "traceback": [
            "\u001b[0;31m---------------------------------------------------------------------------\u001b[0m",
            "\u001b[0;31mZeroDivisionError\u001b[0m                         Traceback (most recent call last)",
            "\u001b[0;32m<ipython-input-7-13425ed7d8b7>\u001b[0m in \u001b[0;36m<cell line: 13>\u001b[0;34m()\u001b[0m\n\u001b[1;32m     14\u001b[0m     \u001b[0mnum1\u001b[0m \u001b[0;34m=\u001b[0m \u001b[0;36m10\u001b[0m\u001b[0;34m\u001b[0m\u001b[0;34m\u001b[0m\u001b[0m\n\u001b[1;32m     15\u001b[0m     \u001b[0mnum2\u001b[0m \u001b[0;34m=\u001b[0m \u001b[0;36m0\u001b[0m  \u001b[0;31m# Intentional error: Division by zero\u001b[0m\u001b[0;34m\u001b[0m\u001b[0;34m\u001b[0m\u001b[0m\n\u001b[0;32m---> 16\u001b[0;31m     \u001b[0mdivide_numbers\u001b[0m\u001b[0;34m(\u001b[0m\u001b[0mnum1\u001b[0m\u001b[0;34m,\u001b[0m \u001b[0mnum2\u001b[0m\u001b[0;34m)\u001b[0m\u001b[0;34m\u001b[0m\u001b[0;34m\u001b[0m\u001b[0m\n\u001b[0m",
            "\u001b[0;32m<ipython-input-7-13425ed7d8b7>\u001b[0m in \u001b[0;36mdivide_numbers\u001b[0;34m(a, b)\u001b[0m\n\u001b[1;32m      7\u001b[0m     \u001b[0mc\u001b[0m \u001b[0;34m=\u001b[0m \u001b[0ma\u001b[0m \u001b[0;34m*\u001b[0m \u001b[0;36m2\u001b[0m\u001b[0;34m\u001b[0m\u001b[0;34m\u001b[0m\u001b[0m\n\u001b[1;32m      8\u001b[0m     \u001b[0mic\u001b[0m\u001b[0;34m(\u001b[0m\u001b[0ma\u001b[0m\u001b[0;34m,\u001b[0m \u001b[0mb\u001b[0m\u001b[0;34m,\u001b[0m \u001b[0mc\u001b[0m\u001b[0;34m)\u001b[0m  \u001b[0;31m# Debugging intermediate calculations\u001b[0m\u001b[0;34m\u001b[0m\u001b[0;34m\u001b[0m\u001b[0m\n\u001b[0;32m----> 9\u001b[0;31m     \u001b[0mresult\u001b[0m \u001b[0;34m=\u001b[0m \u001b[0mc\u001b[0m \u001b[0;34m/\u001b[0m \u001b[0mb\u001b[0m\u001b[0;34m\u001b[0m\u001b[0;34m\u001b[0m\u001b[0m\n\u001b[0m\u001b[1;32m     10\u001b[0m     \u001b[0mic\u001b[0m\u001b[0;34m(\u001b[0m\u001b[0mresult\u001b[0m\u001b[0;34m)\u001b[0m\u001b[0;34m\u001b[0m\u001b[0;34m\u001b[0m\u001b[0m\n\u001b[1;32m     11\u001b[0m     \u001b[0;32mreturn\u001b[0m \u001b[0mresult\u001b[0m\u001b[0;34m\u001b[0m\u001b[0;34m\u001b[0m\u001b[0m\n",
            "\u001b[0;31mZeroDivisionError\u001b[0m: division by zero"
          ]
        }
      ]
    },
    {
      "cell_type": "code",
      "source": [
        "from icecream import ic\n",
        "\n",
        "# Enable full debugging context\n",
        "ic.configureOutput(includeContext=True)\n",
        "\n",
        "def add_numbers(x, y):\n",
        "    return x + y\n",
        "\n",
        "def multiply_numbers(x, y):\n",
        "    return x * y\n",
        "\n",
        "def compute(a, b):\n",
        "    ic(a, b)  # Debugging input values\n",
        "    total = add_numbers(a, b)\n",
        "    ic(total)  # Debugging intermediate result\n",
        "    product = multiply_numbers(total, a)\n",
        "    ic(product)  # Debugging final result\n",
        "    return product\n",
        "\n",
        "if __name__ == \"__main__\":\n",
        "    compute(10, 0)"
      ],
      "metadata": {
        "colab": {
          "base_uri": "https://localhost:8080/"
        },
        "id": "qcn31aM1cNcx",
        "outputId": "6e11144f-2f73-47a8-a72d-324090bd12b9"
      },
      "execution_count": 8,
      "outputs": [
        {
          "output_type": "stream",
          "name": "stderr",
          "text": [
            "ic| <ipython-input-8-fc742a7f4552>:13 in compute()- a: 10, b: 0\n",
            "ic| <ipython-input-8-fc742a7f4552>:15 in compute()- total: 10\n",
            "ic| <ipython-input-8-fc742a7f4552>:17 in compute()- product: 100\n"
          ]
        }
      ]
    },
    {
      "cell_type": "code",
      "source": [
        "from icecream import ic\n",
        "\n",
        "# Enable full debugging context\n",
        "ic.configureOutput(includeContext=True)\n",
        "\n",
        "def quick_test(x):\n",
        "    y = x + 1\n",
        "    z = y * 2\n",
        "    ic(x, y, z)\n",
        "    return z\n",
        "\n",
        "if __name__ == \"__main__\":\n",
        "    quick_test(5)"
      ],
      "metadata": {
        "colab": {
          "base_uri": "https://localhost:8080/"
        },
        "id": "7sfXZWLPchbn",
        "outputId": "65693242-9e2c-4050-a536-f0fe2b135594"
      },
      "execution_count": 9,
      "outputs": [
        {
          "output_type": "stream",
          "name": "stderr",
          "text": [
            "ic| <ipython-input-9-3fd4683a4ca7>:9 in quick_test()\n",
            "    x: 5\n",
            "    y: 6\n",
            "    z: 12\n"
          ]
        }
      ]
    },
    {
      "cell_type": "code",
      "source": [
        "import time\n",
        "from icecream import ic\n",
        "\n",
        "# Custom output function to ensure each debug entry is on a new line\n",
        "def custom_log_function(output):\n",
        "    debug_log_file.write(output + '\\n')  # Add a newline after each entry\n",
        "\n",
        "# Open the log file for writing\n",
        "debug_log_file = open(\"debug.log\", \"w\")\n",
        "\n",
        "# Configure IceCream for logging with a custom output function\n",
        "ic.configureOutput(prefix='DEBUG -> ', outputFunction=custom_log_function)\n",
        "\n",
        "\n",
        "def calculate_sum(a, b):\n",
        "    ic(a, b)\n",
        "    result = a + b\n",
        "    ic(result)\n",
        "    return result\n",
        "\n",
        "\n",
        "def calculate_division(a, b):\n",
        "    try:\n",
        "        ic(a, b)\n",
        "        result = a / b\n",
        "        ic(result)\n",
        "        return result\n",
        "    except ZeroDivisionError as e:\n",
        "        ic(\"Caught an error:\", e)\n",
        "        return None\n",
        "\n",
        "\n",
        "def pause_execution():\n",
        "    ic(\"Pausing execution for 2 seconds...\")\n",
        "    time.sleep(2)\n",
        "    ic(\"Resuming execution...\")\n",
        "\n",
        "\n",
        "if __name__ == \"__main__\":\n",
        "    ic(\"Starting debugging demonstration...\")\n",
        "\n",
        "    # Show variable values and a calculation\n",
        "    x, y = 10, 5\n",
        "    ic(x, y)\n",
        "    sum_result = calculate_sum(x, y)\n",
        "\n",
        "    # Demonstrate handling an error\n",
        "    zero_division_result = calculate_division(x, 0)\n",
        "\n",
        "    # Pause execution\n",
        "    pause_execution()\n",
        "\n",
        "    # Demonstrate successful division\n",
        "    valid_division_result = calculate_division(x, y)\n",
        "\n",
        "    ic(\"Debugging demonstration complete.\")\n",
        "\n",
        "    # Clean up: Close the debug log file\n",
        "    debug_log_file.close()"
      ],
      "metadata": {
        "id": "4XMZrcPmciq9"
      },
      "execution_count": 10,
      "outputs": []
    },
    {
      "cell_type": "code",
      "source": [
        "from icecream import ic\n",
        "import sys\n",
        "\n",
        "# Common Configuration Settings for ic()\n",
        "\n",
        "# 1. Enable Full Debugging Context\n",
        "# Adds file name, line number, and function name to all debug output.\n",
        "ic.configureOutput(includeContext=True)\n",
        "\n",
        "# 2. Change Output Prefix (Optional)\n",
        "# Useful when you want a custom prefix for all debugging output.\n",
        "ic.configureOutput(prefix='DEBUG -> ')\n",
        "\n",
        "# 3. Change Output Destination (e.g., Write to a File)\n",
        "# By default, IceCream outputs to stderr. You can redirect to a file.\n",
        "debug_log_file = open(\"debug.log\", \"w\")  # Logs will be saved here\n",
        "ic.configureOutput(outputFunction=debug_log_file.write)\n",
        "\n",
        "# 4. Disable ic() Globally (For Production)\n",
        "# Call `ic.disable()` in production to suppress all debugging output.\n",
        "# ic.disable()\n",
        "\n",
        "# 5. Re-enable ic() (For Development)\n",
        "# Call `ic.enable()` to re-enable debugging output if it was disabled.\n",
        "# ic.enable()\n",
        "\n",
        "# 6. Add a Timestamp to Debug Output\n",
        "# Logs the time each debug statement is executed.\n",
        "from datetime import datetime\n",
        "def custom_log_with_time(output):\n",
        "    timestamp = datetime.now().strftime(\"%Y-%m-%d %H:%M:%S\")\n",
        "    return f\"[{timestamp}] {output}\\n\"\n",
        "ic.configureOutput(outputFunction=lambda output: debug_log_file.write(custom_log_with_time(output)))\n",
        "\n",
        "# 7. Filter Specific Debug Messages\n",
        "# Only logs messages that meet certain criteria (e.g., containing \"ERROR\").\n",
        "def filter_errors(output):\n",
        "    if \"ERROR\" in output:\n",
        "        debug_log_file.write(output + '\\n')  # Only write errors to the log file.\n",
        "ic.configureOutput(outputFunction=filter_errors)\n",
        "\n",
        "# 8. Highlight Variables in Output\n",
        "# Add emphasis (e.g., with uppercase or formatting) to debug variables.\n",
        "def emphasize_variables(output):\n",
        "    return output.upper()  # Convert debug output to uppercase for emphasis.\n",
        "ic.configureOutput(outputFunction=lambda output: debug_log_file.write(emphasize_variables(output) + '\\n'))\n",
        "\n",
        "# 9. Combine IceCream with Real-Time Monitoring\n",
        "# Monitor the log file in real time using a command like `tail -f debug.log` on Unix-based systems.\n",
        "# Example: Use real-time logging for applications that run continuously.\n",
        "\n",
        "# 10. Use IceCream with Contextual Metadata\n",
        "# Add extra metadata to logs, such as environment info or application state.\n",
        "def contextual_logging(output):\n",
        "    metadata = \"[ENV: DEVELOPMENT]\"\n",
        "    return f\"{metadata} {output}\\n\"\n",
        "ic.configureOutput(outputFunction=lambda output: debug_log_file.write(contextual_logging(output)))"
      ],
      "metadata": {
        "id": "rCqvR82mckVv"
      },
      "execution_count": 11,
      "outputs": []
    }
  ]
}