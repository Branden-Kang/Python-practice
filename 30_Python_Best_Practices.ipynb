{
  "nbformat": 4,
  "nbformat_minor": 0,
  "metadata": {
    "colab": {
      "name": "30 Python Best Practices.ipynb",
      "provenance": [],
      "authorship_tag": "ABX9TyOXSJO7JV7wnCzwd4aHToGt"
    },
    "kernelspec": {
      "name": "python3",
      "display_name": "Python 3"
    }
  },
  "cells": [
    {
      "cell_type": "markdown",
      "metadata": {
        "id": "n8KJ4C469uxV"
      },
      "source": [
        "[Reference](https://towardsdatascience.com/30-python-best-practices-tips-and-tricks-caefb9f8c5f5)"
      ]
    },
    {
      "cell_type": "code",
      "metadata": {
        "id": "zwAG-VBs8pwj"
      },
      "source": [
        "if not sys.version_info > (2, 7):\n",
        "   # berate your user for running a 10 year\n",
        "   # python version\n",
        "elif not sys.version_info >= (3, 5):\n",
        "   # Kindly tell your user (s)he needs to upgrade\n",
        "   # because you're using 3.5 features"
      ],
      "execution_count": 2,
      "outputs": []
    },
    {
      "cell_type": "code",
      "metadata": {
        "colab": {
          "base_uri": "https://localhost:8080/"
        },
        "id": "gaa_YJQx91fV",
        "outputId": "ea329ec9-ccad-40e7-83ca-22a4e82df586"
      },
      "source": [
        "mylist = [i for i in range(10)]\n",
        "print(mylist)"
      ],
      "execution_count": 3,
      "outputs": [
        {
          "output_type": "stream",
          "text": [
            "[0, 1, 2, 3, 4, 5, 6, 7, 8, 9]\n"
          ],
          "name": "stdout"
        }
      ]
    },
    {
      "cell_type": "code",
      "metadata": {
        "colab": {
          "base_uri": "https://localhost:8080/"
        },
        "id": "goOt9jVs-C7h",
        "outputId": "39966480-3246-4924-cae0-fa49c98c4a82"
      },
      "source": [
        "squares = [x**2 for x in range(10)]\n",
        "print(squares)"
      ],
      "execution_count": 4,
      "outputs": [
        {
          "output_type": "stream",
          "text": [
            "[0, 1, 4, 9, 16, 25, 36, 49, 64, 81]\n"
          ],
          "name": "stdout"
        }
      ]
    },
    {
      "cell_type": "code",
      "metadata": {
        "colab": {
          "base_uri": "https://localhost:8080/"
        },
        "id": "Egqfedty-EeH",
        "outputId": "f693b7b9-c535-4d57-ea51-bdb001f2b72e"
      },
      "source": [
        "def some_function(a):\n",
        "    return (a + 5) / 2\n",
        "    \n",
        "my_formula = [some_function(i) for i in range(10)]\n",
        "print(my_formula)"
      ],
      "execution_count": 5,
      "outputs": [
        {
          "output_type": "stream",
          "text": [
            "[2.5, 3.0, 3.5, 4.0, 4.5, 5.0, 5.5, 6.0, 6.5, 7.0]\n"
          ],
          "name": "stdout"
        }
      ]
    },
    {
      "cell_type": "code",
      "metadata": {
        "colab": {
          "base_uri": "https://localhost:8080/"
        },
        "id": "UeYIoJ2Q-Fmf",
        "outputId": "56cd99c3-8c67-465a-90b0-1b45996b6950"
      },
      "source": [
        "filtered = [i for i in range(20) if i%2==0]\n",
        "print(filtered)"
      ],
      "execution_count": 6,
      "outputs": [
        {
          "output_type": "stream",
          "text": [
            "[0, 2, 4, 6, 8, 10, 12, 14, 16, 18]\n"
          ],
          "name": "stdout"
        }
      ]
    },
    {
      "cell_type": "code",
      "metadata": {
        "colab": {
          "base_uri": "https://localhost:8080/"
        },
        "id": "u8y5oXMW-HPM",
        "outputId": "62aea8ef-7df4-4b73-aba0-032a8f7ce480"
      },
      "source": [
        "import sys\n",
        "\n",
        "mylist = range(0, 10000)\n",
        "print(sys.getsizeof(mylist))"
      ],
      "execution_count": 7,
      "outputs": [
        {
          "output_type": "stream",
          "text": [
            "48\n"
          ],
          "name": "stdout"
        }
      ]
    },
    {
      "cell_type": "code",
      "metadata": {
        "colab": {
          "base_uri": "https://localhost:8080/"
        },
        "id": "FK7o5fm_-P-m",
        "outputId": "b5bd844c-9196-4c0a-d0ef-f826c568b9c7"
      },
      "source": [
        "import sys\n",
        "\n",
        "myreallist = [x for x in range(0, 10000)]\n",
        "print(sys.getsizeof(myreallist))"
      ],
      "execution_count": 8,
      "outputs": [
        {
          "output_type": "stream",
          "text": [
            "87624\n"
          ],
          "name": "stdout"
        }
      ]
    },
    {
      "cell_type": "code",
      "metadata": {
        "id": "1jqUhHpY-RN5"
      },
      "source": [
        "def get_user(id):\n",
        "    # fetch user from database\n",
        "    # ....\n",
        "    return name, birthdate\n",
        "\n",
        "name, birthdate = get_user(4)"
      ],
      "execution_count": 10,
      "outputs": []
    },
    {
      "cell_type": "code",
      "metadata": {
        "colab": {
          "base_uri": "https://localhost:8080/"
        },
        "id": "0QP3BWbT-TaA",
        "outputId": "331fa785-4874-4ee7-9037-ea04c2804350"
      },
      "source": [
        "from dataclasses import dataclass\n",
        "\n",
        "@dataclass\n",
        "class Card:\n",
        "    rank: str\n",
        "    suit: str\n",
        "    \n",
        "card = Card(\"Q\", \"hearts\")\n",
        "\n",
        "print(card == card)\n",
        "# True\n",
        "\n",
        "print(card.rank)\n",
        "# 'Q'\n",
        "\n",
        "print(card)"
      ],
      "execution_count": 12,
      "outputs": [
        {
          "output_type": "stream",
          "text": [
            "True\n",
            "Q\n",
            "Card(rank='Q', suit='hearts')\n"
          ],
          "name": "stdout"
        }
      ]
    },
    {
      "cell_type": "code",
      "metadata": {
        "colab": {
          "base_uri": "https://localhost:8080/"
        },
        "id": "aqbhhn76AR3a",
        "outputId": "5210244f-b3b1-4bde-f7f0-cca24ca6fcd3"
      },
      "source": [
        "a = 1\n",
        "b = 2\n",
        "a, b = b, a\n",
        "print(a)\n",
        "print(b)"
      ],
      "execution_count": 13,
      "outputs": [
        {
          "output_type": "stream",
          "text": [
            "2\n",
            "1\n"
          ],
          "name": "stdout"
        }
      ]
    },
    {
      "cell_type": "code",
      "metadata": {
        "colab": {
          "base_uri": "https://localhost:8080/"
        },
        "id": "umyxCmkxAWce",
        "outputId": "89783b30-e2b9-4d02-b21c-3b7d6ce1c04c"
      },
      "source": [
        "dict1 = { 'a': 1, 'b': 2 }\n",
        "dict2 = { 'b': 3, 'c': 4 }\n",
        "merged = { **dict1, **dict2 }\n",
        "\n",
        "print (merged)\n",
        "\n",
        "# Python >= 3.9 only\n",
        "merged = dict1 | dict2\n",
        "\n",
        "print (merged)"
      ],
      "execution_count": 15,
      "outputs": [
        {
          "output_type": "stream",
          "text": [
            "{'a': 1, 'b': 3, 'c': 4}\n"
          ],
          "name": "stdout"
        }
      ]
    },
    {
      "cell_type": "code",
      "metadata": {
        "colab": {
          "base_uri": "https://localhost:8080/"
        },
        "id": "Fm_gT7OHAfeR",
        "outputId": "f91586e5-0eab-4143-bc95-28602868adb0"
      },
      "source": [
        "mystring = \"10 awesome python tricks\"\n",
        "print(mystring.title())"
      ],
      "execution_count": 16,
      "outputs": [
        {
          "output_type": "stream",
          "text": [
            "10 Awesome Python Tricks\n"
          ],
          "name": "stdout"
        }
      ]
    },
    {
      "cell_type": "code",
      "metadata": {
        "colab": {
          "base_uri": "https://localhost:8080/"
        },
        "id": "bveyiSX8AjBG",
        "outputId": "843810ab-4fb9-4984-dfcc-781d0611aeaa"
      },
      "source": [
        "mystring = \"The quick brown fox\"\n",
        "mylist = mystring.split(' ')\n",
        "print(mylist)"
      ],
      "execution_count": 17,
      "outputs": [
        {
          "output_type": "stream",
          "text": [
            "['The', 'quick', 'brown', 'fox']\n"
          ],
          "name": "stdout"
        }
      ]
    },
    {
      "cell_type": "code",
      "metadata": {
        "colab": {
          "base_uri": "https://localhost:8080/"
        },
        "id": "g1EQsarQAmgP",
        "outputId": "37a448ef-fe54-49ac-d57e-20adfa373729"
      },
      "source": [
        "mylist = ['The', 'quick', 'brown', 'fox']\n",
        "mystring = \" \".join(mylist)\n",
        "print(mystring)"
      ],
      "execution_count": 18,
      "outputs": [
        {
          "output_type": "stream",
          "text": [
            "The quick brown fox\n"
          ],
          "name": "stdout"
        }
      ]
    },
    {
      "cell_type": "code",
      "metadata": {
        "colab": {
          "base_uri": "https://localhost:8080/"
        },
        "id": "nH0YV9R2Anxd",
        "outputId": "3f3a458d-941d-4bde-c46f-a74ae5cd204a"
      },
      "source": [
        "!pip3 install emoji"
      ],
      "execution_count": 20,
      "outputs": [
        {
          "output_type": "stream",
          "text": [
            "Collecting emoji\n",
            "\u001b[?25l  Downloading https://files.pythonhosted.org/packages/24/fa/b3368f41b95a286f8d300e323449ab4e86b85334c2e0b477e94422b8ed0f/emoji-1.2.0-py3-none-any.whl (131kB)\n",
            "\r\u001b[K     |██▌                             | 10kB 15.2MB/s eta 0:00:01\r\u001b[K     |█████                           | 20kB 21.6MB/s eta 0:00:01\r\u001b[K     |███████▌                        | 30kB 17.5MB/s eta 0:00:01\r\u001b[K     |██████████                      | 40kB 13.3MB/s eta 0:00:01\r\u001b[K     |████████████▌                   | 51kB 14.6MB/s eta 0:00:01\r\u001b[K     |███████████████                 | 61kB 14.8MB/s eta 0:00:01\r\u001b[K     |█████████████████▌              | 71kB 11.4MB/s eta 0:00:01\r\u001b[K     |████████████████████            | 81kB 12.2MB/s eta 0:00:01\r\u001b[K     |██████████████████████▌         | 92kB 11.5MB/s eta 0:00:01\r\u001b[K     |█████████████████████████       | 102kB 11.4MB/s eta 0:00:01\r\u001b[K     |███████████████████████████▌    | 112kB 11.4MB/s eta 0:00:01\r\u001b[K     |██████████████████████████████  | 122kB 11.4MB/s eta 0:00:01\r\u001b[K     |████████████████████████████████| 133kB 11.4MB/s \n",
            "\u001b[?25hInstalling collected packages: emoji\n",
            "Successfully installed emoji-1.2.0\n"
          ],
          "name": "stdout"
        }
      ]
    },
    {
      "cell_type": "code",
      "metadata": {
        "colab": {
          "base_uri": "https://localhost:8080/"
        },
        "id": "vweDrRtmApIq",
        "outputId": "a2c4161a-5a4d-416e-c61d-a81ec656e54e"
      },
      "source": [
        "import emoji\n",
        "result = emoji.emojize('Python is :thumbs_up:')\n",
        "print(result)\n",
        "# 'Python is 👍'\n",
        "\n",
        "# You can also reverse this:\n",
        "result = emoji.demojize('Python is 👍')\n",
        "print(result)"
      ],
      "execution_count": 21,
      "outputs": [
        {
          "output_type": "stream",
          "text": [
            "Python is 👍\n",
            "Python is :thumbs_up:\n"
          ],
          "name": "stdout"
        }
      ]
    },
    {
      "cell_type": "code",
      "metadata": {
        "colab": {
          "base_uri": "https://localhost:8080/"
        },
        "id": "pl0xFxYZAqv5",
        "outputId": "4758d9a3-802b-46c7-9d44-a80387041225"
      },
      "source": [
        "# the first two elements of a list:\n",
        "first_two = [1, 2, 3, 4, 5][0:2]\n",
        "print(first_two)\n",
        "# [1, 2]\n",
        "\n",
        "# And if we use a step value of 2, \n",
        "# we can skip over every second number\n",
        "# like this:\n",
        "steps = [1, 2, 3, 4, 5][0:5:2]\n",
        "print(steps)\n",
        "# [1, 3, 5]\n",
        "\n",
        "# This works on strings too. In Python,\n",
        "# you can treat a string like a list of\n",
        "# letters:\n",
        "mystring = \"abcdefdn nimt\"[::2]\n",
        "print(mystring)\n",
        "# 'aced it'"
      ],
      "execution_count": 23,
      "outputs": [
        {
          "output_type": "stream",
          "text": [
            "[1, 2]\n",
            "[1, 3, 5]\n",
            "aced it\n"
          ],
          "name": "stdout"
        }
      ]
    },
    {
      "cell_type": "code",
      "metadata": {
        "colab": {
          "base_uri": "https://localhost:8080/"
        },
        "id": "Li8N6WEzAucg",
        "outputId": "d9871ab2-7939-4b29-c4a1-87ed599302b8"
      },
      "source": [
        "revstring = \"abcdefg\"[::-1]\n",
        "print(revstring)\n",
        "# 'gfedcba'\n",
        "\n",
        "revarray = [1, 2, 3, 4, 5][::-1]\n",
        "print(revarray)"
      ],
      "execution_count": 24,
      "outputs": [
        {
          "output_type": "stream",
          "text": [
            "gfedcba\n",
            "[5, 4, 3, 2, 1]\n"
          ],
          "name": "stdout"
        }
      ]
    },
    {
      "cell_type": "code",
      "metadata": {
        "colab": {
          "base_uri": "https://localhost:8080/"
        },
        "id": "JUxZUyxsA0bg",
        "outputId": "b34b1f56-3a8b-4f07-b0d1-6866da202536"
      },
      "source": [
        "!pip3 install Pillow"
      ],
      "execution_count": 25,
      "outputs": [
        {
          "output_type": "stream",
          "text": [
            "Requirement already satisfied: Pillow in /usr/local/lib/python3.6/dist-packages (7.0.0)\n"
          ],
          "name": "stdout"
        }
      ]
    },
    {
      "cell_type": "code",
      "metadata": {
        "id": "PVXhcKjHA108"
      },
      "source": [
        "from PIL import Image\n",
        "\n",
        "im = Image.open(\"kittens.jpg\")\n",
        "im.show()\n",
        "print(im.format, im.size, im.mode)"
      ],
      "execution_count": 26,
      "outputs": []
    },
    {
      "cell_type": "code",
      "metadata": {
        "colab": {
          "base_uri": "https://localhost:8080/"
        },
        "id": "EPBeKvm7A3uc",
        "outputId": "9cfd0d51-5d54-4b0c-f163-bb84dcde11e4"
      },
      "source": [
        "def upper(s):\n",
        "    return s.upper()\n",
        "    \n",
        "mylist = list(map(upper, ['sentence', 'fragment']))\n",
        "print(mylist)\n",
        "# ['SENTENCE', 'FRAGMENT']\n",
        "\n",
        "# Convert a string representation of\n",
        "# a number into a list of ints.\n",
        "list_of_ints = list(map(int, \"1234567\"))\n",
        "print(list_of_ints)"
      ],
      "execution_count": 27,
      "outputs": [
        {
          "output_type": "stream",
          "text": [
            "['SENTENCE', 'FRAGMENT']\n",
            "[1, 2, 3, 4, 5, 6, 7]\n"
          ],
          "name": "stdout"
        }
      ]
    },
    {
      "cell_type": "code",
      "metadata": {
        "colab": {
          "base_uri": "https://localhost:8080/"
        },
        "id": "i-5TOC8xA8Xl",
        "outputId": "d39f9699-66ab-4da3-8103-df0058439cd2"
      },
      "source": [
        "mylist = [1, 1, 2, 3, 4, 5, 5, 5, 6, 6]\n",
        "print (set(mylist))\n",
        "# {1, 2, 3, 4, 5, 6}\n",
        "\n",
        "# And since a string can be treated like a \n",
        "# list of letters, you can also get the \n",
        "# unique letters from a string this way:\n",
        "print (set(\"aaabbbcccdddeeefff\"))"
      ],
      "execution_count": 28,
      "outputs": [
        {
          "output_type": "stream",
          "text": [
            "{1, 2, 3, 4, 5, 6}\n",
            "{'b', 'd', 'f', 'c', 'e', 'a'}\n"
          ],
          "name": "stdout"
        }
      ]
    },
    {
      "cell_type": "code",
      "metadata": {
        "colab": {
          "base_uri": "https://localhost:8080/"
        },
        "id": "S3BLzB5fA-iY",
        "outputId": "b43d9529-07df-445a-8081-dd6895868ab3"
      },
      "source": [
        "test = [1, 2, 3, 4, 2, 2, 3, 1, 4, 4, 4]\n",
        "print(max(set(test), key = test.count))"
      ],
      "execution_count": 29,
      "outputs": [
        {
          "output_type": "stream",
          "text": [
            "4\n"
          ],
          "name": "stdout"
        }
      ]
    },
    {
      "cell_type": "code",
      "metadata": {
        "colab": {
          "base_uri": "https://localhost:8080/"
        },
        "id": "8wSsOtEuBJdz",
        "outputId": "d20bdfa2-6554-4639-c0e5-f9959e013c8f"
      },
      "source": [
        "!pip3 install progress"
      ],
      "execution_count": 31,
      "outputs": [
        {
          "output_type": "stream",
          "text": [
            "Collecting progress\n",
            "  Downloading https://files.pythonhosted.org/packages/38/ef/2e887b3d2b248916fc2121889ce68af8a16aaddbe82f9ae6533c24ff0d2b/progress-1.5.tar.gz\n",
            "Building wheels for collected packages: progress\n",
            "  Building wheel for progress (setup.py) ... \u001b[?25l\u001b[?25hdone\n",
            "  Created wheel for progress: filename=progress-1.5-cp36-none-any.whl size=8075 sha256=66407a170cf1aa79f616e5347a59e3ba3bbc2e8443f712307de8829189c01559\n",
            "  Stored in directory: /root/.cache/pip/wheels/6c/c8/80/32a294e3041f006c661838c05a411c7b7ffc60ff939d14e116\n",
            "Successfully built progress\n",
            "Installing collected packages: progress\n",
            "Successfully installed progress-1.5\n"
          ],
          "name": "stdout"
        }
      ]
    },
    {
      "cell_type": "code",
      "metadata": {
        "id": "Q-nbP-cIBESh"
      },
      "source": [
        "from progress.bar import Bar\n",
        "\n",
        "bar = Bar('Processing', max=20)\n",
        "for i in range(20):\n",
        "    # Do some work\n",
        "    bar.next()\n",
        "bar.finish()"
      ],
      "execution_count": 32,
      "outputs": []
    },
    {
      "cell_type": "code",
      "metadata": {
        "colab": {
          "base_uri": "https://localhost:8080/"
        },
        "id": "1anXeFMtBIT8",
        "outputId": "1ae4a648-966f-445f-97fe-7833787bd962"
      },
      "source": [
        "3 * 3"
      ],
      "execution_count": 33,
      "outputs": [
        {
          "output_type": "execute_result",
          "data": {
            "text/plain": [
              "9"
            ]
          },
          "metadata": {
            "tags": []
          },
          "execution_count": 33
        }
      ]
    },
    {
      "cell_type": "code",
      "metadata": {
        "colab": {
          "base_uri": "https://localhost:8080/"
        },
        "id": "7A9pjw3mBMyV",
        "outputId": "f026cc21-e167-4ea7-c7e4-e82c1b796444"
      },
      "source": [
        "_ + 3"
      ],
      "execution_count": 34,
      "outputs": [
        {
          "output_type": "execute_result",
          "data": {
            "text/plain": [
              "12"
            ]
          },
          "metadata": {
            "tags": []
          },
          "execution_count": 34
        }
      ]
    },
    {
      "cell_type": "code",
      "metadata": {
        "colab": {
          "base_uri": "https://localhost:8080/"
        },
        "id": "ADuxJ7lYBNwe",
        "outputId": "dbf07d30-4e7b-4e85-df1c-d750a57ccf45"
      },
      "source": [
        "!python3 -m http.server"
      ],
      "execution_count": 36,
      "outputs": [
        {
          "output_type": "stream",
          "text": [
            "Serving HTTP on 0.0.0.0 port 8000 (http://0.0.0.0:8000/) ...\n",
            "\n",
            "Keyboard interrupt received, exiting.\n",
            "^C\n"
          ],
          "name": "stdout"
        }
      ]
    },
    {
      "cell_type": "code",
      "metadata": {
        "colab": {
          "base_uri": "https://localhost:8080/"
        },
        "id": "R8O3uW-5BP4A",
        "outputId": "17ec2c9e-2515-4402-a956-a7209a8e071e"
      },
      "source": [
        "s1 = \"\"\"Multi line strings can be put\n",
        "        between triple quotes. It's not ideal\n",
        "        when formatting your code though\"\"\"\n",
        "\n",
        "print(s1)\n",
        "        \n",
        "s2 = (\"You can also concatenate multiple\\n\" +\n",
        "        \"strings this way, but you'll have to\\n\"\n",
        "        \"explicitly put in the newlines\")\n",
        "\n",
        "print(s2)"
      ],
      "execution_count": 37,
      "outputs": [
        {
          "output_type": "stream",
          "text": [
            "Multi line strings can be put\n",
            "        between triple quotes. It's not ideal\n",
            "        when formatting your code though\n",
            "You can also concatenate multiple\n",
            "strings this way, but you'll have to\n",
            "explicitly put in the newlines\n"
          ],
          "name": "stdout"
        }
      ]
    },
    {
      "cell_type": "code",
      "metadata": {
        "colab": {
          "base_uri": "https://localhost:8080/",
          "height": 37
        },
        "id": "GTR4emBqBYcS",
        "outputId": "04f30337-f887-42e8-ebf0-fcd7be269666"
      },
      "source": [
        "y = 2\n",
        "x = \"Success!\" if (y == 2) else \"Failed!\"\n",
        "x"
      ],
      "execution_count": 39,
      "outputs": [
        {
          "output_type": "execute_result",
          "data": {
            "application/vnd.google.colaboratory.intrinsic+json": {
              "type": "string"
            },
            "text/plain": [
              "'Success!'"
            ]
          },
          "metadata": {
            "tags": []
          },
          "execution_count": 39
        }
      ]
    },
    {
      "cell_type": "code",
      "metadata": {
        "colab": {
          "base_uri": "https://localhost:8080/"
        },
        "id": "Cra_p4NTBdf-",
        "outputId": "0179aa62-32b1-4942-81db-3016bcbd5f95"
      },
      "source": [
        "from collections import Counter\n",
        "\n",
        "mylist = [1, 1, 2, 3, 4, 5, 5, 5, 6, 6]\n",
        "c = Counter(mylist)\n",
        "print(c)\n",
        "# Counter({1: 2, 2: 1, 3: 1, 4: 1, 5: 3, 6: 2})\n",
        "\n",
        "# And it works on strings too:\n",
        "print(Counter(\"aaaaabbbbbccccc\"))"
      ],
      "execution_count": 40,
      "outputs": [
        {
          "output_type": "stream",
          "text": [
            "Counter({5: 3, 1: 2, 6: 2, 2: 1, 3: 1, 4: 1})\n",
            "Counter({'a': 5, 'b': 5, 'c': 5})\n"
          ],
          "name": "stdout"
        }
      ]
    },
    {
      "cell_type": "code",
      "metadata": {
        "colab": {
          "base_uri": "https://localhost:8080/"
        },
        "id": "31n2jZeJBhYJ",
        "outputId": "7998d011-c5b5-4243-fc63-1e93223a30da"
      },
      "source": [
        "x = 10\n",
        "\n",
        "# Instead of:\n",
        "if x > 5 and x < 15:\n",
        "    print(\"Yes\")\n",
        "# yes\n",
        "\n",
        "# You can also write:\n",
        "if 5 < x < 15:\n",
        "    print(\"Yes\")"
      ],
      "execution_count": 41,
      "outputs": [
        {
          "output_type": "stream",
          "text": [
            "Yes\n",
            "Yes\n"
          ],
          "name": "stdout"
        }
      ]
    },
    {
      "cell_type": "code",
      "metadata": {
        "colab": {
          "base_uri": "https://localhost:8080/"
        },
        "id": "i1bjc_3QBnA-",
        "outputId": "1bc1d8e6-70fc-418b-f957-73857774b2c1"
      },
      "source": [
        "!pip install colorama"
      ],
      "execution_count": 43,
      "outputs": [
        {
          "output_type": "stream",
          "text": [
            "Collecting colorama\n",
            "  Downloading https://files.pythonhosted.org/packages/44/98/5b86278fbbf250d239ae0ecb724f8572af1c91f4a11edf4d36a206189440/colorama-0.4.4-py2.py3-none-any.whl\n",
            "Installing collected packages: colorama\n",
            "Successfully installed colorama-0.4.4\n"
          ],
          "name": "stdout"
        }
      ]
    },
    {
      "cell_type": "code",
      "metadata": {
        "colab": {
          "base_uri": "https://localhost:8080/"
        },
        "id": "D4ct7u7sBjcX",
        "outputId": "f07f377c-84c3-4e06-d359-5675ce5a9002"
      },
      "source": [
        "from colorama import Fore, Back, Style\n",
        "\n",
        "print(Fore.RED + 'some red text')\n",
        "print(Back.GREEN + 'and with a green background')\n",
        "print(Style.DIM + 'and in dim text')\n",
        "print(Style.RESET_ALL)\n",
        "print('back to normal now')"
      ],
      "execution_count": 44,
      "outputs": [
        {
          "output_type": "stream",
          "text": [
            "\u001b[31msome red text\n",
            "\u001b[42mand with a green background\n",
            "\u001b[2mand in dim text\n",
            "\u001b[0m\n",
            "back to normal now\n"
          ],
          "name": "stdout"
        }
      ]
    },
    {
      "cell_type": "code",
      "metadata": {
        "colab": {
          "base_uri": "https://localhost:8080/"
        },
        "id": "B-Axg65nBsdr",
        "outputId": "90100c0d-5c7b-4590-f2bb-364d9caef9c4"
      },
      "source": [
        "!pip3 install python-dateutil "
      ],
      "execution_count": 45,
      "outputs": [
        {
          "output_type": "stream",
          "text": [
            "Requirement already satisfied: python-dateutil in /usr/local/lib/python3.6/dist-packages (2.8.1)\n",
            "Requirement already satisfied: six>=1.5 in /usr/local/lib/python3.6/dist-packages (from python-dateutil) (1.15.0)\n"
          ],
          "name": "stdout"
        }
      ]
    },
    {
      "cell_type": "code",
      "metadata": {
        "colab": {
          "base_uri": "https://localhost:8080/"
        },
        "id": "mykv_n6LBlrG",
        "outputId": "4e4e72c0-584f-4d22-9dfd-a16394677cbc"
      },
      "source": [
        "from dateutil.parser import parse\n",
        "\n",
        "logline = 'INFO 2020-01-01T00:00:01 Happy new year, human.'\n",
        "timestamp = parse(logline, fuzzy=True)\n",
        "print(timestamp)"
      ],
      "execution_count": 46,
      "outputs": [
        {
          "output_type": "stream",
          "text": [
            "2020-01-01 00:00:01\n"
          ],
          "name": "stdout"
        }
      ]
    },
    {
      "cell_type": "code",
      "metadata": {
        "colab": {
          "base_uri": "https://localhost:8080/"
        },
        "id": "9o-n9P1jBumM",
        "outputId": "ec5d0025-8cb5-4f97-8e4e-165ec8b8385f"
      },
      "source": [
        "# Python 2\n",
        "print(5/2)\n",
        "print(5/2.0)"
      ],
      "execution_count": 52,
      "outputs": [
        {
          "output_type": "stream",
          "text": [
            "2.5\n",
            "2.5\n"
          ],
          "name": "stdout"
        }
      ]
    },
    {
      "cell_type": "code",
      "metadata": {
        "colab": {
          "base_uri": "https://localhost:8080/"
        },
        "id": "ORkjSsWGBzBr",
        "outputId": "30a6f2f6-ef00-4fca-a4e1-92260f458db7"
      },
      "source": [
        "print(5 / 2)\n",
        "print(5 // 2)"
      ],
      "execution_count": 50,
      "outputs": [
        {
          "output_type": "stream",
          "text": [
            "2.5\n",
            "2\n"
          ],
          "name": "stdout"
        }
      ]
    },
    {
      "cell_type": "code",
      "metadata": {
        "colab": {
          "base_uri": "https://localhost:8080/"
        },
        "id": "pOwRBZtzB1Jd",
        "outputId": "d0744a73-a1ed-4331-bc57-6fa4e18727fc"
      },
      "source": [
        "pip install chardet"
      ],
      "execution_count": 51,
      "outputs": [
        {
          "output_type": "stream",
          "text": [
            "Requirement already satisfied: chardet in /usr/local/lib/python3.6/dist-packages (3.0.4)\n"
          ],
          "name": "stdout"
        }
      ]
    }
  ]
}