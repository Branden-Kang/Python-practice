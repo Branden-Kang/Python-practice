{
  "nbformat": 4,
  "nbformat_minor": 0,
  "metadata": {
    "colab": {
      "provenance": [],
      "authorship_tag": "ABX9TyO0OX49xcB0g3sS8LUZbzVW"
    },
    "kernelspec": {
      "name": "python3",
      "display_name": "Python 3"
    },
    "language_info": {
      "name": "python"
    }
  },
  "cells": [
    {
      "cell_type": "markdown",
      "source": [
        "[Reference](https://towardsdev.com/mastering-pivot-tables-in-python-with-pandas-903cecaf9dac)"
      ],
      "metadata": {
        "id": "0sGcwOHuxbOl"
      }
    },
    {
      "cell_type": "code",
      "execution_count": 1,
      "metadata": {
        "colab": {
          "base_uri": "https://localhost:8080/"
        },
        "id": "2TJjmRTdxZ4J",
        "outputId": "399aa166-50b2-45bf-d776-a7994ae6e956"
      },
      "outputs": [
        {
          "output_type": "stream",
          "name": "stdout",
          "text": [
            "  Category Subcategory  Value\n",
            "0        A           X      1\n",
            "1        B           X      2\n",
            "2        A           Y      3\n",
            "3        B           Y      4\n",
            "4        A           X      5\n",
            "5        B           Y      6\n",
            "6        A           X      7\n",
            "7        B           Y      8\n"
          ]
        }
      ],
      "source": [
        "import pandas as pd\n",
        "\n",
        "data = {'Category': ['A', 'B', 'A', 'B', 'A', 'B', 'A', 'B'],\n",
        "        'Subcategory': ['X', 'X', 'Y', 'Y', 'X', 'Y', 'X', 'Y'],\n",
        "        'Value': [1, 2, 3, 4, 5, 6, 7, 8]}\n",
        "\n",
        "df = pd.DataFrame(data)\n",
        "print(df)"
      ]
    },
    {
      "cell_type": "code",
      "source": [
        "pivot_df = df.pivot_table(index='Category', columns='Subcategory', values='Value', aggfunc='sum', fill_value=0)\n",
        "print(pivot_df)"
      ],
      "metadata": {
        "colab": {
          "base_uri": "https://localhost:8080/"
        },
        "id": "qhuaG6ZmxeDG",
        "outputId": "be02658a-d40b-46dc-f5e8-a0353c3455c2"
      },
      "execution_count": 2,
      "outputs": [
        {
          "output_type": "stream",
          "name": "stdout",
          "text": [
            "Subcategory   X   Y\n",
            "Category           \n",
            "A            13   3\n",
            "B             2  18\n"
          ]
        }
      ]
    },
    {
      "cell_type": "code",
      "source": [
        "import numpy as np\n",
        "pivot_df = df.pivot_table(index='Category', columns='Subcategory', values='Value', aggfunc=np.median, fill_value=0)\n",
        "print(pivot_df)"
      ],
      "metadata": {
        "colab": {
          "base_uri": "https://localhost:8080/"
        },
        "id": "tMlq-AJ3xfOq",
        "outputId": "c3aecb26-364d-4901-e4bb-313b98e00d5b"
      },
      "execution_count": 3,
      "outputs": [
        {
          "output_type": "stream",
          "name": "stdout",
          "text": [
            "Subcategory  X  Y\n",
            "Category         \n",
            "A            5  3\n",
            "B            2  6\n"
          ]
        }
      ]
    },
    {
      "cell_type": "code",
      "source": [
        "pivot_df = df.pivot_table(index='Category', columns='Subcategory', values='Value', aggfunc='sum', fill_value=0, margins=True, margins_name='Total')\n",
        "print(pivot_df)"
      ],
      "metadata": {
        "colab": {
          "base_uri": "https://localhost:8080/"
        },
        "id": "-1fqu5Apxf-O",
        "outputId": "413a7813-d779-4f6e-a782-7eaa2f5fd297"
      },
      "execution_count": 4,
      "outputs": [
        {
          "output_type": "stream",
          "name": "stdout",
          "text": [
            "Subcategory   X   Y  Total\n",
            "Category                  \n",
            "A            13   3     16\n",
            "B             2  18     20\n",
            "Total        15  21     36\n"
          ]
        }
      ]
    },
    {
      "cell_type": "code",
      "source": [
        "data = {'Year': [2019, 2019, 2020, 2020, 2021, 2021],\n",
        "        'Category': ['A', 'B', 'A', 'B', 'A', 'B'],\n",
        "        'Value': [10, 20, 30, 40, 50, 60]}\n",
        "\n",
        "df = pd.DataFrame(data)\n",
        "\n",
        "pivot_df = df.pivot_table(index=['Year', 'Category'], values='Value', aggfunc='sum')\n",
        "print(pivot_df)"
      ],
      "metadata": {
        "id": "J_FEQmGtxhrG",
        "outputId": "6dd86ee5-39b0-47b9-a2a9-fe73daaa8975",
        "colab": {
          "base_uri": "https://localhost:8080/"
        }
      },
      "execution_count": 5,
      "outputs": [
        {
          "output_type": "stream",
          "name": "stdout",
          "text": [
            "               Value\n",
            "Year Category       \n",
            "2019 A            10\n",
            "     B            20\n",
            "2020 A            30\n",
            "     B            40\n",
            "2021 A            50\n",
            "     B            60\n"
          ]
        }
      ]
    }
  ]
}