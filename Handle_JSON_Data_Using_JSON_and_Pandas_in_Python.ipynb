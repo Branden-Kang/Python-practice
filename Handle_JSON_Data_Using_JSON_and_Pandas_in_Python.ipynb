{
  "nbformat": 4,
  "nbformat_minor": 0,
  "metadata": {
    "colab": {
      "name": "Handle JSON Data Using JSON and Pandas in Python.ipynb",
      "provenance": [],
      "authorship_tag": "ABX9TyNPesZSOuOoMdE6iRUziukb"
    },
    "kernelspec": {
      "name": "python3",
      "display_name": "Python 3"
    }
  },
  "cells": [
    {
      "cell_type": "markdown",
      "metadata": {
        "id": "qDfWHmBshIY-",
        "colab_type": "text"
      },
      "source": [
        "[Reference](https://medium.com/swlh/handle-json-data-using-json-and-pandas-in-python-9ff6bbd0d356)"
      ]
    },
    {
      "cell_type": "code",
      "metadata": {
        "id": "bSVRenWXg06c",
        "colab_type": "code",
        "colab": {}
      },
      "source": [
        "import json\n",
        "import pandas as pd\n",
        "\n",
        "# use the built-in json module\n",
        "students = { \n",
        "    \"student0\":{ \n",
        "        \"firstName\":\"John\",\n",
        "        \"lastName\":\"Smith\",\n",
        "        \"age\":35,\n",
        "        \"city\":\"New York\"\n",
        "    },\n",
        "    \"student1\":{ \n",
        "        \"firstName\":\"Mary\",\n",
        "        \"lastName\":\"Brown\",\n",
        "        \"age\":27,\n",
        "        \"city\":\"Los Angeles\"\n",
        "    },\n",
        "    \"student2\":{ \n",
        "        \"firstName\":\"Lily\",\n",
        "        \"lastName\":\"Green\",\n",
        "        \"age\":45,\n",
        "        \"city\":\"Austin\"\n",
        "    }\n",
        "}\n",
        "with open('students.json', 'w+') as file:\n",
        "    json.dump(students, file)"
      ],
      "execution_count": 1,
      "outputs": []
    },
    {
      "cell_type": "code",
      "metadata": {
        "id": "2Eh3U_5vhBgg",
        "colab_type": "code",
        "colab": {}
      },
      "source": [
        "# use the built-in json module\n",
        "with open('students.json') as json_file:\n",
        "    students0 = json.load(json_file)"
      ],
      "execution_count": 2,
      "outputs": []
    },
    {
      "cell_type": "code",
      "metadata": {
        "id": "FznA0ndphEWP",
        "colab_type": "code",
        "colab": {}
      },
      "source": [
        "# use the pandas module\n",
        "with open('students.json') as json_file:\n",
        "    students1 = pd.read_json(json_file, orient='index')"
      ],
      "execution_count": 3,
      "outputs": []
    },
    {
      "cell_type": "code",
      "metadata": {
        "id": "kXsK5oW8hFYm",
        "colab_type": "code",
        "colab": {
          "base_uri": "https://localhost:8080/",
          "height": 54
        },
        "outputId": "9b14d960-19a5-4bf3-96a9-cf3e21800ff4"
      },
      "source": [
        "print(students0)"
      ],
      "execution_count": 4,
      "outputs": [
        {
          "output_type": "stream",
          "text": [
            "{'student0': {'firstName': 'John', 'lastName': 'Smith', 'age': 35, 'city': 'New York'}, 'student1': {'firstName': 'Mary', 'lastName': 'Brown', 'age': 27, 'city': 'Los Angeles'}, 'student2': {'firstName': 'Lily', 'lastName': 'Green', 'age': 45, 'city': 'Austin'}}\n"
          ],
          "name": "stdout"
        }
      ]
    },
    {
      "cell_type": "code",
      "metadata": {
        "id": "2iMAbvSihGjN",
        "colab_type": "code",
        "colab": {
          "base_uri": "https://localhost:8080/",
          "height": 85
        },
        "outputId": "58082b37-f727-4933-ac9c-4d4d0701eea6"
      },
      "source": [
        "print(students1)"
      ],
      "execution_count": 5,
      "outputs": [
        {
          "output_type": "stream",
          "text": [
            "         firstName lastName  age         city\n",
            "student0      John    Smith   35     New York\n",
            "student1      Mary    Brown   27  Los Angeles\n",
            "student2      Lily    Green   45       Austin\n"
          ],
          "name": "stdout"
        }
      ]
    },
    {
      "cell_type": "code",
      "metadata": {
        "id": "pXCbZt8IhG5x",
        "colab_type": "code",
        "colab": {}
      },
      "source": [
        "# use the built-in json module\n",
        "teacher = {'name': 'Mike', 'age': 50}\n",
        "with open('teacher.json', 'w+') as file:\n",
        "    json.dump(teacher, file)"
      ],
      "execution_count": 6,
      "outputs": []
    },
    {
      "cell_type": "code",
      "metadata": {
        "id": "caFzEMuthO6u",
        "colab_type": "code",
        "colab": {}
      },
      "source": [
        "# use the pandas module\n",
        "activities = [['Mon', 'Basketball'], ['Wed', 'Soccer'], ['Sun', 'Karate']]\n",
        "df = pd.DataFrame(activities, columns=['Day', 'Activity'])\n",
        "with open('activities.json', 'w+') as file:\n",
        "    df.to_json(file, orient='index')"
      ],
      "execution_count": 7,
      "outputs": []
    }
  ]
}