{
  "nbformat": 4,
  "nbformat_minor": 0,
  "metadata": {
    "colab": {
      "provenance": [],
      "authorship_tag": "ABX9TyOKH1jXsbqlCSVa+IYebC0f"
    },
    "kernelspec": {
      "name": "python3",
      "display_name": "Python 3"
    },
    "language_info": {
      "name": "python"
    }
  },
  "cells": [
    {
      "cell_type": "markdown",
      "source": [
        "[Reference](https://blog.det.life/dont-write-another-line-of-code-until-you-see-these-pydantic-v2-breakthrough-features-5cdc65e6b448)"
      ],
      "metadata": {
        "id": "i8RZ_j_BhcVI"
      }
    },
    {
      "cell_type": "markdown",
      "source": [
        "# 1. Validating Functions"
      ],
      "metadata": {
        "id": "n9IrzNSahgP8"
      }
    },
    {
      "cell_type": "code",
      "execution_count": 1,
      "metadata": {
        "colab": {
          "base_uri": "https://localhost:8080/",
          "height": 735
        },
        "id": "jKR1I2hpg8lg",
        "outputId": "b1a021eb-9f1d-4c75-91cc-d33564cd2df2"
      },
      "outputs": [
        {
          "output_type": "stream",
          "name": "stdout",
          "text": [
            "HELLO YAAKOV!!!\n",
            "HELLO YAAKOV!!!\n",
            "HELLO YAAKOV!!!\n",
            "HELLO YAAKOV!!!\n",
            "HELLO YAAKOV!!!\n",
            "HELLO YAAKOV!!!\n",
            "HELLO YAAKOV!!!\n",
            "HELLO YAAKOV!!!\n",
            "HELLO YAAKOV!!!\n",
            "HELLO YAAKOV!!!\n",
            "HELLO YAAKOV!!!\n"
          ]
        },
        {
          "output_type": "error",
          "ename": "ValidationError",
          "evalue": "ignored",
          "traceback": [
            "\u001b[0;31m---------------------------------------------------------------------------\u001b[0m",
            "\u001b[0;31mValidationError\u001b[0m                           Traceback (most recent call last)",
            "\u001b[0;32m<ipython-input-1-38b1fb2529eb>\u001b[0m in \u001b[0;36m<cell line: 29>\u001b[0;34m()\u001b[0m\n\u001b[1;32m     27\u001b[0m \u001b[0;34m\u001b[0m\u001b[0m\n\u001b[1;32m     28\u001b[0m \u001b[0;31m# The following will raise an error:\u001b[0m\u001b[0;34m\u001b[0m\u001b[0;34m\u001b[0m\u001b[0m\n\u001b[0;32m---> 29\u001b[0;31m \u001b[0mecho_hello\u001b[0m\u001b[0;34m(\u001b[0m\u001b[0mn_times\u001b[0m\u001b[0;34m=\u001b[0m\u001b[0;36m20\u001b[0m\u001b[0;34m,\u001b[0m \u001b[0mname\u001b[0m\u001b[0;34m=\u001b[0m\u001b[0;34m\"Yaakov\"\u001b[0m\u001b[0;34m,\u001b[0m \u001b[0mloud\u001b[0m\u001b[0;34m=\u001b[0m\u001b[0;32mTrue\u001b[0m\u001b[0;34m)\u001b[0m  \u001b[0;31m# Invalid!\u001b[0m\u001b[0;34m\u001b[0m\u001b[0;34m\u001b[0m\u001b[0m\n\u001b[0m\u001b[1;32m     30\u001b[0m \u001b[0mecho_hello\u001b[0m\u001b[0;34m(\u001b[0m\u001b[0mn_times\u001b[0m\u001b[0;34m=\u001b[0m\u001b[0;36m1\u001b[0m\u001b[0;34m,\u001b[0m \u001b[0mname\u001b[0m\u001b[0;34m=\u001b[0m\u001b[0;36m1234\u001b[0m\u001b[0;34m,\u001b[0m \u001b[0mloud\u001b[0m\u001b[0;34m=\u001b[0m\u001b[0;32mTrue\u001b[0m\u001b[0;34m)\u001b[0m       \u001b[0;31m# Invalid!\u001b[0m\u001b[0;34m\u001b[0m\u001b[0;34m\u001b[0m\u001b[0m\n",
            "\u001b[0;32m/usr/local/lib/python3.10/dist-packages/pydantic/_internal/_validate_call.py\u001b[0m in \u001b[0;36m__call__\u001b[0;34m(self, *args, **kwargs)\u001b[0m\n\u001b[1;32m     89\u001b[0m \u001b[0;34m\u001b[0m\u001b[0m\n\u001b[1;32m     90\u001b[0m     \u001b[0;32mdef\u001b[0m \u001b[0m__call__\u001b[0m\u001b[0;34m(\u001b[0m\u001b[0mself\u001b[0m\u001b[0;34m,\u001b[0m \u001b[0;34m*\u001b[0m\u001b[0margs\u001b[0m\u001b[0;34m:\u001b[0m \u001b[0mAny\u001b[0m\u001b[0;34m,\u001b[0m \u001b[0;34m**\u001b[0m\u001b[0mkwargs\u001b[0m\u001b[0;34m:\u001b[0m \u001b[0mAny\u001b[0m\u001b[0;34m)\u001b[0m \u001b[0;34m->\u001b[0m \u001b[0mAny\u001b[0m\u001b[0;34m:\u001b[0m\u001b[0;34m\u001b[0m\u001b[0;34m\u001b[0m\u001b[0m\n\u001b[0;32m---> 91\u001b[0;31m         \u001b[0mres\u001b[0m \u001b[0;34m=\u001b[0m \u001b[0mself\u001b[0m\u001b[0;34m.\u001b[0m\u001b[0m__pydantic_validator__\u001b[0m\u001b[0;34m.\u001b[0m\u001b[0mvalidate_python\u001b[0m\u001b[0;34m(\u001b[0m\u001b[0mpydantic_core\u001b[0m\u001b[0;34m.\u001b[0m\u001b[0mArgsKwargs\u001b[0m\u001b[0;34m(\u001b[0m\u001b[0margs\u001b[0m\u001b[0;34m,\u001b[0m \u001b[0mkwargs\u001b[0m\u001b[0;34m)\u001b[0m\u001b[0;34m)\u001b[0m\u001b[0;34m\u001b[0m\u001b[0;34m\u001b[0m\u001b[0m\n\u001b[0m\u001b[1;32m     92\u001b[0m         \u001b[0;32mif\u001b[0m \u001b[0mself\u001b[0m\u001b[0;34m.\u001b[0m\u001b[0m__return_pydantic_validator__\u001b[0m\u001b[0;34m:\u001b[0m\u001b[0;34m\u001b[0m\u001b[0;34m\u001b[0m\u001b[0m\n\u001b[1;32m     93\u001b[0m             \u001b[0;32mreturn\u001b[0m \u001b[0mself\u001b[0m\u001b[0;34m.\u001b[0m\u001b[0m__return_pydantic_validator__\u001b[0m\u001b[0;34m.\u001b[0m\u001b[0mvalidate_python\u001b[0m\u001b[0;34m(\u001b[0m\u001b[0mres\u001b[0m\u001b[0;34m)\u001b[0m\u001b[0;34m\u001b[0m\u001b[0;34m\u001b[0m\u001b[0m\n",
            "\u001b[0;31mValidationError\u001b[0m: 1 validation error for echo_hello\nn_times\n  Input should be less than 11 [type=less_than, input_value=20, input_type=int]\n    For further information visit https://errors.pydantic.dev/2.1/v/less_than"
          ]
        }
      ],
      "source": [
        "from pydantic import validate_call\n",
        "from pydantic.types import conint\n",
        "\n",
        "\n",
        "@validate_call\n",
        "def echo_hello(n_times: conint(gt=0, lt=11), name: str, loud: bool):\n",
        "    \"\"\"\n",
        "    Greets someone with an echo.\n",
        "\n",
        "    Args:\n",
        "        n_times: How many echos. Min value is 1, max is 10.\n",
        "        name: Name to greet\n",
        "        loud: Do you want the greeting to be loud?\n",
        "    \"\"\"\n",
        "    greeting = f\"Hello {name}!\"\n",
        "\n",
        "    if loud:\n",
        "        greeting = greeting.upper() + \"!!\"\n",
        "\n",
        "    for i in range(n_times):\n",
        "        print(greeting)\n",
        "\n",
        "\n",
        "# Call this function\n",
        "echo_hello(n_times=1, name=\"Yaakov\", loud=True)   # Valid\n",
        "echo_hello(n_times=10, name=\"Yaakov\", loud=True)  # Valid\n",
        "\n",
        "# The following will raise an error:\n",
        "echo_hello(n_times=20, name=\"Yaakov\", loud=True)  # Invalid!\n",
        "echo_hello(n_times=1, name=1234, loud=True)       # Invalid!"
      ]
    },
    {
      "cell_type": "markdown",
      "source": [
        "# 2. Discriminated Unions\n"
      ],
      "metadata": {
        "id": "SA22RPnuhi-C"
      }
    },
    {
      "cell_type": "code",
      "source": [
        "#from typing import Union, Literal, List\n",
        "\n",
        "from pydantic import BaseModel, Field\n",
        "\n",
        "\n",
        "class ModelA(BaseModel):\n",
        "    d_type: Literal[\"single\"]\n",
        "    value: int = Field(default=0)\n",
        "\n",
        "\n",
        "class ModelB(ModelA):\n",
        "    \"\"\"Inherits from ModelA, making the union challenging\"\"\"\n",
        "    d_type: Literal[\"many\"]\n",
        "    values: List[int] = Field(default_factory=list)\n",
        "\n",
        "\n",
        "class ModelC(BaseModel):\n",
        "    v: Union[ModelA, ModelB] = Field(discriminator=\"d_type\")\n",
        "\n",
        "\n",
        "# Populate with extra fields, see what happens\n",
        "m_1 = ModelC(v={\"value\": 123, \"values\": [123], \"d_type\": \"single\"})\n",
        "m_2 = ModelC(v={\"value\": 123, \"values\": [123], \"d_type\": \"many\"})\n",
        "\n",
        "print(m_1, m_2, sep=\"\\n\")\n",
        "# v=ModelA(d_type='single', value=123)\n",
        "# v=ModelB(d_type='many', value=123, values=[123])"
      ],
      "metadata": {
        "colab": {
          "base_uri": "https://localhost:8080/",
          "height": 395
        },
        "id": "bHXTFNjWhht8",
        "outputId": "d69a1e6c-a5df-4959-a89d-a3cd413dfb7c"
      },
      "execution_count": 2,
      "outputs": [
        {
          "output_type": "error",
          "ename": "NameError",
          "evalue": "ignored",
          "traceback": [
            "\u001b[0;31m---------------------------------------------------------------------------\u001b[0m",
            "\u001b[0;31mNameError\u001b[0m                                 Traceback (most recent call last)",
            "\u001b[0;32m<ipython-input-2-1637601da9e2>\u001b[0m in \u001b[0;36m<cell line: 6>\u001b[0;34m()\u001b[0m\n\u001b[1;32m      4\u001b[0m \u001b[0;34m\u001b[0m\u001b[0m\n\u001b[1;32m      5\u001b[0m \u001b[0;34m\u001b[0m\u001b[0m\n\u001b[0;32m----> 6\u001b[0;31m \u001b[0;32mclass\u001b[0m \u001b[0mModelA\u001b[0m\u001b[0;34m(\u001b[0m\u001b[0mBaseModel\u001b[0m\u001b[0;34m)\u001b[0m\u001b[0;34m:\u001b[0m\u001b[0;34m\u001b[0m\u001b[0;34m\u001b[0m\u001b[0m\n\u001b[0m\u001b[1;32m      7\u001b[0m     \u001b[0md_type\u001b[0m\u001b[0;34m:\u001b[0m \u001b[0mLiteral\u001b[0m\u001b[0;34m[\u001b[0m\u001b[0;34m\"single\"\u001b[0m\u001b[0;34m]\u001b[0m\u001b[0;34m\u001b[0m\u001b[0;34m\u001b[0m\u001b[0m\n\u001b[1;32m      8\u001b[0m     \u001b[0mvalue\u001b[0m\u001b[0;34m:\u001b[0m \u001b[0mint\u001b[0m \u001b[0;34m=\u001b[0m \u001b[0mField\u001b[0m\u001b[0;34m(\u001b[0m\u001b[0mdefault\u001b[0m\u001b[0;34m=\u001b[0m\u001b[0;36m0\u001b[0m\u001b[0;34m)\u001b[0m\u001b[0;34m\u001b[0m\u001b[0;34m\u001b[0m\u001b[0m\n",
            "\u001b[0;32m<ipython-input-2-1637601da9e2>\u001b[0m in \u001b[0;36mModelA\u001b[0;34m()\u001b[0m\n\u001b[1;32m      5\u001b[0m \u001b[0;34m\u001b[0m\u001b[0m\n\u001b[1;32m      6\u001b[0m \u001b[0;32mclass\u001b[0m \u001b[0mModelA\u001b[0m\u001b[0;34m(\u001b[0m\u001b[0mBaseModel\u001b[0m\u001b[0;34m)\u001b[0m\u001b[0;34m:\u001b[0m\u001b[0;34m\u001b[0m\u001b[0;34m\u001b[0m\u001b[0m\n\u001b[0;32m----> 7\u001b[0;31m     \u001b[0md_type\u001b[0m\u001b[0;34m:\u001b[0m \u001b[0mLiteral\u001b[0m\u001b[0;34m[\u001b[0m\u001b[0;34m\"single\"\u001b[0m\u001b[0;34m]\u001b[0m\u001b[0;34m\u001b[0m\u001b[0;34m\u001b[0m\u001b[0m\n\u001b[0m\u001b[1;32m      8\u001b[0m     \u001b[0mvalue\u001b[0m\u001b[0;34m:\u001b[0m \u001b[0mint\u001b[0m \u001b[0;34m=\u001b[0m \u001b[0mField\u001b[0m\u001b[0;34m(\u001b[0m\u001b[0mdefault\u001b[0m\u001b[0;34m=\u001b[0m\u001b[0;36m0\u001b[0m\u001b[0;34m)\u001b[0m\u001b[0;34m\u001b[0m\u001b[0;34m\u001b[0m\u001b[0m\n\u001b[1;32m      9\u001b[0m \u001b[0;34m\u001b[0m\u001b[0m\n",
            "\u001b[0;31mNameError\u001b[0m: name 'Literal' is not defined"
          ]
        }
      ]
    },
    {
      "cell_type": "markdown",
      "source": [
        "# 3. Validated Types with Annotated Validators"
      ],
      "metadata": {
        "id": "V5g3MVtJhmB1"
      }
    },
    {
      "cell_type": "code",
      "source": [
        "from typing_extensions import Annotated\n",
        "from pydantic.functional_validators import AfterValidator\n",
        "\n",
        "\n",
        "def validate(v: int):\n",
        "    assert v > 0\n",
        "\n",
        "PositiveNumber = Annotated[int, AfterValidator(validate)]"
      ],
      "metadata": {
        "id": "VHC-MDyEhkzj"
      },
      "execution_count": 3,
      "outputs": []
    },
    {
      "cell_type": "code",
      "source": [
        "from typing import Any\n",
        "from typing_extensions import Annotated\n",
        "\n",
        "from pydantic import BaseModel\n",
        "from pydantic.functional_validators import AfterValidator, BeforeValidator\n",
        "\n",
        "\n",
        "def remove_currency(v: Any) -> int:\n",
        "    \"\"\"Remove currency symbol from any input\"\"\"\n",
        "    if isinstance(v, str):\n",
        "        v = v.replace('$', '')\n",
        "    return v\n",
        "\n",
        "def truncate_max_number(v: int) -> int:\n",
        "    \"\"\"Any number greater than 100 will be set at 100\"\"\"\n",
        "    return min(v, 100)\n",
        "\n",
        "\n",
        "# Create a custom type (importable!)\n",
        "Price = Annotated[\n",
        "    int,\n",
        "    BeforeValidator(remove_currency),\n",
        "    AfterValidator(truncate_max_number)\n",
        "]\n",
        "\n",
        "\n",
        "class Model(BaseModel):\n",
        "    price: Price\n",
        "\n",
        "\n",
        "# Instantiate the model to demonstrate\n",
        "m = Model(price=\"$12\")      # price=12\n",
        "m = Model(price=12)         # price=12\n",
        "m = Model(price=101)        # price=100\n",
        "print(m)"
      ],
      "metadata": {
        "colab": {
          "base_uri": "https://localhost:8080/"
        },
        "id": "9sqQKl1Nhnj9",
        "outputId": "dea61b7d-2774-4d0c-e521-c3c926226adf"
      },
      "execution_count": 4,
      "outputs": [
        {
          "output_type": "stream",
          "name": "stdout",
          "text": [
            "price=100\n"
          ]
        }
      ]
    },
    {
      "cell_type": "markdown",
      "source": [
        "# 4. Validation without BaseModel using TypeAdapter"
      ],
      "metadata": {
        "id": "GLYbJ2vthsOc"
      }
    },
    {
      "cell_type": "code",
      "source": [
        "from typing import List, Any\n",
        "from typing_extensions import Annotated\n",
        "\n",
        "import pytest\n",
        "\n",
        "from pydantic import TypeAdapter\n",
        "from pydantic.functional_validators import BeforeValidator\n",
        "\n",
        "\n",
        "def coerce_to_list(v: Any) -> List[Any]:\n",
        "    if isinstance(v, list):\n",
        "        return v\n",
        "    else:\n",
        "        return [v]\n",
        "\n",
        "\n",
        "NumberList = Annotated[\n",
        "    List[int],\n",
        "    BeforeValidator(coerce_to_list)\n",
        "]\n",
        "\n",
        "\n",
        "@pytest.mark.parameterize(\n",
        "    ('v', 'expected'),\n",
        "    [\n",
        "        pytest.param(1, [1], id=\"single to list\"),\n",
        "        pytest.param([1, 2, 3], [1, 2, 3], id=\"list, no change\"),\n",
        "        pytest.param([1, '2'], [1, 2], id=\"list with string nums\"),\n",
        "    ]\n",
        ")\n",
        "def test_number_list(v: Any, expected: List[int]):\n",
        "    ta = TypeAdapter(NumberList)\n",
        "    res = ta.validate_python(v)\n",
        "    assert res == expected"
      ],
      "metadata": {
        "id": "KukO_DB9hq_q"
      },
      "execution_count": 5,
      "outputs": []
    },
    {
      "cell_type": "markdown",
      "source": [
        "# 5. Custom Serialization"
      ],
      "metadata": {
        "id": "YT3Xh_s6hu9r"
      }
    },
    {
      "cell_type": "code",
      "source": [
        "from datetime import datetime\n",
        "from pydantic import BaseModel, field_serializer\n",
        "\n",
        "class BroadwayTicket(BaseModel):\n",
        "    show_name: str\n",
        "    show_time: datetime\n",
        "\n",
        "    @field_serializer(\"show_time\")\n",
        "    def transform_show_time(v) -> str:\n",
        "        \"\"\"Returns human readable show time format\"\"\"\n",
        "        return v.strftime(\"%b %d, %Y, %I:%M %p\")\n",
        "\n",
        "\n",
        "# Create an object\n",
        "my_tickets = BroadwayTicket(\n",
        "    show_name=\"Parade\",\n",
        "    show_time=datetime(2023, 8, 5, 19)  # August 8, 7:00PM\n",
        ")\n",
        "\n",
        "print(my_tickets.model_dump())"
      ],
      "metadata": {
        "colab": {
          "base_uri": "https://localhost:8080/"
        },
        "id": "6IQswprwhtqE",
        "outputId": "85409f72-c8b6-4b15-e7b9-e71eb5da2938"
      },
      "execution_count": 6,
      "outputs": [
        {
          "output_type": "stream",
          "name": "stdout",
          "text": [
            "{'show_name': 'Parade', 'show_time': 'Aug 05, 2023, 07:00 PM'}\n"
          ]
        }
      ]
    }
  ]
}