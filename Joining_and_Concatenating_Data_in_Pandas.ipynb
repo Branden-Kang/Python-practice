{
  "nbformat": 4,
  "nbformat_minor": 0,
  "metadata": {
    "colab": {
      "provenance": [],
      "authorship_tag": "ABX9TyMSFhUHfNqQZHeYWscfLXF5"
    },
    "kernelspec": {
      "name": "python3",
      "display_name": "Python 3"
    },
    "language_info": {
      "name": "python"
    }
  },
  "cells": [
    {
      "cell_type": "markdown",
      "source": [
        "[Reference](https://medium.com/@wilbossoftwarejourney/mastering-data-manipulation-in-python-with-pandas-joining-and-concatenating-data-f45df6b0c1d3)"
      ],
      "metadata": {
        "id": "aN8cS1STc6Gf"
      }
    },
    {
      "cell_type": "markdown",
      "source": [
        "# Joining Data"
      ],
      "metadata": {
        "id": "fXOznazbc91P"
      }
    },
    {
      "cell_type": "code",
      "execution_count": 1,
      "metadata": {
        "colab": {
          "base_uri": "https://localhost:8080/"
        },
        "id": "6HmO1D5Xc4gf",
        "outputId": "6b748b0f-0471-42ba-cd0f-7c6ec512861c"
      },
      "outputs": [
        {
          "output_type": "stream",
          "name": "stdout",
          "text": [
            "   customer_id     name  order_id product\n",
            "0            1    Alice       103  Widget\n",
            "1            2      Bob       101  Widget\n",
            "2            3  Charlie       102  Gadget\n",
            "3            4     Dave       104   Gizmo\n"
          ]
        }
      ],
      "source": [
        "# Import Pandas library\n",
        "import pandas as pd\n",
        "\n",
        "# Create two data frames\n",
        "customers = pd.DataFrame({'customer_id': [1, 2, 3, 4],\n",
        "                          'name': ['Alice', 'Bob', 'Charlie', 'Dave']})\n",
        "orders = pd.DataFrame({'order_id': [101, 102, 103, 104],\n",
        "                       'customer_id': [2, 3, 1, 4],\n",
        "                       'product': ['Widget', 'Gadget', 'Widget', 'Gizmo']})\n",
        "\n",
        "# Merge the two data frames\n",
        "merged_data = pd.merge(customers, orders, on='customer_id')\n",
        "\n",
        "# Print the merged data frame\n",
        "print(merged_data)"
      ]
    },
    {
      "cell_type": "markdown",
      "source": [
        "# Concatenating Data"
      ],
      "metadata": {
        "id": "ONNOlJr-c_WN"
      }
    },
    {
      "cell_type": "code",
      "source": [
        "# Import Pandas library\n",
        "import pandas as pd\n",
        "\n",
        "# Create two data frames\n",
        "customers = pd.DataFrame({'customer_id': [1, 2, 3, 4],\n",
        "                          'name': ['Alice', 'Bob', 'Charlie', 'Dave']})\n",
        "orders = pd.DataFrame({'order_id': [101, 102, 103, 104],\n",
        "                       'customer_id': [2, 3, 1, 4],\n",
        "                       'product': ['Widget', 'Gadget', 'Widget', 'Gizmo']})\n",
        "\n",
        "# Concatenate the two data frames\n",
        "concatenated_data = pd.concat([customers, orders], axis=1)\n",
        "\n",
        "# Print the concatenated data frame\n",
        "print(concatenated_data)"
      ],
      "metadata": {
        "colab": {
          "base_uri": "https://localhost:8080/"
        },
        "id": "8EakLGTjc-IY",
        "outputId": "fb778926-a885-4e53-c15a-bd46d4e20b24"
      },
      "execution_count": 2,
      "outputs": [
        {
          "output_type": "stream",
          "name": "stdout",
          "text": [
            "   customer_id     name  order_id  customer_id product\n",
            "0            1    Alice       101            2  Widget\n",
            "1            2      Bob       102            3  Gadget\n",
            "2            3  Charlie       103            1  Widget\n",
            "3            4     Dave       104            4   Gizmo\n"
          ]
        }
      ]
    }
  ]
}