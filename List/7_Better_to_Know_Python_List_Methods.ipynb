{
  "nbformat": 4,
  "nbformat_minor": 0,
  "metadata": {
    "colab": {
      "name": "7 Better to Know Python List Methods.ipynb",
      "provenance": [],
      "authorship_tag": "ABX9TyMxa6eF5DloEmEN4aKMQCCB"
    },
    "kernelspec": {
      "name": "python3",
      "display_name": "Python 3"
    },
    "language_info": {
      "name": "python"
    }
  },
  "cells": [
    {
      "cell_type": "markdown",
      "source": [
        "[Reference](https://medium.com/codex/7-better-to-know-python-list-methods-ca1c263d84b7)"
      ],
      "metadata": {
        "id": "q7rhOmaVzWL_"
      }
    },
    {
      "cell_type": "markdown",
      "source": [
        "# 1.append"
      ],
      "metadata": {
        "id": "vGpYe7K6ztzn"
      }
    },
    {
      "cell_type": "code",
      "execution_count": 1,
      "metadata": {
        "colab": {
          "base_uri": "https://localhost:8080/"
        },
        "id": "pIbf0feqwJUG",
        "outputId": "00fdf00d-d2bd-455b-a64b-a0cb4c9fc56b"
      },
      "outputs": [
        {
          "output_type": "stream",
          "name": "stdout",
          "text": [
            "['Harry Potter', 'Ron Weasley']\n",
            "['Harry Potter', 'Ron Weasley', 'Hermione Granger']\n"
          ]
        }
      ],
      "source": [
        "students = ['Harry Potter', 'Ron Weasley']\n",
        "print(students)\n",
        "\n",
        "students.append('Hermione Granger')\n",
        "print(students)"
      ]
    },
    {
      "cell_type": "markdown",
      "source": [
        "# 2.extend"
      ],
      "metadata": {
        "id": "u4KZGZm2zw21"
      }
    },
    {
      "cell_type": "code",
      "source": [
        "# create a list\n",
        "gryffindor = ['Harry Potter', 'Ron Weasley', 'Hermione Granger']\n",
        "gryffindor\n",
        "\n",
        "# create another list\n",
        "slytherin = ['Draco Malfoy']\n",
        "slytherin\n",
        "\n",
        "# add all elements of slytherin to griffindor\n",
        "gryffindor.extend(slytherin)\n",
        "\n",
        "print(gryffindor)"
      ],
      "metadata": {
        "colab": {
          "base_uri": "https://localhost:8080/"
        },
        "id": "aiGSS6sszwHc",
        "outputId": "7c465e71-044a-402b-e142-9669c45cd7bd"
      },
      "execution_count": 3,
      "outputs": [
        {
          "output_type": "stream",
          "name": "stdout",
          "text": [
            "['Harry Potter', 'Ron Weasley', 'Hermione Granger', 'Draco Malfoy']\n"
          ]
        }
      ]
    },
    {
      "cell_type": "markdown",
      "source": [
        "# 3.pop"
      ],
      "metadata": {
        "id": "zbTX0X5Xz88R"
      }
    },
    {
      "cell_type": "code",
      "source": [
        "# create a list of students\n",
        "students = ['Harry Potter', 'Ron Weasley', 'Hermione Granger']\n",
        "students\n",
        "\n",
        "# Output ['Harry Potter', 'Ron Weasley', 'Hermione Granger']\n",
        "\n",
        "# To remove the element at index 2\n",
        "removed_element = students.pop(2)\n",
        "removed_element\n",
        "#Output2 'Hermione Granger'\n",
        "\n",
        "students"
      ],
      "metadata": {
        "colab": {
          "base_uri": "https://localhost:8080/"
        },
        "id": "AY3-Vfb8z0Ay",
        "outputId": "f737a6ba-a832-4e15-c28b-24259d95e16b"
      },
      "execution_count": 4,
      "outputs": [
        {
          "output_type": "execute_result",
          "data": {
            "text/plain": [
              "['Harry Potter', 'Ron Weasley']"
            ]
          },
          "metadata": {},
          "execution_count": 4
        }
      ]
    },
    {
      "cell_type": "markdown",
      "source": [
        "# 4.sort"
      ],
      "metadata": {
        "id": "WdCTN3bH0HAj"
      }
    },
    {
      "cell_type": "code",
      "source": [
        "numbers_unsorted = [102, 94, 5 ,7 , 32, 60, 48, 35]\n",
        "numbers_unsorted\n",
        "\n",
        "numbers_unsorted.sort()\n",
        "print(numbers_unsorted)"
      ],
      "metadata": {
        "colab": {
          "base_uri": "https://localhost:8080/"
        },
        "id": "8T4vP-gi0FUO",
        "outputId": "d3af8332-8c99-4146-f114-546ef39104d0"
      },
      "execution_count": 5,
      "outputs": [
        {
          "output_type": "stream",
          "name": "stdout",
          "text": [
            "[5, 7, 32, 35, 48, 60, 94, 102]\n"
          ]
        }
      ]
    },
    {
      "cell_type": "markdown",
      "source": [
        "# 5.copy"
      ],
      "metadata": {
        "id": "l-kMsGYX0Lgj"
      }
    },
    {
      "cell_type": "code",
      "source": [
        "# create a list of students\n",
        "students = ['Harry Potter', 'Ron Weasley', 'Hermione Granger']\n",
        "students\n",
        "#Output ['Harry Potter', 'Ron Weasley', 'Hermione Granger']\n",
        "\n",
        "# copy the list\n",
        "gryffindor = students.copy()\n",
        "gryffindor"
      ],
      "metadata": {
        "colab": {
          "base_uri": "https://localhost:8080/"
        },
        "id": "LNlNRt2V0Knz",
        "outputId": "ad51e756-22e3-4784-e54a-c812a00deee7"
      },
      "execution_count": 6,
      "outputs": [
        {
          "output_type": "execute_result",
          "data": {
            "text/plain": [
              "['Harry Potter', 'Ron Weasley', 'Hermione Granger']"
            ]
          },
          "metadata": {},
          "execution_count": 6
        }
      ]
    },
    {
      "cell_type": "markdown",
      "source": [
        "# 6.insert"
      ],
      "metadata": {
        "id": "AIASkS4p0PCM"
      }
    },
    {
      "cell_type": "code",
      "source": [
        "# create a list \n",
        " \n",
        "harry  = ['H', 'a', 'r', 'y']\n",
        "harry\n",
        "\n",
        "# 'r' is inserted at index 2 (3th position)\n",
        "harry.insert(2, 'r')\n",
        "\n",
        "print(harry)"
      ],
      "metadata": {
        "colab": {
          "base_uri": "https://localhost:8080/"
        },
        "id": "P9Kb-h3_0OF-",
        "outputId": "090b6a41-3399-4fcc-c9c8-dee8d8ff2ba0"
      },
      "execution_count": 7,
      "outputs": [
        {
          "output_type": "stream",
          "name": "stdout",
          "text": [
            "['H', 'a', 'r', 'r', 'y']\n"
          ]
        }
      ]
    },
    {
      "cell_type": "markdown",
      "source": [
        "# 7.index"
      ],
      "metadata": {
        "id": "_9f3dEKP0UA7"
      }
    },
    {
      "cell_type": "code",
      "source": [
        "# create a list of students\n",
        "students = ['Harry Potter', 'Ron Weasley', 'Hermione Granger']\n",
        "\n",
        "# finding index\n",
        "hermione = students.index('Hermione Granger')\n",
        "hermione"
      ],
      "metadata": {
        "colab": {
          "base_uri": "https://localhost:8080/"
        },
        "id": "r1lEocnc0Rra",
        "outputId": "0220b16c-9d82-4b87-d74e-5006e4f523b5"
      },
      "execution_count": 8,
      "outputs": [
        {
          "output_type": "execute_result",
          "data": {
            "text/plain": [
              "2"
            ]
          },
          "metadata": {},
          "execution_count": 8
        }
      ]
    }
  ]
}
