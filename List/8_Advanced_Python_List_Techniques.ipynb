{
  "nbformat": 4,
  "nbformat_minor": 0,
  "metadata": {
    "colab": {
      "name": "8 Advanced Python List Techniques.ipynb",
      "provenance": [],
      "authorship_tag": "ABX9TyPyo7Mr1yfDO83qKYWP0bqv"
    },
    "kernelspec": {
      "name": "python3",
      "display_name": "Python 3"
    }
  },
  "cells": [
    {
      "cell_type": "markdown",
      "metadata": {
        "id": "cOM0SSjwGXha",
        "colab_type": "text"
      },
      "source": [
        "[Reference](https://towardsdatascience.com/advanced-python-list-techniques-c6195fa699a3)"
      ]
    },
    {
      "cell_type": "markdown",
      "metadata": {
        "id": "4g7b8IM9GaY2",
        "colab_type": "text"
      },
      "source": [
        "# Filter() Function"
      ]
    },
    {
      "cell_type": "code",
      "metadata": {
        "id": "72srcoRWGV_l",
        "colab_type": "code",
        "colab": {
          "base_uri": "https://localhost:8080/",
          "height": 34
        },
        "outputId": "3e8777cc-424e-4ea6-ac3b-697070aeb801"
      },
      "source": [
        "original_list = [1,2,3,4,5,6,7,8,9,10]\n",
        "\n",
        "def filter_three(number):\n",
        "  return number > 3\n",
        "\n",
        "filtered = filter(filter_three, original_list)\n",
        "\n",
        "filtered_list = list(filtered)\n",
        "\n",
        "print(filtered_list)"
      ],
      "execution_count": 6,
      "outputs": [
        {
          "output_type": "stream",
          "text": [
            "[4, 5, 6, 7, 8, 9, 10]\n"
          ],
          "name": "stdout"
        }
      ]
    },
    {
      "cell_type": "markdown",
      "metadata": {
        "id": "zPEnWOrhGlhk",
        "colab_type": "text"
      },
      "source": [
        "# List Comprehensions"
      ]
    },
    {
      "cell_type": "code",
      "metadata": {
        "id": "XyPBLtTCGfZi",
        "colab_type": "code",
        "colab": {
          "base_uri": "https://localhost:8080/",
          "height": 34
        },
        "outputId": "dc6663d9-cb1c-47a3-b803-1a4e6dfb157e"
      },
      "source": [
        "original_list = [1,2,3,4,5,6,7,8,9,10]\n",
        "\n",
        "filtered_list = [number for number in original_list if number >3]\n",
        "\n",
        "print(filtered_list)"
      ],
      "execution_count": 5,
      "outputs": [
        {
          "output_type": "stream",
          "text": [
            "[4, 5, 6, 7, 8, 9, 10]\n"
          ],
          "name": "stdout"
        }
      ]
    },
    {
      "cell_type": "markdown",
      "metadata": {
        "id": "zrvnA85SG6OJ",
        "colab_type": "text"
      },
      "source": [
        "# Map() Function"
      ]
    },
    {
      "cell_type": "code",
      "metadata": {
        "id": "4TqKkyzpGu7X",
        "colab_type": "code",
        "colab": {
          "base_uri": "https://localhost:8080/",
          "height": 34
        },
        "outputId": "983c502a-3c19-466b-f209-81617fdd315f"
      },
      "source": [
        "original_list = [1,2,3,4,5,6,7,8,9,10]\n",
        "\n",
        "def square(number):\n",
        "  return number ** 2\n",
        "\n",
        "squares = map(square, original_list)\n",
        "\n",
        "squares_list = list(squares)\n",
        "\n",
        "print(squares_list)"
      ],
      "execution_count": 9,
      "outputs": [
        {
          "output_type": "stream",
          "text": [
            "[1, 4, 9, 16, 25, 36, 49, 64, 81, 100]\n"
          ],
          "name": "stdout"
        }
      ]
    },
    {
      "cell_type": "markdown",
      "metadata": {
        "id": "ccURu9NxHLqH",
        "colab_type": "text"
      },
      "source": [
        "# List Comprehensions"
      ]
    },
    {
      "cell_type": "code",
      "metadata": {
        "id": "_hMm24azG_0N",
        "colab_type": "code",
        "colab": {
          "base_uri": "https://localhost:8080/",
          "height": 34
        },
        "outputId": "3c1aeb76-53d1-4eb3-c842-9cd197c1a8d3"
      },
      "source": [
        "original_list = [1,2,3,4,5,6,7,8,9,10]\n",
        "\n",
        "squares_list = [number ** 2 for number in original_list]\n",
        "\n",
        "print(squares_list)"
      ],
      "execution_count": 10,
      "outputs": [
        {
          "output_type": "stream",
          "text": [
            "[1, 4, 9, 16, 25, 36, 49, 64, 81, 100]\n"
          ],
          "name": "stdout"
        }
      ]
    },
    {
      "cell_type": "markdown",
      "metadata": {
        "id": "5iiMPoVAHOeN",
        "colab_type": "text"
      },
      "source": [
        "# Zip() Function"
      ]
    },
    {
      "cell_type": "code",
      "metadata": {
        "id": "tyB_fnJBHNa5",
        "colab_type": "code",
        "colab": {}
      },
      "source": [
        "numbers = [1,2,3,4,5]\n",
        "\n",
        "letters = ['a','b','c','d','f']\n",
        "\n",
        "combined = zip(numbers, letters)\n",
        "\n",
        "combined_list = list(combined)"
      ],
      "execution_count": 11,
      "outputs": []
    },
    {
      "cell_type": "code",
      "metadata": {
        "id": "NGzWln3THYZo",
        "colab_type": "code",
        "colab": {
          "base_uri": "https://localhost:8080/",
          "height": 34
        },
        "outputId": "baa96580-8ed2-4114-8c4a-05986e644b6c"
      },
      "source": [
        "print(combined_list)"
      ],
      "execution_count": 12,
      "outputs": [
        {
          "output_type": "stream",
          "text": [
            "[(1, 'a'), (2, 'b'), (3, 'c'), (4, 'd'), (5, 'f')]\n"
          ],
          "name": "stdout"
        }
      ]
    },
    {
      "cell_type": "markdown",
      "metadata": {
        "id": "1wcc1hfxHbsK",
        "colab_type": "text"
      },
      "source": [
        "# Reverse"
      ]
    },
    {
      "cell_type": "code",
      "metadata": {
        "id": "YCXsaEkvHZwe",
        "colab_type": "code",
        "colab": {
          "base_uri": "https://localhost:8080/"
        },
        "outputId": "47d828ce-28ee-4782-ac60-87617cf86b72"
      },
      "source": [
        "original_list = [1,2,3,4,5,6,7,8,9,10]\n",
        "\n",
        "reversed_list = original_list[::-1]\n",
        "\n",
        "print(reversed_list)"
      ],
      "execution_count": 13,
      "outputs": [
        {
          "output_type": "stream",
          "text": [
            "[10, 9, 8, 7, 6, 5, 4, 3, 2, 1]\n"
          ],
          "name": "stdout"
        }
      ]
    },
    {
      "cell_type": "markdown",
      "metadata": {
        "id": "NLBYwcWPHjTO",
        "colab_type": "text"
      },
      "source": [
        "# Membership in a List"
      ]
    },
    {
      "cell_type": "code",
      "metadata": {
        "id": "y0Ld9ChFHgkq",
        "colab_type": "code",
        "colab": {
          "base_uri": "https://localhost:8080/",
          "height": 51
        },
        "outputId": "e6692cd7-4025-4492-c95c-10c238056fa3"
      },
      "source": [
        "games = ['Yankees', 'Yankees', 'Cubs', 'Blue Jays', 'Giants']\n",
        "\n",
        "def isin(item, list_name):\n",
        "  if item in list_name: \n",
        "    print(f\"{item} is in the list!\")\n",
        "  else: \n",
        "    print(f\"{item} is not in the list!\")\n",
        "\n",
        "isin('Blue Jays', games)\n",
        "isin('Angels', games) "
      ],
      "execution_count": 14,
      "outputs": [
        {
          "output_type": "stream",
          "text": [
            "Blue Jays is in the list!\n",
            "Angels is not in the list!\n"
          ],
          "name": "stdout"
        }
      ]
    },
    {
      "cell_type": "markdown",
      "metadata": {
        "id": "ADrYlLWgHrkW",
        "colab_type": "text"
      },
      "source": [
        "# Most Common Item in a List"
      ]
    },
    {
      "cell_type": "code",
      "metadata": {
        "id": "8aBD9Pt2HqW0",
        "colab_type": "code",
        "colab": {
          "base_uri": "https://localhost:8080/",
          "height": 34
        },
        "outputId": "f9dff130-fe07-4c65-eef9-3ed91edfa995"
      },
      "source": [
        "games = ['heads', 'heads', 'tails', 'heads', 'tails']\n",
        "items = set(games)\n",
        "print(max(items, key = games.count))"
      ],
      "execution_count": 15,
      "outputs": [
        {
          "output_type": "stream",
          "text": [
            "heads\n"
          ],
          "name": "stdout"
        }
      ]
    },
    {
      "cell_type": "markdown",
      "metadata": {
        "id": "UC72Vkm-HxsE",
        "colab_type": "text"
      },
      "source": [
        "# Flatten"
      ]
    },
    {
      "cell_type": "code",
      "metadata": {
        "id": "Q2qqp57vHwXj",
        "colab_type": "code",
        "colab": {
          "base_uri": "https://localhost:8080/",
          "height": 34
        },
        "outputId": "148fa08f-0aa4-4deb-bd20-552bf6dca1f2"
      },
      "source": [
        "nested_list = [[1,2,3],[4,5,6],[7,8,9]]\n",
        "\n",
        "flat_list = [i for j in nested_list for i in j]\n",
        "\n",
        "print(flat_list)"
      ],
      "execution_count": 16,
      "outputs": [
        {
          "output_type": "stream",
          "text": [
            "[1, 2, 3, 4, 5, 6, 7, 8, 9]\n"
          ],
          "name": "stdout"
        }
      ]
    },
    {
      "cell_type": "markdown",
      "metadata": {
        "id": "XHGutT-BH3KZ",
        "colab_type": "text"
      },
      "source": [
        "# Uniqueness"
      ]
    },
    {
      "cell_type": "code",
      "metadata": {
        "id": "zy2QyHgiHu3E",
        "colab_type": "code",
        "colab": {
          "base_uri": "https://localhost:8080/",
          "height": 51
        },
        "outputId": "3c20ef4e-ed85-47fb-b819-e587ccbe9303"
      },
      "source": [
        "list1 = [1,2,3,4,5]\n",
        "list2 = [1,1,2,3,4]\n",
        "\n",
        "def isunique(list):\n",
        "  if len(list) == len(set(list)):\n",
        "    print('Unique!')\n",
        "  else: \n",
        "    print('Not Unique!')\n",
        "\n",
        "isunique(list1)\n",
        "isunique(list2)"
      ],
      "execution_count": 17,
      "outputs": [
        {
          "output_type": "stream",
          "text": [
            "Unique!\n",
            "Not Unique!\n"
          ],
          "name": "stdout"
        }
      ]
    }
  ]
}