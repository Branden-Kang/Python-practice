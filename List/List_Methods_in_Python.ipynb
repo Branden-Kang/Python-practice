{
  "nbformat": 4,
  "nbformat_minor": 0,
  "metadata": {
    "colab": {
      "name": "List Methods in Python.ipynb",
      "provenance": [],
      "authorship_tag": "ABX9TyOeXznoF3a2BbaLwM7YgJd+"
    },
    "kernelspec": {
      "name": "python3",
      "display_name": "Python 3"
    },
    "language_info": {
      "name": "python"
    }
  },
  "cells": [
    {
      "cell_type": "markdown",
      "metadata": {
        "id": "KQKP8YaURJas"
      },
      "source": [
        "[Reference](https://python.plainenglish.io/list-methods-in-python-236c4fa285a0)"
      ]
    },
    {
      "cell_type": "code",
      "metadata": {
        "id": "_MMNOm4LRGb_"
      },
      "source": [
        "lists=[] #empty list\n",
        "lists=[1,2,3,4] #number list\n",
        "lists=['a','b','abc'] #string list\n",
        "lists=['a',1,2,0.5] #mixed list"
      ],
      "execution_count": 1,
      "outputs": []
    },
    {
      "cell_type": "code",
      "metadata": {
        "colab": {
          "base_uri": "https://localhost:8080/"
        },
        "id": "tRLKY8DZRLhO",
        "outputId": "b5f003ee-d31d-4564-8548-7116b3b1efe7"
      },
      "source": [
        "lists=[4,1,2,0.5]\n",
        "print(lists[0]) #access the first item in a list\n",
        "print(lists[2])"
      ],
      "execution_count": 2,
      "outputs": [
        {
          "output_type": "stream",
          "name": "stdout",
          "text": [
            "4\n",
            "2\n"
          ]
        }
      ]
    },
    {
      "cell_type": "code",
      "metadata": {
        "colab": {
          "base_uri": "https://localhost:8080/"
        },
        "id": "HnaHmKJKRMvJ",
        "outputId": "d35c9d73-5a76-498b-8bd3-52dd2dc98eff"
      },
      "source": [
        "colors=[\"red\",\"blue\",\"yellow\"]\n",
        "print(colors.index(\"blue\"))"
      ],
      "execution_count": 3,
      "outputs": [
        {
          "output_type": "stream",
          "name": "stdout",
          "text": [
            "1\n"
          ]
        }
      ]
    },
    {
      "cell_type": "code",
      "metadata": {
        "colab": {
          "base_uri": "https://localhost:8080/"
        },
        "id": "xg1IRddgRN0_",
        "outputId": "8dd1644f-4b93-4a20-a76e-f79d2a843bb7"
      },
      "source": [
        "lists=[4,1,2,0.5]\n",
        "print(lists.index(2))"
      ],
      "execution_count": 4,
      "outputs": [
        {
          "output_type": "stream",
          "name": "stdout",
          "text": [
            "2\n"
          ]
        }
      ]
    },
    {
      "cell_type": "code",
      "metadata": {
        "colab": {
          "base_uri": "https://localhost:8080/"
        },
        "id": "FR3-WaO7ROuY",
        "outputId": "b8740e35-e9a0-4588-9383-9cda49fef124"
      },
      "source": [
        "elements=[1,2,3,4,5]\n",
        "print(elements[:3]) #From the first element sup to 3 position\n",
        "print(elements[:]) #all members in list\n",
        "print(elements[1:]) #From a 1 position until last element\n",
        "print(elements[2:4]) #between given positon"
      ],
      "execution_count": 5,
      "outputs": [
        {
          "output_type": "stream",
          "name": "stdout",
          "text": [
            "[1, 2, 3]\n",
            "[1, 2, 3, 4, 5]\n",
            "[2, 3, 4, 5]\n",
            "[3, 4]\n"
          ]
        }
      ]
    },
    {
      "cell_type": "code",
      "metadata": {
        "colab": {
          "base_uri": "https://localhost:8080/"
        },
        "id": "KwjLYWFrRP_C",
        "outputId": "f2d13536-fd4d-4de2-e1a5-c2758bd1dad6"
      },
      "source": [
        "elements=[1,2,3,4,5]\n",
        "elements[0]=5\n",
        "print(elements)"
      ],
      "execution_count": 6,
      "outputs": [
        {
          "output_type": "stream",
          "name": "stdout",
          "text": [
            "[5, 2, 3, 4, 5]\n"
          ]
        }
      ]
    },
    {
      "cell_type": "code",
      "metadata": {
        "colab": {
          "base_uri": "https://localhost:8080/"
        },
        "id": "isWJU5lORREw",
        "outputId": "9a0a364f-defd-4235-d2c1-89893cbbc3ff"
      },
      "source": [
        "elements=[1,2,3,4,5]\n",
        "print(elements)\n",
        "elements.append(9)\n",
        "print(elements)"
      ],
      "execution_count": 7,
      "outputs": [
        {
          "output_type": "stream",
          "name": "stdout",
          "text": [
            "[1, 2, 3, 4, 5]\n",
            "[1, 2, 3, 4, 5, 9]\n"
          ]
        }
      ]
    },
    {
      "cell_type": "code",
      "metadata": {
        "colab": {
          "base_uri": "https://localhost:8080/"
        },
        "id": "LWyhEHyvRSYa",
        "outputId": "36dabe4f-ceca-4db8-89e1-8226ba436d62"
      },
      "source": [
        "elements=[1,2,3,4,5]\n",
        "print(elements)\n",
        "elements.insert(1,4)\n",
        "print(elements)\n",
        "elements.insert(2,[1,2])\n",
        "print(elements)"
      ],
      "execution_count": 8,
      "outputs": [
        {
          "output_type": "stream",
          "name": "stdout",
          "text": [
            "[1, 2, 3, 4, 5]\n",
            "[1, 4, 2, 3, 4, 5]\n",
            "[1, 4, [1, 2], 2, 3, 4, 5]\n"
          ]
        }
      ]
    },
    {
      "cell_type": "code",
      "metadata": {
        "colab": {
          "base_uri": "https://localhost:8080/"
        },
        "id": "_HJ9dAVWRT2R",
        "outputId": "f4f8d9b2-6dde-474e-ff3a-3d120308db3a"
      },
      "source": [
        "numbers=[1,2,3,4]\n",
        "numbers.append([5,6,7])\n",
        "print(numbers)"
      ],
      "execution_count": 9,
      "outputs": [
        {
          "output_type": "stream",
          "name": "stdout",
          "text": [
            "[1, 2, 3, 4, [5, 6, 7]]\n"
          ]
        }
      ]
    },
    {
      "cell_type": "code",
      "metadata": {
        "colab": {
          "base_uri": "https://localhost:8080/"
        },
        "id": "q3FBV9W7RVYf",
        "outputId": "b48b0712-c37d-4912-b2f1-acc8390ba7ff"
      },
      "source": [
        "numbers=[1,2,3,4]\n",
        "numbers.extend([5,6,7])\n",
        "print(numbers)"
      ],
      "execution_count": 10,
      "outputs": [
        {
          "output_type": "stream",
          "name": "stdout",
          "text": [
            "[1, 2, 3, 4, 5, 6, 7]\n"
          ]
        }
      ]
    },
    {
      "cell_type": "code",
      "metadata": {
        "colab": {
          "base_uri": "https://localhost:8080/"
        },
        "id": "BMUiIJ_yRWXK",
        "outputId": "7a8cbcc3-4e3f-4034-bf20-fdef75f687b1"
      },
      "source": [
        "list1=[1,2,3]\n",
        "list2=[4,5,6]\n",
        "list1.extend(list2)\n",
        "print(list1)"
      ],
      "execution_count": 11,
      "outputs": [
        {
          "output_type": "stream",
          "name": "stdout",
          "text": [
            "[1, 2, 3, 4, 5, 6]\n"
          ]
        }
      ]
    },
    {
      "cell_type": "code",
      "metadata": {
        "colab": {
          "base_uri": "https://localhost:8080/"
        },
        "id": "HP6IwZ-PRXit",
        "outputId": "75a4fa03-f7a3-44d0-abb1-9cc705bc7601"
      },
      "source": [
        "list1=[1,2,3,4,5]\n",
        "list1.remove(2)\n",
        "print(list1)\n",
        "list2=['a','b','c','d']\n",
        "list2.remove('a')\n",
        "print(list2)\n",
        "list3=[1,2,2,2,3,4,5]\n",
        "list3.remove(2)\n",
        "print(list3)"
      ],
      "execution_count": 12,
      "outputs": [
        {
          "output_type": "stream",
          "name": "stdout",
          "text": [
            "[1, 3, 4, 5]\n",
            "['b', 'c', 'd']\n",
            "[1, 2, 2, 3, 4, 5]\n"
          ]
        }
      ]
    },
    {
      "cell_type": "code",
      "metadata": {
        "colab": {
          "base_uri": "https://localhost:8080/"
        },
        "id": "jhNC-fyzRY_m",
        "outputId": "475cf6f8-d0ab-41c4-af98-f500fd74d4bb"
      },
      "source": [
        "list1=[1,2,3,4,5]\n",
        "print(list1)\n",
        "list1.clear()\n",
        "print(list1)"
      ],
      "execution_count": 13,
      "outputs": [
        {
          "output_type": "stream",
          "name": "stdout",
          "text": [
            "[1, 2, 3, 4, 5]\n",
            "[]\n"
          ]
        }
      ]
    },
    {
      "cell_type": "code",
      "metadata": {
        "colab": {
          "base_uri": "https://localhost:8080/"
        },
        "id": "I6SLBYoCRaXl",
        "outputId": "744c2049-6514-4fb0-e372-10fb0c278423"
      },
      "source": [
        "list1=[1,2,'a','b',3]\n",
        "print(list1)\n",
        "del list1[2] #delete value in index 2\n",
        "print(list1)"
      ],
      "execution_count": 14,
      "outputs": [
        {
          "output_type": "stream",
          "name": "stdout",
          "text": [
            "[1, 2, 'a', 'b', 3]\n",
            "[1, 2, 'b', 3]\n"
          ]
        }
      ]
    },
    {
      "cell_type": "code",
      "metadata": {
        "colab": {
          "base_uri": "https://localhost:8080/"
        },
        "id": "LwMN-aZIRby4",
        "outputId": "b075a2b2-2145-41bb-a538-cbcd4b945fd6"
      },
      "source": [
        "list1=[1,2,'a','b',3]\n",
        "print(list1)\n",
        "del list1[1:3]\n",
        "print(list1)"
      ],
      "execution_count": 15,
      "outputs": [
        {
          "output_type": "stream",
          "name": "stdout",
          "text": [
            "[1, 2, 'a', 'b', 3]\n",
            "[1, 'b', 3]\n"
          ]
        }
      ]
    },
    {
      "cell_type": "code",
      "metadata": {
        "colab": {
          "base_uri": "https://localhost:8080/"
        },
        "id": "tvUri3mORdJv",
        "outputId": "4ee5e8be-0158-45f3-d348-4eca80f9485a"
      },
      "source": [
        "list1=[1,2,'a','b',3]\n",
        "print(list1)\n",
        "del list1[:3]\n",
        "print(list1)"
      ],
      "execution_count": 16,
      "outputs": [
        {
          "output_type": "stream",
          "name": "stdout",
          "text": [
            "[1, 2, 'a', 'b', 3]\n",
            "['b', 3]\n"
          ]
        }
      ]
    },
    {
      "cell_type": "code",
      "metadata": {
        "colab": {
          "base_uri": "https://localhost:8080/"
        },
        "id": "kqUxDdf_ReYH",
        "outputId": "02fcf091-783a-4c10-e90a-4399538d0966"
      },
      "source": [
        "list1=[1,2,'a','b',3]\n",
        "print(list1)\n",
        "print(list1.pop())"
      ],
      "execution_count": 17,
      "outputs": [
        {
          "output_type": "stream",
          "name": "stdout",
          "text": [
            "[1, 2, 'a', 'b', 3]\n",
            "3\n"
          ]
        }
      ]
    },
    {
      "cell_type": "code",
      "metadata": {
        "colab": {
          "base_uri": "https://localhost:8080/"
        },
        "id": "sCnzKyrLRhNR",
        "outputId": "b755024d-471a-4a3f-ea12-e799ae5fce59"
      },
      "source": [
        "numbers=[1,2,3,4,5]\n",
        "returnValue=numbers.pop(3)\n",
        "print(\"Return value:\",returnValue)\n",
        "print(\"Updated list: \",numbers)"
      ],
      "execution_count": 18,
      "outputs": [
        {
          "output_type": "stream",
          "name": "stdout",
          "text": [
            "Return value: 4\n",
            "Updated list:  [1, 2, 3, 5]\n"
          ]
        }
      ]
    },
    {
      "cell_type": "code",
      "metadata": {
        "colab": {
          "base_uri": "https://localhost:8080/"
        },
        "id": "60TzzKlMRigN",
        "outputId": "3ef487a2-dba8-4de6-d83e-f276234fd712"
      },
      "source": [
        "numbers = [1,2,3,4,5]\n",
        "print(numbers.reverse())"
      ],
      "execution_count": 20,
      "outputs": [
        {
          "output_type": "stream",
          "name": "stdout",
          "text": [
            "None\n"
          ]
        }
      ]
    },
    {
      "cell_type": "code",
      "metadata": {
        "colab": {
          "base_uri": "https://localhost:8080/"
        },
        "id": "rDRP6MpNRmSx",
        "outputId": "243ced7a-83a1-4b48-de77-46fdd3b2e712"
      },
      "source": [
        "numbers=[1,2,3,4,5]\n",
        "print(\"List before updating:\",numbers)\n",
        "numbers.reverse()\n",
        "print(\"List after updating:\",numbers)"
      ],
      "execution_count": 21,
      "outputs": [
        {
          "output_type": "stream",
          "name": "stdout",
          "text": [
            "List before updating: [1, 2, 3, 4, 5]\n",
            "List after updating: [5, 4, 3, 2, 1]\n"
          ]
        }
      ]
    },
    {
      "cell_type": "code",
      "metadata": {
        "colab": {
          "base_uri": "https://localhost:8080/"
        },
        "id": "dIs46dPpRpGX",
        "outputId": "192a3778-d42f-4e1b-a92b-a4a4ad2022df"
      },
      "source": [
        "numbers=[2,1,5,4,3]\n",
        "numbers.sort()\n",
        "print(\"Sorted list in ascending order:\",numbers)\n",
        "numbers.sort(reverse=True)\n",
        "print(\"Sorted list in descending order:\",numbers)"
      ],
      "execution_count": 22,
      "outputs": [
        {
          "output_type": "stream",
          "name": "stdout",
          "text": [
            "Sorted list in ascending order: [1, 2, 3, 4, 5]\n",
            "Sorted list in descending order: [5, 4, 3, 2, 1]\n"
          ]
        }
      ]
    },
    {
      "cell_type": "code",
      "metadata": {
        "colab": {
          "base_uri": "https://localhost:8080/"
        },
        "id": "ndsEGWXuRrLv",
        "outputId": "123b2e07-297a-4b14-c15f-ed68b9f3a349"
      },
      "source": [
        "numbers=[1,1,1,2,3,4,5]\n",
        "print(numbers.count(1))\n",
        "colors=[\"red\",\"blue\",\"black\"]\n",
        "print(colors.count(\"red\"))"
      ],
      "execution_count": 23,
      "outputs": [
        {
          "output_type": "stream",
          "name": "stdout",
          "text": [
            "3\n",
            "1\n"
          ]
        }
      ]
    },
    {
      "cell_type": "code",
      "metadata": {
        "colab": {
          "base_uri": "https://localhost:8080/"
        },
        "id": "l3NagWieRsL2",
        "outputId": "eb85a3f0-dcdf-46f5-fae6-a66b934f9877"
      },
      "source": [
        "oldList=[1,3,2,4,5]\n",
        "newList=oldList\n",
        "print(\"Old list: \",oldList)\n",
        "print(\"New list: \",newList)\n",
        "newList.sort()\n",
        "print(\"Modified new list:\",newList)\n",
        "print(\"Old list is also modified:\",oldList)"
      ],
      "execution_count": 24,
      "outputs": [
        {
          "output_type": "stream",
          "name": "stdout",
          "text": [
            "Old list:  [1, 3, 2, 4, 5]\n",
            "New list:  [1, 3, 2, 4, 5]\n",
            "Modified new list: [1, 2, 3, 4, 5]\n",
            "Old list is also modified: [1, 2, 3, 4, 5]\n"
          ]
        }
      ]
    },
    {
      "cell_type": "code",
      "metadata": {
        "colab": {
          "base_uri": "https://localhost:8080/"
        },
        "id": "o0CIr8zHR5_2",
        "outputId": "a61371f5-49b7-488a-e667-bc6cb609e8e8"
      },
      "source": [
        "oldList=[1,3,2,4,5]\n",
        "newList=oldList.copy()\n",
        "print(\"Old list: \",oldList)\n",
        "print(\"New list: \",newList)\n",
        "newList.sort()\n",
        "print(\"Modified new list:\",newList)\n",
        "print(\"Old list is not modified:\",oldList)"
      ],
      "execution_count": 25,
      "outputs": [
        {
          "output_type": "stream",
          "name": "stdout",
          "text": [
            "Old list:  [1, 3, 2, 4, 5]\n",
            "New list:  [1, 3, 2, 4, 5]\n",
            "Modified new list: [1, 2, 3, 4, 5]\n",
            "Old list is not modified: [1, 3, 2, 4, 5]\n"
          ]
        }
      ]
    },
    {
      "cell_type": "code",
      "metadata": {
        "id": "gPWk4hfQR7Px",
        "outputId": "eb1c9c2e-1237-47e8-f85f-d3595c70dc6f",
        "colab": {
          "base_uri": "https://localhost:8080/"
        }
      },
      "source": [
        "oldList=[1,3,2,4,5]\n",
        "newList = oldList[:]\n",
        "newList.append(9)\n",
        "print('Old List:', oldList)\n",
        "print('New List:', newList)"
      ],
      "execution_count": 26,
      "outputs": [
        {
          "output_type": "stream",
          "name": "stdout",
          "text": [
            "Old List: [1, 3, 2, 4, 5]\n",
            "New List: [1, 3, 2, 4, 5, 9]\n"
          ]
        }
      ]
    }
  ]
}