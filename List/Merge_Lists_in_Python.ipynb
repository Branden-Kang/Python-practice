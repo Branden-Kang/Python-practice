{
  "nbformat": 4,
  "nbformat_minor": 0,
  "metadata": {
    "colab": {
      "name": "Merge Lists in Python.ipynb",
      "provenance": [],
      "authorship_tag": "ABX9TyNutJFDuQe/s5JovRj8vrke"
    },
    "kernelspec": {
      "name": "python3",
      "display_name": "Python 3"
    },
    "language_info": {
      "name": "python"
    }
  },
  "cells": [
    {
      "cell_type": "markdown",
      "metadata": {
        "id": "0wmIHPD_4eh9"
      },
      "source": [
        "[Reference](https://medium.com/techtofreedom/5-ways-to-merge-lists-in-python-2f8590f851e8)"
      ]
    },
    {
      "cell_type": "code",
      "metadata": {
        "colab": {
          "base_uri": "https://localhost:8080/"
        },
        "id": "TocaL09M4B4r",
        "outputId": "106099aa-3711-4476-a7d6-b5290418c06c"
      },
      "source": [
        "leaders_1 = ['Elon Mask', 'Tim Cook']\n",
        "leaders_2 = ['Yang Zhou', 'Bill Gates']\n",
        "leaders_3 = ['Jeff Bezos', 'Warren Buffet']\n",
        "full_leaders_list = leaders_1 + leaders_2 + leaders_3\n",
        "print(full_leaders_list)"
      ],
      "execution_count": 1,
      "outputs": [
        {
          "output_type": "stream",
          "text": [
            "['Elon Mask', 'Tim Cook', 'Yang Zhou', 'Bill Gates', 'Jeff Bezos', 'Warren Buffet']\n"
          ],
          "name": "stdout"
        }
      ]
    },
    {
      "cell_type": "code",
      "metadata": {
        "colab": {
          "base_uri": "https://localhost:8080/"
        },
        "id": "df_X4oCu4EPP",
        "outputId": "4eeefc1b-8a9b-46f4-f4e2-4ef3e90a921e"
      },
      "source": [
        "A = B = [1, 2, 3]\n",
        "A += [4]\n",
        "print(A, B)\n",
        "# [1, 2, 3, 4] [1, 2, 3, 4]\n",
        "\n",
        "A = A + [5]\n",
        "print(A, B)"
      ],
      "execution_count": 2,
      "outputs": [
        {
          "output_type": "stream",
          "text": [
            "[1, 2, 3, 4] [1, 2, 3, 4]\n",
            "[1, 2, 3, 4, 5] [1, 2, 3, 4]\n"
          ],
          "name": "stdout"
        }
      ]
    },
    {
      "cell_type": "code",
      "metadata": {
        "colab": {
          "base_uri": "https://localhost:8080/"
        },
        "id": "OSQ_t5o74GFK",
        "outputId": "7a8d9101-9361-43ae-b445-4e14bef43642"
      },
      "source": [
        "leaders_1 = ['Elon Mask', 'Tim Cook']\n",
        "leaders_2 = ['Yang Zhou', 'Bill Gates']\n",
        "leaders_1.extend(leaders_2)\n",
        "print(leaders_1)"
      ],
      "execution_count": 3,
      "outputs": [
        {
          "output_type": "stream",
          "text": [
            "['Elon Mask', 'Tim Cook', 'Yang Zhou', 'Bill Gates']\n"
          ],
          "name": "stdout"
        }
      ]
    },
    {
      "cell_type": "code",
      "metadata": {
        "colab": {
          "base_uri": "https://localhost:8080/"
        },
        "id": "HyfyXtOb4NBv",
        "outputId": "99a7ca3d-4018-4883-b5ff-982a5500a967"
      },
      "source": [
        "leaders_1 = ['Elon Mask', 'Tim Cook']\n",
        "leaders_2 = ['Yang Zhou', 'Bill Gates']\n",
        "leaders_3 = ['Jeff Bezos', 'Warren Buffet']\n",
        "full_list = [*leaders_1, *leaders_2, *leaders_3]\n",
        "\n",
        "print(full_list)"
      ],
      "execution_count": 4,
      "outputs": [
        {
          "output_type": "stream",
          "text": [
            "['Elon Mask', 'Tim Cook', 'Yang Zhou', 'Bill Gates', 'Jeff Bezos', 'Warren Buffet']\n"
          ],
          "name": "stdout"
        }
      ]
    },
    {
      "cell_type": "code",
      "metadata": {
        "colab": {
          "base_uri": "https://localhost:8080/"
        },
        "id": "_TQ6ZoBv4TB5",
        "outputId": "3a97f184-89be-4154-9649-2b810c533d24"
      },
      "source": [
        "from itertools import chain\n",
        "leaders_1 = ['Elon Mask', 'Tim Cook']\n",
        "leaders_2 = ['Yang Zhou', 'Bill Gates']\n",
        "leaders_3 = ['Jeff Bezos', 'Warren Buffet']\n",
        "full_list = list(chain(leaders_1,leaders_2,leaders_3))\n",
        "\n",
        "print(full_list)"
      ],
      "execution_count": 5,
      "outputs": [
        {
          "output_type": "stream",
          "text": [
            "['Elon Mask', 'Tim Cook', 'Yang Zhou', 'Bill Gates', 'Jeff Bezos', 'Warren Buffet']\n"
          ],
          "name": "stdout"
        }
      ]
    },
    {
      "cell_type": "code",
      "metadata": {
        "colab": {
          "base_uri": "https://localhost:8080/"
        },
        "id": "HfCHmBJB4V2H",
        "outputId": "e4fd9f1b-398c-4677-8894-ec02af6a480b"
      },
      "source": [
        "from operator import add\n",
        "from functools import reduce\n",
        "\n",
        "A = [99, 2]\n",
        "B = [0, 5, 1]\n",
        "C = [2077, 2021]\n",
        "D = [0]\n",
        "L = reduce(add, (A, B, C, D))\n",
        "\n",
        "print(L)"
      ],
      "execution_count": 6,
      "outputs": [
        {
          "output_type": "stream",
          "text": [
            "[99, 2, 0, 5, 1, 2077, 2021, 0]\n"
          ],
          "name": "stdout"
        }
      ]
    }
  ]
}