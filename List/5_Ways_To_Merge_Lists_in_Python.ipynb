{
  "nbformat": 4,
  "nbformat_minor": 0,
  "metadata": {
    "colab": {
      "name": "5 Ways To Merge Lists in Python.ipynb",
      "provenance": [],
      "authorship_tag": "ABX9TyPSqXxrPr/3cYlt1nyou3aC"
    },
    "kernelspec": {
      "name": "python3",
      "display_name": "Python 3"
    },
    "language_info": {
      "name": "python"
    }
  },
  "cells": [
    {
      "cell_type": "markdown",
      "metadata": {
        "id": "cCrD7YsEdO02"
      },
      "source": [
        "[Reference](https://medium.com/techtofreedom/5-ways-to-merge-lists-in-python-2f8590f851e8)"
      ]
    },
    {
      "cell_type": "code",
      "metadata": {
        "colab": {
          "base_uri": "https://localhost:8080/"
        },
        "id": "NXDng1AWdNuW",
        "outputId": "a7335f46-0b00-44d8-c7b8-d97710a8b0e0"
      },
      "source": [
        "leaders_1 = ['Elon Mask', 'Tim Cook']\n",
        "leaders_2 = ['Yang Zhou', 'Bill Gates']\n",
        "leaders_3 = ['Jeff Bezos', 'Warren Buffet']\n",
        "full_leaders_list = leaders_1 + leaders_2 + leaders_3\n",
        "print(full_leaders_list)"
      ],
      "execution_count": 1,
      "outputs": [
        {
          "output_type": "stream",
          "text": [
            "['Elon Mask', 'Tim Cook', 'Yang Zhou', 'Bill Gates', 'Jeff Bezos', 'Warren Buffet']\n"
          ],
          "name": "stdout"
        }
      ]
    },
    {
      "cell_type": "code",
      "metadata": {
        "colab": {
          "base_uri": "https://localhost:8080/"
        },
        "id": "9Zvu5X4wdSFJ",
        "outputId": "2ce0a248-5c15-4729-ba2e-0c151f2f2424"
      },
      "source": [
        "A = B = [1, 2, 3]\n",
        "A += [4]\n",
        "print(A, B)\n",
        "\n",
        "A = A + [5]\n",
        "print(A, B)"
      ],
      "execution_count": 2,
      "outputs": [
        {
          "output_type": "stream",
          "text": [
            "[1, 2, 3, 4] [1, 2, 3, 4]\n",
            "[1, 2, 3, 4, 5] [1, 2, 3, 4]\n"
          ],
          "name": "stdout"
        }
      ]
    },
    {
      "cell_type": "code",
      "metadata": {
        "colab": {
          "base_uri": "https://localhost:8080/"
        },
        "id": "jEaH1n7qdTGn",
        "outputId": "6c6707d6-25e0-4a2a-87c6-c0601db798ea"
      },
      "source": [
        "leaders_1 = ['Elon Mask', 'Tim Cook']\n",
        "leaders_2 = ['Yang Zhou', 'Bill Gates']\n",
        "leaders_1.extend(leaders_2)\n",
        "print(leaders_1)"
      ],
      "execution_count": 3,
      "outputs": [
        {
          "output_type": "stream",
          "text": [
            "['Elon Mask', 'Tim Cook', 'Yang Zhou', 'Bill Gates']\n"
          ],
          "name": "stdout"
        }
      ]
    },
    {
      "cell_type": "code",
      "metadata": {
        "colab": {
          "base_uri": "https://localhost:8080/"
        },
        "id": "e4HcO8gadVls",
        "outputId": "1f1f0eff-4727-4f3b-9437-7393e00df719"
      },
      "source": [
        "leaders_1 = ['Elon Mask', 'Tim Cook']\n",
        "leaders_2 = ['Yang Zhou', 'Bill Gates']\n",
        "leaders_1.append(leaders_2)\n",
        "print(leaders_1)"
      ],
      "execution_count": 4,
      "outputs": [
        {
          "output_type": "stream",
          "text": [
            "['Elon Mask', 'Tim Cook', ['Yang Zhou', 'Bill Gates']]\n"
          ],
          "name": "stdout"
        }
      ]
    },
    {
      "cell_type": "code",
      "metadata": {
        "colab": {
          "base_uri": "https://localhost:8080/"
        },
        "id": "kgElfjVwdW7h",
        "outputId": "554d8d81-2391-4214-8421-25e51441406e"
      },
      "source": [
        "leaders_1 = ['Elon Mask', 'Tim Cook']\n",
        "leaders_2 = ['Yang Zhou', 'Bill Gates']\n",
        "leaders_3 = ['Jeff Bezos', 'Warren Buffet']\n",
        "full_list = [*leaders_1, *leaders_2, *leaders_3]\n",
        "\n",
        "print(full_list)"
      ],
      "execution_count": 5,
      "outputs": [
        {
          "output_type": "stream",
          "text": [
            "['Elon Mask', 'Tim Cook', 'Yang Zhou', 'Bill Gates', 'Jeff Bezos', 'Warren Buffet']\n"
          ],
          "name": "stdout"
        }
      ]
    },
    {
      "cell_type": "code",
      "metadata": {
        "colab": {
          "base_uri": "https://localhost:8080/"
        },
        "id": "On98Boogd-98",
        "outputId": "a677ff22-afcd-4e88-b5c9-5f1734010493"
      },
      "source": [
        "from itertools import chain\n",
        "leaders_1 = ['Elon Mask', 'Tim Cook']\n",
        "leaders_2 = ['Yang Zhou', 'Bill Gates']\n",
        "leaders_3 = ['Jeff Bezos', 'Warren Buffet']\n",
        "full_list = list(chain(leaders_1,leaders_2,leaders_3))\n",
        "\n",
        "print(full_list)"
      ],
      "execution_count": 6,
      "outputs": [
        {
          "output_type": "stream",
          "text": [
            "['Elon Mask', 'Tim Cook', 'Yang Zhou', 'Bill Gates', 'Jeff Bezos', 'Warren Buffet']\n"
          ],
          "name": "stdout"
        }
      ]
    },
    {
      "cell_type": "code",
      "metadata": {
        "colab": {
          "base_uri": "https://localhost:8080/"
        },
        "id": "eMIXfFu1eATB",
        "outputId": "55480676-8828-42bc-852d-fa301ad831f9"
      },
      "source": [
        "from operator import add\n",
        "from functools import reduce\n",
        "\n",
        "A = [99, 2]\n",
        "B = [0, 5, 1]\n",
        "C = [2077, 2021]\n",
        "D = [0]\n",
        "L = reduce(add, (A, B, C, D))\n",
        "\n",
        "print(L)"
      ],
      "execution_count": 7,
      "outputs": [
        {
          "output_type": "stream",
          "text": [
            "[99, 2, 0, 5, 1, 2077, 2021, 0]\n"
          ],
          "name": "stdout"
        }
      ]
    }
  ]
}