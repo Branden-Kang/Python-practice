{
  "nbformat": 4,
  "nbformat_minor": 0,
  "metadata": {
    "colab": {
      "provenance": [],
      "authorship_tag": "ABX9TyM+aamMSkpteF1Cx4OZU8cp"
    },
    "kernelspec": {
      "name": "python3",
      "display_name": "Python 3"
    },
    "language_info": {
      "name": "python"
    }
  },
  "cells": [
    {
      "cell_type": "markdown",
      "source": [
        "[Reference](https://towardsdatascience.com/missing-value-imputation-explained-a-visual-guide-with-code-examples-for-beginners-93e0726284eb)"
      ],
      "metadata": {
        "id": "Y4pzY8WzBr_3"
      }
    },
    {
      "cell_type": "code",
      "execution_count": 1,
      "metadata": {
        "colab": {
          "base_uri": "https://localhost:8080/"
        },
        "id": "l6VkiJWRBpzw",
        "outputId": "b996d0ee-1fa4-44ac-c9f3-cdc56c594480"
      },
      "outputs": [
        {
          "output_type": "stream",
          "name": "stdout",
          "text": [
            "<class 'pandas.core.frame.DataFrame'>\n",
            "RangeIndex: 20 entries, 0 to 19\n",
            "Data columns (total 8 columns):\n",
            " #   Column       Non-Null Count  Dtype  \n",
            "---  ------       --------------  -----  \n",
            " 0   Date         20 non-null     object \n",
            " 1   Weekday      20 non-null     int64  \n",
            " 2   Holiday      18 non-null     float64\n",
            " 3   Temp         16 non-null     float64\n",
            " 4   Humidity     16 non-null     float64\n",
            " 5   Wind         18 non-null     float64\n",
            " 6   Outlook      17 non-null     object \n",
            " 7   Crowdedness  15 non-null     float64\n",
            "dtypes: float64(5), int64(1), object(2)\n",
            "memory usage: 1.4+ KB\n",
            "None\n",
            "    Date  Weekday  Holiday  Temp  Humidity  Wind   Outlook  Crowdedness\n",
            "0  08-01        0      0.0  25.1      99.0   0.0     rainy         0.14\n",
            "1  08-02        1      0.0  26.4       NaN   0.0     sunny          NaN\n",
            "2  08-03        2      0.0   NaN      96.0   0.0     rainy         0.21\n",
            "3  08-04        3      0.0  24.1      68.0   0.0  overcast         0.68\n",
            "4  08-05        4      NaN  24.7      98.0   0.0     rainy         0.20\n",
            "Date           0\n",
            "Weekday        0\n",
            "Holiday        2\n",
            "Temp           4\n",
            "Humidity       4\n",
            "Wind           2\n",
            "Outlook        3\n",
            "Crowdedness    5\n",
            "dtype: int64\n"
          ]
        }
      ],
      "source": [
        "import pandas as pd\n",
        "import numpy as np\n",
        "\n",
        "# Create the dataset as a dictionary\n",
        "data = {\n",
        "    'Date': ['08-01', '08-02', '08-03', '08-04', '08-05', '08-06', '08-07', '08-08', '08-09', '08-10',\n",
        "             '08-11', '08-12', '08-13', '08-14', '08-15', '08-16', '08-17', '08-18', '08-19', '08-20'],\n",
        "    'Weekday': [0, 1, 2, 3, 4, 5, 6, 0, 1, 2, 3, 4, 5, 6, 0, 1, 2, 3, 4, 5],\n",
        "    'Holiday': [0.0, 0.0, 0.0, 0.0, np.nan, 0.0, 0.0, 0.0, 0.0, 1.0, 0.0, np.nan, 0.0, 0.0, 0.0, 0.0, 0.0, 0.0, 0.0, 0.0],\n",
        "    'Temp': [25.1, 26.4, np.nan, 24.1, 24.7, 26.5, 27.6, 28.2, 27.1, 26.7, np.nan, 24.3, 23.1, 22.4, np.nan, 26.5, 28.6, np.nan, 27.0, 26.9],\n",
        "    'Humidity': [99.0, np.nan, 96.0, 68.0, 98.0, 98.0, 78.0, np.nan, 70.0, 75.0, np.nan, 77.0, 77.0, 89.0, 80.0, 88.0, 76.0, np.nan, 73.0, 73.0],\n",
        "    'Wind': [0.0, 0.0, 0.0, 0.0, 0.0, 0.0, 0.0, 0.0, 0.0, np.nan, 0.0, 0.0, 1.0, 1.0, 1.0, 1.0, 0.0, np.nan, 1.0, 0.0],\n",
        "    'Outlook': ['rainy', 'sunny', 'rainy', 'overcast', 'rainy', np.nan, 'rainy', 'rainy', 'overcast', 'sunny', np.nan, 'overcast', 'sunny', 'rainy', 'sunny', 'rainy', np.nan, 'rainy', 'overcast', 'sunny'],\n",
        "    'Crowdedness': [0.14, np.nan, 0.21, 0.68, 0.20, 0.32, 0.72, 0.61, np.nan, 0.54, np.nan, 0.67, 0.66, 0.38, 0.46, np.nan, 0.52, np.nan, 0.62, 0.81]\n",
        "}\n",
        "\n",
        "# Create a DataFrame from the dictionary\n",
        "df = pd.DataFrame(data)\n",
        "\n",
        "# Display basic information about the dataset\n",
        "print(df.info())\n",
        "\n",
        "# Display the first few rows of the dataset\n",
        "print(df.head())\n",
        "\n",
        "# Display the count of missing values in each column\n",
        "print(df.isnull().sum())"
      ]
    },
    {
      "cell_type": "markdown",
      "source": [
        "# Method 1: Listwise Deletion"
      ],
      "metadata": {
        "id": "iKGlDBAqBxHk"
      }
    },
    {
      "cell_type": "code",
      "source": [
        "# Count missing values in each row\n",
        "missing_count = df.isnull().sum(axis=1)\n",
        "\n",
        "# Keep only rows with less than 4 missing values\n",
        "df_clean = df[missing_count < 4].copy()"
      ],
      "metadata": {
        "id": "gBVhdkY6BvTk"
      },
      "execution_count": 2,
      "outputs": []
    },
    {
      "cell_type": "markdown",
      "source": [
        "# Method 2: Simple Imputation — Mean and Mode"
      ],
      "metadata": {
        "id": "P7E-oFJfBz_g"
      }
    },
    {
      "cell_type": "code",
      "source": [
        "# Mean imputation for Humidity\n",
        "df_clean['Humidity'] = df_clean['Humidity'].fillna(df_clean['Humidity'].mean())\n",
        "\n",
        "# Mode imputation for Holiday\n",
        "df_clean['Holiday'] = df_clean['Holiday'].fillna(df_clean['Holiday'].mode()[0])"
      ],
      "metadata": {
        "id": "EI5dyVfjBy3x"
      },
      "execution_count": 3,
      "outputs": []
    },
    {
      "cell_type": "markdown",
      "source": [
        "# Method 3: Linear Interpolation"
      ],
      "metadata": {
        "id": "w1Cscw2OB2u5"
      }
    },
    {
      "cell_type": "code",
      "source": [
        "df_clean['Temp'] = df_clean['Temp'].interpolate(method='linear')"
      ],
      "metadata": {
        "id": "e5uNfejrB19m"
      },
      "execution_count": 4,
      "outputs": []
    },
    {
      "cell_type": "markdown",
      "source": [
        "# Method 4: Forward/Backward Fill"
      ],
      "metadata": {
        "id": "pBgM43ErB5Hy"
      }
    },
    {
      "cell_type": "code",
      "source": [
        "df_clean['Outlook'] = df_clean['Outlook'].fillna(method='ffill').fillna(method='bfill')"
      ],
      "metadata": {
        "colab": {
          "base_uri": "https://localhost:8080/"
        },
        "id": "ci2qjVocB4Ve",
        "outputId": "18a9f1f5-9c96-46b8-e7c2-64d79e659a3e"
      },
      "execution_count": 5,
      "outputs": [
        {
          "output_type": "stream",
          "name": "stderr",
          "text": [
            "<ipython-input-5-08511ca32986>:1: FutureWarning: Series.fillna with 'method' is deprecated and will raise in a future version. Use obj.ffill() or obj.bfill() instead.\n",
            "  df_clean['Outlook'] = df_clean['Outlook'].fillna(method='ffill').fillna(method='bfill')\n"
          ]
        }
      ]
    },
    {
      "cell_type": "markdown",
      "source": [
        "# Method 5: Constant Value ImputationMethod 5: Constant Value Imputation"
      ],
      "metadata": {
        "id": "184cczNxB7yh"
      }
    },
    {
      "cell_type": "code",
      "source": [
        "df_clean['Wind'] = df_clean['Wind'].fillna(-1)"
      ],
      "metadata": {
        "id": "MVsfUkXHB7Fs"
      },
      "execution_count": 6,
      "outputs": []
    },
    {
      "cell_type": "markdown",
      "source": [
        "# Method 6: KNN Imputation"
      ],
      "metadata": {
        "id": "AxR4XULrB-dI"
      }
    },
    {
      "cell_type": "code",
      "source": [
        "from sklearn.impute import KNNImputer\n",
        "\n",
        "# One-hot encode the 'Outlook' column\n",
        "outlook_encoded = pd.get_dummies(df_clean['Outlook'], prefix='Outlook')\n",
        "\n",
        "# Prepare features for KNN imputation\n",
        "features_for_knn = ['Weekday', 'Holiday', 'Temp', 'Humidity', 'Wind']\n",
        "knn_features = pd.concat([df_clean[features_for_knn], outlook_encoded], axis=1)\n",
        "\n",
        "# Apply KNN imputation\n",
        "knn_imputer = KNNImputer(n_neighbors=3)\n",
        "df_imputed = pd.DataFrame(knn_imputer.fit_transform(pd.concat([knn_features, df_clean[['Crowdedness']]], axis=1)),\n",
        "                          columns=list(knn_features.columns) + ['Crowdedness'])\n",
        "\n",
        "# Update the original dataframe with the imputed Crowdedness values\n",
        "df_clean['Crowdedness'] = df_imputed['Crowdedness']"
      ],
      "metadata": {
        "id": "gCxfPZoHB9sD"
      },
      "execution_count": 7,
      "outputs": []
    },
    {
      "cell_type": "code",
      "source": [
        "print(\"Before:\")\n",
        "print(df)\n",
        "\n",
        "print(\"\\n\\nAfter:\")\n",
        "print(df_clean)"
      ],
      "metadata": {
        "colab": {
          "base_uri": "https://localhost:8080/"
        },
        "id": "BY1XDiT-CAZu",
        "outputId": "6efc66bb-0cef-4975-8e23-82bfd22e94e7"
      },
      "execution_count": 8,
      "outputs": [
        {
          "output_type": "stream",
          "name": "stdout",
          "text": [
            "Before:\n",
            "     Date  Weekday  Holiday  Temp  Humidity  Wind   Outlook  Crowdedness\n",
            "0   08-01        0      0.0  25.1      99.0   0.0     rainy         0.14\n",
            "1   08-02        1      0.0  26.4       NaN   0.0     sunny          NaN\n",
            "2   08-03        2      0.0   NaN      96.0   0.0     rainy         0.21\n",
            "3   08-04        3      0.0  24.1      68.0   0.0  overcast         0.68\n",
            "4   08-05        4      NaN  24.7      98.0   0.0     rainy         0.20\n",
            "5   08-06        5      0.0  26.5      98.0   0.0       NaN         0.32\n",
            "6   08-07        6      0.0  27.6      78.0   0.0     rainy         0.72\n",
            "7   08-08        0      0.0  28.2       NaN   0.0     rainy         0.61\n",
            "8   08-09        1      0.0  27.1      70.0   0.0  overcast          NaN\n",
            "9   08-10        2      1.0  26.7      75.0   NaN     sunny         0.54\n",
            "10  08-11        3      0.0   NaN       NaN   0.0       NaN          NaN\n",
            "11  08-12        4      NaN  24.3      77.0   0.0  overcast         0.67\n",
            "12  08-13        5      0.0  23.1      77.0   1.0     sunny         0.66\n",
            "13  08-14        6      0.0  22.4      89.0   1.0     rainy         0.38\n",
            "14  08-15        0      0.0   NaN      80.0   1.0     sunny         0.46\n",
            "15  08-16        1      0.0  26.5      88.0   1.0     rainy          NaN\n",
            "16  08-17        2      0.0  28.6      76.0   0.0       NaN         0.52\n",
            "17  08-18        3      0.0   NaN       NaN   NaN     rainy          NaN\n",
            "18  08-19        4      0.0  27.0      73.0   1.0  overcast         0.62\n",
            "19  08-20        5      0.0  26.9      73.0   0.0     sunny         0.81\n",
            "\n",
            "\n",
            "After:\n",
            "     Date  Weekday  Holiday   Temp  Humidity  Wind   Outlook  Crowdedness\n",
            "0   08-01        0      0.0  25.10   99.0000   0.0     rainy     0.140000\n",
            "1   08-02        1      0.0  26.40   82.1875   0.0     sunny     0.580000\n",
            "2   08-03        2      0.0  25.25   96.0000   0.0     rainy     0.210000\n",
            "3   08-04        3      0.0  24.10   68.0000   0.0  overcast     0.680000\n",
            "4   08-05        4      0.0  24.70   98.0000   0.0     rainy     0.200000\n",
            "5   08-06        5      0.0  26.50   98.0000   0.0     rainy     0.320000\n",
            "6   08-07        6      0.0  27.60   78.0000   0.0     rainy     0.720000\n",
            "7   08-08        0      0.0  28.20   82.1875   0.0     rainy     0.610000\n",
            "8   08-09        1      0.0  27.10   70.0000   0.0  overcast     0.703333\n",
            "9   08-10        2      1.0  26.70   75.0000  -1.0     sunny     0.540000\n",
            "11  08-12        4      0.0  24.30   77.0000   0.0  overcast     0.660000\n",
            "12  08-13        5      0.0  23.10   77.0000   1.0     sunny     0.380000\n",
            "13  08-14        6      0.0  22.40   89.0000   1.0     rainy     0.460000\n",
            "14  08-15        0      0.0  24.45   80.0000   1.0     sunny     0.400000\n",
            "15  08-16        1      0.0  26.50   88.0000   1.0     rainy     0.520000\n",
            "16  08-17        2      0.0  28.60   76.0000   0.0     rainy     0.620000\n",
            "18  08-19        4      0.0  27.00   73.0000   1.0  overcast          NaN\n",
            "19  08-20        5      0.0  26.90   73.0000   0.0     sunny          NaN\n"
          ]
        }
      ]
    }
  ]
}