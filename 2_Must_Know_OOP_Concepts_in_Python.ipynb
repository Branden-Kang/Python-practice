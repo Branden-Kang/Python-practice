{
  "nbformat": 4,
  "nbformat_minor": 0,
  "metadata": {
    "colab": {
      "name": "2 Must-Know OOP Concepts in Python.ipynb",
      "provenance": [],
      "authorship_tag": "ABX9TyOjDMw3EhWUXOM+giol1spy"
    },
    "kernelspec": {
      "name": "python3",
      "display_name": "Python 3"
    },
    "language_info": {
      "name": "python"
    }
  },
  "cells": [
    {
      "cell_type": "markdown",
      "metadata": {
        "id": "mGWeyijU6392"
      },
      "source": [
        "[Reference](https://towardsdatascience.com/2-must-know-oop-concepts-in-python-48d643a7385)"
      ]
    },
    {
      "cell_type": "code",
      "metadata": {
        "id": "42_QBPPZ61z8"
      },
      "source": [
        "class Employee():   \n",
        "    \n",
        "    def __init__(self, emp_id, salary):\n",
        "      self.emp_id = emp_id\n",
        "      self.salary = salary  \n",
        "      \n",
        "    def give_raise(self):\n",
        "      self.salary = self.salary * 1.05"
      ],
      "execution_count": 1,
      "outputs": []
    },
    {
      "cell_type": "code",
      "metadata": {
        "colab": {
          "base_uri": "https://localhost:8080/"
        },
        "id": "8viGZeuz7F3A",
        "outputId": "762f5bda-7f68-40c4-e156-9802dfcbbf01"
      },
      "source": [
        "emp1 = Employee(1001, 56000)\n",
        "print(emp1.salary)"
      ],
      "execution_count": 3,
      "outputs": [
        {
          "output_type": "stream",
          "text": [
            "56000\n"
          ],
          "name": "stdout"
        }
      ]
    },
    {
      "cell_type": "code",
      "metadata": {
        "colab": {
          "base_uri": "https://localhost:8080/"
        },
        "id": "MXyWBU-l7JZ4",
        "outputId": "3b764edd-1f52-4b52-c32e-99dfba22d339"
      },
      "source": [
        "emp1.give_raise()\n",
        "print(emp1.salary)"
      ],
      "execution_count": 4,
      "outputs": [
        {
          "output_type": "stream",
          "text": [
            "58800.0\n"
          ],
          "name": "stdout"
        }
      ]
    },
    {
      "cell_type": "code",
      "metadata": {
        "id": "uMV-0j8t7LJ4"
      },
      "source": [
        "class Manager(Employee):\n",
        "   pass"
      ],
      "execution_count": 5,
      "outputs": []
    },
    {
      "cell_type": "code",
      "metadata": {
        "colab": {
          "base_uri": "https://localhost:8080/"
        },
        "id": "uVEM_56D7Msj",
        "outputId": "13396292-ea50-49a8-bc1b-cc7ad62bffed"
      },
      "source": [
        "mgr1 = Manager(101, 75000)\n",
        "print(mgr1.salary)"
      ],
      "execution_count": 6,
      "outputs": [
        {
          "output_type": "stream",
          "text": [
            "75000\n"
          ],
          "name": "stdout"
        }
      ]
    },
    {
      "cell_type": "code",
      "metadata": {
        "colab": {
          "base_uri": "https://localhost:8080/"
        },
        "id": "D8P55XHo7QQ9",
        "outputId": "7deec86b-944d-4680-de55-77a42e5c9a7d"
      },
      "source": [
        "class Manager(Employee):   \n",
        "    \n",
        "    def give_raise(self):\n",
        "      self.salary = self.salary * 1.10\n",
        "\n",
        "mgr1 = Manager(101, 75000)\n",
        "print(mgr1.salary)\n",
        "mgr1.give_raise()\n",
        "print(mgr1.salary)"
      ],
      "execution_count": 7,
      "outputs": [
        {
          "output_type": "stream",
          "text": [
            "75000\n",
            "82500.0\n"
          ],
          "name": "stdout"
        }
      ]
    },
    {
      "cell_type": "code",
      "metadata": {
        "id": "Qm7dKY6c7V__"
      },
      "source": [
        "class Director(Employee):   \n",
        "    \n",
        "    def give_raise(self):\n",
        "     self.salary = self.salary * 1.20"
      ],
      "execution_count": 8,
      "outputs": []
    },
    {
      "cell_type": "code",
      "metadata": {
        "id": "2yoTuObL7X9G"
      },
      "source": [
        "def bulk_raise(list_of_emps):\n",
        "   for emp in list_of_emps:\n",
        "      emp.give_raise()"
      ],
      "execution_count": 9,
      "outputs": []
    },
    {
      "cell_type": "code",
      "metadata": {
        "id": "FFIKGiW_7cQ3"
      },
      "source": [
        "emp1 = Employee(101, 45000)\n",
        "emp2 = Manager(103, 60000)\n",
        "emp3 = Director(105, 70000)\n",
        "list_of_emps = [emp1, emp2, emp3]"
      ],
      "execution_count": 10,
      "outputs": []
    },
    {
      "cell_type": "code",
      "metadata": {
        "colab": {
          "base_uri": "https://localhost:8080/"
        },
        "id": "hAGmTv0H7eRy",
        "outputId": "693dbaef-6782-4da1-bd10-3797016abe62"
      },
      "source": [
        "bulk_raise(list_of_emps)\n",
        "print(emp1.salary)\n",
        "print(emp2.salary)\n",
        "print(emp3.salary)"
      ],
      "execution_count": 11,
      "outputs": [
        {
          "output_type": "stream",
          "text": [
            "47250.0\n",
            "66000.0\n",
            "84000.0\n"
          ],
          "name": "stdout"
        }
      ]
    }
  ]
}