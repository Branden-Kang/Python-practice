{
  "nbformat": 4,
  "nbformat_minor": 0,
  "metadata": {
    "colab": {
      "name": "4 functions in Lambdas.ipynb",
      "provenance": [],
      "authorship_tag": "ABX9TyOUmxwpFL6y81UWjuK20v47"
    },
    "kernelspec": {
      "name": "python3",
      "display_name": "Python 3"
    }
  },
  "cells": [
    {
      "cell_type": "markdown",
      "metadata": {
        "id": "ZokDUnXgDUpw"
      },
      "source": [
        "[Reference](https://medium.com/swlh/lambdas-in-python-4-practical-examples-25afe0e44f88)"
      ]
    },
    {
      "cell_type": "code",
      "metadata": {
        "id": "FOQNUYw1DOpi"
      },
      "source": [
        "triple = lambda x: x*3"
      ],
      "execution_count": 1,
      "outputs": []
    },
    {
      "cell_type": "code",
      "metadata": {
        "id": "BuRhxUnQF-_Z",
        "outputId": "5649db20-b638-44c8-a4b6-1c6d31bd90e0",
        "colab": {
          "base_uri": "https://localhost:8080/"
        }
      },
      "source": [
        "type(triple)"
      ],
      "execution_count": 2,
      "outputs": [
        {
          "output_type": "execute_result",
          "data": {
            "text/plain": [
              "function"
            ]
          },
          "metadata": {
            "tags": []
          },
          "execution_count": 2
        }
      ]
    },
    {
      "cell_type": "code",
      "metadata": {
        "id": "y0tdtQPJF_8d",
        "outputId": "9c42377f-ac24-40e7-c808-f6e047acdb7d",
        "colab": {
          "base_uri": "https://localhost:8080/"
        }
      },
      "source": [
        "triple(5)"
      ],
      "execution_count": 3,
      "outputs": [
        {
          "output_type": "execute_result",
          "data": {
            "text/plain": [
              "15"
            ]
          },
          "metadata": {
            "tags": []
          },
          "execution_count": 3
        }
      ]
    },
    {
      "cell_type": "markdown",
      "metadata": {
        "id": "6kpKDzhGGJ-T"
      },
      "source": [
        "# 1. Sort data"
      ]
    },
    {
      "cell_type": "code",
      "metadata": {
        "id": "ohJR82LgGAsq"
      },
      "source": [
        "grades = [{'name': 'Jennifer', 'final': 95},\n",
        "     {'name': 'David', 'final': 92},\n",
        "     {'name': 'Aaron', 'final': 98}]"
      ],
      "execution_count": 4,
      "outputs": []
    },
    {
      "cell_type": "code",
      "metadata": {
        "id": "jFh4F_x-GFuY",
        "outputId": "693019a7-964b-49ef-aecc-910f1613b892",
        "colab": {
          "base_uri": "https://localhost:8080/"
        }
      },
      "source": [
        "sorted(grades, key=lambda x: x['name'])"
      ],
      "execution_count": 5,
      "outputs": [
        {
          "output_type": "execute_result",
          "data": {
            "text/plain": [
              "[{'final': 98, 'name': 'Aaron'},\n",
              " {'final': 92, 'name': 'David'},\n",
              " {'final': 95, 'name': 'Jennifer'}]"
            ]
          },
          "metadata": {
            "tags": []
          },
          "execution_count": 5
        }
      ]
    },
    {
      "cell_type": "code",
      "metadata": {
        "id": "gWtAogOqGLno",
        "outputId": "a1ea87f8-b861-42fc-9365-a2a682d9d3e0",
        "colab": {
          "base_uri": "https://localhost:8080/"
        }
      },
      "source": [
        "sorted(grades, key=lambda x: x['final'], reverse=True)"
      ],
      "execution_count": 6,
      "outputs": [
        {
          "output_type": "execute_result",
          "data": {
            "text/plain": [
              "[{'final': 98, 'name': 'Aaron'},\n",
              " {'final': 95, 'name': 'Jennifer'},\n",
              " {'final': 92, 'name': 'David'}]"
            ]
          },
          "metadata": {
            "tags": []
          },
          "execution_count": 6
        }
      ]
    },
    {
      "cell_type": "markdown",
      "metadata": {
        "id": "HnZoYGj9GSi_"
      },
      "source": [
        "# 2. Find the Minimal and Maximal Values"
      ]
    },
    {
      "cell_type": "code",
      "metadata": {
        "id": "GYpJJe4cGNwm"
      },
      "source": [
        "grades = [{'name': 'Jennifer', 'final': 95},\n",
        "     {'name': 'David', 'final': 92},\n",
        "     {'name': 'Aaron', 'final': 98}]"
      ],
      "execution_count": 7,
      "outputs": []
    },
    {
      "cell_type": "code",
      "metadata": {
        "id": "0sGa_1j7GWrt",
        "outputId": "726860ae-f439-457f-d8c0-f34fcf5ba175",
        "colab": {
          "base_uri": "https://localhost:8080/"
        }
      },
      "source": [
        "max(grades, key=lambda x: x['final'])"
      ],
      "execution_count": 8,
      "outputs": [
        {
          "output_type": "execute_result",
          "data": {
            "text/plain": [
              "{'final': 98, 'name': 'Aaron'}"
            ]
          },
          "metadata": {
            "tags": []
          },
          "execution_count": 8
        }
      ]
    },
    {
      "cell_type": "code",
      "metadata": {
        "id": "YovG1N_cGaNx",
        "outputId": "df799196-d530-44b8-d1b0-299d0db4bd5c",
        "colab": {
          "base_uri": "https://localhost:8080/"
        }
      },
      "source": [
        "min(grades, key=lambda x: x['final'])"
      ],
      "execution_count": 9,
      "outputs": [
        {
          "output_type": "execute_result",
          "data": {
            "text/plain": [
              "{'final': 92, 'name': 'David'}"
            ]
          },
          "metadata": {
            "tags": []
          },
          "execution_count": 9
        }
      ]
    },
    {
      "cell_type": "markdown",
      "metadata": {
        "id": "uph9-SI5Ge22"
      },
      "source": [
        "# 3. Serve As a Factory Function"
      ]
    },
    {
      "cell_type": "code",
      "metadata": {
        "id": "ZgaB7uzRGdIJ"
      },
      "source": [
        "from collections import defaultdict"
      ],
      "execution_count": 10,
      "outputs": []
    },
    {
      "cell_type": "code",
      "metadata": {
        "id": "zD37yOaKG0P9"
      },
      "source": [
        "known_points = {'first': (2, 3), 'second': (4, 2)}\n",
        "points = defaultdict(lambda: (0, 0), known_points)"
      ],
      "execution_count": 11,
      "outputs": []
    },
    {
      "cell_type": "code",
      "metadata": {
        "id": "7s83COp0HWEC",
        "outputId": "7389aa83-7b85-4be5-8658-634ad76b3d69",
        "colab": {
          "base_uri": "https://localhost:8080/"
        }
      },
      "source": [
        "points['first']"
      ],
      "execution_count": 12,
      "outputs": [
        {
          "output_type": "execute_result",
          "data": {
            "text/plain": [
              "(2, 3)"
            ]
          },
          "metadata": {
            "tags": []
          },
          "execution_count": 12
        }
      ]
    },
    {
      "cell_type": "code",
      "metadata": {
        "id": "jobnXvcWHXEL",
        "outputId": "7d90c7e4-f04e-44d4-f1c2-34f8196637d7",
        "colab": {
          "base_uri": "https://localhost:8080/"
        }
      },
      "source": [
        "points['second']"
      ],
      "execution_count": 13,
      "outputs": [
        {
          "output_type": "execute_result",
          "data": {
            "text/plain": [
              "(4, 2)"
            ]
          },
          "metadata": {
            "tags": []
          },
          "execution_count": 13
        }
      ]
    },
    {
      "cell_type": "code",
      "metadata": {
        "id": "0Yk8zoAyHYOP",
        "outputId": "03f62f16-d55f-4a1d-eca2-ff81ad97ac3c",
        "colab": {
          "base_uri": "https://localhost:8080/"
        }
      },
      "source": [
        "points['three']"
      ],
      "execution_count": 15,
      "outputs": [
        {
          "output_type": "execute_result",
          "data": {
            "text/plain": [
              "(0, 0)"
            ]
          },
          "metadata": {
            "tags": []
          },
          "execution_count": 15
        }
      ]
    },
    {
      "cell_type": "code",
      "metadata": {
        "id": "ysVHT6giHa1Q",
        "outputId": "1877d782-aa81-4ea9-9e26-f116f14a17c5",
        "colab": {
          "base_uri": "https://localhost:8080/"
        }
      },
      "source": [
        "points['four']"
      ],
      "execution_count": 16,
      "outputs": [
        {
          "output_type": "execute_result",
          "data": {
            "text/plain": [
              "(0, 0)"
            ]
          },
          "metadata": {
            "tags": []
          },
          "execution_count": 16
        }
      ]
    },
    {
      "cell_type": "markdown",
      "metadata": {
        "id": "NoyVrUaxHi-l"
      },
      "source": [
        "# 4. Work With Higher Order Functions"
      ]
    },
    {
      "cell_type": "code",
      "metadata": {
        "id": "PYIsYfiPHgFh"
      },
      "source": [
        "numbers = [1, 2, 3, 4, 5]"
      ],
      "execution_count": 17,
      "outputs": []
    },
    {
      "cell_type": "code",
      "metadata": {
        "id": "3IXYksxhHk1W",
        "outputId": "c190f89b-c52b-44e9-dfb4-e7a3d59e2058",
        "colab": {
          "base_uri": "https://localhost:8080/"
        }
      },
      "source": [
        "list(map(lambda x: x * 3, numbers))"
      ],
      "execution_count": 18,
      "outputs": [
        {
          "output_type": "execute_result",
          "data": {
            "text/plain": [
              "[3, 6, 9, 12, 15]"
            ]
          },
          "metadata": {
            "tags": []
          },
          "execution_count": 18
        }
      ]
    },
    {
      "cell_type": "code",
      "metadata": {
        "id": "hwA6sHfuHmAk",
        "outputId": "5027cf4b-eb22-4b53-eedb-6a57831ea51c",
        "colab": {
          "base_uri": "https://localhost:8080/"
        }
      },
      "source": [
        "list(filter(lambda x: x%2 == 0, numbers))"
      ],
      "execution_count": 19,
      "outputs": [
        {
          "output_type": "execute_result",
          "data": {
            "text/plain": [
              "[2, 4]"
            ]
          },
          "metadata": {
            "tags": []
          },
          "execution_count": 19
        }
      ]
    },
    {
      "cell_type": "code",
      "metadata": {
        "id": "Ig543JDNHsFd",
        "outputId": "751ff29b-9817-45c2-f3f7-cb8adff737e3",
        "colab": {
          "base_uri": "https://localhost:8080/"
        }
      },
      "source": [
        "[x * 3 for x in numbers]"
      ],
      "execution_count": 20,
      "outputs": [
        {
          "output_type": "execute_result",
          "data": {
            "text/plain": [
              "[3, 6, 9, 12, 15]"
            ]
          },
          "metadata": {
            "tags": []
          },
          "execution_count": 20
        }
      ]
    },
    {
      "cell_type": "code",
      "metadata": {
        "id": "P15CfrmEHteY",
        "outputId": "b030febb-3ad7-4d04-93d0-5dd68fc810aa",
        "colab": {
          "base_uri": "https://localhost:8080/"
        }
      },
      "source": [
        "[x for x in numbers if x%2 == 0]"
      ],
      "execution_count": 21,
      "outputs": [
        {
          "output_type": "execute_result",
          "data": {
            "text/plain": [
              "[2, 4]"
            ]
          },
          "metadata": {
            "tags": []
          },
          "execution_count": 21
        }
      ]
    }
  ]
}