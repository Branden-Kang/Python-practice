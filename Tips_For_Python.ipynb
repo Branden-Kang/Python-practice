{
  "nbformat": 4,
  "nbformat_minor": 0,
  "metadata": {
    "colab": {
      "name": "Tips For Python.ipynb",
      "provenance": [],
      "authorship_tag": "ABX9TyO/tySzRxH6Av79zLamLPaD"
    },
    "kernelspec": {
      "name": "python3",
      "display_name": "Python 3"
    },
    "language_info": {
      "name": "python"
    }
  },
  "cells": [
    {
      "cell_type": "markdown",
      "metadata": {
        "id": "MX1yRskwA597"
      },
      "source": [
        "[Reference](https://cruizbran.medium.com/tips-for-python-ae9f65d0ba10)"
      ]
    },
    {
      "cell_type": "code",
      "metadata": {
        "id": "I6rXvYjAAuyw"
      },
      "source": [
        "doubles = [2 * n for n in range(50)]"
      ],
      "execution_count": 1,
      "outputs": []
    },
    {
      "cell_type": "code",
      "metadata": {
        "id": "oaloWjVHA9-w"
      },
      "source": [
        "doubles = list(2 * n for n in range(50))"
      ],
      "execution_count": 2,
      "outputs": []
    },
    {
      "cell_type": "code",
      "metadata": {
        "id": "r2r21cd0A_02"
      },
      "source": [
        "sum_of_first_n = sum(range(1000000))"
      ],
      "execution_count": 3,
      "outputs": []
    }
  ]
}