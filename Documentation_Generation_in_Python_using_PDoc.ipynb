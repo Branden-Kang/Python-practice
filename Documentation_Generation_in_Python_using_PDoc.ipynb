{
  "nbformat": 4,
  "nbformat_minor": 0,
  "metadata": {
    "colab": {
      "name": "Documentation Generation in Python using PDoc.ipynb",
      "provenance": [],
      "authorship_tag": "ABX9TyOkDGiOKAes5AokBFY/Icun"
    },
    "kernelspec": {
      "name": "python3",
      "display_name": "Python 3"
    }
  },
  "cells": [
    {
      "cell_type": "markdown",
      "metadata": {
        "id": "H5YcgU7E8DVR"
      },
      "source": [
        "[Reference](https://medium.com/cemac/simple-documentation-generation-in-python-using-pdoc-16fb86eb5cd5)\n",
        "\n",
        "```\n",
        "\n",
        "pip install pdoc3\n",
        "\n",
        "pdoc --html <path to code> --output-dir <path to documentation>\n",
        "\n",
        "```"
      ]
    }
  ]
}