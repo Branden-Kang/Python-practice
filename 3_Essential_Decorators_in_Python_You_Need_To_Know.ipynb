{
  "nbformat": 4,
  "nbformat_minor": 0,
  "metadata": {
    "colab": {
      "name": "3 Essential Decorators in Python You Need To Know.ipynb",
      "provenance": [],
      "authorship_tag": "ABX9TyOLEDXoP589UGwuNGDR4Ugt"
    },
    "kernelspec": {
      "name": "python3",
      "display_name": "Python 3"
    },
    "language_info": {
      "name": "python"
    }
  },
  "cells": [
    {
      "cell_type": "markdown",
      "metadata": {
        "id": "GGZ7IaGBjqEE"
      },
      "source": [
        "[Reference](https://betterprogramming.pub/3-essential-decorators-in-python-you-need-to-know-654650bd5c36)"
      ]
    },
    {
      "cell_type": "code",
      "metadata": {
        "id": "N9mg7sMKjc5B"
      },
      "source": [
        "def decorator(function_to_decorate):\n",
        "    def wrapper(*args, **kwargs):\n",
        "        function_to_decorate(*args, **kwargs)\n",
        "    return wrapper"
      ],
      "execution_count": 1,
      "outputs": []
    },
    {
      "cell_type": "code",
      "metadata": {
        "id": "JN13e2dXjtbp"
      },
      "source": [
        "def measure_time(func):\n",
        "    def wrapper(*args, **kwargs):\n",
        "        from time import time\n",
        "        start = time()\n",
        "        result = func(*args, **kwargs)\n",
        "        print(f'Elapsed time is {time() - start} ms')\n",
        "        return result\n",
        "    return wrapper"
      ],
      "execution_count": 2,
      "outputs": []
    },
    {
      "cell_type": "code",
      "metadata": {
        "colab": {
          "base_uri": "https://localhost:8080/"
        },
        "id": "yVqKnopEjuhf",
        "outputId": "35b6f567-e779-4567-a0f2-372e79ad8cd8"
      },
      "source": [
        "@measure_time\n",
        "def add(x, y):\n",
        "    return x + y\n",
        "\n",
        "add(2, 5)"
      ],
      "execution_count": 3,
      "outputs": [
        {
          "output_type": "stream",
          "name": "stdout",
          "text": [
            "Elapsed time is 1.6689300537109375e-06 ms\n"
          ]
        },
        {
          "output_type": "execute_result",
          "data": {
            "text/plain": [
              "7"
            ]
          },
          "metadata": {},
          "execution_count": 3
        }
      ]
    },
    {
      "cell_type": "code",
      "metadata": {
        "colab": {
          "base_uri": "https://localhost:8080/"
        },
        "id": "Cr_m9d7Ljv6i",
        "outputId": "5ddd258d-a12c-4a50-9ba8-996ac44c74bf"
      },
      "source": [
        "import time\n",
        "\n",
        "\n",
        "@measure_time\n",
        "def sleeping_func(sleep_time):\n",
        "    time.sleep(sleep_time)\n",
        "\n",
        "\n",
        "sleeping_func(0.5)\n",
        "sleeping_func(1)\n",
        "sleeping_func(1.5)\n",
        "sleeping_func(2)"
      ],
      "execution_count": 4,
      "outputs": [
        {
          "output_type": "stream",
          "name": "stdout",
          "text": [
            "Elapsed time is 0.5006468296051025 ms\n",
            "Elapsed time is 1.0010693073272705 ms\n",
            "Elapsed time is 1.501607894897461 ms\n",
            "Elapsed time is 2.002113103866577 ms\n"
          ]
        }
      ]
    },
    {
      "cell_type": "code",
      "metadata": {
        "id": "m0Xoe3HrjxRq"
      },
      "source": [
        "def logger(func):\n",
        "    from datetime import datetime\n",
        "    def wrapper(*args, **kwargs):\n",
        "        print('_' * 25)\n",
        "        print(f'Run on: {datetime.today().strftime(\"%Y-%m-%d %H:%M:%S\")}')\n",
        "        print(func.__name__)\n",
        "        func(*args, **kwargs)\n",
        "        print('_' * 25)\n",
        "    return wrapper"
      ],
      "execution_count": 5,
      "outputs": []
    },
    {
      "cell_type": "code",
      "metadata": {
        "colab": {
          "base_uri": "https://localhost:8080/"
        },
        "id": "33N8ewAsjysl",
        "outputId": "85f4d202-a33d-4cb8-c236-5c69edc4de1c"
      },
      "source": [
        "@logger\n",
        "def shutdown():\n",
        "    print('System shutdown')\n",
        "\n",
        "\n",
        "@logger\n",
        "def restart():\n",
        "    print('System restarts')\n",
        "\n",
        "\n",
        "shutdown()\n",
        "restart()"
      ],
      "execution_count": 6,
      "outputs": [
        {
          "output_type": "stream",
          "name": "stdout",
          "text": [
            "_________________________\n",
            "Run on: 2021-11-05 14:44:52\n",
            "shutdown\n",
            "System shutdown\n",
            "_________________________\n",
            "_________________________\n",
            "Run on: 2021-11-05 14:44:52\n",
            "restart\n",
            "System restarts\n",
            "_________________________\n"
          ]
        }
      ]
    },
    {
      "cell_type": "code",
      "metadata": {
        "id": "OK3tOF6kjzz6"
      },
      "source": [
        "def html_tag(tag):\n",
        "    def wrapper(func):\n",
        "        def inner(*args, **kwargs):\n",
        "            return f\"<{tag}>{func(*args, **kwargs)}</{tag}>\"\n",
        "        return inner\n",
        "    return wrapper"
      ],
      "execution_count": 7,
      "outputs": []
    },
    {
      "cell_type": "code",
      "metadata": {
        "colab": {
          "base_uri": "https://localhost:8080/"
        },
        "id": "o--_yTyPj1zd",
        "outputId": "6b416e39-15ad-4614-86ac-88b0ffd9d2da"
      },
      "source": [
        "@html_tag('div')\n",
        "def div(inner):\n",
        "    return inner\n",
        "\n",
        "\n",
        "@html_tag('i')\n",
        "def italic(inner):\n",
        "    return inner\n",
        "\n",
        "\n",
        "print(div('I love Python'))\n",
        "print(italic('I love Python'))"
      ],
      "execution_count": 8,
      "outputs": [
        {
          "output_type": "stream",
          "name": "stdout",
          "text": [
            "<div>I love Python</div>\n",
            "<i>I love Python</i>\n"
          ]
        }
      ]
    },
    {
      "cell_type": "code",
      "metadata": {
        "colab": {
          "base_uri": "https://localhost:8080/"
        },
        "id": "Ipvx2EI3j26h",
        "outputId": "0e255f8e-e4e5-4823-b55a-3fb09310e82a"
      },
      "source": [
        "@html_tag('div')\n",
        "@html_tag('p')\n",
        "def div_p(inner):\n",
        "    return inner\n",
        "\n",
        "\n",
        "print(div_p('I love Pyhton'))"
      ],
      "execution_count": 9,
      "outputs": [
        {
          "output_type": "stream",
          "name": "stdout",
          "text": [
            "<div><p>I love Pyhton</p></div>\n"
          ]
        }
      ]
    },
    {
      "cell_type": "code",
      "metadata": {
        "colab": {
          "base_uri": "https://localhost:8080/"
        },
        "id": "oakfqZBMj4D4",
        "outputId": "74689506-c166-4734-b83d-49b9b6a7bab2"
      },
      "source": [
        "def bonus(func):\n",
        "    def wrapper():\n",
        "        print(\"#\" * 33)\n",
        "        func()\n",
        "        print(\"#\" * 33)\n",
        "    return wrapper\n",
        "\n",
        "\n",
        "@bonus\n",
        "def thank_you():\n",
        "    print(\"Thank you for reading my article\")\n",
        "\n",
        "\n",
        "thank_you()"
      ],
      "execution_count": 10,
      "outputs": [
        {
          "output_type": "stream",
          "name": "stdout",
          "text": [
            "#################################\n",
            "Thank you for reading my article\n",
            "#################################\n"
          ]
        }
      ]
    }
  ]
}