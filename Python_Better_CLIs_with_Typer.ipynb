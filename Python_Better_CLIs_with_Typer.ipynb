{
  "nbformat": 4,
  "nbformat_minor": 0,
  "metadata": {
    "colab": {
      "provenance": [],
      "authorship_tag": "ABX9TyPy3jTNneYuK0XIspLwL8vJ"
    },
    "kernelspec": {
      "name": "python3",
      "display_name": "Python 3"
    },
    "language_info": {
      "name": "python"
    }
  },
  "cells": [
    {
      "cell_type": "markdown",
      "source": [
        "[Reference](https://pravash-techie.medium.com/python-better-clis-with-typer-a8783fafec6c)"
      ],
      "metadata": {
        "id": "vYGuIAnw6NCD"
      }
    },
    {
      "cell_type": "code",
      "execution_count": 1,
      "metadata": {
        "colab": {
          "base_uri": "https://localhost:8080/"
        },
        "id": "Pzi-Kp1j5cq1",
        "outputId": "30928053-6a4a-42b6-de1b-bab0447188d3"
      },
      "outputs": [
        {
          "output_type": "stream",
          "name": "stdout",
          "text": [
            "Looking in indexes: https://pypi.org/simple, https://us-python.pkg.dev/colab-wheels/public/simple/\n",
            "Requirement already satisfied: typer in /usr/local/lib/python3.10/dist-packages (0.7.0)\n",
            "Requirement already satisfied: click<9.0.0,>=7.1.1 in /usr/local/lib/python3.10/dist-packages (from typer) (8.1.3)\n"
          ]
        }
      ],
      "source": [
        "pip install typer"
      ]
    },
    {
      "cell_type": "code",
      "source": [
        "import typer\n",
        "\n",
        "app = typer.Typer()\n",
        "\n",
        "@app.command()\n",
        "def hello_world():\n",
        "    print(\"hello world\")\n",
        "\n",
        "@app.command()\n",
        "def hello(name):\n",
        "    print(f\"hello {name}\")\n",
        "\n",
        "if __name__ == \"__main__\":\n",
        "    app()"
      ],
      "metadata": {
        "id": "sDe1Ui2r6QYw"
      },
      "execution_count": 5,
      "outputs": []
    },
    {
      "cell_type": "code",
      "source": [
        "import typer\n",
        "\n",
        "app = typer.Typer()\n",
        "\n",
        "@app.command()\n",
        "def greet(name: str):\n",
        "    typer.echo(f\"Hello, {name}!\")\n",
        "\n",
        "if __name__ == \"__main__\":\n",
        "    app()"
      ],
      "metadata": {
        "id": "M66nRqCy6RVv"
      },
      "execution_count": 4,
      "outputs": []
    }
  ]
}