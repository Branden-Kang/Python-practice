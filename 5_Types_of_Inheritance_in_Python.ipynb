{
  "nbformat": 4,
  "nbformat_minor": 0,
  "metadata": {
    "colab": {
      "name": "5 Types of Inheritance in Python.ipynb",
      "provenance": [],
      "authorship_tag": "ABX9TyOwTqaueZHF9hOOxMaoptMM"
    },
    "kernelspec": {
      "name": "python3",
      "display_name": "Python 3"
    },
    "language_info": {
      "name": "python"
    }
  },
  "cells": [
    {
      "cell_type": "markdown",
      "metadata": {
        "id": "kIhpgAz3lZ2i"
      },
      "source": [
        "[Reference](https://medium.com/@rutgts/5-types-of-inheritance-in-python-564c642482a2)"
      ]
    },
    {
      "cell_type": "code",
      "metadata": {
        "colab": {
          "base_uri": "https://localhost:8080/"
        },
        "id": "nD_6mqjdTXdU",
        "outputId": "05827baf-a3ee-4c68-feb6-3b56099d4700"
      },
      "source": [
        "class Parent:\n",
        "    def func1(self):\n",
        "        print(\"This function is in parent class.\")\n",
        "class Child(Parent):\n",
        "    def func2(self):\n",
        "        print(\"This function is in child class.\")\n",
        "object = Child()\n",
        "object.func1()\n",
        "object.func2()"
      ],
      "execution_count": 1,
      "outputs": [
        {
          "output_type": "stream",
          "text": [
            "This function is in parent class.\n",
            "This function is in child class.\n"
          ],
          "name": "stdout"
        }
      ]
    },
    {
      "cell_type": "code",
      "metadata": {
        "colab": {
          "base_uri": "https://localhost:8080/"
        },
        "id": "upoN9hAqmrxe",
        "outputId": "0bc2f74e-013e-47ae-c95b-7c92903f81e6"
      },
      "source": [
        "class parent1:\n",
        "    P1 = \"\"    \n",
        "    \n",
        "    def parent1(self):\n",
        "        print(self.P1)\n",
        "class parent2:\n",
        "    P2 = \"\"    \n",
        "    \n",
        "    def parent2(self):\n",
        "        print(self.P2)\n",
        "class Son(parent1, parent2):\n",
        "    def parents(self):\n",
        "        print(\"Parent1 :\", self.P1)\n",
        "        print(\"Parent2 :\", self.P2)\n",
        "s1 = Son()\n",
        "s1.P1 = \"Ramesh\"\n",
        "s1.P2 = \"Sheela\"\n",
        "s1.parents()"
      ],
      "execution_count": 2,
      "outputs": [
        {
          "output_type": "stream",
          "text": [
            "Parent1 : Ramesh\n",
            "Parent2 : Sheela\n"
          ],
          "name": "stdout"
        }
      ]
    },
    {
      "cell_type": "code",
      "metadata": {
        "colab": {
          "base_uri": "https://localhost:8080/"
        },
        "id": "MrK4t_5_mvfB",
        "outputId": "e25367a3-e012-4d07-ea8d-1a39cc77847d"
      },
      "source": [
        "class Grandfather:\n",
        " \n",
        "    def __init__(self, grandfather_name):\n",
        "        self.grandfather_name = grandfather_name\n",
        "        \n",
        "class Father(Grandfather):\n",
        "    def __init__(self, father_name, grandfather_name):\n",
        "        self.father_name = father_name        \n",
        "        \n",
        "        Grandfather.__init__(self, grandfather_name)\n",
        "        \n",
        "class Son(Father):\n",
        "    def __init__(self,son_name, father_name, grandfather_name):\n",
        "        self.son_name = son_name        \n",
        "        \n",
        "        Father.__init__(self, father_name, grandfather_name)\n",
        " \n",
        "    def print_name(self):\n",
        "        print(\"\\n\")\n",
        "        print(self.grandfather_name)\n",
        "        print(self.father_name)\n",
        "        print(self.son_name)\n",
        "        \n",
        "s1 = Son('Child Class','Parent Class','Grandparent Class')\n",
        "print(s1.grandfather_name)\n",
        "s1.print_name()"
      ],
      "execution_count": 3,
      "outputs": [
        {
          "output_type": "stream",
          "text": [
            "Grandparent Class\n",
            "\n",
            "\n",
            "Grandparent Class\n",
            "Parent Class\n",
            "Child Class\n"
          ],
          "name": "stdout"
        }
      ]
    },
    {
      "cell_type": "code",
      "metadata": {
        "colab": {
          "base_uri": "https://localhost:8080/"
        },
        "id": "2RrPFgjCm2Bd",
        "outputId": "3cfa246d-7c9b-4760-93af-e9f12fd3f91a"
      },
      "source": [
        "class Parent:\n",
        "      def func1(self):\n",
        "          print(\"This function is in parent class.\")\n",
        "          \n",
        "class Child1(Parent):\n",
        "      def func2(self):\n",
        "          print(\"This function is in child 1.\")\n",
        "          \n",
        "class Child2(Parent):\n",
        "      def func3(self):\n",
        "          print(\"This function is in child 2.\")\n",
        "          \n",
        "object1 = Child1()\n",
        "object2 = Child2()\n",
        "object1.func1()\n",
        "object1.func2()\n",
        "object2.func1()\n",
        "object2.func3()"
      ],
      "execution_count": 4,
      "outputs": [
        {
          "output_type": "stream",
          "text": [
            "This function is in parent class.\n",
            "This function is in child 1.\n",
            "This function is in parent class.\n",
            "This function is in child 2.\n"
          ],
          "name": "stdout"
        }
      ]
    },
    {
      "cell_type": "code",
      "metadata": {
        "colab": {
          "base_uri": "https://localhost:8080/"
        },
        "id": "h3esVGH3m5zp",
        "outputId": "4a96157a-a2fa-4830-c8f0-38d4819a11d9"
      },
      "source": [
        "class College:\n",
        "     def func1(self):\n",
        "         print(\"This is college. class\")\n",
        "  \n",
        "class Student1(College):\n",
        "     def func2(self):\n",
        "         print(\"This is student 1 class\")\n",
        "  \n",
        "class Student2(College):\n",
        "     def func3(self):\n",
        "         print(\"This is student 2 class\")\n",
        "  \n",
        "class Student3(Student1, College):\n",
        "     def func4(self):\n",
        "         print(\"This is student 3 class\")\n",
        "         \n",
        "object = Student3()\n",
        "object.func1()\n",
        "object.func2()\n",
        "object.func4()"
      ],
      "execution_count": 5,
      "outputs": [
        {
          "output_type": "stream",
          "text": [
            "This is college. class\n",
            "This is student 1 class\n",
            "This is student 3 class\n"
          ],
          "name": "stdout"
        }
      ]
    }
  ]
}