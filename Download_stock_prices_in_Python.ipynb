{
  "nbformat": 4,
  "nbformat_minor": 0,
  "metadata": {
    "colab": {
      "name": "Download stock prices in Python.ipynb",
      "provenance": [],
      "authorship_tag": "ABX9TyM3AdRBXhp6IzttEisKtlU5"
    },
    "kernelspec": {
      "name": "python3",
      "display_name": "Python 3"
    }
  },
  "cells": [
    {
      "cell_type": "code",
      "metadata": {
        "id": "hE6Q540Ev0Fm",
        "colab_type": "code",
        "colab": {
          "base_uri": "https://localhost:8080/",
          "height": 428
        },
        "outputId": "de861185-135c-425f-fe35-fdd47cc9a258"
      },
      "source": [
        "import pandas as pd\n",
        "!pip install yfinance\n",
        "import yfinance as yf\n",
        "!pip install yahoofinancials\n",
        "from yahoofinancials import YahooFinancials"
      ],
      "execution_count": 5,
      "outputs": [
        {
          "output_type": "stream",
          "text": [
            "Requirement already satisfied: yfinance in /usr/local/lib/python3.6/dist-packages (0.1.54)\n",
            "Requirement already satisfied: requests>=2.20 in /usr/local/lib/python3.6/dist-packages (from yfinance) (2.23.0)\n",
            "Requirement already satisfied: pandas>=0.24 in /usr/local/lib/python3.6/dist-packages (from yfinance) (1.0.5)\n",
            "Requirement already satisfied: multitasking>=0.0.7 in /usr/local/lib/python3.6/dist-packages (from yfinance) (0.0.9)\n",
            "Requirement already satisfied: numpy>=1.15 in /usr/local/lib/python3.6/dist-packages (from yfinance) (1.18.5)\n",
            "Requirement already satisfied: certifi>=2017.4.17 in /usr/local/lib/python3.6/dist-packages (from requests>=2.20->yfinance) (2020.6.20)\n",
            "Requirement already satisfied: idna<3,>=2.5 in /usr/local/lib/python3.6/dist-packages (from requests>=2.20->yfinance) (2.9)\n",
            "Requirement already satisfied: urllib3!=1.25.0,!=1.25.1,<1.26,>=1.21.1 in /usr/local/lib/python3.6/dist-packages (from requests>=2.20->yfinance) (1.24.3)\n",
            "Requirement already satisfied: chardet<4,>=3.0.2 in /usr/local/lib/python3.6/dist-packages (from requests>=2.20->yfinance) (3.0.4)\n",
            "Requirement already satisfied: pytz>=2017.2 in /usr/local/lib/python3.6/dist-packages (from pandas>=0.24->yfinance) (2018.9)\n",
            "Requirement already satisfied: python-dateutil>=2.6.1 in /usr/local/lib/python3.6/dist-packages (from pandas>=0.24->yfinance) (2.8.1)\n",
            "Requirement already satisfied: six>=1.5 in /usr/local/lib/python3.6/dist-packages (from python-dateutil>=2.6.1->pandas>=0.24->yfinance) (1.12.0)\n",
            "Collecting yahoofinancials\n",
            "  Downloading https://files.pythonhosted.org/packages/46/be/44b0bc468a22e114f99dc6a1211f848e4ab7955f3262df589cea98f03cfd/yahoofinancials-1.5.tar.gz\n",
            "Requirement already satisfied: beautifulsoup4 in /usr/local/lib/python3.6/dist-packages (from yahoofinancials) (4.6.3)\n",
            "Requirement already satisfied: pytz in /usr/local/lib/python3.6/dist-packages (from yahoofinancials) (2018.9)\n",
            "Building wheels for collected packages: yahoofinancials\n",
            "  Building wheel for yahoofinancials (setup.py) ... \u001b[?25l\u001b[?25hdone\n",
            "  Created wheel for yahoofinancials: filename=yahoofinancials-1.5-cp36-none-any.whl size=15195 sha256=5178eba21c86543ad47cbdf29998f5b2916372414a4ec717a7dcd9bc19f80f72\n",
            "  Stored in directory: /root/.cache/pip/wheels/42/15/e7/240c5cdc8782b9479ba73404640a3be57bb4053a5c3edd6be5\n",
            "Successfully built yahoofinancials\n",
            "Installing collected packages: yahoofinancials\n",
            "Successfully installed yahoofinancials-1.5\n"
          ],
          "name": "stdout"
        }
      ]
    },
    {
      "cell_type": "code",
      "metadata": {
        "id": "NsUSFOOwm3zH",
        "colab_type": "code",
        "colab": {
          "base_uri": "https://localhost:8080/",
          "height": 235
        },
        "outputId": "5b13ebf4-ff6d-4405-c073-7e312f70636a"
      },
      "source": [
        "tsla_df = yf.download('TSLA', \n",
        "                      start='2019-01-01', \n",
        "                      end='2019-12-31', \n",
        "                      progress=False)\n",
        "tsla_df.head()"
      ],
      "execution_count": 6,
      "outputs": [
        {
          "output_type": "execute_result",
          "data": {
            "text/html": [
              "<div>\n",
              "<style scoped>\n",
              "    .dataframe tbody tr th:only-of-type {\n",
              "        vertical-align: middle;\n",
              "    }\n",
              "\n",
              "    .dataframe tbody tr th {\n",
              "        vertical-align: top;\n",
              "    }\n",
              "\n",
              "    .dataframe thead th {\n",
              "        text-align: right;\n",
              "    }\n",
              "</style>\n",
              "<table border=\"1\" class=\"dataframe\">\n",
              "  <thead>\n",
              "    <tr style=\"text-align: right;\">\n",
              "      <th></th>\n",
              "      <th>Open</th>\n",
              "      <th>High</th>\n",
              "      <th>Low</th>\n",
              "      <th>Close</th>\n",
              "      <th>Adj Close</th>\n",
              "      <th>Volume</th>\n",
              "    </tr>\n",
              "    <tr>\n",
              "      <th>Date</th>\n",
              "      <th></th>\n",
              "      <th></th>\n",
              "      <th></th>\n",
              "      <th></th>\n",
              "      <th></th>\n",
              "      <th></th>\n",
              "    </tr>\n",
              "  </thead>\n",
              "  <tbody>\n",
              "    <tr>\n",
              "      <th>2019-01-02</th>\n",
              "      <td>306.100006</td>\n",
              "      <td>315.130005</td>\n",
              "      <td>298.799988</td>\n",
              "      <td>310.119995</td>\n",
              "      <td>310.119995</td>\n",
              "      <td>11658600</td>\n",
              "    </tr>\n",
              "    <tr>\n",
              "      <th>2019-01-03</th>\n",
              "      <td>307.000000</td>\n",
              "      <td>309.399994</td>\n",
              "      <td>297.380005</td>\n",
              "      <td>300.359985</td>\n",
              "      <td>300.359985</td>\n",
              "      <td>6965200</td>\n",
              "    </tr>\n",
              "    <tr>\n",
              "      <th>2019-01-04</th>\n",
              "      <td>306.000000</td>\n",
              "      <td>318.000000</td>\n",
              "      <td>302.730011</td>\n",
              "      <td>317.690002</td>\n",
              "      <td>317.690002</td>\n",
              "      <td>7394100</td>\n",
              "    </tr>\n",
              "    <tr>\n",
              "      <th>2019-01-07</th>\n",
              "      <td>321.720001</td>\n",
              "      <td>336.739990</td>\n",
              "      <td>317.750000</td>\n",
              "      <td>334.959991</td>\n",
              "      <td>334.959991</td>\n",
              "      <td>7551200</td>\n",
              "    </tr>\n",
              "    <tr>\n",
              "      <th>2019-01-08</th>\n",
              "      <td>341.959991</td>\n",
              "      <td>344.010010</td>\n",
              "      <td>327.019989</td>\n",
              "      <td>335.350006</td>\n",
              "      <td>335.350006</td>\n",
              "      <td>7008500</td>\n",
              "    </tr>\n",
              "  </tbody>\n",
              "</table>\n",
              "</div>"
            ],
            "text/plain": [
              "                  Open        High  ...   Adj Close    Volume\n",
              "Date                                ...                      \n",
              "2019-01-02  306.100006  315.130005  ...  310.119995  11658600\n",
              "2019-01-03  307.000000  309.399994  ...  300.359985   6965200\n",
              "2019-01-04  306.000000  318.000000  ...  317.690002   7394100\n",
              "2019-01-07  321.720001  336.739990  ...  334.959991   7551200\n",
              "2019-01-08  341.959991  344.010010  ...  335.350006   7008500\n",
              "\n",
              "[5 rows x 6 columns]"
            ]
          },
          "metadata": {
            "tags": []
          },
          "execution_count": 6
        }
      ]
    },
    {
      "cell_type": "code",
      "metadata": {
        "id": "63MLgJFynRvX",
        "colab_type": "code",
        "colab": {
          "base_uri": "https://localhost:8080/",
          "height": 34
        },
        "outputId": "d75b70b8-ad9f-4599-ae0e-be0c8be637df"
      },
      "source": [
        "tsla_df = yf.download('TSLA')"
      ],
      "execution_count": 7,
      "outputs": [
        {
          "output_type": "stream",
          "text": [
            "\r[*********************100%***********************]  1 of 1 completed\n"
          ],
          "name": "stdout"
        }
      ]
    },
    {
      "cell_type": "code",
      "metadata": {
        "id": "KSZcudXUnTUV",
        "colab_type": "code",
        "colab": {
          "base_uri": "https://localhost:8080/",
          "height": 302
        },
        "outputId": "73ac02d4-08b8-43d0-9c1f-284196ec5aec"
      },
      "source": [
        "ticker = yf.Ticker('TSLA')\n",
        "\n",
        "tsla_df = ticker.history(period=\"max\")\n",
        "\n",
        "tsla_df['Close'].plot(title=\"TSLA's stock price\")"
      ],
      "execution_count": 8,
      "outputs": [
        {
          "output_type": "execute_result",
          "data": {
            "text/plain": [
              "<matplotlib.axes._subplots.AxesSubplot at 0x7f46ce7e9438>"
            ]
          },
          "metadata": {
            "tags": []
          },
          "execution_count": 8
        },
        {
          "output_type": "display_data",
          "data": {
            "image/png": "[encoded data removed]",
            "text/plain": [
              "<Figure size 432x288 with 1 Axes>"
            ]
          },
          "metadata": {
            "tags": [],
            "needs_background": "light"
          }
        }
      ]
    },
    {
      "cell_type": "code",
      "metadata": {
        "id": "gxJl44Nknc1F",
        "colab_type": "code",
        "colab": {
          "base_uri": "https://localhost:8080/",
          "height": 235
        },
        "outputId": "65282d1b-97ed-4311-da8f-627b74c9346f"
      },
      "source": [
        "yahoo_financials = YahooFinancials('TSLA')\n",
        "\n",
        "data = yahoo_financials.get_historical_price_data(start_date='2000-01-01', \n",
        "                                                  end_date='2019-12-31', \n",
        "                                                  time_interval='weekly')\n",
        "\n",
        "tsla_df = pd.DataFrame(data['TSLA']['prices'])\n",
        "tsla_df = tsla_df.drop('date', axis=1).set_index('formatted_date')\n",
        "tsla_df.head()"
      ],
      "execution_count": 9,
      "outputs": [
        {
          "output_type": "execute_result",
          "data": {
            "text/html": [
              "<div>\n",
              "<style scoped>\n",
              "    .dataframe tbody tr th:only-of-type {\n",
              "        vertical-align: middle;\n",
              "    }\n",
              "\n",
              "    .dataframe tbody tr th {\n",
              "        vertical-align: top;\n",
              "    }\n",
              "\n",
              "    .dataframe thead th {\n",
              "        text-align: right;\n",
              "    }\n",
              "</style>\n",
              "<table border=\"1\" class=\"dataframe\">\n",
              "  <thead>\n",
              "    <tr style=\"text-align: right;\">\n",
              "      <th></th>\n",
              "      <th>high</th>\n",
              "      <th>low</th>\n",
              "      <th>open</th>\n",
              "      <th>close</th>\n",
              "      <th>volume</th>\n",
              "      <th>adjclose</th>\n",
              "    </tr>\n",
              "    <tr>\n",
              "      <th>formatted_date</th>\n",
              "      <th></th>\n",
              "      <th></th>\n",
              "      <th></th>\n",
              "      <th></th>\n",
              "      <th></th>\n",
              "      <th></th>\n",
              "    </tr>\n",
              "  </thead>\n",
              "  <tbody>\n",
              "    <tr>\n",
              "      <th>2010-06-28</th>\n",
              "      <td>30.42</td>\n",
              "      <td>17.540001</td>\n",
              "      <td>19.000000</td>\n",
              "      <td>19.200001</td>\n",
              "      <td>49312000</td>\n",
              "      <td>19.200001</td>\n",
              "    </tr>\n",
              "    <tr>\n",
              "      <th>2010-07-05</th>\n",
              "      <td>20.00</td>\n",
              "      <td>14.980000</td>\n",
              "      <td>20.000000</td>\n",
              "      <td>17.400000</td>\n",
              "      <td>25550600</td>\n",
              "      <td>17.400000</td>\n",
              "    </tr>\n",
              "    <tr>\n",
              "      <th>2010-07-12</th>\n",
              "      <td>21.50</td>\n",
              "      <td>16.900000</td>\n",
              "      <td>17.950001</td>\n",
              "      <td>20.639999</td>\n",
              "      <td>15438900</td>\n",
              "      <td>20.639999</td>\n",
              "    </tr>\n",
              "    <tr>\n",
              "      <th>2010-07-19</th>\n",
              "      <td>22.25</td>\n",
              "      <td>19.500000</td>\n",
              "      <td>21.370001</td>\n",
              "      <td>21.290001</td>\n",
              "      <td>7175700</td>\n",
              "      <td>21.290001</td>\n",
              "    </tr>\n",
              "    <tr>\n",
              "      <th>2010-07-26</th>\n",
              "      <td>21.50</td>\n",
              "      <td>19.549999</td>\n",
              "      <td>21.500000</td>\n",
              "      <td>19.940001</td>\n",
              "      <td>3052000</td>\n",
              "      <td>19.940001</td>\n",
              "    </tr>\n",
              "  </tbody>\n",
              "</table>\n",
              "</div>"
            ],
            "text/plain": [
              "                 high        low       open      close    volume   adjclose\n",
              "formatted_date                                                             \n",
              "2010-06-28      30.42  17.540001  19.000000  19.200001  49312000  19.200001\n",
              "2010-07-05      20.00  14.980000  20.000000  17.400000  25550600  17.400000\n",
              "2010-07-12      21.50  16.900000  17.950001  20.639999  15438900  20.639999\n",
              "2010-07-19      22.25  19.500000  21.370001  21.290001   7175700  21.290001\n",
              "2010-07-26      21.50  19.549999  21.500000  19.940001   3052000  19.940001"
            ]
          },
          "metadata": {
            "tags": []
          },
          "execution_count": 9
        }
      ]
    },
    {
      "cell_type": "code",
      "metadata": {
        "id": "Ko3SfrCfne3N",
        "colab_type": "code",
        "colab": {}
      },
      "source": [
        "assets = ['TSLA', 'MSFT', 'FB']\n",
        "\n",
        "yahoo_financials = YahooFinancials(assets)\n",
        "\n",
        "data = yahoo_financials.get_historical_price_data(start_date='2019-01-01', \n",
        "                                                  end_date='2019-12-31', \n",
        "                                                  time_interval='weekly')\n",
        "\n",
        "prices_df = pd.DataFrame({\n",
        "    a: {x['formatted_date']: x['adjclose'] for x in data[a]['prices']} for a in assets\n",
        "})"
      ],
      "execution_count": 10,
      "outputs": []
    },
    {
      "cell_type": "code",
      "metadata": {
        "id": "PRDQp-H1nmwe",
        "colab_type": "code",
        "colab": {
          "base_uri": "https://localhost:8080/",
          "height": 282
        },
        "outputId": "ab9fe24f-70ea-489d-9338-f69ac026b99e"
      },
      "source": [
        "prices_df.plot()"
      ],
      "execution_count": 11,
      "outputs": [
        {
          "output_type": "execute_result",
          "data": {
            "text/plain": [
              "<matplotlib.axes._subplots.AxesSubplot at 0x7f46cdf1b6a0>"
            ]
          },
          "metadata": {
            "tags": []
          },
          "execution_count": 11
        },
        {
          "output_type": "display_data",
          "data": {
            "image/png": "[encoded data removed]",
            "text/plain": [
              "<Figure size 432x288 with 1 Axes>"
            ]
          },
          "metadata": {
            "tags": [],
            "needs_background": "light"
          }
        }
      ]
    }
  ]
}