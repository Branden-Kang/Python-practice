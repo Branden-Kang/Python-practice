{
  "nbformat": 4,
  "nbformat_minor": 0,
  "metadata": {
    "colab": {
      "provenance": [],
      "authorship_tag": "ABX9TyO+ItKKTE7xr+s1zXeo88MB"
    },
    "kernelspec": {
      "name": "python3",
      "display_name": "Python 3"
    },
    "language_info": {
      "name": "python"
    }
  },
  "cells": [
    {
      "cell_type": "markdown",
      "source": [
        "[Reference](https://medium.com/@badr.t/excel-file-writing-showdown-pandas-xlsxwriter-and-openpyxl-29ff5bcb4fcd)"
      ],
      "metadata": {
        "id": "m7HN28fAPgHo"
      }
    },
    {
      "cell_type": "code",
      "source": [
        "!pip install xlsxwriter"
      ],
      "metadata": {
        "colab": {
          "base_uri": "https://localhost:8080/"
        },
        "id": "yNN2cd7xPmyG",
        "outputId": "98952fca-872d-482a-f418-8bc538a376bb"
      },
      "execution_count": 3,
      "outputs": [
        {
          "output_type": "stream",
          "name": "stdout",
          "text": [
            "Collecting xlsxwriter\n",
            "  Downloading XlsxWriter-3.2.0-py3-none-any.whl (159 kB)\n",
            "\u001b[2K     \u001b[90m━━━━━━━━━━━━━━━━━━━━━━━━━━━━━━━━━━━━━━━━\u001b[0m \u001b[32m159.9/159.9 kB\u001b[0m \u001b[31m2.4 MB/s\u001b[0m eta \u001b[36m0:00:00\u001b[0m\n",
            "\u001b[?25hInstalling collected packages: xlsxwriter\n",
            "Successfully installed xlsxwriter-3.2.0\n"
          ]
        }
      ]
    },
    {
      "cell_type": "code",
      "execution_count": 1,
      "metadata": {
        "id": "GfpGSqs_O13X"
      },
      "outputs": [],
      "source": [
        "import pandas as pd\n",
        "\n",
        "# Create a sample DataFrame\n",
        "df = pd.DataFrame({'Column 1': [1, 2, 3], 'Column 2': [4, 5, 6]})\n",
        "\n",
        "# Write the DataFrame to an Excel file\n",
        "df.to_excel('example.xlsx', sheet_name='Sheet1', index=False)"
      ]
    },
    {
      "cell_type": "code",
      "source": [
        "import pandas as pd\n",
        "import xlsxwriter\n",
        "\n",
        "# Create a sample DataFrame\n",
        "data = {'Name': ['John', 'Jane', 'Tom', 'Jerry'], 'Age': [25, 30, 35, 40]}\n",
        "df = pd.DataFrame(data)\n",
        "\n",
        "# Create a new workbook and worksheet\n",
        "workbook = xlsxwriter.Workbook('example.xlsx')\n",
        "worksheet = workbook.add_worksheet()\n",
        "# Write the DataFrame's data to the worksheet\n",
        "for row_num, values in enumerate(df.values):\n",
        "    worksheet.write_row(row_num, 0, values)\n",
        "# Save the workbook\n",
        "workbook.close()"
      ],
      "metadata": {
        "id": "1RkJhi43PjHI"
      },
      "execution_count": 4,
      "outputs": []
    },
    {
      "cell_type": "code",
      "source": [
        "import openpyxl\n",
        "\n",
        "# create a new workbook\n",
        "wb = openpyxl.Workbook()\n",
        "\n",
        "# select the active worksheet\n",
        "ws = wb.active\n",
        "# add some data\n",
        "ws['A1'] = 'Name'\n",
        "ws['B1'] = 'Age'\n",
        "ws['A2'] = 'John'\n",
        "ws['B2'] = 25\n",
        "ws['A3'] = 'Jane'\n",
        "ws['B3'] = 30\n",
        "# save the workbook\n",
        "wb.save('example.xlsx')"
      ],
      "metadata": {
        "id": "gWlSJinyPkXV"
      },
      "execution_count": 5,
      "outputs": []
    }
  ]
}