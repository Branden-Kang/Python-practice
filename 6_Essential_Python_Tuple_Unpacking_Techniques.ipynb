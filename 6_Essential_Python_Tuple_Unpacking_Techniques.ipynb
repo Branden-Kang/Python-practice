{
  "nbformat": 4,
  "nbformat_minor": 0,
  "metadata": {
    "colab": {
      "name": "6 Essential Python Tuple Unpacking Techniques.ipynb",
      "provenance": [],
      "collapsed_sections": [],
      "authorship_tag": "ABX9TyNT9FDhHXXNKZf85Z1apzD5"
    },
    "kernelspec": {
      "name": "python3",
      "display_name": "Python 3"
    }
  },
  "cells": [
    {
      "cell_type": "markdown",
      "metadata": {
        "id": "zJrBgcbN9GYc"
      },
      "source": [
        "[Reference](https://betterprogramming.pub/6-essential-python-tuple-unpacking-techniques-you-can-use-fc5d56a2c5f4)"
      ]
    },
    {
      "cell_type": "code",
      "metadata": {
        "colab": {
          "base_uri": "https://localhost:8080/"
        },
        "id": "JzfHvgap9EVO",
        "outputId": "0ecc3e8c-2248-4b80-d97a-abac0511a04d"
      },
      "source": [
        "# one-to-one unpacking\n",
        "employee_data = (\"Branden\", \"Data Science\", \"Machine Learning\")\n",
        "name, speciality, major = employee_data\n",
        "print(\"Employee Name:\", name)\n",
        "print(\"Employee Speciality:\", speciality)\n",
        "print(\"Employee Major:\", major)"
      ],
      "execution_count": 6,
      "outputs": [
        {
          "output_type": "stream",
          "text": [
            "Employee Name: Branden\n",
            "Employee Speciality: Data Science\n",
            "Employee Major: Machine Learning\n"
          ],
          "name": "stdout"
        }
      ]
    },
    {
      "cell_type": "code",
      "metadata": {
        "colab": {
          "base_uri": "https://localhost:8080/"
        },
        "id": "OnquTdEr949d",
        "outputId": "9cd79f33-a8c0-406d-b2bd-8e3f27a00334"
      },
      "source": [
        "# Access Individual Values Returned From a Function\n",
        "def retrieve_employee_info(employee_id):\n",
        "     # call some functions to retrieve the data\n",
        "     employee_name = \"Branden\"\n",
        "     employee_dep = \"Data Science\"\n",
        "     return employee_name, employee_dep \n",
        " \n",
        "employee_name, employee_dep = retrieve_employee_info(20912)\n",
        "print(employee_name)\n",
        "print(employee_dep )"
      ],
      "execution_count": 7,
      "outputs": [
        {
          "output_type": "stream",
          "text": [
            "Branden\n",
            "Data Science\n"
          ],
          "name": "stdout"
        }
      ]
    },
    {
      "cell_type": "code",
      "metadata": {
        "colab": {
          "base_uri": "https://localhost:8080/"
        },
        "id": "ij0rhPhD958f",
        "outputId": "f5853123-9ea6-4dfc-dd6e-d50645504a0e"
      },
      "source": [
        "employee_data = (\"Branden\", \"Data Science\", \"Machine Learning\")\n",
        "name, _, major = employee_data\n",
        "print(f\"Name: {name}, Major: {major}\")\n",
        "print(f\"Speciality: {_}\")"
      ],
      "execution_count": 9,
      "outputs": [
        {
          "output_type": "stream",
          "text": [
            "Name: Branden, Major: Machine Learning\n",
            "Speciality: Data Science\n"
          ],
          "name": "stdout"
        }
      ]
    },
    {
      "cell_type": "code",
      "metadata": {
        "colab": {
          "base_uri": "https://localhost:8080/"
        },
        "id": "4r3PN32o97LC",
        "outputId": "9995148e-00bb-49cf-a616-0401b68bbe3c"
      },
      "source": [
        "# User * to capture all\n",
        "nums = (1, 2, 3, 4, 5, 6)\n",
        "first_num, *middle_nums, last_num = nums\n",
        "print(\"First Number:\", first_num)\n",
        "print(\"Last Number:\", last_num)\n",
        "print(\"Middle Numbers:\", middle_nums)"
      ],
      "execution_count": 10,
      "outputs": [
        {
          "output_type": "stream",
          "text": [
            "First Number: 1\n",
            "Last Number: 6\n",
            "Middle Numbers: [2, 3, 4, 5]\n"
          ],
          "name": "stdout"
        }
      ]
    },
    {
      "cell_type": "code",
      "metadata": {
        "colab": {
          "base_uri": "https://localhost:8080/"
        },
        "id": "6RCcYyNxAYaR",
        "outputId": "4c4fb6bc-027c-4e9d-e20c-5a68ba643a80"
      },
      "source": [
        "first, *middle, last = (1, 2, 3)\n",
        "print(\"Middle:\", middle)\n",
        "\n",
        "first, *middle, last = (1, 3)\n",
        "print(\"Middle:\", middle)"
      ],
      "execution_count": 12,
      "outputs": [
        {
          "output_type": "stream",
          "text": [
            "Middle: [2]\n",
            "Middle: []\n"
          ],
          "name": "stdout"
        }
      ]
    },
    {
      "cell_type": "code",
      "metadata": {
        "colab": {
          "base_uri": "https://localhost:8080/",
          "height": 147
        },
        "id": "d0zsXDkmAgGX",
        "outputId": "bb616467-4bc3-4578-8d02-b976555a7f34"
      },
      "source": [
        "# Combine underscores and asterisks\n",
        "nums = (1, 2, 3, 4, 5, 6, 7, 8, 9, 10)\n",
        "# Good unpacking\n",
        "one, *_, seven, eight, nine, ten = nums\n",
        "print(_)\n",
        "# Bad unpacking\n",
        "one, *_, middle, *big_nums, nine, ten = nums"
      ],
      "execution_count": 13,
      "outputs": [
        {
          "output_type": "stream",
          "text": [
            "[2, 3, 4, 5, 6]\n"
          ],
          "name": "stdout"
        },
        {
          "output_type": "error",
          "ename": "SyntaxError",
          "evalue": "ignored",
          "traceback": [
            "\u001b[0;36m  File \u001b[0;32m\"<ipython-input-13-26044a63710b>\"\u001b[0;36m, line \u001b[0;32m7\u001b[0m\n\u001b[0;31m    one, *_, middle, *big_nums, nine, ten = nums\u001b[0m\n\u001b[0m                                                ^\u001b[0m\n\u001b[0;31mSyntaxError\u001b[0m\u001b[0;31m:\u001b[0m two starred expressions in assignment\n"
          ]
        }
      ]
    },
    {
      "cell_type": "code",
      "metadata": {
        "colab": {
          "base_uri": "https://localhost:8080/"
        },
        "id": "mfYSWPO2A5RQ",
        "outputId": "602c94ab-3c1d-4829-e492-5d8add7db9ce"
      },
      "source": [
        "# Tuple packing and unpacking in functions\n",
        "def search_fruits(*fruits):\n",
        "     print(\"Fruits:\", fruits)\n",
        "     print(\"Type of fruits:\", type(fruits))\n",
        "     for fruit in fruits:\n",
        "         print(fruit)\n",
        " \n",
        "search_fruits(\"Kiwi\", \"Mango\", \"Apple\", \"Grape\")"
      ],
      "execution_count": 14,
      "outputs": [
        {
          "output_type": "stream",
          "text": [
            "Fruits: ('Kiwi', 'Mango', 'Apple', 'Grape')\n",
            "Type of fruits: <class 'tuple'>\n",
            "Kiwi\n",
            "Mango\n",
            "Apple\n",
            "Grape\n"
          ],
          "name": "stdout"
        }
      ]
    },
    {
      "cell_type": "code",
      "metadata": {
        "colab": {
          "base_uri": "https://localhost:8080/",
          "height": 164
        },
        "id": "dknJArWVBZev",
        "outputId": "9a2db17e-95a6-48d8-86a3-c01c9d5b49ac"
      },
      "source": [
        "first_tuple = (\"Branden\", \"James\")\n",
        "second_tuple = (*first_tuple, \"Lily\")\n",
        "print(\"First tuple:\", first_tuple)\n",
        "print(\"Second tuple:\", second_tuple)\n",
        "*first_tuple"
      ],
      "execution_count": 18,
      "outputs": [
        {
          "output_type": "stream",
          "text": [
            "First tuple: ('Branden', 'James')\n",
            "Second tuple: ('Branden', 'James', 'Lily')\n"
          ],
          "name": "stdout"
        },
        {
          "output_type": "error",
          "ename": "SyntaxError",
          "evalue": "ignored",
          "traceback": [
            "\u001b[0;36m  File \u001b[0;32m\"<ipython-input-18-d596d72116c4>\"\u001b[0;36m, line \u001b[0;32m5\u001b[0m\n\u001b[0;31m    *first_tuple\u001b[0m\n\u001b[0m                ^\u001b[0m\n\u001b[0;31mSyntaxError\u001b[0m\u001b[0;31m:\u001b[0m can't use starred expression here\n"
          ]
        }
      ]
    },
    {
      "cell_type": "code",
      "metadata": {
        "colab": {
          "base_uri": "https://localhost:8080/"
        },
        "id": "24rHhT-kCYqS",
        "outputId": "ea911654-4543-4b27-db21-668a9e79aa86"
      },
      "source": [
        "*first_tuple,"
      ],
      "execution_count": 19,
      "outputs": [
        {
          "output_type": "execute_result",
          "data": {
            "text/plain": [
              "('Branden', 'James')"
            ]
          },
          "metadata": {
            "tags": []
          },
          "execution_count": 19
        }
      ]
    },
    {
      "cell_type": "code",
      "metadata": {
        "colab": {
          "base_uri": "https://localhost:8080/"
        },
        "id": "RtIxoZ4nCkac",
        "outputId": "24456175-4044-40ce-9c1b-f5697770d5a5"
      },
      "source": [
        "print(*[1, 2, 3], 4)"
      ],
      "execution_count": 20,
      "outputs": [
        {
          "output_type": "stream",
          "text": [
            "1 2 3 4\n"
          ],
          "name": "stdout"
        }
      ]
    },
    {
      "cell_type": "code",
      "metadata": {
        "colab": {
          "base_uri": "https://localhost:8080/"
        },
        "id": "ZjfjblSsCr4T",
        "outputId": "6d457975-5240-40d9-fa2e-8ac26c20d042"
      },
      "source": [
        "print(*\"Hello\", *\"Python\")"
      ],
      "execution_count": 21,
      "outputs": [
        {
          "output_type": "stream",
          "text": [
            "H e l l o P y t h o n\n"
          ],
          "name": "stdout"
        }
      ]
    }
  ]
}