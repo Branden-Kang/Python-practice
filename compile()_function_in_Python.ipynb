{
  "nbformat": 4,
  "nbformat_minor": 0,
  "metadata": {
    "colab": {
      "provenance": [],
      "authorship_tag": "ABX9TyPdzkd6PXU702DSzIGKjjzP"
    },
    "kernelspec": {
      "name": "python3",
      "display_name": "Python 3"
    },
    "language_info": {
      "name": "python"
    }
  },
  "cells": [
    {
      "cell_type": "markdown",
      "source": [
        "[Reference](https://python.plainenglish.io/i-explored-pythons-powerful-compile-function-and-discovered-e315d23b8e7e)"
      ],
      "metadata": {
        "id": "eRyLg-nycmz3"
      }
    },
    {
      "cell_type": "code",
      "execution_count": 1,
      "metadata": {
        "colab": {
          "base_uri": "https://localhost:8080/"
        },
        "id": "YmprwFHAb2jI",
        "outputId": "5cfc1c55-e90d-4e23-827e-190e7fdb925f"
      },
      "outputs": [
        {
          "output_type": "stream",
          "name": "stdout",
          "text": [
            "Hello, Medium Community!\n"
          ]
        }
      ],
      "source": [
        "code = \"print('Hello, Medium Community!')\"\n",
        "compiled_code = compile(code, \"<string>\", \"exec\")\n",
        "exec(compiled_code)"
      ]
    },
    {
      "cell_type": "code",
      "source": [
        "expression = \"7 + 5 * 4\"\n",
        "compiled_expression = compile(expression, \"<string>\", \"eval\")\n",
        "result = eval(compiled_expression)\n",
        "print(result)"
      ],
      "metadata": {
        "colab": {
          "base_uri": "https://localhost:8080/"
        },
        "id": "j1nctwqEcsY8",
        "outputId": "26fb1b89-fa3f-4a00-df94-6ecba6b45ae2"
      },
      "execution_count": 2,
      "outputs": [
        {
          "output_type": "stream",
          "name": "stdout",
          "text": [
            "27\n"
          ]
        }
      ]
    },
    {
      "cell_type": "code",
      "source": [
        "function_def = \"\"\"\n",
        "def multiply(x, y):\n",
        "    return x * y\n",
        "\"\"\"\n",
        "compiled_function_def = compile(function_def, \"<string>\", \"exec\")\n",
        "exec(compiled_function_def)\n",
        "\n",
        "result = multiply(7, 8)\n",
        "print(result)"
      ],
      "metadata": {
        "colab": {
          "base_uri": "https://localhost:8080/"
        },
        "id": "Xb9rW5Cfctnz",
        "outputId": "54fae1c3-2db0-482d-bb6e-3f89843e7c4f"
      },
      "execution_count": 3,
      "outputs": [
        {
          "output_type": "stream",
          "name": "stdout",
          "text": [
            "56\n"
          ]
        }
      ]
    }
  ]
}