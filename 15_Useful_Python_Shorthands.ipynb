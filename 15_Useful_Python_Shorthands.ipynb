{
  "nbformat": 4,
  "nbformat_minor": 0,
  "metadata": {
    "colab": {
      "name": "15 Useful Python Shorthands.ipynb",
      "provenance": [],
      "authorship_tag": "ABX9TyOIK+eeUO1Ms5KqdhAmnVg5"
    },
    "kernelspec": {
      "name": "python3",
      "display_name": "Python 3"
    },
    "language_info": {
      "name": "python"
    }
  },
  "cells": [
    {
      "cell_type": "markdown",
      "metadata": {
        "id": "7RrZrXDLWfJP"
      },
      "source": [
        "[Reference](https://medium.com/geekculture/15-useful-python-shorthands-facb09740afa)"
      ]
    },
    {
      "cell_type": "markdown",
      "metadata": {
        "id": "-xgzmEQ0WiAT"
      },
      "source": [
        "# 1. One-Liner If-Else"
      ]
    },
    {
      "cell_type": "code",
      "metadata": {
        "colab": {
          "base_uri": "https://localhost:8080/"
        },
        "id": "tSWywb7aVvTm",
        "outputId": "6c4a1978-dc54-4fcc-d425-2609059903e0"
      },
      "source": [
        "isReady = False\n",
        "\n",
        "# A regular if-else\n",
        "if isReady:\n",
        "    print(\"Yay\")\n",
        "else:\n",
        "    print(\"Nope\")\n",
        "    \n",
        "# A neat little shorthand\n",
        "print(\"Yay\") if isReady else print(\"Nope\")"
      ],
      "execution_count": 1,
      "outputs": [
        {
          "output_type": "stream",
          "text": [
            "Nope\n",
            "Nope\n"
          ],
          "name": "stdout"
        }
      ]
    },
    {
      "cell_type": "markdown",
      "metadata": {
        "id": "NCqU2j9wWlU9"
      },
      "source": [
        "# 2. One-Liner Functions"
      ]
    },
    {
      "cell_type": "code",
      "metadata": {
        "id": "_yuhdQDMWj7y"
      },
      "source": [
        "# Usually methods are defined on multiple lines\n",
        "def sum(n1, n2):\n",
        "    return n1+n2\n",
        "\n",
        "# But there is a shorthand\n",
        "def sum(n1, n2): return n1+n2"
      ],
      "execution_count": 2,
      "outputs": []
    },
    {
      "cell_type": "markdown",
      "metadata": {
        "id": "3N8I4zpmWoz_"
      },
      "source": [
        "# 3. Swap Two Variables without a Helper Variable"
      ]
    },
    {
      "cell_type": "code",
      "metadata": {
        "colab": {
          "base_uri": "https://localhost:8080/"
        },
        "id": "VugRn-ICWnvS",
        "outputId": "ec3147d4-deb7-4d8f-802b-9c017fad6728"
      },
      "source": [
        "a = 1\n",
        "b = 2\n",
        "\n",
        "a, b = b, a\n",
        "print(a)\n",
        "print(b)"
      ],
      "execution_count": 3,
      "outputs": [
        {
          "output_type": "stream",
          "text": [
            "2\n",
            "1\n"
          ],
          "name": "stdout"
        }
      ]
    },
    {
      "cell_type": "markdown",
      "metadata": {
        "id": "CQJJ0415WshQ"
      },
      "source": [
        "# 4. Chain Comparisons"
      ]
    },
    {
      "cell_type": "code",
      "metadata": {
        "colab": {
          "base_uri": "https://localhost:8080/"
        },
        "id": "jtAb5m7JWq4d",
        "outputId": "8b4513d4-be35-4b41-f32f-a8bb7b31806e"
      },
      "source": [
        "x = 100\n",
        "x > 0 and x < 200"
      ],
      "execution_count": 5,
      "outputs": [
        {
          "output_type": "execute_result",
          "data": {
            "text/plain": [
              "True"
            ]
          },
          "metadata": {
            "tags": []
          },
          "execution_count": 5
        }
      ]
    },
    {
      "cell_type": "code",
      "metadata": {
        "colab": {
          "base_uri": "https://localhost:8080/"
        },
        "id": "hp6l4WMJWt1B",
        "outputId": "18bce5ca-ad02-4919-d380-44dd146ebe08"
      },
      "source": [
        "0 < x < 200"
      ],
      "execution_count": 6,
      "outputs": [
        {
          "output_type": "execute_result",
          "data": {
            "text/plain": [
              "True"
            ]
          },
          "metadata": {
            "tags": []
          },
          "execution_count": 6
        }
      ]
    },
    {
      "cell_type": "markdown",
      "metadata": {
        "id": "3_FVPgyUWxOi"
      },
      "source": [
        "# 5. One-Liner For-Loops"
      ]
    },
    {
      "cell_type": "code",
      "metadata": {
        "colab": {
          "base_uri": "https://localhost:8080/"
        },
        "id": "QQ7dBDFXWv7b",
        "outputId": "0b3ec633-db5e-4059-8465-9ee1bbc120e3"
      },
      "source": [
        "numbers = [1, 2, 3, 4, 5]\n",
        "[num * num for num in numbers]"
      ],
      "execution_count": 7,
      "outputs": [
        {
          "output_type": "execute_result",
          "data": {
            "text/plain": [
              "[1, 4, 9, 16, 25]"
            ]
          },
          "metadata": {
            "tags": []
          },
          "execution_count": 7
        }
      ]
    },
    {
      "cell_type": "code",
      "metadata": {
        "colab": {
          "base_uri": "https://localhost:8080/"
        },
        "id": "04B4tVf-WzaQ",
        "outputId": "e1ece385-10a0-45c0-94ae-139f32398e92"
      },
      "source": [
        "dict1 = {'a': 1, 'b': 2, 'c': 3, 'd': 4}\n",
        "{ key: num * num for (key, num) in dict1.items() }"
      ],
      "execution_count": 8,
      "outputs": [
        {
          "output_type": "execute_result",
          "data": {
            "text/plain": [
              "{'a': 1, 'b': 4, 'c': 9, 'd': 16}"
            ]
          },
          "metadata": {
            "tags": []
          },
          "execution_count": 8
        }
      ]
    },
    {
      "cell_type": "markdown",
      "metadata": {
        "id": "jzx_8VsfW2se"
      },
      "source": [
        "# 6. Lambda Expressions"
      ]
    },
    {
      "cell_type": "code",
      "metadata": {
        "colab": {
          "base_uri": "https://localhost:8080/"
        },
        "id": "trcS0g_UW1cy",
        "outputId": "28d4648b-a1c9-407d-f0d5-003f47578a81"
      },
      "source": [
        "lambda x : x * 3"
      ],
      "execution_count": 9,
      "outputs": [
        {
          "output_type": "execute_result",
          "data": {
            "text/plain": [
              "<function __main__.<lambda>>"
            ]
          },
          "metadata": {
            "tags": []
          },
          "execution_count": 9
        }
      ]
    },
    {
      "cell_type": "code",
      "metadata": {
        "colab": {
          "base_uri": "https://localhost:8080/"
        },
        "id": "DAeWAJpdW4C0",
        "outputId": "bdd0012a-fb4d-407e-b81b-3356ce45ab45"
      },
      "source": [
        "numbers = [1, 2, 3, 4, 5, 6]\n",
        "list(filter(lambda x : x % 2 == 0 , numbers))"
      ],
      "execution_count": 10,
      "outputs": [
        {
          "output_type": "execute_result",
          "data": {
            "text/plain": [
              "[2, 4, 6]"
            ]
          },
          "metadata": {
            "tags": []
          },
          "execution_count": 10
        }
      ]
    },
    {
      "cell_type": "markdown",
      "metadata": {
        "id": "Y_ivfQV_W9d3"
      },
      "source": [
        "# 7. Repeat Strings without Using Loops"
      ]
    },
    {
      "cell_type": "code",
      "metadata": {
        "colab": {
          "base_uri": "https://localhost:8080/",
          "height": 37
        },
        "id": "5UVWBJkoW8K1",
        "outputId": "e1f2cdcc-07b0-4fc7-fd77-930a2a092e6c"
      },
      "source": [
        "\"word\" * 4"
      ],
      "execution_count": 11,
      "outputs": [
        {
          "output_type": "execute_result",
          "data": {
            "application/vnd.google.colaboratory.intrinsic+json": {
              "type": "string"
            },
            "text/plain": [
              "'wordwordwordword'"
            ]
          },
          "metadata": {
            "tags": []
          },
          "execution_count": 11
        }
      ]
    },
    {
      "cell_type": "markdown",
      "metadata": {
        "id": "fOkanmsZW_yK"
      },
      "source": [
        "# 8. Reverse a String"
      ]
    },
    {
      "cell_type": "code",
      "metadata": {
        "colab": {
          "base_uri": "https://localhost:8080/",
          "height": 37
        },
        "id": "7knquKITW-vr",
        "outputId": "ac5f0530-d102-443a-df62-b4a71ad628e7"
      },
      "source": [
        "sentence = \"This is just a test\"\n",
        "sentence[::-1]"
      ],
      "execution_count": 12,
      "outputs": [
        {
          "output_type": "execute_result",
          "data": {
            "application/vnd.google.colaboratory.intrinsic+json": {
              "type": "string"
            },
            "text/plain": [
              "'tset a tsuj si sihT'"
            ]
          },
          "metadata": {
            "tags": []
          },
          "execution_count": 12
        }
      ]
    },
    {
      "cell_type": "markdown",
      "metadata": {
        "id": "qsWxXH-OXCWX"
      },
      "source": [
        "# 9. Simplify If-Statement Conditions"
      ]
    },
    {
      "cell_type": "code",
      "metadata": {
        "id": "G_ZZitCuXBaG"
      },
      "source": [
        "n = 0\n",
        "if n == 0 or n == 1 or n == 2 or n == 3 or n == 4 or n == 5:\n",
        "    pass"
      ],
      "execution_count": 15,
      "outputs": []
    },
    {
      "cell_type": "code",
      "metadata": {
        "id": "KEqb0RDBXDzb"
      },
      "source": [
        "if n in [0, 1, 2, 3, 4, 5]:\n",
        "    pass"
      ],
      "execution_count": 16,
      "outputs": []
    },
    {
      "cell_type": "markdown",
      "metadata": {
        "id": "AOdZmGgEXLL_"
      },
      "source": [
        "# 10. Find the Most Frequent Element of a List"
      ]
    },
    {
      "cell_type": "code",
      "metadata": {
        "colab": {
          "base_uri": "https://localhost:8080/"
        },
        "id": "b3jw8q-6XI5q",
        "outputId": "c21d9e10-2e5c-4fc8-929b-12018379a5f7"
      },
      "source": [
        "nums = [2, 2, 6, 2, 2, 3, 4, 2, 113, 2, 1]\n",
        "max(set(nums), key = nums.count)"
      ],
      "execution_count": 17,
      "outputs": [
        {
          "output_type": "execute_result",
          "data": {
            "text/plain": [
              "2"
            ]
          },
          "metadata": {
            "tags": []
          },
          "execution_count": 17
        }
      ]
    },
    {
      "cell_type": "markdown",
      "metadata": {
        "id": "4Inww8vrXOIj"
      },
      "source": [
        "# 11. Tear Values to Variables from a List"
      ]
    },
    {
      "cell_type": "code",
      "metadata": {
        "colab": {
          "base_uri": "https://localhost:8080/"
        },
        "id": "TqXf8r-2XM8s",
        "outputId": "0431a7a5-a241-4db5-bf72-9561e8b0cfd6"
      },
      "source": [
        "arr = [1, 2, 3]\n",
        "a, b, c = arr\n",
        "print(a, b, c)"
      ],
      "execution_count": 18,
      "outputs": [
        {
          "output_type": "stream",
          "text": [
            "1 2 3\n"
          ],
          "name": "stdout"
        }
      ]
    },
    {
      "cell_type": "markdown",
      "metadata": {
        "id": "xsFc9MICXR9X"
      },
      "source": [
        "# 12. F-Strings"
      ]
    },
    {
      "cell_type": "code",
      "metadata": {
        "colab": {
          "base_uri": "https://localhost:8080/"
        },
        "id": "Rxhki9rNXREt",
        "outputId": "267f951c-e9df-407f-d411-917624f8241b"
      },
      "source": [
        "name = \"Matt\"\n",
        "age = 25\n",
        "\n",
        "sentence = f\"Hi, I'm {name} and I'm {age} years old\"\n",
        "print(sentence)"
      ],
      "execution_count": 19,
      "outputs": [
        {
          "output_type": "stream",
          "text": [
            "Hi, I'm Matt and I'm 25 years old\n"
          ],
          "name": "stdout"
        }
      ]
    },
    {
      "cell_type": "markdown",
      "metadata": {
        "id": "miKR3XMWXVfu"
      },
      "source": [
        "# 13. Simulate Coin Toss"
      ]
    },
    {
      "cell_type": "code",
      "metadata": {
        "colab": {
          "base_uri": "https://localhost:8080/",
          "height": 37
        },
        "id": "1CN9zWlNXTvC",
        "outputId": "8ff925d3-2740-445b-c234-31b9bec0a490"
      },
      "source": [
        "import random\n",
        "random.choice(['Head',\"Tail\"])"
      ],
      "execution_count": 20,
      "outputs": [
        {
          "output_type": "execute_result",
          "data": {
            "application/vnd.google.colaboratory.intrinsic+json": {
              "type": "string"
            },
            "text/plain": [
              "'Head'"
            ]
          },
          "metadata": {
            "tags": []
          },
          "execution_count": 20
        }
      ]
    },
    {
      "cell_type": "markdown",
      "metadata": {
        "id": "28wdtrYrXZdc"
      },
      "source": [
        "# 14. Join a List of Strings to One String"
      ]
    },
    {
      "cell_type": "code",
      "metadata": {
        "colab": {
          "base_uri": "https://localhost:8080/",
          "height": 37
        },
        "id": "di-vuSxKXXXG",
        "outputId": "c3d2e50b-64a6-4f31-fcad-c1720fcfdb59"
      },
      "source": [
        "words = [\"This\", \"is\", \"a\", \"Test\"]\n",
        "\" \".join(words)"
      ],
      "execution_count": 21,
      "outputs": [
        {
          "output_type": "execute_result",
          "data": {
            "application/vnd.google.colaboratory.intrinsic+json": {
              "type": "string"
            },
            "text/plain": [
              "'This is a Test'"
            ]
          },
          "metadata": {
            "tags": []
          },
          "execution_count": 21
        }
      ]
    },
    {
      "cell_type": "markdown",
      "metadata": {
        "id": "k1S34gYNXcRZ"
      },
      "source": [
        "# 15. Create an Enumeration"
      ]
    },
    {
      "cell_type": "code",
      "metadata": {
        "id": "FuI0cEUQXa_2"
      },
      "source": [
        "def move(direction):\n",
        "    if direction == \"North\":\n",
        "        print(\"Moving North\")\n",
        "    elif direction == \"East\":\n",
        "        print(\"Moving East\")\n",
        "    elif direction == \"South\":\n",
        "        print(\"Moving South\")\n",
        "    elif direction == \"West\":\n",
        "        print(\"Moving West\")"
      ],
      "execution_count": 22,
      "outputs": []
    },
    {
      "cell_type": "code",
      "metadata": {
        "id": "klW9dsw2Xeou"
      },
      "source": [
        "class Direction:\n",
        "    NORTH=1\n",
        "    EAST=2\n",
        "    SOUTH=3\n",
        "    WEST=4"
      ],
      "execution_count": 23,
      "outputs": []
    },
    {
      "cell_type": "code",
      "metadata": {
        "id": "cM2rpPC2Xf6y"
      },
      "source": [
        "def move(direction):\n",
        "    if direction == Direction.NORTH:\n",
        "        print(\"Moving North\")\n",
        "    elif direction == Direction.EAST:\n",
        "        print(\"Moving East\")\n",
        "    elif direction == Direction.SOUTH:\n",
        "        print(\"Moving South\")\n",
        "    elif direction == Direction.WEST:\n",
        "        print(\"Moving West\")"
      ],
      "execution_count": 24,
      "outputs": []
    }
  ]
}