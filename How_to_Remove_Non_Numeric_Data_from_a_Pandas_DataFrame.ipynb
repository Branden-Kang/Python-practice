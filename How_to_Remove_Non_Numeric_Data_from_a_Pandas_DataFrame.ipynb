{
  "nbformat": 4,
  "nbformat_minor": 0,
  "metadata": {
    "colab": {
      "provenance": [],
      "authorship_tag": "ABX9TyNy3e5V4Z19ELsHkJokDgiL"
    },
    "kernelspec": {
      "name": "python3",
      "display_name": "Python 3"
    },
    "language_info": {
      "name": "python"
    }
  },
  "cells": [
    {
      "cell_type": "markdown",
      "source": [
        "[Reference](https://medium.com/@tubelwj/how-to-remove-non-numeric-data-from-a-pandas-dataframe-c506ab9dbbbd)"
      ],
      "metadata": {
        "id": "KQGLvOM9SAjq"
      }
    },
    {
      "cell_type": "markdown",
      "source": [
        "# Using the `pd.to_numeric` function"
      ],
      "metadata": {
        "id": "7jdi_EEkSEGK"
      }
    },
    {
      "cell_type": "code",
      "execution_count": 1,
      "metadata": {
        "colab": {
          "base_uri": "https://localhost:8080/"
        },
        "id": "CMEi_b7bRXhw",
        "outputId": "6beca9a9-ef5c-44f1-cb50-90a0f486daa2"
      },
      "outputs": [
        {
          "output_type": "stream",
          "name": "stdout",
          "text": [
            "    name  salary\n",
            "0   Adam   150.0\n",
            "1   Bill  5000.0\n",
            "3  David  1000.0\n"
          ]
        }
      ],
      "source": [
        "import pandas as pd\n",
        "\n",
        "# Create an example DataFrame\n",
        "df = pd.DataFrame({\n",
        "    \"name\": [\"Adam\", \"Bill\", \"Charlie\", \"David\", \"Eva\"],\n",
        "    \"salary\": [\"150.00\", \"5000\", \"-\", \"1000\", \"10%\"]\n",
        "})\n",
        "\n",
        "# Convert the 'salary' column to numeric type; set non-numeric values to NaN\n",
        "df[\"salary\"] = pd.to_numeric(df[\"salary\"], errors=\"coerce\")\n",
        "\n",
        "# Drop rows containing NaN in the 'salary' column\n",
        "df.dropna(subset=[\"salary\"], inplace=True)\n",
        "\n",
        "# Print the result\n",
        "print(df)"
      ]
    },
    {
      "cell_type": "markdown",
      "source": [
        "# Using the `str.isdecimal` method"
      ],
      "metadata": {
        "id": "CQ9RylifSHI2"
      }
    },
    {
      "cell_type": "code",
      "source": [
        "import pandas as pd\n",
        "\n",
        "# Create an example DataFrame\n",
        "df = pd.DataFrame({\n",
        "    \"name\": [\"Adam\", \"Bill\", \"Charlie\", \"David\", \"Eva\"],\n",
        "    \"score\": [\"190\", \"A\", \"90\", \"100%\", \"B\"]\n",
        "})\n",
        "\n",
        "# Check if the 'score' column is of numeric type, returning a boolean series\n",
        "is_numeric = df[\"score\"].str.isdecimal()\n",
        "\n",
        "# Use boolean indexing to select rows that meet the condition\n",
        "df = df[is_numeric]\n",
        "\n",
        "# Print the result\n",
        "print(df)"
      ],
      "metadata": {
        "colab": {
          "base_uri": "https://localhost:8080/"
        },
        "id": "OvzonOpySF84",
        "outputId": "b8c66323-2e1c-49aa-a148-158432bf9659"
      },
      "execution_count": 2,
      "outputs": [
        {
          "output_type": "stream",
          "name": "stdout",
          "text": [
            "      name score\n",
            "0     Adam   190\n",
            "2  Charlie    90\n"
          ]
        }
      ]
    },
    {
      "cell_type": "markdown",
      "source": [
        "# Using Regular Expressions"
      ],
      "metadata": {
        "id": "3DaD-g-oSRxk"
      }
    },
    {
      "cell_type": "code",
      "source": [
        "import pandas as pd\n",
        "\n",
        "# Create an example DataFrame\n",
        "df = pd.DataFrame({\n",
        "    \"name\": [\"Apple\", \"Banana\", \"Carrot\", \"Durian\", \"Eggplant\"],\n",
        "    \"price\": [\"$2.00\", \"Free\", \"1.50\", \"N/A\", \"$15.00\"]\n",
        "})\n",
        "\n",
        "# Define a regular expression to match the format of numeric types, e.g., 1.00, -0.50, 1,234.56, etc.\n",
        "regex = r\"^[-+]?\\d{1,3}(,\\d{3})*(\\.\\d+)?$\"\n",
        "\n",
        "# Use the str.match method to match the 'price' column based on the regular expression; returns a boolean series\n",
        "is_numeric = df[\"price\"].str.match(regex)\n",
        "\n",
        "# Use boolean indexing to select rows that meet the condition\n",
        "df = df[is_numeric]\n",
        "\n",
        "# Print the result\n",
        "print(df)"
      ],
      "metadata": {
        "colab": {
          "base_uri": "https://localhost:8080/"
        },
        "id": "kAcLR9oCSIbo",
        "outputId": "6c5001d3-229c-42a9-e4c7-832b7816a0bc"
      },
      "execution_count": 3,
      "outputs": [
        {
          "output_type": "stream",
          "name": "stdout",
          "text": [
            "     name price\n",
            "2  Carrot  1.50\n"
          ]
        }
      ]
    }
  ]
}