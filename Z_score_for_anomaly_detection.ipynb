{
  "nbformat": 4,
  "nbformat_minor": 0,
  "metadata": {
    "colab": {
      "name": "Z-score for anomaly detection.ipynb",
      "provenance": [],
      "authorship_tag": "ABX9TyNGBKuHuZLLqQRl7VEzeygD"
    },
    "kernelspec": {
      "name": "python3",
      "display_name": "Python 3"
    },
    "language_info": {
      "name": "python"
    }
  },
  "cells": [
    {
      "cell_type": "markdown",
      "metadata": {
        "id": "yk5cyQGOpdEQ"
      },
      "source": [
        "[Reference](https://towardsdatascience.com/z-score-for-anomaly-detection-d98b0006f510)"
      ]
    },
    {
      "cell_type": "code",
      "metadata": {
        "colab": {
          "base_uri": "https://localhost:8080/"
        },
        "id": "Wp0nH7yJpbr6",
        "outputId": "b79aed2a-2c03-4c29-ecdb-7be382220c6f"
      },
      "source": [
        "# import numpy\n",
        "import numpy as np\n",
        "\n",
        "# random data points to calculate z-score\n",
        "data = [5, 5, 5, -99, 5, 5, 5, 5, 5, 5, 88, 5, 5, 5]\n",
        "        \n",
        "# calculate mean\n",
        "mean = np.mean(data) \n",
        "\n",
        "# calculate standard deviation\n",
        "sd = np.std(data)\n",
        "\n",
        "# determine a threhold\n",
        "threshold = 2\n",
        "\n",
        "# create empty list to store outliers\n",
        "outliers = []\n",
        "\n",
        "# detect outlier\n",
        "for i in data: \n",
        "    z = (i-mean)/sd # calculate z-score\n",
        "    if abs(z) > threshold:  # identify outliers\n",
        "        outliers.append(i) # add to the empty list\n",
        "# print outliers    \n",
        "print(\"The detected outliers are: \", outliers)"
      ],
      "execution_count": 2,
      "outputs": [
        {
          "output_type": "stream",
          "text": [
            "The detected outliers are:  [-99, 88]\n"
          ],
          "name": "stdout"
        }
      ]
    }
  ]
}