{
  "nbformat": 4,
  "nbformat_minor": 0,
  "metadata": {
    "colab": {
      "name": "DRY with Python decorators.ipynb",
      "provenance": [],
      "authorship_tag": "ABX9TyMC/XHZDbxvBqBlLSIKLpsc"
    },
    "kernelspec": {
      "name": "python3",
      "display_name": "Python 3"
    }
  },
  "cells": [
    {
      "cell_type": "markdown",
      "metadata": {
        "id": "GjyFiqjROvJW"
      },
      "source": [
        "[Reference](https://medium.com/wehkamp-techblog/implementing-dry-with-python-decorators-a5b7c68b6b64)"
      ]
    },
    {
      "cell_type": "code",
      "metadata": {
        "id": "Rk8S8p5wOt59"
      },
      "source": [
        "@app.route('/')\n",
        "def index():\n",
        "  return 'Welcome to my website!'"
      ],
      "execution_count": 2,
      "outputs": []
    },
    {
      "cell_type": "code",
      "metadata": {
        "id": "C78POpLdOzqV"
      },
      "source": [
        "DATABASE_MODELS = []\n",
        "\n",
        "def register(f):\n",
        "  GLOBAL_ARRAY.append(f)\n",
        "  return f\n",
        "\n",
        "\n",
        "@register\n",
        "class MyModel(DatabaseModel):\n",
        "  pass\n",
        "\n",
        "\n",
        "def setup_db():\n",
        "  for model in DATABASE_MODEL:\n",
        "    # Setup the models table"
      ],
      "execution_count": 3,
      "outputs": []
    },
    {
      "cell_type": "code",
      "metadata": {
        "id": "t1mmgdZlO31b"
      },
      "source": [
        "import functools\n",
        "from datetime import datetime\n",
        "\n",
        "from flask import request\n",
        "from peewee import *\n",
        "from playhouse.postgres_ext import *\n",
        "\n",
        "class AuditModel(Model):\n",
        "  id = AutoField()\n",
        "  user = TextField()\n",
        "  action = TextField()\n",
        "  timestamp = DateTimeField()\n",
        "  metadata = BinaryJSONField()\n",
        "  \n",
        "  abort = False\n",
        "  \n",
        "  class Meta:\n",
        "    db_table = 'audits'"
      ],
      "execution_count": 4,
      "outputs": []
    },
    {
      "cell_type": "code",
      "metadata": {
        "id": "CZllffJbO66m"
      },
      "source": [
        "@staticmethod\n",
        "def log(f=None):\n",
        "  def deco(f):\n",
        "    @functools.wraps(f)\n",
        "    def func(*args, **kwargs):\n",
        "      audit = AuditModel()\n",
        "      user = request.headers.get(\"X-Auth-User\")\n",
        "      if user is None:\n",
        "        return 'UNAUTHORIZED. Please provide X-Auth-User header.', 403\n",
        "      audit.user = user\n",
        "      audit.action = f'{f.__module__}.{f.__name__}'\n",
        "      audit.timestamp = datetime.utcnow()\n",
        "      if 'audit' in f.__code__.co_varnames:\n",
        "        kwargs['audit'] = audit\n",
        "      result = f(*args, **kwargs)\n",
        "      if not audit.abort:\n",
        "        audit.save(force_insert=True)\n",
        "      return result\n",
        "    return func\n",
        "\n",
        "  if f and callable(f):\n",
        "    return deco(f)\n",
        "\n",
        "  return deco\n"
      ],
      "execution_count": 5,
      "outputs": []
    },
    {
      "cell_type": "code",
      "metadata": {
        "id": "pVk9eAWsO9wi"
      },
      "source": [
        "@app.route('/item/<int:item>', methods=['DELETE'])\n",
        "@AuditModel.log\n",
        "def clear_all(item, audit):\n",
        "  audit.metadata = { 'item_id': item }\n",
        "  \n",
        "  # DELETE item\n",
        "  \n",
        "  return '', 204"
      ],
      "execution_count": 6,
      "outputs": []
    },
    {
      "cell_type": "code",
      "metadata": {
        "id": "GTlA7G8APCxr"
      },
      "source": [
        "@staticmethod\n",
        "def prefetch(f=None):\n",
        "  def deco(f):\n",
        "    @functools.wraps(f)\n",
        "    def func(*args, **kwargs):\n",
        "      try:\n",
        "        item = Item.get(\n",
        "          Item.id == kwargs.pop('item')\n",
        "        )\n",
        "        return f(item, *args, **kwargs)\n",
        "      except Item.DoesNotExist:\n",
        "        return 'Item not found', 404\n",
        "    return func\n",
        "\n",
        "  if f and callable(f):\n",
        "    return deco(f)\n",
        "\n",
        "  return deco"
      ],
      "execution_count": 7,
      "outputs": []
    },
    {
      "cell_type": "code",
      "metadata": {
        "id": "5M5ap1ZMPFVx"
      },
      "source": [
        "@app.route('/item/<int:item>', methods=['DELETE'])\n",
        "@Item.prefetch\n",
        "@AuditModel.log\n",
        "def clear_all(item, audit):\n",
        "  audit.metadata = { 'item_id': item.id }\n",
        "  \n",
        "  print(item) # Item instance. Not an int anymore\n",
        "  # DELETE item\n",
        "  \n",
        "  return '', 204"
      ],
      "execution_count": 8,
      "outputs": []
    }
  ]
}