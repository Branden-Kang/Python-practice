{
  "nbformat": 4,
  "nbformat_minor": 0,
  "metadata": {
    "colab": {
      "name": "Typer — The Command Line Script Framework You Should Use.ipynb",
      "provenance": [],
      "authorship_tag": "ABX9TyP9xzZq6XhUVPybTMjJVLIW"
    },
    "kernelspec": {
      "name": "python3",
      "display_name": "Python 3"
    },
    "language_info": {
      "name": "python"
    }
  },
  "cells": [
    {
      "cell_type": "markdown",
      "metadata": {
        "id": "Si9aayDb2ZcF"
      },
      "source": [
        "[Reference](https://medium.com/short-bits/typer-the-command-line-script-framework-you-should-use-de9d07109f54)"
      ]
    },
    {
      "cell_type": "code",
      "metadata": {
        "id": "GOmtTSF02PlD"
      },
      "source": [
        "import typer\n",
        "\n",
        "def main(name: str):\n",
        "    typer.echo(f\"Hello {name}\")\n",
        "\n",
        "if __name__ ==\"__main__\":\n",
        "    typer.run(main)"
      ],
      "execution_count": 3,
      "outputs": []
    },
    {
      "cell_type": "code",
      "metadata": {
        "id": "ZjzlFPlD3agR"
      },
      "source": [
        "\"\"\"\n",
        "Copyright <<year>> <<insert publisher name>>\n",
        "DESCRIPTION:\n",
        "    this is a sample Typer CLI layout\n",
        "USAGE EXAMPLE:\n",
        "    > python template_simple_cli.py example_cmd\n",
        "\"\"\"\n",
        "\n",
        "\n",
        "# ::IMPORTS ------------------------------------------------------------------------ #\n",
        "\n",
        "# cli framework - https://pypi.org/project/typer/\n",
        "import typer\n",
        "\n",
        "# data types for validation - https://docs.python.org/3/library/typing.html\n",
        "from typing import Optional\n",
        "\n",
        "# cross platform path handling - https://docs.python.org/3/library/pathlib.html\n",
        "from pathlib import Path\n",
        "\n",
        "# ::SETUP -------------------------------------------------------------------------- #\n",
        "app = typer.Typer(add_completion=False)\n",
        "\n",
        "# ::SETUP SUBPARSERS --------------------------------------------------------------- #\n",
        "# app.add_typer(<<module.app>>, name=\"subparser\")\n",
        "\n",
        "# ::CORE LOGIC --------------------------------------------------------------------- #\n",
        "# place core script logic here and call functions\n",
        "# from the cli command functions to separate CLI from business logic\n",
        "\n",
        "# ::CLI ---------------------------------------------------------------------------- #\n",
        "@app.command()\n",
        "def example_cmd():\n",
        "    print(\"hello typer!\")\n",
        "\n",
        "\n",
        "@app.command()\n",
        "def example_cmd_args(\n",
        "    name: str,\n",
        "    last_name: str = typer.Option(default=\"<unknown>\"),\n",
        "    age: Optional[str] = typer.Argument(None),\n",
        "):\n",
        "    print(f\"name:{name}  last-name:{last_name}  age:{age}\")\n",
        "\n",
        "\n",
        "# ::EXECUTE ------------------------------------------------------------------------ #\n",
        "def main():\n",
        "    app()\n",
        "\n",
        "\n",
        "if __name__ == \"__main__\":  # ensure importing the script will not execute\n",
        "    main()"
      ],
      "execution_count": 4,
      "outputs": []
    }
  ]
}