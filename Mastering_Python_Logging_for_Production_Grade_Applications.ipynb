{
  "nbformat": 4,
  "nbformat_minor": 0,
  "metadata": {
    "colab": {
      "provenance": [],
      "authorship_tag": "ABX9TyPbWsJnWIVAB9QzoUoje57E"
    },
    "kernelspec": {
      "name": "python3",
      "display_name": "Python 3"
    },
    "language_info": {
      "name": "python"
    }
  },
  "cells": [
    {
      "cell_type": "markdown",
      "source": [
        "[Reference](https://medium.com/top-python-libraries/mastering-python-logging-for-production-grade-applications-574ec55f99f9)"
      ],
      "metadata": {
        "id": "n53Phtj6V8Ev"
      }
    },
    {
      "cell_type": "markdown",
      "source": [
        "# 1. The Basics: Moving Beyond print()"
      ],
      "metadata": {
        "id": "V137aHFiV_AB"
      }
    },
    {
      "cell_type": "code",
      "execution_count": 1,
      "metadata": {
        "colab": {
          "base_uri": "https://localhost:8080/"
        },
        "id": "2FAcVl1EVw3u",
        "outputId": "a52aadf3-89a2-4fd3-ab2e-5014e88b3423"
      },
      "outputs": [
        {
          "output_type": "stream",
          "name": "stderr",
          "text": [
            "WARNING:root:Low memory detected\n",
            "ERROR:root:Failed to connect to database\n",
            "CRITICAL:root:System crash imminent\n"
          ]
        }
      ],
      "source": [
        "import logging\n",
        "\n",
        "# Basic config\n",
        "logging.basicConfig(\n",
        "    level=logging.DEBUG,\n",
        "    format=\"%(asctime)s - %(levelname)s - %(message)s\"\n",
        ")\n",
        "\n",
        "logging.debug(\"Debugging details here\")\n",
        "logging.info(\"Service started successfully\")\n",
        "logging.warning(\"Low memory detected\")\n",
        "logging.error(\"Failed to connect to database\")\n",
        "logging.critical(\"System crash imminent\")"
      ]
    },
    {
      "cell_type": "markdown",
      "source": [
        "# 2. Writing Logs to Files (Rotating for Safety)"
      ],
      "metadata": {
        "id": "V8v_0H3XWCCL"
      }
    },
    {
      "cell_type": "code",
      "source": [
        "import logging\n",
        "from logging.handlers import RotatingFileHandler\n",
        "\n",
        "logger = logging.getLogger(\"my_app\")\n",
        "logger.setLevel(logging.DEBUG)\n",
        "\n",
        "# Rotate logs after 5MB, keep 3 backups\n",
        "handler = RotatingFileHandler(\"app.log\", maxBytes=5_000_000, backupCount=3)\n",
        "formatter = logging.Formatter(\"%(asctime)s - %(name)s - %(levelname)s - %(message)s\")\n",
        "handler.setFormatter(formatter)\n",
        "\n",
        "logger.addHandler(handler)\n",
        "\n",
        "logger.info(\"Application log rotation configured successfully\")"
      ],
      "metadata": {
        "colab": {
          "base_uri": "https://localhost:8080/"
        },
        "id": "GDKDogIAWAkG",
        "outputId": "fb88be2f-39e9-4cf0-927b-fbeb71a551b1"
      },
      "execution_count": 2,
      "outputs": [
        {
          "output_type": "stream",
          "name": "stderr",
          "text": [
            "INFO:my_app:Application log rotation configured successfully\n"
          ]
        }
      ]
    },
    {
      "cell_type": "markdown",
      "source": [
        "# 3. Structured Logging with JSON"
      ],
      "metadata": {
        "id": "B-Uc4ssaWFNR"
      }
    },
    {
      "cell_type": "code",
      "source": [
        "import logging\n",
        "import json\n",
        "\n",
        "class JsonFormatter(logging.Formatter):\n",
        "    def format(self, record):\n",
        "        log_record = {\n",
        "            \"time\": self.formatTime(record, \"%Y-%m-%d %H:%M:%S\"),\n",
        "            \"level\": record.levelname,\n",
        "            \"message\": record.getMessage(),\n",
        "            \"logger\": record.name\n",
        "        }\n",
        "        return json.dumps(log_record)\n",
        "\n",
        "logger = logging.getLogger(\"structured_app\")\n",
        "handler = logging.StreamHandler()\n",
        "handler.setFormatter(JsonFormatter())\n",
        "logger.addHandler(handler)\n",
        "\n",
        "logger.warning(\"Disk space running low\")"
      ],
      "metadata": {
        "colab": {
          "base_uri": "https://localhost:8080/"
        },
        "id": "khcbBZjGWEEP",
        "outputId": "e9cdf463-7596-4804-c2a1-456f7bdac6e8"
      },
      "execution_count": 3,
      "outputs": [
        {
          "output_type": "stream",
          "name": "stderr",
          "text": [
            "{\"time\": \"2025-09-06 14:05:17\", \"level\": \"WARNING\", \"message\": \"Disk space running low\", \"logger\": \"structured_app\"}\n",
            "WARNING:structured_app:Disk space running low\n"
          ]
        }
      ]
    },
    {
      "cell_type": "markdown",
      "source": [
        "# 4. Adding Context with Filters"
      ],
      "metadata": {
        "id": "Omigtr76WJGh"
      }
    },
    {
      "cell_type": "code",
      "source": [
        "class RequestIDFilter(logging.Filter):\n",
        "    def __init__(self, request_id):\n",
        "        super().__init__()\n",
        "        self.request_id = request_id\n",
        "\n",
        "    def filter(self, record):\n",
        "        record.request_id = self.request_id\n",
        "        return True\n",
        "\n",
        "logger = logging.getLogger(\"context_logger\")\n",
        "handler = logging.StreamHandler()\n",
        "formatter = logging.Formatter(\"%(asctime)s - %(levelname)s - [RequestID: %(request_id)s] - %(message)s\")\n",
        "handler.setFormatter(formatter)\n",
        "logger.addHandler(handler)\n",
        "\n",
        "# Add filter dynamically\n",
        "logger.addFilter(RequestIDFilter(\"abc-123\"))\n",
        "\n",
        "logger.info(\"User fetched profile data\")"
      ],
      "metadata": {
        "id": "3797ArtyWHzb"
      },
      "execution_count": 4,
      "outputs": []
    },
    {
      "cell_type": "markdown",
      "source": [
        "# 5. Asynchronous Logging for Performance"
      ],
      "metadata": {
        "id": "8VfnTLYzWQqx"
      }
    },
    {
      "cell_type": "code",
      "source": [
        "import logging\n",
        "import logging.handlers\n",
        "import queue\n",
        "import threading\n",
        "\n",
        "log_queue = queue.Queue(-1)\n",
        "\n",
        "queue_handler = logging.handlers.QueueHandler(log_queue)\n",
        "queue_listener = logging.handlers.QueueListener(log_queue, logging.StreamHandler())\n",
        "\n",
        "logger = logging.getLogger(\"async_logger\")\n",
        "logger.addHandler(queue_handler)\n",
        "logger.setLevel(logging.DEBUG)\n",
        "\n",
        "queue_listener.start()\n",
        "logger.info(\"Non-blocking logging in action\")"
      ],
      "metadata": {
        "colab": {
          "base_uri": "https://localhost:8080/"
        },
        "id": "QDgCOv_mWK4R",
        "outputId": "f6530342-5e9b-4475-ba68-c9d42fd7d292"
      },
      "execution_count": 5,
      "outputs": [
        {
          "output_type": "stream",
          "name": "stderr",
          "text": [
            "INFO:async_logger:Non-blocking logging in action\n",
            "Non-blocking logging in action\n"
          ]
        }
      ]
    },
    {
      "cell_type": "markdown",
      "source": [
        "# 6. Remote Logging (Centralized Monitoring)"
      ],
      "metadata": {
        "id": "MCtAidtwWTqV"
      }
    },
    {
      "cell_type": "code",
      "source": [
        "import logging\n",
        "import logging.handlers\n",
        "\n",
        "logger = logging.getLogger(\"remote_logger\")\n",
        "logger.setLevel(logging.INFO)\n",
        "\n",
        "syslog_handler = logging.handlers.SysLogHandler(address=(\"logs.mycompany.com\", 514))\n",
        "formatter = logging.Formatter(\"%(asctime)s - %(levelname)s - %(message)s\")\n",
        "syslog_handler.setFormatter(formatter)\n",
        "\n",
        "logger.addHandler(syslog_handler)\n",
        "\n",
        "logger.info(\"Remote logging configured\")"
      ],
      "metadata": {
        "id": "ZS3C1sFvWSdr"
      },
      "execution_count": 7,
      "outputs": []
    },
    {
      "cell_type": "markdown",
      "source": [
        "# 7. Color-Coding Logs for Humans"
      ],
      "metadata": {
        "id": "QcLtmaxgWWMh"
      }
    },
    {
      "cell_type": "code",
      "source": [
        "import logging\n",
        "import coloredlogs\n",
        "\n",
        "logger = logging.getLogger(\"colorful_logger\")\n",
        "coloredlogs.install(level=\"DEBUG\", logger=logger)\n",
        "\n",
        "logger.debug(\"This is debug\")\n",
        "logger.info(\"This is info\")\n",
        "logger.warning(\"This is warning\")\n",
        "logger.error(\"This is error\")\n",
        "logger.critical(\"This is critical\")"
      ],
      "metadata": {
        "id": "D3DX2PAQWU6b"
      },
      "execution_count": 9,
      "outputs": []
    },
    {
      "cell_type": "markdown",
      "source": [
        "# 8. Real-World Example: Logging in a FastAPI App"
      ],
      "metadata": {
        "id": "6-lrDZ1CWbz7"
      }
    },
    {
      "cell_type": "code",
      "source": [
        "from fastapi import FastAPI, Request\n",
        "import logging\n",
        "\n",
        "app = FastAPI()\n",
        "logger = logging.getLogger(\"api\")\n",
        "logging.basicConfig(level=logging.INFO, format=\"%(asctime)s - %(levelname)s - %(message)s\")\n",
        "\n",
        "@app.middleware(\"http\")\n",
        "async def log_requests(request: Request, call_next):\n",
        "    logger.info(f\"Incoming request: {request.method} {request.url}\")\n",
        "    response = await call_next(request)\n",
        "    logger.info(f\"Response status: {response.status_code}\")\n",
        "    return response\n",
        "\n",
        "@app.get(\"/\")\n",
        "async def root():\n",
        "    logger.debug(\"Processing root request\")\n",
        "    return {\"message\": \"Hello World\"}"
      ],
      "metadata": {
        "id": "gwqRMUTgWag2"
      },
      "execution_count": 10,
      "outputs": []
    }
  ]
}