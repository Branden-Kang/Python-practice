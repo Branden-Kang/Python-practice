{
  "nbformat": 4,
  "nbformat_minor": 0,
  "metadata": {
    "colab": {
      "name": "Lambda Functions with Practical Examples in Python.ipynb",
      "provenance": [],
      "authorship_tag": "ABX9TyPkHupREIa1jpzKWC/x6cI3"
    },
    "kernelspec": {
      "name": "python3",
      "display_name": "Python 3"
    },
    "language_info": {
      "name": "python"
    }
  },
  "cells": [
    {
      "cell_type": "markdown",
      "metadata": {
        "id": "9RgRsxfwXIto"
      },
      "source": [
        "[Reference](https://towardsdatascience.com/lambda-functions-with-practical-examples-in-python-45934f3653a8)"
      ]
    },
    {
      "cell_type": "code",
      "metadata": {
        "colab": {
          "base_uri": "https://localhost:8080/"
        },
        "id": "_mzHYeoRXGaw",
        "outputId": "45933614-b7c5-4a17-9a0f-f9de7f9b1b5a"
      },
      "source": [
        "#Normal python function\n",
        "def a_name(x):\n",
        "    return x+x\n",
        "    \n",
        "#Lambda function\n",
        "lambda x: x+x"
      ],
      "execution_count": 1,
      "outputs": [
        {
          "output_type": "execute_result",
          "data": {
            "text/plain": [
              "<function __main__.<lambda>>"
            ]
          },
          "metadata": {
            "tags": []
          },
          "execution_count": 1
        }
      ]
    },
    {
      "cell_type": "markdown",
      "metadata": {
        "id": "iW42eQnwXtcN"
      },
      "source": [
        "# 1. Scalar values"
      ]
    },
    {
      "cell_type": "code",
      "metadata": {
        "colab": {
          "base_uri": "https://localhost:8080/"
        },
        "id": "fui-DRHWXSYo",
        "outputId": "a79448c1-39b9-4b22-f648-36e448aaea2c"
      },
      "source": [
        "(lambda x: x*2)(12)"
      ],
      "execution_count": 2,
      "outputs": [
        {
          "output_type": "execute_result",
          "data": {
            "text/plain": [
              "24"
            ]
          },
          "metadata": {
            "tags": []
          },
          "execution_count": 2
        }
      ]
    },
    {
      "cell_type": "markdown",
      "metadata": {
        "id": "XFExmzuWXumC"
      },
      "source": [
        "# 2. Lists"
      ]
    },
    {
      "cell_type": "code",
      "metadata": {
        "colab": {
          "base_uri": "https://localhost:8080/"
        },
        "id": "5pejlOnYXsBB",
        "outputId": "a11fbf1e-a7fc-41d2-b3c4-f83f4a777776"
      },
      "source": [
        "list_1 = [1,2,3,4,5,6,7,8,9]\n",
        "filter(lambda x: x%2==0, list_1)"
      ],
      "execution_count": 4,
      "outputs": [
        {
          "output_type": "execute_result",
          "data": {
            "text/plain": [
              "<filter at 0x7f52f7b32c90>"
            ]
          },
          "metadata": {
            "tags": []
          },
          "execution_count": 4
        }
      ]
    },
    {
      "cell_type": "code",
      "metadata": {
        "colab": {
          "base_uri": "https://localhost:8080/"
        },
        "id": "gHVuyF_-X135",
        "outputId": "0fc8c67f-6e61-454c-bbf0-2808355e9556"
      },
      "source": [
        "list(filter(lambda x: x%2==0, list_1))"
      ],
      "execution_count": 5,
      "outputs": [
        {
          "output_type": "execute_result",
          "data": {
            "text/plain": [
              "[2, 4, 6, 8]"
            ]
          },
          "metadata": {
            "tags": []
          },
          "execution_count": 5
        }
      ]
    },
    {
      "cell_type": "code",
      "metadata": {
        "colab": {
          "base_uri": "https://localhost:8080/"
        },
        "id": "FyDgaVfrX2y2",
        "outputId": "222706ec-a5a8-42b8-a2b2-96a8e4d5dca9"
      },
      "source": [
        "list_1 = [1,2,3,4,5,6,7,8,9]\n",
        "cubed = map(lambda x: pow(x,3), list_1)\n",
        "list(cubed)"
      ],
      "execution_count": 6,
      "outputs": [
        {
          "output_type": "execute_result",
          "data": {
            "text/plain": [
              "[1, 8, 27, 64, 125, 216, 343, 512, 729]"
            ]
          },
          "metadata": {
            "tags": []
          },
          "execution_count": 6
        }
      ]
    },
    {
      "cell_type": "markdown",
      "metadata": {
        "id": "Cdy31qrEYC-b"
      },
      "source": [
        "# 3. Series object"
      ]
    },
    {
      "cell_type": "code",
      "metadata": {
        "id": "UTPXCTiLYAYW"
      },
      "source": [
        "import pandas as pd\n",
        "\n",
        "df = pd.DataFrame({\n",
        "    'Name': ['Luke','Gina','Sam','Emma'],\n",
        "    'Status': ['Father', 'Mother', 'Son', 'Daughter'],\n",
        "    'Birthyear': [1976, 1984, 2013, 2016],\n",
        "})"
      ],
      "execution_count": 8,
      "outputs": []
    },
    {
      "cell_type": "code",
      "metadata": {
        "colab": {
          "base_uri": "https://localhost:8080/",
          "height": 173
        },
        "id": "7Ae0LEI5YEFU",
        "outputId": "0449f6cc-c123-4e41-d5ce-cb24aa72494c"
      },
      "source": [
        "df"
      ],
      "execution_count": 9,
      "outputs": [
        {
          "output_type": "execute_result",
          "data": {
            "text/html": [
              "<div>\n",
              "<style scoped>\n",
              "    .dataframe tbody tr th:only-of-type {\n",
              "        vertical-align: middle;\n",
              "    }\n",
              "\n",
              "    .dataframe tbody tr th {\n",
              "        vertical-align: top;\n",
              "    }\n",
              "\n",
              "    .dataframe thead th {\n",
              "        text-align: right;\n",
              "    }\n",
              "</style>\n",
              "<table border=\"1\" class=\"dataframe\">\n",
              "  <thead>\n",
              "    <tr style=\"text-align: right;\">\n",
              "      <th></th>\n",
              "      <th>Name</th>\n",
              "      <th>Status</th>\n",
              "      <th>Birthyear</th>\n",
              "    </tr>\n",
              "  </thead>\n",
              "  <tbody>\n",
              "    <tr>\n",
              "      <th>0</th>\n",
              "      <td>Luke</td>\n",
              "      <td>Father</td>\n",
              "      <td>1976</td>\n",
              "    </tr>\n",
              "    <tr>\n",
              "      <th>1</th>\n",
              "      <td>Gina</td>\n",
              "      <td>Mother</td>\n",
              "      <td>1984</td>\n",
              "    </tr>\n",
              "    <tr>\n",
              "      <th>2</th>\n",
              "      <td>Sam</td>\n",
              "      <td>Son</td>\n",
              "      <td>2013</td>\n",
              "    </tr>\n",
              "    <tr>\n",
              "      <th>3</th>\n",
              "      <td>Emma</td>\n",
              "      <td>Daughter</td>\n",
              "      <td>2016</td>\n",
              "    </tr>\n",
              "  </tbody>\n",
              "</table>\n",
              "</div>"
            ],
            "text/plain": [
              "   Name    Status  Birthyear\n",
              "0  Luke    Father       1976\n",
              "1  Gina    Mother       1984\n",
              "2   Sam       Son       2013\n",
              "3  Emma  Daughter       2016"
            ]
          },
          "metadata": {
            "tags": []
          },
          "execution_count": 9
        }
      ]
    },
    {
      "cell_type": "code",
      "metadata": {
        "id": "5afg5wmnYGqz"
      },
      "source": [
        "df['age'] = df['Birthyear'].apply(lambda x: 2021-x)"
      ],
      "execution_count": 10,
      "outputs": []
    },
    {
      "cell_type": "code",
      "metadata": {
        "colab": {
          "base_uri": "https://localhost:8080/"
        },
        "id": "FYzRsG4YYIsh",
        "outputId": "2582b4f0-7b16-46c5-dec2-b113c7f58564"
      },
      "source": [
        "list(filter(lambda x: x>18, df['age']))"
      ],
      "execution_count": 11,
      "outputs": [
        {
          "output_type": "execute_result",
          "data": {
            "text/plain": [
              "[45, 37]"
            ]
          },
          "metadata": {
            "tags": []
          },
          "execution_count": 11
        }
      ]
    },
    {
      "cell_type": "code",
      "metadata": {
        "id": "qVDZJFf4YJ_z"
      },
      "source": [
        "#Double the age of everyone\n",
        "df['double_age'] = df['age'].map(lambda x: x*2)"
      ],
      "execution_count": 12,
      "outputs": []
    },
    {
      "cell_type": "code",
      "metadata": {
        "colab": {
          "base_uri": "https://localhost:8080/",
          "height": 173
        },
        "id": "AffzvDZrYPRW",
        "outputId": "ba96d679-89ee-4fac-ae06-b1c5ce4f7cf3"
      },
      "source": [
        "df"
      ],
      "execution_count": 13,
      "outputs": [
        {
          "output_type": "execute_result",
          "data": {
            "text/html": [
              "<div>\n",
              "<style scoped>\n",
              "    .dataframe tbody tr th:only-of-type {\n",
              "        vertical-align: middle;\n",
              "    }\n",
              "\n",
              "    .dataframe tbody tr th {\n",
              "        vertical-align: top;\n",
              "    }\n",
              "\n",
              "    .dataframe thead th {\n",
              "        text-align: right;\n",
              "    }\n",
              "</style>\n",
              "<table border=\"1\" class=\"dataframe\">\n",
              "  <thead>\n",
              "    <tr style=\"text-align: right;\">\n",
              "      <th></th>\n",
              "      <th>Name</th>\n",
              "      <th>Status</th>\n",
              "      <th>Birthyear</th>\n",
              "      <th>age</th>\n",
              "      <th>double_age</th>\n",
              "    </tr>\n",
              "  </thead>\n",
              "  <tbody>\n",
              "    <tr>\n",
              "      <th>0</th>\n",
              "      <td>Luke</td>\n",
              "      <td>Father</td>\n",
              "      <td>1976</td>\n",
              "      <td>45</td>\n",
              "      <td>90</td>\n",
              "    </tr>\n",
              "    <tr>\n",
              "      <th>1</th>\n",
              "      <td>Gina</td>\n",
              "      <td>Mother</td>\n",
              "      <td>1984</td>\n",
              "      <td>37</td>\n",
              "      <td>74</td>\n",
              "    </tr>\n",
              "    <tr>\n",
              "      <th>2</th>\n",
              "      <td>Sam</td>\n",
              "      <td>Son</td>\n",
              "      <td>2013</td>\n",
              "      <td>8</td>\n",
              "      <td>16</td>\n",
              "    </tr>\n",
              "    <tr>\n",
              "      <th>3</th>\n",
              "      <td>Emma</td>\n",
              "      <td>Daughter</td>\n",
              "      <td>2016</td>\n",
              "      <td>5</td>\n",
              "      <td>10</td>\n",
              "    </tr>\n",
              "  </tbody>\n",
              "</table>\n",
              "</div>"
            ],
            "text/plain": [
              "   Name    Status  Birthyear  age  double_age\n",
              "0  Luke    Father       1976   45          90\n",
              "1  Gina    Mother       1984   37          74\n",
              "2   Sam       Son       2013    8          16\n",
              "3  Emma  Daughter       2016    5          10"
            ]
          },
          "metadata": {
            "tags": []
          },
          "execution_count": 13
        }
      ]
    },
    {
      "cell_type": "code",
      "metadata": {
        "id": "FL6UNmWlYPvW"
      },
      "source": [
        "#Conditional Lambda statement\n",
        "df['Gender'] = df['Status'].map(lambda x: 'Male' if x=='father' or x=='son' else 'Female')"
      ],
      "execution_count": 14,
      "outputs": []
    },
    {
      "cell_type": "markdown",
      "metadata": {
        "id": "r-vFHJfOYVj6"
      },
      "source": [
        "# 4. Lambda on Dataframe object"
      ]
    },
    {
      "cell_type": "code",
      "metadata": {
        "id": "Nx8DBX2pYUbf"
      },
      "source": [
        "# df2.apply(lambda x:round(x,1))"
      ],
      "execution_count": 16,
      "outputs": []
    },
    {
      "cell_type": "code",
      "metadata": {
        "id": "r1tSnJasYW25"
      },
      "source": [
        "#convert to lower-case\n",
        "df[['Name','Status']] = df.apply(lambda x: x[['Name','Status']].str.lower(), axis=1)"
      ],
      "execution_count": 18,
      "outputs": []
    },
    {
      "cell_type": "code",
      "metadata": {
        "id": "-wLYTYW3YhzR"
      },
      "source": [
        "#Bad\n",
        "triple = lambda x: x*3\n",
        "\n",
        "#Good\n",
        "def triple(x):\n",
        "     return x*3"
      ],
      "execution_count": 19,
      "outputs": []
    },
    {
      "cell_type": "code",
      "metadata": {
        "id": "mx5I-B6HY3SC"
      },
      "source": [
        "list_3 = [-3, 2, 5]"
      ],
      "execution_count": 21,
      "outputs": []
    },
    {
      "cell_type": "code",
      "metadata": {
        "colab": {
          "base_uri": "https://localhost:8080/"
        },
        "id": "riEk3Hf7YqXt",
        "outputId": "ec39fd74-273b-4037-b1e7-fa24a552cbfd"
      },
      "source": [
        "#Bad\n",
        "map(lambda x:abs(x), list_3)\n",
        "\n",
        "#Good\n",
        "map(abs, list_3)\n",
        "\n",
        "#Good\n",
        "# map(lambda x: pow(x, 2), float_nums)"
      ],
      "execution_count": 23,
      "outputs": [
        {
          "output_type": "execute_result",
          "data": {
            "text/plain": [
              "<map at 0x7f52f40594d0>"
            ]
          },
          "metadata": {
            "tags": []
          },
          "execution_count": 23
        }
      ]
    },
    {
      "cell_type": "code",
      "metadata": {
        "id": "jKDIi-tcY2RU"
      },
      "source": [
        "#Conditional Lambda statement\n",
        "df['Gender'] = df['Status'].map(lambda x: 'Male' if x=='father' or x=='son' else 'Female')"
      ],
      "execution_count": 24,
      "outputs": []
    },
    {
      "cell_type": "code",
      "metadata": {
        "id": "CFiAvA3CZBq1"
      },
      "source": [
        "df['Gender'] = ''\n",
        "df.loc[(df['Status'] == 'father') | (df['Status'] == 'son'), 'Gender'] = 'Male'\n",
        "df.loc[(df['Status'] == 'mother') | (df['Status'] == 'daughter'), 'Gender'] = 'Female'"
      ],
      "execution_count": 25,
      "outputs": []
    }
  ]
}