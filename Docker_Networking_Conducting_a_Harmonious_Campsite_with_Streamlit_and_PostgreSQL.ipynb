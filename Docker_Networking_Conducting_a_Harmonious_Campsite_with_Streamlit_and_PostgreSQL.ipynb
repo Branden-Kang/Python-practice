{
  "nbformat": 4,
  "nbformat_minor": 0,
  "metadata": {
    "colab": {
      "provenance": [],
      "authorship_tag": "ABX9TyOvpdxTnJkkBpsjXy9Hu0ue"
    },
    "kernelspec": {
      "name": "python3",
      "display_name": "Python 3"
    },
    "language_info": {
      "name": "python"
    }
  },
  "cells": [
    {
      "cell_type": "markdown",
      "source": [
        "[Reference](https://medium.com/@bragadeeshs/docker-networking-conducting-a-harmonious-campsite-with-streamlit-and-postgresql-62a39f698b36)"
      ],
      "metadata": {
        "id": "lAAgsSKpLSKv"
      }
    },
    {
      "cell_type": "markdown",
      "source": [
        "```\n",
        "-- init.sql\n",
        "CREATE TABLE camptable(\n",
        "    campcolumn VARCHAR (100)\n",
        ");\n",
        "```\n",
        "\n",
        "```\n",
        "version: '3.8'\n",
        "services:\n",
        "  db:\n",
        "    image: \"postgres:13\"\n",
        "    environment:\n",
        "      POSTGRES_DB: campdb\n",
        "      POSTGRES_USER: camper\n",
        "      POSTGRES_PASSWORD: camper123#\n",
        "    volumes:\n",
        "      - ./docker-entrypoint-initdb.d:/docker-entrypoint-initdb.d\n",
        "    networks:\n",
        "      - app_network\n",
        "\n",
        "  app:  # Streamlit application service definition\n",
        "    build: .  # Specify the directory of the Dockerfile\n",
        "    environment:\n",
        "      - DB_HOST=db  # Use the service name 'db' for database host\n",
        "    ports:\n",
        "      - \"8501:8501\"  # Default port for Streamlit\n",
        "    depends_on:\n",
        "      - db  # This service depends on 'db' service\n",
        "    networks:\n",
        "      - app_network\n",
        "\n",
        "networks:\n",
        "  app_network:\n",
        "    driver: bridge\n",
        "```"
      ],
      "metadata": {
        "id": "9nRtMStaLVzV"
      }
    },
    {
      "cell_type": "code",
      "execution_count": 1,
      "metadata": {
        "id": "F2sU0lYWIDQ5"
      },
      "outputs": [],
      "source": [
        "# streamlit_app.py\n",
        "import streamlit as st\n",
        "import psycopg2\n",
        "\n",
        "st.title('Data Updater')\n",
        "user_input = st.text_input(\"Enter data:\")\n",
        "\n",
        "if st.button('Update Data'):\n",
        "    conn = psycopg2.connect(\n",
        "        host=\"db\",  # Note: Use the service name defined in docker-compose.yml\n",
        "        database=\"campdb\",\n",
        "        user=\"camper\",\n",
        "        password=\"camper123#\"\n",
        "    )\n",
        "    cursor = conn.cursor()\n",
        "    cursor.execute(\"INSERT INTO camptable (campcolumn) VALUES (%s)\", (user_input,))\n",
        "    conn.commit()\n",
        "    cursor.close()\n",
        "    conn.close()\n",
        "    st.success(\"Data updated successfully!\")"
      ]
    },
    {
      "cell_type": "markdown",
      "source": [
        "```\n",
        "# Dockerfile\n",
        "FROM python:3.8\n",
        "WORKDIR /app\n",
        "COPY . /app\n",
        "RUN pip install streamlit psycopg2-binary\n",
        "CMD [\"streamlit\", \"run\", \"streamlit_app.py\"]\n",
        "```"
      ],
      "metadata": {
        "id": "XKkKbnLGLgCD"
      }
    },
    {
      "cell_type": "markdown",
      "source": [
        "```\n",
        "docker-compose up\n",
        "```"
      ],
      "metadata": {
        "id": "OsCta4jSLjZk"
      }
    },
    {
      "cell_type": "markdown",
      "source": [
        "```\n",
        "docker ps\n",
        "```"
      ],
      "metadata": {
        "id": "2czeoTfCLlrN"
      }
    },
    {
      "cell_type": "markdown",
      "source": [
        "```\n",
        "docker exec -it <container id> bash\n",
        "```"
      ],
      "metadata": {
        "id": "FGd_q1GgLnR4"
      }
    }
  ]
}