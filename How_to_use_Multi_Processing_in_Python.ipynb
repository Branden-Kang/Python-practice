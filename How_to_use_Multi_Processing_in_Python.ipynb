{
  "nbformat": 4,
  "nbformat_minor": 0,
  "metadata": {
    "colab": {
      "name": "How to use Multi-Processing in Python.ipynb",
      "provenance": [],
      "collapsed_sections": [],
      "authorship_tag": "ABX9TyPdiYAeSvnC3FnhxEfWx1zO"
    },
    "kernelspec": {
      "name": "python3",
      "display_name": "Python 3"
    },
    "language_info": {
      "name": "python"
    }
  },
  "cells": [
    {
      "cell_type": "markdown",
      "metadata": {
        "id": "5BLJclAhx28z"
      },
      "source": [
        "[Reference](https://medium.com/@sutharprashant199722/how-to-use-multi-processing-in-python-a1f838deb79)"
      ]
    },
    {
      "cell_type": "code",
      "metadata": {
        "id": "vERor00Jxxxz"
      },
      "source": [
        "import requests\n",
        "import uuid\n",
        "import shutil\n",
        "\n",
        "\n",
        "from multiprocessing import Process\n",
        "\n",
        "\n",
        "def run_main():\n",
        "    \"\"\"\n",
        "    This Method runs the main method\n",
        "    :return:\n",
        "    \"\"\"\n",
        "    images = ['https://i.picsum.photos/id/237/200/300.jpg?hmac=TmmQSbShHz9CdQm0NkEjx1Dyh_Y984R9LpNrpvH2D_U',\n",
        "              'https://i.picsum.photos/id/866/200/300.jpg?hmac=rcadCENKh4rD6MAp6V_ma-AyWv641M4iiOpe1RyFHeI',\n",
        "              'https://i.picsum.photos/id/1041/200/300.jpg?grayscale&hmac=_p5B0MOtog0liIBvMDpM_3qmbzEyfpWw6hJHro2D-fM']\n",
        "\n",
        "    processes_new = []\n",
        "    \n",
        "    # Creating Multiple Processes for each request\n",
        "    for img in images:\n",
        "        process = Process(target=save_image, args=(img,))\n",
        "        processes_new.append(process)\n",
        "        process.start()\n",
        "\n",
        "    # Wait until the set of processes completes \n",
        "    for z in processes_new:\n",
        "        z.join()\n",
        "    \n",
        "\n",
        "def save_image(url):\n",
        "    \"\"\"\n",
        "    This method saves the images to local machine\n",
        "    :param url:\n",
        "    :return:\n",
        "    \"\"\"\n",
        "    image_id = uuid.uuid4().hex\n",
        "    req = requests.get(url, stream=True)\n",
        "    with open(f'{image_id}.png', 'wb') as out_file:\n",
        "        shutil.copyfileobj(req.raw, out_file)\n",
        "\n",
        "\n",
        "if __name__ == '__main__':\n",
        "    run_main()"
      ],
      "execution_count": null,
      "outputs": []
    }
  ]
}