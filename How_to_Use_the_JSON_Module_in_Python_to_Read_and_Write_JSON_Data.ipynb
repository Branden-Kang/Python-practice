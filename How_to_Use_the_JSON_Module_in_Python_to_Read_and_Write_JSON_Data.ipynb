{
  "nbformat": 4,
  "nbformat_minor": 0,
  "metadata": {
    "colab": {
      "provenance": [],
      "authorship_tag": "ABX9TyPBHff9RoJEZ38lW2jdLT6l"
    },
    "kernelspec": {
      "name": "python3",
      "display_name": "Python 3"
    },
    "language_info": {
      "name": "python"
    }
  },
  "cells": [
    {
      "cell_type": "markdown",
      "source": [
        "[Reference](https://medium.com/@aliyannshaikhh/83d1a8e18c7f)"
      ],
      "metadata": {
        "id": "tHdqqyDjmqr2"
      }
    },
    {
      "cell_type": "markdown",
      "source": [
        "# Converting Python Objects to JSON (Serialization)"
      ],
      "metadata": {
        "id": "vtHmvdILnKFy"
      }
    },
    {
      "cell_type": "code",
      "execution_count": 1,
      "metadata": {
        "colab": {
          "base_uri": "https://localhost:8080/"
        },
        "id": "l8VfY7JAma-d",
        "outputId": "b8d6f7eb-b2d0-4413-a6a9-67f1a33915a7"
      },
      "outputs": [
        {
          "output_type": "stream",
          "name": "stdout",
          "text": [
            "{\"name\": \"Aliyan\", \"age\": 23, \"is_student\": true}\n"
          ]
        }
      ],
      "source": [
        "import json\n",
        "\n",
        "data = {\n",
        "    \"name\": \"Aliyan\",\n",
        "    \"age\": 23,\n",
        "    \"is_student\": True,\n",
        "}\n",
        "\n",
        "# Convert Python dictionary to JSON string\n",
        "json_string = json.dumps(data)\n",
        "\n",
        "print(json_string)"
      ]
    },
    {
      "cell_type": "code",
      "source": [
        "with open(\"data.json\", \"w\") as file:\n",
        " json.dump(data, file)"
      ],
      "metadata": {
        "id": "5vltKlPXmzUF"
      },
      "execution_count": 2,
      "outputs": []
    },
    {
      "cell_type": "markdown",
      "source": [
        "# Converting JSON to Python Objects (Deserialization)"
      ],
      "metadata": {
        "id": "MKCRNzMSnHer"
      }
    },
    {
      "cell_type": "code",
      "source": [
        "import json\n",
        "\n",
        "with open(\"data.json\", \"r\") as file:\n",
        "    json_string = file.read()\n",
        "\n",
        "# Convert JSON string to Python dictionary\n",
        "data = json.loads(json_string)\n",
        "\n",
        "print(data)"
      ],
      "metadata": {
        "colab": {
          "base_uri": "https://localhost:8080/"
        },
        "id": "mp3-Evwym6cZ",
        "outputId": "44b37b45-c058-4cf5-b63e-5a0e0d3b288e"
      },
      "execution_count": 3,
      "outputs": [
        {
          "output_type": "stream",
          "name": "stdout",
          "text": [
            "{'name': 'Aliyan', 'age': 23, 'is_student': True}\n"
          ]
        }
      ]
    },
    {
      "cell_type": "markdown",
      "source": [
        "# Pretty Printing JSON for Readability"
      ],
      "metadata": {
        "id": "bTWfrYMom_Sg"
      }
    },
    {
      "cell_type": "code",
      "source": [
        "print(json.dumps(data, indent=4))"
      ],
      "metadata": {
        "colab": {
          "base_uri": "https://localhost:8080/"
        },
        "id": "ZHe-v-i3m64N",
        "outputId": "851a4d1f-d6a2-4156-837f-c7593cf0dff3"
      },
      "execution_count": 4,
      "outputs": [
        {
          "output_type": "stream",
          "name": "stdout",
          "text": [
            "{\n",
            "    \"name\": \"Aliyan\",\n",
            "    \"age\": 23,\n",
            "    \"is_student\": true\n",
            "}\n"
          ]
        }
      ]
    },
    {
      "cell_type": "code",
      "source": [
        "print(json.dumps(data, indent=4, sort_keys=True))"
      ],
      "metadata": {
        "colab": {
          "base_uri": "https://localhost:8080/"
        },
        "id": "zsU06MApm8qR",
        "outputId": "78763642-ee59-493a-f09a-0cd814b0d3e0"
      },
      "execution_count": 5,
      "outputs": [
        {
          "output_type": "stream",
          "name": "stdout",
          "text": [
            "{\n",
            "    \"age\": 23,\n",
            "    \"is_student\": true,\n",
            "    \"name\": \"Aliyan\"\n",
            "}\n"
          ]
        }
      ]
    }
  ]
}