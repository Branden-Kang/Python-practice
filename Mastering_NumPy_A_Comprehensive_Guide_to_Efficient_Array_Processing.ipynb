{
  "nbformat": 4,
  "nbformat_minor": 0,
  "metadata": {
    "colab": {
      "provenance": [],
      "authorship_tag": "ABX9TyPqkSAJ0p9yW93595M3Tj3I"
    },
    "kernelspec": {
      "name": "python3",
      "display_name": "Python 3"
    },
    "language_info": {
      "name": "python"
    }
  },
  "cells": [
    {
      "cell_type": "markdown",
      "source": [
        "[Reference](https://python.plainenglish.io/mastering-numpy-a-comprehensive-guide-to-efficient-array-processing-part-2-2-627393d34169)"
      ],
      "metadata": {
        "id": "gvWWHCzOzmc3"
      }
    },
    {
      "cell_type": "code",
      "source": [
        "import numpy as np"
      ],
      "metadata": {
        "id": "JkiWNvdy0R4X"
      },
      "execution_count": 1,
      "outputs": []
    },
    {
      "cell_type": "markdown",
      "source": [
        "# Random Numbers"
      ],
      "metadata": {
        "id": "rT_cMxf8zxbF"
      }
    },
    {
      "cell_type": "markdown",
      "source": [
        "## Uniform Distribution"
      ],
      "metadata": {
        "id": "SJmHse3A0dI0"
      }
    },
    {
      "cell_type": "code",
      "execution_count": 2,
      "metadata": {
        "colab": {
          "base_uri": "https://localhost:8080/"
        },
        "id": "CLlu4gHSzhUL",
        "outputId": "ada21a74-b248-49ef-ab74-b18c53de2f33"
      },
      "outputs": [
        {
          "output_type": "execute_result",
          "data": {
            "text/plain": [
              "array([[0.81068992, 0.21965976, 0.24187751],\n",
              "       [0.99531641, 0.5510162 , 0.00724949],\n",
              "       [0.17144581, 0.98385599, 0.06204255],\n",
              "       [0.39270937, 0.17099927, 0.94588561],\n",
              "       [0.16686369, 0.5052114 , 0.49771808],\n",
              "       [0.33502782, 0.20735866, 0.60113584],\n",
              "       [0.99465189, 0.51349165, 0.89642503],\n",
              "       [0.80046979, 0.08070862, 0.34688772],\n",
              "       [0.84317147, 0.63624951, 0.7076355 ],\n",
              "       [0.05114051, 0.15547766, 0.46465205]])"
            ]
          },
          "metadata": {},
          "execution_count": 2
        }
      ],
      "source": [
        "np.random.rand(10,3)"
      ]
    },
    {
      "cell_type": "code",
      "source": [
        "np.random.uniform(low=90, high=100, size=(5,5))"
      ],
      "metadata": {
        "colab": {
          "base_uri": "https://localhost:8080/"
        },
        "id": "FdDtKko30TQY",
        "outputId": "70ba90fb-dc96-47eb-c25e-a15a0b7eac9b"
      },
      "execution_count": 3,
      "outputs": [
        {
          "output_type": "execute_result",
          "data": {
            "text/plain": [
              "array([[95.71950626, 91.57278058, 93.2565776 , 98.38174848, 98.44141252],\n",
              "       [96.40160741, 95.30401379, 93.48595809, 94.76960272, 99.22746968],\n",
              "       [90.62093346, 97.10312323, 96.10356867, 93.82321544, 98.64376393],\n",
              "       [91.31846417, 96.72175534, 97.04786101, 95.57662059, 96.54390814],\n",
              "       [94.2218592 , 97.99175172, 96.17607191, 93.14469496, 96.3474536 ]])"
            ]
          },
          "metadata": {},
          "execution_count": 3
        }
      ]
    },
    {
      "cell_type": "code",
      "source": [
        "np.histogram(np.random.uniform(size=(50000)))"
      ],
      "metadata": {
        "colab": {
          "base_uri": "https://localhost:8080/"
        },
        "id": "JBFKD5BH0VWT",
        "outputId": "ca39b511-3d90-4058-9df5-1a3dc63175d3"
      },
      "execution_count": 4,
      "outputs": [
        {
          "output_type": "execute_result",
          "data": {
            "text/plain": [
              "(array([5018, 5041, 4953, 5012, 4905, 5000, 4987, 5048, 5004, 5032]),\n",
              " array([1.26451947e-05, 1.00008596e-01, 2.00004547e-01, 3.00000498e-01,\n",
              "        3.99996449e-01, 4.99992400e-01, 5.99988351e-01, 6.99984302e-01,\n",
              "        7.99980253e-01, 8.99976204e-01, 9.99972155e-01]))"
            ]
          },
          "metadata": {},
          "execution_count": 4
        }
      ]
    },
    {
      "cell_type": "markdown",
      "source": [
        "## Normal Distribution"
      ],
      "metadata": {
        "id": "0MVgBGCc0fnj"
      }
    },
    {
      "cell_type": "code",
      "source": [
        "np.histogram(np.random.uniform(size=(50000)))"
      ],
      "metadata": {
        "colab": {
          "base_uri": "https://localhost:8080/"
        },
        "id": "LcOXsMx00Z9R",
        "outputId": "92eb4d1b-d2b3-4240-eff3-28737d411c26"
      },
      "execution_count": 5,
      "outputs": [
        {
          "output_type": "execute_result",
          "data": {
            "text/plain": [
              "(array([5009, 4890, 5015, 4978, 5033, 4945, 5035, 4964, 5007, 5124]),\n",
              " array([2.38428929e-06, 9.99944719e-02, 1.99986559e-01, 2.99978647e-01,\n",
              "        3.99970735e-01, 4.99962822e-01, 5.99954910e-01, 6.99946997e-01,\n",
              "        7.99939085e-01, 8.99931173e-01, 9.99923260e-01]))"
            ]
          },
          "metadata": {},
          "execution_count": 5
        }
      ]
    },
    {
      "cell_type": "code",
      "source": [
        "np.random.randn(6,4)"
      ],
      "metadata": {
        "colab": {
          "base_uri": "https://localhost:8080/"
        },
        "id": "JyIxLuN60hwV",
        "outputId": "79cdef18-47f3-4d76-9a69-b74da7570536"
      },
      "execution_count": 6,
      "outputs": [
        {
          "output_type": "execute_result",
          "data": {
            "text/plain": [
              "array([[ 0.55305649, -0.63182618, -0.06329199, -0.82313689],\n",
              "       [-0.6098055 ,  1.97763103, -1.17445258, -0.84560122],\n",
              "       [ 0.61437056, -0.14594593,  0.55699058,  0.34058306],\n",
              "       [-1.63354209,  0.4880747 ,  0.47740153, -0.67998096],\n",
              "       [ 0.12457732,  0.9315983 , -0.76323182, -0.84072169],\n",
              "       [ 1.45149926, -0.37807368, -1.59101238, -0.44274434]])"
            ]
          },
          "metadata": {},
          "execution_count": 6
        }
      ]
    },
    {
      "cell_type": "code",
      "source": [
        "np.random.normal(loc=8, scale=3, size=(5,5))"
      ],
      "metadata": {
        "colab": {
          "base_uri": "https://localhost:8080/"
        },
        "id": "o4TcInnn1ZiB",
        "outputId": "2bb86c61-f3c6-44ff-f8ad-ed8b4b6a8168"
      },
      "execution_count": 7,
      "outputs": [
        {
          "output_type": "execute_result",
          "data": {
            "text/plain": [
              "array([[ 7.07554875, 10.58571794,  9.71297179,  7.30496188,  9.68596723],\n",
              "       [10.19374637,  4.59192343, 16.41195975,  9.08781189,  5.530913  ],\n",
              "       [ 9.23327762, 12.85837205,  9.1817035 ,  9.19236622,  8.74287274],\n",
              "       [ 6.25862609,  9.29472216,  8.60552366, 14.37234522,  2.81781487],\n",
              "       [11.85711433,  6.14330654,  8.25736611,  8.44922021,  9.78684498]])"
            ]
          },
          "metadata": {},
          "execution_count": 7
        }
      ]
    },
    {
      "cell_type": "code",
      "source": [
        "np.histogram(np.random.normal(loc=0, scale=1, size=50000))"
      ],
      "metadata": {
        "colab": {
          "base_uri": "https://localhost:8080/"
        },
        "id": "pY5oado_1agP",
        "outputId": "2a583891-f882-4a7b-e715-c96f829f8f8c"
      },
      "execution_count": 8,
      "outputs": [
        {
          "output_type": "execute_result",
          "data": {
            "text/plain": [
              "(array([   36,   431,  2847,  9321, 15735, 13688,  6290,  1465,   173,\n",
              "           14]),\n",
              " array([-4.02888089, -3.18990454, -2.35092819, -1.51195185, -0.6729755 ,\n",
              "         0.16600085,  1.0049772 ,  1.84395354,  2.68292989,  3.52190624,\n",
              "         4.36088259]))"
            ]
          },
          "metadata": {},
          "execution_count": 8
        }
      ]
    },
    {
      "cell_type": "markdown",
      "source": [
        "## Random Integer"
      ],
      "metadata": {
        "id": "qY4onAvi1chw"
      }
    },
    {
      "cell_type": "code",
      "source": [
        "np.random.randint(low=5, high=10, size=(20,3))"
      ],
      "metadata": {
        "colab": {
          "base_uri": "https://localhost:8080/"
        },
        "id": "o85vflAj1bw3",
        "outputId": "f2fcd5f0-7b91-43cc-ecfa-9239f6d17f83"
      },
      "execution_count": 9,
      "outputs": [
        {
          "output_type": "execute_result",
          "data": {
            "text/plain": [
              "array([[8, 5, 8],\n",
              "       [6, 6, 6],\n",
              "       [7, 6, 6],\n",
              "       [6, 9, 6],\n",
              "       [7, 7, 6],\n",
              "       [5, 7, 6],\n",
              "       [5, 5, 9],\n",
              "       [8, 6, 8],\n",
              "       [9, 5, 9],\n",
              "       [5, 8, 6],\n",
              "       [8, 5, 9],\n",
              "       [5, 7, 5],\n",
              "       [5, 7, 7],\n",
              "       [5, 5, 9],\n",
              "       [9, 8, 5],\n",
              "       [5, 5, 8],\n",
              "       [8, 6, 7],\n",
              "       [8, 8, 5],\n",
              "       [9, 7, 5],\n",
              "       [8, 6, 9]])"
            ]
          },
          "metadata": {},
          "execution_count": 9
        }
      ]
    },
    {
      "cell_type": "markdown",
      "source": [
        "## Array Shuffling"
      ],
      "metadata": {
        "id": "xsyR57g31gPw"
      }
    },
    {
      "cell_type": "code",
      "source": [
        "K = np.random.randint(1, 30, size=10)\n",
        "K"
      ],
      "metadata": {
        "colab": {
          "base_uri": "https://localhost:8080/"
        },
        "id": "z5b4E_tf1fDi",
        "outputId": "dbe35be2-a4d1-4a84-d932-e1e96fabd8e4"
      },
      "execution_count": 10,
      "outputs": [
        {
          "output_type": "execute_result",
          "data": {
            "text/plain": [
              "array([13, 23,  6, 25,  2, 18, 14, 12, 22,  8])"
            ]
          },
          "metadata": {},
          "execution_count": 10
        }
      ]
    },
    {
      "cell_type": "code",
      "source": [
        "print('K before shuffle\\t: ', K)\n",
        "np.random.shuffle(K)\n",
        "print('K after shuffle\\t\\t: ', K)"
      ],
      "metadata": {
        "colab": {
          "base_uri": "https://localhost:8080/"
        },
        "id": "ZobohtPa1hsm",
        "outputId": "7bbab9dc-b09f-4c10-8153-975ebad9e926"
      },
      "execution_count": 11,
      "outputs": [
        {
          "output_type": "stream",
          "name": "stdout",
          "text": [
            "K before shuffle\t:  [13 23  6 25  2 18 14 12 22  8]\n",
            "K after shuffle\t\t:  [23 12  2  8 18 22  6 14 13 25]\n"
          ]
        }
      ]
    },
    {
      "cell_type": "markdown",
      "source": [
        "## Random Choice"
      ],
      "metadata": {
        "id": "TTJVPf-h1k6A"
      }
    },
    {
      "cell_type": "code",
      "source": [
        "print(np.random.choice(K), end='\\n\\n')                #(1)\n",
        "print(np.random.choice(K, size=(2,3)), end='\\n\\n')    #(2)\n",
        "print(np.random.choice(K, size=(2,4), replace=False)) #(3)"
      ],
      "metadata": {
        "colab": {
          "base_uri": "https://localhost:8080/"
        },
        "id": "EPf4iBx51i-P",
        "outputId": "7cba3b58-8818-4930-de19-7e393d750884"
      },
      "execution_count": 12,
      "outputs": [
        {
          "output_type": "stream",
          "name": "stdout",
          "text": [
            "8\n",
            "\n",
            "[[18 23 12]\n",
            " [ 2 18  8]]\n",
            "\n",
            "[[ 6 18  8 12]\n",
            " [ 2 22 23 25]]\n"
          ]
        }
      ]
    },
    {
      "cell_type": "markdown",
      "source": [
        "## Seed"
      ],
      "metadata": {
        "id": "Pagd_tZo1p41"
      }
    },
    {
      "cell_type": "code",
      "source": [
        "np.random.seed(99)\n",
        "np.random.randint(low=0, high=10, size=(2,5))"
      ],
      "metadata": {
        "colab": {
          "base_uri": "https://localhost:8080/"
        },
        "id": "XkvSQP2Q1mPb",
        "outputId": "4b0df369-5e6e-4a69-e664-ee295b9ac796"
      },
      "execution_count": 13,
      "outputs": [
        {
          "output_type": "execute_result",
          "data": {
            "text/plain": [
              "array([[1, 3, 9, 8, 9],\n",
              "       [8, 2, 4, 5, 4]])"
            ]
          },
          "metadata": {},
          "execution_count": 13
        }
      ]
    },
    {
      "cell_type": "code",
      "source": [
        "np.random.seed(99)\n",
        "np.random.randint(low=0, high=10, size=(2,5))"
      ],
      "metadata": {
        "colab": {
          "base_uri": "https://localhost:8080/"
        },
        "id": "OIaSnUhj1vyS",
        "outputId": "f3da04e5-debe-492d-819e-acee828ebda9"
      },
      "execution_count": 14,
      "outputs": [
        {
          "output_type": "execute_result",
          "data": {
            "text/plain": [
              "array([[1, 3, 9, 8, 9],\n",
              "       [8, 2, 4, 5, 4]])"
            ]
          },
          "metadata": {},
          "execution_count": 14
        }
      ]
    },
    {
      "cell_type": "markdown",
      "source": [
        "## View"
      ],
      "metadata": {
        "id": "60WpVH223ilM"
      }
    },
    {
      "cell_type": "code",
      "source": [
        "L = np.array([55, 66, 77, 88, 99])\n",
        "M = L\n",
        "print(M)"
      ],
      "metadata": {
        "colab": {
          "base_uri": "https://localhost:8080/"
        },
        "id": "ZvzU-U2t3hqN",
        "outputId": "bbf325e9-69c8-4e3c-c722-7a4cda6a6ee9"
      },
      "execution_count": 15,
      "outputs": [
        {
          "output_type": "stream",
          "name": "stdout",
          "text": [
            "[55 66 77 88 99]\n"
          ]
        }
      ]
    },
    {
      "cell_type": "code",
      "source": [
        "M[0] = 15\n",
        "print('L:', L)\n",
        "print('M:', M)"
      ],
      "metadata": {
        "colab": {
          "base_uri": "https://localhost:8080/"
        },
        "id": "1o01BnnP3kFI",
        "outputId": "f4bf4c37-f640-489b-a968-f36e4f759ad8"
      },
      "execution_count": 16,
      "outputs": [
        {
          "output_type": "stream",
          "name": "stdout",
          "text": [
            "L: [15 66 77 88 99]\n",
            "M: [15 66 77 88 99]\n"
          ]
        }
      ]
    },
    {
      "cell_type": "markdown",
      "source": [
        "## Copy"
      ],
      "metadata": {
        "id": "Luf2TF_13oSi"
      }
    },
    {
      "cell_type": "code",
      "source": [
        "L = np.array([55, 66, 77, 88, 99])\n",
        "M = L.copy()\n",
        "M[0] = 15\n",
        "\n",
        "print('L:', L)\n",
        "print('M:', M)"
      ],
      "metadata": {
        "colab": {
          "base_uri": "https://localhost:8080/"
        },
        "id": "3XTNXjzm3nDi",
        "outputId": "bb8adce3-7f9c-4ca4-a490-b0ca7530ca7a"
      },
      "execution_count": 17,
      "outputs": [
        {
          "output_type": "stream",
          "name": "stdout",
          "text": [
            "L: [55 66 77 88 99]\n",
            "M: [15 66 77 88 99]\n"
          ]
        }
      ]
    },
    {
      "cell_type": "markdown",
      "source": [
        "# Mathematical Functions"
      ],
      "metadata": {
        "id": "W2xhRJww3xRX"
      }
    },
    {
      "cell_type": "markdown",
      "source": [
        "## Basic Mathematical Operations"
      ],
      "metadata": {
        "id": "k8QjLT4b3yZw"
      }
    },
    {
      "cell_type": "code",
      "source": [
        "N = np.array([1,2,3], dtype='int32')\n",
        "O = np.array([4,5,6], dtype='int32')"
      ],
      "metadata": {
        "id": "ANEqt55q3qIb"
      },
      "execution_count": 18,
      "outputs": []
    },
    {
      "cell_type": "code",
      "source": [
        "print(N + O)\n",
        "print(N - O)\n",
        "print(N * O)\n",
        "print(N / O)"
      ],
      "metadata": {
        "colab": {
          "base_uri": "https://localhost:8080/"
        },
        "id": "TwlaqFar3zz7",
        "outputId": "752bc1fd-eb7e-4afa-9495-5009681f004e"
      },
      "execution_count": 19,
      "outputs": [
        {
          "output_type": "stream",
          "name": "stdout",
          "text": [
            "[5 7 9]\n",
            "[-3 -3 -3]\n",
            "[ 4 10 18]\n",
            "[0.25 0.4  0.5 ]\n"
          ]
        }
      ]
    },
    {
      "cell_type": "code",
      "source": [
        "print(np.add(N, O))\n",
        "print(np.subtract(N, O))\n",
        "print(np.multiply(N, O))\n",
        "print(np.divide(N, O))"
      ],
      "metadata": {
        "colab": {
          "base_uri": "https://localhost:8080/"
        },
        "id": "yIEmAatX302Q",
        "outputId": "32cbbafc-b50a-4da4-fca3-5c71f21b1d0d"
      },
      "execution_count": 20,
      "outputs": [
        {
          "output_type": "stream",
          "name": "stdout",
          "text": [
            "[5 7 9]\n",
            "[-3 -3 -3]\n",
            "[ 4 10 18]\n",
            "[0.25 0.4  0.5 ]\n"
          ]
        }
      ]
    },
    {
      "cell_type": "code",
      "source": [
        "print(N + 5)\n",
        "print(N - 5)\n",
        "print(N * 5)\n",
        "print(N / 5)"
      ],
      "metadata": {
        "colab": {
          "base_uri": "https://localhost:8080/"
        },
        "id": "0ZIhcT1Q32Ce",
        "outputId": "22293ef3-133e-45fa-dbb3-1b962066df6b"
      },
      "execution_count": 21,
      "outputs": [
        {
          "output_type": "stream",
          "name": "stdout",
          "text": [
            "[6 7 8]\n",
            "[-4 -3 -2]\n",
            "[ 5 10 15]\n",
            "[0.2 0.4 0.6]\n"
          ]
        }
      ]
    },
    {
      "cell_type": "code",
      "source": [
        "O = np.array([[2, 1, 0],\n",
        "              [5, 4, 3],\n",
        "              [8, 7, 6],\n",
        "              [1, 0, 9]])\n",
        "\n",
        "P = np.array([[4, 3],\n",
        "              [6, 5],\n",
        "              [8, 7]])\n",
        "\n",
        "np.matmul(O, P)"
      ],
      "metadata": {
        "colab": {
          "base_uri": "https://localhost:8080/"
        },
        "id": "sHqQgOtb33EJ",
        "outputId": "d5deda26-384f-49f2-f22b-c1415857d2e0"
      },
      "execution_count": 22,
      "outputs": [
        {
          "output_type": "execute_result",
          "data": {
            "text/plain": [
              "array([[ 14,  11],\n",
              "       [ 68,  56],\n",
              "       [122, 101],\n",
              "       [ 76,  66]])"
            ]
          },
          "metadata": {},
          "execution_count": 22
        }
      ]
    },
    {
      "cell_type": "code",
      "source": [
        "Q = np.array([-56, 92, -24, -66, 72, -75, 90, 0, 32, 51])\n",
        "\n",
        "print(np.sign(Q))\n",
        "print(np.negative(Q))\n",
        "print(np.abs(Q))      # Alternative: np.absolute()"
      ],
      "metadata": {
        "colab": {
          "base_uri": "https://localhost:8080/"
        },
        "id": "RFoNCVgk34d3",
        "outputId": "678f667b-d505-433a-d3f8-77691e05c54a"
      },
      "execution_count": 23,
      "outputs": [
        {
          "output_type": "stream",
          "name": "stdout",
          "text": [
            "[-1  1 -1 -1  1 -1  1  0  1  1]\n",
            "[ 56 -92  24  66 -72  75 -90   0 -32 -51]\n",
            "[56 92 24 66 72 75 90  0 32 51]\n"
          ]
        }
      ]
    },
    {
      "cell_type": "code",
      "source": [
        "Q = np.array([-56, 92, -24, -66, 72, -75, 90, 0, 32, 51])\n",
        "\n",
        "print(np.sign(Q))\n",
        "print(np.negative(Q))\n",
        "print(np.abs(Q))      # Alternative: np.absolute()"
      ],
      "metadata": {
        "colab": {
          "base_uri": "https://localhost:8080/"
        },
        "id": "tl0His9I355w",
        "outputId": "0e30ac2b-eb1d-40e0-a0fc-939b54cbfd28"
      },
      "execution_count": 24,
      "outputs": [
        {
          "output_type": "stream",
          "name": "stdout",
          "text": [
            "[-1  1 -1 -1  1 -1  1  0  1  1]\n",
            "[ 56 -92  24  66 -72  75 -90   0 -32 -51]\n",
            "[56 92 24 66 72 75 90  0 32 51]\n"
          ]
        }
      ]
    },
    {
      "cell_type": "markdown",
      "source": [
        "## GCD and LCM"
      ],
      "metadata": {
        "id": "CE7Qfchq4JgZ"
      }
    },
    {
      "cell_type": "code",
      "source": [
        "print(np.gcd(81, 72))    #(1)\n",
        "print(np.lcm([3, 6, 9], 24))    #(2)\n",
        "print(np.lcm([3, 12, 9], [24, 16, 3]))    #(3)"
      ],
      "metadata": {
        "colab": {
          "base_uri": "https://localhost:8080/"
        },
        "id": "holcN2tZ37iy",
        "outputId": "85479c88-fb9d-46ce-aa3b-160ca7fe3b50"
      },
      "execution_count": 25,
      "outputs": [
        {
          "output_type": "stream",
          "name": "stdout",
          "text": [
            "9\n",
            "[24 24 72]\n",
            "[24 48  9]\n"
          ]
        }
      ]
    },
    {
      "cell_type": "markdown",
      "source": [
        "## Exponential Functions"
      ],
      "metadata": {
        "id": "PoBi9jQc4Qlk"
      }
    },
    {
      "cell_type": "code",
      "source": [
        "print(np.power(8, 3))\n",
        "print(np.power([1,2,3,4], 2))\n",
        "print(np.power(144, 1/2))"
      ],
      "metadata": {
        "colab": {
          "base_uri": "https://localhost:8080/"
        },
        "id": "91diokyc4Occ",
        "outputId": "99174b6a-9212-45fd-cb7c-df06b99334bb"
      },
      "execution_count": 26,
      "outputs": [
        {
          "output_type": "stream",
          "name": "stdout",
          "text": [
            "512\n",
            "[ 1  4  9 16]\n",
            "12.0\n"
          ]
        }
      ]
    },
    {
      "cell_type": "code",
      "source": [
        "print(np.power(8, 3))\n",
        "print(np.power([1,2,3,4], 2))\n",
        "print(np.power(144, 1/2))"
      ],
      "metadata": {
        "colab": {
          "base_uri": "https://localhost:8080/"
        },
        "id": "7apIpwnr4SIC",
        "outputId": "5faf4226-2173-4932-d5be-95252e78b503"
      },
      "execution_count": 27,
      "outputs": [
        {
          "output_type": "stream",
          "name": "stdout",
          "text": [
            "512\n",
            "[ 1  4  9 16]\n",
            "12.0\n"
          ]
        }
      ]
    },
    {
      "cell_type": "markdown",
      "source": [
        "## Angular Conversion and Trigonometric Functions"
      ],
      "metadata": {
        "id": "lxexhW9x4Vgr"
      }
    },
    {
      "cell_type": "code",
      "source": [
        "R = np.array([0, 90, 180, 270])    # Angles in degree\n",
        "S = np.array([0, np.pi/2, np.pi, np.pi*3/2])    # Angles in radian\n",
        "\n",
        "print(np.deg2rad(R))\n",
        "print(np.rad2deg(S))"
      ],
      "metadata": {
        "colab": {
          "base_uri": "https://localhost:8080/"
        },
        "id": "jFBC5TFn4T7g",
        "outputId": "e915481b-0246-49ef-f926-88bf46353ee7"
      },
      "execution_count": 28,
      "outputs": [
        {
          "output_type": "stream",
          "name": "stdout",
          "text": [
            "[0.         1.57079633 3.14159265 4.71238898]\n",
            "[  0.  90. 180. 270.]\n"
          ]
        }
      ]
    },
    {
      "cell_type": "code",
      "source": [
        "T = np.deg2rad([0, 45, 60])\n",
        "\n",
        "print(np.sin(T))\n",
        "print(np.cos(T))\n",
        "print(np.tan(T))"
      ],
      "metadata": {
        "colab": {
          "base_uri": "https://localhost:8080/"
        },
        "id": "Km4ubrKw4W_u",
        "outputId": "9449c311-e17a-4dac-a982-91662bc8c283"
      },
      "execution_count": 29,
      "outputs": [
        {
          "output_type": "stream",
          "name": "stdout",
          "text": [
            "[0.         0.70710678 0.8660254 ]\n",
            "[1.         0.70710678 0.5       ]\n",
            "[0.         1.         1.73205081]\n"
          ]
        }
      ]
    },
    {
      "cell_type": "markdown",
      "source": [
        "## Logarithmic Functions"
      ],
      "metadata": {
        "id": "cwnKdmQv4ZPq"
      }
    },
    {
      "cell_type": "code",
      "source": [
        "U = [1, 2, 10, np.e]\n",
        "\n",
        "print(np.log(U))\n",
        "print(np.log2(U))\n",
        "print(np.log10(U))"
      ],
      "metadata": {
        "colab": {
          "base_uri": "https://localhost:8080/"
        },
        "id": "BUCNVq7U4YRD",
        "outputId": "52175f71-5f77-4641-fd50-d230128bc56a"
      },
      "execution_count": 30,
      "outputs": [
        {
          "output_type": "stream",
          "name": "stdout",
          "text": [
            "[0.         0.69314718 2.30258509 1.        ]\n",
            "[0.         1.         3.32192809 1.44269504]\n",
            "[0.         0.30103    1.         0.43429448]\n"
          ]
        }
      ]
    },
    {
      "cell_type": "markdown",
      "source": [
        "## Statistical Functions"
      ],
      "metadata": {
        "id": "P9ba_hb84byM"
      }
    },
    {
      "cell_type": "code",
      "source": [
        "V = np.array([1, 5, 4, 6, 8, 5, 4, 3, 2, 4, 7, 9, 5, 4, 3, 2, 0, 7, 9])\n",
        "\n",
        "print('sum\\t:', np.sum(V))\n",
        "print('mean\\t:', np.mean(V))\n",
        "print('median\\t:', np.median(V))\n",
        "print('var\\t:', np.var(V))\n",
        "print('stddev\\t:', np.std(V))\n",
        "print('q1\\t:', np.quantile(V, 0.25))\n",
        "print('q2\\t:', np.quantile(V, 0.5))\n",
        "print('q3\\t:', np.quantile(V, 0.75))\n",
        "print('min\\t:', np.min(V))\n",
        "print('max\\t:', np.max(V))"
      ],
      "metadata": {
        "colab": {
          "base_uri": "https://localhost:8080/"
        },
        "id": "UnfJzYS64a5v",
        "outputId": "ec8e3377-60cf-4696-82c2-4ee53b4a57d0"
      },
      "execution_count": 31,
      "outputs": [
        {
          "output_type": "stream",
          "name": "stdout",
          "text": [
            "sum\t: 88\n",
            "mean\t: 4.631578947368421\n",
            "median\t: 4.0\n",
            "var\t: 6.232686980609418\n",
            "stddev\t: 2.4965349948697733\n",
            "q1\t: 3.0\n",
            "q2\t: 4.0\n",
            "q3\t: 6.5\n",
            "min\t: 0\n",
            "max\t: 9\n"
          ]
        }
      ]
    },
    {
      "cell_type": "code",
      "source": [
        "print('argmin\\t:', np.argmin(V))\n",
        "print('argmax\\t:', np.argmax(V))"
      ],
      "metadata": {
        "colab": {
          "base_uri": "https://localhost:8080/"
        },
        "id": "S1VAp71-4dzq",
        "outputId": "1ccc65a8-7975-4685-f442-bbad687c7c80"
      },
      "execution_count": 32,
      "outputs": [
        {
          "output_type": "stream",
          "name": "stdout",
          "text": [
            "argmin\t: 16\n",
            "argmax\t: 11\n"
          ]
        }
      ]
    },
    {
      "cell_type": "markdown",
      "source": [
        "## Linear Algebra"
      ],
      "metadata": {
        "id": "IAZFYatH4gTw"
      }
    },
    {
      "cell_type": "code",
      "source": [
        "W = np.array([10, 20, 30, 40])\n",
        "X = np.array([3, 4, 5, 6])"
      ],
      "metadata": {
        "id": "QFxEy9dB4fg8"
      },
      "execution_count": 33,
      "outputs": []
    },
    {
      "cell_type": "code",
      "source": [
        "np.dot(W, X)"
      ],
      "metadata": {
        "colab": {
          "base_uri": "https://localhost:8080/"
        },
        "id": "g8NSV9P14hud",
        "outputId": "427c2080-0f11-4058-b963-72b2497bd16b"
      },
      "execution_count": 34,
      "outputs": [
        {
          "output_type": "execute_result",
          "data": {
            "text/plain": [
              "500"
            ]
          },
          "metadata": {},
          "execution_count": 34
        }
      ]
    },
    {
      "cell_type": "code",
      "source": [
        "print(np.inner(W, X))\n",
        "print(np.outer(W, X))"
      ],
      "metadata": {
        "colab": {
          "base_uri": "https://localhost:8080/"
        },
        "id": "J7ftZR-M4jG6",
        "outputId": "9c79f0dd-b867-4366-f203-ae657467e482"
      },
      "execution_count": 35,
      "outputs": [
        {
          "output_type": "stream",
          "name": "stdout",
          "text": [
            "500\n",
            "[[ 30  40  50  60]\n",
            " [ 60  80 100 120]\n",
            " [ 90 120 150 180]\n",
            " [120 160 200 240]]\n"
          ]
        }
      ]
    },
    {
      "cell_type": "code",
      "source": [
        "Y = np.array([[2, 1, 0],\n",
        "              [0, 4, 5],\n",
        "              [2, 6, 3]])"
      ],
      "metadata": {
        "id": "5cBYr3ST4pEO"
      },
      "execution_count": 37,
      "outputs": []
    },
    {
      "cell_type": "code",
      "source": [
        "np.transpose(Y)"
      ],
      "metadata": {
        "colab": {
          "base_uri": "https://localhost:8080/"
        },
        "id": "qYSzAkoD4kHj",
        "outputId": "4f53f144-51e3-4bb0-cda1-fed03dac9ee7"
      },
      "execution_count": 38,
      "outputs": [
        {
          "output_type": "execute_result",
          "data": {
            "text/plain": [
              "array([[2, 0, 2],\n",
              "       [1, 4, 6],\n",
              "       [0, 5, 3]])"
            ]
          },
          "metadata": {},
          "execution_count": 38
        }
      ]
    },
    {
      "cell_type": "code",
      "source": [
        "np.linalg.inv(Y)"
      ],
      "metadata": {
        "colab": {
          "base_uri": "https://localhost:8080/"
        },
        "id": "6MkBaJtP4nxj",
        "outputId": "cc6b6f94-28bd-4304-8999-788b21ade905"
      },
      "execution_count": 39,
      "outputs": [
        {
          "output_type": "execute_result",
          "data": {
            "text/plain": [
              "array([[ 0.69230769,  0.11538462, -0.19230769],\n",
              "       [-0.38461538, -0.23076923,  0.38461538],\n",
              "       [ 0.30769231,  0.38461538, -0.30769231]])"
            ]
          },
          "metadata": {},
          "execution_count": 39
        }
      ]
    },
    {
      "cell_type": "code",
      "source": [
        "np.linalg.det(Y)"
      ],
      "metadata": {
        "colab": {
          "base_uri": "https://localhost:8080/"
        },
        "id": "pNCmdujd4qjZ",
        "outputId": "7ac4038a-ea4d-4cce-f08d-6576d6a79739"
      },
      "execution_count": 40,
      "outputs": [
        {
          "output_type": "execute_result",
          "data": {
            "text/plain": [
              "-25.99999999999999"
            ]
          },
          "metadata": {},
          "execution_count": 40
        }
      ]
    },
    {
      "cell_type": "code",
      "source": [
        "eigenvalues, eigenvectors = np.linalg.eig(Y)\n",
        "\n",
        "print(eigenvalues, end='\\n\\n')\n",
        "print(eigenvectors)"
      ],
      "metadata": {
        "colab": {
          "base_uri": "https://localhost:8080/"
        },
        "id": "vFWTC6134rrO",
        "outputId": "5dc805da-a01d-496c-d4cb-9ee6053f2162"
      },
      "execution_count": 41,
      "outputs": [
        {
          "output_type": "stream",
          "name": "stdout",
          "text": [
            "[-1.75212771  1.6260023   9.12612541]\n",
            "\n",
            "[[-0.17223211 -0.92394503 -0.09751686]\n",
            " [ 0.64623686  0.34555331 -0.69491737]\n",
            " [-0.74344739 -0.16406855 -0.71244671]]\n"
          ]
        }
      ]
    },
    {
      "cell_type": "markdown",
      "source": [
        "# Logical and Bitwise Operators"
      ],
      "metadata": {
        "id": "1Zu-oqRh4uZV"
      }
    },
    {
      "cell_type": "markdown",
      "source": [
        "## Logical Operators"
      ],
      "metadata": {
        "id": "ixm5QpOL4vss"
      }
    },
    {
      "cell_type": "code",
      "source": [
        "Z = np.array([True, True, True])\n",
        "AA = np.array([False, True, True])"
      ],
      "metadata": {
        "id": "fA-jiAFR4s_I"
      },
      "execution_count": 43,
      "outputs": []
    },
    {
      "cell_type": "code",
      "source": [
        "print(np.logical_and(Z, AA))\n",
        "print(np.logical_or(Z, AA))\n",
        "print(np.logical_xor(Z, AA))"
      ],
      "metadata": {
        "colab": {
          "base_uri": "https://localhost:8080/"
        },
        "id": "7ym4w5A64w8X",
        "outputId": "c79f0343-4237-4af2-8f70-7b2297dee69b"
      },
      "execution_count": 44,
      "outputs": [
        {
          "output_type": "stream",
          "name": "stdout",
          "text": [
            "[False  True  True]\n",
            "[ True  True  True]\n",
            "[ True False False]\n"
          ]
        }
      ]
    },
    {
      "cell_type": "code",
      "source": [
        "print('np.any(Z): ', np.any(Z))\n",
        "print('np.all(Z): ', np.all(Z), end='\\n\\n')\n",
        "print('np.any(AA):', np.any(AA))\n",
        "print('np.all(AA):', np.all(AA))"
      ],
      "metadata": {
        "colab": {
          "base_uri": "https://localhost:8080/"
        },
        "id": "6152gLOa4yeH",
        "outputId": "45b878f9-3bf8-45f9-d6bf-5ad127ec5efb"
      },
      "execution_count": 45,
      "outputs": [
        {
          "output_type": "stream",
          "name": "stdout",
          "text": [
            "np.any(Z):  True\n",
            "np.all(Z):  True\n",
            "\n",
            "np.any(AA): True\n",
            "np.all(AA): False\n"
          ]
        }
      ]
    },
    {
      "cell_type": "code",
      "source": [
        "AB = np.array([2, 0, 3, -5, 5, -1, 2, -4])\n",
        "\n",
        "print(np.any(AB > 4))    #(1)\n",
        "print(np.all(AB > 4))    #(2)"
      ],
      "metadata": {
        "colab": {
          "base_uri": "https://localhost:8080/"
        },
        "id": "YIVZ6tJE4zdE",
        "outputId": "dc690b4f-3e70-40d8-84f2-1c6102fe0c64"
      },
      "execution_count": 47,
      "outputs": [
        {
          "output_type": "stream",
          "name": "stdout",
          "text": [
            "True\n",
            "False\n"
          ]
        }
      ]
    },
    {
      "cell_type": "markdown",
      "source": [
        "## Bitwise Operators"
      ],
      "metadata": {
        "id": "X9Mw_d6442B7"
      }
    },
    {
      "cell_type": "code",
      "source": [
        "print(np.bitwise_and(12, 13))\n",
        "print(np.bitwise_or(12, 13))\n",
        "print(np.bitwise_xor(12, 13))"
      ],
      "metadata": {
        "colab": {
          "base_uri": "https://localhost:8080/"
        },
        "id": "HvSMc7XY40kJ",
        "outputId": "3ae32238-2085-4e53-d881-b60ce6e7e917"
      },
      "execution_count": 48,
      "outputs": [
        {
          "output_type": "stream",
          "name": "stdout",
          "text": [
            "12\n",
            "13\n",
            "1\n"
          ]
        }
      ]
    },
    {
      "cell_type": "code",
      "source": [
        "print(np.binary_repr(12))\n",
        "print(np.binary_repr(13))"
      ],
      "metadata": {
        "colab": {
          "base_uri": "https://localhost:8080/"
        },
        "id": "DK869FqF436w",
        "outputId": "253078b0-3854-4d94-912c-d0f2f2e262ae"
      },
      "execution_count": 50,
      "outputs": [
        {
          "output_type": "stream",
          "name": "stdout",
          "text": [
            "1100\n",
            "1101\n"
          ]
        }
      ]
    },
    {
      "cell_type": "markdown",
      "source": [
        "# Search and Sort"
      ],
      "metadata": {
        "id": "Z88h26ku47MJ"
      }
    },
    {
      "cell_type": "code",
      "source": [
        "AC = np.array([9, 4, 5, 3, 2, 6, 8, 6, 5, 4, 5, 5, 3, 2])\n",
        "\n",
        "mask = AC > 5  #(1)\n",
        "mask"
      ],
      "metadata": {
        "colab": {
          "base_uri": "https://localhost:8080/"
        },
        "id": "SVCZPlGw45Wh",
        "outputId": "8fab5248-8347-46ab-8f60-74054ebd5f2e"
      },
      "execution_count": 51,
      "outputs": [
        {
          "output_type": "execute_result",
          "data": {
            "text/plain": [
              "array([ True, False, False, False, False,  True,  True,  True, False,\n",
              "       False, False, False, False, False])"
            ]
          },
          "metadata": {},
          "execution_count": 51
        }
      ]
    },
    {
      "cell_type": "code",
      "source": [
        "AC[mask]"
      ],
      "metadata": {
        "colab": {
          "base_uri": "https://localhost:8080/"
        },
        "id": "ZQKeElCB48ZL",
        "outputId": "be714f4f-84dd-448a-836c-e97813143f6e"
      },
      "execution_count": 52,
      "outputs": [
        {
          "output_type": "execute_result",
          "data": {
            "text/plain": [
              "array([9, 6, 8, 6])"
            ]
          },
          "metadata": {},
          "execution_count": 52
        }
      ]
    },
    {
      "cell_type": "code",
      "source": [
        "AC[AC > 5]"
      ],
      "metadata": {
        "colab": {
          "base_uri": "https://localhost:8080/"
        },
        "id": "Lp9pknoj49bS",
        "outputId": "da9e910d-2b6c-403e-db7f-118e2956dc83"
      },
      "execution_count": 53,
      "outputs": [
        {
          "output_type": "execute_result",
          "data": {
            "text/plain": [
              "array([9, 6, 8, 6])"
            ]
          },
          "metadata": {},
          "execution_count": 53
        }
      ]
    },
    {
      "cell_type": "code",
      "source": [
        "AC[(AC > 5) & (AC != 9)]"
      ],
      "metadata": {
        "colab": {
          "base_uri": "https://localhost:8080/"
        },
        "id": "oBhE-O2G4-QO",
        "outputId": "2e8502d7-14bd-40ec-b3b8-0c397bc0f033"
      },
      "execution_count": 54,
      "outputs": [
        {
          "output_type": "execute_result",
          "data": {
            "text/plain": [
              "array([6, 8, 6])"
            ]
          },
          "metadata": {},
          "execution_count": 54
        }
      ]
    },
    {
      "cell_type": "code",
      "source": [
        "AC[np.where((AC > 5) & (AC != 9))]"
      ],
      "metadata": {
        "colab": {
          "base_uri": "https://localhost:8080/"
        },
        "id": "FMngXFCo4_V4",
        "outputId": "0a0d45ec-0315-4695-95ea-30b641b7b184"
      },
      "execution_count": 55,
      "outputs": [
        {
          "output_type": "execute_result",
          "data": {
            "text/plain": [
              "array([6, 8, 6])"
            ]
          },
          "metadata": {},
          "execution_count": 55
        }
      ]
    },
    {
      "cell_type": "code",
      "source": [
        "np.where((AC > 5) & (AC != 9))"
      ],
      "metadata": {
        "colab": {
          "base_uri": "https://localhost:8080/"
        },
        "id": "rwIMYjUN5Bts",
        "outputId": "1ae01d0f-fef7-480e-898e-304fe37ca7ee"
      },
      "execution_count": 56,
      "outputs": [
        {
          "output_type": "execute_result",
          "data": {
            "text/plain": [
              "(array([5, 6, 7]),)"
            ]
          },
          "metadata": {},
          "execution_count": 56
        }
      ]
    },
    {
      "cell_type": "code",
      "source": [
        "print(AC)\n",
        "print(np.where(AC > 5, 0, AC+2))"
      ],
      "metadata": {
        "colab": {
          "base_uri": "https://localhost:8080/"
        },
        "id": "OthO6Xzh5Cok",
        "outputId": "1f3aa446-37ba-4cbe-a32d-37323c6db473"
      },
      "execution_count": 57,
      "outputs": [
        {
          "output_type": "stream",
          "name": "stdout",
          "text": [
            "[9 4 5 3 2 6 8 6 5 4 5 5 3 2]\n",
            "[0 6 7 5 4 0 0 0 7 6 7 7 5 4]\n"
          ]
        }
      ]
    },
    {
      "cell_type": "code",
      "source": [
        "np.unique(AC, return_counts=True)"
      ],
      "metadata": {
        "colab": {
          "base_uri": "https://localhost:8080/"
        },
        "id": "QLiGaAnV5Dth",
        "outputId": "24056a39-216e-4919-c7af-f7ed5dda7e00"
      },
      "execution_count": 58,
      "outputs": [
        {
          "output_type": "execute_result",
          "data": {
            "text/plain": [
              "(array([2, 3, 4, 5, 6, 8, 9]), array([2, 2, 2, 4, 2, 1, 1]))"
            ]
          },
          "metadata": {},
          "execution_count": 58
        }
      ]
    },
    {
      "cell_type": "markdown",
      "source": [
        "## Sorting"
      ],
      "metadata": {
        "id": "XTdRfeek5ZDy"
      }
    },
    {
      "cell_type": "code",
      "source": [
        "AD = np.array([77,33,44,99,22,88,55,11,66])\n",
        "AE = np.array([\"Elon Musk\", \"Bill Gates\", \"Joe Biden\", \"Barack Obama\"])\n",
        "\n",
        "print(np.sort(AD))\n",
        "print(np.sort(AE))"
      ],
      "metadata": {
        "colab": {
          "base_uri": "https://localhost:8080/"
        },
        "id": "GtkCvKQJ5EoF",
        "outputId": "df2af961-25aa-4518-8308-82583624df7d"
      },
      "execution_count": 59,
      "outputs": [
        {
          "output_type": "stream",
          "name": "stdout",
          "text": [
            "[11 22 33 44 55 66 77 88 99]\n",
            "['Barack Obama' 'Bill Gates' 'Elon Musk' 'Joe Biden']\n"
          ]
        }
      ]
    },
    {
      "cell_type": "code",
      "source": [
        "print(np.flip(np.sort(AD)))\n",
        "print(np.flip(np.sort(AE)))"
      ],
      "metadata": {
        "colab": {
          "base_uri": "https://localhost:8080/"
        },
        "id": "hNGH1aKk5YTF",
        "outputId": "9de16bad-ebb4-4bb4-83bc-1e847a60fbc2"
      },
      "execution_count": 60,
      "outputs": [
        {
          "output_type": "stream",
          "name": "stdout",
          "text": [
            "[99 88 77 66 55 44 33 22 11]\n",
            "['Joe Biden' 'Elon Musk' 'Bill Gates' 'Barack Obama']\n"
          ]
        }
      ]
    },
    {
      "cell_type": "code",
      "source": [
        "np.argsort(AD)"
      ],
      "metadata": {
        "colab": {
          "base_uri": "https://localhost:8080/"
        },
        "id": "eaiWPUei5b1s",
        "outputId": "a83b1771-ba94-43cb-e245-32cbda634c73"
      },
      "execution_count": 61,
      "outputs": [
        {
          "output_type": "execute_result",
          "data": {
            "text/plain": [
              "array([7, 4, 1, 2, 6, 8, 0, 5, 3])"
            ]
          },
          "metadata": {},
          "execution_count": 61
        }
      ]
    },
    {
      "cell_type": "code",
      "source": [
        "AD[np.argsort(AD)]"
      ],
      "metadata": {
        "colab": {
          "base_uri": "https://localhost:8080/"
        },
        "id": "Otekaf8Y5dON",
        "outputId": "7788ad3c-ac01-414a-acdc-28c43e595703"
      },
      "execution_count": 62,
      "outputs": [
        {
          "output_type": "execute_result",
          "data": {
            "text/plain": [
              "array([11, 22, 33, 44, 55, 66, 77, 88, 99])"
            ]
          },
          "metadata": {},
          "execution_count": 62
        }
      ]
    },
    {
      "cell_type": "code",
      "source": [
        "AF = np.array([[3, 1, 5, 7],\n",
        "               [8, 9, 3, 2],\n",
        "               [4, 8, 2, 6]])"
      ],
      "metadata": {
        "id": "jQ-jEGTY5mZq"
      },
      "execution_count": 63,
      "outputs": []
    },
    {
      "cell_type": "code",
      "source": [
        "AG = np.arange(13)\n",
        "AG"
      ],
      "metadata": {
        "colab": {
          "base_uri": "https://localhost:8080/"
        },
        "id": "TJCTnR6p5nW2",
        "outputId": "ef96f89f-6636-4d57-fc2e-ae0e12b4c6cc"
      },
      "execution_count": 64,
      "outputs": [
        {
          "output_type": "execute_result",
          "data": {
            "text/plain": [
              "array([ 0,  1,  2,  3,  4,  5,  6,  7,  8,  9, 10, 11, 12])"
            ]
          },
          "metadata": {},
          "execution_count": 64
        }
      ]
    },
    {
      "cell_type": "code",
      "source": [
        "AG = np.arange(13)\n",
        "AG"
      ],
      "metadata": {
        "colab": {
          "base_uri": "https://localhost:8080/"
        },
        "id": "Vjxo55i45pNh",
        "outputId": "3736cf67-5676-41f1-d216-6c9835e78367"
      },
      "execution_count": 65,
      "outputs": [
        {
          "output_type": "execute_result",
          "data": {
            "text/plain": [
              "array([ 0,  1,  2,  3,  4,  5,  6,  7,  8,  9, 10, 11, 12])"
            ]
          },
          "metadata": {},
          "execution_count": 65
        }
      ]
    },
    {
      "cell_type": "markdown",
      "source": [
        "# Shape and Reshape"
      ],
      "metadata": {
        "id": "jGgsNYDn5rQm"
      }
    },
    {
      "cell_type": "code",
      "source": [
        "AH = np.array([[0,   1,  2,  3,  4,  5],\n",
        "               [6,   7,  8,  9, 10, 11],\n",
        "               [12, 13, 14, 15, 16, 17],\n",
        "               [18, 19, 20, 21, 22, 23],\n",
        "               [24, 25, 26, 27, 28, 29]])\n",
        "\n",
        "len(AH)"
      ],
      "metadata": {
        "colab": {
          "base_uri": "https://localhost:8080/"
        },
        "id": "gph_cI7j5qZL",
        "outputId": "32ba6cc9-7a34-4fd8-e9a1-548e0c81a6c6"
      },
      "execution_count": 66,
      "outputs": [
        {
          "output_type": "execute_result",
          "data": {
            "text/plain": [
              "5"
            ]
          },
          "metadata": {},
          "execution_count": 66
        }
      ]
    },
    {
      "cell_type": "code",
      "source": [
        "AH.shape"
      ],
      "metadata": {
        "colab": {
          "base_uri": "https://localhost:8080/"
        },
        "id": "bA0nMpz65syy",
        "outputId": "be61ea2d-0e28-4d62-c868-0e9d02369dfb"
      },
      "execution_count": 67,
      "outputs": [
        {
          "output_type": "execute_result",
          "data": {
            "text/plain": [
              "(5, 6)"
            ]
          },
          "metadata": {},
          "execution_count": 67
        }
      ]
    },
    {
      "cell_type": "code",
      "source": [
        "AH.reshape(3,10)"
      ],
      "metadata": {
        "colab": {
          "base_uri": "https://localhost:8080/"
        },
        "id": "mjsaZIFO5twS",
        "outputId": "a9b80975-d648-4989-c639-56ab05d9de50"
      },
      "execution_count": 68,
      "outputs": [
        {
          "output_type": "execute_result",
          "data": {
            "text/plain": [
              "array([[ 0,  1,  2,  3,  4,  5,  6,  7,  8,  9],\n",
              "       [10, 11, 12, 13, 14, 15, 16, 17, 18, 19],\n",
              "       [20, 21, 22, 23, 24, 25, 26, 27, 28, 29]])"
            ]
          },
          "metadata": {},
          "execution_count": 68
        }
      ]
    },
    {
      "cell_type": "code",
      "source": [
        "AH.reshape(2,3,5)"
      ],
      "metadata": {
        "colab": {
          "base_uri": "https://localhost:8080/"
        },
        "id": "5PId-EtR5wTd",
        "outputId": "ebf3bf65-f98c-45ef-ecfb-3ae5ab2a155f"
      },
      "execution_count": 69,
      "outputs": [
        {
          "output_type": "execute_result",
          "data": {
            "text/plain": [
              "array([[[ 0,  1,  2,  3,  4],\n",
              "        [ 5,  6,  7,  8,  9],\n",
              "        [10, 11, 12, 13, 14]],\n",
              "\n",
              "       [[15, 16, 17, 18, 19],\n",
              "        [20, 21, 22, 23, 24],\n",
              "        [25, 26, 27, 28, 29]]])"
            ]
          },
          "metadata": {},
          "execution_count": 69
        }
      ]
    },
    {
      "cell_type": "code",
      "source": [
        "AH.reshape(-1,5)"
      ],
      "metadata": {
        "colab": {
          "base_uri": "https://localhost:8080/"
        },
        "id": "hKTpdCtH5xp-",
        "outputId": "93bb3093-3813-4e1c-d9fc-527100bdcabe"
      },
      "execution_count": 70,
      "outputs": [
        {
          "output_type": "execute_result",
          "data": {
            "text/plain": [
              "array([[ 0,  1,  2,  3,  4],\n",
              "       [ 5,  6,  7,  8,  9],\n",
              "       [10, 11, 12, 13, 14],\n",
              "       [15, 16, 17, 18, 19],\n",
              "       [20, 21, 22, 23, 24],\n",
              "       [25, 26, 27, 28, 29]])"
            ]
          },
          "metadata": {},
          "execution_count": 70
        }
      ]
    },
    {
      "cell_type": "code",
      "source": [
        "AH.reshape(-1,1)"
      ],
      "metadata": {
        "colab": {
          "base_uri": "https://localhost:8080/"
        },
        "id": "JGQQd08S5y8Y",
        "outputId": "96bc5ab3-65b5-4a74-a46c-11d0cea1ecc1"
      },
      "execution_count": 71,
      "outputs": [
        {
          "output_type": "execute_result",
          "data": {
            "text/plain": [
              "array([[ 0],\n",
              "       [ 1],\n",
              "       [ 2],\n",
              "       [ 3],\n",
              "       [ 4],\n",
              "       [ 5],\n",
              "       [ 6],\n",
              "       [ 7],\n",
              "       [ 8],\n",
              "       [ 9],\n",
              "       [10],\n",
              "       [11],\n",
              "       [12],\n",
              "       [13],\n",
              "       [14],\n",
              "       [15],\n",
              "       [16],\n",
              "       [17],\n",
              "       [18],\n",
              "       [19],\n",
              "       [20],\n",
              "       [21],\n",
              "       [22],\n",
              "       [23],\n",
              "       [24],\n",
              "       [25],\n",
              "       [26],\n",
              "       [27],\n",
              "       [28],\n",
              "       [29]])"
            ]
          },
          "metadata": {},
          "execution_count": 71
        }
      ]
    },
    {
      "cell_type": "code",
      "source": [
        "AH.flatten()"
      ],
      "metadata": {
        "colab": {
          "base_uri": "https://localhost:8080/"
        },
        "id": "ExLHHhvd50O3",
        "outputId": "d0304191-f7b5-484e-9c71-b2de22314a06"
      },
      "execution_count": 72,
      "outputs": [
        {
          "output_type": "execute_result",
          "data": {
            "text/plain": [
              "array([ 0,  1,  2,  3,  4,  5,  6,  7,  8,  9, 10, 11, 12, 13, 14, 15, 16,\n",
              "       17, 18, 19, 20, 21, 22, 23, 24, 25, 26, 27, 28, 29])"
            ]
          },
          "metadata": {},
          "execution_count": 72
        }
      ]
    },
    {
      "cell_type": "code",
      "source": [
        "AH.flatten()[:, np.newaxis]"
      ],
      "metadata": {
        "colab": {
          "base_uri": "https://localhost:8080/"
        },
        "id": "7gn69N1c51fx",
        "outputId": "ed4e812e-d804-4b8c-9f71-6551c7b706ad"
      },
      "execution_count": 73,
      "outputs": [
        {
          "output_type": "execute_result",
          "data": {
            "text/plain": [
              "array([[ 0],\n",
              "       [ 1],\n",
              "       [ 2],\n",
              "       [ 3],\n",
              "       [ 4],\n",
              "       [ 5],\n",
              "       [ 6],\n",
              "       [ 7],\n",
              "       [ 8],\n",
              "       [ 9],\n",
              "       [10],\n",
              "       [11],\n",
              "       [12],\n",
              "       [13],\n",
              "       [14],\n",
              "       [15],\n",
              "       [16],\n",
              "       [17],\n",
              "       [18],\n",
              "       [19],\n",
              "       [20],\n",
              "       [21],\n",
              "       [22],\n",
              "       [23],\n",
              "       [24],\n",
              "       [25],\n",
              "       [26],\n",
              "       [27],\n",
              "       [28],\n",
              "       [29]])"
            ]
          },
          "metadata": {},
          "execution_count": 73
        }
      ]
    },
    {
      "cell_type": "code",
      "source": [
        "AH.flatten()[np.newaxis, :]"
      ],
      "metadata": {
        "colab": {
          "base_uri": "https://localhost:8080/"
        },
        "id": "RZYPVopB52eR",
        "outputId": "44f68c8d-96f2-423d-c154-8832d708c147"
      },
      "execution_count": 74,
      "outputs": [
        {
          "output_type": "execute_result",
          "data": {
            "text/plain": [
              "array([[ 0,  1,  2,  3,  4,  5,  6,  7,  8,  9, 10, 11, 12, 13, 14, 15,\n",
              "        16, 17, 18, 19, 20, 21, 22, 23, 24, 25, 26, 27, 28, 29]])"
            ]
          },
          "metadata": {},
          "execution_count": 74
        }
      ]
    },
    {
      "cell_type": "markdown",
      "source": [
        "# Concatenation and Splitting"
      ],
      "metadata": {
        "id": "I54Riv76546t"
      }
    },
    {
      "cell_type": "code",
      "source": [
        "AI = np.array(np.random.randint(0, 5, (2,4)))\n",
        "AJ = np.array(np.random.randint(5, 10, (2,4)))\n",
        "\n",
        "print(AI, end='\\n\\n')\n",
        "print(AJ)"
      ],
      "metadata": {
        "colab": {
          "base_uri": "https://localhost:8080/"
        },
        "id": "tcIL7lB0532n",
        "outputId": "8cb7a1e0-e859-4889-e5fd-14091997546d"
      },
      "execution_count": 75,
      "outputs": [
        {
          "output_type": "stream",
          "name": "stdout",
          "text": [
            "[[1 3 1 1]\n",
            " [0 3 3 4]]\n",
            "\n",
            "[[7 5 9 5]\n",
            " [5 9 6 8]]\n"
          ]
        }
      ]
    },
    {
      "cell_type": "code",
      "source": [
        "np.vstack((AI,AJ))"
      ],
      "metadata": {
        "colab": {
          "base_uri": "https://localhost:8080/"
        },
        "id": "2OXkKHhP56O8",
        "outputId": "63b31ab5-4fb8-43a0-8a46-f664640b669d"
      },
      "execution_count": 76,
      "outputs": [
        {
          "output_type": "execute_result",
          "data": {
            "text/plain": [
              "array([[1, 3, 1, 1],\n",
              "       [0, 3, 3, 4],\n",
              "       [7, 5, 9, 5],\n",
              "       [5, 9, 6, 8]])"
            ]
          },
          "metadata": {},
          "execution_count": 76
        }
      ]
    },
    {
      "cell_type": "code",
      "source": [
        "np.hstack((AI,AJ))"
      ],
      "metadata": {
        "colab": {
          "base_uri": "https://localhost:8080/"
        },
        "id": "_d9YWLR857MD",
        "outputId": "610cac19-ac6a-420e-eca9-3292c38e664b"
      },
      "execution_count": 77,
      "outputs": [
        {
          "output_type": "execute_result",
          "data": {
            "text/plain": [
              "array([[1, 3, 1, 1, 7, 5, 9, 5],\n",
              "       [0, 3, 3, 4, 5, 9, 6, 8]])"
            ]
          },
          "metadata": {},
          "execution_count": 77
        }
      ]
    },
    {
      "cell_type": "code",
      "source": [
        "print(np.vstack((AI,AJ,AJ,AJ,AI)), end='\\n\\n')\n",
        "print(np.hstack((AI,AJ,AJ,AJ,AI)))"
      ],
      "metadata": {
        "colab": {
          "base_uri": "https://localhost:8080/"
        },
        "id": "li4-aX7F59G3",
        "outputId": "9a94f833-c4fa-4e21-b209-107ce8443ed7"
      },
      "execution_count": 78,
      "outputs": [
        {
          "output_type": "stream",
          "name": "stdout",
          "text": [
            "[[1 3 1 1]\n",
            " [0 3 3 4]\n",
            " [7 5 9 5]\n",
            " [5 9 6 8]\n",
            " [7 5 9 5]\n",
            " [5 9 6 8]\n",
            " [7 5 9 5]\n",
            " [5 9 6 8]\n",
            " [1 3 1 1]\n",
            " [0 3 3 4]]\n",
            "\n",
            "[[1 3 1 1 7 5 9 5 7 5 9 5 7 5 9 5 1 3 1 1]\n",
            " [0 3 3 4 5 9 6 8 5 9 6 8 5 9 6 8 0 3 3 4]]\n"
          ]
        }
      ]
    },
    {
      "cell_type": "code",
      "source": [
        "print(np.append(AI, AJ), end='\\n\\n')\n",
        "print(np.append(AI, AJ, axis=0), end='\\n\\n')\n",
        "print(np.append(AI, AJ, axis=1))"
      ],
      "metadata": {
        "colab": {
          "base_uri": "https://localhost:8080/"
        },
        "id": "H4DEwCqj5-BF",
        "outputId": "91c4a9b3-9b9c-452e-fc37-d7dd7cd9ff01"
      },
      "execution_count": 79,
      "outputs": [
        {
          "output_type": "stream",
          "name": "stdout",
          "text": [
            "[1 3 1 1 0 3 3 4 7 5 9 5 5 9 6 8]\n",
            "\n",
            "[[1 3 1 1]\n",
            " [0 3 3 4]\n",
            " [7 5 9 5]\n",
            " [5 9 6 8]]\n",
            "\n",
            "[[1 3 1 1 7 5 9 5]\n",
            " [0 3 3 4 5 9 6 8]]\n"
          ]
        }
      ]
    },
    {
      "cell_type": "code",
      "source": [
        "print(np.concatenate([AI, AI, AI], axis=None), end='\\n\\n')\n",
        "print(np.concatenate([AI, AI, AI]), end='\\n\\n')\n",
        "print(np.concatenate([AI, AI, AI], axis=1))"
      ],
      "metadata": {
        "colab": {
          "base_uri": "https://localhost:8080/"
        },
        "id": "FtHN0O885_LJ",
        "outputId": "171803bf-f3bb-4fc2-decd-05c98c42fe18"
      },
      "execution_count": 80,
      "outputs": [
        {
          "output_type": "stream",
          "name": "stdout",
          "text": [
            "[1 3 1 1 0 3 3 4 1 3 1 1 0 3 3 4 1 3 1 1 0 3 3 4]\n",
            "\n",
            "[[1 3 1 1]\n",
            " [0 3 3 4]\n",
            " [1 3 1 1]\n",
            " [0 3 3 4]\n",
            " [1 3 1 1]\n",
            " [0 3 3 4]]\n",
            "\n",
            "[[1 3 1 1 1 3 1 1 1 3 1 1]\n",
            " [0 3 3 4 0 3 3 4 0 3 3 4]]\n"
          ]
        }
      ]
    },
    {
      "cell_type": "markdown",
      "source": [
        "## Splitting"
      ],
      "metadata": {
        "id": "XWf3WJb_6BWP"
      }
    },
    {
      "cell_type": "code",
      "source": [
        "AK = np.random.randint(0, 10, (20))\n",
        "AK"
      ],
      "metadata": {
        "colab": {
          "base_uri": "https://localhost:8080/"
        },
        "id": "_udy8lmT6BGy",
        "outputId": "0efc1c4c-a99d-4421-9112-a3e6ae0ccffa"
      },
      "execution_count": 81,
      "outputs": [
        {
          "output_type": "execute_result",
          "data": {
            "text/plain": [
              "array([7, 5, 4, 9, 1, 9, 0, 5, 9, 3, 3, 6, 2, 5, 0, 5, 1, 2, 1, 9])"
            ]
          },
          "metadata": {},
          "execution_count": 81
        }
      ]
    },
    {
      "cell_type": "code",
      "source": [
        "np.split(AK, indices_or_sections=[3,5])"
      ],
      "metadata": {
        "colab": {
          "base_uri": "https://localhost:8080/"
        },
        "id": "mdogUmrV6AQB",
        "outputId": "86a37710-5d3a-4fc9-d164-c2fb02031883"
      },
      "execution_count": 82,
      "outputs": [
        {
          "output_type": "execute_result",
          "data": {
            "text/plain": [
              "[array([7, 5, 4]),\n",
              " array([9, 1]),\n",
              " array([9, 0, 5, 9, 3, 3, 6, 2, 5, 0, 5, 1, 2, 1, 9])]"
            ]
          },
          "metadata": {},
          "execution_count": 82
        }
      ]
    },
    {
      "cell_type": "code",
      "source": [
        "AL = np.random.randint(0, 10, (5,6))\n",
        "AL"
      ],
      "metadata": {
        "colab": {
          "base_uri": "https://localhost:8080/"
        },
        "id": "HyLgR9156Mwd",
        "outputId": "b1adeeb7-0c21-4378-d7f4-df1b9d1fa204"
      },
      "execution_count": 83,
      "outputs": [
        {
          "output_type": "execute_result",
          "data": {
            "text/plain": [
              "array([[1, 3, 8, 8, 9, 2],\n",
              "       [9, 8, 0, 7, 3, 2],\n",
              "       [0, 6, 0, 2, 3, 2],\n",
              "       [8, 3, 5, 5, 9, 4],\n",
              "       [1, 4, 9, 7, 6, 5]])"
            ]
          },
          "metadata": {},
          "execution_count": 83
        }
      ]
    },
    {
      "cell_type": "code",
      "source": [
        "np.vsplit(AL, [2,4])"
      ],
      "metadata": {
        "colab": {
          "base_uri": "https://localhost:8080/"
        },
        "id": "OUza8yYO6OGl",
        "outputId": "16f8e2f5-82c9-4718-be9f-d9a3e9df5f4a"
      },
      "execution_count": 84,
      "outputs": [
        {
          "output_type": "execute_result",
          "data": {
            "text/plain": [
              "[array([[1, 3, 8, 8, 9, 2],\n",
              "        [9, 8, 0, 7, 3, 2]]),\n",
              " array([[0, 6, 0, 2, 3, 2],\n",
              "        [8, 3, 5, 5, 9, 4]]),\n",
              " array([[1, 4, 9, 7, 6, 5]])]"
            ]
          },
          "metadata": {},
          "execution_count": 84
        }
      ]
    },
    {
      "cell_type": "code",
      "source": [
        "np.hsplit(AL, [3,4])"
      ],
      "metadata": {
        "colab": {
          "base_uri": "https://localhost:8080/"
        },
        "id": "3Jgmki3c6POM",
        "outputId": "74cdf216-d61c-40e7-d464-2ac95ccec08f"
      },
      "execution_count": 85,
      "outputs": [
        {
          "output_type": "execute_result",
          "data": {
            "text/plain": [
              "[array([[1, 3, 8],\n",
              "        [9, 8, 0],\n",
              "        [0, 6, 0],\n",
              "        [8, 3, 5],\n",
              "        [1, 4, 9]]),\n",
              " array([[8],\n",
              "        [7],\n",
              "        [2],\n",
              "        [5],\n",
              "        [7]]),\n",
              " array([[9, 2],\n",
              "        [3, 2],\n",
              "        [3, 2],\n",
              "        [9, 4],\n",
              "        [6, 5]])]"
            ]
          },
          "metadata": {},
          "execution_count": 85
        }
      ]
    }
  ]
}