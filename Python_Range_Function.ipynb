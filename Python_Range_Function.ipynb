{
  "nbformat": 4,
  "nbformat_minor": 0,
  "metadata": {
    "colab": {
      "name": "Python Range Function.ipynb",
      "provenance": [],
      "authorship_tag": "ABX9TyOSMqhU54NvYZH7nXCFMbLh"
    },
    "kernelspec": {
      "name": "python3",
      "display_name": "Python 3"
    }
  },
  "cells": [
    {
      "cell_type": "markdown",
      "metadata": {
        "id": "zSPzyXvcZsvi"
      },
      "source": [
        "[Referenc](https://medium.com/better-programming/a-complete-guide-to-the-python-range-function-d59d5209b14)"
      ]
    },
    {
      "cell_type": "code",
      "metadata": {
        "colab": {
          "base_uri": "https://localhost:8080/"
        },
        "id": "MMO4TKTyZrip",
        "outputId": "79cac6d6-5a5c-4a96-edd2-7aa3bf7437d9"
      },
      "source": [
        "print(\"Getting a sequence of numbers between 0 and 10\")\n",
        "for i in range(10):\n",
        "    print(i, end =' ')"
      ],
      "execution_count": 1,
      "outputs": [
        {
          "output_type": "stream",
          "text": [
            "Getting a sequence of numbers between 0 and 10\n",
            "0 1 2 3 4 5 6 7 8 9 "
          ],
          "name": "stdout"
        }
      ]
    },
    {
      "cell_type": "code",
      "metadata": {
        "colab": {
          "base_uri": "https://localhost:8080/"
        },
        "id": "x5CNaKMgbAoX",
        "outputId": "138f59bd-4d1f-4116-b3cf-ca133b153947"
      },
      "source": [
        "# Print first 10 numbers starting at 0\n",
        "for i in range(10):\n",
        "    print(i, end=' ')"
      ],
      "execution_count": 2,
      "outputs": [
        {
          "output_type": "stream",
          "text": [
            "0 1 2 3 4 5 6 7 8 9 "
          ],
          "name": "stdout"
        }
      ]
    },
    {
      "cell_type": "code",
      "metadata": {
        "colab": {
          "base_uri": "https://localhost:8080/"
        },
        "id": "teLDNj7YbEch",
        "outputId": "d508846e-a516-4968-faa3-1852d1d444d7"
      },
      "source": [
        "# Print integers starting at 1 and ending before 5\n",
        "for i in range(1, 5):\n",
        "    print(i, end=' ')"
      ],
      "execution_count": 3,
      "outputs": [
        {
          "output_type": "stream",
          "text": [
            "1 2 3 4 "
          ],
          "name": "stdout"
        }
      ]
    },
    {
      "cell_type": "code",
      "metadata": {
        "colab": {
          "base_uri": "https://localhost:8080/"
        },
        "id": "FWuS7ypfbFdP",
        "outputId": "c8b04473-4a86-4113-e46f-cd90b23e162d"
      },
      "source": [
        "for i in range(4, 15, 3):\n",
        "    print(i, end=' ')"
      ],
      "execution_count": 4,
      "outputs": [
        {
          "output_type": "stream",
          "text": [
            "4 7 10 13 "
          ],
          "name": "stdout"
        }
      ]
    },
    {
      "cell_type": "code",
      "metadata": {
        "colab": {
          "base_uri": "https://localhost:8080/"
        },
        "id": "7ISKHIGXbGZp",
        "outputId": "05364c93-bc09-4df4-f12a-fb16a8ecbd12"
      },
      "source": [
        "for i in range(2, 20, 2):\n",
        "    print(i, end=' ')"
      ],
      "execution_count": 5,
      "outputs": [
        {
          "output_type": "stream",
          "text": [
            "2 4 6 8 10 12 14 16 18 "
          ],
          "name": "stdout"
        }
      ]
    },
    {
      "cell_type": "code",
      "metadata": {
        "colab": {
          "base_uri": "https://localhost:8080/"
        },
        "id": "RA-xuJ2YbJA1",
        "outputId": "a4adec41-55c7-41a2-ddaa-c2404e4fc99e"
      },
      "source": [
        "print(type(range(10)))"
      ],
      "execution_count": 6,
      "outputs": [
        {
          "output_type": "stream",
          "text": [
            "<class 'range'>\n"
          ],
          "name": "stdout"
        }
      ]
    },
    {
      "cell_type": "code",
      "metadata": {
        "colab": {
          "base_uri": "https://localhost:8080/"
        },
        "id": "maEVFWbvbKOt",
        "outputId": "8cf4acd7-065b-4a86-9f70-1f20e79f59b2"
      },
      "source": [
        "for i in range(10):\n",
        "    print(i, end=' ')"
      ],
      "execution_count": 7,
      "outputs": [
        {
          "output_type": "stream",
          "text": [
            "0 1 2 3 4 5 6 7 8 9 "
          ],
          "name": "stdout"
        }
      ]
    },
    {
      "cell_type": "code",
      "metadata": {
        "id": "KzfjkIrMbK9s"
      },
      "source": [
        "def float_range(start, stop, stepsize):\n",
        "    val = start\n",
        "    while val<stop:\n",
        "        yield val\n",
        "        val += stepsize"
      ],
      "execution_count": 8,
      "outputs": []
    },
    {
      "cell_type": "code",
      "metadata": {
        "colab": {
          "base_uri": "https://localhost:8080/"
        },
        "id": "ksXRV28ybVsO",
        "outputId": "2f224350-e2a6-46da-8f48-13a01933047a"
      },
      "source": [
        "print(list(float_range(1,10,0.5)))"
      ],
      "execution_count": 9,
      "outputs": [
        {
          "output_type": "stream",
          "text": [
            "[1, 1.5, 2.0, 2.5, 3.0, 3.5, 4.0, 4.5, 5.0, 5.5, 6.0, 6.5, 7.0, 7.5, 8.0, 8.5, 9.0, 9.5]\n"
          ],
          "name": "stdout"
        }
      ]
    },
    {
      "cell_type": "code",
      "metadata": {
        "colab": {
          "base_uri": "https://localhost:8080/"
        },
        "id": "53_-3H5rbXFL",
        "outputId": "18be506a-1902-4839-fbd5-0a9bf292f0c4"
      },
      "source": [
        "fruits = ['apple', 'orange', 'banana', 'melon']\n",
        "for i in range(len(fruits)):\n",
        "    print(fruits[i], end=' ')"
      ],
      "execution_count": 10,
      "outputs": [
        {
          "output_type": "stream",
          "text": [
            "apple orange banana melon "
          ],
          "name": "stdout"
        }
      ]
    },
    {
      "cell_type": "code",
      "metadata": {
        "colab": {
          "base_uri": "https://localhost:8080/"
        },
        "id": "3hRDvZU_bZ4x",
        "outputId": "9b5df3dc-c8f0-45d4-fbfa-96c56aaf6372"
      },
      "source": [
        "for i in range(5, 0, -1):\n",
        "    print(i, end=' ')"
      ],
      "execution_count": 11,
      "outputs": [
        {
          "output_type": "stream",
          "text": [
            "5 4 3 2 1 "
          ],
          "name": "stdout"
        }
      ]
    },
    {
      "cell_type": "code",
      "metadata": {
        "colab": {
          "base_uri": "https://localhost:8080/"
        },
        "id": "xN-RDQjGbame",
        "outputId": "25ac68e0-8aef-4c98-f0ac-9f275441e92f"
      },
      "source": [
        "# Reversed range\n",
        "for i in reversed(range(0, 5)):\n",
        "    print(i, end=' ')"
      ],
      "execution_count": 12,
      "outputs": [
        {
          "output_type": "stream",
          "text": [
            "4 3 2 1 0 "
          ],
          "name": "stdout"
        }
      ]
    },
    {
      "cell_type": "code",
      "metadata": {
        "colab": {
          "base_uri": "https://localhost:8080/"
        },
        "id": "RaCAU0iebbpe",
        "outputId": "c0871588-fb85-4465-cedd-a319f9b36117"
      },
      "source": [
        "for i in range(-1, -10, -1):\n",
        "    print(i, end=' ')"
      ],
      "execution_count": 13,
      "outputs": [
        {
          "output_type": "stream",
          "text": [
            "-1 -2 -3 -4 -5 -6 -7 -8 -9 "
          ],
          "name": "stdout"
        }
      ]
    },
    {
      "cell_type": "code",
      "metadata": {
        "id": "0fLCOMSobcu_"
      },
      "source": [
        "A = range(1,10)[5]"
      ],
      "execution_count": 14,
      "outputs": []
    },
    {
      "cell_type": "code",
      "metadata": {
        "colab": {
          "base_uri": "https://localhost:8080/"
        },
        "id": "mDLJDOrebd_9",
        "outputId": "c95d8bbd-7696-4e92-bc12-e93881e65548"
      },
      "source": [
        "from itertools import chain\n",
        "res = chain(range(5), range(10))\n",
        "for i in res:\n",
        "    print(i, end=' ')"
      ],
      "execution_count": 15,
      "outputs": [
        {
          "output_type": "stream",
          "text": [
            "0 1 2 3 4 0 1 2 3 4 5 6 7 8 9 "
          ],
          "name": "stdout"
        }
      ]
    }
  ]
}