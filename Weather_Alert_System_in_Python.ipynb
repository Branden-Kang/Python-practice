{
  "nbformat": 4,
  "nbformat_minor": 0,
  "metadata": {
    "colab": {
      "name": "Weather Alert System in Python.ipynb",
      "provenance": [],
      "authorship_tag": "ABX9TyODFCrMN4vz3x+tCm/tzZtv"
    },
    "kernelspec": {
      "name": "python3",
      "display_name": "Python 3"
    }
  },
  "cells": [
    {
      "cell_type": "markdown",
      "metadata": {
        "id": "EkW31hkXAFvd"
      },
      "source": [
        "[Reference](https://towardsdatascience.com/how-to-create-a-weather-alert-system-in-python-5fab4b42e49a)"
      ]
    },
    {
      "cell_type": "code",
      "metadata": {
        "id": "Jph3VwAs_1U1"
      },
      "source": [
        "#1 import\n",
        "try:\n",
        "    import configparser\n",
        "except:\n",
        "    from six.moves import configparser\n",
        "\n",
        "import smtplib\n",
        "from email.mime.multipart import MIMEMultipart\n",
        "from email.mime.text import MIMEText\n",
        "import requests\n",
        "\n",
        "#2 variable related to weather API\n",
        "weather_dict = {'freezing_rain_heavy': 'Heavy rain and snow', 'freezing_rain': 'Rain and snow', 'freezing_rain_light': 'Light rain and snow', 'freezing_drizzle': 'Light drizzle and snow', 'ice_pellets_heavy': 'Heavy ice pellets', 'ice_pellets': 'Normal ice pellets', 'ice_pellets_light': 'Light ice pellets', 'snow_heavy': 'Heavy snow', 'snow': 'Normal snow', 'snow_light': 'Light snow', 'tstorm': 'Thunder storm', 'rain_heavy': 'Heavy rain', 'rain': 'Normal rain', 'rain_light': 'Light rain'}\n",
        "url = \"https://api.climacell.co/v3/weather/nowcast\"\n",
        "\n",
        "querystring = {\"lat\":\"1.29027\",\"lon\":\"103.851959\",\"unit_system\":\"si\",\"timestep\":\"60\",\"start_time\":\"now\",\"fields\":\"temp,humidity,weather_code\",\"apikey\":\"xxxx\"}\n",
        "\n",
        "#3 class\n",
        "class EmailSender():\n",
        "    #4 initialization\n",
        "    def __init__(self):\n",
        "        self.cf = configparser.ConfigParser()\n",
        "        self.cf.read('./config.ini')\n",
        "        self.sec = 'email'\n",
        "\n",
        "        self.email = self.cf.get(self.sec, 'email')\n",
        "        self.host = self.cf.get(self.sec, 'host')\n",
        "        self.port = self.cf.get(self.sec, 'port')\n",
        "        self.password = self.cf.get(self.sec, 'password')\n",
        "\n",
        "    #5 main function to send email\n",
        "    def SendEmail(self, recipient):\n",
        "        title = \"Home Sweet Home\"\n",
        "\n",
        "        #6 create a new multipart mime object\n",
        "        msg = MIMEMultipart()\n",
        "        msg['Subject'] = '[Weather Notification]'\n",
        "        msg['From'] = self.email\n",
        "        msg['To'] = ', '.join(recipient)\n",
        "\n",
        "        #7 call weather API using requests\n",
        "        response = requests.request(\"GET\", url, params=querystring)\n",
        "        result = \"\"\n",
        "\n",
        "        json_data = response.json()\n",
        "        #print(json_data)\n",
        "\n",
        "        #8 loop over each data and check for abnormal weather (rain, snow)\n",
        "        for i in range(len(json_data)):\n",
        "            if(json_data[i]['weather_code']['value'] in weather_dict):\n",
        "                if(i == 0):\n",
        "                    result = \"%s at the moment. Current temperature is \" % (weather_dict[json_data[i]['weather_code']['value']])\n",
        "                else:\n",
        "                    result = \"%s in %s hour(s) time. Forecasted temperature is \" % (weather_dict[json_data[i]['weather_code']['value']], i)\n",
        "\n",
        "                result += '%s%s while the humidity is about %s%s' % (json_data[i]['temp']['value'], json_data[i]['temp']['units'], json_data[i]['humidity']['value'], json_data[i]['humidity']['units'])\n",
        "\n",
        "                msgText = MIMEText('<b>%s</b><p>%s</p>' % (title, result), 'html')\n",
        "                msg.attach(msgText)\n",
        "\n",
        "                #9 authenticate and send email\n",
        "                with smtplib.SMTP(self.host, self.port) as smtpObj:\n",
        "                    smtpObj.ehlo()\n",
        "                    smtpObj.starttls()\n",
        "                    smtpObj.login(self.email, self.password)\n",
        "                    smtpObj.sendmail(self.email, recipient, msg.as_string())\n",
        "                    return \"Success\"\n",
        "\n",
        "                return \"Failed\"\n",
        "                break"
      ],
      "execution_count": 1,
      "outputs": []
    },
    {
      "cell_type": "code",
      "metadata": {
        "id": "-yCdOF6n_8Ay"
      },
      "source": [
        "import weather_email\n",
        "email_obj = weather_email.EmailSender()\n",
        "email_obj.SendEmail([\"email@gmail.com\", \"email2@gmail.com\"])"
      ],
      "execution_count": 2,
      "outputs": []
    }
  ]
}