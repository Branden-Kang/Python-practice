{
  "nbformat": 4,
  "nbformat_minor": 0,
  "metadata": {
    "colab": {
      "name": "4 Advanced Tricks With Python Functions.ipynb",
      "provenance": [],
      "authorship_tag": "ABX9TyPr2jlU3dHDr7/PoXzS2cKu"
    },
    "kernelspec": {
      "name": "python3",
      "display_name": "Python 3"
    }
  },
  "cells": [
    {
      "cell_type": "markdown",
      "metadata": {
        "id": "rxMf2wWGuDGQ"
      },
      "source": [
        "[Reference](https://medium.com/better-programming/4-advanced-tricks-with-python-functions-you-might-not-know-d1214d751741)"
      ]
    },
    {
      "cell_type": "markdown",
      "metadata": {
        "id": "Gm-yWHDWuGBf"
      },
      "source": [
        "# 1. Forced Keyword Arguments"
      ]
    },
    {
      "cell_type": "code",
      "metadata": {
        "colab": {
          "base_uri": "https://localhost:8080/",
          "height": 232
        },
        "id": "LX4BrPOMuAu6",
        "outputId": "b1cb8db5-dc38-472b-8a9e-eda82870ef79"
      },
      "source": [
        "def f(*, a, b):\n",
        "    print(a,b)\n",
        "\n",
        "f(1,2)"
      ],
      "execution_count": 1,
      "outputs": [
        {
          "output_type": "error",
          "ename": "TypeError",
          "evalue": "ignored",
          "traceback": [
            "\u001b[0;31m---------------------------------------------------------------------------\u001b[0m",
            "\u001b[0;31mTypeError\u001b[0m                                 Traceback (most recent call last)",
            "\u001b[0;32m<ipython-input-1-6c3a8da7a94d>\u001b[0m in \u001b[0;36m<module>\u001b[0;34m()\u001b[0m\n\u001b[1;32m      2\u001b[0m     \u001b[0mprint\u001b[0m\u001b[0;34m(\u001b[0m\u001b[0ma\u001b[0m\u001b[0;34m,\u001b[0m\u001b[0mb\u001b[0m\u001b[0;34m)\u001b[0m\u001b[0;34m\u001b[0m\u001b[0;34m\u001b[0m\u001b[0m\n\u001b[1;32m      3\u001b[0m \u001b[0;34m\u001b[0m\u001b[0m\n\u001b[0;32m----> 4\u001b[0;31m \u001b[0mf\u001b[0m\u001b[0;34m(\u001b[0m\u001b[0;36m1\u001b[0m\u001b[0;34m,\u001b[0m\u001b[0;36m2\u001b[0m\u001b[0;34m)\u001b[0m\u001b[0;34m\u001b[0m\u001b[0;34m\u001b[0m\u001b[0m\n\u001b[0m",
            "\u001b[0;31mTypeError\u001b[0m: f() takes 0 positional arguments but 2 were given"
          ]
        }
      ]
    },
    {
      "cell_type": "code",
      "metadata": {
        "colab": {
          "base_uri": "https://localhost:8080/"
        },
        "id": "XrN_s14quLyB",
        "outputId": "47449cf4-b48b-4c51-bba5-885fc7038b47"
      },
      "source": [
        "f(a=1, b=2)"
      ],
      "execution_count": 2,
      "outputs": [
        {
          "output_type": "stream",
          "text": [
            "1 2\n"
          ],
          "name": "stdout"
        }
      ]
    },
    {
      "cell_type": "markdown",
      "metadata": {
        "id": "eWeEomVZuWKl"
      },
      "source": [
        "# 2. Using * and ** for Function Argument Unpacking"
      ]
    },
    {
      "cell_type": "code",
      "metadata": {
        "colab": {
          "base_uri": "https://localhost:8080/"
        },
        "id": "QW3mvszjuRF3",
        "outputId": "ddeddf62-9486-41b3-93c8-11abb20e59a8"
      },
      "source": [
        "def f(a, b):\n",
        "    print(a,b)\n",
        "\n",
        "args = {\"a\":1,\"b\":2}\n",
        "f(**args)"
      ],
      "execution_count": 3,
      "outputs": [
        {
          "output_type": "stream",
          "text": [
            "1 2\n"
          ],
          "name": "stdout"
        }
      ]
    },
    {
      "cell_type": "code",
      "metadata": {
        "colab": {
          "base_uri": "https://localhost:8080/"
        },
        "id": "GnabukFkuccK",
        "outputId": "bd8c5bd7-dbf0-40da-cc7a-804f91e50b2b"
      },
      "source": [
        "def f(a,b,c):\n",
        "    print(a,b,c)\n",
        "\n",
        "l = [1,2,3]\n",
        "f(*l)"
      ],
      "execution_count": 4,
      "outputs": [
        {
          "output_type": "stream",
          "text": [
            "1 2 3\n"
          ],
          "name": "stdout"
        }
      ]
    },
    {
      "cell_type": "markdown",
      "metadata": {
        "id": "5WzZKjpOuiVa"
      },
      "source": [
        "# 3. Decorating Your Functions"
      ]
    },
    {
      "cell_type": "code",
      "metadata": {
        "colab": {
          "base_uri": "https://localhost:8080/"
        },
        "id": "ac1sUF5suhZ4",
        "outputId": "e871c6bd-e69e-441b-fafc-ffe01ae2fa36"
      },
      "source": [
        "def print_argument(func):\n",
        "    def wrapper(the_number):\n",
        "        print(\"Argument for\", func.__name__, \"is\", the_number)\n",
        "        return func(the_number)\n",
        "    \n",
        "    return wrapper\n",
        "\n",
        "@print_argument\n",
        "def add_one(x):\n",
        "    return x + 1\n",
        "\n",
        "print(add_one(1))"
      ],
      "execution_count": 5,
      "outputs": [
        {
          "output_type": "stream",
          "text": [
            "Argument for add_one is 1\n",
            "2\n"
          ],
          "name": "stdout"
        }
      ]
    },
    {
      "cell_type": "markdown",
      "metadata": {
        "id": "5T6yRshkunk_"
      },
      "source": [
        "# 4. Anonymous Functions"
      ]
    },
    {
      "cell_type": "code",
      "metadata": {
        "colab": {
          "base_uri": "https://localhost:8080/"
        },
        "id": "1cp11Si3umE0",
        "outputId": "c89912fa-d04f-47e4-e4b8-f01dcceed642"
      },
      "source": [
        "add_one = lambda x: x + 1\n",
        "add_one(3)"
      ],
      "execution_count": 6,
      "outputs": [
        {
          "output_type": "execute_result",
          "data": {
            "text/plain": [
              "4"
            ]
          },
          "metadata": {
            "tags": []
          },
          "execution_count": 6
        }
      ]
    },
    {
      "cell_type": "code",
      "metadata": {
        "colab": {
          "base_uri": "https://localhost:8080/"
        },
        "id": "zu4FhdMCuqOf",
        "outputId": "04462352-ef97-4c05-f9f9-6e36b445a81e"
      },
      "source": [
        "numbers = [1, 2, 3, 4]\n",
        "times_two = map(lambda x: x*2, numbers)\n",
        "list(times_two)"
      ],
      "execution_count": 7,
      "outputs": [
        {
          "output_type": "execute_result",
          "data": {
            "text/plain": [
              "[2, 4, 6, 8]"
            ]
          },
          "metadata": {
            "tags": []
          },
          "execution_count": 7
        }
      ]
    }
  ]
}