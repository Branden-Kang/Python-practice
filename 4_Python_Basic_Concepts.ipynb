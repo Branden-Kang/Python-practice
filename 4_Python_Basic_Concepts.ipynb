{
  "nbformat": 4,
  "nbformat_minor": 0,
  "metadata": {
    "colab": {
      "name": "4 Python Basic Concepts.ipynb",
      "provenance": [],
      "authorship_tag": "ABX9TyN6FYyI9Sye7JMC+56alW3X"
    },
    "kernelspec": {
      "name": "python3",
      "display_name": "Python 3"
    }
  },
  "cells": [
    {
      "cell_type": "markdown",
      "metadata": {
        "id": "fkjNyg75sy1B"
      },
      "source": [
        "[Reference](https://medium.com/better-programming/4-python-concepts-that-beginners-may-be-confused-about-ea1fec769f7b)"
      ]
    },
    {
      "cell_type": "markdown",
      "metadata": {
        "id": "p7HqhX6os1vY"
      },
      "source": [
        "# 1. Virtual Environment"
      ]
    },
    {
      "cell_type": "markdown",
      "metadata": {
        "id": "yBtTvUjWs9qd"
      },
      "source": [
        "```\n",
        "python3 -m venv medium-env\n",
        "```"
      ]
    },
    {
      "cell_type": "markdown",
      "metadata": {
        "id": "YgB7S4-EtCCN"
      },
      "source": [
        "```\n",
        "source medium-env/bin/activate\n",
        "```"
      ]
    },
    {
      "cell_type": "markdown",
      "metadata": {
        "id": "gBqPmklHtE09"
      },
      "source": [
        "```\n",
        "deactivate\n",
        "```"
      ]
    },
    {
      "cell_type": "markdown",
      "metadata": {
        "id": "LAPjgRuItGWb"
      },
      "source": [
        "# 2. String Interpolation (F-Strings)"
      ]
    },
    {
      "cell_type": "code",
      "metadata": {
        "colab": {
          "base_uri": "https://localhost:8080/"
        },
        "id": "iEmfbiOAswzy",
        "outputId": "1629c026-e051-45fc-c7e4-7ba434f356b2"
      },
      "source": [
        "person = \"Danny\"\n",
        "print(\"Hello, {}!\".format(person))"
      ],
      "execution_count": 1,
      "outputs": [
        {
          "output_type": "stream",
          "text": [
            "Hello, Danny!\n"
          ],
          "name": "stdout"
        }
      ]
    },
    {
      "cell_type": "code",
      "metadata": {
        "colab": {
          "base_uri": "https://localhost:8080/"
        },
        "id": "FnK36-vltJJ7",
        "outputId": "f6d383ac-fab4-4f9f-b6e7-e9cd0301b788"
      },
      "source": [
        "print(\"Hello, %s!\" % person)"
      ],
      "execution_count": 2,
      "outputs": [
        {
          "output_type": "stream",
          "text": [
            "Hello, Danny!\n"
          ],
          "name": "stdout"
        }
      ]
    },
    {
      "cell_type": "code",
      "metadata": {
        "colab": {
          "base_uri": "https://localhost:8080/"
        },
        "id": "lmiHsYAStKWC",
        "outputId": "a13c3146-5cc7-45cb-fa23-b2c693f6f8a0"
      },
      "source": [
        "price = 12.3507\n",
        "sold_units = 2500\n",
        "total_cost = price * sold_units\n",
        "print(\"The price is ${:.2f}.\\nThe # of sold units is {:,}.\\nThe total cost is ${:,.2f}.\".format(price, sold_units, total_cost))"
      ],
      "execution_count": 5,
      "outputs": [
        {
          "output_type": "stream",
          "text": [
            "The price is $12.35.\n",
            "The # of sold units is 2,500.\n",
            "The total cost is $30,876.75.\n"
          ],
          "name": "stdout"
        }
      ]
    },
    {
      "cell_type": "code",
      "metadata": {
        "colab": {
          "base_uri": "https://localhost:8080/"
        },
        "id": "ixPhBGTWtN82",
        "outputId": "7e637126-59c0-4cf1-ffd5-8bfb5ed0aae3"
      },
      "source": [
        "price = 12.3507\n",
        "sold_units = 2500\n",
        "total_cost = price * sold_units\n",
        "print(f\"The price is ${price:.2f}.\\nThe # of sold units is {sold_units:,}.\\nThe total cost is ${total_cost:,.2f}.\")"
      ],
      "execution_count": 6,
      "outputs": [
        {
          "output_type": "stream",
          "text": [
            "The price is $12.35.\n",
            "The # of sold units is 2,500.\n",
            "The total cost is $30,876.75.\n"
          ],
          "name": "stdout"
        }
      ]
    },
    {
      "cell_type": "markdown",
      "metadata": {
        "id": "Jhj3ensdt1Uz"
      },
      "source": [
        "# 3. Lazy Evaluation"
      ]
    },
    {
      "cell_type": "code",
      "metadata": {
        "id": "nc-u76VZtwDO"
      },
      "source": [
        "class User:\n",
        "    def __init__(self, username):\n",
        "        self.username = username\n",
        "        self._profile_data = None\n",
        "\n",
        "    @property\n",
        "    def profile_data(self):\n",
        "        if self._profile_data is None:\n",
        "            # Run the expensive web request function here\n",
        "            fetched_data = get_data_remotely(self.username)\n",
        "            self._profile_data = fetched_data\n",
        "        return self._profile_data"
      ],
      "execution_count": 7,
      "outputs": []
    },
    {
      "cell_type": "code",
      "metadata": {
        "colab": {
          "base_uri": "https://localhost:8080/"
        },
        "id": "fNu9xhNGt4jo",
        "outputId": "d7c2c629-15e5-4352-a757-9cd672f2633d"
      },
      "source": [
        "# Create a list and calculate the sum\n",
        "simple_list = [x*x for x in range(1000)]\n",
        "print(f\"Size: {simple_list.__sizeof__()} for type: {type(simple_list)}\")\n",
        "print(f\"Sum: {sum(simple_list)}\")"
      ],
      "execution_count": 8,
      "outputs": [
        {
          "output_type": "stream",
          "text": [
            "Size: 9000 for type: <class 'list'>\n",
            "Sum: 332833500\n"
          ],
          "name": "stdout"
        }
      ]
    },
    {
      "cell_type": "code",
      "metadata": {
        "colab": {
          "base_uri": "https://localhost:8080/"
        },
        "id": "OaF6hpowuGM0",
        "outputId": "38503fcf-a534-4d24-eb58-be6245c98cfc"
      },
      "source": [
        "# Create a generate and calculate the sum\n",
        "simple_gen = (x*x for x in range(1000))\n",
        "print(f\"Size: {simple_gen.__sizeof__()} for type: {type(simple_gen)}\")\n",
        "print(f\"Sum: {sum(simple_gen)}\")"
      ],
      "execution_count": 9,
      "outputs": [
        {
          "output_type": "stream",
          "text": [
            "Size: 64 for type: <class 'generator'>\n",
            "Sum: 332833500\n"
          ],
          "name": "stdout"
        }
      ]
    },
    {
      "cell_type": "markdown",
      "metadata": {
        "id": "_U0WutyMuLbb"
      },
      "source": [
        "# 4. Comprehensions"
      ]
    },
    {
      "cell_type": "code",
      "metadata": {
        "colab": {
          "base_uri": "https://localhost:8080/"
        },
        "id": "_nnzlKnmuJ0s",
        "outputId": "09a1b11b-2245-48e4-dc67-6d8b32f963d2"
      },
      "source": [
        "# Use list comprehension\n",
        "squares0 = [x*x for x in range(5)]\n",
        "print(squares0)"
      ],
      "execution_count": 10,
      "outputs": [
        {
          "output_type": "stream",
          "text": [
            "[0, 1, 4, 9, 16]\n"
          ],
          "name": "stdout"
        }
      ]
    },
    {
      "cell_type": "code",
      "metadata": {
        "colab": {
          "base_uri": "https://localhost:8080/"
        },
        "id": "8EDIldHVuT3e",
        "outputId": "9b3018c9-04a3-4386-f8f2-90ccf5003b8e"
      },
      "source": [
        "# Use for loop\n",
        "squares1 = []\n",
        "for number in range(5):\n",
        "    squares1.append(number*number)\n",
        "print(squares1)"
      ],
      "execution_count": 11,
      "outputs": [
        {
          "output_type": "stream",
          "text": [
            "[0, 1, 4, 9, 16]\n"
          ],
          "name": "stdout"
        }
      ]
    },
    {
      "cell_type": "code",
      "metadata": {
        "colab": {
          "base_uri": "https://localhost:8080/"
        },
        "id": "cVsuMrvyuYxH",
        "outputId": "88db70c2-b9a5-4f2c-cf5c-e3c35ad11f2f"
      },
      "source": [
        "# Dictionary comprehension\n",
        "squares_dict = {x: x*x for x in range(5)}\n",
        "print(squares_dict)\n",
        "\n",
        "# Set comprehension\n",
        "squares_set = {x*x for x in range(-4, 5)}\n",
        "print(squares_set)"
      ],
      "execution_count": 12,
      "outputs": [
        {
          "output_type": "stream",
          "text": [
            "{0: 0, 1: 1, 2: 4, 3: 9, 4: 16}\n",
            "{0, 1, 4, 9, 16}\n"
          ],
          "name": "stdout"
        }
      ]
    }
  ]
}