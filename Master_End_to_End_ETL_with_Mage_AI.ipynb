{
  "nbformat": 4,
  "nbformat_minor": 0,
  "metadata": {
    "colab": {
      "provenance": [],
      "authorship_tag": "ABX9TyNEmprgPkvUyFC3Z1b8kwnP"
    },
    "kernelspec": {
      "name": "python3",
      "display_name": "Python 3"
    },
    "language_info": {
      "name": "python"
    }
  },
  "cells": [
    {
      "cell_type": "markdown",
      "source": [
        "[Reference](https://blog.devgenius.io/airflow-is-dead-master-end-to-end-etl-with-mage-ai-68f137c09938)"
      ],
      "metadata": {
        "id": "iidyMxd6YQ36"
      }
    },
    {
      "cell_type": "markdown",
      "source": [
        "# Extract"
      ],
      "metadata": {
        "id": "MMSe1te6ZmJR"
      }
    },
    {
      "cell_type": "code",
      "execution_count": 1,
      "metadata": {
        "id": "id0cwzVFYPmj"
      },
      "outputs": [],
      "source": [
        "## Deafult code\n",
        "\n",
        "import io\n",
        "import pandas as pd\n",
        "import requests\n",
        "if 'data_loader' not in globals():\n",
        "    from mage_ai.data_preparation.decorators import data_loader\n",
        "if 'test' not in globals():\n",
        "    from mage_ai.data_preparation.decorators import test\n",
        "\n",
        "\n",
        "@data_loader\n",
        "def load_data_from_api(*args, **kwargs):\n",
        "    \"\"\"\n",
        "    Template for loading data from API\n",
        "    \"\"\"\n",
        "    url = ''\n",
        "    response = requests.get(url)\n",
        "\n",
        "    return pd.read_csv(io.StringIO(response.text), sep=',')\n",
        "\n",
        "\n",
        "@test\n",
        "def test_output(output, *args) -> None:\n",
        "    \"\"\"\n",
        "    Template code for testing the output of the block.\n",
        "    \"\"\"\n",
        "    assert output is not None, 'The output is undefined'\n",
        "## Modified code to get Dataframe from JSON\n",
        "\n",
        "import io\n",
        "import pandas as pd\n",
        "import requests\n",
        "if 'data_loader' not in globals():\n",
        "    from mage_ai.data_preparation.decorators import data_loader\n",
        "if 'test' not in globals():\n",
        "    from mage_ai.data_preparation.decorators import test\n",
        "\n",
        "\n",
        "@data_loader\n",
        "def load_data_from_api(*args, **kwargs):\n",
        "    \"\"\"\n",
        "    Template for loading data from API\n",
        "    \"\"\"\n",
        "    # Define the API URL\n",
        "    api_url = \"https://random-data-api.com/api/users/random_user?size=100\"\n",
        "\n",
        "    # Initialize an empty list to store the results\n",
        "    results = []\n",
        "\n",
        "    # Make five GET requests to the API\n",
        "    for _ in range(5):\n",
        "        response = requests.get(api_url)\n",
        "\n",
        "        # Check if the request was successful (status code 200)\n",
        "        if response.status_code == 200:\n",
        "            data = response.json()\n",
        "            results.extend(data)  # Extend the list with the new data\n",
        "\n",
        "    # Create a DataFrame from the list of results\n",
        "    df = pd.json_normalize(results)\n",
        "    print(df.shape)\n",
        "\n",
        "    return df\n",
        "\n",
        "\n",
        "@test\n",
        "def test_output(output, *args) -> None:\n",
        "    \"\"\"\n",
        "    Template code for testing the output of the block.\n",
        "    \"\"\"\n",
        "    assert output is not None, 'The output is undefined'"
      ]
    },
    {
      "cell_type": "code",
      "source": [
        "## Deafult code\n",
        "\n",
        "import io\n",
        "import pandas as pd\n",
        "import requests\n",
        "if 'data_loader' not in globals():\n",
        "    from mage_ai.data_preparation.decorators import data_loader\n",
        "if 'test' not in globals():\n",
        "    from mage_ai.data_preparation.decorators import test\n",
        "\n",
        "\n",
        "@data_loader\n",
        "def load_data_from_api(*args, **kwargs):\n",
        "    \"\"\"\n",
        "    Template for loading data from API\n",
        "    \"\"\"\n",
        "    url = ''\n",
        "    response = requests.get(url)\n",
        "\n",
        "    return pd.read_csv(io.StringIO(response.text), sep=',')\n",
        "\n",
        "\n",
        "@test\n",
        "def test_output(output, *args) -> None:\n",
        "    \"\"\"\n",
        "    Template code for testing the output of the block.\n",
        "    \"\"\"\n",
        "    assert output is not None, 'The output is undefined'"
      ],
      "metadata": {
        "id": "dP9Sf_xOZn8c"
      },
      "execution_count": 4,
      "outputs": []
    },
    {
      "cell_type": "markdown",
      "source": [
        "# Transform"
      ],
      "metadata": {
        "id": "JXhtI6NyZw93"
      }
    },
    {
      "cell_type": "code",
      "source": [
        "## Default code\n",
        "\n",
        "\n",
        "if 'transformer' not in globals():\n",
        "    from mage_ai.data_preparation.decorators import transformer\n",
        "if 'test' not in globals():\n",
        "    from mage_ai.data_preparation.decorators import test\n",
        "\n",
        "\n",
        "@transformer\n",
        "def transform(data, *args, **kwargs):\n",
        "    \"\"\"\n",
        "    Template code for a transformer block.\n",
        "\n",
        "    Add more parameters to this function if this block has multiple parent blocks.\n",
        "    There should be one parameter for each output variable from each parent block.\n",
        "\n",
        "    Args:\n",
        "        data: The output from the upstream parent block\n",
        "        args: The output from any additional upstream blocks (if applicable)\n",
        "\n",
        "    Returns:\n",
        "        Anything (e.g. data frame, dictionary, array, int, str, etc.)\n",
        "    \"\"\"\n",
        "    # Specify your transformation logic here\n",
        "\n",
        "    return data\n",
        "\n",
        "\n",
        "@test\n",
        "def test_output(output, *args) -> None:\n",
        "    \"\"\"\n",
        "    Template code for testing the output of the block.\n",
        "    \"\"\"\n",
        "    assert output is not None, 'The output is undefined'"
      ],
      "metadata": {
        "id": "wv02ypfBZrMu"
      },
      "execution_count": 5,
      "outputs": []
    },
    {
      "cell_type": "code",
      "source": [
        "## Modified code to get filter the Dataframe for subscription.status = Active\n",
        "\n",
        "if 'transformer' not in globals():\n",
        "    from mage_ai.data_preparation.decorators import transformer\n",
        "if 'test' not in globals():\n",
        "    from mage_ai.data_preparation.decorators import test\n",
        "\n",
        "\n",
        "@transformer\n",
        "def transform(data, *args, **kwargs):\n",
        "    \"\"\"\n",
        "    Template code for a transformer block.\n",
        "\n",
        "    Add more parameters to this function if this block has multiple parent blocks.\n",
        "    There should be one parameter for each output variable from each parent block.\n",
        "\n",
        "    Args:\n",
        "        data: The output from the upstream parent block\n",
        "        args: The output from any additional upstream blocks (if applicable)\n",
        "\n",
        "    Returns:\n",
        "        Anything (e.g. data frame, dictionary, array, int, str, etc.)\n",
        "    \"\"\"\n",
        "    # Specify your transformation logic here\n",
        "    df = data.copy(deep = True)\n",
        "\n",
        "    #Filtering for only those customers who is using nasic\n",
        "    df = df[df['subscription.status'] == 'Active']\n",
        "    print(df.shape)\n",
        "\n",
        "\n",
        "    return df\n",
        "\n",
        "\n",
        "@test\n",
        "def test_output(output, *args) -> None:\n",
        "    \"\"\"\n",
        "    Template code for testing the output of the block.\n",
        "    \"\"\"\n",
        "    assert output is not None, 'The output is undefined'"
      ],
      "metadata": {
        "id": "gwtk7WuBZuao"
      },
      "execution_count": 6,
      "outputs": []
    },
    {
      "cell_type": "markdown",
      "source": [
        "# Load"
      ],
      "metadata": {
        "id": "lWA3m4LuZ5eO"
      }
    },
    {
      "cell_type": "code",
      "source": [
        "## Default code\n",
        "\n",
        "from mage_ai.io.file import FileIO\n",
        "from pandas import DataFrame\n",
        "\n",
        "if 'data_exporter' not in globals():\n",
        "    from mage_ai.data_preparation.decorators import data_exporter\n",
        "\n",
        "\n",
        "@data_exporter\n",
        "def export_data_to_file(df: DataFrame, **kwargs) -> None:\n",
        "    \"\"\"\n",
        "    Template for exporting data to filesystem.\n",
        "\n",
        "    Docs: https://docs.mage.ai/design/data-loading#fileio\n",
        "    \"\"\"\n",
        "    filepath = 'path/to/write/dataframe/to.csv'\n",
        "    FileIO().export(df, filepath)a"
      ],
      "metadata": {
        "id": "gDHPLxBxZ23m"
      },
      "execution_count": 7,
      "outputs": []
    },
    {
      "cell_type": "code",
      "source": [
        "## Modified code to save the file with the timestamp\n",
        "\n",
        "\n",
        "from mage_ai.io.file import FileIO\n",
        "from pandas import DataFrame\n",
        "import pandas as pd\n",
        "from datetime import datetime\n",
        "\n",
        "\n",
        "\n",
        "if 'data_exporter' not in globals():\n",
        "    from mage_ai.data_preparation.decorators import data_exporter\n",
        "\n",
        "\n",
        "@data_exporter\n",
        "def export_data_to_file(df: DataFrame, **kwargs) -> None:\n",
        "    \"\"\"\n",
        "    Template for exporting data to filesystem.\n",
        "\n",
        "    Docs: https://docs.mage.ai/design/data-loading#fileio\n",
        "\n",
        "    \"\"\"\n",
        "    current_dateTime = datetime.now().strftime(\"%Y-%m-%d_%H-%M-%S\")\n",
        "    print(df.shape)\n",
        "    filepath = r'C:/Users/Ravi.kumar/Desktop/Mage-AI/Output_file/'\n",
        "    df.to_csv(filepath + f'processed_file_{current_dateTime}.csv',index = False)"
      ],
      "metadata": {
        "id": "XmVj0KihZ7vq"
      },
      "execution_count": 8,
      "outputs": []
    }
  ]
}