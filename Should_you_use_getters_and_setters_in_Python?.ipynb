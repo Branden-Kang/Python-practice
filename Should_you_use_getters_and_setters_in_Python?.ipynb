{
  "nbformat": 4,
  "nbformat_minor": 0,
  "metadata": {
    "colab": {
      "provenance": [],
      "authorship_tag": "ABX9TyO1SGt14V2CXHxrpUJRQMty"
    },
    "kernelspec": {
      "name": "python3",
      "display_name": "Python 3"
    },
    "language_info": {
      "name": "python"
    }
  },
  "cells": [
    {
      "cell_type": "markdown",
      "source": [
        "[Reference](https://python.plainenglish.io/should-you-use-getters-and-setters-in-python-d4db9a892878)"
      ],
      "metadata": {
        "id": "IRcDBLBzxmRx"
      }
    },
    {
      "cell_type": "code",
      "execution_count": 1,
      "metadata": {
        "id": "kNqIRGZdxjln"
      },
      "outputs": [],
      "source": [
        "class Post:\n",
        "  def __init__(self):\n",
        "    self.title = None"
      ]
    },
    {
      "cell_type": "code",
      "source": [
        "post = Post()\n",
        "post.title = 'hello, world!'\n",
        "print(post.title) # \"hello, world!\""
      ],
      "metadata": {
        "colab": {
          "base_uri": "https://localhost:8080/"
        },
        "id": "tPO96OeQxswN",
        "outputId": "3e2fc362-637c-4929-f031-8a4842995191"
      },
      "execution_count": 2,
      "outputs": [
        {
          "output_type": "stream",
          "name": "stdout",
          "text": [
            "hello, world!\n"
          ]
        }
      ]
    },
    {
      "cell_type": "code",
      "source": [
        "import string\n",
        "\n",
        "class Post:\n",
        "  def __init__(self):\n",
        "    self.title = None\n",
        "\n",
        "  def set_title_with_caps(self, new_title):\n",
        "    self.title = string.capwords(new_title)\n",
        "\n",
        "# ...\n",
        "\n",
        "post = Post()\n",
        "post.set_title_with_caps('hello, world!')\n",
        "print(post.title) # \"Hello, World!\""
      ],
      "metadata": {
        "colab": {
          "base_uri": "https://localhost:8080/"
        },
        "id": "jV8zuZy_xtst",
        "outputId": "82a6b249-0686-431e-fcb2-7193d8cfe575"
      },
      "execution_count": 3,
      "outputs": [
        {
          "output_type": "stream",
          "name": "stdout",
          "text": [
            "Hello, World!\n"
          ]
        }
      ]
    },
    {
      "cell_type": "code",
      "source": [
        "post = Post()\n",
        "print(post.title)"
      ],
      "metadata": {
        "colab": {
          "base_uri": "https://localhost:8080/"
        },
        "id": "ur83iiGkxvcc",
        "outputId": "4286ed6f-0461-48dd-9b5b-5157495bb90c"
      },
      "execution_count": 4,
      "outputs": [
        {
          "output_type": "stream",
          "name": "stdout",
          "text": [
            "None\n"
          ]
        }
      ]
    },
    {
      "cell_type": "markdown",
      "source": [
        "# @property — the idiomatic approach"
      ],
      "metadata": {
        "id": "oD3lePl1xyQT"
      }
    },
    {
      "cell_type": "markdown",
      "source": [
        "## Define a getter"
      ],
      "metadata": {
        "id": "APoP0IUqx-yR"
      }
    },
    {
      "cell_type": "code",
      "source": [
        "class Post:\n",
        "  def __init__(self):\n",
        "    self._title = \"Hello, World!\"\n",
        "\n",
        "  @property\n",
        "  def title(self) -> str:\n",
        "    return self._title"
      ],
      "metadata": {
        "id": "S6iGRMVSxwhK"
      },
      "execution_count": 5,
      "outputs": []
    },
    {
      "cell_type": "markdown",
      "source": [
        "## Define a setter"
      ],
      "metadata": {
        "id": "zOrHy415x_6H"
      }
    },
    {
      "cell_type": "code",
      "source": [
        "class Post:\n",
        "  def __init__(self):\n",
        "    self._title = \"Hello, World!\"\n",
        "\n",
        "  @property\n",
        "  def title(self) -> str:\n",
        "    return self._title\n",
        "\n",
        "  @title.setter\n",
        "  def title(self, value):\n",
        "    self._title = value"
      ],
      "metadata": {
        "id": "qiTe3bT3xz_C"
      },
      "execution_count": 7,
      "outputs": []
    },
    {
      "cell_type": "code",
      "source": [
        "class Post:\n",
        "  def __init__(self):\n",
        "    self._title = \"Hello, World!\"\n",
        "\n",
        "  @property\n",
        "  def title(self) -> str:\n",
        "    return self._title\n",
        "\n",
        "  @title.setter\n",
        "  def title(self, value):\n",
        "    if len(value) < 3:\n",
        "      raise AttributeError(\"title must be at least 3 characters\")\n",
        "    self._title = string.capwords(value)"
      ],
      "metadata": {
        "id": "aIvYz3igx1gu"
      },
      "execution_count": 8,
      "outputs": []
    },
    {
      "cell_type": "markdown",
      "source": [
        "## Define a deleter"
      ],
      "metadata": {
        "id": "Yq5SGlcByGiF"
      }
    },
    {
      "cell_type": "code",
      "source": [
        "class Post:\n",
        "  def __init__(self):\n",
        "    self._title = \"Hello, World!\"\n",
        "\n",
        "  @property\n",
        "  def title(self) -> str:\n",
        "    return self._title\n",
        "\n",
        "  @title.setter\n",
        "  def title(self, value):\n",
        "    if len(value) < 3:\n",
        "      raise AttributeError(\"title must be at least 3 characters\")\n",
        "    self._title = string.capwords(value)\n",
        "\n",
        "  @title.deleter\n",
        "  def title(self):\n",
        "    self._title = \"\""
      ],
      "metadata": {
        "id": "WOkXYtrLyFOM"
      },
      "execution_count": 9,
      "outputs": []
    },
    {
      "cell_type": "code",
      "source": [
        "class Post:\n",
        "  def __init__(self):\n",
        "    self._title = \"Hello, World!\"\n",
        "\n",
        "  @property\n",
        "  def title(self) -> str:\n",
        "    return self._title\n",
        "\n",
        "  @title.setter\n",
        "  def title(self, value):\n",
        "    if len(value) < 3:\n",
        "      raise AttributeError(\"title must be at least 3 characters\")\n",
        "    self._title = string.capwords(value)\n",
        "\n",
        "  @title.deleter\n",
        "  def title(self):\n",
        "    raise AttributeError(\"do not delete title, set a new one instead\")"
      ],
      "metadata": {
        "id": "mJlAkzGFyKfd"
      },
      "execution_count": 10,
      "outputs": []
    }
  ]
}