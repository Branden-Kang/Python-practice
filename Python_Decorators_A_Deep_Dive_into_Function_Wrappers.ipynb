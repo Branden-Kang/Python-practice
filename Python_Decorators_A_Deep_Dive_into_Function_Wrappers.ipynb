{
  "nbformat": 4,
  "nbformat_minor": 0,
  "metadata": {
    "colab": {
      "provenance": [],
      "authorship_tag": "ABX9TyNdKGXDt9JhCaA1zW1UilK0"
    },
    "kernelspec": {
      "name": "python3",
      "display_name": "Python 3"
    },
    "language_info": {
      "name": "python"
    }
  },
  "cells": [
    {
      "cell_type": "markdown",
      "source": [
        "[Reference](https://medium.com/illumination/demystifying-python-decorators-a-deep-dive-into-function-wrappers-29ebad1c57ed)"
      ],
      "metadata": {
        "id": "o4jN9zk0Rauq"
      }
    },
    {
      "cell_type": "code",
      "execution_count": 1,
      "metadata": {
        "colab": {
          "base_uri": "https://localhost:8080/"
        },
        "id": "ywIsKchgROmi",
        "outputId": "89f588a1-234b-4d8f-d237-5adb5a90c875"
      },
      "outputs": [
        {
          "output_type": "stream",
          "name": "stdout",
          "text": [
            "Hello Alice\n"
          ]
        }
      ],
      "source": [
        "def greet_with_message(message):\n",
        "    def greeting(name):\n",
        "        print(message, name)\n",
        "\n",
        "    return greeting\n",
        "\n",
        "# Create a new function based on the returned function\n",
        "greet_hello = greet_with_message(\"Hello\")\n",
        "\n",
        "# Call the returned function\n",
        "greet_hello(\"Alice\")"
      ]
    },
    {
      "cell_type": "code",
      "source": [
        "def greeting_decorator(func):\n",
        "    def wrapper():\n",
        "        print(\"Hello!\")\n",
        "        func()\n",
        "        print(\"Goodbye!\")\n",
        "    return wrapper\n",
        "\n",
        "@greeting_decorator\n",
        "def say_name():\n",
        "    print(\"My name is John.\")\n",
        "\n",
        "say_name()"
      ],
      "metadata": {
        "colab": {
          "base_uri": "https://localhost:8080/"
        },
        "id": "8kConJcXRgEt",
        "outputId": "b3e63d17-38eb-410d-9cea-82ac1f495029"
      },
      "execution_count": 2,
      "outputs": [
        {
          "output_type": "stream",
          "name": "stdout",
          "text": [
            "Hello!\n",
            "My name is John.\n",
            "Goodbye!\n"
          ]
        }
      ]
    },
    {
      "cell_type": "code",
      "source": [
        "def greeting_decorator(func):\n",
        "    def wrapper(name):\n",
        "        print(\"Hello!\")\n",
        "        func(name)\n",
        "        print(\"Goodbye!\")\n",
        "    return wrapper\n",
        "\n",
        "@greeting_decorator\n",
        "def say_name(name):\n",
        "    print(f\"My name is {name}.\")\n",
        "\n",
        "say_name(\"John\")"
      ],
      "metadata": {
        "colab": {
          "base_uri": "https://localhost:8080/"
        },
        "id": "Q83PeOtqRhaO",
        "outputId": "d4a8221c-4c0a-4718-f2fd-865df66f25ec"
      },
      "execution_count": 3,
      "outputs": [
        {
          "output_type": "stream",
          "name": "stdout",
          "text": [
            "Hello!\n",
            "My name is John.\n",
            "Goodbye!\n"
          ]
        }
      ]
    },
    {
      "cell_type": "code",
      "source": [
        "def greeting_decorator(func):\n",
        "    def wrapper(*args, **kwargs):\n",
        "        print(\"Hello!\")\n",
        "        func(*args, **kwargs)\n",
        "        print(\"Goodbye!\")\n",
        "    return wrapper\n",
        "\n",
        "@greeting_decorator\n",
        "def say_name(first_name, last_name):\n",
        "    print(f\"My name is {first_name} {last_name}.\")\n",
        "\n",
        "say_name(\"John\", \"Doe\")"
      ],
      "metadata": {
        "colab": {
          "base_uri": "https://localhost:8080/"
        },
        "id": "JjcoidfbRjTH",
        "outputId": "2e81d508-85bc-489c-b142-810abf410aa5"
      },
      "execution_count": 4,
      "outputs": [
        {
          "output_type": "stream",
          "name": "stdout",
          "text": [
            "Hello!\n",
            "My name is John Doe.\n",
            "Goodbye!\n"
          ]
        }
      ]
    }
  ]
}