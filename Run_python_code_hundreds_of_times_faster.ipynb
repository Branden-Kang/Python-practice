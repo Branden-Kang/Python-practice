{
  "nbformat": 4,
  "nbformat_minor": 0,
  "metadata": {
    "colab": {
      "provenance": [],
      "authorship_tag": "ABX9TyOaeF8ubPew7aEvBU8zNJj6"
    },
    "kernelspec": {
      "name": "python3",
      "display_name": "Python 3"
    },
    "language_info": {
      "name": "python"
    }
  },
  "cells": [
    {
      "cell_type": "markdown",
      "source": [
        "[Reference](https://medium.com/@SergiAlfonso/run-python-code-hundreds-of-times-faster-4ebd90b744d1)"
      ],
      "metadata": {
        "id": "sAe5lzOr7bYH"
      }
    },
    {
      "cell_type": "code",
      "execution_count": 1,
      "metadata": {
        "id": "9eO6Bnqe7aQr"
      },
      "outputs": [],
      "source": [
        "def sum_number(num: int) -> int:\n",
        "    result = 0 \n",
        "    for i in range(num):\n",
        "        result += i\n",
        "    return result"
      ]
    },
    {
      "cell_type": "code",
      "source": [
        "# cpdef sum_number(num: int) -> int:\n",
        "#     cpdef int result = 0 \n",
        "#     cpdef int i\n",
        "#     for i in range(num):\n",
        "#         result += i\n",
        "#     return result"
      ],
      "metadata": {
        "id": "R19nDS9W7jzE"
      },
      "execution_count": 2,
      "outputs": []
    },
    {
      "cell_type": "code",
      "source": [
        "# from setuptools import setup\n",
        "# from Cython.Build import cythonize\n",
        "\n",
        "# setup(\n",
        "#     ext_modules = cythonize(\"example_cy.pyx\")\n",
        "# )"
      ],
      "metadata": {
        "id": "4mbXRoWf7pze"
      },
      "execution_count": 3,
      "outputs": []
    },
    {
      "cell_type": "code",
      "source": [
        "# import example_cy\n",
        "\n",
        "# if __name__ == \"__main__\":\n",
        "#     res = example_cy.sum_number(5_000_000)\n",
        "#     print(res)"
      ],
      "metadata": {
        "id": "z5AWR4br7yU9"
      },
      "execution_count": 4,
      "outputs": []
    }
  ]
}