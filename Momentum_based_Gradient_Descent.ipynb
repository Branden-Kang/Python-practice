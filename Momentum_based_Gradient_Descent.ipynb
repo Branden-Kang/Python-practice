{
  "nbformat": 4,
  "nbformat_minor": 0,
  "metadata": {
    "colab": {
      "provenance": [],
      "authorship_tag": "ABX9TyOysHPi10yXzZgvcIufq+oH"
    },
    "kernelspec": {
      "name": "python3",
      "display_name": "Python 3"
    },
    "language_info": {
      "name": "python"
    }
  },
  "cells": [
    {
      "cell_type": "markdown",
      "source": [
        "[Reference](https://ai.plainenglish.io/momentum-based-gradient-descent-f96fc3c8f470)"
      ],
      "metadata": {
        "id": "tBOtdaK2v1lE"
      }
    },
    {
      "cell_type": "code",
      "execution_count": 1,
      "metadata": {
        "id": "stFIs_9cvoGt"
      },
      "outputs": [],
      "source": [
        "import numpy as np\n",
        "\n",
        "def gradient_descent_momentum(X, y, learning_rate=0.01, momentum=0.9, num_iterations=100):\n",
        "    # Initialize the parameters\n",
        "    num_samples, num_features = X.shape\n",
        "    theta = np.zeros(num_features)\n",
        "\n",
        "    # Initialize the velocity vector\n",
        "    velocity = np.zeros_like(theta)\n",
        "\n",
        "    # Perform iterations\n",
        "    for iteration in range(num_iterations):\n",
        "        # Compute the predictions and errors\n",
        "        predicted = np.dot(X, theta)\n",
        "        errors = predicted - y\n",
        "\n",
        "        # Compute the gradients\n",
        "        gradients = (1/num_samples) * np.dot(X.T, errors)\n",
        "\n",
        "        # Update the velocity\n",
        "        velocity = momentum * velocity + learning_rate * gradients\n",
        "\n",
        "        # Update the parameters\n",
        "        theta -= velocity\n",
        "\n",
        "        # Compute the mean squared error\n",
        "        mse = np.mean(errors**2)\n",
        "\n",
        "        # Print the MSE at each iteration\n",
        "        print(f\"Iteration {iteration+1}, MSE: {mse}\")\n",
        "\n",
        "    return theta"
      ]
    },
    {
      "cell_type": "code",
      "source": [
        "# Generate some random data\n",
        "np.random.seed(42)\n",
        "X = np.random.rand(100, 1)\n",
        "y = 2 + 3 * X + np.random.randn(100, 1)\n",
        "\n",
        "# Apply Gradient Descent with Momentum\n",
        "theta_momentum = gradient_descent_momentum(X, y, learning_rate=0.1, momentum=0.9, num_iterations=100)\n",
        "\n",
        "# Apply Vanilla Gradient Descent\n",
        "theta_vanilla = gradient_descent(X, y, learning_rate=0.1, num_iterations=100)"
      ],
      "metadata": {
        "id": "Gp0h9It-vxXq"
      },
      "execution_count": 3,
      "outputs": []
    }
  ]
}