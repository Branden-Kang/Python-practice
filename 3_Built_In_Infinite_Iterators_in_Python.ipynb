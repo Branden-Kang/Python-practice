{
  "nbformat": 4,
  "nbformat_minor": 0,
  "metadata": {
    "colab": {
      "provenance": [],
      "authorship_tag": "ABX9TyMooOEXYNUBkCXNZBsoJqfu"
    },
    "kernelspec": {
      "name": "python3",
      "display_name": "Python 3"
    },
    "language_info": {
      "name": "python"
    }
  },
  "cells": [
    {
      "cell_type": "markdown",
      "source": [
        "[Reference](https://medium.com/techtofreedom/3-built-in-infinite-iterators-in-python-f260fd0eec2c)"
      ],
      "metadata": {
        "id": "e2-olcuzFHtk"
      }
    },
    {
      "cell_type": "code",
      "execution_count": 1,
      "metadata": {
        "colab": {
          "base_uri": "https://localhost:8080/"
        },
        "id": "bqbAtgv5FCbx",
        "outputId": "f465f4b4-a8f2-4a64-fec2-525d9723cf02"
      },
      "outputs": [
        {
          "output_type": "stream",
          "name": "stdout",
          "text": [
            "<class 'list'>\n",
            "<class 'list_iterator'>\n"
          ]
        }
      ],
      "source": [
        "my_list = [1, 2, 3, 4, 5]\n",
        "print(type(my_list))\n",
        "\n",
        "my_list_iterator = iter(my_list)\n",
        "print(type(my_list_iterator))"
      ]
    },
    {
      "cell_type": "markdown",
      "source": [
        "# 1. itertools.count(): Generate an Infinite Sequence of Numbers"
      ],
      "metadata": {
        "id": "a4C8fm0YFPOQ"
      }
    },
    {
      "cell_type": "code",
      "source": [
        "import itertools\n",
        "\n",
        "for i in itertools.count(0, 2):\n",
        "    if i == 20:\n",
        "        break\n",
        "    else:\n",
        "        print(i, end=\" \")"
      ],
      "metadata": {
        "colab": {
          "base_uri": "https://localhost:8080/"
        },
        "id": "vfULD2_0FLAb",
        "outputId": "84de85ad-e3a0-41c0-dad2-1942c869a99e"
      },
      "execution_count": 2,
      "outputs": [
        {
          "output_type": "stream",
          "name": "stdout",
          "text": [
            "0 2 4 6 8 10 12 14 16 18 "
          ]
        }
      ]
    },
    {
      "cell_type": "markdown",
      "source": [
        "# 2. itertools.cycle(): Get an Infinite Sequence by Cycling"
      ],
      "metadata": {
        "id": "_wcISCuiFSpD"
      }
    },
    {
      "cell_type": "code",
      "source": [
        "import itertools\n",
        "\n",
        "count = 0\n",
        "\n",
        "for leader in itertools.cycle(['Branden', 'Elon', 'Tim']):\n",
        "    if count >= 12:\n",
        "        break\n",
        "    else:\n",
        "        print(leader, end=' ')\n",
        "        count += 1"
      ],
      "metadata": {
        "colab": {
          "base_uri": "https://localhost:8080/"
        },
        "id": "jlQ-W-xFFRKJ",
        "outputId": "d5345f1e-bea9-485f-e7a5-ba46cfb3458d"
      },
      "execution_count": 5,
      "outputs": [
        {
          "output_type": "stream",
          "name": "stdout",
          "text": [
            "Branden Elon Tim Branden Elon Tim Branden Elon Tim Branden Elon Tim "
          ]
        }
      ]
    },
    {
      "cell_type": "markdown",
      "source": [
        "# 3. itertools.repeat(): Repeat the Same Value Infinitely"
      ],
      "metadata": {
        "id": "NunECK3kFVYJ"
      }
    },
    {
      "cell_type": "code",
      "source": [
        "import itertools\n",
        "\n",
        "print(list(itertools.repeat('Branden', 3)))"
      ],
      "metadata": {
        "colab": {
          "base_uri": "https://localhost:8080/"
        },
        "id": "4FCs_gzKFURs",
        "outputId": "6c43fe33-2468-4153-b7fb-d0725d1850f9"
      },
      "execution_count": 6,
      "outputs": [
        {
          "output_type": "stream",
          "name": "stdout",
          "text": [
            "['Branden', 'Branden', 'Branden']\n"
          ]
        }
      ]
    }
  ]
}