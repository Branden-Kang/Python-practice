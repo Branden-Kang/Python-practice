{
  "nbformat": 4,
  "nbformat_minor": 0,
  "metadata": {
    "colab": {
      "provenance": [],
      "authorship_tag": "ABX9TyNdQruGLEIqg3w273FTYlVE"
    },
    "kernelspec": {
      "name": "python3",
      "display_name": "Python 3"
    },
    "language_info": {
      "name": "python"
    }
  },
  "cells": [
    {
      "cell_type": "markdown",
      "source": [
        "[Reference](https://towardsdev.com/algorithms-series-merge-sort-e2609878768f)"
      ],
      "metadata": {
        "id": "ZVxZH5yAkG4-"
      }
    },
    {
      "cell_type": "code",
      "execution_count": 1,
      "metadata": {
        "colab": {
          "base_uri": "https://localhost:8080/"
        },
        "id": "yBng551KiKLx",
        "outputId": "75c6fba9-a4d5-4ec3-bbed-2372b199cd52"
      },
      "outputs": [
        {
          "output_type": "stream",
          "name": "stdout",
          "text": [
            "Before merging: [5, 6, 4, 3, 8, 12, 15, 9, 4]\n",
            "[5, inf] [6, inf]\n",
            "After merging: [5, 6, 4, 3, 8, 12, 15, 9, 4]\n",
            "\n",
            "\n",
            "Before merging: [5, 6, 4, 3, 8, 12, 15, 9, 4]\n",
            "[5, 6, inf] [4, inf]\n",
            "After merging: [4, 5, 6, 3, 8, 12, 15, 9, 4]\n",
            "\n",
            "\n",
            "Before merging: [4, 5, 6, 3, 8, 12, 15, 9, 4]\n",
            "[3, inf] [8, inf]\n",
            "After merging: [4, 5, 6, 3, 8, 12, 15, 9, 4]\n",
            "\n",
            "\n",
            "Before merging: [4, 5, 6, 3, 8, 12, 15, 9, 4]\n",
            "[4, 5, 6, inf] [3, 8, inf]\n",
            "After merging: [3, 4, 5, 6, 8, 12, 15, 9, 4]\n",
            "\n",
            "\n",
            "Before merging: [3, 4, 5, 6, 8, 12, 15, 9, 4]\n",
            "[12, inf] [15, inf]\n",
            "After merging: [3, 4, 5, 6, 8, 12, 15, 9, 4]\n",
            "\n",
            "\n",
            "Before merging: [3, 4, 5, 6, 8, 12, 15, 9, 4]\n",
            "[9, inf] [4, inf]\n",
            "After merging: [3, 4, 5, 6, 8, 12, 15, 4, 9]\n",
            "\n",
            "\n",
            "Before merging: [3, 4, 5, 6, 8, 12, 15, 4, 9]\n",
            "[12, 15, inf] [4, 9, inf]\n",
            "After merging: [3, 4, 5, 6, 8, 4, 9, 12, 15]\n",
            "\n",
            "\n",
            "Before merging: [3, 4, 5, 6, 8, 4, 9, 12, 15]\n",
            "[3, 4, 5, 6, 8, inf] [4, 9, 12, 15, inf]\n",
            "After merging: [3, 4, 4, 5, 6, 8, 9, 12, 15]\n",
            "\n",
            "\n"
          ]
        },
        {
          "output_type": "execute_result",
          "data": {
            "text/plain": [
              "[3, 4, 4, 5, 6, 8, 9, 12, 15]"
            ]
          },
          "metadata": {},
          "execution_count": 1
        }
      ],
      "source": [
        "import math\n",
        "\n",
        "def merge(A, p, q, r):\n",
        "    '''\n",
        "    Divide A into two halves. Use them to sort A\n",
        "    '''\n",
        "    n1 = q - p + 1\n",
        "    n2 = r - q\n",
        "    L, R = [], []\n",
        "\n",
        "    # Populating the two sub arrays\n",
        "    for i in range(n1):\n",
        "        L.append(A[p + i]) # Left array equal to left half\n",
        "\n",
        "    for j in range(n2):\n",
        "        R.append(A[q + j + 1]) # Right array equal to right half\n",
        "\n",
        "    # Last item in the sub arrays is equal to infinity\n",
        "    L.append(math.inf)\n",
        "    R.append(math.inf)\n",
        "\n",
        "    i = 0\n",
        "    j = 0\n",
        "\n",
        "    # Iterate over the two arrays, grab the smallest item between the two sub arrays and insert to the original array\n",
        "    # End result is a sorted array\n",
        "\n",
        "    # Status check\n",
        "    print(f\"Before merging: {A}\")\n",
        "    print(L, R)\n",
        "    for k in range(p, r+1):\n",
        "\n",
        "        if L[i] <= R[j]:\n",
        "            A[k] = L[i]\n",
        "            i += 1\n",
        "        else:\n",
        "            A[k] = R[j]\n",
        "            j += 1\n",
        "\n",
        "    print(f\"After merging: {A}\")\n",
        "    print('\\n')\n",
        "    return A\n",
        "\n",
        "\n",
        "def mergeSort(A, p, r):\n",
        "\n",
        "    if p < r:\n",
        "        q = (p+r) // 2 # Divide the problem\n",
        "        mergeSort(A, p, q) # Recusively apply the function on the sub array A[p..q]\n",
        "        mergeSort(A, q + 1, r) # Recusively apply the function on the sub array A[q+1..r]\n",
        "        A = merge(A, p, q, r)\n",
        "    return A\n",
        "\n",
        "A = [5,6,4,3,8,12,15,9,4]\n",
        "mergeSort(A, 0, len(A) - 1)"
      ]
    }
  ]
}