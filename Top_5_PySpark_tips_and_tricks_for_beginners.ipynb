{
  "nbformat": 4,
  "nbformat_minor": 0,
  "metadata": {
    "colab": {
      "name": "Top 5 PySpark tips and tricks for beginners.ipynb",
      "provenance": [],
      "authorship_tag": "ABX9TyNUfxOkIRxdC2Ip/CKmao6A"
    },
    "kernelspec": {
      "name": "python3",
      "display_name": "Python 3"
    },
    "language_info": {
      "name": "python"
    }
  },
  "cells": [
    {
      "cell_type": "markdown",
      "metadata": {
        "id": "vaVtK29w_8Cj"
      },
      "source": [
        "[Reference](https://medium.com/@mark.averchenko/top-5-pyspark-tips-and-tricks-for-beginners-240acd1b7407)"
      ]
    },
    {
      "cell_type": "markdown",
      "metadata": {
        "id": "kjvjpZY-_91u"
      },
      "source": [
        "# 1) Split your expression on lines. Don’t write expression in one line\n"
      ]
    },
    {
      "cell_type": "code",
      "metadata": {
        "id": "vhm8wMsu_r6z"
      },
      "source": [
        "companies.where(col(\"sales\") > 10000).where(col(\"avg_price\") < 100).withColumn(\"revenue\", col(\"sales\") * col(\"avg_price\"))"
      ],
      "execution_count": 1,
      "outputs": []
    },
    {
      "cell_type": "code",
      "metadata": {
        "id": "gAO3aDLw__ui"
      },
      "source": [
        "companies = companies.where(col(\"sales\") > 10000)\n",
        "companies = companies.where(col(\"avg_price\") < 100)\n",
        "companies = companies.withColumn(\"revenue\", col(\"sales\") * col(\"avg_price\"))"
      ],
      "execution_count": 2,
      "outputs": []
    },
    {
      "cell_type": "markdown",
      "metadata": {
        "id": "jQo9-yrBADTi"
      },
      "source": [
        "# 2) Don’t write ‘\\’ in your PySpark expressions\n"
      ]
    },
    {
      "cell_type": "code",
      "metadata": {
        "id": "lU6C5tH_ABrA"
      },
      "source": [
        "df.filter(col(\"payment_type\") == \"debit\"))\\\n",
        "  .filter(col(\"age\") >= 18))\\\n",
        "  .groupby(col(\"id\"))\\\n",
        "  .count()"
      ],
      "execution_count": 3,
      "outputs": []
    },
    {
      "cell_type": "code",
      "metadata": {
        "id": "5b8AI1CMAF_6"
      },
      "source": [
        "(\n",
        "    df .filter(col(“payment_type”) == “debit”))\n",
        "      .filter(col(\"age\") >= 18))\n",
        "      .groupby(col(\"id\"))\n",
        "      .count()\n",
        ")"
      ],
      "execution_count": 4,
      "outputs": []
    },
    {
      "cell_type": "code",
      "metadata": {
        "id": "nvFWvf1SAIJn"
      },
      "source": [
        "df = df.filter(col(“payment_type”) == “debit”))\n",
        "df = df.filter(col(\"age\") >= 18))\n",
        "df = df.groupby(col(\"id\"))\n",
        "result = df.count()"
      ],
      "execution_count": 5,
      "outputs": []
    },
    {
      "cell_type": "markdown",
      "metadata": {
        "id": "UBrr7b5JAK8g"
      },
      "source": [
        "# 3) Use col if you can\n"
      ]
    },
    {
      "cell_type": "code",
      "metadata": {
        "id": "nXjpHtPUAJx-"
      },
      "source": [
        "df.orderBy(\"salary\")"
      ],
      "execution_count": 6,
      "outputs": []
    },
    {
      "cell_type": "code",
      "metadata": {
        "id": "AGPrGq_AAMhq"
      },
      "source": [
        "df.orderBy(col(\"salary\").desc())"
      ],
      "execution_count": 7,
      "outputs": []
    },
    {
      "cell_type": "markdown",
      "metadata": {
        "id": "-A6rKnJLAPR2"
      },
      "source": [
        "# 4) Be simple and use less python code inside PySpark\n"
      ]
    },
    {
      "cell_type": "code",
      "metadata": {
        "id": "HC9YCZ3LAPGS"
      },
      "source": [
        "tmp = sorted([str(row['price']) for row in sdf.collect()])\n",
        "result = tmp[0], tmp[-1]"
      ],
      "execution_count": 8,
      "outputs": []
    },
    {
      "cell_type": "code",
      "metadata": {
        "id": "YzG0yceZAOPQ"
      },
      "source": [
        "from pyspark.sql import functions as F\n",
        "result = sdf.select(F.max(\"price\"), F.min(\"price\"))"
      ],
      "execution_count": 9,
      "outputs": []
    },
    {
      "cell_type": "markdown",
      "metadata": {
        "id": "U1liCcy2ATdz"
      },
      "source": [
        "# 5) Join DataFrames by following syntax\n"
      ]
    },
    {
      "cell_type": "code",
      "metadata": {
        "id": "D7XWiF3LASTC"
      },
      "source": [
        "df.join(df2, 'name', 'left')"
      ],
      "execution_count": 10,
      "outputs": []
    },
    {
      "cell_type": "code",
      "metadata": {
        "id": "ojaMsZNmAUqo"
      },
      "source": [
        "df1.join(df2, df1.name == df2.name, 'left')"
      ],
      "execution_count": 11,
      "outputs": []
    },
    {
      "cell_type": "code",
      "metadata": {
        "id": "SDsIK6yhAWF5"
      },
      "source": [
        "persons.join(users, persons.name == users.username, 'left')"
      ],
      "execution_count": 12,
      "outputs": []
    }
  ]
}