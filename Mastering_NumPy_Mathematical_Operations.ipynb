{
  "nbformat": 4,
  "nbformat_minor": 0,
  "metadata": {
    "colab": {
      "provenance": [],
      "authorship_tag": "ABX9TyMPBRzwsqeRVaLd7EpvaIVx"
    },
    "kernelspec": {
      "name": "python3",
      "display_name": "Python 3"
    },
    "language_info": {
      "name": "python"
    }
  },
  "cells": [
    {
      "cell_type": "markdown",
      "source": [
        "[Reference](https://medium.com/@nandeda.narayan/mastering-numpy-part-3-mathematical-operations-440f6c42a88)"
      ],
      "metadata": {
        "id": "ObNahN1cCLN_"
      }
    },
    {
      "cell_type": "markdown",
      "source": [
        "# 1. Performing element-wise addition, subtraction, multiplication, and division on arrays"
      ],
      "metadata": {
        "id": "CC6eiW68COPF"
      }
    },
    {
      "cell_type": "code",
      "execution_count": 1,
      "metadata": {
        "colab": {
          "base_uri": "https://localhost:8080/"
        },
        "id": "JxLY6Ne4Bz3q",
        "outputId": "4eebc619-e31c-441c-e9bd-f2a33a161113"
      },
      "outputs": [
        {
          "output_type": "stream",
          "name": "stdout",
          "text": [
            "Addition Result:\n",
            "[ 7  9 11 13 15]\n",
            "Subtraction Result:\n",
            "[-5 -5 -5 -5 -5]\n",
            "Multiplication Result:\n",
            "[ 6 14 24 36 50]\n",
            "Division Result:\n",
            "[0.16666667 0.28571429 0.375      0.44444444 0.5       ]\n"
          ]
        }
      ],
      "source": [
        "import numpy as np\n",
        "\n",
        "# Creating two NumPy arrays\n",
        "arr1 = np.array([1, 2, 3, 4, 5])\n",
        "arr2 = np.array([6, 7, 8, 9, 10])\n",
        "\n",
        "# Element-wise addition\n",
        "addition_result = arr1 + arr2\n",
        "print(\"Addition Result:\")\n",
        "print(addition_result)\n",
        "\n",
        "# Element-wise subtraction\n",
        "subtraction_result = arr1 - arr2\n",
        "print(\"Subtraction Result:\")\n",
        "print(subtraction_result)\n",
        "\n",
        "# Element-wise multiplication\n",
        "multiplication_result = arr1 * arr2\n",
        "print(\"Multiplication Result:\")\n",
        "print(multiplication_result)\n",
        "\n",
        "# Element-wise division\n",
        "division_result = arr1 / arr2\n",
        "print(\"Division Result:\")\n",
        "print(division_result)"
      ]
    },
    {
      "cell_type": "markdown",
      "source": [
        "# 2. Computing the sum, mean, and standard deviation of an array"
      ],
      "metadata": {
        "id": "EEflpw7VCYnp"
      }
    },
    {
      "cell_type": "code",
      "source": [
        "import numpy as np\n",
        "\n",
        "# Creating a NumPy array\n",
        "arr = np.array([1, 2, 3, 4, 5])\n",
        "\n",
        "# Computing the sum\n",
        "sum_result = np.sum(arr)\n",
        "print(\"Sum:\", sum_result)\n",
        "\n",
        "# Computing the mean\n",
        "mean_result = np.mean(arr)\n",
        "print(\"Mean:\", mean_result)\n",
        "\n",
        "# Computing the standard deviation\n",
        "std_result = np.std(arr)\n",
        "print(\"Standard Deviation:\", std_result)"
      ],
      "metadata": {
        "colab": {
          "base_uri": "https://localhost:8080/"
        },
        "id": "PelueyOiCQX8",
        "outputId": "06af2a65-c2ac-4a96-acde-1acdeca27a87"
      },
      "execution_count": 2,
      "outputs": [
        {
          "output_type": "stream",
          "name": "stdout",
          "text": [
            "Sum: 15\n",
            "Mean: 3.0\n",
            "Standard Deviation: 1.4142135623730951\n"
          ]
        }
      ]
    },
    {
      "cell_type": "markdown",
      "source": [
        "# 3. Finding the minimum and maximum values in an array"
      ],
      "metadata": {
        "id": "C6Kyt6JnCfwX"
      }
    },
    {
      "cell_type": "code",
      "source": [
        "import numpy as np\n",
        "\n",
        "# Creating a NumPy array\n",
        "arr = np.array([5, 3, 8, 2, 7])\n",
        "\n",
        "# Finding the minimum value\n",
        "min_value = np.min(arr)\n",
        "print(\"Minimum value:\", min_value)\n",
        "\n",
        "# Finding the maximum value\n",
        "max_value = np.max(arr)\n",
        "print(\"Maximum value:\", max_value)"
      ],
      "metadata": {
        "colab": {
          "base_uri": "https://localhost:8080/"
        },
        "id": "C_kYhqPtCaS1",
        "outputId": "aae73437-29ee-4a5e-b1a9-89c4191cc18b"
      },
      "execution_count": 3,
      "outputs": [
        {
          "output_type": "stream",
          "name": "stdout",
          "text": [
            "Minimum value: 2\n",
            "Maximum value: 8\n"
          ]
        }
      ]
    },
    {
      "cell_type": "markdown",
      "source": [
        "# 4. Computing the dot product of two arrays"
      ],
      "metadata": {
        "id": "GKtNMwKxCitx"
      }
    },
    {
      "cell_type": "code",
      "source": [
        "import numpy as np\n",
        "\n",
        "# Creating two NumPy arrays\n",
        "arr1 = np.array([1, 2, 3])\n",
        "arr2 = np.array([4, 5, 6])\n",
        "\n",
        "# Computing the dot product\n",
        "dot_product = np.dot(arr1, arr2)\n",
        "print(\"Dot product:\", dot_product)"
      ],
      "metadata": {
        "colab": {
          "base_uri": "https://localhost:8080/"
        },
        "id": "v-MVQglHCg5Q",
        "outputId": "f35e32dc-14e0-4014-928b-d33a5e1c25f7"
      },
      "execution_count": 4,
      "outputs": [
        {
          "output_type": "stream",
          "name": "stdout",
          "text": [
            "Dot product: 32\n"
          ]
        }
      ]
    },
    {
      "cell_type": "markdown",
      "source": [
        "# 5. Applying trigonometric functions (e.g., sine, cosine) to an array"
      ],
      "metadata": {
        "id": "WhkmkeSqClLl"
      }
    },
    {
      "cell_type": "code",
      "source": [
        "import numpy as np\n",
        "\n",
        "# Creating a NumPy array\n",
        "arr = np.array([0, np.pi/2, np.pi])\n",
        "\n",
        "# Applying sine function\n",
        "sin_result = np.sin(arr)\n",
        "print(\"Sine:\", sin_result)\n",
        "\n",
        "# Applying cosine function\n",
        "cos_result = np.cos(arr)\n",
        "print(\"Cosine:\", cos_result)"
      ],
      "metadata": {
        "colab": {
          "base_uri": "https://localhost:8080/"
        },
        "id": "0tYTZ8zKCkBL",
        "outputId": "e1f06028-9cde-442b-f73c-67be60347c61"
      },
      "execution_count": 5,
      "outputs": [
        {
          "output_type": "stream",
          "name": "stdout",
          "text": [
            "Sine: [0.0000000e+00 1.0000000e+00 1.2246468e-16]\n",
            "Cosine: [ 1.000000e+00  6.123234e-17 -1.000000e+00]\n"
          ]
        }
      ]
    },
    {
      "cell_type": "markdown",
      "source": [
        "# 6. Calculating the exponential and logarithmic values of an array"
      ],
      "metadata": {
        "id": "Dq63GFVlCoX6"
      }
    },
    {
      "cell_type": "code",
      "source": [
        "import numpy as np\n",
        "\n",
        "# Create an array\n",
        "arr = np.array([1, 2, 3, 4, 5])\n",
        "\n",
        "# Calculate the exponential values\n",
        "exp_arr = np.exp(arr)\n",
        "print(\"Exponential values:\", exp_arr)\n",
        "\n",
        "# Calculate the logarithmic values\n",
        "log_arr = np.log(arr)\n",
        "print(\"Logarithmic values:\", log_arr)\n"
      ],
      "metadata": {
        "colab": {
          "base_uri": "https://localhost:8080/"
        },
        "id": "H3sdkp4sCmMD",
        "outputId": "e7e17230-82c5-4d53-eeea-569d6bec62fe"
      },
      "execution_count": 6,
      "outputs": [
        {
          "output_type": "stream",
          "name": "stdout",
          "text": [
            "Exponential values: [  2.71828183   7.3890561   20.08553692  54.59815003 148.4131591 ]\n",
            "Logarithmic values: [0.         0.69314718 1.09861229 1.38629436 1.60943791]\n"
          ]
        }
      ]
    },
    {
      "cell_type": "markdown",
      "source": [
        "# 7. Applying element-wise comparisons between arrays using logical operators"
      ],
      "metadata": {
        "id": "zbP6g648Cqs1"
      }
    },
    {
      "cell_type": "code",
      "source": [
        "import numpy as np\n",
        "\n",
        "# Create two arrays\n",
        "arr1 = np.array([True, True, False, False])\n",
        "arr2 = np.array([True, False, True, False])\n",
        "\n",
        "# Element-wise logical AND\n",
        "result_and = np.logical_and(arr1, arr2)\n",
        "print(\"Element-wise logical AND:\", result_and)\n",
        "\n",
        "# Element-wise logical OR\n",
        "result_or = np.logical_or(arr1, arr2)\n",
        "print(\"Element-wise logical OR:\", result_or)"
      ],
      "metadata": {
        "colab": {
          "base_uri": "https://localhost:8080/"
        },
        "id": "kkloCurLCpn9",
        "outputId": "7992f015-6a75-4dd0-aef6-15ffec652183"
      },
      "execution_count": 7,
      "outputs": [
        {
          "output_type": "stream",
          "name": "stdout",
          "text": [
            "Element-wise logical AND: [ True False False False]\n",
            "Element-wise logical OR: [ True  True  True False]\n"
          ]
        }
      ]
    },
    {
      "cell_type": "markdown",
      "source": [
        "# 8. Performing element-wise rounding of an array using numpy.round()"
      ],
      "metadata": {
        "id": "dWPU78vSCvOu"
      }
    },
    {
      "cell_type": "code",
      "source": [
        "import numpy as np\n",
        "\n",
        "# Create an array\n",
        "arr = np.array([1.4, 2.7, 3.2, 4.8, 5.1])\n",
        "\n",
        "# Perform element-wise rounding\n",
        "rounded_arr = np.round(arr)\n",
        "print(\"Rounded array:\", rounded_arr)"
      ],
      "metadata": {
        "colab": {
          "base_uri": "https://localhost:8080/"
        },
        "id": "HtpcxPgCCsS3",
        "outputId": "10aa8d23-9e7d-4442-bcce-75d5f67c9315"
      },
      "execution_count": 8,
      "outputs": [
        {
          "output_type": "stream",
          "name": "stdout",
          "text": [
            "Rounded array: [1. 3. 3. 5. 5.]\n"
          ]
        }
      ]
    },
    {
      "cell_type": "code",
      "source": [
        "rounded_arr = np.round(arr, decimals=1)\n",
        "rounded_arr"
      ],
      "metadata": {
        "colab": {
          "base_uri": "https://localhost:8080/"
        },
        "id": "E0xDaFPWCzb1",
        "outputId": "91ba95e2-97b4-470b-8f46-29498c4082c9"
      },
      "execution_count": 10,
      "outputs": [
        {
          "output_type": "execute_result",
          "data": {
            "text/plain": [
              "array([1.4, 2.7, 3.2, 4.8, 5.1])"
            ]
          },
          "metadata": {},
          "execution_count": 10
        }
      ]
    },
    {
      "cell_type": "markdown",
      "source": [
        "# 9. Computing the element-wise absolute values of an array"
      ],
      "metadata": {
        "id": "ePY6tlr6C2Kw"
      }
    },
    {
      "cell_type": "code",
      "source": [
        "import numpy as np\n",
        "\n",
        "# Create an array\n",
        "arr = np.array([-1, -2, 3, -4, 5])\n",
        "\n",
        "# Compute element-wise absolute values\n",
        "abs_arr = np.abs(arr)\n",
        "print(\"Absolute values:\", abs_arr)"
      ],
      "metadata": {
        "colab": {
          "base_uri": "https://localhost:8080/"
        },
        "id": "_LJ3Zpb9C1OU",
        "outputId": "f0885c24-af61-4521-b179-68fc49efd997"
      },
      "execution_count": 11,
      "outputs": [
        {
          "output_type": "stream",
          "name": "stdout",
          "text": [
            "Absolute values: [1 2 3 4 5]\n"
          ]
        }
      ]
    },
    {
      "cell_type": "markdown",
      "source": [
        "# 10. Finding the index of the maximum and minimum values in an array using numpy.argmax() and numpy.argmin()"
      ],
      "metadata": {
        "id": "gOaVGMi5C6Ge"
      }
    },
    {
      "cell_type": "code",
      "source": [
        "import numpy as np\n",
        "\n",
        "# Create an array\n",
        "arr = np.array([4, 2, 9, 1, 7])\n",
        "\n",
        "# Find the index of the maximum value\n",
        "max_index = np.argmax(arr)\n",
        "print(\"Index of the maximum value:\", max_index)\n",
        "\n",
        "# Find the index of the minimum value\n",
        "min_index = np.argmin(arr)\n",
        "print(\"Index of the minimum value:\", min_index)"
      ],
      "metadata": {
        "colab": {
          "base_uri": "https://localhost:8080/"
        },
        "id": "VwjVvD6sC4pq",
        "outputId": "3bd5b4ed-b206-4879-f7e1-2004bafede4b"
      },
      "execution_count": 12,
      "outputs": [
        {
          "output_type": "stream",
          "name": "stdout",
          "text": [
            "Index of the maximum value: 2\n",
            "Index of the minimum value: 3\n"
          ]
        }
      ]
    }
  ]
}