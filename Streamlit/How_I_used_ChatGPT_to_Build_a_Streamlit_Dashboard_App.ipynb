{
  "nbformat": 4,
  "nbformat_minor": 0,
  "metadata": {
    "colab": {
      "provenance": [],
      "authorship_tag": "ABX9TyNYhdRVkHHn9rEh0eayct6H"
    },
    "kernelspec": {
      "name": "python3",
      "display_name": "Python 3"
    },
    "language_info": {
      "name": "python"
    }
  },
  "cells": [
    {
      "cell_type": "code",
      "source": [
        "!pip install streamlit"
      ],
      "metadata": {
        "colab": {
          "base_uri": "https://localhost:8080/"
        },
        "id": "iwJSx1zzPOsx",
        "outputId": "dbabdded-24ae-4216-e029-9431fbe4fa6a"
      },
      "execution_count": 2,
      "outputs": [
        {
          "output_type": "stream",
          "name": "stdout",
          "text": [
            "Looking in indexes: https://pypi.org/simple, https://us-python.pkg.dev/colab-wheels/public/simple/\n",
            "Collecting streamlit\n",
            "  Downloading streamlit-1.20.0-py2.py3-none-any.whl (9.6 MB)\n",
            "\u001b[2K     \u001b[90m━━━━━━━━━━━━━━━━━━━━━━━━━━━━━━━━━━━━━━━━\u001b[0m \u001b[32m9.6/9.6 MB\u001b[0m \u001b[31m15.0 MB/s\u001b[0m eta \u001b[36m0:00:00\u001b[0m\n",
            "\u001b[?25hRequirement already satisfied: importlib-metadata>=1.4 in /usr/local/lib/python3.9/dist-packages (from streamlit) (6.0.0)\n",
            "Requirement already satisfied: packaging>=14.1 in /usr/local/lib/python3.9/dist-packages (from streamlit) (23.0)\n",
            "Requirement already satisfied: tzlocal>=1.1 in /usr/local/lib/python3.9/dist-packages (from streamlit) (4.2)\n",
            "Requirement already satisfied: protobuf<4,>=3.12 in /usr/local/lib/python3.9/dist-packages (from streamlit) (3.19.6)\n",
            "Collecting blinker>=1.0.0\n",
            "  Downloading blinker-1.5-py2.py3-none-any.whl (12 kB)\n",
            "Requirement already satisfied: pandas<2,>=0.25 in /usr/local/lib/python3.9/dist-packages (from streamlit) (1.4.4)\n",
            "Requirement already satisfied: pyarrow>=4.0 in /usr/local/lib/python3.9/dist-packages (from streamlit) (9.0.0)\n",
            "Requirement already satisfied: requests>=2.4 in /usr/local/lib/python3.9/dist-packages (from streamlit) (2.27.1)\n",
            "Requirement already satisfied: pillow>=6.2.0 in /usr/local/lib/python3.9/dist-packages (from streamlit) (8.4.0)\n",
            "Collecting rich>=10.11.0\n",
            "  Downloading rich-13.3.2-py3-none-any.whl (238 kB)\n",
            "\u001b[2K     \u001b[90m━━━━━━━━━━━━━━━━━━━━━━━━━━━━━━━━━━━━━━\u001b[0m \u001b[32m238.7/238.7 KB\u001b[0m \u001b[31m11.3 MB/s\u001b[0m eta \u001b[36m0:00:00\u001b[0m\n",
            "\u001b[?25hRequirement already satisfied: tornado>=6.0.3 in /usr/local/lib/python3.9/dist-packages (from streamlit) (6.2)\n",
            "Collecting semver\n",
            "  Downloading semver-2.13.0-py2.py3-none-any.whl (12 kB)\n",
            "Requirement already satisfied: cachetools>=4.0 in /usr/local/lib/python3.9/dist-packages (from streamlit) (5.3.0)\n",
            "Collecting gitpython!=3.1.19\n",
            "  Downloading GitPython-3.1.31-py3-none-any.whl (184 kB)\n",
            "\u001b[2K     \u001b[90m━━━━━━━━━━━━━━━━━━━━━━━━━━━━━━━━━━━━━━━\u001b[0m \u001b[32m184.3/184.3 KB\u001b[0m \u001b[31m4.7 MB/s\u001b[0m eta \u001b[36m0:00:00\u001b[0m\n",
            "\u001b[?25hRequirement already satisfied: python-dateutil in /usr/local/lib/python3.9/dist-packages (from streamlit) (2.8.2)\n",
            "Collecting pympler>=0.9\n",
            "  Downloading Pympler-1.0.1-py3-none-any.whl (164 kB)\n",
            "\u001b[2K     \u001b[90m━━━━━━━━━━━━━━━━━━━━━━━━━━━━━━━━━━━━━━\u001b[0m \u001b[32m164.8/164.8 KB\u001b[0m \u001b[31m14.4 MB/s\u001b[0m eta \u001b[36m0:00:00\u001b[0m\n",
            "\u001b[?25hCollecting pydeck>=0.1.dev5\n",
            "  Downloading pydeck-0.8.0-py2.py3-none-any.whl (4.7 MB)\n",
            "\u001b[2K     \u001b[90m━━━━━━━━━━━━━━━━━━━━━━━━━━━━━━━━━━━━━━━━\u001b[0m \u001b[32m4.7/4.7 MB\u001b[0m \u001b[31m61.4 MB/s\u001b[0m eta \u001b[36m0:00:00\u001b[0m\n",
            "\u001b[?25hRequirement already satisfied: typing-extensions>=3.10.0.0 in /usr/local/lib/python3.9/dist-packages (from streamlit) (4.5.0)\n",
            "Requirement already satisfied: altair<5,>=3.2.0 in /usr/local/lib/python3.9/dist-packages (from streamlit) (4.2.2)\n",
            "Requirement already satisfied: toml in /usr/local/lib/python3.9/dist-packages (from streamlit) (0.10.2)\n",
            "Collecting watchdog\n",
            "  Downloading watchdog-3.0.0-py3-none-manylinux2014_x86_64.whl (82 kB)\n",
            "\u001b[2K     \u001b[90m━━━━━━━━━━━━━━━━━━━━━━━━━━━━━━━━━━━━━━━━\u001b[0m \u001b[32m82.1/82.1 KB\u001b[0m \u001b[31m3.5 MB/s\u001b[0m eta \u001b[36m0:00:00\u001b[0m\n",
            "\u001b[?25hRequirement already satisfied: numpy in /usr/local/lib/python3.9/dist-packages (from streamlit) (1.22.4)\n",
            "Collecting validators>=0.2\n",
            "  Downloading validators-0.20.0.tar.gz (30 kB)\n",
            "  Preparing metadata (setup.py) ... \u001b[?25l\u001b[?25hdone\n",
            "Requirement already satisfied: click>=7.0 in /usr/local/lib/python3.9/dist-packages (from streamlit) (8.1.3)\n",
            "Requirement already satisfied: entrypoints in /usr/local/lib/python3.9/dist-packages (from altair<5,>=3.2.0->streamlit) (0.4)\n",
            "Requirement already satisfied: jinja2 in /usr/local/lib/python3.9/dist-packages (from altair<5,>=3.2.0->streamlit) (3.1.2)\n",
            "Requirement already satisfied: jsonschema>=3.0 in /usr/local/lib/python3.9/dist-packages (from altair<5,>=3.2.0->streamlit) (4.3.3)\n",
            "Requirement already satisfied: toolz in /usr/local/lib/python3.9/dist-packages (from altair<5,>=3.2.0->streamlit) (0.12.0)\n",
            "Collecting gitdb<5,>=4.0.1\n",
            "  Downloading gitdb-4.0.10-py3-none-any.whl (62 kB)\n",
            "\u001b[2K     \u001b[90m━━━━━━━━━━━━━━━━━━━━━━━━━━━━━━━━━━━━━━━━\u001b[0m \u001b[32m62.7/62.7 KB\u001b[0m \u001b[31m3.5 MB/s\u001b[0m eta \u001b[36m0:00:00\u001b[0m\n",
            "\u001b[?25hRequirement already satisfied: zipp>=0.5 in /usr/local/lib/python3.9/dist-packages (from importlib-metadata>=1.4->streamlit) (3.15.0)\n",
            "Requirement already satisfied: pytz>=2020.1 in /usr/local/lib/python3.9/dist-packages (from pandas<2,>=0.25->streamlit) (2022.7.1)\n",
            "Requirement already satisfied: six>=1.5 in /usr/local/lib/python3.9/dist-packages (from python-dateutil->streamlit) (1.15.0)\n",
            "Requirement already satisfied: charset-normalizer~=2.0.0 in /usr/local/lib/python3.9/dist-packages (from requests>=2.4->streamlit) (2.0.12)\n",
            "Requirement already satisfied: idna<4,>=2.5 in /usr/local/lib/python3.9/dist-packages (from requests>=2.4->streamlit) (3.4)\n",
            "Requirement already satisfied: urllib3<1.27,>=1.21.1 in /usr/local/lib/python3.9/dist-packages (from requests>=2.4->streamlit) (1.26.15)\n",
            "Requirement already satisfied: certifi>=2017.4.17 in /usr/local/lib/python3.9/dist-packages (from requests>=2.4->streamlit) (2022.12.7)\n",
            "Collecting markdown-it-py<3.0.0,>=2.2.0\n",
            "  Downloading markdown_it_py-2.2.0-py3-none-any.whl (84 kB)\n",
            "\u001b[2K     \u001b[90m━━━━━━━━━━━━━━━━━━━━━━━━━━━━━━━━━━━━━━━━\u001b[0m \u001b[32m84.5/84.5 KB\u001b[0m \u001b[31m10.3 MB/s\u001b[0m eta \u001b[36m0:00:00\u001b[0m\n",
            "\u001b[?25hCollecting pygments<3.0.0,>=2.13.0\n",
            "  Downloading Pygments-2.14.0-py3-none-any.whl (1.1 MB)\n",
            "\u001b[2K     \u001b[90m━━━━━━━━━━━━━━━━━━━━━━━━━━━━━━━━━━━━━━━━\u001b[0m \u001b[32m1.1/1.1 MB\u001b[0m \u001b[31m36.2 MB/s\u001b[0m eta \u001b[36m0:00:00\u001b[0m\n",
            "\u001b[?25hRequirement already satisfied: pytz-deprecation-shim in /usr/local/lib/python3.9/dist-packages (from tzlocal>=1.1->streamlit) (0.1.0.post0)\n",
            "Requirement already satisfied: decorator>=3.4.0 in /usr/local/lib/python3.9/dist-packages (from validators>=0.2->streamlit) (4.4.2)\n",
            "Collecting smmap<6,>=3.0.1\n",
            "  Downloading smmap-5.0.0-py3-none-any.whl (24 kB)\n",
            "Requirement already satisfied: MarkupSafe>=2.0 in /usr/local/lib/python3.9/dist-packages (from jinja2->altair<5,>=3.2.0->streamlit) (2.1.2)\n",
            "Requirement already satisfied: attrs>=17.4.0 in /usr/local/lib/python3.9/dist-packages (from jsonschema>=3.0->altair<5,>=3.2.0->streamlit) (22.2.0)\n",
            "Requirement already satisfied: pyrsistent!=0.17.0,!=0.17.1,!=0.17.2,>=0.14.0 in /usr/local/lib/python3.9/dist-packages (from jsonschema>=3.0->altair<5,>=3.2.0->streamlit) (0.19.3)\n",
            "Collecting mdurl~=0.1\n",
            "  Downloading mdurl-0.1.2-py3-none-any.whl (10.0 kB)\n",
            "Requirement already satisfied: tzdata in /usr/local/lib/python3.9/dist-packages (from pytz-deprecation-shim->tzlocal>=1.1->streamlit) (2022.7)\n",
            "Building wheels for collected packages: validators\n",
            "  Building wheel for validators (setup.py) ... \u001b[?25l\u001b[?25hdone\n",
            "  Created wheel for validators: filename=validators-0.20.0-py3-none-any.whl size=19579 sha256=b818cb75f2ce384fede23ae0b2fcdc445700b7f53a3f89bdbd04e64b8b62517e\n",
            "  Stored in directory: /root/.cache/pip/wheels/2d/f0/a8/1094fca7a7e5d0d12ff56e0c64675d72aa5cc81a5fc200e849\n",
            "Successfully built validators\n",
            "Installing collected packages: watchdog, validators, smmap, semver, pympler, pygments, mdurl, blinker, pydeck, markdown-it-py, gitdb, rich, gitpython, streamlit\n",
            "  Attempting uninstall: pygments\n",
            "    Found existing installation: Pygments 2.6.1\n",
            "    Uninstalling Pygments-2.6.1:\n",
            "      Successfully uninstalled Pygments-2.6.1\n",
            "\u001b[31mERROR: pip's dependency resolver does not currently take into account all the packages that are installed. This behaviour is the source of the following dependency conflicts.\n",
            "ipython 7.9.0 requires jedi>=0.10, which is not installed.\u001b[0m\u001b[31m\n",
            "\u001b[0mSuccessfully installed blinker-1.5 gitdb-4.0.10 gitpython-3.1.31 markdown-it-py-2.2.0 mdurl-0.1.2 pydeck-0.8.0 pygments-2.14.0 pympler-1.0.1 rich-13.3.2 semver-2.13.0 smmap-5.0.0 streamlit-1.20.0 validators-0.20.0 watchdog-3.0.0\n"
          ]
        }
      ]
    },
    {
      "cell_type": "code",
      "execution_count": 3,
      "metadata": {
        "colab": {
          "base_uri": "https://localhost:8080/",
          "height": 392
        },
        "id": "8g3OSzzYO9Gz",
        "outputId": "8e1ce6df-008a-437f-b882-0fcb00505968"
      },
      "outputs": [
        {
          "output_type": "error",
          "ename": "StreamlitAPIException",
          "evalue": "ignored",
          "traceback": [
            "\u001b[0;31m---------------------------------------------------------------------------\u001b[0m",
            "\u001b[0;31mStreamlitAPIException\u001b[0m                     Traceback (most recent call last)",
            "\u001b[0;32m<ipython-input-3-f71ae438fb89>\u001b[0m in \u001b[0;36m<module>\u001b[0;34m\u001b[0m\n\u001b[1;32m     10\u001b[0m \u001b[0mmin_year\u001b[0m \u001b[0;34m=\u001b[0m \u001b[0mdf\u001b[0m\u001b[0;34m[\u001b[0m\u001b[0;34m'Year'\u001b[0m\u001b[0;34m]\u001b[0m\u001b[0;34m.\u001b[0m\u001b[0mmin\u001b[0m\u001b[0;34m(\u001b[0m\u001b[0;34m)\u001b[0m\u001b[0;34m\u001b[0m\u001b[0;34m\u001b[0m\u001b[0m\n\u001b[1;32m     11\u001b[0m \u001b[0mmax_year\u001b[0m \u001b[0;34m=\u001b[0m \u001b[0mdf\u001b[0m\u001b[0;34m[\u001b[0m\u001b[0;34m'Year'\u001b[0m\u001b[0;34m]\u001b[0m\u001b[0;34m.\u001b[0m\u001b[0mmax\u001b[0m\u001b[0;34m(\u001b[0m\u001b[0;34m)\u001b[0m\u001b[0;34m\u001b[0m\u001b[0;34m\u001b[0m\u001b[0m\n\u001b[0;32m---> 12\u001b[0;31m \u001b[0mselected_year\u001b[0m \u001b[0;34m=\u001b[0m \u001b[0mst\u001b[0m\u001b[0;34m.\u001b[0m\u001b[0mslider\u001b[0m\u001b[0;34m(\u001b[0m\u001b[0;34m'Select a year'\u001b[0m\u001b[0;34m,\u001b[0m \u001b[0mmin_value\u001b[0m\u001b[0;34m=\u001b[0m\u001b[0mmin_year\u001b[0m\u001b[0;34m,\u001b[0m \u001b[0mmax_value\u001b[0m\u001b[0;34m=\u001b[0m\u001b[0mmax_year\u001b[0m\u001b[0;34m,\u001b[0m \u001b[0mvalue\u001b[0m\u001b[0;34m=\u001b[0m\u001b[0mmin_year\u001b[0m\u001b[0;34m)\u001b[0m\u001b[0;34m\u001b[0m\u001b[0;34m\u001b[0m\u001b[0m\n\u001b[0m\u001b[1;32m     13\u001b[0m \u001b[0;34m\u001b[0m\u001b[0m\n\u001b[1;32m     14\u001b[0m \u001b[0;31m# Filter data for the selected year\u001b[0m\u001b[0;34m\u001b[0m\u001b[0;34m\u001b[0m\u001b[0m\n",
            "\u001b[0;32m/usr/local/lib/python3.9/dist-packages/streamlit/runtime/metrics_util.py\u001b[0m in \u001b[0;36mwrapped_func\u001b[0;34m(*args, **kwargs)\u001b[0m\n\u001b[1;32m    309\u001b[0m                 \u001b[0m_LOGGER\u001b[0m\u001b[0;34m.\u001b[0m\u001b[0mdebug\u001b[0m\u001b[0;34m(\u001b[0m\u001b[0;34m\"Failed to collect command telemetry\"\u001b[0m\u001b[0;34m,\u001b[0m \u001b[0mexc_info\u001b[0m\u001b[0;34m=\u001b[0m\u001b[0mex\u001b[0m\u001b[0;34m)\u001b[0m\u001b[0;34m\u001b[0m\u001b[0;34m\u001b[0m\u001b[0m\n\u001b[1;32m    310\u001b[0m         \u001b[0;32mtry\u001b[0m\u001b[0;34m:\u001b[0m\u001b[0;34m\u001b[0m\u001b[0;34m\u001b[0m\u001b[0m\n\u001b[0;32m--> 311\u001b[0;31m             \u001b[0mresult\u001b[0m \u001b[0;34m=\u001b[0m \u001b[0mnon_optional_func\u001b[0m\u001b[0;34m(\u001b[0m\u001b[0;34m*\u001b[0m\u001b[0margs\u001b[0m\u001b[0;34m,\u001b[0m \u001b[0;34m**\u001b[0m\u001b[0mkwargs\u001b[0m\u001b[0;34m)\u001b[0m\u001b[0;34m\u001b[0m\u001b[0;34m\u001b[0m\u001b[0m\n\u001b[0m\u001b[1;32m    312\u001b[0m         \u001b[0;32mfinally\u001b[0m\u001b[0;34m:\u001b[0m\u001b[0;34m\u001b[0m\u001b[0;34m\u001b[0m\u001b[0m\n\u001b[1;32m    313\u001b[0m             \u001b[0;31m# Activate tracking again if command executes without any exceptions\u001b[0m\u001b[0;34m\u001b[0m\u001b[0;34m\u001b[0m\u001b[0m\n",
            "\u001b[0;32m/usr/local/lib/python3.9/dist-packages/streamlit/elements/slider.py\u001b[0m in \u001b[0;36mslider\u001b[0;34m(self, label, min_value, max_value, value, step, format, key, help, on_change, args, kwargs, disabled, label_visibility)\u001b[0m\n\u001b[1;32m    329\u001b[0m         \"\"\"\n\u001b[1;32m    330\u001b[0m         \u001b[0mctx\u001b[0m \u001b[0;34m=\u001b[0m \u001b[0mget_script_run_ctx\u001b[0m\u001b[0;34m(\u001b[0m\u001b[0;34m)\u001b[0m\u001b[0;34m\u001b[0m\u001b[0;34m\u001b[0m\u001b[0m\n\u001b[0;32m--> 331\u001b[0;31m         return self._slider(\n\u001b[0m\u001b[1;32m    332\u001b[0m             \u001b[0mlabel\u001b[0m\u001b[0;34m=\u001b[0m\u001b[0mlabel\u001b[0m\u001b[0;34m,\u001b[0m\u001b[0;34m\u001b[0m\u001b[0;34m\u001b[0m\u001b[0m\n\u001b[1;32m    333\u001b[0m             \u001b[0mmin_value\u001b[0m\u001b[0;34m=\u001b[0m\u001b[0mmin_value\u001b[0m\u001b[0;34m,\u001b[0m\u001b[0;34m\u001b[0m\u001b[0;34m\u001b[0m\u001b[0m\n",
            "\u001b[0;32m/usr/local/lib/python3.9/dist-packages/streamlit/elements/slider.py\u001b[0m in \u001b[0;36m_slider\u001b[0;34m(self, label, min_value, max_value, value, step, format, key, help, on_change, args, kwargs, disabled, label_visibility, ctx)\u001b[0m\n\u001b[1;32m    396\u001b[0m         \u001b[0mrange_value\u001b[0m \u001b[0;34m=\u001b[0m \u001b[0misinstance\u001b[0m\u001b[0;34m(\u001b[0m\u001b[0mvalue\u001b[0m\u001b[0;34m,\u001b[0m \u001b[0;34m(\u001b[0m\u001b[0mlist\u001b[0m\u001b[0;34m,\u001b[0m \u001b[0mtuple\u001b[0m\u001b[0;34m)\u001b[0m\u001b[0;34m)\u001b[0m \u001b[0;32mand\u001b[0m \u001b[0mlen\u001b[0m\u001b[0;34m(\u001b[0m\u001b[0mvalue\u001b[0m\u001b[0;34m)\u001b[0m \u001b[0;32min\u001b[0m \u001b[0;34m(\u001b[0m\u001b[0;36m0\u001b[0m\u001b[0;34m,\u001b[0m \u001b[0;36m1\u001b[0m\u001b[0;34m,\u001b[0m \u001b[0;36m2\u001b[0m\u001b[0;34m)\u001b[0m\u001b[0;34m\u001b[0m\u001b[0;34m\u001b[0m\u001b[0m\n\u001b[1;32m    397\u001b[0m         \u001b[0;32mif\u001b[0m \u001b[0;32mnot\u001b[0m \u001b[0msingle_value\u001b[0m \u001b[0;32mand\u001b[0m \u001b[0;32mnot\u001b[0m \u001b[0mrange_value\u001b[0m\u001b[0;34m:\u001b[0m\u001b[0;34m\u001b[0m\u001b[0;34m\u001b[0m\u001b[0m\n\u001b[0;32m--> 398\u001b[0;31m             raise StreamlitAPIException(\n\u001b[0m\u001b[1;32m    399\u001b[0m                 \u001b[0;34m\"Slider value should either be an int/float/datetime or a list/tuple of \"\u001b[0m\u001b[0;34m\u001b[0m\u001b[0;34m\u001b[0m\u001b[0m\n\u001b[1;32m    400\u001b[0m                 \u001b[0;34m\"0 to 2 ints/floats/datetimes\"\u001b[0m\u001b[0;34m\u001b[0m\u001b[0;34m\u001b[0m\u001b[0m\n",
            "\u001b[0;31mStreamlitAPIException\u001b[0m: Slider value should either be an int/float/datetime or a list/tuple of 0 to 2 ints/floats/datetimes"
          ]
        }
      ],
      "source": [
        "import streamlit as st\n",
        "import pandas as pd\n",
        "import plotly.express as px\n",
        "\n",
        "# Load data from GitHub\n",
        "url = 'https://github.com/alanjones2/CO2/raw/master/data/countries_df.csv'\n",
        "df = pd.read_csv(url, usecols=['Entity', 'Year', 'Code', 'Annual CO₂ emissions'])\n",
        "\n",
        "# Create a slider to select a year\n",
        "min_year = df['Year'].min()\n",
        "max_year = df['Year'].max()\n",
        "selected_year = st.slider('Select a year', min_value=min_year, max_value=max_year, value=min_year)\n",
        "\n",
        "# Filter data for the selected year\n",
        "data = df[df['Year'] == selected_year]\n",
        "\n",
        "# Create a choropleth map using Plotly Express\n",
        "fig = px.choropleth(data_frame=data,\n",
        "                    locations='Code',\n",
        "                    color='Annual CO₂ emissions',\n",
        "                    hover_name='Entity',\n",
        "                    title=f'CO₂ Emissions ({selected_year})')\n",
        "st.plotly_chart(fig)"
      ]
    },
    {
      "cell_type": "code",
      "source": [
        "import streamlit as st\n",
        "import pandas as pd\n",
        "import plotly.express as px\n",
        "\n",
        "# Load data from GitHub\n",
        "url = 'https://github.com/alanjones2/CO2/raw/master/data/countries_df.csv'\n",
        "df = pd.read_csv(url, usecols=['Entity', 'Year', 'Code', 'Annual CO₂ emissions'])\n",
        "\n",
        "# Convert 'Year' column to integer\n",
        "df['Year'] = df['Year'].astype(int)\n",
        "\n",
        "# Create a slider to select a year\n",
        "min_year = df['Year'].min()\n",
        "max_year = df['Year'].max()\n",
        "selected_year = st.slider('Select a year', min_value=min_year, max_value=max_year, value=min_year)\n",
        "\n",
        "# Filter data for the selected year\n",
        "data = df[df['Year'] == selected_year]\n",
        "\n",
        "# Create a choropleth map using Plotly Express\n",
        "fig = px.choropleth(data_frame=data,\n",
        "                    locations='Code',\n",
        "                    color='Annual CO₂ emissions',\n",
        "                    hover_name='Entity',\n",
        "                    title=f'CO₂ Emissions ({selected_year})')\n",
        "st.plotly_chart(fig)"
      ],
      "metadata": {
        "id": "Xiq_0notPK-F"
      },
      "execution_count": null,
      "outputs": []
    },
    {
      "cell_type": "code",
      "source": [
        "import streamlit as st\n",
        "import pandas as pd\n",
        "import plotly.express as px\n",
        "\n",
        "# Load data from GitHub\n",
        "url = 'https://github.com/alanjones2/CO2/raw/master/data/countries_df.csv'\n",
        "df = pd.read_csv(url, usecols=['Entity', 'Year', 'Code', 'Annual CO₂ emissions'])\n",
        "\n",
        "# Convert 'Year' column to Python int\n",
        "df['Year'] = df['Year'].astype(int)\n",
        "\n",
        "# Create a slider to select a year\n",
        "min_year = int(df['Year'].min())\n",
        "max_year = int(df['Year'].max())\n",
        "selected_year = st.slider('Select a year', min_value=min_year, max_value=max_year, value=min_year)\n",
        "\n",
        "# Filter data for the selected year\n",
        "data = df[df['Year'] == selected_year]\n",
        "\n",
        "# Create a choropleth map using Plotly Express\n",
        "fig = px.choropleth(data_frame=data,\n",
        "                    locations='Code',\n",
        "                    color='Annual CO₂ emissions',\n",
        "                    hover_name='Entity',\n",
        "                    title=f'CO₂ Emissions ({selected_year})')\n",
        "st.plotly_chart(fig)"
      ],
      "metadata": {
        "id": "f88o5f9-PRtV"
      },
      "execution_count": null,
      "outputs": []
    },
    {
      "cell_type": "code",
      "source": [
        "import streamlit as st\n",
        "import pandas as pd\n",
        "import plotly.express as px\n",
        "\n",
        "# Load data from GitHub\n",
        "url = 'https://github.com/alanjones2/CO2/raw/master/data/countries_df.csv'\n",
        "df = pd.read_csv(url, usecols=['Entity', 'Year', 'Code', 'Annual CO₂ emissions'])\n",
        "\n",
        "# Convert 'Year' column to Python int\n",
        "df['Year'] = df['Year'].astype(int)\n",
        "\n",
        "# Create a slider to select a year\n",
        "min_year = int(df['Year'].min())\n",
        "max_year = int(df['Year'].max())\n",
        "selected_year = st.slider('Select a year', min_value=min_year, max_value=max_year, value=min_year)\n",
        "\n",
        "# Filter data for the selected year\n",
        "data = df[df['Year'] == selected_year]\n",
        "\n",
        "# Create a choropleth map using Plotly Express\n",
        "fig = px.choropleth(data_frame=data,\n",
        "                    locations='Code',\n",
        "                    color='Annual CO₂ emissions',\n",
        "                    hover_name='Entity',\n",
        "                    title=f'CO₂ Emissions ({selected_year})')\n",
        "st.plotly_chart(fig)\n",
        "\n",
        "# Create a selectbox to select countries\n",
        "countries = st.multiselect('Select one or more countries', options=data['Entity'].unique())\n",
        "\n",
        "# Filter data for selected countries\n",
        "data = data[data['Entity'].isin(countries)]\n",
        "\n",
        "# Create a bar chart using Plotly Express\n",
        "fig = px.bar(data_frame=data,\n",
        "             x='Entity',\n",
        "             y='Annual CO₂ emissions',\n",
        "             color='Entity',\n",
        "             title=f'CO₂ Emissions ({selected_year})')\n",
        "st.plotly_chart(fig)"
      ],
      "metadata": {
        "colab": {
          "base_uri": "https://localhost:8080/"
        },
        "id": "7pb_HFOKPTKp",
        "outputId": "db2ffb15-ca90-4aae-b1be-f931bbcb61dc"
      },
      "execution_count": 4,
      "outputs": [
        {
          "output_type": "stream",
          "name": "stderr",
          "text": [
            "WARNING:root:\n",
            "  \u001b[33m\u001b[1mWarning:\u001b[0m to view this Streamlit app on a browser, run it with the following\n",
            "  command:\n",
            "\n",
            "    streamlit run /usr/local/lib/python3.9/dist-packages/ipykernel_launcher.py [ARGUMENTS]\n",
            "2023-03-20 13:37:42.344 \n",
            "  \u001b[33m\u001b[1mWarning:\u001b[0m to view this Streamlit app on a browser, run it with the following\n",
            "  command:\n",
            "\n",
            "    streamlit run /usr/local/lib/python3.9/dist-packages/ipykernel_launcher.py [ARGUMENTS]\n"
          ]
        },
        {
          "output_type": "execute_result",
          "data": {
            "text/plain": [
              "DeltaGenerator(_root_container=0, _provided_cursor=None, _parent=None, _block_type=None, _form_data=None)"
            ]
          },
          "metadata": {},
          "execution_count": 4
        }
      ]
    },
    {
      "cell_type": "code",
      "source": [
        "import streamlit as st\n",
        "import pandas as pd\n",
        "import plotly.express as px\n",
        "\n",
        "# Set page title\n",
        "st.set_page_config(page_title='CO₂ Emissions Dashboard', page_icon=':chart_with_upwards_trend:')\n",
        "\n",
        "# Set app header\n",
        "st.header('CO₂ Emissions Dashboard')\n",
        "\n",
        "# Load data from GitHub\n",
        "url = 'https://github.com/alanjones2/CO2/raw/master/data/countries_df.csv'\n",
        "df = pd.read_csv(url, usecols=['Entity', 'Year', 'Code', 'Annual CO₂ emissions'])\n",
        "\n",
        "# Convert 'Year' column to Python int\n",
        "df['Year'] = df['Year'].astype(int)\n",
        "\n",
        "# Create a slider to select a year\n",
        "min_year = int(df['Year'].min())\n",
        "max_year = int(df['Year'].max())\n",
        "selected_year = st.slider('Select a year', min_value=min_year, max_value=max_year, value=min_year)\n",
        "\n",
        "# Filter data for the selected year\n",
        "data = df[df['Year'] == selected_year]\n",
        "\n",
        "# Create a choropleth map using Plotly Express\n",
        "fig = px.choropleth(data_frame=data,\n",
        "                    locations='Code',\n",
        "                    color='Annual CO₂ emissions',\n",
        "                    hover_name='Entity',\n",
        "                    title=f'CO₂ Emissions Map ({selected_year})')\n",
        "st.plotly_chart(fig)\n",
        "\n",
        "# Create a selectbox to select countries\n",
        "countries = st.multiselect('Select one or more countries', options=data['Entity'].unique())\n",
        "\n",
        "# Filter data for selected countries\n",
        "data = data[data['Entity'].isin(countries)]\n",
        "\n",
        "# Create a bar chart using Plotly Express\n",
        "fig = px.bar(data_frame=data,\n",
        "             x='Entity',\n",
        "             y='Annual CO₂ emissions',\n",
        "             color='Entity',\n",
        "             title=f'CO₂ Emissions Bar Chart ({selected_year})')\n",
        "st.plotly_chart(fig)"
      ],
      "metadata": {
        "colab": {
          "base_uri": "https://localhost:8080/"
        },
        "id": "tbKlYmetPWPJ",
        "outputId": "392bcd7f-bfa2-4c35-d69e-25ebaf7ba6ca"
      },
      "execution_count": 5,
      "outputs": [
        {
          "output_type": "execute_result",
          "data": {
            "text/plain": [
              "DeltaGenerator(_root_container=0, _provided_cursor=None, _parent=None, _block_type=None, _form_data=None)"
            ]
          },
          "metadata": {},
          "execution_count": 5
        }
      ]
    },
    {
      "cell_type": "code",
      "source": [
        "import streamlit as st\n",
        "import pandas as pd\n",
        "import plotly.express as px\n",
        "\n",
        "# Set page title and width\n",
        "st.set_page_config(page_title='CO₂ Emissions Dashboard', page_icon=':chart_with_upwards_trend:', layout='wide')\n",
        "\n",
        "# Set app header\n",
        "st.header('CO₂ Emissions Dashboard')\n",
        "\n",
        "# Load data from GitHub\n",
        "url = 'https://github.com/alanjones2/CO2/raw/master/data/countries_df.csv'\n",
        "df = pd.read_csv(url, usecols=['Entity', 'Year', 'Code', 'Annual CO₂ emissions'])\n",
        "\n",
        "# Convert 'Year' column to Python int\n",
        "df['Year'] = df['Year'].astype(int)\n",
        "\n",
        "# Create a slider to select a year\n",
        "min_year = int(df['Year'].min())\n",
        "max_year = int(df['Year'].max())\n",
        "selected_year = st.slider('Select a year', min_value=min_year, max_value=max_year, value=min_year)\n",
        "\n",
        "# Filter data for the selected year\n",
        "data = df[df['Year'] == selected_year]\n",
        "\n",
        "# Create two columns for the charts\n",
        "col1, col2 = st.beta_columns(2)\n",
        "\n",
        "# Add choropleth map to the first column\n",
        "with col1:\n",
        "    fig = px.choropleth(data_frame=data,\n",
        "                        locations='Code',\n",
        "                        color='Annual CO₂ emissions',\n",
        "                        hover_name='Entity',\n",
        "                        title=f'CO₂ Emissions Map ({selected_year})')\n",
        "    st.plotly_chart(fig)\n",
        "\n",
        "# Add bar chart to the second column\n",
        "with col2:\n",
        "    # Create a selectbox to select countries\n",
        "    countries = st.multiselect('Select one or more countries', options=data['Entity'].unique())\n",
        "\n",
        "    # Filter data for selected countries\n",
        "    data = data[data['Entity'].isin(countries)]\n",
        "\n",
        "    fig = px.bar(data_frame=data,\n",
        "                 x='Entity',\n",
        "                 y='Annual CO₂ emissions',\n",
        "                 color='Entity',\n",
        "                 title=f'CO₂ Emissions Bar Chart ({selected_year})')\n",
        "    st.plotly_chart(fig)"
      ],
      "metadata": {
        "colab": {
          "base_uri": "https://localhost:8080/"
        },
        "id": "RVG-9938PY3W",
        "outputId": "cdf46d32-ef69-4022-8cd8-0c15e5c47dc9"
      },
      "execution_count": 6,
      "outputs": [
        {
          "output_type": "stream",
          "name": "stderr",
          "text": [
            "2023-03-20 13:37:59.840 Please replace `st.beta_columns` with `st.columns`.\n",
            "\n",
            "`st.beta_columns` will be removed after 2021-11-02.\n"
          ]
        }
      ]
    },
    {
      "cell_type": "code",
      "source": [
        "import streamlit as st\n",
        "import pandas as pd\n",
        "import plotly.express as px\n",
        "\n",
        "# Set page title and width\n",
        "st.set_page_config(page_title='CO₂ Emissions Dashboard', page_icon=':chart_with_upwards_trend:', layout='wide')\n",
        "\n",
        "# Set app header\n",
        "st.header('CO₂ Emissions Dashboard')\n",
        "\n",
        "# Load data from GitHub\n",
        "url = 'https://github.com/alanjones2/CO2/raw/master/data/countries_df.csv'\n",
        "df = pd.read_csv(url, usecols=['Entity', 'Year', 'Code', 'Annual CO₂ emissions'])\n",
        "\n",
        "# Create a slider to select a year\n",
        "min_year = int(df['Year'].min())\n",
        "max_year = int(df['Year'].max())\n",
        "selected_year = st.slider('Select a year', min_value=min_year, max_value=max_year, value=min_year)\n",
        "\n",
        "# Filter data for the selected year\n",
        "data = df[df['Year'] == selected_year]\n",
        "\n",
        "# Create two columns for the charts\n",
        "col1, col2 = st.columns(2)\n",
        "\n",
        "# Add choropleth map to the first column\n",
        "with col1:\n",
        "    fig = px.choropleth(data_frame=data,\n",
        "                        locations='Code',\n",
        "                        color='Annual CO₂ emissions',\n",
        "                        hover_name='Entity',\n",
        "                        title=f'CO₂ Emissions Map ({selected_year})')\n",
        "    st.plotly_chart(fig)\n",
        "\n",
        "# Add bar chart to the second column\n",
        "with col2:\n",
        "    # Create a selectbox to select countries\n",
        "    countries = st.multiselect('Select one or more countries', options=data['Entity'].unique())\n",
        "\n",
        "    # Filter data for selected countries\n",
        "    data = data[data['Entity'].isin(countries)]\n",
        "\n",
        "    fig = px.bar(data_frame=data,\n",
        "                 x='Entity',\n",
        "                 y='Annual CO₂ emissions',\n",
        "                 color='Entity',\n",
        "                 title=f'CO₂ Emissions Bar Chart ({selected_year})')\n",
        "    st.plotly_chart(fig)"
      ],
      "metadata": {
        "id": "1jdUolHlPahM"
      },
      "execution_count": 7,
      "outputs": []
    }
  ]
}
