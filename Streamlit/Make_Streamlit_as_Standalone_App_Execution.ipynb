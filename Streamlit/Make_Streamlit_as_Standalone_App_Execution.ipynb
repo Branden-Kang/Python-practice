{
  "nbformat": 4,
  "nbformat_minor": 0,
  "metadata": {
    "colab": {
      "provenance": [],
      "authorship_tag": "ABX9TyPm7bxtEgp/hrQHHogZrcsM"
    },
    "kernelspec": {
      "name": "python3",
      "display_name": "Python 3"
    },
    "language_info": {
      "name": "python"
    }
  },
  "cells": [
    {
      "cell_type": "markdown",
      "source": [
        "[Reference](https://medium.com/@ziedici/make-streamlit-as-standalone-app-execution-9c253c633cf5)"
      ],
      "metadata": {
        "id": "N76SS6K58AK0"
      }
    },
    {
      "cell_type": "code",
      "execution_count": null,
      "metadata": {
        "id": "co69uyAu793h"
      },
      "outputs": [],
      "source": [
        "!pip install streamlit\n",
        "!pip install pandas\n",
        "pip install pyinstaller==4.10.0"
      ]
    },
    {
      "cell_type": "markdown",
      "source": [
        "```\n",
        "# main.py\n",
        "import streamlit as st\n",
        "import pandas as pd\n",
        "\n",
        "if __name__ == '__main__':\n",
        "    st.header(\"Hello world\")\n",
        "    d = {'col1': [1, 2], 'col2': [3, 4]}\n",
        "    df = pd.DataFrame(data=d)\n",
        "    print(df)\n",
        "    st.dataframe(df)\n",
        "```"
      ],
      "metadata": {
        "id": "PTSNMygE8FA2"
      }
    },
    {
      "cell_type": "markdown",
      "source": [
        "```\n",
        "# run_main.py\n",
        "import streamlit.web.cli\n",
        "\n",
        "if __name__ == '__main__':\n",
        "    streamlit.web.cli._main_run_clExplicit('main.py', 'streamlit run')\n",
        "```"
      ],
      "metadata": {
        "id": "pnzK1ULZ8LCP"
      }
    },
    {
      "cell_type": "markdown",
      "source": [
        "```\n",
        "# ./venv/lib/python3.9/site-packages/streamlit/web/cli.py\n",
        "def _main_run_clExplicit(file, command_line, args=[], flag_options={}):\n",
        "    import streamlit\n",
        "    streamlit._is_running_with_streamlit = True\n",
        "    bootstrap.run(file, command_line, args, flag_options)\n",
        "```"
      ],
      "metadata": {
        "id": "Rd-BSjjB8Wbb"
      }
    },
    {
      "cell_type": "markdown",
      "source": [
        "Create ./hooks/hook-streamlit.py"
      ],
      "metadata": {
        "id": "KY0H7oI28crz"
      }
    },
    {
      "cell_type": "markdown",
      "source": [
        "```\n",
        "# hook-streamlit.py\n",
        "from PyInstaller.utils.hooks import copy_metadata\n",
        "datas = copy_metadata('streamlit')\n",
        "```\n",
        "\n"
      ],
      "metadata": {
        "id": "5tqgozXQ8gde"
      }
    },
    {
      "cell_type": "markdown",
      "source": [
        "```\n",
        "# config.toml\n",
        "[global]\n",
        "developmentMode = false\n",
        "\n",
        "[server]\n",
        "port = 8501\n",
        "```"
      ],
      "metadata": {
        "id": "m5v2nUmH8kZ0"
      }
    },
    {
      "cell_type": "code",
      "source": [
        "# pyinstaller --onefile --additional-hooks-dir=./hooks run_main.py --clean"
      ],
      "metadata": {
        "id": "nGQ3_rA58GwD"
      },
      "execution_count": 1,
      "outputs": []
    },
    {
      "cell_type": "code",
      "source": [
        "# ./run_main"
      ],
      "metadata": {
        "id": "-mXp0hgo8r_s"
      },
      "execution_count": 2,
      "outputs": []
    }
  ]
}
