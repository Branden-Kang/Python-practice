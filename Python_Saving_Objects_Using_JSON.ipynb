{
  "nbformat": 4,
  "nbformat_minor": 0,
  "metadata": {
    "colab": {
      "provenance": [],
      "authorship_tag": "ABX9TyOj/VF6mXWsAJH65tgZwM9F"
    },
    "kernelspec": {
      "name": "python3",
      "display_name": "Python 3"
    },
    "language_info": {
      "name": "python"
    }
  },
  "cells": [
    {
      "cell_type": "markdown",
      "source": [
        "[Reference](https://medium.com/@sarperismetmakas/python-saving-objects-using-json-1b93370f7fa9)"
      ],
      "metadata": {
        "id": "Lht59iDGD5g4"
      }
    },
    {
      "cell_type": "code",
      "execution_count": 1,
      "metadata": {
        "id": "-FAEmK-7Dhnz"
      },
      "outputs": [],
      "source": [
        "import json"
      ]
    },
    {
      "cell_type": "code",
      "source": [
        "data = {\"name\": \"John\", \"age\": 30, \"city\": \"New York\"}\n",
        "json_data = json.dumps(data)"
      ],
      "metadata": {
        "id": "r2yxi_8jD-tq"
      },
      "execution_count": 2,
      "outputs": []
    },
    {
      "cell_type": "code",
      "source": [
        "with open(\"data.json\", \"w\") as json_file:\n",
        "    json.dump(data, json_file)"
      ],
      "metadata": {
        "id": "SKJlkEzgD-6f"
      },
      "execution_count": 3,
      "outputs": []
    },
    {
      "cell_type": "code",
      "source": [
        "with open(\"data.json\", \"r\") as json_file:\n",
        "    loaded_data = json.load(json_file)"
      ],
      "metadata": {
        "id": "3Q2rFZW4D_1u"
      },
      "execution_count": 4,
      "outputs": []
    },
    {
      "cell_type": "code",
      "source": [
        "complex_data = {\"person\": {\"name\": \"Alice\", \"age\": 25}, \"languages\": [\"Python\", \"JavaScript\"]}\n",
        "json_complex_data = json.dumps(complex_data)"
      ],
      "metadata": {
        "id": "KO9msMiZEA41"
      },
      "execution_count": 5,
      "outputs": []
    },
    {
      "cell_type": "code",
      "source": [
        "try:\n",
        "    loaded_data = json.load(json_file)\n",
        "except json.JSONDecodeError as e:\n",
        "    print(\"Error decoding JSON:\", e)"
      ],
      "metadata": {
        "id": "LXJZU852ECBD"
      },
      "execution_count": 7,
      "outputs": []
    }
  ]
}