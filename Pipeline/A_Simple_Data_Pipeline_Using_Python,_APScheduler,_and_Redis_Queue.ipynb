{
  "nbformat": 4,
  "nbformat_minor": 0,
  "metadata": {
    "colab": {
      "provenance": [],
      "authorship_tag": "ABX9TyOPdtwUyzAUJXOkB72pL2e/"
    },
    "kernelspec": {
      "name": "python3",
      "display_name": "Python 3"
    },
    "language_info": {
      "name": "python"
    }
  },
  "cells": [
    {
      "cell_type": "markdown",
      "source": [
        "[Reference](https://medium.com/@xstepnort/a-simple-data-pipeline-using-python-apscheduler-and-redis-queue-6404eded57e2)"
      ],
      "metadata": {
        "id": "HWitJqK0oUC2"
      }
    },
    {
      "cell_type": "code",
      "execution_count": 1,
      "metadata": {
        "colab": {
          "base_uri": "https://localhost:8080/"
        },
        "id": "kDmphcTUoShq",
        "outputId": "a4843802-3475-4695-ec25-33156162e925"
      },
      "outputs": [
        {
          "output_type": "stream",
          "name": "stdout",
          "text": [
            "Collecting apscheduler\n",
            "  Downloading APScheduler-3.10.4-py3-none-any.whl (59 kB)\n",
            "\u001b[2K     \u001b[90m━━━━━━━━━━━━━━━━━━━━━━━━━━━━━━━━━━━━━━━━\u001b[0m \u001b[32m59.3/59.3 kB\u001b[0m \u001b[31m1.1 MB/s\u001b[0m eta \u001b[36m0:00:00\u001b[0m\n",
            "\u001b[?25hCollecting rq\n",
            "  Downloading rq-1.15.1-py2.py3-none-any.whl (95 kB)\n",
            "\u001b[2K     \u001b[90m━━━━━━━━━━━━━━━━━━━━━━━━━━━━━━━━━━━━━━━━\u001b[0m \u001b[32m95.8/95.8 kB\u001b[0m \u001b[31m7.2 MB/s\u001b[0m eta \u001b[36m0:00:00\u001b[0m\n",
            "\u001b[?25hCollecting redis\n",
            "  Downloading redis-5.0.1-py3-none-any.whl (250 kB)\n",
            "\u001b[2K     \u001b[90m━━━━━━━━━━━━━━━━━━━━━━━━━━━━━━━━━━━━━━━━\u001b[0m \u001b[32m250.3/250.3 kB\u001b[0m \u001b[31m23.5 MB/s\u001b[0m eta \u001b[36m0:00:00\u001b[0m\n",
            "\u001b[?25hRequirement already satisfied: six>=1.4.0 in /usr/local/lib/python3.10/dist-packages (from apscheduler) (1.16.0)\n",
            "Requirement already satisfied: pytz in /usr/local/lib/python3.10/dist-packages (from apscheduler) (2023.3.post1)\n",
            "Requirement already satisfied: tzlocal!=3.*,>=2.0 in /usr/local/lib/python3.10/dist-packages (from apscheduler) (5.2)\n",
            "Requirement already satisfied: click>=5.0.0 in /usr/local/lib/python3.10/dist-packages (from rq) (8.1.7)\n",
            "Requirement already satisfied: async-timeout>=4.0.2 in /usr/local/lib/python3.10/dist-packages (from redis) (4.0.3)\n",
            "Installing collected packages: redis, apscheduler, rq\n",
            "Successfully installed apscheduler-3.10.4 redis-5.0.1 rq-1.15.1\n"
          ]
        }
      ],
      "source": [
        "!pip install apscheduler rq redis"
      ]
    },
    {
      "cell_type": "code",
      "source": [
        "def save_to_file(data):\n",
        "    with open(\"output.txt\", \"a\") as f:\n",
        "        f.write(data + \"\\n\")"
      ],
      "metadata": {
        "id": "BhqEz5cTo_2N"
      },
      "execution_count": 3,
      "outputs": []
    },
    {
      "cell_type": "code",
      "source": [
        "from apscheduler.schedulers.background import BackgroundScheduler\n",
        "from rq import Queue\n",
        "from redis import Redis\n",
        "\n",
        "# Initialize Redis connection and queue\n",
        "redis_conn = Redis()\n",
        "q = Queue(connection=redis_conn)\n",
        "\n",
        "def enqueue_task():\n",
        "    data = \"This is a new data line.\"\n",
        "    q.enqueue(save_to_file, data)\n",
        "\n",
        "if __name__ == \"__main__\":\n",
        "    # Schedule the task to run every 10 seconds\n",
        "    scheduler = BackgroundScheduler()\n",
        "    scheduler.add_job(enqueue_task, 'interval', seconds=10)\n",
        "    scheduler.start()\n",
        "\n",
        "    try:\n",
        "        # Keep the script running\n",
        "        while True:\n",
        "            pass\n",
        "    except (KeyboardInterrupt, SystemExit):\n",
        "        scheduler.shutdown()"
      ],
      "metadata": {
        "id": "taSPRTbco0K8"
      },
      "execution_count": 4,
      "outputs": []
    },
    {
      "cell_type": "code",
      "source": [
        "rq worker"
      ],
      "metadata": {
        "id": "1wif9VTlo9Cc"
      },
      "execution_count": 5,
      "outputs": []
    }
  ]
}
