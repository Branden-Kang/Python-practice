{
  "nbformat": 4,
  "nbformat_minor": 0,
  "metadata": {
    "colab": {
      "provenance": [],
      "authorship_tag": "ABX9TyPPWqtWJpDD5a0lETQuarJ2"
    },
    "kernelspec": {
      "name": "python3",
      "display_name": "Python 3"
    },
    "language_info": {
      "name": "python"
    }
  },
  "cells": [
    {
      "cell_type": "markdown",
      "source": [
        "[Reference](https://blog.devgenius.io/data-engineering-concepts-4-distributed-systems-and-the-master-worker-architecture-a61dc238b4ba)"
      ],
      "metadata": {
        "id": "REWkrhwDKoMY"
      }
    },
    {
      "cell_type": "markdown",
      "source": [
        "# Deploying MongoDB Cluster\n",
        "```\n",
        "version: '3.8'\n",
        "\n",
        "networks:\n",
        "  default:\n",
        "    name: mongoCluster\n",
        "\n",
        "services:\n",
        "  mongodb_master:\n",
        "    image: mongo:latest\n",
        "    container_name: mongodb_master\n",
        "    restart: always\n",
        "    ports:\n",
        "      - 27017:27017\n",
        "    volumes:\n",
        "      - ./master_data:/data/db\n",
        "    networks:\n",
        "      - default\n",
        "    command: mongod --replSet my_cluster --bind_ip localhost,mongodb_master\n",
        "\n",
        "  mongodb_worker1:\n",
        "    image: mongo:latest\n",
        "    container_name: mongodb_worker1\n",
        "    restart: always\n",
        "    ports:\n",
        "      - 27018:27017\n",
        "    volumes:\n",
        "      - ./worker1_data:/data/db\n",
        "    networks:\n",
        "      - default\n",
        "    command: mongod --replSet my_cluster --bind_ip localhost,mongodb_worker1\n",
        "\n",
        "  mongodb_worker2:\n",
        "    image: mongo:latest\n",
        "    container_name: mongodb_worker2\n",
        "    restart: always\n",
        "    ports:\n",
        "      - 27019:27017\n",
        "    volumes:\n",
        "      - ./worker2_data:/data/db\n",
        "    networks:\n",
        "      - default\n",
        "    command: mongod --replSet my_cluster --bind_ip localhost,mongodb_worker2\n",
        "```"
      ],
      "metadata": {
        "id": "KpQ-chMfK7tk"
      }
    },
    {
      "cell_type": "markdown",
      "source": [
        "```\n",
        "docker-compose up -d\n",
        "```"
      ],
      "metadata": {
        "id": "EQDL6gDcLCll"
      }
    },
    {
      "cell_type": "markdown",
      "source": [
        "```\n",
        "docker exec -it mongodb_master mongosh --eval \"rs.initiate({\n",
        " _id: \\\"my_cluster\\\",\n",
        " members: [\n",
        "   {_id: 0, host: \\\"mongodb_master\\\"},\n",
        "   {_id: 1, host: \\\"mongodb_worker1\\\"},\n",
        "   {_id: 2, host: \\\"mongodb_worker2\\\"}\n",
        " ]\n",
        "})\"\n",
        "```"
      ],
      "metadata": {
        "id": "YBtQ0thDK_Zh"
      }
    },
    {
      "cell_type": "markdown",
      "source": [
        "```\n",
        "#!/bin/bash\n",
        "\n",
        "docker-compose up -d\n",
        "\n",
        "bash execute.sh\n",
        "```"
      ],
      "metadata": {
        "id": "eL3FoJONLE0U"
      }
    },
    {
      "cell_type": "markdown",
      "source": [
        "# Using the Cluster\n",
        "```python\n",
        "from pymongo import MongoClient\n",
        "\n",
        "# Connecting to the master as a read and write primary node\n",
        "master_client = MongoClient(\"mongodb://127.0.0.1:27017/?directConnection=true&serverSelectionTimeoutMS=2000&appName=mongosh+1.10.5&readPreference=primary\")\n",
        "\n",
        "# Connect to worker1 as a read-only secondary node\n",
        "worker1_client = MongoClient(\"mongodb://127.0.0.1:27018/?directConnection=true&serverSelectionTimeoutMS=2000&appName=mongosh+1.10.5&readPreference=secondary\")\n",
        "\n",
        "# Connect to worker2 as a read-only secondary node\n",
        "worker2_client = MongoClient(\"mongodb://127.0.0.1:27019/?directConnection=true&serverSelectionTimeoutMS=2000&appName=mongosh+1.10.5&readPreference=secondary\")\n",
        "```"
      ],
      "metadata": {
        "id": "M_bMwK02LG_c"
      }
    },
    {
      "cell_type": "markdown",
      "source": [
        "```python\n",
        "print(master_client.list_database_names())\n",
        "# Output: ['admin', 'config', 'local']\n",
        "print(master_client.read_preference)\n",
        "print(worker1_client.read_preference)\n",
        "print(worker2_client.read_preference)\n",
        "# Primary()\n",
        "# Secondary(tag_sets=None, max_staleness=-1, hedge=None)\n",
        "# Secondary(tag_sets=None, max_staleness=-1, hedge=None)\n",
        "\n",
        "# Creating a database called family\n",
        "family = master_client.get_database(\"family\")\n",
        "\n",
        "# Creating a collection called members\n",
        "members = family.create_collection(\"members\")\n",
        "\n",
        "# Print all databases\n",
        "master_client.list_database_names()\n",
        "\n",
        "# Output: ['admin', 'config', 'family', 'local']\n",
        "\n",
        "# Print all databases on worker1 and worker2\n",
        "worker1_client.list_database_names()\n",
        "worker2_client.list_database_names()\n",
        "\n",
        "# Output: ['admin', 'config', 'family', 'local']\n",
        "# Output: ['admin', 'config', 'family', 'local']\n",
        "\n",
        "# Grab the family database\n",
        "family = master_client.get_database(\"family\")\n",
        "\n",
        "# Grab the members collection\n",
        "members = family.get_collection(\"members\")\n",
        "\n",
        "# Insert 5 members\n",
        "members.insert_many([\n",
        "    {\"name\": \"Bar\", \"age\": 31},\n",
        "    {\"name\": \"Yuval\", \"age\": 30},\n",
        "    {\"name\": \"Dekel\", \"age\": 32},\n",
        "    {\"name\": \"Amos\", \"age\": 60},\n",
        "    {\"name\": \"Ronit\", \"age\": 60}\n",
        "])\n",
        "\n",
        "# Print all members\n",
        "for member in members.find():\n",
        "    print(member)\n",
        "\n",
        "\n",
        "# {'_id': ObjectId('6500a9d252d01d79c5f44fbf'), 'name': 'Bar', 'age': 31}\n",
        "# {'_id': ObjectId('6500a9d252d01d79c5f44fc0'), 'name': 'Yuval', 'age': 30}\n",
        "# {'_id': ObjectId('6500a9d252d01d79c5f44fc1'), 'name': 'Dekel', 'age': 32}\n",
        "# {'_id': ObjectId('6500a9d252d01d79c5f44fc2'), 'name': 'Amos', 'age': 60}\n",
        "# {'_id': ObjectId('6500a9d252d01d79c5f44fc3'), 'name': 'Ronit', 'age': 60}\n",
        "```"
      ],
      "metadata": {
        "id": "JJgEcDL4LLlE"
      }
    }
  ]
}
