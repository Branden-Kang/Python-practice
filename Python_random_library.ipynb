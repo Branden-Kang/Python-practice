{
  "nbformat": 4,
  "nbformat_minor": 0,
  "metadata": {
    "colab": {
      "name": "Python random library.ipynb",
      "provenance": [],
      "authorship_tag": "ABX9TyNpW9k2G/GtuuP6IzZzfnZ+"
    },
    "kernelspec": {
      "name": "python3",
      "display_name": "Python 3"
    }
  },
  "cells": [
    {
      "cell_type": "markdown",
      "metadata": {
        "id": "7PPOyqcDJ1Ej"
      },
      "source": [
        "[Reference](https://medium.com/the-innovation/three-gems-from-the-python-random-library-129ce71266f1)"
      ]
    },
    {
      "cell_type": "code",
      "metadata": {
        "colab": {
          "base_uri": "https://localhost:8080/"
        },
        "id": "NmhLrhX7Jzh2",
        "outputId": "3527b853-c74e-48b0-844f-cecfc74bb8c6"
      },
      "source": [
        "import random\n",
        "\n",
        "random.seed(42)\n",
        "[random.randint(1, 100) for _ in range(3)]"
      ],
      "execution_count": 1,
      "outputs": [
        {
          "output_type": "execute_result",
          "data": {
            "text/plain": [
              "[82, 15, 4]"
            ]
          },
          "metadata": {
            "tags": []
          },
          "execution_count": 1
        }
      ]
    },
    {
      "cell_type": "code",
      "metadata": {
        "colab": {
          "base_uri": "https://localhost:8080/"
        },
        "id": "668qrVm-J-T6",
        "outputId": "51998bb6-1358-46da-a2f2-b05ca0596528"
      },
      "source": [
        "random.seed(42)\n",
        "[random.randint(1, 100) for _ in range(3)]"
      ],
      "execution_count": 2,
      "outputs": [
        {
          "output_type": "execute_result",
          "data": {
            "text/plain": [
              "[82, 15, 4]"
            ]
          },
          "metadata": {
            "tags": []
          },
          "execution_count": 2
        }
      ]
    },
    {
      "cell_type": "code",
      "metadata": {
        "colab": {
          "base_uri": "https://localhost:8080/",
          "height": 37
        },
        "id": "f44ZDG2VJ-ql",
        "outputId": "d7261526-233b-4fae-ea70-257f236dd049"
      },
      "source": [
        "import random\n",
        "\n",
        "desserts = [\"Ice Cream\", \"Sticky Toffee Pudding\", \"Cheese Board\"]\n",
        "random.choice(desserts)"
      ],
      "execution_count": 3,
      "outputs": [
        {
          "output_type": "execute_result",
          "data": {
            "application/vnd.google.colaboratory.intrinsic+json": {
              "type": "string"
            },
            "text/plain": [
              "'Cheese Board'"
            ]
          },
          "metadata": {
            "tags": []
          },
          "execution_count": 3
        }
      ]
    },
    {
      "cell_type": "code",
      "metadata": {
        "colab": {
          "base_uri": "https://localhost:8080/"
        },
        "id": "e9y1FmeqK0ns",
        "outputId": "a1097a06-64f8-4599-9a65-417e8a582828"
      },
      "source": [
        "from dataclasses import dataclass\n",
        "import random\n",
        "\n",
        "@dataclass\n",
        "class Card:\n",
        "     suit: str\n",
        "     value: str\n",
        "\n",
        "suits = [\"Clubs\", \"Diamonds\", \"Hearts\", \"Spades\"]\n",
        "values = [\"2\", \"3\", \"4\", \"5\", \"6\", \"7\", \"8\", \"9\", \"10\", \"Jack\", \"Queen\", \"King\", \"Ace\"]\n",
        "\n",
        "deck = [Card(suit, value) for suit in suits for value in values]\n",
        "len(deck)\n",
        "\n",
        "for c in deck:\n",
        "     print(c.value, c.suit)"
      ],
      "execution_count": 4,
      "outputs": [
        {
          "output_type": "stream",
          "text": [
            "2 Clubs\n",
            "3 Clubs\n",
            "4 Clubs\n",
            "5 Clubs\n",
            "6 Clubs\n",
            "7 Clubs\n",
            "8 Clubs\n",
            "9 Clubs\n",
            "10 Clubs\n",
            "Jack Clubs\n",
            "Queen Clubs\n",
            "King Clubs\n",
            "Ace Clubs\n",
            "2 Diamonds\n",
            "3 Diamonds\n",
            "4 Diamonds\n",
            "5 Diamonds\n",
            "6 Diamonds\n",
            "7 Diamonds\n",
            "8 Diamonds\n",
            "9 Diamonds\n",
            "10 Diamonds\n",
            "Jack Diamonds\n",
            "Queen Diamonds\n",
            "King Diamonds\n",
            "Ace Diamonds\n",
            "2 Hearts\n",
            "3 Hearts\n",
            "4 Hearts\n",
            "5 Hearts\n",
            "6 Hearts\n",
            "7 Hearts\n",
            "8 Hearts\n",
            "9 Hearts\n",
            "10 Hearts\n",
            "Jack Hearts\n",
            "Queen Hearts\n",
            "King Hearts\n",
            "Ace Hearts\n",
            "2 Spades\n",
            "3 Spades\n",
            "4 Spades\n",
            "5 Spades\n",
            "6 Spades\n",
            "7 Spades\n",
            "8 Spades\n",
            "9 Spades\n",
            "10 Spades\n",
            "Jack Spades\n",
            "Queen Spades\n",
            "King Spades\n",
            "Ace Spades\n"
          ],
          "name": "stdout"
        }
      ]
    },
    {
      "cell_type": "code",
      "metadata": {
        "colab": {
          "base_uri": "https://localhost:8080/"
        },
        "id": "HYiO7QPiLESF",
        "outputId": "d37dccd5-503c-4f56-f329-106b5856c23f"
      },
      "source": [
        "random.shuffle(deck)\n",
        "for c in deck:\n",
        "     print(c.value, c.suit)"
      ],
      "execution_count": 5,
      "outputs": [
        {
          "output_type": "stream",
          "text": [
            "6 Hearts\n",
            "Queen Diamonds\n",
            "King Spades\n",
            "King Clubs\n",
            "5 Diamonds\n",
            "9 Diamonds\n",
            "Ace Spades\n",
            "9 Clubs\n",
            "Jack Hearts\n",
            "8 Diamonds\n",
            "Jack Clubs\n",
            "9 Hearts\n",
            "4 Spades\n",
            "7 Spades\n",
            "5 Hearts\n",
            "3 Spades\n",
            "5 Clubs\n",
            "10 Diamonds\n",
            "9 Spades\n",
            "6 Clubs\n",
            "4 Hearts\n",
            "Queen Clubs\n",
            "5 Spades\n",
            "Jack Diamonds\n",
            "Ace Hearts\n",
            "King Diamonds\n",
            "2 Clubs\n",
            "Ace Diamonds\n",
            "Jack Spades\n",
            "7 Diamonds\n",
            "7 Hearts\n",
            "Queen Hearts\n",
            "2 Hearts\n",
            "Ace Clubs\n",
            "2 Spades\n",
            "8 Hearts\n",
            "Queen Spades\n",
            "2 Diamonds\n",
            "8 Spades\n",
            "3 Clubs\n",
            "4 Clubs\n",
            "3 Hearts\n",
            "King Hearts\n",
            "7 Clubs\n",
            "10 Hearts\n",
            "6 Spades\n",
            "8 Clubs\n",
            "10 Spades\n",
            "10 Clubs\n",
            "3 Diamonds\n",
            "4 Diamonds\n",
            "6 Diamonds\n"
          ],
          "name": "stdout"
        }
      ]
    },
    {
      "cell_type": "code",
      "metadata": {
        "colab": {
          "base_uri": "https://localhost:8080/"
        },
        "id": "0ngq7HN7LJAl",
        "outputId": "14273bcf-3167-498a-a514-953515951401"
      },
      "source": [
        "import random\n",
        "\n",
        "possible_lottery_numbers = range(1, 51)\n",
        "possible_lottery_numbers[0], possible_lottery_numbers[-1]\n",
        "\n",
        "\n",
        "random.sample(possible_lottery_numbers, 6)\n",
        "\n",
        "sorted(random.sample(possible_lottery_numbers, 6))"
      ],
      "execution_count": 6,
      "outputs": [
        {
          "output_type": "execute_result",
          "data": {
            "text/plain": [
              "[3, 6, 15, 19, 43, 48]"
            ]
          },
          "metadata": {
            "tags": []
          },
          "execution_count": 6
        }
      ]
    }
  ]
}