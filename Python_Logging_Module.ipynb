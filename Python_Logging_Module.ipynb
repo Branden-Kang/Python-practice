{
  "nbformat": 4,
  "nbformat_minor": 0,
  "metadata": {
    "colab": {
      "provenance": [],
      "authorship_tag": "ABX9TyNgSacF38/NjQk1L8MdmwJu"
    },
    "kernelspec": {
      "name": "python3",
      "display_name": "Python 3"
    },
    "language_info": {
      "name": "python"
    }
  },
  "cells": [
    {
      "cell_type": "markdown",
      "source": [
        "[Reference](https://python.plainenglish.io/python-logging-module-93ce9184985c)"
      ],
      "metadata": {
        "id": "qiCdv2CNLi3i"
      }
    },
    {
      "cell_type": "code",
      "execution_count": 3,
      "metadata": {
        "id": "ueod4I5cLHra"
      },
      "outputs": [],
      "source": [
        "import logging"
      ]
    },
    {
      "cell_type": "code",
      "source": [
        "import logging\n",
        "\n",
        "logging.debug('Debug message')\n",
        "logging.info('Info message')\n",
        "logging.warning('Warning message')\n",
        "logging.error('Error message')\n",
        "logging.critical('Critical message')"
      ],
      "metadata": {
        "colab": {
          "base_uri": "https://localhost:8080/"
        },
        "id": "Rlsutq5LLm69",
        "outputId": "e59399f3-83b8-48ce-a3bd-dfe6140dceaf"
      },
      "execution_count": 4,
      "outputs": [
        {
          "output_type": "stream",
          "name": "stderr",
          "text": [
            "WARNING:root:Warning message\n",
            "ERROR:root:Error message\n",
            "CRITICAL:root:Critical message\n"
          ]
        }
      ]
    },
    {
      "cell_type": "code",
      "source": [
        "import logging\n",
        "\n",
        "logging.basicConfig(level=logging.DEBUG)\n",
        "logging.DEBUG('Debug message')\n",
        "logging.info('Info message')"
      ],
      "metadata": {
        "id": "NA_-tROIL7-p"
      },
      "execution_count": 6,
      "outputs": []
    },
    {
      "cell_type": "code",
      "source": [
        "import logging\n",
        "logging.basicConfig(filename='my_log.log', filemode='w', format='%(asctime)s - %(message)s')\n",
        "logging.warning('warning message')"
      ],
      "metadata": {
        "colab": {
          "base_uri": "https://localhost:8080/"
        },
        "id": "TQQq5xTXMBrG",
        "outputId": "e5c90fc3-a3e2-465c-902f-bc21271e7cd6"
      },
      "execution_count": 7,
      "outputs": [
        {
          "output_type": "stream",
          "name": "stderr",
          "text": [
            "WARNING:root:warning message\n"
          ]
        }
      ]
    },
    {
      "cell_type": "code",
      "source": [
        "import logging\n",
        "logging.basicConfig(filename='my_log.log', filemode='w', format='%(asctime)s - %(message)s', datefmt='%d-%m-%y %H:%M:%S')\n",
        "logging.warning('warning message')"
      ],
      "metadata": {
        "colab": {
          "base_uri": "https://localhost:8080/"
        },
        "id": "p2_1j9UtMFCJ",
        "outputId": "b5cb5f77-8d99-4f52-ca91-8a8c31cd81b0"
      },
      "execution_count": 8,
      "outputs": [
        {
          "output_type": "stream",
          "name": "stderr",
          "text": [
            "WARNING:root:warning message\n"
          ]
        }
      ]
    },
    {
      "cell_type": "code",
      "source": [
        "import logging\n",
        "a = 1\n",
        "\n",
        "try:\n",
        "    c = a + b\n",
        "except Exception as e:\n",
        "    logging.exception(\"In exception\")"
      ],
      "metadata": {
        "colab": {
          "base_uri": "https://localhost:8080/"
        },
        "id": "CuRCYnnXMGpq",
        "outputId": "dd25096c-70a2-4f41-8753-9d36f7120dfa"
      },
      "execution_count": 9,
      "outputs": [
        {
          "output_type": "stream",
          "name": "stderr",
          "text": [
            "ERROR:root:In exception\n",
            "Traceback (most recent call last):\n",
            "  File \"<ipython-input-9-2fa35e02e8eb>\", line 5, in <cell line: 4>\n",
            "    c = a + b\n",
            "NameError: name 'b' is not defined\n"
          ]
        }
      ]
    },
    {
      "cell_type": "code",
      "source": [
        "import logging\n",
        "a = 1\n",
        "\n",
        "try:\n",
        "    c = a + b\n",
        "except Exception as e:\n",
        "    logging.warning(\"In exception\", exc_info=True)"
      ],
      "metadata": {
        "colab": {
          "base_uri": "https://localhost:8080/"
        },
        "id": "7OVvtzCYMH_p",
        "outputId": "e967579c-4910-4137-efdb-bb4da9cbc337"
      },
      "execution_count": 10,
      "outputs": [
        {
          "output_type": "stream",
          "name": "stderr",
          "text": [
            "WARNING:root:In exception\n",
            "Traceback (most recent call last):\n",
            "  File \"<ipython-input-10-bddc040d3f5e>\", line 5, in <cell line: 4>\n",
            "    c = a + b\n",
            "NameError: name 'b' is not defined\n"
          ]
        }
      ]
    },
    {
      "cell_type": "code",
      "source": [
        "import logging\n",
        "logger = logging.getLogger('my_logger')\n",
        "logger.warning('Warning messgae')"
      ],
      "metadata": {
        "colab": {
          "base_uri": "https://localhost:8080/"
        },
        "id": "jbOVr0MqMKIt",
        "outputId": "7e38d793-c78b-42d9-d265-820f87bc6982"
      },
      "execution_count": 11,
      "outputs": [
        {
          "output_type": "stream",
          "name": "stderr",
          "text": [
            "WARNING:my_logger:Warning messgae\n"
          ]
        }
      ]
    },
    {
      "cell_type": "code",
      "source": [
        "import logging\n",
        "logger = logging.getLogger('my_logger')\n",
        "\n",
        "handler = logging.StreamHandler()\n",
        "handler.setLevel(logging.WARNING)\n",
        "formatter = logging.Formatter('%(levelname)s:%(name)s:%(message)s')\n",
        "handler.setFormatter(formatter)\n",
        "\n",
        "logger.addHandler(handler)\n",
        "\n",
        "logger.warning('Warning message')"
      ],
      "metadata": {
        "colab": {
          "base_uri": "https://localhost:8080/"
        },
        "id": "ow9HVdiYMLpz",
        "outputId": "2bbf7c9b-e85d-49c4-a7b3-8a80beb366da"
      },
      "execution_count": 12,
      "outputs": [
        {
          "output_type": "stream",
          "name": "stderr",
          "text": [
            "WARNING:my_logger:Warning message\n",
            "WARNING:my_logger:Warning message\n"
          ]
        }
      ]
    },
    {
      "cell_type": "code",
      "source": [
        "import logging\n",
        "logger = logging.getLogger('my_logger')\n",
        "\n",
        "console_handler = logging.StreamHandler()\n",
        "console_handler.setLevel(logging.DEBUG)\n",
        "console_formatter = logging.Formatter('%(levelname)s:%(name)s:%(message)s')\n",
        "console_handler.setFormatter(console_formatter)\n",
        "\n",
        "file_handler = logging.FileHandler(filename='my_log.log', mode='w')\n",
        "file_handler.setLevel(logging.ERROR)\n",
        "file_formatter = logging.Formatter('%(asctime)s - %(levelname)s - %(message)s')\n",
        "file_handler.setFormatter(file_formatter)\n",
        "\n",
        "logger.addHandler(console_handler)\n",
        "logger.addHandler(file_handler)\n",
        "\n",
        "logger.warning('Warning message')\n",
        "logger.critical('Critical message')"
      ],
      "metadata": {
        "colab": {
          "base_uri": "https://localhost:8080/"
        },
        "id": "Ty4ffQtXMMtr",
        "outputId": "6968fdd0-f5fe-4d62-de0a-fed94bf40639"
      },
      "execution_count": 13,
      "outputs": [
        {
          "output_type": "stream",
          "name": "stderr",
          "text": [
            "WARNING:my_logger:Warning message\n",
            "WARNING:my_logger:Warning message\n",
            "WARNING:my_logger:Warning message\n",
            "CRITICAL:my_logger:Critical message\n",
            "CRITICAL:my_logger:Critical message\n",
            "CRITICAL:my_logger:Critical message\n"
          ]
        }
      ]
    },
    {
      "cell_type": "code",
      "source": [
        "import logging\n",
        "from logging import config\n",
        "\n",
        "log_config = {\n",
        "    \"version\": 1,\n",
        "    \"root\": {\n",
        "        \"handlers\": [\"console\", \"file\"],\n",
        "        \"level\": \"DEBUG\"\n",
        "    },\n",
        "    \"handlers\": {\n",
        "        \"console\": {\n",
        "            \"formatter\": \"console_format\",\n",
        "            \"class\": \"logging.StreamHandler\",\n",
        "            \"level\": \"DEBUG\"\n",
        "        },\n",
        "        \"file\": {\n",
        "            \"formatter\": \"file_format\",\n",
        "            \"class\": \"logging.FileHandler\",\n",
        "            \"level\": \"ERROR\",\n",
        "            \"filename\": \"my_log.log\",\n",
        "            \"mode\": \"w\"\n",
        "        }\n",
        "    },\n",
        "    \"formatters\": {\n",
        "        \"console_format\": {\n",
        "            \"format\": \"%(levelname)s:%(name)s:%(message)s\"\n",
        "        },\n",
        "        \"file_format\": {\n",
        "            \"format\": \"%(asctime)s - %(levelname)s - %(message)s\",\n",
        "        }\n",
        "    },\n",
        "}\n",
        "\n",
        "config.dictConfig(log_config)\n",
        "logger = logging.getLogger('my_logger')\n",
        "logger.warning('Warning message')\n",
        "logger.critical('Critical message')"
      ],
      "metadata": {
        "id": "ApsvHvKjMOAF"
      },
      "execution_count": 14,
      "outputs": []
    },
    {
      "cell_type": "code",
      "source": [
        "import logging\n",
        "from logging import config\n",
        "\n",
        "log_config = {\n",
        "    \"version\": 1,\n",
        "    \"root\": {\n",
        "        \"handlers\": [\"console1\", \"file\"],\n",
        "        \"level\": \"DEBUG\"\n",
        "    },\n",
        "    \"loggers\": {\n",
        "            \"my_logger\": {\n",
        "                \"handlers\": [\"console2\"],\n",
        "                \"level\": \"DEBUG\",\n",
        "                \"propagate\": False\n",
        "            }\n",
        "        },\n",
        "    \"handlers\": {\n",
        "        \"console1\": {\n",
        "            \"formatter\": \"console_format\",\n",
        "            \"class\": \"logging.StreamHandler\",\n",
        "            \"level\": \"DEBUG\"\n",
        "        },\n",
        "        \"console2\": {\n",
        "            \"formatter\": \"console_format\",\n",
        "            \"class\": \"logging.StreamHandler\",\n",
        "            \"level\": \"ERROR\"\n",
        "        },\n",
        "        \"file\": {\n",
        "            \"formatter\": \"file_format\",\n",
        "            \"class\": \"logging.FileHandler\",\n",
        "            \"level\": \"ERROR\",\n",
        "            \"filename\": \"my_log.log\",\n",
        "            \"mode\": \"w\"\n",
        "        }\n",
        "    },\n",
        "    \"formatters\": {\n",
        "        \"console_format\": {\n",
        "            \"format\": \"%(levelname)s:%(name)s:%(message)s\"\n",
        "        },\n",
        "        \"file_format\": {\n",
        "            \"format\": \"%(asctime)s - %(levelname)s - %(message)s\",\n",
        "        }\n",
        "    },\n",
        "}\n",
        "\n",
        "config.dictConfig(log_config)\n",
        "logger = logging.getLogger('main')\n",
        "my_logger = logging.getLogger('my_logger')\n",
        "logger.warning('Warning message')\n",
        "logger.critical('Critical message')\n",
        "my_logger.debug('DEBUG my_logger message')\n",
        "my_logger.error('ERROR my_logger message')"
      ],
      "metadata": {
        "colab": {
          "base_uri": "https://localhost:8080/"
        },
        "id": "H4cYRjQfMPjs",
        "outputId": "a6101ff8-c432-46e7-8056-ce6af48bb301"
      },
      "execution_count": 15,
      "outputs": [
        {
          "output_type": "stream",
          "name": "stderr",
          "text": [
            "WARNING:main:Warning message\n",
            "CRITICAL:main:Critical message\n",
            "ERROR:my_logger:ERROR my_logger message\n"
          ]
        }
      ]
    }
  ]
}