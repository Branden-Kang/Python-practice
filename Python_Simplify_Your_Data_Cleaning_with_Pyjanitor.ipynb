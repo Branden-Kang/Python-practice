{
  "nbformat": 4,
  "nbformat_minor": 0,
  "metadata": {
    "colab": {
      "provenance": [],
      "authorship_tag": "ABX9TyP/7guy3zpoSZecpy0QiRHi"
    },
    "kernelspec": {
      "name": "python3",
      "display_name": "Python 3"
    },
    "language_info": {
      "name": "python"
    }
  },
  "cells": [
    {
      "cell_type": "markdown",
      "source": [
        "[Reference](https://pravash-techie.medium.com/python-simplify-your-data-cleaning-with-pyjanitor-79176e9ee586)"
      ],
      "metadata": {
        "id": "NnoN1yVhGYNe"
      }
    },
    {
      "cell_type": "code",
      "execution_count": 1,
      "metadata": {
        "colab": {
          "base_uri": "https://localhost:8080/"
        },
        "id": "3RF5cZRSFwVS",
        "outputId": "124d87d4-63a3-4a35-cb5d-c2c2322a333e"
      },
      "outputs": [
        {
          "output_type": "stream",
          "name": "stdout",
          "text": [
            "Collecting pyjanitor\n",
            "  Downloading pyjanitor-0.26.0-py3-none-any.whl (171 kB)\n",
            "\u001b[?25l     \u001b[90m━━━━━━━━━━━━━━━━━━━━━━━━━━━━━━━━━━━━━━━━\u001b[0m \u001b[32m0.0/171.8 kB\u001b[0m \u001b[31m?\u001b[0m eta \u001b[36m-:--:--\u001b[0m\r\u001b[2K     \u001b[91m━━━━━━━━━━━━━━━━━━━━━━━━━━━━━━━━━\u001b[0m\u001b[90m╺\u001b[0m\u001b[90m━━━━━━\u001b[0m \u001b[32m143.4/171.8 kB\u001b[0m \u001b[31m4.2 MB/s\u001b[0m eta \u001b[36m0:00:01\u001b[0m\r\u001b[2K     \u001b[90m━━━━━━━━━━━━━━━━━━━━━━━━━━━━━━━━━━━━━━━━\u001b[0m \u001b[32m171.8/171.8 kB\u001b[0m \u001b[31m3.7 MB/s\u001b[0m eta \u001b[36m0:00:00\u001b[0m\n",
            "\u001b[?25hRequirement already satisfied: natsort in /usr/local/lib/python3.10/dist-packages (from pyjanitor) (8.4.0)\n",
            "Collecting pandas-flavor (from pyjanitor)\n",
            "  Downloading pandas_flavor-0.6.0-py3-none-any.whl (7.2 kB)\n",
            "Requirement already satisfied: multipledispatch in /usr/local/lib/python3.10/dist-packages (from pyjanitor) (1.0.0)\n",
            "Requirement already satisfied: scipy in /usr/local/lib/python3.10/dist-packages (from pyjanitor) (1.11.4)\n",
            "Requirement already satisfied: pandas>=0.23 in /usr/local/lib/python3.10/dist-packages (from pandas-flavor->pyjanitor) (1.5.3)\n",
            "Requirement already satisfied: xarray in /usr/local/lib/python3.10/dist-packages (from pandas-flavor->pyjanitor) (2023.7.0)\n",
            "Requirement already satisfied: numpy<1.28.0,>=1.21.6 in /usr/local/lib/python3.10/dist-packages (from scipy->pyjanitor) (1.23.5)\n",
            "Requirement already satisfied: python-dateutil>=2.8.1 in /usr/local/lib/python3.10/dist-packages (from pandas>=0.23->pandas-flavor->pyjanitor) (2.8.2)\n",
            "Requirement already satisfied: pytz>=2020.1 in /usr/local/lib/python3.10/dist-packages (from pandas>=0.23->pandas-flavor->pyjanitor) (2023.4)\n",
            "Requirement already satisfied: packaging>=21.3 in /usr/local/lib/python3.10/dist-packages (from xarray->pandas-flavor->pyjanitor) (23.2)\n",
            "Requirement already satisfied: six>=1.5 in /usr/local/lib/python3.10/dist-packages (from python-dateutil>=2.8.1->pandas>=0.23->pandas-flavor->pyjanitor) (1.16.0)\n",
            "Installing collected packages: pandas-flavor, pyjanitor\n",
            "Successfully installed pandas-flavor-0.6.0 pyjanitor-0.26.0\n"
          ]
        }
      ],
      "source": [
        "pip install pyjanitor"
      ]
    },
    {
      "cell_type": "code",
      "source": [
        "import pandas as pd\n",
        "import janitor\n",
        "\n",
        "df = pd.DataFrame({\n",
        "    'Name': ['Alice', 'Bob', 'Charlie'],\n",
        "    'Age': [25, None, 30],\n",
        "    'Salary': [50000, 60000, 75000]\n",
        "})\n",
        "\n",
        "# cleaning operations with Pyjanitor\n",
        "cleaned_df = (\n",
        "    df.clean_names()  # Cleaning column names\n",
        "      .remove_empty()  # Removing rows with missing values\n",
        "      .set_index('name')  # Setting column-'name' as the index\n",
        "      .rename_column('age', 'years_old')  # Renaming column-'age'\n",
        ")\n",
        "\n",
        "print(cleaned_df)\n"
      ],
      "metadata": {
        "colab": {
          "base_uri": "https://localhost:8080/"
        },
        "id": "kX35Bs_VGd8D",
        "outputId": "77941256-7232-4c52-8d2c-7303eabfd19e"
      },
      "execution_count": 2,
      "outputs": [
        {
          "output_type": "stream",
          "name": "stdout",
          "text": [
            "         years_old  salary\n",
            "name                      \n",
            "Alice         25.0   50000\n",
            "Bob            NaN   60000\n",
            "Charlie       30.0   75000\n"
          ]
        },
        {
          "output_type": "stream",
          "name": "stderr",
          "text": [
            "/usr/local/lib/python3.10/dist-packages/pandas_flavor/register.py:157: FutureWarning: This function will be deprecated in a 1.x release. Please use `pd.DataFrame.rename` instead.\n",
            "  return method(self._obj, *args, **kwargs)\n"
          ]
        }
      ]
    }
  ]
}