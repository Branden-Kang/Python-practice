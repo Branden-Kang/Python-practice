{
  "nbformat": 4,
  "nbformat_minor": 0,
  "metadata": {
    "colab": {
      "name": "More List Comprehensions in Python.ipynb",
      "provenance": [],
      "authorship_tag": "ABX9TyO06sSUUcxo7b2YEezmYrsw"
    },
    "kernelspec": {
      "name": "python3",
      "display_name": "Python 3"
    }
  },
  "cells": [
    {
      "cell_type": "markdown",
      "metadata": {
        "id": "38un8uCEg2OS"
      },
      "source": [
        "[Reference](https://towardsdatascience.com/my-trick-to-learning-list-comprehensions-in-python-8a54e66d98b)"
      ]
    },
    {
      "cell_type": "code",
      "metadata": {
        "id": "vOR1BMLQgMum"
      },
      "source": [
        "#example list\n",
        "color_list = [\"green\", \"red\", \"blue\", \"yellow\"]"
      ],
      "execution_count": 1,
      "outputs": []
    },
    {
      "cell_type": "code",
      "metadata": {
        "id": "qqgrf6B1gNuF"
      },
      "source": [
        "#example list comprehension\n",
        "green_list = [color for color in color_list if color == 'green']"
      ],
      "execution_count": 2,
      "outputs": []
    },
    {
      "cell_type": "code",
      "metadata": {
        "id": "UUjYhpjsgPPS"
      },
      "source": [
        "green_list2 = []\n",
        "for color in color_list:\n",
        "    if color == 'green':\n",
        "        green_list2.append(color)"
      ],
      "execution_count": 3,
      "outputs": []
    },
    {
      "cell_type": "code",
      "metadata": {
        "colab": {
          "base_uri": "https://localhost:8080/"
        },
        "id": "rz4BGX1wgQvp",
        "outputId": "19b1b716-db2c-4158-82ea-6494e8972a28"
      },
      "source": [
        "print(green_list)\n",
        "print(green_list2)"
      ],
      "execution_count": 4,
      "outputs": [
        {
          "output_type": "stream",
          "text": [
            "['green']\n",
            "['green']\n"
          ],
          "name": "stdout"
        }
      ]
    },
    {
      "cell_type": "code",
      "metadata": {
        "colab": {
          "base_uri": "https://localhost:8080/"
        },
        "id": "YVYfUi8ngVgq",
        "outputId": "123307a9-7e08-4038-b2af-6d00dac3bba8"
      },
      "source": [
        "#SQL select statement example\n",
        "#SELECT color FROM color_list WHERE color IN ('green', 'red', 'blue')#list comprehension selecting the same data as the SQL statement\n",
        "rgb = [color for color in color_list if color in('green', 'red', 'blue')]\n",
        "print(rgb)"
      ],
      "execution_count": 5,
      "outputs": [
        {
          "output_type": "stream",
          "text": [
            "['green', 'red', 'blue']\n"
          ],
          "name": "stdout"
        }
      ]
    },
    {
      "cell_type": "markdown",
      "metadata": {
        "id": "dWNdUj_FgxSg"
      },
      "source": [
        "# Two ways to map values using list comprehensions"
      ]
    },
    {
      "cell_type": "code",
      "metadata": {
        "colab": {
          "base_uri": "https://localhost:8080/"
        },
        "id": "5197UiJ9gbuj",
        "outputId": "9374b0c1-2bea-418f-c19d-9c284d4676a6"
      },
      "source": [
        "#create numeric indicators for colors\n",
        "color_indicator = [0 if color == 'green'else 1 if color == 'red' else 2 if color == 'blue' else 3 for color in color_list]\n",
        "print(color_list)\n",
        "print(color_indicator)"
      ],
      "execution_count": 6,
      "outputs": [
        {
          "output_type": "stream",
          "text": [
            "['green', 'red', 'blue', 'yellow']\n",
            "[0, 1, 2, 3]\n"
          ],
          "name": "stdout"
        }
      ]
    },
    {
      "cell_type": "code",
      "metadata": {
        "colab": {
          "base_uri": "https://localhost:8080/"
        },
        "id": "UZ5vQF4eggBf",
        "outputId": "662688b2-6e0f-4d59-9a8e-a7a4e280971c"
      },
      "source": [
        "color_mapping = {'green': 0, 'red': 1, 'blue':2, 'yellow':3}\n",
        "color_indicator2 = [color_mapping[color] if color in color_mapping else 'na' for color in color_list]\n",
        "print(color_list)\n",
        "print(color_indicator2)"
      ],
      "execution_count": 7,
      "outputs": [
        {
          "output_type": "stream",
          "text": [
            "['green', 'red', 'blue', 'yellow']\n",
            "[0, 1, 2, 3]\n"
          ],
          "name": "stdout"
        }
      ]
    },
    {
      "cell_type": "code",
      "metadata": {
        "colab": {
          "base_uri": "https://localhost:8080/"
        },
        "id": "_kT5XFgygh7Q",
        "outputId": "9386f261-2fc8-4ee4-cec1-bdde68dc220f"
      },
      "source": [
        "long_color_words = [color for color in color_list if len(color) > 5]\n",
        "long_color_words"
      ],
      "execution_count": 8,
      "outputs": [
        {
          "output_type": "execute_result",
          "data": {
            "text/plain": [
              "['yellow']"
            ]
          },
          "metadata": {
            "tags": []
          },
          "execution_count": 8
        }
      ]
    },
    {
      "cell_type": "code",
      "metadata": {
        "colab": {
          "base_uri": "https://localhost:8080/"
        },
        "id": "R9omdo2wgorb",
        "outputId": "763ab42f-1500-464e-8bef-af74a289ae64"
      },
      "source": [
        "color_length5 = [color for color in color_list if len(color) > 4 and len(color) < 6]\n",
        "color_length5"
      ],
      "execution_count": 9,
      "outputs": [
        {
          "output_type": "execute_result",
          "data": {
            "text/plain": [
              "['green']"
            ]
          },
          "metadata": {
            "tags": []
          },
          "execution_count": 9
        }
      ]
    },
    {
      "cell_type": "markdown",
      "metadata": {
        "id": "IkimGBRRguFJ"
      },
      "source": [
        "# Nesting Loops"
      ]
    },
    {
      "cell_type": "code",
      "metadata": {
        "colab": {
          "base_uri": "https://localhost:8080/"
        },
        "id": "5AjqySQ2grDm",
        "outputId": "c634d88c-720e-48dd-ac20-581f2c079c4d"
      },
      "source": [
        "color_list1 = ['green', 'red', 'blue', 'yellow']\n",
        "color_list2 = ['dark', 'bright', 'tinted', 'glowing']\n",
        "\n",
        "color_matrix = [[color2 + ' ' + color1 for color1 in color_list1] for color2 in color_list2]\n",
        "color_matrix"
      ],
      "execution_count": 10,
      "outputs": [
        {
          "output_type": "execute_result",
          "data": {
            "text/plain": [
              "[['dark green', 'dark red', 'dark blue', 'dark yellow'],\n",
              " ['bright green', 'bright red', 'bright blue', 'bright yellow'],\n",
              " ['tinted green', 'tinted red', 'tinted blue', 'tinted yellow'],\n",
              " ['glowing green', 'glowing red', 'glowing blue', 'glowing yellow']]"
            ]
          },
          "metadata": {
            "tags": []
          },
          "execution_count": 10
        }
      ]
    }
  ]
}