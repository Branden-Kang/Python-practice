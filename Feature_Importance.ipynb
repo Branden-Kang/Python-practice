{
  "nbformat": 4,
  "nbformat_minor": 0,
  "metadata": {
    "colab": {
      "name": "Feature Importance.ipynb",
      "provenance": [],
      "authorship_tag": "ABX9TyM7FUWwXfOu7Ns14m5eFJpA"
    },
    "kernelspec": {
      "name": "python3",
      "display_name": "Python 3"
    }
  },
  "cells": [
    {
      "cell_type": "markdown",
      "metadata": {
        "id": "mAHhyyu8DBq7",
        "colab_type": "text"
      },
      "source": [
        "[Reference](https://machinelearningmastery.com/calculate-feature-importance-with-python/)"
      ]
    },
    {
      "cell_type": "code",
      "metadata": {
        "id": "Id_pXibv-xko",
        "colab_type": "code",
        "colab": {
          "base_uri": "https://localhost:8080/",
          "height": 34
        },
        "outputId": "ac8ba05d-b12f-49f4-8f5f-899f542d29cb"
      },
      "source": [
        "import sklearn\n",
        "print(sklearn.__version__)"
      ],
      "execution_count": 1,
      "outputs": [
        {
          "output_type": "stream",
          "text": [
            "0.22.2.post1\n"
          ],
          "name": "stdout"
        }
      ]
    },
    {
      "cell_type": "code",
      "metadata": {
        "id": "3xrfTKx9-5jX",
        "colab_type": "code",
        "colab": {
          "base_uri": "https://localhost:8080/",
          "height": 34
        },
        "outputId": "8b5b3911-2eac-4c28-f6fd-24f7b2a772ed"
      },
      "source": [
        "# test classification dataset\n",
        "from sklearn.datasets import make_classification\n",
        "# define dataset\n",
        "X, y = make_classification(n_samples=1000, n_features=10, n_informative=5, n_redundant=5, random_state=1)\n",
        "# summarize the dataset\n",
        "print(X.shape, y.shape)"
      ],
      "execution_count": 2,
      "outputs": [
        {
          "output_type": "stream",
          "text": [
            "(1000, 10) (1000,)\n"
          ],
          "name": "stdout"
        }
      ]
    },
    {
      "cell_type": "code",
      "metadata": {
        "id": "5CRlXXFA_Fx-",
        "colab_type": "code",
        "colab": {
          "base_uri": "https://localhost:8080/",
          "height": 34
        },
        "outputId": "482a7660-e6fb-49b9-d2b1-068602681df6"
      },
      "source": [
        "# test regression dataset\n",
        "from sklearn.datasets import make_regression\n",
        "# define dataset\n",
        "X, y = make_regression(n_samples=1000, n_features=10, n_informative=5, random_state=1)\n",
        "# summarize the dataset\n",
        "print(X.shape, y.shape)"
      ],
      "execution_count": 3,
      "outputs": [
        {
          "output_type": "stream",
          "text": [
            "(1000, 10) (1000,)\n"
          ],
          "name": "stdout"
        }
      ]
    },
    {
      "cell_type": "markdown",
      "metadata": {
        "id": "NyG66fg-_jRN",
        "colab_type": "text"
      },
      "source": [
        "# Linear Regression Feature Importance"
      ]
    },
    {
      "cell_type": "code",
      "metadata": {
        "id": "JJn2p-9i_KoE",
        "colab_type": "code",
        "colab": {
          "base_uri": "https://localhost:8080/",
          "height": 435
        },
        "outputId": "48971b63-20f9-4a69-8eab-49b3a1470248"
      },
      "source": [
        "# linear regression feature importance\n",
        "from sklearn.datasets import make_regression\n",
        "from sklearn.linear_model import LinearRegression\n",
        "from matplotlib import pyplot\n",
        "# define dataset\n",
        "X, y = make_regression(n_samples=1000, n_features=10, n_informative=5, random_state=1)\n",
        "# define the model\n",
        "model = LinearRegression()\n",
        "# fit the model\n",
        "model.fit(X, y)\n",
        "# get importance\n",
        "importance = model.coef_\n",
        "# summarize feature importance\n",
        "for i,v in enumerate(importance):\n",
        "\tprint('Feature: %0d, Score: %.5f' % (i,v))\n",
        "# plot feature importance\n",
        "pyplot.bar([x for x in range(len(importance))], importance)\n",
        "pyplot.show()"
      ],
      "execution_count": 4,
      "outputs": [
        {
          "output_type": "stream",
          "text": [
            "Feature: 0, Score: -0.00000\n",
            "Feature: 1, Score: 12.44483\n",
            "Feature: 2, Score: -0.00000\n",
            "Feature: 3, Score: -0.00000\n",
            "Feature: 4, Score: 93.32225\n",
            "Feature: 5, Score: 86.50811\n",
            "Feature: 6, Score: 26.74607\n",
            "Feature: 7, Score: 3.28535\n",
            "Feature: 8, Score: -0.00000\n",
            "Feature: 9, Score: 0.00000\n"
          ],
          "name": "stdout"
        },
        {
          "output_type": "display_data",
          "data": {
            "image/png": "[encoded data removed]",
            "text/plain": [
              "<Figure size 432x288 with 1 Axes>"
            ]
          },
          "metadata": {
            "tags": [],
            "needs_background": "light"
          }
        }
      ]
    },
    {
      "cell_type": "markdown",
      "metadata": {
        "id": "fNuAARZn_lbO",
        "colab_type": "text"
      },
      "source": [
        "# Logistic Regression Feature Importance"
      ]
    },
    {
      "cell_type": "code",
      "metadata": {
        "id": "yRvLAMjv_PLf",
        "colab_type": "code",
        "colab": {
          "base_uri": "https://localhost:8080/",
          "height": 435
        },
        "outputId": "019e7601-710c-48da-996e-7caa2b5f662e"
      },
      "source": [
        "# logistic regression for feature importance\n",
        "from sklearn.datasets import make_classification\n",
        "from sklearn.linear_model import LogisticRegression\n",
        "from matplotlib import pyplot\n",
        "# define dataset\n",
        "X, y = make_classification(n_samples=1000, n_features=10, n_informative=5, n_redundant=5, random_state=1)\n",
        "# define the model\n",
        "model = LogisticRegression()\n",
        "# fit the model\n",
        "model.fit(X, y)\n",
        "# get importance\n",
        "importance = model.coef_[0]\n",
        "# summarize feature importance\n",
        "for i,v in enumerate(importance):\n",
        "\tprint('Feature: %0d, Score: %.5f' % (i,v))\n",
        "# plot feature importance\n",
        "pyplot.bar([x for x in range(len(importance))], importance)\n",
        "pyplot.show()"
      ],
      "execution_count": 6,
      "outputs": [
        {
          "output_type": "stream",
          "text": [
            "Feature: 0, Score: 0.16320\n",
            "Feature: 1, Score: -0.64301\n",
            "Feature: 2, Score: 0.48497\n",
            "Feature: 3, Score: -0.46190\n",
            "Feature: 4, Score: 0.18432\n",
            "Feature: 5, Score: -0.11978\n",
            "Feature: 6, Score: -0.40602\n",
            "Feature: 7, Score: 0.03772\n",
            "Feature: 8, Score: -0.51785\n",
            "Feature: 9, Score: 0.26540\n"
          ],
          "name": "stdout"
        },
        {
          "output_type": "display_data",
          "data": {
            "image/png": "[encoded data removed]",
            "text/plain": [
              "<Figure size 432x288 with 1 Axes>"
            ]
          },
          "metadata": {
            "tags": [],
            "needs_background": "light"
          }
        }
      ]
    },
    {
      "cell_type": "markdown",
      "metadata": {
        "id": "hw5GjXOd_uKQ",
        "colab_type": "text"
      },
      "source": [
        "# Decision Tree Feature Importance"
      ]
    },
    {
      "cell_type": "markdown",
      "metadata": {
        "id": "S_96kH3I_xdC",
        "colab_type": "text"
      },
      "source": [
        "## CART Feature Importance\n",
        "### CART Regression Feature Importance"
      ]
    },
    {
      "cell_type": "code",
      "metadata": {
        "id": "h3m4XHnX_n8L",
        "colab_type": "code",
        "colab": {
          "base_uri": "https://localhost:8080/",
          "height": 435
        },
        "outputId": "baf74a5a-63c4-4413-fea7-29e5a5ead120"
      },
      "source": [
        "from sklearn.datasets import make_regression\n",
        "from sklearn.tree import DecisionTreeRegressor\n",
        "from matplotlib import pyplot\n",
        "# define dataset\n",
        "X, y = make_regression(n_samples=1000, n_features=10, n_informative=5, random_state=1)\n",
        "# define the model\n",
        "model = DecisionTreeRegressor()\n",
        "# fit the model\n",
        "model.fit(X, y)\n",
        "# get importance\n",
        "importance = model.feature_importances_\n",
        "# summarize feature importance\n",
        "for i,v in enumerate(importance):\n",
        "\tprint('Feature: %0d, Score: %.5f' % (i,v))\n",
        "# plot feature importance\n",
        "pyplot.bar([x for x in range(len(importance))], importance)\n",
        "pyplot.show()"
      ],
      "execution_count": 7,
      "outputs": [
        {
          "output_type": "stream",
          "text": [
            "Feature: 0, Score: 0.00292\n",
            "Feature: 1, Score: 0.00428\n",
            "Feature: 2, Score: 0.00148\n",
            "Feature: 3, Score: 0.00136\n",
            "Feature: 4, Score: 0.51752\n",
            "Feature: 5, Score: 0.43791\n",
            "Feature: 6, Score: 0.02760\n",
            "Feature: 7, Score: 0.00348\n",
            "Feature: 8, Score: 0.00259\n",
            "Feature: 9, Score: 0.00088\n"
          ],
          "name": "stdout"
        },
        {
          "output_type": "display_data",
          "data": {
            "image/png": "[encoded data removed]",
            "text/plain": [
              "<Figure size 432x288 with 1 Axes>"
            ]
          },
          "metadata": {
            "tags": [],
            "needs_background": "light"
          }
        }
      ]
    },
    {
      "cell_type": "markdown",
      "metadata": {
        "id": "i9vyZpOAABQV",
        "colab_type": "text"
      },
      "source": [
        "### CART Classification Feature Importance"
      ]
    },
    {
      "cell_type": "code",
      "metadata": {
        "id": "Tqlv8rpi_40r",
        "colab_type": "code",
        "colab": {
          "base_uri": "https://localhost:8080/",
          "height": 435
        },
        "outputId": "94ef620d-bc00-424e-e757-dba5b15e00fe"
      },
      "source": [
        "from sklearn.datasets import make_classification\n",
        "from sklearn.tree import DecisionTreeClassifier\n",
        "from matplotlib import pyplot\n",
        "# define dataset\n",
        "X, y = make_classification(n_samples=1000, n_features=10, n_informative=5, n_redundant=5, random_state=1)\n",
        "# define the model\n",
        "model = DecisionTreeClassifier()\n",
        "# fit the model\n",
        "model.fit(X, y)\n",
        "# get importance\n",
        "importance = model.feature_importances_\n",
        "# summarize feature importance\n",
        "for i,v in enumerate(importance):\n",
        "\tprint('Feature: %0d, Score: %.5f' % (i,v))\n",
        "# plot feature importance\n",
        "pyplot.bar([x for x in range(len(importance))], importance)\n",
        "pyplot.show()"
      ],
      "execution_count": 8,
      "outputs": [
        {
          "output_type": "stream",
          "text": [
            "Feature: 0, Score: 0.02318\n",
            "Feature: 1, Score: 0.00713\n",
            "Feature: 2, Score: 0.17964\n",
            "Feature: 3, Score: 0.31385\n",
            "Feature: 4, Score: 0.10027\n",
            "Feature: 5, Score: 0.00619\n",
            "Feature: 6, Score: 0.16567\n",
            "Feature: 7, Score: 0.04807\n",
            "Feature: 8, Score: 0.12535\n",
            "Feature: 9, Score: 0.03065\n"
          ],
          "name": "stdout"
        },
        {
          "output_type": "display_data",
          "data": {
            "image/png": "[encoded data removed]",
            "text/plain": [
              "<Figure size 432x288 with 1 Axes>"
            ]
          },
          "metadata": {
            "tags": [],
            "needs_background": "light"
          }
        }
      ]
    },
    {
      "cell_type": "markdown",
      "metadata": {
        "id": "h1Ex5oWuAFmK",
        "colab_type": "text"
      },
      "source": [
        "## Random Forest Feature Importance\n",
        "### Random Forest Regression Feature Importance"
      ]
    },
    {
      "cell_type": "code",
      "metadata": {
        "id": "62C06P_NAC5E",
        "colab_type": "code",
        "colab": {
          "base_uri": "https://localhost:8080/",
          "height": 435
        },
        "outputId": "718cedf5-2224-4c95-935d-32df04f2e0fa"
      },
      "source": [
        "from sklearn.datasets import make_regression\n",
        "from sklearn.ensemble import RandomForestRegressor\n",
        "from matplotlib import pyplot\n",
        "# define dataset\n",
        "X, y = make_regression(n_samples=1000, n_features=10, n_informative=5, random_state=1)\n",
        "# define the model\n",
        "model = RandomForestRegressor()\n",
        "# fit the model\n",
        "model.fit(X, y)\n",
        "# get importance\n",
        "importance = model.feature_importances_\n",
        "# summarize feature importance\n",
        "for i,v in enumerate(importance):\n",
        "\tprint('Feature: %0d, Score: %.5f' % (i,v))\n",
        "# plot feature importance\n",
        "pyplot.bar([x for x in range(len(importance))], importance)\n",
        "pyplot.show()"
      ],
      "execution_count": 9,
      "outputs": [
        {
          "output_type": "stream",
          "text": [
            "Feature: 0, Score: 0.00301\n",
            "Feature: 1, Score: 0.00561\n",
            "Feature: 2, Score: 0.00281\n",
            "Feature: 3, Score: 0.00280\n",
            "Feature: 4, Score: 0.53205\n",
            "Feature: 5, Score: 0.41921\n",
            "Feature: 6, Score: 0.02607\n",
            "Feature: 7, Score: 0.00281\n",
            "Feature: 8, Score: 0.00293\n",
            "Feature: 9, Score: 0.00269\n"
          ],
          "name": "stdout"
        },
        {
          "output_type": "display_data",
          "data": {
            "image/png": "[encoded data removed]",
            "text/plain": [
              "<Figure size 432x288 with 1 Axes>"
            ]
          },
          "metadata": {
            "tags": [],
            "needs_background": "light"
          }
        }
      ]
    },
    {
      "cell_type": "markdown",
      "metadata": {
        "id": "FsaUMSzTALs1",
        "colab_type": "text"
      },
      "source": [
        "### Random Forest Classification Feature Importance"
      ]
    },
    {
      "cell_type": "code",
      "metadata": {
        "id": "rfalDk8hAJ_D",
        "colab_type": "code",
        "colab": {
          "base_uri": "https://localhost:8080/",
          "height": 435
        },
        "outputId": "a2a2393d-458b-44f4-e87d-02d6b2dd27c6"
      },
      "source": [
        "from sklearn.datasets import make_classification\n",
        "from sklearn.ensemble import RandomForestClassifier\n",
        "from matplotlib import pyplot\n",
        "# define dataset\n",
        "X, y = make_classification(n_samples=1000, n_features=10, n_informative=5, n_redundant=5, random_state=1)\n",
        "# define the model\n",
        "model = RandomForestClassifier()\n",
        "# fit the model\n",
        "model.fit(X, y)\n",
        "# get importance\n",
        "importance = model.feature_importances_\n",
        "# summarize feature importance\n",
        "for i,v in enumerate(importance):\n",
        "\tprint('Feature: %0d, Score: %.5f' % (i,v))\n",
        "# plot feature importance\n",
        "pyplot.bar([x for x in range(len(importance))], importance)\n",
        "pyplot.show()"
      ],
      "execution_count": 10,
      "outputs": [
        {
          "output_type": "stream",
          "text": [
            "Feature: 0, Score: 0.06458\n",
            "Feature: 1, Score: 0.11421\n",
            "Feature: 2, Score: 0.15440\n",
            "Feature: 3, Score: 0.18705\n",
            "Feature: 4, Score: 0.08101\n",
            "Feature: 5, Score: 0.11801\n",
            "Feature: 6, Score: 0.10129\n",
            "Feature: 7, Score: 0.04743\n",
            "Feature: 8, Score: 0.08770\n",
            "Feature: 9, Score: 0.04433\n"
          ],
          "name": "stdout"
        },
        {
          "output_type": "display_data",
          "data": {
            "image/png": "[encoded data removed]",
            "text/plain": [
              "<Figure size 432x288 with 1 Axes>"
            ]
          },
          "metadata": {
            "tags": [],
            "needs_background": "light"
          }
        }
      ]
    },
    {
      "cell_type": "markdown",
      "metadata": {
        "id": "jOOUvLH6APzC",
        "colab_type": "text"
      },
      "source": [
        "## XGBoost Feature Importance"
      ]
    },
    {
      "cell_type": "code",
      "metadata": {
        "id": "VORaCor2ANBN",
        "colab_type": "code",
        "colab": {
          "base_uri": "https://localhost:8080/",
          "height": 34
        },
        "outputId": "5e3d5e9a-df35-469a-d91f-033335545fde"
      },
      "source": [
        "import xgboost\n",
        "print(xgboost.__version__)"
      ],
      "execution_count": 11,
      "outputs": [
        {
          "output_type": "stream",
          "text": [
            "0.90\n"
          ],
          "name": "stdout"
        }
      ]
    },
    {
      "cell_type": "markdown",
      "metadata": {
        "id": "SxKXQVbuAbca",
        "colab_type": "text"
      },
      "source": [
        "### XGBoost Regression Feature Importance"
      ]
    },
    {
      "cell_type": "code",
      "metadata": {
        "id": "WKA6a98iAUe9",
        "colab_type": "code",
        "colab": {
          "base_uri": "https://localhost:8080/",
          "height": 472
        },
        "outputId": "ea09793f-7364-465c-8066-e0b7bca32da2"
      },
      "source": [
        "# xgboost for feature importance on a regression problem\n",
        "from sklearn.datasets import make_regression\n",
        "from xgboost import XGBRegressor\n",
        "from matplotlib import pyplot\n",
        "# define dataset\n",
        "X, y = make_regression(n_samples=1000, n_features=10, n_informative=5, random_state=1)\n",
        "# define the model\n",
        "model = XGBRegressor()\n",
        "# fit the model\n",
        "model.fit(X, y)\n",
        "# get importance\n",
        "importance = model.feature_importances_\n",
        "# summarize feature importance\n",
        "for i,v in enumerate(importance):\n",
        "\tprint('Feature: %0d, Score: %.5f' % (i,v))\n",
        "# plot feature importance\n",
        "pyplot.bar([x for x in range(len(importance))], importance)\n",
        "pyplot.show()"
      ],
      "execution_count": 12,
      "outputs": [
        {
          "output_type": "stream",
          "text": [
            "[02:58:11] WARNING: /workspace/src/objective/regression_obj.cu:152: reg:linear is now deprecated in favor of reg:squarederror.\n",
            "Feature: 0, Score: 0.00060\n",
            "Feature: 1, Score: 0.01917\n",
            "Feature: 2, Score: 0.00091\n",
            "Feature: 3, Score: 0.00118\n",
            "Feature: 4, Score: 0.49380\n",
            "Feature: 5, Score: 0.42342\n",
            "Feature: 6, Score: 0.05057\n",
            "Feature: 7, Score: 0.00419\n",
            "Feature: 8, Score: 0.00124\n",
            "Feature: 9, Score: 0.00491\n"
          ],
          "name": "stdout"
        },
        {
          "output_type": "display_data",
          "data": {
            "image/png": "[encoded data removed]",
            "text/plain": [
              "<Figure size 432x288 with 1 Axes>"
            ]
          },
          "metadata": {
            "tags": [],
            "needs_background": "light"
          }
        }
      ]
    },
    {
      "cell_type": "markdown",
      "metadata": {
        "id": "faU1cvFlAf4b",
        "colab_type": "text"
      },
      "source": [
        "### XGBoost Classification Feature Importance\n",
        "\n"
      ]
    },
    {
      "cell_type": "code",
      "metadata": {
        "id": "5YdqUUIFAeeV",
        "colab_type": "code",
        "colab": {
          "base_uri": "https://localhost:8080/",
          "height": 435
        },
        "outputId": "2656029c-2d7e-4100-9bca-0cc72043ed09"
      },
      "source": [
        "# xgboost for feature importance on a classification problem\n",
        "from sklearn.datasets import make_classification\n",
        "from xgboost import XGBClassifier\n",
        "from matplotlib import pyplot\n",
        "# define dataset\n",
        "X, y = make_classification(n_samples=1000, n_features=10, n_informative=5, n_redundant=5, random_state=1)\n",
        "# define the model\n",
        "model = XGBClassifier()\n",
        "# fit the model\n",
        "model.fit(X, y)\n",
        "# get importance\n",
        "importance = model.feature_importances_\n",
        "# summarize feature importance\n",
        "for i,v in enumerate(importance):\n",
        "\tprint('Feature: %0d, Score: %.5f' % (i,v))\n",
        "# plot feature importance\n",
        "pyplot.bar([x for x in range(len(importance))], importance)\n",
        "pyplot.show()"
      ],
      "execution_count": 13,
      "outputs": [
        {
          "output_type": "stream",
          "text": [
            "Feature: 0, Score: 0.02464\n",
            "Feature: 1, Score: 0.08153\n",
            "Feature: 2, Score: 0.12516\n",
            "Feature: 3, Score: 0.28400\n",
            "Feature: 4, Score: 0.12694\n",
            "Feature: 5, Score: 0.10752\n",
            "Feature: 6, Score: 0.08624\n",
            "Feature: 7, Score: 0.04820\n",
            "Feature: 8, Score: 0.09357\n",
            "Feature: 9, Score: 0.02220\n"
          ],
          "name": "stdout"
        },
        {
          "output_type": "display_data",
          "data": {
            "image/png": "[encoded data removed]",
            "text/plain": [
              "<Figure size 432x288 with 1 Axes>"
            ]
          },
          "metadata": {
            "tags": [],
            "needs_background": "light"
          }
        }
      ]
    },
    {
      "cell_type": "markdown",
      "metadata": {
        "id": "prFyhyNKAk6c",
        "colab_type": "text"
      },
      "source": [
        "# Permutation Feature Importance\n",
        "## Permutation Feature Importance for Regression"
      ]
    },
    {
      "cell_type": "code",
      "metadata": {
        "id": "YhIv8k8aAjG3",
        "colab_type": "code",
        "colab": {
          "base_uri": "https://localhost:8080/",
          "height": 435
        },
        "outputId": "d4a877db-5f5a-4104-9df8-089d0561c943"
      },
      "source": [
        "# permutation feature importance with knn for regression\n",
        "from sklearn.datasets import make_regression\n",
        "from sklearn.neighbors import KNeighborsRegressor\n",
        "from sklearn.inspection import permutation_importance\n",
        "from matplotlib import pyplot\n",
        "# define dataset\n",
        "X, y = make_regression(n_samples=1000, n_features=10, n_informative=5, random_state=1)\n",
        "# define the model\n",
        "model = KNeighborsRegressor()\n",
        "# fit the model\n",
        "model.fit(X, y)\n",
        "# perform permutation importance\n",
        "results = permutation_importance(model, X, y, scoring='neg_mean_squared_error')\n",
        "# get importance\n",
        "importance = results.importances_mean\n",
        "# summarize feature importance\n",
        "for i,v in enumerate(importance):\n",
        "\tprint('Feature: %0d, Score: %.5f' % (i,v))\n",
        "# plot feature importance\n",
        "pyplot.bar([x for x in range(len(importance))], importance)\n",
        "pyplot.show()"
      ],
      "execution_count": 14,
      "outputs": [
        {
          "output_type": "stream",
          "text": [
            "Feature: 0, Score: 184.03825\n",
            "Feature: 1, Score: 361.17732\n",
            "Feature: 2, Score: 163.06445\n",
            "Feature: 3, Score: 79.28654\n",
            "Feature: 4, Score: 9847.89874\n",
            "Feature: 5, Score: 8203.97190\n",
            "Feature: 6, Score: 974.28830\n",
            "Feature: 7, Score: 131.86905\n",
            "Feature: 8, Score: 112.14116\n",
            "Feature: 9, Score: 166.56974\n"
          ],
          "name": "stdout"
        },
        {
          "output_type": "display_data",
          "data": {
            "image/png": "[encoded data removed]",
            "text/plain": [
              "<Figure size 432x288 with 1 Axes>"
            ]
          },
          "metadata": {
            "tags": [],
            "needs_background": "light"
          }
        }
      ]
    },
    {
      "cell_type": "markdown",
      "metadata": {
        "id": "eJvTTEBhA4FJ",
        "colab_type": "text"
      },
      "source": [
        "## Permutation Feature Importance for Classification"
      ]
    },
    {
      "cell_type": "code",
      "metadata": {
        "id": "reuYEZxNA2jy",
        "colab_type": "code",
        "colab": {
          "base_uri": "https://localhost:8080/",
          "height": 437
        },
        "outputId": "c9e96fe5-b500-4377-eb24-bc4bd8ea61ad"
      },
      "source": [
        "# permutation feature importance with knn for classification\n",
        "from sklearn.datasets import make_classification\n",
        "from sklearn.neighbors import KNeighborsClassifier\n",
        "from sklearn.inspection import permutation_importance\n",
        "from matplotlib import pyplot\n",
        "# define dataset\n",
        "X, y = make_classification(n_samples=1000, n_features=10, n_informative=5, n_redundant=5, random_state=1)\n",
        "# define the model\n",
        "model = KNeighborsClassifier()\n",
        "# fit the model\n",
        "model.fit(X, y)\n",
        "# perform permutation importance\n",
        "results = permutation_importance(model, X, y, scoring='accuracy')\n",
        "# get importance\n",
        "importance = results.importances_mean\n",
        "# summarize feature importance\n",
        "for i,v in enumerate(importance):\n",
        "\tprint('Feature: %0d, Score: %.5f' % (i,v))\n",
        "# plot feature importance\n",
        "pyplot.bar([x for x in range(len(importance))], importance)\n",
        "pyplot.show()"
      ],
      "execution_count": 15,
      "outputs": [
        {
          "output_type": "stream",
          "text": [
            "Feature: 0, Score: 0.05040\n",
            "Feature: 1, Score: 0.06560\n",
            "Feature: 2, Score: 0.06060\n",
            "Feature: 3, Score: 0.09620\n",
            "Feature: 4, Score: 0.05240\n",
            "Feature: 5, Score: 0.05420\n",
            "Feature: 6, Score: 0.07460\n",
            "Feature: 7, Score: 0.05300\n",
            "Feature: 8, Score: 0.06140\n",
            "Feature: 9, Score: 0.03100\n"
          ],
          "name": "stdout"
        },
        {
          "output_type": "display_data",
          "data": {
            "image/png": "[encoded data removed]",
            "text/plain": [
              "<Figure size 432x288 with 1 Axes>"
            ]
          },
          "metadata": {
            "tags": [],
            "needs_background": "light"
          }
        }
      ]
    },
    {
      "cell_type": "markdown",
      "metadata": {
        "id": "B3SNs95CA8v0",
        "colab_type": "text"
      },
      "source": [
        "# Feature Selection with Importance"
      ]
    },
    {
      "cell_type": "code",
      "metadata": {
        "id": "2DyWg8zmA634",
        "colab_type": "code",
        "colab": {
          "base_uri": "https://localhost:8080/",
          "height": 34
        },
        "outputId": "3955be0b-769d-45e9-987c-e2e1ae9a6ca8"
      },
      "source": [
        "# evaluation of a model using all features\n",
        "from sklearn.datasets import make_classification\n",
        "from sklearn.model_selection import train_test_split\n",
        "from sklearn.linear_model import LogisticRegression\n",
        "from sklearn.metrics import accuracy_score\n",
        "# define the dataset\n",
        "X, y = make_classification(n_samples=1000, n_features=10, n_informative=5, n_redundant=5, random_state=1)\n",
        "# split into train and test sets\n",
        "X_train, X_test, y_train, y_test = train_test_split(X, y, test_size=0.33, random_state=1)\n",
        "# fit the model\n",
        "model = LogisticRegression(solver='liblinear')\n",
        "model.fit(X_train, y_train)\n",
        "# evaluate the model\n",
        "yhat = model.predict(X_test)\n",
        "# evaluate predictions\n",
        "accuracy = accuracy_score(y_test, yhat)\n",
        "print('Accuracy: %.2f' % (accuracy*100))"
      ],
      "execution_count": 22,
      "outputs": [
        {
          "output_type": "stream",
          "text": [
            "Accuracy: 84.55\n"
          ],
          "name": "stdout"
        }
      ]
    },
    {
      "cell_type": "code",
      "metadata": {
        "id": "9CtJgM0-CTLK",
        "colab_type": "code",
        "colab": {}
      },
      "source": [
        "from sklearn.feature_selection import SelectFromModel\n",
        "# configure to select a subset of features\n",
        "fs = SelectFromModel(RandomForestClassifier(n_estimators=200), max_features=5)"
      ],
      "execution_count": 19,
      "outputs": []
    },
    {
      "cell_type": "code",
      "metadata": {
        "id": "u1NkzlktCWwV",
        "colab_type": "code",
        "colab": {}
      },
      "source": [
        "# learn relationship from training data\n",
        "fs.fit(X_train, y_train)\n",
        "# transform train input data\n",
        "X_train_fs = fs.transform(X_train)\n",
        "# transform test input data\n",
        "X_test_fs = fs.transform(X_test)"
      ],
      "execution_count": 20,
      "outputs": []
    },
    {
      "cell_type": "code",
      "metadata": {
        "id": "xYd61kj4C2hJ",
        "colab_type": "code",
        "colab": {
          "base_uri": "https://localhost:8080/",
          "height": 34
        },
        "outputId": "28621341-0949-4f66-fa99-ada0125115c4"
      },
      "source": [
        "# evaluation of a model using 5 features chosen with random forest importance\n",
        "from sklearn.datasets import make_classification\n",
        "from sklearn.model_selection import train_test_split\n",
        "from sklearn.feature_selection import SelectFromModel\n",
        "from sklearn.ensemble import RandomForestClassifier\n",
        "from sklearn.linear_model import LogisticRegression\n",
        "from sklearn.metrics import accuracy_score\n",
        " \n",
        "# feature selection\n",
        "def select_features(X_train, y_train, X_test):\n",
        "\t# configure to select a subset of features\n",
        "\tfs = SelectFromModel(RandomForestClassifier(n_estimators=1000), max_features=5)\n",
        "\t# learn relationship from training data\n",
        "\tfs.fit(X_train, y_train)\n",
        "\t# transform train input data\n",
        "\tX_train_fs = fs.transform(X_train)\n",
        "\t# transform test input data\n",
        "\tX_test_fs = fs.transform(X_test)\n",
        "\treturn X_train_fs, X_test_fs, fs\n",
        " \n",
        "# define the dataset\n",
        "X, y = make_classification(n_samples=1000, n_features=10, n_informative=5, n_redundant=5, random_state=1)\n",
        "# split into train and test sets\n",
        "X_train, X_test, y_train, y_test = train_test_split(X, y, test_size=0.33, random_state=1)\n",
        "# feature selection\n",
        "X_train_fs, X_test_fs, fs = select_features(X_train, y_train, X_test)\n",
        "# fit the model\n",
        "model = LogisticRegression(solver='liblinear')\n",
        "model.fit(X_train_fs, y_train)\n",
        "# evaluate the model\n",
        "yhat = model.predict(X_test_fs)\n",
        "# evaluate predictions\n",
        "accuracy = accuracy_score(y_test, yhat)\n",
        "print('Accuracy: %.2f' % (accuracy*100))"
      ],
      "execution_count": 21,
      "outputs": [
        {
          "output_type": "stream",
          "text": [
            "Accuracy: 84.55\n"
          ],
          "name": "stdout"
        }
      ]
    }
  ]
}