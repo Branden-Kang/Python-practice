{
  "nbformat": 4,
  "nbformat_minor": 0,
  "metadata": {
    "colab": {
      "name": "10 Things You Should Know About Tuples in Python.ipynb",
      "provenance": [],
      "authorship_tag": "ABX9TyNcpj26JsdvUzqHjbldj4v8"
    },
    "kernelspec": {
      "name": "python3",
      "display_name": "Python 3"
    },
    "language_info": {
      "name": "python"
    }
  },
  "cells": [
    {
      "cell_type": "markdown",
      "metadata": {
        "id": "6H8xfo9sSwwC"
      },
      "source": [
        "[Reference](https://medium.com/swlh/10-things-you-should-know-about-tuples-in-python-b71189bdba1f)"
      ]
    },
    {
      "cell_type": "markdown",
      "metadata": {
        "id": "WCxFj0KNS6T-"
      },
      "source": [
        "# 1. Create a tuple using a sequence of values"
      ]
    },
    {
      "cell_type": "code",
      "metadata": {
        "colab": {
          "base_uri": "https://localhost:8080/"
        },
        "id": "S60nyS78SiMS",
        "outputId": "a3db4ee3-ca32-4e89-df81-5df9c41797b8"
      },
      "source": [
        "tuple0 = 1, 4, 5\n",
        "print(tuple0)"
      ],
      "execution_count": 1,
      "outputs": [
        {
          "output_type": "stream",
          "text": [
            "(1, 4, 5)\n"
          ],
          "name": "stdout"
        }
      ]
    },
    {
      "cell_type": "code",
      "metadata": {
        "colab": {
          "base_uri": "https://localhost:8080/"
        },
        "id": "ZwAnR7a8S8yD",
        "outputId": "a81e9e50-67b2-489c-a947-c221d1ea13a1"
      },
      "source": [
        "tuple1 = (1, 2, 'three')\n",
        "print(tuple1)"
      ],
      "execution_count": 2,
      "outputs": [
        {
          "output_type": "stream",
          "text": [
            "(1, 2, 'three')\n"
          ],
          "name": "stdout"
        }
      ]
    },
    {
      "cell_type": "code",
      "metadata": {
        "colab": {
          "base_uri": "https://localhost:8080/"
        },
        "id": "4PY_HyOrS-8S",
        "outputId": "3ef26493-d9b3-4958-cc94-94f65f0164f3"
      },
      "source": [
        "tuple2 = (4, 7, ('a', 'b'), lambda x: x+1)\n",
        "print(tuple2)"
      ],
      "execution_count": 3,
      "outputs": [
        {
          "output_type": "stream",
          "text": [
            "(4, 7, ('a', 'b'), <function <lambda> at 0x7fc77dcebf80>)\n"
          ],
          "name": "stdout"
        }
      ]
    },
    {
      "cell_type": "code",
      "metadata": {
        "colab": {
          "base_uri": "https://localhost:8080/"
        },
        "id": "DP2kFQ0LTB8N",
        "outputId": "9448c13c-0819-4bbd-c49f-0ca019b47aa4"
      },
      "source": [
        "tuple3 = () \n",
        "print(tuple3)"
      ],
      "execution_count": 4,
      "outputs": [
        {
          "output_type": "stream",
          "text": [
            "()\n"
          ],
          "name": "stdout"
        }
      ]
    },
    {
      "cell_type": "code",
      "metadata": {
        "colab": {
          "base_uri": "https://localhost:8080/"
        },
        "id": "N-b84y9jTEsH",
        "outputId": "85956b28-51ce-452c-9b05-c72232c1b78c"
      },
      "source": [
        "tuple4 = 'one',\n",
        "print(tuple4)"
      ],
      "execution_count": 5,
      "outputs": [
        {
          "output_type": "stream",
          "text": [
            "('one',)\n"
          ],
          "name": "stdout"
        }
      ]
    },
    {
      "cell_type": "markdown",
      "metadata": {
        "id": "TPFtEvNqTJL8"
      },
      "source": [
        "# 2. Create a tuple using tuple()"
      ]
    },
    {
      "cell_type": "code",
      "metadata": {
        "colab": {
          "base_uri": "https://localhost:8080/"
        },
        "id": "kH8lokaPTHLH",
        "outputId": "a370b6ac-a259-4a02-c44d-02b7fbd18502"
      },
      "source": [
        "tuple5 = tuple(['a', 'b'])\n",
        "print(tuple5)"
      ],
      "execution_count": 6,
      "outputs": [
        {
          "output_type": "stream",
          "text": [
            "('a', 'b')\n"
          ],
          "name": "stdout"
        }
      ]
    },
    {
      "cell_type": "code",
      "metadata": {
        "colab": {
          "base_uri": "https://localhost:8080/"
        },
        "id": "0ppMyRPyTLdL",
        "outputId": "5f0ddb05-76c8-4721-b045-e96d49a825e3"
      },
      "source": [
        "tuple6 = tuple('tuple')\n",
        "print(tuple6)"
      ],
      "execution_count": 7,
      "outputs": [
        {
          "output_type": "stream",
          "text": [
            "('t', 'u', 'p', 'l', 'e')\n"
          ],
          "name": "stdout"
        }
      ]
    },
    {
      "cell_type": "code",
      "metadata": {
        "colab": {
          "base_uri": "https://localhost:8080/"
        },
        "id": "XU01dGkZTNmX",
        "outputId": "af827785-79c1-46c7-cacb-cc2f8c54d171"
      },
      "source": [
        "tuple7 = tuple({'a': 1, True: 4})\n",
        "print(tuple7)"
      ],
      "execution_count": 8,
      "outputs": [
        {
          "output_type": "stream",
          "text": [
            "('a', True)\n"
          ],
          "name": "stdout"
        }
      ]
    },
    {
      "cell_type": "code",
      "metadata": {
        "colab": {
          "base_uri": "https://localhost:8080/"
        },
        "id": "2ro09osNTPzI",
        "outputId": "ac51586d-5bda-4069-9466-1129f7a016f0"
      },
      "source": [
        "tuple8 = tuple((1, 'two', [1, 2]))\n",
        "print(tuple8)"
      ],
      "execution_count": 9,
      "outputs": [
        {
          "output_type": "stream",
          "text": [
            "(1, 'two', [1, 2])\n"
          ],
          "name": "stdout"
        }
      ]
    },
    {
      "cell_type": "markdown",
      "metadata": {
        "id": "GO0ZC9fqTZMy"
      },
      "source": [
        "# 3. Count the number of elements in a tuple"
      ]
    },
    {
      "cell_type": "code",
      "metadata": {
        "colab": {
          "base_uri": "https://localhost:8080/"
        },
        "id": "hR_2gyv-TRvL",
        "outputId": "20ab40f9-2443-4997-8190-c7a0a0fabc62"
      },
      "source": [
        "tuple_len = (1, 3, 'one', 'three', 'five')\n",
        "len(tuple_len)"
      ],
      "execution_count": 10,
      "outputs": [
        {
          "output_type": "execute_result",
          "data": {
            "text/plain": [
              "5"
            ]
          },
          "metadata": {
            "tags": []
          },
          "execution_count": 10
        }
      ]
    },
    {
      "cell_type": "code",
      "metadata": {
        "colab": {
          "base_uri": "https://localhost:8080/"
        },
        "id": "v3Z6nElZTbLr",
        "outputId": "4b67cf87-31cb-4adf-f5af-6b5219fd0f0d"
      },
      "source": [
        "tuple_count = (1, 1, 2, 2, 2, 2, 3, 3, 3)\n",
        "tuple_count.count(2)"
      ],
      "execution_count": 11,
      "outputs": [
        {
          "output_type": "execute_result",
          "data": {
            "text/plain": [
              "4"
            ]
          },
          "metadata": {
            "tags": []
          },
          "execution_count": 11
        }
      ]
    },
    {
      "cell_type": "code",
      "metadata": {
        "colab": {
          "base_uri": "https://localhost:8080/"
        },
        "id": "Ys0ibk-jTdWi",
        "outputId": "3eaf3397-2b7f-41ac-8c7c-cdb665972edb"
      },
      "source": [
        "tuple_count.count(3)"
      ],
      "execution_count": 12,
      "outputs": [
        {
          "output_type": "execute_result",
          "data": {
            "text/plain": [
              "3"
            ]
          },
          "metadata": {
            "tags": []
          },
          "execution_count": 12
        }
      ]
    },
    {
      "cell_type": "markdown",
      "metadata": {
        "id": "FhN8NuDGTgM5"
      },
      "source": [
        "# 4. Access tuple’s individual elements using index"
      ]
    },
    {
      "cell_type": "code",
      "metadata": {
        "colab": {
          "base_uri": "https://localhost:8080/"
        },
        "id": "ETuHv7HHTfB7",
        "outputId": "b219ec0a-1b61-4c46-b63d-15d8861722c1"
      },
      "source": [
        "tuple_index = (100, 'text', False, {1: 'five', 2: True})\n",
        "tuple_index[0]"
      ],
      "execution_count": 13,
      "outputs": [
        {
          "output_type": "execute_result",
          "data": {
            "text/plain": [
              "100"
            ]
          },
          "metadata": {
            "tags": []
          },
          "execution_count": 13
        }
      ]
    },
    {
      "cell_type": "code",
      "metadata": {
        "colab": {
          "base_uri": "https://localhost:8080/"
        },
        "id": "ERQPrn5mTjRH",
        "outputId": "818717c0-52f8-439e-cb50-d42ed878412b"
      },
      "source": [
        "tuple_index[-1]"
      ],
      "execution_count": 14,
      "outputs": [
        {
          "output_type": "execute_result",
          "data": {
            "text/plain": [
              "{1: 'five', 2: True}"
            ]
          },
          "metadata": {
            "tags": []
          },
          "execution_count": 14
        }
      ]
    },
    {
      "cell_type": "code",
      "metadata": {
        "colab": {
          "base_uri": "https://localhost:8080/"
        },
        "id": "UcsAosGyTlKS",
        "outputId": "69ff2dc6-d468-4576-e985-bc11a5025082"
      },
      "source": [
        "tuple_index[2]"
      ],
      "execution_count": 15,
      "outputs": [
        {
          "output_type": "execute_result",
          "data": {
            "text/plain": [
              "False"
            ]
          },
          "metadata": {
            "tags": []
          },
          "execution_count": 15
        }
      ]
    },
    {
      "cell_type": "code",
      "metadata": {
        "colab": {
          "base_uri": "https://localhost:8080/",
          "height": 198
        },
        "id": "S3_mc_daTmb4",
        "outputId": "ad72af4e-963d-4c82-9cf1-2930007b623e"
      },
      "source": [
        "tuple_index[6]"
      ],
      "execution_count": 16,
      "outputs": [
        {
          "output_type": "error",
          "ename": "IndexError",
          "evalue": "ignored",
          "traceback": [
            "\u001b[0;31m---------------------------------------------------------------------------\u001b[0m",
            "\u001b[0;31mIndexError\u001b[0m                                Traceback (most recent call last)",
            "\u001b[0;32m<ipython-input-16-038d06f85082>\u001b[0m in \u001b[0;36m<module>\u001b[0;34m()\u001b[0m\n\u001b[0;32m----> 1\u001b[0;31m \u001b[0mtuple_index\u001b[0m\u001b[0;34m[\u001b[0m\u001b[0;36m6\u001b[0m\u001b[0;34m]\u001b[0m\u001b[0;34m\u001b[0m\u001b[0;34m\u001b[0m\u001b[0m\n\u001b[0m",
            "\u001b[0;31mIndexError\u001b[0m: tuple index out of range"
          ]
        }
      ]
    },
    {
      "cell_type": "markdown",
      "metadata": {
        "id": "SoQOlq9FUdws"
      },
      "source": [
        "# 5. Access tuple’s individual elements using unpacking"
      ]
    },
    {
      "cell_type": "code",
      "metadata": {
        "id": "a5OxjuF_Ts5U"
      },
      "source": [
        "tuple_unpacking = (1, 'two', [3, 3, 3], {'four': 4})"
      ],
      "execution_count": 17,
      "outputs": []
    },
    {
      "cell_type": "code",
      "metadata": {
        "id": "sXNkP5VRUhpf"
      },
      "source": [
        "a, b, c, d = tuple_unpacking"
      ],
      "execution_count": 18,
      "outputs": []
    },
    {
      "cell_type": "code",
      "metadata": {
        "colab": {
          "base_uri": "https://localhost:8080/"
        },
        "id": "BaHetyqvUiJl",
        "outputId": "402867d4-e947-4014-ece8-acd35b36a5de"
      },
      "source": [
        "print(a)\n",
        "print(b)\n",
        "print(c)\n",
        "print(d)"
      ],
      "execution_count": 19,
      "outputs": [
        {
          "output_type": "stream",
          "text": [
            "1\n",
            "two\n",
            "[3, 3, 3]\n",
            "{'four': 4}\n"
          ],
          "name": "stdout"
        }
      ]
    },
    {
      "cell_type": "markdown",
      "metadata": {
        "id": "hspOZAotUmS2"
      },
      "source": [
        "# 6. Advanced tuple unpacking"
      ]
    },
    {
      "cell_type": "code",
      "metadata": {
        "id": "xQUyFXHHUkNM"
      },
      "source": [
        "advanced_unpacking0 = (1, 2, 3)"
      ],
      "execution_count": 20,
      "outputs": []
    },
    {
      "cell_type": "code",
      "metadata": {
        "id": "u87N1V7jUnjG"
      },
      "source": [
        "a, _, c = advanced_unpacking0"
      ],
      "execution_count": 21,
      "outputs": []
    },
    {
      "cell_type": "code",
      "metadata": {
        "colab": {
          "base_uri": "https://localhost:8080/"
        },
        "id": "IBMg8V3bUoY0",
        "outputId": "0e023c9e-8c80-41cc-e8d6-a3edf3285a8a"
      },
      "source": [
        "print(a)\n",
        "print(_)\n",
        "print(c)"
      ],
      "execution_count": 22,
      "outputs": [
        {
          "output_type": "stream",
          "text": [
            "1\n",
            "2\n",
            "3\n"
          ],
          "name": "stdout"
        }
      ]
    },
    {
      "cell_type": "code",
      "metadata": {
        "colab": {
          "base_uri": "https://localhost:8080/"
        },
        "id": "K0hKiso9UqZK",
        "outputId": "d1b2c65c-68ee-4222-b1b3-4d02d6053131"
      },
      "source": [
        "advanced_unpacking1 = (1, 2, 3, 4, 5, 11, 12, 13, 14, 15)\n",
        "a, *middle, c = advanced_unpacking1\n",
        "middle"
      ],
      "execution_count": 23,
      "outputs": [
        {
          "output_type": "execute_result",
          "data": {
            "text/plain": [
              "[2, 3, 4, 5, 11, 12, 13, 14]"
            ]
          },
          "metadata": {
            "tags": []
          },
          "execution_count": 23
        }
      ]
    },
    {
      "cell_type": "code",
      "metadata": {
        "colab": {
          "base_uri": "https://localhost:8080/"
        },
        "id": "G9HMgMitUsg5",
        "outputId": "cdea4e29-d8c9-4d75-b2ea-0e92a34fec47"
      },
      "source": [
        "_, *tail = advanced_unpacking1\n",
        "tail"
      ],
      "execution_count": 24,
      "outputs": [
        {
          "output_type": "execute_result",
          "data": {
            "text/plain": [
              "[2, 3, 4, 5, 11, 12, 13, 14, 15]"
            ]
          },
          "metadata": {
            "tags": []
          },
          "execution_count": 24
        }
      ]
    },
    {
      "cell_type": "code",
      "metadata": {
        "colab": {
          "base_uri": "https://localhost:8080/"
        },
        "id": "poxxaQLAUuUD",
        "outputId": "3fc77ba9-e387-46e3-dea3-4e7ad5a255b7"
      },
      "source": [
        "head, *_ = advanced_unpacking1\n",
        "head"
      ],
      "execution_count": 25,
      "outputs": [
        {
          "output_type": "execute_result",
          "data": {
            "text/plain": [
              "1"
            ]
          },
          "metadata": {
            "tags": []
          },
          "execution_count": 25
        }
      ]
    },
    {
      "cell_type": "markdown",
      "metadata": {
        "id": "KtK76OGSUxkT"
      },
      "source": [
        "# 7. Tuple concatenation"
      ]
    },
    {
      "cell_type": "code",
      "metadata": {
        "colab": {
          "base_uri": "https://localhost:8080/"
        },
        "id": "hsMLUGmCUwnG",
        "outputId": "4bdc541a-8ba4-4ecb-bc83-3e427ba76728"
      },
      "source": [
        "concat_tuple0 = (1, 2) + ('three', 4) + ('five', 6)\n",
        "concat_tuple0"
      ],
      "execution_count": 26,
      "outputs": [
        {
          "output_type": "execute_result",
          "data": {
            "text/plain": [
              "(1, 2, 'three', 4, 'five', 6)"
            ]
          },
          "metadata": {
            "tags": []
          },
          "execution_count": 26
        }
      ]
    },
    {
      "cell_type": "code",
      "metadata": {
        "colab": {
          "base_uri": "https://localhost:8080/"
        },
        "id": "-Hzotor-U59V",
        "outputId": "d3e92cf4-1421-45e4-c2a4-8b454f1992c3"
      },
      "source": [
        "concat_tuple1 = ('odd', 'event') * 4\n",
        "concat_tuple1"
      ],
      "execution_count": 27,
      "outputs": [
        {
          "output_type": "execute_result",
          "data": {
            "text/plain": [
              "('odd', 'event', 'odd', 'event', 'odd', 'event', 'odd', 'event')"
            ]
          },
          "metadata": {
            "tags": []
          },
          "execution_count": 27
        }
      ]
    },
    {
      "cell_type": "markdown",
      "metadata": {
        "id": "qBVX5DKuU8ok"
      },
      "source": [
        "# 8. Tuple immutability"
      ]
    },
    {
      "cell_type": "code",
      "metadata": {
        "colab": {
          "base_uri": "https://localhost:8080/",
          "height": 215
        },
        "id": "xZ8Mb4vgU7rh",
        "outputId": "29426b6f-6df6-4986-dc55-77e1fd7b263f"
      },
      "source": [
        "immut_tuple = (3, 5, 7)\n",
        "immut_tuple[0] = 1"
      ],
      "execution_count": 28,
      "outputs": [
        {
          "output_type": "error",
          "ename": "TypeError",
          "evalue": "ignored",
          "traceback": [
            "\u001b[0;31m---------------------------------------------------------------------------\u001b[0m",
            "\u001b[0;31mTypeError\u001b[0m                                 Traceback (most recent call last)",
            "\u001b[0;32m<ipython-input-28-cab26117101f>\u001b[0m in \u001b[0;36m<module>\u001b[0;34m()\u001b[0m\n\u001b[1;32m      1\u001b[0m \u001b[0mimmut_tuple\u001b[0m \u001b[0;34m=\u001b[0m \u001b[0;34m(\u001b[0m\u001b[0;36m3\u001b[0m\u001b[0;34m,\u001b[0m \u001b[0;36m5\u001b[0m\u001b[0;34m,\u001b[0m \u001b[0;36m7\u001b[0m\u001b[0;34m)\u001b[0m\u001b[0;34m\u001b[0m\u001b[0;34m\u001b[0m\u001b[0m\n\u001b[0;32m----> 2\u001b[0;31m \u001b[0mimmut_tuple\u001b[0m\u001b[0;34m[\u001b[0m\u001b[0;36m0\u001b[0m\u001b[0;34m]\u001b[0m \u001b[0;34m=\u001b[0m \u001b[0;36m1\u001b[0m\u001b[0;34m\u001b[0m\u001b[0;34m\u001b[0m\u001b[0m\n\u001b[0m",
            "\u001b[0;31mTypeError\u001b[0m: 'tuple' object does not support item assignment"
          ]
        }
      ]
    },
    {
      "cell_type": "markdown",
      "metadata": {
        "id": "4gn4BfsxU_xk"
      },
      "source": [
        "# 9. Mutable elements"
      ]
    },
    {
      "cell_type": "code",
      "metadata": {
        "colab": {
          "base_uri": "https://localhost:8080/"
        },
        "id": "Hp1bxnWiU-sV",
        "outputId": "147aee18-6f72-4a4c-86e6-3c7c531bfebc"
      },
      "source": [
        "example = (1, [1, 2, 3], {1: 'one', 2: 'two'})\n",
        "example[1].append(3)\n",
        "print(example)\n",
        "example[2][3] = 'three'\n",
        "print(example)"
      ],
      "execution_count": 44,
      "outputs": [
        {
          "output_type": "stream",
          "text": [
            "(1, [1, 2, 3, 3], {1: 'one', 2: 'two'})\n",
            "(1, [1, 2, 3, 3], {1: 'one', 2: 'two', 3: 'three'})\n"
          ],
          "name": "stdout"
        }
      ]
    },
    {
      "cell_type": "markdown",
      "metadata": {
        "id": "VI6atztBVIlJ"
      },
      "source": [
        "# 10. Tuples in a for loop"
      ]
    },
    {
      "cell_type": "code",
      "metadata": {
        "colab": {
          "base_uri": "https://localhost:8080/"
        },
        "id": "aDJCXX68VHh9",
        "outputId": "3d9ae43c-26ef-4cf6-aeb6-ea6b3df426bd"
      },
      "source": [
        "tuple_for_loop = ('one', 'two', 'three')\n",
        "for i in tuple_for_loop:\n",
        "     print(i)"
      ],
      "execution_count": 31,
      "outputs": [
        {
          "output_type": "stream",
          "text": [
            "one\n",
            "two\n",
            "three\n"
          ],
          "name": "stdout"
        }
      ]
    },
    {
      "cell_type": "code",
      "metadata": {
        "colab": {
          "base_uri": "https://localhost:8080/"
        },
        "id": "86crp_ZzVLv0",
        "outputId": "fe70bba3-061e-4bf6-c75d-e83524450a95"
      },
      "source": [
        "for (i, item) in enumerate(tuple_for_loop, start=1):\n",
        "     print(str(i) + ': is ' + item)"
      ],
      "execution_count": 32,
      "outputs": [
        {
          "output_type": "stream",
          "text": [
            "1: is one\n",
            "2: is two\n",
            "3: is three\n"
          ],
          "name": "stdout"
        }
      ]
    }
  ]
}