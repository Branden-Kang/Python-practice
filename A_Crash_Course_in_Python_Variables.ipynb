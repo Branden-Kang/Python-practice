{
  "nbformat": 4,
  "nbformat_minor": 0,
  "metadata": {
    "colab": {
      "name": "A Crash Course in Python Variables.ipynb",
      "provenance": [],
      "authorship_tag": "ABX9TyN1Q6Uwo+wPM3i0nN4YoGsJ"
    },
    "kernelspec": {
      "name": "python3",
      "display_name": "Python 3"
    },
    "language_info": {
      "name": "python"
    }
  },
  "cells": [
    {
      "cell_type": "markdown",
      "metadata": {
        "id": "JfaDtLp9WoLl"
      },
      "source": [
        "[Reference](https://medium.com/@ivanleomk/a-crash-course-in-python-variables-cbad43b4efef)"
      ]
    },
    {
      "cell_type": "code",
      "metadata": {
        "colab": {
          "base_uri": "https://localhost:8080/"
        },
        "id": "0jg85lBHWnGP",
        "outputId": "f85ddc31-aa94-4fa7-8429-dcc5492117d2"
      },
      "source": [
        "x = 2\n",
        "\n",
        "y = 2\n",
        "\n",
        "if x == y:\n",
        "   print(\"X and Y have the same value\")\n",
        "   \n",
        "if x is y:\n",
        "   print(\"X is Y\")\n",
        "   \n",
        "if type(x) == type(y):\n",
        "   print(\"X and Y have the same type\")\n",
        "   \n",
        "else:\n",
        "   print(\"X and Y have nothing in common\")"
      ],
      "execution_count": 1,
      "outputs": [
        {
          "output_type": "stream",
          "text": [
            "X and Y have the same value\n",
            "X is Y\n",
            "X and Y have the same type\n"
          ],
          "name": "stdout"
        }
      ]
    },
    {
      "cell_type": "code",
      "metadata": {
        "colab": {
          "base_uri": "https://localhost:8080/"
        },
        "id": "RYwcb7HuXSAP",
        "outputId": "cc8bd302-26f5-425f-c2f8-5b55aa39e449"
      },
      "source": [
        "variable = 1\n",
        "print(variable) #we get 1\n",
        "variable = 3\n",
        "print(variable) #we get 3"
      ],
      "execution_count": 2,
      "outputs": [
        {
          "output_type": "stream",
          "text": [
            "1\n",
            "3\n"
          ],
          "name": "stdout"
        }
      ]
    }
  ]
}