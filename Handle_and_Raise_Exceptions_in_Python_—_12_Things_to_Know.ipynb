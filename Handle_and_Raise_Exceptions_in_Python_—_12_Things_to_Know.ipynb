{
  "nbformat": 4,
  "nbformat_minor": 0,
  "metadata": {
    "colab": {
      "name": "Handle and Raise Exceptions in Python — 12 Things to Know.ipynb",
      "provenance": [],
      "authorship_tag": "ABX9TyNrnEEP67NGR4C1resxdzZ5"
    },
    "kernelspec": {
      "name": "python3",
      "display_name": "Python 3"
    }
  },
  "cells": [
    {
      "cell_type": "markdown",
      "metadata": {
        "id": "9myFwOmZtGjB"
      },
      "source": [
        "[Reference](https://betterprogramming.pub/how-to-handle-and-raise-exceptions-in-python-12-things-to-know-4dfef7f02e4)"
      ]
    },
    {
      "cell_type": "code",
      "metadata": {
        "colab": {
          "base_uri": "https://localhost:8080/"
        },
        "id": "lED4WdbAoIoC",
        "outputId": "eab1f64d-f79f-49ed-8d62-021bae7f3f32"
      },
      "source": [
        "# Declare a function that can handle ZeroDivisionError\n",
        "def divide_twelve(number):\n",
        "     try:\n",
        "         print(f\"Result: {12/number}\")\n",
        "     except ZeroDivisionError:\n",
        "         print(\"You can't divide 12 by zero.\")\n",
        " \n",
        "# Use the function\n",
        "divide_twelve(6)\n",
        "divide_twelve(0)"
      ],
      "execution_count": 1,
      "outputs": [
        {
          "output_type": "stream",
          "text": [
            "Result: 2.0\n",
            "You can't divide 12 by zero.\n"
          ],
          "name": "stdout"
        }
      ]
    },
    {
      "cell_type": "code",
      "metadata": {
        "colab": {
          "base_uri": "https://localhost:8080/",
          "height": 385
        },
        "id": "FINM1qj7tL2y",
        "outputId": "5641b528-eeee-431e-f7f1-3a7061511e85"
      },
      "source": [
        "# Define a function without handling\n",
        "def division_no_handle(x):\n",
        "     print(f\"Result: {20/x}\")\n",
        "     print(\"division_no_handle completes running\")\n",
        " \n",
        "# Define a function with handling\n",
        "def division_handle(x):\n",
        "     try:\n",
        "         print(f\"Result: {20/x}\")\n",
        "     except ZeroDivisionError:\n",
        "         print(\"You can't divide a number with zero.\")\n",
        "     print(\"division_handle completes running\")\n",
        "\n",
        "# Call the functions\n",
        "division_handle(0)\n",
        "division_no_handle(0)"
      ],
      "execution_count": 2,
      "outputs": [
        {
          "output_type": "stream",
          "text": [
            "You can't divide a number with zero.\n",
            "division_handle completes running\n"
          ],
          "name": "stdout"
        },
        {
          "output_type": "error",
          "ename": "ZeroDivisionError",
          "evalue": "ignored",
          "traceback": [
            "\u001b[0;31m---------------------------------------------------------------------------\u001b[0m",
            "\u001b[0;31mZeroDivisionError\u001b[0m                         Traceback (most recent call last)",
            "\u001b[0;32m<ipython-input-2-c640b2ce81ad>\u001b[0m in \u001b[0;36m<module>\u001b[0;34m()\u001b[0m\n\u001b[1;32m     14\u001b[0m \u001b[0;31m# Call the functions\u001b[0m\u001b[0;34m\u001b[0m\u001b[0;34m\u001b[0m\u001b[0;34m\u001b[0m\u001b[0m\n\u001b[1;32m     15\u001b[0m \u001b[0mdivision_handle\u001b[0m\u001b[0;34m(\u001b[0m\u001b[0;36m0\u001b[0m\u001b[0;34m)\u001b[0m\u001b[0;34m\u001b[0m\u001b[0;34m\u001b[0m\u001b[0m\n\u001b[0;32m---> 16\u001b[0;31m \u001b[0mdivision_no_handle\u001b[0m\u001b[0;34m(\u001b[0m\u001b[0;36m0\u001b[0m\u001b[0;34m)\u001b[0m\u001b[0;34m\u001b[0m\u001b[0;34m\u001b[0m\u001b[0m\n\u001b[0m",
            "\u001b[0;32m<ipython-input-2-c640b2ce81ad>\u001b[0m in \u001b[0;36mdivision_no_handle\u001b[0;34m(x)\u001b[0m\n\u001b[1;32m      1\u001b[0m \u001b[0;31m# Define a function without handling\u001b[0m\u001b[0;34m\u001b[0m\u001b[0;34m\u001b[0m\u001b[0;34m\u001b[0m\u001b[0m\n\u001b[1;32m      2\u001b[0m \u001b[0;32mdef\u001b[0m \u001b[0mdivision_no_handle\u001b[0m\u001b[0;34m(\u001b[0m\u001b[0mx\u001b[0m\u001b[0;34m)\u001b[0m\u001b[0;34m:\u001b[0m\u001b[0;34m\u001b[0m\u001b[0;34m\u001b[0m\u001b[0m\n\u001b[0;32m----> 3\u001b[0;31m      \u001b[0mprint\u001b[0m\u001b[0;34m(\u001b[0m\u001b[0;34mf\"Result: {20/x}\"\u001b[0m\u001b[0;34m)\u001b[0m\u001b[0;34m\u001b[0m\u001b[0;34m\u001b[0m\u001b[0m\n\u001b[0m\u001b[1;32m      4\u001b[0m      \u001b[0mprint\u001b[0m\u001b[0;34m(\u001b[0m\u001b[0;34m\"division_no_handle completes running\"\u001b[0m\u001b[0;34m)\u001b[0m\u001b[0;34m\u001b[0m\u001b[0;34m\u001b[0m\u001b[0m\n\u001b[1;32m      5\u001b[0m \u001b[0;34m\u001b[0m\u001b[0m\n",
            "\u001b[0;31mZeroDivisionError\u001b[0m: division by zero"
          ]
        }
      ]
    },
    {
      "cell_type": "code",
      "metadata": {
        "colab": {
          "base_uri": "https://localhost:8080/"
        },
        "id": "J7iHUrmktRmA",
        "outputId": "1ba8497a-1cbc-494e-c79a-3d8ae7271abe"
      },
      "source": [
        "# A function that show error's detail\n",
        "def concat_messages(x, y):\n",
        "     try:\n",
        "         print(f\"{x + y}\")\n",
        "     except TypeError as e:\n",
        "         print(f\"Argument Error: {e}\")\n",
        " \n",
        "# Call the function\n",
        "concat_messages(\"Hello, \", 2020)"
      ],
      "execution_count": 3,
      "outputs": [
        {
          "output_type": "stream",
          "text": [
            "Argument Error: can only concatenate str (not \"int\") to str\n"
          ],
          "name": "stdout"
        }
      ]
    },
    {
      "cell_type": "code",
      "metadata": {
        "colab": {
          "base_uri": "https://localhost:8080/",
          "height": 130
        },
        "id": "6OBIQb1jtV-l",
        "outputId": "a6f7553b-29ee-41e2-d17e-532accd6fef1"
      },
      "source": [
        "# A function that has multiple except clauses\n",
        "def divide_six(number):\n",
        "     try:\n",
        "         formatted_number = int(number)\n",
        "         result = 6/formatted_number\n",
        "     except ValueError:\n",
        "         print(\"This is a ValueError\")\n",
        "     except ZeroDivisionError:\n",
        "         print(\"This is a ZeroDivisionError\")\n",
        " \n",
        "# Use the function\n",
        "divide_six(\"six\")\n",
        "This is a ValueError\n",
        "divide_six(0)"
      ],
      "execution_count": 4,
      "outputs": [
        {
          "output_type": "error",
          "ename": "SyntaxError",
          "evalue": "ignored",
          "traceback": [
            "\u001b[0;36m  File \u001b[0;32m\"<ipython-input-4-1a21db7a697b>\"\u001b[0;36m, line \u001b[0;32m13\u001b[0m\n\u001b[0;31m    This is a ValueError\u001b[0m\n\u001b[0m                       ^\u001b[0m\n\u001b[0;31mSyntaxError\u001b[0m\u001b[0;31m:\u001b[0m invalid syntax\n"
          ]
        }
      ]
    },
    {
      "cell_type": "code",
      "metadata": {
        "colab": {
          "base_uri": "https://localhost:8080/"
        },
        "id": "q2O0IvZJtgPT",
        "outputId": "5fd211cf-a95f-44dd-b360-a049bf92bbde"
      },
      "source": [
        "# A function that has an else clause\n",
        "def divide_eight(number):\n",
        "     try:\n",
        "         result = 8/number\n",
        "     except:\n",
        "         print(\"divide_eight has an error\")\n",
        "     else:\n",
        "         print(f\"Result: {result}\")\n",
        " \n",
        "# Use the function\n",
        "divide_eight(0)\n",
        "divide_eight(4)"
      ],
      "execution_count": 6,
      "outputs": [
        {
          "output_type": "stream",
          "text": [
            "divide_eight has an error\n",
            "Result: 2.0\n"
          ],
          "name": "stdout"
        }
      ]
    },
    {
      "cell_type": "code",
      "metadata": {
        "colab": {
          "base_uri": "https://localhost:8080/"
        },
        "id": "QdU6Zoywtj-r",
        "outputId": "2306fa57-7360-4d10-c5ec-2a03aecfcfa1"
      },
      "source": [
        "# A function that has the finally clause\n",
        "def divide_six(number):\n",
        "     try:\n",
        "         print(f\"Result: {6/number}\")\n",
        "     except:\n",
        "         print(\"Error Encountered\")\n",
        "     finally:\n",
        "         print(\"The function divide_six is completed.\")\n",
        " \n",
        "# Use the function\n",
        "divide_six(2)\n",
        "divide_six(0)"
      ],
      "execution_count": 7,
      "outputs": [
        {
          "output_type": "stream",
          "text": [
            "Result: 3.0\n",
            "The function divide_six is completed.\n",
            "Error Encountered\n",
            "The function divide_six is completed.\n"
          ],
          "name": "stdout"
        }
      ]
    },
    {
      "cell_type": "code",
      "metadata": {
        "colab": {
          "base_uri": "https://localhost:8080/",
          "height": 54
        },
        "id": "aJPtXgHutpgf",
        "outputId": "e9be4f13-e7ca-41fd-9003-3deb8b7c58f5"
      },
      "source": [
        "# Check the order of running\n",
        "def get_integer(number):\n",
        "     try:\n",
        "         return int(number)\n",
        "     except:\n",
        "         print(\"Error Encountered\")\n",
        "     finally:\n",
        "         return \"No Numbers!\"\n",
        " \n",
        "# Use the function\n",
        "get_integer(5)\n",
        "get_integer(\"hello\")"
      ],
      "execution_count": 8,
      "outputs": [
        {
          "output_type": "stream",
          "text": [
            "Error Encountered\n"
          ],
          "name": "stdout"
        },
        {
          "output_type": "execute_result",
          "data": {
            "application/vnd.google.colaboratory.intrinsic+json": {
              "type": "string"
            },
            "text/plain": [
              "'No Numbers!'"
            ]
          },
          "metadata": {
            "tags": []
          },
          "execution_count": 8
        }
      ]
    },
    {
      "cell_type": "code",
      "metadata": {
        "colab": {
          "base_uri": "https://localhost:8080/",
          "height": 198
        },
        "id": "xTqBssx0ttgp",
        "outputId": "3df57e06-805c-4d62-facc-4261dab845c9"
      },
      "source": [
        "raise Exception"
      ],
      "execution_count": 9,
      "outputs": [
        {
          "output_type": "error",
          "ename": "Exception",
          "evalue": "ignored",
          "traceback": [
            "\u001b[0;31m---------------------------------------------------------------------------\u001b[0m",
            "\u001b[0;31mException\u001b[0m                                 Traceback (most recent call last)",
            "\u001b[0;32m<ipython-input-9-2aee0157c87b>\u001b[0m in \u001b[0;36m<module>\u001b[0;34m()\u001b[0m\n\u001b[0;32m----> 1\u001b[0;31m \u001b[0;32mraise\u001b[0m \u001b[0mException\u001b[0m\u001b[0;34m\u001b[0m\u001b[0;34m\u001b[0m\u001b[0m\n\u001b[0m",
            "\u001b[0;31mException\u001b[0m: "
          ]
        }
      ]
    },
    {
      "cell_type": "code",
      "metadata": {
        "colab": {
          "base_uri": "https://localhost:8080/",
          "height": 198
        },
        "id": "_8ZNUQ-Wty1l",
        "outputId": "ce5be1c8-46a9-448d-bd03-0b29e2db2a72"
      },
      "source": [
        "raise NameError"
      ],
      "execution_count": 10,
      "outputs": [
        {
          "output_type": "error",
          "ename": "NameError",
          "evalue": "ignored",
          "traceback": [
            "\u001b[0;31m---------------------------------------------------------------------------\u001b[0m",
            "\u001b[0;31mNameError\u001b[0m                                 Traceback (most recent call last)",
            "\u001b[0;32m<ipython-input-10-42b67b2fc75d>\u001b[0m in \u001b[0;36m<module>\u001b[0;34m()\u001b[0m\n\u001b[0;32m----> 1\u001b[0;31m \u001b[0;32mraise\u001b[0m \u001b[0mNameError\u001b[0m\u001b[0;34m\u001b[0m\u001b[0;34m\u001b[0m\u001b[0m\n\u001b[0m",
            "\u001b[0;31mNameError\u001b[0m: "
          ]
        }
      ]
    },
    {
      "cell_type": "code",
      "metadata": {
        "colab": {
          "base_uri": "https://localhost:8080/",
          "height": 198
        },
        "id": "tTzvjYwQt0CJ",
        "outputId": "5c1b7cde-40a6-4bb3-c694-321e6670da86"
      },
      "source": [
        "raise ValueError()"
      ],
      "execution_count": 11,
      "outputs": [
        {
          "output_type": "error",
          "ename": "ValueError",
          "evalue": "ignored",
          "traceback": [
            "\u001b[0;31m---------------------------------------------------------------------------\u001b[0m",
            "\u001b[0;31mValueError\u001b[0m                                Traceback (most recent call last)",
            "\u001b[0;32m<ipython-input-11-4954757c312d>\u001b[0m in \u001b[0;36m<module>\u001b[0;34m()\u001b[0m\n\u001b[0;32m----> 1\u001b[0;31m \u001b[0;32mraise\u001b[0m \u001b[0mValueError\u001b[0m\u001b[0;34m(\u001b[0m\u001b[0;34m)\u001b[0m\u001b[0;34m\u001b[0m\u001b[0;34m\u001b[0m\u001b[0m\n\u001b[0m",
            "\u001b[0;31mValueError\u001b[0m: "
          ]
        }
      ]
    },
    {
      "cell_type": "code",
      "metadata": {
        "colab": {
          "base_uri": "https://localhost:8080/",
          "height": 198
        },
        "id": "WT5PUGGkt0-4",
        "outputId": "f9780ae7-6f35-435c-a8e8-cfc9c4c35662"
      },
      "source": [
        "raise ValueError(\"You can't divide something with zero.\")"
      ],
      "execution_count": 12,
      "outputs": [
        {
          "output_type": "error",
          "ename": "ValueError",
          "evalue": "ignored",
          "traceback": [
            "\u001b[0;31m---------------------------------------------------------------------------\u001b[0m",
            "\u001b[0;31mValueError\u001b[0m                                Traceback (most recent call last)",
            "\u001b[0;32m<ipython-input-12-858fbff73774>\u001b[0m in \u001b[0;36m<module>\u001b[0;34m()\u001b[0m\n\u001b[0;32m----> 1\u001b[0;31m \u001b[0;32mraise\u001b[0m \u001b[0mValueError\u001b[0m\u001b[0;34m(\u001b[0m\u001b[0;34m\"You can't divide something with zero.\"\u001b[0m\u001b[0;34m)\u001b[0m\u001b[0;34m\u001b[0m\u001b[0;34m\u001b[0m\u001b[0m\n\u001b[0m",
            "\u001b[0;31mValueError\u001b[0m: You can't divide something with zero."
          ]
        }
      ]
    },
    {
      "cell_type": "code",
      "metadata": {
        "colab": {
          "base_uri": "https://localhost:8080/",
          "height": 198
        },
        "id": "ub966gsxt3hh",
        "outputId": "d112dc2e-4d70-4cfb-fbf8-d9bbfb735633"
      },
      "source": [
        "raise NameError(\"It's silly to make this mistake.\")"
      ],
      "execution_count": 13,
      "outputs": [
        {
          "output_type": "error",
          "ename": "NameError",
          "evalue": "ignored",
          "traceback": [
            "\u001b[0;31m---------------------------------------------------------------------------\u001b[0m",
            "\u001b[0;31mNameError\u001b[0m                                 Traceback (most recent call last)",
            "\u001b[0;32m<ipython-input-13-285fdc917a01>\u001b[0m in \u001b[0;36m<module>\u001b[0;34m()\u001b[0m\n\u001b[0;32m----> 1\u001b[0;31m \u001b[0;32mraise\u001b[0m \u001b[0mNameError\u001b[0m\u001b[0;34m(\u001b[0m\u001b[0;34m\"It's silly to make this mistake.\"\u001b[0m\u001b[0;34m)\u001b[0m\u001b[0;34m\u001b[0m\u001b[0;34m\u001b[0m\u001b[0m\n\u001b[0m",
            "\u001b[0;31mNameError\u001b[0m: It's silly to make this mistake."
          ]
        }
      ]
    },
    {
      "cell_type": "code",
      "metadata": {
        "colab": {
          "base_uri": "https://localhost:8080/"
        },
        "id": "gvtbuIV4t4ce",
        "outputId": "ed99e3bc-a39f-4f7a-ad9d-697fc933f761"
      },
      "source": [
        "# Define two functions with one calling the other\n",
        "def cast_number(number_text, to_raise):\n",
        "     try:\n",
        "         int(number_text)\n",
        "     except:\n",
        "         print(\"Failed to cast\")\n",
        "         if to_raise:\n",
        "             print(\"Re-raise the exception\")\n",
        "             raise\n",
        " \n",
        "def run_cast_number(number_text, to_raise):\n",
        "     try:\n",
        "         cast_number(number_text, to_raise)\n",
        "     except:\n",
        "         print(\"Handled in run_cast_number\")\n",
        " \n",
        "# Use the functions \n",
        "run_cast_number(\"six\", False)\n",
        "run_cast_number(\"six\", True)"
      ],
      "execution_count": 14,
      "outputs": [
        {
          "output_type": "stream",
          "text": [
            "Failed to cast\n",
            "Failed to cast\n",
            "Re-raise the exception\n",
            "Handled in run_cast_number\n"
          ],
          "name": "stdout"
        }
      ]
    },
    {
      "cell_type": "code",
      "metadata": {
        "colab": {
          "base_uri": "https://localhost:8080/",
          "height": 232
        },
        "id": "tK1T5hFbuHWU",
        "outputId": "eba70217-2ea9-4a43-85a8-62152d13e3e7"
      },
      "source": [
        "# Define a custom exception class\n",
        "class FileExtensionError(Exception):\n",
        "     def __init__(self, filename, desired_ext):\n",
        "         self.filename = filename\n",
        "         self.desired_ext = desired_ext\n",
        "     def __str__(self):\n",
        "         return f\"File {self.filename} should have the extension: {self.desired_ext}.\"\n",
        " \n",
        "# Raise custom exceptions\n",
        "# raise FileExtensionError\n",
        "raise FileExtensionError(\"test.xls\", \"csv\")"
      ],
      "execution_count": 16,
      "outputs": [
        {
          "output_type": "error",
          "ename": "FileExtensionError",
          "evalue": "ignored",
          "traceback": [
            "\u001b[0;31m---------------------------------------------------------------------------\u001b[0m",
            "\u001b[0;31mFileExtensionError\u001b[0m                        Traceback (most recent call last)",
            "\u001b[0;32m<ipython-input-16-44dd63d2bc18>\u001b[0m in \u001b[0;36m<module>\u001b[0;34m()\u001b[0m\n\u001b[1;32m      9\u001b[0m \u001b[0;31m# Raise custom exceptions\u001b[0m\u001b[0;34m\u001b[0m\u001b[0;34m\u001b[0m\u001b[0;34m\u001b[0m\u001b[0m\n\u001b[1;32m     10\u001b[0m \u001b[0;31m# raise FileExtensionError\u001b[0m\u001b[0;34m\u001b[0m\u001b[0;34m\u001b[0m\u001b[0;34m\u001b[0m\u001b[0m\n\u001b[0;32m---> 11\u001b[0;31m \u001b[0;32mraise\u001b[0m \u001b[0mFileExtensionError\u001b[0m\u001b[0;34m(\u001b[0m\u001b[0;34m\"test.xls\"\u001b[0m\u001b[0;34m,\u001b[0m \u001b[0;34m\"csv\"\u001b[0m\u001b[0;34m)\u001b[0m\u001b[0;34m\u001b[0m\u001b[0;34m\u001b[0m\u001b[0m\n\u001b[0m",
            "\u001b[0;31mFileExtensionError\u001b[0m: File test.xls should have the extension: csv."
          ]
        }
      ]
    },
    {
      "cell_type": "code",
      "metadata": {
        "colab": {
          "base_uri": "https://localhost:8080/"
        },
        "id": "zstLe2rruKz3",
        "outputId": "0ea23615-c613-473c-9286-69e1e178ccf1"
      },
      "source": [
        "def read_data(filename):\n",
        "     file_parts = filename.split(\".\")\n",
        "     if file_parts[-1] != \"csv\":\n",
        "         print(\"Wrong data type.\")\n",
        "         raise Exception(\"Can't read non-csv data.\")\n",
        "     else:\n",
        "         print(\"CSV data is read.\")\n",
        " \n",
        "def process_data(filename):\n",
        "     try:\n",
        "         read_data(filename)\n",
        "     except Exception as e:\n",
        "         print(f\"Error: {e}\")\n",
        "     else:\n",
        "         print(\"Further process the data.\")\n",
        " \n",
        "process_data(\"test.docx\")"
      ],
      "execution_count": 17,
      "outputs": [
        {
          "output_type": "stream",
          "text": [
            "Wrong data type.\n",
            "Error: Can't read non-csv data.\n"
          ],
          "name": "stdout"
        }
      ]
    },
    {
      "cell_type": "code",
      "metadata": {
        "colab": {
          "base_uri": "https://localhost:8080/"
        },
        "id": "SMvOlG1OuZqU",
        "outputId": "1c90043b-e8ec-4ae5-e095-06ce9d74e9fc"
      },
      "source": [
        "process_data(\"test.csv\")"
      ],
      "execution_count": 18,
      "outputs": [
        {
          "output_type": "stream",
          "text": [
            "CSV data is read.\n",
            "Further process the data.\n"
          ],
          "name": "stdout"
        }
      ]
    }
  ]
}