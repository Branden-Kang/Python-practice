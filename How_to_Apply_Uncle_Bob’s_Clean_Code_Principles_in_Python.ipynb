{
  "nbformat": 4,
  "nbformat_minor": 0,
  "metadata": {
    "colab": {
      "provenance": [],
      "authorship_tag": "ABX9TyNXNwCdQibpS8eBY20MqtUR"
    },
    "kernelspec": {
      "name": "python3",
      "display_name": "Python 3"
    },
    "language_info": {
      "name": "python"
    }
  },
  "cells": [
    {
      "cell_type": "markdown",
      "source": [
        "[Reference](https://medium.com/@denis-kh/how-to-apply-uncle-bobs-clean-code-principles-in-python-6a34e4465d10)"
      ],
      "metadata": {
        "id": "4TB9vhhd-LN6"
      }
    },
    {
      "cell_type": "code",
      "execution_count": 2,
      "metadata": {
        "id": "1lx3rXEp911c"
      },
      "outputs": [],
      "source": [
        "# Bad example with if/else\n",
        "def get_discount(customer_type):\n",
        "    if customer_type == \"regular\":\n",
        "        return 0.1\n",
        "    elif customer_type == \"premium\":\n",
        "        return 0.2\n",
        "    else:\n",
        "        return 0.0"
      ]
    },
    {
      "cell_type": "code",
      "source": [
        "# Good example with polymorphism\n",
        "\n",
        "class Customer:\n",
        "    def get_discount(self):\n",
        "        return 0.0\n",
        "\n",
        "class RegularCustomer(Customer):\n",
        "    def get_discount(self):\n",
        "        return 0.1\n",
        "class PremiumCustomer(Customer):\n",
        "    def get_discount(self):\n",
        "        return 0.2"
      ],
      "metadata": {
        "id": "oRl02Xk4-Xck"
      },
      "execution_count": 3,
      "outputs": []
    },
    {
      "cell_type": "code",
      "source": [
        "# Use Dependency Injection\n",
        "class Service:\n",
        "    def init(self):\n",
        "        self.repository = Repository()\n",
        "\n",
        "    def perform_action(self):\n",
        "        data = self.repository.get_data()"
      ],
      "metadata": {
        "id": "qYpvlegU-egh"
      },
      "execution_count": 4,
      "outputs": []
    },
    {
      "cell_type": "code",
      "source": [
        "class Service:\n",
        "    def init(self, repository):\n",
        "        self.repository = repository\n",
        "    def perform_action(self):\n",
        "        data = self.repository.get_data()\n",
        "        # perform action with data"
      ],
      "metadata": {
        "id": "7QgEMZfF-jhr"
      },
      "execution_count": 7,
      "outputs": []
    },
    {
      "cell_type": "code",
      "source": [
        "# Prevent Over-Configurability and Don’t Use Flag Arguments\n",
        "## Bad example with flag arguments\n",
        "def create_user(name, email, is_admin=False):\n",
        "    user = User(name, email)\n",
        "    if is_admin:\n",
        "        user.set_admin_permissions()\n",
        "    return user\n",
        "## Good example without flag arguments\n",
        "def create_user(name, email):\n",
        "    return User(name, email)\n",
        "\n",
        "def create_admin_user(name, email):\n",
        "    user = User(name, email)\n",
        "    user.set_admin_permissions()\n",
        "    return user"
      ],
      "metadata": {
        "id": "NjvJGk31-ld2"
      },
      "execution_count": 8,
      "outputs": []
    },
    {
      "cell_type": "code",
      "source": [
        "# Follow the Law of Demeter\n",
        "## Bad example violating the Law of Demeter\n",
        "def get_user_info(user):\n",
        "    address = user.get_address()\n",
        "    city = address.get_city()\n",
        "    return city\n",
        "## Good example following the Law of Demeter\n",
        "def get_user_info(user):\n",
        "    return user.get_city()"
      ],
      "metadata": {
        "id": "i_laGfmO-yPd"
      },
      "execution_count": 9,
      "outputs": []
    },
    {
      "cell_type": "code",
      "source": [
        "# Avoid Logical Dependency\n",
        "## Bad example with logical dependency\n",
        "class Calculator:\n",
        "    def init(self):\n",
        "        self.result = 0\n",
        "    def add(self, number):\n",
        "        self.result += number\n",
        "\n",
        "    def subtract(self, number):\n",
        "        self.result -= number\n",
        "\n",
        "    def get_result(self):\n",
        "        return self.result\n",
        "\n",
        "## Good example without logical dependency\n",
        "class Calculator:\n",
        "    def add(self, a, b):\n",
        "        return a + b\n",
        "    def subtract(self, a, b):\n",
        "        return a - b"
      ],
      "metadata": {
        "id": "p7IgEEBo-4rJ"
      },
      "execution_count": 10,
      "outputs": []
    },
    {
      "cell_type": "code",
      "source": [
        "# Avoid Side Effects\n",
        "## Bad example with side effects\n",
        "def add_to_list(item, item_list=[]):\n",
        "    item_list.append(item)\n",
        "    return item_list\n",
        "## Good example with no side effects\n",
        "def add_to_list(item, item_list=None):\n",
        "    if item_list is None:\n",
        "        item_list = []\n",
        "\n",
        "    new_list = item_list + [item]\n",
        "    return new_list"
      ],
      "metadata": {
        "id": "ZCjr2sN-_DpL"
      },
      "execution_count": 11,
      "outputs": []
    }
  ]
}