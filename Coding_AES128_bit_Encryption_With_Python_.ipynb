{
  "nbformat": 4,
  "nbformat_minor": 0,
  "metadata": {
    "colab": {
      "name": "Coding AES128-bit Encryption With Python .ipynb",
      "provenance": [],
      "authorship_tag": "ABX9TyNuMlxfH4DZ5ANoe+vW9pc9"
    },
    "kernelspec": {
      "name": "python3",
      "display_name": "Python 3"
    }
  },
  "cells": [
    {
      "cell_type": "markdown",
      "metadata": {
        "id": "4v7KgbQx9iTb",
        "colab_type": "text"
      },
      "source": [
        "[Reference](https://medium.com/swlh/coding-aes128-bit-encryption-in-python-in-less-than-5-minutes-f6bcbddd2b82)"
      ]
    },
    {
      "cell_type": "code",
      "metadata": {
        "id": "oFJf36cH818p",
        "colab_type": "code",
        "colab": {
          "base_uri": "https://localhost:8080/",
          "height": 173
        },
        "outputId": "59eb9087-be82-4971-aa07-cb74e9945d6c"
      },
      "source": [
        "!pip install cryptography # or pip3"
      ],
      "execution_count": 1,
      "outputs": [
        {
          "output_type": "stream",
          "text": [
            "Collecting cryptography\n",
            "\u001b[?25l  Downloading https://files.pythonhosted.org/packages/c0/9c/647e559a6e8be493dc2a7a5d15d26cb501ca60ec299b356f23839a673a83/cryptography-3.1-cp35-abi3-manylinux2010_x86_64.whl (2.6MB)\n",
            "\u001b[K     |████████████████████████████████| 2.6MB 2.7MB/s \n",
            "\u001b[?25hRequirement already satisfied: cffi!=1.11.3,>=1.8 in /usr/local/lib/python3.6/dist-packages (from cryptography) (1.14.2)\n",
            "Requirement already satisfied: six>=1.4.1 in /usr/local/lib/python3.6/dist-packages (from cryptography) (1.15.0)\n",
            "Requirement already satisfied: pycparser in /usr/local/lib/python3.6/dist-packages (from cffi!=1.11.3,>=1.8->cryptography) (2.20)\n",
            "Installing collected packages: cryptography\n",
            "Successfully installed cryptography-3.1\n"
          ],
          "name": "stdout"
        }
      ]
    },
    {
      "cell_type": "code",
      "metadata": {
        "id": "YPmsCl908_IG",
        "colab_type": "code",
        "colab": {}
      },
      "source": [
        "# Import the Fernet class. \n",
        "from cryptography.fernet import Fernet"
      ],
      "execution_count": 2,
      "outputs": []
    },
    {
      "cell_type": "code",
      "metadata": {
        "id": "pesgklHN9AT7",
        "colab_type": "code",
        "colab": {
          "base_uri": "https://localhost:8080/",
          "height": 34
        },
        "outputId": "ffb403f3-dbc3-4d02-c5ce-1e15110b0e42"
      },
      "source": [
        "# Use Fernet to generate the key file.\n",
        "key = Fernet.generate_key() # Store the file to disk to be accessed for en/de:crypting later.\n",
        "with open('secret.key', 'wb') as new_key_file:\n",
        "    new_key_file.write(key)\n",
        "print(key)"
      ],
      "execution_count": 4,
      "outputs": [
        {
          "output_type": "stream",
          "text": [
            "b'H5fpb8nRqKAlCoQNG_GbQxaQARawxYmEisoPDwSk6E0='\n"
          ],
          "name": "stdout"
        }
      ]
    },
    {
      "cell_type": "code",
      "metadata": {
        "id": "pm0DfX4a9DZL",
        "colab_type": "code",
        "colab": {}
      },
      "source": [
        "msg = \"Into the valley of death, rode the 600.\"\n",
        "\n",
        "# Encode this as bytes to feed into the algorithm.\n",
        "# (Refer to Encoding types above).\n",
        "\n",
        "msg = msg.encode()"
      ],
      "execution_count": 5,
      "outputs": []
    },
    {
      "cell_type": "code",
      "metadata": {
        "id": "dHcprV339Nmb",
        "colab_type": "code",
        "colab": {
          "base_uri": "https://localhost:8080/",
          "height": 54
        },
        "outputId": "2d0ab0b7-7016-4e5e-af56-7b035d11303e"
      },
      "source": [
        "# Instantiate the object with your key.\n",
        "f = Fernet(key)\n",
        "\n",
        "# Pass your bytes type message into encrypt.\n",
        "ciphertext = f.encrypt(msg)\n",
        "\n",
        "print(ciphertext)"
      ],
      "execution_count": 6,
      "outputs": [
        {
          "output_type": "stream",
          "text": [
            "b'gAAAAABfSLFthDHyQqkoySPVxNmNUIB093n52RgZ4NPSRg4nRIqGz7HTv4Nzaw4pNj0bEvGK5fzznJIvBdUSu4kWj7eVfogQbQRvw_dZ1IjrrpxY5jLRYH7lm_u60F6NHFC8rng_iUXr'\n"
          ],
          "name": "stdout"
        }
      ]
    },
    {
      "cell_type": "code",
      "metadata": {
        "id": "EIMOdDtn9RLu",
        "colab_type": "code",
        "colab": {
          "base_uri": "https://localhost:8080/",
          "height": 34
        },
        "outputId": "ace68c3a-1025-443c-cd23-5c7f95841836"
      },
      "source": [
        "from cryptography.fernet import Fernet\n",
        "\n",
        "# Load the private key from a file.\n",
        "with open('secret.key', 'rb') as my_private_key:\n",
        "    key = my_private_key.read()\n",
        "    \n",
        "# Instantiate Fernet on the recip system.\n",
        "f = Fernet(key)\n",
        "\n",
        "# Decrypt the message.\n",
        "cleartext = f.decrypt(ciphertext)\n",
        "\n",
        "# Decode the bytes back into a string.\n",
        "cleartext = cleartext.decode()\n",
        "\n",
        "print(cleartext)"
      ],
      "execution_count": 7,
      "outputs": [
        {
          "output_type": "stream",
          "text": [
            "Into the valley of death, rode the 600.\n"
          ],
          "name": "stdout"
        }
      ]
    }
  ]
}