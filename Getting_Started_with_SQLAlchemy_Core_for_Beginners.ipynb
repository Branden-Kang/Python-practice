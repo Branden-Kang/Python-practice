{
  "nbformat": 4,
  "nbformat_minor": 0,
  "metadata": {
    "colab": {
      "provenance": [],
      "authorship_tag": "ABX9TyP8Od0KvCfoyi/nOj5lfX2k"
    },
    "kernelspec": {
      "name": "python3",
      "display_name": "Python 3"
    },
    "language_info": {
      "name": "python"
    }
  },
  "cells": [
    {
      "cell_type": "markdown",
      "source": [
        "[Reference](https://medium.com/@noransaber685/getting-started-with-sqlalchemy-core-for-beginners-part1-73e58ae42e46)"
      ],
      "metadata": {
        "id": "K_j7qYERDNDz"
      }
    },
    {
      "cell_type": "code",
      "execution_count": 1,
      "metadata": {
        "id": "u-A2FKPnB-uC"
      },
      "outputs": [],
      "source": [
        "from sqlalchemy import create_engine\n",
        "# Replace 'sqlite:///college.db' with your desired database URL\n",
        "engine = create_engine('sqlite:///college.db', echo=True)"
      ]
    },
    {
      "cell_type": "code",
      "source": [
        "from sqlalchemy.ext.declarative import declarative_base\n",
        "from sqlalchemy import Column, Integer, String\n",
        "\n",
        "Base = declarative_base()\n",
        "class Customer(Base):\n",
        "    __tablename__ = 'customers'\n",
        "\n",
        "    id = Column(Integer, primary_key=True)\n",
        "    name = Column(String)\n",
        "    address = Column(String)\n",
        "    email = Column(String)"
      ],
      "metadata": {
        "id": "wegbDBB5DQ7k"
      },
      "execution_count": 3,
      "outputs": []
    },
    {
      "cell_type": "code",
      "source": [
        "Base.metadata.create_all(engine)"
      ],
      "metadata": {
        "id": "Aed8OT6uDUaf"
      },
      "execution_count": 4,
      "outputs": []
    }
  ]
}