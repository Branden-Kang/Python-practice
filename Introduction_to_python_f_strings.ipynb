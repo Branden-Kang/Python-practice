{
  "nbformat": 4,
  "nbformat_minor": 0,
  "metadata": {
    "colab": {
      "name": "Introduction to python f-strings.ipynb",
      "provenance": [],
      "authorship_tag": "ABX9TyPyN1exQAJQlgmcTIIVpmRM"
    },
    "kernelspec": {
      "name": "python3",
      "display_name": "Python 3"
    }
  },
  "cells": [
    {
      "cell_type": "markdown",
      "metadata": {
        "id": "_1to23bbizjp"
      },
      "source": [
        "[Reference](https://towardsdatascience.com/introduction-to-f-strings-3822ed8683cc)"
      ]
    },
    {
      "cell_type": "code",
      "metadata": {
        "id": "AUd1nSoZiwAq"
      },
      "source": [
        "my_first_f_string = f'I am going to use f-strings form now on.'"
      ],
      "execution_count": 2,
      "outputs": []
    },
    {
      "cell_type": "code",
      "metadata": {
        "id": "3p1-1I3Ajliq"
      },
      "source": [
        "f_string_with_double_qoutes = F\"I am going to use f-strings form now on.\""
      ],
      "execution_count": 3,
      "outputs": []
    },
    {
      "cell_type": "code",
      "metadata": {
        "id": "I0rvENzwjy6Q"
      },
      "source": [
        "multiline_f_string = f'''first line\n",
        "second line'''"
      ],
      "execution_count": 4,
      "outputs": []
    },
    {
      "cell_type": "code",
      "metadata": {
        "id": "mhmkZuXLj3Wj"
      },
      "source": [
        "def hello_world():\n",
        "    print(\"Hello, world!\")"
      ],
      "execution_count": 5,
      "outputs": []
    },
    {
      "cell_type": "code",
      "metadata": {
        "id": "KJvoNqGJj5lL"
      },
      "source": [
        "def hello_world(name):\n",
        "    print(\"Hello, \" + name + \"!\")"
      ],
      "execution_count": 6,
      "outputs": []
    },
    {
      "cell_type": "code",
      "metadata": {
        "id": "0XPaROG9j7cr"
      },
      "source": [
        "def hello_world(name):\n",
        "    print(\"Hello, {}!\".format(name))"
      ],
      "execution_count": 7,
      "outputs": []
    },
    {
      "cell_type": "code",
      "metadata": {
        "id": "-sfdOV--j9A4"
      },
      "source": [
        "def hello_world(name):\n",
        "    print(f\"Hello, {name}!\")"
      ],
      "execution_count": 8,
      "outputs": []
    },
    {
      "cell_type": "code",
      "metadata": {
        "id": "KD_oyPQMj--b"
      },
      "source": [
        "height = 176\n",
        "weight = 123.3\n",
        "info = f'I am {height} cm heigh and I weigh {weight} kilograms.'"
      ],
      "execution_count": 10,
      "outputs": []
    },
    {
      "cell_type": "code",
      "metadata": {
        "colab": {
          "base_uri": "https://localhost:8080/",
          "height": 37
        },
        "id": "Y9D0Nj31kG4m",
        "outputId": "4d76330d-b803-4778-88a0-f9b19e58625b"
      },
      "source": [
        "grocery_list = ['apples', 'oranges', 'kiwis']\n",
        "message = f'I need to get {grocery_list} from the market.'\n",
        "message"
      ],
      "execution_count": 11,
      "outputs": [
        {
          "output_type": "execute_result",
          "data": {
            "application/vnd.google.colaboratory.intrinsic+json": {
              "type": "string"
            },
            "text/plain": [
              "\"I need to get ['apples', 'oranges', 'kiwis'] from the market.\""
            ]
          },
          "metadata": {
            "tags": []
          },
          "execution_count": 11
        }
      ]
    },
    {
      "cell_type": "code",
      "metadata": {
        "colab": {
          "base_uri": "https://localhost:8080/",
          "height": 37
        },
        "id": "_pH28-pqkLU0",
        "outputId": "7dafc383-6bb2-46d8-b158-0118257a7dc7"
      },
      "source": [
        "student_grades = {'Ana': ['A', 'B'], 'Bart': ['A', 'A'] }\n",
        "message = f'This semester grades are {student_grades}.'\n",
        "message"
      ],
      "execution_count": 12,
      "outputs": [
        {
          "output_type": "execute_result",
          "data": {
            "application/vnd.google.colaboratory.intrinsic+json": {
              "type": "string"
            },
            "text/plain": [
              "\"This semester grades are {'Ana': ['A', 'B'], 'Bart': ['A', 'A']}.\""
            ]
          },
          "metadata": {
            "tags": []
          },
          "execution_count": 12
        }
      ]
    },
    {
      "cell_type": "code",
      "metadata": {
        "colab": {
          "base_uri": "https://localhost:8080/",
          "height": 37
        },
        "id": "hiQdcaSKkOCS",
        "outputId": "0947f63f-6fad-46d8-ce3e-b9ca98a67845"
      },
      "source": [
        "side_length = 5\n",
        "message = f'Square area is {side_length * side_length}.'\n",
        "message"
      ],
      "execution_count": 13,
      "outputs": [
        {
          "output_type": "execute_result",
          "data": {
            "application/vnd.google.colaboratory.intrinsic+json": {
              "type": "string"
            },
            "text/plain": [
              "'Square area is 25.'"
            ]
          },
          "metadata": {
            "tags": []
          },
          "execution_count": 13
        }
      ]
    },
    {
      "cell_type": "code",
      "metadata": {
        "id": "Ztc4wMSJkQic"
      },
      "source": [
        "class Car:\n",
        "    def __init__(self, color, mileage):\n",
        "        self.color = color\n",
        "        self.mileage = mileage    \n",
        "        \n",
        "    def __str__(self):\n",
        "        return f'I am a {self.color} car that has {self.mileage} miles.'"
      ],
      "execution_count": 14,
      "outputs": []
    },
    {
      "cell_type": "code",
      "metadata": {
        "colab": {
          "base_uri": "https://localhost:8080/"
        },
        "id": "GFXktNdekS0n",
        "outputId": "e8b25331-d158-47a9-f0a4-5ecacddd7f62"
      },
      "source": [
        "car = Car('red', 100000)\n",
        "print(car)"
      ],
      "execution_count": 16,
      "outputs": [
        {
          "output_type": "stream",
          "text": [
            "I am a red car that has 100000 miles.\n"
          ],
          "name": "stdout"
        }
      ]
    },
    {
      "cell_type": "code",
      "metadata": {
        "colab": {
          "base_uri": "https://localhost:8080/"
        },
        "id": "YLQuXzYXkTyU",
        "outputId": "25263596-4bd8-4b3f-f378-5abd7b0f22c5"
      },
      "source": [
        "title = \"Gone with the wind\"\n",
        "author = \"Margaret Mitchell\"\n",
        "\n",
        "book_description = f'''| Title: {title} | \n",
        "| Author: {author} |'''\n",
        "\n",
        "print(book_description)"
      ],
      "execution_count": 18,
      "outputs": [
        {
          "output_type": "stream",
          "text": [
            "| Title: Gone with the wind | \n",
            "| Author: Margaret Mitchell |\n"
          ],
          "name": "stdout"
        }
      ]
    }
  ]
}