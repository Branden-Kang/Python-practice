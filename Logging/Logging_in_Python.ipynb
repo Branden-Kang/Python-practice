{
  "nbformat": 4,
  "nbformat_minor": 0,
  "metadata": {
    "colab": {
      "name": "Logging in Python.ipynb",
      "provenance": [],
      "collapsed_sections": [],
      "authorship_tag": "ABX9TyNW+jeAUnWM4RM8iq4m2wht"
    },
    "kernelspec": {
      "name": "python3",
      "display_name": "Python 3"
    }
  },
  "cells": [
    {
      "cell_type": "markdown",
      "metadata": {
        "id": "GP2YqtpU9tQn"
      },
      "source": [
        "[Reference1](https://medium.com/better-programming/how-to-implement-logging-in-your-python-application-1730315003c4) <br>\n",
        "[Reference2](https://medium.com/swlh/add-log-decorators-to-your-python-project-84094f832181)"
      ]
    },
    {
      "cell_type": "code",
      "metadata": {
        "id": "dQBegzNd9sw3"
      },
      "source": [
        "print(\"Getting some docs...\")\n",
        "docs = getDocs()\n",
        "print(\"Doc count %s\", len(docs))\n",
        "print(\"Finished\")"
      ],
      "execution_count": 2,
      "outputs": []
    },
    {
      "cell_type": "code",
      "metadata": {
        "colab": {
          "base_uri": "https://localhost:8080/"
        },
        "id": "dGV_MiFV9yJw",
        "outputId": "760a77c3-539e-445c-c791-29b325bf24ae"
      },
      "source": [
        "import logging\n",
        "\n",
        "# Set up the logger\n",
        "logging.basicConfig(level=logging.INFO)\n",
        "logger = logging.getLogger(__name__)\n",
        "\n",
        "logger.info(\"Getting some docs...\")\n",
        "docs = {'Ben Stokes': 37.8, 'Joe Root': 47.7}\n",
        "logger.info(\"Doc count %s\", len(docs))\n",
        "logger.info(\"Finished\")"
      ],
      "execution_count": 3,
      "outputs": [
        {
          "output_type": "stream",
          "text": [
            "INFO:__main__:Getting some docs...\n",
            "INFO:__main__:Doc count 2\n",
            "INFO:__main__:Finished\n"
          ],
          "name": "stderr"
        }
      ]
    },
    {
      "cell_type": "code",
      "metadata": {
        "colab": {
          "base_uri": "https://localhost:8080/"
        },
        "id": "3fG3Bscr-NkC",
        "outputId": "62f9b4c9-aa1b-4c3f-eb52-35ac60f1898c"
      },
      "source": [
        "logger.critical(\"Really bad event\")\n",
        "logger.error(\"An error\")\n",
        "logger.warning(\"An unexpected event\")\n",
        "logger.info(\"Used for tracking normal application flow\")\n",
        "logger.debug(\"Log data or variables for developing\")"
      ],
      "execution_count": 4,
      "outputs": [
        {
          "output_type": "stream",
          "text": [
            "CRITICAL:__main__:Really bad event\n",
            "ERROR:__main__:An error\n",
            "WARNING:__main__:An unexpected event\n",
            "INFO:__main__:Used for tracking normal application flow\n"
          ],
          "name": "stderr"
        }
      ]
    },
    {
      "cell_type": "code",
      "metadata": {
        "id": "QPv8aOJ--Vcq"
      },
      "source": [
        "# Send data to Kafka\n",
        "\n",
        "# Info message to track the flow of the application\n",
        "logger.info(\"Sending records to Kafka\")\n",
        "\n",
        "if (len(json_list) == 0):\n",
        "    # Hmm this isn't expected! Log a warning\n",
        "    logger.warn(\"No records to send\")\n",
        "    \n",
        "for json_item in json_list:\n",
        "    js = json.loads(json_item)\n",
        "    # Log every event in the for loop but only when debug is enabled\n",
        "    logger.debug(\"Sending: %s\", js)\n",
        "    producer.send(js)"
      ],
      "execution_count": 6,
      "outputs": []
    },
    {
      "cell_type": "code",
      "metadata": {
        "id": "sxO2Ehj_-luR"
      },
      "source": [
        "# create a file handler\n",
        "handler = logging.FileHandler('example.log')\n",
        "handler.setLevel(logging.INFO)"
      ],
      "execution_count": 12,
      "outputs": []
    },
    {
      "cell_type": "code",
      "metadata": {
        "colab": {
          "base_uri": "https://localhost:8080/"
        },
        "id": "9aOhrd6b-Yt3",
        "outputId": "8821c25c-7db5-4a75-ad63-fd4b33f65293"
      },
      "source": [
        "# Create the log formatter\n",
        "formatter = logging.Formatter('%(asctime)s - %(worker)s %(levelname)s - %(message)s')\n",
        "handler.setFormatter(formatter)\n",
        "logger.info('Querying database for docs...', extra={'worker': \n",
        "'id_1'})"
      ],
      "execution_count": 13,
      "outputs": [
        {
          "output_type": "stream",
          "text": [
            "INFO:__main__:Querying database for docs...\n"
          ],
          "name": "stderr"
        }
      ]
    },
    {
      "cell_type": "code",
      "metadata": {
        "colab": {
          "base_uri": "https://localhost:8080/"
        },
        "id": "iojX43Lm-dWA",
        "outputId": "3f6349c8-0f2f-472f-95df-11cbe63bc8b5"
      },
      "source": [
        "import logging\n",
        "\n",
        "logger = logging.getLogger(__name__)\n",
        "logger.setLevel(logging.INFO)\n",
        "\n",
        "# create a file handler\n",
        "handler = logging.FileHandler('example.log')\n",
        "handler.setLevel(logging.INFO)\n",
        "\n",
        "# create a logging format\n",
        "formatter = logging.Formatter('%(asctime)s - %(worker)s - %(levelname)s - %(message)s')\n",
        "handler.setFormatter(formatter)\n",
        "\n",
        "# add the file handler to the logger\n",
        "logger.addHandler(handler)\n",
        "\n",
        "logger.info(\"Querying database for docs...\", extra={'worker': 'id_1'})"
      ],
      "execution_count": 14,
      "outputs": [
        {
          "output_type": "stream",
          "text": [
            "INFO:__main__:Querying database for docs...\n"
          ],
          "name": "stderr"
        }
      ]
    },
    {
      "cell_type": "code",
      "metadata": {
        "id": "Y5dv2BjR_WML"
      },
      "source": [
        "import logging\n",
        "\n",
        "def get_logger(log_file_name, log_sub_dir=\"\"):\n",
        "    \"\"\" Creates a Log File and returns Logger object \"\"\"\n",
        "    \n",
        "    # Build Log File Full Path\n",
        "    logPath = log_file_name if os.path.exists(log_file_name) else os.path.join(log_dir, (str(log_file_name) + '.log'))\n",
        "\n",
        "    # Create logger object and set the format for logging and other attributes\n",
        "    logger = logging.Logger(log_file_name)\n",
        "\n",
        "    # Return logger object\n",
        "    return logger"
      ],
      "execution_count": 15,
      "outputs": []
    },
    {
      "cell_type": "code",
      "metadata": {
        "id": "zaJ9hu5O_WbV"
      },
      "source": [
        "handler = logging.FileHandler(logPath, 'a+')\n",
        "\"\"\" Set the formatter of 'CustomFormatter' type as we need to log base function name and base file name \"\"\"\n",
        "handler.setFormatter(CustomFormatter('%(asctime)s - %(levelname)-10s - %(filename)s - %(funcName)s - %(message)s'))\n",
        "logger.addHandler(handler)"
      ],
      "execution_count": 17,
      "outputs": []
    },
    {
      "cell_type": "code",
      "metadata": {
        "id": "oYus00zO_YN4"
      },
      "source": [
        "class CustomFormatter(logging.Formatter):\n",
        "    \"\"\" Custom Formatter does these 2 things:\n",
        "    1. Overrides 'funcName' with the value of 'func_name_override', if it exists.\n",
        "    2. Overrides 'filename' with the value of 'file_name_override', if it exists.\n",
        "    \"\"\"\n",
        "\n",
        "    def format(self, record):\n",
        "        if hasattr(record, 'func_name_override'):\n",
        "            record.funcName = record.func_name_override\n",
        "        if hasattr(record, 'file_name_override'):\n",
        "            record.filename = record.file_name_override\n",
        "        return super(CustomFormatter, self).format(record)"
      ],
      "execution_count": 18,
      "outputs": []
    },
    {
      "cell_type": "code",
      "metadata": {
        "id": "ZVQAGR2m_cXL"
      },
      "source": [
        "# setting the level of logger\n",
        "logger.setLevel(logging.DEBUG)"
      ],
      "execution_count": 19,
      "outputs": []
    },
    {
      "cell_type": "code",
      "metadata": {
        "colab": {
          "base_uri": "https://localhost:8080/"
        },
        "id": "UEBP6a6P_iDt",
        "outputId": "81893750-1eca-46b2-fada-8f8d35767a7a"
      },
      "source": [
        "!pip install log"
      ],
      "execution_count": 21,
      "outputs": [
        {
          "output_type": "stream",
          "text": [
            "\u001b[31mERROR: Could not find a version that satisfies the requirement log (from versions: none)\u001b[0m\n",
            "\u001b[31mERROR: No matching distribution found for log\u001b[0m\n"
          ],
          "name": "stdout"
        }
      ]
    },
    {
      "cell_type": "code",
      "metadata": {
        "id": "8QmSrTxa_eeq"
      },
      "source": [
        "import sys, os, functools\n",
        "import log\n",
        "\n",
        "def log_decorator(_func=None):\n",
        "    def log_decorator_info(func):\n",
        "        @functools.wraps(func)\n",
        "        def log_decorator_wrapper(self, *args, **kwargs):\n",
        "            \"\"\"Build logger object\"\"\"\n",
        "            logger_obj = log.get_logger(log_file_name=self.log_file_name, log_sub_dir=self.log_file_dir)\n",
        "\n",
        "            \"\"\"log function begining\"\"\"\n",
        "            logger_obj.info(\"Begin function\")\n",
        "            try:\n",
        "                \"\"\" log return value from the function \"\"\"\n",
        "                value = func(self, *args, **kwargs)\n",
        "                logger_obj.info(f\"Returned: - End function {value!r}\")\n",
        "            except:\n",
        "                \"\"\"log exception if occurs in function\"\"\"\n",
        "                logger_obj.error(f\"Exception: {str(sys.exc_info()[1])}\")\n",
        "                raise\n",
        "            return value\n",
        "        return log_decorator_wrapper\n",
        "    if _func is None:\n",
        "        return log_decorator_info\n",
        "    else:\n",
        "        return log_decorator_info(_func)"
      ],
      "execution_count": 23,
      "outputs": []
    },
    {
      "cell_type": "code",
      "metadata": {
        "id": "lOqYeYiQ_hEw"
      },
      "source": [
        "import log_decorator\n",
        "import log\n",
        "\n",
        "class Calculator():\n",
        "    def __init__(self, first=0, second=0, log_file_name='', log_file_dir=''):\n",
        "        self.first = first\n",
        "        self.second = second\n",
        "        #log file name and directory which we want to keep\n",
        "        self.log_file_name = log_file_name\n",
        "        self.log_file_dir = log_file_dir\n",
        "        # Initializing logger object to write custom logs\n",
        "        self.logger_obj = log.get_logger(log_file_name=self.log_file_name, log_sub_dir=self.log_file_dir)\n",
        "\n",
        "    @log_decorator.log_decorator()\n",
        "    def add(self, third=0, fourth=0):\n",
        "        # writing custom logs specific to function, outside of log decorator, if needed\n",
        "        self.logger_obj.info(\"Add function custom log, outside decorator\")\n",
        "        try:\n",
        "            return self.first + self.second + third + fourth\n",
        "        except:\n",
        "            raise\n",
        "\n",
        "if __name__ == '__main__':\n",
        "    calculator = Calculator(5, 0, 'calculator_file', 'calculator_dir')\n",
        "    calculator.add(third=2,fourth=3)"
      ],
      "execution_count": 25,
      "outputs": []
    },
    {
      "cell_type": "code",
      "metadata": {
        "id": "s5zvDquA_omS"
      },
      "source": [
        "import log_decorator\n",
        "import log\n",
        "\n",
        "class Calculator():\n",
        "    def __init__(self, first=0, second=0, log_file_name='', log_file_dir=''):\n",
        "        self.first = first\n",
        "        self.second = second\n",
        "        #log file name and directory which we want to keep\n",
        "        self.log_file_name = log_file_name\n",
        "        self.log_file_dir = log_file_dir\n",
        "        # Initializing logger object to write custom logs\n",
        "        self.logger_obj = log.get_logger(log_file_name=self.log_file_name, log_sub_dir=self.log_file_dir)\n",
        "\n",
        "    @log_decorator.log_decorator()\n",
        "    def divide(self):\n",
        "        self.logger_obj.info(\"Divide function custom log, outside decorator\")\n",
        "        try:\n",
        "            return self.first / self.second\n",
        "        except:\n",
        "            raise\n",
        "\n",
        "if __name__ == '__main__':\n",
        "    calculator = Calculator(5, 0, 'calculator_file', 'calculator_dir')\n",
        "    calculator.divide()"
      ],
      "execution_count": 26,
      "outputs": []
    }
  ]
}