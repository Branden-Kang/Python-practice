{
  "nbformat": 4,
  "nbformat_minor": 0,
  "metadata": {
    "colab": {
      "name": "Logging Scheme for Python.ipynb",
      "provenance": [],
      "authorship_tag": "ABX9TyOWqwba/hnVyE6Hz+8/0d18"
    },
    "kernelspec": {
      "name": "python3",
      "display_name": "Python 3"
    }
  },
  "cells": [
    {
      "cell_type": "markdown",
      "metadata": {
        "id": "XmZGETB1jY6n"
      },
      "source": [
        "[Reference](https://codeburst.io/copy-pastable-logging-scheme-for-python-c17efcf9e6dc)"
      ]
    },
    {
      "cell_type": "code",
      "metadata": {
        "id": "RF-5ta_TeNId"
      },
      "source": [
        "import logging\n",
        "import os\n",
        "\n",
        "LOGGER_NAME = 'my_logger'\n",
        "\n",
        "def init_logger(log_level_for_console: str = 'info', log_level_for_file: str = 'debug', \n",
        "                save_dir: str = None):\n",
        "    logger = logging.getLogger(LOGGER_NAME)\n",
        "    logger.setLevel(level=logging.DEBUG)\n",
        "    logger.propagate = False\n",
        "    \n",
        "    formatter = logging.Formatter(\n",
        "        \"%(asctime)s [%(levelname)s] %(filename)s %(lineno)d - %(message)s\", \n",
        "        \"%Y-%m-%d %H:%M:%S\")\n",
        "    \n",
        "    ch = logging.StreamHandler()\n",
        "    ch.setLevel(log_level_for_console.upper())\n",
        "    ch.setFormatter(formatter)\n",
        "    logger.addHandler(ch)\n",
        "    \n",
        "    if save_dir is not None:\n",
        "        fh = logging.FileHandler(os.path.join(save_dir, f\"{LOGGER_NAME}.txt\"))\n",
        "        fh.setLevel(log_level_for_file.upper())\n",
        "        fh.setFormatter(formatter)\n",
        "        logger.addHandler(fh)\n",
        "        \n",
        "def get_logger():\n",
        "    return logging.getLogger(LOGGER_NAME)"
      ],
      "execution_count": 1,
      "outputs": []
    },
    {
      "cell_type": "code",
      "metadata": {
        "id": "B7WvoTxpjcU7"
      },
      "source": [
        "from logging_utils import init_logger\n",
        "\n",
        "init_logger(save_dir='/path/to/somewhere')"
      ],
      "execution_count": 4,
      "outputs": []
    },
    {
      "cell_type": "code",
      "metadata": {
        "id": "ln0Ut5TojfJ_"
      },
      "source": [
        "from logging_utils import get_logger\n",
        "\n",
        "logger = get_logger()\n",
        "logger.info(\"Let's start!\")"
      ],
      "execution_count": 5,
      "outputs": []
    },
    {
      "cell_type": "code",
      "metadata": {
        "id": "eaRkksCxjhE8"
      },
      "source": [
        "from logging_utils import get_logger, init_logger\n",
        "\n",
        "logger = get_logger()\n",
        "logger.info(\"TEST\")\n",
        "\n",
        "logger.warning(\"TEST\")\n",
        "\n",
        "init_logger()\n",
        "logger.info(\"TEST\")"
      ],
      "execution_count": 6,
      "outputs": []
    }
  ]
}