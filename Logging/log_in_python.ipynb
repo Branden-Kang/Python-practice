{
  "nbformat": 4,
  "nbformat_minor": 0,
  "metadata": {
    "colab": {
      "name": "log in python.ipynb",
      "provenance": [],
      "authorship_tag": "ABX9TyO8VhWDxi0KCEi03SkA26zh"
    },
    "kernelspec": {
      "name": "python3",
      "display_name": "Python 3"
    }
  },
  "cells": [
    {
      "cell_type": "markdown",
      "metadata": {
        "id": "ycFYu9JXLZQm"
      },
      "source": [
        "[Reference](https://medium.com/swlh/why-it-matters-how-you-log-in-python-1a1085851205)"
      ]
    },
    {
      "cell_type": "code",
      "metadata": {
        "id": "fVFX76SqLWgg"
      },
      "source": [
        "import logging\n",
        "\n",
        "logger = logging.getLogger()\n",
        "\n",
        "def bad_call_with_problem():\n",
        "    try:\n",
        "        logger.error('haha %d' % None)\n",
        "    except:\n",
        "        print(\"Raised an error.\")\n",
        "        raise\n",
        "        \n",
        "def good_call_with_problem():\n",
        "    try:\n",
        "        logger.error('haha %d', None)\n",
        "    except:\n",
        "        print(\"This will never be raised.\")\n",
        "        raise"
      ],
      "execution_count": 2,
      "outputs": []
    }
  ]
}