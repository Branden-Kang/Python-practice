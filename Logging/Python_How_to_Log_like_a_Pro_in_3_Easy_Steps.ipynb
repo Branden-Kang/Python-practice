{
  "nbformat": 4,
  "nbformat_minor": 0,
  "metadata": {
    "colab": {
      "provenance": [],
      "authorship_tag": "ABX9TyOVJ7LrzfYqVdCATOzkEZIx"
    },
    "kernelspec": {
      "name": "python3",
      "display_name": "Python 3"
    },
    "language_info": {
      "name": "python"
    }
  },
  "cells": [
    {
      "cell_type": "markdown",
      "source": [
        "[Reference](https://medium.com/@antongw1p/python-how-to-log-like-a-pro-in-3-easy-steps-7bd51d1044bb)"
      ],
      "metadata": {
        "id": "JYk5UcC0w5lD"
      }
    },
    {
      "cell_type": "code",
      "execution_count": 1,
      "metadata": {
        "id": "8TwTQgWcw4ef"
      },
      "outputs": [],
      "source": [
        "import logging\n",
        "\n",
        "\n",
        "def setup_logger(name=__name__):\n",
        "    # Create a custom logger\n",
        "    logger = logging.getLogger(name)\n",
        "    logger.setLevel(logging.DEBUG)\n",
        "    return logger"
      ]
    },
    {
      "cell_type": "code",
      "source": [
        "logger = setup_logger()\n",
        "logger.info(\"Test\")"
      ],
      "metadata": {
        "colab": {
          "base_uri": "https://localhost:8080/"
        },
        "id": "9hTa1Knxw8NE",
        "outputId": "2bfb742e-ab88-49db-ede8-a05fba513823"
      },
      "execution_count": 2,
      "outputs": [
        {
          "output_type": "stream",
          "name": "stderr",
          "text": [
            "INFO:__main__:Test\n"
          ]
        }
      ]
    },
    {
      "cell_type": "code",
      "source": [
        "import logging\n",
        "import sys\n",
        "\n",
        "\n",
        "def setup_logger(name=__name__):\n",
        "    # Create a custom logger\n",
        "    logger = logging.getLogger(name)\n",
        "    logger.setLevel(logging.DEBUG)\n",
        "    \n",
        "    # Create handlers\n",
        "    c_handler = logging.StreamHandler(sys.stdout)\n",
        "    logger.addHandler(c_handler)\n",
        "    return logger"
      ],
      "metadata": {
        "id": "jRkAEO06w-Vp"
      },
      "execution_count": 3,
      "outputs": []
    },
    {
      "cell_type": "code",
      "source": [
        "logger = setup_logger()\n",
        "logger.info(\"Test\")"
      ],
      "metadata": {
        "colab": {
          "base_uri": "https://localhost:8080/"
        },
        "id": "j3jWzjtqw_c9",
        "outputId": "dd1e8c34-4e21-467e-879f-1d8e2cf17908"
      },
      "execution_count": 4,
      "outputs": [
        {
          "output_type": "stream",
          "name": "stdout",
          "text": [
            "Test\n"
          ]
        },
        {
          "output_type": "stream",
          "name": "stderr",
          "text": [
            "INFO:__main__:Test\n"
          ]
        }
      ]
    },
    {
      "cell_type": "code",
      "source": [
        "import logging\n",
        "import sys\n",
        "\n",
        "\n",
        "def setup_logger(name=__name__):\n",
        "  # Create a custom logger\n",
        "  logger = logging.getLogger(__name__)\n",
        "  logger.setLevel(logging.DEBUG)\n",
        "\n",
        "  # Create handlers\n",
        "  c_handler = logging.StreamHandler(sys.stdout)\n",
        "  f_handler = logging.FileHandler(\"./logs.log\")\n",
        "\n",
        "  # Add handlers to the logger\n",
        "  logger.addHandler(c_handler)\n",
        "  logger.addHandler(f_handler)\n",
        "\n",
        "  return logger"
      ],
      "metadata": {
        "id": "2A1-9LwAxBUo"
      },
      "execution_count": 5,
      "outputs": []
    },
    {
      "cell_type": "code",
      "source": [
        "logger = setup_logger()\n",
        "logger.info(\"Test\")"
      ],
      "metadata": {
        "colab": {
          "base_uri": "https://localhost:8080/"
        },
        "id": "p6mmNvCMxCqB",
        "outputId": "4beeb94d-fe17-4f33-cec4-bcfb51ca7c5e"
      },
      "execution_count": 6,
      "outputs": [
        {
          "output_type": "stream",
          "name": "stdout",
          "text": [
            "Test\n",
            "Test\n"
          ]
        },
        {
          "output_type": "stream",
          "name": "stderr",
          "text": [
            "INFO:__main__:Test\n"
          ]
        }
      ]
    },
    {
      "cell_type": "code",
      "source": [
        "import logging\n",
        "import sys\n",
        "\n",
        "\n",
        "def setup_logger(name=__name__):\n",
        "    # Create a custom logger\n",
        "    logger = logging.getLogger(__name__)\n",
        "    logger.setLevel(logging.DEBUG)\n",
        "\n",
        "    # Create handlers\n",
        "    c_handler = logging.StreamHandler(sys.stdout)\n",
        "    f_handler = logging.FileHandler(\"./logs.log\")\n",
        "    \n",
        "    # Add formatters\n",
        "    c_format = logging.Formatter(\"%(asctime)s - %(name)s - %(levelname)s - %(message)s\")\n",
        "    f_format = logging.Formatter(\"%(asctime)s - %(name)s - %(levelname)s - %(message)s\")\n",
        "    c_handler.setFormatter(c_format)\n",
        "    f_handler.setFormatter(f_format)\n",
        "\n",
        "    # Add handlers to the logger\n",
        "    logger.addHandler(c_handler)\n",
        "    logger.addHandler(f_handler)\n",
        "\n",
        "    return logger"
      ],
      "metadata": {
        "id": "-Y9MGp57xEa0"
      },
      "execution_count": 7,
      "outputs": []
    },
    {
      "cell_type": "code",
      "source": [
        "logg = setup_logger()\n",
        "logg.info(\"Test\") "
      ],
      "metadata": {
        "colab": {
          "base_uri": "https://localhost:8080/"
        },
        "id": "YBcBrYAwxF-z",
        "outputId": "46427e70-1df7-4be4-9ac2-e545fd52c373"
      },
      "execution_count": 9,
      "outputs": [
        {
          "output_type": "stream",
          "name": "stdout",
          "text": [
            "Test\n",
            "Test\n",
            "2022-09-17 04:46:16,078 - __main__ - INFO - Test\n"
          ]
        },
        {
          "output_type": "stream",
          "name": "stderr",
          "text": [
            "INFO:__main__:Test\n"
          ]
        }
      ]
    }
  ]
}
