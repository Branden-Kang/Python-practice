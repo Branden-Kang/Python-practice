{
  "nbformat": 4,
  "nbformat_minor": 0,
  "metadata": {
    "colab": {
      "provenance": [],
      "authorship_tag": "ABX9TyP+iy8Swjqpn/mmFhb0Qszs"
    },
    "kernelspec": {
      "name": "python3",
      "display_name": "Python 3"
    },
    "language_info": {
      "name": "python"
    }
  },
  "cells": [
    {
      "cell_type": "markdown",
      "source": [
        "[Reference](https://medium.com/geekculture/colored-logs-for-python-2973935a9b02)"
      ],
      "metadata": {
        "id": "r8R1tOH-HpQH"
      }
    },
    {
      "cell_type": "code",
      "execution_count": 1,
      "metadata": {
        "colab": {
          "base_uri": "https://localhost:8080/"
        },
        "id": "Z_gzbo4rHoFf",
        "outputId": "96c27b34-f7f5-43df-fbde-bc4da9d60882"
      },
      "outputs": [
        {
          "output_type": "stream",
          "name": "stdout",
          "text": [
            "Looking in indexes: https://pypi.org/simple, https://us-python.pkg.dev/colab-wheels/public/simple/\n",
            "Collecting coloredlogs\n",
            "  Downloading coloredlogs-15.0.1-py2.py3-none-any.whl (46 kB)\n",
            "\u001b[K     |████████████████████████████████| 46 kB 1.1 MB/s \n",
            "\u001b[?25hCollecting humanfriendly>=9.1\n",
            "  Downloading humanfriendly-10.0-py2.py3-none-any.whl (86 kB)\n",
            "\u001b[K     |████████████████████████████████| 86 kB 1.8 MB/s \n",
            "\u001b[?25hInstalling collected packages: humanfriendly, coloredlogs\n",
            "Successfully installed coloredlogs-15.0.1 humanfriendly-10.0\n"
          ]
        }
      ],
      "source": [
        "pip install coloredlogs"
      ]
    },
    {
      "cell_type": "markdown",
      "source": [
        "# Step 1: create a logger"
      ],
      "metadata": {
        "id": "GDqHK9FYHwP5"
      }
    },
    {
      "cell_type": "code",
      "source": [
        "import logging\n",
        "logging.basicConfig()\n",
        "logger = logging.getLogger(name='mylogger')"
      ],
      "metadata": {
        "id": "8EO2PxZ_Huxr"
      },
      "execution_count": 3,
      "outputs": []
    },
    {
      "cell_type": "markdown",
      "source": [
        "# Step 2: coloredlogs"
      ],
      "metadata": {
        "id": "tjCJlmL2Hx6T"
      }
    },
    {
      "cell_type": "code",
      "source": [
        "import coloredlogs\n",
        "coloredlogs.install(logger=logger)\n",
        "logger.propagate = False"
      ],
      "metadata": {
        "id": "23bcX8M7HxIg"
      },
      "execution_count": 5,
      "outputs": []
    },
    {
      "cell_type": "markdown",
      "source": [
        "# Step 3: creating a colored formatter"
      ],
      "metadata": {
        "id": "ElpJ_rD6H1BT"
      }
    },
    {
      "cell_type": "code",
      "source": [
        "coloredFormatter = coloredlogs.ColoredFormatter(\n",
        "    fmt='[%(name)s] %(asctime)s %(funcName)s %(lineno)-3d  %(message)s',\n",
        "    level_styles=dict(\n",
        "        debug=dict(color='white'),\n",
        "        info=dict(color='blue'),\n",
        "        warning=dict(color='yellow', bright=True),\n",
        "        error=dict(color='red', bold=True, bright=True),\n",
        "        critical=dict(color='black', bold=True, background='red'),\n",
        "    ),\n",
        "    field_styles=dict(\n",
        "        name=dict(color='white'),\n",
        "        asctime=dict(color='white'),\n",
        "        funcName=dict(color='white'),\n",
        "        lineno=dict(color='white'),\n",
        "    )\n",
        ")"
      ],
      "metadata": {
        "id": "QwbKOY_oHzJ7"
      },
      "execution_count": 6,
      "outputs": []
    },
    {
      "cell_type": "markdown",
      "source": [
        "# Step 4: Create a colored stream handler"
      ],
      "metadata": {
        "id": "bssqng6SH9yX"
      }
    },
    {
      "cell_type": "code",
      "source": [
        "import sys\n",
        "ch = logging.StreamHandler(stream=sys.stdout)\n",
        "ch.setFormatter(fmt=coloredFormatter)\n",
        "logger.addHandler(hdlr=ch)\n",
        "logger.setLevel(level=logging.DEBUG)"
      ],
      "metadata": {
        "id": "4IB85XS0H8n6"
      },
      "execution_count": 8,
      "outputs": []
    },
    {
      "cell_type": "markdown",
      "source": [
        "# Step 5: Log and result!"
      ],
      "metadata": {
        "id": "q2Frm5XBIBm_"
      }
    },
    {
      "cell_type": "code",
      "source": [
        "logger.debug(msg=\"this is a debug message\")\n",
        "logger.info(msg=\"this is an info message\")\n",
        "logger.warning(msg=\"this is a warning message\")\n",
        "logger.error(msg=\"this is an error message\")\n",
        "logger.critical(msg=\"this is a critical message\")"
      ],
      "metadata": {
        "colab": {
          "base_uri": "https://localhost:8080/"
        },
        "id": "ThkeuL1hH-4t",
        "outputId": "71f740f7-dd3a-4758-a6e6-f69598863bad"
      },
      "execution_count": 9,
      "outputs": [
        {
          "output_type": "stream",
          "name": "stdout",
          "text": [
            "\u001b[37m[mylogger]\u001b[0m \u001b[37m2022-12-07 10:27:23\u001b[0m \u001b[37m<module>\u001b[0m \u001b[37m1  \u001b[0m  \u001b[37mthis is a debug message\u001b[0m\n",
            "\u001b[37m[mylogger]\u001b[0m \u001b[37m2022-12-07 10:27:23\u001b[0m \u001b[37m<module>\u001b[0m \u001b[37m2  \u001b[0m  \u001b[34mthis is an info message\u001b[0m\n",
            "\u001b[37m[mylogger]\u001b[0m \u001b[37m2022-12-07 10:27:23\u001b[0m \u001b[37m<module>\u001b[0m \u001b[37m3  \u001b[0m  \u001b[93mthis is a warning message\u001b[0m\n",
            "\u001b[37m[mylogger]\u001b[0m \u001b[37m2022-12-07 10:27:23\u001b[0m \u001b[37m<module>\u001b[0m \u001b[37m4  \u001b[0m  \u001b[1;91mthis is an error message\u001b[0m\n",
            "\u001b[37m[mylogger]\u001b[0m \u001b[37m2022-12-07 10:27:23\u001b[0m \u001b[37m<module>\u001b[0m \u001b[37m5  \u001b[0m  \u001b[1;30;41mthis is a critical message\u001b[0m\n"
          ]
        }
      ]
    }
  ]
}
