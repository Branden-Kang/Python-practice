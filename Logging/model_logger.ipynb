{
  "nbformat": 4,
  "nbformat_minor": 0,
  "metadata": {
    "colab": {
      "name": "model-logger.ipynb",
      "provenance": [],
      "authorship_tag": "ABX9TyNbWrmsXx1gwQF/rYkAmMUd"
    },
    "kernelspec": {
      "name": "python3",
      "display_name": "Python 3"
    }
  },
  "cells": [
    {
      "cell_type": "code",
      "metadata": {
        "id": "YSqXzovy783a",
        "colab_type": "code",
        "colab": {
          "base_uri": "https://localhost:8080/",
          "height": 1000
        },
        "outputId": "7c7ef09f-8c3f-4b1c-d6ff-633f8b2f46d0"
      },
      "source": [
        "!pip install modellogger"
      ],
      "execution_count": 1,
      "outputs": [
        {
          "output_type": "stream",
          "text": [
            "Collecting modellogger\n",
            "  Downloading https://files.pythonhosted.org/packages/e0/e5/756ba5a2dec69598ccb6bf89c5130c4070e8b030da1b07bebbad4ffd2cf6/modellogger-0.2.3.tar.gz\n",
            "Requirement already satisfied: pandas in /usr/local/lib/python3.6/dist-packages (from modellogger) (1.0.5)\n",
            "Collecting dash\n",
            "\u001b[?25l  Downloading https://files.pythonhosted.org/packages/48/be/71c46eeb4ede1e1778261fe934be874f2066c7f50ae2d9c6d8e488c6a05f/dash-1.13.4.tar.gz (67kB)\n",
            "\u001b[K     |████████████████████████████████| 71kB 3.0MB/s \n",
            "\u001b[?25hRequirement already satisfied: plotly in /usr/local/lib/python3.6/dist-packages (from modellogger) (4.4.1)\n",
            "Requirement already satisfied: joblib in /usr/local/lib/python3.6/dist-packages (from modellogger) (0.16.0)\n",
            "Requirement already satisfied: python-dateutil>=2.6.1 in /usr/local/lib/python3.6/dist-packages (from pandas->modellogger) (2.8.1)\n",
            "Requirement already satisfied: numpy>=1.13.3 in /usr/local/lib/python3.6/dist-packages (from pandas->modellogger) (1.18.5)\n",
            "Requirement already satisfied: pytz>=2017.2 in /usr/local/lib/python3.6/dist-packages (from pandas->modellogger) (2018.9)\n",
            "Requirement already satisfied: Flask>=1.0.2 in /usr/local/lib/python3.6/dist-packages (from dash->modellogger) (1.1.2)\n",
            "Collecting flask-compress\n",
            "  Downloading https://files.pythonhosted.org/packages/a0/96/cd684c1ffe97b513303b5bfd4bbfb4114c5f4a5ea8a737af6fd813273df8/Flask-Compress-1.5.0.tar.gz\n",
            "Collecting dash_renderer==1.5.1\n",
            "\u001b[?25l  Downloading https://files.pythonhosted.org/packages/a7/8b/7c3e314d857fb0a6cc7453f25a05c9b2506f412c2638ad896591767abc75/dash_renderer-1.5.1.tar.gz (1.2MB)\n",
            "\u001b[K     |████████████████████████████████| 1.2MB 8.3MB/s \n",
            "\u001b[?25hCollecting dash-core-components==1.10.1\n",
            "\u001b[?25l  Downloading https://files.pythonhosted.org/packages/d2/e4/c1e5c427c19af00d2e1a13a7ee03a1142ddb04e440f98de501f770f17107/dash_core_components-1.10.1.tar.gz (3.4MB)\n",
            "\u001b[K     |████████████████████████████████| 3.4MB 32.0MB/s \n",
            "\u001b[?25hCollecting dash-html-components==1.0.3\n",
            "\u001b[?25l  Downloading https://files.pythonhosted.org/packages/da/20/46714ae501ccf16e5e37ca160c06e27347d19889687454168730e6744cdc/dash_html_components-1.0.3.tar.gz (187kB)\n",
            "\u001b[K     |████████████████████████████████| 194kB 32.6MB/s \n",
            "\u001b[?25hCollecting dash-table==4.8.1\n",
            "\u001b[?25l  Downloading https://files.pythonhosted.org/packages/06/2d/f326c40f3fba76034db82a08d67a9a8a4a4473ea276774a38dd7ab2136cd/dash_table-4.8.1.tar.gz (1.8MB)\n",
            "\u001b[K     |████████████████████████████████| 1.8MB 38.5MB/s \n",
            "\u001b[?25hRequirement already satisfied: future in /usr/local/lib/python3.6/dist-packages (from dash->modellogger) (0.16.0)\n",
            "Requirement already satisfied: retrying>=1.3.3 in /usr/local/lib/python3.6/dist-packages (from plotly->modellogger) (1.3.3)\n",
            "Requirement already satisfied: six in /usr/local/lib/python3.6/dist-packages (from plotly->modellogger) (1.15.0)\n",
            "Requirement already satisfied: Werkzeug>=0.15 in /usr/local/lib/python3.6/dist-packages (from Flask>=1.0.2->dash->modellogger) (1.0.1)\n",
            "Requirement already satisfied: click>=5.1 in /usr/local/lib/python3.6/dist-packages (from Flask>=1.0.2->dash->modellogger) (7.1.2)\n",
            "Requirement already satisfied: Jinja2>=2.10.1 in /usr/local/lib/python3.6/dist-packages (from Flask>=1.0.2->dash->modellogger) (2.11.2)\n",
            "Requirement already satisfied: itsdangerous>=0.24 in /usr/local/lib/python3.6/dist-packages (from Flask>=1.0.2->dash->modellogger) (1.1.0)\n",
            "Collecting brotli\n",
            "\u001b[?25l  Downloading https://files.pythonhosted.org/packages/f4/68/60a220454dc5083c6d59b41aa90bb1c96fad62a0abf3a33e0ef64b38638a/Brotli-1.0.7-cp36-cp36m-manylinux1_x86_64.whl (352kB)\n",
            "\u001b[K     |████████████████████████████████| 358kB 38.0MB/s \n",
            "\u001b[?25hRequirement already satisfied: MarkupSafe>=0.23 in /usr/local/lib/python3.6/dist-packages (from Jinja2>=2.10.1->Flask>=1.0.2->dash->modellogger) (1.1.1)\n",
            "Building wheels for collected packages: modellogger, dash, flask-compress, dash-renderer, dash-core-components, dash-html-components, dash-table\n",
            "  Building wheel for modellogger (setup.py) ... \u001b[?25l\u001b[?25hdone\n",
            "  Created wheel for modellogger: filename=modellogger-0.2.3-cp36-none-any.whl size=10032 sha256=5fc80e27dee33f39b2ccf8a812d71eed61ad9f3c3c6228bcdef407ceb3a4f682\n",
            "  Stored in directory: /root/.cache/pip/wheels/99/5e/f4/b65adf6e43b589f39880f0dc6143c73512340696e6f10b1529\n",
            "  Building wheel for dash (setup.py) ... \u001b[?25l\u001b[?25hdone\n",
            "  Created wheel for dash: filename=dash-1.13.4-cp36-none-any.whl size=74951 sha256=9e9cfa77e50606f1355c93aeaa9b276f1f7668560dd5f0413baa3dc2823c3f23\n",
            "  Stored in directory: /root/.cache/pip/wheels/a2/06/bc/5c2246621220be254683eb2689a25dcb811762e2db0de8cf66\n",
            "  Building wheel for flask-compress (setup.py) ... \u001b[?25l\u001b[?25hdone\n",
            "  Created wheel for flask-compress: filename=Flask_Compress-1.5.0-cp36-none-any.whl size=5273 sha256=839c12e9a950b78692f6902594ec54927170a7d1e357dd00e09dcd0093ed7839\n",
            "  Stored in directory: /root/.cache/pip/wheels/f7/e9/e4/5afc286be7c87461375e33152558415dfeb0c8f5af3b50e742\n",
            "  Building wheel for dash-renderer (setup.py) ... \u001b[?25l\u001b[?25hdone\n",
            "  Created wheel for dash-renderer: filename=dash_renderer-1.5.1-cp36-none-any.whl size=1182061 sha256=9b8273ff65f41de9ba92b3d78d014e1923c4036eac35c88ca5d1b380a9044507\n",
            "  Stored in directory: /root/.cache/pip/wheels/76/04/53/2bc1654437aa5ff4e4da1bb40c3e9ebf1168282a2287d516d7\n",
            "  Building wheel for dash-core-components (setup.py) ... \u001b[?25l\u001b[?25hdone\n",
            "  Created wheel for dash-core-components: filename=dash_core_components-1.10.1-cp36-none-any.whl size=3458662 sha256=23dad7d52305882189ad48a045c63f4755e906822f73673ed4893379503f9a53\n",
            "  Stored in directory: /root/.cache/pip/wheels/35/b3/67/ca79d69f2b33930e0eef9c7197daafd3bb8e7c2133785dbcde\n",
            "  Building wheel for dash-html-components (setup.py) ... \u001b[?25l\u001b[?25hdone\n",
            "  Created wheel for dash-html-components: filename=dash_html_components-1.0.3-cp36-none-any.whl size=427303 sha256=3e649542a420727494d809a1a51f1ed57b82b47c280d9daf3fe1e9dbf621db97\n",
            "  Stored in directory: /root/.cache/pip/wheels/22/c0/79/ef4c2b20a23dc8457ae75c3da5f63163db213d86e13e00fe26\n",
            "  Building wheel for dash-table (setup.py) ... \u001b[?25l\u001b[?25hdone\n",
            "  Created wheel for dash-table: filename=dash_table-4.8.1-cp36-none-any.whl size=1779391 sha256=cfb657765d234f62a49d4cf959773caddbee35211cc5e92b7abebfc0ae431add\n",
            "  Stored in directory: /root/.cache/pip/wheels/c4/17/bf/268d224583f366164cd1cf70d5fcf41ad7d584002ffd24537e\n",
            "Successfully built modellogger dash flask-compress dash-renderer dash-core-components dash-html-components dash-table\n",
            "Installing collected packages: brotli, flask-compress, dash-renderer, dash-core-components, dash-html-components, dash-table, dash, modellogger\n",
            "Successfully installed brotli-1.0.7 dash-1.13.4 dash-core-components-1.10.1 dash-html-components-1.0.3 dash-renderer-1.5.1 dash-table-4.8.1 flask-compress-1.5.0 modellogger-0.2.3\n"
          ],
          "name": "stdout"
        }
      ]
    },
    {
      "cell_type": "code",
      "metadata": {
        "id": "RQS-jxC279hj",
        "colab_type": "code",
        "colab": {}
      },
      "source": [
        "from modellogger.modellogger import ModelLogger"
      ],
      "execution_count": 2,
      "outputs": []
    },
    {
      "cell_type": "code",
      "metadata": {
        "id": "TGwxkXM37-WY",
        "colab_type": "code",
        "colab": {
          "base_uri": "https://localhost:8080/",
          "height": 34
        },
        "outputId": "c8964e89-15a4-48a4-b771-c2c6ebd34318"
      },
      "source": [
        "# create an instance of modellogger ,It will automatically setup the db for you :)\n",
        "\n",
        "mlog = ModelLogger('mydb.db')"
      ],
      "execution_count": 3,
      "outputs": [
        {
          "output_type": "stream",
          "text": [
            "Setup Completed \n"
          ],
          "name": "stdout"
        }
      ]
    },
    {
      "cell_type": "code",
      "metadata": {
        "id": "aStvShVU7_0E",
        "colab_type": "code",
        "colab": {}
      },
      "source": [
        "import numpy as np\n",
        "import pandas as pd\n",
        "from matplotlib import rcParams\n",
        "from sklearn.datasets import load_boston\n",
        "from sklearn.model_selection import train_test_split\n",
        "from sklearn.linear_model import LinearRegression\n",
        "from sklearn.metrics import mean_squared_error\n",
        "    \n",
        "boston = load_boston()\n",
        "bos = pd.DataFrame(boston.data)\n",
        "bos.columns = boston.feature_names\n",
        "bos['PRICE'] = boston.target"
      ],
      "execution_count": 4,
      "outputs": []
    },
    {
      "cell_type": "markdown",
      "metadata": {
        "id": "Faz2tvYt8F6e",
        "colab_type": "text"
      },
      "source": [
        "# Train-->Predict-->Store-->Repeat"
      ]
    },
    {
      "cell_type": "code",
      "metadata": {
        "id": "Pa_jqeoo8B3x",
        "colab_type": "code",
        "colab": {}
      },
      "source": [
        "#boston house pricing dataset\n",
        "X = bos.drop('PRICE', axis = 1)\n",
        "Y = bos['PRICE']\n",
        "X_train, X_test, Y_train, Y_test =train_test_split(X, Y, test_size = 0.33, random_state = 5)\n",
        "\n",
        "#scoring\n",
        "def score(Y_test,Y_pred):\n",
        "    return mean_squared_error(Y_test,Y_pred)\n",
        "\n",
        "#train the model as normal\n",
        "lr1 = LinearRegression()\n",
        "lr1.fit(X_train, Y_train)\n",
        "Y_pred = lr1.predict(X_test)\n",
        "\n",
        "#Store the model\n",
        "mlog.store_model('logistic_v1', lr1 , X_train , score(Y_test,Y_pred))\n",
        "mlog.store_model('linear_v2', lr1 , X_train , score(Y_test,Y_pred))"
      ],
      "execution_count": 5,
      "outputs": []
    },
    {
      "cell_type": "code",
      "metadata": {
        "id": "GgT_YVhv8D91",
        "colab_type": "code",
        "colab": {}
      },
      "source": [
        "# let's train another regression model with different set of columns\n",
        "X_train =X_train[['RM', 'AGE', 'DIS', 'RAD', 'TAX','PTRATIO', 'B', 'LSTAT']] \n",
        "X_test = X_test[['RM', 'AGE', 'DIS', 'RAD', 'TAX','PTRATIO', 'B', 'LSTAT']]\n",
        "\n",
        "lr2 = LinearRegression(n_jobs=11)\n",
        "lr2.fit(X_train,Y_train)\n",
        "Y_pred = lr2.predict(X_test)\n",
        "\n",
        "mlog.store_model( 'logistic_v2' , lr2 , X_train , score(Y_test,Y_pred))"
      ],
      "execution_count": 6,
      "outputs": []
    },
    {
      "cell_type": "code",
      "metadata": {
        "id": "xHwi9DdH8H7_",
        "colab_type": "code",
        "colab": {}
      },
      "source": [
        "#mlog.store_model( 'logistic_v3' , lr2 , X_train , score(Y_test,Y_pred))\n",
        "mlog.store_model( 'linear_v1' , lr2 , X_train , score(Y_test,Y_pred))"
      ],
      "execution_count": 7,
      "outputs": []
    },
    {
      "cell_type": "code",
      "metadata": {
        "id": "ZL9gz_r98JQ2",
        "colab_type": "code",
        "colab": {
          "base_uri": "https://localhost:8080/",
          "height": 258
        },
        "outputId": "1d3cbeaa-2d71-4afd-e6e3-14359de591d9"
      },
      "source": [
        "mlog.view_results()"
      ],
      "execution_count": 8,
      "outputs": [
        {
          "output_type": "execute_result",
          "data": {
            "text/html": [
              "<div>\n",
              "<style scoped>\n",
              "    .dataframe tbody tr th:only-of-type {\n",
              "        vertical-align: middle;\n",
              "    }\n",
              "\n",
              "    .dataframe tbody tr th {\n",
              "        vertical-align: top;\n",
              "    }\n",
              "\n",
              "    .dataframe thead th {\n",
              "        text-align: right;\n",
              "    }\n",
              "</style>\n",
              "<table border=\"1\" class=\"dataframe\">\n",
              "  <thead>\n",
              "    <tr style=\"text-align: right;\">\n",
              "      <th></th>\n",
              "      <th>Model id</th>\n",
              "      <th>Model Name</th>\n",
              "      <th>Val Score</th>\n",
              "      <th>Test Score</th>\n",
              "      <th>Num cols</th>\n",
              "      <th>Feature List</th>\n",
              "      <th>Parameters</th>\n",
              "      <th>Model_type</th>\n",
              "      <th>Model</th>\n",
              "      <th>NumCat</th>\n",
              "      <th>NumCont</th>\n",
              "      <th>Train size</th>\n",
              "    </tr>\n",
              "  </thead>\n",
              "  <tbody>\n",
              "    <tr>\n",
              "      <th>0</th>\n",
              "      <td>1</td>\n",
              "      <td>logistic_v1</td>\n",
              "      <td>28.530459</td>\n",
              "      <td>None</td>\n",
              "      <td>13</td>\n",
              "      <td>['CRIM', 'ZN', 'INDUS', 'CHAS', 'NOX', 'RM', '...</td>\n",
              "      <td>'copy_X': True, 'fit_intercept': True, 'n_jobs...</td>\n",
              "      <td>BaseEstimator</td>\n",
              "      <td>LinearRegression</td>\n",
              "      <td>7</td>\n",
              "      <td>6</td>\n",
              "      <td>339</td>\n",
              "    </tr>\n",
              "    <tr>\n",
              "      <th>1</th>\n",
              "      <td>2</td>\n",
              "      <td>linear_v2</td>\n",
              "      <td>28.530459</td>\n",
              "      <td>None</td>\n",
              "      <td>13</td>\n",
              "      <td>['CRIM', 'ZN', 'INDUS', 'CHAS', 'NOX', 'RM', '...</td>\n",
              "      <td>'copy_X': True, 'fit_intercept': True, 'n_jobs...</td>\n",
              "      <td>BaseEstimator</td>\n",
              "      <td>LinearRegression</td>\n",
              "      <td>7</td>\n",
              "      <td>6</td>\n",
              "      <td>339</td>\n",
              "    </tr>\n",
              "    <tr>\n",
              "      <th>2</th>\n",
              "      <td>3</td>\n",
              "      <td>logistic_v2</td>\n",
              "      <td>30.596226</td>\n",
              "      <td>None</td>\n",
              "      <td>8</td>\n",
              "      <td>['RM', 'AGE', 'DIS', 'RAD', 'TAX', 'PTRATIO', ...</td>\n",
              "      <td>'copy_X': True, 'fit_intercept': True, 'n_jobs...</td>\n",
              "      <td>BaseEstimator</td>\n",
              "      <td>LinearRegression</td>\n",
              "      <td>3</td>\n",
              "      <td>5</td>\n",
              "      <td>339</td>\n",
              "    </tr>\n",
              "    <tr>\n",
              "      <th>3</th>\n",
              "      <td>4</td>\n",
              "      <td>linear_v1</td>\n",
              "      <td>30.596226</td>\n",
              "      <td>None</td>\n",
              "      <td>8</td>\n",
              "      <td>['RM', 'AGE', 'DIS', 'RAD', 'TAX', 'PTRATIO', ...</td>\n",
              "      <td>'copy_X': True, 'fit_intercept': True, 'n_jobs...</td>\n",
              "      <td>BaseEstimator</td>\n",
              "      <td>LinearRegression</td>\n",
              "      <td>3</td>\n",
              "      <td>5</td>\n",
              "      <td>339</td>\n",
              "    </tr>\n",
              "  </tbody>\n",
              "</table>\n",
              "</div>"
            ],
            "text/plain": [
              "   Model id   Model Name  Val Score  ... NumCat  NumCont Train size\n",
              "0         1  logistic_v1  28.530459  ...      7        6        339\n",
              "1         2    linear_v2  28.530459  ...      7        6        339\n",
              "2         3  logistic_v2  30.596226  ...      3        5        339\n",
              "3         4    linear_v1  30.596226  ...      3        5        339\n",
              "\n",
              "[4 rows x 12 columns]"
            ]
          },
          "metadata": {
            "tags": []
          },
          "execution_count": 8
        }
      ]
    },
    {
      "cell_type": "code",
      "metadata": {
        "id": "FncWQU3X8NbR",
        "colab_type": "code",
        "colab": {}
      },
      "source": [
        "mlog.delete_model(Model_Name='logistic_v1')"
      ],
      "execution_count": 9,
      "outputs": []
    },
    {
      "cell_type": "code",
      "metadata": {
        "id": "iCTg7vv_8O66",
        "colab_type": "code",
        "colab": {}
      },
      "source": [
        "mlog.delete_model(Model_id= 4)"
      ],
      "execution_count": 10,
      "outputs": []
    },
    {
      "cell_type": "code",
      "metadata": {
        "id": "pUq-Gg3q8KQT",
        "colab_type": "code",
        "colab": {}
      },
      "source": [
        "mlog.delete_all()"
      ],
      "execution_count": 11,
      "outputs": []
    },
    {
      "cell_type": "code",
      "metadata": {
        "id": "e1M8r0ME8RWd",
        "colab_type": "code",
        "colab": {
          "base_uri": "https://localhost:8080/",
          "height": 34
        },
        "outputId": "8c64d0f9-87f5-4a34-b7b8-35741d3765fb"
      },
      "source": [
        "#sample database can be found in github modellogger.github.io/assests/sample\n",
        "#run it local machine not in colab \n",
        "\n",
        "mlog = ModelLogger('financial.db')"
      ],
      "execution_count": 13,
      "outputs": [
        {
          "output_type": "stream",
          "text": [
            "Setup Completed \n"
          ],
          "name": "stdout"
        }
      ]
    },
    {
      "cell_type": "code",
      "metadata": {
        "id": "8p6ZySF18SYU",
        "colab_type": "code",
        "colab": {
          "base_uri": "https://localhost:8080/",
          "height": 238
        },
        "outputId": "78b594a2-5efb-4c62-d78b-d2ba90ef63bb"
      },
      "source": [
        "mlog.model_profiles()"
      ],
      "execution_count": 14,
      "outputs": [
        {
          "output_type": "stream",
          "text": [
            "To Stop The Server In Jupyter Notebook Use Kernel Interrupt\n",
            "Batch Size : 0\n",
            "Dash is running on http://127.0.0.1:8050/\n",
            "\n",
            " Warning: This is a development server. Do not use app.run_server\n",
            " in production, use a production WSGI server like gunicorn instead.\n",
            "\n",
            " * Serving Flask app \"modellogger.modellogger\" (lazy loading)\n",
            " * Environment: production\n",
            "\u001b[31m   WARNING: This is a development server. Do not use it in a production deployment.\u001b[0m\n",
            "\u001b[2m   Use a production WSGI server instead.\u001b[0m\n",
            " * Debug mode: off\n"
          ],
          "name": "stdout"
        },
        {
          "output_type": "stream",
          "text": [
            " * Running on http://127.0.0.1:8050/ (Press CTRL+C to quit)\n"
          ],
          "name": "stderr"
        }
      ]
    },
    {
      "cell_type": "code",
      "metadata": {
        "id": "BVpJpSGy8XUL",
        "colab_type": "code",
        "colab": {
          "base_uri": "https://localhost:8080/",
          "height": 139
        },
        "outputId": "1fbb614f-ddf3-4834-d202-19b667529cb5"
      },
      "source": [
        "#Please refer to the documentaion if you face any issue with parameters\n",
        "mlog.info()"
      ],
      "execution_count": 15,
      "outputs": [
        {
          "output_type": "stream",
          "text": [
            "<---------------model-logger--------------->\n",
            "Description : model-logger is a Python library for storing model's profile and rapid inter model comparision./n Powered by dash and SQLITE3, It's compact ,light weight ,interactive yet powerful tool to gain usefull insights. \n",
            "Version : modellogger==0.2.3\n",
            "Documentation : https://github.com/SohamPathak/modellogger.github.io\n",
            "Requirements docs : https://github.com/SohamPathak/modellogger.github.io/blob/master/requirements.txt \n",
            "Have suggestions ? ping me up -- https://www.linkedin.com/in/kaisersoham/\n"
          ],
          "name": "stdout"
        }
      ]
    }
  ]
}