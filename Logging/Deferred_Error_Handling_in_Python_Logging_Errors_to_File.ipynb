{
  "nbformat": 4,
  "nbformat_minor": 0,
  "metadata": {
    "colab": {
      "provenance": [],
      "authorship_tag": "ABX9TyM9wS3sWD6wznhQYVcky7YL"
    },
    "kernelspec": {
      "name": "python3",
      "display_name": "Python 3"
    },
    "language_info": {
      "name": "python"
    }
  },
  "cells": [
    {
      "cell_type": "markdown",
      "source": [
        "[Reference](https://medium.com/@luzhenna/deferred-error-handling-in-python-logging-errors-to-file-11887c9a49eb)"
      ],
      "metadata": {
        "id": "TenV-gzh9FUu"
      }
    },
    {
      "cell_type": "code",
      "execution_count": 1,
      "metadata": {
        "colab": {
          "base_uri": "https://localhost:8080/",
          "height": 333
        },
        "id": "gu-dHW-k9A2N",
        "outputId": "ca132320-44cf-4a89-83c0-f5156833288f"
      },
      "outputs": [
        {
          "output_type": "stream",
          "name": "stdout",
          "text": [
            "Function starts.\n"
          ]
        },
        {
          "output_type": "error",
          "ename": "ZeroDivisionError",
          "evalue": "division by zero",
          "traceback": [
            "\u001b[0;31m---------------------------------------------------------------------------\u001b[0m",
            "\u001b[0;31mZeroDivisionError\u001b[0m                         Traceback (most recent call last)",
            "\u001b[0;32m<ipython-input-1-30211b129835>\u001b[0m in \u001b[0;36m<cell line: 13>\u001b[0;34m()\u001b[0m\n\u001b[1;32m     11\u001b[0m     \u001b[0mprint\u001b[0m\u001b[0;34m(\u001b[0m\u001b[0;34m\"Function ends.\"\u001b[0m\u001b[0;34m)\u001b[0m\u001b[0;34m\u001b[0m\u001b[0;34m\u001b[0m\u001b[0m\n\u001b[1;32m     12\u001b[0m \u001b[0;34m\u001b[0m\u001b[0m\n\u001b[0;32m---> 13\u001b[0;31m \u001b[0mmyFunction\u001b[0m\u001b[0;34m(\u001b[0m\u001b[0;34m)\u001b[0m\u001b[0;34m\u001b[0m\u001b[0;34m\u001b[0m\u001b[0m\n\u001b[0m",
            "\u001b[0;32m<ipython-input-1-30211b129835>\u001b[0m in \u001b[0;36mmyFunction\u001b[0;34m(a, b)\u001b[0m\n\u001b[1;32m      7\u001b[0m         \u001b[0mc\u001b[0m \u001b[0;34m=\u001b[0m \u001b[0ma\u001b[0m \u001b[0;34m/\u001b[0m \u001b[0mb\u001b[0m\u001b[0;34m\u001b[0m\u001b[0;34m\u001b[0m\u001b[0m\n\u001b[1;32m      8\u001b[0m     \u001b[0;32mexcept\u001b[0m \u001b[0mException\u001b[0m \u001b[0;32mas\u001b[0m \u001b[0me\u001b[0m\u001b[0;34m:\u001b[0m\u001b[0;34m\u001b[0m\u001b[0;34m\u001b[0m\u001b[0m\n\u001b[0;32m----> 9\u001b[0;31m         \u001b[0;32mraise\u001b[0m \u001b[0me\u001b[0m\u001b[0;34m\u001b[0m\u001b[0;34m\u001b[0m\u001b[0m\n\u001b[0m\u001b[1;32m     10\u001b[0m \u001b[0;34m\u001b[0m\u001b[0m\n\u001b[1;32m     11\u001b[0m     \u001b[0mprint\u001b[0m\u001b[0;34m(\u001b[0m\u001b[0;34m\"Function ends.\"\u001b[0m\u001b[0;34m)\u001b[0m\u001b[0;34m\u001b[0m\u001b[0;34m\u001b[0m\u001b[0m\n",
            "\u001b[0;32m<ipython-input-1-30211b129835>\u001b[0m in \u001b[0;36mmyFunction\u001b[0;34m(a, b)\u001b[0m\n\u001b[1;32m      5\u001b[0m \u001b[0;34m\u001b[0m\u001b[0m\n\u001b[1;32m      6\u001b[0m     \u001b[0;32mtry\u001b[0m\u001b[0;34m:\u001b[0m\u001b[0;34m\u001b[0m\u001b[0;34m\u001b[0m\u001b[0m\n\u001b[0;32m----> 7\u001b[0;31m         \u001b[0mc\u001b[0m \u001b[0;34m=\u001b[0m \u001b[0ma\u001b[0m \u001b[0;34m/\u001b[0m \u001b[0mb\u001b[0m\u001b[0;34m\u001b[0m\u001b[0;34m\u001b[0m\u001b[0m\n\u001b[0m\u001b[1;32m      8\u001b[0m     \u001b[0;32mexcept\u001b[0m \u001b[0mException\u001b[0m \u001b[0;32mas\u001b[0m \u001b[0me\u001b[0m\u001b[0;34m:\u001b[0m\u001b[0;34m\u001b[0m\u001b[0;34m\u001b[0m\u001b[0m\n\u001b[1;32m      9\u001b[0m         \u001b[0;32mraise\u001b[0m \u001b[0me\u001b[0m\u001b[0;34m\u001b[0m\u001b[0;34m\u001b[0m\u001b[0m\n",
            "\u001b[0;31mZeroDivisionError\u001b[0m: division by zero"
          ]
        }
      ],
      "source": [
        "import logging\n",
        "\n",
        "def myFunction(a=5, b=0):\n",
        "    print(\"Function starts.\")\n",
        "\n",
        "    try:\n",
        "        c = a / b\n",
        "    except Exception as e:\n",
        "        raise e\n",
        "\n",
        "    print(\"Function ends.\")\n",
        "\n",
        "myFunction()"
      ]
    },
    {
      "cell_type": "code",
      "source": [
        "import logging\n",
        "\n",
        "def myFunction(a=5, b=0):\n",
        "    print(\"Function starts.\")\n",
        "\n",
        "    try:\n",
        "        c = a / b\n",
        "    except Exception as e:\n",
        "        # raise e\n",
        "        logging.error(e, exc_info=True)\n",
        "\n",
        "    print(\"Function ends.\")\n",
        "\n",
        "myFunction()"
      ],
      "metadata": {
        "id": "psETtvOF9H4T"
      },
      "execution_count": null,
      "outputs": []
    },
    {
      "cell_type": "code",
      "source": [
        "import logging\n",
        "\n",
        "def myFunction(a=5, b=0):\n",
        "    print(\"Function starts.\")\n",
        "\n",
        "    try:\n",
        "        c = a / b\n",
        "    except Exception as e:\n",
        "        # logging.error(e, exc_info=True)\n",
        "        logging.error(e)\n",
        "\n",
        "    print(\"Function ends.\")\n",
        "\n",
        "myFunction()"
      ],
      "metadata": {
        "colab": {
          "base_uri": "https://localhost:8080/"
        },
        "id": "5Si37MsD9Izt",
        "outputId": "e39b29ee-e860-4e2e-f235-d085412bd37b"
      },
      "execution_count": 2,
      "outputs": [
        {
          "output_type": "stream",
          "name": "stderr",
          "text": [
            "ERROR:root:division by zero\n"
          ]
        },
        {
          "output_type": "stream",
          "name": "stdout",
          "text": [
            "Function starts.\n",
            "Function ends.\n"
          ]
        }
      ]
    },
    {
      "cell_type": "code",
      "source": [
        "import logging\n",
        "\n",
        "\n",
        "def myFunction(a=5, b=0):\n",
        "    print(\"Function starts.\")\n",
        "\n",
        "    try:\n",
        "        c = a / b\n",
        "    except Exception as e:\n",
        "        # logging.error(e, exc_info=True)\n",
        "        logging.exception(e)\n",
        "\n",
        "    print(\"Function ends.\")\n",
        "\n",
        "\n",
        "myFunction()"
      ],
      "metadata": {
        "colab": {
          "base_uri": "https://localhost:8080/"
        },
        "id": "vbAjBjVy9Knz",
        "outputId": "8a1874fb-f7ff-4849-ccea-95b59a044018"
      },
      "execution_count": 3,
      "outputs": [
        {
          "output_type": "stream",
          "name": "stderr",
          "text": [
            "ERROR:root:division by zero\n",
            "Traceback (most recent call last):\n",
            "  File \"<ipython-input-3-1f1cf7f3445e>\", line 8, in myFunction\n",
            "    c = a / b\n",
            "ZeroDivisionError: division by zero\n"
          ]
        },
        {
          "output_type": "stream",
          "name": "stdout",
          "text": [
            "Function starts.\n",
            "Function ends.\n"
          ]
        }
      ]
    },
    {
      "cell_type": "code",
      "source": [
        "# %%\n",
        "import logging\n",
        "\n",
        "# %%\n",
        "logging.basicConfig(\n",
        "    filename=\"myErrorLog.txt\",\n",
        "    level=logging.ERROR,\n",
        "    format=\"%(asctime)s:%(filename)s - %(funcName)s:%(lineno)s - %(message)s\",\n",
        ")\n",
        "logger = logging.getLogger(__name__)\n",
        "\n",
        "\n",
        "def myFunction(a: int, b: int):\n",
        "    print(\"Function starts.\")\n",
        "\n",
        "    try:\n",
        "        c = a / b\n",
        "    except ZeroDivisionError as e:\n",
        "        logger.error(f\"{e} \\na={a}, b={b}\")\n",
        "    except Exception as e:\n",
        "        logger.error(f\"{e} \\na={a}, b={b}\", exc_info=True)\n",
        "\n",
        "    print(\"Function ends.\")\n",
        "\n",
        "\n",
        "# %%\n",
        "myFunction(a=5, b=0) # will trigger the ZeroDivisionError\n",
        "# %%\n",
        "myFunction(a=5, b=\"str\") # will trigger the last exception case"
      ],
      "metadata": {
        "colab": {
          "base_uri": "https://localhost:8080/"
        },
        "id": "4aqnJW6g9MVq",
        "outputId": "fb4a9971-e95c-4fd3-fe38-e243c5a96727"
      },
      "execution_count": 4,
      "outputs": [
        {
          "output_type": "stream",
          "name": "stderr",
          "text": [
            "ERROR:__main__:division by zero \n",
            "a=5, b=0\n",
            "ERROR:__main__:unsupported operand type(s) for /: 'int' and 'str' \n",
            "a=5, b=str\n",
            "Traceback (most recent call last):\n",
            "  File \"<ipython-input-4-f1567c385843>\", line 17, in myFunction\n",
            "    c = a / b\n",
            "TypeError: unsupported operand type(s) for /: 'int' and 'str'\n"
          ]
        },
        {
          "output_type": "stream",
          "name": "stdout",
          "text": [
            "Function starts.\n",
            "Function ends.\n",
            "Function starts.\n",
            "Function ends.\n"
          ]
        }
      ]
    }
  ]
}
