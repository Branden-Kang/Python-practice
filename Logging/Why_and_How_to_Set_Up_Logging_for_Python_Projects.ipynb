{
  "nbformat": 4,
  "nbformat_minor": 0,
  "metadata": {
    "colab": {
      "provenance": [],
      "authorship_tag": "ABX9TyNnOniVUTEvV4QVR+JqeY84"
    },
    "kernelspec": {
      "name": "python3",
      "display_name": "Python 3"
    },
    "language_info": {
      "name": "python"
    }
  },
  "cells": [
    {
      "cell_type": "markdown",
      "source": [
        "[Reference](https://towardsdatascience.com/why-and-how-to-set-up-logging-for-python-projects-bcdd4a374c7a)"
      ],
      "metadata": {
        "id": "ThD_ZpFK4iip"
      }
    },
    {
      "cell_type": "code",
      "execution_count": 1,
      "metadata": {
        "colab": {
          "base_uri": "https://localhost:8080/"
        },
        "id": "P6dxknxw4f8j",
        "outputId": "6bffcd03-35e5-422b-bd5b-51de228a5b88"
      },
      "outputs": [
        {
          "output_type": "stream",
          "name": "stderr",
          "text": [
            "2023-01-02 13:18:53,366 - INFO - __main__ - Program started\n",
            "INFO:__main__:Program started\n",
            "2023-01-02 13:18:53,373 - INFO - __main__ - Pre-processing data\n",
            "INFO:__main__:Pre-processing data\n",
            "2023-01-02 13:18:53,377 - INFO - __main__ - Data pre-processing complete\n",
            "INFO:__main__:Data pre-processing complete\n",
            "2023-01-02 13:18:53,383 - INFO - __main__ - Training model\n",
            "INFO:__main__:Training model\n",
            "2023-01-02 13:18:53,387 - INFO - __main__ - Model training complete\n",
            "INFO:__main__:Model training complete\n",
            "2023-01-02 13:18:53,392 - INFO - __main__ - Program finished\n",
            "INFO:__main__:Program finished\n"
          ]
        }
      ],
      "source": [
        "# src/main.py\n",
        "import logging\n",
        "import sys\n",
        "\n",
        "# instantiate logger\n",
        "logger = logging.getLogger(__name__)\n",
        "logger.setLevel(logging.INFO)\n",
        "\n",
        "def process_data():\n",
        "    \"\"\"Dummy data processing function\"\"\"\n",
        "    logger.info(\"Pre-processing data\")\n",
        "    # data preprocessing code here...\n",
        "    logger.info(\"Data pre-processing complete\")\n",
        "    \n",
        "def train():\n",
        "    \"\"\"Dummy training function\"\"\"\n",
        "    logger.info(\"Training model\")\n",
        "    # model training code here\n",
        "    logger.info(\"Model training complete\")\n",
        "\n",
        "# define handler and formatter\n",
        "handler = logging.StreamHandler()\n",
        "formatter = logging.Formatter(\"%(asctime)s - %(levelname)s - %(name)s - %(message)s\")\n",
        "\n",
        "# add formatter to handler\n",
        "handler.setFormatter(formatter)\n",
        "\n",
        "# add handler to logger\n",
        "logger.addHandler(handler)\n",
        "\n",
        "\n",
        "if __name__ == \"__main__\":\n",
        "    logger.info(\"Program started\")\n",
        "    process_data()\n",
        "    train()\n",
        "    logger.info(\"Program finished\")"
      ]
    },
    {
      "cell_type": "code",
      "source": [
        "# [loggers]\n",
        "# keys=root,file\n",
        "\n",
        "# [handlers]\n",
        "# keys=console,file\n",
        "\n",
        "# [formatters]\n",
        "# keys=console,file\n",
        "\n",
        "# [logger_root]\n",
        "# level=DEBUG\n",
        "# handlers=console,file\n",
        "\n",
        "# [logger_file]\n",
        "# level=DEBUG\n",
        "# handlers=file\n",
        "# qualname=file\n",
        "\n",
        "# [handler_console]\n",
        "# class=StreamHandler\n",
        "# level=DEBUG\n",
        "# formatter=console\n",
        "# args=(sys.stdout,)\n",
        "\n",
        "# [handler_file]\n",
        "# class=FileHandler\n",
        "# level=DEBUG\n",
        "# formatter=file\n",
        "# args=('%(logfilename)s','w',)\n",
        "\n",
        "# [formatter_console]\n",
        "# format=%(asctime)s - %(levelname)s - %(name)s - %(message)s\n",
        "\n",
        "# [formatter_file]\n",
        "# format=%(asctime)s - %(levelname)s - %(name)s - %(funcName)s:%(lineno)d - %(message)s"
      ],
      "metadata": {
        "id": "eUwJ6L365s2X"
      },
      "execution_count": 2,
      "outputs": []
    },
    {
      "cell_type": "code",
      "source": [
        "pip install python-dotenv"
      ],
      "metadata": {
        "colab": {
          "base_uri": "https://localhost:8080/"
        },
        "id": "mMFK1Ozt5_jv",
        "outputId": "1dce3f1d-74e2-412f-ab75-9fe47479a8df"
      },
      "execution_count": 3,
      "outputs": [
        {
          "output_type": "stream",
          "name": "stdout",
          "text": [
            "Looking in indexes: https://pypi.org/simple, https://us-python.pkg.dev/colab-wheels/public/simple/\n",
            "Collecting python-dotenv\n",
            "  Downloading python_dotenv-0.21.0-py3-none-any.whl (18 kB)\n",
            "Installing collected packages: python-dotenv\n",
            "Successfully installed python-dotenv-0.21.0\n"
          ]
        }
      ]
    },
    {
      "cell_type": "code",
      "source": [
        "# # src/main.py\n",
        "# import logging\n",
        "# import logging.config\n",
        "# import os\n",
        "# from datetime import datetime\n",
        "\n",
        "# from dotenv import find_dotenv, load_dotenv\n",
        "\n",
        "# # find .env file in parent directory\n",
        "# env_file = find_dotenv()\n",
        "# load_dotenv()\n",
        "\n",
        "# CONFIG_DIR = \"./config\"\n",
        "# LOG_DIR = \"./logs\"\n",
        "\n",
        "\n",
        "# def setup_logging():\n",
        "#     \"\"\"Load logging configuration\"\"\"\n",
        "#     log_configs = {\"dev\": \"logging.dev.ini\", \"prod\": \"logging.prod.ini\"}\n",
        "#     config = log_configs.get(os.environ[\"ENV\"], \"logging.dev.ini\")\n",
        "#     config_path = \"/\".join([CONFIG_DIR, config])\n",
        "\n",
        "#     timestamp = datetime.now().strftime(\"%Y%m%d-%H:%M:%S\")\n",
        "\n",
        "#     logging.config.fileConfig(\n",
        "#         config_path,\n",
        "#         disable_existing_loggers=False,\n",
        "#         defaults={\"logfilename\": f\"{LOG_DIR}/{timestamp}.log\"},\n",
        "#     )\n",
        "\n",
        "\n",
        "# if __name__ == \"__main__\":\n",
        "\n",
        "#     setup_logging()\n",
        "#     logger = logging.getLogger(__name__)\n",
        "\n",
        "#     logger.info(\"Program started\")\n",
        "#     process_data()\n",
        "#     train()\n",
        "#     logger.info(\"Program finished\")"
      ],
      "metadata": {
        "id": "nhQQM4_p4k1F"
      },
      "execution_count": 4,
      "outputs": []
    }
  ]
}
