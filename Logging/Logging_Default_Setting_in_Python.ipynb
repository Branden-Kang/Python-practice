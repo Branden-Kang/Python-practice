{
  "nbformat": 4,
  "nbformat_minor": 0,
  "metadata": {
    "colab": {
      "provenance": [],
      "authorship_tag": "ABX9TyP8M8/NJHykZkr3JXOq4OH+"
    },
    "kernelspec": {
      "name": "python3",
      "display_name": "Python 3"
    },
    "language_info": {
      "name": "python"
    }
  },
  "cells": [
    {
      "cell_type": "markdown",
      "source": [
        "[Reference](https://python.plainenglish.io/logging-in-python-3df84ce78cef)"
      ],
      "metadata": {
        "id": "W3N48z1_Q8ar"
      }
    },
    {
      "cell_type": "code",
      "execution_count": 1,
      "metadata": {
        "colab": {
          "base_uri": "https://localhost:8080/"
        },
        "id": "gHFmgHhdQ2bG",
        "outputId": "71ada393-29c7-4eb0-dba9-1a9dc834e0a4"
      },
      "outputs": [
        {
          "output_type": "stream",
          "name": "stderr",
          "text": [
            "WARNING:root:WARNING\n",
            "ERROR:root:ERROR\n",
            "CRITICAL:root:CRITICAL\n"
          ]
        }
      ],
      "source": [
        "import logging\n",
        "\n",
        "logging.debug('DEBUG')\n",
        "logging.info('INFO')\n",
        "logging.warning('WARNING')\n",
        "logging.error('ERROR')\n",
        "logging.critical('CRITICAL')"
      ]
    },
    {
      "cell_type": "code",
      "source": [
        "import logging\n",
        "\n",
        "logging.basicConfig(level=logging.DEBUG)\n",
        "logging.debug('DEBUG')\n",
        "logging.info('INFO')\n",
        "logging.warning('WARNING')\n",
        "logging.error('ERROR')\n",
        "logging.critical('CRITICAL')"
      ],
      "metadata": {
        "colab": {
          "base_uri": "https://localhost:8080/"
        },
        "id": "_wDBTQ28Q_o2",
        "outputId": "3fc39863-e5a3-46a3-e061-2af9796f5125"
      },
      "execution_count": 2,
      "outputs": [
        {
          "output_type": "stream",
          "name": "stderr",
          "text": [
            "WARNING:root:WARNING\n",
            "ERROR:root:ERROR\n",
            "CRITICAL:root:CRITICAL\n"
          ]
        }
      ]
    }
  ]
}
