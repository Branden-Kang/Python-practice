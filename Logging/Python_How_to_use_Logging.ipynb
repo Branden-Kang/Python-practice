{
  "nbformat": 4,
  "nbformat_minor": 0,
  "metadata": {
    "colab": {
      "provenance": [],
      "authorship_tag": "ABX9TyNuRGkUYbrnYOfuPFrR8+Sb"
    },
    "kernelspec": {
      "name": "python3",
      "display_name": "Python 3"
    },
    "language_info": {
      "name": "python"
    }
  },
  "cells": [
    {
      "cell_type": "markdown",
      "source": [
        "[Reference](https://towardsdev.com/logging-in-python-6fc51c1e21c8)"
      ],
      "metadata": {
        "id": "t2WPptg8YYJq"
      }
    },
    {
      "cell_type": "code",
      "execution_count": 1,
      "metadata": {
        "colab": {
          "base_uri": "https://localhost:8080/"
        },
        "id": "5IXepJdRYWi2",
        "outputId": "68b6a007-3195-476d-d1fb-969963f18f84"
      },
      "outputs": [
        {
          "output_type": "stream",
          "name": "stderr",
          "text": [
            "WARNING:root:lets log\n"
          ]
        }
      ],
      "source": [
        "import logging\n",
        "logging.warning('lets log')"
      ]
    },
    {
      "cell_type": "code",
      "source": [
        "import logging\n",
        "\n",
        "logger = logging.getLogger()\n",
        "logger.debug('Debug message')\n",
        "logger.info('Info message')\n",
        "logger.warning('Warning message')\n",
        "logger.error('Error message')\n",
        "logger.critical('Critical message')"
      ],
      "metadata": {
        "colab": {
          "base_uri": "https://localhost:8080/"
        },
        "id": "Snn9m_KhYgkJ",
        "outputId": "3e4a67e6-6080-481e-d202-65520160d18b"
      },
      "execution_count": 4,
      "outputs": [
        {
          "output_type": "stream",
          "name": "stderr",
          "text": [
            "WARNING:root:Warning message\n",
            "ERROR:root:Error message\n",
            "CRITICAL:root:Critical message\n"
          ]
        }
      ]
    },
    {
      "cell_type": "code",
      "source": [
        "import logging\n",
        "logger = logging.getLogger()\n",
        "logger.setLevel(logging.DEBUG)\n",
        "logger.debug('Debug message')\n",
        "logger.info('Info message')\n",
        "logger.warning('Warning message')\n",
        "logger.error('Error message')\n",
        "logger.critical('Critical message')"
      ],
      "metadata": {
        "colab": {
          "base_uri": "https://localhost:8080/"
        },
        "id": "6QxWQ8RlYjpk",
        "outputId": "3abefa8c-2f5c-4535-aecc-66bec8cc216b"
      },
      "execution_count": 5,
      "outputs": [
        {
          "output_type": "stream",
          "name": "stderr",
          "text": [
            "DEBUG:root:Debug message\n",
            "INFO:root:Info message\n",
            "WARNING:root:Warning message\n",
            "ERROR:root:Error message\n",
            "CRITICAL:root:Critical message\n"
          ]
        }
      ]
    },
    {
      "cell_type": "code",
      "source": [
        "import logging\n",
        "logger = logging.getLogger(\"Mylogger\")\n",
        "logger.setLevel(logging.DEBUG)\n",
        "logging.basicConfig(format='%(asctime)s - %(name)s - %(levelname)s - %(message)s')\n",
        "logger.debug('Debug message')\n",
        "logger.info('Info message')\n",
        "logger.warning('Warning message')\n",
        "logger.error('Error message')\n",
        "logger.critical('Critical message')"
      ],
      "metadata": {
        "colab": {
          "base_uri": "https://localhost:8080/"
        },
        "id": "kUCnj_RSYumE",
        "outputId": "1b27c373-f46d-4aa0-d78e-e8a380f8164b"
      },
      "execution_count": 7,
      "outputs": [
        {
          "output_type": "stream",
          "name": "stderr",
          "text": [
            "DEBUG:Mylogger:Debug message\n",
            "INFO:Mylogger:Info message\n",
            "WARNING:Mylogger:Warning message\n",
            "ERROR:Mylogger:Error message\n",
            "CRITICAL:Mylogger:Critical message\n"
          ]
        }
      ]
    },
    {
      "cell_type": "code",
      "source": [
        "import logging\n",
        "logger = logging.getLogger(\"Mylogger\")\n",
        "logger.setLevel(logging.DEBUG)\n",
        "logging.basicConfig(format='%(asctime)s - %(name)s - %(levelname)s - %(message)s')\n",
        "dummy_msg= \"Test\"\n",
        "logger.debug(f'{dummy_msg} Debug message')\n",
        "logger.info(f'{dummy_msg} Info message')\n",
        "logger.warning(f'{dummy_msg} Warning message')\n",
        "logger.error(f'{dummy_msg} Error message')\n",
        "logger.critical(f'{dummy_msg} Critical message')"
      ],
      "metadata": {
        "colab": {
          "base_uri": "https://localhost:8080/"
        },
        "id": "4bct2EOYY3Sy",
        "outputId": "5ef807dc-20f4-467d-cb6e-4edac81f1886"
      },
      "execution_count": 8,
      "outputs": [
        {
          "output_type": "stream",
          "name": "stderr",
          "text": [
            "DEBUG:Mylogger:Test Debug message\n",
            "INFO:Mylogger:Test Info message\n",
            "WARNING:Mylogger:Test Warning message\n",
            "ERROR:Mylogger:Test Error message\n",
            "CRITICAL:Mylogger:Test Critical message\n"
          ]
        }
      ]
    },
    {
      "cell_type": "code",
      "source": [
        "import logging\n",
        "from datetime import datetime\n",
        "\n",
        "logger = logging.getLogger('Mylogger')\n",
        "logger.setLevel(logging.DEBUG)\n",
        "\n",
        "# create console handler with a DEBUG log level\n",
        "console_handler = logging.StreamHandler()\n",
        "console_handler.setLevel(logging.DEBUG)\n",
        "\n",
        "# create file handler which logs even WARNING messages\n",
        "filename = \"test_\"+ datetime.now().strftime(\"%Y-%m-%d %H:%M:%S\") + \".log\"\n",
        "file_handler = logging.FileHandler(filename, mode=\"a\") #'a' for append we can use 'w' for write\n",
        "file_handler.setLevel(logging.WARNING)\n",
        "\n",
        "# create formatter and add it to the handlers\n",
        "formatter = logging.Formatter(\n",
        "    '%(asctime)s - %(name)s - %(levelname)s - %(message)s',\n",
        "    \"%Y-%M-%d %H:%M:%S\")\n",
        "console_handler.setFormatter(formatter)\n",
        "file_handler.setFormatter(formatter)\n",
        "\n",
        "\n",
        "# add the handlers to logger\n",
        "logger.addHandler(console_handler)\n",
        "logger.addHandler(file_handler)\n",
        "\n",
        "dummy_msg= \"Test\"\n",
        "\n",
        "logger.debug(f'{dummy_msg} Debug message')\n",
        "logger.info(f'{dummy_msg} Info message')\n",
        "logger.warning(f'{dummy_msg} Warning message')\n",
        "logger.error(f'{dummy_msg} Error message')\n",
        "logger.critical(f'{dummy_msg} Critical message')"
      ],
      "metadata": {
        "colab": {
          "base_uri": "https://localhost:8080/"
        },
        "id": "8L-3kqwDZEEV",
        "outputId": "09988c91-fe95-4b45-db7e-1c5b680a30e6"
      },
      "execution_count": 9,
      "outputs": [
        {
          "output_type": "stream",
          "name": "stderr",
          "text": [
            "2023-05-28 05:05:36 - Mylogger - DEBUG - Test Debug message\n",
            "DEBUG:Mylogger:Test Debug message\n",
            "2023-05-28 05:05:36 - Mylogger - INFO - Test Info message\n",
            "INFO:Mylogger:Test Info message\n",
            "2023-05-28 05:05:36 - Mylogger - WARNING - Test Warning message\n",
            "WARNING:Mylogger:Test Warning message\n",
            "2023-05-28 05:05:36 - Mylogger - ERROR - Test Error message\n",
            "ERROR:Mylogger:Test Error message\n",
            "2023-05-28 05:05:36 - Mylogger - CRITICAL - Test Critical message\n",
            "CRITICAL:Mylogger:Test Critical message\n"
          ]
        }
      ]
    }
  ]
}
