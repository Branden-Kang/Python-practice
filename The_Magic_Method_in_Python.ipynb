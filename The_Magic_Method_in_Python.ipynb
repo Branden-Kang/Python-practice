{
  "nbformat": 4,
  "nbformat_minor": 0,
  "metadata": {
    "colab": {
      "provenance": [],
      "authorship_tag": "ABX9TyPEwI/xigLptY2XeXdfW1Bv"
    },
    "kernelspec": {
      "name": "python3",
      "display_name": "Python 3"
    },
    "language_info": {
      "name": "python"
    }
  },
  "cells": [
    {
      "cell_type": "markdown",
      "source": [
        "[Reference](https://swathiarun63.medium.com/the-magic-method-in-python-c2b29062fe42)"
      ],
      "metadata": {
        "id": "xcXzwIqFQXzv"
      }
    },
    {
      "cell_type": "code",
      "execution_count": 2,
      "metadata": {
        "colab": {
          "base_uri": "https://localhost:8080/"
        },
        "id": "tTVoKKG2P78t",
        "outputId": "407a2d0c-d988-495a-f131-33cb4f5c72da"
      },
      "outputs": [
        {
          "output_type": "stream",
          "name": "stdout",
          "text": [
            "110\n",
            "110\n"
          ]
        }
      ],
      "source": [
        "num = 100\n",
        "result = num + 10\n",
        "result1 = num.__add__(10)\n",
        "print(result)\n",
        "print(result1)"
      ]
    },
    {
      "cell_type": "code",
      "source": [
        "class name:\n",
        "    pass\n",
        "    \n",
        "#create an example object\n",
        "object= name\n",
        "\n",
        "#print all directory\n",
        "print(dir(object))"
      ],
      "metadata": {
        "colab": {
          "base_uri": "https://localhost:8080/"
        },
        "id": "0_XKyoF_QaGX",
        "outputId": "1a7fe8b9-6987-40d4-a3f5-7d7fe1ad8d75"
      },
      "execution_count": 3,
      "outputs": [
        {
          "output_type": "stream",
          "name": "stdout",
          "text": [
            "['__class__', '__delattr__', '__dict__', '__dir__', '__doc__', '__eq__', '__format__', '__ge__', '__getattribute__', '__gt__', '__hash__', '__init__', '__init_subclass__', '__le__', '__lt__', '__module__', '__ne__', '__new__', '__reduce__', '__reduce_ex__', '__repr__', '__setattr__', '__sizeof__', '__str__', '__subclasshook__', '__weakref__']\n"
          ]
        }
      ]
    },
    {
      "cell_type": "code",
      "source": [
        "class Example:\n",
        "    def __init__(self,x,y):\n",
        "        self.x = x\n",
        "        self.y = y\n",
        "\n",
        "    def __str__(self):\n",
        "        return \"({0},{1})\".format(self.x, self.y)\n",
        "\n",
        "    def __add__(self, other):\n",
        "        return Example(self.x +other.x, self.y+other.y)\n",
        "\n",
        "\n",
        "object1 = Example(1,2)\n",
        "object2 = Example(3,4)\n",
        "object3 = object1+object2\n",
        "print (object3)"
      ],
      "metadata": {
        "colab": {
          "base_uri": "https://localhost:8080/"
        },
        "id": "owgr3vL2Qmrg",
        "outputId": "30fe61ba-de9f-42ae-c32d-6e9af91d708a"
      },
      "execution_count": 4,
      "outputs": [
        {
          "output_type": "stream",
          "name": "stdout",
          "text": [
            "(4,6)\n"
          ]
        }
      ]
    }
  ]
}