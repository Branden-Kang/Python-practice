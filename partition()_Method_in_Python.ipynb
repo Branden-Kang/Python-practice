{
  "nbformat": 4,
  "nbformat_minor": 0,
  "metadata": {
    "colab": {
      "name": "partition() Method in Python.ipynb",
      "provenance": [],
      "authorship_tag": "ABX9TyNJXikqOEC0VrGYkidvwIlo"
    },
    "kernelspec": {
      "name": "python3",
      "display_name": "Python 3"
    },
    "language_info": {
      "name": "python"
    }
  },
  "cells": [
    {
      "cell_type": "markdown",
      "metadata": {
        "id": "FPFJJN6hPXaM"
      },
      "source": [
        "[Reference](https://betterprogramming.pub/what-is-the-partition-method-in-python-26c0b19c9890)"
      ]
    },
    {
      "cell_type": "code",
      "metadata": {
        "colab": {
          "base_uri": "https://localhost:8080/",
          "height": 232
        },
        "id": "YPa0mJUVO2CJ",
        "outputId": "c4d8d115-fb85-4e11-e56c-51e75e0b252a"
      },
      "source": [
        "myString.partition() # valid\n",
        "\"Python\".partition() # valid\n",
        "partition(myString)  # invalid"
      ],
      "execution_count": 6,
      "outputs": [
        {
          "output_type": "error",
          "ename": "TypeError",
          "evalue": "ignored",
          "traceback": [
            "\u001b[0;31m---------------------------------------------------------------------------\u001b[0m",
            "\u001b[0;31mTypeError\u001b[0m                                 Traceback (most recent call last)",
            "\u001b[0;32m<ipython-input-6-f6e36e4ad4ab>\u001b[0m in \u001b[0;36m<module>\u001b[0;34m()\u001b[0m\n\u001b[0;32m----> 1\u001b[0;31m \u001b[0mmyString\u001b[0m\u001b[0;34m.\u001b[0m\u001b[0mpartition\u001b[0m\u001b[0;34m(\u001b[0m\u001b[0;34m)\u001b[0m \u001b[0;31m# valid\u001b[0m\u001b[0;34m\u001b[0m\u001b[0;34m\u001b[0m\u001b[0m\n\u001b[0m\u001b[1;32m      2\u001b[0m \u001b[0;34m\"Python\"\u001b[0m\u001b[0;34m.\u001b[0m\u001b[0mpartition\u001b[0m\u001b[0;34m(\u001b[0m\u001b[0;34m)\u001b[0m \u001b[0;31m# valid\u001b[0m\u001b[0;34m\u001b[0m\u001b[0;34m\u001b[0m\u001b[0m\n\u001b[1;32m      3\u001b[0m \u001b[0mpartition\u001b[0m\u001b[0;34m(\u001b[0m\u001b[0mmyString\u001b[0m\u001b[0;34m)\u001b[0m  \u001b[0;31m# invalid\u001b[0m\u001b[0;34m\u001b[0m\u001b[0;34m\u001b[0m\u001b[0m\n",
            "\u001b[0;31mTypeError\u001b[0m: partition() takes exactly one argument (0 given)"
          ]
        }
      ]
    },
    {
      "cell_type": "code",
      "metadata": {
        "colab": {
          "base_uri": "https://localhost:8080/"
        },
        "id": "hKyzIGHxP508",
        "outputId": "53b5a470-d6a0-43f2-8f1e-16d274dbec32"
      },
      "source": [
        "myString.partition(\"search string\")"
      ],
      "execution_count": 7,
      "outputs": [
        {
          "output_type": "execute_result",
          "data": {
            "text/plain": [
              "(\"If this is all a dream, don't wake me up\", '', '')"
            ]
          },
          "metadata": {
            "tags": []
          },
          "execution_count": 7
        }
      ]
    },
    {
      "cell_type": "code",
      "metadata": {
        "colab": {
          "base_uri": "https://localhost:8080/",
          "height": 54
        },
        "id": "lNN1ya15P6y2",
        "outputId": "1ce93de9-fbae-464a-960f-a6df52416de8"
      },
      "source": [
        "myString = \"If this is all a dream, don't wake me up\"\n",
        "print(myString.partition(\"all\"))\n",
        "\"\"\"\n",
        "(\n",
        "  \"If this is \"\n",
        "  \"all\"\n",
        "  \" a dream, don't wake me up\"\n",
        ")\n",
        "\"\"\""
      ],
      "execution_count": 8,
      "outputs": [
        {
          "output_type": "stream",
          "text": [
            "('If this is ', 'all', \" a dream, don't wake me up\")\n"
          ],
          "name": "stdout"
        },
        {
          "output_type": "execute_result",
          "data": {
            "application/vnd.google.colaboratory.intrinsic+json": {
              "type": "string"
            },
            "text/plain": [
              "'\\n(\\n  \"If this is \"\\n  \"all\"\\n  \" a dream, don\\'t wake me up\"\\n)\\n'"
            ]
          },
          "metadata": {
            "tags": []
          },
          "execution_count": 8
        }
      ]
    },
    {
      "cell_type": "code",
      "metadata": {
        "colab": {
          "base_uri": "https://localhost:8080/",
          "height": 54
        },
        "id": "d71D7Zc9P8SJ",
        "outputId": "e68078ed-f3b7-43d9-ae96-567f8173bfee"
      },
      "source": [
        "myString = \"If this is all a dream, don't wake me up\"\n",
        "print(myString.partition(\"Cloud\"))\n",
        "\"\"\"\n",
        "(\n",
        "  \"If this is all a dream, don't wake me up\"\n",
        "  \"\"\n",
        "  \"\"\n",
        ")\n",
        "\"\"\""
      ],
      "execution_count": 5,
      "outputs": [
        {
          "output_type": "stream",
          "text": [
            "(\"If this is all a dream, don't wake me up\", '', '')\n"
          ],
          "name": "stdout"
        },
        {
          "output_type": "execute_result",
          "data": {
            "application/vnd.google.colaboratory.intrinsic+json": {
              "type": "string"
            },
            "text/plain": [
              "'\\n(\\n  \"If this is all a dream, don\\'t wake me up\"\\n  \"\"\\n  \"\"\\n)\\n'"
            ]
          },
          "metadata": {
            "tags": []
          },
          "execution_count": 5
        }
      ]
    }
  ]
}