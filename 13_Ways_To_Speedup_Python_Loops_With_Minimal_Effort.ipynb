{
  "nbformat": 4,
  "nbformat_minor": 0,
  "metadata": {
    "colab": {
      "provenance": [],
      "authorship_tag": "ABX9TyNE9tzopjT0CZVnpwHgdkrB"
    },
    "kernelspec": {
      "name": "python3",
      "display_name": "Python 3"
    },
    "language_info": {
      "name": "python"
    }
  },
  "cells": [
    {
      "cell_type": "markdown",
      "source": [
        "[Reference](https://medium.com/@nirmalya.ghosh/13-ways-to-speedup-python-loops-e3ee56cd6b73)"
      ],
      "metadata": {
        "id": "nrdIbUtsgAq8"
      }
    },
    {
      "cell_type": "code",
      "execution_count": 1,
      "metadata": {
        "id": "3GdYJSvCfcah"
      },
      "outputs": [],
      "source": [
        "# Baseline version (Inefficient way)\n",
        "# Calculating the power of numbers\n",
        "# Without using List Comprehension\n",
        "def test_01_v0(numbers):\n",
        "  output = []\n",
        "  for n in numbers:\n",
        "      output.append(n ** 2.5)\n",
        "  return output\n",
        "\n",
        "# Improved version\n",
        "# (Using List Comprehension)\n",
        "def test_01_v1(numbers):\n",
        "  return [n ** 2.5 for n in numbers]"
      ]
    },
    {
      "cell_type": "code",
      "source": [
        "# Baseline version (Inefficient way)\n",
        "# (Length calculation inside for loop)\n",
        "def test_02_v0(numbers):\n",
        "  output_list = []\n",
        "  for i in range(len(numbers)):\n",
        "    output_list.append(i * 2)\n",
        "  return output_list\n",
        "\n",
        "# Improved version\n",
        "# (Length calculation outside for loop)\n",
        "def test_02_v1(numbers):\n",
        "  my_list_length = len(numbers)\n",
        "  output_list = []\n",
        "  for i in range(my_list_length):\n",
        "    output_list.append(i * 2)\n",
        "  return output_list"
      ],
      "metadata": {
        "id": "R1SmgT-fgEkK"
      },
      "execution_count": 2,
      "outputs": []
    },
    {
      "cell_type": "code",
      "source": [
        "# Use for loops for nested lookups\n",
        "def test_03_v0(list_1, list_2):\n",
        "  # Baseline version (Inefficient way)\n",
        "  # (nested lookups using for loop)\n",
        "  common_items = []\n",
        "  for item in list_1:\n",
        "      if item in list_2:\n",
        "          common_items.append(item)\n",
        "  return common_items\n",
        "\n",
        "def test_03_v1(list_1, list_2):\n",
        "  # Improved version\n",
        "  # (sets to replace nested lookups)\n",
        "  s_1 = set(list_1)\n",
        "  s_2 = set(list_2)\n",
        "  common_items = s_1.intersection(s_2)\n",
        "  return common_items"
      ],
      "metadata": {
        "id": "8A4eO8ucgGoz"
      },
      "execution_count": 3,
      "outputs": []
    },
    {
      "cell_type": "code",
      "source": [
        "# Example of inefficient code used to find\n",
        "# the first even square in a list of numbers\n",
        "def function_do_something(numbers):\n",
        "  for n in numbers:\n",
        "    square = n * n\n",
        "    if square % 2 == 0:\n",
        "        return square\n",
        "\n",
        "  return None  # No even square found\n",
        "\n",
        "# Example of improved code that\n",
        "# finds result without redundant computations\n",
        "def function_do_something_v1(numbers):\n",
        "  even_numbers = [n for n in numbers if n%2==0]\n",
        "  for n in even_numbers:\n",
        "    square = n * n\n",
        "    return square\n",
        "\n",
        "  return None  # No even square found"
      ],
      "metadata": {
        "id": "jzUkNGA_gH1U"
      },
      "execution_count": 4,
      "outputs": []
    },
    {
      "cell_type": "code",
      "source": [
        "# Example of inefficient code\n",
        "# Loop that calls the is_prime function n times.\n",
        "def is_prime(n):\n",
        "  if n <= 1:\n",
        "    return False\n",
        "  for i in range(2, int(n**0.5) + 1):\n",
        "    if n % i == 0:\n",
        "      return False\n",
        "\n",
        "  return True\n",
        "\n",
        "def test_05_v0(n):\n",
        "  # Baseline version (Inefficient way)\n",
        "  # (calls the is_prime function n times)\n",
        "  count = 0\n",
        "  for i in range(2, n + 1):\n",
        "    if is_prime(i):\n",
        "      count += 1\n",
        "  return count\n",
        "\n",
        "def test_05_v1(n):\n",
        "  # Improved version\n",
        "  # (inlines the logic of the is_prime function)\n",
        "  count = 0\n",
        "  for i in range(2, n + 1):\n",
        "    if i <= 1:\n",
        "      continue\n",
        "    for j in range(2, int(i**0.5) + 1):\n",
        "      if i % j == 0:\n",
        "        break\n",
        "    else:\n",
        "      count += 1\n",
        "  return count"
      ],
      "metadata": {
        "id": "jrwjGvP1gJcv"
      },
      "execution_count": 5,
      "outputs": []
    },
    {
      "cell_type": "code",
      "source": [
        "def test_07_v0(n):\n",
        "  # Example of inefficient code\n",
        "  # Repetitive calculation within nested loop\n",
        "  result = 0\n",
        "  for i in range(n):\n",
        "    for j in range(n):\n",
        "      result += i * j\n",
        "  return result\n",
        "\n",
        "def test_07_v1(n):\n",
        "  # Example of improved code\n",
        "  # Utilize precomputed values to help speedup\n",
        "  pv = [[i * j for j in range(n)] for i in range(n)]\n",
        "  result = 0\n",
        "  for i in range(n):\n",
        "    result += sum(pv[i][:i+1])\n",
        "  return result"
      ],
      "metadata": {
        "id": "nOwiw_zKgLU8"
      },
      "execution_count": 6,
      "outputs": []
    },
    {
      "cell_type": "code",
      "source": [
        "def test_08_v0(n):\n",
        "  # Baseline version (Inefficient way)\n",
        "  # (Inefficiently calculates the nth Fibonacci\n",
        "  # number using a list)\n",
        "  if n <= 1:\n",
        "    return n\n",
        "  f_list = [0, 1]\n",
        "  for i in range(2, n + 1):\n",
        "    f_list.append(f_list[i - 1] + f_list[i - 2])\n",
        "  return f_list[n]\n",
        "\n",
        "def test_08_v1(n):\n",
        "  # Improved version\n",
        "  # (Efficiently calculates the nth Fibonacci\n",
        "  # number using a generator)\n",
        "  a, b = 0, 1\n",
        "  for _ in range(n):\n",
        "    yield a\n",
        "    a, b = b, a + b"
      ],
      "metadata": {
        "id": "4Ikf2oAMgNud"
      },
      "execution_count": 7,
      "outputs": []
    },
    {
      "cell_type": "code",
      "source": [
        "def some_function_X(x):\n",
        "  # This would normally be a function containing application logic\n",
        "  # which required it to be made into a separate function\n",
        "  # (for the purpose of this test, just calculate and return the square)\n",
        "  return x**2\n",
        "\n",
        "def test_09_v0(numbers):\n",
        "  # Baseline version (Inefficient way)\n",
        "  output = []\n",
        "  for i in numbers:\n",
        "    output.append(some_function_X(i))\n",
        "\n",
        "  return output\n",
        "\n",
        "def test_09_v1(numbers):\n",
        "  # Improved version\n",
        "  # (Using Python's built-in map() function)\n",
        "  output = map(some_function_X, numbers)\n",
        "  return output"
      ],
      "metadata": {
        "id": "RC0n6qB9gPHy"
      },
      "execution_count": 8,
      "outputs": []
    },
    {
      "cell_type": "code",
      "source": [
        "# Example of inefficient code\n",
        "def fibonacci(n):\n",
        "  if n == 0 or n == 1:\n",
        "    return n\n",
        "  return fibonacci(n - 1) + fibonacci(n-2)\n",
        "\n",
        "def test_10_v0(list_of_numbers):\n",
        "  output = []\n",
        "  for i in numbers:\n",
        "    output.append(fibonacci(i))\n",
        "\n",
        "  return output"
      ],
      "metadata": {
        "id": "vRX7n5RYgQSL"
      },
      "execution_count": 9,
      "outputs": []
    },
    {
      "cell_type": "code",
      "source": [
        "# Example of efficient code\n",
        "# Using Python's functools' lru_cache function\n",
        "import functools\n",
        "\n",
        "@functools.lru_cache()\n",
        "def fibonacci_v2(n):\n",
        "  if n == 0:\n",
        "    return 0\n",
        "  elif n == 1:\n",
        "    return 1\n",
        "  return fibonacci_v2(n - 1) + fibonacci_v2(n-2)\n",
        "\n",
        "def _test_10_v1(numbers):\n",
        "  output = []\n",
        "  for i in numbers:\n",
        "    output.append(fibonacci_v2(i))\n",
        "\n",
        "  return output"
      ],
      "metadata": {
        "id": "TetN0XH8gRXb"
      },
      "execution_count": 10,
      "outputs": []
    },
    {
      "cell_type": "code",
      "source": [
        "import numpy as np\n",
        "\n",
        "def test_11_v0(n):\n",
        "  # Baseline version\n",
        "  # (Inefficient way of summing numbers in a range)\n",
        "  output = 0\n",
        "  for i in range(0, n):\n",
        "    output = output + i\n",
        "\n",
        "  return output\n",
        "\n",
        "def test_11_v1(n):\n",
        "  # Improved version\n",
        "  # (# Efficient way of summing numbers in a range)\n",
        "  output = np.sum(np.arange(n))\n",
        "  return output"
      ],
      "metadata": {
        "id": "s7rk-_OygSTq"
      },
      "execution_count": 11,
      "outputs": []
    },
    {
      "cell_type": "code",
      "source": [
        "def test_12_v0(numbers):\n",
        "  # Baseline version (Inefficient way)\n",
        "  filtered_data = []\n",
        "  for i in numbers:\n",
        "    filtered_data.extend(list(\n",
        "        filter(lambda x: x % 5 == 0,\n",
        "                range(1, i**2))))\n",
        "\n",
        "  return filtered_data"
      ],
      "metadata": {
        "id": "b6dIkynqgTzI"
      },
      "execution_count": 12,
      "outputs": []
    },
    {
      "cell_type": "code",
      "source": [
        "from itertools import filterfalse\n",
        "\n",
        "def test_12_v1(numbers):\n",
        "  # Improved version\n",
        "  # (using filterfalse)\n",
        "  filtered_data = []\n",
        "  for i in numbers:\n",
        "    filtered_data.extend(list(\n",
        "        filterfalse(lambda x: x % 5 != 0,\n",
        "                    range(1, i**2))))\n",
        "\n",
        "    return filtered_data"
      ],
      "metadata": {
        "id": "CCZw3uapgUye"
      },
      "execution_count": 13,
      "outputs": []
    },
    {
      "cell_type": "code",
      "source": [
        "def test_13_v0(l_strings):\n",
        "  # Baseline version (Inefficient way)\n",
        "  # (concatenation using the += operator)\n",
        "  output = \"\"\n",
        "  for a_str in l_strings:\n",
        "    output += a_str\n",
        "\n",
        "  return output\n",
        "\n",
        "def test_13_v1(l_strings):\n",
        "  # Improved version\n",
        "  # (using join)\n",
        "  output_list = []\n",
        "  for a_str in l_strings:\n",
        "    output_list.append(a_str)\n",
        "\n",
        "  return \"\".join(output_list)"
      ],
      "metadata": {
        "id": "7Y-coetJgVur"
      },
      "execution_count": 14,
      "outputs": []
    },
    {
      "cell_type": "code",
      "source": [
        "!pip install faker"
      ],
      "metadata": {
        "colab": {
          "base_uri": "https://localhost:8080/"
        },
        "id": "b1cFSbwhgZAB",
        "outputId": "78c06b31-fef5-464d-b7cf-50c3fadc5e83"
      },
      "execution_count": 16,
      "outputs": [
        {
          "output_type": "stream",
          "name": "stdout",
          "text": [
            "Collecting faker\n",
            "  Downloading Faker-22.0.0-py3-none-any.whl (1.7 MB)\n",
            "\u001b[2K     \u001b[90m━━━━━━━━━━━━━━━━━━━━━━━━━━━━━━━━━━━━━━━━\u001b[0m \u001b[32m1.7/1.7 MB\u001b[0m \u001b[31m7.0 MB/s\u001b[0m eta \u001b[36m0:00:00\u001b[0m\n",
            "\u001b[?25hRequirement already satisfied: python-dateutil>=2.4 in /usr/local/lib/python3.10/dist-packages (from faker) (2.8.2)\n",
            "Requirement already satisfied: six>=1.5 in /usr/local/lib/python3.10/dist-packages (from python-dateutil>=2.4->faker) (1.16.0)\n",
            "Installing collected packages: faker\n",
            "Successfully installed faker-22.0.0\n"
          ]
        }
      ]
    },
    {
      "cell_type": "code",
      "source": [
        "from faker import Faker\n",
        "\n",
        "def generate_fake_names(count : int=10000):\n",
        "  # Helper function used to generate a\n",
        "  # large-ish list of names\n",
        "  fake = Faker()\n",
        "  output_list = []\n",
        "  for _ in range(count):\n",
        "    output_list.append(fake.name())\n",
        "\n",
        "  return output_list\n",
        "\n",
        "l_strings = generate_fake_names(count=50000)"
      ],
      "metadata": {
        "id": "DdzJR8zfgW_S"
      },
      "execution_count": 17,
      "outputs": []
    }
  ]
}