{
  "nbformat": 4,
  "nbformat_minor": 0,
  "metadata": {
    "colab": {
      "name": "Class vs Instance Variables in Python.ipynb",
      "provenance": [],
      "authorship_tag": "ABX9TyPrlpnEDYNa+igLhXsuVrZW"
    },
    "kernelspec": {
      "name": "python3",
      "display_name": "Python 3"
    }
  },
  "cells": [
    {
      "cell_type": "markdown",
      "metadata": {
        "id": "UypaxRH5z2UZ"
      },
      "source": [
        "[Reference](https://towardsdatascience.com/practical-python-class-vs-instance-variables-431fd16430d)"
      ]
    },
    {
      "cell_type": "code",
      "metadata": {
        "id": "XYHfKYCnz0vt"
      },
      "source": [
        "class Book():\n",
        "   fontsize = 9\n",
        "   page_width = 15   \n",
        "   \n",
        "   def __init__(self, name, writer, length):\n",
        "      self.name = name\n",
        "      self.writer = writer\n",
        "      self.length = length"
      ],
      "execution_count": 1,
      "outputs": []
    },
    {
      "cell_type": "code",
      "metadata": {
        "colab": {
          "base_uri": "https://localhost:8080/"
        },
        "id": "2C6KPX9Lz5gQ",
        "outputId": "ff234b1b-f433-4c54-e2e9-0522bd012b71"
      },
      "source": [
        "book1 = Book(\"Intro to Python\", \"John Doe\", 50000)\n",
        "print(book1.writer)"
      ],
      "execution_count": 2,
      "outputs": [
        {
          "output_type": "stream",
          "text": [
            "John Doe\n"
          ],
          "name": "stdout"
        }
      ]
    },
    {
      "cell_type": "code",
      "metadata": {
        "colab": {
          "base_uri": "https://localhost:8080/"
        },
        "id": "yRLV-53j1EfV",
        "outputId": "44bd1ee0-5872-4d4f-ee68-4ee5281e946b"
      },
      "source": [
        "print(book1.page_width)"
      ],
      "execution_count": 4,
      "outputs": [
        {
          "output_type": "stream",
          "text": [
            "15\n"
          ],
          "name": "stdout"
        }
      ]
    },
    {
      "cell_type": "code",
      "metadata": {
        "colab": {
          "base_uri": "https://localhost:8080/"
        },
        "id": "Le0Y2bi31Esy",
        "outputId": "b6cd375a-c644-4934-b40e-87ccf85f8cc3"
      },
      "source": [
        "book1.page_width = 17\n",
        "print(book1.page_width)"
      ],
      "execution_count": 5,
      "outputs": [
        {
          "output_type": "stream",
          "text": [
            "17\n"
          ],
          "name": "stdout"
        }
      ]
    },
    {
      "cell_type": "code",
      "metadata": {
        "colab": {
          "base_uri": "https://localhost:8080/"
        },
        "id": "dk0SjMnf1Hzi",
        "outputId": "025abf7f-5fe9-48c8-ef1a-5a5321530fc1"
      },
      "source": [
        "print(Book.page_width)"
      ],
      "execution_count": 6,
      "outputs": [
        {
          "output_type": "stream",
          "text": [
            "15\n"
          ],
          "name": "stdout"
        }
      ]
    },
    {
      "cell_type": "code",
      "metadata": {
        "id": "Qik0wQgb1Jmv"
      },
      "source": [
        "class Book():\n",
        "   fontsize = 9\n",
        "   page_width = 15   \n",
        "   \n",
        "   def __init__(self, name, writer, length):\n",
        "       self.name = name\n",
        "       self.writer = writer\n",
        "       self.length = length\n",
        "\n",
        "   #Using the class\n",
        "   def number_of_pages(self):\n",
        "       pages = (self.length * Book.fontsize) / (Book.page_width * 100)\n",
        "       return pages"
      ],
      "execution_count": 18,
      "outputs": []
    },
    {
      "cell_type": "code",
      "metadata": {
        "colab": {
          "base_uri": "https://localhost:8080/"
        },
        "id": "NH9w-uTQ1Peh",
        "outputId": "4f412eb7-7f8f-4af3-dd6b-8f28d6078e7e"
      },
      "source": [
        "book1 = Book(\"Intro to Python\", \"John Doe\", 50000)\n",
        "book1_pages = book1.number_of_pages()\n",
        "print(book1_pages)"
      ],
      "execution_count": 19,
      "outputs": [
        {
          "output_type": "stream",
          "text": [
            "300.0\n"
          ],
          "name": "stdout"
        }
      ]
    },
    {
      "cell_type": "code",
      "metadata": {
        "colab": {
          "base_uri": "https://localhost:8080/"
        },
        "id": "Qhv1mqR81SA3",
        "outputId": "4f07c06b-9a7b-4559-8f34-7d31a38022ce"
      },
      "source": [
        "book1 = Book(\"Intro to Python\", \"John Doe\", 50000)\n",
        "book2 = Book(\"Intro to Pandas\", \"Jane Doe\", 40000)\n",
        "print(book1.fontsize, book2.fontsize)"
      ],
      "execution_count": 12,
      "outputs": [
        {
          "output_type": "stream",
          "text": [
            "9 9\n"
          ],
          "name": "stdout"
        }
      ]
    },
    {
      "cell_type": "code",
      "metadata": {
        "colab": {
          "base_uri": "https://localhost:8080/"
        },
        "id": "vpMTk32l1jkL",
        "outputId": "d8492c17-d36c-4cae-efd6-adec3e798368"
      },
      "source": [
        "Book.fontsize = 11\n",
        "print(book1.fontsize, book2.fontsize)"
      ],
      "execution_count": 13,
      "outputs": [
        {
          "output_type": "stream",
          "text": [
            "11 11\n"
          ],
          "name": "stdout"
        }
      ]
    },
    {
      "cell_type": "code",
      "metadata": {
        "colab": {
          "base_uri": "https://localhost:8080/"
        },
        "id": "P34fGUNR1k9E",
        "outputId": "3be89b67-2bba-4482-d850-c94b68100508"
      },
      "source": [
        "book1 = Book(\"Intro to Python\", \"John Doe\", 50000)\n",
        "print(book1.__dict__)\n",
        "print(book1.fontsize)"
      ],
      "execution_count": 14,
      "outputs": [
        {
          "output_type": "stream",
          "text": [
            "{'name': 'Intro to Python', 'writer': 'John Doe', 'length': 50000}\n",
            "11\n"
          ],
          "name": "stdout"
        }
      ]
    },
    {
      "cell_type": "code",
      "metadata": {
        "colab": {
          "base_uri": "https://localhost:8080/"
        },
        "id": "BqulBNMJ1nwa",
        "outputId": "3c8bd878-e720-4a57-a4df-a30aa55ca59a"
      },
      "source": [
        "print(Book.__dict__)"
      ],
      "execution_count": 15,
      "outputs": [
        {
          "output_type": "stream",
          "text": [
            "{'__module__': '__main__', 'fontsize': 11, 'page_width': 15, '__init__': <function Book.__init__ at 0x7fb48116a840>, 'number_of_pages': <function Book.number_of_pages at 0x7fb48116a8c8>, '__dict__': <attribute '__dict__' of 'Book' objects>, '__weakref__': <attribute '__weakref__' of 'Book' objects>, '__doc__': None}\n"
          ],
          "name": "stdout"
        }
      ]
    }
  ]
}