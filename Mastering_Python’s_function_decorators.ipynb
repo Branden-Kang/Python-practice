{
  "nbformat": 4,
  "nbformat_minor": 0,
  "metadata": {
    "colab": {
      "provenance": [],
      "authorship_tag": "ABX9TyMF7AGMHz/WWhQ0A5KG36OT"
    },
    "kernelspec": {
      "name": "python3",
      "display_name": "Python 3"
    },
    "language_info": {
      "name": "python"
    }
  },
  "cells": [
    {
      "cell_type": "markdown",
      "source": [
        "[Reference](https://medium.com/@esenturion/mastering-pythons-function-decorators-adb8de7704bb)"
      ],
      "metadata": {
        "id": "KTzZkwaOsfEO"
      }
    },
    {
      "cell_type": "code",
      "execution_count": 1,
      "metadata": {
        "id": "vV9cZRvhsNsD"
      },
      "outputs": [],
      "source": [
        "from datetime import datetime as dt\n",
        "\n",
        "def method1(*args, **kwargs):\n",
        "  print(dt.now().isoformat(), \"method1\")\n",
        "  # more code here\n",
        "\n",
        "def method2(*args, **kwargs):\n",
        "  print(dt.now().isoformat(), \"method2\")\n",
        "  # more code here\n",
        "\n",
        "def method3(*args, **kwargs):\n",
        "  print(dt.now().isoformat(), \"method3\")\n",
        "  # more code here"
      ]
    },
    {
      "cell_type": "code",
      "source": [
        "def print_name_and_time(old_func):\n",
        "\n",
        "  # the new function logic\n",
        "  def new_func(*args, **kwargs):\n",
        "    print(dt.now().isoformat(), old_func.__name__)\n",
        "\n",
        "    # now call the old function logic and return the value\n",
        "    # if no there's no return is like returing None\n",
        "    return old_func(*args, **kwargs)\n",
        "\n",
        "  # the new function is returned as result of decorating the old function.\n",
        "  return new_func"
      ],
      "metadata": {
        "id": "LWYrYlInsham"
      },
      "execution_count": 2,
      "outputs": []
    },
    {
      "cell_type": "code",
      "source": [
        "from functools import wraps\n",
        "\n",
        "def print_name_and_time(old_func):\n",
        "\n",
        "  # the new function logic\n",
        "  @wraps(old_func)\n",
        "  def new_func(*args, **kwargs):\n",
        "    print(dt.now().isoformat(), old_func.__name__)\n",
        "\n",
        "    # now call the old function logic and return the value\n",
        "    # if no there's no return is like returing None\n",
        "    return old_func(*args, **kwargs)\n",
        "\n",
        "  # the new function is returned as result of decorating the old function.\n",
        "  return new_func"
      ],
      "metadata": {
        "id": "i14eZOP9sjK2"
      },
      "execution_count": 5,
      "outputs": []
    }
  ]
}