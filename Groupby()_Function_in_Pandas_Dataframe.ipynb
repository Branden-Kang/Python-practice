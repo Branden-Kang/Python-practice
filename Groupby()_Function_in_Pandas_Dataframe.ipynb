{
  "nbformat": 4,
  "nbformat_minor": 0,
  "metadata": {
    "colab": {
      "name": "Groupby() Function in Pandas Dataframe.ipynb",
      "provenance": [],
      "authorship_tag": "ABX9TyM3XINy78WYsJtJQef1ZUWO"
    },
    "kernelspec": {
      "name": "python3",
      "display_name": "Python 3"
    }
  },
  "cells": [
    {
      "cell_type": "markdown",
      "metadata": {
        "id": "vPuGngS6qHkP"
      },
      "source": [
        "[Reference](https://levelup.gitconnected.com/understanding-groupby-function-in-pandas-dataframe-part-1-23cc762b3174)"
      ]
    },
    {
      "cell_type": "code",
      "metadata": {
        "colab": {
          "base_uri": "https://localhost:8080/",
          "height": 297
        },
        "id": "RidOBxSgmeNz",
        "outputId": "af12b644-ca7a-4b02-e183-6f97b8bce61a"
      },
      "source": [
        "import pandas as pd\n",
        "scores = {'Zone': ['North','South','South',\n",
        "                   'East','East','West','West','West'], \n",
        "          'School': ['Rushmore','Bayside','Rydell',\n",
        "                     'Shermer','Shermer','Ridgemont','Hogwarts','Hogwarts'],             \n",
        "          'Name': ['Jonny','Joe','Jakob', \n",
        "                   'Jimmy','Erik','Lam','Yip','Chen'], \n",
        "          'Math': [78,76,56,67,89,100,55,76],\n",
        "          'Science': [70,68,90,45,66,89,32,98]}\n",
        "df = pd.DataFrame(scores, columns = \n",
        "                  ['Zone', 'School', 'Name', \n",
        "                   'Science', 'Math'])\n",
        "df"
      ],
      "execution_count": 1,
      "outputs": [
        {
          "output_type": "execute_result",
          "data": {
            "text/html": [
              "<div>\n",
              "<style scoped>\n",
              "    .dataframe tbody tr th:only-of-type {\n",
              "        vertical-align: middle;\n",
              "    }\n",
              "\n",
              "    .dataframe tbody tr th {\n",
              "        vertical-align: top;\n",
              "    }\n",
              "\n",
              "    .dataframe thead th {\n",
              "        text-align: right;\n",
              "    }\n",
              "</style>\n",
              "<table border=\"1\" class=\"dataframe\">\n",
              "  <thead>\n",
              "    <tr style=\"text-align: right;\">\n",
              "      <th></th>\n",
              "      <th>Zone</th>\n",
              "      <th>School</th>\n",
              "      <th>Name</th>\n",
              "      <th>Science</th>\n",
              "      <th>Math</th>\n",
              "    </tr>\n",
              "  </thead>\n",
              "  <tbody>\n",
              "    <tr>\n",
              "      <th>0</th>\n",
              "      <td>North</td>\n",
              "      <td>Rushmore</td>\n",
              "      <td>Jonny</td>\n",
              "      <td>70</td>\n",
              "      <td>78</td>\n",
              "    </tr>\n",
              "    <tr>\n",
              "      <th>1</th>\n",
              "      <td>South</td>\n",
              "      <td>Bayside</td>\n",
              "      <td>Joe</td>\n",
              "      <td>68</td>\n",
              "      <td>76</td>\n",
              "    </tr>\n",
              "    <tr>\n",
              "      <th>2</th>\n",
              "      <td>South</td>\n",
              "      <td>Rydell</td>\n",
              "      <td>Jakob</td>\n",
              "      <td>90</td>\n",
              "      <td>56</td>\n",
              "    </tr>\n",
              "    <tr>\n",
              "      <th>3</th>\n",
              "      <td>East</td>\n",
              "      <td>Shermer</td>\n",
              "      <td>Jimmy</td>\n",
              "      <td>45</td>\n",
              "      <td>67</td>\n",
              "    </tr>\n",
              "    <tr>\n",
              "      <th>4</th>\n",
              "      <td>East</td>\n",
              "      <td>Shermer</td>\n",
              "      <td>Erik</td>\n",
              "      <td>66</td>\n",
              "      <td>89</td>\n",
              "    </tr>\n",
              "    <tr>\n",
              "      <th>5</th>\n",
              "      <td>West</td>\n",
              "      <td>Ridgemont</td>\n",
              "      <td>Lam</td>\n",
              "      <td>89</td>\n",
              "      <td>100</td>\n",
              "    </tr>\n",
              "    <tr>\n",
              "      <th>6</th>\n",
              "      <td>West</td>\n",
              "      <td>Hogwarts</td>\n",
              "      <td>Yip</td>\n",
              "      <td>32</td>\n",
              "      <td>55</td>\n",
              "    </tr>\n",
              "    <tr>\n",
              "      <th>7</th>\n",
              "      <td>West</td>\n",
              "      <td>Hogwarts</td>\n",
              "      <td>Chen</td>\n",
              "      <td>98</td>\n",
              "      <td>76</td>\n",
              "    </tr>\n",
              "  </tbody>\n",
              "</table>\n",
              "</div>"
            ],
            "text/plain": [
              "    Zone     School   Name  Science  Math\n",
              "0  North   Rushmore  Jonny       70    78\n",
              "1  South    Bayside    Joe       68    76\n",
              "2  South     Rydell  Jakob       90    56\n",
              "3   East    Shermer  Jimmy       45    67\n",
              "4   East    Shermer   Erik       66    89\n",
              "5   West  Ridgemont    Lam       89   100\n",
              "6   West   Hogwarts    Yip       32    55\n",
              "7   West   Hogwarts   Chen       98    76"
            ]
          },
          "metadata": {
            "tags": []
          },
          "execution_count": 1
        }
      ]
    },
    {
      "cell_type": "code",
      "metadata": {
        "colab": {
          "base_uri": "https://localhost:8080/"
        },
        "id": "H5KtkqTiqNqj",
        "outputId": "c360a4bd-a388-426d-a124-9de36e53c7de"
      },
      "source": [
        "gp = df.groupby('Zone')      # pass in a string to groupby()\n",
        "for zone, group in gp:\n",
        "    print(zone)\n",
        "    print(group)             # group is a dataframe"
      ],
      "execution_count": 2,
      "outputs": [
        {
          "output_type": "stream",
          "text": [
            "East\n",
            "   Zone   School   Name  Science  Math\n",
            "3  East  Shermer  Jimmy       45    67\n",
            "4  East  Shermer   Erik       66    89\n",
            "North\n",
            "    Zone    School   Name  Science  Math\n",
            "0  North  Rushmore  Jonny       70    78\n",
            "South\n",
            "    Zone   School   Name  Science  Math\n",
            "1  South  Bayside    Joe       68    76\n",
            "2  South   Rydell  Jakob       90    56\n",
            "West\n",
            "   Zone     School  Name  Science  Math\n",
            "5  West  Ridgemont   Lam       89   100\n",
            "6  West   Hogwarts   Yip       32    55\n",
            "7  West   Hogwarts  Chen       98    76\n"
          ],
          "name": "stdout"
        }
      ]
    },
    {
      "cell_type": "code",
      "metadata": {
        "colab": {
          "base_uri": "https://localhost:8080/"
        },
        "id": "Kp2quw5pqPZn",
        "outputId": "90d1347f-fa1f-4170-b2f1-902206a3e3f1"
      },
      "source": [
        "p = df.groupby('Zone')\n",
        "for zone, group in gp:\n",
        "    print(zone)\n",
        "    print(group[['Name','Science','Math']])"
      ],
      "execution_count": 3,
      "outputs": [
        {
          "output_type": "stream",
          "text": [
            "East\n",
            "    Name  Science  Math\n",
            "3  Jimmy       45    67\n",
            "4   Erik       66    89\n",
            "North\n",
            "    Name  Science  Math\n",
            "0  Jonny       70    78\n",
            "South\n",
            "    Name  Science  Math\n",
            "1    Joe       68    76\n",
            "2  Jakob       90    56\n",
            "West\n",
            "   Name  Science  Math\n",
            "5   Lam       89   100\n",
            "6   Yip       32    55\n",
            "7  Chen       98    76\n"
          ],
          "name": "stdout"
        }
      ]
    },
    {
      "cell_type": "code",
      "metadata": {
        "colab": {
          "base_uri": "https://localhost:8080/"
        },
        "id": "Bdsw6b82wwUf",
        "outputId": "bf1b20e8-5b9c-40dd-e296-27a15c53c92e"
      },
      "source": [
        "gp = df.groupby(['Zone','School'])        # pass a list to groupby()\n",
        "for zone_school, group in gp:\n",
        "    print(zone_school)\n",
        "    print(group[['Name','Science','Math']])"
      ],
      "execution_count": 4,
      "outputs": [
        {
          "output_type": "stream",
          "text": [
            "('East', 'Shermer')\n",
            "    Name  Science  Math\n",
            "3  Jimmy       45    67\n",
            "4   Erik       66    89\n",
            "('North', 'Rushmore')\n",
            "    Name  Science  Math\n",
            "0  Jonny       70    78\n",
            "('South', 'Bayside')\n",
            "  Name  Science  Math\n",
            "1  Joe       68    76\n",
            "('South', 'Rydell')\n",
            "    Name  Science  Math\n",
            "2  Jakob       90    56\n",
            "('West', 'Hogwarts')\n",
            "   Name  Science  Math\n",
            "6   Yip       32    55\n",
            "7  Chen       98    76\n",
            "('West', 'Ridgemont')\n",
            "  Name  Science  Math\n",
            "5  Lam       89   100\n"
          ],
          "name": "stdout"
        }
      ]
    },
    {
      "cell_type": "code",
      "metadata": {
        "colab": {
          "base_uri": "https://localhost:8080/"
        },
        "id": "tv7tQKTSwzWN",
        "outputId": "adad41d2-e9ff-4505-fe45-d520087d7428"
      },
      "source": [
        "gp = df[['Name','Math','School']].groupby(df['Zone']) # pass in a \n",
        "                                                      # Series to \n",
        "                                                      # groupby() \n",
        "                                                      # function\n",
        "for zone, group in gp:\n",
        "    print(zone)\n",
        "    print(group)"
      ],
      "execution_count": 5,
      "outputs": [
        {
          "output_type": "stream",
          "text": [
            "East\n",
            "    Name  Math   School\n",
            "3  Jimmy    67  Shermer\n",
            "4   Erik    89  Shermer\n",
            "North\n",
            "    Name  Math    School\n",
            "0  Jonny    78  Rushmore\n",
            "South\n",
            "    Name  Math   School\n",
            "1    Joe    76  Bayside\n",
            "2  Jakob    56   Rydell\n",
            "West\n",
            "   Name  Math     School\n",
            "5   Lam   100  Ridgemont\n",
            "6   Yip    55   Hogwarts\n",
            "7  Chen    76   Hogwarts\n"
          ],
          "name": "stdout"
        }
      ]
    },
    {
      "cell_type": "code",
      "metadata": {
        "colab": {
          "base_uri": "https://localhost:8080/",
          "height": 392
        },
        "id": "AYkpXi8Qw0uj",
        "outputId": "861e6b7d-4aa5-4ed8-ddc4-f1ae2326c683"
      },
      "source": [
        "gp = df[['Name','Math','School']].groupby('Zone') # KeyError: 'Zone'"
      ],
      "execution_count": 6,
      "outputs": [
        {
          "output_type": "error",
          "ename": "KeyError",
          "evalue": "ignored",
          "traceback": [
            "\u001b[0;31m---------------------------------------------------------------------------\u001b[0m",
            "\u001b[0;31mKeyError\u001b[0m                                  Traceback (most recent call last)",
            "\u001b[0;32m<ipython-input-6-40111b718020>\u001b[0m in \u001b[0;36m<module>\u001b[0;34m()\u001b[0m\n\u001b[0;32m----> 1\u001b[0;31m \u001b[0mgp\u001b[0m \u001b[0;34m=\u001b[0m \u001b[0mdf\u001b[0m\u001b[0;34m[\u001b[0m\u001b[0;34m[\u001b[0m\u001b[0;34m'Name'\u001b[0m\u001b[0;34m,\u001b[0m\u001b[0;34m'Math'\u001b[0m\u001b[0;34m,\u001b[0m\u001b[0;34m'School'\u001b[0m\u001b[0;34m]\u001b[0m\u001b[0;34m]\u001b[0m\u001b[0;34m.\u001b[0m\u001b[0mgroupby\u001b[0m\u001b[0;34m(\u001b[0m\u001b[0;34m'Zone'\u001b[0m\u001b[0;34m)\u001b[0m \u001b[0;31m# KeyError: 'Zone'\u001b[0m\u001b[0;34m\u001b[0m\u001b[0;34m\u001b[0m\u001b[0m\n\u001b[0m",
            "\u001b[0;32m/usr/local/lib/python3.6/dist-packages/pandas/core/frame.py\u001b[0m in \u001b[0;36mgroupby\u001b[0;34m(self, by, axis, level, as_index, sort, group_keys, squeeze, observed, dropna)\u001b[0m\n\u001b[1;32m   6523\u001b[0m             \u001b[0msqueeze\u001b[0m\u001b[0;34m=\u001b[0m\u001b[0msqueeze\u001b[0m\u001b[0;34m,\u001b[0m\u001b[0;34m\u001b[0m\u001b[0;34m\u001b[0m\u001b[0m\n\u001b[1;32m   6524\u001b[0m             \u001b[0mobserved\u001b[0m\u001b[0;34m=\u001b[0m\u001b[0mobserved\u001b[0m\u001b[0;34m,\u001b[0m\u001b[0;34m\u001b[0m\u001b[0;34m\u001b[0m\u001b[0m\n\u001b[0;32m-> 6525\u001b[0;31m             \u001b[0mdropna\u001b[0m\u001b[0;34m=\u001b[0m\u001b[0mdropna\u001b[0m\u001b[0;34m,\u001b[0m\u001b[0;34m\u001b[0m\u001b[0;34m\u001b[0m\u001b[0m\n\u001b[0m\u001b[1;32m   6526\u001b[0m         )\n\u001b[1;32m   6527\u001b[0m \u001b[0;34m\u001b[0m\u001b[0m\n",
            "\u001b[0;32m/usr/local/lib/python3.6/dist-packages/pandas/core/groupby/groupby.py\u001b[0m in \u001b[0;36m__init__\u001b[0;34m(self, obj, keys, axis, level, grouper, exclusions, selection, as_index, sort, group_keys, squeeze, observed, mutated, dropna)\u001b[0m\n\u001b[1;32m    531\u001b[0m                 \u001b[0mobserved\u001b[0m\u001b[0;34m=\u001b[0m\u001b[0mobserved\u001b[0m\u001b[0;34m,\u001b[0m\u001b[0;34m\u001b[0m\u001b[0;34m\u001b[0m\u001b[0m\n\u001b[1;32m    532\u001b[0m                 \u001b[0mmutated\u001b[0m\u001b[0;34m=\u001b[0m\u001b[0mself\u001b[0m\u001b[0;34m.\u001b[0m\u001b[0mmutated\u001b[0m\u001b[0;34m,\u001b[0m\u001b[0;34m\u001b[0m\u001b[0;34m\u001b[0m\u001b[0m\n\u001b[0;32m--> 533\u001b[0;31m                 \u001b[0mdropna\u001b[0m\u001b[0;34m=\u001b[0m\u001b[0mself\u001b[0m\u001b[0;34m.\u001b[0m\u001b[0mdropna\u001b[0m\u001b[0;34m,\u001b[0m\u001b[0;34m\u001b[0m\u001b[0;34m\u001b[0m\u001b[0m\n\u001b[0m\u001b[1;32m    534\u001b[0m             )\n\u001b[1;32m    535\u001b[0m \u001b[0;34m\u001b[0m\u001b[0m\n",
            "\u001b[0;32m/usr/local/lib/python3.6/dist-packages/pandas/core/groupby/grouper.py\u001b[0m in \u001b[0;36mget_grouper\u001b[0;34m(obj, key, axis, level, sort, observed, mutated, validate, dropna)\u001b[0m\n\u001b[1;32m    784\u001b[0m                 \u001b[0min_axis\u001b[0m\u001b[0;34m,\u001b[0m \u001b[0mname\u001b[0m\u001b[0;34m,\u001b[0m \u001b[0mlevel\u001b[0m\u001b[0;34m,\u001b[0m \u001b[0mgpr\u001b[0m \u001b[0;34m=\u001b[0m \u001b[0;32mFalse\u001b[0m\u001b[0;34m,\u001b[0m \u001b[0;32mNone\u001b[0m\u001b[0;34m,\u001b[0m \u001b[0mgpr\u001b[0m\u001b[0;34m,\u001b[0m \u001b[0;32mNone\u001b[0m\u001b[0;34m\u001b[0m\u001b[0;34m\u001b[0m\u001b[0m\n\u001b[1;32m    785\u001b[0m             \u001b[0;32melse\u001b[0m\u001b[0;34m:\u001b[0m\u001b[0;34m\u001b[0m\u001b[0;34m\u001b[0m\u001b[0m\n\u001b[0;32m--> 786\u001b[0;31m                 \u001b[0;32mraise\u001b[0m \u001b[0mKeyError\u001b[0m\u001b[0;34m(\u001b[0m\u001b[0mgpr\u001b[0m\u001b[0;34m)\u001b[0m\u001b[0;34m\u001b[0m\u001b[0;34m\u001b[0m\u001b[0m\n\u001b[0m\u001b[1;32m    787\u001b[0m         \u001b[0;32melif\u001b[0m \u001b[0misinstance\u001b[0m\u001b[0;34m(\u001b[0m\u001b[0mgpr\u001b[0m\u001b[0;34m,\u001b[0m \u001b[0mGrouper\u001b[0m\u001b[0;34m)\u001b[0m \u001b[0;32mand\u001b[0m \u001b[0mgpr\u001b[0m\u001b[0;34m.\u001b[0m\u001b[0mkey\u001b[0m \u001b[0;32mis\u001b[0m \u001b[0;32mnot\u001b[0m \u001b[0;32mNone\u001b[0m\u001b[0;34m:\u001b[0m\u001b[0;34m\u001b[0m\u001b[0;34m\u001b[0m\u001b[0m\n\u001b[1;32m    788\u001b[0m             \u001b[0;31m# Add key to exclusions\u001b[0m\u001b[0;34m\u001b[0m\u001b[0;34m\u001b[0m\u001b[0;34m\u001b[0m\u001b[0m\n",
            "\u001b[0;31mKeyError\u001b[0m: 'Zone'"
          ]
        }
      ]
    },
    {
      "cell_type": "code",
      "metadata": {
        "id": "gZF_DW-Lw2Xv"
      },
      "source": [
        "gp = df[['Name','Math','School']].groupby(df['Zone'])"
      ],
      "execution_count": 7,
      "outputs": []
    },
    {
      "cell_type": "code",
      "metadata": {
        "id": "_vTxbEPmw6uj"
      },
      "source": [
        "gp = df['Name'].groupby(df['Zone'])"
      ],
      "execution_count": 8,
      "outputs": []
    },
    {
      "cell_type": "code",
      "metadata": {
        "colab": {
          "base_uri": "https://localhost:8080/"
        },
        "id": "kNBGWjoDw7bl",
        "outputId": "73c5f28b-99d6-42c7-f5ed-9c8853c091ce"
      },
      "source": [
        "gp = df[['Name','Math','School']].groupby(df['Zone'], sort=False)\n",
        "for zone, group in gp:\n",
        "    print(zone)\n",
        "    print(group)"
      ],
      "execution_count": 9,
      "outputs": [
        {
          "output_type": "stream",
          "text": [
            "North\n",
            "    Name  Math    School\n",
            "0  Jonny    78  Rushmore\n",
            "South\n",
            "    Name  Math   School\n",
            "1    Joe    76  Bayside\n",
            "2  Jakob    56   Rydell\n",
            "East\n",
            "    Name  Math   School\n",
            "3  Jimmy    67  Shermer\n",
            "4   Erik    89  Shermer\n",
            "West\n",
            "   Name  Math     School\n",
            "5   Lam   100  Ridgemont\n",
            "6   Yip    55   Hogwarts\n",
            "7  Chen    76   Hogwarts\n"
          ],
          "name": "stdout"
        }
      ]
    },
    {
      "cell_type": "code",
      "metadata": {
        "colab": {
          "base_uri": "https://localhost:8080/",
          "height": 266
        },
        "id": "4JRudk3Tw8tZ",
        "outputId": "f61f0fd1-cc99-4369-b6ea-8345db77ae2e"
      },
      "source": [
        "df.groupby(['Zone','School']).mean()"
      ],
      "execution_count": 10,
      "outputs": [
        {
          "output_type": "execute_result",
          "data": {
            "text/html": [
              "<div>\n",
              "<style scoped>\n",
              "    .dataframe tbody tr th:only-of-type {\n",
              "        vertical-align: middle;\n",
              "    }\n",
              "\n",
              "    .dataframe tbody tr th {\n",
              "        vertical-align: top;\n",
              "    }\n",
              "\n",
              "    .dataframe thead th {\n",
              "        text-align: right;\n",
              "    }\n",
              "</style>\n",
              "<table border=\"1\" class=\"dataframe\">\n",
              "  <thead>\n",
              "    <tr style=\"text-align: right;\">\n",
              "      <th></th>\n",
              "      <th></th>\n",
              "      <th>Science</th>\n",
              "      <th>Math</th>\n",
              "    </tr>\n",
              "    <tr>\n",
              "      <th>Zone</th>\n",
              "      <th>School</th>\n",
              "      <th></th>\n",
              "      <th></th>\n",
              "    </tr>\n",
              "  </thead>\n",
              "  <tbody>\n",
              "    <tr>\n",
              "      <th>East</th>\n",
              "      <th>Shermer</th>\n",
              "      <td>55.5</td>\n",
              "      <td>78.0</td>\n",
              "    </tr>\n",
              "    <tr>\n",
              "      <th>North</th>\n",
              "      <th>Rushmore</th>\n",
              "      <td>70.0</td>\n",
              "      <td>78.0</td>\n",
              "    </tr>\n",
              "    <tr>\n",
              "      <th rowspan=\"2\" valign=\"top\">South</th>\n",
              "      <th>Bayside</th>\n",
              "      <td>68.0</td>\n",
              "      <td>76.0</td>\n",
              "    </tr>\n",
              "    <tr>\n",
              "      <th>Rydell</th>\n",
              "      <td>90.0</td>\n",
              "      <td>56.0</td>\n",
              "    </tr>\n",
              "    <tr>\n",
              "      <th rowspan=\"2\" valign=\"top\">West</th>\n",
              "      <th>Hogwarts</th>\n",
              "      <td>65.0</td>\n",
              "      <td>65.5</td>\n",
              "    </tr>\n",
              "    <tr>\n",
              "      <th>Ridgemont</th>\n",
              "      <td>89.0</td>\n",
              "      <td>100.0</td>\n",
              "    </tr>\n",
              "  </tbody>\n",
              "</table>\n",
              "</div>"
            ],
            "text/plain": [
              "                 Science   Math\n",
              "Zone  School                   \n",
              "East  Shermer       55.5   78.0\n",
              "North Rushmore      70.0   78.0\n",
              "South Bayside       68.0   76.0\n",
              "      Rydell        90.0   56.0\n",
              "West  Hogwarts      65.0   65.5\n",
              "      Ridgemont     89.0  100.0"
            ]
          },
          "metadata": {
            "tags": []
          },
          "execution_count": 10
        }
      ]
    },
    {
      "cell_type": "code",
      "metadata": {
        "colab": {
          "base_uri": "https://localhost:8080/",
          "height": 266
        },
        "id": "zk-AUSiUw90I",
        "outputId": "89197afd-ffd5-41f1-efcb-7bcfc6090aca"
      },
      "source": [
        "df.groupby(['Zone','School']).agg({'Science':'mean'})"
      ],
      "execution_count": 11,
      "outputs": [
        {
          "output_type": "execute_result",
          "data": {
            "text/html": [
              "<div>\n",
              "<style scoped>\n",
              "    .dataframe tbody tr th:only-of-type {\n",
              "        vertical-align: middle;\n",
              "    }\n",
              "\n",
              "    .dataframe tbody tr th {\n",
              "        vertical-align: top;\n",
              "    }\n",
              "\n",
              "    .dataframe thead th {\n",
              "        text-align: right;\n",
              "    }\n",
              "</style>\n",
              "<table border=\"1\" class=\"dataframe\">\n",
              "  <thead>\n",
              "    <tr style=\"text-align: right;\">\n",
              "      <th></th>\n",
              "      <th></th>\n",
              "      <th>Science</th>\n",
              "    </tr>\n",
              "    <tr>\n",
              "      <th>Zone</th>\n",
              "      <th>School</th>\n",
              "      <th></th>\n",
              "    </tr>\n",
              "  </thead>\n",
              "  <tbody>\n",
              "    <tr>\n",
              "      <th>East</th>\n",
              "      <th>Shermer</th>\n",
              "      <td>55.5</td>\n",
              "    </tr>\n",
              "    <tr>\n",
              "      <th>North</th>\n",
              "      <th>Rushmore</th>\n",
              "      <td>70.0</td>\n",
              "    </tr>\n",
              "    <tr>\n",
              "      <th rowspan=\"2\" valign=\"top\">South</th>\n",
              "      <th>Bayside</th>\n",
              "      <td>68.0</td>\n",
              "    </tr>\n",
              "    <tr>\n",
              "      <th>Rydell</th>\n",
              "      <td>90.0</td>\n",
              "    </tr>\n",
              "    <tr>\n",
              "      <th rowspan=\"2\" valign=\"top\">West</th>\n",
              "      <th>Hogwarts</th>\n",
              "      <td>65.0</td>\n",
              "    </tr>\n",
              "    <tr>\n",
              "      <th>Ridgemont</th>\n",
              "      <td>89.0</td>\n",
              "    </tr>\n",
              "  </tbody>\n",
              "</table>\n",
              "</div>"
            ],
            "text/plain": [
              "                 Science\n",
              "Zone  School            \n",
              "East  Shermer       55.5\n",
              "North Rushmore      70.0\n",
              "South Bayside       68.0\n",
              "      Rydell        90.0\n",
              "West  Hogwarts      65.0\n",
              "      Ridgemont     89.0"
            ]
          },
          "metadata": {
            "tags": []
          },
          "execution_count": 11
        }
      ]
    },
    {
      "cell_type": "code",
      "metadata": {
        "colab": {
          "base_uri": "https://localhost:8080/",
          "height": 297
        },
        "id": "qNa2PgEsw-uL",
        "outputId": "6dabcbf2-7a38-4724-f89a-ec7ebbf2d443"
      },
      "source": [
        "df.groupby(['Zone','School']).agg({'Science':['mean','min','max']})"
      ],
      "execution_count": 12,
      "outputs": [
        {
          "output_type": "execute_result",
          "data": {
            "text/html": [
              "<div>\n",
              "<style scoped>\n",
              "    .dataframe tbody tr th:only-of-type {\n",
              "        vertical-align: middle;\n",
              "    }\n",
              "\n",
              "    .dataframe tbody tr th {\n",
              "        vertical-align: top;\n",
              "    }\n",
              "\n",
              "    .dataframe thead tr th {\n",
              "        text-align: left;\n",
              "    }\n",
              "\n",
              "    .dataframe thead tr:last-of-type th {\n",
              "        text-align: right;\n",
              "    }\n",
              "</style>\n",
              "<table border=\"1\" class=\"dataframe\">\n",
              "  <thead>\n",
              "    <tr>\n",
              "      <th></th>\n",
              "      <th></th>\n",
              "      <th colspan=\"3\" halign=\"left\">Science</th>\n",
              "    </tr>\n",
              "    <tr>\n",
              "      <th></th>\n",
              "      <th></th>\n",
              "      <th>mean</th>\n",
              "      <th>min</th>\n",
              "      <th>max</th>\n",
              "    </tr>\n",
              "    <tr>\n",
              "      <th>Zone</th>\n",
              "      <th>School</th>\n",
              "      <th></th>\n",
              "      <th></th>\n",
              "      <th></th>\n",
              "    </tr>\n",
              "  </thead>\n",
              "  <tbody>\n",
              "    <tr>\n",
              "      <th>East</th>\n",
              "      <th>Shermer</th>\n",
              "      <td>55.5</td>\n",
              "      <td>45</td>\n",
              "      <td>66</td>\n",
              "    </tr>\n",
              "    <tr>\n",
              "      <th>North</th>\n",
              "      <th>Rushmore</th>\n",
              "      <td>70.0</td>\n",
              "      <td>70</td>\n",
              "      <td>70</td>\n",
              "    </tr>\n",
              "    <tr>\n",
              "      <th rowspan=\"2\" valign=\"top\">South</th>\n",
              "      <th>Bayside</th>\n",
              "      <td>68.0</td>\n",
              "      <td>68</td>\n",
              "      <td>68</td>\n",
              "    </tr>\n",
              "    <tr>\n",
              "      <th>Rydell</th>\n",
              "      <td>90.0</td>\n",
              "      <td>90</td>\n",
              "      <td>90</td>\n",
              "    </tr>\n",
              "    <tr>\n",
              "      <th rowspan=\"2\" valign=\"top\">West</th>\n",
              "      <th>Hogwarts</th>\n",
              "      <td>65.0</td>\n",
              "      <td>32</td>\n",
              "      <td>98</td>\n",
              "    </tr>\n",
              "    <tr>\n",
              "      <th>Ridgemont</th>\n",
              "      <td>89.0</td>\n",
              "      <td>89</td>\n",
              "      <td>89</td>\n",
              "    </tr>\n",
              "  </tbody>\n",
              "</table>\n",
              "</div>"
            ],
            "text/plain": [
              "                Science        \n",
              "                   mean min max\n",
              "Zone  School                   \n",
              "East  Shermer      55.5  45  66\n",
              "North Rushmore     70.0  70  70\n",
              "South Bayside      68.0  68  68\n",
              "      Rydell       90.0  90  90\n",
              "West  Hogwarts     65.0  32  98\n",
              "      Ridgemont    89.0  89  89"
            ]
          },
          "metadata": {
            "tags": []
          },
          "execution_count": 12
        }
      ]
    },
    {
      "cell_type": "code",
      "metadata": {
        "colab": {
          "base_uri": "https://localhost:8080/",
          "height": 297
        },
        "id": "Gf2fmuiOw_zp",
        "outputId": "1f086839-27c5-4268-b3dd-f4b91f829965"
      },
      "source": [
        "df.groupby(['Zone','School']).agg({'Science':['mean','min','max'],\n",
        "                                   'Math'   :['mean','min','max']})"
      ],
      "execution_count": 13,
      "outputs": [
        {
          "output_type": "execute_result",
          "data": {
            "text/html": [
              "<div>\n",
              "<style scoped>\n",
              "    .dataframe tbody tr th:only-of-type {\n",
              "        vertical-align: middle;\n",
              "    }\n",
              "\n",
              "    .dataframe tbody tr th {\n",
              "        vertical-align: top;\n",
              "    }\n",
              "\n",
              "    .dataframe thead tr th {\n",
              "        text-align: left;\n",
              "    }\n",
              "\n",
              "    .dataframe thead tr:last-of-type th {\n",
              "        text-align: right;\n",
              "    }\n",
              "</style>\n",
              "<table border=\"1\" class=\"dataframe\">\n",
              "  <thead>\n",
              "    <tr>\n",
              "      <th></th>\n",
              "      <th></th>\n",
              "      <th colspan=\"3\" halign=\"left\">Science</th>\n",
              "      <th colspan=\"3\" halign=\"left\">Math</th>\n",
              "    </tr>\n",
              "    <tr>\n",
              "      <th></th>\n",
              "      <th></th>\n",
              "      <th>mean</th>\n",
              "      <th>min</th>\n",
              "      <th>max</th>\n",
              "      <th>mean</th>\n",
              "      <th>min</th>\n",
              "      <th>max</th>\n",
              "    </tr>\n",
              "    <tr>\n",
              "      <th>Zone</th>\n",
              "      <th>School</th>\n",
              "      <th></th>\n",
              "      <th></th>\n",
              "      <th></th>\n",
              "      <th></th>\n",
              "      <th></th>\n",
              "      <th></th>\n",
              "    </tr>\n",
              "  </thead>\n",
              "  <tbody>\n",
              "    <tr>\n",
              "      <th>East</th>\n",
              "      <th>Shermer</th>\n",
              "      <td>55.5</td>\n",
              "      <td>45</td>\n",
              "      <td>66</td>\n",
              "      <td>78.0</td>\n",
              "      <td>67</td>\n",
              "      <td>89</td>\n",
              "    </tr>\n",
              "    <tr>\n",
              "      <th>North</th>\n",
              "      <th>Rushmore</th>\n",
              "      <td>70.0</td>\n",
              "      <td>70</td>\n",
              "      <td>70</td>\n",
              "      <td>78.0</td>\n",
              "      <td>78</td>\n",
              "      <td>78</td>\n",
              "    </tr>\n",
              "    <tr>\n",
              "      <th rowspan=\"2\" valign=\"top\">South</th>\n",
              "      <th>Bayside</th>\n",
              "      <td>68.0</td>\n",
              "      <td>68</td>\n",
              "      <td>68</td>\n",
              "      <td>76.0</td>\n",
              "      <td>76</td>\n",
              "      <td>76</td>\n",
              "    </tr>\n",
              "    <tr>\n",
              "      <th>Rydell</th>\n",
              "      <td>90.0</td>\n",
              "      <td>90</td>\n",
              "      <td>90</td>\n",
              "      <td>56.0</td>\n",
              "      <td>56</td>\n",
              "      <td>56</td>\n",
              "    </tr>\n",
              "    <tr>\n",
              "      <th rowspan=\"2\" valign=\"top\">West</th>\n",
              "      <th>Hogwarts</th>\n",
              "      <td>65.0</td>\n",
              "      <td>32</td>\n",
              "      <td>98</td>\n",
              "      <td>65.5</td>\n",
              "      <td>55</td>\n",
              "      <td>76</td>\n",
              "    </tr>\n",
              "    <tr>\n",
              "      <th>Ridgemont</th>\n",
              "      <td>89.0</td>\n",
              "      <td>89</td>\n",
              "      <td>89</td>\n",
              "      <td>100.0</td>\n",
              "      <td>100</td>\n",
              "      <td>100</td>\n",
              "    </tr>\n",
              "  </tbody>\n",
              "</table>\n",
              "</div>"
            ],
            "text/plain": [
              "                Science           Math          \n",
              "                   mean min max   mean  min  max\n",
              "Zone  School                                    \n",
              "East  Shermer      55.5  45  66   78.0   67   89\n",
              "North Rushmore     70.0  70  70   78.0   78   78\n",
              "South Bayside      68.0  68  68   76.0   76   76\n",
              "      Rydell       90.0  90  90   56.0   56   56\n",
              "West  Hogwarts     65.0  32  98   65.5   55   76\n",
              "      Ridgemont    89.0  89  89  100.0  100  100"
            ]
          },
          "metadata": {
            "tags": []
          },
          "execution_count": 13
        }
      ]
    },
    {
      "cell_type": "code",
      "metadata": {
        "id": "pWakIoFoxBmS"
      },
      "source": [
        "def grade(score):\n",
        "    if (score >= 50).all():\n",
        "        return 'All Pass'\n",
        "    else:\n",
        "        return 'Some Failure'"
      ],
      "execution_count": 14,
      "outputs": []
    },
    {
      "cell_type": "code",
      "metadata": {
        "colab": {
          "base_uri": "https://localhost:8080/",
          "height": 297
        },
        "id": "oXggjVUdxCmK",
        "outputId": "6108759b-2632-4c87-ffec-764cc0a95c15"
      },
      "source": [
        "df.groupby(['Zone','School']).agg({'Science':['mean','min','max',grade]})"
      ],
      "execution_count": 15,
      "outputs": [
        {
          "output_type": "execute_result",
          "data": {
            "text/html": [
              "<div>\n",
              "<style scoped>\n",
              "    .dataframe tbody tr th:only-of-type {\n",
              "        vertical-align: middle;\n",
              "    }\n",
              "\n",
              "    .dataframe tbody tr th {\n",
              "        vertical-align: top;\n",
              "    }\n",
              "\n",
              "    .dataframe thead tr th {\n",
              "        text-align: left;\n",
              "    }\n",
              "\n",
              "    .dataframe thead tr:last-of-type th {\n",
              "        text-align: right;\n",
              "    }\n",
              "</style>\n",
              "<table border=\"1\" class=\"dataframe\">\n",
              "  <thead>\n",
              "    <tr>\n",
              "      <th></th>\n",
              "      <th></th>\n",
              "      <th colspan=\"4\" halign=\"left\">Science</th>\n",
              "    </tr>\n",
              "    <tr>\n",
              "      <th></th>\n",
              "      <th></th>\n",
              "      <th>mean</th>\n",
              "      <th>min</th>\n",
              "      <th>max</th>\n",
              "      <th>grade</th>\n",
              "    </tr>\n",
              "    <tr>\n",
              "      <th>Zone</th>\n",
              "      <th>School</th>\n",
              "      <th></th>\n",
              "      <th></th>\n",
              "      <th></th>\n",
              "      <th></th>\n",
              "    </tr>\n",
              "  </thead>\n",
              "  <tbody>\n",
              "    <tr>\n",
              "      <th>East</th>\n",
              "      <th>Shermer</th>\n",
              "      <td>55.5</td>\n",
              "      <td>45</td>\n",
              "      <td>66</td>\n",
              "      <td>Some Failure</td>\n",
              "    </tr>\n",
              "    <tr>\n",
              "      <th>North</th>\n",
              "      <th>Rushmore</th>\n",
              "      <td>70.0</td>\n",
              "      <td>70</td>\n",
              "      <td>70</td>\n",
              "      <td>All Pass</td>\n",
              "    </tr>\n",
              "    <tr>\n",
              "      <th rowspan=\"2\" valign=\"top\">South</th>\n",
              "      <th>Bayside</th>\n",
              "      <td>68.0</td>\n",
              "      <td>68</td>\n",
              "      <td>68</td>\n",
              "      <td>All Pass</td>\n",
              "    </tr>\n",
              "    <tr>\n",
              "      <th>Rydell</th>\n",
              "      <td>90.0</td>\n",
              "      <td>90</td>\n",
              "      <td>90</td>\n",
              "      <td>All Pass</td>\n",
              "    </tr>\n",
              "    <tr>\n",
              "      <th rowspan=\"2\" valign=\"top\">West</th>\n",
              "      <th>Hogwarts</th>\n",
              "      <td>65.0</td>\n",
              "      <td>32</td>\n",
              "      <td>98</td>\n",
              "      <td>Some Failure</td>\n",
              "    </tr>\n",
              "    <tr>\n",
              "      <th>Ridgemont</th>\n",
              "      <td>89.0</td>\n",
              "      <td>89</td>\n",
              "      <td>89</td>\n",
              "      <td>All Pass</td>\n",
              "    </tr>\n",
              "  </tbody>\n",
              "</table>\n",
              "</div>"
            ],
            "text/plain": [
              "                Science                      \n",
              "                   mean min max         grade\n",
              "Zone  School                                 \n",
              "East  Shermer      55.5  45  66  Some Failure\n",
              "North Rushmore     70.0  70  70      All Pass\n",
              "South Bayside      68.0  68  68      All Pass\n",
              "      Rydell       90.0  90  90      All Pass\n",
              "West  Hogwarts     65.0  32  98  Some Failure\n",
              "      Ridgemont    89.0  89  89      All Pass"
            ]
          },
          "metadata": {
            "tags": []
          },
          "execution_count": 15
        }
      ]
    }
  ]
}