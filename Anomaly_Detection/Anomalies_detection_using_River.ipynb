{
  "nbformat": 4,
  "nbformat_minor": 0,
  "metadata": {
    "colab": {
      "name": "Anomalies detection using River.ipynb",
      "provenance": [],
      "authorship_tag": "ABX9TyNi/8go7oo1+RUXQtph7XND"
    },
    "kernelspec": {
      "name": "python3",
      "display_name": "Python 3"
    },
    "language_info": {
      "name": "python"
    }
  },
  "cells": [
    {
      "cell_type": "markdown",
      "metadata": {
        "id": "naXv4fqWSaW5"
      },
      "source": [
        "[Reference](https://medium.com/spikelab/anomalies-detection-using-river-398544d3536)"
      ]
    },
    {
      "cell_type": "code",
      "metadata": {
        "colab": {
          "base_uri": "https://localhost:8080/"
        },
        "id": "0foNbLKZSkOt",
        "outputId": "101b6151-dd5e-493d-e9d4-d52483d452ae"
      },
      "source": [
        "!pip install river"
      ],
      "execution_count": 2,
      "outputs": [
        {
          "output_type": "stream",
          "name": "stdout",
          "text": [
            "Collecting river\n",
            "  Downloading river-0.9.0-cp37-cp37m-manylinux_2_5_x86_64.manylinux1_x86_64.manylinux_2_17_x86_64.manylinux2014_x86_64.whl (2.5 MB)\n",
            "\u001b[K     |████████████████████████████████| 2.5 MB 4.9 MB/s \n",
            "\u001b[?25hRequirement already satisfied: pandas>=1.0.1 in /usr/local/lib/python3.7/dist-packages (from river) (1.1.5)\n",
            "Requirement already satisfied: scipy>=1.4.1 in /usr/local/lib/python3.7/dist-packages (from river) (1.4.1)\n",
            "Requirement already satisfied: numpy>=1.18.1 in /usr/local/lib/python3.7/dist-packages (from river) (1.19.5)\n",
            "Requirement already satisfied: pytz>=2017.2 in /usr/local/lib/python3.7/dist-packages (from pandas>=1.0.1->river) (2018.9)\n",
            "Requirement already satisfied: python-dateutil>=2.7.3 in /usr/local/lib/python3.7/dist-packages (from pandas>=1.0.1->river) (2.8.2)\n",
            "Requirement already satisfied: six>=1.5 in /usr/local/lib/python3.7/dist-packages (from python-dateutil>=2.7.3->pandas>=1.0.1->river) (1.15.0)\n",
            "Installing collected packages: river\n",
            "Successfully installed river-0.9.0\n"
          ]
        }
      ]
    },
    {
      "cell_type": "code",
      "metadata": {
        "id": "-jhYWcrmSYXi"
      },
      "source": [
        "from river import feature_extraction as fx\n",
        "from river import compose, stats\n",
        "\n",
        "features_pipeline = compose.TransformerUnion(\n",
        "    compose.Select('TotalPaid'),\n",
        "    compose.Select('PercentageDiscount'),\n",
        "    compose.Select('StoreId'),\n",
        "    #A lot of features goes here...\n",
        "    #\n",
        "    fx.Agg(on='TotalPaid', by='StoreID', how=RollingMean(window_size=WINDOWS_SIZE)),\n",
        "    fx.Agg(on='PercentageDiscount', by='StoreID', how=RollingMean(window_size=WINDOWS_SIZE))\n",
        "    #A lot of features goes here...\n",
        "    #\n",
        ")"
      ],
      "execution_count": 4,
      "outputs": []
    },
    {
      "cell_type": "code",
      "metadata": {
        "id": "NlYrTNFwSdt7"
      },
      "source": [
        "def build_model(n_tress=25, height=10, window_size=250):\n",
        "    \n",
        "  features_pipeline = compose.TransformerUnion(\n",
        "      compose.Select('TotalPaid'),\n",
        "      compose.Select('PercentageDiscount'),\n",
        "      compose.Select('StoreId'),\n",
        "      #A lot of features goes here...\n",
        "      #\n",
        "      fx.Agg(on='TotalPaid', by='StoreID', how=RollingMean(window_size=window_size)),\n",
        "      fx.Agg(on='PercentageDiscount', by='StoreID', how=RollingMean(window_size=window_size))\n",
        "      #A lot of features goes here...\n",
        "      #\n",
        "\n",
        "    categorical_features = compose.Pipeline(\n",
        "        compose.SelectType(str),\n",
        "        preprocessing.OneHotEncoder()\n",
        "    )\n",
        "\n",
        "    numerical_features = compose.Pipeline(\n",
        "            compose.SelectType(numbers.Number),\n",
        "            preprocessing.MinMaxScaler()\n",
        "        )\n",
        "\n",
        "    model = compose.Pipeline(features_pipeline,\n",
        "                            numerical_features + categorical_features,\n",
        "                            anomaly.HalfSpaceTrees(n_trees=n_tress, height=height, window_size=window_size))\n",
        "    return model"
      ],
      "execution_count": 5,
      "outputs": []
    },
    {
      "cell_type": "code",
      "metadata": {
        "id": "jEflE-thSq5k"
      },
      "source": [
        "def train_model_callback(message, model):\n",
        "    data = message.data.decode(\"utf-8\")\n",
        "    transaction = Transaction.parse_raw(data)\n",
        "    if transaction.TransactionType == \"Sale\":\n",
        "        features = create_features(transaction)\n",
        "        x = features.__dict__ #River need a Dict for training\n",
        "        score = model.score_one(x)\n",
        "        #...\n",
        "        #Generate metrics, insert the prediction into BigQuery\n",
        "        #and a few steps more.\n",
        "        #....\n",
        "        model = model.learn_one(x=x) #Feed River with the need data\n",
        "        return model"
      ],
      "execution_count": 6,
      "outputs": []
    }
  ]
}