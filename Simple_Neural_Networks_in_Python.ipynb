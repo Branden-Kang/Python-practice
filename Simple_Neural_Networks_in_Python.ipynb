{
  "nbformat": 4,
  "nbformat_minor": 0,
  "metadata": {
    "colab": {
      "name": "Simple Neural Networks in Python.ipynb",
      "provenance": [],
      "authorship_tag": "ABX9TyM5QLA97I/MQm5ZpeE4soze"
    },
    "kernelspec": {
      "name": "python3",
      "display_name": "Python 3"
    }
  },
  "cells": [
    {
      "cell_type": "markdown",
      "metadata": {
        "id": "NUx_C649fl4s"
      },
      "source": [
        "[Reference](https://towardsdatascience.com/inroduction-to-neural-networks-in-python-7e0b422e6c24)"
      ]
    },
    {
      "cell_type": "code",
      "metadata": {
        "id": "SfsrPAHcfhCZ",
        "outputId": "09db9f49-b65f-416f-97b7-64c6ae34a77b",
        "colab": {
          "base_uri": "https://localhost:8080/",
          "height": 274
        }
      },
      "source": [
        "import numpy as np # helps with the math\n",
        "import matplotlib.pyplot as plt # to plot error during training\n",
        "\n",
        "# input data\n",
        "inputs = np.array([[0, 1, 0],\n",
        "                   [0, 1, 1],\n",
        "                   [0, 0, 0],\n",
        "                   [1, 0, 0],\n",
        "                   [1, 1, 1],\n",
        "                   [1, 0, 1]])\n",
        "# output data\n",
        "outputs = np.array([[0], [0], [0], [1], [1], [1]])\n",
        "\n",
        "# create NeuralNetwork class\n",
        "class NeuralNetwork:\n",
        "\n",
        "    # intialize variables in class\n",
        "    def __init__(self, inputs, outputs):\n",
        "        self.inputs  = inputs\n",
        "        self.outputs = outputs\n",
        "        # initialize weights as .50 for simplicity\n",
        "        self.weights = np.array([[.50], [.50], [.50]])\n",
        "        self.error_history = []\n",
        "        self.epoch_list = []\n",
        "\n",
        "    #activation function ==> S(x) = 1/1+e^(-x)\n",
        "    def sigmoid(self, x, deriv=False):\n",
        "        if deriv == True:\n",
        "            return x * (1 - x)\n",
        "        return 1 / (1 + np.exp(-x))\n",
        "\n",
        "    # data will flow through the neural network.\n",
        "    def feed_forward(self):\n",
        "        self.hidden = self.sigmoid(np.dot(self.inputs, self.weights))\n",
        "\n",
        "    # going backwards through the network to update weights\n",
        "    def backpropagation(self):\n",
        "        self.error  = self.outputs - self.hidden\n",
        "        delta = self.error * self.sigmoid(self.hidden, deriv=True)\n",
        "        self.weights += np.dot(self.inputs.T, delta)\n",
        "\n",
        "    # train the neural net for 25,000 iterations\n",
        "    def train(self, epochs=25000):\n",
        "        for epoch in range(epochs):\n",
        "            # flow forward and produce an output\n",
        "            self.feed_forward()\n",
        "            # go back though the network to make corrections based on the output\n",
        "            self.backpropagation()    \n",
        "            # keep track of the error history over each epoch\n",
        "            self.error_history.append(np.average(np.abs(self.error)))\n",
        "            self.epoch_list.append(epoch)\n",
        "\n",
        "    # function to predict output on new and unseen input data                               \n",
        "    def predict(self, new_input):\n",
        "        prediction = self.sigmoid(np.dot(new_input, self.weights))\n",
        "        return prediction\n",
        "\n",
        "# create neural network   \n",
        "NN = NeuralNetwork(inputs, outputs)\n",
        "# train neural network\n",
        "NN.train()\n",
        "\n",
        "# create two new examples to predict                                   \n",
        "example = np.array([[1, 1, 0]])\n",
        "example_2 = np.array([[0, 1, 1]])\n",
        "\n",
        "# print the predictions for both examples                                   \n",
        "print(NN.predict(example), ' - Correct: ', example[0][0])\n",
        "print(NN.predict(example_2), ' - Correct: ', example_2[0][0])\n",
        "\n",
        "# plot the error over the entire training duration\n",
        "plt.figure(figsize=(15,5))\n",
        "plt.plot(NN.epoch_list, NN.error_history)\n",
        "plt.xlabel('Epoch')\n",
        "plt.ylabel('Error')\n",
        "plt.show()"
      ],
      "execution_count": 1,
      "outputs": [
        {
          "output_type": "stream",
          "text": [
            "[[0.99089925]]  - Correct:  1\n",
            "[[0.006409]]  - Correct:  0\n"
          ],
          "name": "stdout"
        },
        {
          "output_type": "display_data",
          "data": {
            "image/png": "[encoded data removed]",
            "text/plain": [
              "<Figure size 1080x360 with 1 Axes>"
            ]
          },
          "metadata": {
            "tags": [],
            "needs_background": "light"
          }
        }
      ]
    }
  ]
}