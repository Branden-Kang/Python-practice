{
  "nbformat": 4,
  "nbformat_minor": 0,
  "metadata": {
    "colab": {
      "provenance": [],
      "authorship_tag": "ABX9TyPZOISIIXGwisa7waAFd6EO"
    },
    "kernelspec": {
      "name": "python3",
      "display_name": "Python 3"
    },
    "language_info": {
      "name": "python"
    }
  },
  "cells": [
    {
      "cell_type": "markdown",
      "source": [
        "[Reference](https://rathoreaparna678.medium.com/five-python-decorators-that-can-reduce-your-code-by-half-158dcb97111e)"
      ],
      "metadata": {
        "id": "29URlc7zXJha"
      }
    },
    {
      "cell_type": "markdown",
      "source": [
        "# 1. **`@staticmethod` Decorator:**"
      ],
      "metadata": {
        "id": "VrN5ArYWXL4d"
      }
    },
    {
      "cell_type": "code",
      "execution_count": 1,
      "metadata": {
        "id": "tccv1fdCXEq8"
      },
      "outputs": [],
      "source": [
        "class MathUtils:\n",
        "    @staticmethod\n",
        "    def add(a, b):\n",
        "        return a + b\n",
        "\n",
        "result = MathUtils.add(5, 3)"
      ]
    },
    {
      "cell_type": "markdown",
      "source": [
        "# 2. **`@classmethod` Decorator:**"
      ],
      "metadata": {
        "id": "kbNguswFXVsy"
      }
    },
    {
      "cell_type": "code",
      "source": [
        "class StringUtils:\n",
        "    @classmethod\n",
        "    def repeat(cls, string, times):\n",
        "        return string * times\n",
        "\n",
        "repeated = StringUtils.repeat(\"Hello\", 3)\n",
        "print(repeated)"
      ],
      "metadata": {
        "colab": {
          "base_uri": "https://localhost:8080/"
        },
        "id": "hE45RZw4XRXi",
        "outputId": "d6e18b47-0246-4f69-ddae-69a5c63ad35b"
      },
      "execution_count": 3,
      "outputs": [
        {
          "output_type": "stream",
          "name": "stdout",
          "text": [
            "HelloHelloHello\n"
          ]
        }
      ]
    },
    {
      "cell_type": "markdown",
      "source": [
        "# 3. **`@property` Decorator:**"
      ],
      "metadata": {
        "id": "iwanSZ5HXh30"
      }
    },
    {
      "cell_type": "code",
      "source": [
        "class Circle:\n",
        "    def __init__(self, radius):\n",
        "        self._radius = radius\n",
        "    @property\n",
        "    def area(self):\n",
        "        return 3.14 * self._radius ** 2\n",
        "circle = Circle(5)\n",
        "print(circle.area)"
      ],
      "metadata": {
        "colab": {
          "base_uri": "https://localhost:8080/"
        },
        "id": "4-bBfqB4XbzF",
        "outputId": "d5270fe5-f979-4c80-afe5-55def37a8a50"
      },
      "execution_count": 4,
      "outputs": [
        {
          "output_type": "stream",
          "name": "stdout",
          "text": [
            "78.5\n"
          ]
        }
      ]
    },
    {
      "cell_type": "markdown",
      "source": [
        "# 4. **`@cached_property` Decorator:**"
      ],
      "metadata": {
        "id": "TZ_xp1kfXtDp"
      }
    },
    {
      "cell_type": "code",
      "source": [
        "!pip install cached_property"
      ],
      "metadata": {
        "colab": {
          "base_uri": "https://localhost:8080/"
        },
        "id": "0csV_r87X1wj",
        "outputId": "711faa03-1535-4138-9ae9-1ebc494620f8"
      },
      "execution_count": 6,
      "outputs": [
        {
          "output_type": "stream",
          "name": "stdout",
          "text": [
            "Collecting cached_property\n",
            "  Downloading cached_property-1.5.2-py2.py3-none-any.whl (7.6 kB)\n",
            "Installing collected packages: cached_property\n",
            "Successfully installed cached_property-1.5.2\n"
          ]
        }
      ]
    },
    {
      "cell_type": "code",
      "source": [
        "from cached_property import cached_property\n",
        "\n",
        "class ExpensiveData:\n",
        "    @cached_property\n",
        "    def compute(self):\n",
        "        # Expensive computation\n",
        "        return result\n",
        "\n",
        "data = ExpensiveData()\n",
        "print(data.compute) # Computation happens, result cached\n",
        "print(data.compute) # Cached result returned without recomputation"
      ],
      "metadata": {
        "colab": {
          "base_uri": "https://localhost:8080/"
        },
        "id": "AyLWNTmgXo2P",
        "outputId": "8acdbe36-16a2-4cce-86bb-4ecf767cdcdc"
      },
      "execution_count": 7,
      "outputs": [
        {
          "output_type": "stream",
          "name": "stdout",
          "text": [
            "8\n",
            "8\n"
          ]
        }
      ]
    },
    {
      "cell_type": "markdown",
      "source": [
        "# 5. **`@functools.lru_cache` Decorator:**"
      ],
      "metadata": {
        "id": "34KpJ_t2X4Y_"
      }
    },
    {
      "cell_type": "code",
      "source": [
        "from functools import lru_cache\n",
        "\n",
        "@lru_cache(maxsize=None) # Cache unlimited number of calls\n",
        "def fibonacci(n):\n",
        "    if n <= 1:\n",
        "        return n\n",
        "    return fibonacci(n - 1) + fibonacci(n - 2)"
      ],
      "metadata": {
        "id": "nnskRP_XXzNN"
      },
      "execution_count": 9,
      "outputs": []
    }
  ]
}