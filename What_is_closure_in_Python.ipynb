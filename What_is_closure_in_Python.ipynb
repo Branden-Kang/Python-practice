{
  "nbformat": 4,
  "nbformat_minor": 0,
  "metadata": {
    "colab": {
      "provenance": [],
      "authorship_tag": "ABX9TyPmSQRi3GIFr80UIFBKOmHH"
    },
    "kernelspec": {
      "name": "python3",
      "display_name": "Python 3"
    },
    "language_info": {
      "name": "python"
    }
  },
  "cells": [
    {
      "cell_type": "markdown",
      "source": [
        "[Reference](https://medium.com/@SergiAlfonso/what-is-closure-in-python-7eec3e663b4b)"
      ],
      "metadata": {
        "id": "6QPS85j8YV7c"
      }
    },
    {
      "cell_type": "code",
      "execution_count": 1,
      "metadata": {
        "colab": {
          "base_uri": "https://localhost:8080/"
        },
        "id": "28ug1584YKs_",
        "outputId": "e137841e-5f3f-47c2-d3fa-0433f6112f41"
      },
      "outputs": [
        {
          "output_type": "stream",
          "name": "stdout",
          "text": [
            "I'm outer.\n",
            "I'm inner.\n"
          ]
        }
      ],
      "source": [
        "def outer():\n",
        "    print(\"I'm outer.\")    \n",
        "    def inner():\n",
        "        print(\"I'm inner.\")    \n",
        "        \n",
        "    return inner\n",
        "\n",
        "fn = outer()\n",
        "fn()"
      ]
    },
    {
      "cell_type": "code",
      "source": [
        "def make_min_max():\n",
        "    data = []    \n",
        "    \n",
        "    def min_max(elem):\n",
        "        data.append(elem)\n",
        "        _min = min(data)\n",
        "        _max = max(data)\n",
        "        return f\"Minimum so far {_min}, Maximum so far {_max}\"    \n",
        "        \n",
        "    return min_max\n",
        "\n",
        "_min_max = make_min_max()"
      ],
      "metadata": {
        "id": "i8cWXW2WYdcm"
      },
      "execution_count": 2,
      "outputs": []
    },
    {
      "cell_type": "code",
      "source": [
        "print(_min_max(16))\n",
        "print(_min_max(10))\n",
        "print(_min_max(1))\n",
        "print(_min_max(60))"
      ],
      "metadata": {
        "colab": {
          "base_uri": "https://localhost:8080/"
        },
        "id": "0fsqayfTYnH8",
        "outputId": "afe7ebf8-7cf1-40bd-c673-44b942d534d4"
      },
      "execution_count": 3,
      "outputs": [
        {
          "output_type": "stream",
          "name": "stdout",
          "text": [
            "Minimum so far 16, Maximum so far 16\n",
            "Minimum so far 10, Maximum so far 16\n",
            "Minimum so far 1, Maximum so far 16\n",
            "Minimum so far 1, Maximum so far 60\n"
          ]
        }
      ]
    },
    {
      "cell_type": "code",
      "source": [
        "def make_min_max():\n",
        "    _min = float('inf')\n",
        "    _max = float('-inf')    \n",
        "    \n",
        "    def min_max(elem):\n",
        "        nonlocal _min, _max\n",
        "        _min = min(_min, elem)\n",
        "        _max = max(_max, elem)\n",
        "        return f\"Minimum so far {_min}, Maximum so far {_max}\"    \n",
        "        \n",
        "    return min_max\n",
        "\n",
        "_min_max = make_min_max()\n",
        "print(_min_max(16))"
      ],
      "metadata": {
        "colab": {
          "base_uri": "https://localhost:8080/"
        },
        "id": "MB6dkAxqYqdB",
        "outputId": "2348de69-dde9-4954-ae26-d30c83c05f7f"
      },
      "execution_count": 5,
      "outputs": [
        {
          "output_type": "stream",
          "name": "stdout",
          "text": [
            "Minimum so far 16, Maximum so far 16\n"
          ]
        }
      ]
    }
  ]
}