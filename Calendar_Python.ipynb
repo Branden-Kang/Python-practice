{
  "nbformat": 4,
  "nbformat_minor": 0,
  "metadata": {
    "colab": {
      "name": "Calendar Python.ipynb",
      "provenance": [],
      "authorship_tag": "ABX9TyO6kVdvrTYCcV0zmVsEDihP"
    },
    "kernelspec": {
      "name": "python3",
      "display_name": "Python 3"
    },
    "language_info": {
      "name": "python"
    }
  },
  "cells": [
    {
      "cell_type": "markdown",
      "metadata": {
        "id": "CrPDvJqFbCxg"
      },
      "source": [
        "[Reference](https://jainkrishna05.medium.com/calendar-python-aa198bd8c009)"
      ]
    },
    {
      "cell_type": "code",
      "metadata": {
        "colab": {
          "base_uri": "https://localhost:8080/"
        },
        "id": "T6kfgZWFTD-5",
        "outputId": "8cbede58-295b-4132-8615-0e33145bc883"
      },
      "source": [
        "import calendar\n",
        "\n",
        "print (\"The calendar of year 2023 is : \")\n",
        "\n",
        "print (calendar.calendar(2023))"
      ],
      "execution_count": 2,
      "outputs": [
        {
          "output_type": "stream",
          "text": [
            "The calendar of year 2023 is : \n",
            "                                  2023\n",
            "\n",
            "      January                   February                   March\n",
            "Mo Tu We Th Fr Sa Su      Mo Tu We Th Fr Sa Su      Mo Tu We Th Fr Sa Su\n",
            "                   1             1  2  3  4  5             1  2  3  4  5\n",
            " 2  3  4  5  6  7  8       6  7  8  9 10 11 12       6  7  8  9 10 11 12\n",
            " 9 10 11 12 13 14 15      13 14 15 16 17 18 19      13 14 15 16 17 18 19\n",
            "16 17 18 19 20 21 22      20 21 22 23 24 25 26      20 21 22 23 24 25 26\n",
            "23 24 25 26 27 28 29      27 28                     27 28 29 30 31\n",
            "30 31\n",
            "\n",
            "       April                      May                       June\n",
            "Mo Tu We Th Fr Sa Su      Mo Tu We Th Fr Sa Su      Mo Tu We Th Fr Sa Su\n",
            "                1  2       1  2  3  4  5  6  7                1  2  3  4\n",
            " 3  4  5  6  7  8  9       8  9 10 11 12 13 14       5  6  7  8  9 10 11\n",
            "10 11 12 13 14 15 16      15 16 17 18 19 20 21      12 13 14 15 16 17 18\n",
            "17 18 19 20 21 22 23      22 23 24 25 26 27 28      19 20 21 22 23 24 25\n",
            "24 25 26 27 28 29 30      29 30 31                  26 27 28 29 30\n",
            "\n",
            "        July                     August                  September\n",
            "Mo Tu We Th Fr Sa Su      Mo Tu We Th Fr Sa Su      Mo Tu We Th Fr Sa Su\n",
            "                1  2          1  2  3  4  5  6                   1  2  3\n",
            " 3  4  5  6  7  8  9       7  8  9 10 11 12 13       4  5  6  7  8  9 10\n",
            "10 11 12 13 14 15 16      14 15 16 17 18 19 20      11 12 13 14 15 16 17\n",
            "17 18 19 20 21 22 23      21 22 23 24 25 26 27      18 19 20 21 22 23 24\n",
            "24 25 26 27 28 29 30      28 29 30 31               25 26 27 28 29 30\n",
            "31\n",
            "\n",
            "      October                   November                  December\n",
            "Mo Tu We Th Fr Sa Su      Mo Tu We Th Fr Sa Su      Mo Tu We Th Fr Sa Su\n",
            "                   1             1  2  3  4  5                   1  2  3\n",
            " 2  3  4  5  6  7  8       6  7  8  9 10 11 12       4  5  6  7  8  9 10\n",
            " 9 10 11 12 13 14 15      13 14 15 16 17 18 19      11 12 13 14 15 16 17\n",
            "16 17 18 19 20 21 22      20 21 22 23 24 25 26      18 19 20 21 22 23 24\n",
            "23 24 25 26 27 28 29      27 28 29 30               25 26 27 28 29 30 31\n",
            "30 31\n",
            "\n"
          ],
          "name": "stdout"
        }
      ]
    },
    {
      "cell_type": "code",
      "metadata": {
        "colab": {
          "base_uri": "https://localhost:8080/"
        },
        "id": "5yYustlFbGnr",
        "outputId": "67f1c9c1-0704-43f2-d619-669fda5b6fb5"
      },
      "source": [
        "import calendar\n",
        "\n",
        "yy = 2033\n",
        "\n",
        "mm = 5\n",
        "\n",
        "print(calendar.month(yy, mm))"
      ],
      "execution_count": 3,
      "outputs": [
        {
          "output_type": "stream",
          "text": [
            "      May 2033\n",
            "Mo Tu We Th Fr Sa Su\n",
            "                   1\n",
            " 2  3  4  5  6  7  8\n",
            " 9 10 11 12 13 14 15\n",
            "16 17 18 19 20 21 22\n",
            "23 24 25 26 27 28 29\n",
            "30 31\n",
            "\n"
          ],
          "name": "stdout"
        }
      ]
    },
    {
      "cell_type": "code",
      "metadata": {
        "id": "DQ6TZn_LbJUP"
      },
      "source": [
        "from tkinter import *\n",
        "import calendar   \n",
        "def showCal() :       \n",
        "    new_gui = Tk()    \n",
        "    new_gui.config(background = \"white\")     \n",
        "    new_gui.title(\"CALENDAR\")     \n",
        "    new_gui.geometry(\"600x600\")     \n",
        "    fetch_year = int(year_field.get())     \n",
        "    cal_content = calendar.calendar(fetch_year)      \n",
        "    cal_year=Label(new_gui,text=cal_content,font=\"Consolas 10 bold\")    \n",
        "                                                                                    \n",
        "    cal_year.grid(row = 5, column = 1, padx = 20)              \n",
        "    new_gui.mainloop()\n",
        "\n",
        "if __name__ == \"__main__\" :      \n",
        "    gui = Tk()    \n",
        "    gui.config(background = \"white\")      \n",
        "    gui.title(\"CALENDAR\")     \n",
        "    gui.geometry(\"300x300\")     \n",
        "    cal = Label(gui, text = \"CALENDAR\", bg = \"green\",font = (\"times\",  28, 'bold'))    \n",
        "    year = Label(gui, text = \"Enter Year\", bg = \"blue\")            \n",
        "    year_field = Entry(gui)    \n",
        "    Show = Button(gui, text = \"Show Calendar\", fg = \"Black\",                               \n",
        "                  bg = \"Red\", command = showCal)     \n",
        "    Exit = Button(gui, text = \"Exit\", fg = \"Black\", bg = \"Red\",command = exit)    \n",
        "    cal.grid(row = 1, column = 1)     \n",
        "    year.grid(row = 2, column = 1)     \n",
        "    year_field.grid(row = 3, column = 1)     \n",
        "    Show.grid(row = 4, column = 1)     \n",
        "    Exit.grid(row = 6, column = 1)      \n",
        "    gui.mainloop()"
      ],
      "execution_count": 4,
      "outputs": []
    }
  ]
}