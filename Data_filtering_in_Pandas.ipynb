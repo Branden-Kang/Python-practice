{
  "nbformat": 4,
  "nbformat_minor": 0,
  "metadata": {
    "colab": {
      "name": "Data filtering in Pandas.ipynb",
      "provenance": [],
      "authorship_tag": "ABX9TyPQon7ArheYPoCJXfxqAIpn"
    },
    "kernelspec": {
      "name": "python3",
      "display_name": "Python 3"
    }
  },
  "cells": [
    {
      "cell_type": "markdown",
      "metadata": {
        "id": "7lehyPejtDPd",
        "colab_type": "text"
      },
      "source": [
        "[Reference](https://towardsdatascience.com/filtering-data-frames-in-pandas-b570b1f834b90)"
      ]
    },
    {
      "cell_type": "code",
      "metadata": {
        "id": "bcYl9W9Hs0UD",
        "colab_type": "code",
        "colab": {
          "base_uri": "https://localhost:8080/",
          "height": 359
        },
        "outputId": "eeb87c1a-822b-4723-b031-c5d3a724714e"
      },
      "source": [
        "import pandas as pd\n",
        "\n",
        "# information about employees\n",
        "id_number = ['128', '478', '257', '299', '175', '328', '099', '457', '144', '222']\n",
        "name = ['Patrick', 'Amanda', 'Antonella', 'Eduard', 'John', 'Alejandra', 'Layton', 'Melanie', 'David', 'Lewis']\n",
        "surname = ['Miller', 'Torres', 'Brown', 'Iglesias', 'Wright', 'Campos', 'Platt', 'Cavill', 'Lange', 'Bellow']\n",
        "division = ['Sales', 'IT', 'IT', 'Sales', 'Marketing', 'Engineering', 'Engineering', 'Sales', 'Engineering', 'Sales']\n",
        "salary = [30000, 54000, 80000, 79000, 15000, 18000, 30000, 35000, 45000, 30500]\n",
        "telephone = ['7366578', '7366444', '7366120', '7366574', '7366113', '7366117', '7366777', '7366579', '7366441', '7366440']\n",
        "type_contract = ['permanent', 'temporary', 'temporary', 'permanent', 'internship', 'internship', 'permanent', 'temporary', 'permanent', 'permanent']\n",
        "\n",
        "# data frame containing information about employees\n",
        "df_employees = pd.DataFrame({'name': name, 'surname': surname, 'division': division,\n",
        "                             'salary': salary, 'telephone': telephone, 'type_contract': type_contract}, index=id_number)\n",
        "\n",
        "df_employees"
      ],
      "execution_count": 1,
      "outputs": [
        {
          "output_type": "execute_result",
          "data": {
            "text/html": [
              "<div>\n",
              "<style scoped>\n",
              "    .dataframe tbody tr th:only-of-type {\n",
              "        vertical-align: middle;\n",
              "    }\n",
              "\n",
              "    .dataframe tbody tr th {\n",
              "        vertical-align: top;\n",
              "    }\n",
              "\n",
              "    .dataframe thead th {\n",
              "        text-align: right;\n",
              "    }\n",
              "</style>\n",
              "<table border=\"1\" class=\"dataframe\">\n",
              "  <thead>\n",
              "    <tr style=\"text-align: right;\">\n",
              "      <th></th>\n",
              "      <th>name</th>\n",
              "      <th>surname</th>\n",
              "      <th>division</th>\n",
              "      <th>salary</th>\n",
              "      <th>telephone</th>\n",
              "      <th>type_contract</th>\n",
              "    </tr>\n",
              "  </thead>\n",
              "  <tbody>\n",
              "    <tr>\n",
              "      <th>128</th>\n",
              "      <td>Patrick</td>\n",
              "      <td>Miller</td>\n",
              "      <td>Sales</td>\n",
              "      <td>30000</td>\n",
              "      <td>7366578</td>\n",
              "      <td>permanent</td>\n",
              "    </tr>\n",
              "    <tr>\n",
              "      <th>478</th>\n",
              "      <td>Amanda</td>\n",
              "      <td>Torres</td>\n",
              "      <td>IT</td>\n",
              "      <td>54000</td>\n",
              "      <td>7366444</td>\n",
              "      <td>temporary</td>\n",
              "    </tr>\n",
              "    <tr>\n",
              "      <th>257</th>\n",
              "      <td>Antonella</td>\n",
              "      <td>Brown</td>\n",
              "      <td>IT</td>\n",
              "      <td>80000</td>\n",
              "      <td>7366120</td>\n",
              "      <td>temporary</td>\n",
              "    </tr>\n",
              "    <tr>\n",
              "      <th>299</th>\n",
              "      <td>Eduard</td>\n",
              "      <td>Iglesias</td>\n",
              "      <td>Sales</td>\n",
              "      <td>79000</td>\n",
              "      <td>7366574</td>\n",
              "      <td>permanent</td>\n",
              "    </tr>\n",
              "    <tr>\n",
              "      <th>175</th>\n",
              "      <td>John</td>\n",
              "      <td>Wright</td>\n",
              "      <td>Marketing</td>\n",
              "      <td>15000</td>\n",
              "      <td>7366113</td>\n",
              "      <td>internship</td>\n",
              "    </tr>\n",
              "    <tr>\n",
              "      <th>328</th>\n",
              "      <td>Alejandra</td>\n",
              "      <td>Campos</td>\n",
              "      <td>Engineering</td>\n",
              "      <td>18000</td>\n",
              "      <td>7366117</td>\n",
              "      <td>internship</td>\n",
              "    </tr>\n",
              "    <tr>\n",
              "      <th>099</th>\n",
              "      <td>Layton</td>\n",
              "      <td>Platt</td>\n",
              "      <td>Engineering</td>\n",
              "      <td>30000</td>\n",
              "      <td>7366777</td>\n",
              "      <td>permanent</td>\n",
              "    </tr>\n",
              "    <tr>\n",
              "      <th>457</th>\n",
              "      <td>Melanie</td>\n",
              "      <td>Cavill</td>\n",
              "      <td>Sales</td>\n",
              "      <td>35000</td>\n",
              "      <td>7366579</td>\n",
              "      <td>temporary</td>\n",
              "    </tr>\n",
              "    <tr>\n",
              "      <th>144</th>\n",
              "      <td>David</td>\n",
              "      <td>Lange</td>\n",
              "      <td>Engineering</td>\n",
              "      <td>45000</td>\n",
              "      <td>7366441</td>\n",
              "      <td>permanent</td>\n",
              "    </tr>\n",
              "    <tr>\n",
              "      <th>222</th>\n",
              "      <td>Lewis</td>\n",
              "      <td>Bellow</td>\n",
              "      <td>Sales</td>\n",
              "      <td>30500</td>\n",
              "      <td>7366440</td>\n",
              "      <td>permanent</td>\n",
              "    </tr>\n",
              "  </tbody>\n",
              "</table>\n",
              "</div>"
            ],
            "text/plain": [
              "          name   surname     division  salary telephone type_contract\n",
              "128    Patrick    Miller        Sales   30000   7366578     permanent\n",
              "478     Amanda    Torres           IT   54000   7366444     temporary\n",
              "257  Antonella     Brown           IT   80000   7366120     temporary\n",
              "299     Eduard  Iglesias        Sales   79000   7366574     permanent\n",
              "175       John    Wright    Marketing   15000   7366113    internship\n",
              "328  Alejandra    Campos  Engineering   18000   7366117    internship\n",
              "099     Layton     Platt  Engineering   30000   7366777     permanent\n",
              "457    Melanie    Cavill        Sales   35000   7366579     temporary\n",
              "144      David     Lange  Engineering   45000   7366441     permanent\n",
              "222      Lewis    Bellow        Sales   30500   7366440     permanent"
            ]
          },
          "metadata": {
            "tags": []
          },
          "execution_count": 1
        }
      ]
    },
    {
      "cell_type": "markdown",
      "metadata": {
        "id": "zNmz_KgzuVyJ",
        "colab_type": "text"
      },
      "source": [
        "# Selecting a single column by label"
      ]
    },
    {
      "cell_type": "code",
      "metadata": {
        "id": "cPwob1uutX_-",
        "colab_type": "code",
        "colab": {
          "base_uri": "https://localhost:8080/",
          "height": 238
        },
        "outputId": "e8b3b796-4182-4840-ddf2-1b4109e76d3e"
      },
      "source": [
        "salary = df_employees.salary\n",
        "salary_2 = df_employees['salary']\n",
        "\n",
        "print(type(salary))\n",
        "print(type(salary_2))\n",
        "\n",
        "salary"
      ],
      "execution_count": 4,
      "outputs": [
        {
          "output_type": "stream",
          "text": [
            "<class 'pandas.core.series.Series'>\n",
            "<class 'pandas.core.series.Series'>\n"
          ],
          "name": "stdout"
        },
        {
          "output_type": "execute_result",
          "data": {
            "text/plain": [
              "128    30000\n",
              "478    54000\n",
              "257    80000\n",
              "299    79000\n",
              "175    15000\n",
              "328    18000\n",
              "099    30000\n",
              "457    35000\n",
              "144    45000\n",
              "222    30500\n",
              "Name: salary, dtype: int64"
            ]
          },
          "metadata": {
            "tags": []
          },
          "execution_count": 4
        }
      ]
    },
    {
      "cell_type": "code",
      "metadata": {
        "id": "C53a0skCt-6Q",
        "colab_type": "code",
        "colab": {
          "base_uri": "https://localhost:8080/",
          "height": 204
        },
        "outputId": "f406a072-84bc-43c8-8444-43d8083b5997"
      },
      "source": [
        "df_employees['salary']"
      ],
      "execution_count": 5,
      "outputs": [
        {
          "output_type": "execute_result",
          "data": {
            "text/plain": [
              "128    30000\n",
              "478    54000\n",
              "257    80000\n",
              "299    79000\n",
              "175    15000\n",
              "328    18000\n",
              "099    30000\n",
              "457    35000\n",
              "144    45000\n",
              "222    30500\n",
              "Name: salary, dtype: int64"
            ]
          },
          "metadata": {
            "tags": []
          },
          "execution_count": 5
        }
      ]
    },
    {
      "cell_type": "code",
      "metadata": {
        "id": "usHX6BCruKEM",
        "colab_type": "code",
        "colab": {
          "base_uri": "https://localhost:8080/",
          "height": 359
        },
        "outputId": "3ef2997a-78b3-4925-c766-030348ebc953"
      },
      "source": [
        "df_employees[['salary']]"
      ],
      "execution_count": 6,
      "outputs": [
        {
          "output_type": "execute_result",
          "data": {
            "text/html": [
              "<div>\n",
              "<style scoped>\n",
              "    .dataframe tbody tr th:only-of-type {\n",
              "        vertical-align: middle;\n",
              "    }\n",
              "\n",
              "    .dataframe tbody tr th {\n",
              "        vertical-align: top;\n",
              "    }\n",
              "\n",
              "    .dataframe thead th {\n",
              "        text-align: right;\n",
              "    }\n",
              "</style>\n",
              "<table border=\"1\" class=\"dataframe\">\n",
              "  <thead>\n",
              "    <tr style=\"text-align: right;\">\n",
              "      <th></th>\n",
              "      <th>salary</th>\n",
              "    </tr>\n",
              "  </thead>\n",
              "  <tbody>\n",
              "    <tr>\n",
              "      <th>128</th>\n",
              "      <td>30000</td>\n",
              "    </tr>\n",
              "    <tr>\n",
              "      <th>478</th>\n",
              "      <td>54000</td>\n",
              "    </tr>\n",
              "    <tr>\n",
              "      <th>257</th>\n",
              "      <td>80000</td>\n",
              "    </tr>\n",
              "    <tr>\n",
              "      <th>299</th>\n",
              "      <td>79000</td>\n",
              "    </tr>\n",
              "    <tr>\n",
              "      <th>175</th>\n",
              "      <td>15000</td>\n",
              "    </tr>\n",
              "    <tr>\n",
              "      <th>328</th>\n",
              "      <td>18000</td>\n",
              "    </tr>\n",
              "    <tr>\n",
              "      <th>099</th>\n",
              "      <td>30000</td>\n",
              "    </tr>\n",
              "    <tr>\n",
              "      <th>457</th>\n",
              "      <td>35000</td>\n",
              "    </tr>\n",
              "    <tr>\n",
              "      <th>144</th>\n",
              "      <td>45000</td>\n",
              "    </tr>\n",
              "    <tr>\n",
              "      <th>222</th>\n",
              "      <td>30500</td>\n",
              "    </tr>\n",
              "  </tbody>\n",
              "</table>\n",
              "</div>"
            ],
            "text/plain": [
              "     salary\n",
              "128   30000\n",
              "478   54000\n",
              "257   80000\n",
              "299   79000\n",
              "175   15000\n",
              "328   18000\n",
              "099   30000\n",
              "457   35000\n",
              "144   45000\n",
              "222   30500"
            ]
          },
          "metadata": {
            "tags": []
          },
          "execution_count": 6
        }
      ]
    },
    {
      "cell_type": "markdown",
      "metadata": {
        "id": "pzb5Wzo0uXT7",
        "colab_type": "text"
      },
      "source": [
        "# Selecting multiple columns by label"
      ]
    },
    {
      "cell_type": "code",
      "metadata": {
        "id": "crsEafVjuNXA",
        "colab_type": "code",
        "colab": {
          "base_uri": "https://localhost:8080/",
          "height": 359
        },
        "outputId": "ef49b3a7-61ba-4633-9d3d-43adb97f0b91"
      },
      "source": [
        "df_employees[['division', 'salary']]"
      ],
      "execution_count": 7,
      "outputs": [
        {
          "output_type": "execute_result",
          "data": {
            "text/html": [
              "<div>\n",
              "<style scoped>\n",
              "    .dataframe tbody tr th:only-of-type {\n",
              "        vertical-align: middle;\n",
              "    }\n",
              "\n",
              "    .dataframe tbody tr th {\n",
              "        vertical-align: top;\n",
              "    }\n",
              "\n",
              "    .dataframe thead th {\n",
              "        text-align: right;\n",
              "    }\n",
              "</style>\n",
              "<table border=\"1\" class=\"dataframe\">\n",
              "  <thead>\n",
              "    <tr style=\"text-align: right;\">\n",
              "      <th></th>\n",
              "      <th>division</th>\n",
              "      <th>salary</th>\n",
              "    </tr>\n",
              "  </thead>\n",
              "  <tbody>\n",
              "    <tr>\n",
              "      <th>128</th>\n",
              "      <td>Sales</td>\n",
              "      <td>30000</td>\n",
              "    </tr>\n",
              "    <tr>\n",
              "      <th>478</th>\n",
              "      <td>IT</td>\n",
              "      <td>54000</td>\n",
              "    </tr>\n",
              "    <tr>\n",
              "      <th>257</th>\n",
              "      <td>IT</td>\n",
              "      <td>80000</td>\n",
              "    </tr>\n",
              "    <tr>\n",
              "      <th>299</th>\n",
              "      <td>Sales</td>\n",
              "      <td>79000</td>\n",
              "    </tr>\n",
              "    <tr>\n",
              "      <th>175</th>\n",
              "      <td>Marketing</td>\n",
              "      <td>15000</td>\n",
              "    </tr>\n",
              "    <tr>\n",
              "      <th>328</th>\n",
              "      <td>Engineering</td>\n",
              "      <td>18000</td>\n",
              "    </tr>\n",
              "    <tr>\n",
              "      <th>099</th>\n",
              "      <td>Engineering</td>\n",
              "      <td>30000</td>\n",
              "    </tr>\n",
              "    <tr>\n",
              "      <th>457</th>\n",
              "      <td>Sales</td>\n",
              "      <td>35000</td>\n",
              "    </tr>\n",
              "    <tr>\n",
              "      <th>144</th>\n",
              "      <td>Engineering</td>\n",
              "      <td>45000</td>\n",
              "    </tr>\n",
              "    <tr>\n",
              "      <th>222</th>\n",
              "      <td>Sales</td>\n",
              "      <td>30500</td>\n",
              "    </tr>\n",
              "  </tbody>\n",
              "</table>\n",
              "</div>"
            ],
            "text/plain": [
              "        division  salary\n",
              "128        Sales   30000\n",
              "478           IT   54000\n",
              "257           IT   80000\n",
              "299        Sales   79000\n",
              "175    Marketing   15000\n",
              "328  Engineering   18000\n",
              "099  Engineering   30000\n",
              "457        Sales   35000\n",
              "144  Engineering   45000\n",
              "222        Sales   30500"
            ]
          },
          "metadata": {
            "tags": []
          },
          "execution_count": 7
        }
      ]
    },
    {
      "cell_type": "markdown",
      "metadata": {
        "id": "BF8W-Pt-uaow",
        "colab_type": "text"
      },
      "source": [
        "# Selecting columns by data type"
      ]
    },
    {
      "cell_type": "code",
      "metadata": {
        "id": "JijPL7STuZXl",
        "colab_type": "code",
        "colab": {
          "base_uri": "https://localhost:8080/",
          "height": 393
        },
        "outputId": "0ccad71e-1e24-4a04-94a6-c9da7b34f912"
      },
      "source": [
        "import numpy as np\n",
        "\n",
        "# select numeric columns - numpy object\n",
        "numeric_inputs = df_employees.select_dtypes(include=np.number)\n",
        "\n",
        "# check selected columns with the .columns attribute\n",
        "numeric_inputs.columns\n",
        "# Index(['salary'], dtype='object')\n",
        "\n",
        "# the method returns a DataFrame object\n",
        "print(type(numeric_inputs))\n",
        "# <class 'pandas.core.frame.DataFrame'>\n",
        "\n",
        "# select numeric columns - string\n",
        "numeric_inputs_2 = df_employees.select_dtypes(include='number')\n",
        "\n",
        "# check selected columns with the .columns attribute\n",
        "numeric_inputs_2.columns\n",
        "# Index(['salary'], dtype='object')\n",
        "\n",
        "# the method returns a DataFrame object\n",
        "print(type(numeric_inputs_2))\n",
        "# <class 'pandas.core.frame.DataFrame'>\n",
        "\n",
        "# visualize the data frame\n",
        "numeric_inputs"
      ],
      "execution_count": 8,
      "outputs": [
        {
          "output_type": "stream",
          "text": [
            "<class 'pandas.core.frame.DataFrame'>\n",
            "<class 'pandas.core.frame.DataFrame'>\n"
          ],
          "name": "stdout"
        },
        {
          "output_type": "execute_result",
          "data": {
            "text/html": [
              "<div>\n",
              "<style scoped>\n",
              "    .dataframe tbody tr th:only-of-type {\n",
              "        vertical-align: middle;\n",
              "    }\n",
              "\n",
              "    .dataframe tbody tr th {\n",
              "        vertical-align: top;\n",
              "    }\n",
              "\n",
              "    .dataframe thead th {\n",
              "        text-align: right;\n",
              "    }\n",
              "</style>\n",
              "<table border=\"1\" class=\"dataframe\">\n",
              "  <thead>\n",
              "    <tr style=\"text-align: right;\">\n",
              "      <th></th>\n",
              "      <th>salary</th>\n",
              "    </tr>\n",
              "  </thead>\n",
              "  <tbody>\n",
              "    <tr>\n",
              "      <th>128</th>\n",
              "      <td>30000</td>\n",
              "    </tr>\n",
              "    <tr>\n",
              "      <th>478</th>\n",
              "      <td>54000</td>\n",
              "    </tr>\n",
              "    <tr>\n",
              "      <th>257</th>\n",
              "      <td>80000</td>\n",
              "    </tr>\n",
              "    <tr>\n",
              "      <th>299</th>\n",
              "      <td>79000</td>\n",
              "    </tr>\n",
              "    <tr>\n",
              "      <th>175</th>\n",
              "      <td>15000</td>\n",
              "    </tr>\n",
              "    <tr>\n",
              "      <th>328</th>\n",
              "      <td>18000</td>\n",
              "    </tr>\n",
              "    <tr>\n",
              "      <th>099</th>\n",
              "      <td>30000</td>\n",
              "    </tr>\n",
              "    <tr>\n",
              "      <th>457</th>\n",
              "      <td>35000</td>\n",
              "    </tr>\n",
              "    <tr>\n",
              "      <th>144</th>\n",
              "      <td>45000</td>\n",
              "    </tr>\n",
              "    <tr>\n",
              "      <th>222</th>\n",
              "      <td>30500</td>\n",
              "    </tr>\n",
              "  </tbody>\n",
              "</table>\n",
              "</div>"
            ],
            "text/plain": [
              "     salary\n",
              "128   30000\n",
              "478   54000\n",
              "257   80000\n",
              "299   79000\n",
              "175   15000\n",
              "328   18000\n",
              "099   30000\n",
              "457   35000\n",
              "144   45000\n",
              "222   30500"
            ]
          },
          "metadata": {
            "tags": []
          },
          "execution_count": 8
        }
      ]
    },
    {
      "cell_type": "code",
      "metadata": {
        "id": "PnrAvcQruhQ6",
        "colab_type": "code",
        "colab": {
          "base_uri": "https://localhost:8080/",
          "height": 238
        },
        "outputId": "7aab433b-d59c-426a-b76b-03650ba49f34"
      },
      "source": [
        "df_employees.info()"
      ],
      "execution_count": 9,
      "outputs": [
        {
          "output_type": "stream",
          "text": [
            "<class 'pandas.core.frame.DataFrame'>\n",
            "Index: 10 entries, 128 to 222\n",
            "Data columns (total 6 columns):\n",
            " #   Column         Non-Null Count  Dtype \n",
            "---  ------         --------------  ----- \n",
            " 0   name           10 non-null     object\n",
            " 1   surname        10 non-null     object\n",
            " 2   division       10 non-null     object\n",
            " 3   salary         10 non-null     int64 \n",
            " 4   telephone      10 non-null     object\n",
            " 5   type_contract  10 non-null     object\n",
            "dtypes: int64(1), object(5)\n",
            "memory usage: 880.0+ bytes\n"
          ],
          "name": "stdout"
        }
      ]
    },
    {
      "cell_type": "code",
      "metadata": {
        "id": "No2kK-6lusgi",
        "colab_type": "code",
        "colab": {
          "base_uri": "https://localhost:8080/",
          "height": 136
        },
        "outputId": "c5a5cadd-29e5-4da9-d579-79698fa8b281"
      },
      "source": [
        "df_employees.dtypes"
      ],
      "execution_count": 10,
      "outputs": [
        {
          "output_type": "execute_result",
          "data": {
            "text/plain": [
              "name             object\n",
              "surname          object\n",
              "division         object\n",
              "salary            int64\n",
              "telephone        object\n",
              "type_contract    object\n",
              "dtype: object"
            ]
          },
          "metadata": {
            "tags": []
          },
          "execution_count": 10
        }
      ]
    },
    {
      "cell_type": "markdown",
      "metadata": {
        "id": "nCoTacj-uwO4",
        "colab_type": "text"
      },
      "source": [
        "# Selecting a single row by label"
      ]
    },
    {
      "cell_type": "code",
      "metadata": {
        "id": "FV2Y2hm5uuye",
        "colab_type": "code",
        "colab": {
          "base_uri": "https://localhost:8080/",
          "height": 54
        },
        "outputId": "4cbcb141-bf46-49c0-ae43-04622a83e597"
      },
      "source": [
        "df_employees.index"
      ],
      "execution_count": 11,
      "outputs": [
        {
          "output_type": "execute_result",
          "data": {
            "text/plain": [
              "Index(['128', '478', '257', '299', '175', '328', '099', '457', '144', '222'], dtype='object')"
            ]
          },
          "metadata": {
            "tags": []
          },
          "execution_count": 11
        }
      ]
    },
    {
      "cell_type": "code",
      "metadata": {
        "id": "6A6EXJP8vCIy",
        "colab_type": "code",
        "colab": {
          "base_uri": "https://localhost:8080/",
          "height": 136
        },
        "outputId": "c77bec6e-ebb4-412b-ca2a-0b20ec18a3d5"
      },
      "source": [
        "df_employees.loc['478']"
      ],
      "execution_count": 12,
      "outputs": [
        {
          "output_type": "execute_result",
          "data": {
            "text/plain": [
              "name                Amanda\n",
              "surname             Torres\n",
              "division                IT\n",
              "salary               54000\n",
              "telephone          7366444\n",
              "type_contract    temporary\n",
              "Name: 478, dtype: object"
            ]
          },
          "metadata": {
            "tags": []
          },
          "execution_count": 12
        }
      ]
    },
    {
      "cell_type": "code",
      "metadata": {
        "id": "CYDZE914vET_",
        "colab_type": "code",
        "colab": {
          "base_uri": "https://localhost:8080/",
          "height": 80
        },
        "outputId": "7977e6c4-794f-471c-f07a-06f705e19e1b"
      },
      "source": [
        "df_employees.loc[['478']]"
      ],
      "execution_count": 13,
      "outputs": [
        {
          "output_type": "execute_result",
          "data": {
            "text/html": [
              "<div>\n",
              "<style scoped>\n",
              "    .dataframe tbody tr th:only-of-type {\n",
              "        vertical-align: middle;\n",
              "    }\n",
              "\n",
              "    .dataframe tbody tr th {\n",
              "        vertical-align: top;\n",
              "    }\n",
              "\n",
              "    .dataframe thead th {\n",
              "        text-align: right;\n",
              "    }\n",
              "</style>\n",
              "<table border=\"1\" class=\"dataframe\">\n",
              "  <thead>\n",
              "    <tr style=\"text-align: right;\">\n",
              "      <th></th>\n",
              "      <th>name</th>\n",
              "      <th>surname</th>\n",
              "      <th>division</th>\n",
              "      <th>salary</th>\n",
              "      <th>telephone</th>\n",
              "      <th>type_contract</th>\n",
              "    </tr>\n",
              "  </thead>\n",
              "  <tbody>\n",
              "    <tr>\n",
              "      <th>478</th>\n",
              "      <td>Amanda</td>\n",
              "      <td>Torres</td>\n",
              "      <td>IT</td>\n",
              "      <td>54000</td>\n",
              "      <td>7366444</td>\n",
              "      <td>temporary</td>\n",
              "    </tr>\n",
              "  </tbody>\n",
              "</table>\n",
              "</div>"
            ],
            "text/plain": [
              "       name surname division  salary telephone type_contract\n",
              "478  Amanda  Torres       IT   54000   7366444     temporary"
            ]
          },
          "metadata": {
            "tags": []
          },
          "execution_count": 13
        }
      ]
    },
    {
      "cell_type": "markdown",
      "metadata": {
        "id": "536jG796vHri",
        "colab_type": "text"
      },
      "source": [
        "# Selecting multiple rows by label"
      ]
    },
    {
      "cell_type": "code",
      "metadata": {
        "id": "BiBt5umcvGSM",
        "colab_type": "code",
        "colab": {
          "base_uri": "https://localhost:8080/",
          "height": 111
        },
        "outputId": "8ceef664-a4a6-4ffb-c482-7e9a9ce5b662"
      },
      "source": [
        "df_employees.loc[['478', '222']]"
      ],
      "execution_count": 14,
      "outputs": [
        {
          "output_type": "execute_result",
          "data": {
            "text/html": [
              "<div>\n",
              "<style scoped>\n",
              "    .dataframe tbody tr th:only-of-type {\n",
              "        vertical-align: middle;\n",
              "    }\n",
              "\n",
              "    .dataframe tbody tr th {\n",
              "        vertical-align: top;\n",
              "    }\n",
              "\n",
              "    .dataframe thead th {\n",
              "        text-align: right;\n",
              "    }\n",
              "</style>\n",
              "<table border=\"1\" class=\"dataframe\">\n",
              "  <thead>\n",
              "    <tr style=\"text-align: right;\">\n",
              "      <th></th>\n",
              "      <th>name</th>\n",
              "      <th>surname</th>\n",
              "      <th>division</th>\n",
              "      <th>salary</th>\n",
              "      <th>telephone</th>\n",
              "      <th>type_contract</th>\n",
              "    </tr>\n",
              "  </thead>\n",
              "  <tbody>\n",
              "    <tr>\n",
              "      <th>478</th>\n",
              "      <td>Amanda</td>\n",
              "      <td>Torres</td>\n",
              "      <td>IT</td>\n",
              "      <td>54000</td>\n",
              "      <td>7366444</td>\n",
              "      <td>temporary</td>\n",
              "    </tr>\n",
              "    <tr>\n",
              "      <th>222</th>\n",
              "      <td>Lewis</td>\n",
              "      <td>Bellow</td>\n",
              "      <td>Sales</td>\n",
              "      <td>30500</td>\n",
              "      <td>7366440</td>\n",
              "      <td>permanent</td>\n",
              "    </tr>\n",
              "  </tbody>\n",
              "</table>\n",
              "</div>"
            ],
            "text/plain": [
              "       name surname division  salary telephone type_contract\n",
              "478  Amanda  Torres       IT   54000   7366444     temporary\n",
              "222   Lewis  Bellow    Sales   30500   7366440     permanent"
            ]
          },
          "metadata": {
            "tags": []
          },
          "execution_count": 14
        }
      ]
    },
    {
      "cell_type": "markdown",
      "metadata": {
        "id": "AmVWkiohvK_-",
        "colab_type": "text"
      },
      "source": [
        "# Selecting a single row by position"
      ]
    },
    {
      "cell_type": "code",
      "metadata": {
        "id": "P7GbqLGsvJGx",
        "colab_type": "code",
        "colab": {
          "base_uri": "https://localhost:8080/",
          "height": 136
        },
        "outputId": "3e2c136f-f7bd-4120-c73c-8e93939204fd"
      },
      "source": [
        "df_employees.iloc[0]"
      ],
      "execution_count": 15,
      "outputs": [
        {
          "output_type": "execute_result",
          "data": {
            "text/plain": [
              "name               Patrick\n",
              "surname             Miller\n",
              "division             Sales\n",
              "salary               30000\n",
              "telephone          7366578\n",
              "type_contract    permanent\n",
              "Name: 128, dtype: object"
            ]
          },
          "metadata": {
            "tags": []
          },
          "execution_count": 15
        }
      ]
    },
    {
      "cell_type": "code",
      "metadata": {
        "id": "wiyvtnsKvMzW",
        "colab_type": "code",
        "colab": {
          "base_uri": "https://localhost:8080/",
          "height": 136
        },
        "outputId": "06263eca-2c6a-42e5-8168-2968c5754cdb"
      },
      "source": [
        "df_employees.iloc[-1]"
      ],
      "execution_count": 16,
      "outputs": [
        {
          "output_type": "execute_result",
          "data": {
            "text/plain": [
              "name                 Lewis\n",
              "surname             Bellow\n",
              "division             Sales\n",
              "salary               30500\n",
              "telephone          7366440\n",
              "type_contract    permanent\n",
              "Name: 222, dtype: object"
            ]
          },
          "metadata": {
            "tags": []
          },
          "execution_count": 16
        }
      ]
    },
    {
      "cell_type": "code",
      "metadata": {
        "id": "gY06ichBvUO2",
        "colab_type": "code",
        "colab": {
          "base_uri": "https://localhost:8080/",
          "height": 80
        },
        "outputId": "2ad81dab-9038-43f8-bef4-e5334a3e406b"
      },
      "source": [
        "df_employees.iloc[[-1]]"
      ],
      "execution_count": 17,
      "outputs": [
        {
          "output_type": "execute_result",
          "data": {
            "text/html": [
              "<div>\n",
              "<style scoped>\n",
              "    .dataframe tbody tr th:only-of-type {\n",
              "        vertical-align: middle;\n",
              "    }\n",
              "\n",
              "    .dataframe tbody tr th {\n",
              "        vertical-align: top;\n",
              "    }\n",
              "\n",
              "    .dataframe thead th {\n",
              "        text-align: right;\n",
              "    }\n",
              "</style>\n",
              "<table border=\"1\" class=\"dataframe\">\n",
              "  <thead>\n",
              "    <tr style=\"text-align: right;\">\n",
              "      <th></th>\n",
              "      <th>name</th>\n",
              "      <th>surname</th>\n",
              "      <th>division</th>\n",
              "      <th>salary</th>\n",
              "      <th>telephone</th>\n",
              "      <th>type_contract</th>\n",
              "    </tr>\n",
              "  </thead>\n",
              "  <tbody>\n",
              "    <tr>\n",
              "      <th>222</th>\n",
              "      <td>Lewis</td>\n",
              "      <td>Bellow</td>\n",
              "      <td>Sales</td>\n",
              "      <td>30500</td>\n",
              "      <td>7366440</td>\n",
              "      <td>permanent</td>\n",
              "    </tr>\n",
              "  </tbody>\n",
              "</table>\n",
              "</div>"
            ],
            "text/plain": [
              "      name surname division  salary telephone type_contract\n",
              "222  Lewis  Bellow    Sales   30500   7366440     permanent"
            ]
          },
          "metadata": {
            "tags": []
          },
          "execution_count": 17
        }
      ]
    },
    {
      "cell_type": "code",
      "metadata": {
        "id": "3XWJ0iWKvY1p",
        "colab_type": "code",
        "colab": {
          "base_uri": "https://localhost:8080/",
          "height": 34
        },
        "outputId": "e2d050cb-0e66-4a48-c2c1-a6922985a500"
      },
      "source": [
        "df_employees.shape"
      ],
      "execution_count": 18,
      "outputs": [
        {
          "output_type": "execute_result",
          "data": {
            "text/plain": [
              "(10, 6)"
            ]
          },
          "metadata": {
            "tags": []
          },
          "execution_count": 18
        }
      ]
    },
    {
      "cell_type": "code",
      "metadata": {
        "id": "WvtcH8lnvZ_H",
        "colab_type": "code",
        "colab": {
          "base_uri": "https://localhost:8080/",
          "height": 375
        },
        "outputId": "94965f37-ec37-47b5-9697-579fd3f4c715"
      },
      "source": [
        "df_employees.iloc[10]"
      ],
      "execution_count": 19,
      "outputs": [
        {
          "output_type": "error",
          "ename": "IndexError",
          "evalue": "ignored",
          "traceback": [
            "\u001b[0;31m---------------------------------------------------------------------------\u001b[0m",
            "\u001b[0;31mIndexError\u001b[0m                                Traceback (most recent call last)",
            "\u001b[0;32m<ipython-input-19-068e49232b9d>\u001b[0m in \u001b[0;36m<module>\u001b[0;34m()\u001b[0m\n\u001b[0;32m----> 1\u001b[0;31m \u001b[0mdf_employees\u001b[0m\u001b[0;34m.\u001b[0m\u001b[0miloc\u001b[0m\u001b[0;34m[\u001b[0m\u001b[0;36m10\u001b[0m\u001b[0;34m]\u001b[0m\u001b[0;34m\u001b[0m\u001b[0;34m\u001b[0m\u001b[0m\n\u001b[0m",
            "\u001b[0;32m/usr/local/lib/python3.6/dist-packages/pandas/core/indexing.py\u001b[0m in \u001b[0;36m__getitem__\u001b[0;34m(self, key)\u001b[0m\n\u001b[1;32m   1766\u001b[0m \u001b[0;34m\u001b[0m\u001b[0m\n\u001b[1;32m   1767\u001b[0m             \u001b[0mmaybe_callable\u001b[0m \u001b[0;34m=\u001b[0m \u001b[0mcom\u001b[0m\u001b[0;34m.\u001b[0m\u001b[0mapply_if_callable\u001b[0m\u001b[0;34m(\u001b[0m\u001b[0mkey\u001b[0m\u001b[0;34m,\u001b[0m \u001b[0mself\u001b[0m\u001b[0;34m.\u001b[0m\u001b[0mobj\u001b[0m\u001b[0;34m)\u001b[0m\u001b[0;34m\u001b[0m\u001b[0;34m\u001b[0m\u001b[0m\n\u001b[0;32m-> 1768\u001b[0;31m             \u001b[0;32mreturn\u001b[0m \u001b[0mself\u001b[0m\u001b[0;34m.\u001b[0m\u001b[0m_getitem_axis\u001b[0m\u001b[0;34m(\u001b[0m\u001b[0mmaybe_callable\u001b[0m\u001b[0;34m,\u001b[0m \u001b[0maxis\u001b[0m\u001b[0;34m=\u001b[0m\u001b[0maxis\u001b[0m\u001b[0;34m)\u001b[0m\u001b[0;34m\u001b[0m\u001b[0;34m\u001b[0m\u001b[0m\n\u001b[0m\u001b[1;32m   1769\u001b[0m \u001b[0;34m\u001b[0m\u001b[0m\n\u001b[1;32m   1770\u001b[0m     \u001b[0;32mdef\u001b[0m \u001b[0m_is_scalar_access\u001b[0m\u001b[0;34m(\u001b[0m\u001b[0mself\u001b[0m\u001b[0;34m,\u001b[0m \u001b[0mkey\u001b[0m\u001b[0;34m:\u001b[0m \u001b[0mTuple\u001b[0m\u001b[0;34m)\u001b[0m\u001b[0;34m:\u001b[0m\u001b[0;34m\u001b[0m\u001b[0;34m\u001b[0m\u001b[0m\n",
            "\u001b[0;32m/usr/local/lib/python3.6/dist-packages/pandas/core/indexing.py\u001b[0m in \u001b[0;36m_getitem_axis\u001b[0;34m(self, key, axis)\u001b[0m\n\u001b[1;32m   2136\u001b[0m \u001b[0;34m\u001b[0m\u001b[0m\n\u001b[1;32m   2137\u001b[0m             \u001b[0;31m# validate the location\u001b[0m\u001b[0;34m\u001b[0m\u001b[0;34m\u001b[0m\u001b[0;34m\u001b[0m\u001b[0m\n\u001b[0;32m-> 2138\u001b[0;31m             \u001b[0mself\u001b[0m\u001b[0;34m.\u001b[0m\u001b[0m_validate_integer\u001b[0m\u001b[0;34m(\u001b[0m\u001b[0mkey\u001b[0m\u001b[0;34m,\u001b[0m \u001b[0maxis\u001b[0m\u001b[0;34m)\u001b[0m\u001b[0;34m\u001b[0m\u001b[0;34m\u001b[0m\u001b[0m\n\u001b[0m\u001b[1;32m   2139\u001b[0m \u001b[0;34m\u001b[0m\u001b[0m\n\u001b[1;32m   2140\u001b[0m             \u001b[0;32mreturn\u001b[0m \u001b[0mself\u001b[0m\u001b[0;34m.\u001b[0m\u001b[0m_get_loc\u001b[0m\u001b[0;34m(\u001b[0m\u001b[0mkey\u001b[0m\u001b[0;34m,\u001b[0m \u001b[0maxis\u001b[0m\u001b[0;34m=\u001b[0m\u001b[0maxis\u001b[0m\u001b[0;34m)\u001b[0m\u001b[0;34m\u001b[0m\u001b[0;34m\u001b[0m\u001b[0m\n",
            "\u001b[0;32m/usr/local/lib/python3.6/dist-packages/pandas/core/indexing.py\u001b[0m in \u001b[0;36m_validate_integer\u001b[0;34m(self, key, axis)\u001b[0m\n\u001b[1;32m   2061\u001b[0m         \u001b[0mlen_axis\u001b[0m \u001b[0;34m=\u001b[0m \u001b[0mlen\u001b[0m\u001b[0;34m(\u001b[0m\u001b[0mself\u001b[0m\u001b[0;34m.\u001b[0m\u001b[0mobj\u001b[0m\u001b[0;34m.\u001b[0m\u001b[0m_get_axis\u001b[0m\u001b[0;34m(\u001b[0m\u001b[0maxis\u001b[0m\u001b[0;34m)\u001b[0m\u001b[0;34m)\u001b[0m\u001b[0;34m\u001b[0m\u001b[0;34m\u001b[0m\u001b[0m\n\u001b[1;32m   2062\u001b[0m         \u001b[0;32mif\u001b[0m \u001b[0mkey\u001b[0m \u001b[0;34m>=\u001b[0m \u001b[0mlen_axis\u001b[0m \u001b[0;32mor\u001b[0m \u001b[0mkey\u001b[0m \u001b[0;34m<\u001b[0m \u001b[0;34m-\u001b[0m\u001b[0mlen_axis\u001b[0m\u001b[0;34m:\u001b[0m\u001b[0;34m\u001b[0m\u001b[0;34m\u001b[0m\u001b[0m\n\u001b[0;32m-> 2063\u001b[0;31m             \u001b[0;32mraise\u001b[0m \u001b[0mIndexError\u001b[0m\u001b[0;34m(\u001b[0m\u001b[0;34m\"single positional indexer is out-of-bounds\"\u001b[0m\u001b[0;34m)\u001b[0m\u001b[0;34m\u001b[0m\u001b[0;34m\u001b[0m\u001b[0m\n\u001b[0m\u001b[1;32m   2064\u001b[0m \u001b[0;34m\u001b[0m\u001b[0m\n\u001b[1;32m   2065\u001b[0m     \u001b[0;32mdef\u001b[0m \u001b[0m_getitem_tuple\u001b[0m\u001b[0;34m(\u001b[0m\u001b[0mself\u001b[0m\u001b[0;34m,\u001b[0m \u001b[0mtup\u001b[0m\u001b[0;34m:\u001b[0m \u001b[0mTuple\u001b[0m\u001b[0;34m)\u001b[0m\u001b[0;34m:\u001b[0m\u001b[0;34m\u001b[0m\u001b[0;34m\u001b[0m\u001b[0m\n",
            "\u001b[0;31mIndexError\u001b[0m: single positional indexer is out-of-bounds"
          ]
        }
      ]
    },
    {
      "cell_type": "markdown",
      "metadata": {
        "id": "0bEHX-3dvclE",
        "colab_type": "text"
      },
      "source": [
        "# Selecting multiple rows by position"
      ]
    },
    {
      "cell_type": "code",
      "metadata": {
        "id": "GhzSFUP6va_K",
        "colab_type": "code",
        "colab": {
          "base_uri": "https://localhost:8080/",
          "height": 204
        },
        "outputId": "2f51d81d-00a8-429c-b1cd-7ed3ab694134"
      },
      "source": [
        "df_employees.iloc[[0, 1, 2, 3, 4]]"
      ],
      "execution_count": 20,
      "outputs": [
        {
          "output_type": "execute_result",
          "data": {
            "text/html": [
              "<div>\n",
              "<style scoped>\n",
              "    .dataframe tbody tr th:only-of-type {\n",
              "        vertical-align: middle;\n",
              "    }\n",
              "\n",
              "    .dataframe tbody tr th {\n",
              "        vertical-align: top;\n",
              "    }\n",
              "\n",
              "    .dataframe thead th {\n",
              "        text-align: right;\n",
              "    }\n",
              "</style>\n",
              "<table border=\"1\" class=\"dataframe\">\n",
              "  <thead>\n",
              "    <tr style=\"text-align: right;\">\n",
              "      <th></th>\n",
              "      <th>name</th>\n",
              "      <th>surname</th>\n",
              "      <th>division</th>\n",
              "      <th>salary</th>\n",
              "      <th>telephone</th>\n",
              "      <th>type_contract</th>\n",
              "    </tr>\n",
              "  </thead>\n",
              "  <tbody>\n",
              "    <tr>\n",
              "      <th>128</th>\n",
              "      <td>Patrick</td>\n",
              "      <td>Miller</td>\n",
              "      <td>Sales</td>\n",
              "      <td>30000</td>\n",
              "      <td>7366578</td>\n",
              "      <td>permanent</td>\n",
              "    </tr>\n",
              "    <tr>\n",
              "      <th>478</th>\n",
              "      <td>Amanda</td>\n",
              "      <td>Torres</td>\n",
              "      <td>IT</td>\n",
              "      <td>54000</td>\n",
              "      <td>7366444</td>\n",
              "      <td>temporary</td>\n",
              "    </tr>\n",
              "    <tr>\n",
              "      <th>257</th>\n",
              "      <td>Antonella</td>\n",
              "      <td>Brown</td>\n",
              "      <td>IT</td>\n",
              "      <td>80000</td>\n",
              "      <td>7366120</td>\n",
              "      <td>temporary</td>\n",
              "    </tr>\n",
              "    <tr>\n",
              "      <th>299</th>\n",
              "      <td>Eduard</td>\n",
              "      <td>Iglesias</td>\n",
              "      <td>Sales</td>\n",
              "      <td>79000</td>\n",
              "      <td>7366574</td>\n",
              "      <td>permanent</td>\n",
              "    </tr>\n",
              "    <tr>\n",
              "      <th>175</th>\n",
              "      <td>John</td>\n",
              "      <td>Wright</td>\n",
              "      <td>Marketing</td>\n",
              "      <td>15000</td>\n",
              "      <td>7366113</td>\n",
              "      <td>internship</td>\n",
              "    </tr>\n",
              "  </tbody>\n",
              "</table>\n",
              "</div>"
            ],
            "text/plain": [
              "          name   surname   division  salary telephone type_contract\n",
              "128    Patrick    Miller      Sales   30000   7366578     permanent\n",
              "478     Amanda    Torres         IT   54000   7366444     temporary\n",
              "257  Antonella     Brown         IT   80000   7366120     temporary\n",
              "299     Eduard  Iglesias      Sales   79000   7366574     permanent\n",
              "175       John    Wright  Marketing   15000   7366113    internship"
            ]
          },
          "metadata": {
            "tags": []
          },
          "execution_count": 20
        }
      ]
    },
    {
      "cell_type": "code",
      "metadata": {
        "id": "hbd5Z4tsveAp",
        "colab_type": "code",
        "colab": {
          "base_uri": "https://localhost:8080/",
          "height": 204
        },
        "outputId": "8a68538d-37aa-4536-a559-a09bd255b08c"
      },
      "source": [
        "df_employees.iloc[0:5]"
      ],
      "execution_count": 21,
      "outputs": [
        {
          "output_type": "execute_result",
          "data": {
            "text/html": [
              "<div>\n",
              "<style scoped>\n",
              "    .dataframe tbody tr th:only-of-type {\n",
              "        vertical-align: middle;\n",
              "    }\n",
              "\n",
              "    .dataframe tbody tr th {\n",
              "        vertical-align: top;\n",
              "    }\n",
              "\n",
              "    .dataframe thead th {\n",
              "        text-align: right;\n",
              "    }\n",
              "</style>\n",
              "<table border=\"1\" class=\"dataframe\">\n",
              "  <thead>\n",
              "    <tr style=\"text-align: right;\">\n",
              "      <th></th>\n",
              "      <th>name</th>\n",
              "      <th>surname</th>\n",
              "      <th>division</th>\n",
              "      <th>salary</th>\n",
              "      <th>telephone</th>\n",
              "      <th>type_contract</th>\n",
              "    </tr>\n",
              "  </thead>\n",
              "  <tbody>\n",
              "    <tr>\n",
              "      <th>128</th>\n",
              "      <td>Patrick</td>\n",
              "      <td>Miller</td>\n",
              "      <td>Sales</td>\n",
              "      <td>30000</td>\n",
              "      <td>7366578</td>\n",
              "      <td>permanent</td>\n",
              "    </tr>\n",
              "    <tr>\n",
              "      <th>478</th>\n",
              "      <td>Amanda</td>\n",
              "      <td>Torres</td>\n",
              "      <td>IT</td>\n",
              "      <td>54000</td>\n",
              "      <td>7366444</td>\n",
              "      <td>temporary</td>\n",
              "    </tr>\n",
              "    <tr>\n",
              "      <th>257</th>\n",
              "      <td>Antonella</td>\n",
              "      <td>Brown</td>\n",
              "      <td>IT</td>\n",
              "      <td>80000</td>\n",
              "      <td>7366120</td>\n",
              "      <td>temporary</td>\n",
              "    </tr>\n",
              "    <tr>\n",
              "      <th>299</th>\n",
              "      <td>Eduard</td>\n",
              "      <td>Iglesias</td>\n",
              "      <td>Sales</td>\n",
              "      <td>79000</td>\n",
              "      <td>7366574</td>\n",
              "      <td>permanent</td>\n",
              "    </tr>\n",
              "    <tr>\n",
              "      <th>175</th>\n",
              "      <td>John</td>\n",
              "      <td>Wright</td>\n",
              "      <td>Marketing</td>\n",
              "      <td>15000</td>\n",
              "      <td>7366113</td>\n",
              "      <td>internship</td>\n",
              "    </tr>\n",
              "  </tbody>\n",
              "</table>\n",
              "</div>"
            ],
            "text/plain": [
              "          name   surname   division  salary telephone type_contract\n",
              "128    Patrick    Miller      Sales   30000   7366578     permanent\n",
              "478     Amanda    Torres         IT   54000   7366444     temporary\n",
              "257  Antonella     Brown         IT   80000   7366120     temporary\n",
              "299     Eduard  Iglesias      Sales   79000   7366574     permanent\n",
              "175       John    Wright  Marketing   15000   7366113    internship"
            ]
          },
          "metadata": {
            "tags": []
          },
          "execution_count": 21
        }
      ]
    },
    {
      "cell_type": "markdown",
      "metadata": {
        "id": "sZvUyBRzvhpl",
        "colab_type": "text"
      },
      "source": [
        "# Selecting rows and columns simultaneously"
      ]
    },
    {
      "cell_type": "code",
      "metadata": {
        "id": "fhqogA55vfcC",
        "colab_type": "code",
        "colab": {
          "base_uri": "https://localhost:8080/",
          "height": 34
        },
        "outputId": "f33eff90-5aec-4f45-ea04-568c6cf4f22b"
      },
      "source": [
        "df_employees.iloc[1, 3]"
      ],
      "execution_count": 22,
      "outputs": [
        {
          "output_type": "execute_result",
          "data": {
            "text/plain": [
              "54000"
            ]
          },
          "metadata": {
            "tags": []
          },
          "execution_count": 22
        }
      ]
    },
    {
      "cell_type": "code",
      "metadata": {
        "id": "hOP1IWXAvjq5",
        "colab_type": "code",
        "colab": {
          "base_uri": "https://localhost:8080/",
          "height": 34
        },
        "outputId": "76c31813-556e-4c6a-d80f-4791550db398"
      },
      "source": [
        "df_employees.loc['478', 'salary']"
      ],
      "execution_count": 23,
      "outputs": [
        {
          "output_type": "execute_result",
          "data": {
            "text/plain": [
              "54000"
            ]
          },
          "metadata": {
            "tags": []
          },
          "execution_count": 23
        }
      ]
    },
    {
      "cell_type": "code",
      "metadata": {
        "id": "jPW1x2vwvk1N",
        "colab_type": "code",
        "colab": {
          "base_uri": "https://localhost:8080/",
          "height": 85
        },
        "outputId": "f9c9fddf-982d-45bb-bd98-6bfc15b1aec3"
      },
      "source": [
        "df_employees.iloc[1, [0, 1, 3]]"
      ],
      "execution_count": 24,
      "outputs": [
        {
          "output_type": "execute_result",
          "data": {
            "text/plain": [
              "name       Amanda\n",
              "surname    Torres\n",
              "salary      54000\n",
              "Name: 478, dtype: object"
            ]
          },
          "metadata": {
            "tags": []
          },
          "execution_count": 24
        }
      ]
    },
    {
      "cell_type": "code",
      "metadata": {
        "id": "ry7leWw2vmhk",
        "colab_type": "code",
        "colab": {
          "base_uri": "https://localhost:8080/",
          "height": 85
        },
        "outputId": "82a5e0c6-5994-4c35-e2f2-4d265c268a18"
      },
      "source": [
        "df_employees.loc['478', ['name', 'surname', 'salary']]"
      ],
      "execution_count": 25,
      "outputs": [
        {
          "output_type": "execute_result",
          "data": {
            "text/plain": [
              "name       Amanda\n",
              "surname    Torres\n",
              "salary      54000\n",
              "Name: 478, dtype: object"
            ]
          },
          "metadata": {
            "tags": []
          },
          "execution_count": 25
        }
      ]
    },
    {
      "cell_type": "code",
      "metadata": {
        "id": "3pqTPINFvnuW",
        "colab_type": "code",
        "colab": {
          "base_uri": "https://localhost:8080/",
          "height": 111
        },
        "outputId": "d28e00e5-4fab-4cf8-eda0-e3dc709297e0"
      },
      "source": [
        "df_employees.iloc[[1, 9], [0, 1, 3]]"
      ],
      "execution_count": 26,
      "outputs": [
        {
          "output_type": "execute_result",
          "data": {
            "text/html": [
              "<div>\n",
              "<style scoped>\n",
              "    .dataframe tbody tr th:only-of-type {\n",
              "        vertical-align: middle;\n",
              "    }\n",
              "\n",
              "    .dataframe tbody tr th {\n",
              "        vertical-align: top;\n",
              "    }\n",
              "\n",
              "    .dataframe thead th {\n",
              "        text-align: right;\n",
              "    }\n",
              "</style>\n",
              "<table border=\"1\" class=\"dataframe\">\n",
              "  <thead>\n",
              "    <tr style=\"text-align: right;\">\n",
              "      <th></th>\n",
              "      <th>name</th>\n",
              "      <th>surname</th>\n",
              "      <th>salary</th>\n",
              "    </tr>\n",
              "  </thead>\n",
              "  <tbody>\n",
              "    <tr>\n",
              "      <th>478</th>\n",
              "      <td>Amanda</td>\n",
              "      <td>Torres</td>\n",
              "      <td>54000</td>\n",
              "    </tr>\n",
              "    <tr>\n",
              "      <th>222</th>\n",
              "      <td>Lewis</td>\n",
              "      <td>Bellow</td>\n",
              "      <td>30500</td>\n",
              "    </tr>\n",
              "  </tbody>\n",
              "</table>\n",
              "</div>"
            ],
            "text/plain": [
              "       name surname  salary\n",
              "478  Amanda  Torres   54000\n",
              "222   Lewis  Bellow   30500"
            ]
          },
          "metadata": {
            "tags": []
          },
          "execution_count": 26
        }
      ]
    },
    {
      "cell_type": "code",
      "metadata": {
        "id": "cQcgqfDOvpYJ",
        "colab_type": "code",
        "colab": {
          "base_uri": "https://localhost:8080/",
          "height": 111
        },
        "outputId": "a466abe6-e333-4223-929e-a0a45438ddcb"
      },
      "source": [
        "df_employees.loc[['478', '222'], ['name', 'surname', 'salary']]"
      ],
      "execution_count": 27,
      "outputs": [
        {
          "output_type": "execute_result",
          "data": {
            "text/html": [
              "<div>\n",
              "<style scoped>\n",
              "    .dataframe tbody tr th:only-of-type {\n",
              "        vertical-align: middle;\n",
              "    }\n",
              "\n",
              "    .dataframe tbody tr th {\n",
              "        vertical-align: top;\n",
              "    }\n",
              "\n",
              "    .dataframe thead th {\n",
              "        text-align: right;\n",
              "    }\n",
              "</style>\n",
              "<table border=\"1\" class=\"dataframe\">\n",
              "  <thead>\n",
              "    <tr style=\"text-align: right;\">\n",
              "      <th></th>\n",
              "      <th>name</th>\n",
              "      <th>surname</th>\n",
              "      <th>salary</th>\n",
              "    </tr>\n",
              "  </thead>\n",
              "  <tbody>\n",
              "    <tr>\n",
              "      <th>478</th>\n",
              "      <td>Amanda</td>\n",
              "      <td>Torres</td>\n",
              "      <td>54000</td>\n",
              "    </tr>\n",
              "    <tr>\n",
              "      <th>222</th>\n",
              "      <td>Lewis</td>\n",
              "      <td>Bellow</td>\n",
              "      <td>30500</td>\n",
              "    </tr>\n",
              "  </tbody>\n",
              "</table>\n",
              "</div>"
            ],
            "text/plain": [
              "       name surname  salary\n",
              "478  Amanda  Torres   54000\n",
              "222   Lewis  Bellow   30500"
            ]
          },
          "metadata": {
            "tags": []
          },
          "execution_count": 27
        }
      ]
    },
    {
      "cell_type": "code",
      "metadata": {
        "id": "_sU4GdFovqYd",
        "colab_type": "code",
        "colab": {
          "base_uri": "https://localhost:8080/",
          "height": 173
        },
        "outputId": "e25e1636-3a9a-4a9e-80db-b33e6df64f7f"
      },
      "source": [
        "df_employees.iloc[:4, [0, 1, 3]]"
      ],
      "execution_count": 28,
      "outputs": [
        {
          "output_type": "execute_result",
          "data": {
            "text/html": [
              "<div>\n",
              "<style scoped>\n",
              "    .dataframe tbody tr th:only-of-type {\n",
              "        vertical-align: middle;\n",
              "    }\n",
              "\n",
              "    .dataframe tbody tr th {\n",
              "        vertical-align: top;\n",
              "    }\n",
              "\n",
              "    .dataframe thead th {\n",
              "        text-align: right;\n",
              "    }\n",
              "</style>\n",
              "<table border=\"1\" class=\"dataframe\">\n",
              "  <thead>\n",
              "    <tr style=\"text-align: right;\">\n",
              "      <th></th>\n",
              "      <th>name</th>\n",
              "      <th>surname</th>\n",
              "      <th>salary</th>\n",
              "    </tr>\n",
              "  </thead>\n",
              "  <tbody>\n",
              "    <tr>\n",
              "      <th>128</th>\n",
              "      <td>Patrick</td>\n",
              "      <td>Miller</td>\n",
              "      <td>30000</td>\n",
              "    </tr>\n",
              "    <tr>\n",
              "      <th>478</th>\n",
              "      <td>Amanda</td>\n",
              "      <td>Torres</td>\n",
              "      <td>54000</td>\n",
              "    </tr>\n",
              "    <tr>\n",
              "      <th>257</th>\n",
              "      <td>Antonella</td>\n",
              "      <td>Brown</td>\n",
              "      <td>80000</td>\n",
              "    </tr>\n",
              "    <tr>\n",
              "      <th>299</th>\n",
              "      <td>Eduard</td>\n",
              "      <td>Iglesias</td>\n",
              "      <td>79000</td>\n",
              "    </tr>\n",
              "  </tbody>\n",
              "</table>\n",
              "</div>"
            ],
            "text/plain": [
              "          name   surname  salary\n",
              "128    Patrick    Miller   30000\n",
              "478     Amanda    Torres   54000\n",
              "257  Antonella     Brown   80000\n",
              "299     Eduard  Iglesias   79000"
            ]
          },
          "metadata": {
            "tags": []
          },
          "execution_count": 28
        }
      ]
    },
    {
      "cell_type": "code",
      "metadata": {
        "id": "IIMX7uIQvrrN",
        "colab_type": "code",
        "colab": {
          "base_uri": "https://localhost:8080/",
          "height": 173
        },
        "outputId": "3e0ba697-3b05-446f-8a7e-8658f84143f5"
      },
      "source": [
        "df_employees.loc[:'299', ['name', 'surname', 'salary']]"
      ],
      "execution_count": 29,
      "outputs": [
        {
          "output_type": "execute_result",
          "data": {
            "text/html": [
              "<div>\n",
              "<style scoped>\n",
              "    .dataframe tbody tr th:only-of-type {\n",
              "        vertical-align: middle;\n",
              "    }\n",
              "\n",
              "    .dataframe tbody tr th {\n",
              "        vertical-align: top;\n",
              "    }\n",
              "\n",
              "    .dataframe thead th {\n",
              "        text-align: right;\n",
              "    }\n",
              "</style>\n",
              "<table border=\"1\" class=\"dataframe\">\n",
              "  <thead>\n",
              "    <tr style=\"text-align: right;\">\n",
              "      <th></th>\n",
              "      <th>name</th>\n",
              "      <th>surname</th>\n",
              "      <th>salary</th>\n",
              "    </tr>\n",
              "  </thead>\n",
              "  <tbody>\n",
              "    <tr>\n",
              "      <th>128</th>\n",
              "      <td>Patrick</td>\n",
              "      <td>Miller</td>\n",
              "      <td>30000</td>\n",
              "    </tr>\n",
              "    <tr>\n",
              "      <th>478</th>\n",
              "      <td>Amanda</td>\n",
              "      <td>Torres</td>\n",
              "      <td>54000</td>\n",
              "    </tr>\n",
              "    <tr>\n",
              "      <th>257</th>\n",
              "      <td>Antonella</td>\n",
              "      <td>Brown</td>\n",
              "      <td>80000</td>\n",
              "    </tr>\n",
              "    <tr>\n",
              "      <th>299</th>\n",
              "      <td>Eduard</td>\n",
              "      <td>Iglesias</td>\n",
              "      <td>79000</td>\n",
              "    </tr>\n",
              "  </tbody>\n",
              "</table>\n",
              "</div>"
            ],
            "text/plain": [
              "          name   surname  salary\n",
              "128    Patrick    Miller   30000\n",
              "478     Amanda    Torres   54000\n",
              "257  Antonella     Brown   80000\n",
              "299     Eduard  Iglesias   79000"
            ]
          },
          "metadata": {
            "tags": []
          },
          "execution_count": 29
        }
      ]
    },
    {
      "cell_type": "markdown",
      "metadata": {
        "id": "1497F4jFvufz",
        "colab_type": "text"
      },
      "source": [
        "# Selecting a scalar value using the .at[] and .iat[] indexers"
      ]
    },
    {
      "cell_type": "code",
      "metadata": {
        "id": "-UmFYgoPvsn8",
        "colab_type": "code",
        "colab": {
          "base_uri": "https://localhost:8080/",
          "height": 34
        },
        "outputId": "97d3f23a-1f8d-41a1-c3a0-b21d8dac29b6"
      },
      "source": [
        "df_employees.iat[1, 3]"
      ],
      "execution_count": 30,
      "outputs": [
        {
          "output_type": "execute_result",
          "data": {
            "text/plain": [
              "54000"
            ]
          },
          "metadata": {
            "tags": []
          },
          "execution_count": 30
        }
      ]
    },
    {
      "cell_type": "code",
      "metadata": {
        "id": "NB2aqxzHvzpY",
        "colab_type": "code",
        "colab": {
          "base_uri": "https://localhost:8080/",
          "height": 34
        },
        "outputId": "6911649b-113b-4a3d-be8d-f83e864335c9"
      },
      "source": [
        "df_employees.at['478', 'salary']"
      ],
      "execution_count": 31,
      "outputs": [
        {
          "output_type": "execute_result",
          "data": {
            "text/plain": [
              "54000"
            ]
          },
          "metadata": {
            "tags": []
          },
          "execution_count": 31
        }
      ]
    },
    {
      "cell_type": "code",
      "metadata": {
        "id": "njNA_lM5v0lf",
        "colab_type": "code",
        "colab": {
          "base_uri": "https://localhost:8080/",
          "height": 71
        },
        "outputId": "fc05c3dd-494c-444a-c042-4adf8ab15b41"
      },
      "source": [
        "%timeit df_employees.loc['478', 'salary']"
      ],
      "execution_count": 32,
      "outputs": [
        {
          "output_type": "stream",
          "text": [
            "The slowest run took 16.05 times longer than the fastest. This could mean that an intermediate result is being cached.\n",
            "100000 loops, best of 3: 7.38 µs per loop\n"
          ],
          "name": "stdout"
        }
      ]
    },
    {
      "cell_type": "code",
      "metadata": {
        "id": "gOg79mIAv-o0",
        "colab_type": "code",
        "colab": {
          "base_uri": "https://localhost:8080/",
          "height": 71
        },
        "outputId": "591ecda7-52c5-4d54-f5de-56c3eff18bd8"
      },
      "source": [
        "%timeit df_employees.at['478', 'salary']"
      ],
      "execution_count": 33,
      "outputs": [
        {
          "output_type": "stream",
          "text": [
            "The slowest run took 27.07 times longer than the fastest. This could mean that an intermediate result is being cached.\n",
            "100000 loops, best of 3: 4.33 µs per loop\n"
          ],
          "name": "stdout"
        }
      ]
    },
    {
      "cell_type": "code",
      "metadata": {
        "id": "cOypGwdjv-3C",
        "colab_type": "code",
        "colab": {
          "base_uri": "https://localhost:8080/",
          "height": 71
        },
        "outputId": "f8592f98-0cc6-4465-cd00-3743346faef7"
      },
      "source": [
        "%timeit df_employees.iloc[1, 3]"
      ],
      "execution_count": 34,
      "outputs": [
        {
          "output_type": "stream",
          "text": [
            "The slowest run took 16.32 times longer than the fastest. This could mean that an intermediate result is being cached.\n",
            "100000 loops, best of 3: 7.55 µs per loop\n"
          ],
          "name": "stdout"
        }
      ]
    },
    {
      "cell_type": "code",
      "metadata": {
        "id": "3g7gcpepwHWA",
        "colab_type": "code",
        "colab": {
          "base_uri": "https://localhost:8080/",
          "height": 71
        },
        "outputId": "7a1a1685-36b8-47ba-ad2e-dba72420a7e4"
      },
      "source": [
        "%timeit df_employees.iat[1, 3]"
      ],
      "execution_count": 35,
      "outputs": [
        {
          "output_type": "stream",
          "text": [
            "The slowest run took 13.05 times longer than the fastest. This could mean that an intermediate result is being cached.\n",
            "100000 loops, best of 3: 4.98 µs per loop\n"
          ],
          "name": "stdout"
        }
      ]
    },
    {
      "cell_type": "code",
      "metadata": {
        "id": "wOdeR3F5wIPa",
        "colab_type": "code",
        "colab": {
          "base_uri": "https://localhost:8080/",
          "height": 375
        },
        "outputId": "ef6befed-18f7-4117-db8c-7a18eed95b33"
      },
      "source": [
        "df_employees.at['478', ['name', 'surname', 'salary']]"
      ],
      "execution_count": 36,
      "outputs": [
        {
          "output_type": "error",
          "ename": "TypeError",
          "evalue": "ignored",
          "traceback": [
            "\u001b[0;31m---------------------------------------------------------------------------\u001b[0m",
            "\u001b[0;31mTypeError\u001b[0m                                 Traceback (most recent call last)",
            "\u001b[0;32m<ipython-input-36-2f8537b37534>\u001b[0m in \u001b[0;36m<module>\u001b[0;34m()\u001b[0m\n\u001b[0;32m----> 1\u001b[0;31m \u001b[0mdf_employees\u001b[0m\u001b[0;34m.\u001b[0m\u001b[0mat\u001b[0m\u001b[0;34m[\u001b[0m\u001b[0;34m'478'\u001b[0m\u001b[0;34m,\u001b[0m \u001b[0;34m[\u001b[0m\u001b[0;34m'name'\u001b[0m\u001b[0;34m,\u001b[0m \u001b[0;34m'surname'\u001b[0m\u001b[0;34m,\u001b[0m \u001b[0;34m'salary'\u001b[0m\u001b[0;34m]\u001b[0m\u001b[0;34m]\u001b[0m\u001b[0;34m\u001b[0m\u001b[0;34m\u001b[0m\u001b[0m\n\u001b[0m",
            "\u001b[0;32m/usr/local/lib/python3.6/dist-packages/pandas/core/indexing.py\u001b[0m in \u001b[0;36m__getitem__\u001b[0;34m(self, key)\u001b[0m\n\u001b[1;32m   2177\u001b[0m \u001b[0;34m\u001b[0m\u001b[0m\n\u001b[1;32m   2178\u001b[0m         \u001b[0mkey\u001b[0m \u001b[0;34m=\u001b[0m \u001b[0mself\u001b[0m\u001b[0;34m.\u001b[0m\u001b[0m_convert_key\u001b[0m\u001b[0;34m(\u001b[0m\u001b[0mkey\u001b[0m\u001b[0;34m)\u001b[0m\u001b[0;34m\u001b[0m\u001b[0;34m\u001b[0m\u001b[0m\n\u001b[0;32m-> 2179\u001b[0;31m         \u001b[0;32mreturn\u001b[0m \u001b[0mself\u001b[0m\u001b[0;34m.\u001b[0m\u001b[0mobj\u001b[0m\u001b[0;34m.\u001b[0m\u001b[0m_get_value\u001b[0m\u001b[0;34m(\u001b[0m\u001b[0;34m*\u001b[0m\u001b[0mkey\u001b[0m\u001b[0;34m,\u001b[0m \u001b[0mtakeable\u001b[0m\u001b[0;34m=\u001b[0m\u001b[0mself\u001b[0m\u001b[0;34m.\u001b[0m\u001b[0m_takeable\u001b[0m\u001b[0;34m)\u001b[0m\u001b[0;34m\u001b[0m\u001b[0;34m\u001b[0m\u001b[0m\n\u001b[0m\u001b[1;32m   2180\u001b[0m \u001b[0;34m\u001b[0m\u001b[0m\n\u001b[1;32m   2181\u001b[0m     \u001b[0;32mdef\u001b[0m \u001b[0m__setitem__\u001b[0m\u001b[0;34m(\u001b[0m\u001b[0mself\u001b[0m\u001b[0;34m,\u001b[0m \u001b[0mkey\u001b[0m\u001b[0;34m,\u001b[0m \u001b[0mvalue\u001b[0m\u001b[0;34m)\u001b[0m\u001b[0;34m:\u001b[0m\u001b[0;34m\u001b[0m\u001b[0;34m\u001b[0m\u001b[0m\n",
            "\u001b[0;32m/usr/local/lib/python3.6/dist-packages/pandas/core/frame.py\u001b[0m in \u001b[0;36m_get_value\u001b[0;34m(self, index, col, takeable)\u001b[0m\n\u001b[1;32m   2901\u001b[0m             \u001b[0;32mreturn\u001b[0m \u001b[0mcom\u001b[0m\u001b[0;34m.\u001b[0m\u001b[0mmaybe_box_datetimelike\u001b[0m\u001b[0;34m(\u001b[0m\u001b[0mseries\u001b[0m\u001b[0;34m.\u001b[0m\u001b[0m_values\u001b[0m\u001b[0;34m[\u001b[0m\u001b[0mindex\u001b[0m\u001b[0;34m]\u001b[0m\u001b[0;34m)\u001b[0m\u001b[0;34m\u001b[0m\u001b[0;34m\u001b[0m\u001b[0m\n\u001b[1;32m   2902\u001b[0m \u001b[0;34m\u001b[0m\u001b[0m\n\u001b[0;32m-> 2903\u001b[0;31m         \u001b[0mseries\u001b[0m \u001b[0;34m=\u001b[0m \u001b[0mself\u001b[0m\u001b[0;34m.\u001b[0m\u001b[0m_get_item_cache\u001b[0m\u001b[0;34m(\u001b[0m\u001b[0mcol\u001b[0m\u001b[0;34m)\u001b[0m\u001b[0;34m\u001b[0m\u001b[0;34m\u001b[0m\u001b[0m\n\u001b[0m\u001b[1;32m   2904\u001b[0m         \u001b[0mengine\u001b[0m \u001b[0;34m=\u001b[0m \u001b[0mself\u001b[0m\u001b[0;34m.\u001b[0m\u001b[0mindex\u001b[0m\u001b[0;34m.\u001b[0m\u001b[0m_engine\u001b[0m\u001b[0;34m\u001b[0m\u001b[0;34m\u001b[0m\u001b[0m\n\u001b[1;32m   2905\u001b[0m \u001b[0;34m\u001b[0m\u001b[0m\n",
            "\u001b[0;32m/usr/local/lib/python3.6/dist-packages/pandas/core/generic.py\u001b[0m in \u001b[0;36m_get_item_cache\u001b[0;34m(self, item)\u001b[0m\n\u001b[1;32m   3582\u001b[0m         \u001b[0;34m\"\"\"Return the cached item, item represents a label indexer.\"\"\"\u001b[0m\u001b[0;34m\u001b[0m\u001b[0;34m\u001b[0m\u001b[0m\n\u001b[1;32m   3583\u001b[0m         \u001b[0mcache\u001b[0m \u001b[0;34m=\u001b[0m \u001b[0mself\u001b[0m\u001b[0;34m.\u001b[0m\u001b[0m_item_cache\u001b[0m\u001b[0;34m\u001b[0m\u001b[0;34m\u001b[0m\u001b[0m\n\u001b[0;32m-> 3584\u001b[0;31m         \u001b[0mres\u001b[0m \u001b[0;34m=\u001b[0m \u001b[0mcache\u001b[0m\u001b[0;34m.\u001b[0m\u001b[0mget\u001b[0m\u001b[0;34m(\u001b[0m\u001b[0mitem\u001b[0m\u001b[0;34m)\u001b[0m\u001b[0;34m\u001b[0m\u001b[0;34m\u001b[0m\u001b[0m\n\u001b[0m\u001b[1;32m   3585\u001b[0m         \u001b[0;32mif\u001b[0m \u001b[0mres\u001b[0m \u001b[0;32mis\u001b[0m \u001b[0;32mNone\u001b[0m\u001b[0;34m:\u001b[0m\u001b[0;34m\u001b[0m\u001b[0;34m\u001b[0m\u001b[0m\n\u001b[1;32m   3586\u001b[0m             \u001b[0mvalues\u001b[0m \u001b[0;34m=\u001b[0m \u001b[0mself\u001b[0m\u001b[0;34m.\u001b[0m\u001b[0m_data\u001b[0m\u001b[0;34m.\u001b[0m\u001b[0mget\u001b[0m\u001b[0;34m(\u001b[0m\u001b[0mitem\u001b[0m\u001b[0;34m)\u001b[0m\u001b[0;34m\u001b[0m\u001b[0;34m\u001b[0m\u001b[0m\n",
            "\u001b[0;31mTypeError\u001b[0m: unhashable type: 'list'"
          ]
        }
      ]
    },
    {
      "cell_type": "markdown",
      "metadata": {
        "id": "sKFrOxzVwLX1",
        "colab_type": "text"
      },
      "source": [
        "# Selecting rows using Boolean selection"
      ]
    },
    {
      "cell_type": "code",
      "metadata": {
        "id": "hBHjY1YVwKYC",
        "colab_type": "code",
        "colab": {
          "base_uri": "https://localhost:8080/",
          "height": 204
        },
        "outputId": "8454926b-c665-4eea-be1f-370b568c3aad"
      },
      "source": [
        "df_employees['salary'] > 45000"
      ],
      "execution_count": 37,
      "outputs": [
        {
          "output_type": "execute_result",
          "data": {
            "text/plain": [
              "128    False\n",
              "478     True\n",
              "257     True\n",
              "299     True\n",
              "175    False\n",
              "328    False\n",
              "099    False\n",
              "457    False\n",
              "144    False\n",
              "222    False\n",
              "Name: salary, dtype: bool"
            ]
          },
          "metadata": {
            "tags": []
          },
          "execution_count": 37
        }
      ]
    },
    {
      "cell_type": "code",
      "metadata": {
        "id": "V8mkkjPNwNp8",
        "colab_type": "code",
        "colab": {
          "base_uri": "https://localhost:8080/",
          "height": 142
        },
        "outputId": "3492b31b-befa-4ba8-b7a0-ed7079326e4e"
      },
      "source": [
        "df_employees[df_employees['salary'] > 45000]"
      ],
      "execution_count": 38,
      "outputs": [
        {
          "output_type": "execute_result",
          "data": {
            "text/html": [
              "<div>\n",
              "<style scoped>\n",
              "    .dataframe tbody tr th:only-of-type {\n",
              "        vertical-align: middle;\n",
              "    }\n",
              "\n",
              "    .dataframe tbody tr th {\n",
              "        vertical-align: top;\n",
              "    }\n",
              "\n",
              "    .dataframe thead th {\n",
              "        text-align: right;\n",
              "    }\n",
              "</style>\n",
              "<table border=\"1\" class=\"dataframe\">\n",
              "  <thead>\n",
              "    <tr style=\"text-align: right;\">\n",
              "      <th></th>\n",
              "      <th>name</th>\n",
              "      <th>surname</th>\n",
              "      <th>division</th>\n",
              "      <th>salary</th>\n",
              "      <th>telephone</th>\n",
              "      <th>type_contract</th>\n",
              "    </tr>\n",
              "  </thead>\n",
              "  <tbody>\n",
              "    <tr>\n",
              "      <th>478</th>\n",
              "      <td>Amanda</td>\n",
              "      <td>Torres</td>\n",
              "      <td>IT</td>\n",
              "      <td>54000</td>\n",
              "      <td>7366444</td>\n",
              "      <td>temporary</td>\n",
              "    </tr>\n",
              "    <tr>\n",
              "      <th>257</th>\n",
              "      <td>Antonella</td>\n",
              "      <td>Brown</td>\n",
              "      <td>IT</td>\n",
              "      <td>80000</td>\n",
              "      <td>7366120</td>\n",
              "      <td>temporary</td>\n",
              "    </tr>\n",
              "    <tr>\n",
              "      <th>299</th>\n",
              "      <td>Eduard</td>\n",
              "      <td>Iglesias</td>\n",
              "      <td>Sales</td>\n",
              "      <td>79000</td>\n",
              "      <td>7366574</td>\n",
              "      <td>permanent</td>\n",
              "    </tr>\n",
              "  </tbody>\n",
              "</table>\n",
              "</div>"
            ],
            "text/plain": [
              "          name   surname division  salary telephone type_contract\n",
              "478     Amanda    Torres       IT   54000   7366444     temporary\n",
              "257  Antonella     Brown       IT   80000   7366120     temporary\n",
              "299     Eduard  Iglesias    Sales   79000   7366574     permanent"
            ]
          },
          "metadata": {
            "tags": []
          },
          "execution_count": 38
        }
      ]
    },
    {
      "cell_type": "code",
      "metadata": {
        "id": "lb-DisCmwO2i",
        "colab_type": "code",
        "colab": {
          "base_uri": "https://localhost:8080/",
          "height": 80
        },
        "outputId": "b71ba3b2-02ae-4773-b5f0-6de47378741e"
      },
      "source": [
        "df_employees[(df_employees['salary'] > 45000) & (df_employees['type_contract'] == 'permanent')]"
      ],
      "execution_count": 39,
      "outputs": [
        {
          "output_type": "execute_result",
          "data": {
            "text/html": [
              "<div>\n",
              "<style scoped>\n",
              "    .dataframe tbody tr th:only-of-type {\n",
              "        vertical-align: middle;\n",
              "    }\n",
              "\n",
              "    .dataframe tbody tr th {\n",
              "        vertical-align: top;\n",
              "    }\n",
              "\n",
              "    .dataframe thead th {\n",
              "        text-align: right;\n",
              "    }\n",
              "</style>\n",
              "<table border=\"1\" class=\"dataframe\">\n",
              "  <thead>\n",
              "    <tr style=\"text-align: right;\">\n",
              "      <th></th>\n",
              "      <th>name</th>\n",
              "      <th>surname</th>\n",
              "      <th>division</th>\n",
              "      <th>salary</th>\n",
              "      <th>telephone</th>\n",
              "      <th>type_contract</th>\n",
              "    </tr>\n",
              "  </thead>\n",
              "  <tbody>\n",
              "    <tr>\n",
              "      <th>299</th>\n",
              "      <td>Eduard</td>\n",
              "      <td>Iglesias</td>\n",
              "      <td>Sales</td>\n",
              "      <td>79000</td>\n",
              "      <td>7366574</td>\n",
              "      <td>permanent</td>\n",
              "    </tr>\n",
              "  </tbody>\n",
              "</table>\n",
              "</div>"
            ],
            "text/plain": [
              "       name   surname division  salary telephone type_contract\n",
              "299  Eduard  Iglesias    Sales   79000   7366574     permanent"
            ]
          },
          "metadata": {
            "tags": []
          },
          "execution_count": 39
        }
      ]
    },
    {
      "cell_type": "code",
      "metadata": {
        "id": "dRpNmHa4wSeN",
        "colab_type": "code",
        "colab": {
          "base_uri": "https://localhost:8080/",
          "height": 297
        },
        "outputId": "cc8c1371-a3ac-40ed-e46d-f3e7869f5897"
      },
      "source": [
        "df_employees[(df_employees['type_contract'] == 'temporary') | (df_employees['type_contract'] == 'permanent')]"
      ],
      "execution_count": 40,
      "outputs": [
        {
          "output_type": "execute_result",
          "data": {
            "text/html": [
              "<div>\n",
              "<style scoped>\n",
              "    .dataframe tbody tr th:only-of-type {\n",
              "        vertical-align: middle;\n",
              "    }\n",
              "\n",
              "    .dataframe tbody tr th {\n",
              "        vertical-align: top;\n",
              "    }\n",
              "\n",
              "    .dataframe thead th {\n",
              "        text-align: right;\n",
              "    }\n",
              "</style>\n",
              "<table border=\"1\" class=\"dataframe\">\n",
              "  <thead>\n",
              "    <tr style=\"text-align: right;\">\n",
              "      <th></th>\n",
              "      <th>name</th>\n",
              "      <th>surname</th>\n",
              "      <th>division</th>\n",
              "      <th>salary</th>\n",
              "      <th>telephone</th>\n",
              "      <th>type_contract</th>\n",
              "    </tr>\n",
              "  </thead>\n",
              "  <tbody>\n",
              "    <tr>\n",
              "      <th>128</th>\n",
              "      <td>Patrick</td>\n",
              "      <td>Miller</td>\n",
              "      <td>Sales</td>\n",
              "      <td>30000</td>\n",
              "      <td>7366578</td>\n",
              "      <td>permanent</td>\n",
              "    </tr>\n",
              "    <tr>\n",
              "      <th>478</th>\n",
              "      <td>Amanda</td>\n",
              "      <td>Torres</td>\n",
              "      <td>IT</td>\n",
              "      <td>54000</td>\n",
              "      <td>7366444</td>\n",
              "      <td>temporary</td>\n",
              "    </tr>\n",
              "    <tr>\n",
              "      <th>257</th>\n",
              "      <td>Antonella</td>\n",
              "      <td>Brown</td>\n",
              "      <td>IT</td>\n",
              "      <td>80000</td>\n",
              "      <td>7366120</td>\n",
              "      <td>temporary</td>\n",
              "    </tr>\n",
              "    <tr>\n",
              "      <th>299</th>\n",
              "      <td>Eduard</td>\n",
              "      <td>Iglesias</td>\n",
              "      <td>Sales</td>\n",
              "      <td>79000</td>\n",
              "      <td>7366574</td>\n",
              "      <td>permanent</td>\n",
              "    </tr>\n",
              "    <tr>\n",
              "      <th>099</th>\n",
              "      <td>Layton</td>\n",
              "      <td>Platt</td>\n",
              "      <td>Engineering</td>\n",
              "      <td>30000</td>\n",
              "      <td>7366777</td>\n",
              "      <td>permanent</td>\n",
              "    </tr>\n",
              "    <tr>\n",
              "      <th>457</th>\n",
              "      <td>Melanie</td>\n",
              "      <td>Cavill</td>\n",
              "      <td>Sales</td>\n",
              "      <td>35000</td>\n",
              "      <td>7366579</td>\n",
              "      <td>temporary</td>\n",
              "    </tr>\n",
              "    <tr>\n",
              "      <th>144</th>\n",
              "      <td>David</td>\n",
              "      <td>Lange</td>\n",
              "      <td>Engineering</td>\n",
              "      <td>45000</td>\n",
              "      <td>7366441</td>\n",
              "      <td>permanent</td>\n",
              "    </tr>\n",
              "    <tr>\n",
              "      <th>222</th>\n",
              "      <td>Lewis</td>\n",
              "      <td>Bellow</td>\n",
              "      <td>Sales</td>\n",
              "      <td>30500</td>\n",
              "      <td>7366440</td>\n",
              "      <td>permanent</td>\n",
              "    </tr>\n",
              "  </tbody>\n",
              "</table>\n",
              "</div>"
            ],
            "text/plain": [
              "          name   surname     division  salary telephone type_contract\n",
              "128    Patrick    Miller        Sales   30000   7366578     permanent\n",
              "478     Amanda    Torres           IT   54000   7366444     temporary\n",
              "257  Antonella     Brown           IT   80000   7366120     temporary\n",
              "299     Eduard  Iglesias        Sales   79000   7366574     permanent\n",
              "099     Layton     Platt  Engineering   30000   7366777     permanent\n",
              "457    Melanie    Cavill        Sales   35000   7366579     temporary\n",
              "144      David     Lange  Engineering   45000   7366441     permanent\n",
              "222      Lewis    Bellow        Sales   30500   7366440     permanent"
            ]
          },
          "metadata": {
            "tags": []
          },
          "execution_count": 40
        }
      ]
    },
    {
      "cell_type": "code",
      "metadata": {
        "id": "gBXkddGAwcSA",
        "colab_type": "code",
        "colab": {
          "base_uri": "https://localhost:8080/",
          "height": 297
        },
        "outputId": "6c4cb222-23aa-4476-82c8-624a093ccb22"
      },
      "source": [
        "df_employees[df_employees['type_contract'].isin(['temporary', 'permanent'])]"
      ],
      "execution_count": 41,
      "outputs": [
        {
          "output_type": "execute_result",
          "data": {
            "text/html": [
              "<div>\n",
              "<style scoped>\n",
              "    .dataframe tbody tr th:only-of-type {\n",
              "        vertical-align: middle;\n",
              "    }\n",
              "\n",
              "    .dataframe tbody tr th {\n",
              "        vertical-align: top;\n",
              "    }\n",
              "\n",
              "    .dataframe thead th {\n",
              "        text-align: right;\n",
              "    }\n",
              "</style>\n",
              "<table border=\"1\" class=\"dataframe\">\n",
              "  <thead>\n",
              "    <tr style=\"text-align: right;\">\n",
              "      <th></th>\n",
              "      <th>name</th>\n",
              "      <th>surname</th>\n",
              "      <th>division</th>\n",
              "      <th>salary</th>\n",
              "      <th>telephone</th>\n",
              "      <th>type_contract</th>\n",
              "    </tr>\n",
              "  </thead>\n",
              "  <tbody>\n",
              "    <tr>\n",
              "      <th>128</th>\n",
              "      <td>Patrick</td>\n",
              "      <td>Miller</td>\n",
              "      <td>Sales</td>\n",
              "      <td>30000</td>\n",
              "      <td>7366578</td>\n",
              "      <td>permanent</td>\n",
              "    </tr>\n",
              "    <tr>\n",
              "      <th>478</th>\n",
              "      <td>Amanda</td>\n",
              "      <td>Torres</td>\n",
              "      <td>IT</td>\n",
              "      <td>54000</td>\n",
              "      <td>7366444</td>\n",
              "      <td>temporary</td>\n",
              "    </tr>\n",
              "    <tr>\n",
              "      <th>257</th>\n",
              "      <td>Antonella</td>\n",
              "      <td>Brown</td>\n",
              "      <td>IT</td>\n",
              "      <td>80000</td>\n",
              "      <td>7366120</td>\n",
              "      <td>temporary</td>\n",
              "    </tr>\n",
              "    <tr>\n",
              "      <th>299</th>\n",
              "      <td>Eduard</td>\n",
              "      <td>Iglesias</td>\n",
              "      <td>Sales</td>\n",
              "      <td>79000</td>\n",
              "      <td>7366574</td>\n",
              "      <td>permanent</td>\n",
              "    </tr>\n",
              "    <tr>\n",
              "      <th>099</th>\n",
              "      <td>Layton</td>\n",
              "      <td>Platt</td>\n",
              "      <td>Engineering</td>\n",
              "      <td>30000</td>\n",
              "      <td>7366777</td>\n",
              "      <td>permanent</td>\n",
              "    </tr>\n",
              "    <tr>\n",
              "      <th>457</th>\n",
              "      <td>Melanie</td>\n",
              "      <td>Cavill</td>\n",
              "      <td>Sales</td>\n",
              "      <td>35000</td>\n",
              "      <td>7366579</td>\n",
              "      <td>temporary</td>\n",
              "    </tr>\n",
              "    <tr>\n",
              "      <th>144</th>\n",
              "      <td>David</td>\n",
              "      <td>Lange</td>\n",
              "      <td>Engineering</td>\n",
              "      <td>45000</td>\n",
              "      <td>7366441</td>\n",
              "      <td>permanent</td>\n",
              "    </tr>\n",
              "    <tr>\n",
              "      <th>222</th>\n",
              "      <td>Lewis</td>\n",
              "      <td>Bellow</td>\n",
              "      <td>Sales</td>\n",
              "      <td>30500</td>\n",
              "      <td>7366440</td>\n",
              "      <td>permanent</td>\n",
              "    </tr>\n",
              "  </tbody>\n",
              "</table>\n",
              "</div>"
            ],
            "text/plain": [
              "          name   surname     division  salary telephone type_contract\n",
              "128    Patrick    Miller        Sales   30000   7366578     permanent\n",
              "478     Amanda    Torres           IT   54000   7366444     temporary\n",
              "257  Antonella     Brown           IT   80000   7366120     temporary\n",
              "299     Eduard  Iglesias        Sales   79000   7366574     permanent\n",
              "099     Layton     Platt  Engineering   30000   7366777     permanent\n",
              "457    Melanie    Cavill        Sales   35000   7366579     temporary\n",
              "144      David     Lange  Engineering   45000   7366441     permanent\n",
              "222      Lewis    Bellow        Sales   30500   7366440     permanent"
            ]
          },
          "metadata": {
            "tags": []
          },
          "execution_count": 41
        }
      ]
    },
    {
      "cell_type": "code",
      "metadata": {
        "id": "bvIZe17mwdtf",
        "colab_type": "code",
        "colab": {
          "base_uri": "https://localhost:8080/",
          "height": 51
        },
        "outputId": "1179862f-6621-42f5-df7b-8921f6eaf101"
      },
      "source": [
        "# execution time with the logical operator |\n",
        "%timeit df_employees[(df_employees['type_contract'] == 'temporary') | (df_employees['type_contract'] == 'permanent')]\n",
        "\n",
        "# execution time with the isin method\n",
        "%timeit df_employees[df_employees['type_contract'].isin(['temporary', 'permanent'])]"
      ],
      "execution_count": 42,
      "outputs": [
        {
          "output_type": "stream",
          "text": [
            "1000 loops, best of 3: 680 µs per loop\n",
            "1000 loops, best of 3: 476 µs per loop\n"
          ],
          "name": "stdout"
        }
      ]
    },
    {
      "cell_type": "code",
      "metadata": {
        "id": "xacA3SxXwfuX",
        "colab_type": "code",
        "colab": {
          "base_uri": "https://localhost:8080/",
          "height": 297
        },
        "outputId": "842df616-6df1-410b-c2e5-60a1253338cb"
      },
      "source": [
        "df_employees[df_employees['salary'].between(30000, 80000)]"
      ],
      "execution_count": 43,
      "outputs": [
        {
          "output_type": "execute_result",
          "data": {
            "text/html": [
              "<div>\n",
              "<style scoped>\n",
              "    .dataframe tbody tr th:only-of-type {\n",
              "        vertical-align: middle;\n",
              "    }\n",
              "\n",
              "    .dataframe tbody tr th {\n",
              "        vertical-align: top;\n",
              "    }\n",
              "\n",
              "    .dataframe thead th {\n",
              "        text-align: right;\n",
              "    }\n",
              "</style>\n",
              "<table border=\"1\" class=\"dataframe\">\n",
              "  <thead>\n",
              "    <tr style=\"text-align: right;\">\n",
              "      <th></th>\n",
              "      <th>name</th>\n",
              "      <th>surname</th>\n",
              "      <th>division</th>\n",
              "      <th>salary</th>\n",
              "      <th>telephone</th>\n",
              "      <th>type_contract</th>\n",
              "    </tr>\n",
              "  </thead>\n",
              "  <tbody>\n",
              "    <tr>\n",
              "      <th>128</th>\n",
              "      <td>Patrick</td>\n",
              "      <td>Miller</td>\n",
              "      <td>Sales</td>\n",
              "      <td>30000</td>\n",
              "      <td>7366578</td>\n",
              "      <td>permanent</td>\n",
              "    </tr>\n",
              "    <tr>\n",
              "      <th>478</th>\n",
              "      <td>Amanda</td>\n",
              "      <td>Torres</td>\n",
              "      <td>IT</td>\n",
              "      <td>54000</td>\n",
              "      <td>7366444</td>\n",
              "      <td>temporary</td>\n",
              "    </tr>\n",
              "    <tr>\n",
              "      <th>257</th>\n",
              "      <td>Antonella</td>\n",
              "      <td>Brown</td>\n",
              "      <td>IT</td>\n",
              "      <td>80000</td>\n",
              "      <td>7366120</td>\n",
              "      <td>temporary</td>\n",
              "    </tr>\n",
              "    <tr>\n",
              "      <th>299</th>\n",
              "      <td>Eduard</td>\n",
              "      <td>Iglesias</td>\n",
              "      <td>Sales</td>\n",
              "      <td>79000</td>\n",
              "      <td>7366574</td>\n",
              "      <td>permanent</td>\n",
              "    </tr>\n",
              "    <tr>\n",
              "      <th>099</th>\n",
              "      <td>Layton</td>\n",
              "      <td>Platt</td>\n",
              "      <td>Engineering</td>\n",
              "      <td>30000</td>\n",
              "      <td>7366777</td>\n",
              "      <td>permanent</td>\n",
              "    </tr>\n",
              "    <tr>\n",
              "      <th>457</th>\n",
              "      <td>Melanie</td>\n",
              "      <td>Cavill</td>\n",
              "      <td>Sales</td>\n",
              "      <td>35000</td>\n",
              "      <td>7366579</td>\n",
              "      <td>temporary</td>\n",
              "    </tr>\n",
              "    <tr>\n",
              "      <th>144</th>\n",
              "      <td>David</td>\n",
              "      <td>Lange</td>\n",
              "      <td>Engineering</td>\n",
              "      <td>45000</td>\n",
              "      <td>7366441</td>\n",
              "      <td>permanent</td>\n",
              "    </tr>\n",
              "    <tr>\n",
              "      <th>222</th>\n",
              "      <td>Lewis</td>\n",
              "      <td>Bellow</td>\n",
              "      <td>Sales</td>\n",
              "      <td>30500</td>\n",
              "      <td>7366440</td>\n",
              "      <td>permanent</td>\n",
              "    </tr>\n",
              "  </tbody>\n",
              "</table>\n",
              "</div>"
            ],
            "text/plain": [
              "          name   surname     division  salary telephone type_contract\n",
              "128    Patrick    Miller        Sales   30000   7366578     permanent\n",
              "478     Amanda    Torres           IT   54000   7366444     temporary\n",
              "257  Antonella     Brown           IT   80000   7366120     temporary\n",
              "299     Eduard  Iglesias        Sales   79000   7366574     permanent\n",
              "099     Layton     Platt  Engineering   30000   7366777     permanent\n",
              "457    Melanie    Cavill        Sales   35000   7366579     temporary\n",
              "144      David     Lange  Engineering   45000   7366441     permanent\n",
              "222      Lewis    Bellow        Sales   30500   7366440     permanent"
            ]
          },
          "metadata": {
            "tags": []
          },
          "execution_count": 43
        }
      ]
    },
    {
      "cell_type": "code",
      "metadata": {
        "id": "ea3KKoZgwhX8",
        "colab_type": "code",
        "colab": {
          "base_uri": "https://localhost:8080/",
          "height": 204
        },
        "outputId": "3cdb7d7c-cfc5-49aa-ff61-8eeeb45c9385"
      },
      "source": [
        "df_employees[df_employees['salary'].between(30000, 80000, inclusive=False)]"
      ],
      "execution_count": 44,
      "outputs": [
        {
          "output_type": "execute_result",
          "data": {
            "text/html": [
              "<div>\n",
              "<style scoped>\n",
              "    .dataframe tbody tr th:only-of-type {\n",
              "        vertical-align: middle;\n",
              "    }\n",
              "\n",
              "    .dataframe tbody tr th {\n",
              "        vertical-align: top;\n",
              "    }\n",
              "\n",
              "    .dataframe thead th {\n",
              "        text-align: right;\n",
              "    }\n",
              "</style>\n",
              "<table border=\"1\" class=\"dataframe\">\n",
              "  <thead>\n",
              "    <tr style=\"text-align: right;\">\n",
              "      <th></th>\n",
              "      <th>name</th>\n",
              "      <th>surname</th>\n",
              "      <th>division</th>\n",
              "      <th>salary</th>\n",
              "      <th>telephone</th>\n",
              "      <th>type_contract</th>\n",
              "    </tr>\n",
              "  </thead>\n",
              "  <tbody>\n",
              "    <tr>\n",
              "      <th>478</th>\n",
              "      <td>Amanda</td>\n",
              "      <td>Torres</td>\n",
              "      <td>IT</td>\n",
              "      <td>54000</td>\n",
              "      <td>7366444</td>\n",
              "      <td>temporary</td>\n",
              "    </tr>\n",
              "    <tr>\n",
              "      <th>299</th>\n",
              "      <td>Eduard</td>\n",
              "      <td>Iglesias</td>\n",
              "      <td>Sales</td>\n",
              "      <td>79000</td>\n",
              "      <td>7366574</td>\n",
              "      <td>permanent</td>\n",
              "    </tr>\n",
              "    <tr>\n",
              "      <th>457</th>\n",
              "      <td>Melanie</td>\n",
              "      <td>Cavill</td>\n",
              "      <td>Sales</td>\n",
              "      <td>35000</td>\n",
              "      <td>7366579</td>\n",
              "      <td>temporary</td>\n",
              "    </tr>\n",
              "    <tr>\n",
              "      <th>144</th>\n",
              "      <td>David</td>\n",
              "      <td>Lange</td>\n",
              "      <td>Engineering</td>\n",
              "      <td>45000</td>\n",
              "      <td>7366441</td>\n",
              "      <td>permanent</td>\n",
              "    </tr>\n",
              "    <tr>\n",
              "      <th>222</th>\n",
              "      <td>Lewis</td>\n",
              "      <td>Bellow</td>\n",
              "      <td>Sales</td>\n",
              "      <td>30500</td>\n",
              "      <td>7366440</td>\n",
              "      <td>permanent</td>\n",
              "    </tr>\n",
              "  </tbody>\n",
              "</table>\n",
              "</div>"
            ],
            "text/plain": [
              "        name   surname     division  salary telephone type_contract\n",
              "478   Amanda    Torres           IT   54000   7366444     temporary\n",
              "299   Eduard  Iglesias        Sales   79000   7366574     permanent\n",
              "457  Melanie    Cavill        Sales   35000   7366579     temporary\n",
              "144    David     Lange  Engineering   45000   7366441     permanent\n",
              "222    Lewis    Bellow        Sales   30500   7366440     permanent"
            ]
          },
          "metadata": {
            "tags": []
          },
          "execution_count": 44
        }
      ]
    },
    {
      "cell_type": "code",
      "metadata": {
        "id": "noQlRLh_wmLP",
        "colab_type": "code",
        "colab": {
          "base_uri": "https://localhost:8080/",
          "height": 297
        },
        "outputId": "faf78244-a7d9-4290-e180-880e92772460"
      },
      "source": [
        "df_employees[(df_employees['salary']>=30000) & (df_employees['salary']<=80000)]"
      ],
      "execution_count": 45,
      "outputs": [
        {
          "output_type": "execute_result",
          "data": {
            "text/html": [
              "<div>\n",
              "<style scoped>\n",
              "    .dataframe tbody tr th:only-of-type {\n",
              "        vertical-align: middle;\n",
              "    }\n",
              "\n",
              "    .dataframe tbody tr th {\n",
              "        vertical-align: top;\n",
              "    }\n",
              "\n",
              "    .dataframe thead th {\n",
              "        text-align: right;\n",
              "    }\n",
              "</style>\n",
              "<table border=\"1\" class=\"dataframe\">\n",
              "  <thead>\n",
              "    <tr style=\"text-align: right;\">\n",
              "      <th></th>\n",
              "      <th>name</th>\n",
              "      <th>surname</th>\n",
              "      <th>division</th>\n",
              "      <th>salary</th>\n",
              "      <th>telephone</th>\n",
              "      <th>type_contract</th>\n",
              "    </tr>\n",
              "  </thead>\n",
              "  <tbody>\n",
              "    <tr>\n",
              "      <th>128</th>\n",
              "      <td>Patrick</td>\n",
              "      <td>Miller</td>\n",
              "      <td>Sales</td>\n",
              "      <td>30000</td>\n",
              "      <td>7366578</td>\n",
              "      <td>permanent</td>\n",
              "    </tr>\n",
              "    <tr>\n",
              "      <th>478</th>\n",
              "      <td>Amanda</td>\n",
              "      <td>Torres</td>\n",
              "      <td>IT</td>\n",
              "      <td>54000</td>\n",
              "      <td>7366444</td>\n",
              "      <td>temporary</td>\n",
              "    </tr>\n",
              "    <tr>\n",
              "      <th>257</th>\n",
              "      <td>Antonella</td>\n",
              "      <td>Brown</td>\n",
              "      <td>IT</td>\n",
              "      <td>80000</td>\n",
              "      <td>7366120</td>\n",
              "      <td>temporary</td>\n",
              "    </tr>\n",
              "    <tr>\n",
              "      <th>299</th>\n",
              "      <td>Eduard</td>\n",
              "      <td>Iglesias</td>\n",
              "      <td>Sales</td>\n",
              "      <td>79000</td>\n",
              "      <td>7366574</td>\n",
              "      <td>permanent</td>\n",
              "    </tr>\n",
              "    <tr>\n",
              "      <th>099</th>\n",
              "      <td>Layton</td>\n",
              "      <td>Platt</td>\n",
              "      <td>Engineering</td>\n",
              "      <td>30000</td>\n",
              "      <td>7366777</td>\n",
              "      <td>permanent</td>\n",
              "    </tr>\n",
              "    <tr>\n",
              "      <th>457</th>\n",
              "      <td>Melanie</td>\n",
              "      <td>Cavill</td>\n",
              "      <td>Sales</td>\n",
              "      <td>35000</td>\n",
              "      <td>7366579</td>\n",
              "      <td>temporary</td>\n",
              "    </tr>\n",
              "    <tr>\n",
              "      <th>144</th>\n",
              "      <td>David</td>\n",
              "      <td>Lange</td>\n",
              "      <td>Engineering</td>\n",
              "      <td>45000</td>\n",
              "      <td>7366441</td>\n",
              "      <td>permanent</td>\n",
              "    </tr>\n",
              "    <tr>\n",
              "      <th>222</th>\n",
              "      <td>Lewis</td>\n",
              "      <td>Bellow</td>\n",
              "      <td>Sales</td>\n",
              "      <td>30500</td>\n",
              "      <td>7366440</td>\n",
              "      <td>permanent</td>\n",
              "    </tr>\n",
              "  </tbody>\n",
              "</table>\n",
              "</div>"
            ],
            "text/plain": [
              "          name   surname     division  salary telephone type_contract\n",
              "128    Patrick    Miller        Sales   30000   7366578     permanent\n",
              "478     Amanda    Torres           IT   54000   7366444     temporary\n",
              "257  Antonella     Brown           IT   80000   7366120     temporary\n",
              "299     Eduard  Iglesias        Sales   79000   7366574     permanent\n",
              "099     Layton     Platt  Engineering   30000   7366777     permanent\n",
              "457    Melanie    Cavill        Sales   35000   7366579     temporary\n",
              "144      David     Lange  Engineering   45000   7366441     permanent\n",
              "222      Lewis    Bellow        Sales   30500   7366440     permanent"
            ]
          },
          "metadata": {
            "tags": []
          },
          "execution_count": 45
        }
      ]
    },
    {
      "cell_type": "code",
      "metadata": {
        "id": "1QuEYmG1wn0o",
        "colab_type": "code",
        "colab": {
          "base_uri": "https://localhost:8080/",
          "height": 142
        },
        "outputId": "94004441-6ce5-4a6e-97b3-84dda94ad981"
      },
      "source": [
        "df_employees[df_employees['telephone'].str.contains('57')]"
      ],
      "execution_count": 46,
      "outputs": [
        {
          "output_type": "execute_result",
          "data": {
            "text/html": [
              "<div>\n",
              "<style scoped>\n",
              "    .dataframe tbody tr th:only-of-type {\n",
              "        vertical-align: middle;\n",
              "    }\n",
              "\n",
              "    .dataframe tbody tr th {\n",
              "        vertical-align: top;\n",
              "    }\n",
              "\n",
              "    .dataframe thead th {\n",
              "        text-align: right;\n",
              "    }\n",
              "</style>\n",
              "<table border=\"1\" class=\"dataframe\">\n",
              "  <thead>\n",
              "    <tr style=\"text-align: right;\">\n",
              "      <th></th>\n",
              "      <th>name</th>\n",
              "      <th>surname</th>\n",
              "      <th>division</th>\n",
              "      <th>salary</th>\n",
              "      <th>telephone</th>\n",
              "      <th>type_contract</th>\n",
              "    </tr>\n",
              "  </thead>\n",
              "  <tbody>\n",
              "    <tr>\n",
              "      <th>128</th>\n",
              "      <td>Patrick</td>\n",
              "      <td>Miller</td>\n",
              "      <td>Sales</td>\n",
              "      <td>30000</td>\n",
              "      <td>7366578</td>\n",
              "      <td>permanent</td>\n",
              "    </tr>\n",
              "    <tr>\n",
              "      <th>299</th>\n",
              "      <td>Eduard</td>\n",
              "      <td>Iglesias</td>\n",
              "      <td>Sales</td>\n",
              "      <td>79000</td>\n",
              "      <td>7366574</td>\n",
              "      <td>permanent</td>\n",
              "    </tr>\n",
              "    <tr>\n",
              "      <th>457</th>\n",
              "      <td>Melanie</td>\n",
              "      <td>Cavill</td>\n",
              "      <td>Sales</td>\n",
              "      <td>35000</td>\n",
              "      <td>7366579</td>\n",
              "      <td>temporary</td>\n",
              "    </tr>\n",
              "  </tbody>\n",
              "</table>\n",
              "</div>"
            ],
            "text/plain": [
              "        name   surname division  salary telephone type_contract\n",
              "128  Patrick    Miller    Sales   30000   7366578     permanent\n",
              "299   Eduard  Iglesias    Sales   79000   7366574     permanent\n",
              "457  Melanie    Cavill    Sales   35000   7366579     temporary"
            ]
          },
          "metadata": {
            "tags": []
          },
          "execution_count": 46
        }
      ]
    },
    {
      "cell_type": "code",
      "metadata": {
        "id": "cEKrrHAGwpY-",
        "colab_type": "code",
        "colab": {
          "base_uri": "https://localhost:8080/",
          "height": 142
        },
        "outputId": "0bb165eb-1372-4365-f455-01a70a08be7f"
      },
      "source": [
        "df_employees[df_employees['name'].str.startswith('A')]"
      ],
      "execution_count": 47,
      "outputs": [
        {
          "output_type": "execute_result",
          "data": {
            "text/html": [
              "<div>\n",
              "<style scoped>\n",
              "    .dataframe tbody tr th:only-of-type {\n",
              "        vertical-align: middle;\n",
              "    }\n",
              "\n",
              "    .dataframe tbody tr th {\n",
              "        vertical-align: top;\n",
              "    }\n",
              "\n",
              "    .dataframe thead th {\n",
              "        text-align: right;\n",
              "    }\n",
              "</style>\n",
              "<table border=\"1\" class=\"dataframe\">\n",
              "  <thead>\n",
              "    <tr style=\"text-align: right;\">\n",
              "      <th></th>\n",
              "      <th>name</th>\n",
              "      <th>surname</th>\n",
              "      <th>division</th>\n",
              "      <th>salary</th>\n",
              "      <th>telephone</th>\n",
              "      <th>type_contract</th>\n",
              "    </tr>\n",
              "  </thead>\n",
              "  <tbody>\n",
              "    <tr>\n",
              "      <th>478</th>\n",
              "      <td>Amanda</td>\n",
              "      <td>Torres</td>\n",
              "      <td>IT</td>\n",
              "      <td>54000</td>\n",
              "      <td>7366444</td>\n",
              "      <td>temporary</td>\n",
              "    </tr>\n",
              "    <tr>\n",
              "      <th>257</th>\n",
              "      <td>Antonella</td>\n",
              "      <td>Brown</td>\n",
              "      <td>IT</td>\n",
              "      <td>80000</td>\n",
              "      <td>7366120</td>\n",
              "      <td>temporary</td>\n",
              "    </tr>\n",
              "    <tr>\n",
              "      <th>328</th>\n",
              "      <td>Alejandra</td>\n",
              "      <td>Campos</td>\n",
              "      <td>Engineering</td>\n",
              "      <td>18000</td>\n",
              "      <td>7366117</td>\n",
              "      <td>internship</td>\n",
              "    </tr>\n",
              "  </tbody>\n",
              "</table>\n",
              "</div>"
            ],
            "text/plain": [
              "          name surname     division  salary telephone type_contract\n",
              "478     Amanda  Torres           IT   54000   7366444     temporary\n",
              "257  Antonella   Brown           IT   80000   7366120     temporary\n",
              "328  Alejandra  Campos  Engineering   18000   7366117    internship"
            ]
          },
          "metadata": {
            "tags": []
          },
          "execution_count": 47
        }
      ]
    }
  ]
}