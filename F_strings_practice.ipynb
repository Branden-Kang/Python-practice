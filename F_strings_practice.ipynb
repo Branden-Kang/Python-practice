{
  "nbformat": 4,
  "nbformat_minor": 0,
  "metadata": {
    "colab": {
      "name": "F-strings practice.ipynb",
      "provenance": [],
      "authorship_tag": "ABX9TyNUBT8MUiHGZom6aeaa9Z9M"
    },
    "kernelspec": {
      "name": "python3",
      "display_name": "Python 3"
    }
  },
  "cells": [
    {
      "cell_type": "markdown",
      "metadata": {
        "id": "EAkxmLlq7KEg"
      },
      "source": [
        "[Reference](https://medium.com/@ikamenshchikov/f-strings-make-your-python-code-faster-and-more-readable-today-579ef9ca0313)"
      ]
    },
    {
      "cell_type": "code",
      "metadata": {
        "colab": {
          "base_uri": "https://localhost:8080/"
        },
        "id": "xWBuBtEf6yXV",
        "outputId": "1bd8c2d9-1e7f-47ac-f7da-32191f05ccd3"
      },
      "source": [
        "integer = 42\n",
        "string = 'FORTY_TWO'\n",
        "\n",
        "print('string number %s, or simply %d' % (string, integer))\n",
        "print('string number {}, or simply {}'.format(string, integer))\n",
        "print(f'string number {string}, or simply {integer}')"
      ],
      "execution_count": 1,
      "outputs": [
        {
          "output_type": "stream",
          "text": [
            "string number FORTY_TWO, or simply 42\n",
            "string number FORTY_TWO, or simply 42\n",
            "string number FORTY_TWO, or simply 42\n"
          ],
          "name": "stdout"
        }
      ]
    },
    {
      "cell_type": "code",
      "metadata": {
        "colab": {
          "base_uri": "https://localhost:8080/"
        },
        "id": "MOzti7Ew7iFb",
        "outputId": "115a8804-fa97-4484-e5a5-f2694515c0d4"
      },
      "source": [
        "import timeit\n",
        "\n",
        "setup = \"\"\"\n",
        "integer = 42\n",
        "string = 'FORTY_TWO'\n",
        "\"\"\".strip()\n",
        "\n",
        "percent_stmt = \"'Number %s aka %d' % (string, integer)\"\n",
        "call_stmt = \"'Number {} aka {}'.format(string, integer)\"\n",
        "fstr_stmt = \"\"\"f'Number {string} aka {integer}'\"\"\"\n",
        "\n",
        "def time(stmt):\n",
        "    return f\"{timeit.timeit(stmt, setup, number=int(1e7)):.3f}\"\n",
        "\n",
        "print(f\"Timing percent formating:    |  {time(percent_stmt)}\" )\n",
        "print(f\"Timing call formating:       |  {time(call_stmt)}\")\n",
        "print(f\"Timing f-string formating:   |  {time(fstr_stmt)}\")"
      ],
      "execution_count": 3,
      "outputs": [
        {
          "output_type": "stream",
          "text": [
            "Timing percent formating:    |  1.909\n",
            "Timing call formating:       |  2.477\n",
            "Timing f-string formating:   |  1.403\n"
          ],
          "name": "stdout"
        }
      ]
    }
  ]
}