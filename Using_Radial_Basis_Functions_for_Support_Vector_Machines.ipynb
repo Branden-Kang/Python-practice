{
  "nbformat": 4,
  "nbformat_minor": 0,
  "metadata": {
    "colab": {
      "provenance": [],
      "authorship_tag": "ABX9TyPput/6OXkeQCT3y67ds+bx"
    },
    "kernelspec": {
      "name": "python3",
      "display_name": "Python 3"
    },
    "language_info": {
      "name": "python"
    }
  },
  "cells": [
    {
      "cell_type": "markdown",
      "source": [
        "[Reference](https://medium.com/@francescofranco_39234/using-radial-basis-functions-for-svms-with-python-and-scikit-learn-c935aa06a56e)"
      ],
      "metadata": {
        "id": "HPTHLfqreLlq"
      }
    },
    {
      "cell_type": "code",
      "execution_count": 4,
      "metadata": {
        "colab": {
          "base_uri": "https://localhost:8080/"
        },
        "id": "L9RPwQK4eG7W",
        "outputId": "d602d401-298d-4cc1-eba3-238c075cf43e"
      },
      "outputs": [
        {
          "output_type": "stream",
          "name": "stdout",
          "text": [
            "Model accuracy: 1.0\n"
          ]
        }
      ],
      "source": [
        "import matplotlib.pyplot as plt\n",
        "import numpy as np\n",
        "from sklearn.datasets import make_blobs\n",
        "from sklearn.svm import SVC\n",
        "from sklearn.model_selection import train_test_split\n",
        "from sklearn.metrics import ConfusionMatrixDisplay, accuracy_score\n",
        "from mlxtend.plotting import plot_decision_regions\n",
        "\n",
        "# Configuration options\n",
        "num_samples_total = 2500\n",
        "cluster_centers = [(5,5), (3,3)]\n",
        "num_classes = len(cluster_centers)\n",
        "\n",
        "# Generate data\n",
        "X, y = make_blobs(n_samples = num_samples_total, centers = cluster_centers, n_features = num_classes, center_box=(0, 1), cluster_std = 0.30)\n",
        "\n",
        "# Split into training and testing data\n",
        "X_train, X_test, y_train, y_test = train_test_split(X, y, test_size=0.33, random_state=42)\n",
        "\n",
        "# Create the SVM\n",
        "svm = SVC(random_state=42, kernel='linear')\n",
        "\n",
        "# Fit the data to the SVM classifier\n",
        "svm = svm.fit(X_train, y_train)\n",
        "\n",
        "# Evaluate by means of a confusion matrix\n",
        "matrix = ConfusionMatrixDisplay.from_estimator(svm,\n",
        "    X_test,\n",
        "    y_test,\n",
        "    cmap=plt.cm.Blues,\n",
        "    normalize='true')\n",
        "plt.savefig('confusion_matrix.png',dpi=300,bbox_inches='tight')\n",
        "plt.close() # close figure to save memory\n",
        "\n",
        "# Generate predictions\n",
        "y_pred = svm.predict(X_test)\n",
        "\n",
        "# Evaluate by means of accuracy\n",
        "accuracy = accuracy_score(y_test, y_pred)\n",
        "print(f'Model accuracy: {accuracy}')\n",
        "\n",
        "# Plot decision boundary\n",
        "plot_decision_regions(X_test, y_test, clf=svm, legend=2)\n",
        "plt.savefig('decision_boundary.png',dpi=300,bbox_inches='tight')\n",
        "plt.close()"
      ]
    },
    {
      "cell_type": "code",
      "source": [
        "import matplotlib.pyplot as plt\n",
        "import numpy as np\n",
        "from sklearn.datasets import make_gaussian_quantiles\n",
        "from sklearn.svm import SVC\n",
        "from sklearn.model_selection import train_test_split\n",
        "from sklearn.metrics import ConfusionMatrixDisplay, accuracy_score\n",
        "from mlxtend.plotting import plot_decision_regions\n",
        "\n",
        "# Configuration options\n",
        "num_samples_total = 2500\n",
        "gaussian_mean = (2,3)\n",
        "num_classes_total = 2\n",
        "num_features_total = 2\n",
        "\n",
        "# Generate data\n",
        "X, y = make_gaussian_quantiles(n_features=num_features_total, n_classes=num_classes_total, n_samples=num_samples_total, mean=gaussian_mean)\n",
        "\n",
        "# Split into training and testing data\n",
        "X_train, X_test, y_train, y_test = train_test_split(X, y, test_size=0.33, random_state=42)\n",
        "\n",
        "# Create the SVM\n",
        "svm = SVC(random_state=42, kernel='linear')\n",
        "\n",
        "# Fit the data to the SVM classifier\n",
        "svm = svm.fit(X_train, y_train)\n",
        "\n",
        "# Evaluate by means of a confusion matrix\n",
        "matrix = ConfusionMatrixDisplay.from_estimator(svm,\n",
        "    X_test,\n",
        "    y_test,\n",
        "    cmap=plt.cm.Blues,\n",
        "    normalize='true')\n",
        "\n",
        "plt.savefig('confusion_matrix.png', dpi=300,bbox_inches='tight')\n",
        "plt.close()"
      ],
      "metadata": {
        "id": "mbZmRml7eQUl"
      },
      "execution_count": 6,
      "outputs": []
    }
  ]
}