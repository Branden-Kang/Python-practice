{
  "nbformat": 4,
  "nbformat_minor": 0,
  "metadata": {
    "colab": {
      "provenance": [],
      "authorship_tag": "ABX9TyOsLqBxTbAEYr2D3KxdYKQZ"
    },
    "kernelspec": {
      "name": "python3",
      "display_name": "Python 3"
    },
    "language_info": {
      "name": "python"
    }
  },
  "cells": [
    {
      "cell_type": "markdown",
      "source": [
        "[Reference](https://medium.com/illumination/mastering-oop-in-python-e56c270ceee)"
      ],
      "metadata": {
        "id": "jZzkTPZ5pJ1Y"
      }
    },
    {
      "cell_type": "markdown",
      "source": [
        "# Constructor and self"
      ],
      "metadata": {
        "id": "cqgixz7EpQHv"
      }
    },
    {
      "cell_type": "code",
      "execution_count": 1,
      "metadata": {
        "id": "Aioz0vqTpFxJ"
      },
      "outputs": [],
      "source": [
        "class Person:\n",
        "    def __init__(self, name, age):\n",
        "        \"\"\" Initializing attributes \"\"\"\n",
        "        self.name = name\n",
        "        self.age = age"
      ]
    },
    {
      "cell_type": "markdown",
      "source": [
        "# Creating Object\n"
      ],
      "metadata": {
        "id": "vO8kUPQopRkW"
      }
    },
    {
      "cell_type": "code",
      "source": [
        "# Creating two unique objects\n",
        "person1 = Person(\"John\", 25)\n",
        "person2 = Person(\"Alice\", 30)"
      ],
      "metadata": {
        "id": "uBWHRpPVpS6V"
      },
      "execution_count": 4,
      "outputs": []
    },
    {
      "cell_type": "markdown",
      "source": [
        "# Methods"
      ],
      "metadata": {
        "id": "Dnjfe_BlpUmE"
      }
    },
    {
      "cell_type": "code",
      "source": [
        "class Person:\n",
        "    def __init__(self, name, age):\n",
        "        \"\"\" Initializing attributes \"\"\"\n",
        "        self.name = name\n",
        "        self.age = age\n",
        "\n",
        "    def get_info(self):\n",
        "        \"\"\"Method\"\"\"\n",
        "        print(\"Name:\", self.name, \" Age:\", self.age)\n",
        "\n",
        "# Creating a unique object\n",
        "person1 = Person(\"John\", 25)\n",
        "\n",
        "# Calling a method with a notation\n",
        "person1.get_info()"
      ],
      "metadata": {
        "colab": {
          "base_uri": "https://localhost:8080/"
        },
        "id": "3qF9s4z3pWPk",
        "outputId": "2a12a9f4-260f-4665-cf6a-e2521c72a39e"
      },
      "execution_count": 7,
      "outputs": [
        {
          "output_type": "stream",
          "name": "stdout",
          "text": [
            "Name: John  Age: 25\n"
          ]
        }
      ]
    },
    {
      "cell_type": "markdown",
      "source": [
        "## Class Methods"
      ],
      "metadata": {
        "id": "UVfvjwnspuLr"
      }
    },
    {
      "cell_type": "code",
      "source": [
        "class Circle:\n",
        "# class-level variables\n",
        "    pi = 3.14\n",
        "\n",
        "    def __init__(self, radius):\n",
        "        self.radius = radius\n",
        "\n",
        "    def calculate_area(self):\n",
        "        return Circle.pi * self.radius * self.radius\n",
        "\n",
        "    @classmethod\n",
        "    def change_pi(cls, new_pi):\n",
        "        cls.pi = new_pi\n",
        "\n",
        "# Creating Circle objects\n",
        "circle1 = Circle(5)\n",
        "circle2 = Circle(10)\n",
        "\n",
        "# Calling an instance method\n",
        "area1 = circle1.calculate_area()\n",
        "print(area1)  # Output: 78.5\n",
        "\n",
        "# Calling a class method\n",
        "Circle.change_pi(3.14159)\n",
        "area2 = circle2.calculate_area()\n",
        "print(area2)  # Output: 314.159"
      ],
      "metadata": {
        "colab": {
          "base_uri": "https://localhost:8080/"
        },
        "id": "hjR2Y1KHpTs1",
        "outputId": "0e569bd3-c03e-4e59-e183-39680bb8fcda"
      },
      "execution_count": 10,
      "outputs": [
        {
          "output_type": "stream",
          "name": "stdout",
          "text": [
            "78.5\n",
            "314.159\n"
          ]
        }
      ]
    },
    {
      "cell_type": "markdown",
      "source": [
        "## Static Methods"
      ],
      "metadata": {
        "id": "gtyjLiCTp2zp"
      }
    },
    {
      "cell_type": "code",
      "source": [
        "class MathUtils:\n",
        "    @staticmethod\n",
        "    def square(x):\n",
        "        return x * x\n",
        "\n",
        "    @staticmethod\n",
        "    def cube(x):\n",
        "        return x * x * x\n",
        "\n",
        "# Calling static methods directly\n",
        "result1 = MathUtils.square(5)\n",
        "print(result1)  # Output: 25\n",
        "\n",
        "result2 = MathUtils.cube(3)\n",
        "print(result2)  # Output: 27"
      ],
      "metadata": {
        "colab": {
          "base_uri": "https://localhost:8080/"
        },
        "id": "WhClMtvMpwDl",
        "outputId": "be9e9577-76f5-4479-ce59-300dac4499b9"
      },
      "execution_count": 11,
      "outputs": [
        {
          "output_type": "stream",
          "name": "stdout",
          "text": [
            "25\n",
            "27\n"
          ]
        }
      ]
    },
    {
      "cell_type": "markdown",
      "source": [
        "# Polymorphism"
      ],
      "metadata": {
        "id": "LQmdE5-Kp6H0"
      }
    },
    {
      "cell_type": "code",
      "source": [
        "class Person:\n",
        "    def __init__(self, name):\n",
        "        self.name = name\n",
        "\n",
        "    def get_details(self):\n",
        "        return f\"Name: {self.name}\"\n",
        "\n",
        "class Employer(Person):\n",
        "    def __init__(self, name, company):\n",
        "        super().__init__(name)\n",
        "        self.company = company\n",
        "\n",
        "    def get_details(self):\n",
        "        return f\"Name: {self.name}, Company: {self.company}\"\n",
        "\n",
        "# Creating objects of different classes\n",
        "person = Person(\"John\")\n",
        "employer = Employer(\"Alice\", \"XYZ Corp\")\n",
        "\n",
        "# Calling the function with different objects\n",
        "person.get_details()\n",
        "employer.get_details()"
      ],
      "metadata": {
        "colab": {
          "base_uri": "https://localhost:8080/",
          "height": 35
        },
        "id": "pRzs-LzRp5NP",
        "outputId": "e8d99daa-1a8c-4353-c378-cb0acacdda3c"
      },
      "execution_count": 13,
      "outputs": [
        {
          "output_type": "execute_result",
          "data": {
            "text/plain": [
              "'Name: Alice, Company: XYZ Corp'"
            ],
            "application/vnd.google.colaboratory.intrinsic+json": {
              "type": "string"
            }
          },
          "metadata": {},
          "execution_count": 13
        }
      ]
    },
    {
      "cell_type": "markdown",
      "source": [
        "# Encapsulation"
      ],
      "metadata": {
        "id": "mzNmsVfoqEyL"
      }
    },
    {
      "cell_type": "code",
      "source": [
        "class BankAccount:\n",
        "    def __init__(self, account_number, balance):\n",
        "        self.account_number = account_number\n",
        "        self.__balance = balance  # Private attribute\n",
        "\n",
        "    def get_balance(self):\n",
        "        return self.__balance\n",
        "\n",
        "    def deposit(self, amount):\n",
        "        self.__balance += amount\n",
        "\n",
        "    def withdraw(self, amount):\n",
        "        if self.__balance >= amount:\n",
        "            self.__balance -= amount\n",
        "        else:\n",
        "            print(\"Insufficient balance.\")\n",
        "\n",
        "# Creating a BankAccount object\n",
        "account = BankAccount(\"123456789\", 1000)\n",
        "\n",
        "# Accessing attributes and calling methods\n",
        "print(account.get_balance())\n",
        "account.deposit(500)\n",
        "print(account.get_balance())\n",
        "account.withdraw(2000)"
      ],
      "metadata": {
        "colab": {
          "base_uri": "https://localhost:8080/"
        },
        "id": "zGnbz5_lqATM",
        "outputId": "84b238fa-3b32-4128-965e-768b17431645"
      },
      "execution_count": 14,
      "outputs": [
        {
          "output_type": "stream",
          "name": "stdout",
          "text": [
            "1000\n",
            "1500\n",
            "Insufficient balance.\n"
          ]
        }
      ]
    }
  ]
}