{
  "nbformat": 4,
  "nbformat_minor": 0,
  "metadata": {
    "colab": {
      "name": "Decorator functions in Python.ipynb",
      "provenance": [],
      "authorship_tag": "ABX9TyO1CGfpQ7e+CgRkNvDoeOo2"
    },
    "kernelspec": {
      "name": "python3",
      "display_name": "Python 3"
    },
    "language_info": {
      "name": "python"
    }
  },
  "cells": [
    {
      "cell_type": "markdown",
      "metadata": {
        "id": "nn1YOmkD2FVT"
      },
      "source": [
        "[Reference](https://medium.com/nerd-for-tech/decorator-functions-in-python-6407de5be383)"
      ]
    },
    {
      "cell_type": "code",
      "metadata": {
        "colab": {
          "base_uri": "https://localhost:8080/"
        },
        "id": "C645nBK801V2",
        "outputId": "75a84728-63eb-4bb1-9a48-f9de7a579b61"
      },
      "source": [
        "import requests\n",
        "\n",
        "response = requests.get('https://api.github.com')\n",
        "\n",
        "if response.status_code == 200:\n",
        "    print('Success!')\n",
        "elif response.status_code == 404:\n",
        "    print('Not Found.')"
      ],
      "execution_count": 1,
      "outputs": [
        {
          "output_type": "stream",
          "text": [
            "Success!\n"
          ],
          "name": "stdout"
        }
      ]
    },
    {
      "cell_type": "code",
      "metadata": {
        "id": "JUsdhV1A2BFO"
      },
      "source": [
        "from flask import Flask\n",
        "\n",
        "app = Flask(__name__)\n",
        "\n",
        "@app.route(\"/\")\n",
        "def hello_world():\n",
        "    return \"<p>Hello, World!</p>\""
      ],
      "execution_count": 3,
      "outputs": []
    },
    {
      "cell_type": "code",
      "metadata": {
        "id": "QRl5p3vQ2CiE"
      },
      "source": [
        "def add(n1, n2):\n",
        "  return n1+n2\n",
        "\n",
        "def subtract(n1, n2):\n",
        "  return n1-n2\n",
        "\n",
        "def multiply(n1, n2):\n",
        "  return n1*n2\n",
        "\n",
        "def divide(n1, n2):\n",
        "  return n1/n2\n",
        "\n",
        "def calculate(calc_fucntion, n1, n2):\n",
        "  return calc_function(n1, n2)"
      ],
      "execution_count": 5,
      "outputs": []
    },
    {
      "cell_type": "code",
      "metadata": {
        "colab": {
          "base_uri": "https://localhost:8080/"
        },
        "id": "NcreVmAV2Ocj",
        "outputId": "eafcc77e-ea88-4aec-e098-04b7470f3fca"
      },
      "source": [
        "def outer_fuction():\n",
        "  print(\"I'm outer\")\n",
        "  def nested_function():\n",
        "      print(\"I'm inner\")\n",
        "          \n",
        "  nested_fuction()\n",
        "outer_fuction  "
      ],
      "execution_count": 8,
      "outputs": [
        {
          "output_type": "execute_result",
          "data": {
            "text/plain": [
              "<function __main__.outer_fuction>"
            ]
          },
          "metadata": {},
          "execution_count": 8
        }
      ]
    },
    {
      "cell_type": "code",
      "metadata": {
        "id": "RknfE0R72SYt"
      },
      "source": [
        "import time\n",
        "\n",
        "def decorator_function(function):\n",
        "  def wrapper_function():\n",
        "    function()\n",
        "  return wrapper_function\n",
        "\n",
        "def say_hello():\n",
        "# if we want to delay it can add sleep, \n",
        "# but if there are several functions and the method to be added is complex we can take help of decorators\n",
        "  time.sleep(2)\n",
        "  print(\"hello\")\n",
        "  \n",
        "# writing the same code using decorator.  \n",
        "def delay_decorator(function):\n",
        "  def wrapper_function():\n",
        "    time.sleep(2)\n",
        "    function()\n",
        "  return wrapper_function\n",
        "\n",
        "@delay_decorator\n",
        "def say_hello():\n",
        "  print(\"Hello\")\n",
        "  \n",
        "@delay_decorator #this will always be called before this method\n",
        "def say_bye():\n",
        "  print(\"bye\")"
      ],
      "execution_count": 9,
      "outputs": []
    },
    {
      "cell_type": "code",
      "metadata": {
        "colab": {
          "base_uri": "https://localhost:8080/"
        },
        "id": "N8S01yBv2Xt8",
        "outputId": "12385204-a186-45cd-f7ef-86ef92c78b7b"
      },
      "source": [
        "import time\n",
        "current_time = time.time()\n",
        "print(current_time)\n",
        "\n",
        "def speed_calc_decorator(function):\n",
        "    def wrapper_function():\n",
        "      start_time = time.time()\n",
        "      function()\n",
        "      end_time = time.time()\n",
        "      print(f'{function.__name__} took {end_time-start_time} secs.')\n",
        "    return wrapper_function\n",
        "\n",
        "@speed_calc_decorator\n",
        "def fast_function():\n",
        "    for i in range(10000000):\n",
        "        i * i\n",
        "\n",
        "@speed_calc_decorator\n",
        "def slow_function():\n",
        "    for i in range(100000000):\n",
        "        i * i\n",
        "\n",
        "fast_function()\n",
        "slow_function()"
      ],
      "execution_count": 10,
      "outputs": [
        {
          "output_type": "stream",
          "text": [
            "1629719476.6918364\n",
            "fast_function took 0.752347469329834 secs.\n",
            "slow_function took 7.5150840282440186 secs.\n"
          ],
          "name": "stdout"
        }
      ]
    }
  ]
}