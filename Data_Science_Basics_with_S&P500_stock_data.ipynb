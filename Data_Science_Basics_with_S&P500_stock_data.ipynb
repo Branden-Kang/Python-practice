{
  "nbformat": 4,
  "nbformat_minor": 0,
  "metadata": {
    "colab": {
      "name": "Data Science Basics with S&P500 stock data.ipynb",
      "provenance": [],
      "collapsed_sections": [],
      "authorship_tag": "ABX9TyO4DW8ewONoneIFzOq/Rs2J"
    },
    "kernelspec": {
      "name": "python3",
      "display_name": "Python 3"
    },
    "language_info": {
      "name": "python"
    }
  },
  "cells": [
    {
      "cell_type": "markdown",
      "source": [
        "[Reference](https://medium.com/@koki_noda/learn-data-science-basics-with-s-p500-stock-data-7c9df01f8d61)"
      ],
      "metadata": {
        "id": "adCyL51YlrjC"
      }
    },
    {
      "cell_type": "markdown",
      "source": [
        "# Import Libraries and Set Some Variables\n"
      ],
      "metadata": {
        "id": "uI6KwrTXmlty"
      }
    },
    {
      "cell_type": "code",
      "execution_count": 1,
      "metadata": {
        "id": "2KiSOb2AliCH"
      },
      "outputs": [],
      "source": [
        "import os\n",
        "import re\n",
        "import pandas as pd\n",
        "import matplotlib.pyplot as plt\n",
        "data_dir = \"./data/learn_datascience_basics_with_sp500\"\n",
        "os.makedirs(data_dir, exist_ok=True)"
      ]
    },
    {
      "cell_type": "markdown",
      "source": [
        "# Download Dataset\n"
      ],
      "metadata": {
        "id": "5VyI-uCsmo7J"
      }
    },
    {
      "cell_type": "code",
      "source": [
        "tables = pd.read_html('https://en.wikipedia.org/wiki/List_of_S%26P_500_companies')\n",
        "sp500_df = tables[0]\n",
        "second_table = tables[1]\n",
        "# sp500_df.to_csv(f\"{data_dir}/SP500_20220506.csv\", index=False)\n",
        "# sp500_df = pd.read_csv(f\"{data_dir}/SP500_20220506.csv\")"
      ],
      "metadata": {
        "id": "NKcWInM3mn51"
      },
      "execution_count": 2,
      "outputs": []
    },
    {
      "cell_type": "markdown",
      "source": [
        "# Exploratory Data Analysis\n"
      ],
      "metadata": {
        "id": "GHMqq-b6owiq"
      }
    },
    {
      "cell_type": "code",
      "source": [
        "print(sp500_df.shape)"
      ],
      "metadata": {
        "colab": {
          "base_uri": "https://localhost:8080/"
        },
        "id": "dQYYjYTwov2b",
        "outputId": "b3310165-50db-46db-bb23-2503c31a0bf1"
      },
      "execution_count": 3,
      "outputs": [
        {
          "output_type": "stream",
          "name": "stdout",
          "text": [
            "(504, 9)\n"
          ]
        }
      ]
    },
    {
      "cell_type": "code",
      "source": [
        "sp500_df.head()"
      ],
      "metadata": {
        "colab": {
          "base_uri": "https://localhost:8080/",
          "height": 204
        },
        "id": "_mNfjGqIox4s",
        "outputId": "b9341317-dfae-4dfb-d880-55f36c6748df"
      },
      "execution_count": 4,
      "outputs": [
        {
          "output_type": "execute_result",
          "data": {
            "text/plain": [
              "  Symbol     Security SEC filings  GICS Sector         GICS Sub-Industry  \\\n",
              "0    MMM           3M     reports  Industrials  Industrial Conglomerates   \n",
              "1    AOS  A. O. Smith     reports  Industrials         Building Products   \n",
              "2    ABT       Abbott     reports  Health Care     Health Care Equipment   \n",
              "3   ABBV       AbbVie     reports  Health Care           Pharmaceuticals   \n",
              "4   ABMD      Abiomed     reports  Health Care     Health Care Equipment   \n",
              "\n",
              "     Headquarters Location Date first added      CIK      Founded  \n",
              "0    Saint Paul, Minnesota       1976-08-09    66740         1902  \n",
              "1     Milwaukee, Wisconsin       2017-07-26    91142         1916  \n",
              "2  North Chicago, Illinois       1964-03-31     1800         1888  \n",
              "3  North Chicago, Illinois       2012-12-31  1551152  2013 (1888)  \n",
              "4   Danvers, Massachusetts       2018-05-31   815094         1981  "
            ],
            "text/html": [
              "\n",
              "  <div id=\"df-5027d3c7-5f09-4f35-8807-075276b060b7\">\n",
              "    <div class=\"colab-df-container\">\n",
              "      <div>\n",
              "<style scoped>\n",
              "    .dataframe tbody tr th:only-of-type {\n",
              "        vertical-align: middle;\n",
              "    }\n",
              "\n",
              "    .dataframe tbody tr th {\n",
              "        vertical-align: top;\n",
              "    }\n",
              "\n",
              "    .dataframe thead th {\n",
              "        text-align: right;\n",
              "    }\n",
              "</style>\n",
              "<table border=\"1\" class=\"dataframe\">\n",
              "  <thead>\n",
              "    <tr style=\"text-align: right;\">\n",
              "      <th></th>\n",
              "      <th>Symbol</th>\n",
              "      <th>Security</th>\n",
              "      <th>SEC filings</th>\n",
              "      <th>GICS Sector</th>\n",
              "      <th>GICS Sub-Industry</th>\n",
              "      <th>Headquarters Location</th>\n",
              "      <th>Date first added</th>\n",
              "      <th>CIK</th>\n",
              "      <th>Founded</th>\n",
              "    </tr>\n",
              "  </thead>\n",
              "  <tbody>\n",
              "    <tr>\n",
              "      <th>0</th>\n",
              "      <td>MMM</td>\n",
              "      <td>3M</td>\n",
              "      <td>reports</td>\n",
              "      <td>Industrials</td>\n",
              "      <td>Industrial Conglomerates</td>\n",
              "      <td>Saint Paul, Minnesota</td>\n",
              "      <td>1976-08-09</td>\n",
              "      <td>66740</td>\n",
              "      <td>1902</td>\n",
              "    </tr>\n",
              "    <tr>\n",
              "      <th>1</th>\n",
              "      <td>AOS</td>\n",
              "      <td>A. O. Smith</td>\n",
              "      <td>reports</td>\n",
              "      <td>Industrials</td>\n",
              "      <td>Building Products</td>\n",
              "      <td>Milwaukee, Wisconsin</td>\n",
              "      <td>2017-07-26</td>\n",
              "      <td>91142</td>\n",
              "      <td>1916</td>\n",
              "    </tr>\n",
              "    <tr>\n",
              "      <th>2</th>\n",
              "      <td>ABT</td>\n",
              "      <td>Abbott</td>\n",
              "      <td>reports</td>\n",
              "      <td>Health Care</td>\n",
              "      <td>Health Care Equipment</td>\n",
              "      <td>North Chicago, Illinois</td>\n",
              "      <td>1964-03-31</td>\n",
              "      <td>1800</td>\n",
              "      <td>1888</td>\n",
              "    </tr>\n",
              "    <tr>\n",
              "      <th>3</th>\n",
              "      <td>ABBV</td>\n",
              "      <td>AbbVie</td>\n",
              "      <td>reports</td>\n",
              "      <td>Health Care</td>\n",
              "      <td>Pharmaceuticals</td>\n",
              "      <td>North Chicago, Illinois</td>\n",
              "      <td>2012-12-31</td>\n",
              "      <td>1551152</td>\n",
              "      <td>2013 (1888)</td>\n",
              "    </tr>\n",
              "    <tr>\n",
              "      <th>4</th>\n",
              "      <td>ABMD</td>\n",
              "      <td>Abiomed</td>\n",
              "      <td>reports</td>\n",
              "      <td>Health Care</td>\n",
              "      <td>Health Care Equipment</td>\n",
              "      <td>Danvers, Massachusetts</td>\n",
              "      <td>2018-05-31</td>\n",
              "      <td>815094</td>\n",
              "      <td>1981</td>\n",
              "    </tr>\n",
              "  </tbody>\n",
              "</table>\n",
              "</div>\n",
              "      <button class=\"colab-df-convert\" onclick=\"convertToInteractive('df-5027d3c7-5f09-4f35-8807-075276b060b7')\"\n",
              "              title=\"Convert this dataframe to an interactive table.\"\n",
              "              style=\"display:none;\">\n",
              "        \n",
              "  <svg xmlns=\"http://www.w3.org/2000/svg\" height=\"24px\"viewBox=\"0 0 24 24\"\n",
              "       width=\"24px\">\n",
              "    <path d=\"M0 0h24v24H0V0z\" fill=\"none\"/>\n",
              "    <path d=\"M18.56 5.44l.94 2.06.94-2.06 2.06-.94-2.06-.94-.94-2.06-.94 2.06-2.06.94zm-11 1L8.5 8.5l.94-2.06 2.06-.94-2.06-.94L8.5 2.5l-.94 2.06-2.06.94zm10 10l.94 2.06.94-2.06 2.06-.94-2.06-.94-.94-2.06-.94 2.06-2.06.94z\"/><path d=\"M17.41 7.96l-1.37-1.37c-.4-.4-.92-.59-1.43-.59-.52 0-1.04.2-1.43.59L10.3 9.45l-7.72 7.72c-.78.78-.78 2.05 0 2.83L4 21.41c.39.39.9.59 1.41.59.51 0 1.02-.2 1.41-.59l7.78-7.78 2.81-2.81c.8-.78.8-2.07 0-2.86zM5.41 20L4 18.59l7.72-7.72 1.47 1.35L5.41 20z\"/>\n",
              "  </svg>\n",
              "      </button>\n",
              "      \n",
              "  <style>\n",
              "    .colab-df-container {\n",
              "      display:flex;\n",
              "      flex-wrap:wrap;\n",
              "      gap: 12px;\n",
              "    }\n",
              "\n",
              "    .colab-df-convert {\n",
              "      background-color: #E8F0FE;\n",
              "      border: none;\n",
              "      border-radius: 50%;\n",
              "      cursor: pointer;\n",
              "      display: none;\n",
              "      fill: #1967D2;\n",
              "      height: 32px;\n",
              "      padding: 0 0 0 0;\n",
              "      width: 32px;\n",
              "    }\n",
              "\n",
              "    .colab-df-convert:hover {\n",
              "      background-color: #E2EBFA;\n",
              "      box-shadow: 0px 1px 2px rgba(60, 64, 67, 0.3), 0px 1px 3px 1px rgba(60, 64, 67, 0.15);\n",
              "      fill: #174EA6;\n",
              "    }\n",
              "\n",
              "    [theme=dark] .colab-df-convert {\n",
              "      background-color: #3B4455;\n",
              "      fill: #D2E3FC;\n",
              "    }\n",
              "\n",
              "    [theme=dark] .colab-df-convert:hover {\n",
              "      background-color: #434B5C;\n",
              "      box-shadow: 0px 1px 3px 1px rgba(0, 0, 0, 0.15);\n",
              "      filter: drop-shadow(0px 1px 2px rgba(0, 0, 0, 0.3));\n",
              "      fill: #FFFFFF;\n",
              "    }\n",
              "  </style>\n",
              "\n",
              "      <script>\n",
              "        const buttonEl =\n",
              "          document.querySelector('#df-5027d3c7-5f09-4f35-8807-075276b060b7 button.colab-df-convert');\n",
              "        buttonEl.style.display =\n",
              "          google.colab.kernel.accessAllowed ? 'block' : 'none';\n",
              "\n",
              "        async function convertToInteractive(key) {\n",
              "          const element = document.querySelector('#df-5027d3c7-5f09-4f35-8807-075276b060b7');\n",
              "          const dataTable =\n",
              "            await google.colab.kernel.invokeFunction('convertToInteractive',\n",
              "                                                     [key], {});\n",
              "          if (!dataTable) return;\n",
              "\n",
              "          const docLinkHtml = 'Like what you see? Visit the ' +\n",
              "            '<a target=\"_blank\" href=https://colab.research.google.com/notebooks/data_table.ipynb>data table notebook</a>'\n",
              "            + ' to learn more about interactive tables.';\n",
              "          element.innerHTML = '';\n",
              "          dataTable['output_type'] = 'display_data';\n",
              "          await google.colab.output.renderOutput(dataTable, element);\n",
              "          const docLink = document.createElement('div');\n",
              "          docLink.innerHTML = docLinkHtml;\n",
              "          element.appendChild(docLink);\n",
              "        }\n",
              "      </script>\n",
              "    </div>\n",
              "  </div>\n",
              "  "
            ]
          },
          "metadata": {},
          "execution_count": 4
        }
      ]
    },
    {
      "cell_type": "code",
      "source": [
        "sp500_df.tail()"
      ],
      "metadata": {
        "colab": {
          "base_uri": "https://localhost:8080/",
          "height": 204
        },
        "id": "3lFKPdZio0NT",
        "outputId": "f712d7da-1849-4a9e-fe4a-5393fc2db54d"
      },
      "execution_count": 5,
      "outputs": [
        {
          "output_type": "execute_result",
          "data": {
            "text/plain": [
              "    Symbol       Security SEC filings             GICS Sector  \\\n",
              "499    YUM    Yum! Brands     reports  Consumer Discretionary   \n",
              "500   ZBRA          Zebra     reports  Information Technology   \n",
              "501    ZBH  Zimmer Biomet     reports             Health Care   \n",
              "502   ZION  Zions Bancorp     reports              Financials   \n",
              "503    ZTS         Zoetis     reports             Health Care   \n",
              "\n",
              "                      GICS Sub-Industry   Headquarters Location  \\\n",
              "499                         Restaurants    Louisville, Kentucky   \n",
              "500  Electronic Equipment & Instruments  Lincolnshire, Illinois   \n",
              "501               Health Care Equipment         Warsaw, Indiana   \n",
              "502                      Regional Banks    Salt Lake City, Utah   \n",
              "503                     Pharmaceuticals  Parsippany, New Jersey   \n",
              "\n",
              "    Date first added      CIK Founded  \n",
              "499       1997-10-06  1041061    1997  \n",
              "500       2019-12-23   877212    1969  \n",
              "501       2001-08-07  1136869    1927  \n",
              "502       2001-06-22   109380    1873  \n",
              "503       2013-06-21  1555280    1952  "
            ],
            "text/html": [
              "\n",
              "  <div id=\"df-60a078c0-dc34-4171-9560-1d542fbdeefe\">\n",
              "    <div class=\"colab-df-container\">\n",
              "      <div>\n",
              "<style scoped>\n",
              "    .dataframe tbody tr th:only-of-type {\n",
              "        vertical-align: middle;\n",
              "    }\n",
              "\n",
              "    .dataframe tbody tr th {\n",
              "        vertical-align: top;\n",
              "    }\n",
              "\n",
              "    .dataframe thead th {\n",
              "        text-align: right;\n",
              "    }\n",
              "</style>\n",
              "<table border=\"1\" class=\"dataframe\">\n",
              "  <thead>\n",
              "    <tr style=\"text-align: right;\">\n",
              "      <th></th>\n",
              "      <th>Symbol</th>\n",
              "      <th>Security</th>\n",
              "      <th>SEC filings</th>\n",
              "      <th>GICS Sector</th>\n",
              "      <th>GICS Sub-Industry</th>\n",
              "      <th>Headquarters Location</th>\n",
              "      <th>Date first added</th>\n",
              "      <th>CIK</th>\n",
              "      <th>Founded</th>\n",
              "    </tr>\n",
              "  </thead>\n",
              "  <tbody>\n",
              "    <tr>\n",
              "      <th>499</th>\n",
              "      <td>YUM</td>\n",
              "      <td>Yum! Brands</td>\n",
              "      <td>reports</td>\n",
              "      <td>Consumer Discretionary</td>\n",
              "      <td>Restaurants</td>\n",
              "      <td>Louisville, Kentucky</td>\n",
              "      <td>1997-10-06</td>\n",
              "      <td>1041061</td>\n",
              "      <td>1997</td>\n",
              "    </tr>\n",
              "    <tr>\n",
              "      <th>500</th>\n",
              "      <td>ZBRA</td>\n",
              "      <td>Zebra</td>\n",
              "      <td>reports</td>\n",
              "      <td>Information Technology</td>\n",
              "      <td>Electronic Equipment &amp; Instruments</td>\n",
              "      <td>Lincolnshire, Illinois</td>\n",
              "      <td>2019-12-23</td>\n",
              "      <td>877212</td>\n",
              "      <td>1969</td>\n",
              "    </tr>\n",
              "    <tr>\n",
              "      <th>501</th>\n",
              "      <td>ZBH</td>\n",
              "      <td>Zimmer Biomet</td>\n",
              "      <td>reports</td>\n",
              "      <td>Health Care</td>\n",
              "      <td>Health Care Equipment</td>\n",
              "      <td>Warsaw, Indiana</td>\n",
              "      <td>2001-08-07</td>\n",
              "      <td>1136869</td>\n",
              "      <td>1927</td>\n",
              "    </tr>\n",
              "    <tr>\n",
              "      <th>502</th>\n",
              "      <td>ZION</td>\n",
              "      <td>Zions Bancorp</td>\n",
              "      <td>reports</td>\n",
              "      <td>Financials</td>\n",
              "      <td>Regional Banks</td>\n",
              "      <td>Salt Lake City, Utah</td>\n",
              "      <td>2001-06-22</td>\n",
              "      <td>109380</td>\n",
              "      <td>1873</td>\n",
              "    </tr>\n",
              "    <tr>\n",
              "      <th>503</th>\n",
              "      <td>ZTS</td>\n",
              "      <td>Zoetis</td>\n",
              "      <td>reports</td>\n",
              "      <td>Health Care</td>\n",
              "      <td>Pharmaceuticals</td>\n",
              "      <td>Parsippany, New Jersey</td>\n",
              "      <td>2013-06-21</td>\n",
              "      <td>1555280</td>\n",
              "      <td>1952</td>\n",
              "    </tr>\n",
              "  </tbody>\n",
              "</table>\n",
              "</div>\n",
              "      <button class=\"colab-df-convert\" onclick=\"convertToInteractive('df-60a078c0-dc34-4171-9560-1d542fbdeefe')\"\n",
              "              title=\"Convert this dataframe to an interactive table.\"\n",
              "              style=\"display:none;\">\n",
              "        \n",
              "  <svg xmlns=\"http://www.w3.org/2000/svg\" height=\"24px\"viewBox=\"0 0 24 24\"\n",
              "       width=\"24px\">\n",
              "    <path d=\"M0 0h24v24H0V0z\" fill=\"none\"/>\n",
              "    <path d=\"M18.56 5.44l.94 2.06.94-2.06 2.06-.94-2.06-.94-.94-2.06-.94 2.06-2.06.94zm-11 1L8.5 8.5l.94-2.06 2.06-.94-2.06-.94L8.5 2.5l-.94 2.06-2.06.94zm10 10l.94 2.06.94-2.06 2.06-.94-2.06-.94-.94-2.06-.94 2.06-2.06.94z\"/><path d=\"M17.41 7.96l-1.37-1.37c-.4-.4-.92-.59-1.43-.59-.52 0-1.04.2-1.43.59L10.3 9.45l-7.72 7.72c-.78.78-.78 2.05 0 2.83L4 21.41c.39.39.9.59 1.41.59.51 0 1.02-.2 1.41-.59l7.78-7.78 2.81-2.81c.8-.78.8-2.07 0-2.86zM5.41 20L4 18.59l7.72-7.72 1.47 1.35L5.41 20z\"/>\n",
              "  </svg>\n",
              "      </button>\n",
              "      \n",
              "  <style>\n",
              "    .colab-df-container {\n",
              "      display:flex;\n",
              "      flex-wrap:wrap;\n",
              "      gap: 12px;\n",
              "    }\n",
              "\n",
              "    .colab-df-convert {\n",
              "      background-color: #E8F0FE;\n",
              "      border: none;\n",
              "      border-radius: 50%;\n",
              "      cursor: pointer;\n",
              "      display: none;\n",
              "      fill: #1967D2;\n",
              "      height: 32px;\n",
              "      padding: 0 0 0 0;\n",
              "      width: 32px;\n",
              "    }\n",
              "\n",
              "    .colab-df-convert:hover {\n",
              "      background-color: #E2EBFA;\n",
              "      box-shadow: 0px 1px 2px rgba(60, 64, 67, 0.3), 0px 1px 3px 1px rgba(60, 64, 67, 0.15);\n",
              "      fill: #174EA6;\n",
              "    }\n",
              "\n",
              "    [theme=dark] .colab-df-convert {\n",
              "      background-color: #3B4455;\n",
              "      fill: #D2E3FC;\n",
              "    }\n",
              "\n",
              "    [theme=dark] .colab-df-convert:hover {\n",
              "      background-color: #434B5C;\n",
              "      box-shadow: 0px 1px 3px 1px rgba(0, 0, 0, 0.15);\n",
              "      filter: drop-shadow(0px 1px 2px rgba(0, 0, 0, 0.3));\n",
              "      fill: #FFFFFF;\n",
              "    }\n",
              "  </style>\n",
              "\n",
              "      <script>\n",
              "        const buttonEl =\n",
              "          document.querySelector('#df-60a078c0-dc34-4171-9560-1d542fbdeefe button.colab-df-convert');\n",
              "        buttonEl.style.display =\n",
              "          google.colab.kernel.accessAllowed ? 'block' : 'none';\n",
              "\n",
              "        async function convertToInteractive(key) {\n",
              "          const element = document.querySelector('#df-60a078c0-dc34-4171-9560-1d542fbdeefe');\n",
              "          const dataTable =\n",
              "            await google.colab.kernel.invokeFunction('convertToInteractive',\n",
              "                                                     [key], {});\n",
              "          if (!dataTable) return;\n",
              "\n",
              "          const docLinkHtml = 'Like what you see? Visit the ' +\n",
              "            '<a target=\"_blank\" href=https://colab.research.google.com/notebooks/data_table.ipynb>data table notebook</a>'\n",
              "            + ' to learn more about interactive tables.';\n",
              "          element.innerHTML = '';\n",
              "          dataTable['output_type'] = 'display_data';\n",
              "          await google.colab.output.renderOutput(dataTable, element);\n",
              "          const docLink = document.createElement('div');\n",
              "          docLink.innerHTML = docLinkHtml;\n",
              "          element.appendChild(docLink);\n",
              "        }\n",
              "      </script>\n",
              "    </div>\n",
              "  </div>\n",
              "  "
            ]
          },
          "metadata": {},
          "execution_count": 5
        }
      ]
    },
    {
      "cell_type": "code",
      "source": [
        "sp500_df.sample()"
      ],
      "metadata": {
        "colab": {
          "base_uri": "https://localhost:8080/",
          "height": 80
        },
        "id": "tfqYbvbCo1gC",
        "outputId": "2101f63b-f327-4318-f5a0-3c4c636475ae"
      },
      "execution_count": 6,
      "outputs": [
        {
          "output_type": "execute_result",
          "data": {
            "text/plain": [
              "    Symbol       Security SEC filings             GICS Sector  \\\n",
              "448    TJX  TJX Companies     reports  Consumer Discretionary   \n",
              "\n",
              "    GICS Sub-Industry      Headquarters Location Date first added     CIK  \\\n",
              "448    Apparel Retail  Framingham, Massachusetts       1985-09-30  109198   \n",
              "\n",
              "    Founded  \n",
              "448    1987  "
            ],
            "text/html": [
              "\n",
              "  <div id=\"df-7b4da7c8-8567-4e47-bc57-be64e2aeecc7\">\n",
              "    <div class=\"colab-df-container\">\n",
              "      <div>\n",
              "<style scoped>\n",
              "    .dataframe tbody tr th:only-of-type {\n",
              "        vertical-align: middle;\n",
              "    }\n",
              "\n",
              "    .dataframe tbody tr th {\n",
              "        vertical-align: top;\n",
              "    }\n",
              "\n",
              "    .dataframe thead th {\n",
              "        text-align: right;\n",
              "    }\n",
              "</style>\n",
              "<table border=\"1\" class=\"dataframe\">\n",
              "  <thead>\n",
              "    <tr style=\"text-align: right;\">\n",
              "      <th></th>\n",
              "      <th>Symbol</th>\n",
              "      <th>Security</th>\n",
              "      <th>SEC filings</th>\n",
              "      <th>GICS Sector</th>\n",
              "      <th>GICS Sub-Industry</th>\n",
              "      <th>Headquarters Location</th>\n",
              "      <th>Date first added</th>\n",
              "      <th>CIK</th>\n",
              "      <th>Founded</th>\n",
              "    </tr>\n",
              "  </thead>\n",
              "  <tbody>\n",
              "    <tr>\n",
              "      <th>448</th>\n",
              "      <td>TJX</td>\n",
              "      <td>TJX Companies</td>\n",
              "      <td>reports</td>\n",
              "      <td>Consumer Discretionary</td>\n",
              "      <td>Apparel Retail</td>\n",
              "      <td>Framingham, Massachusetts</td>\n",
              "      <td>1985-09-30</td>\n",
              "      <td>109198</td>\n",
              "      <td>1987</td>\n",
              "    </tr>\n",
              "  </tbody>\n",
              "</table>\n",
              "</div>\n",
              "      <button class=\"colab-df-convert\" onclick=\"convertToInteractive('df-7b4da7c8-8567-4e47-bc57-be64e2aeecc7')\"\n",
              "              title=\"Convert this dataframe to an interactive table.\"\n",
              "              style=\"display:none;\">\n",
              "        \n",
              "  <svg xmlns=\"http://www.w3.org/2000/svg\" height=\"24px\"viewBox=\"0 0 24 24\"\n",
              "       width=\"24px\">\n",
              "    <path d=\"M0 0h24v24H0V0z\" fill=\"none\"/>\n",
              "    <path d=\"M18.56 5.44l.94 2.06.94-2.06 2.06-.94-2.06-.94-.94-2.06-.94 2.06-2.06.94zm-11 1L8.5 8.5l.94-2.06 2.06-.94-2.06-.94L8.5 2.5l-.94 2.06-2.06.94zm10 10l.94 2.06.94-2.06 2.06-.94-2.06-.94-.94-2.06-.94 2.06-2.06.94z\"/><path d=\"M17.41 7.96l-1.37-1.37c-.4-.4-.92-.59-1.43-.59-.52 0-1.04.2-1.43.59L10.3 9.45l-7.72 7.72c-.78.78-.78 2.05 0 2.83L4 21.41c.39.39.9.59 1.41.59.51 0 1.02-.2 1.41-.59l7.78-7.78 2.81-2.81c.8-.78.8-2.07 0-2.86zM5.41 20L4 18.59l7.72-7.72 1.47 1.35L5.41 20z\"/>\n",
              "  </svg>\n",
              "      </button>\n",
              "      \n",
              "  <style>\n",
              "    .colab-df-container {\n",
              "      display:flex;\n",
              "      flex-wrap:wrap;\n",
              "      gap: 12px;\n",
              "    }\n",
              "\n",
              "    .colab-df-convert {\n",
              "      background-color: #E8F0FE;\n",
              "      border: none;\n",
              "      border-radius: 50%;\n",
              "      cursor: pointer;\n",
              "      display: none;\n",
              "      fill: #1967D2;\n",
              "      height: 32px;\n",
              "      padding: 0 0 0 0;\n",
              "      width: 32px;\n",
              "    }\n",
              "\n",
              "    .colab-df-convert:hover {\n",
              "      background-color: #E2EBFA;\n",
              "      box-shadow: 0px 1px 2px rgba(60, 64, 67, 0.3), 0px 1px 3px 1px rgba(60, 64, 67, 0.15);\n",
              "      fill: #174EA6;\n",
              "    }\n",
              "\n",
              "    [theme=dark] .colab-df-convert {\n",
              "      background-color: #3B4455;\n",
              "      fill: #D2E3FC;\n",
              "    }\n",
              "\n",
              "    [theme=dark] .colab-df-convert:hover {\n",
              "      background-color: #434B5C;\n",
              "      box-shadow: 0px 1px 3px 1px rgba(0, 0, 0, 0.15);\n",
              "      filter: drop-shadow(0px 1px 2px rgba(0, 0, 0, 0.3));\n",
              "      fill: #FFFFFF;\n",
              "    }\n",
              "  </style>\n",
              "\n",
              "      <script>\n",
              "        const buttonEl =\n",
              "          document.querySelector('#df-7b4da7c8-8567-4e47-bc57-be64e2aeecc7 button.colab-df-convert');\n",
              "        buttonEl.style.display =\n",
              "          google.colab.kernel.accessAllowed ? 'block' : 'none';\n",
              "\n",
              "        async function convertToInteractive(key) {\n",
              "          const element = document.querySelector('#df-7b4da7c8-8567-4e47-bc57-be64e2aeecc7');\n",
              "          const dataTable =\n",
              "            await google.colab.kernel.invokeFunction('convertToInteractive',\n",
              "                                                     [key], {});\n",
              "          if (!dataTable) return;\n",
              "\n",
              "          const docLinkHtml = 'Like what you see? Visit the ' +\n",
              "            '<a target=\"_blank\" href=https://colab.research.google.com/notebooks/data_table.ipynb>data table notebook</a>'\n",
              "            + ' to learn more about interactive tables.';\n",
              "          element.innerHTML = '';\n",
              "          dataTable['output_type'] = 'display_data';\n",
              "          await google.colab.output.renderOutput(dataTable, element);\n",
              "          const docLink = document.createElement('div');\n",
              "          docLink.innerHTML = docLinkHtml;\n",
              "          element.appendChild(docLink);\n",
              "        }\n",
              "      </script>\n",
              "    </div>\n",
              "  </div>\n",
              "  "
            ]
          },
          "metadata": {},
          "execution_count": 6
        }
      ]
    },
    {
      "cell_type": "code",
      "source": [
        "sp500_df.info()"
      ],
      "metadata": {
        "colab": {
          "base_uri": "https://localhost:8080/"
        },
        "id": "YghIU8VJo2m7",
        "outputId": "e0006eb8-0e98-48ad-e5e0-d39e4cc9d16a"
      },
      "execution_count": 7,
      "outputs": [
        {
          "output_type": "stream",
          "name": "stdout",
          "text": [
            "<class 'pandas.core.frame.DataFrame'>\n",
            "RangeIndex: 504 entries, 0 to 503\n",
            "Data columns (total 9 columns):\n",
            " #   Column                 Non-Null Count  Dtype \n",
            "---  ------                 --------------  ----- \n",
            " 0   Symbol                 504 non-null    object\n",
            " 1   Security               504 non-null    object\n",
            " 2   SEC filings            504 non-null    object\n",
            " 3   GICS Sector            504 non-null    object\n",
            " 4   GICS Sub-Industry      504 non-null    object\n",
            " 5   Headquarters Location  504 non-null    object\n",
            " 6   Date first added       459 non-null    object\n",
            " 7   CIK                    504 non-null    int64 \n",
            " 8   Founded                504 non-null    object\n",
            "dtypes: int64(1), object(8)\n",
            "memory usage: 35.6+ KB\n"
          ]
        }
      ]
    },
    {
      "cell_type": "code",
      "source": [
        "sp500_df.nunique()"
      ],
      "metadata": {
        "colab": {
          "base_uri": "https://localhost:8080/"
        },
        "id": "SuY2SJ0Xo3dl",
        "outputId": "f231eb24-97e8-4060-a726-384acf55d092"
      },
      "execution_count": 8,
      "outputs": [
        {
          "output_type": "execute_result",
          "data": {
            "text/plain": [
              "Symbol                   504\n",
              "Security                 504\n",
              "SEC filings                1\n",
              "GICS Sector               11\n",
              "GICS Sub-Industry        123\n",
              "Headquarters Location    257\n",
              "Date first added         353\n",
              "CIK                      500\n",
              "Founded                  196\n",
              "dtype: int64"
            ]
          },
          "metadata": {},
          "execution_count": 8
        }
      ]
    },
    {
      "cell_type": "markdown",
      "source": [
        "## CIK, Symbol and Security"
      ],
      "metadata": {
        "id": "DXqq0EcOo6HB"
      }
    },
    {
      "cell_type": "code",
      "source": [
        "duplicate_cik = sp500_df[\"CIK\"].value_counts().head(4)\n",
        "duplicate_cik"
      ],
      "metadata": {
        "colab": {
          "base_uri": "https://localhost:8080/"
        },
        "id": "QiOmE_ITo4nI",
        "outputId": "1e83548d-4a66-42d3-e81c-8e3d7de2991d"
      },
      "execution_count": 9,
      "outputs": [
        {
          "output_type": "execute_result",
          "data": {
            "text/plain": [
              "1754301    2\n",
              "1652044    2\n",
              "1564708    2\n",
              "1336917    2\n",
              "Name: CIK, dtype: int64"
            ]
          },
          "metadata": {},
          "execution_count": 9
        }
      ]
    },
    {
      "cell_type": "code",
      "source": [
        "sp500_df[sp500_df[\"CIK\"].isin(duplicate_cik.index)]"
      ],
      "metadata": {
        "colab": {
          "base_uri": "https://localhost:8080/",
          "height": 341
        },
        "id": "RBEUA59-o8XL",
        "outputId": "d921829f-31e5-407d-c0db-727ab71ef05e"
      },
      "execution_count": 10,
      "outputs": [
        {
          "output_type": "execute_result",
          "data": {
            "text/plain": [
              "    Symbol                   Security SEC filings             GICS Sector  \\\n",
              "24   GOOGL         Alphabet (Class A)     reports  Communication Services   \n",
              "25    GOOG         Alphabet (Class C)     reports  Communication Services   \n",
              "206   FOXA  Fox Corporation (Class A)     reports  Communication Services   \n",
              "207    FOX  Fox Corporation (Class B)     reports  Communication Services   \n",
              "335   NWSA        News Corp (Class A)     reports  Communication Services   \n",
              "336    NWS        News Corp (Class B)     reports  Communication Services   \n",
              "461    UAA     Under Armour (Class A)     reports  Consumer Discretionary   \n",
              "462     UA     Under Armour (Class C)     reports  Consumer Discretionary   \n",
              "\n",
              "                       GICS Sub-Industry      Headquarters Location  \\\n",
              "24          Interactive Media & Services  Mountain View, California   \n",
              "25          Interactive Media & Services  Mountain View, California   \n",
              "206               Movies & Entertainment    New York City, New York   \n",
              "207               Movies & Entertainment    New York City, New York   \n",
              "335                           Publishing    New York City, New York   \n",
              "336                           Publishing    New York City, New York   \n",
              "461  Apparel, Accessories & Luxury Goods        Baltimore, Maryland   \n",
              "462  Apparel, Accessories & Luxury Goods        Baltimore, Maryland   \n",
              "\n",
              "    Date first added      CIK      Founded  \n",
              "24        2014-04-03  1652044         1998  \n",
              "25        2006-04-03  1652044         1998  \n",
              "206       2013-07-01  1754301         2019  \n",
              "207       2015-09-18  1754301         2019  \n",
              "335       2013-08-01  1564708  2013 (1980)  \n",
              "336       2015-09-18  1564708  2013 (1980)  \n",
              "461       2014-05-01  1336917         1996  \n",
              "462       2016-04-08  1336917         1996  "
            ],
            "text/html": [
              "\n",
              "  <div id=\"df-47e00ae9-da05-4966-a3ae-a5b4c6850481\">\n",
              "    <div class=\"colab-df-container\">\n",
              "      <div>\n",
              "<style scoped>\n",
              "    .dataframe tbody tr th:only-of-type {\n",
              "        vertical-align: middle;\n",
              "    }\n",
              "\n",
              "    .dataframe tbody tr th {\n",
              "        vertical-align: top;\n",
              "    }\n",
              "\n",
              "    .dataframe thead th {\n",
              "        text-align: right;\n",
              "    }\n",
              "</style>\n",
              "<table border=\"1\" class=\"dataframe\">\n",
              "  <thead>\n",
              "    <tr style=\"text-align: right;\">\n",
              "      <th></th>\n",
              "      <th>Symbol</th>\n",
              "      <th>Security</th>\n",
              "      <th>SEC filings</th>\n",
              "      <th>GICS Sector</th>\n",
              "      <th>GICS Sub-Industry</th>\n",
              "      <th>Headquarters Location</th>\n",
              "      <th>Date first added</th>\n",
              "      <th>CIK</th>\n",
              "      <th>Founded</th>\n",
              "    </tr>\n",
              "  </thead>\n",
              "  <tbody>\n",
              "    <tr>\n",
              "      <th>24</th>\n",
              "      <td>GOOGL</td>\n",
              "      <td>Alphabet (Class A)</td>\n",
              "      <td>reports</td>\n",
              "      <td>Communication Services</td>\n",
              "      <td>Interactive Media &amp; Services</td>\n",
              "      <td>Mountain View, California</td>\n",
              "      <td>2014-04-03</td>\n",
              "      <td>1652044</td>\n",
              "      <td>1998</td>\n",
              "    </tr>\n",
              "    <tr>\n",
              "      <th>25</th>\n",
              "      <td>GOOG</td>\n",
              "      <td>Alphabet (Class C)</td>\n",
              "      <td>reports</td>\n",
              "      <td>Communication Services</td>\n",
              "      <td>Interactive Media &amp; Services</td>\n",
              "      <td>Mountain View, California</td>\n",
              "      <td>2006-04-03</td>\n",
              "      <td>1652044</td>\n",
              "      <td>1998</td>\n",
              "    </tr>\n",
              "    <tr>\n",
              "      <th>206</th>\n",
              "      <td>FOXA</td>\n",
              "      <td>Fox Corporation (Class A)</td>\n",
              "      <td>reports</td>\n",
              "      <td>Communication Services</td>\n",
              "      <td>Movies &amp; Entertainment</td>\n",
              "      <td>New York City, New York</td>\n",
              "      <td>2013-07-01</td>\n",
              "      <td>1754301</td>\n",
              "      <td>2019</td>\n",
              "    </tr>\n",
              "    <tr>\n",
              "      <th>207</th>\n",
              "      <td>FOX</td>\n",
              "      <td>Fox Corporation (Class B)</td>\n",
              "      <td>reports</td>\n",
              "      <td>Communication Services</td>\n",
              "      <td>Movies &amp; Entertainment</td>\n",
              "      <td>New York City, New York</td>\n",
              "      <td>2015-09-18</td>\n",
              "      <td>1754301</td>\n",
              "      <td>2019</td>\n",
              "    </tr>\n",
              "    <tr>\n",
              "      <th>335</th>\n",
              "      <td>NWSA</td>\n",
              "      <td>News Corp (Class A)</td>\n",
              "      <td>reports</td>\n",
              "      <td>Communication Services</td>\n",
              "      <td>Publishing</td>\n",
              "      <td>New York City, New York</td>\n",
              "      <td>2013-08-01</td>\n",
              "      <td>1564708</td>\n",
              "      <td>2013 (1980)</td>\n",
              "    </tr>\n",
              "    <tr>\n",
              "      <th>336</th>\n",
              "      <td>NWS</td>\n",
              "      <td>News Corp (Class B)</td>\n",
              "      <td>reports</td>\n",
              "      <td>Communication Services</td>\n",
              "      <td>Publishing</td>\n",
              "      <td>New York City, New York</td>\n",
              "      <td>2015-09-18</td>\n",
              "      <td>1564708</td>\n",
              "      <td>2013 (1980)</td>\n",
              "    </tr>\n",
              "    <tr>\n",
              "      <th>461</th>\n",
              "      <td>UAA</td>\n",
              "      <td>Under Armour (Class A)</td>\n",
              "      <td>reports</td>\n",
              "      <td>Consumer Discretionary</td>\n",
              "      <td>Apparel, Accessories &amp; Luxury Goods</td>\n",
              "      <td>Baltimore, Maryland</td>\n",
              "      <td>2014-05-01</td>\n",
              "      <td>1336917</td>\n",
              "      <td>1996</td>\n",
              "    </tr>\n",
              "    <tr>\n",
              "      <th>462</th>\n",
              "      <td>UA</td>\n",
              "      <td>Under Armour (Class C)</td>\n",
              "      <td>reports</td>\n",
              "      <td>Consumer Discretionary</td>\n",
              "      <td>Apparel, Accessories &amp; Luxury Goods</td>\n",
              "      <td>Baltimore, Maryland</td>\n",
              "      <td>2016-04-08</td>\n",
              "      <td>1336917</td>\n",
              "      <td>1996</td>\n",
              "    </tr>\n",
              "  </tbody>\n",
              "</table>\n",
              "</div>\n",
              "      <button class=\"colab-df-convert\" onclick=\"convertToInteractive('df-47e00ae9-da05-4966-a3ae-a5b4c6850481')\"\n",
              "              title=\"Convert this dataframe to an interactive table.\"\n",
              "              style=\"display:none;\">\n",
              "        \n",
              "  <svg xmlns=\"http://www.w3.org/2000/svg\" height=\"24px\"viewBox=\"0 0 24 24\"\n",
              "       width=\"24px\">\n",
              "    <path d=\"M0 0h24v24H0V0z\" fill=\"none\"/>\n",
              "    <path d=\"M18.56 5.44l.94 2.06.94-2.06 2.06-.94-2.06-.94-.94-2.06-.94 2.06-2.06.94zm-11 1L8.5 8.5l.94-2.06 2.06-.94-2.06-.94L8.5 2.5l-.94 2.06-2.06.94zm10 10l.94 2.06.94-2.06 2.06-.94-2.06-.94-.94-2.06-.94 2.06-2.06.94z\"/><path d=\"M17.41 7.96l-1.37-1.37c-.4-.4-.92-.59-1.43-.59-.52 0-1.04.2-1.43.59L10.3 9.45l-7.72 7.72c-.78.78-.78 2.05 0 2.83L4 21.41c.39.39.9.59 1.41.59.51 0 1.02-.2 1.41-.59l7.78-7.78 2.81-2.81c.8-.78.8-2.07 0-2.86zM5.41 20L4 18.59l7.72-7.72 1.47 1.35L5.41 20z\"/>\n",
              "  </svg>\n",
              "      </button>\n",
              "      \n",
              "  <style>\n",
              "    .colab-df-container {\n",
              "      display:flex;\n",
              "      flex-wrap:wrap;\n",
              "      gap: 12px;\n",
              "    }\n",
              "\n",
              "    .colab-df-convert {\n",
              "      background-color: #E8F0FE;\n",
              "      border: none;\n",
              "      border-radius: 50%;\n",
              "      cursor: pointer;\n",
              "      display: none;\n",
              "      fill: #1967D2;\n",
              "      height: 32px;\n",
              "      padding: 0 0 0 0;\n",
              "      width: 32px;\n",
              "    }\n",
              "\n",
              "    .colab-df-convert:hover {\n",
              "      background-color: #E2EBFA;\n",
              "      box-shadow: 0px 1px 2px rgba(60, 64, 67, 0.3), 0px 1px 3px 1px rgba(60, 64, 67, 0.15);\n",
              "      fill: #174EA6;\n",
              "    }\n",
              "\n",
              "    [theme=dark] .colab-df-convert {\n",
              "      background-color: #3B4455;\n",
              "      fill: #D2E3FC;\n",
              "    }\n",
              "\n",
              "    [theme=dark] .colab-df-convert:hover {\n",
              "      background-color: #434B5C;\n",
              "      box-shadow: 0px 1px 3px 1px rgba(0, 0, 0, 0.15);\n",
              "      filter: drop-shadow(0px 1px 2px rgba(0, 0, 0, 0.3));\n",
              "      fill: #FFFFFF;\n",
              "    }\n",
              "  </style>\n",
              "\n",
              "      <script>\n",
              "        const buttonEl =\n",
              "          document.querySelector('#df-47e00ae9-da05-4966-a3ae-a5b4c6850481 button.colab-df-convert');\n",
              "        buttonEl.style.display =\n",
              "          google.colab.kernel.accessAllowed ? 'block' : 'none';\n",
              "\n",
              "        async function convertToInteractive(key) {\n",
              "          const element = document.querySelector('#df-47e00ae9-da05-4966-a3ae-a5b4c6850481');\n",
              "          const dataTable =\n",
              "            await google.colab.kernel.invokeFunction('convertToInteractive',\n",
              "                                                     [key], {});\n",
              "          if (!dataTable) return;\n",
              "\n",
              "          const docLinkHtml = 'Like what you see? Visit the ' +\n",
              "            '<a target=\"_blank\" href=https://colab.research.google.com/notebooks/data_table.ipynb>data table notebook</a>'\n",
              "            + ' to learn more about interactive tables.';\n",
              "          element.innerHTML = '';\n",
              "          dataTable['output_type'] = 'display_data';\n",
              "          await google.colab.output.renderOutput(dataTable, element);\n",
              "          const docLink = document.createElement('div');\n",
              "          docLink.innerHTML = docLinkHtml;\n",
              "          element.appendChild(docLink);\n",
              "        }\n",
              "      </script>\n",
              "    </div>\n",
              "  </div>\n",
              "  "
            ]
          },
          "metadata": {},
          "execution_count": 10
        }
      ]
    },
    {
      "cell_type": "markdown",
      "source": [
        "## GICS Sector\n"
      ],
      "metadata": {
        "id": "pSgBG8_Oo-PI"
      }
    },
    {
      "cell_type": "code",
      "source": [
        "sector_counts = sp500_df[\"GICS Sector\"].value_counts()\n",
        "sector_counts"
      ],
      "metadata": {
        "colab": {
          "base_uri": "https://localhost:8080/"
        },
        "id": "YPD2HMxso9Zv",
        "outputId": "77c8a78c-037e-4e35-983a-e41325ef6d3b"
      },
      "execution_count": 11,
      "outputs": [
        {
          "output_type": "execute_result",
          "data": {
            "text/plain": [
              "Information Technology    74\n",
              "Industrials               73\n",
              "Financials                66\n",
              "Health Care               65\n",
              "Consumer Discretionary    60\n",
              "Consumer Staples          32\n",
              "Real Estate               30\n",
              "Utilities                 29\n",
              "Materials                 28\n",
              "Communication Services    26\n",
              "Energy                    21\n",
              "Name: GICS Sector, dtype: int64"
            ]
          },
          "metadata": {},
          "execution_count": 11
        }
      ]
    },
    {
      "cell_type": "code",
      "source": [
        "sectors = sector_counts.index\n",
        "plt.figure(figsize=(5,3))\n",
        "plt.bar(sectors, sector_counts)\n",
        "plt.xticks(rotation=90)\n",
        "plt.xlabel(\"sector\")\n",
        "plt.ylabel(\"count\")\n",
        "plt.show()"
      ],
      "metadata": {
        "colab": {
          "base_uri": "https://localhost:8080/",
          "height": 339
        },
        "id": "N-EstqRjpCa5",
        "outputId": "b4ee08b2-7fd7-4fb5-ce00-de7650c99482"
      },
      "execution_count": 12,
      "outputs": [
        {
          "output_type": "display_data",
          "data": {
            "text/plain": [
              "<Figure size 360x216 with 1 Axes>"
            ],
            "image/png": "[encoded data removed]"
          },
          "metadata": {
            "needs_background": "light"
          }
        }
      ]
    },
    {
      "cell_type": "markdown",
      "source": [
        "## GICS Sub-Industry\n"
      ],
      "metadata": {
        "id": "zplxxGI-pEXx"
      }
    },
    {
      "cell_type": "code",
      "source": [
        "industry_counts = sp500_df[\"GICS Sub-Industry\"].value_counts()\n",
        "industries = industry_counts.index\n",
        "plt.figure(figsize=(10,3))\n",
        "plt.bar(industries, industry_counts)\n",
        "plt.xticks(rotation=90)\n",
        "plt.xlabel(\"industry\")\n",
        "plt.ylabel(\"count\")\n",
        "plt.show()"
      ],
      "metadata": {
        "colab": {
          "base_uri": "https://localhost:8080/",
          "height": 453
        },
        "id": "IEMpsZFXpDTc",
        "outputId": "94285776-0fdc-4b4f-c0f9-8edd10cdd092"
      },
      "execution_count": 13,
      "outputs": [
        {
          "output_type": "display_data",
          "data": {
            "text/plain": [
              "<Figure size 720x216 with 1 Axes>"
            ],
            "image/png": "[encoded data removed]"
          },
          "metadata": {
            "needs_background": "light"
          }
        }
      ]
    },
    {
      "cell_type": "code",
      "source": [
        "industry_counts_top10 = industry_counts.head(10)\n",
        "industries_top10 = industry_counts_top10.index\n",
        "plt.figure(figsize=(5,3))\n",
        "plt.bar(industries_top10, industry_counts_top10)\n",
        "plt.xticks(rotation=90)\n",
        "plt.xlabel(\"industry\")\n",
        "plt.ylabel(\"count\")\n",
        "plt.show()"
      ],
      "metadata": {
        "colab": {
          "base_uri": "https://localhost:8080/",
          "height": 412
        },
        "id": "TZq9JMvWpFq7",
        "outputId": "9ef80a94-994c-4dc0-c04c-11fff7017339"
      },
      "execution_count": 14,
      "outputs": [
        {
          "output_type": "display_data",
          "data": {
            "text/plain": [
              "<Figure size 360x216 with 1 Axes>"
            ],
            "image/png": "[encoded data removed]"
          },
          "metadata": {
            "needs_background": "light"
          }
        }
      ]
    },
    {
      "cell_type": "markdown",
      "source": [
        "## Date first added\n"
      ],
      "metadata": {
        "id": "eKH7uSCCpHl4"
      }
    },
    {
      "cell_type": "code",
      "source": [
        "print(\"number of :\", sp500_df[\"Date first added\"].isna().sum())"
      ],
      "metadata": {
        "colab": {
          "base_uri": "https://localhost:8080/"
        },
        "id": "k3Dj0nXxpGqk",
        "outputId": "acf795e9-2d9d-46c0-d244-652a6d45336b"
      },
      "execution_count": 15,
      "outputs": [
        {
          "output_type": "stream",
          "name": "stdout",
          "text": [
            "number of : 45\n"
          ]
        }
      ]
    },
    {
      "cell_type": "code",
      "source": [
        "date_first_added_noise = sp500_df[~sp500_df[\"Date first added\"].fillna(\"\").str.match('\\d{4}\\-(0?[1-9]|1[012])\\-(0?[1-9]|[12][0-9]|3[01])')]\n",
        "date_first_added_noise[\"Date first added\"].value_counts(dropna=False)"
      ],
      "metadata": {
        "colab": {
          "base_uri": "https://localhost:8080/"
        },
        "id": "Td1DFDZIpI5J",
        "outputId": "b8bcaf1a-b66f-470c-b08a-99eda9647472"
      },
      "execution_count": 16,
      "outputs": [
        {
          "output_type": "execute_result",
          "data": {
            "text/plain": [
              "NaN     45\n",
              "2009     1\n",
              "2005     1\n",
              "Name: Date first added, dtype: int64"
            ]
          },
          "metadata": {},
          "execution_count": 16
        }
      ]
    },
    {
      "cell_type": "code",
      "source": [
        "def extract_year(added_date):\n",
        "    if re.match('\\d{4}\\-(0?[1-9]|1[012])\\-(0?[1-9]|[12][0-9]|3[01])', added_date):\n",
        "        return added_date.split(\"-\")[0]\n",
        "    return added_date\n",
        "date_first_added = sp500_df[~sp500_df[\"Date first added\"].isna()][\"Date first added\"].map(extract_year)\n",
        "added_day_counts = date_first_added.value_counts().sort_index()\n",
        "print(\"number of data:\", added_day_counts.sum())"
      ],
      "metadata": {
        "colab": {
          "base_uri": "https://localhost:8080/"
        },
        "id": "EIfiMK1mpJ1u",
        "outputId": "0fabf4bd-7099-49f7-836f-bb5e10562bf8"
      },
      "execution_count": 17,
      "outputs": [
        {
          "output_type": "stream",
          "name": "stdout",
          "text": [
            "number of data: 459\n"
          ]
        }
      ]
    },
    {
      "cell_type": "code",
      "source": [
        "plt.figure(figsize=(10,3))\n",
        "plt.bar(pd.to_datetime(added_day_counts.index), added_day_counts, width=13000/len(added_day_counts), zorder=2)\n",
        "plt.xticks(rotation=30)\n",
        "plt.grid(axis='y', zorder=1)\n",
        "plt.xlabel(\"added year\")\n",
        "plt.ylabel(\"count\")\n",
        "plt.show()"
      ],
      "metadata": {
        "colab": {
          "base_uri": "https://localhost:8080/",
          "height": 236
        },
        "id": "ra7S1O7ipL7K",
        "outputId": "0ea482f0-3f05-4839-c996-566a065a42d4"
      },
      "execution_count": 18,
      "outputs": [
        {
          "output_type": "display_data",
          "data": {
            "text/plain": [
              "<Figure size 720x216 with 1 Axes>"
            ],
            "image/png": "[encoded data removed]"
          },
          "metadata": {
            "needs_background": "light"
          }
        }
      ]
    },
    {
      "cell_type": "markdown",
      "source": [
        "## Founded"
      ],
      "metadata": {
        "id": "qBCseuhopOpd"
      }
    },
    {
      "cell_type": "code",
      "source": [
        "# noise\n",
        "founded_noise = sp500_df[~sp500_df[\"Founded\"].str.fullmatch('\\d{4}')]\n",
        "founded_noise[\"Founded\"].value_counts()\n"
      ],
      "metadata": {
        "colab": {
          "base_uri": "https://localhost:8080/"
        },
        "id": "If0JFjOepNCD",
        "outputId": "263f3d66-f7a0-4913-838b-a79405006baf"
      },
      "execution_count": 19,
      "outputs": [
        {
          "output_type": "execute_result",
          "data": {
            "text/plain": [
              "1983 (1877)                           2\n",
              "2013 (1980)                           2\n",
              "2013 (1888)                           1\n",
              "2005 (Molson 1786, Coors 1873)        1\n",
              "2012 (1935)                           1\n",
              "2004 (1865 / 1909)                    1\n",
              "1928 (2011)                           1\n",
              "1984 (1925)                           1\n",
              "1881/1894 (1980)                      1\n",
              "1994 (Northrop 1939, Grumman 1930)    1\n",
              "2011 (1966)                           1\n",
              "2020 (1853)                           1\n",
              "2019 (1952)                           1\n",
              "2008 (1847)                           1\n",
              "2012 (1917)                           1\n",
              "1998 (1981)                           1\n",
              "2006 (1902)                           1\n",
              "2009 (1887)                           1\n",
              "1904/1946/1959                        1\n",
              "2019 (1860)                           1\n",
              "2016 (1950)                           1\n",
              "2014 (1946)                           1\n",
              "1982 (1919)                           1\n",
              "1983 (1885)                           1\n",
              "1998 (1923 / 1874)                    1\n",
              "2020 (1915)                           1\n",
              "2021 (1989)                           1\n",
              "2016 (1969)                           1\n",
              "2011 (1969)                           1\n",
              "1939 (2015)                           1\n",
              "1961 (1930)                           1\n",
              "1958 (1889)                           1\n",
              "2000 (1799 / 1871)                    1\n",
              "1975/1977 (1997)                      1\n",
              "2015 (1869)                           1\n",
              "2019 (1895)                           1\n",
              "1999 (1869)                           1\n",
              "Name: Founded, dtype: int64"
            ]
          },
          "metadata": {},
          "execution_count": 19
        }
      ]
    },
    {
      "cell_type": "code",
      "source": [
        "def clearn_founded(founded_year):\n",
        "    return founded_year[:4]\n",
        "    \n",
        "founded_year = sp500_df[\"Founded\"].map(clearn_founded)\n",
        "founded_year_counts = founded_year.value_counts().sort_index()\n",
        "print(\"number of data:\", founded_year_counts.sum())"
      ],
      "metadata": {
        "colab": {
          "base_uri": "https://localhost:8080/"
        },
        "id": "NF3smFohpP5w",
        "outputId": "224d366c-a0ef-4c6a-8379-d2280a51065a"
      },
      "execution_count": 20,
      "outputs": [
        {
          "output_type": "stream",
          "name": "stdout",
          "text": [
            "number of data: 504\n"
          ]
        }
      ]
    },
    {
      "cell_type": "code",
      "source": [
        "plt.figure(figsize=(10,3))\n",
        "plt.bar(pd.to_datetime(founded_year_counts.index), founded_year_counts, width=13000/len(founded_year_counts), zorder=2)\n",
        "plt.xticks(rotation=30)\n",
        "plt.grid(axis='y', zorder=1)\n",
        "plt.xlabel(\"founded year\")\n",
        "plt.ylabel(\"count\")\n",
        "plt.show()"
      ],
      "metadata": {
        "colab": {
          "base_uri": "https://localhost:8080/",
          "height": 236
        },
        "id": "0jLW5xJ3pRVQ",
        "outputId": "f1fd041a-fda0-413e-c2d9-5b92f0ff9e98"
      },
      "execution_count": 21,
      "outputs": [
        {
          "output_type": "display_data",
          "data": {
            "text/plain": [
              "<Figure size 720x216 with 1 Axes>"
            ],
            "image/png": "[encoded data removed]"
          },
          "metadata": {
            "needs_background": "light"
          }
        }
      ]
    },
    {
      "cell_type": "markdown",
      "source": [
        "## Headquarters Location\n"
      ],
      "metadata": {
        "id": "LA01YKObpT5h"
      }
    },
    {
      "cell_type": "code",
      "source": [
        "def extract_headquarter_states(location):\n",
        "    location = location.split(\",\")[-1]\n",
        "    location = re.sub(\"\\[.*\\]\", \"\", location)\n",
        "    return location\n",
        "    \n",
        "print(\"number of nan:\", sp500_df[\"Headquarters Location\"].isna().sum())\n",
        "headquarters_states = sp500_df[\"Headquarters Location\"].map(extract_headquarter_states)"
      ],
      "metadata": {
        "colab": {
          "base_uri": "https://localhost:8080/"
        },
        "id": "jMSMxghMpSk9",
        "outputId": "63f46374-cbd0-4276-facf-34e289a0286a"
      },
      "execution_count": 22,
      "outputs": [
        {
          "output_type": "stream",
          "name": "stdout",
          "text": [
            "number of nan: 0\n"
          ]
        }
      ]
    },
    {
      "cell_type": "code",
      "source": [
        "headquarters_states_counts = headquarters_states.value_counts()\n",
        "plt.figure(figsize=(12,3))\n",
        "plt.bar(headquarters_states_counts.index, headquarters_states_counts, zorder=2)\n",
        "plt.grid(axis=\"y\", zorder=1)\n",
        "plt.xticks(rotation=90)\n",
        "plt.xlabel(\"headquarter location\")\n",
        "plt.ylabel(\"count\")\n",
        "plt.show()"
      ],
      "metadata": {
        "colab": {
          "base_uri": "https://localhost:8080/",
          "height": 359
        },
        "id": "BIr2A4BcpWBR",
        "outputId": "f4649e6c-1533-4405-84bd-60bf06b96ee6"
      },
      "execution_count": 23,
      "outputs": [
        {
          "output_type": "display_data",
          "data": {
            "text/plain": [
              "<Figure size 864x216 with 1 Axes>"
            ],
            "image/png": "[encoded data removed]"
          },
          "metadata": {
            "needs_background": "light"
          }
        }
      ]
    },
    {
      "cell_type": "markdown",
      "source": [
        "## SEC filings\n"
      ],
      "metadata": {
        "id": "cJn7pKQfpY0R"
      }
    },
    {
      "cell_type": "code",
      "source": [
        "sp500_df[\"SEC filings\"].value_counts()"
      ],
      "metadata": {
        "colab": {
          "base_uri": "https://localhost:8080/"
        },
        "id": "9ZEqQTpEpXcB",
        "outputId": "48e1627a-bc2b-4556-ccbb-57594e8e0c36"
      },
      "execution_count": 24,
      "outputs": [
        {
          "output_type": "execute_result",
          "data": {
            "text/plain": [
              "reports    504\n",
              "Name: SEC filings, dtype: int64"
            ]
          },
          "metadata": {},
          "execution_count": 24
        }
      ]
    }
  ]
}