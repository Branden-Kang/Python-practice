{
  "nbformat": 4,
  "nbformat_minor": 0,
  "metadata": {
    "colab": {
      "name": "10 Interesting Python Programs with Code.ipynb",
      "provenance": [],
      "authorship_tag": "ABX9TyNUrnay4nSwXmJkM72lBEgb"
    },
    "kernelspec": {
      "name": "python3",
      "display_name": "Python 3"
    },
    "language_info": {
      "name": "python"
    }
  },
  "cells": [
    {
      "cell_type": "markdown",
      "metadata": {
        "id": "mUmzbTs4ZsSy"
      },
      "source": [
        "[Reference](https://levelup.gitconnected.com/10-interesting-python-programs-with-code-b676181a2d1a)"
      ]
    },
    {
      "cell_type": "code",
      "metadata": {
        "colab": {
          "base_uri": "https://localhost:8080/"
        },
        "id": "sdceeQV__n1s",
        "outputId": "844d69c7-8603-435f-fdec-78936cb7a2ef"
      },
      "source": [
        "!pip install faker"
      ],
      "execution_count": 2,
      "outputs": [
        {
          "output_type": "stream",
          "text": [
            "Collecting faker\n",
            "\u001b[?25l  Downloading https://files.pythonhosted.org/packages/1c/b1/afbf97c6a208eb5c6e5b78e5233a01bf285288614c524059ffb3cf089760/Faker-8.8.2-py3-none-any.whl (1.2MB)\n",
            "\u001b[K     |████████████████████████████████| 1.2MB 3.9MB/s \n",
            "\u001b[?25hRequirement already satisfied: text-unidecode==1.3 in /usr/local/lib/python3.7/dist-packages (from faker) (1.3)\n",
            "Requirement already satisfied: python-dateutil>=2.4 in /usr/local/lib/python3.7/dist-packages (from faker) (2.8.1)\n",
            "Requirement already satisfied: six>=1.5 in /usr/local/lib/python3.7/dist-packages (from python-dateutil>=2.4->faker) (1.15.0)\n",
            "Installing collected packages: faker\n",
            "Successfully installed faker-8.8.2\n"
          ],
          "name": "stdout"
        }
      ]
    },
    {
      "cell_type": "code",
      "metadata": {
        "colab": {
          "base_uri": "https://localhost:8080/"
        },
        "id": "yogPjQtgZqel",
        "outputId": "802113b1-c945-4866-f5b0-98209cb95a37"
      },
      "source": [
        "from faker import Faker\n",
        "\n",
        "fake = Faker()\n",
        "print(fake.name())\n",
        "print(fake.email())\n",
        "print(fake.country())\n",
        "\n",
        "print(fake.profile())"
      ],
      "execution_count": 3,
      "outputs": [
        {
          "output_type": "stream",
          "text": [
            "Michael Harris\n",
            "candicejohnson@hotmail.com\n",
            "Indonesia\n",
            "{'job': 'Editorial assistant', 'company': 'Snyder LLC', 'ssn': '706-42-8346', 'residence': '005 Dylan Pines Apt. 718\\nMorrisbury, MI 57272', 'current_location': (Decimal('87.2647185'), Decimal('175.458255')), 'blood_group': 'B-', 'website': ['http://gonzales.biz/', 'http://bush.info/'], 'username': 'jasmine15', 'name': 'Samantha Huffman', 'sex': 'F', 'address': '629 Taylor Squares Apt. 845\\nKimbury, MD 76359', 'mail': 'wthompson@gmail.com', 'birthdate': datetime.date(1941, 6, 18)}\n"
          ],
          "name": "stdout"
        }
      ]
    },
    {
      "cell_type": "code",
      "metadata": {
        "colab": {
          "base_uri": "https://localhost:8080/"
        },
        "id": "QqjEY8lY_kHv",
        "outputId": "73de6ba9-b5cb-4a21-ac0b-b14e43419fa2"
      },
      "source": [
        "dir(Faker())"
      ],
      "execution_count": 4,
      "outputs": [
        {
          "output_type": "execute_result",
          "data": {
            "text/plain": [
              "['__class__',\n",
              " '__deepcopy__',\n",
              " '__delattr__',\n",
              " '__dict__',\n",
              " '__dir__',\n",
              " '__doc__',\n",
              " '__eq__',\n",
              " '__format__',\n",
              " '__ge__',\n",
              " '__getattr__',\n",
              " '__getattribute__',\n",
              " '__getitem__',\n",
              " '__gt__',\n",
              " '__hash__',\n",
              " '__init__',\n",
              " '__init_subclass__',\n",
              " '__le__',\n",
              " '__lt__',\n",
              " '__module__',\n",
              " '__ne__',\n",
              " '__new__',\n",
              " '__reduce__',\n",
              " '__reduce_ex__',\n",
              " '__repr__',\n",
              " '__setattr__',\n",
              " '__sizeof__',\n",
              " '__str__',\n",
              " '__subclasshook__',\n",
              " '__weakref__',\n",
              " '_factories',\n",
              " '_factory_map',\n",
              " '_locales',\n",
              " '_map_provider_method',\n",
              " '_select_factory',\n",
              " '_unique_proxy',\n",
              " '_weights',\n",
              " 'aba',\n",
              " 'add_provider',\n",
              " 'address',\n",
              " 'administrative_unit',\n",
              " 'am_pm',\n",
              " 'android_platform_token',\n",
              " 'ascii_company_email',\n",
              " 'ascii_email',\n",
              " 'ascii_free_email',\n",
              " 'ascii_safe_email',\n",
              " 'bank_country',\n",
              " 'bban',\n",
              " 'binary',\n",
              " 'boolean',\n",
              " 'bothify',\n",
              " 'bs',\n",
              " 'building_number',\n",
              " 'cache_pattern',\n",
              " 'catch_phrase',\n",
              " 'century',\n",
              " 'chrome',\n",
              " 'city',\n",
              " 'city_prefix',\n",
              " 'city_suffix',\n",
              " 'color',\n",
              " 'color_name',\n",
              " 'company',\n",
              " 'company_email',\n",
              " 'company_suffix',\n",
              " 'coordinate',\n",
              " 'country',\n",
              " 'country_calling_code',\n",
              " 'country_code',\n",
              " 'credit_card_expire',\n",
              " 'credit_card_full',\n",
              " 'credit_card_number',\n",
              " 'credit_card_provider',\n",
              " 'credit_card_security_code',\n",
              " 'cryptocurrency',\n",
              " 'cryptocurrency_code',\n",
              " 'cryptocurrency_name',\n",
              " 'csv',\n",
              " 'currency',\n",
              " 'currency_code',\n",
              " 'currency_name',\n",
              " 'currency_symbol',\n",
              " 'current_country',\n",
              " 'current_country_code',\n",
              " 'date',\n",
              " 'date_between',\n",
              " 'date_between_dates',\n",
              " 'date_object',\n",
              " 'date_of_birth',\n",
              " 'date_this_century',\n",
              " 'date_this_decade',\n",
              " 'date_this_month',\n",
              " 'date_this_year',\n",
              " 'date_time',\n",
              " 'date_time_ad',\n",
              " 'date_time_between',\n",
              " 'date_time_between_dates',\n",
              " 'date_time_this_century',\n",
              " 'date_time_this_decade',\n",
              " 'date_time_this_month',\n",
              " 'date_time_this_year',\n",
              " 'day_of_month',\n",
              " 'day_of_week',\n",
              " 'del_arguments',\n",
              " 'dga',\n",
              " 'domain_name',\n",
              " 'domain_word',\n",
              " 'dsv',\n",
              " 'ean',\n",
              " 'ean13',\n",
              " 'ean8',\n",
              " 'ein',\n",
              " 'email',\n",
              " 'factories',\n",
              " 'file_extension',\n",
              " 'file_name',\n",
              " 'file_path',\n",
              " 'firefox',\n",
              " 'first_name',\n",
              " 'first_name_female',\n",
              " 'first_name_male',\n",
              " 'first_name_nonbinary',\n",
              " 'fixed_width',\n",
              " 'format',\n",
              " 'free_email',\n",
              " 'free_email_domain',\n",
              " 'future_date',\n",
              " 'future_datetime',\n",
              " 'generator_attrs',\n",
              " 'get_arguments',\n",
              " 'get_formatter',\n",
              " 'get_providers',\n",
              " 'hex_color',\n",
              " 'hexify',\n",
              " 'hostname',\n",
              " 'http_method',\n",
              " 'iana_id',\n",
              " 'iban',\n",
              " 'image',\n",
              " 'image_url',\n",
              " 'internet_explorer',\n",
              " 'invalid_ssn',\n",
              " 'ios_platform_token',\n",
              " 'ipv4',\n",
              " 'ipv4_network_class',\n",
              " 'ipv4_private',\n",
              " 'ipv4_public',\n",
              " 'ipv6',\n",
              " 'isbn10',\n",
              " 'isbn13',\n",
              " 'iso8601',\n",
              " 'items',\n",
              " 'itin',\n",
              " 'job',\n",
              " 'json',\n",
              " 'language_code',\n",
              " 'language_name',\n",
              " 'last_name',\n",
              " 'last_name_female',\n",
              " 'last_name_male',\n",
              " 'last_name_nonbinary',\n",
              " 'latitude',\n",
              " 'latlng',\n",
              " 'lexify',\n",
              " 'license_plate',\n",
              " 'linux_platform_token',\n",
              " 'linux_processor',\n",
              " 'local_latlng',\n",
              " 'locale',\n",
              " 'locales',\n",
              " 'localized_ean',\n",
              " 'localized_ean13',\n",
              " 'localized_ean8',\n",
              " 'location_on_land',\n",
              " 'longitude',\n",
              " 'mac_address',\n",
              " 'mac_platform_token',\n",
              " 'mac_processor',\n",
              " 'md5',\n",
              " 'military_apo',\n",
              " 'military_dpo',\n",
              " 'military_ship',\n",
              " 'military_state',\n",
              " 'mime_type',\n",
              " 'month',\n",
              " 'month_name',\n",
              " 'msisdn',\n",
              " 'name',\n",
              " 'name_female',\n",
              " 'name_male',\n",
              " 'name_nonbinary',\n",
              " 'null_boolean',\n",
              " 'numerify',\n",
              " 'opera',\n",
              " 'paragraph',\n",
              " 'paragraphs',\n",
              " 'parse',\n",
              " 'password',\n",
              " 'past_date',\n",
              " 'past_datetime',\n",
              " 'phone_number',\n",
              " 'port_number',\n",
              " 'postalcode',\n",
              " 'postalcode_in_state',\n",
              " 'postalcode_plus4',\n",
              " 'postcode',\n",
              " 'postcode_in_state',\n",
              " 'prefix',\n",
              " 'prefix_female',\n",
              " 'prefix_male',\n",
              " 'prefix_nonbinary',\n",
              " 'pricetag',\n",
              " 'profile',\n",
              " 'provider',\n",
              " 'providers',\n",
              " 'psv',\n",
              " 'pybool',\n",
              " 'pydecimal',\n",
              " 'pydict',\n",
              " 'pyfloat',\n",
              " 'pyint',\n",
              " 'pyiterable',\n",
              " 'pylist',\n",
              " 'pyset',\n",
              " 'pystr',\n",
              " 'pystr_format',\n",
              " 'pystruct',\n",
              " 'pytimezone',\n",
              " 'pytuple',\n",
              " 'random',\n",
              " 'random_choices',\n",
              " 'random_digit',\n",
              " 'random_digit_not_null',\n",
              " 'random_digit_not_null_or_empty',\n",
              " 'random_digit_or_empty',\n",
              " 'random_element',\n",
              " 'random_elements',\n",
              " 'random_int',\n",
              " 'random_letter',\n",
              " 'random_letters',\n",
              " 'random_lowercase_letter',\n",
              " 'random_number',\n",
              " 'random_sample',\n",
              " 'random_uppercase_letter',\n",
              " 'randomize_nb_elements',\n",
              " 'rgb_color',\n",
              " 'rgb_css_color',\n",
              " 'safari',\n",
              " 'safe_color_name',\n",
              " 'safe_domain_name',\n",
              " 'safe_email',\n",
              " 'safe_hex_color',\n",
              " 'secondary_address',\n",
              " 'seed',\n",
              " 'seed_instance',\n",
              " 'seed_locale',\n",
              " 'sentence',\n",
              " 'sentences',\n",
              " 'set_arguments',\n",
              " 'set_formatter',\n",
              " 'sha1',\n",
              " 'sha256',\n",
              " 'simple_profile',\n",
              " 'slug',\n",
              " 'ssn',\n",
              " 'state',\n",
              " 'state_abbr',\n",
              " 'street_address',\n",
              " 'street_name',\n",
              " 'street_suffix',\n",
              " 'suffix',\n",
              " 'suffix_female',\n",
              " 'suffix_male',\n",
              " 'suffix_nonbinary',\n",
              " 'swift',\n",
              " 'swift11',\n",
              " 'swift8',\n",
              " 'tar',\n",
              " 'text',\n",
              " 'texts',\n",
              " 'time',\n",
              " 'time_delta',\n",
              " 'time_object',\n",
              " 'time_series',\n",
              " 'timezone',\n",
              " 'tld',\n",
              " 'tsv',\n",
              " 'unique',\n",
              " 'unix_device',\n",
              " 'unix_partition',\n",
              " 'unix_time',\n",
              " 'upc_a',\n",
              " 'upc_e',\n",
              " 'uri',\n",
              " 'uri_extension',\n",
              " 'uri_page',\n",
              " 'uri_path',\n",
              " 'url',\n",
              " 'user_agent',\n",
              " 'user_name',\n",
              " 'uuid4',\n",
              " 'weights',\n",
              " 'windows_platform_token',\n",
              " 'word',\n",
              " 'words',\n",
              " 'year',\n",
              " 'zip',\n",
              " 'zipcode',\n",
              " 'zipcode_in_state',\n",
              " 'zipcode_plus4']"
            ]
          },
          "metadata": {
            "tags": []
          },
          "execution_count": 4
        }
      ]
    },
    {
      "cell_type": "code",
      "metadata": {
        "colab": {
          "base_uri": "https://localhost:8080/"
        },
        "id": "MqIYgma3_1js",
        "outputId": "348306ad-488a-437a-e075-78a8b0813a94"
      },
      "source": [
        "pip install pywhatkit"
      ],
      "execution_count": 6,
      "outputs": [
        {
          "output_type": "stream",
          "text": [
            "Collecting pywhatkit\n",
            "  Downloading https://files.pythonhosted.org/packages/7c/db/4102a9645844797941388844bee0a0d6d8d9a573102442d98f45d9797722/pywhatkit-4.8-py3-none-any.whl\n",
            "Collecting pyautogui\n",
            "\u001b[?25l  Downloading https://files.pythonhosted.org/packages/40/0a/1373680148828d7ea3f0e432f06c08f51a33d72306719954d3ae379f5890/PyAutoGUI-0.9.52.tar.gz (55kB)\n",
            "\u001b[K     |████████████████████████████████| 61kB 2.3MB/s \n",
            "\u001b[?25hCollecting wikipedia\n",
            "  Downloading https://files.pythonhosted.org/packages/67/35/25e68fbc99e672127cc6fbb14b8ec1ba3dfef035bf1e4c90f78f24a80b7d/wikipedia-1.4.0.tar.gz\n",
            "Requirement already satisfied: Pillow in /usr/local/lib/python3.7/dist-packages (from pywhatkit) (7.1.2)\n",
            "Requirement already satisfied: requests in /usr/local/lib/python3.7/dist-packages (from pywhatkit) (2.23.0)\n",
            "Collecting pymsgbox\n",
            "  Downloading https://files.pythonhosted.org/packages/7d/ff/4c6f31a4f08979f12a663f2aeb6c8b765d3bd592e66eaaac445f547bb875/PyMsgBox-1.0.9.tar.gz\n",
            "  Installing build dependencies ... \u001b[?25l\u001b[?25hdone\n",
            "  Getting requirements to build wheel ... \u001b[?25l\u001b[?25hdone\n",
            "    Preparing wheel metadata ... \u001b[?25l\u001b[?25hdone\n",
            "Collecting PyTweening>=1.0.1\n",
            "  Downloading https://files.pythonhosted.org/packages/b9/f8/c32a58d6e4dff8aa5c27e907194d69f3b57e525c2e4af96f39c6e9c854d2/PyTweening-1.0.3.zip\n",
            "Collecting pyscreeze>=0.1.21\n",
            "  Downloading https://files.pythonhosted.org/packages/4b/64/1087b4f2c1c5ca14e6ceba7d1e116c494629de36b9882cf014ae02814ce5/PyScreeze-0.1.27.tar.gz\n",
            "  Installing build dependencies ... \u001b[?25l\u001b[?25hdone\n",
            "  Getting requirements to build wheel ... \u001b[?25l\u001b[?25hdone\n",
            "    Preparing wheel metadata ... \u001b[?25l\u001b[?25hdone\n",
            "Collecting pygetwindow>=0.0.5\n",
            "  Downloading https://files.pythonhosted.org/packages/e1/70/c7a4f46dbf06048c6d57d9489b8e0f9c4c3d36b7479f03c5ca97eaa2541d/PyGetWindow-0.0.9.tar.gz\n",
            "Collecting mouseinfo\n",
            "  Downloading https://files.pythonhosted.org/packages/28/fa/b2ba8229b9381e8f6381c1dcae6f4159a7f72349e414ed19cfbbd1817173/MouseInfo-0.1.3.tar.gz\n",
            "Collecting python3-Xlib\n",
            "\u001b[?25l  Downloading https://files.pythonhosted.org/packages/ef/c6/2c5999de3bb1533521f1101e8fe56fd9c266732f4d48011c7c69b29d12ae/python3-xlib-0.15.tar.gz (132kB)\n",
            "\u001b[K     |████████████████████████████████| 133kB 5.8MB/s \n",
            "\u001b[?25hRequirement already satisfied: beautifulsoup4 in /usr/local/lib/python3.7/dist-packages (from wikipedia->pywhatkit) (4.6.3)\n",
            "Requirement already satisfied: urllib3!=1.25.0,!=1.25.1,<1.26,>=1.21.1 in /usr/local/lib/python3.7/dist-packages (from requests->pywhatkit) (1.24.3)\n",
            "Requirement already satisfied: chardet<4,>=3.0.2 in /usr/local/lib/python3.7/dist-packages (from requests->pywhatkit) (3.0.4)\n",
            "Requirement already satisfied: certifi>=2017.4.17 in /usr/local/lib/python3.7/dist-packages (from requests->pywhatkit) (2021.5.30)\n",
            "Requirement already satisfied: idna<3,>=2.5 in /usr/local/lib/python3.7/dist-packages (from requests->pywhatkit) (2.10)\n",
            "Collecting pyrect\n",
            "  Downloading https://files.pythonhosted.org/packages/2f/68/bd7bf96fc44217e769f27912e6c9bb3e9987cba286054af6120448ce8212/PyRect-0.1.4.tar.gz\n",
            "Collecting pyperclip\n",
            "  Downloading https://files.pythonhosted.org/packages/a7/2c/4c64579f847bd5d539803c8b909e54ba087a79d01bb3aba433a95879a6c5/pyperclip-1.8.2.tar.gz\n",
            "Building wheels for collected packages: pymsgbox, pyscreeze\n",
            "  Building wheel for pymsgbox (PEP 517) ... \u001b[?25l\u001b[?25hdone\n",
            "  Created wheel for pymsgbox: filename=PyMsgBox-1.0.9-cp37-none-any.whl size=7420 sha256=a02af68c81e0e57de07fc6af162bb72a544172d0f527e52bae9a651a2dece7ac\n",
            "  Stored in directory: /root/.cache/pip/wheels/16/d7/4e/fffdd54b1cca86608b7655c9a2854890a38f955ce9532848cd\n",
            "  Building wheel for pyscreeze (PEP 517) ... \u001b[?25l\u001b[?25hdone\n",
            "  Created wheel for pyscreeze: filename=PyScreeze-0.1.27-cp37-none-any.whl size=12891 sha256=28ee1e12d836eaa88d295d99f783c274ca244392fb023f00f2cf46abfaf6fb2a\n",
            "  Stored in directory: /root/.cache/pip/wheels/4d/c1/33/e7a099b5906e1110c51d32c957ad56df5a9976cd43153398df\n",
            "Successfully built pymsgbox pyscreeze\n",
            "Building wheels for collected packages: pyautogui, wikipedia, PyTweening, pygetwindow, mouseinfo, python3-Xlib, pyrect, pyperclip\n",
            "  Building wheel for pyautogui (setup.py) ... \u001b[?25l\u001b[?25hdone\n",
            "  Created wheel for pyautogui: filename=PyAutoGUI-0.9.52-cp37-none-any.whl size=35213 sha256=cbe6ee57017f0fb39176b58e77bafd75f3aaba204b2fc4cb556ed886f0f61f0d\n",
            "  Stored in directory: /root/.cache/pip/wheels/c8/ae/a9/62d83c8ea2068e8553766c8f6f5fbf1f61d264701cafeca49f\n",
            "  Building wheel for wikipedia (setup.py) ... \u001b[?25l\u001b[?25hdone\n",
            "  Created wheel for wikipedia: filename=wikipedia-1.4.0-cp37-none-any.whl size=11697 sha256=4af8117278f77363aeae86019da9aaf6682791ebc4b13d3fe9ed537e9d625bc3\n",
            "  Stored in directory: /root/.cache/pip/wheels/87/2a/18/4e471fd96d12114d16fe4a446d00c3b38fb9efcb744bd31f4a\n",
            "  Building wheel for PyTweening (setup.py) ... \u001b[?25l\u001b[?25hdone\n",
            "  Created wheel for PyTweening: filename=PyTweening-1.0.3-cp37-none-any.whl size=3814 sha256=14e065a3307356b70f4f27c1530c39d1363bc2d6ff781900352df52bfc5464dd\n",
            "  Stored in directory: /root/.cache/pip/wheels/7b/92/30/06e21159eed2709436bfb6d7c690959e578cf74f029643866e\n",
            "  Building wheel for pygetwindow (setup.py) ... \u001b[?25l\u001b[?25hdone\n",
            "  Created wheel for pygetwindow: filename=PyGetWindow-0.0.9-cp37-none-any.whl size=11081 sha256=a515843546d0fe226bfd313b65ac357833a3fd06ea295bb177b736a4602ef044\n",
            "  Stored in directory: /root/.cache/pip/wheels/4b/c1/c6/89b4fb35adcbfe54c5e71e830330dc39cfa231b32dc62eed6b\n",
            "  Building wheel for mouseinfo (setup.py) ... \u001b[?25l\u001b[?25hdone\n",
            "  Created wheel for mouseinfo: filename=MouseInfo-0.1.3-cp37-none-any.whl size=10907 sha256=06ac03fc8fa3d0a01f970b7fe2886dab37a3cec1cce64198450da0a9bd9dfce3\n",
            "  Stored in directory: /root/.cache/pip/wheels/eb/81/32/4d7b345486dbc3f3ee45316f8f4cbdebafc1b5d1da3353b529\n",
            "  Building wheel for python3-Xlib (setup.py) ... \u001b[?25l\u001b[?25hdone\n",
            "  Created wheel for python3-Xlib: filename=python3_xlib-0.15-cp37-none-any.whl size=109517 sha256=8217d6e73510c4109341d9a4c2ae00f454b2902fb507f44068abb6251198cfbc\n",
            "  Stored in directory: /root/.cache/pip/wheels/e9/be/31/bebab5ac079cfa8305381fa6ee15ea142eade1fec0c71e1278\n",
            "  Building wheel for pyrect (setup.py) ... \u001b[?25l\u001b[?25hdone\n",
            "  Created wheel for pyrect: filename=PyRect-0.1.4-py2.py3-none-any.whl size=9547 sha256=6b26d5b613b0ab89d85cbf113d547e1a3e6432128bc70c7a169711e42f77b029\n",
            "  Stored in directory: /root/.cache/pip/wheels/3e/61/83/8fd1478e984f7378e57972f5fd9bb0dbffc349fefc9efa5bf9\n",
            "  Building wheel for pyperclip (setup.py) ... \u001b[?25l\u001b[?25hdone\n",
            "  Created wheel for pyperclip: filename=pyperclip-1.8.2-cp37-none-any.whl size=11136 sha256=6f3d03e113f4dc84496cda65bb6ac9e57dc7b5deb96eb61695dcc6cd2b57d340\n",
            "  Stored in directory: /root/.cache/pip/wheels/25/af/b8/3407109267803f4015e1ee2ff23be0c8c19ce4008665931ee1\n",
            "Successfully built pyautogui wikipedia PyTweening pygetwindow mouseinfo python3-Xlib pyrect pyperclip\n",
            "Installing collected packages: pymsgbox, PyTweening, pyscreeze, pyrect, pygetwindow, pyperclip, python3-Xlib, mouseinfo, pyautogui, wikipedia, pywhatkit\n",
            "Successfully installed PyTweening-1.0.3 mouseinfo-0.1.3 pyautogui-0.9.52 pygetwindow-0.0.9 pymsgbox-1.0.9 pyperclip-1.8.2 pyrect-0.1.4 pyscreeze-0.1.27 python3-Xlib-0.15 pywhatkit-4.8 wikipedia-1.4.0\n"
          ],
          "name": "stdout"
        }
      ]
    },
    {
      "cell_type": "code",
      "metadata": {
        "id": "6J8lJq3M_uss"
      },
      "source": [
        "import pywhatkit\n",
        "pywhatkit.text_to_handwriting('''I love python\n",
        "''')"
      ],
      "execution_count": 8,
      "outputs": []
    },
    {
      "cell_type": "code",
      "metadata": {
        "colab": {
          "base_uri": "https://localhost:8080/"
        },
        "id": "tDSaLLZT_0kH",
        "outputId": "f9c82cd0-c571-4ace-a76a-6c8595808e95"
      },
      "source": [
        "import os\n",
        "shutdown = input(\"Do you want to shut down your computer (yes/no): \")\n",
        "if shutdown == 'yes':\n",
        "    os.system(\"shutdown /s /t l\")\n",
        "else:\n",
        "    print('Shutdown is not requested')"
      ],
      "execution_count": 9,
      "outputs": [
        {
          "output_type": "stream",
          "text": [
            "Do you want to shut down your computer (yes/no): np\n",
            "Shutdown is not requested\n"
          ],
          "name": "stdout"
        }
      ]
    },
    {
      "cell_type": "code",
      "metadata": {
        "colab": {
          "base_uri": "https://localhost:8080/"
        },
        "id": "fUuEuiaTAdzz",
        "outputId": "cab23d57-4914-4cce-e097-4a33244e8e5b"
      },
      "source": [
        "import calendar\n",
        "year = int(input(\"Enter the year of the required calendar \"))\n",
        "month = int(input(\"Enter the month of the required calendar \"))\n",
        "\n",
        "print(calendar.month(year,month))"
      ],
      "execution_count": 11,
      "outputs": [
        {
          "output_type": "stream",
          "text": [
            "Enter the year of the required calendar 2021\n",
            "Enter the month of the required calendar 4\n",
            "     April 2021\n",
            "Mo Tu We Th Fr Sa Su\n",
            "          1  2  3  4\n",
            " 5  6  7  8  9 10 11\n",
            "12 13 14 15 16 17 18\n",
            "19 20 21 22 23 24 25\n",
            "26 27 28 29 30\n",
            "\n"
          ],
          "name": "stdout"
        }
      ]
    },
    {
      "cell_type": "code",
      "metadata": {
        "colab": {
          "base_uri": "https://localhost:8080/",
          "height": 248
        },
        "id": "YT-GuQ_JAqfx",
        "outputId": "39bcef6b-2119-43d5-aa28-a60821448bc0"
      },
      "source": [
        "import matplotlib.pyplot as plt\n",
        "\n",
        "partition = 'Holidays', 'Eating_Out', 'Shopping', 'Groceries'\n",
        "sizes = [250, 100, 300, 200]\n",
        "\n",
        "fig1, ax1 = plt.subplots()\n",
        "ax1.pie(sizes, labels=partition, autopct='%1.1f%%', shadow=True,\n",
        "        startangle=90)\n",
        "ax1.axis('equal')\n",
        "plt.show()"
      ],
      "execution_count": 12,
      "outputs": [
        {
          "output_type": "display_data",
          "data": {
            "image/png": "[encoded data removed]",
            "text/plain": [
              "<Figure size 432x288 with 1 Axes>"
            ]
          },
          "metadata": {
            "tags": []
          }
        }
      ]
    },
    {
      "cell_type": "code",
      "metadata": {
        "colab": {
          "base_uri": "https://localhost:8080/"
        },
        "id": "wql4vcZpBZkI",
        "outputId": "7ca5e9e1-30e0-44d4-8c73-3a54fbf85a6e"
      },
      "source": [
        "pip install pyautogui"
      ],
      "execution_count": 14,
      "outputs": [
        {
          "output_type": "stream",
          "text": [
            "Requirement already satisfied: pyautogui in /usr/local/lib/python3.7/dist-packages (0.9.52)\n",
            "Requirement already satisfied: pyscreeze>=0.1.21 in /usr/local/lib/python3.7/dist-packages (from pyautogui) (0.1.27)\n",
            "Requirement already satisfied: python3-Xlib; platform_system == \"Linux\" and python_version >= \"3.0\" in /usr/local/lib/python3.7/dist-packages (from pyautogui) (0.15)\n",
            "Requirement already satisfied: mouseinfo in /usr/local/lib/python3.7/dist-packages (from pyautogui) (0.1.3)\n",
            "Requirement already satisfied: pymsgbox in /usr/local/lib/python3.7/dist-packages (from pyautogui) (1.0.9)\n",
            "Requirement already satisfied: pygetwindow>=0.0.5 in /usr/local/lib/python3.7/dist-packages (from pyautogui) (0.0.9)\n",
            "Requirement already satisfied: PyTweening>=1.0.1 in /usr/local/lib/python3.7/dist-packages (from pyautogui) (1.0.3)\n",
            "Requirement already satisfied: Pillow>=5.2.0; python_version == \"3.7\" in /usr/local/lib/python3.7/dist-packages (from pyscreeze>=0.1.21->pyautogui) (7.1.2)\n",
            "Requirement already satisfied: pyperclip in /usr/local/lib/python3.7/dist-packages (from mouseinfo->pyautogui) (1.8.2)\n",
            "Requirement already satisfied: pyrect in /usr/local/lib/python3.7/dist-packages (from pygetwindow>=0.0.5->pyautogui) (0.1.4)\n"
          ],
          "name": "stdout"
        }
      ]
    },
    {
      "cell_type": "code",
      "metadata": {
        "id": "q0RrRHugBIsl"
      },
      "source": [
        "import pyautogui\n",
        "\n",
        "num=int(input(\"Enter a value to divide 100\"))\n",
        "\n",
        "if num == 0:\n",
        "    pyautogui.alert(\"Alert!!! 100 cannot be divided by 0\")\n",
        "else:\n",
        "    print(f'The value is {100/num}')"
      ],
      "execution_count": 17,
      "outputs": []
    },
    {
      "cell_type": "code",
      "metadata": {
        "id": "BzuP-VeqBX_n"
      },
      "source": [
        "import pyttsx3\n",
        "engine = pyttsx3.int()\n",
        "engine.say('This is a python example in MEDIUM')\n",
        "engine.runAndWait()"
      ],
      "execution_count": 18,
      "outputs": []
    },
    {
      "cell_type": "code",
      "metadata": {
        "id": "hFin7DR2BpRH"
      },
      "source": [
        "import pyautogui\n",
        "screenshot = pyautogui.screenshot()\n",
        "screenshot.save(\"screenshot.png\")"
      ],
      "execution_count": 19,
      "outputs": []
    },
    {
      "cell_type": "code",
      "metadata": {
        "colab": {
          "base_uri": "https://localhost:8080/"
        },
        "id": "UT0WtUlICAfB",
        "outputId": "67f448b4-4ee4-4326-eeed-7b9eab27b6e0"
      },
      "source": [
        "pip install speedtest-cli"
      ],
      "execution_count": 20,
      "outputs": [
        {
          "output_type": "stream",
          "text": [
            "Collecting speedtest-cli\n",
            "  Downloading https://files.pythonhosted.org/packages/9f/39/65259b7054368b370d3183762484fa2c779ddc41633894d895f9d1720f45/speedtest_cli-2.1.3-py2.py3-none-any.whl\n",
            "Installing collected packages: speedtest-cli\n",
            "Successfully installed speedtest-cli-2.1.3\n"
          ],
          "name": "stdout"
        }
      ]
    },
    {
      "cell_type": "code",
      "metadata": {
        "colab": {
          "base_uri": "https://localhost:8080/"
        },
        "id": "trti2K06BxwI",
        "outputId": "f8fd53ae-750f-496e-f343-8e88841a1e8e"
      },
      "source": [
        "import speedtest\n",
        "speed = speedtest.Speedtest()\n",
        "download_speed = speed.download()\n",
        "upload_speed = speed.upload()\n",
        "print(f'The download speed is {download_speed}')\n",
        "print(f'The upload speed is {upload_speed}')"
      ],
      "execution_count": 21,
      "outputs": [
        {
          "output_type": "stream",
          "text": [
            "The download speed is 717229365.4035668\n",
            "The upload speed is 418501855.5967602\n"
          ],
          "name": "stdout"
        }
      ]
    },
    {
      "cell_type": "code",
      "metadata": {
        "colab": {
          "base_uri": "https://localhost:8080/"
        },
        "id": "WYVFWovCCHhc",
        "outputId": "5f24e567-6545-4747-dab8-ba93a66507e5"
      },
      "source": [
        "pip install PythonTurtle"
      ],
      "execution_count": 22,
      "outputs": [
        {
          "output_type": "stream",
          "text": [
            "Collecting PythonTurtle\n",
            "\u001b[?25l  Downloading https://files.pythonhosted.org/packages/5e/df/b83ffcf5626d59af2247d257cb252996df0559f2e07bec3de1bad9a619f0/PythonTurtle-0.3.2-py3-none-any.whl (518kB)\n",
            "\u001b[K     |████████████████████████████████| 522kB 4.0MB/s \n",
            "\u001b[?25hInstalling collected packages: PythonTurtle\n",
            "Successfully installed PythonTurtle-0.3.2\n"
          ],
          "name": "stdout"
        }
      ]
    },
    {
      "cell_type": "code",
      "metadata": {
        "id": "B3ySs_P0CA5V"
      },
      "source": [
        "import random\n",
        "import turtle\n",
        "colors = ['red','cyan','pink' ,'yellow', 'green','orange']\n",
        "t = turtle.Turtle()\n",
        "t.speed(10)\n",
        "turtle.bgcolor(\"black\")\n",
        "length=100\n",
        "angle =50\n",
        "size=5\n",
        "for i in range(length):\n",
        "    color=random.choice(colors)\n",
        "    t.pencolor(color)\n",
        "    t.fillcolor(color)\n",
        "    t.penup()\n",
        "    t.forward(i+50)\n",
        "    t.pendown()\n",
        "    t.left(angle)\n",
        "    t.begin_fill()\n",
        "    t.circle(size)\n",
        "    t.end_fill()\n",
        "turtle.exitonclick()\n",
        "turtle.bgcolor(\"black\")  "
      ],
      "execution_count": 24,
      "outputs": []
    }
  ]
}