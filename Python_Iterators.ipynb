{
  "nbformat": 4,
  "nbformat_minor": 0,
  "metadata": {
    "colab": {
      "name": "Python Iterators.ipynb",
      "provenance": [],
      "authorship_tag": "ABX9TyMKoKjvG/bghz4ybHo2GHNV"
    },
    "kernelspec": {
      "name": "python3",
      "display_name": "Python 3"
    }
  },
  "cells": [
    {
      "cell_type": "markdown",
      "metadata": {
        "id": "8ioWG5RxllZ1"
      },
      "source": [
        "[Reference](https://medium.com/pythonland/python-iterators-an-introduction-to-the-building-blocks-of-python-798d8adbec97)"
      ]
    },
    {
      "cell_type": "code",
      "metadata": {
        "colab": {
          "base_uri": "https://localhost:8080/",
          "height": 232
        },
        "id": "uZkfYNl2lZDV",
        "outputId": "49bd12f4-ad1b-4efd-ee0e-80f7f135aba2"
      },
      "source": [
        "my_iterable = range(1, 3) \n",
        "my_iterator = my_iterable.__iter__() \n",
        "my_iterator.__next__()\n",
        "my_iterator.__next__()\n",
        "my_iterator.__next__() "
      ],
      "execution_count": 1,
      "outputs": [
        {
          "output_type": "error",
          "ename": "StopIteration",
          "evalue": "ignored",
          "traceback": [
            "\u001b[0;31m---------------------------------------------------------------------------\u001b[0m",
            "\u001b[0;31mStopIteration\u001b[0m                             Traceback (most recent call last)",
            "\u001b[0;32m<ipython-input-1-2b3401c12d39>\u001b[0m in \u001b[0;36m<module>\u001b[0;34m()\u001b[0m\n\u001b[1;32m      3\u001b[0m \u001b[0mmy_iterator\u001b[0m\u001b[0;34m.\u001b[0m\u001b[0m__next__\u001b[0m\u001b[0;34m(\u001b[0m\u001b[0;34m)\u001b[0m\u001b[0;34m\u001b[0m\u001b[0;34m\u001b[0m\u001b[0m\n\u001b[1;32m      4\u001b[0m \u001b[0mmy_iterator\u001b[0m\u001b[0;34m.\u001b[0m\u001b[0m__next__\u001b[0m\u001b[0;34m(\u001b[0m\u001b[0;34m)\u001b[0m\u001b[0;34m\u001b[0m\u001b[0;34m\u001b[0m\u001b[0m\n\u001b[0;32m----> 5\u001b[0;31m \u001b[0mmy_iterator\u001b[0m\u001b[0;34m.\u001b[0m\u001b[0m__next__\u001b[0m\u001b[0;34m(\u001b[0m\u001b[0;34m)\u001b[0m\u001b[0;34m\u001b[0m\u001b[0;34m\u001b[0m\u001b[0m\n\u001b[0m",
            "\u001b[0;31mStopIteration\u001b[0m: "
          ]
        }
      ]
    },
    {
      "cell_type": "code",
      "metadata": {
        "colab": {
          "base_uri": "https://localhost:8080/"
        },
        "id": "QksR3j-0nUrK",
        "outputId": "f629dce4-bc51-402c-ca23-86a91587bcdc"
      },
      "source": [
        "mystring = \"ABC\"\n",
        "for letter in mystring:\n",
        "     print(letter)"
      ],
      "execution_count": 2,
      "outputs": [
        {
          "output_type": "stream",
          "text": [
            "A\n",
            "B\n",
            "C\n"
          ],
          "name": "stdout"
        }
      ]
    },
    {
      "cell_type": "code",
      "metadata": {
        "colab": {
          "base_uri": "https://localhost:8080/"
        },
        "id": "jhKrTtS2nhTu",
        "outputId": "104c4928-021a-496b-da54-00578acab413"
      },
      "source": [
        "mylist = ['A', 'B', 'C']\n",
        "for letter in mylist:\n",
        "     print(letter)"
      ],
      "execution_count": 3,
      "outputs": [
        {
          "output_type": "stream",
          "text": [
            "A\n",
            "B\n",
            "C\n"
          ],
          "name": "stdout"
        }
      ]
    },
    {
      "cell_type": "code",
      "metadata": {
        "colab": {
          "base_uri": "https://localhost:8080/"
        },
        "id": "-JJ32l-RnjzX",
        "outputId": "8b6452e4-a4d8-44e9-a3a0-e551f5462ea5"
      },
      "source": [
        "[x for x in 'ABC']"
      ],
      "execution_count": 4,
      "outputs": [
        {
          "output_type": "execute_result",
          "data": {
            "text/plain": [
              "['A', 'B', 'C']"
            ]
          },
          "metadata": {
            "tags": []
          },
          "execution_count": 4
        }
      ]
    },
    {
      "cell_type": "code",
      "metadata": {
        "colab": {
          "base_uri": "https://localhost:8080/"
        },
        "id": "rEISDMK7nmzV",
        "outputId": "15b049a2-94f4-4936-f25b-9bdafd5b771a"
      },
      "source": [
        "[x for x in [1, 2, 3,4] if x > 2]"
      ],
      "execution_count": 5,
      "outputs": [
        {
          "output_type": "execute_result",
          "data": {
            "text/plain": [
              "[3, 4]"
            ]
          },
          "metadata": {
            "tags": []
          },
          "execution_count": 5
        }
      ]
    },
    {
      "cell_type": "code",
      "metadata": {
        "colab": {
          "base_uri": "https://localhost:8080/"
        },
        "id": "azNYt-JMnnG-",
        "outputId": "3126f5ec-b0f7-43ca-a72c-8b5056e6b836"
      },
      "source": [
        "d = {'name': 'Alice', 'age': 23, 'country': 'NL' }\n",
        "for k in d:\n",
        "     print(k)"
      ],
      "execution_count": 6,
      "outputs": [
        {
          "output_type": "stream",
          "text": [
            "name\n",
            "age\n",
            "country\n"
          ],
          "name": "stdout"
        }
      ]
    },
    {
      "cell_type": "code",
      "metadata": {
        "colab": {
          "base_uri": "https://localhost:8080/"
        },
        "id": "YZxFbyHwnpVV",
        "outputId": "4de70948-142b-4e51-ab3d-c8a0793300c4"
      },
      "source": [
        "for k in d.values():\n",
        "     print(k)"
      ],
      "execution_count": 7,
      "outputs": [
        {
          "output_type": "stream",
          "text": [
            "Alice\n",
            "23\n",
            "NL\n"
          ],
          "name": "stdout"
        }
      ]
    },
    {
      "cell_type": "code",
      "metadata": {
        "colab": {
          "base_uri": "https://localhost:8080/"
        },
        "id": "6S1i-o6bnrbK",
        "outputId": "fd9daf37-798c-4bfa-f1b6-b8ad66e5a6df"
      },
      "source": [
        "for k,v in d.items():\n",
        "     print(k, v)"
      ],
      "execution_count": 8,
      "outputs": [
        {
          "output_type": "stream",
          "text": [
            "name Alice\n",
            "age 23\n",
            "country NL\n"
          ],
          "name": "stdout"
        }
      ]
    },
    {
      "cell_type": "code",
      "metadata": {
        "colab": {
          "base_uri": "https://localhost:8080/"
        },
        "id": "3LmKkyGTntC-",
        "outputId": "7960b184-6e19-440f-afb0-6b4f1b6eb59e"
      },
      "source": [
        "[f'{k}: {v}' for k, v in d.items()]"
      ],
      "execution_count": 9,
      "outputs": [
        {
          "output_type": "execute_result",
          "data": {
            "text/plain": [
              "['name: Alice', 'age: 23', 'country: NL']"
            ]
          },
          "metadata": {
            "tags": []
          },
          "execution_count": 9
        }
      ]
    },
    {
      "cell_type": "code",
      "metadata": {
        "colab": {
          "base_uri": "https://localhost:8080/"
        },
        "id": "5ywNvEBMnvlx",
        "outputId": "849b1896-c5ef-4948-d175-e9224c31f43b"
      },
      "source": [
        "list(range(1, 4))"
      ],
      "execution_count": 10,
      "outputs": [
        {
          "output_type": "execute_result",
          "data": {
            "text/plain": [
              "[1, 2, 3]"
            ]
          },
          "metadata": {
            "tags": []
          },
          "execution_count": 10
        }
      ]
    },
    {
      "cell_type": "code",
      "metadata": {
        "colab": {
          "base_uri": "https://localhost:8080/"
        },
        "id": "P2cc6CHcnxW4",
        "outputId": "70f9a2f0-115b-49fe-9a18-7ae2e627fbb5"
      },
      "source": [
        "set(range(1, 4))"
      ],
      "execution_count": 11,
      "outputs": [
        {
          "output_type": "execute_result",
          "data": {
            "text/plain": [
              "{1, 2, 3}"
            ]
          },
          "metadata": {
            "tags": []
          },
          "execution_count": 11
        }
      ]
    },
    {
      "cell_type": "code",
      "metadata": {
        "colab": {
          "base_uri": "https://localhost:8080/"
        },
        "id": "Bsi7b4fpnyHY",
        "outputId": "7c332ced-9bae-4400-b44f-42f0e62ffb2b"
      },
      "source": [
        "tuple(range(1, 4))"
      ],
      "execution_count": 12,
      "outputs": [
        {
          "output_type": "execute_result",
          "data": {
            "text/plain": [
              "(1, 2, 3)"
            ]
          },
          "metadata": {
            "tags": []
          },
          "execution_count": 12
        }
      ]
    },
    {
      "cell_type": "code",
      "metadata": {
        "id": "tXkxWQ3NnzHj"
      },
      "source": [
        "with open('cities.txt') as cities:\n",
        "    for line in cities:\n",
        "        proccess_city(line)"
      ],
      "execution_count": 13,
      "outputs": []
    },
    {
      "cell_type": "code",
      "metadata": {
        "colab": {
          "base_uri": "https://localhost:8080/"
        },
        "id": "t_yYZYbtn0KM",
        "outputId": "88a13a30-9f73-4502-b97b-1bf5f5b9bfba"
      },
      "source": [
        "class EvenNumbers:\n",
        "    last = 0\n",
        "    def __iter__(self):\n",
        "        return self\n",
        "        \n",
        "    def __next__(self):\n",
        "        self.last += 2\n",
        "        \n",
        "        if self.last > 8:\n",
        "            raise StopIteration\n",
        "        \n",
        "        return self.last\n",
        "        \n",
        "en = EvenNumbers()\n",
        "\n",
        "for num in en:\n",
        "    print(num)"
      ],
      "execution_count": 15,
      "outputs": [
        {
          "output_type": "stream",
          "text": [
            "2\n",
            "4\n",
            "6\n",
            "8\n"
          ],
          "name": "stdout"
        }
      ]
    }
  ]
}