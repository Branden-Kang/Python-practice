{
  "nbformat": 4,
  "nbformat_minor": 0,
  "metadata": {
    "colab": {
      "name": "Stop Using Python Decorators Redundantly.ipynb",
      "provenance": [],
      "authorship_tag": "ABX9TyO3WlgSsCvEWfH5qdI6FcS8"
    },
    "kernelspec": {
      "name": "python3",
      "display_name": "Python 3"
    },
    "language_info": {
      "name": "python"
    }
  },
  "cells": [
    {
      "cell_type": "markdown",
      "metadata": {
        "id": "ir95kVfFG2aN"
      },
      "source": [
        "[Reference](https://betterprogramming.pub/stop-using-python-decorators-redundantly-2f8467c9eeca)"
      ]
    },
    {
      "cell_type": "code",
      "metadata": {
        "colab": {
          "base_uri": "https://localhost:8080/"
        },
        "id": "sWMyBeiYGze0",
        "outputId": "bc306e8c-6ea2-48c8-e4a9-7c55a4ef8f2f"
      },
      "source": [
        "def input_args(func):\n",
        "    def logger(*args,**kwargs):\n",
        "        print (f\"{func.__name__} called with args {args} , kwargs {kwargs}\")\n",
        "        output = func(*args,**kwargs)\n",
        "        print (f\"Output of {func.__name__} is {output}\")\n",
        "        return output\n",
        "    return logger\n",
        "\n",
        "@input_args\n",
        "def decorator_check(param1, param2):\n",
        "    return param1 + param2\n",
        "\n",
        "print(decorator_check(1,2))"
      ],
      "execution_count": 1,
      "outputs": [
        {
          "output_type": "stream",
          "name": "stdout",
          "text": [
            "decorator_check called with args (1, 2) , kwargs {}\n",
            "Output of decorator_check is 3\n",
            "3\n"
          ]
        }
      ]
    },
    {
      "cell_type": "code",
      "metadata": {
        "id": "kaAvQr1lG5ul"
      },
      "source": [
        "class Child:\n",
        "\n",
        "    @input_args\n",
        "    def fn1(self):\n",
        "        print (\"fn1 called\")\n",
        "        return 1\n",
        "\n",
        "    @input_args\n",
        "    def fn2(self):\n",
        "        print(\"fn2 called\")\n",
        "        return 2"
      ],
      "execution_count": 2,
      "outputs": []
    },
    {
      "cell_type": "code",
      "metadata": {
        "id": "yf9aNir2G7ir"
      },
      "source": [
        "class Parent(type):\n",
        "    \n",
        "    def __init__(cls, name, bases, dct):\n",
        "        # Check all the items of base class\n",
        "        for name, method in dct.items():\n",
        "            # If method is function\n",
        "            if type(method).__name__ in [\"function\"] and name not in [\"logger\"]: \n",
        "                setattr(cls, name, input_args(method))"
      ],
      "execution_count": 3,
      "outputs": []
    },
    {
      "cell_type": "code",
      "metadata": {
        "colab": {
          "base_uri": "https://localhost:8080/"
        },
        "id": "EEKNR9TcG9CD",
        "outputId": "009d9467-af4f-49e4-d868-2d53e8564b58"
      },
      "source": [
        "def input_args(func):\n",
        "    def logger(*args, **kwargs):\n",
        "        print(f\"{func.__name__} called with args {args} , kwargs {kwargs}\")\n",
        "        output = func(*args, **kwargs)\n",
        "        print(f\"Output of {func.__name__} is {output}\")\n",
        "        return output\n",
        "\n",
        "    return logger\n",
        "\n",
        "\n",
        "class Parent(type):\n",
        "\n",
        "    def __init__(cls, name, bases, dct):\n",
        "        # Check all the items of base class\n",
        "        for name, method in dct.items():\n",
        "            # If method is function\n",
        "            if type(method).__name__ in [\"function\"] and name not in [\"logger\"]:\n",
        "                setattr(cls, name, input_args(method))\n",
        "\n",
        "\n",
        "class Child(metaclass=Parent):\n",
        "\n",
        "    # Summation\n",
        "    def fn1(self, arg1, arg2):\n",
        "        return arg1 + arg2\n",
        "\n",
        "    # Subtraction\n",
        "    def fn2(self, arg1, arg2):\n",
        "        return arg1 - arg2\n",
        "\n",
        "\n",
        "c = Child()\n",
        "print(c.fn1(2, 3))\n",
        "print(c.fn2(3, 2))"
      ],
      "execution_count": 4,
      "outputs": [
        {
          "output_type": "stream",
          "name": "stdout",
          "text": [
            "fn1 called with args (<__main__.Child object at 0x7fa404972110>, 2, 3) , kwargs {}\n",
            "Output of fn1 is 5\n",
            "5\n",
            "fn2 called with args (<__main__.Child object at 0x7fa404972110>, 3, 2) , kwargs {}\n",
            "Output of fn2 is 1\n",
            "1\n"
          ]
        }
      ]
    }
  ]
}