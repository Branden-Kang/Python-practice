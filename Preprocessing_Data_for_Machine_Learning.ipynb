{
  "nbformat": 4,
  "nbformat_minor": 0,
  "metadata": {
    "colab": {
      "name": "Preprocessing Data for Machine Learning.ipynb",
      "provenance": [],
      "authorship_tag": "ABX9TyPp9rr08kz3kT3oY1lXDFfY"
    },
    "kernelspec": {
      "name": "python3",
      "display_name": "Python 3"
    },
    "language_info": {
      "name": "python"
    }
  },
  "cells": [
    {
      "cell_type": "code",
      "execution_count": null,
      "metadata": {
        "id": "5qwFGEK5fiXK"
      },
      "outputs": [],
      "source": [
        "# Create music_dummies\n",
        "music_dummies = pd.get_dummies(music_df,drop_first =True)\n",
        "# Print the new DataFrame's shape\n",
        "print(\"Shape of music_dummies: {}\".format(music_dummies.shape))\n",
        "\n",
        "# Create X and y\n",
        "X = music_dummies.drop('popularity',axis=1).values\n",
        "y = music_dummies['popularity'].values\n",
        "kf = KFold(n_splits=5, random_state=42, shuffle=True)\n",
        "# Instantiate a ridge model\n",
        "ridge = Ridge(alpha = 0.2)\n",
        "# Perform cross-validation\n",
        "scores = cross_val_score(ridge, X, y, cv=kf, scoring=\"neg_mean_squared_error\")\n",
        "# Calculate RMSE\n",
        "rmse = np.sqrt(-scores)\n",
        "print(\"Average RMSE: {}\".format(np.mean(rmse)))\n",
        "print(\"Standard Deviation of the target array: {}\".format(np.std(y)))\n",
        "\n",
        "# Print missing values for each column\n",
        "print(music_df.isna().sum().sort_values())\n",
        "\n",
        "# Print missing values for each column\n",
        "print(music_df.isna().sum().sort_values())\n",
        "# Remove values where less than 5% are missing\n",
        "music_df = music_df.dropna(subset=['genre','popularity','loudness','liveness','tempo'])\n",
        "\n",
        "# Print missing values for each column\n",
        "print(music_df.isna().sum().sort_values())\n",
        "# Remove values where less than 5% are missing\n",
        "music_df = music_df.dropna(subset=[\"genre\", \"popularity\", \"loudness\", \"liveness\", \"tempo\"])\n",
        "# Convert genre to a binary feature\n",
        "music_df[\"genre\"] = np.where(music_df[\"genre\"] == \"Rock\", 1, 0)\n",
        "print(music_df.isna().sum().sort_values())\n",
        "print(\"Shape of the `music_df`: {}\".format(music_df.shape))\n",
        "\n",
        "# Import modules\n",
        "from sklearn.impute import SimpleImputer\n",
        "from sklearn.pipeline import Pipeline\n",
        "from sklearn.model_selection import cross_val_score, KFold, train_test_split\n",
        "# Instantiate an imputer\n",
        "imputer = SimpleImputer()\n",
        "# Instantiate a knn model\n",
        "knn = KNeighborsClassifier(n_neighbors=3)\n",
        "# Build steps for the pipeline\n",
        "steps = [(\"imputer\", imputer), \n",
        "         (\"knn\", knn)]\n",
        "# Create the pipeline\n",
        "pipeline = Pipeline(steps)\n",
        "X_train, X_test, y_train, y_test = train_test_split(X, y, test_size=0.3,                                                    random_state=42)\n",
        "# Fit the pipeline to the training data\n",
        "pipeline.fit(X_train,y_train)\n",
        "# Make predictions on the test set\n",
        "y_pred = pipeline.predict(X_test)\n",
        "# Print the confusion matrix\n",
        "print(confusion_matrix(y_test, y_pred))"
      ]
    }
  ]
}