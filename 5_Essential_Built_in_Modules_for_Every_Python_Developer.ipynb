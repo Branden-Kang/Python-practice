{
  "nbformat": 4,
  "nbformat_minor": 0,
  "metadata": {
    "colab": {
      "provenance": [],
      "authorship_tag": "ABX9TyMkU/YcyxhM1BYyimLMpP6+"
    },
    "kernelspec": {
      "name": "python3",
      "display_name": "Python 3"
    },
    "language_info": {
      "name": "python"
    }
  },
  "cells": [
    {
      "cell_type": "markdown",
      "source": [
        "[Reference](https://medium.com/pythons-gurus/5-essential-built-in-modules-for-every-python-developer-c5b568cc9897)"
      ],
      "metadata": {
        "id": "0FQ1tbokxwKG"
      }
    },
    {
      "cell_type": "markdown",
      "source": [
        "# The os Module"
      ],
      "metadata": {
        "id": "RlnE7Cx1xzCc"
      }
    },
    {
      "cell_type": "code",
      "execution_count": 1,
      "metadata": {
        "colab": {
          "base_uri": "https://localhost:8080/"
        },
        "id": "kWel00R0xujx",
        "outputId": "00eb7416-572e-4650-b66e-ee86aa788db6"
      },
      "outputs": [
        {
          "output_type": "stream",
          "name": "stdout",
          "text": [
            "Current Directory: /content\n",
            "Directory after change: /tmp\n",
            "Contents of the directory: ['language_service.INFO', 'python-languageserver-cancellation', 'initgoogle_syslog_dir.0', 'colab_runtime.sock', 'dap_multiplexer.9265a1d33378.root.log.INFO.20240813-124545.81', 'language_service.9265a1d33378.root.log.INFO.20240813-124730.552', 'dap_multiplexer.INFO', 'tmp4169d3rq', 'debugger_1cqqgxbd0j']\n",
            "Contents after creating new directory: ['language_service.INFO', 'python-languageserver-cancellation', 'initgoogle_syslog_dir.0', 'colab_runtime.sock', 'dap_multiplexer.9265a1d33378.root.log.INFO.20240813-124545.81', 'language_service.9265a1d33378.root.log.INFO.20240813-124730.552', 'dap_multiplexer.INFO', 'tmp4169d3rq', 'debugger_1cqqgxbd0j', 'new_directory']\n",
            "Contents after removing directory: ['language_service.INFO', 'python-languageserver-cancellation', 'initgoogle_syslog_dir.0', 'colab_runtime.sock', 'dap_multiplexer.9265a1d33378.root.log.INFO.20240813-124545.81', 'language_service.9265a1d33378.root.log.INFO.20240813-124730.552', 'dap_multiplexer.INFO', 'tmp4169d3rq', 'debugger_1cqqgxbd0j']\n",
            "Joined Path: /tmp/test.txt\n",
            "Does the path exist? False\n",
            "Home Directory: /root\n"
          ]
        }
      ],
      "source": [
        "import os\n",
        "\n",
        "# Get the current working directory\n",
        "current_directory = os.getcwd()\n",
        "print(f\"Current Directory: {current_directory}\")\n",
        "\n",
        "# Change the current working directory\n",
        "os.chdir('/tmp')\n",
        "print(f\"Directory after change: {os.getcwd()}\")\n",
        "\n",
        "# List files and directories in the current directory\n",
        "print(f\"Contents of the directory: {os.listdir()}\")\n",
        "\n",
        "# Create a new directory\n",
        "os.mkdir('new_directory')\n",
        "print(f\"Contents after creating new directory: {os.listdir()}\")\n",
        "\n",
        "# Remove the created directory\n",
        "os.rmdir('new_directory')\n",
        "print(f\"Contents after removing directory: {os.listdir()}\")\n",
        "\n",
        "# Join two paths\n",
        "path = os.path.join('/tmp', 'test.txt')\n",
        "print(f\"Joined Path: {path}\")\n",
        "\n",
        "# Check if a path exists\n",
        "print(f\"Does the path exist? {os.path.exists(path)}\")\n",
        "\n",
        "# Get an environment variable\n",
        "home_directory = os.environ.get('HOME')\n",
        "print(f\"Home Directory: {home_directory}\")"
      ]
    },
    {
      "cell_type": "markdown",
      "source": [
        "# The sys Module"
      ],
      "metadata": {
        "id": "scCwqFsDx2rL"
      }
    },
    {
      "cell_type": "code",
      "source": [
        "import sys\n",
        "\n",
        "# Print command-line arguments\n",
        "print(\"Command-line arguments:\")\n",
        "for arg in sys.argv:\n",
        "    print(arg)\n",
        "\n",
        "# Get the Python version\n",
        "print(f\"Python Version: {sys.version}\")\n",
        "\n",
        "# Print the platform information\n",
        "print(f\"Platform: {sys.platform}\")\n",
        "\n",
        "# Print the current recursion limit\n",
        "print(f\"Current recursion limit: {sys.getrecursionlimit()}\")\n",
        "\n",
        "# Set a new recursion limit\n",
        "sys.setrecursionlimit(2000)\n",
        "print(f\"New recursion limit: {sys.getrecursionlimit()}\")\n",
        "\n",
        "# Print the list of module search paths\n",
        "print(\"Module search paths:\")\n",
        "for path in sys.path:\n",
        "    print(path)\n",
        "\n",
        "# Print the size of an object in bytes\n",
        "sample_object = \"Hello, World!\"\n",
        "print(f\"Size of sample_object: {sys.getsizeof(sample_object)} bytes\")\n",
        "\n",
        "# Redirect standard output\n",
        "original_stdout = sys.stdout  # Save a reference to the original standard output\n",
        "with open('output.txt', 'w') as f:\n",
        "    sys.stdout = f  # Change the standard output to the file we created\n",
        "    print(\"This will be written to the file.\")\n",
        "    sys.stdout = original_stdout  # Reset the standard output to its original value\n",
        "    sys.stdout = sys.__stdout__  # Reset standard output to console\n",
        "\n",
        "# Redirect standard error\n",
        "sys.stderr.write(\"This is an error message.\\n\")\n",
        "\n",
        "# Exit the program\n",
        "# Exit the script with a status code\n",
        "print(\"Exiting the script with status code 0.\")\n",
        "sys.exit(0)"
      ],
      "metadata": {
        "colab": {
          "base_uri": "https://localhost:8080/",
          "height": 496
        },
        "id": "HztIsaGAx1Kq",
        "outputId": "d7e77c8c-8acd-41c3-a03c-2dc1ec8fcf58"
      },
      "execution_count": 2,
      "outputs": [
        {
          "output_type": "stream",
          "name": "stderr",
          "text": [
            "This is an error message.\n"
          ]
        },
        {
          "output_type": "error",
          "ename": "SystemExit",
          "evalue": "0",
          "traceback": [
            "An exception has occurred, use %tb to see the full traceback.\n",
            "\u001b[0;31mSystemExit\u001b[0m\u001b[0;31m:\u001b[0m 0\n"
          ]
        },
        {
          "output_type": "stream",
          "name": "stderr",
          "text": [
            "/usr/local/lib/python3.10/dist-packages/IPython/core/interactiveshell.py:3561: UserWarning: To exit: use 'exit', 'quit', or Ctrl-D.\n",
            "  warn(\"To exit: use 'exit', 'quit', or Ctrl-D.\", stacklevel=1)\n"
          ]
        },
        {
          "output_type": "stream",
          "name": "stdout",
          "text": [
            "Command-line arguments:\n",
            "/usr/local/lib/python3.10/dist-packages/colab_kernel_launcher.py\n",
            "-f\n",
            "/root/.local/share/jupyter/runtime/kernel-0695df8b-1519-4458-bde0-bcfff1ac7db5.json\n",
            "Python Version: 3.10.12 (main, Jul 29 2024, 16:56:48) [GCC 11.4.0]\n",
            "Platform: linux\n",
            "Current recursion limit: 1000\n",
            "New recursion limit: 2000\n",
            "Module search paths:\n",
            "/content\n",
            "/env/python\n",
            "/usr/lib/python310.zip\n",
            "/usr/lib/python3.10\n",
            "/usr/lib/python3.10/lib-dynload\n",
            "\n",
            "/usr/local/lib/python3.10/dist-packages\n",
            "/usr/lib/python3/dist-packages\n",
            "/usr/local/lib/python3.10/dist-packages/IPython/extensions\n",
            "/usr/local/lib/python3.10/dist-packages/setuptools/_vendor\n",
            "/root/.ipython\n",
            "Size of sample_object: 62 bytes\n"
          ]
        }
      ]
    },
    {
      "cell_type": "markdown",
      "source": [
        "# The datetime Module"
      ],
      "metadata": {
        "id": "28wUDK41x5sH"
      }
    },
    {
      "cell_type": "code",
      "source": [
        "from datetime import datetime, timedelta\n",
        "\n",
        "# Get the current date and time\n",
        "now = datetime.now()\n",
        "print(f\"Current Date and Time: {now}\")\n",
        "# output: Current Date and Time: 2024-07-19 10:50:39\n",
        "\n",
        "# Create a specific date\n",
        "specific_date = datetime(2022, 1, 1, 12, 0)\n",
        "print(f\"Specific Date and Time: {specific_date}\")\n",
        "# output: Specific Date and Time: 2022-01-01 12:00:00)\n",
        "\n",
        "# Date arithmetic: Adding 7 days to the current date\n",
        "future_date = now + timedelta(days=7)\n",
        "print(f\"Date 7 days from now: {future_date}\")\n",
        "# output: Date 7 days from now: 2024-07-26 10:50:39\n",
        "\n",
        "# Date arithmetic: Subtracting 7 days from the current date\n",
        "past_date = now - timedelta(days=7)\n",
        "print(f\"Date 7 days ago: {past_date}\")\n",
        "# output: Date 7 days ago: 2024-07-12 10:50:39\n",
        "\n",
        "# Formatting dates: Convert a date to a string\n",
        "formatted_date = now.strftime(\"%Y-%m-%d %H:%M:%S\")\n",
        "print(f\"Formatted Date: {formatted_date}\")\n",
        "# output: Formatted Date: 2024-07-19 10:50:39\n",
        "\n",
        "# Parsing dates: Convert a string to a date\n",
        "date_string = \"2023-07-19 12:00:00\"\n",
        "parsed_date = datetime.strptime(date_string, \"%Y-%m-%d %H:%M:%S\")\n",
        "print(f\"Parsed Date: {parsed_date}\")\n",
        "# output: Parsed Date: datetime.datetime(2023, 7, 19, 12, 0)\n",
        "\n",
        "# Calculate the difference between two dates\n",
        "date_difference = future_date - specific_date\n",
        "print(f\"Difference between dates: {date_difference}\")"
      ],
      "metadata": {
        "id": "6ciSUffAx4o9"
      },
      "execution_count": 3,
      "outputs": []
    },
    {
      "cell_type": "markdown",
      "source": [
        "# The json Module"
      ],
      "metadata": {
        "id": "8OHrTbBux8vc"
      }
    },
    {
      "cell_type": "code",
      "source": [
        "import json\n",
        "\n",
        "# Sample JSON data\n",
        "json_data = '''\n",
        "{\n",
        "    \"name\": \"Alice\",\n",
        "    \"age\": 20,\n",
        "    \"city\": \"London\",\n",
        "    \"is_student\": false,\n",
        "    \"courses\": [\"Math\", \"Computer Science\"],\n",
        "    \"address\": {\n",
        "        \"street\": \"123 Main St\",\n",
        "        \"zip\": \"A10001\"\n",
        "    }\n",
        "}\n",
        "'''\n",
        "\n",
        "# Parse JSON data from a string\n",
        "data = json.loads(json_data)\n",
        "print(f\"Parsed JSON data: {data}\")\n",
        "\n",
        "# Accessing values (This will print each key-value pair from the dictionary)\n",
        "print(f\"Name: {data['name']}\")\n",
        "print(f\"Age: {data['age']}\")\n",
        "print(f\"City: {data['city']}\")\n",
        "print(f\"Is Student: {data['is_student']}\")\n",
        "print(f\"Courses: {data['courses']}\")\n",
        "print(f\"Street: {data['address']['street']}\")\n",
        "print(f\"ZIP Code: {data['address']['zip']}\")\n",
        "\n",
        "# Modify the data (This will change the value for the 'age' key)\n",
        "data['age'] = 31\n",
        "\n",
        "# Convert Python object to JSON string\n",
        "json_string = json.dumps(data, indent=4)\n",
        "print(f\"Modified JSON data: {json_string}\")\n",
        "\n",
        "# Write JSON data to a file (This will create a new file named 'data.json' and write the formatted JSON string to it)\n",
        "with open('data.json', 'w') as json_file:\n",
        "    json.dump(data, json_file, indent=4)"
      ],
      "metadata": {
        "id": "vzsfcF2Yx7dy"
      },
      "execution_count": 4,
      "outputs": []
    },
    {
      "cell_type": "markdown",
      "source": [
        "# The collections Module"
      ],
      "metadata": {
        "id": "ldDZ1_Tfx_xv"
      }
    },
    {
      "cell_type": "code",
      "source": [
        "from collections import namedtuple, deque, Counter, defaultdict, OrderedDict\n",
        "\n",
        "# namedtuple\n",
        "Point = namedtuple('Point', ['x', 'y'])\n",
        "p = Point(10, 20)\n",
        "print(f\"Point: x={p.x}, y={p.y}\")\n",
        "\n",
        "# deque\n",
        "d = deque(['a', 'b', 'c'])\n",
        "d.append('d')\n",
        "d.appendleft('z')\n",
        "print(f\"Deque: {d}\")\n",
        "d.pop()\n",
        "d.popleft()\n",
        "print(f\"Deque after pops: {d}\")\n",
        "\n",
        "# Counter\n",
        "counter = Counter(['apple', 'banana', 'apple', 'orange', 'banana', 'apple'])\n",
        "print(f\"Counter: {counter}\")\n",
        "print(f\"Most common: {counter.most_common(1)}\")\n",
        "\n",
        "# defaultdict\n",
        "default_dict = defaultdict(int)\n",
        "default_dict['key1'] += 1\n",
        "print(f\"defaultdict: {default_dict}\")\n",
        "\n",
        "# OrderedDict\n",
        "ordered_dict = OrderedDict()\n",
        "ordered_dict['a'] = 1\n",
        "ordered_dict['b'] = 2\n",
        "ordered_dict['c'] = 3\n",
        "print(f\"OrderedDict: {ordered_dict}\")"
      ],
      "metadata": {
        "id": "7-3NXvFAx-by"
      },
      "execution_count": 5,
      "outputs": []
    }
  ]
}