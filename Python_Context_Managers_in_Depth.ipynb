{
  "nbformat": 4,
  "nbformat_minor": 0,
  "metadata": {
    "colab": {
      "name": "Python Context Managers in Depth.ipynb",
      "provenance": [],
      "authorship_tag": "ABX9TyNa3EDrvfGUoqQMKQqCGDq1"
    },
    "kernelspec": {
      "name": "python3",
      "display_name": "Python 3"
    }
  },
  "cells": [
    {
      "cell_type": "markdown",
      "metadata": {
        "id": "_z7xDyxWRWVR"
      },
      "source": [
        "[Reference](https://levelup.gitconnected.com/python-context-managers-in-depth-52dd2dd2624b)"
      ]
    },
    {
      "cell_type": "code",
      "metadata": {
        "colab": {
          "base_uri": "https://localhost:8080/"
        },
        "id": "V6qJya9uPnDJ",
        "outputId": "2cad18cd-4f83-4bdc-cf8c-ff4e07b15d5e"
      },
      "source": [
        "class TestContextManager:\n",
        "    def __enter__(self):\n",
        "        print('Entered into context manager!')\n",
        "\n",
        "    def __exit__(self, *args):\n",
        "        print('Exiting context manager!')\n",
        "\n",
        "\n",
        "with TestContextManager():\n",
        "    print('Inside context manager!')"
      ],
      "execution_count": 1,
      "outputs": [
        {
          "output_type": "stream",
          "text": [
            "Entered into context manager!\n",
            "Inside context manager!\n",
            "Exiting context manager!\n"
          ],
          "name": "stdout"
        }
      ]
    },
    {
      "cell_type": "markdown",
      "metadata": {
        "id": "6KUoD45WRbwX"
      },
      "source": [
        "# contextlib module"
      ]
    },
    {
      "cell_type": "code",
      "metadata": {
        "id": "OMtr6ElFRZ2E"
      },
      "source": [
        "from contextlib import contextmanager\n",
        "\n",
        "\n",
        "@contextmanager\n",
        "def get_log_file():\n",
        "    f = open('log.txt', 'w')\n",
        "    try:\n",
        "        yield f\n",
        "    finally:\n",
        "        f.close()\n",
        "\n",
        "\n",
        "with get_log_file() as f:\n",
        "    f.write('hello world')"
      ],
      "execution_count": 2,
      "outputs": []
    }
  ]
}