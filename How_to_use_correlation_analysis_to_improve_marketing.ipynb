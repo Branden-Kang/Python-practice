{
  "nbformat": 4,
  "nbformat_minor": 0,
  "metadata": {
    "colab": {
      "name": "How to use correlation analysis to improve marketing.ipynb",
      "provenance": [],
      "authorship_tag": "ABX9TyO2v2AWAk0EAIvIpduwFi1A"
    },
    "kernelspec": {
      "name": "python3",
      "display_name": "Python 3"
    },
    "language_info": {
      "name": "python"
    }
  },
  "cells": [
    {
      "cell_type": "markdown",
      "source": [
        "[Reference](https://github.com/bonheurgirl/Marketing-Analytics-Python/blob/main/How%20to%20use%20correlation%20analysis%20to%20improve%20marketing%20performance.ipynb)"
      ],
      "metadata": {
        "id": "VoiLiWFu2Mx-"
      }
    },
    {
      "cell_type": "markdown",
      "source": [
        "# Import Packages"
      ],
      "metadata": {
        "id": "F_rjKqgS2QgR"
      }
    },
    {
      "cell_type": "code",
      "execution_count": 1,
      "metadata": {
        "colab": {
          "base_uri": "https://localhost:8080/"
        },
        "id": "sX1gd-CI2Gwh",
        "outputId": "0f5ec608-9d34-4f47-c821-dfcf2a0de72a"
      },
      "outputs": [
        {
          "output_type": "stream",
          "name": "stderr",
          "text": [
            "/usr/local/lib/python3.7/dist-packages/statsmodels/tools/_testing.py:19: FutureWarning: pandas.util.testing is deprecated. Use the functions in the public API at pandas.testing instead.\n",
            "  import pandas.util.testing as tm\n"
          ]
        }
      ],
      "source": [
        "#Locate imported packages\n",
        "import sys\n",
        "sys.path\n",
        "\n",
        "#import pandas and numpy\n",
        "import pandas as pd\n",
        "import numpy as np\n",
        "\n",
        "# From matplotlib, import pyplot under the alias plt\n",
        "from matplotlib import pyplot as plt\n",
        "\n",
        "#Import Seaborn\n",
        "import seaborn as sns\n",
        "\n",
        "#Import statsmodels ols function\n",
        "from statsmodels.formula.api import ols"
      ]
    },
    {
      "cell_type": "markdown",
      "source": [
        "# Import & Inspect Dataset\n"
      ],
      "metadata": {
        "id": "syAy7BAV3gtp"
      }
    },
    {
      "cell_type": "code",
      "source": [
        "#Import data\n",
        "df = pd.read_csv(\"https://raw.githubusercontent.com/Branden-Kang/Python-practice/master/Data/mktmix.csv\")\n",
        "\n",
        "print(df.head(5))"
      ],
      "metadata": {
        "colab": {
          "base_uri": "https://localhost:8080/"
        },
        "id": "1sk2az_G2R2k",
        "outputId": "1c49044b-d14c-4238-f495-eb1ae50c58f5"
      },
      "execution_count": 2,
      "outputs": [
        {
          "output_type": "stream",
          "name": "stdout",
          "text": [
            "   NewVolSales  Base_Price  Radio   InStore NewspaperInserts  Discount  \\\n",
            "0        19564   15.029276   245.0   15.452              NaN     0.000   \n",
            "1        19387   15.029276   314.0   16.388              NaN     0.000   \n",
            "2        23889   14.585093   324.0   62.692              NaN     0.050   \n",
            "3        20055   15.332887   298.0   16.573              NaN     0.000   \n",
            "4        20064   15.642632   279.0   41.504              NaN     0.045   \n",
            "\n",
            "           TV    Stout Website_Campaign   \n",
            "0  101.780000  2.28342               NaN  \n",
            "1   76.734000  2.22134               NaN  \n",
            "2  131.590200  2.00604               NaN  \n",
            "3  119.627060  2.19897               NaN  \n",
            "4  103.438118  1.81860               NaN  \n"
          ]
        }
      ]
    },
    {
      "cell_type": "code",
      "source": [
        "# Check column data types and check for non-missing values\n",
        "print(df.info())"
      ],
      "metadata": {
        "colab": {
          "base_uri": "https://localhost:8080/"
        },
        "id": "jZcRkOhS3kGp",
        "outputId": "0e9ebbce-6ee9-4ddb-9785-21a39206562c"
      },
      "execution_count": 3,
      "outputs": [
        {
          "output_type": "stream",
          "name": "stdout",
          "text": [
            "<class 'pandas.core.frame.DataFrame'>\n",
            "RangeIndex: 104 entries, 0 to 103\n",
            "Data columns (total 9 columns):\n",
            " #   Column             Non-Null Count  Dtype  \n",
            "---  ------             --------------  -----  \n",
            " 0   NewVolSales        104 non-null    int64  \n",
            " 1   Base_Price         104 non-null    float64\n",
            " 2   Radio              100 non-null    float64\n",
            " 3   InStore            104 non-null    float64\n",
            " 4   NewspaperInserts   6 non-null      object \n",
            " 5   Discount           104 non-null    float64\n",
            " 6   TV                 104 non-null    float64\n",
            " 7   Stout              104 non-null    float64\n",
            " 8   Website_Campaign   14 non-null     object \n",
            "dtypes: float64(6), int64(1), object(2)\n",
            "memory usage: 7.4+ KB\n",
            "None\n"
          ]
        }
      ]
    },
    {
      "cell_type": "code",
      "source": [
        "# Check Summary statistics\n",
        "print(df.describe())"
      ],
      "metadata": {
        "colab": {
          "base_uri": "https://localhost:8080/"
        },
        "id": "z2Fdw31a3ld2",
        "outputId": "0bcfdeac-7339-4cca-c938-5fd4fb381839"
      },
      "execution_count": 4,
      "outputs": [
        {
          "output_type": "stream",
          "name": "stdout",
          "text": [
            "        NewVolSales  Base_Price      Radio      InStore    Discount  \\\n",
            "count    104.000000  104.000000  100.000000  104.000000  104.000000   \n",
            "mean   20171.067308   15.306740  256.690000   32.918567    0.022059   \n",
            "std     1578.604670    0.528902   86.994682   13.682570    0.027668   \n",
            "min    17431.000000   13.735724    0.000000   10.782000    0.000000   \n",
            "25%    19048.750000   15.029276  235.000000   22.183750    0.000000   \n",
            "50%    19943.500000   15.332887  278.500000   31.161500    0.000000   \n",
            "75%    20942.750000   15.642632  313.250000   41.079000    0.049423   \n",
            "max    24944.000000   16.281020  399.000000   68.119000    0.090763   \n",
            "\n",
            "               TV       Stout  \n",
            "count  104.000000  104.000000  \n",
            "mean   141.009774    2.545966  \n",
            "std     42.949231    0.310070  \n",
            "min     37.656174    1.818600  \n",
            "25%    117.108343    2.316450  \n",
            "50%    138.581542    2.502120  \n",
            "75%    175.681780    2.814315  \n",
            "max    240.291967    3.158620  \n"
          ]
        }
      ]
    },
    {
      "cell_type": "code",
      "source": [
        "#display all column names of DataFrame - check were imported correctly\n",
        "print(df.columns.tolist())"
      ],
      "metadata": {
        "colab": {
          "base_uri": "https://localhost:8080/"
        },
        "id": "UuO4tSV93m0i",
        "outputId": "50148ff2-ee91-4c30-d64d-0a39890e4029"
      },
      "execution_count": 5,
      "outputs": [
        {
          "output_type": "stream",
          "name": "stdout",
          "text": [
            "['NewVolSales', 'Base_Price', 'Radio ', 'InStore', 'NewspaperInserts', 'Discount', 'TV', 'Stout', 'Website_Campaign ']\n"
          ]
        }
      ]
    },
    {
      "cell_type": "code",
      "source": [
        "# remove extra whitespace\n",
        "df.columns = df.columns.str.replace(' ', '')"
      ],
      "metadata": {
        "id": "xrbdtgCD3obi"
      },
      "execution_count": 6,
      "outputs": []
    },
    {
      "cell_type": "code",
      "source": [
        "#Let's print the results of the removal\n",
        "print(df.columns.tolist())"
      ],
      "metadata": {
        "colab": {
          "base_uri": "https://localhost:8080/"
        },
        "id": "CRL5RE0V3p2N",
        "outputId": "0d1873df-d8c3-4be2-b83e-2493266412fb"
      },
      "execution_count": 7,
      "outputs": [
        {
          "output_type": "stream",
          "name": "stdout",
          "text": [
            "['NewVolSales', 'Base_Price', 'Radio', 'InStore', 'NewspaperInserts', 'Discount', 'TV', 'Stout', 'Website_Campaign']\n"
          ]
        }
      ]
    },
    {
      "cell_type": "markdown",
      "source": [
        "# Imputation of missing values"
      ],
      "metadata": {
        "id": "kiz8mT323sYM"
      }
    },
    {
      "cell_type": "code",
      "source": [
        "# filling missing value using fillna(). We will impute with zero to keep it simple, but not something I would normally do.\n",
        "df = df.fillna(0)"
      ],
      "metadata": {
        "id": "FmqC7Sit3rIV"
      },
      "execution_count": 8,
      "outputs": []
    },
    {
      "cell_type": "markdown",
      "source": [
        "# Exploratory Data Analysis & Visualization"
      ],
      "metadata": {
        "id": "9DyLZ7aE3uRz"
      }
    },
    {
      "cell_type": "code",
      "source": [
        "# Set the color palette\n",
        "sns.set_palette(sns.color_palette(\"vlag\"))\n",
        "\n",
        "#Initialize subplots with number of rows and number of columns\n",
        "figure, ax = plt.subplots(nrows = 3, ncols = 3)\n",
        "\n",
        "#See the distribution of the data\n",
        "sns.histplot(data=df, x=\"NewVolSales\", bins=10, ax=ax[0,0])\n",
        "sns.scatterplot(data=df, x=\"Base_Price\", y=\"NewVolSales\", ax=ax[0,1])\n",
        "sns.scatterplot(data=df, x=\"Radio\", y=\"NewVolSales\", ax=ax[0,2])\n",
        "sns.scatterplot(data=df, x=\"InStore\", y=\"NewVolSales\", ax=ax[1,0])\n",
        "sns.boxplot(data=df, x=\"NewspaperInserts\", y=\"NewVolSales\", ax=ax[1,1])\n",
        "sns.scatterplot(data=df, x=\"Discount\", y=\"NewVolSales\", ax=ax[1,2])\n",
        "sns.scatterplot(data=df, x=\"TV\", y=\"NewVolSales\", hue=\"NewspaperInserts\", legend = False, ax=ax[2,0])\n",
        "sns.scatterplot(data=df, x=\"Stout\", y=\"NewVolSales\", ax=ax[2,1])\n",
        "#sns.boxplot(data=df, x=\"Website_Campaign\", y=\"NewVolSales\", ax=ax[2,2].tick_params(axis='x', rotation=45))\n",
        "\n",
        "#Gives a tidy layout\n",
        "plt.tight_layout()\n",
        "\n",
        "#Save plot\n",
        "plt.savefig('EDA.png', bbox_inches='tight')\n",
        "\n",
        "#Show plot\n",
        "plt.show()"
      ],
      "metadata": {
        "colab": {
          "base_uri": "https://localhost:8080/",
          "height": 304
        },
        "id": "Xi2-dYFD3thl",
        "outputId": "642c18d5-80bb-49af-8c00-f5513d223ef0"
      },
      "execution_count": 9,
      "outputs": [
        {
          "output_type": "display_data",
          "data": {
            "text/plain": [
              "<Figure size 432x288 with 9 Axes>"
            ],
            "image/png": "[encoded data removed]"
          },
          "metadata": {
            "needs_background": "light"
          }
        }
      ]
    },
    {
      "cell_type": "code",
      "source": [
        "#Horizontal boxplot must flip the x and y variable\n",
        "sns.boxplot(data=df, x=\"NewVolSales\", y=\"Website_Campaign\", orient=\"h\", palette=\"vlag\")\n",
        "\n",
        "#Save plot\n",
        "plt.savefig('Website_Camp.png', bbox_inches='tight')\n",
        "\n",
        "#Show plot\n",
        "plt.show()"
      ],
      "metadata": {
        "colab": {
          "base_uri": "https://localhost:8080/",
          "height": 279
        },
        "id": "NmRagdCv3vnO",
        "outputId": "58851731-e3fa-46f0-f8be-1f290e0e3db1"
      },
      "execution_count": 10,
      "outputs": [
        {
          "output_type": "display_data",
          "data": {
            "text/plain": [
              "<Figure size 432x288 with 1 Axes>"
            ],
            "image/png": "[encoded data removed]"
          },
          "metadata": {
            "needs_background": "light"
          }
        }
      ]
    },
    {
      "cell_type": "markdown",
      "source": [
        "# Correlation Analysis"
      ],
      "metadata": {
        "id": "mukwB8Bl3yLl"
      }
    },
    {
      "cell_type": "code",
      "source": [
        "#Correlation Matrix\n",
        "corr = df.corr(method = \"pearson\")\n",
        "print(corr)"
      ],
      "metadata": {
        "colab": {
          "base_uri": "https://localhost:8080/"
        },
        "id": "huEEhgku3w9e",
        "outputId": "49b5ce08-c77f-4365-c231-328e28b04fe4"
      },
      "execution_count": 11,
      "outputs": [
        {
          "output_type": "stream",
          "name": "stdout",
          "text": [
            "             NewVolSales  Base_Price     Radio   InStore  Discount        TV  \\\n",
            "NewVolSales     1.000000   -0.729258  0.116513  0.441627  0.424761  0.145308   \n",
            "Base_Price     -0.729258    1.000000 -0.109777 -0.230751 -0.189975  0.065872   \n",
            "Radio           0.116513   -0.109777  1.000000 -0.095449 -0.019473 -0.097410   \n",
            "InStore         0.441627   -0.230751 -0.095449  1.000000  0.719376 -0.015759   \n",
            "Discount        0.424761   -0.189975 -0.019473  0.719376  1.000000  0.115074   \n",
            "TV              0.145308    0.065872 -0.097410 -0.015759  0.115074  1.000000   \n",
            "Stout          -0.375905   -0.027607 -0.209548  0.025108 -0.025555 -0.126546   \n",
            "\n",
            "                Stout  \n",
            "NewVolSales -0.375905  \n",
            "Base_Price  -0.027607  \n",
            "Radio       -0.209548  \n",
            "InStore      0.025108  \n",
            "Discount    -0.025555  \n",
            "TV          -0.126546  \n",
            "Stout        1.000000  \n"
          ]
        }
      ]
    },
    {
      "cell_type": "code",
      "source": [
        "corr.style.background_gradient(cmap='RdBu')"
      ],
      "metadata": {
        "colab": {
          "base_uri": "https://localhost:8080/",
          "height": 286
        },
        "id": "Uj9HiX6X3zZj",
        "outputId": "f0544d1c-2a90-42ca-a9a2-0936487c257e"
      },
      "execution_count": 12,
      "outputs": [
        {
          "output_type": "execute_result",
          "data": {
            "text/plain": [
              "<pandas.io.formats.style.Styler at 0x7f9af87899d0>"
            ],
            "text/html": [
              "<style type=\"text/css\">\n",
              "#T_f9e02_row0_col0, #T_f9e02_row1_col1, #T_f9e02_row2_col2, #T_f9e02_row3_col3, #T_f9e02_row4_col4, #T_f9e02_row5_col5, #T_f9e02_row6_col6 {\n",
              "  background-color: #053061;\n",
              "  color: #f1f1f1;\n",
              "}\n",
              "#T_f9e02_row0_col1, #T_f9e02_row0_col6, #T_f9e02_row1_col0, #T_f9e02_row1_col3, #T_f9e02_row1_col4, #T_f9e02_row6_col2, #T_f9e02_row6_col5 {\n",
              "  background-color: #67001f;\n",
              "  color: #f1f1f1;\n",
              "}\n",
              "#T_f9e02_row0_col2 {\n",
              "  background-color: #eb9172;\n",
              "  color: #f1f1f1;\n",
              "}\n",
              "#T_f9e02_row0_col3 {\n",
              "  background-color: #e6eff4;\n",
              "  color: #000000;\n",
              "}\n",
              "#T_f9e02_row0_col4 {\n",
              "  background-color: #f0f4f6;\n",
              "  color: #000000;\n",
              "}\n",
              "#T_f9e02_row0_col5 {\n",
              "  background-color: #e27b62;\n",
              "  color: #f1f1f1;\n",
              "}\n",
              "#T_f9e02_row1_col2 {\n",
              "  background-color: #a51429;\n",
              "  color: #f1f1f1;\n",
              "}\n",
              "#T_f9e02_row1_col5 {\n",
              "  background-color: #cb4942;\n",
              "  color: #f1f1f1;\n",
              "}\n",
              "#T_f9e02_row1_col6 {\n",
              "  background-color: #e58368;\n",
              "  color: #f1f1f1;\n",
              "}\n",
              "#T_f9e02_row2_col0 {\n",
              "  background-color: #f8f4f2;\n",
              "  color: #000000;\n",
              "}\n",
              "#T_f9e02_row2_col1 {\n",
              "  background-color: #f9c4a9;\n",
              "  color: #000000;\n",
              "}\n",
              "#T_f9e02_row2_col3 {\n",
              "  background-color: #b61f2e;\n",
              "  color: #f1f1f1;\n",
              "}\n",
              "#T_f9e02_row2_col4 {\n",
              "  background-color: #c13639;\n",
              "  color: #f1f1f1;\n",
              "}\n",
              "#T_f9e02_row2_col5 {\n",
              "  background-color: #790622;\n",
              "  color: #f1f1f1;\n",
              "}\n",
              "#T_f9e02_row2_col6 {\n",
              "  background-color: #b82531;\n",
              "  color: #f1f1f1;\n",
              "}\n",
              "#T_f9e02_row3_col0 {\n",
              "  background-color: #a0cce2;\n",
              "  color: #000000;\n",
              "}\n",
              "#T_f9e02_row3_col1 {\n",
              "  background-color: #f09c7b;\n",
              "  color: #000000;\n",
              "}\n",
              "#T_f9e02_row3_col2 {\n",
              "  background-color: #ae172a;\n",
              "  color: #f1f1f1;\n",
              "}\n",
              "#T_f9e02_row3_col4 {\n",
              "  background-color: #5fa5cd;\n",
              "  color: #f1f1f1;\n",
              "}\n",
              "#T_f9e02_row3_col5 {\n",
              "  background-color: #b1182b;\n",
              "  color: #f1f1f1;\n",
              "}\n",
              "#T_f9e02_row3_col6 {\n",
              "  background-color: #f19e7d;\n",
              "  color: #000000;\n",
              "}\n",
              "#T_f9e02_row4_col0 {\n",
              "  background-color: #a7d0e4;\n",
              "  color: #000000;\n",
              "}\n",
              "#T_f9e02_row4_col1 {\n",
              "  background-color: #f5aa89;\n",
              "  color: #000000;\n",
              "}\n",
              "#T_f9e02_row4_col2 {\n",
              "  background-color: #c6413e;\n",
              "  color: #f1f1f1;\n",
              "}\n",
              "#T_f9e02_row4_col3 {\n",
              "  background-color: #59a1ca;\n",
              "  color: #f1f1f1;\n",
              "}\n",
              "#T_f9e02_row4_col5 {\n",
              "  background-color: #da6853;\n",
              "  color: #f1f1f1;\n",
              "}\n",
              "#T_f9e02_row4_col6, #T_f9e02_row5_col4 {\n",
              "  background-color: #e6866a;\n",
              "  color: #f1f1f1;\n",
              "}\n",
              "#T_f9e02_row5_col0 {\n",
              "  background-color: #f5f6f7;\n",
              "  color: #000000;\n",
              "}\n",
              "#T_f9e02_row5_col1 {\n",
              "  background-color: #f9ebe3;\n",
              "  color: #000000;\n",
              "}\n",
              "#T_f9e02_row5_col2 {\n",
              "  background-color: #ab162a;\n",
              "  color: #f1f1f1;\n",
              "}\n",
              "#T_f9e02_row5_col3 {\n",
              "  background-color: #cc4c44;\n",
              "  color: #f1f1f1;\n",
              "}\n",
              "#T_f9e02_row5_col6 {\n",
              "  background-color: #cf5246;\n",
              "  color: #f1f1f1;\n",
              "}\n",
              "#T_f9e02_row6_col0 {\n",
              "  background-color: #d7634f;\n",
              "  color: #f1f1f1;\n",
              "}\n",
              "#T_f9e02_row6_col1 {\n",
              "  background-color: #fddcc9;\n",
              "  color: #000000;\n",
              "}\n",
              "#T_f9e02_row6_col3 {\n",
              "  background-color: #d86551;\n",
              "  color: #f1f1f1;\n",
              "}\n",
              "#T_f9e02_row6_col4 {\n",
              "  background-color: #bf3338;\n",
              "  color: #f1f1f1;\n",
              "}\n",
              "</style>\n",
              "<table id=\"T_f9e02_\" class=\"dataframe\">\n",
              "  <thead>\n",
              "    <tr>\n",
              "      <th class=\"blank level0\" >&nbsp;</th>\n",
              "      <th class=\"col_heading level0 col0\" >NewVolSales</th>\n",
              "      <th class=\"col_heading level0 col1\" >Base_Price</th>\n",
              "      <th class=\"col_heading level0 col2\" >Radio</th>\n",
              "      <th class=\"col_heading level0 col3\" >InStore</th>\n",
              "      <th class=\"col_heading level0 col4\" >Discount</th>\n",
              "      <th class=\"col_heading level0 col5\" >TV</th>\n",
              "      <th class=\"col_heading level0 col6\" >Stout</th>\n",
              "    </tr>\n",
              "  </thead>\n",
              "  <tbody>\n",
              "    <tr>\n",
              "      <th id=\"T_f9e02_level0_row0\" class=\"row_heading level0 row0\" >NewVolSales</th>\n",
              "      <td id=\"T_f9e02_row0_col0\" class=\"data row0 col0\" >1.000000</td>\n",
              "      <td id=\"T_f9e02_row0_col1\" class=\"data row0 col1\" >-0.729258</td>\n",
              "      <td id=\"T_f9e02_row0_col2\" class=\"data row0 col2\" >0.116513</td>\n",
              "      <td id=\"T_f9e02_row0_col3\" class=\"data row0 col3\" >0.441627</td>\n",
              "      <td id=\"T_f9e02_row0_col4\" class=\"data row0 col4\" >0.424761</td>\n",
              "      <td id=\"T_f9e02_row0_col5\" class=\"data row0 col5\" >0.145308</td>\n",
              "      <td id=\"T_f9e02_row0_col6\" class=\"data row0 col6\" >-0.375905</td>\n",
              "    </tr>\n",
              "    <tr>\n",
              "      <th id=\"T_f9e02_level0_row1\" class=\"row_heading level0 row1\" >Base_Price</th>\n",
              "      <td id=\"T_f9e02_row1_col0\" class=\"data row1 col0\" >-0.729258</td>\n",
              "      <td id=\"T_f9e02_row1_col1\" class=\"data row1 col1\" >1.000000</td>\n",
              "      <td id=\"T_f9e02_row1_col2\" class=\"data row1 col2\" >-0.109777</td>\n",
              "      <td id=\"T_f9e02_row1_col3\" class=\"data row1 col3\" >-0.230751</td>\n",
              "      <td id=\"T_f9e02_row1_col4\" class=\"data row1 col4\" >-0.189975</td>\n",
              "      <td id=\"T_f9e02_row1_col5\" class=\"data row1 col5\" >0.065872</td>\n",
              "      <td id=\"T_f9e02_row1_col6\" class=\"data row1 col6\" >-0.027607</td>\n",
              "    </tr>\n",
              "    <tr>\n",
              "      <th id=\"T_f9e02_level0_row2\" class=\"row_heading level0 row2\" >Radio</th>\n",
              "      <td id=\"T_f9e02_row2_col0\" class=\"data row2 col0\" >0.116513</td>\n",
              "      <td id=\"T_f9e02_row2_col1\" class=\"data row2 col1\" >-0.109777</td>\n",
              "      <td id=\"T_f9e02_row2_col2\" class=\"data row2 col2\" >1.000000</td>\n",
              "      <td id=\"T_f9e02_row2_col3\" class=\"data row2 col3\" >-0.095449</td>\n",
              "      <td id=\"T_f9e02_row2_col4\" class=\"data row2 col4\" >-0.019473</td>\n",
              "      <td id=\"T_f9e02_row2_col5\" class=\"data row2 col5\" >-0.097410</td>\n",
              "      <td id=\"T_f9e02_row2_col6\" class=\"data row2 col6\" >-0.209548</td>\n",
              "    </tr>\n",
              "    <tr>\n",
              "      <th id=\"T_f9e02_level0_row3\" class=\"row_heading level0 row3\" >InStore</th>\n",
              "      <td id=\"T_f9e02_row3_col0\" class=\"data row3 col0\" >0.441627</td>\n",
              "      <td id=\"T_f9e02_row3_col1\" class=\"data row3 col1\" >-0.230751</td>\n",
              "      <td id=\"T_f9e02_row3_col2\" class=\"data row3 col2\" >-0.095449</td>\n",
              "      <td id=\"T_f9e02_row3_col3\" class=\"data row3 col3\" >1.000000</td>\n",
              "      <td id=\"T_f9e02_row3_col4\" class=\"data row3 col4\" >0.719376</td>\n",
              "      <td id=\"T_f9e02_row3_col5\" class=\"data row3 col5\" >-0.015759</td>\n",
              "      <td id=\"T_f9e02_row3_col6\" class=\"data row3 col6\" >0.025108</td>\n",
              "    </tr>\n",
              "    <tr>\n",
              "      <th id=\"T_f9e02_level0_row4\" class=\"row_heading level0 row4\" >Discount</th>\n",
              "      <td id=\"T_f9e02_row4_col0\" class=\"data row4 col0\" >0.424761</td>\n",
              "      <td id=\"T_f9e02_row4_col1\" class=\"data row4 col1\" >-0.189975</td>\n",
              "      <td id=\"T_f9e02_row4_col2\" class=\"data row4 col2\" >-0.019473</td>\n",
              "      <td id=\"T_f9e02_row4_col3\" class=\"data row4 col3\" >0.719376</td>\n",
              "      <td id=\"T_f9e02_row4_col4\" class=\"data row4 col4\" >1.000000</td>\n",
              "      <td id=\"T_f9e02_row4_col5\" class=\"data row4 col5\" >0.115074</td>\n",
              "      <td id=\"T_f9e02_row4_col6\" class=\"data row4 col6\" >-0.025555</td>\n",
              "    </tr>\n",
              "    <tr>\n",
              "      <th id=\"T_f9e02_level0_row5\" class=\"row_heading level0 row5\" >TV</th>\n",
              "      <td id=\"T_f9e02_row5_col0\" class=\"data row5 col0\" >0.145308</td>\n",
              "      <td id=\"T_f9e02_row5_col1\" class=\"data row5 col1\" >0.065872</td>\n",
              "      <td id=\"T_f9e02_row5_col2\" class=\"data row5 col2\" >-0.097410</td>\n",
              "      <td id=\"T_f9e02_row5_col3\" class=\"data row5 col3\" >-0.015759</td>\n",
              "      <td id=\"T_f9e02_row5_col4\" class=\"data row5 col4\" >0.115074</td>\n",
              "      <td id=\"T_f9e02_row5_col5\" class=\"data row5 col5\" >1.000000</td>\n",
              "      <td id=\"T_f9e02_row5_col6\" class=\"data row5 col6\" >-0.126546</td>\n",
              "    </tr>\n",
              "    <tr>\n",
              "      <th id=\"T_f9e02_level0_row6\" class=\"row_heading level0 row6\" >Stout</th>\n",
              "      <td id=\"T_f9e02_row6_col0\" class=\"data row6 col0\" >-0.375905</td>\n",
              "      <td id=\"T_f9e02_row6_col1\" class=\"data row6 col1\" >-0.027607</td>\n",
              "      <td id=\"T_f9e02_row6_col2\" class=\"data row6 col2\" >-0.209548</td>\n",
              "      <td id=\"T_f9e02_row6_col3\" class=\"data row6 col3\" >0.025108</td>\n",
              "      <td id=\"T_f9e02_row6_col4\" class=\"data row6 col4\" >-0.025555</td>\n",
              "      <td id=\"T_f9e02_row6_col5\" class=\"data row6 col5\" >-0.126546</td>\n",
              "      <td id=\"T_f9e02_row6_col6\" class=\"data row6 col6\" >1.000000</td>\n",
              "    </tr>\n",
              "  </tbody>\n",
              "</table>\n"
            ]
          },
          "metadata": {},
          "execution_count": 12
        }
      ]
    },
    {
      "cell_type": "markdown",
      "source": [
        "# How are correlation and regression related?"
      ],
      "metadata": {
        "id": "dhxV_Tg332HR"
      }
    },
    {
      "cell_type": "code",
      "source": [
        "corr_coeff = round(df['NewVolSales'].corr(df['Discount']),2)\n",
        "corr_coeff_sq = round(df['NewVolSales'].corr(df['Discount'])**2,2)\n",
        "\n",
        "print(\"The correlation coefficient for NewVol Sales and Discount is {}. When we square this we get {}, the correlation coefficient squared.\".format(corr_coeff, corr_coeff_sq))"
      ],
      "metadata": {
        "colab": {
          "base_uri": "https://localhost:8080/"
        },
        "id": "OIG6aEq730yt",
        "outputId": "5375ec41-ae3f-4956-a9dd-67389b9137e6"
      },
      "execution_count": 13,
      "outputs": [
        {
          "output_type": "stream",
          "name": "stdout",
          "text": [
            "The correlation coefficient for NewVol Sales and Discount is 0.42. When we square this we get 0.18, the correlation coefficient squared.\n"
          ]
        }
      ]
    },
    {
      "cell_type": "code",
      "source": [
        "# Create the model object\n",
        "sales_vs_discount = ols(\"NewVolSales ~ Discount\", data=df)\n",
        "\n",
        "# Fit the model\n",
        "sales_vs_discount = sales_vs_discount.fit()\n",
        " \n",
        "# Print summary table of model fit\n",
        "print(sales_vs_discount.summary())"
      ],
      "metadata": {
        "colab": {
          "base_uri": "https://localhost:8080/"
        },
        "id": "hElTNneA34N-",
        "outputId": "df17738a-70af-4dd6-988d-ad8e5ad050ef"
      },
      "execution_count": 14,
      "outputs": [
        {
          "output_type": "stream",
          "name": "stdout",
          "text": [
            "                            OLS Regression Results                            \n",
            "==============================================================================\n",
            "Dep. Variable:            NewVolSales   R-squared:                       0.180\n",
            "Model:                            OLS   Adj. R-squared:                  0.172\n",
            "Method:                 Least Squares   F-statistic:                     22.45\n",
            "Date:                Thu, 30 Jun 2022   Prob (F-statistic):           6.99e-06\n",
            "Time:                        13:49:23   Log-Likelihood:                -902.61\n",
            "No. Observations:                 104   AIC:                             1809.\n",
            "Df Residuals:                     102   BIC:                             1815.\n",
            "Df Model:                           1                                         \n",
            "Covariance Type:            nonrobust                                         \n",
            "==============================================================================\n",
            "                 coef    std err          t      P>|t|      [0.025      0.975]\n",
            "------------------------------------------------------------------------------\n",
            "Intercept   1.964e+04    180.439    108.826      0.000    1.93e+04       2e+04\n",
            "Discount    2.423e+04   5114.357      4.739      0.000    1.41e+04    3.44e+04\n",
            "==============================================================================\n",
            "Omnibus:                        8.199   Durbin-Watson:                   0.848\n",
            "Prob(Omnibus):                  0.017   Jarque-Bera (JB):                8.082\n",
            "Skew:                           0.673   Prob(JB):                       0.0176\n",
            "Kurtosis:                       3.227   Cond. No.                         36.3\n",
            "==============================================================================\n",
            "\n",
            "Warnings:\n",
            "[1] Standard Errors assume that the covariance matrix of the errors is correctly specified.\n"
          ]
        }
      ]
    },
    {
      "cell_type": "markdown",
      "source": [
        "# Marketing Mix Modeling"
      ],
      "metadata": {
        "id": "oFbE_Q_z37BH"
      }
    },
    {
      "cell_type": "code",
      "source": [
        "# Create the model object\n",
        "mkmix_model = ols(\"NewVolSales ~ Base_Price + Radio + InStore + NewspaperInserts + Discount + TV + Stout + Website_Campaign\", data=df)\n",
        "\n",
        "# Fit the model\n",
        "mkmix_model = mkmix_model.fit()\n",
        "\n",
        "# Print the summary of the fitted model\n",
        "print(mkmix_model.summary())"
      ],
      "metadata": {
        "colab": {
          "base_uri": "https://localhost:8080/"
        },
        "id": "8ZlD-CMT35bq",
        "outputId": "37da1ca7-8543-4206-bb2a-c6a676ca56c2"
      },
      "execution_count": 15,
      "outputs": [
        {
          "output_type": "stream",
          "name": "stdout",
          "text": [
            "                            OLS Regression Results                            \n",
            "==============================================================================\n",
            "Dep. Variable:            NewVolSales   R-squared:                       0.834\n",
            "Model:                            OLS   Adj. R-squared:                  0.816\n",
            "Method:                 Least Squares   F-statistic:                     46.63\n",
            "Date:                Thu, 30 Jun 2022   Prob (F-statistic):           6.91e-32\n",
            "Time:                        13:49:35   Log-Likelihood:                -819.66\n",
            "No. Observations:                 104   AIC:                             1661.\n",
            "Df Residuals:                      93   BIC:                             1690.\n",
            "Df Model:                          10                                         \n",
            "Covariance Type:            nonrobust                                         \n",
            "=========================================================================================================\n",
            "                                            coef    std err          t      P>|t|      [0.025      0.975]\n",
            "---------------------------------------------------------------------------------------------------------\n",
            "Intercept                              5.439e+04   2278.795     23.870      0.000    4.99e+04    5.89e+04\n",
            "NewspaperInserts[T.Insert]              159.0085    289.054      0.550      0.584    -414.996     733.013\n",
            "Website_Campaign[T.Facebook]            239.8193    362.660      0.661      0.510    -480.352     959.990\n",
            "Website_Campaign[T.Twitter]             468.7707    362.991      1.291      0.200    -252.058    1189.600\n",
            "Website_Campaign[T.Website Campaign ] -1273.3869    315.438     -4.037      0.000   -1899.785    -646.989\n",
            "Base_Price                            -2056.8098    136.781    -15.037      0.000   -2328.430   -1785.189\n",
            "Radio                                    -0.2801      0.721     -0.388      0.699      -1.713       1.152\n",
            "InStore                                  28.6341      7.384      3.878      0.000      13.972      43.296\n",
            "Discount                               5554.2422   3618.164      1.535      0.128   -1630.715    1.27e+04\n",
            "TV                                        3.2233      1.687      1.910      0.059      -0.128       6.574\n",
            "Stout                                 -1631.4978    235.961     -6.914      0.000   -2100.069   -1162.927\n",
            "==============================================================================\n",
            "Omnibus:                        2.112   Durbin-Watson:                   1.500\n",
            "Prob(Omnibus):                  0.348   Jarque-Bera (JB):                1.546\n",
            "Skew:                           0.257   Prob(JB):                        0.462\n",
            "Kurtosis:                       3.305   Cond. No.                     1.63e+04\n",
            "==============================================================================\n",
            "\n",
            "Warnings:\n",
            "[1] Standard Errors assume that the covariance matrix of the errors is correctly specified.\n",
            "[2] The condition number is large, 1.63e+04. This might indicate that there are\n",
            "strong multicollinearity or other numerical problems.\n"
          ]
        }
      ]
    }
  ]
}