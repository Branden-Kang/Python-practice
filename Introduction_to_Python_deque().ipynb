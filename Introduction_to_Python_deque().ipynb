{
  "nbformat": 4,
  "nbformat_minor": 0,
  "metadata": {
    "colab": {
      "name": "Introduction to Python deque().ipynb",
      "provenance": [],
      "authorship_tag": "ABX9TyMVCB7+Z95n9AJYBqbIWxin"
    },
    "kernelspec": {
      "name": "python3",
      "display_name": "Python 3"
    },
    "language_info": {
      "name": "python"
    }
  },
  "cells": [
    {
      "cell_type": "markdown",
      "metadata": {
        "id": "2dKk6qP15H-B"
      },
      "source": [
        "[Reference](https://medium.com/gustavorsantos/introduction-to-python-deque-d6402282fe92)"
      ]
    },
    {
      "cell_type": "code",
      "metadata": {
        "id": "QPfYsd2z5OZf"
      },
      "source": [
        "from collections import deque"
      ],
      "execution_count": 2,
      "outputs": []
    },
    {
      "cell_type": "code",
      "metadata": {
        "id": "L2-w5Qnx5BoG"
      },
      "source": [
        "# Create a new deque with 3 (or less) elements\n",
        "my_deck = deque(maxlen = 3)\n",
        "# Adding one element\n",
        "my_deck.append(1)"
      ],
      "execution_count": 3,
      "outputs": []
    },
    {
      "cell_type": "code",
      "metadata": {
        "id": "2uiMQxqv5KKR"
      },
      "source": [
        "my_deck.append(2)"
      ],
      "execution_count": 4,
      "outputs": []
    },
    {
      "cell_type": "code",
      "metadata": {
        "id": "rG8ISxqz5K1M"
      },
      "source": [
        "my_deck.append(3)"
      ],
      "execution_count": 5,
      "outputs": []
    },
    {
      "cell_type": "code",
      "metadata": {
        "id": "gg0MnYiU5L3l"
      },
      "source": [
        "# It drops the first element and adds the new one at the end.\n",
        "my_deck.append('extra')"
      ],
      "execution_count": 6,
      "outputs": []
    },
    {
      "cell_type": "code",
      "metadata": {
        "id": "LpwK8Hfu5O7T"
      },
      "source": [
        "# Append to left\n",
        "my_deck.appendleft('left')"
      ],
      "execution_count": 7,
      "outputs": []
    },
    {
      "cell_type": "code",
      "metadata": {
        "id": "RQ_LwOzg5Rup"
      },
      "source": [
        "# Extend to left\n",
        "my_deck.extendleft(['d', 'd'])"
      ],
      "execution_count": 8,
      "outputs": []
    },
    {
      "cell_type": "code",
      "metadata": {
        "id": "ML-AF-VC5S6Y"
      },
      "source": [
        "# Rotate to the right\n",
        "my_deck.rotate()"
      ],
      "execution_count": 9,
      "outputs": []
    },
    {
      "cell_type": "code",
      "metadata": {
        "id": "Af1iJCqo5T_c"
      },
      "source": [
        "# Rotate to the left\n",
        "my_deck.rotate(-1)"
      ],
      "execution_count": 10,
      "outputs": []
    },
    {
      "cell_type": "code",
      "metadata": {
        "id": "w3Wln6oD5VZ6"
      },
      "source": [
        "# New deck\n",
        "my_deck.extend([1, 2, 3])"
      ],
      "execution_count": 11,
      "outputs": []
    },
    {
      "cell_type": "code",
      "metadata": {
        "colab": {
          "base_uri": "https://localhost:8080/"
        },
        "id": "Vibkbty55Wqx",
        "outputId": "921f94d3-e704-4c6a-ea95-dcffe14ce7ea"
      },
      "source": [
        "my_deck.popleft()"
      ],
      "execution_count": 12,
      "outputs": [
        {
          "output_type": "execute_result",
          "data": {
            "text/plain": [
              "1"
            ]
          },
          "metadata": {},
          "execution_count": 12
        }
      ]
    },
    {
      "cell_type": "code",
      "metadata": {
        "id": "JZ0K8G0Y5Xw1"
      },
      "source": [
        "# New deck\n",
        "my_deck.extend([1, 'a', 3])"
      ],
      "execution_count": 13,
      "outputs": []
    },
    {
      "cell_type": "code",
      "metadata": {
        "id": "ILKTgda-5ZBs"
      },
      "source": [
        "my_deck.remove('a')"
      ],
      "execution_count": 14,
      "outputs": []
    },
    {
      "cell_type": "code",
      "metadata": {
        "id": "MaQ_MTC55aFv"
      },
      "source": [
        "my_deck.clear()"
      ],
      "execution_count": 15,
      "outputs": []
    },
    {
      "cell_type": "code",
      "metadata": {
        "id": "x1aUWShC5a6j"
      },
      "source": [
        "# New deck\n",
        "my_deck.extend([1, 2, 3])"
      ],
      "execution_count": 16,
      "outputs": []
    },
    {
      "cell_type": "code",
      "metadata": {
        "id": "PaNL_xfN5cQi"
      },
      "source": [
        "# Reverse deck\n",
        "my_deck.reverse()"
      ],
      "execution_count": 17,
      "outputs": []
    }
  ]
}