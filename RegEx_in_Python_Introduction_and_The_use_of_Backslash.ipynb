{
  "nbformat": 4,
  "nbformat_minor": 0,
  "metadata": {
    "colab": {
      "provenance": [],
      "authorship_tag": "ABX9TyPJdalPkE57YaaMMKolMJ7T"
    },
    "kernelspec": {
      "name": "python3",
      "display_name": "Python 3"
    },
    "language_info": {
      "name": "python"
    }
  },
  "cells": [
    {
      "cell_type": "markdown",
      "source": [
        "[Reference](https://medium.com/@SergiAlfonso/regex-in-python-introduction-and-the-use-of-backslash-728f117207e4)"
      ],
      "metadata": {
        "id": "7VYdk9bpY0TS"
      }
    },
    {
      "cell_type": "code",
      "execution_count": 1,
      "metadata": {
        "colab": {
          "base_uri": "https://localhost:8080/"
        },
        "id": "fXN3BIraYaaF",
        "outputId": "1186d257-2039-4ba2-b08e-250e43e92d55"
      },
      "outputs": [
        {
          "output_type": "execute_result",
          "data": {
            "text/plain": [
              "re.compile(r'hello', re.UNICODE)"
            ]
          },
          "metadata": {},
          "execution_count": 1
        }
      ],
      "source": [
        "import re\n",
        "\n",
        "pattern = re.compile(\"hello\")\n",
        "pattern"
      ]
    },
    {
      "cell_type": "code",
      "source": [
        "pattern = re.compile(\"apple\", flags=re.I)\n",
        "pattern"
      ],
      "metadata": {
        "colab": {
          "base_uri": "https://localhost:8080/"
        },
        "id": "AfhcJ4RVY42I",
        "outputId": "0ea62be1-baa2-456a-c1ec-c07f7a7b0c00"
      },
      "execution_count": 2,
      "outputs": [
        {
          "output_type": "execute_result",
          "data": {
            "text/plain": [
              "re.compile(r'apple', re.IGNORECASE|re.UNICODE)"
            ]
          },
          "metadata": {},
          "execution_count": 2
        }
      ]
    },
    {
      "cell_type": "code",
      "source": [
        "pattern = re.compile(\"Good\", flags=re.I)\n",
        "match_ = pattern.match(\"good morning\")\n",
        "print(match_)"
      ],
      "metadata": {
        "colab": {
          "base_uri": "https://localhost:8080/"
        },
        "id": "PnrYNSbeY8N6",
        "outputId": "3423366b-17c9-47a6-a1f1-41bd694861d8"
      },
      "execution_count": 3,
      "outputs": [
        {
          "output_type": "stream",
          "name": "stdout",
          "text": [
            "<re.Match object; span=(0, 4), match='good'>\n"
          ]
        }
      ]
    },
    {
      "cell_type": "code",
      "source": [
        "pattern = re.compile(\"Good\", flags=re.I)\n",
        "match_ = pattern.match(\"happy morning\")\n",
        "print(match_)"
      ],
      "metadata": {
        "colab": {
          "base_uri": "https://localhost:8080/"
        },
        "id": "3qwAWnZuZDWd",
        "outputId": "4b516601-808a-4bfc-8d45-90835dc405d1"
      },
      "execution_count": 4,
      "outputs": [
        {
          "output_type": "stream",
          "name": "stdout",
          "text": [
            "None\n"
          ]
        }
      ]
    },
    {
      "cell_type": "code",
      "source": [
        "pattern = re.compile(\"me\")\n",
        "search = pattern.search(\"Can you find me?\")\n",
        "print(search)"
      ],
      "metadata": {
        "colab": {
          "base_uri": "https://localhost:8080/"
        },
        "id": "Aj3Te-YRZGRG",
        "outputId": "d09a8ecb-d21c-4f2a-f53b-8f20d65ebbfb"
      },
      "execution_count": 5,
      "outputs": [
        {
          "output_type": "stream",
          "name": "stdout",
          "text": [
            "<re.Match object; span=(13, 15), match='me'>\n"
          ]
        }
      ]
    },
    {
      "cell_type": "code",
      "source": [
        "pattern = re.compile(\"He\", flags=re.I)\n",
        "find = pattern.findall(\"He is smart and he is good.\")\n",
        "print(find)"
      ],
      "metadata": {
        "colab": {
          "base_uri": "https://localhost:8080/"
        },
        "id": "XKeVi4gfZM14",
        "outputId": "16f620a9-3ed5-4a6c-f431-3fa36867fdde"
      },
      "execution_count": 6,
      "outputs": [
        {
          "output_type": "stream",
          "name": "stdout",
          "text": [
            "['He', 'he']\n"
          ]
        }
      ]
    },
    {
      "cell_type": "code",
      "source": [
        "pattern = re.compile(\"on\")\n",
        "match_i = pattern.finditer(\"It goes on and on and on\")\n",
        "print(type(match_i))\n",
        "for match_ in match_i:\n",
        "    print(match_)"
      ],
      "metadata": {
        "colab": {
          "base_uri": "https://localhost:8080/"
        },
        "id": "1gz7B6oEZUTy",
        "outputId": "a4d8ffd6-64ff-48d8-fd55-df545a7c73e0"
      },
      "execution_count": 7,
      "outputs": [
        {
          "output_type": "stream",
          "name": "stdout",
          "text": [
            "<class 'callable_iterator'>\n",
            "<re.Match object; span=(8, 10), match='on'>\n",
            "<re.Match object; span=(15, 17), match='on'>\n",
            "<re.Match object; span=(22, 24), match='on'>\n"
          ]
        }
      ]
    },
    {
      "cell_type": "code",
      "source": [
        "pattern = re.compile(\"$1\")\n",
        "text = \"He asked me for $1\"\n",
        "res = pattern.search(text)\n",
        "print(res)"
      ],
      "metadata": {
        "colab": {
          "base_uri": "https://localhost:8080/"
        },
        "id": "IyyfRIIHZgG-",
        "outputId": "6cb63364-c1e9-49a0-d859-f9ef5a6b0ecd"
      },
      "execution_count": 8,
      "outputs": [
        {
          "output_type": "stream",
          "name": "stdout",
          "text": [
            "None\n"
          ]
        }
      ]
    },
    {
      "cell_type": "code",
      "source": [
        "pattern = re.compile(\"\\$1\")\n",
        "text = \"He asked me for $1\"\n",
        "res = pattern.search(text)\n",
        "print(res)"
      ],
      "metadata": {
        "colab": {
          "base_uri": "https://localhost:8080/"
        },
        "id": "qouSs7XUZn9J",
        "outputId": "8db83111-1de5-4309-a10f-26459af60d1e"
      },
      "execution_count": 9,
      "outputs": [
        {
          "output_type": "stream",
          "name": "stdout",
          "text": [
            "<re.Match object; span=(16, 18), match='$1'>\n"
          ]
        }
      ]
    },
    {
      "cell_type": "code",
      "source": [
        "print(\"C:\\downloads\\newfolder\")"
      ],
      "metadata": {
        "colab": {
          "base_uri": "https://localhost:8080/"
        },
        "id": "I1AARDdfZrhI",
        "outputId": "1b054b4a-be11-4d7d-a88f-f2a48c6f6d07"
      },
      "execution_count": 10,
      "outputs": [
        {
          "output_type": "stream",
          "name": "stdout",
          "text": [
            "C:\\downloads\n",
            "ewfolder\n"
          ]
        }
      ]
    },
    {
      "cell_type": "code",
      "source": [
        "print(\"C:\\\\downloads\\\\newfolder\")"
      ],
      "metadata": {
        "colab": {
          "base_uri": "https://localhost:8080/"
        },
        "id": "we5b80TZZ0yP",
        "outputId": "5ac8dada-c72e-4229-c947-0b97eb0a3dfa"
      },
      "execution_count": 11,
      "outputs": [
        {
          "output_type": "stream",
          "name": "stdout",
          "text": [
            "C:\\downloads\\newfolder\n"
          ]
        }
      ]
    },
    {
      "cell_type": "code",
      "source": [
        "print(r\"C:\\downloads\\newfolder\")"
      ],
      "metadata": {
        "colab": {
          "base_uri": "https://localhost:8080/"
        },
        "id": "dWy4ZG6lZ2Sd",
        "outputId": "3e3dd42e-0e9b-4a2f-890c-f848c5c3b825"
      },
      "execution_count": 12,
      "outputs": [
        {
          "output_type": "stream",
          "name": "stdout",
          "text": [
            "C:\\downloads\\newfolder\n"
          ]
        }
      ]
    },
    {
      "cell_type": "code",
      "source": [
        "addrs = r\"\"\"\n",
        "C:\\folders1\\first.txt\n",
        "C:\\folders2\n",
        "C:\\folders3\n",
        "\"\"\"\n",
        "pattern = re.compile(\"C:\\\\\\\\folder\")\n",
        "print(pattern.search(addrs))"
      ],
      "metadata": {
        "colab": {
          "base_uri": "https://localhost:8080/"
        },
        "id": "njStjY4kZ45p",
        "outputId": "0bb4c74c-8337-4a8d-add4-e0ef20685f2f"
      },
      "execution_count": 13,
      "outputs": [
        {
          "output_type": "stream",
          "name": "stdout",
          "text": [
            "<re.Match object; span=(1, 10), match='C:\\\\folder'>\n"
          ]
        }
      ]
    }
  ]
}