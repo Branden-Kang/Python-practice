{
  "nbformat": 4,
  "nbformat_minor": 0,
  "metadata": {
    "colab": {
      "provenance": [],
      "authorship_tag": "ABX9TyPmOyDWf+IiTMKD3+Ld8xuN"
    },
    "kernelspec": {
      "name": "python3",
      "display_name": "Python 3"
    },
    "language_info": {
      "name": "python"
    }
  },
  "cells": [
    {
      "cell_type": "markdown",
      "source": [
        "[Reference](https://medium.com/@manilwagle/customer-segmentation-in-marketing-an-end-to-end-application-using-python-16fde1f37d74)"
      ],
      "metadata": {
        "id": "2zztvAEnneHV"
      }
    },
    {
      "cell_type": "markdown",
      "source": [
        "# DATA EXPLORATION\n"
      ],
      "metadata": {
        "id": "pdtoAHSCntgK"
      }
    },
    {
      "cell_type": "code",
      "execution_count": 1,
      "metadata": {
        "id": "YEncLPz_nbwF"
      },
      "outputs": [],
      "source": [
        "# # Load the necessary libraries\n",
        "# import pandas as pd\n",
        "# from pandas_profiling import ProfileReport\n",
        "# import numpy as np\n",
        "# from numpy import inf\n",
        "# import seaborn as sns\n",
        "# import matplotlib.pyplot as plt\n",
        "# from sklearn.preprocessing import StandardScaler, normalize\n",
        "# from sklearn.cluster import KMeans\n",
        "# from sklearn.decomposition import PCA\n",
        "# from jupyterthemes import jtplot\n",
        "# jtplot.style(theme='monokai', context='notebook', ticks=True, grid=False)\n",
        "# # Load the data\n",
        "# data = pd.read_csv('Marketing_data.csv')"
      ]
    },
    {
      "cell_type": "code",
      "source": [
        "# # One liner pandas data exploration\n",
        "# # Pandas profiling\n",
        "# data_profile = ProfileReport(data)\n",
        "# data_profile"
      ],
      "metadata": {
        "id": "jxjQ9ZolnvJW"
      },
      "execution_count": 2,
      "outputs": []
    },
    {
      "cell_type": "code",
      "source": [
        "# # Look at first few rows\n",
        "# data.head()"
      ],
      "metadata": {
        "id": "OLvlI2WSnxE7"
      },
      "execution_count": 3,
      "outputs": []
    },
    {
      "cell_type": "code",
      "source": [
        "# # Understand data structure \n",
        "# data.info()"
      ],
      "metadata": {
        "id": "oRonrwCynzom"
      },
      "execution_count": 4,
      "outputs": []
    },
    {
      "cell_type": "code",
      "source": [
        "# data.isnull().sum()"
      ],
      "metadata": {
        "id": "LlI3BHLEn1N7"
      },
      "execution_count": 5,
      "outputs": []
    },
    {
      "cell_type": "code",
      "source": [
        "# # Filling up the missing elements with mean of the 'CREDIT_LIMIT' \n",
        "# data.loc[(data['CREDIT_LIMIT'].isnull() == True), 'CREDIT_LIMIT'] = data['CREDIT_LIMIT'].mean()\n",
        "# # Filling up the missing elements with mean of the 'MINIMUM_PAYMENT' \n",
        "# data.loc[(data['MINIMUM_PAYMENTS'].isnull() == True), \n",
        "#                   'MINIMUM_PAYMENTS'] = data['MINIMUM_PAYMENTS'].mean()"
      ],
      "metadata": {
        "id": "zMylfVtsn17W"
      },
      "execution_count": 6,
      "outputs": []
    },
    {
      "cell_type": "code",
      "source": [
        "# data.isnull().sum()"
      ],
      "metadata": {
        "id": "r40ps9qQn4AC"
      },
      "execution_count": 7,
      "outputs": []
    },
    {
      "cell_type": "code",
      "source": [
        "# # Basic statistics on data\n",
        "# data.describe()"
      ],
      "metadata": {
        "id": "RIZbCMYQn52y"
      },
      "execution_count": 8,
      "outputs": []
    },
    {
      "cell_type": "code",
      "source": [
        "# # Let's drop Customer ID since it has no meaning here \n",
        "# data.drop(\"CUST_ID\", axis = 1, inplace= True)\n",
        "\n",
        "# plt.figure(figsize=(10,50))\n",
        "# for i in range(len(data.columns)):\n",
        "#   plt.subplot(17, 1, i+1)\n",
        "#   sns.distplot(data[data.columns[i]], kde_kws={\"color\": \"b\", \"lw\": 3, \"label\": \"KDE\"}, \n",
        "#                hist_kws={\"color\": \"g\"})\n",
        "#   plt.title(data.columns[i])\n",
        "# plt.tight_layout()"
      ],
      "metadata": {
        "id": "HhbsLX0jn7fG"
      },
      "execution_count": 9,
      "outputs": []
    },
    {
      "cell_type": "code",
      "source": [
        "# correlations = data.corr()\n",
        "# f, ax = plt.subplots(figsize = (20, 20))\n",
        "# sns.heatmap(correlations, annot = True)"
      ],
      "metadata": {
        "id": "LXpWnKQwn89G"
      },
      "execution_count": 10,
      "outputs": []
    },
    {
      "cell_type": "markdown",
      "source": [
        "# IDENTIFY OPTIMAL NUMBERS OF CLUSTERS\n"
      ],
      "metadata": {
        "id": "URhlcvRDoBZ9"
      }
    },
    {
      "cell_type": "code",
      "source": [
        "# # Let's scale the data first\n",
        "# scaler = StandardScaler()\n",
        "# data_scaled = scaler.fit_transform(data)\n",
        "# data_scaled"
      ],
      "metadata": {
        "id": "E2K3rG4gn_k7"
      },
      "execution_count": 11,
      "outputs": []
    },
    {
      "cell_type": "code",
      "source": [
        "# # Create 10 models with 1 to 10 clusters\n",
        "# wcss = []\n",
        "# for i in range(1, 10):\n",
        "#     kmeans = KMeans(n_clusters = i)\n",
        "#     # Fit the data points\n",
        "#     kmeans.fit(data_scaled)\n",
        "#     # Get the WCSS (inertia) value\n",
        "#     wcss.append(kmeans.inertia_)\n",
        "    \n",
        "# #Plot the WCSS values onto a line graph\n",
        "# plt.plot(range(1, 11), wcss)\n",
        "# plt.title('WCSS by Clusters')\n",
        "# plt.xlabel('Number of clusters')\n",
        "# plt.ylabel('WCSS')\n",
        "# plt.show()"
      ],
      "metadata": {
        "id": "wJi5thydoD0u"
      },
      "execution_count": 12,
      "outputs": []
    },
    {
      "cell_type": "markdown",
      "source": [
        "# RUNNING THE K-MEANS ALGORITHM\n"
      ],
      "metadata": {
        "id": "cTC6EPpfoFOh"
      }
    },
    {
      "cell_type": "code",
      "source": [
        "# kmeans = KMeans(4)\n",
        "# kmeans.fit(data_scaled)\n",
        "# labels = kmeans.labels_\n",
        "# kmeans.cluster_centers_.shape"
      ],
      "metadata": {
        "id": "G6TOGgRYoEDD"
      },
      "execution_count": 13,
      "outputs": []
    },
    {
      "cell_type": "code",
      "source": [
        "# cluster_centers = pd.DataFrame(data = kmeans.cluster_centers_, columns = [data.columns])\n",
        "# cluster_centers"
      ],
      "metadata": {
        "id": "0oZu4VIzoHd9"
      },
      "execution_count": 14,
      "outputs": []
    },
    {
      "cell_type": "code",
      "source": [
        "# # Perform inverse transformation\n",
        "# cluster_centers = scaler.inverse_transform(cluster_centers)\n",
        "# cluster_centers = pd.DataFrame(data = cluster_centers, columns = [data.columns])\n",
        "# cluster_centers"
      ],
      "metadata": {
        "id": "AdiMHVAIoHv_"
      },
      "execution_count": 15,
      "outputs": []
    },
    {
      "cell_type": "code",
      "source": [
        "# # concatenate the clusters labels to our original dataframe\n",
        "# creditcard_df_cluster = pd.concat([data, pd.DataFrame({'cluster':labels})], axis = 1)\n",
        "# creditcard_df_cluster.head()"
      ],
      "metadata": {
        "id": "MT-nHG80oJFA"
      },
      "execution_count": 16,
      "outputs": []
    },
    {
      "cell_type": "code",
      "source": [
        "# # Plot the histogram of various clusters\n",
        "# for i in data.columns:\n",
        "#   plt.figure(figsize = (35, 5))\n",
        "#   for j in range(4):\n",
        "#     plt.subplot(1,4,j+1)\n",
        "#     cluster = creditcard_df_cluster[creditcard_df_cluster['cluster'] == j]\n",
        "#     cluster[i].hist(bins = 20)\n",
        "#     plt.title('{}    \\nCluster {} '.format(i,j))\n",
        "  \n",
        "#   plt.show()"
      ],
      "metadata": {
        "id": "WIb7ptI3oKQw"
      },
      "execution_count": 17,
      "outputs": []
    },
    {
      "cell_type": "markdown",
      "source": [
        "# Principal Component Analysis\n"
      ],
      "metadata": {
        "id": "Y7yoKwnHoOqo"
      }
    },
    {
      "cell_type": "code",
      "source": [
        "# # Obtain the 2 principal components \n",
        "# pca = PCA(n_components=2)\n",
        "# principal_comp = pca.fit_transform(data_scaled)\n",
        "# # Create a dataframe with the two components\n",
        "# pca_df = pd.DataFrame(data = principal_comp, columns =['pca1','pca2'])\n",
        "# # Concatenate the clusters labels to the dataframe\n",
        "# pca_df = pd.concat([pca_df,pd.DataFrame({'cluster':labels})], axis = 1)\n",
        "# pca_df.head()"
      ],
      "metadata": {
        "id": "g4sbuASuoLsC"
      },
      "execution_count": 18,
      "outputs": []
    },
    {
      "cell_type": "code",
      "source": [
        "# plt.figure(figsize=(10,10))\n",
        "# ax = sns.scatterplot(x=\"pca1\", y=\"pca2\", hue = \"cluster\", data = pca_df, palette =['red','green','blue','pink'])\n",
        "# plt.show()"
      ],
      "metadata": {
        "id": "qDCfnCjsoQVf"
      },
      "execution_count": 19,
      "outputs": []
    },
    {
      "cell_type": "markdown",
      "source": [
        "# INTERPRETING THE RESULTS\n"
      ],
      "metadata": {
        "id": "ylSpJ76roS8g"
      }
    },
    {
      "cell_type": "code",
      "source": [
        "# creditcard_df_cluster['cluster'].value_counts()"
      ],
      "metadata": {
        "id": "0fiy4TPwoRy2"
      },
      "execution_count": 20,
      "outputs": []
    }
  ]
}