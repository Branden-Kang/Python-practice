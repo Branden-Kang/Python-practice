{
  "nbformat": 4,
  "nbformat_minor": 0,
  "metadata": {
    "colab": {
      "name": "REST API with Python.ipynb",
      "provenance": [],
      "authorship_tag": "ABX9TyP/qE02PlB4PI+pEbxb9R7t"
    },
    "kernelspec": {
      "name": "python3",
      "display_name": "Python 3"
    },
    "language_info": {
      "name": "python"
    }
  },
  "cells": [
    {
      "cell_type": "markdown",
      "metadata": {
        "id": "xuDzybOo0TtR"
      },
      "source": [
        "[Reference](https://archita810.medium.com/rest-api-with-python-70f8844935ca)"
      ]
    },
    {
      "cell_type": "code",
      "metadata": {
        "id": "gLQg4YC0vyZP"
      },
      "source": [
        "from flask import Flask\n",
        "app = Flask(__name__)\n",
        "\n",
        "@app.route('/')\n",
        "def hello_world():\n",
        "    return \"Hello, World!\""
      ],
      "execution_count": 1,
      "outputs": []
    },
    {
      "cell_type": "code",
      "metadata": {
        "id": "CP3M_JMs1HGC"
      },
      "source": [
        "current_users=['Sam','Rajeev','Linda']\n",
        "from flask import jsonify\n",
        "\n",
        "@app.route('/getUsers')\n",
        "def get_users():\n",
        "    return jsonify(current_users)"
      ],
      "execution_count": 2,
      "outputs": []
    }
  ]
}