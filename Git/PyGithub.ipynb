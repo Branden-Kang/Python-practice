{
  "nbformat": 4,
  "nbformat_minor": 0,
  "metadata": {
    "colab": {
      "name": "PyGithub.ipynb",
      "provenance": [],
      "authorship_tag": "ABX9TyMicYLzOiDUmGDmA7Hh2zX1"
    },
    "kernelspec": {
      "name": "python3",
      "display_name": "Python 3"
    }
  },
  "cells": [
    {
      "cell_type": "markdown",
      "metadata": {
        "id": "Pd4f9502wSVB"
      },
      "source": [
        "[Reference](https://pygithub.readthedocs.io/en/latest/introduction.html#what-next)"
      ]
    },
    {
      "cell_type": "code",
      "metadata": {
        "colab": {
          "base_uri": "https://localhost:8080/"
        },
        "id": "uYwh5D3zwGql",
        "outputId": "069fbc2c-ad4d-40a5-d3be-d31be15ddd31"
      },
      "source": [
        "!pip install PyGithub"
      ],
      "execution_count": 3,
      "outputs": [
        {
          "output_type": "stream",
          "text": [
            "Collecting PyGithub\n",
            "\u001b[?25l  Downloading https://files.pythonhosted.org/packages/18/44/df78514f2b5f5abaec330596e0fa3273824238399a964d1a7e82fd39990d/PyGithub-1.54.1-py3-none-any.whl (289kB)\n",
            "\r\u001b[K     |█▏                              | 10kB 15.9MB/s eta 0:00:01\r\u001b[K     |██▎                             | 20kB 14.5MB/s eta 0:00:01\r\u001b[K     |███▍                            | 30kB 10.5MB/s eta 0:00:01\r\u001b[K     |████▌                           | 40kB 8.1MB/s eta 0:00:01\r\u001b[K     |█████▊                          | 51kB 5.2MB/s eta 0:00:01\r\u001b[K     |██████▉                         | 61kB 6.0MB/s eta 0:00:01\r\u001b[K     |████████                        | 71kB 6.2MB/s eta 0:00:01\r\u001b[K     |█████████                       | 81kB 6.4MB/s eta 0:00:01\r\u001b[K     |██████████▏                     | 92kB 6.4MB/s eta 0:00:01\r\u001b[K     |███████████▍                    | 102kB 6.7MB/s eta 0:00:01\r\u001b[K     |████████████▌                   | 112kB 6.7MB/s eta 0:00:01\r\u001b[K     |█████████████▋                  | 122kB 6.7MB/s eta 0:00:01\r\u001b[K     |██████████████▊                 | 133kB 6.7MB/s eta 0:00:01\r\u001b[K     |███████████████▉                | 143kB 6.7MB/s eta 0:00:01\r\u001b[K     |█████████████████               | 153kB 6.7MB/s eta 0:00:01\r\u001b[K     |██████████████████▏             | 163kB 6.7MB/s eta 0:00:01\r\u001b[K     |███████████████████▎            | 174kB 6.7MB/s eta 0:00:01\r\u001b[K     |████████████████████▍           | 184kB 6.7MB/s eta 0:00:01\r\u001b[K     |█████████████████████▌          | 194kB 6.7MB/s eta 0:00:01\r\u001b[K     |██████████████████████▊         | 204kB 6.7MB/s eta 0:00:01\r\u001b[K     |███████████████████████▉        | 215kB 6.7MB/s eta 0:00:01\r\u001b[K     |█████████████████████████       | 225kB 6.7MB/s eta 0:00:01\r\u001b[K     |██████████████████████████      | 235kB 6.7MB/s eta 0:00:01\r\u001b[K     |███████████████████████████▏    | 245kB 6.7MB/s eta 0:00:01\r\u001b[K     |████████████████████████████▍   | 256kB 6.7MB/s eta 0:00:01\r\u001b[K     |█████████████████████████████▌  | 266kB 6.7MB/s eta 0:00:01\r\u001b[K     |██████████████████████████████▋ | 276kB 6.7MB/s eta 0:00:01\r\u001b[K     |███████████████████████████████▊| 286kB 6.7MB/s eta 0:00:01\r\u001b[K     |████████████████████████████████| 296kB 6.7MB/s \n",
            "\u001b[?25hCollecting pyjwt<2.0\n",
            "  Downloading https://files.pythonhosted.org/packages/87/8b/6a9f14b5f781697e51259d81657e6048fd31a113229cf346880bb7545565/PyJWT-1.7.1-py2.py3-none-any.whl\n",
            "Collecting deprecated\n",
            "  Downloading https://files.pythonhosted.org/packages/76/a1/05d7f62f956d77b23a640efc650f80ce24483aa2f85a09c03fb64f49e879/Deprecated-1.2.10-py2.py3-none-any.whl\n",
            "Requirement already satisfied: requests>=2.14.0 in /usr/local/lib/python3.6/dist-packages (from PyGithub) (2.23.0)\n",
            "Requirement already satisfied: wrapt<2,>=1.10 in /usr/local/lib/python3.6/dist-packages (from deprecated->PyGithub) (1.12.1)\n",
            "Requirement already satisfied: chardet<4,>=3.0.2 in /usr/local/lib/python3.6/dist-packages (from requests>=2.14.0->PyGithub) (3.0.4)\n",
            "Requirement already satisfied: urllib3!=1.25.0,!=1.25.1,<1.26,>=1.21.1 in /usr/local/lib/python3.6/dist-packages (from requests>=2.14.0->PyGithub) (1.24.3)\n",
            "Requirement already satisfied: idna<3,>=2.5 in /usr/local/lib/python3.6/dist-packages (from requests>=2.14.0->PyGithub) (2.10)\n",
            "Requirement already satisfied: certifi>=2017.4.17 in /usr/local/lib/python3.6/dist-packages (from requests>=2.14.0->PyGithub) (2020.12.5)\n",
            "Installing collected packages: pyjwt, deprecated, PyGithub\n",
            "Successfully installed PyGithub-1.54.1 deprecated-1.2.10 pyjwt-1.7.1\n"
          ],
          "name": "stdout"
        }
      ]
    },
    {
      "cell_type": "code",
      "metadata": {
        "id": "cSaZKsh1v0dc"
      },
      "source": [
        "from github import Github"
      ],
      "execution_count": 4,
      "outputs": []
    },
    {
      "cell_type": "code",
      "metadata": {
        "id": "vkfAZDBdv4PP"
      },
      "source": [
        "# using username and password\n",
        "g = Github(\"user\", \"password\")\n",
        "\n",
        "# or using an access token\n",
        "g = Github(\"access_token\")\n",
        "\n",
        "# Github Enterprise with custom hostname\n",
        "g = Github(base_url=\"https://{hostname}/api/v3\", login_or_token=\"access_token\")"
      ],
      "execution_count": 5,
      "outputs": []
    },
    {
      "cell_type": "code",
      "metadata": {
        "id": "b5tJBlxvwRIr"
      },
      "source": [
        "for repo in g.get_user().get_repos():\n",
        "    print(repo.name)\n",
        "    repo.edit(has_wiki=False)\n",
        "    # to see all the available attributes and methods\n",
        "    print(dir(repo))"
      ],
      "execution_count": 6,
      "outputs": []
    }
  ]
}