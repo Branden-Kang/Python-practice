{
  "nbformat": 4,
  "nbformat_minor": 0,
  "metadata": {
    "colab": {
      "name": "4 Python Pandas Functions That Serve Better With Dictionaries.ipynb",
      "provenance": [],
      "collapsed_sections": [],
      "authorship_tag": "ABX9TyPNizt5f7ShbGWHdvs3Xi+u"
    },
    "kernelspec": {
      "name": "python3",
      "display_name": "Python 3"
    },
    "language_info": {
      "name": "python"
    }
  },
  "cells": [
    {
      "cell_type": "markdown",
      "metadata": {
        "id": "lkUlczbSkJwL"
      },
      "source": [
        "[Reference](https://towardsdatascience.com/4-python-pandas-functions-that-serve-better-with-dictionaries-bbfcc6c39fa5)"
      ]
    },
    {
      "cell_type": "code",
      "metadata": {
        "id": "SqUc91UWkINw"
      },
      "source": [
        "import numpy as np\n",
        "import pandas as pd\n",
        "\n",
        "df = pd.DataFrame({\n",
        "   \"Group\": [\"A\",\"B\",\"B\",\"C\",\"A\",\"A\",\"C\"],\n",
        "   \"Price\": [\"125\",\"100\",\"120\",\"36\",\"98\",\"170\",\"111\"],\n",
        "   \"Weight\": [\"12.13\",\"16.21\",\"9.54\",\"7.99\",\"10.06\",\"15.14\",\"10.54\"]\n",
        "})"
      ],
      "execution_count": null,
      "outputs": []
    },
    {
      "cell_type": "markdown",
      "metadata": {
        "id": "6jC3eGAYkPYr"
      },
      "source": [
        "# 1. Astype\n"
      ]
    },
    {
      "cell_type": "code",
      "metadata": {
        "id": "v7lRhPm4kJkj"
      },
      "source": [
        "df[\"Price\"] = df[\"Price\"].astype(\"int\")\n",
        "df[\"Weight\"] = df[\"Weight\"].astype(\"float\")"
      ],
      "execution_count": null,
      "outputs": []
    },
    {
      "cell_type": "code",
      "metadata": {
        "colab": {
          "base_uri": "https://localhost:8080/"
        },
        "id": "Tg3nodyEkRyP",
        "outputId": "5b16d511-72df-4b0a-b195-4ae910e27ddc"
      },
      "source": [
        "df = df.astype({\"Price\":\"int\", \"Weight\":\"float\"})\n",
        "df.dtypes"
      ],
      "execution_count": null,
      "outputs": [
        {
          "output_type": "execute_result",
          "data": {
            "text/plain": [
              "Group      object\n",
              "Price       int64\n",
              "Weight    float64\n",
              "dtype: object"
            ]
          },
          "metadata": {},
          "execution_count": 3
        }
      ]
    },
    {
      "cell_type": "markdown",
      "metadata": {
        "id": "frow0_fOkWTy"
      },
      "source": [
        "# 2. Replace\n"
      ]
    },
    {
      "cell_type": "code",
      "metadata": {
        "id": "Gg9bqiQpkT1q"
      },
      "source": [
        "df[\"Group\"] = df[\"Group\"].replace(\n",
        "    {\"A\": \"Group A\", \"B\": \"Group B\", \"C\": \"Group C\"}\n",
        ")"
      ],
      "execution_count": null,
      "outputs": []
    },
    {
      "cell_type": "markdown",
      "metadata": {
        "id": "KNqEwdLpkbja"
      },
      "source": [
        "# 3. Fillna\n"
      ]
    },
    {
      "cell_type": "code",
      "metadata": {
        "id": "TT2mZQ_tkYkC"
      },
      "source": [
        "df.iloc[:2, :2] = np.nan"
      ],
      "execution_count": null,
      "outputs": []
    },
    {
      "cell_type": "code",
      "metadata": {
        "id": "quO86gt-kddx"
      },
      "source": [
        "df = df.fillna({\"Group\": \"Group A\", \"Price\": 100})"
      ],
      "execution_count": null,
      "outputs": []
    },
    {
      "cell_type": "markdown",
      "metadata": {
        "id": "6N-AbjzAkm-7"
      },
      "source": [
        "# 4. Apply"
      ]
    },
    {
      "cell_type": "code",
      "metadata": {
        "colab": {
          "base_uri": "https://localhost:8080/",
          "height": 266
        },
        "id": "sI1zpAEIkelQ",
        "outputId": "fa7666b6-6318-42be-c384-ecab3d2892ff"
      },
      "source": [
        "df.apply({\"Price\": lambda x: x + 10, \"Weight\": lambda x: x * 1.1})"
      ],
      "execution_count": null,
      "outputs": [
        {
          "output_type": "execute_result",
          "data": {
            "text/html": [
              "<div>\n",
              "<style scoped>\n",
              "    .dataframe tbody tr th:only-of-type {\n",
              "        vertical-align: middle;\n",
              "    }\n",
              "\n",
              "    .dataframe tbody tr th {\n",
              "        vertical-align: top;\n",
              "    }\n",
              "\n",
              "    .dataframe thead th {\n",
              "        text-align: right;\n",
              "    }\n",
              "</style>\n",
              "<table border=\"1\" class=\"dataframe\">\n",
              "  <thead>\n",
              "    <tr style=\"text-align: right;\">\n",
              "      <th></th>\n",
              "      <th>Price</th>\n",
              "      <th>Weight</th>\n",
              "    </tr>\n",
              "  </thead>\n",
              "  <tbody>\n",
              "    <tr>\n",
              "      <th>0</th>\n",
              "      <td>110.0</td>\n",
              "      <td>13.343</td>\n",
              "    </tr>\n",
              "    <tr>\n",
              "      <th>1</th>\n",
              "      <td>110.0</td>\n",
              "      <td>17.831</td>\n",
              "    </tr>\n",
              "    <tr>\n",
              "      <th>2</th>\n",
              "      <td>130.0</td>\n",
              "      <td>10.494</td>\n",
              "    </tr>\n",
              "    <tr>\n",
              "      <th>3</th>\n",
              "      <td>46.0</td>\n",
              "      <td>8.789</td>\n",
              "    </tr>\n",
              "    <tr>\n",
              "      <th>4</th>\n",
              "      <td>108.0</td>\n",
              "      <td>11.066</td>\n",
              "    </tr>\n",
              "    <tr>\n",
              "      <th>5</th>\n",
              "      <td>180.0</td>\n",
              "      <td>16.654</td>\n",
              "    </tr>\n",
              "    <tr>\n",
              "      <th>6</th>\n",
              "      <td>121.0</td>\n",
              "      <td>11.594</td>\n",
              "    </tr>\n",
              "  </tbody>\n",
              "</table>\n",
              "</div>"
            ],
            "text/plain": [
              "   Price  Weight\n",
              "0  110.0  13.343\n",
              "1  110.0  17.831\n",
              "2  130.0  10.494\n",
              "3   46.0   8.789\n",
              "4  108.0  11.066\n",
              "5  180.0  16.654\n",
              "6  121.0  11.594"
            ]
          },
          "metadata": {},
          "execution_count": 9
        }
      ]
    }
  ]
}