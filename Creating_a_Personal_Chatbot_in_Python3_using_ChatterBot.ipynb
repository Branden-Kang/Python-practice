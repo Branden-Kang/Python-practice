{
  "nbformat": 4,
  "nbformat_minor": 0,
  "metadata": {
    "colab": {
      "name": "Creating a Personal Chatbot in Python3 using ChatterBot.ipynb",
      "provenance": [],
      "authorship_tag": "ABX9TyMTb9Lr6VJmNUdFQY8QRrci"
    },
    "kernelspec": {
      "name": "python3",
      "display_name": "Python 3"
    }
  },
  "cells": [
    {
      "cell_type": "markdown",
      "metadata": {
        "id": "3JlYJF4e9KMH"
      },
      "source": [
        "[Reference](https://medium.com/datadriveninvestor/creating-a-personal-chatbot-in-python3-using-chatterbot-part-1-e21e5eff1228)"
      ]
    },
    {
      "cell_type": "code",
      "metadata": {
        "id": "iDaLpCEk8NuU",
        "outputId": "631721b7-e0d6-4288-815b-04bc5ebd780b",
        "colab": {
          "base_uri": "https://localhost:8080/",
          "height": 411
        }
      },
      "source": [
        "!pip3 install chatterbot\n",
        "!pip3 install python-levenshtein "
      ],
      "execution_count": 1,
      "outputs": [
        {
          "output_type": "stream",
          "text": [
            "Collecting chatterbot\n",
            "\u001b[?25l  Downloading https://files.pythonhosted.org/packages/7c/21/85c2b114bd9dfabdd46ba58fc4519acdaed45d8c70898d40079e37a45e67/ChatterBot-1.0.8-py2.py3-none-any.whl (63kB)\n",
            "\r\u001b[K     |█████▏                          | 10kB 17.4MB/s eta 0:00:01\r\u001b[K     |██████████▎                     | 20kB 6.2MB/s eta 0:00:01\r\u001b[K     |███████████████▌                | 30kB 6.8MB/s eta 0:00:01\r\u001b[K     |████████████████████▋           | 40kB 8.2MB/s eta 0:00:01\r\u001b[K     |█████████████████████████▊      | 51kB 6.7MB/s eta 0:00:01\r\u001b[K     |███████████████████████████████ | 61kB 7.2MB/s eta 0:00:01\r\u001b[K     |████████████████████████████████| 71kB 4.4MB/s \n",
            "\u001b[?25hCollecting mathparse<0.2,>=0.1\n",
            "  Downloading https://files.pythonhosted.org/packages/c3/e5/4910fb85950cb960fcf3f5aabe1c8e55f5c9201788a1c1302b570a7e1f84/mathparse-0.1.2-py3-none-any.whl\n",
            "Requirement already satisfied: pytz in /usr/local/lib/python3.6/dist-packages (from chatterbot) (2018.9)\n",
            "Requirement already satisfied: python-dateutil<2.9,>=2.8 in /usr/local/lib/python3.6/dist-packages (from chatterbot) (2.8.1)\n",
            "Requirement already satisfied: sqlalchemy<1.4,>=1.3 in /usr/local/lib/python3.6/dist-packages (from chatterbot) (1.3.19)\n",
            "Requirement already satisfied: six>=1.5 in /usr/local/lib/python3.6/dist-packages (from python-dateutil<2.9,>=2.8->chatterbot) (1.15.0)\n",
            "Installing collected packages: mathparse, chatterbot\n",
            "Successfully installed chatterbot-1.0.8 mathparse-0.1.2\n",
            "Collecting python-levenshtein\n",
            "\u001b[?25l  Downloading https://files.pythonhosted.org/packages/42/a9/d1785c85ebf9b7dfacd08938dd028209c34a0ea3b1bcdb895208bd40a67d/python-Levenshtein-0.12.0.tar.gz (48kB)\n",
            "\u001b[K     |████████████████████████████████| 51kB 3.4MB/s \n",
            "\u001b[?25hRequirement already satisfied: setuptools in /usr/local/lib/python3.6/dist-packages (from python-levenshtein) (50.3.0)\n",
            "Building wheels for collected packages: python-levenshtein\n",
            "  Building wheel for python-levenshtein (setup.py) ... \u001b[?25l\u001b[?25hdone\n",
            "  Created wheel for python-levenshtein: filename=python_Levenshtein-0.12.0-cp36-cp36m-linux_x86_64.whl size=144801 sha256=226d98664786aaabfb3c469bc1f4348114a7b80d9a6d8e01f8a8665aa75de56f\n",
            "  Stored in directory: /root/.cache/pip/wheels/de/c2/93/660fd5f7559049268ad2dc6d81c4e39e9e36518766eaf7e342\n",
            "Successfully built python-levenshtein\n",
            "Installing collected packages: python-levenshtein\n",
            "Successfully installed python-levenshtein-0.12.0\n"
          ],
          "name": "stdout"
        }
      ]
    },
    {
      "cell_type": "code",
      "metadata": {
        "id": "UGAtGoVm8Oue"
      },
      "source": [
        "from chatterbot import ChatBot"
      ],
      "execution_count": 2,
      "outputs": []
    },
    {
      "cell_type": "code",
      "metadata": {
        "id": "JRbss0KW8Poj"
      },
      "source": [
        "chatbot = ChatBot('Brandon', trainer='chatterbot.trainers.ListTrainer')"
      ],
      "execution_count": 6,
      "outputs": []
    },
    {
      "cell_type": "code",
      "metadata": {
        "id": "jmTAcW2C8S0A",
        "outputId": "026eeeab-4f78-4cfc-84fb-75a536f9129f",
        "colab": {
          "base_uri": "https://localhost:8080/",
          "height": 34
        }
      },
      "source": [
        "response = chatbot.get_response(\"Hi there\")\n",
        "print(response)"
      ],
      "execution_count": 7,
      "outputs": [
        {
          "output_type": "stream",
          "text": [
            "Hi there\n"
          ],
          "name": "stdout"
        }
      ]
    },
    {
      "cell_type": "code",
      "metadata": {
        "id": "7twn7OO984CX"
      },
      "source": [
        "from chatterbot.trainers import ListTrainer"
      ],
      "execution_count": 9,
      "outputs": []
    },
    {
      "cell_type": "code",
      "metadata": {
        "id": "mkNdlrCh857u"
      },
      "source": [
        "trainer = ListTrainer(chatbot)"
      ],
      "execution_count": 10,
      "outputs": []
    },
    {
      "cell_type": "code",
      "metadata": {
        "id": "UGx8V2iH8VVw",
        "outputId": "8c31c7d1-272e-4093-faa3-5bc8c7dba00d",
        "colab": {
          "base_uri": "https://localhost:8080/",
          "height": 51
        }
      },
      "source": [
        "trainer.train([\n",
        "    \"Hello\",\n",
        "    \"Hi there!\",\n",
        "    \"How are you doing\",\n",
        "    \"I'm doing great, how about you\",\n",
        "    \"That is good to hear\",\n",
        "    \"Thank you\",\n",
        "    \"You're welcome\"\n",
        "])\n",
        "\n",
        "trainer.train([\n",
        "    \"Good bye!\",\n",
        "    \"See you soon!\",\n",
        "])"
      ],
      "execution_count": 11,
      "outputs": [
        {
          "output_type": "stream",
          "text": [
            "List Trainer: [####################] 100%\n",
            "List Trainer: [####################] 100%\n"
          ],
          "name": "stdout"
        }
      ]
    },
    {
      "cell_type": "code",
      "metadata": {
        "id": "WB9c4Nhd8dmD",
        "outputId": "3b2376fe-53be-404c-d54a-4f80c6edcb41",
        "colab": {
          "base_uri": "https://localhost:8080/",
          "height": 34
        }
      },
      "source": [
        "response = chatbot.get_response(\"Hi there\")\n",
        "print(response)"
      ],
      "execution_count": 12,
      "outputs": [
        {
          "output_type": "stream",
          "text": [
            "How are you doing\n"
          ],
          "name": "stdout"
        }
      ]
    },
    {
      "cell_type": "code",
      "metadata": {
        "id": "7nCovl_T8-ye",
        "outputId": "571ab975-18e4-4ca7-adb5-8af8f185a6a6",
        "colab": {
          "base_uri": "https://localhost:8080/",
          "height": 34
        }
      },
      "source": [
        "response = chatbot.get_response(\"How are you doing\")\n",
        "print(response)"
      ],
      "execution_count": 13,
      "outputs": [
        {
          "output_type": "stream",
          "text": [
            "I'm doing great, how about you\n"
          ],
          "name": "stdout"
        }
      ]
    }
  ]
}