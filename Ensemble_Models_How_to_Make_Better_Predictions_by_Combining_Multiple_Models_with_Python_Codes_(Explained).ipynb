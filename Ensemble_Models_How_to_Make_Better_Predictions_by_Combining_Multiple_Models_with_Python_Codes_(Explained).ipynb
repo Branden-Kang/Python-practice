{
  "nbformat": 4,
  "nbformat_minor": 0,
  "metadata": {
    "colab": {
      "provenance": [],
      "authorship_tag": "ABX9TyNKAzSZt6r3CJO2XFdsJbuO"
    },
    "kernelspec": {
      "name": "python3",
      "display_name": "Python 3"
    },
    "language_info": {
      "name": "python"
    }
  },
  "cells": [
    {
      "cell_type": "markdown",
      "source": [
        "[Reference](https://aryanbajaj13.medium.com/ensemble-models-how-to-make-better-predictions-by-combining-multiple-models-with-python-codes-6ac54403414e)"
      ],
      "metadata": {
        "id": "sMiGBrNAh_sW"
      }
    },
    {
      "cell_type": "markdown",
      "source": [
        "# MAJORITY"
      ],
      "metadata": {
        "id": "Iq-pDurkiGkt"
      }
    },
    {
      "cell_type": "code",
      "execution_count": 1,
      "metadata": {
        "colab": {
          "base_uri": "https://localhost:8080/"
        },
        "id": "q0ITzDbchfbR",
        "outputId": "f0c41ae1-b893-45f6-da38-722c488dda8d"
      },
      "outputs": [
        {
          "output_type": "stream",
          "name": "stdout",
          "text": [
            "Accuracy of the ensemble: 85.5 %\n"
          ]
        }
      ],
      "source": [
        "from sklearn.ensemble import VotingClassifier\n",
        "from sklearn.linear_model import LogisticRegression\n",
        "from sklearn.tree import DecisionTreeClassifier\n",
        "from sklearn.svm import SVC\n",
        "from sklearn.datasets import make_classification\n",
        "from sklearn.model_selection import train_test_split\n",
        "\n",
        "# Generate a random dataset for classification\n",
        "X, y = make_classification(n_samples=1000, random_state=42)\n",
        "\n",
        "# Split the dataset into training and testing sets\n",
        "X_train, X_test, y_train, y_test = train_test_split(X, y, test_size=0.2, random_state=42)\n",
        "\n",
        "# Define three different models\n",
        "model1 = LogisticRegression(random_state=42)\n",
        "model2 = DecisionTreeClassifier(random_state=42)\n",
        "model3 = SVC(random_state=42, probability=True)\n",
        "\n",
        "# Combine the models using majority voting\n",
        "ensemble = VotingClassifier(estimators=[('lr', model1), ('dt', model2), ('svc', model3)], voting='hard')\n",
        "\n",
        "# Fit the ensemble on the training data\n",
        "ensemble.fit(X_train, y_train)\n",
        "\n",
        "# Evaluate the performance of the ensemble on the testing data\n",
        "print(f\"Accuracy of the ensemble: {ensemble.score(X_test, y_test)*100} %\")"
      ]
    },
    {
      "cell_type": "markdown",
      "source": [
        "# AVERAGE"
      ],
      "metadata": {
        "id": "QMfYMmeHiJoF"
      }
    },
    {
      "cell_type": "code",
      "source": [
        "# Import libraries\n",
        "from sklearn.linear_model import LinearRegression\n",
        "from sklearn.tree import DecisionTreeRegressor\n",
        "from sklearn.neighbors import KNeighborsRegressor\n",
        "from sklearn.ensemble import VotingRegressor\n",
        "from sklearn.datasets import fetch_california_housing\n",
        "from sklearn.metrics import mean_squared_error\n",
        "\n",
        "# Load data\n",
        "california = fetch_california_housing(as_frame=True)\n",
        "X = california.data\n",
        "y = california.target\n",
        "\n",
        "# Define models\n",
        "lr = LinearRegression()\n",
        "dt = DecisionTreeRegressor()\n",
        "knn = KNeighborsRegressor()\n",
        "\n",
        "# Create average ensemble\n",
        "avg = VotingRegressor(estimators=[('lr', lr), ('dt', dt), ('knn', knn)])\n",
        "\n",
        "# Fit ensemble on data\n",
        "avg.fit(X, y)\n",
        "\n",
        "# Make predictions\n",
        "y_pred = avg.predict(X)\n",
        "\n",
        "# Evaluate performance\n",
        "mse = mean_squared_error(y, y_pred)\n",
        "print(f'MSE: {mse:.2f}')"
      ],
      "metadata": {
        "colab": {
          "base_uri": "https://localhost:8080/"
        },
        "id": "Asv4fie0iHAD",
        "outputId": "934a3917-2181-492e-cad7-5c5b1bda6e00"
      },
      "execution_count": 2,
      "outputs": [
        {
          "output_type": "stream",
          "name": "stdout",
          "text": [
            "MSE: 0.22\n"
          ]
        }
      ]
    },
    {
      "cell_type": "markdown",
      "source": [
        "# STACKING"
      ],
      "metadata": {
        "id": "HWDTLRLKiMo-"
      }
    },
    {
      "cell_type": "code",
      "source": [
        "# Import libraries\n",
        "from sklearn.linear_model import LogisticRegression\n",
        "from sklearn.tree import DecisionTreeClassifier\n",
        "from sklearn.neighbors import KNeighborsClassifier\n",
        "from sklearn.ensemble import StackingClassifier\n",
        "from sklearn.datasets import load_iris\n",
        "from sklearn.metrics import accuracy_score\n",
        "\n",
        "# Load data\n",
        "X, y = load_iris(return_X_y=True)\n",
        "\n",
        "# Define models\n",
        "lr = LogisticRegression()\n",
        "dt = DecisionTreeClassifier()\n",
        "knn = KNeighborsClassifier()\n",
        "\n",
        "# Create a stacking ensemble\n",
        "stack = StackingClassifier(estimators=[('lr', lr), ('dt', dt), ('knn', knn)], final_estimator=LogisticRegression())\n",
        "\n",
        "# Fit ensemble on data\n",
        "stack.fit(X, y)\n",
        "\n",
        "# Make predictions\n",
        "y_pred = stack.predict(X)\n",
        "\n",
        "# Evaluate performance\n",
        "acc = accuracy_score(y, y_pred)\n",
        "acc = acc*100\n",
        "print(f'Accuracy: {acc:.2f} %')"
      ],
      "metadata": {
        "colab": {
          "base_uri": "https://localhost:8080/"
        },
        "id": "HzO-wugxiLey",
        "outputId": "bf071c96-cff4-4291-b7e9-41e3ce1464a0"
      },
      "execution_count": 3,
      "outputs": [
        {
          "output_type": "stream",
          "name": "stderr",
          "text": [
            "/usr/local/lib/python3.10/dist-packages/sklearn/linear_model/_logistic.py:458: ConvergenceWarning: lbfgs failed to converge (status=1):\n",
            "STOP: TOTAL NO. of ITERATIONS REACHED LIMIT.\n",
            "\n",
            "Increase the number of iterations (max_iter) or scale the data as shown in:\n",
            "    https://scikit-learn.org/stable/modules/preprocessing.html\n",
            "Please also refer to the documentation for alternative solver options:\n",
            "    https://scikit-learn.org/stable/modules/linear_model.html#logistic-regression\n",
            "  n_iter_i = _check_optimize_result(\n",
            "/usr/local/lib/python3.10/dist-packages/sklearn/linear_model/_logistic.py:458: ConvergenceWarning: lbfgs failed to converge (status=1):\n",
            "STOP: TOTAL NO. of ITERATIONS REACHED LIMIT.\n",
            "\n",
            "Increase the number of iterations (max_iter) or scale the data as shown in:\n",
            "    https://scikit-learn.org/stable/modules/preprocessing.html\n",
            "Please also refer to the documentation for alternative solver options:\n",
            "    https://scikit-learn.org/stable/modules/linear_model.html#logistic-regression\n",
            "  n_iter_i = _check_optimize_result(\n"
          ]
        },
        {
          "output_type": "stream",
          "name": "stdout",
          "text": [
            "Accuracy: 98.67 %\n"
          ]
        }
      ]
    },
    {
      "cell_type": "markdown",
      "source": [
        "# BAGGING"
      ],
      "metadata": {
        "id": "uq078B1aiWrK"
      }
    },
    {
      "cell_type": "code",
      "source": [
        "# Import libraries\n",
        "from sklearn.tree import DecisionTreeClassifier\n",
        "from sklearn.ensemble import BaggingClassifier\n",
        "from sklearn.datasets import load_iris\n",
        "from sklearn.metrics import accuracy_score\n",
        "\n",
        "# Load data\n",
        "X, y = load_iris(return_X_y=True)\n",
        "\n",
        "# Define base model\n",
        "dt = DecisionTreeClassifier()\n",
        "\n",
        "# Create a bagging ensemble\n",
        "bag = BaggingClassifier(base_estimator=dt, n_estimators=10)\n",
        "\n",
        "# Fit ensemble on data\n",
        "bag.fit(X, y)\n",
        "\n",
        "# Make predictions\n",
        "y_pred = bag.predict(X)\n",
        "\n",
        "# Evaluate performance\n",
        "acc = accuracy_score(y, y_pred)\n",
        "acc = acc *100\n",
        "print(f'Accuracy: {acc:.2f} %')"
      ],
      "metadata": {
        "colab": {
          "base_uri": "https://localhost:8080/"
        },
        "id": "Az_e83cgiU4U",
        "outputId": "c1cdf065-5f8e-46b1-a110-2065525210c2"
      },
      "execution_count": 4,
      "outputs": [
        {
          "output_type": "stream",
          "name": "stdout",
          "text": [
            "Accuracy: 99.33 %\n"
          ]
        },
        {
          "output_type": "stream",
          "name": "stderr",
          "text": [
            "/usr/local/lib/python3.10/dist-packages/sklearn/ensemble/_base.py:166: FutureWarning: `base_estimator` was renamed to `estimator` in version 1.2 and will be removed in 1.4.\n",
            "  warnings.warn(\n"
          ]
        }
      ]
    },
    {
      "cell_type": "markdown",
      "source": [
        "# BOOSTING"
      ],
      "metadata": {
        "id": "laxMZTUBia50"
      }
    },
    {
      "cell_type": "code",
      "source": [
        "# Import libraries\n",
        "from sklearn.tree import DecisionTreeRegressor\n",
        "from sklearn.ensemble import AdaBoostRegressor\n",
        "from sklearn.datasets import load_iris\n",
        "from sklearn.metrics import mean_squared_error\n",
        "\n",
        "# Load data\n",
        "X, y = load_iris(return_X_y=True)\n",
        "\n",
        "# Define base model\n",
        "dt = DecisionTreeRegressor()\n",
        "\n",
        "# Create boosting ensemble\n",
        "boost = AdaBoostRegressor(base_estimator=dt, n_estimators=10)\n",
        "\n",
        "# Fit ensemble on data\n",
        "boost.fit(X, y)\n",
        "\n",
        "# Make predictions\n",
        "y_pred = boost.predict(X)\n",
        "\n",
        "# Evaluate performance\n",
        "mse = mean_squared_error(y, y_pred)\n",
        "print(f'MSE: {mse:.2f}')"
      ],
      "metadata": {
        "colab": {
          "base_uri": "https://localhost:8080/"
        },
        "id": "SaiuD55SiZdr",
        "outputId": "75d857b4-5a92-47c1-95e5-502dfaca9142"
      },
      "execution_count": 5,
      "outputs": [
        {
          "output_type": "stream",
          "name": "stdout",
          "text": [
            "MSE: 0.00\n"
          ]
        },
        {
          "output_type": "stream",
          "name": "stderr",
          "text": [
            "/usr/local/lib/python3.10/dist-packages/sklearn/ensemble/_base.py:166: FutureWarning: `base_estimator` was renamed to `estimator` in version 1.2 and will be removed in 1.4.\n",
            "  warnings.warn(\n"
          ]
        }
      ]
    }
  ]
}