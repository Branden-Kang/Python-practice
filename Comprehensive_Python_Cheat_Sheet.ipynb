{
  "nbformat": 4,
  "nbformat_minor": 0,
  "metadata": {
    "colab": {
      "name": "Comprehensive Python Cheat Sheet.ipynb",
      "provenance": [],
      "authorship_tag": "ABX9TyODgX4tweW7tMfZBp4ACkBo"
    },
    "kernelspec": {
      "name": "python3",
      "display_name": "Python 3"
    }
  },
  "cells": [
    {
      "cell_type": "markdown",
      "metadata": {
        "id": "oD26HboE2quu",
        "colab_type": "text"
      },
      "source": [
        "[Reference1](https://medium.com/the-codehub/comprehensive-python-cheat-sheet-for-beginners-5d76bb038fa2) <br>\n",
        "[Reference2](https://www.saturncloud.io/s/pythoncheatsheet/?utm_source=LinkedIn&utm_medium=influencer_rishi)"
      ]
    },
    {
      "cell_type": "markdown",
      "metadata": {
        "id": "fbKxiVXJuktA",
        "colab_type": "text"
      },
      "source": [
        "# Integers"
      ]
    },
    {
      "cell_type": "code",
      "metadata": {
        "id": "BmZuIGqRXDSa",
        "colab_type": "code",
        "colab": {
          "base_uri": "https://localhost:8080/",
          "height": 102
        },
        "outputId": "2b6ea146-0a6a-4da5-fa85-124496f215ee"
      },
      "source": [
        "a = 10    # Integer \n",
        "b = -9    # Integer can be negative \n",
        "c = 0b011 # Integer can be Binary \n",
        "d = 0o123 # Integer can be Octal \n",
        "e = 0x9AF # Integer can be Hexadecimal\n",
        "\n",
        "print(\"Positive Integer = \",a, \" | \", type(a)) \n",
        "print(\"Negative Integer = \",b, \" | \", type(b)) \n",
        "print(\"Binary Integer = \",c, \" | \", type(c)) \n",
        "print(\"Octal Integer = \",d, \" | \", type(d)) \n",
        "print(\"Hexadecimal Integer = \",e, \" | \", type(e))"
      ],
      "execution_count": 3,
      "outputs": [
        {
          "output_type": "stream",
          "text": [
            "Positive Integer =  10  |  <class 'int'>\n",
            "Negative Integer =  -9  |  <class 'int'>\n",
            "Binary Integer =  3  |  <class 'int'>\n",
            "Octal Integer =  83  |  <class 'int'>\n",
            "Hexadecimal Integer =  2479  |  <class 'int'>\n"
          ],
          "name": "stdout"
        }
      ]
    },
    {
      "cell_type": "markdown",
      "metadata": {
        "id": "uYGB58DrutP0",
        "colab_type": "text"
      },
      "source": [
        "# Complex, Float, Boolean, String and Byte"
      ]
    },
    {
      "cell_type": "code",
      "metadata": {
        "id": "tKo4KGDlOnq5",
        "colab_type": "code",
        "colab": {}
      },
      "source": [
        "in1 = 1+2j            # Complex Number \n",
        "fl1 = 0.78            # Float \n",
        "fl2 = 2.6e-2          # Float with scientific notation. e means 10^ \n",
        "fl3 = 1.8*10**308 +1  # One greater than the maximum float \n",
        "bl1 = True            # Boolean True \n",
        "bl2 = False           # Boolean False \n",
        "st1 = \"Hello World!\"  # String \n",
        "bt1 = b\"hola\"         # Byte"
      ],
      "execution_count": 4,
      "outputs": []
    },
    {
      "cell_type": "markdown",
      "metadata": {
        "id": "A7SBdJ_ZuyMm",
        "colab_type": "text"
      },
      "source": [
        "# String"
      ]
    },
    {
      "cell_type": "code",
      "metadata": {
        "id": "zV_7vCUdWv9W",
        "colab_type": "code",
        "colab": {}
      },
      "source": [
        "str1 = \"I am a string\"\n",
        "str2 = 'I too am a string'\n",
        "str3 = \"\" \n",
        "str4 = str1 + ' ' + str2"
      ],
      "execution_count": 6,
      "outputs": []
    },
    {
      "cell_type": "code",
      "metadata": {
        "id": "pxC9_Qu_vBcr",
        "colab_type": "code",
        "colab": {
          "base_uri": "https://localhost:8080/",
          "height": 85
        },
        "outputId": "4929726b-2ccc-4ba9-f5da-583a9d9fd114"
      },
      "source": [
        "print(str1);\n",
        "print(str2);\n",
        "print(str3);\n",
        "print(str4);"
      ],
      "execution_count": 10,
      "outputs": [
        {
          "output_type": "stream",
          "text": [
            "I am a string\n",
            "I too am a string\n",
            "\n",
            "I am a string I too am a string\n"
          ],
          "name": "stdout"
        }
      ]
    },
    {
      "cell_type": "code",
      "metadata": {
        "id": "Qu0HESo-XtNm",
        "colab_type": "code",
        "colab": {}
      },
      "source": [
        "str5 = \"Let’s say we need a single quote i.e. -> ' \"\n",
        "str6 = 'What if we “need” a double quote i.e. -> \" '"
      ],
      "execution_count": 11,
      "outputs": []
    },
    {
      "cell_type": "code",
      "metadata": {
        "id": "bcJpmEiZu-2Z",
        "colab_type": "code",
        "colab": {
          "base_uri": "https://localhost:8080/",
          "height": 34
        },
        "outputId": "3aefe092-dcc9-49c8-ca01-dfd71eb189e7"
      },
      "source": [
        "print(str5)"
      ],
      "execution_count": 12,
      "outputs": [
        {
          "output_type": "stream",
          "text": [
            "Let’s say we need a single quote i.e. -> ' \n"
          ],
          "name": "stdout"
        }
      ]
    },
    {
      "cell_type": "code",
      "metadata": {
        "id": "zPzi8oG8vL1K",
        "colab_type": "code",
        "colab": {
          "base_uri": "https://localhost:8080/",
          "height": 34
        },
        "outputId": "6a8683f4-ebdc-4560-d746-ec33eff3a09b"
      },
      "source": [
        "print(str6)"
      ],
      "execution_count": 13,
      "outputs": [
        {
          "output_type": "stream",
          "text": [
            "What if we “need” a double quote i.e. -> \" \n"
          ],
          "name": "stdout"
        }
      ]
    },
    {
      "cell_type": "code",
      "metadata": {
        "id": "TFRcTHsZvNAP",
        "colab_type": "code",
        "colab": {
          "base_uri": "https://localhost:8080/",
          "height": 34
        },
        "outputId": "d1ecd0e4-0be1-4cdc-e658-010c426c5351"
      },
      "source": [
        "str7 = \"Let’s escape both single quote(\\') and double quote(\\\")\"\n",
        "print(str7)"
      ],
      "execution_count": 14,
      "outputs": [
        {
          "output_type": "stream",
          "text": [
            "Let’s escape both single quote(') and double quote(\")\n"
          ],
          "name": "stdout"
        }
      ]
    },
    {
      "cell_type": "code",
      "metadata": {
        "id": "dA7tz02rvRs_",
        "colab_type": "code",
        "colab": {}
      },
      "source": [
        "str8 = '''Yet another way of escaping single (\\') and double (\\\")'''\n",
        "str9 = \"\"\"Yet another way of escaping single (\\') and double (\\\")\"\"\""
      ],
      "execution_count": 15,
      "outputs": []
    },
    {
      "cell_type": "code",
      "metadata": {
        "id": "tHNCHksLvb-M",
        "colab_type": "code",
        "colab": {
          "base_uri": "https://localhost:8080/",
          "height": 37
        },
        "outputId": "fadaea0e-925e-431f-c98c-22fe74f24e65"
      },
      "source": [
        "str8"
      ],
      "execution_count": 16,
      "outputs": [
        {
          "output_type": "execute_result",
          "data": {
            "application/vnd.google.colaboratory.intrinsic+json": {
              "type": "string"
            },
            "text/plain": [
              "'Yet another way of escaping single (\\') and double (\")'"
            ]
          },
          "metadata": {
            "tags": []
          },
          "execution_count": 16
        }
      ]
    },
    {
      "cell_type": "code",
      "metadata": {
        "id": "vbHeE3Nfvcup",
        "colab_type": "code",
        "colab": {
          "base_uri": "https://localhost:8080/",
          "height": 37
        },
        "outputId": "fc93ce00-1040-4731-b005-4b0674e141d6"
      },
      "source": [
        "str9"
      ],
      "execution_count": 18,
      "outputs": [
        {
          "output_type": "execute_result",
          "data": {
            "application/vnd.google.colaboratory.intrinsic+json": {
              "type": "string"
            },
            "text/plain": [
              "'Yet another way of escaping single (\\') and double (\")'"
            ]
          },
          "metadata": {
            "tags": []
          },
          "execution_count": 18
        }
      ]
    },
    {
      "cell_type": "code",
      "metadata": {
        "id": "jWuK5tRdvd3F",
        "colab_type": "code",
        "colab": {}
      },
      "source": [
        "# Raw String \n",
        "str10 = R\"Let's escape both single quote(\\') and double quote(\\\")\""
      ],
      "execution_count": 19,
      "outputs": []
    },
    {
      "cell_type": "code",
      "metadata": {
        "id": "KKUONlXtwMI0",
        "colab_type": "code",
        "colab": {
          "base_uri": "https://localhost:8080/",
          "height": 37
        },
        "outputId": "f4178ffb-5e98-4bac-a9c0-8df402e41954"
      },
      "source": [
        "str10"
      ],
      "execution_count": 20,
      "outputs": [
        {
          "output_type": "execute_result",
          "data": {
            "application/vnd.google.colaboratory.intrinsic+json": {
              "type": "string"
            },
            "text/plain": [
              "'Let\\'s escape both single quote(\\\\\\') and double quote(\\\\\")'"
            ]
          },
          "metadata": {
            "tags": []
          },
          "execution_count": 20
        }
      ]
    },
    {
      "cell_type": "code",
      "metadata": {
        "id": "45S3pBifwNVf",
        "colab_type": "code",
        "colab": {
          "base_uri": "https://localhost:8080/",
          "height": 102
        },
        "outputId": "66ad990a-b610-4d9d-cebf-a4fa67e6ae98"
      },
      "source": [
        "# Indexing String \n",
        "print(\"str7[0] = \", str7[0]) \n",
        "print(\"str7[1] = \", str7[1]) \n",
        "print(\"str7[0:10] = \", str7[0:10]) \n",
        "print(\"str7[10:5] = \", str7[10:5]) \n",
        "print(\"str7[10:25] = \", str7[10:25])"
      ],
      "execution_count": 21,
      "outputs": [
        {
          "output_type": "stream",
          "text": [
            "str7[0] =  L\n",
            "str7[1] =  e\n",
            "str7[0:10] =  Let’s esca\n",
            "str7[10:5] =  \n",
            "str7[10:25] =  pe both single \n"
          ],
          "name": "stdout"
        }
      ]
    },
    {
      "cell_type": "markdown",
      "metadata": {
        "id": "9OK3J4zSwgIi",
        "colab_type": "text"
      },
      "source": [
        "# Type Conversion"
      ]
    },
    {
      "cell_type": "code",
      "metadata": {
        "id": "HQ_8cDK3weTP",
        "colab_type": "code",
        "colab": {}
      },
      "source": [
        "# Type Conversion (Initial Types Used)\n",
        "str1 = \"15\"\n",
        "in1 = 10 \n",
        "fl1 = 10.8"
      ],
      "execution_count": 23,
      "outputs": []
    },
    {
      "cell_type": "code",
      "metadata": {
        "id": "58koqurMwh7K",
        "colab_type": "code",
        "colab": {
          "base_uri": "https://localhost:8080/",
          "height": 34
        },
        "outputId": "5ac4d6cc-5790-470b-9898-102f1e256ce4"
      },
      "source": [
        "int(10.8)\n",
        "int(-10.8)\n",
        "round(10.8)\n",
        "round(-10.8)\n",
        "bin(10)\n",
        "oct(10)\n",
        "hex(10)\n",
        "bool(10)\n",
        "bool('abc')\n",
        "bool(None)\n",
        "bool('')"
      ],
      "execution_count": 27,
      "outputs": [
        {
          "output_type": "execute_result",
          "data": {
            "text/plain": [
              "False"
            ]
          },
          "metadata": {
            "tags": []
          },
          "execution_count": 27
        }
      ]
    },
    {
      "cell_type": "markdown",
      "metadata": {
        "id": "24mASGqIw58p",
        "colab_type": "text"
      },
      "source": [
        "# Operators"
      ]
    },
    {
      "cell_type": "markdown",
      "metadata": {
        "id": "vgTtFzC3xlg4",
        "colab_type": "text"
      },
      "source": [
        "## Numerical Operations"
      ]
    },
    {
      "cell_type": "code",
      "metadata": {
        "id": "40L1jS4Fwz_e",
        "colab_type": "code",
        "colab": {}
      },
      "source": [
        "# Operators \n",
        "num1 = 10 \n",
        "num2 = 4 \n",
        "# num3 = 5e2 \n",
        "# num1 += 1 \n",
        "# num1 *= 3 \n",
        "# num1 /= 2"
      ],
      "execution_count": 44,
      "outputs": []
    },
    {
      "cell_type": "code",
      "metadata": {
        "id": "oa4dxwLew7SK",
        "colab_type": "code",
        "colab": {
          "base_uri": "https://localhost:8080/",
          "height": 34
        },
        "outputId": "422ad8aa-5a78-4e0d-a58d-7e496d9113ca"
      },
      "source": [
        "print(num1 + num2)"
      ],
      "execution_count": 45,
      "outputs": [
        {
          "output_type": "stream",
          "text": [
            "14\n"
          ],
          "name": "stdout"
        }
      ]
    },
    {
      "cell_type": "code",
      "metadata": {
        "id": "uwT9k7R7w-U8",
        "colab_type": "code",
        "colab": {
          "base_uri": "https://localhost:8080/",
          "height": 34
        },
        "outputId": "21238669-7bb0-4673-d469-b8d74e19988e"
      },
      "source": [
        "print(num1 - num2)"
      ],
      "execution_count": 46,
      "outputs": [
        {
          "output_type": "stream",
          "text": [
            "6\n"
          ],
          "name": "stdout"
        }
      ]
    },
    {
      "cell_type": "code",
      "metadata": {
        "id": "VplMg1uVw_6f",
        "colab_type": "code",
        "colab": {
          "base_uri": "https://localhost:8080/",
          "height": 34
        },
        "outputId": "977c7acc-3c74-4e9b-da8a-8c8383f38f26"
      },
      "source": [
        "print(num1 * num2)"
      ],
      "execution_count": 47,
      "outputs": [
        {
          "output_type": "stream",
          "text": [
            "40\n"
          ],
          "name": "stdout"
        }
      ]
    },
    {
      "cell_type": "code",
      "metadata": {
        "id": "AGemPwxlxBIb",
        "colab_type": "code",
        "colab": {
          "base_uri": "https://localhost:8080/",
          "height": 34
        },
        "outputId": "d062cbda-7ef1-4475-caa8-8377256ca67a"
      },
      "source": [
        "print(num1 / num2)"
      ],
      "execution_count": 48,
      "outputs": [
        {
          "output_type": "stream",
          "text": [
            "2.5\n"
          ],
          "name": "stdout"
        }
      ]
    },
    {
      "cell_type": "code",
      "metadata": {
        "id": "I1l01GHDxDpH",
        "colab_type": "code",
        "colab": {
          "base_uri": "https://localhost:8080/",
          "height": 34
        },
        "outputId": "aaa3fd71-7fb0-474a-fd67-5bab55d2f001"
      },
      "source": [
        "print(num1 // num2)"
      ],
      "execution_count": 49,
      "outputs": [
        {
          "output_type": "stream",
          "text": [
            "2\n"
          ],
          "name": "stdout"
        }
      ]
    },
    {
      "cell_type": "code",
      "metadata": {
        "id": "6qOMbHeyxGVq",
        "colab_type": "code",
        "colab": {
          "base_uri": "https://localhost:8080/",
          "height": 34
        },
        "outputId": "d0fedea2-e667-458c-e64c-057725bbb7b9"
      },
      "source": [
        "print(num1 % num2)"
      ],
      "execution_count": 50,
      "outputs": [
        {
          "output_type": "stream",
          "text": [
            "2\n"
          ],
          "name": "stdout"
        }
      ]
    },
    {
      "cell_type": "code",
      "metadata": {
        "id": "9h0RZwDbxJD5",
        "colab_type": "code",
        "colab": {
          "base_uri": "https://localhost:8080/",
          "height": 34
        },
        "outputId": "bdd50991-c7ee-4d6f-bd9e-bae6ba98702a"
      },
      "source": [
        "print(num1 ** num2)"
      ],
      "execution_count": 51,
      "outputs": [
        {
          "output_type": "stream",
          "text": [
            "10000\n"
          ],
          "name": "stdout"
        }
      ]
    },
    {
      "cell_type": "code",
      "metadata": {
        "id": "Sd0DVf30xKi6",
        "colab_type": "code",
        "colab": {
          "base_uri": "https://localhost:8080/",
          "height": 34
        },
        "outputId": "0591aa01-9e6e-4290-ac4b-64b7539bf01c"
      },
      "source": [
        "pow(num1,num2)"
      ],
      "execution_count": 52,
      "outputs": [
        {
          "output_type": "execute_result",
          "data": {
            "text/plain": [
              "10000"
            ]
          },
          "metadata": {
            "tags": []
          },
          "execution_count": 52
        }
      ]
    },
    {
      "cell_type": "code",
      "metadata": {
        "id": "UVNWOF3ZxP9G",
        "colab_type": "code",
        "colab": {
          "base_uri": "https://localhost:8080/",
          "height": 34
        },
        "outputId": "fc74d15c-20e3-4bcc-f975-a88f80d4e13d"
      },
      "source": [
        "num1 += 1\n",
        "num1"
      ],
      "execution_count": 53,
      "outputs": [
        {
          "output_type": "execute_result",
          "data": {
            "text/plain": [
              "11"
            ]
          },
          "metadata": {
            "tags": []
          },
          "execution_count": 53
        }
      ]
    },
    {
      "cell_type": "code",
      "metadata": {
        "id": "7T_FcocNxT0U",
        "colab_type": "code",
        "colab": {
          "base_uri": "https://localhost:8080/",
          "height": 34
        },
        "outputId": "8ece2f0b-8208-442a-8618-834874c871d1"
      },
      "source": [
        "num1 *= 3 \n",
        "num1"
      ],
      "execution_count": 55,
      "outputs": [
        {
          "output_type": "execute_result",
          "data": {
            "text/plain": [
              "33"
            ]
          },
          "metadata": {
            "tags": []
          },
          "execution_count": 55
        }
      ]
    },
    {
      "cell_type": "code",
      "metadata": {
        "id": "ZBB-13J7xYSW",
        "colab_type": "code",
        "colab": {
          "base_uri": "https://localhost:8080/",
          "height": 34
        },
        "outputId": "94f948ee-5b3a-461f-eb1d-f581d0334120"
      },
      "source": [
        "num1 /= 2\n",
        "num1"
      ],
      "execution_count": 56,
      "outputs": [
        {
          "output_type": "execute_result",
          "data": {
            "text/plain": [
              "16.5"
            ]
          },
          "metadata": {
            "tags": []
          },
          "execution_count": 56
        }
      ]
    },
    {
      "cell_type": "markdown",
      "metadata": {
        "id": "C-9ilut1xjxN",
        "colab_type": "text"
      },
      "source": [
        "## Bitwise Operations"
      ]
    },
    {
      "cell_type": "code",
      "metadata": {
        "id": "dzkaxjQGxh8b",
        "colab_type": "code",
        "colab": {}
      },
      "source": [
        "# Bitwise Operations \n",
        "num4 = 12 \n",
        "num5 = 9 \n",
        "bool1 = True \n",
        "bool2 = False"
      ],
      "execution_count": 57,
      "outputs": []
    },
    {
      "cell_type": "code",
      "metadata": {
        "id": "GM6MPwJjxnnP",
        "colab_type": "code",
        "colab": {
          "base_uri": "https://localhost:8080/",
          "height": 37
        },
        "outputId": "7ed8765a-a0e7-41d0-e130-3a1cc781be32"
      },
      "source": [
        "bin(num4)"
      ],
      "execution_count": 58,
      "outputs": [
        {
          "output_type": "execute_result",
          "data": {
            "application/vnd.google.colaboratory.intrinsic+json": {
              "type": "string"
            },
            "text/plain": [
              "'0b1100'"
            ]
          },
          "metadata": {
            "tags": []
          },
          "execution_count": 58
        }
      ]
    },
    {
      "cell_type": "code",
      "metadata": {
        "id": "aiNI_2_NxpEd",
        "colab_type": "code",
        "colab": {
          "base_uri": "https://localhost:8080/",
          "height": 37
        },
        "outputId": "b32364cd-05cd-430c-d159-1845840853d4"
      },
      "source": [
        "bin(num5)"
      ],
      "execution_count": 59,
      "outputs": [
        {
          "output_type": "execute_result",
          "data": {
            "application/vnd.google.colaboratory.intrinsic+json": {
              "type": "string"
            },
            "text/plain": [
              "'0b1001'"
            ]
          },
          "metadata": {
            "tags": []
          },
          "execution_count": 59
        }
      ]
    },
    {
      "cell_type": "code",
      "metadata": {
        "id": "_6W6lhJBxp5k",
        "colab_type": "code",
        "colab": {
          "base_uri": "https://localhost:8080/",
          "height": 34
        },
        "outputId": "aa4b09c8-847e-4233-9180-7f5e334b618b"
      },
      "source": [
        "bool1 or bool2"
      ],
      "execution_count": 60,
      "outputs": [
        {
          "output_type": "execute_result",
          "data": {
            "text/plain": [
              "True"
            ]
          },
          "metadata": {
            "tags": []
          },
          "execution_count": 60
        }
      ]
    },
    {
      "cell_type": "code",
      "metadata": {
        "id": "F5aKlkKIxq_G",
        "colab_type": "code",
        "colab": {
          "base_uri": "https://localhost:8080/",
          "height": 34
        },
        "outputId": "707dc9fb-4e1f-46a1-be7b-56991c4f7cfa"
      },
      "source": [
        "bool1 and bool2"
      ],
      "execution_count": 61,
      "outputs": [
        {
          "output_type": "execute_result",
          "data": {
            "text/plain": [
              "False"
            ]
          },
          "metadata": {
            "tags": []
          },
          "execution_count": 61
        }
      ]
    },
    {
      "cell_type": "code",
      "metadata": {
        "id": "6zBg-Ykqxrvc",
        "colab_type": "code",
        "colab": {
          "base_uri": "https://localhost:8080/",
          "height": 34
        },
        "outputId": "173bd2b7-cb4f-4114-a7c0-de8f49eb6c13"
      },
      "source": [
        "bool1 | bool2"
      ],
      "execution_count": 62,
      "outputs": [
        {
          "output_type": "execute_result",
          "data": {
            "text/plain": [
              "True"
            ]
          },
          "metadata": {
            "tags": []
          },
          "execution_count": 62
        }
      ]
    },
    {
      "cell_type": "code",
      "metadata": {
        "id": "jKw6Tq0KxtEs",
        "colab_type": "code",
        "colab": {
          "base_uri": "https://localhost:8080/",
          "height": 34
        },
        "outputId": "6d37b8db-7c41-4fe9-8cd7-673507a3e266"
      },
      "source": [
        "bool1 & bool2"
      ],
      "execution_count": 63,
      "outputs": [
        {
          "output_type": "execute_result",
          "data": {
            "text/plain": [
              "False"
            ]
          },
          "metadata": {
            "tags": []
          },
          "execution_count": 63
        }
      ]
    },
    {
      "cell_type": "code",
      "metadata": {
        "id": "RsWbXMhzxuDD",
        "colab_type": "code",
        "colab": {
          "base_uri": "https://localhost:8080/",
          "height": 37
        },
        "outputId": "a47791f7-b609-41e7-e546-010f521b20f9"
      },
      "source": [
        "bin(num4)"
      ],
      "execution_count": 64,
      "outputs": [
        {
          "output_type": "execute_result",
          "data": {
            "application/vnd.google.colaboratory.intrinsic+json": {
              "type": "string"
            },
            "text/plain": [
              "'0b1100'"
            ]
          },
          "metadata": {
            "tags": []
          },
          "execution_count": 64
        }
      ]
    },
    {
      "cell_type": "code",
      "metadata": {
        "id": "6NXCzNE9xup1",
        "colab_type": "code",
        "colab": {
          "base_uri": "https://localhost:8080/",
          "height": 37
        },
        "outputId": "c5efc9a9-2a17-4aff-d6a4-f8b36be62d53"
      },
      "source": [
        "bin(num5)"
      ],
      "execution_count": 66,
      "outputs": [
        {
          "output_type": "execute_result",
          "data": {
            "application/vnd.google.colaboratory.intrinsic+json": {
              "type": "string"
            },
            "text/plain": [
              "'0b1001'"
            ]
          },
          "metadata": {
            "tags": []
          },
          "execution_count": 66
        }
      ]
    },
    {
      "cell_type": "code",
      "metadata": {
        "id": "No-s3uL_xv3r",
        "colab_type": "code",
        "colab": {
          "base_uri": "https://localhost:8080/",
          "height": 34
        },
        "outputId": "3758b89e-7e55-46ba-885c-a440ddc44821"
      },
      "source": [
        "num4 | num5"
      ],
      "execution_count": 72,
      "outputs": [
        {
          "output_type": "execute_result",
          "data": {
            "text/plain": [
              "13"
            ]
          },
          "metadata": {
            "tags": []
          },
          "execution_count": 72
        }
      ]
    },
    {
      "cell_type": "code",
      "metadata": {
        "id": "4ki-aEc4x0y2",
        "colab_type": "code",
        "colab": {
          "base_uri": "https://localhost:8080/",
          "height": 34
        },
        "outputId": "6fafbfc0-905a-47e6-8266-1a3683e1f489"
      },
      "source": [
        "num4 & num5"
      ],
      "execution_count": 73,
      "outputs": [
        {
          "output_type": "execute_result",
          "data": {
            "text/plain": [
              "8"
            ]
          },
          "metadata": {
            "tags": []
          },
          "execution_count": 73
        }
      ]
    },
    {
      "cell_type": "code",
      "metadata": {
        "id": "lrGJnCufx2lY",
        "colab_type": "code",
        "colab": {
          "base_uri": "https://localhost:8080/",
          "height": 34
        },
        "outputId": "8799920a-ffe2-41fe-ff03-c53167c63e40"
      },
      "source": [
        "num4 << 2"
      ],
      "execution_count": 74,
      "outputs": [
        {
          "output_type": "execute_result",
          "data": {
            "text/plain": [
              "48"
            ]
          },
          "metadata": {
            "tags": []
          },
          "execution_count": 74
        }
      ]
    },
    {
      "cell_type": "code",
      "metadata": {
        "id": "k3hGZ1T_x3go",
        "colab_type": "code",
        "colab": {
          "base_uri": "https://localhost:8080/",
          "height": 34
        },
        "outputId": "9b60ac25-6d6a-405e-c6f1-5a14f13e0989"
      },
      "source": [
        "num4 >> 2"
      ],
      "execution_count": 75,
      "outputs": [
        {
          "output_type": "execute_result",
          "data": {
            "text/plain": [
              "3"
            ]
          },
          "metadata": {
            "tags": []
          },
          "execution_count": 75
        }
      ]
    },
    {
      "cell_type": "markdown",
      "metadata": {
        "id": "TKAjt-GWyA04",
        "colab_type": "text"
      },
      "source": [
        "# Data Structures"
      ]
    },
    {
      "cell_type": "markdown",
      "metadata": {
        "id": "JvTuGCvsyBfa",
        "colab_type": "text"
      },
      "source": [
        "## List"
      ]
    },
    {
      "cell_type": "code",
      "metadata": {
        "id": "v8IruzACx4ZM",
        "colab_type": "code",
        "colab": {}
      },
      "source": [
        "# List Indexing \n",
        "l1 = [1,2,3,4,5,6,7,8,9,10]"
      ],
      "execution_count": 76,
      "outputs": []
    },
    {
      "cell_type": "code",
      "metadata": {
        "id": "vhv9Lq6syD5m",
        "colab_type": "code",
        "colab": {
          "base_uri": "https://localhost:8080/",
          "height": 34
        },
        "outputId": "79374be5-7913-44e8-db80-025863d13128"
      },
      "source": [
        "#Lists \n",
        "l2 = [4,1,3,9,7] \n",
        "l3 = ['a','ab', 'abc','ab', 'ab'] \n",
        "\n",
        "#List Methods\n",
        "l2.sort()       # Sort \n",
        "l2"
      ],
      "execution_count": 78,
      "outputs": [
        {
          "output_type": "execute_result",
          "data": {
            "text/plain": [
              "[1, 3, 4, 7, 9]"
            ]
          },
          "metadata": {
            "tags": []
          },
          "execution_count": 78
        }
      ]
    },
    {
      "cell_type": "code",
      "metadata": {
        "id": "T9fH0TYOyH7o",
        "colab_type": "code",
        "colab": {
          "base_uri": "https://localhost:8080/",
          "height": 34
        },
        "outputId": "21773764-4f97-4caa-d8de-33554835474b"
      },
      "source": [
        "l2.append(12)   # Add an element at the end \n",
        "l2"
      ],
      "execution_count": 79,
      "outputs": [
        {
          "output_type": "execute_result",
          "data": {
            "text/plain": [
              "[1, 3, 4, 7, 9, 12]"
            ]
          },
          "metadata": {
            "tags": []
          },
          "execution_count": 79
        }
      ]
    },
    {
      "cell_type": "code",
      "metadata": {
        "id": "pva5mgnNyJz2",
        "colab_type": "code",
        "colab": {
          "base_uri": "https://localhost:8080/",
          "height": 34
        },
        "outputId": "4a23dbed-8d1e-49da-a620-9d4e2231eb66"
      },
      "source": [
        "sum(l2)         # Sum all the elements "
      ],
      "execution_count": 80,
      "outputs": [
        {
          "output_type": "execute_result",
          "data": {
            "text/plain": [
              "36"
            ]
          },
          "metadata": {
            "tags": []
          },
          "execution_count": 80
        }
      ]
    },
    {
      "cell_type": "code",
      "metadata": {
        "id": "YC0-isCByK8J",
        "colab_type": "code",
        "colab": {
          "base_uri": "https://localhost:8080/",
          "height": 34
        },
        "outputId": "faac521c-2b9c-4760-8ebe-085cdf19e6c9"
      },
      "source": [
        "max(l2)         # Find the maximum element "
      ],
      "execution_count": 81,
      "outputs": [
        {
          "output_type": "execute_result",
          "data": {
            "text/plain": [
              "12"
            ]
          },
          "metadata": {
            "tags": []
          },
          "execution_count": 81
        }
      ]
    },
    {
      "cell_type": "code",
      "metadata": {
        "id": "4__H36PIyMJu",
        "colab_type": "code",
        "colab": {
          "base_uri": "https://localhost:8080/",
          "height": 34
        },
        "outputId": "e8037aaf-b99d-4c80-9c11-e2ee52229f45"
      },
      "source": [
        "min(l2)         # Find the minimum element "
      ],
      "execution_count": 82,
      "outputs": [
        {
          "output_type": "execute_result",
          "data": {
            "text/plain": [
              "1"
            ]
          },
          "metadata": {
            "tags": []
          },
          "execution_count": 82
        }
      ]
    },
    {
      "cell_type": "code",
      "metadata": {
        "id": "7nMXEWbHyM-E",
        "colab_type": "code",
        "colab": {
          "base_uri": "https://localhost:8080/",
          "height": 54
        },
        "outputId": "44860e06-b109-46a4-e6fb-395bd417ef3d"
      },
      "source": [
        "l2.extend(l3)   # Add elements of another list to this list \n",
        "l2"
      ],
      "execution_count": 84,
      "outputs": [
        {
          "output_type": "execute_result",
          "data": {
            "text/plain": [
              "[1, 3, 4, 7, 9, 12, 'a', 'ab', 'abc', 'ab', 'ab', 'a', 'ab', 'abc', 'ab', 'ab']"
            ]
          },
          "metadata": {
            "tags": []
          },
          "execution_count": 84
        }
      ]
    },
    {
      "cell_type": "code",
      "metadata": {
        "id": "uSPHyCG3yOCC",
        "colab_type": "code",
        "colab": {
          "base_uri": "https://localhost:8080/",
          "height": 306
        },
        "outputId": "84db4846-a69d-4bc0-c713-1dfa167d6b11"
      },
      "source": [
        "l2.insert(1,13) # Insert element at a specific index \n",
        "l2"
      ],
      "execution_count": 87,
      "outputs": [
        {
          "output_type": "execute_result",
          "data": {
            "text/plain": [
              "[1,\n",
              " 13,\n",
              " 13,\n",
              " 3,\n",
              " 4,\n",
              " 7,\n",
              " 9,\n",
              " 12,\n",
              " 'ab',\n",
              " 'abc',\n",
              " 'ab',\n",
              " 'ab',\n",
              " 'a',\n",
              " 'ab',\n",
              " 'abc',\n",
              " 'ab',\n",
              " 'ab']"
            ]
          },
          "metadata": {
            "tags": []
          },
          "execution_count": 87
        }
      ]
    },
    {
      "cell_type": "code",
      "metadata": {
        "id": "luN-CetuyQTZ",
        "colab_type": "code",
        "colab": {
          "base_uri": "https://localhost:8080/",
          "height": 54
        },
        "outputId": "e2d5e85b-5033-445a-b3cf-68e0973c6057"
      },
      "source": [
        "l2.remove('a')  # Remove a specific element\n",
        "l2"
      ],
      "execution_count": 88,
      "outputs": [
        {
          "output_type": "execute_result",
          "data": {
            "text/plain": [
              "[1, 13, 13, 3, 4, 7, 9, 12, 'ab', 'abc', 'ab', 'ab', 'ab', 'abc', 'ab', 'ab']"
            ]
          },
          "metadata": {
            "tags": []
          },
          "execution_count": 88
        }
      ]
    },
    {
      "cell_type": "code",
      "metadata": {
        "id": "57KdaWuyyRUH",
        "colab_type": "code",
        "colab": {
          "base_uri": "https://localhost:8080/",
          "height": 34
        },
        "outputId": "ed416690-2bd5-4a56-8103-5302d02c3156"
      },
      "source": [
        "l2.count('ab')  # Count occurrences of element "
      ],
      "execution_count": 90,
      "outputs": [
        {
          "output_type": "execute_result",
          "data": {
            "text/plain": [
              "6"
            ]
          },
          "metadata": {
            "tags": []
          },
          "execution_count": 90
        }
      ]
    },
    {
      "cell_type": "code",
      "metadata": {
        "id": "kNIjm2uJyVH9",
        "colab_type": "code",
        "colab": {
          "base_uri": "https://localhost:8080/",
          "height": 54
        },
        "outputId": "c89df38c-54d7-4d86-cf3b-8a86d9a1e4fa"
      },
      "source": [
        "l2.reverse()    # Reverse List \n",
        "l2"
      ],
      "execution_count": 91,
      "outputs": [
        {
          "output_type": "execute_result",
          "data": {
            "text/plain": [
              "['ab', 'ab', 'abc', 'ab', 'ab', 'ab', 'abc', 'ab', 12, 9, 7, 4, 3, 13, 13, 1]"
            ]
          },
          "metadata": {
            "tags": []
          },
          "execution_count": 91
        }
      ]
    },
    {
      "cell_type": "code",
      "metadata": {
        "id": "7m2YB_tOyXEN",
        "colab_type": "code",
        "colab": {
          "base_uri": "https://localhost:8080/",
          "height": 34
        },
        "outputId": "6023bda1-7b24-4b03-9d8e-e29c5328081f"
      },
      "source": [
        "l2.pop(4)       # Remove element from this position\n",
        "l2"
      ],
      "execution_count": 92,
      "outputs": [
        {
          "output_type": "execute_result",
          "data": {
            "text/plain": [
              "['ab', 'ab', 'abc', 'ab', 'ab', 'abc', 'ab', 12, 9, 7, 4, 3, 13, 13, 1]"
            ]
          },
          "metadata": {
            "tags": []
          },
          "execution_count": 92
        }
      ]
    },
    {
      "cell_type": "markdown",
      "metadata": {
        "id": "HGuQx8pyyemG",
        "colab_type": "text"
      },
      "source": [
        "## Tuples"
      ]
    },
    {
      "cell_type": "code",
      "metadata": {
        "id": "Vs0NulvYyYLG",
        "colab_type": "code",
        "colab": {}
      },
      "source": [
        "# Tuples \n",
        "tp1 = (\"hello\", ) # Single length tuple \n",
        "tp2 = (1,2,3,[5,6]) # Tuple containing mutable types"
      ],
      "execution_count": 94,
      "outputs": []
    },
    {
      "cell_type": "code",
      "metadata": {
        "id": "tT4cASgNyg1q",
        "colab_type": "code",
        "colab": {
          "base_uri": "https://localhost:8080/",
          "height": 34
        },
        "outputId": "ca254a1a-6de0-4e80-96ea-228b1149d8ef"
      },
      "source": [
        "tp1"
      ],
      "execution_count": 95,
      "outputs": [
        {
          "output_type": "execute_result",
          "data": {
            "text/plain": [
              "('hello',)"
            ]
          },
          "metadata": {
            "tags": []
          },
          "execution_count": 95
        }
      ]
    },
    {
      "cell_type": "code",
      "metadata": {
        "id": "HamSDW9wyi5T",
        "colab_type": "code",
        "colab": {
          "base_uri": "https://localhost:8080/",
          "height": 34
        },
        "outputId": "1fb3fc4b-25c6-4343-f54c-2582f3203fd1"
      },
      "source": [
        "tp2"
      ],
      "execution_count": 96,
      "outputs": [
        {
          "output_type": "execute_result",
          "data": {
            "text/plain": [
              "(1, 2, 3, [5, 6])"
            ]
          },
          "metadata": {
            "tags": []
          },
          "execution_count": 96
        }
      ]
    },
    {
      "cell_type": "code",
      "metadata": {
        "id": "pTKqHMGryjN9",
        "colab_type": "code",
        "colab": {
          "base_uri": "https://localhost:8080/",
          "height": 215
        },
        "outputId": "c7e0b34d-2bff-4e35-815c-4c1bcf394634"
      },
      "source": [
        "# Immutability \n",
        "tp2[0] = 0"
      ],
      "execution_count": 97,
      "outputs": [
        {
          "output_type": "error",
          "ename": "TypeError",
          "evalue": "ignored",
          "traceback": [
            "\u001b[0;31m---------------------------------------------------------------------------\u001b[0m",
            "\u001b[0;31mTypeError\u001b[0m                                 Traceback (most recent call last)",
            "\u001b[0;32m<ipython-input-97-89957e31076f>\u001b[0m in \u001b[0;36m<module>\u001b[0;34m()\u001b[0m\n\u001b[1;32m      1\u001b[0m \u001b[0;31m# Immutability\u001b[0m\u001b[0;34m\u001b[0m\u001b[0;34m\u001b[0m\u001b[0;34m\u001b[0m\u001b[0m\n\u001b[0;32m----> 2\u001b[0;31m \u001b[0mtp2\u001b[0m\u001b[0;34m[\u001b[0m\u001b[0;36m0\u001b[0m\u001b[0;34m]\u001b[0m \u001b[0;34m=\u001b[0m \u001b[0;36m0\u001b[0m\u001b[0;34m\u001b[0m\u001b[0;34m\u001b[0m\u001b[0m\n\u001b[0m",
            "\u001b[0;31mTypeError\u001b[0m: 'tuple' object does not support item assignment"
          ]
        }
      ]
    },
    {
      "cell_type": "code",
      "metadata": {
        "id": "WiGPmKw8ylU4",
        "colab_type": "code",
        "colab": {}
      },
      "source": [
        "# Changing the mutable parts \n",
        "tp2[3][1] = 4"
      ],
      "execution_count": 98,
      "outputs": []
    },
    {
      "cell_type": "code",
      "metadata": {
        "id": "orje2IISymri",
        "colab_type": "code",
        "colab": {
          "base_uri": "https://localhost:8080/",
          "height": 34
        },
        "outputId": "f9da1454-98b4-4ed8-feff-da511e22496e"
      },
      "source": [
        "tp2"
      ],
      "execution_count": 99,
      "outputs": [
        {
          "output_type": "execute_result",
          "data": {
            "text/plain": [
              "(1, 2, 3, [5, 4])"
            ]
          },
          "metadata": {
            "tags": []
          },
          "execution_count": 99
        }
      ]
    },
    {
      "cell_type": "markdown",
      "metadata": {
        "id": "NPL2paNcypiT",
        "colab_type": "text"
      },
      "source": [
        "# Set"
      ]
    },
    {
      "cell_type": "code",
      "metadata": {
        "id": "byUN-p5Byn5E",
        "colab_type": "code",
        "colab": {}
      },
      "source": [
        "# Sets \n",
        "set1 = {'a', 'b', 'c', 'a'} \n",
        "set2 = {'a', 'd', 'e', 'f'} \n",
        "set3 = {'a', 'd'}"
      ],
      "execution_count": 103,
      "outputs": []
    },
    {
      "cell_type": "code",
      "metadata": {
        "id": "qB4jbDSUyuI5",
        "colab_type": "code",
        "colab": {
          "base_uri": "https://localhost:8080/",
          "height": 34
        },
        "outputId": "66ba133d-6413-4eb7-acdc-30f186ec3579"
      },
      "source": [
        "set1"
      ],
      "execution_count": 104,
      "outputs": [
        {
          "output_type": "execute_result",
          "data": {
            "text/plain": [
              "{'a', 'b', 'c'}"
            ]
          },
          "metadata": {
            "tags": []
          },
          "execution_count": 104
        }
      ]
    },
    {
      "cell_type": "code",
      "metadata": {
        "id": "k617yB7_y6Cf",
        "colab_type": "code",
        "colab": {
          "base_uri": "https://localhost:8080/",
          "height": 34
        },
        "outputId": "e0c4c23c-bd25-4ae5-df58-8b4f83caa9db"
      },
      "source": [
        "set2"
      ],
      "execution_count": 105,
      "outputs": [
        {
          "output_type": "execute_result",
          "data": {
            "text/plain": [
              "{'a', 'd', 'e', 'f'}"
            ]
          },
          "metadata": {
            "tags": []
          },
          "execution_count": 105
        }
      ]
    },
    {
      "cell_type": "code",
      "metadata": {
        "id": "XEmIMw47y6fy",
        "colab_type": "code",
        "colab": {
          "base_uri": "https://localhost:8080/",
          "height": 34
        },
        "outputId": "e500e462-cf14-45f6-9383-2f88041acc07"
      },
      "source": [
        "set3"
      ],
      "execution_count": 106,
      "outputs": [
        {
          "output_type": "execute_result",
          "data": {
            "text/plain": [
              "{'a', 'd'}"
            ]
          },
          "metadata": {
            "tags": []
          },
          "execution_count": 106
        }
      ]
    },
    {
      "cell_type": "code",
      "metadata": {
        "id": "BwlcHbsvy6yZ",
        "colab_type": "code",
        "colab": {
          "base_uri": "https://localhost:8080/",
          "height": 34
        },
        "outputId": "17e3fee3-97f2-44a2-dcff-0f7aaa22432e"
      },
      "source": [
        "set1.union(set2)"
      ],
      "execution_count": 107,
      "outputs": [
        {
          "output_type": "execute_result",
          "data": {
            "text/plain": [
              "{'a', 'b', 'c', 'd', 'e', 'f'}"
            ]
          },
          "metadata": {
            "tags": []
          },
          "execution_count": 107
        }
      ]
    },
    {
      "cell_type": "code",
      "metadata": {
        "id": "VZH8y404y78n",
        "colab_type": "code",
        "colab": {
          "base_uri": "https://localhost:8080/",
          "height": 34
        },
        "outputId": "ac68f1a9-21fe-48b8-f621-b7b0c4640163"
      },
      "source": [
        "set1.intersection(set2)"
      ],
      "execution_count": 108,
      "outputs": [
        {
          "output_type": "execute_result",
          "data": {
            "text/plain": [
              "{'a'}"
            ]
          },
          "metadata": {
            "tags": []
          },
          "execution_count": 108
        }
      ]
    },
    {
      "cell_type": "code",
      "metadata": {
        "id": "gRJzSpU6y93N",
        "colab_type": "code",
        "colab": {
          "base_uri": "https://localhost:8080/",
          "height": 34
        },
        "outputId": "7dc40829-eac2-4e3c-bd86-7dade5c63130"
      },
      "source": [
        "set1.issubset(set2)"
      ],
      "execution_count": 109,
      "outputs": [
        {
          "output_type": "execute_result",
          "data": {
            "text/plain": [
              "False"
            ]
          },
          "metadata": {
            "tags": []
          },
          "execution_count": 109
        }
      ]
    },
    {
      "cell_type": "code",
      "metadata": {
        "id": "Rz5Po_z6y_Dm",
        "colab_type": "code",
        "colab": {
          "base_uri": "https://localhost:8080/",
          "height": 34
        },
        "outputId": "f83b788c-fc86-4f45-bafa-fa719da3fc93"
      },
      "source": [
        "set3.issubset(set2)"
      ],
      "execution_count": 110,
      "outputs": [
        {
          "output_type": "execute_result",
          "data": {
            "text/plain": [
              "True"
            ]
          },
          "metadata": {
            "tags": []
          },
          "execution_count": 110
        }
      ]
    },
    {
      "cell_type": "code",
      "metadata": {
        "id": "f52RKXhRzA2m",
        "colab_type": "code",
        "colab": {
          "base_uri": "https://localhost:8080/",
          "height": 34
        },
        "outputId": "fd112bc7-4403-4674-a1b3-40f20f82fbe2"
      },
      "source": [
        "list1 = ['a', 'b', 'a', 'a'] \n",
        "list1"
      ],
      "execution_count": 111,
      "outputs": [
        {
          "output_type": "execute_result",
          "data": {
            "text/plain": [
              "['a', 'b', 'a', 'a']"
            ]
          },
          "metadata": {
            "tags": []
          },
          "execution_count": 111
        }
      ]
    },
    {
      "cell_type": "code",
      "metadata": {
        "id": "75q11WOxzOG7",
        "colab_type": "code",
        "colab": {
          "base_uri": "https://localhost:8080/",
          "height": 34
        },
        "outputId": "33fbeaaf-d7d5-4006-e748-5b6b5692ce4d"
      },
      "source": [
        "set1  = set(list1) #How to convert list to a set\n",
        "set1"
      ],
      "execution_count": 112,
      "outputs": [
        {
          "output_type": "execute_result",
          "data": {
            "text/plain": [
              "{'a', 'b'}"
            ]
          },
          "metadata": {
            "tags": []
          },
          "execution_count": 112
        }
      ]
    },
    {
      "cell_type": "markdown",
      "metadata": {
        "id": "d01nEPzszRmx",
        "colab_type": "text"
      },
      "source": [
        "## Dictionary"
      ]
    },
    {
      "cell_type": "code",
      "metadata": {
        "id": "jKMy8-2EzPD2",
        "colab_type": "code",
        "colab": {}
      },
      "source": [
        "# Dictionary \n",
        "dict1 = {'a': 12, 'b': 13, 'c':14, 'd':15} \n",
        "dict2 = {'d' : 16, 'e': 17} # Update old key and add new key \n",
        "dict1.update(dict2)"
      ],
      "execution_count": 113,
      "outputs": []
    },
    {
      "cell_type": "code",
      "metadata": {
        "id": "ymQHY-O5zaBQ",
        "colab_type": "code",
        "colab": {
          "base_uri": "https://localhost:8080/",
          "height": 34
        },
        "outputId": "de2d4b7b-e3cc-4306-932c-3083befe40d8"
      },
      "source": [
        "dict1"
      ],
      "execution_count": 115,
      "outputs": [
        {
          "output_type": "execute_result",
          "data": {
            "text/plain": [
              "{'a': 12, 'b': 13, 'c': 14, 'd': 16, 'e': 17}"
            ]
          },
          "metadata": {
            "tags": []
          },
          "execution_count": 115
        }
      ]
    },
    {
      "cell_type": "markdown",
      "metadata": {
        "id": "ITgXJVrbzfRA",
        "colab_type": "text"
      },
      "source": [
        "# Control Flow"
      ]
    },
    {
      "cell_type": "markdown",
      "metadata": {
        "id": "a5P615b-zinA",
        "colab_type": "text"
      },
      "source": [
        "## If/Else"
      ]
    },
    {
      "cell_type": "code",
      "metadata": {
        "id": "CnQAhh6Yzavj",
        "colab_type": "code",
        "colab": {
          "base_uri": "https://localhost:8080/",
          "height": 34
        },
        "outputId": "a7056f42-4627-4530-fb06-69dec05fdff1"
      },
      "source": [
        "#Conditionals - If/Else \n",
        "count = 26 \n",
        "if(count < 10): \n",
        "  print(\"Too Less\") \n",
        "elif(count >= 10 and count < 30 ): \n",
        "  print(\"Just right\") \n",
        "else: \n",
        "  print(\"Too much\")"
      ],
      "execution_count": 116,
      "outputs": [
        {
          "output_type": "stream",
          "text": [
            "Just right\n"
          ],
          "name": "stdout"
        }
      ]
    },
    {
      "cell_type": "markdown",
      "metadata": {
        "id": "KKIHjjX9zmGJ",
        "colab_type": "text"
      },
      "source": [
        "## For Loop"
      ]
    },
    {
      "cell_type": "code",
      "metadata": {
        "id": "RqKKQTnhzkSC",
        "colab_type": "code",
        "colab": {
          "base_uri": "https://localhost:8080/",
          "height": 204
        },
        "outputId": "fe27a04d-6717-48a7-eb1c-ea4c1555deab"
      },
      "source": [
        "#For Loop \n",
        "list1 = [1,2,3,4,5,6,7,8,9,10] \n",
        "count = 0 \n",
        "print(\"list1 = \", list1) \n",
        "for list_item in list1: \n",
        "  print(\"list1[\",count,\"] = \", list_item) \n",
        "  count +=1"
      ],
      "execution_count": 118,
      "outputs": [
        {
          "output_type": "stream",
          "text": [
            "list1 =  [1, 2, 3, 4, 5, 6, 7, 8, 9, 10]\n",
            "list1[ 0 ] =  1\n",
            "list1[ 1 ] =  2\n",
            "list1[ 2 ] =  3\n",
            "list1[ 3 ] =  4\n",
            "list1[ 4 ] =  5\n",
            "list1[ 5 ] =  6\n",
            "list1[ 6 ] =  7\n",
            "list1[ 7 ] =  8\n",
            "list1[ 8 ] =  9\n",
            "list1[ 9 ] =  10\n"
          ],
          "name": "stdout"
        }
      ]
    },
    {
      "cell_type": "code",
      "metadata": {
        "id": "leSRSSzczor1",
        "colab_type": "code",
        "colab": {
          "base_uri": "https://localhost:8080/",
          "height": 238
        },
        "outputId": "22c97ad4-862d-48a7-ff9f-521336bc4bed"
      },
      "source": [
        "str1 = \"Hello World!\"\n",
        "print(str1) \n",
        "for c in str1: \n",
        "  print(c)"
      ],
      "execution_count": 120,
      "outputs": [
        {
          "output_type": "stream",
          "text": [
            "Hello World!\n",
            "H\n",
            "e\n",
            "l\n",
            "l\n",
            "o\n",
            " \n",
            "W\n",
            "o\n",
            "r\n",
            "l\n",
            "d\n",
            "!\n"
          ],
          "name": "stdout"
        }
      ]
    },
    {
      "cell_type": "markdown",
      "metadata": {
        "id": "rczkdyYQzxhD",
        "colab_type": "text"
      },
      "source": [
        "## Break, Continue, Pass Statements"
      ]
    },
    {
      "cell_type": "code",
      "metadata": {
        "id": "MDN6atzEzuOL",
        "colab_type": "code",
        "colab": {
          "base_uri": "https://localhost:8080/",
          "height": 139
        },
        "outputId": "7d865566-f610-4874-b8db-a8d707420058"
      },
      "source": [
        "fruits = [\"apple\", \"banana\", \"cherry\", \"dragonfruit\", \"elephant\", \"fig\"] \n",
        "print(\"Available Fruits = \", fruits) \n",
        "for fruit in fruits: \n",
        " if(fruit == \"elephant\"): \n",
        "   print(\"I cannot eat\", fruit) \n",
        "   break \n",
        " else: \n",
        "   print(\"I can eat\", fruit)"
      ],
      "execution_count": 121,
      "outputs": [
        {
          "output_type": "stream",
          "text": [
            "Available Fruits =  ['apple', 'banana', 'cherry', 'dragonfruit', 'elephant', 'fig']\n",
            "I can eat apple\n",
            "I can eat banana\n",
            "I can eat cherry\n",
            "I can eat dragonfruit\n",
            "I cannot eat elephant\n"
          ],
          "name": "stdout"
        }
      ]
    },
    {
      "cell_type": "code",
      "metadata": {
        "id": "aV_qZXHy0C_o",
        "colab_type": "code",
        "colab": {
          "base_uri": "https://localhost:8080/",
          "height": 170
        },
        "outputId": "f6f249f3-b044-4126-9ef1-77cd2d5b5400"
      },
      "source": [
        "# Pass Demo\n",
        "for letter in 'Birthday': \n",
        "  if letter == 'h': \n",
        "    pass \n",
        "    print('This is pass block') \n",
        "  print('Current Letter :', letter) "
      ],
      "execution_count": 122,
      "outputs": [
        {
          "output_type": "stream",
          "text": [
            "Current Letter : B\n",
            "Current Letter : i\n",
            "Current Letter : r\n",
            "Current Letter : t\n",
            "This is pass block\n",
            "Current Letter : h\n",
            "Current Letter : d\n",
            "Current Letter : a\n",
            "Current Letter : y\n"
          ],
          "name": "stdout"
        }
      ]
    },
    {
      "cell_type": "code",
      "metadata": {
        "id": "aV_5bEaW0M9c",
        "colab_type": "code",
        "colab": {
          "base_uri": "https://localhost:8080/",
          "height": 136
        },
        "outputId": "5d9fa6b4-f489-482d-cd4f-a71ca79cfbf4"
      },
      "source": [
        "# Continue Demo  \n",
        "for letter in 'Birthday': \n",
        "  if letter == 'h': \n",
        "    continue \n",
        "    print('This is continue block') \n",
        "  print('Current Letter :', letter)"
      ],
      "execution_count": 123,
      "outputs": [
        {
          "output_type": "stream",
          "text": [
            "Current Letter : B\n",
            "Current Letter : i\n",
            "Current Letter : r\n",
            "Current Letter : t\n",
            "Current Letter : d\n",
            "Current Letter : a\n",
            "Current Letter : y\n"
          ],
          "name": "stdout"
        }
      ]
    },
    {
      "cell_type": "markdown",
      "metadata": {
        "id": "WKDx6oFd0UEb",
        "colab_type": "text"
      },
      "source": [
        "## While Loop"
      ]
    },
    {
      "cell_type": "code",
      "metadata": {
        "id": "5Zd2Sgll0NXN",
        "colab_type": "code",
        "colab": {
          "base_uri": "https://localhost:8080/",
          "height": 102
        },
        "outputId": "9d942dbf-5595-4e41-b273-01305a7dfb8c"
      },
      "source": [
        "# While Loop \n",
        "count = 0 \n",
        "while count < 5: \n",
        "  print(count) \n",
        "  count += 1"
      ],
      "execution_count": 124,
      "outputs": [
        {
          "output_type": "stream",
          "text": [
            "0\n",
            "1\n",
            "2\n",
            "3\n",
            "4\n"
          ],
          "name": "stdout"
        }
      ]
    },
    {
      "cell_type": "markdown",
      "metadata": {
        "id": "aXtzd7h70W0h",
        "colab_type": "text"
      },
      "source": [
        "# Functions"
      ]
    },
    {
      "cell_type": "code",
      "metadata": {
        "id": "P3U2Ukrz0Vvr",
        "colab_type": "code",
        "colab": {
          "base_uri": "https://localhost:8080/",
          "height": 51
        },
        "outputId": "f764b937-9bb3-4266-8a50-aba3ef4c9379"
      },
      "source": [
        "#Functions \n",
        "def generate_number_list(upper_limit): \n",
        "  index = 0 \n",
        "  output_list = [] #Empty List \n",
        "  while(index < upper_limit): \n",
        "    output_list.append(index) \n",
        "    index+=1 \n",
        "  return output_list \n",
        " \n",
        "print(generate_number_list(5)) \n",
        "print(generate_number_list(10))"
      ],
      "execution_count": 125,
      "outputs": [
        {
          "output_type": "stream",
          "text": [
            "[0, 1, 2, 3, 4]\n",
            "[0, 1, 2, 3, 4, 5, 6, 7, 8, 9]\n"
          ],
          "name": "stdout"
        }
      ]
    },
    {
      "cell_type": "markdown",
      "metadata": {
        "id": "hBp_hT7E0en1",
        "colab_type": "text"
      },
      "source": [
        "# Named Arguments Vs Positional Arguments"
      ]
    },
    {
      "cell_type": "code",
      "metadata": {
        "id": "Rbv7QlhS0blG",
        "colab_type": "code",
        "colab": {
          "base_uri": "https://localhost:8080/",
          "height": 51
        },
        "outputId": "129702bb-80ea-4213-ea8f-dfd9f1e0c88d"
      },
      "source": [
        "#Named Argument vs Positional Argument \n",
        "def generate_number_list(start_index, upper_limit): \n",
        "  index = start_index \n",
        "  output_list = [] #Empty List \n",
        "  while(index < upper_limit): \n",
        "    output_list.append(index) \n",
        "    index+=1 \n",
        "  return output_list \n",
        " \n",
        " \n",
        "print(\"Positional Arguments = \",generate_number_list(1,11)) \n",
        "print(\"Named Arguments = \",generate_number_list(upper_limit = 10, start_index = 2))"
      ],
      "execution_count": 126,
      "outputs": [
        {
          "output_type": "stream",
          "text": [
            "Positional Arguments =  [1, 2, 3, 4, 5, 6, 7, 8, 9, 10]\n",
            "Named Arguments =  [2, 3, 4, 5, 6, 7, 8, 9]\n"
          ],
          "name": "stdout"
        }
      ]
    },
    {
      "cell_type": "markdown",
      "metadata": {
        "id": "WkC-LYLk0sYe",
        "colab_type": "text"
      },
      "source": [
        "# Default Arguments"
      ]
    },
    {
      "cell_type": "code",
      "metadata": {
        "id": "AvxD3Qw60jNI",
        "colab_type": "code",
        "colab": {
          "base_uri": "https://localhost:8080/",
          "height": 51
        },
        "outputId": "c89db644-e6b0-4ddc-e79a-6fec5c1a22a8"
      },
      "source": [
        "#Default Arguments \n",
        "def generate_number_list(start_index, upper_limit, increment=1): \n",
        "  index = start_index \n",
        "  output_list = [] #Empty List \n",
        "  while(index < upper_limit): \n",
        "    output_list.append(index) \n",
        "    index = index + increment \n",
        "  return output_list \n",
        " \n",
        "print(\"Default Value for Increment = \",generate_number_list(0,11)) \n",
        "print(\"Non-Default Value for Increment = \",generate_number_list(0,11,2))"
      ],
      "execution_count": 127,
      "outputs": [
        {
          "output_type": "stream",
          "text": [
            "Default Value for Increment =  [0, 1, 2, 3, 4, 5, 6, 7, 8, 9, 10]\n",
            "Non-Default Value for Increment =  [0, 2, 4, 6, 8, 10]\n"
          ],
          "name": "stdout"
        }
      ]
    },
    {
      "cell_type": "markdown",
      "metadata": {
        "id": "WJnvIb2C0xAd",
        "colab_type": "text"
      },
      "source": [
        "# Lambda Functions"
      ]
    },
    {
      "cell_type": "code",
      "metadata": {
        "id": "yv4R6q7q0veN",
        "colab_type": "code",
        "colab": {}
      },
      "source": [
        "# Lambda Function \n",
        "x = lambda a : a/2"
      ],
      "execution_count": 128,
      "outputs": []
    },
    {
      "cell_type": "markdown",
      "metadata": {
        "id": "OwFSgT4w01Ef",
        "colab_type": "text"
      },
      "source": [
        "# Range"
      ]
    },
    {
      "cell_type": "code",
      "metadata": {
        "id": "M73O60Hc0zIC",
        "colab_type": "code",
        "colab": {
          "base_uri": "https://localhost:8080/",
          "height": 34
        },
        "outputId": "98dd5af6-0914-44f3-fbf8-cbadac8ffc33"
      },
      "source": [
        "#Range Function (Range from 0 to N)\n",
        "list1 = [] \n",
        "for x in range(5): \n",
        " list1.append(x) \n",
        "print(\"list1 = \", list1) "
      ],
      "execution_count": 129,
      "outputs": [
        {
          "output_type": "stream",
          "text": [
            "list1 =  [0, 1, 2, 3, 4]\n"
          ],
          "name": "stdout"
        }
      ]
    },
    {
      "cell_type": "code",
      "metadata": {
        "id": "DvPlPDyS03OG",
        "colab_type": "code",
        "colab": {
          "base_uri": "https://localhost:8080/",
          "height": 34
        },
        "outputId": "0ce2c33a-f303-417d-8388-e3aed821b52d"
      },
      "source": [
        "# Range from a to b\n",
        "list2 = [] \n",
        "for x in range(2,5): \n",
        " list2.append(x) \n",
        "print(\"list2 = \", list2) "
      ],
      "execution_count": 130,
      "outputs": [
        {
          "output_type": "stream",
          "text": [
            "list2 =  [2, 3, 4]\n"
          ],
          "name": "stdout"
        }
      ]
    },
    {
      "cell_type": "code",
      "metadata": {
        "id": "ziqwK1sn04Yw",
        "colab_type": "code",
        "colab": {
          "base_uri": "https://localhost:8080/",
          "height": 34
        },
        "outputId": "62e907a8-8722-4fd5-b976-402a9c83e54e"
      },
      "source": [
        "# Range from a to b with a step of c\n",
        "list3 = [] \n",
        "for x in range(2,10,3): \n",
        " list3.append(x) \n",
        "print(\"list3 = \", list3) "
      ],
      "execution_count": 131,
      "outputs": [
        {
          "output_type": "stream",
          "text": [
            "list3 =  [2, 5, 8]\n"
          ],
          "name": "stdout"
        }
      ]
    },
    {
      "cell_type": "code",
      "metadata": {
        "id": "1Ka9owFI057Q",
        "colab_type": "code",
        "colab": {
          "base_uri": "https://localhost:8080/",
          "height": 34
        },
        "outputId": "7f6e85d9-c74a-45eb-e326-24e5b63222a6"
      },
      "source": [
        "#Directly creating list from range \n",
        "print(\"list(range(10)) = \", list(range(10)))"
      ],
      "execution_count": 132,
      "outputs": [
        {
          "output_type": "stream",
          "text": [
            "list(range(10)) =  [0, 1, 2, 3, 4, 5, 6, 7, 8, 9]\n"
          ],
          "name": "stdout"
        }
      ]
    },
    {
      "cell_type": "markdown",
      "metadata": {
        "id": "F3zdzIpE08p-",
        "colab_type": "text"
      },
      "source": [
        "# Classes"
      ]
    },
    {
      "cell_type": "code",
      "metadata": {
        "id": "VsYfKCzw07FH",
        "colab_type": "code",
        "colab": {}
      },
      "source": [
        "#Import Random Library \n",
        "import random \n",
        "#Class Definition \n",
        "class Ball: \n",
        "  ''' A simple ball class to demonstrate OOP''' \n",
        " \n",
        "  #Constructor Function \n",
        "  def __init__(self, brand, age, color): \n",
        "    self.brand = brand \n",
        "    self.age = age \n",
        "    self.color = color \n",
        "    #Game for which ball is required and its speed in miles/hour \n",
        "    self.game = \"Football\" \n",
        "    self.speed = 0 \n",
        " \n",
        "  #Method to kick the ball \n",
        "  def kick(self): \n",
        "    self.speed = random.randint(5,50) \n",
        "    print(\"Ball \",self.brand,\" has been kicked. Its new speed is \", self.speed, \" miles/hour\") \n",
        " \n",
        "  def stop(self): \n",
        "    if(self.speed == 0): \n",
        "      print(\"The \",self.brand,\" ball is already stopped\") \n",
        "    else: \n",
        "      self.speed = 0 \n",
        "      print(self.brand,\" Ball successfully stopped\")"
      ],
      "execution_count": 133,
      "outputs": []
    },
    {
      "cell_type": "code",
      "metadata": {
        "id": "Y3WOH2eb1uo5",
        "colab_type": "code",
        "colab": {
          "base_uri": "https://localhost:8080/",
          "height": 51
        },
        "outputId": "ef6e7b63-44f0-4c6a-da17-fbec8f8585a1"
      },
      "source": [
        "#Creating Objects from Ball Class \n",
        "ball1 = Ball(\"Lego\", 10, \"Black\") \n",
        "ball2 = Ball(\"Nike\", 1, \"Yellow\") \n",
        "print(\"Ball1 brand | age |color = (\", ball1.brand, \" | \", ball1.age, \" | \", ball1.color, \")\") \n",
        "print(\"Ball2 brand | age |color = (\",ball2.brand, \" | \", ball2.age, \" | \", ball2.color,\")\") "
      ],
      "execution_count": 134,
      "outputs": [
        {
          "output_type": "stream",
          "text": [
            "Ball1 brand | age |color = ( Lego  |  10  |  Black )\n",
            "Ball2 brand | age |color = ( Nike  |  1  |  Yellow )\n"
          ],
          "name": "stdout"
        }
      ]
    },
    {
      "cell_type": "code",
      "metadata": {
        "id": "qvNeZy_s1x2I",
        "colab_type": "code",
        "colab": {
          "base_uri": "https://localhost:8080/",
          "height": 51
        },
        "outputId": "ec6ed87d-beb5-4ddb-86da-a8181fc971df"
      },
      "source": [
        "print(\"Ball1 speed = \", ball1.speed) \n",
        "ball1.stop() "
      ],
      "execution_count": 135,
      "outputs": [
        {
          "output_type": "stream",
          "text": [
            "Ball1 speed =  0\n",
            "The  Lego  ball is already stopped\n"
          ],
          "name": "stdout"
        }
      ]
    },
    {
      "cell_type": "code",
      "metadata": {
        "id": "jxERKZR51zD-",
        "colab_type": "code",
        "colab": {
          "base_uri": "https://localhost:8080/",
          "height": 102
        },
        "outputId": "21844c0f-bf2c-43be-9aff-1ca288d1f159"
      },
      "source": [
        "print(\"Ball2 speed = \", ball2.speed) \n",
        "ball2.kick() \n",
        "print(\"Ball2 speed = \", ball2.speed) \n",
        "ball2.stop() \n",
        "print(\"Ball2 speed = \", ball2.speed)"
      ],
      "execution_count": 136,
      "outputs": [
        {
          "output_type": "stream",
          "text": [
            "Ball2 speed =  0\n",
            "Ball  Nike  has been kicked. Its new speed is  20  miles/hour\n",
            "Ball2 speed =  20\n",
            "Nike  Ball successfully stopped\n",
            "Ball2 speed =  0\n"
          ],
          "name": "stdout"
        }
      ]
    },
    {
      "cell_type": "markdown",
      "metadata": {
        "id": "0WFoGtNq129S",
        "colab_type": "text"
      },
      "source": [
        "# File Handling"
      ]
    },
    {
      "cell_type": "code",
      "metadata": {
        "id": "rT0Tx1eV105v",
        "colab_type": "code",
        "colab": {
          "base_uri": "https://localhost:8080/",
          "height": 34
        },
        "outputId": "79d7d7dd-9761-4800-b909-010af8cd36a5"
      },
      "source": [
        "# File Writing\n",
        "filename = \"test.txt\"\n",
        "file_handle = open(filename, \"w\") \n",
        "file_handle.write(\"Yay!! File Created\") "
      ],
      "execution_count": 137,
      "outputs": [
        {
          "output_type": "execute_result",
          "data": {
            "text/plain": [
              "18"
            ]
          },
          "metadata": {
            "tags": []
          },
          "execution_count": 137
        }
      ]
    },
    {
      "cell_type": "code",
      "metadata": {
        "id": "5Hwt67iO1_mO",
        "colab_type": "code",
        "colab": {
          "base_uri": "https://localhost:8080/",
          "height": 34
        },
        "outputId": "860f4903-61ba-4e59-f3ff-5cb72d2f5083"
      },
      "source": [
        "# File Opening\n",
        "file_handle = open(filename, \"r\") \n",
        "print(file_handle.read())"
      ],
      "execution_count": 138,
      "outputs": [
        {
          "output_type": "stream",
          "text": [
            "Yay!! File Created\n"
          ],
          "name": "stdout"
        }
      ]
    },
    {
      "cell_type": "markdown",
      "metadata": {
        "id": "KQuX-zjh2Iee",
        "colab_type": "text"
      },
      "source": [
        "# Libraries/Modules"
      ]
    },
    {
      "cell_type": "markdown",
      "metadata": {
        "id": "eOaeOwgl2Ktg",
        "colab_type": "text"
      },
      "source": [
        "## Matplotlib"
      ]
    },
    {
      "cell_type": "code",
      "metadata": {
        "id": "J5oIpeOy2Cvn",
        "colab_type": "code",
        "colab": {
          "base_uri": "https://localhost:8080/",
          "height": 295
        },
        "outputId": "52cbecb6-5c28-48d2-f9eb-b0080d33ba8d"
      },
      "source": [
        "#matplotlib (Plotting a sine wave) \n",
        "import matplotlib \n",
        "import matplotlib.pyplot as plt \n",
        "import math \n",
        " \n",
        "# Data for plotting \n",
        "x_axis = range(0,2000) \n",
        "x_axis = [x/100 for x in x_axis] \n",
        "y_axis= [math.sin(x) for x in x_axis] \n",
        " \n",
        "fig, ax = plt.subplots() \n",
        "ax.plot(x_axis, y_axis) \n",
        "ax.set(xlabel='x (radians)', ylabel='sin(x)', \n",
        "title='How Sine Wave Looks Like') \n",
        "ax.grid() \n",
        " \n",
        "# fig.savefig(\"test.png\") \n",
        "plt.show()"
      ],
      "execution_count": 139,
      "outputs": [
        {
          "output_type": "display_data",
          "data": {
            "image/png": "[encoded data removed]",
            "text/plain": [
              "<Figure size 432x288 with 1 Axes>"
            ]
          },
          "metadata": {
            "tags": [],
            "needs_background": "light"
          }
        }
      ]
    },
    {
      "cell_type": "markdown",
      "metadata": {
        "id": "Gv-g2vGu2QBL",
        "colab_type": "text"
      },
      "source": [
        "## Pandas"
      ]
    },
    {
      "cell_type": "code",
      "metadata": {
        "id": "rtNSYsQ82OHx",
        "colab_type": "code",
        "colab": {
          "base_uri": "https://localhost:8080/",
          "height": 153
        },
        "outputId": "3e9d96e1-a32b-4f58-f95d-dcfd2c7d4c82"
      },
      "source": [
        "import numpy as np \n",
        "import pandas as pd \n",
        "house_data = pd.read_csv(\"https://download.mlcc.google.com/mledu-datasets/california_housing_train.csv\", sep=\",\") \n",
        "print(house_data.head())"
      ],
      "execution_count": 141,
      "outputs": [
        {
          "output_type": "stream",
          "text": [
            "   longitude  latitude  ...  median_income  median_house_value\n",
            "0    -114.31     34.19  ...         1.4936             66900.0\n",
            "1    -114.47     34.40  ...         1.8200             80100.0\n",
            "2    -114.56     33.69  ...         1.6509             85700.0\n",
            "3    -114.57     33.64  ...         3.1917             73400.0\n",
            "4    -114.57     33.57  ...         1.9250             65500.0\n",
            "\n",
            "[5 rows x 9 columns]\n"
          ],
          "name": "stdout"
        }
      ]
    },
    {
      "cell_type": "code",
      "metadata": {
        "id": "u_DnFnhH2R9i",
        "colab_type": "code",
        "colab": {
          "base_uri": "https://localhost:8080/",
          "height": 265
        },
        "outputId": "67c97460-e805-49fc-b2a3-f92b3164ba7a"
      },
      "source": [
        "import matplotlib.pyplot as plt \n",
        "house_data[\"median_income\"].hist() \n",
        "plt.show()"
      ],
      "execution_count": 143,
      "outputs": [
        {
          "output_type": "display_data",
          "data": {
            "image/png": "[encoded data removed]",
            "text/plain": [
              "<Figure size 432x288 with 1 Axes>"
            ]
          },
          "metadata": {
            "tags": [],
            "needs_background": "light"
          }
        }
      ]
    },
    {
      "cell_type": "markdown",
      "metadata": {
        "id": "fJFYlBSO2aq2",
        "colab_type": "text"
      },
      "source": [
        "## Beautiful Soup — The Package to Scrape Web"
      ]
    },
    {
      "cell_type": "code",
      "metadata": {
        "id": "4-FIlf042XOw",
        "colab_type": "code",
        "colab": {}
      },
      "source": [
        "#Beautiful Soup \n",
        "import requests \n",
        "from bs4 import BeautifulSoup \n",
        "import re \n",
        "URL = \"https://www.english.cam.ac.uk/people/\" \n",
        "r = requests.get(URL) \n",
        "soup = BeautifulSoup(r.content) "
      ],
      "execution_count": 144,
      "outputs": []
    },
    {
      "cell_type": "code",
      "metadata": {
        "id": "WhLwnuFE2eDX",
        "colab_type": "code",
        "colab": {
          "base_uri": "https://localhost:8080/",
          "height": 1000
        },
        "outputId": "eb320a92-4c12-40a5-a75e-34a1c5a63674"
      },
      "source": [
        "soup"
      ],
      "execution_count": 145,
      "outputs": [
        {
          "output_type": "execute_result",
          "data": {
            "text/plain": [
              "<!-- InstanceBegin template=\"/Templates/Uni withOUT Related Links.dwt\" codeOutsideHTMLIsLocked=\"false\" --><!DOCTYPE html>\n",
              "<!--[if lt IE 7]>      <html xmlns=\"http://www.w3.org/1999/xhtml\" lang=\"en\" xml:lang=\"en\" class=\"no-js lt-ie9 lt-ie8 lt-ie7\"> <![endif]--><!--[if IE 7]>         <html xmlns=\"http://www.w3.org/1999/xhtml\" lang=\"en\" xml:lang=\"en\" class=\"no-js lt-ie9 lt-ie8\"> <![endif]--><!--[if IE 8]>\t\t   <html xmlns=\"http://www.w3.org/1999/xhtml\" lang=\"en\" xml:lang=\"en\" class=\"no-js lt-ie9\"> <![endif]--><!--[if gt IE 8]><!--><html class=\"no-js\" lang=\"en\" xml:lang=\"en\" xmlns=\"http://www.w3.org/1999/xhtml\"><!--<![endif]--><head>\n",
              "<meta content=\"text/html; charset=utf-8\" http-equiv=\"Content-Type\"/>\n",
              "<!-- InstanceBeginEditable name=\"doctitle\" -->\n",
              "<title>Faculty of English: People</title>\n",
              "<!-- InstanceEndEditable -->\n",
              "<meta content=\"\" name=\"description\"/>\n",
              "<meta content=\"\" name=\"author\"/>\n",
              "<meta content=\"width=device-width, initial-scale=1.0\" name=\"viewport\"/>\n",
              "<!-- Place favicon.ico & apple-touch-icon.png in the root of your domain and delete these references -->\n",
              "<link href=\"/favicon.ico\" rel=\"shortcut icon\"/>\n",
              "<link href=\"/apple-touch-icon.png\" rel=\"apple-touch-icon\"/>\n",
              "<!-- CSS : implied media=\"all\" -->\n",
              "<link href=\"/stylesheets/full-stylesheet.css\" media=\"screen, projection\" rel=\"stylesheet\" type=\"text/css\"/>\n",
              "<link href=\"/stylesheets/styleguide.css\" media=\"screen, projection\" rel=\"stylesheet\" type=\"text/css\"/>\n",
              "<link href=\"/stylesheets/rl-print.css\" media=\"print\" rel=\"stylesheet\" type=\"text/css\"/>\n",
              "<link href=\"/stylesheets/jquery.cookiebar.css\" rel=\"stylesheet\" type=\"text/css\"/>\n",
              "<script src=\"https://ajax.googleapis.com/ajax/libs/jquery/1.11.2/jquery.min.js\"></script>\n",
              "<script src=\"/include/jquery.cookiebar.js\" type=\"text/javascript\"></script>\n",
              "<script type=\"text/javascript\">\n",
              "\t$(document).ready(function(){\n",
              "\t\t$.cookieBar({\n",
              "\t\tmessage: 'We may use cookies to record some preference settings and to analyse how you use our web site. We may also use external analysis systems which may set additional cookies to perform their analysis.These cookies (and any others in use) are detailed in our site privacy and cookie policies and are integral to our web site. You can delete or disable these cookies in your web browser if you wish but then our site may not work correctly.', //Message displayed on bar\n",
              "\t\tacceptButton: true, //Set to true to show accept/enable button\n",
              "\t\tacceptText: 'I Understand', //Text on accept/enable button\n",
              "\t\tpolicyButton: false, //Set to true to show Privacy Policy button\n",
              "\t\tpolicyText: 'Privacy Policy', //Text on Privacy Policy button\n",
              "\t\tpolicyURL: '/privacy-policy/', //URL of Privacy Policy\n",
              "\t\tforceShow: false, //Force cookieBar to show regardless of user cookie preference\n",
              "\t\tfixed: true, //Set to true to add the class \"fixed\" to the cookie bar. Default CSS should fix the position\n",
              "\t\tbottom: true, //Force CSS when fixed, so bar appears at bottom of website\n",
              "\t\t});\n",
              "\t});\n",
              "</script>\n",
              "<script src=\"https://use.typekit.com/hyb5bko.js\" type=\"text/javascript\"></script>\n",
              "<script type=\"text/javascript\">try{Typekit.load();}catch(e){}</script>\n",
              "<script type=\"text/javascript\">  document.documentElement.className += \" js\";</script>\n",
              "<!-- InstanceBeginEditable name=\"head\" -->\n",
              "<!--<script src=\"https://ajax.googleapis.com/ajax/libs/jquery/1.11.2/jquery.min.js\"></script>-->\n",
              "<script src=\"/include/jquery.tablesorter.min.js\" type=\"text/javascript\"></script>\n",
              "<script type=\"text/javascript\">\n",
              "\t$(document).ready(function() {\n",
              "\t$(\"#sortedtable\").tablesorter({ sortlist: [0,0] });\n",
              "\t});\n",
              "\t</script>\n",
              "<script language=\"javascript\" src=\"/scripts/encode.js\"></script>\n",
              "<style type=\"text/css\">\n",
              "\t#sortedtable thead th { font-weight: bold; cursor:pointer; text-decoration: underline; padding:.25em; }\n",
              "\t#sortedtable td {vertical-align:top; padding:.25em;}\n",
              "\t</style>\n",
              "<!-- InstanceEndEditable -->\n",
              "</head>\n",
              "<body>\n",
              "<a class=\"skipTo\" href=\"#primary-nav\">skip to primary navigation</a>\n",
              "<a class=\"skipTo\" href=\"#content\">skip to content</a>\n",
              "<!-- .global-header begins -->\n",
              "<div class=\"row global-header\">\n",
              "<div class=\"wrap clearfix\">\n",
              "<div class=\"header-container column8\" id=\"global-header-controls\">\n",
              "<a class=\"main-logo\" href=\"http://www.cam.ac.uk\">\n",
              "<img alt=\"University of Cambridge\" src=\"/images/interface/main-logo-small.png\"/>\n",
              "</a>\n",
              "<ul class=\"unstyled-list horizontal-navigation global-navigation clearfix\">\n",
              "<li><a href=\"#study-with-us\">Study at Cambridge</a></li>\n",
              "<li><a href=\"#about-the-university\">About the University</a></li>\n",
              "<li><a class=\"no-drawer\" href=\"http://www.cam.ac.uk/research\">Research at Cambridge</a></li>\n",
              "</ul>\n",
              "</div>\n",
              "<div class=\"column2\">\n",
              "<div class=\"quicklink\">\n",
              "</div>\n",
              "</div>\n",
              "<div class=\"column2\">\n",
              "<div class=\"site-search\" id=\"site-search-btn\">\n",
              "<label class=\"hidden\" for=\"header-search\">Search Cambridge</label>\n",
              "<div class=\"search-input\">\n",
              "<form action=\"http://search.cam.ac.uk/web\" method=\"get\">\n",
              "<input id=\"header-search\" name=\"query\" placeholder=\"Search\" type=\"text\" value=\"\"/>\n",
              "<input alt=\"search cambridge\" class=\"search-submit \" src=\"/images/interface/btn-search-header.png\" type=\"image\"/>\n",
              "</form>\n",
              "</div>\n",
              "</div>\n",
              "</div>\n",
              "</div>\n",
              "</div>\n",
              "<div class=\"row global-header search-drawer\">\n",
              "<div class=\"wrap clearfix\">\n",
              "<label class=\"hidden\" for=\"site-search\">Search English</label>\n",
              "<form action=\"http://search.cam.ac.uk/web?inst=FOE\" class=\"site-search-form\" id=\"site-search-container\" method=\"get\">\n",
              "<div class=\"search-form-wrapper clearfix\">\n",
              "<input name=\"inst\" type=\"hidden\" value=\"FOE\"/>\n",
              "<input class=\"text\" id=\"site-search\" placeholder=\"Search the English Faculty\" type=\"text\"/>\n",
              "<input alt=\"search english\" class=\"search-submit\" src=\"/images/interface/btn-search.png\" type=\"image\"/>\n",
              "</div>\n",
              "</form>\n",
              "</div>\n",
              "</div>\n",
              "<div class=\"row global-navigation-drawer\">\n",
              "<div class=\"wrap clearfix\">\n",
              "<div class=\"column12 home-link-container\">\n",
              "<a href=\"\">Home</a>\n",
              "</div>\n",
              "</div>\n",
              "<div class=\"wrap clearfix\">\n",
              "<div class=\"column12 global-navigation-mobile-list global-navigation-list\">\n",
              "<div class=\"global-navigation-outer clearfix\" id=\"study-with-us\">\n",
              "<ul class=\"unstyled-list global-navigation-header-container \">\n",
              "<li><a href=\"http://www.cam.ac.uk/study-at-cambridge\">Study at Cambridge</a></li>\n",
              "</ul>\n",
              "<div class=\"column4\">\n",
              "<ul class=\"global-navigation-container unstyled-list global-navigation-secondary-with-children\">\n",
              "<li>\n",
              "<a href=\"http://www.study.cam.ac.uk/undergraduate/\">Undergraduate</a>\n",
              "<ul class=\"global-navigation-tertiary unstyled-list\">\n",
              "<li><a href=\"http://www.study.cam.ac.uk/undergraduate/courses/\">Courses</a></li>\n",
              "<li><a href=\"http://www.study.cam.ac.uk/undergraduate/apply/\">Applying</a></li>\n",
              "<li><a href=\"http://www.study.cam.ac.uk/undergraduate/events/\">Events and open days</a></li>\n",
              "<li><a href=\"http://www.study.cam.ac.uk/undergraduate/finance/\">Fees and finance</a></li>\n",
              "<li><a href=\"http://www.becambridge.com/\">Student blogs and videos</a></li>\n",
              "</ul>\n",
              "</li>\n",
              "</ul>\n",
              "</div>\n",
              "<div class=\"column4\">\n",
              "<ul class=\"global-navigation-container unstyled-list global-navigation-secondary-with-children\">\n",
              "<li><a href=\"http://www.admin.cam.ac.uk/students/gradadmissions/prospec/\">Graduate</a>\n",
              "<ul class=\"global-navigation-tertiary unstyled-list\">\n",
              "<li><a href=\"http://www.admin.cam.ac.uk/students/gradadmissions/prospec/whycam/\">Why Cambridge</a></li>\n",
              "<li><a href=\"http://www.admin.cam.ac.uk/students/gradadmissions/prospec/studying/qualifdir/\">Qualifications directory</a></li>\n",
              "<li><a href=\"http://www.admin.cam.ac.uk/students/gradadmissions/prospec/apply/\">How to apply</a></li>\n",
              "<li><a href=\"http://www.admin.cam.ac.uk/students/studentregistry/fees/\">Fees and funding</a></li>\n",
              "<li><a href=\"http://www.admin.cam.ac.uk/students/gradadmissions/prospec/faq/index.html\">Frequently asked questions</a></li>\n",
              "</ul>\n",
              "</li>\n",
              "</ul>\n",
              "</div>\n",
              "<div class=\"column4\">\n",
              "<ul class=\"global-navigation-container unstyled-list last\">\n",
              "<li><a href=\"http://www.cam.ac.uk/about-the-university/international-cambridge/studying-at-cambridge\">International students</a></li>\n",
              "<li><a href=\"http://www.ice.cam.ac.uk\">Continuing education</a></li>\n",
              "<li><a href=\"http://www.admin.cam.ac.uk/offices/education/epe/\">Executive and professional education</a></li>\n",
              "<li><a href=\"http://www.educ.cam.ac.uk\">Courses in education</a></li>\n",
              "</ul>\n",
              "</div>\n",
              "</div>\n",
              "<div class=\"global-navigation-outer clearfix\" id=\"about-the-university\">\n",
              "<ul class=\"global-navigation-header-container unstyled-list\">\n",
              "<li><a href=\"http://www.cam.ac.uk/about-the-university\">About the University</a></li>\n",
              "</ul>\n",
              "<div class=\"column4\">\n",
              "<ul class=\"global-navigation-container unstyled-list\">\n",
              "<li><a href=\"http://www.cam.ac.uk/about-the-university/how-the-university-and-colleges-work\">How the University and Colleges work</a></li>\n",
              "<li><a href=\"http://www.cam.ac.uk/about-the-university/history\">History</a></li>\n",
              "<li><a href=\"http://www.cam.ac.uk/about-the-university/visiting-the-university\">Visiting the University</a></li>\n",
              "<li><a href=\"http://www.cam.ac.uk/about-the-university/term-dates-and-calendars\">Term dates and calendars</a></li>\n",
              "<li class=\"last\"><a href=\"http://map.cam.ac.uk\">Map</a></li>\n",
              "</ul>\n",
              "</div>\n",
              "<div class=\"column4\">\n",
              "<ul class=\"global-navigation-container unstyled-list\">\n",
              "<li><a href=\"http://www.cam.ac.uk/for-media\">For media</a></li>\n",
              "<li><a href=\"http://www.cam.ac.uk/video-and-audio\">Video and audio</a></li>\n",
              "<li><a href=\"http://webservices.admin.cam.ac.uk/faesearch/map.cgi\">Find an expert</a></li>\n",
              "<li><a href=\"http://www.cam.ac.uk/about-the-university/publications\">Publications</a></li>\n",
              "<li class=\"last\"><a href=\"http://www.cam.ac.uk/about-the-university/international-cambridge\">International Cambridge</a></li>\n",
              "</ul>\n",
              "</div>\n",
              "<div class=\"column4\">\n",
              "<ul class=\"global-navigation-container unstyled-list\">\n",
              "<li><a href=\"http://www.cam.ac.uk/news\">News</a></li>\n",
              "<li><a href=\"http://www.admin.cam.ac.uk/whatson\">Events</a></li>\n",
              "<li><a href=\"http://www.cam.ac.uk/public-engagement\">Public engagement</a></li>\n",
              "<li><a href=\"http://www.jobs.cam.ac.uk\">Jobs</a></li>\n",
              "<li class=\"last\"><a href=\"http://www.philanthropy.cam.ac.uk\">Giving to Cambridge</a></li>\n",
              "</ul>\n",
              "</div>\n",
              "</div>\n",
              "<div class=\"global-navigation-outer clearfix\" id=\"our-research\">\n",
              "<ul class=\"global-navigation-header-container unstyled-list\">\n",
              "<li><a href=\"\">Research at Cambridge</a></li>\n",
              "</ul>\n",
              "</div>\n",
              "</div>\n",
              "<ul class=\"unstyled-list quicklink-list global-navigation-container \">\n",
              "<li><a href=\"http://www.cam.ac.uk/for-staff\">For staff</a></li>\n",
              "<li><a href=\"http://www.admin.cam.ac.uk/students/gateway\">For current students</a></li>\n",
              "<li><a href=\"http://www.alumni.cam.ac.uk\">For alumni</a></li>\n",
              "<li><a href=\"http://www.cam.ac.uk/for-business\">For business</a></li>\n",
              "<li><a href=\"http://www.cam.ac.uk/colleges-and-departments\">Colleges &amp; departments</a></li>\n",
              "<li><a href=\"http://www.cam.ac.uk/libraries-and-facilities\">Libraries &amp; facilities</a></li>\n",
              "<li><a href=\"http://www.cam.ac.uk/museums-and-collections\">Museums &amp; collections</a></li>\n",
              "<li class=\"last\"><a href=\"http://www.cam.ac.uk/email-and-phone-search\">Email &amp; phone search</a></li>\n",
              "</ul>\n",
              "</div> </div>\n",
              "<!-- .global-header ends -->\n",
              "<div class=\"row page-header sub-section-page\">\n",
              "<div class=\"wrap clearfix\">\n",
              "<div class=\"column12\">\n",
              "<div class=\"content-container\">\n",
              "<div class=\"breadcrumb\" id=\"breadcrumb\">\n",
              "<ul class=\"unstyled-list horizontal-navigation clearfix\">\n",
              "<li class=\"first-child\"><a class=\"home ir\" href=\"/\">Home</a></li>\n",
              "\t  \t\t / <a href=\"/people/\">people</a> </ul>\n",
              "</div>\n",
              "<h1 class=\"page-title\">Faculty of English</h1>\n",
              "<p class=\"mobile-parent\"><a href=\"\"><span class=\"back-btn menu-indicator\"></span>Studying at Cambridge</a></p>\n",
              "</div>\n",
              "</div>\n",
              "</div>\n",
              "</div>\n",
              "<div class=\"row page-header\">\n",
              "<div class=\"wrap clearfix local-navigation\" id=\"local-nav\"> <div class=\"local-navigation-container\">\n",
              "<!-- Menu goes here -->\n",
              "<a name=\"primary-nav\" style=\"display:none;\"></a><!-- InstanceBeginEditable name=\"MenuPrefs\" -->\n",
              "<ul class=\"unstyled-list\">\n",
              "<li class=\"\"><a class=\"\" href=\"http://www.english.cam.ac.uk/\">Home</a></li>\n",
              "<li><a class=\"\" name=\"prospective\">Prospective Students</a>\n",
              "<ul class=\"unstyled-list local-dropdown-menu\">\n",
              "<li><a href=\"http://www.english.cam.ac.uk/admissions/undergraduate/\">Undergraduate</a></li>\n",
              "<li><a href=\"http://www.english.cam.ac.uk/admissions/graduate/\">Postgraduate</a></li>\n",
              "<li><a href=\"http://www.english.cam.ac.uk/visitors/\">Academic Visitors</a></li>\n",
              "</ul>\n",
              "</li>\n",
              "<li><a class=\"\" href=\"http://lib.english.cam.ac.uk/\">Library</a></li>\n",
              "<li><a class=\"selected\" name=\"people\">People</a>\n",
              "<ul class=\"unstyled-list local-dropdown-menu\">\n",
              "<li><a href=\"http://www.english.cam.ac.uk/people/\">Academic Staff</a></li>\n",
              "<li><a href=\"http://www.english.cam.ac.uk/people/research.htm\">Research Staff</a></li>\n",
              "<li><a href=\"http://www.english.cam.ac.uk/people/graduates/\">Graduate Students</a></li>\n",
              "<li><a href=\"http://www.english.cam.ac.uk/people/other-academic.htm\">Emeritus, Visiting and Honorary Fellows</a></li>\n",
              "<li><a href=\"http://www.english.cam.ac.uk/people/admin-staff.html\">Administrative Staff</a></li>\n",
              "</ul>\n",
              "</li>\n",
              "<li><a class=\"\" href=\"http://www.english.cam.ac.uk/research/\">Research</a>\n",
              "</li>\n",
              "<li class=\"\"><a class=\"\" name=\"resources\">Resources</a>\n",
              "<ul class=\"unstyled-list local-dropdown-menu\">\n",
              "<li><a href=\"http://www.english.cam.ac.uk/cambridgeauthors/\">Cambridge Authors</a></li>\n",
              "<li><a href=\"http://www.english.cam.ac.uk/ceres/ehoc/\">English Handwriting Online</a></li>\n",
              "<li><a href=\"https://www.english.cam.ac.uk/elor/\">English Language Online Resource</a></li>\n",
              "<li><a href=\"http://www.english.cam.ac.uk/multimedia/\">Multimedia</a></li>\n",
              "<li><a href=\"https://cudl.lib.cam.ac.uk/collections/scriptorium\">Scriptorium</a></li>\n",
              "<li><a href=\"https://cudl.lib.cam.ac.uk/collections/tennyson\">The Tennysons Archive</a></li>\n",
              "<li><a href=\"https://www.transkills.admin.cam.ac.uk/resources/english/english-cambridge\">Transkills for English</a></li>\n",
              "<li><a href=\"http://www.english.cam.ac.uk/troilus/\">Troilus &amp; Criseyde: Translation &amp; Commentary</a></li>\n",
              "<li><a href=\"http://www.english.cam.ac.uk/classroom/index.htm\">The Virtual Classroom</a></li>\n",
              "</ul>\n",
              "</li>\n",
              "<li class=\"\"><a class=\"\" name=\"intranets\">Intranets</a>\n",
              "<ul class=\"unstyled-list local-dropdown-menu\">\n",
              "<li><a href=\"https://www.english.cam.ac.uk/students/\">Students</a></li>\n",
              "<li><a href=\"https://www.english.cam.ac.uk/directors/\">Directors of Studies</a></li>\n",
              "<li><a href=\"https://www.english.cam.ac.uk/officers/\">Teaching Officers &amp; Research Fellows</a></li>\n",
              "<li><a href=\"https://www.english.cam.ac.uk/computing/\">Faculty Computing</a></li>\n",
              "</ul>\n",
              "</li>\n",
              "<li><a class=\"\" href=\"http://www.english.cam.ac.uk/bbcshortstory/\">BBC Short Story</a>\n",
              "</li><li><a class=\"\" href=\"http://www.english.cam.ac.uk/news/\">News</a></li>\n",
              "<li><a class=\"\" href=\"http://www.english.cam.ac.uk/events/\">Events</a></li>\n",
              "</ul>\n",
              "<!-- InstanceEndEditable -->\n",
              "<!-- Menu ends -->\n",
              "</div>\n",
              "</div>\n",
              "<div class=\"wrap clearfix page-sub-title recessed-sub-title\">\n",
              "<div class=\"column12\">\n",
              "<div class=\"content-container\">\n",
              "<!-- InstanceBeginEditable name=\"SectionTitle\" -->\n",
              "<h2 class=\"sub-title\">People</h2>\n",
              "<!-- InstanceEndEditable -->\n",
              "</div>\n",
              "</div>\n",
              "</div>\n",
              "</div>\n",
              "<div class=\"row content recessed-content\">\n",
              "<div class=\"wrap clearfix\">\n",
              "<div class=\"column12 main-content\" id=\"content\">\n",
              "<div class=\"content-container\">\n",
              "<!-- InstanceBeginEditable name=\"PageTitle\" -->\n",
              "<h2>Academic Staff</h2>\n",
              "<!-- InstanceEndEditable -->\n",
              "<!-- InstanceBeginEditable name=\"content\" -->\n",
              "<p> </p>\n",
              "<table class=\"table-striped\" id=\"sortedtable\" width=\"100%\"> <thead><tr><th width=\"33%\"><strong>Name</strong></th><th width=\"34%\"><strong>College/Institution</strong></th><th width=\"33%\"><strong>Email (if available)</strong></th></tr></thead> <tbody> <tr> <td> <span style=\"visibility:hidden;\">00</span> <a href=\"/people/Ruth.Abbott/\">Dr Ruth Abbott</a> </td> <td>\n",
              "St John's</td> <td><script>mail(\"rha23\",\"cam\",2,\"\",\"\")</script></td> </tr> <tr> <td> <span style=\"visibility:hidden;\">01</span> <a href=\"/people/Gavin.Alexander/\">Dr Gavin Alexander</a> </td> <td>\n",
              "Faculty of English</td> <td><script>mail(\"gra1000\",\"cam\",2,\"\",\"\")</script></td> </tr> <tr> <td> <span style=\"visibility:hidden;\">02</span> <a href=\"/people/Edward.Allen/\">Dr Edward Allen</a> </td> <td>\n",
              "Christ's</td> <td><script>mail(\"ejfa2\",\"cam\",2,\"\",\"\")</script></td> </tr> <tr> <td> <span style=\"visibility:hidden;\">03</span> <a href=\"/people/Scott.Annett/\">Dr Scott Annett</a> </td> <td>\n",
              "Robinson</td> <td><script>mail(\"sa410\",\"cam\",2,\"\",\"\")</script></td> </tr> <tr> <td> <span style=\"visibility:hidden;\">04</span> <a href=\"/people/Rebecca_Anne.Barr/\">Dr Rebecca Anne Barr</a> </td> <td>\n",
              "Faculty of English</td> <td><script>mail(\"rab43\",\"cam\",2,\"\",\"\")</script></td> </tr> <tr> <td> <span style=\"visibility:hidden;\">05</span> <a href=\"/people/Caroline.Bassett/\">Prof Caroline Bassett</a> </td> <td>\n",
              "Faculty of English</td> <td><script>mail(\"cab238\",\"cam\",2,\"\",\"\")</script></td> </tr> <tr> <td> <span style=\"visibility:hidden;\">06</span> <a href=\"/people/Jenny.Bavidge/\">Dr Jenny Bavidge</a> </td> <td>\n",
              "ICE</td> <td><script>mail(\"jrb203\",\"cam\",2,\"\",\"\")</script></td> </tr> <tr> <td> <span style=\"visibility:hidden;\">07</span> <a href=\"/people/Joanna.Bellis/\">Dr Joanna Bellis</a> </td> <td>\n",
              "Queens'</td> <td><script>mail(\"jrm78\",\"cam\",2,\"\",\"\")</script></td> </tr> <tr> <td> <span style=\"visibility:hidden;\">08</span> <a href=\"/people/Jessica.Berenbeim/\">Dr Jessica Berenbeim</a> </td> <td>\n",
              "Jesus</td> <td><script>mail(\"jb455\",\"cam\",2,\"\",\"\")</script></td> </tr> <tr> <td> <span style=\"visibility:hidden;\">09</span> <a href=\"/people/Kasia.Boddy/\">Dr Kasia Boddy</a> </td> <td>\n",
              "Fitzwilliam</td> <td><script>mail(\"kjb18\",\"cam\",2,\"\",\"\")</script></td> </tr> <tr> <td> <span style=\"visibility:hidden;\">10</span> <a href=\"/people/Deborah.Bowman/\">Dr Deborah Bowman</a> </td> <td>\n",
              "Gonville and Caius</td> <td><script>mail(\"dlb26\",\"cam\",2,\"\",\"\")</script></td> </tr> <tr> <td> <span style=\"visibility:hidden;\">11</span> <a href=\"/people/Christopher.Burlinson/\">Dr Christopher Burlinson</a> </td> <td>\n",
              "Jesus</td> <td><script>mail(\"cmb29\",\"cam\",2,\"\",\"\")</script></td> </tr> <tr> <td> <span style=\"visibility:hidden;\">12</span> <a href=\"/people/Ian.Burrows/\">Dr Ian Burrows</a> </td> <td>\n",
              "Faculty of English</td> <td><script>mail(\"irb23\",\"cam\",2,\"\",\"\")</script></td> </tr> <tr> <td> <span style=\"visibility:hidden;\">13</span> <a href=\"/people/Sarah.Cain/\">Ms Sarah Cain</a> </td> <td>\n",
              "Corpus Christi</td> <td><script>mail(\"stc22\",\"cam\",2,\"\",\"\")</script></td> </tr> <tr> <td> <span style=\"visibility:hidden;\">14</span> <a href=\"/people/Hero.Chalmers/\">Dr Hero Chalmers</a> </td> <td>\n",
              "Fitzwilliam</td> <td><script>mail(\"hac26\",\"cam\",2,\"\",\"\")</script></td> </tr> <tr> <td> <span style=\"visibility:hidden;\">15</span> <a href=\"/people/Paul.Chirico/\">Dr Paul Chirico</a> </td> <td>\n",
              "Fitzwilliam</td> <td></td> </tr> <tr> <td> <span style=\"visibility:hidden;\">16</span> <a href=\"/people/David.Clifford/\">Dr David Clifford</a> </td> <td>\n",
              "Homerton</td> <td><script>mail(\"djhc2\",\"cam\",2,\"\",\"\")</script></td> </tr> <tr> <td> <span style=\"visibility:hidden;\">17</span> <a href=\"/people/Philip.Connell/\">Dr Philip Connell</a> </td> <td>\n",
              "Selwyn</td> <td><script>mail(\"pjc1007\",\"cam\",2,\"\",\"\")</script></td> </tr> <tr> <td> <span style=\"visibility:hidden;\">18</span> <a href=\"/people/Steve.Connor/\">Prof Steve Connor</a> </td> <td>\n",
              "Peterhouse</td> <td><script>mail(\"skc45\",\"cam\",2,\"\",\"\")</script></td> </tr> <tr> <td> <span style=\"visibility:hidden;\">19</span> <a href=\"/people/Alexandra.da_Costa/\">Dr Alexandra da Costa</a> </td> <td>\n",
              "Faculty of English</td> <td><script>mail(\"ad666\",\"cam\",2,\"\",\"\")</script></td> </tr> <tr> <td> <span style=\"visibility:hidden;\">20</span> <a href=\"/people/Orietta.Da_Rold/\">Dr Orietta Da Rold</a> </td> <td>\n",
              "St John's</td> <td><script>mail(\"od245\",\"cam\",2,\"\",\"\")</script></td> </tr> <tr> <td> <span style=\"visibility:hidden;\">21</span> <a href=\"/people/Laura.Davies/\">Dr Laura Davies</a> </td> <td>\n",
              "King's</td> <td><script>mail(\"lid20\",\"cam\",2,\"\",\"\")</script></td> </tr> <tr> <td> <span style=\"visibility:hidden;\">22</span> <a href=\"/people/Peter.De_Bolla/\">Prof Peter De Bolla</a> </td> <td>\n",
              "King's</td> <td><script>mail(\"pld20\",\"cam\",2,\"\",\"\")</script></td> </tr> <tr> <td> <span style=\"visibility:hidden;\">23</span> <a href=\"/people/Tania.Demetriou/\">Dr Tania Demetriou</a> </td> <td>\n",
              "Sidney Sussex</td> <td><script>mail(\"td227\",\"cam\",2,\"\",\"\")</script></td> </tr> <tr> <td> <span style=\"visibility:hidden;\">24</span> <a href=\"/people/Sarah.Dillon/\">Dr Sarah Dillon</a> </td> <td>\n",
              "Faculty of English</td> <td></td> </tr> <tr> <td> <span style=\"visibility:hidden;\">25</span> <a href=\"/people/Katrin.Ettenhuber/\">Dr Katrin Ettenhuber</a> </td> <td>\n",
              "Pembroke</td> <td><script>mail(\"kce20\",\"cam\",2,\"\",\"\")</script></td> </tr> <tr> <td> <span style=\"visibility:hidden;\">26</span> <a href=\"/people/Tamara.Follini/\">Dr Tamara Follini</a> </td> <td>\n",
              "Clare</td> <td></td> </tr> <tr> <td> <span style=\"visibility:hidden;\">27</span> <a href=\"/people/Michele.Gemelos/\">Dr Michele Gemelos</a> </td> <td>\n",
              "St Edmund's</td> <td><script>mail(\"mg486\",\"cam\",2,\"\",\"\")</script></td> </tr> <tr> <td> <span style=\"visibility:hidden;\">28</span> <a href=\"/people/Caroline.Gonda/\">Dr Caroline Gonda</a> </td> <td>\n",
              "St Catharine's</td> <td><script>mail(\"cjg29\",\"cam\",2,\"\",\"\")</script></td> </tr> <tr> <td> <span style=\"visibility:hidden;\">29</span> <a href=\"/people/Priyamvada.Gopal/\">Dr Priyamvada Gopal</a> </td> <td>\n",
              "Churchill</td> <td></td> </tr> <tr> <td> <span style=\"visibility:hidden;\">30</span> <a href=\"/people/Mina.Gorji/\">Dr Mina Gorji</a> </td> <td>\n",
              "Pembroke</td> <td><script>mail(\"mg473\",\"cam\",2,\"\",\"\")</script></td> </tr> <tr> <td> <span style=\"visibility:hidden;\">31</span> <a href=\"/people/Fiona.Green/\">Dr Fiona Green</a> </td> <td>\n",
              "Jesus</td> <td><script>mail(\"fmg20\",\"cam\",2,\"\",\"\")</script></td> </tr> <tr> <td> <span style=\"visibility:hidden;\">32</span> <a href=\"/people/Sarah.Haggarty/\">Dr Sarah Haggarty</a> </td> <td>\n",
              "Queens'</td> <td><script>mail(\"sh267\",\"cam\",2,\"\",\"\")</script></td> </tr> <tr> <td> <span style=\"visibility:hidden;\">33</span> <a href=\"/people/Paul.Hartle/\">Dr Paul Hartle</a> </td> <td>\n",
              "St Catharine's</td> <td><script>mail(\"pnh1000\",\"cam\",2,\"\",\"\")</script></td> </tr> <tr> <td> <span style=\"visibility:hidden;\">34</span> <a href=\"/people/Anna-Maria.Hartmann/\">Dr Anna-Maria Hartmann</a> </td> <td>\n",
              "Trinity</td> <td><script>mail(\"amrh3\",\"cam\",2,\"\",\"\")</script></td> </tr> <tr> <td> <span style=\"visibility:hidden;\">35</span> <a href=\"/people/David.Hillman/\">Dr David Hillman</a> </td> <td>\n",
              "King's</td> <td><script>mail(\"dah54\",\"cam\",2,\"\",\"\")</script></td> </tr> <tr> <td> <span style=\"visibility:hidden;\">36</span> <a href=\"/people/Alex.Houen/\">Dr Alex Houen</a> </td> <td>\n",
              "Pembroke</td> <td><script>mail(\"ah217\",\"cam\",2,\"\",\"\")</script></td> </tr> <tr> <td> <span style=\"visibility:hidden;\">37</span> <a href=\"/people/Sarah.Houghton-Walker/\">Dr Sarah Houghton-Walker</a> </td> <td>\n",
              "Gonville and Caius</td> <td><script>mail(\"sh250\",\"cam\",2,\"\",\"\")</script></td> </tr> <tr> <td> <span style=\"visibility:hidden;\">38</span> <a href=\"/people/Michael.Hrebeniak/\">Dr Michael Hrebeniak</a> </td> <td>\n",
              "Wolfson</td> <td><script>mail(\"mh433\",\"cam\",2,\"\",\"\")</script></td> </tr> <tr> <td> <span style=\"visibility:hidden;\">39</span> <a href=\"/people/Jane.Hughes/\">Dr Jane Hughes</a> </td> <td>\n",
              "Magdalene</td> <td><script>mail(\"mejh4\",\"cam\",2,\"\",\"\")</script></td> </tr> <tr> <td> <span style=\"visibility:hidden;\">40</span> <a href=\"/people/Michael.Hurley/\">Dr Michael Hurley</a> </td> <td>\n",
              "Faculty of English</td> <td><script>mail(\"mdh32\",\"cam\",2,\"\",\"\")</script></td> </tr> <tr> <td> <span style=\"visibility:hidden;\">41</span> <a href=\"/people/Ewan.Jones/\">Dr Ewan Jones</a> </td> <td>\n",
              "Downing</td> <td><script>mail(\"ejj25\",\"cam\",2,\"\",\"\")</script></td> </tr> <tr> <td> <span style=\"visibility:hidden;\">42</span> <a href=\"/people/Louise.Joy/\">Dr Louise Joy</a> </td> <td>\n",
              "Homerton</td> <td><script>mail(\"lj214\",\"cam\",2,\"\",\"\")</script></td> </tr> <tr> <td> <span style=\"visibility:hidden;\">43</span> <a href=\"/people/James.Kelly/\">Dr James Kelly</a> </td> <td>\n",
              "Queens'</td> <td><script>mail(\"jwk23\",\"cam\",2,\"\",\"\")</script></td> </tr> <tr> <td> <span style=\"visibility:hidden;\">44</span> <a href=\"/people/Sarah.Kennedy/\">Dr Sarah Kennedy</a> </td> <td>\n",
              "Downing</td> <td><script>mail(\"slk44\",\"cam\",2,\"\",\"\")</script></td> </tr> <tr> <td> <span style=\"visibility:hidden;\">45</span> <a href=\"/people/John.Kerrigan/\">Prof John Kerrigan</a> </td> <td>\n",
              "St John's</td> <td><script>mail(\"jk10023\",\"cam\",2,\"\",\"\")</script></td> </tr> <tr> <td> <span style=\"visibility:hidden;\">46</span> <a href=\"/people/Philip.Knox/\">Dr Philip Knox</a> </td> <td>\n",
              "Faculty of English</td> <td><script>mail(\"pk453\",\"cam\",2,\"\",\"\")</script></td> </tr> <tr> <td> <span style=\"visibility:hidden;\">47</span> <a href=\"/people/Bonnie.Lander_Johnson/\">Dr Bonnie Lander Johnson</a> </td> <td>\n",
              "Newnham</td> <td><script>mail(\"bcl24\",\"cam\",2,\"\",\"\")</script></td> </tr> <tr> <td> <span style=\"visibility:hidden;\">48</span> <a href=\"/people/Hester.Lees-Jeffries/\">Dr Hester Lees-Jeffries</a> </td> <td>\n",
              "St Catharine's</td> <td><script>mail(\"hmml2\",\"cam\",2,\"\",\"\")</script></td> </tr> <tr> <td> <span style=\"visibility:hidden;\">49</span> <a href=\"/people/Raphael.Lyne/\">Prof Raphael Lyne</a> </td> <td>\n",
              "Murray Edwards</td> <td><script>mail(\"rtrl100\",\"cam\",2,\"\",\"\")</script></td> </tr> <tr> <td> <span style=\"visibility:hidden;\">50</span> <a href=\"/people/Robert.Macfarlane/\">Dr Robert Macfarlane</a> </td> <td>\n",
              "Emmanuel</td> <td></td> </tr> <tr> <td> <span style=\"visibility:hidden;\">51</span> <a href=\"/people/Isobel.Maddison/\">Dr Isobel Maddison</a> </td> <td>\n",
              "Lucy Cavendish</td> <td><script>mail(\"ijm22\",\"cam\",2,\"\",\"\")</script></td> </tr> <tr> <td> <span style=\"visibility:hidden;\">52</span> <a href=\"/people/Sarah.Meer/\">Dr Sarah Meer</a> </td> <td>\n",
              "Selwyn</td> <td><script>mail(\"sm10003\",\"cam\",2,\"\",\"\")</script></td> </tr> <tr> <td> <span style=\"visibility:hidden;\">53</span> <a href=\"/people/Shamira.Meghani/\">Dr Shamira Meghani</a> </td> <td>\n",
              "Faculty of English</td> <td><script>mail(\"sm2258\",\"cam\",2,\"\",\"\")</script></td> </tr> <tr> <td> <span style=\"visibility:hidden;\">54</span> <a href=\"/people/Leo.Mellor/\">Dr Leo Mellor</a> </td> <td>\n",
              "Murray Edwards</td> <td><script>mail(\"lgm22\",\"cam\",2,\"\",\"\")</script></td> </tr> <tr> <td> <span style=\"visibility:hidden;\">55</span> <a href=\"/people/Rod.Mengham/\">Dr Rod Mengham</a> </td> <td>\n",
              "Jesus</td> <td><script>mail(\"r.mengham\",\"jesus.cam\",2,\"\",\"\")</script></td> </tr> <tr> <td> <span style=\"visibility:hidden;\">56</span> <a href=\"/people/Drew.Milne/\">Dr Drew Milne</a> </td> <td>\n",
              "Corpus Christi</td> <td><script>mail(\"agm33\",\"cam\",2,\"\",\"\")</script></td> </tr> <tr> <td> <span style=\"visibility:hidden;\">57</span> <a href=\"/people/Chana.Morgenstern/\">Dr Chana Morgenstern</a> </td> <td>\n",
              "Newnham</td> <td><script>mail(\"cm894\",\"cam\",2,\"\",\"\")</script></td> </tr> <tr> <td> <span style=\"visibility:hidden;\">58</span> <a href=\"/people/Amy.Morris/\">Dr Amy Morris</a> </td> <td>\n",
              "Faculty of English</td> <td><script>mail(\"amer1\",\"cam\",2,\"\",\"\")</script></td> </tr> <tr> <td> <span style=\"visibility:hidden;\">59</span> <a href=\"/people/Charles.Moseley/\">Dr Charles Moseley</a> </td> <td>\n",
              "Hughes Hall</td> <td><script>mail(\"cwrdm2\",\"cam\",2,\"\",\"\")</script></td> </tr> <tr> <td> <span style=\"visibility:hidden;\">60</span> <a href=\"/people/Subha.Mukherji/\">Dr Subha Mukherji</a> </td> <td>\n",
              "Fitzwilliam</td> <td><script>mail(\"sm10014\",\"cam\",2,\"\",\"\")</script></td> </tr> <tr> <td> <span style=\"visibility:hidden;\">61</span> <a href=\"/people/Lisa.Mullen/\">Dr Lisa Mullen</a> </td> <td>\n",
              "Faculty of English</td> <td><script>mail(\"ljm203\",\"cam\",2,\"\",\"\")</script></td> </tr> <tr> <td> <span style=\"visibility:hidden;\">62</span> <a href=\"/people/Kylie.Murray/\">Dr Kylie Murray</a> </td> <td>\n",
              "Christ's</td> <td><script>mail(\"kmm65\",\"cam\",2,\"\",\"\")</script></td> </tr> <tr> <td> <span style=\"visibility:hidden;\">63</span> <a href=\"/people/Mary.Newbould/\">Dr Mary Newbould</a> </td> <td>\n",
              "Faculty of English</td> <td><script>mail(\"mcn23\",\"cam\",2,\"\",\"\")</script></td> </tr> <tr> <td> <span style=\"visibility:hidden;\">64</span> <a href=\"/people/Fred.Parker/\">Dr Fred Parker</a> </td> <td>\n",
              "Clare</td> <td><script>mail(\"gfp1000\",\"cam\",2,\"\",\"\")</script></td> </tr> <tr> <td> <span style=\"visibility:hidden;\">65</span> <a href=\"/people/Jane.Partner/\">Dr Jane Partner</a> </td> <td>\n",
              "Trinity Hall</td> <td><script>mail(\"jcp21\",\"cam\",2,\"\",\"\")</script></td> </tr> <tr> <td> <span style=\"visibility:hidden;\">66</span> <a href=\"/people/Ian.Patterson/\">Dr Ian Patterson</a> </td> <td>\n",
              "Queens'</td> <td><script>mail(\"ikp1000\",\"cam\",2,\"\",\"\")</script></td> </tr> <tr> <td> <span style=\"visibility:hidden;\">67</span> <a href=\"/people/Catherine.Phillips/\">Dr Catherine Phillips</a> </td> <td>\n",
              "Downing</td> <td><script>mail(\"clp10\",\"cam\",2,\"\",\"\")</script></td> </tr> <tr> <td> <span style=\"visibility:hidden;\">68</span> <a href=\"/people/Sophie.Read/\">Dr Sophie Read</a> </td> <td>\n",
              "Christ's</td> <td><script>mail(\"scnr2\",\"cam\",2,\"\",\"\")</script></td> </tr> <tr> <td> <span style=\"visibility:hidden;\">69</span> <a href=\"/people/Lotte.Reinbold/\">Dr Lotte Reinbold</a> </td> <td>\n",
              "Selwyn</td> <td><script>mail(\"cr417\",\"cam\",2,\"\",\"\")</script></td> </tr> <tr> <td> <span style=\"visibility:hidden;\">70</span> <a href=\"/people/James.Riley/\">Dr James Riley</a> </td> <td>\n",
              "Girton</td> <td><script>mail(\"rjer2\",\"cam\",2,\"\",\"\")</script></td> </tr> <tr> <td> <span style=\"visibility:hidden;\">71</span> <a href=\"/people/Corinna.Russell/\">Dr Corinna Russell</a> </td> <td>\n",
              "Emmanuel</td> <td><script>mail(\"cr215\",\"cam\",2,\"\",\"\")</script></td> </tr> <tr> <td> <span style=\"visibility:hidden;\">72</span> <a href=\"/people/Jan-Melissa.Schramm/\">Dr Jan-Melissa Schramm</a> </td> <td>\n",
              "Trinity Hall</td> <td><script>mail(\"js10032\",\"cam\",2,\"\",\"\")</script></td> </tr> <tr> <td> <span style=\"visibility:hidden;\">73</span> <a href=\"/people/Jason.Scott-Warren/\">Dr Jason Scott-Warren</a> </td> <td>\n",
              "Gonville and Caius</td> <td><script>mail(\"jes1003\",\"cam\",2,\"\",\"\")</script></td> </tr> <tr> <td> <span style=\"visibility:hidden;\">74</span> <a href=\"/people/Deirdre.Serjeantson/\">Dr Deirdre Serjeantson</a> </td> <td>\n",
              "Sidney Sussex</td> <td><script>mail(\"dcs40\",\"cam\",2,\"\",\"\")</script></td> </tr> <tr> <td> <span style=\"visibility:hidden;\">75</span> <a href=\"/people/Anne.Stillman/\">Dr Anne Stillman</a> </td> <td>\n",
              "Clare</td> <td><script>mail(\"ams38\",\"cam\",2,\"\",\"\")</script></td> </tr> <tr> <td> <span style=\"visibility:hidden;\">76</span>\n",
              "Dr Zoe Svendsen</td> <td>\n",
              "Faculty of English</td> <td></td> </tr> <tr> <td> <span style=\"visibility:hidden;\">77</span> <a href=\"/people/Jacqueline.Tasioulas/\">Dr Jacqueline Tasioulas</a> </td> <td>\n",
              "Clare</td> <td><script>mail(\"jt257\",\"cam\",2,\"\",\"\")</script></td> </tr> <tr> <td> <span style=\"visibility:hidden;\">78</span> <a href=\"/people/Trudi.Tate/\">Dr Trudi Tate</a> </td> <td>\n",
              "Clare Hall</td> <td><script>mail(\"tt206\",\"cam\",2,\"\",\"\")</script></td> </tr> <tr> <td> <span style=\"visibility:hidden;\">79</span> <a href=\"/people/Andrew.Taylor/\">Dr Andrew Taylor</a> </td> <td>\n",
              "Churchill</td> <td><script>mail(\"awt24\",\"cam\",2,\"\",\"\")</script></td> </tr> <tr> <td> <span style=\"visibility:hidden;\">80</span> <a href=\"/people/Helen.Thaventhiran/\">Dr Helen Thaventhiran</a> </td> <td>\n",
              "Robinson</td> <td><script>mail(\"hlc40\",\"cam\",2,\"\",\"\")</script></td> </tr> <tr> <td> <span style=\"visibility:hidden;\">81</span> <a href=\"/people/Christopher.Tilmouth/\">Dr Christopher Tilmouth</a> </td> <td>\n",
              "Faculty of English</td> <td><script>mail(\"cdjt100\",\"cam\",2,\"\",\"\")</script></td> </tr> <tr> <td> <span style=\"visibility:hidden;\">82</span> <a href=\"/people/Marcus.Tomalin/\">Dr Marcus Tomalin</a> </td> <td>\n",
              "Downing</td> <td></td> </tr> <tr> <td> <span style=\"visibility:hidden;\">83</span> <a href=\"/people/Anne.Toner/\">Dr Anne Toner</a> </td> <td>\n",
              "Trinity</td> <td></td> </tr> <tr> <td> <span style=\"visibility:hidden;\">84</span> <a href=\"/people/Daniel.Tyler/\">Dr Daniel Tyler</a> </td> <td>\n",
              "Trinity Hall</td> <td><script>mail(\"dt467\",\"cam\",2,\"\",\"\")</script></td> </tr> <tr> <td> <span style=\"visibility:hidden;\">85</span> <a href=\"/people/James.Wade/\">Dr James Wade</a> </td> <td>\n",
              "Girton</td> <td><script>mail(\"jpw49\",\"cam\",2,\"\",\"\")</script></td> </tr> <tr> <td> <span style=\"visibility:hidden;\">86</span> <a href=\"/people/Marcus.Waithe/\">Dr Marcus Waithe</a> </td> <td>\n",
              "Magdalene</td> <td><script>mail(\"mjw66\",\"cam\",2,\"\",\"\")</script></td> </tr> <tr> <td> <span style=\"visibility:hidden;\">87</span> <a href=\"/people/Jennifer.Wallace/\">Dr Jennifer Wallace</a> </td> <td>\n",
              "Peterhouse</td> <td><script>mail(\"jmbw1\",\"cam\",2,\"\",\"\")</script></td> </tr> <tr> <td> <span style=\"visibility:hidden;\">88</span> <a href=\"/people/Christopher.Warnes/\">Dr Christopher Warnes</a> </td> <td>\n",
              "St John's</td> <td><script>mail(\"cgw26\",\"cam\",2,\"\",\"\")</script></td> </tr> <tr> <td> <span style=\"visibility:hidden;\">89</span> <a href=\"/people/Claire.Wilkinson/\">Dr Claire Wilkinson</a> </td> <td>\n",
              "Faculty of English</td> <td><script>mail(\"clw64\",\"cam\",2,\"\",\"\")</script></td> </tr> <tr> <td> <span style=\"visibility:hidden;\">90</span> <a href=\"/people/Clair.Wills/\">Prof Clair Wills</a> </td> <td>\n",
              "Murray Edwards</td> <td><script>mail(\"cew70\",\"cam\",2,\"\",\"\")</script></td> </tr> <tr> <td> <span style=\"visibility:hidden;\">91</span>\n",
              "Mr Clive Wilmer</td> <td>\n",
              "Sidney Sussex</td> <td><script>mail(\"cw291\",\"cam\",2,\"\",\"\")</script></td> </tr> <tr> <td> <span style=\"visibility:hidden;\">92</span> <a href=\"/people/Ross.Wilson/\">Dr Ross Wilson</a> </td> <td>\n",
              "Faculty of English</td> <td><script>mail(\"rmw24\",\"cam\",2,\"\",\"\")</script></td> </tr> <tr> <td> <span style=\"visibility:hidden;\">93</span> <a href=\"/people/Edward.Wilson-Lee/\">Dr Edward Wilson-Lee</a> </td> <td>\n",
              "Sidney Sussex</td> <td></td> </tr> <tr> <td> <span style=\"visibility:hidden;\">94</span> <a href=\"/people/Alex.Wong/\">Dr Alex Wong</a> </td> <td>\n",
              "St John's</td> <td><script>mail(\"atw28\",\"cam\",2,\"\",\"\")</script></td> </tr> <tr> <td> <span style=\"visibility:hidden;\">95</span> <a href=\"/people/Mark.Wormald/\">Dr Mark Wormald</a> </td> <td>\n",
              "Pembroke</td> <td><script>mail(\"mrw1002\",\"cam\",2,\"\",\"\")</script></td> </tr> <tr> <td> <span style=\"visibility:hidden;\">96</span> <a href=\"/people/Laura.Wright/\">Dr Laura Wright</a> </td> <td>\n",
              "Faculty of English</td> <td></td> </tr> <tr> <td> <span style=\"visibility:hidden;\">97</span> <a href=\"/people/Nicolette.Zeeman/\">Prof Nicolette Zeeman</a> </td> <td>\n",
              "King's</td> <td><script>mail(\"nz202\",\"cam\",2,\"\",\"\")</script></td> </tr> <tr> <td> <span style=\"visibility:hidden;\">98</span> <a href=\"/people/Andrew.Zurcher/\">Dr Andrew Zurcher</a> </td> <td>\n",
              "Queens'</td> <td><script>mail(\"aez20\",\"cam\",2,\"\",\"\")</script></td> </tr> </tbody> </table><!-- InstanceEndEditable -->\n",
              "</div> <!-- end content container -->\n",
              "</div> <!-- end column9 maincontent -->\n",
              "</div> <!-- end wrap -->\n",
              "</div> <!-- end row -->\n",
              "<!-- global footer begins -->\n",
              "<div class=\"row global-footer\">\n",
              "<div class=\"wrap clearfix\">\n",
              "<div class=\"column3 footer-navigation\">\n",
              "<div class=\"content-container footer-logo\">\n",
              "<img alt=\"University of Cambridge Logo\" class=\"scale-with-grid\" src=\"/images/interface/main-logo-small.png\"/>\n",
              "<p>© 2016 University of Cambridge</p>\n",
              "<ul class=\"unstyled-list global-footer-links\">\n",
              "<li><a href=\"http://www.cam.ac.uk/university-a-z\">University A-Z</a></li>\n",
              "<li><a href=\"http://www.cam.ac.uk/contact-the-university\">Contact the University</a></li>\n",
              "<li><a href=\"http://www.cam.ac.uk/about-this-site/accessibility\">Accessibility</a></li>\n",
              "<li><a href=\"http://www.admin.cam.ac.uk/univ/information/foi/\">Freedom of information</a></li>\n",
              "<li><a href=\"http://www.cam.ac.uk/about-this-site/terms-and-conditions\">Terms and conditions</a></li>\n",
              "</ul>\n",
              "</div>\n",
              "</div>\n",
              "<div class=\"column2 footer-navigation\">\n",
              "<div class=\"content-container navigation-list\">\n",
              "<div class=\"link-list\">\n",
              "<h3><a href=\"http://www.cam.ac.uk/study-at-cambridge\">Study at Cambridge</a></h3>\n",
              "<ul class=\"unstyled-list\">\n",
              "<li><a href=\"http://www.study.cam.ac.uk/undergraduate/\">Undergraduate</a></li>\n",
              "<li><a href=\"http://www.admin.cam.ac.uk/students/gradadmissions/prospec/\">Graduate</a></li>\n",
              "<li><a href=\"http://www.cam.ac.uk/about-the-university/international-cambridge/studying-at-cambridge\">International students</a></li>\n",
              "<li><a href=\"http://www.ice.cam.ac.uk\">Continuing education</a></li>\n",
              "<li><a href=\"http://www.epe.admin.cam.ac.uk/\">Executive and professional education</a></li>\n",
              "<li><a href=\"http://www.educ.cam.ac.uk\">Courses in education</a></li>\n",
              "</ul>\n",
              "</div>\n",
              "</div>\n",
              "</div>\n",
              "<div class=\"column2 footer-navigation\">\n",
              "<div class=\"content-container navigation-list\">\n",
              "<h3><a href=\"http://www.cam.ac.uk/about-the-university\">About the University</a></h3>\n",
              "<ul class=\"unstyled-list page-children\">\n",
              "<li><a href=\"http://www.cam.ac.uk/about-the-university/how-the-university-and-colleges-work\">How the University and Colleges work</a></li>\n",
              "<li><a href=\"http://www.cam.ac.uk/about-the-university/visiting-the-university\">Visiting the University</a></li>\n",
              "<li><a href=\"http://map.cam.ac.uk\">Map</a></li>\n",
              "<li><a href=\"http://www.cam.ac.uk/news\">News</a></li>\n",
              "<li><a href=\"http://www.admin.cam.ac.uk/whatson\">Events</a></li>\n",
              "<li><a href=\"http://www.jobs.cam.ac.uk\">Jobs</a></li>\n",
              "<li><a href=\"http://www.philanthropy.cam.ac.uk\">Giving to Cambridge</a></li>\n",
              "</ul>\n",
              "</div>\n",
              "</div>\n",
              "<div class=\"column2 footer-navigation\">\n",
              "<div class=\"content-container navigation-list\">\n",
              "<h3><a href=\"http://www.cam.ac.uk/research\">Research at Cambridge</a></h3>\n",
              "<ul class=\"unstyled-list\">\n",
              "<li><a href=\"http://www.cam.ac.uk/research/news\">News</a></li>\n",
              "<li><a href=\"http://www.cam.ac.uk/research/features\">Features</a></li>\n",
              "<li><a href=\"http://www.cam.ac.uk/research/discussion\">Discussion</a></li>\n",
              "<li><a href=\"http://www.cam.ac.uk/research/spotlight-on\">Spotlight on...</a></li>\n",
              "<li><a href=\"http://www.cam.ac.uk/research/research-at-cambridge\">About research at Cambridge</a></li>\n",
              "</ul>\n",
              "</div>\n",
              "</div>\n",
              "<div class=\"column3 footer-navigation last\">\n",
              "<div class=\"content-container navigation-list\">\n",
              "<a href=\"https://www.english.cam.ac.uk/equality/?page_id=13\"><img alt=\"Athena Swan Bronze Award\" class=\"scale-with-grid\" src=\"/images/athena-swan-bronze.png\" style=\"max-width:200px; padding-top:15%;\"/></a>\n",
              "</div>\n",
              "</div>\n",
              "</div>\n",
              "<script>\n",
              "  window.dataLayer = window.dataLayer || [];\n",
              "  function gtag(){dataLayer.push(arguments);}\n",
              "  gtag('js', new Date());\n",
              "\n",
              "  gtag('config', 'UA-28377961-1');\n",
              "</script>\n",
              "</div>\n",
              "<!-- .global-footer ends -->\n",
              "<script src=\"/include/libs/ios-orientationchange-fix.js\" type=\"text/javascript\"></script>\n",
              "<script src=\"/include/libs/modernizr.js\" type=\"text/javascript\"></script>\n",
              "<script src=\"/include/custom.js\" type=\"text/javascript\"></script>\n",
              "</body>\n",
              "<!-- InstanceBeginEditable name=\"BackToStart\" -->\n",
              "<!-- This can be deleted if it isn't needed -->\n",
              "<style type=\"text/css\">\n",
              "#w2b-StoTop {-moz-border-radius: 5px;-webkit-border-radius: 5px;border-radius: 5px; width:100px;background-color: #EEEEEE;background-color: rgba(238, 238, 238, 0.6);filter: progid:DXImageTransform.Microsoft.gradient(startColorStr='#99EEEEEE',EndColorStr='#99EEEEEE');text-align:center;padding:5px;position:fixed;bottom:10px;right:10px;cursor:pointer;color:#444;text-decoration:none;border:1px solid #C9C9C9;}\n",
              "</style>\n",
              "<script type=\"text/javascript\">\n",
              "    $(function() {\n",
              "        $.fn.scrollToTop = function() {\n",
              "            $(this).hide().removeAttr(\"href\");\n",
              "            if ($(window).scrollTop() != \"0\") {\n",
              "                $(this).fadeIn(\"slow\")\n",
              "            }\n",
              "            var scrollDiv = $(this);\n",
              "            $(window).scroll(function() {\n",
              "                if ($(window).scrollTop() == \"0\") {\n",
              "                    $(scrollDiv).fadeOut(\"slow\")\n",
              "                } else {\n",
              "                    $(scrollDiv).fadeIn(\"slow\")\n",
              "                }\n",
              "            });\n",
              "            $(this).click(function() {\n",
              "                $(\"html, body\").animate({\n",
              "                    scrollTop: 0\n",
              "                }, \"slow\")\n",
              "            })\n",
              "        }\n",
              "    });\n",
              "    $(function() {\n",
              "        $(\"#w2b-StoTop\").scrollToTop();\n",
              "    });\n",
              "</script>\n",
              "<a href=\"#\" id=\"w2b-StoTop\" style=\"display:none;\">Scroll to start<br/>of page.</a><!-- InstanceEndEditable -->\n",
              "<!-- InstanceEnd --></html>"
            ]
          },
          "metadata": {
            "tags": []
          },
          "execution_count": 145
        }
      ]
    },
    {
      "cell_type": "code",
      "metadata": {
        "id": "ZCi5LA3d2etb",
        "colab_type": "code",
        "colab": {
          "base_uri": "https://localhost:8080/",
          "height": 1000
        },
        "outputId": "f8958f86-59a7-4820-b4a4-c2a4a367ab8c"
      },
      "source": [
        "for link in soup.findAll('a', attrs = {'href': re.compile(\"^/people/\")}): \n",
        " print(link.string)"
      ],
      "execution_count": 146,
      "outputs": [
        {
          "output_type": "stream",
          "text": [
            "people\n",
            "Dr Ruth Abbott\n",
            "Dr Gavin Alexander\n",
            "Dr Edward Allen\n",
            "Dr Scott Annett\n",
            "Dr Rebecca Anne Barr\n",
            "Prof Caroline Bassett\n",
            "Dr Jenny Bavidge\n",
            "Dr Joanna Bellis\n",
            "Dr Jessica Berenbeim\n",
            "Dr Kasia Boddy\n",
            "Dr Deborah Bowman\n",
            "Dr Christopher Burlinson\n",
            "Dr Ian Burrows\n",
            "Ms Sarah Cain\n",
            "Dr Hero Chalmers\n",
            "Dr Paul Chirico\n",
            "Dr David Clifford\n",
            "Dr Philip Connell\n",
            "Prof Steve Connor\n",
            "Dr Alexandra da Costa\n",
            "Dr Orietta Da Rold\n",
            "Dr Laura Davies\n",
            "Prof Peter De Bolla\n",
            "Dr Tania Demetriou\n",
            "Dr Sarah Dillon\n",
            "Dr Katrin Ettenhuber\n",
            "Dr Tamara Follini\n",
            "Dr Michele Gemelos\n",
            "Dr Caroline Gonda\n",
            "Dr Priyamvada Gopal\n",
            "Dr Mina Gorji\n",
            "Dr Fiona Green\n",
            "Dr Sarah Haggarty\n",
            "Dr Paul Hartle\n",
            "Dr Anna-Maria Hartmann\n",
            "Dr David Hillman\n",
            "Dr Alex Houen\n",
            "Dr Sarah Houghton-Walker\n",
            "Dr Michael Hrebeniak\n",
            "Dr Jane Hughes\n",
            "Dr Michael Hurley\n",
            "Dr Ewan Jones\n",
            "Dr Louise Joy\n",
            "Dr James Kelly\n",
            "Dr Sarah Kennedy\n",
            "Prof John Kerrigan\n",
            "Dr Philip Knox\n",
            "Dr Bonnie Lander Johnson\n",
            "Dr Hester Lees-Jeffries\n",
            "Prof Raphael Lyne\n",
            "Dr Robert Macfarlane\n",
            "Dr Isobel Maddison\n",
            "Dr Sarah Meer\n",
            "Dr Shamira Meghani\n",
            "Dr Leo Mellor\n",
            "Dr Rod Mengham\n",
            "Dr Drew Milne\n",
            "Dr Chana Morgenstern\n",
            "Dr Amy Morris\n",
            "Dr Charles Moseley\n",
            "Dr Subha Mukherji\n",
            "Dr Lisa Mullen\n",
            "Dr Kylie Murray\n",
            "Dr Mary Newbould\n",
            "Dr Fred Parker\n",
            "Dr Jane Partner\n",
            "Dr Ian Patterson\n",
            "Dr Catherine Phillips\n",
            "Dr Sophie Read\n",
            "Dr Lotte Reinbold\n",
            "Dr James Riley\n",
            "Dr Corinna Russell\n",
            "Dr Jan-Melissa Schramm\n",
            "Dr Jason Scott-Warren\n",
            "Dr Deirdre Serjeantson\n",
            "Dr Anne Stillman\n",
            "Dr Jacqueline Tasioulas\n",
            "Dr Trudi Tate\n",
            "Dr Andrew Taylor\n",
            "Dr Helen Thaventhiran\n",
            "Dr Christopher Tilmouth\n",
            "Dr Marcus Tomalin\n",
            "Dr Anne Toner\n",
            "Dr Daniel Tyler\n",
            "Dr James Wade\n",
            "Dr Marcus Waithe\n",
            "Dr Jennifer Wallace\n",
            "Dr Christopher Warnes\n",
            "Dr Claire Wilkinson\n",
            "Prof Clair Wills\n",
            "Dr Ross Wilson\n",
            "Dr Edward Wilson-Lee\n",
            "Dr Alex Wong\n",
            "Dr Mark Wormald\n",
            "Dr Laura Wright\n",
            "Prof Nicolette Zeeman\n",
            "Dr Andrew Zurcher\n"
          ],
          "name": "stdout"
        }
      ]
    }
  ]
}