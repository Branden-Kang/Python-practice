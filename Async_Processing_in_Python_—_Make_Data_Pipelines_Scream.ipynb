{
  "nbformat": 4,
  "nbformat_minor": 0,
  "metadata": {
    "colab": {
      "name": "Async Processing in Python — Make Data Pipelines Scream.ipynb",
      "provenance": [],
      "authorship_tag": "ABX9TyMYMLufrwoOAv1L83SKEg5c"
    },
    "kernelspec": {
      "name": "python3",
      "display_name": "Python 3"
    },
    "language_info": {
      "name": "python"
    }
  },
  "cells": [
    {
      "cell_type": "markdown",
      "metadata": {
        "id": "Oj_ikbtrEJGb"
      },
      "source": [
        "[Reference](https://medium.com/capital-one-tech/async-processing-in-python-make-data-pipelines-scream-a1e8467e7919)"
      ]
    },
    {
      "cell_type": "code",
      "metadata": {
        "colab": {
          "base_uri": "https://localhost:8080/"
        },
        "id": "jfNgk66DD7wk",
        "outputId": "42519272-0891-4990-c15f-58d1e19828a8"
      },
      "source": [
        "import time\n",
        "def myproc():\n",
        "   print(\"myProc started ...\")\n",
        "   t1 = time.perf_counter()\n",
        "   time.sleep(5)\n",
        "   t = time.perf_counter() - t1\n",
        "   print(f\"   myProc finished in {t:0.5f} seconds.\")\n",
        "  \n",
        "def main():\n",
        "   for _ in range(5):\n",
        "       myproc()\n",
        "    \n",
        "if __name__ == \"__main__\":\n",
        "   start_sec = time.perf_counter()\n",
        "   main()\n",
        "   elapsed_secs = time.perf_counter() - start_sec\n",
        "   print(f\"Job finished in {elapsed_secs:0.5f} seconds.\")"
      ],
      "execution_count": 1,
      "outputs": [
        {
          "output_type": "stream",
          "name": "stdout",
          "text": [
            "myProc started ...\n",
            "   myProc finished in 5.00453 seconds.\n",
            "myProc started ...\n",
            "   myProc finished in 5.00503 seconds.\n",
            "myProc started ...\n",
            "   myProc finished in 5.00511 seconds.\n",
            "myProc started ...\n",
            "   myProc finished in 5.00519 seconds.\n",
            "myProc started ...\n",
            "   myProc finished in 5.00100 seconds.\n",
            "Job finished in 25.02208 seconds.\n"
          ]
        }
      ]
    },
    {
      "cell_type": "code",
      "metadata": {
        "id": "H3KBgxzzENob"
      },
      "source": [
        "import asyncio # new module \n",
        "import time\n",
        "async def myproc(): # async is new\n",
        "   print(\"myProc started ...\")\n",
        "   t1 = time.perf_counter()\n",
        "   await asyncio.sleep(5) # await asyncio is new\n",
        "   t = time.perf_counter() - t1\n",
        "   print(f\"   myProc finished in {t:0.5f} seconds.\")\n",
        "async def main(): # async is new\n",
        "   await asyncio.gather( # await asyncio is new\n",
        "     myproc(),\n",
        "     myproc(),\n",
        "     myproc(),\n",
        "     myproc(),\n",
        "     myproc()\n",
        "   )\n",
        "if __name__ == \"__main__\":\n",
        "   start_sec = time.perf_counter()\n",
        "   asyncio.run(main()) # asyncio.run is new\n",
        "   elapsed_secs = time.perf_counter() - start_sec\n",
        "   print(f\"Job finished in {elapsed_secs:0.5f} seconds.\")"
      ],
      "execution_count": 3,
      "outputs": []
    }
  ]
}