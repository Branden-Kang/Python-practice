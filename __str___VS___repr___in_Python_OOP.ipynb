{
  "nbformat": 4,
  "nbformat_minor": 0,
  "metadata": {
    "colab": {
      "provenance": [],
      "authorship_tag": "ABX9TyNDZGzSzBOxcUE6ErLfSvsl"
    },
    "kernelspec": {
      "name": "python3",
      "display_name": "Python 3"
    },
    "language_info": {
      "name": "python"
    }
  },
  "cells": [
    {
      "cell_type": "markdown",
      "source": [
        "[Reference](https://python.plainenglish.io/str-vs-repr-in-python-oop-c7c6a7e0885e)"
      ],
      "metadata": {
        "id": "5wKMFgwnlKJZ"
      }
    },
    {
      "cell_type": "code",
      "execution_count": 1,
      "metadata": {
        "id": "eNPgE-xIlH5-"
      },
      "outputs": [],
      "source": [
        "class Dog:\n",
        "  def __init__(self, name, age):\n",
        "    self.name = name\n",
        "    self.age = age\n",
        "\n",
        "  def __str__(self):\n",
        "    return f'Dog__str__({self.name}, {self.age})'\n",
        "\n",
        "  def __repr__(self):\n",
        "    return f'Dog__repr__({self.name}, {self.age})'\n",
        "\n",
        "rocky = Dog('rocky', 5)"
      ]
    },
    {
      "cell_type": "code",
      "source": [
        "# str(rocky) and rocky.__str__() are the exact same\n",
        "a = rocky.__str__()     # a = 'Dog__str__(rocky, 5)'\n",
        "b = str(rocky)          # b = 'Dog__str__(rocky, 5)'"
      ],
      "metadata": {
        "id": "PFKEKMTqlNG6"
      },
      "execution_count": 2,
      "outputs": []
    },
    {
      "cell_type": "code",
      "source": [
        "# repr(rocky) and rocky.__repr__() are the exact same\n",
        "c = rocky.__repr__()    # c = 'Dog__repr__(rocky, 5)'\n",
        "d = repr(rocky)         # d = 'Dog__repr__(rocky, 5)'"
      ],
      "metadata": {
        "id": "C43cJ7M6lNOf"
      },
      "execution_count": 3,
      "outputs": []
    },
    {
      "cell_type": "code",
      "source": [
        "# Dog class without __str__\n",
        "class Dog:\n",
        "  def __init__(self, name, age):\n",
        "    self.name = name\n",
        "    self.age = age\n",
        "\n",
        "dog1 = Dog('rocky', 5)\n",
        "print(dog1)          # <__main__.Dog object at 0x10cd679d0>"
      ],
      "metadata": {
        "colab": {
          "base_uri": "https://localhost:8080/"
        },
        "id": "Ck_4aDC2lN7C",
        "outputId": "1f7d6839-3fc5-4003-83f4-c1484da01141"
      },
      "execution_count": 4,
      "outputs": [
        {
          "output_type": "stream",
          "name": "stdout",
          "text": [
            "<__main__.Dog object at 0x7f5801075f10>\n"
          ]
        }
      ]
    },
    {
      "cell_type": "code",
      "source": [
        "# Dog class with __str__\n",
        "class Dog:\n",
        "  def __init__(self, name, age):\n",
        "    self.name = name\n",
        "    self.age = age\n",
        "\n",
        "  def __str__(self):\n",
        "    return f'Dog({self.name}, {self.age})'\n",
        "\n",
        "dog2 = Dog('rocky', 5)\n",
        "print(dog2)          # Dog(rocky, 5)"
      ],
      "metadata": {
        "colab": {
          "base_uri": "https://localhost:8080/"
        },
        "id": "e7pcZ8UQlO2P",
        "outputId": "9860255c-170c-488c-d5e0-d4125b4def4e"
      },
      "execution_count": 6,
      "outputs": [
        {
          "output_type": "stream",
          "name": "stdout",
          "text": [
            "Dog(rocky, 5)\n"
          ]
        }
      ]
    },
    {
      "cell_type": "code",
      "source": [
        "# Dog class without __repr__\n",
        "class Dog:\n",
        "  def __init__(self, name, age):\n",
        "    self.name = name\n",
        "    self.age = age\n",
        "\n",
        "dogs = [Dog('rocky', 4), Dog('fifi', 5), Dog('baaron', 6)]\n",
        "print(dogs)\n",
        "\n",
        "# [<__main__.Dog object at 0x108b1fa50>, <__main__.Dog object at 0x108b1fc90>, <__main__.Dog object at 0x108b1fcd0>]"
      ],
      "metadata": {
        "colab": {
          "base_uri": "https://localhost:8080/"
        },
        "id": "W5dx1Ku0lPxj",
        "outputId": "a7cb3cb3-607a-40fb-87d2-fc35e2fc2d46"
      },
      "execution_count": 7,
      "outputs": [
        {
          "output_type": "stream",
          "name": "stdout",
          "text": [
            "[<__main__.Dog object at 0x7f5801062eb0>, <__main__.Dog object at 0x7f58030dac70>, <__main__.Dog object at 0x7f5801081d00>]\n"
          ]
        }
      ]
    },
    {
      "cell_type": "code",
      "source": [
        "# Dog class with __repr__\n",
        "class Dog:\n",
        "  def __init__(self, name, age):\n",
        "    self.name = name\n",
        "    self.age = age\n",
        "\n",
        "  def __repr__(self):\n",
        "    return f'Dog({self.name}, {self.age})'\n",
        "\n",
        "dogs = [Dog('rocky', 4), Dog('fifi', 5), Dog('baaron', 6)]\n",
        "print(dogs)\n",
        "\n",
        "# [Dog(rocky, 4), Dog(fifi, 5), Dog(baaron, 6)]"
      ],
      "metadata": {
        "colab": {
          "base_uri": "https://localhost:8080/"
        },
        "id": "uewrDfnAlQ_K",
        "outputId": "7caf999c-98bf-43b0-981e-77e21026e87c"
      },
      "execution_count": 8,
      "outputs": [
        {
          "output_type": "stream",
          "name": "stdout",
          "text": [
            "[Dog(rocky, 4), Dog(fifi, 5), Dog(baaron, 6)]\n"
          ]
        }
      ]
    },
    {
      "cell_type": "code",
      "source": [
        "# Cat has only __str__ and no __repr__\n",
        "class Cat:\n",
        "  def __init__(self, name):\n",
        "    self.name = name\n",
        "\n",
        "  def __str__(self):\n",
        "    return f'Cat({self.name})'\n",
        "\n",
        "# Bird has only __repr__ and no __str__\n",
        "class Bird:\n",
        "  def __init__(self, name):\n",
        "    self.name = name\n",
        "\n",
        "  def __repr__(self):\n",
        "    return f'Bird({self.name})'"
      ],
      "metadata": {
        "id": "8YsxjRNnlR6o"
      },
      "execution_count": 12,
      "outputs": []
    },
    {
      "cell_type": "code",
      "source": [
        "# remember, Cat has only __str__, no __repr__\n",
        "\n",
        "cat = Cat('tabby')\n",
        "cats = [Cat('A'), Cat('B'), Cat('C')]\n",
        "\n",
        "print(cat)    # Cat(tabby)\n",
        "print(cats)   # [<__main__.Cat object at 0x10c584050>, <__main__.Cat object at 0x10c584150>, <__main__.Cat object at 0x10c584290>]"
      ],
      "metadata": {
        "colab": {
          "base_uri": "https://localhost:8080/"
        },
        "id": "UeEmP24AlS4T",
        "outputId": "4acbfcd3-61ee-4d90-dacd-7e1dab747dd0"
      },
      "execution_count": 10,
      "outputs": [
        {
          "output_type": "stream",
          "name": "stdout",
          "text": [
            "Cat(tabby)\n",
            "[<__main__.Cat object at 0x7f58010755b0>, <__main__.Cat object at 0x7f5801062f10>, <__main__.Cat object at 0x7f5801062af0>]\n"
          ]
        }
      ]
    },
    {
      "cell_type": "code",
      "source": [
        "# remember, Bird only has __repr__, no __repr__\n",
        "\n",
        "bird = Bird('birdy')\n",
        "birds = [Bird('D'), Bird('E'), Bird('F')]\n",
        "\n",
        "print(bird)    # Bird(birdy)\n",
        "print(birds)   # [Bird(D), Bird(E), Bird(F)]"
      ],
      "metadata": {
        "colab": {
          "base_uri": "https://localhost:8080/"
        },
        "id": "Y36X-jGjlYoI",
        "outputId": "c3414bf1-d0b9-4110-dd51-8f315d64ba8b"
      },
      "execution_count": 13,
      "outputs": [
        {
          "output_type": "stream",
          "name": "stdout",
          "text": [
            "Bird(birdy)\n",
            "[Bird(D), Bird(E), Bird(F)]\n"
          ]
        }
      ]
    }
  ]
}