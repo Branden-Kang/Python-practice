{
  "nbformat": 4,
  "nbformat_minor": 0,
  "metadata": {
    "colab": {
      "provenance": [],
      "authorship_tag": "ABX9TyMh/QBzzQ9BP8Wpmw66OaeG"
    },
    "kernelspec": {
      "name": "python3",
      "display_name": "Python 3"
    },
    "language_info": {
      "name": "python"
    }
  },
  "cells": [
    {
      "cell_type": "markdown",
      "source": [
        "[Reference](https://python.plainenglish.io/7-more-things-i-never-knew-about-python-until-recently-c1deb84e637f)"
      ],
      "metadata": {
        "id": "CyWwkwoqCmq4"
      }
    },
    {
      "cell_type": "markdown",
      "source": [
        "# 1) We Can Import Multiple Libraries On One Line"
      ],
      "metadata": {
        "id": "zbHclQd5CotW"
      }
    },
    {
      "cell_type": "code",
      "execution_count": 1,
      "metadata": {
        "id": "rq90GTFICjru"
      },
      "outputs": [],
      "source": [
        "import numpy as np\n",
        "import pandas as pd\n",
        "import tensorflow as tf"
      ]
    },
    {
      "cell_type": "code",
      "source": [
        "import numpy as np, pandas as pd, tensorflow as tf"
      ],
      "metadata": {
        "id": "Acqk3Te2Cpr2"
      },
      "execution_count": 2,
      "outputs": []
    },
    {
      "cell_type": "markdown",
      "source": [
        "# 2) We Can Ignore warnings in Python"
      ],
      "metadata": {
        "id": "WhHUliYwCrEI"
      }
    },
    {
      "cell_type": "code",
      "source": [
        "import warnings\n",
        "warnings.filterwarnings(\"ignore\")"
      ],
      "metadata": {
        "id": "A9qE3OIOCqYM"
      },
      "execution_count": 3,
      "outputs": []
    },
    {
      "cell_type": "markdown",
      "source": [
        "# 3) Deques (Doubly Ended Queues)"
      ],
      "metadata": {
        "id": "ATaX2KflCwOE"
      }
    },
    {
      "cell_type": "code",
      "source": [
        "queue = [4, 5, 6, 7, 8]\n",
        "queue.pop()   # popping last element. O(1) time \n",
        "queue.pop(0)  # popping first element. O(n) time"
      ],
      "metadata": {
        "colab": {
          "base_uri": "https://localhost:8080/"
        },
        "id": "rt-2g_4XCshK",
        "outputId": "d3c42d0f-1a56-4f2c-e0f2-23dc801352eb"
      },
      "execution_count": 4,
      "outputs": [
        {
          "output_type": "execute_result",
          "data": {
            "text/plain": [
              "4"
            ]
          },
          "metadata": {},
          "execution_count": 4
        }
      ]
    },
    {
      "cell_type": "code",
      "source": [
        "from collections import deque\n",
        "d = deque([4, 5, 6, 7, 8])\n",
        "d.pop()       # popping last element. O(1) time"
      ],
      "metadata": {
        "colab": {
          "base_uri": "https://localhost:8080/"
        },
        "id": "2TgeEnAxCyGD",
        "outputId": "500ffcb5-0bbe-4317-a745-b9f524f1e7cb"
      },
      "execution_count": 5,
      "outputs": [
        {
          "output_type": "execute_result",
          "data": {
            "text/plain": [
              "8"
            ]
          },
          "metadata": {},
          "execution_count": 5
        }
      ]
    },
    {
      "cell_type": "code",
      "source": [
        "d.popleft()   # popping first element. O(1) time"
      ],
      "metadata": {
        "colab": {
          "base_uri": "https://localhost:8080/"
        },
        "id": "egO96cRvC2fz",
        "outputId": "c42bb6aa-ed95-4612-c544-75610b0b5bf1"
      },
      "execution_count": 6,
      "outputs": [
        {
          "output_type": "execute_result",
          "data": {
            "text/plain": [
              "4"
            ]
          },
          "metadata": {},
          "execution_count": 6
        }
      ]
    },
    {
      "cell_type": "markdown",
      "source": [
        "# 4) The .py Extension Doesn’t Actually Matter"
      ],
      "metadata": {
        "id": "OXosD4RfC40w"
      }
    },
    {
      "cell_type": "code",
      "source": [
        "print(\"hello world from test.txt\")"
      ],
      "metadata": {
        "colab": {
          "base_uri": "https://localhost:8080/"
        },
        "id": "sCqjt-yxC2yY",
        "outputId": "dd559ae6-de36-4466-dd13-1f8068f25d69"
      },
      "execution_count": 7,
      "outputs": [
        {
          "output_type": "stream",
          "name": "stdout",
          "text": [
            "hello world from test.txt\n"
          ]
        }
      ]
    },
    {
      "cell_type": "code",
      "source": [
        "# python test.txt"
      ],
      "metadata": {
        "id": "gLCxp90AC5-2"
      },
      "execution_count": 8,
      "outputs": []
    },
    {
      "cell_type": "markdown",
      "source": [
        "# 5) We Can Add Our Own Paths To sys.path"
      ],
      "metadata": {
        "id": "IBtQHi8NDDYs"
      }
    },
    {
      "cell_type": "code",
      "source": [
        "import sys\n",
        "print(sys.path)"
      ],
      "metadata": {
        "colab": {
          "base_uri": "https://localhost:8080/"
        },
        "id": "tSwbDza0C7wd",
        "outputId": "aa102309-453f-455e-f10b-c194972d66b2"
      },
      "execution_count": 9,
      "outputs": [
        {
          "output_type": "stream",
          "name": "stdout",
          "text": [
            "['/content', '/env/python', '/usr/lib/python37.zip', '/usr/lib/python3.7', '/usr/lib/python3.7/lib-dynload', '', '/usr/local/lib/python3.7/dist-packages', '/usr/lib/python3/dist-packages', '/usr/local/lib/python3.7/dist-packages/IPython/extensions', '/root/.ipython']\n"
          ]
        }
      ]
    },
    {
      "cell_type": "code",
      "source": [
        "# import sys\n",
        "# sys.path.append(\"/my/path\")"
      ],
      "metadata": {
        "id": "BiK0ZMXgDEsJ"
      },
      "execution_count": 10,
      "outputs": []
    },
    {
      "cell_type": "markdown",
      "source": [
        "# 6) We Can Pickle Data Into Any Extension"
      ],
      "metadata": {
        "id": "VIquCPt4DIi5"
      }
    },
    {
      "cell_type": "code",
      "source": [
        "# import pickle\n",
        "# data = [4, 5, 6]\n",
        "# pickle.dump(data, open(\"data.cheese\", \"wb\"))\n",
        "# x = pickle.load(open(\"data.cheese\", \"rb\"))\n",
        "# # x = [4, 5, 6]"
      ],
      "metadata": {
        "id": "LivJsiSxDHq3"
      },
      "execution_count": 11,
      "outputs": []
    },
    {
      "cell_type": "markdown",
      "source": [
        "# 7) We Can Change Python’s Recursion Limit"
      ],
      "metadata": {
        "id": "LQVjuTKtDMyQ"
      }
    },
    {
      "cell_type": "code",
      "source": [
        "import sys\n",
        "sys.setrecursionlimit(2000)"
      ],
      "metadata": {
        "id": "JFIDmg3UDLr8"
      },
      "execution_count": 12,
      "outputs": []
    }
  ]
}