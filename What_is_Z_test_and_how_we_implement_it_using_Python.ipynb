{
  "nbformat": 4,
  "nbformat_minor": 0,
  "metadata": {
    "colab": {
      "provenance": [],
      "authorship_tag": "ABX9TyOFrA8LG3u9vO+Lhq477z32"
    },
    "kernelspec": {
      "name": "python3",
      "display_name": "Python 3"
    },
    "language_info": {
      "name": "python"
    }
  },
  "cells": [
    {
      "cell_type": "markdown",
      "source": [
        "[Reference](https://medium.com/@ritusantra/what-is-z-test-and-how-we-implement-it-using-python-d0f92820b4c)"
      ],
      "metadata": {
        "id": "wiKcib8h3BaG"
      }
    },
    {
      "cell_type": "code",
      "execution_count": 3,
      "metadata": {
        "colab": {
          "base_uri": "https://localhost:8080/"
        },
        "id": "p8p7O_Vz2_v7",
        "outputId": "e459f306-d2ee-4cb2-d881-cfddce2a93ed"
      },
      "outputs": [
        {
          "output_type": "stream",
          "name": "stdout",
          "text": [
            "Null hypothesis is rejected. \n",
            "Alternate hypothesis is accepted!\n",
            "Z-test Score: 1.831744911595958 \n",
            "P-value: 0.03349471703839336\n",
            "Null hypothesis is rejected. \n",
            "Alternate hypothesis is accepted!\n"
          ]
        },
        {
          "output_type": "execute_result",
          "data": {
            "text/plain": [
              "(1.8335757415498277, 0.06671699590108493)"
            ]
          },
          "metadata": {},
          "execution_count": 3
        }
      ],
      "source": [
        "import math \n",
        "import numpy as np\n",
        "from statsmodels.stats.weightstats import ztest\n",
        "from scipy.stats import norm\n",
        "\n",
        "sample_marks = [650,730,510,670,480,800,690,530,590,620,710,670,640,780,650,490,800,600,510,700]\n",
        "\n",
        "# Method 1 : Using Z-score\n",
        "\n",
        "sample_mean = np.mean(sample_marks)\n",
        "sample_size = np.count_nonzero(sample_marks)\n",
        "population_mean = 600\n",
        "population_std = 100\n",
        "alpha = 0.05\n",
        "z_score = (sample_mean-population_mean)/(population_std/math.sqrt(sample_size))\n",
        "critical_value = 1.645 # from z table\n",
        "if(z_score<critical_value):\n",
        "    print('Null hypothesis is accepted!')\n",
        "else:\n",
        "    print('Null hypothesis is rejected. \\nAlternate hypothesis is accepted!')\n",
        "    \n",
        "    \n",
        "# Method 2: Using built in function of ztest\n",
        "\n",
        "ztest_score, pval = ztest(sample_marks,value=population_mean,alternative='larger')\n",
        "print('Z-test Score:',ztest_score,'\\nP-value:',pval)\n",
        "if(pval>alpha):\n",
        "     print('Null hypothesis is accepted!')\n",
        "else:\n",
        "    print('Null hypothesis is rejected. \\nAlternate hypothesis is accepted!')   \n",
        " \n",
        " \n",
        "# Method 3: Creating a function \n",
        "\n",
        "def ztest(x,mu,sigma,n):\n",
        "    deno = sigma/math.sqrt(n)\n",
        "    z = (x-mu)/deno\n",
        "    p = 2*(1-norm.cdf(abs(z)))\n",
        "    return z,p\n",
        "  \n",
        "s_mean = np.mean(sample_marks)\n",
        "p_mean = 600\n",
        "p_std = 100\n",
        "s_size = np.count_nonzero(sample_marks)\n",
        "\n",
        "ztest(s_mean,p_mean,p_std,s_size)\n",
        "\n",
        "ztest(641,600,100,20)"
      ]
    },
    {
      "cell_type": "code",
      "source": [
        "import math \n",
        "import numpy as np\n",
        "from statsmodels.stats.weightstats import ztest\n",
        "\n",
        "sample_marks1 = [650,730,510,670,480,800,690,530,590,620,710,670,640,780,650,490,800,600,510,700]\n",
        "sample_marks2 = [630,720,462,631,440,783,673,519,543,579,677,649,632,768,615,463,781,563,488,650]\n",
        "\n",
        "sample_mean1 = np.mean(sample_marks1)\n",
        "sample_mean2 = np.mean(sample_marks2)\n",
        "sample_size1 = np.count_nonzero(sample_marks1)\n",
        "sample_size2 = np.count_nonzero(sample_marks2)\n",
        "population_mean_diff = 10\n",
        "population_std1 = 100\n",
        "population_std2 = 90\n",
        "alpha = 0.05\n",
        "\n",
        "# Method 1: Using built in function of ztest\n",
        "\n",
        "z,p = ztest(x1=sample_marks1,x2=sample_marks2,value=population_mean_diff,alternative='larger')\n",
        "print('Z-score:',z,'\\nP-value:',p)\n",
        "\n",
        "if(p>alpha):\n",
        "    print('Null hypothesis is accepted!')\n",
        "else:\n",
        "    print('Null hypothesis is rejected. \\nAlternate hypothesis is accepted!')    \n",
        "    \n",
        "# Method 2: Calculating Z-score  \n",
        "\n",
        "zscore = ((sample_mean1-sample_mean2)-(population_mean_diff))/(math.sqrt((population_std1**2/sample_size1)+(population_std2**2/sample_size2)))\n",
        "critical_value = 1.645 # from z table\n",
        "\n",
        "if(zscore<critical_value):\n",
        "    print('Null hypothesis is accepted!')\n",
        "else:\n",
        "    print('Null hypothesis is rejected. \\nAlternate hypothesis is accepted!')"
      ],
      "metadata": {
        "colab": {
          "base_uri": "https://localhost:8080/"
        },
        "id": "GRcnmTee4AU1",
        "outputId": "aa4f42d6-0627-42de-9df6-e9bf192144e4"
      },
      "execution_count": 4,
      "outputs": [
        {
          "output_type": "stream",
          "name": "stdout",
          "text": [
            "Z-score: 0.5438117264622684 \n",
            "P-value: 0.293285519251652\n",
            "Null hypothesis is accepted!\n",
            "Null hypothesis is accepted!\n"
          ]
        }
      ]
    }
  ]
}