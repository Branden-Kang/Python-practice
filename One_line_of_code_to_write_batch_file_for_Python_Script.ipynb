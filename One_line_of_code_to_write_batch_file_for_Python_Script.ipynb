{
  "nbformat": 4,
  "nbformat_minor": 0,
  "metadata": {
    "colab": {
      "name": "One line of code to write batch file for Python Script.ipynb",
      "provenance": [],
      "authorship_tag": "ABX9TyPGIxOMHQ+LiOLjrUiTCTk4"
    },
    "kernelspec": {
      "name": "python3",
      "display_name": "Python 3"
    },
    "language_info": {
      "name": "python"
    }
  },
  "cells": [
    {
      "cell_type": "markdown",
      "source": [
        "[Reference](https://medium.com/@sscswapnil/one-line-of-code-to-write-batch-file-for-python-script-modern-way-971be4b8e73)"
      ],
      "metadata": {
        "id": "GRBRGf_F7iXj"
      }
    },
    {
      "cell_type": "code",
      "execution_count": 1,
      "metadata": {
        "colab": {
          "base_uri": "https://localhost:8080/"
        },
        "id": "yPUh53nE7L7o",
        "outputId": "8a7ea42a-ec2f-4259-cfd1-acc5d1cc6512"
      },
      "outputs": [
        {
          "output_type": "stream",
          "name": "stdout",
          "text": [
            "Thank you Swapnil, We learn to create batch file to schedule python script...\n"
          ]
        }
      ],
      "source": [
        "def python_batch():\n",
        "    \"\"\"_summary_: Test function to test the batch files.\n",
        "    \"\"\"\n",
        "    print(\"Thank you Swapnil, We learn to create batch file to schedule python script...\")\n",
        "   \n",
        "if __name__ == \"__main__\":\n",
        "    test = python_batch()"
      ]
    }
  ]
}