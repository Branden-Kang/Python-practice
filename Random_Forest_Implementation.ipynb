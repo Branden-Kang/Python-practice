{
  "nbformat": 4,
  "nbformat_minor": 0,
  "metadata": {
    "colab": {
      "provenance": [],
      "authorship_tag": "ABX9TyPTFunOMoWvmsVGue5ejN2W"
    },
    "kernelspec": {
      "name": "python3",
      "display_name": "Python 3"
    },
    "language_info": {
      "name": "python"
    }
  },
  "cells": [
    {
      "cell_type": "markdown",
      "source": [
        "[Reference](https://python.plainenglish.io/random-forest-implementation-980b2d2c3c84)"
      ],
      "metadata": {
        "id": "1aTIXUB1ID2z"
      }
    },
    {
      "cell_type": "code",
      "execution_count": 1,
      "metadata": {
        "id": "khHahHD3IBp8"
      },
      "outputs": [],
      "source": [
        "from sklearn.model_selection import GridSearchCV\n",
        "from sklearn.ensemble import RandomForestClassifier\n",
        "\n",
        "params = {\"n_estimators\":[1000,2000],\n",
        "          \"criterion\": [\"gini\",\"entropy\"],\n",
        "          \"max_depth\": [10, 50, 100, None],\n",
        "          \"min_samples_split\": [2,5,10,20],\n",
        "          \"min_samples_leaf\": [2,10,20],\n",
        "          \"min_weight_fraction_leaf\":[0.0, 0.1],\n",
        "          \"max_features\":[\"auto\",\"sqrt\",\"log2\"],\n",
        "          \"max_samples\":[None,0.4]\n",
        "         }\n",
        "#base classifier model\n",
        "model = RandomForestClassifier(random_state=0,n_jobs=-1)\n",
        "#gridsearch model\n",
        "gridmodel = GridSearchCV(model, param_grid = params, cv = 5, n_jobs=-1)\n",
        "gridmodel.fit(X_train,y_train)\n",
        "#extract the parameters of best scoring model\n",
        "best_params = gridmodel.best_params_\n",
        "#create a new model with new parameters\n",
        "best_model = RandomForestClassifier(**best_params)\n",
        "best_model.fit(X_train, y_train)\n",
        "y_pred = best_model.predict(X_test)\n",
        "cm = confusion_matrix(y_test, y_pred)"
      ]
    }
  ]
}