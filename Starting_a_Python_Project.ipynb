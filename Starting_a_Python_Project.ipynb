{
  "nbformat": 4,
  "nbformat_minor": 0,
  "metadata": {
    "colab": {
      "provenance": [],
      "authorship_tag": "ABX9TyMVrHeVZrAkmJchvRoSGIQH"
    },
    "kernelspec": {
      "name": "python3",
      "display_name": "Python 3"
    },
    "language_info": {
      "name": "python"
    }
  },
  "cells": [
    {
      "cell_type": "markdown",
      "source": [
        "[Reference](https://medium.com/@lorenzouriel/starting-a-python-project-a-step-by-step-guide-0ce3b220b9bf)"
      ],
      "metadata": {
        "id": "1MjdjFL4xniM"
      }
    },
    {
      "cell_type": "markdown",
      "source": [
        "# 1. Git & GitHub Repository\n",
        "```\n",
        "echo \"# python-requests-site\" >> README.md\n",
        "git init\n",
        "git add README.md\n",
        "git commit -m \"first commit\"\n",
        "git branch -M main\n",
        "git remote add origin https://github.com/test/python-requests-site.git\n",
        "git push -u origin main\n",
        "```"
      ],
      "metadata": {
        "id": "49ifD4ydxqiX"
      }
    },
    {
      "cell_type": "markdown",
      "source": [
        "# 2. Virtual Environment\n",
        "```\n",
        "python -m venv venv\n",
        "\n",
        "# Windows\n",
        ".\\venv\\Scripts\\activate\n",
        "\n",
        "# macOS/Linux\n",
        "source .venv/bin/activate\n",
        "```"
      ],
      "metadata": {
        "id": "_mWwVsuax1-A"
      }
    },
    {
      "cell_type": "markdown",
      "source": [
        "# 3. Use Pyenv\n",
        "```\n",
        "pyenv install 3.12.0\n",
        "\n",
        "pyenv local 3.12.0\n",
        "```"
      ],
      "metadata": {
        "id": "73e0k0e3x65S"
      }
    },
    {
      "cell_type": "markdown",
      "source": [
        "# 4. Use Poetry\n",
        "```\n",
        "poetry init\n",
        "\n",
        "poetry install\n",
        "\n",
        "poetry shell  # Create and log into a shell within the virtual environment\n",
        "poetry env use 3.12.0  # Sets the version of Python to be used by virtual project environment\n",
        "```"
      ],
      "metadata": {
        "id": "8imuMb9NyA29"
      }
    },
    {
      "cell_type": "markdown",
      "source": [
        "```\n",
        "[tool.poetry]\n",
        "name = \"python-requests-site\"\n",
        "version = \"0.1.0\"\n",
        "description = \"\"\n",
        "authors = [\"Lorenzo Uriel <your-email@gmail.com>\"]\n",
        "readme = \"README.md\"\n",
        "\n",
        "[tool.poetry.dependencies]\n",
        "python = \"^3.12\"\n",
        "requests = \"^2.32.3\"\n",
        "\n",
        "\n",
        "[build-system]\n",
        "requires = [\"poetry-core\"]\n",
        "build-backend = \"poetry.core.masonry.api\"\n",
        "```"
      ],
      "metadata": {
        "id": "Ep_oFQL4yJdK"
      }
    },
    {
      "cell_type": "markdown",
      "source": [
        "# 5. Create a .gitignore and a .env\n",
        "\n",
        "```\n",
        "# Windows\n",
        "New-Item .gitignore\n",
        "New-Item .env\n",
        "\n",
        "\n",
        "# macOS/Linux\n",
        "touch .gitignore\n",
        "touch .env\n",
        "```\n"
      ],
      "metadata": {
        "id": "Lrazt3WWyMU8"
      }
    }
  ]
}