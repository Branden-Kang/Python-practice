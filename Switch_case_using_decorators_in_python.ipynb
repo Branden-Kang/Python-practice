{
  "nbformat": 4,
  "nbformat_minor": 0,
  "metadata": {
    "colab": {
      "name": "Switch case using decorators in python.ipynb",
      "provenance": [],
      "authorship_tag": "ABX9TyMNcTUAQkYcm9+CLTrX9Pff"
    },
    "kernelspec": {
      "name": "python3",
      "display_name": "Python 3"
    },
    "language_info": {
      "name": "python"
    }
  },
  "cells": [
    {
      "cell_type": "markdown",
      "metadata": {
        "id": "lOYJAERbeDFx"
      },
      "source": [
        "[Reference](https://jyotiplabantalukdar.medium.com/switch-case-using-decorators-in-python-and-comparision-with-other-approaches-228c0ab47b14)"
      ]
    },
    {
      "cell_type": "markdown",
      "metadata": {
        "id": "50gbFglIeGZ8"
      },
      "source": [
        "# 1. If Else statement"
      ]
    },
    {
      "cell_type": "code",
      "metadata": {
        "colab": {
          "base_uri": "https://localhost:8080/"
        },
        "id": "CcN2T7vZeB4i",
        "outputId": "5ac5805d-d373-48da-e964-e9073724e230"
      },
      "source": [
        "def processFirstPrize():\n",
        "  print('processFirstPrize')\n",
        "\n",
        "def processSecondPrize():\n",
        "  print('processSecondPrize')\n",
        "  \n",
        "def processThirdPrize():\n",
        "  print('processThirdPrize')\n",
        "\t\n",
        "def processFourthPrize():\n",
        "  print('processFourthPrize')\n",
        "\t\n",
        "def processFifthPrize():\n",
        "  print('processFifthPrize')\n",
        " \n",
        "def processDefaultChoice():\n",
        "  print('processDefaultChoice')\n",
        "\n",
        "choice = 1\n",
        "\n",
        "if choice == 1:\n",
        "  processFirstPrize()\n",
        "elif choice == 2:\n",
        "  processSecondPrize()\n",
        "elif choice == 3:\n",
        "  processThirdPrize()\n",
        "elif choice == 4:\n",
        "  processFourthPrize()\n",
        "elif choice == 5:\n",
        "  processFifthPrize()\n",
        "else:\n",
        "  processDefaultChoice()"
      ],
      "execution_count": 2,
      "outputs": [
        {
          "output_type": "stream",
          "text": [
            "processFirstPrize\n"
          ],
          "name": "stdout"
        }
      ]
    },
    {
      "cell_type": "markdown",
      "metadata": {
        "id": "ln4NwT-jeKkI"
      },
      "source": [
        "# 2. Using dictionary mapping"
      ]
    },
    {
      "cell_type": "code",
      "metadata": {
        "colab": {
          "base_uri": "https://localhost:8080/"
        },
        "id": "fOxljyDyeJke",
        "outputId": "4bf82550-034e-49d8-9041-5d90d5908b75"
      },
      "source": [
        "def processFirstPrize():\n",
        "  print('processFirstPrize')\n",
        "\n",
        "def processSecondPrize():\n",
        "  print('processSecondPrize')\n",
        "  \n",
        "def processThirdPrize():\n",
        "  print('processThirdPrize')\n",
        "\t\n",
        "def processFourthPrize():\n",
        "  print('processFourthPrize')\n",
        "\t\n",
        "def processFifthPrize():\n",
        "  print('processFifthPrize')\n",
        " \n",
        "def processDefaultChoice():\n",
        "  print('processDefaultChoice')\n",
        "\n",
        "choices = {\n",
        "    1 : processFirstPrize,\n",
        "    2 : processSecondPrize,\n",
        "    3 : processThirdPrize,\n",
        "    4 : processFourthPrize,\n",
        "    5 : processFifthPrize\n",
        "}\n",
        "\n",
        "print(choices[3])\n",
        "print(choices[3]())"
      ],
      "execution_count": 3,
      "outputs": [
        {
          "output_type": "stream",
          "text": [
            "<function processThirdPrize at 0x7f6d17d70710>\n",
            "processThirdPrize\n",
            "None\n"
          ],
          "name": "stdout"
        }
      ]
    },
    {
      "cell_type": "markdown",
      "metadata": {
        "id": "s9ut4NxzeVWA"
      },
      "source": [
        "# 3. Using decorators"
      ]
    },
    {
      "cell_type": "code",
      "metadata": {
        "colab": {
          "base_uri": "https://localhost:8080/"
        },
        "id": "E0I7N6N6eTff",
        "outputId": "cf0ada3a-c560-4561-afbc-6e26386a8e6c"
      },
      "source": [
        "class Switch():\n",
        "    def __init__(self):\n",
        "        self.mapping_dict= {}\n",
        "        self.defaultCase = None\n",
        "\n",
        "    def default(self):\n",
        "        def wrapper(func):\n",
        "            if self.defaultCase == None:\n",
        "                self.defaultCase = func\n",
        "                return func\n",
        "            else:\n",
        "                raise Exception('Duplicate default')\n",
        "        return wrapper\n",
        "\n",
        "    def case(self,name):\n",
        "        def wrapper(func):\n",
        "            if name not in self.mapping_dict:\n",
        "                self.mapping_dict[name] = func\n",
        "            else:\n",
        "                raise Exception('Duplicate case detected')\n",
        "            return func\n",
        "        return wrapper\n",
        "    \n",
        "    def match(self,name):\n",
        "        method = self.mapping_dict.get(name,None)\n",
        "        if method != None:\n",
        "            return method()\n",
        "        else:\n",
        "            if self.defaultCase == None:\n",
        "                raise Exception('Unknown Case received')\n",
        "            else:\n",
        "                return self.defaultCase()\n",
        "    \n",
        "\n",
        "switch = Switch()\n",
        "\n",
        "@switch.case(1)\n",
        "def processFirstPrize():\n",
        "  print('processFirstPrize')\n",
        "\n",
        "@switch.case(2)\n",
        "def processSecondPrize():\n",
        "  print('processSecondPrize')\n",
        "\n",
        "@switch.case(3)\n",
        "def processThirdPrize():\n",
        "  print('processThirdPrize')\n",
        "\n",
        "@switch.case(4)\t\n",
        "def processFourthPrize():\n",
        "  print('processFourthPrize')\n",
        "\n",
        "@switch.case(5)\n",
        "def processFifthPrize():\n",
        "  print('processFifthPrize')\n",
        "\n",
        "@switch.default()\n",
        "def processDefaultChoice():\n",
        "  print('processDefaultChoice')\n",
        "\n",
        "switch.match(1)"
      ],
      "execution_count": 4,
      "outputs": [
        {
          "output_type": "stream",
          "text": [
            "processFirstPrize\n"
          ],
          "name": "stdout"
        }
      ]
    }
  ]
}