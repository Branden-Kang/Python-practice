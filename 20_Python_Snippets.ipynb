{
  "nbformat": 4,
  "nbformat_minor": 0,
  "metadata": {
    "colab": {
      "name": "20 Python Snippets.ipynb",
      "provenance": [],
      "authorship_tag": "ABX9TyNp+2a6hpEORmbsOKqa3ith"
    },
    "kernelspec": {
      "name": "python3",
      "display_name": "Python 3"
    }
  },
  "cells": [
    {
      "cell_type": "markdown",
      "metadata": {
        "id": "1scyxdh3r71k",
        "colab_type": "text"
      },
      "source": [
        "[Reference](https://medium.com/better-programming/20-python-snippets-you-should-learn-today-8328e26ff124)"
      ]
    },
    {
      "cell_type": "markdown",
      "metadata": {
        "id": "LAicnsHVsKot",
        "colab_type": "text"
      },
      "source": [
        "# 1. Reversing a String"
      ]
    },
    {
      "cell_type": "code",
      "metadata": {
        "id": "P0_VnaNzoNmq",
        "colab_type": "code",
        "colab": {
          "base_uri": "https://localhost:8080/",
          "height": 34
        },
        "outputId": "1966522b-d5a3-49e9-9d6a-f18311bb55df"
      },
      "source": [
        "# Reversing a string using slicing\n",
        "\n",
        "my_string = \"ABCDE\"\n",
        "reversed_string = my_string[::-1]\n",
        "\n",
        "print(reversed_string)"
      ],
      "execution_count": 1,
      "outputs": [
        {
          "output_type": "stream",
          "text": [
            "EDCBA\n"
          ],
          "name": "stdout"
        }
      ]
    },
    {
      "cell_type": "markdown",
      "metadata": {
        "id": "MqZ636nzsNs9",
        "colab_type": "text"
      },
      "source": [
        "# 2. Using rhe Title Case (First Letter Caps)"
      ]
    },
    {
      "cell_type": "code",
      "metadata": {
        "id": "7sPW4vQ6sMq4",
        "colab_type": "code",
        "colab": {
          "base_uri": "https://localhost:8080/",
          "height": 34
        },
        "outputId": "3dc0e93d-924c-4967-81dd-933437e52e25"
      },
      "source": [
        "my_string = \"my name is chaitanya baweja\"\n",
        "\n",
        "# using the title() function of string class\n",
        "new_string = my_string.title()\n",
        "\n",
        "print(new_string)"
      ],
      "execution_count": 2,
      "outputs": [
        {
          "output_type": "stream",
          "text": [
            "My Name Is Chaitanya Baweja\n"
          ],
          "name": "stdout"
        }
      ]
    },
    {
      "cell_type": "markdown",
      "metadata": {
        "id": "blf59UfQsQzn",
        "colab_type": "text"
      },
      "source": [
        "# 3. Finding Unique Elements in a String"
      ]
    },
    {
      "cell_type": "code",
      "metadata": {
        "id": "9uyB9tiQsPz2",
        "colab_type": "code",
        "colab": {
          "base_uri": "https://localhost:8080/",
          "height": 34
        },
        "outputId": "0d6e5cfe-2270-4bad-e789-39f15f0041db"
      },
      "source": [
        "my_string = \"aavvccccddddeee\"\n",
        "\n",
        "# converting the string to a set\n",
        "temp_set = set(my_string)\n",
        "\n",
        "# stitching set into a string using join\n",
        "new_string = ''.join(temp_set)\n",
        "\n",
        "print(new_string)"
      ],
      "execution_count": 3,
      "outputs": [
        {
          "output_type": "stream",
          "text": [
            "avcde\n"
          ],
          "name": "stdout"
        }
      ]
    },
    {
      "cell_type": "markdown",
      "metadata": {
        "id": "ORDllRXNtB6_",
        "colab_type": "text"
      },
      "source": [
        "# 4. Printing a String or a List n Times"
      ]
    },
    {
      "cell_type": "code",
      "metadata": {
        "id": "J53rCxActgmq",
        "colab_type": "code",
        "colab": {
          "base_uri": "https://localhost:8080/",
          "height": 51
        },
        "outputId": "775056a9-7ead-424f-ea46-8c37bef87c8a"
      },
      "source": [
        "n = 3 # number of repetitions\n",
        "\n",
        "my_string = \"abcd\"\n",
        "my_list = [1,2,3]\n",
        "\n",
        "print(my_string*n)\n",
        "\n",
        "print(my_list*n)"
      ],
      "execution_count": 5,
      "outputs": [
        {
          "output_type": "stream",
          "text": [
            "abcdabcdabcd\n",
            "[1, 2, 3, 1, 2, 3, 1, 2, 3]\n"
          ],
          "name": "stdout"
        }
      ]
    },
    {
      "cell_type": "code",
      "metadata": {
        "id": "sKFdMsIZtiUa",
        "colab_type": "code",
        "colab": {
          "base_uri": "https://localhost:8080/",
          "height": 34
        },
        "outputId": "368e5dee-0953-4715-9afe-06f9a9a58029"
      },
      "source": [
        "n = 4\n",
        "my_list = [0]*n # n denotes the length of the required list\n",
        "print(my_list)"
      ],
      "execution_count": 6,
      "outputs": [
        {
          "output_type": "stream",
          "text": [
            "[0, 0, 0, 0]\n"
          ],
          "name": "stdout"
        }
      ]
    },
    {
      "cell_type": "markdown",
      "metadata": {
        "id": "pAEmvCmLtt3N",
        "colab_type": "text"
      },
      "source": [
        "# 5. List Comprehension"
      ]
    },
    {
      "cell_type": "code",
      "metadata": {
        "id": "Y_UbgnSjtsy9",
        "colab_type": "code",
        "colab": {
          "base_uri": "https://localhost:8080/",
          "height": 34
        },
        "outputId": "32ebf7ef-cfcb-40da-f13d-ec1ef0c00f95"
      },
      "source": [
        "# Multiplying each element in a list by 2\n",
        "\n",
        "original_list = [1,2,3,4]\n",
        "\n",
        "new_list = [2*x for x in original_list]\n",
        "\n",
        "print(new_list)"
      ],
      "execution_count": 7,
      "outputs": [
        {
          "output_type": "stream",
          "text": [
            "[2, 4, 6, 8]\n"
          ],
          "name": "stdout"
        }
      ]
    },
    {
      "cell_type": "markdown",
      "metadata": {
        "id": "1cQhFMqCtyOn",
        "colab_type": "text"
      },
      "source": [
        "# 6. Swap Values Between Two Variables"
      ]
    },
    {
      "cell_type": "code",
      "metadata": {
        "id": "9gRbJG6dtwgD",
        "colab_type": "code",
        "colab": {
          "base_uri": "https://localhost:8080/",
          "height": 51
        },
        "outputId": "14f7985c-dd2b-473d-baa4-adb43aa6d2d7"
      },
      "source": [
        "a = 1\n",
        "b = 2\n",
        "\n",
        "a, b = b, a\n",
        "\n",
        "print(a) # 2\n",
        "print(b) # 1"
      ],
      "execution_count": 8,
      "outputs": [
        {
          "output_type": "stream",
          "text": [
            "2\n",
            "1\n"
          ],
          "name": "stdout"
        }
      ]
    },
    {
      "cell_type": "markdown",
      "metadata": {
        "id": "D4Gq3OUHt06G",
        "colab_type": "text"
      },
      "source": [
        "# 7. Split a String Into a List of Substrings"
      ]
    },
    {
      "cell_type": "code",
      "metadata": {
        "id": "_QfDjksEtzyD",
        "colab_type": "code",
        "colab": {
          "base_uri": "https://localhost:8080/",
          "height": 51
        },
        "outputId": "8ad241cb-e513-4e0d-d1ff-cf2a275ca345"
      },
      "source": [
        "string_1 = \"My name is Chaitanya Baweja\"\n",
        "string_2 = \"sample/ string 2\"\n",
        "\n",
        "# default separator ' '\n",
        "print(string_1.split())\n",
        "\n",
        "# defining separator as '/'\n",
        "print(string_2.split('/'))"
      ],
      "execution_count": 9,
      "outputs": [
        {
          "output_type": "stream",
          "text": [
            "['My', 'name', 'is', 'Chaitanya', 'Baweja']\n",
            "['sample', ' string 2']\n"
          ],
          "name": "stdout"
        }
      ]
    },
    {
      "cell_type": "markdown",
      "metadata": {
        "id": "U1r4oo-Lt6Jg",
        "colab_type": "text"
      },
      "source": [
        "# 8. Combining a List of Strings Into a Single String"
      ]
    },
    {
      "cell_type": "code",
      "metadata": {
        "id": "GYx0osB1t4c3",
        "colab_type": "code",
        "colab": {
          "base_uri": "https://localhost:8080/",
          "height": 34
        },
        "outputId": "62f83f7a-dc95-476e-ea39-47ff3e2191c0"
      },
      "source": [
        "list_of_strings = ['My', 'name', 'is', 'Chaitanya', 'Baweja']\n",
        "\n",
        "# Using join with the comma separator\n",
        "print(','.join(list_of_strings))"
      ],
      "execution_count": 10,
      "outputs": [
        {
          "output_type": "stream",
          "text": [
            "My,name,is,Chaitanya,Baweja\n"
          ],
          "name": "stdout"
        }
      ]
    },
    {
      "cell_type": "markdown",
      "metadata": {
        "id": "Tq-Y_G3Pt_Z2",
        "colab_type": "text"
      },
      "source": [
        "# 9. Check If a Given String Is a Palindrome or Not"
      ]
    },
    {
      "cell_type": "code",
      "metadata": {
        "id": "1DSn2EEJt9pc",
        "colab_type": "code",
        "colab": {
          "base_uri": "https://localhost:8080/",
          "height": 34
        },
        "outputId": "ac9e94f9-9a17-42df-b503-825149557c8d"
      },
      "source": [
        "my_string = \"abcba\"\n",
        "\n",
        "if my_string == my_string[::-1]:\n",
        "    print(\"palindrome\")\n",
        "else:\n",
        "    print(\"not palindrome\")"
      ],
      "execution_count": 11,
      "outputs": [
        {
          "output_type": "stream",
          "text": [
            "palindrome\n"
          ],
          "name": "stdout"
        }
      ]
    },
    {
      "cell_type": "markdown",
      "metadata": {
        "id": "RIQBVVQRuCRt",
        "colab_type": "text"
      },
      "source": [
        "# 10. Frequency of Elements in a List"
      ]
    },
    {
      "cell_type": "code",
      "metadata": {
        "id": "VAcb2aOuuA7A",
        "colab_type": "code",
        "colab": {
          "base_uri": "https://localhost:8080/",
          "height": 68
        },
        "outputId": "bfab307f-2e62-4219-ca6d-d8754940e331"
      },
      "source": [
        "# finding frequency of each element in a list\n",
        "from collections import Counter\n",
        "\n",
        "my_list = ['a','a','b','b','b','c','d','d','d','d','d']\n",
        "count = Counter(my_list) # defining a counter object\n",
        "\n",
        "print(count) # Of all elements\n",
        "\n",
        "print(count['b']) # of individual element\n",
        "\n",
        "print(count.most_common(1)) # most frequent element"
      ],
      "execution_count": 12,
      "outputs": [
        {
          "output_type": "stream",
          "text": [
            "Counter({'d': 5, 'b': 3, 'a': 2, 'c': 1})\n",
            "3\n",
            "[('d', 5)]\n"
          ],
          "name": "stdout"
        }
      ]
    },
    {
      "cell_type": "markdown",
      "metadata": {
        "id": "WqJqyCTbuNfW",
        "colab_type": "text"
      },
      "source": [
        "# 11. Find Whether Two Strings are Anagrams"
      ]
    },
    {
      "cell_type": "code",
      "metadata": {
        "id": "GcH90oaouMUf",
        "colab_type": "code",
        "colab": {
          "base_uri": "https://localhost:8080/",
          "height": 34
        },
        "outputId": "7f6d16de-4956-4cbb-b26c-edea9d064a53"
      },
      "source": [
        "from collections import Counter\n",
        "\n",
        "str_1, str_2, str_3 = \"acbde\", \"abced\", \"abcda\"\n",
        "cnt_1, cnt_2, cnt_3  = Counter(str_1), Counter(str_2), Counter(str_3)\n",
        "\n",
        "if cnt_1 == cnt_2:\n",
        "  print('1 and 2 anagram')\n",
        "if cnt_1 == cnt_3:\n",
        "  print('1 and 3 anagram')"
      ],
      "execution_count": 13,
      "outputs": [
        {
          "output_type": "stream",
          "text": [
            "1 and 2 anagram\n"
          ],
          "name": "stdout"
        }
      ]
    },
    {
      "cell_type": "code",
      "metadata": {
        "id": "ghwltuIkuRXB",
        "colab_type": "code",
        "colab": {
          "base_uri": "https://localhost:8080/",
          "height": 34
        },
        "outputId": "52f17e12-34b9-4ba6-ee1d-a55d3f2b7a3b"
      },
      "source": [
        "cnt_1"
      ],
      "execution_count": 14,
      "outputs": [
        {
          "output_type": "execute_result",
          "data": {
            "text/plain": [
              "Counter({'a': 1, 'b': 1, 'c': 1, 'd': 1, 'e': 1})"
            ]
          },
          "metadata": {
            "tags": []
          },
          "execution_count": 14
        }
      ]
    },
    {
      "cell_type": "code",
      "metadata": {
        "id": "XojkHWTXuc4D",
        "colab_type": "code",
        "colab": {
          "base_uri": "https://localhost:8080/",
          "height": 34
        },
        "outputId": "f1f9a811-022c-4b5c-d0a4-51dea081b6b9"
      },
      "source": [
        "cnt_2"
      ],
      "execution_count": 15,
      "outputs": [
        {
          "output_type": "execute_result",
          "data": {
            "text/plain": [
              "Counter({'a': 1, 'b': 1, 'c': 1, 'd': 1, 'e': 1})"
            ]
          },
          "metadata": {
            "tags": []
          },
          "execution_count": 15
        }
      ]
    },
    {
      "cell_type": "code",
      "metadata": {
        "id": "djsUm-_0udMB",
        "colab_type": "code",
        "colab": {
          "base_uri": "https://localhost:8080/",
          "height": 34
        },
        "outputId": "e4c36777-b875-45f6-9f4e-ae2fba25590b"
      },
      "source": [
        "cnt_3"
      ],
      "execution_count": 16,
      "outputs": [
        {
          "output_type": "execute_result",
          "data": {
            "text/plain": [
              "Counter({'a': 2, 'b': 1, 'c': 1, 'd': 1})"
            ]
          },
          "metadata": {
            "tags": []
          },
          "execution_count": 16
        }
      ]
    },
    {
      "cell_type": "markdown",
      "metadata": {
        "id": "7iQhGXI9ugIX",
        "colab_type": "text"
      },
      "source": [
        "# 12. Using the try-except-else Block"
      ]
    },
    {
      "cell_type": "code",
      "metadata": {
        "id": "KGjaw14Due9T",
        "colab_type": "code",
        "colab": {
          "base_uri": "https://localhost:8080/",
          "height": 51
        },
        "outputId": "41cdf589-fc40-4800-8892-ad02d1a4de30"
      },
      "source": [
        "a, b = 1,0\n",
        "\n",
        "try:\n",
        "    print(a/b)\n",
        "    # exception raised when b is 0\n",
        "except ZeroDivisionError:\n",
        "    print(\"division by zero\")\n",
        "else:\n",
        "    print(\"no exceptions raised\")\n",
        "finally:\n",
        "    print(\"Run this always\")"
      ],
      "execution_count": 17,
      "outputs": [
        {
          "output_type": "stream",
          "text": [
            "division by zero\n",
            "Run this always\n"
          ],
          "name": "stdout"
        }
      ]
    },
    {
      "cell_type": "markdown",
      "metadata": {
        "id": "otgMPO8ZukxN",
        "colab_type": "text"
      },
      "source": [
        "# 13. Using Enumerate to Get Index/Value Pairs"
      ]
    },
    {
      "cell_type": "code",
      "metadata": {
        "id": "sY3Icw4yuiyF",
        "colab_type": "code",
        "colab": {
          "base_uri": "https://localhost:8080/",
          "height": 102
        },
        "outputId": "6f200443-d95a-4ccc-83d9-ac3f7fdcb48a"
      },
      "source": [
        "my_list = ['a', 'b', 'c', 'd', 'e']\n",
        "\n",
        "for index, value in enumerate(my_list):\n",
        "  print('{0}: {1}'.format(index, value))"
      ],
      "execution_count": 18,
      "outputs": [
        {
          "output_type": "stream",
          "text": [
            "0: a\n",
            "1: b\n",
            "2: c\n",
            "3: d\n",
            "4: e\n"
          ],
          "name": "stdout"
        }
      ]
    },
    {
      "cell_type": "markdown",
      "metadata": {
        "id": "3EOUEGV0upgW",
        "colab_type": "text"
      },
      "source": [
        "# 14. Check the Memory Usage of an Object"
      ]
    },
    {
      "cell_type": "code",
      "metadata": {
        "id": "ZpriCnlWurEh",
        "colab_type": "code",
        "colab": {
          "base_uri": "https://localhost:8080/",
          "height": 34
        },
        "outputId": "053c799c-0dff-4090-9c9a-92af34f68930"
      },
      "source": [
        "import sys\n",
        "\n",
        "num = 21\n",
        "\n",
        "print(sys.getsizeof(num))"
      ],
      "execution_count": 19,
      "outputs": [
        {
          "output_type": "stream",
          "text": [
            "28\n"
          ],
          "name": "stdout"
        }
      ]
    },
    {
      "cell_type": "markdown",
      "metadata": {
        "id": "6_H6D6Klusqx",
        "colab_type": "text"
      },
      "source": [
        "# 15. Merging Two Dictionaries"
      ]
    },
    {
      "cell_type": "code",
      "metadata": {
        "id": "f7xlbRCfumqO",
        "colab_type": "code",
        "colab": {
          "base_uri": "https://localhost:8080/",
          "height": 34
        },
        "outputId": "6722fdac-bec8-4764-e2ad-faf906e9fb83"
      },
      "source": [
        "dict_1 = {'apple': 9, 'banana': 6}\n",
        "dict_2 = {'banana': 4, 'orange': 8}\n",
        "\n",
        "combined_dict = {**dict_1, **dict_2}\n",
        "\n",
        "print(combined_dict)"
      ],
      "execution_count": 20,
      "outputs": [
        {
          "output_type": "stream",
          "text": [
            "{'apple': 9, 'banana': 4, 'orange': 8}\n"
          ],
          "name": "stdout"
        }
      ]
    },
    {
      "cell_type": "markdown",
      "metadata": {
        "id": "zLLB1bIpu17r",
        "colab_type": "text"
      },
      "source": [
        "# 16. Time Taken to Execute a Piece of Code"
      ]
    },
    {
      "cell_type": "code",
      "metadata": {
        "id": "92YB3aJMuxir",
        "colab_type": "code",
        "colab": {
          "base_uri": "https://localhost:8080/",
          "height": 34
        },
        "outputId": "81a33ebb-054f-431b-e0c0-1ba5219eb230"
      },
      "source": [
        "import time\n",
        "\n",
        "start_time = time.time()\n",
        "# Code to check follows\n",
        "a, b = 1,2\n",
        "c = a+ b\n",
        "# Code to check ends\n",
        "end_time = time.time()\n",
        "time_taken_in_micro = (end_time- start_time)*(10**6)\n",
        "\n",
        "print(\" Time taken in micro_seconds: {0} ms\".format(time_taken_in_micro))"
      ],
      "execution_count": 23,
      "outputs": [
        {
          "output_type": "stream",
          "text": [
            " Time taken in micro_seconds: 128.5076141357422 ms\n"
          ],
          "name": "stdout"
        }
      ]
    },
    {
      "cell_type": "markdown",
      "metadata": {
        "id": "WofbqnrFvXcN",
        "colab_type": "text"
      },
      "source": [
        "# 17. Flattening a List of Lists"
      ]
    },
    {
      "cell_type": "code",
      "metadata": {
        "id": "vNEebgvpvUs7",
        "colab_type": "code",
        "colab": {
          "base_uri": "https://localhost:8080/",
          "height": 156
        },
        "outputId": "741840d8-c947-4b40-a9f7-52df547f10b2"
      },
      "source": [
        "!pip install iteration_utilities\n",
        "from iteration_utilities import deepflatten\n",
        "\n",
        "# if you only have one depth nested_list, use this\n",
        "def flatten(l):\n",
        "  return [item for sublist in l for item in sublist]\n",
        "\n",
        "l = [[1,2,3],[3]]\n",
        "print(flatten(l))\n",
        "\n",
        "# if you don't know how deep the list is nested\n",
        "l = [[1,2,3],[4,[5],[6,7]],[8,[9,[10]]]]\n",
        "\n",
        "print(list(deepflatten(l, depth=3)))"
      ],
      "execution_count": 25,
      "outputs": [
        {
          "output_type": "stream",
          "text": [
            "Collecting iteration_utilities\n",
            "\u001b[?25l  Downloading https://files.pythonhosted.org/packages/64/56/c220ada4b076408681645460fd54061e2fafeab72f5ef16590ed1e25d322/iteration_utilities-0.10.1-cp36-cp36m-manylinux2010_x86_64.whl (270kB)\n",
            "\r\u001b[K     |█▏                              | 10kB 15.9MB/s eta 0:00:01\r\u001b[K     |██▍                             | 20kB 1.7MB/s eta 0:00:01\r\u001b[K     |███▋                            | 30kB 2.2MB/s eta 0:00:01\r\u001b[K     |████▉                           | 40kB 2.5MB/s eta 0:00:01\r\u001b[K     |██████                          | 51kB 1.9MB/s eta 0:00:01\r\u001b[K     |███████▎                        | 61kB 2.2MB/s eta 0:00:01\r\u001b[K     |████████▌                       | 71kB 2.4MB/s eta 0:00:01\r\u001b[K     |█████████▊                      | 81kB 2.6MB/s eta 0:00:01\r\u001b[K     |███████████                     | 92kB 2.8MB/s eta 0:00:01\r\u001b[K     |████████████▏                   | 102kB 2.6MB/s eta 0:00:01\r\u001b[K     |█████████████▎                  | 112kB 2.6MB/s eta 0:00:01\r\u001b[K     |██████████████▌                 | 122kB 2.6MB/s eta 0:00:01\r\u001b[K     |███████████████▊                | 133kB 2.6MB/s eta 0:00:01\r\u001b[K     |█████████████████               | 143kB 2.6MB/s eta 0:00:01\r\u001b[K     |██████████████████▏             | 153kB 2.6MB/s eta 0:00:01\r\u001b[K     |███████████████████▍            | 163kB 2.6MB/s eta 0:00:01\r\u001b[K     |████████████████████▋           | 174kB 2.6MB/s eta 0:00:01\r\u001b[K     |█████████████████████▉          | 184kB 2.6MB/s eta 0:00:01\r\u001b[K     |███████████████████████         | 194kB 2.6MB/s eta 0:00:01\r\u001b[K     |████████████████████████▎       | 204kB 2.6MB/s eta 0:00:01\r\u001b[K     |█████████████████████████▍      | 215kB 2.6MB/s eta 0:00:01\r\u001b[K     |██████████████████████████▋     | 225kB 2.6MB/s eta 0:00:01\r\u001b[K     |███████████████████████████▉    | 235kB 2.6MB/s eta 0:00:01\r\u001b[K     |█████████████████████████████   | 245kB 2.6MB/s eta 0:00:01\r\u001b[K     |██████████████████████████████▎ | 256kB 2.6MB/s eta 0:00:01\r\u001b[K     |███████████████████████████████▌| 266kB 2.6MB/s eta 0:00:01\r\u001b[K     |████████████████████████████████| 276kB 2.6MB/s \n",
            "\u001b[?25hInstalling collected packages: iteration-utilities\n",
            "Successfully installed iteration-utilities-0.10.1\n",
            "[1, 2, 3, 3]\n",
            "[1, 2, 3, 4, 5, 6, 7, 8, 9, 10]\n"
          ],
          "name": "stdout"
        }
      ]
    },
    {
      "cell_type": "markdown",
      "metadata": {
        "id": "fXQ7m8_Swerd",
        "colab_type": "text"
      },
      "source": [
        "# 18. Sampling From a List"
      ]
    },
    {
      "cell_type": "code",
      "metadata": {
        "id": "W0IL2Vpuvy5o",
        "colab_type": "code",
        "colab": {
          "base_uri": "https://localhost:8080/",
          "height": 34
        },
        "outputId": "9ec5173f-cd8e-41a0-fc4c-25b9c80994d4"
      },
      "source": [
        "import random\n",
        "\n",
        "my_list = ['a', 'b', 'c', 'd', 'e']\n",
        "num_samples = 2\n",
        "\n",
        "samples = random.sample(my_list,num_samples)\n",
        "print(samples)"
      ],
      "execution_count": 26,
      "outputs": [
        {
          "output_type": "stream",
          "text": [
            "['c', 'a']\n"
          ],
          "name": "stdout"
        }
      ]
    },
    {
      "cell_type": "code",
      "metadata": {
        "id": "Uzet2HM0wg6k",
        "colab_type": "code",
        "colab": {
          "base_uri": "https://localhost:8080/",
          "height": 34
        },
        "outputId": "04a25326-c0de-4eb8-ada6-f8ce0e2dd7a0"
      },
      "source": [
        "import secrets # imports secure module.\n",
        "secure_random = secrets.SystemRandom() # creates a secure random object.\n",
        "\n",
        "my_list = ['a','b','c','d','e']\n",
        "num_samples = 2\n",
        "\n",
        "samples = secure_random.sample(my_list, num_samples)\n",
        "\n",
        "print(samples)"
      ],
      "execution_count": 27,
      "outputs": [
        {
          "output_type": "stream",
          "text": [
            "['e', 'c']\n"
          ],
          "name": "stdout"
        }
      ]
    },
    {
      "cell_type": "markdown",
      "metadata": {
        "id": "ziuCMNzMxG7x",
        "colab_type": "text"
      },
      "source": [
        "# 19. Digitize"
      ]
    },
    {
      "cell_type": "code",
      "metadata": {
        "id": "9QXVz7Aiw9PG",
        "colab_type": "code",
        "colab": {
          "base_uri": "https://localhost:8080/",
          "height": 68
        },
        "outputId": "9469be3e-a243-4093-c667-9cf7ab889e81"
      },
      "source": [
        "num = 123456\n",
        "\n",
        "# using map\n",
        "list_of_digits = list(map(int, str(num)))\n",
        "\n",
        "print(list_of_digits)\n",
        "\n",
        "# using list comprehension\n",
        "list_of_digits = [int(x) for x in str(num)]\n",
        "\n",
        "print(list_of_digits)\n",
        "\n",
        "# Even simpler approach\n",
        "list_of_digits = list(str(num))\n",
        "\n",
        "print(list_of_digits)"
      ],
      "execution_count": 28,
      "outputs": [
        {
          "output_type": "stream",
          "text": [
            "[1, 2, 3, 4, 5, 6]\n",
            "[1, 2, 3, 4, 5, 6]\n",
            "['1', '2', '3', '4', '5', '6']\n"
          ],
          "name": "stdout"
        }
      ]
    },
    {
      "cell_type": "markdown",
      "metadata": {
        "id": "VQzamh9Ixg07",
        "colab_type": "text"
      },
      "source": [
        "# 20. Check for Uniqueness"
      ]
    },
    {
      "cell_type": "code",
      "metadata": {
        "id": "tUroUkiyxcS0",
        "colab_type": "code",
        "colab": {
          "base_uri": "https://localhost:8080/",
          "height": 51
        },
        "outputId": "fa5ada37-57f4-4868-a3e0-96b7b184788b"
      },
      "source": [
        "def unique(l):\n",
        "    if len(l)==len(set(l)):\n",
        "        print(\"All elements are unique\")\n",
        "    else:\n",
        "        print(\"List has duplicates\")\n",
        "\n",
        "unique([1,2,3,4])\n",
        "# All elements are unique\n",
        "\n",
        "unique([1,1,2,3])"
      ],
      "execution_count": 29,
      "outputs": [
        {
          "output_type": "stream",
          "text": [
            "All elements are unique\n",
            "List has duplicates\n"
          ],
          "name": "stdout"
        }
      ]
    }
  ]
}