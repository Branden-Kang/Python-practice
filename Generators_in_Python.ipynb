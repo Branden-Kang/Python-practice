{
  "nbformat": 4,
  "nbformat_minor": 0,
  "metadata": {
    "colab": {
      "name": "Generators in Python.ipynb",
      "provenance": [],
      "authorship_tag": "ABX9TyN9qeIqp2Y5mAdtV4lKT7uR"
    },
    "kernelspec": {
      "name": "python3",
      "display_name": "Python 3"
    }
  },
  "cells": [
    {
      "cell_type": "markdown",
      "metadata": {
        "id": "tsZ5L7lG4f4l"
      },
      "source": [
        "[Reference](https://medium.com/swlh/generators-in-python-5-things-to-know-c76a1f60427a)"
      ]
    },
    {
      "cell_type": "markdown",
      "metadata": {
        "id": "-pmuv_y34ivf"
      },
      "source": [
        "![gen](https://miro.medium.com/max/1400/1*SuNF80WrkJatyDMrfaAQtw.png)"
      ]
    },
    {
      "cell_type": "code",
      "metadata": {
        "colab": {
          "base_uri": "https://localhost:8080/"
        },
        "id": "zIEGwzb04evK",
        "outputId": "c6f5cadd-16ff-473b-a97f-1829eeeb9610"
      },
      "source": [
        "for num in [1,2,3,4,5,6,7,8,9,10]:\n",
        "\tprint(f\"The number is: {num}\")"
      ],
      "execution_count": 1,
      "outputs": [
        {
          "output_type": "stream",
          "text": [
            "The number is: 1\n",
            "The number is: 2\n",
            "The number is: 3\n",
            "The number is: 4\n",
            "The number is: 5\n",
            "The number is: 6\n",
            "The number is: 7\n",
            "The number is: 8\n",
            "The number is: 9\n",
            "The number is: 10\n"
          ],
          "name": "stdout"
        }
      ]
    },
    {
      "cell_type": "markdown",
      "metadata": {
        "id": "P5DLrUYP4td-"
      },
      "source": [
        "Being an iterable means that we can go over the elements of the iterable object to perform specific operations."
      ]
    },
    {
      "cell_type": "code",
      "metadata": {
        "colab": {
          "base_uri": "https://localhost:8080/",
          "height": 334
        },
        "id": "4SLSqKjF4ojf",
        "outputId": "ccea3c58-7dd9-448c-b5e1-085c619c895a"
      },
      "source": [
        "python_iterator = iter('python')\n",
        "print(python_iterator.__next__())\n",
        "print(python_iterator.__next__())\n",
        "print(python_iterator.__next__())\n",
        "print(python_iterator.__next__())\n",
        "print(python_iterator.__next__())\n",
        "print(python_iterator.__next__())\n",
        "print(python_iterator.__next__())"
      ],
      "execution_count": 2,
      "outputs": [
        {
          "output_type": "stream",
          "text": [
            "p\n",
            "y\n",
            "t\n",
            "h\n",
            "o\n",
            "n\n"
          ],
          "name": "stdout"
        },
        {
          "output_type": "error",
          "ename": "StopIteration",
          "evalue": "ignored",
          "traceback": [
            "\u001b[0;31m---------------------------------------------------------------------------\u001b[0m",
            "\u001b[0;31mStopIteration\u001b[0m                             Traceback (most recent call last)",
            "\u001b[0;32m<ipython-input-2-73709a5d7be5>\u001b[0m in \u001b[0;36m<module>\u001b[0;34m()\u001b[0m\n\u001b[1;32m      6\u001b[0m \u001b[0mprint\u001b[0m\u001b[0;34m(\u001b[0m\u001b[0mpython_iterator\u001b[0m\u001b[0;34m.\u001b[0m\u001b[0m__next__\u001b[0m\u001b[0;34m(\u001b[0m\u001b[0;34m)\u001b[0m\u001b[0;34m)\u001b[0m\u001b[0;34m\u001b[0m\u001b[0;34m\u001b[0m\u001b[0m\n\u001b[1;32m      7\u001b[0m \u001b[0mprint\u001b[0m\u001b[0;34m(\u001b[0m\u001b[0mpython_iterator\u001b[0m\u001b[0;34m.\u001b[0m\u001b[0m__next__\u001b[0m\u001b[0;34m(\u001b[0m\u001b[0;34m)\u001b[0m\u001b[0;34m)\u001b[0m\u001b[0;34m\u001b[0m\u001b[0;34m\u001b[0m\u001b[0m\n\u001b[0;32m----> 8\u001b[0;31m \u001b[0mprint\u001b[0m\u001b[0;34m(\u001b[0m\u001b[0mpython_iterator\u001b[0m\u001b[0;34m.\u001b[0m\u001b[0m__next__\u001b[0m\u001b[0;34m(\u001b[0m\u001b[0;34m)\u001b[0m\u001b[0;34m)\u001b[0m\u001b[0;34m\u001b[0m\u001b[0;34m\u001b[0m\u001b[0m\n\u001b[0m",
            "\u001b[0;31mStopIteration\u001b[0m: "
          ]
        }
      ]
    },
    {
      "cell_type": "code",
      "metadata": {
        "colab": {
          "base_uri": "https://localhost:8080/"
        },
        "id": "CVNhcZcZ60Eq",
        "outputId": "bc417a31-a38e-4537-a2cd-f058df9bd441"
      },
      "source": [
        "def hello_world_generator():\n",
        "     yield \"Hello\"\n",
        "     yield \"World\"\n",
        "     yield \"!\"\n",
        " \n",
        "hello_world = hello_world_generator()\n",
        "\n",
        "print(hello_world.__next__())\n",
        "print(hello_world.__next__())\n",
        "print(hello_world.__next__())"
      ],
      "execution_count": 3,
      "outputs": [
        {
          "output_type": "stream",
          "text": [
            "Hello\n",
            "World\n",
            "!\n"
          ],
          "name": "stdout"
        }
      ]
    },
    {
      "cell_type": "code",
      "metadata": {
        "colab": {
          "base_uri": "https://localhost:8080/"
        },
        "id": "yM0GrILg7rt-",
        "outputId": "c2ca8729-13aa-428f-cf80-f75ebf13ed0d"
      },
      "source": [
        "def get_no_returns():\n",
        "     a = 1\n",
        " \n",
        "returned_value = get_no_returns()\n",
        "returned_value is None"
      ],
      "execution_count": 4,
      "outputs": [
        {
          "output_type": "execute_result",
          "data": {
            "text/plain": [
              "True"
            ]
          },
          "metadata": {
            "tags": []
          },
          "execution_count": 4
        }
      ]
    },
    {
      "cell_type": "code",
      "metadata": {
        "colab": {
          "base_uri": "https://localhost:8080/",
          "height": 317
        },
        "id": "l0iMt-FL_Ih0",
        "outputId": "f407c7c8-7834-4d37-c84e-560e4496b783"
      },
      "source": [
        "def num_generator():\n",
        "     print('Number 1')\n",
        "     yield 1\n",
        "     print('Number 2')\n",
        "     yield 2\n",
        "     print('Finished')\n",
        "\n",
        "num = num_generator()\n",
        "\n",
        "print(num.__next__())\n",
        "print(num.__next__())\n",
        "print(num.__next__())"
      ],
      "execution_count": 5,
      "outputs": [
        {
          "output_type": "stream",
          "text": [
            "Number 1\n",
            "1\n",
            "Number 2\n",
            "2\n",
            "Finished\n"
          ],
          "name": "stdout"
        },
        {
          "output_type": "error",
          "ename": "StopIteration",
          "evalue": "ignored",
          "traceback": [
            "\u001b[0;31m---------------------------------------------------------------------------\u001b[0m",
            "\u001b[0;31mStopIteration\u001b[0m                             Traceback (most recent call last)",
            "\u001b[0;32m<ipython-input-5-95883e4aeed8>\u001b[0m in \u001b[0;36m<module>\u001b[0;34m()\u001b[0m\n\u001b[1;32m     10\u001b[0m \u001b[0mprint\u001b[0m\u001b[0;34m(\u001b[0m\u001b[0mnum\u001b[0m\u001b[0;34m.\u001b[0m\u001b[0m__next__\u001b[0m\u001b[0;34m(\u001b[0m\u001b[0;34m)\u001b[0m\u001b[0;34m)\u001b[0m\u001b[0;34m\u001b[0m\u001b[0;34m\u001b[0m\u001b[0m\n\u001b[1;32m     11\u001b[0m \u001b[0mprint\u001b[0m\u001b[0;34m(\u001b[0m\u001b[0mnum\u001b[0m\u001b[0;34m.\u001b[0m\u001b[0m__next__\u001b[0m\u001b[0;34m(\u001b[0m\u001b[0;34m)\u001b[0m\u001b[0;34m)\u001b[0m\u001b[0;34m\u001b[0m\u001b[0;34m\u001b[0m\u001b[0m\n\u001b[0;32m---> 12\u001b[0;31m \u001b[0mprint\u001b[0m\u001b[0;34m(\u001b[0m\u001b[0mnum\u001b[0m\u001b[0;34m.\u001b[0m\u001b[0m__next__\u001b[0m\u001b[0;34m(\u001b[0m\u001b[0;34m)\u001b[0m\u001b[0;34m)\u001b[0m\u001b[0;34m\u001b[0m\u001b[0;34m\u001b[0m\u001b[0m\n\u001b[0m",
            "\u001b[0;31mStopIteration\u001b[0m: "
          ]
        }
      ]
    },
    {
      "cell_type": "code",
      "metadata": {
        "colab": {
          "base_uri": "https://localhost:8080/"
        },
        "id": "8zeJjSiD_Zgc",
        "outputId": "a196ace2-295f-4a2e-99bf-1cead92743f4"
      },
      "source": [
        "squared_numbers = [x*x for x in range(10)]\n",
        "squared_numbers"
      ],
      "execution_count": 6,
      "outputs": [
        {
          "output_type": "execute_result",
          "data": {
            "text/plain": [
              "[0, 1, 4, 9, 16, 25, 36, 49, 64, 81]"
            ]
          },
          "metadata": {
            "tags": []
          },
          "execution_count": 6
        }
      ]
    },
    {
      "cell_type": "code",
      "metadata": {
        "colab": {
          "base_uri": "https://localhost:8080/"
        },
        "id": "iQbsS0N0_1qM",
        "outputId": "00a0f6d0-bb4d-4d6d-db90-26b8d223f83a"
      },
      "source": [
        "squared_numbers_generator = (x*2 for x in range(10))\n",
        "type(squared_numbers_generator)"
      ],
      "execution_count": 7,
      "outputs": [
        {
          "output_type": "execute_result",
          "data": {
            "text/plain": [
              "generator"
            ]
          },
          "metadata": {
            "tags": []
          },
          "execution_count": 7
        }
      ]
    },
    {
      "cell_type": "code",
      "metadata": {
        "colab": {
          "base_uri": "https://localhost:8080/",
          "height": 198
        },
        "id": "YWJnSDbj_34w",
        "outputId": "cb69d839-bc0e-4206-cdd3-98fd32f62766"
      },
      "source": [
        "squared_numbers_generator .__next__()"
      ],
      "execution_count": 8,
      "outputs": [
        {
          "output_type": "error",
          "ename": "NameError",
          "evalue": "ignored",
          "traceback": [
            "\u001b[0;31m---------------------------------------------------------------------------\u001b[0m",
            "\u001b[0;31mNameError\u001b[0m                                 Traceback (most recent call last)",
            "\u001b[0;32m<ipython-input-8-d6aea8d473ca>\u001b[0m in \u001b[0;36m<module>\u001b[0;34m()\u001b[0m\n\u001b[0;32m----> 1\u001b[0;31m \u001b[0msquared_numbers_gen\u001b[0m\u001b[0;34m.\u001b[0m\u001b[0m__next__\u001b[0m\u001b[0;34m(\u001b[0m\u001b[0;34m)\u001b[0m\u001b[0;34m\u001b[0m\u001b[0;34m\u001b[0m\u001b[0m\n\u001b[0m",
            "\u001b[0;31mNameError\u001b[0m: name 'squared_numbers_gen' is not defined"
          ]
        }
      ]
    },
    {
      "cell_type": "code",
      "metadata": {
        "colab": {
          "base_uri": "https://localhost:8080/"
        },
        "id": "M2x2FoNu_5uC",
        "outputId": "f08a0c30-91c5-4c1b-ce1e-fc9b28eb255d"
      },
      "source": [
        "squared_numbers_generator .__next__()"
      ],
      "execution_count": 11,
      "outputs": [
        {
          "output_type": "execute_result",
          "data": {
            "text/plain": [
              "0"
            ]
          },
          "metadata": {
            "tags": []
          },
          "execution_count": 11
        }
      ]
    },
    {
      "cell_type": "code",
      "metadata": {
        "colab": {
          "base_uri": "https://localhost:8080/"
        },
        "id": "mKvsAAaZ_54C",
        "outputId": "dbf44bac-324a-4274-e84d-3042f5f14849"
      },
      "source": [
        "num = 9999999\n",
        "\n",
        "# list\n",
        "squared_num_list = [x*x for x in range(num)]\n",
        "print(f\"list: {squared_num_list.__sizeof__()}\")\n",
        "\n",
        "# generator\n",
        "squared_num_generator = (x*x for x in range(num))\n",
        "print(f\"generator: {squared_num_generator.__sizeof__()}\")"
      ],
      "execution_count": 13,
      "outputs": [
        {
          "output_type": "stream",
          "text": [
            "list: 81528032\n",
            "generator: 64\n"
          ],
          "name": "stdout"
        }
      ]
    }
  ]
}