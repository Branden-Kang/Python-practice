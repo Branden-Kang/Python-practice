{
  "nbformat": 4,
  "nbformat_minor": 0,
  "metadata": {
    "colab": {
      "provenance": [],
      "authorship_tag": "ABX9TyPe54yadCVRbfO0rQqoMKze"
    },
    "kernelspec": {
      "name": "python3",
      "display_name": "Python 3"
    },
    "language_info": {
      "name": "python"
    }
  },
  "cells": [
    {
      "cell_type": "markdown",
      "source": [
        "[Reference](https://medium.com/@anala007/the-power-of-the-map-function-in-python-e6154f2ba3df)"
      ],
      "metadata": {
        "id": "GrPJErpaH24B"
      }
    },
    {
      "cell_type": "code",
      "execution_count": 1,
      "metadata": {
        "colab": {
          "base_uri": "https://localhost:8080/"
        },
        "id": "oFw3pX8ZHfVz",
        "outputId": "34778da0-0f47-4a0e-ba23-f84cf3f73601"
      },
      "outputs": [
        {
          "output_type": "stream",
          "name": "stdout",
          "text": [
            "[4, 8, 12, 16]\n"
          ]
        }
      ],
      "source": [
        "doubles = [2, 4, 6, 8] \n",
        "for i in range(len(doubles)):\n",
        "    doubles[i] = doubles[i] * 2\n",
        "print(doubles)"
      ]
    },
    {
      "cell_type": "code",
      "source": [
        "doubles = [2, 4, 6, 8] \n",
        "doubles = list(map(lambda x: x*2, doubles))\n",
        "print(doubles)"
      ],
      "metadata": {
        "colab": {
          "base_uri": "https://localhost:8080/"
        },
        "id": "r85LjXaOH7Rc",
        "outputId": "d73016a3-4f42-4c3b-b3b7-932e5b68d692"
      },
      "execution_count": 2,
      "outputs": [
        {
          "output_type": "stream",
          "name": "stdout",
          "text": [
            "[4, 8, 12, 16]\n"
          ]
        }
      ]
    },
    {
      "cell_type": "code",
      "source": [
        "strings = ['1', '2', '3', '4'] \n",
        "ints = [] \n",
        "for i in range(len(strings)):\n",
        "    ints.append(int(strings[i]))\n",
        "print(ints)"
      ],
      "metadata": {
        "colab": {
          "base_uri": "https://localhost:8080/"
        },
        "id": "jYwZoL4XH8Or",
        "outputId": "935e80d7-279e-4e9f-a9a2-5edc7ec0aa0f"
      },
      "execution_count": 3,
      "outputs": [
        {
          "output_type": "stream",
          "name": "stdout",
          "text": [
            "[1, 2, 3, 4]\n"
          ]
        }
      ]
    },
    {
      "cell_type": "code",
      "source": [
        "strings = ['1', '2', '3', '4'] \n",
        "ints = list(map(int, strings)) # int is the built-in function for converting strings to integers \n",
        "print(ints)"
      ],
      "metadata": {
        "colab": {
          "base_uri": "https://localhost:8080/"
        },
        "id": "2tEdkWZhH9TT",
        "outputId": "f8b94662-6cbf-4f2e-8b12-5c47a5b87110"
      },
      "execution_count": 4,
      "outputs": [
        {
          "output_type": "stream",
          "name": "stdout",
          "text": [
            "[1, 2, 3, 4]\n"
          ]
        }
      ]
    }
  ]
}