{
  "nbformat": 4,
  "nbformat_minor": 0,
  "metadata": {
    "colab": {
      "name": "Python Collections.ipynb",
      "provenance": [],
      "authorship_tag": "ABX9TyMOwj39abF/QUygniyv6Uw9"
    },
    "kernelspec": {
      "name": "python3",
      "display_name": "Python 3"
    }
  },
  "cells": [
    {
      "cell_type": "markdown",
      "metadata": {
        "id": "Y3CYjnvgfrdj",
        "colab_type": "text"
      },
      "source": [
        "[Reference](https://medium.com/swlh/python-collections-you-should-always-be-using-b579b9e59e4)"
      ]
    },
    {
      "cell_type": "markdown",
      "metadata": {
        "id": "hzWCDFRHf423",
        "colab_type": "text"
      },
      "source": [
        "namedtuple"
      ]
    },
    {
      "cell_type": "code",
      "metadata": {
        "id": "4xi7oIMOfp81",
        "colab_type": "code",
        "colab": {}
      },
      "source": [
        "from collections import namedtuple\n",
        "import math"
      ],
      "execution_count": 1,
      "outputs": []
    },
    {
      "cell_type": "code",
      "metadata": {
        "id": "nVlAKOKwfvNo",
        "colab_type": "code",
        "colab": {}
      },
      "source": [
        "Dot = namedtuple('Dot', 'x y')"
      ],
      "execution_count": 2,
      "outputs": []
    },
    {
      "cell_type": "code",
      "metadata": {
        "id": "xG32VcAAfwi4",
        "colab_type": "code",
        "colab": {}
      },
      "source": [
        "p1, p2 = Dot(0,0), Dot(0, 5)"
      ],
      "execution_count": 3,
      "outputs": []
    },
    {
      "cell_type": "code",
      "metadata": {
        "id": "kzsnHKjKfzUU",
        "colab_type": "code",
        "colab": {
          "base_uri": "https://localhost:8080/",
          "height": 34
        },
        "outputId": "0ea3f728-42ef-4b7a-d2c7-c33865b85b37"
      },
      "source": [
        "p1 , p2"
      ],
      "execution_count": 4,
      "outputs": [
        {
          "output_type": "execute_result",
          "data": {
            "text/plain": [
              "(Dot(x=0, y=0), Dot(x=0, y=5))"
            ]
          },
          "metadata": {
            "tags": []
          },
          "execution_count": 4
        }
      ]
    },
    {
      "cell_type": "code",
      "metadata": {
        "id": "AZ0yTjhRf0Qy",
        "colab_type": "code",
        "colab": {}
      },
      "source": [
        "def distance(p1, p2):\n",
        "    x_distance = math.pow((p1.x - p2.x), 2)\n",
        "    y_distance = math.pow((p1.y - p2.y), 2)\n",
        "    return math.sqrt((x_distance + y_distance))"
      ],
      "execution_count": 5,
      "outputs": []
    },
    {
      "cell_type": "code",
      "metadata": {
        "id": "uNB5bAqxf1jW",
        "colab_type": "code",
        "colab": {
          "base_uri": "https://localhost:8080/",
          "height": 34
        },
        "outputId": "6f8587bd-1e86-4977-de9d-5acecb2e0483"
      },
      "source": [
        "distance(p1, p2)"
      ],
      "execution_count": 6,
      "outputs": [
        {
          "output_type": "execute_result",
          "data": {
            "text/plain": [
              "5.0"
            ]
          },
          "metadata": {
            "tags": []
          },
          "execution_count": 6
        }
      ]
    },
    {
      "cell_type": "markdown",
      "metadata": {
        "id": "SWDfcmpgf6UU",
        "colab_type": "text"
      },
      "source": [
        "deque"
      ]
    },
    {
      "cell_type": "code",
      "metadata": {
        "id": "iTb2w-htf2zv",
        "colab_type": "code",
        "colab": {}
      },
      "source": [
        "from collections import deque"
      ],
      "execution_count": 7,
      "outputs": []
    },
    {
      "cell_type": "code",
      "metadata": {
        "id": "gW5_r2Odf8G5",
        "colab_type": "code",
        "colab": {
          "base_uri": "https://localhost:8080/",
          "height": 34
        },
        "outputId": "093ef4c4-0415-408b-f88f-ecd6d8193f28"
      },
      "source": [
        "# creating a deque\n",
        "improved_list = deque([1,2,3,4])\n",
        "improved_list"
      ],
      "execution_count": 8,
      "outputs": [
        {
          "output_type": "execute_result",
          "data": {
            "text/plain": [
              "deque([1, 2, 3, 4])"
            ]
          },
          "metadata": {
            "tags": []
          },
          "execution_count": 8
        }
      ]
    },
    {
      "cell_type": "code",
      "metadata": {
        "id": "63c43NJmf9VP",
        "colab_type": "code",
        "colab": {
          "base_uri": "https://localhost:8080/",
          "height": 34
        },
        "outputId": "762edac7-4f3a-49de-88f1-ec72aedaa5db"
      },
      "source": [
        "# inserting at O(1)\n",
        "improved_list.appendleft(0)\n",
        "improved_list"
      ],
      "execution_count": 9,
      "outputs": [
        {
          "output_type": "execute_result",
          "data": {
            "text/plain": [
              "deque([0, 1, 2, 3, 4])"
            ]
          },
          "metadata": {
            "tags": []
          },
          "execution_count": 9
        }
      ]
    },
    {
      "cell_type": "code",
      "metadata": {
        "id": "X-YuOMSGf-X0",
        "colab_type": "code",
        "colab": {
          "base_uri": "https://localhost:8080/",
          "height": 34
        },
        "outputId": "fc598a3b-c057-4383-a37a-143091c489ed"
      },
      "source": [
        "# poping at O(1)\n",
        "improved_list.popleft()"
      ],
      "execution_count": 10,
      "outputs": [
        {
          "output_type": "execute_result",
          "data": {
            "text/plain": [
              "0"
            ]
          },
          "metadata": {
            "tags": []
          },
          "execution_count": 10
        }
      ]
    },
    {
      "cell_type": "code",
      "metadata": {
        "id": "2vMPMvBKf_ez",
        "colab_type": "code",
        "colab": {
          "base_uri": "https://localhost:8080/",
          "height": 34
        },
        "outputId": "20bb1cae-a833-48ee-c7b8-1e7582ef0941"
      },
      "source": [
        "improved_list"
      ],
      "execution_count": 11,
      "outputs": [
        {
          "output_type": "execute_result",
          "data": {
            "text/plain": [
              "deque([1, 2, 3, 4])"
            ]
          },
          "metadata": {
            "tags": []
          },
          "execution_count": 11
        }
      ]
    },
    {
      "cell_type": "code",
      "metadata": {
        "id": "NzSmanD6gCgY",
        "colab_type": "code",
        "colab": {}
      },
      "source": [
        "# changing starting point , keeping the order\n",
        "improved_list.rotate(1)\n",
        "improved_list"
      ],
      "execution_count": 11,
      "outputs": []
    },
    {
      "cell_type": "markdown",
      "metadata": {
        "id": "w8T8QFBzgGaQ",
        "colab_type": "text"
      },
      "source": [
        "Counter"
      ]
    },
    {
      "cell_type": "code",
      "metadata": {
        "id": "xyiMPRHdgHgm",
        "colab_type": "code",
        "colab": {}
      },
      "source": [
        "from collections import Counter"
      ],
      "execution_count": 12,
      "outputs": []
    },
    {
      "cell_type": "code",
      "metadata": {
        "id": "gu-vui_ygJRa",
        "colab_type": "code",
        "colab": {}
      },
      "source": [
        "c1 = Counter([2,3,1,2,3,5,3,6,7,9,5,3,4,5,6,4,3,4,6])\n",
        "c2 = Counter(\"gjfjadlfggfkgd;fkgd,fgfsfdjsfj\")"
      ],
      "execution_count": 13,
      "outputs": []
    },
    {
      "cell_type": "code",
      "metadata": {
        "id": "cavxOOyDgKQk",
        "colab_type": "code",
        "colab": {
          "base_uri": "https://localhost:8080/",
          "height": 34
        },
        "outputId": "123f4530-412d-42e2-e74d-d17fc6a7d92f"
      },
      "source": [
        "c1"
      ],
      "execution_count": 14,
      "outputs": [
        {
          "output_type": "execute_result",
          "data": {
            "text/plain": [
              "Counter({1: 1, 2: 2, 3: 5, 4: 3, 5: 3, 6: 3, 7: 1, 9: 1})"
            ]
          },
          "metadata": {
            "tags": []
          },
          "execution_count": 14
        }
      ]
    },
    {
      "cell_type": "code",
      "metadata": {
        "id": "jmacV1prgLDR",
        "colab_type": "code",
        "colab": {
          "base_uri": "https://localhost:8080/",
          "height": 34
        },
        "outputId": "6928d1e8-9120-4c78-d6a3-912099f08da8"
      },
      "source": [
        "# shows the 3 most commom results\n",
        "c2.most_common(3)"
      ],
      "execution_count": 15,
      "outputs": [
        {
          "output_type": "execute_result",
          "data": {
            "text/plain": [
              "[('f', 8), ('g', 6), ('j', 4)]"
            ]
          },
          "metadata": {
            "tags": []
          },
          "execution_count": 15
        }
      ]
    },
    {
      "cell_type": "code",
      "metadata": {
        "id": "Bua_zZ71gMEw",
        "colab_type": "code",
        "colab": {
          "base_uri": "https://localhost:8080/",
          "height": 34
        },
        "outputId": "ec4dc1ce-3aa9-4cc7-bf7c-fe61a3f0aa38"
      },
      "source": [
        "# no error even though object does not exist in original list\n",
        "c2['m']"
      ],
      "execution_count": 16,
      "outputs": [
        {
          "output_type": "execute_result",
          "data": {
            "text/plain": [
              "0"
            ]
          },
          "metadata": {
            "tags": []
          },
          "execution_count": 16
        }
      ]
    },
    {
      "cell_type": "code",
      "metadata": {
        "id": "KcsCYtdCgO93",
        "colab_type": "code",
        "colab": {}
      },
      "source": [
        "text = \"\"\"how many times each word is written in this sentence? I can easily\n",
        "count, but what is this was a document? will I still count?\"\"\"\n",
        "org_text = text\n",
        "\n",
        "# this could be done much better with re module\n",
        "text.replace('?', '')\n",
        "text.replace(',', '')\n",
        "\n",
        "words_counter = Counter(text.split(' '))"
      ],
      "execution_count": 17,
      "outputs": []
    },
    {
      "cell_type": "code",
      "metadata": {
        "id": "EkKzdz4AgS_p",
        "colab_type": "code",
        "colab": {
          "base_uri": "https://localhost:8080/",
          "height": 34
        },
        "outputId": "dd855449-5134-4f20-827b-80359350a367"
      },
      "source": [
        "words_counter.most_common(3)"
      ],
      "execution_count": 18,
      "outputs": [
        {
          "output_type": "execute_result",
          "data": {
            "text/plain": [
              "[('is', 2), ('this', 2), ('I', 2)]"
            ]
          },
          "metadata": {
            "tags": []
          },
          "execution_count": 18
        }
      ]
    }
  ]
}