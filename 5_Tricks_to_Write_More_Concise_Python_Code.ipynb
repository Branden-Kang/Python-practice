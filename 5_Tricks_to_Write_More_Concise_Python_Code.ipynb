{
  "nbformat": 4,
  "nbformat_minor": 0,
  "metadata": {
    "colab": {
      "name": "5 Tricks to Write More Concise Python Code.ipynb",
      "provenance": [],
      "authorship_tag": "ABX9TyOUYmuoaQa5UQwrodbwtf4Z"
    },
    "kernelspec": {
      "name": "python3",
      "display_name": "Python 3"
    }
  },
  "cells": [
    {
      "cell_type": "markdown",
      "metadata": {
        "id": "22U40sdUn-xf"
      },
      "source": [
        "[Reference](https://medium.com/better-programming/5-tricks-to-write-more-concise-python-code-f075f66336b6)"
      ]
    },
    {
      "cell_type": "markdown",
      "metadata": {
        "id": "J-iFiu82oAoM"
      },
      "source": [
        "# 1. List, Dictionary, and Set Comprehensions"
      ]
    },
    {
      "cell_type": "code",
      "metadata": {
        "id": "QIpLw_t3n9oh"
      },
      "source": [
        "# Create a list for subsequent operations\n",
        "numbers = [1, 2, 3, 4, 5, 6]\n",
        "\n",
        "# Typical way to create a list consisting of squares\n",
        "squares0 = []\n",
        "for number in numbers:\n",
        "    squares0.append(number*number)\n",
        "\n",
        "# List comprehensions\n",
        "squares1 = [number*number for number in numbers]"
      ],
      "execution_count": 2,
      "outputs": []
    },
    {
      "cell_type": "code",
      "metadata": {
        "id": "vJEUCROFoDtr",
        "outputId": "704d39cf-a2bf-4be2-cd35-fd8c855d4c76",
        "colab": {
          "base_uri": "https://localhost:8080/"
        }
      },
      "source": [
        "# Dictionary comprehension\n",
        "squares_dict = {number: number*number for number in numbers}\n",
        "squares_dict\n",
        "\n",
        "# Set comprehension\n",
        "numbers_dups = [1, 2, 3, 4, 3, 2, 1]\n",
        "squares_set = {number*number for number in numbers_dups}\n",
        "squares_set"
      ],
      "execution_count": 3,
      "outputs": [
        {
          "output_type": "execute_result",
          "data": {
            "text/plain": [
              "{1, 4, 9, 16}"
            ]
          },
          "metadata": {
            "tags": []
          },
          "execution_count": 3
        }
      ]
    },
    {
      "cell_type": "markdown",
      "metadata": {
        "id": "tgvao9AUoKkd"
      },
      "source": [
        "# 2. Named Tuples as Data Structure"
      ]
    },
    {
      "cell_type": "code",
      "metadata": {
        "id": "eBQDdZuBoJvQ",
        "outputId": "73ce3875-9683-40a5-8690-9a0ad509816a",
        "colab": {
          "base_uri": "https://localhost:8080/",
          "height": 37
        }
      },
      "source": [
        "# Use a custom class\n",
        "class Student0:\n",
        "    def __init__(self, name, gender, student_id):\n",
        "        self.name = name\n",
        "        self.gender = gender\n",
        "        self.student_id = student_id\n",
        "\n",
        "s0 = Student0('John', 'M', 2020001)\n",
        "f\"Name: {s0.name}; Gender: {s0.gender}; ID #: {s0.student_id}\"\n",
        "\n",
        "# Use the namedtuple\n",
        "from collections import namedtuple\n",
        "Student1 = namedtuple(\"Student1\", [\"name\", \"gender\", \"student_id\"])\n",
        "s1 = Student1('Jennifer', 'F', 2020002)\n",
        "f\"Name: {s1.name}; Gender: {s1.gender}; ID #: {s1.student_id}\""
      ],
      "execution_count": 4,
      "outputs": [
        {
          "output_type": "execute_result",
          "data": {
            "application/vnd.google.colaboratory.intrinsic+json": {
              "type": "string"
            },
            "text/plain": [
              "'Name: Jennifer; Gender: F; ID #: 2020002'"
            ]
          },
          "metadata": {
            "tags": []
          },
          "execution_count": 4
        }
      ]
    },
    {
      "cell_type": "markdown",
      "metadata": {
        "id": "RoBZ7i0doVZ8"
      },
      "source": [
        "# 3. Iteration With enumerate() and zip()"
      ]
    },
    {
      "cell_type": "code",
      "metadata": {
        "id": "jkRZl2dMoRg8",
        "outputId": "37d65c02-272f-4fa9-f066-eb403fee75c9",
        "colab": {
          "base_uri": "https://localhost:8080/"
        }
      },
      "source": [
        "# Create a list of students based on their arrival sequence\n",
        "students = ['John', 'Aaron', 'Jennifer', 'Ashley']\n",
        "\n",
        "# Lengthy way\n",
        "for index in range(len(students)):\n",
        "     student = students[index]\n",
        "     print(f\"Arrival # {index+1}: {student}\")\n",
        "     \n",
        "# Concise way\n",
        "for index, student in enumerate(students, 1):\n",
        "     print(f\"Arrival # {index}: {student}\")"
      ],
      "execution_count": 6,
      "outputs": [
        {
          "output_type": "stream",
          "text": [
            "Arrival # 1: John\n",
            "Arrival # 2: Aaron\n",
            "Arrival # 3: Jennifer\n",
            "Arrival # 4: Ashley\n",
            "Arrival # 1: John\n",
            "Arrival # 2: Aaron\n",
            "Arrival # 3: Jennifer\n",
            "Arrival # 4: Ashley\n"
          ],
          "name": "stdout"
        }
      ]
    },
    {
      "cell_type": "code",
      "metadata": {
        "id": "XcGvYy7Mobyt",
        "outputId": "f25924df-559e-4874-be7e-3c1f1fccdad1",
        "colab": {
          "base_uri": "https://localhost:8080/"
        }
      },
      "source": [
        "# Create two lists for zip(), with one to one match\n",
        "names = ['John', 'Danny', 'Jennifer']\n",
        "scores = [95, 99, 100]\n",
        "\n",
        "# Lengthy way\n",
        "for index in range(len(names)):\n",
        "     name, score = names[index], scores[index]\n",
        "     print(f\"Name: {name}; Score: {score}\")"
      ],
      "execution_count": 7,
      "outputs": [
        {
          "output_type": "stream",
          "text": [
            "Name: John; Score: 95\n",
            "Name: Danny; Score: 99\n",
            "Name: Jennifer; Score: 100\n"
          ],
          "name": "stdout"
        }
      ]
    },
    {
      "cell_type": "code",
      "metadata": {
        "id": "y3eUEejUoivR",
        "outputId": "0226686c-80f4-43d0-8fcc-b62c653c17e9",
        "colab": {
          "base_uri": "https://localhost:8080/"
        }
      },
      "source": [
        "for name, score in zip(names, scores):\n",
        "    print(f\"Name: {name}; Score: {score}\")"
      ],
      "execution_count": 8,
      "outputs": [
        {
          "output_type": "stream",
          "text": [
            "Name: John; Score: 95\n",
            "Name: Danny; Score: 99\n",
            "Name: Jennifer; Score: 100\n"
          ],
          "name": "stdout"
        }
      ]
    },
    {
      "cell_type": "markdown",
      "metadata": {
        "id": "ZG-ltvecolRe"
      },
      "source": [
        "# 4. String Formatting With f-Strings"
      ]
    },
    {
      "cell_type": "code",
      "metadata": {
        "id": "jR7gBhUNokgo",
        "outputId": "a5d5930f-bc00-4621-abd8-38ea5ba6e3af",
        "colab": {
          "base_uri": "https://localhost:8080/"
        }
      },
      "source": [
        "# Construct a list for formatting/debugging\n",
        "prime_numbers = [2, 3, 5, 7, 11]\n",
        "\n",
        "# Show the list using format\n",
        "print(\"Prime Numbers: {}\".format(prime_numbers))\n",
        "\n",
        "# Show the list using f-string\n",
        "print(f\"Prime Numbers: {prime_numbers}\")"
      ],
      "execution_count": 9,
      "outputs": [
        {
          "output_type": "stream",
          "text": [
            "Prime Numbers: [2, 3, 5, 7, 11]\n",
            "Prime Numbers: [2, 3, 5, 7, 11]\n"
          ],
          "name": "stdout"
        }
      ]
    },
    {
      "cell_type": "code",
      "metadata": {
        "id": "rcY_YYjKosQU"
      },
      "source": [
        "# The folder and extension\n",
        "folder = './usr/images'\n",
        "ext = '.jpg'\n",
        "\n",
        "# File name is computed from this list\n",
        "names = [10, 11, 12]\n",
        "# Construct File paths\n",
        "# Use + for concatenation\n",
        "paths0 = [folder + '/' + str(x) + ext for x in names]\n",
        "\n",
        "# Use join()\n",
        "paths1 = [''.join([folder, '/', str(x), ext]) for x in names]\n",
        "\n",
        "# Use f strings\n",
        "paths2 = [f\"{folder}/{x}{ext}\" for x in names]"
      ],
      "execution_count": 10,
      "outputs": []
    },
    {
      "cell_type": "code",
      "metadata": {
        "id": "YuQUqyaKoz9B",
        "outputId": "66946de8-902c-4716-d21b-7d969a7e09df",
        "colab": {
          "base_uri": "https://localhost:8080/"
        }
      },
      "source": [
        "print(paths0)\n",
        "print(paths1)\n",
        "print(paths2)"
      ],
      "execution_count": 11,
      "outputs": [
        {
          "output_type": "stream",
          "text": [
            "['./usr/images/10.jpg', './usr/images/11.jpg', './usr/images/12.jpg']\n",
            "['./usr/images/10.jpg', './usr/images/11.jpg', './usr/images/12.jpg']\n",
            "['./usr/images/10.jpg', './usr/images/11.jpg', './usr/images/12.jpg']\n"
          ],
          "name": "stdout"
        }
      ]
    },
    {
      "cell_type": "markdown",
      "metadata": {
        "id": "-8lJ-Yndo4Fa"
      },
      "source": [
        "# 5. Lambda Functions"
      ]
    },
    {
      "cell_type": "code",
      "metadata": {
        "id": "R5qhJCmco2eb",
        "outputId": "e7d8d457-674a-472a-80c1-4501e5a48c04",
        "colab": {
          "base_uri": "https://localhost:8080/"
        }
      },
      "source": [
        "# Create a list of students with their grading information\n",
        "grades = [{'name': 'John', 'grade': 95}, {'name': 'Aaron', 'grade': 92}, {'name': 'Jennifer', 'grade': 100}]\n",
        "\n",
        "# Sort using a regular function\n",
        "def sort_grade(student):\n",
        "    return student['grade']\n",
        " \n",
        "sorted(grades, key=sort_grade)\n",
        "\n",
        "# Sort using a lambda\n",
        "sorted(grades, key=lambda x: x['grade'])"
      ],
      "execution_count": 12,
      "outputs": [
        {
          "output_type": "execute_result",
          "data": {
            "text/plain": [
              "[{'grade': 92, 'name': 'Aaron'},\n",
              " {'grade': 95, 'name': 'John'},\n",
              " {'grade': 100, 'name': 'Jennifer'}]"
            ]
          },
          "metadata": {
            "tags": []
          },
          "execution_count": 12
        }
      ]
    }
  ]
}