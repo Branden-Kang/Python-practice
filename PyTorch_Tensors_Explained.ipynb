{
  "nbformat": 4,
  "nbformat_minor": 0,
  "metadata": {
    "colab": {
      "provenance": [],
      "authorship_tag": "ABX9TyP63ZpVs88byXmZEJcrgDYJ"
    },
    "kernelspec": {
      "name": "python3",
      "display_name": "Python 3"
    },
    "language_info": {
      "name": "python"
    }
  },
  "cells": [
    {
      "cell_type": "markdown",
      "source": [
        "[Reference](https://medium.com/data-science-collective/pytorch-tensors-explained-433ea1a91c0f)"
      ],
      "metadata": {
        "id": "K40JLoKay32W"
      }
    },
    {
      "cell_type": "code",
      "execution_count": 1,
      "metadata": {
        "id": "2zuArsiJytjz"
      },
      "outputs": [],
      "source": [
        "import torch\n",
        "import torch.nn as nn\n",
        "\n",
        "# Set seed for reproducibility\n",
        "torch.manual_seed(0)\n",
        "\n",
        "# Dummy data\n",
        "x = torch.randn(5, 2)     # 5 samples, 2 features\n",
        "y = torch.randn(5, 1)     # Target values\n",
        "\n",
        "# Simple MLP: 2 -> 3 -> 1\n",
        "model = nn.Sequential(\n",
        "    nn.Linear(2, 3),\n",
        "    nn.ReLU(),\n",
        "    nn.Linear(3, 1)\n",
        ")\n",
        "\n",
        "# Loss and optimizer\n",
        "loss_fn = nn.MSELoss()\n",
        "optimizer = torch.optim.SGD(model.parameters(), lr=0.01)\n",
        "\n",
        "# One training step\n",
        "y_pred = model(x)\n",
        "loss = loss_fn(y_pred, y)\n",
        "loss.backward()           # autograd does all the work here!\n",
        "optimizer.step()"
      ]
    },
    {
      "cell_type": "code",
      "source": [
        "import numpy as np\n",
        "\n",
        "np.random.seed(0)\n",
        "\n",
        "# Dummy input and target\n",
        "x = np.random.randn(5, 2)  # 5 samples, 2 features\n",
        "y = np.random.randn(5, 1)  # 5 samples, 1 output\n",
        "\n",
        "# Initialize weights\n",
        "W1 = np.random.randn(2, 3)  # (input_dim, hidden_dim)\n",
        "W2 = np.random.randn(3, 1)  # (hidden_dim, output_dim)\n",
        "\n",
        "# Forward pass\n",
        "z1 = x @ W1                # shape: (5, 3)\n",
        "a1 = np.maximum(0, z1)     # ReLU activation\n",
        "y_pred = a1 @ W2           # shape: (5, 1)\n",
        "\n",
        "# Compute loss (MSE)\n",
        "loss = np.mean((y_pred - y)**2)\n",
        "print(f\"Loss before: {loss:.4f}\")\n",
        "\n",
        "# Backward pass (manual gradients)\n",
        "\n",
        "# dL/dy_pred\n",
        "grad_y_pred = 2 * (y_pred - y) / y.shape[0]  # shape: (5, 1)\n",
        "\n",
        "# dL/dW2 = a1^T @ grad_y_pred\n",
        "grad_W2 = a1.T @ grad_y_pred                 # shape: (3, 1)\n",
        "\n",
        "# dL/da1 = grad_y_pred @ W2^T\n",
        "grad_a1 = grad_y_pred @ W2.T                # shape: (5, 3)\n",
        "\n",
        "# dL/dz1 = grad_a1 * ReLU'(z1)\n",
        "grad_z1 = grad_a1 * (z1 > 0).astype(float)   # shape: (5, 3)\n",
        "\n",
        "# dL/dW1 = x^T @ grad_z1\n",
        "grad_W1 = x.T @ grad_z1                      # shape: (2, 3)\n",
        "\n",
        "# Gradient descent step\n",
        "lr = 0.01\n",
        "W1 -= lr * grad_W1\n",
        "W2 -= lr * grad_W2\n",
        "\n",
        "# Forward again after update\n",
        "z1 = x @ W1\n",
        "a1 = np.maximum(0, z1)\n",
        "y_pred = a1 @ W2\n",
        "loss = np.mean((y_pred - y)**2)\n",
        "print(f\"Loss after: {loss:.4f}\")"
      ],
      "metadata": {
        "colab": {
          "base_uri": "https://localhost:8080/"
        },
        "id": "KibtTTzGyv4B",
        "outputId": "04135bc7-6b56-4d76-a3a3-8b0f9bc5ce35"
      },
      "execution_count": 2,
      "outputs": [
        {
          "output_type": "stream",
          "name": "stdout",
          "text": [
            "Loss before: 1.7328\n",
            "Loss after: 1.4521\n"
          ]
        }
      ]
    }
  ]
}