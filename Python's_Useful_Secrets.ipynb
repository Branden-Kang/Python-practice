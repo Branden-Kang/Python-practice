{
  "nbformat": 4,
  "nbformat_minor": 0,
  "metadata": {
    "colab": {
      "name": "Python's Useful Secrets.ipynb",
      "provenance": [],
      "authorship_tag": "ABX9TyOqxW4oA1fBasXKkajr/G+0"
    },
    "kernelspec": {
      "name": "python3",
      "display_name": "Python 3"
    },
    "language_info": {
      "name": "python"
    }
  },
  "cells": [
    {
      "cell_type": "code",
      "metadata": {
        "id": "PJRm-ZTOFWS2"
      },
      "source": [
        "import pandas as pd\n",
        "from datetime import datetime\n",
        "\n",
        "really_big_dataframe = pd.DataFrame(\n",
        "                              {'column':[\n",
        "                                    'line_1', \n",
        "                                    'line_2', \n",
        "                                    'line_3'\n",
        "                                      ]\n",
        "                                \n",
        "                              })"
      ],
      "execution_count": 5,
      "outputs": []
    },
    {
      "cell_type": "code",
      "metadata": {
        "id": "u1B2i1XzFftY"
      },
      "source": [
        "def add_date(function):\n",
        "  def __append__(dataframe):\n",
        "    df = function(dataframe)\n",
        "    df['updated_at'] = datetime.now()\n",
        "    return df\n",
        "  return __append__"
      ],
      "execution_count": 2,
      "outputs": []
    },
    {
      "cell_type": "code",
      "metadata": {
        "id": "nP-5AbEgFg9O"
      },
      "source": [
        "@add_date \n",
        "def test_etl(dataframe):\n",
        "  return dataframe"
      ],
      "execution_count": 3,
      "outputs": []
    },
    {
      "cell_type": "code",
      "metadata": {
        "colab": {
          "base_uri": "https://localhost:8080/"
        },
        "id": "nhj4Wcn-Fi2o",
        "outputId": "5a821f83-08b3-4f04-eab8-5c7c9ba99b8f"
      },
      "source": [
        "print(test_etl(really_big_dataframe))"
      ],
      "execution_count": 6,
      "outputs": [
        {
          "output_type": "stream",
          "name": "stdout",
          "text": [
            "   column                 updated_at\n",
            "0  line_1 2021-10-09 17:25:29.784576\n",
            "1  line_2 2021-10-09 17:25:29.784576\n",
            "2  line_3 2021-10-09 17:25:29.784576\n"
          ]
        }
      ]
    }
  ]
}