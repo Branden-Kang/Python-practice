{
  "nbformat": 4,
  "nbformat_minor": 0,
  "metadata": {
    "colab": {
      "provenance": [],
      "authorship_tag": "ABX9TyMtxYZPCRRzGiBiO7N4F5Zx"
    },
    "kernelspec": {
      "name": "python3",
      "display_name": "Python 3"
    },
    "language_info": {
      "name": "python"
    }
  },
  "cells": [
    {
      "cell_type": "markdown",
      "source": [
        "[Reference](https://towardsdatascience.com/why-you-should-handle-missing-data-and-heres-how-to-do-it-270c321a4d6f)"
      ],
      "metadata": {
        "id": "TK9a7j7-vUOC"
      }
    },
    {
      "cell_type": "code",
      "source": [
        "import pandas as pd\n",
        "import numpy as np"
      ],
      "metadata": {
        "id": "zrCKbq_HvegY"
      },
      "execution_count": 6,
      "outputs": []
    },
    {
      "cell_type": "markdown",
      "source": [
        "# #1 Keep the Missing Data\n"
      ],
      "metadata": {
        "id": "ZS-5nXdcvXg3"
      }
    },
    {
      "cell_type": "code",
      "execution_count": 7,
      "metadata": {
        "id": "Am4RaCGnu5vA"
      },
      "outputs": [],
      "source": [
        "def handle_missing_data(df):\n",
        "\n",
        "    return df"
      ]
    },
    {
      "cell_type": "code",
      "source": [
        "df = pd.DataFrame([[1, \"A\", 4], [2, np.nan, 7], [np.nan, np.nan, 5]], \n",
        "                  columns = [\"colA\", \"colB\", \"colC\"])\n",
        "\n",
        "print(df)\n",
        "\n",
        "df_new = handle_missing_data(df)\n",
        "\n",
        "print(df_new)"
      ],
      "metadata": {
        "colab": {
          "base_uri": "https://localhost:8080/"
        },
        "id": "7D0K4sD9vZAg",
        "outputId": "7508f736-39c3-42b1-85b4-2c6bffbba4d5"
      },
      "execution_count": 8,
      "outputs": [
        {
          "output_type": "stream",
          "name": "stdout",
          "text": [
            "   colA colB  colC\n",
            "0   1.0    A     4\n",
            "1   2.0  NaN     7\n",
            "2   NaN  NaN     5\n",
            "   colA colB  colC\n",
            "0   1.0    A     4\n",
            "1   2.0  NaN     7\n",
            "2   NaN  NaN     5\n"
          ]
        }
      ]
    },
    {
      "cell_type": "markdown",
      "source": [
        "# #2 Drop the Missing Data\n"
      ],
      "metadata": {
        "id": "GMi9PyWLviaA"
      }
    },
    {
      "cell_type": "code",
      "source": [
        "def handle_missing_data(df, axis = 0):\n",
        "\n",
        "    return df.dropna(axis = axis)"
      ],
      "metadata": {
        "id": "c0996O1ovbWw"
      },
      "execution_count": 9,
      "outputs": []
    },
    {
      "cell_type": "code",
      "source": [
        "df = pd.DataFrame([[1, \"A\", 4], [2, np.nan, 7], [np.nan, np.nan, 5]], \n",
        "                  columns = [\"colA\", \"colB\", \"colC\"])\n",
        "\n",
        "print(df)\n",
        "\n",
        "df_new = handle_missing_data(df)\n",
        "\n",
        "print(df_new)"
      ],
      "metadata": {
        "colab": {
          "base_uri": "https://localhost:8080/"
        },
        "id": "OSpvVkTrvlGY",
        "outputId": "8e356bad-7e68-4e47-c010-14c04ef85396"
      },
      "execution_count": 10,
      "outputs": [
        {
          "output_type": "stream",
          "name": "stdout",
          "text": [
            "   colA colB  colC\n",
            "0   1.0    A     4\n",
            "1   2.0  NaN     7\n",
            "2   NaN  NaN     5\n",
            "   colA colB  colC\n",
            "0   1.0    A     4\n"
          ]
        }
      ]
    },
    {
      "cell_type": "code",
      "source": [
        "df = pd.DataFrame([[1, \"A\", 4], [2, np.nan, 7], [np.nan, np.nan, 5]], \n",
        "                  columns = [\"colA\", \"colB\", \"colC\"])\n",
        "\n",
        "print(df)\n",
        "\n",
        "df_new = handle_missing_data(df, axis = 1)\n",
        "\n",
        "print(df_new)"
      ],
      "metadata": {
        "colab": {
          "base_uri": "https://localhost:8080/"
        },
        "id": "fonUsdZ7vlOg",
        "outputId": "e52ac454-92de-47a1-8b88-94c59b7912b9"
      },
      "execution_count": 11,
      "outputs": [
        {
          "output_type": "stream",
          "name": "stdout",
          "text": [
            "   colA colB  colC\n",
            "0   1.0    A     4\n",
            "1   2.0  NaN     7\n",
            "2   NaN  NaN     5\n",
            "   colC\n",
            "0     4\n",
            "1     7\n",
            "2     5\n"
          ]
        }
      ]
    },
    {
      "cell_type": "markdown",
      "source": [
        "# #3 Fill the Missing Data\n"
      ],
      "metadata": {
        "id": "Ax8uyL69vnVJ"
      }
    },
    {
      "cell_type": "code",
      "source": [
        "df = pd.DataFrame([[1, \"A\", 4], [2, np.nan, 7], [np.nan, np.nan, 5]], \n",
        "                  columns = [\"colA\", \"colB\", \"colC\"])\n",
        "\n",
        "print(df)\n",
        "\n",
        "df_new = df.fillna(df.mean())\n",
        "\n",
        "print(df_new)"
      ],
      "metadata": {
        "colab": {
          "base_uri": "https://localhost:8080/"
        },
        "id": "lAJQwr-OvmfJ",
        "outputId": "8cd9d36d-c0f6-45d4-f47f-e632ea701e60"
      },
      "execution_count": 12,
      "outputs": [
        {
          "output_type": "stream",
          "name": "stdout",
          "text": [
            "   colA colB  colC\n",
            "0   1.0    A     4\n",
            "1   2.0  NaN     7\n",
            "2   NaN  NaN     5\n",
            "   colA colB  colC\n",
            "0   1.0    A     4\n",
            "1   2.0  NaN     7\n",
            "2   1.5  NaN     5\n"
          ]
        },
        {
          "output_type": "stream",
          "name": "stderr",
          "text": [
            "/usr/local/lib/python3.7/dist-packages/ipykernel_launcher.py:6: FutureWarning: Dropping of nuisance columns in DataFrame reductions (with 'numeric_only=None') is deprecated; in a future version this will raise TypeError.  Select only valid columns before calling the reduction.\n",
            "  \n"
          ]
        }
      ]
    },
    {
      "cell_type": "code",
      "source": [
        "df = pd.DataFrame([[1, \"A\", 4], [2, np.nan, 7], [np.nan, np.nan, 5]], \n",
        "                  columns = [\"colA\", \"colB\", \"colC\"])\n",
        "\n",
        "print(df)\n",
        "\n",
        "df_new = df.fillna(df.median())\n",
        "\n",
        "print(df_new)"
      ],
      "metadata": {
        "colab": {
          "base_uri": "https://localhost:8080/"
        },
        "id": "g8vbqxQjvpB8",
        "outputId": "f2a8d7df-456e-493a-9d4f-f9155bacd780"
      },
      "execution_count": 13,
      "outputs": [
        {
          "output_type": "stream",
          "name": "stdout",
          "text": [
            "   colA colB  colC\n",
            "0   1.0    A     4\n",
            "1   2.0  NaN     7\n",
            "2   NaN  NaN     5\n",
            "   colA colB  colC\n",
            "0   1.0    A     4\n",
            "1   2.0  NaN     7\n",
            "2   1.5  NaN     5\n"
          ]
        },
        {
          "output_type": "stream",
          "name": "stderr",
          "text": [
            "/usr/local/lib/python3.7/dist-packages/ipykernel_launcher.py:6: FutureWarning: Dropping of nuisance columns in DataFrame reductions (with 'numeric_only=None') is deprecated; in a future version this will raise TypeError.  Select only valid columns before calling the reduction.\n",
            "  \n"
          ]
        }
      ]
    },
    {
      "cell_type": "code",
      "source": [
        "df = pd.DataFrame([[1, \"A\", 4], [2, np.nan, 7], [np.nan, np.nan, 5]], \n",
        "                  columns = [\"colA\", \"colB\", \"colC\"])\n",
        "\n",
        "print(df)\n",
        "\n",
        "df_new = df.fillna(df.mode().iloc[0])\n",
        "\n",
        "print(df_new)"
      ],
      "metadata": {
        "colab": {
          "base_uri": "https://localhost:8080/"
        },
        "id": "uqHJMD2-vqOr",
        "outputId": "da0484a9-aa04-490d-f4f8-da5995847197"
      },
      "execution_count": 14,
      "outputs": [
        {
          "output_type": "stream",
          "name": "stdout",
          "text": [
            "   colA colB  colC\n",
            "0   1.0    A     4\n",
            "1   2.0  NaN     7\n",
            "2   NaN  NaN     5\n",
            "   colA colB  colC\n",
            "0   1.0    A     4\n",
            "1   2.0    A     7\n",
            "2   1.0    A     5\n"
          ]
        }
      ]
    },
    {
      "cell_type": "code",
      "source": [
        "df = pd.DataFrame([[1, \"A\", 4], [2, np.nan, 7], [np.nan, np.nan, 5]], \n",
        "                  columns = [\"colA\", \"colB\", \"colC\"])\n",
        "\n",
        "print(df)\n",
        "\n",
        "df_new = df.fillna({\"colA\":df['colA'].mean(), \"colB\": df['colB'].mode().iloc[0]})\n",
        "\n",
        "print(df_new)"
      ],
      "metadata": {
        "colab": {
          "base_uri": "https://localhost:8080/"
        },
        "id": "cUVTMOicvrdy",
        "outputId": "8209c812-4abe-491f-fb8e-3fa6576a043e"
      },
      "execution_count": 15,
      "outputs": [
        {
          "output_type": "stream",
          "name": "stdout",
          "text": [
            "   colA colB  colC\n",
            "0   1.0    A     4\n",
            "1   2.0  NaN     7\n",
            "2   NaN  NaN     5\n",
            "   colA colB  colC\n",
            "0   1.0    A     4\n",
            "1   2.0    A     7\n",
            "2   1.5    A     5\n"
          ]
        }
      ]
    }
  ]
}