{
  "nbformat": 4,
  "nbformat_minor": 0,
  "metadata": {
    "colab": {
      "provenance": [],
      "authorship_tag": "ABX9TyO7mBYCix7ATzi2fpffQ9g0"
    },
    "kernelspec": {
      "name": "python3",
      "display_name": "Python 3"
    },
    "language_info": {
      "name": "python"
    }
  },
  "cells": [
    {
      "cell_type": "markdown",
      "source": [
        "[Reference](https://medium.com/@tubelwj/pandas-still-using-xlsx-or-csv-files-to-read-and-write-data-f68ca89c1d8a)"
      ],
      "metadata": {
        "id": "__Xsob1bNFrq"
      }
    },
    {
      "cell_type": "code",
      "execution_count": 1,
      "metadata": {
        "colab": {
          "base_uri": "https://localhost:8080/"
        },
        "id": "C9rClGWPM9zE",
        "outputId": "5aa77216-e15d-4a5f-b4c1-4adf9c87bcb1"
      },
      "outputs": [
        {
          "output_type": "stream",
          "name": "stdout",
          "text": [
            "Collecting faker\n",
            "  Downloading Faker-28.1.0-py3-none-any.whl.metadata (15 kB)\n",
            "Requirement already satisfied: python-dateutil>=2.4 in /usr/local/lib/python3.10/dist-packages (from faker) (2.8.2)\n",
            "Requirement already satisfied: six>=1.5 in /usr/local/lib/python3.10/dist-packages (from python-dateutil>=2.4->faker) (1.16.0)\n",
            "Downloading Faker-28.1.0-py3-none-any.whl (1.8 MB)\n",
            "\u001b[2K   \u001b[90m━━━━━━━━━━━━━━━━━━━━━━━━━━━━━━━━━━━━━━━━\u001b[0m \u001b[32m1.8/1.8 MB\u001b[0m \u001b[31m15.8 MB/s\u001b[0m eta \u001b[36m0:00:00\u001b[0m\n",
            "\u001b[?25hInstalling collected packages: faker\n",
            "Successfully installed faker-28.1.0\n"
          ]
        }
      ],
      "source": [
        "!pip install faker"
      ]
    },
    {
      "cell_type": "code",
      "source": [
        "from faker import Faker\n",
        "import pandas as pd\n",
        "import time\n",
        "\n",
        "fk=Faker('en-us')\n",
        "\n",
        "df=[]\n",
        "for i in range(500000):\n",
        "    record=dict(zip(['name','age','gender','address','phone','company'],[fk.name(),fk.random_int(25,60),fk.random_element(['male','female']),fk.address(),fk.phone_number(),fk.company()]))\n",
        "    df.append(record)\n",
        "\n",
        "df=pd.DataFrame(df)\n",
        "\n",
        "p1='.\\TestData.parquet'\n",
        "p2='.\\TestData.xlsx'\n",
        "p3='.\\TestData.csv'\n",
        "\n",
        "# measure reading time for data file\n",
        "start_time = time.time()\n",
        "\n",
        "df.assign(gender=lambda x: x.gender.astype('category')).to_parquet(p1)\n",
        "\n",
        "end_time = time.time()\n",
        "execution_time = end_time - start_time\n",
        "\n",
        "print(f\"Total execution for parquet file writing: {execution_time} seconds\")\n",
        "\n",
        "# measure writing time for data file\n",
        "start_time = time.time()\n",
        "\n",
        "df1 = pd.read_parquet(p1)\n",
        "\n",
        "end_time = time.time()\n",
        "execution_time = end_time - start_time\n",
        "\n",
        "print(f\"Total execution for parquet file reading: {execution_time} seconds\")"
      ],
      "metadata": {
        "colab": {
          "base_uri": "https://localhost:8080/"
        },
        "id": "3xhlxGrSNBMp",
        "outputId": "a2314fa6-76cf-493b-80fe-3e4d5ad0cd34"
      },
      "execution_count": 2,
      "outputs": [
        {
          "output_type": "stream",
          "name": "stdout",
          "text": [
            "Total execution for parquet file writing: 1.0450668334960938 seconds\n",
            "Total execution for parquet file reading: 0.8976089954376221 seconds\n"
          ]
        }
      ]
    }
  ]
}