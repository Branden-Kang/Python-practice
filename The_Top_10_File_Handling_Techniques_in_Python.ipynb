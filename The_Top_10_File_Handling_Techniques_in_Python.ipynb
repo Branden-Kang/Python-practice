{
  "nbformat": 4,
  "nbformat_minor": 0,
  "metadata": {
    "colab": {
      "name": "The Top 10 File Handling Techniques in Python.ipynb",
      "provenance": [],
      "authorship_tag": "ABX9TyNPIrTnN0517XHikcX9axKn"
    },
    "kernelspec": {
      "name": "python3",
      "display_name": "Python 3"
    }
  },
  "cells": [
    {
      "cell_type": "markdown",
      "metadata": {
        "id": "60ckk4y_vAN9"
      },
      "source": [
        "[Reference](https://medium.com/better-programming/the-top-10-file-handling-techniques-in-python-cf2330a16e7)"
      ]
    },
    {
      "cell_type": "markdown",
      "metadata": {
        "id": "rVDQEkpkvLGv"
      },
      "source": [
        "# 1. Show Current Directory"
      ]
    },
    {
      "cell_type": "code",
      "metadata": {
        "id": "OTEk6N-Vu-Dj",
        "outputId": "28da572c-4a31-4125-a5c7-1a7fdf6e2cc4",
        "colab": {
          "base_uri": "https://localhost:8080/",
          "height": 34
        }
      },
      "source": [
        "import os\n",
        "print(\"Current Work Directory:\", os.getcwd())"
      ],
      "execution_count": 1,
      "outputs": [
        {
          "output_type": "stream",
          "text": [
            "Current Work Directory: /content\n"
          ],
          "name": "stdout"
        }
      ]
    },
    {
      "cell_type": "code",
      "metadata": {
        "id": "UxDYgHRzvPHw",
        "outputId": "1a91b921-91f7-4188-d077-933abe987f90",
        "colab": {
          "base_uri": "https://localhost:8080/",
          "height": 34
        }
      },
      "source": [
        "from pathlib import Path\n",
        "print(\"Current Work Directory:\", Path.cwd())"
      ],
      "execution_count": 2,
      "outputs": [
        {
          "output_type": "stream",
          "text": [
            "Current Work Directory: /content\n"
          ],
          "name": "stdout"
        }
      ]
    },
    {
      "cell_type": "markdown",
      "metadata": {
        "id": "U8wreJAuv7qw"
      },
      "source": [
        "# 2. Make a New Directory"
      ]
    },
    {
      "cell_type": "code",
      "metadata": {
        "id": "GmFwuwkDvT0X"
      },
      "source": [
        "os.mkdir(\"test_folder\")\n",
        "print(\"Is the directory there:\", os.path.exists(\"test_folder\"))"
      ],
      "execution_count": 3,
      "outputs": []
    },
    {
      "cell_type": "code",
      "metadata": {
        "id": "DEi0xg3av_0u"
      },
      "source": [
        "os.makedirs('tmp_level0/tmp_level1')\n",
        "print(\"Is the directory there:\", os.path.exists(\"tmp_level0/tmp_level1\"))"
      ],
      "execution_count": 4,
      "outputs": []
    },
    {
      "cell_type": "code",
      "metadata": {
        "id": "PlCjZqc8wKyu"
      },
      "source": [
        "# Use the pathlib\n",
        "from pathlib import Path\n",
        "Path(\"test_folder\").mkdir(parents=True, exist_ok=True)"
      ],
      "execution_count": 5,
      "outputs": []
    },
    {
      "cell_type": "code",
      "metadata": {
        "id": "IdHtfHLtzcVU"
      },
      "source": [
        "from pathlib import Path\n",
        "Path(\"test_folder\").mkdir(parents=True, exist_ok=False)"
      ],
      "execution_count": 6,
      "outputs": []
    },
    {
      "cell_type": "markdown",
      "metadata": {
        "id": "Kx14-3eQzo49"
      },
      "source": [
        "# 3. Delete Directories and Files"
      ]
    },
    {
      "cell_type": "code",
      "metadata": {
        "id": "CaAJ0Tl7znAr"
      },
      "source": [
        "print(f\"* Before deleting file {os.path.isfile('tmp.txt')}\")\n",
        "os.remove('tmp.txt')\n",
        "print(f\"* After deleting file {os.path.exists('tmp.txt')}\")"
      ],
      "execution_count": 7,
      "outputs": []
    },
    {
      "cell_type": "code",
      "metadata": {
        "id": "kncHujqrzsrF"
      },
      "source": [
        "print(f\"* Before deleting file {os.path.isfile('tmp.txt')}\")\n",
        "os.rmdir('tmpfolder')\n",
        "print(f\"* After deleting file {os.path.exists('tmp.txt')}\")"
      ],
      "execution_count": 8,
      "outputs": []
    },
    {
      "cell_type": "markdown",
      "metadata": {
        "id": "c5INiVY1z57l"
      },
      "source": [
        "# 4. Get List of Files"
      ]
    },
    {
      "cell_type": "code",
      "metadata": {
        "id": "PLbT3v2wz5QF"
      },
      "source": [
        "from glob import glob\n",
        "txt_files = list(Path('.').glob(\"*.txt\"))\n",
        "print(\"Txt files:\", txt_files)"
      ],
      "execution_count": 9,
      "outputs": []
    },
    {
      "cell_type": "code",
      "metadata": {
        "id": "6UANnPDjz9B_"
      },
      "source": [
        "files = list(glob('h*'))\n",
        "print(\"Files starting with h:\", files)"
      ],
      "execution_count": 10,
      "outputs": []
    },
    {
      "cell_type": "markdown",
      "metadata": {
        "id": "i0pE9xFa0JMU"
      },
      "source": [
        "# 5. Move and Copy Files"
      ]
    },
    {
      "cell_type": "code",
      "metadata": {
        "id": "bIk_zcVn0Hpv"
      },
      "source": [
        "target_folder = Path(\"target_folder\")\n",
        "target_folder.mkdir(parents=True,exist_ok=True)\n",
        "source_folder = Path('.')\n",
        "txt_files = source_folder.glob('*.txt')\n",
        "for txt_file in txt_files:\n",
        "     filename = txt_file.name\n",
        "     target_path = target_folder.joinpath(filename)\n",
        "     print(f\"** Moving file {filename}\")\n",
        "     print(\"Target File Exists:\", target_path.exists())\n",
        "     txt_file.rename(target_path)\n",
        "     print(\"Target File Exists:\", target_path.exists(), '\\n')"
      ],
      "execution_count": 11,
      "outputs": []
    },
    {
      "cell_type": "code",
      "metadata": {
        "id": "PL-629LY0SK8"
      },
      "source": [
        "import shutil\n",
        "source_file = \"target_folder/hello.txt\"\n",
        "target_file = \"hello2.txt\"\n",
        "target_file_path = Path(target_file)\n",
        "print(\"* Before copying, file exists:\", target_file_path.exists())\n",
        "shutil.copy(source_file, target_file)\n",
        "print(\"* After copying, file exists:\", target_file_path.exists())"
      ],
      "execution_count": 12,
      "outputs": []
    },
    {
      "cell_type": "markdown",
      "metadata": {
        "id": "vbShPP6y0qOO"
      },
      "source": [
        "# 6. Check Directory/File"
      ]
    },
    {
      "cell_type": "code",
      "metadata": {
        "id": "X4k3P-zd0kRs",
        "outputId": "87c2b043-ede0-4ee4-97b4-d7d759265865",
        "colab": {
          "base_uri": "https://localhost:8080/",
          "height": 34
        }
      },
      "source": [
        "os.path.exists('path_to_check')\n",
        "Path('directory_path').exists()"
      ],
      "execution_count": 14,
      "outputs": [
        {
          "output_type": "execute_result",
          "data": {
            "text/plain": [
              "False"
            ]
          },
          "metadata": {
            "tags": []
          },
          "execution_count": 14
        }
      ]
    },
    {
      "cell_type": "code",
      "metadata": {
        "id": "rudW1QGg0t-g",
        "outputId": "a45e274c-6d6c-4fca-eac0-13bde5fdab2d",
        "colab": {
          "base_uri": "https://localhost:8080/",
          "height": 34
        }
      },
      "source": [
        "os.path.isdir('path_to_check')\n",
        "Path('path_to_check').is_dir()"
      ],
      "execution_count": 15,
      "outputs": [
        {
          "output_type": "execute_result",
          "data": {
            "text/plain": [
              "False"
            ]
          },
          "metadata": {
            "tags": []
          },
          "execution_count": 15
        }
      ]
    },
    {
      "cell_type": "code",
      "metadata": {
        "id": "0VXvl9vK1wr6",
        "outputId": "bdca617b-8628-4551-a130-ac769f2b98db",
        "colab": {
          "base_uri": "https://localhost:8080/",
          "height": 34
        }
      },
      "source": [
        "os.path.isfile('path_to_check')\n",
        "Path('path_to_check').is_file()"
      ],
      "execution_count": 16,
      "outputs": [
        {
          "output_type": "execute_result",
          "data": {
            "text/plain": [
              "False"
            ]
          },
          "metadata": {
            "tags": []
          },
          "execution_count": 16
        }
      ]
    },
    {
      "cell_type": "markdown",
      "metadata": {
        "id": "rjrpSU2Q1yuk"
      },
      "source": [
        "# 7. Get File Information"
      ]
    },
    {
      "cell_type": "code",
      "metadata": {
        "id": "qMvQR7Ky1xxG"
      },
      "source": [
        "for py_file in Path().glob('c*.py'):\n",
        "    print('Name with extension:', py_file.name)\n",
        "    print('Name only:', py_file.stem)"
      ],
      "execution_count": 17,
      "outputs": []
    },
    {
      "cell_type": "code",
      "metadata": {
        "id": "OglO6q3q14P9"
      },
      "source": [
        "file_path = Path('closures.py')\n",
        "print(\"File Extension:\", file_path.suffix)"
      ],
      "execution_count": 18,
      "outputs": []
    },
    {
      "cell_type": "code",
      "metadata": {
        "id": "m8LUhw6I17dI"
      },
      "source": [
        "current_file_path = Path('iterable_usages.py')\n",
        "file_stat = current_file_path.stat()\n",
        "print(\"File Size in Bytes:\", file_stat.st_size)\n",
        "print(\"When Most Recent Access:\", file_stat.st_atime)\n",
        "print(\"When Most Recent Modification:\", file_stat.st_mtime)"
      ],
      "execution_count": 20,
      "outputs": []
    },
    {
      "cell_type": "markdown",
      "metadata": {
        "id": "ri8-7ma72GJf"
      },
      "source": [
        "# 8. Read Files"
      ]
    },
    {
      "cell_type": "code",
      "metadata": {
        "id": "ir_qMwgh2EoS"
      },
      "source": [
        "with open(\"hello2.txt\", 'r') as file:\n",
        "    print(file.read())\n",
        "\n",
        "with open(\"hello2.txt\", 'r') as file:\n",
        "    for i, line in enumerate(file, 1):\n",
        "        print(f\"* Reading line #{i}: {line}\")"
      ],
      "execution_count": 21,
      "outputs": []
    },
    {
      "cell_type": "markdown",
      "metadata": {
        "id": "3B6t5CzF2WTt"
      },
      "source": [
        "# 9. Write Files"
      ]
    },
    {
      "cell_type": "code",
      "metadata": {
        "id": "ktGSpxwd2MYr"
      },
      "source": [
        "with open(\"hello3.txt\", 'w') as file:\n",
        "    text_to_write = \"Hello Files From Writing\"\n",
        "    file.write(text_to_write)\n",
        "\n",
        "with open(\"hello3.txt\", 'a') as file:\n",
        "    text_to_write = \"\\nHello Files From Writing\"\n",
        "    file.write(text_to_write)\n",
        "\n",
        "with open(\"hello3.txt\") as file:\n",
        "    print(file.read())"
      ],
      "execution_count": 22,
      "outputs": []
    },
    {
      "cell_type": "markdown",
      "metadata": {
        "id": "vDY0OOXQ2kKe"
      },
      "source": [
        "# 10. Zip and Unzip Files"
      ]
    },
    {
      "cell_type": "code",
      "metadata": {
        "id": "RJHR3UVF2hjV"
      },
      "source": [
        "from zipfile import ZipFile"
      ],
      "execution_count": 23,
      "outputs": []
    },
    {
      "cell_type": "code",
      "metadata": {
        "id": "TwrKb9BE2s80"
      },
      "source": [
        "with ZipFile('text_files.zip', 'w') as file:\n",
        "    for txt_file in Path().glob('*.txt'):\n",
        "        print(f\"*Add file: {txt_file.name} to the zip file\")\n",
        "        file.write(txt_file)"
      ],
      "execution_count": 24,
      "outputs": []
    },
    {
      "cell_type": "code",
      "metadata": {
        "id": "Qkv64nuP2-wK"
      },
      "source": [
        "with ZipFile('text_files.zip') as zip_file:\n",
        "    zip_file.printdir()\n",
        "    zip_file.extractall()"
      ],
      "execution_count": 25,
      "outputs": []
    }
  ]
}