{
  "nbformat": 4,
  "nbformat_minor": 0,
  "metadata": {
    "colab": {
      "name": "Python Walrus Operator.ipynb",
      "provenance": [],
      "authorship_tag": "ABX9TyOUrsB/IwuZ/QuOUezdbRKP"
    },
    "kernelspec": {
      "name": "python3",
      "display_name": "Python 3"
    }
  },
  "cells": [
    {
      "cell_type": "markdown",
      "metadata": {
        "id": "lHUO-CwpMT9j",
        "colab_type": "text"
      },
      "source": [
        "[Reference](https://towardsdatascience.com/the-walrus-operator-7971cd339d7d)"
      ]
    },
    {
      "cell_type": "code",
      "metadata": {
        "id": "Hx3IHPNeMSNK",
        "colab_type": "code",
        "colab": {
          "base_uri": "https://localhost:8080/",
          "height": 51
        },
        "outputId": "1d033592-d40c-4fdc-a0b0-a5fdf0aa5841"
      },
      "source": [
        "start = input(\"Do you want to start(y/n)?\")\n",
        "print(start == \"y\")"
      ],
      "execution_count": 1,
      "outputs": [
        {
          "output_type": "stream",
          "text": [
            "Do you want to start(y/n)?y\n",
            "True\n"
          ],
          "name": "stdout"
        }
      ]
    },
    {
      "cell_type": "code",
      "metadata": {
        "id": "TanDbVmyMiUo",
        "colab_type": "code",
        "colab": {
          "base_uri": "https://localhost:8080/",
          "height": 51
        },
        "outputId": "abcae06e-f87c-4437-f332-92eebb5cb296"
      },
      "source": [
        "print((start := input(\"Do you want to start(y/n)?\")) == \"y\")"
      ],
      "execution_count": 4,
      "outputs": [
        {
          "output_type": "stream",
          "text": [
            "Do you want to start(y/n)?y\n",
            "True\n"
          ],
          "name": "stdout"
        }
      ]
    },
    {
      "cell_type": "code",
      "metadata": {
        "id": "vym-XGxEMrLL",
        "colab_type": "code",
        "colab": {}
      },
      "source": [
        "if (sum := 10 + 5) > 10:\n",
        "    print(sum) #return 15 "
      ],
      "execution_count": 7,
      "outputs": []
    },
    {
      "cell_type": "code",
      "metadata": {
        "id": "imjlAaSnM4wC",
        "colab_type": "code",
        "colab": {}
      },
      "source": [
        "if sum := 10 + 5 > 10:\n",
        "    print(sum) #return True"
      ],
      "execution_count": 8,
      "outputs": []
    }
  ]
}