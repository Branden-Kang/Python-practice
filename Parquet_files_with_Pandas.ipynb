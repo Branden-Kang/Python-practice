{
  "nbformat": 4,
  "nbformat_minor": 0,
  "metadata": {
    "colab": {
      "name": "Parquet files with Pandas.ipynb",
      "provenance": [],
      "authorship_tag": "ABX9TyN0pMIn4OVhXlt+jFCs5b1C"
    },
    "kernelspec": {
      "name": "python3",
      "display_name": "Python 3"
    },
    "language_info": {
      "name": "python"
    }
  },
  "cells": [
    {
      "cell_type": "markdown",
      "metadata": {
        "id": "67nIYfASIBa7"
      },
      "source": [
        "[Reference](https://medium.com/productive-data-science/why-you-should-use-parquet-files-with-pandas-b0ca8cb14d71)"
      ]
    },
    {
      "cell_type": "code",
      "metadata": {
        "id": "Nl_b2zv5H-0R"
      },
      "source": [
        "import pyarrow as pq\n",
        "import pandas as pd\n",
        "\n",
        "df = pd.DataFrame({\"a\": [1, 2, 3],\n",
        "\"b\":[2.7,-1.2,5.4],\n",
        "\"c\": ['abc','xyz','pqr']})\n",
        "\n",
        "# Convert from pandas to Arrow\n",
        "table = pq.Table.from_pandas(df)\n",
        "\n",
        "# Convert back to pandas\n",
        "df_new = table.to_pandas()"
      ],
      "execution_count": 4,
      "outputs": []
    },
    {
      "cell_type": "code",
      "metadata": {
        "id": "h02qywUpIm4m"
      },
      "source": [
        "%%timeit -n5 -r10\n",
        "pqfile = pq.read_table(\"Large-parquet.zip\")\n",
        "df2 = pqfile.to_pandas()\n",
        "stats = df2.describe().T"
      ],
      "execution_count": 7,
      "outputs": []
    },
    {
      "cell_type": "code",
      "metadata": {
        "id": "MWfzdAMfIpv3"
      },
      "source": [
        "%%timeit -n5 -r10\n",
        "df2 = pd.read_csv(\"Large-data.csv\")\n",
        "stats = df2.describe().T"
      ],
      "execution_count": 8,
      "outputs": []
    }
  ]
}