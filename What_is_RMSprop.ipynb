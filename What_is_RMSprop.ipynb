{
  "nbformat": 4,
  "nbformat_minor": 0,
  "metadata": {
    "colab": {
      "provenance": [],
      "authorship_tag": "ABX9TyOK5F12WAQCCJZm06fxWkUV"
    },
    "kernelspec": {
      "name": "python3",
      "display_name": "Python 3"
    },
    "language_info": {
      "name": "python"
    }
  },
  "cells": [
    {
      "cell_type": "markdown",
      "source": [
        "[Reference](https://medium.com/thedeephub/what-is-rmsprop-0f54effc47e4)"
      ],
      "metadata": {
        "id": "iD2EjSDosOeC"
      }
    },
    {
      "cell_type": "code",
      "execution_count": 1,
      "metadata": {
        "id": "kjkGcUIEsJ86"
      },
      "outputs": [],
      "source": [
        "import tensorflow as tf\n",
        "from tensorflow import keras\n",
        "from tensorflow.keras.datasets import mnist\n",
        "from tensorflow.keras.models import Sequential\n",
        "from tensorflow.keras.layers import Dense\n",
        "from tensorflow.keras.optimizers import RMSprop, SGD"
      ]
    },
    {
      "cell_type": "code",
      "source": [
        "(x_train, y_train), (x_test, y_test) = mnist.load_data()\n",
        "\n",
        "x_train = x_train.reshape(-1, 28*28) / 255.0\n",
        "x_test = x_test.reshape(-1, 28*28) / 255.0\n",
        "\n",
        "y_train = keras.utils.to_categorical(y_train, 10)\n",
        "y_test = keras.utils.to_categorical(y_test, 10)"
      ],
      "metadata": {
        "colab": {
          "base_uri": "https://localhost:8080/"
        },
        "id": "-ag_u7o8si54",
        "outputId": "7391779e-0e46-4bc5-93fb-0ae6ca901ccf"
      },
      "execution_count": 2,
      "outputs": [
        {
          "output_type": "stream",
          "name": "stdout",
          "text": [
            "Downloading data from https://storage.googleapis.com/tensorflow/tf-keras-datasets/mnist.npz\n",
            "11490434/11490434 [==============================] - 0s 0us/step\n"
          ]
        }
      ]
    },
    {
      "cell_type": "code",
      "source": [
        "model = Sequential()\n",
        "model.add(Dense(512, activation='relu', input_shape=(28*28,)))\n",
        "model.add(Dense(512, activation='relu'))\n",
        "model.add(Dense(10, activation='softmax'))"
      ],
      "metadata": {
        "id": "QqfrgP2mskGQ"
      },
      "execution_count": 3,
      "outputs": []
    },
    {
      "cell_type": "code",
      "source": [
        "model.compile(loss='categorical_crossentropy',\n",
        "              optimizer=RMSprop(),\n",
        "              metrics=['accuracy'])"
      ],
      "metadata": {
        "id": "ssjRmRowsk6y"
      },
      "execution_count": 4,
      "outputs": []
    },
    {
      "cell_type": "code",
      "source": [
        "history = model.fit(x_train, y_train,\n",
        "                    batch_size=128,\n",
        "                    epochs=10,\n",
        "                    verbose=1,\n",
        "                    validation_data=(x_test, y_test))"
      ],
      "metadata": {
        "colab": {
          "base_uri": "https://localhost:8080/"
        },
        "id": "9nmoQMETsl-R",
        "outputId": "cf9005dc-59a5-4a88-bbb4-9e2717936a6d"
      },
      "execution_count": 5,
      "outputs": [
        {
          "output_type": "stream",
          "name": "stdout",
          "text": [
            "Epoch 1/10\n",
            "469/469 [==============================] - 15s 29ms/step - loss: 0.2302 - accuracy: 0.9283 - val_loss: 0.1352 - val_accuracy: 0.9574\n",
            "Epoch 2/10\n",
            "469/469 [==============================] - 8s 17ms/step - loss: 0.0840 - accuracy: 0.9740 - val_loss: 0.0932 - val_accuracy: 0.9696\n",
            "Epoch 3/10\n",
            "469/469 [==============================] - 7s 14ms/step - loss: 0.0528 - accuracy: 0.9839 - val_loss: 0.0792 - val_accuracy: 0.9748\n",
            "Epoch 4/10\n",
            "469/469 [==============================] - 8s 16ms/step - loss: 0.0363 - accuracy: 0.9884 - val_loss: 0.0820 - val_accuracy: 0.9754\n",
            "Epoch 5/10\n",
            "469/469 [==============================] - 7s 14ms/step - loss: 0.0269 - accuracy: 0.9912 - val_loss: 0.0722 - val_accuracy: 0.9791\n",
            "Epoch 6/10\n",
            "469/469 [==============================] - 8s 16ms/step - loss: 0.0190 - accuracy: 0.9938 - val_loss: 0.0699 - val_accuracy: 0.9814\n",
            "Epoch 7/10\n",
            "469/469 [==============================] - 6s 14ms/step - loss: 0.0160 - accuracy: 0.9947 - val_loss: 0.0670 - val_accuracy: 0.9830\n",
            "Epoch 8/10\n",
            "469/469 [==============================] - 7s 16ms/step - loss: 0.0111 - accuracy: 0.9966 - val_loss: 0.0786 - val_accuracy: 0.9820\n",
            "Epoch 9/10\n",
            "469/469 [==============================] - 6s 13ms/step - loss: 0.0101 - accuracy: 0.9971 - val_loss: 0.0766 - val_accuracy: 0.9818\n",
            "Epoch 10/10\n",
            "469/469 [==============================] - 7s 16ms/step - loss: 0.0067 - accuracy: 0.9977 - val_loss: 0.0889 - val_accuracy: 0.9820\n"
          ]
        }
      ]
    },
    {
      "cell_type": "code",
      "source": [
        "model_sgd = Sequential()\n",
        "model_sgd.add(Dense(512, activation='relu', input_shape=(28*28,)))\n",
        "model_sgd.add(Dense(512, activation='relu'))\n",
        "model_sgd.add(Dense(10, activation='softmax'))\n",
        "\n",
        "model_sgd.compile(loss='categorical_crossentropy',\n",
        "                  optimizer=SGD(),\n",
        "                  metrics=['accuracy'])\n",
        "\n",
        "history_sgd = model_sgd.fit(x_train, y_train,\n",
        "                            batch_size=128,\n",
        "                            epochs=10,\n",
        "                            verbose=1,\n",
        "                            validation_data=(x_test, y_test))"
      ],
      "metadata": {
        "colab": {
          "base_uri": "https://localhost:8080/"
        },
        "id": "BlwRR9khsm3U",
        "outputId": "22b9b06a-4eb4-4cf9-fc6a-f8af8f6ae1e3"
      },
      "execution_count": 6,
      "outputs": [
        {
          "output_type": "stream",
          "name": "stdout",
          "text": [
            "Epoch 1/10\n",
            "469/469 [==============================] - 7s 14ms/step - loss: 1.0957 - accuracy: 0.7611 - val_loss: 0.5155 - val_accuracy: 0.8781\n",
            "Epoch 2/10\n",
            "469/469 [==============================] - 6s 12ms/step - loss: 0.4481 - accuracy: 0.8830 - val_loss: 0.3675 - val_accuracy: 0.8989\n",
            "Epoch 3/10\n",
            "469/469 [==============================] - 6s 13ms/step - loss: 0.3593 - accuracy: 0.9013 - val_loss: 0.3178 - val_accuracy: 0.9085\n",
            "Epoch 4/10\n",
            "469/469 [==============================] - 6s 13ms/step - loss: 0.3195 - accuracy: 0.9103 - val_loss: 0.2904 - val_accuracy: 0.9173\n",
            "Epoch 5/10\n",
            "469/469 [==============================] - 6s 12ms/step - loss: 0.2938 - accuracy: 0.9170 - val_loss: 0.2732 - val_accuracy: 0.9248\n",
            "Epoch 6/10\n",
            "469/469 [==============================] - 6s 14ms/step - loss: 0.2745 - accuracy: 0.9218 - val_loss: 0.2577 - val_accuracy: 0.9285\n",
            "Epoch 7/10\n",
            "469/469 [==============================] - 6s 12ms/step - loss: 0.2588 - accuracy: 0.9270 - val_loss: 0.2441 - val_accuracy: 0.9329\n",
            "Epoch 8/10\n",
            "469/469 [==============================] - 7s 14ms/step - loss: 0.2450 - accuracy: 0.9303 - val_loss: 0.2314 - val_accuracy: 0.9358\n",
            "Epoch 9/10\n",
            "469/469 [==============================] - 6s 12ms/step - loss: 0.2333 - accuracy: 0.9335 - val_loss: 0.2221 - val_accuracy: 0.9385\n",
            "Epoch 10/10\n",
            "469/469 [==============================] - 7s 15ms/step - loss: 0.2225 - accuracy: 0.9374 - val_loss: 0.2122 - val_accuracy: 0.9389\n"
          ]
        }
      ]
    },
    {
      "cell_type": "code",
      "source": [
        "print(\"RMSprop:\")\n",
        "print(\"Test loss:\", history.history['val_loss'][-1])\n",
        "print(\"Test accuracy:\", history.history['val_accuracy'][-1])\n",
        "\n",
        "print(\"\\nVanilla Gradient Descent:\")\n",
        "print(\"Test loss:\", history_sgd.history['val_loss'][-1])\n",
        "print(\"Test accuracy:\", history_sgd.history['val_accuracy'][-1])"
      ],
      "metadata": {
        "colab": {
          "base_uri": "https://localhost:8080/"
        },
        "id": "9B64nsb1soij",
        "outputId": "e1eef378-a2e6-4026-ce77-83bd587c6560"
      },
      "execution_count": 7,
      "outputs": [
        {
          "output_type": "stream",
          "name": "stdout",
          "text": [
            "RMSprop:\n",
            "Test loss: 0.08889778703451157\n",
            "Test accuracy: 0.9819999933242798\n",
            "\n",
            "Vanilla Gradient Descent:\n",
            "Test loss: 0.21215946972370148\n",
            "Test accuracy: 0.9388999938964844\n"
          ]
        }
      ]
    }
  ]
}