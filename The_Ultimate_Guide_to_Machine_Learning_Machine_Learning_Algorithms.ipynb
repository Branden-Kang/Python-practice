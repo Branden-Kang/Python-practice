{
  "nbformat": 4,
  "nbformat_minor": 0,
  "metadata": {
    "colab": {
      "provenance": [],
      "authorship_tag": "ABX9TyPIhXNvxxFYhfKgk4gGkrLO"
    },
    "kernelspec": {
      "name": "python3",
      "display_name": "Python 3"
    },
    "language_info": {
      "name": "python"
    }
  },
  "cells": [
    {
      "cell_type": "markdown",
      "source": [
        "[Reference](https://medium.com/@simranjeetsingh1497/the-ultimate-guide-to-machine-learning-machine-learning-algorithms-part-4-597fbf8bd5dd)"
      ],
      "metadata": {
        "id": "xC4M0Y-E4q7y"
      }
    },
    {
      "cell_type": "markdown",
      "source": [
        "# Regression Algorithms\n",
        "## Linear Regression\n",
        "```\n",
        "y = β0 + β1*x + ε\n",
        "```"
      ],
      "metadata": {
        "id": "eYFA4G5s43FB"
      }
    },
    {
      "cell_type": "code",
      "execution_count": 23,
      "metadata": {
        "colab": {
          "base_uri": "https://localhost:8080/"
        },
        "id": "Z6S_LUTR4pNX",
        "outputId": "2f347d16-6d36-4f78-869a-cf7f214efbe7"
      },
      "outputs": [
        {
          "output_type": "stream",
          "name": "stdout",
          "text": [
            "[5.94]\n"
          ]
        }
      ],
      "source": [
        "from sklearn.linear_model import LinearRegression\n",
        "import numpy as np\n",
        "\n",
        "# Define the input and output data\n",
        "X = np.array([1, 2, 3, 4, 5]).reshape(-1, 1)\n",
        "y = np.array([1.2, 2.2, 2.8, 4.0, 5.1])\n",
        "\n",
        "# Train the linear regression model\n",
        "reg = LinearRegression().fit(X, y)\n",
        "\n",
        "# Predict the output for a new input\n",
        "new_X = np.array([6]).reshape(-1, 1)\n",
        "print(reg.predict(new_X))"
      ]
    },
    {
      "cell_type": "markdown",
      "source": [
        "## Polynomial Regression"
      ],
      "metadata": {
        "id": "5bOPxswi5Cvh"
      }
    },
    {
      "cell_type": "code",
      "source": [
        "from sklearn.linear_model import LinearRegression\n",
        "from sklearn.preprocessing import PolynomialFeatures\n",
        "import numpy as np\n",
        "\n",
        "# Define the input and output data\n",
        "X = np.array([1, 2, 3, 4, 5]).reshape(-1, 1)\n",
        "y = np.array([1.2, 2.2, 2.8, 4.0, 5.1])\n",
        "\n",
        "# Transform the input data into polynomial features\n",
        "poly = PolynomialFeatures(degree=2)\n",
        "X_poly = poly.fit_transform(X)\n",
        "\n",
        "# Train the polynomial regression model\n",
        "reg = LinearRegression().fit(X_poly, y)\n",
        "\n",
        "# Predict the output for a new input\n",
        "new_X = np.array([6]).reshape(-1, 1)\n",
        "new_X_poly = poly.transform(new_X)\n",
        "print(reg.predict(new_X_poly))"
      ],
      "metadata": {
        "colab": {
          "base_uri": "https://localhost:8080/"
        },
        "id": "Wpj3X0gm4-Vn",
        "outputId": "930655bc-7c5d-4068-ae13-7d0e8aef71e4"
      },
      "execution_count": 24,
      "outputs": [
        {
          "output_type": "stream",
          "name": "stdout",
          "text": [
            "[6.34]\n"
          ]
        }
      ]
    },
    {
      "cell_type": "markdown",
      "source": [
        "## Ridge Regression"
      ],
      "metadata": {
        "id": "vAIeFmYv5H0i"
      }
    },
    {
      "cell_type": "code",
      "source": [
        "import numpy as np\n",
        "from sklearn.linear_model import Ridge\n",
        "\n",
        "# Generate random data for house sizes and prices\n",
        "X = np.random.rand(100, 1) * 10\n",
        "y = 1 + 2*X + np.random.rand(100, 1)\n",
        "\n",
        "# Fit the ridge regression model\n",
        "ridge = Ridge(alpha=1)\n",
        "ridge.fit(X, y)\n",
        "\n",
        "# Predict the price of a house with size 5\n",
        "size = np.array([[5]])\n",
        "price = ridge.predict(size)\n",
        "\n",
        "print(\"Predicted price:\", price)"
      ],
      "metadata": {
        "colab": {
          "base_uri": "https://localhost:8080/"
        },
        "id": "LtorLVdb5FNq",
        "outputId": "1af2843f-e83a-411c-f1d4-3ecc9b441cca"
      },
      "execution_count": 25,
      "outputs": [
        {
          "output_type": "stream",
          "name": "stdout",
          "text": [
            "Predicted price: [[11.47737243]]\n"
          ]
        }
      ]
    },
    {
      "cell_type": "markdown",
      "source": [
        "## Lasso Regression"
      ],
      "metadata": {
        "id": "faGf4wEx5bR9"
      }
    },
    {
      "cell_type": "code",
      "source": [
        "# from sklearn.linear_model import Lasso\n",
        "# from sklearn.datasets import load_boston\n",
        "# from sklearn.model_selection import train_test_split\n",
        "# from sklearn.metrics import mean_squared_error\n",
        "\n",
        "# # Load the Boston housing dataset\n",
        "# boston = load_boston()\n",
        "\n",
        "# # Split the data into training and test sets\n",
        "# X_train, X_test, y_train, y_test = train_test_split(boston.data, boston.target, test_size=0.2, random_state=42)\n",
        "\n",
        "# # Fit a Lasso regression model\n",
        "# lasso = Lasso(alpha=0.1)\n",
        "# lasso.fit(X_train, y_train)\n",
        "\n",
        "# # Make predictions on the test set\n",
        "# y_pred = lasso.predict(X_test)\n",
        "\n",
        "# # Calculate the mean squared error\n",
        "# mse = mean_squared_error(y_test, y_pred)\n",
        "# print(\"Mean Squared Error:\", mse)"
      ],
      "metadata": {
        "id": "gYX4Z_jp5Vhl"
      },
      "execution_count": 26,
      "outputs": []
    },
    {
      "cell_type": "markdown",
      "source": [
        "## Elastic Net Regression"
      ],
      "metadata": {
        "id": "_4JqqCH25lJV"
      }
    },
    {
      "cell_type": "code",
      "source": [
        "# from sklearn.linear_model import ElasticNet\n",
        "# from sklearn.datasets import load_boston\n",
        "# from sklearn.model_selection import train_test_split\n",
        "# from sklearn.metrics import mean_squared_error\n",
        "\n",
        "# # Load the Boston housing dataset\n",
        "# boston = load_boston()\n",
        "\n",
        "# # Split the data into training and test sets\n",
        "# X_train, X_test, y_train, y_test = train_test_split(boston.data, boston.target, test_size=0.2, random_state=42)\n",
        "\n",
        "# # Fit an Elastic Net regression model\n",
        "# enet = ElasticNet(alpha=0.1, l1_ratio=0.5)\n",
        "# enet.fit(X_train, y_train)\n",
        "\n",
        "# # Make predictions on the test set\n",
        "# y_pred = enet.predict(X_test)\n",
        "\n",
        "# # Calculate the mean squared error\n",
        "# mse = mean_squared_error(y_test, y_pred)\n",
        "# print(\"Mean Squared Error:\", mse)"
      ],
      "metadata": {
        "id": "Vvf_-tNN5d_o"
      },
      "execution_count": 27,
      "outputs": []
    },
    {
      "cell_type": "markdown",
      "source": [
        "## Decision Tree Regression"
      ],
      "metadata": {
        "id": "NIiMTR3X5o7p"
      }
    },
    {
      "cell_type": "code",
      "source": [
        "import numpy as np\n",
        "import matplotlib.pyplot as plt\n",
        "from sklearn.tree import DecisionTreeRegressor\n",
        "\n",
        "# Generate random data\n",
        "np.random.seed(0)\n",
        "n_samples = 100\n",
        "X = np.sort(np.random.rand(n_samples, 1), axis=0)\n",
        "y = np.sin(2 * np.pi * X).ravel()\n",
        "y += 0.1 * np.random.randn(n_samples)\n",
        "\n",
        "# Fit the model\n",
        "regr = DecisionTreeRegressor(max_depth=2)\n",
        "regr.fit(X, y)\n",
        "\n",
        "# Predict\n",
        "X_test = np.arange(0.0, 1.0, 0.01)[:, np.newaxis]\n",
        "y_test = regr.predict(X_test)\n",
        "\n",
        "# Plot the results\n",
        "plt.figure()\n",
        "plt.scatter(X, y, s=20, edgecolor=\"black\", c=\"darkorange\", label=\"data\")\n",
        "plt.plot(X_test, y_test, color=\"cornflowerblue\", label=\"max_depth=2\", linewidth=2)\n",
        "plt.xlabel(\"data\")\n",
        "plt.ylabel(\"target\")\n",
        "plt.title(\"Decision Tree Regression\")\n",
        "plt.legend()\n",
        "plt.show()"
      ],
      "metadata": {
        "colab": {
          "base_uri": "https://localhost:8080/",
          "height": 472
        },
        "id": "M5K1QAZy5m9v",
        "outputId": "ff4ab199-c024-4606-f54c-9b7c68716799"
      },
      "execution_count": 28,
      "outputs": [
        {
          "output_type": "display_data",
          "data": {
            "text/plain": [
              "<Figure size 640x480 with 1 Axes>"
            ],
            "image/png": "[encoded data removed]"
          },
          "metadata": {}
        }
      ]
    },
    {
      "cell_type": "markdown",
      "source": [
        "## Random Forest Regression"
      ],
      "metadata": {
        "id": "c5odU9sx5zOa"
      }
    },
    {
      "cell_type": "code",
      "source": [
        "from sklearn.ensemble import RandomForestRegressor\n",
        "from sklearn.datasets import make_regression\n",
        "\n",
        "# Create a random dataset\n",
        "X, y = make_regression(n_features=4, n_informative=2,\n",
        "                       random_state=0, shuffle=False)\n",
        "\n",
        "# Initialize the model\n",
        "reg = RandomForestRegressor(max_depth=2, random_state=0)\n",
        "\n",
        "# Train the model\n",
        "reg.fit(X, y)\n",
        "\n",
        "# Make a prediction\n",
        "X_test = [[0, 0, 0, 0]]\n",
        "print(reg.predict(X_test))"
      ],
      "metadata": {
        "colab": {
          "base_uri": "https://localhost:8080/"
        },
        "id": "X52og5WF5rBX",
        "outputId": "a8d77d70-4edd-4e40-a68e-c2788867a148"
      },
      "execution_count": 29,
      "outputs": [
        {
          "output_type": "stream",
          "name": "stdout",
          "text": [
            "[-8.32987858]\n"
          ]
        }
      ]
    },
    {
      "cell_type": "markdown",
      "source": [
        "##  Gradient Boosting Regression"
      ],
      "metadata": {
        "id": "KY0RMaOW53Ki"
      }
    },
    {
      "cell_type": "code",
      "source": [
        "from sklearn.ensemble import GradientBoostingRegressor\n",
        "from sklearn.datasets import make_regression\n",
        "\n",
        "# Create a random dataset\n",
        "X, y = make_regression(n_features=4, n_informative=2,\n",
        "                       random_state=0, shuffle=False)\n",
        "\n",
        "# Initialize the model\n",
        "reg = GradientBoostingRegressor(random_state=0)\n",
        "\n",
        "# Train the model\n",
        "reg.fit(X, y)\n",
        "\n",
        "# Make a prediction\n",
        "X_test = [[0, 0, 0, 0]]\n",
        "print(reg.predict(X_test))"
      ],
      "metadata": {
        "colab": {
          "base_uri": "https://localhost:8080/"
        },
        "id": "RAyhuvRb50xU",
        "outputId": "abf229c2-9b76-4bc3-c5dd-64a8c787f583"
      },
      "execution_count": 30,
      "outputs": [
        {
          "output_type": "stream",
          "name": "stdout",
          "text": [
            "[-2.56131415]\n"
          ]
        }
      ]
    },
    {
      "cell_type": "markdown",
      "source": [
        "## Support Vector Regression"
      ],
      "metadata": {
        "id": "bV73ynHt57kg"
      }
    },
    {
      "cell_type": "code",
      "source": [
        "from sklearn.svm import SVR\n",
        "from sklearn.datasets import make_regression\n",
        "\n",
        "# Create a random dataset\n",
        "X, y = make_regression(n_features=4, n_informative=2,\n",
        "                       random_state=0, shuffle=False)\n",
        "\n",
        "# Initialize the model\n",
        "reg = SVR()\n",
        "\n",
        "# Train the model\n",
        "reg.fit(X, y)\n",
        "\n",
        "# Make a prediction\n",
        "X_test = [[0, 0, 0, 0]]\n",
        "print(reg.predict(X_test))"
      ],
      "metadata": {
        "colab": {
          "base_uri": "https://localhost:8080/"
        },
        "id": "sOLpE9rn544K",
        "outputId": "c03ec17f-3dbf-4f0a-cf4e-5ffff963cbc8"
      },
      "execution_count": 31,
      "outputs": [
        {
          "output_type": "stream",
          "name": "stdout",
          "text": [
            "[-4.68974912]\n"
          ]
        }
      ]
    },
    {
      "cell_type": "markdown",
      "source": [
        "# Classification Algorithms\n",
        "## Logistic Regression"
      ],
      "metadata": {
        "id": "Q-ThK1lL6BGQ"
      }
    },
    {
      "cell_type": "code",
      "source": [
        "from sklearn.linear_model import LogisticRegression\n",
        "from sklearn.datasets import load_iris\n",
        "from sklearn.model_selection import train_test_split\n",
        "\n",
        "iris = load_iris()\n",
        "X_train, X_test, y_train, y_test = train_test_split(iris.data, iris.target, test_size=0.3, random_state=0)\n",
        "\n",
        "logreg = LogisticRegression()\n",
        "logreg.fit(X_train, y_train)\n",
        "\n",
        "y_pred = logreg.predict(X_test)"
      ],
      "metadata": {
        "id": "i-nECQ8D5-R9"
      },
      "execution_count": 32,
      "outputs": []
    },
    {
      "cell_type": "markdown",
      "source": [
        "## k-Nearest Neighbors (k-NN)"
      ],
      "metadata": {
        "id": "Qf5WFyHF6MJO"
      }
    },
    {
      "cell_type": "code",
      "source": [
        "from sklearn.neighbors import KNeighborsClassifier\n",
        "from sklearn.datasets import load_iris\n",
        "from sklearn.model_selection import train_test_split\n",
        "\n",
        "iris = load_iris()\n",
        "X_train, X_test, y_train, y_test = train_test_split(iris.data, iris.target, test_size=0.3, random_state=0)\n",
        "\n",
        "knn = KNeighborsClassifier(n_neighbors=3)\n",
        "knn.fit(X_train, y_train)\n",
        "\n",
        "y_pred = knn.predict(X_test)"
      ],
      "metadata": {
        "id": "YyNX1oPU6IoX"
      },
      "execution_count": 33,
      "outputs": []
    },
    {
      "cell_type": "markdown",
      "source": [
        "## Naive Bayes Classification"
      ],
      "metadata": {
        "id": "-U_CbvFQ6P__"
      }
    },
    {
      "cell_type": "code",
      "source": [
        "from sklearn.naive_bayes import GaussianNB\n",
        "from sklearn.datasets import load_iris\n",
        "from sklearn.model_selection import train_test_split\n",
        "\n",
        "iris = load_iris()\n",
        "X_train, X_test, y_train, y_test = train_test_split(iris.data, iris.target, test_size=0.3, random_state=0)\n",
        "\n",
        "nb = GaussianNB()\n",
        "nb.fit(X_train, y_train)\n",
        "\n",
        "y_pred = nb.predict(X_test)"
      ],
      "metadata": {
        "id": "vcU65wS36NvQ"
      },
      "execution_count": 34,
      "outputs": []
    },
    {
      "cell_type": "markdown",
      "source": [
        "## Decision Tree Classification"
      ],
      "metadata": {
        "id": "tnrrZUdP6hcj"
      }
    },
    {
      "cell_type": "code",
      "source": [
        "from sklearn.tree import DecisionTreeClassifier\n",
        "from sklearn.datasets import load_iris\n",
        "from sklearn.model_selection import train_test_split\n",
        "from sklearn.metrics import accuracy_score\n",
        "\n",
        "# Load the iris dataset\n",
        "iris = load_iris()\n",
        "\n",
        "# Split the dataset into training and testing sets\n",
        "X_train, X_test, y_train, y_test = train_test_split(iris.data, iris.target, test_size=0.3, random_state=42)\n",
        "\n",
        "# Create the decision tree classifier\n",
        "clf = DecisionTreeClassifier()\n",
        "\n",
        "# Fit the classifier to the training data\n",
        "clf.fit(X_train, y_train)\n",
        "\n",
        "# Predict the classes of the testing data\n",
        "y_pred = clf.predict(X_test)\n",
        "\n",
        "# Calculate the accuracy of the classifier\n",
        "accuracy = accuracy_score(y_test, y_pred)\n",
        "\n",
        "print(\"Accuracy:\", accuracy)"
      ],
      "metadata": {
        "colab": {
          "base_uri": "https://localhost:8080/"
        },
        "id": "U9AkyJpT6UT5",
        "outputId": "4d015c62-519c-439b-dea6-07bbed859323"
      },
      "execution_count": 35,
      "outputs": [
        {
          "output_type": "stream",
          "name": "stdout",
          "text": [
            "Accuracy: 1.0\n"
          ]
        }
      ]
    },
    {
      "cell_type": "markdown",
      "source": [
        "## Random Forest Classification"
      ],
      "metadata": {
        "id": "OBdunw6P6uVQ"
      }
    },
    {
      "cell_type": "code",
      "source": [
        "from sklearn.ensemble import RandomForestClassifier\n",
        "from sklearn.datasets import make_classification\n",
        "\n",
        "X, y = make_classification(n_samples=1000, n_features=4, n_informative=2, n_redundant=0, random_state=0, shuffle=False)\n",
        "\n",
        "clf = RandomForestClassifier(max_depth=2, random_state=0)\n",
        "clf.fit(X, y)\n",
        "\n",
        "print(clf.predict([[0, 0, 0, 0]]))"
      ],
      "metadata": {
        "colab": {
          "base_uri": "https://localhost:8080/"
        },
        "id": "LOZQqqkG6kFO",
        "outputId": "857f0d85-3a80-4019-dd53-2ad7c99c1ef9"
      },
      "execution_count": 36,
      "outputs": [
        {
          "output_type": "stream",
          "name": "stdout",
          "text": [
            "[1]\n"
          ]
        }
      ]
    },
    {
      "cell_type": "markdown",
      "source": [
        "## Gradient Boosting Classification"
      ],
      "metadata": {
        "id": "865B8JQE60_V"
      }
    },
    {
      "cell_type": "code",
      "source": [
        "import xgboost as xgb\n",
        "from sklearn.datasets import make_classification\n",
        "\n",
        "X, y = make_classification(n_samples=1000, n_features=4, n_informative=2, n_redundant=0, random_state=0, shuffle=False)\n",
        "\n",
        "dtrain = xgb.DMatrix(X, label=y)\n",
        "param = {'max_depth': 2, 'eta': 1, 'objective': 'binary:logistic'}\n",
        "num_round = 2\n",
        "\n",
        "bst = xgb.train(param, dtrain, num_round)\n",
        "bst.predict(xgb.DMatrix([[0, 0, 0, 0]]))"
      ],
      "metadata": {
        "colab": {
          "base_uri": "https://localhost:8080/"
        },
        "id": "qKEdXvmO6xsu",
        "outputId": "a30c04b2-4106-4c7c-d601-0f8b3a252dba"
      },
      "execution_count": 37,
      "outputs": [
        {
          "output_type": "execute_result",
          "data": {
            "text/plain": [
              "array([0.94694567], dtype=float32)"
            ]
          },
          "metadata": {},
          "execution_count": 37
        }
      ]
    },
    {
      "cell_type": "markdown",
      "source": [
        "## Support Vector Machine (SVM)"
      ],
      "metadata": {
        "id": "wpbpsMe97Dtc"
      }
    },
    {
      "cell_type": "code",
      "source": [
        "from sklearn import svm\n",
        "from sklearn.datasets import make_classification\n",
        "\n",
        "X, y = make_classification(n_samples=1000, n_features=4, n_informative=2, n_redundant=0, random_state=0, shuffle=False)\n",
        "\n",
        "clf = svm.SVC(kernel='linear', C=1, gamma='auto')\n",
        "clf.fit(X, y)\n",
        "\n",
        "print(clf.predict([[0, 0, 0, 0]]))"
      ],
      "metadata": {
        "colab": {
          "base_uri": "https://localhost:8080/"
        },
        "id": "8YW1NrA1664r",
        "outputId": "24fb3391-7224-44da-9570-9c693460493b"
      },
      "execution_count": 38,
      "outputs": [
        {
          "output_type": "stream",
          "name": "stdout",
          "text": [
            "[1]\n"
          ]
        }
      ]
    },
    {
      "cell_type": "markdown",
      "source": [
        "## Artificial Neural Networks (ANNs)"
      ],
      "metadata": {
        "id": "Lnrm5bdh7NlO"
      }
    },
    {
      "cell_type": "code",
      "source": [
        "import tensorflow as tf\n",
        "\n",
        "# Load the MNIST dataset\n",
        "mnist = tf.keras.datasets.mnist\n",
        "(x_train, y_train), (x_test, y_test) = mnist.load_data()\n",
        "\n",
        "# Normalize the input data\n",
        "x_train, x_test = x_train / 255.0, x_test / 255.0\n",
        "\n",
        "# Build the neural network model\n",
        "model = tf.keras.models.Sequential([\n",
        "  tf.keras.layers.Flatten(input_shape=(28, 28)),\n",
        "  tf.keras.layers.Dense(128, activation='relu'),\n",
        "  tf.keras.layers.Dropout(0.2),\n",
        "  tf.keras.layers.Dense(10, activation='softmax')\n",
        "])\n",
        "\n",
        "# Compile the model\n",
        "model.compile(optimizer='adam',\n",
        "              loss='sparse_categorical_crossentropy',\n",
        "              metrics=['accuracy'])\n",
        "\n",
        "# Train the model\n",
        "model.fit(x_train, y_train, epochs=5)\n",
        "\n",
        "# Evaluate the model on the test data\n",
        "model.evaluate(x_test, y_test)"
      ],
      "metadata": {
        "colab": {
          "base_uri": "https://localhost:8080/"
        },
        "id": "qFmB_j0y7FgN",
        "outputId": "16132c69-bdf1-43f0-de59-4f755d6947a8"
      },
      "execution_count": 39,
      "outputs": [
        {
          "output_type": "stream",
          "name": "stdout",
          "text": [
            "Epoch 1/5\n",
            "1875/1875 [==============================] - 15s 8ms/step - loss: 0.3043 - accuracy: 0.9108\n",
            "Epoch 2/5\n",
            "1875/1875 [==============================] - 17s 9ms/step - loss: 0.1494 - accuracy: 0.9560\n",
            "Epoch 3/5\n",
            "1875/1875 [==============================] - 16s 9ms/step - loss: 0.1113 - accuracy: 0.9671\n",
            "Epoch 4/5\n",
            "1875/1875 [==============================] - 11s 6ms/step - loss: 0.0925 - accuracy: 0.9715\n",
            "Epoch 5/5\n",
            "1875/1875 [==============================] - 7s 4ms/step - loss: 0.0799 - accuracy: 0.9749\n",
            "313/313 [==============================] - 1s 2ms/step - loss: 0.0756 - accuracy: 0.9761\n"
          ]
        },
        {
          "output_type": "execute_result",
          "data": {
            "text/plain": [
              "[0.0756412148475647, 0.9761000275611877]"
            ]
          },
          "metadata": {},
          "execution_count": 39
        }
      ]
    },
    {
      "cell_type": "markdown",
      "source": [
        "# Clustering Algorithms\n",
        "## k-Means Clustering"
      ],
      "metadata": {
        "id": "SWyT69hV7Yeo"
      }
    },
    {
      "cell_type": "code",
      "source": [
        "from sklearn.cluster import KMeans\n",
        "\n",
        "kmeans = KMeans(n_clusters=3, random_state=0)\n",
        "kmeans.fit(X)\n",
        "labels = kmeans.predict(X)"
      ],
      "metadata": {
        "colab": {
          "base_uri": "https://localhost:8080/"
        },
        "id": "M2PGTU3g7P1T",
        "outputId": "f17c5423-d3ef-4c2a-9828-ef4156dfab22"
      },
      "execution_count": 40,
      "outputs": [
        {
          "output_type": "stream",
          "name": "stderr",
          "text": [
            "/usr/local/lib/python3.10/dist-packages/sklearn/cluster/_kmeans.py:870: FutureWarning: The default value of `n_init` will change from 10 to 'auto' in 1.4. Set the value of `n_init` explicitly to suppress the warning\n",
            "  warnings.warn(\n"
          ]
        }
      ]
    },
    {
      "cell_type": "markdown",
      "source": [
        "## Hierarchical Clustering"
      ],
      "metadata": {
        "id": "siv786dh7dT8"
      }
    },
    {
      "cell_type": "code",
      "source": [
        "from scipy.cluster.hierarchy import linkage, dendrogram\n",
        "\n",
        "linkage_matrix = linkage(X, method='ward')\n",
        "dendrogram(linkage_matrix, truncate_mode='level', p=3)"
      ],
      "metadata": {
        "colab": {
          "base_uri": "https://localhost:8080/",
          "height": 1000
        },
        "id": "2sGcv_pv7bgk",
        "outputId": "341c05b3-9207-4fd3-b1ad-97c55ff0f444"
      },
      "execution_count": 41,
      "outputs": [
        {
          "output_type": "execute_result",
          "data": {
            "text/plain": [
              "{'icoord': [[5.0, 5.0, 15.0, 15.0],\n",
              "  [25.0, 25.0, 35.0, 35.0],\n",
              "  [10.0, 10.0, 30.0, 30.0],\n",
              "  [45.0, 45.0, 55.0, 55.0],\n",
              "  [65.0, 65.0, 75.0, 75.0],\n",
              "  [50.0, 50.0, 70.0, 70.0],\n",
              "  [20.0, 20.0, 60.0, 60.0],\n",
              "  [85.0, 85.0, 95.0, 95.0],\n",
              "  [105.0, 105.0, 115.0, 115.0],\n",
              "  [90.0, 90.0, 110.0, 110.0],\n",
              "  [125.0, 125.0, 135.0, 135.0],\n",
              "  [145.0, 145.0, 155.0, 155.0],\n",
              "  [130.0, 130.0, 150.0, 150.0],\n",
              "  [100.0, 100.0, 140.0, 140.0],\n",
              "  [40.0, 40.0, 120.0, 120.0]],\n",
              " 'dcoord': [[0.0, 8.310107077258346, 8.310107077258346, 0.0],\n",
              "  [0.0, 10.28572184695835, 10.28572184695835, 0.0],\n",
              "  [8.310107077258346,\n",
              "   13.526857035418796,\n",
              "   13.526857035418796,\n",
              "   10.28572184695835],\n",
              "  [0.0, 11.585750749155554, 11.585750749155554, 0.0],\n",
              "  [0.0, 11.882628082475211, 11.882628082475211, 0.0],\n",
              "  [11.585750749155554,\n",
              "   20.144168258910188,\n",
              "   20.144168258910188,\n",
              "   11.882628082475211],\n",
              "  [13.526857035418796,\n",
              "   27.69413679202112,\n",
              "   27.69413679202112,\n",
              "   20.144168258910188],\n",
              "  [0.0, 12.777442723547658, 12.777442723547658, 0.0],\n",
              "  [0.0, 14.635021563308355, 14.635021563308355, 0.0],\n",
              "  [12.777442723547658,\n",
              "   19.085276716738694,\n",
              "   19.085276716738694,\n",
              "   14.635021563308355],\n",
              "  [0.0, 14.30512275699513, 14.30512275699513, 0.0],\n",
              "  [0.0, 15.1570463916129, 15.1570463916129, 0.0],\n",
              "  [14.30512275699513, 24.25822743981029, 24.25822743981029, 15.1570463916129],\n",
              "  [19.085276716738694,\n",
              "   34.71614427730166,\n",
              "   34.71614427730166,\n",
              "   24.25822743981029],\n",
              "  [27.69413679202112,\n",
              "   48.31846236939713,\n",
              "   48.31846236939713,\n",
              "   34.71614427730166]],\n",
              " 'ivl': ['(20)',\n",
              "  '(38)',\n",
              "  '(28)',\n",
              "  '(56)',\n",
              "  '(51)',\n",
              "  '(86)',\n",
              "  '(36)',\n",
              "  '(68)',\n",
              "  '(77)',\n",
              "  '(64)',\n",
              "  '(52)',\n",
              "  '(65)',\n",
              "  '(114)',\n",
              "  '(90)',\n",
              "  '(40)',\n",
              "  '(115)'],\n",
              " 'leaves': [1926,\n",
              "  1958,\n",
              "  1967,\n",
              "  1972,\n",
              "  1953,\n",
              "  1979,\n",
              "  1955,\n",
              "  1981,\n",
              "  1964,\n",
              "  1976,\n",
              "  1966,\n",
              "  1982,\n",
              "  1980,\n",
              "  1985,\n",
              "  1960,\n",
              "  1984],\n",
              " 'color_list': ['C1',\n",
              "  'C1',\n",
              "  'C1',\n",
              "  'C1',\n",
              "  'C1',\n",
              "  'C1',\n",
              "  'C1',\n",
              "  'C2',\n",
              "  'C2',\n",
              "  'C2',\n",
              "  'C3',\n",
              "  'C3',\n",
              "  'C3',\n",
              "  'C0',\n",
              "  'C0'],\n",
              " 'leaves_color_list': ['C1',\n",
              "  'C1',\n",
              "  'C1',\n",
              "  'C1',\n",
              "  'C1',\n",
              "  'C1',\n",
              "  'C1',\n",
              "  'C1',\n",
              "  'C2',\n",
              "  'C2',\n",
              "  'C2',\n",
              "  'C2',\n",
              "  'C3',\n",
              "  'C3',\n",
              "  'C3',\n",
              "  'C3']}"
            ]
          },
          "metadata": {},
          "execution_count": 41
        },
        {
          "output_type": "display_data",
          "data": {
            "text/plain": [
              "<Figure size 640x480 with 1 Axes>"
            ],
            "image/png": "[encoded data removed]"
          },
          "metadata": {}
        }
      ]
    },
    {
      "cell_type": "markdown",
      "source": [
        "## DBSCAN"
      ],
      "metadata": {
        "id": "oTCTSohx7hOi"
      }
    },
    {
      "cell_type": "code",
      "source": [
        "from sklearn.cluster import DBSCAN\n",
        "\n",
        "dbscan = DBSCAN(eps=0.5, min_samples=5)\n",
        "dbscan.fit(X)\n",
        "labels = dbscan.labels_"
      ],
      "metadata": {
        "id": "BRXO4WwF7fdE"
      },
      "execution_count": 42,
      "outputs": []
    },
    {
      "cell_type": "markdown",
      "source": [
        "## Gaussian Mixture Models (GMMs)"
      ],
      "metadata": {
        "id": "0cLcG1VH7low"
      }
    },
    {
      "cell_type": "code",
      "source": [
        "from sklearn.mixture import GaussianMixture\n",
        "\n",
        "gmm = GaussianMixture(n_components=3, covariance_type='full', random_state=0)\n",
        "gmm.fit(X)\n",
        "labels = gmm.predict(X)"
      ],
      "metadata": {
        "id": "RjcstBcw7kI6"
      },
      "execution_count": 43,
      "outputs": []
    }
  ]
}