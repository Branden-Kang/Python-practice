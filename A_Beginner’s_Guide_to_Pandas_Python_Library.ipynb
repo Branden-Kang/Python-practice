{
  "nbformat": 4,
  "nbformat_minor": 0,
  "metadata": {
    "colab": {
      "provenance": [],
      "authorship_tag": "ABX9TyPEaoJ6+eQ3vNaG9AMspow8"
    },
    "kernelspec": {
      "name": "python3",
      "display_name": "Python 3"
    },
    "language_info": {
      "name": "python"
    }
  },
  "cells": [
    {
      "cell_type": "markdown",
      "source": [
        "[Reference](https://medium.com/@amulyakandukuri4/a-beginners-guide-to-pandas-python-library-a2a1af510c21)"
      ],
      "metadata": {
        "id": "x8Xue3Q6HDW0"
      }
    },
    {
      "cell_type": "code",
      "execution_count": 1,
      "metadata": {
        "colab": {
          "base_uri": "https://localhost:8080/"
        },
        "id": "YCAGsetgFPM8",
        "outputId": "4610d2a0-5bee-4bf8-b469-0791f8dc4577"
      },
      "outputs": [
        {
          "output_type": "stream",
          "name": "stdout",
          "text": [
            "0    1\n",
            "1    2\n",
            "2    3\n",
            "3    4\n",
            "4    5\n",
            "dtype: int64\n"
          ]
        }
      ],
      "source": [
        "import pandas as pd\n",
        "\n",
        "data = [1, 2, 3, 4, 5]\n",
        "s = pd.Series(data)\n",
        "print(s)"
      ]
    },
    {
      "cell_type": "code",
      "source": [
        "import pandas as pd\n",
        "\n",
        "data = {'Name': ['John', 'Jane', 'Mark', 'Emily'], \n",
        "        'Age': [25, 30, 35, 40], \n",
        "        'Salary': [50000, 60000, 70000, 80000]}\n",
        "df = pd.DataFrame(data)\n",
        "print(df)"
      ],
      "metadata": {
        "colab": {
          "base_uri": "https://localhost:8080/"
        },
        "id": "tvymWAy5HG6u",
        "outputId": "1501ead6-9b5d-4e17-d46f-ea78604f48e4"
      },
      "execution_count": 2,
      "outputs": [
        {
          "output_type": "stream",
          "name": "stdout",
          "text": [
            "    Name  Age  Salary\n",
            "0   John   25   50000\n",
            "1   Jane   30   60000\n",
            "2   Mark   35   70000\n",
            "3  Emily   40   80000\n"
          ]
        }
      ]
    },
    {
      "cell_type": "code",
      "source": [
        "import pandas as pd\n",
        "\n",
        "data = {'Name': ['John', 'Jane', 'Mark', 'Emily'], \n",
        "        'Age': [25, 30, 35, 40], \n",
        "        'Salary': [50000, 60000, 70000, 80000]}\n",
        "df = pd.DataFrame(data)\n",
        "\n",
        "# Filter data based on age greater than 30\n",
        "filtered_df = df.loc[df['Age'] > 30]\n",
        "print(filtered_df)"
      ],
      "metadata": {
        "colab": {
          "base_uri": "https://localhost:8080/"
        },
        "id": "eOXi7g6oHILU",
        "outputId": "ff382b95-3062-4d07-eeb5-b18f9f3a6348"
      },
      "execution_count": 3,
      "outputs": [
        {
          "output_type": "stream",
          "name": "stdout",
          "text": [
            "    Name  Age  Salary\n",
            "2   Mark   35   70000\n",
            "3  Emily   40   80000\n"
          ]
        }
      ]
    },
    {
      "cell_type": "code",
      "source": [
        "import pandas as pd\n",
        "\n",
        "data = {'Name': ['John', 'Jane', 'Mark', 'Emily'], \n",
        "        'Age': [25, 30, 35, 40], \n",
        "        'Salary': [50000, 60000, 70000, 80000]}\n",
        "df = pd.DataFrame(data)\n",
        "\n",
        "# Get the sum, mean, and count of the salary column\n",
        "agg_df = df['Salary'].agg(['sum', 'mean', 'count'])\n",
        "print(agg_df)"
      ],
      "metadata": {
        "colab": {
          "base_uri": "https://localhost:8080/"
        },
        "id": "cyVEn-1EHJ9a",
        "outputId": "f9ec4513-a9c5-4207-aea8-b0d0db665d63"
      },
      "execution_count": 4,
      "outputs": [
        {
          "output_type": "stream",
          "name": "stdout",
          "text": [
            "sum      260000.0\n",
            "mean      65000.0\n",
            "count         4.0\n",
            "Name: Salary, dtype: float64\n"
          ]
        }
      ]
    }
  ]
}