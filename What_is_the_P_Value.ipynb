{
  "nbformat": 4,
  "nbformat_minor": 0,
  "metadata": {
    "colab": {
      "provenance": [],
      "collapsed_sections": [],
      "authorship_tag": "ABX9TyMvNG4jOi9b7ifIkDDskzK/"
    },
    "kernelspec": {
      "name": "python3",
      "display_name": "Python 3"
    },
    "language_info": {
      "name": "python"
    }
  },
  "cells": [
    {
      "cell_type": "markdown",
      "source": [
        "[Reference](https://medium.com/@okanyenigun/what-is-the-p-value-ca44e7a1285f)"
      ],
      "metadata": {
        "id": "QwvZ3iF2ZwWv"
      }
    },
    {
      "cell_type": "code",
      "execution_count": 1,
      "metadata": {
        "id": "5zgf4WebZrgY"
      },
      "outputs": [],
      "source": [
        "import numpy as np\n",
        "from scipy.stats import ttest_ind\n",
        "#generate two variable\n",
        "v1 = np.random.normal(size=500)\n",
        "v2 = np.random.normal(size=500)\n",
        "#ttest between the two var\n",
        "test_result = ttest_ind(v1, v2)"
      ]
    }
  ]
}