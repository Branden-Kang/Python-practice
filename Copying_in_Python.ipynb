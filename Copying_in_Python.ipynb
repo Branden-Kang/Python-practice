{
  "nbformat": 4,
  "nbformat_minor": 0,
  "metadata": {
    "colab": {
      "name": "Copying in Python.ipynb",
      "provenance": [],
      "authorship_tag": "ABX9TyOarf0/TT/pGBVDSgRZa/0J"
    },
    "kernelspec": {
      "name": "python3",
      "display_name": "Python 3"
    },
    "language_info": {
      "name": "python"
    }
  },
  "cells": [
    {
      "cell_type": "markdown",
      "metadata": {
        "id": "myH-itMTYgiU"
      },
      "source": [
        "[Reference](https://medium.com/analytics-vidhya/copying-in-python-with-examples-5706c86699e6)"
      ]
    },
    {
      "cell_type": "code",
      "metadata": {
        "colab": {
          "base_uri": "https://localhost:8080/"
        },
        "id": "tv5mY8TIVWcV",
        "outputId": "6de8addb-92f5-4dbc-a6ac-ef8800e85778"
      },
      "source": [
        "list_a = [1, 2, 3, 4, 5]\n",
        "list_b = list_a\n",
        "\n",
        "list_a[0] = -10\n",
        "\n",
        "print(list_a)\n",
        "print(list_b)"
      ],
      "execution_count": 2,
      "outputs": [
        {
          "output_type": "stream",
          "text": [
            "[-10, 2, 3, 4, 5]\n",
            "[-10, 2, 3, 4, 5]\n"
          ],
          "name": "stdout"
        }
      ]
    },
    {
      "cell_type": "code",
      "metadata": {
        "id": "mMbhBwxGYjOj"
      },
      "source": [
        "# import copy\n",
        "\n",
        "# copy.copy(x) # for shallow copy\n",
        "# copy.deepcopy(x) # for deep copy"
      ],
      "execution_count": 4,
      "outputs": []
    },
    {
      "cell_type": "code",
      "metadata": {
        "colab": {
          "base_uri": "https://localhost:8080/"
        },
        "id": "7AVDK_PbYnUT",
        "outputId": "1ff378fb-1ed0-4ffa-ccd4-f965a44ec4b5"
      },
      "source": [
        "list_a = [1, 2, 3, 4, 5]\n",
        "list_b = copy.copy(list_a)\n",
        "\n",
        "list_b[0] = -10\n",
        "\n",
        "print(list_a)\n",
        "print(list_b)"
      ],
      "execution_count": 6,
      "outputs": [
        {
          "output_type": "stream",
          "text": [
            "[1, 2, 3, 4, 5]\n",
            "[-10, 2, 3, 4, 5]\n"
          ],
          "name": "stdout"
        }
      ]
    },
    {
      "cell_type": "code",
      "metadata": {
        "colab": {
          "base_uri": "https://localhost:8080/"
        },
        "id": "ZpBY-uKHYy43",
        "outputId": "6bd17798-29ce-4b4e-a5fa-c39fe98abd74"
      },
      "source": [
        "list_a = [[1, 2, 3, 4, 5],[6, 7, 8, 9, 10]]\n",
        "list_b = copy.copy(list_a)\n",
        "\n",
        "list_a[0][0] = -10\n",
        "\n",
        "print(list_a)\n",
        "print(list_b)"
      ],
      "execution_count": 8,
      "outputs": [
        {
          "output_type": "stream",
          "text": [
            "[[-10, 2, 3, 4, 5], [6, 7, 8, 9, 10]]\n",
            "[[-10, 2, 3, 4, 5], [6, 7, 8, 9, 10]]\n"
          ],
          "name": "stdout"
        }
      ]
    },
    {
      "cell_type": "code",
      "metadata": {
        "colab": {
          "base_uri": "https://localhost:8080/"
        },
        "id": "f0SoMCZLY-8f",
        "outputId": "e22ca3ea-81f3-4ee1-d12f-fae0b4cad755"
      },
      "source": [
        "list_a = [[1, 2, 3, 4, 5],[6, 7, 8, 9, 10]]\n",
        "list_b = copy.deepcopy(list_a)\n",
        "\n",
        "list_a[0][0] = -10\n",
        "\n",
        "print(list_a)\n",
        "print(list_b)"
      ],
      "execution_count": 9,
      "outputs": [
        {
          "output_type": "stream",
          "text": [
            "[[-10, 2, 3, 4, 5], [6, 7, 8, 9, 10]]\n",
            "[[1, 2, 3, 4, 5], [6, 7, 8, 9, 10]]\n"
          ],
          "name": "stdout"
        }
      ]
    }
  ]
}