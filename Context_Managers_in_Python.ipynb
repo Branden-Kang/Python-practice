{
  "nbformat": 4,
  "nbformat_minor": 0,
  "metadata": {
    "colab": {
      "name": "Context Managers in Python.ipynb",
      "provenance": [],
      "authorship_tag": "ABX9TyOVLEG1BUUzi/1O7nbvR2+B"
    },
    "kernelspec": {
      "name": "python3",
      "display_name": "Python 3"
    }
  },
  "cells": [
    {
      "cell_type": "markdown",
      "metadata": {
        "id": "SHw9VduXI0GF"
      },
      "source": [
        "[Reference](https://medium.com/better-programming/context-managers-in-python-dbfaf568092)"
      ]
    },
    {
      "cell_type": "code",
      "metadata": {
        "id": "2D8UHgdvIphV"
      },
      "source": [
        "class OpenFile:\n",
        "    def __init__(self, file, mode):\n",
        "        self.file = file\n",
        "        self.mode = mode\n",
        "\n",
        "    def __enter__(self):\n",
        "        self.f = open(self.file, self.mode)\n",
        "        return self.f\n",
        "\n",
        "    def __exit__(self, exc_type, exc_val, exc_tb):\n",
        "        self.f.close()"
      ],
      "execution_count": 1,
      "outputs": []
    },
    {
      "cell_type": "code",
      "metadata": {
        "id": "aWZuaR0BI3Gj"
      },
      "source": [
        "from contextlib import contextmanager\n",
        "\n",
        "\n",
        "@contextmanager\n",
        "def OpenFile(file, mode):\n",
        "    f = open(file, mode)\n",
        "    yield f\n",
        "    f.close()"
      ],
      "execution_count": 2,
      "outputs": []
    },
    {
      "cell_type": "code",
      "metadata": {
        "colab": {
          "base_uri": "https://localhost:8080/"
        },
        "id": "npu7s8KyI4Kb",
        "outputId": "467a8e98-adc9-4f23-fa10-f86ae19a573a"
      },
      "source": [
        "with OpenFile('file.txt', 'w') as f:\n",
        "    f.write('Something to write to mine')\n",
        "print(f.closed)"
      ],
      "execution_count": 3,
      "outputs": [
        {
          "output_type": "stream",
          "text": [
            "True\n"
          ],
          "name": "stdout"
        }
      ]
    }
  ]
}