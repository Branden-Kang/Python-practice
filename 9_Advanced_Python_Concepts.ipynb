{
  "nbformat": 4,
  "nbformat_minor": 0,
  "metadata": {
    "colab": {
      "name": "9 Advanced Python Concepts.ipynb",
      "provenance": [],
      "authorship_tag": "ABX9TyPcpyaJbJkty4izQfUjEnWf"
    },
    "kernelspec": {
      "name": "python3",
      "display_name": "Python 3"
    },
    "language_info": {
      "name": "python"
    }
  },
  "cells": [
    {
      "cell_type": "markdown",
      "source": [
        "[Reference](https://c-nemri.medium.com/9-advanced-python-concepts-you-should-know-about-945621e49550)"
      ],
      "metadata": {
        "id": "Fr0P8oWgDc2y"
      }
    },
    {
      "cell_type": "markdown",
      "source": [
        "# Comprehensions"
      ],
      "metadata": {
        "id": "0xpbbbHQDeY-"
      }
    },
    {
      "cell_type": "code",
      "execution_count": 2,
      "metadata": {
        "id": "7Wg_jt0GDW6b"
      },
      "outputs": [],
      "source": [
        "# Create a list to be used in comprehensions\n",
        "numbers = [1, 2, 3, -3, -2, -1]\n",
        "\n",
        "# Create a new list of these numbers’ squares\n",
        "mylist = [x*x for x in numbers]\n",
        "\n",
        "# Create a new dictionary of these numbers’ exponentiation\n",
        "mydict = {x: pow(10, x) for x in numbers}\n",
        "# output {1: 10, 2: 100, 3: 1000, -3: 0.001, -2: 0.01, -1: 0.1}\n",
        "\n",
        "# Create a set of these numbers’ absolutes\n",
        "myset = {abs(x) for x in numbers}\n",
        "# output {1, 2, 3}"
      ]
    },
    {
      "cell_type": "markdown",
      "source": [
        "List Comprehension: [expr for x in iterable]<br>\n",
        "Dictionary Comprehension: {key_expr: value_expr for x in iterable}<br>\n",
        "Set Comprehension: {expr for x in iterable}<br>\n",
        "With Optional Conditions:\n",
        "[expr for x in iterable if condition]\n",
        "{key_expr: value_expr for x in iterable if condition}\n",
        "{expr for x in iterable if condition}"
      ],
      "metadata": {
        "id": "GoYDh0jgDsGQ"
      }
    },
    {
      "cell_type": "markdown",
      "source": [
        "# Exception Handling"
      ],
      "metadata": {
        "id": "G1XS1uZ9Dy4p"
      }
    },
    {
      "cell_type": "markdown",
      "source": [
        "![pic](https://miro.medium.com/max/1400/0*mii1p_lLub7BRYty.png)"
      ],
      "metadata": {
        "id": "VOvbbafyD0iG"
      }
    },
    {
      "cell_type": "code",
      "source": [
        "try:\n",
        "    a = int(input(\"Enter numerator:\"))\n",
        "    b = int(input(\"Enter denominator:\"))\n",
        "    c = a / b\n",
        "    print(c)\n",
        "except ZeroDivisionError as e:\n",
        "    print(e, \" please provide a non zero denominator\")"
      ],
      "metadata": {
        "colab": {
          "base_uri": "https://localhost:8080/"
        },
        "id": "LaJtUQjzDs2A",
        "outputId": "d34f4937-f682-4aac-f338-ec00e1950186"
      },
      "execution_count": 4,
      "outputs": [
        {
          "output_type": "stream",
          "name": "stdout",
          "text": [
            "Enter numerator:1\n",
            "Enter denominator:2\n",
            "0.5\n"
          ]
        }
      ]
    },
    {
      "cell_type": "code",
      "source": [
        "import sys\n",
        "try:\n",
        "   f = open('myfile.txt') \n",
        "   s = f.readline()\n",
        "   i = int(s.strip())\n",
        "except OSError as err:\n",
        "   print(\"OS error: {0}\".format(err))\n",
        "except ValueError:\n",
        "   print(\"Could not convert data to an integer.\")\n",
        "except:\n",
        "   print(\"Unexpected error:\", sys.exc_info()[0])\n",
        "   raise\n",
        "finally:\n",
        "   print(\"Operation Successfully Done!!\")"
      ],
      "metadata": {
        "colab": {
          "base_uri": "https://localhost:8080/"
        },
        "id": "6uHD39auD3Mp",
        "outputId": "3d48560b-87a2-4220-d066-c00fc37edf1c"
      },
      "execution_count": 5,
      "outputs": [
        {
          "output_type": "stream",
          "name": "stdout",
          "text": [
            "OS error: [Errno 2] No such file or directory: 'myfile.txt'\n",
            "Operation Successfully Done!!\n"
          ]
        }
      ]
    },
    {
      "cell_type": "markdown",
      "source": [
        "# Collections"
      ],
      "metadata": {
        "id": "wVUURFutEAC_"
      }
    },
    {
      "cell_type": "markdown",
      "source": [
        "## 1. Counter"
      ],
      "metadata": {
        "id": "X0bpPr32EBOk"
      }
    },
    {
      "cell_type": "code",
      "source": [
        "from collections import Counter\n",
        "data = [1,1,1,1,2,3,4,3,3,5,6,7,7]\n",
        "count = Counter(data)\n",
        "print(count)"
      ],
      "metadata": {
        "colab": {
          "base_uri": "https://localhost:8080/"
        },
        "id": "V6GiK2tHD-dA",
        "outputId": "24c08fd7-a1b4-4919-c4df-5d0032790ae4"
      },
      "execution_count": 6,
      "outputs": [
        {
          "output_type": "stream",
          "name": "stdout",
          "text": [
            "Counter({1: 4, 3: 3, 7: 2, 2: 1, 4: 1, 5: 1, 6: 1})\n"
          ]
        }
      ]
    },
    {
      "cell_type": "markdown",
      "source": [
        "## 2. namedtuple"
      ],
      "metadata": {
        "id": "Fkb2VVUAEDgr"
      }
    },
    {
      "cell_type": "code",
      "source": [
        "from collections import namedtuple\n",
        "Direction = namedtuple('Direction','N,S,E,W')\n",
        "dt = Direction(4,74,0,0)\n",
        "print(dt)"
      ],
      "metadata": {
        "colab": {
          "base_uri": "https://localhost:8080/"
        },
        "id": "ZiIpmfkIECf2",
        "outputId": "f32aa42b-8ca9-4f59-853a-d8667d5f2825"
      },
      "execution_count": 7,
      "outputs": [
        {
          "output_type": "stream",
          "name": "stdout",
          "text": [
            "Direction(N=4, S=74, E=0, W=0)\n"
          ]
        }
      ]
    },
    {
      "cell_type": "markdown",
      "source": [
        "## 3. OrderedDict"
      ],
      "metadata": {
        "id": "eBVwbVh_EGFQ"
      }
    },
    {
      "cell_type": "code",
      "source": [
        "from collections import OrderedDict\n",
        "dictt = OrderedDict()\n",
        "dictt['a'] = 5\n",
        "dictt['d'] = 2\n",
        "dictt['c'] = 1\n",
        "dictt['b'] = 3\n",
        "print(dictt)"
      ],
      "metadata": {
        "colab": {
          "base_uri": "https://localhost:8080/"
        },
        "id": "rO0W3BT5EFK4",
        "outputId": "5e96fdb4-7446-4378-95fb-6a79f9ef2421"
      },
      "execution_count": 8,
      "outputs": [
        {
          "output_type": "stream",
          "name": "stdout",
          "text": [
            "OrderedDict([('a', 5), ('d', 2), ('c', 1), ('b', 3)])\n"
          ]
        }
      ]
    },
    {
      "cell_type": "markdown",
      "source": [
        "## 4. defauldict"
      ],
      "metadata": {
        "id": "ijb4mPMuEIGr"
      }
    },
    {
      "cell_type": "code",
      "source": [
        "from collections import defaultdict\n",
        "dictt = defaultdict(int)\n",
        "dictt['a'] = 2\n",
        "print(dictt['a'])  ## return the value\n",
        "print(dictt['b'])  ## returns the default value"
      ],
      "metadata": {
        "colab": {
          "base_uri": "https://localhost:8080/"
        },
        "id": "ML6qX29WEHQC",
        "outputId": "623b539c-e05b-4631-e7e3-03e4fd18989d"
      },
      "execution_count": 9,
      "outputs": [
        {
          "output_type": "stream",
          "name": "stdout",
          "text": [
            "2\n",
            "0\n"
          ]
        }
      ]
    },
    {
      "cell_type": "markdown",
      "source": [
        "## 5. deque"
      ],
      "metadata": {
        "id": "BNl_qWGXEKPH"
      }
    },
    {
      "cell_type": "code",
      "source": [
        "from itertools import product\n",
        "\n",
        "if __name__ == \"__main__\":\n",
        "    arr1 = ['a','b','c']\n",
        "    arr2 = ['d','e','f']\n",
        "    print(list(product(arr1, arr2)))"
      ],
      "metadata": {
        "colab": {
          "base_uri": "https://localhost:8080/"
        },
        "id": "6j1TFn0pEJRc",
        "outputId": "2430562b-8160-461f-d8b0-8c1a18f7a46a"
      },
      "execution_count": 10,
      "outputs": [
        {
          "output_type": "stream",
          "name": "stdout",
          "text": [
            "[('a', 'd'), ('a', 'e'), ('a', 'f'), ('b', 'd'), ('b', 'e'), ('b', 'f'), ('c', 'd'), ('c', 'e'), ('c', 'f')]\n"
          ]
        }
      ]
    },
    {
      "cell_type": "markdown",
      "source": [
        "## 6. Decorators"
      ],
      "metadata": {
        "id": "KNvxoQImEVmr"
      }
    },
    {
      "cell_type": "code",
      "source": [
        "def logging_func(original_func):\n",
        "    def wrapper(*args, **kwargs):\n",
        "        print(f\"Called {original_func.__name__} with\", args, kwargs)\n",
        "        return original_func(*args, **kwargs)\n",
        "    return wrapper@logging_func\n",
        "def add(a, b):\n",
        "    return a + b\n",
        "\n",
        "result = add(5, 6)\n",
        "print(result)"
      ],
      "metadata": {
        "colab": {
          "base_uri": "https://localhost:8080/"
        },
        "id": "MTYnaRQeEUf4",
        "outputId": "0b5731e6-6198-4925-f04c-c9feb26305d9"
      },
      "execution_count": 13,
      "outputs": [
        {
          "output_type": "stream",
          "name": "stdout",
          "text": [
            "11\n"
          ]
        }
      ]
    },
    {
      "cell_type": "markdown",
      "source": [
        "# 7. Generators"
      ],
      "metadata": {
        "id": "0UaJJz5yEfvU"
      }
    },
    {
      "cell_type": "code",
      "source": [
        "def fibon(limit):\n",
        "  a,b = 0,1\n",
        "  while a < limit:\n",
        "      yield a\n",
        "      a, b = b, a + b\n",
        "\n",
        "for x in fibon(10):\n",
        "   print(x)"
      ],
      "metadata": {
        "colab": {
          "base_uri": "https://localhost:8080/"
        },
        "id": "_-bi0FcAEaWm",
        "outputId": "21a64aae-6b31-43a3-feb4-e514d78fecfe"
      },
      "execution_count": 16,
      "outputs": [
        {
          "output_type": "stream",
          "name": "stdout",
          "text": [
            "0\n",
            "1\n",
            "1\n",
            "2\n",
            "3\n",
            "5\n",
            "8\n"
          ]
        }
      ]
    },
    {
      "cell_type": "markdown",
      "source": [
        "# 8. Dunder Methods"
      ],
      "metadata": {
        "id": "Zfb8csvXEimc"
      }
    },
    {
      "cell_type": "code",
      "source": [
        "num =  5\n",
        "num*6"
      ],
      "metadata": {
        "colab": {
          "base_uri": "https://localhost:8080/"
        },
        "id": "js1N9KYjEh4a",
        "outputId": "b7e11134-8de8-4743-fdd7-f402e6f44e79"
      },
      "execution_count": 17,
      "outputs": [
        {
          "output_type": "execute_result",
          "data": {
            "text/plain": [
              "30"
            ]
          },
          "metadata": {},
          "execution_count": 17
        }
      ]
    },
    {
      "cell_type": "code",
      "source": [
        "num.__mul__(6)"
      ],
      "metadata": {
        "colab": {
          "base_uri": "https://localhost:8080/"
        },
        "id": "Tw3ZImvCEpCd",
        "outputId": "03b24149-85d0-4a74-ce12-57d538e603b8"
      },
      "execution_count": 18,
      "outputs": [
        {
          "output_type": "execute_result",
          "data": {
            "text/plain": [
              "30"
            ]
          },
          "metadata": {},
          "execution_count": 18
        }
      ]
    },
    {
      "cell_type": "code",
      "source": [
        "5+6"
      ],
      "metadata": {
        "colab": {
          "base_uri": "https://localhost:8080/"
        },
        "id": "o1CgL51yEpQd",
        "outputId": "ccb0651a-4187-4c7b-e5ec-5bb6fa111466"
      },
      "execution_count": 19,
      "outputs": [
        {
          "output_type": "execute_result",
          "data": {
            "text/plain": [
              "11"
            ]
          },
          "metadata": {},
          "execution_count": 19
        }
      ]
    },
    {
      "cell_type": "code",
      "source": [
        "\"python\"+\"programming\""
      ],
      "metadata": {
        "colab": {
          "base_uri": "https://localhost:8080/",
          "height": 37
        },
        "id": "JMNsXAtjEqz7",
        "outputId": "19ff6df3-2ac1-4807-deb7-091b278c15ae"
      },
      "execution_count": 20,
      "outputs": [
        {
          "output_type": "execute_result",
          "data": {
            "text/plain": [
              "'pythonprogramming'"
            ],
            "application/vnd.google.colaboratory.intrinsic+json": {
              "type": "string"
            }
          },
          "metadata": {},
          "execution_count": 20
        }
      ]
    },
    {
      "cell_type": "markdown",
      "source": [
        "# 9. Hashability"
      ],
      "metadata": {
        "id": "hTLMp8bREsKV"
      }
    },
    {
      "cell_type": "code",
      "source": [
        "# Get an string object’s hash value\n",
        "hash(\"This is me\")"
      ],
      "metadata": {
        "colab": {
          "base_uri": "https://localhost:8080/"
        },
        "id": "JOX2CNQQEq56",
        "outputId": "196b120a-b9fd-40d8-c0fe-ba5399238b50"
      },
      "execution_count": 21,
      "outputs": [
        {
          "output_type": "execute_result",
          "data": {
            "text/plain": [
              "-8068175153653847223"
            ]
          },
          "metadata": {},
          "execution_count": 21
        }
      ]
    },
    {
      "cell_type": "code",
      "source": [
        "# Get a tuple object’s hash value\n",
        "hash((1,2))"
      ],
      "metadata": {
        "colab": {
          "base_uri": "https://localhost:8080/"
        },
        "id": "EQOjCoYcEv12",
        "outputId": "a3329e79-ceb9-4cf0-d554-b3aed27cdfd7"
      },
      "execution_count": 22,
      "outputs": [
        {
          "output_type": "execute_result",
          "data": {
            "text/plain": [
              "3713081631934410656"
            ]
          },
          "metadata": {},
          "execution_count": 22
        }
      ]
    },
    {
      "cell_type": "code",
      "source": [
        "# Get a list object’s hash value\n",
        "hash([1, 2, 3])"
      ],
      "metadata": {
        "colab": {
          "base_uri": "https://localhost:8080/",
          "height": 215
        },
        "id": "UgtlaBcAEwpc",
        "outputId": "478d52ab-b3b6-4dd4-ec00-c2773752c1fa"
      },
      "execution_count": 23,
      "outputs": [
        {
          "output_type": "error",
          "ename": "TypeError",
          "evalue": "ignored",
          "traceback": [
            "\u001b[0;31m---------------------------------------------------------------------------\u001b[0m",
            "\u001b[0;31mTypeError\u001b[0m                                 Traceback (most recent call last)",
            "\u001b[0;32m<ipython-input-23-25f1c13409ff>\u001b[0m in \u001b[0;36m<module>\u001b[0;34m()\u001b[0m\n\u001b[1;32m      1\u001b[0m \u001b[0;31m# Get a list object’s hash value\u001b[0m\u001b[0;34m\u001b[0m\u001b[0;34m\u001b[0m\u001b[0;34m\u001b[0m\u001b[0m\n\u001b[0;32m----> 2\u001b[0;31m \u001b[0mhash\u001b[0m\u001b[0;34m(\u001b[0m\u001b[0;34m[\u001b[0m\u001b[0;36m1\u001b[0m\u001b[0;34m,\u001b[0m \u001b[0;36m2\u001b[0m\u001b[0;34m,\u001b[0m \u001b[0;36m3\u001b[0m\u001b[0;34m]\u001b[0m\u001b[0;34m)\u001b[0m\u001b[0;34m\u001b[0m\u001b[0;34m\u001b[0m\u001b[0m\n\u001b[0m",
            "\u001b[0;31mTypeError\u001b[0m: unhashable type: 'list'"
          ]
        }
      ]
    },
    {
      "cell_type": "code",
      "source": [
        "# Get a dict object’s hash value\n",
        "hash({\"a\": 1, \"b\": 2})"
      ],
      "metadata": {
        "colab": {
          "base_uri": "https://localhost:8080/",
          "height": 215
        },
        "id": "9mJNHNHEExo7",
        "outputId": "e49431d2-eada-48a3-9624-1a57ee7ba2d3"
      },
      "execution_count": 24,
      "outputs": [
        {
          "output_type": "error",
          "ename": "TypeError",
          "evalue": "ignored",
          "traceback": [
            "\u001b[0;31m---------------------------------------------------------------------------\u001b[0m",
            "\u001b[0;31mTypeError\u001b[0m                                 Traceback (most recent call last)",
            "\u001b[0;32m<ipython-input-24-042db728a17c>\u001b[0m in \u001b[0;36m<module>\u001b[0;34m()\u001b[0m\n\u001b[1;32m      1\u001b[0m \u001b[0;31m# Get a dict object’s hash value\u001b[0m\u001b[0;34m\u001b[0m\u001b[0;34m\u001b[0m\u001b[0;34m\u001b[0m\u001b[0m\n\u001b[0;32m----> 2\u001b[0;31m \u001b[0mhash\u001b[0m\u001b[0;34m(\u001b[0m\u001b[0;34m{\u001b[0m\u001b[0;34m\"a\"\u001b[0m\u001b[0;34m:\u001b[0m \u001b[0;36m1\u001b[0m\u001b[0;34m,\u001b[0m \u001b[0;34m\"b\"\u001b[0m\u001b[0;34m:\u001b[0m \u001b[0;36m2\u001b[0m\u001b[0;34m}\u001b[0m\u001b[0;34m)\u001b[0m\u001b[0;34m\u001b[0m\u001b[0;34m\u001b[0m\u001b[0m\n\u001b[0m",
            "\u001b[0;31mTypeError\u001b[0m: unhashable type: 'dict'"
          ]
        }
      ]
    },
    {
      "cell_type": "code",
      "source": [
        "import random\n",
        "import timeit\n",
        "# Create a function to check the look up time\n",
        "def dict_look_up_time(n):\n",
        "    numbers = list(range(n))\n",
        "    random.shuffle(numbers)\n",
        "    d0 = {x: str(x) for x in numbers}\n",
        "    random_int = random.randint(0, n - 1)\n",
        "    t0 = timeit.timeit(lambda: d0[random_int], number=10000)\n",
        "    return t0\n",
        "\n",
        "for n in (10, 100, 1000, 10000, 100000):\n",
        "    elapse_time = dict_look_up_time(n)\n",
        "    print(f\"*** N = {n:<8}: {elapse_time:.5f}\")"
      ],
      "metadata": {
        "colab": {
          "base_uri": "https://localhost:8080/"
        },
        "id": "L1trMypGE0He",
        "outputId": "d1517d2d-3eb2-4c78-ae8c-3e3527ec8ea0"
      },
      "execution_count": 28,
      "outputs": [
        {
          "output_type": "stream",
          "name": "stdout",
          "text": [
            "*** N = 10      : 0.00152\n",
            "*** N = 100     : 0.00116\n",
            "*** N = 1000    : 0.00133\n",
            "*** N = 10000   : 0.00125\n",
            "*** N = 100000  : 0.00175\n"
          ]
        }
      ]
    }
  ]
}