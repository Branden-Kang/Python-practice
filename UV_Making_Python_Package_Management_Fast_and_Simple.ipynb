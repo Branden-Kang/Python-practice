{
  "nbformat": 4,
  "nbformat_minor": 0,
  "metadata": {
    "colab": {
      "provenance": [],
      "authorship_tag": "ABX9TyMG43yGfvS42AEdLHTgMQ3R"
    },
    "kernelspec": {
      "name": "python3",
      "display_name": "Python 3"
    },
    "language_info": {
      "name": "python"
    }
  },
  "cells": [
    {
      "cell_type": "markdown",
      "source": [
        "[Reference](https://medium.com/@ayarshabeer/uv-making-python-package-management-fast-and-simple-a93e2af762ba)"
      ],
      "metadata": {
        "id": "BpVdxjWZKInj"
      }
    },
    {
      "cell_type": "markdown",
      "source": [
        "```\n",
        "curl -LsSf https://astral.sh/uv/install.sh | sh\n",
        "```"
      ],
      "metadata": {
        "id": "qaXDEEOtKXZ9"
      }
    },
    {
      "cell_type": "markdown",
      "source": [
        "```\n",
        "# Create a new virtual environment uv venv # Activate it (on Unix systems) source .venv/bin/activate # Install some packages uv pip install flask pandas# Create a new virtual environment\n",
        "uv venv\n",
        "\n",
        "# Activate it (on Unix systems)\n",
        "source .venv/bin/activate\n",
        "\n",
        "# Install some packages\n",
        "uv pip install flask pandas\n",
        "```"
      ],
      "metadata": {
        "id": "0BlIzOyNKZtA"
      }
    },
    {
      "cell_type": "markdown",
      "source": [
        "```\n",
        "# Create a requirements.txt file\n",
        "uv pip freeze > requirements.txt\n",
        "\n",
        "# Install dependencies in a new environment\n",
        "uv pip sync requirements.txt\n",
        "```"
      ],
      "metadata": {
        "id": "d_KRFKaXKdKB"
      }
    },
    {
      "cell_type": "markdown",
      "source": [
        "```\n",
        "uv python install 3.11\n",
        "uv python install 3.10\n",
        "```"
      ],
      "metadata": {
        "id": "EEevO0-VKg4D"
      }
    },
    {
      "cell_type": "markdown",
      "source": [
        "```\n",
        "# Generate requirements.txt\n",
        "uv pip freeze > requirements.txt\n",
        "\n",
        "# Install from requirements.txt\n",
        "uv pip install -r requirements.txt\n",
        "```"
      ],
      "metadata": {
        "id": "AafCqNgtKiua"
      }
    },
    {
      "cell_type": "markdown",
      "source": [
        "```\n",
        "# Create a venv\n",
        "uv venv\n",
        "\n",
        "# Remove a venv\n",
        "rm -rf .venv\n",
        "```"
      ],
      "metadata": {
        "id": "i1QwwEVDKk5O"
      }
    }
  ]
}