{
  "nbformat": 4,
  "nbformat_minor": 0,
  "metadata": {
    "colab": {
      "provenance": [],
      "authorship_tag": "ABX9TyNZFj8CF8Kd+LO/Ve2KGPbc"
    },
    "kernelspec": {
      "name": "python3",
      "display_name": "Python 3"
    },
    "language_info": {
      "name": "python"
    }
  },
  "cells": [
    {
      "cell_type": "markdown",
      "source": [
        "[Reference](https://towardsdatascience.com/predicted-probability-explained-a-visual-guide-with-code-examples-for-beginners-7c34e8994ec2)"
      ],
      "metadata": {
        "id": "dRnjFSshSYty"
      }
    },
    {
      "cell_type": "code",
      "execution_count": 1,
      "metadata": {
        "colab": {
          "base_uri": "https://localhost:8080/"
        },
        "id": "3SMMxw4oQwJk",
        "outputId": "21be1cfe-e9a7-4684-8f57-282a77609c55"
      },
      "outputs": [
        {
          "output_type": "stream",
          "name": "stdout",
          "text": [
            "\n",
            "Prediction Results:\n",
            "    True Label  Prediction  Probability of Play\n",
            "14           0           1                  1.0\n",
            "15           1           0                  0.0\n",
            "16           1           0                  0.0\n",
            "17           0           1                  1.0\n",
            "18           0           1                  1.0\n",
            "19           0           1                  1.0\n",
            "20           1           1                  1.0\n",
            "21           1           0                  0.0\n",
            "22           1           1                  1.0\n",
            "23           1           0                  0.0\n",
            "24           1           1                  1.0\n",
            "25           1           0                  0.0\n",
            "26           0           0                  0.0\n",
            "27           1           1                  1.0\n",
            "Accuracy: 0.35714285714285715\n"
          ]
        }
      ],
      "source": [
        "import pandas as pd\n",
        "from sklearn.model_selection import train_test_split\n",
        "from sklearn.preprocessing import StandardScaler\n",
        "from sklearn.metrics import accuracy_score\n",
        "\n",
        "# The models\n",
        "from sklearn.dummy import DummyClassifier\n",
        "from sklearn.neighbors import KNeighborsClassifier\n",
        "from sklearn.naive_bayes import BernoulliNB\n",
        "from sklearn.tree import DecisionTreeClassifier\n",
        "from sklearn.linear_model import LogisticRegression\n",
        "from sklearn.svm import SVC\n",
        "from sklearn.neural_network import MLPClassifier\n",
        "\n",
        "# Load and prepare data\n",
        "dataset_dict = {\n",
        "    'Outlook': ['sunny', 'sunny', 'overcast', 'rainy', 'rainy', 'rainy', 'overcast', 'sunny', 'sunny', 'rainy', 'sunny', 'overcast', 'overcast', 'rainy', 'sunny', 'overcast', 'rainy', 'sunny', 'sunny', 'rainy', 'overcast', 'rainy', 'sunny', 'overcast', 'sunny', 'overcast', 'rainy', 'overcast'],\n",
        "    'Temperature': [85.0, 80.0, 83.0, 70.0, 68.0, 65.0, 64.0, 72.0, 69.0, 75.0, 75.0, 72.0, 81.0, 71.0, 81.0, 74.0, 76.0, 78.0, 82.0, 67.0, 85.0, 73.0, 88.0, 77.0, 79.0, 80.0, 66.0, 84.0],\n",
        "    'Humidity': [85.0, 90.0, 78.0, 96.0, 80.0, 70.0, 65.0, 95.0, 70.0, 80.0, 70.0, 90.0, 75.0, 80.0, 88.0, 92.0, 85.0, 75.0, 92.0, 90.0, 85.0, 88.0, 65.0, 70.0, 60.0, 95.0, 70.0, 78.0],\n",
        "    'Wind': [False, True, False, False, False, True, True, False, False, False, True, True, False, True, True, False, False, True, False, True, True, False, True, False, False, True, False, False],\n",
        "    'Play': ['No', 'No', 'Yes', 'Yes', 'Yes', 'No', 'Yes', 'No', 'Yes', 'Yes', 'Yes', 'Yes', 'Yes', 'No', 'No', 'Yes', 'Yes', 'No', 'No', 'No', 'Yes', 'Yes', 'Yes', 'Yes', 'Yes', 'Yes', 'No', 'Yes']\n",
        "}\n",
        "df = pd.DataFrame(dataset_dict)\n",
        "df = pd.get_dummies(df, columns=['Outlook'], prefix='', prefix_sep='', dtype=int)\n",
        "df['Wind'] = df['Wind'].astype(int)\n",
        "df['Play'] = (df['Play'] == 'Yes').astype(int)\n",
        "\n",
        "# Prepare features and target\n",
        "X,y = df.drop('Play', axis=1), df['Play']\n",
        "X_train, X_test, y_train, y_test = train_test_split(X, y, train_size=0.5, shuffle=False)\n",
        "\n",
        "# Scale numerical features\n",
        "scaler = StandardScaler()\n",
        "X_train[['Temperature', 'Humidity']] = scaler.fit_transform(X_train[['Temperature', 'Humidity']])\n",
        "X_test[['Temperature', 'Humidity']] = scaler.transform(X_test[['Temperature', 'Humidity']])\n",
        "\n",
        "# Train the model\n",
        "clf = DummyClassifier(strategy='stratified', random_state=42)\n",
        "# clf = KNeighborsClassifier(n_neighbors=3)\n",
        "# clf = BernoulliNB()\n",
        "# clf = DecisionTreeClassifier(random_state=42, max_depth=3)\n",
        "# clf = LogisticRegression(random_state=42)\n",
        "# clf = SVC(kernel='rbf', probability=True, random_state=42)\n",
        "# clf = MLPClassifier(hidden_layer_sizes=(4,2), random_state=42)\n",
        "\n",
        "# Fit and predict\n",
        "clf.fit(X_train, y_train)\n",
        "y_pred = clf.predict(X_test)\n",
        "y_prob = clf.predict_proba(X_test)\n",
        "\n",
        "# Create results dataframe\n",
        "results_df = pd.DataFrame({\n",
        "   'True Label': y_test,\n",
        "   'Prediction': y_pred,\n",
        "   'Probability of Play': y_prob[:, 1]\n",
        "})\n",
        "\n",
        "print(\"\\nPrediction Results:\")\n",
        "print(results_df)\n",
        "\n",
        "# Print accuracy\n",
        "print(f\"Accuracy: {accuracy_score(y_test, y_pred)}\")"
      ]
    }
  ]
}