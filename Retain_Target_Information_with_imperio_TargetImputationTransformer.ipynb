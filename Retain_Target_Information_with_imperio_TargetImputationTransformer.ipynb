{
  "nbformat": 4,
  "nbformat_minor": 0,
  "metadata": {
    "colab": {
      "name": "Retain Target Information with  imperio TargetImputationTransformer.ipynb",
      "provenance": [],
      "authorship_tag": "ABX9TyPtWvNnVS3BeF5mHNrAar5s"
    },
    "kernelspec": {
      "name": "python3",
      "display_name": "Python 3"
    },
    "language_info": {
      "name": "python"
    }
  },
  "cells": [
    {
      "cell_type": "markdown",
      "source": [
        "[Reference](https://medium.com/softplus-publication/retain-target-information-with-imperio-targetimputationtransformer-b0ce10bee7ca)"
      ],
      "metadata": {
        "id": "6c0cuFeYpLbn"
      }
    },
    {
      "cell_type": "code",
      "execution_count": 1,
      "metadata": {
        "colab": {
          "base_uri": "https://localhost:8080/"
        },
        "id": "9IbyKq_BpGpp",
        "outputId": "29771aa9-7373-4c3c-cbf1-5998dc220ff8"
      },
      "outputs": [
        {
          "output_type": "stream",
          "name": "stdout",
          "text": [
            "Collecting imperio\n",
            "  Downloading imperio-0.1.3.tar.gz (10 kB)\n",
            "Requirement already satisfied: numpy in /usr/local/lib/python3.7/dist-packages (from imperio) (1.19.5)\n",
            "Requirement already satisfied: pandas in /usr/local/lib/python3.7/dist-packages (from imperio) (1.3.5)\n",
            "Requirement already satisfied: scikit-learn in /usr/local/lib/python3.7/dist-packages (from imperio) (1.0.2)\n",
            "Requirement already satisfied: python-dateutil>=2.7.3 in /usr/local/lib/python3.7/dist-packages (from pandas->imperio) (2.8.2)\n",
            "Requirement already satisfied: pytz>=2017.3 in /usr/local/lib/python3.7/dist-packages (from pandas->imperio) (2018.9)\n",
            "Requirement already satisfied: six>=1.5 in /usr/local/lib/python3.7/dist-packages (from python-dateutil>=2.7.3->pandas->imperio) (1.15.0)\n",
            "Requirement already satisfied: scipy>=1.1.0 in /usr/local/lib/python3.7/dist-packages (from scikit-learn->imperio) (1.4.1)\n",
            "Requirement already satisfied: joblib>=0.11 in /usr/local/lib/python3.7/dist-packages (from scikit-learn->imperio) (1.1.0)\n",
            "Requirement already satisfied: threadpoolctl>=2.0.0 in /usr/local/lib/python3.7/dist-packages (from scikit-learn->imperio) (3.0.0)\n",
            "Building wheels for collected packages: imperio\n",
            "  Building wheel for imperio (setup.py) ... \u001b[?25l\u001b[?25hdone\n",
            "  Created wheel for imperio: filename=imperio-0.1.3-py3-none-any.whl size=23258 sha256=ea2b76e96ce0aaaedfe11fb128c74cd4b6732c7fa37f3d58b3feefef651402b6\n",
            "  Stored in directory: /root/.cache/pip/wheels/df/5a/6b/9c17746cb0f542cf045a057de59bede0ae2c85d79b9371cd90\n",
            "Successfully built imperio\n",
            "Installing collected packages: imperio\n",
            "Successfully installed imperio-0.1.3\n"
          ]
        }
      ],
      "source": [
        "pip install imperio"
      ]
    },
    {
      "cell_type": "code",
      "source": [
        "import pandas as pd\n",
        "\n",
        "df = pd.read_csv('https://raw.githubusercontent.com/SpiroGanas/Heart-Disease-Machine-Learning/master/heart_disease_df.csv')"
      ],
      "metadata": {
        "id": "rdFn_iE6s1Tv"
      },
      "execution_count": 9,
      "outputs": []
    },
    {
      "cell_type": "code",
      "source": [
        "from imperio import TargetImputationTransformer\n",
        "target = TargetImputationTransformer(index = [2, 6, 8, 10, 11, 12])\n",
        "target.fit(X_train, y_train)\n",
        "X_transformed = target.transform(X_test)"
      ],
      "metadata": {
        "id": "rFb5smstp3-_"
      },
      "execution_count": 10,
      "outputs": []
    },
    {
      "cell_type": "code",
      "source": [
        "X_transformed = target.fit_transform(X_train, y_train)\n",
        "from sklearn.pipeline import Pipeline\n",
        "from sklearn.linear_model import LogisticRegression\n",
        "pipe = Pipeline(\n",
        "    [\n",
        "     ('target', TargetImputationFrequency(index = [10, 11, 12]),\n",
        "     ('model', LogisticRegression())\n",
        "    ]\n",
        ")"
      ],
      "metadata": {
        "id": "JfspMBJzp5N2"
      },
      "execution_count": 11,
      "outputs": []
    },
    {
      "cell_type": "code",
      "source": [
        "new_df = target.apply(df, target = 'target', columns = ['col1'])"
      ],
      "metadata": {
        "id": "G4k4rGwXp-BW"
      },
      "execution_count": 12,
      "outputs": []
    }
  ]
}