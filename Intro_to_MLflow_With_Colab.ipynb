{
  "nbformat": 4,
  "nbformat_minor": 0,
  "metadata": {
    "colab": {
      "name": "Intro to MLflow - With Colab.ipynb",
      "provenance": [],
      "collapsed_sections": [],
      "authorship_tag": "ABX9TyOxLLOPq7EBWbtM7JoA9yoj"
    },
    "kernelspec": {
      "name": "python3",
      "display_name": "Python 3"
    },
    "language_info": {
      "name": "python"
    }
  },
  "cells": [
    {
      "cell_type": "markdown",
      "metadata": {
        "id": "lmX4WqbMycPi"
      },
      "source": [
        "[Reference1](https://medium.com/the-point-collections/intro-to-mlflow-with-colab-part-1-2-beb80c960ad9) <br>\n",
        "[Reference2](https://medium.com/the-point-collections/intro-to-mlflow-with-colab-part-2-2-ae03ffd3930b)"
      ]
    },
    {
      "cell_type": "code",
      "metadata": {
        "id": "Z3AZ9yBJyWIT"
      },
      "source": [
        "!pip install mlflow\n",
        "!databricks configure --host https://community.cloud.databricks.com/"
      ],
      "execution_count": null,
      "outputs": []
    },
    {
      "cell_type": "code",
      "metadata": {
        "id": "3cZjI7OKygwC"
      },
      "source": [
        "import mlflow\n",
        "mlflow.set_tracking_uri(\"databricks\")\n",
        "mlflow.set_experiment(\"<Enter your copied experiment name here>\")"
      ],
      "execution_count": null,
      "outputs": []
    },
    {
      "cell_type": "code",
      "metadata": {
        "id": "994S3zDwylzC"
      },
      "source": [
        "from sklearn.datasets import load_iris\n",
        "from sklearn.model_selection import train_test_split\n",
        "\n",
        "data = load_iris()\n",
        "X, y = data.data, data.target\n",
        "seed = 10 #Specify a seed value.\n",
        "\n",
        "X_train, X_test, y_train, y_test = train_test_split(X, y, random_state = seed, stratify = y)"
      ],
      "execution_count": null,
      "outputs": []
    },
    {
      "cell_type": "code",
      "metadata": {
        "id": "tXOWgslXyvvy"
      },
      "source": [
        "from sklearn.ensemble import RandomForestClassifier\n",
        "\n",
        "current_run = mlflow.start_run()\n",
        "\n",
        "#Logging the seed value to passed to the train_test_split function. \n",
        "mlflow.log_param(\"seed\", seed)\n",
        "\n",
        "estimators = int(input(\"Estimator(s): \"))\n",
        "\n",
        "#Model definition.\n",
        "rclf = RandomForestClassifier(n_estimators = estimators)\n",
        "\n",
        "mlflow.sklearn.autolog()\n",
        "rclf.fit(X_train, y_train)\n",
        "metrics = mlflow.sklearn.eval_and_log_metrics(rclf, X_test, y_test, prefix=\"val_\")\n",
        "mlflow.end_run()"
      ],
      "execution_count": null,
      "outputs": []
    },
    {
      "cell_type": "code",
      "metadata": {
        "id": "2_lLg00dyynE"
      },
      "source": [
        "run_id =  \"cd65debda71b420bb7fd6655668c8e04\"\n",
        "model_name = \"model\"\n",
        "best_model  = mlflow.sklearn.load_model(f\"runs:/{run_id}/{model_name}\")"
      ],
      "execution_count": null,
      "outputs": []
    }
  ]
}