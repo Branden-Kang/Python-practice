{
  "nbformat": 4,
  "nbformat_minor": 0,
  "metadata": {
    "colab": {
      "name": "Python Programming Language Dictionaries Tutorial.ipynb",
      "provenance": [],
      "authorship_tag": "ABX9TyOpTfkLDmuAmzQkbIxPPudo"
    },
    "kernelspec": {
      "name": "python3",
      "display_name": "Python 3"
    },
    "language_info": {
      "name": "python"
    }
  },
  "cells": [
    {
      "cell_type": "markdown",
      "metadata": {
        "id": "tkDSzC_jdx8i"
      },
      "source": [
        "[Reference](https://liu-111.medium.com/python-programming-language-dictionaries-tutorial-e23873580a36)"
      ]
    },
    {
      "cell_type": "code",
      "metadata": {
        "colab": {
          "base_uri": "https://localhost:8080/"
        },
        "id": "fU5Qvg4ndwOw",
        "outputId": "89759a3b-f371-464c-eae3-358a21c73412"
      },
      "source": [
        "dictionary = {\n",
        "    \"month\": \"january\",\n",
        "    \"day\": \"1st\",\n",
        "    \"year\": \"2000\",\n",
        "}\n",
        "print(dictionary)"
      ],
      "execution_count": 1,
      "outputs": [
        {
          "output_type": "stream",
          "name": "stdout",
          "text": [
            "{'month': 'january', 'day': '1st', 'year': '2000'}\n"
          ]
        }
      ]
    },
    {
      "cell_type": "code",
      "metadata": {
        "colab": {
          "base_uri": "https://localhost:8080/"
        },
        "id": "cKuN_5gXeb8g",
        "outputId": "c151c610-32b7-44c3-9ba9-b5705fdc439f"
      },
      "source": [
        "dictionary = {\n",
        "    \"month\": \"january\",\n",
        "    \"day\": \"1st\",\n",
        "    \"year\": \"2000\",\n",
        "}\n",
        "print(dictionary[\"month\"])"
      ],
      "execution_count": 2,
      "outputs": [
        {
          "output_type": "stream",
          "name": "stdout",
          "text": [
            "january\n"
          ]
        }
      ]
    },
    {
      "cell_type": "code",
      "metadata": {
        "colab": {
          "base_uri": "https://localhost:8080/"
        },
        "id": "KTI0siyQedgG",
        "outputId": "87e3c891-5c5b-4f98-cc3a-6647b5cd0306"
      },
      "source": [
        "dictionary = {\n",
        "    \"month\": \"january\",\n",
        "    \"day\": \"1st\",\n",
        "    \"year\": \"2000\"\n",
        "}\n",
        "\n",
        "print(dictionary.get(\"month\"))"
      ],
      "execution_count": 3,
      "outputs": [
        {
          "output_type": "stream",
          "name": "stdout",
          "text": [
            "january\n"
          ]
        }
      ]
    },
    {
      "cell_type": "code",
      "metadata": {
        "colab": {
          "base_uri": "https://localhost:8080/"
        },
        "id": "GW4Uw8Svee8h",
        "outputId": "34022379-b62c-4b2b-90fa-5d02a7e82dfb"
      },
      "source": [
        "dictionary = {\n",
        "    \"month\": \"january\",\n",
        "    \"day\": \"1st\",\n",
        "    \"year\": \"2000\"\n",
        "}\n",
        "\n",
        "print(dictionary.keys())"
      ],
      "execution_count": 4,
      "outputs": [
        {
          "output_type": "stream",
          "name": "stdout",
          "text": [
            "dict_keys(['month', 'day', 'year'])\n"
          ]
        }
      ]
    },
    {
      "cell_type": "code",
      "metadata": {
        "colab": {
          "base_uri": "https://localhost:8080/"
        },
        "id": "mRCZyAV_ehQS",
        "outputId": "b284b11c-549f-4786-9607-12ea387be889"
      },
      "source": [
        "dictionary = {\n",
        "    \"month\": \"january\",\n",
        "    \"day\": \"1st\",\n",
        "    \"year\": \"2000\"\n",
        "}\n",
        "\n",
        "print(dictionary.values())"
      ],
      "execution_count": 5,
      "outputs": [
        {
          "output_type": "stream",
          "name": "stdout",
          "text": [
            "dict_values(['january', '1st', '2000'])\n"
          ]
        }
      ]
    },
    {
      "cell_type": "code",
      "metadata": {
        "colab": {
          "base_uri": "https://localhost:8080/"
        },
        "id": "ANNPW2VMehyw",
        "outputId": "e9f3daff-75ac-4d4c-bcf5-1ef7d3732529"
      },
      "source": [
        "dictionary = {\n",
        "    \"month\": \"january\",\n",
        "    \"day\": \"1st\",\n",
        "    \"year\": \"2000\"\n",
        "}\n",
        "dictionary[\"month\"] = \"february\"\n",
        "\n",
        "print(dictionary)"
      ],
      "execution_count": 6,
      "outputs": [
        {
          "output_type": "stream",
          "name": "stdout",
          "text": [
            "{'month': 'february', 'day': '1st', 'year': '2000'}\n"
          ]
        }
      ]
    },
    {
      "cell_type": "code",
      "metadata": {
        "colab": {
          "base_uri": "https://localhost:8080/"
        },
        "id": "ejA8HgmVekZf",
        "outputId": "48870724-604d-4739-8ee3-ba101e18a0a9"
      },
      "source": [
        "dictionary = {\n",
        "    \"month\": \"january\",\n",
        "    \"day\": \"1st\",\n",
        "    \"year\": \"2000\"\n",
        "}\n",
        "dictionary.update({\"month\":\"march\"})\n",
        "\n",
        "print(dictionary)"
      ],
      "execution_count": 7,
      "outputs": [
        {
          "output_type": "stream",
          "name": "stdout",
          "text": [
            "{'month': 'march', 'day': '1st', 'year': '2000'}\n"
          ]
        }
      ]
    },
    {
      "cell_type": "code",
      "metadata": {
        "colab": {
          "base_uri": "https://localhost:8080/"
        },
        "id": "eluxlpKgemBg",
        "outputId": "6e64db8d-bfbb-4d1d-f80f-22efbbb478a5"
      },
      "source": [
        "dictionary = {\n",
        "    \"month\": \"january\",\n",
        "    \"day\": \"1st\",\n",
        "    \"year\": \"2000\",\n",
        "}\n",
        "dictionary[\"time\"] = \"2pm\"\n",
        "\n",
        "print(dictionary)"
      ],
      "execution_count": 8,
      "outputs": [
        {
          "output_type": "stream",
          "name": "stdout",
          "text": [
            "{'month': 'january', 'day': '1st', 'year': '2000', 'time': '2pm'}\n"
          ]
        }
      ]
    },
    {
      "cell_type": "code",
      "metadata": {
        "colab": {
          "base_uri": "https://localhost:8080/"
        },
        "id": "haB5AZigeni0",
        "outputId": "5c6e1a7d-d9cf-4ab9-87e9-545d8e8a1fa3"
      },
      "source": [
        "dictionary = {\n",
        "    \"month\": \"january\",\n",
        "    \"day\": \"1st\",\n",
        "    \"year\": \"2000\",\n",
        "}\n",
        "dictionary.update({\"time\":\"2pm\"})\n",
        "\n",
        "print(dictionary)"
      ],
      "execution_count": 9,
      "outputs": [
        {
          "output_type": "stream",
          "name": "stdout",
          "text": [
            "{'month': 'january', 'day': '1st', 'year': '2000', 'time': '2pm'}\n"
          ]
        }
      ]
    },
    {
      "cell_type": "code",
      "metadata": {
        "colab": {
          "base_uri": "https://localhost:8080/"
        },
        "id": "lvR_CES7eppd",
        "outputId": "a7e3c044-9ef1-44eb-b7f7-71fb37e81973"
      },
      "source": [
        "dictionary = {\n",
        "    \"month\": \"january\",\n",
        "    \"day\": \"1st\",\n",
        "    \"year\": \"2000\",\n",
        "}\n",
        "dictionary.pop(\"month\")\n",
        "\n",
        "print(dictionary)"
      ],
      "execution_count": 10,
      "outputs": [
        {
          "output_type": "stream",
          "name": "stdout",
          "text": [
            "{'day': '1st', 'year': '2000'}\n"
          ]
        }
      ]
    },
    {
      "cell_type": "code",
      "metadata": {
        "colab": {
          "base_uri": "https://localhost:8080/"
        },
        "id": "q6VbPrHverMF",
        "outputId": "44769fdb-3248-4ef3-82a6-fc59e2744d32"
      },
      "source": [
        "dictionary = {\n",
        "    \"month\": \"january\",\n",
        "    \"day\": \"1st\",\n",
        "    \"year\": \"2000\",\n",
        "}\n",
        "dictionary.popitem()\n",
        "\n",
        "print(dictionary)"
      ],
      "execution_count": 11,
      "outputs": [
        {
          "output_type": "stream",
          "name": "stdout",
          "text": [
            "{'month': 'january', 'day': '1st'}\n"
          ]
        }
      ]
    },
    {
      "cell_type": "code",
      "metadata": {
        "colab": {
          "base_uri": "https://localhost:8080/"
        },
        "id": "lq37aH_beuJw",
        "outputId": "c9640bc7-f260-4a55-bcdc-4a7ff9aea36c"
      },
      "source": [
        "dictionary = {\n",
        "    \"month\": \"january\",\n",
        "    \"day\": \"1st\",\n",
        "    \"year\": \"2000\",\n",
        "}\n",
        "dictionary.clear()\n",
        "\n",
        "print(dictionary)"
      ],
      "execution_count": 12,
      "outputs": [
        {
          "output_type": "stream",
          "name": "stdout",
          "text": [
            "{}\n"
          ]
        }
      ]
    },
    {
      "cell_type": "code",
      "metadata": {
        "id": "2TbOXwWkexqe"
      },
      "source": [
        "dictionary = {\n",
        "    \"month\": \"january\",\n",
        "    \"day\": \"1st\",\n",
        "    \"year\": \"2000\",\n",
        "}\n",
        "del dictionary"
      ],
      "execution_count": 13,
      "outputs": []
    },
    {
      "cell_type": "code",
      "metadata": {
        "colab": {
          "base_uri": "https://localhost:8080/"
        },
        "id": "qI-8nKP3ezcd",
        "outputId": "81a7da09-a7ed-45a0-a8b3-a0f63a66560a"
      },
      "source": [
        "dictionary = {\n",
        "    \"month\": \"january\",\n",
        "    \"day\": \"1st\",\n",
        "    \"year\": \"2000\",\n",
        "}\n",
        "\n",
        "for x in dictionary:\n",
        "    print(x)"
      ],
      "execution_count": 14,
      "outputs": [
        {
          "output_type": "stream",
          "name": "stdout",
          "text": [
            "month\n",
            "day\n",
            "year\n"
          ]
        }
      ]
    },
    {
      "cell_type": "code",
      "metadata": {
        "colab": {
          "base_uri": "https://localhost:8080/"
        },
        "id": "JGNpGHJte1DL",
        "outputId": "9c7f5fb4-5546-4bb0-95ed-cbe6de9a7010"
      },
      "source": [
        "dictionary = {\n",
        "    \"month\": \"january\",\n",
        "    \"day\": \"1st\",\n",
        "    \"year\": \"2000\",\n",
        "}\n",
        "\n",
        "for x in dictionary.values():\n",
        "    print(x)"
      ],
      "execution_count": 15,
      "outputs": [
        {
          "output_type": "stream",
          "name": "stdout",
          "text": [
            "january\n",
            "1st\n",
            "2000\n"
          ]
        }
      ]
    },
    {
      "cell_type": "code",
      "metadata": {
        "colab": {
          "base_uri": "https://localhost:8080/"
        },
        "id": "XkobKQPje2Sy",
        "outputId": "8a93a796-bde2-4357-8f0c-ef5d3fea4a9d"
      },
      "source": [
        "dictionary = {\n",
        "    \"month\": \"january\",\n",
        "    \"day\": \"1st\",\n",
        "    \"year\": \"2000\",\n",
        "}\n",
        "\n",
        "for keys, values in dictionary.items():\n",
        "    print(keys, values)"
      ],
      "execution_count": 16,
      "outputs": [
        {
          "output_type": "stream",
          "name": "stdout",
          "text": [
            "month january\n",
            "day 1st\n",
            "year 2000\n"
          ]
        }
      ]
    }
  ]
}