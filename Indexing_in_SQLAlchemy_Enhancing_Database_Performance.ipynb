{
  "nbformat": 4,
  "nbformat_minor": 0,
  "metadata": {
    "colab": {
      "provenance": [],
      "authorship_tag": "ABX9TyMil1QYZDueClicKlNf0cwA"
    },
    "kernelspec": {
      "name": "python3",
      "display_name": "Python 3"
    },
    "language_info": {
      "name": "python"
    }
  },
  "cells": [
    {
      "cell_type": "markdown",
      "source": [
        "[Reference](https://python.plainenglish.io/indexing-in-sqlalchemy-enhancing-database-performance-0a11e0432a97)"
      ],
      "metadata": {
        "id": "uDQGYTWBDPch"
      }
    },
    {
      "cell_type": "markdown",
      "source": [
        "# Prerequisites"
      ],
      "metadata": {
        "id": "A6KBvFWwDfSt"
      }
    },
    {
      "cell_type": "code",
      "execution_count": 1,
      "metadata": {
        "colab": {
          "base_uri": "https://localhost:8080/"
        },
        "id": "aj6CjcN7C1Qe",
        "outputId": "383063a8-b4f4-4b48-eba8-bd0e8977f020"
      },
      "outputs": [
        {
          "output_type": "stream",
          "name": "stdout",
          "text": [
            "Requirement already satisfied: sqlalchemy in /usr/local/lib/python3.10/dist-packages (2.0.22)\n",
            "Requirement already satisfied: typing-extensions>=4.2.0 in /usr/local/lib/python3.10/dist-packages (from sqlalchemy) (4.5.0)\n",
            "Requirement already satisfied: greenlet!=0.4.17 in /usr/local/lib/python3.10/dist-packages (from sqlalchemy) (3.0.0)\n"
          ]
        }
      ],
      "source": [
        "pip install sqlalchemy"
      ]
    },
    {
      "cell_type": "markdown",
      "source": [
        "# Creating a Simple Table"
      ],
      "metadata": {
        "id": "rYOlGqk1DeXF"
      }
    },
    {
      "cell_type": "code",
      "source": [
        "from sqlalchemy import create_engine, Column, Integer, String\n",
        "from sqlalchemy.orm import sessionmaker\n",
        "from sqlalchemy.ext.declarative import declarative_base\n",
        "\n",
        "# Create a SQLite database in memory\n",
        "engine = create_engine('sqlite:///:memory:')\n",
        "Base = declarative_base()\n",
        "class User(Base):\n",
        "    __tablename__ = 'users'\n",
        "    id = Column(Integer, primary_key=True)\n",
        "    name = Column(String(50))\n",
        "    age = Column(Integer)\n",
        "# Create the table\n",
        "Base.metadata.create_all(engine)\n",
        "# Create a session\n",
        "Session = sessionmaker(bind=engine)\n",
        "session = Session()"
      ],
      "metadata": {
        "id": "nCxKpyIhDabC"
      },
      "execution_count": 2,
      "outputs": []
    },
    {
      "cell_type": "markdown",
      "source": [
        "# Creating an Index"
      ],
      "metadata": {
        "id": "f-SrWO1ODhyP"
      }
    },
    {
      "cell_type": "code",
      "source": [
        "from sqlalchemy import Index\n",
        "\n",
        "# Create an index\n",
        "index_name = Index('idx_name', User.name)\n",
        "# Add the index to the table\n",
        "index_name.create(bind=engine)"
      ],
      "metadata": {
        "id": "1-pr00mHDctq"
      },
      "execution_count": 3,
      "outputs": []
    },
    {
      "cell_type": "markdown",
      "source": [
        "# Querying with an Index"
      ],
      "metadata": {
        "id": "8fczCnvKDm6m"
      }
    },
    {
      "cell_type": "code",
      "source": [
        "# Query using the index\n",
        "user = session.query(User).filter_by(name='Alice').first()"
      ],
      "metadata": {
        "id": "5IC6SfKfDlny"
      },
      "execution_count": 4,
      "outputs": []
    }
  ]
}