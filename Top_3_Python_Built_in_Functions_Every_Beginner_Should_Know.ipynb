{
  "nbformat": 4,
  "nbformat_minor": 0,
  "metadata": {
    "colab": {
      "provenance": [],
      "authorship_tag": "ABX9TyNBBLMwstg33Me4KwAWW9YM"
    },
    "kernelspec": {
      "name": "python3",
      "display_name": "Python 3"
    },
    "language_info": {
      "name": "python"
    }
  },
  "cells": [
    {
      "cell_type": "markdown",
      "source": [
        "[Reference](https://medium.com/@aliyannshaikhh/9212c779025d)"
      ],
      "metadata": {
        "id": "In8_ZR2M8wHe"
      }
    },
    {
      "cell_type": "markdown",
      "source": [
        "# 1. map() — Apply a Function to Each Item"
      ],
      "metadata": {
        "id": "op2qXNfm8zLi"
      }
    },
    {
      "cell_type": "code",
      "execution_count": 1,
      "metadata": {
        "colab": {
          "base_uri": "https://localhost:8080/"
        },
        "id": "f5i-FKLJ8ks3",
        "outputId": "af5eff3d-d168-46a5-b06d-b4cb48addbd5"
      },
      "outputs": [
        {
          "output_type": "stream",
          "name": "stdout",
          "text": [
            "[32.0, 50.0, 68.0, 86.0, 104.0]\n"
          ]
        }
      ],
      "source": [
        "celsius_temps = [0, 10, 20, 30, 40]\n",
        "fahrenheit_temps = list(map(lambda c: (c * 9/5) + 32, celsius_temps))\n",
        "print(fahrenheit_temps)"
      ]
    },
    {
      "cell_type": "markdown",
      "source": [
        "# 2. filter() — Select Items Based on a Condition"
      ],
      "metadata": {
        "id": "Nyy5r6Wd85gW"
      }
    },
    {
      "cell_type": "code",
      "source": [
        "scores = [45, 78, 88, 32, 90, 55, 40]\n",
        "passing_scores = list(filter(lambda x: x > 50, scores))\n",
        "print(passing_scores)"
      ],
      "metadata": {
        "colab": {
          "base_uri": "https://localhost:8080/"
        },
        "id": "EUi0MSKA82JX",
        "outputId": "6184e1e4-5906-4800-fe97-715138b1f9b5"
      },
      "execution_count": 2,
      "outputs": [
        {
          "output_type": "stream",
          "name": "stdout",
          "text": [
            "[78, 88, 90, 55]\n"
          ]
        }
      ]
    },
    {
      "cell_type": "markdown",
      "source": [
        "# 3. zip() — Combine Multiple Lists"
      ],
      "metadata": {
        "id": "NwM2oGne8-Q4"
      }
    },
    {
      "cell_type": "code",
      "source": [
        "names = [\"Aliyan\", \"Ahad\", \"Rahim\"]\n",
        "phone_numbers = [\"123-4567\", \"987-6543\", \"555-1212\"]\n",
        "contacts = list(zip(names, phone_numbers))\n",
        "print(contacts)"
      ],
      "metadata": {
        "colab": {
          "base_uri": "https://localhost:8080/"
        },
        "id": "SP30tZxR87_R",
        "outputId": "f3a1b4d8-fe46-4176-dabb-f2ae1825c3f4"
      },
      "execution_count": 3,
      "outputs": [
        {
          "output_type": "stream",
          "name": "stdout",
          "text": [
            "[('Aliyan', '123-4567'), ('Ahad', '987-6543'), ('Rahim', '555-1212')]\n"
          ]
        }
      ]
    }
  ]
}