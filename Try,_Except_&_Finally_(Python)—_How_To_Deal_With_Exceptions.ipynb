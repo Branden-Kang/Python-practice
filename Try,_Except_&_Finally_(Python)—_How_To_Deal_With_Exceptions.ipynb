{
  "nbformat": 4,
  "nbformat_minor": 0,
  "metadata": {
    "colab": {
      "provenance": [],
      "authorship_tag": "ABX9TyMtxrgqY7+ylWNml9VKM9CE"
    },
    "kernelspec": {
      "name": "python3",
      "display_name": "Python 3"
    },
    "language_info": {
      "name": "python"
    }
  },
  "cells": [
    {
      "cell_type": "markdown",
      "source": [
        "[Reference](https://towardsdev.com/try-except-finally-python-how-to-deal-with-exceptions-2c428e0372c8)"
      ],
      "metadata": {
        "id": "E_09zQcPkkX7"
      }
    },
    {
      "cell_type": "markdown",
      "source": [
        "# Try-Except Block"
      ],
      "metadata": {
        "id": "IL_1mfvpknXS"
      }
    },
    {
      "cell_type": "code",
      "execution_count": 1,
      "metadata": {
        "colab": {
          "base_uri": "https://localhost:8080/"
        },
        "id": "7ZGqZfamhjlw",
        "outputId": "72293499-7bcc-4557-fc65-8701bcaa5f29"
      },
      "outputs": [
        {
          "output_type": "stream",
          "name": "stdout",
          "text": [
            "cannot divide by 0\n"
          ]
        }
      ],
      "source": [
        "try:\n",
        "    x = 1 / 0\n",
        "except:\n",
        "    print(\"cannot divide by 0\")"
      ]
    },
    {
      "cell_type": "markdown",
      "source": [
        "# Try-Except Block But With Specific Exceptions"
      ],
      "metadata": {
        "id": "PM2qj8P-kpsK"
      }
    },
    {
      "cell_type": "code",
      "source": [
        "# try:\n",
        "#     # some risky code\n",
        "# except ZeroDivisionError as err:\n",
        "#     print(err)\n",
        "#     print(\"cannot divide by 0\")\n",
        "# except TypeError as err:\n",
        "#     print(err)\n",
        "#     print(\"type is wrong\")\n",
        "# except Exception as err:\n",
        "#     print(err)"
      ],
      "metadata": {
        "id": "6HLOodSEkoj8"
      },
      "execution_count": 2,
      "outputs": []
    },
    {
      "cell_type": "markdown",
      "source": [
        "# Try-Except-Finally Block"
      ],
      "metadata": {
        "id": "x5KskWoukwFe"
      }
    },
    {
      "cell_type": "code",
      "source": [
        "def test():\n",
        "    try:\n",
        "        return \"something\"    \n",
        "    except Exception as err:\n",
        "        return \"something else\"    \n",
        "    finally:\n",
        "        print(\"this will always run!\")\n",
        "\n",
        "x = test()\n",
        "print(x)"
      ],
      "metadata": {
        "colab": {
          "base_uri": "https://localhost:8080/"
        },
        "id": "ob9tulvnku4S",
        "outputId": "55ae7b2c-d2fb-4b31-f2f1-10c3501f498e"
      },
      "execution_count": 3,
      "outputs": [
        {
          "output_type": "stream",
          "name": "stdout",
          "text": [
            "this will always run!\n",
            "something\n"
          ]
        }
      ]
    },
    {
      "cell_type": "markdown",
      "source": [
        "# The Raise Keyword"
      ],
      "metadata": {
        "id": "k-cjO_LJk5fT"
      }
    },
    {
      "cell_type": "code",
      "source": [
        "height = float(input(\"Enter your height >>>\"))\n",
        "\n",
        "if height <= 0:\n",
        "    raise Exception(\"height cannot be 0 or less...\")"
      ],
      "metadata": {
        "colab": {
          "base_uri": "https://localhost:8080/"
        },
        "id": "Csl3Orrdk2_S",
        "outputId": "f2e02b6b-cd3d-4be9-86ea-e7c3ab1ab1c8"
      },
      "execution_count": 4,
      "outputs": [
        {
          "name": "stdout",
          "output_type": "stream",
          "text": [
            "Enter your height >>>70\n"
          ]
        }
      ]
    }
  ]
}