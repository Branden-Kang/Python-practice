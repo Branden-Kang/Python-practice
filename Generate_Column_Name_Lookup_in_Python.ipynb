{
  "nbformat": 4,
  "nbformat_minor": 0,
  "metadata": {
    "colab": {
      "provenance": [],
      "authorship_tag": "ABX9TyOAi2EpEBnmkUbqRRHQhWnU"
    },
    "kernelspec": {
      "name": "python3",
      "display_name": "Python 3"
    },
    "language_info": {
      "name": "python"
    }
  },
  "cells": [
    {
      "cell_type": "markdown",
      "source": [
        "[Reference](https://medium.com/re-stacked/generate-column-name-lookup-in-python-a1fc9de6aa1c)"
      ],
      "metadata": {
        "id": "LyqyC4cgZK3y"
      }
    },
    {
      "cell_type": "code",
      "source": [
        "import pandas as pd"
      ],
      "metadata": {
        "id": "WZqa9bw2ZSIT"
      },
      "execution_count": 2,
      "outputs": []
    },
    {
      "cell_type": "code",
      "execution_count": 3,
      "metadata": {
        "id": "-ZGW8i4rZJYd"
      },
      "outputs": [],
      "source": [
        "df = pd.DataFrame({\n",
        "    'a': [1, 2, 1],\n",
        "    'b': [2, 1, 2],\n",
        "    'c': [3, 3, 2],\n",
        "    'column': ['a', 'c', 'b'],\n",
        "})"
      ]
    },
    {
      "cell_type": "code",
      "source": [
        "import pandas as pd\n",
        "\n",
        "df = pd.DataFrame({\n",
        "    'a': [1, 2, 1],\n",
        "    'b': [2, 1, 2],\n",
        "    'c': [3, 3, 2],\n",
        "    'column': ['a', 'c', 'b'],\n",
        "})\n",
        "\n",
        "df['lookup'] = df.apply(lambda row: row[row['column']], axis=1)\n",
        "print(df)"
      ],
      "metadata": {
        "colab": {
          "base_uri": "https://localhost:8080/"
        },
        "id": "7AoieiMWZNBH",
        "outputId": "2b46d177-30d3-4009-ca60-a06c3bc91232"
      },
      "execution_count": 4,
      "outputs": [
        {
          "output_type": "stream",
          "name": "stdout",
          "text": [
            "   a  b  c column  lookup\n",
            "0  1  2  3      a       1\n",
            "1  2  1  3      c       3\n",
            "2  1  2  2      b       2\n"
          ]
        }
      ]
    }
  ]
}