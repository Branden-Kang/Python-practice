{
  "nbformat": 4,
  "nbformat_minor": 0,
  "metadata": {
    "colab": {
      "provenance": [],
      "authorship_tag": "ABX9TyMRjmi1xz4ybdFSRO/lZ17S"
    },
    "kernelspec": {
      "name": "python3",
      "display_name": "Python 3"
    },
    "language_info": {
      "name": "python"
    }
  },
  "cells": [
    {
      "cell_type": "markdown",
      "source": [
        "[Reference](https://medium.com/@WojtekFulmyk/one-hot-encoding-a-brief-explanation-8c5daec395e3)"
      ],
      "metadata": {
        "id": "lsiaZrAHVOnU"
      }
    },
    {
      "cell_type": "code",
      "execution_count": 1,
      "metadata": {
        "colab": {
          "base_uri": "https://localhost:8080/"
        },
        "id": "F_FDfyAmT2RP",
        "outputId": "9e6935d2-0de4-469b-a037-ed2d3e908aec"
      },
      "outputs": [
        {
          "output_type": "stream",
          "name": "stdout",
          "text": [
            "Red encoding: [1, 0, 0]\n",
            "Green encoding: [0, 1, 0]\n",
            "Blue encoding: [0, 0, 1]\n"
          ]
        }
      ],
      "source": [
        "import numpy as np\n",
        "\n",
        "colors = ['red', 'green', 'blue']\n",
        "\n",
        "red = [1, 0, 0]\n",
        "green = [0, 1, 0]\n",
        "blue = [0, 0, 1]\n",
        "\n",
        "print(\"Red encoding:\", red)\n",
        "print(\"Green encoding:\", green)\n",
        "print(\"Blue encoding:\", blue)"
      ]
    },
    {
      "cell_type": "code",
      "source": [
        "import numpy as np\n",
        "from sklearn.preprocessing import OneHotEncoder\n",
        "\n",
        "colors = ['red', 'green', 'blue']\n",
        "# reshape as 2D array\n",
        "colors = np.array(colors).reshape(-1,1)\n",
        "\n",
        "encoder = OneHotEncoder(sparse_output=False)\n",
        "encoded = encoder.fit_transform(colors)\n",
        "\n",
        "print(encoded)"
      ],
      "metadata": {
        "colab": {
          "base_uri": "https://localhost:8080/"
        },
        "id": "w-3JHMdAVpSb",
        "outputId": "79983a14-ba25-435a-f152-9e959a676719"
      },
      "execution_count": 2,
      "outputs": [
        {
          "output_type": "stream",
          "name": "stdout",
          "text": [
            "[[0. 0. 1.]\n",
            " [0. 1. 0.]\n",
            " [1. 0. 0.]]\n"
          ]
        }
      ]
    }
  ]
}