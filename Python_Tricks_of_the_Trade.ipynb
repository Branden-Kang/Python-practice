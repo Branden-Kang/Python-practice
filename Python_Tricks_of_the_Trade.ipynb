{
  "nbformat": 4,
  "nbformat_minor": 0,
  "metadata": {
    "colab": {
      "name": "Python Tricks of the Trade.ipynb",
      "provenance": [],
      "authorship_tag": "ABX9TyMkw2kQFWKG7Ozl+XZw7f9q"
    },
    "kernelspec": {
      "name": "python3",
      "display_name": "Python 3"
    },
    "language_info": {
      "name": "python"
    }
  },
  "cells": [
    {
      "cell_type": "markdown",
      "metadata": {
        "id": "GXugbL51q-Fm"
      },
      "source": [
        "[Reference](https://kanishkvarshney.medium.com/fun-with-python-88d599ac07e1)"
      ]
    },
    {
      "cell_type": "markdown",
      "metadata": {
        "id": "jPgujSE4rAlG"
      },
      "source": [
        "# Type-hinting"
      ]
    },
    {
      "cell_type": "code",
      "metadata": {
        "id": "kcs9QlWtq4W7"
      },
      "source": [
        "def greeting(name: str) -> str:\n",
        "    greet: str = 'Hello '\n",
        "    return greet + name"
      ],
      "execution_count": 1,
      "outputs": []
    },
    {
      "cell_type": "markdown",
      "metadata": {
        "id": "fNgNCEXIrDId"
      },
      "source": [
        "# Walrus Operator"
      ]
    },
    {
      "cell_type": "code",
      "metadata": {
        "id": "pfeTPwA7rBxN"
      },
      "source": [
        "def is_big_room(l, b):\n",
        "  area = l*b\n",
        "  if area >= 10: \n",
        "    big_room = True\n",
        "  print(big_room)"
      ],
      "execution_count": 2,
      "outputs": []
    },
    {
      "cell_type": "code",
      "metadata": {
        "id": "QrxVTDnJrErK"
      },
      "source": [
        "def is_big_room(l, b):\n",
        "  area = l*b\n",
        "  print(big_room := area >= 10) #Assigns True to big_room on the fly"
      ],
      "execution_count": 4,
      "outputs": []
    },
    {
      "cell_type": "markdown",
      "metadata": {
        "id": "WNCmK1skrLad"
      },
      "source": [
        "# Dunder Methods"
      ]
    },
    {
      "cell_type": "code",
      "metadata": {
        "colab": {
          "base_uri": "https://localhost:8080/"
        },
        "id": "3zxmaSnnrIIl",
        "outputId": "00c3b010-d625-4640-c963-d8f072bc9d1c"
      },
      "source": [
        "class Dunder:\n",
        "    def __init__(self, name: str, age: int, height: float):\n",
        "        self.name = name\n",
        "        self.age = age\n",
        "        self.height = height\n",
        "\n",
        "    def __repr__(self):\n",
        "        return f\"{self.name.capitalize()}, {self.age}\"\n",
        "\n",
        "    def __len__(self):\n",
        "        return self.height\n",
        "\n",
        "\n",
        "dunder = Dunder(\"JohnDoe\", 34, 178)\n",
        "print(f\"Hi, I am {dunder}\")\n",
        "print(f\"My height?: {len(dunder)}\")"
      ],
      "execution_count": 5,
      "outputs": [
        {
          "output_type": "stream",
          "name": "stdout",
          "text": [
            "Hi, I am Johndoe, 34\n",
            "My height?: 178\n"
          ]
        }
      ]
    },
    {
      "cell_type": "code",
      "metadata": {
        "colab": {
          "base_uri": "https://localhost:8080/"
        },
        "id": "tGMURF2hrM1f",
        "outputId": "e0bc953c-875a-413d-c45f-0e6b41ed1e8b"
      },
      "source": [
        "class Liar(list):\n",
        "    def __len__(self):\n",
        "        return super().__len__() + 5\n",
        "\n",
        "\n",
        "ll = Liar([1, 2, 3])\n",
        "print(len(ll)) # prints 8"
      ],
      "execution_count": 6,
      "outputs": [
        {
          "output_type": "stream",
          "name": "stdout",
          "text": [
            "8\n"
          ]
        }
      ]
    }
  ]
}