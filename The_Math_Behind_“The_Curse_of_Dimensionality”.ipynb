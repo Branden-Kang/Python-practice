{
  "nbformat": 4,
  "nbformat_minor": 0,
  "metadata": {
    "colab": {
      "provenance": [],
      "authorship_tag": "ABX9TyPo5xEMU4gSvCEzKK/Vd6RQ"
    },
    "kernelspec": {
      "name": "python3",
      "display_name": "Python 3"
    },
    "language_info": {
      "name": "python"
    }
  },
  "cells": [
    {
      "cell_type": "markdown",
      "source": [
        "[Reference](https://towardsdatascience.com/the-math-behind-the-curse-of-dimensionality-cf8780307d74)"
      ],
      "metadata": {
        "id": "Gc5PFUEX1HFp"
      }
    },
    {
      "cell_type": "code",
      "execution_count": 1,
      "metadata": {
        "id": "1zVEwMin1Eav"
      },
      "outputs": [],
      "source": [
        "def generate_data(dimension, num_points):\n",
        "    ''' Generate random data points within [0, 1] for each coordinate in the given dimension '''\n",
        "    data = np.random.rand(num_points, dimension)\n",
        "    return data\n",
        "\n",
        "\n",
        "def neighbors(data, query_point):\n",
        "    ''' Returns the nearest and farthest point in data from query_point '''\n",
        "    nearest_distance = float('inf')\n",
        "    farthest_distance = 0\n",
        "    for point in data:\n",
        "        distance = np.linalg.norm(point - query_point)\n",
        "        if distance < nearest_distance:\n",
        "            nearest_distance = distance\n",
        "        if distance > farthest_distance:\n",
        "            farthest_distance = distance\n",
        "    return nearest_distance, farthest_distance"
      ]
    }
  ]
}