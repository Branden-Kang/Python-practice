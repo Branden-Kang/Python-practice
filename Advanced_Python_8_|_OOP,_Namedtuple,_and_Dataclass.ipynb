{
  "nbformat": 4,
  "nbformat_minor": 0,
  "metadata": {
    "colab": {
      "name": "Advanced Python 8 | OOP, Namedtuple, and Dataclass.ipynb",
      "provenance": [],
      "collapsed_sections": [],
      "authorship_tag": "ABX9TyM8n6YSNpcJR1TEvRwt0gL1"
    },
    "kernelspec": {
      "name": "python3",
      "display_name": "Python 3"
    },
    "language_info": {
      "name": "python"
    }
  },
  "cells": [
    {
      "cell_type": "markdown",
      "metadata": {
        "id": "LtC9SsPU7Pk_"
      },
      "source": [
        "[Reference](https://medium.com/adamedelwiess/advanced-python-8-oop-namedtuple-and-dataclass-4c6ffbe8eda5)"
      ]
    },
    {
      "cell_type": "code",
      "metadata": {
        "id": "bp9H2RGy2dr0"
      },
      "source": [
        "class Car:\n",
        "    pass"
      ],
      "execution_count": 5,
      "outputs": []
    },
    {
      "cell_type": "code",
      "metadata": {
        "id": "89DSaFII2fmM"
      },
      "source": [
        "class Car:\n",
        "    pass\n",
        "    \n",
        "car = Car()"
      ],
      "execution_count": 6,
      "outputs": []
    },
    {
      "cell_type": "code",
      "metadata": {
        "id": "Dix8ats71wig"
      },
      "source": [
        "class Car:\n",
        "    def __init__(self, name, size, color):\n",
        "        \"constructor\"\n",
        "        self.name = name\n",
        "        self.size = size\n",
        "        self.color = color\n",
        "\n",
        "car = Car('Audi', 'Big', color='Blue')"
      ],
      "execution_count": 8,
      "outputs": []
    },
    {
      "cell_type": "code",
      "metadata": {
        "colab": {
          "base_uri": "https://localhost:8080/"
        },
        "id": "YwHreSac1xPf",
        "outputId": "024396f6-ae72-4ed6-b2c5-4a76c7f1ef4c"
      },
      "source": [
        "class Car:\n",
        "\n",
        "    def __init__(self, name, size, color):\n",
        "        \"constructor\"\n",
        "        self.name = name\n",
        "        self.size = size\n",
        "        self.color = color\n",
        "\n",
        "    def __del__(self):\n",
        "        \"destructor\"\n",
        "        print(f'{self.name} is sold.')\n",
        "\n",
        "car = Car('Audi', 'Big', color='Blue')\n",
        "del car"
      ],
      "execution_count": 11,
      "outputs": [
        {
          "output_type": "stream",
          "text": [
            "Audi is sold.\n"
          ],
          "name": "stdout"
        }
      ]
    },
    {
      "cell_type": "code",
      "metadata": {
        "colab": {
          "base_uri": "https://localhost:8080/"
        },
        "id": "t6UZi9FY1y-M",
        "outputId": "3d09c17d-7931-4547-82f3-aba56910281f"
      },
      "source": [
        "class Car:\n",
        "\n",
        "    def __init__(self, name, size, color):\n",
        "        \"constructor\"\n",
        "        self.name = name\n",
        "        self.size = size\n",
        "        self.color = color\n",
        "\n",
        "    def get_color(self):\n",
        "        \"instance method\"\n",
        "        print(f'{self.name} is {self.color}.')\n",
        "\n",
        "    def __del__(self):\n",
        "        \"destructor\"\n",
        "        print(f'{self.name} is sold.')\n",
        "\n",
        "\n",
        "car = Car('Audi', 'Big', color='Blue')\n",
        "car.get_color()\n",
        "del car"
      ],
      "execution_count": 14,
      "outputs": [
        {
          "output_type": "stream",
          "text": [
            "Audi is Blue.\n",
            "Audi is sold.\n"
          ],
          "name": "stdout"
        }
      ]
    },
    {
      "cell_type": "code",
      "metadata": {
        "colab": {
          "base_uri": "https://localhost:8080/",
          "height": 164
        },
        "id": "-c10vp6c12TZ",
        "outputId": "c978b61e-8f7a-4bb1-c1d0-77359881448f"
      },
      "source": [
        "Car.get_color()"
      ],
      "execution_count": 15,
      "outputs": [
        {
          "output_type": "error",
          "ename": "TypeError",
          "evalue": "ignored",
          "traceback": [
            "\u001b[0;31m---------------------------------------------------------------------------\u001b[0m",
            "\u001b[0;31mTypeError\u001b[0m                                 Traceback (most recent call last)",
            "\u001b[0;32m<ipython-input-15-4550b1650e82>\u001b[0m in \u001b[0;36m<module>\u001b[0;34m()\u001b[0m\n\u001b[0;32m----> 1\u001b[0;31m \u001b[0mCar\u001b[0m\u001b[0;34m.\u001b[0m\u001b[0mget_color\u001b[0m\u001b[0;34m(\u001b[0m\u001b[0;34m)\u001b[0m\u001b[0;34m\u001b[0m\u001b[0;34m\u001b[0m\u001b[0m\n\u001b[0m",
            "\u001b[0;31mTypeError\u001b[0m: get_color() missing 1 required positional argument: 'self'"
          ]
        }
      ]
    },
    {
      "cell_type": "code",
      "metadata": {
        "colab": {
          "base_uri": "https://localhost:8080/"
        },
        "id": "1MqLHUiB16VU",
        "outputId": "260ff012-f481-420c-f962-65f3bb3d0b6e"
      },
      "source": [
        "class Car:\n",
        "\n",
        "    name = 'The Audi'\n",
        "\n",
        "    def __init__(self, name, size, color):\n",
        "        \"constructor\"\n",
        "        self.name = name\n",
        "        self.size = size\n",
        "        self.color = color\n",
        "\n",
        "    def get_color(self):\n",
        "        \"instance method\"\n",
        "        print(f'{self.name} is {self.color}.')\n",
        "\n",
        "\n",
        "    @classmethod\n",
        "    def stop(cls, n=1):\n",
        "        \"class method\"\n",
        "        for _ in range(n):\n",
        "            print(f'{cls.name} stops!')\n",
        "\n",
        "\n",
        "    def __del__(self):\n",
        "        \"destructor\"\n",
        "        print(f'{self.name} is sold.')\n",
        "\n",
        "\n",
        "Car.stop()\n",
        "\n",
        "car = Car('Audi', 'Big', color='Blue')\n",
        "car.get_color()\n",
        "car.stop()\n",
        "del car"
      ],
      "execution_count": 16,
      "outputs": [
        {
          "output_type": "stream",
          "text": [
            "The Audi stops!\n",
            "Audi is Blue.\n",
            "The Audi stops!\n",
            "Audi is sold.\n"
          ],
          "name": "stdout"
        }
      ]
    },
    {
      "cell_type": "code",
      "metadata": {
        "colab": {
          "base_uri": "https://localhost:8080/"
        },
        "id": "_FyGaNUJ5OB4",
        "outputId": "c027c5d5-bbe1-47a5-8990-0b93210c629d"
      },
      "source": [
        "import random\n",
        "\n",
        "class Car:\n",
        "\n",
        "    name = 'The Audi'\n",
        "\n",
        "    def __init__(self, name, size, color):\n",
        "        \"constructor\"\n",
        "        self.name = name\n",
        "        self.size = size\n",
        "        self.color = color\n",
        "\n",
        "    def get_color(self):\n",
        "        \"instance method\"\n",
        "        print(f'{self.name} is {self.color}.')\n",
        "\n",
        "\n",
        "    @classmethod\n",
        "    def stop(cls, n=1):\n",
        "        \"class method\"\n",
        "        for _ in range(n):\n",
        "            print(f'{cls.name} stops!')\n",
        "\n",
        "    @staticmethod\n",
        "    def move():\n",
        "        direction = ['Go right', 'Go left', 'Go up', 'Go down', 'Stay']\n",
        "        print(random.choice(direction))\n",
        "\n",
        "\n",
        "    def __del__(self):\n",
        "        \"destructor\"\n",
        "        print(f'{self.name} is sold.')\n",
        "\n",
        "print(\"class method\")\n",
        "Car.stop()\n",
        "print(\"\\nstatic method\")\n",
        "Car.move()\n",
        "print(\"\\ninstance method\")\n",
        "car = Car('Audi', 'Big', color='Blue')\n",
        "car.get_color()\n",
        "car.stop()\n",
        "car.move()\n",
        "del car"
      ],
      "execution_count": 17,
      "outputs": [
        {
          "output_type": "stream",
          "text": [
            "class method\n",
            "The Audi stops!\n",
            "\n",
            "static method\n",
            "Go right\n",
            "\n",
            "instance method\n",
            "Audi is Blue.\n",
            "The Audi stops!\n",
            "Go down\n",
            "Audi is sold.\n"
          ],
          "name": "stdout"
        }
      ]
    },
    {
      "cell_type": "code",
      "metadata": {
        "colab": {
          "base_uri": "https://localhost:8080/"
        },
        "id": "aNTSAdSw6YoG",
        "outputId": "90514b34-c50d-4d89-d98c-49283f5e0f9a"
      },
      "source": [
        "class Bike(Car):\n",
        "\n",
        "    name = \"The bike\"\n",
        "\n",
        "    @classmethod\n",
        "    def broom(cls):\n",
        "        \"class method\"\n",
        "        print(f'{cls.name} brooms!')\n",
        "\n",
        "    @classmethod\n",
        "    def stopping(cls, n=1):\n",
        "        \"class method\"\n",
        "        for _ in range(n):\n",
        "            print(f'{cls.name} are stopping!')\n",
        "\n",
        "print(\"class method ------------------\")\n",
        "Bike.stopping()\n",
        "print(\"\\nstatic method ------------------\")\n",
        "Bike.move()\n",
        "print(\"\\ninstance method ----------------\")\n",
        "bike = Bike('Harley-Davidson', 'Medium', color='Red')\n",
        "bike.get_color()\n",
        "bike.broom()\n",
        "bike.stopping()\n",
        "bike.move()\n",
        "del bike"
      ],
      "execution_count": 31,
      "outputs": [
        {
          "output_type": "stream",
          "text": [
            "class method ------------------\n",
            "The bike are stopping!\n",
            "\n",
            "static method ------------------\n",
            "Go up\n",
            "\n",
            "instance method ----------------\n",
            "Harley-Davidson is Red.\n",
            "The bike brooms!\n",
            "The bike are stopping!\n",
            "Go right\n",
            "Harley-Davidson is sold.\n"
          ],
          "name": "stdout"
        }
      ]
    },
    {
      "cell_type": "code",
      "metadata": {
        "id": "GztPBqZW62MJ"
      },
      "source": [
        "from collections import namedtuple\n",
        "from dataclasses import dataclass"
      ],
      "execution_count": 18,
      "outputs": []
    },
    {
      "cell_type": "code",
      "metadata": {
        "id": "5loF533w63UA"
      },
      "source": [
        "Point = namedtuple('Point', ['x', 'y'])\n",
        "p = Point(11, 22)"
      ],
      "execution_count": 20,
      "outputs": []
    },
    {
      "cell_type": "code",
      "metadata": {
        "colab": {
          "base_uri": "https://localhost:8080/"
        },
        "id": "NibWXWwp67hf",
        "outputId": "273f66be-76f7-40d9-d5c0-38beac65a869"
      },
      "source": [
        "p.x"
      ],
      "execution_count": 21,
      "outputs": [
        {
          "output_type": "execute_result",
          "data": {
            "text/plain": [
              "11"
            ]
          },
          "metadata": {
            "tags": []
          },
          "execution_count": 21
        }
      ]
    },
    {
      "cell_type": "code",
      "metadata": {
        "colab": {
          "base_uri": "https://localhost:8080/"
        },
        "id": "MDGSq_fi68Bw",
        "outputId": "d76d68ca-3c2b-4b24-c30e-7d98bed9c77c"
      },
      "source": [
        "p.y"
      ],
      "execution_count": 22,
      "outputs": [
        {
          "output_type": "execute_result",
          "data": {
            "text/plain": [
              "22"
            ]
          },
          "metadata": {
            "tags": []
          },
          "execution_count": 22
        }
      ]
    },
    {
      "cell_type": "code",
      "metadata": {
        "colab": {
          "base_uri": "https://localhost:8080/"
        },
        "id": "CEPgw8r868Zf",
        "outputId": "6d68a28f-d83f-42c5-84b6-bb68ad4306dc"
      },
      "source": [
        "p._replace(x=100)"
      ],
      "execution_count": 23,
      "outputs": [
        {
          "output_type": "execute_result",
          "data": {
            "text/plain": [
              "Point(x=100, y=22)"
            ]
          },
          "metadata": {
            "tags": []
          },
          "execution_count": 23
        }
      ]
    },
    {
      "cell_type": "code",
      "metadata": {
        "colab": {
          "base_uri": "https://localhost:8080/"
        },
        "id": "C_3meIru6_ST",
        "outputId": "a8a9e772-cd5d-4fad-cb73-d301fae2c21c"
      },
      "source": [
        "dict(p._asdict())"
      ],
      "execution_count": 24,
      "outputs": [
        {
          "output_type": "execute_result",
          "data": {
            "text/plain": [
              "{'x': 11, 'y': 22}"
            ]
          },
          "metadata": {
            "tags": []
          },
          "execution_count": 24
        }
      ]
    },
    {
      "cell_type": "code",
      "metadata": {
        "colab": {
          "base_uri": "https://localhost:8080/"
        },
        "id": "QKGzL_eC7BF8",
        "outputId": "3f47ddcb-af2f-4375-e7ff-d4aa739e4e8a"
      },
      "source": [
        "Point(**dict(p._asdict()))"
      ],
      "execution_count": 25,
      "outputs": [
        {
          "output_type": "execute_result",
          "data": {
            "text/plain": [
              "Point(x=11, y=22)"
            ]
          },
          "metadata": {
            "tags": []
          },
          "execution_count": 25
        }
      ]
    },
    {
      "cell_type": "code",
      "metadata": {
        "colab": {
          "base_uri": "https://localhost:8080/"
        },
        "id": "BIqhhgQQ7C2Q",
        "outputId": "00c385f2-4f43-4271-8f5e-eac4a9d99af3"
      },
      "source": [
        "PS5 = namedtuple('PS5', ['name', 'price', 'currency', 'quantity'])\n",
        "item_dict = dict(name=\"PlayStation 5\",\n",
        "                 price=499.99,\n",
        "                 currency=\"US dollars\",\n",
        "                 quantity=None)\n",
        "PS5(**item_dict)"
      ],
      "execution_count": 26,
      "outputs": [
        {
          "output_type": "execute_result",
          "data": {
            "text/plain": [
              "PS5(name='PlayStation 5', price=499.99, currency='US dollars', quantity=None)"
            ]
          },
          "metadata": {
            "tags": []
          },
          "execution_count": 26
        }
      ]
    },
    {
      "cell_type": "code",
      "metadata": {
        "id": "xzhEWPJ17EZG"
      },
      "source": [
        "class PS5:\n",
        "    name: str\n",
        "    price: float\n",
        "    currency: str=\"US dollars\"\n",
        "    quantity: int=0"
      ],
      "execution_count": 27,
      "outputs": []
    },
    {
      "cell_type": "code",
      "metadata": {
        "colab": {
          "base_uri": "https://localhost:8080/",
          "height": 198
        },
        "id": "u-sbCsl67F9Y",
        "outputId": "add2472c-aafa-4759-9aa7-faec9cce1acd"
      },
      "source": [
        "item = PS5(name=\"PlayStation 5\",\n",
        "           price=499.99,\n",
        "           currency=\"US dollars\",\n",
        "           quantity=0)"
      ],
      "execution_count": 28,
      "outputs": [
        {
          "output_type": "error",
          "ename": "TypeError",
          "evalue": "ignored",
          "traceback": [
            "\u001b[0;31m---------------------------------------------------------------------------\u001b[0m",
            "\u001b[0;31mTypeError\u001b[0m                                 Traceback (most recent call last)",
            "\u001b[0;32m<ipython-input-28-789b820251c9>\u001b[0m in \u001b[0;36m<module>\u001b[0;34m()\u001b[0m\n\u001b[1;32m      2\u001b[0m            \u001b[0mprice\u001b[0m\u001b[0;34m=\u001b[0m\u001b[0;36m499.99\u001b[0m\u001b[0;34m,\u001b[0m\u001b[0;34m\u001b[0m\u001b[0;34m\u001b[0m\u001b[0m\n\u001b[1;32m      3\u001b[0m            \u001b[0mcurrency\u001b[0m\u001b[0;34m=\u001b[0m\u001b[0;34m\"US dollars\"\u001b[0m\u001b[0;34m,\u001b[0m\u001b[0;34m\u001b[0m\u001b[0;34m\u001b[0m\u001b[0m\n\u001b[0;32m----> 4\u001b[0;31m            quantity=0)\n\u001b[0m",
            "\u001b[0;31mTypeError\u001b[0m: PS5() takes no arguments"
          ]
        }
      ]
    },
    {
      "cell_type": "code",
      "metadata": {
        "id": "cpGfIScj7HZJ"
      },
      "source": [
        "@ dataclass\n",
        "class PS5:\n",
        "    name: str\n",
        "    price: float\n",
        "    currency: str=\"US dollars\"\n",
        "    quantity: int=0"
      ],
      "execution_count": 29,
      "outputs": []
    },
    {
      "cell_type": "code",
      "metadata": {
        "id": "a2sreF1w7JN4"
      },
      "source": [
        "item = PS5(name=\"PlayStation 5\",\n",
        "           price=499.99,\n",
        "           currency=\"US dollars\",\n",
        "           quantity=0)"
      ],
      "execution_count": 30,
      "outputs": []
    }
  ]
}