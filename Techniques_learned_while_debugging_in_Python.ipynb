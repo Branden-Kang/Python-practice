{
  "nbformat": 4,
  "nbformat_minor": 0,
  "metadata": {
    "colab": {
      "name": "Techniques learned while debugging in Python.ipynb",
      "provenance": [],
      "authorship_tag": "ABX9TyMit5u6Dg3vlUarYHERfT2q"
    },
    "kernelspec": {
      "name": "python3",
      "display_name": "Python 3"
    },
    "language_info": {
      "name": "python"
    }
  },
  "cells": [
    {
      "cell_type": "markdown",
      "metadata": {
        "id": "UBYZDIjMPs4q"
      },
      "source": [
        "[Reference](https://medium.com/peoplestrong-engineering/techniques-learned-while-debugging-in-python-7d56047d9176)"
      ]
    },
    {
      "cell_type": "code",
      "metadata": {
        "colab": {
          "base_uri": "https://localhost:8080/"
        },
        "id": "Dh7suY2OOptQ",
        "outputId": "3f9e825b-495e-468b-d532-f637b8a0f089"
      },
      "source": [
        "import requests\n",
        "from requests import ConnectionError\n",
        "\n",
        "META_WEATHER_URL_PREFIX = \"https://www.metaweather.com/api/location/\"\n",
        "\n",
        "\n",
        "def get_weather_state(place):\n",
        "    \"\"\"\n",
        "        :param place: String, any place, for e.g. name of a city, state, country, etc.\n",
        "        :return: String, weather state in a friendly text. E.g. windy, cloudy, sunny, etc.\n",
        "    \"\"\"\n",
        "\n",
        "    weather_state = \"Unknown\"\n",
        "    try:\n",
        "        location_response = requests.get(META_WEATHER_URL_PREFIX\n",
        "                                         + \"search/?query=\" + place).json()\n",
        "\n",
        "        weather_response = requests.get(META_WEATHER_URL_PREFIX\n",
        "                                        + str(location_response[0][\"woeid\"]))\n",
        "\n",
        "        weather_state = weather_response.json()[\"consolidated_weather\"][0][\"weather_state_name\"]\n",
        "\n",
        "    except ConnectionError:\n",
        "        print(\"Error in connecting to the API :(\")\n",
        "\n",
        "    except Exception:\n",
        "        import sys, traceback\n",
        "        gettrace = getattr(sys, 'gettrace', None)\n",
        "        is_debug = False\n",
        "        if gettrace is None:\n",
        "            pass\n",
        "        elif gettrace():\n",
        "            is_debug = True\n",
        "\n",
        "        is_debug = is_debug or \"pdb\" in sys.modules\n",
        "\n",
        "        if is_debug:\n",
        "            print(\"Some debugger is on!\")\n",
        "            traceback.print_exc()\n",
        "        else:\n",
        "            print(\"Some unkown error occurred!\")\n",
        "\n",
        "    return weather_state\n",
        "\n",
        "\n",
        "if __name__ == \"__main__\":\n",
        "    print(get_weather_state(\"randomtext\"))"
      ],
      "execution_count": 2,
      "outputs": [
        {
          "output_type": "stream",
          "text": [
            "Some debugger is on!\n",
            "Unknown\n"
          ],
          "name": "stdout"
        },
        {
          "output_type": "stream",
          "text": [
            "Traceback (most recent call last):\n",
            "  File \"<ipython-input-2-9836d034c206>\", line 19, in get_weather_state\n",
            "    + str(location_response[0][\"woeid\"]))\n",
            "IndexError: list index out of range\n"
          ],
          "name": "stderr"
        }
      ]
    },
    {
      "cell_type": "code",
      "metadata": {
        "colab": {
          "base_uri": "https://localhost:8080/"
        },
        "id": "BpMLRp1XO9X_",
        "outputId": "5e608dfb-3b97-42ff-b038-fbb2ac42f245"
      },
      "source": [
        "import requests\n",
        "from requests import ConnectionError\n",
        "\n",
        "META_WEATHER_URL_PREFIX = \"https://www.metaweather.com/api/location/\"\n",
        "\n",
        "def get_weather_state(place):\n",
        "    \"\"\"\n",
        "        :param place: String, any place, for e.g. name of a city, state, country, etc.\n",
        "        :return: String, weather state in a friendly text. E.g. windy, cloudy, sunny, etc.\n",
        "    \"\"\"\n",
        "\n",
        "    weather_state = \"Unknown\"\n",
        "    try:\n",
        "        location_response = requests.get(META_WEATHER_URL_PREFIX\n",
        "                                         + \"search/?query=\" + place).json()\n",
        "\n",
        "        weather_response = requests.get(META_WEATHER_URL_PREFIX\n",
        "                                        + str(location_response[0][\"woeid\"]))\n",
        "\n",
        "        weather_state = weather_response.json()[\"consolidated_weather\"][0][\"weather_state_name\"]\n",
        "\n",
        "    except ConnectionError:\n",
        "        print(\"Error in connecting to the API :(\")\n",
        "\n",
        "    except Exception:\n",
        "        import sys, os, traceback, pdb\n",
        "        exe_env = os.environ.get(\"EXECUTION_ENVIRONMENT\")\n",
        "\n",
        "        if exe_env == \"production\":\n",
        "            print(\"Some unkown error occurred!\")\n",
        "\n",
        "        elif exe_env == \"pre-production\":\n",
        "            traceback.print_exc()\n",
        "\n",
        "        else: # Staging or any un-set environment\n",
        "            exception_type, value, trace_back = sys.exc_info()\n",
        "            traceback.print_exc()\n",
        "            pdb.post_mortem(trace_back)\n",
        "\n",
        "    return weather_state\n",
        "\n",
        "\n",
        "if __name__ == \"__main__\":\n",
        "    print(get_weather_state(\"randomtext\"))"
      ],
      "execution_count": 3,
      "outputs": [
        {
          "output_type": "stream",
          "text": [
            "Traceback (most recent call last):\n",
            "  File \"<ipython-input-3-3ca0a3f9d4cd>\", line 18, in get_weather_state\n",
            "    + str(location_response[0][\"woeid\"]))\n",
            "IndexError: list index out of range\n"
          ],
          "name": "stderr"
        },
        {
          "output_type": "stream",
          "text": [
            "> <ipython-input-3-3ca0a3f9d4cd>(18)get_weather_state()\n",
            "-> + str(location_response[0][\"woeid\"]))\n",
            "(Pdb) c\n"
          ],
          "name": "stdout"
        },
        {
          "output_type": "stream",
          "text": [
            "\n",
            "PYDEV DEBUGGER WARNING:\n",
            "sys.settrace() should not be used when the debugger is being used.\n",
            "This may cause the debugger to stop working correctly.\n",
            "If this is needed, please check: \n",
            "http://pydev.blogspot.com/2007/06/why-cant-pydev-debugger-work-with.html\n",
            "to see how to restore the debug tracing back correctly.\n",
            "Call Location:\n",
            "  File \"/usr/lib/python3.7/bdb.py\", line 343, in set_continue\n",
            "    sys.settrace(None)\n",
            "\n"
          ],
          "name": "stderr"
        },
        {
          "output_type": "stream",
          "text": [
            "Unknown\n"
          ],
          "name": "stdout"
        }
      ]
    }
  ]
}