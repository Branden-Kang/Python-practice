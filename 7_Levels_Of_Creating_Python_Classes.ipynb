{
  "nbformat": 4,
  "nbformat_minor": 0,
  "metadata": {
    "colab": {
      "provenance": [],
      "authorship_tag": "ABX9TyPYkpeDALxY/1QezS5bb8Vp"
    },
    "kernelspec": {
      "name": "python3",
      "display_name": "Python 3"
    },
    "language_info": {
      "name": "python"
    }
  },
  "cells": [
    {
      "cell_type": "markdown",
      "source": [
        "[Reference](https://python.plainenglish.io/7-levels-of-creating-python-classes-fc440dc96a19)"
      ],
      "metadata": {
        "id": "K25sXMsHK4nS"
      }
    },
    {
      "cell_type": "code",
      "execution_count": 1,
      "metadata": {
        "id": "ZyMHGIZJHqYH"
      },
      "outputs": [],
      "source": [
        "class Dog:\n",
        "    pass\n",
        "    \n",
        "dog = Dog()   # initializing"
      ]
    },
    {
      "cell_type": "code",
      "source": [
        "class Dog:\n",
        "    def bark(self):\n",
        "        print(\"woof\")\n",
        "        \n",
        "dog = Dog()\n",
        "dog.bark()   # woof"
      ],
      "metadata": {
        "colab": {
          "base_uri": "https://localhost:8080/"
        },
        "id": "ATzogT3GcK0b",
        "outputId": "65db4b74-7052-4ea6-f506-ad294acbacaf"
      },
      "execution_count": 2,
      "outputs": [
        {
          "output_type": "stream",
          "name": "stdout",
          "text": [
            "woof\n"
          ]
        }
      ]
    },
    {
      "cell_type": "code",
      "source": [
        "class Dog:\n",
        "    def __init__(self, name, age):\n",
        "        self.name = name\n",
        "        self.age = age    \n",
        "        \n",
        "    def bark(self):\n",
        "        print(\"woof\")\n",
        "\n",
        "dog1 = Dog(\"rocky\", 4)  # name=\"rocky\" age=4\n",
        "dog2 = Dog(\"lucky\", 5)  # name=\"lucky\" age=5"
      ],
      "metadata": {
        "id": "9kNzRguOcOvl"
      },
      "execution_count": 4,
      "outputs": []
    },
    {
      "cell_type": "code",
      "source": [
        "class Animal:\n",
        "    def speak(self):\n",
        "        print(\"hello\")\n",
        "\n",
        "class Dog(Animal):\n",
        "    pass\n",
        "\n",
        "dog = Dog()\n",
        "dog.speak()   # hello"
      ],
      "metadata": {
        "colab": {
          "base_uri": "https://localhost:8080/"
        },
        "id": "9IxKYRQCcV-k",
        "outputId": "ea207a7c-dcbb-4692-cd21-ef69cbce4724"
      },
      "execution_count": 5,
      "outputs": [
        {
          "output_type": "stream",
          "name": "stdout",
          "text": [
            "hello\n"
          ]
        }
      ]
    },
    {
      "cell_type": "code",
      "source": [
        "class Rectangle:\n",
        "    def __init__(self, length, width):\n",
        "        self.length = length\n",
        "        self.width = width    \n",
        "    def area(self):\n",
        "        return self.length * self.width\n",
        "\n",
        "class Square(Rectangle):\n",
        "    def __init__(self, length):\n",
        "        super().__init__(length, length)   # Rectangle's __init_"
      ],
      "metadata": {
        "id": "nBOO1x-WcZPs"
      },
      "execution_count": 6,
      "outputs": []
    },
    {
      "cell_type": "code",
      "source": [
        "r = Rectangle(5, 4)\n",
        "r.area()   # 20\n",
        "s = Square(3)\n",
        "s.area()   # 9"
      ],
      "metadata": {
        "colab": {
          "base_uri": "https://localhost:8080/"
        },
        "id": "FIQ2U5Wncdst",
        "outputId": "acc22b1b-c3a3-47f2-f8b0-6cdbf5531b57"
      },
      "execution_count": 8,
      "outputs": [
        {
          "output_type": "execute_result",
          "data": {
            "text/plain": [
              "9"
            ]
          },
          "metadata": {},
          "execution_count": 8
        }
      ]
    },
    {
      "cell_type": "code",
      "source": [
        "from dataclasses import dataclass\n",
        "\n",
        "@dataclass\n",
        "class Dog:\n",
        "    name: str\n",
        "    age: int    \n",
        "    \n",
        "    def bark(self):\n",
        "        print(f\"woof name={self.name} age={self.age}\")\n",
        "        \n",
        "dog = Dog(\"rocky\", 4)\n",
        "dog.bark()   # woof name=rocky age=4"
      ],
      "metadata": {
        "colab": {
          "base_uri": "https://localhost:8080/"
        },
        "id": "HSpkJv_5ce97",
        "outputId": "896f8c7c-cbcc-4628-a3cf-ddaca02cdb50"
      },
      "execution_count": 9,
      "outputs": [
        {
          "output_type": "stream",
          "name": "stdout",
          "text": [
            "woof name=rocky age=4\n"
          ]
        }
      ]
    },
    {
      "cell_type": "code",
      "source": [
        "class Animal:\n",
        "    def speak(self):\n",
        "        print(\"hello\")\n",
        "        \n",
        "class Dog(Animal):\n",
        "    def __init__(self, name, age):\n",
        "        self.name = name\n",
        "        self.age = age"
      ],
      "metadata": {
        "id": "1Kvgf_2dcjiy"
      },
      "execution_count": 10,
      "outputs": []
    },
    {
      "cell_type": "code",
      "source": [
        "def init(self, name, age):\n",
        "    self.name = name\n",
        "    self.age = age\n",
        "# this line creates the Dog class\n",
        "# class = type(classname, bases, dict)\n",
        "Dog = type(\"Dog\", (Animal,), {\"__init__\":init})\n",
        "\n",
        "dog = Dog(\"rocky\", 4)"
      ],
      "metadata": {
        "id": "jkCyKYueclXo"
      },
      "execution_count": 11,
      "outputs": []
    }
  ]
}