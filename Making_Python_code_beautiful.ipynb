{
  "nbformat": 4,
  "nbformat_minor": 0,
  "metadata": {
    "colab": {
      "name": "Making Python code beautiful.ipynb",
      "provenance": [],
      "authorship_tag": "ABX9TyMwKcrtAAShSF38cWFOrtO1"
    },
    "kernelspec": {
      "name": "python3",
      "display_name": "Python 3"
    },
    "language_info": {
      "name": "python"
    }
  },
  "cells": [
    {
      "cell_type": "markdown",
      "metadata": {
        "id": "CbLr-AUMVW_r"
      },
      "source": [
        "[Reference](https://tbreydo.medium.com/making-python-code-beautiful-like-art-51821f9477e7)"
      ]
    },
    {
      "cell_type": "markdown",
      "metadata": {
        "id": "WFVAqEN4VeS4"
      },
      "source": [
        "# Tuple unpacking"
      ]
    },
    {
      "cell_type": "code",
      "metadata": {
        "colab": {
          "base_uri": "https://localhost:8080/"
        },
        "id": "Ox-wO4UsVK24",
        "outputId": "33482ce9-6fba-4ca0-b26f-e12e97b37a6b"
      },
      "source": [
        "a = 1 \n",
        "b = 2\n",
        "print(a, b)\n",
        "a, b = b, a\n",
        "print(a, b)"
      ],
      "execution_count": 1,
      "outputs": [
        {
          "output_type": "stream",
          "text": [
            "1 2\n",
            "2 1\n"
          ],
          "name": "stdout"
        }
      ]
    },
    {
      "cell_type": "code",
      "metadata": {
        "colab": {
          "base_uri": "https://localhost:8080/"
        },
        "id": "NG-JnDP0WC3n",
        "outputId": "ba21c6e7-c27c-4a92-9002-a2b8485dc76a"
      },
      "source": [
        "a, b, *several, c, d = [1, 2, 3, 4, 5, 6, 7, 8, 9, 10]\n",
        "print(a)\n",
        "print(several)"
      ],
      "execution_count": 2,
      "outputs": [
        {
          "output_type": "stream",
          "text": [
            "1\n",
            "[3, 4, 5, 6, 7, 8]\n"
          ],
          "name": "stdout"
        }
      ]
    },
    {
      "cell_type": "markdown",
      "metadata": {
        "id": "apBVljc5WGQ_"
      },
      "source": [
        "# Line length"
      ]
    },
    {
      "cell_type": "markdown",
      "metadata": {
        "id": "ns-MGcOzWKdH"
      },
      "source": [
        "```python\n",
        "# BAD\n",
        "long_variable_name = even_longer_function_name(pretty_long_argument, another_argument) + another_function() - final_function() / 3\n",
        "\n",
        "# BETTER\n",
        "long_variable_name = even_longer_function_name(pretty_long_argument, another_argument) \\\n",
        "                        + another_function() - final_function() / 3\n",
        "                        \n",
        "# BEST!\n",
        "long_variable_name = (\n",
        "    even_longer_function_name(pretty_long_argument, another_argument)\n",
        "    + another_function()\n",
        "    - final_function() / 3\n",
        ")\n",
        "```"
      ]
    },
    {
      "cell_type": "markdown",
      "metadata": {
        "id": "VgRfw7jhWYzJ"
      },
      "source": [
        "# List comprehension"
      ]
    },
    {
      "cell_type": "code",
      "metadata": {
        "id": "I25BXhdYWFdz"
      },
      "source": [
        "even_numbers = []\n",
        "for n in range(20):\n",
        "    if n % 2 == 0:\n",
        "        even_numbers.append(n)"
      ],
      "execution_count": 3,
      "outputs": []
    },
    {
      "cell_type": "code",
      "metadata": {
        "id": "ARsw1wWzWaPz"
      },
      "source": [
        "even_numbers = [n for n in range(20) if n % 2 == 0]"
      ],
      "execution_count": 4,
      "outputs": []
    },
    {
      "cell_type": "markdown",
      "metadata": {
        "id": "lDr4g5O1WcM6"
      },
      "source": [
        "# Context managers"
      ]
    },
    {
      "cell_type": "markdown",
      "metadata": {
        "id": "672pm_E2WdZs"
      },
      "source": [
        "```python\n",
        "logfile = open('october.log', 'w')\n",
        "logfile.write('Bad code...\\n')\n",
        "```"
      ]
    },
    {
      "cell_type": "markdown",
      "metadata": {
        "id": "0swSrQohWfdm"
      },
      "source": [
        "```python\n",
        "with open('october.log', 'w') as logfile:\n",
        "    logfile.write('Much better!\\n')\n",
        "```"
      ]
    },
    {
      "cell_type": "code",
      "metadata": {
        "id": "wr6ZlXyGWbHH"
      },
      "source": [
        "from contextlib import contextmanager\n",
        "from datetime import datetime\n",
        "\n",
        "\n",
        "@contextmanager\n",
        "def log_start_and_end():\n",
        "    print(f'Start time: {datetime.now()}')\n",
        "    try:\n",
        "        yield\n",
        "    finally:\n",
        "        print(f'End time: {datetime.now()}')"
      ],
      "execution_count": 7,
      "outputs": []
    },
    {
      "cell_type": "code",
      "metadata": {
        "colab": {
          "base_uri": "https://localhost:8080/"
        },
        "id": "nceAtggNWlRo",
        "outputId": "da2d5e98-82fa-483e-f18b-3a98777f4521"
      },
      "source": [
        "with log_start_and_end():\n",
        "    pass"
      ],
      "execution_count": 9,
      "outputs": [
        {
          "output_type": "stream",
          "text": [
            "Start time: 2021-06-04 14:09:25.957165\n",
            "End time: 2021-06-04 14:09:25.957755\n"
          ],
          "name": "stdout"
        }
      ]
    },
    {
      "cell_type": "markdown",
      "metadata": {
        "id": "FIrFIMxbW526"
      },
      "source": [
        "# Positional-only arguments"
      ]
    },
    {
      "cell_type": "code",
      "metadata": {
        "id": "TBlhAG59W2E3"
      },
      "source": [
        "def is_capitalized(string, /):\n",
        "    return string[0].isupper()"
      ],
      "execution_count": 12,
      "outputs": []
    },
    {
      "cell_type": "code",
      "metadata": {
        "id": "Basn3wP0W-mV"
      },
      "source": [
        "is_capitalized(\"October\")\n",
        "# True\n",
        "\n",
        "is_capitalized(string=\"October\")"
      ],
      "execution_count": 13,
      "outputs": []
    }
  ]
}