{
  "nbformat": 4,
  "nbformat_minor": 0,
  "metadata": {
    "colab": {
      "name": "22 Super Useful Tips and Tricks for Python.ipynb",
      "provenance": [],
      "collapsed_sections": [],
      "authorship_tag": "ABX9TyMq0SGlXwch4vBsyKW+OTFn"
    },
    "kernelspec": {
      "name": "python3",
      "display_name": "Python 3"
    },
    "language_info": {
      "name": "python"
    }
  },
  "cells": [
    {
      "cell_type": "markdown",
      "metadata": {
        "id": "EhNaToDOF7en"
      },
      "source": [
        "[Reference](https://python.plainenglish.io/22-helpful-python-tips-and-tricks-for-beginners-43c4a8f56a1c)"
      ]
    },
    {
      "cell_type": "markdown",
      "metadata": {
        "id": "uIB_JHhKGjWy"
      },
      "source": [
        "# 1. Swapping Numbers in Python"
      ]
    },
    {
      "cell_type": "code",
      "metadata": {
        "colab": {
          "base_uri": "https://localhost:8080/"
        },
        "id": "S2idf4PfFuqx",
        "outputId": "9a06b2b0-b9d5-43b4-f842-b64e9820f7fd"
      },
      "source": [
        "a = 5\n",
        "b = 8\n",
        "#Normal way\n",
        "\n",
        "temp = a\n",
        "a = b\n",
        "b = temp\n",
        "print(a)\n",
        "print(b)"
      ],
      "execution_count": 1,
      "outputs": [
        {
          "output_type": "stream",
          "text": [
            "8\n",
            "5\n"
          ],
          "name": "stdout"
        }
      ]
    },
    {
      "cell_type": "code",
      "metadata": {
        "colab": {
          "base_uri": "https://localhost:8080/"
        },
        "id": "R2vd2UTvGwbj",
        "outputId": "ba85c61f-ce04-4a33-d0ac-14938d5487c8"
      },
      "source": [
        "a, b = b, a\n",
        "print(a)\n",
        "print(b)"
      ],
      "execution_count": 2,
      "outputs": [
        {
          "output_type": "stream",
          "text": [
            "5\n",
            "8\n"
          ],
          "name": "stdout"
        }
      ]
    },
    {
      "cell_type": "markdown",
      "metadata": {
        "id": "T1Ae4izBG1Lx"
      },
      "source": [
        "# 2. Reverse a String"
      ]
    },
    {
      "cell_type": "code",
      "metadata": {
        "colab": {
          "base_uri": "https://localhost:8080/"
        },
        "id": "23HBdtVFGxXq",
        "outputId": "98d70313-43dc-4398-861e-d8715fe44065"
      },
      "source": [
        "string1 = \"python\"\n",
        "string2 = \"programming\"\n",
        "print(string1[: : -1]) #nohtyp\n",
        "print(string2[: : -1]) #gnimmargorp"
      ],
      "execution_count": 3,
      "outputs": [
        {
          "output_type": "stream",
          "text": [
            "nohtyp\n",
            "gnimmargorp\n"
          ],
          "name": "stdout"
        }
      ]
    },
    {
      "cell_type": "markdown",
      "metadata": {
        "id": "q5iESwtTG56F"
      },
      "source": [
        "# 3. Converting a list to Dictionary"
      ]
    },
    {
      "cell_type": "code",
      "metadata": {
        "colab": {
          "base_uri": "https://localhost:8080/"
        },
        "id": "kLr7Yaf-G4sH",
        "outputId": "cd913c61-98f8-43e8-ab46-8571382c3417"
      },
      "source": [
        "names=[\"ferb\", \"Jenny\", \"John\"]\n",
        "salary=[\"45000\", \"65000\", \"75000\"]\n",
        "employee=dict(zip(names,salary))\n",
        "print(employee)"
      ],
      "execution_count": 4,
      "outputs": [
        {
          "output_type": "stream",
          "text": [
            "{'ferb': '45000', 'Jenny': '65000', 'John': '75000'}\n"
          ],
          "name": "stdout"
        }
      ]
    },
    {
      "cell_type": "markdown",
      "metadata": {
        "id": "i6r32zzeHg6-"
      },
      "source": [
        "# 4. Multiple User input"
      ]
    },
    {
      "cell_type": "code",
      "metadata": {
        "colab": {
          "base_uri": "https://localhost:8080/"
        },
        "id": "F6z_P6q_Ha9G",
        "outputId": "70fbee67-b02c-4787-c810-9c31749391d0"
      },
      "source": [
        "a = input(\"Enter name: \")\n",
        "b = input(\"Enter age: \")\n",
        "print(a, b)"
      ],
      "execution_count": 5,
      "outputs": [
        {
          "output_type": "stream",
          "text": [
            "Enter name: Branden\n",
            "Enter age: 20\n",
            "Branden 20\n"
          ],
          "name": "stdout"
        }
      ]
    },
    {
      "cell_type": "code",
      "metadata": {
        "colab": {
          "base_uri": "https://localhost:8080/"
        },
        "id": "zNCw-ndsHk9u",
        "outputId": "92d001c4-d5fe-4a2d-b32c-e764d091d981"
      },
      "source": [
        "a, b = input(\"Enter name and age: \").split()\n",
        "print(a, b)"
      ],
      "execution_count": 6,
      "outputs": [
        {
          "output_type": "stream",
          "text": [
            "Enter name and age: Branden 20\n",
            "Branden 20\n"
          ],
          "name": "stdout"
        }
      ]
    },
    {
      "cell_type": "markdown",
      "metadata": {
        "id": "bhw4_c6pHspe"
      },
      "source": [
        "# 5. Walrus (:=) Operator"
      ]
    },
    {
      "cell_type": "markdown",
      "metadata": {
        "id": "9qmDtSNiHuRt"
      },
      "source": [
        "# 6. Shutting down your PC/Laptop"
      ]
    },
    {
      "cell_type": "code",
      "metadata": {
        "id": "yBBsLixrHphn"
      },
      "source": [
        "import os \n",
        "os.system(\"window -s\")"
      ],
      "execution_count": 9,
      "outputs": []
    },
    {
      "cell_type": "markdown",
      "metadata": {
        "id": "yMMT5Hl8Hycn"
      },
      "source": [
        "# 7. Multiple Arguments function"
      ]
    },
    {
      "cell_type": "code",
      "metadata": {
        "colab": {
          "base_uri": "https://localhost:8080/"
        },
        "id": "Fpyn4xGJHxLl",
        "outputId": "fbc302e4-a93f-4563-e9c4-fa108bb48e39"
      },
      "source": [
        "def number(*num):\n",
        "    for n in num:\n",
        "        print(n)\n",
        "        \n",
        "number(2,3,5,6)\n",
        "number(4,5,6,2,6,7,9,10)"
      ],
      "execution_count": 10,
      "outputs": [
        {
          "output_type": "stream",
          "text": [
            "2\n",
            "3\n",
            "5\n",
            "6\n",
            "4\n",
            "5\n",
            "6\n",
            "2\n",
            "6\n",
            "7\n",
            "9\n",
            "10\n"
          ],
          "name": "stdout"
        }
      ]
    },
    {
      "cell_type": "markdown",
      "metadata": {
        "id": "EoK60zizH2s5"
      },
      "source": [
        "# 8. Read Passwords as User input"
      ]
    },
    {
      "cell_type": "code",
      "metadata": {
        "colab": {
          "base_uri": "https://localhost:8080/"
        },
        "id": "1XVGTuj6H0to",
        "outputId": "950e7441-2c02-4923-e0f2-477feff3c223"
      },
      "source": [
        "from getpass import getpass\n",
        "\n",
        "usern = input('Enter username : ')\n",
        "passw = getpass('Enter password : ' )"
      ],
      "execution_count": 11,
      "outputs": [
        {
          "output_type": "stream",
          "text": [
            "Enter username : Branden\n",
            "Enter password : ··········\n"
          ],
          "name": "stdout"
        }
      ]
    },
    {
      "cell_type": "markdown",
      "metadata": {
        "id": "Iw5lK4IXIfQX"
      },
      "source": [
        "# 9. Calculate Execution Time"
      ]
    },
    {
      "cell_type": "code",
      "metadata": {
        "colab": {
          "base_uri": "https://localhost:8080/"
        },
        "id": "6HzBQvMkH5m_",
        "outputId": "d83cdb1d-d86d-4305-9894-ff7e3d094e13"
      },
      "source": [
        "import time\n",
        "\n",
        "def add(a, b):\n",
        "    a = a + 3\n",
        "    b = b + 2\n",
        "    c = a + b\n",
        "    return c\n",
        "    \n",
        "startTime=time.time()\n",
        "\n",
        "add(5,4)\n",
        "\n",
        "endTime = time.time()\n",
        "\n",
        "totalTime = endTime - startTime \n",
        "print(totalTime)"
      ],
      "execution_count": 12,
      "outputs": [
        {
          "output_type": "stream",
          "text": [
            "5.698204040527344e-05\n"
          ],
          "name": "stdout"
        }
      ]
    },
    {
      "cell_type": "markdown",
      "metadata": {
        "id": "VxB8t2rdIlfm"
      },
      "source": [
        "# 10. Duplicate Removing from List"
      ]
    },
    {
      "cell_type": "code",
      "metadata": {
        "colab": {
          "base_uri": "https://localhost:8080/"
        },
        "id": "YarNuX9mIj3S",
        "outputId": "0af49c23-fddf-4a94-9c86-90c5fdbab934"
      },
      "source": [
        "my_list = [10, 10, 22, 23, 27, 22, 89, 56, 25, 89]\n",
        "\n",
        "my_list = list(set(my_list))\n",
        "print(my_list)"
      ],
      "execution_count": 13,
      "outputs": [
        {
          "output_type": "stream",
          "text": [
            "[10, 22, 23, 56, 89, 27, 25]\n"
          ],
          "name": "stdout"
        }
      ]
    },
    {
      "cell_type": "markdown",
      "metadata": {
        "id": "D9g9LgjHIpgL"
      },
      "source": [
        "# 11. Manipulating (append) Tuples"
      ]
    },
    {
      "cell_type": "code",
      "metadata": {
        "colab": {
          "base_uri": "https://localhost:8080/"
        },
        "id": "7ru-rek3Iob_",
        "outputId": "2699fb3e-ed05-4cf5-8682-b600708ec253"
      },
      "source": [
        "tuple1 = (1, 2, 3)\n",
        "lst= list(tuple1)\n",
        "lst.append(4)\n",
        "lst.append(5)\n",
        "tuple1 = tuple(lst)\n",
        "print(tuple1)"
      ],
      "execution_count": 14,
      "outputs": [
        {
          "output_type": "stream",
          "text": [
            "(1, 2, 3, 4, 5)\n"
          ],
          "name": "stdout"
        }
      ]
    },
    {
      "cell_type": "markdown",
      "metadata": {
        "id": "YfrprCdJIxhW"
      },
      "source": [
        "# 12. Palindrome checking"
      ]
    },
    {
      "cell_type": "code",
      "metadata": {
        "colab": {
          "base_uri": "https://localhost:8080/"
        },
        "id": "DoCUBiNzIuPf",
        "outputId": "c1fc03d3-86c1-4c05-803c-d6db8a0e679d"
      },
      "source": [
        "w = \"mom\"\n",
        "palindrome = bool(w.find(w[: : -1]) + 1)\n",
        "print(palindrome)"
      ],
      "execution_count": 15,
      "outputs": [
        {
          "output_type": "stream",
          "text": [
            "True\n"
          ],
          "name": "stdout"
        }
      ]
    },
    {
      "cell_type": "markdown",
      "metadata": {
        "id": "2pTGlJ5VI0-R"
      },
      "source": [
        "# 13. List Comprehension"
      ]
    },
    {
      "cell_type": "code",
      "metadata": {
        "colab": {
          "base_uri": "https://localhost:8080/"
        },
        "id": "HFps6CWkIz17",
        "outputId": "6f143e76-3016-4dcc-f1ae-f051c6512524"
      },
      "source": [
        "#normal way\n",
        "x1= []\n",
        "for x in range(1, 10):\n",
        "    x1.append(x**2)\n",
        "print(x1)\n",
        "\n",
        "#List comprehension easy and fast\n",
        "x1 = [x**2 for x in range(1, 10)]\n",
        "print(x1)"
      ],
      "execution_count": 16,
      "outputs": [
        {
          "output_type": "stream",
          "text": [
            "[1, 4, 9, 16, 25, 36, 49, 64, 81]\n",
            "[1, 4, 9, 16, 25, 36, 49, 64, 81]\n"
          ],
          "name": "stdout"
        }
      ]
    },
    {
      "cell_type": "markdown",
      "metadata": {
        "id": "1SpxafBxI5x_"
      },
      "source": [
        "# 14. Dictionary Comprehension"
      ]
    },
    {
      "cell_type": "code",
      "metadata": {
        "colab": {
          "base_uri": "https://localhost:8080/"
        },
        "id": "vRb6brqNI4OL",
        "outputId": "f0d5d22b-96b7-4fb2-b909-fadc122e12c1"
      },
      "source": [
        "dict1 = {x: x ** 2 for x in range(1, 4)}\n",
        "print(dict1)"
      ],
      "execution_count": 17,
      "outputs": [
        {
          "output_type": "stream",
          "text": [
            "{1: 1, 2: 4, 3: 9}\n"
          ],
          "name": "stdout"
        }
      ]
    },
    {
      "cell_type": "markdown",
      "metadata": {
        "id": "YllIMHFrI9vW"
      },
      "source": [
        "# 15. Chain Operator Tip"
      ]
    },
    {
      "cell_type": "code",
      "metadata": {
        "colab": {
          "base_uri": "https://localhost:8080/"
        },
        "id": "eNUvozgMI77A",
        "outputId": "9ce543de-55bb-4412-ee0f-29078d229b30"
      },
      "source": [
        "num = 50\n",
        "result =  25 < num < 58\n",
        "print(result)"
      ],
      "execution_count": 18,
      "outputs": [
        {
          "output_type": "stream",
          "text": [
            "True\n"
          ],
          "name": "stdout"
        }
      ]
    },
    {
      "cell_type": "markdown",
      "metadata": {
        "id": "Y5nXPP9fJEsC"
      },
      "source": [
        "# 16. Breaking String"
      ]
    },
    {
      "cell_type": "code",
      "metadata": {
        "colab": {
          "base_uri": "https://localhost:8080/"
        },
        "id": "G5ch0sD8JBzb",
        "outputId": "1868549d-7a87-4220-baa6-01cc2ee1b51b"
      },
      "source": [
        "string = \"Python Programming\"\n",
        "print(string.split()) "
      ],
      "execution_count": 19,
      "outputs": [
        {
          "output_type": "stream",
          "text": [
            "['Python', 'Programming']\n"
          ],
          "name": "stdout"
        }
      ]
    },
    {
      "cell_type": "markdown",
      "metadata": {
        "id": "6f74yhPIJJyN"
      },
      "source": [
        "# 17. Handle speed of your Code"
      ]
    },
    {
      "cell_type": "code",
      "metadata": {
        "colab": {
          "base_uri": "https://localhost:8080/"
        },
        "id": "egpI2xzKJGwZ",
        "outputId": "257d1c1d-1c2d-46b7-feb5-80954bde1d20"
      },
      "source": [
        "import time\n",
        "time.sleep(2)\n",
        "print(\"Python tips and tricks\")"
      ],
      "execution_count": 20,
      "outputs": [
        {
          "output_type": "stream",
          "text": [
            "Python tips and tricks\n"
          ],
          "name": "stdout"
        }
      ]
    },
    {
      "cell_type": "markdown",
      "metadata": {
        "id": "mLE7v8tjJOJr"
      },
      "source": [
        "# 18. Count Number of Word Appearance in a list"
      ]
    },
    {
      "cell_type": "code",
      "metadata": {
        "colab": {
          "base_uri": "https://localhost:8080/"
        },
        "id": "01wulMF3JNDN",
        "outputId": "02479023-ec1c-43f0-a3fc-cfd7f03afb9a"
      },
      "source": [
        "from collections import Counter\n",
        "counter = Counter(['apple', 'mango', 'apple', 'pineapple', 'mango'])\n",
        "print(counter)"
      ],
      "execution_count": 21,
      "outputs": [
        {
          "output_type": "stream",
          "text": [
            "Counter({'apple': 2, 'mango': 2, 'pineapple': 1})\n"
          ],
          "name": "stdout"
        }
      ]
    },
    {
      "cell_type": "markdown",
      "metadata": {
        "id": "unOQ1SRKJTcj"
      },
      "source": [
        "# 19. For loop with Else"
      ]
    },
    {
      "cell_type": "code",
      "metadata": {
        "colab": {
          "base_uri": "https://localhost:8080/"
        },
        "id": "oO1z54MHJRUD",
        "outputId": "798d01b3-1e8b-44fc-8c92-3355e2968d2a"
      },
      "source": [
        "for x in range(1, 4):\n",
        "    print(x)\n",
        "else:\n",
        "    print(\"Python\")"
      ],
      "execution_count": 22,
      "outputs": [
        {
          "output_type": "stream",
          "text": [
            "1\n",
            "2\n",
            "3\n",
            "Python\n"
          ],
          "name": "stdout"
        }
      ]
    },
    {
      "cell_type": "markdown",
      "metadata": {
        "id": "W41O7wN7Jbvk"
      },
      "source": [
        "# 20. Lambda"
      ]
    },
    {
      "cell_type": "code",
      "metadata": {
        "colab": {
          "base_uri": "https://localhost:8080/"
        },
        "id": "QoA6XKbwJanM",
        "outputId": "2186b760-e4a7-4580-9d7d-37025b2cf696"
      },
      "source": [
        "num = lambda x: x**2\n",
        "print(num(5))"
      ],
      "execution_count": 23,
      "outputs": [
        {
          "output_type": "stream",
          "text": [
            "25\n"
          ],
          "name": "stdout"
        }
      ]
    },
    {
      "cell_type": "markdown",
      "metadata": {
        "id": "1X1iHzbSJd1W"
      },
      "source": [
        "# 21. Return multiple results from a function"
      ]
    },
    {
      "cell_type": "code",
      "metadata": {
        "colab": {
          "base_uri": "https://localhost:8080/"
        },
        "id": "biQtjCVOJcsy",
        "outputId": "36ccd504-32ba-4c0b-c74d-14f1c333ddac"
      },
      "source": [
        "def values():\n",
        "    return 1, 2, 3\n",
        "\n",
        "print(values())"
      ],
      "execution_count": 24,
      "outputs": [
        {
          "output_type": "stream",
          "text": [
            "(1, 2, 3)\n"
          ],
          "name": "stdout"
        }
      ]
    },
    {
      "cell_type": "markdown",
      "metadata": {
        "id": "rDD9XqP4JiT_"
      },
      "source": [
        "# 22. Deep Copy"
      ]
    },
    {
      "cell_type": "code",
      "metadata": {
        "id": "KB-QCEhxJjv8"
      },
      "source": [
        "import copy\n",
        "list1 = [\"ferb\", \"haider\", \"Jenny\"]\n",
        "list2 = copy.deepcopy(list1)"
      ],
      "execution_count": 25,
      "outputs": []
    }
  ]
}