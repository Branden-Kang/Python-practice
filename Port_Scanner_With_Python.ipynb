{
  "nbformat": 4,
  "nbformat_minor": 0,
  "metadata": {
    "colab": {
      "name": "Port Scanner With Python.ipynb",
      "provenance": [],
      "authorship_tag": "ABX9TyOHR8OJuDgB06xHcjp7kNK2"
    },
    "kernelspec": {
      "name": "python3",
      "display_name": "Python 3"
    },
    "language_info": {
      "name": "python"
    }
  },
  "cells": [
    {
      "cell_type": "markdown",
      "metadata": {
        "id": "m5w9vSwlFyvE"
      },
      "source": [
        "[Reference](https://imrajeshberwal.medium.com/port-scanner-with-python-edd53788c5bb)"
      ]
    },
    {
      "cell_type": "code",
      "metadata": {
        "colab": {
          "base_uri": "https://localhost:8080/"
        },
        "id": "QVA50p8DFxXH",
        "outputId": "59380fc5-763b-431c-e974-202ef1465d84"
      },
      "source": [
        "pip install pyfiglet "
      ],
      "execution_count": 4,
      "outputs": [
        {
          "output_type": "stream",
          "text": [
            "Collecting pyfiglet\n",
            "\u001b[?25l  Downloading https://files.pythonhosted.org/packages/33/07/fcfdd7a2872f5b348953de35acce1544dab0c1e8368dca54279b1cde5c15/pyfiglet-0.8.post1-py2.py3-none-any.whl (865kB)\n",
            "\u001b[K     |████████████████████████████████| 870kB 6.5MB/s \n",
            "\u001b[?25hInstalling collected packages: pyfiglet\n",
            "Successfully installed pyfiglet-0.8.post1\n"
          ],
          "name": "stdout"
        }
      ]
    },
    {
      "cell_type": "code",
      "metadata": {
        "id": "f9Rgi9RgFiX2"
      },
      "source": [
        "import pyfiglet \n",
        "import sys \n",
        "import socket \n",
        "from datetime import datetime\n",
        "\n",
        "ascii_banner = pyfiglet.figlet_format(\"PORT SCANNER\") \n",
        "print(ascii_banner)# Defining a target\n",
        "\n",
        "if len(sys.argv) == 2:  \n",
        "    # translate hostname to IPv4 \n",
        "    target = socket.gethostbyname(sys.argv[1]) \n",
        "else: \n",
        "    print(\"Invalid ammount of Argument\")\n",
        "\n",
        "# Add Banner \n",
        "print(\"-\" * 50) \n",
        "print(\"Scanning Target: \" + target) \n",
        "print(\"Scanning started at:\" + str(datetime.now())) \n",
        "print(\"-\" * 50)\n",
        "\n",
        "try: \n",
        " \n",
        " # will scan ports between 1 to 65,535 \n",
        " for port in range(1,65535): \n",
        "  s = socket.socket(socket.AF_INET, socket.SOCK_STREAM) \n",
        "  socket.setdefaulttimeout(1) \n",
        "  \n",
        "  # returns an error indicator \n",
        "  result = s.connect_ex((target,port)) \n",
        "  if result ==0: \n",
        "   print(\"Port {} is open\".format(port)) \n",
        "  s.close() \n",
        "  \n",
        "except KeyboardInterrupt: \n",
        "  print(\"\\n Exitting Program !!!!\") \n",
        "  sys.exit() \n",
        "except socket.gaierror: \n",
        "  print(\"\\n Hostname Could Not Be Resolved !!!!\") \n",
        "  sys.exit() \n",
        "except socket.error: \n",
        "  print(\"\\ Server not responding !!!!\") \n",
        "  sys.exit()\n",
        "\n"
      ],
      "execution_count": 7,
      "outputs": []
    }
  ]
}