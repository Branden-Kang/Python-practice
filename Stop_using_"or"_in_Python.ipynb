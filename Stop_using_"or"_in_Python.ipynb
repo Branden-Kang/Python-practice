{
  "nbformat": 4,
  "nbformat_minor": 0,
  "metadata": {
    "colab": {
      "name": "Stop using \"or\" in Python.ipynb",
      "provenance": [],
      "authorship_tag": "ABX9TyNaE9f/LpDvLuk7xTr8HZbX"
    },
    "kernelspec": {
      "name": "python3",
      "display_name": "Python 3"
    }
  },
  "cells": [
    {
      "cell_type": "markdown",
      "metadata": {
        "id": "GryjXusDwHJB",
        "colab_type": "text"
      },
      "source": [
        "[Reference](https://medium.com/better-programming/stop-using-or-to-test-multiple-values-against-a-variable-in-python-abe0a77c287a)"
      ]
    },
    {
      "cell_type": "code",
      "metadata": {
        "id": "0zp7_hs9wATI",
        "colab_type": "code",
        "colab": {}
      },
      "source": [
        "x = 1\n",
        "if x == 1 or x == 10 or x == 100:\n",
        "  pass"
      ],
      "execution_count": 5,
      "outputs": []
    },
    {
      "cell_type": "code",
      "metadata": {
        "id": "5QuKHTCTwLRF",
        "colab_type": "code",
        "colab": {
          "base_uri": "https://localhost:8080/",
          "height": 34
        },
        "outputId": "3b0b065b-5e4b-4592-cc25-adc6eefaacdb"
      },
      "source": [
        "result = 'e' in 'The'\n",
        "print(result) # True"
      ],
      "execution_count": 2,
      "outputs": [
        {
          "output_type": "stream",
          "text": [
            "True\n"
          ],
          "name": "stdout"
        }
      ]
    },
    {
      "cell_type": "code",
      "metadata": {
        "id": "uAe2hdf4wV50",
        "colab_type": "code",
        "colab": {}
      },
      "source": [
        "x = 0\n",
        "if x in [1,10,100]:\n",
        "  pass"
      ],
      "execution_count": 7,
      "outputs": []
    },
    {
      "cell_type": "code",
      "metadata": {
        "id": "qwg5tlDhwW-m",
        "colab_type": "code",
        "colab": {}
      },
      "source": [
        "# tuple example\n",
        "if x in (1,10,100):\n",
        "  pass\n",
        "  \n",
        "# set example\n",
        "if x in {1,10,100}:\n",
        "  pass"
      ],
      "execution_count": 8,
      "outputs": []
    },
    {
      "cell_type": "code",
      "metadata": {
        "id": "jExVPUn8whxy",
        "colab_type": "code",
        "colab": {}
      },
      "source": [
        "matches = (1,10,100)\n",
        "if x in matches:\n",
        "  pass"
      ],
      "execution_count": 12,
      "outputs": []
    },
    {
      "cell_type": "code",
      "metadata": {
        "id": "s0wQ1bICwkRb",
        "colab_type": "code",
        "colab": {}
      },
      "source": [
        "if x not in (1,10,100):\n",
        "  pass"
      ],
      "execution_count": 11,
      "outputs": []
    }
  ]
}