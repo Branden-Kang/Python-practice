{
  "nbformat": 4,
  "nbformat_minor": 0,
  "metadata": {
    "colab": {
      "name": "Different Ways To Filter Pandas DataFrame.ipynb",
      "provenance": [],
      "authorship_tag": "ABX9TyOYMi3P6fDudSzzYT2nBLB2"
    },
    "kernelspec": {
      "name": "python3",
      "display_name": "Python 3"
    }
  },
  "cells": [
    {
      "cell_type": "markdown",
      "metadata": {
        "id": "nbZnuxx8DyUW"
      },
      "source": [
        "[Reference](https://towardsdatascience.com/different-ways-to-filter-pandas-dataframe-1899eb6d4be8)"
      ]
    },
    {
      "cell_type": "code",
      "metadata": {
        "id": "c_uwnatWD9Fu"
      },
      "source": [
        "import pandas as pd\n",
        "import numpy as np"
      ],
      "execution_count": 7,
      "outputs": []
    },
    {
      "cell_type": "code",
      "metadata": {
        "id": "on7nmHRkBWkd"
      },
      "source": [
        "#Create a simple dataframe\n",
        "\n",
        "df = pd.DataFrame({\n",
        "    'name' :     [ 'Chi', 'Alex', 'Sam', 'Hoang', 'Linh', 'Dung', 'Anh'],\n",
        "    'function' : [ 'Marketing', 'Tech', 'Tech', 'Finance', 'Finance', 'Marketing', 'HR'],\n",
        "    'address' :  [ 'Hanoi', 'Saigon', 'Hanoi', 'Saigon', 'Hanoi', 'Hanoi', 'Saigon'],\n",
        "    'gender' :   ['F', 'M', 'F', 'M', 'M', 'M', 'F'],\n",
        "    'favourite_fruit' : [ 'apple', 'banana', 'orange', 'watermelon', 'grape', np.NAN, 'kumquat'],\n",
        "    'age' : [20,25,21,26,30,31,23]\n",
        "})"
      ],
      "execution_count": 8,
      "outputs": []
    },
    {
      "cell_type": "code",
      "metadata": {
        "colab": {
          "base_uri": "https://localhost:8080/",
          "height": 111
        },
        "id": "ce4ETi_TD1S3",
        "outputId": "36d33c79-71a1-438f-d14a-80039aaa5b2c"
      },
      "source": [
        "#Using dataframe method\n",
        "df[(df.age >=25) & (df.address == 'Hanoi')] #Using query function\n",
        "df.query('age >= 25 & address == \"Hanoi\"') #Using loc function\n",
        "df.loc[(df.age >= 25) & (df.address == 'Hanoi')] "
      ],
      "execution_count": 9,
      "outputs": [
        {
          "output_type": "execute_result",
          "data": {
            "text/html": [
              "<div>\n",
              "<style scoped>\n",
              "    .dataframe tbody tr th:only-of-type {\n",
              "        vertical-align: middle;\n",
              "    }\n",
              "\n",
              "    .dataframe tbody tr th {\n",
              "        vertical-align: top;\n",
              "    }\n",
              "\n",
              "    .dataframe thead th {\n",
              "        text-align: right;\n",
              "    }\n",
              "</style>\n",
              "<table border=\"1\" class=\"dataframe\">\n",
              "  <thead>\n",
              "    <tr style=\"text-align: right;\">\n",
              "      <th></th>\n",
              "      <th>name</th>\n",
              "      <th>function</th>\n",
              "      <th>address</th>\n",
              "      <th>gender</th>\n",
              "      <th>favourite_fruit</th>\n",
              "      <th>age</th>\n",
              "    </tr>\n",
              "  </thead>\n",
              "  <tbody>\n",
              "    <tr>\n",
              "      <th>4</th>\n",
              "      <td>Linh</td>\n",
              "      <td>Finance</td>\n",
              "      <td>Hanoi</td>\n",
              "      <td>M</td>\n",
              "      <td>grape</td>\n",
              "      <td>30</td>\n",
              "    </tr>\n",
              "    <tr>\n",
              "      <th>5</th>\n",
              "      <td>Dung</td>\n",
              "      <td>Marketing</td>\n",
              "      <td>Hanoi</td>\n",
              "      <td>M</td>\n",
              "      <td>NaN</td>\n",
              "      <td>31</td>\n",
              "    </tr>\n",
              "  </tbody>\n",
              "</table>\n",
              "</div>"
            ],
            "text/plain": [
              "   name   function address gender favourite_fruit  age\n",
              "4  Linh    Finance   Hanoi      M           grape   30\n",
              "5  Dung  Marketing   Hanoi      M             NaN   31"
            ]
          },
          "metadata": {
            "tags": []
          },
          "execution_count": 9
        }
      ]
    },
    {
      "cell_type": "code",
      "metadata": {
        "colab": {
          "base_uri": "https://localhost:8080/",
          "height": 173
        },
        "id": "CVNyqq88D8ko",
        "outputId": "4d792309-5870-48d4-b27a-22ec2c5265ab"
      },
      "source": [
        "df.loc[0:3] "
      ],
      "execution_count": 10,
      "outputs": [
        {
          "output_type": "execute_result",
          "data": {
            "text/html": [
              "<div>\n",
              "<style scoped>\n",
              "    .dataframe tbody tr th:only-of-type {\n",
              "        vertical-align: middle;\n",
              "    }\n",
              "\n",
              "    .dataframe tbody tr th {\n",
              "        vertical-align: top;\n",
              "    }\n",
              "\n",
              "    .dataframe thead th {\n",
              "        text-align: right;\n",
              "    }\n",
              "</style>\n",
              "<table border=\"1\" class=\"dataframe\">\n",
              "  <thead>\n",
              "    <tr style=\"text-align: right;\">\n",
              "      <th></th>\n",
              "      <th>name</th>\n",
              "      <th>function</th>\n",
              "      <th>address</th>\n",
              "      <th>gender</th>\n",
              "      <th>favourite_fruit</th>\n",
              "      <th>age</th>\n",
              "    </tr>\n",
              "  </thead>\n",
              "  <tbody>\n",
              "    <tr>\n",
              "      <th>0</th>\n",
              "      <td>Chi</td>\n",
              "      <td>Marketing</td>\n",
              "      <td>Hanoi</td>\n",
              "      <td>F</td>\n",
              "      <td>apple</td>\n",
              "      <td>20</td>\n",
              "    </tr>\n",
              "    <tr>\n",
              "      <th>1</th>\n",
              "      <td>Alex</td>\n",
              "      <td>Tech</td>\n",
              "      <td>Saigon</td>\n",
              "      <td>M</td>\n",
              "      <td>banana</td>\n",
              "      <td>25</td>\n",
              "    </tr>\n",
              "    <tr>\n",
              "      <th>2</th>\n",
              "      <td>Sam</td>\n",
              "      <td>Tech</td>\n",
              "      <td>Hanoi</td>\n",
              "      <td>F</td>\n",
              "      <td>orange</td>\n",
              "      <td>21</td>\n",
              "    </tr>\n",
              "    <tr>\n",
              "      <th>3</th>\n",
              "      <td>Hoang</td>\n",
              "      <td>Finance</td>\n",
              "      <td>Saigon</td>\n",
              "      <td>M</td>\n",
              "      <td>watermelon</td>\n",
              "      <td>26</td>\n",
              "    </tr>\n",
              "  </tbody>\n",
              "</table>\n",
              "</div>"
            ],
            "text/plain": [
              "    name   function address gender favourite_fruit  age\n",
              "0    Chi  Marketing   Hanoi      F           apple   20\n",
              "1   Alex       Tech  Saigon      M          banana   25\n",
              "2    Sam       Tech   Hanoi      F          orange   21\n",
              "3  Hoang    Finance  Saigon      M      watermelon   26"
            ]
          },
          "metadata": {
            "tags": []
          },
          "execution_count": 10
        }
      ]
    },
    {
      "cell_type": "code",
      "metadata": {
        "colab": {
          "base_uri": "https://localhost:8080/",
          "height": 142
        },
        "id": "leT9WeYcEDCL",
        "outputId": "6fca0963-292a-4433-e7ef-c0fbab5f9ba0"
      },
      "source": [
        "df.iloc[0:3]"
      ],
      "execution_count": 11,
      "outputs": [
        {
          "output_type": "execute_result",
          "data": {
            "text/html": [
              "<div>\n",
              "<style scoped>\n",
              "    .dataframe tbody tr th:only-of-type {\n",
              "        vertical-align: middle;\n",
              "    }\n",
              "\n",
              "    .dataframe tbody tr th {\n",
              "        vertical-align: top;\n",
              "    }\n",
              "\n",
              "    .dataframe thead th {\n",
              "        text-align: right;\n",
              "    }\n",
              "</style>\n",
              "<table border=\"1\" class=\"dataframe\">\n",
              "  <thead>\n",
              "    <tr style=\"text-align: right;\">\n",
              "      <th></th>\n",
              "      <th>name</th>\n",
              "      <th>function</th>\n",
              "      <th>address</th>\n",
              "      <th>gender</th>\n",
              "      <th>favourite_fruit</th>\n",
              "      <th>age</th>\n",
              "    </tr>\n",
              "  </thead>\n",
              "  <tbody>\n",
              "    <tr>\n",
              "      <th>0</th>\n",
              "      <td>Chi</td>\n",
              "      <td>Marketing</td>\n",
              "      <td>Hanoi</td>\n",
              "      <td>F</td>\n",
              "      <td>apple</td>\n",
              "      <td>20</td>\n",
              "    </tr>\n",
              "    <tr>\n",
              "      <th>1</th>\n",
              "      <td>Alex</td>\n",
              "      <td>Tech</td>\n",
              "      <td>Saigon</td>\n",
              "      <td>M</td>\n",
              "      <td>banana</td>\n",
              "      <td>25</td>\n",
              "    </tr>\n",
              "    <tr>\n",
              "      <th>2</th>\n",
              "      <td>Sam</td>\n",
              "      <td>Tech</td>\n",
              "      <td>Hanoi</td>\n",
              "      <td>F</td>\n",
              "      <td>orange</td>\n",
              "      <td>21</td>\n",
              "    </tr>\n",
              "  </tbody>\n",
              "</table>\n",
              "</div>"
            ],
            "text/plain": [
              "   name   function address gender favourite_fruit  age\n",
              "0   Chi  Marketing   Hanoi      F           apple   20\n",
              "1  Alex       Tech  Saigon      M          banana   25\n",
              "2   Sam       Tech   Hanoi      F          orange   21"
            ]
          },
          "metadata": {
            "tags": []
          },
          "execution_count": 11
        }
      ]
    },
    {
      "cell_type": "code",
      "metadata": {
        "id": "MeTmPE_2EErB"
      },
      "source": [
        "df4 = df.copy()\n",
        "df4.set_index('name', inplace = True) "
      ],
      "execution_count": 12,
      "outputs": []
    },
    {
      "cell_type": "code",
      "metadata": {
        "colab": {
          "base_uri": "https://localhost:8080/",
          "height": 173
        },
        "id": "-TGAvV9LEMyU",
        "outputId": "bed11d8e-aadb-41f7-c8ab-8b6fd496a09a"
      },
      "source": [
        "index = ['Chi', 'Sam', 'Hoang']\n",
        "df4.loc[index] "
      ],
      "execution_count": 13,
      "outputs": [
        {
          "output_type": "execute_result",
          "data": {
            "text/html": [
              "<div>\n",
              "<style scoped>\n",
              "    .dataframe tbody tr th:only-of-type {\n",
              "        vertical-align: middle;\n",
              "    }\n",
              "\n",
              "    .dataframe tbody tr th {\n",
              "        vertical-align: top;\n",
              "    }\n",
              "\n",
              "    .dataframe thead th {\n",
              "        text-align: right;\n",
              "    }\n",
              "</style>\n",
              "<table border=\"1\" class=\"dataframe\">\n",
              "  <thead>\n",
              "    <tr style=\"text-align: right;\">\n",
              "      <th></th>\n",
              "      <th>function</th>\n",
              "      <th>address</th>\n",
              "      <th>gender</th>\n",
              "      <th>favourite_fruit</th>\n",
              "      <th>age</th>\n",
              "    </tr>\n",
              "    <tr>\n",
              "      <th>name</th>\n",
              "      <th></th>\n",
              "      <th></th>\n",
              "      <th></th>\n",
              "      <th></th>\n",
              "      <th></th>\n",
              "    </tr>\n",
              "  </thead>\n",
              "  <tbody>\n",
              "    <tr>\n",
              "      <th>Chi</th>\n",
              "      <td>Marketing</td>\n",
              "      <td>Hanoi</td>\n",
              "      <td>F</td>\n",
              "      <td>apple</td>\n",
              "      <td>20</td>\n",
              "    </tr>\n",
              "    <tr>\n",
              "      <th>Sam</th>\n",
              "      <td>Tech</td>\n",
              "      <td>Hanoi</td>\n",
              "      <td>F</td>\n",
              "      <td>orange</td>\n",
              "      <td>21</td>\n",
              "    </tr>\n",
              "    <tr>\n",
              "      <th>Hoang</th>\n",
              "      <td>Finance</td>\n",
              "      <td>Saigon</td>\n",
              "      <td>M</td>\n",
              "      <td>watermelon</td>\n",
              "      <td>26</td>\n",
              "    </tr>\n",
              "  </tbody>\n",
              "</table>\n",
              "</div>"
            ],
            "text/plain": [
              "        function address gender favourite_fruit  age\n",
              "name                                                \n",
              "Chi    Marketing   Hanoi      F           apple   20\n",
              "Sam         Tech   Hanoi      F          orange   21\n",
              "Hoang    Finance  Saigon      M      watermelon   26"
            ]
          },
          "metadata": {
            "tags": []
          },
          "execution_count": 13
        }
      ]
    },
    {
      "cell_type": "code",
      "metadata": {
        "colab": {
          "base_uri": "https://localhost:8080/",
          "height": 173
        },
        "id": "rNrFMhLREUpA",
        "outputId": "2cf96c6f-0d0c-4e2f-eb45-8fb4d4fa19b8"
      },
      "source": [
        "df.loc[(df.age >=25), ['name','gender','address']] "
      ],
      "execution_count": 14,
      "outputs": [
        {
          "output_type": "execute_result",
          "data": {
            "text/html": [
              "<div>\n",
              "<style scoped>\n",
              "    .dataframe tbody tr th:only-of-type {\n",
              "        vertical-align: middle;\n",
              "    }\n",
              "\n",
              "    .dataframe tbody tr th {\n",
              "        vertical-align: top;\n",
              "    }\n",
              "\n",
              "    .dataframe thead th {\n",
              "        text-align: right;\n",
              "    }\n",
              "</style>\n",
              "<table border=\"1\" class=\"dataframe\">\n",
              "  <thead>\n",
              "    <tr style=\"text-align: right;\">\n",
              "      <th></th>\n",
              "      <th>name</th>\n",
              "      <th>gender</th>\n",
              "      <th>address</th>\n",
              "    </tr>\n",
              "  </thead>\n",
              "  <tbody>\n",
              "    <tr>\n",
              "      <th>1</th>\n",
              "      <td>Alex</td>\n",
              "      <td>M</td>\n",
              "      <td>Saigon</td>\n",
              "    </tr>\n",
              "    <tr>\n",
              "      <th>3</th>\n",
              "      <td>Hoang</td>\n",
              "      <td>M</td>\n",
              "      <td>Saigon</td>\n",
              "    </tr>\n",
              "    <tr>\n",
              "      <th>4</th>\n",
              "      <td>Linh</td>\n",
              "      <td>M</td>\n",
              "      <td>Hanoi</td>\n",
              "    </tr>\n",
              "    <tr>\n",
              "      <th>5</th>\n",
              "      <td>Dung</td>\n",
              "      <td>M</td>\n",
              "      <td>Hanoi</td>\n",
              "    </tr>\n",
              "  </tbody>\n",
              "</table>\n",
              "</div>"
            ],
            "text/plain": [
              "    name gender address\n",
              "1   Alex      M  Saigon\n",
              "3  Hoang      M  Saigon\n",
              "4   Linh      M   Hanoi\n",
              "5   Dung      M   Hanoi"
            ]
          },
          "metadata": {
            "tags": []
          },
          "execution_count": 14
        }
      ]
    },
    {
      "cell_type": "code",
      "metadata": {
        "colab": {
          "base_uri": "https://localhost:8080/",
          "height": 297
        },
        "id": "x1R_HbmUEWVl",
        "outputId": "2d0bbbb4-1058-4305-9a19-c5da35d20006"
      },
      "source": [
        "#Using iloc\n",
        "df4.iloc[:,[1,2,3]]#Using loc and column names\n",
        "df4.loc[:, ['address','gender','favourite_fruit']]"
      ],
      "execution_count": 15,
      "outputs": [
        {
          "output_type": "execute_result",
          "data": {
            "text/html": [
              "<div>\n",
              "<style scoped>\n",
              "    .dataframe tbody tr th:only-of-type {\n",
              "        vertical-align: middle;\n",
              "    }\n",
              "\n",
              "    .dataframe tbody tr th {\n",
              "        vertical-align: top;\n",
              "    }\n",
              "\n",
              "    .dataframe thead th {\n",
              "        text-align: right;\n",
              "    }\n",
              "</style>\n",
              "<table border=\"1\" class=\"dataframe\">\n",
              "  <thead>\n",
              "    <tr style=\"text-align: right;\">\n",
              "      <th></th>\n",
              "      <th>address</th>\n",
              "      <th>gender</th>\n",
              "      <th>favourite_fruit</th>\n",
              "    </tr>\n",
              "    <tr>\n",
              "      <th>name</th>\n",
              "      <th></th>\n",
              "      <th></th>\n",
              "      <th></th>\n",
              "    </tr>\n",
              "  </thead>\n",
              "  <tbody>\n",
              "    <tr>\n",
              "      <th>Chi</th>\n",
              "      <td>Hanoi</td>\n",
              "      <td>F</td>\n",
              "      <td>apple</td>\n",
              "    </tr>\n",
              "    <tr>\n",
              "      <th>Alex</th>\n",
              "      <td>Saigon</td>\n",
              "      <td>M</td>\n",
              "      <td>banana</td>\n",
              "    </tr>\n",
              "    <tr>\n",
              "      <th>Sam</th>\n",
              "      <td>Hanoi</td>\n",
              "      <td>F</td>\n",
              "      <td>orange</td>\n",
              "    </tr>\n",
              "    <tr>\n",
              "      <th>Hoang</th>\n",
              "      <td>Saigon</td>\n",
              "      <td>M</td>\n",
              "      <td>watermelon</td>\n",
              "    </tr>\n",
              "    <tr>\n",
              "      <th>Linh</th>\n",
              "      <td>Hanoi</td>\n",
              "      <td>M</td>\n",
              "      <td>grape</td>\n",
              "    </tr>\n",
              "    <tr>\n",
              "      <th>Dung</th>\n",
              "      <td>Hanoi</td>\n",
              "      <td>M</td>\n",
              "      <td>NaN</td>\n",
              "    </tr>\n",
              "    <tr>\n",
              "      <th>Anh</th>\n",
              "      <td>Saigon</td>\n",
              "      <td>F</td>\n",
              "      <td>kumquat</td>\n",
              "    </tr>\n",
              "  </tbody>\n",
              "</table>\n",
              "</div>"
            ],
            "text/plain": [
              "      address gender favourite_fruit\n",
              "name                                \n",
              "Chi     Hanoi      F           apple\n",
              "Alex   Saigon      M          banana\n",
              "Sam     Hanoi      F          orange\n",
              "Hoang  Saigon      M      watermelon\n",
              "Linh    Hanoi      M           grape\n",
              "Dung    Hanoi      M             NaN\n",
              "Anh    Saigon      F         kumquat"
            ]
          },
          "metadata": {
            "tags": []
          },
          "execution_count": 15
        }
      ]
    },
    {
      "cell_type": "code",
      "metadata": {
        "colab": {
          "base_uri": "https://localhost:8080/",
          "height": 204
        },
        "id": "uOE8FmdkEZwa",
        "outputId": "07fb877f-20ed-4f38-f096-fe1ee89e22d6"
      },
      "source": [
        "#Using iloc\n",
        "df4.iloc[2:6,3:4]#Using loc\n",
        "df4.loc['Sam':'Dung',['favourite_fruit']]"
      ],
      "execution_count": 16,
      "outputs": [
        {
          "output_type": "execute_result",
          "data": {
            "text/html": [
              "<div>\n",
              "<style scoped>\n",
              "    .dataframe tbody tr th:only-of-type {\n",
              "        vertical-align: middle;\n",
              "    }\n",
              "\n",
              "    .dataframe tbody tr th {\n",
              "        vertical-align: top;\n",
              "    }\n",
              "\n",
              "    .dataframe thead th {\n",
              "        text-align: right;\n",
              "    }\n",
              "</style>\n",
              "<table border=\"1\" class=\"dataframe\">\n",
              "  <thead>\n",
              "    <tr style=\"text-align: right;\">\n",
              "      <th></th>\n",
              "      <th>favourite_fruit</th>\n",
              "    </tr>\n",
              "    <tr>\n",
              "      <th>name</th>\n",
              "      <th></th>\n",
              "    </tr>\n",
              "  </thead>\n",
              "  <tbody>\n",
              "    <tr>\n",
              "      <th>Sam</th>\n",
              "      <td>orange</td>\n",
              "    </tr>\n",
              "    <tr>\n",
              "      <th>Hoang</th>\n",
              "      <td>watermelon</td>\n",
              "    </tr>\n",
              "    <tr>\n",
              "      <th>Linh</th>\n",
              "      <td>grape</td>\n",
              "    </tr>\n",
              "    <tr>\n",
              "      <th>Dung</th>\n",
              "      <td>NaN</td>\n",
              "    </tr>\n",
              "  </tbody>\n",
              "</table>\n",
              "</div>"
            ],
            "text/plain": [
              "      favourite_fruit\n",
              "name                 \n",
              "Sam            orange\n",
              "Hoang      watermelon\n",
              "Linh            grape\n",
              "Dung              NaN"
            ]
          },
          "metadata": {
            "tags": []
          },
          "execution_count": 16
        }
      ]
    },
    {
      "cell_type": "code",
      "metadata": {
        "colab": {
          "base_uri": "https://localhost:8080/",
          "height": 142
        },
        "id": "368cPQi3EbQ8",
        "outputId": "98fafd83-382f-425e-acf8-344c78c73352"
      },
      "source": [
        "#Using iloc\n",
        "df4.iloc[[1,3],[2,4]]#Using loc\n",
        "df4.loc[['Alex','Hoang'],['gender','age']]"
      ],
      "execution_count": 17,
      "outputs": [
        {
          "output_type": "execute_result",
          "data": {
            "text/html": [
              "<div>\n",
              "<style scoped>\n",
              "    .dataframe tbody tr th:only-of-type {\n",
              "        vertical-align: middle;\n",
              "    }\n",
              "\n",
              "    .dataframe tbody tr th {\n",
              "        vertical-align: top;\n",
              "    }\n",
              "\n",
              "    .dataframe thead th {\n",
              "        text-align: right;\n",
              "    }\n",
              "</style>\n",
              "<table border=\"1\" class=\"dataframe\">\n",
              "  <thead>\n",
              "    <tr style=\"text-align: right;\">\n",
              "      <th></th>\n",
              "      <th>gender</th>\n",
              "      <th>age</th>\n",
              "    </tr>\n",
              "    <tr>\n",
              "      <th>name</th>\n",
              "      <th></th>\n",
              "      <th></th>\n",
              "    </tr>\n",
              "  </thead>\n",
              "  <tbody>\n",
              "    <tr>\n",
              "      <th>Alex</th>\n",
              "      <td>M</td>\n",
              "      <td>25</td>\n",
              "    </tr>\n",
              "    <tr>\n",
              "      <th>Hoang</th>\n",
              "      <td>M</td>\n",
              "      <td>26</td>\n",
              "    </tr>\n",
              "  </tbody>\n",
              "</table>\n",
              "</div>"
            ],
            "text/plain": [
              "      gender  age\n",
              "name             \n",
              "Alex       M   25\n",
              "Hoang      M   26"
            ]
          },
          "metadata": {
            "tags": []
          },
          "execution_count": 17
        }
      ]
    },
    {
      "cell_type": "code",
      "metadata": {
        "colab": {
          "base_uri": "https://localhost:8080/",
          "height": 173
        },
        "id": "5B9z1RECEdKI",
        "outputId": "0c2dbeb8-84c4-4c4b-f654-5aaca55141e0"
      },
      "source": [
        "column_start = df4.columns.get_loc('address')\n",
        "column_end = df4.columns.get_loc('favourite_fruit')\n",
        "df4.iloc[1:4,column_start:column_end] "
      ],
      "execution_count": 18,
      "outputs": [
        {
          "output_type": "execute_result",
          "data": {
            "text/html": [
              "<div>\n",
              "<style scoped>\n",
              "    .dataframe tbody tr th:only-of-type {\n",
              "        vertical-align: middle;\n",
              "    }\n",
              "\n",
              "    .dataframe tbody tr th {\n",
              "        vertical-align: top;\n",
              "    }\n",
              "\n",
              "    .dataframe thead th {\n",
              "        text-align: right;\n",
              "    }\n",
              "</style>\n",
              "<table border=\"1\" class=\"dataframe\">\n",
              "  <thead>\n",
              "    <tr style=\"text-align: right;\">\n",
              "      <th></th>\n",
              "      <th>address</th>\n",
              "      <th>gender</th>\n",
              "    </tr>\n",
              "    <tr>\n",
              "      <th>name</th>\n",
              "      <th></th>\n",
              "      <th></th>\n",
              "    </tr>\n",
              "  </thead>\n",
              "  <tbody>\n",
              "    <tr>\n",
              "      <th>Alex</th>\n",
              "      <td>Saigon</td>\n",
              "      <td>M</td>\n",
              "    </tr>\n",
              "    <tr>\n",
              "      <th>Sam</th>\n",
              "      <td>Hanoi</td>\n",
              "      <td>F</td>\n",
              "    </tr>\n",
              "    <tr>\n",
              "      <th>Hoang</th>\n",
              "      <td>Saigon</td>\n",
              "      <td>M</td>\n",
              "    </tr>\n",
              "  </tbody>\n",
              "</table>\n",
              "</div>"
            ],
            "text/plain": [
              "      address gender\n",
              "name                \n",
              "Alex   Saigon      M\n",
              "Sam     Hanoi      F\n",
              "Hoang  Saigon      M"
            ]
          },
          "metadata": {
            "tags": []
          },
          "execution_count": 18
        }
      ]
    },
    {
      "cell_type": "code",
      "metadata": {
        "colab": {
          "base_uri": "https://localhost:8080/",
          "height": 173
        },
        "id": "zrVI_MJ8EexP",
        "outputId": "f7d56447-c321-42b9-8161-8596f1de76fa"
      },
      "source": [
        "row_start = df4.index[1]\n",
        "row_end = df4.index[3]\n",
        "df4.loc[row_start:row_end, 'address':'gender']"
      ],
      "execution_count": 19,
      "outputs": [
        {
          "output_type": "execute_result",
          "data": {
            "text/html": [
              "<div>\n",
              "<style scoped>\n",
              "    .dataframe tbody tr th:only-of-type {\n",
              "        vertical-align: middle;\n",
              "    }\n",
              "\n",
              "    .dataframe tbody tr th {\n",
              "        vertical-align: top;\n",
              "    }\n",
              "\n",
              "    .dataframe thead th {\n",
              "        text-align: right;\n",
              "    }\n",
              "</style>\n",
              "<table border=\"1\" class=\"dataframe\">\n",
              "  <thead>\n",
              "    <tr style=\"text-align: right;\">\n",
              "      <th></th>\n",
              "      <th>address</th>\n",
              "      <th>gender</th>\n",
              "    </tr>\n",
              "    <tr>\n",
              "      <th>name</th>\n",
              "      <th></th>\n",
              "      <th></th>\n",
              "    </tr>\n",
              "  </thead>\n",
              "  <tbody>\n",
              "    <tr>\n",
              "      <th>Alex</th>\n",
              "      <td>Saigon</td>\n",
              "      <td>M</td>\n",
              "    </tr>\n",
              "    <tr>\n",
              "      <th>Sam</th>\n",
              "      <td>Hanoi</td>\n",
              "      <td>F</td>\n",
              "    </tr>\n",
              "    <tr>\n",
              "      <th>Hoang</th>\n",
              "      <td>Saigon</td>\n",
              "      <td>M</td>\n",
              "    </tr>\n",
              "  </tbody>\n",
              "</table>\n",
              "</div>"
            ],
            "text/plain": [
              "      address gender\n",
              "name                \n",
              "Alex   Saigon      M\n",
              "Sam     Hanoi      F\n",
              "Hoang  Saigon      M"
            ]
          },
          "metadata": {
            "tags": []
          },
          "execution_count": 19
        }
      ]
    },
    {
      "cell_type": "code",
      "metadata": {
        "colab": {
          "base_uri": "https://localhost:8080/",
          "height": 37
        },
        "id": "gpY5i8pFEhyU",
        "outputId": "ec1cb505-dc60-45bd-98a5-07d145bc812f"
      },
      "source": [
        "row_position = df4.index.get_loc('Hoang')\n",
        "column_position = df4.columns.get_loc('favourite_fruit')#Using iloc\n",
        "df4.iloc[row_position,column_position]#Using iat\n",
        "df4.iat[row_position,column_position]#Using loc\n",
        "df4.loc['Hoang','favourite_fruit'] #Using at\n",
        "df4.at['Hoang','favourite_fruit'] "
      ],
      "execution_count": 21,
      "outputs": [
        {
          "output_type": "execute_result",
          "data": {
            "application/vnd.google.colaboratory.intrinsic+json": {
              "type": "string"
            },
            "text/plain": [
              "'watermelon'"
            ]
          },
          "metadata": {
            "tags": []
          },
          "execution_count": 21
        }
      ]
    }
  ]
}