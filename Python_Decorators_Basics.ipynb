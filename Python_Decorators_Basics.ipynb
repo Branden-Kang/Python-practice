{
  "nbformat": 4,
  "nbformat_minor": 0,
  "metadata": {
    "colab": {
      "provenance": [],
      "authorship_tag": "ABX9TyOO/X6rrURivltIA/xJMN3n"
    },
    "kernelspec": {
      "name": "python3",
      "display_name": "Python 3"
    },
    "language_info": {
      "name": "python"
    }
  },
  "cells": [
    {
      "cell_type": "markdown",
      "source": [
        "[Reference](https://medium.com/@nishithakalathil/python-decorators-402f278c13c9)"
      ],
      "metadata": {
        "id": "hy-oFsa1zT8a"
      }
    },
    {
      "cell_type": "code",
      "execution_count": 1,
      "metadata": {
        "colab": {
          "base_uri": "https://localhost:8080/"
        },
        "id": "E9Ee8AKzzLfH",
        "outputId": "953db5ee-f5af-40e5-e072-f02560a03019"
      },
      "outputs": [
        {
          "output_type": "stream",
          "name": "stdout",
          "text": [
            "Adding colorful sprinkles!\n",
            "Making a delicious cake!\n"
          ]
        }
      ],
      "source": [
        "# The decorator\n",
        "def add_sprinkles(func):\n",
        "    def wrapper():\n",
        "        print(\"Adding colorful sprinkles!\")\n",
        "        func()\n",
        "    return wrapper\n",
        "\n",
        "# Using the decorator\n",
        "@add_sprinkles\n",
        "def make_cake():\n",
        "    print(\"Making a delicious cake!\")\n",
        "\n",
        "# Now, when you make the cake...\n",
        "make_cake()"
      ]
    }
  ]
}