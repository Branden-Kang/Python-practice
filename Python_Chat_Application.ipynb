{
  "nbformat": 4,
  "nbformat_minor": 0,
  "metadata": {
    "colab": {
      "name": "Python Chat Application.ipynb",
      "provenance": [],
      "collapsed_sections": [],
      "authorship_tag": "ABX9TyMBJ9VbQoSaYtl/bcn4KaM3"
    },
    "kernelspec": {
      "name": "python3",
      "display_name": "Python 3"
    },
    "language_info": {
      "name": "python"
    }
  },
  "cells": [
    {
      "cell_type": "markdown",
      "metadata": {
        "id": "JfMglTw0Dpuq"
      },
      "source": [
        "[Reference](https://rohitraut3366.medium.com/python-chat-application-3b8ebc4eb5a0)"
      ]
    },
    {
      "cell_type": "code",
      "metadata": {
        "id": "QGojY59fDMEk"
      },
      "source": [
        "# git clone git@github.com:rohitraut3366/Chat-Application-Using-Socket-Programming-in-python.git"
      ],
      "execution_count": 1,
      "outputs": []
    },
    {
      "cell_type": "code",
      "metadata": {
        "id": "1N37qS89Du79"
      },
      "source": [
        "import socket\n",
        "import threading\n",
        "\n",
        "\n",
        "def receiver(*ipPort):\n",
        "    while True:\n",
        "        s1 = socket.socket(socket.AF_INET, socket.SOCK_DGRAM)\n",
        "        s1.bind(ipPort)\n",
        "        data = s1.recvfrom(1024)\n",
        "        print(\" \"*20, data[1][0], \" : \", data[0].decode())\n",
        "\n",
        "\n",
        "def sender(*ipPort):\n",
        "    while True: \n",
        "        data = input()\n",
        "        s2 = socket.socket(socket.AF_INET, socket.SOCK_DGRAM)\n",
        "        s2.sendto(data.encode(), ipPort)\n",
        "\n",
        "IP1 = input(\"Enter Your IP: \")  \n",
        "IP1_Port = int(input(f\"Enter {IP1} Port: \"))\n",
        "\n",
        "IP2 = input(\"Enter remote server IP: \")\n",
        "IP2_port = int(input(f\"Enter {IP2} port : \"))\n",
        "\n",
        "rec = threading.Thread(target=receiver,args=(IP1,IP1_Port))\n",
        "send = threading.Thread(target=sender,args=(IP2,IP2_port))\n",
        "\n",
        "send.start()\n",
        "rec.start()"
      ],
      "execution_count": 2,
      "outputs": []
    }
  ]
}