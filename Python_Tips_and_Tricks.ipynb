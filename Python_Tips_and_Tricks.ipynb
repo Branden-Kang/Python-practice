{
  "nbformat": 4,
  "nbformat_minor": 0,
  "metadata": {
    "colab": {
      "name": "Python Tips and Tricks.ipynb",
      "provenance": [],
      "authorship_tag": "ABX9TyN4gKQdu4y8/7YPRPnEBLdS"
    },
    "kernelspec": {
      "name": "python3",
      "display_name": "Python 3"
    }
  },
  "cells": [
    {
      "cell_type": "markdown",
      "metadata": {
        "id": "h1FCVNWwQnOM"
      },
      "source": [
        "[Reference](https://medium.com/analytics-vidhya/interesting-python-tips-and-tricks-6d033967b5a5)"
      ]
    },
    {
      "cell_type": "markdown",
      "metadata": {
        "id": "1Vv9Pkn0Qg4D"
      },
      "source": [
        "# 1. Context Managers\n",
        "\n",
        "```python\n",
        "--------------------------------------------------------------\n",
        "# Manually managing the resources\n",
        "f = open('test.txt','r')\n",
        "file = f.read()\n",
        "f.close()\n",
        "--------------------------------------------------------------\n",
        "# Using with statement to manage the resources automaticallywith open('test.txt','r') as f:\n",
        "   file = f.read()\n",
        "--------------------------------------------------------------\n",
        "```"
      ]
    },
    {
      "cell_type": "markdown",
      "metadata": {
        "id": "68ue2aZAQqkk"
      },
      "source": [
        "# 2. Underscores in Numeric Literals"
      ]
    },
    {
      "cell_type": "code",
      "metadata": {
        "id": "EAKqQhVjOgCs",
        "outputId": "b93e97be-ca48-42ed-81a0-2a1c390b4481",
        "colab": {
          "base_uri": "https://localhost:8080/",
          "height": 34
        }
      },
      "source": [
        "# grouping decimal numbers by thousands\n",
        "amount = 10_000_000.0\n",
        "amount"
      ],
      "execution_count": 1,
      "outputs": [
        {
          "output_type": "execute_result",
          "data": {
            "text/plain": [
              "10000000.0"
            ]
          },
          "metadata": {
            "tags": []
          },
          "execution_count": 1
        }
      ]
    },
    {
      "cell_type": "code",
      "metadata": {
        "id": "fTCJB4LuQw-i",
        "outputId": "1636a628-9c24-44c3-dc02-d71e309e4f54",
        "colab": {
          "base_uri": "https://localhost:8080/",
          "height": 34
        }
      },
      "source": [
        "# same, for string conversions\n",
        "flags = int('0b_1111_0000', 2)\n",
        "flags"
      ],
      "execution_count": 2,
      "outputs": [
        {
          "output_type": "execute_result",
          "data": {
            "text/plain": [
              "240"
            ]
          },
          "metadata": {
            "tags": []
          },
          "execution_count": 2
        }
      ]
    },
    {
      "cell_type": "code",
      "metadata": {
        "id": "inqL0WGsQ2R4",
        "outputId": "7dca3dc2-5a61-423f-933d-6f95ba19ce40",
        "colab": {
          "base_uri": "https://localhost:8080/",
          "height": 34
        }
      },
      "source": [
        "# grouping hexadecimal addresses by words\n",
        "addr = 0xCAFE_F00D\n",
        "addr"
      ],
      "execution_count": 3,
      "outputs": [
        {
          "output_type": "execute_result",
          "data": {
            "text/plain": [
              "3405705229"
            ]
          },
          "metadata": {
            "tags": []
          },
          "execution_count": 3
        }
      ]
    },
    {
      "cell_type": "markdown",
      "metadata": {
        "id": "Qh_VBuQ1Q7vC"
      },
      "source": [
        "# 3. Unpack a tuple / list / _  / *"
      ]
    },
    {
      "cell_type": "code",
      "metadata": {
        "id": "IUu2fBmeQ6te",
        "outputId": "d6c115cf-ff27-4ba8-f770-8b6a854bfb4d",
        "colab": {
          "base_uri": "https://localhost:8080/",
          "height": 68
        }
      },
      "source": [
        "t = (0, 1, 2)\n",
        "\n",
        "a, b, c = t\n",
        "\n",
        "print(a)\n",
        "print(b)\n",
        "print(c)"
      ],
      "execution_count": 4,
      "outputs": [
        {
          "output_type": "stream",
          "text": [
            "0\n",
            "1\n",
            "2\n"
          ],
          "name": "stdout"
        }
      ]
    },
    {
      "cell_type": "code",
      "metadata": {
        "id": "F981zNzlQ-wU",
        "outputId": "166fbbe6-bc5d-4f60-bee1-18e8eef1f36c",
        "colab": {
          "base_uri": "https://localhost:8080/",
          "height": 68
        }
      },
      "source": [
        "l = [0, 1, 2]\n",
        "\n",
        "a, b, c = l\n",
        "\n",
        "print(a)\n",
        "print(b)\n",
        "print(c)"
      ],
      "execution_count": 5,
      "outputs": [
        {
          "output_type": "stream",
          "text": [
            "0\n",
            "1\n",
            "2\n"
          ],
          "name": "stdout"
        }
      ]
    },
    {
      "cell_type": "code",
      "metadata": {
        "id": "iIAV289GRAQd",
        "outputId": "d0ec99f4-40c3-4e5d-bdc9-279370ae7c1e",
        "colab": {
          "base_uri": "https://localhost:8080/",
          "height": 68
        }
      },
      "source": [
        "t = (0, 1, (2, 3, 4))\n",
        "\n",
        "a, b, c = t\n",
        "\n",
        "print(a)\n",
        "print(b)\n",
        "print(c)"
      ],
      "execution_count": 6,
      "outputs": [
        {
          "output_type": "stream",
          "text": [
            "0\n",
            "1\n",
            "(2, 3, 4)\n"
          ],
          "name": "stdout"
        }
      ]
    },
    {
      "cell_type": "code",
      "metadata": {
        "id": "qCm20zFyRHVM",
        "outputId": "d51c0355-3075-455a-9b0e-cd89979db66e",
        "colab": {
          "base_uri": "https://localhost:8080/",
          "height": 102
        }
      },
      "source": [
        "a, b, (c, d, e) = t\n",
        "\n",
        "print(a)\n",
        "print(b)\n",
        "print(c)\n",
        "print(d)\n",
        "print(e)"
      ],
      "execution_count": 7,
      "outputs": [
        {
          "output_type": "stream",
          "text": [
            "0\n",
            "1\n",
            "2\n",
            "3\n",
            "4\n"
          ],
          "name": "stdout"
        }
      ]
    },
    {
      "cell_type": "code",
      "metadata": {
        "id": "mQCDb_bERKMl",
        "outputId": "d96bd1af-0158-48da-a31d-d7b163b01645",
        "colab": {
          "base_uri": "https://localhost:8080/",
          "height": 68
        }
      },
      "source": [
        "t = (0, 1, 2)\n",
        "\n",
        "a, b, _ = t\n",
        "\n",
        "print(a)\n",
        "print(b)\n",
        "print(_)"
      ],
      "execution_count": 8,
      "outputs": [
        {
          "output_type": "stream",
          "text": [
            "0\n",
            "1\n",
            "2\n"
          ],
          "name": "stdout"
        }
      ]
    },
    {
      "cell_type": "code",
      "metadata": {
        "id": "RrIJ1g2rRT_b",
        "outputId": "e24b8625-37da-4276-e1b1-77896a5a1b47",
        "colab": {
          "base_uri": "https://localhost:8080/",
          "height": 68
        }
      },
      "source": [
        "t = (0, 1, 2, 3, 4)\n",
        "\n",
        "a, b, *c = t\n",
        "\n",
        "print(a)\n",
        "print(b)\n",
        "print(c)"
      ],
      "execution_count": 9,
      "outputs": [
        {
          "output_type": "stream",
          "text": [
            "0\n",
            "1\n",
            "[2, 3, 4]\n"
          ],
          "name": "stdout"
        }
      ]
    },
    {
      "cell_type": "code",
      "metadata": {
        "id": "YekwoLRkRYd7",
        "outputId": "88b1bb95-ca8e-4fc4-e541-2acc4b91778d",
        "colab": {
          "base_uri": "https://localhost:8080/",
          "height": 68
        }
      },
      "source": [
        "a, *b, c = t\n",
        "\n",
        "print(a)\n",
        "print(b)\n",
        "print(c)"
      ],
      "execution_count": 10,
      "outputs": [
        {
          "output_type": "stream",
          "text": [
            "0\n",
            "[1, 2, 3]\n",
            "4\n"
          ],
          "name": "stdout"
        }
      ]
    },
    {
      "cell_type": "code",
      "metadata": {
        "id": "1XsH1IZLRbQP",
        "outputId": "4fbb2fd9-05ed-4f2d-bbb8-7bd9f004a3cd",
        "colab": {
          "base_uri": "https://localhost:8080/",
          "height": 68
        }
      },
      "source": [
        "print(a)\n",
        "print(b)\n",
        "print(c)"
      ],
      "execution_count": 11,
      "outputs": [
        {
          "output_type": "stream",
          "text": [
            "0\n",
            "[1, 2, 3]\n",
            "4\n"
          ],
          "name": "stdout"
        }
      ]
    },
    {
      "cell_type": "code",
      "metadata": {
        "id": "a4ZoclIbRce0",
        "outputId": "b8e77518-cb3d-484c-8c18-cae994c9cb2a",
        "colab": {
          "base_uri": "https://localhost:8080/",
          "height": 68
        }
      },
      "source": [
        "a, b, *_ = t\n",
        "\n",
        "print(a)\n",
        "print(b)\n",
        "print(_)"
      ],
      "execution_count": 12,
      "outputs": [
        {
          "output_type": "stream",
          "text": [
            "0\n",
            "1\n",
            "[2, 3, 4]\n"
          ],
          "name": "stdout"
        }
      ]
    },
    {
      "cell_type": "code",
      "metadata": {
        "id": "BVYqtRZCRfXq",
        "outputId": "b3bf94cb-af2d-418d-8ad3-2b7a6cf3a338",
        "colab": {
          "base_uri": "https://localhost:8080/",
          "height": 51
        }
      },
      "source": [
        "a, b = t[0], t[1]\n",
        "\n",
        "print(a)\n",
        "print(b)"
      ],
      "execution_count": 13,
      "outputs": [
        {
          "output_type": "stream",
          "text": [
            "0\n",
            "1\n"
          ],
          "name": "stdout"
        }
      ]
    },
    {
      "cell_type": "code",
      "metadata": {
        "id": "aYolUUzSRj5M",
        "outputId": "f1708a98-ad0f-42e7-d91f-2bf43358b42b",
        "colab": {
          "base_uri": "https://localhost:8080/",
          "height": 68
        }
      },
      "source": [
        "t = (0, 1, 2)\n",
        "\n",
        "a, b, *c = t\n",
        "\n",
        "print(a)\n",
        "print(b)\n",
        "print(c)"
      ],
      "execution_count": 14,
      "outputs": [
        {
          "output_type": "stream",
          "text": [
            "0\n",
            "1\n",
            "[2]\n"
          ],
          "name": "stdout"
        }
      ]
    },
    {
      "cell_type": "code",
      "metadata": {
        "id": "FnWfr0j7Rlsp",
        "outputId": "50b03ffb-5642-44e8-f356-8409847e4c88",
        "colab": {
          "base_uri": "https://localhost:8080/",
          "height": 85
        }
      },
      "source": [
        "a, b, c, *d = t\n",
        "\n",
        "print(a)\n",
        "print(b)\n",
        "print(c)\n",
        "print(d)"
      ],
      "execution_count": 15,
      "outputs": [
        {
          "output_type": "stream",
          "text": [
            "0\n",
            "1\n",
            "2\n",
            "[]\n"
          ],
          "name": "stdout"
        }
      ]
    },
    {
      "cell_type": "markdown",
      "metadata": {
        "id": "qXN5awgsRrTQ"
      },
      "source": [
        "# 4. Use enumerate() and zip() "
      ]
    },
    {
      "cell_type": "code",
      "metadata": {
        "id": "aHQspOdhRnT1",
        "outputId": "c4da05df-8618-4987-df17-6577ebe9c81a",
        "colab": {
          "base_uri": "https://localhost:8080/",
          "height": 68
        }
      },
      "source": [
        "names = ['Alice', 'Bob', 'Charlie']\n",
        "ages = [24, 50, 18]\n",
        "\n",
        "for i, (name, age) in enumerate(zip(names, ages)):\n",
        "    print(i, name, age)"
      ],
      "execution_count": 16,
      "outputs": [
        {
          "output_type": "stream",
          "text": [
            "0 Alice 24\n",
            "1 Bob 50\n",
            "2 Charlie 18\n"
          ],
          "name": "stdout"
        }
      ]
    },
    {
      "cell_type": "code",
      "metadata": {
        "id": "sEbiF-MHR1vW",
        "outputId": "9ede299b-68e5-4be1-8ef2-75a0be555010",
        "colab": {
          "base_uri": "https://localhost:8080/",
          "height": 68
        }
      },
      "source": [
        "for i, t in enumerate(zip(names, ages)):\n",
        "    print(i, t)"
      ],
      "execution_count": 17,
      "outputs": [
        {
          "output_type": "stream",
          "text": [
            "0 ('Alice', 24)\n",
            "1 ('Bob', 50)\n",
            "2 ('Charlie', 18)\n"
          ],
          "name": "stdout"
        }
      ]
    },
    {
      "cell_type": "code",
      "metadata": {
        "id": "LctKpDXkR4Ja",
        "outputId": "6d67c96a-1b3d-473b-e9b5-72ff60d4cac4",
        "colab": {
          "base_uri": "https://localhost:8080/",
          "height": 68
        }
      },
      "source": [
        "for i, t in enumerate(zip(names, ages)):\n",
        "    print(i, t[0], t[1])"
      ],
      "execution_count": 18,
      "outputs": [
        {
          "output_type": "stream",
          "text": [
            "0 Alice 24\n",
            "1 Bob 50\n",
            "2 Charlie 18\n"
          ],
          "name": "stdout"
        }
      ]
    },
    {
      "cell_type": "markdown",
      "metadata": {
        "id": "Ek9hbFwSR7vC"
      },
      "source": [
        "# 5. Get quotient and remainder with divmod() method"
      ]
    },
    {
      "cell_type": "code",
      "metadata": {
        "id": "BLK-1rnaR6Qy",
        "outputId": "97edca48-ec89-441e-e879-f50e0bf1d8d9",
        "colab": {
          "base_uri": "https://localhost:8080/",
          "height": 34
        }
      },
      "source": [
        "q = 10 // 3\n",
        "mod = 10 % 3\n",
        "print(q, mod)"
      ],
      "execution_count": 19,
      "outputs": [
        {
          "output_type": "stream",
          "text": [
            "3 1\n"
          ],
          "name": "stdout"
        }
      ]
    },
    {
      "cell_type": "code",
      "metadata": {
        "id": "9Sri1eaPR9_0",
        "outputId": "034c5aea-ab0f-472d-af29-5f2fb3c69afd",
        "colab": {
          "base_uri": "https://localhost:8080/",
          "height": 34
        }
      },
      "source": [
        "q, mod = divmod(10, 3)\n",
        "print(q, mod)"
      ],
      "execution_count": 20,
      "outputs": [
        {
          "output_type": "stream",
          "text": [
            "3 1\n"
          ],
          "name": "stdout"
        }
      ]
    },
    {
      "cell_type": "code",
      "metadata": {
        "id": "5lTIxhprSe1d",
        "outputId": "8fa0418f-64b6-4c87-cbf3-1b7932adfe4a",
        "colab": {
          "base_uri": "https://localhost:8080/",
          "height": 51
        }
      },
      "source": [
        "answer = divmod(10, 3)\n",
        "print(answer)\n",
        "print(answer[0], answer[1])"
      ],
      "execution_count": 21,
      "outputs": [
        {
          "output_type": "stream",
          "text": [
            "(3, 1)\n",
            "3 1\n"
          ],
          "name": "stdout"
        }
      ]
    },
    {
      "cell_type": "markdown",
      "metadata": {
        "id": "_Y5Hr8nTShUz"
      },
      "source": [
        "# 6. random.shuffle() shuffles the original list"
      ]
    },
    {
      "cell_type": "code",
      "metadata": {
        "id": "i2AhaXmtSgLX",
        "outputId": "7706125a-4ae5-4754-9784-fc9308cb854b",
        "colab": {
          "base_uri": "https://localhost:8080/",
          "height": 34
        }
      },
      "source": [
        "import random\n",
        "\n",
        "l = list(range(5))\n",
        "print(l)"
      ],
      "execution_count": 22,
      "outputs": [
        {
          "output_type": "stream",
          "text": [
            "[0, 1, 2, 3, 4]\n"
          ],
          "name": "stdout"
        }
      ]
    },
    {
      "cell_type": "code",
      "metadata": {
        "id": "RQBg09goSl5g",
        "outputId": "afdd723d-8328-4cae-b8bf-5805cc70a0d9",
        "colab": {
          "base_uri": "https://localhost:8080/",
          "height": 34
        }
      },
      "source": [
        "random.shuffle(l)\n",
        "print(l)"
      ],
      "execution_count": 23,
      "outputs": [
        {
          "output_type": "stream",
          "text": [
            "[1, 4, 0, 2, 3]\n"
          ],
          "name": "stdout"
        }
      ]
    },
    {
      "cell_type": "markdown",
      "metadata": {
        "id": "IhxpIwOOSoxQ"
      },
      "source": [
        "# 7. random.sample() returns a new shuffled list"
      ]
    },
    {
      "cell_type": "code",
      "metadata": {
        "id": "H0m7zAAUSnbY",
        "outputId": "ba83ac19-60d0-4d48-e72f-189a5ebf898e",
        "colab": {
          "base_uri": "https://localhost:8080/",
          "height": 34
        }
      },
      "source": [
        "l = list(range(5))\n",
        "print(l)"
      ],
      "execution_count": 24,
      "outputs": [
        {
          "output_type": "stream",
          "text": [
            "[0, 1, 2, 3, 4]\n"
          ],
          "name": "stdout"
        }
      ]
    },
    {
      "cell_type": "code",
      "metadata": {
        "id": "PFXEwo3NSq2x",
        "outputId": "8d771051-25d9-4879-f1bc-b7c7f344aa0f",
        "colab": {
          "base_uri": "https://localhost:8080/",
          "height": 34
        }
      },
      "source": [
        "lr = random.sample(l, len(l))\n",
        "print(lr)"
      ],
      "execution_count": 26,
      "outputs": [
        {
          "output_type": "stream",
          "text": [
            "[2, 4, 0, 3, 1]\n"
          ],
          "name": "stdout"
        }
      ]
    },
    {
      "cell_type": "markdown",
      "metadata": {
        "id": "dBP9eObNSzts"
      },
      "source": [
        "# 8. Shuffle strings and tuples"
      ]
    },
    {
      "cell_type": "code",
      "metadata": {
        "id": "ZniRB6AdS40k"
      },
      "source": [
        "s = ['a','b','c','d','e']"
      ],
      "execution_count": 28,
      "outputs": []
    },
    {
      "cell_type": "code",
      "metadata": {
        "id": "VLb_i2ZfSsqg",
        "outputId": "a6258fc6-c7d6-43bd-c6f4-4e10a29279b3",
        "colab": {
          "base_uri": "https://localhost:8080/",
          "height": 34
        }
      },
      "source": [
        "sr = ''.join(random.sample(s, len(s)))\n",
        "print(sr)"
      ],
      "execution_count": 29,
      "outputs": [
        {
          "output_type": "stream",
          "text": [
            "bcdea\n"
          ],
          "name": "stdout"
        }
      ]
    },
    {
      "cell_type": "code",
      "metadata": {
        "id": "kohY3d5ES2hs",
        "outputId": "80986553-0acb-4f0d-9396-c71a97ea2f07",
        "colab": {
          "base_uri": "https://localhost:8080/",
          "height": 34
        }
      },
      "source": [
        "t = (0,1,2,3,4)\n",
        "tr = tuple(random.sample(t, len(l)))\n",
        "print(tr)"
      ],
      "execution_count": 31,
      "outputs": [
        {
          "output_type": "stream",
          "text": [
            "(4, 1, 0, 2, 3)\n"
          ],
          "name": "stdout"
        }
      ]
    },
    {
      "cell_type": "markdown",
      "metadata": {
        "id": "t8iEgskETJ61"
      },
      "source": [
        "# 9. Set a seed"
      ]
    },
    {
      "cell_type": "code",
      "metadata": {
        "id": "H0Y0c6uDTApt",
        "outputId": "eb0c1666-3be5-4323-adc5-baff198e5ec5",
        "colab": {
          "base_uri": "https://localhost:8080/",
          "height": 34
        }
      },
      "source": [
        "random.seed(0)\n",
        "l = list(range(5))\n",
        "random.shuffle(l)\n",
        "print(l)"
      ],
      "execution_count": 32,
      "outputs": [
        {
          "output_type": "stream",
          "text": [
            "[2, 1, 0, 4, 3]\n"
          ],
          "name": "stdout"
        }
      ]
    }
  ]
}