{
  "nbformat": 4,
  "nbformat_minor": 0,
  "metadata": {
    "colab": {
      "name": "How to Use TomTom Data for Predictive Modeling.ipynb",
      "provenance": [],
      "collapsed_sections": [],
      "authorship_tag": "ABX9TyMPsyLZxZQuMkWSDtrOIKoM"
    },
    "kernelspec": {
      "name": "python3",
      "display_name": "Python 3"
    },
    "language_info": {
      "name": "python"
    }
  },
  "cells": [
    {
      "cell_type": "markdown",
      "source": [
        "[Reference](https://tomtomdevs.medium.com/how-to-use-tomtom-data-for-predictive-modeling-7a0a92edcb13)"
      ],
      "metadata": {
        "id": "gHiMLXmE5fPS"
      }
    },
    {
      "cell_type": "code",
      "execution_count": 1,
      "metadata": {
        "id": "qXmgeDdD5doS"
      },
      "outputs": [],
      "source": [
        "# # Import helpful libraries\n",
        "# import numpy as np\n",
        "# import pandas as pd\n",
        "# import matplotlib.pyplot as plt\n",
        "# import seaborn as sns\n",
        "# %matplotlib inline\n",
        "# from IPython.display import display\n",
        "# import warnings\n",
        "# warnings.filterwarnings(\"ignore\")"
      ]
    },
    {
      "cell_type": "markdown",
      "source": [
        "# EXPLORING THE DATASET\n"
      ],
      "metadata": {
        "id": "0n22pfbq5jhE"
      }
    },
    {
      "cell_type": "code",
      "source": [
        "# accidents_data = pd.read_csv('traffic_data.csv')\n",
        "# display(accidents_data.head())"
      ],
      "metadata": {
        "id": "5MBDjf6o5iv6"
      },
      "execution_count": 2,
      "outputs": []
    },
    {
      "cell_type": "code",
      "source": [
        "# accidents_data.info()\n",
        "# accidents_data.dtypes\n",
        "# accidents_data.isnull().sum()\n",
        "# accidents_data.describe()\n",
        "# accidents_data.columns"
      ],
      "metadata": {
        "id": "d4gukatt5lS7"
      },
      "execution_count": 3,
      "outputs": []
    },
    {
      "cell_type": "code",
      "source": [
        "# sns.distplot(accidents_data.Accidents)\n",
        "# plt.hist(accidents_data.Accidents,facecolor='peru',edgecolor='blue',bins=10)\n",
        "# plt.show()"
      ],
      "metadata": {
        "id": "VaG9Kzkb5msY"
      },
      "execution_count": 4,
      "outputs": []
    },
    {
      "cell_type": "code",
      "source": [
        "# plt.hist(accidents_data['Month'],facecolor='orangered',edgecolor='maroon',bins=12)\n",
        "# plt.hist(accidents_data['Hour'],facecolor='peru',edgecolor='blue',bins=24,alpha=0.3)\n",
        "# plt.show()"
      ],
      "metadata": {
        "id": "A11btcWS5osB"
      },
      "execution_count": 5,
      "outputs": []
    },
    {
      "cell_type": "code",
      "source": [
        "# fig, axs = plt.subplots(1,2,figsize=(10, 5))\n",
        "# plt.subplots_adjust(left=0.5,\n",
        "#                     bottom=0.1, \n",
        "#                     right=2, \n",
        "#                     top=0.9, \n",
        "#                     wspace=0.5, \n",
        "#                     hspace=0.5)\n",
        "# axs[0].pie(m_frequency.values(),labels=Months)\n",
        "# axs[0].axis('equal')\n",
        "# axs[0].set_title('Monthly',y=1.1,size = 18)\n",
        "# axs[1].pie(d_frequency.values(),labels=WeekDays)\n",
        "# axs[1].axis('equal')\n",
        "# axs[1].set_title('Daily',y=1.1,size = 18)\n",
        "# fig.suptitle('Accidents over a year',x=1.1,y=1.1,size = 18)"
      ],
      "metadata": {
        "id": "V8b9GDgZ5pyC"
      },
      "execution_count": 6,
      "outputs": []
    },
    {
      "cell_type": "code",
      "source": [
        "# plt.plot(h_codes,h_frequency.values()) \n",
        "# #Adding the aesthetics\n",
        "# plt.title('Accidents by time of day')\n",
        "# plt.xlabel('Time')\n",
        "# plt.ylabel('Number of accidents') \n",
        "# #Show the plot\n",
        "# plt.show()"
      ],
      "metadata": {
        "id": "ldvPFrjy5sjc"
      },
      "execution_count": 7,
      "outputs": []
    },
    {
      "cell_type": "code",
      "source": [
        "# plt.bar(m_codes, m_frequency.values())\n",
        "# plt.xlabel('Month', fontsize=5)\n",
        "# plt.ylabel('Number of accidents', fontsize=5)\n",
        "# plt.xticks(m_codes, Months, fontsize=5, rotation=30)\n",
        "# plt.title('Monthly accidents over a year')\n",
        "# plt.show()"
      ],
      "metadata": {
        "id": "kIo2JcU85uG5"
      },
      "execution_count": 8,
      "outputs": []
    },
    {
      "cell_type": "code",
      "source": [
        "# streets=range(1,701857)\n",
        "# street_codes=[]\n",
        "# s_frequency = {}\n",
        "# for s in accidents_data['Street Code']:\n",
        "#     if s in s_frequency:\n",
        "#         s_frequency[s] += 1\n",
        "#     else:\n",
        "#         s_frequency[s] = 0\n",
        "#         street_codes.append(int(s))\n",
        "# plt.rcParams.update({'figure.figsize':(10,8), 'figure.dpi':100}) \n",
        "# plt.scatter(street_codes, s_frequency.values(), c=street_codes, cmap='Spectral')\n",
        "# plt.colorbar()\n",
        "# plt.title('Accidents accross the streets')\n",
        "# plt.xlabel('Street Code')\n",
        "# plt.ylabel('Number of Accidents')\n",
        "# plt.show()"
      ],
      "metadata": {
        "id": "C1A7SsUg5vMh"
      },
      "execution_count": 9,
      "outputs": []
    },
    {
      "cell_type": "code",
      "source": [
        "# y=accidents_data.Accidents\n",
        "# features = ['Month', 'Day', 'Hour','Street Code','Latitude', 'Longitude']\n",
        "# X=accidents_data[features]"
      ],
      "metadata": {
        "id": "jj6lIzJ05xMn"
      },
      "execution_count": 10,
      "outputs": []
    },
    {
      "cell_type": "markdown",
      "source": [
        "# SPLITTING THE TRAINING SET AND TEST SET\n"
      ],
      "metadata": {
        "id": "RZSzlYMU5zC5"
      }
    },
    {
      "cell_type": "code",
      "source": [
        "# from sklearn.model_selection import train_test_split\n",
        "# train_X, val_X, train_y, val_y = train_test_split(X, y, random_state = 0)"
      ],
      "metadata": {
        "id": "kocM0WIp5yXH"
      },
      "execution_count": 11,
      "outputs": []
    },
    {
      "cell_type": "markdown",
      "source": [
        "# BUILDING THE MODEL\n"
      ],
      "metadata": {
        "id": "CIDwv5Kr504S"
      }
    },
    {
      "cell_type": "code",
      "source": [
        "# from sklearn.ensemble import RandomForestRegressor\n",
        "# from sklearn.metrics import mean_absolute_error\n",
        "# predictive_model = RandomForestRegressor(random_state=1)\n",
        "# Then we will train a predictive model to predict the number of accidents based on the specified features as follows: -\n",
        "# predictive_model.fit(train_X, train_y)\n",
        "# accidents_preditions = predictive_model.predict(val_X)\n",
        "# model_err = mean_absolute_error(val_y ,accidents_preditions)\n",
        "# print(\"Validation Error for Random Forest Model: {:,.0f}\".format(model_err))"
      ],
      "metadata": {
        "id": "rD5_-4Yh50Pq"
      },
      "execution_count": 12,
      "outputs": []
    },
    {
      "cell_type": "code",
      "source": [
        "# import datetime\n",
        "# from pandas import DataFrame\n",
        "# dates=[]\n",
        "# for i  in range(1,len(X)+1):\n",
        "#     dates.append(datetime.datetime(2020, X['Month'][i], X['Day'][i],X['Hour'][i]))\n",
        "# dates_df=DataFrame(dates,columns=['ts'])\n",
        "# Then we clean it from the missing values using the following code:\n",
        "# df=pd.concat([dates_df, acci_df.to_frame()], axis=1)\n",
        "# from statsmodels.tsa.stattools import adfuller\n",
        "# from numpy import log\n",
        "# clean_df=df.dropna()\n",
        "# clean_df=df.dropna()\n",
        "# sample = adfuller(clean_df.Accidents)\n",
        "# print('ADF Statistic: %f' % sample[0])\n",
        "# print('p-value: %f' % sample[1])"
      ],
      "metadata": {
        "id": "5CCJtWqs52K8"
      },
      "execution_count": 13,
      "outputs": []
    },
    {
      "cell_type": "code",
      "source": [
        "# from statsmodels.graphics.tsaplots import plot_acf, plot_pacf\n",
        "# plt.rcParams.update({'figure.figsize':(9,7), 'figure.dpi':120})\n",
        "# fig, axes = plt.subplots(3, 2, sharex=True)\n",
        "# axes[0, 0].plot(clean_df.Accidents); axes[0, 0].set_title('Original Time Series for accidents over a year')\n",
        "# plot_acf(clean_df.Accidents, ax=axes[0, 1])\n",
        "# axes[1, 0].plot(clean_df.Accidents.diff()); axes[1, 0].set_title('1st Order Differencing')\n",
        "# plot_acf(clean_df.Accidents.diff().dropna(), ax=axes[1, 1])\n",
        "# # 2nd Differencing\n",
        "# axes[2, 0].plot(clean_df.Accidents.diff().diff()); axes[2, 0].set_title('2nd Order Differencing')\n",
        "# plot_acf(clean_df.Accidents.diff().diff().dropna(), ax=axes[2, 1])\n",
        "# plt.show()"
      ],
      "metadata": {
        "id": "PhiUxy3O53uO"
      },
      "execution_count": 14,
      "outputs": []
    },
    {
      "cell_type": "code",
      "source": [
        "# from statsmodels.tsa.arima_model import ARIMA\n",
        "# model = ARIMA(clean_df.Accidents, order=(1,1,2))\n",
        "# model_fit = model.fit(disp=0)\n",
        "# print(model_fit.summary())"
      ],
      "metadata": {
        "id": "gLO-bFBh55PJ"
      },
      "execution_count": 15,
      "outputs": []
    },
    {
      "cell_type": "code",
      "source": [
        "# residuals = pd.DataFrame(model_fit.resid)\n",
        "# fig, ax = plt.subplots(1,2)\n",
        "# residuals.plot(title=\"Residuals\", ax=ax[0])\n",
        "# residuals.plot(kind='kde', title='Density', ax=ax[1])\n",
        "# plt.show()"
      ],
      "metadata": {
        "id": "rs1oE8Bt56bG"
      },
      "execution_count": 16,
      "outputs": []
    }
  ]
}