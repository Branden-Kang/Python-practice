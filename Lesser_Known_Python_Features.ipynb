{
  "nbformat": 4,
  "nbformat_minor": 0,
  "metadata": {
    "colab": {
      "name": "Lesser Known Python Features.ipynb",
      "provenance": [],
      "authorship_tag": "ABX9TyNeo6lgMymsM4wQUfzuzCIO"
    },
    "kernelspec": {
      "name": "python3",
      "display_name": "Python 3"
    }
  },
  "cells": [
    {
      "cell_type": "markdown",
      "metadata": {
        "id": "jwY7t-Vnmn_8"
      },
      "source": [
        "[Reference](https://towardsdatascience.com/lesser-known-python-features-f87af511887)"
      ]
    },
    {
      "cell_type": "markdown",
      "metadata": {
        "id": "OgH6sphVnqMu"
      },
      "source": [
        "# divmod"
      ]
    },
    {
      "cell_type": "code",
      "metadata": {
        "colab": {
          "base_uri": "https://localhost:8080/"
        },
        "id": "QFWYsJU2mj46",
        "outputId": "174c42a6-d194-4aec-ffc7-d77dc7a1a31b"
      },
      "source": [
        "divmod(5, 2)"
      ],
      "execution_count": 1,
      "outputs": [
        {
          "output_type": "execute_result",
          "data": {
            "text/plain": [
              "(2, 1)"
            ]
          },
          "metadata": {
            "tags": []
          },
          "execution_count": 1
        }
      ]
    },
    {
      "cell_type": "code",
      "metadata": {
        "colab": {
          "base_uri": "https://localhost:8080/"
        },
        "id": "xEmE30kwnr_Z",
        "outputId": "9545ed03-cfb8-4d92-9a4d-5c7fb93e1c0a"
      },
      "source": [
        "import datetime\n",
        "\n",
        "start = datetime.datetime.now()    \n",
        "\n",
        "for i in range(99999999):\n",
        "    i = i + 1\n",
        "\n",
        "end = datetime.datetime.now()\n",
        "\n",
        "# we get the total runtime in seconds\n",
        "runtime = (end - start).seconds  \n",
        "\n",
        "# we will assume 30000# how many hours are in these secs, what are the remaining secs?\n",
        "hours, remainder = divmod(runtime, 3600)\n",
        "\n",
        "# now how many minutes and seconds are in our remainder?\n",
        "mins, secs = divmod(remainder, 60)\n",
        "\n",
        "print(\"{:02d}:{:02d}:{:02d}\".format(hours, mins, secs))"
      ],
      "execution_count": 6,
      "outputs": [
        {
          "output_type": "stream",
          "text": [
            "00:00:08\n"
          ],
          "name": "stdout"
        }
      ]
    },
    {
      "cell_type": "markdown",
      "metadata": {
        "id": "ErMuxzYooFXs"
      },
      "source": [
        "# *args, **kwargs"
      ]
    },
    {
      "cell_type": "code",
      "metadata": {
        "colab": {
          "base_uri": "https://localhost:8080/"
        },
        "id": "SocHNN7FoAwo",
        "outputId": "5ff5ce2e-5b87-4d4e-830a-cda5e6b21ece"
      },
      "source": [
        "def func(values):\n",
        "    for x in values:\n",
        "        print(x, end=\" \")\n",
        "        \n",
        "func([1, 2, 3])"
      ],
      "execution_count": 7,
      "outputs": [
        {
          "output_type": "stream",
          "text": [
            "1 2 3 "
          ],
          "name": "stdout"
        }
      ]
    },
    {
      "cell_type": "code",
      "metadata": {
        "colab": {
          "base_uri": "https://localhost:8080/"
        },
        "id": "RjXHiRNhoPmW",
        "outputId": "3c4a6a27-df39-423d-9e62-23ebd940992b"
      },
      "source": [
        "def func(*values):\n",
        "    for x in values:\n",
        "        print(x, end=\" \")\n",
        "\n",
        "func(1, 2, 3)"
      ],
      "execution_count": 9,
      "outputs": [
        {
          "output_type": "stream",
          "text": [
            "1 2 3 "
          ],
          "name": "stdout"
        }
      ]
    },
    {
      "cell_type": "code",
      "metadata": {
        "colab": {
          "base_uri": "https://localhost:8080/"
        },
        "id": "du8qyQazoRzb",
        "outputId": "d823b333-b25c-4e17-9d09-75dc4730117e"
      },
      "source": [
        "def func(**values):\n",
        "    for x in values:\n",
        "        print(f\"{x}: {values[x]}\")\n",
        "        \n",
        "func(x=1, y=2, z=3)"
      ],
      "execution_count": 10,
      "outputs": [
        {
          "output_type": "stream",
          "text": [
            "x: 1\n",
            "y: 2\n",
            "z: 3\n"
          ],
          "name": "stdout"
        }
      ]
    },
    {
      "cell_type": "markdown",
      "metadata": {
        "id": "MYgRPuoUoXaK"
      },
      "source": [
        "# Comprehensions"
      ]
    },
    {
      "cell_type": "code",
      "metadata": {
        "colab": {
          "base_uri": "https://localhost:8080/"
        },
        "id": "3HbWwuZJoVHW",
        "outputId": "005ccfc1-6fec-4949-ace8-488a9d77d822"
      },
      "source": [
        "vals = [1, 2, 3, 4, 5]\n",
        "\n",
        "[i**2 for i in vals]"
      ],
      "execution_count": 11,
      "outputs": [
        {
          "output_type": "execute_result",
          "data": {
            "text/plain": [
              "[1, 4, 9, 16, 25]"
            ]
          },
          "metadata": {
            "tags": []
          },
          "execution_count": 11
        }
      ]
    },
    {
      "cell_type": "code",
      "metadata": {
        "colab": {
          "base_uri": "https://localhost:8080/"
        },
        "id": "0QoZUqc5oY6P",
        "outputId": "6c2ea874-7fba-420e-c35f-a94ba61e4ab0"
      },
      "source": [
        "(i**2 for i in vals)"
      ],
      "execution_count": 12,
      "outputs": [
        {
          "output_type": "execute_result",
          "data": {
            "text/plain": [
              "<generator object <genexpr> at 0x7f89710a77d8>"
            ]
          },
          "metadata": {
            "tags": []
          },
          "execution_count": 12
        }
      ]
    },
    {
      "cell_type": "code",
      "metadata": {
        "colab": {
          "base_uri": "https://localhost:8080/"
        },
        "id": "rsVAT9pyoZut",
        "outputId": "851b25bb-2242-4f18-aec2-4717159771e9"
      },
      "source": [
        "list((i**2 for i in vals))"
      ],
      "execution_count": 13,
      "outputs": [
        {
          "output_type": "execute_result",
          "data": {
            "text/plain": [
              "[1, 4, 9, 16, 25]"
            ]
          },
          "metadata": {
            "tags": []
          },
          "execution_count": 13
        }
      ]
    },
    {
      "cell_type": "code",
      "metadata": {
        "colab": {
          "base_uri": "https://localhost:8080/"
        },
        "id": "SXgj8ZaZobbM",
        "outputId": "a58e4978-8c46-40cd-fc62-99af8bf9ccce"
      },
      "source": [
        "{i: i**2 for i in vals}"
      ],
      "execution_count": 14,
      "outputs": [
        {
          "output_type": "execute_result",
          "data": {
            "text/plain": [
              "{1: 1, 2: 4, 3: 9, 4: 16, 5: 25}"
            ]
          },
          "metadata": {
            "tags": []
          },
          "execution_count": 14
        }
      ]
    },
    {
      "cell_type": "markdown",
      "metadata": {
        "id": "_WAA3v55oecj"
      },
      "source": [
        "# casefold"
      ]
    },
    {
      "cell_type": "code",
      "metadata": {
        "colab": {
          "base_uri": "https://localhost:8080/",
          "height": 37
        },
        "id": "NO3KWDwTodsM",
        "outputId": "b82201f7-3b3e-48c9-fb4b-8efc27b3df8d"
      },
      "source": [
        "\"ς\".casefold()"
      ],
      "execution_count": 15,
      "outputs": [
        {
          "output_type": "execute_result",
          "data": {
            "application/vnd.google.colaboratory.intrinsic+json": {
              "type": "string"
            },
            "text/plain": [
              "'σ'"
            ]
          },
          "metadata": {
            "tags": []
          },
          "execution_count": 15
        }
      ]
    },
    {
      "cell_type": "code",
      "metadata": {
        "colab": {
          "base_uri": "https://localhost:8080/",
          "height": 37
        },
        "id": "XATv9Z68ohKS",
        "outputId": "d2323852-1068-4f85-dff4-773a6305df9d"
      },
      "source": [
        "\"ς\".lower() "
      ],
      "execution_count": 16,
      "outputs": [
        {
          "output_type": "execute_result",
          "data": {
            "application/vnd.google.colaboratory.intrinsic+json": {
              "type": "string"
            },
            "text/plain": [
              "'ς'"
            ]
          },
          "metadata": {
            "tags": []
          },
          "execution_count": 16
        }
      ]
    },
    {
      "cell_type": "code",
      "metadata": {
        "colab": {
          "base_uri": "https://localhost:8080/"
        },
        "id": "YCMU5xSMoicL",
        "outputId": "85eb7884-a49f-41a3-8da0-f0722318b4bd"
      },
      "source": [
        "\"ἑρμῆσ\" == \"ἑρμῆς\""
      ],
      "execution_count": 17,
      "outputs": [
        {
          "output_type": "execute_result",
          "data": {
            "text/plain": [
              "False"
            ]
          },
          "metadata": {
            "tags": []
          },
          "execution_count": 17
        }
      ]
    },
    {
      "cell_type": "code",
      "metadata": {
        "colab": {
          "base_uri": "https://localhost:8080/"
        },
        "id": "7aCeEbFmolXL",
        "outputId": "94c81936-1271-41d3-d51d-5ac703a96126"
      },
      "source": [
        "\"ἑρμῆσ\".lower() == \"ἑρμῆς\".lower()"
      ],
      "execution_count": 18,
      "outputs": [
        {
          "output_type": "execute_result",
          "data": {
            "text/plain": [
              "False"
            ]
          },
          "metadata": {
            "tags": []
          },
          "execution_count": 18
        }
      ]
    },
    {
      "cell_type": "code",
      "metadata": {
        "colab": {
          "base_uri": "https://localhost:8080/"
        },
        "id": "pInGJ6RiomCR",
        "outputId": "527bda2c-3f2e-4089-8fea-07827f773571"
      },
      "source": [
        "\"ἑρμῆσ\".casefold() == \"ἑρμῆς\".casefold()"
      ],
      "execution_count": 19,
      "outputs": [
        {
          "output_type": "execute_result",
          "data": {
            "text/plain": [
              "True"
            ]
          },
          "metadata": {
            "tags": []
          },
          "execution_count": 19
        }
      ]
    }
  ]
}