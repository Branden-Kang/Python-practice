{
  "nbformat": 4,
  "nbformat_minor": 0,
  "metadata": {
    "colab": {
      "provenance": [],
      "authorship_tag": "ABX9TyP7Z1UV8fr9XN0Lwkq4Goqv"
    },
    "kernelspec": {
      "name": "python3",
      "display_name": "Python 3"
    },
    "language_info": {
      "name": "python"
    }
  },
  "cells": [
    {
      "cell_type": "markdown",
      "source": [
        "[Reference](https://python.plainenglish.io/impossible-or-difficult-before-python-3-11-8b35e65a0e43)"
      ],
      "metadata": {
        "id": "OOM0GE47izoB"
      }
    },
    {
      "cell_type": "code",
      "execution_count": 1,
      "metadata": {
        "colab": {
          "base_uri": "https://localhost:8080/"
        },
        "id": "Pk4TQUEphndb",
        "outputId": "40fd864e-2920-47e2-8c97-899a3fb03e9d"
      },
      "outputs": [
        {
          "output_type": "stream",
          "name": "stdout",
          "text": [
            "x=   10 y=   20\n"
          ]
        }
      ],
      "source": [
        "x = 10\n",
        "y = 20\n",
        "print(f\"{x=:5d} {y=:5d}\")"
      ]
    },
    {
      "cell_type": "code",
      "source": [
        "x = 10.12345\n",
        "y = 20.98765\n",
        "print(f\"{x=:.2f} {y=:.2f}\")"
      ],
      "metadata": {
        "colab": {
          "base_uri": "https://localhost:8080/"
        },
        "id": "9-JPaZELijeW",
        "outputId": "5eb53be1-8805-455f-d139-c5ffcf5590a8"
      },
      "execution_count": 2,
      "outputs": [
        {
          "output_type": "stream",
          "name": "stdout",
          "text": [
            "x=10.12 y=20.99\n"
          ]
        }
      ]
    },
    {
      "cell_type": "code",
      "source": [
        "assert x == y, \"x and y are not equal\""
      ],
      "metadata": {
        "colab": {
          "base_uri": "https://localhost:8080/",
          "height": 198
        },
        "id": "iLWXFTK2ilCN",
        "outputId": "ebe01b88-8950-4798-cc3e-49b19b359bfa"
      },
      "execution_count": 3,
      "outputs": [
        {
          "output_type": "error",
          "ename": "AssertionError",
          "evalue": "ignored",
          "traceback": [
            "\u001b[0;31m---------------------------------------------------------------------------\u001b[0m",
            "\u001b[0;31mAssertionError\u001b[0m                            Traceback (most recent call last)",
            "\u001b[0;32m<ipython-input-3-fc36b62bb92b>\u001b[0m in \u001b[0;36m<module>\u001b[0;34m\u001b[0m\n\u001b[0;32m----> 1\u001b[0;31m \u001b[0;32massert\u001b[0m \u001b[0mx\u001b[0m \u001b[0;34m==\u001b[0m \u001b[0my\u001b[0m\u001b[0;34m,\u001b[0m \u001b[0;34m\"x and y are not equal\"\u001b[0m\u001b[0;34m\u001b[0m\u001b[0;34m\u001b[0m\u001b[0m\n\u001b[0m",
            "\u001b[0;31mAssertionError\u001b[0m: x and y are not equal"
          ]
        }
      ]
    },
    {
      "cell_type": "code",
      "source": [
        "async def foo():\n",
        "    async for x in some_async_iterator():\n",
        "        if x % 2 == 0:\n",
        "            continue\n",
        "        print(x)"
      ],
      "metadata": {
        "id": "br8AV7AaitLn"
      },
      "execution_count": 4,
      "outputs": []
    },
    {
      "cell_type": "code",
      "source": [
        "async def foo():\n",
        "    even_numbers = [x async for x in some_async_iterator() if x % 2 == 0]"
      ],
      "metadata": {
        "id": "8J3TVbSTiwBA"
      },
      "execution_count": 5,
      "outputs": []
    }
  ]
}