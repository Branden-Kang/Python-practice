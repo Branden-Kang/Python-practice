{
  "nbformat": 4,
  "nbformat_minor": 0,
  "metadata": {
    "colab": {
      "name": "Python Closure.ipynb",
      "provenance": [],
      "authorship_tag": "ABX9TyNTy7rQNEjzu1Y9VneT2J3q"
    },
    "kernelspec": {
      "name": "python3",
      "display_name": "Python 3"
    }
  },
  "cells": [
    {
      "cell_type": "code",
      "metadata": {
        "id": "-ZiH1yNs7g8C"
      },
      "source": [
        "def outer():\n",
        "    x = 1\n",
        "    def inner():\n",
        "        print(f'x in outer function: {x}')\n",
        "    return inner"
      ],
      "execution_count": 1,
      "outputs": []
    },
    {
      "cell_type": "code",
      "metadata": {
        "colab": {
          "base_uri": "https://localhost:8080/"
        },
        "id": "PB5npO267pDk",
        "outputId": "d9ac2fa8-46ec-4738-c6ae-cdf04f182152"
      },
      "source": [
        "outer()"
      ],
      "execution_count": 2,
      "outputs": [
        {
          "output_type": "execute_result",
          "data": {
            "text/plain": [
              "<function __main__.outer.<locals>.inner>"
            ]
          },
          "metadata": {
            "tags": []
          },
          "execution_count": 2
        }
      ]
    },
    {
      "cell_type": "code",
      "metadata": {
        "colab": {
          "base_uri": "https://localhost:8080/"
        },
        "id": "t1Dyg4xS7qKP",
        "outputId": "9994ab26-c14a-49ec-a9de-8bc1110161f0"
      },
      "source": [
        "outer()()"
      ],
      "execution_count": 3,
      "outputs": [
        {
          "output_type": "stream",
          "text": [
            "x in outer function: 1\n"
          ],
          "name": "stdout"
        }
      ]
    },
    {
      "cell_type": "code",
      "metadata": {
        "colab": {
          "base_uri": "https://localhost:8080/"
        },
        "id": "xt6hfEu17wAB",
        "outputId": "9f055d97-fd78-4ec9-d3d4-7de21fe93dff"
      },
      "source": [
        "f = outer()\n",
        "f()"
      ],
      "execution_count": 4,
      "outputs": [
        {
          "output_type": "stream",
          "text": [
            "x in outer function: 1\n"
          ],
          "name": "stdout"
        }
      ]
    },
    {
      "cell_type": "code",
      "metadata": {
        "id": "9HwFjvVB7yDq"
      },
      "source": [
        "def outer():\n",
        "    x = 1\n",
        "    def inner():\n",
        "        print(f'x in outer function (before modifying): {x}')\n",
        "        x += 1\n",
        "        print(f'x in outer function (after modifying): {x}')\n",
        "    return inner"
      ],
      "execution_count": 5,
      "outputs": []
    },
    {
      "cell_type": "code",
      "metadata": {
        "colab": {
          "base_uri": "https://localhost:8080/",
          "height": 334
        },
        "id": "niMYjmNJ75uJ",
        "outputId": "44ccfa6b-a4ca-4882-c02d-27cd582aa7a5"
      },
      "source": [
        "f = outer()\n",
        "f()"
      ],
      "execution_count": 6,
      "outputs": [
        {
          "output_type": "error",
          "ename": "UnboundLocalError",
          "evalue": "ignored",
          "traceback": [
            "\u001b[0;31m---------------------------------------------------------------------------\u001b[0m",
            "\u001b[0;31mUnboundLocalError\u001b[0m                         Traceback (most recent call last)",
            "\u001b[0;32m<ipython-input-6-db5e810f2a96>\u001b[0m in \u001b[0;36m<module>\u001b[0;34m()\u001b[0m\n\u001b[1;32m      1\u001b[0m \u001b[0mf\u001b[0m \u001b[0;34m=\u001b[0m \u001b[0mouter\u001b[0m\u001b[0;34m(\u001b[0m\u001b[0;34m)\u001b[0m\u001b[0;34m\u001b[0m\u001b[0;34m\u001b[0m\u001b[0m\n\u001b[0;32m----> 2\u001b[0;31m \u001b[0mf\u001b[0m\u001b[0;34m(\u001b[0m\u001b[0;34m)\u001b[0m\u001b[0;34m\u001b[0m\u001b[0;34m\u001b[0m\u001b[0m\n\u001b[0m",
            "\u001b[0;32m<ipython-input-5-6d83c6704087>\u001b[0m in \u001b[0;36minner\u001b[0;34m()\u001b[0m\n\u001b[1;32m      2\u001b[0m     \u001b[0mx\u001b[0m \u001b[0;34m=\u001b[0m \u001b[0;36m1\u001b[0m\u001b[0;34m\u001b[0m\u001b[0;34m\u001b[0m\u001b[0m\n\u001b[1;32m      3\u001b[0m     \u001b[0;32mdef\u001b[0m \u001b[0minner\u001b[0m\u001b[0;34m(\u001b[0m\u001b[0;34m)\u001b[0m\u001b[0;34m:\u001b[0m\u001b[0;34m\u001b[0m\u001b[0;34m\u001b[0m\u001b[0m\n\u001b[0;32m----> 4\u001b[0;31m         \u001b[0mprint\u001b[0m\u001b[0;34m(\u001b[0m\u001b[0;34mf'x in outer function (before modifying): {x}'\u001b[0m\u001b[0;34m)\u001b[0m\u001b[0;34m\u001b[0m\u001b[0;34m\u001b[0m\u001b[0m\n\u001b[0m\u001b[1;32m      5\u001b[0m         \u001b[0mx\u001b[0m \u001b[0;34m+=\u001b[0m \u001b[0;36m1\u001b[0m\u001b[0;34m\u001b[0m\u001b[0;34m\u001b[0m\u001b[0m\n\u001b[1;32m      6\u001b[0m         \u001b[0mprint\u001b[0m\u001b[0;34m(\u001b[0m\u001b[0;34mf'x in outer function (after modifying): {x}'\u001b[0m\u001b[0;34m)\u001b[0m\u001b[0;34m\u001b[0m\u001b[0;34m\u001b[0m\u001b[0m\n",
            "\u001b[0;31mUnboundLocalError\u001b[0m: local variable 'x' referenced before assignment"
          ]
        }
      ]
    },
    {
      "cell_type": "code",
      "metadata": {
        "id": "NLuMt_dD760X"
      },
      "source": [
        "def outer():\n",
        "    x = 1\n",
        "    def inner():\n",
        "        nonlocal x\n",
        "        print(f'x in outer function (before modifying): {x}')\n",
        "        x += 1\n",
        "        print(f'x in outer function (after modifying): {x}')\n",
        "    return inner"
      ],
      "execution_count": 7,
      "outputs": []
    },
    {
      "cell_type": "code",
      "metadata": {
        "colab": {
          "base_uri": "https://localhost:8080/"
        },
        "id": "vhgCm_pZ8BPj",
        "outputId": "2cd3ad3e-1cf4-4bb3-990b-40da37899689"
      },
      "source": [
        "f = outer()\n",
        "f()"
      ],
      "execution_count": 8,
      "outputs": [
        {
          "output_type": "stream",
          "text": [
            "x in outer function (before modifying): 1\n",
            "x in outer function (after modifying): 2\n"
          ],
          "name": "stdout"
        }
      ]
    },
    {
      "cell_type": "code",
      "metadata": {
        "colab": {
          "base_uri": "https://localhost:8080/"
        },
        "id": "6nrL2iMH8COB",
        "outputId": "23ee7df9-38c5-44d6-e3cd-b8d8c5ed9ce5"
      },
      "source": [
        "for i in range(5):\n",
        "    print(f'Run {i+1}')\n",
        "    f()\n",
        "    print('\\n')"
      ],
      "execution_count": 9,
      "outputs": [
        {
          "output_type": "stream",
          "text": [
            "Run 1\n",
            "x in outer function (before modifying): 2\n",
            "x in outer function (after modifying): 3\n",
            "\n",
            "\n",
            "Run 2\n",
            "x in outer function (before modifying): 3\n",
            "x in outer function (after modifying): 4\n",
            "\n",
            "\n",
            "Run 3\n",
            "x in outer function (before modifying): 4\n",
            "x in outer function (after modifying): 5\n",
            "\n",
            "\n",
            "Run 4\n",
            "x in outer function (before modifying): 5\n",
            "x in outer function (after modifying): 6\n",
            "\n",
            "\n",
            "Run 5\n",
            "x in outer function (before modifying): 6\n",
            "x in outer function (after modifying): 7\n",
            "\n",
            "\n"
          ],
          "name": "stdout"
        }
      ]
    },
    {
      "cell_type": "code",
      "metadata": {
        "id": "w_iDjjBy8Ew6"
      },
      "source": [
        "def fib():\n",
        "    x1 = 0\n",
        "    x2 = 1\n",
        "    def get_next_number():\n",
        "        nonlocal x1, x2\n",
        "        x3 = x1 + x2\n",
        "        x1, x2 = x2, x3\n",
        "        return x3\n",
        "    return get_next_number"
      ],
      "execution_count": 10,
      "outputs": []
    },
    {
      "cell_type": "code",
      "metadata": {
        "colab": {
          "base_uri": "https://localhost:8080/"
        },
        "id": "jG0s6PcY8ma4",
        "outputId": "b4145a3f-e6ce-4285-d560-31569b5f1e47"
      },
      "source": [
        "fibonacci = fib()\n",
        "\n",
        "for i in range(2, 21):\n",
        "    num = fibonacci()\n",
        "    print(f'The {i}th Fibonacci number is {num}')"
      ],
      "execution_count": 11,
      "outputs": [
        {
          "output_type": "stream",
          "text": [
            "The 2th Fibonacci number is 1\n",
            "The 3th Fibonacci number is 2\n",
            "The 4th Fibonacci number is 3\n",
            "The 5th Fibonacci number is 5\n",
            "The 6th Fibonacci number is 8\n",
            "The 7th Fibonacci number is 13\n",
            "The 8th Fibonacci number is 21\n",
            "The 9th Fibonacci number is 34\n",
            "The 10th Fibonacci number is 55\n",
            "The 11th Fibonacci number is 89\n",
            "The 12th Fibonacci number is 144\n",
            "The 13th Fibonacci number is 233\n",
            "The 14th Fibonacci number is 377\n",
            "The 15th Fibonacci number is 610\n",
            "The 16th Fibonacci number is 987\n",
            "The 17th Fibonacci number is 1597\n",
            "The 18th Fibonacci number is 2584\n",
            "The 19th Fibonacci number is 4181\n",
            "The 20th Fibonacci number is 6765\n"
          ],
          "name": "stdout"
        }
      ]
    },
    {
      "cell_type": "code",
      "metadata": {
        "id": "YXuGeCfr8sI2"
      },
      "source": [
        "def fib_recursion(n):\n",
        "    if n == 0:\n",
        "        return 0\n",
        "    elif n == 1:\n",
        "        return 1\n",
        "    else:\n",
        "        return fib_recursion(n-1) + fib_recursion(n-2)"
      ],
      "execution_count": 12,
      "outputs": []
    },
    {
      "cell_type": "code",
      "metadata": {
        "colab": {
          "base_uri": "https://localhost:8080/"
        },
        "id": "NF16aYBt8vj9",
        "outputId": "fa940c7c-ebc3-4357-ab37-f5ee28383838"
      },
      "source": [
        "fib_recursion(20)"
      ],
      "execution_count": 13,
      "outputs": [
        {
          "output_type": "execute_result",
          "data": {
            "text/plain": [
              "6765"
            ]
          },
          "metadata": {
            "tags": []
          },
          "execution_count": 13
        }
      ]
    },
    {
      "cell_type": "code",
      "metadata": {
        "id": "IorhE84-8xr9"
      },
      "source": [
        "def fib_closure(n):\n",
        "    f = fib()\n",
        "    for i in range(2, n+1):\n",
        "        num = f()\n",
        "    return num"
      ],
      "execution_count": 14,
      "outputs": []
    },
    {
      "cell_type": "code",
      "metadata": {
        "colab": {
          "base_uri": "https://localhost:8080/"
        },
        "id": "kyYHbQ1d8z94",
        "outputId": "5d31e1b4-ab6f-43c8-ea27-147a81d280c3"
      },
      "source": [
        "fib_closure(20)"
      ],
      "execution_count": 15,
      "outputs": [
        {
          "output_type": "execute_result",
          "data": {
            "text/plain": [
              "6765"
            ]
          },
          "metadata": {
            "tags": []
          },
          "execution_count": 15
        }
      ]
    },
    {
      "cell_type": "code",
      "metadata": {
        "colab": {
          "base_uri": "https://localhost:8080/"
        },
        "id": "EVHsFvLT84XR",
        "outputId": "810758e3-0bcf-4c04-fedd-35cea662193d"
      },
      "source": [
        "%timeit fib_recursion(20)"
      ],
      "execution_count": 16,
      "outputs": [
        {
          "output_type": "stream",
          "text": [
            "100 loops, best of 3: 2.7 ms per loop\n"
          ],
          "name": "stdout"
        }
      ]
    },
    {
      "cell_type": "code",
      "metadata": {
        "colab": {
          "base_uri": "https://localhost:8080/"
        },
        "id": "fJGLvzIl82ye",
        "outputId": "69d16a5e-e67e-4351-b2b9-74e20bb62c3c"
      },
      "source": [
        "%timeit fib_closure(20)"
      ],
      "execution_count": 17,
      "outputs": [
        {
          "output_type": "stream",
          "text": [
            "The slowest run took 10.17 times longer than the fastest. This could mean that an intermediate result is being cached.\n",
            "100000 loops, best of 3: 2.79 µs per loop\n"
          ],
          "name": "stdout"
        }
      ]
    },
    {
      "cell_type": "code",
      "metadata": {
        "colab": {
          "base_uri": "https://localhost:8080/",
          "height": 341
        },
        "id": "AdnbNlD286hH",
        "outputId": "9b32e864-f610-475c-9b3b-9e8f98b2dfca"
      },
      "source": [
        "fib_recursion(1000)"
      ],
      "execution_count": 18,
      "outputs": [
        {
          "output_type": "error",
          "ename": "RecursionError",
          "evalue": "ignored",
          "traceback": [
            "\u001b[0;31m---------------------------------------------------------------------------\u001b[0m",
            "\u001b[0;31mRecursionError\u001b[0m                            Traceback (most recent call last)",
            "\u001b[0;32m<ipython-input-18-38347202fdf4>\u001b[0m in \u001b[0;36m<module>\u001b[0;34m()\u001b[0m\n\u001b[0;32m----> 1\u001b[0;31m \u001b[0mfib_recursion\u001b[0m\u001b[0;34m(\u001b[0m\u001b[0;36m1000\u001b[0m\u001b[0;34m)\u001b[0m\u001b[0;34m\u001b[0m\u001b[0;34m\u001b[0m\u001b[0m\n\u001b[0m",
            "\u001b[0;32m<ipython-input-12-fd959c22743b>\u001b[0m in \u001b[0;36mfib_recursion\u001b[0;34m(n)\u001b[0m\n\u001b[1;32m      5\u001b[0m         \u001b[0;32mreturn\u001b[0m \u001b[0;36m1\u001b[0m\u001b[0;34m\u001b[0m\u001b[0;34m\u001b[0m\u001b[0m\n\u001b[1;32m      6\u001b[0m     \u001b[0;32melse\u001b[0m\u001b[0;34m:\u001b[0m\u001b[0;34m\u001b[0m\u001b[0;34m\u001b[0m\u001b[0m\n\u001b[0;32m----> 7\u001b[0;31m         \u001b[0;32mreturn\u001b[0m \u001b[0mfib_recursion\u001b[0m\u001b[0;34m(\u001b[0m\u001b[0mn\u001b[0m\u001b[0;34m-\u001b[0m\u001b[0;36m1\u001b[0m\u001b[0;34m)\u001b[0m \u001b[0;34m+\u001b[0m \u001b[0mfib_recursion\u001b[0m\u001b[0;34m(\u001b[0m\u001b[0mn\u001b[0m\u001b[0;34m-\u001b[0m\u001b[0;36m2\u001b[0m\u001b[0;34m)\u001b[0m\u001b[0;34m\u001b[0m\u001b[0;34m\u001b[0m\u001b[0m\n\u001b[0m",
            "... last 1 frames repeated, from the frame below ...\n",
            "\u001b[0;32m<ipython-input-12-fd959c22743b>\u001b[0m in \u001b[0;36mfib_recursion\u001b[0;34m(n)\u001b[0m\n\u001b[1;32m      5\u001b[0m         \u001b[0;32mreturn\u001b[0m \u001b[0;36m1\u001b[0m\u001b[0;34m\u001b[0m\u001b[0;34m\u001b[0m\u001b[0m\n\u001b[1;32m      6\u001b[0m     \u001b[0;32melse\u001b[0m\u001b[0;34m:\u001b[0m\u001b[0;34m\u001b[0m\u001b[0;34m\u001b[0m\u001b[0m\n\u001b[0;32m----> 7\u001b[0;31m         \u001b[0;32mreturn\u001b[0m \u001b[0mfib_recursion\u001b[0m\u001b[0;34m(\u001b[0m\u001b[0mn\u001b[0m\u001b[0;34m-\u001b[0m\u001b[0;36m1\u001b[0m\u001b[0;34m)\u001b[0m \u001b[0;34m+\u001b[0m \u001b[0mfib_recursion\u001b[0m\u001b[0;34m(\u001b[0m\u001b[0mn\u001b[0m\u001b[0;34m-\u001b[0m\u001b[0;36m2\u001b[0m\u001b[0;34m)\u001b[0m\u001b[0;34m\u001b[0m\u001b[0;34m\u001b[0m\u001b[0m\n\u001b[0m",
            "\u001b[0;31mRecursionError\u001b[0m: maximum recursion depth exceeded in comparison"
          ]
        }
      ]
    },
    {
      "cell_type": "code",
      "metadata": {
        "colab": {
          "base_uri": "https://localhost:8080/"
        },
        "id": "9gwJ8L_h9DMv",
        "outputId": "b2b69fd8-3aa5-45f6-b0e8-51bf7a5f2e02"
      },
      "source": [
        "fib_closure(1000)"
      ],
      "execution_count": 19,
      "outputs": [
        {
          "output_type": "execute_result",
          "data": {
            "text/plain": [
              "43466557686937456435688527675040625802564660517371780402481729089536555417949051890403879840079255169295922593080322634775209689623239873322471161642996440906533187938298969649928516003704476137795166849228875"
            ]
          },
          "metadata": {
            "tags": []
          },
          "execution_count": 19
        }
      ]
    },
    {
      "cell_type": "code",
      "metadata": {
        "id": "YciZb8Ps9E_Y"
      },
      "source": [
        "students = {\n",
        "    'Alice': 98,\n",
        "    'Bob': 67,\n",
        "    'Chris': 85,\n",
        "    'David': 75,\n",
        "    'Ella': 54,\n",
        "    'Fiona': 35,\n",
        "    'Grace': 69\n",
        "}"
      ],
      "execution_count": 20,
      "outputs": []
    },
    {
      "cell_type": "code",
      "metadata": {
        "id": "Vcm7-ZO69Iaj"
      },
      "source": [
        "def make_student_classifier(lower_bound, upper_bound):\n",
        "    def classify_student(exam_dict):\n",
        "        return {k:v for (k,v) in exam_dict.items() if lower_bound <= v < upper_bound}\n",
        "    return classify_student"
      ],
      "execution_count": 21,
      "outputs": []
    },
    {
      "cell_type": "code",
      "metadata": {
        "id": "IUIYUrTI9K5D"
      },
      "source": [
        "grade_A = make_student_classifier(80, 100)\n",
        "grade_B = make_student_classifier(70, 80)\n",
        "grade_C = make_student_classifier(50, 70)\n",
        "grade_D = make_student_classifier(0, 50)"
      ],
      "execution_count": 22,
      "outputs": []
    },
    {
      "cell_type": "code",
      "metadata": {
        "colab": {
          "base_uri": "https://localhost:8080/"
        },
        "id": "J1UZkm_39MGR",
        "outputId": "d1914415-d1fd-4bcc-e9b3-ec31345376a8"
      },
      "source": [
        "grade_A(students)"
      ],
      "execution_count": 23,
      "outputs": [
        {
          "output_type": "execute_result",
          "data": {
            "text/plain": [
              "{'Alice': 98, 'Chris': 85}"
            ]
          },
          "metadata": {
            "tags": []
          },
          "execution_count": 23
        }
      ]
    },
    {
      "cell_type": "code",
      "metadata": {
        "colab": {
          "base_uri": "https://localhost:8080/"
        },
        "id": "KYVsrlNn9Pvc",
        "outputId": "6efc7061-a528-4521-ecfb-40684943d313"
      },
      "source": [
        "grade_B(students)"
      ],
      "execution_count": 24,
      "outputs": [
        {
          "output_type": "execute_result",
          "data": {
            "text/plain": [
              "{'David': 75}"
            ]
          },
          "metadata": {
            "tags": []
          },
          "execution_count": 24
        }
      ]
    },
    {
      "cell_type": "code",
      "metadata": {
        "colab": {
          "base_uri": "https://localhost:8080/"
        },
        "id": "TNeCvOtq9Qvp",
        "outputId": "13924285-37c7-4cc3-c03a-6b0ba980a9d4"
      },
      "source": [
        "grade_C(students)"
      ],
      "execution_count": 25,
      "outputs": [
        {
          "output_type": "execute_result",
          "data": {
            "text/plain": [
              "{'Bob': 67, 'Ella': 54, 'Grace': 69}"
            ]
          },
          "metadata": {
            "tags": []
          },
          "execution_count": 25
        }
      ]
    },
    {
      "cell_type": "code",
      "metadata": {
        "colab": {
          "base_uri": "https://localhost:8080/"
        },
        "id": "aEONvO2N9SDS",
        "outputId": "cc8e8ae9-c2d3-4b3d-8a77-9646ded6c761"
      },
      "source": [
        "grade_D(students)"
      ],
      "execution_count": 26,
      "outputs": [
        {
          "output_type": "execute_result",
          "data": {
            "text/plain": [
              "{'Fiona': 35}"
            ]
          },
          "metadata": {
            "tags": []
          },
          "execution_count": 26
        }
      ]
    }
  ]
}