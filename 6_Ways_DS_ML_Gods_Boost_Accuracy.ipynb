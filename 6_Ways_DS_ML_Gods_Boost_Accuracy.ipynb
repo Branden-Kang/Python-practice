{
  "nbformat": 4,
  "nbformat_minor": 0,
  "metadata": {
    "colab": {
      "name": "6 Ways DS/ML Gods Boost Accuracy.ipynb",
      "provenance": [],
      "authorship_tag": "ABX9TyMQtPLstifN0w3KC3iutHZ7"
    },
    "kernelspec": {
      "name": "python3",
      "display_name": "Python 3"
    }
  },
  "cells": [
    {
      "cell_type": "markdown",
      "metadata": {
        "id": "H7VKTZS9XXMF"
      },
      "source": [
        "[Reference](https://towardsdatascience.com/6-ways-ds-ml-gods-boost-accuracy-without-trying-1c89de6126df)"
      ]
    },
    {
      "cell_type": "markdown",
      "metadata": {
        "id": "r0zI8ny7h3AC"
      },
      "source": [
        "# Feature Scaling"
      ]
    },
    {
      "cell_type": "code",
      "metadata": {
        "id": "_3-wuDvmhe7t"
      },
      "source": [
        "import numpy as np"
      ],
      "execution_count": 4,
      "outputs": []
    },
    {
      "cell_type": "code",
      "metadata": {
        "colab": {
          "base_uri": "https://localhost:8080/"
        },
        "id": "Xj0aZaAOXTKi",
        "outputId": "6e752c11-608b-4da9-ff0b-1ae2829ec119"
      },
      "source": [
        "array = [5,10,15,20]\n",
        "q = np.std(array)\n",
        "mu = np.mean(array)\n",
        "[(i-mu) / q for i in array]"
      ],
      "execution_count": 5,
      "outputs": [
        {
          "output_type": "execute_result",
          "data": {
            "text/plain": [
              "[-1.3416407864998738,\n",
              " -0.4472135954999579,\n",
              " 0.4472135954999579,\n",
              " 1.3416407864998738]"
            ]
          },
          "metadata": {
            "tags": []
          },
          "execution_count": 5
        }
      ]
    },
    {
      "cell_type": "code",
      "metadata": {
        "colab": {
          "base_uri": "https://localhost:8080/"
        },
        "id": "DrnbDd2RhXFf",
        "outputId": "f55a436e-3afe-4218-afc4-ed8c24b85b6c"
      },
      "source": [
        "avg = np.mean(array)\n",
        "a = np.min(array)\n",
        "b = np.max(array)\n",
        "[(i-avg) / (b-a) for i in array]"
      ],
      "execution_count": 7,
      "outputs": [
        {
          "output_type": "execute_result",
          "data": {
            "text/plain": [
              "[-0.5, -0.16666666666666666, 0.16666666666666666, 0.5]"
            ]
          },
          "metadata": {
            "tags": []
          },
          "execution_count": 7
        }
      ]
    },
    {
      "cell_type": "markdown",
      "metadata": {
        "id": "Obet8DoQh6Jc"
      },
      "source": [
        "# Removing Outliers"
      ]
    },
    {
      "cell_type": "code",
      "metadata": {
        "id": "eO1eA4y7hujd"
      },
      "source": [
        "import pandas as pd\n",
        "data = dict({'A'})"
      ],
      "execution_count": null,
      "outputs": []
    },
    {
      "cell_type": "code",
      "metadata": {
        "id": "Dq8ovD_oiAu4"
      },
      "source": [
        "from scipy import stats\n",
        "import numpy as np\n",
        "z_scores = stats.zscore(df)abs_z_scores = np.abs(z_scores)\n",
        "filtered_entries = (abs_z_scores < 2).all(axis=1)\n",
        "new_df = df[filtered_entries]\n",
        "new_df.head(20)"
      ],
      "execution_count": null,
      "outputs": []
    }
  ]
}