{
  "nbformat": 4,
  "nbformat_minor": 0,
  "metadata": {
    "colab": {
      "name": "Python: getopt.getopt() vs getopt.gnu_getopt().ipynb",
      "provenance": [],
      "authorship_tag": "ABX9TyOXKaldG3+aa73Dc3KDihTS"
    },
    "kernelspec": {
      "name": "python3",
      "display_name": "Python 3"
    },
    "language_info": {
      "name": "python"
    }
  },
  "cells": [
    {
      "cell_type": "markdown",
      "metadata": {
        "id": "ZQbPh8QtlrqA"
      },
      "source": [
        "[Reference](https://wenijinew.medium.com/python-getopt-getopt-vs-getopt-gnu-getopt-6b43b0b17bc4)"
      ]
    },
    {
      "cell_type": "code",
      "metadata": {
        "id": "cbNEPPLyla2K"
      },
      "source": [
        "import getopt"
      ],
      "execution_count": 1,
      "outputs": []
    },
    {
      "cell_type": "code",
      "metadata": {
        "id": "2Gi0kkeWlbbc"
      },
      "source": [
        "getopt.getopt(args, shortopts, longopts=[])\n",
        "getopt.gnu_getopt(args, shortopts, longopts=[])"
      ],
      "execution_count": 3,
      "outputs": []
    },
    {
      "cell_type": "code",
      "metadata": {
        "id": "A7Fr9jDnlcrh"
      },
      "source": [
        "opts, args = getopt.getopt(sys.argv[1:], \"hn:\", [\"help\", \"name=\"])"
      ],
      "execution_count": 4,
      "outputs": []
    },
    {
      "cell_type": "code",
      "metadata": {
        "id": "qnNvpkg5liVt"
      },
      "source": [
        "opts, args = getopt.getopt(sys.argv[1:], \"hn:\", [\"help\", \"name=\"])\n",
        "print(\"opts: \", opts)\n",
        "print(\"args: \", args)"
      ],
      "execution_count": 5,
      "outputs": []
    },
    {
      "cell_type": "code",
      "metadata": {
        "id": "9Bs5F1bEliuD"
      },
      "source": [
        "#!/usr/bin/env python\n",
        "\n",
        "import getopt, sys\n",
        "\n",
        "ABNORMAL_STATE=2\n",
        "EMPTY=\"\"\n",
        "\n",
        "def hello(name):\n",
        "    print(\"Hello, \", name)\n",
        "\n",
        "def usage():\n",
        "    print(sys.argv[0], \" <-h|--help> <-n|--name> [your name]\")\n",
        "\n",
        "def main():\n",
        "    name = EMPTY\n",
        "\n",
        "    try:\n",
        "\n",
        "        opts, args = getopt.getopt(sys.argv[1:], \"hn:\", [\"help\", \"name=\"])\n",
        "        # opts, args = getopt.gnu_getopt(sys.argv[1:], \"hn:\", [\"help\", \"name=\"])\n",
        "\n",
        "        print(\"opts: \", opts)\n",
        "        print(\"args: \", args)\n",
        "\n",
        "        for option, value in opts:\n",
        "            if option in (\"-h\", \"--help\"):\n",
        "                usage()\n",
        "            elif option in (\"-n\", \"--name\"):\n",
        "                name = value\n",
        "\n",
        "        if len(opts) == 0:\n",
        "            usage()\n",
        "\n",
        "    except getopt.GetoptError as err:\n",
        "        print(err)\n",
        "        usage()\n",
        "        sys.exit(ABNORMAL_STATE)\n",
        "\n",
        "    if (name != EMPTY):\n",
        "        hello(name)\n",
        "\n",
        "if __name__ == \"__main__\":\n",
        "    main()"
      ],
      "execution_count": 7,
      "outputs": []
    }
  ]
}