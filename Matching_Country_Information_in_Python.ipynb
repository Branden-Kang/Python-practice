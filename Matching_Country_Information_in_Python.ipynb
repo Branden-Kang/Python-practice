{
  "nbformat": 4,
  "nbformat_minor": 0,
  "metadata": {
    "colab": {
      "name": "Matching Country Information in Python.ipynb",
      "provenance": [],
      "authorship_tag": "ABX9TyPKWr32jzfoY3KI1HLW4EFH"
    },
    "kernelspec": {
      "name": "python3",
      "display_name": "Python 3"
    }
  },
  "cells": [
    {
      "cell_type": "markdown",
      "metadata": {
        "id": "6jd4WwB_glro"
      },
      "source": [
        "[Reference](https://towardsdatascience.com/matching-country-information-in-python-7e1928583644)"
      ]
    },
    {
      "cell_type": "code",
      "metadata": {
        "colab": {
          "base_uri": "https://localhost:8080/"
        },
        "id": "DG5hJ4pwgffN",
        "outputId": "d8da7125-46fd-47ed-ab05-400376944975"
      },
      "source": [
        "pip install pycountry"
      ],
      "execution_count": 1,
      "outputs": [
        {
          "output_type": "stream",
          "text": [
            "Collecting pycountry\n",
            "\u001b[?25l  Downloading https://files.pythonhosted.org/packages/76/73/6f1a412f14f68c273feea29a6ea9b9f1e268177d32e0e69ad6790d306312/pycountry-20.7.3.tar.gz (10.1MB)\n",
            "\u001b[K     |████████████████████████████████| 10.1MB 11.2MB/s \n",
            "\u001b[?25hBuilding wheels for collected packages: pycountry\n",
            "  Building wheel for pycountry (setup.py) ... \u001b[?25l\u001b[?25hdone\n",
            "  Created wheel for pycountry: filename=pycountry-20.7.3-py2.py3-none-any.whl size=10746863 sha256=2b4ea95c970e8979d9e17406dd36fcd80ff6ac9c57fa1c3c85c7b222ce5e04e1\n",
            "  Stored in directory: /root/.cache/pip/wheels/33/4e/a6/be297e6b83567e537bed9df4a93f8590ec01c1acfbcd405348\n",
            "Successfully built pycountry\n",
            "Installing collected packages: pycountry\n",
            "Successfully installed pycountry-20.7.3\n"
          ],
          "name": "stdout"
        }
      ]
    },
    {
      "cell_type": "code",
      "metadata": {
        "id": "Z3fnM8APgrSc"
      },
      "source": [
        "import pycountry"
      ],
      "execution_count": 2,
      "outputs": []
    },
    {
      "cell_type": "code",
      "metadata": {
        "colab": {
          "base_uri": "https://localhost:8080/"
        },
        "id": "U4KwoiJYgsb5",
        "outputId": "f3fa240d-ded2-4583-a7d8-a17a643ce999"
      },
      "source": [
        "pycountry.countries.get(alpha_2='TH')"
      ],
      "execution_count": 3,
      "outputs": [
        {
          "output_type": "execute_result",
          "data": {
            "text/plain": [
              "Country(alpha_2='TH', alpha_3='THA', name='Thailand', numeric='764', official_name='Kingdom of Thailand')"
            ]
          },
          "metadata": {
            "tags": []
          },
          "execution_count": 3
        }
      ]
    },
    {
      "cell_type": "code",
      "metadata": {
        "colab": {
          "base_uri": "https://localhost:8080/",
          "height": 37
        },
        "id": "-HIU0ltCgufG",
        "outputId": "e5a57096-3a4e-46a6-b4b3-6ffe075cbf8e"
      },
      "source": [
        "pycountry.countries.get(alpha_2='TH').name"
      ],
      "execution_count": 4,
      "outputs": [
        {
          "output_type": "execute_result",
          "data": {
            "application/vnd.google.colaboratory.intrinsic+json": {
              "type": "string"
            },
            "text/plain": [
              "'Thailand'"
            ]
          },
          "metadata": {
            "tags": []
          },
          "execution_count": 4
        }
      ]
    },
    {
      "cell_type": "code",
      "metadata": {
        "colab": {
          "base_uri": "https://localhost:8080/"
        },
        "id": "ElHM2c-8gxMI",
        "outputId": "0a697020-00e4-4786-b10b-c5e351c8d346"
      },
      "source": [
        "pycountry.countries.search_fuzzy('Thailand')"
      ],
      "execution_count": 5,
      "outputs": [
        {
          "output_type": "execute_result",
          "data": {
            "text/plain": [
              "[Country(alpha_2='TH', alpha_3='THA', name='Thailand', numeric='764', official_name='Kingdom of Thailand')]"
            ]
          },
          "metadata": {
            "tags": []
          },
          "execution_count": 5
        }
      ]
    },
    {
      "cell_type": "code",
      "metadata": {
        "id": "6xKEdK4DgyGp"
      },
      "source": [
        "import pycountry\n",
        "import pandas as pd\n",
        "df = pd.read_csv('https://raw.githubusercontent.com/CSSEGISandData/COVID-19/master/csse_covid_19_data/csse_covid_19_daily_reports/12-18-2020.csv')"
      ],
      "execution_count": 6,
      "outputs": []
    },
    {
      "cell_type": "code",
      "metadata": {
        "colab": {
          "base_uri": "https://localhost:8080/",
          "height": 309
        },
        "id": "QJqvQgd3g2nc",
        "outputId": "625611ec-a246-4330-8b61-86a9f6fc2b81"
      },
      "source": [
        "df.head()"
      ],
      "execution_count": 7,
      "outputs": [
        {
          "output_type": "execute_result",
          "data": {
            "text/html": [
              "<div>\n",
              "<style scoped>\n",
              "    .dataframe tbody tr th:only-of-type {\n",
              "        vertical-align: middle;\n",
              "    }\n",
              "\n",
              "    .dataframe tbody tr th {\n",
              "        vertical-align: top;\n",
              "    }\n",
              "\n",
              "    .dataframe thead th {\n",
              "        text-align: right;\n",
              "    }\n",
              "</style>\n",
              "<table border=\"1\" class=\"dataframe\">\n",
              "  <thead>\n",
              "    <tr style=\"text-align: right;\">\n",
              "      <th></th>\n",
              "      <th>FIPS</th>\n",
              "      <th>Admin2</th>\n",
              "      <th>Province_State</th>\n",
              "      <th>Country_Region</th>\n",
              "      <th>Last_Update</th>\n",
              "      <th>Lat</th>\n",
              "      <th>Long_</th>\n",
              "      <th>Confirmed</th>\n",
              "      <th>Deaths</th>\n",
              "      <th>Recovered</th>\n",
              "      <th>Active</th>\n",
              "      <th>Combined_Key</th>\n",
              "      <th>Incident_Rate</th>\n",
              "      <th>Case_Fatality_Ratio</th>\n",
              "    </tr>\n",
              "  </thead>\n",
              "  <tbody>\n",
              "    <tr>\n",
              "      <th>0</th>\n",
              "      <td>NaN</td>\n",
              "      <td>NaN</td>\n",
              "      <td>NaN</td>\n",
              "      <td>Afghanistan</td>\n",
              "      <td>2020-12-19 05:27:52</td>\n",
              "      <td>33.93911</td>\n",
              "      <td>67.709953</td>\n",
              "      <td>49621</td>\n",
              "      <td>2030</td>\n",
              "      <td>38540</td>\n",
              "      <td>9051.0</td>\n",
              "      <td>Afghanistan</td>\n",
              "      <td>127.467544</td>\n",
              "      <td>4.091010</td>\n",
              "    </tr>\n",
              "    <tr>\n",
              "      <th>1</th>\n",
              "      <td>NaN</td>\n",
              "      <td>NaN</td>\n",
              "      <td>NaN</td>\n",
              "      <td>Albania</td>\n",
              "      <td>2020-12-19 05:27:52</td>\n",
              "      <td>41.15330</td>\n",
              "      <td>20.168300</td>\n",
              "      <td>52004</td>\n",
              "      <td>1066</td>\n",
              "      <td>27426</td>\n",
              "      <td>23512.0</td>\n",
              "      <td>Albania</td>\n",
              "      <td>1807.074849</td>\n",
              "      <td>2.049842</td>\n",
              "    </tr>\n",
              "    <tr>\n",
              "      <th>2</th>\n",
              "      <td>NaN</td>\n",
              "      <td>NaN</td>\n",
              "      <td>NaN</td>\n",
              "      <td>Algeria</td>\n",
              "      <td>2020-12-19 05:27:52</td>\n",
              "      <td>28.03390</td>\n",
              "      <td>1.659600</td>\n",
              "      <td>94371</td>\n",
              "      <td>2647</td>\n",
              "      <td>62487</td>\n",
              "      <td>29237.0</td>\n",
              "      <td>Algeria</td>\n",
              "      <td>215.208108</td>\n",
              "      <td>2.804887</td>\n",
              "    </tr>\n",
              "    <tr>\n",
              "      <th>3</th>\n",
              "      <td>NaN</td>\n",
              "      <td>NaN</td>\n",
              "      <td>NaN</td>\n",
              "      <td>Andorra</td>\n",
              "      <td>2020-12-19 05:27:52</td>\n",
              "      <td>42.50630</td>\n",
              "      <td>1.521800</td>\n",
              "      <td>7519</td>\n",
              "      <td>80</td>\n",
              "      <td>6919</td>\n",
              "      <td>520.0</td>\n",
              "      <td>Andorra</td>\n",
              "      <td>9731.443733</td>\n",
              "      <td>1.063971</td>\n",
              "    </tr>\n",
              "    <tr>\n",
              "      <th>4</th>\n",
              "      <td>NaN</td>\n",
              "      <td>NaN</td>\n",
              "      <td>NaN</td>\n",
              "      <td>Angola</td>\n",
              "      <td>2020-12-19 05:27:52</td>\n",
              "      <td>-11.20270</td>\n",
              "      <td>17.873900</td>\n",
              "      <td>16562</td>\n",
              "      <td>384</td>\n",
              "      <td>9345</td>\n",
              "      <td>6833.0</td>\n",
              "      <td>Angola</td>\n",
              "      <td>50.392092</td>\n",
              "      <td>2.318561</td>\n",
              "    </tr>\n",
              "  </tbody>\n",
              "</table>\n",
              "</div>"
            ],
            "text/plain": [
              "   FIPS Admin2 Province_State  ... Combined_Key Incident_Rate  Case_Fatality_Ratio\n",
              "0   NaN    NaN            NaN  ...  Afghanistan    127.467544             4.091010\n",
              "1   NaN    NaN            NaN  ...      Albania   1807.074849             2.049842\n",
              "2   NaN    NaN            NaN  ...      Algeria    215.208108             2.804887\n",
              "3   NaN    NaN            NaN  ...      Andorra   9731.443733             1.063971\n",
              "4   NaN    NaN            NaN  ...       Angola     50.392092             2.318561\n",
              "\n",
              "[5 rows x 14 columns]"
            ]
          },
          "metadata": {
            "tags": []
          },
          "execution_count": 7
        }
      ]
    },
    {
      "cell_type": "code",
      "metadata": {
        "id": "5PRKRgKmg31l"
      },
      "source": [
        "import pycountry\n",
        "import pandas as pd\n",
        "df = pd.read_csv('https://raw.githubusercontent.com/CSSEGISandData/COVID-19/master/csse_covid_19_data/csse_covid_19_daily_reports/12-18-2020.csv')\n",
        "\n",
        "def findCountryAlpha2 (country_name):\n",
        "    try:\n",
        "        return pycountry.countries.get(name=country_name).alpha_2\n",
        "    except:\n",
        "        return (\"not founded!\")\n",
        "\n",
        "def findCountryAlpha3 (country_name):\n",
        "    try:\n",
        "        return pycountry.countries.get(name=country_name).alpha_3\n",
        "    except:\n",
        "        return (\"not founded!\")\n",
        "\n",
        "def findCountryNumeric (country_name):\n",
        "    try:\n",
        "        return pycountry.countries.get(name=country_name).numeric\n",
        "    except:\n",
        "        return (\"not founded!\")\n",
        "    \n",
        "def findCountryOfficialName (country_name):\n",
        "    try:\n",
        "        return pycountry.countries.get(name=country_name).official_name\n",
        "    except:\n",
        "        return (\"not founded!\")\n",
        "    \n",
        "df['country_alpha_2'] = df.apply(lambda row: findCountryAlpha2(row.Country_Region) , axis = 1)\n",
        "df['country_alpha_3'] = df.apply(lambda row: findCountryAlpha3(row.Country_Region) , axis = 1)\n",
        "df['country_numeric'] = df.apply(lambda row: findCountryNumeric(row.Country_Region) , axis = 1)\n",
        "df['official_name'] = df.apply(lambda row: findCountryOfficialName(row.Country_Region) , axis = 1)"
      ],
      "execution_count": 9,
      "outputs": []
    },
    {
      "cell_type": "code",
      "metadata": {
        "colab": {
          "base_uri": "https://localhost:8080/",
          "height": 343
        },
        "id": "Uban2wHghG9T",
        "outputId": "ad1e59b2-9bee-49a1-b0a7-c044cf15fa80"
      },
      "source": [
        "df.head()"
      ],
      "execution_count": 10,
      "outputs": [
        {
          "output_type": "execute_result",
          "data": {
            "text/html": [
              "<div>\n",
              "<style scoped>\n",
              "    .dataframe tbody tr th:only-of-type {\n",
              "        vertical-align: middle;\n",
              "    }\n",
              "\n",
              "    .dataframe tbody tr th {\n",
              "        vertical-align: top;\n",
              "    }\n",
              "\n",
              "    .dataframe thead th {\n",
              "        text-align: right;\n",
              "    }\n",
              "</style>\n",
              "<table border=\"1\" class=\"dataframe\">\n",
              "  <thead>\n",
              "    <tr style=\"text-align: right;\">\n",
              "      <th></th>\n",
              "      <th>FIPS</th>\n",
              "      <th>Admin2</th>\n",
              "      <th>Province_State</th>\n",
              "      <th>Country_Region</th>\n",
              "      <th>Last_Update</th>\n",
              "      <th>Lat</th>\n",
              "      <th>Long_</th>\n",
              "      <th>Confirmed</th>\n",
              "      <th>Deaths</th>\n",
              "      <th>Recovered</th>\n",
              "      <th>Active</th>\n",
              "      <th>Combined_Key</th>\n",
              "      <th>Incident_Rate</th>\n",
              "      <th>Case_Fatality_Ratio</th>\n",
              "      <th>country_alpha_2</th>\n",
              "      <th>country_alpha_3</th>\n",
              "      <th>country_numeric</th>\n",
              "      <th>official_name</th>\n",
              "    </tr>\n",
              "  </thead>\n",
              "  <tbody>\n",
              "    <tr>\n",
              "      <th>0</th>\n",
              "      <td>NaN</td>\n",
              "      <td>NaN</td>\n",
              "      <td>NaN</td>\n",
              "      <td>Afghanistan</td>\n",
              "      <td>2020-12-19 05:27:52</td>\n",
              "      <td>33.93911</td>\n",
              "      <td>67.709953</td>\n",
              "      <td>49621</td>\n",
              "      <td>2030</td>\n",
              "      <td>38540</td>\n",
              "      <td>9051.0</td>\n",
              "      <td>Afghanistan</td>\n",
              "      <td>127.467544</td>\n",
              "      <td>4.091010</td>\n",
              "      <td>AF</td>\n",
              "      <td>AFG</td>\n",
              "      <td>004</td>\n",
              "      <td>Islamic Republic of Afghanistan</td>\n",
              "    </tr>\n",
              "    <tr>\n",
              "      <th>1</th>\n",
              "      <td>NaN</td>\n",
              "      <td>NaN</td>\n",
              "      <td>NaN</td>\n",
              "      <td>Albania</td>\n",
              "      <td>2020-12-19 05:27:52</td>\n",
              "      <td>41.15330</td>\n",
              "      <td>20.168300</td>\n",
              "      <td>52004</td>\n",
              "      <td>1066</td>\n",
              "      <td>27426</td>\n",
              "      <td>23512.0</td>\n",
              "      <td>Albania</td>\n",
              "      <td>1807.074849</td>\n",
              "      <td>2.049842</td>\n",
              "      <td>AL</td>\n",
              "      <td>ALB</td>\n",
              "      <td>008</td>\n",
              "      <td>Republic of Albania</td>\n",
              "    </tr>\n",
              "    <tr>\n",
              "      <th>2</th>\n",
              "      <td>NaN</td>\n",
              "      <td>NaN</td>\n",
              "      <td>NaN</td>\n",
              "      <td>Algeria</td>\n",
              "      <td>2020-12-19 05:27:52</td>\n",
              "      <td>28.03390</td>\n",
              "      <td>1.659600</td>\n",
              "      <td>94371</td>\n",
              "      <td>2647</td>\n",
              "      <td>62487</td>\n",
              "      <td>29237.0</td>\n",
              "      <td>Algeria</td>\n",
              "      <td>215.208108</td>\n",
              "      <td>2.804887</td>\n",
              "      <td>DZ</td>\n",
              "      <td>DZA</td>\n",
              "      <td>012</td>\n",
              "      <td>People's Democratic Republic of Algeria</td>\n",
              "    </tr>\n",
              "    <tr>\n",
              "      <th>3</th>\n",
              "      <td>NaN</td>\n",
              "      <td>NaN</td>\n",
              "      <td>NaN</td>\n",
              "      <td>Andorra</td>\n",
              "      <td>2020-12-19 05:27:52</td>\n",
              "      <td>42.50630</td>\n",
              "      <td>1.521800</td>\n",
              "      <td>7519</td>\n",
              "      <td>80</td>\n",
              "      <td>6919</td>\n",
              "      <td>520.0</td>\n",
              "      <td>Andorra</td>\n",
              "      <td>9731.443733</td>\n",
              "      <td>1.063971</td>\n",
              "      <td>AD</td>\n",
              "      <td>AND</td>\n",
              "      <td>020</td>\n",
              "      <td>Principality of Andorra</td>\n",
              "    </tr>\n",
              "    <tr>\n",
              "      <th>4</th>\n",
              "      <td>NaN</td>\n",
              "      <td>NaN</td>\n",
              "      <td>NaN</td>\n",
              "      <td>Angola</td>\n",
              "      <td>2020-12-19 05:27:52</td>\n",
              "      <td>-11.20270</td>\n",
              "      <td>17.873900</td>\n",
              "      <td>16562</td>\n",
              "      <td>384</td>\n",
              "      <td>9345</td>\n",
              "      <td>6833.0</td>\n",
              "      <td>Angola</td>\n",
              "      <td>50.392092</td>\n",
              "      <td>2.318561</td>\n",
              "      <td>AO</td>\n",
              "      <td>AGO</td>\n",
              "      <td>024</td>\n",
              "      <td>Republic of Angola</td>\n",
              "    </tr>\n",
              "  </tbody>\n",
              "</table>\n",
              "</div>"
            ],
            "text/plain": [
              "   FIPS Admin2  ... country_numeric                            official_name\n",
              "0   NaN    NaN  ...             004          Islamic Republic of Afghanistan\n",
              "1   NaN    NaN  ...             008                      Republic of Albania\n",
              "2   NaN    NaN  ...             012  People's Democratic Republic of Algeria\n",
              "3   NaN    NaN  ...             020                  Principality of Andorra\n",
              "4   NaN    NaN  ...             024                       Republic of Angola\n",
              "\n",
              "[5 rows x 18 columns]"
            ]
          },
          "metadata": {
            "tags": []
          },
          "execution_count": 10
        }
      ]
    }
  ]
}