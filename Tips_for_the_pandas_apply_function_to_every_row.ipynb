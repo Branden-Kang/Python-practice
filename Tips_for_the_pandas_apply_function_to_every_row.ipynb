{
  "nbformat": 4,
  "nbformat_minor": 0,
  "metadata": {
    "colab": {
      "provenance": [],
      "authorship_tag": "ABX9TyNLzfSs96R/svFPY3zNLgdG"
    },
    "kernelspec": {
      "name": "python3",
      "display_name": "Python 3"
    },
    "language_info": {
      "name": "python"
    }
  },
  "cells": [
    {
      "cell_type": "markdown",
      "source": [
        "[Reference](https://medium.com/@amit25173/tips-for-the-pandas-apply-function-to-every-row-e15929325985)"
      ],
      "metadata": {
        "id": "XM3jl2xz34TW"
      }
    },
    {
      "cell_type": "markdown",
      "source": [
        "# Applying a function to every row"
      ],
      "metadata": {
        "id": "EpzWNJjy3_AF"
      }
    },
    {
      "cell_type": "code",
      "execution_count": 1,
      "metadata": {
        "colab": {
          "base_uri": "https://localhost:8080/"
        },
        "id": "tJcyezVK3M1m",
        "outputId": "bd6c98fd-cf2e-4362-e6b8-ae64697c993a"
      },
      "outputs": [
        {
          "output_type": "stream",
          "name": "stdout",
          "text": [
            "  Product  Sales_Q1  Sales_Q2  Total_Sales\n",
            "0       A       200       300          500\n",
            "1       B       150       200          350\n",
            "2       C       300       400          700\n"
          ]
        }
      ],
      "source": [
        "import pandas as pd\n",
        "\n",
        "# Sample DataFrame\n",
        "data = {\n",
        "    'Product': ['A', 'B', 'C'],\n",
        "    'Sales_Q1': [200, 150, 300],\n",
        "    'Sales_Q2': [300, 200, 400]\n",
        "}\n",
        "\n",
        "df = pd.DataFrame(data)\n",
        "\n",
        "# Function to calculate total sales\n",
        "def total_sales(row):\n",
        "    return row['Sales_Q1'] + row['Sales_Q2']\n",
        "\n",
        "# Applying the function using apply()\n",
        "df['Total_Sales'] = df.apply(total_sales, axis=1)\n",
        "\n",
        "print(df)"
      ]
    },
    {
      "cell_type": "markdown",
      "source": [
        "# Using lambda functions"
      ],
      "metadata": {
        "id": "1jg_-99q4Cn_"
      }
    },
    {
      "cell_type": "code",
      "source": [
        "# Using a lambda function to calculate the sales difference\n",
        "df['Sales_Difference'] = df.apply(lambda row: row['Sales_Q2'] - row['Sales_Q1'], axis=1)\n",
        "\n",
        "print(df)"
      ],
      "metadata": {
        "colab": {
          "base_uri": "https://localhost:8080/"
        },
        "id": "VCH_l4bG4CI7",
        "outputId": "1a8f5b5b-4b10-41b6-9e97-eaa2662a5e57"
      },
      "execution_count": 2,
      "outputs": [
        {
          "output_type": "stream",
          "name": "stdout",
          "text": [
            "  Product  Sales_Q1  Sales_Q2  Total_Sales  Sales_Difference\n",
            "0       A       200       300          500               100\n",
            "1       B       150       200          350                50\n",
            "2       C       300       400          700               100\n"
          ]
        }
      ]
    },
    {
      "cell_type": "markdown",
      "source": [
        "# Modifying DataFrame based on apply results"
      ],
      "metadata": {
        "id": "JQEpu3Hc4FtU"
      }
    },
    {
      "cell_type": "code",
      "source": [
        "def categorize_sales(total_sales):\n",
        "    if total_sales > 500:\n",
        "        return 'High'\n",
        "    elif total_sales > 300:\n",
        "        return 'Medium'\n",
        "    else:\n",
        "        return 'Low'\n",
        "\n",
        "df['Sales_Category'] = df['Total_Sales'].apply(categorize_sales)\n",
        "\n",
        "print(df)"
      ],
      "metadata": {
        "colab": {
          "base_uri": "https://localhost:8080/"
        },
        "id": "hpukTNvt4AaL",
        "outputId": "ab066dd2-c93b-4045-a501-891862530517"
      },
      "execution_count": 3,
      "outputs": [
        {
          "output_type": "stream",
          "name": "stdout",
          "text": [
            "  Product  Sales_Q1  Sales_Q2  Total_Sales  Sales_Difference Sales_Category\n",
            "0       A       200       300          500               100         Medium\n",
            "1       B       150       200          350                50         Medium\n",
            "2       C       300       400          700               100           High\n"
          ]
        }
      ]
    }
  ]
}