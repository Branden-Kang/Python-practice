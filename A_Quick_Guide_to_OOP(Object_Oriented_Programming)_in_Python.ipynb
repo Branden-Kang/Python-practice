{
  "nbformat": 4,
  "nbformat_minor": 0,
  "metadata": {
    "colab": {
      "provenance": [],
      "authorship_tag": "ABX9TyO6WH3O3dtilDUhJniQC1H7"
    },
    "kernelspec": {
      "name": "python3",
      "display_name": "Python 3"
    },
    "language_info": {
      "name": "python"
    }
  },
  "cells": [
    {
      "cell_type": "markdown",
      "source": [
        "[Reference](https://medium.com/@devrimakkoy/a-quick-guide-to-oop-object-oriented-programming-in-python-e7913b30623c)"
      ],
      "metadata": {
        "id": "8am7YB-k1yGh"
      }
    },
    {
      "cell_type": "markdown",
      "source": [
        "Major OOP Concepts;\n",
        "\n",
        "- Class\n",
        "- Object\n",
        "- Method\n",
        "- Inheritance\n",
        "- Encapsulation\n",
        "- Polymorphism\n",
        "- Data Abstraction"
      ],
      "metadata": {
        "id": "qJDE4aZa2AIY"
      }
    },
    {
      "cell_type": "code",
      "execution_count": 1,
      "metadata": {
        "id": "k7DzX33k1phw"
      },
      "outputs": [],
      "source": [
        "class Car():\n",
        "    pass"
      ]
    },
    {
      "cell_type": "code",
      "source": [
        "obj1 = Car()\n",
        "print(type(obj1))"
      ],
      "metadata": {
        "colab": {
          "base_uri": "https://localhost:8080/"
        },
        "id": "WorEV8xu2Eh8",
        "outputId": "289eddf5-e728-4c34-ceba-4ba57ecd0d15"
      },
      "execution_count": 2,
      "outputs": [
        {
          "output_type": "stream",
          "name": "stdout",
          "text": [
            "<class '__main__.Car'>\n"
          ]
        }
      ]
    },
    {
      "cell_type": "code",
      "source": [
        "class Car():\n",
        "    def __init__(self, name, mileage):\n",
        "        self.name = name\n",
        "        self.mileage = mileage"
      ],
      "metadata": {
        "id": "vABWYuDm2GIw"
      },
      "execution_count": 3,
      "outputs": []
    },
    {
      "cell_type": "code",
      "source": [
        "class Car():\n",
        "    def __init__(self, name, mileage):\n",
        "        self.name = name\n",
        "        self.mileage = mileage\n",
        "    def max_speed(self, speed):\n",
        "        return f\"The {self.name} run at the maximum speed of {speed}km/hr\""
      ],
      "metadata": {
        "id": "QFAlqAff4raA"
      },
      "execution_count": 4,
      "outputs": []
    },
    {
      "cell_type": "code",
      "source": [
        "# Encapsulation\n",
        "class Employee():\n",
        "    # constructor\n",
        "    def __init__(self, name, salary):\n",
        "        # public data member\n",
        "        self.name = name\n",
        "        # private member\n",
        "        self.__salary = salary"
      ],
      "metadata": {
        "id": "DfuQZ5jB46gM"
      },
      "execution_count": 5,
      "outputs": []
    },
    {
      "cell_type": "code",
      "source": [
        "dir(Employee)"
      ],
      "metadata": {
        "colab": {
          "base_uri": "https://localhost:8080/"
        },
        "id": "ihLUKfDH5aZ4",
        "outputId": "5dce1e70-3dc8-4d99-cf94-8136ecc1f4c5"
      },
      "execution_count": 6,
      "outputs": [
        {
          "output_type": "execute_result",
          "data": {
            "text/plain": [
              "['__class__',\n",
              " '__delattr__',\n",
              " '__dict__',\n",
              " '__dir__',\n",
              " '__doc__',\n",
              " '__eq__',\n",
              " '__format__',\n",
              " '__ge__',\n",
              " '__getattribute__',\n",
              " '__gt__',\n",
              " '__hash__',\n",
              " '__init__',\n",
              " '__init_subclass__',\n",
              " '__le__',\n",
              " '__lt__',\n",
              " '__module__',\n",
              " '__ne__',\n",
              " '__new__',\n",
              " '__reduce__',\n",
              " '__reduce_ex__',\n",
              " '__repr__',\n",
              " '__setattr__',\n",
              " '__sizeof__',\n",
              " '__str__',\n",
              " '__subclasshook__',\n",
              " '__weakref__']"
            ]
          },
          "metadata": {},
          "execution_count": 6
        }
      ]
    },
    {
      "cell_type": "code",
      "source": [
        "# creating object of a class\n",
        "emp = Employee(\"Branden\", 100000000)\n",
        "# direct access to private member using name mangling\n",
        "print('Salary:',emp._Employee__salary)"
      ],
      "metadata": {
        "colab": {
          "base_uri": "https://localhost:8080/"
        },
        "id": "2ffSlZVe5Emp",
        "outputId": "19af16d9-d672-4cc5-cf9e-7c2d7bac26fc"
      },
      "execution_count": 7,
      "outputs": [
        {
          "output_type": "stream",
          "name": "stdout",
          "text": [
            "Salary: 100000000\n"
          ]
        }
      ]
    },
    {
      "cell_type": "code",
      "source": [
        "# 2. Inheritance\n",
        "class Manager(Employee):\n",
        "    pass\n",
        "\n",
        "name = \"Branden\"\n",
        "print(len(name))\n",
        "\n",
        "list1 = [1,2,3]\n",
        "print(len(list1))"
      ],
      "metadata": {
        "colab": {
          "base_uri": "https://localhost:8080/"
        },
        "id": "jLTI9hQa5U1h",
        "outputId": "137d0287-cdf4-4ce2-ba90-a771f9aa84bc"
      },
      "execution_count": 8,
      "outputs": [
        {
          "output_type": "stream",
          "name": "stdout",
          "text": [
            "7\n",
            "3\n"
          ]
        }
      ]
    }
  ]
}