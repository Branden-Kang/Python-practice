{
  "nbformat": 4,
  "nbformat_minor": 0,
  "metadata": {
    "colab": {
      "name": "boost Python speed 1000x times.ipynb",
      "provenance": [],
      "authorship_tag": "ABX9TyMdHgO1GohRAzh23RNsCFNQ"
    },
    "kernelspec": {
      "name": "python3",
      "display_name": "Python 3"
    },
    "language_info": {
      "name": "python"
    }
  },
  "cells": [
    {
      "cell_type": "markdown",
      "metadata": {
        "id": "u_PCLAk24KzH"
      },
      "source": [
        "[Reference](https://python.plainenglish.io/a-solution-to-boost-python-speed-1000x-times-c9e7d5be2f40)"
      ]
    },
    {
      "cell_type": "code",
      "metadata": {
        "colab": {
          "base_uri": "https://localhost:8080/"
        },
        "id": "Djc-l0Sd4MgO",
        "outputId": "3da9ac42-2ff3-4da0-8256-c3ef45156949"
      },
      "source": [
        "import numpy as np\n",
        "np.random.seed(0)\n",
        "values = np.random.randint(1, 100, size=1000000)\n",
        "def get_reciprocal(values):\n",
        "    output = np.empty(len(values))\n",
        "    for i in range(len(values)):\n",
        "        output[i] = 1.0/values[i]\n",
        "%timeit get_reciprocal(values)"
      ],
      "execution_count": 1,
      "outputs": [
        {
          "output_type": "stream",
          "text": [
            "1 loop, best of 5: 2.24 s per loop\n"
          ],
          "name": "stdout"
        }
      ]
    },
    {
      "cell_type": "code",
      "metadata": {
        "colab": {
          "base_uri": "https://localhost:8080/"
        },
        "id": "TyrwQkpS4Opn",
        "outputId": "7b0dbb5d-f099-4dae-8a26-91d9b057c164"
      },
      "source": [
        "import numpy as np\n",
        "np.random.seed(0)\n",
        "values = np.random.randint(1, 100, size=1000000)\n",
        "%timeit result = 1.0/values"
      ],
      "execution_count": 2,
      "outputs": [
        {
          "output_type": "stream",
          "text": [
            "100 loops, best of 5: 2.07 ms per loop\n"
          ],
          "name": "stdout"
        }
      ]
    }
  ]
}