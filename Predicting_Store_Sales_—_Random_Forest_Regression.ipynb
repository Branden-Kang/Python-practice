{
  "nbformat": 4,
  "nbformat_minor": 0,
  "metadata": {
    "colab": {
      "name": "Predicting Store Sales — Random Forest Regression.ipynb",
      "provenance": [],
      "authorship_tag": "ABX9TyP/OD9xknNzoHxaV9m/mo/W"
    },
    "kernelspec": {
      "name": "python3",
      "display_name": "Python 3"
    },
    "language_info": {
      "name": "python"
    }
  },
  "cells": [
    {
      "cell_type": "markdown",
      "source": [
        "[Reference](https://medium.com/mlearning-ai/predicting-store-sales-random-forest-regression-b77abec64c17)"
      ],
      "metadata": {
        "id": "sfw_-Q_g3YVa"
      }
    },
    {
      "cell_type": "markdown",
      "source": [
        "# Load in Data"
      ],
      "metadata": {
        "id": "Kpn_6XPsvOOt"
      }
    },
    {
      "cell_type": "code",
      "execution_count": 1,
      "metadata": {
        "id": "A6pA2oEQvLcE"
      },
      "outputs": [],
      "source": [
        "# Pandas is used for data manipulation\n",
        "import pandas as pd\n",
        "\n",
        "# Read in data as a dataframe\n",
        "features = pd.read_csv('https://raw.githubusercontent.com/WillKoehrsen/Machine-Learning-Projects/master/random_forest_explained/data/temps_extended.csv')"
      ]
    },
    {
      "cell_type": "markdown",
      "source": [
        "# Data Preparation"
      ],
      "metadata": {
        "id": "bsmLTI_k3P3u"
      }
    },
    {
      "cell_type": "code",
      "source": [
        "# One Hot Encoding\n",
        "features = pd.get_dummies(features)\n",
        "\n",
        "# Extract features and labels\n",
        "labels = features['actual']\n",
        "features = features.drop('actual', axis = 1)"
      ],
      "metadata": {
        "id": "8Ps00a133PJU"
      },
      "execution_count": 2,
      "outputs": []
    },
    {
      "cell_type": "code",
      "source": [
        "# Names of six features accounting for 95% of total importance\n",
        "important_feature_names = ['temp_1', 'average', 'ws_1', 'temp_2', 'friend', 'year']\n",
        "\n",
        "# Update feature list for visualizations\n",
        "feature_list = important_feature_names[:]\n",
        "\n",
        "features = features[important_feature_names]\n",
        "features.head(5)"
      ],
      "metadata": {
        "colab": {
          "base_uri": "https://localhost:8080/",
          "height": 204
        },
        "id": "XRTRL-DV3UoS",
        "outputId": "a3577ca9-1891-4e22-c85d-007aac650820"
      },
      "execution_count": 3,
      "outputs": [
        {
          "output_type": "execute_result",
          "data": {
            "text/plain": [
              "   temp_1  average  ws_1  temp_2  friend  year\n",
              "0      37     45.6  4.92      36      40  2011\n",
              "1      40     45.7  5.37      37      50  2011\n",
              "2      39     45.8  6.26      40      42  2011\n",
              "3      42     45.9  5.59      39      59  2011\n",
              "4      38     46.0  3.80      42      39  2011"
            ],
            "text/html": [
              "\n",
              "  <div id=\"df-6d8cc8af-0187-41eb-9271-7673fd3a78e5\">\n",
              "    <div class=\"colab-df-container\">\n",
              "      <div>\n",
              "<style scoped>\n",
              "    .dataframe tbody tr th:only-of-type {\n",
              "        vertical-align: middle;\n",
              "    }\n",
              "\n",
              "    .dataframe tbody tr th {\n",
              "        vertical-align: top;\n",
              "    }\n",
              "\n",
              "    .dataframe thead th {\n",
              "        text-align: right;\n",
              "    }\n",
              "</style>\n",
              "<table border=\"1\" class=\"dataframe\">\n",
              "  <thead>\n",
              "    <tr style=\"text-align: right;\">\n",
              "      <th></th>\n",
              "      <th>temp_1</th>\n",
              "      <th>average</th>\n",
              "      <th>ws_1</th>\n",
              "      <th>temp_2</th>\n",
              "      <th>friend</th>\n",
              "      <th>year</th>\n",
              "    </tr>\n",
              "  </thead>\n",
              "  <tbody>\n",
              "    <tr>\n",
              "      <th>0</th>\n",
              "      <td>37</td>\n",
              "      <td>45.6</td>\n",
              "      <td>4.92</td>\n",
              "      <td>36</td>\n",
              "      <td>40</td>\n",
              "      <td>2011</td>\n",
              "    </tr>\n",
              "    <tr>\n",
              "      <th>1</th>\n",
              "      <td>40</td>\n",
              "      <td>45.7</td>\n",
              "      <td>5.37</td>\n",
              "      <td>37</td>\n",
              "      <td>50</td>\n",
              "      <td>2011</td>\n",
              "    </tr>\n",
              "    <tr>\n",
              "      <th>2</th>\n",
              "      <td>39</td>\n",
              "      <td>45.8</td>\n",
              "      <td>6.26</td>\n",
              "      <td>40</td>\n",
              "      <td>42</td>\n",
              "      <td>2011</td>\n",
              "    </tr>\n",
              "    <tr>\n",
              "      <th>3</th>\n",
              "      <td>42</td>\n",
              "      <td>45.9</td>\n",
              "      <td>5.59</td>\n",
              "      <td>39</td>\n",
              "      <td>59</td>\n",
              "      <td>2011</td>\n",
              "    </tr>\n",
              "    <tr>\n",
              "      <th>4</th>\n",
              "      <td>38</td>\n",
              "      <td>46.0</td>\n",
              "      <td>3.80</td>\n",
              "      <td>42</td>\n",
              "      <td>39</td>\n",
              "      <td>2011</td>\n",
              "    </tr>\n",
              "  </tbody>\n",
              "</table>\n",
              "</div>\n",
              "      <button class=\"colab-df-convert\" onclick=\"convertToInteractive('df-6d8cc8af-0187-41eb-9271-7673fd3a78e5')\"\n",
              "              title=\"Convert this dataframe to an interactive table.\"\n",
              "              style=\"display:none;\">\n",
              "        \n",
              "  <svg xmlns=\"http://www.w3.org/2000/svg\" height=\"24px\"viewBox=\"0 0 24 24\"\n",
              "       width=\"24px\">\n",
              "    <path d=\"M0 0h24v24H0V0z\" fill=\"none\"/>\n",
              "    <path d=\"M18.56 5.44l.94 2.06.94-2.06 2.06-.94-2.06-.94-.94-2.06-.94 2.06-2.06.94zm-11 1L8.5 8.5l.94-2.06 2.06-.94-2.06-.94L8.5 2.5l-.94 2.06-2.06.94zm10 10l.94 2.06.94-2.06 2.06-.94-2.06-.94-.94-2.06-.94 2.06-2.06.94z\"/><path d=\"M17.41 7.96l-1.37-1.37c-.4-.4-.92-.59-1.43-.59-.52 0-1.04.2-1.43.59L10.3 9.45l-7.72 7.72c-.78.78-.78 2.05 0 2.83L4 21.41c.39.39.9.59 1.41.59.51 0 1.02-.2 1.41-.59l7.78-7.78 2.81-2.81c.8-.78.8-2.07 0-2.86zM5.41 20L4 18.59l7.72-7.72 1.47 1.35L5.41 20z\"/>\n",
              "  </svg>\n",
              "      </button>\n",
              "      \n",
              "  <style>\n",
              "    .colab-df-container {\n",
              "      display:flex;\n",
              "      flex-wrap:wrap;\n",
              "      gap: 12px;\n",
              "    }\n",
              "\n",
              "    .colab-df-convert {\n",
              "      background-color: #E8F0FE;\n",
              "      border: none;\n",
              "      border-radius: 50%;\n",
              "      cursor: pointer;\n",
              "      display: none;\n",
              "      fill: #1967D2;\n",
              "      height: 32px;\n",
              "      padding: 0 0 0 0;\n",
              "      width: 32px;\n",
              "    }\n",
              "\n",
              "    .colab-df-convert:hover {\n",
              "      background-color: #E2EBFA;\n",
              "      box-shadow: 0px 1px 2px rgba(60, 64, 67, 0.3), 0px 1px 3px 1px rgba(60, 64, 67, 0.15);\n",
              "      fill: #174EA6;\n",
              "    }\n",
              "\n",
              "    [theme=dark] .colab-df-convert {\n",
              "      background-color: #3B4455;\n",
              "      fill: #D2E3FC;\n",
              "    }\n",
              "\n",
              "    [theme=dark] .colab-df-convert:hover {\n",
              "      background-color: #434B5C;\n",
              "      box-shadow: 0px 1px 3px 1px rgba(0, 0, 0, 0.15);\n",
              "      filter: drop-shadow(0px 1px 2px rgba(0, 0, 0, 0.3));\n",
              "      fill: #FFFFFF;\n",
              "    }\n",
              "  </style>\n",
              "\n",
              "      <script>\n",
              "        const buttonEl =\n",
              "          document.querySelector('#df-6d8cc8af-0187-41eb-9271-7673fd3a78e5 button.colab-df-convert');\n",
              "        buttonEl.style.display =\n",
              "          google.colab.kernel.accessAllowed ? 'block' : 'none';\n",
              "\n",
              "        async function convertToInteractive(key) {\n",
              "          const element = document.querySelector('#df-6d8cc8af-0187-41eb-9271-7673fd3a78e5');\n",
              "          const dataTable =\n",
              "            await google.colab.kernel.invokeFunction('convertToInteractive',\n",
              "                                                     [key], {});\n",
              "          if (!dataTable) return;\n",
              "\n",
              "          const docLinkHtml = 'Like what you see? Visit the ' +\n",
              "            '<a target=\"_blank\" href=https://colab.research.google.com/notebooks/data_table.ipynb>data table notebook</a>'\n",
              "            + ' to learn more about interactive tables.';\n",
              "          element.innerHTML = '';\n",
              "          dataTable['output_type'] = 'display_data';\n",
              "          await google.colab.output.renderOutput(dataTable, element);\n",
              "          const docLink = document.createElement('div');\n",
              "          docLink.innerHTML = docLinkHtml;\n",
              "          element.appendChild(docLink);\n",
              "        }\n",
              "      </script>\n",
              "    </div>\n",
              "  </div>\n",
              "  "
            ]
          },
          "metadata": {},
          "execution_count": 3
        }
      ]
    },
    {
      "cell_type": "code",
      "source": [
        "labels[1:6]"
      ],
      "metadata": {
        "colab": {
          "base_uri": "https://localhost:8080/"
        },
        "id": "tPk7mAjP3d2Q",
        "outputId": "6ed524e6-ce04-4299-858b-940030ec9400"
      },
      "execution_count": 4,
      "outputs": [
        {
          "output_type": "execute_result",
          "data": {
            "text/plain": [
              "1    39\n",
              "2    42\n",
              "3    38\n",
              "4    45\n",
              "5    49\n",
              "Name: actual, dtype: int64"
            ]
          },
          "metadata": {},
          "execution_count": 4
        }
      ]
    },
    {
      "cell_type": "code",
      "source": [
        "# Convert to numpy arrays\n",
        "import numpy as np\n",
        "\n",
        "features = np.array(features)\n",
        "labels = np.array(labels)\n",
        "\n",
        "# Training and Testing Sets\n",
        "from sklearn.model_selection import train_test_split\n",
        "\n",
        "train_features, test_features, train_labels, test_labels = train_test_split(features, labels, \n",
        "                                                                            test_size = 0.25, random_state = 42)"
      ],
      "metadata": {
        "id": "U5JH6JVP3e9J"
      },
      "execution_count": 5,
      "outputs": []
    },
    {
      "cell_type": "code",
      "source": [
        "print('Training Features Shape:', train_features.shape)\n",
        "print('Training Labels Shape:', train_labels.shape)\n",
        "print('Testing Features Shape:', test_features.shape)\n",
        "print('Testing Labels Shape:', test_labels.shape)"
      ],
      "metadata": {
        "colab": {
          "base_uri": "https://localhost:8080/"
        },
        "id": "kZmaeNH03gfF",
        "outputId": "7064ecbb-252a-4f86-f1dd-147aa91c95aa"
      },
      "execution_count": 6,
      "outputs": [
        {
          "output_type": "stream",
          "name": "stdout",
          "text": [
            "Training Features Shape: (1643, 6)\n",
            "Training Labels Shape: (1643,)\n",
            "Testing Features Shape: (548, 6)\n",
            "Testing Labels Shape: (548,)\n"
          ]
        }
      ]
    },
    {
      "cell_type": "code",
      "source": [
        "print('{:0.1f} years of data in the training set'.format(train_features.shape[0] / 365.))\n",
        "print('{:0.1f} years of data in the test set'.format(test_features.shape[0] / 365.))"
      ],
      "metadata": {
        "colab": {
          "base_uri": "https://localhost:8080/"
        },
        "id": "x5ZKViSz3heh",
        "outputId": "ab2704c3-c50f-46b6-c078-87664be2be4c"
      },
      "execution_count": 8,
      "outputs": [
        {
          "output_type": "stream",
          "name": "stdout",
          "text": [
            "4.5 years of data in the training set\n",
            "1.5 years of data in the test set\n"
          ]
        }
      ]
    },
    {
      "cell_type": "markdown",
      "source": [
        "## Examine the Default Random Forest to Determine Parameters"
      ],
      "metadata": {
        "id": "pvWk49vg3lbM"
      }
    },
    {
      "cell_type": "code",
      "source": [
        "from sklearn.ensemble import RandomForestRegressor\n",
        "\n",
        "rf = RandomForestRegressor(random_state = 42)\n",
        "\n",
        "from pprint import pprint\n",
        "\n",
        "# Look at parameters used by our current forest\n",
        "print('Parameters currently in use:\\n')\n",
        "pprint(rf.get_params())"
      ],
      "metadata": {
        "colab": {
          "base_uri": "https://localhost:8080/"
        },
        "id": "CsyQJKQf3iYY",
        "outputId": "c310ff1f-0042-4ca6-9d69-a164812c0dbe"
      },
      "execution_count": 9,
      "outputs": [
        {
          "output_type": "stream",
          "name": "stdout",
          "text": [
            "Parameters currently in use:\n",
            "\n",
            "{'bootstrap': True,\n",
            " 'ccp_alpha': 0.0,\n",
            " 'criterion': 'squared_error',\n",
            " 'max_depth': None,\n",
            " 'max_features': 'auto',\n",
            " 'max_leaf_nodes': None,\n",
            " 'max_samples': None,\n",
            " 'min_impurity_decrease': 0.0,\n",
            " 'min_samples_leaf': 1,\n",
            " 'min_samples_split': 2,\n",
            " 'min_weight_fraction_leaf': 0.0,\n",
            " 'n_estimators': 100,\n",
            " 'n_jobs': None,\n",
            " 'oob_score': False,\n",
            " 'random_state': 42,\n",
            " 'verbose': 0,\n",
            " 'warm_start': False}\n"
          ]
        }
      ]
    },
    {
      "cell_type": "markdown",
      "source": [
        "# Random Search with Cross Validation\n"
      ],
      "metadata": {
        "id": "YEn0NpnW3p9U"
      }
    },
    {
      "cell_type": "code",
      "source": [
        "from sklearn.model_selection import RandomizedSearchCV\n",
        "\n",
        "# Number of trees in random forest\n",
        "n_estimators = [int(x) for x in np.linspace(start = 200, stop = 2000, num = 10)]\n",
        "# Number of features to consider at every split\n",
        "max_features = ['auto', 'sqrt']\n",
        "# Maximum number of levels in tree\n",
        "max_depth = [int(x) for x in np.linspace(10, 110, num = 11)]\n",
        "max_depth.append(None)\n",
        "# Minimum number of samples required to split a node\n",
        "min_samples_split = [2, 5, 10]\n",
        "# Minimum number of samples required at each leaf node\n",
        "min_samples_leaf = [1, 2, 4]\n",
        "# Method of selecting samples for training each tree\n",
        "bootstrap = [True, False]\n",
        "\n",
        "# Create the random grid\n",
        "random_grid = {'n_estimators': n_estimators,\n",
        "               'max_features': max_features,\n",
        "               'max_depth': max_depth,\n",
        "               'min_samples_split': min_samples_split,\n",
        "               'min_samples_leaf': min_samples_leaf,\n",
        "               'bootstrap': bootstrap}\n",
        "\n",
        "pprint(random_grid)"
      ],
      "metadata": {
        "colab": {
          "base_uri": "https://localhost:8080/"
        },
        "id": "OIf0s8yV3oeu",
        "outputId": "a0043254-4aac-4ad6-cbcd-c41a955f4a17"
      },
      "execution_count": 10,
      "outputs": [
        {
          "output_type": "stream",
          "name": "stdout",
          "text": [
            "{'bootstrap': [True, False],\n",
            " 'max_depth': [10, 20, 30, 40, 50, 60, 70, 80, 90, 100, 110, None],\n",
            " 'max_features': ['auto', 'sqrt'],\n",
            " 'min_samples_leaf': [1, 2, 4],\n",
            " 'min_samples_split': [2, 5, 10],\n",
            " 'n_estimators': [200, 400, 600, 800, 1000, 1200, 1400, 1600, 1800, 2000]}\n"
          ]
        }
      ]
    },
    {
      "cell_type": "code",
      "source": [
        "# Use the random grid to search for best hyperparameters\n",
        "# First create the base model to tune\n",
        "rf = RandomForestRegressor(random_state = 42)\n",
        "# Random search of parameters, using 3 fold cross validation, \n",
        "# search across 100 different combinations, and use all available cores\n",
        "rf_random = RandomizedSearchCV(estimator=rf, param_distributions=random_grid,\n",
        "                              n_iter = 100, scoring='neg_mean_absolute_error', \n",
        "                              cv = 3, verbose=2, random_state=42, n_jobs=-1,\n",
        "                              return_train_score=True)\n",
        "\n",
        "# Fit the random search model\n",
        "rf_random.fit(train_features, train_labels);"
      ],
      "metadata": {
        "colab": {
          "base_uri": "https://localhost:8080/"
        },
        "id": "8KIVfLVr3sfC",
        "outputId": "416e3114-41fd-43d4-feb1-6b998bddeeda"
      },
      "execution_count": 11,
      "outputs": [
        {
          "output_type": "stream",
          "name": "stdout",
          "text": [
            "Fitting 3 folds for each of 100 candidates, totalling 300 fits\n"
          ]
        }
      ]
    },
    {
      "cell_type": "code",
      "source": [
        "rf_random.best_params_"
      ],
      "metadata": {
        "colab": {
          "base_uri": "https://localhost:8080/"
        },
        "id": "nHmpeBeE31P9",
        "outputId": "3be6080a-8b64-4558-a0f2-b7fec07d7a95"
      },
      "execution_count": 12,
      "outputs": [
        {
          "output_type": "execute_result",
          "data": {
            "text/plain": [
              "{'bootstrap': True,\n",
              " 'max_depth': 70,\n",
              " 'max_features': 'auto',\n",
              " 'min_samples_leaf': 4,\n",
              " 'min_samples_split': 10,\n",
              " 'n_estimators': 400}"
            ]
          },
          "metadata": {},
          "execution_count": 12
        }
      ]
    },
    {
      "cell_type": "code",
      "source": [
        "rf_random.cv_results_"
      ],
      "metadata": {
        "colab": {
          "base_uri": "https://localhost:8080/"
        },
        "id": "lXa2pCao33_p",
        "outputId": "94bb7b86-c4ec-47cb-f0e3-fba17c933542"
      },
      "execution_count": 13,
      "outputs": [
        {
          "output_type": "execute_result",
          "data": {
            "text/plain": [
              "{'mean_fit_time': array([ 1.82201203,  9.86812162,  3.91645018, 13.6840659 ,  5.95950985,\n",
              "         2.82232499,  3.90149554,  2.17751487, 11.19001349, 14.94950024,\n",
              "         3.46209399,  5.6915106 ,  6.29209121,  6.71696742,  3.29132684,\n",
              "        11.73760358,  3.92679334,  3.6124657 , 10.56724381,  3.20066118,\n",
              "         6.3517007 ,  5.83340303,  4.72770325, 14.04673179,  7.84529718,\n",
              "         2.64005295, 12.21007975,  3.01809613, 12.81278086,  4.78450553,\n",
              "         4.84467808,  3.08811148,  3.66358256,  3.14541364,  5.44032486,\n",
              "         3.305245  ,  7.09150179,  6.27450323,  4.03116218,  3.17159398,\n",
              "         0.87710834,  1.76455585,  2.29402439,  1.29723907,  1.93566632,\n",
              "         3.60539889, 10.37596035,  1.14709115,  4.81624524,  3.27625338,\n",
              "        24.6485366 , 17.94080989,  7.17273911,  6.30437311,  7.95795965,\n",
              "         2.18468277, 13.27877665, 15.27389717, 13.31837948,  6.03772084,\n",
              "         1.06786768,  1.11624018,  7.0262483 , 12.548136  ,  7.65060782,\n",
              "        10.66308014, 11.37052854, 10.4263684 ,  3.36080233, 12.4973019 ,\n",
              "         4.29032127,  2.36385473,  5.58728949,  2.80046074,  8.52368681,\n",
              "         1.17900729,  4.73851355,  6.37660432,  3.00970689,  0.90153893,\n",
              "        11.30426741,  2.7041808 ,  4.90002982,  4.6939954 ,  2.33252048,\n",
              "         1.84248511,  1.27510945,  4.5656426 ,  2.24315405,  2.81409224,\n",
              "         1.77141507,  5.8766133 ,  2.52875622,  2.66849677,  1.74046596,\n",
              "         2.3381989 ,  6.35283836,  1.12119206,  6.26645486,  8.6659898 ]),\n",
              " 'mean_score_time': array([0.21453293, 0.70581857, 0.25820287, 0.41330091, 0.40035987,\n",
              "        0.20093393, 0.28869963, 0.13955029, 0.45559525, 0.46279701,\n",
              "        0.16837764, 0.31698775, 0.41968489, 0.5395267 , 0.30269361,\n",
              "        0.36617565, 0.13005741, 0.25032854, 0.3693831 , 0.130349  ,\n",
              "        0.40964119, 0.39030878, 0.38540538, 0.67339508, 0.57446202,\n",
              "        0.20869621, 0.37796911, 0.21801297, 0.47802226, 0.29065951,\n",
              "        0.37525018, 0.20508003, 0.18925675, 0.16201377, 0.37885205,\n",
              "        0.32056793, 0.52633675, 0.19158149, 0.17251643, 0.23723308,\n",
              "        0.03977617, 0.12103438, 0.16529083, 0.11202558, 0.04610316,\n",
              "        0.24770387, 0.65307593, 0.08032131, 0.38236419, 0.23421574,\n",
              "        0.8347884 , 0.41869553, 0.34258588, 0.43822281, 0.52357181,\n",
              "        0.14236736, 0.71766861, 0.50432555, 0.66199748, 0.37384184,\n",
              "        0.07215436, 0.07935484, 0.40784009, 0.60390139, 0.53340522,\n",
              "        0.41861526, 0.45148134, 0.37685847, 0.22064455, 0.41329749,\n",
              "        0.28133607, 0.17005229, 0.39047074, 0.09525196, 0.34868224,\n",
              "        0.08245055, 0.3309075 , 0.45525185, 0.21037809, 0.04228131,\n",
              "        0.41559013, 0.11961047, 0.19764241, 0.1604681 , 0.17882776,\n",
              "        0.12632823, 0.09715486, 0.33100804, 0.16318432, 0.20381514,\n",
              "        0.13016081, 0.45300825, 0.17552495, 0.12163448, 0.12500381,\n",
              "        0.081206  , 0.22105567, 0.04041139, 0.43989762, 0.34231814]),\n",
              " 'mean_test_score': array([-3.88286179, -3.87310741, -3.90241174, -4.57238639, -3.86749147,\n",
              "        -3.88812208, -3.9152998 , -3.93901866, -5.00692364, -4.51127585,\n",
              "        -3.84271138, -3.94107499, -3.90657306, -3.90026792, -3.90167571,\n",
              "        -4.57243769, -4.96201961, -3.88188312, -4.62124433, -3.88878901,\n",
              "        -3.91347958, -3.93902681, -3.86797661, -3.8817759 , -3.93957647,\n",
              "        -3.95910407, -5.00651887, -3.86447548, -4.51092043, -3.86785314,\n",
              "        -3.88650827, -3.9215046 , -3.94107499, -3.86901969, -3.86804291,\n",
              "        -3.90166204, -3.86607423, -3.90425854, -3.8780874 , -3.86712204,\n",
              "        -3.85203003, -3.86640993, -3.87127153, -3.86305607, -4.96110339,\n",
              "        -3.88223086, -3.88215828, -3.88817718, -3.88633965, -3.92051297,\n",
              "        -5.00714348, -4.62129247, -4.5109267 , -4.57215022, -3.91483658,\n",
              "        -3.88937253, -3.88228153, -3.8817759 , -3.90249264, -3.87065851,\n",
              "        -3.89571569, -3.86570656, -4.5109267 , -4.62143262, -3.86713203,\n",
              "        -3.86351173, -4.51127585, -3.88239602, -3.90957658, -4.62129247,\n",
              "        -3.88677811, -3.88812208, -3.86681405, -4.93770041, -3.8922407 ,\n",
              "        -3.90568955, -3.86714757, -3.87584504, -3.86586653, -3.85356536,\n",
              "        -4.57238639, -3.86023162, -3.84611402, -4.6214029 , -3.88812208,\n",
              "        -3.91205417, -3.88286179, -3.86726992, -3.86901969, -3.86730878,\n",
              "        -3.8613413 , -3.88577093, -3.87770381, -3.84514582, -3.88937253,\n",
              "        -4.62158973, -4.78963928, -4.57251766, -3.86799347, -3.8640659 ]),\n",
              " 'mean_train_score': array([-1.95283133e+00, -2.28516407e+00, -1.72625521e+00, -2.35781428e+00,\n",
              "        -2.83007616e+00, -2.15431671e+00, -1.19527871e+00, -8.23037825e-01,\n",
              "         0.00000000e+00, -2.45219425e+00, -2.57287937e+00, -8.22423937e-01,\n",
              "        -2.09022661e+00, -1.72701310e+00, -1.92674412e+00, -2.35782006e+00,\n",
              "        -1.43281072e+00, -1.43341388e+00, -2.21587423e+00, -1.74128986e+00,\n",
              "        -1.75049516e+00, -8.21533961e-01, -2.79196708e+00, -1.77910881e+00,\n",
              "        -8.21638912e-01, -8.85619771e-04,  0.00000000e+00, -2.19268130e+00,\n",
              "        -2.50103640e+00, -2.08875843e+00, -2.27055235e+00, -1.03441431e+00,\n",
              "        -8.22423937e-01, -2.86729604e+00, -2.79231641e+00, -1.92674362e+00,\n",
              "        -2.19161098e+00, -1.43221257e+00, -1.88579872e+00, -2.08784910e+00,\n",
              "        -2.51153378e+00, -2.65627122e+00, -2.79533054e+00, -2.86813822e+00,\n",
              "        -1.43229508e+00, -1.43332445e+00, -1.77798065e+00, -2.27193477e+00,\n",
              "        -2.15421328e+00, -1.03408881e+00, -3.69017419e-04, -2.21589629e+00,\n",
              "        -2.50105966e+00, -2.35784595e+00, -1.19479465e+00, -2.15459931e+00,\n",
              "        -2.03199276e+00, -1.77910881e+00, -1.42939053e+00, -2.65203125e+00,\n",
              "        -1.44563588e+00, -2.83484329e+00, -2.50105966e+00, -2.21584594e+00,\n",
              "        -2.54693871e+00, -2.37051805e+00, -2.45219425e+00, -1.77921258e+00,\n",
              "        -1.75165456e+00, -2.21589629e+00, -2.15382507e+00, -2.15431671e+00,\n",
              "        -2.19044385e+00, -1.04524137e+00, -1.73483534e+00, -1.92764522e+00,\n",
              "        -2.54704354e+00, -1.94875878e+00, -2.39393578e+00, -2.47072695e+00,\n",
              "        -2.35781428e+00, -2.37622106e+00, -2.46451873e+00, -2.21577693e+00,\n",
              "        -2.15431671e+00, -1.75148932e+00, -1.95283133e+00, -2.79192199e+00,\n",
              "        -2.86729604e+00, -2.73213644e+00, -2.54858022e+00, -2.15363626e+00,\n",
              "        -1.94994835e+00, -2.46695385e+00, -2.15459931e+00, -2.21588739e+00,\n",
              "        -1.35156133e+00, -2.35774722e+00, -2.08739909e+00, -2.36889370e+00]),\n",
              " 'param_bootstrap': masked_array(data=[True, True, False, False, True, False, False, False,\n",
              "                    False, False, True, False, False, False, False, False,\n",
              "                    False, True, False, True, False, False, True, True,\n",
              "                    False, False, False, True, False, True, False, False,\n",
              "                    False, True, True, False, True, True, True, True, True,\n",
              "                    True, True, True, False, True, True, False, False,\n",
              "                    False, False, False, False, False, False, False, True,\n",
              "                    True, True, True, True, True, False, False, True, True,\n",
              "                    False, True, False, False, False, False, True, False,\n",
              "                    True, False, True, True, True, True, False, True, True,\n",
              "                    False, False, False, True, True, True, True, True,\n",
              "                    False, True, True, False, False, False, False, True,\n",
              "                    True],\n",
              "              mask=[False, False, False, False, False, False, False, False,\n",
              "                    False, False, False, False, False, False, False, False,\n",
              "                    False, False, False, False, False, False, False, False,\n",
              "                    False, False, False, False, False, False, False, False,\n",
              "                    False, False, False, False, False, False, False, False,\n",
              "                    False, False, False, False, False, False, False, False,\n",
              "                    False, False, False, False, False, False, False, False,\n",
              "                    False, False, False, False, False, False, False, False,\n",
              "                    False, False, False, False, False, False, False, False,\n",
              "                    False, False, False, False, False, False, False, False,\n",
              "                    False, False, False, False, False, False, False, False,\n",
              "                    False, False, False, False, False, False, False, False,\n",
              "                    False, False, False, False],\n",
              "        fill_value='?',\n",
              "             dtype=object),\n",
              " 'param_max_depth': masked_array(data=[30, 10, 10, 30, 10, 30, 100, 60, 50, 10, 70, 90, 10,\n",
              "                    10, 30, 50, 70, 20, 110, 80, 30, 70, 80, None, 80,\n",
              "                    None, 40, 20, 100, 20, 20, 50, 100, 50, 90, 20, 20,\n",
              "                    100, None, 60, 10, 60, 90, 90, 90, 110, 90, 80, 70,\n",
              "                    110, 20, 50, 50, 30, None, 60, 10, 80, 100, 80, 50, 10,\n",
              "                    80, None, 20, None, 10, 70, 80, 60, 80, 20, 60, 90, 90,\n",
              "                    90, None, 100, 10, 80, 60, 100, 100, None, 70, 40, 100,\n",
              "                    80, 100, 10, 110, None, 40, 40, 30, 40, 10, 100, 20,\n",
              "                    40],\n",
              "              mask=[False, False, False, False, False, False, False, False,\n",
              "                    False, False, False, False, False, False, False, False,\n",
              "                    False, False, False, False, False, False, False, False,\n",
              "                    False, False, False, False, False, False, False, False,\n",
              "                    False, False, False, False, False, False, False, False,\n",
              "                    False, False, False, False, False, False, False, False,\n",
              "                    False, False, False, False, False, False, False, False,\n",
              "                    False, False, False, False, False, False, False, False,\n",
              "                    False, False, False, False, False, False, False, False,\n",
              "                    False, False, False, False, False, False, False, False,\n",
              "                    False, False, False, False, False, False, False, False,\n",
              "                    False, False, False, False, False, False, False, False,\n",
              "                    False, False, False, False],\n",
              "        fill_value='?',\n",
              "             dtype=object),\n",
              " 'param_max_features': masked_array(data=['sqrt', 'sqrt', 'sqrt', 'auto', 'sqrt', 'sqrt', 'sqrt',\n",
              "                    'sqrt', 'auto', 'auto', 'auto', 'sqrt', 'sqrt', 'sqrt',\n",
              "                    'sqrt', 'auto', 'auto', 'sqrt', 'auto', 'auto', 'sqrt',\n",
              "                    'sqrt', 'sqrt', 'auto', 'sqrt', 'sqrt', 'auto', 'sqrt',\n",
              "                    'auto', 'sqrt', 'sqrt', 'sqrt', 'sqrt', 'sqrt', 'sqrt',\n",
              "                    'sqrt', 'sqrt', 'auto', 'auto', 'sqrt', 'auto', 'sqrt',\n",
              "                    'sqrt', 'sqrt', 'auto', 'sqrt', 'auto', 'sqrt', 'sqrt',\n",
              "                    'sqrt', 'auto', 'auto', 'auto', 'auto', 'sqrt', 'sqrt',\n",
              "                    'auto', 'auto', 'auto', 'sqrt', 'sqrt', 'sqrt', 'auto',\n",
              "                    'auto', 'sqrt', 'auto', 'auto', 'auto', 'sqrt', 'auto',\n",
              "                    'sqrt', 'sqrt', 'sqrt', 'auto', 'auto', 'sqrt', 'sqrt',\n",
              "                    'sqrt', 'sqrt', 'auto', 'auto', 'auto', 'auto', 'auto',\n",
              "                    'sqrt', 'sqrt', 'sqrt', 'sqrt', 'sqrt', 'sqrt', 'sqrt',\n",
              "                    'sqrt', 'sqrt', 'auto', 'sqrt', 'auto', 'auto', 'auto',\n",
              "                    'sqrt', 'auto'],\n",
              "              mask=[False, False, False, False, False, False, False, False,\n",
              "                    False, False, False, False, False, False, False, False,\n",
              "                    False, False, False, False, False, False, False, False,\n",
              "                    False, False, False, False, False, False, False, False,\n",
              "                    False, False, False, False, False, False, False, False,\n",
              "                    False, False, False, False, False, False, False, False,\n",
              "                    False, False, False, False, False, False, False, False,\n",
              "                    False, False, False, False, False, False, False, False,\n",
              "                    False, False, False, False, False, False, False, False,\n",
              "                    False, False, False, False, False, False, False, False,\n",
              "                    False, False, False, False, False, False, False, False,\n",
              "                    False, False, False, False, False, False, False, False,\n",
              "                    False, False, False, False],\n",
              "        fill_value='?',\n",
              "             dtype=object),\n",
              " 'param_min_samples_leaf': masked_array(data=[1, 1, 2, 4, 4, 4, 2, 1, 1, 4, 4, 1, 1, 2, 2, 4, 2, 1,\n",
              "                    2, 1, 1, 1, 4, 2, 1, 1, 1, 2, 4, 2, 4, 2, 1, 4, 4, 2,\n",
              "                    2, 1, 2, 2, 4, 2, 4, 4, 2, 1, 2, 4, 4, 2, 1, 2, 4, 4,\n",
              "                    2, 4, 1, 2, 1, 2, 1, 4, 4, 2, 1, 2, 4, 2, 1, 2, 4, 4,\n",
              "                    2, 1, 1, 2, 1, 1, 2, 4, 4, 2, 4, 2, 4, 1, 1, 4, 4, 2,\n",
              "                    1, 4, 1, 4, 4, 2, 1, 4, 2, 2],\n",
              "              mask=[False, False, False, False, False, False, False, False,\n",
              "                    False, False, False, False, False, False, False, False,\n",
              "                    False, False, False, False, False, False, False, False,\n",
              "                    False, False, False, False, False, False, False, False,\n",
              "                    False, False, False, False, False, False, False, False,\n",
              "                    False, False, False, False, False, False, False, False,\n",
              "                    False, False, False, False, False, False, False, False,\n",
              "                    False, False, False, False, False, False, False, False,\n",
              "                    False, False, False, False, False, False, False, False,\n",
              "                    False, False, False, False, False, False, False, False,\n",
              "                    False, False, False, False, False, False, False, False,\n",
              "                    False, False, False, False, False, False, False, False,\n",
              "                    False, False, False, False],\n",
              "        fill_value='?',\n",
              "             dtype=object),\n",
              " 'param_min_samples_split': masked_array(data=[5, 5, 5, 2, 2, 5, 5, 5, 2, 5, 10, 5, 10, 5, 10, 2, 5,\n",
              "                    2, 10, 5, 10, 5, 5, 2, 5, 2, 2, 5, 10, 2, 10, 2, 5, 10,\n",
              "                    2, 10, 5, 2, 5, 2, 5, 10, 2, 10, 5, 2, 2, 10, 2, 2, 2,\n",
              "                    10, 10, 5, 5, 2, 5, 2, 2, 10, 2, 2, 10, 10, 10, 10, 2,\n",
              "                    2, 10, 10, 2, 2, 5, 5, 5, 10, 10, 5, 5, 5, 2, 10, 5,\n",
              "                    10, 5, 10, 5, 2, 10, 10, 10, 5, 5, 2, 2, 10, 2, 5, 2,\n",
              "                    10],\n",
              "              mask=[False, False, False, False, False, False, False, False,\n",
              "                    False, False, False, False, False, False, False, False,\n",
              "                    False, False, False, False, False, False, False, False,\n",
              "                    False, False, False, False, False, False, False, False,\n",
              "                    False, False, False, False, False, False, False, False,\n",
              "                    False, False, False, False, False, False, False, False,\n",
              "                    False, False, False, False, False, False, False, False,\n",
              "                    False, False, False, False, False, False, False, False,\n",
              "                    False, False, False, False, False, False, False, False,\n",
              "                    False, False, False, False, False, False, False, False,\n",
              "                    False, False, False, False, False, False, False, False,\n",
              "                    False, False, False, False, False, False, False, False,\n",
              "                    False, False, False, False],\n",
              "        fill_value='?',\n",
              "             dtype=object),\n",
              " 'param_n_estimators': masked_array(data=[400, 2000, 1200, 2000, 1600, 800, 1000, 600, 1000,\n",
              "                    1800, 400, 800, 2000, 1600, 800, 1800, 600, 1000, 1800,\n",
              "                    600, 1800, 1600, 1400, 1800, 1400, 400, 1400, 1000,\n",
              "                    2000, 1200, 1200, 800, 800, 800, 1800, 800, 1200, 800,\n",
              "                    800, 1000, 200, 600, 800, 400, 200, 1000, 2000, 400,\n",
              "                    1200, 600, 1800, 2000, 1000, 1000, 1400, 600, 1600,\n",
              "                    1800, 1400, 1400, 200, 400, 1000, 1200, 1600, 1600,\n",
              "                    1800, 1400, 1000, 2000, 1400, 800, 1800, 400, 1600,\n",
              "                    400, 1600, 2000, 1000, 200, 2000, 600, 1000, 800, 800,\n",
              "                    600, 400, 1600, 800, 1000, 600, 2000, 800, 600, 600,\n",
              "                    400, 1000, 200, 2000, 2000],\n",
              "              mask=[False, False, False, False, False, False, False, False,\n",
              "                    False, False, False, False, False, False, False, False,\n",
              "                    False, False, False, False, False, False, False, False,\n",
              "                    False, False, False, False, False, False, False, False,\n",
              "                    False, False, False, False, False, False, False, False,\n",
              "                    False, False, False, False, False, False, False, False,\n",
              "                    False, False, False, False, False, False, False, False,\n",
              "                    False, False, False, False, False, False, False, False,\n",
              "                    False, False, False, False, False, False, False, False,\n",
              "                    False, False, False, False, False, False, False, False,\n",
              "                    False, False, False, False, False, False, False, False,\n",
              "                    False, False, False, False, False, False, False, False,\n",
              "                    False, False, False, False],\n",
              "        fill_value='?',\n",
              "             dtype=object),\n",
              " 'params': [{'bootstrap': True,\n",
              "   'max_depth': 30,\n",
              "   'max_features': 'sqrt',\n",
              "   'min_samples_leaf': 1,\n",
              "   'min_samples_split': 5,\n",
              "   'n_estimators': 400},\n",
              "  {'bootstrap': True,\n",
              "   'max_depth': 10,\n",
              "   'max_features': 'sqrt',\n",
              "   'min_samples_leaf': 1,\n",
              "   'min_samples_split': 5,\n",
              "   'n_estimators': 2000},\n",
              "  {'bootstrap': False,\n",
              "   'max_depth': 10,\n",
              "   'max_features': 'sqrt',\n",
              "   'min_samples_leaf': 2,\n",
              "   'min_samples_split': 5,\n",
              "   'n_estimators': 1200},\n",
              "  {'bootstrap': False,\n",
              "   'max_depth': 30,\n",
              "   'max_features': 'auto',\n",
              "   'min_samples_leaf': 4,\n",
              "   'min_samples_split': 2,\n",
              "   'n_estimators': 2000},\n",
              "  {'bootstrap': True,\n",
              "   'max_depth': 10,\n",
              "   'max_features': 'sqrt',\n",
              "   'min_samples_leaf': 4,\n",
              "   'min_samples_split': 2,\n",
              "   'n_estimators': 1600},\n",
              "  {'bootstrap': False,\n",
              "   'max_depth': 30,\n",
              "   'max_features': 'sqrt',\n",
              "   'min_samples_leaf': 4,\n",
              "   'min_samples_split': 5,\n",
              "   'n_estimators': 800},\n",
              "  {'bootstrap': False,\n",
              "   'max_depth': 100,\n",
              "   'max_features': 'sqrt',\n",
              "   'min_samples_leaf': 2,\n",
              "   'min_samples_split': 5,\n",
              "   'n_estimators': 1000},\n",
              "  {'bootstrap': False,\n",
              "   'max_depth': 60,\n",
              "   'max_features': 'sqrt',\n",
              "   'min_samples_leaf': 1,\n",
              "   'min_samples_split': 5,\n",
              "   'n_estimators': 600},\n",
              "  {'bootstrap': False,\n",
              "   'max_depth': 50,\n",
              "   'max_features': 'auto',\n",
              "   'min_samples_leaf': 1,\n",
              "   'min_samples_split': 2,\n",
              "   'n_estimators': 1000},\n",
              "  {'bootstrap': False,\n",
              "   'max_depth': 10,\n",
              "   'max_features': 'auto',\n",
              "   'min_samples_leaf': 4,\n",
              "   'min_samples_split': 5,\n",
              "   'n_estimators': 1800},\n",
              "  {'bootstrap': True,\n",
              "   'max_depth': 70,\n",
              "   'max_features': 'auto',\n",
              "   'min_samples_leaf': 4,\n",
              "   'min_samples_split': 10,\n",
              "   'n_estimators': 400},\n",
              "  {'bootstrap': False,\n",
              "   'max_depth': 90,\n",
              "   'max_features': 'sqrt',\n",
              "   'min_samples_leaf': 1,\n",
              "   'min_samples_split': 5,\n",
              "   'n_estimators': 800},\n",
              "  {'bootstrap': False,\n",
              "   'max_depth': 10,\n",
              "   'max_features': 'sqrt',\n",
              "   'min_samples_leaf': 1,\n",
              "   'min_samples_split': 10,\n",
              "   'n_estimators': 2000},\n",
              "  {'bootstrap': False,\n",
              "   'max_depth': 10,\n",
              "   'max_features': 'sqrt',\n",
              "   'min_samples_leaf': 2,\n",
              "   'min_samples_split': 5,\n",
              "   'n_estimators': 1600},\n",
              "  {'bootstrap': False,\n",
              "   'max_depth': 30,\n",
              "   'max_features': 'sqrt',\n",
              "   'min_samples_leaf': 2,\n",
              "   'min_samples_split': 10,\n",
              "   'n_estimators': 800},\n",
              "  {'bootstrap': False,\n",
              "   'max_depth': 50,\n",
              "   'max_features': 'auto',\n",
              "   'min_samples_leaf': 4,\n",
              "   'min_samples_split': 2,\n",
              "   'n_estimators': 1800},\n",
              "  {'bootstrap': False,\n",
              "   'max_depth': 70,\n",
              "   'max_features': 'auto',\n",
              "   'min_samples_leaf': 2,\n",
              "   'min_samples_split': 5,\n",
              "   'n_estimators': 600},\n",
              "  {'bootstrap': True,\n",
              "   'max_depth': 20,\n",
              "   'max_features': 'sqrt',\n",
              "   'min_samples_leaf': 1,\n",
              "   'min_samples_split': 2,\n",
              "   'n_estimators': 1000},\n",
              "  {'bootstrap': False,\n",
              "   'max_depth': 110,\n",
              "   'max_features': 'auto',\n",
              "   'min_samples_leaf': 2,\n",
              "   'min_samples_split': 10,\n",
              "   'n_estimators': 1800},\n",
              "  {'bootstrap': True,\n",
              "   'max_depth': 80,\n",
              "   'max_features': 'auto',\n",
              "   'min_samples_leaf': 1,\n",
              "   'min_samples_split': 5,\n",
              "   'n_estimators': 600},\n",
              "  {'bootstrap': False,\n",
              "   'max_depth': 30,\n",
              "   'max_features': 'sqrt',\n",
              "   'min_samples_leaf': 1,\n",
              "   'min_samples_split': 10,\n",
              "   'n_estimators': 1800},\n",
              "  {'bootstrap': False,\n",
              "   'max_depth': 70,\n",
              "   'max_features': 'sqrt',\n",
              "   'min_samples_leaf': 1,\n",
              "   'min_samples_split': 5,\n",
              "   'n_estimators': 1600},\n",
              "  {'bootstrap': True,\n",
              "   'max_depth': 80,\n",
              "   'max_features': 'sqrt',\n",
              "   'min_samples_leaf': 4,\n",
              "   'min_samples_split': 5,\n",
              "   'n_estimators': 1400},\n",
              "  {'bootstrap': True,\n",
              "   'max_depth': None,\n",
              "   'max_features': 'auto',\n",
              "   'min_samples_leaf': 2,\n",
              "   'min_samples_split': 2,\n",
              "   'n_estimators': 1800},\n",
              "  {'bootstrap': False,\n",
              "   'max_depth': 80,\n",
              "   'max_features': 'sqrt',\n",
              "   'min_samples_leaf': 1,\n",
              "   'min_samples_split': 5,\n",
              "   'n_estimators': 1400},\n",
              "  {'bootstrap': False,\n",
              "   'max_depth': None,\n",
              "   'max_features': 'sqrt',\n",
              "   'min_samples_leaf': 1,\n",
              "   'min_samples_split': 2,\n",
              "   'n_estimators': 400},\n",
              "  {'bootstrap': False,\n",
              "   'max_depth': 40,\n",
              "   'max_features': 'auto',\n",
              "   'min_samples_leaf': 1,\n",
              "   'min_samples_split': 2,\n",
              "   'n_estimators': 1400},\n",
              "  {'bootstrap': True,\n",
              "   'max_depth': 20,\n",
              "   'max_features': 'sqrt',\n",
              "   'min_samples_leaf': 2,\n",
              "   'min_samples_split': 5,\n",
              "   'n_estimators': 1000},\n",
              "  {'bootstrap': False,\n",
              "   'max_depth': 100,\n",
              "   'max_features': 'auto',\n",
              "   'min_samples_leaf': 4,\n",
              "   'min_samples_split': 10,\n",
              "   'n_estimators': 2000},\n",
              "  {'bootstrap': True,\n",
              "   'max_depth': 20,\n",
              "   'max_features': 'sqrt',\n",
              "   'min_samples_leaf': 2,\n",
              "   'min_samples_split': 2,\n",
              "   'n_estimators': 1200},\n",
              "  {'bootstrap': False,\n",
              "   'max_depth': 20,\n",
              "   'max_features': 'sqrt',\n",
              "   'min_samples_leaf': 4,\n",
              "   'min_samples_split': 10,\n",
              "   'n_estimators': 1200},\n",
              "  {'bootstrap': False,\n",
              "   'max_depth': 50,\n",
              "   'max_features': 'sqrt',\n",
              "   'min_samples_leaf': 2,\n",
              "   'min_samples_split': 2,\n",
              "   'n_estimators': 800},\n",
              "  {'bootstrap': False,\n",
              "   'max_depth': 100,\n",
              "   'max_features': 'sqrt',\n",
              "   'min_samples_leaf': 1,\n",
              "   'min_samples_split': 5,\n",
              "   'n_estimators': 800},\n",
              "  {'bootstrap': True,\n",
              "   'max_depth': 50,\n",
              "   'max_features': 'sqrt',\n",
              "   'min_samples_leaf': 4,\n",
              "   'min_samples_split': 10,\n",
              "   'n_estimators': 800},\n",
              "  {'bootstrap': True,\n",
              "   'max_depth': 90,\n",
              "   'max_features': 'sqrt',\n",
              "   'min_samples_leaf': 4,\n",
              "   'min_samples_split': 2,\n",
              "   'n_estimators': 1800},\n",
              "  {'bootstrap': False,\n",
              "   'max_depth': 20,\n",
              "   'max_features': 'sqrt',\n",
              "   'min_samples_leaf': 2,\n",
              "   'min_samples_split': 10,\n",
              "   'n_estimators': 800},\n",
              "  {'bootstrap': True,\n",
              "   'max_depth': 20,\n",
              "   'max_features': 'sqrt',\n",
              "   'min_samples_leaf': 2,\n",
              "   'min_samples_split': 5,\n",
              "   'n_estimators': 1200},\n",
              "  {'bootstrap': True,\n",
              "   'max_depth': 100,\n",
              "   'max_features': 'auto',\n",
              "   'min_samples_leaf': 1,\n",
              "   'min_samples_split': 2,\n",
              "   'n_estimators': 800},\n",
              "  {'bootstrap': True,\n",
              "   'max_depth': None,\n",
              "   'max_features': 'auto',\n",
              "   'min_samples_leaf': 2,\n",
              "   'min_samples_split': 5,\n",
              "   'n_estimators': 800},\n",
              "  {'bootstrap': True,\n",
              "   'max_depth': 60,\n",
              "   'max_features': 'sqrt',\n",
              "   'min_samples_leaf': 2,\n",
              "   'min_samples_split': 2,\n",
              "   'n_estimators': 1000},\n",
              "  {'bootstrap': True,\n",
              "   'max_depth': 10,\n",
              "   'max_features': 'auto',\n",
              "   'min_samples_leaf': 4,\n",
              "   'min_samples_split': 5,\n",
              "   'n_estimators': 200},\n",
              "  {'bootstrap': True,\n",
              "   'max_depth': 60,\n",
              "   'max_features': 'sqrt',\n",
              "   'min_samples_leaf': 2,\n",
              "   'min_samples_split': 10,\n",
              "   'n_estimators': 600},\n",
              "  {'bootstrap': True,\n",
              "   'max_depth': 90,\n",
              "   'max_features': 'sqrt',\n",
              "   'min_samples_leaf': 4,\n",
              "   'min_samples_split': 2,\n",
              "   'n_estimators': 800},\n",
              "  {'bootstrap': True,\n",
              "   'max_depth': 90,\n",
              "   'max_features': 'sqrt',\n",
              "   'min_samples_leaf': 4,\n",
              "   'min_samples_split': 10,\n",
              "   'n_estimators': 400},\n",
              "  {'bootstrap': False,\n",
              "   'max_depth': 90,\n",
              "   'max_features': 'auto',\n",
              "   'min_samples_leaf': 2,\n",
              "   'min_samples_split': 5,\n",
              "   'n_estimators': 200},\n",
              "  {'bootstrap': True,\n",
              "   'max_depth': 110,\n",
              "   'max_features': 'sqrt',\n",
              "   'min_samples_leaf': 1,\n",
              "   'min_samples_split': 2,\n",
              "   'n_estimators': 1000},\n",
              "  {'bootstrap': True,\n",
              "   'max_depth': 90,\n",
              "   'max_features': 'auto',\n",
              "   'min_samples_leaf': 2,\n",
              "   'min_samples_split': 2,\n",
              "   'n_estimators': 2000},\n",
              "  {'bootstrap': False,\n",
              "   'max_depth': 80,\n",
              "   'max_features': 'sqrt',\n",
              "   'min_samples_leaf': 4,\n",
              "   'min_samples_split': 10,\n",
              "   'n_estimators': 400},\n",
              "  {'bootstrap': False,\n",
              "   'max_depth': 70,\n",
              "   'max_features': 'sqrt',\n",
              "   'min_samples_leaf': 4,\n",
              "   'min_samples_split': 2,\n",
              "   'n_estimators': 1200},\n",
              "  {'bootstrap': False,\n",
              "   'max_depth': 110,\n",
              "   'max_features': 'sqrt',\n",
              "   'min_samples_leaf': 2,\n",
              "   'min_samples_split': 2,\n",
              "   'n_estimators': 600},\n",
              "  {'bootstrap': False,\n",
              "   'max_depth': 20,\n",
              "   'max_features': 'auto',\n",
              "   'min_samples_leaf': 1,\n",
              "   'min_samples_split': 2,\n",
              "   'n_estimators': 1800},\n",
              "  {'bootstrap': False,\n",
              "   'max_depth': 50,\n",
              "   'max_features': 'auto',\n",
              "   'min_samples_leaf': 2,\n",
              "   'min_samples_split': 10,\n",
              "   'n_estimators': 2000},\n",
              "  {'bootstrap': False,\n",
              "   'max_depth': 50,\n",
              "   'max_features': 'auto',\n",
              "   'min_samples_leaf': 4,\n",
              "   'min_samples_split': 10,\n",
              "   'n_estimators': 1000},\n",
              "  {'bootstrap': False,\n",
              "   'max_depth': 30,\n",
              "   'max_features': 'auto',\n",
              "   'min_samples_leaf': 4,\n",
              "   'min_samples_split': 5,\n",
              "   'n_estimators': 1000},\n",
              "  {'bootstrap': False,\n",
              "   'max_depth': None,\n",
              "   'max_features': 'sqrt',\n",
              "   'min_samples_leaf': 2,\n",
              "   'min_samples_split': 5,\n",
              "   'n_estimators': 1400},\n",
              "  {'bootstrap': False,\n",
              "   'max_depth': 60,\n",
              "   'max_features': 'sqrt',\n",
              "   'min_samples_leaf': 4,\n",
              "   'min_samples_split': 2,\n",
              "   'n_estimators': 600},\n",
              "  {'bootstrap': True,\n",
              "   'max_depth': 10,\n",
              "   'max_features': 'auto',\n",
              "   'min_samples_leaf': 1,\n",
              "   'min_samples_split': 5,\n",
              "   'n_estimators': 1600},\n",
              "  {'bootstrap': True,\n",
              "   'max_depth': 80,\n",
              "   'max_features': 'auto',\n",
              "   'min_samples_leaf': 2,\n",
              "   'min_samples_split': 2,\n",
              "   'n_estimators': 1800},\n",
              "  {'bootstrap': True,\n",
              "   'max_depth': 100,\n",
              "   'max_features': 'auto',\n",
              "   'min_samples_leaf': 1,\n",
              "   'min_samples_split': 2,\n",
              "   'n_estimators': 1400},\n",
              "  {'bootstrap': True,\n",
              "   'max_depth': 80,\n",
              "   'max_features': 'sqrt',\n",
              "   'min_samples_leaf': 2,\n",
              "   'min_samples_split': 10,\n",
              "   'n_estimators': 1400},\n",
              "  {'bootstrap': True,\n",
              "   'max_depth': 50,\n",
              "   'max_features': 'sqrt',\n",
              "   'min_samples_leaf': 1,\n",
              "   'min_samples_split': 2,\n",
              "   'n_estimators': 200},\n",
              "  {'bootstrap': True,\n",
              "   'max_depth': 10,\n",
              "   'max_features': 'sqrt',\n",
              "   'min_samples_leaf': 4,\n",
              "   'min_samples_split': 2,\n",
              "   'n_estimators': 400},\n",
              "  {'bootstrap': False,\n",
              "   'max_depth': 80,\n",
              "   'max_features': 'auto',\n",
              "   'min_samples_leaf': 4,\n",
              "   'min_samples_split': 10,\n",
              "   'n_estimators': 1000},\n",
              "  {'bootstrap': False,\n",
              "   'max_depth': None,\n",
              "   'max_features': 'auto',\n",
              "   'min_samples_leaf': 2,\n",
              "   'min_samples_split': 10,\n",
              "   'n_estimators': 1200},\n",
              "  {'bootstrap': True,\n",
              "   'max_depth': 20,\n",
              "   'max_features': 'sqrt',\n",
              "   'min_samples_leaf': 1,\n",
              "   'min_samples_split': 10,\n",
              "   'n_estimators': 1600},\n",
              "  {'bootstrap': True,\n",
              "   'max_depth': None,\n",
              "   'max_features': 'auto',\n",
              "   'min_samples_leaf': 2,\n",
              "   'min_samples_split': 10,\n",
              "   'n_estimators': 1600},\n",
              "  {'bootstrap': False,\n",
              "   'max_depth': 10,\n",
              "   'max_features': 'auto',\n",
              "   'min_samples_leaf': 4,\n",
              "   'min_samples_split': 2,\n",
              "   'n_estimators': 1800},\n",
              "  {'bootstrap': True,\n",
              "   'max_depth': 70,\n",
              "   'max_features': 'auto',\n",
              "   'min_samples_leaf': 2,\n",
              "   'min_samples_split': 2,\n",
              "   'n_estimators': 1400},\n",
              "  {'bootstrap': False,\n",
              "   'max_depth': 80,\n",
              "   'max_features': 'sqrt',\n",
              "   'min_samples_leaf': 1,\n",
              "   'min_samples_split': 10,\n",
              "   'n_estimators': 1000},\n",
              "  {'bootstrap': False,\n",
              "   'max_depth': 60,\n",
              "   'max_features': 'auto',\n",
              "   'min_samples_leaf': 2,\n",
              "   'min_samples_split': 10,\n",
              "   'n_estimators': 2000},\n",
              "  {'bootstrap': False,\n",
              "   'max_depth': 80,\n",
              "   'max_features': 'sqrt',\n",
              "   'min_samples_leaf': 4,\n",
              "   'min_samples_split': 2,\n",
              "   'n_estimators': 1400},\n",
              "  {'bootstrap': False,\n",
              "   'max_depth': 20,\n",
              "   'max_features': 'sqrt',\n",
              "   'min_samples_leaf': 4,\n",
              "   'min_samples_split': 2,\n",
              "   'n_estimators': 800},\n",
              "  {'bootstrap': True,\n",
              "   'max_depth': 60,\n",
              "   'max_features': 'sqrt',\n",
              "   'min_samples_leaf': 2,\n",
              "   'min_samples_split': 5,\n",
              "   'n_estimators': 1800},\n",
              "  {'bootstrap': False,\n",
              "   'max_depth': 90,\n",
              "   'max_features': 'auto',\n",
              "   'min_samples_leaf': 1,\n",
              "   'min_samples_split': 5,\n",
              "   'n_estimators': 400},\n",
              "  {'bootstrap': True,\n",
              "   'max_depth': 90,\n",
              "   'max_features': 'auto',\n",
              "   'min_samples_leaf': 1,\n",
              "   'min_samples_split': 5,\n",
              "   'n_estimators': 1600},\n",
              "  {'bootstrap': False,\n",
              "   'max_depth': 90,\n",
              "   'max_features': 'sqrt',\n",
              "   'min_samples_leaf': 2,\n",
              "   'min_samples_split': 10,\n",
              "   'n_estimators': 400},\n",
              "  {'bootstrap': True,\n",
              "   'max_depth': None,\n",
              "   'max_features': 'sqrt',\n",
              "   'min_samples_leaf': 1,\n",
              "   'min_samples_split': 10,\n",
              "   'n_estimators': 1600},\n",
              "  {'bootstrap': True,\n",
              "   'max_depth': 100,\n",
              "   'max_features': 'sqrt',\n",
              "   'min_samples_leaf': 1,\n",
              "   'min_samples_split': 5,\n",
              "   'n_estimators': 2000},\n",
              "  {'bootstrap': True,\n",
              "   'max_depth': 10,\n",
              "   'max_features': 'sqrt',\n",
              "   'min_samples_leaf': 2,\n",
              "   'min_samples_split': 5,\n",
              "   'n_estimators': 1000},\n",
              "  {'bootstrap': True,\n",
              "   'max_depth': 80,\n",
              "   'max_features': 'auto',\n",
              "   'min_samples_leaf': 4,\n",
              "   'min_samples_split': 5,\n",
              "   'n_estimators': 200},\n",
              "  {'bootstrap': False,\n",
              "   'max_depth': 60,\n",
              "   'max_features': 'auto',\n",
              "   'min_samples_leaf': 4,\n",
              "   'min_samples_split': 2,\n",
              "   'n_estimators': 2000},\n",
              "  {'bootstrap': True,\n",
              "   'max_depth': 100,\n",
              "   'max_features': 'auto',\n",
              "   'min_samples_leaf': 2,\n",
              "   'min_samples_split': 10,\n",
              "   'n_estimators': 600},\n",
              "  {'bootstrap': True,\n",
              "   'max_depth': 100,\n",
              "   'max_features': 'auto',\n",
              "   'min_samples_leaf': 4,\n",
              "   'min_samples_split': 5,\n",
              "   'n_estimators': 1000},\n",
              "  {'bootstrap': False,\n",
              "   'max_depth': None,\n",
              "   'max_features': 'auto',\n",
              "   'min_samples_leaf': 2,\n",
              "   'min_samples_split': 10,\n",
              "   'n_estimators': 800},\n",
              "  {'bootstrap': False,\n",
              "   'max_depth': 70,\n",
              "   'max_features': 'sqrt',\n",
              "   'min_samples_leaf': 4,\n",
              "   'min_samples_split': 5,\n",
              "   'n_estimators': 800},\n",
              "  {'bootstrap': False,\n",
              "   'max_depth': 40,\n",
              "   'max_features': 'sqrt',\n",
              "   'min_samples_leaf': 1,\n",
              "   'min_samples_split': 10,\n",
              "   'n_estimators': 600},\n",
              "  {'bootstrap': True,\n",
              "   'max_depth': 100,\n",
              "   'max_features': 'sqrt',\n",
              "   'min_samples_leaf': 1,\n",
              "   'min_samples_split': 5,\n",
              "   'n_estimators': 400},\n",
              "  {'bootstrap': True,\n",
              "   'max_depth': 80,\n",
              "   'max_features': 'sqrt',\n",
              "   'min_samples_leaf': 4,\n",
              "   'min_samples_split': 2,\n",
              "   'n_estimators': 1600},\n",
              "  {'bootstrap': True,\n",
              "   'max_depth': 100,\n",
              "   'max_features': 'sqrt',\n",
              "   'min_samples_leaf': 4,\n",
              "   'min_samples_split': 10,\n",
              "   'n_estimators': 800},\n",
              "  {'bootstrap': True,\n",
              "   'max_depth': 10,\n",
              "   'max_features': 'sqrt',\n",
              "   'min_samples_leaf': 2,\n",
              "   'min_samples_split': 10,\n",
              "   'n_estimators': 1000},\n",
              "  {'bootstrap': True,\n",
              "   'max_depth': 110,\n",
              "   'max_features': 'sqrt',\n",
              "   'min_samples_leaf': 1,\n",
              "   'min_samples_split': 10,\n",
              "   'n_estimators': 600},\n",
              "  {'bootstrap': False,\n",
              "   'max_depth': None,\n",
              "   'max_features': 'sqrt',\n",
              "   'min_samples_leaf': 4,\n",
              "   'min_samples_split': 5,\n",
              "   'n_estimators': 2000},\n",
              "  {'bootstrap': True,\n",
              "   'max_depth': 40,\n",
              "   'max_features': 'sqrt',\n",
              "   'min_samples_leaf': 1,\n",
              "   'min_samples_split': 5,\n",
              "   'n_estimators': 800},\n",
              "  {'bootstrap': True,\n",
              "   'max_depth': 40,\n",
              "   'max_features': 'auto',\n",
              "   'min_samples_leaf': 4,\n",
              "   'min_samples_split': 2,\n",
              "   'n_estimators': 600},\n",
              "  {'bootstrap': False,\n",
              "   'max_depth': 30,\n",
              "   'max_features': 'sqrt',\n",
              "   'min_samples_leaf': 4,\n",
              "   'min_samples_split': 2,\n",
              "   'n_estimators': 600},\n",
              "  {'bootstrap': False,\n",
              "   'max_depth': 40,\n",
              "   'max_features': 'auto',\n",
              "   'min_samples_leaf': 2,\n",
              "   'min_samples_split': 10,\n",
              "   'n_estimators': 400},\n",
              "  {'bootstrap': False,\n",
              "   'max_depth': 10,\n",
              "   'max_features': 'auto',\n",
              "   'min_samples_leaf': 1,\n",
              "   'min_samples_split': 2,\n",
              "   'n_estimators': 1000},\n",
              "  {'bootstrap': False,\n",
              "   'max_depth': 100,\n",
              "   'max_features': 'auto',\n",
              "   'min_samples_leaf': 4,\n",
              "   'min_samples_split': 5,\n",
              "   'n_estimators': 200},\n",
              "  {'bootstrap': True,\n",
              "   'max_depth': 20,\n",
              "   'max_features': 'sqrt',\n",
              "   'min_samples_leaf': 2,\n",
              "   'min_samples_split': 2,\n",
              "   'n_estimators': 2000},\n",
              "  {'bootstrap': True,\n",
              "   'max_depth': 40,\n",
              "   'max_features': 'auto',\n",
              "   'min_samples_leaf': 2,\n",
              "   'min_samples_split': 10,\n",
              "   'n_estimators': 2000}],\n",
              " 'rank_test_score': array([ 42,  31,  60,  84,  22,  48,  69,  72,  99,  81,   1,  75,  64,\n",
              "         57,  59,  86,  97,  37,  88,  52,  67,  73,  24,  35,  74,  77,\n",
              "         98,  11,  78,  23,  46,  71,  75,  27,  26,  58,  14,  62,  34,\n",
              "         17,   4,  15,  30,   8,  96,  39,  38,  51,  45,  70, 100,  89,\n",
              "         79,  83,  68,  53,  40,  35,  61,  29,  56,  12,  79,  92,  18,\n",
              "          9,  81,  41,  65,  89,  47,  48,  16,  95,  55,  63,  19,  32,\n",
              "         13,   5,  84,   6,   3,  91,  48,  66,  42,  20,  27,  21,   7,\n",
              "         44,  33,   2,  53,  93,  94,  87,  25,  10], dtype=int32),\n",
              " 'split0_test_score': array([-3.89289285, -3.88958452, -3.91905946, -4.38534862, -3.86792755,\n",
              "        -3.89596769, -3.92120519, -3.9549227 , -4.86916788, -4.33887388,\n",
              "        -3.86007438, -3.95368423, -3.91009296, -3.91946058, -3.9124783 ,\n",
              "        -4.38541654, -4.85393502, -3.90304614, -4.52800747, -3.89172584,\n",
              "        -3.9138055 , -3.94955197, -3.86998956, -3.88706081, -3.95014034,\n",
              "        -3.9817906 , -4.86995699, -3.87954922, -4.38980002, -3.88207601,\n",
              "        -3.88291184, -3.93869766, -3.95368423, -3.86489616, -3.86872749,\n",
              "        -3.9124783 , -3.88131134, -3.90963504, -3.8852301 , -3.88056441,\n",
              "        -3.86887317, -3.86808914, -3.87045712, -3.86629095, -4.85334474,\n",
              "        -3.89941515, -3.88871032, -3.88991324, -3.89025564, -3.93837613,\n",
              "        -4.86897912, -4.5280668 , -4.38990903, -4.38536424, -3.92320777,\n",
              "        -3.89322341, -3.88630314, -3.88706081, -3.90915928, -3.87430919,\n",
              "        -3.9151323 , -3.86517732, -4.38990903, -4.52824799, -3.87462733,\n",
              "        -3.86789257, -4.33887388, -3.88728753, -3.91008527, -4.5280668 ,\n",
              "        -3.89380042, -3.89596769, -3.87723452, -4.7816009 , -3.89658927,\n",
              "        -3.91133166, -3.87443927, -3.88671709, -3.87717784, -3.87157853,\n",
              "        -4.38534862, -3.86083699, -3.86089893, -4.5279929 , -3.89596769,\n",
              "        -3.91357042, -3.89289285, -3.8681335 , -3.86489616, -3.86852437,\n",
              "        -3.87405091, -3.89112326, -3.8859212 , -3.86160403, -3.89322341,\n",
              "        -4.52821682, -4.63535105, -4.38543077, -3.880983  , -3.86933414]),\n",
              " 'split0_train_score': array([-1.96783672e+00, -2.29513490e+00, -1.73775813e+00, -2.35410821e+00,\n",
              "        -2.84056317e+00, -2.17419414e+00, -1.21507209e+00, -8.27688990e-01,\n",
              "        -0.00000000e+00, -2.47214306e+00, -2.58925273e+00, -8.29063356e-01,\n",
              "        -2.10466346e+00, -1.73753003e+00, -1.95484357e+00, -2.35413143e+00,\n",
              "        -1.42829046e+00, -1.44386359e+00, -2.15817352e+00, -1.75779151e+00,\n",
              "        -1.77172709e+00, -8.29198250e-01, -2.80473787e+00, -1.79084406e+00,\n",
              "        -8.28908023e-01, -1.09132420e-03, -0.00000000e+00, -2.19984016e+00,\n",
              "        -2.53023483e+00, -2.10104371e+00, -2.29122676e+00, -1.04830812e+00,\n",
              "        -8.29063356e-01, -2.87385220e+00, -2.80602794e+00, -1.95484357e+00,\n",
              "        -2.19925290e+00, -1.44186530e+00, -1.89930321e+00, -2.09899632e+00,\n",
              "        -2.52305087e+00, -2.66719211e+00, -2.80639288e+00, -2.87694637e+00,\n",
              "        -1.42788965e+00, -1.44363607e+00, -1.79030649e+00, -2.29445779e+00,\n",
              "        -2.17400557e+00, -1.04766873e+00, -0.00000000e+00, -2.15817352e+00,\n",
              "        -2.53023483e+00, -2.35408406e+00, -1.21275366e+00, -2.17227819e+00,\n",
              "        -2.04946831e+00, -1.79084406e+00, -1.44011155e+00, -2.66657239e+00,\n",
              "        -1.45544064e+00, -2.84350502e+00, -2.53023483e+00, -2.15817352e+00,\n",
              "        -2.56265103e+00, -2.39363040e+00, -2.47214306e+00, -1.78941237e+00,\n",
              "        -1.77129382e+00, -2.15817352e+00, -2.17420400e+00, -2.17419414e+00,\n",
              "        -2.19988974e+00, -1.07290411e+00, -1.75030329e+00, -1.95488160e+00,\n",
              "        -2.56267267e+00, -1.96201087e+00, -2.40470477e+00, -2.48066700e+00,\n",
              "        -2.35410821e+00, -2.39861545e+00, -2.47379178e+00, -2.15817352e+00,\n",
              "        -2.17419414e+00, -1.77515953e+00, -1.96783672e+00, -2.80447214e+00,\n",
              "        -2.87385220e+00, -2.74216709e+00, -2.56551393e+00, -2.17505121e+00,\n",
              "        -1.96394062e+00, -2.47908028e+00, -2.17227819e+00, -2.15817352e+00,\n",
              "        -1.39326253e+00, -2.35414625e+00, -2.10062668e+00, -2.39271473e+00]),\n",
              " 'split1_test_score': array([-3.82749388, -3.81607072, -3.83781642, -4.56201373, -3.82530847,\n",
              "        -3.82822898, -3.85667991, -3.88435295, -5.03014051, -4.51664681,\n",
              "        -3.75881546, -3.89100669, -3.84998475, -3.83473888, -3.85238609,\n",
              "        -4.56197608, -5.10480611, -3.82242259, -4.69658271, -3.80271211,\n",
              "        -3.86361725, -3.8864053 , -3.82341598, -3.80818619, -3.88838982,\n",
              "        -3.89717609, -5.02901199, -3.81371897, -4.45727677, -3.81895968,\n",
              "        -3.83497456, -3.86131293, -3.89100669, -3.82355713, -3.82474462,\n",
              "        -3.85235853, -3.81398393, -3.82335766, -3.80233803, -3.81597694,\n",
              "        -3.7712561 , -3.81478305, -3.82921383, -3.80941975, -5.10266499,\n",
              "        -3.82206904, -3.80782233, -3.83505394, -3.82773661, -3.85746476,\n",
              "        -5.0302423 , -4.69673346, -4.4572164 , -4.5618249 , -3.85706828,\n",
              "        -3.8351805 , -3.80152226, -3.80818619, -3.82184176, -3.82539601,\n",
              "        -3.83541515, -3.83819317, -4.4572164 , -4.6967201 , -3.81506883,\n",
              "        -3.79456347, -4.51664681, -3.81226608, -3.86229421, -4.69673346,\n",
              "        -3.82741565, -3.82822898, -3.81839119, -4.97244031, -3.81484381,\n",
              "        -3.8605196 , -3.81514622, -3.82247085, -3.81746532, -3.77312813,\n",
              "        -4.56201373, -3.78925242, -3.75606873, -4.69675028, -3.82822898,\n",
              "        -3.86713021, -3.82749388, -3.82283123, -3.82355713, -3.82033826,\n",
              "        -3.80328619, -3.82604744, -3.82690895, -3.75193872, -3.8351805 ,\n",
              "        -4.69649131, -4.77130299, -4.56303763, -3.8213918 , -3.79363173]),\n",
              " 'split1_train_score': array([-1.97956021e+00, -2.32329288e+00, -1.75243643e+00, -2.43699062e+00,\n",
              "        -2.86679903e+00, -2.17541031e+00, -1.20507320e+00, -8.32345510e-01,\n",
              "        -0.00000000e+00, -2.48770484e+00, -2.60556133e+00, -8.30215183e-01,\n",
              "        -2.11999353e+00, -1.75393604e+00, -1.94309480e+00, -2.43699130e+00,\n",
              "        -1.42612126e+00, -1.45516073e+00, -2.27298457e+00, -1.76291453e+00,\n",
              "        -1.76669298e+00, -8.29776826e-01, -2.81959964e+00, -1.80206109e+00,\n",
              "        -8.29597521e-01, -8.26484018e-04, -0.00000000e+00, -2.22113215e+00,\n",
              "        -2.58576365e+00, -2.11357544e+00, -2.29591812e+00, -1.04332125e+00,\n",
              "        -8.30215183e-01, -2.90352607e+00, -2.81916387e+00, -1.94309820e+00,\n",
              "        -2.22088247e+00, -1.44932192e+00, -1.90920834e+00, -2.11207367e+00,\n",
              "        -2.55295849e+00, -2.68710484e+00, -2.82574082e+00, -2.90339019e+00,\n",
              "        -1.42501370e+00, -1.45565616e+00, -1.80041595e+00, -2.29172445e+00,\n",
              "        -2.17531034e+00, -1.04414224e+00, -1.10705226e-03, -2.27306121e+00,\n",
              "        -2.58577186e+00, -2.43717914e+00, -1.20524055e+00, -2.17534694e+00,\n",
              "        -2.05392711e+00, -1.80206109e+00, -1.44593803e+00, -2.68328449e+00,\n",
              "        -1.47033562e+00, -2.87769177e+00, -2.58577186e+00, -2.27290337e+00,\n",
              "        -2.57334609e+00, -2.39392426e+00, -2.48770484e+00, -1.80276551e+00,\n",
              "        -1.77061381e+00, -2.27306121e+00, -2.17427551e+00, -2.17541031e+00,\n",
              "        -2.21929134e+00, -1.08446347e+00, -1.75314235e+00, -1.94500800e+00,\n",
              "        -2.57353828e+00, -1.97249215e+00, -2.42864966e+00, -2.51208710e+00,\n",
              "        -2.43699062e+00, -2.40122499e+00, -2.50373769e+00, -2.27266400e+00,\n",
              "        -2.17541031e+00, -1.76647585e+00, -1.97956021e+00, -2.82016581e+00,\n",
              "        -2.90352607e+00, -2.76604343e+00, -2.57298470e+00, -2.17515996e+00,\n",
              "        -1.97392555e+00, -2.50438478e+00, -2.17534694e+00, -2.27292947e+00,\n",
              "        -1.41810252e+00, -2.43737643e+00, -2.11210835e+00, -2.39223910e+00]),\n",
              " 'split2_test_score': array([-3.92819863, -3.913667  , -3.95035934, -4.76979681, -3.90923839,\n",
              "        -3.94016958, -3.96801432, -3.97778032, -5.12146252, -4.67830686,\n",
              "        -3.9092443 , -3.97853405, -3.95964148, -3.94660431, -3.94016273,\n",
              "        -4.76992046, -4.92731769, -3.92018062, -4.6391428 , -3.97192907,\n",
              "        -3.96301598, -3.98112317, -3.91052431, -3.9500807 , -3.98019925,\n",
              "        -3.99834552, -5.12058762, -3.90015825, -4.6856845 , -3.90252373,\n",
              "        -3.9416384 , -3.9645032 , -3.97853405, -3.91860579, -3.91065662,\n",
              "        -3.94014929, -3.9029274 , -3.97978291, -3.94669406, -3.90482478,\n",
              "        -3.91596084, -3.9163576 , -3.91414363, -3.91345751, -4.92730043,\n",
              "        -3.92520841, -3.9499422 , -3.93956438, -3.94102669, -3.965698  ,\n",
              "        -5.12220902, -4.63907716, -4.68565468, -4.76926153, -3.96423369,\n",
              "        -3.93971367, -3.95901918, -3.9500807 , -3.97647689, -3.91227032,\n",
              "        -3.93659963, -3.89374919, -4.68565468, -4.63932977, -3.91169993,\n",
              "        -3.92807914, -4.67830686, -3.94763445, -3.95635025, -4.63907716,\n",
              "        -3.93911827, -3.94016958, -3.90481644, -5.05906002, -3.965289  ,\n",
              "        -3.94521741, -3.91185721, -3.91834718, -3.90295642, -3.91598942,\n",
              "        -4.76979681, -3.93060545, -3.9213744 , -4.63946551, -3.94016958,\n",
              "        -3.95546187, -3.92819863, -3.91084503, -3.91860579, -3.9130637 ,\n",
              "        -3.90668679, -3.9401421 , -3.92028129, -3.92189471, -3.93971367,\n",
              "        -4.64006105, -4.96226379, -4.7690846 , -3.9016056 , -3.92923182]),\n",
              " 'split2_train_score': array([-1.91109706e+00, -2.23706443e+00, -1.68857108e+00, -2.28234402e+00,\n",
              "        -2.78286628e+00, -2.11334570e+00, -1.16569085e+00, -8.09078974e-01,\n",
              "        -0.00000000e+00, -2.39673486e+00, -2.52382405e+00, -8.07993271e-01,\n",
              "        -2.04602283e+00, -1.68957322e+00, -1.88229398e+00, -2.28233744e+00,\n",
              "        -1.44402043e+00, -1.40121731e+00, -2.21646459e+00, -1.70316355e+00,\n",
              "        -1.71306540e+00, -8.05626806e-01, -2.75156372e+00, -1.74442130e+00,\n",
              "        -8.06411192e-01, -7.39051095e-04, -0.00000000e+00, -2.15707160e+00,\n",
              "        -2.38711071e+00, -2.05165616e+00, -2.22451217e+00, -1.01161357e+00,\n",
              "        -8.07993271e-01, -2.82450984e+00, -2.75175741e+00, -1.88228908e+00,\n",
              "        -2.15469756e+00, -1.40545050e+00, -1.84888462e+00, -2.05247731e+00,\n",
              "        -2.45859198e+00, -2.61451671e+00, -2.75385793e+00, -2.82407810e+00,\n",
              "        -1.44398190e+00, -1.40068111e+00, -1.74321952e+00, -2.22962207e+00,\n",
              "        -2.11332394e+00, -1.01045546e+00, -0.00000000e+00, -2.21645415e+00,\n",
              "        -2.38717229e+00, -2.28227464e+00, -1.16638973e+00, -2.11617281e+00,\n",
              "        -1.99258287e+00, -1.74442130e+00, -1.40212200e+00, -2.60623688e+00,\n",
              "        -1.41113139e+00, -2.78333309e+00, -2.38717229e+00, -2.21646094e+00,\n",
              "        -2.50481900e+00, -2.32399949e+00, -2.39673486e+00, -1.74545987e+00,\n",
              "        -1.71305605e+00, -2.21645415e+00, -2.11299570e+00, -2.11334570e+00,\n",
              "        -2.15215047e+00, -9.78356524e-01, -1.70106039e+00, -1.88304607e+00,\n",
              "        -2.50491968e+00, -1.91177332e+00, -2.34845290e+00, -2.41942674e+00,\n",
              "        -2.28234402e+00, -2.32882275e+00, -2.41602671e+00, -2.21649328e+00,\n",
              "        -2.11334570e+00, -1.71283258e+00, -1.91109706e+00, -2.75112802e+00,\n",
              "        -2.82450984e+00, -2.68819879e+00, -2.50724202e+00, -2.11069761e+00,\n",
              "        -1.91197889e+00, -2.41739650e+00, -2.11617281e+00, -2.21655919e+00,\n",
              "        -1.24331894e+00, -2.28171898e+00, -2.04946222e+00, -2.32172728e+00]),\n",
              " 'std_fit_time': array([4.16813375e-01, 1.31457582e+00, 3.14090304e-01, 2.54102798e-01,\n",
              "        6.33803492e-01, 3.68065675e-01, 4.47434824e-01, 1.87203959e-02,\n",
              "        3.03298752e+00, 3.42022644e+00, 7.62205734e-01, 7.55340173e-01,\n",
              "        5.18911338e-01, 1.40077007e+00, 2.90817373e-01, 9.56278417e-01,\n",
              "        6.07841866e-02, 2.15594437e-02, 1.49812842e-01, 1.38236979e-02,\n",
              "        1.95804683e-01, 2.38713961e-01, 9.96675008e-01, 8.44265718e-01,\n",
              "        5.52980442e-01, 5.43740152e-02, 8.68211795e-01, 6.58843578e-03,\n",
              "        1.10737710e+00, 3.05128735e-01, 3.23339221e-01, 4.64781462e-01,\n",
              "        1.16319348e+00, 1.22119846e+00, 2.00492493e-01, 1.25379251e+00,\n",
              "        8.48260663e-01, 1.10597788e+00, 4.24993131e-02, 2.38423110e-02,\n",
              "        8.02417704e-03, 2.96777162e-02, 3.50456056e-02, 1.71805045e-01,\n",
              "        4.45261913e-01, 5.22404159e-02, 8.15364818e-02, 7.44391988e-03,\n",
              "        9.92586748e-01, 1.90688578e-01, 5.20186587e-01, 1.84793156e+00,\n",
              "        5.06895493e-01, 3.16841683e-01, 6.90274070e-01, 3.71624089e-01,\n",
              "        1.77631937e+00, 1.72953792e+00, 4.41291214e-01, 6.09968704e-01,\n",
              "        1.69002866e-01, 3.75938990e-03, 1.12574850e+00, 7.66349247e-01,\n",
              "        7.08554799e-01, 7.78587655e-01, 1.20823816e+00, 4.62245528e-01,\n",
              "        2.95617970e-01, 5.24142267e-02, 3.05065995e-01, 9.77454228e-03,\n",
              "        5.01263107e-03, 2.66023390e-02, 3.62939552e-02, 2.05715165e-02,\n",
              "        2.49832339e-02, 2.36377326e-02, 5.89469426e-03, 1.73997174e-02,\n",
              "        1.24928989e-01, 3.72448594e-02, 3.25271179e-01, 3.36507011e-02,\n",
              "        2.47605959e-02, 2.02267093e-02, 2.42223309e-02, 2.73554518e-02,\n",
              "        1.03552927e-02, 1.87337719e-02, 2.31965549e-02, 4.08251236e-02,\n",
              "        3.26638875e-02, 6.87708251e-04, 1.77244733e-02, 6.23531897e-02,\n",
              "        1.28289353e-02, 2.15848473e-02, 4.09513438e-02, 6.78854459e-01]),\n",
              " 'std_score_time': array([8.71680705e-02, 2.24767781e-01, 2.43104414e-03, 1.62630391e-02,\n",
              "        1.20985999e-01, 4.68417910e-02, 8.39146720e-02, 6.62529526e-03,\n",
              "        1.37550465e-01, 7.71488147e-02, 7.31905739e-02, 8.97699007e-02,\n",
              "        8.38930425e-03, 1.57212611e-01, 9.90613839e-02, 1.04231060e-02,\n",
              "        2.13805672e-03, 6.33355125e-03, 1.47906659e-02, 4.12026286e-03,\n",
              "        1.33526399e-02, 8.48219588e-03, 1.15633300e-01, 1.93162406e-01,\n",
              "        5.83850939e-02, 3.61468498e-02, 1.72292923e-02, 7.74092100e-03,\n",
              "        8.20056096e-02, 2.89562486e-02, 9.13858934e-02, 1.61851991e-02,\n",
              "        4.87548297e-03, 2.54926961e-03, 1.79247227e-03, 1.93154335e-01,\n",
              "        1.04215814e-01, 2.92979294e-03, 3.03192500e-03, 1.26311401e-02,\n",
              "        1.17591262e-04, 1.06083419e-03, 1.39527809e-03, 2.21842860e-02,\n",
              "        9.85864761e-04, 1.04377083e-02, 2.81759625e-01, 8.78185183e-04,\n",
              "        1.75583836e-01, 9.74606148e-02, 2.63715262e-01, 1.54921107e-02,\n",
              "        5.66353770e-02, 1.85204709e-01, 1.58524930e-01, 2.16352601e-02,\n",
              "        1.54462464e-01, 1.35687024e-01, 4.18696380e-02, 6.62839007e-02,\n",
              "        2.42836812e-02, 4.11245680e-03, 5.00477293e-02, 1.16153549e-01,\n",
              "        1.92504587e-02, 1.02264769e-01, 1.17612571e-01, 8.16225456e-02,\n",
              "        1.04847111e-02, 3.03191180e-03, 3.27347598e-03, 5.76628088e-03,\n",
              "        1.61302697e-02, 5.60949792e-03, 7.14626012e-03, 6.23128819e-04,\n",
              "        8.07335820e-03, 1.61542559e-02, 4.82430845e-03, 1.33289445e-03,\n",
              "        5.87363235e-03, 4.59288127e-03, 2.70430246e-03, 2.54532336e-03,\n",
              "        1.72190125e-02, 1.86712733e-03, 4.67659191e-03, 6.85679758e-03,\n",
              "        3.66754027e-03, 3.45058921e-03, 4.12950990e-03, 1.40998615e-02,\n",
              "        4.83085881e-03, 3.43439725e-03, 5.46202506e-03, 3.89382608e-03,\n",
              "        1.09548112e-02, 1.71558343e-03, 1.14957027e-02, 6.70450881e-02]),\n",
              " 'std_test_score': array([0.04171993, 0.04151209, 0.04742951, 0.1571216 , 0.03426563,\n",
              "        0.04603505, 0.0456435 , 0.03976491, 0.10429897, 0.13862497,\n",
              "        0.06262755, 0.03682847, 0.04483631, 0.04764268, 0.03663975,\n",
              "        0.15714728, 0.10531617, 0.04262287, 0.06997461, 0.06911374,\n",
              "        0.04058001, 0.03937811, 0.0355903 , 0.0580486 , 0.03821814,\n",
              "        0.04430818, 0.10354833, 0.03686327, 0.12661   , 0.03556642,\n",
              "        0.04361953, 0.04384639, 0.03682847, 0.03891285, 0.03507676,\n",
              "        0.0366474 , 0.03787578, 0.0639734 , 0.05914913, 0.03749673,\n",
              "        0.06026405, 0.04148463, 0.03467723, 0.04253479, 0.10455342,\n",
              "        0.0438247 , 0.05820488, 0.04268386, 0.0463333 , 0.04595598,\n",
              "        0.10466299, 0.06999682, 0.12657006, 0.15689538, 0.04414872,\n",
              "        0.04276228, 0.06436071, 0.0580486 , 0.06330528, 0.03556011,\n",
              "        0.04353029, 0.02268374, 0.12657006, 0.06993303, 0.03980391,\n",
              "        0.05459549, 0.13862497, 0.05537204, 0.0383999 , 0.06999682,\n",
              "        0.04587195, 0.04603505, 0.03604414, 0.11590524, 0.06149592,\n",
              "        0.03480713, 0.03981734, 0.03988917, 0.03580634, 0.05969753,\n",
              "        0.1571216 , 0.05770872, 0.06829073, 0.07006881, 0.04603505,\n",
              "        0.03607719, 0.04171993, 0.03593667, 0.03891285, 0.03786476,\n",
              "        0.04315918, 0.04673246, 0.03855941, 0.07035346, 0.04276228,\n",
              "        0.06992839, 0.13408989, 0.1567694 , 0.03401087, 0.0554837 ]),\n",
              " 'std_train_score': array([0.02989618, 0.03590171, 0.02731219, 0.06318857, 0.03505862,\n",
              "        0.02897514, 0.02131628, 0.0100518 , 0.        , 0.03972699,\n",
              "        0.03532054, 0.01021485, 0.03187719, 0.02730809, 0.03179486,\n",
              "        0.06319102, 0.00797578, 0.02322887, 0.04687328, 0.02704038,\n",
              "        0.02654651, 0.01125054, 0.02920664, 0.0249516 , 0.0107713 ,\n",
              "        0.00014977, 0.        , 0.02663801, 0.08368656, 0.02672945,\n",
              "        0.03261161, 0.01625059, 0.01021485, 0.03258966, 0.02917661,\n",
              "        0.03179772, 0.02755491, 0.01916693, 0.02641358, 0.02557508,\n",
              "        0.03937632, 0.03062361, 0.0303707 , 0.03297261, 0.00834682,\n",
              "        0.02359818, 0.02492392, 0.0299404 , 0.02891804, 0.0167732 ,\n",
              "        0.00052187, 0.04690437, 0.08366138, 0.06329542, 0.02031816,\n",
              "        0.02720051, 0.02792639, 0.0249516 , 0.01942792, 0.03309247,\n",
              "        0.02514472, 0.03900564, 0.08366138, 0.04684028, 0.03010148,\n",
              "        0.03289381, 0.03972699, 0.02448143, 0.02729468, 0.04690437,\n",
              "        0.02887074, 0.02897514, 0.02821221, 0.04752958, 0.02391061,\n",
              "        0.03179293, 0.03011456, 0.02650041, 0.03361407, 0.03847587,\n",
              "        0.06318857, 0.0335326 , 0.03640326, 0.04674329, 0.02897514,\n",
              "        0.02756337, 0.02989618, 0.02954865, 0.03258966, 0.03256181,\n",
              "        0.0293892 , 0.03036224, 0.02715615, 0.03653335, 0.02720051,\n",
              "        0.04685133, 0.0772078 , 0.06359788, 0.02723186, 0.03335226])}"
            ]
          },
          "metadata": {},
          "execution_count": 13
        }
      ]
    },
    {
      "cell_type": "markdown",
      "source": [
        "# Evaluation Function"
      ],
      "metadata": {
        "id": "c7aj6ZNk3-w1"
      }
    },
    {
      "cell_type": "code",
      "source": [
        "def evaluate(model, test_features, test_labels):\n",
        "    predictions = model.predict(test_features)\n",
        "    errors = abs(predictions - test_labels)\n",
        "    mape = 100 * np.mean(errors / test_labels)\n",
        "    accuracy = 100 - mape\n",
        "    print('Model Performance')\n",
        "    print('Average Error: {:0.4f} degrees.'.format(np.mean(errors)))\n",
        "    print('Accuracy = {:0.2f}%.'.format(accuracy))\n",
        "    \n",
        "    return accuracy"
      ],
      "metadata": {
        "id": "hmD5joPo39iW"
      },
      "execution_count": 14,
      "outputs": []
    },
    {
      "cell_type": "markdown",
      "source": [
        "## Evaluate the Default Model\n"
      ],
      "metadata": {
        "id": "LMS6jVq14Au5"
      }
    },
    {
      "cell_type": "code",
      "source": [
        "base_model = RandomForestRegressor(n_estimators = 10, random_state = 42)\n",
        "base_model.fit(train_features, train_labels)\n",
        "base_accuracy = evaluate(base_model, test_features, test_labels)"
      ],
      "metadata": {
        "colab": {
          "base_uri": "https://localhost:8080/"
        },
        "id": "IO9KgG2c4BB4",
        "outputId": "5e3362bd-92b3-4ae5-8b92-80137ffed2e6"
      },
      "execution_count": 15,
      "outputs": [
        {
          "output_type": "stream",
          "name": "stdout",
          "text": [
            "Model Performance\n",
            "Average Error: 3.9170 degrees.\n",
            "Accuracy = 93.36%.\n"
          ]
        }
      ]
    },
    {
      "cell_type": "markdown",
      "source": [
        "## Evaluate the Best Random Search Model\n"
      ],
      "metadata": {
        "id": "VsLJV_Tx4Dob"
      }
    },
    {
      "cell_type": "code",
      "source": [
        "best_random = rf_random.best_estimator_\n",
        "random_accuracy = evaluate(best_random, test_features, test_labels)"
      ],
      "metadata": {
        "colab": {
          "base_uri": "https://localhost:8080/"
        },
        "id": "VcKfg5ul4D9w",
        "outputId": "a297bd44-e5a7-46d6-d848-b29ce624f39b"
      },
      "execution_count": 16,
      "outputs": [
        {
          "output_type": "stream",
          "name": "stdout",
          "text": [
            "Model Performance\n",
            "Average Error: 3.7159 degrees.\n",
            "Accuracy = 93.73%.\n"
          ]
        }
      ]
    },
    {
      "cell_type": "code",
      "source": [
        "print('Improvement of {:0.2f}%.'.format( 100 * (random_accuracy - base_accuracy) / base_accuracy))"
      ],
      "metadata": {
        "colab": {
          "base_uri": "https://localhost:8080/"
        },
        "id": "b37IFpK94JWY",
        "outputId": "e5eed40b-0dcd-439f-de9c-d606327a05f7"
      },
      "execution_count": 17,
      "outputs": [
        {
          "output_type": "stream",
          "name": "stdout",
          "text": [
            "Improvement of 0.39%.\n"
          ]
        }
      ]
    },
    {
      "cell_type": "markdown",
      "source": [
        "# Grid Search\n",
        "\n"
      ],
      "metadata": {
        "id": "-Ph66T5p4Krr"
      }
    },
    {
      "cell_type": "code",
      "source": [
        "from sklearn.model_selection import GridSearchCV\n",
        "\n",
        "# Create the parameter grid based on the results of random search \n",
        "param_grid = {\n",
        "    'bootstrap': [True],\n",
        "    'max_depth': [80, 90, 100, 110],\n",
        "    'max_features': [2, 3],\n",
        "    'min_samples_leaf': [3, 4, 5],\n",
        "    'min_samples_split': [8, 10, 12],\n",
        "    'n_estimators': [100, 200, 300, 1000]\n",
        "}\n",
        "\n",
        "# Create a base model\n",
        "rf = RandomForestRegressor(random_state = 42)\n",
        "\n",
        "# Instantiate the grid search model\n",
        "grid_search = GridSearchCV(estimator = rf, param_grid = param_grid, \n",
        "                          cv = 3, n_jobs = -1, verbose = 2, return_train_score=True)"
      ],
      "metadata": {
        "id": "hj394TN84LCo"
      },
      "execution_count": 18,
      "outputs": []
    },
    {
      "cell_type": "code",
      "source": [
        "# Fit the grid search to the data\n",
        "grid_search.fit(train_features, train_labels);"
      ],
      "metadata": {
        "colab": {
          "base_uri": "https://localhost:8080/"
        },
        "id": "xkgRvkmG4NJW",
        "outputId": "3a64e654-2de4-41cd-d0ab-38c8363c67eb"
      },
      "execution_count": 19,
      "outputs": [
        {
          "output_type": "stream",
          "name": "stdout",
          "text": [
            "Fitting 3 folds for each of 288 candidates, totalling 864 fits\n"
          ]
        }
      ]
    },
    {
      "cell_type": "code",
      "source": [
        "grid_search.best_params_"
      ],
      "metadata": {
        "colab": {
          "base_uri": "https://localhost:8080/"
        },
        "id": "G8s7dg_y4OKt",
        "outputId": "a0a3456f-0da9-47e6-ccc6-bb7e3ddb0ab5"
      },
      "execution_count": 20,
      "outputs": [
        {
          "output_type": "execute_result",
          "data": {
            "text/plain": [
              "{'bootstrap': True,\n",
              " 'max_depth': 80,\n",
              " 'max_features': 3,\n",
              " 'min_samples_leaf': 5,\n",
              " 'min_samples_split': 12,\n",
              " 'n_estimators': 100}"
            ]
          },
          "metadata": {},
          "execution_count": 20
        }
      ]
    },
    {
      "cell_type": "markdown",
      "source": [
        "## Evaluate the Best Model from Grid Search\n"
      ],
      "metadata": {
        "id": "Q8a8FwIM4PER"
      }
    },
    {
      "cell_type": "code",
      "source": [
        "best_grid = grid_search.best_estimator_\n",
        "grid_accuracy = evaluate(best_grid, test_features, test_labels)"
      ],
      "metadata": {
        "colab": {
          "base_uri": "https://localhost:8080/"
        },
        "id": "J5n9D-dg4PZC",
        "outputId": "c46be5a0-b4c3-49ae-a10b-ff295448f1de"
      },
      "execution_count": 21,
      "outputs": [
        {
          "output_type": "stream",
          "name": "stdout",
          "text": [
            "Model Performance\n",
            "Average Error: 3.6565 degrees.\n",
            "Accuracy = 93.83%.\n"
          ]
        }
      ]
    },
    {
      "cell_type": "code",
      "source": [
        "print('Improvement of {:0.2f}%.'.format( 100 * (random_accuracy - base_accuracy) / base_accuracy))"
      ],
      "metadata": {
        "colab": {
          "base_uri": "https://localhost:8080/"
        },
        "id": "3ODd71aO4UUO",
        "outputId": "b8d134ff-31c0-4090-9cc5-d0d92075c108"
      },
      "execution_count": 22,
      "outputs": [
        {
          "output_type": "stream",
          "name": "stdout",
          "text": [
            "Improvement of 0.39%.\n"
          ]
        }
      ]
    },
    {
      "cell_type": "markdown",
      "source": [
        "# Another Grid Search"
      ],
      "metadata": {
        "id": "rGAaeeDY4aMi"
      }
    },
    {
      "cell_type": "code",
      "source": [
        "param_grid = {\n",
        "    'bootstrap': [True],\n",
        "    'max_depth': [110, 120, None],\n",
        "    'max_features': [3, 4],\n",
        "    'min_samples_leaf': [5, 6, 7],\n",
        "    'min_samples_split': [10],\n",
        "    'n_estimators': [75, 100, 125]\n",
        "}\n",
        "\n",
        "# Create a base model\n",
        "rf = RandomForestRegressor(random_state = 42)\n",
        "\n",
        "# Instantiate the grid search model\n",
        "grid_search_final = GridSearchCV(estimator = rf, param_grid = param_grid, \n",
        "                                 cv = 3, n_jobs = -1, verbose = 2, return_train_score=True)\n",
        "\n",
        "grid_search_final.fit(train_features, train_labels);"
      ],
      "metadata": {
        "colab": {
          "base_uri": "https://localhost:8080/"
        },
        "id": "sGiqWskK4cFi",
        "outputId": "5af81d33-e2b4-4a1f-c216-d4b8d9855978"
      },
      "execution_count": 23,
      "outputs": [
        {
          "output_type": "stream",
          "name": "stdout",
          "text": [
            "Fitting 3 folds for each of 54 candidates, totalling 162 fits\n"
          ]
        }
      ]
    },
    {
      "cell_type": "code",
      "source": [
        "grid_search_final.best_params_"
      ],
      "metadata": {
        "colab": {
          "base_uri": "https://localhost:8080/"
        },
        "id": "x4z-l5PK4dyy",
        "outputId": "10d0593d-4fe7-4ef0-d7df-9b29533f5b44"
      },
      "execution_count": 24,
      "outputs": [
        {
          "output_type": "execute_result",
          "data": {
            "text/plain": [
              "{'bootstrap': True,\n",
              " 'max_depth': 110,\n",
              " 'max_features': 3,\n",
              " 'min_samples_leaf': 6,\n",
              " 'min_samples_split': 10,\n",
              " 'n_estimators': 100}"
            ]
          },
          "metadata": {},
          "execution_count": 24
        }
      ]
    },
    {
      "cell_type": "code",
      "source": [
        "best_grid_final = grid_search_final.best_estimator_\n",
        "grid_final_accuracy = evaluate(best_grid_final, test_features, test_labels)"
      ],
      "metadata": {
        "colab": {
          "base_uri": "https://localhost:8080/"
        },
        "id": "yGZtYhTN4091",
        "outputId": "c9f5deb8-8e40-4bb5-97e9-faed9af86625"
      },
      "execution_count": 25,
      "outputs": [
        {
          "output_type": "stream",
          "name": "stdout",
          "text": [
            "Model Performance\n",
            "Average Error: 3.6590 degrees.\n",
            "Accuracy = 93.82%.\n"
          ]
        }
      ]
    },
    {
      "cell_type": "code",
      "source": [
        "print('Improvement of {:0.2f}%.'.format( 100 * (grid_final_accuracy - base_accuracy) / base_accuracy))"
      ],
      "metadata": {
        "colab": {
          "base_uri": "https://localhost:8080/"
        },
        "id": "ryedfn5G44Ay",
        "outputId": "67f9bb0b-d0dc-4eed-dfd1-6b5e89a700a2"
      },
      "execution_count": 26,
      "outputs": [
        {
          "output_type": "stream",
          "name": "stdout",
          "text": [
            "Improvement of 0.49%.\n"
          ]
        }
      ]
    },
    {
      "cell_type": "markdown",
      "source": [
        "# Final Model"
      ],
      "metadata": {
        "id": "EVJbjS8Y5D1g"
      }
    },
    {
      "cell_type": "code",
      "source": [
        "final_model = grid_search.best_estimator_\n",
        "\n",
        "print('Final Model Parameters:\\n')\n",
        "pprint(final_model.get_params())\n",
        "print('\\n')\n",
        "grid_final_accuracy = evaluate(final_model, test_features, test_labels)"
      ],
      "metadata": {
        "colab": {
          "base_uri": "https://localhost:8080/"
        },
        "id": "BvoScugp45c8",
        "outputId": "6f4a2ff1-6f8c-46e0-fbfe-0ad863c22475"
      },
      "execution_count": 27,
      "outputs": [
        {
          "output_type": "stream",
          "name": "stdout",
          "text": [
            "Final Model Parameters:\n",
            "\n",
            "{'bootstrap': True,\n",
            " 'ccp_alpha': 0.0,\n",
            " 'criterion': 'squared_error',\n",
            " 'max_depth': 80,\n",
            " 'max_features': 3,\n",
            " 'max_leaf_nodes': None,\n",
            " 'max_samples': None,\n",
            " 'min_impurity_decrease': 0.0,\n",
            " 'min_samples_leaf': 5,\n",
            " 'min_samples_split': 12,\n",
            " 'min_weight_fraction_leaf': 0.0,\n",
            " 'n_estimators': 100,\n",
            " 'n_jobs': None,\n",
            " 'oob_score': False,\n",
            " 'random_state': 42,\n",
            " 'verbose': 0,\n",
            " 'warm_start': False}\n",
            "\n",
            "\n",
            "Model Performance\n",
            "Average Error: 3.6565 degrees.\n",
            "Accuracy = 93.83%.\n"
          ]
        }
      ]
    },
    {
      "cell_type": "markdown",
      "source": [
        "#Comparison of All Improvement Techniques\n",
        "\n"
      ],
      "metadata": {
        "id": "97TYPrw95GlF"
      }
    },
    {
      "cell_type": "code",
      "source": [
        "# Time used for evaluating model run times\n",
        "import time"
      ],
      "metadata": {
        "id": "kbWm9qAX5IDq"
      },
      "execution_count": 28,
      "outputs": []
    },
    {
      "cell_type": "code",
      "source": [
        "# Evaluate run time and prediction accuracy\n",
        "def evaluate_model(model, x_train, y_train, x_test, y_test):\n",
        "    n_trees = model.get_params()['n_estimators']\n",
        "    n_features = x_train.shape[1]\n",
        "    \n",
        "    # Train and predict 10 times to evaluate time and accuracy\n",
        "    predictions = []\n",
        "    run_times = []\n",
        "    for _ in range(10):\n",
        "        start_time = time.time()\n",
        "        model.fit(x_train, y_train)\n",
        "        predictions.append(model.predict(x_test))\n",
        "    \n",
        "        end_time = time.time()\n",
        "        run_times.append(end_time - start_time)\n",
        "    \n",
        "    # Run time and predictions need to be averaged\n",
        "    run_time = np.mean(run_times)\n",
        "    predictions = np.mean(np.array(predictions), axis = 0)\n",
        "    \n",
        "    # Calculate performance metrics\n",
        "    errors = abs(predictions - y_test)\n",
        "    mean_error = np.mean(errors)\n",
        "    mape = 100 * np.mean(errors / y_test)\n",
        "    accuracy = 100 - mape\n",
        "    \n",
        "    # Return results in a dictionary\n",
        "    results = {'time': run_time, 'error': mean_error, 'accuracy': accuracy, 'n_trees': n_trees, 'n_features': n_features}\n",
        "    \n",
        "    return results    "
      ],
      "metadata": {
        "id": "Y5lWPVS55IVo"
      },
      "execution_count": 29,
      "outputs": []
    },
    {
      "cell_type": "markdown",
      "source": [
        "## Baseline (Historical Average)\n"
      ],
      "metadata": {
        "id": "Bu9UTboQ5LA1"
      }
    },
    {
      "cell_type": "code",
      "source": [
        "full_features = pd.read_csv('https://raw.githubusercontent.com/WillKoehrsen/Machine-Learning-Projects/master/random_forest_explained/data/temps_extended.csv')\n",
        "full_features = full_features.rename(columns = {'weekday': 'week'})\n",
        "full_features = pd.get_dummies(full_features)\n",
        "\n",
        "full_labels = full_features['actual']\n",
        "full_features = full_features.drop('actual', axis = 1)\n",
        "\n",
        "full_feature_list = list(full_features.columns)\n",
        "important_feature_names = ['temp_1', 'average', 'ws_1', 'temp_2', 'friend', 'year']\n",
        "\n",
        "full_features_train, full_features_test, full_labels_train, full_labels_test = train_test_split(full_features, full_labels, \n",
        "                                                                                                test_size = 0.25, random_state = 42)\n",
        "\n",
        "baseline_preds = full_features_test['average']\n",
        "baseline_errors = abs(baseline_preds - full_labels_test)\n",
        "baseline_mean_error = np.mean(baseline_errors)\n",
        "baseline_accuracy = 100 - (100 * np.mean(baseline_errors / full_labels_test))"
      ],
      "metadata": {
        "id": "GZVFn2CH5Jzt"
      },
      "execution_count": 30,
      "outputs": []
    },
    {
      "cell_type": "code",
      "source": [
        "baseline_results = {'model': 'average', 'time': np.nan, 'n_trees': np.nan, 'error': baseline_mean_error, 'accuracy': baseline_accuracy, 'n_features': 1}"
      ],
      "metadata": {
        "id": "R3DlUNPN5Su4"
      },
      "execution_count": 31,
      "outputs": []
    },
    {
      "cell_type": "markdown",
      "source": [
        "## Model with One Year of Data"
      ],
      "metadata": {
        "id": "AvSLdEjh5U9d"
      }
    },
    {
      "cell_type": "code",
      "source": [
        "original_features = pd.read_csv('https://raw.githubusercontent.com/WillKoehrsen/Machine-Learning-Projects/master/random_forest_explained/data/temps.csv')\n",
        "original_features = pd.get_dummies(original_features)\n",
        "\n",
        "original_labels = np.array(original_features['actual'])\n",
        "original_features= original_features.drop('actual', axis = 1)\n",
        "\n",
        "original_feature_list = list(original_features.columns)\n",
        "original_features = np.array(original_features)\n",
        "\n",
        "original_train_features, original_test_features, original_train_labels, original_test_labels = train_test_split(original_features, original_labels, test_size = 0.25, random_state = 42)\n",
        "\n",
        "# Need to keep only those features the one year model was trained on\n",
        "one_test_features = full_features_test[original_feature_list]\n",
        "one_test_features = np.array(one_test_features)\n",
        "\n",
        "full_labels_test = np.array(full_labels_test)\n",
        "\n",
        "# Default model\n",
        "rf = RandomForestRegressor(n_estimators= 10, random_state=42)\n",
        "\n",
        "# Results for model trained on one year of data\n",
        "one_year_results = evaluate_model(rf, original_train_features, original_train_labels, one_test_features, full_labels_test)\n",
        "one_year_results['model'] = 'one_year'                    "
      ],
      "metadata": {
        "id": "z6l_z3Tg5T82"
      },
      "execution_count": 32,
      "outputs": []
    },
    {
      "cell_type": "code",
      "source": [
        "one_year_results"
      ],
      "metadata": {
        "colab": {
          "base_uri": "https://localhost:8080/"
        },
        "id": "XndrlFIX5oBZ",
        "outputId": "c76a94d0-bef9-4e58-a540-bfd8d6e97f86"
      },
      "execution_count": 33,
      "outputs": [
        {
          "output_type": "execute_result",
          "data": {
            "text/plain": [
              "{'accuracy': 92.47743144949841,\n",
              " 'error': 4.333394160583941,\n",
              " 'model': 'one_year',\n",
              " 'n_features': 14,\n",
              " 'n_trees': 10,\n",
              " 'time': 0.021367859840393067}"
            ]
          },
          "metadata": {},
          "execution_count": 33
        }
      ]
    },
    {
      "cell_type": "markdown",
      "source": [
        "## Model with 4.5 Years of Training Data and All Features"
      ],
      "metadata": {
        "id": "zdSe99-N5p6I"
      }
    },
    {
      "cell_type": "code",
      "source": [
        "full_features_train = np.array(full_features_train)\n",
        "full_features_test = np.array(full_features_test)\n",
        "full_labels_train = np.array(full_labels_train)\n",
        "full_labels_test = np.array(full_labels_test)"
      ],
      "metadata": {
        "id": "3fFLhx975o93"
      },
      "execution_count": 34,
      "outputs": []
    },
    {
      "cell_type": "code",
      "source": [
        "four_year_results = evaluate_model(rf, full_features_train, full_labels_train, full_features_test, full_labels_test)\n",
        "four_year_results['model'] = 'four_years_all'"
      ],
      "metadata": {
        "id": "2ElPYFcf5rC5"
      },
      "execution_count": 35,
      "outputs": []
    },
    {
      "cell_type": "code",
      "source": [
        "four_year_results"
      ],
      "metadata": {
        "colab": {
          "base_uri": "https://localhost:8080/"
        },
        "id": "9atHx2ZJ5sw4",
        "outputId": "c2537e91-5ce0-4047-e814-7517fb5827f8"
      },
      "execution_count": 36,
      "outputs": [
        {
          "output_type": "execute_result",
          "data": {
            "text/plain": [
              "{'accuracy': 93.50721966215396,\n",
              " 'error': 3.8375912408759123,\n",
              " 'model': 'four_years_all',\n",
              " 'n_features': 17,\n",
              " 'n_trees': 10,\n",
              " 'time': 0.08636653423309326}"
            ]
          },
          "metadata": {},
          "execution_count": 36
        }
      ]
    },
    {
      "cell_type": "markdown",
      "source": [
        "## Model with 4.5 Years of Training Data and Most Important Features"
      ],
      "metadata": {
        "id": "lwsHl6EW5t6S"
      }
    },
    {
      "cell_type": "code",
      "source": [
        "important_feature_indices = [full_feature_list.index(feature) for feature in important_feature_names]"
      ],
      "metadata": {
        "id": "XTluPQ3S5s9B"
      },
      "execution_count": 37,
      "outputs": []
    },
    {
      "cell_type": "code",
      "source": [
        "train_features = full_features_train[:, important_feature_indices]\n",
        "test_features = full_features_test[:, important_feature_indices]\n",
        "\n",
        "train_labels = full_labels_train[:]\n",
        "test_labels = full_labels_test[:]"
      ],
      "metadata": {
        "id": "TzEiXrkZ5vyx"
      },
      "execution_count": 38,
      "outputs": []
    },
    {
      "cell_type": "code",
      "source": [
        "four_years_important_results = evaluate_model(rf, train_features, train_labels, test_features, test_labels)\n",
        "four_years_important_results['model'] = 'four_years_red'"
      ],
      "metadata": {
        "id": "-AfRYc5g5w3z"
      },
      "execution_count": 39,
      "outputs": []
    },
    {
      "cell_type": "code",
      "source": [
        "four_years_important_results"
      ],
      "metadata": {
        "colab": {
          "base_uri": "https://localhost:8080/"
        },
        "id": "cpb_AcPR5yCh",
        "outputId": "5fe36fd9-1ef3-4f69-f015-03f3ac56b4d8"
      },
      "execution_count": 40,
      "outputs": [
        {
          "output_type": "execute_result",
          "data": {
            "text/plain": [
              "{'accuracy': 93.36397494711629,\n",
              " 'error': 3.916970802919708,\n",
              " 'model': 'four_years_red',\n",
              " 'n_features': 6,\n",
              " 'n_trees': 10,\n",
              " 'time': 0.059804248809814456}"
            ]
          },
          "metadata": {},
          "execution_count": 40
        }
      ]
    },
    {
      "cell_type": "markdown",
      "source": [
        "## Random Search Best Model "
      ],
      "metadata": {
        "id": "iO8aShss5z90"
      }
    },
    {
      "cell_type": "code",
      "source": [
        "random_results = evaluate_model(best_random, train_features, train_labels, test_features, test_labels)\n",
        "random_results['model'] = 'best_random'\n",
        "random_results"
      ],
      "metadata": {
        "colab": {
          "base_uri": "https://localhost:8080/"
        },
        "id": "lRnnIaVa5zFO",
        "outputId": "7437d4ab-5ee7-4c63-a79e-e2aaa5ce907c"
      },
      "execution_count": 41,
      "outputs": [
        {
          "output_type": "execute_result",
          "data": {
            "text/plain": [
              "{'accuracy': 93.73217652563157,\n",
              " 'error': 3.7158933614831855,\n",
              " 'model': 'best_random',\n",
              " 'n_features': 6,\n",
              " 'n_trees': 400,\n",
              " 'time': 1.671981978416443}"
            ]
          },
          "metadata": {},
          "execution_count": 41
        }
      ]
    },
    {
      "cell_type": "markdown",
      "source": [
        "## First Grid Search Best Model\n"
      ],
      "metadata": {
        "id": "N1tpLs-354XS"
      }
    },
    {
      "cell_type": "code",
      "source": [
        "first_grid_results = evaluate_model(best_grid, train_features, train_labels, test_features, test_labels)\n",
        "first_grid_results['model'] = 'first_grid'\n",
        "first_grid_results"
      ],
      "metadata": {
        "colab": {
          "base_uri": "https://localhost:8080/"
        },
        "id": "qufRf6VZ53ge",
        "outputId": "27f17436-2cb9-4c0f-8362-20fd44e503ac"
      },
      "execution_count": 42,
      "outputs": [
        {
          "output_type": "execute_result",
          "data": {
            "text/plain": [
              "{'accuracy': 93.82944978324339,\n",
              " 'error': 3.6564575460524176,\n",
              " 'model': 'first_grid',\n",
              " 'n_features': 6,\n",
              " 'n_trees': 100,\n",
              " 'time': 0.27116096019744873}"
            ]
          },
          "metadata": {},
          "execution_count": 42
        }
      ]
    },
    {
      "cell_type": "markdown",
      "source": [
        "## Second Grid Search Best Model"
      ],
      "metadata": {
        "id": "NKams_Y65887"
      }
    },
    {
      "cell_type": "code",
      "source": [
        "final_model_results = evaluate_model(best_grid_final, train_features, train_labels, test_features, test_labels)\n",
        "final_model_results['model'] = 'second_grid'"
      ],
      "metadata": {
        "id": "aQzBp6_b57QP"
      },
      "execution_count": 43,
      "outputs": []
    },
    {
      "cell_type": "code",
      "source": [
        "final_model_results"
      ],
      "metadata": {
        "colab": {
          "base_uri": "https://localhost:8080/"
        },
        "id": "VlBeGV1z5_52",
        "outputId": "9be0c625-08a0-42f9-eef1-7d592b9d8aeb"
      },
      "execution_count": 44,
      "outputs": [
        {
          "output_type": "execute_result",
          "data": {
            "text/plain": [
              "{'accuracy': 93.81740203358855,\n",
              " 'error': 3.659036439647158,\n",
              " 'model': 'second_grid',\n",
              " 'n_features': 6,\n",
              " 'n_trees': 100,\n",
              " 'time': 0.2661502599716187}"
            ]
          },
          "metadata": {},
          "execution_count": 44
        }
      ]
    },
    {
      "cell_type": "markdown",
      "source": [
        "# Comparison"
      ],
      "metadata": {
        "id": "NF5cKkO46CSk"
      }
    },
    {
      "cell_type": "code",
      "source": [
        "comparison = {'model': [baseline_results['model'], one_year_results['model']],\n",
        "              'accuracy': [round(baseline_results['accuracy'], 3), round(one_year_results['accuracy'], 3)],\n",
        "              'error': [round(baseline_results['error'], 3), round(one_year_results['error'], 3)],\n",
        "              'n_features': [baseline_results['n_features'], one_year_results['n_features']],\n",
        "              'n_trees': [baseline_results['n_trees'], int(one_year_results['n_trees'])],\n",
        "              'time': [round(baseline_results['time'], 4), round(one_year_results['time'], 4)]}\n",
        "                        \n",
        "for model in [four_year_results, four_years_important_results, random_results, first_grid_results, final_model_results]:\n",
        "    comparison['accuracy'].append(round(model['accuracy'], 3))\n",
        "    comparison['error'].append(round(model['error'], 3))\n",
        "    comparison['model'].append(model['model'])\n",
        "    comparison['n_features'].append(model['n_features'])\n",
        "    comparison['n_trees'].append(int(model['n_trees']))\n",
        "    comparison['time'].append(round(model['time'], 4))"
      ],
      "metadata": {
        "id": "xrkgVg7t6Ba8"
      },
      "execution_count": 45,
      "outputs": []
    },
    {
      "cell_type": "code",
      "source": [
        "comparison = pd.DataFrame.from_dict(comparison, orient = 'columns')"
      ],
      "metadata": {
        "id": "kYCimoSQ6EgG"
      },
      "execution_count": 46,
      "outputs": []
    },
    {
      "cell_type": "code",
      "source": [
        "comparison[['model', 'accuracy', 'error', 'n_features', 'n_trees', 'time']]"
      ],
      "metadata": {
        "colab": {
          "base_uri": "https://localhost:8080/",
          "height": 266
        },
        "id": "NEZzBnYu6Fm3",
        "outputId": "7d2e6a7f-455b-42c4-e0de-4eda2087afc8"
      },
      "execution_count": 47,
      "outputs": [
        {
          "output_type": "execute_result",
          "data": {
            "text/plain": [
              "            model  accuracy  error  n_features  n_trees    time\n",
              "0         average    91.961  4.763           1      NaN     NaN\n",
              "1        one_year    92.477  4.333          14     10.0  0.0214\n",
              "2  four_years_all    93.507  3.838          17     10.0  0.0864\n",
              "3  four_years_red    93.364  3.917           6     10.0  0.0598\n",
              "4     best_random    93.732  3.716           6    400.0  1.6720\n",
              "5      first_grid    93.829  3.656           6    100.0  0.2712\n",
              "6     second_grid    93.817  3.659           6    100.0  0.2662"
            ],
            "text/html": [
              "\n",
              "  <div id=\"df-1e6e63ce-6f61-480e-9b34-335fc63c363f\">\n",
              "    <div class=\"colab-df-container\">\n",
              "      <div>\n",
              "<style scoped>\n",
              "    .dataframe tbody tr th:only-of-type {\n",
              "        vertical-align: middle;\n",
              "    }\n",
              "\n",
              "    .dataframe tbody tr th {\n",
              "        vertical-align: top;\n",
              "    }\n",
              "\n",
              "    .dataframe thead th {\n",
              "        text-align: right;\n",
              "    }\n",
              "</style>\n",
              "<table border=\"1\" class=\"dataframe\">\n",
              "  <thead>\n",
              "    <tr style=\"text-align: right;\">\n",
              "      <th></th>\n",
              "      <th>model</th>\n",
              "      <th>accuracy</th>\n",
              "      <th>error</th>\n",
              "      <th>n_features</th>\n",
              "      <th>n_trees</th>\n",
              "      <th>time</th>\n",
              "    </tr>\n",
              "  </thead>\n",
              "  <tbody>\n",
              "    <tr>\n",
              "      <th>0</th>\n",
              "      <td>average</td>\n",
              "      <td>91.961</td>\n",
              "      <td>4.763</td>\n",
              "      <td>1</td>\n",
              "      <td>NaN</td>\n",
              "      <td>NaN</td>\n",
              "    </tr>\n",
              "    <tr>\n",
              "      <th>1</th>\n",
              "      <td>one_year</td>\n",
              "      <td>92.477</td>\n",
              "      <td>4.333</td>\n",
              "      <td>14</td>\n",
              "      <td>10.0</td>\n",
              "      <td>0.0214</td>\n",
              "    </tr>\n",
              "    <tr>\n",
              "      <th>2</th>\n",
              "      <td>four_years_all</td>\n",
              "      <td>93.507</td>\n",
              "      <td>3.838</td>\n",
              "      <td>17</td>\n",
              "      <td>10.0</td>\n",
              "      <td>0.0864</td>\n",
              "    </tr>\n",
              "    <tr>\n",
              "      <th>3</th>\n",
              "      <td>four_years_red</td>\n",
              "      <td>93.364</td>\n",
              "      <td>3.917</td>\n",
              "      <td>6</td>\n",
              "      <td>10.0</td>\n",
              "      <td>0.0598</td>\n",
              "    </tr>\n",
              "    <tr>\n",
              "      <th>4</th>\n",
              "      <td>best_random</td>\n",
              "      <td>93.732</td>\n",
              "      <td>3.716</td>\n",
              "      <td>6</td>\n",
              "      <td>400.0</td>\n",
              "      <td>1.6720</td>\n",
              "    </tr>\n",
              "    <tr>\n",
              "      <th>5</th>\n",
              "      <td>first_grid</td>\n",
              "      <td>93.829</td>\n",
              "      <td>3.656</td>\n",
              "      <td>6</td>\n",
              "      <td>100.0</td>\n",
              "      <td>0.2712</td>\n",
              "    </tr>\n",
              "    <tr>\n",
              "      <th>6</th>\n",
              "      <td>second_grid</td>\n",
              "      <td>93.817</td>\n",
              "      <td>3.659</td>\n",
              "      <td>6</td>\n",
              "      <td>100.0</td>\n",
              "      <td>0.2662</td>\n",
              "    </tr>\n",
              "  </tbody>\n",
              "</table>\n",
              "</div>\n",
              "      <button class=\"colab-df-convert\" onclick=\"convertToInteractive('df-1e6e63ce-6f61-480e-9b34-335fc63c363f')\"\n",
              "              title=\"Convert this dataframe to an interactive table.\"\n",
              "              style=\"display:none;\">\n",
              "        \n",
              "  <svg xmlns=\"http://www.w3.org/2000/svg\" height=\"24px\"viewBox=\"0 0 24 24\"\n",
              "       width=\"24px\">\n",
              "    <path d=\"M0 0h24v24H0V0z\" fill=\"none\"/>\n",
              "    <path d=\"M18.56 5.44l.94 2.06.94-2.06 2.06-.94-2.06-.94-.94-2.06-.94 2.06-2.06.94zm-11 1L8.5 8.5l.94-2.06 2.06-.94-2.06-.94L8.5 2.5l-.94 2.06-2.06.94zm10 10l.94 2.06.94-2.06 2.06-.94-2.06-.94-.94-2.06-.94 2.06-2.06.94z\"/><path d=\"M17.41 7.96l-1.37-1.37c-.4-.4-.92-.59-1.43-.59-.52 0-1.04.2-1.43.59L10.3 9.45l-7.72 7.72c-.78.78-.78 2.05 0 2.83L4 21.41c.39.39.9.59 1.41.59.51 0 1.02-.2 1.41-.59l7.78-7.78 2.81-2.81c.8-.78.8-2.07 0-2.86zM5.41 20L4 18.59l7.72-7.72 1.47 1.35L5.41 20z\"/>\n",
              "  </svg>\n",
              "      </button>\n",
              "      \n",
              "  <style>\n",
              "    .colab-df-container {\n",
              "      display:flex;\n",
              "      flex-wrap:wrap;\n",
              "      gap: 12px;\n",
              "    }\n",
              "\n",
              "    .colab-df-convert {\n",
              "      background-color: #E8F0FE;\n",
              "      border: none;\n",
              "      border-radius: 50%;\n",
              "      cursor: pointer;\n",
              "      display: none;\n",
              "      fill: #1967D2;\n",
              "      height: 32px;\n",
              "      padding: 0 0 0 0;\n",
              "      width: 32px;\n",
              "    }\n",
              "\n",
              "    .colab-df-convert:hover {\n",
              "      background-color: #E2EBFA;\n",
              "      box-shadow: 0px 1px 2px rgba(60, 64, 67, 0.3), 0px 1px 3px 1px rgba(60, 64, 67, 0.15);\n",
              "      fill: #174EA6;\n",
              "    }\n",
              "\n",
              "    [theme=dark] .colab-df-convert {\n",
              "      background-color: #3B4455;\n",
              "      fill: #D2E3FC;\n",
              "    }\n",
              "\n",
              "    [theme=dark] .colab-df-convert:hover {\n",
              "      background-color: #434B5C;\n",
              "      box-shadow: 0px 1px 3px 1px rgba(0, 0, 0, 0.15);\n",
              "      filter: drop-shadow(0px 1px 2px rgba(0, 0, 0, 0.3));\n",
              "      fill: #FFFFFF;\n",
              "    }\n",
              "  </style>\n",
              "\n",
              "      <script>\n",
              "        const buttonEl =\n",
              "          document.querySelector('#df-1e6e63ce-6f61-480e-9b34-335fc63c363f button.colab-df-convert');\n",
              "        buttonEl.style.display =\n",
              "          google.colab.kernel.accessAllowed ? 'block' : 'none';\n",
              "\n",
              "        async function convertToInteractive(key) {\n",
              "          const element = document.querySelector('#df-1e6e63ce-6f61-480e-9b34-335fc63c363f');\n",
              "          const dataTable =\n",
              "            await google.colab.kernel.invokeFunction('convertToInteractive',\n",
              "                                                     [key], {});\n",
              "          if (!dataTable) return;\n",
              "\n",
              "          const docLinkHtml = 'Like what you see? Visit the ' +\n",
              "            '<a target=\"_blank\" href=https://colab.research.google.com/notebooks/data_table.ipynb>data table notebook</a>'\n",
              "            + ' to learn more about interactive tables.';\n",
              "          element.innerHTML = '';\n",
              "          dataTable['output_type'] = 'display_data';\n",
              "          await google.colab.output.renderOutput(dataTable, element);\n",
              "          const docLink = document.createElement('div');\n",
              "          docLink.innerHTML = docLinkHtml;\n",
              "          element.appendChild(docLink);\n",
              "        }\n",
              "      </script>\n",
              "    </div>\n",
              "  </div>\n",
              "  "
            ]
          },
          "metadata": {},
          "execution_count": 47
        }
      ]
    },
    {
      "cell_type": "code",
      "source": [
        "print('Adding Data and Feature Selection error reduction: {:0.2f}%'.format(100 * (baseline_results['error'] - four_years_important_results['error']) / baseline_results['error'])) \n",
        "print('Hyperparameter Tuning Error Reduction: {:0.2f}%'.format(100 * (four_years_important_results['error'] - first_grid_results['error']) / four_years_important_results['error']))"
      ],
      "metadata": {
        "colab": {
          "base_uri": "https://localhost:8080/"
        },
        "id": "jhVOFWCM6GxO",
        "outputId": "65fcf71b-6ed7-4856-a82f-8c1ce48f282a"
      },
      "execution_count": 48,
      "outputs": [
        {
          "output_type": "stream",
          "name": "stdout",
          "text": [
            "Adding Data and Feature Selection error reduction: 17.76%\n",
            "Hyperparameter Tuning Error Reduction: 6.65%\n"
          ]
        }
      ]
    },
    {
      "cell_type": "markdown",
      "source": [
        "# Plotting "
      ],
      "metadata": {
        "id": "0Ngd5hpH6Jb3"
      }
    },
    {
      "cell_type": "code",
      "source": [
        "import matplotlib.pyplot as plt\n",
        "import seaborn as sns\n",
        "%matplotlib inline\n",
        "\n",
        "plt.style.use('fivethirtyeight')"
      ],
      "metadata": {
        "id": "Gnf_4FNg6IUB"
      },
      "execution_count": 49,
      "outputs": []
    },
    {
      "cell_type": "markdown",
      "source": [
        "## Model Comparison Plot"
      ],
      "metadata": {
        "id": "P5N2daSa6P8R"
      }
    },
    {
      "cell_type": "code",
      "source": [
        "xvalues = list(range(len(comparison)))\n",
        "plt.subplots(1, 2, figsize=(10, 6))\n",
        "plt.subplot(121)\n",
        "plt.bar(xvalues, comparison['accuracy'], color = 'g', edgecolor = 'k', linewidth = 1.8)\n",
        "plt.xticks(xvalues, comparison['model'], rotation = 45, fontsize = 12)\n",
        "plt.ylim(ymin = 91, ymax = 94)\n",
        "plt.xlabel('model'); plt.ylabel('Accuracy (%)'); plt.title('Accuracy Comparison');\n",
        "\n",
        "plt.subplot(122)\n",
        "plt.bar(xvalues, comparison['error'], color = 'r', edgecolor = 'k', linewidth = 1.8)\n",
        "plt.xticks(xvalues, comparison['model'], rotation = 45)\n",
        "plt.ylim(ymin = 3.5, ymax = 4.8)\n",
        "plt.xlabel('model'); plt.ylabel('Error (deg)'); plt.title('Error Comparison');\n",
        "plt.show();"
      ],
      "metadata": {
        "colab": {
          "base_uri": "https://localhost:8080/",
          "height": 511
        },
        "id": "kVqUH2s56Mli",
        "outputId": "6ef725a1-77a6-4188-fee0-1739feff649d"
      },
      "execution_count": 50,
      "outputs": [
        {
          "output_type": "display_data",
          "data": {
            "text/plain": [
              "<Figure size 720x432 with 2 Axes>"
            ],
            "image/png": "[encoded data removed]"
          },
          "metadata": {}
        }
      ]
    },
    {
      "cell_type": "markdown",
      "source": [
        "# Training Curves"
      ],
      "metadata": {
        "id": "QHzDqvXE6Sdx"
      }
    },
    {
      "cell_type": "code",
      "source": [
        "# Grid with only the number of trees changed\n",
        "tree_grid = {'n_estimators': [int(x) for x in np.linspace(1, 301, 30)]}\n",
        "\n",
        "# Create the grid search model and fit to the training data\n",
        "tree_grid_search = GridSearchCV(final_model, param_grid=tree_grid, verbose = 2, n_jobs=-1, cv = 3,\n",
        "                                scoring = 'neg_mean_absolute_error')\n",
        "tree_grid_search.fit(train_features, train_labels);"
      ],
      "metadata": {
        "colab": {
          "base_uri": "https://localhost:8080/"
        },
        "id": "McpmGacQ6RBj",
        "outputId": "09be9bac-d85e-4c60-b9c3-c3b11a199014"
      },
      "execution_count": 51,
      "outputs": [
        {
          "output_type": "stream",
          "name": "stdout",
          "text": [
            "Fitting 3 folds for each of 30 candidates, totalling 90 fits\n"
          ]
        }
      ]
    },
    {
      "cell_type": "code",
      "source": [
        "tree_grid_search.cv_results_"
      ],
      "metadata": {
        "colab": {
          "base_uri": "https://localhost:8080/"
        },
        "id": "f5WHDgrg6WIT",
        "outputId": "d33262d2-1adb-427f-e335-bcc5752557a5"
      },
      "execution_count": 52,
      "outputs": [
        {
          "output_type": "execute_result",
          "data": {
            "text/plain": [
              "{'mean_fit_time': array([0.00485341, 0.03886684, 0.07000748, 0.10738786, 0.14362892,\n",
              "        0.16812229, 0.1937151 , 0.23337396, 0.26564185, 0.28987892,\n",
              "        0.31885775, 0.3530612 , 0.38297002, 0.42633176, 0.44820412,\n",
              "        0.47913591, 0.5173223 , 0.54376825, 0.58618371, 0.61010551,\n",
              "        0.63893318, 0.66555293, 0.69772911, 0.73279087, 0.76708158,\n",
              "        0.7857608 , 0.83123477, 0.85250314, 0.89210502, 0.89269241]),\n",
              " 'mean_score_time': array([0.00100152, 0.00332276, 0.00498557, 0.00713666, 0.01307249,\n",
              "        0.0113248 , 0.01329819, 0.0147349 , 0.01665235, 0.01905505,\n",
              "        0.02088459, 0.02273417, 0.02496688, 0.02667514, 0.02957177,\n",
              "        0.03367392, 0.03270117, 0.0350279 , 0.0366958 , 0.03921628,\n",
              "        0.0434556 , 0.04301373, 0.04381847, 0.04679171, 0.04775174,\n",
              "        0.05097524, 0.05251598, 0.05438455, 0.05941987, 0.05079206]),\n",
              " 'mean_test_score': array([-4.66981492, -3.86445783, -3.83627   , -3.83846786, -3.81685444,\n",
              "        -3.81216739, -3.81078847, -3.81450129, -3.8139802 , -3.81662189,\n",
              "        -3.81660202, -3.81481223, -3.81644272, -3.81437999, -3.81549326,\n",
              "        -3.81854902, -3.82050803, -3.82089063, -3.82206254, -3.82219805,\n",
              "        -3.82119   , -3.8222143 , -3.82254276, -3.82174241, -3.82163835,\n",
              "        -3.82427069, -3.82419244, -3.82400111, -3.82261904, -3.82336992]),\n",
              " 'param_n_estimators': masked_array(data=[1, 11, 21, 32, 42, 52, 63, 73, 83, 94, 104, 114, 125,\n",
              "                    135, 145, 156, 166, 176, 187, 197, 207, 218, 228, 238,\n",
              "                    249, 259, 269, 280, 290, 301],\n",
              "              mask=[False, False, False, False, False, False, False, False,\n",
              "                    False, False, False, False, False, False, False, False,\n",
              "                    False, False, False, False, False, False, False, False,\n",
              "                    False, False, False, False, False, False],\n",
              "        fill_value='?',\n",
              "             dtype=object),\n",
              " 'params': [{'n_estimators': 1},\n",
              "  {'n_estimators': 11},\n",
              "  {'n_estimators': 21},\n",
              "  {'n_estimators': 32},\n",
              "  {'n_estimators': 42},\n",
              "  {'n_estimators': 52},\n",
              "  {'n_estimators': 63},\n",
              "  {'n_estimators': 73},\n",
              "  {'n_estimators': 83},\n",
              "  {'n_estimators': 94},\n",
              "  {'n_estimators': 104},\n",
              "  {'n_estimators': 114},\n",
              "  {'n_estimators': 125},\n",
              "  {'n_estimators': 135},\n",
              "  {'n_estimators': 145},\n",
              "  {'n_estimators': 156},\n",
              "  {'n_estimators': 166},\n",
              "  {'n_estimators': 176},\n",
              "  {'n_estimators': 187},\n",
              "  {'n_estimators': 197},\n",
              "  {'n_estimators': 207},\n",
              "  {'n_estimators': 218},\n",
              "  {'n_estimators': 228},\n",
              "  {'n_estimators': 238},\n",
              "  {'n_estimators': 249},\n",
              "  {'n_estimators': 259},\n",
              "  {'n_estimators': 269},\n",
              "  {'n_estimators': 280},\n",
              "  {'n_estimators': 290},\n",
              "  {'n_estimators': 301}],\n",
              " 'rank_test_score': array([30, 29, 27, 28, 11,  2,  1,  5,  3, 10,  9,  6,  8,  4,  7, 12, 13,\n",
              "        14, 18, 19, 15, 20, 21, 17, 16, 26, 25, 24, 22, 23], dtype=int32),\n",
              " 'split0_test_score': array([-4.7689547 , -3.85069263, -3.83803981, -3.83837816, -3.80336287,\n",
              "        -3.80061473, -3.81424293, -3.81962163, -3.81935809, -3.82419495,\n",
              "        -3.82379484, -3.81578679, -3.82038066, -3.81709731, -3.82134913,\n",
              "        -3.82102774, -3.8202455 , -3.82046866, -3.82440052, -3.8265969 ,\n",
              "        -3.82717015, -3.82683786, -3.82672611, -3.82257747, -3.82296643,\n",
              "        -3.8263719 , -3.82576948, -3.82474373, -3.82369567, -3.82530468]),\n",
              " 'split1_test_score': array([-4.58390824, -3.78189492, -3.76142911, -3.77374258, -3.75334701,\n",
              "        -3.74745337, -3.74036516, -3.74276272, -3.74041516, -3.74594741,\n",
              "        -3.74482863, -3.74811645, -3.74773488, -3.74752645, -3.74556938,\n",
              "        -3.75268248, -3.75408443, -3.7551076 , -3.75553262, -3.75471268,\n",
              "        -3.75306188, -3.75380256, -3.75279611, -3.75301245, -3.75025121,\n",
              "        -3.75463189, -3.75510421, -3.75445459, -3.75215075, -3.75323531]),\n",
              " 'split2_test_score': array([-4.65658184, -3.96078596, -3.90934108, -3.90328285, -3.89385344,\n",
              "        -3.88843408, -3.87775732, -3.88111952, -3.88216737, -3.8797233 ,\n",
              "        -3.88118261, -3.88053346, -3.88121263, -3.87851621, -3.87956128,\n",
              "        -3.88193684, -3.88719417, -3.88709563, -3.88625448, -3.88528456,\n",
              "        -3.88333796, -3.88600246, -3.88810607, -3.88963731, -3.89169742,\n",
              "        -3.89180827, -3.89170364, -3.89280501, -3.89201071, -3.89156978]),\n",
              " 'std_fit_time': array([0.00012786, 0.00355822, 0.00358327, 0.00780145, 0.00892616,\n",
              "        0.00264077, 0.00291957, 0.00313416, 0.00838289, 0.00217217,\n",
              "        0.00836337, 0.00893425, 0.00676598, 0.00969232, 0.00856798,\n",
              "        0.0063316 , 0.01396627, 0.00832517, 0.00702713, 0.00689298,\n",
              "        0.01399698, 0.00683133, 0.01075171, 0.00101446, 0.01002189,\n",
              "        0.00672217, 0.00596882, 0.00412478, 0.01213316, 0.04926969]),\n",
              " 'std_score_time': array([1.79291441e-04, 2.32047495e-04, 1.80703458e-04, 1.76184859e-04,\n",
              "        5.15928251e-03, 1.54653287e-04, 2.07694044e-04, 4.46135181e-05,\n",
              "        9.28678367e-05, 3.80801188e-04, 3.62407028e-04, 4.27355488e-04,\n",
              "        5.33393227e-04, 4.81042845e-04, 1.57552843e-03, 3.39539175e-03,\n",
              "        1.01504517e-03, 1.21374126e-03, 6.37258754e-04, 1.45497513e-03,\n",
              "        2.96581329e-03, 6.97803497e-04, 3.38071660e-04, 1.15454566e-03,\n",
              "        3.17695796e-04, 1.24033234e-03, 1.21089269e-03, 5.64471292e-04,\n",
              "        5.40717230e-03, 1.08260477e-02]),\n",
              " 'std_test_score': array([0.0761222 , 0.07367773, 0.06039778, 0.05288463, 0.05814941,\n",
              "        0.05813197, 0.05614328, 0.05659985, 0.0579949 , 0.05487568,\n",
              "        0.05589815, 0.05406341, 0.05456316, 0.05351085, 0.05485846,\n",
              "        0.05279697, 0.05434214, 0.05388471, 0.05339258, 0.05339642,\n",
              "        0.05335283, 0.05406932, 0.0553192 , 0.05577999, 0.05775281,\n",
              "        0.05602173, 0.05577763, 0.05648376, 0.05710267, 0.05649138])}"
            ]
          },
          "metadata": {},
          "execution_count": 52
        }
      ]
    },
    {
      "cell_type": "code",
      "source": [
        "def plot_results(model, param = 'n_estimators', name = 'Num Trees'):\n",
        "    param_name = 'param_%s' % param\n",
        "\n",
        "    # Extract information from the cross validation model\n",
        "    train_scores = model.cv_results_['mean_train_score']\n",
        "    test_scores = model.cv_results_['mean_test_score']\n",
        "    train_time = model.cv_results_['mean_fit_time']\n",
        "    param_values = list(model.cv_results_[param_name])\n",
        "    \n",
        "    # Plot the scores over the parameter\n",
        "    plt.subplots(1, 2, figsize=(10, 6))\n",
        "    plt.subplot(121)\n",
        "    plt.plot(param_values, train_scores, 'bo-', label = 'train')\n",
        "    plt.plot(param_values, test_scores, 'go-', label = 'test')\n",
        "    plt.ylim(ymin = -10, ymax = 0)\n",
        "    plt.legend()\n",
        "    plt.xlabel(name)\n",
        "    plt.ylabel('Neg Mean Absolute Error')\n",
        "    plt.title('Score vs %s' % name)\n",
        "    \n",
        "    plt.subplot(122)\n",
        "    plt.plot(param_values, train_time, 'ro-')\n",
        "    plt.ylim(ymin = 0.0, ymax = 2.0)\n",
        "    plt.xlabel(name)\n",
        "    plt.ylabel('Train Time (sec)')\n",
        "    plt.title('Training Time vs %s' % name)\n",
        "    \n",
        "    \n",
        "    plt.tight_layout(pad = 4)"
      ],
      "metadata": {
        "id": "EpczajZ16WW3"
      },
      "execution_count": 53,
      "outputs": []
    },
    {
      "cell_type": "code",
      "source": [
        "plot_results(tree_grid_search)"
      ],
      "metadata": {
        "colab": {
          "base_uri": "https://localhost:8080/",
          "height": 283
        },
        "id": "KN2lMqgC6aM0",
        "outputId": "f410619a-de4e-4db1-8fd8-f5c7ab02dddb"
      },
      "execution_count": 54,
      "outputs": [
        {
          "output_type": "error",
          "ename": "KeyError",
          "evalue": "ignored",
          "traceback": [
            "\u001b[0;31m---------------------------------------------------------------------------\u001b[0m",
            "\u001b[0;31mKeyError\u001b[0m                                  Traceback (most recent call last)",
            "\u001b[0;32m<ipython-input-54-049880f5e807>\u001b[0m in \u001b[0;36m<module>\u001b[0;34m()\u001b[0m\n\u001b[0;32m----> 1\u001b[0;31m \u001b[0mplot_results\u001b[0m\u001b[0;34m(\u001b[0m\u001b[0mtree_grid_search\u001b[0m\u001b[0;34m)\u001b[0m\u001b[0;34m\u001b[0m\u001b[0;34m\u001b[0m\u001b[0m\n\u001b[0m",
            "\u001b[0;32m<ipython-input-53-e85750338fcc>\u001b[0m in \u001b[0;36mplot_results\u001b[0;34m(model, param, name)\u001b[0m\n\u001b[1;32m      3\u001b[0m \u001b[0;34m\u001b[0m\u001b[0m\n\u001b[1;32m      4\u001b[0m     \u001b[0;31m# Extract information from the cross validation model\u001b[0m\u001b[0;34m\u001b[0m\u001b[0;34m\u001b[0m\u001b[0;34m\u001b[0m\u001b[0m\n\u001b[0;32m----> 5\u001b[0;31m     \u001b[0mtrain_scores\u001b[0m \u001b[0;34m=\u001b[0m \u001b[0mmodel\u001b[0m\u001b[0;34m.\u001b[0m\u001b[0mcv_results_\u001b[0m\u001b[0;34m[\u001b[0m\u001b[0;34m'mean_train_score'\u001b[0m\u001b[0;34m]\u001b[0m\u001b[0;34m\u001b[0m\u001b[0;34m\u001b[0m\u001b[0m\n\u001b[0m\u001b[1;32m      6\u001b[0m     \u001b[0mtest_scores\u001b[0m \u001b[0;34m=\u001b[0m \u001b[0mmodel\u001b[0m\u001b[0;34m.\u001b[0m\u001b[0mcv_results_\u001b[0m\u001b[0;34m[\u001b[0m\u001b[0;34m'mean_test_score'\u001b[0m\u001b[0;34m]\u001b[0m\u001b[0;34m\u001b[0m\u001b[0;34m\u001b[0m\u001b[0m\n\u001b[1;32m      7\u001b[0m     \u001b[0mtrain_time\u001b[0m \u001b[0;34m=\u001b[0m \u001b[0mmodel\u001b[0m\u001b[0;34m.\u001b[0m\u001b[0mcv_results_\u001b[0m\u001b[0;34m[\u001b[0m\u001b[0;34m'mean_fit_time'\u001b[0m\u001b[0;34m]\u001b[0m\u001b[0;34m\u001b[0m\u001b[0;34m\u001b[0m\u001b[0m\n",
            "\u001b[0;31mKeyError\u001b[0m: 'mean_train_score'"
          ]
        }
      ]
    },
    {
      "cell_type": "markdown",
      "source": [
        "## Number of Features at Each Split"
      ],
      "metadata": {
        "id": "uujEeuV36b1I"
      }
    },
    {
      "cell_type": "code",
      "source": [
        "# Define a grid over only the maximum number of features\n",
        "feature_grid = {'max_features': list(range(1, train_features.shape[1] + 1))}"
      ],
      "metadata": {
        "id": "Cwi2EbIU6dt1"
      },
      "execution_count": null,
      "outputs": []
    },
    {
      "cell_type": "code",
      "source": [
        "# Create the grid search and fit on the training data\n",
        "feature_grid_search = GridSearchCV(final_model, param_grid=feature_grid, cv = 3, n_jobs=-1, verbose= 2,\n",
        "                                  scoring = 'neg_mean_absolute_error')\n",
        "feature_grid_search.fit(train_features, train_labels);"
      ],
      "metadata": {
        "id": "8G7SPs-r6gpu"
      },
      "execution_count": null,
      "outputs": []
    },
    {
      "cell_type": "code",
      "source": [
        "plot_results(feature_grid_search, param='max_features', name = 'Max Features')"
      ],
      "metadata": {
        "id": "Pm5nB-666ki7"
      },
      "execution_count": null,
      "outputs": []
    },
    {
      "cell_type": "markdown",
      "source": [
        "# Visualizing One Tree in the Forest"
      ],
      "metadata": {
        "id": "aNkz6Pgf6qwL"
      }
    },
    {
      "cell_type": "code",
      "source": [
        "# Use sklearn to export the tree \n",
        "from sklearn.tree import export_graphviz\n",
        "\n",
        "# Write the decision tree as a dot file\n",
        "visual_tree = final_model.estimators_[12]\n",
        "export_graphviz(visual_tree, out_file = 'images/best_tree.dot', feature_names = important_feature_names, \n",
        "                precision = 2, filled = True, rounded = True, max_depth = None)"
      ],
      "metadata": {
        "id": "GSY_uDD96mi1"
      },
      "execution_count": null,
      "outputs": []
    },
    {
      "cell_type": "code",
      "source": [
        "# Use pydot for converting to an image file\n",
        "import pydot\n",
        "\n",
        "# Import the dot file to a graph and then convert to a png\n",
        "(graph, ) = pydot.graph_from_dot_file('images/best_tree.dot')\n",
        "graph.write_png('images/best_tree.png')"
      ],
      "metadata": {
        "id": "Xkrmwrla6s38"
      },
      "execution_count": null,
      "outputs": []
    }
  ]
}