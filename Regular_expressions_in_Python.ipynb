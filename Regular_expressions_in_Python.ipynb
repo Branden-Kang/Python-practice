{
  "nbformat": 4,
  "nbformat_minor": 0,
  "metadata": {
    "colab": {
      "name": "Regular expressions in Python.ipynb",
      "provenance": [],
      "authorship_tag": "ABX9TyMNi2Ta6HBRqaX1Gd1Ncevi"
    },
    "kernelspec": {
      "name": "python3",
      "display_name": "Python 3"
    }
  },
  "cells": [
    {
      "cell_type": "markdown",
      "metadata": {
        "id": "B5f-sMnTgOV0",
        "colab_type": "text"
      },
      "source": [
        "[Reference](https://towardsdatascience.com/regular-expressions-in-python-2f79e37f8dff)"
      ]
    },
    {
      "cell_type": "code",
      "metadata": {
        "id": "PtZ4eDrwgLIu",
        "colab_type": "code",
        "colab": {}
      },
      "source": [
        "import re"
      ],
      "execution_count": 1,
      "outputs": []
    },
    {
      "cell_type": "code",
      "metadata": {
        "id": "_QSO04C7gQr3",
        "colab_type": "code",
        "colab": {
          "base_uri": "https://localhost:8080/",
          "height": 34
        },
        "outputId": "f21bd5d7-6721-4c54-a452-42b61db37de6"
      },
      "source": [
        "s1= \"Practical123DataScie\"\n",
        "re.search(\"123\", s1)"
      ],
      "execution_count": 2,
      "outputs": [
        {
          "output_type": "execute_result",
          "data": {
            "text/plain": [
              "<_sre.SRE_Match object; span=(9, 12), match='123'>"
            ]
          },
          "metadata": {
            "tags": []
          },
          "execution_count": 2
        }
      ]
    },
    {
      "cell_type": "code",
      "metadata": {
        "id": "Z-APpbU5gSAB",
        "colab_type": "code",
        "colab": {}
      },
      "source": [
        "s2 = \"PracticalDataScie052\"\n",
        "re.search('[0–9][0–9][0–9]', s2)"
      ],
      "execution_count": 5,
      "outputs": []
    },
    {
      "cell_type": "code",
      "metadata": {
        "id": "2jeBEKmqgWn4",
        "colab_type": "code",
        "colab": {
          "base_uri": "https://localhost:8080/",
          "height": 34
        },
        "outputId": "87b47364-1447-4597-b609-2c09451b7b3b"
      },
      "source": [
        "re.search('[0]', s2)"
      ],
      "execution_count": 6,
      "outputs": [
        {
          "output_type": "execute_result",
          "data": {
            "text/plain": [
              "<_sre.SRE_Match object; span=(17, 18), match='0'>"
            ]
          },
          "metadata": {
            "tags": []
          },
          "execution_count": 6
        }
      ]
    },
    {
      "cell_type": "code",
      "metadata": {
        "id": "JOHkhtLWgb1P",
        "colab_type": "code",
        "colab": {
          "base_uri": "https://localhost:8080/",
          "height": 34
        },
        "outputId": "a2835bc3-3500-4e20-bc71-26b751269b60"
      },
      "source": [
        "re.search('[0][5][2]', s2)"
      ],
      "execution_count": 7,
      "outputs": [
        {
          "output_type": "execute_result",
          "data": {
            "text/plain": [
              "<_sre.SRE_Match object; span=(17, 20), match='052'>"
            ]
          },
          "metadata": {
            "tags": []
          },
          "execution_count": 7
        }
      ]
    },
    {
      "cell_type": "code",
      "metadata": {
        "id": "rg7j-jNUggb3",
        "colab_type": "code",
        "colab": {
          "base_uri": "https://localhost:8080/",
          "height": 34
        },
        "outputId": "ac5d9fcd-eb91-4c88-ec30-359d246e776e"
      },
      "source": [
        "re.search('[0–9]', s2)"
      ],
      "execution_count": 8,
      "outputs": [
        {
          "output_type": "execute_result",
          "data": {
            "text/plain": [
              "<_sre.SRE_Match object; span=(17, 18), match='0'>"
            ]
          },
          "metadata": {
            "tags": []
          },
          "execution_count": 8
        }
      ]
    },
    {
      "cell_type": "code",
      "metadata": {
        "id": "jyjsW60vgieV",
        "colab_type": "code",
        "colab": {}
      },
      "source": [
        "re.search('[0–9][0–9][0–9]', s2)"
      ],
      "execution_count": 9,
      "outputs": []
    },
    {
      "cell_type": "code",
      "metadata": {
        "id": "ffMX2SW8jhq6",
        "colab_type": "code",
        "colab": {
          "base_uri": "https://localhost:8080/",
          "height": 34
        },
        "outputId": "349c74e9-b93f-4754-b004-896e83586be4"
      },
      "source": [
        "re.search('[a-z][0–9]', s2)"
      ],
      "execution_count": 10,
      "outputs": [
        {
          "output_type": "execute_result",
          "data": {
            "text/plain": [
              "<_sre.SRE_Match object; span=(16, 18), match='e0'>"
            ]
          },
          "metadata": {
            "tags": []
          },
          "execution_count": 10
        }
      ]
    },
    {
      "cell_type": "code",
      "metadata": {
        "id": "bvU2t4J6jkSh",
        "colab_type": "code",
        "colab": {
          "base_uri": "https://localhost:8080/",
          "height": 34
        },
        "outputId": "e6b264c8-c370-4452-fab7-fe66fece7d44"
      },
      "source": [
        "re.search('[a-z][\\d]', s2)"
      ],
      "execution_count": 11,
      "outputs": [
        {
          "output_type": "execute_result",
          "data": {
            "text/plain": [
              "<_sre.SRE_Match object; span=(16, 18), match='e0'>"
            ]
          },
          "metadata": {
            "tags": []
          },
          "execution_count": 11
        }
      ]
    },
    {
      "cell_type": "code",
      "metadata": {
        "id": "IIjTpOxAjpbc",
        "colab_type": "code",
        "colab": {
          "base_uri": "https://localhost:8080/",
          "height": 34
        },
        "outputId": "1f4e6155-372d-400b-ac3e-b79331b3e55f"
      },
      "source": [
        "re.split('[;]', 'Data;Science and; Data Analysis;courses')"
      ],
      "execution_count": 12,
      "outputs": [
        {
          "output_type": "execute_result",
          "data": {
            "text/plain": [
              "['Data', 'Science and', ' Data Analysis', 'courses']"
            ]
          },
          "metadata": {
            "tags": []
          },
          "execution_count": 12
        }
      ]
    },
    {
      "cell_type": "code",
      "metadata": {
        "id": "rBngeb96j1If",
        "colab_type": "code",
        "colab": {
          "base_uri": "https://localhost:8080/",
          "height": 34
        },
        "outputId": "e4ab6879-8aec-4636-d161-da449368cc0d"
      },
      "source": [
        "string = \"Data12Science567programbyAWS025GoogleCloud\"\n",
        "re.split('\\d+', string)"
      ],
      "execution_count": 13,
      "outputs": [
        {
          "output_type": "execute_result",
          "data": {
            "text/plain": [
              "['Data', 'Science', 'programbyAWS', 'GoogleCloud']"
            ]
          },
          "metadata": {
            "tags": []
          },
          "execution_count": 13
        }
      ]
    },
    {
      "cell_type": "code",
      "metadata": {
        "id": "ClVPjW6Hj7dr",
        "colab_type": "code",
        "colab": {
          "base_uri": "https://localhost:8080/",
          "height": 34
        },
        "outputId": "729787c1-5af2-4ff7-d988-8e8f65a106b8"
      },
      "source": [
        "string = '''101              Python       DataScience \n",
        "                  102           R      DataAnalysis'''\n",
        "re.split('\\s+', string)"
      ],
      "execution_count": 14,
      "outputs": [
        {
          "output_type": "execute_result",
          "data": {
            "text/plain": [
              "['101', 'Python', 'DataScience', '102', 'R', 'DataAnalysis']"
            ]
          },
          "metadata": {
            "tags": []
          },
          "execution_count": 14
        }
      ]
    }
  ]
}