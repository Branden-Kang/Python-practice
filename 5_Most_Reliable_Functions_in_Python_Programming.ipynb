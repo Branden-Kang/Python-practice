{
  "nbformat": 4,
  "nbformat_minor": 0,
  "metadata": {
    "colab": {
      "name": "5 Most Reliable Functions in Python Programming.ipynb",
      "provenance": [],
      "authorship_tag": "ABX9TyNpoiDnM1XFv9TPRqri0xYs"
    },
    "kernelspec": {
      "name": "python3",
      "display_name": "Python 3"
    },
    "language_info": {
      "name": "python"
    }
  },
  "cells": [
    {
      "cell_type": "markdown",
      "metadata": {
        "id": "Z9gCU4PNotPm"
      },
      "source": [
        "[Reference](https://towardsdatascience.com/5-most-reliable-functions-you-should-know-in-python-programming-654db1bb89f)"
      ]
    },
    {
      "cell_type": "markdown",
      "metadata": {
        "id": "YWQG5jxco-JG"
      },
      "source": [
        "# Map Function"
      ]
    },
    {
      "cell_type": "code",
      "metadata": {
        "colab": {
          "base_uri": "https://localhost:8080/"
        },
        "id": "AhjhwSFMooQ1",
        "outputId": "e2bd64dd-61ad-4c2d-a593-eb5cf79a223e"
      },
      "source": [
        "def makeupper(word):\n",
        "    return word.upper()\n",
        "\n",
        "colors = ['red','yellow','green','black']\n",
        "colors_uppercase = list(map(makeupper,colors))\n",
        "colors_uppercase"
      ],
      "execution_count": 1,
      "outputs": [
        {
          "output_type": "execute_result",
          "data": {
            "text/plain": [
              "['RED', 'YELLOW', 'GREEN', 'BLACK']"
            ]
          },
          "metadata": {},
          "execution_count": 1
        }
      ]
    },
    {
      "cell_type": "code",
      "metadata": {
        "id": "llqIPig-o9Rp"
      },
      "source": [
        "import numpy as np\n",
        "def cubed(num):\n",
        "    return num**3\n",
        "\n",
        "original_list = list(np.arange(1,15,3))"
      ],
      "execution_count": 5,
      "outputs": []
    },
    {
      "cell_type": "code",
      "metadata": {
        "colab": {
          "base_uri": "https://localhost:8080/"
        },
        "id": "CfVAmuHPpG1W",
        "outputId": "8888f224-4a33-4995-fce2-a2a1cd1db06d"
      },
      "source": [
        "%%timeit\n",
        "cubed_list = []\n",
        "for num in original_list:\n",
        "    cubed_list.append(cubed(num))"
      ],
      "execution_count": 6,
      "outputs": [
        {
          "output_type": "stream",
          "name": "stdout",
          "text": [
            "The slowest run took 7.78 times longer than the fastest. This could mean that an intermediate result is being cached.\n",
            "100000 loops, best of 5: 2.23 µs per loop\n"
          ]
        }
      ]
    },
    {
      "cell_type": "code",
      "metadata": {
        "colab": {
          "base_uri": "https://localhost:8080/"
        },
        "id": "ztnN9e-gpM0f",
        "outputId": "730ca4b9-3734-4773-a8d7-265706777623"
      },
      "source": [
        "%%timeit\n",
        "cubed_list = []\n",
        "cubed_list = list(map(cubed, original_list))"
      ],
      "execution_count": 7,
      "outputs": [
        {
          "output_type": "stream",
          "name": "stdout",
          "text": [
            "The slowest run took 8.89 times longer than the fastest. This could mean that an intermediate result is being cached.\n",
            "100000 loops, best of 5: 2.09 µs per loop\n"
          ]
        }
      ]
    },
    {
      "cell_type": "markdown",
      "metadata": {
        "id": "ZpVxCIjSpaSy"
      },
      "source": [
        "# enumerate Function"
      ]
    },
    {
      "cell_type": "code",
      "metadata": {
        "id": "tUnr8Q7TpZbv"
      },
      "source": [
        "colors = ['red', 'yellow', 'green', 'black']\n",
        "result = enumerate(colors)"
      ],
      "execution_count": 19,
      "outputs": []
    },
    {
      "cell_type": "code",
      "metadata": {
        "colab": {
          "base_uri": "https://localhost:8080/"
        },
        "id": "za-ziVgepbmz",
        "outputId": "9d0e3351-437d-4210-9f9b-dd0a7a1386c9"
      },
      "source": [
        "type(result)"
      ],
      "execution_count": 20,
      "outputs": [
        {
          "output_type": "execute_result",
          "data": {
            "text/plain": [
              "enumerate"
            ]
          },
          "metadata": {},
          "execution_count": 20
        }
      ]
    },
    {
      "cell_type": "code",
      "metadata": {
        "colab": {
          "base_uri": "https://localhost:8080/"
        },
        "id": "MwamdIn9pdIo",
        "outputId": "2e95092f-4049-4259-813c-ee14296f8e41"
      },
      "source": [
        "list(result)"
      ],
      "execution_count": 21,
      "outputs": [
        {
          "output_type": "execute_result",
          "data": {
            "text/plain": [
              "[(0, 'red'), (1, 'yellow'), (2, 'green'), (3, 'black')]"
            ]
          },
          "metadata": {},
          "execution_count": 21
        }
      ]
    },
    {
      "cell_type": "code",
      "metadata": {
        "id": "0PccxifppenB"
      },
      "source": [
        "for count, element in result:\n",
        "    print(f\"Iteration Number: {count}, corresponding element: {element}\")"
      ],
      "execution_count": 22,
      "outputs": []
    },
    {
      "cell_type": "markdown",
      "metadata": {
        "id": "Fkwegv-Sp2fX"
      },
      "source": [
        "# Zip Function"
      ]
    },
    {
      "cell_type": "code",
      "metadata": {
        "id": "Z8-J8F2Zpnbg"
      },
      "source": [
        "colors = ['red', 'yellow', 'green', 'black']\n",
        "fruits = ['apple', 'pineapple', 'grapes', 'cherry']"
      ],
      "execution_count": 23,
      "outputs": []
    },
    {
      "cell_type": "code",
      "metadata": {
        "colab": {
          "base_uri": "https://localhost:8080/"
        },
        "id": "oysvNNUZp3ou",
        "outputId": "e74e658c-4b77-43b9-f1d4-5d5bd066d380"
      },
      "source": [
        "for item in zip(colors, fruits):\n",
        "    print(item)"
      ],
      "execution_count": 24,
      "outputs": [
        {
          "output_type": "stream",
          "name": "stdout",
          "text": [
            "('red', 'apple')\n",
            "('yellow', 'pineapple')\n",
            "('green', 'grapes')\n",
            "('black', 'cherry')\n"
          ]
        }
      ]
    },
    {
      "cell_type": "code",
      "metadata": {
        "colab": {
          "base_uri": "https://localhost:8080/"
        },
        "id": "61SAMa0cp552",
        "outputId": "6b614bcf-e439-4bd3-be6c-ac2a36cf4b54"
      },
      "source": [
        "colors = ['red', 'yellow', 'green', 'black']\n",
        "fruits = ['apple', 'pineapple', 'grapes', 'cherry']\n",
        "prices = [100, 50, 120]\n",
        "for item in zip(colors, fruits, prices):\n",
        "    print(item)"
      ],
      "execution_count": 25,
      "outputs": [
        {
          "output_type": "stream",
          "name": "stdout",
          "text": [
            "('red', 'apple', 100)\n",
            "('yellow', 'pineapple', 50)\n",
            "('green', 'grapes', 120)\n"
          ]
        }
      ]
    },
    {
      "cell_type": "markdown",
      "metadata": {
        "id": "1eA6z8O5qBVO"
      },
      "source": [
        "# Filter Function"
      ]
    },
    {
      "cell_type": "code",
      "metadata": {
        "colab": {
          "base_uri": "https://localhost:8080/"
        },
        "id": "HbEreYcYp_wA",
        "outputId": "dbff7333-2c3a-4e1a-aff3-81017832c57f"
      },
      "source": [
        "def checkupper(word):\n",
        "    return True if word.isupper() else False\n",
        "\n",
        "original_list = ['APPle',\"SAMSUNG\",\"NoKiA\",\"OPPO\",\"Vivo\",\"MicroMax\"]\n",
        "filtered_list = filter(checkupper, original_list)\n",
        "print(f\"Original List is: {original_list}\")\n",
        "print(f\"Filtered List is: {list(filtered_list)}\")"
      ],
      "execution_count": 27,
      "outputs": [
        {
          "output_type": "stream",
          "name": "stdout",
          "text": [
            "Original List is: ['APPle', 'SAMSUNG', 'NoKiA', 'OPPO', 'Vivo', 'MicroMax']\n",
            "Filtered List is: ['SAMSUNG', 'OPPO']\n"
          ]
        }
      ]
    },
    {
      "cell_type": "markdown",
      "metadata": {
        "id": "O023FEk7qbfn"
      },
      "source": [
        "# Lambda Function"
      ]
    },
    {
      "cell_type": "code",
      "metadata": {
        "colab": {
          "base_uri": "https://localhost:8080/"
        },
        "id": "z-GJr-s4qY0u",
        "outputId": "2b2ba4a2-e731-48a5-840c-49a0a43217e4"
      },
      "source": [
        "add2 = lambda x: x+2\n",
        "add2(10) "
      ],
      "execution_count": 28,
      "outputs": [
        {
          "output_type": "execute_result",
          "data": {
            "text/plain": [
              "12"
            ]
          },
          "metadata": {},
          "execution_count": 28
        }
      ]
    },
    {
      "cell_type": "code",
      "metadata": {
        "colab": {
          "base_uri": "https://localhost:8080/"
        },
        "id": "0OmC3LxSqfju",
        "outputId": "3111aa4d-bb3e-4348-cdc6-7689d65eacf8"
      },
      "source": [
        "import numpy as np\n",
        "listofx = list(np.arange(1,15,3))\n",
        "newlist = [(lambda x: x+2)(x) for x in listofx if x%2==0]\n",
        "print(f\"Original list is: {listofx}\")\n",
        "print(f\"Result of List Comprehension is: {newlist}\")"
      ],
      "execution_count": 29,
      "outputs": [
        {
          "output_type": "stream",
          "name": "stdout",
          "text": [
            "Original list is: [1, 4, 7, 10, 13]\n",
            "Result of List Comprehension is: [6, 12]\n"
          ]
        }
      ]
    }
  ]
}