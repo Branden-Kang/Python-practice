{
  "nbformat": 4,
  "nbformat_minor": 0,
  "metadata": {
    "colab": {
      "provenance": [],
      "authorship_tag": "ABX9TyMDUN/8Ef2YSgvP97A1MT5u"
    },
    "kernelspec": {
      "name": "python3",
      "display_name": "Python 3"
    },
    "language_info": {
      "name": "python"
    }
  },
  "cells": [
    {
      "cell_type": "markdown",
      "source": [
        "[Reference](https://towardsdev.com/pydbt-python-data-transformations-in-the-warehouse-2e0b660fd3cf)"
      ],
      "metadata": {
        "id": "jRGZN2s9loG5"
      }
    },
    {
      "cell_type": "code",
      "execution_count": 1,
      "metadata": {
        "colab": {
          "base_uri": "https://localhost:8080/",
          "height": 837
        },
        "id": "nlEXD4gMlmSb",
        "outputId": "af801a51-b3ad-470a-a002-5cddf63edbfe"
      },
      "outputs": [
        {
          "output_type": "stream",
          "name": "stdout",
          "text": [
            "Looking in indexes: https://pypi.org/simple, https://us-python.pkg.dev/colab-wheels/public/simple/\n",
            "Collecting pydwt\n",
            "  Downloading pydwt-0.1.1-py3-none-any.whl (19 kB)\n",
            "Requirement already satisfied: networkx<4.0,>=3.0 in /usr/local/lib/python3.9/dist-packages (from pydwt) (3.0)\n",
            "Collecting sqlalchemy<3.0.0,>=2.0.1\n",
            "  Downloading SQLAlchemy-2.0.6-cp39-cp39-manylinux_2_17_x86_64.manylinux2014_x86_64.whl (2.8 MB)\n",
            "\u001b[2K     \u001b[90m━━━━━━━━━━━━━━━━━━━━━━━━━━━━━━━━━━━━━━━━\u001b[0m \u001b[32m2.8/2.8 MB\u001b[0m \u001b[31m21.0 MB/s\u001b[0m eta \u001b[36m0:00:00\u001b[0m\n",
            "\u001b[?25hRequirement already satisfied: typer<0.8.0,>=0.7.0 in /usr/local/lib/python3.9/dist-packages (from pydwt) (0.7.0)\n",
            "Collecting matplotlib<4.0.0,>=3.6.3\n",
            "  Downloading matplotlib-3.7.1-cp39-cp39-manylinux_2_17_x86_64.manylinux2014_x86_64.whl (11.6 MB)\n",
            "\u001b[2K     \u001b[90m━━━━━━━━━━━━━━━━━━━━━━━━━━━━━━━━━━━━━━━━\u001b[0m \u001b[32m11.6/11.6 MB\u001b[0m \u001b[31m52.6 MB/s\u001b[0m eta \u001b[36m0:00:00\u001b[0m\n",
            "\u001b[?25hCollecting dependency-injector<5.0.0,>=4.41.0\n",
            "  Downloading dependency_injector-4.41.0-cp39-cp39-manylinux_2_17_x86_64.manylinux2014_x86_64.whl (4.1 MB)\n",
            "\u001b[2K     \u001b[90m━━━━━━━━━━━━━━━━━━━━━━━━━━━━━━━━━━━━━━━━\u001b[0m \u001b[32m4.1/4.1 MB\u001b[0m \u001b[31m14.9 MB/s\u001b[0m eta \u001b[36m0:00:00\u001b[0m\n",
            "\u001b[?25hRequirement already satisfied: pyyaml<7.0,>=6.0 in /usr/local/lib/python3.9/dist-packages (from pydwt) (6.0)\n",
            "Requirement already satisfied: six<=1.16.0,>=1.7.0 in /usr/local/lib/python3.9/dist-packages (from dependency-injector<5.0.0,>=4.41.0->pydwt) (1.15.0)\n",
            "Requirement already satisfied: fonttools>=4.22.0 in /usr/local/lib/python3.9/dist-packages (from matplotlib<4.0.0,>=3.6.3->pydwt) (4.39.0)\n",
            "Requirement already satisfied: numpy>=1.20 in /usr/local/lib/python3.9/dist-packages (from matplotlib<4.0.0,>=3.6.3->pydwt) (1.22.4)\n",
            "Requirement already satisfied: packaging>=20.0 in /usr/local/lib/python3.9/dist-packages (from matplotlib<4.0.0,>=3.6.3->pydwt) (23.0)\n",
            "Requirement already satisfied: kiwisolver>=1.0.1 in /usr/local/lib/python3.9/dist-packages (from matplotlib<4.0.0,>=3.6.3->pydwt) (1.4.4)\n",
            "Collecting contourpy>=1.0.1\n",
            "  Downloading contourpy-1.0.7-cp39-cp39-manylinux_2_17_x86_64.manylinux2014_x86_64.whl (299 kB)\n",
            "\u001b[2K     \u001b[90m━━━━━━━━━━━━━━━━━━━━━━━━━━━━━━━━━━━━━━\u001b[0m \u001b[32m299.7/299.7 KB\u001b[0m \u001b[31m14.5 MB/s\u001b[0m eta \u001b[36m0:00:00\u001b[0m\n",
            "\u001b[?25hRequirement already satisfied: python-dateutil>=2.7 in /usr/local/lib/python3.9/dist-packages (from matplotlib<4.0.0,>=3.6.3->pydwt) (2.8.2)\n",
            "Requirement already satisfied: importlib-resources>=3.2.0 in /usr/local/lib/python3.9/dist-packages (from matplotlib<4.0.0,>=3.6.3->pydwt) (5.12.0)\n",
            "Requirement already satisfied: pyparsing>=2.3.1 in /usr/local/lib/python3.9/dist-packages (from matplotlib<4.0.0,>=3.6.3->pydwt) (3.0.9)\n",
            "Requirement already satisfied: cycler>=0.10 in /usr/local/lib/python3.9/dist-packages (from matplotlib<4.0.0,>=3.6.3->pydwt) (0.11.0)\n",
            "Requirement already satisfied: pillow>=6.2.0 in /usr/local/lib/python3.9/dist-packages (from matplotlib<4.0.0,>=3.6.3->pydwt) (8.4.0)\n",
            "Requirement already satisfied: greenlet!=0.4.17 in /usr/local/lib/python3.9/dist-packages (from sqlalchemy<3.0.0,>=2.0.1->pydwt) (2.0.2)\n",
            "Requirement already satisfied: typing-extensions>=4.2.0 in /usr/local/lib/python3.9/dist-packages (from sqlalchemy<3.0.0,>=2.0.1->pydwt) (4.5.0)\n",
            "Requirement already satisfied: click<9.0.0,>=7.1.1 in /usr/local/lib/python3.9/dist-packages (from typer<0.8.0,>=0.7.0->pydwt) (8.1.3)\n",
            "Requirement already satisfied: zipp>=3.1.0 in /usr/local/lib/python3.9/dist-packages (from importlib-resources>=3.2.0->matplotlib<4.0.0,>=3.6.3->pydwt) (3.15.0)\n",
            "Installing collected packages: sqlalchemy, dependency-injector, contourpy, matplotlib, pydwt\n",
            "  Attempting uninstall: sqlalchemy\n",
            "    Found existing installation: SQLAlchemy 1.4.46\n",
            "    Uninstalling SQLAlchemy-1.4.46:\n",
            "      Successfully uninstalled SQLAlchemy-1.4.46\n",
            "  Attempting uninstall: matplotlib\n",
            "    Found existing installation: matplotlib 3.5.3\n",
            "    Uninstalling matplotlib-3.5.3:\n",
            "      Successfully uninstalled matplotlib-3.5.3\n",
            "Successfully installed contourpy-1.0.7 dependency-injector-4.41.0 matplotlib-3.7.1 pydwt-0.1.1 sqlalchemy-2.0.6\n"
          ]
        },
        {
          "output_type": "display_data",
          "data": {
            "application/vnd.colab-display-data+json": {
              "pip_warning": {
                "packages": [
                  "matplotlib",
                  "mpl_toolkits"
                ]
              }
            }
          },
          "metadata": {}
        }
      ],
      "source": [
        "pip install pydwt"
      ]
    },
    {
      "cell_type": "markdown",
      "source": [
        "```\n",
        "my_project/\n",
        "    models/\n",
        "        example.py\n",
        "    dags/\n",
        "settings.yml\n",
        "```"
      ],
      "metadata": {
        "id": "3ErCCHY5lsB9"
      }
    },
    {
      "cell_type": "code",
      "source": [
        "from pydwt.core.task import Task\n",
        "from dependency_injector.wiring import inject, Provide\n",
        "from pydwt.core.containers import Container\n",
        "from sqlAlchemy import case\n",
        "\n",
        "@Task()\n",
        "@inject\n",
        "def task_one(config:dict = Provide[Container.config.tasks.task_one]):\n",
        "    df = session.table(\"features\")\n",
        "    df = df.with_column(\"new_column\", case((df.preds == \"hw\", \"W\")))\n",
        "    df.materialize(\"new_table\", as_=config[\"materialize\"])\n",
        "\n",
        "\n",
        "@Task(depends_on=[task_one])\n",
        "def task_two():\n",
        "    df = session.table(\"new_table\")\n",
        "    df = df.where((df.new_column == \"W\"))\n",
        "    df = df.with_column(\"new_column\", case((df.preds == \"hw\", \"W\")))\n",
        "    df.show()\n",
        "\n",
        "@Task(depends_on=[task_one])\n",
        "def task_three():\n",
        "    df = session.table(\"new_table\")\n",
        "    df = df.where((df.new_column == \"W\"))\n",
        "    df = df.with_column(\"new_column_bis\", case((df.preds == \"hw\", \"W\")))\n",
        "    df.show()"
      ],
      "metadata": {
        "id": "CpaIzU4glqqc"
      },
      "execution_count": null,
      "outputs": []
    }
  ]
}