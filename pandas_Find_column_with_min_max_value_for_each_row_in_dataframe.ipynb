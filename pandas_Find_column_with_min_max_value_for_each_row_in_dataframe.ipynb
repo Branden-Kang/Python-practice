{
  "nbformat": 4,
  "nbformat_minor": 0,
  "metadata": {
    "colab": {
      "name": "pandas: Find column with min/max value for each row in dataframe.ipynb",
      "provenance": [],
      "authorship_tag": "ABX9TyP98AI8QuvN/VS8wBIYiiY7"
    },
    "kernelspec": {
      "name": "python3",
      "display_name": "Python 3"
    },
    "language_info": {
      "name": "python"
    }
  },
  "cells": [
    {
      "cell_type": "markdown",
      "metadata": {
        "id": "0HDp-eyAM5Wp"
      },
      "source": [
        "[Reference](https://medium.com/nerd-for-tech/pandas-find-column-with-min-max-value-for-each-row-in-dataframe-a2f2d2b2ea7a)"
      ]
    },
    {
      "cell_type": "code",
      "metadata": {
        "colab": {
          "base_uri": "https://localhost:8080/"
        },
        "id": "cgBzjDqbMHcW",
        "outputId": "c93588ca-ec6d-4e8b-c18f-815b07cade37"
      },
      "source": [
        "import pandas as pd\n",
        "\n",
        "# Working data\n",
        "data = [\n",
        "    {\n",
        "        \"Symbol\": \"KLAC\",\n",
        "        \"Company\": \"KLA Corporation\",\n",
        "        \"Sector\": \"Information Technology\",\n",
        "        \"Date\": \"2018-02-02\",\n",
        "        \"Price\": 99.11979699999999,\n",
        "        #\"Assignments\": 2,\n",
        "        \"DistancesToClusterCenter no.0\": 1.360256609384238,\n",
        "        \"DistancesToClusterCenter no.1\": 1.6006314317690011,\n",
        "        \"DistancesToClusterCenter no.2\": 0.7541492328804794,\n",
        "        \"DistancesToClusterCenter no.3\": 1.5081092797555191,\n",
        "        \"DistancesToClusterCenter no.4\": 1.5305044066664453,\n",
        "        \"DistancesToClusterCenter no.5\": 1.6588949777953004,\n",
        "        \"DistancesToClusterCenter no.6\": 1.7548327626939508,\n",
        "        \"DistancesToClusterCenter no.7\": 1.6762755894931198,\n",
        "        \"DistancesToClusterCenter no.8\": 1.345775444852537,\n",
        "        \"DistancesToClusterCenter no.9\": 1.6720496207711137},\n",
        "    {\n",
        "        \"Symbol\": \"ADM\",\n",
        "        \"Company\": \"Archer-Daniels-Midland Company\",\n",
        "        \"Sector\": \"Consumer Staples\",\n",
        "        \"Date\": \"2017-08-14\",\n",
        "        \"Price\": 37.208633,\n",
        "        #\"Assignments\": 1,\n",
        "        \"DistancesToClusterCenter no.0\": 1.3486943217445082,\n",
        "        \"DistancesToClusterCenter no.1\": 0.7179199883155732,\n",
        "        \"DistancesToClusterCenter no.2\": 1.5854019756043016,\n",
        "        \"DistancesToClusterCenter no.3\": 1.5016190340086706,\n",
        "        \"DistancesToClusterCenter no.4\": 1.5052801018087034,\n",
        "        \"DistancesToClusterCenter no.5\": 1.6816139760877844,\n",
        "        \"DistancesToClusterCenter no.6\": 1.732138364833968,\n",
        "        \"DistancesToClusterCenter no.7\": 1.6648399176920667,\n",
        "        \"DistancesToClusterCenter no.8\": 1.3388687676479127,\n",
        "        \"DistancesToClusterCenter no.9\": 1.6605598470834293\n",
        "    }\n",
        "]\n",
        "\n",
        "# Create a DataFrame for the data\n",
        "df = pd.DataFrame(data)\n",
        "\n",
        "# List of names for the cluster distance columns\n",
        "names = [f\"DistancesToClusterCenter no.{i}\" for i in range(0, 10)]\n",
        "\n",
        "# Get the name of the column with the smallest distance for each row as a new column\n",
        "df[\"ClusterAssignment\"] = df[names].idxmin(axis=\"columns\")\n",
        "# Clean the values in the new column to have only the cluster number\n",
        "df[\"ClusterAssignment\"] = df[\"ClusterAssignment\"].map(lambda value: value.split(\".\")[-1])\n",
        "\n",
        "# Repeat the above logic, but this time look for the column with the largest value\n",
        "df[\"MostDistantCluster\"] = df[names].idxmax(axis=\"columns\")\n",
        "# Clean the values in the new column to have only the cluster number\n",
        "df[\"MostDistantCluster\"] = df[\"MostDistantCluster\"].map(lambda value: value.split(\".\")[-1])\n",
        "\n",
        "# Remove the individual cluster distance column\n",
        "df = df.drop(names, axis=\"columns\")\n",
        "# Print the results\n",
        "print(df)\n",
        "print(df.columns)"
      ],
      "execution_count": 1,
      "outputs": [
        {
          "output_type": "stream",
          "name": "stdout",
          "text": [
            "  Symbol                         Company  ... ClusterAssignment MostDistantCluster\n",
            "0   KLAC                 KLA Corporation  ...                 2                  6\n",
            "1    ADM  Archer-Daniels-Midland Company  ...                 1                  6\n",
            "\n",
            "[2 rows x 7 columns]\n",
            "Index(['Symbol', 'Company', 'Sector', 'Date', 'Price', 'ClusterAssignment',\n",
            "       'MostDistantCluster'],\n",
            "      dtype='object')\n"
          ]
        }
      ]
    }
  ]
}