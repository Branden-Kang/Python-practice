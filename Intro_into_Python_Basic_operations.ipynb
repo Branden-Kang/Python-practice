{
  "nbformat": 4,
  "nbformat_minor": 0,
  "metadata": {
    "colab": {
      "name": "Intro into Python- Basic operations.ipynb",
      "provenance": [],
      "authorship_tag": "ABX9TyO0io+2WGFSyT/UkLCoFEfW"
    },
    "kernelspec": {
      "name": "python3",
      "display_name": "Python 3"
    },
    "language_info": {
      "name": "python"
    }
  },
  "cells": [
    {
      "cell_type": "markdown",
      "metadata": {
        "id": "IY5UR1UamcrJ"
      },
      "source": [
        "[Reference](https://decodebuzzing.medium.com/intro-into-python-basic-operations-12dd172a321c)"
      ]
    },
    {
      "cell_type": "code",
      "metadata": {
        "id": "OFNJX_sVmbTA"
      },
      "source": [
        "var = 'I am a variable'"
      ],
      "execution_count": 1,
      "outputs": []
    },
    {
      "cell_type": "code",
      "metadata": {
        "id": "TuaPNiT_mhhz"
      },
      "source": [
        "name = 'Single Quoted'\n",
        "name = \"Double Quoted\"\n",
        "name = \"\"\" \n",
        "Triple quoted\n",
        "Next line tooo\n",
        "\"\"\""
      ],
      "execution_count": 2,
      "outputs": []
    },
    {
      "cell_type": "code",
      "metadata": {
        "id": "qQtXLoyNmkga"
      },
      "source": [
        "var = 1\n",
        "var2 = 20000000"
      ],
      "execution_count": 3,
      "outputs": []
    },
    {
      "cell_type": "code",
      "metadata": {
        "colab": {
          "base_uri": "https://localhost:8080/"
        },
        "id": "Cw-ppegXmkvi",
        "outputId": "3382bf1a-2d38-4c79-eedc-82483c02ddb6"
      },
      "source": [
        "10 > 9 # returns true\n",
        "10 < 9 # returns False"
      ],
      "execution_count": 4,
      "outputs": [
        {
          "output_type": "execute_result",
          "data": {
            "text/plain": [
              "False"
            ]
          },
          "metadata": {
            "tags": []
          },
          "execution_count": 4
        }
      ]
    },
    {
      "cell_type": "code",
      "metadata": {
        "id": "FQl_sQ8rmmHg"
      },
      "source": [
        "var = 1.80"
      ],
      "execution_count": 5,
      "outputs": []
    },
    {
      "cell_type": "code",
      "metadata": {
        "colab": {
          "base_uri": "https://localhost:8080/"
        },
        "id": "4pdKqfAemm9A",
        "outputId": "15fda2fb-581a-4bc2-85d9-c5a372084830"
      },
      "source": [
        "print(\"Hi All !!!!!!!!..Hello world\")"
      ],
      "execution_count": 7,
      "outputs": [
        {
          "output_type": "stream",
          "text": [
            "Hi All !!!!!!!!..Hello world\n"
          ],
          "name": "stdout"
        }
      ]
    },
    {
      "cell_type": "code",
      "metadata": {
        "colab": {
          "base_uri": "https://localhost:8080/"
        },
        "id": "HpLjBLC0mn44",
        "outputId": "f3419446-782c-4983-835a-c6b11addd439"
      },
      "source": [
        "if 5 > 10:  # Not true\n",
        "  print(\"5 is greater than 10\")  # Not true\n",
        "elif 5 < 10:\n",
        "  print(\"10 is greater than 5\") # True\n",
        "else:\n",
        "  print(\"IDK\") # if both the block would have been wrong then this statement would have run"
      ],
      "execution_count": 8,
      "outputs": [
        {
          "output_type": "stream",
          "text": [
            "10 is greater than 5\n"
          ],
          "name": "stdout"
        }
      ]
    },
    {
      "cell_type": "code",
      "metadata": {
        "colab": {
          "base_uri": "https://localhost:8080/"
        },
        "id": "IAocb-B1msKG",
        "outputId": "a0ce48ca-16e8-4f6c-d83d-6ae8f7905fae"
      },
      "source": [
        "string = 'I am a string'\n",
        "print(string[0]) # prints 'I'\n",
        "print(string[1]) # prints space(empty beacuse there was a space)\n",
        "print(string[2]) # prints 'a'\n",
        "print(string[3]) # prints 'm'"
      ],
      "execution_count": 9,
      "outputs": [
        {
          "output_type": "stream",
          "text": [
            "I\n",
            " \n",
            "a\n",
            "m\n"
          ],
          "name": "stdout"
        }
      ]
    },
    {
      "cell_type": "code",
      "metadata": {
        "colab": {
          "base_uri": "https://localhost:8080/"
        },
        "id": "gogTtQtzmtw2",
        "outputId": "33b8be6e-cdbc-4b45-cdbe-05d0d029cf4b"
      },
      "source": [
        "string = 'I am a string'\n",
        "print(string[0:1]) # prints 'I'\n",
        "print(string[0:4]) # prints 'I am'\n",
        "print(string[2:13]) # prints 'am a string'"
      ],
      "execution_count": 10,
      "outputs": [
        {
          "output_type": "stream",
          "text": [
            "I\n",
            "I am\n",
            "am a string\n"
          ],
          "name": "stdout"
        }
      ]
    },
    {
      "cell_type": "code",
      "metadata": {
        "colab": {
          "base_uri": "https://localhost:8080/"
        },
        "id": "q85unosTmvZc",
        "outputId": "76b7edad-0be0-4ccc-ef4c-c58ed8e16bbd"
      },
      "source": [
        "length = \"Hello\" \n",
        "print(len(length)) # Prints 5"
      ],
      "execution_count": 11,
      "outputs": [
        {
          "output_type": "stream",
          "text": [
            "5\n"
          ],
          "name": "stdout"
        }
      ]
    },
    {
      "cell_type": "code",
      "metadata": {
        "colab": {
          "base_uri": "https://localhost:8080/"
        },
        "id": "vf2u__F_mw3y",
        "outputId": "2fbca0de-162f-4ab1-c537-49504541e8be"
      },
      "source": [
        "string = 'I am a string'\n",
        "print(string[0:len(string)]) # prints 'I am a string'"
      ],
      "execution_count": 12,
      "outputs": [
        {
          "output_type": "stream",
          "text": [
            "I am a string\n"
          ],
          "name": "stdout"
        }
      ]
    },
    {
      "cell_type": "code",
      "metadata": {
        "colab": {
          "base_uri": "https://localhost:8080/"
        },
        "id": "eHyYjtOSmyHf",
        "outputId": "750faae2-6902-48c9-e0ea-fdfdc05175a2"
      },
      "source": [
        "string = 'Hello all!!!' \n",
        "print(string[0:len(string):2]) # print 'Hloal!'"
      ],
      "execution_count": 13,
      "outputs": [
        {
          "output_type": "stream",
          "text": [
            "Hloal!\n"
          ],
          "name": "stdout"
        }
      ]
    },
    {
      "cell_type": "code",
      "metadata": {
        "colab": {
          "base_uri": "https://localhost:8080/"
        },
        "id": "rUeo_tj9m1in",
        "outputId": "1b6ba723-b663-4abf-cefd-ce39822ad3a8"
      },
      "source": [
        "string = 'Hello all!!!' \n",
        "print(string[len(string)-1::-1]) # print '!!!lla olleH'"
      ],
      "execution_count": 14,
      "outputs": [
        {
          "output_type": "stream",
          "text": [
            "!!!lla olleH\n"
          ],
          "name": "stdout"
        }
      ]
    },
    {
      "cell_type": "markdown",
      "metadata": {
        "id": "UoSWsi0Tm-Ws"
      },
      "source": [
        "# String Functions/Methods in Python\n",
        "- capitalize: Makes the first character to upper case\n",
        "- isupper: Returns True if all characters in the string are upper case\n",
        "- endswith: Returns true or false if the string ends with the specified value\n",
        "- startswith: Returns true or false if the string starts with the specified value\n",
        "- title: Converts the first character of each word to upper case\n",
        "- isdigit: Returns True/False if all characters in the string are digits\n",
        "- casefold:Converts string into lower case\n",
        "- strip:Remove spaces at the beginning and at the end of the string\n",
        "- isalpha: Returns True/False if all the characters are alphabet letters and doesn’t include !#(space)? etc"
      ]
    }
  ]
}