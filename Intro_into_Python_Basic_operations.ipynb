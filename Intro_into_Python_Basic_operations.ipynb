{
  "nbformat": 4,
  "nbformat_minor": 0,
  "metadata": {
    "colab": {
      "name": "Intro into Python- Basic operations.ipynb",
      "provenance": [],
      "authorship_tag": "ABX9TyO0io+2WGFSyT/UkLCoFEfW"
    },
    "kernelspec": {
      "name": "python3",
      "display_name": "Python 3"
    },
    "language_info": {
      "name": "python"
    }
  },
  "cells": [
    {
      "cell_type": "markdown",
      "metadata": {
        "id": "IY5UR1UamcrJ"
      },
      "source": [
        "[Reference](https://decodebuzzing.medium.com/intro-into-python-basic-operations-12dd172a321c)"
      ]
    },
    {
      "cell_type": "code",
      "metadata": {
        "id": "OFNJX_sVmbTA"
      },
      "source": [
        "var = 'I am a variable'"
      ],
      "execution_count": 1,
      "outputs": []
    },
    {
      "cell_type": "code",
      "metadata": {
        "id": "TuaPNiT_mhhz"
      },
      "source": [
        "name = 'Single Quoted'\n",
        "name = \"Double Quoted\"\n",
        "name = \"\"\" \n",
        "Triple quoted\n",
        "Next line tooo\n",
        "\"\"\""
      ],
      "execution_count": 2,
      "outputs": []
    },
    {
      "cell_type": "code",
      "metadata": {
        "id": "qQtXLoyNmkga"
      },
      "source": [
        "var = 1\n",
        "var2 = 20000000"
      ],
      "execution_count": 3,
      "outputs": []
    },
    {
      "cell_type": "code",
      "metadata": {
        "colab": {
          "base_uri": "https://localhost:8080/"
        },
        "id": "Cw-ppegXmkvi",
        "outputId": "812e8331-e52f-4dc6-c1b2-e8fa94828286"
      },
      "source": [
        "10 > 9 # returns true\n",
        "10 < 9 # returns False"
      ],
      "execution_count": 4,
      "outputs": [
        {
          "output_type": "execute_result",
          "data": {
            "text/plain": [
              "False"
            ]
          },
          "metadata": {
            "tags": []
          },
          "execution_count": 4
        }
      ]
    },
    {
      "cell_type": "code",
      "metadata": {
        "id": "FQl_sQ8rmmHg"
      },
      "source": [
        "var = 1.80"
      ],
      "execution_count": 5,
      "outputs": []
    },
    {
      "cell_type": "code",
      "metadata": {
        "colab": {
          "base_uri": "https://localhost:8080/"
        },
        "id": "4pdKqfAemm9A",
        "outputId": "1efcdcd8-f483-4cfe-8c8b-047112f479c9"
      },
      "source": [
        "print(\"Hi All !!!!!!!!..Hello world\")"
      ],
      "execution_count": 6,
      "outputs": [
        {
          "output_type": "stream",
          "text": [
            "Hi All !!!!!!!!..Hello world\n"
          ],
          "name": "stdout"
        }
      ]
    },
    {
      "cell_type": "code",
      "metadata": {
        "colab": {
          "base_uri": "https://localhost:8080/"
        },
        "id": "HpLjBLC0mn44",
        "outputId": "8531068e-bc95-415a-92b8-60e71ab7cd69"
      },
      "source": [
        "if 5 > 10:  # Not true\n",
        "  print(\"5 is greater than 10\")  # Not true\n",
        "elif 5 < 10:\n",
        "  print(\"10 is greater than 5\") # True\n",
        "else:\n",
        "  print(\"IDK\") # if both the block would have been wrong then this statement would have run"
      ],
      "execution_count": 7,
      "outputs": [
        {
          "output_type": "stream",
          "text": [
            "10 is greater than 5\n"
          ],
          "name": "stdout"
        }
      ]
    },
    {
      "cell_type": "code",
      "metadata": {
        "colab": {
          "base_uri": "https://localhost:8080/"
        },
        "id": "IAocb-B1msKG",
        "outputId": "3adb36c5-9642-427f-dc79-21cea69e4629"
      },
      "source": [
        "string = 'I am a string'\n",
        "print(string[0]) # prints 'I'\n",
        "print(string[1]) # prints space(empty beacuse there was a space)\n",
        "print(string[2]) # prints 'a'\n",
        "print(string[3]) # prints 'm'"
      ],
      "execution_count": 8,
      "outputs": [
        {
          "output_type": "stream",
          "text": [
            "I\n",
            " \n",
            "a\n",
            "m\n"
          ],
          "name": "stdout"
        }
      ]
    },
    {
      "cell_type": "code",
      "metadata": {
        "colab": {
          "base_uri": "https://localhost:8080/"
        },
        "id": "gogTtQtzmtw2",
        "outputId": "8cf0aae9-0baa-41ed-ad4e-803421ae7957"
      },
      "source": [
        "string = 'I am a string'\n",
        "print(string[0:1]) # prints 'I'\n",
        "print(string[0:4]) # prints 'I am'\n",
        "print(string[2:13]) # prints 'am a string'"
      ],
      "execution_count": 9,
      "outputs": [
        {
          "output_type": "stream",
          "text": [
            "I\n",
            "I am\n",
            "am a string\n"
          ],
          "name": "stdout"
        }
      ]
    },
    {
      "cell_type": "code",
      "metadata": {
        "colab": {
          "base_uri": "https://localhost:8080/"
        },
        "id": "q85unosTmvZc",
        "outputId": "f0ae7d19-d9e0-45a9-ae4c-c2ec351ab49a"
      },
      "source": [
        "length = \"Hello\" \n",
        "print(len(length)) # Prints 5"
      ],
      "execution_count": 10,
      "outputs": [
        {
          "output_type": "stream",
          "text": [
            "5\n"
          ],
          "name": "stdout"
        }
      ]
    },
    {
      "cell_type": "code",
      "metadata": {
        "colab": {
          "base_uri": "https://localhost:8080/"
        },
        "id": "vf2u__F_mw3y",
        "outputId": "e8352cf7-7cae-4c8c-b3a0-03ed9eb179bf"
      },
      "source": [
        "string = 'I am a string'\n",
        "print(string[0:len(string)]) # prints 'I am a string'"
      ],
      "execution_count": 11,
      "outputs": [
        {
          "output_type": "stream",
          "text": [
            "I am a string\n"
          ],
          "name": "stdout"
        }
      ]
    },
    {
      "cell_type": "code",
      "metadata": {
        "colab": {
          "base_uri": "https://localhost:8080/"
        },
        "id": "eHyYjtOSmyHf",
        "outputId": "a2199ccb-2753-4c69-a8b3-d99fdc9e8aca"
      },
      "source": [
        "string = 'Hello all!!!' \n",
        "print(string[0:len(string):2]) # print 'Hloal!'"
      ],
      "execution_count": 12,
      "outputs": [
        {
          "output_type": "stream",
          "text": [
            "Hloal!\n"
          ],
          "name": "stdout"
        }
      ]
    },
    {
      "cell_type": "code",
      "metadata": {
        "colab": {
          "base_uri": "https://localhost:8080/"
        },
        "id": "rUeo_tj9m1in",
        "outputId": "8546f49b-5b76-485c-8c2e-41a14b68f1e3"
      },
      "source": [
        "string = 'Hello all!!!' \n",
        "print(string[len(string)-1::-1]) # print '!!!lla olleH'"
      ],
      "execution_count": 13,
      "outputs": [
        {
          "output_type": "stream",
          "text": [
            "!!!lla olleH\n"
          ],
          "name": "stdout"
        }
      ]
    },
    {
      "cell_type": "markdown",
      "metadata": {
        "id": "UoSWsi0Tm-Ws"
      },
      "source": [
        "# String Functions/Methods in Python\n",
        "- capitalize: Makes the first character to upper case\n",
        "- isupper: Returns True if all characters in the string are upper case\n",
        "- endswith: Returns true or false if the string ends with the specified value\n",
        "- startswith: Returns true or false if the string starts with the specified value\n",
        "- title: Converts the first character of each word to upper case\n",
        "- isdigit: Returns True/False if all characters in the string are digits\n",
        "- casefold:Converts string into lower case\n",
        "- strip:Remove spaces at the beginning and at the end of the string\n",
        "- isalpha: Returns True/False if all the characters are alphabet letters and doesn’t include !#(space)? etc"
      ]
    }
  ]
}