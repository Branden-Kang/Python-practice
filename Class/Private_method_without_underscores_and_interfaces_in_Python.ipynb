{
  "nbformat": 4,
  "nbformat_minor": 0,
  "metadata": {
    "colab": {
      "name": "Private method without underscores and interfaces in Python.ipynb",
      "provenance": [],
      "authorship_tag": "ABX9TyPvclzZJqf9ozGn3PNdiMga"
    },
    "kernelspec": {
      "name": "python3",
      "display_name": "Python 3"
    }
  },
  "cells": [
    {
      "cell_type": "markdown",
      "metadata": {
        "id": "dTRSUodmFjHD"
      },
      "source": [
        "[Reference](https://medium.com/@dmytrostriletskyi/private-method-without-underscores-and-interfaces-in-python-a98131b6372a)"
      ]
    },
    {
      "cell_type": "code",
      "metadata": {
        "id": "jYuJqiZFFhcN"
      },
      "source": [
        "class Car:\n",
        "\n",
        "    def _start_engine(self):\n",
        "        return \"Engine's sound.\"\n",
        "\n",
        "    def run(self):\n",
        "        return self._start_engine()\n",
        "\n",
        "\n",
        "if __name__ == '__main__':\n",
        "    car = Car()\n",
        "\n",
        "    assert \"Engine's sound.\" == car.run()\n",
        "    assert \"Engine's sound.\" == car._start_engine()"
      ],
      "execution_count": 1,
      "outputs": []
    },
    {
      "cell_type": "code",
      "metadata": {
        "colab": {
          "base_uri": "https://localhost:8080/",
          "height": 609
        },
        "id": "mmfqohlGFsd4",
        "outputId": "d61fc168-3a7e-4f69-9a99-554159613639"
      },
      "source": [
        "!pip install accessify\n",
        "from accessify import protected\n",
        "\n",
        "\n",
        "class Car:\n",
        "\n",
        "    @protected\n",
        "    def start_engine(self):\n",
        "        return \"Engine's sound.\"\n",
        "\n",
        "    def run(self):\n",
        "        return self.start_engine()\n",
        "\n",
        "\n",
        "if __name__ == '__main__':\n",
        "    car = Car()\n",
        "\n",
        "    assert \"Engine's sound.\" == car.run()\n",
        "\n",
        "    car.start_engine()"
      ],
      "execution_count": 3,
      "outputs": [
        {
          "output_type": "stream",
          "text": [
            "Collecting accessify\n",
            "  Downloading https://files.pythonhosted.org/packages/f1/b9/7caef6d844143bf0383eb0513f5df212fe0bd5f50bd3b4a940043b868f35/accessify-0.3.1.tar.gz\n",
            "Building wheels for collected packages: accessify\n",
            "  Building wheel for accessify (setup.py) ... \u001b[?25l\u001b[?25hdone\n",
            "  Created wheel for accessify: filename=accessify-0.3.1-cp36-none-any.whl size=26692 sha256=c36f9e01d1cf2ca0fe059617002774045313197da7a7b73e5564b667478d90f1\n",
            "  Stored in directory: /root/.cache/pip/wheels/4e/58/e3/a94064e5d212b45870392f3c22be10b60b8f8b88297a3c9880\n",
            "Successfully built accessify\n",
            "Installing collected packages: accessify\n",
            "Successfully installed accessify-0.3.1\n"
          ],
          "name": "stdout"
        },
        {
          "output_type": "error",
          "ename": "InaccessibleDueToItsProtectionLevelException",
          "evalue": "ignored",
          "traceback": [
            "\u001b[0;31m---------------------------------------------------------------------------\u001b[0m",
            "\u001b[0;31mInaccessibleDueToItsProtectionLevelException\u001b[0mTraceback (most recent call last)",
            "\u001b[0;32m<ipython-input-3-5592fadfc67c>\u001b[0m in \u001b[0;36m<module>\u001b[0;34m()\u001b[0m\n\u001b[1;32m     18\u001b[0m     \u001b[0;32massert\u001b[0m \u001b[0;34m\"Engine's sound.\"\u001b[0m \u001b[0;34m==\u001b[0m \u001b[0mcar\u001b[0m\u001b[0;34m.\u001b[0m\u001b[0mrun\u001b[0m\u001b[0;34m(\u001b[0m\u001b[0;34m)\u001b[0m\u001b[0;34m\u001b[0m\u001b[0;34m\u001b[0m\u001b[0m\n\u001b[1;32m     19\u001b[0m \u001b[0;34m\u001b[0m\u001b[0m\n\u001b[0;32m---> 20\u001b[0;31m     \u001b[0mcar\u001b[0m\u001b[0;34m.\u001b[0m\u001b[0mstart_engine\u001b[0m\u001b[0;34m(\u001b[0m\u001b[0;34m)\u001b[0m\u001b[0;34m\u001b[0m\u001b[0;34m\u001b[0m\u001b[0m\n\u001b[0m",
            "\u001b[0;32m/usr/local/lib/python3.6/dist-packages/accessify/access.py\u001b[0m in \u001b[0;36mprotected_wrapper\u001b[0;34m(*args, **kwargs)\u001b[0m\n\u001b[1;32m    112\u001b[0m                 raise InaccessibleDueToItsProtectionLevelException(\n\u001b[1;32m    113\u001b[0m                     INACCESSIBLE_DUE_TO_ITS_PROTECTION_LEVEL_EXCEPTION_MESSAGE.format(\n\u001b[0;32m--> 114\u001b[0;31m                         \u001b[0mclass_name\u001b[0m\u001b[0;34m=\u001b[0m\u001b[0minstance_class\u001b[0m\u001b[0;34m.\u001b[0m\u001b[0m__name__\u001b[0m\u001b[0;34m,\u001b[0m \u001b[0mclass_method_name\u001b[0m\u001b[0;34m=\u001b[0m\u001b[0mmethod\u001b[0m\u001b[0;34m.\u001b[0m\u001b[0m__name__\u001b[0m\u001b[0;34m,\u001b[0m\u001b[0;34m\u001b[0m\u001b[0;34m\u001b[0m\u001b[0m\n\u001b[0m\u001b[1;32m    115\u001b[0m                     ),\n\u001b[1;32m    116\u001b[0m                 )\n",
            "\u001b[0;31mInaccessibleDueToItsProtectionLevelException\u001b[0m: Car.start_engine() is inaccessible due to its protection level"
          ]
        }
      ]
    },
    {
      "cell_type": "code",
      "metadata": {
        "id": "j_6ZdH2rF5Qx"
      },
      "source": [
        "class HumanInterface:\n",
        "\n",
        "    @staticmethod\n",
        "    def eat(food, *args, allergy=None, **kwargs):\n",
        "        pass\n",
        "        \n",
        "    def walk(self, destination):\n",
        "        pass"
      ],
      "execution_count": 4,
      "outputs": []
    },
    {
      "cell_type": "code",
      "metadata": {
        "colab": {
          "base_uri": "https://localhost:8080/",
          "height": 453
        },
        "id": "FJ2L6tHhGDr_",
        "outputId": "1984b9d6-e0e9-4530-ef8e-4df33fa26bd8"
      },
      "source": [
        "from accessify import implements\n",
        "\n",
        "\n",
        "class HumanInterface:\n",
        "\n",
        "    @staticmethod\n",
        "    def eat(food, *args, allergy=None, **kwargs):\n",
        "        pass\n",
        "\n",
        "\n",
        "if __name__ == '__main__':\n",
        "\n",
        "    @implements(HumanInterface)\n",
        "    class Human:\n",
        "\n",
        "        pass"
      ],
      "execution_count": 5,
      "outputs": [
        {
          "output_type": "error",
          "ename": "InterfaceMemberHasNotBeenImplementedException",
          "evalue": "ignored",
          "traceback": [
            "\u001b[0;31m---------------------------------------------------------------------------\u001b[0m",
            "\u001b[0;31mInterfaceMemberHasNotBeenImplementedException\u001b[0mTraceback (most recent call last)",
            "\u001b[0;32m<ipython-input-5-018acd825846>\u001b[0m in \u001b[0;36m<module>\u001b[0;34m()\u001b[0m\n\u001b[1;32m     11\u001b[0m \u001b[0;32mif\u001b[0m \u001b[0m__name__\u001b[0m \u001b[0;34m==\u001b[0m \u001b[0;34m'__main__'\u001b[0m\u001b[0;34m:\u001b[0m\u001b[0;34m\u001b[0m\u001b[0;34m\u001b[0m\u001b[0m\n\u001b[1;32m     12\u001b[0m \u001b[0;34m\u001b[0m\u001b[0m\n\u001b[0;32m---> 13\u001b[0;31m     \u001b[0;34m@\u001b[0m\u001b[0mimplements\u001b[0m\u001b[0;34m(\u001b[0m\u001b[0mHumanInterface\u001b[0m\u001b[0;34m)\u001b[0m\u001b[0;34m\u001b[0m\u001b[0;34m\u001b[0m\u001b[0m\n\u001b[0m\u001b[1;32m     14\u001b[0m     \u001b[0;32mclass\u001b[0m \u001b[0mHuman\u001b[0m\u001b[0;34m:\u001b[0m\u001b[0;34m\u001b[0m\u001b[0;34m\u001b[0m\u001b[0m\n\u001b[1;32m     15\u001b[0m \u001b[0;34m\u001b[0m\u001b[0m\n",
            "\u001b[0;32m/usr/local/lib/python3.6/dist-packages/accessify/interfaces.py\u001b[0m in \u001b[0;36mdecorator\u001b[0;34m(class_)\u001b[0m\n\u001b[1;32m     69\u001b[0m                             \u001b[0minterface_name\u001b[0m\u001b[0;34m=\u001b[0m\u001b[0minterface\u001b[0m\u001b[0;34m.\u001b[0m\u001b[0m__name__\u001b[0m\u001b[0;34m,\u001b[0m\u001b[0;34m\u001b[0m\u001b[0;34m\u001b[0m\u001b[0m\n\u001b[1;32m     70\u001b[0m                             \u001b[0minterface_method_name\u001b[0m\u001b[0;34m=\u001b[0m\u001b[0minterface_method\u001b[0m\u001b[0;34m.\u001b[0m\u001b[0mname\u001b[0m\u001b[0;34m,\u001b[0m\u001b[0;34m\u001b[0m\u001b[0;34m\u001b[0m\u001b[0m\n\u001b[0;32m---> 71\u001b[0;31m                             \u001b[0minterface_method_arguments\u001b[0m\u001b[0;34m=\u001b[0m\u001b[0minterface_method\u001b[0m\u001b[0;34m.\u001b[0m\u001b[0marguments_as_string\u001b[0m\u001b[0;34m,\u001b[0m\u001b[0;34m\u001b[0m\u001b[0;34m\u001b[0m\u001b[0m\n\u001b[0m\u001b[1;32m     72\u001b[0m                         ),\n\u001b[1;32m     73\u001b[0m                     )\n",
            "\u001b[0;31mInterfaceMemberHasNotBeenImplementedException\u001b[0m: class Human does not implement interface member HumanInterface.eat(food, args, allergy, kwargs)"
          ]
        }
      ]
    },
    {
      "cell_type": "code",
      "metadata": {
        "colab": {
          "base_uri": "https://localhost:8080/",
          "height": 490
        },
        "id": "w9hp5AE4GGCx",
        "outputId": "1814449a-b612-4591-b0d3-a044f415a2f4"
      },
      "source": [
        "from accessify import implements\n",
        "\n",
        "\n",
        "class HumanInterface:\n",
        "\n",
        "    @staticmethod\n",
        "    def eat(food, *args, allergy=None, **kwargs):\n",
        "        pass\n",
        "\n",
        "\n",
        "if __name__ == '__main__':\n",
        "\n",
        "    @implements(HumanInterface)\n",
        "    class Human:\n",
        "\n",
        "        @staticmethod\n",
        "        def eat(food):\n",
        "            pass"
      ],
      "execution_count": 6,
      "outputs": [
        {
          "output_type": "error",
          "ename": "InterfaceMemberHasNotBeenImplementedWithMismatchedArgumentsException",
          "evalue": "ignored",
          "traceback": [
            "\u001b[0;31m---------------------------------------------------------------------------\u001b[0m",
            "\u001b[0;31mInterfaceMemberHasNotBeenImplementedWithMismatchedArgumentsException\u001b[0mTraceback (most recent call last)",
            "\u001b[0;32m<ipython-input-6-5164f9e4f94a>\u001b[0m in \u001b[0;36m<module>\u001b[0;34m()\u001b[0m\n\u001b[1;32m     11\u001b[0m \u001b[0;32mif\u001b[0m \u001b[0m__name__\u001b[0m \u001b[0;34m==\u001b[0m \u001b[0;34m'__main__'\u001b[0m\u001b[0;34m:\u001b[0m\u001b[0;34m\u001b[0m\u001b[0;34m\u001b[0m\u001b[0m\n\u001b[1;32m     12\u001b[0m \u001b[0;34m\u001b[0m\u001b[0m\n\u001b[0;32m---> 13\u001b[0;31m     \u001b[0;34m@\u001b[0m\u001b[0mimplements\u001b[0m\u001b[0;34m(\u001b[0m\u001b[0mHumanInterface\u001b[0m\u001b[0;34m)\u001b[0m\u001b[0;34m\u001b[0m\u001b[0;34m\u001b[0m\u001b[0m\n\u001b[0m\u001b[1;32m     14\u001b[0m     \u001b[0;32mclass\u001b[0m \u001b[0mHuman\u001b[0m\u001b[0;34m:\u001b[0m\u001b[0;34m\u001b[0m\u001b[0;34m\u001b[0m\u001b[0m\n\u001b[1;32m     15\u001b[0m \u001b[0;34m\u001b[0m\u001b[0m\n",
            "\u001b[0;32m/usr/local/lib/python3.6/dist-packages/accessify/interfaces.py\u001b[0m in \u001b[0;36mdecorator\u001b[0;34m(class_)\u001b[0m\n\u001b[1;32m     90\u001b[0m                             \u001b[0minterface_name\u001b[0m\u001b[0;34m=\u001b[0m\u001b[0minterface\u001b[0m\u001b[0;34m.\u001b[0m\u001b[0m__name__\u001b[0m\u001b[0;34m,\u001b[0m\u001b[0;34m\u001b[0m\u001b[0;34m\u001b[0m\u001b[0m\n\u001b[1;32m     91\u001b[0m                             \u001b[0minterface_method_name\u001b[0m\u001b[0;34m=\u001b[0m\u001b[0minterface_method\u001b[0m\u001b[0;34m.\u001b[0m\u001b[0mname\u001b[0m\u001b[0;34m,\u001b[0m\u001b[0;34m\u001b[0m\u001b[0;34m\u001b[0m\u001b[0m\n\u001b[0;32m---> 92\u001b[0;31m                             \u001b[0minterface_method_arguments\u001b[0m\u001b[0;34m=\u001b[0m\u001b[0minterface_method\u001b[0m\u001b[0;34m.\u001b[0m\u001b[0marguments_as_string\u001b[0m\u001b[0;34m,\u001b[0m\u001b[0;34m\u001b[0m\u001b[0;34m\u001b[0m\u001b[0m\n\u001b[0m\u001b[1;32m     93\u001b[0m                         ),\n\u001b[1;32m     94\u001b[0m                     )\n",
            "\u001b[0;31mInterfaceMemberHasNotBeenImplementedWithMismatchedArgumentsException\u001b[0m: class Human implements interface member HumanInterface.eat(food, args, allergy, kwargs) with mismatched arguments"
          ]
        }
      ]
    },
    {
      "cell_type": "code",
      "metadata": {
        "colab": {
          "base_uri": "https://localhost:8080/",
          "height": 470
        },
        "id": "nz7jVIOyGM8a",
        "outputId": "9f75d04b-5b76-4c8b-ac51-55bdbc2237fc"
      },
      "source": [
        "from accessify import implements, private\n",
        "\n",
        "\n",
        "class HumanInterface:\n",
        "\n",
        "    @private\n",
        "    @staticmethod\n",
        "    def eat(food, *args, allergy=None, **kwargs):\n",
        "        pass\n",
        "\n",
        "\n",
        "if __name__ == '__main__':\n",
        "\n",
        "    @implements(HumanInterface)\n",
        "    class Human:\n",
        "\n",
        "        @staticmethod\n",
        "        def eat(food, *args, allergy=None, **kwargs):\n",
        "            pass"
      ],
      "execution_count": 7,
      "outputs": [
        {
          "output_type": "error",
          "ename": "ImplementedInterfaceMemberHasIncorrectAccessModifierException",
          "evalue": "ignored",
          "traceback": [
            "\u001b[0;31m---------------------------------------------------------------------------\u001b[0m",
            "\u001b[0;31mImplementedInterfaceMemberHasIncorrectAccessModifierException\u001b[0mTraceback (most recent call last)",
            "\u001b[0;32m<ipython-input-7-f9b75394ac89>\u001b[0m in \u001b[0;36m<module>\u001b[0;34m()\u001b[0m\n\u001b[1;32m     12\u001b[0m \u001b[0;32mif\u001b[0m \u001b[0m__name__\u001b[0m \u001b[0;34m==\u001b[0m \u001b[0;34m'__main__'\u001b[0m\u001b[0;34m:\u001b[0m\u001b[0;34m\u001b[0m\u001b[0;34m\u001b[0m\u001b[0m\n\u001b[1;32m     13\u001b[0m \u001b[0;34m\u001b[0m\u001b[0m\n\u001b[0;32m---> 14\u001b[0;31m     \u001b[0;34m@\u001b[0m\u001b[0mimplements\u001b[0m\u001b[0;34m(\u001b[0m\u001b[0mHumanInterface\u001b[0m\u001b[0;34m)\u001b[0m\u001b[0;34m\u001b[0m\u001b[0;34m\u001b[0m\u001b[0m\n\u001b[0m\u001b[1;32m     15\u001b[0m     \u001b[0;32mclass\u001b[0m \u001b[0mHuman\u001b[0m\u001b[0;34m:\u001b[0m\u001b[0;34m\u001b[0m\u001b[0;34m\u001b[0m\u001b[0m\n\u001b[1;32m     16\u001b[0m \u001b[0;34m\u001b[0m\u001b[0m\n",
            "\u001b[0;32m/usr/local/lib/python3.6/dist-packages/accessify/interfaces.py\u001b[0m in \u001b[0;36mdecorator\u001b[0;34m(class_)\u001b[0m\n\u001b[1;32m     80\u001b[0m                             \u001b[0mclass_method_arguments\u001b[0m\u001b[0;34m=\u001b[0m\u001b[0mclass_member\u001b[0m\u001b[0;34m.\u001b[0m\u001b[0marguments_as_string\u001b[0m\u001b[0;34m,\u001b[0m\u001b[0;34m\u001b[0m\u001b[0;34m\u001b[0m\u001b[0m\n\u001b[1;32m     81\u001b[0m                             \u001b[0minterface_name\u001b[0m\u001b[0;34m=\u001b[0m\u001b[0minterface\u001b[0m\u001b[0;34m.\u001b[0m\u001b[0m__name__\u001b[0m\u001b[0;34m,\u001b[0m\u001b[0;34m\u001b[0m\u001b[0;34m\u001b[0m\u001b[0m\n\u001b[0;32m---> 82\u001b[0;31m                             \u001b[0minterface_method_name\u001b[0m\u001b[0;34m=\u001b[0m\u001b[0minterface_method\u001b[0m\u001b[0;34m.\u001b[0m\u001b[0mname\u001b[0m\u001b[0;34m,\u001b[0m\u001b[0;34m\u001b[0m\u001b[0;34m\u001b[0m\u001b[0m\n\u001b[0m\u001b[1;32m     83\u001b[0m                         ),\n\u001b[1;32m     84\u001b[0m                     )\n",
            "\u001b[0;31mImplementedInterfaceMemberHasIncorrectAccessModifierException\u001b[0m: Human.eat(food, args, allergy, kwargs) mismatches HumanInterface.eat() member access modifier."
          ]
        }
      ]
    },
    {
      "cell_type": "code",
      "metadata": {
        "colab": {
          "base_uri": "https://localhost:8080/",
          "height": 470
        },
        "id": "Lxk02LUmGPlr",
        "outputId": "4b46e662-ab5c-421b-b38e-00d3d0b1deda"
      },
      "source": [
        "from accessify import implements\n",
        "\n",
        "\n",
        "class HumanSoulInterface:\n",
        "\n",
        "    def love(self, who, *args, **kwargs):\n",
        "        pass\n",
        "\n",
        "\n",
        "class HumanBasicsInterface:\n",
        "\n",
        "    @staticmethod\n",
        "    def eat(food, *args, allergy=None, **kwargs):\n",
        "        pass\n",
        "\n",
        "\n",
        "if __name__ == '__main__':\n",
        "\n",
        "    @implements(HumanSoulInterface, HumanBasicsInterface)\n",
        "    class Human:\n",
        "\n",
        "        def love(self, who, *args, **kwargs):\n",
        "            pass"
      ],
      "execution_count": 8,
      "outputs": [
        {
          "output_type": "error",
          "ename": "InterfaceMemberHasNotBeenImplementedException",
          "evalue": "ignored",
          "traceback": [
            "\u001b[0;31m---------------------------------------------------------------------------\u001b[0m",
            "\u001b[0;31mInterfaceMemberHasNotBeenImplementedException\u001b[0mTraceback (most recent call last)",
            "\u001b[0;32m<ipython-input-8-54b5f95da6b2>\u001b[0m in \u001b[0;36m<module>\u001b[0;34m()\u001b[0m\n\u001b[1;32m     17\u001b[0m \u001b[0;32mif\u001b[0m \u001b[0m__name__\u001b[0m \u001b[0;34m==\u001b[0m \u001b[0;34m'__main__'\u001b[0m\u001b[0;34m:\u001b[0m\u001b[0;34m\u001b[0m\u001b[0;34m\u001b[0m\u001b[0m\n\u001b[1;32m     18\u001b[0m \u001b[0;34m\u001b[0m\u001b[0m\n\u001b[0;32m---> 19\u001b[0;31m     \u001b[0;34m@\u001b[0m\u001b[0mimplements\u001b[0m\u001b[0;34m(\u001b[0m\u001b[0mHumanSoulInterface\u001b[0m\u001b[0;34m,\u001b[0m \u001b[0mHumanBasicsInterface\u001b[0m\u001b[0;34m)\u001b[0m\u001b[0;34m\u001b[0m\u001b[0;34m\u001b[0m\u001b[0m\n\u001b[0m\u001b[1;32m     20\u001b[0m     \u001b[0;32mclass\u001b[0m \u001b[0mHuman\u001b[0m\u001b[0;34m:\u001b[0m\u001b[0;34m\u001b[0m\u001b[0;34m\u001b[0m\u001b[0m\n\u001b[1;32m     21\u001b[0m \u001b[0;34m\u001b[0m\u001b[0m\n",
            "\u001b[0;32m/usr/local/lib/python3.6/dist-packages/accessify/interfaces.py\u001b[0m in \u001b[0;36mdecorator\u001b[0;34m(class_)\u001b[0m\n\u001b[1;32m     69\u001b[0m                             \u001b[0minterface_name\u001b[0m\u001b[0;34m=\u001b[0m\u001b[0minterface\u001b[0m\u001b[0;34m.\u001b[0m\u001b[0m__name__\u001b[0m\u001b[0;34m,\u001b[0m\u001b[0;34m\u001b[0m\u001b[0;34m\u001b[0m\u001b[0m\n\u001b[1;32m     70\u001b[0m                             \u001b[0minterface_method_name\u001b[0m\u001b[0;34m=\u001b[0m\u001b[0minterface_method\u001b[0m\u001b[0;34m.\u001b[0m\u001b[0mname\u001b[0m\u001b[0;34m,\u001b[0m\u001b[0;34m\u001b[0m\u001b[0;34m\u001b[0m\u001b[0m\n\u001b[0;32m---> 71\u001b[0;31m                             \u001b[0minterface_method_arguments\u001b[0m\u001b[0;34m=\u001b[0m\u001b[0minterface_method\u001b[0m\u001b[0;34m.\u001b[0m\u001b[0marguments_as_string\u001b[0m\u001b[0;34m,\u001b[0m\u001b[0;34m\u001b[0m\u001b[0;34m\u001b[0m\u001b[0m\n\u001b[0m\u001b[1;32m     72\u001b[0m                         ),\n\u001b[1;32m     73\u001b[0m                     )\n",
            "\u001b[0;31mInterfaceMemberHasNotBeenImplementedException\u001b[0m: class Human does not implement interface member HumanBasicsInterface.eat(food, args, allergy, kwargs)"
          ]
        }
      ]
    },
    {
      "cell_type": "code",
      "metadata": {
        "colab": {
          "base_uri": "https://localhost:8080/",
          "height": 470
        },
        "id": "ICXfSxzuGSsa",
        "outputId": "92ae9d4f-3ef7-4343-db88-a77e6714dc6b"
      },
      "source": [
        "from accessify import implements, throws\n",
        "\n",
        "\n",
        "class HumanDoesNotExistError(Exception):\n",
        "    pass\n",
        "\n",
        "\n",
        "class HumanAlreadyInLoveError(Exception):\n",
        "    pass\n",
        "\n",
        "\n",
        "class HumanInterface:\n",
        "\n",
        "    @throws(HumanDoesNotExistError, HumanAlreadyInLoveError)\n",
        "    def love(self, who, *args, **kwargs):\n",
        "        pass\n",
        "\n",
        "\n",
        "if __name__ == '__main__':\n",
        "\n",
        "    @implements(HumanInterface)\n",
        "    class Human:\n",
        "\n",
        "        def love(self, who, *args, **kwargs):\n",
        "\n",
        "            if who is None:\n",
        "                raise HumanDoesNotExistError('Human whom need to love does not exist')"
      ],
      "execution_count": 9,
      "outputs": [
        {
          "output_type": "error",
          "ename": "DeclaredInterfaceExceptionHasNotBeenImplementedException",
          "evalue": "ignored",
          "traceback": [
            "\u001b[0;31m---------------------------------------------------------------------------\u001b[0m",
            "\u001b[0;31mDeclaredInterfaceExceptionHasNotBeenImplementedException\u001b[0mTraceback (most recent call last)",
            "\u001b[0;32m<ipython-input-9-af8209831201>\u001b[0m in \u001b[0;36m<module>\u001b[0;34m()\u001b[0m\n\u001b[1;32m     19\u001b[0m \u001b[0;32mif\u001b[0m \u001b[0m__name__\u001b[0m \u001b[0;34m==\u001b[0m \u001b[0;34m'__main__'\u001b[0m\u001b[0;34m:\u001b[0m\u001b[0;34m\u001b[0m\u001b[0;34m\u001b[0m\u001b[0m\n\u001b[1;32m     20\u001b[0m \u001b[0;34m\u001b[0m\u001b[0m\n\u001b[0;32m---> 21\u001b[0;31m     \u001b[0;34m@\u001b[0m\u001b[0mimplements\u001b[0m\u001b[0;34m(\u001b[0m\u001b[0mHumanInterface\u001b[0m\u001b[0;34m)\u001b[0m\u001b[0;34m\u001b[0m\u001b[0;34m\u001b[0m\u001b[0m\n\u001b[0m\u001b[1;32m     22\u001b[0m     \u001b[0;32mclass\u001b[0m \u001b[0mHuman\u001b[0m\u001b[0;34m:\u001b[0m\u001b[0;34m\u001b[0m\u001b[0;34m\u001b[0m\u001b[0m\n\u001b[1;32m     23\u001b[0m \u001b[0;34m\u001b[0m\u001b[0m\n",
            "\u001b[0;32m/usr/local/lib/python3.6/dist-packages/accessify/interfaces.py\u001b[0m in \u001b[0;36mdecorator\u001b[0;34m(class_)\u001b[0m\n\u001b[1;32m    106\u001b[0m                                     \u001b[0mclass_name\u001b[0m\u001b[0;34m=\u001b[0m\u001b[0mclass_\u001b[0m\u001b[0;34m.\u001b[0m\u001b[0m__name__\u001b[0m\u001b[0;34m,\u001b[0m\u001b[0;34m\u001b[0m\u001b[0;34m\u001b[0m\u001b[0m\n\u001b[1;32m    107\u001b[0m                                     \u001b[0mclass_method_name\u001b[0m\u001b[0;34m=\u001b[0m\u001b[0minterface_method\u001b[0m\u001b[0;34m.\u001b[0m\u001b[0mname\u001b[0m\u001b[0;34m,\u001b[0m\u001b[0;34m\u001b[0m\u001b[0;34m\u001b[0m\u001b[0m\n\u001b[0;32m--> 108\u001b[0;31m                                     \u001b[0mclass_method_arguments\u001b[0m\u001b[0;34m=\u001b[0m\u001b[0mclass_member\u001b[0m\u001b[0;34m.\u001b[0m\u001b[0marguments_as_string\u001b[0m\u001b[0;34m,\u001b[0m\u001b[0;34m\u001b[0m\u001b[0;34m\u001b[0m\u001b[0m\n\u001b[0m\u001b[1;32m    109\u001b[0m                                 ),\n\u001b[1;32m    110\u001b[0m                             )\n",
            "\u001b[0;31mDeclaredInterfaceExceptionHasNotBeenImplementedException\u001b[0m: Declared exception HumanAlreadyInLoveError by HumanInterface.love() member has not been implemented by Human.love(self, who, args, kwargs)"
          ]
        }
      ]
    }
  ]
}