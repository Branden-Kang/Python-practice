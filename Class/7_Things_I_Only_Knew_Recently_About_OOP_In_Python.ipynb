{
  "nbformat": 4,
  "nbformat_minor": 0,
  "metadata": {
    "colab": {
      "provenance": [],
      "authorship_tag": "ABX9TyM/GQ4tGvzU+TPTJeWlSG/6"
    },
    "kernelspec": {
      "name": "python3",
      "display_name": "Python 3"
    },
    "language_info": {
      "name": "python"
    }
  },
  "cells": [
    {
      "cell_type": "markdown",
      "source": [
        "[Reference](https://python.plainenglish.io/7-things-i-only-knew-recently-about-oop-in-python-c4dc02a39972)"
      ],
      "metadata": {
        "id": "ff3KZhqTRb4r"
      }
    },
    {
      "cell_type": "markdown",
      "source": [
        "# 1) Reflected Arithmetic Operators"
      ],
      "metadata": {
        "id": "1qw8BHRzRgQu"
      }
    },
    {
      "cell_type": "code",
      "execution_count": 3,
      "metadata": {
        "colab": {
          "base_uri": "https://localhost:8080/"
        },
        "id": "o6kUNP_GRY_g",
        "outputId": "b31c47c2-5e80-4f92-f790-187a79ecc3c6"
      },
      "outputs": [
        {
          "output_type": "stream",
          "name": "stdout",
          "text": [
            "from __add__\n",
            "from __radd__\n"
          ]
        }
      ],
      "source": [
        "class Dog:\n",
        "    def __add__(self, other):\n",
        "        return \"from __add__\"    \n",
        "        \n",
        "    def __radd__(self, other):\n",
        "        return \"from __radd__\"\n",
        "\n",
        "dog = Dog()\n",
        "print(dog + 1)   # from __add__\n",
        "print(1 + dog)   # from __radd__"
      ]
    },
    {
      "cell_type": "markdown",
      "source": [
        "# 2) __getattr__ vs __getattribute__"
      ],
      "metadata": {
        "id": "4_d7MFRFRmkm"
      }
    },
    {
      "cell_type": "code",
      "source": [
        "class Dog:\n",
        "    def __init__(self, name, age):\n",
        "        self.name = name\n",
        "        self.age = age    \n",
        "        \n",
        "    def __getattr__(self, key):\n",
        "        return f\"{key} not found bro\"\n",
        "        \n",
        "dog = Dog(\"rocky\", 5)\n",
        "print(dog.name)    # rocky\n",
        "print(dog.age)     # 5\n",
        "print(dog.breed)   # breed not found bro"
      ],
      "metadata": {
        "colab": {
          "base_uri": "https://localhost:8080/"
        },
        "id": "LpJ8HPPjRhWQ",
        "outputId": "e7edf091-1ebf-451e-939d-3725e2082bc6"
      },
      "execution_count": 4,
      "outputs": [
        {
          "output_type": "stream",
          "name": "stdout",
          "text": [
            "rocky\n",
            "5\n",
            "breed not found bro\n"
          ]
        }
      ]
    },
    {
      "cell_type": "code",
      "source": [
        "class Dog:\n",
        "    def __init__(self, name, age):\n",
        "        self.name = name\n",
        "        self.age = age    \n",
        "        \n",
        "    def __getattribute__(self, key):\n",
        "        return f\"{key} not found bro\"\n",
        "        \n",
        "dog = Dog(\"rocky\", 5)\n",
        "print(dog.name)    # name not found bro\n",
        "print(dog.age)     # age not found bro\n",
        "print(dog.breed)   # breed not found bro"
      ],
      "metadata": {
        "colab": {
          "base_uri": "https://localhost:8080/"
        },
        "id": "EL0E6rVeSa8n",
        "outputId": "c157768c-fa0b-4889-ef05-316501807763"
      },
      "execution_count": 5,
      "outputs": [
        {
          "output_type": "stream",
          "name": "stdout",
          "text": [
            "name not found bro\n",
            "age not found bro\n",
            "breed not found bro\n"
          ]
        }
      ]
    },
    {
      "cell_type": "markdown",
      "source": [
        "# 3) An Alternative To super().__init__()"
      ],
      "metadata": {
        "id": "iJs4OzmbSem5"
      }
    },
    {
      "cell_type": "code",
      "source": [
        "class Animal:\n",
        "    def __init__(self, name, age):\n",
        "        self.name = name\n",
        "        self.age = age\n",
        "\n",
        "class Dog(Animal):\n",
        "    def __init__(self, name, age, breed):\n",
        "        super().__init__(name, age)\n",
        "        self.breed = breed"
      ],
      "metadata": {
        "id": "HWG4xmlnSdoX"
      },
      "execution_count": 6,
      "outputs": []
    },
    {
      "cell_type": "code",
      "source": [
        "class Animal:\n",
        "    def __init__(self, name, age):\n",
        "        self.name = name\n",
        "        self.age = age\n",
        "class Dog(Animal):\n",
        "    def __init__(self, name, age, breed):\n",
        "        Animal.__init__(self, name, age)\n",
        "        self.breed = breed"
      ],
      "metadata": {
        "id": "1KJG2SNXSg_B"
      },
      "execution_count": 7,
      "outputs": []
    },
    {
      "cell_type": "markdown",
      "source": [
        "# 4) Checking For Child Classes"
      ],
      "metadata": {
        "id": "l1va1kLLSqBY"
      }
    },
    {
      "cell_type": "code",
      "source": [
        "class Animal: pass\n",
        "class Dog(Animal): pass\n",
        "class Cat(Animal): pass\n",
        "class GermanSheperd(Dog): pass\n",
        "\n",
        "print(Animal.__subclasses__())"
      ],
      "metadata": {
        "colab": {
          "base_uri": "https://localhost:8080/"
        },
        "id": "Mv1BnWcJSpPS",
        "outputId": "db84d452-bcd1-4fa4-ab54-7d5d6372e84d"
      },
      "execution_count": 8,
      "outputs": [
        {
          "output_type": "stream",
          "name": "stdout",
          "text": [
            "[<class '__main__.Dog'>, <class '__main__.Cat'>]\n"
          ]
        }
      ]
    },
    {
      "cell_type": "markdown",
      "source": [
        "# 5) Multiple Inheritance Shenanigans"
      ],
      "metadata": {
        "id": "9QxJXeSTStSM"
      }
    },
    {
      "cell_type": "code",
      "source": [
        "class A:\n",
        "    def test(self):\n",
        "        print(\"A\")\n",
        "        \n",
        "class B:\n",
        "    def test(self):\n",
        "        print(\"B\")\n",
        "        \n",
        "class C(A, B):\n",
        "    pass"
      ],
      "metadata": {
        "id": "jczjFO7ZSsQX"
      },
      "execution_count": 9,
      "outputs": []
    },
    {
      "cell_type": "code",
      "source": [
        "C().test()   # A"
      ],
      "metadata": {
        "colab": {
          "base_uri": "https://localhost:8080/"
        },
        "id": "BVx8T3krSwVc",
        "outputId": "149f854b-cae5-46ec-c054-ef18cdb5fa03"
      },
      "execution_count": 10,
      "outputs": [
        {
          "output_type": "stream",
          "name": "stdout",
          "text": [
            "A\n"
          ]
        }
      ]
    },
    {
      "cell_type": "markdown",
      "source": [
        "# 6) The __invert__ Magic Method (and other binary magic methods)"
      ],
      "metadata": {
        "id": "1DbjOMMZSyGp"
      }
    },
    {
      "cell_type": "code",
      "source": [
        "class Dog:\n",
        "    def __invert__(self):\n",
        "        return \"test\"\n",
        "        \n",
        "dog = Dog()\n",
        "print(~dog)   # test"
      ],
      "metadata": {
        "colab": {
          "base_uri": "https://localhost:8080/"
        },
        "id": "SdLGJugvSxXX",
        "outputId": "0501d5c1-7db1-4060-eca1-19d85bbb5525"
      },
      "execution_count": 12,
      "outputs": [
        {
          "output_type": "stream",
          "name": "stdout",
          "text": [
            "test\n"
          ]
        }
      ]
    },
    {
      "cell_type": "code",
      "source": [
        "class Coordinate:\n",
        "    def __init__(self, x, y):\n",
        "        self.x = x\n",
        "        self.y = y    \n",
        "        \n",
        "    def __str__(self):\n",
        "        return f\"({self.x}, {self.y})\"    \n",
        "        \n",
        "    def __invert__(self):\n",
        "        return Coordinate(-self.x, -self.y)\n",
        "a = Coordinate(3, 4)\n",
        "b = ~a\n",
        "print(a, b)   # (3, 4) (-3, -4)"
      ],
      "metadata": {
        "colab": {
          "base_uri": "https://localhost:8080/"
        },
        "id": "JCvSXzmqTbi-",
        "outputId": "ed3539c6-ecbf-404e-e3f7-82a630b756bb"
      },
      "execution_count": 13,
      "outputs": [
        {
          "output_type": "stream",
          "name": "stdout",
          "text": [
            "(3, 4) (-3, -4)\n"
          ]
        }
      ]
    },
    {
      "cell_type": "markdown",
      "source": [
        "# 7) Creating A Class Without The ‘class’ Keyword"
      ],
      "metadata": {
        "id": "UofegOdhTihr"
      }
    },
    {
      "cell_type": "code",
      "source": [
        "class Dog:\n",
        "    def __init__(self, name, age):\n",
        "        self.name = name\n",
        "        self.age = age    \n",
        "        \n",
        "    def bark(self):\n",
        "        print(\"woof\")\n",
        "\n",
        "def init(self, name, age):\n",
        "    self.name = name\n",
        "    self.age = age\n",
        "    \n",
        "def bark(self):\n",
        "    print(\"woof\")\n",
        "\n",
        "Dog = type(\"Dog\", (), {\"__init__\":init, \"bark\":bark})"
      ],
      "metadata": {
        "id": "TltfuxipThtj"
      },
      "execution_count": 17,
      "outputs": []
    }
  ]
}
