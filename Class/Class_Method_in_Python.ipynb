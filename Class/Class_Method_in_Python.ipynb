{
  "nbformat": 4,
  "nbformat_minor": 0,
  "metadata": {
    "colab": {
      "provenance": [],
      "authorship_tag": "ABX9TyMAch1+od9xneU2NbvGmCDG"
    },
    "kernelspec": {
      "name": "python3",
      "display_name": "Python 3"
    },
    "language_info": {
      "name": "python"
    }
  },
  "cells": [
    {
      "cell_type": "markdown",
      "source": [
        "[Reference](https://medium.com/@shahooda637/all-about-class-method-in-python-e278d394551b)"
      ],
      "metadata": {
        "id": "u1y_4dnGwL0v"
      }
    },
    {
      "cell_type": "code",
      "execution_count": 1,
      "metadata": {
        "id": "2AQQu0rgmTB9"
      },
      "outputs": [],
      "source": [
        "# defining a class\n",
        "\n",
        "class school:\n",
        "\n",
        "  # defining the constructor __init__() method of the class to enable the class to take the data\n",
        "  def __init__(self, name, email):\n",
        "    self.name = name\n",
        "    self.email = email\n",
        "\n",
        "  # defining a class method which overloads the __init__() method\n",
        "  @classmethod\n",
        "  def details(cls, name1, email1):\n",
        "    return cls(name1, email1)\n",
        "\n",
        "  # defining an instance method inside the class\n",
        "  def school_details(self):\n",
        "    print(\"This School was established in 1950s\")"
      ]
    },
    {
      "cell_type": "code",
      "source": [
        "# using the class method to add data into the class through constructor\n",
        "\n",
        "sch1 = school.details('Central School', 'centralschool@gmail.com')"
      ],
      "metadata": {
        "id": "TYHWvOjzw9rA"
      },
      "execution_count": 2,
      "outputs": []
    },
    {
      "cell_type": "code",
      "source": [
        "sch1.email"
      ],
      "metadata": {
        "colab": {
          "base_uri": "https://localhost:8080/",
          "height": 35
        },
        "id": "ZmS68Tojw-Y-",
        "outputId": "cb8f70a2-702c-4131-c3e5-2aead56bff00"
      },
      "execution_count": 3,
      "outputs": [
        {
          "output_type": "execute_result",
          "data": {
            "text/plain": [
              "'centralschool@gmail.com'"
            ],
            "application/vnd.google.colaboratory.intrinsic+json": {
              "type": "string"
            }
          },
          "metadata": {},
          "execution_count": 3
        }
      ]
    },
    {
      "cell_type": "code",
      "source": [
        "sch1.name"
      ],
      "metadata": {
        "colab": {
          "base_uri": "https://localhost:8080/",
          "height": 35
        },
        "id": "_lyZ02jRxAQp",
        "outputId": "557bc402-4c2b-47be-e5c4-d2730a4a3b2a"
      },
      "execution_count": 4,
      "outputs": [
        {
          "output_type": "execute_result",
          "data": {
            "text/plain": [
              "'Central School'"
            ],
            "application/vnd.google.colaboratory.intrinsic+json": {
              "type": "string"
            }
          },
          "metadata": {},
          "execution_count": 4
        }
      ]
    },
    {
      "cell_type": "code",
      "source": [
        "sch1.school_details()"
      ],
      "metadata": {
        "colab": {
          "base_uri": "https://localhost:8080/"
        },
        "id": "vvy2_NhBxBVr",
        "outputId": "e28a4360-68b3-46b8-8b4e-e49bfc9e4226"
      },
      "execution_count": 5,
      "outputs": [
        {
          "output_type": "stream",
          "name": "stdout",
          "text": [
            "This School was established in 1950s\n"
          ]
        }
      ]
    },
    {
      "cell_type": "code",
      "source": [
        "class bank:\n",
        "\n",
        "  def __init__(self, account_number, balance):\n",
        "    self.account_number = account_number\n",
        "    self.balance = balance\n",
        "\n",
        "  mobile = 7089251232\n",
        "\n",
        "  @classmethod\n",
        "  def change_mobile(cls, mobile_num):\n",
        "    bank.mobile = mobile_num\n",
        "\n",
        "  @classmethod\n",
        "  def details(cls, account_number, balance):\n",
        "    return cls(account_number, balance)\n",
        "\n",
        "  def customer_details(self):\n",
        "    print('account number: ' , self.account_number)\n",
        "    print('balance: ', self.balance)\n",
        "    print('Mobile: ', bank.mobile)"
      ],
      "metadata": {
        "id": "XVQ5pVwfxCXN"
      },
      "execution_count": 6,
      "outputs": []
    },
    {
      "cell_type": "code",
      "source": [
        "cus1 = bank.details('1287655825665', '1153225')"
      ],
      "metadata": {
        "id": "AAXznzrozBs1"
      },
      "execution_count": 7,
      "outputs": []
    },
    {
      "cell_type": "code",
      "source": [
        "cus1.customer_details()"
      ],
      "metadata": {
        "colab": {
          "base_uri": "https://localhost:8080/"
        },
        "id": "HWYjdZ6jzFHX",
        "outputId": "1891e1ba-d4fa-4d43-ff17-ea18f34fab20"
      },
      "execution_count": 8,
      "outputs": [
        {
          "output_type": "stream",
          "name": "stdout",
          "text": [
            "account number:  1287655825665\n",
            "balance:  1153225\n",
            "Mobile:  7089251232\n"
          ]
        }
      ]
    },
    {
      "cell_type": "code",
      "source": [
        "cus1.mobile"
      ],
      "metadata": {
        "colab": {
          "base_uri": "https://localhost:8080/"
        },
        "id": "NhcfddRCzP2t",
        "outputId": "15a6ae2c-d32a-47a4-86d5-e89244a41e6b"
      },
      "execution_count": 9,
      "outputs": [
        {
          "output_type": "execute_result",
          "data": {
            "text/plain": [
              "7089251232"
            ]
          },
          "metadata": {},
          "execution_count": 9
        }
      ]
    },
    {
      "cell_type": "code",
      "source": [
        "cus1.change_mobile(4535786624)"
      ],
      "metadata": {
        "id": "pW0rjkkWzP9c"
      },
      "execution_count": 10,
      "outputs": []
    },
    {
      "cell_type": "code",
      "source": [
        "cus1.mobile"
      ],
      "metadata": {
        "colab": {
          "base_uri": "https://localhost:8080/"
        },
        "id": "4JVDheJWzQ9w",
        "outputId": "98ef3b9d-eae8-4c97-87cc-aca0e12ac9c7"
      },
      "execution_count": 11,
      "outputs": [
        {
          "output_type": "execute_result",
          "data": {
            "text/plain": [
              "4535786624"
            ]
          },
          "metadata": {},
          "execution_count": 11
        }
      ]
    }
  ]
}
