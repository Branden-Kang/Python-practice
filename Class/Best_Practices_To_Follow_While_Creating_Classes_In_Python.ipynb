{
  "nbformat": 4,
  "nbformat_minor": 0,
  "metadata": {
    "colab": {
      "name": "Best Practices To Follow While Creating Classes In Python.ipynb",
      "provenance": [],
      "authorship_tag": "ABX9TyPzkPFH+FhAIZA+gKJtlon5"
    },
    "kernelspec": {
      "name": "python3",
      "display_name": "Python 3"
    },
    "language_info": {
      "name": "python"
    }
  },
  "cells": [
    {
      "cell_type": "markdown",
      "metadata": {
        "id": "UQk9RUHifKD7"
      },
      "source": [
        "[Reference](https://medium.com/pythoneers/best-practices-to-follow-while-creating-classes-in-python-4497bc8535dc)"
      ]
    },
    {
      "cell_type": "markdown",
      "metadata": {
        "id": "3zZ7Tl9vfX00"
      },
      "source": [
        "# 1. Use Inheritance Instead of redefining variables"
      ]
    },
    {
      "cell_type": "code",
      "metadata": {
        "id": "zuFC3HgpcOto"
      },
      "source": [
        "class Employee:\n",
        "  def __init__(self,name,age,exp,salary):\n",
        "    self.name = name\n",
        "    self.age = age\n",
        "    self.exp = exp\n",
        "    self.salary = salary\n",
        "    \n",
        "class Developers:\n",
        "  def __init__(self,name,age,exp,salary,level):      \n",
        "      super().__init__(name,age,exp,salary)                        \n",
        "      self.level = level\n",
        " \n",
        "class Deginers:\n",
        "  def __init__(self,name,age,exp,salary,level):      \n",
        "    super().__init__(name,age,exp,salary)                        \n",
        "    self.level = level"
      ],
      "execution_count": 1,
      "outputs": []
    },
    {
      "cell_type": "markdown",
      "metadata": {
        "id": "RHL9-w08fcn3"
      },
      "source": [
        "# 2. Class vs Static vs Instance Method (Use Wisely)"
      ]
    },
    {
      "cell_type": "code",
      "metadata": {
        "id": "_dyQxZnGfWKQ"
      },
      "source": [
        "class A(object):\n",
        "    def foo(self, x):\n",
        "        print(f\"executing foo({self}, {x})\")\n",
        "\n",
        "    @classmethod\n",
        "    def class_foo(cls, x):\n",
        "        print(f\"executing class_foo({cls}, {x})\")\n",
        "\n",
        "    @staticmethod\n",
        "    def static_foo(x):\n",
        "        print(f\"executing static_foo({x})\")\n",
        "a = A()"
      ],
      "execution_count": 2,
      "outputs": []
    },
    {
      "cell_type": "markdown",
      "metadata": {
        "id": "a3htRBfnfrkZ"
      },
      "source": [
        "# 3. use @property"
      ]
    },
    {
      "cell_type": "code",
      "metadata": {
        "colab": {
          "base_uri": "https://localhost:8080/"
        },
        "id": "pDtb5McjfqkP",
        "outputId": "69a57225-5a0f-4d81-c45d-b2162b64716b"
      },
      "source": [
        "class Data:\n",
        "    def __init__(self, fname, lname):\n",
        "        self.fname = fname\n",
        "        self.lname = lname\n",
        "    \n",
        "    @property\n",
        "    def name(self):\n",
        "        print(\"Getter\")\n",
        "        return f\"{self.fname} {self.lname}\"\n",
        "    \n",
        "    @name.setter\n",
        "    def name(self, name):\n",
        "        print(\"Setter\")\n",
        "        self.fname, self.lname = name.split()\n",
        "        \n",
        "obj = Data(\"Jack\", \"Davidson\")\n",
        "print(\"Student Name:\", obj.name)\n",
        "obj.name = \"Jake Davidson\"\n",
        "print(\"After setting:\", obj.name)"
      ],
      "execution_count": 3,
      "outputs": [
        {
          "output_type": "stream",
          "text": [
            "Getter\n",
            "Student Name: Jack Davidson\n",
            "Setter\n",
            "Getter\n",
            "After setting: Jake Davidson\n"
          ],
          "name": "stdout"
        }
      ]
    },
    {
      "cell_type": "markdown",
      "metadata": {
        "id": "BygzqJ3ogAD2"
      },
      "source": [
        "# 4. Consider Using __slots__ For Optimization"
      ]
    },
    {
      "cell_type": "code",
      "metadata": {
        "colab": {
          "base_uri": "https://localhost:8080/",
          "height": 300
        },
        "id": "-e64S10gf3IO",
        "outputId": "dfc92271-f5d0-433f-b8d7-c87a1fd65cf9"
      },
      "source": [
        "class A:\n",
        "   pass\n",
        "   \n",
        "a = A()\n",
        "print(a.__dict__)\n",
        "\n",
        "a.x = 5\n",
        "print(a.__dict__)\n",
        "\n",
        "b.x = 5\n",
        "print(b.__dict__)\n",
        "print(a.__dict__)"
      ],
      "execution_count": 5,
      "outputs": [
        {
          "output_type": "stream",
          "text": [
            "{}\n",
            "{'x': 5}\n"
          ],
          "name": "stdout"
        },
        {
          "output_type": "error",
          "ename": "NameError",
          "evalue": "ignored",
          "traceback": [
            "\u001b[0;31m---------------------------------------------------------------------------\u001b[0m",
            "\u001b[0;31mNameError\u001b[0m                                 Traceback (most recent call last)",
            "\u001b[0;32m<ipython-input-5-e1eca06c678c>\u001b[0m in \u001b[0;36m<module>\u001b[0;34m()\u001b[0m\n\u001b[1;32m      8\u001b[0m \u001b[0mprint\u001b[0m\u001b[0;34m(\u001b[0m\u001b[0ma\u001b[0m\u001b[0;34m.\u001b[0m\u001b[0m__dict__\u001b[0m\u001b[0;34m)\u001b[0m\u001b[0;34m\u001b[0m\u001b[0;34m\u001b[0m\u001b[0m\n\u001b[1;32m      9\u001b[0m \u001b[0;34m\u001b[0m\u001b[0m\n\u001b[0;32m---> 10\u001b[0;31m \u001b[0mb\u001b[0m\u001b[0;34m.\u001b[0m\u001b[0mx\u001b[0m \u001b[0;34m=\u001b[0m \u001b[0;36m5\u001b[0m\u001b[0;34m\u001b[0m\u001b[0;34m\u001b[0m\u001b[0m\n\u001b[0m\u001b[1;32m     11\u001b[0m \u001b[0mprint\u001b[0m\u001b[0;34m(\u001b[0m\u001b[0mb\u001b[0m\u001b[0;34m.\u001b[0m\u001b[0m__dict__\u001b[0m\u001b[0;34m)\u001b[0m\u001b[0;34m\u001b[0m\u001b[0;34m\u001b[0m\u001b[0m\n\u001b[1;32m     12\u001b[0m \u001b[0mprint\u001b[0m\u001b[0;34m(\u001b[0m\u001b[0ma\u001b[0m\u001b[0;34m.\u001b[0m\u001b[0m__dict__\u001b[0m\u001b[0;34m)\u001b[0m\u001b[0;34m\u001b[0m\u001b[0;34m\u001b[0m\u001b[0m\n",
            "\u001b[0;31mNameError\u001b[0m: name 'b' is not defined"
          ]
        }
      ]
    },
    {
      "cell_type": "code",
      "metadata": {
        "colab": {
          "base_uri": "https://localhost:8080/",
          "height": 232
        },
        "id": "kSk3wE-MgHcF",
        "outputId": "a9b67fb8-4c33-4a73-efc1-eaee0158b1e9"
      },
      "source": [
        "class B:\n",
        "   __slots__ = ('x','y')\n",
        "   pass\n",
        "   \n",
        "obj = B()\n",
        "obj.x = 10\n",
        "print(obj.__dict__)"
      ],
      "execution_count": 7,
      "outputs": [
        {
          "output_type": "error",
          "ename": "AttributeError",
          "evalue": "ignored",
          "traceback": [
            "\u001b[0;31m---------------------------------------------------------------------------\u001b[0m",
            "\u001b[0;31mAttributeError\u001b[0m                            Traceback (most recent call last)",
            "\u001b[0;32m<ipython-input-7-ce93aa8e7fae>\u001b[0m in \u001b[0;36m<module>\u001b[0;34m()\u001b[0m\n\u001b[1;32m      5\u001b[0m \u001b[0mobj\u001b[0m \u001b[0;34m=\u001b[0m \u001b[0mB\u001b[0m\u001b[0;34m(\u001b[0m\u001b[0;34m)\u001b[0m\u001b[0;34m\u001b[0m\u001b[0;34m\u001b[0m\u001b[0m\n\u001b[1;32m      6\u001b[0m \u001b[0mobj\u001b[0m\u001b[0;34m.\u001b[0m\u001b[0mx\u001b[0m \u001b[0;34m=\u001b[0m \u001b[0;36m10\u001b[0m\u001b[0;34m\u001b[0m\u001b[0;34m\u001b[0m\u001b[0m\n\u001b[0;32m----> 7\u001b[0;31m \u001b[0mprint\u001b[0m\u001b[0;34m(\u001b[0m\u001b[0mobj\u001b[0m\u001b[0;34m.\u001b[0m\u001b[0m__dict__\u001b[0m\u001b[0;34m)\u001b[0m\u001b[0;34m\u001b[0m\u001b[0;34m\u001b[0m\u001b[0m\n\u001b[0m",
            "\u001b[0;31mAttributeError\u001b[0m: 'B' object has no attribute '__dict__'"
          ]
        }
      ]
    },
    {
      "cell_type": "markdown",
      "metadata": {
        "id": "LitSlhI2gSdw"
      },
      "source": [
        "# 5. Magic Methods"
      ]
    },
    {
      "cell_type": "code",
      "metadata": {
        "colab": {
          "base_uri": "https://localhost:8080/"
        },
        "id": "ULKqeeU_gPE7",
        "outputId": "c16878b2-d3a5-416d-e1b2-74f13e373312"
      },
      "source": [
        "dir(list)"
      ],
      "execution_count": 8,
      "outputs": [
        {
          "output_type": "execute_result",
          "data": {
            "text/plain": [
              "['__add__',\n",
              " '__class__',\n",
              " '__contains__',\n",
              " '__delattr__',\n",
              " '__delitem__',\n",
              " '__dir__',\n",
              " '__doc__',\n",
              " '__eq__',\n",
              " '__format__',\n",
              " '__ge__',\n",
              " '__getattribute__',\n",
              " '__getitem__',\n",
              " '__gt__',\n",
              " '__hash__',\n",
              " '__iadd__',\n",
              " '__imul__',\n",
              " '__init__',\n",
              " '__init_subclass__',\n",
              " '__iter__',\n",
              " '__le__',\n",
              " '__len__',\n",
              " '__lt__',\n",
              " '__mul__',\n",
              " '__ne__',\n",
              " '__new__',\n",
              " '__reduce__',\n",
              " '__reduce_ex__',\n",
              " '__repr__',\n",
              " '__reversed__',\n",
              " '__rmul__',\n",
              " '__setattr__',\n",
              " '__setitem__',\n",
              " '__sizeof__',\n",
              " '__str__',\n",
              " '__subclasshook__',\n",
              " 'append',\n",
              " 'clear',\n",
              " 'copy',\n",
              " 'count',\n",
              " 'extend',\n",
              " 'index',\n",
              " 'insert',\n",
              " 'pop',\n",
              " 'remove',\n",
              " 'reverse',\n",
              " 'sort']"
            ]
          },
          "metadata": {
            "tags": []
          },
          "execution_count": 8
        }
      ]
    },
    {
      "cell_type": "markdown",
      "metadata": {
        "id": "p7wp0pNQgb9O"
      },
      "source": [
        "```python\n",
        "__init__, __str__, __add__\n",
        "```"
      ]
    }
  ]
}