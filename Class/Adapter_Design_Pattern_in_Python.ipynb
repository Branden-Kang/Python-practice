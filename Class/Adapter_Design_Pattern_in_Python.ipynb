{
  "nbformat": 4,
  "nbformat_minor": 0,
  "metadata": {
    "colab": {
      "provenance": [],
      "authorship_tag": "ABX9TyNwXecK3PlFOg+nax1NUlH8"
    },
    "kernelspec": {
      "name": "python3",
      "display_name": "Python 3"
    },
    "language_info": {
      "name": "python"
    }
  },
  "cells": [
    {
      "cell_type": "markdown",
      "source": [
        "[Reference](https://medium.com/@estebanthi/adapter-design-pattern-in-python-47a769f9300)"
      ],
      "metadata": {
        "id": "Okuyu9Ny8qPp"
      }
    },
    {
      "cell_type": "code",
      "source": [
        "class Rectangle:\n",
        "    def __init__(self, width, height):\n",
        "        self.width = width\n",
        "        self.height = height\n",
        "    \n",
        "    def get_area(self):\n",
        "        return self.width * self.height\n",
        "\n",
        "class Square:\n",
        "    def __init__(self, side_length):\n",
        "        self.side_length = side_length\n",
        "    \n",
        "    def get_area(self):\n",
        "        return self.side_length ** 2\n",
        "\n",
        "class SquareToRectangleAdapter:\n",
        "    def __init__(self, square):\n",
        "        self.square = square\n",
        "\n",
        "    @property\n",
        "    def width(self):\n",
        "        return self.square.side_length\n",
        "\n",
        "    @property\n",
        "    def height(self):\n",
        "        return self.square.side_length\n",
        "\n",
        "    def get_area(self):\n",
        "        return self.square.get_area()\n",
        "\n",
        "# Now we can use the SquareToRectangleAdapter class to use the Square class\n",
        "# as if it were a Rectangle\n",
        "\n",
        "square = Square(4)\n",
        "adapter = SquareToRectangleAdapter(square)\n",
        "\n",
        "print(adapter.width) \n",
        "print(adapter.height)\n",
        "print(adapter.get_area())"
      ],
      "metadata": {
        "colab": {
          "base_uri": "https://localhost:8080/"
        },
        "id": "OpwwZPOV8vMs",
        "outputId": "b81df63f-54ba-4378-b4e4-5564d8ab96d1"
      },
      "execution_count": 2,
      "outputs": [
        {
          "output_type": "stream",
          "name": "stdout",
          "text": [
            "4\n",
            "4\n",
            "16\n"
          ]
        }
      ]
    }
  ]
}
