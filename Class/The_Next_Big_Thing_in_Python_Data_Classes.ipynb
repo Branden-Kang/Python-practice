{
  "nbformat": 4,
  "nbformat_minor": 0,
  "metadata": {
    "colab": {
      "provenance": [],
      "authorship_tag": "ABX9TyM8oxYGNr+SMIcCyigIJ8Qm"
    },
    "kernelspec": {
      "name": "python3",
      "display_name": "Python 3"
    },
    "language_info": {
      "name": "python"
    }
  },
  "cells": [
    {
      "cell_type": "markdown",
      "source": [
        "[Reference](https://towardsdatascience.com/all-you-need-to-start-coding-with-data-classes-db421bf78a64)"
      ],
      "metadata": {
        "id": "POdk2ZFhHLyk"
      }
    },
    {
      "cell_type": "code",
      "execution_count": 1,
      "metadata": {
        "colab": {
          "base_uri": "https://localhost:8080/"
        },
        "id": "YdlUeNOQGrVi",
        "outputId": "f2f9b6a0-9005-4179-b546-f7af7bd78157"
      },
      "outputs": [
        {
          "output_type": "stream",
          "name": "stdout",
          "text": [
            "Point(x=1.0, y=2.0)\n"
          ]
        }
      ],
      "source": [
        "from dataclasses import dataclass, field\n",
        "\n",
        "@dataclass\n",
        "class Point:\n",
        "    x: float\n",
        "    y: float\n",
        "\n",
        "p = Point(1.0, 2.0)\n",
        "print(p)  # Output: Point(x=1.0, y=2.0)"
      ]
    },
    {
      "cell_type": "code",
      "source": [
        "@dataclass\n",
        "class Point:\n",
        "    x: float = 0.0\n",
        "    y: float = field(default=0.0)\n",
        "\n",
        "p1 = Point(x=1.0, y=2.0)\n",
        "print(p1)  # Output: Point(x=1.0, y=2.0)\n",
        "\n",
        "p2 = Point(1.0)\n",
        "print(p2)  # Output: Point(x=1.0, y=0.0)"
      ],
      "metadata": {
        "colab": {
          "base_uri": "https://localhost:8080/"
        },
        "id": "raOToz3oHO62",
        "outputId": "63568971-9641-40d3-9cf5-5b166b62bcfe"
      },
      "execution_count": 2,
      "outputs": [
        {
          "output_type": "stream",
          "name": "stdout",
          "text": [
            "Point(x=1.0, y=2.0)\n",
            "Point(x=1.0, y=0.0)\n"
          ]
        }
      ]
    },
    {
      "cell_type": "code",
      "source": [
        "@dataclass\n",
        "class Point:\n",
        "    x: float = field(default=0.0, repr=False)\n",
        "    y: float = field(default=0.0, init=False)\n",
        "\n",
        "p1 = Point(3.0) \n",
        "print(p1) # Output: Point(y=0.0)"
      ],
      "metadata": {
        "colab": {
          "base_uri": "https://localhost:8080/"
        },
        "id": "OufnnQ86HPzx",
        "outputId": "a115f507-0fa1-43b2-8be0-cd844e36e8a1"
      },
      "execution_count": 3,
      "outputs": [
        {
          "output_type": "stream",
          "name": "stdout",
          "text": [
            "Point(y=0.0)\n"
          ]
        }
      ]
    },
    {
      "cell_type": "code",
      "source": [
        "@dataclass\n",
        "class Point:\n",
        "    x: float = field(default=0.0, repr=False)\n",
        "    y: float = field(default=0.0, init=False)\n",
        "    def compute_y_with_x(self):\n",
        "        self.y = self.x ** 2\n",
        "\n",
        "p2 = Point(x=2.0)\n",
        "p2.compute_y_with_x()\n",
        "print(p2) # Output: Point(y=4.0)"
      ],
      "metadata": {
        "colab": {
          "base_uri": "https://localhost:8080/"
        },
        "id": "1jA-qv8OHRzT",
        "outputId": "3664db93-ade7-46df-fa27-49ad59f7875b"
      },
      "execution_count": 4,
      "outputs": [
        {
          "output_type": "stream",
          "name": "stdout",
          "text": [
            "Point(y=4.0)\n"
          ]
        }
      ]
    },
    {
      "cell_type": "code",
      "source": [
        "# @dataclass\n",
        "# class Points:\n",
        "#     coord: list = field(default=[])\n",
        "#     def add_a_dimension(self, element):\n",
        "#         self.coord.append(element)"
      ],
      "metadata": {
        "id": "9Bpy1RoLHTHf"
      },
      "execution_count": 7,
      "outputs": []
    },
    {
      "cell_type": "code",
      "source": [
        "class Points:\n",
        "    coord = []\n",
        "    def __init__(self, coord=coord):\n",
        "        self.coord = coord\n",
        "    def add_a_dimension(self, element):\n",
        "        self.coord.append(element)"
      ],
      "metadata": {
        "id": "RhPql3KYHXxu"
      },
      "execution_count": 8,
      "outputs": []
    },
    {
      "cell_type": "code",
      "source": [
        "p1 = Points()\n",
        "p2 = Points()\n",
        "p1.coord, p2.coord # Output: ([],[])\n",
        "p1.add_a_dimension(3)"
      ],
      "metadata": {
        "id": "4bKRWNXlHX8n"
      },
      "execution_count": 9,
      "outputs": []
    },
    {
      "cell_type": "code",
      "source": [
        "@dataclass\n",
        "class Points:\n",
        "    coord: list = field(default_factory=lambda: [])\n",
        "    def add_a_dimension(self, element):\n",
        "        self.coord.append(element)\n",
        "p1 = Points()\n",
        "p2 = Points()\n",
        "p1.coord, p2.coord # Output ([], [])"
      ],
      "metadata": {
        "colab": {
          "base_uri": "https://localhost:8080/"
        },
        "id": "GrO0-eJVHZIS",
        "outputId": "a5d445d6-82f7-4a95-9535-f9ccfda33909"
      },
      "execution_count": 10,
      "outputs": [
        {
          "output_type": "execute_result",
          "data": {
            "text/plain": [
              "([], [])"
            ]
          },
          "metadata": {},
          "execution_count": 10
        }
      ]
    },
    {
      "cell_type": "code",
      "source": [
        "p1.add_a_dimension(3)\n",
        "p1.coord, p2.coord # Output ([3], [])"
      ],
      "metadata": {
        "colab": {
          "base_uri": "https://localhost:8080/"
        },
        "id": "I9xm3GADHh6k",
        "outputId": "2541f7df-1722-46b7-edfe-097d3eee4a24"
      },
      "execution_count": 11,
      "outputs": [
        {
          "output_type": "execute_result",
          "data": {
            "text/plain": [
              "([3], [])"
            ]
          },
          "metadata": {},
          "execution_count": 11
        }
      ]
    },
    {
      "cell_type": "code",
      "source": [
        "@dataclass\n",
        "class Point:\n",
        "    x: float = field(default=0.0)\n",
        "    y: float = field(default=0.0)\n",
        "    \n",
        "    def __post_init__(self):\n",
        "        self.x = self.x ** 2\n",
        "        self.y = self.y ** 2\n",
        "\n",
        "@dataclass\n",
        "class ColoredPoint(Point):\n",
        "    color: str = field(default='black')\n",
        "    \n",
        "    def __post_init__(self):\n",
        "        self.color = self.color.upper()"
      ],
      "metadata": {
        "id": "h4XZYw2OHivP"
      },
      "execution_count": 12,
      "outputs": []
    },
    {
      "cell_type": "code",
      "source": [
        "p0 = Point(2.0,2.0)\n",
        "print(p0) # Output: Point(x=4.0, 4.0)"
      ],
      "metadata": {
        "colab": {
          "base_uri": "https://localhost:8080/"
        },
        "id": "qXWlhd0bHj7q",
        "outputId": "2780d861-6b48-48eb-87f2-fac8e046ba4e"
      },
      "execution_count": 13,
      "outputs": [
        {
          "output_type": "stream",
          "name": "stdout",
          "text": [
            "Point(x=4.0, y=4.0)\n"
          ]
        }
      ]
    },
    {
      "cell_type": "code",
      "source": [
        "p1 = ColoredPoint(2.0, 2.0, 'red')\n",
        "print(p1) # Output: ColoredPoint(x=2.0, y=2.0, color='RED')"
      ],
      "metadata": {
        "colab": {
          "base_uri": "https://localhost:8080/"
        },
        "id": "avMhi6IIHl4D",
        "outputId": "45d945d3-288b-48df-965c-970949f6c816"
      },
      "execution_count": 14,
      "outputs": [
        {
          "output_type": "stream",
          "name": "stdout",
          "text": [
            "ColoredPoint(x=2.0, y=2.0, color='RED')\n"
          ]
        }
      ]
    },
    {
      "cell_type": "code",
      "source": [
        "@dataclass\n",
        "class ColoredPoint(Point):\n",
        "    color: str = field(default='red')\n",
        "\n",
        "    def __post_init__(self):\n",
        "        super().__post_init__()\n",
        "        self.color = self.color.upper()\n",
        "p2 = ColoredPoint(2.0, 2.0, 'red')\n",
        "print(p2) # Output: ColoredPoint(x=4.0, y=4.0, color='RED')"
      ],
      "metadata": {
        "colab": {
          "base_uri": "https://localhost:8080/"
        },
        "id": "E3uKjPI_Hl_N",
        "outputId": "3317687d-4b62-4b0a-9b1b-af0500343c98"
      },
      "execution_count": 15,
      "outputs": [
        {
          "output_type": "stream",
          "name": "stdout",
          "text": [
            "ColoredPoint(x=4.0, y=4.0, color='RED')\n"
          ]
        }
      ]
    }
  ]
}
