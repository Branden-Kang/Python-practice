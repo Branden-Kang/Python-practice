{
  "nbformat": 4,
  "nbformat_minor": 0,
  "metadata": {
    "colab": {
      "provenance": [],
      "authorship_tag": "ABX9TyN0ZMM60VLD3/XrRqMfTwHg"
    },
    "kernelspec": {
      "name": "python3",
      "display_name": "Python 3"
    },
    "language_info": {
      "name": "python"
    }
  },
  "cells": [
    {
      "cell_type": "code",
      "execution_count": 1,
      "metadata": {
        "id": "-OwxEgiy-grR"
      },
      "outputs": [],
      "source": [
        "from dependency_injector import providers, containers\n",
        "class Database:\n",
        "    def __init__(self, db_name):\n",
        "        self.db_name = db_name\n",
        "        self.connected = False\n",
        "\n",
        "    def connect(self):\n",
        "        # Connect to database\n",
        "        self.connected = True\n",
        "\n",
        "    def disconnect(self):\n",
        "        # Disconnect from database\n",
        "        self.connected = False\n",
        "\n",
        "    def execute_query(self, query):\n",
        "        # Execute query on database\n",
        "        return f\"Query '{query}' executed on database '{self.db_name}'\"\n",
        "\n",
        "class DatabaseContainer(containers.DeclarativeContainer):\n",
        "    database_name = providers.Configuration(\"database_name\")\n",
        "\n",
        "    database = providers.Singleton(Database, db_name=database_name)\n",
        "\n",
        "if __name__ == \"__main__\":\n",
        "    container = DatabaseContainer(database_name=\"my_database\")\n",
        "\n",
        "    database = container.database()\n",
        "    database.connect()\n",
        "\n",
        "    result = database.execute_query(\"SELECT * FROM my_table\")\n",
        "    print(result)\n",
        "\n",
        "    database.disconnect()"
      ]
    },
    {
      "cell_type": "code",
      "source": [
        "from flask import Flask, jsonify\n",
        "from dependency_injector import containers, providers\n",
        "class Database:\n",
        "    def __init__(self, db_name):\n",
        "        self.db_name = db_name\n",
        "        self.connected = False\n",
        "\n",
        "    def connect(self):\n",
        "        # Connect to database\n",
        "        self.connected = True\n",
        "\n",
        "    def disconnect(self):\n",
        "        # Disconnect from database\n",
        "        self.connected = False\n",
        "\n",
        "    def execute_query(self, query):\n",
        "        # Execute query on database\n",
        "        return f\"Query '{query}' executed on database '{self.db_name}'\"\n",
        "\n",
        "class AppConfig(containers.DeclarativeContainer):\n",
        "    database_name = providers.Configuration(\"database_name\")\n",
        "\n",
        "class AppContainer(containers.DeclarativeContainer):\n",
        "    config = providers.Configuration()\n",
        "\n",
        "    database = providers.Singleton(Database, db_name=AppConfig.database_name)\n",
        "\n",
        "    app = providers.Singleton(Flask, __name__)\n",
        "    app.config.from_object(config)\n",
        "\n",
        "    @providers.Singleton\n",
        "    def get_database_connection(database=database):\n",
        "        database.connect()\n",
        "        return database\n",
        "\n",
        "    @app.route('/')\n",
        "    def index(get_database_connection=get_database_connection):\n",
        "        query_result = get_database_connection.execute_query(\"SELECT * FROM my_table\")\n",
        "        return jsonify({\"result\": query_result})\n",
        "\n",
        "if __name__ == '__main__':\n",
        "    app = AppContainer.app()\n",
        "    app.run()"
      ],
      "metadata": {
        "id": "unNc9vOw60Q_"
      },
      "execution_count": 2,
      "outputs": []
    },
    {
      "cell_type": "code",
      "source": [
        "from dependency_injector import containers, providers\n",
        "class Database:\n",
        "    def __init__(self, db_name):\n",
        "        self.db_name = db_name\n",
        "        self.connected = False\n",
        "\n",
        "    def connect(self):\n",
        "        # Connect to database\n",
        "        self.connected = True\n",
        "\n",
        "    def disconnect(self):\n",
        "        # Disconnect from database\n",
        "        self.connected = False\n",
        "\n",
        "    def execute_query(self, query):\n",
        "        # Execute query on database\n",
        "        return f\"Query '{query}' executed on database '{self.db_name}'\"\n",
        "\n",
        "class DatabaseContainer(containers.DeclarativeContainer):\n",
        "    database_name = providers.Configuration(\"database_name\")\n",
        "\n",
        "    database = providers.Singleton(Database, db_name=database_name)\n",
        "\n",
        "if __name__ == \"__main__\":\n",
        "    container = DatabaseContainer(database_name=\"my_database\")\n",
        "\n",
        "    database = container.database()\n",
        "    database.connect()\n",
        "\n",
        "    result = database.execute_query(\"SELECT * FROM my_table\")\n",
        "    print(result)\n",
        "\n",
        "    database.disconnect()"
      ],
      "metadata": {
        "id": "sVjGVYJ661vm"
      },
      "execution_count": 3,
      "outputs": []
    }
  ]
}
