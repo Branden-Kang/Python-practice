{
  "nbformat": 4,
  "nbformat_minor": 0,
  "metadata": {
    "colab": {
      "name": "Objects in Python.ipynb",
      "provenance": [],
      "authorship_tag": "ABX9TyO1OpR25/jXycGLtAMJiH9I"
    },
    "kernelspec": {
      "name": "python3",
      "display_name": "Python 3"
    }
  },
  "cells": [
    {
      "cell_type": "markdown",
      "metadata": {
        "id": "dYcExJWxuC_V"
      },
      "source": [
        "[Reference](https://medium.com/@crisbed321/talking-about-objects-in-python-fecdab439fca)"
      ]
    },
    {
      "cell_type": "code",
      "metadata": {
        "colab": {
          "base_uri": "https://localhost:8080/"
        },
        "id": "oGg8dbKPuBqp",
        "outputId": "e15c25b5-ed4d-4e3e-bd5f-fe518096cbb8"
      },
      "source": [
        "#!/usr/bin/python3\n",
        "# Declaring  string objects:\n",
        "str1 = \"Hello\"\n",
        "str2 = \"World\"\n",
        "str3 = \"Hello\"\n",
        "# Declaring int objects:\n",
        "num1 = 1\n",
        "num2 = 1024\n",
        "num3 = 1\n",
        "num4 = 1024\n",
        "# Getting their ids:\n",
        "print(\"str1 id is:\", id(str1))\n",
        "print(\"str1 id is:\", id(str1), \"and str3 id is:\", id(str3))\n",
        "print(\"str2 id is:\", id(str2))\n",
        "print(\"num1 id is:\", id(num1), \"and num3 id is:\", id(num3))\n",
        "print(\"num2 id is:\", id(num2), \"and num2 id is:\", id(num4))"
      ],
      "execution_count": 1,
      "outputs": [
        {
          "output_type": "stream",
          "text": [
            "str1 id is: 140579491173520\n",
            "str1 id is: 140579491173520 and str3 id is: 140579491173520\n",
            "str2 id is: 140579491173632\n",
            "num1 id is: 10914496 and num3 id is: 10914496\n",
            "num2 id is: 140579491294384 and num2 id is: 140579491294160\n"
          ],
          "name": "stdout"
        }
      ]
    },
    {
      "cell_type": "code",
      "metadata": {
        "colab": {
          "base_uri": "https://localhost:8080/"
        },
        "id": "5LU8gwIjuGls",
        "outputId": "0511d140-e4b7-446f-fd60-ef771b3e374e"
      },
      "source": [
        "#!/usr/bin/python3\n",
        "# Declaring  string objects:\n",
        "str1 = \"Hello\"\n",
        "str2 = \"World\"\n",
        "str3 = \"Hello\"\n",
        "# Declaring int objects:\n",
        "num1 = 1\n",
        "num2 = 1024\n",
        "num3 = 1\n",
        "num4 = 1024\n",
        "# Getting their type:\n",
        "print('Type of str1:', type(str1))\n",
        "print('Type of num1:', type(num1))"
      ],
      "execution_count": 2,
      "outputs": [
        {
          "output_type": "stream",
          "text": [
            "Type of str1: <class 'str'>\n",
            "Type of num1: <class 'int'>\n"
          ],
          "name": "stdout"
        }
      ]
    },
    {
      "cell_type": "code",
      "metadata": {
        "colab": {
          "base_uri": "https://localhost:8080/"
        },
        "id": "ioojWbXfuMwi",
        "outputId": "14e1e6c4-919c-4aa4-d244-902ed1219263"
      },
      "source": [
        "#!/usr/bin/python3\n",
        "# declaring a list\n",
        "animals = [\"cow\", \"pig\", \"chiken\"]\n",
        "print(animals)\n",
        "\n",
        "animals[0] = \"bull\"\n",
        "animals[-1] = \"rooster\"\n",
        "print(animals)"
      ],
      "execution_count": 3,
      "outputs": [
        {
          "output_type": "stream",
          "text": [
            "['cow', 'pig', 'chiken']\n",
            "['bull', 'pig', 'rooster']\n"
          ],
          "name": "stdout"
        }
      ]
    },
    {
      "cell_type": "code",
      "metadata": {
        "colab": {
          "base_uri": "https://localhost:8080/"
        },
        "id": "6NB2_CicuPPg",
        "outputId": "ea9b3957-3dde-4c60-c00d-e5fe1590e69c"
      },
      "source": [
        "#!/bin/bash/python3\n",
        "x = 10\n",
        "y = x               # y refers to the same object (number 10) as x\n",
        "x = 11              # x now refers to a different object (number 11), \n",
        "                    # since integers are immutable\n",
        "print(y)            # but y is still referring to the same object\n",
        "\n",
        "# Exceptions with Immutable Objects\n",
        "a = \"Hello\"            # reserved string \n",
        "b = \"Hello\"\n",
        "print(a is b)\n",
        "a = \"Hello World!\"     # not reserved sttign\n",
        "b = \"Hello world!\"\n",
        "print(a is b)\n",
        "a = 256.               # reserved int\n",
        "b = 256\n",
        "print(a is b)\n",
        "a = 257                # not reserved int\n",
        "b = 257\n",
        "print(a is b)\n",
        "a = ()                 # empy tupple\n",
        "b = ()\n",
        "print(a is b)\n",
        "a = (1, )              # not empty tupple              \n",
        "b = (1, )\n",
        "print(a == b)\n",
        "print(a is b)"
      ],
      "execution_count": 4,
      "outputs": [
        {
          "output_type": "stream",
          "text": [
            "10\n",
            "True\n",
            "False\n",
            "False\n",
            "False\n",
            "True\n",
            "True\n",
            "False\n"
          ],
          "name": "stdout"
        }
      ]
    },
    {
      "cell_type": "code",
      "metadata": {
        "colab": {
          "base_uri": "https://localhost:8080/"
        },
        "id": "ZqdPUT-HuXUv",
        "outputId": "1c200cab-4cc3-4d10-c75f-1c05a51fdb05"
      },
      "source": [
        "#!/usr/bin/python3\n",
        "def increment_1(n):\n",
        "    n += 1\n",
        "\n",
        "def increment_2(n):\n",
        "    n.append(4)\n",
        "\n",
        "if __name__ == \"__main__\":\n",
        "    a = 1\n",
        "    increment_1(a)\n",
        "    print(a)\n",
        "\n",
        "    list1 = [1, 2, 3]\n",
        "    increment_2(list1)\n",
        "    print(list1)"
      ],
      "execution_count": 5,
      "outputs": [
        {
          "output_type": "stream",
          "text": [
            "1\n",
            "[1, 2, 3, 4]\n"
          ],
          "name": "stdout"
        }
      ]
    }
  ]
}