{
  "nbformat": 4,
  "nbformat_minor": 0,
  "metadata": {
    "colab": {
      "name": "Abstract Classes in Python.ipynb",
      "provenance": [],
      "authorship_tag": "ABX9TyOugD18BHb2VXijqPXY7Wby"
    },
    "kernelspec": {
      "name": "python3",
      "display_name": "Python 3"
    },
    "language_info": {
      "name": "python"
    }
  },
  "cells": [
    {
      "cell_type": "markdown",
      "metadata": {
        "id": "6mCoDb-j5MXl"
      },
      "source": [
        "[Reference](https://python.plainenglish.io/level-up-your-python-code-with-abstract-classes-7f7f6bdcbb5c)"
      ]
    },
    {
      "cell_type": "code",
      "metadata": {
        "id": "lWCoUDmG415X"
      },
      "source": [
        "def animate(animal):\n",
        "  print(animal.get_sound())\n",
        "  for leg in animal.legs_number:\n",
        "    print(\"Moving leg\", leg)\n",
        "  print(\"Moved!\")"
      ],
      "execution_count": 1,
      "outputs": []
    },
    {
      "cell_type": "markdown",
      "metadata": {
        "id": "szIIaYYy5SRL"
      },
      "source": [
        "# The abc Module\n"
      ]
    },
    {
      "cell_type": "code",
      "metadata": {
        "id": "GdVBI0HD5RhY"
      },
      "source": [
        "from abc import ABC, abstractmethod\n",
        "\n",
        "class Animal(ABC):\n",
        "  @abstractmethod\n",
        "  def get_sound(self) -> str:\n",
        "    pass"
      ],
      "execution_count": 2,
      "outputs": []
    },
    {
      "cell_type": "code",
      "metadata": {
        "colab": {
          "base_uri": "https://localhost:8080/",
          "height": 215
        },
        "id": "aar1xPgW5UIA",
        "outputId": "4da7ad6a-7c50-4fb7-d466-b4f3dfd4443f"
      },
      "source": [
        "a = Animal()"
      ],
      "execution_count": 3,
      "outputs": [
        {
          "output_type": "error",
          "ename": "TypeError",
          "evalue": "ignored",
          "traceback": [
            "\u001b[0;31m---------------------------------------------------------------------------\u001b[0m",
            "\u001b[0;31mTypeError\u001b[0m                                 Traceback (most recent call last)",
            "\u001b[0;32m<ipython-input-3-2a6156927c44>\u001b[0m in \u001b[0;36m<module>\u001b[0;34m()\u001b[0m\n\u001b[0;32m----> 1\u001b[0;31m \u001b[0ma\u001b[0m \u001b[0;34m=\u001b[0m \u001b[0mAnimal\u001b[0m\u001b[0;34m(\u001b[0m\u001b[0;34m)\u001b[0m\u001b[0;34m\u001b[0m\u001b[0;34m\u001b[0m\u001b[0m\n\u001b[0m",
            "\u001b[0;31mTypeError\u001b[0m: Can't instantiate abstract class Animal with abstract methods get_sound"
          ]
        }
      ]
    },
    {
      "cell_type": "code",
      "metadata": {
        "id": "qjW34cTz5VXZ"
      },
      "source": [
        "class Cat(Animal):\n",
        "  def get_sound(self) -> str:\n",
        "    return \"Meow\""
      ],
      "execution_count": 4,
      "outputs": []
    },
    {
      "cell_type": "code",
      "metadata": {
        "colab": {
          "base_uri": "https://localhost:8080/",
          "height": 37
        },
        "id": "T3UJwuJv5WT3",
        "outputId": "7c8d36da-8478-4965-9d81-594eb5324ad7"
      },
      "source": [
        "a = Cat()\n",
        "a.get_sound()"
      ],
      "execution_count": 5,
      "outputs": [
        {
          "output_type": "execute_result",
          "data": {
            "application/vnd.google.colaboratory.intrinsic+json": {
              "type": "string"
            },
            "text/plain": [
              "'Meow'"
            ]
          },
          "metadata": {},
          "execution_count": 5
        }
      ]
    },
    {
      "cell_type": "markdown",
      "metadata": {
        "id": "NqvpBQPw5Yls"
      },
      "source": [
        "# Decorators for abstract methods\n"
      ]
    },
    {
      "cell_type": "code",
      "metadata": {
        "id": "LkfsE9n85X8r"
      },
      "source": [
        "@property\n",
        "@abstractmethod\n",
        "def legs_number(self) -> int:\n",
        "  pass"
      ],
      "execution_count": 6,
      "outputs": []
    },
    {
      "cell_type": "code",
      "metadata": {
        "id": "RYHrocGW5aMH"
      },
      "source": [
        "@property\n",
        "def legs_number(self) -> int:\n",
        "  return 4"
      ],
      "execution_count": 7,
      "outputs": []
    }
  ]
}