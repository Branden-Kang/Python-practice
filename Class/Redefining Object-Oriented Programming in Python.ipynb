{
  "nbformat": 4,
  "nbformat_minor": 0,
  "metadata": {
    "colab": {
      "provenance": [],
      "authorship_tag": "ABX9TyOE44UkD21apAFLx3KFLKMc"
    },
    "kernelspec": {
      "name": "python3",
      "display_name": "Python 3"
    },
    "language_info": {
      "name": "python"
    }
  },
  "cells": [
    {
      "cell_type": "markdown",
      "source": [
        "[Reference](https://medium.com/@dasagrivamanu/redefining-object-oriented-programming-in-python-8f8fb3932d73)"
      ],
      "metadata": {
        "id": "6j6VpLkvlK2c"
      }
    },
    {
      "cell_type": "code",
      "execution_count": 1,
      "metadata": {
        "colab": {
          "base_uri": "https://localhost:8080/"
        },
        "id": "FNKzl9AQlI5g",
        "outputId": "c78d1740-07fb-4a4d-a2c8-55ed42cd70b0"
      },
      "outputs": [
        {
          "output_type": "stream",
          "name": "stdout",
          "text": [
            "78.5\n"
          ]
        }
      ],
      "source": [
        "class Circle:\n",
        "   def __init__(self, radius):\n",
        "      self.radius = radius\n",
        "   def area(self):\n",
        "      return 3.14 * self.radius * self.radius\n",
        "circle = Circle(5)\n",
        "print(circle.area()) # Output: 78.5"
      ]
    },
    {
      "cell_type": "code",
      "source": [
        "class BankAccount:\n",
        "   def __init__(self, account_number, balance):\n",
        "      self._account_number = account_number\n",
        "      self._balance = balance\n",
        "   def deposit(self, amount):\n",
        "      self._balance += amount\n",
        "   def withdraw(self, amount):\n",
        "      if amount <= self._balance:\n",
        "         self._balance -= amount\n",
        "      else:\n",
        "         print(\"Insufficient funds!\")\n",
        "   def get_balance(self):\n",
        "      return self._balance\n",
        "account = BankAccount(\"123456789\", 1000)\n",
        "account.deposit(500)\n",
        "account.withdraw(200)\n",
        "print(account.get_balance()) # Output: 1300"
      ],
      "metadata": {
        "colab": {
          "base_uri": "https://localhost:8080/"
        },
        "id": "2lF0zFkjlNo3",
        "outputId": "c0be36f9-7141-4841-c015-36cae2f80019"
      },
      "execution_count": 2,
      "outputs": [
        {
          "output_type": "stream",
          "name": "stdout",
          "text": [
            "1300\n"
          ]
        }
      ]
    },
    {
      "cell_type": "code",
      "source": [
        "class Animal:\n",
        "   def __init__(self, name):\n",
        "      self.name = name\n",
        "   def speak(self):\n",
        "      pass\n",
        "class Dog(Animal):\n",
        "   def speak(self):\n",
        "      return \"Woof!\"\n",
        "class Cat(Animal):\n",
        "   def speak(self):\n",
        "      return \"Meow!\"\n",
        "dog = Dog(\"Buddy\")\n",
        "cat = Cat(\"Whiskers\")\n",
        "print(dog.speak()) # Output: \"Woof!\"\n",
        "print(cat.speak()) # Output: \"Meow!\""
      ],
      "metadata": {
        "colab": {
          "base_uri": "https://localhost:8080/"
        },
        "id": "Nb0mGicglOsb",
        "outputId": "37c21e49-c37f-42a8-bff3-cbb7ad9ea7e0"
      },
      "execution_count": 3,
      "outputs": [
        {
          "output_type": "stream",
          "name": "stdout",
          "text": [
            "Woof!\n",
            "Meow!\n"
          ]
        }
      ]
    },
    {
      "cell_type": "code",
      "source": [
        "class Shape:\n",
        "   def area(self):\n",
        "      pass\n",
        "class Rectangle(Shape):\n",
        "   def __init__(self, length, width):\n",
        "      self.length = length\n",
        "      self.width = width\n",
        "   def area(self):\n",
        "      return self.length * self.width\n",
        "class Circle(Shape):\n",
        "   def __init__(self, radius):\n",
        "      self.radius = radius\n",
        "   def area(self):\n",
        "      return 3.14 * self.radius * self.radius\n",
        "shapes = [Rectangle(4, 6), Circle(5)]\n",
        "for shape in shapes:\n",
        "   print(shape.area())"
      ],
      "metadata": {
        "colab": {
          "base_uri": "https://localhost:8080/"
        },
        "id": "6Hg8SldylPk4",
        "outputId": "a18b0ed8-946b-4082-bc98-28c90c2a9eec"
      },
      "execution_count": 4,
      "outputs": [
        {
          "output_type": "stream",
          "name": "stdout",
          "text": [
            "24\n",
            "78.5\n"
          ]
        }
      ]
    },
    {
      "cell_type": "code",
      "source": [
        "class DatabaseConnection:\n",
        "   def __init__(self, host, port, username, password):\n",
        "      self.host = host\n",
        "      self.port = port\n",
        "      self.username = username\n",
        "      self.password = password\n",
        "   def connect(self):\n",
        "      # Code to establish a database connection\n",
        "      pass\n",
        "   def disconnect(self):\n",
        "      # Code to close the database connection\n",
        "      pass\n",
        "class UserRepository:\n",
        "   def __init__(self, connection):\n",
        "      self.connection = connection\n",
        "   def get_user(self, user_id):\n",
        "      # Code to fetch user data from the database using the connection\n",
        "      pass\n",
        "   def save_user(self, user):\n",
        "      # Code to save user data to the database using the connection\n",
        "      pass\n",
        "connection = DatabaseConnection(\"localhost\", 5432, \"admin\", \"password\")\n",
        "repository = UserRepository(connection)\n",
        "user = repository.get_user(1)\n",
        "repository.save_user(user)"
      ],
      "metadata": {
        "id": "ygXUXBSZlQ2Q"
      },
      "execution_count": 5,
      "outputs": []
    },
    {
      "cell_type": "code",
      "source": [
        "class Person:\n",
        "   pass\n",
        "person = Person()\n",
        "person.name = \"John\"\n",
        "person.age = 30\n",
        "print(person.name) # Output: \"John\"\n",
        "print(person.age) # Output: 30"
      ],
      "metadata": {
        "colab": {
          "base_uri": "https://localhost:8080/"
        },
        "id": "gICwWBORlSBL",
        "outputId": "58fdfa78-f79e-4a1b-fdef-0c5c09d2f7d1"
      },
      "execution_count": 6,
      "outputs": [
        {
          "output_type": "stream",
          "name": "stdout",
          "text": [
            "John\n",
            "30\n"
          ]
        }
      ]
    },
    {
      "cell_type": "code",
      "source": [
        "class Book:\n",
        "    def __init__(self, title, author):\n",
        "        self.title = title\n",
        "        self.author = author\n",
        "    def __str__(self):\n",
        "        return f\"{self.title} by {self.author}\"\n",
        "book = Book(\"Python Programming\", \"John Smith\")\n",
        "print(book)  # Output: \"Python Programming by John Smith\""
      ],
      "metadata": {
        "colab": {
          "base_uri": "https://localhost:8080/"
        },
        "id": "xvGO89CUlS5g",
        "outputId": "74227b4c-f553-431a-fcc7-d22f7a5cc9ea"
      },
      "execution_count": 7,
      "outputs": [
        {
          "output_type": "stream",
          "name": "stdout",
          "text": [
            "Python Programming by John Smith\n"
          ]
        }
      ]
    }
  ]
}
