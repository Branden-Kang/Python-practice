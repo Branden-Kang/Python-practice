{
  "nbformat": 4,
  "nbformat_minor": 0,
  "metadata": {
    "colab": {
      "provenance": [],
      "authorship_tag": "ABX9TyN8Af0TXdVLVj4/9cUFrD4m"
    },
    "kernelspec": {
      "name": "python3",
      "display_name": "Python 3"
    },
    "language_info": {
      "name": "python"
    }
  },
  "cells": [
    {
      "cell_type": "markdown",
      "source": [
        "[Reference](https://towardsdev.com/builder-design-pattern-in-python-446164cef3c3)"
      ],
      "metadata": {
        "id": "D4ASHZp9dD6I"
      }
    },
    {
      "cell_type": "code",
      "execution_count": 1,
      "metadata": {
        "colab": {
          "base_uri": "https://localhost:8080/"
        },
        "id": "1rarJbORVbQY",
        "outputId": "b4df775d-64b0-464c-dcbb-bb0c143c45a0"
      },
      "outputs": [
        {
          "output_type": "stream",
          "name": "stdout",
          "text": [
            "Coolermaster N300 MSI 970 Intel Core i7\n",
            "Coolermaster N300 MSI 970 Intel Core i5\n"
          ]
        }
      ],
      "source": [
        "from abc import ABC, abstractmethod\n",
        "\n",
        "\n",
        "class Computer(ABC):\n",
        "\n",
        "    def __init__(self, case, mainboard, cpu):\n",
        "        self.case = case\n",
        "        self.mainboard = mainboard\n",
        "        self.cpu = cpu\n",
        "\n",
        "    def __str__(self):\n",
        "        return f'{self.case} {self.mainboard} {self.cpu}'\n",
        "\n",
        "\n",
        "class GamingComputer(Computer):\n",
        "    def __init__(self):\n",
        "        super().__init__('Coolermaster N300', 'MSI 970', 'Intel Core i7')\n",
        "\n",
        "\n",
        "class OfficeComputer(Computer):\n",
        "    def __init__(self):\n",
        "        super().__init__('Coolermaster N300', 'MSI 970', 'Intel Core i5')\n",
        "\n",
        "\n",
        "if __name__ == '__main__':\n",
        "    print(GamingComputer())\n",
        "    print(OfficeComputer())"
      ]
    },
    {
      "cell_type": "code",
      "source": [
        "from abc import ABC, abstractmethod\n",
        "\n",
        "\n",
        "class Builder(ABC):\n",
        "\n",
        "    @property\n",
        "    @abstractmethod\n",
        "    def product(self):\n",
        "        pass\n",
        "\n",
        "    @abstractmethod\n",
        "    def build_case(self):\n",
        "        pass\n",
        "\n",
        "    @abstractmethod\n",
        "    def build_mainboard(self):\n",
        "        pass\n",
        "\n",
        "    @abstractmethod\n",
        "    def build_cpu(self):\n",
        "        pass\n",
        "\n",
        "\n",
        "class ComputerBuilder(Builder):\n",
        "    def __init__(self):\n",
        "        self.reset()\n",
        "\n",
        "    def reset(self):\n",
        "        self._product = Computer()\n",
        "\n",
        "    @property\n",
        "    def product(self):\n",
        "        product = self._product\n",
        "        self.reset()\n",
        "        return product\n",
        "\n",
        "    def build_case(self):\n",
        "        self._product.add(\"Coolermaster N300\")\n",
        "\n",
        "    def build_mainboard(self):\n",
        "        self._product.add(\"MSI 970\")\n",
        "\n",
        "    @abstractmethod\n",
        "    def build_cpu(self):\n",
        "        pass\n",
        "\n",
        "\n",
        "class GamingComputerBuilder(ComputerBuilder):\n",
        "    def build_cpu(self):\n",
        "        self._product.add(\"Intel Core i7\")\n",
        "\n",
        "\n",
        "class OfficeComputerBuilder(ComputerBuilder):\n",
        "    def build_cpu(self):\n",
        "        self._product.add(\"Intel Core i5\")\n",
        "\n",
        "\n",
        "class Computer:\n",
        "    def __init__(self):\n",
        "        self._parts = []\n",
        "\n",
        "    def add(self, part):\n",
        "        self._parts.append(part)\n",
        "\n",
        "    def __str__(self):\n",
        "        return ''.join(self._parts)\n",
        "\n",
        "\n",
        "class Director:\n",
        "    def __init__(self):\n",
        "        self._builder = None\n",
        "\n",
        "    @property\n",
        "    def builder(self):\n",
        "        return self._builder\n",
        "\n",
        "    @builder.setter\n",
        "    def builder(self, builder):\n",
        "        self._builder = builder\n",
        "\n",
        "    def build_minimal_viable_product(self):\n",
        "        self.builder.build_case()\n",
        "\n",
        "    def build_full_featured_product(self):\n",
        "        self.builder.build_case()\n",
        "        self.builder.build_mainboard()\n",
        "        self.builder.build_cpu()\n",
        "\n",
        "\n",
        "if __name__ == \"__main__\":\n",
        "    director = Director()\n",
        "\n",
        "    builder = GamingComputerBuilder()\n",
        "    director.builder = builder\n",
        "    director.build_full_featured_product()\n",
        "    print(builder.product)\n",
        "\n",
        "    builder = OfficeComputerBuilder()\n",
        "    director.builder = builder\n",
        "    director.build_full_featured_product()\n",
        "    print(builder.product)\n",
        "\n",
        "    builder = GamingComputerBuilder()\n",
        "    director.builder = builder\n",
        "    director.build_minimal_viable_product()\n",
        "    print(builder.product)"
      ],
      "metadata": {
        "colab": {
          "base_uri": "https://localhost:8080/"
        },
        "id": "L2gEyleXdINi",
        "outputId": "253eaa2c-b764-494d-c54b-d1f0186f83bd"
      },
      "execution_count": 2,
      "outputs": [
        {
          "output_type": "stream",
          "name": "stdout",
          "text": [
            "Coolermaster N300MSI 970Intel Core i7\n",
            "Coolermaster N300MSI 970Intel Core i5\n",
            "Coolermaster N300\n"
          ]
        }
      ]
    }
  ]
}
