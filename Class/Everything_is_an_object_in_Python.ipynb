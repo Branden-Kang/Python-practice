{
  "nbformat": 4,
  "nbformat_minor": 0,
  "metadata": {
    "colab": {
      "name": "Everything is an object in Python.ipynb",
      "provenance": [],
      "authorship_tag": "ABX9TyOH4dK4YWTfJMGeNYlzqK2w"
    },
    "kernelspec": {
      "name": "python3",
      "display_name": "Python 3"
    }
  },
  "cells": [
    {
      "cell_type": "markdown",
      "metadata": {
        "id": "yxpMW_Ws9-Vb"
      },
      "source": [
        "[Reference](https://medium.com/swlh/everything-is-an-object-in-python-f073f6a4b9b6)"
      ]
    },
    {
      "cell_type": "code",
      "metadata": {
        "id": "PDl5orZB99BR",
        "outputId": "99aeaf0a-ee8c-4de9-ccad-8976b596c3d7",
        "colab": {
          "base_uri": "https://localhost:8080/",
          "height": 215
        }
      },
      "source": [
        "string1 = \"hello\"\n",
        "string1[0] = \"p\""
      ],
      "execution_count": 1,
      "outputs": [
        {
          "output_type": "error",
          "ename": "TypeError",
          "evalue": "ignored",
          "traceback": [
            "\u001b[0;31m---------------------------------------------------------------------------\u001b[0m",
            "\u001b[0;31mTypeError\u001b[0m                                 Traceback (most recent call last)",
            "\u001b[0;32m<ipython-input-1-66558b491e65>\u001b[0m in \u001b[0;36m<module>\u001b[0;34m()\u001b[0m\n\u001b[1;32m      1\u001b[0m \u001b[0mstring1\u001b[0m \u001b[0;34m=\u001b[0m \u001b[0;34m\"hello\"\u001b[0m\u001b[0;34m\u001b[0m\u001b[0;34m\u001b[0m\u001b[0m\n\u001b[0;32m----> 2\u001b[0;31m \u001b[0mstring1\u001b[0m\u001b[0;34m[\u001b[0m\u001b[0;36m0\u001b[0m\u001b[0;34m]\u001b[0m \u001b[0;34m=\u001b[0m \u001b[0;34m\"p\"\u001b[0m\u001b[0;34m\u001b[0m\u001b[0;34m\u001b[0m\u001b[0m\n\u001b[0m",
            "\u001b[0;31mTypeError\u001b[0m: 'str' object does not support item assignment"
          ]
        }
      ]
    },
    {
      "cell_type": "code",
      "metadata": {
        "id": "IbMtHGUk-Dxp",
        "outputId": "c1fb2a0f-0c58-4a35-d1c9-531f148d094b",
        "colab": {
          "base_uri": "https://localhost:8080/"
        }
      },
      "source": [
        "list1 = [1,1.0,\"one\"]\n",
        "id(list1)"
      ],
      "execution_count": 2,
      "outputs": [
        {
          "output_type": "execute_result",
          "data": {
            "text/plain": [
              "140342260658760"
            ]
          },
          "metadata": {
            "tags": []
          },
          "execution_count": 2
        }
      ]
    },
    {
      "cell_type": "code",
      "metadata": {
        "id": "bCGAXs4k-Sy-"
      },
      "source": [
        "list1[2] = \"Branden\""
      ],
      "execution_count": 4,
      "outputs": []
    },
    {
      "cell_type": "code",
      "metadata": {
        "id": "mozOO8pv-Wm-",
        "outputId": "415ad9f4-ca6c-4f02-df21-74524fdffa72",
        "colab": {
          "base_uri": "https://localhost:8080/"
        }
      },
      "source": [
        "list1"
      ],
      "execution_count": 5,
      "outputs": [
        {
          "output_type": "execute_result",
          "data": {
            "text/plain": [
              "[1, 1.0, 'Branden']"
            ]
          },
          "metadata": {
            "tags": []
          },
          "execution_count": 5
        }
      ]
    },
    {
      "cell_type": "code",
      "metadata": {
        "id": "Bsu7h6Df-YH8",
        "outputId": "748cbe1b-1342-488c-991d-23461568cc44",
        "colab": {
          "base_uri": "https://localhost:8080/"
        }
      },
      "source": [
        "id(list1)"
      ],
      "execution_count": 6,
      "outputs": [
        {
          "output_type": "execute_result",
          "data": {
            "text/plain": [
              "140342260658760"
            ]
          },
          "metadata": {
            "tags": []
          },
          "execution_count": 6
        }
      ]
    },
    {
      "cell_type": "code",
      "metadata": {
        "id": "a7Y8iSQp-Y8T",
        "outputId": "76a66d8b-4d49-4bfd-cd7a-81afd5f4d442",
        "colab": {
          "base_uri": "https://localhost:8080/"
        }
      },
      "source": [
        "def assign_value(n, v):\n",
        "    n[0] = \"change item\"\n",
        "    n = v\n",
        "\n",
        "list1 = [1,2,3]\n",
        "list2 = [4,5,6]\n",
        "assign_value(list1,list2)\n",
        "print(list1)"
      ],
      "execution_count": 7,
      "outputs": [
        {
          "output_type": "stream",
          "text": [
            "['change item', 2, 3]\n"
          ],
          "name": "stdout"
        }
      ]
    },
    {
      "cell_type": "code",
      "metadata": {
        "id": "sfj1kOnD-ypF",
        "outputId": "070d1b20-a878-451d-e4aa-4aecc57ae448",
        "colab": {
          "base_uri": "https://localhost:8080/"
        }
      },
      "source": [
        "def assign_value(n, v):\n",
        "    copy = n[:]\n",
        "    copy[0] = \"change item\"\n",
        "    copy = v\n",
        "\n",
        "list1 = [1,2,3]\n",
        "list2 = [4,5,6]\n",
        "assign_value(list1,list2)\n",
        "print(list1)"
      ],
      "execution_count": 8,
      "outputs": [
        {
          "output_type": "stream",
          "text": [
            "[1, 2, 3]\n"
          ],
          "name": "stdout"
        }
      ]
    }
  ]
}