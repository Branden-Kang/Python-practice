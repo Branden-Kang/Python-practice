{
  "nbformat": 4,
  "nbformat_minor": 0,
  "metadata": {
    "colab": {
      "name": "Intro to Python Classes and Objects.ipynb",
      "provenance": [],
      "authorship_tag": "ABX9TyNjXRRkwi08sdiEmDxxH314"
    },
    "kernelspec": {
      "name": "python3",
      "display_name": "Python 3"
    }
  },
  "cells": [
    {
      "cell_type": "markdown",
      "metadata": {
        "id": "lz-wUmoysonc"
      },
      "source": [
        "[Reference](https://towardsdatascience.com/python-objects-and-classes-a957d113063e)"
      ]
    },
    {
      "cell_type": "code",
      "metadata": {
        "colab": {
          "base_uri": "https://localhost:8080/"
        },
        "id": "Nl_0ApVGsmFY",
        "outputId": "206b5dfb-aa8c-470d-ac9c-6b7e33fe42d1"
      },
      "source": [
        "class Employee:\n",
        "    pass\n",
        "    \n",
        "employee1=Employee()\n",
        "employee2=Employee()\n",
        "\n",
        "print(\"Employee 1 is\", employee1)\n",
        "print(\"Employee 2 is\", employee2)"
      ],
      "execution_count": 1,
      "outputs": [
        {
          "output_type": "stream",
          "text": [
            "Employee 1 is <__main__.Employee object at 0x7fc09cff44d0>\n",
            "Employee 2 is <__main__.Employee object at 0x7fc09e812510>\n"
          ],
          "name": "stdout"
        }
      ]
    },
    {
      "cell_type": "code",
      "metadata": {
        "colab": {
          "base_uri": "https://localhost:8080/"
        },
        "id": "lkcAmy0EwZna",
        "outputId": "dbe3b581-4ad1-45d9-b453-471447cb7d8a"
      },
      "source": [
        "class Employee:\n",
        "    pass\n",
        "    \n",
        "employee1=Employee()\n",
        "employee1.name='Matt'\n",
        "employee1.income=50000\n",
        "\n",
        "print(employee1.name)\n",
        "print(employee1.income)\n",
        "employee2=Employee()\n",
        "employee2.name='Penelope'\n",
        "employee2.income=90000\n",
        "\n",
        "print(employee2.name)\n",
        "print(employee2.income)"
      ],
      "execution_count": 2,
      "outputs": [
        {
          "output_type": "stream",
          "text": [
            "Matt\n",
            "50000\n",
            "Penelope\n",
            "90000\n"
          ],
          "name": "stdout"
        }
      ]
    },
    {
      "cell_type": "code",
      "metadata": {
        "id": "DbuuUx9bwuL1"
      },
      "source": [
        "class Employee:\n",
        "    def earning(self):\n",
        "        if self.income >= 80000:\n",
        "            return 'High Earning'\n",
        "        elif (self.income<8000) & (self.income>50000):\n",
        "            return \"Medium Earning\"\n",
        "        else:\n",
        "            return \"Low Earning\""
      ],
      "execution_count": 3,
      "outputs": []
    },
    {
      "cell_type": "code",
      "metadata": {
        "colab": {
          "base_uri": "https://localhost:8080/"
        },
        "id": "ixyyAZolxFoP",
        "outputId": "d6320e53-55b2-4385-82e6-b540a7f0d369"
      },
      "source": [
        "employee1=Employee()\n",
        "employee1.name='Matt'\n",
        "employee1.income=50000\n",
        "level_earning=employee1.earning()\n",
        "print(level_earning)"
      ],
      "execution_count": 4,
      "outputs": [
        {
          "output_type": "stream",
          "text": [
            "Low Earning\n"
          ],
          "name": "stdout"
        }
      ]
    },
    {
      "cell_type": "code",
      "metadata": {
        "colab": {
          "base_uri": "https://localhost:8080/"
        },
        "id": "UT2sIlt7xHMy",
        "outputId": "8b0c0721-fd41-47f9-abb8-f94bda9271c0"
      },
      "source": [
        "employee1=Employee()\n",
        "employee1.name='Matt'\n",
        "employee1.income=50000\n",
        "evel_earning=employee1.earning()\n",
        "print(level_earning)\n",
        "\n",
        "employee2=Employee()\n",
        "employee2.name='Penelope'\n",
        "employee2.income=90000\n",
        "level_earning=employee2.earning()\n",
        "print(level_earning)"
      ],
      "execution_count": 5,
      "outputs": [
        {
          "output_type": "stream",
          "text": [
            "Low Earning\n",
            "High Earning\n"
          ],
          "name": "stdout"
        }
      ]
    },
    {
      "cell_type": "code",
      "metadata": {
        "colab": {
          "base_uri": "https://localhost:8080/"
        },
        "id": "EzfxnPKTxJ4p",
        "outputId": "74b754d1-4e11-4038-ffff-2ea3ec5794cd"
      },
      "source": [
        "class Employee:\n",
        "    def __init__(self, name, income):\n",
        "        self.name=name\n",
        "        self.income=income\n",
        "        \n",
        "    def earning(self):\n",
        "        if self.income >= 80000:\n",
        "            return 'High Earning'\n",
        "        elif (self.income<8000) & (self.income>50000):\n",
        "            return \"Medium Earning\"\n",
        "        else:\n",
        "            return \"Low Earning\"\n",
        "            \n",
        "employee1=Employee('Matt',50000)\n",
        "print(employee1.name)\n",
        "print(employee1.income)"
      ],
      "execution_count": 6,
      "outputs": [
        {
          "output_type": "stream",
          "text": [
            "Matt\n",
            "50000\n"
          ],
          "name": "stdout"
        }
      ]
    },
    {
      "cell_type": "code",
      "metadata": {
        "colab": {
          "base_uri": "https://localhost:8080/"
        },
        "id": "acI3564ExMoh",
        "outputId": "7544561e-94dc-46fe-a1fa-cd7a3e3a8c63"
      },
      "source": [
        "class Employee:\n",
        "    def __init__(self, name, income):\n",
        "        self.name=name\n",
        "        self.income=income\n",
        "        \n",
        "    def earning(self):\n",
        "        if self.income >= 80000:\n",
        "            return 'High Earning'\n",
        "        elif (self.income<8000) & (self.income>50000):\n",
        "            return \"Medium Earning\"\n",
        "        else:\n",
        "            return \"Low Earning\"\n",
        "            \n",
        "employee1=Employee('Matt',50000)\n",
        "print(employee1.name)\n",
        "print(employee1.income)\n",
        "\n",
        "employee2=Employee('Penelope',90000)\n",
        "print(employee2.name)\n",
        "print(employee2.income)"
      ],
      "execution_count": 7,
      "outputs": [
        {
          "output_type": "stream",
          "text": [
            "Matt\n",
            "50000\n",
            "Penelope\n",
            "90000\n"
          ],
          "name": "stdout"
        }
      ]
    },
    {
      "cell_type": "code",
      "metadata": {
        "colab": {
          "base_uri": "https://localhost:8080/"
        },
        "id": "OrsdOpC8xP2v",
        "outputId": "e12b7b20-4a11-4047-98eb-b239f63748f2"
      },
      "source": [
        "class Employee:\n",
        "    def __init__(self, name, income):\n",
        "        self.name=name\n",
        "        self.income=income\n",
        "        \n",
        "    def earning(self):\n",
        "        if self.income >= 80000:\n",
        "            return 'High Earning'\n",
        "        elif (self.income<8000) & (self.income>50000):\n",
        "            return \"Medium Earning\"\n",
        "        else:\n",
        "            return \"Low Earning\"\n",
        "\n",
        "employee1=Employee('Matt',50000)\n",
        "level_earning=employee1.earning()\n",
        "print(employee1.name, \"=\", level_earning)\n",
        "\n",
        "employee2=Employee('Penelope',90000)\n",
        "level_earning=employee2.earning()\n",
        "print(employee2.name, \"=\", level_earning)"
      ],
      "execution_count": 8,
      "outputs": [
        {
          "output_type": "stream",
          "text": [
            "Matt = Low Earning\n",
            "Penelope = High Earning\n"
          ],
          "name": "stdout"
        }
      ]
    }
  ]
}