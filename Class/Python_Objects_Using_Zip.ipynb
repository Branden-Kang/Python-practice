{
  "nbformat": 4,
  "nbformat_minor": 0,
  "metadata": {
    "colab": {
      "name": "Python Objects Using Zip.ipynb",
      "provenance": [],
      "authorship_tag": "ABX9TyPVudBGzWqLNc+4a2l2CnqE"
    },
    "kernelspec": {
      "name": "python3",
      "display_name": "Python 3"
    },
    "language_info": {
      "name": "python"
    }
  },
  "cells": [
    {
      "cell_type": "markdown",
      "metadata": {
        "id": "BCR1ltgmKW4l"
      },
      "source": [
        "[Reference](https://towardsdatascience.com/fasten-python-objects-using-zip-88a1e7a68c7)"
      ]
    },
    {
      "cell_type": "code",
      "metadata": {
        "id": "kt0VSvKyKTTo"
      },
      "source": [
        "keys = ['name', 'age', 'message']\n",
        "values = ['Chris', 33, 'Thank you for reading my articles!']"
      ],
      "execution_count": 1,
      "outputs": []
    },
    {
      "cell_type": "code",
      "metadata": {
        "colab": {
          "base_uri": "https://localhost:8080/"
        },
        "id": "SvSvtHOGKcfs",
        "outputId": "cfc09893-f252-4f27-86ec-e67c9d99244d"
      },
      "source": [
        "for item in zip(keys, values):\n",
        "    print(item)"
      ],
      "execution_count": 2,
      "outputs": [
        {
          "output_type": "stream",
          "text": [
            "('name', 'Chris')\n",
            "('age', 33)\n",
            "('message', 'Thank you for reading my articles!')\n"
          ],
          "name": "stdout"
        }
      ]
    },
    {
      "cell_type": "code",
      "metadata": {
        "colab": {
          "base_uri": "https://localhost:8080/"
        },
        "id": "8ApJdybyKdeN",
        "outputId": "511a2742-7edc-4825-a4a3-ffeb6bfa1517"
      },
      "source": [
        "list(zip(keys, values))"
      ],
      "execution_count": 3,
      "outputs": [
        {
          "output_type": "execute_result",
          "data": {
            "text/plain": [
              "[('name', 'Chris'),\n",
              " ('age', 33),\n",
              " ('message', 'Thank you for reading my articles!')]"
            ]
          },
          "metadata": {
            "tags": []
          },
          "execution_count": 3
        }
      ]
    },
    {
      "cell_type": "code",
      "metadata": {
        "colab": {
          "base_uri": "https://localhost:8080/"
        },
        "id": "cTQMFt1vKfH6",
        "outputId": "46a6ecc3-77d6-4246-839a-444209fd01fe"
      },
      "source": [
        "dict(zip(keys, values))"
      ],
      "execution_count": 4,
      "outputs": [
        {
          "output_type": "execute_result",
          "data": {
            "text/plain": [
              "{'age': 33, 'message': 'Thank you for reading my articles!', 'name': 'Chris'}"
            ]
          },
          "metadata": {
            "tags": []
          },
          "execution_count": 4
        }
      ]
    },
    {
      "cell_type": "code",
      "metadata": {
        "colab": {
          "base_uri": "https://localhost:8080/"
        },
        "id": "rd2jbue3KiCv",
        "outputId": "9345f9e3-a79c-4969-c2e5-921c3bb59f24"
      },
      "source": [
        "for key, value in zip(keys, values):\n",
        "    print(f'{key}: {value}')"
      ],
      "execution_count": 5,
      "outputs": [
        {
          "output_type": "stream",
          "text": [
            "name: Chris\n",
            "age: 33\n",
            "message: Thank you for reading my articles!\n"
          ],
          "name": "stdout"
        }
      ]
    },
    {
      "cell_type": "code",
      "metadata": {
        "colab": {
          "base_uri": "https://localhost:8080/"
        },
        "id": "j1EVUFQlKj8g",
        "outputId": "89195838-a87e-4ae0-898b-ca0fd11fdbe3"
      },
      "source": [
        "rows = [1, 2, 3]\n",
        "my_dict = dict(zip(keys, values))\n",
        "\n",
        "print(my_dict)"
      ],
      "execution_count": 7,
      "outputs": [
        {
          "output_type": "stream",
          "text": [
            "{'name': 'Chris', 'age': 33, 'message': 'Thank you for reading my articles!'}\n"
          ],
          "name": "stdout"
        }
      ]
    },
    {
      "cell_type": "code",
      "metadata": {
        "colab": {
          "base_uri": "https://localhost:8080/"
        },
        "id": "jMZXQRxAKlLk",
        "outputId": "6486b128-a340-4b5d-deb7-460c65007437"
      },
      "source": [
        "for item in zip(rows, my_dict):\n",
        "    print(item)"
      ],
      "execution_count": 8,
      "outputs": [
        {
          "output_type": "stream",
          "text": [
            "(1, 'name')\n",
            "(2, 'age')\n",
            "(3, 'message')\n"
          ],
          "name": "stdout"
        }
      ]
    },
    {
      "cell_type": "code",
      "metadata": {
        "colab": {
          "base_uri": "https://localhost:8080/"
        },
        "id": "GAQZMYoYKnf9",
        "outputId": "e1b08911-41f8-4f74-c0a8-49d3eaee7503"
      },
      "source": [
        "for item in zip(rows, my_dict.keys(), my_dict.values()):\n",
        "    print(item)"
      ],
      "execution_count": 9,
      "outputs": [
        {
          "output_type": "stream",
          "text": [
            "(1, 'name', 'Chris')\n",
            "(2, 'age', 33)\n",
            "(3, 'message', 'Thank you for reading my articles!')\n"
          ],
          "name": "stdout"
        }
      ]
    },
    {
      "cell_type": "markdown",
      "metadata": {
        "id": "6KKrb2RMKrY6"
      },
      "source": [
        "# Zip with Unpacking"
      ]
    },
    {
      "cell_type": "code",
      "metadata": {
        "id": "pA38TbWiKpyJ"
      },
      "source": [
        "matrix = [\n",
        "    [1,2,3],\n",
        "    [1,2,3],\n",
        "    [1,2,3]\n",
        "]"
      ],
      "execution_count": 10,
      "outputs": []
    },
    {
      "cell_type": "code",
      "metadata": {
        "colab": {
          "base_uri": "https://localhost:8080/"
        },
        "id": "T7jQ6caeKs9J",
        "outputId": "3b1e969c-86b8-44b1-b11c-a6d065a4b3f0"
      },
      "source": [
        "for item in zip(*matrix):\n",
        "    print(item)"
      ],
      "execution_count": 11,
      "outputs": [
        {
          "output_type": "stream",
          "text": [
            "(1, 1, 1)\n",
            "(2, 2, 2)\n",
            "(3, 3, 3)\n"
          ],
          "name": "stdout"
        }
      ]
    },
    {
      "cell_type": "code",
      "metadata": {
        "colab": {
          "base_uri": "https://localhost:8080/"
        },
        "id": "1lJXRsDnKuKM",
        "outputId": "39e8ab60-cad5-4453-b15a-6eb1c7e1192e"
      },
      "source": [
        "for item in zip(matrix[0], matrix[1], matrix[2]):\n",
        "    print(item)"
      ],
      "execution_count": 12,
      "outputs": [
        {
          "output_type": "stream",
          "text": [
            "(1, 1, 1)\n",
            "(2, 2, 2)\n",
            "(3, 3, 3)\n"
          ],
          "name": "stdout"
        }
      ]
    },
    {
      "cell_type": "code",
      "metadata": {
        "colab": {
          "base_uri": "https://localhost:8080/"
        },
        "id": "BzbS8rJQKvXb",
        "outputId": "c40b1494-8805-4ebf-c6db-f22903612922"
      },
      "source": [
        "keys = ['name', 'age', 'message']\n",
        "values = ['Chris', 33]\n",
        "\n",
        "for key, value in zip(keys, values):\n",
        "    print(f'{key}: {value}')"
      ],
      "execution_count": 14,
      "outputs": [
        {
          "output_type": "stream",
          "text": [
            "name: Chris\n",
            "age: 33\n"
          ],
          "name": "stdout"
        }
      ]
    },
    {
      "cell_type": "code",
      "metadata": {
        "colab": {
          "base_uri": "https://localhost:8080/"
        },
        "id": "_eQSXiprKwyS",
        "outputId": "f3f59824-ce6d-4180-ed71-66b7f6c1a914"
      },
      "source": [
        "from itertools import zip_longest\n",
        "\n",
        "for key, value in zip_longest(keys, values):\n",
        "    print(f'{key}: {value}')"
      ],
      "execution_count": 15,
      "outputs": [
        {
          "output_type": "stream",
          "text": [
            "name: Chris\n",
            "age: 33\n",
            "message: None\n"
          ],
          "name": "stdout"
        }
      ]
    },
    {
      "cell_type": "code",
      "metadata": {
        "id": "jgX7HKXRKzc6"
      },
      "source": [
        "# list(zip(range(3), ['fee', 'fi', 'fo', 'fum'], strict=True))"
      ],
      "execution_count": 17,
      "outputs": []
    }
  ]
}