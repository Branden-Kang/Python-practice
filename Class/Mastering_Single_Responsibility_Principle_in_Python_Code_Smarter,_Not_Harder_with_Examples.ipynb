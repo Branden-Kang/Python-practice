{
  "nbformat": 4,
  "nbformat_minor": 0,
  "metadata": {
    "colab": {
      "provenance": [],
      "authorship_tag": "ABX9TyMRkhXjXn2bqyCtd77l+4Nk"
    },
    "kernelspec": {
      "name": "python3",
      "display_name": "Python 3"
    },
    "language_info": {
      "name": "python"
    }
  },
  "cells": [
    {
      "cell_type": "markdown",
      "source": [
        "[Reference](https://medium.com/@Sabrina-Carpenter/mastering-single-responsibility-principle-in-python-code-smarter-not-harder-with-examples-3207745b4d08)"
      ],
      "metadata": {
        "id": "dkcVlV5vQQKC"
      }
    },
    {
      "cell_type": "code",
      "execution_count": 1,
      "metadata": {
        "colab": {
          "base_uri": "https://localhost:8080/"
        },
        "id": "Upe-9D2pPvHj",
        "outputId": "222463bb-d141-4648-a773-380e619db354"
      },
      "outputs": [
        {
          "output_type": "stream",
          "name": "stdout",
          "text": [
            "Save the Car(make=Toyota, model=Camry, year=2022) to the database\n",
            "Calculated mileage is 50.0\n"
          ]
        }
      ],
      "source": [
        "class Car:\n",
        "    def __init__(self, make, model, year):\n",
        "        self.make = make\n",
        "        self.model = model\n",
        "        self.year = year\n",
        "\n",
        "    def __repr__(self):\n",
        "        return f'Car(make={self.make}, model={self.model}, year={self.year})'\n",
        "\n",
        "    def save_to_database(self):\n",
        "        print(f'Save the {self} to the database')\n",
        "\n",
        "    def calculate_mileage(self, distance, fuel_consumption):\n",
        "        mileage = distance / fuel_consumption\n",
        "        print(f'Calculated mileage is {mileage}')\n",
        "\n",
        "if __name__ == '__main__':\n",
        "    c = Car('Toyota', 'Camry', 2022)\n",
        "    c.save_to_database()\n",
        "    c.calculate_mileage(500, 10)"
      ]
    },
    {
      "cell_type": "markdown",
      "source": [
        "# Implementing Single Responsibility Principle"
      ],
      "metadata": {
        "id": "0DpNNKRvQTwY"
      }
    },
    {
      "cell_type": "code",
      "source": [
        "class Car:\n",
        "    def __init__(self, make, model, year):\n",
        "        self.make = make\n",
        "        self.model = model\n",
        "        self.year = year\n",
        "def __repr__(self):\n",
        "        return f'Car(make={self.make}, model={self.model}, year={self.year})'\n",
        "\n",
        "class CarDatabase:\n",
        "    def save(self, car):\n",
        "        print(f'Save the {car} to the database')\n",
        "class CarCalculator:\n",
        "    def calculate_mileage(self, distance, fuel_consumption):\n",
        "        mileage = distance / fuel_consumption\n",
        "        print(f'Calculated mileage is {mileage}')\n",
        "\n",
        "if __name__ == '__main__':\n",
        "    c = Car('Toyota', 'Camry', 2022)\n",
        "    db = CarDatabase()\n",
        "    db.save(c)\n",
        "    calculator = CarCalculator()\n",
        "    calculator.calculate_mileage(500, 10)"
      ],
      "metadata": {
        "colab": {
          "base_uri": "https://localhost:8080/"
        },
        "id": "hdFPuqMIQSjZ",
        "outputId": "93b99483-8baa-47b3-e667-551d3c7fe37f"
      },
      "execution_count": 2,
      "outputs": [
        {
          "output_type": "stream",
          "name": "stdout",
          "text": [
            "Save the <__main__.Car object at 0x7f14361318b0> to the database\n",
            "Calculated mileage is 50.0\n"
          ]
        }
      ]
    },
    {
      "cell_type": "code",
      "source": [
        "class CarDatabase:\n",
        "    def save(self, car):\n",
        "        print(f'Save the {car} to the database')\n",
        "\n",
        "class CarCalculator:\n",
        "    def calculate_mileage(self, car):\n",
        "        print(f'Calculated mileage for {car}')\n",
        "\n",
        "class Car:\n",
        "    def __init__(self, make, model, year, fuel):\n",
        "        self.make = make\n",
        "        self.model = model\n",
        "        self.year = year\n",
        "        self.fuel = fuel\n",
        "        self.db = CarDatabase()\n",
        "        self.calculator = CarCalculator()\n",
        "    def __repr__(self):\n",
        "        return f'Car(make={self.make}, model={self.model}, year={self.year}, fuel={self.fuel})'\n",
        "    def save(self):\n",
        "        self.db.save(car=self)\n",
        "    def calculate_mileage(self):\n",
        "        self.calculator.calculate_mileage(car=self)\n",
        "\n",
        "if __name__ == '__main__':\n",
        "    car = Car('Honda', 'Civic', 2021, 'gasoline')\n",
        "    car.save()\n",
        "    car.calculate_mileage()"
      ],
      "metadata": {
        "colab": {
          "base_uri": "https://localhost:8080/"
        },
        "id": "IDs64T0mQVGV",
        "outputId": "49d7b1cb-6df3-4c4f-deca-8127f8e7b4cb"
      },
      "execution_count": 3,
      "outputs": [
        {
          "output_type": "stream",
          "name": "stdout",
          "text": [
            "Save the Car(make=Honda, model=Civic, year=2021, fuel=gasoline) to the database\n",
            "Calculated mileage for Car(make=Honda, model=Civic, year=2021, fuel=gasoline)\n"
          ]
        }
      ]
    }
  ]
}
