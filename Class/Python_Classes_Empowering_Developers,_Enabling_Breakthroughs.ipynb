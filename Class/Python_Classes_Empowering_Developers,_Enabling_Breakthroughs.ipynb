{
  "nbformat": 4,
  "nbformat_minor": 0,
  "metadata": {
    "colab": {
      "provenance": [],
      "authorship_tag": "ABX9TyPLAzUr6luZjTDJ+ouhs+9P"
    },
    "kernelspec": {
      "name": "python3",
      "display_name": "Python 3"
    },
    "language_info": {
      "name": "python"
    }
  },
  "cells": [
    {
      "cell_type": "markdown",
      "source": [
        "[Reference](https://pythonflood.com/python-classes-empowering-developers-enabling-breakthroughs-8b563a306dcc)"
      ],
      "metadata": {
        "id": "AJHeNrWM45qP"
      }
    },
    {
      "cell_type": "markdown",
      "source": [
        "# 1. Introduction to Python Classes:"
      ],
      "metadata": {
        "id": "fMIoGhyu479w"
      }
    },
    {
      "cell_type": "code",
      "execution_count": 1,
      "metadata": {
        "colab": {
          "base_uri": "https://localhost:8080/"
        },
        "id": "8aIP6AWN4g0Q",
        "outputId": "7e597cd5-945a-4e66-f59f-483e3a7f9c53"
      },
      "outputs": [
        {
          "output_type": "stream",
          "name": "stdout",
          "text": [
            "<__main__.MyClass object at 0x798a4ed1ef80>\n"
          ]
        }
      ],
      "source": [
        "class MyClass:\n",
        "    pass\n",
        "\n",
        "obj = MyClass()\n",
        "print(obj)"
      ]
    },
    {
      "cell_type": "markdown",
      "source": [
        "# 2. Defining and Creating Classes:"
      ],
      "metadata": {
        "id": "SOrWs9rt4-gU"
      }
    },
    {
      "cell_type": "code",
      "source": [
        "class Person:\n",
        "    def __init__(self, name):\n",
        "        self.name = name\n",
        "\n",
        "    def greet(self):\n",
        "        print(f\"Hello, my name is {self.name}.\")\n",
        "\n",
        "person = Person(\"Alice\")\n",
        "person.greet()"
      ],
      "metadata": {
        "colab": {
          "base_uri": "https://localhost:8080/"
        },
        "id": "u__3gwtQ49Za",
        "outputId": "58e95f2b-8de2-4351-e965-b9e20a42bd6b"
      },
      "execution_count": 2,
      "outputs": [
        {
          "output_type": "stream",
          "name": "stdout",
          "text": [
            "Hello, my name is Alice.\n"
          ]
        }
      ]
    },
    {
      "cell_type": "markdown",
      "source": [
        "# 3. Class Attributes and Methods:"
      ],
      "metadata": {
        "id": "BJSxNuxD5BEZ"
      }
    },
    {
      "cell_type": "code",
      "source": [
        "class Circle:\n",
        "    pi = 3.14159\n",
        "\n",
        "    def __init__(self, radius):\n",
        "        self.radius = radius\n",
        "\n",
        "    def calculate_area(self):\n",
        "        return self.pi * self.radius ** 2\n",
        "\n",
        "    @classmethod\n",
        "    def modify_pi(cls, new_pi):\n",
        "        cls.pi = new_pi\n",
        "\n",
        "circle1 = Circle(5)\n",
        "print(circle1.calculate_area())\n",
        "\n",
        "Circle.modify_pi(3.14)\n",
        "circle2 = Circle(7)\n",
        "print(circle2.calculate_area())"
      ],
      "metadata": {
        "colab": {
          "base_uri": "https://localhost:8080/"
        },
        "id": "aigLfiAS4_4p",
        "outputId": "09653ad4-1a80-4ff7-d2c1-118c1357bfb3"
      },
      "execution_count": 3,
      "outputs": [
        {
          "output_type": "stream",
          "name": "stdout",
          "text": [
            "78.53975\n",
            "153.86\n"
          ]
        }
      ]
    },
    {
      "cell_type": "markdown",
      "source": [
        "# 4. Constructors and Destructors:"
      ],
      "metadata": {
        "id": "dcfMz5iF5Dry"
      }
    },
    {
      "cell_type": "code",
      "source": [
        "class MyClass:\n",
        "    def __init__(self):\n",
        "        print(\"Constructor called.\")\n",
        "\n",
        "    def __del__(self):\n",
        "        print(\"Destructor called.\")\n",
        "\n",
        "obj1 = MyClass()\n",
        "obj2 = MyClass()\n",
        "\n",
        "del obj1"
      ],
      "metadata": {
        "colab": {
          "base_uri": "https://localhost:8080/"
        },
        "id": "lel-48H55CZv",
        "outputId": "c8f01696-9f6f-478d-ce40-396d9442a762"
      },
      "execution_count": 4,
      "outputs": [
        {
          "output_type": "stream",
          "name": "stdout",
          "text": [
            "Constructor called.\n",
            "Constructor called.\n",
            "Destructor called.\n"
          ]
        }
      ]
    },
    {
      "cell_type": "markdown",
      "source": [
        "# 5. Inheritance and Polymorphism:"
      ],
      "metadata": {
        "id": "6fVeMFwQ5ICl"
      }
    },
    {
      "cell_type": "code",
      "source": [
        "class Animal:\n",
        "    def sound(self):\n",
        "        pass\n",
        "\n",
        "class Dog(\n",
        "\n",
        "Animal):\n",
        "    def sound(self):\n",
        "        print(\"Woof!\")\n",
        "\n",
        "class Cat(Animal):\n",
        "    def sound(self):\n",
        "        print(\"Meow!\")\n",
        "\n",
        "def make_sound(animal):\n",
        "    animal.sound()\n",
        "\n",
        "dog = Dog()\n",
        "cat = Cat()\n",
        "\n",
        "make_sound(dog)\n",
        "make_sound(cat)"
      ],
      "metadata": {
        "colab": {
          "base_uri": "https://localhost:8080/"
        },
        "id": "OlTQRQXn5FmL",
        "outputId": "83d4be1b-c2eb-462b-b6f8-0a2bfaf7b690"
      },
      "execution_count": 5,
      "outputs": [
        {
          "output_type": "stream",
          "name": "stdout",
          "text": [
            "Woof!\n",
            "Meow!\n"
          ]
        }
      ]
    },
    {
      "cell_type": "markdown",
      "source": [
        "# 6. Encapsulation and Access Modifiers:"
      ],
      "metadata": {
        "id": "fk88rJd95Kcs"
      }
    },
    {
      "cell_type": "code",
      "source": [
        "class Car:\n",
        "    def __init__(self):\n",
        "        self.__speed = 0\n",
        "\n",
        "    def accelerate(self, increment):\n",
        "        self.__speed += increment\n",
        "\n",
        "    def get_speed(self):\n",
        "        return self.__speed\n",
        "\n",
        "car = Car()\n",
        "car.accelerate(20)\n",
        "print(car.get_speed())"
      ],
      "metadata": {
        "colab": {
          "base_uri": "https://localhost:8080/"
        },
        "id": "yeQyt9aW5JfU",
        "outputId": "25e71df7-acfb-4471-8dff-c67c3f086a86"
      },
      "execution_count": 6,
      "outputs": [
        {
          "output_type": "stream",
          "name": "stdout",
          "text": [
            "20\n"
          ]
        }
      ]
    },
    {
      "cell_type": "markdown",
      "source": [
        "# 7. Class Variables vs. Instance Variables:"
      ],
      "metadata": {
        "id": "hrjTWRti5UbT"
      }
    },
    {
      "cell_type": "code",
      "source": [
        "class Counter:\n",
        "    count = 0\n",
        "\n",
        "    def __init__(self):\n",
        "        Counter.count += 1\n",
        "\n",
        "    def get_count(self):\n",
        "        return Counter.count\n",
        "\n",
        "c1 = Counter()\n",
        "c2 = Counter()\n",
        "\n",
        "print(c1.get_count())\n",
        "print(c2.get_count())"
      ],
      "metadata": {
        "colab": {
          "base_uri": "https://localhost:8080/"
        },
        "id": "Vbbjgxxw5Tam",
        "outputId": "3688807f-0e8b-4ee4-ab46-3ddb092d9bc9"
      },
      "execution_count": 7,
      "outputs": [
        {
          "output_type": "stream",
          "name": "stdout",
          "text": [
            "2\n",
            "2\n"
          ]
        }
      ]
    },
    {
      "cell_type": "markdown",
      "source": [
        "# 8. Method Overriding and Overloading:"
      ],
      "metadata": {
        "id": "VA5Nv14J5X08"
      }
    },
    {
      "cell_type": "code",
      "source": [
        "class Parent:\n",
        "    def display(self):\n",
        "        print(\"Parent's display method.\")\n",
        "\n",
        "class Child(Parent):\n",
        "    def display(self):\n",
        "        print(\"Child's display method.\")\n",
        "\n",
        "parent = Parent()\n",
        "child = Child()\n",
        "\n",
        "parent.display()\n",
        "child.display()"
      ],
      "metadata": {
        "colab": {
          "base_uri": "https://localhost:8080/"
        },
        "id": "zw87BAHg5Wlh",
        "outputId": "ccc464a9-2730-4e37-8c84-831f31303c92"
      },
      "execution_count": 8,
      "outputs": [
        {
          "output_type": "stream",
          "name": "stdout",
          "text": [
            "Parent's display method.\n",
            "Child's display method.\n"
          ]
        }
      ]
    },
    {
      "cell_type": "markdown",
      "source": [
        "# 9. Abstract Classes and Interfaces:"
      ],
      "metadata": {
        "id": "6SxCCIok6Hmy"
      }
    },
    {
      "cell_type": "code",
      "source": [
        "from abc import ABC, abstractmethod\n",
        "\n",
        "class Shape(ABC):\n",
        "    @abstractmethod\n",
        "    def area(self):\n",
        "        pass\n",
        "\n",
        "class Rectangle(Shape):\n",
        "    def __init__(self, length, width):\n",
        "        self.length = length\n",
        "        self.width = width\n",
        "\n",
        "    def area(self):\n",
        "        return self.length * self.width\n",
        "\n",
        "rect = Rectangle(5, 3)\n",
        "print(rect.area())"
      ],
      "metadata": {
        "colab": {
          "base_uri": "https://localhost:8080/"
        },
        "id": "6pwwfBQ45ZG4",
        "outputId": "d5460196-255e-4bc9-f08b-205dbc0d4aeb"
      },
      "execution_count": 9,
      "outputs": [
        {
          "output_type": "stream",
          "name": "stdout",
          "text": [
            "15\n"
          ]
        }
      ]
    },
    {
      "cell_type": "markdown",
      "source": [
        "# 10. Special Methods and Magic Methods:"
      ],
      "metadata": {
        "id": "o_j0y7SE6LB6"
      }
    },
    {
      "cell_type": "code",
      "source": [
        "class Point:\n",
        "    def __init__(self, x, y):\n",
        "        self.x = x\n",
        "        self.y = y\n",
        "\n",
        "    def __str__(self):\n",
        "        return f\"({self.x}, {self.y})\"\n",
        "\n",
        "    def __add__(self, other):\n",
        "        return Point(self.x + other.x, self.y + other.y)\n",
        "\n",
        "point1 = Point(2, 3)\n",
        "point2 = Point(4, 1)\n",
        "\n",
        "print(point1 + point2)"
      ],
      "metadata": {
        "colab": {
          "base_uri": "https://localhost:8080/"
        },
        "id": "zZlS63Ht6J6x",
        "outputId": "cca42ef8-0595-42ca-f32b-be5aec2893e1"
      },
      "execution_count": 10,
      "outputs": [
        {
          "output_type": "stream",
          "name": "stdout",
          "text": [
            "(6, 4)\n"
          ]
        }
      ]
    },
    {
      "cell_type": "markdown",
      "source": [
        "# 11. Class Inheritance and Method Overriding:"
      ],
      "metadata": {
        "id": "Q0GWfPRC6Np7"
      }
    },
    {
      "cell_type": "code",
      "source": [
        "class Car:\n",
        "    def __init__(self):\n",
        "        self._speed = 0  # Protected attribute\n",
        "\n",
        "    def accelerate(self, increment):\n",
        "        self._speed += increment\n",
        "\n",
        "    def get_speed(self):\n",
        "        return self._speed\n",
        "\n",
        "car = Car()\n",
        "car.accelerate(20)\n",
        "print(car.get_speed())"
      ],
      "metadata": {
        "colab": {
          "base_uri": "https://localhost:8080/"
        },
        "id": "PgtQAfYM6Mqe",
        "outputId": "ecfc423c-8d11-47ed-ec1a-f55c07c5bf56"
      },
      "execution_count": 11,
      "outputs": [
        {
          "output_type": "stream",
          "name": "stdout",
          "text": [
            "20\n"
          ]
        }
      ]
    },
    {
      "cell_type": "markdown",
      "source": [
        "# 12. Class Variables vs. Instance Variables:"
      ],
      "metadata": {
        "id": "d9V5gVRR6SNi"
      }
    },
    {
      "cell_type": "code",
      "source": [
        "class Counter:\n",
        "    count = 0  # Class variable\n",
        "\n",
        "    def __init__(self):\n",
        "        Counter.count += 1\n",
        "\n",
        "    def get_count(self):\n",
        "        return Counter.count\n",
        "\n",
        "c1 = Counter()\n",
        "c2 = Counter()\n",
        "\n",
        "print(c1.get_count())\n",
        "print(c2.get_count())"
      ],
      "metadata": {
        "colab": {
          "base_uri": "https://localhost:8080/"
        },
        "id": "rV5edtVZ6P_x",
        "outputId": "ee15fe4a-a48f-45fe-bc47-4e943cc419d1"
      },
      "execution_count": 12,
      "outputs": [
        {
          "output_type": "stream",
          "name": "stdout",
          "text": [
            "2\n",
            "2\n"
          ]
        }
      ]
    },
    {
      "cell_type": "markdown",
      "source": [
        "# 13. Parameters"
      ],
      "metadata": {
        "id": "S3hgxmSy6V-5"
      }
    },
    {
      "cell_type": "code",
      "source": [
        "class Person:\n",
        "    def __init__(self, name, age):\n",
        "        self.name = name\n",
        "        self.age = age\n",
        "\n",
        "person1 = Person(\"Alice\", 25)\n",
        "person2 = Person(\"Bob\", 30)\n",
        "\n",
        "print(person1.name, person1.age)\n",
        "print(person2.name, person2.age)"
      ],
      "metadata": {
        "colab": {
          "base_uri": "https://localhost:8080/"
        },
        "id": "PWzZVZSm6U3j",
        "outputId": "c5a0d198-99d5-4f9a-d07f-cbe1656c01a8"
      },
      "execution_count": 13,
      "outputs": [
        {
          "output_type": "stream",
          "name": "stdout",
          "text": [
            "Alice 25\n",
            "Bob 30\n"
          ]
        }
      ]
    }
  ]
}
