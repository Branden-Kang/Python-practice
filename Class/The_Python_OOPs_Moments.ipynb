{
  "nbformat": 4,
  "nbformat_minor": 0,
  "metadata": {
    "colab": {
      "provenance": [],
      "authorship_tag": "ABX9TyOJDo5iWTIDfxbYySOSfJ0n"
    },
    "kernelspec": {
      "name": "python3",
      "display_name": "Python 3"
    },
    "language_info": {
      "name": "python"
    }
  },
  "cells": [
    {
      "cell_type": "markdown",
      "source": [
        "[Reference](https://medium.com/@shahooda637/the-python-oops-moments-part-01-9e16bfd4cc09)"
      ],
      "metadata": {
        "id": "Xy5FchmF5IOp"
      }
    },
    {
      "cell_type": "code",
      "execution_count": 22,
      "metadata": {
        "id": "nCT3meHY5GHe"
      },
      "outputs": [],
      "source": [
        "from abc import ABC, abstractmethod"
      ]
    },
    {
      "cell_type": "code",
      "source": [
        "#defining an abstract class with one abstract method\n",
        "class computer(ABC):\n",
        "  @abstractmethod\n",
        "  def process(self):\n",
        "    pass"
      ],
      "metadata": {
        "id": "sB8XpmEK5MMu"
      },
      "execution_count": 23,
      "outputs": []
    },
    {
      "cell_type": "code",
      "source": [
        "#defining a class inheriting the abstract class\n",
        "class laptop(computer):\n",
        "  def process(self):\n",
        "    print(\"a working portable computer\")\n",
        "\n",
        "#creating an object of child class\n",
        "lap = laptop()\n",
        "\n",
        "#calling the abstract method defined in the class \"laptop\"\n",
        "lap.process()"
      ],
      "metadata": {
        "colab": {
          "base_uri": "https://localhost:8080/"
        },
        "id": "X86kUTuC5NF6",
        "outputId": "92d55bfc-386d-4a05-f911-f49eb6072911"
      },
      "execution_count": 24,
      "outputs": [
        {
          "output_type": "stream",
          "name": "stdout",
          "text": [
            "a working portable computer\n"
          ]
        }
      ]
    },
    {
      "cell_type": "code",
      "source": [
        "# defining the first class, the first parent class\n",
        "class head:\n",
        "  def head(self):\n",
        "    print(\"At the top we have head. \\n\")\n",
        "\n",
        "# inheriting the properties and methods form head into torso\n",
        "class torso(head):\n",
        "  def torso(self):\n",
        "    print(\"Below head is the torso. The hands are attatched to the torso of a human body. \\n\")\n",
        "\n",
        "# inheriting the properties and method from torso to seat while indirectly inheriting from head also\n",
        "class seat(torso):\n",
        "  def seat(self):\n",
        "    print(\"Below the torso is the private section of a human body. The below belt body starts here. \\n\")\n",
        "\n",
        "# inheriting from all head, torso, and seat indirectly and directly (from seat only)\n",
        "class legs(seat):\n",
        "  def legs(self):\n",
        "    print(\"At the end, the human body has legs, which include the foot and toes. \\n\")\n",
        "\n",
        "# inheriting from all head, torso, seat, and legs\n",
        "class human_body(legs):\n",
        "  def body(self):\n",
        "    print(\"This is the complete human body!\")\n",
        "\n",
        "# creating an object of class human_body only\n",
        "Human = human_body()"
      ],
      "metadata": {
        "id": "zRBr5XPt5N-c"
      },
      "execution_count": 25,
      "outputs": []
    },
    {
      "cell_type": "code",
      "source": [
        "# class human_body possess all the methods from all the classes through direct\n",
        "# and indirect inheritance\n",
        "\n",
        "Human.head()\n",
        "Human.torso()\n",
        "Human.seat()\n",
        "Human.legs()\n",
        "Human.body()"
      ],
      "metadata": {
        "colab": {
          "base_uri": "https://localhost:8080/"
        },
        "id": "kYLEYAfw5PxY",
        "outputId": "8af914ef-e60c-476e-96ad-7a21be58b67c"
      },
      "execution_count": 26,
      "outputs": [
        {
          "output_type": "stream",
          "name": "stdout",
          "text": [
            "At the top we have head. \n",
            "\n",
            "Below head is the torso. The hands are attatched to the torso of a human body. \n",
            "\n",
            "Below the torso is the private section of a human body. The below belt body starts here. \n",
            "\n",
            "At the end, the human body has legs, which include the foot and toes. \n",
            "\n",
            "This is the complete human body!\n"
          ]
        }
      ]
    },
    {
      "cell_type": "code",
      "source": [
        "class bank_account:\n",
        "\n",
        "  def __init__(self, name, age, typee, balance, interest):\n",
        "    self.__name = name\n",
        "    self.__age = age\n",
        "    self.__typee = typee\n",
        "    self.__balance = balance\n",
        "    self.__interest = interest\n",
        "\n",
        "  def credit(self, amount):\n",
        "    if amount < 0:\n",
        "      return False\n",
        "    else:\n",
        "      self.__balance = self.__balance + amount\n",
        "      return True\n",
        "\n",
        "  def withdraw(self, amount):\n",
        "    if self.__balance >= amount:\n",
        "      self.__balance = self.__balance - amount\n",
        "      return True\n",
        "    else:\n",
        "      return False\n",
        "\n",
        "  def get_balance(self):\n",
        "    return self.__balance"
      ],
      "metadata": {
        "id": "BPtuGmVc5Q9O"
      },
      "execution_count": 27,
      "outputs": []
    },
    {
      "cell_type": "code",
      "source": [
        "account01 = bank_account(\"Isha Choudhary\", \"24\", \"Savings\", 15000, 3.25)"
      ],
      "metadata": {
        "id": "KvHeVzAF5SkZ"
      },
      "execution_count": 28,
      "outputs": []
    },
    {
      "cell_type": "code",
      "source": [
        "account01.get_balance()"
      ],
      "metadata": {
        "colab": {
          "base_uri": "https://localhost:8080/"
        },
        "id": "Dtm8uQH-5TZJ",
        "outputId": "6f869f4d-76c4-4ae8-8649-f033da0e7fe3"
      },
      "execution_count": 29,
      "outputs": [
        {
          "output_type": "execute_result",
          "data": {
            "text/plain": [
              "15000"
            ]
          },
          "metadata": {},
          "execution_count": 29
        }
      ]
    },
    {
      "cell_type": "code",
      "source": [
        "account01.credit(-4253)"
      ],
      "metadata": {
        "colab": {
          "base_uri": "https://localhost:8080/"
        },
        "id": "izyhGKoa5UTa",
        "outputId": "2061664f-7d84-467b-d6c5-68bbb7c30972"
      },
      "execution_count": 30,
      "outputs": [
        {
          "output_type": "execute_result",
          "data": {
            "text/plain": [
              "False"
            ]
          },
          "metadata": {},
          "execution_count": 30
        }
      ]
    },
    {
      "cell_type": "code",
      "source": [
        "account01.credit(5000)"
      ],
      "metadata": {
        "colab": {
          "base_uri": "https://localhost:8080/"
        },
        "id": "DZ5E04tV5U-w",
        "outputId": "b5f7583b-5e6a-4048-e422-6e00d615dd85"
      },
      "execution_count": 31,
      "outputs": [
        {
          "output_type": "execute_result",
          "data": {
            "text/plain": [
              "True"
            ]
          },
          "metadata": {},
          "execution_count": 31
        }
      ]
    },
    {
      "cell_type": "code",
      "source": [
        "account01.get_balance()"
      ],
      "metadata": {
        "colab": {
          "base_uri": "https://localhost:8080/"
        },
        "id": "o8OXLgyL5VtW",
        "outputId": "59a01eef-43fc-4152-a0cf-a9f1396589f3"
      },
      "execution_count": 32,
      "outputs": [
        {
          "output_type": "execute_result",
          "data": {
            "text/plain": [
              "20000"
            ]
          },
          "metadata": {},
          "execution_count": 32
        }
      ]
    },
    {
      "cell_type": "code",
      "source": [
        "account01.withdraw(200000)"
      ],
      "metadata": {
        "colab": {
          "base_uri": "https://localhost:8080/"
        },
        "id": "knpJM2fj5XMv",
        "outputId": "9897b6a3-a1a3-401c-85d9-31e21ce89177"
      },
      "execution_count": 33,
      "outputs": [
        {
          "output_type": "execute_result",
          "data": {
            "text/plain": [
              "False"
            ]
          },
          "metadata": {},
          "execution_count": 33
        }
      ]
    },
    {
      "cell_type": "code",
      "source": [
        "account01.withdraw(2000)"
      ],
      "metadata": {
        "colab": {
          "base_uri": "https://localhost:8080/"
        },
        "id": "z6PYXZFZ5YNW",
        "outputId": "84d22a31-81f7-4cb2-cc10-fa0861625b0c"
      },
      "execution_count": 34,
      "outputs": [
        {
          "output_type": "execute_result",
          "data": {
            "text/plain": [
              "True"
            ]
          },
          "metadata": {},
          "execution_count": 34
        }
      ]
    },
    {
      "cell_type": "code",
      "source": [
        "account01.get_balance()"
      ],
      "metadata": {
        "colab": {
          "base_uri": "https://localhost:8080/"
        },
        "id": "lMYAGAP-5Y7y",
        "outputId": "462ae230-4646-4574-d8d2-362a00986076"
      },
      "execution_count": 35,
      "outputs": [
        {
          "output_type": "execute_result",
          "data": {
            "text/plain": [
              "18000"
            ]
          },
          "metadata": {},
          "execution_count": 35
        }
      ]
    },
    {
      "cell_type": "code",
      "source": [
        "class healthcare:\n",
        "\n",
        "  def __init__(self, name, age, weight, height, bp, sugar, history, current_disease):\n",
        "    self.__name = name\n",
        "    self.__age = age\n",
        "    self.__weight = weight\n",
        "    self.__height = height\n",
        "    self.__bp = bp\n",
        "    self.__sugar = sugar\n",
        "    self.__history = history\n",
        "    self.__current_disease = current_disease\n",
        "\n",
        "  def intro_details(self):\n",
        "    print(\"Name: \", self.__name)\n",
        "    print(\"Age: \", self.__age)\n",
        "    print(\"Weight: \", self.__weight)\n",
        "    print(\"Height: \", self.__height)\n",
        "    print(\"Blood Pressure: \", self.__bp)\n",
        "    print(\"Sugar Level: \", self.__sugar )\n",
        "\n",
        "    return\n",
        "\n",
        "  def get_history(self):\n",
        "    return self.__history\n",
        "\n",
        "  def get_problem(self):\n",
        "    return self.__current_disease"
      ],
      "metadata": {
        "id": "FUtjWDSR5ZzK"
      },
      "execution_count": 36,
      "outputs": []
    },
    {
      "cell_type": "code",
      "source": [
        "patient01 = healthcare(\"Shina\", \"45\", \"79\", \"168\", \"120/90\", \"80/70\", \"heart patient\", \"Anxiety\")"
      ],
      "metadata": {
        "id": "dYL9CQog5a-I"
      },
      "execution_count": 37,
      "outputs": []
    },
    {
      "cell_type": "code",
      "source": [
        "patient01.intro_details()"
      ],
      "metadata": {
        "colab": {
          "base_uri": "https://localhost:8080/"
        },
        "id": "xdF3gI6y5bz-",
        "outputId": "57b8cd70-a677-475f-98c9-c832862319c9"
      },
      "execution_count": 38,
      "outputs": [
        {
          "output_type": "stream",
          "name": "stdout",
          "text": [
            "Name:  Shina\n",
            "Age:  45\n",
            "Weight:  79\n",
            "Height:  168\n",
            "Blood Pressure:  120/90\n",
            "Sugar Level:  80/70\n"
          ]
        }
      ]
    },
    {
      "cell_type": "code",
      "source": [
        "patient01.get_problem()"
      ],
      "metadata": {
        "colab": {
          "base_uri": "https://localhost:8080/",
          "height": 36
        },
        "id": "Kau3F7M95cvl",
        "outputId": "5ca623aa-89a2-469b-fc67-9a3afb69ff46"
      },
      "execution_count": 39,
      "outputs": [
        {
          "output_type": "execute_result",
          "data": {
            "text/plain": [
              "'Anxiety'"
            ],
            "application/vnd.google.colaboratory.intrinsic+json": {
              "type": "string"
            }
          },
          "metadata": {},
          "execution_count": 39
        }
      ]
    },
    {
      "cell_type": "code",
      "source": [
        "patient01.get_history()"
      ],
      "metadata": {
        "colab": {
          "base_uri": "https://localhost:8080/",
          "height": 36
        },
        "id": "jNEd_lVU5d5C",
        "outputId": "06e1645d-e37c-40a1-e645-be6cf464863e"
      },
      "execution_count": 40,
      "outputs": [
        {
          "output_type": "execute_result",
          "data": {
            "text/plain": [
              "'heart patient'"
            ],
            "application/vnd.google.colaboratory.intrinsic+json": {
              "type": "string"
            }
          },
          "metadata": {},
          "execution_count": 40
        }
      ]
    },
    {
      "cell_type": "code",
      "source": [
        "# creating polymmorphism through class and objects\n",
        "\n",
        "# defining class 01\n",
        "class data_science:\n",
        "  def syllabus(self):\n",
        "    print(\"The Data Science Syllabus contains heavy Mathematics\")\n",
        "\n",
        "# defining class 02\n",
        "class web_development:\n",
        "  def syllabus(self):\n",
        "    print(\"The Web Development Syllabus in heavy on programming concepts\")\n",
        "\n",
        "# creating the polymorphism concept as a class parcer\n",
        "def class_parcer(class_obj):\n",
        "  for i in class_obj :\n",
        "    i.syllabus()\n",
        "\n",
        "# creating objects from both the classes\n",
        "data_science = data_science()\n",
        "web_dev = web_development()\n",
        "\n",
        "# one variable for multiple objects\n",
        "class_obj = [data_science, web_dev]\n",
        "\n",
        "# passing the variable through function\n",
        "class_parcer(class_obj)"
      ],
      "metadata": {
        "colab": {
          "base_uri": "https://localhost:8080/"
        },
        "id": "wZK_nPoL5fOd",
        "outputId": "1ee0f439-1173-41bb-98f6-b936fdc739ac"
      },
      "execution_count": 41,
      "outputs": [
        {
          "output_type": "stream",
          "name": "stdout",
          "text": [
            "The Data Science Syllabus contains heavy Mathematics\n",
            "The Web Development Syllabus in heavy on programming concepts\n"
          ]
        }
      ]
    },
    {
      "cell_type": "code",
      "source": [
        "# defining students class\n",
        "class students:\n",
        "\n",
        "  def __init__(self, name, standard):\n",
        "    self.name = name\n",
        "    self.standard = standard\n",
        "\n",
        "  def details(self):\n",
        "    print(\"The student details are as follows: \")\n",
        "    print('Student Name: ', self.name)\n",
        "    print(\"Studying in class: \", self.standard)\n",
        "    print('\\n')\n",
        "    return self.name, self.standard\n",
        "\n",
        "# defining teachers class\n",
        "class teachers:\n",
        "\n",
        "  def __init__(self, name, key_class):\n",
        "    self.name =  name\n",
        "    self.key_class = key_class\n",
        "\n",
        "  def details(self):\n",
        "    print(\"The teacher details are as follows: \")\n",
        "    print('Teacher Name: ', self.name)\n",
        "    print('Teaching Class: ', self.key_class)\n",
        "    return self.name, self.key_class\n",
        "\n",
        "# creating the polymorphism concept\n",
        "def class_parcer(class_obj):\n",
        "  for i in class_obj:\n",
        "    i.details()\n",
        "\n",
        "# creating objects\n",
        "Shaan = students(\"Shaan Singh\", \"10 A\")\n",
        "Rina = teachers(\"Rina Shah\", \"12 B\")\n",
        "\n",
        "#creating common variable for all objects from different classes\n",
        "class_obj = [Shaan, Rina]\n",
        "\n",
        "# the final class parcer to perform the polymorphism\n",
        "class_parcer(class_obj)"
      ],
      "metadata": {
        "colab": {
          "base_uri": "https://localhost:8080/"
        },
        "id": "NLo3vjB45j11",
        "outputId": "5fadaaef-06fb-4d14-fb9f-1c54e58c0e90"
      },
      "execution_count": 42,
      "outputs": [
        {
          "output_type": "stream",
          "name": "stdout",
          "text": [
            "The student details are as follows: \n",
            "Student Name:  Shaan Singh\n",
            "Studying in class:  10 A\n",
            "\n",
            "\n",
            "The teacher details are as follows: \n",
            "Teacher Name:  Rina Shah\n",
            "Teaching Class:  12 B\n"
          ]
        }
      ]
    }
  ]
}
