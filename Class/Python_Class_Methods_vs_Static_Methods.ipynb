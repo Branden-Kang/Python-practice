{
  "nbformat": 4,
  "nbformat_minor": 0,
  "metadata": {
    "colab": {
      "name": "Python: Class Methods vs Static Methods.ipynb",
      "provenance": [],
      "authorship_tag": "ABX9TyMi09ywEX2pmhmXIAcywvfY"
    },
    "kernelspec": {
      "name": "python3",
      "display_name": "Python 3"
    },
    "language_info": {
      "name": "python"
    }
  },
  "cells": [
    {
      "cell_type": "markdown",
      "metadata": {
        "id": "EFtaREpeFc0X"
      },
      "source": [
        "[Reference](https://michaelwirtz88.medium.com/python-class-methods-vs-static-methods-2984b82caa6b)"
      ]
    },
    {
      "cell_type": "markdown",
      "metadata": {
        "id": "cMpFeNyOFfnd"
      },
      "source": [
        "# Class Methods"
      ]
    },
    {
      "cell_type": "code",
      "metadata": {
        "colab": {
          "base_uri": "https://localhost:8080/"
        },
        "id": "ntXVlsUEFbpa",
        "outputId": "6fbdd560-3780-4736-f8e7-80faf6c9f851"
      },
      "source": [
        "class Player:\n",
        "    \n",
        "    performance_incentive = 0.15\n",
        "    \n",
        "    def __init__(self, first, last, team, pay):\n",
        "        self.first = first\n",
        "        self.last = last\n",
        "        self.team = team\n",
        "        self.pay = pay\n",
        "        \n",
        "    def apply_raise(self):\n",
        "        self.pay = int(self.pay * self.performance_incentive)    \n",
        "        \n",
        "    @classmethod\n",
        "    def set_performance_incentive(cls, incentive):\n",
        "        cls.performance_incentive = incentive\n",
        "        \n",
        "player_1 = Player('Tom','Brady', 'Buccaneers', 25000000)\n",
        "player_2 = Player('Aaron','Rodgers', 'Packers', 20000000)\n",
        "\n",
        "# Can call this method either of the following 2 ways, but using class is most likely the most readable option\n",
        "\n",
        "Player.set_performance_incentive(0.3) or player_1.set_performance_incentive(0.3)\n",
        "\n",
        "print(Player.performance_incentive)\n",
        "print(player_1.performance_incentive)\n",
        "print(player_2.performance_incentive)"
      ],
      "execution_count": 1,
      "outputs": [
        {
          "output_type": "stream",
          "name": "stdout",
          "text": [
            "0.3\n",
            "0.3\n",
            "0.3\n"
          ]
        }
      ]
    },
    {
      "cell_type": "code",
      "metadata": {
        "id": "omk9K-gmFrkC"
      },
      "source": [
        "class Player:\n",
        "    \n",
        "    def __init__(self, first, last, team, pay):\n",
        "        self.first = first\n",
        "        self.last = last\n",
        "        self.team = team\n",
        "        self.pay = pay\n",
        "    \n",
        "    @classmethod\n",
        "    def from_string(cls, player_str):\n",
        "        first, last, team, pay = player_str.split('-')\n",
        "        return cls(first, last, team, pay)\n",
        "        \n",
        "player_string = 'Isaiah-Wilson-Dolphins-10000000'\n",
        "\n",
        "# Now a new instance can be created using the class method from_string\n",
        "player_3 = Player.from_string(player_string)"
      ],
      "execution_count": 2,
      "outputs": []
    },
    {
      "cell_type": "markdown",
      "metadata": {
        "id": "NrZmPyPrFxoE"
      },
      "source": [
        "# Static Methods"
      ]
    },
    {
      "cell_type": "code",
      "metadata": {
        "colab": {
          "base_uri": "https://localhost:8080/",
          "height": 37
        },
        "id": "ePdrgb_wFwTE",
        "outputId": "4bc8d3db-741a-4d56-cc37-a7cfef04fe8a"
      },
      "source": [
        "import datetime\n",
        "from datetime import date\n",
        "\n",
        "class Player:\n",
        "    \n",
        "    def __init__(self, first, last, team, pay):\n",
        "        self.first = first\n",
        "        self.last = last\n",
        "        self.team = team\n",
        "        self.pay = pay\n",
        "    \n",
        "        \n",
        "    @staticmethod\n",
        "    def is_workday():\n",
        "        today = date.today()\n",
        "        if today.weekday() == 0 or today.weekday() == 3 or today.weekday() == 6:\n",
        "            return 'Gameday!'\n",
        "        else:\n",
        "            return 'No Games Today...'\n",
        "            \n",
        "Player.is_workday()"
      ],
      "execution_count": 5,
      "outputs": [
        {
          "output_type": "execute_result",
          "data": {
            "application/vnd.google.colaboratory.intrinsic+json": {
              "type": "string"
            },
            "text/plain": [
              "'No Games Today...'"
            ]
          },
          "metadata": {},
          "execution_count": 5
        }
      ]
    }
  ]
}