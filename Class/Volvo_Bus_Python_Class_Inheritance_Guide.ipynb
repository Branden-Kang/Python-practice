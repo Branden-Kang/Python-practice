{
  "nbformat": 4,
  "nbformat_minor": 0,
  "metadata": {
    "colab": {
      "provenance": [],
      "authorship_tag": "ABX9TyNdGBHHrvrtzaWh+vXYl24z"
    },
    "kernelspec": {
      "name": "python3",
      "display_name": "Python 3"
    },
    "language_info": {
      "name": "python"
    }
  },
  "cells": [
    {
      "cell_type": "markdown",
      "source": [
        "[Reference](https://levelup.gitconnected.com/building-a-volvo-bus-python-class-inheritance-guide-473e9f74ff02)"
      ],
      "metadata": {
        "id": "ChHGUzrA9DdY"
      }
    },
    {
      "cell_type": "markdown",
      "source": [
        "# Step 1: Defining the Parent Class"
      ],
      "metadata": {
        "id": "hwIEXYsn9OTP"
      }
    },
    {
      "cell_type": "code",
      "execution_count": 1,
      "metadata": {
        "id": "Y7L4liJ69AuA"
      },
      "outputs": [],
      "source": [
        "# parent class\n",
        "class Vehicle:\n",
        "    def __init__(self, name, max_speed, mileage) -> None:\n",
        "        self.name = name\n",
        "        self.max_speed = max_speed\n",
        "        self.mileage = mileage"
      ]
    },
    {
      "cell_type": "markdown",
      "source": [
        "# Step 2: Creating the Child Class"
      ],
      "metadata": {
        "id": "h9csDxDX9RYd"
      }
    },
    {
      "cell_type": "code",
      "source": [
        "# child class, inherits from Vehicle\n",
        "class Bus(Vehicle):\n",
        "    pass"
      ],
      "metadata": {
        "id": "hLufHD6h9QUN"
      },
      "execution_count": 2,
      "outputs": []
    },
    {
      "cell_type": "markdown",
      "source": [
        "# Step 3: Instantiating the Child Class"
      ],
      "metadata": {
        "id": "mQMOxL6U9XnE"
      }
    },
    {
      "cell_type": "code",
      "source": [
        "school_bus = Bus(\"Volvo\", 180, 12)\n",
        "print(\"Vehicle name: \", school_bus.name)\n",
        "print(\"Vehicle top speed: \", school_bus.max_speed)\n",
        "print(\"Vehicle mileage: \", school_bus.mileage)"
      ],
      "metadata": {
        "colab": {
          "base_uri": "https://localhost:8080/"
        },
        "id": "rcEad6-Y9Wjb",
        "outputId": "42a91c4f-1a5c-4f85-d5ef-93d4c5920028"
      },
      "execution_count": 3,
      "outputs": [
        {
          "output_type": "stream",
          "name": "stdout",
          "text": [
            "Vehicle name:  Volvo\n",
            "Vehicle top speed:  180\n",
            "Vehicle mileage:  12\n"
          ]
        }
      ]
    },
    {
      "cell_type": "markdown",
      "source": [
        "# Step 4: Adding New Attributes"
      ],
      "metadata": {
        "id": "xDSfTUCs9bi8"
      }
    },
    {
      "cell_type": "code",
      "source": [
        "class Bus(Vehicle):\n",
        "    def __init__(self, name, max_speed, mileage, is_electric) -> None:\n",
        "        super().__init__(name, max_speed, mileage)\n",
        "        self.is_electric = is_electric"
      ],
      "metadata": {
        "id": "p2REYpHA9ZbK"
      },
      "execution_count": 4,
      "outputs": []
    },
    {
      "cell_type": "markdown",
      "source": [
        "# Step 5: Adding a New Method"
      ],
      "metadata": {
        "id": "1WKQsKO09hFL"
      }
    },
    {
      "cell_type": "code",
      "source": [
        "class Bus(Vehicle):\n",
        "    def __init__(self, name, max_speed, mileage, is_electric) -> None:\n",
        "        super().__init__(name, max_speed, mileage)\n",
        "        self.is_electric = is_electric\n",
        "\n",
        "    def is_electric_bus(self):\n",
        "        return \"Electric Bus\" if self.is_electric else \"Non-Electric Bus\""
      ],
      "metadata": {
        "id": "cOxKl3M29dY7"
      },
      "execution_count": 5,
      "outputs": []
    },
    {
      "cell_type": "markdown",
      "source": [
        "# Step 6: Using the New Method"
      ],
      "metadata": {
        "id": "YWKpqp4_9jow"
      }
    },
    {
      "cell_type": "code",
      "source": [
        "school_bus = Bus(\"Volvo\", 180, 12, False)\n",
        "print(\"Vehicle name: \", school_bus.name)\n",
        "print(\"Vehicle top speed: \", school_bus.max_speed)\n",
        "print(\"Vehicle mileage: \", school_bus.mileage)\n",
        "print(\"Bus type: \", school_bus.is_electric_bus())"
      ],
      "metadata": {
        "colab": {
          "base_uri": "https://localhost:8080/"
        },
        "id": "KcfkBEhi9e4A",
        "outputId": "c7f2bfa1-fec9-4a54-e1f0-fec7c6f92062"
      },
      "execution_count": 6,
      "outputs": [
        {
          "output_type": "stream",
          "name": "stdout",
          "text": [
            "Vehicle name:  Volvo\n",
            "Vehicle top speed:  180\n",
            "Vehicle mileage:  12\n",
            "Bus type:  Non-Electric Bus\n"
          ]
        }
      ]
    },
    {
      "cell_type": "markdown",
      "source": [
        "# Step 7: Overriding the __str__ Method"
      ],
      "metadata": {
        "id": "Zr5EKZwk9owi"
      }
    },
    {
      "cell_type": "code",
      "source": [
        "class Vehicle:\n",
        "    def __init__(self, name, max_speed, mileage) -> None:\n",
        "        self.name = name\n",
        "        self.max_speed = max_speed\n",
        "        self.mileage = mileage\n",
        "\n",
        "    def __str__(self):\n",
        "        return f\"Vehicle(name={self.name}, max_speed={self.max_speed}, mileage={self.mileage})\"\n",
        "\n",
        "\n",
        "class Bus(Vehicle):\n",
        "    def __init__(self, name, max_speed, mileage, is_electric) -> None:\n",
        "        super().__init__(name, max_speed, mileage)\n",
        "        self.is_electric = is_electric\n",
        "\n",
        "    def __str__(self):\n",
        "        electric_status = \"Electric\" if self.is_electric else \"Non-Electric\"\n",
        "        return f\"Bus(name={self.name}, max_speed={self.max_speed}, mileage={self.mileage}, type={electric_status})\""
      ],
      "metadata": {
        "id": "nP7SG_iM9nIA"
      },
      "execution_count": 7,
      "outputs": []
    },
    {
      "cell_type": "markdown",
      "source": [
        "# Step 8: Testing the Overridden Method"
      ],
      "metadata": {
        "id": "MaKY_KGd9tAa"
      }
    },
    {
      "cell_type": "code",
      "source": [
        "school_bus = Bus(\"Volvo\", 180, 12, False)\n",
        "print(school_bus)"
      ],
      "metadata": {
        "colab": {
          "base_uri": "https://localhost:8080/"
        },
        "id": "WHA58WEt9qlh",
        "outputId": "c650d569-1a32-428d-bef2-cdbb2799fb2c"
      },
      "execution_count": 8,
      "outputs": [
        {
          "output_type": "stream",
          "name": "stdout",
          "text": [
            "Bus(name=Volvo, max_speed=180, mileage=12, type=Non-Electric)\n"
          ]
        }
      ]
    }
  ]
}
