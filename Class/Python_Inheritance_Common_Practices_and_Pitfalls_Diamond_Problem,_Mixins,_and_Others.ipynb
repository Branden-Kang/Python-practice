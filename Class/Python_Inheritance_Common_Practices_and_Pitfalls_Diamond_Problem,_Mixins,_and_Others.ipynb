{
  "nbformat": 4,
  "nbformat_minor": 0,
  "metadata": {
    "colab": {
      "provenance": [],
      "authorship_tag": "ABX9TyMm07C5IvQZDUhI815Jn7RJ"
    },
    "kernelspec": {
      "name": "python3",
      "display_name": "Python 3"
    },
    "language_info": {
      "name": "python"
    }
  },
  "cells": [
    {
      "cell_type": "markdown",
      "source": [
        "[Reference](https://pub.towardsai.net/python-inheritance-common-practices-and-pitfalls-diamond-problem-mixins-and-others-37823b794b05)"
      ],
      "metadata": {
        "id": "-bOFyn_m8z1g"
      }
    },
    {
      "cell_type": "markdown",
      "source": [
        "# Multiple Inheritance"
      ],
      "metadata": {
        "id": "0_Hpdsax83HC"
      }
    },
    {
      "cell_type": "code",
      "execution_count": 1,
      "metadata": {
        "colab": {
          "base_uri": "https://localhost:8080/"
        },
        "id": "BJqM9x3o8kZC",
        "outputId": "56a0ed83-57b2-460a-9afc-0d799190dc36"
      },
      "outputs": [
        {
          "output_type": "stream",
          "name": "stdout",
          "text": [
            "True\n",
            "True\n"
          ]
        }
      ],
      "source": [
        "class fly:\n",
        "  can_fly = True\n",
        "\n",
        "class swim:\n",
        "  can_swim = True\n",
        "\n",
        "class Duck(swim, fly):\n",
        "    pass\n",
        "\n",
        "d = Duck()\n",
        "print(d.can_fly)   #True\n",
        "print(d.can_swim)  #True"
      ]
    },
    {
      "cell_type": "markdown",
      "source": [
        "# Diamond Problem"
      ],
      "metadata": {
        "id": "a5tUFxMYAYWK"
      }
    },
    {
      "cell_type": "code",
      "source": [
        "class Animal:\n",
        "    def speak(self):\n",
        "        print(\"Animal speaks\")\n",
        "\n",
        "class Bird(Animal):\n",
        "    def speak(self):\n",
        "        print(\"Bird chirps\")\n",
        "\n",
        "class Fish(Animal):\n",
        "    def speak(self):\n",
        "        print(\"Fish bubbles\")\n",
        "\n",
        "class Amphibian(Bird, Fish):\n",
        "    pass"
      ],
      "metadata": {
        "id": "pa7SblKK84TD"
      },
      "execution_count": 2,
      "outputs": []
    },
    {
      "cell_type": "markdown",
      "source": [
        "# Method Resolution Order(MRO)"
      ],
      "metadata": {
        "id": "yF6k_oP6Ad0J"
      }
    },
    {
      "cell_type": "code",
      "source": [
        "class Animal:\n",
        "    def speak(self):\n",
        "        print(\"Animal speaks\")\n",
        "\n",
        "class Bird(Animal):\n",
        "    def speak(self):\n",
        "        print(\"Bird chirps\")\n",
        "\n",
        "class Fish(Animal):\n",
        "    def speak(self):\n",
        "        print(\"Fish bubbles\")\n",
        "\n",
        "class Amphibian(Bird, Fish):\n",
        "    pass\n",
        "\n",
        "Amphibian.__mro__"
      ],
      "metadata": {
        "colab": {
          "base_uri": "https://localhost:8080/"
        },
        "id": "_ilMjD95AZyv",
        "outputId": "5be8769f-a35a-452c-86ad-721b9b0597b6"
      },
      "execution_count": 3,
      "outputs": [
        {
          "output_type": "execute_result",
          "data": {
            "text/plain": [
              "(__main__.Amphibian, __main__.Bird, __main__.Fish, __main__.Animal, object)"
            ]
          },
          "metadata": {},
          "execution_count": 3
        }
      ]
    },
    {
      "cell_type": "markdown",
      "source": [
        "# Mixins"
      ],
      "metadata": {
        "id": "99b6qFiTAojz"
      }
    },
    {
      "cell_type": "code",
      "source": [
        "class JSONMixin:\n",
        "    def to_json(self):\n",
        "        import json\n",
        "        return json.dumps(self.__dict__)\n",
        "\n",
        "class Person:\n",
        "    def __init__(self, name, age):\n",
        "        self.name = name\n",
        "        self.age = age\n",
        "\n",
        "class JSONPerson(Person, JSONMixin):\n",
        "    pass\n",
        "\n",
        "person = JSONPerson(\"Alice\", 30)\n",
        "print(person.to_json())"
      ],
      "metadata": {
        "colab": {
          "base_uri": "https://localhost:8080/"
        },
        "id": "vLaUaJNEAlp4",
        "outputId": "2f50bdc0-f1ce-4543-a95d-88b4a6c56d9f"
      },
      "execution_count": 4,
      "outputs": [
        {
          "output_type": "stream",
          "name": "stdout",
          "text": [
            "{\"name\": \"Alice\", \"age\": 30}\n"
          ]
        }
      ]
    }
  ]
}
