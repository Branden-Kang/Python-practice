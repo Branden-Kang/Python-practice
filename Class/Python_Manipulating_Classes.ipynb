{
  "nbformat": 4,
  "nbformat_minor": 0,
  "metadata": {
    "colab": {
      "provenance": [],
      "authorship_tag": "ABX9TyMzE/g4uwmpkYz4Rr2yWwYy"
    },
    "kernelspec": {
      "name": "python3",
      "display_name": "Python 3"
    },
    "language_info": {
      "name": "python"
    }
  },
  "cells": [
    {
      "cell_type": "markdown",
      "source": [
        "[Reference](https://medium.com/@sarperismetmakas/python-manipulating-classes-94341ed3b00e)"
      ],
      "metadata": {
        "id": "MHamGkkpHVTo"
      }
    },
    {
      "cell_type": "markdown",
      "source": [
        "# type(obj)"
      ],
      "metadata": {
        "id": "L8oLV6R6HhDe"
      }
    },
    {
      "cell_type": "code",
      "execution_count": 1,
      "metadata": {
        "colab": {
          "base_uri": "https://localhost:8080/"
        },
        "id": "J4qNtziWHJuN",
        "outputId": "7f549123-757d-4738-e840-b6afc3c0b377"
      },
      "outputs": [
        {
          "output_type": "stream",
          "name": "stdout",
          "text": [
            "<class 'int'>\n",
            "<class 'str'>\n",
            "<class 'list'>\n"
          ]
        }
      ],
      "source": [
        "x = 5\n",
        "y = \"Hello\"\n",
        "z = [1, 2, 3]\n",
        "\n",
        "print(type(x))  # <class 'int'>\n",
        "print(type(y))  # <class 'str'>\n",
        "print(type(z))  # <class 'list'>"
      ]
    },
    {
      "cell_type": "markdown",
      "source": [
        "# obj.__class__"
      ],
      "metadata": {
        "id": "P2XdReU3Hfpt"
      }
    },
    {
      "cell_type": "code",
      "source": [
        "class Dog:\n",
        "    def __init__(self, name):\n",
        "        self.name = name\n",
        "\n",
        "dog_instance = Dog(\"Buddy\")\n",
        "print(dog_instance.__class__)  # <class '__main__.Dog'>"
      ],
      "metadata": {
        "colab": {
          "base_uri": "https://localhost:8080/"
        },
        "id": "cBiPUs0_HYex",
        "outputId": "99bdffc6-7981-42c3-c1ac-e0f102570932"
      },
      "execution_count": 2,
      "outputs": [
        {
          "output_type": "stream",
          "name": "stdout",
          "text": [
            "<class '__main__.Dog'>\n"
          ]
        }
      ]
    },
    {
      "cell_type": "markdown",
      "source": [
        "# Manupilating Classes"
      ],
      "metadata": {
        "id": "QVhKR5ImHb-d"
      }
    },
    {
      "cell_type": "code",
      "source": [
        "class Cat:\n",
        "    def speak(self):\n",
        "        return \"Meow!\"\n",
        "\n",
        "class Dog:\n",
        "    def speak(self):\n",
        "        return \"Woof!\"\n",
        "\n",
        "# Creating an instance of Cat\n",
        "pet = Cat()\n",
        "\n",
        "print(pet.speak())  # Output: \"Meow!\"\n",
        "\n",
        "# Changing the type of pet to Dog\n",
        "pet.__class__ = Dog\n",
        "\n",
        "print(pet.speak())  # Output: \"Woof!\""
      ],
      "metadata": {
        "colab": {
          "base_uri": "https://localhost:8080/"
        },
        "id": "2drSqvcQHZdG",
        "outputId": "f2ca7625-12e4-46d7-adde-a780cf790d35"
      },
      "execution_count": 3,
      "outputs": [
        {
          "output_type": "stream",
          "name": "stdout",
          "text": [
            "Meow!\n",
            "Woof!\n"
          ]
        }
      ]
    }
  ]
}
