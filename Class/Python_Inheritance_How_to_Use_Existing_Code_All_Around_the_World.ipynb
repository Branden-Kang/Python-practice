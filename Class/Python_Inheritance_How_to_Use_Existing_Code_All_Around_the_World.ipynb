{
  "nbformat": 4,
  "nbformat_minor": 0,
  "metadata": {
    "colab": {
      "provenance": [],
      "authorship_tag": "ABX9TyMhCfrz5sRqpYPSYfZtVF9a"
    },
    "kernelspec": {
      "name": "python3",
      "display_name": "Python 3"
    },
    "language_info": {
      "name": "python"
    }
  },
  "cells": [
    {
      "cell_type": "markdown",
      "source": [
        "[Reference](https://towardsdev.com/python-inheritance-how-to-use-existing-code-all-around-the-world-bb43a6d8c71)"
      ],
      "metadata": {
        "id": "BaYb24gHDtYa"
      }
    },
    {
      "cell_type": "code",
      "execution_count": 1,
      "metadata": {
        "id": "9WK-pdFKDrXC"
      },
      "outputs": [],
      "source": [
        "class Vehicle:\n",
        "    def __init__(self, year, mpg, tank, mileage):\n",
        "        self.year = year\n",
        "        self.tank = tank\n",
        "        self.mpg = mpg\n",
        "        self.mileage = mileage\n",
        "\n",
        "    def drive(self, n_miles):\n",
        "        self.tank = self.tank - n_miles / self.mpg\n",
        "        self.mileage += n_miles\n",
        "        \n",
        "        return self.tank, self.mileage\n",
        "\n",
        "class Car(Vehicle):\n",
        "    pass"
      ]
    },
    {
      "cell_type": "code",
      "source": [
        "sedan = Car(2020, mpg=56, tank=10, mileage=1000)\n",
        "\n",
        "print(\n",
        "    f\"This sedan was built in {sedan.year}. It has {sedan.tank} gallons in tank. \"\n",
        "    f\"Its mileage is at {sedan.mileage}\"\n",
        ")\n",
        "\n",
        "tank, mileage = sedan.drive(50)\n",
        "print(f\"Drove for 50 miles. Mileage is currently at {mileage} miles. {round(tank, 2)} gallons remaining.\")"
      ],
      "metadata": {
        "colab": {
          "base_uri": "https://localhost:8080/"
        },
        "id": "gSVy8mGzDyz4",
        "outputId": "549ad86a-5603-43ef-9038-ab596024581c"
      },
      "execution_count": 2,
      "outputs": [
        {
          "output_type": "stream",
          "name": "stdout",
          "text": [
            "This sedan was built in 2020. It has 10 gallons in tank. Its mileage is at 1000\n",
            "Drove for 50 miles. Mileage is currently at 1050 miles. 9.11 gallons remaining.\n"
          ]
        }
      ]
    },
    {
      "cell_type": "code",
      "source": [
        "type(sedan)"
      ],
      "metadata": {
        "colab": {
          "base_uri": "https://localhost:8080/"
        },
        "id": "R-7LeQyED0b6",
        "outputId": "babca68f-c2e9-4328-a0c8-9a6f5ecb89a8"
      },
      "execution_count": 3,
      "outputs": [
        {
          "output_type": "execute_result",
          "data": {
            "text/plain": [
              "__main__.Car"
            ]
          },
          "metadata": {},
          "execution_count": 3
        }
      ]
    },
    {
      "cell_type": "code",
      "source": [
        "isinstance(sedan, Vehicle)"
      ],
      "metadata": {
        "colab": {
          "base_uri": "https://localhost:8080/"
        },
        "id": "ijHZpIOzD3Pt",
        "outputId": "cc11a7bc-1283-49e0-ca43-8dc6ab13d53e"
      },
      "execution_count": 4,
      "outputs": [
        {
          "output_type": "execute_result",
          "data": {
            "text/plain": [
              "True"
            ]
          },
          "metadata": {},
          "execution_count": 4
        }
      ]
    },
    {
      "cell_type": "code",
      "source": [
        "isinstance(sedan, Car)"
      ],
      "metadata": {
        "colab": {
          "base_uri": "https://localhost:8080/"
        },
        "id": "IOMLC92VD3c2",
        "outputId": "f3968487-b7a7-4137-804c-75af00bb2ee1"
      },
      "execution_count": 5,
      "outputs": [
        {
          "output_type": "execute_result",
          "data": {
            "text/plain": [
              "True"
            ]
          },
          "metadata": {},
          "execution_count": 5
        }
      ]
    },
    {
      "cell_type": "code",
      "source": [
        "simple_vehicle = Vehicle(2020, 60, 15, 1e7)  # Generic Vehicle object\n",
        "\n",
        "isinstance(simple_vehicle, Vehicle)"
      ],
      "metadata": {
        "colab": {
          "base_uri": "https://localhost:8080/"
        },
        "id": "e0aOJOJvD5CO",
        "outputId": "552c1792-64f0-48fa-8d7b-4fcc53c07e6c"
      },
      "execution_count": 6,
      "outputs": [
        {
          "output_type": "execute_result",
          "data": {
            "text/plain": [
              "True"
            ]
          },
          "metadata": {},
          "execution_count": 6
        }
      ]
    },
    {
      "cell_type": "code",
      "source": [
        "isinstance(simple_vehicle, Car)"
      ],
      "metadata": {
        "colab": {
          "base_uri": "https://localhost:8080/"
        },
        "id": "M7poX6EYD7cb",
        "outputId": "cadd6a38-ed3f-4761-b38c-ac7311e74a14"
      },
      "execution_count": 7,
      "outputs": [
        {
          "output_type": "execute_result",
          "data": {
            "text/plain": [
              "False"
            ]
          },
          "metadata": {},
          "execution_count": 7
        }
      ]
    },
    {
      "cell_type": "code",
      "source": [
        "class Car(Vehicle):\n",
        "    def __init__(self, year, mpg, tank, mileage, model, color):\n",
        "        self.year = year\n",
        "        self.tank = tank\n",
        "        self.mpg = mpg\n",
        "        self.mileage = mileage\n",
        "        # NEW ATTRIBUTES\n",
        "        self.color = color\n",
        "        self.model = model"
      ],
      "metadata": {
        "id": "QKi_oeY0D7j4"
      },
      "execution_count": 8,
      "outputs": []
    },
    {
      "cell_type": "code",
      "source": [
        "jaguar = Car(2015, 23, 10, 1000, 'Jaguar', 'black')\n",
        "jaguar.color"
      ],
      "metadata": {
        "colab": {
          "base_uri": "https://localhost:8080/",
          "height": 35
        },
        "id": "lsdvtU5QD9bU",
        "outputId": "a4e5bcfe-e5e1-4427-a92f-b9d97c7bf88a"
      },
      "execution_count": 9,
      "outputs": [
        {
          "output_type": "execute_result",
          "data": {
            "text/plain": [
              "'black'"
            ],
            "application/vnd.google.colaboratory.intrinsic+json": {
              "type": "string"
            }
          },
          "metadata": {},
          "execution_count": 9
        }
      ]
    },
    {
      "cell_type": "code",
      "source": [
        "class Car(Vehicle):\n",
        "    def __init__(self, year, mpg, tank, mileage, model, color):\n",
        "        # Iinitialize the attributes of the parent class\n",
        "        Vehicle.__init__(self, year, mpg, tank, mileage)\n",
        "        # New attributes here\n",
        "        self.color = color\n",
        "        self.model = model\n",
        "jaguar = Car(2015, 23, 10, 1000, 'Jaguar', 'black')\n",
        "print(jaguar.year)\n",
        "print(jaguar.mpg)\n",
        "print(jaguar.model)"
      ],
      "metadata": {
        "colab": {
          "base_uri": "https://localhost:8080/"
        },
        "id": "4DcBokjED9jc",
        "outputId": "6b0b2136-4d70-44cb-a192-39c62ea58f55"
      },
      "execution_count": 10,
      "outputs": [
        {
          "output_type": "stream",
          "name": "stdout",
          "text": [
            "2015\n",
            "23\n",
            "Jaguar\n"
          ]
        }
      ]
    },
    {
      "cell_type": "code",
      "source": [
        "class Car(Vehicle):\n",
        "    def __init__(self, year, mpg, tank, mileage, model, color):\n",
        "        Vehicle.__init__(self, year, mpg, tank, mileage)\n",
        "        self.color = color\n",
        "        self.model = model\n",
        "    \n",
        "    def is_old(self):\n",
        "        if self.year <= 2010:\n",
        "            return True\n",
        "        else: return False"
      ],
      "metadata": {
        "id": "xMdgoJtQD_UX"
      },
      "execution_count": 11,
      "outputs": []
    },
    {
      "cell_type": "code",
      "source": [
        "car = Car(2004, 15, 5, 750000, 'Toyota', 'white')\n",
        "car.is_old()"
      ],
      "metadata": {
        "colab": {
          "base_uri": "https://localhost:8080/"
        },
        "id": "tqZVm4OzEArU",
        "outputId": "5cf30b63-91c8-40ca-8e7e-8d73ab02e83b"
      },
      "execution_count": 12,
      "outputs": [
        {
          "output_type": "execute_result",
          "data": {
            "text/plain": [
              "True"
            ]
          },
          "metadata": {},
          "execution_count": 12
        }
      ]
    },
    {
      "cell_type": "code",
      "source": [
        "class Airplane(Vehicle):\n",
        "    \n",
        "    def __init__(self, mpg, tank, mileage, n_passengers):\n",
        "        self.mpg = mpg\n",
        "        self.tank = tank\n",
        "        self.mileage = mileage\n",
        "        self.n_passengers = n_passengers\n",
        "    \n",
        "    def fly(self, n_miles):\n",
        "        return Vehicle.drive(self, n_miles * self.n_passengers)\n",
        "boeing = Airplane(51, 3500, 2e7, 200)\n",
        "tank, mileage = boeing.fly(500)\n",
        "print(f\"Flew for 500 miles. \"\n",
        "      f\"{round(tank, 2)} gallons remaining in tank.\")"
      ],
      "metadata": {
        "colab": {
          "base_uri": "https://localhost:8080/"
        },
        "id": "wsnkV5dIEBdQ",
        "outputId": "21fbb54d-7d01-4eee-ce14-245680decc16"
      },
      "execution_count": 13,
      "outputs": [
        {
          "output_type": "stream",
          "name": "stdout",
          "text": [
            "Flew for 500 miles. 1539.22 gallons remaining in tank.\n"
          ]
        }
      ]
    },
    {
      "cell_type": "code",
      "source": [
        "class Car(Vehicle):\n",
        "    def __init__(self, year, mpg, tank, mileage, model, color):\n",
        "        super().__init__(year, mpg, tank, mileage)\n",
        "        self.color = color\n",
        "        self.model = model"
      ],
      "metadata": {
        "id": "2f03B0lyEDB6"
      },
      "execution_count": 14,
      "outputs": []
    },
    {
      "cell_type": "code",
      "source": [
        "class Parent:\n",
        "    \n",
        "    def my_method(self):\n",
        "        print(\"This method will be overridden by the child.\")\n",
        "\n",
        "class Child(Parent):\n",
        "    \n",
        "    def my_method(self):\n",
        "        print(\"This method overrode the parent's method.\")\n",
        "obj = Child()\n",
        "obj.my_method()"
      ],
      "metadata": {
        "colab": {
          "base_uri": "https://localhost:8080/"
        },
        "id": "5S2Yf8XOEEq9",
        "outputId": "364a6f08-cc80-461c-db5a-e7ec3735c071"
      },
      "execution_count": 15,
      "outputs": [
        {
          "output_type": "stream",
          "name": "stdout",
          "text": [
            "This method overrode the parent's method.\n"
          ]
        }
      ]
    },
    {
      "cell_type": "code",
      "source": [
        "parent_obj = Parent()\n",
        "parent_obj.my_method()"
      ],
      "metadata": {
        "colab": {
          "base_uri": "https://localhost:8080/"
        },
        "id": "MEPC_P3oEFmX",
        "outputId": "77f7ac31-c22c-4f79-ac74-bd1806ffd747"
      },
      "execution_count": 16,
      "outputs": [
        {
          "output_type": "stream",
          "name": "stdout",
          "text": [
            "This method will be overridden by the child.\n"
          ]
        }
      ]
    },
    {
      "cell_type": "code",
      "source": [
        "class A:\n",
        "    pass\n",
        "\n",
        "class B(A):\n",
        "    pass\n",
        "\n",
        "class C(B):\n",
        "    pass\n",
        "\n",
        "obj = C()\n",
        "\n",
        "print(isinstance(obj, A))\n",
        "print(isinstance(obj, B))"
      ],
      "metadata": {
        "colab": {
          "base_uri": "https://localhost:8080/"
        },
        "id": "2yOOwLazEGp9",
        "outputId": "3f62b78c-20fd-41fb-f753-71c3e5d3cdc6"
      },
      "execution_count": 17,
      "outputs": [
        {
          "output_type": "stream",
          "name": "stdout",
          "text": [
            "True\n",
            "True\n"
          ]
        }
      ]
    },
    {
      "cell_type": "code",
      "source": [],
      "metadata": {
        "id": "phz7MmNcEH4U"
      },
      "execution_count": null,
      "outputs": []
    }
  ]
}
