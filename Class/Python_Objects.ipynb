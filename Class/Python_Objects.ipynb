{
  "nbformat": 4,
  "nbformat_minor": 0,
  "metadata": {
    "colab": {
      "name": "Python Objects.ipynb",
      "provenance": [],
      "collapsed_sections": [],
      "authorship_tag": "ABX9TyP7wFlOu7AmEGgF2Rs29dLU"
    },
    "kernelspec": {
      "name": "python3",
      "display_name": "Python 3"
    }
  },
  "cells": [
    {
      "cell_type": "markdown",
      "metadata": {
        "id": "GeqGcFGzEuQX"
      },
      "source": [
        "[Reference](https://medium.com/swlh/make-python-objects-magical-45c0f003d9a1)"
      ]
    },
    {
      "cell_type": "code",
      "metadata": {
        "colab": {
          "base_uri": "https://localhost:8080/"
        },
        "id": "bgiwg9JzEsH_",
        "outputId": "be2c1e97-d43b-4876-a7f7-1cdcee54d6f7"
      },
      "source": [
        "string_sum_output = 'hello' + ' world' + '!'\n",
        "integer_sum_output = 10 + 20\n",
        "print(string_sum_output)\n",
        "print(integer_sum_output)"
      ],
      "execution_count": 14,
      "outputs": [
        {
          "output_type": "stream",
          "text": [
            "hello world!\n",
            "30\n"
          ],
          "name": "stdout"
        }
      ]
    },
    {
      "cell_type": "code",
      "metadata": {
        "id": "xYeTVRUEE8gG"
      },
      "source": [
        "class Student:\n",
        "    def __init__(self, name: str, phone_number: int, standard: str):\n",
        "        self.name = name\n",
        "        self.standard = standard\n",
        "        self.phone_number = phone_number\n"
      ],
      "execution_count": 15,
      "outputs": []
    },
    {
      "cell_type": "code",
      "metadata": {
        "colab": {
          "base_uri": "https://localhost:8080/"
        },
        "id": "hWrXvbAVFAL1",
        "outputId": "69cbff93-f222-4a43-d35b-76c9e40c051c"
      },
      "source": [
        "student_object = Student('saumalya', 1111100000, 'XII')\n",
        "\n",
        "print(student_object)"
      ],
      "execution_count": 16,
      "outputs": [
        {
          "output_type": "stream",
          "text": [
            "<__main__.Student object at 0x7fcd027ca550>\n"
          ],
          "name": "stdout"
        }
      ]
    },
    {
      "cell_type": "code",
      "metadata": {
        "id": "f50sOR_gFD-i"
      },
      "source": [
        "class Student:\n",
        "    def __init__(self, name: str, phone_number: int, standard: str):\n",
        "        self.name = name\n",
        "        self.standard = standard\n",
        "        self.phone_number = phone_number\n",
        "\n",
        "    def __str__(self):\n",
        "        return self.name"
      ],
      "execution_count": 17,
      "outputs": []
    },
    {
      "cell_type": "code",
      "metadata": {
        "colab": {
          "base_uri": "https://localhost:8080/"
        },
        "id": "koBHT6MbFNJh",
        "outputId": "26df35ac-5e92-42c1-c8f3-33ba4cbf8f0d"
      },
      "source": [
        "print(student_object)"
      ],
      "execution_count": 18,
      "outputs": [
        {
          "output_type": "stream",
          "text": [
            "<__main__.Student object at 0x7fcd027ca550>\n"
          ],
          "name": "stdout"
        }
      ]
    },
    {
      "cell_type": "code",
      "metadata": {
        "id": "qpJx_KWJFOaN"
      },
      "source": [
        "class Student:\n",
        "    def __init__(self, name: str, phone_number: int, standard: str):\n",
        "        self.name = name\n",
        "        self.standard = standard\n",
        "        self.phone_number = phone_number\n",
        "\n",
        "    def __str__(self):\n",
        "        return self.name\n",
        "\n",
        "    @staticmethod\n",
        "    def _get_standard_weight(std: str):\n",
        "        standard_weightage_list = [\n",
        "            'I', 'II', 'III', 'IV', 'V', 'VI', 'VII', 'VIII', 'IX', 'X', 'XI', 'XII'\n",
        "        ]\n",
        "        return standard_weightage_list.index(std.upper()) + 1\n",
        "\n",
        "    def __eq__(self, other):\n",
        "        if self._get_standard_weight(self.standard) == \\\n",
        "                self._get_standard_weight(other.standard):\n",
        "            return True\n",
        "        else:\n",
        "            return False\n",
        "\n",
        "    def __gt__(self, other):\n",
        "        if self._get_standard_weight(self.standard) > \\\n",
        "                self._get_standard_weight(other.standard):\n",
        "            return True\n",
        "        else:\n",
        "            return False\n",
        "\n",
        "    def __ge__(self, other):\n",
        "        if self._get_standard_weight(self.standard) >= \\\n",
        "                self._get_standard_weight(other.standard):\n",
        "            return True\n",
        "        else:\n",
        "            return False\n",
        "\n",
        "    def __lt__(self, other):\n",
        "        if self._get_standard_weight(self.standard) < \\\n",
        "                self._get_standard_weight(other.standard):\n",
        "            return True\n",
        "        else:\n",
        "            return False\n",
        "\n",
        "    def __le__(self, other):\n",
        "        if self._get_standard_weight(self.standard) <= \\\n",
        "                self._get_standard_weight(other.standard):\n",
        "            return True\n",
        "        else:\n",
        "            return False"
      ],
      "execution_count": 19,
      "outputs": []
    },
    {
      "cell_type": "code",
      "metadata": {
        "colab": {
          "base_uri": "https://localhost:8080/"
        },
        "id": "_GOCpHSignpY",
        "outputId": "c1aaeb9c-b677-4bca-8b84-b57f75855045"
      },
      "source": [
        "student_1 = Student('magne', 1111100000, 'XI')\n",
        "student_2 = Student('isolde', 2222200000, 'XII')\n",
        "student_3 = Student('try', 3333300000, 'ix')\n",
        "\n",
        "print(student_1 == student_3)\n",
        "print(student_2 >= student_1)\n",
        "print(student_3 > student_2)\n",
        "print(student_1 < student_3)\n",
        "print(student_2 <= student_2)"
      ],
      "execution_count": 20,
      "outputs": [
        {
          "output_type": "stream",
          "text": [
            "False\n",
            "True\n",
            "False\n",
            "False\n",
            "True\n",
            "False\n",
            "True\n",
            "False\n",
            "False\n",
            "True\n"
          ],
          "name": "stdout"
        }
      ]
    },
    {
      "cell_type": "code",
      "metadata": {
        "id": "ZxW_Z1zs-L_n"
      },
      "source": [
        "class House:\n",
        "    def __init__(self, name: str, symbol: str, student_list: list):\n",
        "        self.name = name\n",
        "        self.symbol = symbol\n",
        "        self.student_list = student_list\n",
        "\n",
        "    def __len__(self):\n",
        "        return len(self.student_list)"
      ],
      "execution_count": 21,
      "outputs": []
    },
    {
      "cell_type": "code",
      "metadata": {
        "colab": {
          "base_uri": "https://localhost:8080/"
        },
        "id": "zzz4nY0t-Mcs",
        "outputId": "cd730374-ee40-44e4-82ba-638e72ea9934"
      },
      "source": [
        "house_object = House('Gryffindor', 'Lion', [student_1, student_2, student_3])\n",
        "print(len(house_object))"
      ],
      "execution_count": 22,
      "outputs": [
        {
          "output_type": "stream",
          "text": [
            "3\n"
          ],
          "name": "stdout"
        }
      ]
    },
    {
      "cell_type": "code",
      "metadata": {
        "id": "PFbROvVV-SoN"
      },
      "source": [
        "class House:\n",
        "    def __init__(self, name: str, symbol: str, student_list: list):\n",
        "        self.name = name\n",
        "        self.symbol = symbol\n",
        "        self.student_list = student_list\n",
        "\n",
        "    def __len__(self):\n",
        "        return len(self.student_list)\n",
        "\n",
        "    def __iter__(self):\n",
        "        return iter(self.student_list)"
      ],
      "execution_count": 23,
      "outputs": []
    },
    {
      "cell_type": "code",
      "metadata": {
        "colab": {
          "base_uri": "https://localhost:8080/"
        },
        "id": "5KPq9v73-X34",
        "outputId": "35d26048-d73e-46d1-f550-48773dcb2eb2"
      },
      "source": [
        "house_object = House('Gryffindor', 'Lion', [student_1, student_2, student_3])\n",
        "for student_object in house_object:\n",
        "    print(student_object)"
      ],
      "execution_count": 24,
      "outputs": [
        {
          "output_type": "stream",
          "text": [
            "magne\n",
            "isolde\n",
            "try\n"
          ],
          "name": "stdout"
        }
      ]
    },
    {
      "cell_type": "code",
      "metadata": {
        "id": "4X9k5ffX-g40"
      },
      "source": [
        "class House:\n",
        "    def __init__(self, name: str, symbol: str, student_list: list):\n",
        "        self.name = name\n",
        "        self.symbol = symbol\n",
        "        self.student_list = student_list\n",
        "        self.current_student_id = -1\n",
        "\n",
        "    def __len__(self):\n",
        "        return len(self.student_list)\n",
        "\n",
        "    def __next__(self):\n",
        "        self.current_student_id += 1\n",
        "        try:\n",
        "            return self.student_list[self.current_student_id]\n",
        "        except IndexError:\n",
        "            raise StopIteration()\n",
        "\n",
        "    def __iter__(self):\n",
        "        self.current_student_id = 0\n",
        "        return self"
      ],
      "execution_count": 25,
      "outputs": []
    },
    {
      "cell_type": "code",
      "metadata": {
        "id": "lvIsi-Xv-lxl",
        "outputId": "763b880d-9a77-4862-e542-1e538d8a9115",
        "colab": {
          "base_uri": "https://localhost:8080/"
        }
      },
      "source": [
        "house_object = House('Gryffindor', 'Lion', [student_1, student_2, student_3])\n",
        "print(next(house_object))\n",
        "print(next(house_object))\n",
        "print(next(house_object))"
      ],
      "execution_count": 26,
      "outputs": [
        {
          "output_type": "stream",
          "text": [
            "magne\n",
            "isolde\n",
            "try\n"
          ],
          "name": "stdout"
        }
      ]
    },
    {
      "cell_type": "code",
      "metadata": {
        "id": "8U7Y6aGS-pfV",
        "outputId": "976871cb-5163-4988-87fb-90d89ad500fc",
        "colab": {
          "base_uri": "https://localhost:8080/"
        }
      },
      "source": [
        "print(\"~~~~~~~~~~~~~~~~~~~~~~~~~~~~~~~~~~~~~~~~~\")\n",
        "for student_object in house_object:\n",
        "    print(student_object, end=', ')"
      ],
      "execution_count": 27,
      "outputs": [
        {
          "output_type": "stream",
          "text": [
            "~~~~~~~~~~~~~~~~~~~~~~~~~~~~~~~~~~~~~~~~~\n",
            "isolde, try, "
          ],
          "name": "stdout"
        }
      ]
    },
    {
      "cell_type": "code",
      "metadata": {
        "id": "DDSip2LC-uZ4"
      },
      "source": [
        "class House:\n",
        "    def __init__(self, name: str, symbol: str, student_list: list):\n",
        "        self.name = name\n",
        "        self.symbol = symbol\n",
        "        self.student_list = student_list\n",
        "        self.current_student_id = -1\n",
        "\n",
        "    def __len__(self):\n",
        "        return len(self.student_list)\n",
        "\n",
        "    def __next__(self):\n",
        "        self.current_student_id += 1\n",
        "        try:\n",
        "            return self.student_list[self.current_student_id]\n",
        "        except IndexError:\n",
        "            raise StopIteration()\n",
        "\n",
        "    def __iter__(self):\n",
        "        self.current_student_id = 0\n",
        "        return self\n",
        "\n",
        "    def __getitem__(self, item):\n",
        "        return self.student_list[item]\n"
      ],
      "execution_count": 28,
      "outputs": []
    },
    {
      "cell_type": "code",
      "metadata": {
        "id": "HkyhYMBM-ze3",
        "outputId": "6720443f-c77a-441a-e180-7a1c39c2b2e8",
        "colab": {
          "base_uri": "https://localhost:8080/"
        }
      },
      "source": [
        "house_object = House('Gryffindor', 'Lion', [student_1, student_2, student_3])\n",
        "print(house_object[2])"
      ],
      "execution_count": 29,
      "outputs": [
        {
          "output_type": "stream",
          "text": [
            "try\n"
          ],
          "name": "stdout"
        }
      ]
    },
    {
      "cell_type": "code",
      "metadata": {
        "id": "3qcXQRkX-3UT",
        "outputId": "8af7c208-7fe0-41b5-b0c0-55bf61bb3796",
        "colab": {
          "base_uri": "https://localhost:8080/"
        }
      },
      "source": [
        "house_object = House('Gryffindor', 'Lion', [student_1, student_2, student_3])\n",
        "\n",
        "for student in house_object[1:2]:\n",
        "    print(student)"
      ],
      "execution_count": 33,
      "outputs": [
        {
          "output_type": "stream",
          "text": [
            "isolde\n"
          ],
          "name": "stdout"
        }
      ]
    },
    {
      "cell_type": "code",
      "metadata": {
        "id": "bHBLtZA4-9Qi"
      },
      "source": [
        "class House:\n",
        "    def __init__(self, name: str, symbol: str, student_list: list):\n",
        "        self.name = name\n",
        "        self.symbol = symbol\n",
        "        self.student_list = student_list\n",
        "        self.current_student_id = -1\n",
        "\n",
        "    def __len__(self):\n",
        "        return len(self.student_list)\n",
        "\n",
        "    def __next__(self):\n",
        "        self.current_student_id += 1\n",
        "        try:\n",
        "            return self.student_list[self.current_student_id]\n",
        "        except IndexError:\n",
        "            raise StopIteration()\n",
        "\n",
        "    def __iter__(self):\n",
        "        self.current_student_id = 0\n",
        "        return self\n",
        "\n",
        "    def __getitem__(self, item):\n",
        "        return self.student_list[item]\n",
        "\n",
        "    def __add__(self, other):\n",
        "        return self.student_list + other.student_list"
      ],
      "execution_count": 31,
      "outputs": []
    },
    {
      "cell_type": "code",
      "metadata": {
        "id": "dg9jRt9Q_CPE",
        "outputId": "a30816b6-c73b-42c8-ab80-efb1ce0dc83f",
        "colab": {
          "base_uri": "https://localhost:8080/"
        }
      },
      "source": [
        "new_student_1 = Student('Maeve', 9999900000, 'X')\n",
        "new_student_2 = Student('Otis', 8888800000, 'X')\n",
        "new_student_3 = Student('Eric', 7777700000, 'X')\n",
        "\n",
        "new_house_object = House(\n",
        "    'Ravenclaw',\n",
        "    'Eagle',\n",
        "    [new_student_1, new_student_2, new_student_3]\n",
        ")\n",
        "\n",
        "print(house_object + new_house_object)"
      ],
      "execution_count": 34,
      "outputs": [
        {
          "output_type": "stream",
          "text": [
            "[<__main__.Student object at 0x7fcd030a7470>, <__main__.Student object at 0x7fcd030a7048>, <__main__.Student object at 0x7fcd03088ef0>, <__main__.Student object at 0x7fcd027d95f8>, <__main__.Student object at 0x7fcd027d9668>, <__main__.Student object at 0x7fcd027d96d8>]\n"
          ],
          "name": "stdout"
        }
      ]
    }
  ]
}