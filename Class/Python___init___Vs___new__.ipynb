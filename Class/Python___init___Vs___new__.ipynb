{
  "nbformat": 4,
  "nbformat_minor": 0,
  "metadata": {
    "colab": {
      "name": "Python : __init__ Vs __new__.ipynb",
      "provenance": [],
      "authorship_tag": "ABX9TyM6GMORCGmWbFTkcmlTcsaW"
    },
    "kernelspec": {
      "name": "python3",
      "display_name": "Python 3"
    },
    "language_info": {
      "name": "python"
    }
  },
  "cells": [
    {
      "cell_type": "markdown",
      "source": [
        "[Reference](https://medium.com/@sunilrana123/python-init-vs-new-c639b03423c0)"
      ],
      "metadata": {
        "id": "cAH5DCbOOx17"
      }
    },
    {
      "cell_type": "code",
      "execution_count": 2,
      "metadata": {
        "id": "tbpbphtvOwie"
      },
      "outputs": [],
      "source": [
        "# Class myClass(object):\n",
        "#     def __new__(cls, *args, **kwargs):\n",
        "#         # do something here\n",
        "#         return object.__new__(cls, *args, **kwargs)"
      ]
    },
    {
      "cell_type": "code",
      "source": [
        "class Employee:\n",
        "    def __init__(self, fname, lname):\n",
        "        self.fname = fname\n",
        "        self.lname = lname\n",
        "emp = Employee('Sunil', 'Kumar')\n",
        "print(emp.fname , emp.lname)"
      ],
      "metadata": {
        "colab": {
          "base_uri": "https://localhost:8080/"
        },
        "id": "AQWawUhNO0QK",
        "outputId": "883dc124-ca71-493d-d1a8-2522b78c3962"
      },
      "execution_count": 3,
      "outputs": [
        {
          "output_type": "stream",
          "name": "stdout",
          "text": [
            "Sunil Kumar\n"
          ]
        }
      ]
    },
    {
      "cell_type": "code",
      "source": [
        "emp = object.__new__(Employee, 'Sunil', 'Kumar')\n",
        "emp.__init__('Sunil', 'Kumar')"
      ],
      "metadata": {
        "id": "1WElJ4EEO1P6"
      },
      "execution_count": 4,
      "outputs": []
    },
    {
      "cell_type": "code",
      "source": [
        "class Employee(object):\n",
        "    def __new__(cls,fname,lname):\n",
        "        print(\"Creating new object of Employee Class \")\n",
        "        return object.__new__(cls)\n",
        "    \n",
        "    def __init__(self,fname, lname):\n",
        "        print(\"Initializing the object of Employee class\")\n",
        "        self.fname = fname\n",
        "        self.lname = lname\n",
        "  \n",
        "emp = Employee('Sunil', 'Kumar')\n",
        "print(emp.fname , emp.lname)"
      ],
      "metadata": {
        "colab": {
          "base_uri": "https://localhost:8080/"
        },
        "id": "KtjwujHrO4Yp",
        "outputId": "ae6cd34f-aa3f-4c91-c081-b96cd835358c"
      },
      "execution_count": 5,
      "outputs": [
        {
          "output_type": "stream",
          "name": "stdout",
          "text": [
            "Creating new object of Employee Class \n",
            "Initializing the object of Employee class\n",
            "Sunil Kumar\n"
          ]
        }
      ]
    }
  ]
}
