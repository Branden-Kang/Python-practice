{
  "nbformat": 4,
  "nbformat_minor": 0,
  "metadata": {
    "colab": {
      "provenance": [],
      "authorship_tag": "ABX9TyMZzmU4ZM73gm8uRLupFx/Q"
    },
    "kernelspec": {
      "name": "python3",
      "display_name": "Python 3"
    },
    "language_info": {
      "name": "python"
    }
  },
  "cells": [
    {
      "cell_type": "markdown",
      "source": [
        "[Reference](https://lukianovihor.medium.com/python-data-classes-62ce5a190728)"
      ],
      "metadata": {
        "id": "iODwTCSwbcrj"
      }
    },
    {
      "cell_type": "code",
      "execution_count": 1,
      "metadata": {
        "colab": {
          "base_uri": "https://localhost:8080/"
        },
        "id": "tdbh__GZbbZv",
        "outputId": "3b25abeb-5544-4bca-876b-4dc7d6ee25b5"
      },
      "outputs": [
        {
          "output_type": "stream",
          "name": "stdout",
          "text": [
            "<__main__.Hotel object at 0x7d18988e6260>\n"
          ]
        }
      ],
      "source": [
        "# standard class\n",
        "class Hotel:\n",
        "    def __init__(self, rooms_number: int, city: str, stars: int, avg_room_price: float) -> None:\n",
        "        self.room_number = rooms_number\n",
        "        self.city = city\n",
        "        self.stars = stars\n",
        "        self.avg_room_price = avg_room_price\n",
        "\n",
        "# create an object for Hilton\n",
        "Hilton = Hotel(144, 'Paris', 5, 107.5)\n",
        "\n",
        "print(Hilton)"
      ]
    },
    {
      "cell_type": "code",
      "source": [
        "# class with __str__ or __repr__\n",
        "class Hotel:\n",
        "    def __init__(self, rooms_number: int, city: str, stars: int, avg_room_price: float) -> None:\n",
        "        self.room_number = rooms_number\n",
        "        self.city = city\n",
        "        self.stars = stars\n",
        "        self.avg_room_price = avg_room_price\n",
        "\n",
        "    def __repr__(self):\n",
        "        return f\"The hotel in {self.city} has {self.room_number}\"\n",
        "\n",
        "# create an object for Hilton\n",
        "Hilton = Hotel(144, 'Paris', 5, 107.5)\n",
        "\n",
        "print(Hilton)"
      ],
      "metadata": {
        "colab": {
          "base_uri": "https://localhost:8080/"
        },
        "id": "dpZSCGVXbfAU",
        "outputId": "77512777-5ec1-4a7f-d14c-2e037bc6c989"
      },
      "execution_count": 2,
      "outputs": [
        {
          "output_type": "stream",
          "name": "stdout",
          "text": [
            "The hotel in Paris has 144\n"
          ]
        }
      ]
    },
    {
      "cell_type": "code",
      "source": [
        "# compare two objects of a class\n",
        "Hilton = Hotel(144, 'Paris', 5, 107.5)\n",
        "Hilton2 = Hotel(144, 'Paris', 5, 107.5)\n",
        "\n",
        "print(Hilton == Hilton2)"
      ],
      "metadata": {
        "colab": {
          "base_uri": "https://localhost:8080/"
        },
        "id": "P7odpZDebgNj",
        "outputId": "202bc5fb-797e-4df5-cb75-462757f019ed"
      },
      "execution_count": 4,
      "outputs": [
        {
          "output_type": "stream",
          "name": "stdout",
          "text": [
            "False\n"
          ]
        }
      ]
    },
    {
      "cell_type": "code",
      "source": [
        "from dataclasses import dataclass\n",
        "\n",
        "# rewrite class in a data class format\n",
        "@dataclass\n",
        "class Hotel:\n",
        "    rooms_number: int\n",
        "    city: str\n",
        "    stars: int\n",
        "    avg_room_price: float\n",
        "\n",
        "Hilton = Hotel(144, 'Paris', 5, 107.5)\n",
        "print(Hilton)"
      ],
      "metadata": {
        "colab": {
          "base_uri": "https://localhost:8080/"
        },
        "id": "pFvMeqfqbhN6",
        "outputId": "74f68c9c-31d8-4385-f9bd-49578e93bc98"
      },
      "execution_count": 5,
      "outputs": [
        {
          "output_type": "stream",
          "name": "stdout",
          "text": [
            "Hotel(rooms_number=144, city='Paris', stars=5, avg_room_price=107.5)\n"
          ]
        }
      ]
    },
    {
      "cell_type": "code",
      "source": [
        "from dataclasses import dataclass, field\n",
        "from random import randint\n",
        "\n",
        "# add default fielt\n",
        "@dataclass\n",
        "class Hotel:\n",
        "    rooms_number: int\n",
        "    city: str\n",
        "    stars: int\n",
        "    avg_room_price: float\n",
        "    staff_names: list[str] = field(default_factory=list)\n",
        "    id: str = field(init=False, default=randint(1, 100))\n",
        "\n",
        "Hilton = Hotel(144, 'Paris', 5, 107.5)\n",
        "print(Hilton)"
      ],
      "metadata": {
        "colab": {
          "base_uri": "https://localhost:8080/"
        },
        "id": "cWYPzTdrbnKf",
        "outputId": "3e9721c3-b508-4292-c823-a1b37ad7eaa7"
      },
      "execution_count": 6,
      "outputs": [
        {
          "output_type": "stream",
          "name": "stdout",
          "text": [
            "Hotel(rooms_number=144, city='Paris', stars=5, avg_room_price=107.5, staff_names=[], id=27)\n"
          ]
        }
      ]
    },
    {
      "cell_type": "code",
      "source": [
        "from dataclasses import dataclass, field\n",
        "from random import randint\n",
        "\n",
        "# add post_init\n",
        "@dataclass\n",
        "class Hotel:\n",
        "    rooms_number: int\n",
        "    city: str\n",
        "    stars: int\n",
        "    avg_room_price: float\n",
        "    staff_names: list[str] = field(default_factory=list)\n",
        "    id: str = field(init=False, default=randint(1, 100))\n",
        "    max_revenue: float = field(init=False)\n",
        "\n",
        "    def __post_init__(self) -> None:\n",
        "        self.max_revenue = self.rooms_number * self.avg_room_price\n",
        "\n",
        "Hilton = Hotel(144, 'Paris', 5, 107.5)\n",
        "print(Hilton)"
      ],
      "metadata": {
        "colab": {
          "base_uri": "https://localhost:8080/"
        },
        "id": "yH5-9ZYwboeN",
        "outputId": "87a1678b-f675-432a-a660-00cbee9debe7"
      },
      "execution_count": 7,
      "outputs": [
        {
          "output_type": "stream",
          "name": "stdout",
          "text": [
            "Hotel(rooms_number=144, city='Paris', stars=5, avg_room_price=107.5, staff_names=[], id=50, max_revenue=15480.0)\n"
          ]
        }
      ]
    },
    {
      "cell_type": "code",
      "source": [
        "from collections import namedtuple\n",
        "\n",
        "Hotel = namedtuple(\"Hotel\", \"rooms_number city stars avg_room_price\")\n",
        "Hilton = Hotel(144, 'Paris', 5, 107.5)\n",
        "print(Hilton)"
      ],
      "metadata": {
        "colab": {
          "base_uri": "https://localhost:8080/"
        },
        "id": "0n1YyEV-bpuR",
        "outputId": "c30fdbe9-6f55-4a45-d59d-b00dfce2c2ef"
      },
      "execution_count": 8,
      "outputs": [
        {
          "output_type": "stream",
          "name": "stdout",
          "text": [
            "Hotel(rooms_number=144, city='Paris', stars=5, avg_room_price=107.5)\n"
          ]
        }
      ]
    },
    {
      "cell_type": "code",
      "source": [
        "import typing\n",
        "Hotel = typing.NamedTuple('Hotel',\n",
        "                          [('rooms_number', int),\n",
        "                           ('city', str),\n",
        "                           ('stars', int),\n",
        "                           ('avg_room_price', float)])\n",
        "\n",
        "Hilton = Hotel(144, 'Paris', 5, 107.5)\n",
        "print(Hilton)"
      ],
      "metadata": {
        "id": "sguTzxoDbq9l",
        "outputId": "f8d82a49-0a2a-476c-b8f2-4728d5c7b32a",
        "colab": {
          "base_uri": "https://localhost:8080/"
        }
      },
      "execution_count": 9,
      "outputs": [
        {
          "output_type": "stream",
          "name": "stdout",
          "text": [
            "Hotel(rooms_number=144, city='Paris', stars=5, avg_room_price=107.5)\n"
          ]
        }
      ]
    },
    {
      "cell_type": "code",
      "source": [
        "from typing import NamedTuple\n",
        "\n",
        "class Hotel(NamedTuple):\n",
        "    rooms_number: int\n",
        "    city: str\n",
        "    stars: int\n",
        "    avg_room_price: float\n",
        "\n",
        "Hilton = Hotel(144, 'Paris', 5, 107.5)\n",
        "print(Hilton)"
      ],
      "metadata": {
        "id": "jSs_dC22br9L",
        "outputId": "95f921e3-a868-426f-c579-bc043d38c8a5",
        "colab": {
          "base_uri": "https://localhost:8080/"
        }
      },
      "execution_count": 10,
      "outputs": [
        {
          "output_type": "stream",
          "name": "stdout",
          "text": [
            "Hotel(rooms_number=144, city='Paris', stars=5, avg_room_price=107.5)\n"
          ]
        }
      ]
    }
  ]
}
