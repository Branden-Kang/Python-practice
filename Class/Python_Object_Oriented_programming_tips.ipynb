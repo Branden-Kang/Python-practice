{
  "nbformat": 4,
  "nbformat_minor": 0,
  "metadata": {
    "colab": {
      "name": "Python Object Oriented programming tips.ipynb",
      "provenance": [],
      "authorship_tag": "ABX9TyOZX0zD00E6ZR709wi6keuh"
    },
    "kernelspec": {
      "name": "python3",
      "display_name": "Python 3"
    },
    "language_info": {
      "name": "python"
    }
  },
  "cells": [
    {
      "cell_type": "markdown",
      "metadata": {
        "id": "bM1adOskTlMM"
      },
      "source": [
        "[Reference](https://medium.com/analytics-vidhya/python-object-oriented-programming-tips-db4b40c9e314)"
      ]
    },
    {
      "cell_type": "code",
      "metadata": {
        "colab": {
          "base_uri": "https://localhost:8080/"
        },
        "id": "4BsTOaZnTkA0",
        "outputId": "efc2a656-3528-4b0d-fe64-567e98bed7af"
      },
      "source": [
        "class Person(object):\n",
        "    def __init__(self, first_name, last_name, address):\n",
        "        self.first_name = first_name\n",
        "        self.last_name = last_name\n",
        "        self.address = address\n",
        "\n",
        "    @classmethod\n",
        "    def create_using_full_name(cls, full_name, address):\n",
        "        name = full_name.split(' ')\n",
        "        return cls(name[0], name[1], address)\n",
        "\n",
        "class Employees(object):\n",
        "    def __init__(self):\n",
        "        self.employees_list = []\n",
        "\n",
        "    def __len__(self):\n",
        "        return len(self.employees_list)\n",
        "\n",
        "    def __getitem__(self, item):\n",
        "        return self.employees_list[item]\n",
        "\n",
        "    @classmethod\n",
        "    def add_employee_to_list(cls, list_of_emps=[]):\n",
        "        self = cls()\n",
        "        for emp in list_of_emps:\n",
        "            self.employees_list.append(emp)\n",
        "        return self\n",
        "\n",
        "    def print_emp_name(self):\n",
        "        return [person.first_name + person.last_name for person in self.employees_list]\n",
        "\n",
        "person1 = Person('Henry', 'Thiery', 'France')\n",
        "person2 = Person('Xaxi', 'Hernandez', 'Spain')\n",
        "person3 = Person('Erling', 'Haaland', 'Sweden')\n",
        "employees = Employees.add_employee_to_list([person1, person2, person3])\n",
        "employees.print_emp_name()"
      ],
      "execution_count": 2,
      "outputs": [
        {
          "output_type": "execute_result",
          "data": {
            "text/plain": [
              "['HenryThiery', 'XaxiHernandez', 'ErlingHaaland']"
            ]
          },
          "metadata": {
            "tags": []
          },
          "execution_count": 2
        }
      ]
    },
    {
      "cell_type": "code",
      "metadata": {
        "colab": {
          "base_uri": "https://localhost:8080/"
        },
        "id": "ccgeS-cPT2Kj",
        "outputId": "29398b23-b119-4519-ce19-27c661a8df6f"
      },
      "source": [
        "employees = Employees.add_employee_to_list([person1, person2, person3])\n",
        "len(employees)"
      ],
      "execution_count": 3,
      "outputs": [
        {
          "output_type": "execute_result",
          "data": {
            "text/plain": [
              "3"
            ]
          },
          "metadata": {
            "tags": []
          },
          "execution_count": 3
        }
      ]
    },
    {
      "cell_type": "code",
      "metadata": {
        "colab": {
          "base_uri": "https://localhost:8080/"
        },
        "id": "cDFOnQsfT_jD",
        "outputId": "49374ab7-825c-43b8-a3fe-43e253946777"
      },
      "source": [
        "employees[1]"
      ],
      "execution_count": 4,
      "outputs": [
        {
          "output_type": "execute_result",
          "data": {
            "text/plain": [
              "<__main__.Person at 0x7f930ffb3410>"
            ]
          },
          "metadata": {
            "tags": []
          },
          "execution_count": 4
        }
      ]
    },
    {
      "cell_type": "code",
      "metadata": {
        "colab": {
          "base_uri": "https://localhost:8080/",
          "height": 37
        },
        "id": "-tgcvvwhUAp0",
        "outputId": "e2080835-e469-4517-b4af-ad0f20e1b3a4"
      },
      "source": [
        "employees[1].first_name"
      ],
      "execution_count": 5,
      "outputs": [
        {
          "output_type": "execute_result",
          "data": {
            "application/vnd.google.colaboratory.intrinsic+json": {
              "type": "string"
            },
            "text/plain": [
              "'Xaxi'"
            ]
          },
          "metadata": {
            "tags": []
          },
          "execution_count": 5
        }
      ]
    },
    {
      "cell_type": "code",
      "metadata": {
        "id": "U2L-Q9_aUB2A"
      },
      "source": [
        "class Employees(object):\n",
        "    def __init__(self):\n",
        "        self.employees_list = []\n",
        "\n",
        "    def __len__(self):\n",
        "        return len(self.employees_list)\n",
        "\n",
        "    def __getitem__(self, item):\n",
        "        return self.employees_list[item]\n",
        "\n",
        "    def __getattr__(self, item):\n",
        "        return getattr(self.employees_list, item)\n",
        "\n",
        "    @classmethod\n",
        "    def add_employee_to_list(cls, list_of_emps=[]):\n",
        "        self = cls()\n",
        "        for emp in list_of_emps:\n",
        "            self.employees_list.append(emp)\n",
        "        return self\n",
        "    \n",
        "    def print_emp_name(self):\n",
        "        return [person.first_name + person.last_name for person in self.employees_list]"
      ],
      "execution_count": 6,
      "outputs": []
    },
    {
      "cell_type": "code",
      "metadata": {
        "colab": {
          "base_uri": "https://localhost:8080/"
        },
        "id": "U6gYRQAMUHVe",
        "outputId": "f0059312-f807-4751-f13c-88c40664a84c"
      },
      "source": [
        "employees = Employees.add_employee_to_list([person1, person2, person3])\n",
        "employees.append"
      ],
      "execution_count": 7,
      "outputs": [
        {
          "output_type": "execute_result",
          "data": {
            "text/plain": [
              "<function list.append>"
            ]
          },
          "metadata": {
            "tags": []
          },
          "execution_count": 7
        }
      ]
    },
    {
      "cell_type": "code",
      "metadata": {
        "colab": {
          "base_uri": "https://localhost:8080/"
        },
        "id": "tTTqzvVhUMfF",
        "outputId": "16b90e5e-44b7-4597-f62d-83e29ce8a1e6"
      },
      "source": [
        "employees.sort"
      ],
      "execution_count": 8,
      "outputs": [
        {
          "output_type": "execute_result",
          "data": {
            "text/plain": [
              "<function list.sort>"
            ]
          },
          "metadata": {
            "tags": []
          },
          "execution_count": 8
        }
      ]
    },
    {
      "cell_type": "code",
      "metadata": {
        "colab": {
          "base_uri": "https://localhost:8080/"
        },
        "id": "HhhvieQ-UNhB",
        "outputId": "e8751f52-fcb4-4504-ba0c-8576d8b601ae"
      },
      "source": [
        "employees.index"
      ],
      "execution_count": 10,
      "outputs": [
        {
          "output_type": "execute_result",
          "data": {
            "text/plain": [
              "<function list.index>"
            ]
          },
          "metadata": {
            "tags": []
          },
          "execution_count": 10
        }
      ]
    },
    {
      "cell_type": "code",
      "metadata": {
        "id": "k-XZEoFlUsZe"
      },
      "source": [
        "class Person(object):\n",
        "    def __init__(self, name, age, sex, profession):\n",
        "        self.name = name\n",
        "        self.age = age\n",
        "        self.sex = sex\n",
        "        self.profession = profession"
      ],
      "execution_count": 14,
      "outputs": []
    },
    {
      "cell_type": "code",
      "metadata": {
        "id": "nTB3l-l-Un9I"
      },
      "source": [
        "def print_table(objects, attrs, format):\n",
        "    format.heading(attrs)\n",
        "    for obj in objects:\n",
        "        rows = [str(getattr(obj, attr_name)) for attr_name in attrs]\n",
        "        format.contents(rows)"
      ],
      "execution_count": 12,
      "outputs": []
    },
    {
      "cell_type": "code",
      "metadata": {
        "colab": {
          "base_uri": "https://localhost:8080/"
        },
        "id": "Z06V6VRtUO0_",
        "outputId": "31cc07a8-016a-4586-d05e-05cd779ca3f1"
      },
      "source": [
        "class Formatter(object):\n",
        "    def __init__(self, save_file=None):\n",
        "        if save_file:\n",
        "            self.save_file = save_file\n",
        "\n",
        "    def heading(self, headers):\n",
        "        raise NotImplementedError\n",
        "\n",
        "    def contents(self, rows):\n",
        "        raise NotImplementedError\n",
        "\n",
        "\n",
        "class TextFormatter(\n",
        "    Formatter):  # if i want to support width param or add a feature then I would need to init parent and create my var\n",
        "\n",
        "    def __init__(self, save_file=None, width=20):\n",
        "        self.width = width\n",
        "        super().__init__(save_file=save_file)\n",
        "\n",
        "    def heading(self, headers):\n",
        "        for header in headers:\n",
        "            print(header, end='\\t')\n",
        "        print()\n",
        "\n",
        "    def contents(self, rows):\n",
        "        print()\n",
        "        for row in rows:\n",
        "            print({}.format(row), end=\"\\t\")\n",
        "\n",
        "\n",
        "class CVSFormatter(Formatter):\n",
        "    def heading(self, headers):\n",
        "        for header in headers:\n",
        "            print(header, end=',')\n",
        "        print()\n",
        "\n",
        "    def contents(self, rows):\n",
        "        for row in rows:\n",
        "            print('{}'.format(row), end=\",\")\n",
        "        print()\n",
        "\n",
        "\n",
        "class HTMLFormatter(Formatter):\n",
        "    def heading(self, headers):\n",
        "        for header in headers:\n",
        "            print('<h>{}</h>'.format(header), end=' ')\n",
        "        print()\n",
        "\n",
        "    def contents(self, rows):\n",
        "        for row in rows:\n",
        "            print('<t>{}</t>'.format(row), end=\" \")\n",
        "        print()\n",
        "\n",
        "class QuoterMixin(object):\n",
        "    def contents(self, rows):\n",
        "        quoted = ['\"{}\"'.format(text) for text in rows]\n",
        "        super().contents(quoted)\n",
        "\n",
        "class Formatter(QuoterMixin, CVSFormatter):\n",
        "    pass\n",
        "\n",
        "formatter = Formatter()\n",
        "\n",
        "person1 = Person('Thiery Henry', '42', 'M', 'Footballer')\n",
        "person2 = Person('Hernandez Xaxi', '35', 'M', 'Footballer')\n",
        "person3 = Person('Erling Haaland', '21', 'M', 'Footballer')\n",
        "\n",
        "persons = [person1, person2, person3]\n",
        "\n",
        "# Creating a formatter\n",
        "formatter = CVSFormatter()\n",
        "print_table(persons, ['name', 'age', 'profession'], format=formatter)\n",
        "\n",
        "# Creating another formatter\n",
        "formatter = HTMLFormatter()\n",
        "print_table(persons, ['name', 'age', 'profession'], format=formatter)"
      ],
      "execution_count": 16,
      "outputs": [
        {
          "output_type": "stream",
          "text": [
            "name,age,profession,\n",
            "Thiery Henry,42,Footballer,\n",
            "Hernandez Xaxi,35,Footballer,\n",
            "Erling Haaland,21,Footballer,\n",
            "<h>name</h> <h>age</h> <h>profession</h> \n",
            "<t>Thiery Henry</t> <t>42</t> <t>Footballer</t> \n",
            "<t>Hernandez Xaxi</t> <t>35</t> <t>Footballer</t> \n",
            "<t>Erling Haaland</t> <t>21</t> <t>Footballer</t> \n"
          ],
          "name": "stdout"
        }
      ]
    }
  ]
}