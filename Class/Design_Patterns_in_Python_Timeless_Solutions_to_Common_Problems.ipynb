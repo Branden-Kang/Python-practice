{
  "nbformat": 4,
  "nbformat_minor": 0,
  "metadata": {
    "colab": {
      "provenance": [],
      "authorship_tag": "ABX9TyMktabZ5kplcC1uvac1vk9A"
    },
    "kernelspec": {
      "name": "python3",
      "display_name": "Python 3"
    },
    "language_info": {
      "name": "python"
    }
  },
  "cells": [
    {
      "cell_type": "markdown",
      "source": [
        "[Reference](https://blog.scriptserpent.club/design-patterns-in-python-timeless-solutions-to-common-problems-a22605c65bf8)"
      ],
      "metadata": {
        "id": "nB3k6qByZKEY"
      }
    },
    {
      "cell_type": "markdown",
      "source": [
        "# Singleton Pattern"
      ],
      "metadata": {
        "id": "z3qksi2FZPx1"
      }
    },
    {
      "cell_type": "code",
      "execution_count": 2,
      "metadata": {
        "colab": {
          "base_uri": "https://localhost:8080/"
        },
        "id": "CYcZeKL9Yfhf",
        "outputId": "d98f3198-1a3d-4740-e1ba-8c566128f52c"
      },
      "outputs": [
        {
          "output_type": "stream",
          "name": "stdout",
          "text": [
            "<__main__.Singleton object at 0x7f5bd6712d70>\n",
            "<__main__.Singleton object at 0x7f5bd6712d70>\n"
          ]
        }
      ],
      "source": [
        "class Singleton:\n",
        "    __instance = None\n",
        "    @staticmethod\n",
        "    def getInstance():\n",
        "        if Singleton.__instance == None:\n",
        "            Singleton()\n",
        "        return Singleton.__instance\n",
        "    def __init__(self):\n",
        "        if Singleton.__instance != None:\n",
        "            raise Exception(\"This class is a singleton!\")\n",
        "        else:\n",
        "            Singleton.__instance = self\n",
        "# Usage\n",
        "s = Singleton.getInstance()\n",
        "print(s)\n",
        "s2 = Singleton.getInstance()\n",
        "print(s2)"
      ]
    },
    {
      "cell_type": "markdown",
      "source": [
        "# Factory Method Pattern"
      ],
      "metadata": {
        "id": "xEk087euZcHv"
      }
    },
    {
      "cell_type": "code",
      "source": [
        "class Button:\n",
        "    def render(self):\n",
        "        pass\n",
        "class WindowsButton(Button):\n",
        "    def render(self):\n",
        "        return \"Windows Button Rendered\"\n",
        "class MacOSButton(Button):\n",
        "    def render(self):\n",
        "        return \"MacOS Button Rendered\"\n",
        "def get_button(os):\n",
        "    if os == \"Windows\":\n",
        "        return WindowsButton()\n",
        "    elif os == \"MacOS\":\n",
        "        return MacOSButton()\n",
        "# Usage\n",
        "button = get_button(\"Windows\")\n",
        "print(button.render())\n",
        "button2 = get_button(\"MacOS\")\n",
        "print(button2.render())"
      ],
      "metadata": {
        "colab": {
          "base_uri": "https://localhost:8080/"
        },
        "id": "KVfUfj_4ZROZ",
        "outputId": "60c13cb8-8254-4095-9cc6-b0cc1045f0e2"
      },
      "execution_count": 3,
      "outputs": [
        {
          "output_type": "stream",
          "name": "stdout",
          "text": [
            "Windows Button Rendered\n",
            "MacOS Button Rendered\n"
          ]
        }
      ]
    },
    {
      "cell_type": "markdown",
      "source": [
        "# Observer Pattern"
      ],
      "metadata": {
        "id": "--Fba7r9Zemc"
      }
    },
    {
      "cell_type": "code",
      "source": [
        "class Subject:\n",
        "    def __init__(self):\n",
        "        self.__observers = []\n",
        "    def register_observer(self, observer):\n",
        "        self.__observers.append(observer)\n",
        "    def notify_observers(self, message):\n",
        "        for observer in self.__observers:\n",
        "            observer.notify(message)\n",
        "class Observer:\n",
        "    def notify(self, message):\n",
        "        pass\n",
        "class EmailAlerts(Observer):\n",
        "    def notify(self, message):\n",
        "        print(f\"Email Alert: {message}\")\n",
        "class SMSAlerts(Observer):\n",
        "    def notify(self, message):\n",
        "        print(f\"SMS Alert: {message}\")\n",
        "# Usage\n",
        "subject = Subject()\n",
        "email_alerts = EmailAlerts()\n",
        "sms_alerts = SMSAlerts()\n",
        "subject.register_observer(email_alerts)\n",
        "subject.register_observer(sms_alerts)\n",
        "subject.notify_observers(\"Server Down!\")"
      ],
      "metadata": {
        "colab": {
          "base_uri": "https://localhost:8080/"
        },
        "id": "Dy8-LNraZdsY",
        "outputId": "d588cb79-1ca9-447e-e172-d4d4a94a6feb"
      },
      "execution_count": 6,
      "outputs": [
        {
          "output_type": "stream",
          "name": "stdout",
          "text": [
            "Email Alert: Server Down!\n",
            "SMS Alert: Server Down!\n"
          ]
        }
      ]
    }
  ]
}
