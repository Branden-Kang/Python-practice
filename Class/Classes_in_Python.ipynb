{
  "nbformat": 4,
  "nbformat_minor": 0,
  "metadata": {
    "colab": {
      "name": "Classes in Python.ipynb",
      "provenance": [],
      "authorship_tag": "ABX9TyPz7GCMdjgZRMQkUeDtu67w"
    },
    "kernelspec": {
      "name": "python3",
      "display_name": "Python 3"
    }
  },
  "cells": [
    {
      "cell_type": "markdown",
      "metadata": {
        "id": "HAfprboqz6PK"
      },
      "source": [
        "[Reference](https://towardsdatascience.com/a-comprehensive-guide-for-classes-in-python-e6bb72a25a5e)"
      ]
    },
    {
      "cell_type": "code",
      "metadata": {
        "colab": {
          "base_uri": "https://localhost:8080/"
        },
        "id": "MAwfRI35z5Bm",
        "outputId": "72e46d43-040f-4c0d-ece1-e05434442a76"
      },
      "source": [
        "words = ['data', 'science', 'machine', 'learning']\n",
        "words.remove('data')\n",
        "print(words)"
      ],
      "execution_count": 2,
      "outputs": [
        {
          "output_type": "stream",
          "text": [
            "['science', 'machine', 'learning']\n"
          ],
          "name": "stdout"
        }
      ]
    },
    {
      "cell_type": "code",
      "metadata": {
        "id": "wGNnGr79z9iH"
      },
      "source": [
        "class Book():  \n",
        "    def __init__(self, name, writer, word_length):\n",
        "        self.name = name\n",
        "        self.writer = writer\n",
        "        self.word_length = word_length"
      ],
      "execution_count": 4,
      "outputs": []
    },
    {
      "cell_type": "code",
      "metadata": {
        "colab": {
          "base_uri": "https://localhost:8080/"
        },
        "id": "6o7cBPQ8z_K6",
        "outputId": "752d8452-d781-4d80-f624-95d7cddb9203"
      },
      "source": [
        "b1 = Book(\"Pandas\", \"John Doe\", 100000)\n",
        "print(type(b1))"
      ],
      "execution_count": 5,
      "outputs": [
        {
          "output_type": "stream",
          "text": [
            "<class '__main__.Book'>\n"
          ],
          "name": "stdout"
        }
      ]
    },
    {
      "cell_type": "code",
      "metadata": {
        "colab": {
          "base_uri": "https://localhost:8080/"
        },
        "id": "HB2vTGjS0DV0",
        "outputId": "d46a433f-32f2-4695-d4e7-0c7214555440"
      },
      "source": [
        "print(b1.name)"
      ],
      "execution_count": 6,
      "outputs": [
        {
          "output_type": "stream",
          "text": [
            "Pandas\n"
          ],
          "name": "stdout"
        }
      ]
    },
    {
      "cell_type": "code",
      "metadata": {
        "colab": {
          "base_uri": "https://localhost:8080/"
        },
        "id": "Y9FALkHz0Elp",
        "outputId": "3ea8c340-d380-4de5-8bc6-3c6738ed86aa"
      },
      "source": [
        "b1.name = 'NumPy' #updates the name attribute\n",
        "print(b1.name)"
      ],
      "execution_count": 8,
      "outputs": [
        {
          "output_type": "stream",
          "text": [
            "NumPy\n"
          ],
          "name": "stdout"
        }
      ]
    },
    {
      "cell_type": "code",
      "metadata": {
        "id": "frSNcqwv0Fk6"
      },
      "source": [
        "class Book():  \n",
        "    def __init__(self, name, writer, word_length):\n",
        "        self.name = name\n",
        "        self.writer = writer\n",
        "        self.word_length = word_length\n",
        "    def number_of_pages(self, fontsize=12):\n",
        "        word_length = self.word_length\n",
        "        if fontsize == 12:\n",
        "            words_in_page = 300\n",
        "        else:\n",
        "            words_in_page = 300 - (fontsize - 12) * 10\n",
        "        return round(word_length / words_in_page)"
      ],
      "execution_count": 10,
      "outputs": []
    },
    {
      "cell_type": "code",
      "metadata": {
        "colab": {
          "base_uri": "https://localhost:8080/"
        },
        "id": "HR2IEJVD0IOo",
        "outputId": "b3b199e6-d398-4ff4-9dba-8c5d586b67ce"
      },
      "source": [
        "b1 = Book(\"Pandas\", \"John Doe\", 100000)\n",
        "b1.number_of_pages()"
      ],
      "execution_count": 11,
      "outputs": [
        {
          "output_type": "execute_result",
          "data": {
            "text/plain": [
              "333"
            ]
          },
          "metadata": {
            "tags": []
          },
          "execution_count": 11
        }
      ]
    },
    {
      "cell_type": "code",
      "metadata": {
        "colab": {
          "base_uri": "https://localhost:8080/"
        },
        "id": "apXBRkwv0OxJ",
        "outputId": "099c28a9-c6be-4a00-c309-d429eea1990f"
      },
      "source": [
        "Book.number_of_pages(b1)"
      ],
      "execution_count": 12,
      "outputs": [
        {
          "output_type": "execute_result",
          "data": {
            "text/plain": [
              "333"
            ]
          },
          "metadata": {
            "tags": []
          },
          "execution_count": 12
        }
      ]
    },
    {
      "cell_type": "code",
      "metadata": {
        "colab": {
          "base_uri": "https://localhost:8080/"
        },
        "id": "6fqpRWD00PzB",
        "outputId": "d1879711-b366-4ce8-8d1e-07025f63780b"
      },
      "source": [
        "b1.number_of_pages(14)"
      ],
      "execution_count": 13,
      "outputs": [
        {
          "output_type": "execute_result",
          "data": {
            "text/plain": [
              "357"
            ]
          },
          "metadata": {
            "tags": []
          },
          "execution_count": 13
        }
      ]
    },
    {
      "cell_type": "code",
      "metadata": {
        "colab": {
          "base_uri": "https://localhost:8080/"
        },
        "id": "hyYlQWeq0RCc",
        "outputId": "2db25753-1d5a-4f62-92e2-66dc98dabbaf"
      },
      "source": [
        "b1.number_of_pages(fontsize=16)"
      ],
      "execution_count": 14,
      "outputs": [
        {
          "output_type": "execute_result",
          "data": {
            "text/plain": [
              "385"
            ]
          },
          "metadata": {
            "tags": []
          },
          "execution_count": 14
        }
      ]
    },
    {
      "cell_type": "code",
      "metadata": {
        "colab": {
          "base_uri": "https://localhost:8080/"
        },
        "id": "_ASeY_hr0RpB",
        "outputId": "fbe5b377-5c3d-426c-ebd5-57178ad044fd"
      },
      "source": [
        "print(b1)"
      ],
      "execution_count": 15,
      "outputs": [
        {
          "output_type": "stream",
          "text": [
            "<__main__.Book object at 0x7fbd58e1e080>\n"
          ],
          "name": "stdout"
        }
      ]
    },
    {
      "cell_type": "code",
      "metadata": {
        "id": "l9TNGrgD0SeJ"
      },
      "source": [
        "def __str__(self):\n",
        "  return \"<\" + self.name + \", by \" + self.writer + \">\""
      ],
      "execution_count": 16,
      "outputs": []
    },
    {
      "cell_type": "code",
      "metadata": {
        "colab": {
          "base_uri": "https://localhost:8080/"
        },
        "id": "DTjSiKBq0UAx",
        "outputId": "a169136c-6d70-4668-d17f-385825785301"
      },
      "source": [
        "print(b1)"
      ],
      "execution_count": 17,
      "outputs": [
        {
          "output_type": "stream",
          "text": [
            "<__main__.Book object at 0x7fbd58e1e080>\n"
          ],
          "name": "stdout"
        }
      ]
    },
    {
      "cell_type": "code",
      "metadata": {
        "id": "HaBMjrmj0Uz7"
      },
      "source": [
        "class Book():  \n",
        "    page_width = 14\n",
        "    cover_color = \"blue\"  \n",
        "    \n",
        "    def __init__(self, name, writer, word_length):\n",
        "        self.name = name\n",
        "        self.writer = writer\n",
        "        self.word_length = word_length"
      ],
      "execution_count": 19,
      "outputs": []
    },
    {
      "cell_type": "code",
      "metadata": {
        "id": "Z69aPJhu0WDi"
      },
      "source": [
        "b2 = Book(\"Machine Learning\", \"Jane Doe\", 120000)"
      ],
      "execution_count": 20,
      "outputs": []
    },
    {
      "cell_type": "code",
      "metadata": {
        "colab": {
          "base_uri": "https://localhost:8080/"
        },
        "id": "X78MwC0e0aRE",
        "outputId": "34756050-28ce-4a66-8569-3840706921a2"
      },
      "source": [
        "b2.page_width"
      ],
      "execution_count": 21,
      "outputs": [
        {
          "output_type": "execute_result",
          "data": {
            "text/plain": [
              "14"
            ]
          },
          "metadata": {
            "tags": []
          },
          "execution_count": 21
        }
      ]
    },
    {
      "cell_type": "code",
      "metadata": {
        "colab": {
          "base_uri": "https://localhost:8080/",
          "height": 37
        },
        "id": "OKcu76SX0bzj",
        "outputId": "b7a387de-4be8-4e7d-80cd-05330b2b6013"
      },
      "source": [
        "b2.cover_color"
      ],
      "execution_count": 22,
      "outputs": [
        {
          "output_type": "execute_result",
          "data": {
            "application/vnd.google.colaboratory.intrinsic+json": {
              "type": "string"
            },
            "text/plain": [
              "'blue'"
            ]
          },
          "metadata": {
            "tags": []
          },
          "execution_count": 22
        }
      ]
    },
    {
      "cell_type": "code",
      "metadata": {
        "colab": {
          "base_uri": "https://localhost:8080/",
          "height": 37
        },
        "id": "-fqjT1rp0b8N",
        "outputId": "b060b3ba-749a-41e8-f8f4-3c1c92838ef9"
      },
      "source": [
        "b2.cover_color = 'red'\n",
        "b2.cover_color"
      ],
      "execution_count": 23,
      "outputs": [
        {
          "output_type": "execute_result",
          "data": {
            "application/vnd.google.colaboratory.intrinsic+json": {
              "type": "string"
            },
            "text/plain": [
              "'red'"
            ]
          },
          "metadata": {
            "tags": []
          },
          "execution_count": 23
        }
      ]
    },
    {
      "cell_type": "code",
      "metadata": {
        "colab": {
          "base_uri": "https://localhost:8080/",
          "height": 37
        },
        "id": "f6TThI6t0ddY",
        "outputId": "cdd2c595-6bd4-4daa-f042-010855edaddc"
      },
      "source": [
        "Book.cover_color"
      ],
      "execution_count": 24,
      "outputs": [
        {
          "output_type": "execute_result",
          "data": {
            "application/vnd.google.colaboratory.intrinsic+json": {
              "type": "string"
            },
            "text/plain": [
              "'blue'"
            ]
          },
          "metadata": {
            "tags": []
          },
          "execution_count": 24
        }
      ]
    },
    {
      "cell_type": "code",
      "metadata": {
        "id": "UOZ993Eu0ejM"
      },
      "source": [
        "class ColorBook(Book):  \n",
        "    def __init__(self, name, writer, word_length, color, has_image):\n",
        "        Book.__init__(self, name, writer, word_length)\n",
        "        self.color = color\n",
        "        self.has_image = has_image\n",
        "    def __str__(self):\n",
        "        return \"<\" + self.name + \", in \" + self.color + \">\"\n",
        "        \n",
        "    def number_of_pages(self, fontsize=12):\n",
        "        word_length = self.word_length\n",
        "        if fontsize == 12:\n",
        "            words_in_page = 300\n",
        "        else:\n",
        "            words_in_page = 300 - (fontsize - 12) * 10\n",
        "        return round(word_length / words_in_page)"
      ],
      "execution_count": 37,
      "outputs": []
    },
    {
      "cell_type": "code",
      "metadata": {
        "colab": {
          "base_uri": "https://localhost:8080/",
          "height": 37
        },
        "id": "2YMR_-ed0hjF",
        "outputId": "40cf6fd9-4a1b-4fb5-f5b9-449ccc77fea5"
      },
      "source": [
        "c1 = ColorBook(\"Seaborn\", \"John Doe\", 90000, \"green\", True)\n",
        "c1.name"
      ],
      "execution_count": 39,
      "outputs": [
        {
          "output_type": "execute_result",
          "data": {
            "application/vnd.google.colaboratory.intrinsic+json": {
              "type": "string"
            },
            "text/plain": [
              "'Seaborn'"
            ]
          },
          "metadata": {
            "tags": []
          },
          "execution_count": 39
        }
      ]
    },
    {
      "cell_type": "code",
      "metadata": {
        "colab": {
          "base_uri": "https://localhost:8080/",
          "height": 37
        },
        "id": "wMOp9CDq0lqx",
        "outputId": "891de5ad-5f8c-465f-e232-2b891c1cc1de"
      },
      "source": [
        "c1.color"
      ],
      "execution_count": 40,
      "outputs": [
        {
          "output_type": "execute_result",
          "data": {
            "application/vnd.google.colaboratory.intrinsic+json": {
              "type": "string"
            },
            "text/plain": [
              "'green'"
            ]
          },
          "metadata": {
            "tags": []
          },
          "execution_count": 40
        }
      ]
    },
    {
      "cell_type": "code",
      "metadata": {
        "colab": {
          "base_uri": "https://localhost:8080/",
          "height": 37
        },
        "id": "glpYbTyS0nld",
        "outputId": "b9c9e278-9d2d-456a-9480-ae4437e97cc3"
      },
      "source": [
        "c1.cover_color"
      ],
      "execution_count": 41,
      "outputs": [
        {
          "output_type": "execute_result",
          "data": {
            "application/vnd.google.colaboratory.intrinsic+json": {
              "type": "string"
            },
            "text/plain": [
              "'blue'"
            ]
          },
          "metadata": {
            "tags": []
          },
          "execution_count": 41
        }
      ]
    },
    {
      "cell_type": "code",
      "metadata": {
        "colab": {
          "base_uri": "https://localhost:8080/"
        },
        "id": "acYPgV7g0oas",
        "outputId": "cd628605-b1e3-47ec-8bf2-af04e67276c9"
      },
      "source": [
        "c1.page_width"
      ],
      "execution_count": 42,
      "outputs": [
        {
          "output_type": "execute_result",
          "data": {
            "text/plain": [
              "14"
            ]
          },
          "metadata": {
            "tags": []
          },
          "execution_count": 42
        }
      ]
    },
    {
      "cell_type": "code",
      "metadata": {
        "colab": {
          "base_uri": "https://localhost:8080/"
        },
        "id": "-dRbtRQZ0pQZ",
        "outputId": "86eeac72-8de4-4847-ff7e-45830336d5ed"
      },
      "source": [
        "c1.number_of_pages()"
      ],
      "execution_count": 43,
      "outputs": [
        {
          "output_type": "execute_result",
          "data": {
            "text/plain": [
              "300"
            ]
          },
          "metadata": {
            "tags": []
          },
          "execution_count": 43
        }
      ]
    },
    {
      "cell_type": "code",
      "metadata": {
        "colab": {
          "base_uri": "https://localhost:8080/"
        },
        "id": "i4aou8CG0rab",
        "outputId": "331d136f-bd24-44cb-a8ff-954efb5a44ef"
      },
      "source": [
        "print(c1)"
      ],
      "execution_count": 32,
      "outputs": [
        {
          "output_type": "stream",
          "text": [
            "<__main__.ColorBook object at 0x7fbd58e2b1d0>\n"
          ],
          "name": "stdout"
        }
      ]
    },
    {
      "cell_type": "code",
      "metadata": {
        "colab": {
          "base_uri": "https://localhost:8080/"
        },
        "id": "qMh-AKCn0rjv",
        "outputId": "9c9cc7ae-79f9-40ca-f4b6-fc1b83ad9a81"
      },
      "source": [
        "c1 = ColorBook(\"Seaborn\", \"John Doe\", 90000, \"green\", True)\n",
        "print(c1)"
      ],
      "execution_count": 34,
      "outputs": [
        {
          "output_type": "stream",
          "text": [
            "<Seaborn, in green>\n"
          ],
          "name": "stdout"
        }
      ]
    }
  ]
}