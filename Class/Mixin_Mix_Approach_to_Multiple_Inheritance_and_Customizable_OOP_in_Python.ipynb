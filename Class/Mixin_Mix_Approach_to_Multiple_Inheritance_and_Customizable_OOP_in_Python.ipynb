{
  "nbformat": 4,
  "nbformat_minor": 0,
  "metadata": {
    "colab": {
      "provenance": [],
      "authorship_tag": "ABX9TyO+2+OtiAUR3YxHlDfakvXC"
    },
    "kernelspec": {
      "name": "python3",
      "display_name": "Python 3"
    },
    "language_info": {
      "name": "python"
    }
  },
  "cells": [
    {
      "cell_type": "markdown",
      "source": [
        "[Reference](https://medium.com/@HeCanThink/mixin-mix-approach-to-multiple-inheritance-and-customizable-oop-in-python-%EF%B8%8F-1fb31575e344)"
      ],
      "metadata": {
        "id": "UdhXS81EVhg_"
      }
    },
    {
      "cell_type": "code",
      "execution_count": 1,
      "metadata": {
        "colab": {
          "base_uri": "https://localhost:8080/"
        },
        "id": "vZec1OggVLKz",
        "outputId": "65e6ec0c-7347-43b8-94c0-7964181be86b"
      },
      "outputs": [
        {
          "output_type": "stream",
          "name": "stdout",
          "text": [
            "PrintablePerson: {'name': 'Alice', 'age': 30}\n",
            "PrintableCar: {'make': 'Toyota', 'model': 'Camry'}\n"
          ]
        }
      ],
      "source": [
        "# Mixin providing a printable representation for a class\n",
        "class PrintableMixin:\n",
        "    def __str__(self):\n",
        "        return f\"{self.__class__.__name__}: {self.__dict__}\"\n",
        "\n",
        "# Example classes using the mixin\n",
        "class Person:\n",
        "    def __init__(self, name, age):\n",
        "        self.name = name\n",
        "        self.age = age\n",
        "\n",
        "class Car:\n",
        "    def __init__(self, make, model):\n",
        "        self.make = make\n",
        "        self.model = model\n",
        "\n",
        "# Applying the mixin to the classes\n",
        "class PrintablePerson(Person, PrintableMixin):\n",
        "    pass\n",
        "\n",
        "class PrintableCar(Car, PrintableMixin):\n",
        "    pass\n",
        "\n",
        "# Usage\n",
        "person = PrintablePerson(\"Alice\", 30)\n",
        "car = PrintableCar(\"Toyota\", \"Camry\")\n",
        "\n",
        "print(person)\n",
        "print(car)"
      ]
    },
    {
      "cell_type": "code",
      "source": [
        "# Mixin providing sound-making functionality\n",
        "class SoundMixin:\n",
        "    def make_sound(self):\n",
        "        raise NotImplementedError(\"Subclasses must implement the make_sound method.\")\n",
        "\n",
        "# Example vehicle classes using the SoundMixin\n",
        "class Car(SoundMixin):\n",
        "    def __init__(self, make, model):\n",
        "        self.make = make\n",
        "        self.model = model\n",
        "\n",
        "    def make_sound(self):\n",
        "        return \"Vroom!\"\n",
        "\n",
        "class Bicycle(SoundMixin):\n",
        "    def __init__(self, brand):\n",
        "        self.brand = brand\n",
        "\n",
        "    def make_sound(self):\n",
        "        return \"Ring ring!\"\n",
        "\n",
        "class Plane(SoundMixin):\n",
        "    def __init__(self, manufacturer):\n",
        "        self.manufacturer = manufacturer\n",
        "\n",
        "    # No make_sound implementation for the Plane, it will use the one from SoundMixin\n",
        "\n",
        "# Usage\n",
        "car = Car(\"Toyota\", \"Camry\")\n",
        "bicycle = Bicycle(\"Schwinn\")\n",
        "plane = Plane(\"Boeing\")\n",
        "\n",
        "print(car.make_sound())\n",
        "print(bicycle.make_sound())\n",
        "print(plane.make_sound())"
      ],
      "metadata": {
        "colab": {
          "base_uri": "https://localhost:8080/",
          "height": 361
        },
        "id": "O7teOpr0V8z5",
        "outputId": "ac4bdca8-c392-400f-e40b-a5f987f76236"
      },
      "execution_count": 2,
      "outputs": [
        {
          "output_type": "stream",
          "name": "stdout",
          "text": [
            "Vroom!\n",
            "Ring ring!\n"
          ]
        },
        {
          "output_type": "error",
          "ename": "NotImplementedError",
          "evalue": "ignored",
          "traceback": [
            "\u001b[0;31m---------------------------------------------------------------------------\u001b[0m",
            "\u001b[0;31mNotImplementedError\u001b[0m                       Traceback (most recent call last)",
            "\u001b[0;32m<ipython-input-2-eadd069a7a4a>\u001b[0m in \u001b[0;36m<cell line: 35>\u001b[0;34m()\u001b[0m\n\u001b[1;32m     33\u001b[0m \u001b[0mprint\u001b[0m\u001b[0;34m(\u001b[0m\u001b[0mcar\u001b[0m\u001b[0;34m.\u001b[0m\u001b[0mmake_sound\u001b[0m\u001b[0;34m(\u001b[0m\u001b[0;34m)\u001b[0m\u001b[0;34m)\u001b[0m\u001b[0;34m\u001b[0m\u001b[0;34m\u001b[0m\u001b[0m\n\u001b[1;32m     34\u001b[0m \u001b[0mprint\u001b[0m\u001b[0;34m(\u001b[0m\u001b[0mbicycle\u001b[0m\u001b[0;34m.\u001b[0m\u001b[0mmake_sound\u001b[0m\u001b[0;34m(\u001b[0m\u001b[0;34m)\u001b[0m\u001b[0;34m)\u001b[0m\u001b[0;34m\u001b[0m\u001b[0;34m\u001b[0m\u001b[0m\n\u001b[0;32m---> 35\u001b[0;31m \u001b[0mprint\u001b[0m\u001b[0;34m(\u001b[0m\u001b[0mplane\u001b[0m\u001b[0;34m.\u001b[0m\u001b[0mmake_sound\u001b[0m\u001b[0;34m(\u001b[0m\u001b[0;34m)\u001b[0m\u001b[0;34m)\u001b[0m\u001b[0;34m\u001b[0m\u001b[0;34m\u001b[0m\u001b[0m\n\u001b[0m",
            "\u001b[0;32m<ipython-input-2-eadd069a7a4a>\u001b[0m in \u001b[0;36mmake_sound\u001b[0;34m(self)\u001b[0m\n\u001b[1;32m      2\u001b[0m \u001b[0;32mclass\u001b[0m \u001b[0mSoundMixin\u001b[0m\u001b[0;34m:\u001b[0m\u001b[0;34m\u001b[0m\u001b[0;34m\u001b[0m\u001b[0m\n\u001b[1;32m      3\u001b[0m     \u001b[0;32mdef\u001b[0m \u001b[0mmake_sound\u001b[0m\u001b[0;34m(\u001b[0m\u001b[0mself\u001b[0m\u001b[0;34m)\u001b[0m\u001b[0;34m:\u001b[0m\u001b[0;34m\u001b[0m\u001b[0;34m\u001b[0m\u001b[0m\n\u001b[0;32m----> 4\u001b[0;31m         \u001b[0;32mraise\u001b[0m \u001b[0mNotImplementedError\u001b[0m\u001b[0;34m(\u001b[0m\u001b[0;34m\"Subclasses must implement the make_sound method.\"\u001b[0m\u001b[0;34m)\u001b[0m\u001b[0;34m\u001b[0m\u001b[0;34m\u001b[0m\u001b[0m\n\u001b[0m\u001b[1;32m      5\u001b[0m \u001b[0;34m\u001b[0m\u001b[0m\n\u001b[1;32m      6\u001b[0m \u001b[0;31m# Example vehicle classes using the SoundMixin\u001b[0m\u001b[0;34m\u001b[0m\u001b[0;34m\u001b[0m\u001b[0m\n",
            "\u001b[0;31mNotImplementedError\u001b[0m: Subclasses must implement the make_sound method."
          ]
        }
      ]
    }
  ]
}
