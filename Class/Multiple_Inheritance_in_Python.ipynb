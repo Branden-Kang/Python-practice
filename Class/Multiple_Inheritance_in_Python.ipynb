{
  "nbformat": 4,
  "nbformat_minor": 0,
  "metadata": {
    "colab": {
      "name": "Multiple Inheritance in Python.ipynb",
      "provenance": [],
      "authorship_tag": "ABX9TyNY1kzfCKDZB9NMWd2JNRbT"
    },
    "kernelspec": {
      "name": "python3",
      "display_name": "Python 3"
    },
    "language_info": {
      "name": "python"
    }
  },
  "cells": [
    {
      "cell_type": "markdown",
      "metadata": {
        "id": "8Iof-QMzNsAn"
      },
      "source": [
        "[Reference](https://medium.com/the-kickstarter/multiple-inheritance-in-python-84258756e04c)"
      ]
    },
    {
      "cell_type": "code",
      "metadata": {
        "colab": {
          "base_uri": "https://localhost:8080/"
        },
        "id": "UUkUM6aHNb4n",
        "outputId": "06d3cdc9-e942-4056-ce00-970cf0b4b150"
      },
      "source": [
        "# Parent Class\n",
        "class Person:\n",
        "    def __init__(self, personAge, personName):\n",
        "        self.age = personAge\n",
        "        self.name = personName\n",
        "    \n",
        "    def printAge(self):\n",
        "        print(self.age)\n",
        "        \n",
        "    def printName(self):\n",
        "        print(self.name)\n",
        "\n",
        "# Child Class\n",
        "class Employee(Person):\n",
        "    def __init__(self, age, name, employeeId):\n",
        "        Person.__init__(self, age, name)\n",
        "        self.id = employeeId\n",
        "        \n",
        "    def printId(self):\n",
        "        print(self.id)\n",
        "\n",
        "employee = Employee('Dave', '27', '14763182')\n",
        "employee.printAge()\n",
        "employee.printId()"
      ],
      "execution_count": 1,
      "outputs": [
        {
          "output_type": "stream",
          "text": [
            "Dave\n",
            "14763182\n"
          ],
          "name": "stdout"
        }
      ]
    },
    {
      "cell_type": "code",
      "metadata": {
        "colab": {
          "base_uri": "https://localhost:8080/"
        },
        "id": "_VoP76AcNd8U",
        "outputId": "6b12b3df-3b1b-4052-fc89-d46c7fe408c1"
      },
      "source": [
        "# Parent Class\n",
        "class Class1:\n",
        "    def class1Method(self):\n",
        "        print('This is class 1')\n",
        "\n",
        "# Parent Class\n",
        "class Class2:\n",
        "    def class2Method(self):\n",
        "        print('This is class 2')\n",
        "\n",
        "# Child Class\n",
        "class ClassOverview(Class1, Class2):\n",
        "    pass\n",
        "\n",
        "classes = ClassOverview()\n",
        "classes.class1Method()\n",
        "classes.class2Method()"
      ],
      "execution_count": 2,
      "outputs": [
        {
          "output_type": "stream",
          "text": [
            "This is class 1\n",
            "This is class 2\n"
          ],
          "name": "stdout"
        }
      ]
    },
    {
      "cell_type": "code",
      "metadata": {
        "colab": {
          "base_uri": "https://localhost:8080/"
        },
        "id": "iNwTAegSNoHk",
        "outputId": "34ac129b-92c0-4f61-e8f5-8e3ef6db0bc8"
      },
      "source": [
        "print(classes.__class__.__mro__)"
      ],
      "execution_count": 3,
      "outputs": [
        {
          "output_type": "stream",
          "text": [
            "(<class '__main__.ClassOverview'>, <class '__main__.Class1'>, <class '__main__.Class2'>, <class 'object'>)\n"
          ],
          "name": "stdout"
        }
      ]
    },
    {
      "cell_type": "code",
      "metadata": {
        "id": "kBTY6aN8NyhH"
      },
      "source": [
        "class A:\n",
        "    def help(self):\n",
        "        print(\"Class A called for help\")\n",
        "\n",
        "class B(A):\n",
        "    def help(self):\n",
        "        print(\"Class B called for help\")\n",
        "    \n",
        "class C(A):\n",
        "    def help(self):\n",
        "        print(\"Class C called for help\")\n",
        "\n",
        "class D(B,C):\n",
        "    pass"
      ],
      "execution_count": 4,
      "outputs": []
    },
    {
      "cell_type": "code",
      "metadata": {
        "id": "xrMDFbkWNyqj"
      },
      "source": [
        "class B(A):\n",
        "    def help(self):\n",
        "        print(\"Class B called for help\")\n",
        "        A.help(self)\n",
        "class C(A):\n",
        "    def help(self):\n",
        "        print(\"Class C called for help\")\n",
        "        A.help(self)"
      ],
      "execution_count": 5,
      "outputs": []
    },
    {
      "cell_type": "code",
      "metadata": {
        "id": "Ye9eFvPINz_6"
      },
      "source": [
        "class A:\n",
        "    def help(self):\n",
        "        print(\"Class A called for help\")\n",
        "\n",
        "class B(A):\n",
        "    def help(self):\n",
        "        print(\"Class B called for help\")\n",
        "        super().help()\n",
        "    \n",
        "class C(A):\n",
        "    def help(self):\n",
        "        print(\"Class Called for help\")\n",
        "        super().help()\n",
        "\n",
        "class D(B,C):\n",
        "    pass"
      ],
      "execution_count": 6,
      "outputs": []
    }
  ]
}