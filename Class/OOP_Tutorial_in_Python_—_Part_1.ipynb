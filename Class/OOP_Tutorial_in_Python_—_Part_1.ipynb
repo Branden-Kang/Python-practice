{
  "nbformat": 4,
  "nbformat_minor": 0,
  "metadata": {
    "colab": {
      "provenance": [],
      "collapsed_sections": [],
      "authorship_tag": "ABX9TyP4LoGwOpKWxaEvfyyoR+AO"
    },
    "kernelspec": {
      "name": "python3",
      "display_name": "Python 3"
    },
    "language_info": {
      "name": "python"
    }
  },
  "cells": [
    {
      "cell_type": "markdown",
      "source": [
        "[Reference](https://medium.com/@bdadon50/oop-tutorial-in-python-part-1-697c8a78ad0c)"
      ],
      "metadata": {
        "id": "Gudkjcdfhfgx"
      }
    },
    {
      "cell_type": "markdown",
      "source": [
        "# Part #1 — Explaining OOP\n",
        "OOP stands for Object-Oriented Programming. It is simply a style of coding that a programmer can choose to employ."
      ],
      "metadata": {
        "id": "cFOWz_c8hieX"
      }
    },
    {
      "cell_type": "markdown",
      "source": [
        "# Part #2 — Creating a Class\n"
      ],
      "metadata": {
        "id": "d65CYVuthod3"
      }
    },
    {
      "cell_type": "code",
      "execution_count": 1,
      "metadata": {
        "id": "l2etebTFhScs"
      },
      "outputs": [],
      "source": [
        "class Pokemon:\n",
        "    pass"
      ]
    },
    {
      "cell_type": "code",
      "source": [
        "# Creating a Pokemon\n",
        "pokemon1 = Pokemon()"
      ],
      "metadata": {
        "id": "HXNrDHJFhp7p"
      },
      "execution_count": 2,
      "outputs": []
    },
    {
      "cell_type": "code",
      "source": [
        "# Checking the class of pokemon1 \n",
        "print(type(pokemon1))"
      ],
      "metadata": {
        "colab": {
          "base_uri": "https://localhost:8080/"
        },
        "id": "RQl6NTw5hrws",
        "outputId": "4bb4b218-ce45-4d52-f39b-30ec4df07e67"
      },
      "execution_count": 3,
      "outputs": [
        {
          "output_type": "stream",
          "name": "stdout",
          "text": [
            "<class '__main__.Pokemon'>\n"
          ]
        }
      ]
    },
    {
      "cell_type": "code",
      "source": [
        "# Check built-in methods\n",
        "print(dir(pokemon1))"
      ],
      "metadata": {
        "colab": {
          "base_uri": "https://localhost:8080/"
        },
        "id": "E638lWjWhr3k",
        "outputId": "80bbee46-9513-4dcd-c79c-b59d00ad6711"
      },
      "execution_count": 4,
      "outputs": [
        {
          "output_type": "stream",
          "name": "stdout",
          "text": [
            "['__class__', '__delattr__', '__dict__', '__dir__', '__doc__', '__eq__', '__format__', '__ge__', '__getattribute__', '__gt__', '__hash__', '__init__', '__init_subclass__', '__le__', '__lt__', '__module__', '__ne__', '__new__', '__reduce__', '__reduce_ex__', '__repr__', '__setattr__', '__sizeof__', '__str__', '__subclasshook__', '__weakref__']\n"
          ]
        }
      ]
    },
    {
      "cell_type": "code",
      "source": [
        "\n",
        "print(pokemon1)"
      ],
      "metadata": {
        "colab": {
          "base_uri": "https://localhost:8080/"
        },
        "id": "S2_UYD67hs7w",
        "outputId": "eeb3c757-ae21-4aba-d698-76c565dc1925"
      },
      "execution_count": 5,
      "outputs": [
        {
          "output_type": "stream",
          "name": "stdout",
          "text": [
            "<__main__.Pokemon object at 0x7f759edb5b50>\n"
          ]
        }
      ]
    },
    {
      "cell_type": "markdown",
      "source": [
        "# Part #3 — __init __\n"
      ],
      "metadata": {
        "id": "eDoJQ4jVhvtf"
      }
    },
    {
      "cell_type": "code",
      "source": [
        "class Pokemon:\n",
        "    \n",
        "    def __init__(self, name):\n",
        "        self.name = name"
      ],
      "metadata": {
        "id": "GBRKrLdEhuWs"
      },
      "execution_count": 6,
      "outputs": []
    },
    {
      "cell_type": "code",
      "source": [
        "# Creating Pokemon named Charmander\n",
        "pokemon1 = Pokemon(name = 'Charmander')\n",
        "\n",
        "# Print Pokemon name\n",
        "print(pokemon1.name)"
      ],
      "metadata": {
        "colab": {
          "base_uri": "https://localhost:8080/"
        },
        "id": "0m8pB8olhxsZ",
        "outputId": "7ff57ce1-3f92-427a-9e9c-49c97643b079"
      },
      "execution_count": 7,
      "outputs": [
        {
          "output_type": "stream",
          "name": "stdout",
          "text": [
            "Charmander\n"
          ]
        }
      ]
    },
    {
      "cell_type": "markdown",
      "source": [
        "# Part 4 — Adding Attributes 1\n",
        "## 1. Assigning attributes by using methods\n"
      ],
      "metadata": {
        "id": "L3gdt1QRh5Y8"
      }
    },
    {
      "cell_type": "code",
      "source": [
        "class Pokemon:\n",
        "    \n",
        "    # Construct Pokemon\n",
        "    def __init__(self, name):\n",
        "        self.name = name\n",
        "    \n",
        "    \n",
        "    # Add attribute: attack\n",
        "    def add_attack(self, attack):\n",
        "        self.attack = attack\n",
        "\n",
        "# Creating Charmander\n",
        "charmander = Pokemon(name = 'Charmander')\n",
        "\n",
        "# Assigning attack\n",
        "charmander.add_attack(50)\n",
        "\n",
        "# Check instance\n",
        "print(charmander.attack)"
      ],
      "metadata": {
        "colab": {
          "base_uri": "https://localhost:8080/"
        },
        "id": "4JgjiKMvh4LR",
        "outputId": "c7729e89-aff5-40e4-f9c7-7a6c86979c3c"
      },
      "execution_count": 8,
      "outputs": [
        {
          "output_type": "stream",
          "name": "stdout",
          "text": [
            "50\n"
          ]
        }
      ]
    },
    {
      "cell_type": "markdown",
      "source": [
        "## 2. Assigning attributes at creation\n"
      ],
      "metadata": {
        "id": "PhUF-OyWiJMW"
      }
    },
    {
      "cell_type": "code",
      "source": [
        "class Pokemon:\n",
        "    \n",
        "    # Construct Pokemon\n",
        "    def __init__(self, name, attack):\n",
        "        self.name = name\n",
        "        self.attack = attack\n",
        "\n",
        "# Creating Charmander\n",
        "charmander = Pokemon(name = 'Charmander', attack = 50)\n",
        "\n",
        "# Check instance\n",
        "print(charmander.attack)"
      ],
      "metadata": {
        "colab": {
          "base_uri": "https://localhost:8080/"
        },
        "id": "3k7tpugOh__G",
        "outputId": "dad7ab74-df93-4162-cefc-cbe72fb49b95"
      },
      "execution_count": 9,
      "outputs": [
        {
          "output_type": "stream",
          "name": "stdout",
          "text": [
            "50\n"
          ]
        }
      ]
    },
    {
      "cell_type": "markdown",
      "source": [
        "# Part 5 — Adding Attributes 2\n"
      ],
      "metadata": {
        "id": "WIr1TNk0iOdU"
      }
    },
    {
      "cell_type": "code",
      "source": [
        "# Creating Charmander\n",
        "charmander = Pokemon(name = 'Charmander', attack = 50)\n",
        "\n",
        "# Creating Pikachu\n",
        "pikachu = Pokemon(name = 'Pikachu', attack = 35)\n",
        "\n",
        "# Print Charmander's attack\n",
        "print(charmander.attack)\n",
        "\n",
        "# Print Pikachu's attack\n",
        "print(pikachu.attack)"
      ],
      "metadata": {
        "colab": {
          "base_uri": "https://localhost:8080/"
        },
        "id": "vUvS9UJciM-S",
        "outputId": "50dbc02e-e309-4177-fb18-08f9b6808ef2"
      },
      "execution_count": 10,
      "outputs": [
        {
          "output_type": "stream",
          "name": "stdout",
          "text": [
            "50\n",
            "35\n"
          ]
        }
      ]
    },
    {
      "cell_type": "code",
      "source": [
        "# Chancing the attack of Charmander\n",
        "charmander.attack = 60\n",
        "\n",
        "# Print Charmander's attack\n",
        "print(charmander.attack)\n",
        "\n",
        "# Print Pikachu's attack\n",
        "print(pikachu.attack)"
      ],
      "metadata": {
        "colab": {
          "base_uri": "https://localhost:8080/"
        },
        "id": "_kFmtXkSiTLy",
        "outputId": "eaaa0e77-5971-4534-bea4-ac1c03bb5a1c"
      },
      "execution_count": 11,
      "outputs": [
        {
          "output_type": "stream",
          "name": "stdout",
          "text": [
            "60\n",
            "35\n"
          ]
        }
      ]
    },
    {
      "cell_type": "code",
      "source": [
        "class Pokemon:\n",
        "    \n",
        "    # Class attribute\n",
        "    number_of_legs = 2\n",
        "    \n",
        "    # Construct Pokemon\n",
        "    def __init__(self, name, attack):\n",
        "        self.name = name\n",
        "        self.attack = attack\n",
        "\n",
        "# Creating Charmander\n",
        "charmander = Pokemon(name = 'Charmander', attack = 50)\n",
        "\n",
        "# Creating Pikachu\n",
        "pikachu = Pokemon(name = 'Pikachu', attack = 35)\n",
        "\n",
        "# Print attributes\n",
        "print(charmander.number_of_legs)\n",
        "print(pikachu.number_of_legs)"
      ],
      "metadata": {
        "colab": {
          "base_uri": "https://localhost:8080/"
        },
        "id": "dM4faxsUiUiy",
        "outputId": "0c074a6f-1c39-4cf5-ace1-f11413138b15"
      },
      "execution_count": 12,
      "outputs": [
        {
          "output_type": "stream",
          "name": "stdout",
          "text": [
            "2\n",
            "2\n"
          ]
        }
      ]
    },
    {
      "cell_type": "code",
      "source": [
        "# Modifying class attribute: number_of_legs\n",
        "Pokemon.number_of_legs = 4\n",
        "\n",
        "# Print attributes\n",
        "print(charmander.number_of_legs)\n",
        "print(pikachu.number_of_legs)"
      ],
      "metadata": {
        "colab": {
          "base_uri": "https://localhost:8080/"
        },
        "id": "OYQ0I8lxiaaJ",
        "outputId": "e7f69e62-97fe-4575-a246-3619e9420935"
      },
      "execution_count": 13,
      "outputs": [
        {
          "output_type": "stream",
          "name": "stdout",
          "text": [
            "4\n",
            "4\n"
          ]
        }
      ]
    },
    {
      "cell_type": "markdown",
      "source": [
        "# Part 6 — Adding Methods 1\n"
      ],
      "metadata": {
        "id": "77WmaaG6ieRC"
      }
    },
    {
      "cell_type": "code",
      "source": [
        "class Pokemon:\n",
        "    \n",
        "    # Assign class attribute\n",
        "    number_of_legs = 2\n",
        "    \n",
        "    \n",
        "    # Construct Pokemon\n",
        "    def __init__(self, name, attack):\n",
        "        self.name = name\n",
        "        self.attack = attack\n",
        "        \n",
        "    # Print Pokemon name\n",
        "    def speak(self):\n",
        "        print('{} says: {} {}...'.format(self.name, self.name, self.name))\n",
        "\n",
        "# Creating Pikachu\n",
        "pikachu = Pokemon(name = 'Pikachu', attack = 35)\n",
        "\n",
        "# Pikachu speak\n",
        "pikachu.speak()"
      ],
      "metadata": {
        "colab": {
          "base_uri": "https://localhost:8080/"
        },
        "id": "v-hNEhHaicDa",
        "outputId": "aac09c15-2342-4cc2-fa6c-b9cd9158297b"
      },
      "execution_count": 14,
      "outputs": [
        {
          "output_type": "stream",
          "name": "stdout",
          "text": [
            "Pikachu says: Pikachu Pikachu...\n"
          ]
        }
      ]
    },
    {
      "cell_type": "markdown",
      "source": [
        "# Part 7 — Adding Methods 2\n"
      ],
      "metadata": {
        "id": "Fe22lMbAijL1"
      }
    },
    {
      "cell_type": "code",
      "source": [
        "class Pokemon:\n",
        "    \n",
        "    # Assign class attribute\n",
        "    number_of_legs = 2\n",
        "    \n",
        "    \n",
        "    # Construct Pokemon\n",
        "    def __init__(self, name, attack, defense, hp):\n",
        "        self.name = name\n",
        "        self.attack = attack\n",
        "        self.defense = defense\n",
        "        self.hp = hp\n",
        "    \n",
        "    # Print Pokemon name\n",
        "    def speak(self):\n",
        "        print('{} says: {} {}...'.format(self.name, self.name, self.name))\n",
        "        \n",
        "        \n",
        "    # Strike another Pokemon\n",
        "    def strike(self, other):\n",
        "        \n",
        "        damage = (self.attack - other.defense)\n",
        "        other.hp = other.hp - damage\n",
        "        \n",
        "        print('{} attacked {} for {} hp!!!'.format(self.name, other.name, damage))\n",
        "\n",
        "# Creating Charmander\n",
        "charmander = Pokemon(name = 'Charmander', attack = 50, defense = 25, hp = 100)\n",
        "\n",
        "# Creating Pikachu\n",
        "pikachu = Pokemon(name = 'Pikachu', attack = 35, defense = 35, hp = 80)\n",
        "\n",
        "# Charmander attack Pikachu\n",
        "charmander.strike(pikachu)"
      ],
      "metadata": {
        "colab": {
          "base_uri": "https://localhost:8080/"
        },
        "id": "2lFUPXpjih2O",
        "outputId": "e147dcc1-736e-4f75-e05d-e951c613c742"
      },
      "execution_count": 15,
      "outputs": [
        {
          "output_type": "stream",
          "name": "stdout",
          "text": [
            "Charmander attacked Pikachu for 15 hp!!!\n"
          ]
        }
      ]
    },
    {
      "cell_type": "markdown",
      "source": [
        "# Part 7 — Adding Methods 3\n"
      ],
      "metadata": {
        "id": "s2UEsdYciqc-"
      }
    },
    {
      "cell_type": "code",
      "source": [
        "# Checking if charmander is an instance of class: object\n",
        "isinstance(charmander, object)\n",
        "\n",
        "# Checking if Pokemon is a sub-class of object\n",
        "issubclass(Pokemon, object)"
      ],
      "metadata": {
        "colab": {
          "base_uri": "https://localhost:8080/"
        },
        "id": "zJ4ctP73ipD9",
        "outputId": "dd4cbab8-8225-47bb-c25d-cce69ed6a141"
      },
      "execution_count": 16,
      "outputs": [
        {
          "output_type": "execute_result",
          "data": {
            "text/plain": [
              "True"
            ]
          },
          "metadata": {},
          "execution_count": 16
        }
      ]
    },
    {
      "cell_type": "code",
      "source": [
        "# Check built-in methods\n",
        "print(dir(charmander))"
      ],
      "metadata": {
        "colab": {
          "base_uri": "https://localhost:8080/"
        },
        "id": "68VeOsnZir0R",
        "outputId": "a2f8bddd-90e3-4dc8-d895-b63de5d4d220"
      },
      "execution_count": 17,
      "outputs": [
        {
          "output_type": "stream",
          "name": "stdout",
          "text": [
            "['__class__', '__delattr__', '__dict__', '__dir__', '__doc__', '__eq__', '__format__', '__ge__', '__getattribute__', '__gt__', '__hash__', '__init__', '__init_subclass__', '__le__', '__lt__', '__module__', '__ne__', '__new__', '__reduce__', '__reduce_ex__', '__repr__', '__setattr__', '__sizeof__', '__str__', '__subclasshook__', '__weakref__', 'attack', 'defense', 'hp', 'name', 'number_of_legs', 'speak', 'strike']\n"
          ]
        }
      ]
    },
    {
      "cell_type": "code",
      "source": [
        "print(charmander == pikachu)"
      ],
      "metadata": {
        "colab": {
          "base_uri": "https://localhost:8080/"
        },
        "id": "q6dWAecniuBx",
        "outputId": "da37ffef-9293-401c-cf61-d5644e625bad"
      },
      "execution_count": 18,
      "outputs": [
        {
          "output_type": "stream",
          "name": "stdout",
          "text": [
            "False\n"
          ]
        }
      ]
    },
    {
      "cell_type": "code",
      "source": [
        "import numpy as np\n",
        "\n",
        "class Pokemon:\n",
        "    \n",
        "    # Assign class attribute\n",
        "    number_of_legs = 2\n",
        "    \n",
        "    \n",
        "    # Construct Pokemon\n",
        "    def __init__(self, name, attack, defense, hp):\n",
        "        self.name = name\n",
        "        self.attack = attack\n",
        "        self.defense = defense\n",
        "        self.hp = hp\n",
        "    \n",
        "    # Print Pokemon name\n",
        "    def speak(self):\n",
        "        print('{} says: {} {}...'.format(self.name, self.name, self.name))\n",
        "        \n",
        "        \n",
        "    # Strike another Pokemon\n",
        "    def strike(self, other):\n",
        "        \n",
        "        damage = (self.attack - other.defense)\n",
        "        other.hp = other.hp - damage\n",
        "        \n",
        "        print('{} attacked {} for {} hp!!!'.format(self.name, other.name, damage))\n",
        "        \n",
        "        \n",
        "    # Modifying the built-in method: __eq__        \n",
        "    def __eq__(self,other):\n",
        "        \n",
        "        self_stats_total = 0 \n",
        "        other_stats_total = 0 \n",
        "\n",
        "        # Calculate sum of stats for Pokemon A\n",
        "        for key, value in self.__dict__.items():\n",
        "\n",
        "            if key != 'name':\n",
        "                self_stats_total += np.int64(value)\n",
        "                \n",
        "        # Calculate sum of stats for Pokemon B\n",
        "        for key, value in other.__dict__.items():\n",
        "\n",
        "            if key != 'name':\n",
        "                other_stats_total += np.int64(value)\n",
        "        \n",
        "        # Compare stats and print statement\n",
        "        if self_stats_total > other_stats_total:\n",
        "            print('{} is stronger!'.format(self.name))            \n",
        "            \n",
        "        else:\n",
        "            print('{} is stronger!'.format(other.name))\n",
        "\n",
        "# Creating Charmander\n",
        "charmander = Pokemon(name = 'Charmander', attack = 50, defense = 25, hp = 100)\n",
        "\n",
        "# Creating Pikachu\n",
        "pikachu = Pokemon(name = 'Pikachu', attack = 35, defense = 35, hp = 80)\n",
        "\n",
        "# Compare Charmander vs Pikachu\n",
        "charmander == pikachu"
      ],
      "metadata": {
        "colab": {
          "base_uri": "https://localhost:8080/"
        },
        "id": "Yi8LYK0IiuIT",
        "outputId": "b3d216ac-e844-49c8-d717-8d509e965288"
      },
      "execution_count": 19,
      "outputs": [
        {
          "output_type": "stream",
          "name": "stdout",
          "text": [
            "Charmander is stronger!\n"
          ]
        }
      ]
    },
    {
      "cell_type": "code",
      "source": [
        "import numpy as np\n",
        "\n",
        "class Pokemon:\n",
        "    \n",
        "    # Assign class attribute\n",
        "    number_of_legs = 2\n",
        "    \n",
        "    \n",
        "    # Construct Pokemon\n",
        "    def __init__(self, name, attack, defense, hp):\n",
        "        self.name = name\n",
        "        self.attack = attack\n",
        "        self.defense = defense\n",
        "        self.hp = hp\n",
        "    \n",
        "    # Print Pokemon name\n",
        "    def speak(self):\n",
        "        print('{} says: {} {}...'.format(self.name, self.name, self.name))\n",
        "        \n",
        "        \n",
        "    # Strike another Pokemon\n",
        "    def strike(self, other):\n",
        "        \n",
        "        damage = (self.attack - other.defense)\n",
        "        other.hp = other.hp - damage\n",
        "        \n",
        "        print('{} attacked {} for {} hp!!!'.format(self.name, other.name, damage))\n",
        "        \n",
        "        \n",
        "    # Modifying the built-in method: __eq__        \n",
        "    def __eq__(self,other):\n",
        "        \n",
        "        self_stats_total = 0 \n",
        "        other_stats_total = 0 \n",
        "\n",
        "        # Calculate sum of stats for Pokemon A\n",
        "        for key, value in self.__dict__.items():\n",
        "\n",
        "            if key != 'name':\n",
        "                self_stats_total += np.int64(value)\n",
        "                \n",
        "        # Calculate sum of stats for Pokemon B\n",
        "        for key, value in other.__dict__.items():\n",
        "\n",
        "            if key != 'name':\n",
        "                other_stats_total += np.int64(value)\n",
        "        \n",
        "        # Compare stats and print statement\n",
        "        if self_stats_total > other_stats_total:\n",
        "            print('{} is stronger!'.format(self.name))            \n",
        "            \n",
        "        else:\n",
        "            print('{} is stronger!'.format(other.name))        \n",
        "            \n",
        "    # Modifying the built-in method: __repr__              \n",
        "    def __repr__(self):\n",
        "        return '''Printing Stats Report\n",
        "    Name: {}\n",
        "    Attack: {}\n",
        "    Defense: {}\n",
        "    HP: {}\n",
        "                    '''.format(self.name, self.attack, self.defense, self.hp)\n",
        "\n",
        "# Creating Charmander\n",
        "charmander = Pokemon(name = 'Charmander', attack = 50, defense = 25, hp = 100)\n",
        "\n",
        "# Print stats report\n",
        "print(charmander)"
      ],
      "metadata": {
        "colab": {
          "base_uri": "https://localhost:8080/"
        },
        "id": "ueMiZkMoiycM",
        "outputId": "e97b3aa3-91af-4fe0-a8fc-b51ab1cbd941"
      },
      "execution_count": 20,
      "outputs": [
        {
          "output_type": "stream",
          "name": "stdout",
          "text": [
            "Printing Stats Report\n",
            "    Name: Charmander\n",
            "    Attack: 50\n",
            "    Defense: 25\n",
            "    HP: 100\n",
            "                    \n"
          ]
        }
      ]
    },
    {
      "cell_type": "markdown",
      "source": [
        "# Part 8 — Inheritance 1\n"
      ],
      "metadata": {
        "id": "SGBcQE49i77e"
      }
    },
    {
      "cell_type": "code",
      "source": [
        "# Evolve1 class(inherits from Pokemon)\n",
        "class Evolve1(Pokemon):\n",
        "\tpass\n",
        "\n",
        "# Creating an instance of Evolve1\n",
        "charmeleon = Evolve1(name = 'Charmeleon', attack = 70, defense = 35, hp = 120)"
      ],
      "metadata": {
        "id": "j0Y3-D9Ti6tc"
      },
      "execution_count": 21,
      "outputs": []
    },
    {
      "cell_type": "code",
      "source": [
        "# Creating Raichu\n",
        "raichu = Evolve1(name = 'Raichu', attack = 50, defense = 65, hp = 105)\n",
        "\n",
        "# Raichu Speaks\n",
        "charmeleon.speak()\n",
        "\n",
        "# Charmeleon attacks Raichu \n",
        "charmeleon.strike(raichu)\n",
        "\n",
        "# Print stats report\n",
        "print(charmeleon)"
      ],
      "metadata": {
        "colab": {
          "base_uri": "https://localhost:8080/"
        },
        "id": "a9noOK-Ji-rr",
        "outputId": "cdd3a7d5-e5f4-4247-8d4d-5e9c04628e09"
      },
      "execution_count": 22,
      "outputs": [
        {
          "output_type": "stream",
          "name": "stdout",
          "text": [
            "Charmeleon says: Charmeleon Charmeleon...\n",
            "Charmeleon attacked Raichu for 5 hp!!!\n",
            "Printing Stats Report\n",
            "    Name: Charmeleon\n",
            "    Attack: 70\n",
            "    Defense: 35\n",
            "    HP: 120\n",
            "                    \n"
          ]
        }
      ]
    },
    {
      "cell_type": "markdown",
      "source": [
        "# Part 9- Inheritance 2\n"
      ],
      "metadata": {
        "id": "IXxFoCJ0jBv4"
      }
    },
    {
      "cell_type": "code",
      "source": [
        "class Evolve1(Pokemon):\n",
        "    \n",
        "    # Construct an Evolved Pokemon\n",
        "    def __init__(self, name, attack, defense, hp, special_attack, special_defence):\n",
        "        Pokemon.__init__(self, name, attack, defense, hp)\n",
        "        self.special_attack = special_attack\n",
        "        self.special_defence = special_defence\n",
        "        \n",
        "    # Special Strike another Pokemon\n",
        "    def special_strike(self, other):\n",
        "        \n",
        "        damage = (self.special_attack - other.special_defence) \n",
        "        other.hp = other.hp - damage\n",
        "        \n",
        "        print('{} attacked {} for {} hp using special strike!!!'.format(self.name, other.name, damage))"
      ],
      "metadata": {
        "id": "aD3u2IwFjAI0"
      },
      "execution_count": 23,
      "outputs": []
    },
    {
      "cell_type": "code",
      "source": [
        "# Creating Charmeleon\n",
        "charmeleon = Evolve1(name = 'Charmeleon', attack = 70, defense = 35,\n",
        "                     hp = 120, special_attack= 125, special_defence=95)\n",
        "\n",
        "# Creating Raichu\n",
        "raichu = Evolve1(name = 'Raichu', attack = 50, defense = 65,\n",
        "\t\t\t\t\t\t\t\t\t\t hp = 105, special_attack= 135, special_defence=85)\n",
        "\n",
        "# Charmeleon attacks Raichu \n",
        "charmeleon.special_strike(raichu)"
      ],
      "metadata": {
        "colab": {
          "base_uri": "https://localhost:8080/"
        },
        "id": "QJerEKRljHXY",
        "outputId": "66793faf-da27-450b-eeb2-9dbdbe6f70d4"
      },
      "execution_count": 24,
      "outputs": [
        {
          "output_type": "stream",
          "name": "stdout",
          "text": [
            "Charmeleon attacked Raichu for 40 hp using special strike!!!\n"
          ]
        }
      ]
    },
    {
      "cell_type": "markdown",
      "source": [
        "# Part 10 — Inheritance 3\n"
      ],
      "metadata": {
        "id": "eY2ZmEhRjKMD"
      }
    },
    {
      "cell_type": "code",
      "source": [
        "import pandas as pd\n",
        "\n",
        "# New DataFrame class(Inheriting from Pandas.DataFrame)\n",
        "class Pokemon_DataFrame(pd.DataFrame):\n",
        "    \n",
        "    # Construct a DataFrame\n",
        "    def __init__(self, other):\n",
        "        pd.DataFrame.__init__(self, index=[1], \n",
        "                              data= np.reshape(np.array([value for value in other.__dict__.values()]),newshape=(1,6)),\n",
        "                                columns = [key for key in other.__dict__.keys()])\n",
        "        self.other = other\n",
        "        \n",
        "    # Modify the Pandas method: to_csv    \n",
        "    def to_csv(self):\n",
        "        \n",
        "        # Collecting attributes\n",
        "        keys = [key for key in self.other.__dict__.keys()]\n",
        "        values = [value for value in self.other.__dict__.values()]\n",
        "        \n",
        "        # Creating a temporary dataframe\n",
        "        temp_df = pd.DataFrame(index=[1], data= np.reshape(np.array(values),  newshape=(1,6)), columns=keys)\n",
        "\n",
        "        # Export to CSV\n",
        "        pd.DataFrame.to_csv(temp_df, str(self.other.name) +'.csv' ,index=None)"
      ],
      "metadata": {
        "id": "w5J7h26ojIq2"
      },
      "execution_count": 25,
      "outputs": []
    },
    {
      "cell_type": "code",
      "source": [
        "# Create Pokemon_DataFrame\n",
        "df = Pokemon_DataFrame(charmeleon)\n",
        "\n",
        "# Print Pokemon_DataFrame\n",
        "df"
      ],
      "metadata": {
        "colab": {
          "base_uri": "https://localhost:8080/",
          "height": 80
        },
        "id": "9gJWa0cbjUF0",
        "outputId": "aaf4bd55-1aed-4eab-f8ec-cbbd705d033c"
      },
      "execution_count": 26,
      "outputs": [
        {
          "output_type": "execute_result",
          "data": {
            "text/plain": [
              "         name attack defense   hp special_attack special_defence\n",
              "1  Charmeleon     70      35  120            125              95"
            ],
            "text/html": [
              "\n",
              "  <div id=\"df-dacb4906-817b-47a2-9f08-e0f52c92ecaf\">\n",
              "    <div class=\"colab-df-container\">\n",
              "      <div>\n",
              "<style scoped>\n",
              "    .dataframe tbody tr th:only-of-type {\n",
              "        vertical-align: middle;\n",
              "    }\n",
              "\n",
              "    .dataframe tbody tr th {\n",
              "        vertical-align: top;\n",
              "    }\n",
              "\n",
              "    .dataframe thead th {\n",
              "        text-align: right;\n",
              "    }\n",
              "</style>\n",
              "<table border=\"1\" class=\"dataframe\">\n",
              "  <thead>\n",
              "    <tr style=\"text-align: right;\">\n",
              "      <th></th>\n",
              "      <th>name</th>\n",
              "      <th>attack</th>\n",
              "      <th>defense</th>\n",
              "      <th>hp</th>\n",
              "      <th>special_attack</th>\n",
              "      <th>special_defence</th>\n",
              "    </tr>\n",
              "  </thead>\n",
              "  <tbody>\n",
              "    <tr>\n",
              "      <th>1</th>\n",
              "      <td>Charmeleon</td>\n",
              "      <td>70</td>\n",
              "      <td>35</td>\n",
              "      <td>120</td>\n",
              "      <td>125</td>\n",
              "      <td>95</td>\n",
              "    </tr>\n",
              "  </tbody>\n",
              "</table>\n",
              "</div>\n",
              "      <button class=\"colab-df-convert\" onclick=\"convertToInteractive('df-dacb4906-817b-47a2-9f08-e0f52c92ecaf')\"\n",
              "              title=\"Convert this dataframe to an interactive table.\"\n",
              "              style=\"display:none;\">\n",
              "        \n",
              "  <svg xmlns=\"http://www.w3.org/2000/svg\" height=\"24px\"viewBox=\"0 0 24 24\"\n",
              "       width=\"24px\">\n",
              "    <path d=\"M0 0h24v24H0V0z\" fill=\"none\"/>\n",
              "    <path d=\"M18.56 5.44l.94 2.06.94-2.06 2.06-.94-2.06-.94-.94-2.06-.94 2.06-2.06.94zm-11 1L8.5 8.5l.94-2.06 2.06-.94-2.06-.94L8.5 2.5l-.94 2.06-2.06.94zm10 10l.94 2.06.94-2.06 2.06-.94-2.06-.94-.94-2.06-.94 2.06-2.06.94z\"/><path d=\"M17.41 7.96l-1.37-1.37c-.4-.4-.92-.59-1.43-.59-.52 0-1.04.2-1.43.59L10.3 9.45l-7.72 7.72c-.78.78-.78 2.05 0 2.83L4 21.41c.39.39.9.59 1.41.59.51 0 1.02-.2 1.41-.59l7.78-7.78 2.81-2.81c.8-.78.8-2.07 0-2.86zM5.41 20L4 18.59l7.72-7.72 1.47 1.35L5.41 20z\"/>\n",
              "  </svg>\n",
              "      </button>\n",
              "      \n",
              "  <style>\n",
              "    .colab-df-container {\n",
              "      display:flex;\n",
              "      flex-wrap:wrap;\n",
              "      gap: 12px;\n",
              "    }\n",
              "\n",
              "    .colab-df-convert {\n",
              "      background-color: #E8F0FE;\n",
              "      border: none;\n",
              "      border-radius: 50%;\n",
              "      cursor: pointer;\n",
              "      display: none;\n",
              "      fill: #1967D2;\n",
              "      height: 32px;\n",
              "      padding: 0 0 0 0;\n",
              "      width: 32px;\n",
              "    }\n",
              "\n",
              "    .colab-df-convert:hover {\n",
              "      background-color: #E2EBFA;\n",
              "      box-shadow: 0px 1px 2px rgba(60, 64, 67, 0.3), 0px 1px 3px 1px rgba(60, 64, 67, 0.15);\n",
              "      fill: #174EA6;\n",
              "    }\n",
              "\n",
              "    [theme=dark] .colab-df-convert {\n",
              "      background-color: #3B4455;\n",
              "      fill: #D2E3FC;\n",
              "    }\n",
              "\n",
              "    [theme=dark] .colab-df-convert:hover {\n",
              "      background-color: #434B5C;\n",
              "      box-shadow: 0px 1px 3px 1px rgba(0, 0, 0, 0.15);\n",
              "      filter: drop-shadow(0px 1px 2px rgba(0, 0, 0, 0.3));\n",
              "      fill: #FFFFFF;\n",
              "    }\n",
              "  </style>\n",
              "\n",
              "      <script>\n",
              "        const buttonEl =\n",
              "          document.querySelector('#df-dacb4906-817b-47a2-9f08-e0f52c92ecaf button.colab-df-convert');\n",
              "        buttonEl.style.display =\n",
              "          google.colab.kernel.accessAllowed ? 'block' : 'none';\n",
              "\n",
              "        async function convertToInteractive(key) {\n",
              "          const element = document.querySelector('#df-dacb4906-817b-47a2-9f08-e0f52c92ecaf');\n",
              "          const dataTable =\n",
              "            await google.colab.kernel.invokeFunction('convertToInteractive',\n",
              "                                                     [key], {});\n",
              "          if (!dataTable) return;\n",
              "\n",
              "          const docLinkHtml = 'Like what you see? Visit the ' +\n",
              "            '<a target=\"_blank\" href=https://colab.research.google.com/notebooks/data_table.ipynb>data table notebook</a>'\n",
              "            + ' to learn more about interactive tables.';\n",
              "          element.innerHTML = '';\n",
              "          dataTable['output_type'] = 'display_data';\n",
              "          await google.colab.output.renderOutput(dataTable, element);\n",
              "          const docLink = document.createElement('div');\n",
              "          docLink.innerHTML = docLinkHtml;\n",
              "          element.appendChild(docLink);\n",
              "        }\n",
              "      </script>\n",
              "    </div>\n",
              "  </div>\n",
              "  "
            ]
          },
          "metadata": {},
          "execution_count": 26
        }
      ]
    },
    {
      "cell_type": "code",
      "source": [
        "# Export to CSV\n",
        "df.to_csv()"
      ],
      "metadata": {
        "id": "DOVw4o6RjVbj"
      },
      "execution_count": 27,
      "outputs": []
    },
    {
      "cell_type": "code",
      "source": [
        "# Import the exported CSV file\n",
        "new_df = pd.read_csv('Charmeleon.csv')\n",
        "\n",
        "# Print Pokemon_DataFrame\n",
        "new_df"
      ],
      "metadata": {
        "id": "4nB7nb_VjYgS",
        "outputId": "7db621dc-7c23-417c-82d5-ee720613c606",
        "colab": {
          "base_uri": "https://localhost:8080/",
          "height": 80
        }
      },
      "execution_count": 28,
      "outputs": [
        {
          "output_type": "execute_result",
          "data": {
            "text/plain": [
              "         name  attack  defense   hp  special_attack  special_defence\n",
              "0  Charmeleon      70       35  120             125               95"
            ],
            "text/html": [
              "\n",
              "  <div id=\"df-dc96a4c4-cfed-4a3d-982b-260e56df910c\">\n",
              "    <div class=\"colab-df-container\">\n",
              "      <div>\n",
              "<style scoped>\n",
              "    .dataframe tbody tr th:only-of-type {\n",
              "        vertical-align: middle;\n",
              "    }\n",
              "\n",
              "    .dataframe tbody tr th {\n",
              "        vertical-align: top;\n",
              "    }\n",
              "\n",
              "    .dataframe thead th {\n",
              "        text-align: right;\n",
              "    }\n",
              "</style>\n",
              "<table border=\"1\" class=\"dataframe\">\n",
              "  <thead>\n",
              "    <tr style=\"text-align: right;\">\n",
              "      <th></th>\n",
              "      <th>name</th>\n",
              "      <th>attack</th>\n",
              "      <th>defense</th>\n",
              "      <th>hp</th>\n",
              "      <th>special_attack</th>\n",
              "      <th>special_defence</th>\n",
              "    </tr>\n",
              "  </thead>\n",
              "  <tbody>\n",
              "    <tr>\n",
              "      <th>0</th>\n",
              "      <td>Charmeleon</td>\n",
              "      <td>70</td>\n",
              "      <td>35</td>\n",
              "      <td>120</td>\n",
              "      <td>125</td>\n",
              "      <td>95</td>\n",
              "    </tr>\n",
              "  </tbody>\n",
              "</table>\n",
              "</div>\n",
              "      <button class=\"colab-df-convert\" onclick=\"convertToInteractive('df-dc96a4c4-cfed-4a3d-982b-260e56df910c')\"\n",
              "              title=\"Convert this dataframe to an interactive table.\"\n",
              "              style=\"display:none;\">\n",
              "        \n",
              "  <svg xmlns=\"http://www.w3.org/2000/svg\" height=\"24px\"viewBox=\"0 0 24 24\"\n",
              "       width=\"24px\">\n",
              "    <path d=\"M0 0h24v24H0V0z\" fill=\"none\"/>\n",
              "    <path d=\"M18.56 5.44l.94 2.06.94-2.06 2.06-.94-2.06-.94-.94-2.06-.94 2.06-2.06.94zm-11 1L8.5 8.5l.94-2.06 2.06-.94-2.06-.94L8.5 2.5l-.94 2.06-2.06.94zm10 10l.94 2.06.94-2.06 2.06-.94-2.06-.94-.94-2.06-.94 2.06-2.06.94z\"/><path d=\"M17.41 7.96l-1.37-1.37c-.4-.4-.92-.59-1.43-.59-.52 0-1.04.2-1.43.59L10.3 9.45l-7.72 7.72c-.78.78-.78 2.05 0 2.83L4 21.41c.39.39.9.59 1.41.59.51 0 1.02-.2 1.41-.59l7.78-7.78 2.81-2.81c.8-.78.8-2.07 0-2.86zM5.41 20L4 18.59l7.72-7.72 1.47 1.35L5.41 20z\"/>\n",
              "  </svg>\n",
              "      </button>\n",
              "      \n",
              "  <style>\n",
              "    .colab-df-container {\n",
              "      display:flex;\n",
              "      flex-wrap:wrap;\n",
              "      gap: 12px;\n",
              "    }\n",
              "\n",
              "    .colab-df-convert {\n",
              "      background-color: #E8F0FE;\n",
              "      border: none;\n",
              "      border-radius: 50%;\n",
              "      cursor: pointer;\n",
              "      display: none;\n",
              "      fill: #1967D2;\n",
              "      height: 32px;\n",
              "      padding: 0 0 0 0;\n",
              "      width: 32px;\n",
              "    }\n",
              "\n",
              "    .colab-df-convert:hover {\n",
              "      background-color: #E2EBFA;\n",
              "      box-shadow: 0px 1px 2px rgba(60, 64, 67, 0.3), 0px 1px 3px 1px rgba(60, 64, 67, 0.15);\n",
              "      fill: #174EA6;\n",
              "    }\n",
              "\n",
              "    [theme=dark] .colab-df-convert {\n",
              "      background-color: #3B4455;\n",
              "      fill: #D2E3FC;\n",
              "    }\n",
              "\n",
              "    [theme=dark] .colab-df-convert:hover {\n",
              "      background-color: #434B5C;\n",
              "      box-shadow: 0px 1px 3px 1px rgba(0, 0, 0, 0.15);\n",
              "      filter: drop-shadow(0px 1px 2px rgba(0, 0, 0, 0.3));\n",
              "      fill: #FFFFFF;\n",
              "    }\n",
              "  </style>\n",
              "\n",
              "      <script>\n",
              "        const buttonEl =\n",
              "          document.querySelector('#df-dc96a4c4-cfed-4a3d-982b-260e56df910c button.colab-df-convert');\n",
              "        buttonEl.style.display =\n",
              "          google.colab.kernel.accessAllowed ? 'block' : 'none';\n",
              "\n",
              "        async function convertToInteractive(key) {\n",
              "          const element = document.querySelector('#df-dc96a4c4-cfed-4a3d-982b-260e56df910c');\n",
              "          const dataTable =\n",
              "            await google.colab.kernel.invokeFunction('convertToInteractive',\n",
              "                                                     [key], {});\n",
              "          if (!dataTable) return;\n",
              "\n",
              "          const docLinkHtml = 'Like what you see? Visit the ' +\n",
              "            '<a target=\"_blank\" href=https://colab.research.google.com/notebooks/data_table.ipynb>data table notebook</a>'\n",
              "            + ' to learn more about interactive tables.';\n",
              "          element.innerHTML = '';\n",
              "          dataTable['output_type'] = 'display_data';\n",
              "          await google.colab.output.renderOutput(dataTable, element);\n",
              "          const docLink = document.createElement('div');\n",
              "          docLink.innerHTML = docLinkHtml;\n",
              "          element.appendChild(docLink);\n",
              "        }\n",
              "      </script>\n",
              "    </div>\n",
              "  </div>\n",
              "  "
            ]
          },
          "metadata": {},
          "execution_count": 28
        }
      ]
    }
  ]
}
