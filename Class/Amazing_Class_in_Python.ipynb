{
  "nbformat": 4,
  "nbformat_minor": 0,
  "metadata": {
    "colab": {
      "name": "Amazing Class in Python.ipynb",
      "provenance": [],
      "authorship_tag": "ABX9TyNKysgwVJsjaQ7QA2CrMYFz"
    },
    "kernelspec": {
      "name": "python3",
      "display_name": "Python 3"
    }
  },
  "cells": [
    {
      "cell_type": "markdown",
      "metadata": {
        "id": "L0zvTEtLZ-IO"
      },
      "source": [
        "[Reference](https://towardsdatascience.com/python-programming-concepts-that-made-my-code-efficient-68f92f8a39d0)"
      ]
    },
    {
      "cell_type": "code",
      "metadata": {
        "colab": {
          "base_uri": "https://localhost:8080/",
          "height": 37
        },
        "id": "GPLwEE8LZ8DY",
        "outputId": "05d105b2-925e-44d4-fa39-17967421e04c"
      },
      "source": [
        "class Car:\n",
        "    info = \"This is a Car class\"\n",
        "\n",
        "car = Car()\n",
        "car.info"
      ],
      "execution_count": 1,
      "outputs": [
        {
          "output_type": "execute_result",
          "data": {
            "application/vnd.google.colaboratory.intrinsic+json": {
              "type": "string"
            },
            "text/plain": [
              "'This is a Car class'"
            ]
          },
          "metadata": {
            "tags": []
          },
          "execution_count": 1
        }
      ]
    },
    {
      "cell_type": "markdown",
      "metadata": {
        "id": "MlzpqdtzceH-"
      },
      "source": [
        "# __init__\n",
        "__init__ is the initializer method that is run as soon as we call the class."
      ]
    },
    {
      "cell_type": "code",
      "metadata": {
        "colab": {
          "base_uri": "https://localhost:8080/"
        },
        "id": "egeyoTlfcc3P",
        "outputId": "9ac51620-bce8-4541-ae98-39448138d5f0"
      },
      "source": [
        "class Car:\n",
        "    info = \"This is a Car class\"\n",
        "\n",
        "    def __init__(self, type_):\n",
        "        self.type_ = type_\n",
        "\n",
        "car = Car(type_ = 'sedan')\n",
        "print(f\"I hope to buy a {car.type_} car\")"
      ],
      "execution_count": 3,
      "outputs": [
        {
          "output_type": "stream",
          "text": [
            "I hope to buy a sedan car\n"
          ],
          "name": "stdout"
        }
      ]
    },
    {
      "cell_type": "markdown",
      "metadata": {
        "id": "CwQ-SjMtczMB"
      },
      "source": [
        "# __call__\n",
        "__call__ is run as soon as a method is called."
      ]
    },
    {
      "cell_type": "code",
      "metadata": {
        "colab": {
          "base_uri": "https://localhost:8080/"
        },
        "id": "99Ht11mdcqpB",
        "outputId": "ad0191b4-287a-41c5-9ab9-048875885dd4"
      },
      "source": [
        "class Car:\n",
        "    info = \"This is a Car class\"\n",
        "\n",
        "    def __init__(self, type_):\n",
        "        self.type_ = type_\n",
        "        self.color = 'green'\n",
        "\n",
        "    def __call__(self, color = None):\n",
        "        if color:\n",
        "            self.color = color\n",
        "            return print(f\"Buying a {self.type_} car with change of color ---- {self.color}\")\n",
        "        else:\n",
        "            print(f\"Buying a {self.type_} car with default color ---- {self.color}\")\n",
        "car = Car(type_ = 'sedan')\n",
        "car('blue')"
      ],
      "execution_count": 4,
      "outputs": [
        {
          "output_type": "stream",
          "text": [
            "Buying a sedan car with change of color ---- blue\n"
          ],
          "name": "stdout"
        }
      ]
    },
    {
      "cell_type": "markdown",
      "metadata": {
        "id": "ysXsp5EldY5g"
      },
      "source": [
        "# __repr__\n",
        "\n",
        "__repr__ is mainly used to see the values assigned to our variables."
      ]
    },
    {
      "cell_type": "code",
      "metadata": {
        "colab": {
          "base_uri": "https://localhost:8080/"
        },
        "id": "wB6aZoLZdXOA",
        "outputId": "32072c3d-5daf-4ac8-f903-7a75a18a024f"
      },
      "source": [
        "class Car:\n",
        "    info = \"This is a Car class\"\n",
        "\n",
        "    def __init__(self, type_):\n",
        "        self.type_ = type_\n",
        "        self.color = 'green'\n",
        "\n",
        "    def __repr__(self):\n",
        "        return f\"Type : {self.type_}, Color : {self.color}\"\n",
        "\n",
        "car = Car(type_ = 'sedan')\n",
        "car"
      ],
      "execution_count": 5,
      "outputs": [
        {
          "output_type": "execute_result",
          "data": {
            "text/plain": [
              "Type : sedan, Color : green"
            ]
          },
          "metadata": {
            "tags": []
          },
          "execution_count": 5
        }
      ]
    },
    {
      "cell_type": "markdown",
      "metadata": {
        "id": "Raxw-50Ydq9_"
      },
      "source": [
        "# __str__\n",
        "__str__ is quite similar to __repr__ above. __str__ can be overridden and allows more customization unless like repr which cannot be."
      ]
    },
    {
      "cell_type": "code",
      "metadata": {
        "colab": {
          "base_uri": "https://localhost:8080/"
        },
        "id": "9WslQUS7dkcW",
        "outputId": "4a9ed7cb-2ec0-4120-cdeb-4d7011ea638d"
      },
      "source": [
        "class Car:\n",
        "    info = \"This is a Car class\"\n",
        "\n",
        "    def __init__(self, type_):\n",
        "        self.type_ = type_\n",
        "        self.color = 'green'\n",
        "\n",
        "    def __str__(self):\n",
        "        return f\"Type : {self.type_}, Color : {self.color}\"\n",
        "\n",
        "car = Car(type_ = 'sedan')\n",
        "print(car)"
      ],
      "execution_count": 7,
      "outputs": [
        {
          "output_type": "stream",
          "text": [
            "Type : sedan, Color : green\n"
          ],
          "name": "stdout"
        }
      ]
    },
    {
      "cell_type": "markdown",
      "metadata": {
        "id": "Cg8js7i-eJMk"
      },
      "source": [
        "# __dict__\n",
        "Python has an internal dictionary called __dict__ that holds all the internal variable."
      ]
    },
    {
      "cell_type": "code",
      "metadata": {
        "colab": {
          "base_uri": "https://localhost:8080/"
        },
        "id": "BXzcw-Z5eDGk",
        "outputId": "986f74f8-2ce4-4b0c-85b1-2322eb3eaca3"
      },
      "source": [
        "class Car:\n",
        "    info = \"This is a Car class\"\n",
        "\n",
        "    def __init__(self, type_, size):\n",
        "        self.type_ = type_\n",
        "        self.size = size\n",
        "        self.color = 'green'\n",
        "\n",
        "car = Car(type_ = 'sedan', size = 'medium')\n",
        "car.__dict__"
      ],
      "execution_count": 9,
      "outputs": [
        {
          "output_type": "execute_result",
          "data": {
            "text/plain": [
              "{'color': 'green', 'size': 'medium', 'type_': 'sedan'}"
            ]
          },
          "metadata": {
            "tags": []
          },
          "execution_count": 9
        }
      ]
    },
    {
      "cell_type": "code",
      "metadata": {
        "colab": {
          "base_uri": "https://localhost:8080/"
        },
        "id": "KYtXcu-EeTwA",
        "outputId": "0889ca7f-5ae1-40ea-eceb-f4843d513076"
      },
      "source": [
        "car.__dict__['size'] = 'small'\n",
        "car.__dict__"
      ],
      "execution_count": 10,
      "outputs": [
        {
          "output_type": "execute_result",
          "data": {
            "text/plain": [
              "{'color': 'green', 'size': 'small', 'type_': 'sedan'}"
            ]
          },
          "metadata": {
            "tags": []
          },
          "execution_count": 10
        }
      ]
    },
    {
      "cell_type": "markdown",
      "metadata": {
        "id": "s5MnMeLGeeDN"
      },
      "source": [
        "# __slots__\n",
        "__slots__ is quite similar to __dict__ as shown above. __slots__ can help to optimize the performance of the class. "
      ]
    },
    {
      "cell_type": "code",
      "metadata": {
        "id": "BJZjgej2edA8"
      },
      "source": [
        "class Car:\n",
        "    info = \"This is a Car class\"\n",
        "\n",
        "    __slots__ = ['type_','size','color']\n",
        "\n",
        "    def __init__(self, type_, size):\n",
        "        self.type_ = type_\n",
        "        self.size = size\n",
        "        self.color = 'green'\n",
        "\n",
        "car = Car(type_ = 'sedan', size = 'medium')"
      ],
      "execution_count": 12,
      "outputs": []
    },
    {
      "cell_type": "markdown",
      "metadata": {
        "id": "2X2uYEweewOn"
      },
      "source": [
        "# static method"
      ]
    },
    {
      "cell_type": "code",
      "metadata": {
        "colab": {
          "base_uri": "https://localhost:8080/"
        },
        "id": "cN18UhIXeq79",
        "outputId": "bbf15bf7-dd6f-48d3-8a34-bf2f44fa9383"
      },
      "source": [
        "class Car:\n",
        "    info = \"This is a Car class\"\n",
        "\n",
        "    __slots__ = ['type_','size','color']\n",
        "\n",
        "    def __init__(self, type_, size):\n",
        "        self.type_ = type_\n",
        "        self.size = size\n",
        "        self.color = 'green'\n",
        "\n",
        "    @staticmethod\n",
        "    def get_car_brands():\n",
        "        car_brand_lists = ['Audi','BMW',\"Bentley\",'Cadillac','Hyundai','Jaguar','Jeep','Porsche','Tesla','Volkswagen']\n",
        "        return car_brand_lists\n",
        "\n",
        "Car.get_car_brands()"
      ],
      "execution_count": 13,
      "outputs": [
        {
          "output_type": "execute_result",
          "data": {
            "text/plain": [
              "['Audi',\n",
              " 'BMW',\n",
              " 'Bentley',\n",
              " 'Cadillac',\n",
              " 'Hyundai',\n",
              " 'Jaguar',\n",
              " 'Jeep',\n",
              " 'Porsche',\n",
              " 'Tesla',\n",
              " 'Volkswagen']"
            ]
          },
          "metadata": {
            "tags": []
          },
          "execution_count": 13
        }
      ]
    },
    {
      "cell_type": "markdown",
      "metadata": {
        "id": "nr3CtJiffd1U"
      },
      "source": [
        "# class method"
      ]
    },
    {
      "cell_type": "code",
      "metadata": {
        "colab": {
          "base_uri": "https://localhost:8080/"
        },
        "id": "kc3FNyTOfZfh",
        "outputId": "33fb7e99-3c47-4e07-ec22-e1e35b84ba81"
      },
      "source": [
        "class Car:\n",
        "    info = \"This is a Car class\"\n",
        "\n",
        "    __slots__ = ['type_','size','color']\n",
        "\n",
        "    def __init__(self, type_, size, color='green'):\n",
        "        self.type_ = type_\n",
        "        self.size = size\n",
        "        self.color = color\n",
        "\n",
        "    @staticmethod\n",
        "    def get_car_brands():\n",
        "        car_brand_lists = ['Audi','BMW',\"Bentley\",'Cadillac','Hyundai','Jaguar','Jeep','Porsche','Tesla','Volkswagen']\n",
        "        return car_brand_lists\n",
        "\n",
        "    @classmethod\n",
        "    def check_size(cls, type_, size, color):\n",
        "        if size<=100:\n",
        "            return cls(type_, 'medium', color)\n",
        "        else:\n",
        "            return cls(type_, 'large', color)\n",
        "\n",
        "car = Car.check_size(type_ = 'Coupe', size = 110, color = 'red')\n",
        "print(f\"{car.type_} Car is {car.size} and {car.color}\")"
      ],
      "execution_count": 17,
      "outputs": [
        {
          "output_type": "stream",
          "text": [
            "Coupe Car is large and red\n"
          ],
          "name": "stdout"
        }
      ]
    }
  ]
}