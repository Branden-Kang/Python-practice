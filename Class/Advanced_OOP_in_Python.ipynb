{
  "nbformat": 4,
  "nbformat_minor": 0,
  "metadata": {
    "colab": {
      "provenance": [],
      "authorship_tag": "ABX9TyO54YpIMjslTlVBBX2MvxAl"
    },
    "kernelspec": {
      "name": "python3",
      "display_name": "Python 3"
    },
    "language_info": {
      "name": "python"
    }
  },
  "cells": [
    {
      "cell_type": "markdown",
      "source": [
        "[Reference](https://medium.com/@aserdargun/advanced-oop-in-python-a5f6130da291)"
      ],
      "metadata": {
        "id": "-0O6TPLG5yIF"
      }
    },
    {
      "cell_type": "code",
      "execution_count": 1,
      "metadata": {
        "id": "HvyAWmE65KOk"
      },
      "outputs": [],
      "source": [
        "class Employee:\n",
        "    def __init__(self, name, salary):\n",
        "        self.name = name\n",
        "        self.salary = salary"
      ]
    },
    {
      "cell_type": "code",
      "source": [
        "class Employee:\n",
        "    def __init__(self, name, salary):\n",
        "        self.name = name\n",
        "        self.salary = salary\n",
        "\n",
        "e1 = Employee(\"Vera\", 2000)\n",
        "e2 = Employee(\"Chuck\", 1800)\n",
        "e3 = Employee(\"Dave\", 1900)"
      ],
      "metadata": {
        "id": "9sIdZr5F6MC4"
      },
      "execution_count": 2,
      "outputs": []
    },
    {
      "cell_type": "code",
      "source": [
        "class Employee:\n",
        "    def __init__(self, name, salary):\n",
        "        self.name = name\n",
        "        self.salary = salary\n",
        "\n",
        "e1 = Employee(\"Vera\", 2000)\n",
        "e2 = Employee(\"Chuck\", 1800)\n",
        "e3 = Employee(\"Dave\", 1900)\n",
        "\n",
        "print(e1.name, e1.salary)\n",
        "print(e2.name, e2.salary)\n",
        "print(e3.name, e3.salary)"
      ],
      "metadata": {
        "colab": {
          "base_uri": "https://localhost:8080/"
        },
        "id": "hpTXwtWw6Tav",
        "outputId": "9582682c-9b96-4779-f654-06dddcb3e466"
      },
      "execution_count": 3,
      "outputs": [
        {
          "output_type": "stream",
          "name": "stdout",
          "text": [
            "Vera 2000\n",
            "Chuck 1800\n",
            "Dave 1900\n"
          ]
        }
      ]
    },
    {
      "cell_type": "code",
      "source": [
        "class Employee:\n",
        "    def __init__(self, first_name, last_name, salary):\n",
        "        self.first_name = first_name\n",
        "        self.last_name = last_name\n",
        "        self.salary = salary\n",
        "\n",
        "e1 = Employee(\"Vera\", \"Schmidt\", 2000)\n",
        "e2 = Employee(\"Chuck\", \"Murphy\", 1800)\n",
        "e3 = Employee(\"Dave\", \"Dreissing\", 1900)\n",
        "\n",
        "print(e1.first_name, e1.last_name, e1.salary)\n",
        "print(e2.first_name, e2.last_name, e2.salary)\n",
        "print(e3.first_name, e3.last_name, e3.salary)"
      ],
      "metadata": {
        "colab": {
          "base_uri": "https://localhost:8080/"
        },
        "id": "0sM3akHc6j8d",
        "outputId": "8582c99c-f6ab-47ce-9064-e522a6d3d104"
      },
      "execution_count": 4,
      "outputs": [
        {
          "output_type": "stream",
          "name": "stdout",
          "text": [
            "Vera Schmidt 2000\n",
            "Chuck Murphy 1800\n",
            "Dave Dreissing 1900\n"
          ]
        }
      ]
    },
    {
      "cell_type": "code",
      "source": [
        "class Employee:\n",
        "    def __init__(self, first_name, last_name, salary):\n",
        "        self.first_name = first_name\n",
        "        self.last_name = last_name\n",
        "        self.salary = salary\n",
        "\n",
        "    def get_full_name(self):\n",
        "        return f\"{self.first_name} {self.last_name}\"\n",
        "\n",
        "e1 = Employee(\"Vera\", \"Schmidt\", 2000)\n",
        "e2 = Employee(\"Chuck\", \"Murphy\", 1800)\n",
        "e3 = Employee(\"Dave\", \"Dreissing\", 1900)\n",
        "\n",
        "print(e1.get_full_name())\n",
        "print(e2.get_full_name())\n",
        "print(e3.get_full_name())"
      ],
      "metadata": {
        "colab": {
          "base_uri": "https://localhost:8080/"
        },
        "id": "svS8s7P96mF5",
        "outputId": "b32afd24-29a9-46cd-b8cf-afcaf85cbe7f"
      },
      "execution_count": 5,
      "outputs": [
        {
          "output_type": "stream",
          "name": "stdout",
          "text": [
            "Vera Schmidt\n",
            "Chuck Murphy\n",
            "Dave Dreissing\n"
          ]
        }
      ]
    },
    {
      "cell_type": "code",
      "source": [
        "class Employee:\n",
        "    def __init__(self, first_name, last_name, salary):\n",
        "        self.first_name = first_name\n",
        "        self.middle_name = middle_name\n",
        "        self.last_name = last_name\n",
        "        self.salary = salary\n",
        "\n",
        "    def get_full_name(self):\n",
        "        return f\"{self.first_name} {self.last_name}\"\n",
        "\n",
        "e1 = Employee(\"Vera\", \"Maria\", \"Schmidt\", 2000)\n",
        "e2 = Employee(\"Chuck\", \"Thomas\", \"Murphy\", 1800)\n",
        "e3 = Employee(\"Dave\", \"Franz\", \"Dreissing\", 1900)\n",
        "\n",
        "print(e1.get_full_name())\n",
        "print(e2.get_full_name())\n",
        "print(e3.get_full_name())"
      ],
      "metadata": {
        "id": "tQZ3zz0N6n-G"
      },
      "execution_count": 7,
      "outputs": []
    },
    {
      "cell_type": "code",
      "source": [
        "class Employee:\n",
        "    def __init__(self, name, salary):\n",
        "        self.name = name\n",
        "        self.salary = salary\n",
        "\n",
        "    def get_info(self):\n",
        "        return f\"Employee {self.name}, salary {self.salary}\"\n",
        "\n",
        "employees = [\n",
        "    Employee(\"Vera\", 2000),\n",
        "    Employee(\"Chuck\", 1800),\n",
        "    Employee(\"Dave\", 1900),\n",
        "]\n",
        "\n",
        "for e in employees:\n",
        "    print(e.get_info())"
      ],
      "metadata": {
        "colab": {
          "base_uri": "https://localhost:8080/"
        },
        "id": "y-nEvx6w6pqQ",
        "outputId": "a6520ec1-1bce-45b1-aa85-21daaec2bfb3"
      },
      "execution_count": 8,
      "outputs": [
        {
          "output_type": "stream",
          "name": "stdout",
          "text": [
            "Employee Vera, salary 2000\n",
            "Employee Chuck, salary 1800\n",
            "Employee Dave, salary 1900\n"
          ]
        }
      ]
    },
    {
      "cell_type": "code",
      "source": [
        "from abc import ABC\n",
        "from abc import abstractmethod\n",
        "\n",
        "class Shape:\n",
        "    def __init__(self, x, y):\n",
        "        self.x = x\n",
        "        self.y = y\n",
        "\n",
        "    @abstractmethod\n",
        "    def render(self):\n",
        "        pass\n",
        "\n",
        "class Circle(Shape):\n",
        "    def render(self):\n",
        "        return f\"Rendering circle at x:{self.x}, y:{self.y}.\"\n",
        "\n",
        "class Rectangle(Shape):\n",
        "    def render(self):\n",
        "        return f\"Rendering rectangle at x:{self.x}, y:{self.y}.\"\n",
        "\n",
        "shapes = [\n",
        "    Circle(30, 40),\n",
        "    Rectangle(100, 20),\n",
        "    Shape(50, 50),\n",
        "]\n",
        "\n",
        "for s in shapes:\n",
        "    print(s.render())"
      ],
      "metadata": {
        "colab": {
          "base_uri": "https://localhost:8080/"
        },
        "id": "ru34A40V659J",
        "outputId": "e99e0847-be56-4639-f494-f672c9adba5f"
      },
      "execution_count": 11,
      "outputs": [
        {
          "output_type": "stream",
          "name": "stdout",
          "text": [
            "Rendering circle at x:30, y:40.\n",
            "Rendering rectangle at x:100, y:20.\n",
            "None\n"
          ]
        }
      ]
    },
    {
      "cell_type": "code",
      "source": [
        "from abc import ABC\n",
        "from abc import abstractmethod\n",
        "\n",
        "class Shape:\n",
        "    def __init__(self, x, y):\n",
        "        self.x = x\n",
        "        self.y = y\n",
        "\n",
        "    @abstractmethod\n",
        "    def render(self):\n",
        "        pass\n",
        "\n",
        "class Circle(Shape):\n",
        "    def render(self):\n",
        "        return f\"Rendering circle at x:{self.x}, y:{self.y}.\"\n",
        "\n",
        "class Rectangle(Shape):\n",
        "    def render(self):\n",
        "        return f\"Rendering rectangle at x:{self.x}, y:{self.y}.\"\n",
        "\n",
        "class Ellipse(Shape):\n",
        "    pass\n",
        "\n",
        "shapes = [\n",
        "    Circle(30, 40),\n",
        "    Rectangle(100, 20),\n",
        "    Ellipse(100, 20),\n",
        "]\n",
        "\n",
        "for s in shapes:\n",
        "    print(s.render())"
      ],
      "metadata": {
        "colab": {
          "base_uri": "https://localhost:8080/"
        },
        "id": "oaGXbuWA7DQD",
        "outputId": "103cd295-0cd9-48a9-b943-78bdb6ce5cbd"
      },
      "execution_count": 13,
      "outputs": [
        {
          "output_type": "stream",
          "name": "stdout",
          "text": [
            "Rendering circle at x:30, y:40.\n",
            "Rendering rectangle at x:100, y:20.\n",
            "None\n"
          ]
        }
      ]
    },
    {
      "cell_type": "code",
      "source": [
        "from abc import ABC\n",
        "from abc import abstractmethod\n",
        "\n",
        "class Shape:\n",
        "    def __init__(self, x, y):\n",
        "        self.x = x\n",
        "        self.y = y\n",
        "\n",
        "    @abstractmethod\n",
        "    def render(self):\n",
        "        pass\n",
        "\n",
        "class Circle(Shape):\n",
        "    def render(self):\n",
        "        return f\"Rendering circle at x:{self.x}, y:{self.y}.\"\n",
        "\n",
        "class Rectangle(Shape):\n",
        "    def render(self):\n",
        "        return f\"Rendering rectangle at x:{self.x}, y:{self.y}.\"\n",
        "\n",
        "class Ellipse(Shape):\n",
        "    def render(self):\n",
        "        return f\"Rendering rectangle at x:{self.x}, y:{self.y}.\"\n",
        "\n",
        "shapes = [\n",
        "    Circle(30, 40),\n",
        "    Rectangle(100, 20),\n",
        "    Ellipse(100, 20),\n",
        "]\n",
        "\n",
        "for s in shapes:\n",
        "    print(s.render())"
      ],
      "metadata": {
        "colab": {
          "base_uri": "https://localhost:8080/"
        },
        "id": "X099T0wp7J0J",
        "outputId": "6373a279-b861-4706-c122-d05c173f3211"
      },
      "execution_count": 14,
      "outputs": [
        {
          "output_type": "stream",
          "name": "stdout",
          "text": [
            "Rendering circle at x:30, y:40.\n",
            "Rendering rectangle at x:100, y:20.\n",
            "Rendering rectangle at x:100, y:20.\n"
          ]
        }
      ]
    },
    {
      "cell_type": "code",
      "source": [
        "class Circle:\n",
        "    def render_circle(self):\n",
        "        return \"Circle geometry\"\n",
        "\n",
        "class Rectangle:\n",
        "    def render_rectangle(self):\n",
        "        return \"Rectangel geometry\"\n",
        "\n",
        "shapes = [Circle(), Rectangle()]\n",
        "\n",
        "for s in shapes:\n",
        "    if type(s) is Circle:\n",
        "        print(s.render_circle())\n",
        "    elif type(s) is Rectangle:\n",
        "        print(s.render_rectangle())"
      ],
      "metadata": {
        "colab": {
          "base_uri": "https://localhost:8080/"
        },
        "id": "d9R0HYpQ7XGJ",
        "outputId": "db748ceb-f796-4b27-b14c-81eeef22f974"
      },
      "execution_count": 15,
      "outputs": [
        {
          "output_type": "stream",
          "name": "stdout",
          "text": [
            "Circle geometry\n",
            "Rectangel geometry\n"
          ]
        }
      ]
    }
  ]
}
