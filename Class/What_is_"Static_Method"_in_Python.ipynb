{
  "nbformat": 4,
  "nbformat_minor": 0,
  "metadata": {
    "colab": {
      "provenance": [],
      "authorship_tag": "ABX9TyPJXZcx56Rvr9qK2Izshy+J"
    },
    "kernelspec": {
      "name": "python3",
      "display_name": "Python 3"
    },
    "language_info": {
      "name": "python"
    }
  },
  "cells": [
    {
      "cell_type": "markdown",
      "source": [
        "[Reference](https://medium.com/@shahooda637/what-is-static-method-in-python-81f3deffb613)"
      ],
      "metadata": {
        "id": "RiAxegrD63GS"
      }
    },
    {
      "cell_type": "code",
      "execution_count": 1,
      "metadata": {
        "id": "-08pEfPM0Ney"
      },
      "outputs": [],
      "source": [
        "# defining a class\n",
        "\n",
        "class travel:\n",
        "\n",
        "  def traveller(self, name, place):\n",
        "    self.name = name\n",
        "    self.place = place\n",
        "\n",
        "  flight_num = '23552'\n",
        "\n",
        "  @staticmethod\n",
        "  def travel_date(travel_date):\n",
        "    print(travel_date)\n",
        "\n",
        "  @classmethod\n",
        "  def flight_details(cls, flight_number):\n",
        "    travel.flight_num = flight_number\n",
        "    return flight_number"
      ]
    },
    {
      "cell_type": "code",
      "source": [
        "t1 = travel()\n",
        "t1.traveller('Isha Choudhary', 'Bombay')"
      ],
      "metadata": {
        "id": "1C-cooQJ7fDT"
      },
      "execution_count": 2,
      "outputs": []
    },
    {
      "cell_type": "code",
      "source": [
        "t1.name"
      ],
      "metadata": {
        "colab": {
          "base_uri": "https://localhost:8080/",
          "height": 35
        },
        "id": "ljk92iz07h_0",
        "outputId": "d3280a1c-9790-406f-9f15-6ca7bd612af5"
      },
      "execution_count": 3,
      "outputs": [
        {
          "output_type": "execute_result",
          "data": {
            "text/plain": [
              "'Isha Choudhary'"
            ],
            "application/vnd.google.colaboratory.intrinsic+json": {
              "type": "string"
            }
          },
          "metadata": {},
          "execution_count": 3
        }
      ]
    },
    {
      "cell_type": "code",
      "source": [
        "t1.place"
      ],
      "metadata": {
        "colab": {
          "base_uri": "https://localhost:8080/",
          "height": 35
        },
        "id": "vcQvBwZj7kdd",
        "outputId": "272eb182-d5ba-4205-80af-9a3b59b5b664"
      },
      "execution_count": 4,
      "outputs": [
        {
          "output_type": "execute_result",
          "data": {
            "text/plain": [
              "'Bombay'"
            ],
            "application/vnd.google.colaboratory.intrinsic+json": {
              "type": "string"
            }
          },
          "metadata": {},
          "execution_count": 4
        }
      ]
    },
    {
      "cell_type": "code",
      "source": [
        "#accessing static method\n",
        "\n",
        "t1.travel_date('27/10/23')"
      ],
      "metadata": {
        "colab": {
          "base_uri": "https://localhost:8080/"
        },
        "id": "JmBlq2eO7klm",
        "outputId": "3a08f193-7aca-45c0-afd5-a211bd116a9a"
      },
      "execution_count": 5,
      "outputs": [
        {
          "output_type": "stream",
          "name": "stdout",
          "text": [
            "27/10/23\n"
          ]
        }
      ]
    },
    {
      "cell_type": "code",
      "source": [
        "t1.flight_details(12535)"
      ],
      "metadata": {
        "colab": {
          "base_uri": "https://localhost:8080/"
        },
        "id": "PVoDot9Y7mwd",
        "outputId": "6fb40b12-2e32-4387-a333-4fe31b58e83a"
      },
      "execution_count": 6,
      "outputs": [
        {
          "output_type": "execute_result",
          "data": {
            "text/plain": [
              "12535"
            ]
          },
          "metadata": {},
          "execution_count": 6
        }
      ]
    },
    {
      "cell_type": "code",
      "source": [
        "class datacience_class:\n",
        "  def student_details(self, name, mail_id, number):\n",
        "    print(name, mail_id, number)\n",
        "\n",
        "  @staticmethod\n",
        "  def mentor_mail_id(mail_id):\n",
        "    print(mail_id)\n",
        "\n",
        "  # static method using another static method inside it\n",
        "  @staticmethod\n",
        "  def mentor_class(list_mentor):\n",
        "    print(list_mentor)\n",
        "    datacience_class.mentor_mail_id(['isha@gmail.com', 'sha@gmail.com'])\n",
        "\n",
        "  @classmethod\n",
        "  def class_name(cls, class_name):\n",
        "    cls.mentor_class(['isha', 'krish'])\n",
        "\n",
        "  # instance method using static method with one other static method inside it\n",
        "  def mentor(self, mentor_list):\n",
        "    print(mentor_list)\n",
        "    self.mentor_class(['intro class', 'machine learning'])"
      ],
      "metadata": {
        "id": "u-Oyhnvh7plD"
      },
      "execution_count": 7,
      "outputs": []
    },
    {
      "cell_type": "code",
      "source": [
        "s1 = datacience_class()\n",
        "s1.mentor_class(['isha', 'sha'])"
      ],
      "metadata": {
        "colab": {
          "base_uri": "https://localhost:8080/"
        },
        "id": "TISBkLu97suO",
        "outputId": "81d19d9c-db8a-4057-d405-d61d6fd86163"
      },
      "execution_count": 8,
      "outputs": [
        {
          "output_type": "stream",
          "name": "stdout",
          "text": [
            "['isha', 'sha']\n",
            "['isha@gmail.com', 'sha@gmail.com']\n"
          ]
        }
      ]
    },
    {
      "cell_type": "code",
      "source": [
        "s1.mentor(['isha', 'sha'])"
      ],
      "metadata": {
        "colab": {
          "base_uri": "https://localhost:8080/"
        },
        "id": "HyJL-rXo7u6c",
        "outputId": "b0c68268-00f4-4b9d-f885-b49fe0a52fa7"
      },
      "execution_count": 9,
      "outputs": [
        {
          "output_type": "stream",
          "name": "stdout",
          "text": [
            "['isha', 'sha']\n",
            "['intro class', 'machine learning']\n",
            "['isha@gmail.com', 'sha@gmail.com']\n"
          ]
        }
      ]
    }
  ]
}
