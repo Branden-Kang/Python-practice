{
  "nbformat": 4,
  "nbformat_minor": 0,
  "metadata": {
    "colab": {
      "provenance": [],
      "authorship_tag": "ABX9TyPVksxC1E4cW2XpI0lIakOd"
    },
    "kernelspec": {
      "name": "python3",
      "display_name": "Python 3"
    },
    "language_info": {
      "name": "python"
    }
  },
  "cells": [
    {
      "cell_type": "markdown",
      "source": [
        "[Reference](https://ishanjain-ai.medium.com/understanding-pythons-init-method-object-initialization-in-depth-cc16f6e1e322)"
      ],
      "metadata": {
        "id": "mJzqCZopf-Z0"
      }
    },
    {
      "cell_type": "code",
      "execution_count": 1,
      "metadata": {
        "colab": {
          "base_uri": "https://localhost:8080/"
        },
        "id": "qzRpUC6ZfuwI",
        "outputId": "77070df6-b520-43cf-84f3-cbd62ee71b4e"
      },
      "outputs": [
        {
          "output_type": "stream",
          "name": "stdout",
          "text": [
            "red\n"
          ]
        }
      ],
      "source": [
        "class Toy:\n",
        "    def __init__(self):\n",
        "        self.color = \"red\"\n",
        "\n",
        "my_toy = Toy()\n",
        "print(my_toy.color)"
      ]
    },
    {
      "cell_type": "code",
      "source": [
        "class Toy:\n",
        "    def __init__(self, color):\n",
        "        self.color = color\n",
        "\n",
        "my_toy = Toy(\"blue\")\n",
        "print(my_toy.color)"
      ],
      "metadata": {
        "colab": {
          "base_uri": "https://localhost:8080/"
        },
        "id": "vFV5udy8iKvC",
        "outputId": "51957684-0cce-496e-bb48-f2ba94160029"
      },
      "execution_count": 2,
      "outputs": [
        {
          "output_type": "stream",
          "name": "stdout",
          "text": [
            "blue\n"
          ]
        }
      ]
    },
    {
      "cell_type": "code",
      "source": [
        "class Toy:\n",
        "    def __init__(self, color, size):\n",
        "        self.color = color\n",
        "        self.size = size\n",
        "\n",
        "my_toy = Toy(\"green\", \"small\")\n",
        "print(my_toy.color)\n",
        "print(my_toy.size)"
      ],
      "metadata": {
        "colab": {
          "base_uri": "https://localhost:8080/"
        },
        "id": "jEIcGd5-iL3A",
        "outputId": "7e0f5ff3-21a5-4772-d22e-13e84a701bad"
      },
      "execution_count": 3,
      "outputs": [
        {
          "output_type": "stream",
          "name": "stdout",
          "text": [
            "green\n",
            "small\n"
          ]
        }
      ]
    },
    {
      "cell_type": "code",
      "source": [
        "class Toy:\n",
        "    def __init__(self, color=\"red\", size=\"medium\"):\n",
        "        self.color = color\n",
        "        self.size = size\n",
        "\n",
        "my_toy1 = Toy()  # No specific color or size given\n",
        "my_toy2 = Toy(\"blue\")  # Only color is specified\n",
        "\n",
        "print(my_toy1.color, my_toy1.size)\n",
        "print(my_toy2.color, my_toy2.size)"
      ],
      "metadata": {
        "colab": {
          "base_uri": "https://localhost:8080/"
        },
        "id": "WZE_kDJ6iM8v",
        "outputId": "dbc477a8-86b6-4005-d45c-6cc83d95b2a6"
      },
      "execution_count": 4,
      "outputs": [
        {
          "output_type": "stream",
          "name": "stdout",
          "text": [
            "red medium\n",
            "blue medium\n"
          ]
        }
      ]
    },
    {
      "cell_type": "code",
      "source": [
        "class Car:\n",
        "    def __init__(self, make, model, year, color=\"white\"):\n",
        "        self.make = make\n",
        "        self.model = model\n",
        "        self.year = year\n",
        "        self.color = color\n",
        "\n",
        "my_car = Car(\"Toyota\", \"Camry\", 2023)\n",
        "print(f\"My car is a {my_car.year} {my_car.make} {my_car.model} in {my_car.color}.\")"
      ],
      "metadata": {
        "colab": {
          "base_uri": "https://localhost:8080/"
        },
        "id": "VYaA4mXKiOJk",
        "outputId": "0371219c-293b-4783-eacf-0463394071de"
      },
      "execution_count": 5,
      "outputs": [
        {
          "output_type": "stream",
          "name": "stdout",
          "text": [
            "My car is a 2023 Toyota Camry in white.\n"
          ]
        }
      ]
    }
  ]
}
