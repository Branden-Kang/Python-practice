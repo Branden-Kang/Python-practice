{
  "nbformat": 4,
  "nbformat_minor": 0,
  "metadata": {
    "colab": {
      "name": "Abstract Classes and Metaclasses in Python.ipynb",
      "provenance": [],
      "authorship_tag": "ABX9TyN0fXvScTGMz34L7teWWopo"
    },
    "kernelspec": {
      "name": "python3",
      "display_name": "Python 3"
    }
  },
  "cells": [
    {
      "cell_type": "markdown",
      "metadata": {
        "id": "ZUMmT8dGUg6M"
      },
      "source": [
        "[Reference](https://medium.com/better-programming/abstract-classes-and-metaclasses-in-python-9236ccfbf88b)"
      ]
    },
    {
      "cell_type": "code",
      "metadata": {
        "id": "LpvUixBuU2Dx"
      },
      "source": [
        "from abc import ABC, abstractmethod "
      ],
      "execution_count": 8,
      "outputs": []
    },
    {
      "cell_type": "code",
      "metadata": {
        "id": "zeWZUy7FVDOG"
      },
      "source": [
        "class AbstractRenderer(ABC): \n",
        "    @abstractmethod \n",
        "    def render(self, data): \n",
        "        raise NotImplementedError()"
      ],
      "execution_count": 13,
      "outputs": []
    },
    {
      "cell_type": "code",
      "metadata": {
        "id": "mEzbOJVEUyyL"
      },
      "source": [
        "class AbstractVehicle(ABC): \n",
        "    @property \n",
        "    @abstractmethod \n",
        "    def engine(self): \n",
        "        raise NotImplementedError() \n",
        "    @engine.setter \n",
        "    @abstractmethod \n",
        "    def engine(self, _engine): \n",
        "        raise NotImplementedError()"
      ],
      "execution_count": 9,
      "outputs": []
    },
    {
      "cell_type": "code",
      "metadata": {
        "colab": {
          "base_uri": "https://localhost:8080/"
        },
        "id": "U-aoYaYrUfJS",
        "outputId": "a9626fc4-3729-4dd5-9919-6a52b3baea8a"
      },
      "source": [
        "class Car(AbstractVehicle): \n",
        "    _engine = '' \n",
        "    @property \n",
        "    def engine(self): \n",
        "        return self._engine \n",
        "    @engine.setter \n",
        "    def engine(self, new_engine): \n",
        "        self._engine = new_engine.upper() \n",
        "car = Car() \n",
        "car.engine = 'v8 3.2 liters' \n",
        "print(car.engine) "
      ],
      "execution_count": 10,
      "outputs": [
        {
          "output_type": "stream",
          "text": [
            "V8 3.2 LITERS\n"
          ],
          "name": "stdout"
        }
      ]
    },
    {
      "cell_type": "markdown",
      "metadata": {
        "id": "_gusb57kVN2v"
      },
      "source": [
        "# Metaclasses"
      ]
    },
    {
      "cell_type": "code",
      "metadata": {
        "id": "3DDK-ZjEUlOy"
      },
      "source": [
        "class CustomMeta(type): \n",
        "    def __new__(cls, clsname, bases, attrs): \n",
        "        if 'render' not in attrs.values(): \n",
        "            raise Exception() \n",
        "        return type(clsname, bases, attrs) \n",
        "class SomeClass(metaclass=CustomMeta): \n",
        "    pass"
      ],
      "execution_count": 18,
      "outputs": []
    }
  ]
}