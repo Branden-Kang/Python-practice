{
  "nbformat": 4,
  "nbformat_minor": 0,
  "metadata": {
    "colab": {
      "provenance": [],
      "authorship_tag": "ABX9TyNqQhrimTnnVUrlo7Sbz90u"
    },
    "kernelspec": {
      "name": "python3",
      "display_name": "Python 3"
    },
    "language_info": {
      "name": "python"
    }
  },
  "cells": [
    {
      "cell_type": "markdown",
      "source": [
        "[Reference](https://sunilrana123.medium.com/python-strategy-design-pattern-a71ab531e4bb)"
      ],
      "metadata": {
        "id": "32RisguYiSwD"
      }
    },
    {
      "cell_type": "code",
      "execution_count": 3,
      "metadata": {
        "colab": {
          "base_uri": "https://localhost:8080/"
        },
        "id": "C1IFxqR3deZs",
        "outputId": "38961608-3db7-478e-f0e6-df635d355d0d"
      },
      "outputs": [
        {
          "output_type": "stream",
          "name": "stdout",
          "text": [
            "Payment made with Visa\n",
            "Payment made with MasterCard\n",
            "Payment made with RupayCard\n"
          ]
        }
      ],
      "source": [
        "from typing import Protocol\n",
        "\n",
        "# Payment context\n",
        "class Payment:\n",
        "    def __init__(self, payment_type:\"PaymentType\"):\n",
        "        self.payment_type = payment_type\n",
        "\n",
        "    def pay(self) -> None:\n",
        "        return self.payment_type.pay()\n",
        "\n",
        "# strategy interface\n",
        "class PaymentType(Protocol):\n",
        "    def pay(self):\n",
        "        ...\n",
        "\n",
        "# strategy 1\n",
        "class Visa():\n",
        "    def pay(self):\n",
        "        print (\"Payment made with Visa\")\n",
        "\n",
        "# strategy 2\n",
        "class MasterCard():\n",
        "    def pay(self):\n",
        "        print (\"Payment made with MasterCard\")\n",
        "\n",
        "# strategy 3\n",
        "class RuPayCard():\n",
        "    def pay(self):\n",
        "        print (\"Payment made with RupayCard\")\n",
        "\n",
        "\n",
        "def main():\n",
        "\n",
        "    payment_1 = Payment(Visa())\n",
        "    payment_2 = Payment(MasterCard())\n",
        "    payment_3 = Payment(RuPayCard())\n",
        "\n",
        "\n",
        "    # make payment\n",
        "    payment_1.pay()\n",
        "    payment_2.pay()\n",
        "    payment_3.pay()\n",
        "\n",
        "if __name__ == \"__main__\":\n",
        "    main()"
      ]
    }
  ]
}
