{
  "nbformat": 4,
  "nbformat_minor": 0,
  "metadata": {
    "colab": {
      "name": "Why Python Developers Should Use @staticmethod and @classmethod.ipynb",
      "provenance": [],
      "collapsed_sections": [],
      "authorship_tag": "ABX9TyMF8YbvU4kCCjSp02N45GP7"
    },
    "kernelspec": {
      "name": "python3",
      "display_name": "Python 3"
    },
    "language_info": {
      "name": "python"
    }
  },
  "cells": [
    {
      "cell_type": "markdown",
      "source": [
        "[Reference](https://blog.devgenius.io/why-python-developers-should-use-staticmethod-and-classmethod-d5fe60497f23)"
      ],
      "metadata": {
        "id": "aJb3HFSL2w0f"
      }
    },
    {
      "cell_type": "markdown",
      "source": [
        "# @staticmethod\n"
      ],
      "metadata": {
        "id": "ksFGl2Mw24C2"
      }
    },
    {
      "cell_type": "code",
      "execution_count": 1,
      "metadata": {
        "id": "lI1RIKeA2vRV"
      },
      "outputs": [],
      "source": [
        "class Supermarket:\n",
        "    product = \"Milk\"  # class attribute\n",
        "    \n",
        "    def __init__(self, product, best_before):\n",
        "        self.best_before = best_before  # instance attribute\n",
        "        self.product = product\n",
        "    @staticmethod    \n",
        "    def normalize_product_name(product):\n",
        "        product = product.capitalize().strip()        \n",
        "        return product"
      ]
    },
    {
      "cell_type": "code",
      "source": [
        "norm_product = Supermarket.normalize_product_name(\"milk  \")"
      ],
      "metadata": {
        "id": "lDxA2ZGE2zn-"
      },
      "execution_count": 2,
      "outputs": []
    },
    {
      "cell_type": "code",
      "source": [
        "obj = Supermarket(\"Bread\", \"2022-05-18\")\n",
        "obj.normalize_product_name(\"milk  \")"
      ],
      "metadata": {
        "colab": {
          "base_uri": "https://localhost:8080/",
          "height": 37
        },
        "id": "vop5hpNz21pv",
        "outputId": "62ac4574-bdfa-4d2b-f65f-9da66f2f1c58"
      },
      "execution_count": 3,
      "outputs": [
        {
          "output_type": "execute_result",
          "data": {
            "text/plain": [
              "'Milk'"
            ],
            "application/vnd.google.colaboratory.intrinsic+json": {
              "type": "string"
            }
          },
          "metadata": {},
          "execution_count": 3
        }
      ]
    },
    {
      "cell_type": "markdown",
      "source": [
        "# @classmethod\n"
      ],
      "metadata": {
        "id": "A_2pbVjC25Ru"
      }
    },
    {
      "cell_type": "code",
      "source": [
        "class Supermarket:\n",
        "    product = \"Milk\"  # class attribute\n",
        "    \n",
        "    def __init__(self, product, best_before):\n",
        "        self.best_before = best_before  # instance attribute\n",
        "        self.product = product\n",
        "    @classmethod    \n",
        "    def get_product(cls):\n",
        "        print(\"product=\" + cls.product)"
      ],
      "metadata": {
        "id": "us3lNnYs22sV"
      },
      "execution_count": 4,
      "outputs": []
    },
    {
      "cell_type": "code",
      "source": [
        "Supermarket.get_product()"
      ],
      "metadata": {
        "colab": {
          "base_uri": "https://localhost:8080/"
        },
        "id": "knD66eEQ2-lP",
        "outputId": "b8a8a321-abcb-4c9a-eeb1-b2bb410bd506"
      },
      "execution_count": 5,
      "outputs": [
        {
          "output_type": "stream",
          "name": "stdout",
          "text": [
            "product=Milk\n"
          ]
        }
      ]
    },
    {
      "cell_type": "code",
      "source": [
        "obj = Supermarket()\n",
        "obj.get_product()"
      ],
      "metadata": {
        "colab": {
          "base_uri": "https://localhost:8080/",
          "height": 181
        },
        "id": "GKB3wF9a2_ya",
        "outputId": "3ebafbff-0896-43ae-f695-5d139baf449c"
      },
      "execution_count": 6,
      "outputs": [
        {
          "output_type": "error",
          "ename": "TypeError",
          "evalue": "ignored",
          "traceback": [
            "\u001b[0;31m---------------------------------------------------------------------------\u001b[0m",
            "\u001b[0;31mTypeError\u001b[0m                                 Traceback (most recent call last)",
            "\u001b[0;32m<ipython-input-6-3762af15dac6>\u001b[0m in \u001b[0;36m<module>\u001b[0;34m()\u001b[0m\n\u001b[0;32m----> 1\u001b[0;31m \u001b[0mobj\u001b[0m \u001b[0;34m=\u001b[0m \u001b[0mSupermarket\u001b[0m\u001b[0;34m(\u001b[0m\u001b[0;34m)\u001b[0m\u001b[0;34m\u001b[0m\u001b[0;34m\u001b[0m\u001b[0m\n\u001b[0m\u001b[1;32m      2\u001b[0m \u001b[0mobj\u001b[0m\u001b[0;34m.\u001b[0m\u001b[0mget_product\u001b[0m\u001b[0;34m(\u001b[0m\u001b[0;34m)\u001b[0m\u001b[0;34m\u001b[0m\u001b[0;34m\u001b[0m\u001b[0m\n",
            "\u001b[0;31mTypeError\u001b[0m: __init__() missing 2 required positional arguments: 'product' and 'best_before'"
          ]
        }
      ]
    },
    {
      "cell_type": "code",
      "source": [
        "class Supermarket:\n",
        "    product = \"Milk\"  # class attribute\n",
        "    \n",
        "    def __init__(self, product, best_before):\n",
        "        self.best_before = best_before  # instance attribute\n",
        "        self.product = product\n",
        "    @classmethod    \n",
        "    def get_product(cls):\n",
        "        print(f\"product={cls.product}, age={cls.best_before}\")\n",
        "\n",
        "Supermarket.get_product()"
      ],
      "metadata": {
        "colab": {
          "base_uri": "https://localhost:8080/",
          "height": 317
        },
        "id": "MHJuYc5g3BGW",
        "outputId": "4374b81d-dd79-4b08-d929-16e017d46ecd"
      },
      "execution_count": 8,
      "outputs": [
        {
          "output_type": "error",
          "ename": "AttributeError",
          "evalue": "ignored",
          "traceback": [
            "\u001b[0;31m---------------------------------------------------------------------------\u001b[0m",
            "\u001b[0;31mAttributeError\u001b[0m                            Traceback (most recent call last)",
            "\u001b[0;32m<ipython-input-8-0f8513d3a7ee>\u001b[0m in \u001b[0;36m<module>\u001b[0;34m()\u001b[0m\n\u001b[1;32m      9\u001b[0m         \u001b[0mprint\u001b[0m\u001b[0;34m(\u001b[0m\u001b[0;34mf\"product={cls.product}, age={cls.best_before}\"\u001b[0m\u001b[0;34m)\u001b[0m\u001b[0;34m\u001b[0m\u001b[0;34m\u001b[0m\u001b[0m\n\u001b[1;32m     10\u001b[0m \u001b[0;34m\u001b[0m\u001b[0m\n\u001b[0;32m---> 11\u001b[0;31m \u001b[0mSupermarket\u001b[0m\u001b[0;34m.\u001b[0m\u001b[0mget_product\u001b[0m\u001b[0;34m(\u001b[0m\u001b[0;34m)\u001b[0m\u001b[0;34m\u001b[0m\u001b[0;34m\u001b[0m\u001b[0m\n\u001b[0m",
            "\u001b[0;32m<ipython-input-8-0f8513d3a7ee>\u001b[0m in \u001b[0;36mget_product\u001b[0;34m(cls)\u001b[0m\n\u001b[1;32m      7\u001b[0m     \u001b[0;34m@\u001b[0m\u001b[0mclassmethod\u001b[0m\u001b[0;34m\u001b[0m\u001b[0;34m\u001b[0m\u001b[0m\n\u001b[1;32m      8\u001b[0m     \u001b[0;32mdef\u001b[0m \u001b[0mget_product\u001b[0m\u001b[0;34m(\u001b[0m\u001b[0mcls\u001b[0m\u001b[0;34m)\u001b[0m\u001b[0;34m:\u001b[0m\u001b[0;34m\u001b[0m\u001b[0;34m\u001b[0m\u001b[0m\n\u001b[0;32m----> 9\u001b[0;31m         \u001b[0mprint\u001b[0m\u001b[0;34m(\u001b[0m\u001b[0;34mf\"product={cls.product}, age={cls.best_before}\"\u001b[0m\u001b[0;34m)\u001b[0m\u001b[0;34m\u001b[0m\u001b[0;34m\u001b[0m\u001b[0m\n\u001b[0m\u001b[1;32m     10\u001b[0m \u001b[0;34m\u001b[0m\u001b[0m\n\u001b[1;32m     11\u001b[0m \u001b[0mSupermarket\u001b[0m\u001b[0;34m.\u001b[0m\u001b[0mget_product\u001b[0m\u001b[0;34m(\u001b[0m\u001b[0;34m)\u001b[0m\u001b[0;34m\u001b[0m\u001b[0;34m\u001b[0m\u001b[0m\n",
            "\u001b[0;31mAttributeError\u001b[0m: type object 'Supermarket' has no attribute 'best_before'"
          ]
        }
      ]
    },
    {
      "cell_type": "markdown",
      "source": [
        "# When should you use static methods?\n"
      ],
      "metadata": {
        "id": "bte9TvnI3sit"
      }
    },
    {
      "cell_type": "markdown",
      "source": [
        "# 1. Grouping utility function to a class\n"
      ],
      "metadata": {
        "id": "6i18Q1Nw3eNH"
      }
    },
    {
      "cell_type": "code",
      "source": [
        "from datetime import datetime\n",
        "\n",
        "class Supermarket:    \n",
        "    def __init__(self, product, best_before):\n",
        "        self.best_before = \"2022-05-18\"\n",
        "        self.product = \"Milk\"\n",
        "    \n",
        "    @staticmethod    \n",
        "    def change_date_format(best_before):\n",
        "        best_before = datetime.strptime(best_before, \"%Y-%m-%d\")\n",
        "        best_before = best_before.strftime(\"%d-%m-%Y\")\n",
        "        return best_before\n",
        "\n",
        "Supermarket.change_date_format(\"2022-08-06\")"
      ],
      "metadata": {
        "colab": {
          "base_uri": "https://localhost:8080/",
          "height": 37
        },
        "id": "IjYXLFRB3UIx",
        "outputId": "545592de-cd43-476f-99f5-44ecc4109bcd"
      },
      "execution_count": 7,
      "outputs": [
        {
          "output_type": "execute_result",
          "data": {
            "text/plain": [
              "'06-08-2022'"
            ],
            "application/vnd.google.colaboratory.intrinsic+json": {
              "type": "string"
            }
          },
          "metadata": {},
          "execution_count": 7
        }
      ]
    },
    {
      "cell_type": "markdown",
      "source": [
        "# 2. Having a single implementation\n"
      ],
      "metadata": {
        "id": "cJNe-nYR3f5F"
      }
    },
    {
      "cell_type": "code",
      "source": [
        "from datetime import datetime\n",
        "\n",
        "class Supermarket:    \n",
        "    def __init__(self, product, best_before):\n",
        "        self.best_before = best_before\n",
        "        self.product = product\n",
        "        \n",
        "    def get_best_before_date(self):\n",
        "        return self.best_before\n",
        "    \n",
        "    @staticmethod    \n",
        "    def change_date_format(best_before):\n",
        "        best_before = datetime.strptime(best_before, \"%Y-%m-%d\")\n",
        "        best_before = best_before.strftime(\"%d-%m-%Y\")\n",
        "        return best_before\n",
        "\n",
        "class GroceryStore(Supermarket):\n",
        "    def get_best_before_date(self):\n",
        "        return Supermarket.change_date_format(self.best_before)\n",
        "    \n",
        "    \n",
        "supermarket = Supermarket(\"Milk\", \"2022-05-18\")\n",
        "grocery = GroceryStore(\"Milk\", \"2022-05-18\")\n",
        "supermarket.get_best_before_date()\n",
        "grocery.get_best_before_date()"
      ],
      "metadata": {
        "colab": {
          "base_uri": "https://localhost:8080/",
          "height": 37
        },
        "id": "Slp6bIIa3YTK",
        "outputId": "06a8109f-a30c-45b0-b980-d9389663bd3a"
      },
      "execution_count": 9,
      "outputs": [
        {
          "output_type": "execute_result",
          "data": {
            "text/plain": [
              "'18-05-2022'"
            ],
            "application/vnd.google.colaboratory.intrinsic+json": {
              "type": "string"
            }
          },
          "metadata": {},
          "execution_count": 9
        }
      ]
    },
    {
      "cell_type": "markdown",
      "source": [
        "# When should you use class method?\n"
      ],
      "metadata": {
        "id": "s1epgafc3qX9"
      }
    },
    {
      "cell_type": "markdown",
      "source": [
        "# 1. Factory methods\n"
      ],
      "metadata": {
        "id": "KA5ti8KT3h71"
      }
    },
    {
      "cell_type": "code",
      "source": [
        "class Supermarket:    \n",
        "    def __init__(self, product, best_before):\n",
        "        self.best_before = \"2022-05-18\"\n",
        "        self.product = \"Milk\"\n",
        "    \n",
        "    @classmethod    \n",
        "    def add_product(cls):\n",
        "        return cls(\"Bread\", \"2022-05-29\")\n",
        "obj = Supermarket.add_product()\n",
        "obj.product\n",
        "obj.best_before"
      ],
      "metadata": {
        "colab": {
          "base_uri": "https://localhost:8080/",
          "height": 37
        },
        "id": "HkO1vhS13b-G",
        "outputId": "6b61f7ce-0af9-4711-b64a-6a6d9cebf2a9"
      },
      "execution_count": 10,
      "outputs": [
        {
          "output_type": "execute_result",
          "data": {
            "text/plain": [
              "'2022-05-18'"
            ],
            "application/vnd.google.colaboratory.intrinsic+json": {
              "type": "string"
            }
          },
          "metadata": {},
          "execution_count": 10
        }
      ]
    },
    {
      "cell_type": "markdown",
      "source": [
        "# 2. Correct instance creation in inheritance\n"
      ],
      "metadata": {
        "id": "b9AXFS3X3lkG"
      }
    },
    {
      "cell_type": "code",
      "source": [
        "class Supermarket:\n",
        "    product_price = {\"Milk\": 1}\n",
        "    def __init__(self, product, best_before):\n",
        "        self.best_before = \"2022-05-18\"\n",
        "        self.product = \"Milk\"\n",
        "    @staticmethod\n",
        "    def add_import_product(product, best_before):\n",
        "        return Supermarket(product, best_before)\n",
        "    @classmethod    \n",
        "    def add_product(cls, product, best_before):\n",
        "        return cls(product, best_before)\n",
        "\n",
        "class GroceryStore(Supermarket):\n",
        "    product_price = {\"Milk\": 2}\n",
        "grocery1 = GroceryStore.add_import_product(\"Bread\", \"2022-06-05\")\n",
        "isinstance(grocery1, GroceryStore)"
      ],
      "metadata": {
        "colab": {
          "base_uri": "https://localhost:8080/"
        },
        "id": "tplg4Te23kwb",
        "outputId": "22a6a8d5-aabd-4f0d-f82f-d9df37930f7f"
      },
      "execution_count": 11,
      "outputs": [
        {
          "output_type": "execute_result",
          "data": {
            "text/plain": [
              "False"
            ]
          },
          "metadata": {},
          "execution_count": 11
        }
      ]
    },
    {
      "cell_type": "code",
      "source": [
        "grocery2 = GroceryStore.add_product(\"Apple\", \"2022-06-10\")\n",
        "isinstance(grocery2, GroceryStore)"
      ],
      "metadata": {
        "colab": {
          "base_uri": "https://localhost:8080/"
        },
        "id": "uzZgjp-N3oHt",
        "outputId": "0d978786-eea0-4ced-bf52-73a04ab27ec1"
      },
      "execution_count": 12,
      "outputs": [
        {
          "output_type": "execute_result",
          "data": {
            "text/plain": [
              "True"
            ]
          },
          "metadata": {},
          "execution_count": 12
        }
      ]
    }
  ]
}