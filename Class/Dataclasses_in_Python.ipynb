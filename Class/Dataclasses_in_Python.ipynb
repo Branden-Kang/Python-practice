{
  "nbformat": 4,
  "nbformat_minor": 0,
  "metadata": {
    "colab": {
      "name": "Dataclasses in Python.ipynb",
      "provenance": [],
      "authorship_tag": "ABX9TyPz2yUvfDG95fhDlAKhVnKA"
    },
    "kernelspec": {
      "name": "python3",
      "display_name": "Python 3"
    },
    "language_info": {
      "name": "python"
    }
  },
  "cells": [
    {
      "cell_type": "markdown",
      "metadata": {
        "id": "ShmtiTarSIs5"
      },
      "source": [
        "[Reference](https://betterprogramming.pub/python-elegant-and-concise-models-with-the-dataclasses-3992b5f5a08d)"
      ]
    },
    {
      "cell_type": "code",
      "metadata": {
        "colab": {
          "base_uri": "https://localhost:8080/"
        },
        "id": "haPEcWUlSHda",
        "outputId": "56dec8e1-0574-4f27-9551-ca44cde5acad"
      },
      "source": [
        "from dataclasses import dataclass\n",
        "\n",
        "\n",
        "@dataclass\n",
        "class Position:\n",
        "  lat: float\n",
        "  lon: float\n",
        "\n",
        "if __name__ == '__main__':\n",
        "  position = Position(37.6216, -122.3929)\n",
        "  print(position)"
      ],
      "execution_count": 1,
      "outputs": [
        {
          "output_type": "stream",
          "text": [
            "Position(lat=37.6216, lon=-122.3929)\n"
          ],
          "name": "stdout"
        }
      ]
    },
    {
      "cell_type": "code",
      "metadata": {
        "colab": {
          "base_uri": "https://localhost:8080/"
        },
        "id": "galakAulSLq7",
        "outputId": "1b4aaa84-19e2-4fc2-f514-4bed08cd4912"
      },
      "source": [
        "from dataclasses import dataclass\n",
        "\n",
        "\n",
        "@dataclass\n",
        "class Position:\n",
        "  lat: float\n",
        "  lon: float\n",
        "\n",
        "\n",
        "if __name__ == '__main__':\n",
        "  position = Position(37.6216, -122.3929)\n",
        "  print(position == Position(37.6216, -122.3929))"
      ],
      "execution_count": 2,
      "outputs": [
        {
          "output_type": "stream",
          "text": [
            "True\n"
          ],
          "name": "stdout"
        }
      ]
    },
    {
      "cell_type": "code",
      "metadata": {
        "colab": {
          "base_uri": "https://localhost:8080/"
        },
        "id": "M-pR3dYdSQEZ",
        "outputId": "32fbbdf9-ed15-473f-b938-54541c85d41b"
      },
      "source": [
        "from dataclasses import dataclass\n",
        "\n",
        "import math\n",
        "\n",
        "\n",
        "@dataclass\n",
        "class Position:\n",
        "  lat: float\n",
        "  lon: float\n",
        "\n",
        "  def distance_to(self, position):\n",
        "    \"\"\"\n",
        "    Calculate harversine distance between two positions\n",
        "    :param position: other position object\n",
        "    :return: a float representing distance in kilometers between two positions\n",
        "    \"\"\"\n",
        "    r = 6371.0  # Earth radius in kilometers\n",
        "    lam1, lam2 = math.radians(self.lon), math.radians(position.lon)\n",
        "    phi1, phi2 = math.radians(self.lat), math.radians(position.lat)\n",
        "    delta_lam, delta_phi = lam2 - lam1, phi2 - phi1\n",
        "    a = math.sin(delta_phi / 2) ** 2 + math.cos(phi1) * math.cos(phi2) * math.sin(delta_lam / 2) ** 2\n",
        "    return r * (2 * math.atan2(math.sqrt(a), math.sqrt(1 - a)))\n",
        "\n",
        "\n",
        "if __name__ == '__main__':\n",
        "  paris = Position(2.3522219, 48.856614)\n",
        "  san_francisco = Position(37.6216, -122.3929)\n",
        "  print(paris.distance_to(san_francisco))"
      ],
      "execution_count": 3,
      "outputs": [
        {
          "output_type": "stream",
          "text": [
            "15479.614752629424\n"
          ],
          "name": "stdout"
        }
      ]
    },
    {
      "cell_type": "code",
      "metadata": {
        "colab": {
          "base_uri": "https://localhost:8080/",
          "height": 249
        },
        "id": "wX6ybYuzST9Z",
        "outputId": "e9e21f32-f189-4136-8d89-40eaf99fc39d"
      },
      "source": [
        "from dataclasses import dataclass\n",
        "\n",
        "\n",
        "@dataclass\n",
        "class Position:\n",
        "  lat: float\n",
        "  lon: float\n",
        "\n",
        "\n",
        "@dataclass\n",
        "class Town:\n",
        "  name: str\n",
        "  position: Position\n",
        "\n",
        "\n",
        "if __name__ == '__main__':\n",
        "  paris = Town('Paris', Position(2.3522219, 48.856614))\n",
        "  san_francisco = Town('San Francisco', Position(37.6216, -122.3929))\n",
        "  print(paris.distance_to(san_francisco))"
      ],
      "execution_count": 4,
      "outputs": [
        {
          "output_type": "error",
          "ename": "AttributeError",
          "evalue": "ignored",
          "traceback": [
            "\u001b[0;31m---------------------------------------------------------------------------\u001b[0m",
            "\u001b[0;31mAttributeError\u001b[0m                            Traceback (most recent call last)",
            "\u001b[0;32m<ipython-input-4-2aa19649278c>\u001b[0m in \u001b[0;36m<module>\u001b[0;34m()\u001b[0m\n\u001b[1;32m     17\u001b[0m   \u001b[0mparis\u001b[0m \u001b[0;34m=\u001b[0m \u001b[0mTown\u001b[0m\u001b[0;34m(\u001b[0m\u001b[0;34m'Paris'\u001b[0m\u001b[0;34m,\u001b[0m \u001b[0mPosition\u001b[0m\u001b[0;34m(\u001b[0m\u001b[0;36m2.3522219\u001b[0m\u001b[0;34m,\u001b[0m \u001b[0;36m48.856614\u001b[0m\u001b[0;34m)\u001b[0m\u001b[0;34m)\u001b[0m\u001b[0;34m\u001b[0m\u001b[0;34m\u001b[0m\u001b[0m\n\u001b[1;32m     18\u001b[0m   \u001b[0msan_francisco\u001b[0m \u001b[0;34m=\u001b[0m \u001b[0mTown\u001b[0m\u001b[0;34m(\u001b[0m\u001b[0;34m'San Francisco'\u001b[0m\u001b[0;34m,\u001b[0m \u001b[0mPosition\u001b[0m\u001b[0;34m(\u001b[0m\u001b[0;36m37.6216\u001b[0m\u001b[0;34m,\u001b[0m \u001b[0;34m-\u001b[0m\u001b[0;36m122.3929\u001b[0m\u001b[0;34m)\u001b[0m\u001b[0;34m)\u001b[0m\u001b[0;34m\u001b[0m\u001b[0;34m\u001b[0m\u001b[0m\n\u001b[0;32m---> 19\u001b[0;31m   \u001b[0mprint\u001b[0m\u001b[0;34m(\u001b[0m\u001b[0mparis\u001b[0m\u001b[0;34m.\u001b[0m\u001b[0mdistance_to\u001b[0m\u001b[0;34m(\u001b[0m\u001b[0msan_francisco\u001b[0m\u001b[0;34m)\u001b[0m\u001b[0;34m)\u001b[0m\u001b[0;34m\u001b[0m\u001b[0;34m\u001b[0m\u001b[0m\n\u001b[0m",
            "\u001b[0;31mAttributeError\u001b[0m: 'Town' object has no attribute 'distance_to'"
          ]
        }
      ]
    },
    {
      "cell_type": "code",
      "metadata": {
        "id": "82PeRgZ2SkcF"
      },
      "source": [
        "from dataclasses import dataclass\n",
        "\n",
        "\n",
        "@dataclass\n",
        "class Position:\n",
        "  lat: float\n",
        "  lon: float\n",
        "\n",
        "\n",
        "@dataclass\n",
        "class Town(Position):\n",
        "  name: str\n",
        "\n",
        "\n",
        "if __name__ == '__main__':\n",
        "  paris = Town(2.3522219, 48.856614, 'Paris')\n",
        "  san_francisco = Town(37.6216, -122.3929, 'San Francisco')"
      ],
      "execution_count": 5,
      "outputs": []
    },
    {
      "cell_type": "code",
      "metadata": {
        "id": "Cy0djRaHTCT1"
      },
      "source": [
        "from dataclasses import dataclass\n",
        "\n",
        "\n",
        "@dataclass\n",
        "class Position:\n",
        "  lat: float\n",
        "  lon: float\n",
        "\n",
        "\n",
        "@dataclass\n",
        "class Town(Position):\n",
        "  name: str\n",
        "\n",
        "\n",
        "@dataclass\n",
        "class Capital(Town):\n",
        "  pass\n",
        "\n",
        "\n",
        "if __name__ == '__main__':\n",
        "  paris = Capital(2.3522219, 48.856614, 'Paris')\n",
        "  san_francisco = Town(37.6216, -122.3929, 'San Francisco')"
      ],
      "execution_count": 6,
      "outputs": []
    },
    {
      "cell_type": "code",
      "metadata": {
        "id": "UxeQsg1qTJO3"
      },
      "source": [
        "from dataclasses import dataclass, field\n",
        "\n",
        "\n",
        "@dataclass\n",
        "class Position:\n",
        "  lat: float = field(default=0.0, metadata={'unit': 'degrees'})\n",
        "  lon: float = field(default=0.0, metadata={'unit': 'degrees'})\n",
        "\n",
        "\n",
        "@dataclass\n",
        "class Town(Position):\n",
        "  # Default arguments cannot be followed by non-default arguments\n",
        "  name: str = None\n",
        "\n",
        "\n",
        "if __name__ == '__main__':\n",
        "  paris = Town(2.3522219, 48.856614, 'Paris')\n",
        "  san_francisco = Town(37.6216, -122.3929, 'San Francisco')"
      ],
      "execution_count": 8,
      "outputs": []
    },
    {
      "cell_type": "code",
      "metadata": {
        "colab": {
          "base_uri": "https://localhost:8080/"
        },
        "id": "VuIR-kVZTLJs",
        "outputId": "cabe39a0-be49-425a-c4fb-9d44997fc575"
      },
      "source": [
        "from dataclasses import dataclass, field\n",
        "from typing import List\n",
        "\n",
        "\n",
        "@dataclass(frozen=True)\n",
        "class Position:\n",
        "  lat: float = field(default=0.0, metadata={'unit': 'degrees'})\n",
        "  lon: float = field(default=0.0, metadata={'unit': 'degrees'})\n",
        "\n",
        "\n",
        "@dataclass(frozen=True)\n",
        "class Town(Position):\n",
        "  name: str = None\n",
        "\n",
        "\n",
        "@dataclass(frozen=True)\n",
        "class Capital(Town):\n",
        "  pass\n",
        "\n",
        "\n",
        "@dataclass\n",
        "class Country:\n",
        "  code: str\n",
        "  towns: List[Town] = field(default_factory=list)\n",
        "\n",
        "  def get_capital(self):\n",
        "    try:\n",
        "      return list(filter(lambda x: isinstance(x, Capital), self.towns)).__getitem__(0)\n",
        "    except IndexError:\n",
        "      return None\n",
        "\n",
        "\n",
        "if __name__ == '__main__':\n",
        "  paris = Capital(2.3522219, 48.856614, 'Paris')\n",
        "  san_francisco = Town(37.6216, -122.3929, 'San Francisco')\n",
        "  washington = Capital(47.751076, -120.740135, 'Washington')\n",
        "  united_states = Country('US', [san_francisco, washington])\n",
        "  print(united_states.get_capital())"
      ],
      "execution_count": 9,
      "outputs": [
        {
          "output_type": "stream",
          "text": [
            "Capital(lat=47.751076, lon=-120.740135, name='Washington')\n"
          ],
          "name": "stdout"
        }
      ]
    }
  ]
}