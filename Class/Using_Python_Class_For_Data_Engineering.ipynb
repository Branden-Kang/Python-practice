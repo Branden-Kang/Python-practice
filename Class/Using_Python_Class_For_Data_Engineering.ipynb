{
  "nbformat": 4,
  "nbformat_minor": 0,
  "metadata": {
    "colab": {
      "provenance": [],
      "authorship_tag": "ABX9TyMvkZd0iSKnP58g5FVyAOYq"
    },
    "kernelspec": {
      "name": "python3",
      "display_name": "Python 3"
    },
    "language_info": {
      "name": "python"
    }
  },
  "cells": [
    {
      "cell_type": "markdown",
      "source": [
        "[Reference](https://levelup.gitconnected.com/using-python-class-for-data-engineering-5edc4c3c9132using-python-and-seaborn-5da6ea015935)"
      ],
      "metadata": {
        "id": "a4FBqxCQ8Y9y"
      }
    },
    {
      "cell_type": "markdown",
      "source": [
        "# 1. Easier collections of fields"
      ],
      "metadata": {
        "id": "sSI9b22C8oMC"
      }
    },
    {
      "cell_type": "code",
      "execution_count": 2,
      "metadata": {
        "id": "xYoM34FZ69kn"
      },
      "outputs": [],
      "source": [
        "# car_colors[23] = 'yellow'  # Color of Car 23\n",
        "# car_mileage[23] = 38189.4  # Mileage of Car 23"
      ]
    },
    {
      "cell_type": "code",
      "source": [
        "# cars[23].color = 'yellow'\n",
        "# cars[23].mileage = 38189.4"
      ],
      "metadata": {
        "id": "P7fyT3zz8nGl"
      },
      "execution_count": 3,
      "outputs": []
    },
    {
      "cell_type": "markdown",
      "source": [
        "# 2. The ability to chain objects together and let them interact in an expressive way"
      ],
      "metadata": {
        "id": "d66uWXi28ppX"
      }
    },
    {
      "cell_type": "code",
      "source": [
        "# if not garage.is_full:\n",
        "#     garage.add(my_car)\n",
        "#     my_car.turn_off()\n",
        "#     garage.close()\n",
        "\n",
        "# if not is_garage_full(garage):\n",
        "#     add_car_to_garage(my_car, garage)\n",
        "#     turn_off_car(my_car)\n",
        "#     close_garage(garage)"
      ],
      "metadata": {
        "id": "SXmkY5wx8nas"
      },
      "execution_count": 5,
      "outputs": []
    },
    {
      "cell_type": "markdown",
      "source": [
        "# 3. Data Class"
      ],
      "metadata": {
        "id": "Cp_ucJJ48vo-"
      }
    },
    {
      "cell_type": "code",
      "source": [
        "from dataclasses import dataclass\n",
        "\n",
        "@dataclass\n",
        "class DataClassCard:\n",
        "    rank: str\n",
        "    suit: str"
      ],
      "metadata": {
        "id": "6fAwsaER8sgy"
      },
      "execution_count": 6,
      "outputs": []
    },
    {
      "cell_type": "code",
      "source": [
        "queen_of_hearts = DataClassCard('Q', 'Hearts')\n",
        "queen_of_hearts.rank"
      ],
      "metadata": {
        "colab": {
          "base_uri": "https://localhost:8080/",
          "height": 37
        },
        "id": "3VR9fXEk8w4K",
        "outputId": "30cd6a32-e4aa-40fa-adfc-2b4781df7d7b"
      },
      "execution_count": 7,
      "outputs": [
        {
          "output_type": "execute_result",
          "data": {
            "text/plain": [
              "'Q'"
            ],
            "application/vnd.google.colaboratory.intrinsic+json": {
              "type": "string"
            }
          },
          "metadata": {},
          "execution_count": 7
        }
      ]
    },
    {
      "cell_type": "code",
      "source": [
        "queen_of_hearts"
      ],
      "metadata": {
        "colab": {
          "base_uri": "https://localhost:8080/"
        },
        "id": "T2ifd2Iv8zKJ",
        "outputId": "027d38d5-834b-48f9-dfd0-f4373db82e30"
      },
      "execution_count": 8,
      "outputs": [
        {
          "output_type": "execute_result",
          "data": {
            "text/plain": [
              "DataClassCard(rank='Q', suit='Hearts')"
            ]
          },
          "metadata": {},
          "execution_count": 8
        }
      ]
    },
    {
      "cell_type": "code",
      "source": [
        "queen_of_hearts == DataClassCard('Q', 'Hearts')"
      ],
      "metadata": {
        "colab": {
          "base_uri": "https://localhost:8080/"
        },
        "id": "hu429Clq81Wm",
        "outputId": "1f85ef47-681f-4996-db0b-187a972cafa0"
      },
      "execution_count": 9,
      "outputs": [
        {
          "output_type": "execute_result",
          "data": {
            "text/plain": [
              "True"
            ]
          },
          "metadata": {},
          "execution_count": 9
        }
      ]
    },
    {
      "cell_type": "code",
      "source": [
        "class RegularCard:\n",
        "    def __init__(self, rank, suit):\n",
        "        self.rank = rank\n",
        "        self.suit = suit\n",
        "\n",
        "queen_of_hearts = RegularCard('Q', 'Hearts')\n",
        "queen_of_hearts.rank"
      ],
      "metadata": {
        "colab": {
          "base_uri": "https://localhost:8080/",
          "height": 37
        },
        "id": "YOgobX7u81mZ",
        "outputId": "4c7d6570-83d8-4e4d-d7f0-8ffc0917ea70"
      },
      "execution_count": 10,
      "outputs": [
        {
          "output_type": "execute_result",
          "data": {
            "text/plain": [
              "'Q'"
            ],
            "application/vnd.google.colaboratory.intrinsic+json": {
              "type": "string"
            }
          },
          "metadata": {},
          "execution_count": 10
        }
      ]
    },
    {
      "cell_type": "code",
      "source": [
        "queen_of_hearts"
      ],
      "metadata": {
        "colab": {
          "base_uri": "https://localhost:8080/"
        },
        "id": "nXW9cgSN84v5",
        "outputId": "23b90490-2cfa-433d-effb-41f5f4a010ad"
      },
      "execution_count": 11,
      "outputs": [
        {
          "output_type": "execute_result",
          "data": {
            "text/plain": [
              "<__main__.RegularCard at 0x7f6b7bbf77d0>"
            ]
          },
          "metadata": {},
          "execution_count": 11
        }
      ]
    },
    {
      "cell_type": "code",
      "source": [
        "queen_of_hearts == RegularCard('Q', 'Hearts')"
      ],
      "metadata": {
        "colab": {
          "base_uri": "https://localhost:8080/"
        },
        "id": "QSwYMUQ685sP",
        "outputId": "37bb7224-6a8a-49b5-beaf-45335b7f0029"
      },
      "execution_count": 12,
      "outputs": [
        {
          "output_type": "execute_result",
          "data": {
            "text/plain": [
              "False"
            ]
          },
          "metadata": {},
          "execution_count": 12
        }
      ]
    }
  ]
}
