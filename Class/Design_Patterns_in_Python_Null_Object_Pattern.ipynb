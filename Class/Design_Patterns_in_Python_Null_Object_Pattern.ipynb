{
  "nbformat": 4,
  "nbformat_minor": 0,
  "metadata": {
    "colab": {
      "provenance": [],
      "authorship_tag": "ABX9TyP/242vCpfuGc3CvmAKLpGY"
    },
    "kernelspec": {
      "name": "python3",
      "display_name": "Python 3"
    },
    "language_info": {
      "name": "python"
    }
  },
  "cells": [
    {
      "cell_type": "markdown",
      "source": [
        "[Reference](https://blog.devops.dev/design-patterns-in-python-null-object-pattern-82e79617a141)"
      ],
      "metadata": {
        "id": "MG6AgzEIpM8p"
      }
    },
    {
      "cell_type": "code",
      "execution_count": 1,
      "metadata": {
        "colab": {
          "base_uri": "https://localhost:8080/"
        },
        "id": "tCfqmy42neuS",
        "outputId": "461c7539-8736-4eff-8ec2-9d466a6d65d9"
      },
      "outputs": [
        {
          "output_type": "stream",
          "name": "stdout",
          "text": [
            "Woof!\n",
            "No sound.\n"
          ]
        }
      ],
      "source": [
        "from abc import ABC, abstractmethod\n",
        "\n",
        "# Define the abstract class for the interface\n",
        "class Animal(ABC):\n",
        "\n",
        "    @abstractmethod\n",
        "    def make_sound(self):\n",
        "        pass\n",
        "\n",
        "# Define the concrete class for the interface\n",
        "class Dog(Animal):\n",
        "\n",
        "    def make_sound(self):\n",
        "        return \"Woof!\"\n",
        "\n",
        "# Define the Null Object class for the interface\n",
        "class NullAnimal(Animal):\n",
        "\n",
        "    def make_sound(self):\n",
        "        return \"No sound.\"\n",
        "\n",
        "# Define a function that accepts an Animal object and calls its make_sound() method\n",
        "def make_animal_sound(animal: Animal):\n",
        "    print(animal.make_sound())\n",
        "\n",
        "# Example usage\n",
        "dog = Dog()\n",
        "make_animal_sound(dog) # Output: \"Woof!\"\n",
        "\n",
        "null_animal = NullAnimal()\n",
        "make_animal_sound(null_animal) # Output: \"No sound.\""
      ]
    }
  ]
}
