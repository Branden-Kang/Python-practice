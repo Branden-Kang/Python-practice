{
  "nbformat": 4,
  "nbformat_minor": 0,
  "metadata": {
    "colab": {
      "name": "Class Attributes in Python.ipynb",
      "provenance": [],
      "authorship_tag": "ABX9TyNVod4SVzn8IwwQT32xYOfb"
    },
    "kernelspec": {
      "name": "python3",
      "display_name": "Python 3"
    }
  },
  "cells": [
    {
      "cell_type": "markdown",
      "metadata": {
        "id": "ITGf0tHGhDo4"
      },
      "source": [
        "[Reference](https://medium.com/swlh/attributes-in-python-6-concepts-to-know-1db6562057b1)"
      ]
    },
    {
      "cell_type": "markdown",
      "metadata": {
        "id": "pduO46VyhIfQ"
      },
      "source": [
        "# 1. Class Attributes"
      ]
    },
    {
      "cell_type": "code",
      "metadata": {
        "id": "F5Kd98LxhBG4"
      },
      "source": [
        "class Dog:\n",
        "     genus = \"Canis\"\n",
        "     family = \"Canidae\""
      ],
      "execution_count": 1,
      "outputs": []
    },
    {
      "cell_type": "code",
      "metadata": {
        "colab": {
          "base_uri": "https://localhost:8080/",
          "height": 37
        },
        "id": "Ta2u-ub0hLHd",
        "outputId": "f0d9861e-944e-4b2d-bc12-16601efebafb"
      },
      "source": [
        "Dog.genus"
      ],
      "execution_count": 2,
      "outputs": [
        {
          "output_type": "execute_result",
          "data": {
            "application/vnd.google.colaboratory.intrinsic+json": {
              "type": "string"
            },
            "text/plain": [
              "'Canis'"
            ]
          },
          "metadata": {
            "tags": []
          },
          "execution_count": 2
        }
      ]
    },
    {
      "cell_type": "code",
      "metadata": {
        "colab": {
          "base_uri": "https://localhost:8080/",
          "height": 37
        },
        "id": "VrRh7f9LhMRI",
        "outputId": "8e0a42e1-1b60-47f8-dcb1-aa16b03dd1de"
      },
      "source": [
        "Dog.family"
      ],
      "execution_count": 3,
      "outputs": [
        {
          "output_type": "execute_result",
          "data": {
            "application/vnd.google.colaboratory.intrinsic+json": {
              "type": "string"
            },
            "text/plain": [
              "'Canidae'"
            ]
          },
          "metadata": {
            "tags": []
          },
          "execution_count": 3
        }
      ]
    },
    {
      "cell_type": "code",
      "metadata": {
        "colab": {
          "base_uri": "https://localhost:8080/"
        },
        "id": "V2obfKm2hNpj",
        "outputId": "18049b76-148d-4867-cf74-790bdea86eff"
      },
      "source": [
        "dir(Dog)"
      ],
      "execution_count": 4,
      "outputs": [
        {
          "output_type": "execute_result",
          "data": {
            "text/plain": [
              "['__class__',\n",
              " '__delattr__',\n",
              " '__dict__',\n",
              " '__dir__',\n",
              " '__doc__',\n",
              " '__eq__',\n",
              " '__format__',\n",
              " '__ge__',\n",
              " '__getattribute__',\n",
              " '__gt__',\n",
              " '__hash__',\n",
              " '__init__',\n",
              " '__init_subclass__',\n",
              " '__le__',\n",
              " '__lt__',\n",
              " '__module__',\n",
              " '__ne__',\n",
              " '__new__',\n",
              " '__reduce__',\n",
              " '__reduce_ex__',\n",
              " '__repr__',\n",
              " '__setattr__',\n",
              " '__sizeof__',\n",
              " '__str__',\n",
              " '__subclasshook__',\n",
              " '__weakref__',\n",
              " 'family',\n",
              " 'genus']"
            ]
          },
          "metadata": {
            "tags": []
          },
          "execution_count": 4
        }
      ]
    },
    {
      "cell_type": "code",
      "metadata": {
        "colab": {
          "base_uri": "https://localhost:8080/",
          "height": 37
        },
        "id": "OWiqeCilhOtr",
        "outputId": "2373e9e1-17a2-42b0-e96f-d560c035c9e5"
      },
      "source": [
        "Dog().genus"
      ],
      "execution_count": 5,
      "outputs": [
        {
          "output_type": "execute_result",
          "data": {
            "application/vnd.google.colaboratory.intrinsic+json": {
              "type": "string"
            },
            "text/plain": [
              "'Canis'"
            ]
          },
          "metadata": {
            "tags": []
          },
          "execution_count": 5
        }
      ]
    },
    {
      "cell_type": "code",
      "metadata": {
        "colab": {
          "base_uri": "https://localhost:8080/",
          "height": 37
        },
        "id": "M4xo3iSVhTmO",
        "outputId": "b56242f8-f3ef-444b-a168-d7e21ad94859"
      },
      "source": [
        "Dog().family"
      ],
      "execution_count": 6,
      "outputs": [
        {
          "output_type": "execute_result",
          "data": {
            "application/vnd.google.colaboratory.intrinsic+json": {
              "type": "string"
            },
            "text/plain": [
              "'Canidae'"
            ]
          },
          "metadata": {
            "tags": []
          },
          "execution_count": 6
        }
      ]
    },
    {
      "cell_type": "markdown",
      "metadata": {
        "id": "bByJ8A_ehXvO"
      },
      "source": [
        "# 2. Instance Attributes"
      ]
    },
    {
      "cell_type": "code",
      "metadata": {
        "id": "ThtylO9qhUgn"
      },
      "source": [
        "class Dog:\n",
        "     genus = \"Canis\"\n",
        "     family = \"Canidae\"\n",
        "\n",
        "     def __init__(self, breed, name):\n",
        "         self.breed = breed\n",
        "         self.name = name"
      ],
      "execution_count": 7,
      "outputs": []
    },
    {
      "cell_type": "code",
      "metadata": {
        "id": "D065f90phZv4"
      },
      "source": [
        "dog = Dog(\"Rottweiler\", \"Ada\")"
      ],
      "execution_count": 8,
      "outputs": []
    },
    {
      "cell_type": "code",
      "metadata": {
        "colab": {
          "base_uri": "https://localhost:8080/",
          "height": 37
        },
        "id": "WvLs0v55hddQ",
        "outputId": "61e28955-91df-4b41-aedb-6800e6ff90e3"
      },
      "source": [
        "dog.name"
      ],
      "execution_count": 9,
      "outputs": [
        {
          "output_type": "execute_result",
          "data": {
            "application/vnd.google.colaboratory.intrinsic+json": {
              "type": "string"
            },
            "text/plain": [
              "'Ada'"
            ]
          },
          "metadata": {
            "tags": []
          },
          "execution_count": 9
        }
      ]
    },
    {
      "cell_type": "code",
      "metadata": {
        "colab": {
          "base_uri": "https://localhost:8080/",
          "height": 37
        },
        "id": "2kpB5HULhdlE",
        "outputId": "ed0ed680-e681-47e7-c093-7b451bcb8f61"
      },
      "source": [
        "dog.breed"
      ],
      "execution_count": 10,
      "outputs": [
        {
          "output_type": "execute_result",
          "data": {
            "application/vnd.google.colaboratory.intrinsic+json": {
              "type": "string"
            },
            "text/plain": [
              "'Rottweiler'"
            ]
          },
          "metadata": {
            "tags": []
          },
          "execution_count": 10
        }
      ]
    },
    {
      "cell_type": "code",
      "metadata": {
        "id": "DLgGv8iHheed"
      },
      "source": [
        "dog.genus = \"Felis\""
      ],
      "execution_count": 11,
      "outputs": []
    },
    {
      "cell_type": "code",
      "metadata": {
        "colab": {
          "base_uri": "https://localhost:8080/",
          "height": 37
        },
        "id": "V8riHAoqhnci",
        "outputId": "54d88fde-7c5b-4273-b8c0-555b2fcbbb61"
      },
      "source": [
        "dog.genus"
      ],
      "execution_count": 12,
      "outputs": [
        {
          "output_type": "execute_result",
          "data": {
            "application/vnd.google.colaboratory.intrinsic+json": {
              "type": "string"
            },
            "text/plain": [
              "'Felis'"
            ]
          },
          "metadata": {
            "tags": []
          },
          "execution_count": 12
        }
      ]
    },
    {
      "cell_type": "code",
      "metadata": {
        "colab": {
          "base_uri": "https://localhost:8080/",
          "height": 37
        },
        "id": "s2r0B4yqhn9R",
        "outputId": "b4141a6e-db50-4786-bb5b-e68144003850"
      },
      "source": [
        "Dog('Poodle', 'Cutie').genus"
      ],
      "execution_count": 13,
      "outputs": [
        {
          "output_type": "execute_result",
          "data": {
            "application/vnd.google.colaboratory.intrinsic+json": {
              "type": "string"
            },
            "text/plain": [
              "'Canis'"
            ]
          },
          "metadata": {
            "tags": []
          },
          "execution_count": 13
        }
      ]
    },
    {
      "cell_type": "markdown",
      "metadata": {
        "id": "Asook_FnhqkX"
      },
      "source": [
        "# 3. Functions As Attributes"
      ]
    },
    {
      "cell_type": "code",
      "metadata": {
        "id": "BYu63t_fhpGk"
      },
      "source": [
        "class Dog:\n",
        "     genus = \"Canis\"\n",
        "     family = \"Canidae\"\n",
        "\n",
        "     def __init__(self, breed, name):\n",
        "         self.breed = breed\n",
        "         self.name = name\n",
        "\n",
        "     @classmethod\n",
        "     def from_tag(cls, tag_info):\n",
        "         breed = tag_info[\"breed\"]\n",
        "         name = tag_info[\"name\"]\n",
        "         return cls(breed, name)\n",
        "\n",
        "     @staticmethod\n",
        "     def can_bark():\n",
        "         print(\"Yes. All dogs can bark.\")\n",
        "\n",
        "     def bark(self):\n",
        "         print(\"The dog is barking.\")"
      ],
      "execution_count": 14,
      "outputs": []
    },
    {
      "cell_type": "code",
      "metadata": {
        "colab": {
          "base_uri": "https://localhost:8080/"
        },
        "id": "bSfF2w2yhtjf",
        "outputId": "78e0dd43-7c71-410c-def2-ea7df1d839cc"
      },
      "source": [
        "dir(Dog)"
      ],
      "execution_count": 15,
      "outputs": [
        {
          "output_type": "execute_result",
          "data": {
            "text/plain": [
              "['__class__',\n",
              " '__delattr__',\n",
              " '__dict__',\n",
              " '__dir__',\n",
              " '__doc__',\n",
              " '__eq__',\n",
              " '__format__',\n",
              " '__ge__',\n",
              " '__getattribute__',\n",
              " '__gt__',\n",
              " '__hash__',\n",
              " '__init__',\n",
              " '__init_subclass__',\n",
              " '__le__',\n",
              " '__lt__',\n",
              " '__module__',\n",
              " '__ne__',\n",
              " '__new__',\n",
              " '__reduce__',\n",
              " '__reduce_ex__',\n",
              " '__repr__',\n",
              " '__setattr__',\n",
              " '__sizeof__',\n",
              " '__str__',\n",
              " '__subclasshook__',\n",
              " '__weakref__',\n",
              " 'bark',\n",
              " 'can_bark',\n",
              " 'family',\n",
              " 'from_tag',\n",
              " 'genus']"
            ]
          },
          "metadata": {
            "tags": []
          },
          "execution_count": 15
        }
      ]
    },
    {
      "cell_type": "code",
      "metadata": {
        "id": "BKY4a1WEhyBW"
      },
      "source": [
        "dog = Dog(\"Rottweiler\", \"Ada\")"
      ],
      "execution_count": 16,
      "outputs": []
    },
    {
      "cell_type": "code",
      "metadata": {
        "colab": {
          "base_uri": "https://localhost:8080/"
        },
        "id": "Em9A_fyQh0KY",
        "outputId": "3ef89d19-cbe6-4923-c74f-c774b049b3ab"
      },
      "source": [
        "dog.bark()"
      ],
      "execution_count": 17,
      "outputs": [
        {
          "output_type": "stream",
          "text": [
            "The dog is barking.\n"
          ],
          "name": "stdout"
        }
      ]
    },
    {
      "cell_type": "code",
      "metadata": {
        "colab": {
          "base_uri": "https://localhost:8080/"
        },
        "id": "pAFDtVYVh0W1",
        "outputId": "98c178ea-4fd2-476f-b31d-4610c6a09650"
      },
      "source": [
        "Dog.bark(dog)"
      ],
      "execution_count": 19,
      "outputs": [
        {
          "output_type": "stream",
          "text": [
            "The dog is barking.\n"
          ],
          "name": "stdout"
        }
      ]
    },
    {
      "cell_type": "markdown",
      "metadata": {
        "id": "4O8yoWpViFFk"
      },
      "source": [
        "# 4. Private Attributes"
      ]
    },
    {
      "cell_type": "code",
      "metadata": {
        "colab": {
          "base_uri": "https://localhost:8080/",
          "height": 37
        },
        "id": "DSibAuQEh08_",
        "outputId": "35822e14-6b64-4873-b3ff-85e0231ceb01"
      },
      "source": [
        "class Dog:\n",
        "     def __init__(self, breed, name):\n",
        "         self.breed = breed\n",
        "         self.name = name\n",
        "         self.__tag = f\"{name} | {breed}\"\n",
        " \n",
        "dog = Dog(\"Rottweiler\", \"Ada\")\n",
        "dog.name"
      ],
      "execution_count": 20,
      "outputs": [
        {
          "output_type": "execute_result",
          "data": {
            "application/vnd.google.colaboratory.intrinsic+json": {
              "type": "string"
            },
            "text/plain": [
              "'Ada'"
            ]
          },
          "metadata": {
            "tags": []
          },
          "execution_count": 20
        }
      ]
    },
    {
      "cell_type": "code",
      "metadata": {
        "colab": {
          "base_uri": "https://localhost:8080/",
          "height": 198
        },
        "id": "ZupSuCeIiMLq",
        "outputId": "dad5f52a-ce74-42c0-e1d6-ccf758b50820"
      },
      "source": [
        "dog.__tag"
      ],
      "execution_count": 21,
      "outputs": [
        {
          "output_type": "error",
          "ename": "AttributeError",
          "evalue": "ignored",
          "traceback": [
            "\u001b[0;31m---------------------------------------------------------------------------\u001b[0m",
            "\u001b[0;31mAttributeError\u001b[0m                            Traceback (most recent call last)",
            "\u001b[0;32m<ipython-input-21-6ec175560d9a>\u001b[0m in \u001b[0;36m<module>\u001b[0;34m()\u001b[0m\n\u001b[0;32m----> 1\u001b[0;31m \u001b[0mdog\u001b[0m\u001b[0;34m.\u001b[0m\u001b[0m__tag\u001b[0m\u001b[0;34m\u001b[0m\u001b[0;34m\u001b[0m\u001b[0m\n\u001b[0m",
            "\u001b[0;31mAttributeError\u001b[0m: 'Dog' object has no attribute '__tag'"
          ]
        }
      ]
    },
    {
      "cell_type": "code",
      "metadata": {
        "colab": {
          "base_uri": "https://localhost:8080/"
        },
        "id": "L_q_ct_-iPBa",
        "outputId": "3df734ca-0b21-4664-90ec-d91820bd4acf"
      },
      "source": [
        "dog.__dict__"
      ],
      "execution_count": 22,
      "outputs": [
        {
          "output_type": "execute_result",
          "data": {
            "text/plain": [
              "{'_Dog__tag': 'Ada | Rottweiler', 'breed': 'Rottweiler', 'name': 'Ada'}"
            ]
          },
          "metadata": {
            "tags": []
          },
          "execution_count": 22
        }
      ]
    },
    {
      "cell_type": "code",
      "metadata": {
        "colab": {
          "base_uri": "https://localhost:8080/",
          "height": 37
        },
        "id": "VVgaPdBziRv1",
        "outputId": "0566909e-bea0-440e-8716-f7b26b4b35f2"
      },
      "source": [
        "dog._Dog__tag"
      ],
      "execution_count": 23,
      "outputs": [
        {
          "output_type": "execute_result",
          "data": {
            "application/vnd.google.colaboratory.intrinsic+json": {
              "type": "string"
            },
            "text/plain": [
              "'Ada | Rottweiler'"
            ]
          },
          "metadata": {
            "tags": []
          },
          "execution_count": 23
        }
      ]
    },
    {
      "cell_type": "markdown",
      "metadata": {
        "id": "3ReYFTPXiXe2"
      },
      "source": [
        "# 5. Protected Attributes"
      ]
    },
    {
      "cell_type": "code",
      "metadata": {
        "id": "Wm9JAXfkiUBU"
      },
      "source": [
        "class Dog:\n",
        "     def __init__(self, breed, name):\n",
        "         self.breed = breed\n",
        "         self.name = name\n",
        "         self.__tag = f\"{name} | {breed}\"\n",
        "         self._nickname = name[0]"
      ],
      "execution_count": 24,
      "outputs": []
    },
    {
      "cell_type": "code",
      "metadata": {
        "colab": {
          "base_uri": "https://localhost:8080/",
          "height": 37
        },
        "id": "t_yLFJ3FicmM",
        "outputId": "b134c9fb-c0cb-4cbe-c5a8-b0c2af0273c3"
      },
      "source": [
        "dog = Dog(\"Rottweilder\",\"Ada\")\n",
        "dog._nickname"
      ],
      "execution_count": 25,
      "outputs": [
        {
          "output_type": "execute_result",
          "data": {
            "application/vnd.google.colaboratory.intrinsic+json": {
              "type": "string"
            },
            "text/plain": [
              "'A'"
            ]
          },
          "metadata": {
            "tags": []
          },
          "execution_count": 25
        }
      ]
    },
    {
      "cell_type": "code",
      "metadata": {
        "colab": {
          "base_uri": "https://localhost:8080/",
          "height": 37
        },
        "id": "MtAeCSHcih6D",
        "outputId": "c1ac5b77-740d-489a-a48e-bbfbae2987be"
      },
      "source": [
        "dog.breed"
      ],
      "execution_count": 26,
      "outputs": [
        {
          "output_type": "execute_result",
          "data": {
            "application/vnd.google.colaboratory.intrinsic+json": {
              "type": "string"
            },
            "text/plain": [
              "'Rottweilder'"
            ]
          },
          "metadata": {
            "tags": []
          },
          "execution_count": 26
        }
      ]
    },
    {
      "cell_type": "markdown",
      "metadata": {
        "id": "u5XZcqdYil16"
      },
      "source": [
        "# 6. Properties"
      ]
    },
    {
      "cell_type": "code",
      "metadata": {
        "id": "3tfyzaz_ijn7"
      },
      "source": [
        "class Dog:\n",
        "     def __init__(self, breed, name):\n",
        "         self.breed = breed\n",
        "         self.name = name\n",
        "         self.__tag = f\"{name} | {breed}\"\n",
        "         self._nickname = name[0]\n",
        "         \n",
        "     @property\n",
        "     def nickname(self):\n",
        "         return self._nickname"
      ],
      "execution_count": 29,
      "outputs": []
    },
    {
      "cell_type": "code",
      "metadata": {
        "id": "s928oYbgin5Z"
      },
      "source": [
        "dog = Dog(\"Rottweiler\", \"Ada\")"
      ],
      "execution_count": 30,
      "outputs": []
    },
    {
      "cell_type": "code",
      "metadata": {
        "colab": {
          "base_uri": "https://localhost:8080/",
          "height": 37
        },
        "id": "gI7XCBUfio2h",
        "outputId": "9676a592-e09d-4364-c76a-18e17f0ee765"
      },
      "source": [
        "dog.nickname"
      ],
      "execution_count": 31,
      "outputs": [
        {
          "output_type": "execute_result",
          "data": {
            "application/vnd.google.colaboratory.intrinsic+json": {
              "type": "string"
            },
            "text/plain": [
              "'A'"
            ]
          },
          "metadata": {
            "tags": []
          },
          "execution_count": 31
        }
      ]
    },
    {
      "cell_type": "code",
      "metadata": {
        "colab": {
          "base_uri": "https://localhost:8080/",
          "height": 198
        },
        "id": "t6Sv8xuMit8v",
        "outputId": "e05092df-a6e2-4971-96d4-46b87831b137"
      },
      "source": [
        "dog.nickname = \"Azy\""
      ],
      "execution_count": 32,
      "outputs": [
        {
          "output_type": "error",
          "ename": "AttributeError",
          "evalue": "ignored",
          "traceback": [
            "\u001b[0;31m---------------------------------------------------------------------------\u001b[0m",
            "\u001b[0;31mAttributeError\u001b[0m                            Traceback (most recent call last)",
            "\u001b[0;32m<ipython-input-32-4ea85befb3eb>\u001b[0m in \u001b[0;36m<module>\u001b[0;34m()\u001b[0m\n\u001b[0;32m----> 1\u001b[0;31m \u001b[0mdog\u001b[0m\u001b[0;34m.\u001b[0m\u001b[0mnickname\u001b[0m \u001b[0;34m=\u001b[0m \u001b[0;34m\"Azy\"\u001b[0m\u001b[0;34m\u001b[0m\u001b[0;34m\u001b[0m\u001b[0m\n\u001b[0m",
            "\u001b[0;31mAttributeError\u001b[0m: can't set attribute"
          ]
        }
      ]
    },
    {
      "cell_type": "code",
      "metadata": {
        "id": "SY9c7cDiiu1g"
      },
      "source": [
        "class Dog:\n",
        "     def __init__(self, breed, name):\n",
        "         self.breed = breed\n",
        "         self.name = name\n",
        "         self.__tag = f\"{name} | {breed}\"\n",
        "         self._nickname = name[0]\n",
        "         \n",
        "     @property\n",
        "     def nickname(self):\n",
        "         return self._nickname\n",
        "\n",
        "     @nickname.setter\n",
        "     def nickname(self, new_nickname):\n",
        "         self._nickname = new_nickname"
      ],
      "execution_count": 33,
      "outputs": []
    },
    {
      "cell_type": "code",
      "metadata": {
        "id": "1f9st32Tiz8y"
      },
      "source": [
        "dog = Dog(\"Rottweiler\", \"Ada\")"
      ],
      "execution_count": 35,
      "outputs": []
    },
    {
      "cell_type": "code",
      "metadata": {
        "colab": {
          "base_uri": "https://localhost:8080/",
          "height": 37
        },
        "id": "LJnJPkSvi1Dk",
        "outputId": "8c8483cf-0a32-48cb-8f03-bf968d208e41"
      },
      "source": [
        "dog.nickname"
      ],
      "execution_count": 36,
      "outputs": [
        {
          "output_type": "execute_result",
          "data": {
            "application/vnd.google.colaboratory.intrinsic+json": {
              "type": "string"
            },
            "text/plain": [
              "'A'"
            ]
          },
          "metadata": {
            "tags": []
          },
          "execution_count": 36
        }
      ]
    },
    {
      "cell_type": "code",
      "metadata": {
        "id": "_kjKJh6hi37C"
      },
      "source": [
        "dog.nickname = \"Azy\""
      ],
      "execution_count": 37,
      "outputs": []
    },
    {
      "cell_type": "code",
      "metadata": {
        "colab": {
          "base_uri": "https://localhost:8080/",
          "height": 37
        },
        "id": "goDjQHGRi4tO",
        "outputId": "bd569f7b-257b-448f-8ac0-2e4ee7e8db0f"
      },
      "source": [
        "dog.nickname"
      ],
      "execution_count": 38,
      "outputs": [
        {
          "output_type": "execute_result",
          "data": {
            "application/vnd.google.colaboratory.intrinsic+json": {
              "type": "string"
            },
            "text/plain": [
              "'Azy'"
            ]
          },
          "metadata": {
            "tags": []
          },
          "execution_count": 38
        }
      ]
    }
  ]
}