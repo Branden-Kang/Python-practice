{
  "nbformat": 4,
  "nbformat_minor": 0,
  "metadata": {
    "colab": {
      "name": "Get Better at Python f-strings.ipynb",
      "provenance": [],
      "authorship_tag": "ABX9TyNIUMbeeyTg1rk1/4CMUR+d"
    },
    "kernelspec": {
      "name": "python3",
      "display_name": "Python 3"
    },
    "language_info": {
      "name": "python"
    }
  },
  "cells": [
    {
      "cell_type": "markdown",
      "metadata": {
        "id": "Mbp3Pus7rn-9"
      },
      "source": [
        "# 1. Padding numbers with zeros"
      ]
    },
    {
      "cell_type": "code",
      "metadata": {
        "colab": {
          "base_uri": "https://localhost:8080/"
        },
        "id": "wmlUiEmirafW",
        "outputId": "05f5347a-5ace-4d4b-c687-0436b6fdd30d"
      },
      "source": [
        "ids = [12, 13241235, 4634123, 61411, 93827630]\n",
        "\n",
        "for id in ids:\n",
        "    print(f'{id:08}')"
      ],
      "execution_count": 3,
      "outputs": [
        {
          "output_type": "stream",
          "text": [
            "00000012\n",
            "13241235\n",
            "04634123\n",
            "00061411\n",
            "93827630\n"
          ],
          "name": "stdout"
        }
      ]
    },
    {
      "cell_type": "code",
      "metadata": {
        "colab": {
          "base_uri": "https://localhost:8080/"
        },
        "id": "V4Va6KwkrltO",
        "outputId": "ea241681-f556-4771-f7ff-2312874f7008"
      },
      "source": [
        "for i in range(10, -1, -1):\n",
        "    print(f'{i:03}')"
      ],
      "execution_count": 4,
      "outputs": [
        {
          "output_type": "stream",
          "text": [
            "010\n",
            "009\n",
            "008\n",
            "007\n",
            "006\n",
            "005\n",
            "004\n",
            "003\n",
            "002\n",
            "001\n",
            "000\n"
          ],
          "name": "stdout"
        }
      ]
    },
    {
      "cell_type": "markdown",
      "metadata": {
        "id": "TrcOIeU9sE2z"
      },
      "source": [
        "# 2. Adjust Precision with f-Strings"
      ]
    },
    {
      "cell_type": "code",
      "metadata": {
        "colab": {
          "base_uri": "https://localhost:8080/"
        },
        "id": "ydfUOu8UrmtV",
        "outputId": "f1cf3aa8-2cf3-4f21-9969-78bc71ece956"
      },
      "source": [
        "from math import pi\n",
        "\n",
        "for i in range(1, 20):\n",
        "    print(f'{pi:.{i}f}')"
      ],
      "execution_count": 6,
      "outputs": [
        {
          "output_type": "stream",
          "text": [
            "3.1\n",
            "3.14\n",
            "3.142\n",
            "3.1416\n",
            "3.14159\n",
            "3.141593\n",
            "3.1415927\n",
            "3.14159265\n",
            "3.141592654\n",
            "3.1415926536\n",
            "3.14159265359\n",
            "3.141592653590\n",
            "3.1415926535898\n",
            "3.14159265358979\n",
            "3.141592653589793\n",
            "3.1415926535897931\n",
            "3.14159265358979312\n",
            "3.141592653589793116\n",
            "3.1415926535897931160\n"
          ],
          "name": "stdout"
        }
      ]
    },
    {
      "cell_type": "markdown",
      "metadata": {
        "id": "_fzW9L6msRFw"
      },
      "source": [
        "# 3. Better Debugging with f-strings"
      ]
    },
    {
      "cell_type": "code",
      "metadata": {
        "colab": {
          "base_uri": "https://localhost:8080/"
        },
        "id": "mL2CB3CQsDMK",
        "outputId": "1ee3b371-71ce-424d-eab2-110695bb65ff"
      },
      "source": [
        "pi = 3.1415\n",
        "\n",
        "print(f'pi={pi}')\n",
        "print(f'pi = {pi}')"
      ],
      "execution_count": 9,
      "outputs": [
        {
          "output_type": "stream",
          "text": [
            "pi=3.1415\n",
            "pi = 3.1415\n"
          ],
          "name": "stdout"
        }
      ]
    },
    {
      "cell_type": "code",
      "metadata": {
        "colab": {
          "base_uri": "https://localhost:8080/"
        },
        "id": "lgxTieUgsUh9",
        "outputId": "a173bf44-10e0-44c4-e4b4-c0229271576c"
      },
      "source": [
        "def add(x, y):\n",
        "    print('x is', x)\n",
        "    print('y is', y)\n",
        "    return x + y\n",
        "\n",
        "add(2, 3)"
      ],
      "execution_count": 10,
      "outputs": [
        {
          "output_type": "stream",
          "text": [
            "x is 2\n",
            "y is 3\n"
          ],
          "name": "stdout"
        },
        {
          "output_type": "execute_result",
          "data": {
            "text/plain": [
              "5"
            ]
          },
          "metadata": {
            "tags": []
          },
          "execution_count": 10
        }
      ]
    },
    {
      "cell_type": "code",
      "metadata": {
        "colab": {
          "base_uri": "https://localhost:8080/"
        },
        "id": "lBHgwmhhsgRg",
        "outputId": "bd667ce3-ed12-44fa-8ecb-280711e870ed"
      },
      "source": [
        "def add(x, y):\n",
        "    print(f'x = {x}, y = {y}')\n",
        "    return x + y\n",
        "\n",
        "add(2, 3)"
      ],
      "execution_count": 12,
      "outputs": [
        {
          "output_type": "stream",
          "text": [
            "x = 2, y = 3\n"
          ],
          "name": "stdout"
        },
        {
          "output_type": "execute_result",
          "data": {
            "text/plain": [
              "5"
            ]
          },
          "metadata": {
            "tags": []
          },
          "execution_count": 12
        }
      ]
    },
    {
      "cell_type": "markdown",
      "metadata": {
        "id": "7bvl_3fMsQ4h"
      },
      "source": [
        "# 4. Align Strings with f-strings"
      ]
    },
    {
      "cell_type": "code",
      "metadata": {
        "colab": {
          "base_uri": "https://localhost:8080/"
        },
        "id": "WZmyQZo8snSF",
        "outputId": "5cedcabb-3343-4b74-9303-84c3bfc6d67e"
      },
      "source": [
        "align = ['left', 'center', 'right']\n",
        "\n",
        "print(f'{align[0]:<10}')\n",
        "print(f'{align[1]:^10}')\n",
        "print(f'{align[2]:>10}')"
      ],
      "execution_count": 14,
      "outputs": [
        {
          "output_type": "stream",
          "text": [
            "left      \n",
            "  center  \n",
            "     right\n"
          ],
          "name": "stdout"
        }
      ]
    },
    {
      "cell_type": "code",
      "metadata": {
        "colab": {
          "base_uri": "https://localhost:8080/"
        },
        "id": "Mher9QKNsozN",
        "outputId": "f5a499df-da7a-49d6-a170-6e2b3e0ca5af"
      },
      "source": [
        "step = '|__'\n",
        "\n",
        "for i in range(1, 10):\n",
        "    print(f'{step:>{3*i}}')"
      ],
      "execution_count": 15,
      "outputs": [
        {
          "output_type": "stream",
          "text": [
            "|__\n",
            "   |__\n",
            "      |__\n",
            "         |__\n",
            "            |__\n",
            "               |__\n",
            "                  |__\n",
            "                     |__\n",
            "                        |__\n"
          ],
          "name": "stdout"
        }
      ]
    }
  ]
}