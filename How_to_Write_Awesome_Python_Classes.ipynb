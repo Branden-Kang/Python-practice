{
  "nbformat": 4,
  "nbformat_minor": 0,
  "metadata": {
    "colab": {
      "name": "How to Write Awesome Python Classes.ipynb",
      "provenance": [],
      "authorship_tag": "ABX9TyPJw+FoffMmoko8Fq2iaRD/"
    },
    "kernelspec": {
      "name": "python3",
      "display_name": "Python 3"
    },
    "language_info": {
      "name": "python"
    }
  },
  "cells": [
    {
      "cell_type": "markdown",
      "source": [
        "[Reference](https://towardsdatascience.com/how-to-write-awesome-python-classes-f2e1f05e51a9)"
      ],
      "metadata": {
        "id": "nQUeFGSNFIfn"
      }
    },
    {
      "cell_type": "code",
      "execution_count": 2,
      "metadata": {
        "colab": {
          "base_uri": "https://localhost:8080/"
        },
        "id": "xDOvbGfJFEtk",
        "outputId": "5e9dac9c-79aa-4503-dd22-83fcbfdf9cad"
      },
      "outputs": [
        {
          "output_type": "stream",
          "name": "stdout",
          "text": [
            "Datetime Range [2021-01-01 00:00:00, 2021-12-01 00:00:00) with step 12 days, 0:00:00\n",
            "2021-01-01 00:00:00\n",
            "2021-01-13 00:00:00\n",
            "2021-01-25 00:00:00\n",
            "2021-02-06 00:00:00\n",
            "2021-02-18 00:00:00\n",
            "2021-03-02 00:00:00\n",
            "2021-03-14 00:00:00\n",
            "2021-03-26 00:00:00\n",
            "2021-04-07 00:00:00\n",
            "2021-04-19 00:00:00\n",
            "2021-05-01 00:00:00\n",
            "2021-05-13 00:00:00\n",
            "2021-05-25 00:00:00\n",
            "2021-06-06 00:00:00\n",
            "2021-06-18 00:00:00\n",
            "2021-06-30 00:00:00\n",
            "2021-07-12 00:00:00\n",
            "2021-07-24 00:00:00\n",
            "2021-08-05 00:00:00\n",
            "2021-08-17 00:00:00\n",
            "2021-08-29 00:00:00\n",
            "2021-09-10 00:00:00\n",
            "2021-09-22 00:00:00\n",
            "2021-10-04 00:00:00\n",
            "2021-10-16 00:00:00\n",
            "2021-10-28 00:00:00\n",
            "2021-11-09 00:00:00\n",
            "2021-11-21 00:00:00\n"
          ]
        }
      ],
      "source": [
        "from datetime import datetime, timedelta\n",
        "from typing import Iterable\n",
        "from math import ceil\n",
        "\n",
        "\n",
        "class DateTimeRange:\n",
        "    def __init__(self, start: datetime, end_:datetime, step:timedelta = timedelta(seconds=1)):\n",
        "        self._start = start\n",
        "        self._end = end_\n",
        "        self._step = step\n",
        "\n",
        "    def __iter__(self) -> Iterable[datetime]:\n",
        "        point = self._start\n",
        "        while point < self._end:\n",
        "            yield point\n",
        "            point += self._step\n",
        "\n",
        "    def __len__(self) -> int:\n",
        "        return ceil((self._end - self._start) / self._step)\n",
        "\n",
        "    def __contains__(self, item: datetime) -> bool:\n",
        "        mod = divmod(item - self._start, self._step)\n",
        "        return item >= self._start and item < self._end and mod[1] == timedelta(0)\n",
        "\n",
        "    def __getitem__(self, item: int) -> datetime:\n",
        "        n_steps = item if item >= 0 else len(self) + item\n",
        "        return_value = self._start + n_steps * self._step\n",
        "        if return_value not in self:\n",
        "            raise IndexError()\n",
        "\n",
        "        return return_value\n",
        "   \n",
        "    def __str__(self):\n",
        "        return f\"Datetime Range [{self._start}, {self._end}) with step {self._step}\"\n",
        "\n",
        "# Usage\n",
        "my_range = DateTimeRange(datetime(2021,1,1), datetime(2021,12,1), timedelta(days=12))\n",
        "print(my_range)\n",
        "assert len(my_range) == len(list(my_range))\n",
        "my_range[-2] in my_range\n",
        "my_range[2] + timedelta(seconds=12) in my_range\n",
        "for r in my_range:\n",
        "    print(r)"
      ]
    }
  ]
}