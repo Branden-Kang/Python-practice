{
  "nbformat": 4,
  "nbformat_minor": 0,
  "metadata": {
    "colab": {
      "provenance": [],
      "authorship_tag": "ABX9TyPYkVyIwhxNWWS0rxv9x8CK"
    },
    "kernelspec": {
      "name": "python3",
      "display_name": "Python 3"
    },
    "language_info": {
      "name": "python"
    }
  },
  "cells": [
    {
      "cell_type": "markdown",
      "source": [
        "[Reference](https://gaurav-adarshi.medium.com/different-ways-to-schedule-tasks-in-python-45e03d5411ee)"
      ],
      "metadata": {
        "id": "ZOBdwGX-c4q4"
      }
    },
    {
      "cell_type": "markdown",
      "source": [
        "# Method 1: The Simple Loop"
      ],
      "metadata": {
        "id": "yhMbXL0Yc8WU"
      }
    },
    {
      "cell_type": "code",
      "execution_count": 2,
      "metadata": {
        "id": "Zgilq_6Xc3aW"
      },
      "outputs": [],
      "source": [
        "import time\n",
        "\n",
        "def scheduled_job():\n",
        "    print(\"This is a scheduled job\")\n",
        "\n",
        "while True:\n",
        "    scheduled_job()\n",
        "    time.sleep(10)  # Run the job every 10 seconds"
      ]
    },
    {
      "cell_type": "markdown",
      "source": [
        "# Method 2: Simple Threaded Loops"
      ],
      "metadata": {
        "id": "BHmAFrBvc-fK"
      }
    },
    {
      "cell_type": "code",
      "source": [
        "import threading\n",
        "import time\n",
        "\n",
        "def job():\n",
        "   print(\"This is a scheduled job\")\n",
        "\n",
        "def run_threaded(job_func):\n",
        "   job_thread = threading.Thread(target=job_func)\n",
        "   job_thread.start()\n",
        "\n",
        "while True:\n",
        "   run_threaded(job)\n",
        "   time.sleep(10)"
      ],
      "metadata": {
        "id": "q_GkIF8Zc9YK"
      },
      "execution_count": 3,
      "outputs": []
    },
    {
      "cell_type": "markdown",
      "source": [
        "# Method 3: A Schedule Library"
      ],
      "metadata": {
        "id": "jR7bLu58dBMY"
      }
    },
    {
      "cell_type": "code",
      "source": [
        "import schedule\n",
        "import time\n",
        "\n",
        "def job():\n",
        "   print(\"I'm working...\")\n",
        "\n",
        "schedule.every(10).seconds.do(job)\n",
        "\n",
        "while True:\n",
        "   schedule.run_pending()\n",
        "   time.sleep(1)"
      ],
      "metadata": {
        "id": "KJms1Duuc_88"
      },
      "execution_count": 4,
      "outputs": []
    },
    {
      "cell_type": "markdown",
      "source": [
        "# Method 4: Python Crontab"
      ],
      "metadata": {
        "id": "z0Fqq-sMdD-j"
      }
    },
    {
      "cell_type": "code",
      "source": [
        "from crontab import CronTab\n",
        "\n",
        "# Create a new crontab object\n",
        "cron = CronTab(user='username')\n",
        "\n",
        "# Add a new cron job to run the script every day at 6 AM\n",
        "job = cron.new(command='python /path/to/script.py')\n",
        "job.setall('0 6 *')\n",
        "\n",
        "# Write the job to the user's crontab\n",
        "cron.write()"
      ],
      "metadata": {
        "id": "fPNLB1H-dCbV"
      },
      "execution_count": 5,
      "outputs": []
    },
    {
      "cell_type": "markdown",
      "source": [
        "# Method 5: Rq Scheulder"
      ],
      "metadata": {
        "id": "3UQo5LaLdKsN"
      }
    },
    {
      "cell_type": "code",
      "source": [
        "from datetime import datetime, timedelta\n",
        "from redis import Redis\n",
        "from rq_scheduler import Scheduler\n",
        "\n",
        "# Create a connection to Redis\n",
        "redis_conn = Redis(host='localhost', port=6379)\n",
        "\n",
        "# Create a scheduler object\n",
        "scheduler = Scheduler(connection=redis_conn)\n",
        "\n",
        "# Define the job function\n",
        "def my_job():\n",
        "    print(\"Hello, world!\")\n",
        "\n",
        "# Schedule the job to run every minute\n",
        "scheduler.schedule(\n",
        "    scheduled_time=datetime.utcnow(),  # Start immediately\n",
        "    func=my_job,\n",
        "    interval=timedelta(minutes=1)\n",
        ")"
      ],
      "metadata": {
        "id": "CE5_3THXdJhO"
      },
      "execution_count": 6,
      "outputs": []
    }
  ]
}