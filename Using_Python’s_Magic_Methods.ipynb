{
  "nbformat": 4,
  "nbformat_minor": 0,
  "metadata": {
    "colab": {
      "name": "Using Python’s Magic Methods.ipynb",
      "provenance": [],
      "authorship_tag": "ABX9TyN2OU2GFq1a+SC1nF0mCJJo"
    },
    "kernelspec": {
      "name": "python3",
      "display_name": "Python 3"
    }
  },
  "cells": [
    {
      "cell_type": "markdown",
      "metadata": {
        "id": "nOiX-QfLuXAg"
      },
      "source": [
        "[Reference](https://medium.com/dataseries/using-pythons-magic-methods-to-compare-tesla-and-ford-8dd9a4fcbe1e)"
      ]
    },
    {
      "cell_type": "code",
      "metadata": {
        "colab": {
          "base_uri": "https://localhost:8080/",
          "height": 232
        },
        "id": "D94tea6cuUOw",
        "outputId": "324ac113-9613-45b6-eb69-2b459d70c6f9"
      },
      "source": [
        "class AnyClass:\n",
        "    def __init__():\n",
        "        print(\"Init called on its own\")\n",
        "\n",
        "obj = AnyClass()"
      ],
      "execution_count": 4,
      "outputs": [
        {
          "output_type": "error",
          "ename": "TypeError",
          "evalue": "ignored",
          "traceback": [
            "\u001b[0;31m---------------------------------------------------------------------------\u001b[0m",
            "\u001b[0;31mTypeError\u001b[0m                                 Traceback (most recent call last)",
            "\u001b[0;32m<ipython-input-4-89611b9602b2>\u001b[0m in \u001b[0;36m<module>\u001b[0;34m()\u001b[0m\n\u001b[1;32m      3\u001b[0m         \u001b[0mprint\u001b[0m\u001b[0;34m(\u001b[0m\u001b[0;34m\"Init called on its own\"\u001b[0m\u001b[0;34m)\u001b[0m\u001b[0;34m\u001b[0m\u001b[0;34m\u001b[0m\u001b[0m\n\u001b[1;32m      4\u001b[0m \u001b[0;34m\u001b[0m\u001b[0m\n\u001b[0;32m----> 5\u001b[0;31m \u001b[0mobj\u001b[0m \u001b[0;34m=\u001b[0m \u001b[0mAnyClass\u001b[0m\u001b[0;34m(\u001b[0m\u001b[0;34m)\u001b[0m\u001b[0;34m\u001b[0m\u001b[0;34m\u001b[0m\u001b[0m\n\u001b[0m",
            "\u001b[0;31mTypeError\u001b[0m: __init__() takes 0 positional arguments but 1 was given"
          ]
        }
      ]
    },
    {
      "cell_type": "code",
      "metadata": {
        "colab": {
          "base_uri": "https://localhost:8080/"
        },
        "id": "LE0HQTkXvDld",
        "outputId": "418e04ce-dd2b-47e7-c0c6-957f4ed5d3bd"
      },
      "source": [
        "class AnyClass:\n",
        "    def __init__(self, var):\n",
        "        self.some_var = var    \n",
        "    \n",
        "    def __add__(self, other_obj):\n",
        "        print(\"Calling the add method\")\n",
        "        return self.some_var + other_obj.some_var\n",
        "\n",
        "obj1 = AnyClass(5)\n",
        "obj2 = AnyClass(6)\n",
        "\n",
        "obj1 + obj2"
      ],
      "execution_count": 3,
      "outputs": [
        {
          "output_type": "stream",
          "text": [
            "Calling the add method\n"
          ],
          "name": "stdout"
        },
        {
          "output_type": "execute_result",
          "data": {
            "text/plain": [
              "11"
            ]
          },
          "metadata": {
            "tags": []
          },
          "execution_count": 3
        }
      ]
    },
    {
      "cell_type": "code",
      "metadata": {
        "colab": {
          "base_uri": "https://localhost:8080/",
          "height": 249
        },
        "id": "8JO2gQHlvPWH",
        "outputId": "c9add6b2-ecba-40b5-c4d9-fa9ac4b618d8"
      },
      "source": [
        "class AnyClass:\n",
        "    def __init__(self, var):\n",
        "        self.some_var = var\n",
        "        \n",
        "    def __repr__(self):\n",
        "        print(f\"AnyClass with some_var value as {self.some_var}\")\n",
        "\n",
        "obj = AnyClass(5)\n",
        "print(obj)"
      ],
      "execution_count": 5,
      "outputs": [
        {
          "output_type": "stream",
          "text": [
            "AnyClass with some_var value as 5\n"
          ],
          "name": "stdout"
        },
        {
          "output_type": "error",
          "ename": "TypeError",
          "evalue": "ignored",
          "traceback": [
            "\u001b[0;31m---------------------------------------------------------------------------\u001b[0m",
            "\u001b[0;31mTypeError\u001b[0m                                 Traceback (most recent call last)",
            "\u001b[0;32m<ipython-input-5-e561e2e10047>\u001b[0m in \u001b[0;36m<module>\u001b[0;34m()\u001b[0m\n\u001b[1;32m      6\u001b[0m \u001b[0;34m\u001b[0m\u001b[0m\n\u001b[1;32m      7\u001b[0m \u001b[0mobj\u001b[0m \u001b[0;34m=\u001b[0m \u001b[0mAnyClass\u001b[0m\u001b[0;34m(\u001b[0m\u001b[0;36m5\u001b[0m\u001b[0;34m)\u001b[0m\u001b[0;34m\u001b[0m\u001b[0;34m\u001b[0m\u001b[0m\n\u001b[0;32m----> 8\u001b[0;31m \u001b[0mprint\u001b[0m\u001b[0;34m(\u001b[0m\u001b[0mobj\u001b[0m\u001b[0;34m)\u001b[0m\u001b[0;34m\u001b[0m\u001b[0;34m\u001b[0m\u001b[0m\n\u001b[0m",
            "\u001b[0;31mTypeError\u001b[0m: __str__ returned non-string (type NoneType)"
          ]
        }
      ]
    },
    {
      "cell_type": "code",
      "metadata": {
        "id": "BiDXDzbkveHU"
      },
      "source": [
        "class Car:\n",
        "    def __init__(self, name, manufacturer, horsepower, top_speed, cost, length):\n",
        "        self.name = name\n",
        "        self.manufacturer = manufacturer\n",
        "        self.horsepower = horsepower\n",
        "        self.top_speed = top_speed\n",
        "        self.cost = cost\n",
        "        self.length = length    \n",
        "        \n",
        "    def __sub__(self, other):\n",
        "        print(f\"Difference In Price: {self.cost - other.cost}\")\n",
        "        print(f\"Difference in Horsepower: {self.horsepower -     other.horsepower}\")\n",
        "        print(f\"Difference in Top Speed: {self.top_speed -   other.top_speed}\")    \n",
        "\n",
        "    def __len__(self):\n",
        "        return f\"{self.length}m\""
      ],
      "execution_count": 8,
      "outputs": []
    },
    {
      "cell_type": "code",
      "metadata": {
        "colab": {
          "base_uri": "https://localhost:8080/",
          "height": 300
        },
        "id": "m6GXgy4Wvo_A",
        "outputId": "819abe0b-f34a-49f6-b1e5-7dfa627f7578"
      },
      "source": [
        "tesla = Car(name='Model 3', manufacturer='Tesla', horsepower=283, top_speed=129, cost=35000, length=4.69)\n",
        "\n",
        "ford = Car(name='Mustang Mach E', manufacturer='Ford', horsepower=282, top_speed=132, cost=25100, length=4.72)\n",
        "\n",
        "ford - tesla\n",
        "\n",
        "len(ford)\n",
        "len(tesla)"
      ],
      "execution_count": 9,
      "outputs": [
        {
          "output_type": "stream",
          "text": [
            "Difference In Price: -9900\n",
            "Difference in Horsepower: -1\n",
            "Difference in Top Speed: 3\n"
          ],
          "name": "stdout"
        },
        {
          "output_type": "error",
          "ename": "TypeError",
          "evalue": "ignored",
          "traceback": [
            "\u001b[0;31m---------------------------------------------------------------------------\u001b[0m",
            "\u001b[0;31mTypeError\u001b[0m                                 Traceback (most recent call last)",
            "\u001b[0;32m<ipython-input-9-43aaa5bba4d7>\u001b[0m in \u001b[0;36m<module>\u001b[0;34m()\u001b[0m\n\u001b[1;32m      5\u001b[0m \u001b[0mford\u001b[0m \u001b[0;34m-\u001b[0m \u001b[0mtesla\u001b[0m\u001b[0;34m\u001b[0m\u001b[0;34m\u001b[0m\u001b[0m\n\u001b[1;32m      6\u001b[0m \u001b[0;34m\u001b[0m\u001b[0m\n\u001b[0;32m----> 7\u001b[0;31m \u001b[0mlen\u001b[0m\u001b[0;34m(\u001b[0m\u001b[0mford\u001b[0m\u001b[0;34m)\u001b[0m\u001b[0;34m\u001b[0m\u001b[0;34m\u001b[0m\u001b[0m\n\u001b[0m\u001b[1;32m      8\u001b[0m \u001b[0mlen\u001b[0m\u001b[0;34m(\u001b[0m\u001b[0mtesla\u001b[0m\u001b[0;34m)\u001b[0m\u001b[0;34m\u001b[0m\u001b[0;34m\u001b[0m\u001b[0m\n",
            "\u001b[0;31mTypeError\u001b[0m: 'str' object cannot be interpreted as an integer"
          ]
        }
      ]
    },
    {
      "cell_type": "code",
      "metadata": {
        "id": "nT31B9EUvs3G"
      },
      "source": [
        "class Car:\n",
        "    def __init__(self, name, manufacturer, horsepower, top_speed, cost, length):\n",
        "        self.name = name\n",
        "        self.manufacturer = manufacturer\n",
        "        self.horsepower = horsepower\n",
        "        self.top_speed = top_speed\n",
        "        self.cost = cost\n",
        "        self.length = length\n",
        "\n",
        "    def __add__(self, other):\n",
        "        print(f\"Combined Price: ${self.cost + other.cost}\")\n",
        "        print(f\"Combined Horsepower: {self.horsepower + other.horsepower}\")\n",
        "\n",
        "    def __sub__(self, other):\n",
        "        print(f\"Difference In Price: {self.cost - other.cost}\")\n",
        "        print(f\"Difference in Horsepower: {self.horsepower - other.horsepower}\")\n",
        "        print(f\"Difference in Top Speed: {self.top_speed - other.top_speed}\")\n",
        "\n",
        "    def __repr__(self):\n",
        "        return f\"{self.manufacturer} {self.name}\"\n",
        "\n",
        "    def __eq__(self, other):\n",
        "        print(f\"Top Speed: {self.top_speed == other.top_speed}\")\n",
        "        print(f\"Horsepower: {self.horsepower == other.horsepower}\")\n",
        "        print(f\"Price: ${self.cost == other.cost}\")\n",
        "\n",
        "    def __gt__(self, other):\n",
        "        print(f\"Top Speed: {self.top_speed > other.top_speed}\")\n",
        "        print(f\"Horsepower: {self.horsepower > other.horsepower}\")\n",
        "        print(f\"Price: ${self.cost > other.cost}\")\n",
        "\n",
        "    def __lt__(self, other):\n",
        "        print(f\"Top Speed: {self.top_speed < other.top_speed}\")\n",
        "        print(f\"Horsepower: {self.horsepower < other.horsepower}\")\n",
        "        print(f\"Price: ${self.cost < other.cost}\")\n",
        "\n",
        "    def __le__(self, other):\n",
        "        print(f\"Top Speed: {self.top_speed <= other.top_speed}\")\n",
        "        print(f\"Horsepower: {self.horsepower <= other.horsepower}\")\n",
        "        print(f\"Price: ${self.cost <= other.cost}\")\n",
        "\n",
        "    def __ge__(self, other):\n",
        "        print(f\"Top Speed: {self.top_speed >= other.top_speed}\")\n",
        "        print(f\"Horsepower: {self.horsepower >= other.horsepower}\")\n",
        "        print(f\"Price: ${self.cost >= other.cost}\")\n",
        "\n",
        "    def __ne__(self, other):\n",
        "        print(f\"Top Speed: {self.top_speed != other.top_speed}\")\n",
        "        print(f\"Horsepower: {self.horsepower != other.horsepower}\")\n",
        "        print(f\"Price: ${self.cost != other.cost}\")\n",
        "\n",
        "    def __str__(self):\n",
        "        return f\"{self.manufacturer} {self.name} {self.horsepower} with top speed {self.top_speed} starting at {self.cost}\"\n",
        "\n",
        "    def __len__(self):\n",
        "        return f\"{self.length}m\"\n",
        "\n",
        "\n",
        "tesla = Car(name='Model 3', manufacturer='Tesla', horsepower=283, top_speed=129, cost=35000, length=4.69)\n",
        "ford = Car(name='Mustang Mach E', manufacturer='Ford', horsepower=282, top_speed=132, cost=43895, length=4.72)"
      ],
      "execution_count": 10,
      "outputs": []
    },
    {
      "cell_type": "code",
      "metadata": {
        "colab": {
          "base_uri": "https://localhost:8080/"
        },
        "id": "TsZOEWYlv6kW",
        "outputId": "cdb61537-157c-4203-8fea-09fb2e66aaf1"
      },
      "source": [
        "tesla == ford"
      ],
      "execution_count": 11,
      "outputs": [
        {
          "output_type": "stream",
          "text": [
            "Top Speed: False\n",
            "Horsepower: False\n",
            "Price: $False\n"
          ],
          "name": "stdout"
        }
      ]
    },
    {
      "cell_type": "code",
      "metadata": {
        "colab": {
          "base_uri": "https://localhost:8080/"
        },
        "id": "gY5nNimJv8Sk",
        "outputId": "db8b216d-93ef-423c-89ce-41988debc779"
      },
      "source": [
        "tesla != ford"
      ],
      "execution_count": 12,
      "outputs": [
        {
          "output_type": "stream",
          "text": [
            "Top Speed: True\n",
            "Horsepower: True\n",
            "Price: $True\n"
          ],
          "name": "stdout"
        }
      ]
    },
    {
      "cell_type": "code",
      "metadata": {
        "id": "TXsk1Ox6v91i",
        "outputId": "d5619156-2b6b-4cb8-a88b-8fe5dce639d8",
        "colab": {
          "base_uri": "https://localhost:8080/"
        }
      },
      "source": [
        "tesla < ford"
      ],
      "execution_count": 14,
      "outputs": [
        {
          "output_type": "stream",
          "text": [
            "Top Speed: True\n",
            "Horsepower: False\n",
            "Price: $True\n"
          ],
          "name": "stdout"
        }
      ]
    }
  ]
}