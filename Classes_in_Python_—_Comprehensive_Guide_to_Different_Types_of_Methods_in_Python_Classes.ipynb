{
  "nbformat": 4,
  "nbformat_minor": 0,
  "metadata": {
    "colab": {
      "provenance": [],
      "authorship_tag": "ABX9TyOoqF7wJ89ACl9uIqHi9gYT"
    },
    "kernelspec": {
      "name": "python3",
      "display_name": "Python 3"
    },
    "language_info": {
      "name": "python"
    }
  },
  "cells": [
    {
      "cell_type": "markdown",
      "source": [
        "[Reference](https://medium.com/@ebimsv/mastering-classes-in-python-2-class-and-instance-variables-methods-7e48524bc673)"
      ],
      "metadata": {
        "id": "rSqpgftjRUTp"
      }
    },
    {
      "cell_type": "markdown",
      "source": [
        "# 1. Introduction to Python Classes and Methods"
      ],
      "metadata": {
        "id": "DPNDm8inRaWx"
      }
    },
    {
      "cell_type": "code",
      "execution_count": 1,
      "metadata": {
        "id": "iKJf5HAyRNZC"
      },
      "outputs": [],
      "source": [
        "class Car:\n",
        "    def __init__(self, brand, model, year, mileage=0):\n",
        "        self.brand = brand\n",
        "        self.model = model\n",
        "        self.year = year\n",
        "        self.mileage = mileage"
      ]
    },
    {
      "cell_type": "markdown",
      "source": [
        "# 2. Instance Methods"
      ],
      "metadata": {
        "id": "hx5fbXr-Rcpi"
      }
    },
    {
      "cell_type": "code",
      "source": [
        "class Car:\n",
        "    def __init__(self, brand, model, year, mileage=0):\n",
        "        self.brand = brand\n",
        "        self.model = model\n",
        "        self.year = year\n",
        "        self.mileage = mileage\n",
        "\n",
        "    def drive(self, distance):\n",
        "        \"\"\"Increase mileage by a specified distance.\"\"\"\n",
        "        self.mileage += distance\n",
        "        return f\"The car has been driven {distance} km. Total mileage: {self.mileage} km.\""
      ],
      "metadata": {
        "id": "vQgnxX5gRbxz"
      },
      "execution_count": 2,
      "outputs": []
    },
    {
      "cell_type": "code",
      "source": [
        "my_car = Car(\"Toyota\", \"Corolla\", 2020)\n",
        "print(my_car.drive(100))"
      ],
      "metadata": {
        "colab": {
          "base_uri": "https://localhost:8080/"
        },
        "id": "Ya0krpNERekt",
        "outputId": "e3972ba8-b591-489c-cf25-857cebd93e0a"
      },
      "execution_count": 3,
      "outputs": [
        {
          "output_type": "stream",
          "name": "stdout",
          "text": [
            "The car has been driven 100 km. Total mileage: 100 km.\n"
          ]
        }
      ]
    },
    {
      "cell_type": "markdown",
      "source": [
        "# 3. Class Methods"
      ],
      "metadata": {
        "id": "4YaqG6UXRhN3"
      }
    },
    {
      "cell_type": "code",
      "source": [
        "class Car:\n",
        "    def __init__(self, brand, model, year, mileage=0):\n",
        "        self.brand = brand\n",
        "        self.model = model\n",
        "        self.year = year\n",
        "        self.mileage = mileage\n",
        "\n",
        "    def drive(self, distance):\n",
        "        \"\"\"Increase mileage by a specified distance.\"\"\"\n",
        "        self.mileage += distance\n",
        "        return f\"The car has been driven {distance} km. Total mileage: {self.mileage} km.\"\n",
        "\n",
        "    @classmethod\n",
        "    def from_string(cls, car_str):\n",
        "        \"\"\"Create a Car instance from a string.\"\"\"\n",
        "        brand, model, year = car_str.split(\"-\")\n",
        "        return cls(brand, model, int(year))"
      ],
      "metadata": {
        "id": "q5YjWM1tRgDJ"
      },
      "execution_count": 6,
      "outputs": []
    },
    {
      "cell_type": "code",
      "source": [
        "car_data = \"Honda-Civic-2019\"\n",
        "new_car = Car.from_string(car_data)\n",
        "print(new_car.brand, new_car.model, new_car.year)"
      ],
      "metadata": {
        "colab": {
          "base_uri": "https://localhost:8080/"
        },
        "id": "RGrtcMJmRnbs",
        "outputId": "c23d783a-c770-4e7e-d108-78147b9cff04"
      },
      "execution_count": 7,
      "outputs": [
        {
          "output_type": "stream",
          "name": "stdout",
          "text": [
            "Honda Civic 2019\n"
          ]
        }
      ]
    },
    {
      "cell_type": "markdown",
      "source": [
        "# 4. Static Methods"
      ],
      "metadata": {
        "id": "tdqigurjR1i8"
      }
    },
    {
      "cell_type": "code",
      "source": [
        "class Car:\n",
        "    def __init__(self, brand, model, year, mileage=0):\n",
        "        self.brand = brand\n",
        "        self.model = model\n",
        "        self.year = year\n",
        "        self.mileage = mileage\n",
        "\n",
        "    def drive(self, distance):\n",
        "        \"\"\"Increase mileage by a specified distance.\"\"\"\n",
        "        self.mileage += distance\n",
        "        return f\"The car has been driven {distance} km. Total mileage: {self.mileage} km.\"\n",
        "\n",
        "    @staticmethod\n",
        "    def is_vintage(year):\n",
        "        \"\"\"Check if a car is considered vintage (older than 25 years).\"\"\"\n",
        "        return 2024 - year > 25"
      ],
      "metadata": {
        "id": "z1fGXYxlRnq4"
      },
      "execution_count": 8,
      "outputs": []
    },
    {
      "cell_type": "code",
      "source": [
        "print(Car.is_vintage(1990))\n",
        "print(Car.is_vintage(2010))"
      ],
      "metadata": {
        "colab": {
          "base_uri": "https://localhost:8080/"
        },
        "id": "ru3RfS6mR8xI",
        "outputId": "733322ba-1584-4ca4-f095-e4985412e380"
      },
      "execution_count": 10,
      "outputs": [
        {
          "output_type": "stream",
          "name": "stdout",
          "text": [
            "True\n",
            "False\n"
          ]
        }
      ]
    },
    {
      "cell_type": "code",
      "source": [
        "class Vehicle:\n",
        "    # Class attribute to keep track of total vehicles\n",
        "    total_vehicles = 0\n",
        "\n",
        "    def __init__(self, brand, model):\n",
        "        self.brand = brand\n",
        "        self.model = model\n",
        "        Vehicle.total_vehicles += 1  # Increment total vehicles count\n",
        "\n",
        "    @classmethod\n",
        "    def get_total_vehicles(cls):\n",
        "        \"\"\"Return the total number of vehicles created.\"\"\"\n",
        "        return cls.total_vehicles\n",
        "\n",
        "    @staticmethod\n",
        "    def calculate_speed(distance, time):\n",
        "        \"\"\"Calculate the speed of a vehicle given distance and time.\"\"\"\n",
        "        if time == 0:\n",
        "            return 0  # Avoid division by zero\n",
        "        return distance / time\n",
        "\n",
        "# Create some vehicle instances\n",
        "car1  = Vehicle(\"Toyota\", \"Corolla\")\n",
        "car2  = Vehicle(\"Honda\", \"Civic\")\n",
        "truck = Vehicle(\"Ford\", \"F-150\")\n",
        "\n",
        "# Use `class method` to get total vehicles\n",
        "print(f\"Total vehicles created: {Vehicle.get_total_vehicles()}\")\n",
        "\n",
        "# Use `static method` to calculate speed\n",
        "distance = 100  # in km\n",
        "time = 2        # in hours\n",
        "speed = Vehicle.calculate_speed(distance, time)\n",
        "print(f\"Speed: {speed} km/h\")"
      ],
      "metadata": {
        "colab": {
          "base_uri": "https://localhost:8080/"
        },
        "id": "80aaPjSKR-U1",
        "outputId": "24045664-a84d-4f97-b2d8-996b4332207c"
      },
      "execution_count": 11,
      "outputs": [
        {
          "output_type": "stream",
          "name": "stdout",
          "text": [
            "Total vehicles created: 3\n",
            "Speed: 50.0 km/h\n"
          ]
        }
      ]
    },
    {
      "cell_type": "markdown",
      "source": [
        "# 5. Magic Methods (Dunder Methods)"
      ],
      "metadata": {
        "id": "KA0gTyAtSD-o"
      }
    },
    {
      "cell_type": "code",
      "source": [
        "class Vehicle:\n",
        "    # Class attribute to keep track of total vehicles\n",
        "    total_vehicles = 0\n",
        "\n",
        "    def __init__(self, brand, model):\n",
        "        self.brand = brand\n",
        "        self.model = model\n",
        "        Vehicle.total_vehicles += 1  # Increment total vehicles count\n",
        "\n",
        "    @classmethod\n",
        "    def get_total_vehicles(cls):\n",
        "        \"\"\"Return the total number of vehicles created.\"\"\"\n",
        "        return cls.total_vehicles\n",
        "\n",
        "    @staticmethod\n",
        "    def calculate_speed(distance, time):\n",
        "        \"\"\"Calculate the speed of a vehicle given distance and time.\"\"\"\n",
        "        if time == 0:\n",
        "            return 0  # Avoid division by zero\n",
        "        return distance / time\n",
        "\n",
        "    def __str__(self):\n",
        "        return f\"{self.brand} {self.model} ({self.year}) with {self.mileage} km\"\n",
        "\n",
        "    def __eq__(self, other):\n",
        "        return self.brand == other.brand and self.model == other.model and self.year == other.year"
      ],
      "metadata": {
        "id": "WynvbZR3SCd1"
      },
      "execution_count": 12,
      "outputs": []
    },
    {
      "cell_type": "code",
      "source": [
        "car1 = Car(\"Toyota\", \"Corolla\", 2020, 15000)\n",
        "car2 = Car(\"Toyota\", \"Corolla\", 2020, 20000)\n",
        "\n",
        "print(car1)\n",
        "print(car1 == car2)"
      ],
      "metadata": {
        "colab": {
          "base_uri": "https://localhost:8080/"
        },
        "id": "fx52mwCRSKRM",
        "outputId": "9aad39bd-40ef-4995-ea87-ba0fa6721f90"
      },
      "execution_count": 13,
      "outputs": [
        {
          "output_type": "stream",
          "name": "stdout",
          "text": [
            "<__main__.Car object at 0x7c6c9b31db10>\n",
            "False\n"
          ]
        }
      ]
    },
    {
      "cell_type": "markdown",
      "source": [
        "# 6. Property Methods"
      ],
      "metadata": {
        "id": "ZA7GqHlASnRB"
      }
    },
    {
      "cell_type": "code",
      "source": [
        "class Vehicle:\n",
        "    # Class attribute to keep track of total vehicles\n",
        "    total_vehicles = 0\n",
        "\n",
        "    def __init__(self, brand, model):\n",
        "        self.brand = brand\n",
        "        self.model = model\n",
        "        Vehicle.total_vehicles += 1  # Increment total vehicles count\n",
        "\n",
        "    @classmethod\n",
        "    def get_total_vehicles(cls):\n",
        "        \"\"\"Return the total number of vehicles created.\"\"\"\n",
        "        return cls.total_vehicles\n",
        "\n",
        "    @staticmethod\n",
        "    def calculate_speed(distance, time):\n",
        "        \"\"\"Calculate the speed of a vehicle given distance and time.\"\"\"\n",
        "        if time == 0:\n",
        "            return 0  # Avoid division by zero\n",
        "        return distance / time\n",
        "\n",
        "    @property\n",
        "    def mileage(self):\n",
        "        return self._mileage\n",
        "\n",
        "    @mileage.setter\n",
        "    def mileage(self, value):\n",
        "        if value < self._mileage:\n",
        "            raise ValueError(\"Mileage cannot be decreased!\")\n",
        "        self._mileage = value"
      ],
      "metadata": {
        "id": "qCacj_H9SL2J"
      },
      "execution_count": 14,
      "outputs": []
    },
    {
      "cell_type": "code",
      "source": [
        "car = Car(\"BMW\", \"X5\", 2022, 5000)\n",
        "car.mileage = 6000\n",
        "print(car.mileage)"
      ],
      "metadata": {
        "colab": {
          "base_uri": "https://localhost:8080/"
        },
        "id": "ydrzljXrStib",
        "outputId": "004eff23-b94a-4f64-9776-e0a6b7030b5b"
      },
      "execution_count": 15,
      "outputs": [
        {
          "output_type": "stream",
          "name": "stdout",
          "text": [
            "6000\n"
          ]
        }
      ]
    }
  ]
}