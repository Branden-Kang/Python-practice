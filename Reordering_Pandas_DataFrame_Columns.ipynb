{
  "nbformat": 4,
  "nbformat_minor": 0,
  "metadata": {
    "colab": {
      "name": "Reordering Pandas DataFrame Columns.ipynb",
      "provenance": [],
      "authorship_tag": "ABX9TyOISNoU8zLAjMsE9Ir6jMNd"
    },
    "kernelspec": {
      "name": "python3",
      "display_name": "Python 3"
    },
    "language_info": {
      "name": "python"
    }
  },
  "cells": [
    {
      "cell_type": "markdown",
      "metadata": {
        "id": "rkvg6FEGwNwv"
      },
      "source": [
        "[Reference](https://towardsdatascience.com/reordering-pandas-dataframe-columns-thumbs-down-on-standard-solutions-1ff0bc2941d5)"
      ]
    },
    {
      "cell_type": "code",
      "metadata": {
        "id": "Qlp9Jc2RwMtM"
      },
      "source": [
        "import pandas as pd\n",
        "\n",
        "# Write some example data\n",
        "df = pd.DataFrame({'names':['Al','Myke','Lovie','Dash'], \n",
        "                   'Grade': [6,7,6,6],\n",
        "                   'Teacher':['Ogna','Hayes','Stoltz','Edens'],\n",
        "                   'Score':['A+','A-','B','C'],\n",
        "                   'Room':['Green','Red','Blue','Yellow'],\n",
        "                   'Hobby':['Coins','Stamps','Coins','Cards']})"
      ],
      "execution_count": 1,
      "outputs": []
    },
    {
      "cell_type": "code",
      "metadata": {
        "id": "crVaJ2EGwQ_K"
      },
      "source": [
        "# Reset DataFrame with columns in desired order\n",
        "df = df[['names','Score','Room','Grade','Teacher','Hobby']]"
      ],
      "execution_count": 2,
      "outputs": []
    },
    {
      "cell_type": "code",
      "metadata": {
        "colab": {
          "base_uri": "https://localhost:8080/",
          "height": 173
        },
        "id": "mOv2e2kOwSo_",
        "outputId": "d099ccb1-6e07-4f46-9cdf-a7226001556e"
      },
      "source": [
        "# Evaluate the DataFrame with columns in desired order\n",
        "df[['names','Score','Room','Grade','Teacher','Hobby']]"
      ],
      "execution_count": 3,
      "outputs": [
        {
          "output_type": "execute_result",
          "data": {
            "text/html": [
              "<div>\n",
              "<style scoped>\n",
              "    .dataframe tbody tr th:only-of-type {\n",
              "        vertical-align: middle;\n",
              "    }\n",
              "\n",
              "    .dataframe tbody tr th {\n",
              "        vertical-align: top;\n",
              "    }\n",
              "\n",
              "    .dataframe thead th {\n",
              "        text-align: right;\n",
              "    }\n",
              "</style>\n",
              "<table border=\"1\" class=\"dataframe\">\n",
              "  <thead>\n",
              "    <tr style=\"text-align: right;\">\n",
              "      <th></th>\n",
              "      <th>names</th>\n",
              "      <th>Score</th>\n",
              "      <th>Room</th>\n",
              "      <th>Grade</th>\n",
              "      <th>Teacher</th>\n",
              "      <th>Hobby</th>\n",
              "    </tr>\n",
              "  </thead>\n",
              "  <tbody>\n",
              "    <tr>\n",
              "      <th>0</th>\n",
              "      <td>Al</td>\n",
              "      <td>A+</td>\n",
              "      <td>Green</td>\n",
              "      <td>6</td>\n",
              "      <td>Ogna</td>\n",
              "      <td>Coins</td>\n",
              "    </tr>\n",
              "    <tr>\n",
              "      <th>1</th>\n",
              "      <td>Myke</td>\n",
              "      <td>A-</td>\n",
              "      <td>Red</td>\n",
              "      <td>7</td>\n",
              "      <td>Hayes</td>\n",
              "      <td>Stamps</td>\n",
              "    </tr>\n",
              "    <tr>\n",
              "      <th>2</th>\n",
              "      <td>Lovie</td>\n",
              "      <td>B</td>\n",
              "      <td>Blue</td>\n",
              "      <td>6</td>\n",
              "      <td>Stoltz</td>\n",
              "      <td>Coins</td>\n",
              "    </tr>\n",
              "    <tr>\n",
              "      <th>3</th>\n",
              "      <td>Dash</td>\n",
              "      <td>C</td>\n",
              "      <td>Yellow</td>\n",
              "      <td>6</td>\n",
              "      <td>Edens</td>\n",
              "      <td>Cards</td>\n",
              "    </tr>\n",
              "  </tbody>\n",
              "</table>\n",
              "</div>"
            ],
            "text/plain": [
              "   names Score    Room  Grade Teacher   Hobby\n",
              "0     Al    A+   Green      6    Ogna   Coins\n",
              "1   Myke    A-     Red      7   Hayes  Stamps\n",
              "2  Lovie     B    Blue      6  Stoltz   Coins\n",
              "3   Dash     C  Yellow      6   Edens   Cards"
            ]
          },
          "metadata": {
            "tags": []
          },
          "execution_count": 3
        }
      ]
    },
    {
      "cell_type": "code",
      "metadata": {
        "colab": {
          "base_uri": "https://localhost:8080/",
          "height": 173
        },
        "id": "mpApHgRAwT6P",
        "outputId": "04140d51-3c44-4c72-da15-9c3577052aa4"
      },
      "source": [
        "mid = df['Hobby']\n",
        "df.drop(labels=['Hobby'], axis=1, inplace = True)\n",
        "df.insert(1, 'Hobby', mid)\n",
        "df"
      ],
      "execution_count": 4,
      "outputs": [
        {
          "output_type": "execute_result",
          "data": {
            "text/html": [
              "<div>\n",
              "<style scoped>\n",
              "    .dataframe tbody tr th:only-of-type {\n",
              "        vertical-align: middle;\n",
              "    }\n",
              "\n",
              "    .dataframe tbody tr th {\n",
              "        vertical-align: top;\n",
              "    }\n",
              "\n",
              "    .dataframe thead th {\n",
              "        text-align: right;\n",
              "    }\n",
              "</style>\n",
              "<table border=\"1\" class=\"dataframe\">\n",
              "  <thead>\n",
              "    <tr style=\"text-align: right;\">\n",
              "      <th></th>\n",
              "      <th>names</th>\n",
              "      <th>Hobby</th>\n",
              "      <th>Score</th>\n",
              "      <th>Room</th>\n",
              "      <th>Grade</th>\n",
              "      <th>Teacher</th>\n",
              "    </tr>\n",
              "  </thead>\n",
              "  <tbody>\n",
              "    <tr>\n",
              "      <th>0</th>\n",
              "      <td>Al</td>\n",
              "      <td>Coins</td>\n",
              "      <td>A+</td>\n",
              "      <td>Green</td>\n",
              "      <td>6</td>\n",
              "      <td>Ogna</td>\n",
              "    </tr>\n",
              "    <tr>\n",
              "      <th>1</th>\n",
              "      <td>Myke</td>\n",
              "      <td>Stamps</td>\n",
              "      <td>A-</td>\n",
              "      <td>Red</td>\n",
              "      <td>7</td>\n",
              "      <td>Hayes</td>\n",
              "    </tr>\n",
              "    <tr>\n",
              "      <th>2</th>\n",
              "      <td>Lovie</td>\n",
              "      <td>Coins</td>\n",
              "      <td>B</td>\n",
              "      <td>Blue</td>\n",
              "      <td>6</td>\n",
              "      <td>Stoltz</td>\n",
              "    </tr>\n",
              "    <tr>\n",
              "      <th>3</th>\n",
              "      <td>Dash</td>\n",
              "      <td>Cards</td>\n",
              "      <td>C</td>\n",
              "      <td>Yellow</td>\n",
              "      <td>6</td>\n",
              "      <td>Edens</td>\n",
              "    </tr>\n",
              "  </tbody>\n",
              "</table>\n",
              "</div>"
            ],
            "text/plain": [
              "   names   Hobby Score    Room  Grade Teacher\n",
              "0     Al   Coins    A+   Green      6    Ogna\n",
              "1   Myke  Stamps    A-     Red      7   Hayes\n",
              "2  Lovie   Coins     B    Blue      6  Stoltz\n",
              "3   Dash   Cards     C  Yellow      6   Edens"
            ]
          },
          "metadata": {
            "tags": []
          },
          "execution_count": 4
        }
      ]
    },
    {
      "cell_type": "code",
      "metadata": {
        "id": "0tMJlV3hwWSU"
      },
      "source": [
        "def movecol(df, cols_to_move=[], ref_col='', place='After'):\n",
        "    \n",
        "    cols = df.columns.tolist()    \n",
        "    \n",
        "    if place == 'After':\n",
        "        seg1 = cols[:list(cols).index(ref_col) + 1]\n",
        "        seg2 = cols_to_move\n",
        "    if place == 'Before':\n",
        "        seg1 = cols[:list(cols).index(ref_col)]\n",
        "        seg2 = cols_to_move + [ref_col]\n",
        "    \n",
        "    seg1 = [i for i in seg1 if i not in seg2]\n",
        "    seg3 = [i for i in cols if i not in seg1 + seg2]\n",
        "    \n",
        "    return(df[seg1 + seg2 + seg3])"
      ],
      "execution_count": 5,
      "outputs": []
    },
    {
      "cell_type": "code",
      "metadata": {
        "colab": {
          "base_uri": "https://localhost:8080/",
          "height": 173
        },
        "id": "ciui8reewb5n",
        "outputId": "94ec8664-4d42-4c2b-d61c-14f9a43d2fa0"
      },
      "source": [
        "df = movecol(df, \n",
        "             cols_to_move=['Score','Grade'], \n",
        "             ref_col='Room',\n",
        "             place='After')\n",
        "df"
      ],
      "execution_count": 6,
      "outputs": [
        {
          "output_type": "execute_result",
          "data": {
            "text/html": [
              "<div>\n",
              "<style scoped>\n",
              "    .dataframe tbody tr th:only-of-type {\n",
              "        vertical-align: middle;\n",
              "    }\n",
              "\n",
              "    .dataframe tbody tr th {\n",
              "        vertical-align: top;\n",
              "    }\n",
              "\n",
              "    .dataframe thead th {\n",
              "        text-align: right;\n",
              "    }\n",
              "</style>\n",
              "<table border=\"1\" class=\"dataframe\">\n",
              "  <thead>\n",
              "    <tr style=\"text-align: right;\">\n",
              "      <th></th>\n",
              "      <th>names</th>\n",
              "      <th>Hobby</th>\n",
              "      <th>Room</th>\n",
              "      <th>Score</th>\n",
              "      <th>Grade</th>\n",
              "      <th>Teacher</th>\n",
              "    </tr>\n",
              "  </thead>\n",
              "  <tbody>\n",
              "    <tr>\n",
              "      <th>0</th>\n",
              "      <td>Al</td>\n",
              "      <td>Coins</td>\n",
              "      <td>Green</td>\n",
              "      <td>A+</td>\n",
              "      <td>6</td>\n",
              "      <td>Ogna</td>\n",
              "    </tr>\n",
              "    <tr>\n",
              "      <th>1</th>\n",
              "      <td>Myke</td>\n",
              "      <td>Stamps</td>\n",
              "      <td>Red</td>\n",
              "      <td>A-</td>\n",
              "      <td>7</td>\n",
              "      <td>Hayes</td>\n",
              "    </tr>\n",
              "    <tr>\n",
              "      <th>2</th>\n",
              "      <td>Lovie</td>\n",
              "      <td>Coins</td>\n",
              "      <td>Blue</td>\n",
              "      <td>B</td>\n",
              "      <td>6</td>\n",
              "      <td>Stoltz</td>\n",
              "    </tr>\n",
              "    <tr>\n",
              "      <th>3</th>\n",
              "      <td>Dash</td>\n",
              "      <td>Cards</td>\n",
              "      <td>Yellow</td>\n",
              "      <td>C</td>\n",
              "      <td>6</td>\n",
              "      <td>Edens</td>\n",
              "    </tr>\n",
              "  </tbody>\n",
              "</table>\n",
              "</div>"
            ],
            "text/plain": [
              "   names   Hobby    Room Score  Grade Teacher\n",
              "0     Al   Coins   Green    A+      6    Ogna\n",
              "1   Myke  Stamps     Red    A-      7   Hayes\n",
              "2  Lovie   Coins    Blue     B      6  Stoltz\n",
              "3   Dash   Cards  Yellow     C      6   Edens"
            ]
          },
          "metadata": {
            "tags": []
          },
          "execution_count": 6
        }
      ]
    }
  ]
}