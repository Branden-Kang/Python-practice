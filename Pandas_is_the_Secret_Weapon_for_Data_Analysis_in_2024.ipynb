{
  "nbformat": 4,
  "nbformat_minor": 0,
  "metadata": {
    "colab": {
      "provenance": [],
      "authorship_tag": "ABX9TyOTGmpyXkc9ifeayPombbb6"
    },
    "kernelspec": {
      "name": "python3",
      "display_name": "Python 3"
    },
    "language_info": {
      "name": "python"
    }
  },
  "cells": [
    {
      "cell_type": "markdown",
      "source": [
        "[Reference](https://debonikpal.medium.com/why-pandas-is-the-secret-weapon-for-data-analysis-in-2024-dc7eb0376c5b)"
      ],
      "metadata": {
        "id": "AitN6acmSHa3"
      }
    },
    {
      "cell_type": "markdown",
      "source": [
        "# DataFrames and Series"
      ],
      "metadata": {
        "id": "ynrOTvEhS0fR"
      }
    },
    {
      "cell_type": "code",
      "execution_count": 1,
      "metadata": {
        "colab": {
          "base_uri": "https://localhost:8080/"
        },
        "id": "DuXRaahBSD_7",
        "outputId": "3fe7bc8d-a82d-4aba-a73c-27ba2c87417a"
      },
      "outputs": [
        {
          "output_type": "stream",
          "name": "stdout",
          "text": [
            "    Product  Price  Quantity\n",
            "0  Widget A   9.99        30\n",
            "1  Widget B  19.99        20\n",
            "2  Widget C  29.99        15\n"
          ]
        }
      ],
      "source": [
        "import pandas as pd\n",
        "\n",
        "# Creating a DataFrame\n",
        "data = {'Product': ['Widget A', 'Widget B', 'Widget C'],\n",
        "        'Price': [9.99, 19.99, 29.99],\n",
        "        'Quantity': [30, 20, 15]}\n",
        "df = pd.DataFrame(data)\n",
        "\n",
        "# Accessing the DataFrame\n",
        "print(df)"
      ]
    },
    {
      "cell_type": "markdown",
      "source": [
        "# Data Cleaning and Transformation"
      ],
      "metadata": {
        "id": "CqsQAnxaS6dU"
      }
    },
    {
      "cell_type": "code",
      "source": [
        "# Filling missing values\n",
        "df['Price'].fillna(df['Price'].mean(), inplace=True)\n",
        "\n",
        "# Dropping rows with missing values\n",
        "df.dropna(inplace=True)"
      ],
      "metadata": {
        "colab": {
          "base_uri": "https://localhost:8080/"
        },
        "id": "YC5Sg2S-Sy9E",
        "outputId": "a9cd1646-9c7d-4df3-e939-7b9a5ce7e549"
      },
      "execution_count": 2,
      "outputs": [
        {
          "output_type": "stream",
          "name": "stderr",
          "text": [
            "<ipython-input-2-35724d1e4e42>:2: FutureWarning: A value is trying to be set on a copy of a DataFrame or Series through chained assignment using an inplace method.\n",
            "The behavior will change in pandas 3.0. This inplace method will never work because the intermediate object on which we are setting values always behaves as a copy.\n",
            "\n",
            "For example, when doing 'df[col].method(value, inplace=True)', try using 'df.method({col: value}, inplace=True)' or df[col] = df[col].method(value) instead, to perform the operation inplace on the original object.\n",
            "\n",
            "\n",
            "  df['Price'].fillna(df['Price'].mean(), inplace=True)\n"
          ]
        }
      ]
    },
    {
      "cell_type": "markdown",
      "source": [
        "# Grouping and Aggregation"
      ],
      "metadata": {
        "id": "o_5KOj8jS9zx"
      }
    },
    {
      "cell_type": "code",
      "source": [
        "# Grouping by product and calculating the total quantity\n",
        "grouped_data = df.groupby('Product')['Quantity'].sum()\n",
        "print(grouped_data)"
      ],
      "metadata": {
        "colab": {
          "base_uri": "https://localhost:8080/"
        },
        "id": "DLUN-X3OS8-c",
        "outputId": "211d2839-5236-46f9-dfc5-b941601ea388"
      },
      "execution_count": 3,
      "outputs": [
        {
          "output_type": "stream",
          "name": "stdout",
          "text": [
            "Product\n",
            "Widget A    30\n",
            "Widget B    20\n",
            "Widget C    15\n",
            "Name: Quantity, dtype: int64\n"
          ]
        }
      ]
    },
    {
      "cell_type": "markdown",
      "source": [
        "# Time Series Analysis"
      ],
      "metadata": {
        "id": "G7nb2YXmTIXA"
      }
    },
    {
      "cell_type": "code",
      "source": [
        "# Creating a time series DataFrame\n",
        "date_range = pd.date_range(start='2024-01-01', periods=5, freq='D')\n",
        "df_time = pd.DataFrame({'Date': date_range, 'Value': [100, 200, 300, 400, 500]})\n",
        "\n",
        "# Setting the Date as the index\n",
        "df_time.set_index('Date', inplace=True)\n",
        "\n",
        "# Resampling data\n",
        "resampled_data = df_time.resample('2D').mean()\n",
        "print(resampled_data)"
      ],
      "metadata": {
        "colab": {
          "base_uri": "https://localhost:8080/"
        },
        "id": "5iZYcsxTTANW",
        "outputId": "a389ec43-71f6-4e1d-e7f9-e81fedd8a30c"
      },
      "execution_count": 4,
      "outputs": [
        {
          "output_type": "stream",
          "name": "stdout",
          "text": [
            "            Value\n",
            "Date             \n",
            "2024-01-01  150.0\n",
            "2024-01-03  350.0\n",
            "2024-01-05  500.0\n"
          ]
        }
      ]
    },
    {
      "cell_type": "markdown",
      "source": [
        "# Merging and Joining Datasets"
      ],
      "metadata": {
        "id": "dywXzI2CTNX4"
      }
    },
    {
      "cell_type": "code",
      "source": [
        "# Merging two DataFrames\n",
        "df1 = pd.DataFrame({'ID': [1, 2, 3], 'Name': ['Alice', 'Bob', 'Charlie']})\n",
        "df2 = pd.DataFrame({'ID': [1, 2, 4], 'Age': [25, 30, 22]})\n",
        "\n",
        "merged_df = pd.merge(df1, df2, on='ID', how='inner')\n",
        "print(merged_df)"
      ],
      "metadata": {
        "colab": {
          "base_uri": "https://localhost:8080/"
        },
        "id": "E5I-HtJ9TMSw",
        "outputId": "94dd2853-b35d-4ff7-efa7-aeb50fb96a56"
      },
      "execution_count": 5,
      "outputs": [
        {
          "output_type": "stream",
          "name": "stdout",
          "text": [
            "   ID   Name  Age\n",
            "0   1  Alice   25\n",
            "1   2    Bob   30\n"
          ]
        }
      ]
    }
  ]
}