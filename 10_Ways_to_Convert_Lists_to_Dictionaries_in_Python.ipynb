{
  "nbformat": 4,
  "nbformat_minor": 0,
  "metadata": {
    "colab": {
      "name": "10 Ways to Convert Lists to Dictionaries in Python.ipynb",
      "provenance": [],
      "authorship_tag": "ABX9TyNm3FkRKDaVdKHQnlLYVNbS"
    },
    "kernelspec": {
      "name": "python3",
      "display_name": "Python 3"
    }
  },
  "cells": [
    {
      "cell_type": "markdown",
      "metadata": {
        "id": "_m2RGbpZwdl2",
        "colab_type": "text"
      },
      "source": [
        "[Reference](https://medium.com/better-programming/10-ways-to-convert-lists-to-dictionaries-in-python-d2c728d2aeb8)"
      ]
    },
    {
      "cell_type": "markdown",
      "metadata": {
        "id": "EEaEldb_whnN",
        "colab_type": "text"
      },
      "source": [
        "# 1. Converting a List of Tuples to a Dictionary"
      ]
    },
    {
      "cell_type": "code",
      "metadata": {
        "id": "iLFX34CUwYVI",
        "colab_type": "code",
        "colab": {
          "base_uri": "https://localhost:8080/",
          "height": 34
        },
        "outputId": "ee493673-7622-495b-f6d7-285cd5cebb2a"
      },
      "source": [
        "l1=[(1,'a'),(2,'b'),\n",
        "    (3,'c'),(4,'d')]\n",
        "d1 = dict(l1)\n",
        "print(d1)"
      ],
      "execution_count": 1,
      "outputs": [
        {
          "output_type": "stream",
          "text": [
            "{1: 'a', 2: 'b', 3: 'c', 4: 'd'}\n"
          ],
          "name": "stdout"
        }
      ]
    },
    {
      "cell_type": "markdown",
      "metadata": {
        "id": "X78-AoHTwoRF",
        "colab_type": "text"
      },
      "source": [
        "# 2. Converting Two Lists of the Same Length to a Dictionary"
      ]
    },
    {
      "cell_type": "code",
      "metadata": {
        "id": "m7q5dwMPwjlT",
        "colab_type": "code",
        "colab": {
          "base_uri": "https://localhost:8080/",
          "height": 34
        },
        "outputId": "06cf455f-ba5d-457f-8573-5fb0e20aaffa"
      },
      "source": [
        "l1 = [1,2,3,4]\n",
        "l2 = ['a','b','c','d']\n",
        "d1 = zip(l1,l2)\n",
        "print(d1)"
      ],
      "execution_count": 2,
      "outputs": [
        {
          "output_type": "stream",
          "text": [
            "<zip object at 0x7fbf0f4e3b88>\n"
          ],
          "name": "stdout"
        }
      ]
    },
    {
      "cell_type": "code",
      "metadata": {
        "id": "nFsLjRJ8wwiq",
        "colab_type": "code",
        "colab": {
          "base_uri": "https://localhost:8080/",
          "height": 34
        },
        "outputId": "d683be52-67c5-4f4c-8047-52c6a9dc9c85"
      },
      "source": [
        "print(dict(d1))"
      ],
      "execution_count": 3,
      "outputs": [
        {
          "output_type": "stream",
          "text": [
            "{1: 'a', 2: 'b', 3: 'c', 4: 'd'}\n"
          ],
          "name": "stdout"
        }
      ]
    },
    {
      "cell_type": "markdown",
      "metadata": {
        "id": "8ZyQf5cSxHMx",
        "colab_type": "text"
      },
      "source": [
        "![zip](https://miro.medium.com/max/1400/1*24WMutyQkPaCVueGLyzy_g.png)"
      ]
    },
    {
      "cell_type": "markdown",
      "metadata": {
        "id": "4kYhL91Zw04T",
        "colab_type": "text"
      },
      "source": [
        "# 3.Converting Two Lists of Different Length to a Dictionary)"
      ]
    },
    {
      "cell_type": "markdown",
      "metadata": {
        "id": "UkB5rLYXxPpv",
        "colab_type": "text"
      },
      "source": [
        "![zip_longest](https://miro.medium.com/max/1400/1*KIqgxDl655hT-I1Ll8hdSQ.png)"
      ]
    },
    {
      "cell_type": "code",
      "metadata": {
        "id": "1Mnvr7HmwyWH",
        "colab_type": "code",
        "colab": {
          "base_uri": "https://localhost:8080/",
          "height": 51
        },
        "outputId": "aec4dc63-ff18-47ba-db34-3e4c0e4e063b"
      },
      "source": [
        "l1=[1,2,3,4,5,6,7]\n",
        "l2=['a','b','c','d']\n",
        "d1=zip(l1,l2)\n",
        "print(d1)\n",
        "print(dict(d1))"
      ],
      "execution_count": 4,
      "outputs": [
        {
          "output_type": "stream",
          "text": [
            "<zip object at 0x7fbf0f4e3d08>\n",
            "{1: 'a', 2: 'b', 3: 'c', 4: 'd'}\n"
          ],
          "name": "stdout"
        }
      ]
    },
    {
      "cell_type": "code",
      "metadata": {
        "id": "n0rNozyow_hT",
        "colab_type": "code",
        "colab": {
          "base_uri": "https://localhost:8080/",
          "height": 51
        },
        "outputId": "da161bfa-8eeb-4f7d-9185-a48b9d91b32d"
      },
      "source": [
        "from itertools import zip_longest\n",
        "l1=[1,2,3,4,5,6,7]\n",
        "l2=['a','b','c','d']\n",
        "d1=zip_longest(l1,l2)\n",
        "print(d1)\n",
        "print(dict(d1))"
      ],
      "execution_count": 5,
      "outputs": [
        {
          "output_type": "stream",
          "text": [
            "<itertools.zip_longest object at 0x7fbf0f4f2f98>\n",
            "{1: 'a', 2: 'b', 3: 'c', 4: 'd', 5: None, 6: None, 7: None}\n"
          ],
          "name": "stdout"
        }
      ]
    },
    {
      "cell_type": "markdown",
      "metadata": {
        "id": "V8WHsBksxXdf",
        "colab_type": "text"
      },
      "source": [
        "# 4. Converting a List of Alternative Key, Value Items to a Dictionary"
      ]
    },
    {
      "cell_type": "code",
      "metadata": {
        "id": "ZVEh0prExCYD",
        "colab_type": "code",
        "colab": {}
      },
      "source": [
        "l1 = [1,'a',2,'b',3,'c',4,'d']\n",
        "l2 = l1[::2]\n",
        "l3 = l1[1::2]"
      ],
      "execution_count": 6,
      "outputs": []
    },
    {
      "cell_type": "code",
      "metadata": {
        "id": "XCD0--TvxmYX",
        "colab_type": "code",
        "colab": {
          "base_uri": "https://localhost:8080/",
          "height": 34
        },
        "outputId": "80231af9-7b54-4880-d316-ba8b633aa7de"
      },
      "source": [
        "l2"
      ],
      "execution_count": 7,
      "outputs": [
        {
          "output_type": "execute_result",
          "data": {
            "text/plain": [
              "[1, 2, 3, 4]"
            ]
          },
          "metadata": {
            "tags": []
          },
          "execution_count": 7
        }
      ]
    },
    {
      "cell_type": "code",
      "metadata": {
        "id": "QxaoTA7SxnAC",
        "colab_type": "code",
        "colab": {
          "base_uri": "https://localhost:8080/",
          "height": 34
        },
        "outputId": "da083e87-3a29-4e28-c596-9b07f0ae9700"
      },
      "source": [
        "l3"
      ],
      "execution_count": 8,
      "outputs": [
        {
          "output_type": "execute_result",
          "data": {
            "text/plain": [
              "['a', 'b', 'c', 'd']"
            ]
          },
          "metadata": {
            "tags": []
          },
          "execution_count": 8
        }
      ]
    },
    {
      "cell_type": "code",
      "metadata": {
        "id": "ew9ZIB0_xjZy",
        "colab_type": "code",
        "colab": {
          "base_uri": "https://localhost:8080/",
          "height": 34
        },
        "outputId": "0c25af2a-1934-4317-cbf4-2cadebe5477f"
      },
      "source": [
        "z=zip(l2,l3)\n",
        "print (dict(z))"
      ],
      "execution_count": 9,
      "outputs": [
        {
          "output_type": "stream",
          "text": [
            "{1: 'a', 2: 'b', 3: 'c', 4: 'd'}\n"
          ],
          "name": "stdout"
        }
      ]
    },
    {
      "cell_type": "markdown",
      "metadata": {
        "id": "T_wJX29fxqHJ",
        "colab_type": "text"
      },
      "source": [
        "# 5. Converting a List of Dictionaries to a Single Dictionary"
      ]
    },
    {
      "cell_type": "code",
      "metadata": {
        "id": "kq-iQfFoxpBR",
        "colab_type": "code",
        "colab": {
          "base_uri": "https://localhost:8080/",
          "height": 34
        },
        "outputId": "89541bd4-f130-400a-f739-38d4e2cba52e"
      },
      "source": [
        "l1=[{1:'a',2:'b'},{3:'c',4:'d'}]\n",
        "d1={}\n",
        "for i in l1:\n",
        "    d1.update(i)\n",
        "\n",
        "print (d1)"
      ],
      "execution_count": 10,
      "outputs": [
        {
          "output_type": "stream",
          "text": [
            "{1: 'a', 2: 'b', 3: 'c', 4: 'd'}\n"
          ],
          "name": "stdout"
        }
      ]
    },
    {
      "cell_type": "code",
      "metadata": {
        "id": "TtWnCO5bxvQ5",
        "colab_type": "code",
        "colab": {
          "base_uri": "https://localhost:8080/",
          "height": 34
        },
        "outputId": "4640df7c-ca4c-44ed-daba-6d547928d454"
      },
      "source": [
        "l1=[{1:'a',2:'b'},{3:'c',4:'d'}]\n",
        "d1={k:v for e in l1 for (k,v) in e.items()}\n",
        "print (d1)"
      ],
      "execution_count": 11,
      "outputs": [
        {
          "output_type": "stream",
          "text": [
            "{1: 'a', 2: 'b', 3: 'c', 4: 'd'}\n"
          ],
          "name": "stdout"
        }
      ]
    },
    {
      "cell_type": "code",
      "metadata": {
        "id": "dBqY53kbx094",
        "colab_type": "code",
        "colab": {}
      },
      "source": [
        "l1=[{1:'a',2:'b'},{3:'c',4:'d'}]\n",
        "from collections import ChainMap\n",
        "d3=ChainMap(*l1)"
      ],
      "execution_count": 12,
      "outputs": []
    },
    {
      "cell_type": "code",
      "metadata": {
        "id": "l4Bkc0zGx3X4",
        "colab_type": "code",
        "colab": {
          "base_uri": "https://localhost:8080/",
          "height": 34
        },
        "outputId": "d41f683a-3c74-4b48-f779-bea8cef6c490"
      },
      "source": [
        "print (d3)"
      ],
      "execution_count": 13,
      "outputs": [
        {
          "output_type": "stream",
          "text": [
            "ChainMap({1: 'a', 2: 'b'}, {3: 'c', 4: 'd'})\n"
          ],
          "name": "stdout"
        }
      ]
    },
    {
      "cell_type": "code",
      "metadata": {
        "id": "ZAc-_5k1x4Io",
        "colab_type": "code",
        "colab": {
          "base_uri": "https://localhost:8080/",
          "height": 34
        },
        "outputId": "73789969-35ea-45ad-b126-baf9022068f6"
      },
      "source": [
        "print (dict(d3))"
      ],
      "execution_count": 14,
      "outputs": [
        {
          "output_type": "stream",
          "text": [
            "{1: 'a', 2: 'b', 3: 'c', 4: 'd'}\n"
          ],
          "name": "stdout"
        }
      ]
    },
    {
      "cell_type": "markdown",
      "metadata": {
        "id": "w85I-WIEx67t",
        "colab_type": "text"
      },
      "source": [
        "# 6. Converting a List to a Dictionary Using Enumerate()"
      ]
    },
    {
      "cell_type": "code",
      "metadata": {
        "id": "7lj_BQqNx5KW",
        "colab_type": "code",
        "colab": {
          "base_uri": "https://localhost:8080/",
          "height": 34
        },
        "outputId": "f6358f2c-53e5-43f2-f2c9-b0b6ae3d7941"
      },
      "source": [
        "l1 = ['a','b','c','d']\n",
        "d1 = dict(enumerate(l1))\n",
        "print (d1)"
      ],
      "execution_count": 15,
      "outputs": [
        {
          "output_type": "stream",
          "text": [
            "{0: 'a', 1: 'b', 2: 'c', 3: 'd'}\n"
          ],
          "name": "stdout"
        }
      ]
    },
    {
      "cell_type": "markdown",
      "metadata": {
        "id": "CguPCPa0yUbY",
        "colab_type": "text"
      },
      "source": [
        "# 7. Converting List Into a Dictionary Using Dictionary Comprehension"
      ]
    },
    {
      "cell_type": "code",
      "metadata": {
        "id": "HkLA1fDdx-bY",
        "colab_type": "code",
        "colab": {
          "base_uri": "https://localhost:8080/",
          "height": 34
        },
        "outputId": "073fc219-88ac-4bc8-ac6c-74e9768a9399"
      },
      "source": [
        "l1=[1,2,3,4]\n",
        "d1={k:\"a\" for k in l1}\n",
        "print (d1)"
      ],
      "execution_count": 16,
      "outputs": [
        {
          "output_type": "stream",
          "text": [
            "{1: 'a', 2: 'a', 3: 'a', 4: 'a'}\n"
          ],
          "name": "stdout"
        }
      ]
    },
    {
      "cell_type": "markdown",
      "metadata": {
        "id": "2oTlEvLcyaxu",
        "colab_type": "text"
      },
      "source": [
        "# 8. Converting a List to a Dictionary Using dict.fromkeys()"
      ]
    },
    {
      "cell_type": "code",
      "metadata": {
        "id": "XgXPNl9vyX0L",
        "colab_type": "code",
        "colab": {
          "base_uri": "https://localhost:8080/",
          "height": 34
        },
        "outputId": "223aeb72-5d79-4150-f6da-7441c278b34c"
      },
      "source": [
        "l1=['red','blue','orange']\n",
        "d1=dict.fromkeys(l1,\"colors\")\n",
        "print (d1)"
      ],
      "execution_count": 17,
      "outputs": [
        {
          "output_type": "stream",
          "text": [
            "{'red': 'colors', 'blue': 'colors', 'orange': 'colors'}\n"
          ],
          "name": "stdout"
        }
      ]
    },
    {
      "cell_type": "markdown",
      "metadata": {
        "id": "C7Yi1A0Pyhiq",
        "colab_type": "text"
      },
      "source": [
        "# 9. Converting a Nested List to a Dictionary Using Dictionary Comprehension"
      ]
    },
    {
      "cell_type": "code",
      "metadata": {
        "id": "BCYweUemydzV",
        "colab_type": "code",
        "colab": {
          "base_uri": "https://localhost:8080/",
          "height": 34
        },
        "outputId": "f4ff1a1d-0d11-403f-9072-b011d1b1ede0"
      },
      "source": [
        "l1 = [[1,2],[3,4],[5,[6,7]]]\n",
        "d1={x[0]:x[1] for x in l1}\n",
        "print(d1)"
      ],
      "execution_count": 18,
      "outputs": [
        {
          "output_type": "stream",
          "text": [
            "{1: 2, 3: 4, 5: [6, 7]}\n"
          ],
          "name": "stdout"
        }
      ]
    },
    {
      "cell_type": "markdown",
      "metadata": {
        "id": "arrHbA89ypFG",
        "colab_type": "text"
      },
      "source": [
        "# 10. Converting a List to a Dictionary Using Counter()"
      ]
    },
    {
      "cell_type": "code",
      "metadata": {
        "id": "qjM5Hi8Ryn7B",
        "colab_type": "code",
        "colab": {}
      },
      "source": [
        "from collections import Counter\n",
        "c1=Counter(['c','b','a','b','c','a','b'])"
      ],
      "execution_count": 19,
      "outputs": []
    },
    {
      "cell_type": "code",
      "metadata": {
        "id": "BRI1GhorysGh",
        "colab_type": "code",
        "colab": {
          "base_uri": "https://localhost:8080/",
          "height": 34
        },
        "outputId": "fe0dc329-9c54-49d6-8dec-cf7961bface5"
      },
      "source": [
        "print (c1)"
      ],
      "execution_count": 20,
      "outputs": [
        {
          "output_type": "stream",
          "text": [
            "Counter({'b': 3, 'c': 2, 'a': 2})\n"
          ],
          "name": "stdout"
        }
      ]
    },
    {
      "cell_type": "code",
      "metadata": {
        "id": "rdRtzBgsysTQ",
        "colab_type": "code",
        "colab": {
          "base_uri": "https://localhost:8080/",
          "height": 34
        },
        "outputId": "5c7498cc-9a75-4a05-b85f-cef4cb18fe39"
      },
      "source": [
        "print(dict(c1))"
      ],
      "execution_count": 21,
      "outputs": [
        {
          "output_type": "stream",
          "text": [
            "{'c': 2, 'b': 3, 'a': 2}\n"
          ],
          "name": "stdout"
        }
      ]
    }
  ]
}