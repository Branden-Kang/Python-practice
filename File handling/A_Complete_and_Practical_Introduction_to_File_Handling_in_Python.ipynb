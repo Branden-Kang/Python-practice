{
  "nbformat": 4,
  "nbformat_minor": 0,
  "metadata": {
    "colab": {
      "provenance": [],
      "authorship_tag": "ABX9TyNkUBoVpogi3eQAJS6ID2Bk"
    },
    "kernelspec": {
      "name": "python3",
      "display_name": "Python 3"
    },
    "language_info": {
      "name": "python"
    }
  },
  "cells": [
    {
      "cell_type": "markdown",
      "source": [
        "[Reference](https://medium.com/@aliyannshaikhh/62028948de5a)"
      ],
      "metadata": {
        "id": "Y06FExiPnRyX"
      }
    },
    {
      "cell_type": "markdown",
      "source": [
        "# Opening and Closing Files in Python"
      ],
      "metadata": {
        "id": "Ba37oWzfnX8v"
      }
    },
    {
      "cell_type": "code",
      "execution_count": 1,
      "metadata": {
        "id": "_nHUfU_inP7O"
      },
      "outputs": [],
      "source": [
        "file = open(\"data.txt\", \"r\")\n",
        "# Do something with the file\n",
        "file.close()"
      ]
    },
    {
      "cell_type": "code",
      "source": [
        "with open(\"data.txt\", \"r\") as file:\n",
        "  # Do something with the file"
      ],
      "metadata": {
        "id": "CQRMuDl4nZSu"
      },
      "execution_count": 2,
      "outputs": []
    },
    {
      "cell_type": "markdown",
      "source": [
        "# Reading Contents From a File\n",
        "## 1. read() — Read the Entire File at Once"
      ],
      "metadata": {
        "id": "vQK3lMhvnifX"
      }
    },
    {
      "cell_type": "code",
      "source": [
        "with open(\"data.txt\", \"r\") as file:\n",
        "    print(file.read()) # Prints the whole file content"
      ],
      "metadata": {
        "id": "OToZFShHnezH"
      },
      "execution_count": 4,
      "outputs": []
    },
    {
      "cell_type": "markdown",
      "source": [
        "## 2. readline() — Read One Line at a Time"
      ],
      "metadata": {
        "id": "7aRZ9ggBnnml"
      }
    },
    {
      "cell_type": "code",
      "source": [
        "with open(\"data.txt\", \"r\") as file:\n",
        "  line1 = file.readline()\n",
        "  line2 = file.readline()\n",
        "  print(line1) # Prints first line of the file\n",
        "  print(line2) # Prints second line of the file"
      ],
      "metadata": {
        "id": "9pbe81KenkwW"
      },
      "execution_count": 5,
      "outputs": []
    },
    {
      "cell_type": "markdown",
      "source": [
        "## 3. readlines() — Read All Lines and Returns a List"
      ],
      "metadata": {
        "id": "1f89qdu9nsOc"
      }
    },
    {
      "cell_type": "code",
      "source": [
        "with open(\"data.txt\", \"r\") as file:\n",
        "  line = file.readlines()\n",
        "  print(line) # Each line is a separate list element"
      ],
      "metadata": {
        "id": "ugF9FETGnpcl"
      },
      "execution_count": 6,
      "outputs": []
    },
    {
      "cell_type": "markdown",
      "source": [
        "# Writing to a File\n",
        "## 1. write() — Write One Line at a Time"
      ],
      "metadata": {
        "id": "lDZciKPNnwC-"
      }
    },
    {
      "cell_type": "code",
      "source": [
        "with open(\"sample.txt\", \"w\") as file:\n",
        "  # Adding lines one by one\n",
        "  file.write(\"Hello, Python!\\n\")\n",
        "  file.write(\"Writing to a file is easy.\")"
      ],
      "metadata": {
        "id": "0qnejrOjnuEg"
      },
      "execution_count": 7,
      "outputs": []
    },
    {
      "cell_type": "markdown",
      "source": [
        "## 2. writelines() — Write Multiple Lines at Once"
      ],
      "metadata": {
        "id": "Qy7-S0i2nzqq"
      }
    },
    {
      "cell_type": "code",
      "source": [
        "lines = [\"First line\\n\", \"Second line\\n\", \"Third line\\n\"]\n",
        "\n",
        "with open(\"lines.txt\", \"w\") as file:\n",
        "  file.writelines(lines) # Each list element is written as-is"
      ],
      "metadata": {
        "id": "N09e-VwEnymi"
      },
      "execution_count": 8,
      "outputs": []
    },
    {
      "cell_type": "markdown",
      "source": [
        "# Appending to a File"
      ],
      "metadata": {
        "id": "OTjhLz7Dn2EK"
      }
    },
    {
      "cell_type": "code",
      "source": [
        "with open(\"lines.txt\", \"a\") as file:\n",
        "  # The new line will be added at the end of the file\n",
        "  file.write(\"\\nThis line was appended.\")"
      ],
      "metadata": {
        "id": "nnmVG7pan1Mo"
      },
      "execution_count": 9,
      "outputs": []
    },
    {
      "cell_type": "code",
      "source": [
        "with open(\"lines.txt\", \"r\") as file:\n",
        "    print(file.read())"
      ],
      "metadata": {
        "colab": {
          "base_uri": "https://localhost:8080/"
        },
        "id": "Fjo5PPe5n3i6",
        "outputId": "214b4d54-c0f4-4938-861c-04dc20f41860"
      },
      "execution_count": 11,
      "outputs": [
        {
          "output_type": "stream",
          "name": "stdout",
          "text": [
            "First line\n",
            "Second line\n",
            "Third line\n",
            "\n",
            "This line was appended.\n"
          ]
        }
      ]
    },
    {
      "cell_type": "markdown",
      "source": [
        "# Exception Handling in File Operations\n"
      ],
      "metadata": {
        "id": "kWASZGbqn8bb"
      }
    },
    {
      "cell_type": "code",
      "source": [
        "file = open(\"names.txt\", \"r\")\n",
        "\n",
        "contents = file.read()\n",
        "print(contents)\n",
        "\n",
        "file.close()"
      ],
      "metadata": {
        "colab": {
          "base_uri": "https://localhost:8080/",
          "height": 207
        },
        "id": "IA6apEwIn5Qr",
        "outputId": "e7673f3e-a98e-4b46-a362-a8928e3f351f"
      },
      "execution_count": 12,
      "outputs": [
        {
          "output_type": "error",
          "ename": "FileNotFoundError",
          "evalue": "[Errno 2] No such file or directory: 'names.txt'",
          "traceback": [
            "\u001b[0;31m---------------------------------------------------------------------------\u001b[0m",
            "\u001b[0;31mFileNotFoundError\u001b[0m                         Traceback (most recent call last)",
            "\u001b[0;32m/tmp/ipython-input-3174598791.py\u001b[0m in \u001b[0;36m<cell line: 0>\u001b[0;34m()\u001b[0m\n\u001b[0;32m----> 1\u001b[0;31m \u001b[0mfile\u001b[0m \u001b[0;34m=\u001b[0m \u001b[0mopen\u001b[0m\u001b[0;34m(\u001b[0m\u001b[0;34m\"names.txt\"\u001b[0m\u001b[0;34m,\u001b[0m \u001b[0;34m\"r\"\u001b[0m\u001b[0;34m)\u001b[0m\u001b[0;34m\u001b[0m\u001b[0;34m\u001b[0m\u001b[0m\n\u001b[0m\u001b[1;32m      2\u001b[0m \u001b[0;34m\u001b[0m\u001b[0m\n\u001b[1;32m      3\u001b[0m \u001b[0mcontents\u001b[0m \u001b[0;34m=\u001b[0m \u001b[0mfile\u001b[0m\u001b[0;34m.\u001b[0m\u001b[0mread\u001b[0m\u001b[0;34m(\u001b[0m\u001b[0;34m)\u001b[0m\u001b[0;34m\u001b[0m\u001b[0;34m\u001b[0m\u001b[0m\n\u001b[1;32m      4\u001b[0m \u001b[0mprint\u001b[0m\u001b[0;34m(\u001b[0m\u001b[0mcontents\u001b[0m\u001b[0;34m)\u001b[0m\u001b[0;34m\u001b[0m\u001b[0;34m\u001b[0m\u001b[0m\n\u001b[1;32m      5\u001b[0m \u001b[0;34m\u001b[0m\u001b[0m\n",
            "\u001b[0;31mFileNotFoundError\u001b[0m: [Errno 2] No such file or directory: 'names.txt'"
          ]
        }
      ]
    },
    {
      "cell_type": "code",
      "source": [
        "try:\n",
        "    with open(\"names.txt\", \"r\") as file:\n",
        "        content = file.read()\n",
        "        print(content)\n",
        "except FileNotFoundError:\n",
        "    print(\"The file does not exist. Please check the filename.\")"
      ],
      "metadata": {
        "id": "7X2NU1C5n_Ge",
        "outputId": "f77ed80a-6ee4-4788-d2d2-efc30c68e87e",
        "colab": {
          "base_uri": "https://localhost:8080/"
        }
      },
      "execution_count": 13,
      "outputs": [
        {
          "output_type": "stream",
          "name": "stdout",
          "text": [
            "The file does not exist. Please check the filename.\n"
          ]
        }
      ]
    }
  ]
}
