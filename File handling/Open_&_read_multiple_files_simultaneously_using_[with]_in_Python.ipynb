{
  "nbformat": 4,
  "nbformat_minor": 0,
  "metadata": {
    "colab": {
      "provenance": [],
      "authorship_tag": "ABX9TyMBOVNPzaFnAHYKhVRjTZbJ"
    },
    "kernelspec": {
      "name": "python3",
      "display_name": "Python 3"
    },
    "language_info": {
      "name": "python"
    }
  },
  "cells": [
    {
      "cell_type": "markdown",
      "source": [
        "[Reference](https://medium.com/@geekpython/open-read-multiple-files-simultaneously-using-with-in-python-4162a81f330d)"
      ],
      "metadata": {
        "id": "lcZN_tjBU99u"
      }
    },
    {
      "cell_type": "code",
      "execution_count": 4,
      "metadata": {
        "id": "2UM49FCsUx25"
      },
      "outputs": [],
      "source": [
        "# with open(\"first.txt\") as file_1, open(\"second.txt\") as file_2, open(\"third.txt\") as file_3:\n",
        "#     f1 = file_1.read()\n",
        "#     f2 = file_2.read()\n",
        "#     f3 = file_3.read()\n",
        "\n",
        "#     for lines in f1, f2, f3:\n",
        "#         print(lines)"
      ]
    },
    {
      "cell_type": "code",
      "source": [
        "# import fileinput\n",
        "\n",
        "# with fileinput.input(files=('first.txt', 'second.txt','third.txt')) as f:\n",
        "#     for line in f:\n",
        "#         print(line)"
      ],
      "metadata": {
        "id": "rbQVLq0tVC6L"
      },
      "execution_count": 5,
      "outputs": []
    }
  ]
}
