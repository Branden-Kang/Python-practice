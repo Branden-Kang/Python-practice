{
  "nbformat": 4,
  "nbformat_minor": 0,
  "metadata": {
    "colab": {
      "name": "How to Make a Reminder Application using Python.ipynb",
      "provenance": [],
      "authorship_tag": "ABX9TyO1fZ/5QNLDC3fLsHEZRhjc"
    },
    "kernelspec": {
      "name": "python3",
      "display_name": "Python 3"
    },
    "language_info": {
      "name": "python"
    }
  },
  "cells": [
    {
      "cell_type": "markdown",
      "metadata": {
        "id": "TF0HaBEgtwg0"
      },
      "source": [
        "[Reference](https://python.plainenglish.io/how-to-make-reminder-application-using-python-214aa865dc31)"
      ]
    },
    {
      "cell_type": "code",
      "metadata": {
        "colab": {
          "base_uri": "https://localhost:8080/"
        },
        "id": "in-dsJwStu2F",
        "outputId": "b438db8e-8009-44b7-f4af-344b2bbcb30d"
      },
      "source": [
        "pip install pync"
      ],
      "execution_count": 1,
      "outputs": [
        {
          "output_type": "stream",
          "text": [
            "Collecting pync\n",
            "  Downloading pync-2.0.3.tar.gz (374 kB)\n",
            "\u001b[?25l\r\u001b[K     |▉                               | 10 kB 29.9 MB/s eta 0:00:01\r\u001b[K     |█▊                              | 20 kB 32.0 MB/s eta 0:00:01\r\u001b[K     |██▋                             | 30 kB 38.1 MB/s eta 0:00:01\r\u001b[K     |███▌                            | 40 kB 20.4 MB/s eta 0:00:01\r\u001b[K     |████▍                           | 51 kB 16.2 MB/s eta 0:00:01\r\u001b[K     |█████▎                          | 61 kB 11.8 MB/s eta 0:00:01\r\u001b[K     |██████▏                         | 71 kB 11.7 MB/s eta 0:00:01\r\u001b[K     |███████                         | 81 kB 12.7 MB/s eta 0:00:01\r\u001b[K     |███████▉                        | 92 kB 11.8 MB/s eta 0:00:01\r\u001b[K     |████████▊                       | 102 kB 12.7 MB/s eta 0:00:01\r\u001b[K     |█████████▋                      | 112 kB 12.7 MB/s eta 0:00:01\r\u001b[K     |██████████▌                     | 122 kB 12.7 MB/s eta 0:00:01\r\u001b[K     |███████████▍                    | 133 kB 12.7 MB/s eta 0:00:01\r\u001b[K     |████████████▎                   | 143 kB 12.7 MB/s eta 0:00:01\r\u001b[K     |█████████████▏                  | 153 kB 12.7 MB/s eta 0:00:01\r\u001b[K     |██████████████                  | 163 kB 12.7 MB/s eta 0:00:01\r\u001b[K     |██████████████▉                 | 174 kB 12.7 MB/s eta 0:00:01\r\u001b[K     |███████████████▊                | 184 kB 12.7 MB/s eta 0:00:01\r\u001b[K     |████████████████▋               | 194 kB 12.7 MB/s eta 0:00:01\r\u001b[K     |█████████████████▌              | 204 kB 12.7 MB/s eta 0:00:01\r\u001b[K     |██████████████████▍             | 215 kB 12.7 MB/s eta 0:00:01\r\u001b[K     |███████████████████▎            | 225 kB 12.7 MB/s eta 0:00:01\r\u001b[K     |████████████████████▏           | 235 kB 12.7 MB/s eta 0:00:01\r\u001b[K     |█████████████████████           | 245 kB 12.7 MB/s eta 0:00:01\r\u001b[K     |█████████████████████▉          | 256 kB 12.7 MB/s eta 0:00:01\r\u001b[K     |██████████████████████▊         | 266 kB 12.7 MB/s eta 0:00:01\r\u001b[K     |███████████████████████▋        | 276 kB 12.7 MB/s eta 0:00:01\r\u001b[K     |████████████████████████▌       | 286 kB 12.7 MB/s eta 0:00:01\r\u001b[K     |█████████████████████████▍      | 296 kB 12.7 MB/s eta 0:00:01\r\u001b[K     |██████████████████████████▎     | 307 kB 12.7 MB/s eta 0:00:01\r\u001b[K     |███████████████████████████▏    | 317 kB 12.7 MB/s eta 0:00:01\r\u001b[K     |████████████████████████████    | 327 kB 12.7 MB/s eta 0:00:01\r\u001b[K     |█████████████████████████████   | 337 kB 12.7 MB/s eta 0:00:01\r\u001b[K     |█████████████████████████████▊  | 348 kB 12.7 MB/s eta 0:00:01\r\u001b[K     |██████████████████████████████▋ | 358 kB 12.7 MB/s eta 0:00:01\r\u001b[K     |███████████████████████████████▌| 368 kB 12.7 MB/s eta 0:00:01\r\u001b[K     |████████████████████████████████| 374 kB 12.7 MB/s \n",
            "\u001b[?25hRequirement already satisfied: python-dateutil>=2.0 in /usr/local/lib/python3.7/dist-packages (from pync) (2.8.1)\n",
            "Requirement already satisfied: six>=1.5 in /usr/local/lib/python3.7/dist-packages (from python-dateutil>=2.0->pync) (1.15.0)\n",
            "Building wheels for collected packages: pync\n",
            "  Building wheel for pync (setup.py) ... \u001b[?25l\u001b[?25hdone\n",
            "  Created wheel for pync: filename=pync-2.0.3-py3-none-any.whl size=374273 sha256=7e455c6dbf1b55cafc8d72da86c4f89a3c7abe63049585c69dd63a2cf55f9157\n",
            "  Stored in directory: /root/.cache/pip/wheels/6c/8a/03/82fc2a8f00e4ed38557aab1efe2121a321bbe4f7d1a8e2effb\n",
            "Successfully built pync\n",
            "Installing collected packages: pync\n",
            "Successfully installed pync-2.0.3\n"
          ],
          "name": "stdout"
        }
      ]
    },
    {
      "cell_type": "code",
      "metadata": {
        "id": "2qNuLBDPt6Mc"
      },
      "source": [
        "import pync\n",
        "import time"
      ],
      "execution_count": 4,
      "outputs": []
    },
    {
      "cell_type": "code",
      "metadata": {
        "id": "dTUy6Akjt7IE"
      },
      "source": [
        "def reminder():\n",
        "    pync.notify(title = \"break reminder\", message=\"hello sir please take some break from work\",timeout = 1)\n",
        "while True:\n",
        "    reminder()\n",
        "    time.sleep(10)"
      ],
      "execution_count": 5,
      "outputs": []
    },
    {
      "cell_type": "code",
      "metadata": {
        "colab": {
          "base_uri": "https://localhost:8080/"
        },
        "id": "0ohvm5qJuHAL",
        "outputId": "a942f186-8824-4313-d943-7b0407dea249"
      },
      "source": [
        "pip install plyer"
      ],
      "execution_count": 6,
      "outputs": [
        {
          "output_type": "stream",
          "text": [
            "Collecting plyer\n",
            "  Downloading plyer-2.0.0-py2.py3-none-any.whl (131 kB)\n",
            "\u001b[?25l\r\u001b[K     |██▌                             | 10 kB 29.3 MB/s eta 0:00:01\r\u001b[K     |█████                           | 20 kB 37.4 MB/s eta 0:00:01\r\u001b[K     |███████▌                        | 30 kB 25.2 MB/s eta 0:00:01\r\u001b[K     |██████████                      | 40 kB 23.4 MB/s eta 0:00:01\r\u001b[K     |████████████▌                   | 51 kB 15.3 MB/s eta 0:00:01\r\u001b[K     |███████████████                 | 61 kB 13.0 MB/s eta 0:00:01\r\u001b[K     |█████████████████▌              | 71 kB 13.5 MB/s eta 0:00:01\r\u001b[K     |████████████████████            | 81 kB 14.8 MB/s eta 0:00:01\r\u001b[K     |██████████████████████▌         | 92 kB 15.1 MB/s eta 0:00:01\r\u001b[K     |█████████████████████████       | 102 kB 13.0 MB/s eta 0:00:01\r\u001b[K     |███████████████████████████▍    | 112 kB 13.0 MB/s eta 0:00:01\r\u001b[K     |██████████████████████████████  | 122 kB 13.0 MB/s eta 0:00:01\r\u001b[K     |████████████████████████████████| 131 kB 13.0 MB/s \n",
            "\u001b[?25hInstalling collected packages: plyer\n",
            "Successfully installed plyer-2.0.0\n"
          ],
          "name": "stdout"
        }
      ]
    },
    {
      "cell_type": "code",
      "metadata": {
        "id": "Z_FNcS3nuLo-"
      },
      "source": [
        "from plyer import notification\n",
        "import time"
      ],
      "execution_count": 7,
      "outputs": []
    },
    {
      "cell_type": "code",
      "metadata": {
        "id": "c4O3kiyVuOVZ"
      },
      "source": [
        "def reminder():\n",
        "    notification.notify(title = \"break reminder\", message=\"hello sir please take some break from work\",timeout = 1)\n",
        "while True:\n",
        "    reminder()\n",
        "    time.sleep(10)"
      ],
      "execution_count": 9,
      "outputs": []
    }
  ]
}