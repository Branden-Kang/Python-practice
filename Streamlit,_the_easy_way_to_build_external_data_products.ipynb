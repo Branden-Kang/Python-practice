{
  "nbformat": 4,
  "nbformat_minor": 0,
  "metadata": {
    "colab": {
      "provenance": [],
      "authorship_tag": "ABX9TyMlrpqkpd/Lb+YsYhY3gRWV"
    },
    "kernelspec": {
      "name": "python3",
      "display_name": "Python 3"
    },
    "language_info": {
      "name": "python"
    }
  },
  "cells": [
    {
      "cell_type": "markdown",
      "source": [
        "[Reference](https://medium.com/@jensbaekelmans/streamlit-the-easy-way-to-build-external-data-products-c601d66bed55)"
      ],
      "metadata": {
        "id": "9TEqDdRuO3Sn"
      }
    },
    {
      "cell_type": "code",
      "execution_count": 1,
      "metadata": {
        "id": "pWnA-wwdOrR3"
      },
      "outputs": [],
      "source": [
        "# !pip install pandas\n",
        "# !pip install kepler.gl\n",
        "# !pip install streamlit_keplergl"
      ]
    },
    {
      "cell_type": "code",
      "source": [
        "# import streamlit as st\n",
        "# import pandas as pd\n",
        "# from streamlit_keplergl import keplergl_static\n",
        "# from keplergl import KeplerGl\n",
        "\n",
        "# st.header('This is an app that visualizes Airbnb data in Antwerp!')\n",
        "# st.subheader('A quick tutorial on how to use Streamlit')\n",
        "\n",
        "# df = pd.read_csv(\"http://data.insideairbnb.com/belgium/vlg/antwerp/2022-09-22/visualisations/listings.csv\")\n",
        "\n",
        "# map = KeplerGl(height=400)\n",
        "# map.add_data(df, name='Antwerpen Airbnb data')\n",
        "# keplergl_static(map)"
      ],
      "metadata": {
        "id": "w21b94KwPn99"
      },
      "execution_count": 2,
      "outputs": []
    }
  ]
}