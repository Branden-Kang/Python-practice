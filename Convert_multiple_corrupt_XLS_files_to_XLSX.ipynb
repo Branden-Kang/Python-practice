{
  "nbformat": 4,
  "nbformat_minor": 0,
  "metadata": {
    "colab": {
      "name": "Convert multiple corrupt XLS files to XLSX.ipynb",
      "provenance": [],
      "authorship_tag": "ABX9TyNAehKlZW+uuJ9skrnMJwVd"
    },
    "kernelspec": {
      "name": "python3",
      "display_name": "Python 3"
    },
    "language_info": {
      "name": "python"
    }
  },
  "cells": [
    {
      "cell_type": "markdown",
      "metadata": {
        "id": "-QgFwk3lNrrl"
      },
      "source": [
        "[Reference](https://medium.com/geekculture/convert-multiple-corrupt-xls-files-to-xlsx-python-in-finance-5-1da1dc1cf89d)"
      ]
    },
    {
      "cell_type": "code",
      "metadata": {
        "id": "DYtnUWghNfDk"
      },
      "source": [
        "import win32com.client\n",
        "import os\n",
        "import glob"
      ],
      "execution_count": 2,
      "outputs": []
    },
    {
      "cell_type": "code",
      "metadata": {
        "id": "Gp57nLMvNkGZ"
      },
      "source": [
        "o = win32com.client.Dispatch(\"Excel.Application\")\n",
        "o.Visible = Falseinput_dir = r\"C:\\input_directory\"\n",
        "output_dir = r\"C:\\output_directory\"\n",
        "files = glob.glob(input_dir + \"/*.xls\")"
      ],
      "execution_count": 3,
      "outputs": []
    },
    {
      "cell_type": "code",
      "metadata": {
        "id": "18EJFa9jNn0s"
      },
      "source": [
        "for filename in files:\n",
        "    file = os.path.basename(filename)\n",
        "    output = output_dir + '/' + file.replace('.XLS','.xlsx')\n",
        "    wb = o.Workbooks.Open(filename)\n",
        "    wb.ActiveSheet.SaveAs(output,51)\n",
        "    wb.Close(True)"
      ],
      "execution_count": 4,
      "outputs": []
    }
  ]
}