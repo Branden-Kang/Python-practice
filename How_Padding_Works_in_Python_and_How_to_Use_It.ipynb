{
  "nbformat": 4,
  "nbformat_minor": 0,
  "metadata": {
    "colab": {
      "provenance": [],
      "authorship_tag": "ABX9TyNVK1gxVCNLOJJU82ft6FyX"
    },
    "kernelspec": {
      "name": "python3",
      "display_name": "Python 3"
    },
    "language_info": {
      "name": "python"
    }
  },
  "cells": [
    {
      "cell_type": "markdown",
      "source": [
        "[Reference](https://medium.com/pythons-gurus/how-padding-works-in-python-and-how-to-use-it-8c0020830f8d)"
      ],
      "metadata": {
        "id": "PjY4Nih_WDv0"
      }
    },
    {
      "cell_type": "markdown",
      "source": [
        "# Padding Strings in Python"
      ],
      "metadata": {
        "id": "CjGx-4BbWLmI"
      }
    },
    {
      "cell_type": "code",
      "execution_count": 1,
      "metadata": {
        "colab": {
          "base_uri": "https://localhost:8080/"
        },
        "id": "YTQJ27WsWB8y",
        "outputId": "ab48c966-56b6-492d-9718-be3e026cd863"
      },
      "outputs": [
        {
          "output_type": "stream",
          "name": "stdout",
          "text": [
            "Python----\n",
            "----Python\n",
            "--Python--\n"
          ]
        }
      ],
      "source": [
        "text = \"Python\"\n",
        "\n",
        "# Left padding\n",
        "print(text.ljust(10, \"-\"))  # Output: 'Python----'\n",
        "\n",
        "# Right padding\n",
        "print(text.rjust(10, \"-\"))  # Output: '----Python'\n",
        "\n",
        "# Center padding\n",
        "print(text.center(10, \"-\"))  # Output: '--Python--'"
      ]
    },
    {
      "cell_type": "markdown",
      "source": [
        "# Using zfill() for Numeric Padding"
      ],
      "metadata": {
        "id": "h_h8njNTWJyB"
      }
    },
    {
      "cell_type": "code",
      "source": [
        "number = \"42\"\n",
        "print(number.zfill(5))  # Output: '00042'"
      ],
      "metadata": {
        "colab": {
          "base_uri": "https://localhost:8080/"
        },
        "id": "PXw8q5TmWH72",
        "outputId": "d54659dc-563e-41f0-8bb1-9ca116be6594"
      },
      "execution_count": 2,
      "outputs": [
        {
          "output_type": "stream",
          "name": "stdout",
          "text": [
            "00042\n"
          ]
        }
      ]
    },
    {
      "cell_type": "markdown",
      "source": [
        "# Padding Numbers"
      ],
      "metadata": {
        "id": "X0vo9tYxWO2_"
      }
    },
    {
      "cell_type": "code",
      "source": [
        "number = 42\n",
        "\n",
        "# Zero padding\n",
        "print(\"{:05}\".format(number))  # Output: '00042'\n",
        "\n",
        "# Space padding\n",
        "print(\"{:>5}\".format(number))  # Output: '   42'"
      ],
      "metadata": {
        "colab": {
          "base_uri": "https://localhost:8080/"
        },
        "id": "1t0djztxWNAT",
        "outputId": "9263326f-fdcb-49dd-c85a-67da893e9af3"
      },
      "execution_count": 3,
      "outputs": [
        {
          "output_type": "stream",
          "name": "stdout",
          "text": [
            "00042\n",
            "   42\n"
          ]
        }
      ]
    },
    {
      "cell_type": "code",
      "source": [
        "number = 42\n",
        "\n",
        "# Zero padding\n",
        "print(\"{:05}\".format(number))  # Output: '00042'\n",
        "\n",
        "# Space padding\n",
        "print(\"{:>5}\".format(number))  # Output: '   42'"
      ],
      "metadata": {
        "colab": {
          "base_uri": "https://localhost:8080/"
        },
        "id": "Jv0Q6eBKWRSv",
        "outputId": "9903e3a0-023c-4ae7-fb74-4c073d1199aa"
      },
      "execution_count": 4,
      "outputs": [
        {
          "output_type": "stream",
          "name": "stdout",
          "text": [
            "00042\n",
            "   42\n"
          ]
        }
      ]
    },
    {
      "cell_type": "markdown",
      "source": [
        "# Padding in Data Structures"
      ],
      "metadata": {
        "id": "X_ORUFztWUaM"
      }
    },
    {
      "cell_type": "code",
      "source": [
        "data = [1, 2, 3]\n",
        "\n",
        "# Padding a list to length 5 with zeros\n",
        "padded_data = data + [0] * (5 - len(data))\n",
        "print(padded_data)  # Output: [1, 2, 3, 0, 0]"
      ],
      "metadata": {
        "colab": {
          "base_uri": "https://localhost:8080/"
        },
        "id": "hATnMzPcWSvQ",
        "outputId": "842d9a8c-5b9f-426a-c00a-eb6bd5eceefd"
      },
      "execution_count": 5,
      "outputs": [
        {
          "output_type": "stream",
          "name": "stdout",
          "text": [
            "[1, 2, 3, 0, 0]\n"
          ]
        }
      ]
    },
    {
      "cell_type": "markdown",
      "source": [
        "# Padding for Cryptography"
      ],
      "metadata": {
        "id": "l6hfn4yGWXaR"
      }
    },
    {
      "cell_type": "code",
      "source": [
        "block_size = 8\n",
        "data = \"Python\"\n",
        "\n",
        "# Padding to block size\n",
        "padded_data = data + \"\\0\" * (block_size - len(data) % block_size)\n",
        "print(padded_data)  # Output: 'Python\\0\\0'"
      ],
      "metadata": {
        "colab": {
          "base_uri": "https://localhost:8080/"
        },
        "id": "mDiI-il1WWP0",
        "outputId": "7f9eadc7-eb11-4d58-9645-631c1cf91075"
      },
      "execution_count": 6,
      "outputs": [
        {
          "output_type": "stream",
          "name": "stdout",
          "text": [
            "Python\u0000\u0000\n"
          ]
        }
      ]
    },
    {
      "cell_type": "code",
      "source": [
        "data = [(\"Name\", \"Score\"), (\"Alice\", 95), (\"Bob\", 88)]\n",
        "for name, score in data:\n",
        "    print(f\"{name:<10}{score:>5}\")"
      ],
      "metadata": {
        "colab": {
          "base_uri": "https://localhost:8080/"
        },
        "id": "1cD3nDYRWbRX",
        "outputId": "e7626e5d-8b1c-4a8d-c231-ac06769dd29e"
      },
      "execution_count": 7,
      "outputs": [
        {
          "output_type": "stream",
          "name": "stdout",
          "text": [
            "Name      Score\n",
            "Alice        95\n",
            "Bob          88\n"
          ]
        }
      ]
    }
  ]
}