{
  "nbformat": 4,
  "nbformat_minor": 0,
  "metadata": {
    "colab": {
      "name": "A Python Data Pipeline to Track Holiday Spending with Mint API, BigQuery and Tableau.ipynb",
      "provenance": [],
      "authorship_tag": "ABX9TyOXVZn17UKQbO13d1eFzAWS"
    },
    "kernelspec": {
      "name": "python3",
      "display_name": "Python 3"
    },
    "language_info": {
      "name": "python"
    }
  },
  "cells": [
    {
      "cell_type": "markdown",
      "source": [
        "[Reference](https://medium.com/plumbersofdatascience/a-python-data-pipeline-to-track-holiday-spending-with-mint-api-bigquery-and-tableau-9ae7f1e2e77f)"
      ],
      "metadata": {
        "id": "Vn7dhcm9d858"
      }
    },
    {
      "cell_type": "code",
      "execution_count": 1,
      "metadata": {
        "colab": {
          "base_uri": "https://localhost:8080/"
        },
        "id": "jpk5CYTtd5ox",
        "outputId": "e1b0c8ba-1ff1-45c0-956f-ee4ccd1c7dc8"
      },
      "outputs": [
        {
          "output_type": "stream",
          "name": "stdout",
          "text": [
            "Collecting mintapi\n",
            "  Downloading mintapi-1.61.tar.gz (28 kB)\n",
            "Collecting configargparse\n",
            "  Downloading ConfigArgParse-1.5.3-py3-none-any.whl (20 kB)\n",
            "Collecting oathtool\n",
            "  Downloading oathtool-2.3.1-py3-none-any.whl (6.6 kB)\n",
            "Requirement already satisfied: pandas>=1.0 in /usr/local/lib/python3.7/dist-packages (from mintapi) (1.1.5)\n",
            "Requirement already satisfied: requests in /usr/local/lib/python3.7/dist-packages (from mintapi) (2.23.0)\n",
            "Collecting selenium\n",
            "  Downloading selenium-4.1.0-py3-none-any.whl (958 kB)\n",
            "\u001b[K     |████████████████████████████████| 958 kB 6.6 MB/s \n",
            "\u001b[?25hCollecting selenium-requests>=1.3.3\n",
            "  Downloading selenium_requests-1.3.3-py3-none-any.whl (6.7 kB)\n",
            "Collecting xmltodict\n",
            "  Downloading xmltodict-0.12.0-py2.py3-none-any.whl (9.2 kB)\n",
            "Collecting keyring\n",
            "  Downloading keyring-23.4.0-py3-none-any.whl (33 kB)\n",
            "Requirement already satisfied: numpy>=1.15.4 in /usr/local/lib/python3.7/dist-packages (from pandas>=1.0->mintapi) (1.19.5)\n",
            "Requirement already satisfied: python-dateutil>=2.7.3 in /usr/local/lib/python3.7/dist-packages (from pandas>=1.0->mintapi) (2.8.2)\n",
            "Requirement already satisfied: pytz>=2017.2 in /usr/local/lib/python3.7/dist-packages (from pandas>=1.0->mintapi) (2018.9)\n",
            "Requirement already satisfied: six>=1.5 in /usr/local/lib/python3.7/dist-packages (from python-dateutil>=2.7.3->pandas>=1.0->mintapi) (1.15.0)\n",
            "Collecting tldextract<4.0.0,>=3.1.1\n",
            "  Downloading tldextract-3.1.2-py2.py3-none-any.whl (87 kB)\n",
            "\u001b[K     |████████████████████████████████| 87 kB 5.4 MB/s \n",
            "\u001b[?25hCollecting selenium\n",
            "  Downloading selenium-3.141.0-py2.py3-none-any.whl (904 kB)\n",
            "\u001b[K     |████████████████████████████████| 904 kB 46.6 MB/s \n",
            "\u001b[?25hCollecting requests\n",
            "  Downloading requests-2.26.0-py2.py3-none-any.whl (62 kB)\n",
            "\u001b[K     |████████████████████████████████| 62 kB 733 kB/s \n",
            "\u001b[?25hRequirement already satisfied: charset-normalizer~=2.0.0 in /usr/local/lib/python3.7/dist-packages (from requests->mintapi) (2.0.8)\n",
            "Requirement already satisfied: urllib3<1.27,>=1.21.1 in /usr/local/lib/python3.7/dist-packages (from requests->mintapi) (1.24.3)\n",
            "Requirement already satisfied: certifi>=2017.4.17 in /usr/local/lib/python3.7/dist-packages (from requests->mintapi) (2021.10.8)\n",
            "Requirement already satisfied: idna<4,>=2.5 in /usr/local/lib/python3.7/dist-packages (from requests->mintapi) (2.10)\n",
            "Requirement already satisfied: filelock>=3.0.8 in /usr/local/lib/python3.7/dist-packages (from tldextract<4.0.0,>=3.1.1->selenium-requests>=1.3.3->mintapi) (3.4.0)\n",
            "Collecting requests-file>=1.4\n",
            "  Downloading requests_file-1.5.1-py2.py3-none-any.whl (3.7 kB)\n",
            "Collecting jeepney>=0.4.2\n",
            "  Downloading jeepney-0.7.1-py3-none-any.whl (54 kB)\n",
            "\u001b[K     |████████████████████████████████| 54 kB 2.1 MB/s \n",
            "\u001b[?25hCollecting SecretStorage>=3.2\n",
            "  Downloading SecretStorage-3.3.1-py3-none-any.whl (15 kB)\n",
            "Requirement already satisfied: importlib-metadata>=3.6 in /usr/local/lib/python3.7/dist-packages (from keyring->mintapi) (4.8.2)\n",
            "Requirement already satisfied: zipp>=0.5 in /usr/local/lib/python3.7/dist-packages (from importlib-metadata>=3.6->keyring->mintapi) (3.6.0)\n",
            "Requirement already satisfied: typing-extensions>=3.6.4 in /usr/local/lib/python3.7/dist-packages (from importlib-metadata>=3.6->keyring->mintapi) (3.10.0.2)\n",
            "Collecting cryptography>=2.0\n",
            "  Downloading cryptography-36.0.1-cp36-abi3-manylinux_2_24_x86_64.whl (3.6 MB)\n",
            "\u001b[K     |████████████████████████████████| 3.6 MB 43.0 MB/s \n",
            "\u001b[?25hRequirement already satisfied: cffi>=1.12 in /usr/local/lib/python3.7/dist-packages (from cryptography>=2.0->SecretStorage>=3.2->keyring->mintapi) (1.15.0)\n",
            "Requirement already satisfied: pycparser in /usr/local/lib/python3.7/dist-packages (from cffi>=1.12->cryptography>=2.0->SecretStorage>=3.2->keyring->mintapi) (2.21)\n",
            "Requirement already satisfied: importlib-resources in /usr/local/lib/python3.7/dist-packages (from oathtool->mintapi) (5.4.0)\n",
            "Collecting autocommand\n",
            "  Downloading autocommand-2.2.1-py3-none-any.whl (22 kB)\n",
            "Collecting path\n",
            "  Downloading path-16.2.0-py3-none-any.whl (21 kB)\n",
            "Building wheels for collected packages: mintapi\n",
            "  Building wheel for mintapi (setup.py) ... \u001b[?25l\u001b[?25hdone\n",
            "  Created wheel for mintapi: filename=mintapi-1.61-py3-none-any.whl size=25276 sha256=0335639ccfd40956f31dd227b5a5fdf1e820464ba72b4d02a2474e31cd8e0863\n",
            "  Stored in directory: /root/.cache/pip/wheels/c1/63/44/5d3038eb3e9d414941f010df1675f34c0bc8db53257e37bad1\n",
            "Successfully built mintapi\n",
            "Installing collected packages: requests, requests-file, jeepney, cryptography, tldextract, selenium, SecretStorage, path, autocommand, xmltodict, selenium-requests, oathtool, keyring, configargparse, mintapi\n",
            "  Attempting uninstall: requests\n",
            "    Found existing installation: requests 2.23.0\n",
            "    Uninstalling requests-2.23.0:\n",
            "      Successfully uninstalled requests-2.23.0\n",
            "\u001b[31mERROR: pip's dependency resolver does not currently take into account all the packages that are installed. This behaviour is the source of the following dependency conflicts.\n",
            "google-colab 1.0.0 requires requests~=2.23.0, but you have requests 2.26.0 which is incompatible.\n",
            "datascience 0.10.6 requires folium==0.2.1, but you have folium 0.8.3 which is incompatible.\u001b[0m\n",
            "Successfully installed SecretStorage-3.3.1 autocommand-2.2.1 configargparse-1.5.3 cryptography-36.0.1 jeepney-0.7.1 keyring-23.4.0 mintapi-1.61 oathtool-2.3.1 path-16.2.0 requests-2.26.0 requests-file-1.5.1 selenium-3.141.0 selenium-requests-1.3.3 tldextract-3.1.2 xmltodict-0.12.0\n"
          ]
        }
      ],
      "source": [
        "pip install mintapi"
      ]
    },
    {
      "cell_type": "markdown",
      "source": [
        "# Extract\n"
      ],
      "metadata": {
        "id": "Kf26OQMXeLvz"
      }
    },
    {
      "cell_type": "code",
      "source": [
        "import pandas as pd \n",
        "from google.cloud import bigquery\n",
        "import mintapi as mintapi\n",
        "# Opens Mint in new browser window through Selenium webdriver. \n",
        "mint_auth = mintapi.Mint(\n",
        "    'email',\n",
        "    'password',\n",
        "    mfa_method = 'sms',\n",
        "    mfa_input_callback=None,\n",
        "    mfa_token=None,\n",
        "    intuit_account=None,\n",
        "    headless=False,\n",
        "    session_path=None,\n",
        "    imap_account=None,\n",
        "    imap_password=None,\n",
        "    imap_server=None,\n",
        "    imap_folder='INBOX',\n",
        "    wait_for_sync=False, \n",
        "    wait_for_sync_timeout=300,\n",
        "    use_chromedriver_on_path=False\n",
        "    )"
      ],
      "metadata": {
        "id": "JzfagLyweFOr"
      },
      "execution_count": 2,
      "outputs": []
    },
    {
      "cell_type": "code",
      "source": [
        "# Retrieves all accounts \n",
        "mint_auth.get_accounts()\n",
        "# Retrieves budgetary information \n",
        "mint_auth.get_budgets()\n",
        "# Retrieves transaction information \n",
        "mint_auth.get_transactions()\n",
        "mint_auth.get_transactions_csv()\n",
        "mint_auth.get_transactions_json()\n",
        "# Retrieves current net worth (one value).\n",
        "mint_auth.get_net_worth()\n",
        "# Retrieves current credit score (one value).\n",
        "mint_auth.get_credit_score()\n",
        "# Retrieves billing information \n",
        "mint_auth.get_bills()\n",
        "# Retrieves investment information as JSON \n",
        "mint_auth.get_invests_json()"
      ],
      "metadata": {
        "id": "lzK1crCBeJHf"
      },
      "execution_count": 3,
      "outputs": []
    },
    {
      "cell_type": "markdown",
      "source": [
        "# Transform\n"
      ],
      "metadata": {
        "id": "J3v4qz2heNFv"
      }
    },
    {
      "cell_type": "code",
      "source": [
        "# Get mint transactions as a dataframe. \n",
        "mint = mint_auth.get_transactions(include_investment=True)\n",
        "# Close webdriver connection. \n",
        "mint_auth.close()\n",
        "# Clean dataframe, format columns & add features. \n",
        "mint_df = pd.DataFrame(mint)\n",
        "mint_df = mint_df.drop('labels', axis=1) \n",
        "mint_df = mint_df.drop('notes', axis=1)\n",
        "mint_df['description'] = mint_df['description'].str.title()\n",
        "mint_df['original_description'] = mint_df['original_description'].str.title()\n",
        "mint_df['transaction_type'] =mint_df['transaction_type'].str.title()\n",
        "mint_df['category'] = mint_df['category'].str.title()\n",
        "mint_df['paycheck_amount_remaining_week'] = round(**** - mint_df['amount'],2)\n",
        "mint_df['paycheck_amount_remaining_month'] = round(**** - mint_df['amount'],2)\n",
        "mint_df['discretionary_remaining_month'] = round(**** - mint_df['amount'],2)\n",
        "mint_df['discretionary_remaining_year'] = round(***** - mint_df['amount'],2)\n",
        "mint_df "
      ],
      "metadata": {
        "id": "_-oZbk0meHQc"
      },
      "execution_count": 4,
      "outputs": []
    },
    {
      "cell_type": "markdown",
      "source": [
        "# Load\n"
      ],
      "metadata": {
        "id": "KhffDmc3ePzU"
      }
    },
    {
      "cell_type": "code",
      "source": [
        "client = bigquery.Client()\n",
        "dataset_id = 'mint'\n",
        "table_id = 'transactions'\n",
        "dataset_ref = client.dataset(dataset_id)\n",
        "table_ref = dataset_ref.table(table_id)\n",
        "job_config = bigquery.LoadJobConfig()\n",
        "    job_config.write_disposition='WRITE_TRUNCATE'\n",
        "    job_config.source_format = bigquery.SourceFormat.CSV\n",
        "    job_config.autodetect=True\n",
        "    job_config.ignore_unknown_values=True\n",
        "job = client.load_table_from_dataframe(\n",
        "    mint_df,\n",
        "    table_ref,\n",
        "    location='US',\n",
        "    job_config=job_config)\n",
        "    \n",
        "job.result()\n",
        "return 'Transactions table loaded.'"
      ],
      "metadata": {
        "id": "ON_qoa8EeOq-"
      },
      "execution_count": 5,
      "outputs": []
    }
  ]
}