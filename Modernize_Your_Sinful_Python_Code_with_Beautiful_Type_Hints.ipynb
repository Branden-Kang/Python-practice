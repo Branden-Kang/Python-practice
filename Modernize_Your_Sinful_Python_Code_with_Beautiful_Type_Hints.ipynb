{
  "nbformat": 4,
  "nbformat_minor": 0,
  "metadata": {
    "colab": {
      "name": "Modernize Your Sinful Python Code with Beautiful Type Hints.ipynb",
      "provenance": [],
      "authorship_tag": "ABX9TyM7niPJv1yEsFkwH/k3mkKU"
    },
    "kernelspec": {
      "name": "python3",
      "display_name": "Python 3"
    },
    "language_info": {
      "name": "python"
    }
  },
  "cells": [
    {
      "cell_type": "markdown",
      "metadata": {
        "id": "YXP5MSzNILOI"
      },
      "source": [
        "[Reference](https://towardsdatascience.com/modernize-your-sinful-python-code-with-beautiful-type-hints-4e72e98f6bf1)"
      ]
    },
    {
      "cell_type": "code",
      "metadata": {
        "id": "LCOCxE9EH9rX"
      },
      "source": [
        "# Starts off being an integer\n",
        "my_variable = 5\n",
        "\n",
        "# It is now a Boolean value\n",
        "my_variable = True\n",
        "\n",
        "# And now it is a string\n",
        "my_variable = \"I am now a string!\""
      ],
      "execution_count": 1,
      "outputs": []
    },
    {
      "cell_type": "code",
      "metadata": {
        "id": "lvBjXu9TIQFB"
      },
      "source": [
        "# No type hints\n",
        "my_variable = 5\n",
        "\n",
        "# With type hints\n",
        "my_variable: int = 5"
      ],
      "execution_count": 2,
      "outputs": []
    },
    {
      "cell_type": "code",
      "metadata": {
        "id": "5jHSTBgoISef"
      },
      "source": [
        "# Type hints with strings\n",
        "model: str = \"BMW\"\n",
        "\n",
        "# Type hints with floats\n",
        "miles_driven: float = 11.5\n",
        "\n",
        "# Type hints with Boolean values\n",
        "electric: bool = False"
      ],
      "execution_count": 3,
      "outputs": []
    },
    {
      "cell_type": "code",
      "metadata": {
        "id": "WMo6BrVsIVBa"
      },
      "source": [
        "# A wrong type hint\n",
        "this_is_wrong: str = 5"
      ],
      "execution_count": 4,
      "outputs": []
    },
    {
      "cell_type": "code",
      "metadata": {
        "colab": {
          "base_uri": "https://localhost:8080/"
        },
        "id": "CC9prg2zIV7k",
        "outputId": "e2cf7903-a4fb-4657-d4a7-bafdedd363b9"
      },
      "source": [
        "pip install mypy"
      ],
      "execution_count": 5,
      "outputs": [
        {
          "output_type": "stream",
          "text": [
            "Collecting mypy\n",
            "  Downloading mypy-0.910-cp37-cp37m-manylinux2010_x86_64.whl (21.5 MB)\n",
            "\u001b[K     |████████████████████████████████| 21.5 MB 1.4 MB/s \n",
            "\u001b[?25hCollecting typed-ast<1.5.0,>=1.4.0\n",
            "  Downloading typed_ast-1.4.3-cp37-cp37m-manylinux1_x86_64.whl (743 kB)\n",
            "\u001b[K     |████████████████████████████████| 743 kB 47.4 MB/s \n",
            "\u001b[?25hCollecting mypy-extensions<0.5.0,>=0.4.3\n",
            "  Downloading mypy_extensions-0.4.3-py2.py3-none-any.whl (4.5 kB)\n",
            "Requirement already satisfied: toml in /usr/local/lib/python3.7/dist-packages (from mypy) (0.10.2)\n",
            "Requirement already satisfied: typing-extensions>=3.7.4 in /usr/local/lib/python3.7/dist-packages (from mypy) (3.7.4.3)\n",
            "Installing collected packages: typed-ast, mypy-extensions, mypy\n",
            "Successfully installed mypy-0.910 mypy-extensions-0.4.3 typed-ast-1.4.3\n"
          ],
          "name": "stdout"
        }
      ]
    },
    {
      "cell_type": "code",
      "metadata": {
        "id": "4R4novtjIW8d"
      },
      "source": [
        "# A simple type hint\n",
        "my_variable: int = 5"
      ],
      "execution_count": 6,
      "outputs": []
    },
    {
      "cell_type": "code",
      "metadata": {
        "id": "0GTu2udkIX__"
      },
      "source": [
        "# A simple type hint\n",
        "my_variable: int = 5\n",
        "\n",
        "# Breaking the type hint\n",
        "my_variable = \"This should not be allowed!\""
      ],
      "execution_count": 7,
      "outputs": []
    },
    {
      "cell_type": "code",
      "metadata": {
        "id": "MKedmLIRIcAW"
      },
      "source": [
        "def both_divisible_by_two(a, b):\n",
        "  \"\"\"Checks whether both inputs are divisible by two.\"\"\"\n",
        "  return (a % 2 == 0 and b % 2 == 0)"
      ],
      "execution_count": 8,
      "outputs": []
    },
    {
      "cell_type": "code",
      "metadata": {
        "id": "K3DvR3FoIeiE"
      },
      "source": [
        "def both_divisible_by_two(a: int, b: int) -> bool:\n",
        "  \"\"\"Checks whether both inputs are divisible by two.\"\"\"\n",
        "  return (a % 2 == 0 and b % 2 == 0)"
      ],
      "execution_count": 9,
      "outputs": []
    }
  ]
}