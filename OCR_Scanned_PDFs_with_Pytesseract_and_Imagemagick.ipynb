{
  "nbformat": 4,
  "nbformat_minor": 0,
  "metadata": {
    "colab": {
      "provenance": [],
      "authorship_tag": "ABX9TyMDibLIZLpBlEEtx0UADoDR"
    },
    "kernelspec": {
      "name": "python3",
      "display_name": "Python 3"
    },
    "language_info": {
      "name": "python"
    }
  },
  "cells": [
    {
      "cell_type": "markdown",
      "source": [
        "[Reference](https://python.plainenglish.io/big-ocr-scanned-pdfs-with-pytesseract-and-imagemagick-d989d838cd02)"
      ],
      "metadata": {
        "id": "BBvJD8FrHkhk"
      }
    },
    {
      "cell_type": "code",
      "execution_count": 1,
      "metadata": {
        "id": "L-X9v-XjHQIy"
      },
      "outputs": [],
      "source": [
        "pip install pytesseract"
      ]
    },
    {
      "cell_type": "code",
      "source": [
        "import pytesseract\n",
        "from PIL import Image\n",
        "import os\n",
        "import sys\n",
        "from wand.image import Image as WandImage\n",
        "\n",
        "input_file = sys.argv[1]\n",
        "output_file = sys.argv[2]\n",
        "\n",
        "# Convert PDF to image files\n",
        "with WandImage(filename=input_file, resolution=300) as img:\n",
        "    img.compression_quality = 99\n",
        "    img.save(filename='temp_images/page.jpg')\n",
        "\n",
        "# Perform OCR using Pytesseract\n",
        "text = ''\n",
        "for i, file in enumerate(sorted(os.listdir('temp_images'))):\n",
        "    with Image.open(f'temp_images/{file}') as img:\n",
        "        text += pytesseract.image_to_string(img)\n",
        "\n",
        "# Save the OCR text to a file\n",
        "with open(output_file, 'w', encoding='utf-8') as f:\n",
        "    f.write(text)\n",
        "\n",
        "# Clean up temporary images\n",
        "for file in os.listdir('temp_images'):\n",
        "    os.remove(f'temp_images/{file}')"
      ],
      "metadata": {
        "id": "heWBBYT0HsEf"
      },
      "execution_count": 2,
      "outputs": []
    }
  ]
}