{
  "nbformat": 4,
  "nbformat_minor": 0,
  "metadata": {
    "colab": {
      "name": "FastAPIs With Python.ipynb",
      "provenance": [],
      "authorship_tag": "ABX9TyPRVzdpz+w2zDu9fjFyEc4f"
    },
    "kernelspec": {
      "name": "python3",
      "display_name": "Python 3"
    }
  },
  "cells": [
    {
      "cell_type": "markdown",
      "metadata": {
        "id": "-XEKV1cGuxLO"
      },
      "source": [
        "[Reference](https://medium.com/python-in-plain-english/build-better-apis-with-python-5b82fabcf8b3)\n",
        "\n",
        "There are four features for FastAPI:\n",
        "- Native async support\n",
        "- Superfast speeds\n",
        "- Incredible ease of use\n",
        "- Automated documentation"
      ]
    },
    {
      "cell_type": "code",
      "metadata": {
        "colab": {
          "base_uri": "https://localhost:8080/"
        },
        "id": "8WyrjUkruXyY",
        "outputId": "195fb3dc-381d-4a9f-e136-988305cb0e01"
      },
      "source": [
        "!pip install fastapi\n",
        "from fastapi import FastAPI\n",
        "\n",
        "app = FastAPI()"
      ],
      "execution_count": 2,
      "outputs": [
        {
          "output_type": "stream",
          "text": [
            "Collecting fastapi\n",
            "\u001b[?25l  Downloading https://files.pythonhosted.org/packages/09/9b/e45a36554f7452f6d372e607a647c3827434f5b353ef4630a7432514c928/fastapi-0.62.0-py3-none-any.whl (49kB)\n",
            "\u001b[K     |████████████████████████████████| 51kB 2.6MB/s \n",
            "\u001b[?25hCollecting pydantic<2.0.0,>=1.0.0\n",
            "\u001b[?25l  Downloading https://files.pythonhosted.org/packages/52/ea/fae9f69b6e56407961318e8c73e203097a97c7bd71b30bf1b4f5eb448f28/pydantic-1.7.3-cp36-cp36m-manylinux2014_x86_64.whl (9.2MB)\n",
            "\u001b[K     |████████████████████████████████| 9.2MB 5.6MB/s \n",
            "\u001b[?25hCollecting starlette==0.13.6\n",
            "\u001b[?25l  Downloading https://files.pythonhosted.org/packages/c5/a4/c9e228d7d47044ce4c83ba002f28ff479e542455f0499198a3f77c94f564/starlette-0.13.6-py3-none-any.whl (59kB)\n",
            "\u001b[K     |████████████████████████████████| 61kB 6.4MB/s \n",
            "\u001b[?25hRequirement already satisfied: dataclasses>=0.6; python_version < \"3.7\" in /usr/local/lib/python3.6/dist-packages (from pydantic<2.0.0,>=1.0.0->fastapi) (0.8)\n",
            "Installing collected packages: pydantic, starlette, fastapi\n",
            "Successfully installed fastapi-0.62.0 pydantic-1.7.3 starlette-0.13.6\n"
          ],
          "name": "stdout"
        }
      ]
    },
    {
      "cell_type": "code",
      "metadata": {
        "id": "Zk27Ele8u66e"
      },
      "source": [
        "DATA = {\n",
        "    'places':\n",
        "        ['rome',\n",
        "         'london',\n",
        "         'new york city',\n",
        "         'los angeles',\n",
        "         'brisbane',\n",
        "         'new delhi',\n",
        "         'beijing',\n",
        "         'paris',\n",
        "         'berlin',\n",
        "         'barcelona']\n",
        "}"
      ],
      "execution_count": 3,
      "outputs": []
    },
    {
      "cell_type": "code",
      "metadata": {
        "id": "2NgJ9nTmvCic"
      },
      "source": [
        "@app.get(\"/places\")\n",
        "async def get_places():\n",
        "    return {'data': DATA}, 200"
      ],
      "execution_count": 4,
      "outputs": []
    },
    {
      "cell_type": "code",
      "metadata": {
        "colab": {
          "base_uri": "https://localhost:8080/"
        },
        "id": "M0sV2mJLvE-i",
        "outputId": "a7ab7c7f-673c-4bac-80f0-13cbb88bc621"
      },
      "source": [
        "!pip install uvicorn"
      ],
      "execution_count": 5,
      "outputs": [
        {
          "output_type": "stream",
          "text": [
            "Collecting uvicorn\n",
            "\u001b[?25l  Downloading https://files.pythonhosted.org/packages/09/57/7089ac75bc304bd1b237c6cb271ff0cbad621f40f44a7e5bdb56f0ab5290/uvicorn-0.12.3-py3-none-any.whl (45kB)\n",
            "\u001b[K     |████████████████████████████████| 51kB 2.6MB/s \n",
            "\u001b[?25hRequirement already satisfied: click==7.* in /usr/local/lib/python3.6/dist-packages (from uvicorn) (7.1.2)\n",
            "Requirement already satisfied: typing-extensions; python_version < \"3.8\" in /usr/local/lib/python3.6/dist-packages (from uvicorn) (3.7.4.3)\n",
            "Collecting h11>=0.8\n",
            "\u001b[?25l  Downloading https://files.pythonhosted.org/packages/b2/79/9c5f5cd738ec2a9b26453b3093915c0999f24454e2773921025c03b5509e/h11-0.11.0-py2.py3-none-any.whl (54kB)\n",
            "\u001b[K     |████████████████████████████████| 61kB 4.2MB/s \n",
            "\u001b[?25hInstalling collected packages: h11, uvicorn\n",
            "Successfully installed h11-0.11.0 uvicorn-0.12.3\n"
          ],
          "name": "stdout"
        }
      ]
    },
    {
      "cell_type": "code",
      "metadata": {
        "id": "W4gLAdKSvPWf"
      },
      "source": [
        "!uvicorn main:app --reload"
      ],
      "execution_count": 8,
      "outputs": []
    },
    {
      "cell_type": "code",
      "metadata": {
        "id": "AGh7AUvRvoNP"
      },
      "source": [
        "@app.post(\"/places\")\n",
        "async def post_place(item: PlacesItem):\n",
        "    if item.location in DATA['places']:\n",
        "        # if place is already present, we don't append to DATA\n",
        "        # so just return response with message saying already exists\n",
        "        return {'data': DATA,\n",
        "                'message': 'location already exists'}\n",
        "    else:\n",
        "        # if it is not present, append to places\n",
        "        DATA['places'].append(item.location)\n",
        "        # return response\n",
        "        return {'data': DATA,\n",
        "                'message': 'location added'}"
      ],
      "execution_count": 10,
      "outputs": []
    },
    {
      "cell_type": "code",
      "metadata": {
        "id": "DxTKSTBVvpdB"
      },
      "source": [
        "@app.delete(\"/places\")\n",
        "async def delete_place(item: PlacesItem):\n",
        "    if item.location in DATA['places']:\n",
        "        # if place is present, delete it\n",
        "        DATA['places'].remove(item.location)\n",
        "        # return response confirming deletion\n",
        "        return {'data': DATA,\n",
        "                'message': 'location deleted'}\n",
        "    else:\n",
        "        # if it is not present, just return response\n",
        "        return {'data': DATA,\n",
        "                'message': 'location does not exist'}"
      ],
      "execution_count": 11,
      "outputs": []
    }
  ]
}