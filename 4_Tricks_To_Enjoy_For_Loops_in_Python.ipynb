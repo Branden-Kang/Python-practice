{
  "nbformat": 4,
  "nbformat_minor": 0,
  "metadata": {
    "colab": {
      "provenance": [],
      "authorship_tag": "ABX9TyO/btDMneWyN43biaZGNtaN"
    },
    "kernelspec": {
      "name": "python3",
      "display_name": "Python 3"
    },
    "language_info": {
      "name": "python"
    }
  },
  "cells": [
    {
      "cell_type": "markdown",
      "source": [
        "[Reference](https://blog.devgenius.io/4-tricks-to-enjoy-for-loops-in-python-b341c7314942)"
      ],
      "metadata": {
        "id": "5lenglyRM_4X"
      }
    },
    {
      "cell_type": "markdown",
      "source": [
        "# enumerate"
      ],
      "metadata": {
        "id": "DkMVKs_oNwg7"
      }
    },
    {
      "cell_type": "code",
      "execution_count": 1,
      "metadata": {
        "colab": {
          "base_uri": "https://localhost:8080/"
        },
        "id": "7h-b3hZoM8lp",
        "outputId": "9e515a3b-4c85-4abe-8a9d-19ceeaa34230"
      },
      "outputs": [
        {
          "output_type": "stream",
          "name": "stdout",
          "text": [
            "1\n",
            "4\n",
            "5\n",
            "3\n",
            "4\n",
            "2\n",
            "0\n"
          ]
        }
      ],
      "source": [
        "a = [1, 4, 5, 3, 4, 2, 0]\n",
        "for i in range(len(a)):\n",
        "    item = a[i]\n",
        "    print(item)"
      ]
    },
    {
      "cell_type": "code",
      "source": [
        "a = [1, 4, 5, 3, 4, 2, 0]\n",
        "for i, item in enumerate(a):\n",
        "    print(i, item)"
      ],
      "metadata": {
        "colab": {
          "base_uri": "https://localhost:8080/"
        },
        "id": "wNYUvc7ONInu",
        "outputId": "3c576b35-f1d8-4cf2-e594-725ce0196f5a"
      },
      "execution_count": 2,
      "outputs": [
        {
          "output_type": "stream",
          "name": "stdout",
          "text": [
            "0 1\n",
            "1 4\n",
            "2 5\n",
            "3 3\n",
            "4 4\n",
            "5 2\n",
            "6 0\n"
          ]
        }
      ]
    },
    {
      "cell_type": "markdown",
      "source": [
        "# zip"
      ],
      "metadata": {
        "id": "cJFFWINRN-ng"
      }
    },
    {
      "cell_type": "code",
      "source": [
        "a = [\"Banana\", \"Strawberry\", \"Orange\", \"Apple\"]\n",
        "b = [\"Yellow\", \"Red\", \"Orange\", \"Green\"]\n",
        "for i in range(len(a)):\n",
        "    fruit = a[i]\n",
        "    color = b[i]"
      ],
      "metadata": {
        "id": "UQW64cptNQtu"
      },
      "execution_count": 3,
      "outputs": []
    },
    {
      "cell_type": "code",
      "source": [
        "a = [\"Banana\", \"Strawberry\", \"Orange\", \"Apple\"]\n",
        "b = [\"Yellow\", \"Red\", \"Orange\", \"Green\"]\n",
        "for fruit, color in zip(a,b):\n",
        "    print(fruit, color)"
      ],
      "metadata": {
        "colab": {
          "base_uri": "https://localhost:8080/"
        },
        "id": "AlLsA1nMNuvP",
        "outputId": "495c197a-4b13-4a22-bd10-90f508a487e1"
      },
      "execution_count": 4,
      "outputs": [
        {
          "output_type": "stream",
          "name": "stdout",
          "text": [
            "Banana Yellow\n",
            "Strawberry Red\n",
            "Orange Orange\n",
            "Apple Green\n"
          ]
        }
      ]
    },
    {
      "cell_type": "markdown",
      "source": [
        "# tqdm"
      ],
      "metadata": {
        "id": "iJL3RLN7OADk"
      }
    },
    {
      "cell_type": "code",
      "source": [
        "from tqdm import tqdm\n",
        "for item in tqdm(range(10 ** 9)):\n",
        "    pass"
      ],
      "metadata": {
        "colab": {
          "base_uri": "https://localhost:8080/"
        },
        "id": "33BRuKvLN88-",
        "outputId": "b5139c8c-b243-480f-9d2c-276ebf020150"
      },
      "execution_count": 5,
      "outputs": [
        {
          "output_type": "stream",
          "name": "stderr",
          "text": [
            "100%|██████████| 1000000000/1000000000 [04:29<00:00, 3709775.21it/s]\n"
          ]
        }
      ]
    },
    {
      "cell_type": "markdown",
      "source": [
        "# Sorted/Reversed"
      ],
      "metadata": {
        "id": "fkZqKDBFOHw2"
      }
    },
    {
      "cell_type": "code",
      "source": [
        "dict_ = {\"a\": 0, \"c\": 2, \"b\": 1}\n",
        "for k in sorted(dict_):\n",
        "    print(k)\n",
        "\n",
        "for k in reversed(dict_):\n",
        "    print(k)"
      ],
      "metadata": {
        "colab": {
          "base_uri": "https://localhost:8080/"
        },
        "id": "FkOe4HN0OGfW",
        "outputId": "6bced310-39f5-4d37-8057-6d3d1e8ae485"
      },
      "execution_count": 6,
      "outputs": [
        {
          "output_type": "stream",
          "name": "stdout",
          "text": [
            "a\n",
            "b\n",
            "c\n",
            "b\n",
            "c\n",
            "a\n"
          ]
        }
      ]
    }
  ]
}