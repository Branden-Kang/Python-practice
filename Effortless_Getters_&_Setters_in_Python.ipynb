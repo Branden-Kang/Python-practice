{
  "nbformat": 4,
  "nbformat_minor": 0,
  "metadata": {
    "colab": {
      "provenance": [],
      "authorship_tag": "ABX9TyNtWMgRTwu+tkJWgY7Z3Q0T"
    },
    "kernelspec": {
      "name": "python3",
      "display_name": "Python 3"
    },
    "language_info": {
      "name": "python"
    }
  },
  "cells": [
    {
      "cell_type": "markdown",
      "source": [
        "[Reference](https://python.plainenglish.io/effortless-getters-setters-in-python-74ac1f4910d6)"
      ],
      "metadata": {
        "id": "U4knqG43LOY8"
      }
    },
    {
      "cell_type": "code",
      "execution_count": 1,
      "metadata": {
        "colab": {
          "base_uri": "https://localhost:8080/"
        },
        "id": "ge5oRSmZLNHk",
        "outputId": "b692da5d-e51b-4ae1-b81f-bceb0ee75d97"
      },
      "outputs": [
        {
          "output_type": "stream",
          "name": "stdout",
          "text": [
            "Apple\n"
          ]
        }
      ],
      "source": [
        "class Fruit:\n",
        "  def __init__(self, name: str):\n",
        "    self._name = name\n",
        "\n",
        "if __name__ == \"__main__\":\n",
        "    fruit = Fruit('Apple')\n",
        "    print(fruit._name)"
      ]
    },
    {
      "cell_type": "code",
      "source": [
        "class Fruit:\n",
        "    def __init__(self, name: str):\n",
        "        self._name = name\n",
        "\n",
        "    def get_name(self):\n",
        "        print('Getting name..')\n",
        "        return self._name\n",
        "\n",
        "    def set_name(self, new_name: str):\n",
        "        self._name = new_name\n",
        "\n",
        "if __name__ == \"__main__\":\n",
        "    fruit = Fruit('Banana')\n",
        "    fruit.set_name('Orange')\n",
        "    print(fruit.get_name())"
      ],
      "metadata": {
        "colab": {
          "base_uri": "https://localhost:8080/"
        },
        "id": "kMpiJrpBLS70",
        "outputId": "1fca0afe-230c-4ec3-d93b-c8c72b90e154"
      },
      "execution_count": 2,
      "outputs": [
        {
          "output_type": "stream",
          "name": "stdout",
          "text": [
            "Getting name..\n",
            "Orange\n"
          ]
        }
      ]
    },
    {
      "cell_type": "code",
      "source": [
        "class Fruit:\n",
        "  def __init__(self, name: str):\n",
        "    self._name = name\n",
        "\n",
        "  @property\n",
        "  def fruit_name(self):\n",
        "    print(f'\"{self._name}\" was accessed')\n",
        "    return self._name\n",
        "\n",
        "  @fruit_name.setter\n",
        "  def fruit_name(self, value):\n",
        "    print(f'{self._name} is now \"{value}\"')\n",
        "    self._name = value\n",
        "\n",
        "  @fruit_name.deleter\n",
        "  def fruit_name(self):\n",
        "    print(f'\"{self._name}\" was deleted')\n",
        "\n",
        "if __name__ == \"__main__\":\n",
        "  fruit = Fruit('Apple')\n",
        "\n",
        "  print(fruit.fruit_name)\n",
        "  fruit.fruit_name = 'orange'"
      ],
      "metadata": {
        "colab": {
          "base_uri": "https://localhost:8080/"
        },
        "id": "D2fkRCgHLb0t",
        "outputId": "3a7d24e2-ccd0-4019-a25a-16b371c5e68d"
      },
      "execution_count": 4,
      "outputs": [
        {
          "output_type": "stream",
          "name": "stdout",
          "text": [
            "\"Apple\" was accessed\n",
            "Apple\n",
            "Apple is now \"orange\"\n"
          ]
        }
      ]
    }
  ]
}