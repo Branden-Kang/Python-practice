{
  "nbformat": 4,
  "nbformat_minor": 0,
  "metadata": {
    "colab": {
      "name": "Python: Constructed Event Flow Functions.ipynb",
      "provenance": [],
      "authorship_tag": "ABX9TyPPtKupz2IoPyUHzaZCBCN0"
    },
    "kernelspec": {
      "name": "python3",
      "display_name": "Python 3"
    }
  },
  "cells": [
    {
      "cell_type": "markdown",
      "metadata": {
        "id": "wF8b1r5C2zQG"
      },
      "source": [
        "[Reference](https://medium.com/python-in-plain-english/python-constructed-event-flow-functions-d21019bb6690)"
      ]
    },
    {
      "cell_type": "code",
      "metadata": {
        "colab": {
          "base_uri": "https://localhost:8080/"
        },
        "id": "UbMufJu92fYk",
        "outputId": "c15b469b-7423-4a1a-c1d5-d38c6d1b819a"
      },
      "source": [
        "events = [\n",
        "    {\"monkey\": \"Sam\",   \"state\": \"hungry\",      \"kind\": \"banana\"    },\n",
        "    {\"monkey\": \"Chet\",  \"state\": \"flinging\",    \"kind\": \"grass\"     },\n",
        "    {\"monkey\": \"Sam\",   \"state\": \"flinging\",    \"kind\": \"grass\"     },\n",
        "    {\"monkey\": \"Sam\",   \"state\": \"hungry\",      \"kind\": \"banana\"    },\n",
        "    {\"monkey\": \"Chet\",  \"state\": \"hungry\",      \"kind\": \"banana\"    },\n",
        "    {\"monkey\": \"Chet\",  \"state\": \"flinging\",    \"kind\": \"feces\"     },\n",
        "    {\"monkey\": \"Sam\",   \"state\": \"flinging\",    \"kind\": \"grass\"     },\n",
        "    {\"monkey\": \"Sam\",   \"state\": \"hungry\",      \"kind\": \"apple\"     },\n",
        "]\n",
        "\n",
        "def do_monkey_flinging(event):\n",
        "    print(f\"{event['monkey']}:\\tdo_monkey_flinging\")\n",
        "\n",
        "def do_monkey_hungry_apple(event):\n",
        "    print(f\"{event['monkey']}:\\tdo_monkey_hungry_apple\")\n",
        "\n",
        "def do_monkey_hungry_banana(event):\n",
        "    print(f\"{event['monkey']}:\\tdo_monkey_hungry_banana\")\n",
        "\n",
        "def dispatch_event(event):\n",
        "    if event[\"state\"] == \"hungry\":\n",
        "        if event[\"kind\"] == \"banana\":\n",
        "            do_monkey_hungry_banana(event)\n",
        "        if event[\"kind\"] == \"apple\":\n",
        "            do_monkey_hungry_apple(event)\n",
        "    elif event[\"state\"] == \"flinging\":\n",
        "        do_monkey_flinging(event)\n",
        "\n",
        "for event in events:\n",
        "    dispatch_event(event)"
      ],
      "execution_count": 1,
      "outputs": [
        {
          "output_type": "stream",
          "text": [
            "Sam:\tdo_monkey_hungry_banana\n",
            "Chet:\tdo_monkey_flinging\n",
            "Sam:\tdo_monkey_flinging\n",
            "Sam:\tdo_monkey_hungry_banana\n",
            "Chet:\tdo_monkey_hungry_banana\n",
            "Chet:\tdo_monkey_flinging\n",
            "Sam:\tdo_monkey_flinging\n",
            "Sam:\tdo_monkey_hungry_apple\n"
          ],
          "name": "stdout"
        }
      ]
    },
    {
      "cell_type": "code",
      "metadata": {
        "colab": {
          "base_uri": "https://localhost:8080/"
        },
        "id": "3UVN5JBX3VSu",
        "outputId": "31c55cb8-50d1-49d0-d418-4f92c1ad017a"
      },
      "source": [
        "from collections import Counter\n",
        "\n",
        "events = [\n",
        "    {\"monkey\": \"Sam\",   \"state\": \"hungry\",      \"kind\": \"banana\"    },\n",
        "    {\"monkey\": \"Chet\",  \"state\": \"flinging\",    \"kind\": \"grass\"     },\n",
        "    {\"monkey\": \"Sam\",   \"state\": \"flinging\",    \"kind\": \"grass\"     },\n",
        "    {\"monkey\": \"Sam\",   \"state\": \"hungry\",      \"kind\": \"banana\"    },\n",
        "    {\"monkey\": \"Chet\",  \"state\": \"hungry\",      \"kind\": \"banana\"    },\n",
        "    {\"monkey\": \"Chet\",  \"state\": \"flinging\",    \"kind\": \"feces\"     },\n",
        "    {\"monkey\": \"Sam\",   \"state\": \"flinging\",    \"kind\": \"grass\"     },\n",
        "    {\"monkey\": \"Sam\",   \"state\": \"hungry\",      \"kind\": \"apple\"     },\n",
        "]\n",
        "\n",
        "event_counters = {}\n",
        "\n",
        "def do_monkey_flinging(event):\n",
        "    print(f\"{event['monkey']}:\\tdo_monkey_flinging\")\n",
        "\n",
        "def do_monkey_hungry_apple(event):\n",
        "    print(f\"{event['monkey']}:\\tdo_monkey_hungry_apple\")\n",
        "\n",
        "def do_monkey_hungry_banana(event):\n",
        "    if event['_count'] == 1:\n",
        "        print(f\"{event['monkey']}:\\tdo_monkey_hungry_banana\")\n",
        "    else:\n",
        "        print(f\"{event['monkey']}:\\tdont_do_monkey_hungry_banana\")\n",
        "\n",
        "def dispatch_event(event):\n",
        "\n",
        "    # Make sure each monkey has their own event counter\n",
        "    event_counters.setdefault(event[\"monkey\"], Counter())\n",
        "\n",
        "    event_counter = event_counters[event[\"monkey\"]]\n",
        "\n",
        "    # Compose an event name based on the state and kind values of the event\n",
        "    event_name = f\"{event['state']}_{event['kind']}\"\n",
        "\n",
        "    event_counter.update([event_name])\n",
        "    event_count = event_counter[event_name]\n",
        "\n",
        "    event['_count'] = event_count\n",
        "\n",
        "    if event[\"state\"] == \"hungry\":\n",
        "        if event[\"kind\"] == \"banana\":\n",
        "            do_monkey_hungry_banana(event)\n",
        "        if event[\"kind\"] == \"apple\":\n",
        "            do_monkey_hungry_apple(event)\n",
        "    elif event[\"state\"] == \"flinging\":\n",
        "        do_monkey_flinging(event)\n",
        "\n",
        "for event in events:\n",
        "    dispatch_event(event)"
      ],
      "execution_count": 2,
      "outputs": [
        {
          "output_type": "stream",
          "text": [
            "Sam:\tdo_monkey_hungry_banana\n",
            "Chet:\tdo_monkey_flinging\n",
            "Sam:\tdo_monkey_flinging\n",
            "Sam:\tdont_do_monkey_hungry_banana\n",
            "Chet:\tdo_monkey_hungry_banana\n",
            "Chet:\tdo_monkey_flinging\n",
            "Sam:\tdo_monkey_flinging\n",
            "Sam:\tdo_monkey_hungry_apple\n"
          ],
          "name": "stdout"
        }
      ]
    },
    {
      "cell_type": "code",
      "metadata": {
        "colab": {
          "base_uri": "https://localhost:8080/"
        },
        "id": "X1Tl4jDn3dMP",
        "outputId": "16d57389-5dca-4139-ee73-6c7485ffb926"
      },
      "source": [
        "import sys\n",
        "from collections import Counter\n",
        "\n",
        "root = sys.modules[__name__]\n",
        "\n",
        "events = [\n",
        "    {\"monkey\": \"Sam\",   \"state\": \"hungry\",      \"kind\": \"banana\"    },\n",
        "    {\"monkey\": \"Chet\",  \"state\": \"flinging\",    \"kind\": \"grass\"     },\n",
        "    {\"monkey\": \"Sam\",   \"state\": \"flinging\",    \"kind\": \"grass\"     },\n",
        "    {\"monkey\": \"Sam\",   \"state\": \"hungry\",      \"kind\": \"banana\"    },\n",
        "    {\"monkey\": \"Chet\",  \"state\": \"hungry\",      \"kind\": \"banana\"    },\n",
        "    {\"monkey\": \"Chet\",  \"state\": \"flinging\",    \"kind\": \"feces\"     },\n",
        "    {\"monkey\": \"Sam\",   \"state\": \"flinging\",    \"kind\": \"grass\"     },\n",
        "    {\"monkey\": \"Sam\",   \"state\": \"hungry\",      \"kind\": \"apple\"     },\n",
        "]\n",
        "\n",
        "event_counters = {}\n",
        "\n",
        "def do_monkey_flinging(event):\n",
        "    print(f\"{event['monkey']}:\\tdo_monkey_flinging\")\n",
        "\n",
        "def do_monkey_hungry_apple(event):\n",
        "    print(f\"{event['monkey']}:\\tdo_monkey_hungry_apple\")\n",
        "\n",
        "def do_monkey_hungry_banana_1(event):\n",
        "    print(f\"{event['monkey']}:\\tdo_monkey_hungry_banana_1\")\n",
        "\n",
        "def dispatch_event(event):\n",
        "\n",
        "    # Make sure each monkey has their own event counter\n",
        "    event_counters.setdefault(event[\"monkey\"], Counter())\n",
        "\n",
        "    event_counter = event_counters[event[\"monkey\"]]\n",
        "\n",
        "    # Compose an event name based on the state and kind values of the event\n",
        "    event_name = f\"{event['state']}_{event['kind']}\"\n",
        "\n",
        "    # Update counter\n",
        "    event_counter.update([event_name])\n",
        "    event_count = event_counter[event_name]\n",
        "\n",
        "    # Pass along a useful tidbit if needed\n",
        "    event['_count'] = event_count\n",
        "\n",
        "    callback = None\n",
        "\n",
        "    callback = getattr(root, f\"do_monkey_{event['state']}\", callback)\n",
        "    callback = getattr(root, f\"do_monkey_{event['state']}_{event['kind']}\", callback)\n",
        "    callback = getattr(root, f\"do_monkey_{event['state']}_{event['kind']}_{event_count}\", callback)\n",
        "\n",
        "    if callback:\n",
        "        callback(event)\n",
        "\n",
        "for event in events:\n",
        "    dispatch_event(event)"
      ],
      "execution_count": 4,
      "outputs": [
        {
          "output_type": "stream",
          "text": [
            "Sam:\tdo_monkey_hungry_banana_1\n",
            "Chet:\tdo_monkey_flinging\n",
            "Sam:\tdo_monkey_flinging\n",
            "Sam:\tdont_do_monkey_hungry_banana\n",
            "Chet:\tdo_monkey_hungry_banana_1\n",
            "Chet:\tdo_monkey_flinging\n",
            "Sam:\tdo_monkey_flinging\n",
            "Sam:\tdo_monkey_hungry_apple\n"
          ],
          "name": "stdout"
        }
      ]
    },
    {
      "cell_type": "code",
      "metadata": {
        "colab": {
          "base_uri": "https://localhost:8080/"
        },
        "id": "sn7gL6N63hIE",
        "outputId": "c2f9e1b7-dba4-468f-99f7-1f86d2d34371"
      },
      "source": [
        "import sys\n",
        "from collections import Counter\n",
        "\n",
        "import inflect\n",
        "\n",
        "root = sys.modules[__name__]\n",
        "\n",
        "inflector = inflect.engine()\n",
        "\n",
        "events = [\n",
        "    {\"monkey\": \"Sam\",   \"state\": \"hungry\",      \"kind\": \"banana\"    },\n",
        "    {\"monkey\": \"Chet\",  \"state\": \"flinging\",    \"kind\": \"grass\"     },\n",
        "    {\"monkey\": \"Sam\",   \"state\": \"flinging\",    \"kind\": \"grass\"     },\n",
        "    {\"monkey\": \"Sam\",   \"state\": \"hungry\",      \"kind\": \"banana\"    },\n",
        "    {\"monkey\": \"Chet\",  \"state\": \"hungry\",      \"kind\": \"banana\"    },\n",
        "    {\"monkey\": \"Chet\",  \"state\": \"flinging\",    \"kind\": \"feces\"     },\n",
        "    {\"monkey\": \"Sam\",   \"state\": \"flinging\",    \"kind\": \"grass\"     },\n",
        "    {\"monkey\": \"Sam\",   \"state\": \"hungry\",      \"kind\": \"apple\"     },\n",
        "]\n",
        "\n",
        "event_counters = {}\n",
        "\n",
        "def do_monkey_flinging(event):\n",
        "    print(f\"{event['monkey']}:\\tdo_monkey_flinging\")\n",
        "\n",
        "def do_monkey_hungry_apple(event):\n",
        "    print(f\"{event['monkey']}:\\tdo_monkey_hungry_apple\")\n",
        "\n",
        "def do_monkey_hungry_banana_first(event):\n",
        "    print(f\"{event['monkey']}:\\tdo_monkey_hungry_banana_first\")\n",
        "\n",
        "def do_monkey_hungry_banana_second(event):\n",
        "    print(f\"{event['monkey']}:\\tdo_monkey_hungry_banana_second (oh no!)\")\n",
        "\n",
        "def dispatch_event(event):\n",
        "\n",
        "    # Make sure each monkey has their own event counter\n",
        "    event_counters.setdefault(event[\"monkey\"], Counter())\n",
        "\n",
        "    event_counter = event_counters[event[\"monkey\"]]\n",
        "\n",
        "    # Compose an event name based on the state and kind values of the event\n",
        "    event_name = f\"{event['state']}_{event['kind']}\"\n",
        "\n",
        "    # Update counter\n",
        "    event_counter.update([event_name])\n",
        "    event_count = event_counter[event_name]\n",
        "    event_count_words = inflector.number_to_words(inflector.ordinal(event_count)).replace(' ', '_')\n",
        "\n",
        "    # Pass along a useful tidbit if needed\n",
        "    event['_count'] = event_count\n",
        "\n",
        "    callback = None\n",
        "\n",
        "    callback = getattr(root, f\"do_monkey_{event['state']}\", callback)\n",
        "    callback = getattr(root, f\"do_monkey_{event['state']}_{event['kind']}\", callback)\n",
        "    callback = getattr(root, f\"do_monkey_{event['state']}_{event['kind']}_{event_count_words}\", callback)\n",
        "\n",
        "    if callback:\n",
        "        callback(event)\n",
        "\n",
        "for event in events:\n",
        "    dispatch_event(event)"
      ],
      "execution_count": 5,
      "outputs": [
        {
          "output_type": "stream",
          "text": [
            "Sam:\tdo_monkey_hungry_banana_first\n",
            "Chet:\tdo_monkey_flinging\n",
            "Sam:\tdo_monkey_flinging\n",
            "Sam:\tdo_monkey_hungry_banana_second (oh no!)\n",
            "Chet:\tdo_monkey_hungry_banana_first\n",
            "Chet:\tdo_monkey_flinging\n",
            "Sam:\tdo_monkey_flinging\n",
            "Sam:\tdo_monkey_hungry_apple\n"
          ],
          "name": "stdout"
        }
      ]
    }
  ]
}