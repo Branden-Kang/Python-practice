{
  "nbformat": 4,
  "nbformat_minor": 0,
  "metadata": {
    "colab": {
      "provenance": [],
      "authorship_tag": "ABX9TyONKdtGlgNtbOGo5Gob2mrf"
    },
    "kernelspec": {
      "name": "python3",
      "display_name": "Python 3"
    },
    "language_info": {
      "name": "python"
    }
  },
  "cells": [
    {
      "cell_type": "markdown",
      "source": [
        "[Reference](https://levelup.gitconnected.com/pydantic-super-simplified-data-validation-in-python-a760c02a8df8)"
      ],
      "metadata": {
        "id": "oyGqMWAyCfPu"
      }
    },
    {
      "cell_type": "code",
      "execution_count": null,
      "metadata": {
        "id": "EEpngARlCcgR"
      },
      "outputs": [],
      "source": [
        "pip install pydantic"
      ]
    },
    {
      "cell_type": "code",
      "source": [
        "from pydantic import BaseModel\n",
        "\n",
        "class Person(BaseModel):\n",
        "    name: str\n",
        "    age: int\n",
        "\n",
        "person_data = {\n",
        "    \"name\": \"John Doe\",\n",
        "    \"age\": 30\n",
        "}\n",
        "\n",
        "person = Person(**person_data)\n",
        "print(person)"
      ],
      "metadata": {
        "id": "oUUWQAOWChQc"
      },
      "execution_count": null,
      "outputs": []
    },
    {
      "cell_type": "code",
      "source": [
        "from pydantic import BaseModel\n",
        "\n",
        "class Person(BaseModel):\n",
        "    name: str\n",
        "    age: int\n",
        "    gender: str\n",
        "\n",
        "person_data = {\n",
        "    \"name\": \"John Doe\",\n",
        "    \"age\": 30,\n",
        "}\n",
        "\n",
        "person = Person(**person_data)\n",
        "print(person)"
      ],
      "metadata": {
        "id": "fYeVI7hQCiJS"
      },
      "execution_count": null,
      "outputs": []
    }
  ]
}