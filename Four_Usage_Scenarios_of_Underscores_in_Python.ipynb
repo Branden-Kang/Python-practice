{
  "nbformat": 4,
  "nbformat_minor": 0,
  "metadata": {
    "colab": {
      "name": "Four Usage Scenarios of Underscores in Python.ipynb",
      "provenance": [],
      "authorship_tag": "ABX9TyMjN+fZb+cQR6MhA4zVSm/n"
    },
    "kernelspec": {
      "name": "python3",
      "display_name": "Python 3"
    }
  },
  "cells": [
    {
      "cell_type": "code",
      "metadata": {
        "colab": {
          "base_uri": "https://localhost:8080/"
        },
        "id": "oIdOiWtwOjck",
        "outputId": "d069c8c6-ee49-4c24-989e-b1adab8f50b9"
      },
      "source": [
        "a = 1_000_000_000_000\n",
        "a"
      ],
      "execution_count": 1,
      "outputs": [
        {
          "output_type": "execute_result",
          "data": {
            "text/plain": [
              "1000000000000"
            ]
          },
          "metadata": {
            "tags": []
          },
          "execution_count": 1
        }
      ]
    },
    {
      "cell_type": "code",
      "metadata": {
        "colab": {
          "base_uri": "https://localhost:8080/"
        },
        "id": "p3IoI9jCOlwC",
        "outputId": "b8b874cf-35a0-4837-ef6c-d3d60e04bd16"
      },
      "source": [
        "L = [1,3,5,7]\n",
        "a, _, b, _ = L\n",
        "print(a, b)"
      ],
      "execution_count": 2,
      "outputs": [
        {
          "output_type": "stream",
          "text": [
            "1 5\n"
          ],
          "name": "stdout"
        }
      ]
    },
    {
      "cell_type": "code",
      "metadata": {
        "colab": {
          "base_uri": "https://localhost:8080/"
        },
        "id": "7nvou7gbOnmy",
        "outputId": "f9261dc1-c9d8-4cf1-d980-1d61d0f85bba"
      },
      "source": [
        "5+6"
      ],
      "execution_count": 3,
      "outputs": [
        {
          "output_type": "execute_result",
          "data": {
            "text/plain": [
              "11"
            ]
          },
          "metadata": {
            "tags": []
          },
          "execution_count": 3
        }
      ]
    },
    {
      "cell_type": "code",
      "metadata": {
        "colab": {
          "base_uri": "https://localhost:8080/"
        },
        "id": "NQlSJ3o_OseR",
        "outputId": "cb63a7e0-b28b-473f-8cef-032f9aa9ead2"
      },
      "source": [
        "_"
      ],
      "execution_count": 4,
      "outputs": [
        {
          "output_type": "execute_result",
          "data": {
            "text/plain": [
              "11"
            ]
          },
          "metadata": {
            "tags": []
          },
          "execution_count": 4
        }
      ]
    },
    {
      "cell_type": "code",
      "metadata": {
        "id": "Y3sdkI3KOs0K"
      },
      "source": [
        "first_name = 'Yang'"
      ],
      "execution_count": 5,
      "outputs": []
    },
    {
      "cell_type": "markdown",
      "metadata": {
        "id": "IXnopp0zQET2"
      },
      "source": [
        "Single/Double Leading Underscore\n",
        "\n",
        "In object-oriented programming, there are three types of class members:\n",
        "\n",
        "- Public: The public members of a class are accessible from any part of the program. In Python, all member variables and methods without leading underscores are public members by default.\n",
        "- Protected: The protected members are accessible in the same class or derived classes. We use a single leading underscore to define a variable as a protected member.\n",
        "- Private: The private members are accessible only in the same class. We use double leading underscores to define a variable as a private member."
      ]
    },
    {
      "cell_type": "code",
      "metadata": {
        "id": "vhdTkyhZPR70"
      },
      "source": [
        "class Student:\n",
        "    def __init__(self, name, age, grade):\n",
        "        self.name = name  # public member\n",
        "        self._age = age  # protected member\n",
        "        self.__grade = grade  # private member"
      ],
      "execution_count": 6,
      "outputs": []
    },
    {
      "cell_type": "code",
      "metadata": {
        "id": "2JIjZgXxPUzJ"
      },
      "source": [
        "list_ = [1,2,3] # good naming style"
      ],
      "execution_count": 7,
      "outputs": []
    },
    {
      "cell_type": "code",
      "metadata": {
        "id": "uNlkX8b_P8Vl"
      },
      "source": [
        "list = [2,3,4] # bad name; has ambiguity with Python keyword"
      ],
      "execution_count": 8,
      "outputs": []
    }
  ]
}