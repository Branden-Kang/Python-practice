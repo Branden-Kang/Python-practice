{
  "nbformat": 4,
  "nbformat_minor": 0,
  "metadata": {
    "colab": {
      "provenance": [],
      "authorship_tag": "ABX9TyPY+JnpJFn1fYIHROQurRpM"
    },
    "kernelspec": {
      "name": "python3",
      "display_name": "Python 3"
    },
    "language_info": {
      "name": "python"
    }
  },
  "cells": [
    {
      "cell_type": "markdown",
      "source": [
        "[Reference](https://allwin-raju.medium.com/understanding-the-property-decorator-in-python-1e5a7737b0fc)"
      ],
      "metadata": {
        "id": "l31r7l8C4ErB"
      }
    },
    {
      "cell_type": "code",
      "execution_count": 1,
      "metadata": {
        "colab": {
          "base_uri": "https://localhost:8080/"
        },
        "id": "wq1G4fZG4ATv",
        "outputId": "fbfec7c3-c67c-4133-c353-52d26125cda0"
      },
      "outputs": [
        {
          "output_type": "stream",
          "name": "stdout",
          "text": [
            "Alice\n",
            "Deleting name...\n"
          ]
        }
      ],
      "source": [
        "class Person:\n",
        "    def __init__(self, name):\n",
        "        self._name = name\n",
        "\n",
        "    @property\n",
        "    def name(self):\n",
        "        \"\"\"Getter method for name\"\"\"\n",
        "        return self._name\n",
        "\n",
        "    @name.setter\n",
        "    def name(self, value):\n",
        "        \"\"\"Setter method for name\"\"\"\n",
        "        if not isinstance(value, str):\n",
        "            raise ValueError(\"Name must be a string\")\n",
        "        self._name = value\n",
        "\n",
        "    @name.deleter\n",
        "    def name(self):\n",
        "        \"\"\"Deleter method for name\"\"\"\n",
        "        print(\"Deleting name...\")\n",
        "        del self._name\n",
        "\n",
        "# Usage\n",
        "p = Person(\"Alice\")\n",
        "print(p.name)   # Access like an attribute\n",
        "p.name = \"Bob\"  # Modify using the setter\n",
        "del p.name      # Delete using the deleter"
      ]
    }
  ]
}