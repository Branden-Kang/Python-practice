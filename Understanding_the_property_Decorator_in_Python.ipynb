{
  "nbformat": 4,
  "nbformat_minor": 0,
  "metadata": {
    "colab": {
      "provenance": [],
      "authorship_tag": "ABX9TyOaLjEfo5IIKfV1oym0eTp8"
    },
    "kernelspec": {
      "name": "python3",
      "display_name": "Python 3"
    },
    "language_info": {
      "name": "python"
    }
  },
  "cells": [
    {
      "cell_type": "markdown",
      "source": [
        "[Reference](https://awstip.com/understanding-the-property-decorator-in-python-ac99fcc810ad)"
      ],
      "metadata": {
        "id": "NLADBJOGlTmE"
      }
    },
    {
      "cell_type": "markdown",
      "source": [
        "# Basic Usage of @property"
      ],
      "metadata": {
        "id": "7EfX0mbhllHW"
      }
    },
    {
      "cell_type": "code",
      "execution_count": 1,
      "metadata": {
        "id": "MdsEeMMklSMb"
      },
      "outputs": [],
      "source": [
        "class Temperature:\n",
        "    def __init__(self, celsius):\n",
        "        self._celsius = celsius\n",
        "\n",
        "    @property\n",
        "    def celsius(self):\n",
        "        return self._celsius\n",
        "\n",
        "    @property\n",
        "    def fahrenheit(self):\n",
        "        return (self._celsius * 9/5) + 32"
      ]
    },
    {
      "cell_type": "code",
      "source": [
        "temperature = Temperature(25)\n",
        "print(temperature.celsius)     # Access in Celsius\n",
        "print(temperature.fahrenheit)  # Access in Fahrenheit"
      ],
      "metadata": {
        "colab": {
          "base_uri": "https://localhost:8080/"
        },
        "id": "MDih5fOJlXd6",
        "outputId": "ffb6bc9b-48e9-42be-f5d8-7694347cec2c"
      },
      "execution_count": 2,
      "outputs": [
        {
          "output_type": "stream",
          "name": "stdout",
          "text": [
            "25\n",
            "77.0\n"
          ]
        }
      ]
    },
    {
      "cell_type": "markdown",
      "source": [
        "# Adding a Setter Method"
      ],
      "metadata": {
        "id": "-tDyC43DlY4Y"
      }
    },
    {
      "cell_type": "code",
      "source": [
        "class Temperature:\n",
        "    def __init__(self, celsius):\n",
        "        self._celsius = celsius\n",
        "\n",
        "    @property\n",
        "    def celsius(self):\n",
        "        return self._celsius\n",
        "\n",
        "    @celsius.setter\n",
        "    def celsius(self, value):\n",
        "        if value >= -273.15:\n",
        "            self._celsius = value\n",
        "        else:\n",
        "            raise ValueError(\"Temperature cannot be below absolute zero\")\n",
        "\n",
        "    @property\n",
        "    def fahrenheit(self):\n",
        "        return (self._celsius * 9/5) + 32"
      ],
      "metadata": {
        "id": "pJ1M6kOplXlv"
      },
      "execution_count": 3,
      "outputs": []
    },
    {
      "cell_type": "code",
      "source": [
        "temperature = Temperature(25)\n",
        "temperature.celsius = 30  # Sets the temperature in Celsius\n",
        "temperature.celsius = -300  # Raises a ValueError due to invalid temperature"
      ],
      "metadata": {
        "colab": {
          "base_uri": "https://localhost:8080/",
          "height": 327
        },
        "id": "I159bdRLleYR",
        "outputId": "b0caf8de-e7ef-4600-98ec-06ce8b7565d7"
      },
      "execution_count": 4,
      "outputs": [
        {
          "output_type": "error",
          "ename": "ValueError",
          "evalue": "ignored",
          "traceback": [
            "\u001b[0;31m---------------------------------------------------------------------------\u001b[0m",
            "\u001b[0;31mValueError\u001b[0m                                Traceback (most recent call last)",
            "\u001b[0;32m<ipython-input-4-aeb1258442e6>\u001b[0m in \u001b[0;36m<cell line: 3>\u001b[0;34m()\u001b[0m\n\u001b[1;32m      1\u001b[0m \u001b[0mtemperature\u001b[0m \u001b[0;34m=\u001b[0m \u001b[0mTemperature\u001b[0m\u001b[0;34m(\u001b[0m\u001b[0;36m25\u001b[0m\u001b[0;34m)\u001b[0m\u001b[0;34m\u001b[0m\u001b[0;34m\u001b[0m\u001b[0m\n\u001b[1;32m      2\u001b[0m \u001b[0mtemperature\u001b[0m\u001b[0;34m.\u001b[0m\u001b[0mcelsius\u001b[0m \u001b[0;34m=\u001b[0m \u001b[0;36m30\u001b[0m  \u001b[0;31m# Sets the temperature in Celsius\u001b[0m\u001b[0;34m\u001b[0m\u001b[0;34m\u001b[0m\u001b[0m\n\u001b[0;32m----> 3\u001b[0;31m \u001b[0mtemperature\u001b[0m\u001b[0;34m.\u001b[0m\u001b[0mcelsius\u001b[0m \u001b[0;34m=\u001b[0m \u001b[0;34m-\u001b[0m\u001b[0;36m300\u001b[0m  \u001b[0;31m# Raises a ValueError due to invalid temperature\u001b[0m\u001b[0;34m\u001b[0m\u001b[0;34m\u001b[0m\u001b[0m\n\u001b[0m",
            "\u001b[0;32m<ipython-input-3-6b9611eac675>\u001b[0m in \u001b[0;36mcelsius\u001b[0;34m(self, value)\u001b[0m\n\u001b[1;32m     12\u001b[0m             \u001b[0mself\u001b[0m\u001b[0;34m.\u001b[0m\u001b[0m_celsius\u001b[0m \u001b[0;34m=\u001b[0m \u001b[0mvalue\u001b[0m\u001b[0;34m\u001b[0m\u001b[0;34m\u001b[0m\u001b[0m\n\u001b[1;32m     13\u001b[0m         \u001b[0;32melse\u001b[0m\u001b[0;34m:\u001b[0m\u001b[0;34m\u001b[0m\u001b[0;34m\u001b[0m\u001b[0m\n\u001b[0;32m---> 14\u001b[0;31m             \u001b[0;32mraise\u001b[0m \u001b[0mValueError\u001b[0m\u001b[0;34m(\u001b[0m\u001b[0;34m\"Temperature cannot be below absolute zero\"\u001b[0m\u001b[0;34m)\u001b[0m\u001b[0;34m\u001b[0m\u001b[0;34m\u001b[0m\u001b[0m\n\u001b[0m\u001b[1;32m     15\u001b[0m \u001b[0;34m\u001b[0m\u001b[0m\n\u001b[1;32m     16\u001b[0m     \u001b[0;34m@\u001b[0m\u001b[0mproperty\u001b[0m\u001b[0;34m\u001b[0m\u001b[0;34m\u001b[0m\u001b[0m\n",
            "\u001b[0;31mValueError\u001b[0m: Temperature cannot be below absolute zero"
          ]
        }
      ]
    },
    {
      "cell_type": "markdown",
      "source": [
        "# Adding a Deleter"
      ],
      "metadata": {
        "id": "6D9_4EGBliMU"
      }
    },
    {
      "cell_type": "code",
      "source": [
        "class Temperature:\n",
        "    def __init__(self, celsius):\n",
        "        self._celsius = celsius\n",
        "\n",
        "    @property\n",
        "    def celsius(self):\n",
        "        return self._celsius\n",
        "\n",
        "    @celsius.setter\n",
        "    def celsius(self, value):\n",
        "        if value >= -273.15:\n",
        "            self._celsius = value\n",
        "        else:\n",
        "            raise ValueError(\"Temperature cannot be below absolute zero\")\n",
        "\n",
        "    @property\n",
        "    def fahrenheit(self):\n",
        "        return (self._celsius * 9/5) + 32\n",
        "\n",
        "    @celsius.deleter\n",
        "    def celsius(self):\n",
        "        print(\"Deleting the temperature property\")\n",
        "        del self._celsius"
      ],
      "metadata": {
        "id": "yZJBljovlgkK"
      },
      "execution_count": 5,
      "outputs": []
    },
    {
      "cell_type": "code",
      "source": [
        "del temperature._celsius  # Deletes the temperature property"
      ],
      "metadata": {
        "id": "lDFHKRtjlpuz"
      },
      "execution_count": 7,
      "outputs": []
    },
    {
      "cell_type": "markdown",
      "source": [
        "# Creating Read-Only Properties"
      ],
      "metadata": {
        "id": "8I6XEC8alzvj"
      }
    },
    {
      "cell_type": "code",
      "source": [
        "class Circle:\n",
        "    def __init__(self, radius):\n",
        "        self._radius = radius\n",
        "\n",
        "    @property\n",
        "    def radius(self):\n",
        "        return self._radius\n",
        "\n",
        "    # No setter defined for radius"
      ],
      "metadata": {
        "id": "XtfEFYMRlrxM"
      },
      "execution_count": 8,
      "outputs": []
    },
    {
      "cell_type": "markdown",
      "source": [
        "# Computed Properties"
      ],
      "metadata": {
        "id": "E1LoBvCOl08m"
      }
    },
    {
      "cell_type": "code",
      "source": [
        "class Rectangle:\n",
        "    def __init__(self, width, height):\n",
        "        self.width = width\n",
        "        self.height = height\n",
        "\n",
        "    @property\n",
        "    def area(self):\n",
        "        return self.width * self.height"
      ],
      "metadata": {
        "id": "5rnhEjOal0Bf"
      },
      "execution_count": 9,
      "outputs": []
    },
    {
      "cell_type": "markdown",
      "source": [
        "# Lazy Loading of Properties"
      ],
      "metadata": {
        "id": "NUcl1pRgl49I"
      }
    },
    {
      "cell_type": "code",
      "source": [
        "class ExpensiveDataLoader:\n",
        "    def __init__(self):\n",
        "        self._data = None\n",
        "\n",
        "    @property\n",
        "    def data(self):\n",
        "        if self._data is None:\n",
        "            self._data = self._load_data()  # Expensive operation\n",
        "        return self._data\n",
        "\n",
        "    def _load_data(self):\n",
        "        # Load data from a file, database, etc.\n",
        "        return \"Expensive Data\""
      ],
      "metadata": {
        "id": "L5xY-Ibbl2D3"
      },
      "execution_count": 10,
      "outputs": []
    },
    {
      "cell_type": "markdown",
      "source": [
        "# Using Property for Refactoring"
      ],
      "metadata": {
        "id": "b5rBYX9bl8PS"
      }
    },
    {
      "cell_type": "code",
      "source": [
        "class LegacyClass:\n",
        "    def __init__(self, value):\n",
        "        self._value = value\n",
        "\n",
        "    @property\n",
        "    def value(self):\n",
        "        # Add logging, validation, etc.\n",
        "        return self._value\n",
        "\n",
        "    @value.setter\n",
        "    def value(self, value):\n",
        "        # Add logging, validation, etc.\n",
        "        self._value = value"
      ],
      "metadata": {
        "id": "OzRU_KiRl6ax"
      },
      "execution_count": 11,
      "outputs": []
    }
  ]
}