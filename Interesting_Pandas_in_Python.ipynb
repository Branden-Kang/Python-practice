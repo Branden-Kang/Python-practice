{
  "nbformat": 4,
  "nbformat_minor": 0,
  "metadata": {
    "colab": {
      "name": "Interesting Pandas in Python.ipynb",
      "provenance": [],
      "authorship_tag": "ABX9TyPo4LQlgLn2oPaGfEHsFpVH"
    },
    "kernelspec": {
      "name": "python3",
      "display_name": "Python 3"
    }
  },
  "cells": [
    {
      "cell_type": "markdown",
      "metadata": {
        "id": "LkOIBkQtrllK"
      },
      "source": [
        "[Reference](https://towardsdatascience.com/alluring-python-pandas-834fe1656a34)"
      ]
    },
    {
      "cell_type": "code",
      "metadata": {
        "id": "SHwwNR_jr1Pz"
      },
      "source": [
        "import pandas as pd"
      ],
      "execution_count": 2,
      "outputs": []
    },
    {
      "cell_type": "code",
      "metadata": {
        "id": "1F8UD56rrPlp"
      },
      "source": [
        "df = pd.DataFrame({'City': ['Singapore','London','Hong Kong','Paris','Moscow'],\n",
        "                   'City Population': [563, 898, 745, 215, 1192],\n",
        "                   'City Area': [721.5, 1572, 1106, 105.4, 2511],\n",
        "                   'Currency':['SGD','GBP','HKD','EUR','RUB'],\n",
        "                   'Continent':['Asia','Europe','Asia','Europe','Europe'],\n",
        "                   'Main Language': ['English','English','Chinese','French','Russian']})"
      ],
      "execution_count": 8,
      "outputs": []
    },
    {
      "cell_type": "markdown",
      "metadata": {
        "id": "BeXEPjlMr8oo"
      },
      "source": [
        "# 1) Sort Data in different orders"
      ]
    },
    {
      "cell_type": "code",
      "metadata": {
        "colab": {
          "base_uri": "https://localhost:8080/",
          "height": 238
        },
        "id": "qjL62pyUrt1O",
        "outputId": "57aa28ac-55e8-4165-e37b-383fddf9c827"
      },
      "source": [
        "df.sort_values(by = ['Continent','City Population'], ascending=[True,False])"
      ],
      "execution_count": 4,
      "outputs": [
        {
          "output_type": "execute_result",
          "data": {
            "text/html": [
              "<div>\n",
              "<style scoped>\n",
              "    .dataframe tbody tr th:only-of-type {\n",
              "        vertical-align: middle;\n",
              "    }\n",
              "\n",
              "    .dataframe tbody tr th {\n",
              "        vertical-align: top;\n",
              "    }\n",
              "\n",
              "    .dataframe thead th {\n",
              "        text-align: right;\n",
              "    }\n",
              "</style>\n",
              "<table border=\"1\" class=\"dataframe\">\n",
              "  <thead>\n",
              "    <tr style=\"text-align: right;\">\n",
              "      <th></th>\n",
              "      <th>City</th>\n",
              "      <th>City Population</th>\n",
              "      <th>City Area</th>\n",
              "      <th>Currency</th>\n",
              "      <th>Continent</th>\n",
              "      <th>Main Language</th>\n",
              "    </tr>\n",
              "  </thead>\n",
              "  <tbody>\n",
              "    <tr>\n",
              "      <th>2</th>\n",
              "      <td>Hong Kong</td>\n",
              "      <td>745</td>\n",
              "      <td>1106.0</td>\n",
              "      <td>HKD</td>\n",
              "      <td>Asia</td>\n",
              "      <td>Chinese</td>\n",
              "    </tr>\n",
              "    <tr>\n",
              "      <th>0</th>\n",
              "      <td>Singapore</td>\n",
              "      <td>563</td>\n",
              "      <td>721.5</td>\n",
              "      <td>SGD</td>\n",
              "      <td>Asia</td>\n",
              "      <td>English</td>\n",
              "    </tr>\n",
              "    <tr>\n",
              "      <th>4</th>\n",
              "      <td>Moscow</td>\n",
              "      <td>1192</td>\n",
              "      <td>2511.0</td>\n",
              "      <td>RUB</td>\n",
              "      <td>Europe</td>\n",
              "      <td>Russian</td>\n",
              "    </tr>\n",
              "    <tr>\n",
              "      <th>1</th>\n",
              "      <td>London</td>\n",
              "      <td>898</td>\n",
              "      <td>1572.0</td>\n",
              "      <td>GBP</td>\n",
              "      <td>Europe</td>\n",
              "      <td>English</td>\n",
              "    </tr>\n",
              "    <tr>\n",
              "      <th>3</th>\n",
              "      <td>Paris</td>\n",
              "      <td>215</td>\n",
              "      <td>105.4</td>\n",
              "      <td>EUR</td>\n",
              "      <td>Europe</td>\n",
              "      <td>French</td>\n",
              "    </tr>\n",
              "  </tbody>\n",
              "</table>\n",
              "</div>"
            ],
            "text/plain": [
              "        City  City Population  City Area Currency Continent Main Language\n",
              "2  Hong Kong              745     1106.0      HKD      Asia       Chinese\n",
              "0  Singapore              563      721.5      SGD      Asia       English\n",
              "4     Moscow             1192     2511.0      RUB    Europe       Russian\n",
              "1     London              898     1572.0      GBP    Europe       English\n",
              "3      Paris              215      105.4      EUR    Europe        French"
            ]
          },
          "metadata": {
            "tags": []
          },
          "execution_count": 4
        }
      ]
    },
    {
      "cell_type": "code",
      "metadata": {
        "colab": {
          "base_uri": "https://localhost:8080/",
          "height": 238
        },
        "id": "IKvk7_YEr_gP",
        "outputId": "e2d21e9d-3492-40c8-84eb-dce122cf3e6e"
      },
      "source": [
        "df.sort_values(by = ['Continent','Main Language','City Population'], ascending=[True,False,True])"
      ],
      "execution_count": 5,
      "outputs": [
        {
          "output_type": "execute_result",
          "data": {
            "text/html": [
              "<div>\n",
              "<style scoped>\n",
              "    .dataframe tbody tr th:only-of-type {\n",
              "        vertical-align: middle;\n",
              "    }\n",
              "\n",
              "    .dataframe tbody tr th {\n",
              "        vertical-align: top;\n",
              "    }\n",
              "\n",
              "    .dataframe thead th {\n",
              "        text-align: right;\n",
              "    }\n",
              "</style>\n",
              "<table border=\"1\" class=\"dataframe\">\n",
              "  <thead>\n",
              "    <tr style=\"text-align: right;\">\n",
              "      <th></th>\n",
              "      <th>City</th>\n",
              "      <th>City Population</th>\n",
              "      <th>City Area</th>\n",
              "      <th>Currency</th>\n",
              "      <th>Continent</th>\n",
              "      <th>Main Language</th>\n",
              "    </tr>\n",
              "  </thead>\n",
              "  <tbody>\n",
              "    <tr>\n",
              "      <th>0</th>\n",
              "      <td>Singapore</td>\n",
              "      <td>563</td>\n",
              "      <td>721.5</td>\n",
              "      <td>SGD</td>\n",
              "      <td>Asia</td>\n",
              "      <td>English</td>\n",
              "    </tr>\n",
              "    <tr>\n",
              "      <th>2</th>\n",
              "      <td>Hong Kong</td>\n",
              "      <td>745</td>\n",
              "      <td>1106.0</td>\n",
              "      <td>HKD</td>\n",
              "      <td>Asia</td>\n",
              "      <td>Chinese</td>\n",
              "    </tr>\n",
              "    <tr>\n",
              "      <th>4</th>\n",
              "      <td>Moscow</td>\n",
              "      <td>1192</td>\n",
              "      <td>2511.0</td>\n",
              "      <td>RUB</td>\n",
              "      <td>Europe</td>\n",
              "      <td>Russian</td>\n",
              "    </tr>\n",
              "    <tr>\n",
              "      <th>3</th>\n",
              "      <td>Paris</td>\n",
              "      <td>215</td>\n",
              "      <td>105.4</td>\n",
              "      <td>EUR</td>\n",
              "      <td>Europe</td>\n",
              "      <td>French</td>\n",
              "    </tr>\n",
              "    <tr>\n",
              "      <th>1</th>\n",
              "      <td>London</td>\n",
              "      <td>898</td>\n",
              "      <td>1572.0</td>\n",
              "      <td>GBP</td>\n",
              "      <td>Europe</td>\n",
              "      <td>English</td>\n",
              "    </tr>\n",
              "  </tbody>\n",
              "</table>\n",
              "</div>"
            ],
            "text/plain": [
              "        City  City Population  City Area Currency Continent Main Language\n",
              "0  Singapore              563      721.5      SGD      Asia       English\n",
              "2  Hong Kong              745     1106.0      HKD      Asia       Chinese\n",
              "4     Moscow             1192     2511.0      RUB    Europe       Russian\n",
              "3      Paris              215      105.4      EUR    Europe        French\n",
              "1     London              898     1572.0      GBP    Europe       English"
            ]
          },
          "metadata": {
            "tags": []
          },
          "execution_count": 5
        }
      ]
    },
    {
      "cell_type": "markdown",
      "metadata": {
        "id": "x3pCOsifsCeo"
      },
      "source": [
        "# 2) Add New Column in Specific Location"
      ]
    },
    {
      "cell_type": "code",
      "metadata": {
        "id": "nFBvgrxpsBi1"
      },
      "source": [
        "# df['Population density'] = df['City Population']/df['City Area']"
      ],
      "execution_count": 6,
      "outputs": []
    },
    {
      "cell_type": "code",
      "metadata": {
        "id": "smduEssgsDql"
      },
      "source": [
        "df.insert(loc=3, column='Population density', value=(df['City Population']/df['City Area']))"
      ],
      "execution_count": 9,
      "outputs": []
    },
    {
      "cell_type": "code",
      "metadata": {
        "colab": {
          "base_uri": "https://localhost:8080/",
          "height": 238
        },
        "id": "x0SYNVJNsHgw",
        "outputId": "bbb88f45-2a20-47e0-db73-1330b141bc9e"
      },
      "source": [
        "df.head()"
      ],
      "execution_count": 10,
      "outputs": [
        {
          "output_type": "execute_result",
          "data": {
            "text/html": [
              "<div>\n",
              "<style scoped>\n",
              "    .dataframe tbody tr th:only-of-type {\n",
              "        vertical-align: middle;\n",
              "    }\n",
              "\n",
              "    .dataframe tbody tr th {\n",
              "        vertical-align: top;\n",
              "    }\n",
              "\n",
              "    .dataframe thead th {\n",
              "        text-align: right;\n",
              "    }\n",
              "</style>\n",
              "<table border=\"1\" class=\"dataframe\">\n",
              "  <thead>\n",
              "    <tr style=\"text-align: right;\">\n",
              "      <th></th>\n",
              "      <th>City</th>\n",
              "      <th>City Population</th>\n",
              "      <th>City Area</th>\n",
              "      <th>Population density</th>\n",
              "      <th>Currency</th>\n",
              "      <th>Continent</th>\n",
              "      <th>Main Language</th>\n",
              "    </tr>\n",
              "  </thead>\n",
              "  <tbody>\n",
              "    <tr>\n",
              "      <th>0</th>\n",
              "      <td>Singapore</td>\n",
              "      <td>563</td>\n",
              "      <td>721.5</td>\n",
              "      <td>0.780319</td>\n",
              "      <td>SGD</td>\n",
              "      <td>Asia</td>\n",
              "      <td>English</td>\n",
              "    </tr>\n",
              "    <tr>\n",
              "      <th>1</th>\n",
              "      <td>London</td>\n",
              "      <td>898</td>\n",
              "      <td>1572.0</td>\n",
              "      <td>0.571247</td>\n",
              "      <td>GBP</td>\n",
              "      <td>Europe</td>\n",
              "      <td>English</td>\n",
              "    </tr>\n",
              "    <tr>\n",
              "      <th>2</th>\n",
              "      <td>Hong Kong</td>\n",
              "      <td>745</td>\n",
              "      <td>1106.0</td>\n",
              "      <td>0.673599</td>\n",
              "      <td>HKD</td>\n",
              "      <td>Asia</td>\n",
              "      <td>Chinese</td>\n",
              "    </tr>\n",
              "    <tr>\n",
              "      <th>3</th>\n",
              "      <td>Paris</td>\n",
              "      <td>215</td>\n",
              "      <td>105.4</td>\n",
              "      <td>2.039848</td>\n",
              "      <td>EUR</td>\n",
              "      <td>Europe</td>\n",
              "      <td>French</td>\n",
              "    </tr>\n",
              "    <tr>\n",
              "      <th>4</th>\n",
              "      <td>Moscow</td>\n",
              "      <td>1192</td>\n",
              "      <td>2511.0</td>\n",
              "      <td>0.474711</td>\n",
              "      <td>RUB</td>\n",
              "      <td>Europe</td>\n",
              "      <td>Russian</td>\n",
              "    </tr>\n",
              "  </tbody>\n",
              "</table>\n",
              "</div>"
            ],
            "text/plain": [
              "        City  City Population  City Area  ...  Currency Continent Main Language\n",
              "0  Singapore              563      721.5  ...       SGD      Asia       English\n",
              "1     London              898     1572.0  ...       GBP    Europe       English\n",
              "2  Hong Kong              745     1106.0  ...       HKD      Asia       Chinese\n",
              "3      Paris              215      105.4  ...       EUR    Europe        French\n",
              "4     Moscow             1192     2511.0  ...       RUB    Europe       Russian\n",
              "\n",
              "[5 rows x 7 columns]"
            ]
          },
          "metadata": {
            "tags": []
          },
          "execution_count": 10
        }
      ]
    },
    {
      "cell_type": "markdown",
      "metadata": {
        "id": "LdPQMYY8sOK1"
      },
      "source": [
        "# 3) Select Column base on Data Type"
      ]
    },
    {
      "cell_type": "code",
      "metadata": {
        "colab": {
          "base_uri": "https://localhost:8080/",
          "height": 204
        },
        "id": "P4QjN_kKsL7g",
        "outputId": "535682dd-be89-4051-d2cc-0ca0091aa25d"
      },
      "source": [
        "df.select_dtypes(include='float')"
      ],
      "execution_count": 11,
      "outputs": [
        {
          "output_type": "execute_result",
          "data": {
            "text/html": [
              "<div>\n",
              "<style scoped>\n",
              "    .dataframe tbody tr th:only-of-type {\n",
              "        vertical-align: middle;\n",
              "    }\n",
              "\n",
              "    .dataframe tbody tr th {\n",
              "        vertical-align: top;\n",
              "    }\n",
              "\n",
              "    .dataframe thead th {\n",
              "        text-align: right;\n",
              "    }\n",
              "</style>\n",
              "<table border=\"1\" class=\"dataframe\">\n",
              "  <thead>\n",
              "    <tr style=\"text-align: right;\">\n",
              "      <th></th>\n",
              "      <th>City Area</th>\n",
              "      <th>Population density</th>\n",
              "    </tr>\n",
              "  </thead>\n",
              "  <tbody>\n",
              "    <tr>\n",
              "      <th>0</th>\n",
              "      <td>721.5</td>\n",
              "      <td>0.780319</td>\n",
              "    </tr>\n",
              "    <tr>\n",
              "      <th>1</th>\n",
              "      <td>1572.0</td>\n",
              "      <td>0.571247</td>\n",
              "    </tr>\n",
              "    <tr>\n",
              "      <th>2</th>\n",
              "      <td>1106.0</td>\n",
              "      <td>0.673599</td>\n",
              "    </tr>\n",
              "    <tr>\n",
              "      <th>3</th>\n",
              "      <td>105.4</td>\n",
              "      <td>2.039848</td>\n",
              "    </tr>\n",
              "    <tr>\n",
              "      <th>4</th>\n",
              "      <td>2511.0</td>\n",
              "      <td>0.474711</td>\n",
              "    </tr>\n",
              "  </tbody>\n",
              "</table>\n",
              "</div>"
            ],
            "text/plain": [
              "   City Area  Population density\n",
              "0      721.5            0.780319\n",
              "1     1572.0            0.571247\n",
              "2     1106.0            0.673599\n",
              "3      105.4            2.039848\n",
              "4     2511.0            0.474711"
            ]
          },
          "metadata": {
            "tags": []
          },
          "execution_count": 11
        }
      ]
    },
    {
      "cell_type": "code",
      "metadata": {
        "colab": {
          "base_uri": "https://localhost:8080/",
          "height": 204
        },
        "id": "OTHZrUWPsRUc",
        "outputId": "b43e6999-5aa7-4542-8ddc-f253d4e92e27"
      },
      "source": [
        "df.select_dtypes(exclude='object')"
      ],
      "execution_count": 12,
      "outputs": [
        {
          "output_type": "execute_result",
          "data": {
            "text/html": [
              "<div>\n",
              "<style scoped>\n",
              "    .dataframe tbody tr th:only-of-type {\n",
              "        vertical-align: middle;\n",
              "    }\n",
              "\n",
              "    .dataframe tbody tr th {\n",
              "        vertical-align: top;\n",
              "    }\n",
              "\n",
              "    .dataframe thead th {\n",
              "        text-align: right;\n",
              "    }\n",
              "</style>\n",
              "<table border=\"1\" class=\"dataframe\">\n",
              "  <thead>\n",
              "    <tr style=\"text-align: right;\">\n",
              "      <th></th>\n",
              "      <th>City Population</th>\n",
              "      <th>City Area</th>\n",
              "      <th>Population density</th>\n",
              "    </tr>\n",
              "  </thead>\n",
              "  <tbody>\n",
              "    <tr>\n",
              "      <th>0</th>\n",
              "      <td>563</td>\n",
              "      <td>721.5</td>\n",
              "      <td>0.780319</td>\n",
              "    </tr>\n",
              "    <tr>\n",
              "      <th>1</th>\n",
              "      <td>898</td>\n",
              "      <td>1572.0</td>\n",
              "      <td>0.571247</td>\n",
              "    </tr>\n",
              "    <tr>\n",
              "      <th>2</th>\n",
              "      <td>745</td>\n",
              "      <td>1106.0</td>\n",
              "      <td>0.673599</td>\n",
              "    </tr>\n",
              "    <tr>\n",
              "      <th>3</th>\n",
              "      <td>215</td>\n",
              "      <td>105.4</td>\n",
              "      <td>2.039848</td>\n",
              "    </tr>\n",
              "    <tr>\n",
              "      <th>4</th>\n",
              "      <td>1192</td>\n",
              "      <td>2511.0</td>\n",
              "      <td>0.474711</td>\n",
              "    </tr>\n",
              "  </tbody>\n",
              "</table>\n",
              "</div>"
            ],
            "text/plain": [
              "   City Population  City Area  Population density\n",
              "0              563      721.5            0.780319\n",
              "1              898     1572.0            0.571247\n",
              "2              745     1106.0            0.673599\n",
              "3              215      105.4            2.039848\n",
              "4             1192     2511.0            0.474711"
            ]
          },
          "metadata": {
            "tags": []
          },
          "execution_count": 12
        }
      ]
    },
    {
      "cell_type": "code",
      "metadata": {
        "colab": {
          "base_uri": "https://localhost:8080/",
          "height": 204
        },
        "id": "DY5rBfeQsSQ7",
        "outputId": "1ab0716a-c00a-4590-e3d3-441875d195d5"
      },
      "source": [
        "df.select_dtypes(exclude=['int64','float64'])"
      ],
      "execution_count": 13,
      "outputs": [
        {
          "output_type": "execute_result",
          "data": {
            "text/html": [
              "<div>\n",
              "<style scoped>\n",
              "    .dataframe tbody tr th:only-of-type {\n",
              "        vertical-align: middle;\n",
              "    }\n",
              "\n",
              "    .dataframe tbody tr th {\n",
              "        vertical-align: top;\n",
              "    }\n",
              "\n",
              "    .dataframe thead th {\n",
              "        text-align: right;\n",
              "    }\n",
              "</style>\n",
              "<table border=\"1\" class=\"dataframe\">\n",
              "  <thead>\n",
              "    <tr style=\"text-align: right;\">\n",
              "      <th></th>\n",
              "      <th>City</th>\n",
              "      <th>Currency</th>\n",
              "      <th>Continent</th>\n",
              "      <th>Main Language</th>\n",
              "    </tr>\n",
              "  </thead>\n",
              "  <tbody>\n",
              "    <tr>\n",
              "      <th>0</th>\n",
              "      <td>Singapore</td>\n",
              "      <td>SGD</td>\n",
              "      <td>Asia</td>\n",
              "      <td>English</td>\n",
              "    </tr>\n",
              "    <tr>\n",
              "      <th>1</th>\n",
              "      <td>London</td>\n",
              "      <td>GBP</td>\n",
              "      <td>Europe</td>\n",
              "      <td>English</td>\n",
              "    </tr>\n",
              "    <tr>\n",
              "      <th>2</th>\n",
              "      <td>Hong Kong</td>\n",
              "      <td>HKD</td>\n",
              "      <td>Asia</td>\n",
              "      <td>Chinese</td>\n",
              "    </tr>\n",
              "    <tr>\n",
              "      <th>3</th>\n",
              "      <td>Paris</td>\n",
              "      <td>EUR</td>\n",
              "      <td>Europe</td>\n",
              "      <td>French</td>\n",
              "    </tr>\n",
              "    <tr>\n",
              "      <th>4</th>\n",
              "      <td>Moscow</td>\n",
              "      <td>RUB</td>\n",
              "      <td>Europe</td>\n",
              "      <td>Russian</td>\n",
              "    </tr>\n",
              "  </tbody>\n",
              "</table>\n",
              "</div>"
            ],
            "text/plain": [
              "        City Currency Continent Main Language\n",
              "0  Singapore      SGD      Asia       English\n",
              "1     London      GBP    Europe       English\n",
              "2  Hong Kong      HKD      Asia       Chinese\n",
              "3      Paris      EUR    Europe        French\n",
              "4     Moscow      RUB    Europe       Russian"
            ]
          },
          "metadata": {
            "tags": []
          },
          "execution_count": 13
        }
      ]
    },
    {
      "cell_type": "code",
      "metadata": {
        "colab": {
          "base_uri": "https://localhost:8080/",
          "height": 204
        },
        "id": "nGckUXn1sT2U",
        "outputId": "994cdd6e-f8bf-442d-eb65-fad0eed2cdea"
      },
      "source": [
        "df.select_dtypes(include='number',exclude='float64')"
      ],
      "execution_count": 14,
      "outputs": [
        {
          "output_type": "execute_result",
          "data": {
            "text/html": [
              "<div>\n",
              "<style scoped>\n",
              "    .dataframe tbody tr th:only-of-type {\n",
              "        vertical-align: middle;\n",
              "    }\n",
              "\n",
              "    .dataframe tbody tr th {\n",
              "        vertical-align: top;\n",
              "    }\n",
              "\n",
              "    .dataframe thead th {\n",
              "        text-align: right;\n",
              "    }\n",
              "</style>\n",
              "<table border=\"1\" class=\"dataframe\">\n",
              "  <thead>\n",
              "    <tr style=\"text-align: right;\">\n",
              "      <th></th>\n",
              "      <th>City Population</th>\n",
              "    </tr>\n",
              "  </thead>\n",
              "  <tbody>\n",
              "    <tr>\n",
              "      <th>0</th>\n",
              "      <td>563</td>\n",
              "    </tr>\n",
              "    <tr>\n",
              "      <th>1</th>\n",
              "      <td>898</td>\n",
              "    </tr>\n",
              "    <tr>\n",
              "      <th>2</th>\n",
              "      <td>745</td>\n",
              "    </tr>\n",
              "    <tr>\n",
              "      <th>3</th>\n",
              "      <td>215</td>\n",
              "    </tr>\n",
              "    <tr>\n",
              "      <th>4</th>\n",
              "      <td>1192</td>\n",
              "    </tr>\n",
              "  </tbody>\n",
              "</table>\n",
              "</div>"
            ],
            "text/plain": [
              "   City Population\n",
              "0              563\n",
              "1              898\n",
              "2              745\n",
              "3              215\n",
              "4             1192"
            ]
          },
          "metadata": {
            "tags": []
          },
          "execution_count": 14
        }
      ]
    },
    {
      "cell_type": "markdown",
      "metadata": {
        "id": "O7p0Oh2ZsVnF"
      },
      "source": [
        "# 4) Filter Column Based on Partial Match"
      ]
    },
    {
      "cell_type": "code",
      "metadata": {
        "colab": {
          "base_uri": "https://localhost:8080/",
          "height": 204
        },
        "id": "4X9l0RqJsUtB",
        "outputId": "02a90dc9-2f86-4ca2-c547-f23a82b3e2d0"
      },
      "source": [
        "df.filter(like='la', axis=1)\n",
        "\n",
        "df.filter(like='Po', axis=1)\n",
        "\n",
        "df.filter(like='tion', axis=1)"
      ],
      "execution_count": 15,
      "outputs": [
        {
          "output_type": "execute_result",
          "data": {
            "text/html": [
              "<div>\n",
              "<style scoped>\n",
              "    .dataframe tbody tr th:only-of-type {\n",
              "        vertical-align: middle;\n",
              "    }\n",
              "\n",
              "    .dataframe tbody tr th {\n",
              "        vertical-align: top;\n",
              "    }\n",
              "\n",
              "    .dataframe thead th {\n",
              "        text-align: right;\n",
              "    }\n",
              "</style>\n",
              "<table border=\"1\" class=\"dataframe\">\n",
              "  <thead>\n",
              "    <tr style=\"text-align: right;\">\n",
              "      <th></th>\n",
              "      <th>City Population</th>\n",
              "      <th>Population density</th>\n",
              "    </tr>\n",
              "  </thead>\n",
              "  <tbody>\n",
              "    <tr>\n",
              "      <th>0</th>\n",
              "      <td>563</td>\n",
              "      <td>0.780319</td>\n",
              "    </tr>\n",
              "    <tr>\n",
              "      <th>1</th>\n",
              "      <td>898</td>\n",
              "      <td>0.571247</td>\n",
              "    </tr>\n",
              "    <tr>\n",
              "      <th>2</th>\n",
              "      <td>745</td>\n",
              "      <td>0.673599</td>\n",
              "    </tr>\n",
              "    <tr>\n",
              "      <th>3</th>\n",
              "      <td>215</td>\n",
              "      <td>2.039848</td>\n",
              "    </tr>\n",
              "    <tr>\n",
              "      <th>4</th>\n",
              "      <td>1192</td>\n",
              "      <td>0.474711</td>\n",
              "    </tr>\n",
              "  </tbody>\n",
              "</table>\n",
              "</div>"
            ],
            "text/plain": [
              "   City Population  Population density\n",
              "0              563            0.780319\n",
              "1              898            0.571247\n",
              "2              745            0.673599\n",
              "3              215            2.039848\n",
              "4             1192            0.474711"
            ]
          },
          "metadata": {
            "tags": []
          },
          "execution_count": 15
        }
      ]
    }
  ]
}