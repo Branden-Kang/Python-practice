{
  "nbformat": 4,
  "nbformat_minor": 0,
  "metadata": {
    "colab": {
      "name": "Try & Finally in Python.ipynb",
      "provenance": [],
      "authorship_tag": "ABX9TyP4gH1UVR4mkBOV6zy9lGJu"
    },
    "kernelspec": {
      "name": "python3",
      "display_name": "Python 3"
    },
    "language_info": {
      "name": "python"
    }
  },
  "cells": [
    {
      "cell_type": "markdown",
      "metadata": {
        "id": "Zt1IHYpD1sYC"
      },
      "source": [
        "[Reference](https://medium.com/analytics-vidhya/do-you-really-understand-try-finally-in-python-110cee4c1a8)"
      ]
    },
    {
      "cell_type": "code",
      "metadata": {
        "colab": {
          "base_uri": "https://localhost:8080/",
          "height": 71
        },
        "id": "lpTcKicezSGK",
        "outputId": "cec80ab7-462f-41d2-95f2-1f0f64a851e8"
      },
      "source": [
        "# Both the try & final blocks have print statements and function returns value from final-block\n",
        "def example_1():\n",
        "    try:\n",
        "        val = 1\n",
        "        print(f\"Print: Try Block - {val}\")\n",
        "    finally:\n",
        "        val = val + 1\n",
        "        print(f\"Print: Finally Block - {val}\")\n",
        "        return f\"Return: Finally Block - {val}\"\n",
        "    \n",
        "example_1()"
      ],
      "execution_count": 1,
      "outputs": [
        {
          "output_type": "stream",
          "name": "stdout",
          "text": [
            "Print: Try Block - 1\n",
            "Print: Finally Block - 2\n"
          ]
        },
        {
          "output_type": "execute_result",
          "data": {
            "application/vnd.google.colaboratory.intrinsic+json": {
              "type": "string"
            },
            "text/plain": [
              "'Return: Finally Block - 2'"
            ]
          },
          "metadata": {},
          "execution_count": 1
        }
      ]
    },
    {
      "cell_type": "code",
      "metadata": {
        "colab": {
          "base_uri": "https://localhost:8080/",
          "height": 71
        },
        "id": "mVRaP17m1lWs",
        "outputId": "87f8268c-2541-4a7d-8ab4-a8183cde0320"
      },
      "source": [
        "# The try block has return statement & final block has only print statement\n",
        "def example_2():\n",
        "    try:\n",
        "        val = 1\n",
        "        print(f\"Print: Try Block - {val}\")\n",
        "        return f\"Return: Try Block - {val}\"\n",
        "    finally:\n",
        "        val = val + 1\n",
        "        print(f\"Print: Finally Block - {val}\")\n",
        "        \n",
        "example_2()"
      ],
      "execution_count": 2,
      "outputs": [
        {
          "output_type": "stream",
          "name": "stdout",
          "text": [
            "Print: Try Block - 1\n",
            "Print: Finally Block - 2\n"
          ]
        },
        {
          "output_type": "execute_result",
          "data": {
            "application/vnd.google.colaboratory.intrinsic+json": {
              "type": "string"
            },
            "text/plain": [
              "'Return: Try Block - 1'"
            ]
          },
          "metadata": {},
          "execution_count": 2
        }
      ]
    },
    {
      "cell_type": "code",
      "metadata": {
        "colab": {
          "base_uri": "https://localhost:8080/",
          "height": 71
        },
        "id": "eCQD9wIz1meG",
        "outputId": "0074389c-a9e7-46fd-90aa-916fa2ac2542"
      },
      "source": [
        "# Both the try & final blocks have return statements\n",
        "def example_3():\n",
        "    try:\n",
        "        val = 1\n",
        "        print(f\"Print: Try Block - {val}\")\n",
        "        return f\"Return: Try Block - {val}\"\n",
        "    finally:\n",
        "        val = val + 1\n",
        "        print(f\"Print: Finally Block - {val}\")\n",
        "        return f\"Return: Finally Block - {val}\"\n",
        "    \n",
        "example_3()"
      ],
      "execution_count": 3,
      "outputs": [
        {
          "output_type": "stream",
          "name": "stdout",
          "text": [
            "Print: Try Block - 1\n",
            "Print: Finally Block - 2\n"
          ]
        },
        {
          "output_type": "execute_result",
          "data": {
            "application/vnd.google.colaboratory.intrinsic+json": {
              "type": "string"
            },
            "text/plain": [
              "'Return: Finally Block - 2'"
            ]
          },
          "metadata": {},
          "execution_count": 3
        }
      ]
    }
  ]
}