{
  "nbformat": 4,
  "nbformat_minor": 0,
  "metadata": {
    "colab": {
      "name": "3 Ways To Access Python Dictionary Values.ipynb",
      "provenance": [],
      "authorship_tag": "ABX9TyNbnqbOK7O5V0pYkxpwxKLN"
    },
    "kernelspec": {
      "name": "python3",
      "display_name": "Python 3"
    },
    "language_info": {
      "name": "python"
    }
  },
  "cells": [
    {
      "cell_type": "markdown",
      "metadata": {
        "id": "S1UCwlx5kYkU"
      },
      "source": [
        "[Reference](https://betterprogramming.pub/3-ways-to-access-python-dictionary-values-e353d0830931)"
      ]
    },
    {
      "cell_type": "code",
      "metadata": {
        "id": "QskmmOaekXeo"
      },
      "source": [
        "grades = {\"Anne\": 98, \"John\": 95, \"Bella\": 97}"
      ],
      "execution_count": 1,
      "outputs": []
    },
    {
      "cell_type": "code",
      "metadata": {
        "colab": {
          "base_uri": "https://localhost:8080/"
        },
        "id": "BLQ7Hsxmkb-o",
        "outputId": "5cfb2aad-87c3-4fbc-9137-e0b8e6ea29ff"
      },
      "source": [
        "grades[\"Anne\"]"
      ],
      "execution_count": 2,
      "outputs": [
        {
          "output_type": "execute_result",
          "data": {
            "text/plain": [
              "98"
            ]
          },
          "metadata": {
            "tags": []
          },
          "execution_count": 2
        }
      ]
    },
    {
      "cell_type": "code",
      "metadata": {
        "colab": {
          "base_uri": "https://localhost:8080/"
        },
        "id": "zcCNa47BkdXX",
        "outputId": "57020e89-154c-44f1-830d-819bd05f7814"
      },
      "source": [
        "grades[\"John\"]"
      ],
      "execution_count": 3,
      "outputs": [
        {
          "output_type": "execute_result",
          "data": {
            "text/plain": [
              "95"
            ]
          },
          "metadata": {
            "tags": []
          },
          "execution_count": 3
        }
      ]
    },
    {
      "cell_type": "code",
      "metadata": {
        "colab": {
          "base_uri": "https://localhost:8080/",
          "height": 198
        },
        "id": "ogE9fgPykeUn",
        "outputId": "9e01018d-a10a-45cd-cde1-1a962382d5ed"
      },
      "source": [
        "grades[\"Zoe\"]"
      ],
      "execution_count": 4,
      "outputs": [
        {
          "output_type": "error",
          "ename": "KeyError",
          "evalue": "ignored",
          "traceback": [
            "\u001b[0;31m---------------------------------------------------------------------------\u001b[0m",
            "\u001b[0;31mKeyError\u001b[0m                                  Traceback (most recent call last)",
            "\u001b[0;32m<ipython-input-4-b7b25fa0513c>\u001b[0m in \u001b[0;36m<module>\u001b[0;34m()\u001b[0m\n\u001b[0;32m----> 1\u001b[0;31m \u001b[0mgrades\u001b[0m\u001b[0;34m[\u001b[0m\u001b[0;34m\"Zoe\"\u001b[0m\u001b[0;34m]\u001b[0m\u001b[0;34m\u001b[0m\u001b[0;34m\u001b[0m\u001b[0m\n\u001b[0m",
            "\u001b[0;31mKeyError\u001b[0m: 'Zoe'"
          ]
        }
      ]
    },
    {
      "cell_type": "code",
      "metadata": {
        "id": "cF0kXA4RkgHG"
      },
      "source": [
        "name_to_check = \"John\"\n",
        "if name_to_check in grades:\n",
        "    grade = grades[name_to_check]\n",
        "else:\n",
        "    grade = \"A default value\""
      ],
      "execution_count": 5,
      "outputs": []
    },
    {
      "cell_type": "code",
      "metadata": {
        "colab": {
          "base_uri": "https://localhost:8080/"
        },
        "id": "cVjR19FOkjYy",
        "outputId": "9f0899b1-6300-4e74-8dd5-ebeacee2046a"
      },
      "source": [
        "grades.get(\"Anne\")"
      ],
      "execution_count": 6,
      "outputs": [
        {
          "output_type": "execute_result",
          "data": {
            "text/plain": [
              "98"
            ]
          },
          "metadata": {
            "tags": []
          },
          "execution_count": 6
        }
      ]
    },
    {
      "cell_type": "code",
      "metadata": {
        "colab": {
          "base_uri": "https://localhost:8080/"
        },
        "id": "SfNwzvYgkmhR",
        "outputId": "b259442c-fe1b-4a04-e336-7294614ab4bb"
      },
      "source": [
        "grades.get(\"Zoe\", 0)"
      ],
      "execution_count": 7,
      "outputs": [
        {
          "output_type": "execute_result",
          "data": {
            "text/plain": [
              "0"
            ]
          },
          "metadata": {
            "tags": []
          },
          "execution_count": 7
        }
      ]
    },
    {
      "cell_type": "code",
      "metadata": {
        "id": "bJuKNzk7knfl"
      },
      "source": [
        "grades.get(\"Zoe\")"
      ],
      "execution_count": 8,
      "outputs": []
    },
    {
      "cell_type": "code",
      "metadata": {
        "id": "dG_-lCKJkpSP"
      },
      "source": [
        "def calculate_something(arg0, arg1, **kwargs):\n",
        "    kwarg0 = kwargs.get(\"kwarg0\", 0)\n",
        "    kwarg1 = kwargs.get(\"kwarg1\", \"normal\")\n",
        "    kwarg2 = kwargs.get(\"kwarg2\", [])\n",
        "    kwarg3 = kwargs.get(\"kwarg3\", \"text\")"
      ],
      "execution_count": 9,
      "outputs": []
    },
    {
      "cell_type": "markdown",
      "metadata": {
        "id": "P5E1122ikzCC"
      },
      "source": [
        "# The setdefault Method"
      ]
    },
    {
      "cell_type": "code",
      "metadata": {
        "colab": {
          "base_uri": "https://localhost:8080/"
        },
        "id": "VEmnD1vxkudT",
        "outputId": "b1b4107e-896d-4710-cfa1-f3734b76d9c8"
      },
      "source": [
        "grades.setdefault(\"Anne\")"
      ],
      "execution_count": 10,
      "outputs": [
        {
          "output_type": "execute_result",
          "data": {
            "text/plain": [
              "98"
            ]
          },
          "metadata": {
            "tags": []
          },
          "execution_count": 10
        }
      ]
    },
    {
      "cell_type": "code",
      "metadata": {
        "colab": {
          "base_uri": "https://localhost:8080/"
        },
        "id": "nSjBib6MkwG_",
        "outputId": "41a491c7-6281-4df7-dec3-7fb984ef10fd"
      },
      "source": [
        "grades.setdefault(\"Danny\", 0)"
      ],
      "execution_count": 11,
      "outputs": [
        {
          "output_type": "execute_result",
          "data": {
            "text/plain": [
              "0"
            ]
          },
          "metadata": {
            "tags": []
          },
          "execution_count": 11
        }
      ]
    },
    {
      "cell_type": "code",
      "metadata": {
        "id": "Wbc6k-cQkw-C"
      },
      "source": [
        "grades.setdefault(\"Ashley\")"
      ],
      "execution_count": 12,
      "outputs": []
    },
    {
      "cell_type": "code",
      "metadata": {
        "colab": {
          "base_uri": "https://localhost:8080/"
        },
        "id": "qwPhiXYbkyBe",
        "outputId": "0a0f4085-6584-4e40-bc89-08285d994932"
      },
      "source": [
        "grades"
      ],
      "execution_count": 13,
      "outputs": [
        {
          "output_type": "execute_result",
          "data": {
            "text/plain": [
              "{'Anne': 98, 'Ashley': None, 'Bella': 97, 'Danny': 0, 'John': 95}"
            ]
          },
          "metadata": {
            "tags": []
          },
          "execution_count": 13
        }
      ]
    },
    {
      "cell_type": "code",
      "metadata": {
        "id": "kLMgujEnk1Gh"
      },
      "source": [
        "grades[\"Danny\"] = 0\n",
        "grades[\"Ashley\"] = None"
      ],
      "execution_count": 14,
      "outputs": []
    },
    {
      "cell_type": "markdown",
      "metadata": {
        "id": "RTyeMJSNk6xO"
      },
      "source": [
        "# The defaultdict Alternative"
      ]
    },
    {
      "cell_type": "code",
      "metadata": {
        "colab": {
          "base_uri": "https://localhost:8080/"
        },
        "id": "VvPdqhyMk5RI",
        "outputId": "de705d98-f51f-48a4-dc6e-2be365eb07d6"
      },
      "source": [
        "from collections import defaultdict\n",
        "grades_default = defaultdict(int, grades)\n",
        "grades_default"
      ],
      "execution_count": 15,
      "outputs": [
        {
          "output_type": "execute_result",
          "data": {
            "text/plain": [
              "defaultdict(int,\n",
              "            {'Anne': 98, 'Ashley': None, 'Bella': 97, 'Danny': 0, 'John': 95})"
            ]
          },
          "metadata": {
            "tags": []
          },
          "execution_count": 15
        }
      ]
    },
    {
      "cell_type": "code",
      "metadata": {
        "colab": {
          "base_uri": "https://localhost:8080/"
        },
        "id": "QtCk0navk9FL",
        "outputId": "7c276c60-b72a-4ca8-f16b-1406a5779fd4"
      },
      "source": [
        "grades_default[\"Lily\"]"
      ],
      "execution_count": 16,
      "outputs": [
        {
          "output_type": "execute_result",
          "data": {
            "text/plain": [
              "0"
            ]
          },
          "metadata": {
            "tags": []
          },
          "execution_count": 16
        }
      ]
    },
    {
      "cell_type": "code",
      "metadata": {
        "colab": {
          "base_uri": "https://localhost:8080/"
        },
        "id": "C49k_rr1k-QM",
        "outputId": "a3449cf4-1971-4d2a-a699-c8c494c8a1e8"
      },
      "source": [
        "grades_default"
      ],
      "execution_count": 17,
      "outputs": [
        {
          "output_type": "execute_result",
          "data": {
            "text/plain": [
              "defaultdict(int,\n",
              "            {'Anne': 98,\n",
              "             'Ashley': None,\n",
              "             'Bella': 97,\n",
              "             'Danny': 0,\n",
              "             'John': 95,\n",
              "             'Lily': 0})"
            ]
          },
          "metadata": {
            "tags": []
          },
          "execution_count": 17
        }
      ]
    },
    {
      "cell_type": "code",
      "metadata": {
        "id": "Qb0BmX84k_Vp"
      },
      "source": [
        "students_by_initial0 = {}\n",
        "for name in grades.keys():\n",
        "    group = students_by_initial0.setdefault(name[0], [])\n",
        "    group.append(name)"
      ],
      "execution_count": 18,
      "outputs": []
    },
    {
      "cell_type": "code",
      "metadata": {
        "id": "nNE6I0lVlAeH"
      },
      "source": [
        "students_by_initial1 = defaultdict(list)\n",
        "for name in grades.keys():\n",
        "    students_by_initial1[name[0]].append(name)"
      ],
      "execution_count": 19,
      "outputs": []
    },
    {
      "cell_type": "code",
      "metadata": {
        "id": "OFFbKouVlBa0"
      },
      "source": [
        "students_by_initial2 = {}\n",
        "for name in grades.keys():\n",
        "    if name[0] in students_by_initial2:\n",
        "        students_by_initial2[name[0]].append(name)\n",
        "    else:\n",
        "        students_by_initial2[name[0]] = [name]"
      ],
      "execution_count": 20,
      "outputs": []
    }
  ]
}