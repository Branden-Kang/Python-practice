{
  "nbformat": 4,
  "nbformat_minor": 0,
  "metadata": {
    "colab": {
      "name": "The Right Way to Access a Dictionary.ipynb",
      "provenance": [],
      "authorship_tag": "ABX9TyOCd3I4HLDdRIOhyYqYlPLZ"
    },
    "kernelspec": {
      "name": "python3",
      "display_name": "Python 3"
    }
  },
  "cells": [
    {
      "cell_type": "markdown",
      "metadata": {
        "id": "DuWh_I8aehH_"
      },
      "source": [
        "[Reference](https://towardsdatascience.com/the-right-way-to-access-a-dictionary-2270e936443e)"
      ]
    },
    {
      "cell_type": "code",
      "metadata": {
        "id": "rUgtPzsfee4a"
      },
      "source": [
        "#A dictionary containing basketball players with their heights in m\n",
        "playersHeight = {\"Lebron James\": 2.06,\n",
        "                 \"Kevin Durant\": 2.08, \n",
        "                 \"Luka Doncic\": 2.01,\n",
        "                 \"James Harden\": 1.96}"
      ],
      "execution_count": 1,
      "outputs": []
    },
    {
      "cell_type": "code",
      "metadata": {
        "id": "OkkV3eftelOp",
        "outputId": "cb8101b2-cd50-4bbc-e32a-52090bba1c78",
        "colab": {
          "base_uri": "https://localhost:8080/"
        }
      },
      "source": [
        "print(playersHeight[\"Lebron James\"]) #print 2.06\n",
        "print(playersHeight[\"Kevin Durant\"]) #print 2.08\n",
        "print(playersHeight[\"Luka Doncic\"]) #print 2.01\n",
        "print(playersHeight[\"James Harden\"]) #print 1.96"
      ],
      "execution_count": 2,
      "outputs": [
        {
          "output_type": "stream",
          "text": [
            "2.06\n",
            "2.08\n",
            "2.01\n",
            "1.96\n"
          ],
          "name": "stdout"
        }
      ]
    },
    {
      "cell_type": "code",
      "metadata": {
        "id": "e6WEylV3eoRN",
        "outputId": "465bc36d-c36e-449d-fa3c-e1f762d4d9d6",
        "colab": {
          "base_uri": "https://localhost:8080/",
          "height": 198
        }
      },
      "source": [
        "playersHeight[\"Kyrie Irving\"] #KeyError 'Kyrie Irving'"
      ],
      "execution_count": 3,
      "outputs": [
        {
          "output_type": "error",
          "ename": "KeyError",
          "evalue": "ignored",
          "traceback": [
            "\u001b[0;31m---------------------------------------------------------------------------\u001b[0m",
            "\u001b[0;31mKeyError\u001b[0m                                  Traceback (most recent call last)",
            "\u001b[0;32m<ipython-input-3-cf69219657b9>\u001b[0m in \u001b[0;36m<module>\u001b[0;34m()\u001b[0m\n\u001b[0;32m----> 1\u001b[0;31m \u001b[0mplayersHeight\u001b[0m\u001b[0;34m[\u001b[0m\u001b[0;34m\"Kyrie Irving\"\u001b[0m\u001b[0;34m]\u001b[0m \u001b[0;31m#KeyError 'Kyrie Irving'\u001b[0m\u001b[0;34m\u001b[0m\u001b[0;34m\u001b[0m\u001b[0m\n\u001b[0m",
            "\u001b[0;31mKeyError\u001b[0m: 'Kyrie Irving'"
          ]
        }
      ]
    },
    {
      "cell_type": "code",
      "metadata": {
        "id": "K2RcjoZEepiN"
      },
      "source": [
        "if \"Kyrie Irving\" in playersHeight:\n",
        "    print(playersHeight[\"Kyrie Irving\"])"
      ],
      "execution_count": 8,
      "outputs": []
    },
    {
      "cell_type": "code",
      "metadata": {
        "id": "Fqyzjgdeesm3",
        "outputId": "71bb03ed-c666-4c63-aec4-e0534831cb8e",
        "colab": {
          "base_uri": "https://localhost:8080/"
        }
      },
      "source": [
        "try:\n",
        "    print(\"Kyrie Irving\")\n",
        "except KeyError as message:\n",
        "    print(message) #'Kyrie Irving'"
      ],
      "execution_count": 5,
      "outputs": [
        {
          "output_type": "stream",
          "text": [
            "Kyrie Irving\n"
          ],
          "name": "stdout"
        }
      ]
    },
    {
      "cell_type": "code",
      "metadata": {
        "id": "WYU-K8p0ettd",
        "outputId": "8b976298-2812-44bc-d03b-37fd76289a7a",
        "colab": {
          "base_uri": "https://localhost:8080/"
        }
      },
      "source": [
        "#A dictionary containing basketball players with their heights in m\n",
        "playersHeight = {\"Lebron James\": 2.06,\n",
        "                 \"Kevin Durant\": 2.08,\n",
        "                 \"Luka Doncic\": 2.01,\n",
        "                 \"James Harden\": 1.96}#If the key exists\n",
        "                 \n",
        "print(playersHeight.get(\"Lebron James\", 0)) #print 2.06\n",
        "print(playersHeight.get(\"Kevin Durant\", 0)) #print 2.08#If the key does not exist\n",
        "print(playersHeight.get(\"Kyrie Irving\", 0)) #print 0\n",
        "print(playersHeight.get(\"Trae Young\", 0)) #print 0"
      ],
      "execution_count": 9,
      "outputs": [
        {
          "output_type": "stream",
          "text": [
            "2.06\n",
            "2.08\n",
            "0\n",
            "0\n"
          ],
          "name": "stdout"
        }
      ]
    },
    {
      "cell_type": "code",
      "metadata": {
        "id": "DUOVuDdne8wH",
        "outputId": "22342a70-bc35-45fc-94d3-278b9d8cf009",
        "colab": {
          "base_uri": "https://localhost:8080/"
        }
      },
      "source": [
        "#A dictionary containing basketball players with their heights in m\n",
        "playersHeight = {\"Lebron James\": 2.06,\n",
        "                 \"Kevin Durant\": 2.08,\n",
        "                 \"Luka Doncic\": 2.01,\n",
        "                 \"James Harden\": 1.96}#If the key exists\n",
        "print(playersHeight.setdefault(\"Lebron James\", 0)) #print 2.06\n",
        "print(playersHeight.setdefault(\"Kevin Durant\", 0)) #print 2.08#If the key does not exist\n",
        "print(playersHeight.setdefault(\"Kyrie Irving\", 0)) #print 0\n",
        "print(playersHeight.setdefault(\"Trae Young\", 0)) #print 0"
      ],
      "execution_count": 10,
      "outputs": [
        {
          "output_type": "stream",
          "text": [
            "2.06\n",
            "2.08\n",
            "0\n",
            "0\n"
          ],
          "name": "stdout"
        }
      ]
    },
    {
      "cell_type": "code",
      "metadata": {
        "id": "io9MChV8fCex",
        "outputId": "b69ac981-48dd-4ed8-a471-c951b46ed5a1",
        "colab": {
          "base_uri": "https://localhost:8080/"
        }
      },
      "source": [
        "print(playersHeight)"
      ],
      "execution_count": 11,
      "outputs": [
        {
          "output_type": "stream",
          "text": [
            "{'Lebron James': 2.06, 'Kevin Durant': 2.08, 'Luka Doncic': 2.01, 'James Harden': 1.96, 'Kyrie Irving': 0, 'Trae Young': 0}\n"
          ],
          "name": "stdout"
        }
      ]
    }
  ]
}