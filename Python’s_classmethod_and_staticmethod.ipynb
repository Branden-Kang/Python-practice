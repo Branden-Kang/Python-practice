{
  "nbformat": 4,
  "nbformat_minor": 0,
  "metadata": {
    "colab": {
      "name": "Python’s @classmethod and @staticmethod.ipynb",
      "provenance": [],
      "authorship_tag": "ABX9TyOl53HPdgkc6sad5VuOjH9y"
    },
    "kernelspec": {
      "name": "python3",
      "display_name": "Python 3"
    },
    "language_info": {
      "name": "python"
    }
  },
  "cells": [
    {
      "cell_type": "markdown",
      "metadata": {
        "id": "2bbMHvlLydc-"
      },
      "source": [
        "[Reference](https://dongr0510.medium.com/how-to-use-pythons-classmethod-and-staticmethod-c1c343981d50)"
      ]
    },
    {
      "cell_type": "code",
      "metadata": {
        "id": "6b5cMw7sya8W"
      },
      "source": [
        "class Student(object):      \n",
        "    def __init__(self, first_name, last_name): \n",
        "            self.first_name = first_name         \n",
        "            self.last_name = last_name  \n",
        "            \n",
        "scott = Student('Scott',  'Robinson')"
      ],
      "execution_count": 1,
      "outputs": []
    },
    {
      "cell_type": "code",
      "metadata": {
        "id": "U1BzKylvyrX4"
      },
      "source": [
        "class Student(object):          \n",
        "\n",
        "    def __init__(self, first_name, last_name): \n",
        "            self.first_name = first_name         \n",
        "            self.last_name = last_name  \n",
        "            \n",
        "\n",
        "    @classmethod     \n",
        "    def from_string(cls, name_str):         \n",
        "        first_name, last_name = map(str, name_str.split(' '))\n",
        "        student = cls(first_name, last_name)         \n",
        "        return student  \n",
        "        \n",
        "scott = Student.from_string('Scott Robinson')"
      ],
      "execution_count": 4,
      "outputs": []
    },
    {
      "cell_type": "code",
      "metadata": {
        "colab": {
          "base_uri": "https://localhost:8080/"
        },
        "id": "t8D36sQMyt0k",
        "outputId": "de89723f-a6ad-4656-fd17-829be56ddaa2"
      },
      "source": [
        "class Student(object):\n",
        "\n",
        "    @staticmethod\n",
        "    def is_full_name(name_str):\n",
        "        names = name_str.split(' ')\n",
        "        return len(names) > 1\n",
        "\n",
        "Student.is_full_name('Scott Robinson')   # True\n",
        "Student.is_full_name('Scott')            # False"
      ],
      "execution_count": 5,
      "outputs": [
        {
          "output_type": "execute_result",
          "data": {
            "text/plain": [
              "False"
            ]
          },
          "metadata": {
            "tags": []
          },
          "execution_count": 5
        }
      ]
    },
    {
      "cell_type": "code",
      "metadata": {
        "colab": {
          "base_uri": "https://localhost:8080/"
        },
        "id": "gqGf4d1vy5WZ",
        "outputId": "351881b3-9140-4b40-d69e-fc20756d4a2f"
      },
      "source": [
        "class ClassGrades:      \n",
        "    def __init__(self, grades):         \n",
        "        self.grades = grades      \n",
        "    @classmethod     \n",
        "    def from_csv(cls, grade_csv_str):         \n",
        "        grades = map(int, grade_csv_str.split(', '))\n",
        "        cls.validate(grades)         \n",
        "        return cls(grades)       \n",
        "    @staticmethod     \n",
        "    def validate(grades):         \n",
        "        for g in grades:             \n",
        "            if g < 0 or g > 100:                 \n",
        "                raise Exception()  \n",
        "try:     \n",
        "    # Try out some valid grades     \n",
        "    class_grades_valid = ClassGrades.from_csv('92, 83, 82, 93, 79')\n",
        "    print('Got grades:', class_grades_valid.grades)\n",
        "      \n",
        "    # Should fail with invalid grades     \n",
        "    class_grades_invalid = ClassGrades.from_csv('91, -19, 98, 104, 72, 65, 100')     \n",
        "    print(class_grades_invalid.grades)\n",
        "except:     \n",
        "    print('Invalid!')"
      ],
      "execution_count": 7,
      "outputs": [
        {
          "output_type": "stream",
          "text": [
            "Got grades: <map object at 0x7fb348049f10>\n",
            "Invalid!\n"
          ],
          "name": "stdout"
        }
      ]
    }
  ]
}