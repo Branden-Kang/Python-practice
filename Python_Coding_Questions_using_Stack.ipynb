{
  "nbformat": 4,
  "nbformat_minor": 0,
  "metadata": {
    "colab": {
      "name": "Python Coding Questions using Stack.ipynb",
      "provenance": [],
      "authorship_tag": "ABX9TyNpiQ7+f1OHEjOwPJiriWjP"
    },
    "kernelspec": {
      "name": "python3",
      "display_name": "Python 3"
    }
  },
  "cells": [
    {
      "cell_type": "markdown",
      "metadata": {
        "id": "UiNckSytAJAd"
      },
      "source": [
        "[Reference](https://towardsdatascience.com/how-to-solve-python-coding-questions-using-stack-94571f31af3f)"
      ]
    },
    {
      "cell_type": "code",
      "metadata": {
        "id": "ZGnpRr6-_nSU"
      },
      "source": [
        "stack = []          # create an empty stack\n",
        "stack.append('a')   # push 'a' to the stack\n",
        "stack.append('b')   # push 'b' to the stack\n",
        "stack.append('c')   # push 'c' to the stack"
      ],
      "execution_count": 3,
      "outputs": []
    },
    {
      "cell_type": "code",
      "metadata": {
        "colab": {
          "base_uri": "https://localhost:8080/"
        },
        "id": "heALW_OEAWSL",
        "outputId": "58ae30f5-525a-4cd5-e6da-f55df097c33e"
      },
      "source": [
        "print(stack)"
      ],
      "execution_count": 4,
      "outputs": [
        {
          "output_type": "stream",
          "text": [
            "['a', 'b', 'c']\n"
          ],
          "name": "stdout"
        }
      ]
    },
    {
      "cell_type": "code",
      "metadata": {
        "colab": {
          "base_uri": "https://localhost:8080/",
          "height": 37
        },
        "id": "DS2ipGGFAXq0",
        "outputId": "ec58ce16-defd-4cb1-c975-81ad2915d119"
      },
      "source": [
        "stack.pop()   "
      ],
      "execution_count": 5,
      "outputs": [
        {
          "output_type": "execute_result",
          "data": {
            "application/vnd.google.colaboratory.intrinsic+json": {
              "type": "string"
            },
            "text/plain": [
              "'c'"
            ]
          },
          "metadata": {
            "tags": []
          },
          "execution_count": 5
        }
      ]
    },
    {
      "cell_type": "code",
      "metadata": {
        "colab": {
          "base_uri": "https://localhost:8080/",
          "height": 37
        },
        "id": "5uUA4frFAYgA",
        "outputId": "e82b0541-7abf-47fe-b392-e3fe462ece26"
      },
      "source": [
        "stack.pop()"
      ],
      "execution_count": 6,
      "outputs": [
        {
          "output_type": "execute_result",
          "data": {
            "application/vnd.google.colaboratory.intrinsic+json": {
              "type": "string"
            },
            "text/plain": [
              "'b'"
            ]
          },
          "metadata": {
            "tags": []
          },
          "execution_count": 6
        }
      ]
    },
    {
      "cell_type": "code",
      "metadata": {
        "colab": {
          "base_uri": "https://localhost:8080/",
          "height": 37
        },
        "id": "EHM2NmW0Afoo",
        "outputId": "dc1bfe60-8d1b-4389-8e3d-05ec1e9a832b"
      },
      "source": [
        "stack.pop()"
      ],
      "execution_count": 7,
      "outputs": [
        {
          "output_type": "execute_result",
          "data": {
            "application/vnd.google.colaboratory.intrinsic+json": {
              "type": "string"
            },
            "text/plain": [
              "'a'"
            ]
          },
          "metadata": {
            "tags": []
          },
          "execution_count": 7
        }
      ]
    },
    {
      "cell_type": "code",
      "metadata": {
        "colab": {
          "base_uri": "https://localhost:8080/"
        },
        "id": "bv_kMrcaAd65",
        "outputId": "37175c2e-07b5-47b5-f092-866973802801"
      },
      "source": [
        "print(stack)"
      ],
      "execution_count": 8,
      "outputs": [
        {
          "output_type": "stream",
          "text": [
            "[]\n"
          ],
          "name": "stdout"
        }
      ]
    },
    {
      "cell_type": "code",
      "metadata": {
        "colab": {
          "base_uri": "https://localhost:8080/",
          "height": 37
        },
        "id": "2TIgQVCEAg-J",
        "outputId": "b5da8162-0736-4630-87df-cedb2094fbbb"
      },
      "source": [
        "def removeDuplicates(S):\n",
        "    list_1 = []\n",
        "    for i in S:\n",
        "        if list_1 and i==list_1[-1]:\n",
        "            list_1.pop()\n",
        "        else:\n",
        "            list_1.append(i)\n",
        "    return \"\".join(list_1)\n",
        "\n",
        "# test case \n",
        "S = \"abbaca\"\n",
        "removeDuplicates(S)"
      ],
      "execution_count": 9,
      "outputs": [
        {
          "output_type": "execute_result",
          "data": {
            "application/vnd.google.colaboratory.intrinsic+json": {
              "type": "string"
            },
            "text/plain": [
              "'ca'"
            ]
          },
          "metadata": {
            "tags": []
          },
          "execution_count": 9
        }
      ]
    },
    {
      "cell_type": "code",
      "metadata": {
        "colab": {
          "base_uri": "https://localhost:8080/",
          "height": 37
        },
        "id": "dkny7NRaAikK",
        "outputId": "21e39772-ac22-44b5-c8aa-175cb04327c9"
      },
      "source": [
        "def makeGood(s):\n",
        "    stack = []\n",
        "    for i in s: \n",
        "        if stack and stack[-1] != i and stack[-1].lower() == i.lower():\n",
        "            stack.pop()\n",
        "        else:\n",
        "            stack.append(i)\n",
        "    return \"\".join(stack)\n",
        "\n",
        "#test case\n",
        "s = 'leEeetcode'\n",
        "makeGood(s)"
      ],
      "execution_count": 10,
      "outputs": [
        {
          "output_type": "execute_result",
          "data": {
            "application/vnd.google.colaboratory.intrinsic+json": {
              "type": "string"
            },
            "text/plain": [
              "'leetcode'"
            ]
          },
          "metadata": {
            "tags": []
          },
          "execution_count": 10
        }
      ]
    },
    {
      "cell_type": "code",
      "metadata": {
        "colab": {
          "base_uri": "https://localhost:8080/"
        },
        "id": "MUxfvV9zAsP0",
        "outputId": "ade1c84a-5fca-4868-d0b2-59a7dc80168f"
      },
      "source": [
        "def buildArray(target,n):\n",
        "    stack = []\n",
        "    \n",
        "    result = []\n",
        "        \n",
        "    for i in range(1,n+1):\n",
        "        if i in target: \n",
        "            stack.append(i)\n",
        "            result.append('Push')\n",
        "        else:\n",
        "            stack.append(i)\n",
        "            result.append('Push')\n",
        "            stack.pop()\n",
        "            result.append('Pop')\n",
        "                \n",
        "        if stack == target:\n",
        "            break\n",
        "                \n",
        "    return result\n",
        "\n",
        "# test case\n",
        "target = [1,3]\n",
        "n = 3\n",
        "buildArray(target,n)"
      ],
      "execution_count": 11,
      "outputs": [
        {
          "output_type": "execute_result",
          "data": {
            "text/plain": [
              "['Push', 'Push', 'Pop', 'Push']"
            ]
          },
          "metadata": {
            "tags": []
          },
          "execution_count": 11
        }
      ]
    },
    {
      "cell_type": "code",
      "metadata": {
        "colab": {
          "base_uri": "https://localhost:8080/"
        },
        "id": "M8baa9bzA7QA",
        "outputId": "d9bea93a-584c-4817-d020-9f5fe3cb3aa3"
      },
      "source": [
        "def calPoints(ops):\n",
        "    stack = []\n",
        "    for i in ops: \n",
        "        if i == \"+\":\n",
        "            stack.append(stack[-1]+stack[-2])\n",
        "        elif i =='D':\n",
        "            stack.append(stack[-1]*2)\n",
        "        elif i == 'C':\n",
        "            stack.pop()\n",
        "        else:\n",
        "            stack.append(int(i))\n",
        "    return sum(stack)\n",
        "\n",
        "#test case\n",
        "ops = [\"5\",\"2\",\"C\",\"D\",\"+\"]\n",
        "calPoints(ops)"
      ],
      "execution_count": 12,
      "outputs": [
        {
          "output_type": "execute_result",
          "data": {
            "text/plain": [
              "30"
            ]
          },
          "metadata": {
            "tags": []
          },
          "execution_count": 12
        }
      ]
    },
    {
      "cell_type": "code",
      "metadata": {
        "colab": {
          "base_uri": "https://localhost:8080/"
        },
        "id": "NH6YwmSlBPJn",
        "outputId": "4b10bafc-13fc-4a20-ec08-3609cd655ee9"
      },
      "source": [
        "def Next_Greater_Element(nums1,nums2):\n",
        "    \n",
        "    seen = {}\n",
        "    \n",
        "    for index,value in enumerate(nums2):\n",
        "        seen[value]=index\n",
        "        \n",
        "        \n",
        "    result = []\n",
        "        \n",
        "    for i in nums1:\n",
        "        for j in range(seen[i],len(nums2)):\n",
        "            if i < nums2[j]:\n",
        "                result.append(nums2[j])\n",
        "                break\n",
        "        else:\n",
        "            result.append(-1)\n",
        "    return result\n",
        "\n",
        "# test case \n",
        "nums1 = [4,1,2]\n",
        "nums2 = [1,3,4,2]\n",
        "Next_Greater_Element(nums1,nums2)"
      ],
      "execution_count": 13,
      "outputs": [
        {
          "output_type": "execute_result",
          "data": {
            "text/plain": [
              "[-1, 3, -1]"
            ]
          },
          "metadata": {
            "tags": []
          },
          "execution_count": 13
        }
      ]
    },
    {
      "cell_type": "code",
      "metadata": {
        "colab": {
          "base_uri": "https://localhost:8080/"
        },
        "id": "rSV2xaBCBSli",
        "outputId": "175e553f-16c7-40c5-a206-d9bc23eefcfd"
      },
      "source": [
        "def Next_Greater_Element(nums1,nums2):\n",
        "    \n",
        "    stack = []\n",
        "    \n",
        "    ans = {}\n",
        "        \n",
        "    for num in nums2:\n",
        "\n",
        "        while stack and stack[-1] < num:\n",
        "            \n",
        "            anum = stack.pop()\n",
        "            \n",
        "            ans[anum] = num\n",
        "        \n",
        "        else:\n",
        "            stack.append(num)\n",
        "\n",
        "    return([ans.get(i,-1) for i in nums1]) # get i's value or return -1 if it does not exist\n",
        "\n",
        "# test case \n",
        "nums1 = [4,1,2]\n",
        "nums2 = [1,3,4,2]\n",
        "Next_Greater_Element(nums1,nums2)"
      ],
      "execution_count": 14,
      "outputs": [
        {
          "output_type": "execute_result",
          "data": {
            "text/plain": [
              "[-1, 3, -1]"
            ]
          },
          "metadata": {
            "tags": []
          },
          "execution_count": 14
        }
      ]
    }
  ]
}