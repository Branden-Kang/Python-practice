{
  "nbformat": 4,
  "nbformat_minor": 0,
  "metadata": {
    "colab": {
      "name": "Exception Handling in Python.ipynb",
      "provenance": [],
      "authorship_tag": "ABX9TyNBOUz1uEYnsVP8TtUBxpC3"
    },
    "kernelspec": {
      "name": "python3",
      "display_name": "Python 3"
    }
  },
  "cells": [
    {
      "cell_type": "markdown",
      "metadata": {
        "id": "h5AGcA8trWC7"
      },
      "source": [
        "[Reference](https://medium.com/analytics-vidhya/exception-handling-in-python-881a4fec70c3)"
      ]
    },
    {
      "cell_type": "code",
      "metadata": {
        "id": "9mSWDMQHrSBM",
        "outputId": "56760b25-e088-46ec-abdc-3b444f28e8b0",
        "colab": {
          "base_uri": "https://localhost:8080/"
        }
      },
      "source": [
        "#Take teo variable a,b print(a/b) run the code till both the value \n",
        "#will be taken integer otherwise print the exception\n",
        "\n",
        "while True:\n",
        "    try:\n",
        "        a=int(input())\n",
        "        b=int(input())\n",
        "        c=a/b\n",
        "        print(c)\n",
        "        break\n",
        "    except:\n",
        "        print(\"Invalid input\")\n",
        "        continue"
      ],
      "execution_count": 1,
      "outputs": [
        {
          "output_type": "stream",
          "text": [
            "1\n",
            "2\n",
            "0.5\n"
          ],
          "name": "stdout"
        }
      ]
    },
    {
      "cell_type": "code",
      "metadata": {
        "id": "CXeBQNfurai4",
        "outputId": "adb29671-bcc9-4337-9895-3fedfb01ed34",
        "colab": {
          "base_uri": "https://localhost:8080/"
        }
      },
      "source": [
        "try:\n",
        "    a=int(input())\n",
        "    print(a/0)\n",
        "except IOError:\n",
        "    print(\"This is an i/0 error\")\n",
        "except ValueError:\n",
        "    print(\"You have taken Invalid Error\")\n",
        "except ZeroDivisionError:\n",
        "    print(\"Error occured because variable is divided by Zero\")"
      ],
      "execution_count": 2,
      "outputs": [
        {
          "output_type": "stream",
          "text": [
            "1\n",
            "Error occured because variable is divided by Zero\n"
          ],
          "name": "stdout"
        }
      ]
    },
    {
      "cell_type": "code",
      "metadata": {
        "id": "ZS2M59mSrhqy",
        "outputId": "e084fdcf-292d-4fef-9950-30b3cfc3b66f",
        "colab": {
          "base_uri": "https://localhost:8080/"
        }
      },
      "source": [
        "#nested try except \n",
        "\n",
        "try:\n",
        "    a=int(input())\n",
        "    b=int(input())\n",
        "    c=a/b\n",
        "    print(c)\n",
        "    try:\n",
        "        d=int(input())\n",
        "        print(d*2)\n",
        "    except:\n",
        "        print(\"You have taken invalid input\")\n",
        "except:\n",
        "    print(\"You should again check your input\")"
      ],
      "execution_count": 4,
      "outputs": [
        {
          "output_type": "stream",
          "text": [
            "1\n",
            "2\n",
            "0.5\n",
            "3\n",
            "6\n"
          ],
          "name": "stdout"
        }
      ]
    },
    {
      "cell_type": "code",
      "metadata": {
        "id": "WgaLEIUCrlX0",
        "outputId": "d459a866-6602-4b88-96a2-fc60545c68fa",
        "colab": {
          "base_uri": "https://localhost:8080/"
        }
      },
      "source": [
        "try:\n",
        "    a=int(input())\n",
        "    b=int(input())\n",
        "    c=a/b\n",
        "    print(c)\n",
        "except:\n",
        "    print(\"You have given invalid credentials\")\n",
        "else:\n",
        "    print(\"it will be excuted when try block will execute\")\n",
        "finally:\n",
        "    print(\"It will execute every time\")"
      ],
      "execution_count": 5,
      "outputs": [
        {
          "output_type": "stream",
          "text": [
            "1\n",
            "\n",
            "You have given invalid credentials\n",
            "It will execute every time\n"
          ],
          "name": "stdout"
        }
      ]
    },
    {
      "cell_type": "code",
      "metadata": {
        "id": "rRY1Zytfrqi3",
        "outputId": "b0a45869-2051-46f3-be74-2dd29b585335",
        "colab": {
          "base_uri": "https://localhost:8080/"
        }
      },
      "source": [
        "#creating my own exception\n",
        "#let's create any number divisible by 1 will give OneDivisionError\n",
        "\n",
        "class OneDivisionError(Exception):\n",
        "    pass\n",
        "try:\n",
        "    a=int(input())\n",
        "    b=int(input())\n",
        "    c=a/b\n",
        "    print(c)\n",
        "    if b==1:\n",
        "        raise OneDivisionError\n",
        "except OneDivisionError:\n",
        "    print(\"This is User created exception\")"
      ],
      "execution_count": 6,
      "outputs": [
        {
          "output_type": "stream",
          "text": [
            "12\n",
            "1\n",
            "12.0\n",
            "This is User created exception\n"
          ],
          "name": "stdout"
        }
      ]
    }
  ]
}