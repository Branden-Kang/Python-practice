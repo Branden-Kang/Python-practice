{
  "nbformat": 4,
  "nbformat_minor": 0,
  "metadata": {
    "colab": {
      "provenance": [],
      "authorship_tag": "ABX9TyMaHWSCxlq61DwZGOSX1sRK"
    },
    "kernelspec": {
      "name": "python3",
      "display_name": "Python 3"
    },
    "language_info": {
      "name": "python"
    }
  },
  "cells": [
    {
      "cell_type": "markdown",
      "source": [
        "[Reference](https://ishanjain-ai.medium.com/types-of-missing-values-in-data-059943a88339)"
      ],
      "metadata": {
        "id": "s3E8KyyGAtQh"
      }
    },
    {
      "cell_type": "markdown",
      "source": [
        "# 1. Missing Completely at Random (MCAR):"
      ],
      "metadata": {
        "id": "7MECDhUlAvuN"
      }
    },
    {
      "cell_type": "code",
      "execution_count": 7,
      "metadata": {
        "colab": {
          "base_uri": "https://localhost:8080/"
        },
        "id": "uD8bDXj5Am57",
        "outputId": "4b209f40-4c90-4f96-97cd-45a430a3cfe2"
      },
      "outputs": [
        {
          "output_type": "stream",
          "name": "stdout",
          "text": [
            "MCAR hypothesis not rejected\n"
          ]
        }
      ],
      "source": [
        "import pandas as pd\n",
        "import numpy as np\n",
        "from scipy.stats import chi2_contingency\n",
        "\n",
        "# Create a DataFrame with missing data (example)\n",
        "data = pd.DataFrame({\n",
        "    'A': [1, 2, np.nan, 4, 5],\n",
        "    'B': [np.nan, 2, 3, 4, 5]\n",
        "})\n",
        "\n",
        "# Create missingness indicator variables\n",
        "data['A_missing'] = data['A'].isnull().astype(int)\n",
        "data['B_missing'] = data['B'].isnull().astype(int)\n",
        "\n",
        "# Perform chi-squared test to check independence\n",
        "chi2, p, _, _ = chi2_contingency(pd.crosstab(data['A_missing'], data['B_missing']))\n",
        "if p < 0.05:\n",
        "    print(\"MCAR hypothesis rejected\")\n",
        "else:\n",
        "    print(\"MCAR hypothesis not rejected\")"
      ]
    },
    {
      "cell_type": "markdown",
      "source": [
        "# 2. Missing at Random (MAR):"
      ],
      "metadata": {
        "id": "8Cy7usUIA1d2"
      }
    },
    {
      "cell_type": "code",
      "source": [
        "import pandas as pd\n",
        "from sklearn.linear_model import LogisticRegression\n",
        "\n",
        "# Create a DataFrame with missing data (example)\n",
        "data = pd.DataFrame({\n",
        "    'A': [1, 2, 3, 4, 5],\n",
        "    'B': [np.nan, 2, 3, np.nan, 5],\n",
        "    'C': [1, np.nan, 3, 4, np.nan]\n",
        "})\n",
        "\n",
        "# Create a binary variable indicating missingness in 'B'\n",
        "data['B_missing'] = data['B'].isnull().astype(int)\n",
        "\n",
        "# Train a logistic regression model to predict 'B_missing' based on 'A' and 'C'\n",
        "model = LogisticRegression()\n",
        "model.fit(data[['A', 'C']].isnull().astype(int), data['B_missing'])\n",
        "coefficients = model.coef_\n",
        "\n",
        "if coefficients[0][0] != 0 or coefficients[0][1] != 0:\n",
        "    print(\"MAR hypothesis rejected\")\n",
        "else:\n",
        "    print(\"MAR hypothesis not rejected\")"
      ],
      "metadata": {
        "colab": {
          "base_uri": "https://localhost:8080/"
        },
        "id": "1-Qi-uhOAy4L",
        "outputId": "587c6003-4497-48f3-c0c4-07995047f55e"
      },
      "execution_count": 5,
      "outputs": [
        {
          "output_type": "stream",
          "name": "stdout",
          "text": [
            "MAR hypothesis rejected\n"
          ]
        }
      ]
    }
  ]
}