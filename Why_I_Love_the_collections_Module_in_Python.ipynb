{
  "nbformat": 4,
  "nbformat_minor": 0,
  "metadata": {
    "colab": {
      "provenance": [],
      "authorship_tag": "ABX9TyMJWk1b4v/bpGraTg7dr3Ci"
    },
    "kernelspec": {
      "name": "python3",
      "display_name": "Python 3"
    },
    "language_info": {
      "name": "python"
    }
  },
  "cells": [
    {
      "cell_type": "markdown",
      "source": [
        "[Reference](https://medium.com/@tricky16122000/why-i-love-the-collections-module-in-python-9148f7ca4eef)"
      ],
      "metadata": {
        "id": "Mo7TCyQ30Yhf"
      }
    },
    {
      "cell_type": "markdown",
      "source": [
        "# Counter: The \"Why was I doing this manually?\" moment"
      ],
      "metadata": {
        "id": "NHeacJCT0jbM"
      }
    },
    {
      "cell_type": "code",
      "execution_count": 1,
      "metadata": {
        "colab": {
          "base_uri": "https://localhost:8080/"
        },
        "id": "oVSwojjN0H2c",
        "outputId": "6d288ccd-c807-4c94-944a-7cb89b553e0e"
      },
      "outputs": [
        {
          "output_type": "stream",
          "name": "stdout",
          "text": [
            "[('192.168.0.1', 3)]\n"
          ]
        }
      ],
      "source": [
        "from collections import Counter\n",
        "\n",
        "logs = [\"192.168.0.1\", \"192.168.0.2\", \"192.168.0.1\", \"192.168.0.3\", \"192.168.0.1\"]\n",
        "counts = Counter(logs)\n",
        "print(counts.most_common(1))"
      ]
    },
    {
      "cell_type": "markdown",
      "source": [
        "# namedtuple: When you’re too fancy for regular tuples"
      ],
      "metadata": {
        "id": "Ggpgv-j80lTK"
      }
    },
    {
      "cell_type": "code",
      "source": [
        "from collections import namedtuple\n",
        "\n",
        "Point = namedtuple(\"Point\", [\"x\", \"y\"])\n",
        "p = Point(10, 20)\n",
        "print(p.x, p.y)"
      ],
      "metadata": {
        "colab": {
          "base_uri": "https://localhost:8080/"
        },
        "id": "3IcDyW0h0e0z",
        "outputId": "a44924d7-a3f0-43e5-98d0-5964cbfa4d36"
      },
      "execution_count": 2,
      "outputs": [
        {
          "output_type": "stream",
          "name": "stdout",
          "text": [
            "10 20\n"
          ]
        }
      ]
    },
    {
      "cell_type": "markdown",
      "source": [
        "# deque: Because lists hate the left side"
      ],
      "metadata": {
        "id": "aSyKpQlf0s40"
      }
    },
    {
      "cell_type": "code",
      "source": [
        "from collections import deque\n",
        "\n",
        "queue = deque([1, 2, 3])\n",
        "queue.appendleft(0)\n",
        "queue.pop()\n",
        "print(queue)"
      ],
      "metadata": {
        "colab": {
          "base_uri": "https://localhost:8080/"
        },
        "id": "Yo0RrGB10nML",
        "outputId": "69377f39-024d-458f-b718-2dfc082ece8a"
      },
      "execution_count": 3,
      "outputs": [
        {
          "output_type": "stream",
          "name": "stdout",
          "text": [
            "deque([0, 1, 2])\n"
          ]
        }
      ]
    }
  ]
}