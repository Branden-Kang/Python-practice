{
  "nbformat": 4,
  "nbformat_minor": 0,
  "metadata": {
    "colab": {
      "name": "Python Decorators.ipynb",
      "provenance": [],
      "authorship_tag": "ABX9TyNv3DO8d6C+xlCDv6MynYoK"
    },
    "kernelspec": {
      "name": "python3",
      "display_name": "Python 3"
    }
  },
  "cells": [
    {
      "cell_type": "markdown",
      "metadata": {
        "id": "U5-kDOWd1WE6",
        "colab_type": "text"
      },
      "source": [
        "[Reference](https://medium.com/better-programming/python-decorators-5-advanced-features-to-know-17dd9be7517b)"
      ]
    },
    {
      "cell_type": "code",
      "metadata": {
        "id": "7MC7ueO71ScB",
        "colab_type": "code",
        "colab": {
          "base_uri": "https://localhost:8080/",
          "height": 34
        },
        "outputId": "fcfeb405-3cda-411c-c171-5e6b9d1742fc"
      },
      "source": [
        "import time\n",
        "def logging_time(func):\n",
        "  \"\"\"Decorator that logs time\"\"\"\n",
        "  def logger():\n",
        "    \"\"\"Function that logs time\"\"\"\n",
        "    start = time.time()\n",
        "    func()\n",
        "    print(f\"Calling {func.__name__}: {time.time() - start:.5f}\")\n",
        "\n",
        "  return logger\n",
        "\n",
        "@logging_time\n",
        "def calculate_sum():\n",
        "  return sum(range(10000))\n",
        "\n",
        "calculate_sum()"
      ],
      "execution_count": 1,
      "outputs": [
        {
          "output_type": "stream",
          "text": [
            "Calling calculate_sum: 0.00017\n"
          ],
          "name": "stdout"
        }
      ]
    },
    {
      "cell_type": "code",
      "metadata": {
        "id": "9wF0Xaba1kr3",
        "colab_type": "code",
        "colab": {
          "base_uri": "https://localhost:8080/",
          "height": 232
        },
        "outputId": "04ef7b26-1b88-4959-dfbe-18ddafc24c6a"
      },
      "source": [
        "@logging_time\n",
        "def calculate_sum_n(n):\n",
        "  return sum(range(n))\n",
        "calculate_sum_n(10000)"
      ],
      "execution_count": 3,
      "outputs": [
        {
          "output_type": "error",
          "ename": "TypeError",
          "evalue": "ignored",
          "traceback": [
            "\u001b[0;31m---------------------------------------------------------------------------\u001b[0m",
            "\u001b[0;31mTypeError\u001b[0m                                 Traceback (most recent call last)",
            "\u001b[0;32m<ipython-input-3-e43279552c89>\u001b[0m in \u001b[0;36m<module>\u001b[0;34m()\u001b[0m\n\u001b[1;32m      2\u001b[0m \u001b[0;32mdef\u001b[0m \u001b[0mcalculate_sum_n\u001b[0m\u001b[0;34m(\u001b[0m\u001b[0mn\u001b[0m\u001b[0;34m)\u001b[0m\u001b[0;34m:\u001b[0m\u001b[0;34m\u001b[0m\u001b[0;34m\u001b[0m\u001b[0m\n\u001b[1;32m      3\u001b[0m   \u001b[0;32mreturn\u001b[0m \u001b[0msum\u001b[0m\u001b[0;34m(\u001b[0m\u001b[0mrange\u001b[0m\u001b[0;34m(\u001b[0m\u001b[0mn\u001b[0m\u001b[0;34m)\u001b[0m\u001b[0;34m)\u001b[0m\u001b[0;34m\u001b[0m\u001b[0;34m\u001b[0m\u001b[0m\n\u001b[0;32m----> 4\u001b[0;31m \u001b[0mcalculate_sum_n\u001b[0m\u001b[0;34m(\u001b[0m\u001b[0;36m10000\u001b[0m\u001b[0;34m)\u001b[0m\u001b[0;34m\u001b[0m\u001b[0;34m\u001b[0m\u001b[0m\n\u001b[0m",
            "\u001b[0;31mTypeError\u001b[0m: logger() takes 0 positional arguments but 1 was given"
          ]
        }
      ]
    },
    {
      "cell_type": "code",
      "metadata": {
        "id": "0E1zrp2xAe9I",
        "colab_type": "code",
        "colab": {}
      },
      "source": [
        "import time\n",
        "def logging_time(func):\n",
        "  \"\"\"Decorator that logs time\"\"\"\n",
        "  def logger(*args, **kwargs):\n",
        "    \"\"\"Function that logs time\"\"\"\n",
        "    start = time.time()\n",
        "    func(*args, **kwargs)\n",
        "    print(f\"Calling {func.__name__}: {time.time() - start:.5f}\")\n",
        "\n",
        "  return logger"
      ],
      "execution_count": 8,
      "outputs": []
    },
    {
      "cell_type": "code",
      "metadata": {
        "id": "vASj18A6Asxg",
        "colab_type": "code",
        "colab": {
          "base_uri": "https://localhost:8080/",
          "height": 68
        },
        "outputId": "0e518f3f-0286-4cd8-acc0-6e20605efe9f"
      },
      "source": [
        "@logging_time\n",
        "def calculate_sum_n(n):\n",
        "  return sum(range(n))\n",
        "calculate_sum_n(10000)\n",
        "\n",
        "@logging_time\n",
        "def say_hi(whom, greeting=\"Hello\"):\n",
        "  print(f\"{greeting}, {whom}!\")\n",
        "say_hi(\"John\", greeting=\"Hi\")"
      ],
      "execution_count": 9,
      "outputs": [
        {
          "output_type": "stream",
          "text": [
            "Calling calculate_sum_n: 0.00019\n",
            "Hi, John!\n",
            "Calling say_hi: 0.00027\n"
          ],
          "name": "stdout"
        }
      ]
    },
    {
      "cell_type": "code",
      "metadata": {
        "id": "3GA_qcIoA3Ph",
        "colab_type": "code",
        "colab": {
          "base_uri": "https://localhost:8080/",
          "height": 34
        },
        "outputId": "fe467177-eb42-45f6-bfc5-c8ffd27a1dbc"
      },
      "source": [
        "@logging_time\n",
        "def say_hello(whom):\n",
        "  \"\"\"Greet someone\"\"\"\n",
        "  print(f\"Hello, {whom}!\")\n",
        "\n",
        "print(say_hello.__doc__)"
      ],
      "execution_count": 10,
      "outputs": [
        {
          "output_type": "stream",
          "text": [
            "Function that logs time\n"
          ],
          "name": "stdout"
        }
      ]
    },
    {
      "cell_type": "code",
      "metadata": {
        "id": "mXdaB0qlBSi-",
        "colab_type": "code",
        "colab": {}
      },
      "source": [
        "import time\n",
        "from functools import wraps\n",
        "\n",
        "def logging_time(func):\n",
        "  \"\"\"Decorator that logs time\"\"\"\n",
        "  @wraps(func)\n",
        "  def logger(*args, **kwargs):\n",
        "    \"\"\"Function that logs time\"\"\"\n",
        "    start = time.time()\n",
        "    func(*args, **kwargs)\n",
        "    print(f\"Calling {func.__name__}: {time.time() - start:.5f}\")\n",
        "\n",
        "  return logger"
      ],
      "execution_count": 11,
      "outputs": []
    },
    {
      "cell_type": "code",
      "metadata": {
        "id": "ecW21kV0BJEy",
        "colab_type": "code",
        "colab": {
          "base_uri": "https://localhost:8080/",
          "height": 34
        },
        "outputId": "2e2178f0-7018-4a8a-da13-0dc12b7c1612"
      },
      "source": [
        "@logging_time\n",
        "def say_hello(whom):\n",
        "  \"\"\"Greet someone\"\"\"\n",
        "  print(f\"Hello, {whom}!\")\n",
        "\n",
        "print(say_hello.__doc__)"
      ],
      "execution_count": 12,
      "outputs": [
        {
          "output_type": "stream",
          "text": [
            "Greet someone\n"
          ],
          "name": "stdout"
        }
      ]
    },
    {
      "cell_type": "code",
      "metadata": {
        "id": "xFbtq9TxBaB0",
        "colab_type": "code",
        "colab": {}
      },
      "source": [
        "import time\n",
        "from functools import wraps\n",
        "\n",
        "def logging_time(unit):\n",
        "  \"\"\"Decorator that logs time\"\"\"\n",
        "  def logger(func):\n",
        "    @wraps(func)\n",
        "    def inner_logger(*args, **kwargs):\n",
        "      \"\"\"Function that logs time\"\"\"\n",
        "      start = time.time()\n",
        "      func(*args, **kwargs)\n",
        "      scaling = 1000 if unit == \"ms\" else 1\n",
        "      print(f\"Calling {func.__name__}: {(time.time() - start)* scaling:.5f}\")\n",
        "      \n",
        "    return inner_logger\n",
        "  \n",
        "  return logger"
      ],
      "execution_count": 19,
      "outputs": []
    },
    {
      "cell_type": "code",
      "metadata": {
        "id": "uU78ustTB2AW",
        "colab_type": "code",
        "colab": {
          "base_uri": "https://localhost:8080/",
          "height": 34
        },
        "outputId": "85f54716-982b-4d7e-a4c2-a6c8c1ee872f"
      },
      "source": [
        "@logging_time(\"ms\")\n",
        "def calculate_sum_ms(n):\n",
        "  \"\"\"Calculate sum of 0 to n-1\"\"\"\n",
        "  return sum(range(n))\n",
        "calculate_sum_ms(10000)"
      ],
      "execution_count": 20,
      "outputs": [
        {
          "output_type": "stream",
          "text": [
            "Calling calculate_sum_ms: 0.17285\n"
          ],
          "name": "stdout"
        }
      ]
    },
    {
      "cell_type": "code",
      "metadata": {
        "id": "4YGQMDAgCDCi",
        "colab_type": "code",
        "colab": {
          "base_uri": "https://localhost:8080/",
          "height": 34
        },
        "outputId": "757fa7ae-88f4-4279-e4f5-767eec5d7df3"
      },
      "source": [
        "@logging_time(\"s\")\n",
        "def calculate_sum_s(n):\n",
        "  \"\"\"Calculate sum of 0 to n-1\"\"\"\n",
        "  return sum(range(n))\n",
        "calculate_sum_s(10000)"
      ],
      "execution_count": 21,
      "outputs": [
        {
          "output_type": "stream",
          "text": [
            "Calling calculate_sum_s: 0.00019\n"
          ],
          "name": "stdout"
        }
      ]
    },
    {
      "cell_type": "code",
      "metadata": {
        "id": "3fz4CGoqCZf9",
        "colab_type": "code",
        "colab": {}
      },
      "source": [
        "def repeat(func):\n",
        "  \"\"\"Decorator that repeats function call twice\"\"\"\n",
        "  def repeater(*args, **kwargs):\n",
        "    func(*args, **kwargs)\n",
        "    func(*args, **kwargs)\n",
        "  return repeater\n",
        "\n",
        "@logging_time(\"ms\")\n",
        "@repeat\n",
        "def say_hi(whom):\n",
        "  print(f\"Hi,{whom}!\")"
      ],
      "execution_count": 22,
      "outputs": []
    },
    {
      "cell_type": "code",
      "metadata": {
        "id": "iGS2BlS2CrKK",
        "colab_type": "code",
        "colab": {}
      },
      "source": [
        "@logging_time(\"ms\")\n",
        "@repeat\n",
        "def say_hello(whom):\n",
        "  print(f\"Hello,{whom}!\")"
      ],
      "execution_count": 23,
      "outputs": []
    },
    {
      "cell_type": "code",
      "metadata": {
        "id": "1k4EiwftCwt8",
        "colab_type": "code",
        "colab": {
          "base_uri": "https://localhost:8080/",
          "height": 68
        },
        "outputId": "70030398-cbf3-4375-acd8-db8f8964c385"
      },
      "source": [
        "say_hi(\"John\")"
      ],
      "execution_count": 24,
      "outputs": [
        {
          "output_type": "stream",
          "text": [
            "Hi,John!\n",
            "Hi,John!\n",
            "Calling repeater: 7.16472\n"
          ],
          "name": "stdout"
        }
      ]
    },
    {
      "cell_type": "code",
      "metadata": {
        "id": "J-52tyB0Cx85",
        "colab_type": "code",
        "colab": {
          "base_uri": "https://localhost:8080/",
          "height": 68
        },
        "outputId": "3d25f454-d821-44bb-f2b6-cd081b3ec9d4"
      },
      "source": [
        "say_hello(\"Aaron\")"
      ],
      "execution_count": 25,
      "outputs": [
        {
          "output_type": "stream",
          "text": [
            "Hello,Aaron!\n",
            "Hello,Aaron!\n",
            "Calling repeater: 0.30041\n"
          ],
          "name": "stdout"
        }
      ]
    },
    {
      "cell_type": "code",
      "metadata": {
        "id": "Fhd-9LkoCzhC",
        "colab_type": "code",
        "colab": {}
      },
      "source": [
        "class Repeat:\n",
        "  def __init__(self, n):\n",
        "    self.n = n\n",
        "  \n",
        "  def __call__(self, func):\n",
        "    def repeater(*args, **kwargs):\n",
        "      for _ in range(self.n):\n",
        "        func(*args,**kwargs)\n",
        "    return repeater"
      ],
      "execution_count": 26,
      "outputs": []
    },
    {
      "cell_type": "code",
      "metadata": {
        "id": "pJCtRaV9DIHL",
        "colab_type": "code",
        "colab": {}
      },
      "source": [
        "@Repeat(n=2)\n",
        "def morning_greet(person):\n",
        "  print(f\"Good Morning, {person}!\")"
      ],
      "execution_count": 32,
      "outputs": []
    },
    {
      "cell_type": "code",
      "metadata": {
        "id": "K5bw6utHDQJH",
        "colab_type": "code",
        "colab": {}
      },
      "source": [
        "@Repeat(n=3)\n",
        "def afternoon_greet(person):\n",
        "  print(f\"Good Afternoon, {person}!\")"
      ],
      "execution_count": 33,
      "outputs": []
    },
    {
      "cell_type": "code",
      "metadata": {
        "id": "Q_X385qODawx",
        "colab_type": "code",
        "colab": {
          "base_uri": "https://localhost:8080/",
          "height": 51
        },
        "outputId": "9b5b8751-166d-4070-ba24-5ab1c2d4910e"
      },
      "source": [
        "morning_greet(\"Jason\")"
      ],
      "execution_count": 34,
      "outputs": [
        {
          "output_type": "stream",
          "text": [
            "Good Morning, Jason!\n",
            "Good Morning, Jason!\n"
          ],
          "name": "stdout"
        }
      ]
    },
    {
      "cell_type": "code",
      "metadata": {
        "id": "_HJyyaHnDdVt",
        "colab_type": "code",
        "colab": {
          "base_uri": "https://localhost:8080/",
          "height": 68
        },
        "outputId": "3816d7fd-5489-476e-8b24-72902436a432"
      },
      "source": [
        "afternoon_greet(\"Kelly\")"
      ],
      "execution_count": 35,
      "outputs": [
        {
          "output_type": "stream",
          "text": [
            "Good Afternoon, Kelly!\n",
            "Good Afternoon, Kelly!\n",
            "Good Afternoon, Kelly!\n"
          ],
          "name": "stdout"
        }
      ]
    }
  ]
}