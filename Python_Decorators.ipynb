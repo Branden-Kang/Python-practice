{
  "nbformat": 4,
  "nbformat_minor": 0,
  "metadata": {
    "colab": {
      "name": "Python Decorators.ipynb",
      "provenance": [],
      "authorship_tag": "ABX9TyNhGQpARbkbTL9vjprJDGCO"
    },
    "kernelspec": {
      "name": "python3",
      "display_name": "Python 3"
    }
  },
  "cells": [
    {
      "cell_type": "markdown",
      "metadata": {
        "id": "S_gmKBEKQ0kO"
      },
      "source": [
        "[Reference](https://medium.com/analytics-vidhya/python-decorators-a-weapon-to-be-mastered-be310b519ac5)"
      ]
    },
    {
      "cell_type": "code",
      "metadata": {
        "id": "_T2qPUriPqOH",
        "outputId": "f2f24cfc-1d0d-436a-e487-95b3de8e4b7d",
        "colab": {
          "base_uri": "https://localhost:8080/"
        }
      },
      "source": [
        "def parent():\n",
        "    print(\"Inside parent function\")\n",
        "    \n",
        "fun=parent\n",
        "\n",
        "fun()"
      ],
      "execution_count": 1,
      "outputs": [
        {
          "output_type": "stream",
          "text": [
            "Inside parent function\n"
          ],
          "name": "stdout"
        }
      ]
    },
    {
      "cell_type": "code",
      "metadata": {
        "id": "UHbj4pGWQ44k",
        "outputId": "dc3e4ad0-8323-4abf-9bc5-c0339c50d1c5",
        "colab": {
          "base_uri": "https://localhost:8080/"
        }
      },
      "source": [
        "def neighbor():\n",
        "   print(\"Hey, I am neighbor\")\n",
        "   \n",
        "def parent(func):\n",
        "   print(\"hi there!\")\n",
        "   func()\n",
        "\n",
        "fun=parent\n",
        "fun(neighbor)"
      ],
      "execution_count": 2,
      "outputs": [
        {
          "output_type": "stream",
          "text": [
            "hi there!\n",
            "Hey, I am neighbor\n"
          ],
          "name": "stdout"
        }
      ]
    },
    {
      "cell_type": "code",
      "metadata": {
        "id": "2-vr5q9FQ-XT",
        "outputId": "1a1b8871-83f7-41bd-87b3-cc2646481462",
        "colab": {
          "base_uri": "https://localhost:8080/"
        }
      },
      "source": [
        "def neighbor():\n",
        "   print(\"Hey, I am neighbor, where is your son?\")\n",
        "   return 1\n",
        "\n",
        "def parent(func):\n",
        "   print(\"hi there!\")\n",
        "   call = func()   \n",
        "   \n",
        "   # nested function\n",
        "   def son():\n",
        "      print(\"Hi neighbor, I am his son\")   \n",
        "      \n",
        "   # nested function\n",
        "   def daughter():\n",
        "      print(\"Hi neighbor, I am his daughter\")\n",
        "   \n",
        "   if call == 1:\n",
        "      return son\n",
        "   else:\n",
        "      return daughter\n",
        "\n",
        "fun=parent\n",
        "\n",
        "child = fun(neighbor) # returns reference of nested function"
      ],
      "execution_count": 3,
      "outputs": [
        {
          "output_type": "stream",
          "text": [
            "hi there!\n",
            "Hey, I am neighbor, where is your son?\n"
          ],
          "name": "stdout"
        }
      ]
    },
    {
      "cell_type": "code",
      "metadata": {
        "id": "832nKgxbRNe8",
        "outputId": "fba5a1e2-715a-4aa2-d579-1719f97a4a9e",
        "colab": {
          "base_uri": "https://localhost:8080/"
        }
      },
      "source": [
        "child()"
      ],
      "execution_count": 4,
      "outputs": [
        {
          "output_type": "stream",
          "text": [
            "Hi neighbor, I am his son\n"
          ],
          "name": "stdout"
        }
      ]
    },
    {
      "cell_type": "markdown",
      "metadata": {
        "id": "qoALOXEORTA6"
      },
      "source": [
        "# What is Decorator?\n",
        "Decorators are functions which takes another callable (functions, methods and classes) and extends it behavior without explicitly modifying it."
      ]
    },
    {
      "cell_type": "code",
      "metadata": {
        "id": "xfIbVEdVRQFe",
        "outputId": "dc7b5ae1-1e1b-4c99-9ea6-297417c86938",
        "colab": {
          "base_uri": "https://localhost:8080/"
        }
      },
      "source": [
        "def decorator(func):\n",
        "    def wrapper():\n",
        "      print(\"Before the function gets called.\")\n",
        "      func()\n",
        "      print(\"After the function is executed.\")\n",
        "    return wrapper\n",
        "def wrap_me():\n",
        "    print(\"Hello Decorators!\")\n",
        "\n",
        "wrap_me = decorator(wrap_me)\n",
        "wrap_me()"
      ],
      "execution_count": 5,
      "outputs": [
        {
          "output_type": "stream",
          "text": [
            "Before the function gets called.\n",
            "Hello Decorators!\n",
            "After the function is executed.\n"
          ],
          "name": "stdout"
        }
      ]
    },
    {
      "cell_type": "markdown",
      "metadata": {
        "id": "ph0oLtGFReZ1"
      },
      "source": [
        "# @ (Pi) Syntax"
      ]
    },
    {
      "cell_type": "code",
      "metadata": {
        "id": "3gQ2-zSlRZAF",
        "outputId": "b476eccd-a34f-45d2-bd5f-816c104d69c5",
        "colab": {
          "base_uri": "https://localhost:8080/"
        }
      },
      "source": [
        "def decorator(func):\n",
        "    def wrapper():\n",
        "      print(\"Before the function gets called.\")\n",
        "      func()\n",
        "      print(\"After the function is executed.\")\n",
        "    return wrapper\n",
        "\n",
        "@decorator\n",
        "def wrap_me():\n",
        "    print(\"Hello Decorators!\")\n",
        "\n",
        "wrap_me()"
      ],
      "execution_count": 6,
      "outputs": [
        {
          "output_type": "stream",
          "text": [
            "Before the function gets called.\n",
            "Hello Decorators!\n",
            "After the function is executed.\n"
          ],
          "name": "stdout"
        }
      ]
    },
    {
      "cell_type": "markdown",
      "metadata": {
        "id": "nLCa_9lmRmTd"
      },
      "source": [
        "# Decorators Which Accepts Arguments -"
      ]
    },
    {
      "cell_type": "code",
      "metadata": {
        "id": "WvzGrrgrRjyp",
        "outputId": "23625ddb-8a14-434d-926d-125ffcd276c0",
        "colab": {
          "base_uri": "https://localhost:8080/"
        }
      },
      "source": [
        "def dump_args(func):\n",
        "  def wrapper(*args,**kwargs):\n",
        "      print(f'{args}, {kwargs}')\n",
        "      func(*args, **kwargs)\n",
        "  return wrapper\n",
        "\n",
        "@dump_args\n",
        "def wrap_me(arg1,arg2):\n",
        "    print(f\"Arguments dumped\")\n",
        "    \n",
        "wrap_me(\"arg_dump1\",\"arg_dump2\")"
      ],
      "execution_count": 7,
      "outputs": [
        {
          "output_type": "stream",
          "text": [
            "('arg_dump1', 'arg_dump2'), {}\n",
            "Arguments dumped\n"
          ],
          "name": "stdout"
        }
      ]
    },
    {
      "cell_type": "markdown",
      "metadata": {
        "id": "6NbwEhHmRtK8"
      },
      "source": [
        "# Stacking Decorators"
      ]
    },
    {
      "cell_type": "code",
      "metadata": {
        "id": "kFj_rqjcRriW",
        "outputId": "bc5587fb-5856-4b1a-c125-de332c644645",
        "colab": {
          "base_uri": "https://localhost:8080/"
        }
      },
      "source": [
        "import datetime\n",
        "\n",
        "def dump_args(func):\n",
        "   def wrapper(*args,**kwargs):\n",
        "       print(f'{func.__name__} has arguments - {args}, {kwargs}')\n",
        "       func(*args, **kwargs)\n",
        "   return wrapper\n",
        "   \n",
        "def cal_time(func):\n",
        "   def wrapper(*args,**kwargs):\n",
        "       now = datetime.datetime.now()\n",
        "       print(\"start of execution : \",  now.strftime(\"%d/%m/%Y %H:%M:%S\"))\n",
        "       func(*args,**kwargs)\n",
        "       now = datetime.datetime.now()\n",
        "       print(\"end of execution : \",  now.strftime(\"%d/%m/%Y %H:%M:%S\"))\n",
        "   \n",
        "   return wrapper\n",
        "\n",
        "@cal_time\n",
        "@dump_args\n",
        "def wrap_me(arg1,arg2):\n",
        "   print(\"Arguments dumped\")\n",
        "   \n",
        "wrap_me(\"arg_dump1\",\"arg_dump2\")"
      ],
      "execution_count": 9,
      "outputs": [
        {
          "output_type": "stream",
          "text": [
            "start of execution :  09/11/2020 13:52:40\n",
            "wrap_me has arguments - ('arg_dump1', 'arg_dump2'), {}\n",
            "Arguments dumped\n",
            "end of execution :  09/11/2020 13:52:40\n"
          ],
          "name": "stdout"
        }
      ]
    }
  ]
}