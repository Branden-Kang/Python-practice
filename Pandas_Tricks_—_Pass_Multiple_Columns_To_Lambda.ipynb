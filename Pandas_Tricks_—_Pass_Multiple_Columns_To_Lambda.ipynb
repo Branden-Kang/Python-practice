{
  "nbformat": 4,
  "nbformat_minor": 0,
  "metadata": {
    "colab": {
      "name": "Pandas Tricks — Pass Multiple Columns To Lambda.ipynb",
      "provenance": [],
      "authorship_tag": "ABX9TyN0Lf9jEyLl3re0R/UMaUpq"
    },
    "kernelspec": {
      "name": "python3",
      "display_name": "Python 3"
    }
  },
  "cells": [
    {
      "cell_type": "markdown",
      "metadata": {
        "id": "X_zhpIW7ZsTb"
      },
      "source": [
        "[Reference](https://codeforests.medium.com/ppicpandas-tricks-pass-multiple-columns-to-lambda-e0c16312fb50)"
      ]
    },
    {
      "cell_type": "code",
      "metadata": {
        "id": "OG1z7YatZp90"
      },
      "source": [
        "import pandas as pd\n",
        "\n",
        "df = pd.DataFrame({ \"Order#\" : [\"1\", \"2\", \"3\", \"4\"], \"Weight\" : [5.0, 2.1, 8.1, 7.5], \"Package Size\" : [80, 45, 110, 90], \"Delivery Mode\": [\"Same Day\", \"Next Day\", \"Express\", \"Next Day\"]})"
      ],
      "execution_count": 1,
      "outputs": []
    },
    {
      "cell_type": "code",
      "metadata": {
        "id": "Wj85tz6dZxxt"
      },
      "source": [
        "def calculate_rate(weight, package_size, delivery_mode): \n",
        "#set the charges as $20 since we do not have the complete rate card \n",
        "    charges = 20 \n",
        "    if weight <=1 and package_size <60: \n",
        "        if delivery_mode == \"Express\": \n",
        "            charges = 13 \n",
        "        elif delivery_mode == \"Next Day\": \n",
        "            charges = 8\n",
        "        else: \n",
        "            charges = 10 \n",
        "    elif weight <=5 and package_size <80: \n",
        "        if delivery_mode == \"Express\": \n",
        "            charges = 15 \n",
        "        elif delivery_mode == \"Next Day\": \n",
        "            charges = 9 \n",
        "        else: \n",
        "            charges = 11 \n",
        "    elif weight <=8 and package_size <100: \n",
        "        if delivery_mode == \"Express\": \n",
        "            charges = 17 \n",
        "        elif delivery_mode == \"Next Day\": \n",
        "            charges = 11 \n",
        "        else: \n",
        "            charges = 13     \n",
        "            \n",
        "    return charges"
      ],
      "execution_count": 3,
      "outputs": []
    },
    {
      "cell_type": "code",
      "metadata": {
        "id": "Lo0m9IMdZ7wz"
      },
      "source": [
        "df[\"Delivery Charges\"] = df[[\"Weight\", \"Package Size\", \"Delivery Mode\"]].apply(lambda x : calculate_rate(*x), axis=1)"
      ],
      "execution_count": 4,
      "outputs": []
    },
    {
      "cell_type": "code",
      "metadata": {
        "id": "vsMhsespaBNH"
      },
      "source": [
        "df[\"Delivery Charges\"] = df.apply(lambda x : calculate_rate(x[\"Weight\"], x[\"Package Size\"], x[\"Delivery Mode\"]), axis=1)"
      ],
      "execution_count": 5,
      "outputs": []
    }
  ]
}