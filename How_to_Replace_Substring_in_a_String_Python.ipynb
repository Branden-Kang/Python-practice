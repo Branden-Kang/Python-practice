{
  "nbformat": 4,
  "nbformat_minor": 0,
  "metadata": {
    "colab": {
      "provenance": [],
      "authorship_tag": "ABX9TyMFFLKRWl7J/YXb1T5kitC1"
    },
    "kernelspec": {
      "name": "python3",
      "display_name": "Python 3"
    },
    "language_info": {
      "name": "python"
    }
  },
  "cells": [
    {
      "cell_type": "markdown",
      "source": [
        "[Reference](https://sanjay-priyadarshi.medium.com/how-to-replace-substring-in-a-string-python-python-tutorial-a28766dcc8dd)"
      ],
      "metadata": {
        "id": "OYQBJ9VvxNUL"
      }
    },
    {
      "cell_type": "code",
      "execution_count": 1,
      "metadata": {
        "colab": {
          "base_uri": "https://localhost:8080/",
          "height": 198
        },
        "id": "RaMNJwv2xKYz",
        "outputId": "ae5a4207-5cf4-4d29-e2ed-a44fafbe10f6"
      },
      "outputs": [
        {
          "output_type": "error",
          "ename": "TypeError",
          "evalue": "ignored",
          "traceback": [
            "\u001b[0;31m---------------------------------------------------------------------------\u001b[0m",
            "\u001b[0;31mTypeError\u001b[0m                                 Traceback (most recent call last)",
            "\u001b[0;32m<ipython-input-1-a5b7f7ee02ce>\u001b[0m in \u001b[0;36m<module>\u001b[0;34m\u001b[0m\n\u001b[1;32m      1\u001b[0m \u001b[0mstr\u001b[0m \u001b[0;34m=\u001b[0m \u001b[0;34m\"Hello\"\u001b[0m\u001b[0;34m\u001b[0m\u001b[0;34m\u001b[0m\u001b[0m\n\u001b[0;32m----> 2\u001b[0;31m \u001b[0mstr\u001b[0m\u001b[0;34m[\u001b[0m\u001b[0;36m3\u001b[0m\u001b[0;34m]\u001b[0m \u001b[0;34m=\u001b[0m \u001b[0;34m'y'\u001b[0m\u001b[0;34m\u001b[0m\u001b[0;34m\u001b[0m\u001b[0m\n\u001b[0m\u001b[1;32m      3\u001b[0m \u001b[0mprint\u001b[0m\u001b[0;34m(\u001b[0m\u001b[0mstr\u001b[0m\u001b[0;34m)\u001b[0m\u001b[0;34m\u001b[0m\u001b[0;34m\u001b[0m\u001b[0m\n",
            "\u001b[0;31mTypeError\u001b[0m: 'str' object does not support item assignment"
          ]
        }
      ],
      "source": [
        "str = \"Hello\"\n",
        "str[3] = 'y'\n",
        "print(str)"
      ]
    },
    {
      "cell_type": "code",
      "source": [
        "str = \"Hello\" \n",
        "str = str + \"Hey\"\n",
        "print(str)"
      ],
      "metadata": {
        "colab": {
          "base_uri": "https://localhost:8080/"
        },
        "id": "cf0dDifMxPuS",
        "outputId": "60bc8dff-356c-499f-de24-dc08924f8da0"
      },
      "execution_count": 2,
      "outputs": [
        {
          "output_type": "stream",
          "name": "stdout",
          "text": [
            "HelloHey\n"
          ]
        }
      ]
    },
    {
      "cell_type": "code",
      "source": [
        "str1 = 'hello how hot'\n",
        "str2 = str1.replace('h', 'a')\n",
        "print(str2)"
      ],
      "metadata": {
        "colab": {
          "base_uri": "https://localhost:8080/"
        },
        "id": "F2gc_WESxRHT",
        "outputId": "8603aa23-a136-4a4b-e19d-a2d1c6dbab4c"
      },
      "execution_count": 3,
      "outputs": [
        {
          "output_type": "stream",
          "name": "stdout",
          "text": [
            "aello aow aot\n"
          ]
        }
      ]
    },
    {
      "cell_type": "code",
      "source": [
        "str1 = 'hello how hot'\n",
        "str2 = str1.replace('H', 'a')\n",
        "print(str2)"
      ],
      "metadata": {
        "colab": {
          "base_uri": "https://localhost:8080/"
        },
        "id": "HNriQV_fxUET",
        "outputId": "8340aabf-0ada-41a1-e632-64421320e389"
      },
      "execution_count": 4,
      "outputs": [
        {
          "output_type": "stream",
          "name": "stdout",
          "text": [
            "hello how hot\n"
          ]
        }
      ]
    },
    {
      "cell_type": "code",
      "source": [
        "str1 = 'hello how hot why how what'\n",
        "str2 = str1.replace('how', 'xyz')\n",
        "print(str2)"
      ],
      "metadata": {
        "colab": {
          "base_uri": "https://localhost:8080/"
        },
        "id": "ukd2n0oUxWRi",
        "outputId": "563c5609-092b-4ab5-ef15-f90c0b535e38"
      },
      "execution_count": 5,
      "outputs": [
        {
          "output_type": "stream",
          "name": "stdout",
          "text": [
            "hello xyz hot why xyz what\n"
          ]
        }
      ]
    },
    {
      "cell_type": "code",
      "source": [
        "str1 = 'hello how hot why how what how are you'\n",
        "str2 = str1.replace('how', 'xyz', 2)\n",
        "print(str2)"
      ],
      "metadata": {
        "colab": {
          "base_uri": "https://localhost:8080/"
        },
        "id": "nlvc-30SxYDP",
        "outputId": "14eb597e-5266-4450-c188-5e76008f7fb7"
      },
      "execution_count": 6,
      "outputs": [
        {
          "output_type": "stream",
          "name": "stdout",
          "text": [
            "hello xyz hot why xyz what how are you\n"
          ]
        }
      ]
    }
  ]
}