{
  "nbformat": 4,
  "nbformat_minor": 0,
  "metadata": {
    "colab": {
      "provenance": [],
      "authorship_tag": "ABX9TyM5X8IMBeI09/obBj9tgEvU"
    },
    "kernelspec": {
      "name": "python3",
      "display_name": "Python 3"
    },
    "language_info": {
      "name": "python"
    }
  },
  "cells": [
    {
      "cell_type": "markdown",
      "source": [
        "[Reference](https://sanjay-priyadarshi.medium.com/how-to-replace-substring-in-a-string-python-python-tutorial-a28766dcc8dd)"
      ],
      "metadata": {
        "id": "dJpvmG5rgZcG"
      }
    },
    {
      "cell_type": "code",
      "execution_count": 1,
      "metadata": {
        "id": "ApGFh6pOgXiX"
      },
      "outputs": [],
      "source": [
        "# str_ = \"Hello\"\n",
        "# str_[3] = 'y'\n",
        "# print(str_)\n",
        "\n",
        "# # ---------------------------------------------------------------------------\n",
        "# # TypeError                                 Traceback (most recent call last)\n",
        "# # <ipython-input-1-9f7e4bd46e81> in <module>\n",
        "# #       1 str_ = \"Hello\"\n",
        "# # ----> 2 str_[3] = 'y'\n",
        "# #       3 print(str_)\n",
        "\n",
        "# # TypeError: 'str' object does not support item assignment"
      ]
    },
    {
      "cell_type": "code",
      "source": [
        "str_ = \"Hello\"\n",
        "str_ = str_ + \"Hey\"\n",
        "print(str_)"
      ],
      "metadata": {
        "colab": {
          "base_uri": "https://localhost:8080/"
        },
        "id": "aAW7MQ5dgpja",
        "outputId": "a8c401a2-4381-4e46-a552-351fcf95e926"
      },
      "execution_count": 2,
      "outputs": [
        {
          "output_type": "stream",
          "name": "stdout",
          "text": [
            "HelloHey\n"
          ]
        }
      ]
    },
    {
      "cell_type": "code",
      "source": [
        "str1 ='hello how hot'\n",
        "str2 = str1.replace('h','a')\n",
        "print(str2)"
      ],
      "metadata": {
        "colab": {
          "base_uri": "https://localhost:8080/"
        },
        "id": "Q8hhsZdFgwka",
        "outputId": "bc4b9b78-8cd4-4548-a535-0e7a4969f3fc"
      },
      "execution_count": 3,
      "outputs": [
        {
          "output_type": "stream",
          "name": "stdout",
          "text": [
            "aello aow aot\n"
          ]
        }
      ]
    },
    {
      "cell_type": "code",
      "source": [
        "str1 ='hello how hot'\n",
        "str2 = str1.replace('H','a')\n",
        "print(str2)"
      ],
      "metadata": {
        "colab": {
          "base_uri": "https://localhost:8080/"
        },
        "id": "ILONiIBgg68n",
        "outputId": "c532c0aa-cf0c-4625-e390-21ef3eaf4abd"
      },
      "execution_count": 4,
      "outputs": [
        {
          "output_type": "stream",
          "name": "stdout",
          "text": [
            "hello how hot\n"
          ]
        }
      ]
    },
    {
      "cell_type": "code",
      "source": [
        "str1 ='hello how hot why how what'\n",
        "str2 = str1.replace('how','xyz')\n",
        "print(str2)"
      ],
      "metadata": {
        "colab": {
          "base_uri": "https://localhost:8080/"
        },
        "id": "KHGmn4QVg-Mo",
        "outputId": "9504bb97-027b-4155-9157-c05d2032c2c6"
      },
      "execution_count": 5,
      "outputs": [
        {
          "output_type": "stream",
          "name": "stdout",
          "text": [
            "hello xyz hot why xyz what\n"
          ]
        }
      ]
    },
    {
      "cell_type": "code",
      "source": [
        "str1 ='hello how hot why how what how are you'\n",
        "str2 = str1.replace('how','xyz', 2)\n",
        "print(str2)"
      ],
      "metadata": {
        "colab": {
          "base_uri": "https://localhost:8080/"
        },
        "id": "f_T7519thByc",
        "outputId": "f387e8f6-cd77-418f-eeaa-b75b1998555a"
      },
      "execution_count": 6,
      "outputs": [
        {
          "output_type": "stream",
          "name": "stdout",
          "text": [
            "hello xyz hot why xyz what how are you\n"
          ]
        }
      ]
    }
  ]
}