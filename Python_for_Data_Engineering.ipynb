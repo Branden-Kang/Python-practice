{
  "nbformat": 4,
  "nbformat_minor": 0,
  "metadata": {
    "colab": {
      "provenance": [],
      "authorship_tag": "ABX9TyN3eca60TTJ5KtoiD9IkEtn"
    },
    "kernelspec": {
      "name": "python3",
      "display_name": "Python 3"
    },
    "language_info": {
      "name": "python"
    }
  },
  "cells": [
    {
      "cell_type": "markdown",
      "source": [
        "[Reference](https://medium.com/@mariusz_kujawski/python-for-data-engineering-6bd6140033d4)"
      ],
      "metadata": {
        "id": "LGObcVL_t09k"
      }
    },
    {
      "cell_type": "code",
      "execution_count": 1,
      "metadata": {
        "id": "l6XPB8LZtj0t"
      },
      "outputs": [],
      "source": [
        "# List\n",
        "my_list = [1, 2, 3, 'a', 'b', 'c']\n",
        "my_list.append(4)     # Adds 4 to the end of the list\n",
        "my_list.remove('a')  # Removes the element 'a'"
      ]
    },
    {
      "cell_type": "code",
      "source": [
        "# Tuple\n",
        "my_tuple = (1, 2, 3, 'a', 'b', 'c')\n",
        "my_tuple"
      ],
      "metadata": {
        "colab": {
          "base_uri": "https://localhost:8080/"
        },
        "id": "2wuzYUwJt6wh",
        "outputId": "4ca58ac5-4e0e-40a9-f8eb-a5c649d21366"
      },
      "execution_count": 2,
      "outputs": [
        {
          "output_type": "execute_result",
          "data": {
            "text/plain": [
              "(1, 2, 3, 'a', 'b', 'c')"
            ]
          },
          "metadata": {},
          "execution_count": 2
        }
      ]
    },
    {
      "cell_type": "code",
      "source": [
        "# Dictionary\n",
        "thisdict = {\n",
        "  \"brand\": \"Ford\",\n",
        "  \"model\": \"Mustang\",\n",
        "  \"year\": 1964\n",
        "}"
      ],
      "metadata": {
        "id": "yTH6RxRZt-Wb"
      },
      "execution_count": 3,
      "outputs": []
    },
    {
      "cell_type": "code",
      "source": [
        "# Set\n",
        "my_set = {1, 2, 3}\n",
        "my_set.add(1)\n",
        "my_set.add(1)\n",
        "print(my_set)"
      ],
      "metadata": {
        "colab": {
          "base_uri": "https://localhost:8080/"
        },
        "id": "8J9vFqcpuAsi",
        "outputId": "0a775ab4-b23e-466b-c99d-9908d9474224"
      },
      "execution_count": 4,
      "outputs": [
        {
          "output_type": "stream",
          "name": "stdout",
          "text": [
            "{1, 2, 3}\n"
          ]
        }
      ]
    },
    {
      "cell_type": "code",
      "source": [
        "# List Comprehension\n",
        "# Without list comprehension\n",
        "squares = []\n",
        "for i in range(5):\n",
        "    squares.append(i**2)\n",
        "print(squares)\n",
        "\n",
        "# With list comprehension\n",
        "squares = []\n",
        "squares = [i**2 for i in range(5)]\n",
        "print(squares)"
      ],
      "metadata": {
        "colab": {
          "base_uri": "https://localhost:8080/"
        },
        "id": "5oZ4BMIPuDCc",
        "outputId": "90013627-961b-4fa7-a1f6-eadc4e4f23c1"
      },
      "execution_count": 5,
      "outputs": [
        {
          "output_type": "stream",
          "name": "stdout",
          "text": [
            "[0, 1, 4, 9, 16]\n",
            "[0, 1, 4, 9, 16]\n"
          ]
        }
      ]
    },
    {
      "cell_type": "code",
      "source": [
        "# Filter, Map, and Reduce\n",
        "numbers = [1, 2, 3, 4, 5, 6, 7, 8, 9]\n",
        "\n",
        "# Filter even numbers\n",
        "even_numbers = list(filter(lambda x: x % 2 == 0, numbers))"
      ],
      "metadata": {
        "id": "BoQzk9T_uFhR"
      },
      "execution_count": 6,
      "outputs": []
    },
    {
      "cell_type": "code",
      "source": [
        "def power2(val: int) -> int:\n",
        "    return val*val\n",
        "\n",
        "numbers = [1, 2, 3, 4, 5]\n",
        "\n",
        "power_numbers = list(map(power2, numbers))\n",
        "# OR\n",
        "squared_numbers = list(map(lambda x: x**2, numbers))"
      ],
      "metadata": {
        "id": "SrymIeU9uIXm"
      },
      "execution_count": 7,
      "outputs": []
    },
    {
      "cell_type": "code",
      "source": [
        "from functools import reduce\n",
        "\n",
        "words = [\"apple\", \"banana\", \"orange\", \"apple\", \"grape\", \"banana\"]\n",
        "\n",
        "# Count the occurrences of each word\n",
        "word_counts = reduce(lambda counts, word: {**counts, word: counts.get(word, 0) + 1}, words, {})\n",
        "\n",
        "print(word_counts)\n",
        "# Output: {'apple': 2, 'banana': 2, 'orange': 1, 'grape': 1}\n",
        "\n",
        "\n",
        "numbers = [1, 2, 3, 4, 5]\n",
        "product = reduce((lambda x, y: x * y), numbers)"
      ],
      "metadata": {
        "colab": {
          "base_uri": "https://localhost:8080/"
        },
        "id": "Ge6rAC9duIee",
        "outputId": "3a382b51-37e5-4368-ead7-20b3e6bacbf3"
      },
      "execution_count": 8,
      "outputs": [
        {
          "output_type": "stream",
          "name": "stdout",
          "text": [
            "{'apple': 2, 'banana': 2, 'orange': 1, 'grape': 1}\n"
          ]
        }
      ]
    },
    {
      "cell_type": "code",
      "source": [
        "lista = ['a','b','c','d','e']\n",
        "count = 0\n",
        "for l in lista:\n",
        "    print('Index:', count,' Value:', l)\n",
        "    count+=1"
      ],
      "metadata": {
        "colab": {
          "base_uri": "https://localhost:8080/"
        },
        "id": "7aglLz4tuKDf",
        "outputId": "d50d0bb8-a5b3-4a70-8c67-d7af47ca38e2"
      },
      "execution_count": 9,
      "outputs": [
        {
          "output_type": "stream",
          "name": "stdout",
          "text": [
            "Index: 0  Value: a\n",
            "Index: 1  Value: b\n",
            "Index: 2  Value: c\n",
            "Index: 3  Value: d\n",
            "Index: 4  Value: e\n"
          ]
        }
      ]
    },
    {
      "cell_type": "code",
      "source": [
        "# Generators\n",
        "text = \"\"\"\n",
        "transaction_id,user\\r\n",
        "1,aaa\\r\n",
        "\\r\n",
        "2,xx\\r\n",
        "3,ccc\\r\n",
        "\\r\n",
        "\"\"\"\n",
        "\n",
        "def process_large_file(text):\n",
        "        for line in text.split(\"\\r\"):\n",
        "            # Process the line\n",
        "            processed_line = line.strip().upper()\n",
        "\n",
        "            if processed_line != \"\":\n",
        "                # Yield the processed line\n",
        "                yield processed_line\n",
        "\n",
        "# Example usage\n",
        "\n",
        "for processed_line in process_large_file(text):\n",
        "    print(processed_line)"
      ],
      "metadata": {
        "colab": {
          "base_uri": "https://localhost:8080/"
        },
        "id": "bsReJC0BuLeH",
        "outputId": "a706f67d-4134-48b8-91fa-191788d6fc7c"
      },
      "execution_count": 10,
      "outputs": [
        {
          "output_type": "stream",
          "name": "stdout",
          "text": [
            "TRANSACTION_ID,USER\n",
            "1,AAA\n",
            "2,XX\n",
            "3,CCC\n"
          ]
        }
      ]
    },
    {
      "cell_type": "code",
      "source": [
        "# Decorators\n",
        "def make_upper(function):\n",
        " def upper():\n",
        "  f = function()\n",
        "  print(f\"this from orgin value: {f}\")\n",
        "  return f.upper()\n",
        " return upper\n",
        "\n",
        "@make_upper #decorator\n",
        "def helloworld():\n",
        " return \"hello world\"\n",
        "\n",
        "print(helloworld())"
      ],
      "metadata": {
        "colab": {
          "base_uri": "https://localhost:8080/"
        },
        "id": "aNpIp3kpuQY3",
        "outputId": "e480cdc5-e8c1-45fe-c5a8-5f42c431fbff"
      },
      "execution_count": 11,
      "outputs": [
        {
          "output_type": "stream",
          "name": "stdout",
          "text": [
            "this from orgin value: hello world\n",
            "HELLO WORLD\n"
          ]
        }
      ]
    },
    {
      "cell_type": "code",
      "source": [
        "import time\n",
        "\n",
        "def retry(times, wait):\n",
        "\n",
        "    def decorator(func):\n",
        "        def newfn(*args, **kwargs):\n",
        "            attempt = 0\n",
        "            while attempt < times:\n",
        "                try:\n",
        "                    time.sleep(wait)\n",
        "                    return func(*args, **kwargs)\n",
        "                except Exception as e:\n",
        "                    print(\n",
        "                        'Exception thrown when attempting to run %s, attempt '\n",
        "                        '%d of %d' % (func, attempt, times)\n",
        "                    )\n",
        "                    attempt += 1\n",
        "            time.sleep(wait)\n",
        "            return func(*args, **kwargs)\n",
        "        return newfn\n",
        "    return decorator\n",
        "\n",
        "@retry(times=3, wait=2)\n",
        "def get_from_rest():\n",
        "    print('Try read data from rest API')\n",
        "\n",
        "    raise ConnectionError ('Lack of connection')\n",
        "\n",
        "get_from_rest()"
      ],
      "metadata": {
        "colab": {
          "base_uri": "https://localhost:8080/",
          "height": 470
        },
        "id": "yuJAOr1BuSzs",
        "outputId": "550c98b8-2649-4a0e-c73d-2ca15abd2ce5"
      },
      "execution_count": 12,
      "outputs": [
        {
          "output_type": "stream",
          "name": "stdout",
          "text": [
            "Try read data from rest API\n",
            "Exception thrown when attempting to run <function get_from_rest at 0x7b2dfbd5a3b0>, attempt 0 of 3\n",
            "Try read data from rest API\n",
            "Exception thrown when attempting to run <function get_from_rest at 0x7b2dfbd5a3b0>, attempt 1 of 3\n",
            "Try read data from rest API\n",
            "Exception thrown when attempting to run <function get_from_rest at 0x7b2dfbd5a3b0>, attempt 2 of 3\n",
            "Try read data from rest API\n"
          ]
        },
        {
          "output_type": "error",
          "ename": "ConnectionError",
          "evalue": "ignored",
          "traceback": [
            "\u001b[0;31m---------------------------------------------------------------------------\u001b[0m",
            "\u001b[0;31mConnectionError\u001b[0m                           Traceback (most recent call last)",
            "\u001b[0;32m<ipython-input-12-88040b400c3b>\u001b[0m in \u001b[0;36m<cell line: 29>\u001b[0;34m()\u001b[0m\n\u001b[1;32m     27\u001b[0m     \u001b[0;32mraise\u001b[0m \u001b[0mConnectionError\u001b[0m \u001b[0;34m(\u001b[0m\u001b[0;34m'Lack of connection'\u001b[0m\u001b[0;34m)\u001b[0m\u001b[0;34m\u001b[0m\u001b[0;34m\u001b[0m\u001b[0m\n\u001b[1;32m     28\u001b[0m \u001b[0;34m\u001b[0m\u001b[0m\n\u001b[0;32m---> 29\u001b[0;31m \u001b[0mget_from_rest\u001b[0m\u001b[0;34m(\u001b[0m\u001b[0;34m)\u001b[0m\u001b[0;34m\u001b[0m\u001b[0;34m\u001b[0m\u001b[0m\n\u001b[0m",
            "\u001b[0;32m<ipython-input-12-88040b400c3b>\u001b[0m in \u001b[0;36mnewfn\u001b[0;34m(*args, **kwargs)\u001b[0m\n\u001b[1;32m     17\u001b[0m                     \u001b[0mattempt\u001b[0m \u001b[0;34m+=\u001b[0m \u001b[0;36m1\u001b[0m\u001b[0;34m\u001b[0m\u001b[0;34m\u001b[0m\u001b[0m\n\u001b[1;32m     18\u001b[0m             \u001b[0mtime\u001b[0m\u001b[0;34m.\u001b[0m\u001b[0msleep\u001b[0m\u001b[0;34m(\u001b[0m\u001b[0mwait\u001b[0m\u001b[0;34m)\u001b[0m\u001b[0;34m\u001b[0m\u001b[0;34m\u001b[0m\u001b[0m\n\u001b[0;32m---> 19\u001b[0;31m             \u001b[0;32mreturn\u001b[0m \u001b[0mfunc\u001b[0m\u001b[0;34m(\u001b[0m\u001b[0;34m*\u001b[0m\u001b[0margs\u001b[0m\u001b[0;34m,\u001b[0m \u001b[0;34m**\u001b[0m\u001b[0mkwargs\u001b[0m\u001b[0;34m)\u001b[0m\u001b[0;34m\u001b[0m\u001b[0;34m\u001b[0m\u001b[0m\n\u001b[0m\u001b[1;32m     20\u001b[0m         \u001b[0;32mreturn\u001b[0m \u001b[0mnewfn\u001b[0m\u001b[0;34m\u001b[0m\u001b[0;34m\u001b[0m\u001b[0m\n\u001b[1;32m     21\u001b[0m     \u001b[0;32mreturn\u001b[0m \u001b[0mdecorator\u001b[0m\u001b[0;34m\u001b[0m\u001b[0;34m\u001b[0m\u001b[0m\n",
            "\u001b[0;32m<ipython-input-12-88040b400c3b>\u001b[0m in \u001b[0;36mget_from_rest\u001b[0;34m()\u001b[0m\n\u001b[1;32m     25\u001b[0m     \u001b[0mprint\u001b[0m\u001b[0;34m(\u001b[0m\u001b[0;34m'Try read data from rest API'\u001b[0m\u001b[0;34m)\u001b[0m\u001b[0;34m\u001b[0m\u001b[0;34m\u001b[0m\u001b[0m\n\u001b[1;32m     26\u001b[0m \u001b[0;34m\u001b[0m\u001b[0m\n\u001b[0;32m---> 27\u001b[0;31m     \u001b[0;32mraise\u001b[0m \u001b[0mConnectionError\u001b[0m \u001b[0;34m(\u001b[0m\u001b[0;34m'Lack of connection'\u001b[0m\u001b[0;34m)\u001b[0m\u001b[0;34m\u001b[0m\u001b[0;34m\u001b[0m\u001b[0m\n\u001b[0m\u001b[1;32m     28\u001b[0m \u001b[0;34m\u001b[0m\u001b[0m\n\u001b[1;32m     29\u001b[0m \u001b[0mget_from_rest\u001b[0m\u001b[0;34m(\u001b[0m\u001b[0;34m)\u001b[0m\u001b[0;34m\u001b[0m\u001b[0;34m\u001b[0m\u001b[0m\n",
            "\u001b[0;31mConnectionError\u001b[0m: Lack of connection"
          ]
        }
      ]
    },
    {
      "cell_type": "code",
      "source": [
        "# Data Class\n",
        "from dataclasses import dataclass\n",
        "\n",
        "\n",
        "@dataclass #dataclass decorator\n",
        "class cutomerD:\n",
        " name: str #Type Hints\n",
        " id: int\n",
        " surname: str\n",
        "\n",
        "class customer:\n",
        " def __init__(self,name,aid,books):\n",
        "  self.name = name\n",
        "  self.id = aid\n",
        "  self.surname = books\n",
        "\n",
        "Obj1 = customer(\"Erick\",1254,\"Nowak\")\n",
        "Obj2 = customer(\"Erick\",1254,\"Nowak\")\n",
        "\n",
        "Obj3 = cutomerD(\"Erick\",1254,\"Nowak\")\n",
        "Obj4 = cutomerD(\"Erick\",1254,\"Nowak\")\n",
        "\n",
        "\n",
        "print(\"Difrence for debuging\")\n",
        "print(Obj1)\n",
        "print(Obj3)\n",
        "\n",
        "print(\"\\nDifference in Equality Check\")\n",
        "print(Obj1==Obj2)\n",
        "print(Obj3==Obj4)"
      ],
      "metadata": {
        "colab": {
          "base_uri": "https://localhost:8080/"
        },
        "id": "iS6q_23GuUXP",
        "outputId": "36af5e4e-560f-4917-f3e1-5090a796e74a"
      },
      "execution_count": 13,
      "outputs": [
        {
          "output_type": "stream",
          "name": "stdout",
          "text": [
            "Difrence for debuging\n",
            "<__main__.customer object at 0x7b2e08c44d90>\n",
            "cutomerD(name='Erick', id=1254, surname='Nowak')\n",
            "\n",
            "Difference in Equality Check\n",
            "False\n",
            "True\n"
          ]
        }
      ]
    },
    {
      "cell_type": "code",
      "source": [
        "from dataclasses import dataclass, astuple, asdict\n",
        "\n",
        "\n",
        "@dataclass #dataclass decorator\n",
        "class customer:\n",
        " name: str #Type Hints\n",
        " id: int\n",
        " surname: str\n",
        "\n",
        "\n",
        "Obj1 = customer(\"Erick\",1254,\"Nowak\")\n",
        "\n",
        "print(astuple(Obj1))\n",
        "print(asdict(Obj1))\n",
        "\n",
        "# Output:\n",
        "# ('Erick', 1254, 'Nowak')\n",
        "# {'name': 'Erick', 'id': 1254, 'surname': 'Nowak'}\n"
      ],
      "metadata": {
        "colab": {
          "base_uri": "https://localhost:8080/"
        },
        "id": "ygdjt0hEuagx",
        "outputId": "62485083-68e3-4474-cb59-5dfb0add08be"
      },
      "execution_count": 14,
      "outputs": [
        {
          "output_type": "stream",
          "name": "stdout",
          "text": [
            "('Erick', 1254, 'Nowak')\n",
            "{'name': 'Erick', 'id': 1254, 'surname': 'Nowak'}\n"
          ]
        }
      ]
    },
    {
      "cell_type": "code",
      "source": [
        "# Concurrency vs. parallelism\n",
        "import calendar\n",
        "from concurrent.futures import ThreadPoolExecutor\n",
        "import requests\n",
        "\n",
        "def generate_dates(year, month):\n",
        "    _, last_day = calendar.monthrange(year, month)\n",
        "\n",
        "    dates = [f\"{year}-{month:02d}-{day:02d}\" for day in range(1, last_day + 1)]\n",
        "    return dates\n",
        "\n",
        "year = 2023\n",
        "month = 10\n",
        "result = generate_dates(year, month)\n",
        "urls = []\n",
        "for x in result:\n",
        "    urls.append(f\"http://api.nbp.pl/api/exchangerates/rates/a/gbp/{x}/\")\n",
        "\n",
        "def download_page(url):\n",
        "    response = requests.get(url)\n",
        "    return response.content\n",
        "\n",
        "with ThreadPoolExecutor(max_workers=5) as executor:\n",
        "    results = list(executor.map(download_page, urls))\n",
        "\n",
        "for result in results:\n",
        "    print(result)"
      ],
      "metadata": {
        "colab": {
          "base_uri": "https://localhost:8080/"
        },
        "id": "MAwe4peiudTu",
        "outputId": "d919ffbc-a014-4020-d731-e399ae6576c1"
      },
      "execution_count": 15,
      "outputs": [
        {
          "output_type": "stream",
          "name": "stdout",
          "text": [
            "b'404 NotFound - Not Found - Brak danych'\n",
            "b'{\"table\":\"A\",\"currency\":\"funt szterling\",\"code\":\"GBP\",\"rates\":[{\"no\":\"190/A/NBP/2023\",\"effectiveDate\":\"2023-10-02\",\"mid\":5.3183}]}'\n",
            "b'{\"table\":\"A\",\"currency\":\"funt szterling\",\"code\":\"GBP\",\"rates\":[{\"no\":\"191/A/NBP/2023\",\"effectiveDate\":\"2023-10-03\",\"mid\":5.3195}]}'\n",
            "b'{\"table\":\"A\",\"currency\":\"funt szterling\",\"code\":\"GBP\",\"rates\":[{\"no\":\"192/A/NBP/2023\",\"effectiveDate\":\"2023-10-04\",\"mid\":5.3492}]}'\n",
            "b'{\"table\":\"A\",\"currency\":\"funt szterling\",\"code\":\"GBP\",\"rates\":[{\"no\":\"193/A/NBP/2023\",\"effectiveDate\":\"2023-10-05\",\"mid\":5.3057}]}'\n",
            "b'{\"table\":\"A\",\"currency\":\"funt szterling\",\"code\":\"GBP\",\"rates\":[{\"no\":\"194/A/NBP/2023\",\"effectiveDate\":\"2023-10-06\",\"mid\":5.3195}]}'\n",
            "b'404 NotFound - Not Found - Brak danych'\n",
            "b'404 NotFound - Not Found - Brak danych'\n",
            "b'{\"table\":\"A\",\"currency\":\"funt szterling\",\"code\":\"GBP\",\"rates\":[{\"no\":\"195/A/NBP/2023\",\"effectiveDate\":\"2023-10-09\",\"mid\":5.2897}]}'\n",
            "b'{\"table\":\"A\",\"currency\":\"funt szterling\",\"code\":\"GBP\",\"rates\":[{\"no\":\"196/A/NBP/2023\",\"effectiveDate\":\"2023-10-10\",\"mid\":5.2747}]}'\n",
            "b'{\"table\":\"A\",\"currency\":\"funt szterling\",\"code\":\"GBP\",\"rates\":[{\"no\":\"197/A/NBP/2023\",\"effectiveDate\":\"2023-10-11\",\"mid\":5.2304}]}'\n",
            "b'{\"table\":\"A\",\"currency\":\"funt szterling\",\"code\":\"GBP\",\"rates\":[{\"no\":\"198/A/NBP/2023\",\"effectiveDate\":\"2023-10-12\",\"mid\":5.2452}]}'\n",
            "b'{\"table\":\"A\",\"currency\":\"funt szterling\",\"code\":\"GBP\",\"rates\":[{\"no\":\"199/A/NBP/2023\",\"effectiveDate\":\"2023-10-13\",\"mid\":5.2563}]}'\n",
            "b'404 NotFound - Not Found - Brak danych'\n",
            "b'404 NotFound - Not Found - Brak danych'\n",
            "b'{\"table\":\"A\",\"currency\":\"funt szterling\",\"code\":\"GBP\",\"rates\":[{\"no\":\"200/A/NBP/2023\",\"effectiveDate\":\"2023-10-16\",\"mid\":5.1683}]}'\n",
            "b'{\"table\":\"A\",\"currency\":\"funt szterling\",\"code\":\"GBP\",\"rates\":[{\"no\":\"201/A/NBP/2023\",\"effectiveDate\":\"2023-10-17\",\"mid\":5.1222}]}'\n",
            "b'{\"table\":\"A\",\"currency\":\"funt szterling\",\"code\":\"GBP\",\"rates\":[{\"no\":\"202/A/NBP/2023\",\"effectiveDate\":\"2023-10-18\",\"mid\":5.1283}]}'\n",
            "b'{\"table\":\"A\",\"currency\":\"funt szterling\",\"code\":\"GBP\",\"rates\":[{\"no\":\"203/A/NBP/2023\",\"effectiveDate\":\"2023-10-19\",\"mid\":5.1171}]}'\n",
            "b'{\"table\":\"A\",\"currency\":\"funt szterling\",\"code\":\"GBP\",\"rates\":[{\"no\":\"204/A/NBP/2023\",\"effectiveDate\":\"2023-10-20\",\"mid\":5.1159}]}'\n",
            "b'404 NotFound - Not Found - Brak danych'\n",
            "b'404 NotFound - Not Found - Brak danych'\n",
            "b'{\"table\":\"A\",\"currency\":\"funt szterling\",\"code\":\"GBP\",\"rates\":[{\"no\":\"205/A/NBP/2023\",\"effectiveDate\":\"2023-10-23\",\"mid\":5.1103}]}'\n",
            "b'{\"table\":\"A\",\"currency\":\"funt szterling\",\"code\":\"GBP\",\"rates\":[{\"no\":\"206/A/NBP/2023\",\"effectiveDate\":\"2023-10-24\",\"mid\":5.1366}]}'\n",
            "b'{\"table\":\"A\",\"currency\":\"funt szterling\",\"code\":\"GBP\",\"rates\":[{\"no\":\"207/A/NBP/2023\",\"effectiveDate\":\"2023-10-25\",\"mid\":5.1328}]}'\n",
            "b'{\"table\":\"A\",\"currency\":\"funt szterling\",\"code\":\"GBP\",\"rates\":[{\"no\":\"208/A/NBP/2023\",\"effectiveDate\":\"2023-10-26\",\"mid\":5.1209}]}'\n",
            "b'{\"table\":\"A\",\"currency\":\"funt szterling\",\"code\":\"GBP\",\"rates\":[{\"no\":\"209/A/NBP/2023\",\"effectiveDate\":\"2023-10-27\",\"mid\":5.1266}]}'\n",
            "b'404 NotFound - Not Found - Brak danych'\n",
            "b'404 NotFound - Not Found - Brak danych'\n",
            "b'{\"table\":\"A\",\"currency\":\"funt szterling\",\"code\":\"GBP\",\"rates\":[{\"no\":\"210/A/NBP/2023\",\"effectiveDate\":\"2023-10-30\",\"mid\":5.0987}]}'\n",
            "b'{\"table\":\"A\",\"currency\":\"funt szterling\",\"code\":\"GBP\",\"rates\":[{\"no\":\"211/A/NBP/2023\",\"effectiveDate\":\"2023-10-31\",\"mid\":5.0823}]}'\n"
          ]
        }
      ]
    },
    {
      "cell_type": "code",
      "source": [
        "# Multiprocessing Pools\n",
        "from multiprocessing import Pool\n",
        "import time\n",
        "\n",
        "def square(x):\n",
        "    time.sleep(1)\n",
        "    print(x)\n",
        "    return x * 2\n",
        "\n",
        "\n",
        "numbers = [1, 2, 3, 4, 5]\n",
        "\n",
        "if __name__ == '__main__':\n",
        "    with Pool(processes=2) as pool:\n",
        "        results = pool.map(square, numbers)\n",
        "    print(results)"
      ],
      "metadata": {
        "colab": {
          "base_uri": "https://localhost:8080/"
        },
        "id": "F3KzRQxtujjE",
        "outputId": "877b7cf5-4d0a-423f-854a-08171deec1fb"
      },
      "execution_count": 16,
      "outputs": [
        {
          "output_type": "stream",
          "name": "stdout",
          "text": [
            "12\n",
            "\n",
            "3\n",
            "4\n",
            "5\n",
            "[2, 4, 6, 8, 10]\n"
          ]
        }
      ]
    },
    {
      "cell_type": "code",
      "source": [
        "# Concurrency\n",
        "import asyncio\n",
        "import time\n",
        "\n",
        "async def sql_command1():\n",
        "    await asyncio.sleep(2)\n",
        "    print(\"Query executed 1\")\n",
        "    return {\"col1\": 1, \"col2\": 2}\n",
        "\n",
        "\n",
        "async def sql_command2():\n",
        "    await asyncio.sleep(3)\n",
        "    print(\"Query executed 2\")\n",
        "    return {\"col1\": 1, \"col2\": 2}\n",
        "\n",
        "async def sql_command3():\n",
        "    await asyncio.sleep(3)\n",
        "    print(\"Query executed 3\")\n",
        "    return {\"col1\": 1, \"col2\": 2}\n",
        "\n",
        "\n",
        "async def main():\n",
        "\n",
        " start_time = time.time()\n",
        "\n",
        " sql1 = asyncio.create_task(sql_command1())\n",
        " sql2 = asyncio.create_task(sql_command2())\n",
        " sql3 = asyncio.create_task(sql_command3())\n",
        "\n",
        " res1 = await sql1\n",
        " res2 = await sql2\n",
        " res3 = await sql3\n",
        "\n",
        " end_time = time.time()\n",
        " exec_time = end_time - start_time\n",
        " print(f\"re1 {res1}\")\n",
        " print(f\"re2 {res2}\")\n",
        " print(f\"re3 {res3}\")\n",
        " print(f\"total time {exec_time:.2f}\")\n",
        "\n",
        "if __name__ == \"__main__\":\n",
        "     asyncio.run(main())"
      ],
      "metadata": {
        "id": "mNgpD0cPusMj"
      },
      "execution_count": 18,
      "outputs": []
    },
    {
      "cell_type": "code",
      "source": [
        "import aiohttp\n",
        "import asyncio\n",
        "import calendar\n",
        "\n",
        "def generate_dates(year, month):\n",
        "    _, last_day = calendar.monthrange(year, month)\n",
        "\n",
        "    dates = [f\"{year}-{month:02d}-{day:02d}\" for day in range(1, last_day + 1)]\n",
        "    return dates\n",
        "\n",
        "year = 2023\n",
        "month = 10\n",
        "result = generate_dates(year, month)\n",
        "urls = []\n",
        "for x in result:\n",
        "    urls.append(f\"http://api.nbp.pl/api/exchangerates/rates/a/gbp/{x}/\")\n",
        "\n",
        "async def download_page(session, url):\n",
        "    async with session.get(url) as r:\n",
        "        return await r.text()\n",
        "\n",
        "\n",
        "async def main():\n",
        "    async with aiohttp.ClientSession() as session:\n",
        "        datas = await asyncio.gather(*[download_page(session, u) for u in urls])\n",
        "        for x in datas:\n",
        "            print(x)\n",
        "\n",
        "if __name__ == \"__main__\":\n",
        "    loop = asyncio.new_event_loop()\n",
        "    loop.run_until_complete(main())"
      ],
      "metadata": {
        "id": "6gYuMb5Nuu2H"
      },
      "execution_count": 21,
      "outputs": []
    },
    {
      "cell_type": "code",
      "source": [
        "# Integration with Cloud Storage\n",
        "import gcsfs\n",
        "fs = gcsfs.GCSFileSystem()\n",
        "\n",
        "dest = \"gs://dxxx/clients/clients.csv\"\n",
        "\n",
        "with fs.open(dest,\"wb\") as file:\n",
        "  file.write(\"hello;csv;file\")"
      ],
      "metadata": {
        "id": "6QaNZs1wu3KA"
      },
      "execution_count": 22,
      "outputs": []
    },
    {
      "cell_type": "code",
      "source": [
        "import adlfs\n",
        "\n",
        "\n",
        "fs = adlfs.AzureBlobFileSystem(account_name=os.environ[\"AZURE_STORAGE_ACCOUNT_NAME\"])\n",
        "local_filename = \"landing/clients.csv\"\n",
        "\n",
        "with fs.open(local_filename, \"wb\") as f:\n",
        "  f.write(\"hello;csv;file\")"
      ],
      "metadata": {
        "id": "ROUHz4pouxWy"
      },
      "execution_count": 23,
      "outputs": []
    },
    {
      "cell_type": "code",
      "source": [
        "import s3fs\n",
        "\n",
        "fs = s3fs.S3FileSystem(key=mykey, secret=mysecretkey)\n",
        "bucket = \"my-bucket\"\n",
        "\n",
        "\n",
        "files = fs.ls(bucket)\n",
        "\n",
        "with s3.open('my-bucket/my-file.txt', 'rb') as f:\n",
        "  print(f.read())"
      ],
      "metadata": {
        "id": "1u_IehEau7pM"
      },
      "execution_count": 24,
      "outputs": []
    },
    {
      "cell_type": "code",
      "source": [
        "!pip install faker\n",
        "from faker import Faker\n",
        "\n",
        "# Generate synthetic client data\n",
        "def generate_client_data(num_clients=100000):\n",
        "    clients = []\n",
        "    for client_num in range(1, num_clients + 1):\n",
        "        client = {\n",
        "            \"client_number\": client_num,\n",
        "            \"name\": fake.name(),\n",
        "            \"email\": fake.email(),\n",
        "            \"phone_number\": fake.phone_number(),\n",
        "            \"bulding_number\": fake.building_number(),\n",
        "            \"street_name\": fake.street_name(),\n",
        "            \"postcode\": fake.postcode(),\n",
        "            \"city\": fake.city(),\n",
        "            \"state\": fake.state(),\n",
        "            \"birth_date\": fake.date_of_birth(minimum_age=18, maximum_age=90).strftime('%Y-%m-%d'),\n",
        "            \"credit_card_number\" : fake.credit_card_number(card_type='mastercard'),\n",
        "        }\n",
        "        clients.append(client)\n",
        "    return clients"
      ],
      "metadata": {
        "colab": {
          "base_uri": "https://localhost:8080/"
        },
        "id": "7f37LGRivBVI",
        "outputId": "314057c8-d641-4a08-d966-b7f22a4ebc0a"
      },
      "execution_count": 26,
      "outputs": [
        {
          "output_type": "stream",
          "name": "stdout",
          "text": [
            "Collecting faker\n",
            "  Downloading Faker-20.1.0-py3-none-any.whl (1.7 MB)\n",
            "\u001b[2K     \u001b[90m━━━━━━━━━━━━━━━━━━━━━━━━━━━━━━━━━━━━━━━━\u001b[0m \u001b[32m1.7/1.7 MB\u001b[0m \u001b[31m9.7 MB/s\u001b[0m eta \u001b[36m0:00:00\u001b[0m\n",
            "\u001b[?25hRequirement already satisfied: python-dateutil>=2.4 in /usr/local/lib/python3.10/dist-packages (from faker) (2.8.2)\n",
            "Requirement already satisfied: six>=1.5 in /usr/local/lib/python3.10/dist-packages (from python-dateutil>=2.4->faker) (1.16.0)\n",
            "Installing collected packages: faker\n",
            "Successfully installed faker-20.1.0\n"
          ]
        }
      ]
    },
    {
      "cell_type": "code",
      "source": [
        "import psycopg2\n",
        "import pandas as pds\n",
        "from sqlalchemy import create_engine\n",
        "\n",
        "engine= create_engine('postgresql+psycopg2://test:@127.0.0.1', pool_recycle=3600)\n",
        "\n",
        "\n",
        "with engine.connect() as conn:\n",
        "  dataFrame = pds.read_sql(\"select * from tab1\", conn)\n",
        "df = pd.read_excel('sample.xlsx')\n",
        "df.to_sql('table_name', con=engine, if_exists='append', index= False)"
      ],
      "metadata": {
        "id": "qH7yMe4VvHGj"
      },
      "execution_count": 27,
      "outputs": []
    },
    {
      "cell_type": "code",
      "source": [
        "# Unit Tests\n",
        "\n",
        "import unittest\n",
        "\n",
        "class ExampleTestSuite(unittest.TestCase):\n",
        "\n",
        "    def test_import(self):\n",
        "        self.assertTrue(True)\n",
        "\n",
        "    def test_addition(self):\n",
        "        self.assertEqual(1 + 2, 3)\n",
        "\n",
        "    def test_subtraction(self):\n",
        "        self.assertNotEqual(1 - 2, 0)\n",
        "\n",
        "if __name__ == '__main__':\n",
        "    unittest.main()"
      ],
      "metadata": {
        "colab": {
          "base_uri": "https://localhost:8080/",
          "height": 327
        },
        "id": "pb7UMFP7vK8A",
        "outputId": "fd939b39-b08d-483d-be75-4f0326532188"
      },
      "execution_count": 28,
      "outputs": [
        {
          "output_type": "stream",
          "name": "stderr",
          "text": [
            "E\n",
            "======================================================================\n",
            "ERROR: /root/ (unittest.loader._FailedTest)\n",
            "----------------------------------------------------------------------\n",
            "AttributeError: module '__main__' has no attribute '/root/'\n",
            "\n",
            "----------------------------------------------------------------------\n",
            "Ran 1 test in 0.004s\n",
            "\n",
            "FAILED (errors=1)\n"
          ]
        },
        {
          "output_type": "error",
          "ename": "SystemExit",
          "evalue": "ignored",
          "traceback": [
            "An exception has occurred, use %tb to see the full traceback.\n",
            "\u001b[0;31mSystemExit\u001b[0m\u001b[0;31m:\u001b[0m True\n"
          ]
        },
        {
          "output_type": "stream",
          "name": "stderr",
          "text": [
            "/usr/local/lib/python3.10/dist-packages/IPython/core/interactiveshell.py:3561: UserWarning: To exit: use 'exit', 'quit', or Ctrl-D.\n",
            "  warn(\"To exit: use 'exit', 'quit', or Ctrl-D.\", stacklevel=1)\n"
          ]
        }
      ]
    },
    {
      "cell_type": "code",
      "source": [
        "# Pytest\n",
        "\n",
        "def test_import():\n",
        "    assert True\n",
        "\n",
        "\n",
        "def test_addition():\n",
        "    assert 1 + 2 == 3\n",
        "\n",
        "\n",
        "def test_subtraction():\n",
        "    assert 1 - 2 != 0"
      ],
      "metadata": {
        "id": "_tPkdQZjvQN8"
      },
      "execution_count": 29,
      "outputs": []
    },
    {
      "cell_type": "code",
      "source": [
        "# Mocking\n",
        "# app.py\n",
        "\n",
        "import requests\n",
        "import json\n",
        "\n",
        "\n",
        "def get_currency(url):\n",
        "    response = requests.get(url)\n",
        "    return response.text\n",
        "\n",
        "def get_currency_rate():\n",
        "    url = \"http://api.nbp.pl/api/exchangerates/rates/a/gbp/2023-11-02/\"\n",
        "    currency = json.loads(get_currency(url))\n",
        "    return currency[\"rates\"][0][\"mid\"]\n",
        "\n",
        "\n",
        "if __name__ == \"__main__\":\n",
        "    print(get_currency_rate())"
      ],
      "metadata": {
        "colab": {
          "base_uri": "https://localhost:8080/"
        },
        "id": "vyS8727-vXkG",
        "outputId": "d2982183-7fed-40ae-d2f2-75e5806e3763"
      },
      "execution_count": 30,
      "outputs": [
        {
          "output_type": "stream",
          "name": "stdout",
          "text": [
            "5.1135\n"
          ]
        }
      ]
    },
    {
      "cell_type": "code",
      "source": [
        "import unittest\n",
        "from unittest.mock import patch, MagicMock\n",
        "\n",
        "class TestImports(unittest.TestCase):\n",
        "    text = '{\"table\": \"A\", \"currency\": \"funt szterling\", \"code\": \"GBP\", \"rates\": [{\"no\": \"212/A/NBP/2023\", \"effectiveDate\": \"2023-11-02\", \"mid\": 5.1135}]}'\n",
        "\n",
        "    @patch(\"app.get_currency\")\n",
        "    def test_import_currency(self, mock_get_currency):\n",
        "        mock_get_currency.return_value = self.text\n",
        "        self.assertEqual(get_currency_rate(), 5.1135)\n",
        "\n",
        "    @patch(\"app.requests\")\n",
        "    def test_get_currency(self, mock_requests):\n",
        "        mock_response = MagicMock()\n",
        "        mock_response.status_code = 404\n",
        "        mock_requests.get.return_value = mock_response\n",
        "\n",
        "        self.assertEqual(get_currency(\"test\"), '{\"rates\": [{\"mid\": \"\"}]}')\n",
        "\n",
        "\n",
        "if __name__ == \"__main__\":\n",
        "    unittest.main()"
      ],
      "metadata": {
        "colab": {
          "base_uri": "https://localhost:8080/",
          "height": 327
        },
        "id": "pEkBdzRcvaGQ",
        "outputId": "63637d04-be6f-47ad-b6c3-4d73c9bc6361"
      },
      "execution_count": 32,
      "outputs": [
        {
          "output_type": "stream",
          "name": "stderr",
          "text": [
            "E\n",
            "======================================================================\n",
            "ERROR: /root/ (unittest.loader._FailedTest)\n",
            "----------------------------------------------------------------------\n",
            "AttributeError: module '__main__' has no attribute '/root/'\n",
            "\n",
            "----------------------------------------------------------------------\n",
            "Ran 1 test in 0.005s\n",
            "\n",
            "FAILED (errors=1)\n"
          ]
        },
        {
          "output_type": "error",
          "ename": "SystemExit",
          "evalue": "ignored",
          "traceback": [
            "An exception has occurred, use %tb to see the full traceback.\n",
            "\u001b[0;31mSystemExit\u001b[0m\u001b[0;31m:\u001b[0m True\n"
          ]
        },
        {
          "output_type": "stream",
          "name": "stderr",
          "text": [
            "/usr/local/lib/python3.10/dist-packages/IPython/core/interactiveshell.py:3561: UserWarning: To exit: use 'exit', 'quit', or Ctrl-D.\n",
            "  warn(\"To exit: use 'exit', 'quit', or Ctrl-D.\", stacklevel=1)\n"
          ]
        }
      ]
    },
    {
      "cell_type": "code",
      "source": [
        "# Data Frame testing\n",
        "# app.py\n",
        "\n",
        "import polars as pl\n",
        "\n",
        "\n",
        "def filter_dataframe(df: pl.DataFrame) -> pl.DataFrame:\n",
        "    return df.filter(pl.col(\"col2\") == \"a\")\n",
        "\n",
        "\n",
        "def add_col_to_df(df: pl.DataFrame) -> pl.DataFrame:\n",
        "    return df.with_columns((pl.col(\"col1\") ** 2).alias(\"col1_power\"))\n",
        "\n",
        "\n",
        "if __name__ == \"__main__\":\n",
        "    df = pl.DataFrame({\"col1\": [1, 2, 3], \"col2\": [\"a\", \"b\", \"c\"]})\n",
        "    print(add_col_to_df(df))"
      ],
      "metadata": {
        "colab": {
          "base_uri": "https://localhost:8080/"
        },
        "id": "Rap7AmXOvbt3",
        "outputId": "490d53a0-7178-41c1-fd9a-5c6a4be407cb"
      },
      "execution_count": 33,
      "outputs": [
        {
          "output_type": "stream",
          "name": "stdout",
          "text": [
            "shape: (3, 3)\n",
            "┌──────┬──────┬────────────┐\n",
            "│ col1 ┆ col2 ┆ col1_power │\n",
            "│ ---  ┆ ---  ┆ ---        │\n",
            "│ i64  ┆ str  ┆ f64        │\n",
            "╞══════╪══════╪════════════╡\n",
            "│ 1    ┆ a    ┆ 1.0        │\n",
            "│ 2    ┆ b    ┆ 4.0        │\n",
            "│ 3    ┆ c    ┆ 9.0        │\n",
            "└──────┴──────┴────────────┘\n"
          ]
        }
      ]
    },
    {
      "cell_type": "code",
      "source": [
        "import pytest\n",
        "import polars as pl\n",
        "\n",
        "@pytest.fixture\n",
        "def test_dataframe() -> pl.DataFrame:\n",
        "\n",
        "    return pl.DataFrame({\"col1\": [1, 2, 3], \"col2\": [\"a\", \"b\", \"c\"]})\n",
        "\n",
        "\n",
        "def test_filter_dataframe(test_dataframe):\n",
        "    df = filter_dataframe(test_dataframe)\n",
        "    rows_count_b = df.filter(pl.col(\"col2\") == \"b\").select(pl.count()).item()\n",
        "    rows_count_c = df.filter(pl.col(\"col2\") == \"c\").select(pl.count()).item()\n",
        "    assert rows_count_b == 0\n",
        "    assert rows_count_c == 0\n",
        "\n",
        "\n",
        "def test_add_col_to_df(test_dataframe):\n",
        "\n",
        "    actual_df = add_col_to_df(test_dataframe)\n",
        "\n",
        "    assert actual_df.columns == [\"col1\", \"col2\", \"col1_power\"]\n",
        "    assert actual_df.rows() == [(1, \"a\", 1), (2, \"b\", 4), (3, \"c\", 9)]"
      ],
      "metadata": {
        "id": "CJAJ8ftdvjxd"
      },
      "execution_count": 34,
      "outputs": []
    }
  ]
}