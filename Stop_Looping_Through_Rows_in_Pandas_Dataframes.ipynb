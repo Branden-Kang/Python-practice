{
  "nbformat": 4,
  "nbformat_minor": 0,
  "metadata": {
    "colab": {
      "provenance": [],
      "authorship_tag": "ABX9TyNRY+i8LvnoR4ScvN9aJdOl"
    },
    "kernelspec": {
      "name": "python3",
      "display_name": "Python 3"
    },
    "language_info": {
      "name": "python"
    }
  },
  "cells": [
    {
      "cell_type": "markdown",
      "source": [
        "[Reference](https://medium.com/@noah.samuel.harrison/stop-looping-through-rows-in-pandas-dataframes-9375dde3410b)"
      ],
      "metadata": {
        "id": "XGm8l9tpPEuK"
      }
    },
    {
      "cell_type": "code",
      "execution_count": 1,
      "metadata": {
        "colab": {
          "base_uri": "https://localhost:8080/"
        },
        "id": "6xkh220MPCvb",
        "outputId": "9cd5cd74-2d8c-4943-d9e7-913b3c387dd4"
      },
      "outputs": [
        {
          "output_type": "stream",
          "name": "stdout",
          "text": [
            "   old_column\n",
            "0           0\n",
            "1           1\n",
            "2           2\n",
            "3           3\n",
            "4           4\n",
            "5           5\n"
          ]
        }
      ],
      "source": [
        "import pandas as pd\n",
        "\n",
        "df = pd.DataFrame({\"old_column\": [0,1,2,3,4,5]})\n",
        "print(df)"
      ]
    },
    {
      "cell_type": "code",
      "source": [
        "# Loop version\n",
        "df[\"new_column\"] = [v*3 for v in df[\"old_column\"]]\n",
        "# Vector version\n",
        "df[\"new_column\"] = df[\"new_column\"]*3\n",
        "print(df)"
      ],
      "metadata": {
        "colab": {
          "base_uri": "https://localhost:8080/"
        },
        "id": "uRGBF7VsPOAF",
        "outputId": "28a4f530-063f-47dc-c565-52f35e613bd9"
      },
      "execution_count": 2,
      "outputs": [
        {
          "output_type": "stream",
          "name": "stdout",
          "text": [
            "   old_column  new_column\n",
            "0           0           0\n",
            "1           1           9\n",
            "2           2          18\n",
            "3           3          27\n",
            "4           4          36\n",
            "5           5          45\n"
          ]
        }
      ]
    },
    {
      "cell_type": "code",
      "source": [
        "def scale_conditions(x):\n",
        "    # example function\n",
        "    if x > 10:\n",
        "        return x/3\n",
        "    else:\n",
        "        return x*3"
      ],
      "metadata": {
        "id": "I4H8F8tVPdEu"
      },
      "execution_count": 4,
      "outputs": []
    },
    {
      "cell_type": "code",
      "source": [
        "# Loop version\n",
        "df[\"scale_column\"] = [scale_conditions(v) in df[\"new_column\"]]\n",
        "# Pandas version\n",
        "df[\"scale_column\"] = df[\"new_column\"].apply(scale_conditions)\n",
        "print(df)"
      ],
      "metadata": {
        "id": "-eXmvB3RPls4"
      },
      "execution_count": null,
      "outputs": []
    },
    {
      "cell_type": "code",
      "source": [
        "# Loop version\n",
        "df[\"conditioned\"] = [1 if v%2 == 0 else 0 for v in df[\"old_column\"]]\n",
        "# Pandas version\n",
        "df[\"conditioned\"] = 0\n",
        "df.loc[df[\"conditioned\"] % 2 ==0, 'conditioned']=1\n",
        "print(df)"
      ],
      "metadata": {
        "colab": {
          "base_uri": "https://localhost:8080/"
        },
        "id": "HHwiQJVfP7-K",
        "outputId": "2fed2c58-ac27-4c18-d6cb-d78569c2e76d"
      },
      "execution_count": 5,
      "outputs": [
        {
          "output_type": "stream",
          "name": "stdout",
          "text": [
            "   old_column  new_column  conditioned\n",
            "0           0           0            1\n",
            "1           1           9            1\n",
            "2           2          18            1\n",
            "3           3          27            1\n",
            "4           4          36            1\n",
            "5           5          45            1\n"
          ]
        }
      ]
    },
    {
      "cell_type": "code",
      "source": [
        "import numpy as np\n",
        "# numpy version\n",
        "df[\"conditioned\"] = np.where(df[\"old_column\"] % 2 == 0, 1, 0)\n",
        "print(df)"
      ],
      "metadata": {
        "colab": {
          "base_uri": "https://localhost:8080/"
        },
        "id": "I2iHF4hSQO6l",
        "outputId": "b516af32-e6f6-4fa9-b0ad-8d648c2553e4"
      },
      "execution_count": 7,
      "outputs": [
        {
          "output_type": "stream",
          "name": "stdout",
          "text": [
            "   old_column  new_column  conditioned\n",
            "0           0           0            1\n",
            "1           1           9            0\n",
            "2           2          18            1\n",
            "3           3          27            0\n",
            "4           4          36            1\n",
            "5           5          45            0\n"
          ]
        }
      ]
    }
  ]
}