{
  "nbformat": 4,
  "nbformat_minor": 0,
  "metadata": {
    "colab": {
      "name": "Twelve @dataclass Examples for Better Python Code.ipynb",
      "provenance": [],
      "collapsed_sections": [],
      "authorship_tag": "ABX9TyN4UpzJXH1e+seZ9eHwFL9Y"
    },
    "kernelspec": {
      "name": "python3",
      "display_name": "Python 3"
    },
    "language_info": {
      "name": "python"
    }
  },
  "cells": [
    {
      "cell_type": "markdown",
      "metadata": {
        "id": "jLug8h9_jsNN"
      },
      "source": [
        "[Reference](https://itnext.io/twelve-dataclass-examples-for-better-python-code-d1318f362d93)"
      ]
    },
    {
      "cell_type": "code",
      "metadata": {
        "id": "HUEd56z-jAmh"
      },
      "source": [
        "class Data:\n",
        "    def __init__(self, X=None, y=None, kwargs=None):\n",
        "        self.X = X\n",
        "        self.y = y\n",
        "        self.kwargs = kwargs"
      ],
      "execution_count": 1,
      "outputs": []
    },
    {
      "cell_type": "code",
      "metadata": {
        "id": "LuuSYVVTjDRk"
      },
      "source": [
        "from dataclasses import dataclass\n",
        "from typing import Dict\n",
        "import numpy as np\n",
        "@dataclass\n",
        "class Data:\n",
        "    X: np.ndarray = None  # The field declaration: X\n",
        "    y: np.array = None    # The field declaration: y\n",
        "    kwargs: Dict = None   # The field declaration: kwargs"
      ],
      "execution_count": 3,
      "outputs": []
    },
    {
      "cell_type": "code",
      "metadata": {
        "colab": {
          "base_uri": "https://localhost:8080/"
        },
        "id": "5YWnf74OjEaV",
        "outputId": "897e8451-fd4c-40b0-f1c6-548b937af985"
      },
      "source": [
        "### Example #2\n",
        "data1 = Data()\n",
        "data2 = Data()\n",
        "data1 == data1"
      ],
      "execution_count": 5,
      "outputs": [
        {
          "output_type": "execute_result",
          "data": {
            "text/plain": [
              "True"
            ]
          },
          "metadata": {
            "tags": []
          },
          "execution_count": 5
        }
      ]
    },
    {
      "cell_type": "code",
      "metadata": {
        "colab": {
          "base_uri": "https://localhost:8080/"
        },
        "id": "eAZz4KDyjGVT",
        "outputId": "af0b2b7d-d856-4b0b-ce35-17fe8926a80f"
      },
      "source": [
        "### Example #3\n",
        "print(data1)\n",
        "data1"
      ],
      "execution_count": 7,
      "outputs": [
        {
          "output_type": "stream",
          "text": [
            "Data(X=None, y=None, kwargs=None)\n"
          ],
          "name": "stdout"
        },
        {
          "output_type": "execute_result",
          "data": {
            "text/plain": [
              "Data(X=None, y=None, kwargs=None)"
            ]
          },
          "metadata": {
            "tags": []
          },
          "execution_count": 7
        }
      ]
    },
    {
      "cell_type": "code",
      "metadata": {
        "id": "9G9yKvq9jJ89"
      },
      "source": [
        "# Example #4\n",
        "\n",
        "@dataclass(unsafe_hash=True)\n",
        "class Data:\n",
        "    X: np.ndarray = None\n",
        "    y: np.array = None\n",
        "    kwargs: Dict = None\n",
        "        \n",
        "data3 = Data(1,2,3)"
      ],
      "execution_count": 10,
      "outputs": []
    },
    {
      "cell_type": "code",
      "metadata": {
        "colab": {
          "base_uri": "https://localhost:8080/"
        },
        "id": "9v2mjqwnjNaT",
        "outputId": "0871d772-741b-486a-a93a-1ed8b497269f"
      },
      "source": [
        "### Example #5\n",
        "from inspect import signature\n",
        "print(signature(data3.__init__))"
      ],
      "execution_count": 11,
      "outputs": [
        {
          "output_type": "stream",
          "text": [
            "(X: numpy.ndarray = None, y: <built-in function array> = None, kwargs: Dict = None) -> None\n"
          ],
          "name": "stdout"
        }
      ]
    },
    {
      "cell_type": "code",
      "metadata": {
        "id": "JZaLtGS9jSIT"
      },
      "source": [
        "### Example #6\n",
        "\n",
        "class CrossValidation:    \n",
        "    \n",
        "    def __init__(self, inner_cv, outer_cv,\n",
        "                 eval_final_performance, test_size,\n",
        "                 calculate_metrics_per_fold,\n",
        "                 calculate_metrics_across_folds):\n",
        "        self.inner_cv = inner_cv\n",
        "        self.outer_cv = outer_cv\n",
        "        self.eval_final_performance = eval_final_performance\n",
        "        self.test_size = test_size\n",
        "        self.calculate_metrics_per_fold = calculate_metrics_per_fold\n",
        "        self.calculate_metrics_across_folds = calculate_metrics_across_folds        \n",
        "        self.outer_folds = None\n",
        "        self.inner_folds = dict()"
      ],
      "execution_count": 15,
      "outputs": []
    },
    {
      "cell_type": "code",
      "metadata": {
        "id": "lkYWCrRXjWLB"
      },
      "source": [
        "from dataclasses import dataclass\n",
        "@dataclass\n",
        "class CrossValidation:\n",
        "    inner_cv: int\n",
        "    outer_cv: int\n",
        "    eval_final_performance: bool = True\n",
        "    test_size: float = 0.2\n",
        "    calculate_metrics_per_fold: bool = True\n",
        "    calculate_metrics_across_folds: bool = False"
      ],
      "execution_count": 16,
      "outputs": []
    },
    {
      "cell_type": "code",
      "metadata": {
        "colab": {
          "base_uri": "https://localhost:8080/",
          "height": 215
        },
        "id": "rt7Czb29jdK6",
        "outputId": "b96c26c0-60ac-449f-f156-2f9fb46c270c"
      },
      "source": [
        "cv1 = CrossValidation()"
      ],
      "execution_count": 17,
      "outputs": [
        {
          "output_type": "error",
          "ename": "TypeError",
          "evalue": "ignored",
          "traceback": [
            "\u001b[0;31m---------------------------------------------------------------------------\u001b[0m",
            "\u001b[0;31mTypeError\u001b[0m                                 Traceback (most recent call last)",
            "\u001b[0;32m<ipython-input-17-d13dba9669ad>\u001b[0m in \u001b[0;36m<module>\u001b[0;34m()\u001b[0m\n\u001b[0;32m----> 1\u001b[0;31m \u001b[0mcv1\u001b[0m \u001b[0;34m=\u001b[0m \u001b[0mCrossValidation\u001b[0m\u001b[0;34m(\u001b[0m\u001b[0;34m)\u001b[0m\u001b[0;34m\u001b[0m\u001b[0;34m\u001b[0m\u001b[0m\n\u001b[0m",
            "\u001b[0;31mTypeError\u001b[0m: __init__() missing 2 required positional arguments: 'inner_cv' and 'outer_cv'"
          ]
        }
      ]
    },
    {
      "cell_type": "code",
      "metadata": {
        "colab": {
          "base_uri": "https://localhost:8080/"
        },
        "id": "ZudEvIF1jeci",
        "outputId": "c5e22987-505c-4553-bba6-e15386c83f95"
      },
      "source": [
        "cv1 = CrossValidation(1,2)\n",
        "cv2 = CrossValidation(1,2)\n",
        "cv3 = CrossValidation(3,2,test_size=0.5)\n",
        "print(cv1)\n",
        "cv3"
      ],
      "execution_count": 18,
      "outputs": [
        {
          "output_type": "stream",
          "text": [
            "CrossValidation(inner_cv=1, outer_cv=2, eval_final_performance=True, test_size=0.2, calculate_metrics_per_fold=True, calculate_metrics_across_folds=False)\n"
          ],
          "name": "stdout"
        },
        {
          "output_type": "execute_result",
          "data": {
            "text/plain": [
              "CrossValidation(inner_cv=3, outer_cv=2, eval_final_performance=True, test_size=0.5, calculate_metrics_per_fold=True, calculate_metrics_across_folds=False)"
            ]
          },
          "metadata": {
            "tags": []
          },
          "execution_count": 18
        }
      ]
    },
    {
      "cell_type": "code",
      "metadata": {
        "colab": {
          "base_uri": "https://localhost:8080/"
        },
        "id": "lIOeRMQpjgP-",
        "outputId": "dc528ee9-3af9-434c-b742-ea8c62a5ea5e"
      },
      "source": [
        "cv1 == cv2"
      ],
      "execution_count": 19,
      "outputs": [
        {
          "output_type": "execute_result",
          "data": {
            "text/plain": [
              "True"
            ]
          },
          "metadata": {
            "tags": []
          },
          "execution_count": 19
        }
      ]
    },
    {
      "cell_type": "code",
      "metadata": {
        "colab": {
          "base_uri": "https://localhost:8080/"
        },
        "id": "mUdKxgVWjh4T",
        "outputId": "daf00f93-f6c5-4223-ef71-865c779a9364"
      },
      "source": [
        "cv1 == cv3"
      ],
      "execution_count": 20,
      "outputs": [
        {
          "output_type": "execute_result",
          "data": {
            "text/plain": [
              "False"
            ]
          },
          "metadata": {
            "tags": []
          },
          "execution_count": 20
        }
      ]
    },
    {
      "cell_type": "code",
      "metadata": {
        "colab": {
          "base_uri": "https://localhost:8080/"
        },
        "id": "mk_BhQgqjjDT",
        "outputId": "2bf95f82-1326-41a1-9d22-0c54e710b5a7"
      },
      "source": [
        "from inspect import signature\n",
        "print(signature(cv3.__init__))\n",
        "cv3"
      ],
      "execution_count": 21,
      "outputs": [
        {
          "output_type": "stream",
          "text": [
            "(inner_cv: int, outer_cv: int, eval_final_performance: bool = True, test_size: float = 0.2, calculate_metrics_per_fold: bool = True, calculate_metrics_across_folds: bool = False) -> None\n"
          ],
          "name": "stdout"
        },
        {
          "output_type": "execute_result",
          "data": {
            "text/plain": [
              "CrossValidation(inner_cv=3, outer_cv=2, eval_final_performance=True, test_size=0.5, calculate_metrics_per_fold=True, calculate_metrics_across_folds=False)"
            ]
          },
          "metadata": {
            "tags": []
          },
          "execution_count": 21
        }
      ]
    },
    {
      "cell_type": "code",
      "metadata": {
        "id": "_WC9kEZmjkGi"
      },
      "source": [
        "from dataclasses import dataclass\n",
        "@dataclass\n",
        "class CrossValidation:\n",
        "    inner_cv: int\n",
        "    outer_cv: int\n",
        "    eval_final_performance: bool = True\n",
        "    test_size: float = 0.2\n",
        "    calculate_metrics_per_fold: bool = True\n",
        "    calculate_metrics_across_folds: bool = False\n",
        "    \n",
        "def __post_init__(self):\n",
        "        self.outer_folds = None\n",
        "        self.inner_folds = dict()"
      ],
      "execution_count": 23,
      "outputs": []
    }
  ]
}