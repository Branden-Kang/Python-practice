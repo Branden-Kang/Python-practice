{
  "nbformat": 4,
  "nbformat_minor": 0,
  "metadata": {
    "colab": {
      "name": "7 Amazing Python One-Liners You Must Know.ipynb",
      "provenance": [],
      "authorship_tag": "ABX9TyPQKIlrQviN9a8pGyqFX6G1"
    },
    "kernelspec": {
      "name": "python3",
      "display_name": "Python 3"
    },
    "language_info": {
      "name": "python"
    }
  },
  "cells": [
    {
      "cell_type": "markdown",
      "metadata": {
        "id": "P3TEdpxoMDtb"
      },
      "source": [
        "[Reference](https://towardsdatascience.com/7-amazing-python-one-liners-you-must-know-413ae021470f)"
      ]
    },
    {
      "cell_type": "markdown",
      "metadata": {
        "id": "Onzr_TpyMWUb"
      },
      "source": [
        "# 1. Grab text from the image"
      ]
    },
    {
      "cell_type": "code",
      "metadata": {
        "colab": {
          "base_uri": "https://localhost:8080/"
        },
        "id": "POIDjNsSMCH-",
        "outputId": "7a2f915a-4b49-4459-e92c-48fb64529dee"
      },
      "source": [
        "!pip install opencv-python\n",
        "!pip install pytesseract"
      ],
      "execution_count": 1,
      "outputs": [
        {
          "output_type": "stream",
          "text": [
            "Requirement already satisfied: opencv-python in /usr/local/lib/python3.7/dist-packages (4.1.2.30)\n",
            "Requirement already satisfied: numpy>=1.14.5 in /usr/local/lib/python3.7/dist-packages (from opencv-python) (1.19.5)\n",
            "Collecting pytesseract\n",
            "  Downloading https://files.pythonhosted.org/packages/a0/e6/a4e9fc8a93c1318540e8de6d8d4beb5749b7960388a7c7f27799fc2dd016/pytesseract-0.3.7.tar.gz\n",
            "Requirement already satisfied: Pillow in /usr/local/lib/python3.7/dist-packages (from pytesseract) (7.1.2)\n",
            "Building wheels for collected packages: pytesseract\n",
            "  Building wheel for pytesseract (setup.py) ... \u001b[?25l\u001b[?25hdone\n",
            "  Created wheel for pytesseract: filename=pytesseract-0.3.7-py2.py3-none-any.whl size=13953 sha256=b50c079ffe56e7d4b6c92964bc41841f419fc8a9629ae0c8815c2aa5db7ede2d\n",
            "  Stored in directory: /root/.cache/pip/wheels/81/20/7e/1dd0daad1575d5260916bb1e9781246430647adaef4b3ca3b3\n",
            "Successfully built pytesseract\n",
            "Installing collected packages: pytesseract\n",
            "Successfully installed pytesseract-0.3.7\n"
          ],
          "name": "stdout"
        }
      ]
    },
    {
      "cell_type": "markdown",
      "metadata": {
        "id": "ulN79onfMQhp"
      },
      "source": [
        "[Download](https://github.com/UB-Mannheim/tesseract/wiki)"
      ]
    },
    {
      "cell_type": "code",
      "metadata": {
        "id": "7_ybNshHMHAh"
      },
      "source": [
        "import cv2\n",
        "import pytesseract\n",
        "\n",
        "pytesseract.pytesseract.tesseract_cmd = \"YOUR_DOWNLOADED_FILE_PATH\""
      ],
      "execution_count": 2,
      "outputs": []
    },
    {
      "cell_type": "code",
      "metadata": {
        "id": "apk9Pn67MLT0"
      },
      "source": [
        "img = cv2.imread(\"YOUR_IMAGE_PATH\")\n",
        "text = pytesseract.image_to_string(img)print(text)"
      ],
      "execution_count": 3,
      "outputs": []
    },
    {
      "cell_type": "markdown",
      "metadata": {
        "id": "J4WUZ9SAMUQ5"
      },
      "source": [
        "# 2. Import all the libraries in one go"
      ]
    },
    {
      "cell_type": "code",
      "metadata": {
        "colab": {
          "base_uri": "https://localhost:8080/"
        },
        "id": "WyrbTI75MaZh",
        "outputId": "620170b0-bccc-4de1-cbcf-e6b5c8bc495e"
      },
      "source": [
        "pip install pyforest"
      ],
      "execution_count": 4,
      "outputs": [
        {
          "output_type": "stream",
          "text": [
            "Collecting pyforest\n",
            "  Downloading https://files.pythonhosted.org/packages/e5/ae/418f9bbcfb442bb6775f294451c97e134f84c8c4f47d75208419e4af7e13/pyforest-1.1.0.tar.gz\n",
            "Building wheels for collected packages: pyforest\n",
            "  Building wheel for pyforest (setup.py) ... \u001b[?25l\u001b[?25hdone\n",
            "  Created wheel for pyforest: filename=pyforest-1.1.0-py2.py3-none-any.whl size=14606 sha256=7e5e75dd7ac815f6d5c2b34978267ea38923ae9d13be4e44d2381ab68adcb0dc\n",
            "  Stored in directory: /root/.cache/pip/wheels/40/c6/da/43562aeea85b37f1a2b3d326f0f602f865000d2ada8a43625f\n",
            "Successfully built pyforest\n",
            "Installing collected packages: pyforest\n",
            "Successfully installed pyforest-1.1.0\n"
          ],
          "name": "stdout"
        }
      ]
    },
    {
      "cell_type": "code",
      "metadata": {
        "id": "fXCXQdFTMNDo"
      },
      "source": [
        "import pyforest"
      ],
      "execution_count": 5,
      "outputs": []
    },
    {
      "cell_type": "code",
      "metadata": {
        "colab": {
          "base_uri": "https://localhost:8080/"
        },
        "id": "k-zgatE_Mb3t",
        "outputId": "5367b8c1-d177-4c1a-dd0f-2e0e9dac6d4c"
      },
      "source": [
        "dir(pyforest)"
      ],
      "execution_count": 6,
      "outputs": [
        {
          "output_type": "execute_result",
          "data": {
            "text/plain": [
              "['ARIMA',\n",
              " 'CountVectorizer',\n",
              " 'ElasticNet',\n",
              " 'ElasticNetCV',\n",
              " 'GradientBoostingClassifier',\n",
              " 'GradientBoostingRegressor',\n",
              " 'GridSearchCV',\n",
              " 'Image',\n",
              " 'KFold',\n",
              " 'KMeans',\n",
              " 'LabelEncoder',\n",
              " 'Lasso',\n",
              " 'LassoCV',\n",
              " 'LazyImport',\n",
              " 'LinearRegression',\n",
              " 'LogisticRegression',\n",
              " 'MinMaxScaler',\n",
              " 'OneHotEncoder',\n",
              " 'PCA',\n",
              " 'Path',\n",
              " 'PolynomialFeatures',\n",
              " 'Prophet',\n",
              " 'RandomForestClassifier',\n",
              " 'RandomForestRegressor',\n",
              " 'RandomizedSearchCV',\n",
              " 'Ridge',\n",
              " 'RidgeCV',\n",
              " 'RobustScaler',\n",
              " 'SimpleImputer',\n",
              " 'SparkContext',\n",
              " 'StandardScaler',\n",
              " 'StratifiedKFold',\n",
              " 'TSNE',\n",
              " 'TfidfVectorizer',\n",
              " '__builtins__',\n",
              " '__cached__',\n",
              " '__doc__',\n",
              " '__file__',\n",
              " '__loader__',\n",
              " '__name__',\n",
              " '__package__',\n",
              " '__path__',\n",
              " '__spec__',\n",
              " '__version__',\n",
              " '_importable',\n",
              " '_imports',\n",
              " '_jupyter_labextension_paths',\n",
              " '_jupyter_nbextension_paths',\n",
              " 'active_imports',\n",
              " 'alt',\n",
              " 'bokeh',\n",
              " 'cross_val_score',\n",
              " 'cv2',\n",
              " 'dash',\n",
              " 'dd',\n",
              " 'dt',\n",
              " 'fastai',\n",
              " 'fbprophet',\n",
              " 'gensim',\n",
              " 'get_user_symbols',\n",
              " 'glob',\n",
              " 'go',\n",
              " 'import_symbol',\n",
              " 'imutils',\n",
              " 'install_extensions',\n",
              " 'install_labextension',\n",
              " 'install_nbextension',\n",
              " 'keras',\n",
              " 'lazy_imports',\n",
              " 'lgb',\n",
              " 'load_workbook',\n",
              " 'metrics',\n",
              " 'mpl',\n",
              " 'nltk',\n",
              " 'np',\n",
              " 'open_workbook',\n",
              " 'os',\n",
              " 'pd',\n",
              " 'pickle',\n",
              " 'plt',\n",
              " 'px',\n",
              " 'py',\n",
              " 'pydot',\n",
              " 'pyforest_imports',\n",
              " 're',\n",
              " 'sg',\n",
              " 'skimage',\n",
              " 'sklearn',\n",
              " 'sm',\n",
              " 'sns',\n",
              " 'spacy',\n",
              " 'statistics',\n",
              " 'stats',\n",
              " 'svm',\n",
              " 'sys',\n",
              " 'textblob',\n",
              " 'tf',\n",
              " 'torch',\n",
              " 'tqdm',\n",
              " 'train_test_split',\n",
              " 'user_specific_imports',\n",
              " 'user_symbols',\n",
              " 'utils',\n",
              " 'wr',\n",
              " 'xgb']"
            ]
          },
          "metadata": {
            "tags": []
          },
          "execution_count": 6
        }
      ]
    },
    {
      "cell_type": "markdown",
      "metadata": {
        "id": "Eu0jyU9pMfEL"
      },
      "source": [
        "# 3. Getting the data profiling report"
      ]
    },
    {
      "cell_type": "code",
      "metadata": {
        "colab": {
          "base_uri": "https://localhost:8080/"
        },
        "id": "LShd9QEqMcl5",
        "outputId": "321115ba-1a86-400f-93ec-3db03e495331"
      },
      "source": [
        "!pip install pandas_profiling"
      ],
      "execution_count": 7,
      "outputs": [
        {
          "output_type": "stream",
          "text": [
            "Requirement already satisfied: pandas_profiling in /usr/local/lib/python3.7/dist-packages (1.4.1)\n",
            "Requirement already satisfied: six>=1.9 in /usr/local/lib/python3.7/dist-packages (from pandas_profiling) (1.15.0)\n",
            "Requirement already satisfied: matplotlib>=1.4 in /usr/local/lib/python3.7/dist-packages (from pandas_profiling) (3.2.2)\n",
            "Requirement already satisfied: pandas>=0.19 in /usr/local/lib/python3.7/dist-packages (from pandas_profiling) (1.1.5)\n",
            "Requirement already satisfied: jinja2>=2.8 in /usr/local/lib/python3.7/dist-packages (from pandas_profiling) (2.11.3)\n",
            "Requirement already satisfied: cycler>=0.10 in /usr/local/lib/python3.7/dist-packages (from matplotlib>=1.4->pandas_profiling) (0.10.0)\n",
            "Requirement already satisfied: python-dateutil>=2.1 in /usr/local/lib/python3.7/dist-packages (from matplotlib>=1.4->pandas_profiling) (2.8.1)\n",
            "Requirement already satisfied: numpy>=1.11 in /usr/local/lib/python3.7/dist-packages (from matplotlib>=1.4->pandas_profiling) (1.19.5)\n",
            "Requirement already satisfied: kiwisolver>=1.0.1 in /usr/local/lib/python3.7/dist-packages (from matplotlib>=1.4->pandas_profiling) (1.3.1)\n",
            "Requirement already satisfied: pyparsing!=2.0.4,!=2.1.2,!=2.1.6,>=2.0.1 in /usr/local/lib/python3.7/dist-packages (from matplotlib>=1.4->pandas_profiling) (2.4.7)\n",
            "Requirement already satisfied: pytz>=2017.2 in /usr/local/lib/python3.7/dist-packages (from pandas>=0.19->pandas_profiling) (2018.9)\n",
            "Requirement already satisfied: MarkupSafe>=0.23 in /usr/local/lib/python3.7/dist-packages (from jinja2>=2.8->pandas_profiling) (2.0.1)\n"
          ],
          "name": "stdout"
        }
      ]
    },
    {
      "cell_type": "code",
      "metadata": {
        "id": "vVWL8rd3MgA4"
      },
      "source": [
        "import pandas_profiling\n",
        "import pandas as pd"
      ],
      "execution_count": 8,
      "outputs": []
    },
    {
      "cell_type": "code",
      "metadata": {
        "id": "5ZQ19A-kMg2U"
      },
      "source": [
        "# df = pd.read_csv('test.csv')\n",
        "# hourse_price_report=pandas_profiling.ProfileReport(df).to_file('house_report.html')"
      ],
      "execution_count": 9,
      "outputs": []
    },
    {
      "cell_type": "markdown",
      "metadata": {
        "id": "N1W88IglMoVB"
      },
      "source": [
        "# 4. Merging two dictionaries"
      ]
    },
    {
      "cell_type": "code",
      "metadata": {
        "id": "4JCha4BwMifm"
      },
      "source": [
        "dic1.update(dic2)"
      ],
      "execution_count": 10,
      "outputs": []
    },
    {
      "cell_type": "markdown",
      "metadata": {
        "id": "6QfjvqAKMq7u"
      },
      "source": [
        "# 5. Convert a list of strings to integers"
      ]
    },
    {
      "cell_type": "code",
      "metadata": {
        "colab": {
          "base_uri": "https://localhost:8080/"
        },
        "id": "KDAoqxqpMpiV",
        "outputId": "6c0a2eb5-4453-47fe-c39e-5821f8517716"
      },
      "source": [
        "list(map(int, ['1', '2', '3']))"
      ],
      "execution_count": 11,
      "outputs": [
        {
          "output_type": "execute_result",
          "data": {
            "text/plain": [
              "[1, 2, 3]"
            ]
          },
          "metadata": {
            "tags": []
          },
          "execution_count": 11
        }
      ]
    },
    {
      "cell_type": "markdown",
      "metadata": {
        "id": "-jIwj7KnMuuT"
      },
      "source": [
        "# 6. Scraping data from the website"
      ]
    },
    {
      "cell_type": "code",
      "metadata": {
        "id": "8bQ6LjslMsZ4"
      },
      "source": [
        "import pandas as pd\n",
        "data = pd.read_html(\"https://en.wikipedia.org/wiki/Bitcoin\")"
      ],
      "execution_count": 12,
      "outputs": []
    },
    {
      "cell_type": "code",
      "metadata": {
        "colab": {
          "base_uri": "https://localhost:8080/"
        },
        "id": "1M0ZlTr0Mwmq",
        "outputId": "5a1ed400-62e3-4ac1-a402-4c119ed29109"
      },
      "source": [
        "data"
      ],
      "execution_count": 13,
      "outputs": [
        {
          "output_type": "execute_result",
          "data": {
            "text/plain": [
              "[                                              Bitcoin                                          Bitcoin.1\n",
              " 0                             Prevailing bitcoin logo                            Prevailing bitcoin logo\n",
              " 1                                       Denominations                                      Denominations\n",
              " 2                                              Plural                                           bitcoins\n",
              " 3                                              Symbol  ₿ (Unicode: .mw-parser-output .monospaced{font...\n",
              " 4                                       Ticker symbol                                        BTC, XBT[b]\n",
              " 5                                           Precision                                               10−8\n",
              " 6                                            Subunits                                                NaN\n",
              " 7   .mw-parser-output .nobold{font-weight:normal} ...                                       millibitcoin\n",
              " 8                                         1⁄100000000                                         satoshi[2]\n",
              " 9                                         Development                                        Development\n",
              " 10                                 Original author(s)                                   Satoshi Nakamoto\n",
              " 11                                        White paper  \"Bitcoin: A Peer-to-Peer Electronic Cash Syste...\n",
              " 12                                  Implementation(s)                                       Bitcoin Core\n",
              " 13                                    Initial release              0.1.0 / 9 January 2009 (12 years ago)\n",
              " 14                                     Latest release               0.21.1 / 2 May 2021 (48 days ago)[3]\n",
              " 15                                    Code repository                 https://github.com/bitcoin/bitcoin\n",
              " 16                                 Development status                                             Active\n",
              " 17                                            Website                                        bitcoin.org\n",
              " 18                                             Ledger                                             Ledger\n",
              " 19                                       Ledger start                      3 January 2009 (12 years ago)\n",
              " 20                                Timestamping scheme             Proof-of-work (partial hash inversion)\n",
              " 21                                      Hash function                                            SHA-256\n",
              " 22                                  Issuance schedule  Decentralized (block reward)Initially ₿50 per ...\n",
              " 23                                       Block reward                                           ₿6.25[c]\n",
              " 24                                         Block time                                         10 minutes\n",
              " 25                                     Block explorer                               Many implementations\n",
              " 26                                 Circulating supply                   ₿18,660,000 (as of 20 March 2021\n",
              " 27                                       Supply limit                                  ₿21,000,000[5][d]\n",
              " 28  .mw-parser-output .reflist{font-size:90%;margi...  .mw-parser-output .reflist{font-size:90%;margi...,\n",
              "     0                                                  1\n",
              " 0 NaN  This article contains special characters. With...,\n",
              "                                       External video                                   External video.1\n",
              " 0  The Declaration Of Bitcoin's Independence, Bra...  The Declaration Of Bitcoin's Independence, Bra...,\n",
              "                                       External video                                   External video.1\n",
              " 0  Cryptocurrencies: looking beyond the hype, Hyu...  Cryptocurrencies: looking beyond the hype, Hyu...,\n",
              "                                0                                        1\n",
              " 0  The start screen under Fedora            The start screen under Fedora\n",
              " 1             Original author(s)                         Satoshi Nakamoto\n",
              " 2                Initial release                                     2009\n",
              " 3                 Stable release  0.20.1 (2 August 2020; 10 months ago[±]\n",
              " 4                     Repository               github.com/bitcoin/bitcoin\n",
              " 5                     Written in                                      C++\n",
              " 6               Operating system                    Linux, Windows, macOS\n",
              " 7                           Type                           Cryptocurrency\n",
              " 8                        License                              MIT License\n",
              " 9                        Website                          bitcoincore.org,\n",
              "     0                                                1\n",
              " 0 NaN  Wikimedia Commons has media related to Bitcoin.,\n",
              "    .mw-parser-output .navbar{display:inline;font-size:88%;font-weight:normal}.mw-parser-output .navbar-collapse{float:left;text-align:left}.mw-parser-output .navbar-boxtext{word-spacing:0}.mw-parser-output .navbar ul{display:inline-block;white-space:nowrap;line-height:inherit}.mw-parser-output .navbar-brackets::before{margin-right:-0.125em;content:\"[ \"}.mw-parser-output .navbar-brackets::after{margin-left:-0.125em;content:\" ]\"}.mw-parser-output .navbar li{word-spacing:-0.125em}.mw-parser-output .navbar-mini abbr{font-variant:small-caps;border-bottom:none;text-decoration:none;cursor:inherit}.mw-parser-output .navbar-ct-full{font-size:114%;margin:0 7em}.mw-parser-output .navbar-ct-mini{font-size:114%;margin:0 4em}.mw-parser-output .infobox .navbar{font-size:100%}.mw-parser-output .navbox .navbar{display:block;font-size:100%}.mw-parser-output .navbox-title .navbar{float:left;text-align:left;margin-right:0.5em}vteBitcoin  ... .mw-parser-output .navbar{display:inline;font-size:88%;font-weight:normal}.mw-parser-output .navbar-collapse{float:left;text-align:left}.mw-parser-output .navbar-boxtext{word-spacing:0}.mw-parser-output .navbar ul{display:inline-block;white-space:nowrap;line-height:inherit}.mw-parser-output .navbar-brackets::before{margin-right:-0.125em;content:\"[ \"}.mw-parser-output .navbar-brackets::after{margin-left:-0.125em;content:\" ]\"}.mw-parser-output .navbar li{word-spacing:-0.125em}.mw-parser-output .navbar-mini abbr{font-variant:small-caps;border-bottom:none;text-decoration:none;cursor:inherit}.mw-parser-output .navbar-ct-full{font-size:114%;margin:0 7em}.mw-parser-output .navbar-ct-mini{font-size:114%;margin:0 4em}.mw-parser-output .infobox .navbar{font-size:100%}.mw-parser-output .navbox .navbar{display:block;font-size:100%}.mw-parser-output .navbox-title .navbar{float:left;text-align:left;margin-right:0.5em}vteBitcoin.2\n",
              " 0                      History Economics Legal status                                                                                                                                                                                                                                                                                                                                                                                                                                                                                                                                                                                                                                                                                                                                                                                                                                                                                                               ...                     History Economics Legal status                                                                                                                                                                                                                                                                                                                                                                                                                                                                                                                                                                                                                                                                                                                                                                                                                                                                                                               \n",
              " 1                                              People                                                                                                                                                                                                                                                                                                                                                                                                                                                                                                                                                                                                                                                                                                                                                                                                                                                                                                               ...  .mw-parser-output .portal{border:solid #aaa 1p...                                                                                                                                                                                                                                                                                                                                                                                                                                                                                                                                                                                                                                                                                                                                                                                                                                                                                                               \n",
              " 2                                               Lists                                                                                                                                                                                                                                                                                                                                                                                                                                                                                                                                                                                                                                                                                                                                                                                                                                                                                                               ...  .mw-parser-output .portal{border:solid #aaa 1p...                                                                                                                                                                                                                                                                                                                                                                                                                                                                                                                                                                                                                                                                                                                                                                                                                                                                                                               \n",
              " 3                                        Technologies                                                                                                                                                                                                                                                                                                                                                                                                                                                                                                                                                                                                                                                                                                                                                                                                                                                                                                               ...  .mw-parser-output .portal{border:solid #aaa 1p...                                                                                                                                                                                                                                                                                                                                                                                                                                                                                                                                                                                                                                                                                                                                                                                                                                                                                                               \n",
              " 4                                               Forks                                                                                                                                                                                                                                                                                                                                                                                                                                                                                                                                                                                                                                                                                                                                                                                                                                                                                                               ...  .mw-parser-output .portal{border:solid #aaa 1p...                                                                                                                                                                                                                                                                                                                                                                                                                                                                                                                                                                                                                                                                                                                                                                                                                                                                                                               \n",
              " 5                                              Client                                                                                                                                                                                                                                                                                                                                                                                                                                                                                                                                                                                                                                                                                                                                                                                                                                                                                                               ...  .mw-parser-output .portal{border:solid #aaa 1p...                                                                                                                                                                                                                                                                                                                                                                                                                                                                                                                                                                                                                                                                                                                                                                                                                                                                                                               \n",
              " 6                                            Currency                                                                                                                                                                                                                                                                                                                                                                                                                                                                                                                                                                                                                                                                                                                                                                                                                                                                                                               ...  .mw-parser-output .portal{border:solid #aaa 1p...                                                                                                                                                                                                                                                                                                                                                                                                                                                                                                                                                                                                                                                                                                                                                                                                                                                                                                               \n",
              " 7                                           Exchanges                                                                                                                                                                                                                                                                                                                                                                                                                                                                                                                                                                                                                                                                                                                                                                                                                                                                                                               ...  .mw-parser-output .portal{border:solid #aaa 1p...                                                                                                                                                                                                                                                                                                                                                                                                                                                                                                                                                                                                                                                                                                                                                                                                                                                                                                               \n",
              " 8                                             Defunct                                                                                                                                                                                                                                                                                                                                                                                                                                                                                                                                                                                                                                                                                                                                                                                                                                                                                                               ...  .mw-parser-output .portal{border:solid #aaa 1p...                                                                                                                                                                                                                                                                                                                                                                                                                                                                                                                                                                                                                                                                                                                                                                                                                                                                                                               \n",
              " 9                                             History                                                                                                                                                                                                                                                                                                                                                                                                                                                                                                                                                                                                                                                                                                                                                                                                                                                                                                               ...                                                NaN                                                                                                                                                                                                                                                                                                                                                                                                                                                                                                                                                                                                                                                                                                                                                                                                                                                                                                               \n",
              " 10                                             Movies                                                                                                                                                                                                                                                                                                                                                                                                                                                                                                                                                                                                                                                                                                                                                                                                                                                                                                               ...                                                NaN                                                                                                                                                                                                                                                                                                                                                                                                                                                                                                                                                                                                                                                                                                                                                                                                                                                                                                               \n",
              " 11                      Legal entities(not exchanges)                                                                                                                                                                                                                                                                                                                                                                                                                                                                                                                                                                                                                                                                                                                                                                                                                                                                                                               ...                                                NaN                                                                                                                                                                                                                                                                                                                                                                                                                                                                                                                                                                                                                                                                                                                                                                                                                                                                                                               \n",
              " 12                                  Category  Commons                                                                                                                                                                                                                                                                                                                                                                                                                                                                                                                                                                                                                                                                                                                                                                                                                                                                                                               ...                                  Category  Commons                                                                                                                                                                                                                                                                                                                                                                                                                                                                                                                                                                                                                                                                                                                                                                                                                                                                                                               \n",
              " \n",
              " [13 rows x 3 columns],\n",
              "           0                          1\n",
              " 0    Client          Bitcoin Unlimited\n",
              " 1  Currency  Bitcoin Cash Bitcoin Gold,\n",
              "          0                         1\n",
              " 0  Defunct  BTC-e Mt. Gox QuadrigaCX,\n",
              "           vteCryptocurrencies                              vteCryptocurrencies.1\n",
              " 0                  Technology  Blockchain Distributed ledger technology law C...\n",
              " 1        Consensus mechanisms  Proof of authority Proof of personhood Proof o...\n",
              " 2    Proof of work currencies  SHA-256-based Bitcoin Bitcoin Cash Counterpart...\n",
              " 3               SHA-256-based  Bitcoin Bitcoin Cash Counterparty LBRY MazaCoi...\n",
              " 4                Ethash-based                          Ethereum Ethereum Classic\n",
              " 5                Scrypt-based     Auroracoin Bitconnect Coinye Dogecoin Litecoin\n",
              " 6              Equihash-based                                 Bitcoin Gold Zcash\n",
              " 7               RandomX-based                                             Monero\n",
              " 8                   X11-based                                         Dash Petro\n",
              " 9                       Other        AmbaCoin Firo IOTA Primecoin Verge Vertcoin\n",
              " 10  Proof of stake currencies  Cardano EOS.IO Gridcoin Nxt Peercoin Polkadot ...\n",
              " 11              ERC-20 tokens  Augur Aventus Bancor Basic Attention Token Cha...\n",
              " 12                Stablecoins                           Dai Diem Tether USD Coin\n",
              " 13           Other currencies  Ankr Filecoin GNU Taler HBAR (Hashgraph) Nano ...\n",
              " 14             Related topics  Airdrop BitLicense Blockchain game Complementa...\n",
              " 15    Category  Commons  List                            Category  Commons  List,\n",
              "                 0                                                  1\n",
              " 0   SHA-256-based  Bitcoin Bitcoin Cash Counterparty LBRY MazaCoi...\n",
              " 1    Ethash-based                          Ethereum Ethereum Classic\n",
              " 2    Scrypt-based     Auroracoin Bitconnect Coinye Dogecoin Litecoin\n",
              " 3  Equihash-based                                 Bitcoin Gold Zcash\n",
              " 4   RandomX-based                                             Monero\n",
              " 5       X11-based                                         Dash Petro\n",
              " 6           Other        AmbaCoin Firo IOTA Primecoin Verge Vertcoin,\n",
              "   vteCurrency symbols (¤)                          vteCurrency symbols (¤).1\n",
              " 0             Circulating  ؋ ฿ ₵ ₡ ¢ $ ₫ ֏ € ƒ ₣ ₲ ₴ ₾ ₭ ₺ ₼ ₦ ₱ £ 元 圆 圓 ...\n",
              " 1                Historic  ₳ ₢ ₰ ₯ ₠ ₤ ₶ ₥ (not circulated) ℛℳ ℳ ₧ ₷ (not...\n",
              " 2          Cryptocurrency                                            ₿ Ᵽ Ψ Ð,\n",
              "     Authority control                                Authority control.1\n",
              " 0             General                          Integrated Authority File\n",
              " 1  National libraries                  Spain France (data) United States\n",
              " 2               Other  Faceted Application of Subject Terminology SUD...]"
            ]
          },
          "metadata": {
            "tags": []
          },
          "execution_count": 13
        }
      ]
    },
    {
      "cell_type": "markdown",
      "metadata": {
        "id": "Gl0Qd3RmMyje"
      },
      "source": [
        "# 7. Speed up your Pandas operations"
      ]
    },
    {
      "cell_type": "code",
      "metadata": {
        "colab": {
          "base_uri": "https://localhost:8080/",
          "height": 429
        },
        "id": "-zHFCYxgMxBM",
        "outputId": "53ecb3b7-7f33-4b5d-ff21-36976be386b5"
      },
      "source": [
        "pip install modin"
      ],
      "execution_count": 14,
      "outputs": [
        {
          "output_type": "stream",
          "text": [
            "Collecting modin\n",
            "\u001b[?25l  Downloading https://files.pythonhosted.org/packages/43/fa/746d9f519a463284a3a524241821751a47f87899446f426d9b61208da3e9/modin-0.10.0-py3-none-manylinux1_x86_64.whl (665kB)\n",
            "\r\u001b[K     |▌                               | 10kB 17.3MB/s eta 0:00:01\r\u001b[K     |█                               | 20kB 21.2MB/s eta 0:00:01\r\u001b[K     |█▌                              | 30kB 24.6MB/s eta 0:00:01\r\u001b[K     |██                              | 40kB 27.5MB/s eta 0:00:01\r\u001b[K     |██▌                             | 51kB 30.6MB/s eta 0:00:01\r\u001b[K     |███                             | 61kB 27.4MB/s eta 0:00:01\r\u001b[K     |███▌                            | 71kB 23.6MB/s eta 0:00:01\r\u001b[K     |████                            | 81kB 24.6MB/s eta 0:00:01\r\u001b[K     |████▍                           | 92kB 24.1MB/s eta 0:00:01\r\u001b[K     |█████                           | 102kB 24.5MB/s eta 0:00:01\r\u001b[K     |█████▍                          | 112kB 24.5MB/s eta 0:00:01\r\u001b[K     |██████                          | 122kB 24.5MB/s eta 0:00:01\r\u001b[K     |██████▍                         | 133kB 24.5MB/s eta 0:00:01\r\u001b[K     |███████                         | 143kB 24.5MB/s eta 0:00:01\r\u001b[K     |███████▍                        | 153kB 24.5MB/s eta 0:00:01\r\u001b[K     |███████▉                        | 163kB 24.5MB/s eta 0:00:01\r\u001b[K     |████████▍                       | 174kB 24.5MB/s eta 0:00:01\r\u001b[K     |████████▉                       | 184kB 24.5MB/s eta 0:00:01\r\u001b[K     |█████████▍                      | 194kB 24.5MB/s eta 0:00:01\r\u001b[K     |█████████▉                      | 204kB 24.5MB/s eta 0:00:01\r\u001b[K     |██████████▍                     | 215kB 24.5MB/s eta 0:00:01\r\u001b[K     |██████████▉                     | 225kB 24.5MB/s eta 0:00:01\r\u001b[K     |███████████▎                    | 235kB 24.5MB/s eta 0:00:01\r\u001b[K     |███████████▉                    | 245kB 24.5MB/s eta 0:00:01\r\u001b[K     |████████████▎                   | 256kB 24.5MB/s eta 0:00:01\r\u001b[K     |████████████▉                   | 266kB 24.5MB/s eta 0:00:01\r\u001b[K     |█████████████▎                  | 276kB 24.5MB/s eta 0:00:01\r\u001b[K     |█████████████▉                  | 286kB 24.5MB/s eta 0:00:01\r\u001b[K     |██████████████▎                 | 296kB 24.5MB/s eta 0:00:01\r\u001b[K     |██████████████▉                 | 307kB 24.5MB/s eta 0:00:01\r\u001b[K     |███████████████▎                | 317kB 24.5MB/s eta 0:00:01\r\u001b[K     |███████████████▊                | 327kB 24.5MB/s eta 0:00:01\r\u001b[K     |████████████████▎               | 337kB 24.5MB/s eta 0:00:01\r\u001b[K     |████████████████▊               | 348kB 24.5MB/s eta 0:00:01\r\u001b[K     |█████████████████▎              | 358kB 24.5MB/s eta 0:00:01\r\u001b[K     |█████████████████▊              | 368kB 24.5MB/s eta 0:00:01\r\u001b[K     |██████████████████▎             | 378kB 24.5MB/s eta 0:00:01\r\u001b[K     |██████████████████▊             | 389kB 24.5MB/s eta 0:00:01\r\u001b[K     |███████████████████▏            | 399kB 24.5MB/s eta 0:00:01\r\u001b[K     |███████████████████▊            | 409kB 24.5MB/s eta 0:00:01\r\u001b[K     |████████████████████▏           | 419kB 24.5MB/s eta 0:00:01\r\u001b[K     |████████████████████▊           | 430kB 24.5MB/s eta 0:00:01\r\u001b[K     |█████████████████████▏          | 440kB 24.5MB/s eta 0:00:01\r\u001b[K     |█████████████████████▊          | 450kB 24.5MB/s eta 0:00:01\r\u001b[K     |██████████████████████▏         | 460kB 24.5MB/s eta 0:00:01\r\u001b[K     |██████████████████████▋         | 471kB 24.5MB/s eta 0:00:01\r\u001b[K     |███████████████████████▏        | 481kB 24.5MB/s eta 0:00:01\r\u001b[K     |███████████████████████▋        | 491kB 24.5MB/s eta 0:00:01\r\u001b[K     |████████████████████████▏       | 501kB 24.5MB/s eta 0:00:01\r\u001b[K     |████████████████████████▋       | 512kB 24.5MB/s eta 0:00:01\r\u001b[K     |█████████████████████████▏      | 522kB 24.5MB/s eta 0:00:01\r\u001b[K     |█████████████████████████▋      | 532kB 24.5MB/s eta 0:00:01\r\u001b[K     |██████████████████████████▏     | 542kB 24.5MB/s eta 0:00:01\r\u001b[K     |██████████████████████████▋     | 552kB 24.5MB/s eta 0:00:01\r\u001b[K     |███████████████████████████     | 563kB 24.5MB/s eta 0:00:01\r\u001b[K     |███████████████████████████▋    | 573kB 24.5MB/s eta 0:00:01\r\u001b[K     |████████████████████████████    | 583kB 24.5MB/s eta 0:00:01\r\u001b[K     |████████████████████████████▋   | 593kB 24.5MB/s eta 0:00:01\r\u001b[K     |█████████████████████████████   | 604kB 24.5MB/s eta 0:00:01\r\u001b[K     |█████████████████████████████▋  | 614kB 24.5MB/s eta 0:00:01\r\u001b[K     |██████████████████████████████  | 624kB 24.5MB/s eta 0:00:01\r\u001b[K     |██████████████████████████████▌ | 634kB 24.5MB/s eta 0:00:01\r\u001b[K     |███████████████████████████████ | 645kB 24.5MB/s eta 0:00:01\r\u001b[K     |███████████████████████████████▌| 655kB 24.5MB/s eta 0:00:01\r\u001b[K     |████████████████████████████████| 665kB 24.5MB/s \n",
            "\u001b[?25hRequirement already satisfied: numpy>=1.16.5 in /usr/local/lib/python3.7/dist-packages (from modin) (1.19.5)\n",
            "Collecting pandas==1.2.4\n",
            "\u001b[?25l  Downloading https://files.pythonhosted.org/packages/51/51/48f3fc47c4e2144da2806dfb6629c4dd1fa3d5a143f9652b141e979a8ca9/pandas-1.2.4-cp37-cp37m-manylinux1_x86_64.whl (9.9MB)\n",
            "\u001b[K     |████████████████████████████████| 9.9MB 41.1MB/s \n",
            "\u001b[?25hRequirement already satisfied: packaging in /usr/local/lib/python3.7/dist-packages (from modin) (20.9)\n",
            "Requirement already satisfied: python-dateutil>=2.7.3 in /usr/local/lib/python3.7/dist-packages (from pandas==1.2.4->modin) (2.8.1)\n",
            "Requirement already satisfied: pytz>=2017.3 in /usr/local/lib/python3.7/dist-packages (from pandas==1.2.4->modin) (2018.9)\n",
            "Requirement already satisfied: pyparsing>=2.0.2 in /usr/local/lib/python3.7/dist-packages (from packaging->modin) (2.4.7)\n",
            "Requirement already satisfied: six>=1.5 in /usr/local/lib/python3.7/dist-packages (from python-dateutil>=2.7.3->pandas==1.2.4->modin) (1.15.0)\n",
            "\u001b[31mERROR: google-colab 1.0.0 has requirement pandas~=1.1.0; python_version >= \"3.0\", but you'll have pandas 1.2.4 which is incompatible.\u001b[0m\n",
            "Installing collected packages: pandas, modin\n",
            "  Found existing installation: pandas 1.1.5\n",
            "    Uninstalling pandas-1.1.5:\n",
            "      Successfully uninstalled pandas-1.1.5\n",
            "Successfully installed modin-0.10.0 pandas-1.2.4\n"
          ],
          "name": "stdout"
        },
        {
          "output_type": "display_data",
          "data": {
            "application/vnd.colab-display-data+json": {
              "pip_warning": {
                "packages": [
                  "pandas"
                ]
              }
            }
          },
          "metadata": {
            "tags": []
          }
        }
      ]
    },
    {
      "cell_type": "code",
      "metadata": {
        "colab": {
          "base_uri": "https://localhost:8080/",
          "height": 558
        },
        "id": "B27WHDDcMzom",
        "outputId": "e45b852c-ecc1-45da-a9cb-635d137eb26b"
      },
      "source": [
        "import modin.pandas as pd"
      ],
      "execution_count": 15,
      "outputs": [
        {
          "output_type": "stream",
          "text": [
            "UserWarning: The pandas version installed 1.1.5 does not match the supported pandas version in Modin 1.2.4. This may cause undesired side effects!\n"
          ],
          "name": "stderr"
        },
        {
          "output_type": "error",
          "ename": "ImportError",
          "evalue": "ignored",
          "traceback": [
            "\u001b[0;31m---------------------------------------------------------------------------\u001b[0m",
            "\u001b[0;31mImportError\u001b[0m                               Traceback (most recent call last)",
            "\u001b[0;32m/usr/local/lib/python3.7/dist-packages/pyforest/__init__.py\u001b[0m in \u001b[0;36m<module>\u001b[0;34m()\u001b[0m\n\u001b[0;32m----> 1\u001b[0;31m \u001b[0;32mimport\u001b[0m \u001b[0mmodin\u001b[0m\u001b[0;34m.\u001b[0m\u001b[0mpandas\u001b[0m \u001b[0;32mas\u001b[0m \u001b[0mpd\u001b[0m\u001b[0;34m\u001b[0m\u001b[0;34m\u001b[0m\u001b[0m\n\u001b[0m",
            "\u001b[0;32m/usr/local/lib/python3.7/dist-packages/modin/pandas/__init__.py\u001b[0m in \u001b[0;36m<module>\u001b[0;34m()\u001b[0m\n\u001b[1;32m     26\u001b[0m     )\n\u001b[1;32m     27\u001b[0m \u001b[0;34m\u001b[0m\u001b[0m\n\u001b[0;32m---> 28\u001b[0;31m from pandas import (\n\u001b[0m\u001b[1;32m     29\u001b[0m     \u001b[0meval\u001b[0m\u001b[0;34m,\u001b[0m\u001b[0;34m\u001b[0m\u001b[0;34m\u001b[0m\u001b[0m\n\u001b[1;32m     30\u001b[0m     \u001b[0mcut\u001b[0m\u001b[0;34m,\u001b[0m\u001b[0;34m\u001b[0m\u001b[0;34m\u001b[0m\u001b[0m\n",
            "\u001b[0;31mImportError\u001b[0m: cannot import name 'Flags' from 'pandas' (/usr/local/lib/python3.7/dist-packages/pandas/__init__.py)",
            "",
            "\u001b[0;31m---------------------------------------------------------------------------\u001b[0;32m\nNOTE: If your import is failing due to a missing package, you can\nmanually install dependencies using either !pip or !apt.\n\nTo view examples of installing some common dependencies, click the\n\"Open Examples\" button below.\n\u001b[0;31m---------------------------------------------------------------------------\u001b[0m\n"
          ]
        }
      ]
    }
  ]
}