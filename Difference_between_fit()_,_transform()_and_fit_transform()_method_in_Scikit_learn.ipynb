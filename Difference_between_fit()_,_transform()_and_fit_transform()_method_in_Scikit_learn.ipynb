{
  "nbformat": 4,
  "nbformat_minor": 0,
  "metadata": {
    "colab": {
      "name": "Difference between fit() , transform() and fit_transform() method in Scikit-learn.ipynb",
      "provenance": [],
      "authorship_tag": "ABX9TyPf4n7HxEmOsdh3VlIMeDyn"
    },
    "kernelspec": {
      "name": "python3",
      "display_name": "Python 3"
    },
    "language_info": {
      "name": "python"
    }
  },
  "cells": [
    {
      "cell_type": "markdown",
      "metadata": {
        "id": "PjLK9Tb3mAXN"
      },
      "source": [
        "[Reference](https://medium.com/nerd-for-tech/difference-fit-transform-and-fit-transform-method-in-scikit-learn-b0a4efcab804)"
      ]
    },
    {
      "cell_type": "code",
      "metadata": {
        "colab": {
          "base_uri": "https://localhost:8080/"
        },
        "id": "DpEmuoGllbBn",
        "outputId": "1c4f9f97-119b-4130-ff78-e95ba31d4c5d"
      },
      "source": [
        "import numpy as np\n",
        "from sklearn.impute import SimpleImputer\n",
        "X = np.array([[90, 80, 100], [np.nan, 100, 70], [70, 90, np.nan]])\n",
        "mean_imp = SimpleImputer(missing_values=np.nan, strategy='mean')\n",
        "mean_imp.fit(X)"
      ],
      "execution_count": 4,
      "outputs": [
        {
          "output_type": "execute_result",
          "data": {
            "text/plain": [
              "SimpleImputer(add_indicator=False, copy=True, fill_value=None,\n",
              "              missing_values=nan, strategy='mean', verbose=0)"
            ]
          },
          "metadata": {
            "tags": []
          },
          "execution_count": 4
        }
      ]
    },
    {
      "cell_type": "code",
      "metadata": {
        "colab": {
          "base_uri": "https://localhost:8080/"
        },
        "id": "IslFXQmFl0iF",
        "outputId": "be3319ee-759d-4c63-9f5d-264e0952fd98"
      },
      "source": [
        "print(mean_imp.transform(X))"
      ],
      "execution_count": 6,
      "outputs": [
        {
          "output_type": "stream",
          "text": [
            "[[ 90.  80. 100.]\n",
            " [ 80. 100.  70.]\n",
            " [ 70.  90.  85.]]\n"
          ],
          "name": "stdout"
        }
      ]
    },
    {
      "cell_type": "code",
      "metadata": {
        "colab": {
          "base_uri": "https://localhost:8080/"
        },
        "id": "PCj9XR5Xl160",
        "outputId": "c5c8bd95-e1df-4b37-e132-83dc59854ed0"
      },
      "source": [
        "print(mean_imp.fit_transform(X))"
      ],
      "execution_count": 7,
      "outputs": [
        {
          "output_type": "stream",
          "text": [
            "[[ 90.  80. 100.]\n",
            " [ 80. 100.  70.]\n",
            " [ 70.  90.  85.]]\n"
          ],
          "name": "stdout"
        }
      ]
    }
  ]
}