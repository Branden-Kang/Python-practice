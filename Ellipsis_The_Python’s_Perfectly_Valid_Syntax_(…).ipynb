{
  "nbformat": 4,
  "nbformat_minor": 0,
  "metadata": {
    "colab": {
      "provenance": [],
      "authorship_tag": "ABX9TyP7n1KCsmw8kHIv2oW4dGtg"
    },
    "kernelspec": {
      "name": "python3",
      "display_name": "Python 3"
    },
    "language_info": {
      "name": "python"
    }
  },
  "cells": [
    {
      "cell_type": "markdown",
      "source": [
        "[Reference](https://python.plainenglish.io/ellipsis-the-pythons-perfectly-valid-syntax-eee93093f8bb)"
      ],
      "metadata": {
        "id": "TT4b5PArKrW6"
      }
    },
    {
      "cell_type": "markdown",
      "source": [
        "# 1. Slicing Multi-Dimensional Arrays\n"
      ],
      "metadata": {
        "id": "Y2VNeZv9KwZ7"
      }
    },
    {
      "cell_type": "code",
      "source": [
        "import numpy as np\n",
        "\n",
        "# Create a 3x3x3 array\n",
        "arr = np.arange(27).reshape(3, 3, 3)\n",
        "\n",
        "# Use ... to select all elements from one slice\n",
        "print(arr[..., 0])"
      ],
      "metadata": {
        "colab": {
          "base_uri": "https://localhost:8080/"
        },
        "id": "AWqSU_wdKvze",
        "outputId": "4d649e0b-1f98-4560-c9e8-38629f1d9437"
      },
      "execution_count": 1,
      "outputs": [
        {
          "output_type": "stream",
          "name": "stdout",
          "text": [
            "[[ 0  3  6]\n",
            " [ 9 12 15]\n",
            " [18 21 24]]\n"
          ]
        }
      ]
    },
    {
      "cell_type": "markdown",
      "source": [
        "# 2. A Stylish Placeholder for Future Code"
      ],
      "metadata": {
        "id": "WMyslZvaK0i-"
      }
    },
    {
      "cell_type": "code",
      "execution_count": 2,
      "metadata": {
        "id": "SRZsLMjbKl0W"
      },
      "outputs": [],
      "source": [
        "def upcoming_feature():\n",
        "    # More code will be added here soon!\n",
        "    return ...  # This returns the Ellipsis object"
      ]
    },
    {
      "cell_type": "markdown",
      "source": [
        "# 3. Enhancing Type Annotations and Stubs\n"
      ],
      "metadata": {
        "id": "oGG-3NMWK-0M"
      }
    },
    {
      "cell_type": "code",
      "source": [
        "from typing import Tuple\n",
        "\n",
        "def get_numbers() -> Tuple[int, ...]:\n",
        "    return (1, 2, 3)"
      ],
      "metadata": {
        "id": "h1ueq1ANK9T7"
      },
      "execution_count": 3,
      "outputs": []
    },
    {
      "cell_type": "code",
      "source": [
        "print(id(...))      # Always the same ID!\n",
        "print(id(Ellipsis)) # Exactly the same ID!"
      ],
      "metadata": {
        "colab": {
          "base_uri": "https://localhost:8080/"
        },
        "id": "_xcXQKuELAlE",
        "outputId": "7cfa3b01-5cba-4ea5-b8d7-b7e11f31bb7e"
      },
      "execution_count": 4,
      "outputs": [
        {
          "output_type": "stream",
          "name": "stdout",
          "text": [
            "9618656\n",
            "9618656\n"
          ]
        }
      ]
    }
  ]
}