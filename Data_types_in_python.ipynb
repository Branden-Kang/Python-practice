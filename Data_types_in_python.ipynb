{
  "nbformat": 4,
  "nbformat_minor": 0,
  "metadata": {
    "colab": {
      "name": "Data types in python.ipynb",
      "provenance": [],
      "authorship_tag": "ABX9TyM9J0qcBytafE0zr1ViiX2G"
    },
    "kernelspec": {
      "name": "python3",
      "display_name": "Python 3"
    },
    "language_info": {
      "name": "python"
    }
  },
  "cells": [
    {
      "cell_type": "markdown",
      "metadata": {
        "id": "re2a-5xtoNuw"
      },
      "source": [
        "[Reference](https://medium.com/techsoftware/data-types-in-python-6c60aa17f362)"
      ]
    },
    {
      "cell_type": "code",
      "metadata": {
        "colab": {
          "base_uri": "https://localhost:8080/"
        },
        "id": "6FlcCs1ynrzV",
        "outputId": "67dc5816-1112-46fb-8ddb-65706af5657b"
      },
      "source": [
        "greetings = 'Hello, world!'\n",
        "print(greetings)\n",
        "\n",
        "print(type(greetings))"
      ],
      "execution_count": 1,
      "outputs": [
        {
          "output_type": "stream",
          "text": [
            "Hello, world!\n",
            "<class 'str'>\n"
          ],
          "name": "stdout"
        }
      ]
    },
    {
      "cell_type": "code",
      "metadata": {
        "colab": {
          "base_uri": "https://localhost:8080/"
        },
        "id": "l7WVqBwPoXYv",
        "outputId": "1d052fb4-8aa1-468a-941e-94528d9588e8"
      },
      "source": [
        "day = 4\n",
        "print(day)\n",
        "print(type(day))"
      ],
      "execution_count": 2,
      "outputs": [
        {
          "output_type": "stream",
          "text": [
            "4\n",
            "<class 'int'>\n"
          ],
          "name": "stdout"
        }
      ]
    },
    {
      "cell_type": "code",
      "metadata": {
        "colab": {
          "base_uri": "https://localhost:8080/"
        },
        "id": "05Bl0f7eoaO0",
        "outputId": "fa7debde-eb43-40a4-9329-debe2dad1588"
      },
      "source": [
        "pi = 3.14\n",
        "print(pi)\n",
        "print(type(pi))"
      ],
      "execution_count": 3,
      "outputs": [
        {
          "output_type": "stream",
          "text": [
            "3.14\n",
            "<class 'float'>\n"
          ],
          "name": "stdout"
        }
      ]
    },
    {
      "cell_type": "code",
      "metadata": {
        "colab": {
          "base_uri": "https://localhost:8080/"
        },
        "id": "ZEC13KododrY",
        "outputId": "3c8bd2d5-4b2b-4ba8-adfc-8589c5d75bdd"
      },
      "source": [
        "complex_number = 5 + 10j\n",
        "print(complex_number)\n",
        "print(type(complex_number))"
      ],
      "execution_count": 4,
      "outputs": [
        {
          "output_type": "stream",
          "text": [
            "(5+10j)\n",
            "<class 'complex'>\n"
          ],
          "name": "stdout"
        }
      ]
    },
    {
      "cell_type": "code",
      "metadata": {
        "colab": {
          "base_uri": "https://localhost:8080/"
        },
        "id": "IdZVCHnkokos",
        "outputId": "22b0049c-095c-4c99-a6cf-22840ad36f4b"
      },
      "source": [
        "avengers = ['Captain America', 'Iron Man', 'Thor', 'Hulk', 'Black Widow', 'Hawkeye']\n",
        "print(avengers)\n",
        "print(type(avengers))"
      ],
      "execution_count": 5,
      "outputs": [
        {
          "output_type": "stream",
          "text": [
            "['Captain America', 'Iron Man', 'Thor', 'Hulk', 'Black Widow', 'Hawkeye']\n",
            "<class 'list'>\n"
          ],
          "name": "stdout"
        }
      ]
    },
    {
      "cell_type": "code",
      "metadata": {
        "colab": {
          "base_uri": "https://localhost:8080/"
        },
        "id": "fB0edjHAopO0",
        "outputId": "61170c89-3673-4a68-f24b-4e329d9e2a52"
      },
      "source": [
        "avengers = ('Captain America', 'Iron Man', 'Thor', 'Hulk', 'Black Widow', 'Hawkeye')\n",
        "print(avengers)\n",
        "print(type(avengers))"
      ],
      "execution_count": 6,
      "outputs": [
        {
          "output_type": "stream",
          "text": [
            "('Captain America', 'Iron Man', 'Thor', 'Hulk', 'Black Widow', 'Hawkeye')\n",
            "<class 'tuple'>\n"
          ],
          "name": "stdout"
        }
      ]
    },
    {
      "cell_type": "code",
      "metadata": {
        "colab": {
          "base_uri": "https://localhost:8080/"
        },
        "id": "nHS7JBf8ov0K",
        "outputId": "7f176e99-3631-401c-da66-359a34dec6b4"
      },
      "source": [
        "ten = range(0, 10)\n",
        "print(ten)\n",
        "print(type(ten))"
      ],
      "execution_count": 7,
      "outputs": [
        {
          "output_type": "stream",
          "text": [
            "range(0, 10)\n",
            "<class 'range'>\n"
          ],
          "name": "stdout"
        }
      ]
    },
    {
      "cell_type": "code",
      "metadata": {
        "colab": {
          "base_uri": "https://localhost:8080/"
        },
        "id": "Sndu7AyhouSs",
        "outputId": "89bf4e5a-4073-4394-874f-ecc25f5565a5"
      },
      "source": [
        "status = {'Learning': 'Programming', 'Language': 'Python', 'Day': 4}\n",
        "print(status)\n",
        "print(type(status))"
      ],
      "execution_count": 8,
      "outputs": [
        {
          "output_type": "stream",
          "text": [
            "{'Learning': 'Programming', 'Language': 'Python', 'Day': 4}\n",
            "<class 'dict'>\n"
          ],
          "name": "stdout"
        }
      ]
    },
    {
      "cell_type": "code",
      "metadata": {
        "colab": {
          "base_uri": "https://localhost:8080/"
        },
        "id": "SHDkytE6o2Dl",
        "outputId": "915e37ed-ae00-4b56-c94e-926751979231"
      },
      "source": [
        "avengers = {'Black Widow', 'Iron Man', 'Thor', 'Hawkeye', 'Hulk', 'Captain America'}\n",
        "print(avengers)\n",
        "print(type(avengers))"
      ],
      "execution_count": 9,
      "outputs": [
        {
          "output_type": "stream",
          "text": [
            "{'Black Widow', 'Iron Man', 'Hawkeye', 'Captain America', 'Hulk', 'Thor'}\n",
            "<class 'set'>\n"
          ],
          "name": "stdout"
        }
      ]
    },
    {
      "cell_type": "code",
      "metadata": {
        "colab": {
          "base_uri": "https://localhost:8080/"
        },
        "id": "oEuIxP6vo6xP",
        "outputId": "a755868f-8474-4d35-f28e-cc4942194b19"
      },
      "source": [
        "fruits = {'cherry', 'banana', 'apple'}\n",
        "frozen = frozenset(fruits)\n",
        "print(frozen)\n",
        "print(type(frozen))"
      ],
      "execution_count": 10,
      "outputs": [
        {
          "output_type": "stream",
          "text": [
            "frozenset({'apple', 'cherry', 'banana'})\n",
            "<class 'frozenset'>\n"
          ],
          "name": "stdout"
        }
      ]
    },
    {
      "cell_type": "code",
      "metadata": {
        "colab": {
          "base_uri": "https://localhost:8080/"
        },
        "id": "AO2fLnS6pEtf",
        "outputId": "04c4252c-6bd7-4e3e-d0c2-6c6af2619ef5"
      },
      "source": [
        "learning = True\n",
        "print(learning)\n",
        "print(type(learning))\n",
        "\n",
        "distraction = False\n",
        "print(distraction)\n",
        "print(type(distraction))"
      ],
      "execution_count": 11,
      "outputs": [
        {
          "output_type": "stream",
          "text": [
            "True\n",
            "<class 'bool'>\n",
            "False\n",
            "<class 'bool'>\n"
          ],
          "name": "stdout"
        }
      ]
    },
    {
      "cell_type": "code",
      "metadata": {
        "colab": {
          "base_uri": "https://localhost:8080/"
        },
        "id": "KhiJlHSUpNpK",
        "outputId": "a4864cc8-0ede-4d21-cbf5-2eef1660430a"
      },
      "source": [
        "hello = bytes(\"hello\", \"utf-8\")\n",
        "print(hello)\n",
        "print(type(hello))\n",
        "\n",
        "Hello = b\"Hello\"\n",
        "print(Hello)\n",
        "print(type(Hello))"
      ],
      "execution_count": 12,
      "outputs": [
        {
          "output_type": "stream",
          "text": [
            "b'hello'\n",
            "<class 'bytes'>\n",
            "b'Hello'\n",
            "<class 'bytes'>\n"
          ],
          "name": "stdout"
        }
      ]
    },
    {
      "cell_type": "code",
      "metadata": {
        "colab": {
          "base_uri": "https://localhost:8080/"
        },
        "id": "wQr_5XEypYQs",
        "outputId": "143cab71-813d-4107-a69b-d0836613b2d6"
      },
      "source": [
        "day4 = bytearray(4)\n",
        "print(day4)\n",
        "print(type(day4))"
      ],
      "execution_count": 13,
      "outputs": [
        {
          "output_type": "stream",
          "text": [
            "bytearray(b'\\x00\\x00\\x00\\x00')\n",
            "<class 'bytearray'>\n"
          ],
          "name": "stdout"
        }
      ]
    },
    {
      "cell_type": "code",
      "metadata": {
        "colab": {
          "base_uri": "https://localhost:8080/"
        },
        "id": "XQhGCmG2pgUW",
        "outputId": "56145d63-93d0-444f-b634-07debe4292c8"
      },
      "source": [
        "day4 = memoryview(bytes(4))\n",
        "print(day4)\n",
        "print(type(day4))"
      ],
      "execution_count": 14,
      "outputs": [
        {
          "output_type": "stream",
          "text": [
            "<memory at 0x7fc32f8d12c0>\n",
            "<class 'memoryview'>\n"
          ],
          "name": "stdout"
        }
      ]
    }
  ]
}