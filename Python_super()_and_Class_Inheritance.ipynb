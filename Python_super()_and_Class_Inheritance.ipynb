{
  "nbformat": 4,
  "nbformat_minor": 0,
  "metadata": {
    "colab": {
      "name": "Python .super() and Class Inheritance.ipynb",
      "provenance": [],
      "authorship_tag": "ABX9TyNUtAGL96EJfiPJN7o8pGYG"
    },
    "kernelspec": {
      "name": "python3",
      "display_name": "Python 3"
    },
    "language_info": {
      "name": "python"
    }
  },
  "cells": [
    {
      "cell_type": "markdown",
      "metadata": {
        "id": "9kFixo48_cs0"
      },
      "source": [
        "[Reference](https://medium.com/pixelforest/python-super-and-class-inheritance-b292e0785159)"
      ]
    },
    {
      "cell_type": "code",
      "metadata": {
        "colab": {
          "base_uri": "https://localhost:8080/"
        },
        "id": "dgiRLRAx-z5W",
        "outputId": "760feb29-7a87-4038-e15d-ffb606848391"
      },
      "source": [
        "class A:\n",
        "    def test_return(self):\n",
        "        return \"A\"\n",
        "\n",
        "\n",
        "class B:\n",
        "    def test_return(self):\n",
        "        return \"B\"\n",
        "\n",
        "\n",
        "class C:\n",
        "    def test_return(self):\n",
        "        return \"C\"\n",
        "\n",
        "\n",
        "# Can you guess what would happen in this scenario ?\n",
        "class MyClass(A, B, C):\n",
        "    pass\n",
        "\n",
        "print(MyClass().test_return())"
      ],
      "execution_count": 1,
      "outputs": [
        {
          "output_type": "stream",
          "name": "stdout",
          "text": [
            "A\n"
          ]
        }
      ]
    },
    {
      "cell_type": "code",
      "metadata": {
        "colab": {
          "base_uri": "https://localhost:8080/"
        },
        "id": "r1lhHzsg_grO",
        "outputId": "44d32232-1da8-47b3-ee75-48ff78356100"
      },
      "source": [
        "class Base:\n",
        "    \"\"\" A base class that will be inherited by all the new classes \"\"\"\n",
        "    def test_return(self):\n",
        "        return \"Base\"\n",
        "\n",
        "\n",
        "class A(Base):\n",
        "    def test_return(self):\n",
        "        return super().test_return() + \" <- A\"\n",
        "\n",
        "\n",
        "class B(Base):\n",
        "    def test_return(self):\n",
        "        return super().test_return() + \" <- B\"\n",
        "\n",
        "\n",
        "class C(Base):\n",
        "    def test_return(self):\n",
        "        return super().test_return() + \" <- C\"\n",
        "\n",
        "\n",
        "# Can you guess what would happen in this scenario ?\n",
        "class MyClass(A, B, C):\n",
        "    pass\n",
        "\n",
        "print(MyClass().test_return())"
      ],
      "execution_count": 2,
      "outputs": [
        {
          "output_type": "stream",
          "name": "stdout",
          "text": [
            "Base <- C <- B <- A\n"
          ]
        }
      ]
    },
    {
      "cell_type": "code",
      "metadata": {
        "colab": {
          "base_uri": "https://localhost:8080/"
        },
        "id": "FJ5bcrJb_is-",
        "outputId": "1b898682-46c9-4f23-bfbd-626de2e7c988"
      },
      "source": [
        "class Base:\n",
        "    def test_return(self):\n",
        "        return \"Base\"\n",
        "\n",
        "\n",
        "class Base2:\n",
        "    def test_return(self):\n",
        "        return \"Base 2\"\n",
        "\n",
        "\n",
        "class A(Base):\n",
        "    def test_return(self):\n",
        "        return super().test_return() + \" <- A\"\n",
        "\n",
        "\n",
        "class B(Base2):\n",
        "    def test_return(self):\n",
        "        return super().test_return() + \" <- B\"\n",
        "\n",
        "\n",
        "class C(Base):\n",
        "    def test_return(self):\n",
        "        return super().test_return() + \" <- C\"\n",
        "\n",
        "\n",
        "# Can you guess what would happen in this scenario ?\n",
        "class MyClass(A, B, C):\n",
        "    pass\n",
        "\n",
        "print(MyClass().test_return())"
      ],
      "execution_count": 3,
      "outputs": [
        {
          "output_type": "stream",
          "name": "stdout",
          "text": [
            "Base 2 <- B <- A\n"
          ]
        }
      ]
    }
  ]
}