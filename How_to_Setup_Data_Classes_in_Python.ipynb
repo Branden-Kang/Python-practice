{
  "nbformat": 4,
  "nbformat_minor": 0,
  "metadata": {
    "colab": {
      "provenance": [],
      "authorship_tag": "ABX9TyPn3VpMJBv0kYGn67I/mrz/"
    },
    "kernelspec": {
      "name": "python3",
      "display_name": "Python 3"
    },
    "language_info": {
      "name": "python"
    }
  },
  "cells": [
    {
      "cell_type": "markdown",
      "source": [
        "[Reference](https://betterprogramming.pub/how-to-setup-data-classes-in-python-ffd85549523c)"
      ],
      "metadata": {
        "id": "svnn84LaenNj"
      }
    },
    {
      "cell_type": "code",
      "execution_count": 1,
      "metadata": {
        "colab": {
          "base_uri": "https://localhost:8080/"
        },
        "id": "cCGcC0H6el24",
        "outputId": "2dd0588e-7f17-4907-84e2-6ce7328244c5"
      },
      "outputs": [
        {
          "output_type": "stream",
          "name": "stdout",
          "text": [
            "<__main__.Employee object at 0x7f82643410d0>\n",
            "True\n"
          ]
        }
      ],
      "source": [
        "class Employee:\n",
        "    def __init__(self, name: str, salary: int, years_with_company: int = 0):\n",
        "        self.name = name\n",
        "        self.salary = salary\n",
        "        self.years_with_company = years_with_company\n",
        "\n",
        "    def __eq__(self, other: \"Employee\"):\n",
        "        return (self.name == other.name and self.salary == other.salary and self.years_with_company == other.years_with_company)\n",
        "\n",
        "first_employee = Employee(\"First\", 80000)\n",
        "second_employee = Employee(\"First\", 80000)\n",
        "\n",
        "print(first_employee)\n",
        "print(first_employee == second_employee)"
      ]
    },
    {
      "cell_type": "code",
      "source": [
        "from dataclasses import dataclass\n",
        "\n",
        "@dataclass\n",
        "class Employee:\n",
        "    name: str\n",
        "    salary: int\n",
        "    years_with_company: int = 0\n",
        "\n",
        "first_employee = Employee(\"First\", 80000)\n",
        "second_employee = Employee(\"First\", 80000)\n",
        "\n",
        "print(first_employee)\n",
        "print(first_employee == second_employee)"
      ],
      "metadata": {
        "colab": {
          "base_uri": "https://localhost:8080/"
        },
        "id": "XnJCMkU9errp",
        "outputId": "dab9edb3-535e-465f-82d7-4c086bac59a8"
      },
      "execution_count": 2,
      "outputs": [
        {
          "output_type": "stream",
          "name": "stdout",
          "text": [
            "Employee(name='First', salary=80000, years_with_company=0)\n",
            "True\n"
          ]
        }
      ]
    },
    {
      "cell_type": "code",
      "source": [
        "from dataclasses import dataclass\n",
        "\n",
        "@dataclass(frozen=True)\n",
        "class Employee:\n",
        "    name: str\n",
        "    salary: int\n",
        "    years_with_company: int = 0\n",
        "\n",
        "employee = Employee(\"First\", 80000)\n",
        "\n",
        "# employee.name = \"Test\""
      ],
      "metadata": {
        "id": "qZ5ZyBFCetil"
      },
      "execution_count": 4,
      "outputs": []
    },
    {
      "cell_type": "code",
      "source": [
        "from dataclasses import dataclass\n",
        "\n",
        "@dataclass()\n",
        "class Employee:\n",
        "    _name: str\n",
        "    _salary: int\n",
        "    _years_with_company: int = 0\n",
        "\n",
        "    @property\n",
        "    def name(self):\n",
        "        return self._name\n",
        "\n",
        "    @property\n",
        "    def salary(self):\n",
        "        return self._salary\n",
        "\n",
        "    @salary.setter\n",
        "    def salary(self, new_salary: int):\n",
        "        if new_salary > self.salary:\n",
        "            self._salary = new_salary\n",
        "        else:\n",
        "            print(\"New salary must be greater than previous!\")\n",
        "\n",
        "\n",
        "employee = Employee(\"First\", 80000)\n",
        "\n",
        "employee.salary = 75000\n",
        "employee.salary = 85000\n",
        "print(employee)\n",
        "# employee.name = \"this will fail\""
      ],
      "metadata": {
        "colab": {
          "base_uri": "https://localhost:8080/"
        },
        "id": "LvttLX2KevIF",
        "outputId": "867b608e-e802-4eb9-884c-59d269c98b43"
      },
      "execution_count": 6,
      "outputs": [
        {
          "output_type": "stream",
          "name": "stdout",
          "text": [
            "New salary must be greater than previous!\n",
            "Employee(_name='First', _salary=85000, _years_with_company=0)\n"
          ]
        }
      ]
    }
  ]
}