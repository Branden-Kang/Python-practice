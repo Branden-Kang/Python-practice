{
  "nbformat": 4,
  "nbformat_minor": 0,
  "metadata": {
    "colab": {
      "provenance": [],
      "authorship_tag": "ABX9TyOmh3+vQUD8dUx6qZ5QgaWY"
    },
    "kernelspec": {
      "name": "python3",
      "display_name": "Python 3"
    },
    "language_info": {
      "name": "python"
    }
  },
  "cells": [
    {
      "cell_type": "markdown",
      "source": [
        "[Reference](https://medium.com/geekculture/python-f-strings-useful-tricks-8f5cbc19f62)"
      ],
      "metadata": {
        "id": "glP0CD35j4Pw"
      }
    },
    {
      "cell_type": "code",
      "execution_count": 1,
      "metadata": {
        "colab": {
          "base_uri": "https://localhost:8080/"
        },
        "id": "dYfcXHnFj0bc",
        "outputId": "7917840e-d237-410c-be28-d35c3da9d18e"
      },
      "outputs": [
        {
          "output_type": "stream",
          "name": "stdout",
          "text": [
            " str_value = 'hello，python coders'\n"
          ]
        }
      ],
      "source": [
        "str_value = \"hello，python coders\"\n",
        "print(f\"{ str_value = }\")"
      ]
    },
    {
      "cell_type": "code",
      "source": [
        "num_value = 125\n",
        "print(f\"{num_value % 2 = }\")"
      ],
      "metadata": {
        "colab": {
          "base_uri": "https://localhost:8080/"
        },
        "id": "mC9b0SZnj6tQ",
        "outputId": "c1fc95a6-4b2c-4bf1-e729-49f8f4fdc591"
      },
      "execution_count": 2,
      "outputs": [
        {
          "output_type": "stream",
          "name": "stdout",
          "text": [
            "num_value % 2 = 1\n"
          ]
        }
      ]
    },
    {
      "cell_type": "code",
      "source": [
        "import datetime\n",
        "\n",
        "today = datetime.date.today()\n",
        "print(f\"{today: %Y%m%d}\")\n",
        "print(f\"{today =: %Y%m%d}\")"
      ],
      "metadata": {
        "colab": {
          "base_uri": "https://localhost:8080/"
        },
        "id": "5rEyyWMJj7oO",
        "outputId": "daf4fa24-f3b8-40a5-80c9-cca0fe889cc4"
      },
      "execution_count": 3,
      "outputs": [
        {
          "output_type": "stream",
          "name": "stdout",
          "text": [
            " 20230508\n",
            "today = 20230508\n"
          ]
        }
      ]
    },
    {
      "cell_type": "code",
      "source": [
        "a = 42\n",
        "f\"{a:b}\"\n",
        "f\"{a:o}\"# Octal\n",
        "f\"{a:x}\"# Hex, small letters\n",
        "f\"{a:X}\"# Hex, capital letters\n",
        "f\"{a:c}\"# ascii "
      ],
      "metadata": {
        "colab": {
          "base_uri": "https://localhost:8080/",
          "height": 35
        },
        "id": "GT3WiTmpj9X1",
        "outputId": "2d72b442-94dd-4709-f557-6ade11bb502f"
      },
      "execution_count": 4,
      "outputs": [
        {
          "output_type": "execute_result",
          "data": {
            "text/plain": [
              "'*'"
            ],
            "application/vnd.google.colaboratory.intrinsic+json": {
              "type": "string"
            }
          },
          "metadata": {},
          "execution_count": 4
        }
      ]
    },
    {
      "cell_type": "code",
      "source": [
        "num_value = 223.456\n",
        "f'{num_value = :.2f}'\n",
        "nested_format = \".2f\"\n",
        "print(f'{num_value:{nested_format}}')"
      ],
      "metadata": {
        "colab": {
          "base_uri": "https://localhost:8080/"
        },
        "id": "05WiaGqrkBJ7",
        "outputId": "edf71c96-0092-41ea-bf02-c4c3e07e0089"
      },
      "execution_count": 5,
      "outputs": [
        {
          "output_type": "stream",
          "name": "stdout",
          "text": [
            "223.46\n"
          ]
        }
      ]
    },
    {
      "cell_type": "code",
      "source": [
        "x = 'test'\n",
        "f'{x:>10}'  # Right alignment\n",
        "f'{x:*<10}' # Left alignment\n",
        "f'{x:=^10}'# Center\n",
        "x, n = 'test', 10\n",
        "f'{x:~^{n}}'# Center"
      ],
      "metadata": {
        "colab": {
          "base_uri": "https://localhost:8080/",
          "height": 35
        },
        "id": "l4QcBEI_kEv8",
        "outputId": "b9be50a6-8ebe-4ec2-f7c9-15ace92fe407"
      },
      "execution_count": 6,
      "outputs": [
        {
          "output_type": "execute_result",
          "data": {
            "text/plain": [
              "'~~~test~~~'"
            ],
            "application/vnd.google.colaboratory.intrinsic+json": {
              "type": "string"
            }
          },
          "metadata": {},
          "execution_count": 6
        }
      ]
    },
    {
      "cell_type": "code",
      "source": [
        "x = 'test'\n",
        "f\"{x!s}\"# Same as str(x)\n",
        "f\"{x!r}\"# Same as repr(x)"
      ],
      "metadata": {
        "colab": {
          "base_uri": "https://localhost:8080/",
          "height": 35
        },
        "id": "W0Z3zDyekIOh",
        "outputId": "7246bd52-0210-4a82-d793-c53b3ddd12e6"
      },
      "execution_count": 7,
      "outputs": [
        {
          "output_type": "execute_result",
          "data": {
            "text/plain": [
              "\"'test'\""
            ],
            "application/vnd.google.colaboratory.intrinsic+json": {
              "type": "string"
            }
          },
          "metadata": {},
          "execution_count": 7
        }
      ]
    },
    {
      "cell_type": "code",
      "source": [
        "class MyClass:\n",
        "    def __format__(self, format_spec) -> str:\n",
        "        print(f'MyClass __format__ called with {format_spec!r}')\n",
        "        return \"MyClass()\"\n",
        "\n",
        "print(f'{MyClass():bala bala  %%MYFORMAT%%}')"
      ],
      "metadata": {
        "colab": {
          "base_uri": "https://localhost:8080/"
        },
        "id": "Slu-5AvNkKHs",
        "outputId": "e204c29d-df8b-4cb4-a800-cd53af164b57"
      },
      "execution_count": 8,
      "outputs": [
        {
          "output_type": "stream",
          "name": "stdout",
          "text": [
            "MyClass __format__ called with 'bala bala  %%MYFORMAT%%'\n",
            "MyClass()\n"
          ]
        }
      ]
    }
  ]
}
