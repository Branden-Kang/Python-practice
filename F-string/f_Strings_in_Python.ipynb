{
  "nbformat": 4,
  "nbformat_minor": 0,
  "metadata": {
    "colab": {
      "name": "f-Strings in Python.ipynb",
      "provenance": [],
      "authorship_tag": "ABX9TyMT8zpaHeHcdF/N3/bddobh"
    },
    "kernelspec": {
      "name": "python3",
      "display_name": "Python 3"
    }
  },
  "cells": [
    {
      "cell_type": "markdown",
      "metadata": {
        "id": "JyUkXOrdhVYl"
      },
      "source": [
        "[Reference](https://towardsdatascience.com/f-strings-in-python3-for-data-scientists-164355959a74)"
      ]
    },
    {
      "cell_type": "markdown",
      "metadata": {
        "id": "FDr-b9lJiPO0"
      },
      "source": [
        "# %-formatting"
      ]
    },
    {
      "cell_type": "code",
      "metadata": {
        "colab": {
          "base_uri": "https://localhost:8080/",
          "height": 37
        },
        "id": "NrFGq08ihT_6",
        "outputId": "23a49a3f-70b0-42ce-d2f2-f4e957fdd9cb"
      },
      "source": [
        "name = \"Branden\"\n",
        "\"Hello, %s\" % name"
      ],
      "execution_count": 1,
      "outputs": [
        {
          "output_type": "execute_result",
          "data": {
            "application/vnd.google.colaboratory.intrinsic+json": {
              "type": "string"
            },
            "text/plain": [
              "'Hello, Branden'"
            ]
          },
          "metadata": {
            "tags": []
          },
          "execution_count": 1
        }
      ]
    },
    {
      "cell_type": "code",
      "metadata": {
        "id": "6aqE_2Rth7WO"
      },
      "source": [
        "age = 20"
      ],
      "execution_count": 2,
      "outputs": []
    },
    {
      "cell_type": "code",
      "metadata": {
        "colab": {
          "base_uri": "https://localhost:8080/",
          "height": 37
        },
        "id": "1g2yiEhXh5Ht",
        "outputId": "13962512-5826-4c35-fe56-4200d9a6038c"
      },
      "source": [
        "\"Hello, %s my age is %s.\" % (name, age)"
      ],
      "execution_count": 3,
      "outputs": [
        {
          "output_type": "execute_result",
          "data": {
            "application/vnd.google.colaboratory.intrinsic+json": {
              "type": "string"
            },
            "text/plain": [
              "'Hello, Branden my age is 20.'"
            ]
          },
          "metadata": {
            "tags": []
          },
          "execution_count": 3
        }
      ]
    },
    {
      "cell_type": "code",
      "metadata": {
        "id": "RoLtKyuriAbj"
      },
      "source": [
        "order_number = 10\n",
        "address = \"Bethlehem\"\n",
        "mobile_number = 604"
      ],
      "execution_count": 4,
      "outputs": []
    },
    {
      "cell_type": "code",
      "metadata": {
        "colab": {
          "base_uri": "https://localhost:8080/",
          "height": 54
        },
        "id": "h83smPenh9En",
        "outputId": "8f985dcd-72de-46cf-c693-feda385d215d"
      },
      "source": [
        " \"Hey %s! Thanks for ordering with us today. We saw that your payment for order number %s didn't go through to the address %s. Can you verify that your mobile number: %s is correct?\" % (name, order_number, address, mobile_number)"
      ],
      "execution_count": 5,
      "outputs": [
        {
          "output_type": "execute_result",
          "data": {
            "application/vnd.google.colaboratory.intrinsic+json": {
              "type": "string"
            },
            "text/plain": [
              "\"Hey Branden! Thanks for ordering with us today. We saw that your payment for order number 10 didn't go through to the address Bethlehem. Can you verify that your mobile number: 604 is correct?\""
            ]
          },
          "metadata": {
            "tags": []
          },
          "execution_count": 5
        }
      ]
    },
    {
      "cell_type": "markdown",
      "metadata": {
        "id": "OClnzKIxiMrt"
      },
      "source": [
        "# str.format()"
      ]
    },
    {
      "cell_type": "code",
      "metadata": {
        "colab": {
          "base_uri": "https://localhost:8080/",
          "height": 37
        },
        "id": "coGMQ0DOiKPO",
        "outputId": "7a00d1c8-83ba-44c0-b226-86d2bab38d83"
      },
      "source": [
        "\"Hello, {}. I am {}.\".format(name, age)"
      ],
      "execution_count": 6,
      "outputs": [
        {
          "output_type": "execute_result",
          "data": {
            "application/vnd.google.colaboratory.intrinsic+json": {
              "type": "string"
            },
            "text/plain": [
              "'Hello, Branden. I am 20.'"
            ]
          },
          "metadata": {
            "tags": []
          },
          "execution_count": 6
        }
      ]
    },
    {
      "cell_type": "code",
      "metadata": {
        "colab": {
          "base_uri": "https://localhost:8080/",
          "height": 37
        },
        "id": "NGZgMQ9wiRQ1",
        "outputId": "11bba4dd-ce7b-4fe7-87b9-b2c2d8d28997"
      },
      "source": [
        "person = {'name': 'Branden', 'age': 30}\n",
        "\"Hello, {name}. I am {age}.\".format(name=person['name'], age=person['age'])"
      ],
      "execution_count": 8,
      "outputs": [
        {
          "output_type": "execute_result",
          "data": {
            "application/vnd.google.colaboratory.intrinsic+json": {
              "type": "string"
            },
            "text/plain": [
              "'Hello, Branden. I am 30.'"
            ]
          },
          "metadata": {
            "tags": []
          },
          "execution_count": 8
        }
      ]
    },
    {
      "cell_type": "markdown",
      "metadata": {
        "id": "yV2bDZtCibcU"
      },
      "source": [
        "# f-String"
      ]
    },
    {
      "cell_type": "code",
      "metadata": {
        "colab": {
          "base_uri": "https://localhost:8080/",
          "height": 37
        },
        "id": "DM15uNuQiTv_",
        "outputId": "232b7f38-e0bb-4d10-ef47-b5f4783883e5"
      },
      "source": [
        "f\"Hello, {name}. I am {age}.\""
      ],
      "execution_count": 9,
      "outputs": [
        {
          "output_type": "execute_result",
          "data": {
            "application/vnd.google.colaboratory.intrinsic+json": {
              "type": "string"
            },
            "text/plain": [
              "'Hello, Branden. I am 20.'"
            ]
          },
          "metadata": {
            "tags": []
          },
          "execution_count": 9
        }
      ]
    },
    {
      "cell_type": "code",
      "metadata": {
        "colab": {
          "base_uri": "https://localhost:8080/",
          "height": 37
        },
        "id": "9BUGA96sid9w",
        "outputId": "367e7acd-4185-4e6f-f953-cb5b2cec2bf5"
      },
      "source": [
        "f\"{3 * 3}\""
      ],
      "execution_count": 10,
      "outputs": [
        {
          "output_type": "execute_result",
          "data": {
            "application/vnd.google.colaboratory.intrinsic+json": {
              "type": "string"
            },
            "text/plain": [
              "'9'"
            ]
          },
          "metadata": {
            "tags": []
          },
          "execution_count": 10
        }
      ]
    },
    {
      "cell_type": "code",
      "metadata": {
        "colab": {
          "base_uri": "https://localhost:8080/",
          "height": 37
        },
        "id": "-xvKG8u5ifM0",
        "outputId": "2ad4c7d9-e73e-4739-db23-750ae7fae3d3"
      },
      "source": [
        "patient = 'Branden'\n",
        "f\"Can the patient: {name.lower()} please come to the desk.\""
      ],
      "execution_count": 12,
      "outputs": [
        {
          "output_type": "execute_result",
          "data": {
            "application/vnd.google.colaboratory.intrinsic+json": {
              "type": "string"
            },
            "text/plain": [
              "'Can the patient: branden please come to the desk.'"
            ]
          },
          "metadata": {
            "tags": []
          },
          "execution_count": 12
        }
      ]
    }
  ]
}