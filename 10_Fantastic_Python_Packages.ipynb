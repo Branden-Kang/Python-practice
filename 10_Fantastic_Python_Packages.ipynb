{
  "nbformat": 4,
  "nbformat_minor": 0,
  "metadata": {
    "colab": {
      "name": "10 Fantastic Python Packages.ipynb",
      "provenance": [],
      "authorship_tag": "ABX9TyNU0h06y4xMfRRcdziIKUlf"
    },
    "kernelspec": {
      "name": "python3",
      "display_name": "Python 3"
    },
    "language_info": {
      "name": "python"
    }
  },
  "cells": [
    {
      "cell_type": "markdown",
      "metadata": {
        "id": "ZJhl8q6E3Ve-"
      },
      "source": [
        "[Reference](https://levelup.gitconnected.com/10-fantastic-python-packages-af2a16a1183a)"
      ]
    },
    {
      "cell_type": "markdown",
      "metadata": {
        "id": "BCVyIXXx3Y0A"
      },
      "source": [
        "# 1. Folium"
      ]
    },
    {
      "cell_type": "code",
      "metadata": {
        "colab": {
          "base_uri": "https://localhost:8080/"
        },
        "id": "GDdQOkRkyKgK",
        "outputId": "53d0f8c2-1448-4b46-abf7-f06b867af238"
      },
      "source": [
        "pip install folium"
      ],
      "execution_count": 1,
      "outputs": [
        {
          "output_type": "stream",
          "name": "stdout",
          "text": [
            "Requirement already satisfied: folium in /usr/local/lib/python3.7/dist-packages (0.8.3)\n",
            "Requirement already satisfied: requests in /usr/local/lib/python3.7/dist-packages (from folium) (2.23.0)\n",
            "Requirement already satisfied: branca>=0.3.0 in /usr/local/lib/python3.7/dist-packages (from folium) (0.4.2)\n",
            "Requirement already satisfied: jinja2 in /usr/local/lib/python3.7/dist-packages (from folium) (2.11.3)\n",
            "Requirement already satisfied: numpy in /usr/local/lib/python3.7/dist-packages (from folium) (1.19.5)\n",
            "Requirement already satisfied: six in /usr/local/lib/python3.7/dist-packages (from folium) (1.15.0)\n",
            "Requirement already satisfied: MarkupSafe>=0.23 in /usr/local/lib/python3.7/dist-packages (from jinja2->folium) (2.0.1)\n",
            "Requirement already satisfied: chardet<4,>=3.0.2 in /usr/local/lib/python3.7/dist-packages (from requests->folium) (3.0.4)\n",
            "Requirement already satisfied: certifi>=2017.4.17 in /usr/local/lib/python3.7/dist-packages (from requests->folium) (2021.5.30)\n",
            "Requirement already satisfied: urllib3!=1.25.0,!=1.25.1,<1.26,>=1.21.1 in /usr/local/lib/python3.7/dist-packages (from requests->folium) (1.24.3)\n",
            "Requirement already satisfied: idna<3,>=2.5 in /usr/local/lib/python3.7/dist-packages (from requests->folium) (2.10)\n"
          ]
        }
      ]
    },
    {
      "cell_type": "code",
      "metadata": {
        "id": "Bn4ULBmF3kGC"
      },
      "source": [
        "import folium"
      ],
      "execution_count": 3,
      "outputs": []
    },
    {
      "cell_type": "code",
      "metadata": {
        "id": "IwaXusjB3aBB"
      },
      "source": [
        "map = folium.Map(location=[52.8067,-2.1207], zoom_start=14)\n",
        "map.save(\n",
        "    'osm.html'\n",
        ")"
      ],
      "execution_count": 4,
      "outputs": []
    },
    {
      "cell_type": "markdown",
      "metadata": {
        "id": "S3-kB1Ap3ljj"
      },
      "source": [
        "# 2. CAPTCHA"
      ]
    },
    {
      "cell_type": "code",
      "metadata": {
        "colab": {
          "base_uri": "https://localhost:8080/"
        },
        "id": "KYgZACay3iZq",
        "outputId": "4dc16e89-1d41-487d-8e0f-aa6e144b87f6"
      },
      "source": [
        "pip install captcha"
      ],
      "execution_count": 5,
      "outputs": [
        {
          "output_type": "stream",
          "name": "stdout",
          "text": [
            "Collecting captcha\n",
            "  Downloading captcha-0.3-py3-none-any.whl (101 kB)\n",
            "\u001b[?25l\r\u001b[K     |███▎                            | 10 kB 21.2 MB/s eta 0:00:01\r\u001b[K     |██████▌                         | 20 kB 27.6 MB/s eta 0:00:01\r\u001b[K     |█████████▊                      | 30 kB 14.3 MB/s eta 0:00:01\r\u001b[K     |█████████████                   | 40 kB 10.4 MB/s eta 0:00:01\r\u001b[K     |████████████████▏               | 51 kB 4.6 MB/s eta 0:00:01\r\u001b[K     |███████████████████▍            | 61 kB 4.8 MB/s eta 0:00:01\r\u001b[K     |██████████████████████▋         | 71 kB 4.4 MB/s eta 0:00:01\r\u001b[K     |█████████████████████████▉      | 81 kB 4.9 MB/s eta 0:00:01\r\u001b[K     |█████████████████████████████   | 92 kB 5.0 MB/s eta 0:00:01\r\u001b[K     |████████████████████████████████| 101 kB 3.7 MB/s \n",
            "\u001b[?25hRequirement already satisfied: Pillow in /usr/local/lib/python3.7/dist-packages (from captcha) (7.1.2)\n",
            "Installing collected packages: captcha\n",
            "Successfully installed captcha-0.3\n"
          ]
        }
      ]
    },
    {
      "cell_type": "code",
      "metadata": {
        "id": "Xyc1DLaX3mmb"
      },
      "source": [
        "from captcha.image import ImageCaptcha\n",
        "\n",
        "image = ImageCaptcha(width=280, height=90)\n",
        "data = image.generate('MEDIUM')\n",
        "image.write('MEDIUM', 'out.png')"
      ],
      "execution_count": 6,
      "outputs": []
    },
    {
      "cell_type": "markdown",
      "metadata": {
        "id": "2yJiwfvA30aG"
      },
      "source": [
        "# 3. Pretty-Table"
      ]
    },
    {
      "cell_type": "code",
      "metadata": {
        "colab": {
          "base_uri": "https://localhost:8080/"
        },
        "id": "EJXXyVaR3y0_",
        "outputId": "ef51e0ec-2653-4175-ad2d-4b6d333f031f"
      },
      "source": [
        "!python -m pip install -U prettytable"
      ],
      "execution_count": 7,
      "outputs": [
        {
          "output_type": "stream",
          "name": "stdout",
          "text": [
            "Requirement already satisfied: prettytable in /usr/local/lib/python3.7/dist-packages (2.2.1)\n",
            "Collecting prettytable\n",
            "  Downloading prettytable-2.4.0-py3-none-any.whl (24 kB)\n",
            "Requirement already satisfied: wcwidth in /usr/local/lib/python3.7/dist-packages (from prettytable) (0.2.5)\n",
            "Requirement already satisfied: importlib-metadata in /usr/local/lib/python3.7/dist-packages (from prettytable) (4.8.1)\n",
            "Requirement already satisfied: zipp>=0.5 in /usr/local/lib/python3.7/dist-packages (from importlib-metadata->prettytable) (3.6.0)\n",
            "Requirement already satisfied: typing-extensions>=3.6.4 in /usr/local/lib/python3.7/dist-packages (from importlib-metadata->prettytable) (3.7.4.3)\n",
            "Installing collected packages: prettytable\n",
            "  Attempting uninstall: prettytable\n",
            "    Found existing installation: prettytable 2.2.1\n",
            "    Uninstalling prettytable-2.2.1:\n",
            "      Successfully uninstalled prettytable-2.2.1\n",
            "Successfully installed prettytable-2.4.0\n"
          ]
        }
      ]
    },
    {
      "cell_type": "code",
      "metadata": {
        "colab": {
          "base_uri": "https://localhost:8080/"
        },
        "id": "Ta5PTlC731Un",
        "outputId": "ba79289f-d2fa-4307-a826-ffdf2cb670f0"
      },
      "source": [
        "from prettytable import PrettyTable\n",
        "table = PrettyTable()\n",
        "\n",
        "table.field_names = [\"Month\", \"Earning\"]\n",
        "table.add_rows(\n",
        "    [\n",
        "     [\"JANUARY\",1020],\n",
        "     [\"FEBRUARY\", 1233],\n",
        "     [\"MARCH\", 1892],\n",
        "     [\"APRIL\", 1500]\n",
        "    ]\n",
        ")\n",
        "print(table)"
      ],
      "execution_count": 9,
      "outputs": [
        {
          "output_type": "stream",
          "name": "stdout",
          "text": [
            "+----------+---------+\n",
            "|  Month   | Earning |\n",
            "+----------+---------+\n",
            "| JANUARY  |   1020  |\n",
            "| FEBRUARY |   1233  |\n",
            "|  MARCH   |   1892  |\n",
            "|  APRIL   |   1500  |\n",
            "+----------+---------+\n"
          ]
        }
      ]
    },
    {
      "cell_type": "markdown",
      "metadata": {
        "id": "pCSYDnwp4Uev"
      },
      "source": [
        "# 4. Faker"
      ]
    },
    {
      "cell_type": "code",
      "metadata": {
        "colab": {
          "base_uri": "https://localhost:8080/",
          "height": 395
        },
        "id": "051yYYVU4GLQ",
        "outputId": "a652fc9c-cc41-41f7-8c24-32692372b05d"
      },
      "source": [
        "pip install faker"
      ],
      "execution_count": 10,
      "outputs": [
        {
          "output_type": "stream",
          "name": "stdout",
          "text": [
            "Collecting faker\n",
            "  Downloading Faker-9.8.0-py3-none-any.whl (1.2 MB)\n",
            "\u001b[K     |████████████████████████████████| 1.2 MB 4.0 MB/s \n",
            "\u001b[?25hRequirement already satisfied: python-dateutil>=2.4 in /usr/local/lib/python3.7/dist-packages (from faker) (2.8.2)\n",
            "Collecting typing-extensions>=3.10.0.2\n",
            "  Downloading typing_extensions-3.10.0.2-py3-none-any.whl (26 kB)\n",
            "Requirement already satisfied: text-unidecode==1.3 in /usr/local/lib/python3.7/dist-packages (from faker) (1.3)\n",
            "Requirement already satisfied: six>=1.5 in /usr/local/lib/python3.7/dist-packages (from python-dateutil>=2.4->faker) (1.15.0)\n",
            "Installing collected packages: typing-extensions, faker\n",
            "  Attempting uninstall: typing-extensions\n",
            "    Found existing installation: typing-extensions 3.7.4.3\n",
            "    Uninstalling typing-extensions-3.7.4.3:\n",
            "      Successfully uninstalled typing-extensions-3.7.4.3\n",
            "\u001b[31mERROR: pip's dependency resolver does not currently take into account all the packages that are installed. This behaviour is the source of the following dependency conflicts.\n",
            "tensorflow 2.6.0 requires typing-extensions~=3.7.4, but you have typing-extensions 3.10.0.2 which is incompatible.\u001b[0m\n",
            "Successfully installed faker-9.8.0 typing-extensions-3.10.0.2\n"
          ]
        },
        {
          "output_type": "display_data",
          "data": {
            "application/vnd.colab-display-data+json": {
              "pip_warning": {
                "packages": [
                  "typing_extensions"
                ]
              }
            }
          },
          "metadata": {}
        }
      ]
    },
    {
      "cell_type": "code",
      "metadata": {
        "colab": {
          "base_uri": "https://localhost:8080/"
        },
        "id": "_xFWGsbg4Vsh",
        "outputId": "b199a2a8-bcf5-4faf-f02f-45cc00b8c71a"
      },
      "source": [
        "from faker import Faker\n",
        "fake = Faker()\n",
        "\n",
        "print(fake.profile())\n",
        "print(fake.credit_card_number())"
      ],
      "execution_count": 12,
      "outputs": [
        {
          "output_type": "stream",
          "name": "stdout",
          "text": [
            "{'job': 'Librarian, academic', 'company': 'Rojas Inc', 'ssn': '081-35-8598', 'residence': '10863 Garrett Hills Suite 253\\nMichaelborough, SD 15428', 'current_location': (Decimal('4.548725'), Decimal('145.442730')), 'blood_group': 'AB-', 'website': ['https://dean-lee.biz/', 'https://www.taylor.info/'], 'username': 'summerdaniel', 'name': 'Charles Johnson', 'sex': 'M', 'address': '25764 Bowen Well Apt. 208\\nMorganborough, WV 42860', 'mail': 'solisjessica@yahoo.com', 'birthdate': datetime.date(1923, 3, 24)}\n",
            "4007494720510\n"
          ]
        }
      ]
    },
    {
      "cell_type": "markdown",
      "metadata": {
        "id": "h0eoS6CB4dpn"
      },
      "source": [
        "# 5. Zip File"
      ]
    },
    {
      "cell_type": "code",
      "metadata": {
        "id": "m2DouUQI4cD4"
      },
      "source": [
        "import zipfile\n",
        "\n",
        "Zippy = zipfile.ZipFile('example.zip', 'w')\n",
        "Zippy.write(\"./test.txt\")\n",
        "Zippy.close()                                                                          "
      ],
      "execution_count": 14,
      "outputs": []
    },
    {
      "cell_type": "markdown",
      "metadata": {
        "id": "TBRSF3G44l9V"
      },
      "source": [
        "# 6. Text-Blob"
      ]
    },
    {
      "cell_type": "code",
      "metadata": {
        "colab": {
          "base_uri": "https://localhost:8080/"
        },
        "id": "nzyo8-ZU4iAV",
        "outputId": "2ab55b8f-ce6c-4933-a704-d1ff1f663168"
      },
      "source": [
        "!pip install -U textblob"
      ],
      "execution_count": 16,
      "outputs": [
        {
          "output_type": "stream",
          "name": "stdout",
          "text": [
            "Requirement already satisfied: textblob in /usr/local/lib/python3.7/dist-packages (0.15.3)\n",
            "Collecting textblob\n",
            "  Downloading textblob-0.17.1-py2.py3-none-any.whl (636 kB)\n",
            "\u001b[K     |████████████████████████████████| 636 kB 4.2 MB/s \n",
            "\u001b[?25hRequirement already satisfied: nltk>=3.1 in /usr/local/lib/python3.7/dist-packages (from textblob) (3.2.5)\n",
            "Requirement already satisfied: six in /usr/local/lib/python3.7/dist-packages (from nltk>=3.1->textblob) (1.15.0)\n",
            "Installing collected packages: textblob\n",
            "  Attempting uninstall: textblob\n",
            "    Found existing installation: textblob 0.15.3\n",
            "    Uninstalling textblob-0.15.3:\n",
            "      Successfully uninstalled textblob-0.15.3\n",
            "Successfully installed textblob-0.17.1\n"
          ]
        }
      ]
    },
    {
      "cell_type": "code",
      "metadata": {
        "colab": {
          "base_uri": "https://localhost:8080/"
        },
        "id": "4dPyEagk4m5o",
        "outputId": "399c0186-b5d8-427c-eb91-5a38cebb1c98"
      },
      "source": [
        "from textblob import TextBlob\n",
        "\n",
        "text = input(\"Enter a text that needs spelling correction\")\n",
        "blob = TextBlob(text)\n",
        "blob_corrected = blob.correct()\n",
        "print(blob_corrected.string)                                                                     "
      ],
      "execution_count": 17,
      "outputs": [
        {
          "output_type": "stream",
          "name": "stdout",
          "text": [
            "Enter a text that needs spelling correctionBannana\n",
            "Banana\n"
          ]
        }
      ]
    },
    {
      "cell_type": "markdown",
      "metadata": {
        "id": "_5psZzdT4sto"
      },
      "source": [
        "# 7. Pyperclip"
      ]
    },
    {
      "cell_type": "code",
      "metadata": {
        "colab": {
          "base_uri": "https://localhost:8080/"
        },
        "id": "LclrO2Yc4oxk",
        "outputId": "b56c7af3-9b27-4caa-854a-275f8f18585f"
      },
      "source": [
        "!pip3 install pyperclip"
      ],
      "execution_count": 18,
      "outputs": [
        {
          "output_type": "stream",
          "name": "stdout",
          "text": [
            "Collecting pyperclip\n",
            "  Downloading pyperclip-1.8.2.tar.gz (20 kB)\n",
            "Building wheels for collected packages: pyperclip\n",
            "  Building wheel for pyperclip (setup.py) ... \u001b[?25l\u001b[?25hdone\n",
            "  Created wheel for pyperclip: filename=pyperclip-1.8.2-py3-none-any.whl size=11136 sha256=26773c251c6d4128990ee5d60dff723a2ecd04304d3b11d992ceb3001afdbaef\n",
            "  Stored in directory: /root/.cache/pip/wheels/9f/18/84/8f69f8b08169c7bae2dde6bd7daf0c19fca8c8e500ee620a28\n",
            "Successfully built pyperclip\n",
            "Installing collected packages: pyperclip\n",
            "Successfully installed pyperclip-1.8.2\n"
          ]
        }
      ]
    },
    {
      "cell_type": "code",
      "metadata": {
        "id": "11O4eK4t4tuI"
      },
      "source": [
        "import pyperclip\n",
        "\n",
        "copy = input(\"Enter the text you want to copy to clipboard\")\n",
        "pyperclip.copy(copy)\n",
        "text = pyperclip.paste()\n",
        "print(text)                                                                                   "
      ],
      "execution_count": 20,
      "outputs": []
    },
    {
      "cell_type": "markdown",
      "metadata": {
        "id": "BEG7WkFD4wyZ"
      },
      "source": [
        "# 8. Barcode"
      ]
    },
    {
      "cell_type": "code",
      "metadata": {
        "colab": {
          "base_uri": "https://localhost:8080/"
        },
        "id": "ZzvcWeoL4vFM",
        "outputId": "4ab34ad1-a0d2-41e7-fa0d-12bfb1b9a812"
      },
      "source": [
        "pip install python-barcode"
      ],
      "execution_count": 21,
      "outputs": [
        {
          "output_type": "stream",
          "name": "stdout",
          "text": [
            "Collecting python-barcode\n",
            "  Downloading python_barcode-0.13.1-py3-none-any.whl (217 kB)\n",
            "\u001b[?25l\r\u001b[K     |█▌                              | 10 kB 20.0 MB/s eta 0:00:01\r\u001b[K     |███                             | 20 kB 25.7 MB/s eta 0:00:01\r\u001b[K     |████▌                           | 30 kB 17.6 MB/s eta 0:00:01\r\u001b[K     |██████                          | 40 kB 11.6 MB/s eta 0:00:01\r\u001b[K     |███████▌                        | 51 kB 4.7 MB/s eta 0:00:01\r\u001b[K     |█████████                       | 61 kB 4.9 MB/s eta 0:00:01\r\u001b[K     |██████████▋                     | 71 kB 4.5 MB/s eta 0:00:01\r\u001b[K     |████████████                    | 81 kB 5.0 MB/s eta 0:00:01\r\u001b[K     |█████████████▋                  | 92 kB 5.1 MB/s eta 0:00:01\r\u001b[K     |███████████████                 | 102 kB 4.3 MB/s eta 0:00:01\r\u001b[K     |████████████████▋               | 112 kB 4.3 MB/s eta 0:00:01\r\u001b[K     |██████████████████              | 122 kB 4.3 MB/s eta 0:00:01\r\u001b[K     |███████████████████▋            | 133 kB 4.3 MB/s eta 0:00:01\r\u001b[K     |█████████████████████▏          | 143 kB 4.3 MB/s eta 0:00:01\r\u001b[K     |██████████████████████▋         | 153 kB 4.3 MB/s eta 0:00:01\r\u001b[K     |████████████████████████▏       | 163 kB 4.3 MB/s eta 0:00:01\r\u001b[K     |█████████████████████████▋      | 174 kB 4.3 MB/s eta 0:00:01\r\u001b[K     |███████████████████████████▏    | 184 kB 4.3 MB/s eta 0:00:01\r\u001b[K     |████████████████████████████▋   | 194 kB 4.3 MB/s eta 0:00:01\r\u001b[K     |██████████████████████████████▏ | 204 kB 4.3 MB/s eta 0:00:01\r\u001b[K     |███████████████████████████████▊| 215 kB 4.3 MB/s eta 0:00:01\r\u001b[K     |████████████████████████████████| 217 kB 4.3 MB/s \n",
            "\u001b[?25hInstalling collected packages: python-barcode\n",
            "Successfully installed python-barcode-0.13.1\n"
          ]
        }
      ]
    },
    {
      "cell_type": "code",
      "metadata": {
        "colab": {
          "base_uri": "https://localhost:8080/",
          "height": 37
        },
        "id": "zxp0SwW840Qm",
        "outputId": "396c1148-7df9-4bcc-df9b-1addf22b1a25"
      },
      "source": [
        "from barcode import EAN13\n",
        "from barcode.writer import ImageWriter\n",
        "\n",
        "number='123456789123'\n",
        "mycode=EAN13(number, writer=ImageWriter())\n",
        "mycode.save('new')                                                                            "
      ],
      "execution_count": 22,
      "outputs": [
        {
          "output_type": "execute_result",
          "data": {
            "application/vnd.google.colaboratory.intrinsic+json": {
              "type": "string"
            },
            "text/plain": [
              "'new.png'"
            ]
          },
          "metadata": {},
          "execution_count": 22
        }
      ]
    },
    {
      "cell_type": "markdown",
      "metadata": {
        "id": "nLWSqng_43Dd"
      },
      "source": [
        "# 9. Num2Words"
      ]
    },
    {
      "cell_type": "code",
      "metadata": {
        "colab": {
          "base_uri": "https://localhost:8080/"
        },
        "id": "WMLIedIz42F-",
        "outputId": "a81192b6-f263-454d-e224-e9a974ef45cb"
      },
      "source": [
        "pip install num2words"
      ],
      "execution_count": 23,
      "outputs": [
        {
          "output_type": "stream",
          "name": "stdout",
          "text": [
            "Collecting num2words\n",
            "  Downloading num2words-0.5.10-py3-none-any.whl (101 kB)\n",
            "\u001b[K     |████████████████████████████████| 101 kB 3.0 MB/s \n",
            "\u001b[?25hRequirement already satisfied: docopt>=0.6.2 in /usr/local/lib/python3.7/dist-packages (from num2words) (0.6.2)\n",
            "Installing collected packages: num2words\n",
            "Successfully installed num2words-0.5.10\n"
          ]
        }
      ]
    },
    {
      "cell_type": "code",
      "metadata": {
        "colab": {
          "base_uri": "https://localhost:8080/"
        },
        "id": "uojpxcvP44Y2",
        "outputId": "5428fd43-fef3-4942-dcca-4525e946175f"
      },
      "source": [
        "from num2words import num2words\n",
        "\n",
        "num = input(\"Enter the number \")\n",
        "print(num2words(num))                                                               "
      ],
      "execution_count": 24,
      "outputs": [
        {
          "output_type": "stream",
          "name": "stdout",
          "text": [
            "Enter the number 10\n",
            "ten\n"
          ]
        }
      ]
    },
    {
      "cell_type": "markdown",
      "metadata": {
        "id": "J9WUC6-347jd"
      },
      "source": [
        "# 10. PyautoGUI"
      ]
    },
    {
      "cell_type": "code",
      "metadata": {
        "colab": {
          "base_uri": "https://localhost:8080/"
        },
        "id": "Jh5z4Z9e45_Q",
        "outputId": "47580897-9cee-47c2-81f5-32455dedc28b"
      },
      "source": [
        "pip install pyautogui"
      ],
      "execution_count": 25,
      "outputs": [
        {
          "output_type": "stream",
          "name": "stdout",
          "text": [
            "Collecting pyautogui\n",
            "  Downloading PyAutoGUI-0.9.53.tar.gz (59 kB)\n",
            "\u001b[?25l\r\u001b[K     |█████▌                          | 10 kB 23.4 MB/s eta 0:00:01\r\u001b[K     |███████████                     | 20 kB 16.5 MB/s eta 0:00:01\r\u001b[K     |████████████████▋               | 30 kB 8.6 MB/s eta 0:00:01\r\u001b[K     |██████████████████████▏         | 40 kB 3.7 MB/s eta 0:00:01\r\u001b[K     |███████████████████████████▊    | 51 kB 4.2 MB/s eta 0:00:01\r\u001b[K     |████████████████████████████████| 59 kB 2.0 MB/s \n",
            "\u001b[?25hCollecting pymsgbox\n",
            "  Downloading PyMsgBox-1.0.9.tar.gz (18 kB)\n",
            "  Installing build dependencies ... \u001b[?25l\u001b[?25hdone\n",
            "  Getting requirements to build wheel ... \u001b[?25l\u001b[?25hdone\n",
            "    Preparing wheel metadata ... \u001b[?25l\u001b[?25hdone\n",
            "Collecting PyTweening>=1.0.1\n",
            "  Downloading pytweening-1.0.4.tar.gz (14 kB)\n",
            "Collecting pyscreeze>=0.1.21\n",
            "  Downloading PyScreeze-0.1.28.tar.gz (25 kB)\n",
            "  Installing build dependencies ... \u001b[?25l\u001b[?25hdone\n",
            "  Getting requirements to build wheel ... \u001b[?25l\u001b[?25hdone\n",
            "    Preparing wheel metadata ... \u001b[?25l\u001b[?25hdone\n",
            "Collecting pygetwindow>=0.0.5\n",
            "  Downloading PyGetWindow-0.0.9.tar.gz (9.7 kB)\n",
            "Collecting mouseinfo\n",
            "  Downloading MouseInfo-0.1.3.tar.gz (10 kB)\n",
            "Collecting python3-Xlib\n",
            "  Downloading python3-xlib-0.15.tar.gz (132 kB)\n",
            "\u001b[K     |████████████████████████████████| 132 kB 8.7 MB/s \n",
            "\u001b[?25hCollecting pyrect\n",
            "  Downloading PyRect-0.1.4.tar.gz (15 kB)\n",
            "Requirement already satisfied: Pillow>=5.2.0 in /usr/local/lib/python3.7/dist-packages (from pyscreeze>=0.1.21->pyautogui) (7.1.2)\n",
            "Requirement already satisfied: pyperclip in /usr/local/lib/python3.7/dist-packages (from mouseinfo->pyautogui) (1.8.2)\n",
            "Building wheels for collected packages: pyautogui, pygetwindow, pyscreeze, PyTweening, mouseinfo, pymsgbox, pyrect, python3-Xlib\n",
            "  Building wheel for pyautogui (setup.py) ... \u001b[?25l\u001b[?25hdone\n",
            "  Created wheel for pyautogui: filename=PyAutoGUI-0.9.53-py3-none-any.whl size=36613 sha256=d3c2665ab6f182d184c35988bad5a0a087d8b4f88bab92452e2ed3d2993f09ef\n",
            "  Stored in directory: /root/.cache/pip/wheels/23/db/81/a14b5eca81ccb97c15e5bbea8d5394b8cbf6b36451d89dd648\n",
            "  Building wheel for pygetwindow (setup.py) ... \u001b[?25l\u001b[?25hdone\n",
            "  Created wheel for pygetwindow: filename=PyGetWindow-0.0.9-py3-none-any.whl size=11080 sha256=96cc6d233df0c11587a81b2170fa7c7c8f5d27aad465fda37178c24d336ec474\n",
            "  Stored in directory: /root/.cache/pip/wheels/91/7e/35/62d9062a06cfc46fea39e26860253da36f258b3f3fd96c91c3\n",
            "  Building wheel for pyscreeze (PEP 517) ... \u001b[?25l\u001b[?25hdone\n",
            "  Created wheel for pyscreeze: filename=PyScreeze-0.1.28-py3-none-any.whl size=13023 sha256=4c467f0f8241b81298d0dc9ac8f952802564942c35b21d31c3fe49742281b56b\n",
            "  Stored in directory: /root/.cache/pip/wheels/09/85/24/8db624ac125598fc40c4fbbff9d3b42e1c464d168567f72a42\n",
            "  Building wheel for PyTweening (setup.py) ... \u001b[?25l\u001b[?25hdone\n",
            "  Created wheel for PyTweening: filename=pytweening-1.0.4-py3-none-any.whl size=5854 sha256=9dbc77b100dbc0ae050ab8ddfc253451f6715ad3f94d1128ea0a21cf8e203c9e\n",
            "  Stored in directory: /root/.cache/pip/wheels/13/0b/3b/73efc9b0421547a03ed3208c92a88ccddae2ce853c1e6da7e9\n",
            "  Building wheel for mouseinfo (setup.py) ... \u001b[?25l\u001b[?25hdone\n",
            "  Created wheel for mouseinfo: filename=MouseInfo-0.1.3-py3-none-any.whl size=10906 sha256=02f08b059f2fb51383e6b0e992c9e2e7d749582d095ebed5c99f20e88660ba3b\n",
            "  Stored in directory: /root/.cache/pip/wheels/43/9a/7f/373736bf37b94b358be41fb2f317a0f9940a1dcb7a733e1707\n",
            "  Building wheel for pymsgbox (PEP 517) ... \u001b[?25l\u001b[?25hdone\n",
            "  Created wheel for pymsgbox: filename=PyMsgBox-1.0.9-py3-none-any.whl size=7420 sha256=158ea96f684af32f8911382247e4e0a838acfb069344d862d2efc576d59f11cd\n",
            "  Stored in directory: /root/.cache/pip/wheels/39/eb/0e/1587e06da34adf675ad26a113da25df542991f5095303374ef\n",
            "  Building wheel for pyrect (setup.py) ... \u001b[?25l\u001b[?25hdone\n",
            "  Created wheel for pyrect: filename=PyRect-0.1.4-py2.py3-none-any.whl size=9547 sha256=d0416ded40feaf4d0850f23b4792b4bfdbb8062a459e5154c49aead604c25b41\n",
            "  Stored in directory: /root/.cache/pip/wheels/97/5f/8e/6f26a5b00d46679ee2391a3542334274ce8bdaf7c6b0f3504c\n",
            "  Building wheel for python3-Xlib (setup.py) ... \u001b[?25l\u001b[?25hdone\n",
            "  Created wheel for python3-Xlib: filename=python3_xlib-0.15-py3-none-any.whl size=109517 sha256=659bffff66f22e25fd2be50eef82d26943fff5e3c7ab17f7158e6263639ca2c1\n",
            "  Stored in directory: /root/.cache/pip/wheels/67/6f/f2/18f51230840318e784c45e1392a0e174777e499251e42ddf86\n",
            "Successfully built pyautogui pygetwindow pyscreeze PyTweening mouseinfo pymsgbox pyrect python3-Xlib\n",
            "Installing collected packages: python3-Xlib, pyrect, PyTweening, pyscreeze, pymsgbox, pygetwindow, mouseinfo, pyautogui\n",
            "Successfully installed PyTweening-1.0.4 mouseinfo-0.1.3 pyautogui-0.9.53 pygetwindow-0.0.9 pymsgbox-1.0.9 pyrect-0.1.4 pyscreeze-0.1.28 python3-Xlib-0.15\n"
          ]
        }
      ]
    },
    {
      "cell_type": "code",
      "metadata": {
        "id": "t7s-L3lH48oQ"
      },
      "source": [
        "import pyautogui\n",
        "screenshot = pyautogui.screenshot()\n",
        "screenshot.save(\"screenshot.png\")                                                 "
      ],
      "execution_count": 27,
      "outputs": []
    }
  ]
}