{
  "nbformat": 4,
  "nbformat_minor": 0,
  "metadata": {
    "colab": {
      "provenance": [],
      "authorship_tag": "ABX9TyOZQmiqp+4VmukQYyTaWdje"
    },
    "kernelspec": {
      "name": "python3",
      "display_name": "Python 3"
    },
    "language_info": {
      "name": "python"
    }
  },
  "cells": [
    {
      "cell_type": "markdown",
      "source": [
        "[Reference](https://medium.com/@aymaneelghait10/python-best-practices-that-will-level-up-your-code-95e63b541105)"
      ],
      "metadata": {
        "id": "nNImYhyco0yc"
      }
    },
    {
      "cell_type": "markdown",
      "source": [
        "# Key PEP 8 Guidelines"
      ],
      "metadata": {
        "id": "0YeKv3AnpKbH"
      }
    },
    {
      "cell_type": "code",
      "execution_count": 1,
      "metadata": {
        "id": "7l5GzHwpoymk"
      },
      "outputs": [],
      "source": [
        "# Good Python indentation\n",
        "def calculate_total(items):\n",
        "    total = 0\n",
        "    for item in items:\n",
        "        total += item.price\n",
        "    return total"
      ]
    },
    {
      "cell_type": "markdown",
      "source": [
        "# Python Functions: Small and Focused"
      ],
      "metadata": {
        "id": "4uMQLXvkpI1w"
      }
    },
    {
      "cell_type": "code",
      "source": [
        "# Bad Python function that does too much\n",
        "def process_data(data):\n",
        "    cleaned = []\n",
        "    for d in data:\n",
        "        if d.strip() != \"\":\n",
        "            cleaned.append(d.lower())\n",
        "    # Calculate average\n",
        "    total = sum(len(c) for c in cleaned)\n",
        "    return cleaned, total / len(cleaned) if cleaned else 0"
      ],
      "metadata": {
        "id": "3r87fWbdo-Eh"
      },
      "execution_count": 2,
      "outputs": []
    },
    {
      "cell_type": "code",
      "source": [
        "# Better Python approach: separate functions\n",
        "def clean_data(data):\n",
        "    return [d.lower() for d in data if d.strip()]\n",
        "def calculate_average_length(items):\n",
        "    if not items:\n",
        "        return 0\n",
        "    return sum(len(item) for item in items) / len(items)"
      ],
      "metadata": {
        "id": "BU9Ho1F_pMBW"
      },
      "execution_count": 3,
      "outputs": []
    },
    {
      "cell_type": "markdown",
      "source": [
        "# Python Docstrings"
      ],
      "metadata": {
        "id": "7EHkV-G7pPtd"
      }
    },
    {
      "cell_type": "code",
      "source": [
        "def calculate_discount(price, percent):\n",
        "    \"\"\"\n",
        "    Calculate the discounted price.\n",
        "\n",
        "    Args:\n",
        "        price: Original price in dollars\n",
        "        percent: Discount percentage (0-100)\n",
        "\n",
        "    Returns:\n",
        "        float: The price after discount\n",
        "    \"\"\"\n",
        "    return price * (1 - percent / 100)"
      ],
      "metadata": {
        "id": "jDcYOA-OpOAh"
      },
      "execution_count": 4,
      "outputs": []
    },
    {
      "cell_type": "markdown",
      "source": [
        "# Error Handling the Python Way"
      ],
      "metadata": {
        "id": "-uQ1_uU5pTbD"
      }
    },
    {
      "cell_type": "code",
      "source": [
        "# Good Python error handling\n",
        "try:\n",
        "    value = data[key]\n",
        "except KeyError:\n",
        "    value = default_value"
      ],
      "metadata": {
        "id": "j_koRoi7pRWN"
      },
      "execution_count": 6,
      "outputs": []
    }
  ]
}