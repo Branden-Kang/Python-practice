{
  "nbformat": 4,
  "nbformat_minor": 0,
  "metadata": {
    "colab": {
      "name": "Optimization in Python Using Interning.ipynb",
      "provenance": [],
      "authorship_tag": "ABX9TyPWn8Kc9LH8nWbp37V4Kf/8"
    },
    "kernelspec": {
      "name": "python3",
      "display_name": "Python 3"
    }
  },
  "cells": [
    {
      "cell_type": "markdown",
      "metadata": {
        "id": "26xmMPxVVMpa"
      },
      "source": [
        "[Reference](https://medium.com/@chetan.ambi/optimization-in-python-interning-805be5e9fd3e)"
      ]
    },
    {
      "cell_type": "code",
      "metadata": {
        "colab": {
          "base_uri": "https://localhost:8080/"
        },
        "id": "VqLGZqC9VK_t",
        "outputId": "91fb80d1-7614-4754-fb19-efd49fe76b08"
      },
      "source": [
        "a = 100\n",
        "b = 100\n",
        "\n",
        "print('Memory address of a:', id(a))\n",
        "print('Memory address of b:', id(b))\n",
        "print('a is b:', a is b)"
      ],
      "execution_count": 1,
      "outputs": [
        {
          "output_type": "stream",
          "text": [
            "Memory address of a: 10917664\n",
            "Memory address of b: 10917664\n",
            "a is b: True\n"
          ],
          "name": "stdout"
        }
      ]
    },
    {
      "cell_type": "code",
      "metadata": {
        "colab": {
          "base_uri": "https://localhost:8080/"
        },
        "id": "KFMe8tt5VeNS",
        "outputId": "f2cc7eba-f89d-470c-9e6e-8a5d9bde8829"
      },
      "source": [
        "a = 1000\n",
        "b = 1000\n",
        "\n",
        "print('Memory address of a:', id(a))\n",
        "print('Memory address of b:', id(b))\n",
        "print('a is b:', a is b)"
      ],
      "execution_count": 2,
      "outputs": [
        {
          "output_type": "stream",
          "text": [
            "Memory address of a: 140111188036592\n",
            "Memory address of b: 140111188036208\n",
            "a is b: False\n"
          ],
          "name": "stdout"
        }
      ]
    },
    {
      "cell_type": "markdown",
      "metadata": {
        "id": "uguMfh7oVoSF"
      },
      "source": [
        "# String interning"
      ]
    },
    {
      "cell_type": "code",
      "metadata": {
        "colab": {
          "base_uri": "https://localhost:8080/"
        },
        "id": "fjFqqn-kVlnu",
        "outputId": "fe225585-1303-4ff8-c882-71e559a7a608"
      },
      "source": [
        "a = 'Data'\n",
        "b = 'Data'\n",
        "\n",
        "print('Memory address of a:', id(a))\n",
        "print('Memory address of b:', id(b))\n",
        "print('a is b:', a is b)"
      ],
      "execution_count": 3,
      "outputs": [
        {
          "output_type": "stream",
          "text": [
            "Memory address of a: 140111598882240\n",
            "Memory address of b: 140111598882240\n",
            "a is b: True\n"
          ],
          "name": "stdout"
        }
      ]
    },
    {
      "cell_type": "code",
      "metadata": {
        "colab": {
          "base_uri": "https://localhost:8080/"
        },
        "id": "fkXLHEtvVrfi",
        "outputId": "9157ce81-1029-4330-a56d-3dbf5f27e17c"
      },
      "source": [
        "a = 'Data Science'\n",
        "b = 'Data Science'\n",
        "\n",
        "print('Memory address of a:', id(a))\n",
        "print('Memory address of b:', id(b))\n",
        "print('a is b:', a is b)"
      ],
      "execution_count": 4,
      "outputs": [
        {
          "output_type": "stream",
          "text": [
            "Memory address of a: 140111179040048\n",
            "Memory address of b: 140111179042096\n",
            "a is b: False\n"
          ],
          "name": "stdout"
        }
      ]
    },
    {
      "cell_type": "code",
      "metadata": {
        "colab": {
          "base_uri": "https://localhost:8080/"
        },
        "id": "hOsPXy5cVven",
        "outputId": "bd54356d-be42-4791-fb58-568a609379b6"
      },
      "source": [
        "import sys\n",
        "\n",
        "a = sys.intern('Data Science')\n",
        "b = sys.intern('Data Science')\n",
        "\n",
        "print('Memory address of a:', id(a))\n",
        "print('Memory address of b:', id(b))\n",
        "print('a is b:', a is b)"
      ],
      "execution_count": 5,
      "outputs": [
        {
          "output_type": "stream",
          "text": [
            "Memory address of a: 140111179041392\n",
            "Memory address of b: 140111179041392\n",
            "a is b: True\n"
          ],
          "name": "stdout"
        }
      ]
    }
  ]
}