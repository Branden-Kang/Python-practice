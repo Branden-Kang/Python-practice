{
  "nbformat": 4,
  "nbformat_minor": 0,
  "metadata": {
    "colab": {
      "name": "Python Dictionary Can Be Improved.ipynb",
      "provenance": [],
      "authorship_tag": "ABX9TyPzGUjtdsJn5h0URPQ8aFQd"
    },
    "kernelspec": {
      "name": "python3",
      "display_name": "Python 3"
    },
    "language_info": {
      "name": "python"
    }
  },
  "cells": [
    {
      "cell_type": "markdown",
      "metadata": {
        "id": "OfrMMKDRDy35"
      },
      "source": [
        "[Reference](https://towardsdatascience.com/python-dictionary-can-be-improved-f5dce4f5d0af)"
      ]
    },
    {
      "cell_type": "code",
      "metadata": {
        "id": "5d6tjwFVDu70"
      },
      "source": [
        "my_profile = {\n",
        "    'name': 'Chris',\n",
        "    'age': 33,\n",
        "    'address': {\n",
        "        'country': 'Australia',\n",
        "        'state': 'Victoria'\n",
        "    }\n",
        "}"
      ],
      "execution_count": 1,
      "outputs": []
    },
    {
      "cell_type": "code",
      "metadata": {
        "colab": {
          "base_uri": "https://localhost:8080/",
          "height": 37
        },
        "id": "nspOj1WcD2sP",
        "outputId": "b7023308-e19e-458c-cea7-af944541e001"
      },
      "source": [
        "my_profile['name']"
      ],
      "execution_count": 2,
      "outputs": [
        {
          "output_type": "execute_result",
          "data": {
            "application/vnd.google.colaboratory.intrinsic+json": {
              "type": "string"
            },
            "text/plain": [
              "'Chris'"
            ]
          },
          "metadata": {
            "tags": []
          },
          "execution_count": 2
        }
      ]
    },
    {
      "cell_type": "code",
      "metadata": {
        "colab": {
          "base_uri": "https://localhost:8080/",
          "height": 37
        },
        "id": "1gRaITivD3sC",
        "outputId": "fa73bd8a-162b-49fa-be3e-8335673ff8ca"
      },
      "source": [
        "my_profile['address']['country']"
      ],
      "execution_count": 3,
      "outputs": [
        {
          "output_type": "execute_result",
          "data": {
            "application/vnd.google.colaboratory.intrinsic+json": {
              "type": "string"
            },
            "text/plain": [
              "'Australia'"
            ]
          },
          "metadata": {
            "tags": []
          },
          "execution_count": 3
        }
      ]
    },
    {
      "cell_type": "code",
      "metadata": {
        "colab": {
          "base_uri": "https://localhost:8080/"
        },
        "id": "dnhUXyuYD6l-",
        "outputId": "47a6a164-8647-4e06-e20c-cbfc75e471a6"
      },
      "source": [
        "pip install munch"
      ],
      "execution_count": 4,
      "outputs": [
        {
          "output_type": "stream",
          "text": [
            "Collecting munch\n",
            "  Downloading https://files.pythonhosted.org/packages/cc/ab/85d8da5c9a45e072301beb37ad7f833cd344e04c817d97e0cc75681d248f/munch-2.5.0-py2.py3-none-any.whl\n",
            "Requirement already satisfied: six in /usr/local/lib/python3.7/dist-packages (from munch) (1.15.0)\n",
            "Installing collected packages: munch\n",
            "Successfully installed munch-2.5.0\n"
          ],
          "name": "stdout"
        }
      ]
    },
    {
      "cell_type": "code",
      "metadata": {
        "id": "PlyD0Vk6D-OW"
      },
      "source": [
        "from munch import Munch"
      ],
      "execution_count": 5,
      "outputs": []
    },
    {
      "cell_type": "code",
      "metadata": {
        "id": "622u8H-hEA3d"
      },
      "source": [
        "my_profile = Munch({\n",
        "    'name': 'Chris',\n",
        "    'age': 33,\n",
        "    'address': Munch({\n",
        "        'country': 'Australia',\n",
        "        'state': 'Victoria'\n",
        "    })\n",
        "})"
      ],
      "execution_count": 6,
      "outputs": []
    },
    {
      "cell_type": "code",
      "metadata": {
        "colab": {
          "base_uri": "https://localhost:8080/"
        },
        "id": "d4hUjDv0EBya",
        "outputId": "1a299df0-ad91-4961-9cc4-9f9841b27ced"
      },
      "source": [
        "my_profile.address"
      ],
      "execution_count": 7,
      "outputs": [
        {
          "output_type": "execute_result",
          "data": {
            "text/plain": [
              "Munch({'country': 'Australia', 'state': 'Victoria'})"
            ]
          },
          "metadata": {
            "tags": []
          },
          "execution_count": 7
        }
      ]
    },
    {
      "cell_type": "code",
      "metadata": {
        "id": "xreFDpAQEM4O"
      },
      "source": [
        "my_new_profile = Munch()"
      ],
      "execution_count": 8,
      "outputs": []
    },
    {
      "cell_type": "code",
      "metadata": {
        "id": "aIyOf6V6EOQz"
      },
      "source": [
        "my_new_profile.name = 'Chris'\n",
        "my_new_profile.age = 33\n",
        "my_new_profile.address = Munch()\n",
        "\n",
        "my_new_profile.address.country = \"Australia\"\n",
        "my_new_profile.address.state = \"Victoria\""
      ],
      "execution_count": 9,
      "outputs": []
    },
    {
      "cell_type": "code",
      "metadata": {
        "colab": {
          "base_uri": "https://localhost:8080/"
        },
        "id": "at4t8YpFESic",
        "outputId": "9bff2622-d57b-49df-d8a4-d4c682ec13c5"
      },
      "source": [
        "print(my_new_profile)"
      ],
      "execution_count": 10,
      "outputs": [
        {
          "output_type": "stream",
          "text": [
            "Munch({'name': 'Chris', 'age': 33, 'address': Munch({'country': 'Australia', 'state': 'Victoria'})})\n"
          ],
          "name": "stdout"
        }
      ]
    },
    {
      "cell_type": "code",
      "metadata": {
        "colab": {
          "base_uri": "https://localhost:8080/"
        },
        "id": "jyQEvtFiEUrS",
        "outputId": "4e18a747-f2ca-4bf7-ed8f-7f0d2038ab3b"
      },
      "source": [
        "isinstance(my_new_profile, Munch)"
      ],
      "execution_count": 12,
      "outputs": [
        {
          "output_type": "execute_result",
          "data": {
            "text/plain": [
              "True"
            ]
          },
          "metadata": {
            "tags": []
          },
          "execution_count": 12
        }
      ]
    },
    {
      "cell_type": "code",
      "metadata": {
        "colab": {
          "base_uri": "https://localhost:8080/"
        },
        "id": "tOZ0DiRfEYCD",
        "outputId": "a5199327-37c3-4c9f-979f-0dbbb8e636cb"
      },
      "source": [
        "isinstance(my_new_profile, dict)"
      ],
      "execution_count": 13,
      "outputs": [
        {
          "output_type": "execute_result",
          "data": {
            "text/plain": [
              "True"
            ]
          },
          "metadata": {
            "tags": []
          },
          "execution_count": 13
        }
      ]
    },
    {
      "cell_type": "code",
      "metadata": {
        "colab": {
          "base_uri": "https://localhost:8080/",
          "height": 37
        },
        "id": "K_Fx01b-Eat8",
        "outputId": "d643bc51-815a-4f18-e55b-3e8eda55a7b5"
      },
      "source": [
        "my_new_profile['programming_language'] = 'Python'\n",
        "my_new_profile['programming_language']"
      ],
      "execution_count": 14,
      "outputs": [
        {
          "output_type": "execute_result",
          "data": {
            "application/vnd.google.colaboratory.intrinsic+json": {
              "type": "string"
            },
            "text/plain": [
              "'Python'"
            ]
          },
          "metadata": {
            "tags": []
          },
          "execution_count": 14
        }
      ]
    },
    {
      "cell_type": "code",
      "metadata": {
        "colab": {
          "base_uri": "https://localhost:8080/"
        },
        "id": "SCTeIZJqEfQ6",
        "outputId": "e5769c5d-3610-46c5-c902-43a5c6e24e0d"
      },
      "source": [
        "my_new_profile.keys()"
      ],
      "execution_count": 15,
      "outputs": [
        {
          "output_type": "execute_result",
          "data": {
            "text/plain": [
              "dict_keys(['name', 'age', 'address', 'programming_language'])"
            ]
          },
          "metadata": {
            "tags": []
          },
          "execution_count": 15
        }
      ]
    },
    {
      "cell_type": "code",
      "metadata": {
        "colab": {
          "base_uri": "https://localhost:8080/"
        },
        "id": "LIP02lpbEhHe",
        "outputId": "2add6785-90f0-47d4-fed7-95ffe03d4c9d"
      },
      "source": [
        "# Serialisation\n",
        "import json\n",
        "profile_json = json.dumps(my_new_profile)\n",
        "print(profile_json)"
      ],
      "execution_count": 17,
      "outputs": [
        {
          "output_type": "stream",
          "text": [
            "{\"name\": \"Chris\", \"age\": 33, \"address\": {\"country\": \"Australia\", \"state\": \"Victoria\"}, \"programming_language\": \"Python\"}\n"
          ],
          "name": "stdout"
        }
      ]
    },
    {
      "cell_type": "code",
      "metadata": {
        "colab": {
          "base_uri": "https://localhost:8080/",
          "height": 198
        },
        "id": "Em83J5QjEkFe",
        "outputId": "7e36400e-ad9b-4471-8bf4-50b40b655119"
      },
      "source": [
        "type(my_profile['not exist'])"
      ],
      "execution_count": 18,
      "outputs": [
        {
          "output_type": "error",
          "ename": "KeyError",
          "evalue": "ignored",
          "traceback": [
            "\u001b[0;31m---------------------------------------------------------------------------\u001b[0m",
            "\u001b[0;31mKeyError\u001b[0m                                  Traceback (most recent call last)",
            "\u001b[0;32m<ipython-input-18-1e544496a073>\u001b[0m in \u001b[0;36m<module>\u001b[0;34m()\u001b[0m\n\u001b[0;32m----> 1\u001b[0;31m \u001b[0mtype\u001b[0m\u001b[0;34m(\u001b[0m\u001b[0mmy_profile\u001b[0m\u001b[0;34m[\u001b[0m\u001b[0;34m'not exist'\u001b[0m\u001b[0;34m]\u001b[0m\u001b[0;34m)\u001b[0m\u001b[0;34m\u001b[0m\u001b[0;34m\u001b[0m\u001b[0m\n\u001b[0m",
            "\u001b[0;31mKeyError\u001b[0m: 'not exist'"
          ]
        }
      ]
    },
    {
      "cell_type": "code",
      "metadata": {
        "colab": {
          "base_uri": "https://localhost:8080/",
          "height": 37
        },
        "id": "szSRalLZEn6m",
        "outputId": "4f8c4db7-8440-4cae-ff0d-dfd40246cd9c"
      },
      "source": [
        "my_profile.get('programming_language', 'undefied')"
      ],
      "execution_count": 19,
      "outputs": [
        {
          "output_type": "execute_result",
          "data": {
            "application/vnd.google.colaboratory.intrinsic+json": {
              "type": "string"
            },
            "text/plain": [
              "'undefied'"
            ]
          },
          "metadata": {
            "tags": []
          },
          "execution_count": 19
        }
      ]
    },
    {
      "cell_type": "code",
      "metadata": {
        "id": "QlDCGAU0Eo7U"
      },
      "source": [
        "from munch import DefaultMunch\n",
        "\n",
        "my_profile = DefaultMunch('undefined', {\n",
        "    'name': 'Chris',\n",
        "    'age': 33\n",
        "})"
      ],
      "execution_count": 20,
      "outputs": []
    },
    {
      "cell_type": "code",
      "metadata": {
        "colab": {
          "base_uri": "https://localhost:8080/",
          "height": 37
        },
        "id": "cOr6P4ZTEril",
        "outputId": "8847d19a-22ad-4a86-ffce-95930b53ace3"
      },
      "source": [
        "my_profile.whatever_not_exists"
      ],
      "execution_count": 21,
      "outputs": [
        {
          "output_type": "execute_result",
          "data": {
            "application/vnd.google.colaboratory.intrinsic+json": {
              "type": "string"
            },
            "text/plain": [
              "'undefined'"
            ]
          },
          "metadata": {
            "tags": []
          },
          "execution_count": 21
        }
      ]
    },
    {
      "cell_type": "code",
      "metadata": {
        "id": "lLlvVHadEuBR"
      },
      "source": [
        "from munch import DefaultFactoryMunch\n",
        "\n",
        "my_profile = DefaultFactoryMunch(list, {\n",
        "    'name': 'Chris',\n",
        "    'age': 33\n",
        "})"
      ],
      "execution_count": 23,
      "outputs": []
    },
    {
      "cell_type": "code",
      "metadata": {
        "colab": {
          "base_uri": "https://localhost:8080/"
        },
        "id": "rPDqmBOoEvyC",
        "outputId": "3646aa95-2f7d-444f-a091-9df7bb3624b5"
      },
      "source": [
        "if not my_profile.languages:\n",
        "    my_profile.languages.append('Python')\n",
        "    \n",
        "print(my_profile.languages)"
      ],
      "execution_count": 24,
      "outputs": [
        {
          "output_type": "stream",
          "text": [
            "['Python']\n"
          ],
          "name": "stdout"
        }
      ]
    }
  ]
}