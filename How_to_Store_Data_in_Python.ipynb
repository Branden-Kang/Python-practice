{
  "nbformat": 4,
  "nbformat_minor": 0,
  "metadata": {
    "colab": {
      "name": "How to Store Data in Python.ipynb",
      "provenance": [],
      "authorship_tag": "ABX9TyMzKlSIW5hqiitWwuR+q94P"
    },
    "kernelspec": {
      "name": "python3",
      "display_name": "Python 3"
    },
    "language_info": {
      "name": "python"
    }
  },
  "cells": [
    {
      "cell_type": "markdown",
      "metadata": {
        "id": "hH9BJNU4vUgB"
      },
      "source": [
        "[Reference](https://python.plainenglish.io/lesson-3-storing-data-c9ccf2c9272f)"
      ]
    },
    {
      "cell_type": "code",
      "metadata": {
        "colab": {
          "base_uri": "https://localhost:8080/"
        },
        "id": "vfsuPDD5vQ6f",
        "outputId": "26175323-7549-4f18-b6f7-74274c37c591"
      },
      "source": [
        "person = input(\"What's your name? \")\n",
        "print(\"Hello, \" + person)\n",
        "current_mood = input(\"How are you? \")\n",
        "print(\"You are \" + current_mood + \". I am well\")\n",
        "activity = input(\"What are you doing today? \")\n",
        "print(\"That sounds fun\")"
      ],
      "execution_count": 1,
      "outputs": [
        {
          "output_type": "stream",
          "text": [
            "What's your name? Branden\n",
            "Hello, Branden\n",
            "How are you? Data Scientist\n",
            "You are Data Scientist. I am well\n",
            "What are you doing today? Good\n",
            "That sounds fun\n"
          ],
          "name": "stdout"
        }
      ]
    }
  ]
}