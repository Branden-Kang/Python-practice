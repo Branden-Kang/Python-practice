{
  "nbformat": 4,
  "nbformat_minor": 0,
  "metadata": {
    "colab": {
      "name": "Transfer Learning From Pre-Trained Model for Image Recognition.ipynb",
      "provenance": [],
      "authorship_tag": "ABX9TyPay1+JYTQ7ofBH+f0CRmoA"
    },
    "kernelspec": {
      "name": "python3",
      "display_name": "Python 3"
    },
    "language_info": {
      "name": "python"
    }
  },
  "cells": [
    {
      "cell_type": "markdown",
      "metadata": {
        "id": "6faSj9RbP8fX"
      },
      "source": [
        "[Reference](https://sagarsonwane230797.medium.com/transfer-learning-from-pre-trained-model-for-image-facial-recognition-8b0c2038d5f0)"
      ]
    },
    {
      "cell_type": "code",
      "metadata": {
        "id": "EKNUDUqHP57T"
      },
      "source": [
        " from keras.appliation import VGG16\n",
        "\n",
        " img_rows = 100\n",
        " img_cols = 100\n",
        "\n",
        " model = VGG16(weights = 'imagenet',\n",
        "               include_top =False,\n",
        "               input_shape = (img_rows, img_cols, 3))"
      ],
      "execution_count": 2,
      "outputs": []
    }
  ]
}