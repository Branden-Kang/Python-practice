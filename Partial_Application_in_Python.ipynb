{
  "nbformat": 4,
  "nbformat_minor": 0,
  "metadata": {
    "colab": {
      "name": "Partial Application in Python.ipynb",
      "provenance": [],
      "authorship_tag": "ABX9TyNQMZGcVSKIFEho8vOtlD2h"
    },
    "kernelspec": {
      "name": "python3",
      "display_name": "Python 3"
    }
  },
  "cells": [
    {
      "cell_type": "markdown",
      "metadata": {
        "id": "-WaS4pnr7oqJ"
      },
      "source": [
        "[Reference](https://medium.com/swlh/partial-application-in-python-7e9cbbbc959a)"
      ]
    },
    {
      "cell_type": "code",
      "metadata": {
        "id": "JKNWw9ku6hIu"
      },
      "source": [
        "def clamp(a, b, x):\n",
        "    return min(b, max(a, x))"
      ],
      "execution_count": 1,
      "outputs": []
    },
    {
      "cell_type": "code",
      "metadata": {
        "id": "o2yR4op_6kyY",
        "outputId": "a97728d7-6923-4c6f-8c46-dfa1f2cea0d5",
        "colab": {
          "base_uri": "https://localhost:8080/",
          "height": 34
        }
      },
      "source": [
        "from functools import partial\n",
        "\n",
        "clamp_01 = partial(clamp, 0, 1)\n",
        "print(clamp_01(2))  # Prints 1"
      ],
      "execution_count": 2,
      "outputs": [
        {
          "output_type": "stream",
          "text": [
            "1\n"
          ],
          "name": "stdout"
        }
      ]
    },
    {
      "cell_type": "code",
      "metadata": {
        "id": "O7W6l61h7Gtc"
      },
      "source": [
        "def neg(a):\n",
        "    return -a"
      ],
      "execution_count": 4,
      "outputs": []
    },
    {
      "cell_type": "code",
      "metadata": {
        "id": "JkIof-pC6qKX"
      },
      "source": [
        "s = map(neg, [1, -2, 0 -3, 2])"
      ],
      "execution_count": 5,
      "outputs": []
    },
    {
      "cell_type": "code",
      "metadata": {
        "id": "zbI5jqmf62Aj",
        "outputId": "779bf80c-e8b1-46bb-9409-b725d04875bb",
        "colab": {
          "base_uri": "https://localhost:8080/",
          "height": 34
        }
      },
      "source": [
        "print(list(s))"
      ],
      "execution_count": 6,
      "outputs": [
        {
          "output_type": "stream",
          "text": [
            "[-1, 2, 3, -2]\n"
          ],
          "name": "stdout"
        }
      ]
    },
    {
      "cell_type": "code",
      "metadata": {
        "id": "aM99emOI7LfD",
        "outputId": "eb2d3081-bdd2-4642-c0f5-2406a2b60aec",
        "colab": {
          "base_uri": "https://localhost:8080/",
          "height": 34
        }
      },
      "source": [
        "list(map(partial(clamp, 0, 1), [1, -2, 0 -3, 2]))"
      ],
      "execution_count": 10,
      "outputs": [
        {
          "output_type": "execute_result",
          "data": {
            "text/plain": [
              "[1, 0, 0, 1]"
            ]
          },
          "metadata": {
            "tags": []
          },
          "execution_count": 10
        }
      ]
    },
    {
      "cell_type": "code",
      "metadata": {
        "id": "qWZGdN4R7QId",
        "outputId": "72ffa0ef-93bb-427c-a15c-ba61cb0f9947",
        "colab": {
          "base_uri": "https://localhost:8080/",
          "height": 34
        }
      },
      "source": [
        "def my_clamp(x):\n",
        " return clamp(0, 1, x)\n",
        "\n",
        "list(map(my_clamp, [1, -2, 0 -3, 2]))"
      ],
      "execution_count": 9,
      "outputs": [
        {
          "output_type": "execute_result",
          "data": {
            "text/plain": [
              "[1, 0, 0, 1]"
            ]
          },
          "metadata": {
            "tags": []
          },
          "execution_count": 9
        }
      ]
    },
    {
      "cell_type": "code",
      "metadata": {
        "id": "bFfFuNE17Vf1",
        "outputId": "41590af0-0169-4de7-cd26-3d5fbf7df635",
        "colab": {
          "base_uri": "https://localhost:8080/",
          "height": 51
        }
      },
      "source": [
        "csv = partial(print, sep=\",\")\n",
        "csv(1, 2, 3) # 1,2,3\n",
        "csv(1, 2, 3, sep = \"|\")"
      ],
      "execution_count": 12,
      "outputs": [
        {
          "output_type": "stream",
          "text": [
            "1,2,3\n",
            "1|2|3\n"
          ],
          "name": "stdout"
        }
      ]
    }
  ]
}