{
  "nbformat": 4,
  "nbformat_minor": 0,
  "metadata": {
    "colab": {
      "name": "Top 30 Git Commands You Should Know To Master Git CLI.ipynb",
      "provenance": [],
      "authorship_tag": "ABX9TyPcc7qajeg2QkIFPV5ZOWOT"
    },
    "kernelspec": {
      "name": "python3",
      "display_name": "Python 3"
    },
    "language_info": {
      "name": "python"
    }
  },
  "cells": [
    {
      "cell_type": "markdown",
      "source": [
        "[Reference](https://levelup.gitconnected.com/top-30-git-commands-you-should-know-to-master-git-cli-f04e041779bc)"
      ],
      "metadata": {
        "id": "II0Ffqe80inf"
      }
    },
    {
      "cell_type": "markdown",
      "source": [
        "# 1. Set Up Your Username and Email\n"
      ],
      "metadata": {
        "id": "Ylr3ywax0mGb"
      }
    },
    {
      "cell_type": "code",
      "execution_count": 1,
      "metadata": {
        "id": "xujQ8JFAzNwH"
      },
      "outputs": [],
      "source": [
        "git config --global user.name \"Branden\"\n",
        "git config --global user.email \"branden@gmail.com\""
      ]
    },
    {
      "cell_type": "markdown",
      "source": [
        "# 2. Cache Your Login Credentials\n"
      ],
      "metadata": {
        "id": "vS4TuM-f0siA"
      }
    },
    {
      "cell_type": "code",
      "source": [
        "git config --global credential.helper cache"
      ],
      "metadata": {
        "id": "gfQ1pSXB0rVl"
      },
      "execution_count": 2,
      "outputs": []
    },
    {
      "cell_type": "markdown",
      "source": [
        "# 3. Initialize a Repository\n"
      ],
      "metadata": {
        "id": "8vDHhB090u1n"
      }
    },
    {
      "cell_type": "code",
      "source": [
        "git init"
      ],
      "metadata": {
        "id": "C70R9UHC0t2Z"
      },
      "execution_count": 3,
      "outputs": []
    },
    {
      "cell_type": "markdown",
      "source": [
        "# 4. Add Individual File or All Files To Staging Area\n"
      ],
      "metadata": {
        "id": "UOloATyh0xmB"
      }
    },
    {
      "cell_type": "code",
      "source": [
        "git add somefile.js\n",
        "git add ."
      ],
      "metadata": {
        "id": "2QayN2TA0wav"
      },
      "execution_count": 4,
      "outputs": []
    },
    {
      "cell_type": "markdown",
      "source": [
        "# 5. Check a Repository Status\n"
      ],
      "metadata": {
        "id": "bhhJsg2s01IU"
      }
    },
    {
      "cell_type": "code",
      "source": [
        "git status"
      ],
      "metadata": {
        "id": "KPV6ZApX00Dj"
      },
      "execution_count": 5,
      "outputs": []
    },
    {
      "cell_type": "markdown",
      "source": [
        "# 6. Commit Changes With a Single Line Message or Through an Editor\n"
      ],
      "metadata": {
        "id": "NewknH-_0391"
      }
    },
    {
      "cell_type": "code",
      "source": [
        "git commit -m \"Your short summary about the commit\"\n",
        "git commit"
      ],
      "metadata": {
        "id": "_KKjRRwh029d"
      },
      "execution_count": 6,
      "outputs": []
    },
    {
      "cell_type": "markdown",
      "source": [
        "# 7. View Commit History With Changes\n"
      ],
      "metadata": {
        "id": "Zm1bePlQ079j"
      }
    },
    {
      "cell_type": "code",
      "source": [
        "git log -p"
      ],
      "metadata": {
        "id": "eGnotOj207EQ"
      },
      "execution_count": 7,
      "outputs": []
    },
    {
      "cell_type": "markdown",
      "source": [
        "# 8. View a Particular Commit\n"
      ],
      "metadata": {
        "id": "5w1Qu2B50_cx"
      }
    },
    {
      "cell_type": "code",
      "source": [
        "git show 1af17e73721dbe0c40011b82ed4bb1a7dbe3ce29"
      ],
      "metadata": {
        "colab": {
          "base_uri": "https://localhost:8080/"
        },
        "id": "wBNVrHNB0-PH",
        "outputId": "1d17eb8c-a7da-42d3-c26e-3127b39c9468"
      },
      "execution_count": 8,
      "outputs": [
        {
          "output_type": "execute_result",
          "data": {
            "text/plain": [
              "()"
            ]
          },
          "metadata": {},
          "execution_count": 8
        }
      ]
    },
    {
      "cell_type": "code",
      "source": [
        "git show 1af17e"
      ],
      "metadata": {
        "id": "ZUnxToqb1BQX"
      },
      "execution_count": 9,
      "outputs": []
    },
    {
      "cell_type": "markdown",
      "source": [
        "# 9. View Changes Before Committing\n"
      ],
      "metadata": {
        "id": "ikaouGB71E6M"
      }
    },
    {
      "cell_type": "code",
      "source": [
        "git diff\n",
        "git diff --staged\n",
        "git diff somefile.js"
      ],
      "metadata": {
        "id": "fGO_d0Zf1DNW"
      },
      "execution_count": 11,
      "outputs": []
    },
    {
      "cell_type": "markdown",
      "source": [
        "# 10. Remove Tracked Files From The Current Working Tree\n"
      ],
      "metadata": {
        "id": "T_GC62xs1LMS"
      }
    },
    {
      "cell_type": "code",
      "source": [
        "git rm dirname/somefile.js\n",
        "git rm dirname/*.html"
      ],
      "metadata": {
        "id": "dMMl3FZn1HFy"
      },
      "execution_count": 12,
      "outputs": []
    },
    {
      "cell_type": "markdown",
      "source": [
        "# 12. Revert Unstaged and Staged Changes\n"
      ],
      "metadata": {
        "id": "8FKcEnaL1Puf"
      }
    },
    {
      "cell_type": "code",
      "source": [
        "git checkout somefile.js\n",
        "git reset HEAD somefile.js\n",
        "git reset HEAD"
      ],
      "metadata": {
        "id": "sxFak8dm1OgP"
      },
      "execution_count": 13,
      "outputs": []
    },
    {
      "cell_type": "markdown",
      "source": [
        "# 13. Amend The Most Recent Commit\n"
      ],
      "metadata": {
        "id": "6A074SNj1UL1"
      }
    },
    {
      "cell_type": "code",
      "source": [
        "git commit --amend -m \"Updated message for the previous commit\""
      ],
      "metadata": {
        "id": "q2Fw972p1TKu"
      },
      "execution_count": 15,
      "outputs": []
    },
    {
      "cell_type": "code",
      "source": [
        "git add dir1\n",
        "git commit\n",
        "# Here you forgot to add dir2 to commit, you can execute the following command to amend the other files and folders.\n",
        "git add dir2\n",
        "git commit --amend --no-edit"
      ],
      "metadata": {
        "id": "Uu8zc2I21XLi"
      },
      "execution_count": 14,
      "outputs": []
    },
    {
      "cell_type": "markdown",
      "source": [
        "# 14. Rollback Last Commit\n"
      ],
      "metadata": {
        "id": "bCsiF8ue1Zyv"
      }
    },
    {
      "cell_type": "code",
      "source": [
        "git revert HEAD"
      ],
      "metadata": {
        "id": "tT6lJB5C1Xnl"
      },
      "execution_count": 16,
      "outputs": []
    },
    {
      "cell_type": "markdown",
      "source": [
        "# 15. Rollback a Particular Commit\n"
      ],
      "metadata": {
        "id": "7ZsXkBxJ1cmc"
      }
    },
    {
      "cell_type": "code",
      "source": [
        "git revert 1af17e"
      ],
      "metadata": {
        "id": "9GxuoEmT1bP1"
      },
      "execution_count": 17,
      "outputs": []
    },
    {
      "cell_type": "markdown",
      "source": [
        "# 16. Create and Switch To a New Branch\n"
      ],
      "metadata": {
        "id": "D-ulY6w91eto"
      }
    },
    {
      "cell_type": "code",
      "source": [
        "git branch new_branch_name\n",
        "git checkout -b new_branch_name"
      ],
      "metadata": {
        "id": "UywBi1Wq1dw2"
      },
      "execution_count": 18,
      "outputs": []
    },
    {
      "cell_type": "markdown",
      "source": [
        "# 17. List All Branches\n"
      ],
      "metadata": {
        "id": "VOV1Q4Fd1jKL"
      }
    },
    {
      "cell_type": "code",
      "source": [
        "git branch\n",
        "git branch -a"
      ],
      "metadata": {
        "id": "gfnobQM71iEE"
      },
      "execution_count": 19,
      "outputs": []
    },
    {
      "cell_type": "markdown",
      "source": [
        "# 18. Delete a Branch\n"
      ],
      "metadata": {
        "id": "3tQk88TD1m0H"
      }
    },
    {
      "cell_type": "code",
      "source": [
        "git branch -d existing_branch_name"
      ],
      "metadata": {
        "id": "GuDNLSHj1lz3"
      },
      "execution_count": 20,
      "outputs": []
    },
    {
      "cell_type": "code",
      "source": [
        "git branch -D existing_branch_name"
      ],
      "metadata": {
        "id": "__GRqmnv1ogP"
      },
      "execution_count": 21,
      "outputs": []
    },
    {
      "cell_type": "code",
      "source": [
        "git push origin --delete existing_branch_name"
      ],
      "metadata": {
        "id": "mWaQoErk1qP9"
      },
      "execution_count": 22,
      "outputs": []
    },
    {
      "cell_type": "markdown",
      "source": [
        "# 19. Merge Two Branches\n"
      ],
      "metadata": {
        "id": "rneSDkP11x-u"
      }
    },
    {
      "cell_type": "code",
      "source": [
        "git merge existing_branch_name\n",
        "git merge --no-ff existing_branch_name"
      ],
      "metadata": {
        "id": "ai_icjGl1wyx"
      },
      "execution_count": 23,
      "outputs": []
    },
    {
      "cell_type": "markdown",
      "source": [
        "# 20. Show Commit Log as Graph For Current or All Branches\n"
      ],
      "metadata": {
        "id": "DLYStkbH13w6"
      }
    },
    {
      "cell_type": "code",
      "source": [
        "git log --graph --oneline --decorate\n",
        "git log --all --graph --oneline --decorate"
      ],
      "metadata": {
        "id": "pTWX0Arx11rR"
      },
      "execution_count": 24,
      "outputs": []
    },
    {
      "cell_type": "markdown",
      "source": [
        "# 21. Abort a Conflicting Merge\n"
      ],
      "metadata": {
        "id": "qZUXGaAg2cBm"
      }
    },
    {
      "cell_type": "code",
      "source": [
        "git merge --abort\n",
        "git reset"
      ],
      "metadata": {
        "id": "VBsR6lRm1709"
      },
      "execution_count": 25,
      "outputs": []
    },
    {
      "cell_type": "markdown",
      "source": [
        "# 22. Add a Remote Repository\n"
      ],
      "metadata": {
        "id": "dJm2FZfe2inw"
      }
    },
    {
      "cell_type": "code",
      "source": [
        "git remote add awesomeapp https://github.com/someurl.."
      ],
      "metadata": {
        "id": "BMDkh09n2eib"
      },
      "execution_count": 26,
      "outputs": []
    },
    {
      "cell_type": "markdown",
      "source": [
        "# 23. View Remote URLs\n"
      ],
      "metadata": {
        "id": "YpBvYXFA2l2e"
      }
    },
    {
      "cell_type": "code",
      "source": [
        "git remote -v"
      ],
      "metadata": {
        "id": "CxdFSXH12kyF"
      },
      "execution_count": 27,
      "outputs": []
    },
    {
      "cell_type": "markdown",
      "source": [
        "# 24. Get Additional Information About a Remote Repository\n"
      ],
      "metadata": {
        "id": "NAScRAp12rGK"
      }
    },
    {
      "cell_type": "code",
      "source": [
        "git remote show origin"
      ],
      "metadata": {
        "id": "-IMhl7DW2nQM"
      },
      "execution_count": 28,
      "outputs": []
    },
    {
      "cell_type": "markdown",
      "source": [
        "# 25. Push Changes To a Remote Repository\n"
      ],
      "metadata": {
        "id": "icLq6eK02vzz"
      }
    },
    {
      "cell_type": "code",
      "source": [
        "git push origin main"
      ],
      "metadata": {
        "id": "fUQkWBwq2usL"
      },
      "execution_count": 29,
      "outputs": []
    },
    {
      "cell_type": "markdown",
      "source": [
        "# 26. Pull Changes From a Remote Repository\n"
      ],
      "metadata": {
        "id": "1rs_2IAE3H0a"
      }
    },
    {
      "cell_type": "code",
      "source": [
        "git pull\n",
        "git pull --verbose"
      ],
      "metadata": {
        "id": "jejsaTzx3GzD"
      },
      "execution_count": 30,
      "outputs": []
    },
    {
      "cell_type": "markdown",
      "source": [
        "# 27. Merge Remote Repository With Local Repository\n"
      ],
      "metadata": {
        "id": "rN0IOARk3Lip"
      }
    },
    {
      "cell_type": "code",
      "source": [
        "git merge origin"
      ],
      "metadata": {
        "id": "dBHta56-3Key"
      },
      "execution_count": 31,
      "outputs": []
    },
    {
      "cell_type": "markdown",
      "source": [
        "# 28. Push a New Branch To Remote Repository\n"
      ],
      "metadata": {
        "id": "PMFm88Vy3N6x"
      }
    },
    {
      "cell_type": "code",
      "source": [
        "git push -u origin new_branch"
      ],
      "metadata": {
        "id": "-2MkpbWU3M-9"
      },
      "execution_count": 32,
      "outputs": []
    },
    {
      "cell_type": "markdown",
      "source": [
        "# 29. Remove a Remote Branch\n"
      ],
      "metadata": {
        "id": "YPsGTbTL3Qu0"
      }
    },
    {
      "cell_type": "code",
      "source": [
        "git push --delete origin existing_branch"
      ],
      "metadata": {
        "id": "qArKV9Zy3Pal"
      },
      "execution_count": 33,
      "outputs": []
    },
    {
      "cell_type": "markdown",
      "source": [
        "# 30. Use Rebase\n"
      ],
      "metadata": {
        "id": "6xPT2MY-3Tei"
      }
    },
    {
      "cell_type": "code",
      "source": [
        "git rebase branch_name"
      ],
      "metadata": {
        "id": "ySx-4js43SgE"
      },
      "execution_count": 34,
      "outputs": []
    }
  ]
}