{
  "nbformat": 4,
  "nbformat_minor": 0,
  "metadata": {
    "colab": {
      "name": "Ternary Conditional Operators in Python.ipynb",
      "provenance": [],
      "authorship_tag": "ABX9TyPXT+y29eg7zE3NCVar4iHv"
    },
    "kernelspec": {
      "name": "python3",
      "display_name": "Python 3"
    }
  },
  "cells": [
    {
      "cell_type": "markdown",
      "metadata": {
        "id": "22t_crrwbSFM"
      },
      "source": [
        "[Reference](https://medium.com/code-python/ternary-conditional-operators-in-python-6007031a033a)"
      ]
    },
    {
      "cell_type": "markdown",
      "metadata": {
        "id": "wqz0mYY2bVs9"
      },
      "source": [
        "# Ternary Conditional Operators"
      ]
    },
    {
      "cell_type": "code",
      "metadata": {
        "id": "M1eVjHjlbZ38"
      },
      "source": [
        "import numpy as np"
      ],
      "execution_count": 2,
      "outputs": []
    },
    {
      "cell_type": "code",
      "metadata": {
        "id": "Kjc3uboobdAG"
      },
      "source": [
        "a = 3\n",
        "b = 5"
      ],
      "execution_count": 5,
      "outputs": []
    },
    {
      "cell_type": "code",
      "metadata": {
        "id": "8C_6btaYbQsA"
      },
      "source": [
        "if np.random.rand()>0.5:\n",
        "   x = a\n",
        "else:\n",
        "   x = b"
      ],
      "execution_count": 6,
      "outputs": []
    },
    {
      "cell_type": "code",
      "metadata": {
        "id": "_LqGBGT3bXCV"
      },
      "source": [
        "x = 1 if np.random.rand()>0.5 else 0"
      ],
      "execution_count": 7,
      "outputs": []
    },
    {
      "cell_type": "markdown",
      "metadata": {
        "id": "N6kzmVKFbfxF"
      },
      "source": [
        "# List (and Dictionary) Comprehension with Ternary Conditional Operators"
      ]
    },
    {
      "cell_type": "code",
      "metadata": {
        "id": "82h0YcyPbjBd"
      },
      "source": [
        "array = [1,2,3,4,5]"
      ],
      "execution_count": 10,
      "outputs": []
    },
    {
      "cell_type": "code",
      "metadata": {
        "id": "1MqjPgfEbbvp"
      },
      "source": [
        "new_array = []\n",
        "for x in array:\n",
        "    new_array.append(custom_function(x))"
      ],
      "execution_count": 12,
      "outputs": []
    },
    {
      "cell_type": "code",
      "metadata": {
        "id": "JltfxAeFbhvi"
      },
      "source": [
        "new_array = [custom_function(x) for x in array]"
      ],
      "execution_count": 13,
      "outputs": []
    },
    {
      "cell_type": "code",
      "metadata": {
        "id": "QaA1VFeabrNG"
      },
      "source": [
        "new_array = [] # Define a new array\n",
        "for x in random_array:  # Loop over the list\n",
        "    if x > 0.5:                # Condition\n",
        "         new_array.append(1)   # Result One\n",
        "    else:                      # Otherwise...\n",
        "         new_array.append(0)   # Result Two"
      ],
      "execution_count": 14,
      "outputs": []
    },
    {
      "cell_type": "code",
      "metadata": {
        "id": "YNBrSNRabte2"
      },
      "source": [
        "new_array = [1 if x>0.5 else 0 for x in random_array]"
      ],
      "execution_count": 15,
      "outputs": []
    },
    {
      "cell_type": "code",
      "metadata": {
        "id": "SO8ccSffbvsv"
      },
      "source": [
        "Y = ['h','e','l','l','o']\n",
        "Z = ['a','e','i','o','u']\n",
        "new_dict = {x:1 if x in Y else 0 for x in Z}"
      ],
      "execution_count": 16,
      "outputs": []
    },
    {
      "cell_type": "code",
      "metadata": {
        "colab": {
          "base_uri": "https://localhost:8080/"
        },
        "id": "Evvp_R1Sbzto",
        "outputId": "3e7eec89-9624-4dcf-f4c6-427bb1efc149"
      },
      "source": [
        "new_dict"
      ],
      "execution_count": 17,
      "outputs": [
        {
          "output_type": "execute_result",
          "data": {
            "text/plain": [
              "{'a': 0, 'e': 1, 'i': 0, 'o': 1, 'u': 0}"
            ]
          },
          "metadata": {
            "tags": []
          },
          "execution_count": 17
        }
      ]
    }
  ]
}