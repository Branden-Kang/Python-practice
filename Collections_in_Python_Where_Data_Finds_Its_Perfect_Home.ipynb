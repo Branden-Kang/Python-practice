{
  "nbformat": 4,
  "nbformat_minor": 0,
  "metadata": {
    "colab": {
      "provenance": [],
      "authorship_tag": "ABX9TyPqH/j6PdUnvxup9vA9DVDQ"
    },
    "kernelspec": {
      "name": "python3",
      "display_name": "Python 3"
    },
    "language_info": {
      "name": "python"
    }
  },
  "cells": [
    {
      "cell_type": "markdown",
      "source": [
        "[Reference](https://pythonflood.com/collections-in-python-where-data-finds-its-perfect-home-edb53d07895c)"
      ],
      "metadata": {
        "id": "X7GKnzlRYuK4"
      }
    },
    {
      "cell_type": "markdown",
      "source": [
        "# Counter:"
      ],
      "metadata": {
        "id": "ELrvE2PjYzww"
      }
    },
    {
      "cell_type": "code",
      "execution_count": 1,
      "metadata": {
        "colab": {
          "base_uri": "https://localhost:8080/"
        },
        "id": "8YrhzHiOYrO-",
        "outputId": "df684463-1674-4492-e98f-489211d3449f"
      },
      "outputs": [
        {
          "output_type": "stream",
          "name": "stdout",
          "text": [
            "Counter({3: 3, 2: 2, 1: 1})\n"
          ]
        }
      ],
      "source": [
        "from collections import Counter\n",
        "\n",
        "my_list = [1, 2, 2, 3, 3, 3]\n",
        "my_counter = Counter(my_list)\n",
        "print(my_counter)"
      ]
    },
    {
      "cell_type": "markdown",
      "source": [
        "# OrderedDict:"
      ],
      "metadata": {
        "id": "9aiKJAtZY1in"
      }
    },
    {
      "cell_type": "code",
      "source": [
        "from collections import OrderedDict\n",
        "\n",
        "my_dict = OrderedDict()\n",
        "my_dict['a'] = 1\n",
        "my_dict['b'] = 2\n",
        "my_dict['c'] = 3\n",
        "\n",
        "print(my_dict)"
      ],
      "metadata": {
        "colab": {
          "base_uri": "https://localhost:8080/"
        },
        "id": "oDBpool7Y0w4",
        "outputId": "f5cdecc9-0fc9-4450-b766-936d50b5b6b0"
      },
      "execution_count": 2,
      "outputs": [
        {
          "output_type": "stream",
          "name": "stdout",
          "text": [
            "OrderedDict([('a', 1), ('b', 2), ('c', 3)])\n"
          ]
        }
      ]
    },
    {
      "cell_type": "markdown",
      "source": [
        "# defaultdict:"
      ],
      "metadata": {
        "id": "GteYPSLVY359"
      }
    },
    {
      "cell_type": "code",
      "source": [
        "from collections import defaultdict\n",
        "\n",
        "my_dict = defaultdict(int)\n",
        "my_dict['a'] = 1\n",
        "my_dict['b'] = 2\n",
        "\n",
        "print(my_dict['a'])\n",
        "print(my_dict['c'])"
      ],
      "metadata": {
        "colab": {
          "base_uri": "https://localhost:8080/"
        },
        "id": "TUa6sj0aY25s",
        "outputId": "78f0e26c-5e7d-474c-993c-5ca201c55235"
      },
      "execution_count": 3,
      "outputs": [
        {
          "output_type": "stream",
          "name": "stdout",
          "text": [
            "1\n",
            "0\n"
          ]
        }
      ]
    },
    {
      "cell_type": "markdown",
      "source": [
        "# deque:"
      ],
      "metadata": {
        "id": "yjymH00oY5vB"
      }
    },
    {
      "cell_type": "code",
      "source": [
        "from collections import deque\n",
        "\n",
        "my_deque = deque([1, 2, 3])\n",
        "my_deque.append(4)\n",
        "my_deque.appendleft(0)\n",
        "\n",
        "print(my_deque)"
      ],
      "metadata": {
        "colab": {
          "base_uri": "https://localhost:8080/"
        },
        "id": "7du12vHhY4_0",
        "outputId": "7fc2163e-fd76-42c0-d833-de294a0c8b29"
      },
      "execution_count": 4,
      "outputs": [
        {
          "output_type": "stream",
          "name": "stdout",
          "text": [
            "deque([0, 1, 2, 3, 4])\n"
          ]
        }
      ]
    },
    {
      "cell_type": "markdown",
      "source": [
        "# namedtuple:"
      ],
      "metadata": {
        "id": "J8Uet6yhY8NJ"
      }
    },
    {
      "cell_type": "code",
      "source": [
        "from collections import namedtuple\n",
        "\n",
        "Person = namedtuple('Person', ['name', 'age', 'gender'])\n",
        "person = Person('John', 30, 'Male')\n",
        "\n",
        "print(person.name)\n",
        "print(person.age)\n",
        "print(person.gender)"
      ],
      "metadata": {
        "colab": {
          "base_uri": "https://localhost:8080/"
        },
        "id": "P7RWDmEFY7SJ",
        "outputId": "b97e19e0-aede-4f77-e74a-5b763bbb8704"
      },
      "execution_count": 5,
      "outputs": [
        {
          "output_type": "stream",
          "name": "stdout",
          "text": [
            "John\n",
            "30\n",
            "Male\n"
          ]
        }
      ]
    },
    {
      "cell_type": "markdown",
      "source": [
        "# ChainMap:"
      ],
      "metadata": {
        "id": "vjCvKqgmY-YL"
      }
    },
    {
      "cell_type": "code",
      "source": [
        "from collections import ChainMap\n",
        "\n",
        "dict1 = {'a': 1, 'b': 2}\n",
        "dict2 = {'c': 3, 'd': 4}\n",
        "combined_dict = ChainMap(dict1, dict2)\n",
        "\n",
        "print(combined_dict['a'])\n",
        "print(combined_dict['d'])"
      ],
      "metadata": {
        "colab": {
          "base_uri": "https://localhost:8080/"
        },
        "id": "xVacCgGMY9TQ",
        "outputId": "deaa7dd6-fd92-4491-cd6e-61caa65a6b3d"
      },
      "execution_count": 6,
      "outputs": [
        {
          "output_type": "stream",
          "name": "stdout",
          "text": [
            "1\n",
            "4\n"
          ]
        }
      ]
    }
  ]
}