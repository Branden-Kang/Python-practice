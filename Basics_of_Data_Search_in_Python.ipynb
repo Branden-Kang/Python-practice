{
  "nbformat": 4,
  "nbformat_minor": 0,
  "metadata": {
    "colab": {
      "provenance": [],
      "authorship_tag": "ABX9TyNV4ZAp/3DuTwsV/owNUXq9"
    },
    "kernelspec": {
      "name": "python3",
      "display_name": "Python 3"
    },
    "language_info": {
      "name": "python"
    }
  },
  "cells": [
    {
      "cell_type": "markdown",
      "source": [
        "[Reference](https://medium.com/@23saini/basics-of-data-search-in-python-9962582f59bc)"
      ],
      "metadata": {
        "id": "Kqc6AR_Z9X2Q"
      }
    },
    {
      "cell_type": "markdown",
      "source": [
        "# String Searching:"
      ],
      "metadata": {
        "id": "ziklQxjj9aQN"
      }
    },
    {
      "cell_type": "code",
      "execution_count": 1,
      "metadata": {
        "colab": {
          "base_uri": "https://localhost:8080/"
        },
        "id": "1j8RyHCn9Swj",
        "outputId": "02aa9f06-3fa9-48e2-bea1-b287c41493c6"
      },
      "outputs": [
        {
          "output_type": "stream",
          "name": "stdout",
          "text": [
            "The substring 'powerful' is found at index 12.\n"
          ]
        }
      ],
      "source": [
        "text = \"Python is a powerful programming language.\"\n",
        "search_term = \"powerful\"\n",
        "# Using find() to search for the index of the substring\n",
        "index = text.find(search_term)\n",
        "if index != -1:\n",
        "    print(f\"The substring '{search_term}' is found at index {index}.\")\n",
        "else:\n",
        "    print(f\"The substring '{search_term}' is not found.\")"
      ]
    },
    {
      "cell_type": "markdown",
      "source": [
        "# List Comprehension and Filtering:"
      ],
      "metadata": {
        "id": "uM-0BYdA9cWQ"
      }
    },
    {
      "cell_type": "code",
      "source": [
        "numbers = [1, 5, 10, 15, 20, 25]\n",
        "search_value = 15\n",
        "# Using list comprehension to find elements matching the search value\n",
        "matching_numbers = [num for num in numbers if num == search_value]\n",
        "if matching_numbers:\n",
        "    print(f\"The value {search_value} is found in the list.\")\n",
        "else:\n",
        "    print(f\"The value {search_value} is not found.\")"
      ],
      "metadata": {
        "colab": {
          "base_uri": "https://localhost:8080/"
        },
        "id": "xNnlAdR69bV0",
        "outputId": "f10505ed-a662-424d-9eaa-bde54d0c52bf"
      },
      "execution_count": 2,
      "outputs": [
        {
          "output_type": "stream",
          "name": "stdout",
          "text": [
            "The value 15 is found in the list.\n"
          ]
        }
      ]
    },
    {
      "cell_type": "markdown",
      "source": [
        "# Regular Expressions:"
      ],
      "metadata": {
        "id": "VWadWkLq9ej2"
      }
    },
    {
      "cell_type": "code",
      "source": [
        "import re\n",
        "text = \"Today is 2023-07-31, and it's a sunny day.\"\n",
        "date_pattern = r\"\\d{4}-\\d{2}-\\d{2}\"\n",
        "# Using regular expression to search for dates in the text\n",
        "dates_found = re.findall(date_pattern, text)\n",
        "if dates_found:\n",
        "    print(\"Dates found in the text:\")\n",
        "    print(dates_found)\n",
        "else:\n",
        "    print(\"No dates found in the text.\")"
      ],
      "metadata": {
        "colab": {
          "base_uri": "https://localhost:8080/"
        },
        "id": "lbn_WNcs9dlS",
        "outputId": "60332d64-f5a3-4a7d-f553-dc76330b30a2"
      },
      "execution_count": 3,
      "outputs": [
        {
          "output_type": "stream",
          "name": "stdout",
          "text": [
            "Dates found in the text:\n",
            "['2023-07-31']\n"
          ]
        }
      ]
    },
    {
      "cell_type": "markdown",
      "source": [
        "# Pandas DataFrames:"
      ],
      "metadata": {
        "id": "Im57H74g9ggh"
      }
    },
    {
      "cell_type": "code",
      "source": [
        "import pandas as pd\n",
        "# Creating a simple DataFrame\n",
        "data = {\n",
        "    'Name': ['Alice', 'Bob', 'Charlie', 'David'],\n",
        "    'Age': [25, 30, 22, 28]\n",
        "}\n",
        "df = pd.DataFrame(data)\n",
        "# Searching for rows where age is greater than 25\n",
        "search_value = 25\n",
        "matching_rows = df[df['Age'] > search_value]\n",
        "print(\"Rows where age is greater than 25:\")\n",
        "print(matching_rows)"
      ],
      "metadata": {
        "colab": {
          "base_uri": "https://localhost:8080/"
        },
        "id": "pZR4pZTh9fk6",
        "outputId": "572cf3d3-8a4f-455d-ddc0-15e8e26c673e"
      },
      "execution_count": 4,
      "outputs": [
        {
          "output_type": "stream",
          "name": "stdout",
          "text": [
            "Rows where age is greater than 25:\n",
            "    Name  Age\n",
            "1    Bob   30\n",
            "3  David   28\n"
          ]
        }
      ]
    }
  ]
}