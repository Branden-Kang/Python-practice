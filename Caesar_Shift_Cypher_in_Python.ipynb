{
  "nbformat": 4,
  "nbformat_minor": 0,
  "metadata": {
    "colab": {
      "name": "Caesar Shift Cypher in Python.ipynb",
      "provenance": [],
      "authorship_tag": "ABX9TyN+OEcCXQmye8aYv9/UzkId"
    },
    "kernelspec": {
      "name": "python3",
      "display_name": "Python 3"
    }
  },
  "cells": [
    {
      "cell_type": "markdown",
      "metadata": {
        "id": "Rcmqnkie6dT9"
      },
      "source": [
        "[Reference](https://medium.com/explorations-in-python/the-caesar-shift-cypher-in-python-eadf3857b632)"
      ]
    },
    {
      "cell_type": "code",
      "metadata": {
        "id": "a2-NWK8o6SNC"
      },
      "source": [
        "def encypher(plaintext, shift):\n",
        "\n",
        "    \"\"\"\n",
        "    Encypher given text with given shift.\n",
        "    Only letters are encyphered, all other characters are ignored.\n",
        "    Encyphered text is all upper case.\n",
        "    Exception raised if shift is not between 2 and 25.\n",
        "    \"\"\"\n",
        "\n",
        "    if shift < 2 or shift > 25:\n",
        "        raise ValueError(\"shift must be between 2 and 25\")\n",
        "\n",
        "    cyphertext = []\n",
        "\n",
        "    for letter in plaintext:\n",
        "        if letter.isalpha():\n",
        "            encyphered_letter_ord = ord(letter.upper()) + shift\n",
        "            if encyphered_letter_ord > 90:\n",
        "                encyphered_letter_ord -= 26\n",
        "            cyphertext.append(chr(encyphered_letter_ord))\n",
        "\n",
        "    return \"\".join(cyphertext)\n",
        "\n",
        "\n",
        "def decypher(cyphertext, shift):\n",
        "\n",
        "    \"\"\"\n",
        "    Decyphers given text with given shift.\n",
        "    Decyphered text is converted to lower case.\n",
        "    Exception raised if shift is not between 2 and 25.\n",
        "    \"\"\"\n",
        "\n",
        "    if shift < 2 or shift > 25:\n",
        "        raise ValueError(\"shift must be between 2 and 25\")\n",
        "\n",
        "    plaintext = []\n",
        "\n",
        "    for letter in cyphertext:\n",
        "        decyphered_letter_ord = ord(letter) - shift\n",
        "        if decyphered_letter_ord < 65:\n",
        "                decyphered_letter_ord += 26\n",
        "        plaintext.append(chr(decyphered_letter_ord).lower())\n",
        "\n",
        "    return \"\".join(plaintext)"
      ],
      "execution_count": 1,
      "outputs": []
    },
    {
      "cell_type": "code",
      "metadata": {
        "colab": {
          "base_uri": "https://localhost:8080/"
        },
        "id": "EYALHNLZ6TeF",
        "outputId": "954c188a-9841-4be3-d190-be5e4d502b12"
      },
      "source": [
        "def main():\n",
        "\n",
        "    \"\"\"\n",
        "    Creates and prints a piece of text,\n",
        "    encyphers it and prints cypher text,\n",
        "    then decyphers that and prints result.\n",
        "    \"\"\"\n",
        "\n",
        "    print(\"-----------------------\")\n",
        "    print(\"| codedrome.com       |\")\n",
        "    print(\"| Caesar Shift Cypher |\")\n",
        "    print(\"-----------------------\\n\")\n",
        "\n",
        "    plaintext = \"The first ray of light which illumines the gloom, and converts into a dazzling brilliancy that obscurity in which the earlier history of the public career of the immortal Pickwick would appear to be involved, is derived from the perusal of the following entry in the Transactions of the Pickwick Club, which the editor of these papers feels the highest pleasure in laying before his readers, as a proof of the careful attention, indefatigable assiduity, and nice discrimination, with which his search among the multifarious documents confided to him has been conducted.\"\n",
        "\n",
        "    print(plaintext)\n",
        "\n",
        "    print(\"\")\n",
        "\n",
        "    try:\n",
        "\n",
        "        cyphertext = encypher(plaintext, 3)\n",
        "\n",
        "        print(cyphertext)\n",
        "\n",
        "        print(\"\")\n",
        "\n",
        "        decypheredtext = decypher(cyphertext, 3)\n",
        "\n",
        "        print(decypheredtext)\n",
        "\n",
        "    except ValueError as e:\n",
        "\n",
        "        print(e)\n",
        "\n",
        "\n",
        "main()"
      ],
      "execution_count": 2,
      "outputs": [
        {
          "output_type": "stream",
          "text": [
            "-----------------------\n",
            "| codedrome.com       |\n",
            "| Caesar Shift Cypher |\n",
            "-----------------------\n",
            "\n",
            "The first ray of light which illumines the gloom, and converts into a dazzling brilliancy that obscurity in which the earlier history of the public career of the immortal Pickwick would appear to be involved, is derived from the perusal of the following entry in the Transactions of the Pickwick Club, which the editor of these papers feels the highest pleasure in laying before his readers, as a proof of the careful attention, indefatigable assiduity, and nice discrimination, with which his search among the multifarious documents confided to him has been conducted.\n",
            "\n",
            "WKHILUVWUDBRIOLJKWZKLFKLOOXPLQHVWKHJORRPDQGFRQYHUWVLQWRDGDCCOLQJEULOOLDQFBWKDWREVFXULWBLQZKLFKWKHHDUOLHUKLVWRUBRIWKHSXEOLFFDUHHURIWKHLPPRUWDOSLFNZLFNZRXOGDSSHDUWREHLQYROYHGLVGHULYHGIURPWKHSHUXVDORIWKHIROORZLQJHQWUBLQWKHWUDQVDFWLRQVRIWKHSLFNZLFNFOXEZKLFKWKHHGLWRURIWKHVHSDSHUVIHHOVWKHKLJKHVWSOHDVXUHLQODBLQJEHIRUHKLVUHDGHUVDVDSURRIRIWKHFDUHIXODWWHQWLRQLQGHIDWLJDEOHDVVLGXLWBDQGQLFHGLVFULPLQDWLRQZLWKZKLFKKLVVHDUFKDPRQJWKHPXOWLIDULRXVGRFXPHQWVFRQILGHGWRKLPKDVEHHQFRQGXFWHG\n",
            "\n",
            "thefirstrayoflightwhichilluminesthegloomandconvertsintoadazzlingbrilliancythatobscurityinwhichtheearlierhistoryofthepubliccareeroftheimmortalpickwickwouldappeartobeinvolvedisderivedfromtheperusalofthefollowingentryinthetransactionsofthepickwickclubwhichtheeditorofthesepapersfeelsthehighestpleasureinlayingbeforehisreadersasaproofofthecarefulattentionindefatigableassiduityandnicediscriminationwithwhichhissearchamongthemultifariousdocumentsconfidedtohimhasbeenconducted\n"
          ],
          "name": "stdout"
        }
      ]
    }
  ]
}