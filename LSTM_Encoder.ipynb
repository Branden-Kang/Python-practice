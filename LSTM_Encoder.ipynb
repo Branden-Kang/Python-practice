{
  "nbformat": 4,
  "nbformat_minor": 0,
  "metadata": {
    "colab": {
      "name": "LSTM Encoder.ipynb",
      "provenance": [],
      "collapsed_sections": [],
      "authorship_tag": "ABX9TyOnWybA5HorrbijdFjOEBnU"
    },
    "kernelspec": {
      "name": "python3",
      "display_name": "Python 3"
    }
  },
  "cells": [
    {
      "cell_type": "markdown",
      "metadata": {
        "id": "5zN1gKjQNcWJ",
        "colab_type": "text"
      },
      "source": [
        "# LSTM Autoencoder\n",
        "- [Reference](https://machinelearningmastery.com/lstm-autoencoders/)"
      ]
    },
    {
      "cell_type": "code",
      "metadata": {
        "id": "EAgSM95ahT11",
        "colab_type": "code",
        "colab": {}
      },
      "source": [
        "# lstm autoencoder recreate sequence\n",
        "from numpy import array\n",
        "from keras.models import Sequential\n",
        "from keras.models import Model\n",
        "from keras.layers import LSTM\n",
        "from keras.layers import Dense\n",
        "from keras.layers import RepeatVector\n",
        "from keras.layers import TimeDistributed\n",
        "from keras.utils import plot_model"
      ],
      "execution_count": 0,
      "outputs": []
    },
    {
      "cell_type": "code",
      "metadata": {
        "id": "gvmTnmzxNb08",
        "colab_type": "code",
        "colab": {}
      },
      "source": [
        "# define input sequence\n",
        "sequence = array([0.1, 0.2, 0.3, 0.4, 0.5, 0.6, 0.7, 0.8, 0.9])\n",
        "# reshape input into [samples, timesteps, features]\n",
        "n_in = len(sequence)\n",
        "sequence = sequence.reshape((1, n_in, 1))"
      ],
      "execution_count": 0,
      "outputs": []
    },
    {
      "cell_type": "code",
      "metadata": {
        "id": "7MADa10pNfJG",
        "colab_type": "code",
        "colab": {}
      },
      "source": [
        "# define model\n",
        "model = Sequential()\n",
        "model.add(LSTM(100, activation='relu', input_shape=(n_in,1)))\n",
        "model.add(RepeatVector(n_in))\n",
        "model.add(LSTM(100, activation='relu', return_sequences=True))\n",
        "model.add(TimeDistributed(Dense(1)))\n",
        "model.compile(optimizer='adam', loss='mse')"
      ],
      "execution_count": 0,
      "outputs": []
    },
    {
      "cell_type": "code",
      "metadata": {
        "id": "rW9lLi93hg0f",
        "colab_type": "code",
        "colab": {
          "base_uri": "https://localhost:8080/",
          "height": 34
        },
        "outputId": "0d024992-7211-43c7-b996-1afb39ee8bbc"
      },
      "source": [
        "# fit model\n",
        "model.fit(sequence, sequence, epochs=300, verbose=0)"
      ],
      "execution_count": 6,
      "outputs": [
        {
          "output_type": "execute_result",
          "data": {
            "text/plain": [
              "<keras.callbacks.callbacks.History at 0x7f24b4b23e80>"
            ]
          },
          "metadata": {
            "tags": []
          },
          "execution_count": 6
        }
      ]
    },
    {
      "cell_type": "code",
      "metadata": {
        "id": "zCDt4QyFiIkn",
        "colab_type": "code",
        "colab": {}
      },
      "source": [
        "model = Model(inputs=model.inputs, outputs=model.layers[0].output)"
      ],
      "execution_count": 0,
      "outputs": []
    },
    {
      "cell_type": "code",
      "metadata": {
        "id": "jEbqbnjOiLpf",
        "colab_type": "code",
        "colab": {
          "base_uri": "https://localhost:8080/",
          "height": 201
        },
        "outputId": "c8a2b0f4-a483-4e6a-bcb6-485f76b44921"
      },
      "source": [
        "plot_model(model, show_shapes=True)"
      ],
      "execution_count": 11,
      "outputs": [
        {
          "output_type": "execute_result",
          "data": {
            "image/png": "[encoded data removed]",
            "text/plain": [
              "<IPython.core.display.Image object>"
            ]
          },
          "metadata": {
            "tags": []
          },
          "execution_count": 11
        }
      ]
    },
    {
      "cell_type": "code",
      "metadata": {
        "id": "ve604pURhjuF",
        "colab_type": "code",
        "colab": {
          "base_uri": "https://localhost:8080/",
          "height": 306
        },
        "outputId": "214c5d24-bf7e-4757-f765-451f0ee3d8e9"
      },
      "source": [
        "# demonstrate recreation\n",
        "yhat = model.predict(sequence, verbose=0)\n",
        "print(yhat)"
      ],
      "execution_count": 14,
      "outputs": [
        {
          "output_type": "stream",
          "text": [
            "[[0.         0.         0.04370879 0.         0.         0.\n",
            "  0.         0.08350571 0.06764935 0.         0.00728242 0.08297601\n",
            "  0.11109914 0.06915951 0.         0.         0.06161117 0.\n",
            "  0.         0.04932409 0.10811158 0.         0.07120071 0.\n",
            "  0.         0.06652765 0.         0.10511594 0.         0.\n",
            "  0.         0.07965742 0.         0.05908636 0.08887514 0.\n",
            "  0.         0.         0.02480098 0.09049849 0.         0.00736929\n",
            "  0.10418732 0.         0.08937625 0.         0.         0.\n",
            "  0.         0.         0.         0.09386861 0.         0.06279578\n",
            "  0.01140097 0.         0.         0.         0.0750011  0.\n",
            "  0.14306958 0.0904395  0.00723937 0.         0.         0.\n",
            "  0.         0.         0.         0.00057094 0.         0.\n",
            "  0.02199819 0.         0.04135632 0.         0.         0.\n",
            "  0.06761232 0.         0.         0.04484864 0.10257515 0.01213881\n",
            "  0.         0.05316177 0.         0.         0.06604929 0.\n",
            "  0.         0.12960924 0.         0.02552506 0.         0.\n",
            "  0.         0.0320839  0.         0.        ]]\n"
          ],
          "name": "stdout"
        }
      ]
    }
  ]
}