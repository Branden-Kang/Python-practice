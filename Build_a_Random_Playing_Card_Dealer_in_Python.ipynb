{
  "nbformat": 4,
  "nbformat_minor": 0,
  "metadata": {
    "colab": {
      "name": "Build a Random Playing Card Dealer in Python.ipynb",
      "provenance": [],
      "authorship_tag": "ABX9TyOmMvfS1qpm6gqYPzKxBDzf"
    },
    "kernelspec": {
      "name": "python3",
      "display_name": "Python 3"
    },
    "language_info": {
      "name": "python"
    }
  },
  "cells": [
    {
      "cell_type": "markdown",
      "metadata": {
        "id": "Gz-R-rsVrTZW"
      },
      "source": [
        "[Reference](https://python.plainenglish.io/draw-a-random-playing-card-in-python-848393d6d868)"
      ]
    },
    {
      "cell_type": "code",
      "metadata": {
        "colab": {
          "base_uri": "https://localhost:8080/"
        },
        "id": "mh59g4RwrShl",
        "outputId": "196dd72a-d60f-47e2-db5c-a131baf131eb"
      },
      "source": [
        "SUITS = [\"Diamonds\", \"Spades\", \"Hearts\", \"Clubs\"]\n",
        "RANKS = [\"2\", \"3\", \"4\", \"5\", \"6\", \"7\", \"8\", \"9\", \"10\", \"Jack\", \"Queen\", \"King\", \"Ace\"]\n",
        "\n",
        "\n",
        "def create_deck():\n",
        "    deck = set()\n",
        "    for suite in SUITS:\n",
        "        suite_cards = {f'The {rank} of {suite}' for rank in RANKS}\n",
        "        deck.update(suite_cards)\n",
        "    return deck\n",
        "\n",
        "\n",
        "def main():\n",
        "    deck = create_deck()\n",
        "    players = int(input(\"How many players?\"))\n",
        "    for index in range(1, players + 1):\n",
        "        print(f\"\\nplayer {index}:\")\n",
        "        for _ in range(5):\n",
        "            print(deck.pop())\n",
        "\n",
        "\n",
        "if __name__ == \"__main__\":\n",
        "    main()"
      ],
      "execution_count": 1,
      "outputs": [
        {
          "output_type": "stream",
          "text": [
            "How many players?3\n",
            "\n",
            "player 1:\n",
            "The Ace of Clubs\n",
            "The 4 of Clubs\n",
            "The Jack of Spades\n",
            "The 5 of Hearts\n",
            "The 10 of Hearts\n",
            "\n",
            "player 2:\n",
            "The Jack of Diamonds\n",
            "The 2 of Spades\n",
            "The 9 of Spades\n",
            "The King of Clubs\n",
            "The King of Hearts\n",
            "\n",
            "player 3:\n",
            "The Queen of Spades\n",
            "The 10 of Clubs\n",
            "The 6 of Spades\n",
            "The 6 of Clubs\n",
            "The 9 of Diamonds\n"
          ],
          "name": "stdout"
        }
      ]
    }
  ]
}