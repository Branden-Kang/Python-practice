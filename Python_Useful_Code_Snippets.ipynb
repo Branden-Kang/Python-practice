{
  "nbformat": 4,
  "nbformat_minor": 0,
  "metadata": {
    "colab": {
      "provenance": [],
      "authorship_tag": "ABX9TyNVVMmCNG9cE82d6w/R1WSv"
    },
    "kernelspec": {
      "name": "python3",
      "display_name": "Python 3"
    },
    "language_info": {
      "name": "python"
    }
  },
  "cells": [
    {
      "cell_type": "markdown",
      "source": [
        "[Reference](https://medium.com/@johnidouglasmarangon/python-useful-code-snippets-864990b8e900)"
      ],
      "metadata": {
        "id": "yt5znRIiPWtV"
      }
    },
    {
      "cell_type": "markdown",
      "source": [
        "# Class-Level Properties and Initialization Methods"
      ],
      "metadata": {
        "id": "U4_yZJ43Pbax"
      }
    },
    {
      "cell_type": "code",
      "execution_count": 1,
      "metadata": {
        "id": "QIAmgE4PPQad"
      },
      "outputs": [],
      "source": [
        "from typing import Optional\n",
        "\n",
        "\n",
        "class MyAppProperties:\n",
        "    timeout: int\n",
        "    db_uri: str\n",
        "    prefix: Optional[str] = None\n",
        "\n",
        "    @classmethod\n",
        "    def init(\n",
        "        cls,\n",
        "        timeout: int,\n",
        "        db_uri: str,\n",
        "        prefix: str = \"my-app\",\n",
        "    ) -> None:\n",
        "        cls.timeout = timeout\n",
        "        cls.db_uri = db_uri\n",
        "        cls.prefix = prefix"
      ]
    },
    {
      "cell_type": "code",
      "source": [
        "MyAppProperties.init(\n",
        "    timeout=10,\n",
        "    db_uri=\"sqlite:///database.db\",\n",
        ")\n",
        "\n",
        "\n",
        "print(MyAppProperties.timeout)\n",
        "print(MyAppProperties.db_uri)"
      ],
      "metadata": {
        "colab": {
          "base_uri": "https://localhost:8080/"
        },
        "id": "X97HRSwPPdKd",
        "outputId": "0bb697c9-eaf5-4741-abf2-266c16dc0716"
      },
      "execution_count": 2,
      "outputs": [
        {
          "output_type": "stream",
          "name": "stdout",
          "text": [
            "10\n",
            "sqlite:///database.db\n"
          ]
        }
      ]
    },
    {
      "cell_type": "markdown",
      "source": [
        "# Timeout Middleware in FastAPI to Handle Long-Running Requests"
      ],
      "metadata": {
        "id": "enUDcdAtPfr0"
      }
    },
    {
      "cell_type": "code",
      "source": [
        "!pip install fastapi"
      ],
      "metadata": {
        "colab": {
          "base_uri": "https://localhost:8080/"
        },
        "id": "88bxu5s4Piwu",
        "outputId": "421b71c4-6bfe-4946-e49b-46a9321522df"
      },
      "execution_count": 4,
      "outputs": [
        {
          "output_type": "stream",
          "name": "stdout",
          "text": [
            "Collecting fastapi\n",
            "  Downloading fastapi-0.115.5-py3-none-any.whl.metadata (27 kB)\n",
            "Collecting starlette<0.42.0,>=0.40.0 (from fastapi)\n",
            "  Downloading starlette-0.41.3-py3-none-any.whl.metadata (6.0 kB)\n",
            "Requirement already satisfied: pydantic!=1.8,!=1.8.1,!=2.0.0,!=2.0.1,!=2.1.0,<3.0.0,>=1.7.4 in /usr/local/lib/python3.10/dist-packages (from fastapi) (2.9.2)\n",
            "Requirement already satisfied: typing-extensions>=4.8.0 in /usr/local/lib/python3.10/dist-packages (from fastapi) (4.12.2)\n",
            "Requirement already satisfied: annotated-types>=0.6.0 in /usr/local/lib/python3.10/dist-packages (from pydantic!=1.8,!=1.8.1,!=2.0.0,!=2.0.1,!=2.1.0,<3.0.0,>=1.7.4->fastapi) (0.7.0)\n",
            "Requirement already satisfied: pydantic-core==2.23.4 in /usr/local/lib/python3.10/dist-packages (from pydantic!=1.8,!=1.8.1,!=2.0.0,!=2.0.1,!=2.1.0,<3.0.0,>=1.7.4->fastapi) (2.23.4)\n",
            "Requirement already satisfied: anyio<5,>=3.4.0 in /usr/local/lib/python3.10/dist-packages (from starlette<0.42.0,>=0.40.0->fastapi) (3.7.1)\n",
            "Requirement already satisfied: idna>=2.8 in /usr/local/lib/python3.10/dist-packages (from anyio<5,>=3.4.0->starlette<0.42.0,>=0.40.0->fastapi) (3.10)\n",
            "Requirement already satisfied: sniffio>=1.1 in /usr/local/lib/python3.10/dist-packages (from anyio<5,>=3.4.0->starlette<0.42.0,>=0.40.0->fastapi) (1.3.1)\n",
            "Requirement already satisfied: exceptiongroup in /usr/local/lib/python3.10/dist-packages (from anyio<5,>=3.4.0->starlette<0.42.0,>=0.40.0->fastapi) (1.2.2)\n",
            "Downloading fastapi-0.115.5-py3-none-any.whl (94 kB)\n",
            "\u001b[2K   \u001b[90m━━━━━━━━━━━━━━━━━━━━━━━━━━━━━━━━━━━━━━━━\u001b[0m \u001b[32m94.9/94.9 kB\u001b[0m \u001b[31m4.5 MB/s\u001b[0m eta \u001b[36m0:00:00\u001b[0m\n",
            "\u001b[?25hDownloading starlette-0.41.3-py3-none-any.whl (73 kB)\n",
            "\u001b[2K   \u001b[90m━━━━━━━━━━━━━━━━━━━━━━━━━━━━━━━━━━━━━━━━\u001b[0m \u001b[32m73.2/73.2 kB\u001b[0m \u001b[31m4.9 MB/s\u001b[0m eta \u001b[36m0:00:00\u001b[0m\n",
            "\u001b[?25hInstalling collected packages: starlette, fastapi\n",
            "Successfully installed fastapi-0.115.5 starlette-0.41.3\n"
          ]
        }
      ]
    },
    {
      "cell_type": "code",
      "source": [
        "!pip install uvicorn"
      ],
      "metadata": {
        "colab": {
          "base_uri": "https://localhost:8080/"
        },
        "id": "qhJJ_EETPpAp",
        "outputId": "f6f48615-c55d-4060-cee1-539e794c451d"
      },
      "execution_count": 6,
      "outputs": [
        {
          "output_type": "stream",
          "name": "stdout",
          "text": [
            "Collecting uvicorn\n",
            "  Downloading uvicorn-0.32.1-py3-none-any.whl.metadata (6.6 kB)\n",
            "Requirement already satisfied: click>=7.0 in /usr/local/lib/python3.10/dist-packages (from uvicorn) (8.1.7)\n",
            "Requirement already satisfied: h11>=0.8 in /usr/local/lib/python3.10/dist-packages (from uvicorn) (0.14.0)\n",
            "Requirement already satisfied: typing-extensions>=4.0 in /usr/local/lib/python3.10/dist-packages (from uvicorn) (4.12.2)\n",
            "Downloading uvicorn-0.32.1-py3-none-any.whl (63 kB)\n",
            "\u001b[2K   \u001b[90m━━━━━━━━━━━━━━━━━━━━━━━━━━━━━━━━━━━━━━━━\u001b[0m \u001b[32m63.8/63.8 kB\u001b[0m \u001b[31m1.8 MB/s\u001b[0m eta \u001b[36m0:00:00\u001b[0m\n",
            "\u001b[?25hInstalling collected packages: uvicorn\n",
            "Successfully installed uvicorn-0.32.1\n"
          ]
        }
      ]
    },
    {
      "cell_type": "code",
      "source": [
        "from fastapi import FastAPI, Request, Response, status\n",
        "from fastapi.responses import PlainTextResponse\n",
        "import asyncio\n",
        "from typing import Callable\n",
        "\n",
        "\n",
        "app = FastAPI()\n",
        "\n",
        "\n",
        "@app.middleware(\"http\")\n",
        "async def timeout_middleware(\n",
        "    request: Request,\n",
        "    call_next: Callable,\n",
        ") -> Response:\n",
        "    try:\n",
        "        timeout = float(request.headers.get(\"X-Timeout-Request\", 10.0)) # 10.0 is a default value\n",
        "\n",
        "        return await asyncio.wait_for(\n",
        "            call_next(request),\n",
        "            timeout=timeout,\n",
        "        )\n",
        "    except asyncio.TimeoutError:\n",
        "        return PlainTextResponse(\n",
        "            status_code=status.HTTP_408_REQUEST_TIMEOUT,\n",
        "            content=\"Request timed out\",\n",
        "        )\n",
        "\n",
        "\n",
        "@app.get(\"/\")\n",
        "async def root(delay: int = 5):\n",
        "    await asyncio.sleep(delay)\n",
        "    return {\"message\": f\"Waited for {delay} seconds\"}\n",
        "\n",
        "\n",
        "if __name__ == \"__main__\":\n",
        "    import uvicorn\n",
        "\n",
        "    uvicorn.run(app, host=\"0.0.0.0\", port=8000)"
      ],
      "metadata": {
        "id": "1Vby9nvHPefC"
      },
      "execution_count": 8,
      "outputs": []
    },
    {
      "cell_type": "markdown",
      "source": [
        "```\n",
        "curl -v -XGET 'http://0.0.0.0:8000?delay=7' \\\n",
        "    -H 'X-Timeout-Request: 5.0' \\\n",
        "    -H 'Content-type: application/json'\n",
        "```"
      ],
      "metadata": {
        "id": "sDh9ei0fPkjf"
      }
    },
    {
      "cell_type": "markdown",
      "source": [
        "# Custom Timeout Decorator\n"
      ],
      "metadata": {
        "id": "uANjJHE6Pv_y"
      }
    },
    {
      "cell_type": "code",
      "source": [
        "import signal\n",
        "import functools\n",
        "\n",
        "class TimeoutError(Exception):\n",
        "    pass\n",
        "\n",
        "def timeout(seconds):\n",
        "    def decorator(func):\n",
        "        def _handle_timeout(signum, frame):\n",
        "            raise TimeoutError(f\"Timeout on '{func.__name__}'\")\n",
        "\n",
        "        @functools.wraps(func)\n",
        "        def wrapper(*args, **kwargs):\n",
        "            # Set the signal handler and a timeout alarm\n",
        "            signal.signal(signal.SIGALRM, _handle_timeout)\n",
        "            signal.alarm(seconds)\n",
        "            try:\n",
        "                result = func(*args, **kwargs)\n",
        "            finally:\n",
        "                # Disable the alarm after the function completes\n",
        "                signal.alarm(0)\n",
        "            return result\n",
        "\n",
        "        return wrapper\n",
        "\n",
        "    return decorator"
      ],
      "metadata": {
        "id": "tKzSTAmWPhex"
      },
      "execution_count": 9,
      "outputs": []
    },
    {
      "cell_type": "code",
      "source": [
        "@timeout(5)\n",
        "def long_running_task():\n",
        "    # Simulate a long task\n",
        "    time.sleep(10) # Will raise a timeout exception\n",
        "    return \"Task completed\""
      ],
      "metadata": {
        "id": "WN4NyZOpPyQU"
      },
      "execution_count": 10,
      "outputs": []
    },
    {
      "cell_type": "markdown",
      "source": [
        "# Leveraging SQLite with Threads in Python"
      ],
      "metadata": {
        "id": "tIJsf0_jP4aJ"
      }
    },
    {
      "cell_type": "code",
      "source": [
        "import sqlite3\n",
        "import threading\n",
        "\n",
        "\n",
        "def connection():\n",
        "    conn = sqlite3.connect(\"file::memory:?cache=shared\", isolation_level=None)\n",
        "    return conn\n",
        "\n",
        "\n",
        "def insert(name):\n",
        "    with connection() as conn:\n",
        "        conn.execute(\"INSERT INTO users (name) VALUES (?);\", (name,))\n",
        "\n",
        "\n",
        "def main():\n",
        "    with connection() as conn:\n",
        "        conn.execute(\"CREATE TABLE users (name TEXT NOT NULL)\")\n",
        "\n",
        "    threads = []\n",
        "    for i in range(1000):\n",
        "        t = threading.Thread(target=insert, args=(f\"{str(i + 1)}\",))\n",
        "        threads.append(t)\n",
        "        t.start()\n",
        "\n",
        "    # Wait for all threads to complete\n",
        "    for t in threads:\n",
        "        t.join()\n",
        "\n",
        "    with connection() as conn:\n",
        "        row = conn.execute(\"SELECT count(*) FROM users;\").fetchone()\n",
        "        print(row)\n",
        "\n",
        "\n",
        "if __name__ == \"__main__\":\n",
        "    main()"
      ],
      "metadata": {
        "colab": {
          "base_uri": "https://localhost:8080/"
        },
        "id": "yqmt20nsP0Hb",
        "outputId": "0e4cec65-c8f8-4b31-a6bd-7c6e7b7ad7d8"
      },
      "execution_count": 11,
      "outputs": [
        {
          "output_type": "stream",
          "name": "stdout",
          "text": [
            "(1000,)\n"
          ]
        }
      ]
    }
  ]
}