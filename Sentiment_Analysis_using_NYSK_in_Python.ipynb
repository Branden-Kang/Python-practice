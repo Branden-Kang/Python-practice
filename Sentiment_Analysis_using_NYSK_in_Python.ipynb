{
  "nbformat": 4,
  "nbformat_minor": 0,
  "metadata": {
    "colab": {
      "name": "Sentiment Analysis using NYSK in Python.ipynb",
      "provenance": [],
      "authorship_tag": "ABX9TyMTP1wp/onebQxN2w7uWbSK"
    },
    "kernelspec": {
      "name": "python3",
      "display_name": "Python 3"
    }
  },
  "cells": [
    {
      "cell_type": "markdown",
      "metadata": {
        "id": "Ng2du6Ti6xV7"
      },
      "source": [
        "[Reference](https://medium.com/analytics-vidhya/simple-sentiment-analysis-in-python-nysk-dataset-de17cd0efbe1)"
      ]
    },
    {
      "cell_type": "code",
      "metadata": {
        "id": "JotkNyUN6wdx",
        "outputId": "0763b978-ca6e-431e-cea0-455d1474cde7",
        "colab": {
          "base_uri": "https://localhost:8080/",
          "height": 34
        }
      },
      "source": [
        "import os\n",
        "from google.colab import drive\n",
        "drive.mount('/content/gdrive')\n",
        "os.chdir('gdrive/My Drive/Medium')"
      ],
      "execution_count": 1,
      "outputs": [
        {
          "output_type": "stream",
          "text": [
            "Mounted at /content/gdrive\n"
          ],
          "name": "stdout"
        }
      ]
    },
    {
      "cell_type": "code",
      "metadata": {
        "id": "nxSJ0eGf7uNi"
      },
      "source": [
        "# Importing Libraries\n",
        "import numpy as np\n",
        "import pandas as pd\n",
        "import matplotlib.pyplot as plt, seaborn as sb\n",
        "\n",
        "import xml.etree.ElementTree as et\n",
        "\n",
        "# Parsing the XML into a Pandas dataframe\n",
        "file = et.parse('nysk.xml')\n",
        "root = file.getroot()\n",
        "columns = [\"DocID\", \"Source\", \"URL\", \"Title\", \"Summary\", \"Date\"] # Setting the columns of the Dataframe\n",
        "\n",
        "summary_list = []\n",
        "dataset = pd.DataFrame(columns = columns)\n",
        "\n",
        "for each_node in root:\n",
        "    doc = each_node.find(\"docid\").text\n",
        "    source = each_node.find(\"source\").text\n",
        "    url = each_node.find(\"url\").text\n",
        "    title = each_node.find(\"title\").text\n",
        "    summary = each_node.find(\"summary\").text\n",
        "    date = each_node.find(\"date\").text\n",
        "    \n",
        "    dataset = dataset.append(pd.Series([doc, source, url, title, summary, date],\n",
        "                                             index = columns), ignore_index = True)"
      ],
      "execution_count": 2,
      "outputs": []
    },
    {
      "cell_type": "code",
      "metadata": {
        "id": "dCdoq8iM77kh",
        "outputId": "5b1238ce-4d9e-4ad2-9f2e-adc8d73f6cda",
        "colab": {
          "base_uri": "https://localhost:8080/",
          "height": 88
        }
      },
      "source": [
        "# Sentiment Analysis with Vader\n",
        "from nltk.sentiment.vader import SentimentIntensityAnalyzer\n",
        "import nltk\n",
        "nltk.download('vader_lexicon')\n",
        "\n",
        "analyzer = SentimentIntensityAnalyzer()\n",
        "\n",
        "sentiment_dict = dict()\n",
        "\n",
        "for sentence in dataset[\"Summary\"]:\n",
        "    sent = analyzer.polarity_scores(sentence)\n",
        "\n",
        "    # Creating a dictionary of sentiment scores and their values\n",
        "    # Setting up keys\n",
        "    sentiment_dict.setdefault('Negative_Score', [])\n",
        "    sentiment_dict.setdefault('Neutral_Score', [])\n",
        "    sentiment_dict.setdefault('Positive_Score', [])\n",
        "    sentiment_dict.setdefault('Compound_Score', [])\n",
        "\n",
        "    # Appending values to the respective keys\n",
        "    sentiment_dict['Negative_Score'].append(sent.get('neg'))\n",
        "    sentiment_dict['Neutral_Score'].append(sent.get('neu'))\n",
        "    sentiment_dict['Positive_Score'].append(sent.get('pos'))\n",
        "    sentiment_dict['Compound_Score'].append(sent.get('compound'))\n",
        "\n",
        "sentiment_df = pd.DataFrame.from_dict(sentiment_dict, orient = \"columns\")\n",
        "sentiment_df.insert(loc = 0, column = \"Article\", value = dataset[\"Summary\"])\n",
        "\n",
        "# Bonus Dataset creation\n",
        "class_list = list()\n",
        "\n",
        "for m in range(len(sentiment_df)):\n",
        "    if sentiment_df['Neutral_Score'][m] > 0.5:\n",
        "        class_list.append(\"Neutral\")\n",
        "    elif sentiment_df['Negative_Score'][m] > 0.5:\n",
        "        class_list.append('Negative')\n",
        "    else:\n",
        "        class_list.append('Positive')\n",
        "\n",
        "# Adding the Class Label as the last column to the sentiment dataframe\n",
        "sentiment_df.insert(loc = 5, column = \"Sentiment\", value = class_list)\n",
        "\n",
        "# Storing the sentiment dataframe as a CSV for easy perusal later on\n",
        "sentiment_df.to_csv('sentiment_analysis.csv', index = False, header = True)"
      ],
      "execution_count": 3,
      "outputs": [
        {
          "output_type": "stream",
          "text": [
            "/usr/local/lib/python3.6/dist-packages/nltk/twitter/__init__.py:20: UserWarning: The twython library has not been installed. Some functionality from the twitter package will not be available.\n",
            "  warnings.warn(\"The twython library has not been installed. \"\n"
          ],
          "name": "stderr"
        },
        {
          "output_type": "stream",
          "text": [
            "[nltk_data] Downloading package vader_lexicon to /root/nltk_data...\n"
          ],
          "name": "stdout"
        }
      ]
    },
    {
      "cell_type": "code",
      "metadata": {
        "id": "Xn4CDwTk8zDV",
        "outputId": "d8951588-098a-4f75-b8e4-f4a76ded1444",
        "colab": {
          "base_uri": "https://localhost:8080/",
          "height": 683
        }
      },
      "source": [
        "sentiment_df.head()"
      ],
      "execution_count": 5,
      "outputs": [
        {
          "output_type": "execute_result",
          "data": {
            "text/html": [
              "<div>\n",
              "<style scoped>\n",
              "    .dataframe tbody tr th:only-of-type {\n",
              "        vertical-align: middle;\n",
              "    }\n",
              "\n",
              "    .dataframe tbody tr th {\n",
              "        vertical-align: top;\n",
              "    }\n",
              "\n",
              "    .dataframe thead th {\n",
              "        text-align: right;\n",
              "    }\n",
              "</style>\n",
              "<table border=\"1\" class=\"dataframe\">\n",
              "  <thead>\n",
              "    <tr style=\"text-align: right;\">\n",
              "      <th></th>\n",
              "      <th>Article</th>\n",
              "      <th>Negative_Score</th>\n",
              "      <th>Neutral_Score</th>\n",
              "      <th>Positive_Score</th>\n",
              "      <th>Compound_Score</th>\n",
              "      <th>Sentiment</th>\n",
              "    </tr>\n",
              "  </thead>\n",
              "  <tbody>\n",
              "    <tr>\n",
              "      <th>0</th>\n",
              "      <td>The New York Post has learned that the woman a...</td>\n",
              "      <td>0.175</td>\n",
              "      <td>0.825</td>\n",
              "      <td>0.000</td>\n",
              "      <td>-0.6705</td>\n",
              "      <td>Neutral</td>\n",
              "    </tr>\n",
              "    <tr>\n",
              "      <th>1</th>\n",
              "      <td>Strauss-Kahn’s NY apartment plan falls apart A...</td>\n",
              "      <td>0.103</td>\n",
              "      <td>0.897</td>\n",
              "      <td>0.000</td>\n",
              "      <td>-0.8225</td>\n",
              "      <td>Neutral</td>\n",
              "    </tr>\n",
              "    <tr>\n",
              "      <th>2</th>\n",
              "      <td>According to a worrying CSA poll, it seems tha...</td>\n",
              "      <td>0.212</td>\n",
              "      <td>0.762</td>\n",
              "      <td>0.027</td>\n",
              "      <td>-0.9201</td>\n",
              "      <td>Neutral</td>\n",
              "    </tr>\n",
              "    <tr>\n",
              "      <th>3</th>\n",
              "      <td>Traces of Strauss-Kahn's DNA found on alleged ...</td>\n",
              "      <td>0.151</td>\n",
              "      <td>0.849</td>\n",
              "      <td>0.000</td>\n",
              "      <td>-0.9349</td>\n",
              "      <td>Neutral</td>\n",
              "    </tr>\n",
              "    <tr>\n",
              "      <th>4</th>\n",
              "      <td>The French doesn't always have a high opinion ...</td>\n",
              "      <td>0.060</td>\n",
              "      <td>0.855</td>\n",
              "      <td>0.085</td>\n",
              "      <td>0.3182</td>\n",
              "      <td>Neutral</td>\n",
              "    </tr>\n",
              "  </tbody>\n",
              "</table>\n",
              "</div>"
            ],
            "text/plain": [
              "                                             Article  ...  Sentiment\n",
              "0  The New York Post has learned that the woman a...  ...    Neutral\n",
              "1  Strauss-Kahn’s NY apartment plan falls apart A...  ...    Neutral\n",
              "2  According to a worrying CSA poll, it seems tha...  ...    Neutral\n",
              "3  Traces of Strauss-Kahn's DNA found on alleged ...  ...    Neutral\n",
              "4  The French doesn't always have a high opinion ...  ...    Neutral\n",
              "\n",
              "[5 rows x 6 columns]"
            ]
          },
          "metadata": {
            "tags": []
          },
          "execution_count": 5
        }
      ]
    },
    {
      "cell_type": "code",
      "metadata": {
        "id": "A4tAf2bQ8U2k",
        "outputId": "c3bff460-2bc7-4987-d8a7-70f36b303d80",
        "colab": {
          "base_uri": "https://localhost:8080/",
          "height": 981
        }
      },
      "source": [
        "# Seaborn plot visualizations\n",
        "import matplotlib.pyplot as plt\n",
        "import seaborn as sb\n",
        "\n",
        "# 1) Violin Plot\n",
        "plt.figure(figsize=(8,8))\n",
        "sb.set_style('darkgrid')\n",
        "plt.title(\"Violin Plot of Sentiment Analysis\")\n",
        "sb.violinplot(x = sentiment_df.iloc[:, -1].values, y = sentiment_df.iloc[:, -2].values,\n",
        "           data = sentiment_df, palette = sb.set_palette('magma', n_colors = 1))\n",
        "plt.ylabel(\"Compound Scores\")\n",
        "plt.show()\n",
        "\n",
        "# 2) Box Plot\n",
        "plt.figure(figsize=(8,8))\n",
        "sb.set_style('darkgrid')\n",
        "plt.title(\"Box Plot of Sentiment Analysis\")\n",
        "sb.boxenplot(x = sentiment_df.iloc[:, -1].values, y = sentiment_df.iloc[:, -2].values,\n",
        "           data = sentiment_df, palette = sb.set_palette('magma', n_colors = 6))\n",
        "plt.ylabel(\"Compound Scores\")\n",
        "plt.show()"
      ],
      "execution_count": 4,
      "outputs": [
        {
          "output_type": "display_data",
          "data": {
            "image/png": "[encoded data removed]",
            "text/plain": [
              "<Figure size 576x576 with 1 Axes>"
            ]
          },
          "metadata": {
            "tags": [],
            "needs_background": "light"
          }
        },
        {
          "output_type": "display_data",
          "data": {
            "image/png": "[encoded data removed]",
            "text/plain": [
              "<Figure size 576x576 with 1 Axes>"
            ]
          },
          "metadata": {
            "tags": []
          }
        }
      ]
    }
  ]
}