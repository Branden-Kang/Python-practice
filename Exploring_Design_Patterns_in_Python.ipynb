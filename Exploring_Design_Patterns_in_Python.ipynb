{
  "nbformat": 4,
  "nbformat_minor": 0,
  "metadata": {
    "colab": {
      "name": "Exploring Design Patterns in Python.ipynb",
      "provenance": [],
      "authorship_tag": "ABX9TyPFXLk4Of65VVI6VhWBUlJ1"
    },
    "kernelspec": {
      "name": "python3",
      "display_name": "Python 3"
    },
    "language_info": {
      "name": "python"
    }
  },
  "cells": [
    {
      "cell_type": "markdown",
      "metadata": {
        "id": "xLBpqKVvnWdg"
      },
      "source": [
        "[Reference](https://towardsdatascience.com/exploring-design-patterns-in-python-be55fbcf8b34)"
      ]
    },
    {
      "cell_type": "code",
      "metadata": {
        "colab": {
          "base_uri": "https://localhost:8080/"
        },
        "id": "tBqgDK-4mrXb",
        "outputId": "f931d3a6-5058-4ccf-9f83-6881658c2786"
      },
      "source": [
        "# First Class for Small Monitor\n",
        "class SmallMonitor():\n",
        "    def __init__(self, brand):\n",
        "        self._brand = brand    \n",
        "        \n",
        "    def details(self):\n",
        "        details = \"24in x 24in 1080p | $87.00\"\n",
        "        return details\n",
        "        \n",
        "# Second Class for Large Monitor\n",
        "class LargeMonitor():\n",
        "    def __init__(self, brand):\n",
        "        self._brand = brand    \n",
        "        \n",
        "    def details(self):\n",
        "        details = \"32in x 32in 1080p | $115.00\"\n",
        "        return details\n",
        "        \n",
        "# Basic Creative Design Pattern Implementation\n",
        "def get_monitor(monitor = 'small_monitor'):\n",
        "    \"\"\"factory method\"\"\"\n",
        "    monitors = dict(small_monitor = SmallMonitor(\"ASUS\"),\n",
        "                    large_monitor = LargeMonitor(\"HP\"))\n",
        "    return monitors[monitor]\n",
        "    \n",
        "small_monitor = get_monitor(\"small_monitor\").details()\n",
        "large_monitor = get_monitor(\"large_monitor\").details()\n",
        "\n",
        "print(small_monitor)\n",
        "print(large_monitor)"
      ],
      "execution_count": 1,
      "outputs": [
        {
          "output_type": "stream",
          "text": [
            "24in x 24in 1080p | $87.00\n",
            "32in x 32in 1080p | $115.00\n"
          ],
          "name": "stdout"
        }
      ]
    }
  ]
}