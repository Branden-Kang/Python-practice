{
  "nbformat": 4,
  "nbformat_minor": 0,
  "metadata": {
    "colab": {
      "provenance": [],
      "authorship_tag": "ABX9TyO0HuHvSLxZ4LMf7Gxc7W2w"
    },
    "kernelspec": {
      "name": "python3",
      "display_name": "Python 3"
    },
    "language_info": {
      "name": "python"
    }
  },
  "cells": [
    {
      "cell_type": "markdown",
      "source": [
        "[Reference](https://medium.com/@dmitry.romanoff/automating-database-health-checks-with-python-a-step-by-step-guide-1382b3108e97)"
      ],
      "metadata": {
        "id": "KFeYd40wOL27"
      }
    },
    {
      "cell_type": "markdown",
      "source": [
        "# 1. Loading Configuration"
      ],
      "metadata": {
        "id": "LISJdrO9OSHr"
      }
    },
    {
      "cell_type": "code",
      "execution_count": 1,
      "metadata": {
        "id": "u4b9pAJrN_cd"
      },
      "outputs": [],
      "source": [
        "import yaml\n",
        "\n",
        "def load_config(config_file):\n",
        "    with open(config_file, 'r') as file:\n",
        "        return yaml.safe_load(file)"
      ]
    },
    {
      "cell_type": "markdown",
      "source": [
        "# 2. Connecting to the Database"
      ],
      "metadata": {
        "id": "nLSLTFjWOVXj"
      }
    },
    {
      "cell_type": "code",
      "source": [
        "import psycopg2\n",
        "\n",
        "def connect_db(hostname, port, dbname, username, password):\n",
        "    try:\n",
        "        conn = psycopg2.connect(\n",
        "            host=hostname,\n",
        "            port=port,\n",
        "            dbname=dbname,\n",
        "            user=username,\n",
        "            password=password\n",
        "        )\n",
        "        return conn\n",
        "    except Exception as e:\n",
        "        print(f\"Error connecting to database: {e}\")\n",
        "        raise"
      ],
      "metadata": {
        "id": "-LgrdCX_OXY4"
      },
      "execution_count": 2,
      "outputs": []
    },
    {
      "cell_type": "markdown",
      "source": [
        "# 3. Executing Queries"
      ],
      "metadata": {
        "id": "dqW-h239OdSO"
      }
    },
    {
      "cell_type": "code",
      "source": [
        "def execute_queries(conn, queries):\n",
        "    results = []\n",
        "    try:\n",
        "        with conn.cursor() as cursor:\n",
        "            for check in queries:\n",
        "                description = list(check.keys())[0]\n",
        "                query = check[description]['query']\n",
        "                cursor.execute(query)\n",
        "                result = cursor.fetchall()\n",
        "                columns = [desc[0] for desc in cursor.description]  # Get column names\n",
        "                results.append({\n",
        "                    'description': check[description]['description'],\n",
        "                    'query': query,\n",
        "                    'columns': columns,\n",
        "                    'result': result\n",
        "                })\n",
        "    except Exception as e:\n",
        "        print(f\"Error executing queries: {e}\")\n",
        "        raise\n",
        "    return results"
      ],
      "metadata": {
        "id": "f7Fw-3xqOYPX"
      },
      "execution_count": 3,
      "outputs": []
    },
    {
      "cell_type": "markdown",
      "source": [
        "# 4. Generating HTML Report"
      ],
      "metadata": {
        "id": "eK6gGXN6OiWE"
      }
    },
    {
      "cell_type": "code",
      "source": [
        "from jinja2 import Template\n",
        "\n",
        "def generate_html_report(results, output_file):\n",
        "    template = Template(\"\"\"\n",
        "    <!DOCTYPE html>\n",
        "    <html lang=\"en\">\n",
        "    <head>\n",
        "        <meta charset=\"UTF-8\">\n",
        "        <meta name=\"viewport\" content=\"width=device-width, initial-scale=1.0\">\n",
        "        <title>Database Check Results</title>\n",
        "        <style>\n",
        "            table {\n",
        "                width: 100%;\n",
        "                border-collapse: collapse;\n",
        "            }\n",
        "            table, th, td {\n",
        "                border: 1px solid black;\n",
        "            }\n",
        "            th, td {\n",
        "                padding: 8px;\n",
        "                text-align: left;\n",
        "            }\n",
        "            th {\n",
        "                background-color: #f2f2f2;\n",
        "            }\n",
        "            pre {\n",
        "                white-space: pre-wrap; /* Allows wrapping of long queries */\n",
        "            }\n",
        "        </style>\n",
        "    </head>\n",
        "    <body>\n",
        "        <h1>Database Check Results</h1>\n",
        "        {% for check in results %}\n",
        "        <h2>{{ check.description }}</h2>\n",
        "        <pre>Query: {{ check.query }}</pre>\n",
        "        <h3>Result:</h3>\n",
        "        <table>\n",
        "            <thead>\n",
        "                <tr>\n",
        "                    {% for column in check.columns %}\n",
        "                    <th>{{ column }}</th>\n",
        "                    {% endfor %}\n",
        "                </tr>\n",
        "            </thead>\n",
        "            <tbody>\n",
        "                {% for row in check.result %}\n",
        "                <tr>\n",
        "                    {% for value in row %}\n",
        "                    <td>{{ value }}</td>\n",
        "                    {% endfor %}\n",
        "                </tr>\n",
        "                {% endfor %}\n",
        "            </tbody>\n",
        "        </table>\n",
        "        {% endfor %}\n",
        "    </body>\n",
        "    </html>\n",
        "    \"\"\")\n",
        "    html_content = template.render(results=results)\n",
        "    with open(output_file, 'w') as file:\n",
        "        file.write(html_content)"
      ],
      "metadata": {
        "id": "A8EJQK1TOgej"
      },
      "execution_count": 4,
      "outputs": []
    },
    {
      "cell_type": "code",
      "source": [
        "def main():\n",
        "    # Database parameters\n",
        "    db_hostname = 'localhost'\n",
        "    db_port = 5439\n",
        "    db_name = 'my_database'\n",
        "    db_username = 'my_user'\n",
        "    db_pwd = 'my_password'\n",
        "\n",
        "# File paths\n",
        "    config_file = 'dbcheck_config.yaml'\n",
        "    output_file = 'result.html'\n",
        "    # Load configuration\n",
        "    config = load_config(config_file)\n",
        "    dbchecks = config['dbchecks']\n",
        "    # Connect to the database\n",
        "    conn = connect_db(db_hostname, db_port, db_name, db_username, db_pwd)\n",
        "    try:\n",
        "        # Execute queries and get results\n",
        "        results = execute_queries(conn, dbchecks)\n",
        "        # Generate HTML report\n",
        "        generate_html_report(results, output_file)\n",
        "    finally:\n",
        "        # Close the database connection\n",
        "        conn.close()\n",
        "if __name__ == \"__main__\":\n",
        "    main()"
      ],
      "metadata": {
        "id": "4own4KN8OkUW"
      },
      "execution_count": 5,
      "outputs": []
    }
  ]
}