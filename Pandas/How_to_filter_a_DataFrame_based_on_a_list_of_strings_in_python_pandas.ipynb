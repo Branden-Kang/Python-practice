{
  "nbformat": 4,
  "nbformat_minor": 0,
  "metadata": {
    "colab": {
      "provenance": [],
      "authorship_tag": "ABX9TyM5exMzvah/xUJ/Iq5mr5L/"
    },
    "kernelspec": {
      "name": "python3",
      "display_name": "Python 3"
    },
    "language_info": {
      "name": "python"
    }
  },
  "cells": [
    {
      "cell_type": "markdown",
      "source": [
        "[Reference](https://medium.com/@moonchangin/how-to-filter-a-dataframe-based-on-a-list-of-strings-in-python-pandas-8652fe5ee25f)"
      ],
      "metadata": {
        "id": "wTDv5ISVunqN"
      }
    },
    {
      "cell_type": "code",
      "source": [
        "import pandas as pd\n",
        "\n",
        "df = pd.DataFrame({'A': ['apple', 'banana', 'orange', 'apple', 'banana'],\n",
        "                   'B': [1, 2, 3, 4, 5],\n",
        "                   'C': [6, 7, 8, 9, 10]})\n",
        "\n",
        "print(df)"
      ],
      "metadata": {
        "colab": {
          "base_uri": "https://localhost:8080/"
        },
        "id": "uUh4DddVt-B1",
        "outputId": "3c34d4e6-b56f-445f-d437-2fa2bdeeed99"
      },
      "execution_count": 4,
      "outputs": [
        {
          "output_type": "stream",
          "name": "stdout",
          "text": [
            "        A  B   C\n",
            "0   apple  1   6\n",
            "1  banana  2   7\n",
            "2  orange  3   8\n",
            "3   apple  4   9\n",
            "4  banana  5  10\n"
          ]
        }
      ]
    },
    {
      "cell_type": "code",
      "execution_count": 5,
      "metadata": {
        "id": "yJX2Vla7t7j5"
      },
      "outputs": [],
      "source": [
        "fruits = ['apple', 'orange']"
      ]
    },
    {
      "cell_type": "code",
      "source": [
        "filtered_df = df[df['A'].isin(fruits)]\n",
        "print(filtered_df)"
      ],
      "metadata": {
        "colab": {
          "base_uri": "https://localhost:8080/"
        },
        "id": "3VLGODPwt9w-",
        "outputId": "7660448b-d64d-4c54-d7bb-7627b6d65a6c"
      },
      "execution_count": 6,
      "outputs": [
        {
          "output_type": "stream",
          "name": "stdout",
          "text": [
            "        A  B  C\n",
            "0   apple  1  6\n",
            "2  orange  3  8\n",
            "3   apple  4  9\n"
          ]
        }
      ]
    },
    {
      "cell_type": "code",
      "source": [
        "filtered_df = df[df['A'].isin(fruits) & df['B'].isin([1, 3])]\n",
        "print(filtered_df)"
      ],
      "metadata": {
        "id": "JLbQrG2susKu",
        "outputId": "7b222b8c-61b1-4038-e353-91469ff6f495",
        "colab": {
          "base_uri": "https://localhost:8080/"
        }
      },
      "execution_count": 7,
      "outputs": [
        {
          "output_type": "stream",
          "name": "stdout",
          "text": [
            "        A  B  C\n",
            "0   apple  1  6\n",
            "2  orange  3  8\n"
          ]
        }
      ]
    }
  ]
}
