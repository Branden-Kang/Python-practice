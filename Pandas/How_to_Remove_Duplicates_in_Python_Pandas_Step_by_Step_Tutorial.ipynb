{
  "nbformat": 4,
  "nbformat_minor": 0,
  "metadata": {
    "colab": {
      "provenance": [],
      "authorship_tag": "ABX9TyNSXaxsfS7IEmCXMRj1Nyel"
    },
    "kernelspec": {
      "name": "python3",
      "display_name": "Python 3"
    },
    "language_info": {
      "name": "python"
    }
  },
  "cells": [
    {
      "cell_type": "markdown",
      "source": [
        "[Reference](https://blog.devgenius.io/how-to-remove-duplicates-in-python-pandas-step-by-step-tutorial-9115ca6ea6a3)"
      ],
      "metadata": {
        "id": "bOTJIcZm9qpN"
      }
    },
    {
      "cell_type": "code",
      "execution_count": 1,
      "metadata": {
        "id": "fk9nItkh9XtZ"
      },
      "outputs": [],
      "source": [
        "import pandas as pd"
      ]
    },
    {
      "cell_type": "code",
      "source": [
        "data = {'name': ['John', 'Peter', 'Sarah', 'Peter'],\n",
        "        'age': [25, 36, 29, 36],\n",
        "        'city': ['New York', 'London', 'Paris', 'London']}\n",
        "df = pd.DataFrame(data)\n",
        "print(df)"
      ],
      "metadata": {
        "colab": {
          "base_uri": "https://localhost:8080/"
        },
        "id": "Ui-AdwFk9uHo",
        "outputId": "62433407-fd82-43c9-9609-38c105458e97"
      },
      "execution_count": 2,
      "outputs": [
        {
          "output_type": "stream",
          "name": "stdout",
          "text": [
            "    name  age      city\n",
            "0   John   25  New York\n",
            "1  Peter   36    London\n",
            "2  Sarah   29     Paris\n",
            "3  Peter   36    London\n"
          ]
        }
      ]
    },
    {
      "cell_type": "code",
      "source": [
        "duplicates = df.duplicated()\n",
        "print(duplicates)"
      ],
      "metadata": {
        "colab": {
          "base_uri": "https://localhost:8080/"
        },
        "id": "-NG89ZAL9uPW",
        "outputId": "0a10d387-c6d7-4d7b-e225-5826701ee3f9"
      },
      "execution_count": 3,
      "outputs": [
        {
          "output_type": "stream",
          "name": "stdout",
          "text": [
            "0    False\n",
            "1    False\n",
            "2    False\n",
            "3     True\n",
            "dtype: bool\n"
          ]
        }
      ]
    },
    {
      "cell_type": "code",
      "source": [
        "df.drop_duplicates(subset=['name'], inplace=True)\n",
        "print(df)"
      ],
      "metadata": {
        "colab": {
          "base_uri": "https://localhost:8080/"
        },
        "id": "NAaJkzkI9vHX",
        "outputId": "6a46994b-bb6d-447c-dfc3-173fcbc2becd"
      },
      "execution_count": 4,
      "outputs": [
        {
          "output_type": "stream",
          "name": "stdout",
          "text": [
            "    name  age      city\n",
            "0   John   25  New York\n",
            "1  Peter   36    London\n",
            "2  Sarah   29     Paris\n"
          ]
        }
      ]
    }
  ]
}
