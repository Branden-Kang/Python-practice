{
  "nbformat": 4,
  "nbformat_minor": 0,
  "metadata": {
    "colab": {
      "provenance": [],
      "authorship_tag": "ABX9TyMbf/v5gEKAPlSwcMsQ+j5i"
    },
    "kernelspec": {
      "name": "python3",
      "display_name": "Python 3"
    },
    "language_info": {
      "name": "python"
    }
  },
  "cells": [
    {
      "cell_type": "markdown",
      "source": [
        "[Reference](https://gaurav-adarshi.medium.com/pivot-tables-in-pandas-a0c3bf80652f)"
      ],
      "metadata": {
        "id": "R_7AUE1zsgTY"
      }
    },
    {
      "cell_type": "code",
      "execution_count": 1,
      "metadata": {
        "id": "Ym-InS7Csdfe"
      },
      "outputs": [],
      "source": [
        "import pandas as pd"
      ]
    },
    {
      "cell_type": "code",
      "source": [
        "data = {\n",
        "    'Name': ['Alice', 'Bob', 'Charlie', 'Alice', 'Bob', 'Charlie'],\n",
        "    'Age': [25, 30, 35, 28, 31, 36],\n",
        "    'City': ['New York', 'Los Angeles', 'Chicago', 'New York', 'Los Angeles', 'Chicago'],\n",
        "    'Sales': [200, 150, 100, 300, 250, 200]\n",
        "}\n",
        "df = pd.DataFrame(data)"
      ],
      "metadata": {
        "id": "csLyTaaLsmxe"
      },
      "execution_count": 2,
      "outputs": []
    },
    {
      "cell_type": "code",
      "source": [
        "print(df.head())\n",
        "print(df.info())"
      ],
      "metadata": {
        "colab": {
          "base_uri": "https://localhost:8080/"
        },
        "id": "PIFP0wmdsnyY",
        "outputId": "47f31912-dcf2-40c1-8ca1-aaa570915388"
      },
      "execution_count": 3,
      "outputs": [
        {
          "output_type": "stream",
          "name": "stdout",
          "text": [
            "      Name  Age         City  Sales\n",
            "0    Alice   25     New York    200\n",
            "1      Bob   30  Los Angeles    150\n",
            "2  Charlie   35      Chicago    100\n",
            "3    Alice   28     New York    300\n",
            "4      Bob   31  Los Angeles    250\n",
            "<class 'pandas.core.frame.DataFrame'>\n",
            "RangeIndex: 6 entries, 0 to 5\n",
            "Data columns (total 4 columns):\n",
            " #   Column  Non-Null Count  Dtype \n",
            "---  ------  --------------  ----- \n",
            " 0   Name    6 non-null      object\n",
            " 1   Age     6 non-null      int64 \n",
            " 2   City    6 non-null      object\n",
            " 3   Sales   6 non-null      int64 \n",
            "dtypes: int64(2), object(2)\n",
            "memory usage: 320.0+ bytes\n",
            "None\n"
          ]
        }
      ]
    },
    {
      "cell_type": "code",
      "source": [
        "pd.pivot_table(df, values='Sales', index='City', columns='Name', aggfunc='mean', fill_value=0, margins=True, dropna=True, margins_name='Total', observed=False)"
      ],
      "metadata": {
        "colab": {
          "base_uri": "https://localhost:8080/",
          "height": 204
        },
        "id": "Y1Q3mShQsqz8",
        "outputId": "6648946e-ae5e-44ef-bdad-6ac3c37abbfd"
      },
      "execution_count": 4,
      "outputs": [
        {
          "output_type": "execute_result",
          "data": {
            "text/plain": [
              "Name         Alice    Bob  Charlie  Total\n",
              "City                                     \n",
              "Chicago        0.0    0.0    150.0  150.0\n",
              "Los Angeles    0.0  200.0      0.0  200.0\n",
              "New York     250.0    0.0      0.0  250.0\n",
              "Total        250.0  200.0    150.0  200.0"
            ],
            "text/html": [
              "\n",
              "  <div id=\"df-d6571238-ce8d-4176-aa17-5d3e23aa0382\" class=\"colab-df-container\">\n",
              "    <div>\n",
              "<style scoped>\n",
              "    .dataframe tbody tr th:only-of-type {\n",
              "        vertical-align: middle;\n",
              "    }\n",
              "\n",
              "    .dataframe tbody tr th {\n",
              "        vertical-align: top;\n",
              "    }\n",
              "\n",
              "    .dataframe thead th {\n",
              "        text-align: right;\n",
              "    }\n",
              "</style>\n",
              "<table border=\"1\" class=\"dataframe\">\n",
              "  <thead>\n",
              "    <tr style=\"text-align: right;\">\n",
              "      <th>Name</th>\n",
              "      <th>Alice</th>\n",
              "      <th>Bob</th>\n",
              "      <th>Charlie</th>\n",
              "      <th>Total</th>\n",
              "    </tr>\n",
              "    <tr>\n",
              "      <th>City</th>\n",
              "      <th></th>\n",
              "      <th></th>\n",
              "      <th></th>\n",
              "      <th></th>\n",
              "    </tr>\n",
              "  </thead>\n",
              "  <tbody>\n",
              "    <tr>\n",
              "      <th>Chicago</th>\n",
              "      <td>0.0</td>\n",
              "      <td>0.0</td>\n",
              "      <td>150.0</td>\n",
              "      <td>150.0</td>\n",
              "    </tr>\n",
              "    <tr>\n",
              "      <th>Los Angeles</th>\n",
              "      <td>0.0</td>\n",
              "      <td>200.0</td>\n",
              "      <td>0.0</td>\n",
              "      <td>200.0</td>\n",
              "    </tr>\n",
              "    <tr>\n",
              "      <th>New York</th>\n",
              "      <td>250.0</td>\n",
              "      <td>0.0</td>\n",
              "      <td>0.0</td>\n",
              "      <td>250.0</td>\n",
              "    </tr>\n",
              "    <tr>\n",
              "      <th>Total</th>\n",
              "      <td>250.0</td>\n",
              "      <td>200.0</td>\n",
              "      <td>150.0</td>\n",
              "      <td>200.0</td>\n",
              "    </tr>\n",
              "  </tbody>\n",
              "</table>\n",
              "</div>\n",
              "    <div class=\"colab-df-buttons\">\n",
              "\n",
              "  <div class=\"colab-df-container\">\n",
              "    <button class=\"colab-df-convert\" onclick=\"convertToInteractive('df-d6571238-ce8d-4176-aa17-5d3e23aa0382')\"\n",
              "            title=\"Convert this dataframe to an interactive table.\"\n",
              "            style=\"display:none;\">\n",
              "\n",
              "  <svg xmlns=\"http://www.w3.org/2000/svg\" height=\"24px\" viewBox=\"0 -960 960 960\">\n",
              "    <path d=\"M120-120v-720h720v720H120Zm60-500h600v-160H180v160Zm220 220h160v-160H400v160Zm0 220h160v-160H400v160ZM180-400h160v-160H180v160Zm440 0h160v-160H620v160ZM180-180h160v-160H180v160Zm440 0h160v-160H620v160Z\"/>\n",
              "  </svg>\n",
              "    </button>\n",
              "\n",
              "  <style>\n",
              "    .colab-df-container {\n",
              "      display:flex;\n",
              "      gap: 12px;\n",
              "    }\n",
              "\n",
              "    .colab-df-convert {\n",
              "      background-color: #E8F0FE;\n",
              "      border: none;\n",
              "      border-radius: 50%;\n",
              "      cursor: pointer;\n",
              "      display: none;\n",
              "      fill: #1967D2;\n",
              "      height: 32px;\n",
              "      padding: 0 0 0 0;\n",
              "      width: 32px;\n",
              "    }\n",
              "\n",
              "    .colab-df-convert:hover {\n",
              "      background-color: #E2EBFA;\n",
              "      box-shadow: 0px 1px 2px rgba(60, 64, 67, 0.3), 0px 1px 3px 1px rgba(60, 64, 67, 0.15);\n",
              "      fill: #174EA6;\n",
              "    }\n",
              "\n",
              "    .colab-df-buttons div {\n",
              "      margin-bottom: 4px;\n",
              "    }\n",
              "\n",
              "    [theme=dark] .colab-df-convert {\n",
              "      background-color: #3B4455;\n",
              "      fill: #D2E3FC;\n",
              "    }\n",
              "\n",
              "    [theme=dark] .colab-df-convert:hover {\n",
              "      background-color: #434B5C;\n",
              "      box-shadow: 0px 1px 3px 1px rgba(0, 0, 0, 0.15);\n",
              "      filter: drop-shadow(0px 1px 2px rgba(0, 0, 0, 0.3));\n",
              "      fill: #FFFFFF;\n",
              "    }\n",
              "  </style>\n",
              "\n",
              "    <script>\n",
              "      const buttonEl =\n",
              "        document.querySelector('#df-d6571238-ce8d-4176-aa17-5d3e23aa0382 button.colab-df-convert');\n",
              "      buttonEl.style.display =\n",
              "        google.colab.kernel.accessAllowed ? 'block' : 'none';\n",
              "\n",
              "      async function convertToInteractive(key) {\n",
              "        const element = document.querySelector('#df-d6571238-ce8d-4176-aa17-5d3e23aa0382');\n",
              "        const dataTable =\n",
              "          await google.colab.kernel.invokeFunction('convertToInteractive',\n",
              "                                                    [key], {});\n",
              "        if (!dataTable) return;\n",
              "\n",
              "        const docLinkHtml = 'Like what you see? Visit the ' +\n",
              "          '<a target=\"_blank\" href=https://colab.research.google.com/notebooks/data_table.ipynb>data table notebook</a>'\n",
              "          + ' to learn more about interactive tables.';\n",
              "        element.innerHTML = '';\n",
              "        dataTable['output_type'] = 'display_data';\n",
              "        await google.colab.output.renderOutput(dataTable, element);\n",
              "        const docLink = document.createElement('div');\n",
              "        docLink.innerHTML = docLinkHtml;\n",
              "        element.appendChild(docLink);\n",
              "      }\n",
              "    </script>\n",
              "  </div>\n",
              "\n",
              "\n",
              "<div id=\"df-3d40b5d8-527a-45d2-b356-55d7a26aab63\">\n",
              "  <button class=\"colab-df-quickchart\" onclick=\"quickchart('df-3d40b5d8-527a-45d2-b356-55d7a26aab63')\"\n",
              "            title=\"Suggest charts\"\n",
              "            style=\"display:none;\">\n",
              "\n",
              "<svg xmlns=\"http://www.w3.org/2000/svg\" height=\"24px\"viewBox=\"0 0 24 24\"\n",
              "     width=\"24px\">\n",
              "    <g>\n",
              "        <path d=\"M19 3H5c-1.1 0-2 .9-2 2v14c0 1.1.9 2 2 2h14c1.1 0 2-.9 2-2V5c0-1.1-.9-2-2-2zM9 17H7v-7h2v7zm4 0h-2V7h2v10zm4 0h-2v-4h2v4z\"/>\n",
              "    </g>\n",
              "</svg>\n",
              "  </button>\n",
              "\n",
              "<style>\n",
              "  .colab-df-quickchart {\n",
              "      --bg-color: #E8F0FE;\n",
              "      --fill-color: #1967D2;\n",
              "      --hover-bg-color: #E2EBFA;\n",
              "      --hover-fill-color: #174EA6;\n",
              "      --disabled-fill-color: #AAA;\n",
              "      --disabled-bg-color: #DDD;\n",
              "  }\n",
              "\n",
              "  [theme=dark] .colab-df-quickchart {\n",
              "      --bg-color: #3B4455;\n",
              "      --fill-color: #D2E3FC;\n",
              "      --hover-bg-color: #434B5C;\n",
              "      --hover-fill-color: #FFFFFF;\n",
              "      --disabled-bg-color: #3B4455;\n",
              "      --disabled-fill-color: #666;\n",
              "  }\n",
              "\n",
              "  .colab-df-quickchart {\n",
              "    background-color: var(--bg-color);\n",
              "    border: none;\n",
              "    border-radius: 50%;\n",
              "    cursor: pointer;\n",
              "    display: none;\n",
              "    fill: var(--fill-color);\n",
              "    height: 32px;\n",
              "    padding: 0;\n",
              "    width: 32px;\n",
              "  }\n",
              "\n",
              "  .colab-df-quickchart:hover {\n",
              "    background-color: var(--hover-bg-color);\n",
              "    box-shadow: 0 1px 2px rgba(60, 64, 67, 0.3), 0 1px 3px 1px rgba(60, 64, 67, 0.15);\n",
              "    fill: var(--button-hover-fill-color);\n",
              "  }\n",
              "\n",
              "  .colab-df-quickchart-complete:disabled,\n",
              "  .colab-df-quickchart-complete:disabled:hover {\n",
              "    background-color: var(--disabled-bg-color);\n",
              "    fill: var(--disabled-fill-color);\n",
              "    box-shadow: none;\n",
              "  }\n",
              "\n",
              "  .colab-df-spinner {\n",
              "    border: 2px solid var(--fill-color);\n",
              "    border-color: transparent;\n",
              "    border-bottom-color: var(--fill-color);\n",
              "    animation:\n",
              "      spin 1s steps(1) infinite;\n",
              "  }\n",
              "\n",
              "  @keyframes spin {\n",
              "    0% {\n",
              "      border-color: transparent;\n",
              "      border-bottom-color: var(--fill-color);\n",
              "      border-left-color: var(--fill-color);\n",
              "    }\n",
              "    20% {\n",
              "      border-color: transparent;\n",
              "      border-left-color: var(--fill-color);\n",
              "      border-top-color: var(--fill-color);\n",
              "    }\n",
              "    30% {\n",
              "      border-color: transparent;\n",
              "      border-left-color: var(--fill-color);\n",
              "      border-top-color: var(--fill-color);\n",
              "      border-right-color: var(--fill-color);\n",
              "    }\n",
              "    40% {\n",
              "      border-color: transparent;\n",
              "      border-right-color: var(--fill-color);\n",
              "      border-top-color: var(--fill-color);\n",
              "    }\n",
              "    60% {\n",
              "      border-color: transparent;\n",
              "      border-right-color: var(--fill-color);\n",
              "    }\n",
              "    80% {\n",
              "      border-color: transparent;\n",
              "      border-right-color: var(--fill-color);\n",
              "      border-bottom-color: var(--fill-color);\n",
              "    }\n",
              "    90% {\n",
              "      border-color: transparent;\n",
              "      border-bottom-color: var(--fill-color);\n",
              "    }\n",
              "  }\n",
              "</style>\n",
              "\n",
              "  <script>\n",
              "    async function quickchart(key) {\n",
              "      const quickchartButtonEl =\n",
              "        document.querySelector('#' + key + ' button');\n",
              "      quickchartButtonEl.disabled = true;  // To prevent multiple clicks.\n",
              "      quickchartButtonEl.classList.add('colab-df-spinner');\n",
              "      try {\n",
              "        const charts = await google.colab.kernel.invokeFunction(\n",
              "            'suggestCharts', [key], {});\n",
              "      } catch (error) {\n",
              "        console.error('Error during call to suggestCharts:', error);\n",
              "      }\n",
              "      quickchartButtonEl.classList.remove('colab-df-spinner');\n",
              "      quickchartButtonEl.classList.add('colab-df-quickchart-complete');\n",
              "    }\n",
              "    (() => {\n",
              "      let quickchartButtonEl =\n",
              "        document.querySelector('#df-3d40b5d8-527a-45d2-b356-55d7a26aab63 button');\n",
              "      quickchartButtonEl.style.display =\n",
              "        google.colab.kernel.accessAllowed ? 'block' : 'none';\n",
              "    })();\n",
              "  </script>\n",
              "</div>\n",
              "\n",
              "    </div>\n",
              "  </div>\n"
            ],
            "application/vnd.google.colaboratory.intrinsic+json": {
              "type": "dataframe",
              "summary": "{\n  \"name\": \"pd\",\n  \"rows\": 4,\n  \"fields\": [\n    {\n      \"column\": \"City\",\n      \"properties\": {\n        \"dtype\": \"string\",\n        \"num_unique_values\": 4,\n        \"samples\": [\n          \"Los Angeles\",\n          \"Total\",\n          \"Chicago\"\n        ],\n        \"semantic_type\": \"\",\n        \"description\": \"\"\n      }\n    },\n    {\n      \"column\": \"Alice\",\n      \"properties\": {\n        \"dtype\": \"number\",\n        \"std\": 144.33756729740642,\n        \"min\": 0.0,\n        \"max\": 250.0,\n        \"num_unique_values\": 2,\n        \"samples\": [\n          250.0,\n          0.0\n        ],\n        \"semantic_type\": \"\",\n        \"description\": \"\"\n      }\n    },\n    {\n      \"column\": \"Bob\",\n      \"properties\": {\n        \"dtype\": \"number\",\n        \"std\": 115.47005383792515,\n        \"min\": 0.0,\n        \"max\": 200.0,\n        \"num_unique_values\": 2,\n        \"samples\": [\n          200.0,\n          0.0\n        ],\n        \"semantic_type\": \"\",\n        \"description\": \"\"\n      }\n    },\n    {\n      \"column\": \"Charlie\",\n      \"properties\": {\n        \"dtype\": \"number\",\n        \"std\": 86.60254037844386,\n        \"min\": 0.0,\n        \"max\": 150.0,\n        \"num_unique_values\": 2,\n        \"samples\": [\n          0.0,\n          150.0\n        ],\n        \"semantic_type\": \"\",\n        \"description\": \"\"\n      }\n    },\n    {\n      \"column\": \"Total\",\n      \"properties\": {\n        \"dtype\": \"number\",\n        \"std\": 40.824829046386306,\n        \"min\": 150.0,\n        \"max\": 250.0,\n        \"num_unique_values\": 3,\n        \"samples\": [\n          150.0,\n          200.0\n        ],\n        \"semantic_type\": \"\",\n        \"description\": \"\"\n      }\n    }\n  ]\n}"
            }
          },
          "metadata": {},
          "execution_count": 4
        }
      ]
    },
    {
      "cell_type": "code",
      "source": [
        "import pandas as pd\n",
        "\n",
        "# Sample data\n",
        "data = {\n",
        "    'Date': ['2023-01-01', '2023-01-01', '2023-01-02', '2023-01-02'],\n",
        "    'City': ['New York', 'Los Angeles', 'New York', 'Los Angeles'],\n",
        "    'Sales': [200, 150, 300, 250]\n",
        "}\n",
        "\n",
        "df = pd.DataFrame(data)\n",
        "\n",
        "# Creating a pivot table\n",
        "pivot = pd.pivot_table(df, values='Sales', index='Date', columns='City', aggfunc='sum')\n",
        "print(pivot)"
      ],
      "metadata": {
        "colab": {
          "base_uri": "https://localhost:8080/"
        },
        "id": "AnZb7gvKsscc",
        "outputId": "b039d915-3ab8-4d62-e93e-a60eaca6a275"
      },
      "execution_count": 5,
      "outputs": [
        {
          "output_type": "stream",
          "name": "stdout",
          "text": [
            "City        Los Angeles  New York\n",
            "Date                             \n",
            "2023-01-01          150       200\n",
            "2023-01-02          250       300\n"
          ]
        }
      ]
    },
    {
      "cell_type": "code",
      "source": [
        "data = {\n",
        "    'Date': ['2023-01-01', '2023-01-01', '2023-01-02', '2023-01-02'],\n",
        "    'City': ['New York', 'Los Angeles', 'New York', 'Los Angeles'],\n",
        "    'Product': ['A', 'B', 'A', 'B'],\n",
        "    'Sales': [200, 150, 300, 250]\n",
        "}\n",
        "\n",
        "df = pd.DataFrame(data)\n",
        "\n",
        "# Multi-index pivot table\n",
        "pivot = pd.pivot_table(df, values='Sales', index=['Date', 'City'], columns='Product', aggfunc='sum')\n",
        "print(pivot)"
      ],
      "metadata": {
        "colab": {
          "base_uri": "https://localhost:8080/"
        },
        "id": "yXNkvCS3svP3",
        "outputId": "9530f718-ce74-4529-f89a-5484f4049c96"
      },
      "execution_count": 6,
      "outputs": [
        {
          "output_type": "stream",
          "name": "stdout",
          "text": [
            "Product                     A      B\n",
            "Date       City                     \n",
            "2023-01-01 Los Angeles    NaN  150.0\n",
            "           New York     200.0    NaN\n",
            "2023-01-02 Los Angeles    NaN  250.0\n",
            "           New York     300.0    NaN\n"
          ]
        }
      ]
    },
    {
      "cell_type": "code",
      "source": [
        "# Using multiple aggregation functions\n",
        "pivot = pd.pivot_table(df, values='Sales', index='Date', columns='City', aggfunc=[sum, len])\n",
        "print(pivot)"
      ],
      "metadata": {
        "colab": {
          "base_uri": "https://localhost:8080/"
        },
        "id": "m1eiMTNSsw6F",
        "outputId": "dfe95fdb-57d6-4b8c-a936-ef7e71dda5eb"
      },
      "execution_count": 7,
      "outputs": [
        {
          "output_type": "stream",
          "name": "stdout",
          "text": [
            "                   sum                  len         \n",
            "City       Los Angeles New York Los Angeles New York\n",
            "Date                                                \n",
            "2023-01-01         150      200           1        1\n",
            "2023-01-02         250      300           1        1\n"
          ]
        },
        {
          "output_type": "stream",
          "name": "stderr",
          "text": [
            "<ipython-input-7-02a3510fbd8a>:2: FutureWarning: The provided callable <built-in function sum> is currently using DataFrameGroupBy.sum. In a future version of pandas, the provided callable will be used directly. To keep current behavior pass the string \"sum\" instead.\n",
            "  pivot = pd.pivot_table(df, values='Sales', index='Date', columns='City', aggfunc=[sum, len])\n"
          ]
        }
      ]
    },
    {
      "cell_type": "code",
      "source": [
        "# Filling missing values with 0\n",
        "pivot = pd.pivot_table(df, values='Sales', index='Date', columns='City', aggfunc='sum', fill_value=0)\n",
        "print(pivot)"
      ],
      "metadata": {
        "colab": {
          "base_uri": "https://localhost:8080/"
        },
        "id": "k9oI-Bk6szbc",
        "outputId": "e2115812-e8c7-4522-aca9-45e02c3f20e9"
      },
      "execution_count": 8,
      "outputs": [
        {
          "output_type": "stream",
          "name": "stdout",
          "text": [
            "City        Los Angeles  New York\n",
            "Date                             \n",
            "2023-01-01          150       200\n",
            "2023-01-02          250       300\n"
          ]
        }
      ]
    },
    {
      "cell_type": "code",
      "source": [
        "# Styling the pivot table\n",
        "pivot.style.format('${:.2f}').background_gradient(cmap='viridis')"
      ],
      "metadata": {
        "colab": {
          "base_uri": "https://localhost:8080/",
          "height": 142
        },
        "id": "B_qFAUPns1Cp",
        "outputId": "4d3e1993-63c8-4579-e61f-0a3af4ed89ca"
      },
      "execution_count": 9,
      "outputs": [
        {
          "output_type": "execute_result",
          "data": {
            "text/plain": [
              "<pandas.io.formats.style.Styler at 0x7e7e96107820>"
            ],
            "text/html": [
              "<style type=\"text/css\">\n",
              "#T_2c21d_row0_col0, #T_2c21d_row0_col1 {\n",
              "  background-color: #440154;\n",
              "  color: #f1f1f1;\n",
              "}\n",
              "#T_2c21d_row1_col0, #T_2c21d_row1_col1 {\n",
              "  background-color: #fde725;\n",
              "  color: #000000;\n",
              "}\n",
              "</style>\n",
              "<table id=\"T_2c21d\" class=\"dataframe\">\n",
              "  <thead>\n",
              "    <tr>\n",
              "      <th class=\"index_name level0\" >City</th>\n",
              "      <th id=\"T_2c21d_level0_col0\" class=\"col_heading level0 col0\" >Los Angeles</th>\n",
              "      <th id=\"T_2c21d_level0_col1\" class=\"col_heading level0 col1\" >New York</th>\n",
              "    </tr>\n",
              "    <tr>\n",
              "      <th class=\"index_name level0\" >Date</th>\n",
              "      <th class=\"blank col0\" >&nbsp;</th>\n",
              "      <th class=\"blank col1\" >&nbsp;</th>\n",
              "    </tr>\n",
              "  </thead>\n",
              "  <tbody>\n",
              "    <tr>\n",
              "      <th id=\"T_2c21d_level0_row0\" class=\"row_heading level0 row0\" >2023-01-01</th>\n",
              "      <td id=\"T_2c21d_row0_col0\" class=\"data row0 col0\" >$150.00</td>\n",
              "      <td id=\"T_2c21d_row0_col1\" class=\"data row0 col1\" >$200.00</td>\n",
              "    </tr>\n",
              "    <tr>\n",
              "      <th id=\"T_2c21d_level0_row1\" class=\"row_heading level0 row1\" >2023-01-02</th>\n",
              "      <td id=\"T_2c21d_row1_col0\" class=\"data row1 col0\" >$250.00</td>\n",
              "      <td id=\"T_2c21d_row1_col1\" class=\"data row1 col1\" >$300.00</td>\n",
              "    </tr>\n",
              "  </tbody>\n",
              "</table>\n"
            ]
          },
          "metadata": {},
          "execution_count": 9
        }
      ]
    },
    {
      "cell_type": "code",
      "source": [
        "# Renaming index and columns\n",
        "pivot.rename(columns={'New York': 'NY', 'Los Angeles': 'LA'}, inplace=True)\n",
        "pivot.rename_axis('City', axis='columns', inplace=True)\n",
        "pivot.rename_axis('Sales Date', axis='index', inplace=True)\n",
        "print(pivot)"
      ],
      "metadata": {
        "colab": {
          "base_uri": "https://localhost:8080/"
        },
        "id": "HQ2GJEphs2iB",
        "outputId": "ea7d00d2-841a-4659-e3cf-2dac867f3a5f"
      },
      "execution_count": 10,
      "outputs": [
        {
          "output_type": "stream",
          "name": "stdout",
          "text": [
            "City         LA   NY\n",
            "Sales Date          \n",
            "2023-01-01  150  200\n",
            "2023-01-02  250  300\n"
          ]
        }
      ]
    },
    {
      "cell_type": "code",
      "source": [
        "# Adding margins\n",
        "pivot = pd.pivot_table(df, values='Sales', index='Date', columns='City', aggfunc='sum', margins=True)\n",
        "print(pivot)"
      ],
      "metadata": {
        "colab": {
          "base_uri": "https://localhost:8080/"
        },
        "id": "H-YvKthgs3vR",
        "outputId": "5a31fb9e-86c0-445e-d15d-54046323d10e"
      },
      "execution_count": 11,
      "outputs": [
        {
          "output_type": "stream",
          "name": "stdout",
          "text": [
            "City        Los Angeles  New York  All\n",
            "Date                                  \n",
            "2023-01-01          150       200  350\n",
            "2023-01-02          250       300  550\n",
            "All                 400       500  900\n"
          ]
        }
      ]
    },
    {
      "cell_type": "code",
      "source": [
        "# Adding margins\n",
        "pivot = pd.pivot_table(df, values='Sales', index='Date', columns='City', aggfunc='sum', margins=True)\n",
        "print(pivot)"
      ],
      "metadata": {
        "colab": {
          "base_uri": "https://localhost:8080/"
        },
        "id": "baYyvF4Hs9pN",
        "outputId": "5bd8e8ed-f595-49db-f062-0884d5151360"
      },
      "execution_count": 12,
      "outputs": [
        {
          "output_type": "stream",
          "name": "stdout",
          "text": [
            "City        Los Angeles  New York  All\n",
            "Date                                  \n",
            "2023-01-01          150       200  350\n",
            "2023-01-02          250       300  550\n",
            "All                 400       500  900\n"
          ]
        }
      ]
    }
  ]
}
