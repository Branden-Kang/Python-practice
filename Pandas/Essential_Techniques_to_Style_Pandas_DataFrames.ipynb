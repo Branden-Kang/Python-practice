{
  "nbformat": 4,
  "nbformat_minor": 0,
  "metadata": {
    "colab": {
      "name": "Essential Techniques to Style Pandas DataFrames.ipynb",
      "provenance": [],
      "authorship_tag": "ABX9TyOemtyrsPGQMhNj0CRjfOfT"
    },
    "kernelspec": {
      "name": "python3",
      "display_name": "Python 3"
    },
    "language_info": {
      "name": "python"
    }
  },
  "cells": [
    {
      "cell_type": "markdown",
      "source": [
        "[Reference](https://towardsdatascience.com/essential-techniques-to-style-pandas-dataframes-8796c74c9ff3)"
      ],
      "metadata": {
        "id": "E-p54UdQGn4j"
      }
    },
    {
      "cell_type": "markdown",
      "source": [
        "![pandas](https://miro.medium.com/max/1400/1*I-0S6V9yHWlFZUlJnIhz9w.png)"
      ],
      "metadata": {
        "id": "qlDQmvk8KpFx"
      }
    },
    {
      "cell_type": "markdown",
      "source": [
        "# Global Display Options\n"
      ],
      "metadata": {
        "id": "0Ucd7HU2Ktgy"
      }
    },
    {
      "cell_type": "code",
      "execution_count": 1,
      "metadata": {
        "id": "MusSkhpKGNIP"
      },
      "outputs": [],
      "source": [
        "# pd.set_option(\"display.max_columns\", None)"
      ]
    },
    {
      "cell_type": "code",
      "source": [
        "# pd.set_option(\"display.max_colwidth\", None)"
      ],
      "metadata": {
        "id": "rKqpbxHAKwHK"
      },
      "execution_count": 3,
      "outputs": []
    },
    {
      "cell_type": "markdown",
      "source": [
        "# Multiple Stylings\n"
      ],
      "metadata": {
        "id": "bU5SPE5-Kx45"
      }
    },
    {
      "cell_type": "markdown",
      "source": [
        "## Column-wise vs. Row-wise Styling\n"
      ],
      "metadata": {
        "id": "Qm5dsigSK4Fu"
      }
    },
    {
      "cell_type": "code",
      "source": [
        "# df.style.highlight_max() # default is axis = 0"
      ],
      "metadata": {
        "id": "DOkn-mVwK0DF"
      },
      "execution_count": 2,
      "outputs": []
    },
    {
      "cell_type": "code",
      "source": [
        "# df.style.highlight_max(axis = 1))"
      ],
      "metadata": {
        "id": "3fATkVmtK0jj"
      },
      "execution_count": 4,
      "outputs": []
    },
    {
      "cell_type": "markdown",
      "source": [
        "## Styling Only a Subset\n"
      ],
      "metadata": {
        "id": "xji8KJAbK5ch"
      }
    },
    {
      "cell_type": "code",
      "source": [
        "# df.style.background_gradient()"
      ],
      "metadata": {
        "id": "yskIl1vSK2ko"
      },
      "execution_count": 5,
      "outputs": []
    },
    {
      "cell_type": "code",
      "source": [
        "# df.style.background_gradient(subset = [\"A\", \"D\"]))"
      ],
      "metadata": {
        "id": "feVJBQAzK6pJ"
      },
      "execution_count": 6,
      "outputs": []
    },
    {
      "cell_type": "markdown",
      "source": [
        "## Caption\n"
      ],
      "metadata": {
        "id": "mrP0Q3QuK9vv"
      }
    },
    {
      "cell_type": "code",
      "source": [
        "# df.style.set_caption(\"Caption Text\")"
      ],
      "metadata": {
        "id": "jq55B_8jK8EL"
      },
      "execution_count": 7,
      "outputs": []
    },
    {
      "cell_type": "markdown",
      "source": [
        "## Renaming Columns\n"
      ],
      "metadata": {
        "id": "Wmo48CZOK__L"
      }
    },
    {
      "cell_type": "code",
      "source": [
        "# # Create a copy of the DataFrame for visualization purposes\n",
        "# df_viz = df.copy()"
      ],
      "metadata": {
        "id": "jtLgslyxK_E6"
      },
      "execution_count": 8,
      "outputs": []
    },
    {
      "cell_type": "code",
      "source": [
        "# # Rename all columns\n",
        "# df_viz.columns = [\"New Column Name A\", \n",
        "#                   \"New Column Name B\", \n",
        "#                   \"New Column Name C\", \n",
        "#                   \"New Column Name D\"]"
      ],
      "metadata": {
        "id": "MIZymkJ8LCBp"
      },
      "execution_count": 9,
      "outputs": []
    },
    {
      "cell_type": "code",
      "source": [
        "# # Rename selection of columns\n",
        "# df_viz.rename(columns = {\"A\" : \"New Column Name A\", \n",
        "#                          \"B\" : \"New Column Name B\"}, \n",
        "#               inplace = True)"
      ],
      "metadata": {
        "id": "cXMSFJJsLC1i"
      },
      "execution_count": 10,
      "outputs": []
    },
    {
      "cell_type": "markdown",
      "source": [
        "## Hiding the Index\n"
      ],
      "metadata": {
        "id": "cr20g0arLFqQ"
      }
    },
    {
      "cell_type": "code",
      "source": [
        "# df.style.hide_index()"
      ],
      "metadata": {
        "id": "4BcfmqdWLErt"
      },
      "execution_count": 11,
      "outputs": []
    },
    {
      "cell_type": "markdown",
      "source": [
        "## Format Columns\n"
      ],
      "metadata": {
        "id": "CDkCHIOHLHxk"
      }
    },
    {
      "cell_type": "code",
      "source": [
        "# df.style.format({\"A\" : \"{:,.0f}\",\n",
        "#                  \"B\" : \"{:d} $\",\n",
        "#                  \"C\" : \"{:.3f}\",\n",
        "#                  \"D\" : \"{:.2f}\"})"
      ],
      "metadata": {
        "id": "2AD_60AHLGuf"
      },
      "execution_count": 12,
      "outputs": []
    },
    {
      "cell_type": "markdown",
      "source": [
        "## Styling Properties\n"
      ],
      "metadata": {
        "id": "EvkxiNheLKMg"
      }
    },
    {
      "cell_type": "code",
      "source": [
        "# df.style.set_properties(subset = [\"C\"],\n",
        "#                         **{\"background-color\": \"lightblue\",  \n",
        "#                            \"color\" : \"white\",\n",
        "#                            \"border\" : \"0.5px solid white\"})"
      ],
      "metadata": {
        "id": "wufHw3f-LJKa"
      },
      "execution_count": 13,
      "outputs": []
    },
    {
      "cell_type": "markdown",
      "source": [
        "# Built-in Styling\n"
      ],
      "metadata": {
        "id": "QELCCMnvLNKL"
      }
    },
    {
      "cell_type": "markdown",
      "source": [
        "## Highlighting\n"
      ],
      "metadata": {
        "id": "vk8rRNDdLOFc"
      }
    },
    {
      "cell_type": "code",
      "source": [
        "# df.style.highlight_null(null_color = \"yellow\")"
      ],
      "metadata": {
        "id": "L_GqhIqrLLnZ"
      },
      "execution_count": 14,
      "outputs": []
    },
    {
      "cell_type": "code",
      "source": [
        "# df.style.highlight_min(color = \"red\")\\\n",
        "#         .highlight_max(color = \"green\")"
      ],
      "metadata": {
        "id": "BPKwpmecLPdk"
      },
      "execution_count": 15,
      "outputs": []
    },
    {
      "cell_type": "markdown",
      "source": [
        "## Gradients"
      ],
      "metadata": {
        "id": "OOxb3sEhLR4D"
      }
    },
    {
      "cell_type": "code",
      "source": [
        "# df.style.text_gradient(subset = [\"D\"], \n",
        "#                        cmap = \"RdYlGn\", \n",
        "#                        vmin = -1, \n",
        "#                        vmax = 1)"
      ],
      "metadata": {
        "id": "8bNceegELRG6"
      },
      "execution_count": 16,
      "outputs": []
    },
    {
      "cell_type": "code",
      "source": [
        "# df.style.background_gradient(subset = [\"D\"], \n",
        "#                              cmap = \"RdYlGn\", \n",
        "#                              vmin = -1, \n",
        "#                              vmax = 1)"
      ],
      "metadata": {
        "id": "X-ZRMIOsLT7u"
      },
      "execution_count": 17,
      "outputs": []
    },
    {
      "cell_type": "markdown",
      "source": [
        "## Bars\n"
      ],
      "metadata": {
        "id": "jOo2DrMqLW9h"
      }
    },
    {
      "cell_type": "code",
      "source": [
        "# df.style.bar(subset = [\"A\"], \n",
        "#              color = \"lightblue\", \n",
        "#              vmin = 0)"
      ],
      "metadata": {
        "id": "rfLQiWtOLV3r"
      },
      "execution_count": 18,
      "outputs": []
    },
    {
      "cell_type": "code",
      "source": [
        "# df.style.bar(subset = [\"D\"], \n",
        "#              align = \"mid\", \n",
        "#              color = [\"salmon\", \"lightgreen\"])\\\n",
        "#         .set_properties(**{'border': '0.5px solid black'})"
      ],
      "metadata": {
        "id": "CBzjLfL2LYjF"
      },
      "execution_count": 19,
      "outputs": []
    },
    {
      "cell_type": "markdown",
      "source": [
        "## Custom Styling\n"
      ],
      "metadata": {
        "id": "GpQFaUCsLbiv"
      }
    },
    {
      "cell_type": "code",
      "source": [
        "# def custom_styling(val):\n",
        "#     color = \"red\" if val < 0 else \"black\"\n",
        "#     return f\"color: {color}\"\n",
        "# df.style.applymap(custom_styling)"
      ],
      "metadata": {
        "id": "T0zk_LL1LaYh"
      },
      "execution_count": 20,
      "outputs": []
    },
    {
      "cell_type": "markdown",
      "source": [
        "# Export to Excel\n"
      ],
      "metadata": {
        "id": "pXGT7rbTLgj1"
      }
    },
    {
      "cell_type": "code",
      "source": [
        "# pip install openpyxl"
      ],
      "metadata": {
        "id": "Lm87sidfLfjk"
      },
      "execution_count": 21,
      "outputs": []
    },
    {
      "cell_type": "code",
      "source": [
        "# df.style.background_gradient(subset = [\"D\"], \n",
        "#                              cmap = \"RdYlGn\", \n",
        "#                              vmin = -1, \n",
        "#                              vmax = 1)\\\n",
        "#         .to_excel(\"styled.xlsx\", engine = \"openpyxl\")"
      ],
      "metadata": {
        "id": "i6wi5tS6Ljeu"
      },
      "execution_count": 22,
      "outputs": []
    }
  ]
}
