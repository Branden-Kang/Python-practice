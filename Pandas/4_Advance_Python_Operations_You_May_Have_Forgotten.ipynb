{
  "nbformat": 4,
  "nbformat_minor": 0,
  "metadata": {
    "colab": {
      "provenance": [],
      "authorship_tag": "ABX9TyPUKSEVlAFcjFNsl1D0QR0Y"
    },
    "kernelspec": {
      "name": "python3",
      "display_name": "Python 3"
    },
    "language_info": {
      "name": "python"
    }
  },
  "cells": [
    {
      "cell_type": "markdown",
      "source": [
        "[Reference](https://towardsdatascience.com/4-advance-python-operations-you-may-have-forgotten-58b0565b9f)"
      ],
      "metadata": {
        "id": "rJii54xFvMY0"
      }
    },
    {
      "cell_type": "markdown",
      "source": [
        "# 1. Pivot"
      ],
      "metadata": {
        "id": "vp0_j_n8vr3S"
      }
    },
    {
      "cell_type": "code",
      "execution_count": 1,
      "metadata": {
        "id": "1pVOEucnuSq5"
      },
      "outputs": [],
      "source": [
        "### Pivot the dataset\n",
        "pivot_df = pd.pivot(df, index =['Date'], columns ='Country', values =['NewConfirmed'])## renaming the columns  \n",
        "pivot_df.columns = df['Country'].sort_values().unique()"
      ]
    },
    {
      "cell_type": "markdown",
      "source": [
        "# 2. Melt"
      ],
      "metadata": {
        "id": "lyUe9IzBvxLA"
      }
    },
    {
      "cell_type": "code",
      "source": [
        "## The dataset is melted by setting the id column - a column that will not change.\n",
        "## and value column - columns we want to unpivot\n",
        "melted_df = pivot_df.melt(id_vars = 'Date', value_vars = ['US', 'India', 'China'])\n",
        "\n",
        "# we can rename the columns too\n",
        "melted_df.columns = ['Date', 'Country', 'NewConfirmed']"
      ],
      "metadata": {
        "id": "x25vk7PRvv14"
      },
      "execution_count": 2,
      "outputs": []
    },
    {
      "cell_type": "markdown",
      "source": [
        "# 3. Stack"
      ],
      "metadata": {
        "id": "W9jm7Q9uv3Zn"
      }
    },
    {
      "cell_type": "code",
      "source": [
        "## stack the dataset\n",
        "stack_df = pivot_df.stack()\n",
        "\n",
        "## reset the index and set column names\n",
        "stack_df = stack_df.reset_index()\n",
        "stack_df.columns = ['Date','Country','NewConfirmed']\n",
        "stack_df"
      ],
      "metadata": {
        "id": "sXLqaVvqv2ZD"
      },
      "execution_count": 3,
      "outputs": []
    },
    {
      "cell_type": "markdown",
      "source": [
        "# 4. Unstack"
      ],
      "metadata": {
        "id": "wTOjKD1fv6_o"
      }
    },
    {
      "cell_type": "code",
      "source": [
        "df.unstack(level=-1)"
      ],
      "metadata": {
        "id": "TudFh1vTv5ao"
      },
      "execution_count": 4,
      "outputs": []
    }
  ]
}
