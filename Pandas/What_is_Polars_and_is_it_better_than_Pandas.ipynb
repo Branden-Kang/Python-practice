{
  "nbformat": 4,
  "nbformat_minor": 0,
  "metadata": {
    "colab": {
      "provenance": [],
      "authorship_tag": "ABX9TyMA+XymnvFgOfXF2trB01pT"
    },
    "kernelspec": {
      "name": "python3",
      "display_name": "Python 3"
    },
    "language_info": {
      "name": "python"
    }
  },
  "cells": [
    {
      "cell_type": "markdown",
      "source": [
        "[Reference](https://medium.com/@animeshsingh161/what-is-polars-and-is-it-better-than-pandas-python-42e9c691bec6)"
      ],
      "metadata": {
        "id": "83x6YptaP93p"
      }
    },
    {
      "cell_type": "markdown",
      "source": [
        "# Test 1: Creating a basic data frame and saving it to CSV"
      ],
      "metadata": {
        "id": "InTXAP1XQAVR"
      }
    },
    {
      "cell_type": "code",
      "execution_count": 1,
      "metadata": {
        "colab": {
          "base_uri": "https://localhost:8080/"
        },
        "id": "nudXJFNJPtkv",
        "outputId": "f4889447-3a55-4896-a740-4ffd78278961"
      },
      "outputs": [
        {
          "output_type": "stream",
          "name": "stdout",
          "text": [
            "shape: (3, 2)\n",
            "┌─────┬───────┐\n",
            "│ a   ┆ b     │\n",
            "│ --- ┆ ---   │\n",
            "│ i64 ┆ bool  │\n",
            "╞═════╪═══════╡\n",
            "│ 1   ┆ true  │\n",
            "│ 2   ┆ false │\n",
            "│ 3   ┆ true  │\n",
            "└─────┴───────┘\n",
            "Execution time for Polars: 0.07879805564880371 seconds\n",
            "   a      b\n",
            "0  1   True\n",
            "1  2  False\n",
            "2  3   True\n",
            "Execution time for Pandas: 0.006306171417236328 seconds\n"
          ]
        }
      ],
      "source": [
        "import time\n",
        "\n",
        "def polars():\n",
        "    import polars as pl\n",
        "    start_time = time.time()\n",
        "\n",
        "\n",
        "    df = pl.DataFrame({'a': [1, 2, 3], 'b': [True, False, True]})\n",
        "\n",
        "    df.write_csv(\"data_polars.csv\")\n",
        "    end_time = time.time()\n",
        "    execution_time = end_time - start_time\n",
        "\n",
        "    print(df)\n",
        "    print(f\"Execution time for Polars: {execution_time} seconds\")\n",
        "\n",
        "def pandas():\n",
        "    import pandas as pd\n",
        "    start_time = time.time()\n",
        "    df = pd.DataFrame({'a': [1, 2, 3], 'b': [True, False, True]})\n",
        "\n",
        "    df.to_csv(\"data_pandas.csv\")\n",
        "\n",
        "    end_time = time.time()\n",
        "\n",
        "    execution_time = end_time - start_time\n",
        "\n",
        "    print(df)\n",
        "    print(f\"Execution time for Pandas: {execution_time} seconds\")\n",
        "\n",
        "\n",
        "polars()\n",
        "pandas()"
      ]
    },
    {
      "cell_type": "markdown",
      "source": [
        "# Test 2: Reading a large CSV and printing out the data frame"
      ],
      "metadata": {
        "id": "4-p-rFNwQBi6"
      }
    },
    {
      "cell_type": "code",
      "source": [
        "import time\n",
        "\n",
        "\n",
        "def polars():\n",
        "    import polars as pl\n",
        "    start_time = time.time()\n",
        "\n",
        "\n",
        "    df = pl.read_csv(\"data_polars.csv\")\n",
        "\n",
        "    print(df)\n",
        "\n",
        "    end_time = time.time()\n",
        "    execution_time = end_time - start_time\n",
        "\n",
        "    print(df)\n",
        "    print(f\"Execution time for polars: {execution_time} seconds\")\n",
        "\n",
        "def pandas():\n",
        "    import pandas as pd\n",
        "    start_time = time.time()\n",
        "\n",
        "    df = pd.read_csv(\"data_pandas.csv\")\n",
        "\n",
        "    print(df)\n",
        "\n",
        "    end_time = time.time()\n",
        "\n",
        "    execution_time = end_time - start_time\n",
        "\n",
        "    print(df)\n",
        "    print(f\"Execution time for pandas: {execution_time} seconds\")\n",
        "\n",
        "\n",
        "polars()\n",
        "pandas()"
      ],
      "metadata": {
        "colab": {
          "base_uri": "https://localhost:8080/"
        },
        "id": "ax89TxLvP5nk",
        "outputId": "00d525f3-b649-4581-aed7-d199452393aa"
      },
      "execution_count": 3,
      "outputs": [
        {
          "output_type": "stream",
          "name": "stdout",
          "text": [
            "shape: (3, 2)\n",
            "┌─────┬───────┐\n",
            "│ a   ┆ b     │\n",
            "│ --- ┆ ---   │\n",
            "│ i64 ┆ bool  │\n",
            "╞═════╪═══════╡\n",
            "│ 1   ┆ true  │\n",
            "│ 2   ┆ false │\n",
            "│ 3   ┆ true  │\n",
            "└─────┴───────┘\n",
            "shape: (3, 2)\n",
            "┌─────┬───────┐\n",
            "│ a   ┆ b     │\n",
            "│ --- ┆ ---   │\n",
            "│ i64 ┆ bool  │\n",
            "╞═════╪═══════╡\n",
            "│ 1   ┆ true  │\n",
            "│ 2   ┆ false │\n",
            "│ 3   ┆ true  │\n",
            "└─────┴───────┘\n",
            "Execution time for polars: 0.04124188423156738 seconds\n",
            "   Unnamed: 0  a      b\n",
            "0           0  1   True\n",
            "1           1  2  False\n",
            "2           2  3   True\n",
            "   Unnamed: 0  a      b\n",
            "0           0  1   True\n",
            "1           1  2  False\n",
            "2           2  3   True\n",
            "Execution time for pandas: 0.006990671157836914 seconds\n"
          ]
        }
      ]
    }
  ]
}
