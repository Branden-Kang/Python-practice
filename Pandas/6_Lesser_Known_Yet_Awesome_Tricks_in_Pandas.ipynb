{
  "nbformat": 4,
  "nbformat_minor": 0,
  "metadata": {
    "colab": {
      "name": "6 Lesser-Known Yet Awesome Tricks in Pandas.ipynb",
      "provenance": [],
      "authorship_tag": "ABX9TyMn1en7jkQjQOqXMygrlKs1"
    },
    "kernelspec": {
      "name": "python3",
      "display_name": "Python 3"
    }
  },
  "cells": [
    {
      "cell_type": "markdown",
      "metadata": {
        "id": "pN6YjRPV2G3J"
      },
      "source": [
        "[Reference](https://towardsdatascience.com/6-lesser-nown-yet-awesome-tricks-in-pandas-32236f3785c8)"
      ]
    },
    {
      "cell_type": "code",
      "metadata": {
        "id": "A8iHjjtSyaqg"
      },
      "source": [
        "url = 'https://en.wikipedia.org/wiki/Table_of_food_nutrients'"
      ],
      "execution_count": 5,
      "outputs": []
    },
    {
      "cell_type": "code",
      "metadata": {
        "id": "QhF95J_OygC9"
      },
      "source": [
        "import pandas as pd"
      ],
      "execution_count": 3,
      "outputs": []
    },
    {
      "cell_type": "code",
      "metadata": {
        "colab": {
          "base_uri": "https://localhost:8080/"
        },
        "id": "cx17sCmEybzS",
        "outputId": "7ac26ba8-c243-4ea7-d2f2-ec0d4f7e4705"
      },
      "source": [
        "dairy_table = pd.read_html(url, match='Fortified milk')\n",
        "\n",
        "dairy_table = dairy_table[0]\n",
        "print(dairy_table.head())"
      ],
      "execution_count": 6,
      "outputs": [
        {
          "output_type": "stream",
          "text": [
            "          Dairy products                           ...                         \n",
            "                    Food Measure   Grams Calories  ... Carb. Fiber Fat Sat. fat\n",
            "0      Cows' milk, whole   1 qt.   976.0    660.0  ...    48   0.0  40       36\n",
            "1                   skim   1 qt.   984.0    360.0  ...    52   0.0   t        t\n",
            "2   Buttermilk, cultured   1 cup   246.0    127.0  ...    13   0.0   5        4\n",
            "3  Evaporated, undiluted   1 cup   252.0    345.0  ...    24   0.0  20       18\n",
            "4         Fortified milk  6 cups  1419.0   1373.0  ...   119   1.4  42       23\n",
            "\n",
            "[5 rows x 9 columns]\n"
          ],
          "name": "stdout"
        }
      ]
    },
    {
      "cell_type": "code",
      "metadata": {
        "id": "r-1yWCAlyeln"
      },
      "source": [
        "##==== 2. Startup options ====##\n",
        "## To set startup file in the Spyder IDE: Perference->Ipython console->Startup->Run a file\n",
        "import pandas as pd\n",
        "def start_config():\n",
        "    options = {\n",
        "      ## Check out the link above for more options besides 'display'\n",
        "        'display': {\n",
        "            'max_columns': None,    ### Max # of columns\n",
        "            'max_colwidth': 1000,   ### Max width of columns\n",
        "            'max_rows': 1000,       ### Max # of rows \n",
        "            'precision': 3          ### Float number precision\n",
        "        }\n",
        "    }\n",
        "    for display, optionVals in options.items():\n",
        "        for setting, userVal in optionVals.items():\n",
        "            pd.set_option(f'{display}.{setting}', userVal)  \n",
        "\n",
        "if __name__ == '__main__':\n",
        "    start_config()"
      ],
      "execution_count": 7,
      "outputs": []
    },
    {
      "cell_type": "code",
      "metadata": {
        "id": "QBspvIRzyoNx"
      },
      "source": [
        "## Here, we take a subset of the entire table for demonstration purpose\n",
        "dairy_table_raw = dairy_table.iloc[1:23, ]\n",
        "dairy_table_raw.columns = dairy_table_raw[:1].iloc[0]\n",
        "dairy_table_raw = dairy_table_raw[1:].reset_index(drop=True)\n",
        "dairy_table = dairy_table_raw.iloc[:, :4]"
      ],
      "execution_count": 8,
      "outputs": []
    },
    {
      "cell_type": "code",
      "metadata": {
        "colab": {
          "base_uri": "https://localhost:8080/",
          "height": 700
        },
        "id": "qIweRhYZ1UtF",
        "outputId": "d520a01f-5aaa-40a1-be41-c73d596b1c79"
      },
      "source": [
        "dairy_table"
      ],
      "execution_count": 9,
      "outputs": [
        {
          "output_type": "execute_result",
          "data": {
            "text/html": [
              "<div>\n",
              "<style scoped>\n",
              "    .dataframe tbody tr th:only-of-type {\n",
              "        vertical-align: middle;\n",
              "    }\n",
              "\n",
              "    .dataframe tbody tr th {\n",
              "        vertical-align: top;\n",
              "    }\n",
              "\n",
              "    .dataframe thead th {\n",
              "        text-align: right;\n",
              "    }\n",
              "</style>\n",
              "<table border=\"1\" class=\"dataframe\">\n",
              "  <thead>\n",
              "    <tr style=\"text-align: right;\">\n",
              "      <th>1</th>\n",
              "      <th>skim</th>\n",
              "      <th>1 qt.</th>\n",
              "      <th>984.0</th>\n",
              "      <th>360.0</th>\n",
              "    </tr>\n",
              "  </thead>\n",
              "  <tbody>\n",
              "    <tr>\n",
              "      <th>0</th>\n",
              "      <td>Buttermilk, cultured</td>\n",
              "      <td>1 cup</td>\n",
              "      <td>246.0</td>\n",
              "      <td>127.0</td>\n",
              "    </tr>\n",
              "    <tr>\n",
              "      <th>1</th>\n",
              "      <td>Evaporated, undiluted</td>\n",
              "      <td>1 cup</td>\n",
              "      <td>252.0</td>\n",
              "      <td>345.0</td>\n",
              "    </tr>\n",
              "    <tr>\n",
              "      <th>2</th>\n",
              "      <td>Fortified milk</td>\n",
              "      <td>6 cups</td>\n",
              "      <td>1419.0</td>\n",
              "      <td>1373.0</td>\n",
              "    </tr>\n",
              "    <tr>\n",
              "      <th>3</th>\n",
              "      <td>Powdered milk, whole</td>\n",
              "      <td>1 cup</td>\n",
              "      <td>103.0</td>\n",
              "      <td>515.0</td>\n",
              "    </tr>\n",
              "    <tr>\n",
              "      <th>4</th>\n",
              "      <td>skim, instant</td>\n",
              "      <td>1 1/3 cups</td>\n",
              "      <td>85.0</td>\n",
              "      <td>290.0</td>\n",
              "    </tr>\n",
              "    <tr>\n",
              "      <th>5</th>\n",
              "      <td>skim, non-instant</td>\n",
              "      <td>2/3 cup</td>\n",
              "      <td>85.0</td>\n",
              "      <td>290.0</td>\n",
              "    </tr>\n",
              "    <tr>\n",
              "      <th>6</th>\n",
              "      <td>Goats' milk, fresh</td>\n",
              "      <td>1 cup</td>\n",
              "      <td>244.0</td>\n",
              "      <td>165.0</td>\n",
              "    </tr>\n",
              "    <tr>\n",
              "      <th>7</th>\n",
              "      <td>Malted milk</td>\n",
              "      <td>NaN</td>\n",
              "      <td>NaN</td>\n",
              "      <td>NaN</td>\n",
              "    </tr>\n",
              "    <tr>\n",
              "      <th>8</th>\n",
              "      <td>(1/2 cup ice cream)</td>\n",
              "      <td>2 cups</td>\n",
              "      <td>540.0</td>\n",
              "      <td>690.0</td>\n",
              "    </tr>\n",
              "    <tr>\n",
              "      <th>9</th>\n",
              "      <td>Cocoa</td>\n",
              "      <td>1 cup</td>\n",
              "      <td>252.0</td>\n",
              "      <td>235.0</td>\n",
              "    </tr>\n",
              "    <tr>\n",
              "      <th>10</th>\n",
              "      <td>Yogurt, of partially</td>\n",
              "      <td>NaN</td>\n",
              "      <td>NaN</td>\n",
              "      <td>NaN</td>\n",
              "    </tr>\n",
              "    <tr>\n",
              "      <th>11</th>\n",
              "      <td>skim. milk</td>\n",
              "      <td>1 cup</td>\n",
              "      <td>250.0</td>\n",
              "      <td>128.0</td>\n",
              "    </tr>\n",
              "    <tr>\n",
              "      <th>12</th>\n",
              "      <td>Milk pudding</td>\n",
              "      <td>NaN</td>\n",
              "      <td>NaN</td>\n",
              "      <td>NaN</td>\n",
              "    </tr>\n",
              "    <tr>\n",
              "      <th>13</th>\n",
              "      <td>(cornstarch)</td>\n",
              "      <td>1 cup</td>\n",
              "      <td>248.0</td>\n",
              "      <td>275.0</td>\n",
              "    </tr>\n",
              "    <tr>\n",
              "      <th>14</th>\n",
              "      <td>Custard, baked</td>\n",
              "      <td>1 cup</td>\n",
              "      <td>248.0</td>\n",
              "      <td>285.0</td>\n",
              "    </tr>\n",
              "    <tr>\n",
              "      <th>15</th>\n",
              "      <td>Ice cream, commercial</td>\n",
              "      <td>1 cup</td>\n",
              "      <td>188.0</td>\n",
              "      <td>300.0</td>\n",
              "    </tr>\n",
              "    <tr>\n",
              "      <th>16</th>\n",
              "      <td>Ice milk, commercial</td>\n",
              "      <td>1 cup</td>\n",
              "      <td>190.0</td>\n",
              "      <td>275.0</td>\n",
              "    </tr>\n",
              "    <tr>\n",
              "      <th>17</th>\n",
              "      <td>Cream, light,</td>\n",
              "      <td>NaN</td>\n",
              "      <td>NaN</td>\n",
              "      <td>NaN</td>\n",
              "    </tr>\n",
              "    <tr>\n",
              "      <th>18</th>\n",
              "      <td>or half-and-half</td>\n",
              "      <td>1/2 cup</td>\n",
              "      <td>120.0</td>\n",
              "      <td>170.0</td>\n",
              "    </tr>\n",
              "    <tr>\n",
              "      <th>19</th>\n",
              "      <td>Cream, heavy,</td>\n",
              "      <td>NaN</td>\n",
              "      <td>NaN</td>\n",
              "      <td>NaN</td>\n",
              "    </tr>\n",
              "    <tr>\n",
              "      <th>20</th>\n",
              "      <td>or whipping</td>\n",
              "      <td>1/2 cup</td>\n",
              "      <td>119.0</td>\n",
              "      <td>430.0</td>\n",
              "    </tr>\n",
              "  </tbody>\n",
              "</table>\n",
              "</div>"
            ],
            "text/plain": [
              "1                    skim       1 qt.   984.0   360.0\n",
              "0    Buttermilk, cultured       1 cup   246.0   127.0\n",
              "1   Evaporated, undiluted       1 cup   252.0   345.0\n",
              "2          Fortified milk      6 cups  1419.0  1373.0\n",
              "3    Powdered milk, whole       1 cup   103.0   515.0\n",
              "4           skim, instant  1 1/3 cups    85.0   290.0\n",
              "5       skim, non-instant     2/3 cup    85.0   290.0\n",
              "6      Goats' milk, fresh       1 cup   244.0   165.0\n",
              "7             Malted milk         NaN     NaN     NaN\n",
              "8     (1/2 cup ice cream)      2 cups   540.0   690.0\n",
              "9                   Cocoa       1 cup   252.0   235.0\n",
              "10   Yogurt, of partially         NaN     NaN     NaN\n",
              "11             skim. milk       1 cup   250.0   128.0\n",
              "12           Milk pudding         NaN     NaN     NaN\n",
              "13           (cornstarch)       1 cup   248.0   275.0\n",
              "14         Custard, baked       1 cup   248.0   285.0\n",
              "15  Ice cream, commercial       1 cup   188.0   300.0\n",
              "16   Ice milk, commercial       1 cup   190.0   275.0\n",
              "17          Cream, light,         NaN     NaN     NaN\n",
              "18       or half-and-half     1/2 cup   120.0   170.0\n",
              "19          Cream, heavy,         NaN     NaN     NaN\n",
              "20            or whipping     1/2 cup   119.0   430.0"
            ]
          },
          "metadata": {
            "tags": []
          },
          "execution_count": 9
        }
      ]
    },
    {
      "cell_type": "code",
      "metadata": {
        "colab": {
          "base_uri": "https://localhost:8080/"
        },
        "id": "SytVngOA1QKx",
        "outputId": "56115e88-957e-4d2b-bc8e-18eada2e4878"
      },
      "source": [
        "### df.itertuples()\n",
        "for row in dairy_table.itertuples():\n",
        "    if row[0] == 0:\n",
        "        print(f'{row}')\n",
        "        break"
      ],
      "execution_count": 10,
      "outputs": [
        {
          "output_type": "stream",
          "text": [
            "Pandas(Index=0, skim='Buttermilk, cultured', _2='1 cup', _3=246.0, _4=127.0)\n"
          ],
          "name": "stdout"
        }
      ]
    },
    {
      "cell_type": "code",
      "metadata": {
        "id": "Ruqwkmr-1W6g"
      },
      "source": [
        "##==== 3. Use itertuples() to loop through rows ====##\n",
        "## Initialize variables to store the string and missing row index\n",
        "cur_str = ''    \n",
        "missing_value_row = 0\n",
        "\n",
        "for row in dairy_table.itertuples():    \n",
        "    idx = row[0]\n",
        "    \n",
        "    ## rows with NAs: record the Food value and index\n",
        "    if str(row.Measure)=='nan':\n",
        "        cur_str += f'{row.Food} '\n",
        "        missing_value_row = idx  \n",
        "    \n",
        "    ## next rows, where idx = (row with NAs)+1\n",
        "    if cur_str and idx == missing_value_row+1:\n",
        "        cur_str += row.Food\n",
        "        dairy_table.iloc[idx, 0] = cur_str\n",
        "        ## reassign cur_str back to '' for the next loop\n",
        "        cur_str = ''\n",
        "        \n",
        "## Drop the rows with NAs\n",
        "dairy_table = dairy_table.dropna(how='any') "
      ],
      "execution_count": 16,
      "outputs": []
    },
    {
      "cell_type": "code",
      "metadata": {
        "id": "iEaK0AI11oCA"
      },
      "source": [
        "dairy_table = dairy_table.fillna(method='bfill') "
      ],
      "execution_count": 12,
      "outputs": []
    },
    {
      "cell_type": "code",
      "metadata": {
        "id": "bGBT7Ea215Zz"
      },
      "source": [
        "##==== 5. cumsum() to work with booleans ====##\n",
        "### 1) Compare two consecutive rows on all columns excluding the 'Food' (i.e., first column)\n",
        "keys = (dairy_table != dairy_table.shift(1)).iloc[:, 1:].astype(int).cumsum()\n",
        "\n",
        "### 2) Define the column names; string in python: vectorized operation \n",
        "keys.columns = keys.columns + '_'\n",
        "\n",
        "### 3) Merge back to the original table \n",
        "dairy_table = pd.concat([dairy_table, keys], axis=1)"
      ],
      "execution_count": 15,
      "outputs": []
    },
    {
      "cell_type": "code",
      "metadata": {
        "id": "MWh44Unj1824"
      },
      "source": [
        "#==== 6. Groupby ====## \n",
        "new_food_col = dairy_table.groupby(['Measure_', 'Grams_', 'Calories_'], as_index=False)['Food']\n",
        "                    .apply(' '.join).reset_index(drop=True) \n",
        "\n",
        "### Drop the old Food column and add the new \n",
        "dairy_table = dairy_table.drop(columns='Food').drop_duplicates().reset_index(drop=True)\n",
        "dairy_table.insert(0, column='Food', value=new_food_col)\n",
        "dairy_table = dairy_table[original_cols]"
      ],
      "execution_count": 14,
      "outputs": []
    }
  ]
}