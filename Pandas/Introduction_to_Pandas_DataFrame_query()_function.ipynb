{
  "nbformat": 4,
  "nbformat_minor": 0,
  "metadata": {
    "colab": {
      "name": "Introduction to Pandas DataFrame.query() function.ipynb",
      "provenance": [],
      "authorship_tag": "ABX9TyNe97v/RIw2Ct0znWY9HIUC"
    },
    "kernelspec": {
      "name": "python3",
      "display_name": "Python 3"
    },
    "language_info": {
      "name": "python"
    }
  },
  "cells": [
    {
      "cell_type": "markdown",
      "metadata": {
        "id": "ijpadCIEbyO9"
      },
      "source": [
        "[Reference](https://medium.com/analytics-vidhya/introduction-to-pandas-dataframe-query-function-60b5408ae58b)"
      ]
    },
    {
      "cell_type": "code",
      "metadata": {
        "colab": {
          "base_uri": "https://localhost:8080/"
        },
        "id": "K0Dj3xoEbw2r",
        "outputId": "a45de060-71c8-4ea3-a64f-b26808960101"
      },
      "source": [
        "import pandas as pd \n",
        "import numpy as np \n",
        "df= pd.DataFrame({'Name':['Vikram','John', 'Alex','Paul','Andrew','Rafel' ], \n",
        "'Age':[28,39,21,50,35,43], \n",
        "'Department':['HR', 'Finance','IT','HR','IT','IT'], \n",
        "'Country':['USA','India','Germany','USA','India','India'] }) \n",
        "\n",
        "print(df.head())"
      ],
      "execution_count": 1,
      "outputs": [
        {
          "output_type": "stream",
          "text": [
            "     Name  Age Department  Country\n",
            "0  Vikram   28         HR      USA\n",
            "1    John   39    Finance    India\n",
            "2    Alex   21         IT  Germany\n",
            "3    Paul   50         HR      USA\n",
            "4  Andrew   35         IT    India\n"
          ],
          "name": "stdout"
        }
      ]
    },
    {
      "cell_type": "code",
      "metadata": {
        "colab": {
          "base_uri": "https://localhost:8080/"
        },
        "id": "szC5rP4PcFZS",
        "outputId": "b4065af3-1c07-4f57-a433-a43a023c4cbf"
      },
      "source": [
        "print(df.query('Department == \"IT\"'))"
      ],
      "execution_count": 2,
      "outputs": [
        {
          "output_type": "stream",
          "text": [
            "     Name  Age Department  Country\n",
            "2    Alex   21         IT  Germany\n",
            "4  Andrew   35         IT    India\n",
            "5   Rafel   43         IT    India\n"
          ],
          "name": "stdout"
        }
      ]
    },
    {
      "cell_type": "code",
      "metadata": {
        "colab": {
          "base_uri": "https://localhost:8080/"
        },
        "id": "zs_dCTSecKEt",
        "outputId": "f743517e-01bf-4853-f454-b7fce0f68e0f"
      },
      "source": [
        "print(df.query('Department == \"IT\" and Country != \"India\" '))"
      ],
      "execution_count": 3,
      "outputs": [
        {
          "output_type": "stream",
          "text": [
            "   Name  Age Department  Country\n",
            "2  Alex   21         IT  Germany\n"
          ],
          "name": "stdout"
        }
      ]
    },
    {
      "cell_type": "code",
      "metadata": {
        "colab": {
          "base_uri": "https://localhost:8080/"
        },
        "id": "_pp2v8qMcLNU",
        "outputId": "e190d788-77db-4a40-dd32-edddfa7f4576"
      },
      "source": [
        "print(df.query('Age>= 40 or Country ==\"India\"'))"
      ],
      "execution_count": 4,
      "outputs": [
        {
          "output_type": "stream",
          "text": [
            "     Name  Age Department Country\n",
            "1    John   39    Finance   India\n",
            "3    Paul   50         HR     USA\n",
            "4  Andrew   35         IT   India\n",
            "5   Rafel   43         IT   India\n"
          ],
          "name": "stdout"
        }
      ]
    },
    {
      "cell_type": "code",
      "metadata": {
        "colab": {
          "base_uri": "https://localhost:8080/"
        },
        "id": "dZZgNMsjcMxe",
        "outputId": "828f8add-184f-404e-f8fe-17a2d8f3ac00"
      },
      "source": [
        "Location= \"India\" \n",
        "print(df.query('Country == @Location'))"
      ],
      "execution_count": 10,
      "outputs": [
        {
          "output_type": "stream",
          "text": [
            "     Name  Age Department Country\n",
            "1    John   39    Finance   India\n",
            "4  Andrew   35         IT   India\n",
            "5   Rafel   43         IT   India\n"
          ],
          "name": "stdout"
        }
      ]
    }
  ]
}