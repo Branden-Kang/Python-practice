{
  "nbformat": 4,
  "nbformat_minor": 0,
  "metadata": {
    "colab": {
      "provenance": [],
      "authorship_tag": "ABX9TyMltWROunMzYsQ+niR/5Z7E"
    },
    "kernelspec": {
      "name": "python3",
      "display_name": "Python 3"
    },
    "language_info": {
      "name": "python"
    }
  },
  "cells": [
    {
      "cell_type": "markdown",
      "source": [
        "[Reference](https://medium.com/@agusmahari/pandas-with-object-oriented-programming-for-better-code-organization-445846ae6a95)"
      ],
      "metadata": {
        "id": "YOxyhXw1CH_8"
      }
    },
    {
      "cell_type": "markdown",
      "source": [
        "# Creating a Pandas Data Frame Class"
      ],
      "metadata": {
        "id": "p_IxW1tVCK8L"
      }
    },
    {
      "cell_type": "code",
      "source": [
        "import pandas as pd"
      ],
      "metadata": {
        "id": "bQTURHRYCW6K"
      },
      "execution_count": 5,
      "outputs": []
    },
    {
      "cell_type": "code",
      "execution_count": 6,
      "metadata": {
        "id": "-WQU8VguB-pX"
      },
      "outputs": [],
      "source": [
        "class MyDataFrame:\n",
        "    def __init__(self, data, columns):\n",
        "        self.df = pd.DataFrame(data, columns=columns)"
      ]
    },
    {
      "cell_type": "code",
      "source": [
        "class MyDataFrame:\n",
        "    def __init__(self, data, columns):\n",
        "        self.df = pd.DataFrame(data, columns=columns)\n",
        "\n",
        "    def to_dict(self):\n",
        "        return self.df.to_dict(orient='records')"
      ],
      "metadata": {
        "id": "82-JGSs_CMp8"
      },
      "execution_count": 7,
      "outputs": []
    },
    {
      "cell_type": "code",
      "source": [
        "class MyDataFrame:\n",
        "    def __init__(self, data, columns):\n",
        "        self.df = pd.DataFrame(data, columns=columns)\n",
        "\n",
        "    def to_dict(self):\n",
        "        return self.df.to_dict(orient='records')\n",
        "\n",
        "    @classmethod\n",
        "    def from_csv(cls, file_path, columns):\n",
        "        data = pd.read_csv(file_path)\n",
        "        return cls(data.to_dict(orient='records'), columns)"
      ],
      "metadata": {
        "id": "t-XzPaEHCQv7"
      },
      "execution_count": 8,
      "outputs": []
    },
    {
      "cell_type": "code",
      "source": [
        "class MyDataFrame:\n",
        "    def __init__(self, data, columns):\n",
        "        self.df = pd.DataFrame(data, columns=columns)\n",
        "\n",
        "    def to_dict(self):\n",
        "        return self.df.to_dict(orient='records')\n",
        "\n",
        "    @classmethod\n",
        "    def from_csv(cls, file_path, columns):\n",
        "        data = pd.read_csv(file_path)\n",
        "        return cls(data.to_dict(orient='records'), columns)\n",
        "\n",
        "    def save_csv(self, file_path):\n",
        "        self.df.to_csv(file_path, index=False)"
      ],
      "metadata": {
        "id": "GCeIzs2ICRrz"
      },
      "execution_count": 9,
      "outputs": []
    },
    {
      "cell_type": "code",
      "source": [
        "# data = [\n",
        "#     {\"Name\": \"John\", \"Age\": 25, \"Gender\": \"Male\"},\n",
        "#     {\"Name\": \"Jane\", \"Age\": 30, \"Gender\": \"Female\"},\n",
        "#     {\"Name\": \"Bob\", \"Age\": 40, \"Gender\": \"Male\"},\n",
        "#     {\"Name\": \"Alice\", \"Age\": 35, \"Gender\": \"Female\"}\n",
        "# ]\n",
        "# columns = [\"Name\", \"Age\", \"Gender\"]\n",
        "\n",
        "# my_data = MyDataFrame(data, columns)\n",
        "# print(my_data.df)\n",
        "\n",
        "# my_data.add_row({\"Name\": \"Sarah\", \"Age\": 28, \"Gender\": \"Female\"})\n",
        "# print(my_data.df)\n",
        "\n",
        "# my_data.remove_row(2)\n",
        "# print(my_data.df)\n",
        "\n",
        "# my_data.filter_by_age(30, 40)\n",
        "# print(my_data.df)\n",
        "\n",
        "# my_data.sort_by_age()\n",
        "# print(my_data.df)\n",
        "\n",
        "# dict_data = my_data.to_dict()\n",
        "# print(dict_data)\n",
        "\n",
        "# my_data.save_csv('my_data.csv')\n",
        "\n",
        "# new_data = MyDataFrame.from_csv('my_data.csv', columns)\n",
        "# print(new_data.df)"
      ],
      "metadata": {
        "id": "K7xuPCMbCT6W"
      },
      "execution_count": 14,
      "outputs": []
    },
    {
      "cell_type": "markdown",
      "source": [
        "# Inheritance"
      ],
      "metadata": {
        "id": "-u-poIChCboH"
      }
    },
    {
      "cell_type": "code",
      "source": [
        "import pandas as pd\n",
        "\n",
        "class MyDataFrame(pd.DataFrame):\n",
        "    def filter_by_column(self, column_name, value):\n",
        "        return self[self[column_name] == value]\n",
        "\n",
        "    @property\n",
        "    def mean_column(self, column_name):\n",
        "        return self[column_name].mean()"
      ],
      "metadata": {
        "id": "U0uswPWsCaSw"
      },
      "execution_count": 11,
      "outputs": []
    },
    {
      "cell_type": "code",
      "source": [
        "# data = {\n",
        "#     \"Name\": [\"John\", \"Jane\", \"Bob\", \"Alice\"],\n",
        "#     \"Age\": [25, 30, 40, 35],\n",
        "#     \"Gender\": [\"Male\", \"Female\", \"Male\", \"Female\"]\n",
        "# }\n",
        "\n",
        "# my_data = MyDataFrame(data)\n",
        "\n",
        "# filtered_data = my_data.filter_by_column(\"Gender\", \"Female\")\n",
        "# print(filtered_data)\n",
        "\n",
        "# mean_age = my_data.mean_column(\"Age\")\n",
        "# print(mean_age)"
      ],
      "metadata": {
        "id": "oeCtnZCGCkUp"
      },
      "execution_count": 15,
      "outputs": []
    }
  ]
}
