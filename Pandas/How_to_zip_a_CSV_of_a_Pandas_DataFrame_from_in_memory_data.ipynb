{
  "nbformat": 4,
  "nbformat_minor": 0,
  "metadata": {
    "colab": {
      "provenance": [],
      "authorship_tag": "ABX9TyO5ov/cpDOoSTfgxBaKThXS"
    },
    "kernelspec": {
      "name": "python3",
      "display_name": "Python 3"
    },
    "language_info": {
      "name": "python"
    }
  },
  "cells": [
    {
      "cell_type": "markdown",
      "source": [
        "[Reference](https://medium.com/@anala007/how-to-zip-a-csv-of-a-pandas-dataframe-from-in-memory-data-303942657752)"
      ],
      "metadata": {
        "id": "F3eiopExV6e7"
      }
    },
    {
      "cell_type": "code",
      "execution_count": 1,
      "metadata": {
        "id": "H84JYGpoV42f"
      },
      "outputs": [],
      "source": [
        "import zipfile\n",
        "import io"
      ]
    },
    {
      "cell_type": "code",
      "source": [
        "import pandas as pd\n",
        "\n",
        "data = {'col1': [1, 2, 3], 'col2': [4, 5, 6]}\n",
        "df = pd.DataFrame.from_dict(data)"
      ],
      "metadata": {
        "id": "Lbze_LNOWEJt"
      },
      "execution_count": 2,
      "outputs": []
    },
    {
      "cell_type": "code",
      "source": [
        "zip_buffer = io.BytesIO()\n",
        "zip_file = zipfile.ZipFile(zip_buffer, 'w', zipfile.ZIP_DEFLATED)\n",
        "zip_info = zipfile.ZipInfo('data.csv')\n",
        "zip_file.writestr(zip_info, df.to_csv())\n",
        "zip_file.close()"
      ],
      "metadata": {
        "id": "SlamLVs4WE5t"
      },
      "execution_count": 3,
      "outputs": []
    },
    {
      "cell_type": "code",
      "source": [
        "zip_data = zip_buffer.getvalue()"
      ],
      "metadata": {
        "id": "o8MJ7V8jWFwg"
      },
      "execution_count": 4,
      "outputs": []
    },
    {
      "cell_type": "code",
      "source": [
        "zip_data"
      ],
      "metadata": {
        "colab": {
          "base_uri": "https://localhost:8080/"
        },
        "id": "XTZ3tV9EWGh_",
        "outputId": "17396410-7884-4679-c2b4-ae43f9159caa"
      },
      "execution_count": 5,
      "outputs": [
        {
          "output_type": "execute_result",
          "data": {
            "text/plain": [
              "b'PK\\x03\\x04\\x14\\x00\\x00\\x00\\x00\\x00\\x00\\x00!\\x00\\xc1\\xad\\xb6\\xfe\\x1d\\x00\\x00\\x00\\x1d\\x00\\x00\\x00\\x08\\x00\\x00\\x00data.csv,col1,col2\\n0,1,4\\n1,2,5\\n2,3,6\\nPK\\x01\\x02\\x14\\x03\\x14\\x00\\x00\\x00\\x00\\x00\\x00\\x00!\\x00\\xc1\\xad\\xb6\\xfe\\x1d\\x00\\x00\\x00\\x1d\\x00\\x00\\x00\\x08\\x00\\x00\\x00\\x00\\x00\\x00\\x00\\x00\\x00\\x00\\x00\\x80\\x01\\x00\\x00\\x00\\x00data.csvPK\\x05\\x06\\x00\\x00\\x00\\x00\\x01\\x00\\x01\\x006\\x00\\x00\\x00C\\x00\\x00\\x00\\x00\\x00'"
            ]
          },
          "metadata": {},
          "execution_count": 5
        }
      ]
    }
  ]
}
