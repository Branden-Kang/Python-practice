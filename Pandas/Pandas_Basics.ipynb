{
  "nbformat": 4,
  "nbformat_minor": 0,
  "metadata": {
    "colab": {
      "name": "Pandas Basics.ipynb",
      "provenance": [],
      "authorship_tag": "ABX9TyMexI3E2I9kzQ32hpVp6wVg"
    },
    "kernelspec": {
      "name": "python3",
      "display_name": "Python 3"
    }
  },
  "cells": [
    {
      "cell_type": "markdown",
      "metadata": {
        "id": "U-eY4Cs3GHy5",
        "colab_type": "text"
      },
      "source": [
        "[Reference](https://medium.com/analytics-vidhya/python-pandas-basic-functions-61b44e3e5774)"
      ]
    },
    {
      "cell_type": "code",
      "metadata": {
        "id": "ZHaykXPiF77O",
        "colab_type": "code",
        "colab": {
          "base_uri": "https://localhost:8080/",
          "height": 102
        },
        "outputId": "12f7b04c-ec89-49b2-eb5f-026a93084f2d"
      },
      "source": [
        "import pandas as pd\n",
        "import numpy as np\n",
        " \n",
        "s = pd.Series(np.random.randn(4))\n",
        "print(s)"
      ],
      "execution_count": 1,
      "outputs": [
        {
          "output_type": "stream",
          "text": [
            "0    0.286633\n",
            "1   -2.452731\n",
            "2    0.056622\n",
            "3    0.081278\n",
            "dtype: float64\n"
          ],
          "name": "stdout"
        }
      ]
    },
    {
      "cell_type": "code",
      "metadata": {
        "id": "JYwyo619F9Qu",
        "colab_type": "code",
        "colab": {
          "base_uri": "https://localhost:8080/",
          "height": 34
        },
        "outputId": "9963e1ad-7e25-4d51-98c6-1c22084dae95"
      },
      "source": [
        "import pandas as pd\n",
        "import numpy as np\n",
        " \n",
        "s = pd.Series(np.random.randn(4))\n",
        "print(s.axes)"
      ],
      "execution_count": 2,
      "outputs": [
        {
          "output_type": "stream",
          "text": [
            "[RangeIndex(start=0, stop=4, step=1)]\n"
          ],
          "name": "stdout"
        }
      ]
    },
    {
      "cell_type": "code",
      "metadata": {
        "id": "WyrRRHsRF-Iq",
        "colab_type": "code",
        "colab": {
          "base_uri": "https://localhost:8080/",
          "height": 34
        },
        "outputId": "0445b5d4-249c-4eae-86fd-4caafb512a06"
      },
      "source": [
        "import pandas as pd\n",
        "import numpy as np\n",
        " \n",
        "s = pd.Series(np.random.randn(4))\n",
        "print(s.empty)"
      ],
      "execution_count": 3,
      "outputs": [
        {
          "output_type": "stream",
          "text": [
            "False\n"
          ],
          "name": "stdout"
        }
      ]
    },
    {
      "cell_type": "code",
      "metadata": {
        "id": "7ldDWSJSGAXx",
        "colab_type": "code",
        "colab": {
          "base_uri": "https://localhost:8080/",
          "height": 34
        },
        "outputId": "f72e8553-4180-402a-9f78-9c6c97d57236"
      },
      "source": [
        "import pandas as pd\n",
        "import numpy as np\n",
        " \n",
        "s = pd.Series(np.random.randn(4))\n",
        "print(s.ndim)"
      ],
      "execution_count": 4,
      "outputs": [
        {
          "output_type": "stream",
          "text": [
            "1\n"
          ],
          "name": "stdout"
        }
      ]
    },
    {
      "cell_type": "code",
      "metadata": {
        "id": "_Qm4SRajGArz",
        "colab_type": "code",
        "colab": {
          "base_uri": "https://localhost:8080/",
          "height": 34
        },
        "outputId": "198a74f9-c02e-488c-ef1f-b49f0ae764ee"
      },
      "source": [
        "import pandas as pd\n",
        "import numpy as np\n",
        " \n",
        "s = pd.Series(np.random.randn(4))\n",
        "print(s.size)"
      ],
      "execution_count": 5,
      "outputs": [
        {
          "output_type": "stream",
          "text": [
            "4\n"
          ],
          "name": "stdout"
        }
      ]
    },
    {
      "cell_type": "code",
      "metadata": {
        "id": "lTKBPRN9GB-g",
        "colab_type": "code",
        "colab": {
          "base_uri": "https://localhost:8080/",
          "height": 34
        },
        "outputId": "3ca96539-21a5-4ddb-98bd-8fa8d9a127c0"
      },
      "source": [
        "import pandas as pd\n",
        "import numpy as np\n",
        " \n",
        "s = pd.Series(np.random.randn(4))\n",
        "print(s.values)"
      ],
      "execution_count": 6,
      "outputs": [
        {
          "output_type": "stream",
          "text": [
            "[ 0.14228663 -0.10908069 -0.98707961 -0.95880929]\n"
          ],
          "name": "stdout"
        }
      ]
    },
    {
      "cell_type": "code",
      "metadata": {
        "id": "vjy9K-KcGC_M",
        "colab_type": "code",
        "colab": {
          "base_uri": "https://localhost:8080/",
          "height": 68
        },
        "outputId": "435b2426-be52-4127-b5be-41fa42ca03b7"
      },
      "source": [
        "import pandas as pd\n",
        "import numpy as np\n",
        " \n",
        "s = pd.Series(np.random.randn(4))\n",
        "print(s.head(2))"
      ],
      "execution_count": 7,
      "outputs": [
        {
          "output_type": "stream",
          "text": [
            "0   -0.722711\n",
            "1    1.269161\n",
            "dtype: float64\n"
          ],
          "name": "stdout"
        }
      ]
    },
    {
      "cell_type": "code",
      "metadata": {
        "id": "rZf2w8PEGEr6",
        "colab_type": "code",
        "colab": {
          "base_uri": "https://localhost:8080/",
          "height": 68
        },
        "outputId": "518a1c0e-e224-476b-bb27-46ae35ca2ea3"
      },
      "source": [
        "import pandas as pd\n",
        "import numpy as np\n",
        " \n",
        "s = pd.Series(np.random.randn(4))\n",
        "print(s.tail(2))"
      ],
      "execution_count": 8,
      "outputs": [
        {
          "output_type": "stream",
          "text": [
            "2   -0.224926\n",
            "3    1.191647\n",
            "dtype: float64\n"
          ],
          "name": "stdout"
        }
      ]
    },
    {
      "cell_type": "code",
      "metadata": {
        "id": "PO49Lq2aGFzH",
        "colab_type": "code",
        "colab": {}
      },
      "source": [
        ""
      ],
      "execution_count": null,
      "outputs": []
    }
  ]
}