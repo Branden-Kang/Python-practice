{
  "nbformat": 4,
  "nbformat_minor": 0,
  "metadata": {
    "colab": {
      "name": "Don’t use loc/iloc with Loops In Python,.ipynb",
      "provenance": [],
      "authorship_tag": "ABX9TyOpZIpoXLvwMvQ3r2o0+D/s"
    },
    "kernelspec": {
      "name": "python3",
      "display_name": "Python 3"
    },
    "language_info": {
      "name": "python"
    }
  },
  "cells": [
    {
      "cell_type": "markdown",
      "source": [
        "[Reference](https://anmol3015.medium.com/dont-use-loc-iloc-with-loops-in-python-instead-use-this-f9243289dde7)"
      ],
      "metadata": {
        "id": "rX_mTJZ5AUGl"
      }
    },
    {
      "cell_type": "code",
      "execution_count": 1,
      "metadata": {
        "id": "dSv54J3S_35Z"
      },
      "outputs": [],
      "source": [
        "##df.loc[index, column_name]\n",
        "df.loc[1,'a']"
      ]
    },
    {
      "cell_type": "code",
      "source": [
        "##df.loc[index, column_number]\n",
        "df.iloc[1,0]"
      ],
      "metadata": {
        "id": "H2iKbLwyAdPc"
      },
      "execution_count": 2,
      "outputs": []
    },
    {
      "cell_type": "code",
      "source": [
        "import time\n",
        "start = time.time()\n",
        "# Iterating through the DataFrame df\n",
        "for index, row in df.iterrows():\n",
        "        df.loc[index,'c'] = row.a + row.b\n",
        "end = time.time()\n",
        "print(end - start)"
      ],
      "metadata": {
        "id": "ZA-f7E9xAfr6"
      },
      "execution_count": 3,
      "outputs": []
    },
    {
      "cell_type": "code",
      "source": [
        "import time\n",
        "start = time.time()\n",
        "\n",
        "# Iterating through DataFrame \n",
        "for index, row in df.iterrows():\n",
        "    df.at[index,'c'] = row.a + row.bend = time.time()\n",
        "print(end - start)"
      ],
      "metadata": {
        "id": "rvoP-gdnAkcK"
      },
      "execution_count": 4,
      "outputs": []
    },
    {
      "cell_type": "code",
      "source": [
        "df.at[2,'a']\n",
        "### Output: 22\n",
        "df.iat[2,0]"
      ],
      "metadata": {
        "id": "n1Q6kjp0Ao38"
      },
      "execution_count": 5,
      "outputs": []
    },
    {
      "cell_type": "code",
      "source": [
        "## This will give an error as we are trying to access multiple rows\n",
        "df.at[:3,'a']\n",
        "### Output: ValueError: At based indexing on an integer index can only have integer indexers"
      ],
      "metadata": {
        "id": "4Y1kyTshAsDv"
      },
      "execution_count": 6,
      "outputs": []
    }
  ]
}
