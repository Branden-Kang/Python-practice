{
  "nbformat": 4,
  "nbformat_minor": 0,
  "metadata": {
    "colab": {
      "provenance": [],
      "authorship_tag": "ABX9TyMro4NU+P5zUqCMnPbujO59"
    },
    "kernelspec": {
      "name": "python3",
      "display_name": "Python 3"
    },
    "language_info": {
      "name": "python"
    }
  },
  "cells": [
    {
      "cell_type": "markdown",
      "source": [
        "[Reference](https://python.plainenglish.io/these-methods-will-change-how-you-use-pandas-921e4669271f)"
      ],
      "metadata": {
        "id": "wazcwDFL8o1r"
      }
    },
    {
      "cell_type": "code",
      "execution_count": 1,
      "metadata": {
        "id": "Kjj6-VPb8LQV"
      },
      "outputs": [],
      "source": [
        "import numpy as np\n",
        "import pandas as pd\n",
        "\n",
        "n = 1_000_000\n",
        "\n",
        "df = pd.DataFrame({\n",
        "    'height': 1 + 1.3 * np.random.random(n),\n",
        "    'weight': 40 + 260 * np.random.random(n),\n",
        "    'hip_circumference': 94 + 14 * np.random.random(n)\n",
        "})"
      ]
    },
    {
      "cell_type": "markdown",
      "source": [
        "# 1 - Filtering a DataFrame\n"
      ],
      "metadata": {
        "id": "3PNRPdBu8stV"
      }
    },
    {
      "cell_type": "code",
      "source": [
        "bmi = df['weight'] / (df['height'] ** 2)\n",
        "new_df = df[bmi >= 25].copy()"
      ],
      "metadata": {
        "id": "OODplMN08ro1"
      },
      "execution_count": 2,
      "outputs": []
    },
    {
      "cell_type": "code",
      "source": [
        "new_df = df.query('(weight / height ** 2) >= 25')"
      ],
      "metadata": {
        "id": "ukSjZlpb8uRy"
      },
      "execution_count": 3,
      "outputs": []
    },
    {
      "cell_type": "code",
      "source": [
        "bmi_threshold = 25\n",
        "new_df = df.query('(weight / height ** 2) >= @bmi_threshold')"
      ],
      "metadata": {
        "id": "ogcciXRk8vab"
      },
      "execution_count": 4,
      "outputs": []
    },
    {
      "cell_type": "code",
      "source": [
        "bmi_threshold = 25\n",
        "new_df = df.query(f'(weight / height ** 2) >= {bmi_threshold}')"
      ],
      "metadata": {
        "id": "3WXRVUv-8xSf"
      },
      "execution_count": 5,
      "outputs": []
    },
    {
      "cell_type": "markdown",
      "source": [
        "# 2 - Column Assignment\n"
      ],
      "metadata": {
        "id": "BDqkGg5C8zgk"
      }
    },
    {
      "cell_type": "code",
      "source": [
        "df['Body Adiposity Index'] = df['hip_circumference'] / (df['height'] ** (3/2)) - 18"
      ],
      "metadata": {
        "id": "OEm2k1vd8yli"
      },
      "execution_count": 6,
      "outputs": []
    },
    {
      "cell_type": "code",
      "source": [
        "df.eval('`Body Adiposity Index` = hip_circumference / height ** (3/2) - 18', inplace=True)"
      ],
      "metadata": {
        "id": "t-Hn88Op80u6"
      },
      "execution_count": 7,
      "outputs": []
    }
  ]
}
