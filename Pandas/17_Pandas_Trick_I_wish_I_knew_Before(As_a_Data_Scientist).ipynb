{
  "nbformat": 4,
  "nbformat_minor": 0,
  "metadata": {
    "colab": {
      "provenance": [],
      "authorship_tag": "ABX9TyMVWkhFMbCv6yQYLW8hNBRs"
    },
    "kernelspec": {
      "name": "python3",
      "display_name": "Python 3"
    },
    "language_info": {
      "name": "python"
    }
  },
  "cells": [
    {
      "cell_type": "markdown",
      "source": [
        "[Reference](https://pub.towardsai.net/17-pandas-trick-i-wish-i-knew-before-as-a-data-scientist-16ab7b37513a)"
      ],
      "metadata": {
        "id": "RsYP4VDYV4B5"
      }
    },
    {
      "cell_type": "code",
      "execution_count": 1,
      "metadata": {
        "id": "c3SkV9ILV2nF"
      },
      "outputs": [],
      "source": [
        "import pandas as pd\n",
        "import seaborn as sns\n",
        "import numpy as np\n",
        "\n",
        "df = sns.load_dataset('titanic')\n",
        "df = df.select_dtypes(include=[np.number])  # Select only numeric columns\n",
        "\n",
        "# Multiply all numeric values by 10\n",
        "df = df.applymap(lambda x: x*10)"
      ]
    },
    {
      "cell_type": "code",
      "source": [
        "df = sns.load_dataset('flights')\n",
        "df.set_index('year', inplace=True)  # Set year as the index\n",
        "\n",
        "# Calculate the 3-year rolling average of passengers\n",
        "df['rolling_avg'] = df['passengers'].rolling(3).mean()"
      ],
      "metadata": {
        "id": "CUEXdoyxV7LL"
      },
      "execution_count": 2,
      "outputs": []
    },
    {
      "cell_type": "code",
      "source": [
        "df = sns.load_dataset('titanic')\n",
        "\n",
        "df = (df\n",
        "      .rename(columns={'class': 'passenger_class'})\n",
        "      .assign(age_in_months=lambda x: x.age*12))"
      ],
      "metadata": {
        "id": "kGAshM9MV8Rp"
      },
      "execution_count": 3,
      "outputs": []
    },
    {
      "cell_type": "code",
      "source": [
        "df = sns.load_dataset('titanic')\n",
        "\n",
        "# Drop columns with missing values\n",
        "df = df.dropna(axis=1)"
      ],
      "metadata": {
        "id": "EbwzU9jEV9Ij"
      },
      "execution_count": 4,
      "outputs": []
    },
    {
      "cell_type": "code",
      "source": [
        "df = sns.load_dataset('titanic')\n",
        "\n",
        "# Convert 'sex' and 'embarked' to category datatype\n",
        "df[['sex', 'embarked']] = df[['sex', 'embarked']].astype('category')"
      ],
      "metadata": {
        "id": "DJinsJDIV-ES"
      },
      "execution_count": 5,
      "outputs": []
    },
    {
      "cell_type": "code",
      "source": [
        "df = sns.load_dataset('titanic')\n",
        "\n",
        "# Find most frequent values in 'embark_town'\n",
        "most_frequent = df['embark_town'].value_counts().idxmax()\n",
        "print(f\"Most frequent embark town: {most_frequent}\")"
      ],
      "metadata": {
        "colab": {
          "base_uri": "https://localhost:8080/"
        },
        "id": "0YHx9oqJV_DI",
        "outputId": "5d6a1a86-ee7d-447a-9903-bc42d8db85d5"
      },
      "execution_count": 6,
      "outputs": [
        {
          "output_type": "stream",
          "name": "stdout",
          "text": [
            "Most frequent embark town: Southampton\n"
          ]
        }
      ]
    },
    {
      "cell_type": "code",
      "source": [
        "df = sns.load_dataset('titanic')\n",
        "\n",
        "# Apply different aggregations to different columns\n",
        "aggregated = df.agg({\n",
        "    'age': ['min', 'max', 'mean'],\n",
        "    'fare': ['sum', 'mean']\n",
        "})\n",
        "print(aggregated)"
      ],
      "metadata": {
        "colab": {
          "base_uri": "https://localhost:8080/"
        },
        "id": "Mf3f394aWAfh",
        "outputId": "54184dcb-5d5c-45c2-d533-6a709cd0e7ff"
      },
      "execution_count": 7,
      "outputs": [
        {
          "output_type": "stream",
          "name": "stdout",
          "text": [
            "            age          fare\n",
            "min    0.420000           NaN\n",
            "max   80.000000           NaN\n",
            "mean  29.699118     32.204208\n",
            "sum         NaN  28693.949300\n"
          ]
        }
      ]
    },
    {
      "cell_type": "code",
      "source": [
        "df = sns.load_dataset('titanic')\n",
        "\n",
        "# Sort by 'class' and then 'fare'\n",
        "df = df.sort_values(by=['class', 'fare'])"
      ],
      "metadata": {
        "id": "UBFQrKjZWB8w"
      },
      "execution_count": 8,
      "outputs": []
    },
    {
      "cell_type": "code",
      "source": [
        "df = sns.load_dataset('titanic')\n",
        "\n",
        "# Filter rows where 'class' is either 'First' or 'Second'\n",
        "df = df[df['class'].isin(['First', 'Second'])]"
      ],
      "metadata": {
        "id": "zzsec2wxWDVi"
      },
      "execution_count": 9,
      "outputs": []
    },
    {
      "cell_type": "code",
      "source": [
        "df = sns.load_dataset('titanic')\n",
        "\n",
        "# Group by 'class' and get data for 'First' class\n",
        "grouped = df.groupby('class')\n",
        "first_class_data = grouped.get_group('First')"
      ],
      "metadata": {
        "id": "ysG_Ci7IWEj4"
      },
      "execution_count": 10,
      "outputs": []
    },
    {
      "cell_type": "code",
      "source": [
        "df = sns.load_dataset('titanic')\n",
        "\n",
        "# Select a random sample of 5 rows\n",
        "sample = df.sample(5)"
      ],
      "metadata": {
        "id": "prJ_R16XWGLz"
      },
      "execution_count": 11,
      "outputs": []
    },
    {
      "cell_type": "code",
      "source": [
        "df = sns.load_dataset('titanic')\n",
        "\n",
        "# Set 'class' as the index\n",
        "df.set_index('class', inplace=True)"
      ],
      "metadata": {
        "id": "woO9iXB1WHHR"
      },
      "execution_count": 12,
      "outputs": []
    },
    {
      "cell_type": "code",
      "source": [
        "df = sns.load_dataset('titanic')\n",
        "\n",
        "# Rename all columns to lower case\n",
        "df.columns = df.columns.str.lower()"
      ],
      "metadata": {
        "id": "b6dSon2iWH7R"
      },
      "execution_count": 13,
      "outputs": []
    },
    {
      "cell_type": "code",
      "source": [
        "df = sns.load_dataset('titanic')\n",
        "\n",
        "# Get unique values in 'class'\n",
        "unique_classes = df['class'].unique()"
      ],
      "metadata": {
        "id": "Oxm2dp0UWIno"
      },
      "execution_count": 14,
      "outputs": []
    },
    {
      "cell_type": "code",
      "source": [
        "df = sns.load_dataset('planets')\n",
        "\n",
        "# Split 'method' into two columns\n",
        "df[['method_1', 'method_2']] = df['method'].str.split(' ', 1, expand=True)"
      ],
      "metadata": {
        "colab": {
          "base_uri": "https://localhost:8080/"
        },
        "id": "868JrhMsWJcC",
        "outputId": "00382903-041f-4749-e2cb-b1d8efe5c251"
      },
      "execution_count": 15,
      "outputs": [
        {
          "output_type": "stream",
          "name": "stderr",
          "text": [
            "<ipython-input-15-94ce915cf9c3>:4: FutureWarning: In a future version of pandas all arguments of StringMethods.split except for the argument 'pat' will be keyword-only.\n",
            "  df[['method_1', 'method_2']] = df['method'].str.split(' ', 1, expand=True)\n"
          ]
        }
      ]
    },
    {
      "cell_type": "code",
      "source": [
        "df = sns.load_dataset('titanic')\n",
        "\n",
        "# Get value at specific location\n",
        "value = df.at[5, 'age']"
      ],
      "metadata": {
        "id": "OwcHMqtsWKWb"
      },
      "execution_count": 16,
      "outputs": []
    },
    {
      "cell_type": "code",
      "source": [
        "df = sns.load_dataset('titanic')\n",
        "\n",
        "# Create a pivot table\n",
        "pivot_table = df.pivot_table(values='survived', index='class', columns='sex')"
      ],
      "metadata": {
        "id": "ki5mbz2TWLKC"
      },
      "execution_count": 17,
      "outputs": []
    }
  ]
}
