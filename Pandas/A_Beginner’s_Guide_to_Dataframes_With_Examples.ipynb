{
  "nbformat": 4,
  "nbformat_minor": 0,
  "metadata": {
    "colab": {
      "provenance": [],
      "authorship_tag": "ABX9TyO1DmWWq18KuttET3xvEpUr"
    },
    "kernelspec": {
      "name": "python3",
      "display_name": "Python 3"
    },
    "language_info": {
      "name": "python"
    }
  },
  "cells": [
    {
      "cell_type": "markdown",
      "source": [
        "[Reference](https://medium.com/@jscvcds/a-beginners-guide-to-dataframes-with-examples-9aa6bf53fc06)"
      ],
      "metadata": {
        "id": "t7IJD7gwBCXT"
      }
    },
    {
      "cell_type": "code",
      "execution_count": 1,
      "metadata": {
        "colab": {
          "base_uri": "https://localhost:8080/"
        },
        "id": "JY9t6tYO_ggu",
        "outputId": "897dbe1d-cbc4-4e65-df6c-44bd48154c0b"
      },
      "outputs": [
        {
          "output_type": "stream",
          "name": "stdout",
          "text": [
            "    Name  Age      City\n",
            "0   John   25  New York\n",
            "1   Emma   28    London\n",
            "2  Peter   22     Paris\n",
            "3   Lisa   30    Sydney\n"
          ]
        }
      ],
      "source": [
        "import pandas as pd\n",
        "\n",
        "# Creating a dataframe from a dictionary\n",
        "data = {'Name': ['John', 'Emma', 'Peter', 'Lisa'],\n",
        "       'Age': [25, 28, 22, 30],\n",
        "       'City': ['New York', 'London', 'Paris', 'Sydney']}\n",
        "df = pd.DataFrame(data)\n",
        "\n",
        "# Displaying the dataframe\n",
        "print(df)"
      ]
    },
    {
      "cell_type": "code",
      "source": [
        "# Filtering the dataframe based on a condition\n",
        "filtered_df = df[df['Age'] > 25]\n",
        "\n",
        "# Displaying the filtered dataframe\n",
        "print(filtered_df)"
      ],
      "metadata": {
        "colab": {
          "base_uri": "https://localhost:8080/"
        },
        "id": "S7j4VXLRBEtK",
        "outputId": "912939b8-cceb-409e-d6b1-695eec249265"
      },
      "execution_count": 3,
      "outputs": [
        {
          "output_type": "stream",
          "name": "stdout",
          "text": [
            "   Name  Age    City\n",
            "1  Emma   28  London\n",
            "3  Lisa   30  Sydney\n"
          ]
        }
      ]
    },
    {
      "cell_type": "code",
      "source": [
        "# Sorting the dataframe based on the age in descending order\n",
        "sorted_df = df.sort_values(by='Age', ascending=False)\n",
        "\n",
        "# Displaying the sorted dataframe\n",
        "print(sorted_df)"
      ],
      "metadata": {
        "colab": {
          "base_uri": "https://localhost:8080/"
        },
        "id": "nBmGNbHhBFxk",
        "outputId": "6a4b0160-0c01-48d5-bf70-94224d70ff5f"
      },
      "execution_count": 4,
      "outputs": [
        {
          "output_type": "stream",
          "name": "stdout",
          "text": [
            "    Name  Age      City\n",
            "3   Lisa   30    Sydney\n",
            "1   Emma   28    London\n",
            "0   John   25  New York\n",
            "2  Peter   22     Paris\n"
          ]
        }
      ]
    },
    {
      "cell_type": "code",
      "source": [
        "# Creating a second dataframe\n",
        "data2 = {'Name': ['John', 'Emma', 'Michael'],\n",
        "        'Salary': [5000, 6000, 4500]}\n",
        "df2 = pd.DataFrame(data2)\n",
        "\n",
        "# Merging the two dataframes based on the 'Name' column\n",
        "merged_df = pd.merge(df, df2, on='Name')\n",
        "\n",
        "# Displaying the merged dataframe\n",
        "print(merged_df)"
      ],
      "metadata": {
        "colab": {
          "base_uri": "https://localhost:8080/"
        },
        "id": "VbZ8hFIQBKZj",
        "outputId": "01ce4842-1067-43ee-a6db-c5499673a095"
      },
      "execution_count": 5,
      "outputs": [
        {
          "output_type": "stream",
          "name": "stdout",
          "text": [
            "   Name  Age      City  Salary\n",
            "0  John   25  New York    5000\n",
            "1  Emma   28    London    6000\n"
          ]
        }
      ]
    },
    {
      "cell_type": "code",
      "source": [
        "# Grouping the dataframe by city and calculating the average age\n",
        "grouped_df = df.groupby('City').mean()\n",
        "\n",
        "# Displaying the grouped dataframe\n",
        "print(grouped_df)"
      ],
      "metadata": {
        "colab": {
          "base_uri": "https://localhost:8080/"
        },
        "id": "AicfCv11BN9I",
        "outputId": "d1211c4d-ca8b-4cfb-bcce-84eb8577058a"
      },
      "execution_count": 6,
      "outputs": [
        {
          "output_type": "stream",
          "name": "stdout",
          "text": [
            "           Age\n",
            "City          \n",
            "London    28.0\n",
            "New York  25.0\n",
            "Paris     22.0\n",
            "Sydney    30.0\n"
          ]
        },
        {
          "output_type": "stream",
          "name": "stderr",
          "text": [
            "<ipython-input-6-52797d35f45d>:2: FutureWarning: The default value of numeric_only in DataFrameGroupBy.mean is deprecated. In a future version, numeric_only will default to False. Either specify numeric_only or select only columns which should be valid for the function.\n",
            "  grouped_df = df.groupby('City').mean()\n"
          ]
        }
      ]
    }
  ]
}
