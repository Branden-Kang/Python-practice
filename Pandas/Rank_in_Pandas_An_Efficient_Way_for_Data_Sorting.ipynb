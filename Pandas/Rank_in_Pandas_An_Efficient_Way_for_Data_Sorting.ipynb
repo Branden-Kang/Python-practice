{
  "nbformat": 4,
  "nbformat_minor": 0,
  "metadata": {
    "colab": {
      "provenance": [],
      "authorship_tag": "ABX9TyO5hWwZQT5ocQlFnlPUTgbL"
    },
    "kernelspec": {
      "name": "python3",
      "display_name": "Python 3"
    },
    "language_info": {
      "name": "python"
    }
  },
  "cells": [
    {
      "cell_type": "markdown",
      "source": [
        "[Reference](https://medium.com/@tubelwj/rank-in-pandas-an-efficient-way-for-data-sorting-a842dcac7fc0)"
      ],
      "metadata": {
        "id": "OxhifAcPQ9HN"
      }
    },
    {
      "cell_type": "code",
      "execution_count": 1,
      "metadata": {
        "colab": {
          "base_uri": "https://localhost:8080/"
        },
        "id": "i2fYd_laQ0rM",
        "outputId": "4132ca1a-f5e6-4e11-e245-365c02ba9e3a"
      },
      "outputs": [
        {
          "output_type": "stream",
          "name": "stdout",
          "text": [
            "     A   B   C   D   E\n",
            "0   20  15  30   5   1\n",
            "1   40  35  30  25  21\n",
            "2   60  85  50  45  71\n",
            "3   80  75  70  65  61\n",
            "4  100  95  90  85  81\n"
          ]
        }
      ],
      "source": [
        "import pandas as pd\n",
        "\n",
        "# Create a simple DataFrame with specific values\n",
        "df = pd.DataFrame({\n",
        "    'A': [20, 40, 60, 80, 100],  # Specified values for column 'A'\n",
        "    'B': [15, 35, 85, 75, 95],   # Specified values for column 'B'\n",
        "    'C': [30, 30, 50, 70, 90],   # Specified values for column 'C'\n",
        "    'D': [5, 25, 45, 65, 85],    # Specified values for column 'D'\n",
        "    'E': [1, 21, 71, 61, 81]     # Specified values for column 'E'\n",
        "})\n",
        "\n",
        "# Display the DataFrame\n",
        "print(df)"
      ]
    },
    {
      "cell_type": "code",
      "source": [
        "df[['Rank_A','Rank_B']]=df[['A','B']].rank()\n",
        "print(df)"
      ],
      "metadata": {
        "colab": {
          "base_uri": "https://localhost:8080/"
        },
        "id": "H8lPR0xTQ_2N",
        "outputId": "d37149df-78ab-4290-9b51-2e69ef55fe41"
      },
      "execution_count": 2,
      "outputs": [
        {
          "output_type": "stream",
          "name": "stdout",
          "text": [
            "     A   B   C   D   E  Rank_A  Rank_B\n",
            "0   20  15  30   5   1     1.0     1.0\n",
            "1   40  35  30  25  21     2.0     2.0\n",
            "2   60  85  50  45  71     3.0     4.0\n",
            "3   80  75  70  65  61     4.0     3.0\n",
            "4  100  95  90  85  81     5.0     5.0\n"
          ]
        }
      ]
    },
    {
      "cell_type": "code",
      "source": [
        "import pandas as pd\n",
        "\n",
        "# Create a simple DataFrame with specific values\n",
        "df = pd.DataFrame({\n",
        "    'A': [120, 40, 40, 30, 60],  # Specified values for column 'A'\n",
        "    'B': [15, 35, 55, 75, 95],   # Specified values for column 'B'\n",
        "    'C': [10, 30, 50, 70, 90],   # Specified values for column 'C'\n",
        "    'D': [5, 25, 45, 65, 85],    # Specified values for column 'D'\n",
        "    'E': [1, 21, 41, 61, 81]     # Specified values for column 'E'\n",
        "})\n",
        "\n",
        "# Display the DataFrame\n",
        "print(df)"
      ],
      "metadata": {
        "colab": {
          "base_uri": "https://localhost:8080/"
        },
        "id": "93jOs0cMRA6d",
        "outputId": "f0dc481f-012d-4f38-acce-e63ee3c37f22"
      },
      "execution_count": 3,
      "outputs": [
        {
          "output_type": "stream",
          "name": "stdout",
          "text": [
            "     A   B   C   D   E\n",
            "0  120  15  10   5   1\n",
            "1   40  35  30  25  21\n",
            "2   40  55  50  45  41\n",
            "3   30  75  70  65  61\n",
            "4   60  95  90  85  81\n"
          ]
        }
      ]
    },
    {
      "cell_type": "code",
      "source": [
        "df['ranked_df_A_min'] = df['A'].rank(method='min')\n",
        "df['ranked_df_A_max'] = df['A'].rank(method='max')\n",
        "df['ranked_df_A_first'] = df['A'].rank(method='first')\n",
        "print(df)"
      ],
      "metadata": {
        "colab": {
          "base_uri": "https://localhost:8080/"
        },
        "id": "oh5WecceRCgZ",
        "outputId": "a761134f-54b6-4232-ea1e-77e4337396c2"
      },
      "execution_count": 4,
      "outputs": [
        {
          "output_type": "stream",
          "name": "stdout",
          "text": [
            "     A   B   C   D   E  ranked_df_A_min  ranked_df_A_max  ranked_df_A_first\n",
            "0  120  15  10   5   1              5.0              5.0                5.0\n",
            "1   40  35  30  25  21              2.0              3.0                2.0\n",
            "2   40  55  50  45  41              2.0              3.0                3.0\n",
            "3   30  75  70  65  61              1.0              1.0                1.0\n",
            "4   60  95  90  85  81              4.0              4.0                4.0\n"
          ]
        }
      ]
    },
    {
      "cell_type": "code",
      "source": [
        "import pandas as pd\n",
        "\n",
        "# Create a simple DataFrame with specific values\n",
        "df = pd.DataFrame({\n",
        "    'A': [120, 50, 40, 30, 60],  # Specified values for column 'A'\n",
        "    'B': [15, 35, 55, 75, 95],   # Specified values for column 'B'\n",
        "    'C': [10, 30, 50, 70, 90],   # Specified values for column 'C'\n",
        "    'D': [5, 25, 45, 65, 85],    # Specified values for column 'D'\n",
        "    'E': [1, 21, 41, 61, 81]     # Specified values for column 'E'\n",
        "})\n",
        "\n",
        "# Ascending order ranking\n",
        "df['ranked_df_A_ascending'] = df['A'].rank(ascending=True)\n",
        "\n",
        "# Descending order ranking\n",
        "df['ranked_df_A_descending'] = df['A'].rank(ascending=False)\n",
        "\n",
        "print(df[['A', 'ranked_df_A_ascending', 'ranked_df_A_descending']])"
      ],
      "metadata": {
        "colab": {
          "base_uri": "https://localhost:8080/"
        },
        "id": "JbkY2Do_RD3O",
        "outputId": "90bcd7f8-4ec9-4a31-810e-90f512db9aad"
      },
      "execution_count": 5,
      "outputs": [
        {
          "output_type": "stream",
          "name": "stdout",
          "text": [
            "     A  ranked_df_A_ascending  ranked_df_A_descending\n",
            "0  120                    5.0                     1.0\n",
            "1   50                    3.0                     3.0\n",
            "2   40                    2.0                     4.0\n",
            "3   30                    1.0                     5.0\n",
            "4   60                    4.0                     2.0\n"
          ]
        }
      ]
    }
  ]
}
