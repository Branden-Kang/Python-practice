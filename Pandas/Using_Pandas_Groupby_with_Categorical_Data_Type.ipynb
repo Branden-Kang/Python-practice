{
  "nbformat": 4,
  "nbformat_minor": 0,
  "metadata": {
    "colab": {
      "provenance": [],
      "authorship_tag": "ABX9TyPBy7ZvoPPTjkNGmh/0FudY"
    },
    "kernelspec": {
      "name": "python3",
      "display_name": "Python 3"
    },
    "language_info": {
      "name": "python"
    }
  },
  "cells": [
    {
      "cell_type": "markdown",
      "source": [
        "[Reference](https://towardsdatascience.com/be-careful-when-using-pandas-groupby-with-categorical-data-type-a1d31f66b162)"
      ],
      "metadata": {
        "id": "vmXAJFOnvpaX"
      }
    },
    {
      "cell_type": "code",
      "execution_count": 1,
      "metadata": {
        "colab": {
          "base_uri": "https://localhost:8080/"
        },
        "id": "TCxnUY2CvR5P",
        "outputId": "9daf98e1-9657-4e8c-e77e-c647a1dc3351"
      },
      "outputs": [
        {
          "output_type": "execute_result",
          "data": {
            "text/plain": [
              "24000128"
            ]
          },
          "metadata": {},
          "execution_count": 1
        }
      ],
      "source": [
        "import pandas as pd\n",
        "names = pd.Series([\"John\", \"Jane\", \"James\"] * 1000000, dtype=\"string\")\n",
        "names.memory_usage()"
      ]
    },
    {
      "cell_type": "code",
      "source": [
        "names = pd.Series([\"John\", \"Jane\", \"James\"] * 1000000, dtype=\"category\")\n",
        "names.memory_usage()"
      ],
      "metadata": {
        "colab": {
          "base_uri": "https://localhost:8080/"
        },
        "id": "Mo_qmNqJvsmC",
        "outputId": "96a1ec86-3086-46a6-df26-65a8d5f20a60"
      },
      "execution_count": 2,
      "outputs": [
        {
          "output_type": "execute_result",
          "data": {
            "text/plain": [
              "3000260"
            ]
          },
          "metadata": {},
          "execution_count": 2
        }
      ]
    },
    {
      "cell_type": "code",
      "source": [
        "df = pd.DataFrame({\n",
        "    \"col1\": pd.Categorical(\n",
        "        [\"A\", \"A\", \"B\", \"A\", \"B\"], \n",
        "        categories=[\"A\",\"B\",\"C\"], \n",
        "        ordered=False\n",
        "    ),\n",
        "    \"col2\": [10, 14, 20, 25, 23]\n",
        "})"
      ],
      "metadata": {
        "id": "R8E1qjdsvuiD"
      },
      "execution_count": 3,
      "outputs": []
    },
    {
      "cell_type": "code",
      "source": [
        "df[\"col1\"]"
      ],
      "metadata": {
        "colab": {
          "base_uri": "https://localhost:8080/"
        },
        "id": "O9glhcFgvyv8",
        "outputId": "2dd06ba8-70f2-4b09-a91e-8299b32190a2"
      },
      "execution_count": 4,
      "outputs": [
        {
          "output_type": "execute_result",
          "data": {
            "text/plain": [
              "0    A\n",
              "1    A\n",
              "2    B\n",
              "3    A\n",
              "4    B\n",
              "Name: col1, dtype: category\n",
              "Categories (3, object): ['A', 'B', 'C']"
            ]
          },
          "metadata": {},
          "execution_count": 4
        }
      ]
    },
    {
      "cell_type": "code",
      "source": [
        "df.groupby(\"col1\")[\"col2\"].sum()"
      ],
      "metadata": {
        "colab": {
          "base_uri": "https://localhost:8080/"
        },
        "id": "pmp1zqzPvy5s",
        "outputId": "22992c50-d8ee-4ee5-a0ba-561f6e4d8f7c"
      },
      "execution_count": 5,
      "outputs": [
        {
          "output_type": "execute_result",
          "data": {
            "text/plain": [
              "col1\n",
              "A    49\n",
              "B    43\n",
              "C     0\n",
              "Name: col2, dtype: int64"
            ]
          },
          "metadata": {},
          "execution_count": 5
        }
      ]
    },
    {
      "cell_type": "code",
      "source": [
        "df.groupby(\"col1\", observed=True)[\"col2\"].sum()"
      ],
      "metadata": {
        "colab": {
          "base_uri": "https://localhost:8080/"
        },
        "id": "Au5WE2aVv0CN",
        "outputId": "98448795-246f-43cb-96a7-16e8ab27dc59"
      },
      "execution_count": 6,
      "outputs": [
        {
          "output_type": "execute_result",
          "data": {
            "text/plain": [
              "col1\n",
              "A    49\n",
              "B    43\n",
              "Name: col2, dtype: int64"
            ]
          },
          "metadata": {},
          "execution_count": 6
        }
      ]
    },
    {
      "cell_type": "code",
      "source": [
        "import numpy as np\n",
        "df.loc[5,:] = [np.nan, 30]"
      ],
      "metadata": {
        "id": "uhbdMhTMv1ij"
      },
      "execution_count": 8,
      "outputs": []
    },
    {
      "cell_type": "code",
      "source": [
        "df.groupby(\"col1\", dropna=False)[\"col2\"].sum()"
      ],
      "metadata": {
        "colab": {
          "base_uri": "https://localhost:8080/"
        },
        "id": "-qNYyuewv6e0",
        "outputId": "8bd9b6e1-4068-4c34-fd25-65460ac8993d"
      },
      "execution_count": 9,
      "outputs": [
        {
          "output_type": "execute_result",
          "data": {
            "text/plain": [
              "col1\n",
              "A    49.0\n",
              "B    43.0\n",
              "C     0.0\n",
              "Name: col2, dtype: float64"
            ]
          },
          "metadata": {},
          "execution_count": 9
        }
      ]
    },
    {
      "cell_type": "code",
      "source": [
        "df.groupby(\"col1\", observed=True, dropna=False)[\"col2\"].sum()"
      ],
      "metadata": {
        "colab": {
          "base_uri": "https://localhost:8080/"
        },
        "id": "CzD_Gx_vv8NB",
        "outputId": "2c66118a-25bd-4cdb-f0dd-2778a0bafe34"
      },
      "execution_count": 10,
      "outputs": [
        {
          "output_type": "execute_result",
          "data": {
            "text/plain": [
              "col1\n",
              "A    49.0\n",
              "B    43.0\n",
              "Name: col2, dtype: float64"
            ]
          },
          "metadata": {},
          "execution_count": 10
        }
      ]
    },
    {
      "cell_type": "code",
      "source": [
        "df[\"col1\"] = df[\"col1\"].astype(\"string\")\n",
        "df.groupby(\"col1\", dropna=False)[\"col2\"].sum()"
      ],
      "metadata": {
        "colab": {
          "base_uri": "https://localhost:8080/"
        },
        "id": "gkoCfb6sv9Tj",
        "outputId": "75ece607-2588-4044-cdc7-a64b45831181"
      },
      "execution_count": 11,
      "outputs": [
        {
          "output_type": "execute_result",
          "data": {
            "text/plain": [
              "col1\n",
              "A      49.0\n",
              "B      43.0\n",
              "NaN    30.0\n",
              "Name: col2, dtype: float64"
            ]
          },
          "metadata": {},
          "execution_count": 11
        }
      ]
    }
  ]
}
