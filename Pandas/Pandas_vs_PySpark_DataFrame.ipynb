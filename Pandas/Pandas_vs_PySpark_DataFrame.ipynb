{
  "nbformat": 4,
  "nbformat_minor": 0,
  "metadata": {
    "colab": {
      "name": "Pandas vs PySpark DataFrame.ipynb",
      "provenance": [],
      "authorship_tag": "ABX9TyOK14vWsfevKSDYITnxS2ha"
    },
    "kernelspec": {
      "name": "python3",
      "display_name": "Python 3"
    },
    "language_info": {
      "name": "python"
    }
  },
  "cells": [
    {
      "cell_type": "markdown",
      "metadata": {
        "id": "hZQpSC-Mu_O_"
      },
      "source": [
        "[Reference](https://medium.com/featurepreneur/pandas-vs-pyspark-dataframe-1722cb987fbd)"
      ]
    },
    {
      "cell_type": "code",
      "metadata": {
        "colab": {
          "base_uri": "https://localhost:8080/"
        },
        "id": "H1rqA6WWu8p9",
        "outputId": "d17e402b-aaad-4dac-b1d3-2c60273cb01d"
      },
      "source": [
        "import pandas as pd    \n",
        "data = [[\"James\",\"\",\"Smith\",30,\"M\",60000], \n",
        "        [\"Michael\",\"Rose\",\"\",50,\"M\",70000], \n",
        "        [\"Robert\",\"\",\"Williams\",42,\"\",400000], \n",
        "        [\"Maria\",\"Anne\",\"Jones\",38,\"F\",500000], \n",
        "        [\"Jen\",\"Mary\",\"Brown\",45,None,0]] \n",
        "columns=['First Name','Middle Name','Last Name','Age','Gender','Salary']\n",
        "\n",
        "# Create the pandas DataFrame \n",
        "pandasDF=pd.DataFrame(data=data, columns=columns) \n",
        "  \n",
        "# print dataframe. \n",
        "print(pandasDF)"
      ],
      "execution_count": 1,
      "outputs": [
        {
          "output_type": "stream",
          "name": "stdout",
          "text": [
            "  First Name Middle Name Last Name  Age Gender  Salary\n",
            "0      James                 Smith   30      M   60000\n",
            "1    Michael        Rose             50      M   70000\n",
            "2     Robert              Williams   42         400000\n",
            "3      Maria        Anne     Jones   38      F  500000\n",
            "4        Jen        Mary     Brown   45   None       0\n"
          ]
        }
      ]
    },
    {
      "cell_type": "code",
      "metadata": {
        "id": "0xe6frPwvEAX"
      },
      "source": [
        "from pyspark.sql import SparkSession\n",
        "# Create SparkSession\n",
        "spark = SparkSession.builder \\\n",
        "               .appName('SparkByExamples.com') \\\n",
        "               .getOrCreate()\n",
        "\n",
        "data = [(\"James\",\"\",\"Smith\",30,\"M\",60000),\n",
        "        (\"Michael\",\"Rose\",\"\",50,\"M\",70000),\n",
        "        (\"Robert\",\"\",\"Williams\",42,\"\",400000),\n",
        "        (\"Maria\",\"Anne\",\"Jones\",38,\"F\",500000),\n",
        "        (\"Jen\",\"Mary\",\"Brown\",45,\"F\",0)]\n",
        "\n",
        "columns = [\"first_name\",\"middle_name\",\"last_name\",\"Age\",\"gender\",\"salary\"]\n",
        "pysparkDF = spark.createDataFrame(data = data, schema = columns)\n",
        "pysparkDF.printSchema()\n",
        "pysparkDF.show(truncate=False)"
      ],
      "execution_count": 3,
      "outputs": []
    }
  ]
}