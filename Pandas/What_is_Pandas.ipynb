{
  "nbformat": 4,
  "nbformat_minor": 0,
  "metadata": {
    "colab": {
      "name": "What is Pandas.ipynb",
      "provenance": [],
      "authorship_tag": "ABX9TyN8IuViIa4e5e4Mpzp7bmOv"
    },
    "kernelspec": {
      "name": "python3",
      "display_name": "Python 3"
    }
  },
  "cells": [
    {
      "cell_type": "markdown",
      "metadata": {
        "id": "S8Tz1Dv4Edxv"
      },
      "source": [
        "# What is a Series?"
      ]
    },
    {
      "cell_type": "code",
      "metadata": {
        "id": "vUKYwOzZDrNu"
      },
      "source": [
        "import pandas as pd\n",
        "import numpy as np"
      ],
      "execution_count": 1,
      "outputs": []
    },
    {
      "cell_type": "code",
      "metadata": {
        "id": "Hvv8bYCvDx4l",
        "outputId": "a1d5d48d-0abd-4df7-ebda-93a29176fe13",
        "colab": {
          "base_uri": "https://localhost:8080/",
          "height": 85
        }
      },
      "source": [
        "series = pd.Series(data=[1, 2, 3], index = ['one','two','three'])\n",
        "series"
      ],
      "execution_count": 4,
      "outputs": [
        {
          "output_type": "execute_result",
          "data": {
            "text/plain": [
              "one      1\n",
              "two      2\n",
              "three    3\n",
              "dtype: int64"
            ]
          },
          "metadata": {
            "tags": []
          },
          "execution_count": 4
        }
      ]
    },
    {
      "cell_type": "code",
      "metadata": {
        "id": "Y3-uGoxCD2Uq",
        "outputId": "cf2cc504-029d-4f46-942a-0b111d9aaf64",
        "colab": {
          "base_uri": "https://localhost:8080/",
          "height": 85
        }
      },
      "source": [
        "series = pd.Series(np.array([1, 2, 3]))\n",
        "series"
      ],
      "execution_count": 5,
      "outputs": [
        {
          "output_type": "execute_result",
          "data": {
            "text/plain": [
              "0    1\n",
              "1    2\n",
              "2    3\n",
              "dtype: int64"
            ]
          },
          "metadata": {
            "tags": []
          },
          "execution_count": 5
        }
      ]
    },
    {
      "cell_type": "code",
      "metadata": {
        "id": "3Te52uz6ECam"
      },
      "source": [
        "val1 = [1,2,3]\n",
        "val2 = [4,5,6]"
      ],
      "execution_count": 7,
      "outputs": []
    },
    {
      "cell_type": "code",
      "metadata": {
        "id": "tYG59_zSD3PL",
        "outputId": "1a45b24e-9e3a-48a6-fa2e-101709b59ce8",
        "colab": {
          "base_uri": "https://localhost:8080/",
          "height": 68
        }
      },
      "source": [
        "series = pd.Series({'column1':val1, 'column2':val2})\n",
        "series"
      ],
      "execution_count": 8,
      "outputs": [
        {
          "output_type": "execute_result",
          "data": {
            "text/plain": [
              "column1    [1, 2, 3]\n",
              "column2    [4, 5, 6]\n",
              "dtype: object"
            ]
          },
          "metadata": {
            "tags": []
          },
          "execution_count": 8
        }
      ]
    },
    {
      "cell_type": "markdown",
      "metadata": {
        "id": "p-wfKpytEaRA"
      },
      "source": [
        "## What is DataFrame?"
      ]
    },
    {
      "cell_type": "code",
      "metadata": {
        "id": "qYPI6vKRD58a"
      },
      "source": [
        "import pandas as pd\n",
        "\n",
        "d = {'ColumnA' : pd.Series([1, 2, 3]),\n",
        "   'ColumnB' : pd.Series([4, 5, 6])}\n",
        "\n",
        "df = pd.DataFrame(d)"
      ],
      "execution_count": 18,
      "outputs": []
    },
    {
      "cell_type": "code",
      "metadata": {
        "id": "-GIY3p7OEO8o",
        "outputId": "20d22503-e239-4671-9be5-84dd0db750dd",
        "colab": {
          "base_uri": "https://localhost:8080/",
          "height": 142
        }
      },
      "source": [
        "df"
      ],
      "execution_count": 11,
      "outputs": [
        {
          "output_type": "execute_result",
          "data": {
            "text/html": [
              "<div>\n",
              "<style scoped>\n",
              "    .dataframe tbody tr th:only-of-type {\n",
              "        vertical-align: middle;\n",
              "    }\n",
              "\n",
              "    .dataframe tbody tr th {\n",
              "        vertical-align: top;\n",
              "    }\n",
              "\n",
              "    .dataframe thead th {\n",
              "        text-align: right;\n",
              "    }\n",
              "</style>\n",
              "<table border=\"1\" class=\"dataframe\">\n",
              "  <thead>\n",
              "    <tr style=\"text-align: right;\">\n",
              "      <th></th>\n",
              "      <th>ColumnA</th>\n",
              "      <th>ColumnB</th>\n",
              "    </tr>\n",
              "  </thead>\n",
              "  <tbody>\n",
              "    <tr>\n",
              "      <th>0</th>\n",
              "      <td>1</td>\n",
              "      <td>4</td>\n",
              "    </tr>\n",
              "    <tr>\n",
              "      <th>1</th>\n",
              "      <td>2</td>\n",
              "      <td>5</td>\n",
              "    </tr>\n",
              "    <tr>\n",
              "      <th>2</th>\n",
              "      <td>3</td>\n",
              "      <td>6</td>\n",
              "    </tr>\n",
              "  </tbody>\n",
              "</table>\n",
              "</div>"
            ],
            "text/plain": [
              "   ColumnA  ColumnB\n",
              "0        1        4\n",
              "1        2        5\n",
              "2        3        6"
            ]
          },
          "metadata": {
            "tags": []
          },
          "execution_count": 11
        }
      ]
    },
    {
      "cell_type": "markdown",
      "metadata": {
        "id": "wBTGKO-dEZjq"
      },
      "source": [
        "## Select Column"
      ]
    },
    {
      "cell_type": "code",
      "metadata": {
        "id": "iq_iMJdpERmF",
        "outputId": "ef017549-3a1f-4007-e9e0-2ad0b5c97020",
        "colab": {
          "base_uri": "https://localhost:8080/",
          "height": 85
        }
      },
      "source": [
        "data = df['ColumnA']\n",
        "data"
      ],
      "execution_count": 12,
      "outputs": [
        {
          "output_type": "execute_result",
          "data": {
            "text/plain": [
              "0    1\n",
              "1    2\n",
              "2    3\n",
              "Name: ColumnA, dtype: int64"
            ]
          },
          "metadata": {
            "tags": []
          },
          "execution_count": 12
        }
      ]
    },
    {
      "cell_type": "markdown",
      "metadata": {
        "id": "tOw20ZG7EsIa"
      },
      "source": [
        "## Select Row"
      ]
    },
    {
      "cell_type": "markdown",
      "metadata": {
        "id": "9C77g92DE0-t"
      },
      "source": [
        "```python\n",
        "data = df.loc['label']\n",
        "data = df.loc[['label1', 'label2']]\n",
        "```"
      ]
    },
    {
      "cell_type": "code",
      "metadata": {
        "id": "Ph5JxyPZErV7"
      },
      "source": [
        "data = df.iloc[0]"
      ],
      "execution_count": 14,
      "outputs": []
    },
    {
      "cell_type": "markdown",
      "metadata": {
        "id": "c-UaPKBRFATW"
      },
      "source": [
        "## Reset Index\n",
        "```python\n",
        "df.reset_index()\n",
        "```"
      ]
    },
    {
      "cell_type": "markdown",
      "metadata": {
        "id": "ojhTZngKFFgI"
      },
      "source": [
        "## Drop\n",
        "```python\n",
        "df.drop([label1, label2])\n",
        "df.drop(df.index[1])\n",
        "df.drop(df[df.ColumnA != 'Kang'])\n",
        "# Drop Column\n",
        "df.drop('column name', axis=1)\n",
        "```"
      ]
    },
    {
      "cell_type": "markdown",
      "metadata": {
        "id": "qVzRuQHkFfxh"
      },
      "source": [
        "## Add column\n",
        "```python\n",
        "dataFrame['newColumn'] = pd.Series(...)\n",
        "```"
      ]
    },
    {
      "cell_type": "markdown",
      "metadata": {
        "id": "pHTcR-W1FnYn"
      },
      "source": [
        "## Rename columns\n",
        "```python\n",
        "df.rename(columns, index, inplace = True)\n",
        "```"
      ]
    },
    {
      "cell_type": "markdown",
      "metadata": {
        "id": "IlR6xd8iGe8_"
      },
      "source": [
        "## Reindex\n",
        "```python\n",
        "df.reindex(index=[array], columns=[columns])\n",
        "```"
      ]
    },
    {
      "cell_type": "markdown",
      "metadata": {
        "id": "vrMF4dXQGnxx"
      },
      "source": [
        "## Cutting Into Intervals\n",
        "```python\n",
        "pandas.cut(dataframe, number of bins)\n",
        "```"
      ]
    },
    {
      "cell_type": "markdown",
      "metadata": {
        "id": "kgbe2yKBGs8F"
      },
      "source": [
        "## Iterating Over DataFrame Columns\n",
        "```python\n",
        "for column in dataFrame:\n",
        "  print(column)\n",
        "\n",
        "for column,items in dataFrame.iteritems():\n",
        "\n",
        "for index_of_row, row in dataFrame.iterrows():\n",
        "\n",
        "for row in dataFrame.itertuples():\n",
        "```"
      ]
    },
    {
      "cell_type": "markdown",
      "metadata": {
        "id": "eevfkmmIG2H_"
      },
      "source": [
        "## Sort\n",
        "```python\n",
        "# Sort rows\n",
        "df = df.sort_index()\n",
        "# Sort Columns\n",
        "df = df .sort_values(by='ColumnA')\n",
        "```"
      ]
    },
    {
      "cell_type": "markdown",
      "metadata": {
        "id": "K6WR1UfIHHSu"
      },
      "source": [
        "# What is a Panel?"
      ]
    },
    {
      "cell_type": "code",
      "metadata": {
        "id": "4IfZ-QX2Ev5K"
      },
      "source": [
        "# import pandas as pd\n",
        "# import numpy as np\n",
        "\n",
        "# data = {'FirstDataFrame' : pd.DataFrame(d), \n",
        "#    'SecondDataFrame' : pd.DataFrame(d)}\n",
        "# p = pd.Panel(data)\n",
        "# p"
      ],
      "execution_count": 20,
      "outputs": []
    },
    {
      "cell_type": "markdown",
      "metadata": {
        "id": "VQY2v3KbHtxJ"
      },
      "source": [
        "# Pandas Function\n",
        "```python\n",
        "# Read csv file\n",
        "df=pd.read_csv(\"mycsv.csv\",index_col=['ColumnA'])\n",
        "# Read Excel file\n",
        "pd.read_excel('myExcel.xlsx', index_col=['ColumnA'])\n",
        "# Read one sheet in Excel file\n",
        "pd.read_excel(open('myExcel.xlsx', 'rb'), sheet_name='Sheet1')\n",
        "# Use Head\n",
        "r = df.head(10)\n",
        "# Use Tail\n",
        "r = df.tail(10)\n",
        "# Transpose\n",
        "df.T\n",
        "# Shape\n",
        "df.shape\n",
        "# Size\n",
        "df.size\n",
        "# ndim\n",
        "df.ndim\n",
        "# Describe\n",
        "df.describe()\n",
        "# Absolute values\n",
        "df.abs()\n",
        "# Mean values\n",
        "df.mean() # df.median(), df.mode()\n",
        "# Statistics\n",
        "df.count()\n",
        "df.std()\n",
        "df.cumsum()\n",
        "df.prod()\n",
        "```"
      ]
    },
    {
      "cell_type": "markdown",
      "metadata": {
        "id": "2YKQaZoXIjLO"
      },
      "source": [
        "## Apply function in Row/Column"
      ]
    },
    {
      "cell_type": "code",
      "metadata": {
        "id": "oXtclzmGHNuP"
      },
      "source": [
        "df = pd.DataFrame({'EmailBody':['sender said Hello!', 'sender needs length space', 'sender needs length'],\n",
        "                   'EmailSender': ['Kang@medium.com', 'Branden@medium.com', 'Sangyun@medium.com']})\n",
        "\n",
        "\n",
        "def clean_body(data):\n",
        "    body = data['EmailBody']\n",
        "    sender = data['EmailSender']\n",
        "    body = body.replace('sender', sender).replace('length', str(len(sender)))\n",
        "    return body\n",
        "\n",
        "df['EmailBody'] = df.apply(clean_body, axis=1)"
      ],
      "execution_count": 23,
      "outputs": []
    },
    {
      "cell_type": "code",
      "metadata": {
        "id": "ovGh5q13JDmy",
        "outputId": "bc095e9f-ea47-44ed-f3de-ab39420634c2",
        "colab": {
          "base_uri": "https://localhost:8080/",
          "height": 142
        }
      },
      "source": [
        "df"
      ],
      "execution_count": 24,
      "outputs": [
        {
          "output_type": "execute_result",
          "data": {
            "text/html": [
              "<div>\n",
              "<style scoped>\n",
              "    .dataframe tbody tr th:only-of-type {\n",
              "        vertical-align: middle;\n",
              "    }\n",
              "\n",
              "    .dataframe tbody tr th {\n",
              "        vertical-align: top;\n",
              "    }\n",
              "\n",
              "    .dataframe thead th {\n",
              "        text-align: right;\n",
              "    }\n",
              "</style>\n",
              "<table border=\"1\" class=\"dataframe\">\n",
              "  <thead>\n",
              "    <tr style=\"text-align: right;\">\n",
              "      <th></th>\n",
              "      <th>EmailBody</th>\n",
              "      <th>EmailSender</th>\n",
              "    </tr>\n",
              "  </thead>\n",
              "  <tbody>\n",
              "    <tr>\n",
              "      <th>0</th>\n",
              "      <td>Kang@medium.com said Hello!</td>\n",
              "      <td>Kang@medium.com</td>\n",
              "    </tr>\n",
              "    <tr>\n",
              "      <th>1</th>\n",
              "      <td>Branden@medium.com needs 18 space</td>\n",
              "      <td>Branden@medium.com</td>\n",
              "    </tr>\n",
              "    <tr>\n",
              "      <th>2</th>\n",
              "      <td>Sangyun@medium.com needs 18</td>\n",
              "      <td>Sangyun@medium.com</td>\n",
              "    </tr>\n",
              "  </tbody>\n",
              "</table>\n",
              "</div>"
            ],
            "text/plain": [
              "                           EmailBody         EmailSender\n",
              "0        Kang@medium.com said Hello!     Kang@medium.com\n",
              "1  Branden@medium.com needs 18 space  Branden@medium.com\n",
              "2        Sangyun@medium.com needs 18  Sangyun@medium.com"
            ]
          },
          "metadata": {
            "tags": []
          },
          "execution_count": 24
        }
      ]
    },
    {
      "cell_type": "markdown",
      "metadata": {
        "id": "foke5B2CJeIO"
      },
      "source": [
        "## Feature Engineering in Pandas\n",
        "```python\n",
        "# check missing values\n",
        "df.notnull()\n",
        "# drop missing values\n",
        "df.dropna()\n",
        "# fill missing values\n",
        "df.fillna(value)\n",
        "# fill missing values - backward or forward\n",
        "df.fillna(method='ffill') # backfill for backward\n",
        "# compare elements in percentage\n",
        "df.pct_change()\n",
        "# calculate standard deviation\n",
        "df.std()\n",
        "# calculate covariance\n",
        "df.cov()\n",
        "# calculate correlation\n",
        "df.corr()\n",
        "# calculate rolling moving average with window\n",
        "df.rolling(window=N).median()\n",
        "# calculate expanding and exponentially weighted average\n",
        "df.ewm(com=0.5).median()\n",
        "# aggregate columns\n",
        "df.agg({'Column1':['sum','min], 'Column2':['count']})\n",
        "# group rows\n",
        "groupdf = df.groupby('ColumnName')\n",
        "# filter\n",
        "df.filter()\n",
        "# Query\n",
        "df = df[(df['ColumnA'].isin([1,2] & (df['ColumnB'] == 'A')]\n",
        "# Merge\n",
        "merged = pd.merge(left,right,left_on='left_column',right_on='right_column', how='left')\n",
        "# Sort\n",
        "df.sort_values(by=['col1', 'col2'], ascending=False)\n",
        "# Union\n",
        "pd.concat([one, two])\n",
        "# Compute dates\n",
        "pd.date_range(start, end)\n",
        "# Plot dataFrame\n",
        "df.plot.bar()\n",
        "df.diff.hist(bins=10)\n",
        "df.plot.scatter()\n",
        "```"
      ]
    }
  ]
}