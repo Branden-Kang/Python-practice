{
  "nbformat": 4,
  "nbformat_minor": 0,
  "metadata": {
    "colab": {
      "provenance": [],
      "authorship_tag": "ABX9TyNMhseFKOzuROIU+ex54g1Z"
    },
    "kernelspec": {
      "name": "python3",
      "display_name": "Python 3"
    },
    "language_info": {
      "name": "python"
    }
  },
  "cells": [
    {
      "cell_type": "markdown",
      "source": [
        "[Reference](https://medium.com/data-folks-indonesia/speed-up-pandas-performance-9cdd0290bee3)"
      ],
      "metadata": {
        "id": "rJq4DyKNYODp"
      }
    },
    {
      "cell_type": "code",
      "execution_count": 1,
      "metadata": {
        "id": "x80_P1wUYGM_"
      },
      "outputs": [],
      "source": [
        "import pandas as pd\n",
        "import numpy as np\n",
        "import numba"
      ]
    },
    {
      "cell_type": "code",
      "source": [
        "X = np.random.rand(100000, 5)\n",
        "d_X = pd.DataFrame(X, columns=[f'c_{i}' for i in range(5)])"
      ],
      "metadata": {
        "id": "KFVhcq1gYRo7"
      },
      "execution_count": 2,
      "outputs": []
    },
    {
      "cell_type": "code",
      "source": [
        "roll = d_X.rolling(5)"
      ],
      "metadata": {
        "id": "laNFZSj2YSkP"
      },
      "execution_count": 3,
      "outputs": []
    },
    {
      "cell_type": "code",
      "source": [
        "def moving_avg(x):\n",
        "    return x.mean()"
      ],
      "metadata": {
        "id": "T4NyAP31YV3V"
      },
      "execution_count": 4,
      "outputs": []
    },
    {
      "cell_type": "code",
      "source": [
        "%timeit -n 1 -r 1 roll.apply(moving_avg)"
      ],
      "metadata": {
        "colab": {
          "base_uri": "https://localhost:8080/"
        },
        "id": "DEACuYTZYW5n",
        "outputId": "1d96ed8d-da1c-45ac-96b4-cfb3c8239a10"
      },
      "execution_count": 5,
      "outputs": [
        {
          "output_type": "stream",
          "name": "stdout",
          "text": [
            "1min 3s ± 0 ns per loop (mean ± std. dev. of 1 run, 1 loop each)\n"
          ]
        }
      ]
    },
    {
      "cell_type": "code",
      "source": [
        "%timeit -n 1 -r 1 roll.apply(moving_avg, raw=True)"
      ],
      "metadata": {
        "colab": {
          "base_uri": "https://localhost:8080/"
        },
        "id": "zORSU4r4YYIv",
        "outputId": "018e7a96-2a55-49de-bf3e-d3d219578ff9"
      },
      "execution_count": 6,
      "outputs": [
        {
          "output_type": "stream",
          "name": "stdout",
          "text": [
            "4.25 s ± 0 ns per loop (mean ± std. dev. of 1 run, 1 loop each)\n"
          ]
        }
      ]
    },
    {
      "cell_type": "code",
      "source": [
        "%timeit -n 1 -r 1 roll.apply(moving_avg, engine='numba', raw=True)"
      ],
      "metadata": {
        "colab": {
          "base_uri": "https://localhost:8080/"
        },
        "id": "VZznQ8GuYZZb",
        "outputId": "1fe9edc0-ad2e-497b-b541-2db8805c2ebc"
      },
      "execution_count": 7,
      "outputs": [
        {
          "output_type": "stream",
          "name": "stderr",
          "text": [
            "/usr/local/lib/python3.10/dist-packages/numba/core/decorators.py:262: NumbaDeprecationWarning: numba.generated_jit is deprecated. Please see the documentation at: https://numba.readthedocs.io/en/stable/reference/deprecation.html#deprecation-of-generated-jit for more information and advice on a suitable replacement.\n",
            "  warnings.warn(msg, NumbaDeprecationWarning)\n"
          ]
        },
        {
          "output_type": "stream",
          "name": "stdout",
          "text": [
            "1.88 s ± 0 ns per loop (mean ± std. dev. of 1 run, 1 loop each)\n"
          ]
        }
      ]
    },
    {
      "cell_type": "code",
      "source": [
        "%timeit -n 1 -r 1 roll.apply(moving_avg, engine='cython')"
      ],
      "metadata": {
        "colab": {
          "base_uri": "https://localhost:8080/"
        },
        "id": "r4l4EOy7Ygx6",
        "outputId": "c0e9c6f9-714f-43f2-e54f-e8a43d79d8e0"
      },
      "execution_count": 9,
      "outputs": [
        {
          "output_type": "stream",
          "name": "stdout",
          "text": [
            "56.9 s ± 0 ns per loop (mean ± std. dev. of 1 run, 1 loop each)\n"
          ]
        }
      ]
    },
    {
      "cell_type": "code",
      "source": [
        "def softmax(logit):\n",
        "    e_x = np.exp(logit)\n",
        "    result = e_x / e_x.sum()\n",
        "    return result.argmax()\n",
        "\n",
        "%timeit -n 1 -r 1 d_X.apply(softmax, axis=1)\n",
        "\n",
        "%timeit -n 1 -r 1 d_X.apply(softmax, axis=1, raw=True)\n",
        "\n",
        "@numba.njit\n",
        "def softmax(logit):\n",
        "    e_x = np.exp(logit)\n",
        "    result = e_x / e_x.sum()\n",
        "    return result.argmax()\n",
        "\n",
        "@numba.njit\n",
        "def apply_softmax(arr):\n",
        "    labels = []\n",
        "    for row in arr:\n",
        "        label = softmax(row)\n",
        "        labels.append(label)\n",
        "\n",
        "    return labels\n",
        "\n",
        "%timeit -n 1 -r 1 apply_softmax(d_X.to_numpy())"
      ],
      "metadata": {
        "colab": {
          "base_uri": "https://localhost:8080/"
        },
        "id": "b9aYMch9YjPg",
        "outputId": "e87b62fa-6056-4c5f-e8dc-12de5ea3f952"
      },
      "execution_count": 10,
      "outputs": [
        {
          "output_type": "stream",
          "name": "stdout",
          "text": [
            "42.2 s ± 0 ns per loop (mean ± std. dev. of 1 run, 1 loop each)\n",
            "1.1 s ± 0 ns per loop (mean ± std. dev. of 1 run, 1 loop each)\n",
            "765 ms ± 0 ns per loop (mean ± std. dev. of 1 run, 1 loop each)\n"
          ]
        }
      ]
    }
  ]
}
