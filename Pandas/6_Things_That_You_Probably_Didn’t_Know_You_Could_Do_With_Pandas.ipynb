{
  "nbformat": 4,
  "nbformat_minor": 0,
  "metadata": {
    "colab": {
      "provenance": [],
      "authorship_tag": "ABX9TyPgPQYQISX8XHoWHIrgCn4W"
    },
    "kernelspec": {
      "name": "python3",
      "display_name": "Python 3"
    },
    "language_info": {
      "name": "python"
    }
  },
  "cells": [
    {
      "cell_type": "markdown",
      "source": [
        "[Reference](https://towardsdatascience.com/6-things-that-you-probably-didnt-know-you-could-do-with-pandas-d365b3362a55)"
      ],
      "metadata": {
        "id": "w0KO2wMmr5le"
      }
    },
    {
      "cell_type": "code",
      "execution_count": 1,
      "metadata": {
        "id": "yjjPU6sSr3zf"
      },
      "outputs": [],
      "source": [
        "import pandas as pd\n",
        "import numpy as np\n",
        "import matplotlib.pyplot as plt\n",
        "\n",
        "from base64 import b64encode\n",
        "from io import BytesIO\n",
        "from IPython.display import HTML\n",
        "\n",
        "%matplotlib inline"
      ]
    },
    {
      "cell_type": "code",
      "source": [
        "n = 100\n",
        "\n",
        "data = [\n",
        "    ('Bitcoin',   40000*np.random.rand(n).round(2)), \n",
        "    ('Ethereum',   2000*np.random.rand(n).round(2)), \n",
        "    ('BNB',     500*np.random.rand(n).round(2)),\n",
        "    ('Litecoin',   150*np.random.rand(n).round(2)),\n",
        "    \n",
        "]\n",
        "df = pd.DataFrame(data, columns=['Name', 'Price History'])\n",
        "df.head()"
      ],
      "metadata": {
        "colab": {
          "base_uri": "https://localhost:8080/",
          "height": 173
        },
        "id": "Kf8TNw9Tr9ks",
        "outputId": "c1632c2e-6567-463e-81eb-28280cf30d55"
      },
      "execution_count": 2,
      "outputs": [
        {
          "output_type": "execute_result",
          "data": {
            "text/plain": [
              "       Name                                      Price History\n",
              "0   Bitcoin  [26000.0, 36000.0, 14800.0, 37600.0, 800.0, 30...\n",
              "1  Ethereum  [1820.0, 860.0, 200.0, 460.0, 560.0, 1380.0, 1...\n",
              "2       BNB  [45.0, 105.0, 65.0, 15.0, 25.0, 415.0, 365.0, ...\n",
              "3  Litecoin  [7.5, 122.99999999999999, 93.0, 111.0, 148.5, ..."
            ],
            "text/html": [
              "\n",
              "  <div id=\"df-dd1910af-8407-4b7a-914e-8d750e8c74bb\">\n",
              "    <div class=\"colab-df-container\">\n",
              "      <div>\n",
              "<style scoped>\n",
              "    .dataframe tbody tr th:only-of-type {\n",
              "        vertical-align: middle;\n",
              "    }\n",
              "\n",
              "    .dataframe tbody tr th {\n",
              "        vertical-align: top;\n",
              "    }\n",
              "\n",
              "    .dataframe thead th {\n",
              "        text-align: right;\n",
              "    }\n",
              "</style>\n",
              "<table border=\"1\" class=\"dataframe\">\n",
              "  <thead>\n",
              "    <tr style=\"text-align: right;\">\n",
              "      <th></th>\n",
              "      <th>Name</th>\n",
              "      <th>Price History</th>\n",
              "    </tr>\n",
              "  </thead>\n",
              "  <tbody>\n",
              "    <tr>\n",
              "      <th>0</th>\n",
              "      <td>Bitcoin</td>\n",
              "      <td>[26000.0, 36000.0, 14800.0, 37600.0, 800.0, 30...</td>\n",
              "    </tr>\n",
              "    <tr>\n",
              "      <th>1</th>\n",
              "      <td>Ethereum</td>\n",
              "      <td>[1820.0, 860.0, 200.0, 460.0, 560.0, 1380.0, 1...</td>\n",
              "    </tr>\n",
              "    <tr>\n",
              "      <th>2</th>\n",
              "      <td>BNB</td>\n",
              "      <td>[45.0, 105.0, 65.0, 15.0, 25.0, 415.0, 365.0, ...</td>\n",
              "    </tr>\n",
              "    <tr>\n",
              "      <th>3</th>\n",
              "      <td>Litecoin</td>\n",
              "      <td>[7.5, 122.99999999999999, 93.0, 111.0, 148.5, ...</td>\n",
              "    </tr>\n",
              "  </tbody>\n",
              "</table>\n",
              "</div>\n",
              "      <button class=\"colab-df-convert\" onclick=\"convertToInteractive('df-dd1910af-8407-4b7a-914e-8d750e8c74bb')\"\n",
              "              title=\"Convert this dataframe to an interactive table.\"\n",
              "              style=\"display:none;\">\n",
              "        \n",
              "  <svg xmlns=\"http://www.w3.org/2000/svg\" height=\"24px\"viewBox=\"0 0 24 24\"\n",
              "       width=\"24px\">\n",
              "    <path d=\"M0 0h24v24H0V0z\" fill=\"none\"/>\n",
              "    <path d=\"M18.56 5.44l.94 2.06.94-2.06 2.06-.94-2.06-.94-.94-2.06-.94 2.06-2.06.94zm-11 1L8.5 8.5l.94-2.06 2.06-.94-2.06-.94L8.5 2.5l-.94 2.06-2.06.94zm10 10l.94 2.06.94-2.06 2.06-.94-2.06-.94-.94-2.06-.94 2.06-2.06.94z\"/><path d=\"M17.41 7.96l-1.37-1.37c-.4-.4-.92-.59-1.43-.59-.52 0-1.04.2-1.43.59L10.3 9.45l-7.72 7.72c-.78.78-.78 2.05 0 2.83L4 21.41c.39.39.9.59 1.41.59.51 0 1.02-.2 1.41-.59l7.78-7.78 2.81-2.81c.8-.78.8-2.07 0-2.86zM5.41 20L4 18.59l7.72-7.72 1.47 1.35L5.41 20z\"/>\n",
              "  </svg>\n",
              "      </button>\n",
              "      \n",
              "  <style>\n",
              "    .colab-df-container {\n",
              "      display:flex;\n",
              "      flex-wrap:wrap;\n",
              "      gap: 12px;\n",
              "    }\n",
              "\n",
              "    .colab-df-convert {\n",
              "      background-color: #E8F0FE;\n",
              "      border: none;\n",
              "      border-radius: 50%;\n",
              "      cursor: pointer;\n",
              "      display: none;\n",
              "      fill: #1967D2;\n",
              "      height: 32px;\n",
              "      padding: 0 0 0 0;\n",
              "      width: 32px;\n",
              "    }\n",
              "\n",
              "    .colab-df-convert:hover {\n",
              "      background-color: #E2EBFA;\n",
              "      box-shadow: 0px 1px 2px rgba(60, 64, 67, 0.3), 0px 1px 3px 1px rgba(60, 64, 67, 0.15);\n",
              "      fill: #174EA6;\n",
              "    }\n",
              "\n",
              "    [theme=dark] .colab-df-convert {\n",
              "      background-color: #3B4455;\n",
              "      fill: #D2E3FC;\n",
              "    }\n",
              "\n",
              "    [theme=dark] .colab-df-convert:hover {\n",
              "      background-color: #434B5C;\n",
              "      box-shadow: 0px 1px 3px 1px rgba(0, 0, 0, 0.15);\n",
              "      filter: drop-shadow(0px 1px 2px rgba(0, 0, 0, 0.3));\n",
              "      fill: #FFFFFF;\n",
              "    }\n",
              "  </style>\n",
              "\n",
              "      <script>\n",
              "        const buttonEl =\n",
              "          document.querySelector('#df-dd1910af-8407-4b7a-914e-8d750e8c74bb button.colab-df-convert');\n",
              "        buttonEl.style.display =\n",
              "          google.colab.kernel.accessAllowed ? 'block' : 'none';\n",
              "\n",
              "        async function convertToInteractive(key) {\n",
              "          const element = document.querySelector('#df-dd1910af-8407-4b7a-914e-8d750e8c74bb');\n",
              "          const dataTable =\n",
              "            await google.colab.kernel.invokeFunction('convertToInteractive',\n",
              "                                                     [key], {});\n",
              "          if (!dataTable) return;\n",
              "\n",
              "          const docLinkHtml = 'Like what you see? Visit the ' +\n",
              "            '<a target=\"_blank\" href=https://colab.research.google.com/notebooks/data_table.ipynb>data table notebook</a>'\n",
              "            + ' to learn more about interactive tables.';\n",
              "          element.innerHTML = '';\n",
              "          dataTable['output_type'] = 'display_data';\n",
              "          await google.colab.output.renderOutput(dataTable, element);\n",
              "          const docLink = document.createElement('div');\n",
              "          docLink.innerHTML = docLinkHtml;\n",
              "          element.appendChild(docLink);\n",
              "        }\n",
              "      </script>\n",
              "    </div>\n",
              "  </div>\n",
              "  "
            ]
          },
          "metadata": {},
          "execution_count": 2
        }
      ]
    },
    {
      "cell_type": "code",
      "source": [
        "def create_line(data, **kwags):\n",
        "    \n",
        "    # Convert data to a list\n",
        "    data = list(data)\n",
        "    \n",
        "    # Create a figure and axis object with given size and keyword arguments\n",
        "    fig, ax = plt.subplots(1, 1, figsize=(3, 0.25), **kwags)\n",
        "    \n",
        "    # Plot the data\n",
        "    ax.plot(data)\n",
        "    \n",
        "    # Remove the spines from the plot\n",
        "    for k,v in ax.spines.items():\n",
        "        v.set_visible(False)\n",
        "        \n",
        "    # Remove the tick marks from the x and y axes\n",
        "    ax.set_xticks([])\n",
        "    ax.set_yticks([])\n",
        "    \n",
        "    # Plot a red dot at the last point of the data\n",
        "    plt.plot(len(data) - 1, data[len(data) - 1], 'r.')\n",
        "    \n",
        "    # Fill the area under the plot with alpha=0.1\n",
        "    ax.fill_between(range(len(data)), data, len(data)*[min(data)], alpha=0.1)\n",
        "    \n",
        "    # Close the plot to prevent displaying it\n",
        "    plt.close(fig)\n",
        "    \n",
        "    # Save the plot image as png and get its binary data\n",
        "    img = BytesIO()    \n",
        "    fig.savefig(img, format='png')\n",
        "    encoded = b64encode(img.getvalue()).decode('utf-8')  \n",
        "    \n",
        "    # Return the encoded image data as an HTML image tag\n",
        "    return '<img src=\"data:image/png;base64,{}\"/>'.format(encoded)"
      ],
      "metadata": {
        "id": "ZUAJX_R-r-gI"
      },
      "execution_count": 3,
      "outputs": []
    },
    {
      "cell_type": "code",
      "source": [
        "df['Price History Line']  = df['Price History'].apply(create_line)\n",
        "HTML(df.drop(columns = [\"Price History\"]).to_html(escape=False))"
      ],
      "metadata": {
        "colab": {
          "base_uri": "https://localhost:8080/",
          "height": 221
        },
        "id": "rFJb_CPusAV7",
        "outputId": "1eef469f-16e2-45eb-fe55-3c521f194cbd"
      },
      "execution_count": 4,
      "outputs": [
        {
          "output_type": "execute_result",
          "data": {
            "text/plain": [
              "<IPython.core.display.HTML object>"
            ],
            "text/html": [
              "<table border=\"1\" class=\"dataframe\">\n",
              "  <thead>\n",
              "    <tr style=\"text-align: right;\">\n",
              "      <th></th>\n",
              "      <th>Name</th>\n",
              "      <th>Price History Line</th>\n",
              "    </tr>\n",
              "  </thead>\n",
              "  <tbody>\n",
              "    <tr>\n",
              "      <th>0</th>\n",
              "      <td>Bitcoin</td>\n",
              "      <td><img src=\"data:image/png;base64,iVBORw0KGgoAAAANSUhEUgAAASwAAAAZCAYAAACLvRPfAAAAOXRFWHRTb2Z0d2FyZQBNYXRwbG90bGliIHZlcnNpb24zLjcuMSwgaHR0cHM6Ly9tYXRwbG90bGliLm9yZy/bCgiHAAAACXBIWXMAAA9hAAAPYQGoP6dpAAAVyUlEQVR4nO2deWBU1dnGf3eWZDLZ951sEHYIiyIom+JSd+putWq1xYqt9vtsv6r9rNjFpbbiglYrLq1W/GpFRAUiCAJBCIQEEiD7NgnZk0km6yz3fn/cJTNZSAighOb5a3LvuXfOPfec5zzv874DgiRJEmMYwxjGMAqg+647MIYxjGEMw8UYYY1hDGMYNThnCetUI92yxg7ufjuTHIv19HRohJAkic15NVRbuzyOO10i17y8m7Sn0mls7znj/bB22pm5Kp3vv5qBKI65CO4QRQm7U/yuu/EfgXOCsGpau9hX2qT9vSGnmuTHvuCr/LoR33PN9mJ2FDSwZnvx6ejiiLEh5zj3v3eQxz7O9Tj+UVYVudWtWDsdbM6rPeXvKa638devS2jvcQ54Pre6ldYuBwcrrWw95jmua7YXM+updGauSmfhc1+RV916yv053ThY2YKlufO03vObkiZ+/PcDzPrdl0z97WaOHP9un7vL7mLbsTocrnOXPEc9YTlcIre+sZdb3tjL4SorAB8frEaS4Muj9SO6p0uU2J4vX7u/vPlbURT7y5t58tMjtHY6PI5/kFkJQHZli6Yaux0uXtxWpLXZcuTUCev3nx/jmU35PLwuZ8DnrWjqXex//bpE64uluZPVWwtp6XTQ2uXA0tzF57k1p9yf04miOhs3vraH+949oB07ZLGy9ejINzSAx9bn8uXROlq7HDhcvXPmu8LfdpVy77sHeGJD3nfajzOJUU9YG3KOa4spo7gJSZI4pBCX+44qitKwiSfH0kJThx0Aa6eDovr209vpAfDc5nze2VPOkxuPaMcqmzrZV9YMQFu3k9q2bgDe21tBTWs3gT5GQN7pWzsd5Ne28fvPjmrEfTLIr7EBsPVYnQcZan1xG8uDlVb2l7cA8MLWQhwuifMSg7n3oiQASr6F8ToZ7ClpQpSgoM5Gg60Hlyhxzzv7+fE/DlDR1DGie/Y4Xdq1l0+NBKCw7sw+d0Zx4wktisNVssJbt99yVqrc04FRTVguUeLVHb0hW1ZFM5XNnVgVlWJpkRdZZVMn05/cwhOfDm/n2XrMc6fMLGsapOXpQ0mDPPnXZ1fzdWEDAB8drPJok19jw+4UeXVHCQAPLh1PcpgvTlHi00PV3PvOAd7cXca1r2Two3f2U1RnG9Z3t/f0kiHAi9uK2F3U6NFGXZx+3gYAnk8vYHt+PeuzqwFYuXQ8afFByrMMf+F+friGRz8+jK3bMXTjEeJgZYv2+XCVlfzaNpo77EgSFNQOb4z6wtLciSiB2UvPZVOiACgc5nifLCRJ4i/pBfzgzX3c8NoevhxEGZYr70iS4KnPjp6yj3s2YlQT1qa8GkobOtALAgBZFS1kV1q189UtXThdIjuLGuiwu1iXaaFpGAb1NsWjSQ7zBdBUTnuP84yEh62dDpoVRQfw+Ppcqq1d/DtLJqwAk0wS+bU2DldZae6wE+Rj5MoZUSyZGA7IE7Ta2oW/yYBOgK/y67nqpd2s2V6McwhPQ1VEob5eXD0jGoBPcqo92qgq9ieLktEJkFnWzD3v7EeSYMnEcCZHB5AQatbaDsdHkSSJVRuP8EGmhWc35wOwvaCe5a9mkFXRMuh1FU0dFNcPnxzc75VjsXr8XdY4MoVV1iiPR3yImeRweZ6UNnQM+dx2p0i3wzXs75Ekid98ksdLX8kbs0uUWPnPg3xT4rmJukSJSuUd6QWBzLJmNp0Gb/Nsw6glLFGUeEV5iXfOT8BLr6Ol0+Gx0JyiRE1rN8XKgnSKEp8dPrG/UtnUSWFdO3pB4P7FKYC8OPOqW5n/9Da+9+IujvfJ2KlwuMQR7dhlys4YbDYSFWCiqqWLC5/5imprF37eBm6aGw9AQW2bRp6zxgVh0OlYOilC+W6ZSJ+7YQYfrpjPgpRQ7C6RP20p4NE+hn1fqOOTEGrW7ueuSiRJ0kLCC5JD+PPNMzk/MQS9IOBt0LFiUTIAEf7e+Bj1OEVJI7iShvZBF2hlcyf1NnkDeW9vJW9nlPHT97LIrrTyVkbZgNd0O1xcvyaDy1fv4qOsqgHbuKPe1k1VS+/7yrH0hrPQq0pOFmWN8pjFB/sQFWjCx6jH7hJPGGI6XCJXvLiTK1/cRY9zeKR1sNLK+/sq0Qnwy8snsjg1HLtT5Cd/P0C9myquae3C7hIx6gXunJ8A9PqfLlHiN5/k8uau0hE969mEUUtYVS1dNLb34Oul5/Z545gc7Q/AjoIGj3aWlk6PEOXjgyee5GoGbGZ8IPOSQzDoBOptPaz4Rxa2bicFdTZueG3PgOHWw+tyuHz1zkEl+2BQJ39SmC9//P40pkQHoJNFI9fMjGZKdAAgK6y9SjZ09rhgACZE+BETZALg5rlxzE4IZlyImb/cPJP/vXoyAvCvrCoOKqb9+/sqeHlbEZvzaqi3yRNeHZ+kMF+mxwQCslpoUVRfY7udTrsLAYgO9GFBShgv3z6LTQ8tZP0DC0gO9wNAEARNZZU0tJNR3Mglf/56UMLMVMhXxaqNR+l2yAplT3HjgGo2u9JKS6cDlyjxyL8O8cbOEu3c9vx6rli9k9yqXv/mYIUVAJNRnuqHLFYOlPd+b2nDqSssnSBoKqugdvBwuLi+ndKGDkobOzhQPriCdMchxbO6cHwYN86J43fXT2VytD+2Hicvf9Vrh5Qr/YkN8uGSyfKmk1NpxSVKZJY1897eSp7elD9oFni0YNQS1rhQM7t+dTEv3pZGoI+RmYp/oiI2yAeQvYZiNxP4UFWrx9/uEEVJ25UWpYZjMuqZEiOTRbW1i2CzkcRQMzWt3dyxdp+HcsgobtSyY+knmbUrUxZNfIiZqTGBvH3PeXz5i8W8dfdcVi4dz/gImRBKGtq1cGZWgvy8giDwxNVTuO+iJFYuHa/dUxAErp4Rw1VKiLdq41Ge/PQIj6/P489fFnL/ewe55Pmvae10aOORGOpLoNnIuBCZdLIt8nepqiEq0ISXoXfKBJqNhPp5ezxLYqiv1ld1PD4/XEPbAB7VfoU4rkuLIdgsJxDGR/hh9tLT0ungaE1bv2u+KZG9NbX9H7/I1wzm13aUkF9rY/XWQq19tqIUL5kcibdBR1u3k5rWXmUy0pCwXLlOHaskxT44kY/lboQPN6OojsGkKHlD9jbo+dnFEwBZQalhoKrS44LlENXspcfW46SwrneTc4mSB1mPRoxawgLw8dIzIy4IgOmxgdrxAJOB85NCADhWY9Mm6Mw4uc3rX5ewq6ihXzFm+tFaiurb8fM2cM2MGEAOvVT86opJvHHnXML9valr69HKCZwukac2HtXa7eujHOrburn4+R38dkPegEZomTLp1MkP4GcyMDUmEKNeR2SAN37eBhwuiU67iwAfAymKqpH7GMyPFyVjMur73fuBJSmYvfQcslh595sKBGDpxHACfYzYepzsKKynWFFYCWFmj7FU1Yka3qmbwImgKaz6Ds24t7vEAUsIVJWxaEI4f7k5jVvOi2f1LWmaetxd3Njvmm+UxffAkvEsTpX9u015NbR2OchSyGl7QT21yjtXQ9vZ44KYqCx6gLhg+VnqbT10jEB1qKFkfLD8vOr7KKyz4XCJbMipxtpp97jmyPFeAt5R6BkJDIajyjUTInv7PichmPOTQnCKkkbOKoHGh/hg0OmYpijlrIoWbcwAj8+jEaOasNzhTlhTYgKIVSbk9gJ5Jwv19eJmxQv6V1YVd67N5IoXdmo+gCRJmsS+aW4cforRvWxyJAadwHVpMVw8KYJAs5Hr02Qye3+frMY+2G+hoM5GgGJ4VzZ3UtPaS4YfZ1dT2tjBu99U8Oau/t6MGhK6E5Y7BLeQA2BWfDA6JdEwFEL9vLl7QaJ8H+DxqybzzA0zuH6W/Aybcmu1XVpVR9MVYlcXe4XiX6ljeiKohLW7uMGjFOKLPrVZDbYeSpVFNiMukCkxAfzXpamE+3trm03fTGWn3aklVeYkBGuhT/qROnYXNeJSQkhRgo+yLNidIoeU8HB6bKAWWoMcYgUpZSEnq7K67C5tE1Tfmfp+CutsPJ9ewEPrcvj1vz1DYXeFVVzfPmQhq90pUqQkF1Ij/TzOPbBE9lfX51RT2tDeS1gKgarvMKO4kRy3RNTe0jGFdVYg2NdLmzxTogM0NaCqg8QwXxZPDGfZ5AjGR/gRpCiMF7bKNUc7Cho4crwNH6OeW8+L1+6bGunP9keW8Oj3JmnHrpkZo2XKPjt8nKe/OAbIGTR1F9/nNjHcPa2nNx3zCAckSfIICQfDhAh3RRV0EiMDt88bx8qlKbxwSxrXzJSJauF4WZ2kH63FKUqYvfRE+MvhnUr+ORYrTpdIpRZuDE1YKunVtclmemSAfM+dhY20dvWGhVkV8vikhPsSoBCHCpWwMsub6Xa4yK5swdppZ395C05RIjrQREyQiQUpoeh1AkX17by7pxyA6EDZz/vwgIVNeTXYnSIBPgbGhZi18B5ktT1OIdeTJSxVXQWYDAQqoalKWGWNHbydIfcl/WitpuJdoqSFd+FKGL2j4MRhYVG9DYdLIsBkICrA5HFucnQA85NDkSTYeKhGCwnVOTRDIawtR2qxu0R8vWX1nVfd6lFCsre0iVUbj/RTg2crzhnCAtkLCfQxcumUSM2IVpEYasao1/GH5dN5/755PHfjDAA+3F/JliO1/OYTuUZr+exYgsxeHtd6GXQIboomMsDEhePDAHjwn9l02l2cnxjC8tmxzFLCmX1K7VaDrUdTKotSwxAluOed/dzy+jfsKmqgwdZDh92FTjhxyOUeAqoh03Bh1Ov44fxE5qeEasemxAQQbDai+toJoWbtGZPCZA+k0+6ioM7Wq7CGERLKJnTv39fOjCEpzBe7S2T11kJ+9kE2v/73YTYekhVXWh/vEeR3Fe7njd0p8v1X97D81T1c9dJuPlFqvuYkBCMIAv4mI7MV8s5UvJn/viwVX289luYuHlqXA8jkLAgCU90JKz5IW9zlJ0tYjf03mHA/OWwXJbTfFYoSfKCo8PKmDjrtLkxGHTfMiQX6J4j6wj0cFAZQ1MumyArz89zjmlqLD5Hf0bSYQASlDyCPQWyQj+JjyfNRVBIXb2eU88QrW3Bt3QZVQ2dev0ucU4R1xwUJpP9iEcnhfv0Wl2qKqpgZH8SS1HBECVb8I4tqaxfxIT7cpaSEh8LyWbHa55ggE7+/fhoGnU5bQKrC2nasDkmSTdM/XD+dK6ZFoRcE9pU1c9dbmaQr6is60MfD0O6LVEW5BZgMmgl/KtDrBBYopAu9ykg9N031sSqtWsgYFzy4AlThZdAR4zb285JCWaaEbm9nlLPx0HHW7bdohnzfZAnIIbCqslRVUm3t0opU5yb2EvaiCeHaZ7OXnnlJoVwxNUo7dtOcOH55+USt/ysWJfOzi8cT5ufNuOCRKayyPv6V2mf3sP2uBfI8Wre/kh6nSwsHJ0T4a5tdRknjCWuyVM+rbzioYuGEcPQ6gcK6dhwuCS+9jkhFifmZPH3OOQnBzEmQx0014feUNFHV0sXNh9J54dfXob90GSQkwNq1JzEa3y7OKcJyh7/JiL/iQ0F/wgJ4YGmKVnQ6Odqfv905t5+6GgwXJIcyPtwPP28Dz904QwsN0uKDEIDSxg7q27q1cHBxajheBh2rrp3K+pULmJsQjCjBs5vkgsnB/CsV02ICeHjZBJ66bhp63fD8q6GwaIIbYfUZnxkKYb22vVj7mdJwPCzoJT9fbz2TY/z53rRozF56/LwN3Dw3jiWKWW4y6rRF1BeqepgSHcDqW9K0cBXwuGZRai9hzU0MxsugY8XiFH44P4G/3jGbRy6fiI9XbzLiRxclcccFMpmoaqR0xArLczzUTN7lUyP5ycJkwv28aWy3szmvViOfiVH+TIjwIyrARLdD5PWv5dqo2tZu1mVWepQdqGSd6ma4uyPQx8hct7GICTJ5eJuqjwUwOyGI2UpmWSWsDw9YiGpr5Oktr6BXk0GiCCtWnLVKyzB0k9GLmCAfrZCz74IESAj15clrp1BU387dCxLx9R7+cOh1AmvvnovTJWkGPchEmRrpT0Gdjdd3lmqZLveFFRlg4qFlE7hzbSY2ZYL2nfx9IQgCt50/btj9Gw7OTwrBqBdwuCQSQz0Jc/nsWDYfqdWKLoN8jNrPcoZCYpiZ3cUysRh0OmKDfdj44EUYDQLeBpk8Kpo6ECUI61MWoWJBShhf/Pwign290AkCL902i4fWZZMS7keEf2+4HxVoYlKUP/m1Ni5MkQk40MfoUeIxGE7Gw3KJEm/tLsMhiuRWy0TS13O858IkxoWYuXJ6NAa9jutnxfC3XWU8t7lA2zwnRsnh3cqlKfzvhiOs2V7MtNgAHl+fR21bN+v2W/j7vefj723g2PETExbAxZMitKx03/7MiAtkfXY1Ef7exAb1Kvjc6lb+74CFLXm1zGk5jl7qU53vckFxMcTFDTku3zbOacKKVQjLz9tAqO/AyumyqVFcNnVk9zcZ9WDsf3xuYjAFdTbW7pYzgjFBJlLCPQkzNdKfJRPDNR9jKIV1JmD2MnD3gkQyy5qZmxjicS7Mz5u37jqPR9fnklXR4hHuDIWb5sRT29rNPRcmacfcSR3kzWIouNd4JYX58snKCwfMjj5x9RT2lDZpPysaLtSQrrXLwbOb8ymubyc+2MzEKD8WTgjXQttuh4uH1+WwuU99Xd93FuLrpf0qAeRx2JRX61Fpr6qwS6dEsimvlj0lTdzr9q9I5Fis3Lk2kzvmjcPW48SoF/ptJu5YnBrOs5vzEaX+hHXxpAhyLFYWpIQiCAIR/iaumh7N57k1/OqjwwDoJk5A0ukQRDfS0uth/NCE/13gnCYs1XhPCvMd0LQ8U7h7QSJmLz1ZFS0U17fzg3kJA37/fQuTNMI6UYbwTOK+hcnctzB5wHOBZiMv3ZpG+tE6j7KRoRAVaOIPy6efri5qGKyUIyXCj5QR+Homo5wZrbf18NqOkn7n0+KDiAkyUdrQQX6tDaNeYGZcENkWKyG+XgPaDO4INBt57Y7Z/PS9g1S1dGHQCdo1giDwP1dM4tY39tLlcJEU5svDyybwxIYjHLJYtQr35HA/DPrBnZtgXy/mJoSQWd7M+HDPMTAZ9Tx25WSPY49dNQm7S9SsigWL02gLW0PAww8iuFwyWb3++lmprgCE0f6fUHQ7XAz2BF8erePn67K596IkHrls4rfbsWFizfZiDlVZefnWWXgPUPg5hjOLP23J55+ZlcxLCuWC5FBqW7vIrW4l22L1mFe+3nrW3DabecmhtHc7MeiFAQt1B0JdWzePfpzLjLhAHl6W6nEuo7iRHQX13L84hVA/bwrrbKzZXsxxaxcddhcrFiVzXVrsIHeWUdPaxY6CBm6aE3dCclPhdIk8szmfkvp2Xrl9tmyFVFXhVVaCfmLqWUtWcA4Q1hjGMIb/HJyzWcIxjGEM5x7GCGsMYxjDqMH/A94sc8n/dQH4AAAAAElFTkSuQmCC\"/></td>\n",
              "    </tr>\n",
              "    <tr>\n",
              "      <th>1</th>\n",
              "      <td>Ethereum</td>\n",
              "      <td><img src=\"data:image/png;base64,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\"/></td>\n",
              "    </tr>\n",
              "    <tr>\n",
              "      <th>2</th>\n",
              "      <td>BNB</td>\n",
              "      <td><img src=\"data:image/png;base64,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\"/></td>\n",
              "    </tr>\n",
              "    <tr>\n",
              "      <th>3</th>\n",
              "      <td>Litecoin</td>\n",
              "      <td><img src=\"data:image/png;base64,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\"/></td>\n",
              "    </tr>\n",
              "  </tbody>\n",
              "</table>"
            ]
          },
          "metadata": {},
          "execution_count": 4
        }
      ]
    },
    {
      "cell_type": "code",
      "source": [
        "!pip install pandas_flavor"
      ],
      "metadata": {
        "colab": {
          "base_uri": "https://localhost:8080/"
        },
        "id": "E4EbUJ14sCLR",
        "outputId": "d62287d5-59ff-48a9-bdf4-5b3f2fe8baf3"
      },
      "execution_count": 5,
      "outputs": [
        {
          "output_type": "stream",
          "name": "stdout",
          "text": [
            "Looking in indexes: https://pypi.org/simple, https://us-python.pkg.dev/colab-wheels/public/simple/\n",
            "Collecting pandas_flavor\n",
            "  Downloading pandas_flavor-0.5.0-py3-none-any.whl (7.1 kB)\n",
            "Requirement already satisfied: pandas>=0.23 in /usr/local/lib/python3.10/dist-packages (from pandas_flavor) (1.5.3)\n",
            "Requirement already satisfied: xarray in /usr/local/lib/python3.10/dist-packages (from pandas_flavor) (2022.12.0)\n",
            "Requirement already satisfied: lazy-loader>=0.1 in /usr/local/lib/python3.10/dist-packages (from pandas_flavor) (0.2)\n",
            "Requirement already satisfied: python-dateutil>=2.8.1 in /usr/local/lib/python3.10/dist-packages (from pandas>=0.23->pandas_flavor) (2.8.2)\n",
            "Requirement already satisfied: pytz>=2020.1 in /usr/local/lib/python3.10/dist-packages (from pandas>=0.23->pandas_flavor) (2022.7.1)\n",
            "Requirement already satisfied: numpy>=1.21.0 in /usr/local/lib/python3.10/dist-packages (from pandas>=0.23->pandas_flavor) (1.22.4)\n",
            "Requirement already satisfied: packaging>=21.3 in /usr/local/lib/python3.10/dist-packages (from xarray->pandas_flavor) (23.1)\n",
            "Requirement already satisfied: six>=1.5 in /usr/local/lib/python3.10/dist-packages (from python-dateutil>=2.8.1->pandas>=0.23->pandas_flavor) (1.16.0)\n",
            "Installing collected packages: pandas_flavor\n",
            "Successfully installed pandas_flavor-0.5.0\n"
          ]
        }
      ]
    },
    {
      "cell_type": "code",
      "source": [
        "# my_pandas.py\n",
        "\n",
        "import pandas as pd\n",
        "import pandas_flavor as pf\n",
        "\n",
        "@pf.register_dataframe_method\n",
        "def add_row(df, row):\n",
        "    \n",
        "    df.loc[len(df)] = row"
      ],
      "metadata": {
        "id": "j7HSYhtMsEQ3"
      },
      "execution_count": 6,
      "outputs": []
    },
    {
      "cell_type": "code",
      "source": [
        "df = pd.DataFrame([[\"Mercury\", 1], \n",
        "                   [\"Venus\",   2]],\n",
        "                   columns = [\"Planet\", \"Position\"])"
      ],
      "metadata": {
        "id": "sh6ZXhYusF_c"
      },
      "execution_count": 7,
      "outputs": []
    },
    {
      "cell_type": "code",
      "source": [
        "new_row = [\"Earth\", 3]\n",
        "df.add_row(new_row)\n",
        "\n",
        "print(df)"
      ],
      "metadata": {
        "colab": {
          "base_uri": "https://localhost:8080/"
        },
        "id": "DeqB4oEzsHUg",
        "outputId": "87ccc3cd-d1e0-4621-a8cd-e79c70313d7f"
      },
      "execution_count": 8,
      "outputs": [
        {
          "output_type": "stream",
          "name": "stdout",
          "text": [
            "    Planet  Position\n",
            "0  Mercury         1\n",
            "1    Venus         2\n",
            "2    Earth         3\n"
          ]
        }
      ]
    },
    {
      "cell_type": "code",
      "source": [
        "from dataclasses import dataclass\n",
        "\n",
        "@dataclass\n",
        "class Point:\n",
        "    x_loc: int\n",
        "    y_loc: int"
      ],
      "metadata": {
        "id": "0KXmj_KzsJEg"
      },
      "execution_count": 9,
      "outputs": []
    },
    {
      "cell_type": "code",
      "source": [
        "points = [Point(1, 2),\n",
        "          Point(4, 5),\n",
        "          Point(3, 7)]"
      ],
      "metadata": {
        "id": "hgn7igXBsK7y"
      },
      "execution_count": 10,
      "outputs": []
    },
    {
      "cell_type": "code",
      "source": [
        "pd.DataFrame(points)"
      ],
      "metadata": {
        "colab": {
          "base_uri": "https://localhost:8080/",
          "height": 142
        },
        "id": "gZjfGDiRsMmd",
        "outputId": "af45bcb9-c87f-4021-80c6-a5e23a316bf0"
      },
      "execution_count": 11,
      "outputs": [
        {
          "output_type": "execute_result",
          "data": {
            "text/plain": [
              "   x_loc  y_loc\n",
              "0      1      2\n",
              "1      4      5\n",
              "2      3      7"
            ],
            "text/html": [
              "\n",
              "  <div id=\"df-57f4c535-8dd5-4a76-b708-bd42b88a934c\">\n",
              "    <div class=\"colab-df-container\">\n",
              "      <div>\n",
              "<style scoped>\n",
              "    .dataframe tbody tr th:only-of-type {\n",
              "        vertical-align: middle;\n",
              "    }\n",
              "\n",
              "    .dataframe tbody tr th {\n",
              "        vertical-align: top;\n",
              "    }\n",
              "\n",
              "    .dataframe thead th {\n",
              "        text-align: right;\n",
              "    }\n",
              "</style>\n",
              "<table border=\"1\" class=\"dataframe\">\n",
              "  <thead>\n",
              "    <tr style=\"text-align: right;\">\n",
              "      <th></th>\n",
              "      <th>x_loc</th>\n",
              "      <th>y_loc</th>\n",
              "    </tr>\n",
              "  </thead>\n",
              "  <tbody>\n",
              "    <tr>\n",
              "      <th>0</th>\n",
              "      <td>1</td>\n",
              "      <td>2</td>\n",
              "    </tr>\n",
              "    <tr>\n",
              "      <th>1</th>\n",
              "      <td>4</td>\n",
              "      <td>5</td>\n",
              "    </tr>\n",
              "    <tr>\n",
              "      <th>2</th>\n",
              "      <td>3</td>\n",
              "      <td>7</td>\n",
              "    </tr>\n",
              "  </tbody>\n",
              "</table>\n",
              "</div>\n",
              "      <button class=\"colab-df-convert\" onclick=\"convertToInteractive('df-57f4c535-8dd5-4a76-b708-bd42b88a934c')\"\n",
              "              title=\"Convert this dataframe to an interactive table.\"\n",
              "              style=\"display:none;\">\n",
              "        \n",
              "  <svg xmlns=\"http://www.w3.org/2000/svg\" height=\"24px\"viewBox=\"0 0 24 24\"\n",
              "       width=\"24px\">\n",
              "    <path d=\"M0 0h24v24H0V0z\" fill=\"none\"/>\n",
              "    <path d=\"M18.56 5.44l.94 2.06.94-2.06 2.06-.94-2.06-.94-.94-2.06-.94 2.06-2.06.94zm-11 1L8.5 8.5l.94-2.06 2.06-.94-2.06-.94L8.5 2.5l-.94 2.06-2.06.94zm10 10l.94 2.06.94-2.06 2.06-.94-2.06-.94-.94-2.06-.94 2.06-2.06.94z\"/><path d=\"M17.41 7.96l-1.37-1.37c-.4-.4-.92-.59-1.43-.59-.52 0-1.04.2-1.43.59L10.3 9.45l-7.72 7.72c-.78.78-.78 2.05 0 2.83L4 21.41c.39.39.9.59 1.41.59.51 0 1.02-.2 1.41-.59l7.78-7.78 2.81-2.81c.8-.78.8-2.07 0-2.86zM5.41 20L4 18.59l7.72-7.72 1.47 1.35L5.41 20z\"/>\n",
              "  </svg>\n",
              "      </button>\n",
              "      \n",
              "  <style>\n",
              "    .colab-df-container {\n",
              "      display:flex;\n",
              "      flex-wrap:wrap;\n",
              "      gap: 12px;\n",
              "    }\n",
              "\n",
              "    .colab-df-convert {\n",
              "      background-color: #E8F0FE;\n",
              "      border: none;\n",
              "      border-radius: 50%;\n",
              "      cursor: pointer;\n",
              "      display: none;\n",
              "      fill: #1967D2;\n",
              "      height: 32px;\n",
              "      padding: 0 0 0 0;\n",
              "      width: 32px;\n",
              "    }\n",
              "\n",
              "    .colab-df-convert:hover {\n",
              "      background-color: #E2EBFA;\n",
              "      box-shadow: 0px 1px 2px rgba(60, 64, 67, 0.3), 0px 1px 3px 1px rgba(60, 64, 67, 0.15);\n",
              "      fill: #174EA6;\n",
              "    }\n",
              "\n",
              "    [theme=dark] .colab-df-convert {\n",
              "      background-color: #3B4455;\n",
              "      fill: #D2E3FC;\n",
              "    }\n",
              "\n",
              "    [theme=dark] .colab-df-convert:hover {\n",
              "      background-color: #434B5C;\n",
              "      box-shadow: 0px 1px 3px 1px rgba(0, 0, 0, 0.15);\n",
              "      filter: drop-shadow(0px 1px 2px rgba(0, 0, 0, 0.3));\n",
              "      fill: #FFFFFF;\n",
              "    }\n",
              "  </style>\n",
              "\n",
              "      <script>\n",
              "        const buttonEl =\n",
              "          document.querySelector('#df-57f4c535-8dd5-4a76-b708-bd42b88a934c button.colab-df-convert');\n",
              "        buttonEl.style.display =\n",
              "          google.colab.kernel.accessAllowed ? 'block' : 'none';\n",
              "\n",
              "        async function convertToInteractive(key) {\n",
              "          const element = document.querySelector('#df-57f4c535-8dd5-4a76-b708-bd42b88a934c');\n",
              "          const dataTable =\n",
              "            await google.colab.kernel.invokeFunction('convertToInteractive',\n",
              "                                                     [key], {});\n",
              "          if (!dataTable) return;\n",
              "\n",
              "          const docLinkHtml = 'Like what you see? Visit the ' +\n",
              "            '<a target=\"_blank\" href=https://colab.research.google.com/notebooks/data_table.ipynb>data table notebook</a>'\n",
              "            + ' to learn more about interactive tables.';\n",
              "          element.innerHTML = '';\n",
              "          dataTable['output_type'] = 'display_data';\n",
              "          await google.colab.output.renderOutput(dataTable, element);\n",
              "          const docLink = document.createElement('div');\n",
              "          docLink.innerHTML = docLinkHtml;\n",
              "          element.appendChild(docLink);\n",
              "        }\n",
              "      </script>\n",
              "    </div>\n",
              "  </div>\n",
              "  "
            ]
          },
          "metadata": {},
          "execution_count": 11
        }
      ]
    },
    {
      "cell_type": "code",
      "source": [
        "from tqdm.notebook import tqdm\n",
        "tqdm.pandas()"
      ],
      "metadata": {
        "id": "pgLRnx88sM0d"
      },
      "execution_count": 12,
      "outputs": []
    },
    {
      "cell_type": "code",
      "source": [
        "df = pd.DataFrame([['Roy', 25, 50000],\n",
        "                   ['Bob', 30, 60000],\n",
        "                   ['Joe', 35, 70000]], \n",
        "                   columns = [\"Names\", \"Age\", \"Salary\"])"
      ],
      "metadata": {
        "id": "6zpO-BuOsOMT"
      },
      "execution_count": 13,
      "outputs": []
    },
    {
      "cell_type": "code",
      "source": [
        "caption = 'This is a caption'\n",
        "\n",
        "df.style.set_caption(caption)"
      ],
      "metadata": {
        "colab": {
          "base_uri": "https://localhost:8080/",
          "height": 159
        },
        "id": "Vf3SbDBtsUXi",
        "outputId": "14c1bce5-b33f-4da7-833f-f56164ca9736"
      },
      "execution_count": 14,
      "outputs": [
        {
          "output_type": "execute_result",
          "data": {
            "text/plain": [
              "<pandas.io.formats.style.Styler at 0x7f70386fb3d0>"
            ],
            "text/html": [
              "<style type=\"text/css\">\n",
              "</style>\n",
              "<table id=\"T_ff8eb\" class=\"dataframe\">\n",
              "  <caption>This is a caption</caption>\n",
              "  <thead>\n",
              "    <tr>\n",
              "      <th class=\"blank level0\" >&nbsp;</th>\n",
              "      <th id=\"T_ff8eb_level0_col0\" class=\"col_heading level0 col0\" >Names</th>\n",
              "      <th id=\"T_ff8eb_level0_col1\" class=\"col_heading level0 col1\" >Age</th>\n",
              "      <th id=\"T_ff8eb_level0_col2\" class=\"col_heading level0 col2\" >Salary</th>\n",
              "    </tr>\n",
              "  </thead>\n",
              "  <tbody>\n",
              "    <tr>\n",
              "      <th id=\"T_ff8eb_level0_row0\" class=\"row_heading level0 row0\" >0</th>\n",
              "      <td id=\"T_ff8eb_row0_col0\" class=\"data row0 col0\" >Roy</td>\n",
              "      <td id=\"T_ff8eb_row0_col1\" class=\"data row0 col1\" >25</td>\n",
              "      <td id=\"T_ff8eb_row0_col2\" class=\"data row0 col2\" >50000</td>\n",
              "    </tr>\n",
              "    <tr>\n",
              "      <th id=\"T_ff8eb_level0_row1\" class=\"row_heading level0 row1\" >1</th>\n",
              "      <td id=\"T_ff8eb_row1_col0\" class=\"data row1 col0\" >Bob</td>\n",
              "      <td id=\"T_ff8eb_row1_col1\" class=\"data row1 col1\" >30</td>\n",
              "      <td id=\"T_ff8eb_row1_col2\" class=\"data row1 col2\" >60000</td>\n",
              "    </tr>\n",
              "    <tr>\n",
              "      <th id=\"T_ff8eb_level0_row2\" class=\"row_heading level0 row2\" >2</th>\n",
              "      <td id=\"T_ff8eb_row2_col0\" class=\"data row2 col0\" >Joe</td>\n",
              "      <td id=\"T_ff8eb_row2_col1\" class=\"data row2 col1\" >35</td>\n",
              "      <td id=\"T_ff8eb_row2_col2\" class=\"data row2 col2\" >70000</td>\n",
              "    </tr>\n",
              "  </tbody>\n",
              "</table>\n"
            ]
          },
          "metadata": {},
          "execution_count": 14
        }
      ]
    },
    {
      "cell_type": "code",
      "source": [
        "df"
      ],
      "metadata": {
        "colab": {
          "base_uri": "https://localhost:8080/",
          "height": 142
        },
        "id": "fF8_fxFBsVUz",
        "outputId": "f46d729c-b4ee-4645-fd5e-38d4e4a6d77f"
      },
      "execution_count": 15,
      "outputs": [
        {
          "output_type": "execute_result",
          "data": {
            "text/plain": [
              "  Names  Age  Salary\n",
              "0   Roy   25   50000\n",
              "1   Bob   30   60000\n",
              "2   Joe   35   70000"
            ],
            "text/html": [
              "\n",
              "  <div id=\"df-25d25ae2-029e-46fc-9496-fc1a0ec6a6dc\">\n",
              "    <div class=\"colab-df-container\">\n",
              "      <div>\n",
              "<style scoped>\n",
              "    .dataframe tbody tr th:only-of-type {\n",
              "        vertical-align: middle;\n",
              "    }\n",
              "\n",
              "    .dataframe tbody tr th {\n",
              "        vertical-align: top;\n",
              "    }\n",
              "\n",
              "    .dataframe thead th {\n",
              "        text-align: right;\n",
              "    }\n",
              "</style>\n",
              "<table border=\"1\" class=\"dataframe\">\n",
              "  <thead>\n",
              "    <tr style=\"text-align: right;\">\n",
              "      <th></th>\n",
              "      <th>Names</th>\n",
              "      <th>Age</th>\n",
              "      <th>Salary</th>\n",
              "    </tr>\n",
              "  </thead>\n",
              "  <tbody>\n",
              "    <tr>\n",
              "      <th>0</th>\n",
              "      <td>Roy</td>\n",
              "      <td>25</td>\n",
              "      <td>50000</td>\n",
              "    </tr>\n",
              "    <tr>\n",
              "      <th>1</th>\n",
              "      <td>Bob</td>\n",
              "      <td>30</td>\n",
              "      <td>60000</td>\n",
              "    </tr>\n",
              "    <tr>\n",
              "      <th>2</th>\n",
              "      <td>Joe</td>\n",
              "      <td>35</td>\n",
              "      <td>70000</td>\n",
              "    </tr>\n",
              "  </tbody>\n",
              "</table>\n",
              "</div>\n",
              "      <button class=\"colab-df-convert\" onclick=\"convertToInteractive('df-25d25ae2-029e-46fc-9496-fc1a0ec6a6dc')\"\n",
              "              title=\"Convert this dataframe to an interactive table.\"\n",
              "              style=\"display:none;\">\n",
              "        \n",
              "  <svg xmlns=\"http://www.w3.org/2000/svg\" height=\"24px\"viewBox=\"0 0 24 24\"\n",
              "       width=\"24px\">\n",
              "    <path d=\"M0 0h24v24H0V0z\" fill=\"none\"/>\n",
              "    <path d=\"M18.56 5.44l.94 2.06.94-2.06 2.06-.94-2.06-.94-.94-2.06-.94 2.06-2.06.94zm-11 1L8.5 8.5l.94-2.06 2.06-.94-2.06-.94L8.5 2.5l-.94 2.06-2.06.94zm10 10l.94 2.06.94-2.06 2.06-.94-2.06-.94-.94-2.06-.94 2.06-2.06.94z\"/><path d=\"M17.41 7.96l-1.37-1.37c-.4-.4-.92-.59-1.43-.59-.52 0-1.04.2-1.43.59L10.3 9.45l-7.72 7.72c-.78.78-.78 2.05 0 2.83L4 21.41c.39.39.9.59 1.41.59.51 0 1.02-.2 1.41-.59l7.78-7.78 2.81-2.81c.8-.78.8-2.07 0-2.86zM5.41 20L4 18.59l7.72-7.72 1.47 1.35L5.41 20z\"/>\n",
              "  </svg>\n",
              "      </button>\n",
              "      \n",
              "  <style>\n",
              "    .colab-df-container {\n",
              "      display:flex;\n",
              "      flex-wrap:wrap;\n",
              "      gap: 12px;\n",
              "    }\n",
              "\n",
              "    .colab-df-convert {\n",
              "      background-color: #E8F0FE;\n",
              "      border: none;\n",
              "      border-radius: 50%;\n",
              "      cursor: pointer;\n",
              "      display: none;\n",
              "      fill: #1967D2;\n",
              "      height: 32px;\n",
              "      padding: 0 0 0 0;\n",
              "      width: 32px;\n",
              "    }\n",
              "\n",
              "    .colab-df-convert:hover {\n",
              "      background-color: #E2EBFA;\n",
              "      box-shadow: 0px 1px 2px rgba(60, 64, 67, 0.3), 0px 1px 3px 1px rgba(60, 64, 67, 0.15);\n",
              "      fill: #174EA6;\n",
              "    }\n",
              "\n",
              "    [theme=dark] .colab-df-convert {\n",
              "      background-color: #3B4455;\n",
              "      fill: #D2E3FC;\n",
              "    }\n",
              "\n",
              "    [theme=dark] .colab-df-convert:hover {\n",
              "      background-color: #434B5C;\n",
              "      box-shadow: 0px 1px 3px 1px rgba(0, 0, 0, 0.15);\n",
              "      filter: drop-shadow(0px 1px 2px rgba(0, 0, 0, 0.3));\n",
              "      fill: #FFFFFF;\n",
              "    }\n",
              "  </style>\n",
              "\n",
              "      <script>\n",
              "        const buttonEl =\n",
              "          document.querySelector('#df-25d25ae2-029e-46fc-9496-fc1a0ec6a6dc button.colab-df-convert');\n",
              "        buttonEl.style.display =\n",
              "          google.colab.kernel.accessAllowed ? 'block' : 'none';\n",
              "\n",
              "        async function convertToInteractive(key) {\n",
              "          const element = document.querySelector('#df-25d25ae2-029e-46fc-9496-fc1a0ec6a6dc');\n",
              "          const dataTable =\n",
              "            await google.colab.kernel.invokeFunction('convertToInteractive',\n",
              "                                                     [key], {});\n",
              "          if (!dataTable) return;\n",
              "\n",
              "          const docLinkHtml = 'Like what you see? Visit the ' +\n",
              "            '<a target=\"_blank\" href=https://colab.research.google.com/notebooks/data_table.ipynb>data table notebook</a>'\n",
              "            + ' to learn more about interactive tables.';\n",
              "          element.innerHTML = '';\n",
              "          dataTable['output_type'] = 'display_data';\n",
              "          await google.colab.output.renderOutput(dataTable, element);\n",
              "          const docLink = document.createElement('div');\n",
              "          docLink.innerHTML = docLinkHtml;\n",
              "          element.appendChild(docLink);\n",
              "        }\n",
              "      </script>\n",
              "    </div>\n",
              "  </div>\n",
              "  "
            ]
          },
          "metadata": {},
          "execution_count": 15
        }
      ]
    },
    {
      "cell_type": "code",
      "source": [
        "df.style.format({\"Height\": \"{:20,.0f} cm\", \n",
        "                 \"Weight\": \"{:20,.0f} kgs\",\n",
        "                 \"Saving\":\"${:20,.0f}\"})"
      ],
      "metadata": {
        "id": "n441M7rnsWho",
        "outputId": "5a6bfab4-0023-458a-c58a-a99873fcfd99",
        "colab": {
          "base_uri": "https://localhost:8080/",
          "height": 142
        }
      },
      "execution_count": 16,
      "outputs": [
        {
          "output_type": "execute_result",
          "data": {
            "text/plain": [
              "<pandas.io.formats.style.Styler at 0x7f7038481c30>"
            ],
            "text/html": [
              "<style type=\"text/css\">\n",
              "</style>\n",
              "<table id=\"T_ad4c1\" class=\"dataframe\">\n",
              "  <thead>\n",
              "    <tr>\n",
              "      <th class=\"blank level0\" >&nbsp;</th>\n",
              "      <th id=\"T_ad4c1_level0_col0\" class=\"col_heading level0 col0\" >Names</th>\n",
              "      <th id=\"T_ad4c1_level0_col1\" class=\"col_heading level0 col1\" >Age</th>\n",
              "      <th id=\"T_ad4c1_level0_col2\" class=\"col_heading level0 col2\" >Salary</th>\n",
              "    </tr>\n",
              "  </thead>\n",
              "  <tbody>\n",
              "    <tr>\n",
              "      <th id=\"T_ad4c1_level0_row0\" class=\"row_heading level0 row0\" >0</th>\n",
              "      <td id=\"T_ad4c1_row0_col0\" class=\"data row0 col0\" >Roy</td>\n",
              "      <td id=\"T_ad4c1_row0_col1\" class=\"data row0 col1\" >25</td>\n",
              "      <td id=\"T_ad4c1_row0_col2\" class=\"data row0 col2\" >50000</td>\n",
              "    </tr>\n",
              "    <tr>\n",
              "      <th id=\"T_ad4c1_level0_row1\" class=\"row_heading level0 row1\" >1</th>\n",
              "      <td id=\"T_ad4c1_row1_col0\" class=\"data row1 col0\" >Bob</td>\n",
              "      <td id=\"T_ad4c1_row1_col1\" class=\"data row1 col1\" >30</td>\n",
              "      <td id=\"T_ad4c1_row1_col2\" class=\"data row1 col2\" >60000</td>\n",
              "    </tr>\n",
              "    <tr>\n",
              "      <th id=\"T_ad4c1_level0_row2\" class=\"row_heading level0 row2\" >2</th>\n",
              "      <td id=\"T_ad4c1_row2_col0\" class=\"data row2 col0\" >Joe</td>\n",
              "      <td id=\"T_ad4c1_row2_col1\" class=\"data row2 col1\" >35</td>\n",
              "      <td id=\"T_ad4c1_row2_col2\" class=\"data row2 col2\" >70000</td>\n",
              "    </tr>\n",
              "  </tbody>\n",
              "</table>\n"
            ]
          },
          "metadata": {},
          "execution_count": 16
        }
      ]
    }
  ]
}
