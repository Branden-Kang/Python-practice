{
  "nbformat": 4,
  "nbformat_minor": 0,
  "metadata": {
    "colab": {
      "provenance": [],
      "authorship_tag": "ABX9TyPbLwFKEdd0L1KoEtLFzIEt"
    },
    "kernelspec": {
      "name": "python3",
      "display_name": "Python 3"
    },
    "language_info": {
      "name": "python"
    }
  },
  "cells": [
    {
      "cell_type": "markdown",
      "source": [
        "[Reference](https://medium.com/@agusmahari/pandas-structure-pandas-code-for-maintainability-and-reusability-2b15fc27a50f)"
      ],
      "metadata": {
        "id": "zBxiRelFnVkk"
      }
    },
    {
      "cell_type": "code",
      "execution_count": 1,
      "metadata": {
        "id": "PdLhw7iRnTaO"
      },
      "outputs": [],
      "source": [
        "def sort_dataframe(df, sort_cols, ascending=True):\n",
        "    \"\"\"\n",
        "    Sorts a pandas data frame based on one or more columns.\n",
        "    :param df: The data frame to sort.\n",
        "    :param sort_cols: A list of column names to sort by.\n",
        "    :param ascending: Whether to sort in ascending order (True) or descending order (False).\n",
        "    :return: The sorted data frame.\n",
        "    \"\"\"\n",
        "    return df.sort_values(by=sort_cols, ascending=ascending)"
      ]
    },
    {
      "cell_type": "code",
      "source": [
        "import pandas as pd\n",
        "\n",
        "# create a sample data frame\n",
        "data = {'name': ['Alice', 'Bob', 'Charlie'],\n",
        "        'age': [25, 30, 35],\n",
        "        'salary': [50000, 70000, 60000]}\n",
        "df = pd.DataFrame(data)\n",
        "\n",
        "# sort the data frame by age in descending order\n",
        "sorted_df = sort_dataframe(df, ['age'], False)\n",
        "print(sorted_df)"
      ],
      "metadata": {
        "colab": {
          "base_uri": "https://localhost:8080/"
        },
        "id": "RuiwHFYgnXoE",
        "outputId": "45d38b19-2eb9-4b7c-a04c-37f5b551235a"
      },
      "execution_count": 2,
      "outputs": [
        {
          "output_type": "stream",
          "name": "stdout",
          "text": [
            "      name  age  salary\n",
            "2  Charlie   35   60000\n",
            "1      Bob   30   70000\n",
            "0    Alice   25   50000\n"
          ]
        }
      ]
    },
    {
      "cell_type": "code",
      "source": [
        "import pandas as pd\n",
        "\n",
        "def preprocess_data(file_path):\n",
        "    # load data from file\n",
        "    df = pd.read_csv(file_path)\n",
        "    \n",
        "    # perform data cleaning and preprocessing with method chaining\n",
        "    cleaned_df = (\n",
        "        df\n",
        "        .dropna()  # remove rows with missing values\n",
        "        .rename(columns={'old_col_name': 'new_col_name'})  # rename columns\n",
        "        .assign(new_col=lambda x: x['col1'] + x['col2'])  # create a new column by adding two existing columns\n",
        "        .query('col3 > 0')  # filter rows where col3 is greater than 0\n",
        "        .reset_index(drop=True)  # reset the index\n",
        "    )\n",
        "    \n",
        "    return cleaned_df"
      ],
      "metadata": {
        "id": "MVFN18Vanb5w"
      },
      "execution_count": 3,
      "outputs": []
    },
    {
      "cell_type": "code",
      "source": [
        "# cleaned_df = preprocess_data('data.csv')"
      ],
      "metadata": {
        "id": "r7LiCaHcnepq"
      },
      "execution_count": 4,
      "outputs": []
    },
    {
      "cell_type": "code",
      "source": [
        "def filter_dataframe(df, filter_col, filter_val):\n",
        "    \"\"\"\n",
        "    Filters a pandas data frame based on a given column and value.\n",
        "\n",
        "    Parameters:\n",
        "        df (pandas.DataFrame): The data frame to filter.\n",
        "        filter_col (str): The column to filter on.\n",
        "        filter_val (object): The value to filter on.\n",
        "\n",
        "    Returns:\n",
        "        pandas.DataFrame: The filtered data frame.\n",
        "    \"\"\"\n",
        "    return df[df[filter_col] == filter_val]"
      ],
      "metadata": {
        "id": "U-O-yAu7ngQ8"
      },
      "execution_count": 5,
      "outputs": []
    }
  ]
}
