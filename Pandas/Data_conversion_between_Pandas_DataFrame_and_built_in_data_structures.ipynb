{
  "nbformat": 4,
  "nbformat_minor": 0,
  "metadata": {
    "colab": {
      "provenance": [],
      "authorship_tag": "ABX9TyNGRznnLTbvcT+n32Y3NDL+"
    },
    "kernelspec": {
      "name": "python3",
      "display_name": "Python 3"
    },
    "language_info": {
      "name": "python"
    }
  },
  "cells": [
    {
      "cell_type": "markdown",
      "source": [
        "[Reference](https://medium.com/@tubelwj/data-conversion-between-pandas-dataframe-and-built-in-data-structures-400c8b9e67ed)"
      ],
      "metadata": {
        "id": "IwITy4KEdmsA"
      }
    },
    {
      "cell_type": "code",
      "execution_count": 1,
      "metadata": {
        "colab": {
          "base_uri": "https://localhost:8080/"
        },
        "id": "o3R70Hgqda_i",
        "outputId": "8d01fe40-be46-425b-ec02-ae278e653059"
      },
      "outputs": [
        {
          "output_type": "stream",
          "name": "stdout",
          "text": [
            "      product  price  quantity\n",
            "0      Laptop   1500         5\n",
            "1  Smartphone    800        10\n",
            "2      Tablet    600         7\n"
          ]
        }
      ],
      "source": [
        "import pandas as pd\n",
        "\n",
        "df = pd.DataFrame({\"product\": [\"Laptop\", \"Smartphone\", \"Tablet\"],\n",
        "                   \"price\": [1500, 800, 600],\n",
        "                   \"quantity\": [5, 10, 7]})\n",
        "\n",
        "print(df)"
      ]
    },
    {
      "cell_type": "markdown",
      "source": [
        "# 1. df.to_records()"
      ],
      "metadata": {
        "id": "uedPoSHwdxsg"
      }
    },
    {
      "cell_type": "code",
      "source": [
        "import pandas as pd\n",
        "\n",
        "df = pd.DataFrame({\"product\": [\"Laptop\", \"Smartphone\", \"Tablet\"],\n",
        "                   \"price\": [1500, 800, 600],\n",
        "                   \"quantity\": [5, 10, 7]})\n",
        "\n",
        "# Output records including the index\n",
        "print(df.to_records())\n",
        "\n",
        "# Output records without the index\n",
        "print(df.to_records(index=False))\n",
        "\n",
        "# Convert records without the index into a list\n",
        "print(df.to_records(index=False).tolist())"
      ],
      "metadata": {
        "colab": {
          "base_uri": "https://localhost:8080/"
        },
        "id": "tb2rBCE4dv5F",
        "outputId": "deca850c-c384-4e33-d6d1-3ba92136fc9c"
      },
      "execution_count": 2,
      "outputs": [
        {
          "output_type": "stream",
          "name": "stdout",
          "text": [
            "[(0, 'Laptop', 1500,  5) (1, 'Smartphone',  800, 10)\n",
            " (2, 'Tablet',  600,  7)]\n",
            "[('Laptop', 1500,  5) ('Smartphone',  800, 10) ('Tablet',  600,  7)]\n",
            "[('Laptop', 1500, 5), ('Smartphone', 800, 10), ('Tablet', 600, 7)]\n"
          ]
        }
      ]
    },
    {
      "cell_type": "markdown",
      "source": [
        "# 2. 2. df.to_dict()"
      ],
      "metadata": {
        "id": "fBLO9rdPd4ZP"
      }
    },
    {
      "cell_type": "code",
      "source": [
        "import pandas as pd\n",
        "\n",
        "df = pd.DataFrame({\"product\": [\"Laptop\", \"Smartphone\", \"Tablet\"],\n",
        "                   \"price\": [1500, 800, 600],\n",
        "                   \"quantity\": [5, 10, 7]})\n",
        "\n",
        "# Return a Python dictionary, where the key is the column name and the value is each corresponding column\n",
        "print(df.to_dict())\n",
        "\n",
        "# Remove the index from the dictionary\n",
        "print(\n",
        "    {k: tuple(v.values()) for k, v in df.to_dict().items()}\n",
        ")\n",
        "\n",
        "# Manually implement to_dict() by converting each column into a tuple\n",
        "print(\n",
        "    {col: tuple(df[col]) for col in df.columns}\n",
        ")"
      ],
      "metadata": {
        "colab": {
          "base_uri": "https://localhost:8080/"
        },
        "id": "nuF2EWsrd17y",
        "outputId": "d12a7eec-960c-46ae-ffbf-6dcb551d005a"
      },
      "execution_count": 3,
      "outputs": [
        {
          "output_type": "stream",
          "name": "stdout",
          "text": [
            "{'product': {0: 'Laptop', 1: 'Smartphone', 2: 'Tablet'}, 'price': {0: 1500, 1: 800, 2: 600}, 'quantity': {0: 5, 1: 10, 2: 7}}\n",
            "{'product': ('Laptop', 'Smartphone', 'Tablet'), 'price': (1500, 800, 600), 'quantity': (5, 10, 7)}\n",
            "{'product': ('Laptop', 'Smartphone', 'Tablet'), 'price': (1500, 800, 600), 'quantity': (5, 10, 7)}\n"
          ]
        }
      ]
    },
    {
      "cell_type": "markdown",
      "source": [
        "# 3. df.to_dict(orient=\"records\")"
      ],
      "metadata": {
        "id": "5eIbjoZQeBBF"
      }
    },
    {
      "cell_type": "code",
      "source": [
        "import pandas as pd\n",
        "\n",
        "df = pd.DataFrame({\"product\": [\"Laptop\", \"Smartphone\", \"Tablet\"],\n",
        "                   \"price\": [1500, 800, 600],\n",
        "                   \"quantity\": [5, 10, 7]})\n",
        "\n",
        "# Convert the DataFrame to a Python list, where each element is a dictionary representing each row of data\n",
        "print(df.to_dict(orient=\"records\"))"
      ],
      "metadata": {
        "colab": {
          "base_uri": "https://localhost:8080/"
        },
        "id": "wqX2dZTQd_OK",
        "outputId": "e9b4632e-0a4b-4a9e-bee3-8baa922f4320"
      },
      "execution_count": 4,
      "outputs": [
        {
          "output_type": "stream",
          "name": "stdout",
          "text": [
            "[{'product': 'Laptop', 'price': 1500, 'quantity': 5}, {'product': 'Smartphone', 'price': 800, 'quantity': 10}, {'product': 'Tablet', 'price': 600, 'quantity': 7}]\n"
          ]
        }
      ]
    },
    {
      "cell_type": "code",
      "source": [
        "import pandas as pd\n",
        "\n",
        "data = [{'product': 'Laptop', 'price': 1500, 'quantity': 5},\n",
        "        {'product': 'Smartphone', 'price': 800, 'quantity': 10},\n",
        "        {'product': 'Tablet', 'price': 600, 'quantity': 7}]\n",
        "\n",
        "# For this kind of data, we can use the from_records method of DataFrame\n",
        "# The dictionaries in the list represent each row of the DataFrame,\n",
        "# and each dictionary has the same keys, which represent the columns of the DataFrame\n",
        "print(pd.DataFrame.from_records(data))"
      ],
      "metadata": {
        "colab": {
          "base_uri": "https://localhost:8080/"
        },
        "id": "GJ9rL4IheEOA",
        "outputId": "73f03331-66a2-4626-f573-79839bddd9ec"
      },
      "execution_count": 5,
      "outputs": [
        {
          "output_type": "stream",
          "name": "stdout",
          "text": [
            "      product  price  quantity\n",
            "0      Laptop   1500         5\n",
            "1  Smartphone    800        10\n",
            "2      Tablet    600         7\n"
          ]
        }
      ]
    },
    {
      "cell_type": "code",
      "source": [
        "# Alternatively, it's simpler to call pd.DataFrame directly\n",
        "print(pd.DataFrame(data))"
      ],
      "metadata": {
        "colab": {
          "base_uri": "https://localhost:8080/"
        },
        "id": "eugREsLOeHnO",
        "outputId": "53f6b1b0-b34b-4bed-f5a7-9c9d218c2db8"
      },
      "execution_count": 6,
      "outputs": [
        {
          "output_type": "stream",
          "name": "stdout",
          "text": [
            "      product  price  quantity\n",
            "0      Laptop   1500         5\n",
            "1  Smartphone    800        10\n",
            "2      Tablet    600         7\n"
          ]
        }
      ]
    },
    {
      "cell_type": "code",
      "source": [
        "# What happens if the dictionaries in the list do not have the same keys?\n",
        "data[2][\"discount\"] = 50  # Adding a new key for the last dictionary\n",
        "print(pd.DataFrame(data))"
      ],
      "metadata": {
        "colab": {
          "base_uri": "https://localhost:8080/"
        },
        "id": "WLQ2a8XBeJyu",
        "outputId": "d754d2b5-d982-4f1a-a5ec-b21e417209bd"
      },
      "execution_count": 7,
      "outputs": [
        {
          "output_type": "stream",
          "name": "stdout",
          "text": [
            "      product  price  quantity  discount\n",
            "0      Laptop   1500         5       NaN\n",
            "1  Smartphone    800        10       NaN\n",
            "2      Tablet    600         7      50.0\n"
          ]
        }
      ]
    },
    {
      "cell_type": "code",
      "source": [
        "import pandas as pd\n",
        "\n",
        "data = {'2024-10-01': {'product': 'Laptop', 'price': 1500, 'quantity': 5},\n",
        "        '2024-10-02': {'product': 'Smartphone', 'price': 800, 'quantity': 10},\n",
        "        '2024-10-03': {'product': 'Tablet', 'price': 600, 'quantity': 7}}\n",
        "\n",
        "# Create a DataFrame from a dictionary with dates as keys\n",
        "# The orient=\"index\" parameter indicates that the keys will be used as the index\n",
        "\n",
        "print(pd.DataFrame.from_dict(data, orient=\"index\"))"
      ],
      "metadata": {
        "colab": {
          "base_uri": "https://localhost:8080/"
        },
        "id": "GBISHJZSeL2n",
        "outputId": "05f744e4-99a5-4d38-89c3-3dea3c600f12"
      },
      "execution_count": 9,
      "outputs": [
        {
          "output_type": "stream",
          "name": "stdout",
          "text": [
            "               product  price  quantity\n",
            "2024-10-01      Laptop   1500         5\n",
            "2024-10-02  Smartphone    800        10\n",
            "2024-10-03      Tablet    600         7\n"
          ]
        }
      ]
    },
    {
      "cell_type": "code",
      "source": [
        "import pandas as pd\n",
        "\n",
        "data = {'product': ['Laptop', 'Smartphone', 'Tablet'],\n",
        "        'price': [1500, 800, 600],\n",
        "        'quantity': [5, 10, 7]}\n",
        "\n",
        "# Simply call DataFrame to create a DataFrame from the dictionary\n",
        "\n",
        "print(pd.DataFrame(data))"
      ],
      "metadata": {
        "colab": {
          "base_uri": "https://localhost:8080/"
        },
        "id": "Q9sC0jAxeO6e",
        "outputId": "d419562d-c98a-4adb-c9ce-8e8b12f4b341"
      },
      "execution_count": 10,
      "outputs": [
        {
          "output_type": "stream",
          "name": "stdout",
          "text": [
            "      product  price  quantity\n",
            "0      Laptop   1500         5\n",
            "1  Smartphone    800        10\n",
            "2      Tablet    600         7\n"
          ]
        }
      ]
    }
  ]
}
