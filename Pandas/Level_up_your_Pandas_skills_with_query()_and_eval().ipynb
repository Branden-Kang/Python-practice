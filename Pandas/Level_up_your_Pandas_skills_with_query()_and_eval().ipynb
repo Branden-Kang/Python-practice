{
  "nbformat": 4,
  "nbformat_minor": 0,
  "metadata": {
    "colab": {
      "provenance": [],
      "authorship_tag": "ABX9TyMChW1u4z9kzlPV9dP2VPH4"
    },
    "kernelspec": {
      "name": "python3",
      "display_name": "Python 3"
    },
    "language_info": {
      "name": "python"
    }
  },
  "cells": [
    {
      "cell_type": "markdown",
      "source": [
        "[Reference](https://medium.com/@dreamferus/level-up-your-pandas-skills-with-query-and-eval-f065951162df)"
      ],
      "metadata": {
        "id": "sM2d1ComNlMB"
      }
    },
    {
      "cell_type": "code",
      "execution_count": 1,
      "metadata": {
        "id": "atjKcF1zNcEr"
      },
      "outputs": [],
      "source": [
        "import pandas as pd\n",
        "import numpy as np\n",
        "\n",
        "data = []\n",
        "for _ in range(100):\n",
        "    data.append({\n",
        "        \"gender\": \"Male\",\n",
        "        \"height\": np.random.normal(178, 10),\n",
        "        \"age\": np.random.uniform(20, 70)\n",
        "    })\n",
        "for _ in range(100):\n",
        "    data.append({\n",
        "        \"gender\": \"Female\",\n",
        "        \"height\": np.random.normal(166, 8),\n",
        "        \"age\": np.random.uniform(20, 70)\n",
        "    })\n",
        "df = (pd.DataFrame(data)\n",
        "    # sample to mix order\n",
        "    .sample(frac=1.0, replace=False)\n",
        "    .reset_index(drop=True)\n",
        " )"
      ]
    },
    {
      "cell_type": "code",
      "source": [
        "(\n",
        "    df[(df[\"gender\"] == \"Female\") & (df[\"age\"] >= 20) & (df[\"age\"] <= 30)][\"height\"]\n",
        "    .pipe(lambda x: [x.max(), x.min()])\n",
        ")"
      ],
      "metadata": {
        "colab": {
          "base_uri": "https://localhost:8080/"
        },
        "id": "6zI57ygeNqRD",
        "outputId": "0c6d144a-da4f-41f0-ed6e-0b5f802408bd"
      },
      "execution_count": 2,
      "outputs": [
        {
          "output_type": "execute_result",
          "data": {
            "text/plain": [
              "[180.04916329760601, 153.87550882936793]"
            ]
          },
          "metadata": {},
          "execution_count": 2
        }
      ]
    },
    {
      "cell_type": "code",
      "source": [
        "(\n",
        "    df.query(\"gender == 'Female' and 20 <= age <= 30\")\n",
        "    .eval(\"height.max(), height.min()\")\n",
        ")"
      ],
      "metadata": {
        "colab": {
          "base_uri": "https://localhost:8080/"
        },
        "id": "W1uWBggINr2j",
        "outputId": "ab125e35-4161-4603-8983-e2f3c56b084f"
      },
      "execution_count": 3,
      "outputs": [
        {
          "output_type": "execute_result",
          "data": {
            "text/plain": [
              "array([180.04916329760601, 153.87550882936793], dtype=object)"
            ]
          },
          "metadata": {},
          "execution_count": 3
        }
      ]
    },
    {
      "cell_type": "code",
      "source": [
        "## THE INCORRECT WAY\n",
        "a = df[df[\"gender\"] == \"Male\"].reset_index(drop=True).assign(age=df.age-10)\n",
        "# > This is incorrect, because in the final assign df.age refers to the\n",
        "# original df and not the df with only males and reset index!\n",
        "\n",
        "# How we should do it\n",
        "b = (df[df[\"gender\"] == \"Male\"].reset_index(drop=True)\n",
        "    .pipe(lambda x: x.assign(age=x.age-10)))\n",
        "# not equal\n",
        "assert not a.equals(b)\n",
        "\n",
        "# let's add some filtering afterwards\n",
        "b = (df[df[\"gender\"] == \"Male\"].reset_index(drop=True)\n",
        "    .pipe(lambda x: x.assign(age=x.age-10))\n",
        "    .pipe(lambda x: x[x[\"age\"] > 30]))"
      ],
      "metadata": {
        "id": "_fwb1YRSNtg-"
      },
      "execution_count": 4,
      "outputs": []
    },
    {
      "cell_type": "code",
      "source": [
        "c = (df.query(\"gender == 'Male'\")\n",
        "    .reset_index(drop=True)\n",
        "    .eval(\"age=age-10\")\n",
        "    .query(\"age > 30\"))\n",
        "assert b.equals(c)"
      ],
      "metadata": {
        "id": "GEZNR36zNvkI"
      },
      "execution_count": 5,
      "outputs": []
    },
    {
      "cell_type": "code",
      "source": [
        "# from numpy import power\n",
        "# import numpy as np\n",
        "\n",
        "# # works\n",
        "# df.query(\"@power(age, 2) > 1000\")\n",
        "# # doesn't work\n",
        "# df.query(\"@np.power(age, 2) > 1000\")"
      ],
      "metadata": {
        "id": "n_UAzVrJNw0I"
      },
      "execution_count": 8,
      "outputs": []
    },
    {
      "cell_type": "code",
      "source": [
        "# from numpy import power\n",
        "\n",
        "# # assigning a variable\n",
        "# df.eval(\"age_2 = @power(age, 2)\")\n",
        "\n",
        "# # to assign multiple variables we have to do it\n",
        "# # on a new line\n",
        "# # note that in the third assignment I use\n",
        "# # sqrt without a @, this is because some default\n",
        "# # operations exist that you can use\n",
        "# df.eval(\"\"\"\n",
        "#     age_2 = @power(age, 2)\n",
        "#     age_sqrt = age**(1/2)\n",
        "#     age_sqrt = sqrt(age)\n",
        "# \"\"\") \n",
        "# # => returns df with 3 new columns: age, age_2 and age_sqrt\n",
        "# # as always adding inplace=True will modify the data frame directly\n",
        "\n",
        "# df.eval(\"age+3\") # returns column age + 3\n",
        "# df.eval(\"[3, 2]\") # => return [3, 2]\n",
        "# df.eval(\"height.min()\") # => return min height"
      ],
      "metadata": {
        "id": "5cc8wK1TNySn"
      },
      "execution_count": 9,
      "outputs": []
    }
  ]
}
