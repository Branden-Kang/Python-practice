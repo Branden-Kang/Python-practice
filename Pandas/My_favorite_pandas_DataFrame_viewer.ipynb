{
  "nbformat": 4,
  "nbformat_minor": 0,
  "metadata": {
    "colab": {
      "name": "My favorite pandas DataFrame viewer.ipynb",
      "provenance": [],
      "authorship_tag": "ABX9TyPuNfJpu+6P7+jMbL576Ucl"
    },
    "kernelspec": {
      "name": "python3",
      "display_name": "Python 3"
    },
    "language_info": {
      "name": "python"
    }
  },
  "cells": [
    {
      "cell_type": "markdown",
      "source": [
        "[Reference](https://medium.com/@deephavendatalabs/my-favorite-pandas-dataframe-viewer-f01a715f89da)"
      ],
      "metadata": {
        "id": "k9zAfICBM73i"
      }
    },
    {
      "cell_type": "code",
      "source": [
        "!pip install pybaseball"
      ],
      "metadata": {
        "colab": {
          "base_uri": "https://localhost:8080/"
        },
        "id": "2MZIdGpiNCrQ",
        "outputId": "b2da0428-a62c-42a5-930f-aa2af424ec80"
      },
      "execution_count": 2,
      "outputs": [
        {
          "output_type": "stream",
          "name": "stdout",
          "text": [
            "Looking in indexes: https://pypi.org/simple, https://us-python.pkg.dev/colab-wheels/public/simple/\n",
            "Collecting pybaseball\n",
            "  Downloading pybaseball-2.2.1-py3-none-any.whl (415 kB)\n",
            "\u001b[K     |████████████████████████████████| 415 kB 9.0 MB/s \n",
            "\u001b[?25hRequirement already satisfied: requests>=2.18.1 in /usr/local/lib/python3.7/dist-packages (from pybaseball) (2.23.0)\n",
            "Requirement already satisfied: numpy>=1.13.0 in /usr/local/lib/python3.7/dist-packages (from pybaseball) (1.21.6)\n",
            "Requirement already satisfied: pyarrow>=1.0.1 in /usr/local/lib/python3.7/dist-packages (from pybaseball) (6.0.1)\n",
            "Requirement already satisfied: scipy>=1.4.0 in /usr/local/lib/python3.7/dist-packages (from pybaseball) (1.7.3)\n",
            "Requirement already satisfied: pandas>=1.0.3 in /usr/local/lib/python3.7/dist-packages (from pybaseball) (1.3.5)\n",
            "Requirement already satisfied: matplotlib>=2.0.0 in /usr/local/lib/python3.7/dist-packages (from pybaseball) (3.2.2)\n",
            "Requirement already satisfied: attrs>=20.3.0 in /usr/local/lib/python3.7/dist-packages (from pybaseball) (22.1.0)\n",
            "Collecting pygithub>=1.51\n",
            "  Downloading PyGithub-1.55-py3-none-any.whl (291 kB)\n",
            "\u001b[K     |████████████████████████████████| 291 kB 54.5 MB/s \n",
            "\u001b[?25hRequirement already satisfied: tqdm>=4.50.0 in /usr/local/lib/python3.7/dist-packages (from pybaseball) (4.64.0)\n",
            "Requirement already satisfied: beautifulsoup4>=4.4.0 in /usr/local/lib/python3.7/dist-packages (from pybaseball) (4.6.3)\n",
            "Requirement already satisfied: lxml>=4.2.1 in /usr/local/lib/python3.7/dist-packages (from pybaseball) (4.9.1)\n",
            "Requirement already satisfied: python-dateutil>=2.1 in /usr/local/lib/python3.7/dist-packages (from matplotlib>=2.0.0->pybaseball) (2.8.2)\n",
            "Requirement already satisfied: kiwisolver>=1.0.1 in /usr/local/lib/python3.7/dist-packages (from matplotlib>=2.0.0->pybaseball) (1.4.4)\n",
            "Requirement already satisfied: pyparsing!=2.0.4,!=2.1.2,!=2.1.6,>=2.0.1 in /usr/local/lib/python3.7/dist-packages (from matplotlib>=2.0.0->pybaseball) (3.0.9)\n",
            "Requirement already satisfied: cycler>=0.10 in /usr/local/lib/python3.7/dist-packages (from matplotlib>=2.0.0->pybaseball) (0.11.0)\n",
            "Requirement already satisfied: typing-extensions in /usr/local/lib/python3.7/dist-packages (from kiwisolver>=1.0.1->matplotlib>=2.0.0->pybaseball) (4.1.1)\n",
            "Requirement already satisfied: pytz>=2017.3 in /usr/local/lib/python3.7/dist-packages (from pandas>=1.0.3->pybaseball) (2022.1)\n",
            "Collecting pynacl>=1.4.0\n",
            "  Downloading PyNaCl-1.5.0-cp36-abi3-manylinux_2_17_x86_64.manylinux2014_x86_64.manylinux_2_24_x86_64.whl (856 kB)\n",
            "\u001b[K     |████████████████████████████████| 856 kB 51.5 MB/s \n",
            "\u001b[?25hCollecting pyjwt>=2.0\n",
            "  Downloading PyJWT-2.4.0-py3-none-any.whl (18 kB)\n",
            "Collecting deprecated\n",
            "  Downloading Deprecated-1.2.13-py2.py3-none-any.whl (9.6 kB)\n",
            "Requirement already satisfied: cffi>=1.4.1 in /usr/local/lib/python3.7/dist-packages (from pynacl>=1.4.0->pygithub>=1.51->pybaseball) (1.15.1)\n",
            "Requirement already satisfied: pycparser in /usr/local/lib/python3.7/dist-packages (from cffi>=1.4.1->pynacl>=1.4.0->pygithub>=1.51->pybaseball) (2.21)\n",
            "Requirement already satisfied: six>=1.5 in /usr/local/lib/python3.7/dist-packages (from python-dateutil>=2.1->matplotlib>=2.0.0->pybaseball) (1.15.0)\n",
            "Requirement already satisfied: urllib3!=1.25.0,!=1.25.1,<1.26,>=1.21.1 in /usr/local/lib/python3.7/dist-packages (from requests>=2.18.1->pybaseball) (1.24.3)\n",
            "Requirement already satisfied: idna<3,>=2.5 in /usr/local/lib/python3.7/dist-packages (from requests>=2.18.1->pybaseball) (2.10)\n",
            "Requirement already satisfied: certifi>=2017.4.17 in /usr/local/lib/python3.7/dist-packages (from requests>=2.18.1->pybaseball) (2022.6.15)\n",
            "Requirement already satisfied: chardet<4,>=3.0.2 in /usr/local/lib/python3.7/dist-packages (from requests>=2.18.1->pybaseball) (3.0.4)\n",
            "Requirement already satisfied: wrapt<2,>=1.10 in /usr/local/lib/python3.7/dist-packages (from deprecated->pygithub>=1.51->pybaseball) (1.14.1)\n",
            "Installing collected packages: pynacl, pyjwt, deprecated, pygithub, pybaseball\n",
            "Successfully installed deprecated-1.2.13 pybaseball-2.2.1 pygithub-1.55 pyjwt-2.4.0 pynacl-1.5.0\n"
          ]
        }
      ]
    },
    {
      "cell_type": "code",
      "execution_count": 3,
      "metadata": {
        "colab": {
          "base_uri": "https://localhost:8080/"
        },
        "id": "0RVm1oBlMFYU",
        "outputId": "25c40744-539a-4ae1-9ce0-e6880513a7dd"
      },
      "outputs": [
        {
          "output_type": "stream",
          "name": "stdout",
          "text": [
            "This is a large query, it may take a moment to complete\n"
          ]
        },
        {
          "output_type": "stream",
          "name": "stderr",
          "text": [
            "/usr/local/lib/python3.7/dist-packages/pybaseball/statcast.py:50: UserWarning: \n",
            "That's a nice request you got there. It'd be a shame if something were to happen to it.\n",
            "We strongly recommend that you enable caching before running this. It's as simple as `pybaseball.cache.enable()`.\n",
            "Since the Statcast requests can take a *really* long time to run, if something were to happen, like: a disconnect;\n",
            "gremlins; computer repair by associates of Rudy Giuliani; electromagnetic interference from metal trash cans; etc.;\n",
            "you could lose a lot of progress. Enabling caching will allow you to immediately recover all the successful\n",
            "subqueries if that happens.\n",
            "  warnings.warn(_OVERSIZE_WARNING)\n",
            "100%|██████████| 125/125 [02:42<00:00,  1.30s/it]\n"
          ]
        }
      ],
      "source": [
        "from datetime import datetime\n",
        "import pybaseball as pyb\n",
        "season_start_date = \"2022-04-07\"\n",
        "todays_date = datetime.today().strftime(\"%Y-%m-%d\")\n",
        "df_2022 = pyb.statcast(season_start_date, todays_date)"
      ]
    },
    {
      "cell_type": "code",
      "source": [
        "import pybaseball as pyb\n",
        "austin_davis = pyb.playerid_lookup(\"davis\", \"austin\")"
      ],
      "metadata": {
        "colab": {
          "base_uri": "https://localhost:8080/"
        },
        "id": "v60M4wNPM-sX",
        "outputId": "4cc18d11-0495-4359-fea3-7dc7f5fa5762"
      },
      "execution_count": 4,
      "outputs": [
        {
          "output_type": "stream",
          "name": "stdout",
          "text": [
            "Gathering player lookup table. This may take a moment.\n"
          ]
        }
      ]
    }
  ]
}
