{
  "nbformat": 4,
  "nbformat_minor": 0,
  "metadata": {
    "colab": {
      "provenance": [],
      "authorship_tag": "ABX9TyObspRF43+npOATKUaT6Nsb"
    },
    "kernelspec": {
      "name": "python3",
      "display_name": "Python 3"
    },
    "language_info": {
      "name": "python"
    }
  },
  "cells": [
    {
      "cell_type": "markdown",
      "source": [
        "[Reference](https://medium.com/@deyanupama18/6-pandas-tricks-every-data-geek-should-know-78391172890c)"
      ],
      "metadata": {
        "id": "Vqstqc2PeJ2Y"
      }
    },
    {
      "cell_type": "markdown",
      "source": [
        "# 1. Creating DataFrames with Ease"
      ],
      "metadata": {
        "id": "GGSBroZ5eMY9"
      }
    },
    {
      "cell_type": "code",
      "execution_count": 1,
      "metadata": {
        "colab": {
          "base_uri": "https://localhost:8080/"
        },
        "id": "nlxz-pKkeHTr",
        "outputId": "d4160687-3d12-4097-befd-f74ad2463c4c"
      },
      "outputs": [
        {
          "output_type": "stream",
          "name": "stdout",
          "text": [
            "      Name  Age         City\n",
            "0    Alice   25     New York\n",
            "1      Bob   30  Los Angeles\n",
            "2  Charlie   35      Chicago\n"
          ]
        }
      ],
      "source": [
        "import pandas as pd\n",
        "data = {\n",
        " 'Name': ['Alice', 'Bob', 'Charlie'],\n",
        " 'Age': [25, 30, 35],\n",
        " 'City': ['New York', 'Los Angeles', 'Chicago']\n",
        "}\n",
        "df = pd.DataFrame(data)\n",
        "print(df)"
      ]
    },
    {
      "cell_type": "markdown",
      "source": [
        "# 2. Chaining for Clarity and Brevity"
      ],
      "metadata": {
        "id": "YeDiq81VeONd"
      }
    },
    {
      "cell_type": "code",
      "source": [
        "df_filtered = df[df['Age'] > 28].sort_values(by='Name').reset_index(drop=True)\n",
        "print(df_filtered)"
      ],
      "metadata": {
        "colab": {
          "base_uri": "https://localhost:8080/"
        },
        "id": "WQgIq_0feNeH",
        "outputId": "69eaa79c-9f49-4624-a8a9-8fd3991678b1"
      },
      "execution_count": 2,
      "outputs": [
        {
          "output_type": "stream",
          "name": "stdout",
          "text": [
            "      Name  Age         City\n",
            "0      Bob   30  Los Angeles\n",
            "1  Charlie   35      Chicago\n"
          ]
        }
      ]
    },
    {
      "cell_type": "code",
      "source": [
        "def categorize_age(age):\n",
        " if age < 30:\n",
        "    return 'Young'\n",
        " elif age < 40:\n",
        "    return 'Middle-aged'\n",
        " else:\n",
        "    return 'Senior'\n",
        "df['Age Category'] = df['Age'].apply(categorize_age)\n",
        "print(df)"
      ],
      "metadata": {
        "colab": {
          "base_uri": "https://localhost:8080/"
        },
        "id": "iFvOSUhMeSjR",
        "outputId": "30341bbe-a285-4d9f-e798-154d7c390684"
      },
      "execution_count": 4,
      "outputs": [
        {
          "output_type": "stream",
          "name": "stdout",
          "text": [
            "      Name  Age         City Age Category\n",
            "0    Alice   25     New York        Young\n",
            "1      Bob   30  Los Angeles  Middle-aged\n",
            "2  Charlie   35      Chicago  Middle-aged\n"
          ]
        }
      ]
    },
    {
      "cell_type": "markdown",
      "source": [
        "# 4. Taming Missing Data with `fillna`"
      ],
      "metadata": {
        "id": "Dt-h9RcFeRD7"
      }
    },
    {
      "cell_type": "code",
      "source": [
        "df['City'].fillna('Unknown', inplace=True)"
      ],
      "metadata": {
        "colab": {
          "base_uri": "https://localhost:8080/"
        },
        "id": "CjGIkbrFePYj",
        "outputId": "aed503f2-c138-4284-8703-4cb13e92246a"
      },
      "execution_count": 6,
      "outputs": [
        {
          "output_type": "stream",
          "name": "stderr",
          "text": [
            "<ipython-input-6-66fcc146152a>:1: FutureWarning: A value is trying to be set on a copy of a DataFrame or Series through chained assignment using an inplace method.\n",
            "The behavior will change in pandas 3.0. This inplace method will never work because the intermediate object on which we are setting values always behaves as a copy.\n",
            "\n",
            "For example, when doing 'df[col].method(value, inplace=True)', try using 'df.method({col: value}, inplace=True)' or df[col] = df[col].method(value) instead, to perform the operation inplace on the original object.\n",
            "\n",
            "\n",
            "  df['City'].fillna('Unknown', inplace=True)\n"
          ]
        }
      ]
    },
    {
      "cell_type": "code",
      "source": [
        "df['City'].fillna('Unknown', inplace=True)"
      ],
      "metadata": {
        "colab": {
          "base_uri": "https://localhost:8080/"
        },
        "id": "gXeEmg6BeXQH",
        "outputId": "2b7feea9-9cb6-48a8-d07a-b70cf82172cd"
      },
      "execution_count": 7,
      "outputs": [
        {
          "output_type": "stream",
          "name": "stderr",
          "text": [
            "<ipython-input-7-66fcc146152a>:1: FutureWarning: A value is trying to be set on a copy of a DataFrame or Series through chained assignment using an inplace method.\n",
            "The behavior will change in pandas 3.0. This inplace method will never work because the intermediate object on which we are setting values always behaves as a copy.\n",
            "\n",
            "For example, when doing 'df[col].method(value, inplace=True)', try using 'df.method({col: value}, inplace=True)' or df[col] = df[col].method(value) instead, to perform the operation inplace on the original object.\n",
            "\n",
            "\n",
            "  df['City'].fillna('Unknown', inplace=True)\n"
          ]
        }
      ]
    },
    {
      "cell_type": "markdown",
      "source": [
        "# 5. Aggregating with `groupby`"
      ],
      "metadata": {
        "id": "L1SV2sDxeaqY"
      }
    },
    {
      "cell_type": "code",
      "source": [
        "grouped_df = df.groupby('Age Category').agg({'Name': 'count'})\n",
        "print(grouped_df)"
      ],
      "metadata": {
        "colab": {
          "base_uri": "https://localhost:8080/"
        },
        "id": "ymfDVgZPeZpC",
        "outputId": "e79bee1f-47ed-4f48-ea76-ba57a9ca91d1"
      },
      "execution_count": 8,
      "outputs": [
        {
          "output_type": "stream",
          "name": "stdout",
          "text": [
            "              Name\n",
            "Age Category      \n",
            "Middle-aged      2\n",
            "Young            1\n"
          ]
        }
      ]
    },
    {
      "cell_type": "code",
      "source": [
        "summary = df.groupby('City').agg({\n",
        " 'Age': ['mean', 'min', 'max'],\n",
        " 'Name': 'count'\n",
        "}).reset_index()\n",
        "print(summary)"
      ],
      "metadata": {
        "colab": {
          "base_uri": "https://localhost:8080/"
        },
        "id": "5QSjd8omedlr",
        "outputId": "0d6f2521-c52c-46b7-fb86-6e2a255d59ab"
      },
      "execution_count": 9,
      "outputs": [
        {
          "output_type": "stream",
          "name": "stdout",
          "text": [
            "          City   Age          Name\n",
            "                mean min max count\n",
            "0      Chicago  35.0  35  35     1\n",
            "1  Los Angeles  30.0  30  30     1\n",
            "2     New York  25.0  25  25     1\n"
          ]
        }
      ]
    },
    {
      "cell_type": "markdown",
      "source": [
        "# 6. Merging DataFrames Like a Boss"
      ],
      "metadata": {
        "id": "7P1k32Pweffx"
      }
    },
    {
      "cell_type": "code",
      "source": [
        "df1 = pd.DataFrame({'Name': ['Alice', 'Bob'], 'Age': [25, 30]})\n",
        "df2 = pd.DataFrame({'Name': ['Alice', 'Charlie'], 'City': ['New York', 'Chicago']})\n",
        "merged_df = pd.merge(df1, df2, on='Name', how='inner')\n",
        "print(merged_df)"
      ],
      "metadata": {
        "colab": {
          "base_uri": "https://localhost:8080/"
        },
        "id": "uYfFYdDweedj",
        "outputId": "049b0327-1288-4ba2-a717-f82ef4152be0"
      },
      "execution_count": 10,
      "outputs": [
        {
          "output_type": "stream",
          "name": "stdout",
          "text": [
            "    Name  Age      City\n",
            "0  Alice   25  New York\n"
          ]
        }
      ]
    }
  ]
}
