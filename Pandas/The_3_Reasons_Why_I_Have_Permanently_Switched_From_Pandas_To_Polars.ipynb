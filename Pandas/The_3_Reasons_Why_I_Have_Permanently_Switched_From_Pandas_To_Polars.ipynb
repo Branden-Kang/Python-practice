{
  "nbformat": 4,
  "nbformat_minor": 0,
  "metadata": {
    "colab": {
      "provenance": [],
      "authorship_tag": "ABX9TyOl9lfTNTt5XRce/9m6J0z+"
    },
    "kernelspec": {
      "name": "python3",
      "display_name": "Python 3"
    },
    "language_info": {
      "name": "python"
    }
  },
  "cells": [
    {
      "cell_type": "markdown",
      "source": [
        "[Reference](https://towardsdatascience.com/the-3-reasons-why-i-have-permanently-switched-from-pandas-to-polars-b41d013a787b)"
      ],
      "metadata": {
        "id": "PJ9EIukdLFEY"
      }
    },
    {
      "cell_type": "code",
      "execution_count": 1,
      "metadata": {
        "colab": {
          "base_uri": "https://localhost:8080/"
        },
        "id": "hhyuQZ1u-TpU",
        "outputId": "2389b527-1695-4a4e-f720-7e7ec11c2e86"
      },
      "outputs": [
        {
          "output_type": "stream",
          "name": "stdout",
          "text": [
            "  last_name                    members city_of_residence\n",
            "0   Johnson           [John, Ron, Con]            Boston\n",
            "1   Jackson               [Jack, Rack]     New York City\n",
            "2  Smithson  [Smith, Pith, With, Lith]            Dallas\n"
          ]
        }
      ],
      "source": [
        "import pandas as pd\n",
        "df = pd.DataFrame({\n",
        "    \"last_name\": [\"Johnson\", \"Jackson\", \"Smithson\"],\n",
        "    \"members\": [[\"John\", \"Ron\", \"Con\"], [\"Jack\", \"Rack\"], [\"Smith\", \"Pith\", \"With\", \"Lith\"]],\n",
        "    \"city_of_residence\": [\"Boston\", \"New York City\", \"Dallas\"]\n",
        "})\n",
        "print(df)"
      ]
    },
    {
      "cell_type": "code",
      "source": [
        "df[\"family_leader\"] = df[\"members\"].str[0]\n",
        "print(df)"
      ],
      "metadata": {
        "colab": {
          "base_uri": "https://localhost:8080/"
        },
        "id": "eFo8lGL5LH25",
        "outputId": "c3776442-1557-44c2-f8a0-6abb6d9dadef"
      },
      "execution_count": 2,
      "outputs": [
        {
          "output_type": "stream",
          "name": "stdout",
          "text": [
            "  last_name                    members city_of_residence family_leader\n",
            "0   Johnson           [John, Ron, Con]            Boston          John\n",
            "1   Jackson               [Jack, Rack]     New York City          Jack\n",
            "2  Smithson  [Smith, Pith, With, Lith]            Dallas         Smith\n"
          ]
        }
      ]
    },
    {
      "cell_type": "code",
      "source": [
        "# import polars as pl\n",
        "# df = pl.DataFrame({\n",
        "#     \"last_name\": [\"Johnson\", \"Jackson\", \"Smithson\"],\n",
        "#     \"members\": [[\"John\", \"Ron\", \"Con\"], [\"Jack\", \"Rack\"], [\"Smith\", \"Pith\", \"With\", \"Lith\"]],\n",
        "#     \"city_of_residence\": [\"Boston\", \"New York City\", \"Dallas\"]\n",
        "# })\n",
        "# df = df.with_columns([\n",
        "#     pl.col(\"members\").list.get(0).alias(\"family_leader\")])\n",
        "# print(df)"
      ],
      "metadata": {
        "id": "A_pbNJ5uLItv"
      },
      "execution_count": 5,
      "outputs": []
    },
    {
      "cell_type": "code",
      "source": [
        "import pandas as pd\n",
        "\n",
        "df = pd.DataFrame({\n",
        "    \"a\": [1, 1, 1],\n",
        "    \"b\": [4, 5, 6]\n",
        "})\n",
        "\n",
        "column_name_indexer = [\"a\"]\n",
        "boolean_mask_indexer = df[\"b\"]==5\n",
        "slice_indexer = slice(1, 3)\n",
        "\n",
        "for o in [column_name_indexer, boolean_mask_indexer, slice_indexer]:\n",
        "    print(df[o])"
      ],
      "metadata": {
        "colab": {
          "base_uri": "https://localhost:8080/"
        },
        "id": "M-Tw8SI3LKb2",
        "outputId": "809976d0-f730-4751-f4ec-ead1fdfe8e8b"
      },
      "execution_count": 4,
      "outputs": [
        {
          "output_type": "stream",
          "name": "stdout",
          "text": [
            "   a\n",
            "0  1\n",
            "1  1\n",
            "2  1\n",
            "   a  b\n",
            "1  1  5\n",
            "   a  b\n",
            "1  1  5\n",
            "2  1  6\n"
          ]
        }
      ]
    },
    {
      "cell_type": "code",
      "source": [
        "import polars as pl\n",
        "eager_df = pl.DataFrame({\n",
        "    \"a\": [1, 2, 3],\n",
        "    \"b\": [4, 5, 6]\n",
        "})\n",
        "lazy_df = pl.LazyFrame({\n",
        "    \"a\": [1, 2, 3],\n",
        "    \"b\": [4, 5, 6]\n",
        "})"
      ],
      "metadata": {
        "id": "GdIJY9_iLMBq"
      },
      "execution_count": 6,
      "outputs": []
    },
    {
      "cell_type": "code",
      "source": [
        "import pandas as pd\n",
        "df = (\n",
        "    pd.DataFrame({\n",
        "        \"name\": [\"George\", \"Polly\", \"Golly\", \"Dolly\"],\n",
        "        \"age\": [3, 4, 13, 44]\n",
        "    })\n",
        ")\n",
        "df[\"decade\"] = (df[\"age\"] / 10).astype(int) * 10\n",
        "decade_counts = (\n",
        "    df\n",
        "    .groupby(\"decade\")\n",
        "    [\"name\"]\n",
        "    .agg(\"count\")\n",
        ")\n",
        "print(decade_counts)"
      ],
      "metadata": {
        "colab": {
          "base_uri": "https://localhost:8080/"
        },
        "id": "gb9z9l6OLSZr",
        "outputId": "dfbefd0f-9c48-4dcf-9f97-bba45e5044cd"
      },
      "execution_count": 7,
      "outputs": [
        {
          "output_type": "stream",
          "name": "stdout",
          "text": [
            "decade\n",
            "0     2\n",
            "10    1\n",
            "40    1\n",
            "Name: name, dtype: int64\n"
          ]
        }
      ]
    },
    {
      "cell_type": "code",
      "source": [
        "import polars as pl\n",
        "decade_counts = (\n",
        "    pl.DataFrame({\n",
        "        \"name\": [\"George\", \"Polly\", \"Golly\", \"Dolly\"],\n",
        "        \"age\": [3, 4, 13, 44]\n",
        "    })\n",
        "    .with_columns([\n",
        "        ((pl.col(\"age\") / 10).cast(pl.Int32) * 10).alias(\"decade\")\n",
        "    ])\n",
        "    .groupby(\"decade\")\n",
        "    .agg(\n",
        "        pl.col(\"name\").count().alias(\"count\")\n",
        "    )\n",
        ")\n",
        "print(decade_counts)"
      ],
      "metadata": {
        "colab": {
          "base_uri": "https://localhost:8080/"
        },
        "id": "le7DFPJhLV10",
        "outputId": "a605d818-e10e-4cae-fc9a-b7256a652b7a"
      },
      "execution_count": 8,
      "outputs": [
        {
          "output_type": "stream",
          "name": "stdout",
          "text": [
            "shape: (3, 2)\n",
            "┌────────┬───────┐\n",
            "│ decade ┆ count │\n",
            "│ ---    ┆ ---   │\n",
            "│ i32    ┆ u32   │\n",
            "╞════════╪═══════╡\n",
            "│ 10     ┆ 1     │\n",
            "│ 0      ┆ 2     │\n",
            "│ 40     ┆ 1     │\n",
            "└────────┴───────┘\n"
          ]
        }
      ]
    }
  ]
}
