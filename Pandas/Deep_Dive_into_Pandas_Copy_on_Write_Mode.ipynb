{
  "nbformat": 4,
  "nbformat_minor": 0,
  "metadata": {
    "colab": {
      "provenance": [],
      "authorship_tag": "ABX9TyM2WhlkNJ5cufw8B+5blArv"
    },
    "kernelspec": {
      "name": "python3",
      "display_name": "Python 3"
    },
    "language_info": {
      "name": "python"
    }
  },
  "cells": [
    {
      "cell_type": "markdown",
      "source": [
        "[Reference](https://towardsdatascience.com/deep-dive-into-pandas-copy-on-write-mode-part-iii-c024eaa16ed4)"
      ],
      "metadata": {
        "id": "l_9oW6e-XsT2"
      }
    },
    {
      "cell_type": "markdown",
      "source": [
        "# Chained assignment"
      ],
      "metadata": {
        "id": "zPzbmrTUYRg5"
      }
    },
    {
      "cell_type": "code",
      "execution_count": 1,
      "metadata": {
        "id": "2So3ITrvXjXp"
      },
      "outputs": [],
      "source": [
        "import pandas as pd\n",
        "\n",
        "df = pd.DataFrame({\"x\": [1, 2, 3]})\n",
        "\n",
        "df[\"x\"][df[\"x\"] > 1] = 100"
      ]
    },
    {
      "cell_type": "code",
      "source": [
        "df.loc[df[\"x\"] > 1, \"x\"] = 100"
      ],
      "metadata": {
        "id": "FDwtJCSwXyx0"
      },
      "execution_count": 2,
      "outputs": []
    },
    {
      "cell_type": "code",
      "source": [
        "df[\"x\"].replace(1, 100)"
      ],
      "metadata": {
        "colab": {
          "base_uri": "https://localhost:8080/"
        },
        "id": "65xmJwwUXz5q",
        "outputId": "b1b28131-7167-4cd9-d794-89eb1e9884f6"
      },
      "execution_count": 3,
      "outputs": [
        {
          "output_type": "execute_result",
          "data": {
            "text/plain": [
              "0    100\n",
              "1    100\n",
              "2    100\n",
              "Name: x, dtype: int64"
            ]
          },
          "metadata": {},
          "execution_count": 3
        }
      ]
    },
    {
      "cell_type": "code",
      "source": [
        "df = df.replace({\"x\": 1}, {\"x\": 100})"
      ],
      "metadata": {
        "id": "ubiRRnIjX25x"
      },
      "execution_count": 4,
      "outputs": []
    },
    {
      "cell_type": "markdown",
      "source": [
        "# Patterns to avoid"
      ],
      "metadata": {
        "id": "wq-d4FuNX6u-"
      }
    },
    {
      "cell_type": "code",
      "source": [
        "df2 = df.reset_index()\n",
        "df2.iloc[0, 0] = 100"
      ],
      "metadata": {
        "id": "ZGob60NPX31T"
      },
      "execution_count": 5,
      "outputs": []
    },
    {
      "cell_type": "code",
      "source": [
        "df = df.reset_index()\n",
        "df.iloc[0, 0] = 100"
      ],
      "metadata": {
        "id": "460vtAqyX48v"
      },
      "execution_count": 6,
      "outputs": []
    },
    {
      "cell_type": "markdown",
      "source": [
        "# Accessing the underlying NumPy array"
      ],
      "metadata": {
        "id": "74Qo6cdrX_4l"
      }
    },
    {
      "cell_type": "code",
      "source": [
        "df = pd.DataFrame({\"a\": [1, 2], \"b\": [1.5, 2.5]})\n",
        "df.to_numpy()"
      ],
      "metadata": {
        "colab": {
          "base_uri": "https://localhost:8080/"
        },
        "id": "cVWQnFB2X5sJ",
        "outputId": "abf6be9e-f8f5-439c-efa6-432588d68108"
      },
      "execution_count": 7,
      "outputs": [
        {
          "output_type": "execute_result",
          "data": {
            "text/plain": [
              "array([[1. , 1.5],\n",
              "       [2. , 2.5]])"
            ]
          },
          "metadata": {},
          "execution_count": 7
        }
      ]
    },
    {
      "cell_type": "code",
      "source": [
        "df = pd.DataFrame({\"a\": [1, 2], \"b\": [3, 4]})\n",
        "df.to_numpy()"
      ],
      "metadata": {
        "colab": {
          "base_uri": "https://localhost:8080/"
        },
        "id": "3EF7fr1lYDiE",
        "outputId": "0206e2d2-d9b5-4500-8f31-d50ce0f52aa0"
      },
      "execution_count": 8,
      "outputs": [
        {
          "output_type": "execute_result",
          "data": {
            "text/plain": [
              "array([[1, 3],\n",
              "       [2, 4]])"
            ]
          },
          "metadata": {},
          "execution_count": 8
        }
      ]
    },
    {
      "cell_type": "code",
      "source": [
        "df = pd.DataFrame({\"a\": [1, 2], \"b\": [3, 4]})\n",
        "arr = df.to_numpy()\n",
        "\n",
        "arr[0, 0] = 1"
      ],
      "metadata": {
        "id": "QtkGeP15YEXy"
      },
      "execution_count": 9,
      "outputs": []
    },
    {
      "cell_type": "code",
      "source": [
        "arr.flags.writeable = True"
      ],
      "metadata": {
        "id": "l7WExFSxYFxU"
      },
      "execution_count": 10,
      "outputs": []
    },
    {
      "cell_type": "code",
      "source": [
        "ser = pd.Series([1, 2], dtype=\"int64[pyarrow]\")\n",
        "arr = ser.to_numpy()\n",
        "arr.flags.writeable = True"
      ],
      "metadata": {
        "id": "LR5GIMu3YGvH"
      },
      "execution_count": 11,
      "outputs": []
    }
  ]
}
