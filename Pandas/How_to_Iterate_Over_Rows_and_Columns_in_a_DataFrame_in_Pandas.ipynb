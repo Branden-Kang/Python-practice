{
  "nbformat": 4,
  "nbformat_minor": 0,
  "metadata": {
    "colab": {
      "name": "How to Iterate Over Rows and Columns in a DataFrame in Pandas.ipynb",
      "provenance": [],
      "authorship_tag": "ABX9TyMn+dXcEBkKZwENwOaQEsc7"
    },
    "kernelspec": {
      "name": "python3",
      "display_name": "Python 3"
    },
    "language_info": {
      "name": "python"
    }
  },
  "cells": [
    {
      "cell_type": "markdown",
      "source": [
        "[Reference](https://medium.com/@akaivdo/how-to-iterate-over-rows-and-columns-in-a-dataframe-in-pandas-7e0f9edb5600)"
      ],
      "metadata": {
        "id": "aofwFkCuD0d_"
      }
    },
    {
      "cell_type": "markdown",
      "source": [
        "# Preparing data"
      ],
      "metadata": {
        "id": "yzQn2UQWD3tY"
      }
    },
    {
      "cell_type": "code",
      "execution_count": 1,
      "metadata": {
        "colab": {
          "base_uri": "https://localhost:8080/",
          "height": 235
        },
        "id": "VbX5w94GC0rI",
        "outputId": "bfa3cae2-c828-4dd3-d19a-b3f7f89f53a9"
      },
      "outputs": [
        {
          "output_type": "execute_result",
          "data": {
            "text/plain": [
              "     name  score class\n",
              "K   Kevin     80     A\n",
              "J    Jack     90     B\n",
              "M    Mary     95     A\n",
              "B     Bob     93     A\n",
              "R  Robert     88     B\n",
              "A     Amy     81     B"
            ],
            "text/html": [
              "\n",
              "  <div id=\"df-925328f5-e63c-4310-9bdb-b5499d376d44\">\n",
              "    <div class=\"colab-df-container\">\n",
              "      <div>\n",
              "<style scoped>\n",
              "    .dataframe tbody tr th:only-of-type {\n",
              "        vertical-align: middle;\n",
              "    }\n",
              "\n",
              "    .dataframe tbody tr th {\n",
              "        vertical-align: top;\n",
              "    }\n",
              "\n",
              "    .dataframe thead th {\n",
              "        text-align: right;\n",
              "    }\n",
              "</style>\n",
              "<table border=\"1\" class=\"dataframe\">\n",
              "  <thead>\n",
              "    <tr style=\"text-align: right;\">\n",
              "      <th></th>\n",
              "      <th>name</th>\n",
              "      <th>score</th>\n",
              "      <th>class</th>\n",
              "    </tr>\n",
              "  </thead>\n",
              "  <tbody>\n",
              "    <tr>\n",
              "      <th>K</th>\n",
              "      <td>Kevin</td>\n",
              "      <td>80</td>\n",
              "      <td>A</td>\n",
              "    </tr>\n",
              "    <tr>\n",
              "      <th>J</th>\n",
              "      <td>Jack</td>\n",
              "      <td>90</td>\n",
              "      <td>B</td>\n",
              "    </tr>\n",
              "    <tr>\n",
              "      <th>M</th>\n",
              "      <td>Mary</td>\n",
              "      <td>95</td>\n",
              "      <td>A</td>\n",
              "    </tr>\n",
              "    <tr>\n",
              "      <th>B</th>\n",
              "      <td>Bob</td>\n",
              "      <td>93</td>\n",
              "      <td>A</td>\n",
              "    </tr>\n",
              "    <tr>\n",
              "      <th>R</th>\n",
              "      <td>Robert</td>\n",
              "      <td>88</td>\n",
              "      <td>B</td>\n",
              "    </tr>\n",
              "    <tr>\n",
              "      <th>A</th>\n",
              "      <td>Amy</td>\n",
              "      <td>81</td>\n",
              "      <td>B</td>\n",
              "    </tr>\n",
              "  </tbody>\n",
              "</table>\n",
              "</div>\n",
              "      <button class=\"colab-df-convert\" onclick=\"convertToInteractive('df-925328f5-e63c-4310-9bdb-b5499d376d44')\"\n",
              "              title=\"Convert this dataframe to an interactive table.\"\n",
              "              style=\"display:none;\">\n",
              "        \n",
              "  <svg xmlns=\"http://www.w3.org/2000/svg\" height=\"24px\"viewBox=\"0 0 24 24\"\n",
              "       width=\"24px\">\n",
              "    <path d=\"M0 0h24v24H0V0z\" fill=\"none\"/>\n",
              "    <path d=\"M18.56 5.44l.94 2.06.94-2.06 2.06-.94-2.06-.94-.94-2.06-.94 2.06-2.06.94zm-11 1L8.5 8.5l.94-2.06 2.06-.94-2.06-.94L8.5 2.5l-.94 2.06-2.06.94zm10 10l.94 2.06.94-2.06 2.06-.94-2.06-.94-.94-2.06-.94 2.06-2.06.94z\"/><path d=\"M17.41 7.96l-1.37-1.37c-.4-.4-.92-.59-1.43-.59-.52 0-1.04.2-1.43.59L10.3 9.45l-7.72 7.72c-.78.78-.78 2.05 0 2.83L4 21.41c.39.39.9.59 1.41.59.51 0 1.02-.2 1.41-.59l7.78-7.78 2.81-2.81c.8-.78.8-2.07 0-2.86zM5.41 20L4 18.59l7.72-7.72 1.47 1.35L5.41 20z\"/>\n",
              "  </svg>\n",
              "      </button>\n",
              "      \n",
              "  <style>\n",
              "    .colab-df-container {\n",
              "      display:flex;\n",
              "      flex-wrap:wrap;\n",
              "      gap: 12px;\n",
              "    }\n",
              "\n",
              "    .colab-df-convert {\n",
              "      background-color: #E8F0FE;\n",
              "      border: none;\n",
              "      border-radius: 50%;\n",
              "      cursor: pointer;\n",
              "      display: none;\n",
              "      fill: #1967D2;\n",
              "      height: 32px;\n",
              "      padding: 0 0 0 0;\n",
              "      width: 32px;\n",
              "    }\n",
              "\n",
              "    .colab-df-convert:hover {\n",
              "      background-color: #E2EBFA;\n",
              "      box-shadow: 0px 1px 2px rgba(60, 64, 67, 0.3), 0px 1px 3px 1px rgba(60, 64, 67, 0.15);\n",
              "      fill: #174EA6;\n",
              "    }\n",
              "\n",
              "    [theme=dark] .colab-df-convert {\n",
              "      background-color: #3B4455;\n",
              "      fill: #D2E3FC;\n",
              "    }\n",
              "\n",
              "    [theme=dark] .colab-df-convert:hover {\n",
              "      background-color: #434B5C;\n",
              "      box-shadow: 0px 1px 3px 1px rgba(0, 0, 0, 0.15);\n",
              "      filter: drop-shadow(0px 1px 2px rgba(0, 0, 0, 0.3));\n",
              "      fill: #FFFFFF;\n",
              "    }\n",
              "  </style>\n",
              "\n",
              "      <script>\n",
              "        const buttonEl =\n",
              "          document.querySelector('#df-925328f5-e63c-4310-9bdb-b5499d376d44 button.colab-df-convert');\n",
              "        buttonEl.style.display =\n",
              "          google.colab.kernel.accessAllowed ? 'block' : 'none';\n",
              "\n",
              "        async function convertToInteractive(key) {\n",
              "          const element = document.querySelector('#df-925328f5-e63c-4310-9bdb-b5499d376d44');\n",
              "          const dataTable =\n",
              "            await google.colab.kernel.invokeFunction('convertToInteractive',\n",
              "                                                     [key], {});\n",
              "          if (!dataTable) return;\n",
              "\n",
              "          const docLinkHtml = 'Like what you see? Visit the ' +\n",
              "            '<a target=\"_blank\" href=https://colab.research.google.com/notebooks/data_table.ipynb>data table notebook</a>'\n",
              "            + ' to learn more about interactive tables.';\n",
              "          element.innerHTML = '';\n",
              "          dataTable['output_type'] = 'display_data';\n",
              "          await google.colab.output.renderOutput(dataTable, element);\n",
              "          const docLink = document.createElement('div');\n",
              "          docLink.innerHTML = docLinkHtml;\n",
              "          element.appendChild(docLink);\n",
              "        }\n",
              "      </script>\n",
              "    </div>\n",
              "  </div>\n",
              "  "
            ]
          },
          "metadata": {},
          "execution_count": 1
        }
      ],
      "source": [
        "import pandas as pd\n",
        "\n",
        "df = pd.DataFrame({\n",
        "    \"name\": [\"Kevin\", \"Jack\", \"Mary\", \"Bob\", \"Robert\", \"Amy\"],\n",
        "    \"score\": [80, 90, 95, 93, 88, 81],\n",
        "    \"class\": [\"A\", \"B\", \"A\", \"A\", \"B\", \"B\"]\n",
        "}, index=[\"K\", \"J\", \"M\", \"B\", \"R\", \"A\"])\n",
        "\n",
        "df"
      ]
    },
    {
      "cell_type": "markdown",
      "source": [
        "# Use iterrows() of DataFrame to iterate over rows\n"
      ],
      "metadata": {
        "id": "2DhWN4jsEDOr"
      }
    },
    {
      "cell_type": "code",
      "source": [
        "for index, row in df.iterrows():\n",
        "    print(f\"{index}: {row['name']}\")"
      ],
      "metadata": {
        "colab": {
          "base_uri": "https://localhost:8080/"
        },
        "id": "BrXiAB0IDxs4",
        "outputId": "ad3ca69a-8a4b-41f4-d7b8-d1d5f9d10ca4"
      },
      "execution_count": 2,
      "outputs": [
        {
          "output_type": "stream",
          "name": "stdout",
          "text": [
            "K: Kevin\n",
            "J: Jack\n",
            "M: Mary\n",
            "B: Bob\n",
            "R: Robert\n",
            "A: Amy\n"
          ]
        }
      ]
    },
    {
      "cell_type": "markdown",
      "source": [
        "# Use iteritems() of Series to iterate over all values of Series\n"
      ],
      "metadata": {
        "id": "psFYSZ_ZEF2n"
      }
    },
    {
      "cell_type": "code",
      "source": [
        "for k, v in df.loc[\"K\"].iteritems():\n",
        "    print(f\"{k}: {v}\")"
      ],
      "metadata": {
        "colab": {
          "base_uri": "https://localhost:8080/"
        },
        "id": "DsBwA0RqEEp7",
        "outputId": "5da8e00c-5f7d-426a-e0c2-9c57e226909d"
      },
      "execution_count": 3,
      "outputs": [
        {
          "output_type": "stream",
          "name": "stdout",
          "text": [
            "name: Kevin\n",
            "score: 80\n",
            "class: A\n"
          ]
        }
      ]
    },
    {
      "cell_type": "markdown",
      "source": [
        "# Use for … in Syntax to iterate over all columns\n"
      ],
      "metadata": {
        "id": "zkqavtSvELe4"
      }
    },
    {
      "cell_type": "code",
      "source": [
        "for col_name in df:\n",
        "    print(col_name)\n",
        "\n",
        "# OR\n",
        "\n",
        "for col_name in df.columns:\n",
        "    print(col_name)"
      ],
      "metadata": {
        "colab": {
          "base_uri": "https://localhost:8080/"
        },
        "id": "UGY9hKjjEI1G",
        "outputId": "9fd665d3-5910-4b1b-ab2a-c1212739d1fb"
      },
      "execution_count": 4,
      "outputs": [
        {
          "output_type": "stream",
          "name": "stdout",
          "text": [
            "name\n",
            "score\n",
            "class\n",
            "name\n",
            "score\n",
            "class\n"
          ]
        }
      ]
    },
    {
      "cell_type": "code",
      "source": [
        "for col_name in df:\n",
        "    print(df[col_name])"
      ],
      "metadata": {
        "colab": {
          "base_uri": "https://localhost:8080/"
        },
        "id": "x73H3y0gENDt",
        "outputId": "ebea2b14-3393-4111-fa90-1a0ea8d0ee16"
      },
      "execution_count": 5,
      "outputs": [
        {
          "output_type": "stream",
          "name": "stdout",
          "text": [
            "K     Kevin\n",
            "J      Jack\n",
            "M      Mary\n",
            "B       Bob\n",
            "R    Robert\n",
            "A       Amy\n",
            "Name: name, dtype: object\n",
            "K    80\n",
            "J    90\n",
            "M    95\n",
            "B    93\n",
            "R    88\n",
            "A    81\n",
            "Name: score, dtype: int64\n",
            "K    A\n",
            "J    B\n",
            "M    A\n",
            "B    A\n",
            "R    B\n",
            "A    B\n",
            "Name: class, dtype: object\n"
          ]
        }
      ]
    },
    {
      "cell_type": "markdown",
      "source": [
        "# Iterate all cells/values in a DataFrame\n"
      ],
      "metadata": {
        "id": "mkeYAdeAEP7g"
      }
    },
    {
      "cell_type": "code",
      "source": [
        "for index, row in df.iterrows():\n",
        "    print(f\"{index}----------\")\n",
        "    for col_name in df.columns:\n",
        "        print(f\"{col_name}: {row[col_name]}\")"
      ],
      "metadata": {
        "colab": {
          "base_uri": "https://localhost:8080/"
        },
        "id": "XCFX_Mq3EO8S",
        "outputId": "93715792-32e7-465f-d4c1-5f45bd12416a"
      },
      "execution_count": 6,
      "outputs": [
        {
          "output_type": "stream",
          "name": "stdout",
          "text": [
            "K----------\n",
            "name: Kevin\n",
            "score: 80\n",
            "class: A\n",
            "J----------\n",
            "name: Jack\n",
            "score: 90\n",
            "class: B\n",
            "M----------\n",
            "name: Mary\n",
            "score: 95\n",
            "class: A\n",
            "B----------\n",
            "name: Bob\n",
            "score: 93\n",
            "class: A\n",
            "R----------\n",
            "name: Robert\n",
            "score: 88\n",
            "class: B\n",
            "A----------\n",
            "name: Amy\n",
            "score: 81\n",
            "class: B\n"
          ]
        }
      ]
    }
  ]
}