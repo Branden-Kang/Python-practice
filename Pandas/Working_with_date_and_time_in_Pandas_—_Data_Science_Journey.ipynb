{
  "nbformat": 4,
  "nbformat_minor": 0,
  "metadata": {
    "colab": {
      "provenance": [],
      "authorship_tag": "ABX9TyMlojGvX4hYnGBhkNqZVNSj"
    },
    "kernelspec": {
      "name": "python3",
      "display_name": "Python 3"
    },
    "language_info": {
      "name": "python"
    }
  },
  "cells": [
    {
      "cell_type": "markdown",
      "source": [
        "[Reference](https://medium.com/@ethan.duong1120/working-with-date-and-time-in-pandas-data-science-journey-fc6d599ea90a)"
      ],
      "metadata": {
        "id": "rkMRDh5i2peD"
      }
    },
    {
      "cell_type": "code",
      "execution_count": 1,
      "metadata": {
        "id": "1Gi6tpRI2nUz"
      },
      "outputs": [],
      "source": [
        "import pandas as pd\n",
        "import numpy as np\n",
        "from datetime import datetime"
      ]
    },
    {
      "cell_type": "markdown",
      "source": [
        "# 1. Convert string to datatime and handle missing values"
      ],
      "metadata": {
        "id": "fqWg0ICX21nE"
      }
    },
    {
      "cell_type": "code",
      "source": [
        "df = pd.DataFrame({'date': ['2016-6-10 20:30:0',\n",
        "                            '2016-7-1 19:45:30',\n",
        "                            '2013-10-12 4:5:1'],\n",
        "                   'value': [2, 3, 4]})\n",
        "df"
      ],
      "metadata": {
        "colab": {
          "base_uri": "https://localhost:8080/",
          "height": 142
        },
        "id": "jFMvz0EQ2r_x",
        "outputId": "6d6bcd3a-b1e0-4628-b1cf-1f923b74ca69"
      },
      "execution_count": 2,
      "outputs": [
        {
          "output_type": "execute_result",
          "data": {
            "text/plain": [
              "                date  value\n",
              "0  2016-6-10 20:30:0      2\n",
              "1  2016-7-1 19:45:30      3\n",
              "2   2013-10-12 4:5:1      4"
            ],
            "text/html": [
              "\n",
              "  <div id=\"df-76b573bd-d153-4316-956d-dc4bf0559994\">\n",
              "    <div class=\"colab-df-container\">\n",
              "      <div>\n",
              "<style scoped>\n",
              "    .dataframe tbody tr th:only-of-type {\n",
              "        vertical-align: middle;\n",
              "    }\n",
              "\n",
              "    .dataframe tbody tr th {\n",
              "        vertical-align: top;\n",
              "    }\n",
              "\n",
              "    .dataframe thead th {\n",
              "        text-align: right;\n",
              "    }\n",
              "</style>\n",
              "<table border=\"1\" class=\"dataframe\">\n",
              "  <thead>\n",
              "    <tr style=\"text-align: right;\">\n",
              "      <th></th>\n",
              "      <th>date</th>\n",
              "      <th>value</th>\n",
              "    </tr>\n",
              "  </thead>\n",
              "  <tbody>\n",
              "    <tr>\n",
              "      <th>0</th>\n",
              "      <td>2016-6-10 20:30:0</td>\n",
              "      <td>2</td>\n",
              "    </tr>\n",
              "    <tr>\n",
              "      <th>1</th>\n",
              "      <td>2016-7-1 19:45:30</td>\n",
              "      <td>3</td>\n",
              "    </tr>\n",
              "    <tr>\n",
              "      <th>2</th>\n",
              "      <td>2013-10-12 4:5:1</td>\n",
              "      <td>4</td>\n",
              "    </tr>\n",
              "  </tbody>\n",
              "</table>\n",
              "</div>\n",
              "      <button class=\"colab-df-convert\" onclick=\"convertToInteractive('df-76b573bd-d153-4316-956d-dc4bf0559994')\"\n",
              "              title=\"Convert this dataframe to an interactive table.\"\n",
              "              style=\"display:none;\">\n",
              "        \n",
              "  <svg xmlns=\"http://www.w3.org/2000/svg\" height=\"24px\"viewBox=\"0 0 24 24\"\n",
              "       width=\"24px\">\n",
              "    <path d=\"M0 0h24v24H0V0z\" fill=\"none\"/>\n",
              "    <path d=\"M18.56 5.44l.94 2.06.94-2.06 2.06-.94-2.06-.94-.94-2.06-.94 2.06-2.06.94zm-11 1L8.5 8.5l.94-2.06 2.06-.94-2.06-.94L8.5 2.5l-.94 2.06-2.06.94zm10 10l.94 2.06.94-2.06 2.06-.94-2.06-.94-.94-2.06-.94 2.06-2.06.94z\"/><path d=\"M17.41 7.96l-1.37-1.37c-.4-.4-.92-.59-1.43-.59-.52 0-1.04.2-1.43.59L10.3 9.45l-7.72 7.72c-.78.78-.78 2.05 0 2.83L4 21.41c.39.39.9.59 1.41.59.51 0 1.02-.2 1.41-.59l7.78-7.78 2.81-2.81c.8-.78.8-2.07 0-2.86zM5.41 20L4 18.59l7.72-7.72 1.47 1.35L5.41 20z\"/>\n",
              "  </svg>\n",
              "      </button>\n",
              "      \n",
              "  <style>\n",
              "    .colab-df-container {\n",
              "      display:flex;\n",
              "      flex-wrap:wrap;\n",
              "      gap: 12px;\n",
              "    }\n",
              "\n",
              "    .colab-df-convert {\n",
              "      background-color: #E8F0FE;\n",
              "      border: none;\n",
              "      border-radius: 50%;\n",
              "      cursor: pointer;\n",
              "      display: none;\n",
              "      fill: #1967D2;\n",
              "      height: 32px;\n",
              "      padding: 0 0 0 0;\n",
              "      width: 32px;\n",
              "    }\n",
              "\n",
              "    .colab-df-convert:hover {\n",
              "      background-color: #E2EBFA;\n",
              "      box-shadow: 0px 1px 2px rgba(60, 64, 67, 0.3), 0px 1px 3px 1px rgba(60, 64, 67, 0.15);\n",
              "      fill: #174EA6;\n",
              "    }\n",
              "\n",
              "    [theme=dark] .colab-df-convert {\n",
              "      background-color: #3B4455;\n",
              "      fill: #D2E3FC;\n",
              "    }\n",
              "\n",
              "    [theme=dark] .colab-df-convert:hover {\n",
              "      background-color: #434B5C;\n",
              "      box-shadow: 0px 1px 3px 1px rgba(0, 0, 0, 0.15);\n",
              "      filter: drop-shadow(0px 1px 2px rgba(0, 0, 0, 0.3));\n",
              "      fill: #FFFFFF;\n",
              "    }\n",
              "  </style>\n",
              "\n",
              "      <script>\n",
              "        const buttonEl =\n",
              "          document.querySelector('#df-76b573bd-d153-4316-956d-dc4bf0559994 button.colab-df-convert');\n",
              "        buttonEl.style.display =\n",
              "          google.colab.kernel.accessAllowed ? 'block' : 'none';\n",
              "\n",
              "        async function convertToInteractive(key) {\n",
              "          const element = document.querySelector('#df-76b573bd-d153-4316-956d-dc4bf0559994');\n",
              "          const dataTable =\n",
              "            await google.colab.kernel.invokeFunction('convertToInteractive',\n",
              "                                                     [key], {});\n",
              "          if (!dataTable) return;\n",
              "\n",
              "          const docLinkHtml = 'Like what you see? Visit the ' +\n",
              "            '<a target=\"_blank\" href=https://colab.research.google.com/notebooks/data_table.ipynb>data table notebook</a>'\n",
              "            + ' to learn more about interactive tables.';\n",
              "          element.innerHTML = '';\n",
              "          dataTable['output_type'] = 'display_data';\n",
              "          await google.colab.output.renderOutput(dataTable, element);\n",
              "          const docLink = document.createElement('div');\n",
              "          docLink.innerHTML = docLinkHtml;\n",
              "          element.appendChild(docLink);\n",
              "        }\n",
              "      </script>\n",
              "    </div>\n",
              "  </div>\n",
              "  "
            ]
          },
          "metadata": {},
          "execution_count": 2
        }
      ]
    },
    {
      "cell_type": "code",
      "source": [
        "df['date'] = pd.to_datetime(df['date'], dayfirst = False)"
      ],
      "metadata": {
        "id": "vOvdE_RN2tor"
      },
      "execution_count": 3,
      "outputs": []
    },
    {
      "cell_type": "code",
      "source": [
        "df['date'] = pd.to_datetime(df['date'], format=\"%Y-%d-%m %H:%M:%S\")"
      ],
      "metadata": {
        "id": "S1b5Fz6t2sw4"
      },
      "execution_count": 4,
      "outputs": []
    },
    {
      "cell_type": "code",
      "source": [
        "# Ignore it: (the incorrect or null value still be read in string format)\n",
        "df['date'] = pd.to_datetime(df['date'], errors='ignore')\n",
        "\n",
        "# Eliminate it (let s assume there are null values in date column:\n",
        "df = df.dropna(subset=['date'])\n",
        "# if you want to drop null value in multiple columns you can just add more\n",
        "# column name in the subset (beside date)"
      ],
      "metadata": {
        "id": "3Xu_W9em2wGn"
      },
      "execution_count": 5,
      "outputs": []
    },
    {
      "cell_type": "markdown",
      "source": [
        "# 2. Assemble datetime from multiple columns."
      ],
      "metadata": {
        "id": "ZSS3SYsF2zzW"
      }
    },
    {
      "cell_type": "code",
      "source": [
        "df = pd.DataFrame({'id': ['1', '2', '3', '4'],\n",
        "                   'name': ['Ethan', 'Alison', 'Jolie', 'nick'],\n",
        "                   'date': ['2022-01-01', '2022-01-02', '2022-01-03','2022-01-04' ],\n",
        "                   'time': ['12:00:00', '13:00:00', '14:00:00', '15:00:00']})"
      ],
      "metadata": {
        "id": "RecnS9Iq2wS-"
      },
      "execution_count": 6,
      "outputs": []
    },
    {
      "cell_type": "code",
      "source": [
        "df['datetime'] = pd.to_datetime(df['date'] + ' ' + df['time'])"
      ],
      "metadata": {
        "id": "WSuKnIKu2xUM"
      },
      "execution_count": 7,
      "outputs": []
    },
    {
      "cell_type": "markdown",
      "source": [
        "# 3. Extract year month day from a date column."
      ],
      "metadata": {
        "id": "CdU_8075235Q"
      }
    },
    {
      "cell_type": "code",
      "source": [
        "df['year']= df['datetime'].dt.year\n",
        "df['month']= df['datetime'].dt.month\n",
        "df['day']= df['datetime'].dt.day"
      ],
      "metadata": {
        "id": "lNr4bXha2ybL"
      },
      "execution_count": 8,
      "outputs": []
    },
    {
      "cell_type": "markdown",
      "source": [
        "# 4. Select data between two dates"
      ],
      "metadata": {
        "id": "KscalPgZ252c"
      }
    },
    {
      "cell_type": "code",
      "source": [
        "start_date = '2022-01-02'\n",
        "end_date = '2022-01-04'\n",
        "\n",
        "mask = (df['datetime'] >= start_date) & (df['datetime'] <= end_date)\n",
        "result = df.loc[mask]\n",
        "\n",
        "print(result)"
      ],
      "metadata": {
        "colab": {
          "base_uri": "https://localhost:8080/"
        },
        "id": "URTnxtK825E-",
        "outputId": "196cf86d-5801-4ac0-a71e-35785c130c2f"
      },
      "execution_count": 9,
      "outputs": [
        {
          "output_type": "stream",
          "name": "stdout",
          "text": [
            "  id    name        date      time            datetime  year  month  day\n",
            "1  2  Alison  2022-01-02  13:00:00 2022-01-02 13:00:00  2022      1    2\n",
            "2  3   Jolie  2022-01-03  14:00:00 2022-01-03 14:00:00  2022      1    3\n"
          ]
        }
      ]
    },
    {
      "cell_type": "markdown",
      "source": [
        "# 5. Calculate the duration between two dates."
      ],
      "metadata": {
        "id": "LH0YEqj63A2Y"
      }
    },
    {
      "cell_type": "code",
      "source": [
        "df['second_datetime'] = pd.to_datetime('2022-01-06 12:00:00')"
      ],
      "metadata": {
        "id": "s_zSkdxO27L5"
      },
      "execution_count": 10,
      "outputs": []
    },
    {
      "cell_type": "code",
      "source": [
        "df['duration'] = df['second_datetime'] - df['datetime']"
      ],
      "metadata": {
        "id": "mum6vMs83CIN"
      },
      "execution_count": 11,
      "outputs": []
    },
    {
      "cell_type": "code",
      "source": [
        "df['duration_days'] = df['duration'].dt.days"
      ],
      "metadata": {
        "id": "7-fcLC6O3C-y"
      },
      "execution_count": 12,
      "outputs": []
    },
    {
      "cell_type": "markdown",
      "source": [
        "# 6. Select data with a specific year and perform aggregations."
      ],
      "metadata": {
        "id": "3i4romEb3Fej"
      }
    },
    {
      "cell_type": "code",
      "source": [
        "# #Change candy to numeric and change birth_daty to datetime\n",
        "# df['candy'] = pd.to_numeric(df['candy'])\n",
        "# df['birth_day'] = pd.to_datetime(df['birth_day'])"
      ],
      "metadata": {
        "id": "UFV87CXl3ETS"
      },
      "execution_count": 15,
      "outputs": []
    },
    {
      "cell_type": "code",
      "source": [
        "# #get the year from birth_day\n",
        "# year_born = df['birth_day'].dt.year\n",
        "\n",
        "# #get data for people born in 2022, then group by year born, sum up\n",
        "# df_day = df[year_born == 2022].groupby(year_born).sum()\n",
        "# df_day"
      ],
      "metadata": {
        "id": "uY3pG0mo3HGH"
      },
      "execution_count": 16,
      "outputs": []
    }
  ]
}
