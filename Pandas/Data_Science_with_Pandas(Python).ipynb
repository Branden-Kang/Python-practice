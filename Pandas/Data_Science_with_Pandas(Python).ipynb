{
  "nbformat": 4,
  "nbformat_minor": 0,
  "metadata": {
    "colab": {
      "provenance": [],
      "authorship_tag": "ABX9TyPXK6MzELQ1s1DG6FxZ4/7M"
    },
    "kernelspec": {
      "name": "python3",
      "display_name": "Python 3"
    },
    "language_info": {
      "name": "python"
    }
  },
  "cells": [
    {
      "cell_type": "markdown",
      "source": [
        "[Reference](https://anmol3015.medium.com/data-science-with-python-5-minutes-for-key-concepts-18e43b157af)"
      ],
      "metadata": {
        "id": "_eDjJW1KRUKs"
      }
    },
    {
      "cell_type": "code",
      "execution_count": 1,
      "metadata": {
        "colab": {
          "base_uri": "https://localhost:8080/"
        },
        "id": "ARJwEUzUQwYC",
        "outputId": "47c9d6a0-6938-4ce2-f84d-1096fee3651f"
      },
      "outputs": [
        {
          "output_type": "stream",
          "name": "stdout",
          "text": [
            "             A   B\n",
            "2022-01-01   1  11\n",
            "2022-01-02   2  12\n",
            "2022-01-03   3  13\n",
            "2022-01-04   4  14\n",
            "2022-01-05   5  15\n",
            "2022-01-06   6  16\n",
            "2022-01-07   7  17\n",
            "2022-01-08   8  18\n",
            "2022-01-09   9  19\n",
            "2022-01-10  10  20\n"
          ]
        }
      ],
      "source": [
        "import pandas as pd \n",
        "# create a DataFrame with dates as index \n",
        "\n",
        "dates = pd.date_range('2022-01-01', periods=10) \n",
        "df = pd.DataFrame({'A': [1, 2, 3, 4, 5, 6, 7, 8, 9, 10], 'B': [11, 12, 13, 14, 15, 16, 17, 18, 19, 20]}, index=dates) \n",
        "\n",
        "print(df)"
      ]
    },
    {
      "cell_type": "code",
      "source": [
        "# select subset of DataFrame for a specific date range \n",
        "\n",
        "subset = df['2022-01-03':'2022-01-07'] \n",
        "\n",
        "print(subset)"
      ],
      "metadata": {
        "colab": {
          "base_uri": "https://localhost:8080/"
        },
        "id": "fD_kjgClRhox",
        "outputId": "644c098b-4581-41bb-9c8e-bf88c243b9cf"
      },
      "execution_count": 2,
      "outputs": [
        {
          "output_type": "stream",
          "name": "stdout",
          "text": [
            "            A   B\n",
            "2022-01-03  3  13\n",
            "2022-01-04  4  14\n",
            "2022-01-05  5  15\n",
            "2022-01-06  6  16\n",
            "2022-01-07  7  17\n"
          ]
        }
      ]
    },
    {
      "cell_type": "code",
      "source": [
        "# resample the data based on a time interval \n",
        "\n",
        "daily = df.resample('D').sum() \n",
        "print(daily) \n",
        "\n",
        "weekly = df.resample('W').mean()\n",
        "print(weekly)"
      ],
      "metadata": {
        "colab": {
          "base_uri": "https://localhost:8080/"
        },
        "id": "cIQpeCE6Rkhd",
        "outputId": "0d96dde4-9103-4015-8118-8cb081283bc2"
      },
      "execution_count": 3,
      "outputs": [
        {
          "output_type": "stream",
          "name": "stdout",
          "text": [
            "             A   B\n",
            "2022-01-01   1  11\n",
            "2022-01-02   2  12\n",
            "2022-01-03   3  13\n",
            "2022-01-04   4  14\n",
            "2022-01-05   5  15\n",
            "2022-01-06   6  16\n",
            "2022-01-07   7  17\n",
            "2022-01-08   8  18\n",
            "2022-01-09   9  19\n",
            "2022-01-10  10  20\n",
            "               A     B\n",
            "2022-01-02   1.5  11.5\n",
            "2022-01-09   6.0  16.0\n",
            "2022-01-16  10.0  20.0\n"
          ]
        }
      ]
    }
  ]
}
