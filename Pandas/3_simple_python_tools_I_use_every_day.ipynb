{
  "nbformat": 4,
  "nbformat_minor": 0,
  "metadata": {
    "colab": {
      "provenance": [],
      "authorship_tag": "ABX9TyMRIE68cHXeOr7JJtevJHDJ"
    },
    "kernelspec": {
      "name": "python3",
      "display_name": "Python 3"
    },
    "language_info": {
      "name": "python"
    }
  },
  "cells": [
    {
      "cell_type": "markdown",
      "source": [
        "[Reference](https://medium.com/@eduardo.rico/3-simple-python-functions-i-use-every-day-7d3d86b4bdcb)"
      ],
      "metadata": {
        "id": "t0YMDD7kFn7c"
      }
    },
    {
      "cell_type": "markdown",
      "source": [
        "# Chunk Iterables"
      ],
      "metadata": {
        "id": "Xv5UqCb1FZSE"
      }
    },
    {
      "cell_type": "code",
      "execution_count": 4,
      "metadata": {
        "id": "3panQ80sDA0M"
      },
      "outputs": [],
      "source": [
        "def chunker(seq, size):\n",
        "    return (seq[pos:pos + size] for pos in range(0, len(seq), size))"
      ]
    },
    {
      "cell_type": "markdown",
      "source": [
        "# Clean Jupyter Notebook Output"
      ],
      "metadata": {
        "id": "pY8yL0EQFbDa"
      }
    },
    {
      "cell_type": "code",
      "source": [
        "from IPython.display import clear_output\n",
        "\n",
        "for i in range(10):\n",
        "    clear_output(wait=True)\n",
        "    print(\"Hello World!\")"
      ],
      "metadata": {
        "colab": {
          "base_uri": "https://localhost:8080/"
        },
        "id": "yFNZcXhSEbr-",
        "outputId": "62440b14-bef2-40d9-f8b5-c30ed8f09c3c"
      },
      "execution_count": 5,
      "outputs": [
        {
          "output_type": "stream",
          "name": "stdout",
          "text": [
            "Hello World!\n"
          ]
        }
      ]
    },
    {
      "cell_type": "markdown",
      "source": [
        "# Data Classes"
      ],
      "metadata": {
        "id": "4r0ZrEE8Ffk0"
      }
    },
    {
      "cell_type": "code",
      "source": [
        "from dataclasses import dataclass, field\n",
        "\n",
        "@dataclass\n",
        "class Person:\n",
        "\tname: str\n",
        "\taddress: str\n",
        "\tactive: bool = True\n",
        "\temail_addresses: list[str] = field(default_factory=list)"
      ],
      "metadata": {
        "id": "nD3on8jnFcw1"
      },
      "execution_count": 7,
      "outputs": []
    }
  ]
}
