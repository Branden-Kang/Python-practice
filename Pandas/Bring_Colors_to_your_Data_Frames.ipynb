{
  "nbformat": 4,
  "nbformat_minor": 0,
  "metadata": {
    "colab": {
      "provenance": [],
      "authorship_tag": "ABX9TyPptzDNHeku+i1pVuYLihwj"
    },
    "kernelspec": {
      "name": "python3",
      "display_name": "Python 3"
    },
    "language_info": {
      "name": "python"
    }
  },
  "cells": [
    {
      "cell_type": "markdown",
      "source": [
        "[Reference](https://medium.com/@syncwithdanish/bring-colors-to-your-data-frames-cfb7707259a6)"
      ],
      "metadata": {
        "id": "a_IFcyFTWloz"
      }
    },
    {
      "cell_type": "code",
      "execution_count": 1,
      "metadata": {
        "id": "_ALb76NxVhmw"
      },
      "outputs": [],
      "source": [
        "import numpy as np\n",
        "import pandas as pd\n",
        "\n",
        "df = pd.DataFrame({\n",
        "    \"A\": [0, -5, 12, -4, 3],\n",
        "    \"B\": [12.24, 3.14, 2.71, -3.14, np.nan],\n",
        "    \"C\": [0.5, 1.2, 0.3, 1.9, 2.2],\n",
        "    \"D\": [2000, np.nan, 1000, 7000, 5000]\n",
        "})"
      ]
    },
    {
      "cell_type": "code",
      "source": [
        "df.style.hide_index()"
      ],
      "metadata": {
        "colab": {
          "base_uri": "https://localhost:8080/",
          "height": 238
        },
        "id": "emwJZIYfWz_E",
        "outputId": "8ba9f828-8776-4bec-ce5d-2d8333f8b132"
      },
      "execution_count": 2,
      "outputs": [
        {
          "output_type": "stream",
          "name": "stderr",
          "text": [
            "<ipython-input-2-046e9c3a6dbb>:1: FutureWarning: this method is deprecated in favour of `Styler.hide(axis=\"index\")`\n",
            "  df.style.hide_index()\n"
          ]
        },
        {
          "output_type": "execute_result",
          "data": {
            "text/plain": [
              "<pandas.io.formats.style.Styler at 0x7e02773c6bc0>"
            ],
            "text/html": [
              "<style type=\"text/css\">\n",
              "</style>\n",
              "<table id=\"T_8dbf2\" class=\"dataframe\">\n",
              "  <thead>\n",
              "    <tr>\n",
              "      <th id=\"T_8dbf2_level0_col0\" class=\"col_heading level0 col0\" >A</th>\n",
              "      <th id=\"T_8dbf2_level0_col1\" class=\"col_heading level0 col1\" >B</th>\n",
              "      <th id=\"T_8dbf2_level0_col2\" class=\"col_heading level0 col2\" >C</th>\n",
              "      <th id=\"T_8dbf2_level0_col3\" class=\"col_heading level0 col3\" >D</th>\n",
              "    </tr>\n",
              "  </thead>\n",
              "  <tbody>\n",
              "    <tr>\n",
              "      <td id=\"T_8dbf2_row0_col0\" class=\"data row0 col0\" >0</td>\n",
              "      <td id=\"T_8dbf2_row0_col1\" class=\"data row0 col1\" >12.240000</td>\n",
              "      <td id=\"T_8dbf2_row0_col2\" class=\"data row0 col2\" >0.500000</td>\n",
              "      <td id=\"T_8dbf2_row0_col3\" class=\"data row0 col3\" >2000.000000</td>\n",
              "    </tr>\n",
              "    <tr>\n",
              "      <td id=\"T_8dbf2_row1_col0\" class=\"data row1 col0\" >-5</td>\n",
              "      <td id=\"T_8dbf2_row1_col1\" class=\"data row1 col1\" >3.140000</td>\n",
              "      <td id=\"T_8dbf2_row1_col2\" class=\"data row1 col2\" >1.200000</td>\n",
              "      <td id=\"T_8dbf2_row1_col3\" class=\"data row1 col3\" >nan</td>\n",
              "    </tr>\n",
              "    <tr>\n",
              "      <td id=\"T_8dbf2_row2_col0\" class=\"data row2 col0\" >12</td>\n",
              "      <td id=\"T_8dbf2_row2_col1\" class=\"data row2 col1\" >2.710000</td>\n",
              "      <td id=\"T_8dbf2_row2_col2\" class=\"data row2 col2\" >0.300000</td>\n",
              "      <td id=\"T_8dbf2_row2_col3\" class=\"data row2 col3\" >1000.000000</td>\n",
              "    </tr>\n",
              "    <tr>\n",
              "      <td id=\"T_8dbf2_row3_col0\" class=\"data row3 col0\" >-4</td>\n",
              "      <td id=\"T_8dbf2_row3_col1\" class=\"data row3 col1\" >-3.140000</td>\n",
              "      <td id=\"T_8dbf2_row3_col2\" class=\"data row3 col2\" >1.900000</td>\n",
              "      <td id=\"T_8dbf2_row3_col3\" class=\"data row3 col3\" >7000.000000</td>\n",
              "    </tr>\n",
              "    <tr>\n",
              "      <td id=\"T_8dbf2_row4_col0\" class=\"data row4 col0\" >3</td>\n",
              "      <td id=\"T_8dbf2_row4_col1\" class=\"data row4 col1\" >nan</td>\n",
              "      <td id=\"T_8dbf2_row4_col2\" class=\"data row4 col2\" >2.200000</td>\n",
              "      <td id=\"T_8dbf2_row4_col3\" class=\"data row4 col3\" >5000.000000</td>\n",
              "    </tr>\n",
              "  </tbody>\n",
              "</table>\n"
            ]
          },
          "metadata": {},
          "execution_count": 2
        }
      ]
    },
    {
      "cell_type": "code",
      "source": [
        "df.style.format(\"- {:.4f} -\")"
      ],
      "metadata": {
        "colab": {
          "base_uri": "https://localhost:8080/",
          "height": 204
        },
        "id": "6d3KIxBQW1TW",
        "outputId": "72659831-20fb-4135-b505-11b806148ef4"
      },
      "execution_count": 3,
      "outputs": [
        {
          "output_type": "execute_result",
          "data": {
            "text/plain": [
              "<pandas.io.formats.style.Styler at 0x7e0249002590>"
            ],
            "text/html": [
              "<style type=\"text/css\">\n",
              "</style>\n",
              "<table id=\"T_d32ad\" class=\"dataframe\">\n",
              "  <thead>\n",
              "    <tr>\n",
              "      <th class=\"blank level0\" >&nbsp;</th>\n",
              "      <th id=\"T_d32ad_level0_col0\" class=\"col_heading level0 col0\" >A</th>\n",
              "      <th id=\"T_d32ad_level0_col1\" class=\"col_heading level0 col1\" >B</th>\n",
              "      <th id=\"T_d32ad_level0_col2\" class=\"col_heading level0 col2\" >C</th>\n",
              "      <th id=\"T_d32ad_level0_col3\" class=\"col_heading level0 col3\" >D</th>\n",
              "    </tr>\n",
              "  </thead>\n",
              "  <tbody>\n",
              "    <tr>\n",
              "      <th id=\"T_d32ad_level0_row0\" class=\"row_heading level0 row0\" >0</th>\n",
              "      <td id=\"T_d32ad_row0_col0\" class=\"data row0 col0\" >- 0.0000 -</td>\n",
              "      <td id=\"T_d32ad_row0_col1\" class=\"data row0 col1\" >- 12.2400 -</td>\n",
              "      <td id=\"T_d32ad_row0_col2\" class=\"data row0 col2\" >- 0.5000 -</td>\n",
              "      <td id=\"T_d32ad_row0_col3\" class=\"data row0 col3\" >- 2000.0000 -</td>\n",
              "    </tr>\n",
              "    <tr>\n",
              "      <th id=\"T_d32ad_level0_row1\" class=\"row_heading level0 row1\" >1</th>\n",
              "      <td id=\"T_d32ad_row1_col0\" class=\"data row1 col0\" >- -5.0000 -</td>\n",
              "      <td id=\"T_d32ad_row1_col1\" class=\"data row1 col1\" >- 3.1400 -</td>\n",
              "      <td id=\"T_d32ad_row1_col2\" class=\"data row1 col2\" >- 1.2000 -</td>\n",
              "      <td id=\"T_d32ad_row1_col3\" class=\"data row1 col3\" >- nan -</td>\n",
              "    </tr>\n",
              "    <tr>\n",
              "      <th id=\"T_d32ad_level0_row2\" class=\"row_heading level0 row2\" >2</th>\n",
              "      <td id=\"T_d32ad_row2_col0\" class=\"data row2 col0\" >- 12.0000 -</td>\n",
              "      <td id=\"T_d32ad_row2_col1\" class=\"data row2 col1\" >- 2.7100 -</td>\n",
              "      <td id=\"T_d32ad_row2_col2\" class=\"data row2 col2\" >- 0.3000 -</td>\n",
              "      <td id=\"T_d32ad_row2_col3\" class=\"data row2 col3\" >- 1000.0000 -</td>\n",
              "    </tr>\n",
              "    <tr>\n",
              "      <th id=\"T_d32ad_level0_row3\" class=\"row_heading level0 row3\" >3</th>\n",
              "      <td id=\"T_d32ad_row3_col0\" class=\"data row3 col0\" >- -4.0000 -</td>\n",
              "      <td id=\"T_d32ad_row3_col1\" class=\"data row3 col1\" >- -3.1400 -</td>\n",
              "      <td id=\"T_d32ad_row3_col2\" class=\"data row3 col2\" >- 1.9000 -</td>\n",
              "      <td id=\"T_d32ad_row3_col3\" class=\"data row3 col3\" >- 7000.0000 -</td>\n",
              "    </tr>\n",
              "    <tr>\n",
              "      <th id=\"T_d32ad_level0_row4\" class=\"row_heading level0 row4\" >4</th>\n",
              "      <td id=\"T_d32ad_row4_col0\" class=\"data row4 col0\" >- 3.0000 -</td>\n",
              "      <td id=\"T_d32ad_row4_col1\" class=\"data row4 col1\" >- nan -</td>\n",
              "      <td id=\"T_d32ad_row4_col2\" class=\"data row4 col2\" >- 2.2000 -</td>\n",
              "      <td id=\"T_d32ad_row4_col3\" class=\"data row4 col3\" >- 5000.0000 -</td>\n",
              "    </tr>\n",
              "  </tbody>\n",
              "</table>\n"
            ]
          },
          "metadata": {},
          "execution_count": 3
        }
      ]
    },
    {
      "cell_type": "code",
      "source": [
        "df.style.format({\n",
        "    \"A\": \"{:.3f}\",\n",
        "    \"B\": \"{:,.20f}\",\n",
        "    \"C\": \"{:.2f}\",\n",
        "    \"D\": \"$ {:,.4f}\"\n",
        "})"
      ],
      "metadata": {
        "colab": {
          "base_uri": "https://localhost:8080/",
          "height": 204
        },
        "id": "xFk8o4t3W2kZ",
        "outputId": "ca09f701-5a36-4c31-dc38-69dd3a5ebd7d"
      },
      "execution_count": 4,
      "outputs": [
        {
          "output_type": "execute_result",
          "data": {
            "text/plain": [
              "<pandas.io.formats.style.Styler at 0x7e0249042980>"
            ],
            "text/html": [
              "<style type=\"text/css\">\n",
              "</style>\n",
              "<table id=\"T_da09c\" class=\"dataframe\">\n",
              "  <thead>\n",
              "    <tr>\n",
              "      <th class=\"blank level0\" >&nbsp;</th>\n",
              "      <th id=\"T_da09c_level0_col0\" class=\"col_heading level0 col0\" >A</th>\n",
              "      <th id=\"T_da09c_level0_col1\" class=\"col_heading level0 col1\" >B</th>\n",
              "      <th id=\"T_da09c_level0_col2\" class=\"col_heading level0 col2\" >C</th>\n",
              "      <th id=\"T_da09c_level0_col3\" class=\"col_heading level0 col3\" >D</th>\n",
              "    </tr>\n",
              "  </thead>\n",
              "  <tbody>\n",
              "    <tr>\n",
              "      <th id=\"T_da09c_level0_row0\" class=\"row_heading level0 row0\" >0</th>\n",
              "      <td id=\"T_da09c_row0_col0\" class=\"data row0 col0\" >0.000</td>\n",
              "      <td id=\"T_da09c_row0_col1\" class=\"data row0 col1\" >12.24000000000000021316</td>\n",
              "      <td id=\"T_da09c_row0_col2\" class=\"data row0 col2\" >0.50</td>\n",
              "      <td id=\"T_da09c_row0_col3\" class=\"data row0 col3\" >$ 2,000.0000</td>\n",
              "    </tr>\n",
              "    <tr>\n",
              "      <th id=\"T_da09c_level0_row1\" class=\"row_heading level0 row1\" >1</th>\n",
              "      <td id=\"T_da09c_row1_col0\" class=\"data row1 col0\" >-5.000</td>\n",
              "      <td id=\"T_da09c_row1_col1\" class=\"data row1 col1\" >3.14000000000000012434</td>\n",
              "      <td id=\"T_da09c_row1_col2\" class=\"data row1 col2\" >1.20</td>\n",
              "      <td id=\"T_da09c_row1_col3\" class=\"data row1 col3\" >$ nan</td>\n",
              "    </tr>\n",
              "    <tr>\n",
              "      <th id=\"T_da09c_level0_row2\" class=\"row_heading level0 row2\" >2</th>\n",
              "      <td id=\"T_da09c_row2_col0\" class=\"data row2 col0\" >12.000</td>\n",
              "      <td id=\"T_da09c_row2_col1\" class=\"data row2 col1\" >2.70999999999999996447</td>\n",
              "      <td id=\"T_da09c_row2_col2\" class=\"data row2 col2\" >0.30</td>\n",
              "      <td id=\"T_da09c_row2_col3\" class=\"data row2 col3\" >$ 1,000.0000</td>\n",
              "    </tr>\n",
              "    <tr>\n",
              "      <th id=\"T_da09c_level0_row3\" class=\"row_heading level0 row3\" >3</th>\n",
              "      <td id=\"T_da09c_row3_col0\" class=\"data row3 col0\" >-4.000</td>\n",
              "      <td id=\"T_da09c_row3_col1\" class=\"data row3 col1\" >-3.14000000000000012434</td>\n",
              "      <td id=\"T_da09c_row3_col2\" class=\"data row3 col2\" >1.90</td>\n",
              "      <td id=\"T_da09c_row3_col3\" class=\"data row3 col3\" >$ 7,000.0000</td>\n",
              "    </tr>\n",
              "    <tr>\n",
              "      <th id=\"T_da09c_level0_row4\" class=\"row_heading level0 row4\" >4</th>\n",
              "      <td id=\"T_da09c_row4_col0\" class=\"data row4 col0\" >3.000</td>\n",
              "      <td id=\"T_da09c_row4_col1\" class=\"data row4 col1\" >nan</td>\n",
              "      <td id=\"T_da09c_row4_col2\" class=\"data row4 col2\" >2.20</td>\n",
              "      <td id=\"T_da09c_row4_col3\" class=\"data row4 col3\" >$ 5,000.0000</td>\n",
              "    </tr>\n",
              "  </tbody>\n",
              "</table>\n"
            ]
          },
          "metadata": {},
          "execution_count": 4
        }
      ]
    },
    {
      "cell_type": "code",
      "source": [
        "df.style.highlight_max()"
      ],
      "metadata": {
        "colab": {
          "base_uri": "https://localhost:8080/",
          "height": 204
        },
        "id": "ir1qlN9SW32X",
        "outputId": "c823663a-4ce9-49c2-8f40-3fe31ad97cf1"
      },
      "execution_count": 5,
      "outputs": [
        {
          "output_type": "execute_result",
          "data": {
            "text/plain": [
              "<pandas.io.formats.style.Styler at 0x7e0249002bc0>"
            ],
            "text/html": [
              "<style type=\"text/css\">\n",
              "#T_70903_row0_col1, #T_70903_row2_col0, #T_70903_row3_col3, #T_70903_row4_col2 {\n",
              "  background-color: yellow;\n",
              "}\n",
              "</style>\n",
              "<table id=\"T_70903\" class=\"dataframe\">\n",
              "  <thead>\n",
              "    <tr>\n",
              "      <th class=\"blank level0\" >&nbsp;</th>\n",
              "      <th id=\"T_70903_level0_col0\" class=\"col_heading level0 col0\" >A</th>\n",
              "      <th id=\"T_70903_level0_col1\" class=\"col_heading level0 col1\" >B</th>\n",
              "      <th id=\"T_70903_level0_col2\" class=\"col_heading level0 col2\" >C</th>\n",
              "      <th id=\"T_70903_level0_col3\" class=\"col_heading level0 col3\" >D</th>\n",
              "    </tr>\n",
              "  </thead>\n",
              "  <tbody>\n",
              "    <tr>\n",
              "      <th id=\"T_70903_level0_row0\" class=\"row_heading level0 row0\" >0</th>\n",
              "      <td id=\"T_70903_row0_col0\" class=\"data row0 col0\" >0</td>\n",
              "      <td id=\"T_70903_row0_col1\" class=\"data row0 col1\" >12.240000</td>\n",
              "      <td id=\"T_70903_row0_col2\" class=\"data row0 col2\" >0.500000</td>\n",
              "      <td id=\"T_70903_row0_col3\" class=\"data row0 col3\" >2000.000000</td>\n",
              "    </tr>\n",
              "    <tr>\n",
              "      <th id=\"T_70903_level0_row1\" class=\"row_heading level0 row1\" >1</th>\n",
              "      <td id=\"T_70903_row1_col0\" class=\"data row1 col0\" >-5</td>\n",
              "      <td id=\"T_70903_row1_col1\" class=\"data row1 col1\" >3.140000</td>\n",
              "      <td id=\"T_70903_row1_col2\" class=\"data row1 col2\" >1.200000</td>\n",
              "      <td id=\"T_70903_row1_col3\" class=\"data row1 col3\" >nan</td>\n",
              "    </tr>\n",
              "    <tr>\n",
              "      <th id=\"T_70903_level0_row2\" class=\"row_heading level0 row2\" >2</th>\n",
              "      <td id=\"T_70903_row2_col0\" class=\"data row2 col0\" >12</td>\n",
              "      <td id=\"T_70903_row2_col1\" class=\"data row2 col1\" >2.710000</td>\n",
              "      <td id=\"T_70903_row2_col2\" class=\"data row2 col2\" >0.300000</td>\n",
              "      <td id=\"T_70903_row2_col3\" class=\"data row2 col3\" >1000.000000</td>\n",
              "    </tr>\n",
              "    <tr>\n",
              "      <th id=\"T_70903_level0_row3\" class=\"row_heading level0 row3\" >3</th>\n",
              "      <td id=\"T_70903_row3_col0\" class=\"data row3 col0\" >-4</td>\n",
              "      <td id=\"T_70903_row3_col1\" class=\"data row3 col1\" >-3.140000</td>\n",
              "      <td id=\"T_70903_row3_col2\" class=\"data row3 col2\" >1.900000</td>\n",
              "      <td id=\"T_70903_row3_col3\" class=\"data row3 col3\" >7000.000000</td>\n",
              "    </tr>\n",
              "    <tr>\n",
              "      <th id=\"T_70903_level0_row4\" class=\"row_heading level0 row4\" >4</th>\n",
              "      <td id=\"T_70903_row4_col0\" class=\"data row4 col0\" >3</td>\n",
              "      <td id=\"T_70903_row4_col1\" class=\"data row4 col1\" >nan</td>\n",
              "      <td id=\"T_70903_row4_col2\" class=\"data row4 col2\" >2.200000</td>\n",
              "      <td id=\"T_70903_row4_col3\" class=\"data row4 col3\" >5000.000000</td>\n",
              "    </tr>\n",
              "  </tbody>\n",
              "</table>\n"
            ]
          },
          "metadata": {},
          "execution_count": 5
        }
      ]
    },
    {
      "cell_type": "code",
      "source": [
        "df.style.highlight_min()"
      ],
      "metadata": {
        "colab": {
          "base_uri": "https://localhost:8080/",
          "height": 204
        },
        "id": "MP98ZneqW_W0",
        "outputId": "a1d77f8b-ac37-4f1b-9b4a-007511059f22"
      },
      "execution_count": 6,
      "outputs": [
        {
          "output_type": "execute_result",
          "data": {
            "text/plain": [
              "<pandas.io.formats.style.Styler at 0x7e0249002d10>"
            ],
            "text/html": [
              "<style type=\"text/css\">\n",
              "#T_02b4b_row1_col0, #T_02b4b_row2_col2, #T_02b4b_row2_col3, #T_02b4b_row3_col1 {\n",
              "  background-color: yellow;\n",
              "}\n",
              "</style>\n",
              "<table id=\"T_02b4b\" class=\"dataframe\">\n",
              "  <thead>\n",
              "    <tr>\n",
              "      <th class=\"blank level0\" >&nbsp;</th>\n",
              "      <th id=\"T_02b4b_level0_col0\" class=\"col_heading level0 col0\" >A</th>\n",
              "      <th id=\"T_02b4b_level0_col1\" class=\"col_heading level0 col1\" >B</th>\n",
              "      <th id=\"T_02b4b_level0_col2\" class=\"col_heading level0 col2\" >C</th>\n",
              "      <th id=\"T_02b4b_level0_col3\" class=\"col_heading level0 col3\" >D</th>\n",
              "    </tr>\n",
              "  </thead>\n",
              "  <tbody>\n",
              "    <tr>\n",
              "      <th id=\"T_02b4b_level0_row0\" class=\"row_heading level0 row0\" >0</th>\n",
              "      <td id=\"T_02b4b_row0_col0\" class=\"data row0 col0\" >0</td>\n",
              "      <td id=\"T_02b4b_row0_col1\" class=\"data row0 col1\" >12.240000</td>\n",
              "      <td id=\"T_02b4b_row0_col2\" class=\"data row0 col2\" >0.500000</td>\n",
              "      <td id=\"T_02b4b_row0_col3\" class=\"data row0 col3\" >2000.000000</td>\n",
              "    </tr>\n",
              "    <tr>\n",
              "      <th id=\"T_02b4b_level0_row1\" class=\"row_heading level0 row1\" >1</th>\n",
              "      <td id=\"T_02b4b_row1_col0\" class=\"data row1 col0\" >-5</td>\n",
              "      <td id=\"T_02b4b_row1_col1\" class=\"data row1 col1\" >3.140000</td>\n",
              "      <td id=\"T_02b4b_row1_col2\" class=\"data row1 col2\" >1.200000</td>\n",
              "      <td id=\"T_02b4b_row1_col3\" class=\"data row1 col3\" >nan</td>\n",
              "    </tr>\n",
              "    <tr>\n",
              "      <th id=\"T_02b4b_level0_row2\" class=\"row_heading level0 row2\" >2</th>\n",
              "      <td id=\"T_02b4b_row2_col0\" class=\"data row2 col0\" >12</td>\n",
              "      <td id=\"T_02b4b_row2_col1\" class=\"data row2 col1\" >2.710000</td>\n",
              "      <td id=\"T_02b4b_row2_col2\" class=\"data row2 col2\" >0.300000</td>\n",
              "      <td id=\"T_02b4b_row2_col3\" class=\"data row2 col3\" >1000.000000</td>\n",
              "    </tr>\n",
              "    <tr>\n",
              "      <th id=\"T_02b4b_level0_row3\" class=\"row_heading level0 row3\" >3</th>\n",
              "      <td id=\"T_02b4b_row3_col0\" class=\"data row3 col0\" >-4</td>\n",
              "      <td id=\"T_02b4b_row3_col1\" class=\"data row3 col1\" >-3.140000</td>\n",
              "      <td id=\"T_02b4b_row3_col2\" class=\"data row3 col2\" >1.900000</td>\n",
              "      <td id=\"T_02b4b_row3_col3\" class=\"data row3 col3\" >7000.000000</td>\n",
              "    </tr>\n",
              "    <tr>\n",
              "      <th id=\"T_02b4b_level0_row4\" class=\"row_heading level0 row4\" >4</th>\n",
              "      <td id=\"T_02b4b_row4_col0\" class=\"data row4 col0\" >3</td>\n",
              "      <td id=\"T_02b4b_row4_col1\" class=\"data row4 col1\" >nan</td>\n",
              "      <td id=\"T_02b4b_row4_col2\" class=\"data row4 col2\" >2.200000</td>\n",
              "      <td id=\"T_02b4b_row4_col3\" class=\"data row4 col3\" >5000.000000</td>\n",
              "    </tr>\n",
              "  </tbody>\n",
              "</table>\n"
            ]
          },
          "metadata": {},
          "execution_count": 6
        }
      ]
    },
    {
      "cell_type": "code",
      "source": [
        "df.style.highlight_null(null_color=\"red\")"
      ],
      "metadata": {
        "colab": {
          "base_uri": "https://localhost:8080/",
          "height": 238
        },
        "id": "jr3auP2_XBby",
        "outputId": "f2be0a32-c819-4ceb-e8dc-dc209bd6de4e"
      },
      "execution_count": 7,
      "outputs": [
        {
          "output_type": "stream",
          "name": "stderr",
          "text": [
            "<ipython-input-7-1b35ae8595c3>:1: FutureWarning: `null_color` is deprecated: use `color` instead\n",
            "  df.style.highlight_null(null_color=\"red\")\n"
          ]
        },
        {
          "output_type": "execute_result",
          "data": {
            "text/plain": [
              "<pandas.io.formats.style.Styler at 0x7e02490028f0>"
            ],
            "text/html": [
              "<style type=\"text/css\">\n",
              "#T_697cb_row1_col3, #T_697cb_row4_col1 {\n",
              "  background-color: red;\n",
              "}\n",
              "</style>\n",
              "<table id=\"T_697cb\" class=\"dataframe\">\n",
              "  <thead>\n",
              "    <tr>\n",
              "      <th class=\"blank level0\" >&nbsp;</th>\n",
              "      <th id=\"T_697cb_level0_col0\" class=\"col_heading level0 col0\" >A</th>\n",
              "      <th id=\"T_697cb_level0_col1\" class=\"col_heading level0 col1\" >B</th>\n",
              "      <th id=\"T_697cb_level0_col2\" class=\"col_heading level0 col2\" >C</th>\n",
              "      <th id=\"T_697cb_level0_col3\" class=\"col_heading level0 col3\" >D</th>\n",
              "    </tr>\n",
              "  </thead>\n",
              "  <tbody>\n",
              "    <tr>\n",
              "      <th id=\"T_697cb_level0_row0\" class=\"row_heading level0 row0\" >0</th>\n",
              "      <td id=\"T_697cb_row0_col0\" class=\"data row0 col0\" >0</td>\n",
              "      <td id=\"T_697cb_row0_col1\" class=\"data row0 col1\" >12.240000</td>\n",
              "      <td id=\"T_697cb_row0_col2\" class=\"data row0 col2\" >0.500000</td>\n",
              "      <td id=\"T_697cb_row0_col3\" class=\"data row0 col3\" >2000.000000</td>\n",
              "    </tr>\n",
              "    <tr>\n",
              "      <th id=\"T_697cb_level0_row1\" class=\"row_heading level0 row1\" >1</th>\n",
              "      <td id=\"T_697cb_row1_col0\" class=\"data row1 col0\" >-5</td>\n",
              "      <td id=\"T_697cb_row1_col1\" class=\"data row1 col1\" >3.140000</td>\n",
              "      <td id=\"T_697cb_row1_col2\" class=\"data row1 col2\" >1.200000</td>\n",
              "      <td id=\"T_697cb_row1_col3\" class=\"data row1 col3\" >nan</td>\n",
              "    </tr>\n",
              "    <tr>\n",
              "      <th id=\"T_697cb_level0_row2\" class=\"row_heading level0 row2\" >2</th>\n",
              "      <td id=\"T_697cb_row2_col0\" class=\"data row2 col0\" >12</td>\n",
              "      <td id=\"T_697cb_row2_col1\" class=\"data row2 col1\" >2.710000</td>\n",
              "      <td id=\"T_697cb_row2_col2\" class=\"data row2 col2\" >0.300000</td>\n",
              "      <td id=\"T_697cb_row2_col3\" class=\"data row2 col3\" >1000.000000</td>\n",
              "    </tr>\n",
              "    <tr>\n",
              "      <th id=\"T_697cb_level0_row3\" class=\"row_heading level0 row3\" >3</th>\n",
              "      <td id=\"T_697cb_row3_col0\" class=\"data row3 col0\" >-4</td>\n",
              "      <td id=\"T_697cb_row3_col1\" class=\"data row3 col1\" >-3.140000</td>\n",
              "      <td id=\"T_697cb_row3_col2\" class=\"data row3 col2\" >1.900000</td>\n",
              "      <td id=\"T_697cb_row3_col3\" class=\"data row3 col3\" >7000.000000</td>\n",
              "    </tr>\n",
              "    <tr>\n",
              "      <th id=\"T_697cb_level0_row4\" class=\"row_heading level0 row4\" >4</th>\n",
              "      <td id=\"T_697cb_row4_col0\" class=\"data row4 col0\" >3</td>\n",
              "      <td id=\"T_697cb_row4_col1\" class=\"data row4 col1\" >nan</td>\n",
              "      <td id=\"T_697cb_row4_col2\" class=\"data row4 col2\" >2.200000</td>\n",
              "      <td id=\"T_697cb_row4_col3\" class=\"data row4 col3\" >5000.000000</td>\n",
              "    </tr>\n",
              "  </tbody>\n",
              "</table>\n"
            ]
          },
          "metadata": {},
          "execution_count": 7
        }
      ]
    },
    {
      "cell_type": "code",
      "source": [
        "df.style.format(na_rep=\"Missing\").highlight_null(null_color=\"red\")"
      ],
      "metadata": {
        "colab": {
          "base_uri": "https://localhost:8080/",
          "height": 238
        },
        "id": "YzAIjGENXCjl",
        "outputId": "501cf1ce-35d2-47f9-f38f-34e4bdd352de"
      },
      "execution_count": 8,
      "outputs": [
        {
          "output_type": "stream",
          "name": "stderr",
          "text": [
            "<ipython-input-8-c0ee7d958d01>:1: FutureWarning: `null_color` is deprecated: use `color` instead\n",
            "  df.style.format(na_rep=\"Missing\").highlight_null(null_color=\"red\")\n"
          ]
        },
        {
          "output_type": "execute_result",
          "data": {
            "text/plain": [
              "<pandas.io.formats.style.Styler at 0x7e0249002830>"
            ],
            "text/html": [
              "<style type=\"text/css\">\n",
              "#T_41e44_row1_col3, #T_41e44_row4_col1 {\n",
              "  background-color: red;\n",
              "}\n",
              "</style>\n",
              "<table id=\"T_41e44\" class=\"dataframe\">\n",
              "  <thead>\n",
              "    <tr>\n",
              "      <th class=\"blank level0\" >&nbsp;</th>\n",
              "      <th id=\"T_41e44_level0_col0\" class=\"col_heading level0 col0\" >A</th>\n",
              "      <th id=\"T_41e44_level0_col1\" class=\"col_heading level0 col1\" >B</th>\n",
              "      <th id=\"T_41e44_level0_col2\" class=\"col_heading level0 col2\" >C</th>\n",
              "      <th id=\"T_41e44_level0_col3\" class=\"col_heading level0 col3\" >D</th>\n",
              "    </tr>\n",
              "  </thead>\n",
              "  <tbody>\n",
              "    <tr>\n",
              "      <th id=\"T_41e44_level0_row0\" class=\"row_heading level0 row0\" >0</th>\n",
              "      <td id=\"T_41e44_row0_col0\" class=\"data row0 col0\" >0</td>\n",
              "      <td id=\"T_41e44_row0_col1\" class=\"data row0 col1\" >12.240000</td>\n",
              "      <td id=\"T_41e44_row0_col2\" class=\"data row0 col2\" >0.500000</td>\n",
              "      <td id=\"T_41e44_row0_col3\" class=\"data row0 col3\" >2000.000000</td>\n",
              "    </tr>\n",
              "    <tr>\n",
              "      <th id=\"T_41e44_level0_row1\" class=\"row_heading level0 row1\" >1</th>\n",
              "      <td id=\"T_41e44_row1_col0\" class=\"data row1 col0\" >-5</td>\n",
              "      <td id=\"T_41e44_row1_col1\" class=\"data row1 col1\" >3.140000</td>\n",
              "      <td id=\"T_41e44_row1_col2\" class=\"data row1 col2\" >1.200000</td>\n",
              "      <td id=\"T_41e44_row1_col3\" class=\"data row1 col3\" >Missing</td>\n",
              "    </tr>\n",
              "    <tr>\n",
              "      <th id=\"T_41e44_level0_row2\" class=\"row_heading level0 row2\" >2</th>\n",
              "      <td id=\"T_41e44_row2_col0\" class=\"data row2 col0\" >12</td>\n",
              "      <td id=\"T_41e44_row2_col1\" class=\"data row2 col1\" >2.710000</td>\n",
              "      <td id=\"T_41e44_row2_col2\" class=\"data row2 col2\" >0.300000</td>\n",
              "      <td id=\"T_41e44_row2_col3\" class=\"data row2 col3\" >1000.000000</td>\n",
              "    </tr>\n",
              "    <tr>\n",
              "      <th id=\"T_41e44_level0_row3\" class=\"row_heading level0 row3\" >3</th>\n",
              "      <td id=\"T_41e44_row3_col0\" class=\"data row3 col0\" >-4</td>\n",
              "      <td id=\"T_41e44_row3_col1\" class=\"data row3 col1\" >-3.140000</td>\n",
              "      <td id=\"T_41e44_row3_col2\" class=\"data row3 col2\" >1.900000</td>\n",
              "      <td id=\"T_41e44_row3_col3\" class=\"data row3 col3\" >7000.000000</td>\n",
              "    </tr>\n",
              "    <tr>\n",
              "      <th id=\"T_41e44_level0_row4\" class=\"row_heading level0 row4\" >4</th>\n",
              "      <td id=\"T_41e44_row4_col0\" class=\"data row4 col0\" >3</td>\n",
              "      <td id=\"T_41e44_row4_col1\" class=\"data row4 col1\" >Missing</td>\n",
              "      <td id=\"T_41e44_row4_col2\" class=\"data row4 col2\" >2.200000</td>\n",
              "      <td id=\"T_41e44_row4_col3\" class=\"data row4 col3\" >5000.000000</td>\n",
              "    </tr>\n",
              "  </tbody>\n",
              "</table>\n"
            ]
          },
          "metadata": {},
          "execution_count": 8
        }
      ]
    },
    {
      "cell_type": "code",
      "source": [
        "df.style.background_gradient()"
      ],
      "metadata": {
        "colab": {
          "base_uri": "https://localhost:8080/",
          "height": 204
        },
        "id": "RFg2nmS9XEaZ",
        "outputId": "69695a9d-bc3c-40b1-f330-bf03000dfe0d"
      },
      "execution_count": 9,
      "outputs": [
        {
          "output_type": "execute_result",
          "data": {
            "text/plain": [
              "<pandas.io.formats.style.Styler at 0x7e0249002350>"
            ],
            "text/html": [
              "<style type=\"text/css\">\n",
              "#T_9968d_row0_col0 {\n",
              "  background-color: #c1cae2;\n",
              "  color: #000000;\n",
              "}\n",
              "#T_9968d_row0_col1, #T_9968d_row2_col0, #T_9968d_row3_col3, #T_9968d_row4_col2 {\n",
              "  background-color: #023858;\n",
              "  color: #f1f1f1;\n",
              "}\n",
              "#T_9968d_row0_col2 {\n",
              "  background-color: #f0eaf4;\n",
              "  color: #000000;\n",
              "}\n",
              "#T_9968d_row0_col3 {\n",
              "  background-color: #e3e0ee;\n",
              "  color: #000000;\n",
              "}\n",
              "#T_9968d_row1_col0, #T_9968d_row2_col2, #T_9968d_row2_col3, #T_9968d_row3_col1 {\n",
              "  background-color: #fff7fb;\n",
              "  color: #000000;\n",
              "}\n",
              "#T_9968d_row1_col1 {\n",
              "  background-color: #99b8d8;\n",
              "  color: #000000;\n",
              "}\n",
              "#T_9968d_row1_col2 {\n",
              "  background-color: #7eadd1;\n",
              "  color: #f1f1f1;\n",
              "}\n",
              "#T_9968d_row1_col3, #T_9968d_row4_col1 {\n",
              "  background-color: #000000;\n",
              "  color: #f1f1f1;\n",
              "}\n",
              "#T_9968d_row2_col1 {\n",
              "  background-color: #a4bcda;\n",
              "  color: #000000;\n",
              "}\n",
              "#T_9968d_row3_col0 {\n",
              "  background-color: #f6eff7;\n",
              "  color: #000000;\n",
              "}\n",
              "#T_9968d_row3_col2 {\n",
              "  background-color: #046096;\n",
              "  color: #f1f1f1;\n",
              "}\n",
              "#T_9968d_row4_col0 {\n",
              "  background-color: #80aed2;\n",
              "  color: #f1f1f1;\n",
              "}\n",
              "#T_9968d_row4_col3 {\n",
              "  background-color: #2685bb;\n",
              "  color: #f1f1f1;\n",
              "}\n",
              "</style>\n",
              "<table id=\"T_9968d\" class=\"dataframe\">\n",
              "  <thead>\n",
              "    <tr>\n",
              "      <th class=\"blank level0\" >&nbsp;</th>\n",
              "      <th id=\"T_9968d_level0_col0\" class=\"col_heading level0 col0\" >A</th>\n",
              "      <th id=\"T_9968d_level0_col1\" class=\"col_heading level0 col1\" >B</th>\n",
              "      <th id=\"T_9968d_level0_col2\" class=\"col_heading level0 col2\" >C</th>\n",
              "      <th id=\"T_9968d_level0_col3\" class=\"col_heading level0 col3\" >D</th>\n",
              "    </tr>\n",
              "  </thead>\n",
              "  <tbody>\n",
              "    <tr>\n",
              "      <th id=\"T_9968d_level0_row0\" class=\"row_heading level0 row0\" >0</th>\n",
              "      <td id=\"T_9968d_row0_col0\" class=\"data row0 col0\" >0</td>\n",
              "      <td id=\"T_9968d_row0_col1\" class=\"data row0 col1\" >12.240000</td>\n",
              "      <td id=\"T_9968d_row0_col2\" class=\"data row0 col2\" >0.500000</td>\n",
              "      <td id=\"T_9968d_row0_col3\" class=\"data row0 col3\" >2000.000000</td>\n",
              "    </tr>\n",
              "    <tr>\n",
              "      <th id=\"T_9968d_level0_row1\" class=\"row_heading level0 row1\" >1</th>\n",
              "      <td id=\"T_9968d_row1_col0\" class=\"data row1 col0\" >-5</td>\n",
              "      <td id=\"T_9968d_row1_col1\" class=\"data row1 col1\" >3.140000</td>\n",
              "      <td id=\"T_9968d_row1_col2\" class=\"data row1 col2\" >1.200000</td>\n",
              "      <td id=\"T_9968d_row1_col3\" class=\"data row1 col3\" >nan</td>\n",
              "    </tr>\n",
              "    <tr>\n",
              "      <th id=\"T_9968d_level0_row2\" class=\"row_heading level0 row2\" >2</th>\n",
              "      <td id=\"T_9968d_row2_col0\" class=\"data row2 col0\" >12</td>\n",
              "      <td id=\"T_9968d_row2_col1\" class=\"data row2 col1\" >2.710000</td>\n",
              "      <td id=\"T_9968d_row2_col2\" class=\"data row2 col2\" >0.300000</td>\n",
              "      <td id=\"T_9968d_row2_col3\" class=\"data row2 col3\" >1000.000000</td>\n",
              "    </tr>\n",
              "    <tr>\n",
              "      <th id=\"T_9968d_level0_row3\" class=\"row_heading level0 row3\" >3</th>\n",
              "      <td id=\"T_9968d_row3_col0\" class=\"data row3 col0\" >-4</td>\n",
              "      <td id=\"T_9968d_row3_col1\" class=\"data row3 col1\" >-3.140000</td>\n",
              "      <td id=\"T_9968d_row3_col2\" class=\"data row3 col2\" >1.900000</td>\n",
              "      <td id=\"T_9968d_row3_col3\" class=\"data row3 col3\" >7000.000000</td>\n",
              "    </tr>\n",
              "    <tr>\n",
              "      <th id=\"T_9968d_level0_row4\" class=\"row_heading level0 row4\" >4</th>\n",
              "      <td id=\"T_9968d_row4_col0\" class=\"data row4 col0\" >3</td>\n",
              "      <td id=\"T_9968d_row4_col1\" class=\"data row4 col1\" >nan</td>\n",
              "      <td id=\"T_9968d_row4_col2\" class=\"data row4 col2\" >2.200000</td>\n",
              "      <td id=\"T_9968d_row4_col3\" class=\"data row4 col3\" >5000.000000</td>\n",
              "    </tr>\n",
              "  </tbody>\n",
              "</table>\n"
            ]
          },
          "metadata": {},
          "execution_count": 9
        }
      ]
    },
    {
      "cell_type": "code",
      "source": [
        "df.style.background_gradient(subset=[\"B\", \"D\"])"
      ],
      "metadata": {
        "colab": {
          "base_uri": "https://localhost:8080/",
          "height": 204
        },
        "id": "BfMQTfJUXbXf",
        "outputId": "1ac99e98-1295-49c5-92e7-81e0c19724ff"
      },
      "execution_count": 10,
      "outputs": [
        {
          "output_type": "execute_result",
          "data": {
            "text/plain": [
              "<pandas.io.formats.style.Styler at 0x7e0249003370>"
            ],
            "text/html": [
              "<style type=\"text/css\">\n",
              "#T_5734a_row0_col1, #T_5734a_row3_col3 {\n",
              "  background-color: #023858;\n",
              "  color: #f1f1f1;\n",
              "}\n",
              "#T_5734a_row0_col3 {\n",
              "  background-color: #e3e0ee;\n",
              "  color: #000000;\n",
              "}\n",
              "#T_5734a_row1_col1 {\n",
              "  background-color: #99b8d8;\n",
              "  color: #000000;\n",
              "}\n",
              "#T_5734a_row1_col3, #T_5734a_row4_col1 {\n",
              "  background-color: #000000;\n",
              "  color: #f1f1f1;\n",
              "}\n",
              "#T_5734a_row2_col1 {\n",
              "  background-color: #a4bcda;\n",
              "  color: #000000;\n",
              "}\n",
              "#T_5734a_row2_col3, #T_5734a_row3_col1 {\n",
              "  background-color: #fff7fb;\n",
              "  color: #000000;\n",
              "}\n",
              "#T_5734a_row4_col3 {\n",
              "  background-color: #2685bb;\n",
              "  color: #f1f1f1;\n",
              "}\n",
              "</style>\n",
              "<table id=\"T_5734a\" class=\"dataframe\">\n",
              "  <thead>\n",
              "    <tr>\n",
              "      <th class=\"blank level0\" >&nbsp;</th>\n",
              "      <th id=\"T_5734a_level0_col0\" class=\"col_heading level0 col0\" >A</th>\n",
              "      <th id=\"T_5734a_level0_col1\" class=\"col_heading level0 col1\" >B</th>\n",
              "      <th id=\"T_5734a_level0_col2\" class=\"col_heading level0 col2\" >C</th>\n",
              "      <th id=\"T_5734a_level0_col3\" class=\"col_heading level0 col3\" >D</th>\n",
              "    </tr>\n",
              "  </thead>\n",
              "  <tbody>\n",
              "    <tr>\n",
              "      <th id=\"T_5734a_level0_row0\" class=\"row_heading level0 row0\" >0</th>\n",
              "      <td id=\"T_5734a_row0_col0\" class=\"data row0 col0\" >0</td>\n",
              "      <td id=\"T_5734a_row0_col1\" class=\"data row0 col1\" >12.240000</td>\n",
              "      <td id=\"T_5734a_row0_col2\" class=\"data row0 col2\" >0.500000</td>\n",
              "      <td id=\"T_5734a_row0_col3\" class=\"data row0 col3\" >2000.000000</td>\n",
              "    </tr>\n",
              "    <tr>\n",
              "      <th id=\"T_5734a_level0_row1\" class=\"row_heading level0 row1\" >1</th>\n",
              "      <td id=\"T_5734a_row1_col0\" class=\"data row1 col0\" >-5</td>\n",
              "      <td id=\"T_5734a_row1_col1\" class=\"data row1 col1\" >3.140000</td>\n",
              "      <td id=\"T_5734a_row1_col2\" class=\"data row1 col2\" >1.200000</td>\n",
              "      <td id=\"T_5734a_row1_col3\" class=\"data row1 col3\" >nan</td>\n",
              "    </tr>\n",
              "    <tr>\n",
              "      <th id=\"T_5734a_level0_row2\" class=\"row_heading level0 row2\" >2</th>\n",
              "      <td id=\"T_5734a_row2_col0\" class=\"data row2 col0\" >12</td>\n",
              "      <td id=\"T_5734a_row2_col1\" class=\"data row2 col1\" >2.710000</td>\n",
              "      <td id=\"T_5734a_row2_col2\" class=\"data row2 col2\" >0.300000</td>\n",
              "      <td id=\"T_5734a_row2_col3\" class=\"data row2 col3\" >1000.000000</td>\n",
              "    </tr>\n",
              "    <tr>\n",
              "      <th id=\"T_5734a_level0_row3\" class=\"row_heading level0 row3\" >3</th>\n",
              "      <td id=\"T_5734a_row3_col0\" class=\"data row3 col0\" >-4</td>\n",
              "      <td id=\"T_5734a_row3_col1\" class=\"data row3 col1\" >-3.140000</td>\n",
              "      <td id=\"T_5734a_row3_col2\" class=\"data row3 col2\" >1.900000</td>\n",
              "      <td id=\"T_5734a_row3_col3\" class=\"data row3 col3\" >7000.000000</td>\n",
              "    </tr>\n",
              "    <tr>\n",
              "      <th id=\"T_5734a_level0_row4\" class=\"row_heading level0 row4\" >4</th>\n",
              "      <td id=\"T_5734a_row4_col0\" class=\"data row4 col0\" >3</td>\n",
              "      <td id=\"T_5734a_row4_col1\" class=\"data row4 col1\" >nan</td>\n",
              "      <td id=\"T_5734a_row4_col2\" class=\"data row4 col2\" >2.200000</td>\n",
              "      <td id=\"T_5734a_row4_col3\" class=\"data row4 col3\" >5000.000000</td>\n",
              "    </tr>\n",
              "  </tbody>\n",
              "</table>\n"
            ]
          },
          "metadata": {},
          "execution_count": 10
        }
      ]
    },
    {
      "cell_type": "code",
      "source": [
        "df.style.text_gradient(subset=[\"C\"], cmap=\"RdYlGn\", vmin=0, vmax=2.5)"
      ],
      "metadata": {
        "colab": {
          "base_uri": "https://localhost:8080/",
          "height": 204
        },
        "id": "bOGnCOJ9Xe85",
        "outputId": "d0d32cb6-625d-4c8c-8681-fdf80054a1e7"
      },
      "execution_count": 11,
      "outputs": [
        {
          "output_type": "execute_result",
          "data": {
            "text/plain": [
              "<pandas.io.formats.style.Styler at 0x7e0249002140>"
            ],
            "text/html": [
              "<style type=\"text/css\">\n",
              "#T_b521b_row0_col2 {\n",
              "  color: #f46d43;\n",
              "}\n",
              "#T_b521b_row1_col2 {\n",
              "  color: #fff8b4;\n",
              "}\n",
              "#T_b521b_row2_col2 {\n",
              "  color: #dc3b2c;\n",
              "}\n",
              "#T_b521b_row3_col2 {\n",
              "  color: #7fc866;\n",
              "}\n",
              "#T_b521b_row4_col2 {\n",
              "  color: #279f53;\n",
              "}\n",
              "</style>\n",
              "<table id=\"T_b521b\" class=\"dataframe\">\n",
              "  <thead>\n",
              "    <tr>\n",
              "      <th class=\"blank level0\" >&nbsp;</th>\n",
              "      <th id=\"T_b521b_level0_col0\" class=\"col_heading level0 col0\" >A</th>\n",
              "      <th id=\"T_b521b_level0_col1\" class=\"col_heading level0 col1\" >B</th>\n",
              "      <th id=\"T_b521b_level0_col2\" class=\"col_heading level0 col2\" >C</th>\n",
              "      <th id=\"T_b521b_level0_col3\" class=\"col_heading level0 col3\" >D</th>\n",
              "    </tr>\n",
              "  </thead>\n",
              "  <tbody>\n",
              "    <tr>\n",
              "      <th id=\"T_b521b_level0_row0\" class=\"row_heading level0 row0\" >0</th>\n",
              "      <td id=\"T_b521b_row0_col0\" class=\"data row0 col0\" >0</td>\n",
              "      <td id=\"T_b521b_row0_col1\" class=\"data row0 col1\" >12.240000</td>\n",
              "      <td id=\"T_b521b_row0_col2\" class=\"data row0 col2\" >0.500000</td>\n",
              "      <td id=\"T_b521b_row0_col3\" class=\"data row0 col3\" >2000.000000</td>\n",
              "    </tr>\n",
              "    <tr>\n",
              "      <th id=\"T_b521b_level0_row1\" class=\"row_heading level0 row1\" >1</th>\n",
              "      <td id=\"T_b521b_row1_col0\" class=\"data row1 col0\" >-5</td>\n",
              "      <td id=\"T_b521b_row1_col1\" class=\"data row1 col1\" >3.140000</td>\n",
              "      <td id=\"T_b521b_row1_col2\" class=\"data row1 col2\" >1.200000</td>\n",
              "      <td id=\"T_b521b_row1_col3\" class=\"data row1 col3\" >nan</td>\n",
              "    </tr>\n",
              "    <tr>\n",
              "      <th id=\"T_b521b_level0_row2\" class=\"row_heading level0 row2\" >2</th>\n",
              "      <td id=\"T_b521b_row2_col0\" class=\"data row2 col0\" >12</td>\n",
              "      <td id=\"T_b521b_row2_col1\" class=\"data row2 col1\" >2.710000</td>\n",
              "      <td id=\"T_b521b_row2_col2\" class=\"data row2 col2\" >0.300000</td>\n",
              "      <td id=\"T_b521b_row2_col3\" class=\"data row2 col3\" >1000.000000</td>\n",
              "    </tr>\n",
              "    <tr>\n",
              "      <th id=\"T_b521b_level0_row3\" class=\"row_heading level0 row3\" >3</th>\n",
              "      <td id=\"T_b521b_row3_col0\" class=\"data row3 col0\" >-4</td>\n",
              "      <td id=\"T_b521b_row3_col1\" class=\"data row3 col1\" >-3.140000</td>\n",
              "      <td id=\"T_b521b_row3_col2\" class=\"data row3 col2\" >1.900000</td>\n",
              "      <td id=\"T_b521b_row3_col3\" class=\"data row3 col3\" >7000.000000</td>\n",
              "    </tr>\n",
              "    <tr>\n",
              "      <th id=\"T_b521b_level0_row4\" class=\"row_heading level0 row4\" >4</th>\n",
              "      <td id=\"T_b521b_row4_col0\" class=\"data row4 col0\" >3</td>\n",
              "      <td id=\"T_b521b_row4_col1\" class=\"data row4 col1\" >nan</td>\n",
              "      <td id=\"T_b521b_row4_col2\" class=\"data row4 col2\" >2.200000</td>\n",
              "      <td id=\"T_b521b_row4_col3\" class=\"data row4 col3\" >5000.000000</td>\n",
              "    </tr>\n",
              "  </tbody>\n",
              "</table>\n"
            ]
          },
          "metadata": {},
          "execution_count": 11
        }
      ]
    },
    {
      "cell_type": "code",
      "source": [
        "df.style.background_gradient(subset=[\"C\"], cmap=\"RdYlGn\", vmin=0, vmax=2.5)"
      ],
      "metadata": {
        "colab": {
          "base_uri": "https://localhost:8080/",
          "height": 204
        },
        "id": "lQtxdMQEXgEm",
        "outputId": "422627ae-83ac-4943-f3a4-f73720248918"
      },
      "execution_count": 12,
      "outputs": [
        {
          "output_type": "execute_result",
          "data": {
            "text/plain": [
              "<pandas.io.formats.style.Styler at 0x7e024905bb50>"
            ],
            "text/html": [
              "<style type=\"text/css\">\n",
              "#T_0010d_row0_col2 {\n",
              "  background-color: #f46d43;\n",
              "  color: #f1f1f1;\n",
              "}\n",
              "#T_0010d_row1_col2 {\n",
              "  background-color: #fff8b4;\n",
              "  color: #000000;\n",
              "}\n",
              "#T_0010d_row2_col2 {\n",
              "  background-color: #dc3b2c;\n",
              "  color: #f1f1f1;\n",
              "}\n",
              "#T_0010d_row3_col2 {\n",
              "  background-color: #7fc866;\n",
              "  color: #000000;\n",
              "}\n",
              "#T_0010d_row4_col2 {\n",
              "  background-color: #279f53;\n",
              "  color: #f1f1f1;\n",
              "}\n",
              "</style>\n",
              "<table id=\"T_0010d\" class=\"dataframe\">\n",
              "  <thead>\n",
              "    <tr>\n",
              "      <th class=\"blank level0\" >&nbsp;</th>\n",
              "      <th id=\"T_0010d_level0_col0\" class=\"col_heading level0 col0\" >A</th>\n",
              "      <th id=\"T_0010d_level0_col1\" class=\"col_heading level0 col1\" >B</th>\n",
              "      <th id=\"T_0010d_level0_col2\" class=\"col_heading level0 col2\" >C</th>\n",
              "      <th id=\"T_0010d_level0_col3\" class=\"col_heading level0 col3\" >D</th>\n",
              "    </tr>\n",
              "  </thead>\n",
              "  <tbody>\n",
              "    <tr>\n",
              "      <th id=\"T_0010d_level0_row0\" class=\"row_heading level0 row0\" >0</th>\n",
              "      <td id=\"T_0010d_row0_col0\" class=\"data row0 col0\" >0</td>\n",
              "      <td id=\"T_0010d_row0_col1\" class=\"data row0 col1\" >12.240000</td>\n",
              "      <td id=\"T_0010d_row0_col2\" class=\"data row0 col2\" >0.500000</td>\n",
              "      <td id=\"T_0010d_row0_col3\" class=\"data row0 col3\" >2000.000000</td>\n",
              "    </tr>\n",
              "    <tr>\n",
              "      <th id=\"T_0010d_level0_row1\" class=\"row_heading level0 row1\" >1</th>\n",
              "      <td id=\"T_0010d_row1_col0\" class=\"data row1 col0\" >-5</td>\n",
              "      <td id=\"T_0010d_row1_col1\" class=\"data row1 col1\" >3.140000</td>\n",
              "      <td id=\"T_0010d_row1_col2\" class=\"data row1 col2\" >1.200000</td>\n",
              "      <td id=\"T_0010d_row1_col3\" class=\"data row1 col3\" >nan</td>\n",
              "    </tr>\n",
              "    <tr>\n",
              "      <th id=\"T_0010d_level0_row2\" class=\"row_heading level0 row2\" >2</th>\n",
              "      <td id=\"T_0010d_row2_col0\" class=\"data row2 col0\" >12</td>\n",
              "      <td id=\"T_0010d_row2_col1\" class=\"data row2 col1\" >2.710000</td>\n",
              "      <td id=\"T_0010d_row2_col2\" class=\"data row2 col2\" >0.300000</td>\n",
              "      <td id=\"T_0010d_row2_col3\" class=\"data row2 col3\" >1000.000000</td>\n",
              "    </tr>\n",
              "    <tr>\n",
              "      <th id=\"T_0010d_level0_row3\" class=\"row_heading level0 row3\" >3</th>\n",
              "      <td id=\"T_0010d_row3_col0\" class=\"data row3 col0\" >-4</td>\n",
              "      <td id=\"T_0010d_row3_col1\" class=\"data row3 col1\" >-3.140000</td>\n",
              "      <td id=\"T_0010d_row3_col2\" class=\"data row3 col2\" >1.900000</td>\n",
              "      <td id=\"T_0010d_row3_col3\" class=\"data row3 col3\" >7000.000000</td>\n",
              "    </tr>\n",
              "    <tr>\n",
              "      <th id=\"T_0010d_level0_row4\" class=\"row_heading level0 row4\" >4</th>\n",
              "      <td id=\"T_0010d_row4_col0\" class=\"data row4 col0\" >3</td>\n",
              "      <td id=\"T_0010d_row4_col1\" class=\"data row4 col1\" >nan</td>\n",
              "      <td id=\"T_0010d_row4_col2\" class=\"data row4 col2\" >2.200000</td>\n",
              "      <td id=\"T_0010d_row4_col3\" class=\"data row4 col3\" >5000.000000</td>\n",
              "    </tr>\n",
              "  </tbody>\n",
              "</table>\n"
            ]
          },
          "metadata": {},
          "execution_count": 12
        }
      ]
    },
    {
      "cell_type": "code",
      "source": [
        "df.style.format(precision=2).bar(color=\"orange\")"
      ],
      "metadata": {
        "colab": {
          "base_uri": "https://localhost:8080/",
          "height": 204
        },
        "id": "q0-J1tbpXhop",
        "outputId": "0a99493d-d917-4b5a-9030-2a3c34258575"
      },
      "execution_count": 13,
      "outputs": [
        {
          "output_type": "execute_result",
          "data": {
            "text/plain": [
              "<pandas.io.formats.style.Styler at 0x7e0249003bb0>"
            ],
            "text/html": [
              "<style type=\"text/css\">\n",
              "#T_aee90_row0_col0, #T_aee90_row1_col3, #T_aee90_row4_col1 {\n",
              "  width: 10em;\n",
              "}\n",
              "#T_aee90_row0_col1 {\n",
              "  width: 10em;\n",
              "  background: linear-gradient(90deg, transparent 20.4%, orange 20.4%, orange 100.0%, transparent 100.0%);\n",
              "}\n",
              "#T_aee90_row0_col2 {\n",
              "  width: 10em;\n",
              "  background: linear-gradient(90deg, orange 22.7%, transparent 22.7%);\n",
              "}\n",
              "#T_aee90_row0_col3 {\n",
              "  width: 10em;\n",
              "  background: linear-gradient(90deg, orange 28.6%, transparent 28.6%);\n",
              "}\n",
              "#T_aee90_row1_col0 {\n",
              "  width: 10em;\n",
              "  background: linear-gradient(90deg, orange 29.4%, transparent 29.4%);\n",
              "}\n",
              "#T_aee90_row1_col1 {\n",
              "  width: 10em;\n",
              "  background: linear-gradient(90deg, transparent 20.4%, orange 20.4%, orange 40.8%, transparent 40.8%);\n",
              "}\n",
              "#T_aee90_row1_col2 {\n",
              "  width: 10em;\n",
              "  background: linear-gradient(90deg, orange 54.5%, transparent 54.5%);\n",
              "}\n",
              "#T_aee90_row2_col0 {\n",
              "  width: 10em;\n",
              "  background: linear-gradient(90deg, transparent 29.4%, orange 29.4%, orange 100.0%, transparent 100.0%);\n",
              "}\n",
              "#T_aee90_row2_col1 {\n",
              "  width: 10em;\n",
              "  background: linear-gradient(90deg, transparent 20.4%, orange 20.4%, orange 38.0%, transparent 38.0%);\n",
              "}\n",
              "#T_aee90_row2_col2 {\n",
              "  width: 10em;\n",
              "  background: linear-gradient(90deg, orange 13.6%, transparent 13.6%);\n",
              "}\n",
              "#T_aee90_row2_col3 {\n",
              "  width: 10em;\n",
              "  background: linear-gradient(90deg, orange 14.3%, transparent 14.3%);\n",
              "}\n",
              "#T_aee90_row3_col0 {\n",
              "  width: 10em;\n",
              "  background: linear-gradient(90deg, transparent 5.9%, orange 5.9%, orange 29.4%, transparent 29.4%);\n",
              "}\n",
              "#T_aee90_row3_col1 {\n",
              "  width: 10em;\n",
              "  background: linear-gradient(90deg, orange 20.4%, transparent 20.4%);\n",
              "}\n",
              "#T_aee90_row3_col2 {\n",
              "  width: 10em;\n",
              "  background: linear-gradient(90deg, orange 86.4%, transparent 86.4%);\n",
              "}\n",
              "#T_aee90_row3_col3, #T_aee90_row4_col2 {\n",
              "  width: 10em;\n",
              "  background: linear-gradient(90deg, orange 100.0%, transparent 100.0%);\n",
              "}\n",
              "#T_aee90_row4_col0 {\n",
              "  width: 10em;\n",
              "  background: linear-gradient(90deg, transparent 29.4%, orange 29.4%, orange 47.1%, transparent 47.1%);\n",
              "}\n",
              "#T_aee90_row4_col3 {\n",
              "  width: 10em;\n",
              "  background: linear-gradient(90deg, orange 71.4%, transparent 71.4%);\n",
              "}\n",
              "</style>\n",
              "<table id=\"T_aee90\" class=\"dataframe\">\n",
              "  <thead>\n",
              "    <tr>\n",
              "      <th class=\"blank level0\" >&nbsp;</th>\n",
              "      <th id=\"T_aee90_level0_col0\" class=\"col_heading level0 col0\" >A</th>\n",
              "      <th id=\"T_aee90_level0_col1\" class=\"col_heading level0 col1\" >B</th>\n",
              "      <th id=\"T_aee90_level0_col2\" class=\"col_heading level0 col2\" >C</th>\n",
              "      <th id=\"T_aee90_level0_col3\" class=\"col_heading level0 col3\" >D</th>\n",
              "    </tr>\n",
              "  </thead>\n",
              "  <tbody>\n",
              "    <tr>\n",
              "      <th id=\"T_aee90_level0_row0\" class=\"row_heading level0 row0\" >0</th>\n",
              "      <td id=\"T_aee90_row0_col0\" class=\"data row0 col0\" >0</td>\n",
              "      <td id=\"T_aee90_row0_col1\" class=\"data row0 col1\" >12.24</td>\n",
              "      <td id=\"T_aee90_row0_col2\" class=\"data row0 col2\" >0.50</td>\n",
              "      <td id=\"T_aee90_row0_col3\" class=\"data row0 col3\" >2000.00</td>\n",
              "    </tr>\n",
              "    <tr>\n",
              "      <th id=\"T_aee90_level0_row1\" class=\"row_heading level0 row1\" >1</th>\n",
              "      <td id=\"T_aee90_row1_col0\" class=\"data row1 col0\" >-5</td>\n",
              "      <td id=\"T_aee90_row1_col1\" class=\"data row1 col1\" >3.14</td>\n",
              "      <td id=\"T_aee90_row1_col2\" class=\"data row1 col2\" >1.20</td>\n",
              "      <td id=\"T_aee90_row1_col3\" class=\"data row1 col3\" >nan</td>\n",
              "    </tr>\n",
              "    <tr>\n",
              "      <th id=\"T_aee90_level0_row2\" class=\"row_heading level0 row2\" >2</th>\n",
              "      <td id=\"T_aee90_row2_col0\" class=\"data row2 col0\" >12</td>\n",
              "      <td id=\"T_aee90_row2_col1\" class=\"data row2 col1\" >2.71</td>\n",
              "      <td id=\"T_aee90_row2_col2\" class=\"data row2 col2\" >0.30</td>\n",
              "      <td id=\"T_aee90_row2_col3\" class=\"data row2 col3\" >1000.00</td>\n",
              "    </tr>\n",
              "    <tr>\n",
              "      <th id=\"T_aee90_level0_row3\" class=\"row_heading level0 row3\" >3</th>\n",
              "      <td id=\"T_aee90_row3_col0\" class=\"data row3 col0\" >-4</td>\n",
              "      <td id=\"T_aee90_row3_col1\" class=\"data row3 col1\" >-3.14</td>\n",
              "      <td id=\"T_aee90_row3_col2\" class=\"data row3 col2\" >1.90</td>\n",
              "      <td id=\"T_aee90_row3_col3\" class=\"data row3 col3\" >7000.00</td>\n",
              "    </tr>\n",
              "    <tr>\n",
              "      <th id=\"T_aee90_level0_row4\" class=\"row_heading level0 row4\" >4</th>\n",
              "      <td id=\"T_aee90_row4_col0\" class=\"data row4 col0\" >3</td>\n",
              "      <td id=\"T_aee90_row4_col1\" class=\"data row4 col1\" >nan</td>\n",
              "      <td id=\"T_aee90_row4_col2\" class=\"data row4 col2\" >2.20</td>\n",
              "      <td id=\"T_aee90_row4_col3\" class=\"data row4 col3\" >5000.00</td>\n",
              "    </tr>\n",
              "  </tbody>\n",
              "</table>\n"
            ]
          },
          "metadata": {},
          "execution_count": 13
        }
      ]
    },
    {
      "cell_type": "code",
      "source": [
        "# df.style.format(precision=2).bar(align=\"mid\", color=\"red\", \"lightgreen\") set_properties(**{\"border\": \"1px solid black\"})"
      ],
      "metadata": {
        "id": "gmm1aa1dXjcs"
      },
      "execution_count": 17,
      "outputs": []
    },
    {
      "cell_type": "code",
      "source": [
        "properties = {\"border\": \"2px solid gray\", \"color\": \"green\", \"font-size\": \"16px\"}\n",
        "df.style.set_properties(**properties)"
      ],
      "metadata": {
        "colab": {
          "base_uri": "https://localhost:8080/",
          "height": 235
        },
        "id": "KZXq-WfbXk8S",
        "outputId": "25020f15-2d0d-4e4a-9a2e-8475d5ae3b80"
      },
      "execution_count": 16,
      "outputs": [
        {
          "output_type": "execute_result",
          "data": {
            "text/plain": [
              "<pandas.io.formats.style.Styler at 0x7e0249002bf0>"
            ],
            "text/html": [
              "<style type=\"text/css\">\n",
              "#T_332c5_row0_col0, #T_332c5_row0_col1, #T_332c5_row0_col2, #T_332c5_row0_col3, #T_332c5_row1_col0, #T_332c5_row1_col1, #T_332c5_row1_col2, #T_332c5_row1_col3, #T_332c5_row2_col0, #T_332c5_row2_col1, #T_332c5_row2_col2, #T_332c5_row2_col3, #T_332c5_row3_col0, #T_332c5_row3_col1, #T_332c5_row3_col2, #T_332c5_row3_col3, #T_332c5_row4_col0, #T_332c5_row4_col1, #T_332c5_row4_col2, #T_332c5_row4_col3 {\n",
              "  border: 2px solid gray;\n",
              "  color: green;\n",
              "  font-size: 16px;\n",
              "}\n",
              "</style>\n",
              "<table id=\"T_332c5\" class=\"dataframe\">\n",
              "  <thead>\n",
              "    <tr>\n",
              "      <th class=\"blank level0\" >&nbsp;</th>\n",
              "      <th id=\"T_332c5_level0_col0\" class=\"col_heading level0 col0\" >A</th>\n",
              "      <th id=\"T_332c5_level0_col1\" class=\"col_heading level0 col1\" >B</th>\n",
              "      <th id=\"T_332c5_level0_col2\" class=\"col_heading level0 col2\" >C</th>\n",
              "      <th id=\"T_332c5_level0_col3\" class=\"col_heading level0 col3\" >D</th>\n",
              "    </tr>\n",
              "  </thead>\n",
              "  <tbody>\n",
              "    <tr>\n",
              "      <th id=\"T_332c5_level0_row0\" class=\"row_heading level0 row0\" >0</th>\n",
              "      <td id=\"T_332c5_row0_col0\" class=\"data row0 col0\" >0</td>\n",
              "      <td id=\"T_332c5_row0_col1\" class=\"data row0 col1\" >12.240000</td>\n",
              "      <td id=\"T_332c5_row0_col2\" class=\"data row0 col2\" >0.500000</td>\n",
              "      <td id=\"T_332c5_row0_col3\" class=\"data row0 col3\" >2000.000000</td>\n",
              "    </tr>\n",
              "    <tr>\n",
              "      <th id=\"T_332c5_level0_row1\" class=\"row_heading level0 row1\" >1</th>\n",
              "      <td id=\"T_332c5_row1_col0\" class=\"data row1 col0\" >-5</td>\n",
              "      <td id=\"T_332c5_row1_col1\" class=\"data row1 col1\" >3.140000</td>\n",
              "      <td id=\"T_332c5_row1_col2\" class=\"data row1 col2\" >1.200000</td>\n",
              "      <td id=\"T_332c5_row1_col3\" class=\"data row1 col3\" >nan</td>\n",
              "    </tr>\n",
              "    <tr>\n",
              "      <th id=\"T_332c5_level0_row2\" class=\"row_heading level0 row2\" >2</th>\n",
              "      <td id=\"T_332c5_row2_col0\" class=\"data row2 col0\" >12</td>\n",
              "      <td id=\"T_332c5_row2_col1\" class=\"data row2 col1\" >2.710000</td>\n",
              "      <td id=\"T_332c5_row2_col2\" class=\"data row2 col2\" >0.300000</td>\n",
              "      <td id=\"T_332c5_row2_col3\" class=\"data row2 col3\" >1000.000000</td>\n",
              "    </tr>\n",
              "    <tr>\n",
              "      <th id=\"T_332c5_level0_row3\" class=\"row_heading level0 row3\" >3</th>\n",
              "      <td id=\"T_332c5_row3_col0\" class=\"data row3 col0\" >-4</td>\n",
              "      <td id=\"T_332c5_row3_col1\" class=\"data row3 col1\" >-3.140000</td>\n",
              "      <td id=\"T_332c5_row3_col2\" class=\"data row3 col2\" >1.900000</td>\n",
              "      <td id=\"T_332c5_row3_col3\" class=\"data row3 col3\" >7000.000000</td>\n",
              "    </tr>\n",
              "    <tr>\n",
              "      <th id=\"T_332c5_level0_row4\" class=\"row_heading level0 row4\" >4</th>\n",
              "      <td id=\"T_332c5_row4_col0\" class=\"data row4 col0\" >3</td>\n",
              "      <td id=\"T_332c5_row4_col1\" class=\"data row4 col1\" >nan</td>\n",
              "      <td id=\"T_332c5_row4_col2\" class=\"data row4 col2\" >2.200000</td>\n",
              "      <td id=\"T_332c5_row4_col3\" class=\"data row4 col3\" >5000.000000</td>\n",
              "    </tr>\n",
              "  </tbody>\n",
              "</table>\n"
            ]
          },
          "metadata": {},
          "execution_count": 16
        }
      ]
    },
    {
      "cell_type": "code",
      "source": [
        "cell_hover = {\n",
        "    \"selector\": \"td:hover\",\n",
        "    \"props\": [(\"background-color\", \"#FFFFE0\")]\n",
        "}\n",
        "index_names = {\n",
        "    \"selector\": \".index_name\",\n",
        "    \"props\": \"font-style: italic; color: darkgrey; font-weight:normal;\"\n",
        "}\n",
        "headers = {\n",
        "    \"selector\": \"th:not(.index_name)\",\n",
        "    \"props\": \"background-color: #800000; color: white;\"\n",
        "}"
      ],
      "metadata": {
        "id": "JXk8qCltXto6"
      },
      "execution_count": 18,
      "outputs": []
    },
    {
      "cell_type": "code",
      "source": [
        "headers = {\n",
        "    \"selector\": \"th:not(.index_name)\",\n",
        "    \"props\": \"background-color: #800000; color: white; text-align: center\"\n",
        "}\n",
        "properties = {\"border\": \"1px solid black\", \"width\": \"65px\", \"text-align\": \"center\"}\n",
        "\n",
        "df.style.format(precision=2).set_table_styles([cell_hover, index_names, headers]).set_properties(**properties)"
      ],
      "metadata": {
        "colab": {
          "base_uri": "https://localhost:8080/",
          "height": 209
        },
        "id": "tcPp5PHlX44z",
        "outputId": "bd561386-8235-454d-f9da-5123e343bfc0"
      },
      "execution_count": 19,
      "outputs": [
        {
          "output_type": "execute_result",
          "data": {
            "text/plain": [
              "<pandas.io.formats.style.Styler at 0x7e024905b820>"
            ],
            "text/html": [
              "<style type=\"text/css\">\n",
              "#T_96cc4 td:hover {\n",
              "  background-color: #FFFFE0;\n",
              "}\n",
              "#T_96cc4 .index_name {\n",
              "  font-style: italic;\n",
              "  color: darkgrey;\n",
              "  font-weight: normal;\n",
              "}\n",
              "#T_96cc4 th:not(.index_name) {\n",
              "  background-color: #800000;\n",
              "  color: white;\n",
              "  text-align: center;\n",
              "}\n",
              "#T_96cc4_row0_col0, #T_96cc4_row0_col1, #T_96cc4_row0_col2, #T_96cc4_row0_col3, #T_96cc4_row1_col0, #T_96cc4_row1_col1, #T_96cc4_row1_col2, #T_96cc4_row1_col3, #T_96cc4_row2_col0, #T_96cc4_row2_col1, #T_96cc4_row2_col2, #T_96cc4_row2_col3, #T_96cc4_row3_col0, #T_96cc4_row3_col1, #T_96cc4_row3_col2, #T_96cc4_row3_col3, #T_96cc4_row4_col0, #T_96cc4_row4_col1, #T_96cc4_row4_col2, #T_96cc4_row4_col3 {\n",
              "  border: 1px solid black;\n",
              "  width: 65px;\n",
              "  text-align: center;\n",
              "}\n",
              "</style>\n",
              "<table id=\"T_96cc4\" class=\"dataframe\">\n",
              "  <thead>\n",
              "    <tr>\n",
              "      <th class=\"blank level0\" >&nbsp;</th>\n",
              "      <th id=\"T_96cc4_level0_col0\" class=\"col_heading level0 col0\" >A</th>\n",
              "      <th id=\"T_96cc4_level0_col1\" class=\"col_heading level0 col1\" >B</th>\n",
              "      <th id=\"T_96cc4_level0_col2\" class=\"col_heading level0 col2\" >C</th>\n",
              "      <th id=\"T_96cc4_level0_col3\" class=\"col_heading level0 col3\" >D</th>\n",
              "    </tr>\n",
              "  </thead>\n",
              "  <tbody>\n",
              "    <tr>\n",
              "      <th id=\"T_96cc4_level0_row0\" class=\"row_heading level0 row0\" >0</th>\n",
              "      <td id=\"T_96cc4_row0_col0\" class=\"data row0 col0\" >0</td>\n",
              "      <td id=\"T_96cc4_row0_col1\" class=\"data row0 col1\" >12.24</td>\n",
              "      <td id=\"T_96cc4_row0_col2\" class=\"data row0 col2\" >0.50</td>\n",
              "      <td id=\"T_96cc4_row0_col3\" class=\"data row0 col3\" >2000.00</td>\n",
              "    </tr>\n",
              "    <tr>\n",
              "      <th id=\"T_96cc4_level0_row1\" class=\"row_heading level0 row1\" >1</th>\n",
              "      <td id=\"T_96cc4_row1_col0\" class=\"data row1 col0\" >-5</td>\n",
              "      <td id=\"T_96cc4_row1_col1\" class=\"data row1 col1\" >3.14</td>\n",
              "      <td id=\"T_96cc4_row1_col2\" class=\"data row1 col2\" >1.20</td>\n",
              "      <td id=\"T_96cc4_row1_col3\" class=\"data row1 col3\" >nan</td>\n",
              "    </tr>\n",
              "    <tr>\n",
              "      <th id=\"T_96cc4_level0_row2\" class=\"row_heading level0 row2\" >2</th>\n",
              "      <td id=\"T_96cc4_row2_col0\" class=\"data row2 col0\" >12</td>\n",
              "      <td id=\"T_96cc4_row2_col1\" class=\"data row2 col1\" >2.71</td>\n",
              "      <td id=\"T_96cc4_row2_col2\" class=\"data row2 col2\" >0.30</td>\n",
              "      <td id=\"T_96cc4_row2_col3\" class=\"data row2 col3\" >1000.00</td>\n",
              "    </tr>\n",
              "    <tr>\n",
              "      <th id=\"T_96cc4_level0_row3\" class=\"row_heading level0 row3\" >3</th>\n",
              "      <td id=\"T_96cc4_row3_col0\" class=\"data row3 col0\" >-4</td>\n",
              "      <td id=\"T_96cc4_row3_col1\" class=\"data row3 col1\" >-3.14</td>\n",
              "      <td id=\"T_96cc4_row3_col2\" class=\"data row3 col2\" >1.90</td>\n",
              "      <td id=\"T_96cc4_row3_col3\" class=\"data row3 col3\" >7000.00</td>\n",
              "    </tr>\n",
              "    <tr>\n",
              "      <th id=\"T_96cc4_level0_row4\" class=\"row_heading level0 row4\" >4</th>\n",
              "      <td id=\"T_96cc4_row4_col0\" class=\"data row4 col0\" >3</td>\n",
              "      <td id=\"T_96cc4_row4_col1\" class=\"data row4 col1\" >nan</td>\n",
              "      <td id=\"T_96cc4_row4_col2\" class=\"data row4 col2\" >2.20</td>\n",
              "      <td id=\"T_96cc4_row4_col3\" class=\"data row4 col3\" >5000.00</td>\n",
              "    </tr>\n",
              "  </tbody>\n",
              "</table>\n"
            ]
          },
          "metadata": {},
          "execution_count": 19
        }
      ]
    },
    {
      "cell_type": "code",
      "source": [
        "def mean_highlighter(x):\n",
        "    style_lt = \"background-color: #EE2E31; color: white; font-weight: bold;\"\n",
        "    style_gt = \"background-color: #31D843; color: white; font-weight: bold;\"\n",
        "    gt_mean = x > x.mean()\n",
        "    return [style_gt if i else style_lt for i in gt_mean]\n",
        "\n",
        "\n",
        "df.style.apply(mean_highlighter)"
      ],
      "metadata": {
        "colab": {
          "base_uri": "https://localhost:8080/",
          "height": 204
        },
        "id": "QXIi98trX5eb",
        "outputId": "24c63b2b-bdd5-44f9-e77b-d8dce9375d26"
      },
      "execution_count": 20,
      "outputs": [
        {
          "output_type": "execute_result",
          "data": {
            "text/plain": [
              "<pandas.io.formats.style.Styler at 0x7e024905ae60>"
            ],
            "text/html": [
              "<style type=\"text/css\">\n",
              "#T_c51ce_row0_col0, #T_c51ce_row0_col2, #T_c51ce_row0_col3, #T_c51ce_row1_col0, #T_c51ce_row1_col1, #T_c51ce_row1_col2, #T_c51ce_row1_col3, #T_c51ce_row2_col1, #T_c51ce_row2_col2, #T_c51ce_row2_col3, #T_c51ce_row3_col0, #T_c51ce_row3_col1, #T_c51ce_row4_col1 {\n",
              "  background-color: #EE2E31;\n",
              "  color: white;\n",
              "  font-weight: bold;\n",
              "}\n",
              "#T_c51ce_row0_col1, #T_c51ce_row2_col0, #T_c51ce_row3_col2, #T_c51ce_row3_col3, #T_c51ce_row4_col0, #T_c51ce_row4_col2, #T_c51ce_row4_col3 {\n",
              "  background-color: #31D843;\n",
              "  color: white;\n",
              "  font-weight: bold;\n",
              "}\n",
              "</style>\n",
              "<table id=\"T_c51ce\" class=\"dataframe\">\n",
              "  <thead>\n",
              "    <tr>\n",
              "      <th class=\"blank level0\" >&nbsp;</th>\n",
              "      <th id=\"T_c51ce_level0_col0\" class=\"col_heading level0 col0\" >A</th>\n",
              "      <th id=\"T_c51ce_level0_col1\" class=\"col_heading level0 col1\" >B</th>\n",
              "      <th id=\"T_c51ce_level0_col2\" class=\"col_heading level0 col2\" >C</th>\n",
              "      <th id=\"T_c51ce_level0_col3\" class=\"col_heading level0 col3\" >D</th>\n",
              "    </tr>\n",
              "  </thead>\n",
              "  <tbody>\n",
              "    <tr>\n",
              "      <th id=\"T_c51ce_level0_row0\" class=\"row_heading level0 row0\" >0</th>\n",
              "      <td id=\"T_c51ce_row0_col0\" class=\"data row0 col0\" >0</td>\n",
              "      <td id=\"T_c51ce_row0_col1\" class=\"data row0 col1\" >12.240000</td>\n",
              "      <td id=\"T_c51ce_row0_col2\" class=\"data row0 col2\" >0.500000</td>\n",
              "      <td id=\"T_c51ce_row0_col3\" class=\"data row0 col3\" >2000.000000</td>\n",
              "    </tr>\n",
              "    <tr>\n",
              "      <th id=\"T_c51ce_level0_row1\" class=\"row_heading level0 row1\" >1</th>\n",
              "      <td id=\"T_c51ce_row1_col0\" class=\"data row1 col0\" >-5</td>\n",
              "      <td id=\"T_c51ce_row1_col1\" class=\"data row1 col1\" >3.140000</td>\n",
              "      <td id=\"T_c51ce_row1_col2\" class=\"data row1 col2\" >1.200000</td>\n",
              "      <td id=\"T_c51ce_row1_col3\" class=\"data row1 col3\" >nan</td>\n",
              "    </tr>\n",
              "    <tr>\n",
              "      <th id=\"T_c51ce_level0_row2\" class=\"row_heading level0 row2\" >2</th>\n",
              "      <td id=\"T_c51ce_row2_col0\" class=\"data row2 col0\" >12</td>\n",
              "      <td id=\"T_c51ce_row2_col1\" class=\"data row2 col1\" >2.710000</td>\n",
              "      <td id=\"T_c51ce_row2_col2\" class=\"data row2 col2\" >0.300000</td>\n",
              "      <td id=\"T_c51ce_row2_col3\" class=\"data row2 col3\" >1000.000000</td>\n",
              "    </tr>\n",
              "    <tr>\n",
              "      <th id=\"T_c51ce_level0_row3\" class=\"row_heading level0 row3\" >3</th>\n",
              "      <td id=\"T_c51ce_row3_col0\" class=\"data row3 col0\" >-4</td>\n",
              "      <td id=\"T_c51ce_row3_col1\" class=\"data row3 col1\" >-3.140000</td>\n",
              "      <td id=\"T_c51ce_row3_col2\" class=\"data row3 col2\" >1.900000</td>\n",
              "      <td id=\"T_c51ce_row3_col3\" class=\"data row3 col3\" >7000.000000</td>\n",
              "    </tr>\n",
              "    <tr>\n",
              "      <th id=\"T_c51ce_level0_row4\" class=\"row_heading level0 row4\" >4</th>\n",
              "      <td id=\"T_c51ce_row4_col0\" class=\"data row4 col0\" >3</td>\n",
              "      <td id=\"T_c51ce_row4_col1\" class=\"data row4 col1\" >nan</td>\n",
              "      <td id=\"T_c51ce_row4_col2\" class=\"data row4 col2\" >2.200000</td>\n",
              "      <td id=\"T_c51ce_row4_col3\" class=\"data row4 col3\" >5000.000000</td>\n",
              "    </tr>\n",
              "  </tbody>\n",
              "</table>\n"
            ]
          },
          "metadata": {},
          "execution_count": 20
        }
      ]
    },
    {
      "cell_type": "code",
      "source": [
        "def negative_highlighter(x):\n",
        "    is_negative = x < 0\n",
        "    return [\"color: #EE2E31\" if i else \"color: #000000\" for i in is_negative]\n",
        "\n",
        "df.style.apply(negative_highlighter)"
      ],
      "metadata": {
        "colab": {
          "base_uri": "https://localhost:8080/",
          "height": 204
        },
        "id": "m71YNXcuX7uM",
        "outputId": "a87db0b8-8b9b-45fe-b889-be6810603a3f"
      },
      "execution_count": 21,
      "outputs": [
        {
          "output_type": "execute_result",
          "data": {
            "text/plain": [
              "<pandas.io.formats.style.Styler at 0x7e0249058bb0>"
            ],
            "text/html": [
              "<style type=\"text/css\">\n",
              "#T_1b7dc_row0_col0, #T_1b7dc_row0_col1, #T_1b7dc_row0_col2, #T_1b7dc_row0_col3, #T_1b7dc_row1_col1, #T_1b7dc_row1_col2, #T_1b7dc_row1_col3, #T_1b7dc_row2_col0, #T_1b7dc_row2_col1, #T_1b7dc_row2_col2, #T_1b7dc_row2_col3, #T_1b7dc_row3_col2, #T_1b7dc_row3_col3, #T_1b7dc_row4_col0, #T_1b7dc_row4_col1, #T_1b7dc_row4_col2, #T_1b7dc_row4_col3 {\n",
              "  color: #000000;\n",
              "}\n",
              "#T_1b7dc_row1_col0, #T_1b7dc_row3_col0, #T_1b7dc_row3_col1 {\n",
              "  color: #EE2E31;\n",
              "}\n",
              "</style>\n",
              "<table id=\"T_1b7dc\" class=\"dataframe\">\n",
              "  <thead>\n",
              "    <tr>\n",
              "      <th class=\"blank level0\" >&nbsp;</th>\n",
              "      <th id=\"T_1b7dc_level0_col0\" class=\"col_heading level0 col0\" >A</th>\n",
              "      <th id=\"T_1b7dc_level0_col1\" class=\"col_heading level0 col1\" >B</th>\n",
              "      <th id=\"T_1b7dc_level0_col2\" class=\"col_heading level0 col2\" >C</th>\n",
              "      <th id=\"T_1b7dc_level0_col3\" class=\"col_heading level0 col3\" >D</th>\n",
              "    </tr>\n",
              "  </thead>\n",
              "  <tbody>\n",
              "    <tr>\n",
              "      <th id=\"T_1b7dc_level0_row0\" class=\"row_heading level0 row0\" >0</th>\n",
              "      <td id=\"T_1b7dc_row0_col0\" class=\"data row0 col0\" >0</td>\n",
              "      <td id=\"T_1b7dc_row0_col1\" class=\"data row0 col1\" >12.240000</td>\n",
              "      <td id=\"T_1b7dc_row0_col2\" class=\"data row0 col2\" >0.500000</td>\n",
              "      <td id=\"T_1b7dc_row0_col3\" class=\"data row0 col3\" >2000.000000</td>\n",
              "    </tr>\n",
              "    <tr>\n",
              "      <th id=\"T_1b7dc_level0_row1\" class=\"row_heading level0 row1\" >1</th>\n",
              "      <td id=\"T_1b7dc_row1_col0\" class=\"data row1 col0\" >-5</td>\n",
              "      <td id=\"T_1b7dc_row1_col1\" class=\"data row1 col1\" >3.140000</td>\n",
              "      <td id=\"T_1b7dc_row1_col2\" class=\"data row1 col2\" >1.200000</td>\n",
              "      <td id=\"T_1b7dc_row1_col3\" class=\"data row1 col3\" >nan</td>\n",
              "    </tr>\n",
              "    <tr>\n",
              "      <th id=\"T_1b7dc_level0_row2\" class=\"row_heading level0 row2\" >2</th>\n",
              "      <td id=\"T_1b7dc_row2_col0\" class=\"data row2 col0\" >12</td>\n",
              "      <td id=\"T_1b7dc_row2_col1\" class=\"data row2 col1\" >2.710000</td>\n",
              "      <td id=\"T_1b7dc_row2_col2\" class=\"data row2 col2\" >0.300000</td>\n",
              "      <td id=\"T_1b7dc_row2_col3\" class=\"data row2 col3\" >1000.000000</td>\n",
              "    </tr>\n",
              "    <tr>\n",
              "      <th id=\"T_1b7dc_level0_row3\" class=\"row_heading level0 row3\" >3</th>\n",
              "      <td id=\"T_1b7dc_row3_col0\" class=\"data row3 col0\" >-4</td>\n",
              "      <td id=\"T_1b7dc_row3_col1\" class=\"data row3 col1\" >-3.140000</td>\n",
              "      <td id=\"T_1b7dc_row3_col2\" class=\"data row3 col2\" >1.900000</td>\n",
              "      <td id=\"T_1b7dc_row3_col3\" class=\"data row3 col3\" >7000.000000</td>\n",
              "    </tr>\n",
              "    <tr>\n",
              "      <th id=\"T_1b7dc_level0_row4\" class=\"row_heading level0 row4\" >4</th>\n",
              "      <td id=\"T_1b7dc_row4_col0\" class=\"data row4 col0\" >3</td>\n",
              "      <td id=\"T_1b7dc_row4_col1\" class=\"data row4 col1\" >nan</td>\n",
              "      <td id=\"T_1b7dc_row4_col2\" class=\"data row4 col2\" >2.200000</td>\n",
              "      <td id=\"T_1b7dc_row4_col3\" class=\"data row4 col3\" >5000.000000</td>\n",
              "    </tr>\n",
              "  </tbody>\n",
              "</table>\n"
            ]
          },
          "metadata": {},
          "execution_count": 21
        }
      ]
    },
    {
      "cell_type": "code",
      "source": [
        "df.style.background_gradient(cmap=\"RdYlGn\").to_excel(\"table.xlsx\")"
      ],
      "metadata": {
        "id": "SdxVZ79YX867"
      },
      "execution_count": 22,
      "outputs": []
    }
  ]
}
