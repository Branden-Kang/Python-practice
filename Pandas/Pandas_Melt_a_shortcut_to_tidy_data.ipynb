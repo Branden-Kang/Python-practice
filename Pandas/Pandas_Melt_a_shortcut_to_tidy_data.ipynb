{
  "nbformat": 4,
  "nbformat_minor": 0,
  "metadata": {
    "colab": {
      "name": "Pandas Melt: a shortcut to tidy data.ipynb",
      "provenance": [],
      "authorship_tag": "ABX9TyNWm5lyOTSlSUQ0Apq7lksc"
    },
    "kernelspec": {
      "name": "python3",
      "display_name": "Python 3"
    },
    "language_info": {
      "name": "python"
    }
  },
  "cells": [
    {
      "cell_type": "markdown",
      "metadata": {
        "id": "wdpisKbbEutK"
      },
      "source": [
        "[Reference](https://medium.com/gustavorsantos/pandas-melt-a-shortcut-to-tidy-data-ff975570e0c)"
      ]
    },
    {
      "cell_type": "code",
      "metadata": {
        "id": "5o0mD4kRE_rt"
      },
      "source": [
        "import pandas as pd"
      ],
      "execution_count": 3,
      "outputs": []
    },
    {
      "cell_type": "code",
      "metadata": {
        "id": "g8glTDh6EtQO"
      },
      "source": [
        "# Creating a df\n",
        "\n",
        "df_rows = [ ['Anna', 100, 90, 60, 40, 80, 85],\n",
        "           ['Charles', 90, 90, 80, 80, 80, 85], \n",
        "           ['Bruno', 80, 90, 60, 70, 80, 75], \n",
        "           ['Sven', 70, 70, 60, 40, 70, 85],\n",
        "           ['Harry', 80, 90, 60, 40, 80, 85], \n",
        "           ['Dalila', 60, 90, 60, 40, 80, 85], \n",
        "           ['Maria', 100, 90, 100, 55, 80, 85], \n",
        "           ['Srini', 100, 60, 60, 50, 60, 85],\n",
        "           ['Marta', 90, 90, 60, 40, 80, 85], \n",
        "           ['Dan', 100, 90, 60, 40, 80, 85], \n",
        "           ['Shannon', 100, 90, 100, 1000, 80, 85], \n",
        "           ['Albert', 50, 90, 50, 40, 80, 85] ]\n",
        "           \n",
        "df = pd.DataFrame(df_rows, \n",
        "                  columns=['name', 'test1', 'test2', 'test3',    'test4', 'test5', 'test6'])"
      ],
      "execution_count": 4,
      "outputs": []
    },
    {
      "cell_type": "code",
      "metadata": {
        "colab": {
          "base_uri": "https://localhost:8080/",
          "height": 419
        },
        "id": "hJB6MRrIE87B",
        "outputId": "6de0f19e-e619-4ff8-af86-22a58b7af4c3"
      },
      "source": [
        "# Transforming with Pandas Melt\n",
        "pd.melt(df, \n",
        "        id_vars='name',\n",
        "        value_vars=df.drop('name', axis=1),\n",
        "        var_name='test',\n",
        "        value_name='score')"
      ],
      "execution_count": 5,
      "outputs": [
        {
          "output_type": "execute_result",
          "data": {
            "text/html": [
              "<div>\n",
              "<style scoped>\n",
              "    .dataframe tbody tr th:only-of-type {\n",
              "        vertical-align: middle;\n",
              "    }\n",
              "\n",
              "    .dataframe tbody tr th {\n",
              "        vertical-align: top;\n",
              "    }\n",
              "\n",
              "    .dataframe thead th {\n",
              "        text-align: right;\n",
              "    }\n",
              "</style>\n",
              "<table border=\"1\" class=\"dataframe\">\n",
              "  <thead>\n",
              "    <tr style=\"text-align: right;\">\n",
              "      <th></th>\n",
              "      <th>name</th>\n",
              "      <th>test</th>\n",
              "      <th>score</th>\n",
              "    </tr>\n",
              "  </thead>\n",
              "  <tbody>\n",
              "    <tr>\n",
              "      <th>0</th>\n",
              "      <td>Anna</td>\n",
              "      <td>test1</td>\n",
              "      <td>100</td>\n",
              "    </tr>\n",
              "    <tr>\n",
              "      <th>1</th>\n",
              "      <td>Charles</td>\n",
              "      <td>test1</td>\n",
              "      <td>90</td>\n",
              "    </tr>\n",
              "    <tr>\n",
              "      <th>2</th>\n",
              "      <td>Bruno</td>\n",
              "      <td>test1</td>\n",
              "      <td>80</td>\n",
              "    </tr>\n",
              "    <tr>\n",
              "      <th>3</th>\n",
              "      <td>Sven</td>\n",
              "      <td>test1</td>\n",
              "      <td>70</td>\n",
              "    </tr>\n",
              "    <tr>\n",
              "      <th>4</th>\n",
              "      <td>Harry</td>\n",
              "      <td>test1</td>\n",
              "      <td>80</td>\n",
              "    </tr>\n",
              "    <tr>\n",
              "      <th>...</th>\n",
              "      <td>...</td>\n",
              "      <td>...</td>\n",
              "      <td>...</td>\n",
              "    </tr>\n",
              "    <tr>\n",
              "      <th>67</th>\n",
              "      <td>Srini</td>\n",
              "      <td>test6</td>\n",
              "      <td>85</td>\n",
              "    </tr>\n",
              "    <tr>\n",
              "      <th>68</th>\n",
              "      <td>Marta</td>\n",
              "      <td>test6</td>\n",
              "      <td>85</td>\n",
              "    </tr>\n",
              "    <tr>\n",
              "      <th>69</th>\n",
              "      <td>Dan</td>\n",
              "      <td>test6</td>\n",
              "      <td>85</td>\n",
              "    </tr>\n",
              "    <tr>\n",
              "      <th>70</th>\n",
              "      <td>Shannon</td>\n",
              "      <td>test6</td>\n",
              "      <td>85</td>\n",
              "    </tr>\n",
              "    <tr>\n",
              "      <th>71</th>\n",
              "      <td>Albert</td>\n",
              "      <td>test6</td>\n",
              "      <td>85</td>\n",
              "    </tr>\n",
              "  </tbody>\n",
              "</table>\n",
              "<p>72 rows × 3 columns</p>\n",
              "</div>"
            ],
            "text/plain": [
              "       name   test  score\n",
              "0      Anna  test1    100\n",
              "1   Charles  test1     90\n",
              "2     Bruno  test1     80\n",
              "3      Sven  test1     70\n",
              "4     Harry  test1     80\n",
              "..      ...    ...    ...\n",
              "67    Srini  test6     85\n",
              "68    Marta  test6     85\n",
              "69      Dan  test6     85\n",
              "70  Shannon  test6     85\n",
              "71   Albert  test6     85\n",
              "\n",
              "[72 rows x 3 columns]"
            ]
          },
          "metadata": {},
          "execution_count": 5
        }
      ]
    }
  ]
}