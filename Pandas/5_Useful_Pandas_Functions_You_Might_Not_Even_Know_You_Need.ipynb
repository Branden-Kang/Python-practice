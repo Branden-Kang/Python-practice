{
  "nbformat": 4,
  "nbformat_minor": 0,
  "metadata": {
    "colab": {
      "provenance": [],
      "authorship_tag": "ABX9TyPio+JM5P+TtBqp9j6OkIWs"
    },
    "kernelspec": {
      "name": "python3",
      "display_name": "Python 3"
    },
    "language_info": {
      "name": "python"
    }
  },
  "cells": [
    {
      "cell_type": "markdown",
      "source": [
        "[Reference](https://python.plainenglish.io/5-useful-pandas-functions-you-might-not-even-know-you-need-85c5c9725c25)"
      ],
      "metadata": {
        "id": "kauWoI6ztDIt"
      }
    },
    {
      "cell_type": "markdown",
      "source": [
        "# Pivot Table — Creating Table Summaries"
      ],
      "metadata": {
        "id": "vrwFowRdtRp_"
      }
    },
    {
      "cell_type": "code",
      "execution_count": 1,
      "metadata": {
        "id": "f4UA8smmtAzR"
      },
      "outputs": [],
      "source": [
        "import pandas as pd\n",
        "data = pd.DataFrame([\n",
        "    [\"apple\", 2017, 100],\n",
        "    [\"apple\", 2018, 200],\n",
        "    [\"apple\", 2019, 350],\n",
        "    [\"orange\", 2017, 150],\n",
        "    [\"orange\", 2018, 200],\n",
        "    [\"orange\", 2019, 400],\n",
        "    [\"pear\", 2017, 50],\n",
        "    [\"pear\", 2018, 250],\n",
        "    [\"pear\", 2019, 50]\n",
        "], columns=[\"fruit\", \"year\", \"production\"])"
      ]
    },
    {
      "cell_type": "code",
      "source": [
        "pt = data.pivot_table(index=\"fruit\", columns=\"year\", values=\"production\")"
      ],
      "metadata": {
        "id": "YhJjeEsdtGXz"
      },
      "execution_count": 2,
      "outputs": []
    },
    {
      "cell_type": "code",
      "source": [
        "pt = data.pivot_table(index=\"year\", columns=\"fruit\", values=\"production\")"
      ],
      "metadata": {
        "id": "z-JX0yU8tHur"
      },
      "execution_count": 3,
      "outputs": []
    },
    {
      "cell_type": "markdown",
      "source": [
        "# Transpose — Flipping Your DataFrame Diagonally"
      ],
      "metadata": {
        "id": "nkRIgGyDtQAR"
      }
    },
    {
      "cell_type": "code",
      "source": [
        "import pandas as pd\n",
        "data = pd.DataFrame([\n",
        "    [\"apple\", 4],\n",
        "    [\"orange\", 5],\n",
        "    [\"pear\", 6]\n",
        "], columns=[\"fruit\", \"price\"])"
      ],
      "metadata": {
        "id": "BbB2fmZZtI0J"
      },
      "execution_count": 5,
      "outputs": []
    },
    {
      "cell_type": "code",
      "source": [
        "data_transposed = data.transpose()"
      ],
      "metadata": {
        "id": "IsgKsTMAtKLG"
      },
      "execution_count": 6,
      "outputs": []
    },
    {
      "cell_type": "code",
      "source": [
        "data_transposed = data.T"
      ],
      "metadata": {
        "id": "Ms311qYAtLrx"
      },
      "execution_count": 7,
      "outputs": []
    },
    {
      "cell_type": "markdown",
      "source": [
        "# Set Index — Setting Selected Column as DataFrame Index"
      ],
      "metadata": {
        "id": "CGzEfJEptOj3"
      }
    },
    {
      "cell_type": "code",
      "source": [
        "data = pd.DataFrame([\n",
        "    [\"apple\", 4],\n",
        "    [\"orange\", 5],\n",
        "    [\"pear\", 6]\n",
        "], columns=[\"fruit\", \"price\"])"
      ],
      "metadata": {
        "id": "JnfKMmq2tMcJ"
      },
      "execution_count": 8,
      "outputs": []
    },
    {
      "cell_type": "markdown",
      "source": [
        "# Reset Index — Turning Your Current Index into a Column"
      ],
      "metadata": {
        "id": "K7V7ZyIAtUCV"
      }
    },
    {
      "cell_type": "code",
      "source": [
        "data = pd.DataFrame([\n",
        "    [4],\n",
        "    [5],\n",
        "    [6]\n",
        "], columns=[\"price\"], index=[\"apple\", \"orange\", \"pear\"])"
      ],
      "metadata": {
        "id": "jVc9Y1jftNwl"
      },
      "execution_count": 9,
      "outputs": []
    },
    {
      "cell_type": "code",
      "source": [
        "data = data.reset_index()"
      ],
      "metadata": {
        "id": "Tf5mv3hhtVjl"
      },
      "execution_count": 10,
      "outputs": []
    },
    {
      "cell_type": "markdown",
      "source": [
        "# Rename your Dataframe Columns without Reassigning it"
      ],
      "metadata": {
        "id": "jzPFCSDQtYTy"
      }
    },
    {
      "cell_type": "code",
      "source": [
        "data.columns = [\"fruit\", \"price\"]"
      ],
      "metadata": {
        "id": "3pE7mRx1tWcO"
      },
      "execution_count": 11,
      "outputs": []
    },
    {
      "cell_type": "code",
      "source": [
        "data = pd.DataFrame([\n",
        "    [\"apple\",1,2,3,4,5,6,7,8,9,10],\n",
        "    [\"orange\",1,2,3,4,5,6,7,8,9,10],\n",
        "    [\"pear\",1,2,3,4,5,6,7,8,9,10],\n",
        "], \n",
        "columns=[\"index\", \"A\", \"B\", \"C\", \"D\", \"E\", \"F\", \"G\", \"H\", \"I\", \"J\"])"
      ],
      "metadata": {
        "id": "TDIMlg_BtZEU"
      },
      "execution_count": 12,
      "outputs": []
    },
    {
      "cell_type": "code",
      "source": [
        "data.columns = [\"fruit\", \"A\", \"B\", \"C\", \"D\", \"E\", \"F\", \"G\", \"H\", \"I\", \"J\"]"
      ],
      "metadata": {
        "id": "hPSdajdtta1c"
      },
      "execution_count": 13,
      "outputs": []
    },
    {
      "cell_type": "code",
      "source": [
        "indexmap = {\"index\": \"fruit\"}\n",
        "data.columns = [indexmap.get(col, col) for col in data.columns]"
      ],
      "metadata": {
        "id": "EbVVIaHstbvO"
      },
      "execution_count": 14,
      "outputs": []
    },
    {
      "cell_type": "code",
      "source": [
        "data = data.rename(columns={\"index\": \"fruit\"})"
      ],
      "metadata": {
        "id": "Sqb66Hu9tc2o"
      },
      "execution_count": 15,
      "outputs": []
    }
  ]
}
