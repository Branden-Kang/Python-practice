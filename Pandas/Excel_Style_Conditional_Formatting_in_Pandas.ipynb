{
  "nbformat": 4,
  "nbformat_minor": 0,
  "metadata": {
    "colab": {
      "name": "Excel Style Conditional Formatting in Pandas.ipynb",
      "provenance": [],
      "authorship_tag": "ABX9TyMtBw/Zfl12k9G5jx/SOIpH"
    },
    "kernelspec": {
      "name": "python3",
      "display_name": "Python 3"
    },
    "language_info": {
      "name": "python"
    }
  },
  "cells": [
    {
      "cell_type": "markdown",
      "source": [
        "[Reference](https://python.plainenglish.io/excel-style-conditional-formatting-in-pandas-1238277ed70a)"
      ],
      "metadata": {
        "id": "aAFC_SeUF8WX"
      }
    },
    {
      "cell_type": "code",
      "execution_count": 2,
      "metadata": {
        "id": "7hdIKo8ZBv_8"
      },
      "outputs": [],
      "source": [
        "import pandas as pd\n",
        "df = pd.DataFrame([[-1, 2.3, 2],\n",
        "                   [-1.25, 0, -1.5],\n",
        "                   [1.8, -2.6, 1.3],\n",
        "                   [0.5, 2.1, -7]], columns=['A','B', 'C'])"
      ]
    },
    {
      "cell_type": "markdown",
      "source": [
        "# Altering Appearances using .apply() and .applymap()"
      ],
      "metadata": {
        "id": "q7qxNvTBGG9B"
      }
    },
    {
      "cell_type": "code",
      "source": [
        "def green_red(value):\n",
        "    if value < 0:\n",
        "        return 'color: red; font-weight: bold'\n",
        "    elif value == 0:\n",
        "        return None\n",
        "    else:\n",
        "        return 'color: green; font-weight: bold'\n",
        "    \n",
        "df.style.applymap(green_red)"
      ],
      "metadata": {
        "colab": {
          "base_uri": "https://localhost:8080/",
          "height": 173
        },
        "id": "fTd0fMTNGFqe",
        "outputId": "f6e8c209-36a7-43b0-cd3f-c878f1aa18c7"
      },
      "execution_count": 4,
      "outputs": [
        {
          "output_type": "execute_result",
          "data": {
            "text/plain": [
              "<pandas.io.formats.style.Styler at 0x7f71415a5990>"
            ],
            "text/html": [
              "<style type=\"text/css\">\n",
              "#T_af9be_row0_col0, #T_af9be_row1_col0, #T_af9be_row1_col2, #T_af9be_row2_col1, #T_af9be_row3_col2 {\n",
              "  color: red;\n",
              "  font-weight: bold;\n",
              "}\n",
              "#T_af9be_row0_col1, #T_af9be_row0_col2, #T_af9be_row2_col0, #T_af9be_row2_col2, #T_af9be_row3_col0, #T_af9be_row3_col1 {\n",
              "  color: green;\n",
              "  font-weight: bold;\n",
              "}\n",
              "</style>\n",
              "<table id=\"T_af9be_\" class=\"dataframe\">\n",
              "  <thead>\n",
              "    <tr>\n",
              "      <th class=\"blank level0\" >&nbsp;</th>\n",
              "      <th class=\"col_heading level0 col0\" >A</th>\n",
              "      <th class=\"col_heading level0 col1\" >B</th>\n",
              "      <th class=\"col_heading level0 col2\" >C</th>\n",
              "    </tr>\n",
              "  </thead>\n",
              "  <tbody>\n",
              "    <tr>\n",
              "      <th id=\"T_af9be_level0_row0\" class=\"row_heading level0 row0\" >0</th>\n",
              "      <td id=\"T_af9be_row0_col0\" class=\"data row0 col0\" >-1.000000</td>\n",
              "      <td id=\"T_af9be_row0_col1\" class=\"data row0 col1\" >2.300000</td>\n",
              "      <td id=\"T_af9be_row0_col2\" class=\"data row0 col2\" >2.000000</td>\n",
              "    </tr>\n",
              "    <tr>\n",
              "      <th id=\"T_af9be_level0_row1\" class=\"row_heading level0 row1\" >1</th>\n",
              "      <td id=\"T_af9be_row1_col0\" class=\"data row1 col0\" >-1.250000</td>\n",
              "      <td id=\"T_af9be_row1_col1\" class=\"data row1 col1\" >0.000000</td>\n",
              "      <td id=\"T_af9be_row1_col2\" class=\"data row1 col2\" >-1.500000</td>\n",
              "    </tr>\n",
              "    <tr>\n",
              "      <th id=\"T_af9be_level0_row2\" class=\"row_heading level0 row2\" >2</th>\n",
              "      <td id=\"T_af9be_row2_col0\" class=\"data row2 col0\" >1.800000</td>\n",
              "      <td id=\"T_af9be_row2_col1\" class=\"data row2 col1\" >-2.600000</td>\n",
              "      <td id=\"T_af9be_row2_col2\" class=\"data row2 col2\" >1.300000</td>\n",
              "    </tr>\n",
              "    <tr>\n",
              "      <th id=\"T_af9be_level0_row3\" class=\"row_heading level0 row3\" >3</th>\n",
              "      <td id=\"T_af9be_row3_col0\" class=\"data row3 col0\" >0.500000</td>\n",
              "      <td id=\"T_af9be_row3_col1\" class=\"data row3 col1\" >2.100000</td>\n",
              "      <td id=\"T_af9be_row3_col2\" class=\"data row3 col2\" >-7.000000</td>\n",
              "    </tr>\n",
              "  </tbody>\n",
              "</table>\n"
            ]
          },
          "metadata": {},
          "execution_count": 4
        }
      ]
    },
    {
      "cell_type": "code",
      "source": [
        "def min_max(col):\n",
        "    # empty property list to be filled in the loop\n",
        "    props = ['font-weight: bold;'] * len(col)\n",
        "    for idx, value in enumerate(col):\n",
        "        # color max value green\n",
        "        if value == max(col):\n",
        "            props[idx] += 'background-color: lightgreen;'\n",
        "        # color min value red\n",
        "        if value == min(col):\n",
        "            props[idx] += 'background-color: lightcoral'\n",
        "        \n",
        "    return props\n",
        "    \n",
        "df.style.apply(min_max)"
      ],
      "metadata": {
        "colab": {
          "base_uri": "https://localhost:8080/",
          "height": 173
        },
        "id": "aHztWvlGGJBz",
        "outputId": "362ee6d4-797f-4c96-9839-3d849d85351e"
      },
      "execution_count": 6,
      "outputs": [
        {
          "output_type": "execute_result",
          "data": {
            "text/plain": [
              "<pandas.io.formats.style.Styler at 0x7f7141273dd0>"
            ],
            "text/html": [
              "<style type=\"text/css\">\n",
              "#T_81d8d_row0_col0, #T_81d8d_row1_col1, #T_81d8d_row1_col2, #T_81d8d_row2_col2, #T_81d8d_row3_col0, #T_81d8d_row3_col1 {\n",
              "  font-weight: bold;\n",
              "}\n",
              "#T_81d8d_row0_col1, #T_81d8d_row0_col2, #T_81d8d_row2_col0 {\n",
              "  font-weight: bold;\n",
              "  background-color: lightgreen;\n",
              "}\n",
              "#T_81d8d_row1_col0, #T_81d8d_row2_col1, #T_81d8d_row3_col2 {\n",
              "  font-weight: bold;\n",
              "  background-color: lightcoral;\n",
              "}\n",
              "</style>\n",
              "<table id=\"T_81d8d_\" class=\"dataframe\">\n",
              "  <thead>\n",
              "    <tr>\n",
              "      <th class=\"blank level0\" >&nbsp;</th>\n",
              "      <th class=\"col_heading level0 col0\" >A</th>\n",
              "      <th class=\"col_heading level0 col1\" >B</th>\n",
              "      <th class=\"col_heading level0 col2\" >C</th>\n",
              "    </tr>\n",
              "  </thead>\n",
              "  <tbody>\n",
              "    <tr>\n",
              "      <th id=\"T_81d8d_level0_row0\" class=\"row_heading level0 row0\" >0</th>\n",
              "      <td id=\"T_81d8d_row0_col0\" class=\"data row0 col0\" >-1.000000</td>\n",
              "      <td id=\"T_81d8d_row0_col1\" class=\"data row0 col1\" >2.300000</td>\n",
              "      <td id=\"T_81d8d_row0_col2\" class=\"data row0 col2\" >2.000000</td>\n",
              "    </tr>\n",
              "    <tr>\n",
              "      <th id=\"T_81d8d_level0_row1\" class=\"row_heading level0 row1\" >1</th>\n",
              "      <td id=\"T_81d8d_row1_col0\" class=\"data row1 col0\" >-1.250000</td>\n",
              "      <td id=\"T_81d8d_row1_col1\" class=\"data row1 col1\" >0.000000</td>\n",
              "      <td id=\"T_81d8d_row1_col2\" class=\"data row1 col2\" >-1.500000</td>\n",
              "    </tr>\n",
              "    <tr>\n",
              "      <th id=\"T_81d8d_level0_row2\" class=\"row_heading level0 row2\" >2</th>\n",
              "      <td id=\"T_81d8d_row2_col0\" class=\"data row2 col0\" >1.800000</td>\n",
              "      <td id=\"T_81d8d_row2_col1\" class=\"data row2 col1\" >-2.600000</td>\n",
              "      <td id=\"T_81d8d_row2_col2\" class=\"data row2 col2\" >1.300000</td>\n",
              "    </tr>\n",
              "    <tr>\n",
              "      <th id=\"T_81d8d_level0_row3\" class=\"row_heading level0 row3\" >3</th>\n",
              "      <td id=\"T_81d8d_row3_col0\" class=\"data row3 col0\" >0.500000</td>\n",
              "      <td id=\"T_81d8d_row3_col1\" class=\"data row3 col1\" >2.100000</td>\n",
              "      <td id=\"T_81d8d_row3_col2\" class=\"data row3 col2\" >-7.000000</td>\n",
              "    </tr>\n",
              "  </tbody>\n",
              "</table>\n"
            ]
          },
          "metadata": {},
          "execution_count": 6
        }
      ]
    },
    {
      "cell_type": "markdown",
      "source": [
        "# Altering Appearances Using .pipe()"
      ],
      "metadata": {
        "id": "RA-Nb9MBGOTI"
      }
    },
    {
      "cell_type": "code",
      "source": [
        "def color_scales(styler):\n",
        "    styler.set_caption(\"Cute Table\")\n",
        "    styler.background_gradient(axis=0, cmap=\"RdYlGn\")\n",
        "    styler.format(precision=2)\n",
        "    return styler\n",
        "    \n",
        "df.style.pipe(color_scales)"
      ],
      "metadata": {
        "colab": {
          "base_uri": "https://localhost:8080/",
          "height": 190
        },
        "id": "debNJx9rGLQO",
        "outputId": "93fcf2f4-b0b0-475f-bb0f-7f24a5702f5e"
      },
      "execution_count": 8,
      "outputs": [
        {
          "output_type": "execute_result",
          "data": {
            "text/plain": [
              "<pandas.io.formats.style.Styler at 0x7f7141284110>"
            ],
            "text/html": [
              "<style type=\"text/css\">\n",
              "#T_38eea_row0_col0 {\n",
              "  background-color: #cc2627;\n",
              "  color: #f1f1f1;\n",
              "}\n",
              "#T_38eea_row0_col1, #T_38eea_row0_col2, #T_38eea_row2_col0 {\n",
              "  background-color: #006837;\n",
              "  color: #f1f1f1;\n",
              "}\n",
              "#T_38eea_row1_col0, #T_38eea_row2_col1, #T_38eea_row3_col2 {\n",
              "  background-color: #a50026;\n",
              "  color: #f1f1f1;\n",
              "}\n",
              "#T_38eea_row1_col1 {\n",
              "  background-color: #f4fab0;\n",
              "  color: #000000;\n",
              "}\n",
              "#T_38eea_row1_col2 {\n",
              "  background-color: #d3ec87;\n",
              "  color: #000000;\n",
              "}\n",
              "#T_38eea_row2_col2 {\n",
              "  background-color: #138c4a;\n",
              "  color: #f1f1f1;\n",
              "}\n",
              "#T_38eea_row3_col0 {\n",
              "  background-color: #e3f399;\n",
              "  color: #000000;\n",
              "}\n",
              "#T_38eea_row3_col1 {\n",
              "  background-color: #0a7b41;\n",
              "  color: #f1f1f1;\n",
              "}\n",
              "</style>\n",
              "<table id=\"T_38eea_\" class=\"dataframe\">\n",
              "  <caption>Cute Table</caption>\n",
              "  <thead>\n",
              "    <tr>\n",
              "      <th class=\"blank level0\" >&nbsp;</th>\n",
              "      <th class=\"col_heading level0 col0\" >A</th>\n",
              "      <th class=\"col_heading level0 col1\" >B</th>\n",
              "      <th class=\"col_heading level0 col2\" >C</th>\n",
              "    </tr>\n",
              "  </thead>\n",
              "  <tbody>\n",
              "    <tr>\n",
              "      <th id=\"T_38eea_level0_row0\" class=\"row_heading level0 row0\" >0</th>\n",
              "      <td id=\"T_38eea_row0_col0\" class=\"data row0 col0\" >-1.00</td>\n",
              "      <td id=\"T_38eea_row0_col1\" class=\"data row0 col1\" >2.30</td>\n",
              "      <td id=\"T_38eea_row0_col2\" class=\"data row0 col2\" >2.00</td>\n",
              "    </tr>\n",
              "    <tr>\n",
              "      <th id=\"T_38eea_level0_row1\" class=\"row_heading level0 row1\" >1</th>\n",
              "      <td id=\"T_38eea_row1_col0\" class=\"data row1 col0\" >-1.25</td>\n",
              "      <td id=\"T_38eea_row1_col1\" class=\"data row1 col1\" >0.00</td>\n",
              "      <td id=\"T_38eea_row1_col2\" class=\"data row1 col2\" >-1.50</td>\n",
              "    </tr>\n",
              "    <tr>\n",
              "      <th id=\"T_38eea_level0_row2\" class=\"row_heading level0 row2\" >2</th>\n",
              "      <td id=\"T_38eea_row2_col0\" class=\"data row2 col0\" >1.80</td>\n",
              "      <td id=\"T_38eea_row2_col1\" class=\"data row2 col1\" >-2.60</td>\n",
              "      <td id=\"T_38eea_row2_col2\" class=\"data row2 col2\" >1.30</td>\n",
              "    </tr>\n",
              "    <tr>\n",
              "      <th id=\"T_38eea_level0_row3\" class=\"row_heading level0 row3\" >3</th>\n",
              "      <td id=\"T_38eea_row3_col0\" class=\"data row3 col0\" >0.50</td>\n",
              "      <td id=\"T_38eea_row3_col1\" class=\"data row3 col1\" >2.10</td>\n",
              "      <td id=\"T_38eea_row3_col2\" class=\"data row3 col2\" >-7.00</td>\n",
              "    </tr>\n",
              "  </tbody>\n",
              "</table>\n"
            ]
          },
          "metadata": {},
          "execution_count": 8
        }
      ]
    }
  ]
}
