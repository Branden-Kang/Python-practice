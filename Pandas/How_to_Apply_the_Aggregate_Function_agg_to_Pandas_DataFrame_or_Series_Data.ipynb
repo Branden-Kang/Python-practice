{
  "nbformat": 4,
  "nbformat_minor": 0,
  "metadata": {
    "colab": {
      "provenance": [],
      "authorship_tag": "ABX9TyP/jHjfd6N0/yTjW25NKn51"
    },
    "kernelspec": {
      "name": "python3",
      "display_name": "Python 3"
    },
    "language_info": {
      "name": "python"
    }
  },
  "cells": [
    {
      "cell_type": "markdown",
      "source": [
        "[Reference](https://medium.com/@tubelwj/how-to-apply-the-aggregate-function-agg-to-pandas-dataframe-or-series-data-06fc64616c92)"
      ],
      "metadata": {
        "id": "nqK1Sw5pPBFq"
      }
    },
    {
      "cell_type": "code",
      "execution_count": 1,
      "metadata": {
        "colab": {
          "base_uri": "https://localhost:8080/"
        },
        "id": "Y4EjwIJYM5EU",
        "outputId": "38db2bd7-28b3-479d-b64b-f16bc83c57cc"
      },
      "outputs": [
        {
          "output_type": "stream",
          "name": "stdout",
          "text": [
            "     name gender  age  salary   hire_date\n",
            "0  Sophia      F   28    4500  2024-06-15\n",
            "1    Liam      M   32    5200  2023-09-10\n",
            "2    Emma      F   26    4800  2022-03-22\n",
            "3    Noah      M   37    6100  2023-11-05\n",
            "4  Olivia      F   29    5400  2019-07-30\n"
          ]
        }
      ],
      "source": [
        "import pandas as pd\n",
        "\n",
        "# Create a sample DataFrame with new data\n",
        "df = pd.DataFrame({\n",
        "    \"name\": [\"Sophia\", \"Liam\", \"Emma\", \"Noah\", \"Olivia\"],  # Names of individuals\n",
        "    \"gender\": [\"F\", \"M\", \"F\", \"M\", \"F\"],  # Gender of individuals\n",
        "    \"age\": [28, 32, 26, 37, 29],  # Age of individuals\n",
        "    \"salary\": [4500, 5200, 4800, 6100, 5400],  # Monthly salary in USD\n",
        "    \"hire_date\": [\"2024-06-15\", \"2023-09-10\", \"2022-03-22\", \"2023-11-05\", \"2019-07-30\"]  # Hire date in YYYY-MM-DD format\n",
        "})\n",
        "\n",
        "# Display the DataFrame\n",
        "print(df)"
      ]
    },
    {
      "cell_type": "code",
      "source": [
        "df.columns"
      ],
      "metadata": {
        "colab": {
          "base_uri": "https://localhost:8080/"
        },
        "id": "A3uIaAVnPObp",
        "outputId": "583a7c6a-ed1e-44f4-81c3-8f68d83f5fd4"
      },
      "execution_count": 4,
      "outputs": [
        {
          "output_type": "execute_result",
          "data": {
            "text/plain": [
              "Index(['name', 'gender', 'age', 'salary', 'hire_date'], dtype='object')"
            ]
          },
          "metadata": {},
          "execution_count": 4
        }
      ]
    },
    {
      "cell_type": "code",
      "source": [
        "print(df[[\"age\", \"salary\"]].agg([\"sum\", \"mean\", \"max\", \"min\"]))"
      ],
      "metadata": {
        "colab": {
          "base_uri": "https://localhost:8080/"
        },
        "id": "XBQmx6UYPENw",
        "outputId": "5ac222da-046a-40e6-f344-b5ad14c750cc"
      },
      "execution_count": 5,
      "outputs": [
        {
          "output_type": "stream",
          "name": "stdout",
          "text": [
            "        age   salary\n",
            "sum   152.0  26000.0\n",
            "mean   30.4   5200.0\n",
            "max    37.0   6100.0\n",
            "min    26.0   4500.0\n"
          ]
        }
      ]
    },
    {
      "cell_type": "code",
      "source": [
        "print(df[\"salary\"].agg(\"sum\"))"
      ],
      "metadata": {
        "colab": {
          "base_uri": "https://localhost:8080/"
        },
        "id": "belAcGGoPGUO",
        "outputId": "da901e5e-54b2-4409-e389-72b936bc3150"
      },
      "execution_count": 6,
      "outputs": [
        {
          "output_type": "stream",
          "name": "stdout",
          "text": [
            "26000\n"
          ]
        }
      ]
    },
    {
      "cell_type": "code",
      "source": [
        "print(df[\"salary\"].agg([\"sum\", \"mean\", \"max\", \"min\"]))"
      ],
      "metadata": {
        "colab": {
          "base_uri": "https://localhost:8080/"
        },
        "id": "WkMUlihwPHNp",
        "outputId": "a391ed8c-4d9d-484a-a54e-bb72e966fec6"
      },
      "execution_count": 7,
      "outputs": [
        {
          "output_type": "stream",
          "name": "stdout",
          "text": [
            "sum     26000.0\n",
            "mean     5200.0\n",
            "max      6100.0\n",
            "min      4500.0\n",
            "Name: salary, dtype: float64\n"
          ]
        }
      ]
    },
    {
      "cell_type": "code",
      "source": [
        "print(df[[\"age\", \"salary\"]].agg(\"sum\"))"
      ],
      "metadata": {
        "colab": {
          "base_uri": "https://localhost:8080/"
        },
        "id": "B8xeHLTUPIE_",
        "outputId": "8c9723db-5ffc-4d78-e17b-906b8d81d4df"
      },
      "execution_count": 8,
      "outputs": [
        {
          "output_type": "stream",
          "name": "stdout",
          "text": [
            "age         152\n",
            "salary    26000\n",
            "dtype: int64\n"
          ]
        }
      ]
    },
    {
      "cell_type": "code",
      "source": [
        "print(df[[\"age\", \"salary\"]].agg([\"sum\", \"mean\", \"max\", \"min\"]))"
      ],
      "metadata": {
        "colab": {
          "base_uri": "https://localhost:8080/"
        },
        "id": "_-lviBbbPVeS",
        "outputId": "f2a83dcd-73f4-43cc-a7bd-1e93a8d2d15e"
      },
      "execution_count": 9,
      "outputs": [
        {
          "output_type": "stream",
          "name": "stdout",
          "text": [
            "        age   salary\n",
            "sum   152.0  26000.0\n",
            "mean   30.4   5200.0\n",
            "max    37.0   6100.0\n",
            "min    26.0   4500.0\n"
          ]
        }
      ]
    },
    {
      "cell_type": "code",
      "source": [
        "print(df.agg({\"name\": \"count\", \"gender\": \"count\", \"age\": \"mean\", \"salary\": \"sum\", \"hire_date\": [\"min\", \"max\"]}))"
      ],
      "metadata": {
        "colab": {
          "base_uri": "https://localhost:8080/"
        },
        "id": "uUPAWuHuPWoL",
        "outputId": "a4dce656-3e77-49be-feac-2c63f9fec7d5"
      },
      "execution_count": 10,
      "outputs": [
        {
          "output_type": "stream",
          "name": "stdout",
          "text": [
            "       name  gender   age   salary   hire_date\n",
            "count   5.0     5.0   NaN      NaN         NaN\n",
            "mean    NaN     NaN  30.4      NaN         NaN\n",
            "sum     NaN     NaN   NaN  26000.0         NaN\n",
            "min     NaN     NaN   NaN      NaN  2019-07-30\n",
            "max     NaN     NaN   NaN      NaN  2024-06-15\n"
          ]
        }
      ]
    },
    {
      "cell_type": "code",
      "source": [
        "print(df.groupby(\"gender\")[[\"age\", \"salary\"]].agg(\"sum\"))"
      ],
      "metadata": {
        "colab": {
          "base_uri": "https://localhost:8080/"
        },
        "id": "5uqKWbsVPYvt",
        "outputId": "0c031492-f7d6-4dcf-cea3-2868a7d42587"
      },
      "execution_count": 11,
      "outputs": [
        {
          "output_type": "stream",
          "name": "stdout",
          "text": [
            "        age  salary\n",
            "gender             \n",
            "F        83   14700\n",
            "M        69   11300\n"
          ]
        }
      ]
    },
    {
      "cell_type": "code",
      "source": [
        "print(df.groupby(\"gender\").agg({\"name\": \"count\", \"age\": \"mean\", \"salary\": [\"sum\", \"max\"], \"hire_date\": \"min\"}))"
      ],
      "metadata": {
        "id": "cpM7M4r4PaYX",
        "outputId": "24c3ccb0-aa71-4420-aef7-b167ca66185b",
        "colab": {
          "base_uri": "https://localhost:8080/"
        }
      },
      "execution_count": 12,
      "outputs": [
        {
          "output_type": "stream",
          "name": "stdout",
          "text": [
            "        name        age salary         hire_date\n",
            "       count       mean    sum   max         min\n",
            "gender                                          \n",
            "F          3  27.666667  14700  5400  2019-07-30\n",
            "M          2  34.500000  11300  6100  2023-09-10\n"
          ]
        }
      ]
    }
  ]
}
