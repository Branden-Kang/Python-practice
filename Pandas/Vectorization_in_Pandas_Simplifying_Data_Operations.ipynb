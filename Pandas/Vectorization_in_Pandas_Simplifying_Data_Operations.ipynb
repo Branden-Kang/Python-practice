{
  "nbformat": 4,
  "nbformat_minor": 0,
  "metadata": {
    "colab": {
      "provenance": [],
      "authorship_tag": "ABX9TyNrWUMBq9r6GioDyQLF6duu"
    },
    "kernelspec": {
      "name": "python3",
      "display_name": "Python 3"
    },
    "language_info": {
      "name": "python"
    }
  },
  "cells": [
    {
      "cell_type": "markdown",
      "source": [
        "[Reference](https://python.plainenglish.io/vectorization-in-pandas-simplifying-data-operations-3a4fda08a184)"
      ],
      "metadata": {
        "id": "TBIz0hdWg7BP"
      }
    },
    {
      "cell_type": "markdown",
      "source": [
        "[Reference](https://python.plainenglish.io/vectorization-in-pandas-simplifying-data-operations-3a4fda08a184)\n",
        "\n"
      ],
      "metadata": {
        "id": "99Dmh8p7g-Oe"
      }
    },
    {
      "cell_type": "markdown",
      "source": [
        "# Example 1: Basic Arithmetic Operations"
      ],
      "metadata": {
        "id": "xz7DdD_bhEJJ"
      }
    },
    {
      "cell_type": "code",
      "execution_count": 1,
      "metadata": {
        "colab": {
          "base_uri": "https://localhost:8080/"
        },
        "id": "0SNKG-Ebg2py",
        "outputId": "b00cbea2-3df8-4f75-de7c-ab44d3348d79"
      },
      "outputs": [
        {
          "output_type": "stream",
          "name": "stdout",
          "text": [
            "0    5\n",
            "1    7\n",
            "2    9\n",
            "Name: C, dtype: int64\n"
          ]
        }
      ],
      "source": [
        "import pandas as pd\n",
        "\n",
        "data = {'A': [1, 2, 3], 'B': [4, 5, 6]}\n",
        "df = pd.DataFrame(data)\n",
        "# Using vectorization to add columns 'A' and 'B'\n",
        "df['C'] = df['A'] + df['B']\n",
        "print(df['C'])"
      ]
    },
    {
      "cell_type": "markdown",
      "source": [
        "# Example 2: Applying Functions"
      ],
      "metadata": {
        "id": "30PYf_xzhGRa"
      }
    },
    {
      "cell_type": "code",
      "source": [
        "import pandas as pd\n",
        "\n",
        "data = {'A': [1, 2, 3]}\n",
        "df = pd.DataFrame(data)\n",
        "# Define a custom function\n",
        "def square(x):\n",
        "    return x ** 2\n",
        "\n",
        "# Applying the 'square' function to the 'A' column\n",
        "df['A_squared'] = df['A'].apply(square)\n",
        "print(df['A_squared'])"
      ],
      "metadata": {
        "colab": {
          "base_uri": "https://localhost:8080/"
        },
        "id": "1jvSNw9UhE-u",
        "outputId": "93fa3034-5320-41ad-dd21-61b481d500ac"
      },
      "execution_count": 2,
      "outputs": [
        {
          "output_type": "stream",
          "name": "stdout",
          "text": [
            "0    1\n",
            "1    4\n",
            "2    9\n",
            "Name: A_squared, dtype: int64\n"
          ]
        }
      ]
    },
    {
      "cell_type": "markdown",
      "source": [
        "# Example 3: Conditional Operations"
      ],
      "metadata": {
        "id": "1zYJMLdthIVt"
      }
    },
    {
      "cell_type": "code",
      "source": [
        "import pandas as pd\n",
        "\n",
        "data = {'A': [1, 2, 3]}\n",
        "df = pd.DataFrame(data)\n",
        "\n",
        "# Creating a new column 'D' based on a condition in column 'A'\n",
        "df['D'] = df['A'].apply(lambda x: 'Even' if x % 2 == 0 else 'Odd')\n",
        "\n",
        "print(df)"
      ],
      "metadata": {
        "colab": {
          "base_uri": "https://localhost:8080/"
        },
        "id": "tdyPfsolhHQJ",
        "outputId": "32f1ebfe-a5d5-4edf-afa2-34902e74b1b0"
      },
      "execution_count": 3,
      "outputs": [
        {
          "output_type": "stream",
          "name": "stdout",
          "text": [
            "   A     D\n",
            "0  1   Odd\n",
            "1  2  Even\n",
            "2  3   Odd\n"
          ]
        }
      ]
    },
    {
      "cell_type": "markdown",
      "source": [
        "# Traditional Loop-Based Processing"
      ],
      "metadata": {
        "id": "lNKPTm5VhNPz"
      }
    },
    {
      "cell_type": "code",
      "source": [
        "# Adding two lists element-wise without vectorization\n",
        "list1 = [1, 2, 3, 4, 5]\n",
        "list2 = [6, 7, 8, 9, 10]\n",
        "result = []\n",
        "\n",
        "for i in range(len(list1)):\n",
        "    result.append(list1[i] + list2[i])\n",
        "print(result)"
      ],
      "metadata": {
        "colab": {
          "base_uri": "https://localhost:8080/"
        },
        "id": "KBj2eYuNhKnz",
        "outputId": "575c136e-1e92-451c-8b72-a8df49c417ce"
      },
      "execution_count": 4,
      "outputs": [
        {
          "output_type": "stream",
          "name": "stdout",
          "text": [
            "[7, 9, 11, 13, 15]\n"
          ]
        }
      ]
    },
    {
      "cell_type": "markdown",
      "source": [
        "# Vectorized Processing with NumPy"
      ],
      "metadata": {
        "id": "8hLE7kmXhOYd"
      }
    },
    {
      "cell_type": "code",
      "source": [
        "import numpy as np\n",
        "\n",
        "# Adding two NumPy arrays element-wise with vectorization\n",
        "array1 = np.array([1, 2, 3, 4, 5])\n",
        "array2 = np.array([6, 7, 8, 9, 10])\n",
        "result = array1 + array2\n",
        "print(result)"
      ],
      "metadata": {
        "colab": {
          "base_uri": "https://localhost:8080/"
        },
        "id": "ECHDhCD_hNgX",
        "outputId": "e8801aab-4510-4eba-d2ab-86164fcd9a8c"
      },
      "execution_count": 5,
      "outputs": [
        {
          "output_type": "stream",
          "name": "stdout",
          "text": [
            "[ 7  9 11 13 15]\n"
          ]
        }
      ]
    },
    {
      "cell_type": "markdown",
      "source": [
        "# Efficiency Comparison: NumPy Vectorized vs. Traditional Loop-Based Element-Wise Addition"
      ],
      "metadata": {
        "id": "IjjgHmEBhRDV"
      }
    },
    {
      "cell_type": "code",
      "source": [
        "import numpy as np\n",
        "import timeit\n",
        "\n",
        "# Create two NumPy arrays and two lists for the comparison\n",
        "array1 = np.random.randint(1, 100, size=1000000)\n",
        "array2 = np.random.randint(1, 100, size=1000000)\n",
        "list1 = list(array1)\n",
        "list2 = list(array2)\n",
        "\n",
        "# Vectorized processing with NumPy\n",
        "def numpy_vectorized():\n",
        "    result = array1 + array2\n",
        "\n",
        "# Traditional loop-based processing\n",
        "def loop_based():\n",
        "    result = []\n",
        "    for i in range(len(list1)):\n",
        "        result.append(list1[i] + list2[i])\n",
        "\n",
        "# Measure execution time for NumPy vectorized approach\n",
        "numpy_time = timeit.timeit(numpy_vectorized, number=100)\n",
        "\n",
        "# Measure execution time for traditional loop-based approach\n",
        "loop_time = timeit.timeit(loop_based, number=100)\n",
        "\n",
        "print(f\"NumPy Vectorized Approach: {numpy_time:.5f} seconds\")\n",
        "print(f\"Traditional Loop-Based Approach: {loop_time:.5f} seconds\")"
      ],
      "metadata": {
        "colab": {
          "base_uri": "https://localhost:8080/"
        },
        "id": "D_TRxmUIhPkP",
        "outputId": "373adcec-2854-42e4-9f01-a56da02a83a5"
      },
      "execution_count": 6,
      "outputs": [
        {
          "output_type": "stream",
          "name": "stdout",
          "text": [
            "NumPy Vectorized Approach: 0.19820 seconds\n",
            "Traditional Loop-Based Approach: 24.03206 seconds\n"
          ]
        }
      ]
    }
  ]
}
