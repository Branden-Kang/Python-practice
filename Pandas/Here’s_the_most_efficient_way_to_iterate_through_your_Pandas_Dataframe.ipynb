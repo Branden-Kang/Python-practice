{
  "nbformat": 4,
  "nbformat_minor": 0,
  "metadata": {
    "colab": {
      "name": "Here’s the most efficient way to iterate through your Pandas Dataframe.ipynb",
      "provenance": [],
      "authorship_tag": "ABX9TyNKLJeX7f/XSgez3bPKPnXs"
    },
    "kernelspec": {
      "name": "python3",
      "display_name": "Python 3"
    },
    "language_info": {
      "name": "python"
    }
  },
  "cells": [
    {
      "cell_type": "markdown",
      "metadata": {
        "id": "HgPG9NTcxCHB"
      },
      "source": [
        "[Reference](https://towardsdatascience.com/heres-the-most-efficient-way-to-iterate-through-your-pandas-dataframe-4dad88ac92ee)"
      ]
    },
    {
      "cell_type": "code",
      "metadata": {
        "id": "B10Hq48MviCv"
      },
      "source": [
        "%%time\n",
        "for idx, row in tqdm(df.iterrows()):\n",
        "    temp = row['col1'] + row['col2']\n",
        "    temp = temp**2"
      ],
      "execution_count": 1,
      "outputs": []
    },
    {
      "cell_type": "code",
      "metadata": {
        "id": "QEIblXufxMes"
      },
      "source": [
        "%%time\n",
        "for row in tqdm(df.itertuples()):\n",
        "    temp = row['col1'] + row['col2']\n",
        "    temp = temp**2"
      ],
      "execution_count": 2,
      "outputs": []
    },
    {
      "cell_type": "code",
      "metadata": {
        "id": "rkgzdlAMxq7s"
      },
      "source": [
        "%%time\n",
        "for row in tqdm(df.values):\n",
        "    temp = row[0] + row[1]\n",
        "    temp = temp**2"
      ],
      "execution_count": 3,
      "outputs": []
    },
    {
      "cell_type": "code",
      "metadata": {
        "id": "2MfUgGGixvuU"
      },
      "source": [
        "%%time\n",
        "df_dict = df.to_dict('records')\n",
        "for row in tqdm(df_dict):\n",
        "    temp = row['col1'] + row['col2']\n",
        "    temp = temp**2"
      ],
      "execution_count": 4,
      "outputs": []
    }
  ]
}