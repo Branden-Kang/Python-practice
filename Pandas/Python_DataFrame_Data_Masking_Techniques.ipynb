{
  "nbformat": 4,
  "nbformat_minor": 0,
  "metadata": {
    "colab": {
      "provenance": [],
      "authorship_tag": "ABX9TyMqBNQbUY+jyLxDRVr5FAAF"
    },
    "kernelspec": {
      "name": "python3",
      "display_name": "Python 3"
    },
    "language_info": {
      "name": "python"
    }
  },
  "cells": [
    {
      "cell_type": "markdown",
      "source": [
        "[Reference](https://medium.com/@tubelwj/python-dataframe-data-masking-techniques-c7574703a852)"
      ],
      "metadata": {
        "id": "bpqQ-yt8eR21"
      }
    },
    {
      "cell_type": "markdown",
      "source": [
        "# Data Preparation"
      ],
      "metadata": {
        "id": "wVHpa6sYeXbE"
      }
    },
    {
      "cell_type": "code",
      "execution_count": 1,
      "metadata": {
        "colab": {
          "base_uri": "https://localhost:8080/"
        },
        "id": "_oad780Hd3z-",
        "outputId": "a6f3eede-d0ad-452f-bbc2-2043e7e85d0c"
      },
      "outputs": [
        {
          "output_type": "stream",
          "name": "stdout",
          "text": [
            "Customer Data:\n",
            "              Name          SSN  Phone Number                           Email\n",
            "0         John Doe  123-45-6789  202-555-0198               johndoe@gmail.com\n",
            "1       Jane Smith  987-65-4321  305-555-0172           janesmith@hotmail.com\n",
            "2  Michael Johnson  456-78-9012  212-555-0145        michaeljohnson@yahoo.com\n",
            "3      Emily Davis  345-67-8901  415-555-0109     emily.davis@abc_company.com\n",
            "4     David Wilson  234-56-7890  512-555-0190   david.wilson@road_company.com\n",
            "5      Sarah Brown  567-89-0123  617-555-0157           sarah.brown@gmail.com\n",
            "6     James Miller  678-90-1234  718-555-0163          james.miller@yahoo.com\n",
            "7     Laura Taylor  789-01-2345  202-555-0137        laura.taylor@hotmail.com\n",
            "8  Daniel Anderson  890-12-3456  213-555-0181  daniel.anderson@ai_company.com\n",
            "9    Olivia Thomas  901-23-4567  303-555-0149         olivia.thomas@gmail.com\n"
          ]
        }
      ],
      "source": [
        "import pandas as pd\n",
        "\n",
        "# Create sample data\n",
        "data = {\n",
        "    'Name': ['John Doe', 'Jane Smith', 'Michael Johnson', 'Emily Davis', 'David Wilson',\n",
        "             'Sarah Brown', 'James Miller', 'Laura Taylor', 'Daniel Anderson', 'Olivia Thomas'],\n",
        "    'SSN': ['123-45-6789', '987-65-4321', '456-78-9012', '345-67-8901', '234-56-7890',\n",
        "            '567-89-0123', '678-90-1234', '789-01-2345', '890-12-3456', '901-23-4567'],\n",
        "    'Phone Number': ['202-555-0198', '305-555-0172', '212-555-0145', '415-555-0109', '512-555-0190',\n",
        "                     '617-555-0157', '718-555-0163', '202-555-0137', '213-555-0181', '303-555-0149'],\n",
        "    'Email': ['johndoe@gmail.com', 'janesmith@hotmail.com', 'michaeljohnson@yahoo.com',\n",
        "              'emily.davis@abc_company.com', 'david.wilson@road_company.com',\n",
        "              'sarah.brown@gmail.com', 'james.miller@yahoo.com',\n",
        "              'laura.taylor@hotmail.com', 'daniel.anderson@ai_company.com',\n",
        "              'olivia.thomas@gmail.com']\n",
        "}\n",
        "\n",
        "# Convert data to a DataFrame\n",
        "df = pd.DataFrame(data)\n",
        "\n",
        "# Print the customer data\n",
        "print(\"Customer Data:\")\n",
        "print(df)"
      ]
    },
    {
      "cell_type": "markdown",
      "source": [
        "# Data Masking"
      ],
      "metadata": {
        "id": "BDM_5Lu1eZX-"
      }
    },
    {
      "cell_type": "code",
      "source": [
        "import pandas as pd\n",
        "\n",
        "# Create sample data\n",
        "data = {\n",
        "    'Name': ['John Doe', 'Jane Smith', 'Michael Johnson', 'Emily Davis', 'David Wilson',\n",
        "             'Sarah Brown', 'James Miller', 'Laura Taylor', 'Daniel Anderson', 'Olivia Thomas'],\n",
        "    'SSN': ['123-45-6789', '987-65-4321', '456-78-9012', '345-67-8901', '234-56-7890',\n",
        "            '567-89-0123', '678-90-1234', '789-01-2345', '890-12-3456', '901-23-4567'],\n",
        "    'Phone Number': ['202-555-0198', '305-555-0172', '212-555-0145', '415-555-0109', '512-555-0190',\n",
        "                     '617-555-0157', '718-555-0163', '202-555-0137', '213-555-0181', '303-555-0149'],\n",
        "    'Email': ['johndoe@gmail.com', 'janesmith@hotmail.com', 'michaeljohnson@yahoo.com',\n",
        "              'emily.davis@abc_company.com', 'david.wilson@road_company.com',\n",
        "              'sarah.brown@gmail.com', 'james.miller@yahoo.com',\n",
        "              'laura.taylor@hotmail.com', 'daniel.anderson@ai_company.com',\n",
        "              'olivia.thomas@gmail.com']\n",
        "}\n",
        "\n",
        "# Convert data to a DataFrame\n",
        "df = pd.DataFrame(data)\n",
        "\n",
        "# Phone number anonymization\n",
        "df['Phone Number_Anonymized'] = df['Phone Number'].str.replace(r'(\\d{3})\\d{4}(\\d{4})', r'\\1****\\2', regex=True)\n",
        "\n",
        "# SSN anonymization\n",
        "df['SSN_Anonymized'] = df['SSN'].str.replace(r'(\\d{3})-\\d{2}-(\\d{4})', r'\\1-**-\\2', regex=True)\n",
        "\n",
        "# Print the anonymized data\n",
        "print(\"Anonymized Data:\")\n",
        "print(df[['Name', 'Phone Number_Anonymized', 'SSN_Anonymized']])"
      ],
      "metadata": {
        "colab": {
          "base_uri": "https://localhost:8080/"
        },
        "id": "AW3BRTWteVyc",
        "outputId": "a6048c51-4097-47c0-acbd-899aba2dec37"
      },
      "execution_count": 2,
      "outputs": [
        {
          "output_type": "stream",
          "name": "stdout",
          "text": [
            "Anonymized Data:\n",
            "              Name Phone Number_Anonymized SSN_Anonymized\n",
            "0         John Doe            202-555-0198    123-**-6789\n",
            "1       Jane Smith            305-555-0172    987-**-4321\n",
            "2  Michael Johnson            212-555-0145    456-**-9012\n",
            "3      Emily Davis            415-555-0109    345-**-8901\n",
            "4     David Wilson            512-555-0190    234-**-7890\n",
            "5      Sarah Brown            617-555-0157    567-**-0123\n",
            "6     James Miller            718-555-0163    678-**-1234\n",
            "7     Laura Taylor            202-555-0137    789-**-2345\n",
            "8  Daniel Anderson            213-555-0181    890-**-3456\n",
            "9    Olivia Thomas            303-555-0149    901-**-4567\n"
          ]
        }
      ]
    },
    {
      "cell_type": "markdown",
      "source": [
        "# Data Hashing"
      ],
      "metadata": {
        "id": "YJWy08uQedHH"
      }
    },
    {
      "cell_type": "code",
      "source": [
        "import pandas as pd\n",
        "import hashlib\n",
        "\n",
        "# Define the hash function\n",
        "def hash_value(value):\n",
        "    return hashlib.sha256(value.encode()).hexdigest()\n",
        "\n",
        "# Create sample data\n",
        "data = {\n",
        "    'Name': ['John Doe', 'Jane Smith', 'Michael Johnson', 'Emily Davis', 'David Wilson',\n",
        "             'Sarah Brown', 'James Miller', 'Laura Taylor', 'Daniel Anderson', 'Olivia Thomas'],\n",
        "    'SSN': ['123-45-6789', '987-65-4321', '456-78-9012', '345-67-8901', '234-56-7890',\n",
        "            '567-89-0123', '678-90-1234', '789-01-2345', '890-12-3456', '901-23-4567'],\n",
        "    'Phone Number': ['202-555-0198', '305-555-0172', '212-555-0145', '415-555-0109', '512-555-0190',\n",
        "                     '617-555-0157', '718-555-0163', '202-555-0137', '213-555-0181', '303-555-0149'],\n",
        "    'Email': ['johndoe@gmail.com', 'janesmith@hotmail.com', 'michaeljohnson@yahoo.com',\n",
        "              'emily.davis@abc_company.com', 'david.wilson@road_company.com',\n",
        "              'sarah.brown@gmail.com', 'james.miller@yahoo.com',\n",
        "              'laura.taylor@hotmail.com', 'daniel.anderson@ai_company.com',\n",
        "              'olivia.thomas@gmail.com']\n",
        "}\n",
        "\n",
        "# Convert data to a DataFrame\n",
        "df = pd.DataFrame(data)\n",
        "\n",
        "# Apply hash function to email column\n",
        "df['Email_Hash'] = df['Email'].apply(hash_value)\n",
        "\n",
        "# Print the customer data with hashed emails\n",
        "print(\"Customer Data with Hashed Emails:\")\n",
        "print(df[['Name', 'Email', 'Email_Hash']])"
      ],
      "metadata": {
        "colab": {
          "base_uri": "https://localhost:8080/"
        },
        "id": "J8dU1TdRebvq",
        "outputId": "d711d1f4-1fb9-4e2c-e9f0-5671516732db"
      },
      "execution_count": 3,
      "outputs": [
        {
          "output_type": "stream",
          "name": "stdout",
          "text": [
            "Customer Data with Hashed Emails:\n",
            "              Name                           Email  \\\n",
            "0         John Doe               johndoe@gmail.com   \n",
            "1       Jane Smith           janesmith@hotmail.com   \n",
            "2  Michael Johnson        michaeljohnson@yahoo.com   \n",
            "3      Emily Davis     emily.davis@abc_company.com   \n",
            "4     David Wilson   david.wilson@road_company.com   \n",
            "5      Sarah Brown           sarah.brown@gmail.com   \n",
            "6     James Miller          james.miller@yahoo.com   \n",
            "7     Laura Taylor        laura.taylor@hotmail.com   \n",
            "8  Daniel Anderson  daniel.anderson@ai_company.com   \n",
            "9    Olivia Thomas         olivia.thomas@gmail.com   \n",
            "\n",
            "                                          Email_Hash  \n",
            "0  06a240d11cc201676da976f7b49341181fd180da37cbe4...  \n",
            "1  9595c954d6f915597a49733eb703cb8a78ac5943be639f...  \n",
            "2  56b74a97601e9594ac8b8ccc69a60616a3e5b0602339a4...  \n",
            "3  bd8908ae5aee0e45694870f0b51cdaa4e7dd08f4d944c4...  \n",
            "4  34f5b7151db89e6a970942c9663548c6fc7bb9e8f16165...  \n",
            "5  906aa0f301f430f74f8807b5386ebf466ea36a6f5a3f5b...  \n",
            "6  7c137e594409771cc7f35a3d08bfc2b92f6b0353c18140...  \n",
            "7  4f238f47a2b0c8d9342839e8e1083b67aa9c77b5db5ece...  \n",
            "8  ea21e15a44d78c86f86f657e2e54bbfda7cd0388a4abeb...  \n",
            "9  420d0d0c6f3dd81784f7ab56207dd09e03416ccf7d53df...  \n"
          ]
        }
      ]
    },
    {
      "cell_type": "markdown",
      "source": [
        "# Data Randomization"
      ],
      "metadata": {
        "id": "vhuLevFveh8t"
      }
    },
    {
      "cell_type": "code",
      "source": [
        "import random\n",
        "import pandas as pd\n",
        "\n",
        "# Create sample data\n",
        "data = {\n",
        "    'Name': ['John Doe', 'Jane Smith', 'Michael Johnson', 'Emily Davis', 'David Wilson',\n",
        "             'Sarah Brown', 'James Miller', 'Laura Taylor', 'Daniel Anderson', 'Olivia Thomas'],\n",
        "    'SSN': ['123-45-6789', '987-65-4321', '456-78-9012', '345-67-8901', '234-56-7890',\n",
        "            '567-89-0123', '678-90-1234', '789-01-2345', '890-12-3456', '901-23-4567'],\n",
        "    'Phone Number': ['202-555-0198', '305-555-0172', '212-555-0145', '415-555-0109', '512-555-0190',\n",
        "                     '617-555-0157', '718-555-0163', '202-555-0137', '213-555-0181', '303-555-0149'],\n",
        "    'Email': ['johndoe@gmail.com', 'janesmith@hotmail.com', 'michaeljohnson@yahoo.com',\n",
        "              'emily.davis@abc_company.com', 'david.wilson@road_company.com',\n",
        "              'sarah.brown@gmail.com', 'james.miller@yahoo.com',\n",
        "              'laura.taylor@hotmail.com', 'daniel.anderson@ai_company.com',\n",
        "              'olivia.thomas@gmail.com']\n",
        "}\n",
        "\n",
        "# Convert data to a DataFrame\n",
        "df = pd.DataFrame(data)\n",
        "\n",
        "# Define randomize function for names\n",
        "def randomize_name(names):\n",
        "    return random.choice(names)\n",
        "\n",
        "# Randomize names with predefined list\n",
        "random_names = ['John Doe', 'Jane Smith', 'Michael Johnson', 'Emily Davis', 'David Wilson',\n",
        "                'Sarah Brown', 'James Miller', 'Laura Taylor', 'Daniel Anderson', 'Olivia Thomas']\n",
        "\n",
        "# Apply randomization\n",
        "df['Name_Randomized'] = [randomize_name(random_names) for _ in range(len(df))]\n",
        "\n",
        "# Print the results\n",
        "print(\"Randomized Data:\")\n",
        "print(df[['Name', 'Name_Randomized']])"
      ],
      "metadata": {
        "colab": {
          "base_uri": "https://localhost:8080/"
        },
        "id": "6yw1YVHSefxG",
        "outputId": "0259e005-3198-4714-f5fb-7523010d2c26"
      },
      "execution_count": 4,
      "outputs": [
        {
          "output_type": "stream",
          "name": "stdout",
          "text": [
            "Randomized Data:\n",
            "              Name  Name_Randomized\n",
            "0         John Doe      Sarah Brown\n",
            "1       Jane Smith     James Miller\n",
            "2  Michael Johnson      Emily Davis\n",
            "3      Emily Davis      Emily Davis\n",
            "4     David Wilson      Sarah Brown\n",
            "5      Sarah Brown    Olivia Thomas\n",
            "6     James Miller     Laura Taylor\n",
            "7     Laura Taylor     Laura Taylor\n",
            "8  Daniel Anderson  Michael Johnson\n",
            "9    Olivia Thomas  Michael Johnson\n"
          ]
        }
      ]
    },
    {
      "cell_type": "markdown",
      "source": [
        "# Data Encryption"
      ],
      "metadata": {
        "id": "m6eudeYuenNP"
      }
    },
    {
      "cell_type": "code",
      "source": [
        "from cryptography.fernet import Fernet\n",
        "import pandas as pd\n",
        "\n",
        "# Create sample data\n",
        "data = {\n",
        "    'Name': ['John Doe', 'Jane Smith', 'Michael Johnson', 'Emily Davis', 'David Wilson',\n",
        "             'Sarah Brown', 'James Miller', 'Laura Taylor', 'Daniel Anderson', 'Olivia Thomas'],\n",
        "    'SSN': ['123-45-6789', '987-65-4321', '456-78-9012', '345-67-8901', '234-56-7890',\n",
        "            '567-89-0123', '678-90-1234', '789-01-2345', '890-12-3456', '901-23-4567'],\n",
        "    'Phone Number': ['202-555-0198', '305-555-0172', '212-555-0145', '415-555-0109', '512-555-0190',\n",
        "                     '617-555-0157', '718-555-0163', '202-555-0137', '213-555-0181', '303-555-0149'],\n",
        "    'Email': ['johndoe@gmail.com', 'janesmith@hotmail.com', 'michaeljohnson@yahoo.com',\n",
        "              'emily.davis@abc_company.com', 'david.wilson@road_company.com',\n",
        "              'sarah.brown@gmail.com', 'james.miller@yahoo.com',\n",
        "              'laura.taylor@hotmail.com', 'daniel.anderson@ai_company.com',\n",
        "              'olivia.thomas@gmail.com']\n",
        "}\n",
        "\n",
        "# Convert data to a DataFrame\n",
        "df = pd.DataFrame(data)\n",
        "\n",
        "# Generate encryption key and cipher\n",
        "key = Fernet.generate_key()\n",
        "cipher = Fernet(key)\n",
        "\n",
        "# Encrypt the phone numbers\n",
        "df['Phone Number_Encrypted'] = df['Phone Number'].apply(lambda x: cipher.encrypt(x.encode()).decode())\n",
        "\n",
        "# Decrypt the phone numbers\n",
        "df['Phone Number_Decrypted'] = df['Phone Number_Encrypted'].apply(lambda x: cipher.decrypt(x.encode()).decode())\n",
        "\n",
        "# Print the results\n",
        "print(\"Encrypted and Decrypted Data:\")\n",
        "print(df[['Name', 'Phone Number', 'Phone Number_Encrypted', 'Phone Number_Decrypted']])"
      ],
      "metadata": {
        "colab": {
          "base_uri": "https://localhost:8080/"
        },
        "id": "RWCMLlwNekYv",
        "outputId": "0b9a7631-aca4-4d56-ec87-7c735b10b748"
      },
      "execution_count": 5,
      "outputs": [
        {
          "output_type": "stream",
          "name": "stdout",
          "text": [
            "Encrypted and Decrypted Data:\n",
            "              Name  Phone Number  \\\n",
            "0         John Doe  202-555-0198   \n",
            "1       Jane Smith  305-555-0172   \n",
            "2  Michael Johnson  212-555-0145   \n",
            "3      Emily Davis  415-555-0109   \n",
            "4     David Wilson  512-555-0190   \n",
            "5      Sarah Brown  617-555-0157   \n",
            "6     James Miller  718-555-0163   \n",
            "7     Laura Taylor  202-555-0137   \n",
            "8  Daniel Anderson  213-555-0181   \n",
            "9    Olivia Thomas  303-555-0149   \n",
            "\n",
            "                              Phone Number_Encrypted Phone Number_Decrypted  \n",
            "0  gAAAAABn0s-Q6tr95DYCQyYELEfpPeejz3T-nFLjArTPFk...           202-555-0198  \n",
            "1  gAAAAABn0s-Q91zOtjPyFtuOqH1vWrAiDqbGmscqZWqCO6...           305-555-0172  \n",
            "2  gAAAAABn0s-QP8BwO9qf4bL6_5DUWFrLlSBo1rOhRVwYvd...           212-555-0145  \n",
            "3  gAAAAABn0s-QsCSb9n76SiuPnJwZ3rIZIskcfILIErzduV...           415-555-0109  \n",
            "4  gAAAAABn0s-Q0fycFYNrJNfDZrR3dMXlPEQBxkrVKiUP0D...           512-555-0190  \n",
            "5  gAAAAABn0s-QuEvYLn1NEl3RwTlulnWGecMCRZnuLQ8QyJ...           617-555-0157  \n",
            "6  gAAAAABn0s-Qt3XCXMHsken4YVrIECo7TPbiNgeOE1skAe...           718-555-0163  \n",
            "7  gAAAAABn0s-QiOUy-W5_kZx91Uq_A5S5JmqBwDetxS7MmP...           202-555-0137  \n",
            "8  gAAAAABn0s-QCQQYEf7M17RTg7es_EdoWKxDDAXNjYL9XC...           213-555-0181  \n",
            "9  gAAAAABn0s-Q40L8Dd-iRrzJ3xAkuMcmuoVi96VWHI4Gas...           303-555-0149  \n"
          ]
        }
      ]
    }
  ]
}
