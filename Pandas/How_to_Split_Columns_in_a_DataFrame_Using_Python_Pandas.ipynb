{
  "nbformat": 4,
  "nbformat_minor": 0,
  "metadata": {
    "colab": {
      "provenance": [],
      "authorship_tag": "ABX9TyPCyveE89yc7K64txWJFG0e"
    },
    "kernelspec": {
      "name": "python3",
      "display_name": "Python 3"
    },
    "language_info": {
      "name": "python"
    }
  },
  "cells": [
    {
      "cell_type": "markdown",
      "source": [
        "[Reference](https://medium.com/@tubelwj/how-to-split-columns-in-a-dataframe-using-python-pandas-05272d17f4f2)"
      ],
      "metadata": {
        "id": "lY5SsWJTM69_"
      }
    },
    {
      "cell_type": "code",
      "execution_count": 1,
      "metadata": {
        "colab": {
          "base_uri": "https://localhost:8080/"
        },
        "id": "K_-c9R6aM4Di",
        "outputId": "02f2b2d3-264d-4c37-ecf0-027eedb03f5a"
      },
      "outputs": [
        {
          "output_type": "stream",
          "name": "stdout",
          "text": [
            "              Name                            Address\n",
            "0       John Smith  California, Los Angeles, Downtown\n",
            "1      Emily Davis            Texas, Houston, Midtown\n",
            "2  Michael Johnson        New York, Manhattan, Harlem\n"
          ]
        }
      ],
      "source": [
        "import pandas as pd\n",
        "\n",
        "# Sample DataFrame with English names and addresses\n",
        "df = pd.DataFrame(\n",
        "    {\n",
        "        \"Name\": [\"John Smith\", \"Emily Davis\", \"Michael Johnson\"],\n",
        "        \"Address\": [\n",
        "            \"California, Los Angeles, Downtown\",\n",
        "            \"Texas, Houston, Midtown\",\n",
        "            \"New York, Manhattan, Harlem\",\n",
        "        ],\n",
        "    }\n",
        ")\n",
        "\n",
        "print(df)"
      ]
    },
    {
      "cell_type": "code",
      "source": [
        "# Extract the city information from the \"Address\" column\n",
        "df[\"City\"] = df[\"Address\"].str.split(\",\", expand=True)[1]\n",
        "\n",
        "# Extract the surname from the \"Name\" column\n",
        "df[\"Surname\"] = df[\"Name\"].str.split(\" \", expand=True)[0]\n",
        "\n",
        "print(df)"
      ],
      "metadata": {
        "colab": {
          "base_uri": "https://localhost:8080/"
        },
        "id": "kdttcB0_NA67",
        "outputId": "6dffbfad-ad14-42e2-fa8b-4ad6edeca214"
      },
      "execution_count": 2,
      "outputs": [
        {
          "output_type": "stream",
          "name": "stdout",
          "text": [
            "              Name                            Address          City  Surname\n",
            "0       John Smith  California, Los Angeles, Downtown   Los Angeles     John\n",
            "1      Emily Davis            Texas, Houston, Midtown       Houston    Emily\n",
            "2  Michael Johnson        New York, Manhattan, Harlem     Manhattan  Michael\n"
          ]
        }
      ]
    },
    {
      "cell_type": "code",
      "source": [
        "df[[\"State\", \"City\", \"District\"]] = df[\"Address\"].str.split(\",\", expand=True)\n",
        "print(df)"
      ],
      "metadata": {
        "colab": {
          "base_uri": "https://localhost:8080/"
        },
        "id": "1MInmKIeNM6O",
        "outputId": "2f07c1c1-dc8f-4f7d-d53a-d9f2b1db94ce"
      },
      "execution_count": 3,
      "outputs": [
        {
          "output_type": "stream",
          "name": "stdout",
          "text": [
            "              Name                            Address          City  Surname  \\\n",
            "0       John Smith  California, Los Angeles, Downtown   Los Angeles     John   \n",
            "1      Emily Davis            Texas, Houston, Midtown       Houston    Emily   \n",
            "2  Michael Johnson        New York, Manhattan, Harlem     Manhattan  Michael   \n",
            "\n",
            "        State   District  \n",
            "0  California   Downtown  \n",
            "1       Texas    Midtown  \n",
            "2    New York     Harlem  \n"
          ]
        }
      ]
    },
    {
      "cell_type": "code",
      "source": [
        "df[\"State\"], df[\"City\"], df[\"District\"] = zip(*df[\"Address\"].str.split(\",\"))\n",
        "print(df)"
      ],
      "metadata": {
        "colab": {
          "base_uri": "https://localhost:8080/"
        },
        "id": "Vc-jB8B1NPQd",
        "outputId": "82567cff-9706-4e9b-df08-d1a1809f0396"
      },
      "execution_count": 5,
      "outputs": [
        {
          "output_type": "stream",
          "name": "stdout",
          "text": [
            "              Name                            Address          City  Surname  \\\n",
            "0       John Smith  California, Los Angeles, Downtown   Los Angeles     John   \n",
            "1      Emily Davis            Texas, Houston, Midtown       Houston    Emily   \n",
            "2  Michael Johnson        New York, Manhattan, Harlem     Manhattan  Michael   \n",
            "\n",
            "        State   District  \n",
            "0  California   Downtown  \n",
            "1       Texas    Midtown  \n",
            "2    New York     Harlem  \n"
          ]
        }
      ]
    },
    {
      "cell_type": "code",
      "source": [
        "import pandas as pd\n",
        "\n",
        "# Create a DataFrame with six phone numbers\n",
        "df = pd.DataFrame(\n",
        "    {\n",
        "        \"OrderNumber\": [\"01\", \"02\", \"03\", \"04\", \"05\", \"06\"],\n",
        "        \"PhoneNumber\": [\n",
        "            \"5551234567\",\n",
        "            \"5559876543\",\n",
        "            \"5556543210\",\n",
        "            \"5558765432\",\n",
        "            \"5552345678\",\n",
        "            \"5557654321\",\n",
        "        ],\n",
        "    }\n",
        ")\n",
        "\n",
        "# Truncate the phone numbers to keep only the last 4 digits\n",
        "df[\"TruncatedPhoneNumber\"] = df[\"PhoneNumber\"].str.split(\n",
        "    r\"\\d{6}\",  # Matches the first 6 digits\n",
        "    expand=True,\n",
        "    regex=True,\n",
        ")[1]\n",
        "\n",
        "print(df)"
      ],
      "metadata": {
        "colab": {
          "base_uri": "https://localhost:8080/"
        },
        "id": "_2iNdLgBNQyX",
        "outputId": "634f17a4-e433-4a8a-de87-dd3a6bd3dfec"
      },
      "execution_count": 6,
      "outputs": [
        {
          "output_type": "stream",
          "name": "stdout",
          "text": [
            "  OrderNumber PhoneNumber TruncatedPhoneNumber\n",
            "0          01  5551234567                 4567\n",
            "1          02  5559876543                 6543\n",
            "2          03  5556543210                 3210\n",
            "3          04  5558765432                 5432\n",
            "4          05  5552345678                 5678\n",
            "5          06  5557654321                 4321\n"
          ]
        }
      ]
    }
  ]
}
