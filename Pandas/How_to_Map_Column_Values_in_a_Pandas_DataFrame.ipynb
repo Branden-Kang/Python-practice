{
  "nbformat": 4,
  "nbformat_minor": 0,
  "metadata": {
    "colab": {
      "provenance": [],
      "authorship_tag": "ABX9TyP1/EnF5MEUJyIonWTkhBt9"
    },
    "kernelspec": {
      "name": "python3",
      "display_name": "Python 3"
    },
    "language_info": {
      "name": "python"
    }
  },
  "cells": [
    {
      "cell_type": "markdown",
      "source": [
        "[Reference](https://medium.com/@tubelwj/how-to-map-column-values-in-a-pandas-dataframe-0b4e3f12cff9)"
      ],
      "metadata": {
        "id": "EgfAr1t5cCxN"
      }
    },
    {
      "cell_type": "code",
      "execution_count": 1,
      "metadata": {
        "colab": {
          "base_uri": "https://localhost:8080/"
        },
        "id": "Qxj1FeAvb-p2",
        "outputId": "6d859045-f0c2-4c99-a529-d7adebcae096"
      },
      "outputs": [
        {
          "output_type": "stream",
          "name": "stdout",
          "text": [
            "      name  sex  age\n",
            "0    Alice    0   23\n",
            "1      Bob    1   34\n",
            "2  Charlie    1   29\n",
            "3    David    1   42\n",
            "4      Eva    0   25\n",
            "5    Frank    1   31\n"
          ]
        }
      ],
      "source": [
        "import pandas as pd\n",
        "\n",
        "df = pd.DataFrame({\n",
        "    \"name\": [\"Alice\", \"Bob\", \"Charlie\", \"David\", \"Eva\", \"Frank\"],\n",
        "    \"sex\": [\"female\", \"male\", \"male\", \"male\", \"female\", \"male\"],\n",
        "    \"age\": [23, 34, 29, 42, 25, 31],\n",
        "})\n",
        "\n",
        "df.sex = df.sex.map({\n",
        "    \"female\": 0,\n",
        "    \"male\": 1,\n",
        "})\n",
        "\n",
        "print(df)"
      ]
    },
    {
      "cell_type": "code",
      "source": [
        "import pandas as pd\n",
        "\n",
        "df = pd.DataFrame({\n",
        "    \"name\": [\"John\", \"Emily\", \"Michael\", \"Sarah\", \"James\", \"Olivia\"],\n",
        "    \"sex\": [\"male\", \"female\", \"male\", \"female\", \"male\", \"female\"],\n",
        "    \"grade\": [\"A\", \"B\", \"C\", \"A\", \"B\", \"C\"],\n",
        "})\n",
        "\n",
        "df.sex = df.sex.factorize()[0]\n",
        "df.grade = df.grade.factorize()[0]\n",
        "print(df)"
      ],
      "metadata": {
        "colab": {
          "base_uri": "https://localhost:8080/"
        },
        "id": "ysJRlA21cHTI",
        "outputId": "9b9494ff-31c0-491e-b13e-281292d00fd9"
      },
      "execution_count": 2,
      "outputs": [
        {
          "output_type": "stream",
          "name": "stdout",
          "text": [
            "      name  sex  grade\n",
            "0     John    0      0\n",
            "1    Emily    1      1\n",
            "2  Michael    0      2\n",
            "3    Sarah    1      0\n",
            "4    James    0      1\n",
            "5   Olivia    1      2\n"
          ]
        }
      ]
    },
    {
      "cell_type": "code",
      "source": [
        "df.grade.factorize()"
      ],
      "metadata": {
        "colab": {
          "base_uri": "https://localhost:8080/"
        },
        "id": "g6lW7GuBcLPq",
        "outputId": "741abbd8-1959-4af0-8e77-933d147e8803"
      },
      "execution_count": 5,
      "outputs": [
        {
          "output_type": "execute_result",
          "data": {
            "text/plain": [
              "(array([0, 1, 2, 0, 1, 2]), Index([0, 1, 2], dtype='int64'))"
            ]
          },
          "metadata": {},
          "execution_count": 5
        }
      ]
    },
    {
      "cell_type": "code",
      "source": [
        "df.grade = df.grade.factorize()[0]\n",
        "df.grade = (df.grade == 2).astype(\"int\")\n",
        "print(df)"
      ],
      "metadata": {
        "colab": {
          "base_uri": "https://localhost:8080/"
        },
        "id": "KQI0DbH8cJMK",
        "outputId": "0a1feccd-86d9-43e4-823e-d092cde43ebc"
      },
      "execution_count": 6,
      "outputs": [
        {
          "output_type": "stream",
          "name": "stdout",
          "text": [
            "      name  sex  grade\n",
            "0     John    0      0\n",
            "1    Emily    1      0\n",
            "2  Michael    0      1\n",
            "3    Sarah    1      0\n",
            "4    James    0      0\n",
            "5   Olivia    1      1\n"
          ]
        }
      ]
    }
  ]
}
