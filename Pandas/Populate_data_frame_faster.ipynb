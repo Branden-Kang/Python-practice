{
  "nbformat": 4,
  "nbformat_minor": 0,
  "metadata": {
    "colab": {
      "name": "Populate data-frame faster.ipynb",
      "provenance": [],
      "collapsed_sections": [],
      "authorship_tag": "ABX9TyOfEoQFsQJnI6DXAZVIarXA"
    },
    "kernelspec": {
      "name": "python3",
      "display_name": "Python 3"
    },
    "language_info": {
      "name": "python"
    }
  },
  "cells": [
    {
      "cell_type": "markdown",
      "source": [
        "[Reference](https://medium.com/@abdulhasibsazzad/populate-data-frame-faster-from-4-hours-to-15-seconds-aa3b350cceb0)"
      ],
      "metadata": {
        "id": "gQ5nflusgeax"
      }
    },
    {
      "cell_type": "code",
      "execution_count": 1,
      "metadata": {
        "id": "hMpgPjK8gcJN"
      },
      "outputs": [],
      "source": [
        "# main part, not complete code\n",
        "def populate_data_frame_in_prediction_time(data, columns):\n",
        "    unknown_col = \"nan\"\n",
        "    columns_set = set(columns)\n",
        "    result_data_frame = pd.DataFrame(0, index=np.arange(len(data)), columns=columns)\n",
        "    for prefix in data.columns: # O(m)\n",
        "        unknown_column_name = str(prefix) + \"_\" + str(unknown_col)\n",
        "    for index, row in data.iterrows(): #O(n)\n",
        "        value = row[prefix]\n",
        "    result_column_name = str(prefix) + \"_\" + str(value)\n",
        "    if result_column_name not in columns_set: # O(1)\n",
        "        result_column_name = unknown_column_name\n",
        "    result_data_frame[result_column_name][index] = 1\n",
        "    result_data_frame = result_data_frame.astype('uint8')\n",
        "    return result_data_frame"
      ]
    },
    {
      "cell_type": "code",
      "source": [
        "def _custom_one_hot_encoding_1d(series, column_list):\n",
        "    unknown_col = \"nan\"\n",
        "    prefix = series.name\n",
        "    number_of_rows, number_of_col = series.shape[0], len(column_list)\n",
        "    dummy_data = np.array([np.zeros(number_of_rows, dtype=int)] * number_of_col).T\n",
        "    df = pd.DataFrame(dummy_data, columns=column_list)\n",
        "    for index, name in series.items():\n",
        "        if not name:\n",
        "            name = unknown_col\n",
        "    column_name = str(prefix) + \"_\" + str(name)\n",
        "    if column_name not in df:\n",
        "        column_name = prefix + \"_\" + unknown_col\n",
        "    df[column_name][index] = 1\n",
        "    return df"
      ],
      "metadata": {
        "id": "UT483WcmgggG"
      },
      "execution_count": 2,
      "outputs": []
    },
    {
      "cell_type": "code",
      "source": [
        "def _custom_one_hot_encoding_1d(series, column_list):\n",
        "    unknown_col = \"nan\"\n",
        "    prefix = series.name\n",
        "    number_of_rows, number_of_col = series.shape[0], len(column_list)\n",
        "    column_idx = {column_list[i]: i for i in range(len(column_list))}\n",
        "    result_arr = np.array([np.zeros(number_of_rows, dtype=int)] * number_of_col).T\n",
        "    for index, name in series.items():\n",
        "        if not name:\n",
        "            name = unknown_col\n",
        "        column_name = str(prefix) + \"_\" + str(name)\n",
        "        if column_name not in column_list:\n",
        "            column_name = prefix + \"_\" + unknown_col\n",
        "            \n",
        "        result_arr[index][column_idx[column_name]] = 1\n",
        "    df = pd.DataFrame(result_arr, columns=column_list)\n",
        "    return df"
      ],
      "metadata": {
        "id": "9gMyp81Qghbe"
      },
      "execution_count": 3,
      "outputs": []
    }
  ]
}