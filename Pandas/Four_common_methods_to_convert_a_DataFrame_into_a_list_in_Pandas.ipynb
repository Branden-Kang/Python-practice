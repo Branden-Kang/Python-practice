{
  "nbformat": 4,
  "nbformat_minor": 0,
  "metadata": {
    "colab": {
      "provenance": [],
      "authorship_tag": "ABX9TyNl4EE3WVLvJU7KuBUJx5mU"
    },
    "kernelspec": {
      "name": "python3",
      "display_name": "Python 3"
    },
    "language_info": {
      "name": "python"
    }
  },
  "cells": [
    {
      "cell_type": "markdown",
      "source": [
        "[Reference](https://medium.com/@tubelwj/four-common-methods-to-convert-a-dataframe-into-a-list-in-pandas-77763e29a8cf)"
      ],
      "metadata": {
        "id": "HqQ_A4qwj8rX"
      }
    },
    {
      "cell_type": "markdown",
      "source": [
        "# Sample Data Creation"
      ],
      "metadata": {
        "id": "77j1WQw0kAPO"
      }
    },
    {
      "cell_type": "code",
      "execution_count": 1,
      "metadata": {
        "colab": {
          "base_uri": "https://localhost:8080/"
        },
        "id": "xvIBZf4Mj4-J",
        "outputId": "7506a89b-a83d-4927-abe6-1357c6f24d4b"
      },
      "outputs": [
        {
          "output_type": "stream",
          "name": "stdout",
          "text": [
            "      Name  Age\n",
            "0  Tiffany   15\n",
            "1   Marsha   30\n",
            "2  William   25\n",
            "3     John   22\n",
            "4    Novee   31\n"
          ]
        }
      ],
      "source": [
        "import pandas as pd\n",
        "data = {'Name': ['Tiffany', 'Marsha', 'William', 'John', 'Novee'],\n",
        "        'Age': [15, 30, 25, 22, 31]}\n",
        "df = pd.DataFrame(data)\n",
        "print(df)"
      ]
    },
    {
      "cell_type": "markdown",
      "source": [
        "# 1) Using the `values` attribute and the `tolist()` method"
      ],
      "metadata": {
        "id": "chc91T9IkF1n"
      }
    },
    {
      "cell_type": "code",
      "source": [
        "df_list = df.values.tolist()\n",
        "print(df_list)\n",
        "print(type(df_list))"
      ],
      "metadata": {
        "colab": {
          "base_uri": "https://localhost:8080/"
        },
        "id": "6NoNPBPpkDBe",
        "outputId": "a5013999-81cc-45f1-ffec-192e5512360d"
      },
      "execution_count": 2,
      "outputs": [
        {
          "output_type": "stream",
          "name": "stdout",
          "text": [
            "[['Tiffany', 15], ['Marsha', 30], ['William', 25], ['John', 22], ['Novee', 31]]\n",
            "<class 'list'>\n"
          ]
        }
      ]
    },
    {
      "cell_type": "markdown",
      "source": [
        "# 2) Using the `to_numpy()` method and the `tolist()` method"
      ],
      "metadata": {
        "id": "XFqoSLN2kJwc"
      }
    },
    {
      "cell_type": "code",
      "source": [
        "df_list = df.to_numpy().tolist()\n",
        "print(df_list)\n",
        "print(type(df_list))"
      ],
      "metadata": {
        "colab": {
          "base_uri": "https://localhost:8080/"
        },
        "id": "GWM0JB5HkIXi",
        "outputId": "08f33125-9ac4-499f-e23d-b35581d6d1ee"
      },
      "execution_count": 3,
      "outputs": [
        {
          "output_type": "stream",
          "name": "stdout",
          "text": [
            "[['Tiffany', 15], ['Marsha', 30], ['William', 25], ['John', 22], ['Novee', 31]]\n",
            "<class 'list'>\n"
          ]
        }
      ]
    },
    {
      "cell_type": "markdown",
      "source": [
        "# 3) Using the `to_records()` method and the `tolist()` method"
      ],
      "metadata": {
        "id": "gUDqVo7PkMFB"
      }
    },
    {
      "cell_type": "code",
      "source": [
        "df_list = df.to_records().tolist()\n",
        "print(df_list)\n",
        "print(type(df_list))"
      ],
      "metadata": {
        "colab": {
          "base_uri": "https://localhost:8080/"
        },
        "id": "dy205tSskLSq",
        "outputId": "83daa28a-4c87-4a8f-ad28-56b00e66c9e5"
      },
      "execution_count": 4,
      "outputs": [
        {
          "output_type": "stream",
          "name": "stdout",
          "text": [
            "[(0, 'Tiffany', 15), (1, 'Marsha', 30), (2, 'William', 25), (3, 'John', 22), (4, 'Novee', 31)]\n",
            "<class 'list'>\n"
          ]
        }
      ]
    },
    {
      "cell_type": "markdown",
      "source": [
        "# 4) Using the `apply()` method and a lambda expression"
      ],
      "metadata": {
        "id": "eLOvZq5UkQJc"
      }
    },
    {
      "cell_type": "code",
      "source": [
        "name_list = df['Name'].apply(lambda x: x).tolist()\n",
        "print(name_list)"
      ],
      "metadata": {
        "colab": {
          "base_uri": "https://localhost:8080/"
        },
        "id": "bd35Ps36kNq7",
        "outputId": "66de9fd3-3c67-4115-acf3-881656b3727a"
      },
      "execution_count": 5,
      "outputs": [
        {
          "output_type": "stream",
          "name": "stdout",
          "text": [
            "['Tiffany', 'Marsha', 'William', 'John', 'Novee']\n"
          ]
        }
      ]
    }
  ]
}
