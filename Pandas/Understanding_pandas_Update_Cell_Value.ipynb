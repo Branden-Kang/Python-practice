{
  "nbformat": 4,
  "nbformat_minor": 0,
  "metadata": {
    "colab": {
      "provenance": [],
      "authorship_tag": "ABX9TyNjNFP9NiR/GMJmjqSQjXuP"
    },
    "kernelspec": {
      "name": "python3",
      "display_name": "Python 3"
    },
    "language_info": {
      "name": "python"
    }
  },
  "cells": [
    {
      "cell_type": "markdown",
      "source": [
        "[Reference](https://medium.com/@amit25173/understanding-pandas-update-cell-value-b35f20d3b4c9)"
      ],
      "metadata": {
        "id": "1udNhkj6T5N6"
      }
    },
    {
      "cell_type": "code",
      "execution_count": 1,
      "metadata": {
        "colab": {
          "base_uri": "https://localhost:8080/"
        },
        "id": "LTwYxNxCTtQ4",
        "outputId": "0cba8cda-2f7c-4f4f-f47f-93030c69c045"
      },
      "outputs": [
        {
          "output_type": "stream",
          "name": "stdout",
          "text": [
            "   Student  Score\n",
            "0    Alice     85\n",
            "1      Bob     90\n",
            "2  Charlie     78\n"
          ]
        }
      ],
      "source": [
        "import pandas as pd\n",
        "\n",
        "# Sample DataFrame\n",
        "data = {'Student': ['Alice', 'Bob', 'Charlie'],\n",
        "        'Score': [85, 90, 78]}\n",
        "df = pd.DataFrame(data)\n",
        "\n",
        "print(df)"
      ]
    },
    {
      "cell_type": "markdown",
      "source": [
        "# Using .loc Method"
      ],
      "metadata": {
        "id": "nbrkGiDaUASw"
      }
    },
    {
      "cell_type": "code",
      "source": [
        "# Update Alice's score to 95\n",
        "df.loc[0, 'Score'] = 95\n",
        "\n",
        "print(df)"
      ],
      "metadata": {
        "colab": {
          "base_uri": "https://localhost:8080/"
        },
        "id": "pTH1p958T94u",
        "outputId": "065eb17c-c90e-47ca-a572-efda982bb890"
      },
      "execution_count": 2,
      "outputs": [
        {
          "output_type": "stream",
          "name": "stdout",
          "text": [
            "   Student  Score\n",
            "0    Alice     95\n",
            "1      Bob     90\n",
            "2  Charlie     78\n"
          ]
        }
      ]
    },
    {
      "cell_type": "markdown",
      "source": [
        "# Using .iloc Method"
      ],
      "metadata": {
        "id": "R105wAMxUEDO"
      }
    },
    {
      "cell_type": "code",
      "source": [
        "# Update Bob's score to 92 using iloc\n",
        "df.iloc[1, 1] = 92\n",
        "\n",
        "print(df)"
      ],
      "metadata": {
        "colab": {
          "base_uri": "https://localhost:8080/"
        },
        "id": "ITS5Q9YdUChe",
        "outputId": "bb86a1ec-4d7b-4b64-e753-9b1a4b0cea4a"
      },
      "execution_count": 3,
      "outputs": [
        {
          "output_type": "stream",
          "name": "stdout",
          "text": [
            "   Student  Score\n",
            "0    Alice     95\n",
            "1      Bob     92\n",
            "2  Charlie     78\n"
          ]
        }
      ]
    },
    {
      "cell_type": "markdown",
      "source": [
        "# Using Conditions to Update Multiple Values"
      ],
      "metadata": {
        "id": "3gu7Zh3JUIX-"
      }
    },
    {
      "cell_type": "code",
      "source": [
        "# Increase scores of students below 80 by 10\n",
        "df.loc[df['Score'] < 80, 'Score'] += 10\n",
        "\n",
        "print(df)"
      ],
      "metadata": {
        "colab": {
          "base_uri": "https://localhost:8080/"
        },
        "id": "au5qVHHcUGVx",
        "outputId": "4fbcb6cc-0f29-4ea5-a354-0971cbd2c092"
      },
      "execution_count": 4,
      "outputs": [
        {
          "output_type": "stream",
          "name": "stdout",
          "text": [
            "   Student  Score\n",
            "0    Alice     95\n",
            "1      Bob     92\n",
            "2  Charlie     88\n"
          ]
        }
      ]
    },
    {
      "cell_type": "markdown",
      "source": [
        "# Using .replace Method"
      ],
      "metadata": {
        "id": "KLqhnkUNULiD"
      }
    },
    {
      "cell_type": "code",
      "source": [
        "# Replace a score of 92 with 100\n",
        "df.replace(92, 100, inplace=True)\n",
        "\n",
        "print(df)"
      ],
      "metadata": {
        "colab": {
          "base_uri": "https://localhost:8080/"
        },
        "id": "SQxL9fZtUKJJ",
        "outputId": "623e5fa9-6bbd-4cec-a0a3-9ce05464fd61"
      },
      "execution_count": 5,
      "outputs": [
        {
          "output_type": "stream",
          "name": "stdout",
          "text": [
            "   Student  Score\n",
            "0    Alice     95\n",
            "1      Bob    100\n",
            "2  Charlie     88\n"
          ]
        }
      ]
    },
    {
      "cell_type": "markdown",
      "source": [
        "# # Replace a score of 92 with 100\n",
        "df.replace(92, 100, inplace=True)\n",
        "\n",
        "print(df)"
      ],
      "metadata": {
        "id": "D5cjFP2oUPc6"
      }
    },
    {
      "cell_type": "code",
      "source": [
        "# Update scores by adding 5%\n",
        "df['Score'] = df['Score'].apply(lambda x: x * 1.05)\n",
        "\n",
        "print(df)"
      ],
      "metadata": {
        "colab": {
          "base_uri": "https://localhost:8080/"
        },
        "id": "tI20ndd5UODb",
        "outputId": "06793758-bf08-4914-9bb1-0a2c942a2d33"
      },
      "execution_count": 6,
      "outputs": [
        {
          "output_type": "stream",
          "name": "stdout",
          "text": [
            "   Student   Score\n",
            "0    Alice   99.75\n",
            "1      Bob  105.00\n",
            "2  Charlie   92.40\n"
          ]
        }
      ]
    }
  ]
}
