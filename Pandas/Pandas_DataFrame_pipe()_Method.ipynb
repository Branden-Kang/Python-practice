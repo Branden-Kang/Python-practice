{
  "nbformat": 4,
  "nbformat_minor": 0,
  "metadata": {
    "colab": {
      "provenance": [],
      "authorship_tag": "ABX9TyMaa7PyTOH4L2XQ908mz60g"
    },
    "kernelspec": {
      "name": "python3",
      "display_name": "Python 3"
    },
    "language_info": {
      "name": "python"
    }
  },
  "cells": [
    {
      "cell_type": "markdown",
      "source": [
        "[Reference](https://towardsdev.com/pandas-dataframe-pipe-method-31f78a5f86a7)"
      ],
      "metadata": {
        "id": "PrnCdlke34sp"
      }
    },
    {
      "cell_type": "code",
      "execution_count": 2,
      "metadata": {
        "colab": {
          "base_uri": "https://localhost:8080/"
        },
        "id": "1QYl8yoJ3ig5",
        "outputId": "beba8f49-0d04-45eb-b209-2e019098de8c"
      },
      "outputs": [
        {
          "output_type": "stream",
          "name": "stderr",
          "text": [
            "/usr/local/lib/python3.8/dist-packages/pandas/core/arraylike.py:364: RuntimeWarning: divide by zero encountered in log\n",
            "  result = getattr(ufunc, method)(*inputs, **kwargs)\n",
            "/usr/local/lib/python3.8/dist-packages/pandas/core/arraylike.py:364: RuntimeWarning: invalid value encountered in log\n",
            "  result = getattr(ufunc, method)(*inputs, **kwargs)\n"
          ]
        },
        {
          "output_type": "execute_result",
          "data": {
            "text/plain": [
              "0         NaN\n",
              "1         NaN\n",
              "2        -inf\n",
              "3   -0.458145\n",
              "4    0.235002\n",
              "Name: x, dtype: float64"
            ]
          },
          "metadata": {},
          "execution_count": 2
        }
      ],
      "source": [
        "import pandas as pd\n",
        "import numpy as np\n",
        "\n",
        "def standardize(col):\n",
        "    return (col - col.mean()) / col.std()\n",
        "\n",
        "def log_transform(col):\n",
        "    return np.log(col)\n",
        "\n",
        "df = pd.DataFrame({'x': [1, 2, 3, 4, 5]})\n",
        "\n",
        "df['x'].pipe(standardize).pipe(log_transform)"
      ]
    },
    {
      "cell_type": "code",
      "source": [
        "import pandas as pd\n",
        "\n",
        "def scale(col, factor):\n",
        "    return col * factor\n",
        "\n",
        "df = pd.DataFrame({'x': [1, 2, 3, 4, 5]})\n",
        "\n",
        "df['x'].pipe(scale, factor=2)"
      ],
      "metadata": {
        "colab": {
          "base_uri": "https://localhost:8080/"
        },
        "id": "vxLDjNq937zX",
        "outputId": "205dc7b1-360d-41e1-9b1a-f4b895141742"
      },
      "execution_count": 3,
      "outputs": [
        {
          "output_type": "execute_result",
          "data": {
            "text/plain": [
              "0     2\n",
              "1     4\n",
              "2     6\n",
              "3     8\n",
              "4    10\n",
              "Name: x, dtype: int64"
            ]
          },
          "metadata": {},
          "execution_count": 3
        }
      ]
    }
  ]
}
