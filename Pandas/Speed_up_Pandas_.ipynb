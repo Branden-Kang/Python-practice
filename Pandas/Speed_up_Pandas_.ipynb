{
  "nbformat": 4,
  "nbformat_minor": 0,
  "metadata": {
    "colab": {
      "name": "Speed up Pandas .ipynb",
      "provenance": [],
      "authorship_tag": "ABX9TyPziOJ7HT0bcKO029L4KBwg"
    },
    "kernelspec": {
      "name": "python3",
      "display_name": "Python 3"
    }
  },
  "cells": [
    {
      "cell_type": "markdown",
      "metadata": {
        "id": "MOcgV1eX3z1B",
        "colab_type": "text"
      },
      "source": [
        "[Reference](https://medium.com/swlh/6-ways-to-significantly-speed-up-pandas-with-a-couple-lines-of-code-part-1-2c2dfb0de2300)"
      ]
    },
    {
      "cell_type": "code",
      "metadata": {
        "id": "NzjYUOHI3xAH",
        "colab_type": "code",
        "colab": {}
      },
      "source": [
        "import pandas as pd\n",
        "import numpy as np\n",
        "import numba\n",
        "\n",
        "# create a table of 100,000 rows and 4 columns filled with random numbers from 0 to 100\n",
        "df = pd.DataFrame(np.random.randint(0,100,size=(100000, 4)),columns=['a', 'b', 'c', 'd'])\n",
        "\n",
        "# function for creating new col\n",
        "def multiply(x):\n",
        "    return x * 5\n",
        "    \n",
        "# optimized version of this function\n",
        "@numba.vectorize\n",
        "def multiply_numba(x):\n",
        "    return x * 5"
      ],
      "execution_count": 1,
      "outputs": []
    },
    {
      "cell_type": "code",
      "metadata": {
        "id": "EhjilQfu_ZxY",
        "colab_type": "code",
        "colab": {
          "base_uri": "https://localhost:8080/",
          "height": 34
        },
        "outputId": "3db2ebed-e17b-4088-e73a-1b4183891ddf"
      },
      "source": [
        "%timeit df['new_col'] = df['a'].apply(multiply)"
      ],
      "execution_count": 2,
      "outputs": [
        {
          "output_type": "stream",
          "text": [
            "10 loops, best of 3: 33.8 ms per loop\n"
          ],
          "name": "stdout"
        }
      ]
    },
    {
      "cell_type": "code",
      "metadata": {
        "id": "kvMsEtAB_b8B",
        "colab_type": "code",
        "colab": {
          "base_uri": "https://localhost:8080/",
          "height": 71
        },
        "outputId": "633f1c83-611b-4299-e4de-e8a5f4cc7a74"
      },
      "source": [
        "%timeit df['new_col'] = df['a'] * 5"
      ],
      "execution_count": 3,
      "outputs": [
        {
          "output_type": "stream",
          "text": [
            "The slowest run took 26.88 times longer than the fastest. This could mean that an intermediate result is being cached.\n",
            "1000 loops, best of 3: 992 µs per loop\n"
          ],
          "name": "stdout"
        }
      ]
    },
    {
      "cell_type": "code",
      "metadata": {
        "id": "ORwY4z9R_eCH",
        "colab_type": "code",
        "colab": {
          "base_uri": "https://localhost:8080/",
          "height": 71
        },
        "outputId": "b8147138-5146-4788-c859-35ca9806a8bb"
      },
      "source": [
        "%timeit df['new_col'] = multiply_numba(df['a'].to_numpy())"
      ],
      "execution_count": 4,
      "outputs": [
        {
          "output_type": "stream",
          "text": [
            "The slowest run took 311.47 times longer than the fastest. This could mean that an intermediate result is being cached.\n",
            "1 loop, best of 3: 721 µs per loop\n"
          ],
          "name": "stdout"
        }
      ]
    },
    {
      "cell_type": "code",
      "metadata": {
        "id": "oSWak9te37T8",
        "colab_type": "code",
        "colab": {}
      },
      "source": [
        "# square the values and take their mean\n",
        "def square_mean(row):\n",
        "    row = np.power(row, 2)\n",
        "    return np.mean(row)\n",
        "# usage:\n",
        "# df['new_col'] = df.apply(square_mean, axis=1)# numba does not know how to work with pandas primitives (Dataframe, Series, etc.)\n",
        "# so that we use a two-dimensional numpy array\n",
        "@numba.njit\n",
        "def square_mean_numba(arr):\n",
        "    res = np.empty(arr.shape[0])\n",
        "    arr = np.power(arr, 2)\n",
        "    for i in range(arr.shape[0]):\n",
        "        res[i] = np.mean(arr[i])\n",
        "    return res\n",
        "# usage:\n",
        "# df['new_col'] = square_mean_numba(df.to_numpy())"
      ],
      "execution_count": 5,
      "outputs": []
    },
    {
      "cell_type": "code",
      "metadata": {
        "id": "gPzd8sLLAFLb",
        "colab_type": "code",
        "colab": {
          "base_uri": "https://localhost:8080/",
          "height": 156
        },
        "outputId": "4f6c6e1d-652e-4868-b6a3-24e047c0620f"
      },
      "source": [
        "import os\n",
        "from google.colab import drive\n",
        "drive.mount('/content/gdrive',force_remount=True)\n",
        "!pwd\n",
        "os.chdir('gdrive/My Drive/Colab Notebooks/')\n",
        "!pwd"
      ],
      "execution_count": 6,
      "outputs": [
        {
          "output_type": "stream",
          "text": [
            "Go to this URL in a browser: https://accounts.google.com/o/oauth2/auth?client_id=947318989803-6bn6qk8qdgf4n4g3pfee6491hc0brc4i.apps.googleusercontent.com&redirect_uri=urn%3aietf%3awg%3aoauth%3a2.0%3aoob&response_type=code&scope=email%20https%3a%2f%2fwww.googleapis.com%2fauth%2fdocs.test%20https%3a%2f%2fwww.googleapis.com%2fauth%2fdrive%20https%3a%2f%2fwww.googleapis.com%2fauth%2fdrive.photos.readonly%20https%3a%2f%2fwww.googleapis.com%2fauth%2fpeopleapi.readonly\n",
            "\n",
            "Enter your authorization code:\n",
            "··········\n",
            "Mounted at /content/gdrive\n",
            "/content\n",
            "/content/gdrive/My Drive/Colab Notebooks\n"
          ],
          "name": "stdout"
        }
      ]
    },
    {
      "cell_type": "code",
      "metadata": {
        "id": "u1eK2Jwd_vam",
        "colab_type": "code",
        "colab": {
          "base_uri": "https://localhost:8080/",
          "height": 204
        },
        "outputId": "b0c634eb-d3d8-46e4-93b8-d1b0cb9d2e0d"
      },
      "source": [
        "df = pd.read_csv('abcnews-date-text.csv', header=0)\n",
        "# increase the dataset 10 times, adding copies to the end\n",
        "df = pd.concat([df] * 10)\n",
        "df.head()"
      ],
      "execution_count": 7,
      "outputs": [
        {
          "output_type": "execute_result",
          "data": {
            "text/html": [
              "<div>\n",
              "<style scoped>\n",
              "    .dataframe tbody tr th:only-of-type {\n",
              "        vertical-align: middle;\n",
              "    }\n",
              "\n",
              "    .dataframe tbody tr th {\n",
              "        vertical-align: top;\n",
              "    }\n",
              "\n",
              "    .dataframe thead th {\n",
              "        text-align: right;\n",
              "    }\n",
              "</style>\n",
              "<table border=\"1\" class=\"dataframe\">\n",
              "  <thead>\n",
              "    <tr style=\"text-align: right;\">\n",
              "      <th></th>\n",
              "      <th>publish_date</th>\n",
              "      <th>headline_text</th>\n",
              "    </tr>\n",
              "  </thead>\n",
              "  <tbody>\n",
              "    <tr>\n",
              "      <th>0</th>\n",
              "      <td>20030219</td>\n",
              "      <td>aba decides against community broadcasting lic...</td>\n",
              "    </tr>\n",
              "    <tr>\n",
              "      <th>1</th>\n",
              "      <td>20030219</td>\n",
              "      <td>act fire witnesses must be aware of defamation</td>\n",
              "    </tr>\n",
              "    <tr>\n",
              "      <th>2</th>\n",
              "      <td>20030219</td>\n",
              "      <td>a g calls for infrastructure protection summit</td>\n",
              "    </tr>\n",
              "    <tr>\n",
              "      <th>3</th>\n",
              "      <td>20030219</td>\n",
              "      <td>air nz staff in aust strike for pay rise</td>\n",
              "    </tr>\n",
              "    <tr>\n",
              "      <th>4</th>\n",
              "      <td>20030219</td>\n",
              "      <td>air nz strike to affect australian travellers</td>\n",
              "    </tr>\n",
              "  </tbody>\n",
              "</table>\n",
              "</div>"
            ],
            "text/plain": [
              "   publish_date                                      headline_text\n",
              "0      20030219  aba decides against community broadcasting lic...\n",
              "1      20030219     act fire witnesses must be aware of defamation\n",
              "2      20030219     a g calls for infrastructure protection summit\n",
              "3      20030219           air nz staff in aust strike for pay rise\n",
              "4      20030219      air nz strike to affect australian travellers"
            ]
          },
          "metadata": {
            "tags": []
          },
          "execution_count": 7
        }
      ]
    },
    {
      "cell_type": "code",
      "metadata": {
        "id": "OBpHzEdnAMfn",
        "colab_type": "code",
        "colab": {}
      },
      "source": [
        "# calculate the average word length in the title\n",
        "def mean_word_len(line):\n",
        "    # this cycle just complicates the task\n",
        "    for i in range(6):\n",
        "        words = [len(i) for i in line.split()]\n",
        "        res = sum(words) / len(words)\n",
        "    return res\n",
        "def compute_avg_word(df):\n",
        "    return df['headline_text'].apply(mean_word_len)"
      ],
      "execution_count": 8,
      "outputs": []
    },
    {
      "cell_type": "code",
      "metadata": {
        "id": "lw07ruAoAQe0",
        "colab_type": "code",
        "colab": {}
      },
      "source": [
        "from multiprocessing import Pool\n",
        "\n",
        "# I have 4 cores\n",
        "n_cores = 4\n",
        "pool = Pool(n_cores)\n",
        "def apply_parallel(df, func):\n",
        "    # split dataframe\n",
        "    df_split = np.array_split(df, n_cores)\n",
        "    # calculate metrics for each and concatenate\n",
        "    df = pd.concat(pool.map(func, df_split))\n",
        "    return df"
      ],
      "execution_count": 9,
      "outputs": []
    },
    {
      "cell_type": "code",
      "metadata": {
        "id": "O_jJjPDaAVpS",
        "colab_type": "code",
        "colab": {}
      },
      "source": [
        "df['new_col'] = apply_parallel(df, compute_avg_word)"
      ],
      "execution_count": 10,
      "outputs": []
    },
    {
      "cell_type": "code",
      "metadata": {
        "id": "09vL-KirAd2R",
        "colab_type": "code",
        "colab": {
          "base_uri": "https://localhost:8080/",
          "height": 241
        },
        "outputId": "04e13e4b-f7b8-4646-a6f6-c3b01ff47274"
      },
      "source": [
        "!pip install pandarallel\n",
        "from pandarallel import pandarallel\n",
        "# pandarallel will determine how many cores you have, but you can specify it yourself\n",
        "pandarallel.initialize()"
      ],
      "execution_count": 12,
      "outputs": [
        {
          "output_type": "stream",
          "text": [
            "Collecting pandarallel\n",
            "  Downloading https://files.pythonhosted.org/packages/99/06/bd582106766c483d6da51c05b0cdd7cb61894bb843c7ecc4789032232327/pandarallel-1.4.8.tar.gz\n",
            "Requirement already satisfied: dill in /usr/local/lib/python3.6/dist-packages (from pandarallel) (0.3.2)\n",
            "Building wheels for collected packages: pandarallel\n",
            "  Building wheel for pandarallel (setup.py) ... \u001b[?25l\u001b[?25hdone\n",
            "  Created wheel for pandarallel: filename=pandarallel-1.4.8-cp36-none-any.whl size=16112 sha256=c139d59780915beb394aec49c98a68adae9015976fa541e782e22f0d6f97d30c\n",
            "  Stored in directory: /root/.cache/pip/wheels/75/a2/85/b45be2e86d86e9ec5da6d05c4b994d18c81abe76e3f39415aa\n",
            "Successfully built pandarallel\n",
            "Installing collected packages: pandarallel\n",
            "Successfully installed pandarallel-1.4.8\n",
            "INFO: Pandarallel will run on 2 workers.\n",
            "INFO: Pandarallel will use Memory file system to transfer data between the main process and workers.\n"
          ],
          "name": "stdout"
        }
      ]
    },
    {
      "cell_type": "code",
      "metadata": {
        "id": "OK0a2RFvAjpO",
        "colab_type": "code",
        "colab": {
          "base_uri": "https://localhost:8080/",
          "height": 221
        },
        "outputId": "eea750e3-622b-47da-86bc-22a094717859"
      },
      "source": [
        "df['headline_text'].parallel_apply(mean_word_len)"
      ],
      "execution_count": 13,
      "outputs": [
        {
          "output_type": "execute_result",
          "data": {
            "text/plain": [
              "0          7.500000\n",
              "1          4.875000\n",
              "2          5.714286\n",
              "3          3.555556\n",
              "4          5.571429\n",
              "             ...   \n",
              "1186013    6.142857\n",
              "1186014    5.111111\n",
              "1186015    5.250000\n",
              "1186016    3.400000\n",
              "1186017    6.714286\n",
              "Name: headline_text, Length: 11860180, dtype: float64"
            ]
          },
          "metadata": {
            "tags": []
          },
          "execution_count": 13
        }
      ]
    }
  ]
}