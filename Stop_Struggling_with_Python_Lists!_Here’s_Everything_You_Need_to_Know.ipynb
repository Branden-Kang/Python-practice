{
  "nbformat": 4,
  "nbformat_minor": 0,
  "metadata": {
    "colab": {
      "provenance": [],
      "authorship_tag": "ABX9TyNbgLKEIcGuqoe6mVZx0wY2"
    },
    "kernelspec": {
      "name": "python3",
      "display_name": "Python 3"
    },
    "language_info": {
      "name": "python"
    }
  },
  "cells": [
    {
      "cell_type": "markdown",
      "source": [
        "[Reference](https://medium.com/cloud-for-everybody/stop-struggling-with-python-lists-heres-everything-you-need-to-know-5b092ba7a484)"
      ],
      "metadata": {
        "id": "WvO8Ce8ijHgL"
      }
    },
    {
      "cell_type": "code",
      "execution_count": 1,
      "metadata": {
        "id": "tItTCNsQjDAj"
      },
      "outputs": [],
      "source": [
        "fruits = [\"guava\", \"apple\", \"orange\", \"dates\", \"grapes\"]\n",
        "numbers = [10, 20, 30, 40, 50]\n",
        "mixed = [10, \"hello\", True, 0.25]"
      ]
    },
    {
      "cell_type": "markdown",
      "source": [
        "# 1. Adding Items to a List\n",
        "## 1.1. Using append( ) Method"
      ],
      "metadata": {
        "id": "l50KL3EwjNUX"
      }
    },
    {
      "cell_type": "code",
      "source": [
        "tasks = [\"Buy groceries\", \"Call mom\"]\n",
        "tasks.append(\"Complete Python project\")\n",
        "\n",
        "print(tasks)"
      ],
      "metadata": {
        "colab": {
          "base_uri": "https://localhost:8080/"
        },
        "id": "vlF8b9KIjMWp",
        "outputId": "0659f447-5050-43b0-c02f-4b9b6c3ddeae"
      },
      "execution_count": 2,
      "outputs": [
        {
          "output_type": "stream",
          "name": "stdout",
          "text": [
            "['Buy groceries', 'Call mom', 'Complete Python project']\n"
          ]
        }
      ]
    },
    {
      "cell_type": "markdown",
      "source": [
        "## 1.2. Using extend( ) Method"
      ],
      "metadata": {
        "id": "-Uyoin8EjQgs"
      }
    },
    {
      "cell_type": "code",
      "source": [
        "tasks = [\"Buy groceries\", \"Call mom\"]\n",
        "more_tasks = [\"Read a book\", \"Exercise\"]\n",
        "\n",
        "tasks.extend(more_tasks)\n",
        "\n",
        "print(tasks)"
      ],
      "metadata": {
        "colab": {
          "base_uri": "https://localhost:8080/"
        },
        "id": "o2cj34y8jPkf",
        "outputId": "e4ba986a-40da-46f9-e159-bec38ae1e12d"
      },
      "execution_count": 3,
      "outputs": [
        {
          "output_type": "stream",
          "name": "stdout",
          "text": [
            "['Buy groceries', 'Call mom', 'Read a book', 'Exercise']\n"
          ]
        }
      ]
    },
    {
      "cell_type": "code",
      "source": [
        "tasks = [\"Buy groceries\", \"Call mom\"]\n",
        "more_tasks = [\"Read a book\", \"Exercise\"]\n",
        "tasks.append(more_tasks)\n",
        "\n",
        "print(tasks)"
      ],
      "metadata": {
        "colab": {
          "base_uri": "https://localhost:8080/"
        },
        "id": "MRTimALkjR7K",
        "outputId": "b98f9590-f4ba-404f-877c-8616840f92ce"
      },
      "execution_count": 4,
      "outputs": [
        {
          "output_type": "stream",
          "name": "stdout",
          "text": [
            "['Buy groceries', 'Call mom', ['Read a book', 'Exercise']]\n"
          ]
        }
      ]
    },
    {
      "cell_type": "markdown",
      "source": [
        "# 2. Removing Items from a List\n",
        "## 2.1. Using pop( ) Method"
      ],
      "metadata": {
        "id": "IGNB-38JjWhx"
      }
    },
    {
      "cell_type": "code",
      "source": [
        "tasks = [\"Buy groceries\", \"Call mom\", \"Read a book\"]\n",
        "tasks.pop(1)\n",
        "\n",
        "print(tasks)"
      ],
      "metadata": {
        "colab": {
          "base_uri": "https://localhost:8080/"
        },
        "id": "VG-9ABjtjTd1",
        "outputId": "1db03360-63a2-43ec-a494-1cbee0ab0b35"
      },
      "execution_count": 5,
      "outputs": [
        {
          "output_type": "stream",
          "name": "stdout",
          "text": [
            "['Buy groceries', 'Read a book']\n"
          ]
        }
      ]
    },
    {
      "cell_type": "code",
      "source": [
        "tasks = [\"Buy groceries\", \"Call mom\", \"Read a book\"]\n",
        "tasks.pop()\n",
        "\n",
        "print(tasks)"
      ],
      "metadata": {
        "colab": {
          "base_uri": "https://localhost:8080/"
        },
        "id": "kMCniWBijYqW",
        "outputId": "77b13c1a-8b98-4e62-85ff-b292db8944d9"
      },
      "execution_count": 6,
      "outputs": [
        {
          "output_type": "stream",
          "name": "stdout",
          "text": [
            "['Buy groceries', 'Call mom']\n"
          ]
        }
      ]
    },
    {
      "cell_type": "markdown",
      "source": [
        "## 2.2. Using remove( ) Method"
      ],
      "metadata": {
        "id": "7AQa5kbYjb1I"
      }
    },
    {
      "cell_type": "code",
      "source": [
        "tasks = [\"Buy groceries\", \"Call mom\", \"Read a book\"]\n",
        "tasks.remove(\"Call mom\")\n",
        "\n",
        "print(tasks)"
      ],
      "metadata": {
        "colab": {
          "base_uri": "https://localhost:8080/"
        },
        "id": "f6R9Cxk4jaIW",
        "outputId": "9c6341e9-67da-47e7-a76e-ff69eb99bea0"
      },
      "execution_count": 7,
      "outputs": [
        {
          "output_type": "stream",
          "name": "stdout",
          "text": [
            "['Buy groceries', 'Read a book']\n"
          ]
        }
      ]
    },
    {
      "cell_type": "markdown",
      "source": [
        "# 3. Sorting a List\n",
        "## 3.1. Using sort() Method"
      ],
      "metadata": {
        "id": "zayXVUw-jeyE"
      }
    },
    {
      "cell_type": "code",
      "source": [
        "numbers = [5, 2, 9, 1, 5, 6]\n",
        "numbers.sort()\n",
        "\n",
        "print(numbers)"
      ],
      "metadata": {
        "colab": {
          "base_uri": "https://localhost:8080/"
        },
        "id": "Bydu_RScjdmw",
        "outputId": "68c29ef3-1b4d-4b57-b774-ae6104d9d331"
      },
      "execution_count": 8,
      "outputs": [
        {
          "output_type": "stream",
          "name": "stdout",
          "text": [
            "[1, 2, 5, 5, 6, 9]\n"
          ]
        }
      ]
    },
    {
      "cell_type": "code",
      "source": [
        "numbers = [5, 2, 9, 1, 5, 6]\n",
        "numbers.sort(reverse=True)\n",
        "\n",
        "print(numbers)"
      ],
      "metadata": {
        "colab": {
          "base_uri": "https://localhost:8080/"
        },
        "id": "KVN9c15ljgzX",
        "outputId": "06cb6110-d20e-454d-9e44-479fbdac3123"
      },
      "execution_count": 9,
      "outputs": [
        {
          "output_type": "stream",
          "name": "stdout",
          "text": [
            "[9, 6, 5, 5, 2, 1]\n"
          ]
        }
      ]
    },
    {
      "cell_type": "markdown",
      "source": [
        "## 3.2. Using sorted() Method"
      ],
      "metadata": {
        "id": "VT-U6l3uji6_"
      }
    },
    {
      "cell_type": "code",
      "source": [
        "numbers = [5, 2, 9, 1, 5, 6]\n",
        "numbers.sort(reverse=True)\n",
        "\n",
        "print(numbers)"
      ],
      "metadata": {
        "colab": {
          "base_uri": "https://localhost:8080/"
        },
        "id": "eSsud6BgjiCj",
        "outputId": "f6052a97-bfe5-476d-9a99-fa655e51e1db"
      },
      "execution_count": 10,
      "outputs": [
        {
          "output_type": "stream",
          "name": "stdout",
          "text": [
            "[9, 6, 5, 5, 2, 1]\n"
          ]
        }
      ]
    },
    {
      "cell_type": "markdown",
      "source": [
        "# 4. Reversing the Order of a List\n",
        "## 4.1. Using reverse( ) Method"
      ],
      "metadata": {
        "id": "LoF_M2JxjqOk"
      }
    },
    {
      "cell_type": "code",
      "source": [
        "numbers = [1, 2, 3, 4, 5]\n",
        "numbers.reverse()\n",
        "\n",
        "print(numbers)"
      ],
      "metadata": {
        "colab": {
          "base_uri": "https://localhost:8080/"
        },
        "id": "UlLklN-8joMO",
        "outputId": "eecb0540-674d-4792-ba81-d34adee6b784"
      },
      "execution_count": 11,
      "outputs": [
        {
          "output_type": "stream",
          "name": "stdout",
          "text": [
            "[5, 4, 3, 2, 1]\n"
          ]
        }
      ]
    },
    {
      "cell_type": "markdown",
      "source": [
        "# 5. Clearing a List\n",
        "## 5.1. Using clear( ) Method"
      ],
      "metadata": {
        "id": "XI4bByQBjtTt"
      }
    },
    {
      "cell_type": "code",
      "source": [
        "tasks = [\"Buy groceries\", \"Call mom\", \"Read a book\"]\n",
        "tasks.clear()\n",
        "\n",
        "print(tasks)"
      ],
      "metadata": {
        "colab": {
          "base_uri": "https://localhost:8080/"
        },
        "id": "d4cozZ48jsEL",
        "outputId": "c3a8f49c-4877-4cc1-8de2-564db6b1729e"
      },
      "execution_count": 12,
      "outputs": [
        {
          "output_type": "stream",
          "name": "stdout",
          "text": [
            "[]\n"
          ]
        }
      ]
    },
    {
      "cell_type": "markdown",
      "source": [
        "# 6. Inserting an Item at a Specific Position\n",
        "## 6.1. Using insert( ) Method"
      ],
      "metadata": {
        "id": "V1MXiWs4jyyR"
      }
    },
    {
      "cell_type": "code",
      "source": [
        "tasks = [\"Buy groceries\", \"Call mom\", \"Read a book\"]\n",
        "tasks.insert(1, \"Play with bob\")\n",
        "\n",
        "print(tasks)"
      ],
      "metadata": {
        "colab": {
          "base_uri": "https://localhost:8080/"
        },
        "id": "6EiEG_KBjxeV",
        "outputId": "ba4209fc-5198-4e47-d560-41404068314b"
      },
      "execution_count": 13,
      "outputs": [
        {
          "output_type": "stream",
          "name": "stdout",
          "text": [
            "['Buy groceries', 'Play with bob', 'Call mom', 'Read a book']\n"
          ]
        }
      ]
    },
    {
      "cell_type": "markdown",
      "source": [
        "# 7. Finding the Index of an Item\n",
        "## 7.1. Using index ( ) Method"
      ],
      "metadata": {
        "id": "NnB40cP4j19S"
      }
    },
    {
      "cell_type": "code",
      "source": [
        "tasks = [\"Buy groceries\", \"Call mom\", \"Read a book\"]\n",
        "index_of_Call_mom = tasks.index(\"Call mom\")\n",
        "\n",
        "print(index_of_Call_mom)"
      ],
      "metadata": {
        "colab": {
          "base_uri": "https://localhost:8080/"
        },
        "id": "GZV8uAsFj0xy",
        "outputId": "21e0930d-0474-4c0e-ba4c-d59b49bd1c35"
      },
      "execution_count": 14,
      "outputs": [
        {
          "output_type": "stream",
          "name": "stdout",
          "text": [
            "1\n"
          ]
        }
      ]
    },
    {
      "cell_type": "markdown",
      "source": [
        "# 8. Removing Duplicate Values\n",
        "## 8.1. Using set( ) Method"
      ],
      "metadata": {
        "id": "i_QBF2Mhj4dq"
      }
    },
    {
      "cell_type": "code",
      "source": [
        "numbers = [1, 2, 2, 3, 3, 4]\n",
        "unique_numbers = list(set(numbers))\n",
        "\n",
        "print(unique_numbers)"
      ],
      "metadata": {
        "colab": {
          "base_uri": "https://localhost:8080/"
        },
        "id": "0YKdZUkmj3jN",
        "outputId": "00087de5-dd80-4d1c-c939-f21eee63c871"
      },
      "execution_count": 15,
      "outputs": [
        {
          "output_type": "stream",
          "name": "stdout",
          "text": [
            "[1, 2, 3, 4]\n"
          ]
        }
      ]
    },
    {
      "cell_type": "markdown",
      "source": [
        "# 9. Copying a List\n",
        "## 9.1. Using copy( ) Method"
      ],
      "metadata": {
        "id": "Yqme160Ij7O8"
      }
    },
    {
      "cell_type": "code",
      "source": [
        "original_list = [\"Buy groceries\", \"Call mom\", \"Read a book\"]\n",
        "copied_list = original_list.copy()\n",
        "\n",
        "print(copied_list)"
      ],
      "metadata": {
        "colab": {
          "base_uri": "https://localhost:8080/"
        },
        "id": "veOios9tj6Oe",
        "outputId": "8bbbfdc9-3577-4b47-82cb-cc552bed3ced"
      },
      "execution_count": 16,
      "outputs": [
        {
          "output_type": "stream",
          "name": "stdout",
          "text": [
            "['Buy groceries', 'Call mom', 'Read a book']\n"
          ]
        }
      ]
    },
    {
      "cell_type": "markdown",
      "source": [
        "# 10. Checking if an Item Exists in a List"
      ],
      "metadata": {
        "id": "zCXZ-fBBj_H5"
      }
    },
    {
      "cell_type": "code",
      "source": [
        "tasks = [\"Buy groceries\", \"Call mom\", \"Read a book\"]\n",
        "\n",
        "if \"Call mom\" in tasks:\n",
        "    print(\"You still need to call mom!\")"
      ],
      "metadata": {
        "colab": {
          "base_uri": "https://localhost:8080/"
        },
        "id": "zHhrsthNj989",
        "outputId": "b378f0e0-97ed-4a8e-c6a1-6b957247b7eb"
      },
      "execution_count": 17,
      "outputs": [
        {
          "output_type": "stream",
          "name": "stdout",
          "text": [
            "You still need to call mom!\n"
          ]
        }
      ]
    }
  ]
}