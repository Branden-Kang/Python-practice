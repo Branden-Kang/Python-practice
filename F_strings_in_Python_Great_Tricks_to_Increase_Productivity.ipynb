{
  "nbformat": 4,
  "nbformat_minor": 0,
  "metadata": {
    "colab": {
      "name": "F-strings in Python: Great Tricks to Increase Productivity.ipynb",
      "provenance": [],
      "authorship_tag": "ABX9TyN9DIZec7SWCjDaEa749qjx"
    },
    "kernelspec": {
      "name": "python3",
      "display_name": "Python 3"
    },
    "language_info": {
      "name": "python"
    }
  },
  "cells": [
    {
      "cell_type": "markdown",
      "source": [
        "[Reference](https://medium.com/geekculture/f-strings-in-python-great-tricks-to-increase-productivity-796407206f35)"
      ],
      "metadata": {
        "id": "phf7Qsdd-xpo"
      }
    },
    {
      "cell_type": "markdown",
      "source": [
        "# Basic syntax\n"
      ],
      "metadata": {
        "id": "JVCm155C_cmn"
      }
    },
    {
      "cell_type": "code",
      "source": [
        "import datetime"
      ],
      "metadata": {
        "id": "qrorBCOz_DJt"
      },
      "execution_count": 2,
      "outputs": []
    },
    {
      "cell_type": "code",
      "execution_count": 4,
      "metadata": {
        "colab": {
          "base_uri": "https://localhost:8080/"
        },
        "id": "eqvXfrIh-vTo",
        "outputId": "7dbc3a9d-3cb5-49c6-b68e-ff232378710b"
      },
      "outputs": [
        {
          "output_type": "stream",
          "name": "stdout",
          "text": [
            "The randomly genereated numbr is 1\n",
            "The randomly genereated numbr is 2\n",
            "The randomly genereated numbr is 1\n",
            "The randomly genereated numbr is 0\n",
            "The randomly genereated numbr is 2\n",
            "The randomly genereated numbr is 4\n",
            "The randomly genereated numbr is 2\n",
            "The randomly genereated numbr is 5\n",
            "The randomly genereated numbr is 9\n",
            "The randomly genereated numbr is 3\n"
          ]
        }
      ],
      "source": [
        "today = datetime.date.today()\n",
        "f\"Good moring, this is a string literal created on {today}\"\n",
        "\n",
        "from random import randint\n",
        "for number in range(1, 11):\n",
        "    print(f\"The randomly genereated numbr is {randint(0,number)}\")"
      ]
    },
    {
      "cell_type": "markdown",
      "source": [
        "# The equal sign\n"
      ],
      "metadata": {
        "id": "_W8RcxO3_bOc"
      }
    },
    {
      "cell_type": "code",
      "source": [
        "name = \"Branden\"\n",
        "address=\"New York\"\n",
        "print(f\"User data: {name=}, {address=}\")"
      ],
      "metadata": {
        "id": "hg3FWeWJ-_2_"
      },
      "execution_count": 6,
      "outputs": []
    },
    {
      "cell_type": "markdown",
      "source": [
        "# Formatting\n"
      ],
      "metadata": {
        "id": "gOlVDT_W_d-i"
      }
    },
    {
      "cell_type": "code",
      "source": [
        "print(f\"Good morning this is an example created on {today=}\")"
      ],
      "metadata": {
        "id": "Bkq1W7SW_SUP"
      },
      "execution_count": 8,
      "outputs": []
    },
    {
      "cell_type": "code",
      "source": [
        "print(f\"Good morning this is an example created on {today=:%d-%m-%Y}\")"
      ],
      "metadata": {
        "id": "KfIfOrrk_iqG"
      },
      "execution_count": 10,
      "outputs": []
    },
    {
      "cell_type": "code",
      "source": [
        "import decimal"
      ],
      "metadata": {
        "id": "HHF4MKb5AX-v"
      },
      "execution_count": 17,
      "outputs": []
    },
    {
      "cell_type": "code",
      "source": [
        "number = 14.123123123\n",
        "print(f\"{number=:.2f} rounded to 2 decimal places\")"
      ],
      "metadata": {
        "id": "L6rfFEd2AbTe"
      },
      "execution_count": 20,
      "outputs": []
    },
    {
      "cell_type": "code",
      "source": [
        "width = 10\n",
        "precision = 4\n",
        "number = decimal.Decimal(\"33.1234123\")\n",
        "f\"result: {number:.{precision}}\""
      ],
      "metadata": {
        "colab": {
          "base_uri": "https://localhost:8080/",
          "height": 37
        },
        "id": "HTO1LtTiAL5G",
        "outputId": "4f194582-94db-4071-84a7-891e11f7b1f2"
      },
      "execution_count": 18,
      "outputs": [
        {
          "output_type": "execute_result",
          "data": {
            "application/vnd.google.colaboratory.intrinsic+json": {
              "type": "string"
            },
            "text/plain": [
              "'result: 33.12'"
            ]
          },
          "metadata": {},
          "execution_count": 18
        }
      ]
    },
    {
      "cell_type": "code",
      "source": [
        "number = 33.1231241\n",
        "print(f\"{number:,.2%} as percentage rounded to 2 decimal places\")"
      ],
      "metadata": {
        "colab": {
          "base_uri": "https://localhost:8080/"
        },
        "id": "D571lWaHAFio",
        "outputId": "ceabe2bb-9024-47c9-d411-29dc52483765"
      },
      "execution_count": 15,
      "outputs": [
        {
          "output_type": "stream",
          "name": "stdout",
          "text": [
            "3,312.31% as percentage rounded to 2 decimal places\n"
          ]
        }
      ]
    },
    {
      "cell_type": "code",
      "source": [
        "number = 314123214\n",
        "print(f\"${number:,.2f}\")"
      ],
      "metadata": {
        "colab": {
          "base_uri": "https://localhost:8080/"
        },
        "id": "VfRhpZmFACYQ",
        "outputId": "a63bd9fc-8ed9-476b-ba8f-c6d110de59e8"
      },
      "execution_count": 14,
      "outputs": [
        {
          "output_type": "stream",
          "name": "stdout",
          "text": [
            "$314,123,214.00\n"
          ]
        }
      ]
    },
    {
      "cell_type": "code",
      "source": [
        "number = 314123214\n",
        "print(f\"{number:e}\")"
      ],
      "metadata": {
        "colab": {
          "base_uri": "https://localhost:8080/"
        },
        "id": "CthESdD2_9fq",
        "outputId": "8c3e950c-3bfa-455d-9bb5-7be1bfd67962"
      },
      "execution_count": 13,
      "outputs": [
        {
          "output_type": "stream",
          "name": "stdout",
          "text": [
            "3.141232e+08\n"
          ]
        }
      ]
    },
    {
      "cell_type": "code",
      "source": [
        "number_1 = 11\n",
        "number_2 = -11\n",
        "\n",
        "print(f\"{number_1:+}\")\n",
        "print(f\"{number_2:+}\")"
      ],
      "metadata": {
        "colab": {
          "base_uri": "https://localhost:8080/"
        },
        "id": "xp8ET9AU_2tc",
        "outputId": "60d838fc-b3a1-48f2-ea69-21d31dece047"
      },
      "execution_count": 12,
      "outputs": [
        {
          "output_type": "stream",
          "name": "stdout",
          "text": [
            "+11\n",
            "-11\n"
          ]
        }
      ]
    },
    {
      "cell_type": "code",
      "source": [
        "print(f\"{'right aligned' : >30}\")\n",
        "print(f\"{'left aligned' : <30}\")\n",
        "print(f\"{'centered aligned' : ^30}\")"
      ],
      "metadata": {
        "colab": {
          "base_uri": "https://localhost:8080/"
        },
        "id": "NrWvJm5-_nIk",
        "outputId": "22e05d52-8e8f-494b-b0d9-1c94d72e4c4a"
      },
      "execution_count": 11,
      "outputs": [
        {
          "output_type": "stream",
          "name": "stdout",
          "text": [
            "                 right aligned\n",
            "left aligned                  \n",
            "       centered aligned       \n"
          ]
        }
      ]
    }
  ]
}