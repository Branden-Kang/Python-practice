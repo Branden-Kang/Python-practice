{
  "nbformat": 4,
  "nbformat_minor": 0,
  "metadata": {
    "colab": {
      "name": "4 Hidden Python Features that Beginners should Know.ipynb",
      "provenance": [],
      "authorship_tag": "ABX9TyPTWFD67tVRHxig9Zis8V9U"
    },
    "kernelspec": {
      "name": "python3",
      "display_name": "Python 3"
    }
  },
  "cells": [
    {
      "cell_type": "markdown",
      "metadata": {
        "id": "s2g2SVNxgQpu"
      },
      "source": [
        "[Reference](https://towardsdatascience.com/4-hidden-python-features-that-beginners-should-know-ec9de65ff9f8)"
      ]
    },
    {
      "cell_type": "markdown",
      "metadata": {
        "id": "Isrn1SVugrpm"
      },
      "source": [
        "# 1. For-else Loop"
      ]
    },
    {
      "cell_type": "code",
      "metadata": {
        "id": "fnhALQ2ef8Sx",
        "outputId": "ffb20cb0-1705-4d91-cdce-44555e3e5164",
        "colab": {
          "base_uri": "https://localhost:8080/",
          "height": 51
        }
      },
      "source": [
        "def find_one(nums):\n",
        "    for i in nums:\n",
        "        if i == 1:\n",
        "            print('We find 1!')\n",
        "            break\n",
        "    else:\n",
        "        print('We cannot find 1.')\n",
        "find_one([1,2,3,4])\n",
        "find_one([2,3,4,5])"
      ],
      "execution_count": 2,
      "outputs": [
        {
          "output_type": "stream",
          "text": [
            "We find 1!\n",
            "We cannot find 1.\n"
          ],
          "name": "stdout"
        }
      ]
    },
    {
      "cell_type": "markdown",
      "metadata": {
        "id": "ucR5iyD_hd_D"
      },
      "source": [
        "# 2. Comparison Operator Chaining"
      ]
    },
    {
      "cell_type": "code",
      "metadata": {
        "id": "t2kc938NhAmx",
        "outputId": "f6736542-c00f-4a6d-fc95-e979cdc0a7ae",
        "colab": {
          "base_uri": "https://localhost:8080/",
          "height": 34
        }
      },
      "source": [
        "a = 50\n",
        "print(0 <= a <= 100)9"
      ],
      "execution_count": 3,
      "outputs": [
        {
          "output_type": "execute_result",
          "data": {
            "text/plain": [
              "True"
            ]
          },
          "metadata": {
            "tags": []
          },
          "execution_count": 3
        }
      ]
    },
    {
      "cell_type": "code",
      "metadata": {
        "id": "T9Uxr8SChlW9",
        "outputId": "a8634960-a3c2-4aa9-9c28-edfad412e621",
        "colab": {
          "base_uri": "https://localhost:8080/",
          "height": 34
        }
      },
      "source": [
        "print(0 <= a and a <= 100)"
      ],
      "execution_count": 4,
      "outputs": [
        {
          "output_type": "stream",
          "text": [
            "True\n"
          ],
          "name": "stdout"
        }
      ]
    },
    {
      "cell_type": "markdown",
      "metadata": {
        "id": "zJcj-szIhrmg"
      },
      "source": [
        "# 3. Extended Slices\n",
        "```python\n",
        "a[start:stop:step]\n",
        "```"
      ]
    },
    {
      "cell_type": "code",
      "metadata": {
        "id": "guvK7_2xhpOb"
      },
      "source": [
        "a = list(range(20))"
      ],
      "execution_count": 5,
      "outputs": []
    },
    {
      "cell_type": "code",
      "metadata": {
        "id": "SW947f_5hxlV",
        "outputId": "a03c8ee0-fb5b-4d36-b08f-06a7af9c05e3",
        "colab": {
          "base_uri": "https://localhost:8080/",
          "height": 34
        }
      },
      "source": [
        "print(a[::2])"
      ],
      "execution_count": 6,
      "outputs": [
        {
          "output_type": "stream",
          "text": [
            "[0, 2, 4, 6, 8, 10, 12, 14, 16, 18]\n"
          ],
          "name": "stdout"
        }
      ]
    },
    {
      "cell_type": "code",
      "metadata": {
        "id": "KWpIDSs8hy3e",
        "outputId": "d1a8982b-edf7-4070-a295-f3d40b291fcb",
        "colab": {
          "base_uri": "https://localhost:8080/",
          "height": 34
        }
      },
      "source": [
        "print(a[3::-1])"
      ],
      "execution_count": 7,
      "outputs": [
        {
          "output_type": "stream",
          "text": [
            "[3, 2, 1, 0]\n"
          ],
          "name": "stdout"
        }
      ]
    },
    {
      "cell_type": "markdown",
      "metadata": {
        "id": "C41rizckiTtJ"
      },
      "source": [
        "# 4. Value Swapping"
      ]
    },
    {
      "cell_type": "code",
      "metadata": {
        "id": "BOOaxM8GiaGW"
      },
      "source": [
        "a = 3\n",
        "b = 2"
      ],
      "execution_count": 16,
      "outputs": []
    },
    {
      "cell_type": "code",
      "metadata": {
        "id": "NyNDOy7th0Z9",
        "outputId": "20e1380d-5672-4fa0-e335-75da53dc2dc6",
        "colab": {
          "base_uri": "https://localhost:8080/",
          "height": 34
        }
      },
      "source": [
        "temp = a\n",
        "a = b\n",
        "b = temp\n",
        "b"
      ],
      "execution_count": 17,
      "outputs": [
        {
          "output_type": "execute_result",
          "data": {
            "text/plain": [
              "3"
            ]
          },
          "metadata": {
            "tags": []
          },
          "execution_count": 17
        }
      ]
    },
    {
      "cell_type": "code",
      "metadata": {
        "id": "p_kz0zRrie9s"
      },
      "source": [
        "a = 3\n",
        "b = 2"
      ],
      "execution_count": 13,
      "outputs": []
    },
    {
      "cell_type": "code",
      "metadata": {
        "id": "d-gUGhKZiYxv",
        "outputId": "0d9185ca-467d-4cd3-d7ff-a21172596487",
        "colab": {
          "base_uri": "https://localhost:8080/",
          "height": 34
        }
      },
      "source": [
        "b, a = a, b\n",
        "b"
      ],
      "execution_count": 14,
      "outputs": [
        {
          "output_type": "execute_result",
          "data": {
            "text/plain": [
              "3"
            ]
          },
          "metadata": {
            "tags": []
          },
          "execution_count": 14
        }
      ]
    }
  ]
}