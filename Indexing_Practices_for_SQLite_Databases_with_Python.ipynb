{
  "nbformat": 4,
  "nbformat_minor": 0,
  "metadata": {
    "colab": {
      "provenance": [],
      "authorship_tag": "ABX9TyPJer3K+9sfAciYcsd40UZM"
    },
    "kernelspec": {
      "name": "python3",
      "display_name": "Python 3"
    },
    "language_info": {
      "name": "python"
    }
  },
  "cells": [
    {
      "cell_type": "markdown",
      "source": [
        "[Reference](https://medium.com/@ccpythonprogramming/indexing-practices-for-sqlite-databases-with-python-0f49da28fe3b)"
      ],
      "metadata": {
        "id": "cK8icirmFux1"
      }
    },
    {
      "cell_type": "markdown",
      "source": [
        "# Creating a SQLite Database"
      ],
      "metadata": {
        "id": "DT_QsulfF0ZA"
      }
    },
    {
      "cell_type": "code",
      "execution_count": 1,
      "metadata": {
        "colab": {
          "base_uri": "https://localhost:8080/"
        },
        "id": "m5kScCcVFW0V",
        "outputId": "a97f2102-7626-4fdb-ced8-ab5830349908"
      },
      "outputs": [
        {
          "output_type": "stream",
          "name": "stdout",
          "text": [
            "Connected to my_database.db\n"
          ]
        }
      ],
      "source": [
        "import sqlite3\n",
        "\n",
        "def create_connection(db_file):\n",
        "    \"\"\"Create a database connection to the SQLite database specified by db_file.\"\"\"\n",
        "    conn = None\n",
        "    try:\n",
        "        conn = sqlite3.connect(db_file)\n",
        "        print(f\"Connected to {db_file}\")\n",
        "    except sqlite3.Error as e:\n",
        "        print(e)\n",
        "    return conn\n",
        "\n",
        "def create_table(conn, create_table_sql):\n",
        "    \"\"\"Create a table from the create_table_sql statement.\"\"\"\n",
        "    try:\n",
        "        c = conn.cursor()\n",
        "        c.execute(create_table_sql)\n",
        "    except sqlite3.Error as e:\n",
        "        print(e)\n",
        "\n",
        "def main():\n",
        "    database = \"my_database.db\"\n",
        "\n",
        "    sql_create_projects_table = \"\"\"\n",
        "    CREATE TABLE IF NOT EXISTS projects (\n",
        "        id INTEGER PRIMARY KEY,\n",
        "        name TEXT NOT NULL,\n",
        "        start_date TEXT,\n",
        "        end_date TEXT\n",
        "    );\n",
        "    \"\"\"\n",
        "\n",
        "    conn = create_connection(database)\n",
        "\n",
        "    if conn is not None:\n",
        "        create_table(conn, sql_create_projects_table)\n",
        "    else:\n",
        "        print(\"Error! Cannot create the database connection.\")\n",
        "\n",
        "if __name__ == '__main__':\n",
        "    main()"
      ]
    },
    {
      "cell_type": "markdown",
      "source": [
        "# Inserting Data"
      ],
      "metadata": {
        "id": "sy9Htur3F5Uj"
      }
    },
    {
      "cell_type": "code",
      "source": [
        "import sqlite3\n",
        "\n",
        "def create_connection(db_file):\n",
        "    \"\"\"Create a database connection to the SQLite database specified by db_file.\"\"\"\n",
        "    conn = None\n",
        "    try:\n",
        "        conn = sqlite3.connect(db_file)\n",
        "        return conn\n",
        "    except sqlite3.Error as e:\n",
        "        print(e)\n",
        "    return conn\n",
        "\n",
        "def insert_project(conn, project):\n",
        "    \"\"\"Insert a new project into the projects table.\"\"\"\n",
        "    sql = ''' INSERT INTO projects(name, start_date, end_date)\n",
        "              VALUES(?,?,?) '''\n",
        "    cur = conn.cursor()\n",
        "    cur.execute(sql, project)\n",
        "    conn.commit()\n",
        "    return cur.lastrowid\n",
        "\n",
        "def main():\n",
        "    database = \"my_database.db\"\n",
        "\n",
        "    conn = create_connection(database)\n",
        "\n",
        "    if conn is not None:\n",
        "        project = ('Cool Project', '2024-01-01', '2024-12-31')\n",
        "        project_id = insert_project(conn, project)\n",
        "        print(f\"Project inserted with id: {project_id}\")\n",
        "    else:\n",
        "        print(\"Error! Cannot create the database connection.\")\n",
        "\n",
        "if __name__ == '__main__':\n",
        "    main()"
      ],
      "metadata": {
        "colab": {
          "base_uri": "https://localhost:8080/"
        },
        "id": "JugWfF5QF2to",
        "outputId": "ebdc5ea8-69e9-4463-f76a-225b6f426fab"
      },
      "execution_count": 2,
      "outputs": [
        {
          "output_type": "stream",
          "name": "stdout",
          "text": [
            "Project inserted with id: 1\n"
          ]
        }
      ]
    },
    {
      "cell_type": "markdown",
      "source": [
        "# Indexing Practices"
      ],
      "metadata": {
        "id": "V3sTQPM2F8mz"
      }
    },
    {
      "cell_type": "code",
      "source": [
        "import sqlite3\n",
        "\n",
        "def create_connection(db_file):\n",
        "    \"\"\"Create a database connection to the SQLite database specified by db_file.\"\"\"\n",
        "    conn = None\n",
        "    try:\n",
        "        conn = sqlite3.connect(db_file)\n",
        "        return conn\n",
        "    except sqlite3.Error as e:\n",
        "        print(e)\n",
        "    return conn\n",
        "\n",
        "def create_index(conn):\n",
        "    \"\"\"Create an index on the name column of the projects table.\"\"\"\n",
        "    sql = ''' CREATE INDEX idx_name ON projects(name); '''\n",
        "    try:\n",
        "        c = conn.cursor()\n",
        "        c.execute(sql)\n",
        "        conn.commit()\n",
        "        print(\"Index created successfully\")\n",
        "    except sqlite3.Error as e:\n",
        "        print(e)\n",
        "\n",
        "def main():\n",
        "    database = \"my_database.db\"\n",
        "\n",
        "    conn = create_connection(database)\n",
        "\n",
        "    if conn is not None:\n",
        "        create_index(conn)\n",
        "    else:\n",
        "        print(\"Error! Cannot create the database connection.\")\n",
        "\n",
        "if __name__ == '__main__':\n",
        "    main()"
      ],
      "metadata": {
        "colab": {
          "base_uri": "https://localhost:8080/"
        },
        "id": "PqKjGpOuF7du",
        "outputId": "5158eed7-402c-4c63-ea00-af46933cbecd"
      },
      "execution_count": 3,
      "outputs": [
        {
          "output_type": "stream",
          "name": "stdout",
          "text": [
            "Index created successfully\n"
          ]
        }
      ]
    },
    {
      "cell_type": "markdown",
      "source": [
        "# Querying Data"
      ],
      "metadata": {
        "id": "iSJN3PZjF_7i"
      }
    },
    {
      "cell_type": "code",
      "source": [
        "import sqlite3\n",
        "\n",
        "def create_connection(db_file):\n",
        "    \"\"\"Create a database connection to the SQLite database specified by db_file.\"\"\"\n",
        "    conn = None\n",
        "    try:\n",
        "        conn = sqlite3.connect(db_file)\n",
        "        return conn\n",
        "    except sqlite3.Error as e:\n",
        "        print(e)\n",
        "    return conn\n",
        "\n",
        "def select_all_projects(conn):\n",
        "    \"\"\"Query all rows in the projects table.\"\"\"\n",
        "    cur = conn.cursor()\n",
        "    cur.execute(\"SELECT * FROM projects\")\n",
        "\n",
        "    rows = cur.fetchall()\n",
        "\n",
        "    for row in rows:\n",
        "        print(row)\n",
        "\n",
        "def main():\n",
        "    database = \"my_database.db\"\n",
        "\n",
        "    conn = create_connection(database)\n",
        "\n",
        "    if conn is not None:\n",
        "        select_all_projects(conn)\n",
        "    else:\n",
        "        print(\"Error! Cannot create the database connection.\")\n",
        "\n",
        "if __name__ == '__main__':\n",
        "    main()"
      ],
      "metadata": {
        "colab": {
          "base_uri": "https://localhost:8080/"
        },
        "id": "jBtRtiJIF-9y",
        "outputId": "627635f5-2785-4720-e650-00261b2e3493"
      },
      "execution_count": 4,
      "outputs": [
        {
          "output_type": "stream",
          "name": "stdout",
          "text": [
            "(1, 'Cool Project', '2024-01-01', '2024-12-31')\n"
          ]
        }
      ]
    }
  ]
}