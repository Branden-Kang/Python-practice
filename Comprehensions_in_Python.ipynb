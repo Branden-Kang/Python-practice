{
  "nbformat": 4,
  "nbformat_minor": 0,
  "metadata": {
    "colab": {
      "name": "Comprehensions in Python.ipynb",
      "provenance": [],
      "authorship_tag": "ABX9TyPJtICo9X1a441dzd0ifm/d"
    },
    "kernelspec": {
      "name": "python3",
      "display_name": "Python 3"
    }
  },
  "cells": [
    {
      "cell_type": "markdown",
      "metadata": {
        "id": "1rVFNOj5-mTV",
        "colab_type": "text"
      },
      "source": [
        "[Reference](https://towardsdatascience.com/comprehending-the-concept-of-comprehensions-in-python-c9dafce5111)"
      ]
    },
    {
      "cell_type": "markdown",
      "metadata": {
        "id": "Fu2Knajj-jQT",
        "colab_type": "text"
      },
      "source": [
        "## List Comprehensions"
      ]
    },
    {
      "cell_type": "code",
      "metadata": {
        "id": "Aejy3yD28X1h",
        "colab_type": "code",
        "colab": {}
      },
      "source": [
        "squares = [0, 1, 4, 9, 16, 25]"
      ],
      "execution_count": 1,
      "outputs": []
    },
    {
      "cell_type": "code",
      "metadata": {
        "id": "L2Xw3yjM8b_G",
        "colab_type": "code",
        "colab": {}
      },
      "source": [
        "squares = []\n",
        "for num in range(6):\n",
        "    squares.append(num*num)"
      ],
      "execution_count": 2,
      "outputs": []
    },
    {
      "cell_type": "code",
      "metadata": {
        "id": "bu_uCHxK8dnE",
        "colab_type": "code",
        "colab": {}
      },
      "source": [
        "squares = [num*num for num in range(6)]"
      ],
      "execution_count": 3,
      "outputs": []
    },
    {
      "cell_type": "code",
      "metadata": {
        "id": "bzjIxHPL8e_Z",
        "colab_type": "code",
        "colab": {}
      },
      "source": [
        "even_squares = []\n",
        "for num in range(11):\n",
        "  if num%2 == 0:\n",
        "    even_squares.append(num*num)"
      ],
      "execution_count": 7,
      "outputs": []
    },
    {
      "cell_type": "code",
      "metadata": {
        "id": "lfMNOpba8vLO",
        "colab_type": "code",
        "colab": {
          "base_uri": "https://localhost:8080/",
          "height": 34
        },
        "outputId": "f28587be-d61e-4cb7-b987-cdfd99d69fd2"
      },
      "source": [
        "even_squares = [num * num for num in range(11) if num%2 == 0]\n",
        "even_squares"
      ],
      "execution_count": 5,
      "outputs": [
        {
          "output_type": "execute_result",
          "data": {
            "text/plain": [
              "[0, 4, 16, 36, 64, 100]"
            ]
          },
          "metadata": {
            "tags": []
          },
          "execution_count": 5
        }
      ]
    },
    {
      "cell_type": "code",
      "metadata": {
        "id": "zbVYGUDn8xBD",
        "colab_type": "code",
        "colab": {
          "base_uri": "https://localhost:8080/",
          "height": 357
        },
        "outputId": "1a588fee-5e5b-461a-8407-dfbcc6c609da"
      },
      "source": [
        "[(a,b,c) for a in range(1,30) for b in range(1,30) for c in range(1,30)if a**2 + b**2 == c**2]"
      ],
      "execution_count": 8,
      "outputs": [
        {
          "output_type": "execute_result",
          "data": {
            "text/plain": [
              "[(3, 4, 5),\n",
              " (4, 3, 5),\n",
              " (5, 12, 13),\n",
              " (6, 8, 10),\n",
              " (7, 24, 25),\n",
              " (8, 6, 10),\n",
              " (8, 15, 17),\n",
              " (9, 12, 15),\n",
              " (10, 24, 26),\n",
              " (12, 5, 13),\n",
              " (12, 9, 15),\n",
              " (12, 16, 20),\n",
              " (15, 8, 17),\n",
              " (15, 20, 25),\n",
              " (16, 12, 20),\n",
              " (20, 15, 25),\n",
              " (20, 21, 29),\n",
              " (21, 20, 29),\n",
              " (24, 7, 25),\n",
              " (24, 10, 26)]"
            ]
          },
          "metadata": {
            "tags": []
          },
          "execution_count": 8
        }
      ]
    },
    {
      "cell_type": "code",
      "metadata": {
        "id": "AufI3N0h89j4",
        "colab_type": "code",
        "colab": {
          "base_uri": "https://localhost:8080/",
          "height": 34
        },
        "outputId": "b3b7adf6-d9c5-469d-d203-2954812842c1"
      },
      "source": [
        "colors = [\"pink\", \"white\", \"blue\", \"black\", \"purple\"]\n",
        "[color.upper() for color in colors]\n",
        "['RED', 'GREEN', 'BLUE', 'PURPLE']"
      ],
      "execution_count": 10,
      "outputs": [
        {
          "output_type": "execute_result",
          "data": {
            "text/plain": [
              "['RED', 'GREEN', 'BLUE', 'PURPLE']"
            ]
          },
          "metadata": {
            "tags": []
          },
          "execution_count": 10
        }
      ]
    },
    {
      "cell_type": "code",
      "metadata": {
        "id": "58mTr7xJ9CIq",
        "colab_type": "code",
        "colab": {
          "base_uri": "https://localhost:8080/",
          "height": 136
        },
        "outputId": "18b4357d-1638-4d9b-a470-82cfa811394c"
      },
      "source": [
        "presidents_usa = [\"George Washington\", \"John Adams\",\"Thomas Jefferson\",\"James Madison\",\"James Monroe\",\"John Adams\",\"Andrew Jackson\"]\n",
        "split_names = [name.split(\" \") for name in presidents_usa]\n",
        "swapped_list = [split_name[1] + \" \" + split_name[0] for split_name in split_names]\n",
        "swapped_list"
      ],
      "execution_count": 12,
      "outputs": [
        {
          "output_type": "execute_result",
          "data": {
            "text/plain": [
              "['Washington George',\n",
              " 'Adams John',\n",
              " 'Jefferson Thomas',\n",
              " 'Madison James',\n",
              " 'Monroe James',\n",
              " 'Adams John',\n",
              " 'Jackson Andrew']"
            ]
          },
          "metadata": {
            "tags": []
          },
          "execution_count": 12
        }
      ]
    },
    {
      "cell_type": "code",
      "metadata": {
        "id": "PnYcPYbq9FEo",
        "colab_type": "code",
        "colab": {}
      },
      "source": [
        "height_in_cms = [('Tom',183),('Daisy',171),('Margaret',179),('Michael',190),('Nick',165)]"
      ],
      "execution_count": 13,
      "outputs": []
    },
    {
      "cell_type": "code",
      "metadata": {
        "id": "LnlG806N9Rkw",
        "colab_type": "code",
        "colab": {}
      },
      "source": [
        "height_in_feet = [(height[0],round(height[1]*0.0328,1)) for height in height_in_cms]"
      ],
      "execution_count": 14,
      "outputs": []
    },
    {
      "cell_type": "code",
      "metadata": {
        "id": "iKBxLRkU9S9j",
        "colab_type": "code",
        "colab": {
          "base_uri": "https://localhost:8080/",
          "height": 102
        },
        "outputId": "7bcc971a-20cd-4376-c7d0-bef33b67c411"
      },
      "source": [
        "height_in_feet"
      ],
      "execution_count": 15,
      "outputs": [
        {
          "output_type": "execute_result",
          "data": {
            "text/plain": [
              "[('Tom', 6.0),\n",
              " ('Daisy', 5.6),\n",
              " ('Margaret', 5.9),\n",
              " ('Michael', 6.2),\n",
              " ('Nick', 5.4)]"
            ]
          },
          "metadata": {
            "tags": []
          },
          "execution_count": 15
        }
      ]
    },
    {
      "cell_type": "code",
      "metadata": {
        "id": "fjn7Ooy_9Uvy",
        "colab_type": "code",
        "colab": {
          "base_uri": "https://localhost:8080/",
          "height": 34
        },
        "outputId": "5fc942e9-808d-45bd-c630-d833b30656d5"
      },
      "source": [
        "matrix = [[j * j+i for j in range(3)] for i in range(3)]\n",
        "matrix"
      ],
      "execution_count": 16,
      "outputs": [
        {
          "output_type": "execute_result",
          "data": {
            "text/plain": [
              "[[0, 1, 4], [1, 2, 5], [2, 3, 6]]"
            ]
          },
          "metadata": {
            "tags": []
          },
          "execution_count": 16
        }
      ]
    },
    {
      "cell_type": "markdown",
      "metadata": {
        "id": "H6JZysh2-Ap-",
        "colab_type": "text"
      },
      "source": [
        "## Set Comprehensions"
      ]
    },
    {
      "cell_type": "code",
      "metadata": {
        "id": "LxnK5qju9XF1",
        "colab_type": "code",
        "colab": {}
      },
      "source": [
        "names = [ 'Arnold', 'BILL', 'alice', 'arnold', 'MARY', 'J', 'BIll' ,'maRy']"
      ],
      "execution_count": 17,
      "outputs": []
    },
    {
      "cell_type": "code",
      "metadata": {
        "id": "0CQHDixk9m7p",
        "colab_type": "code",
        "colab": {
          "base_uri": "https://localhost:8080/",
          "height": 34
        },
        "outputId": "1d528d99-233e-46f0-f45a-fd89f0f57030"
      },
      "source": [
        "{name.capitalize() for name in names if len(name) > 1}"
      ],
      "execution_count": 18,
      "outputs": [
        {
          "output_type": "execute_result",
          "data": {
            "text/plain": [
              "{'Alice', 'Arnold', 'Bill', 'Mary'}"
            ]
          },
          "metadata": {
            "tags": []
          },
          "execution_count": 18
        }
      ]
    },
    {
      "cell_type": "markdown",
      "metadata": {
        "id": "y7y_7ZTS99IA",
        "colab_type": "text"
      },
      "source": [
        "## Dictionary Comprehensions"
      ]
    },
    {
      "cell_type": "code",
      "metadata": {
        "id": "bKm0xitc9w59",
        "colab_type": "code",
        "colab": {}
      },
      "source": [
        "char_dict = {'A' : 4,'z': 2, 'D' : 8, 'a': 5, 'Z' : 10 }"
      ],
      "execution_count": 19,
      "outputs": []
    },
    {
      "cell_type": "code",
      "metadata": {
        "id": "IZXPinaw-DnV",
        "colab_type": "code",
        "colab": {
          "base_uri": "https://localhost:8080/",
          "height": 34
        },
        "outputId": "d08e9ae9-7666-4e2d-e224-97d45cae06a7"
      },
      "source": [
        "{ k.lower() : char_dict.get(k.lower(), 0) + char_dict.get(k.upper(), 0) for k in char_dict.keys()}\n",
        "{'a': 9, 'z': 12, 'd': 8}"
      ],
      "execution_count": 20,
      "outputs": [
        {
          "output_type": "execute_result",
          "data": {
            "text/plain": [
              "{'a': 9, 'd': 8, 'z': 12}"
            ]
          },
          "metadata": {
            "tags": []
          },
          "execution_count": 20
        }
      ]
    },
    {
      "cell_type": "markdown",
      "metadata": {
        "id": "TLL6GWtu-Tc5",
        "colab_type": "text"
      },
      "source": [
        "## Generator Expressions"
      ]
    },
    {
      "cell_type": "code",
      "metadata": {
        "id": "N6mX3LqZ-Fn_",
        "colab_type": "code",
        "colab": {
          "base_uri": "https://localhost:8080/",
          "height": 34
        },
        "outputId": "96355c65-c6f2-4756-a245-4eb1d5357d38"
      },
      "source": [
        "sum([num**2 for num in range(11)])"
      ],
      "execution_count": 21,
      "outputs": [
        {
          "output_type": "execute_result",
          "data": {
            "text/plain": [
              "385"
            ]
          },
          "metadata": {
            "tags": []
          },
          "execution_count": 21
        }
      ]
    },
    {
      "cell_type": "code",
      "metadata": {
        "id": "3vWqfVmx-WQU",
        "colab_type": "code",
        "colab": {
          "base_uri": "https://localhost:8080/",
          "height": 34
        },
        "outputId": "1d138381-d991-4bb2-ac32-7b82a000034c"
      },
      "source": [
        "sum({num**2 for num in range(11)})"
      ],
      "execution_count": 22,
      "outputs": [
        {
          "output_type": "execute_result",
          "data": {
            "text/plain": [
              "385"
            ]
          },
          "metadata": {
            "tags": []
          },
          "execution_count": 22
        }
      ]
    },
    {
      "cell_type": "code",
      "metadata": {
        "id": "Po-xtBio-X2R",
        "colab_type": "code",
        "colab": {
          "base_uri": "https://localhost:8080/",
          "height": 34
        },
        "outputId": "171d9bf6-703d-4706-a6a4-73eb474cc3f1"
      },
      "source": [
        "squares = (num**2 for num in range(11))\n",
        "squares"
      ],
      "execution_count": 23,
      "outputs": [
        {
          "output_type": "execute_result",
          "data": {
            "text/plain": [
              "<generator object <genexpr> at 0x7fa3e1a3dd00>"
            ]
          },
          "metadata": {
            "tags": []
          },
          "execution_count": 23
        }
      ]
    }
  ]
}