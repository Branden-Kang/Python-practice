{
  "nbformat": 4,
  "nbformat_minor": 0,
  "metadata": {
    "colab": {
      "provenance": [],
      "authorship_tag": "ABX9TyMef9E7nZQlowtjSSBGMysY"
    },
    "kernelspec": {
      "name": "python3",
      "display_name": "Python 3"
    },
    "language_info": {
      "name": "python"
    }
  },
  "cells": [
    {
      "cell_type": "markdown",
      "source": [
        "[Reference](https://medium.com/@tricky16122000/duckdb-in-python-the-silent-pandas-killer-239a7efd67a0)"
      ],
      "metadata": {
        "id": "f0V4QCXF9OfB"
      }
    },
    {
      "cell_type": "markdown",
      "source": [
        "# DuckDB vs. Pandas"
      ],
      "metadata": {
        "id": "j7o5CjQW9evq"
      }
    },
    {
      "cell_type": "markdown",
      "source": [
        "## Pandas"
      ],
      "metadata": {
        "id": "MwNs6vuR9hDj"
      }
    },
    {
      "cell_type": "code",
      "execution_count": 1,
      "metadata": {
        "id": "kYPWZWdF9Ha-"
      },
      "outputs": [],
      "source": [
        "import pandas as pd\n",
        "\n",
        "# This will eat RAM for breakfast\n",
        "sales = pd.read_csv(\"sales_data.csv\")\n",
        "summary = sales.groupby(\"region\")[\"revenue\"].sum().reset_index()\n",
        "print(summary)"
      ]
    },
    {
      "cell_type": "markdown",
      "source": [
        "## DuckDB"
      ],
      "metadata": {
        "id": "WBC4ziAN9h9W"
      }
    },
    {
      "cell_type": "code",
      "source": [
        "import duckdb\n",
        "\n",
        "# Query directly from CSV without loading all into memory\n",
        "result = duckdb.query(\"\"\"\n",
        "    SELECT region, SUM(revenue) as total_revenue\n",
        "    FROM 'sales_data.csv'\n",
        "    GROUP BY region\n",
        "\"\"\").to_df()\n",
        "print(result)"
      ],
      "metadata": {
        "id": "4rxNva9v9gfy"
      },
      "execution_count": 2,
      "outputs": []
    }
  ]
}