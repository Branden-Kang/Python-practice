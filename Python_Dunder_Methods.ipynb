{
  "nbformat": 4,
  "nbformat_minor": 0,
  "metadata": {
    "colab": {
      "name": "Python Dunder Methods.ipynb",
      "provenance": [],
      "authorship_tag": "ABX9TyMvmyVEbIP7+eMC1QibRDya"
    },
    "kernelspec": {
      "name": "python3",
      "display_name": "Python 3"
    }
  },
  "cells": [
    {
      "cell_type": "markdown",
      "metadata": {
        "id": "6uhlzAU7G8Lv"
      },
      "source": [
        "[Reference](https://levelup.gitconnected.com/python-dunder-methods-ea98ceabad15)"
      ]
    },
    {
      "cell_type": "markdown",
      "metadata": {
        "id": "DGlx413TG6nN"
      },
      "source": [
        "# Initialization"
      ]
    },
    {
      "cell_type": "code",
      "metadata": {
        "colab": {
          "base_uri": "https://localhost:8080/"
        },
        "id": "bV26TW66E5gK",
        "outputId": "d388f383-3892-438b-e950-0c4f31923672"
      },
      "source": [
        "class A:\n",
        "  def __new__(cls):\n",
        "    print('Creation of A')\n",
        "    instance = super().__new__(cls)\n",
        "    return instance\n",
        "  \n",
        "  def __init__(self):\n",
        "    print('Initialization')\n",
        "\n",
        "  def __del__(self):\n",
        "    print('Delete')\n",
        "\n",
        "a = A()\n",
        "del a"
      ],
      "execution_count": 1,
      "outputs": [
        {
          "output_type": "stream",
          "text": [
            "Creation of A\n",
            "Initialization\n",
            "Delete\n"
          ],
          "name": "stdout"
        }
      ]
    },
    {
      "cell_type": "markdown",
      "metadata": {
        "id": "5N_xn2oRHPCh"
      },
      "source": [
        "# Representation"
      ]
    },
    {
      "cell_type": "code",
      "metadata": {
        "colab": {
          "base_uri": "https://localhost:8080/"
        },
        "id": "nWiubcENG3oH",
        "outputId": "285be742-8ecb-43f7-983b-23fc53eb1e7a"
      },
      "source": [
        "class B:\n",
        "    def __init__(self, a):\n",
        "        self.a = a\n",
        "\n",
        "    def __repr__(self):\n",
        "        return f'B ({self.a})'\n",
        "\n",
        "    def __str__(self):\n",
        "        return f'B with {self.a}'\n",
        "\n",
        "    def __bytes__(self):\n",
        "        return self.a.to_bytes(4, byteorder='big')\n",
        "\n",
        "    def __format__(self, spec):\n",
        "        if spec == 'f':\n",
        "            return str(self.a)\n",
        "        return str(self)\n",
        "\n",
        "b = B(10)\n",
        "print(repr(b))\n",
        "print(str(b))\n",
        "print(bytes(b))\n",
        "print(format(b, 'f'))"
      ],
      "execution_count": 2,
      "outputs": [
        {
          "output_type": "stream",
          "text": [
            "B (10)\n",
            "B with 10\n",
            "b'\\x00\\x00\\x00\\n'\n",
            "10\n"
          ],
          "name": "stdout"
        }
      ]
    },
    {
      "cell_type": "markdown",
      "metadata": {
        "id": "v4DKJzDCHUn5"
      },
      "source": [
        "# Rich comparison"
      ]
    },
    {
      "cell_type": "code",
      "metadata": {
        "colab": {
          "base_uri": "https://localhost:8080/"
        },
        "id": "W3ueRsRPHN54",
        "outputId": "e358061e-268e-432b-b946-65cb2e293571"
      },
      "source": [
        "class C:\n",
        "    def __init__(self, age):\n",
        "        self.age = age\n",
        "\n",
        "    def __eq__(self, other):\n",
        "        return self.age == other.age\n",
        "\n",
        "    def __ne__(self, other):\n",
        "        return not self.__eq__(other)\n",
        "    \n",
        "    def __lt__(self, other):\n",
        "        return self.age < other.age\n",
        "\n",
        "    def __le__(self, other):\n",
        "        return self.age <= other.age\n",
        "\n",
        "    def __gt__(self, other):\n",
        "        return self.age > other.age\n",
        "\n",
        "    def __ge__(self, other):\n",
        "        return self.age >= other.age\n",
        "\n",
        "    def __hash__(self):\n",
        "        return hash(self.age)\n",
        "\n",
        "    def __bool__(self):\n",
        "        return self.age > 0\n",
        "\n",
        "alice = C(15)\n",
        "bob = C(30)\n",
        "rel = 'younger' if alice < bob else 'older'\n",
        "print(f'Alice is {rel} than Bob')\n",
        "print(hash(alice))"
      ],
      "execution_count": 3,
      "outputs": [
        {
          "output_type": "stream",
          "text": [
            "Alice is younger than Bob\n",
            "15\n"
          ],
          "name": "stdout"
        }
      ]
    },
    {
      "cell_type": "markdown",
      "metadata": {
        "id": "zJxplt3VHX4N"
      },
      "source": [
        "# Attribute access"
      ]
    },
    {
      "cell_type": "code",
      "metadata": {
        "colab": {
          "base_uri": "https://localhost:8080/"
        },
        "id": "BBAoeZudHXBa",
        "outputId": "a68e45fc-e41b-43fa-ffd1-8f9a944ac610"
      },
      "source": [
        "class D:\n",
        "    '''A class that contains a value and implements an access counter.\n",
        "    The counter increments each time the value is changed.'''\n",
        "    def __init__(self, val):\n",
        "        super().__setattr__('counter', 0)\n",
        "        super().__setattr__('value', val)\n",
        "\n",
        "    def __setattr__(self, name, value):\n",
        "        if name == 'value':\n",
        "            super().__setattr__('counter', self.counter + 1)\n",
        "        super().__setattr__(name, value)\n",
        "\n",
        "    def __delattr__(self, name):\n",
        "        if name == 'value':\n",
        "            super().__setattr__('counter', self.counter + 1)\n",
        "        super().__delattr__(name)\n",
        "\n",
        "d = D(10)\n",
        "print(d.value, d.counter)\n",
        "d.value = 11\n",
        "print(d.value, d.counter)"
      ],
      "execution_count": 4,
      "outputs": [
        {
          "output_type": "stream",
          "text": [
            "10 0\n",
            "11 1\n"
          ],
          "name": "stdout"
        }
      ]
    },
    {
      "cell_type": "markdown",
      "metadata": {
        "id": "PMm1TPi0HdZb"
      },
      "source": [
        "# Descriptors"
      ]
    },
    {
      "cell_type": "code",
      "metadata": {
        "colab": {
          "base_uri": "https://localhost:8080/"
        },
        "id": "iut4CE7RHaDb",
        "outputId": "d7de0b6b-8aad-4cc8-f727-a9f7ec4bbc8a"
      },
      "source": [
        "class Celsius:\n",
        "    '''Descriptor for celsius value.'''\n",
        "    def __init__(self, value=0.0):\n",
        "        self.value = float(value)\n",
        "    \n",
        "    def __get__(self, instance, owner):\n",
        "        return self.value\n",
        "\n",
        "    def __set__(self, instance, value):\n",
        "        self.value = float(value)\n",
        "\n",
        "\n",
        "class Fahrenheit:\n",
        "    '''Descriptor for farenheit value.'''\n",
        "    def __get__(self, instance, owner):\n",
        "        return (instance.celsius * 9 / 5) + 32.0\n",
        "\n",
        "    def __set__(self, instance, value):\n",
        "        instance.celsius = (value - 32) * 5 / 9\n",
        "\n",
        "\n",
        "class Temperature:\n",
        "    celsius = Celsius()\n",
        "    fahrenheit = Fahrenheit()\n",
        "\n",
        "e = Temperature()\n",
        "e.celsius = 10\n",
        "print(f'{e.celsius} ºC = {e.fahrenheit} ºF')\n",
        "e.fahrenheit = 45\n",
        "print(f'{e.celsius} ºC = {e.fahrenheit} ºF')"
      ],
      "execution_count": 5,
      "outputs": [
        {
          "output_type": "stream",
          "text": [
            "10.0 ºC = 50.0 ºF\n",
            "7.222222222222222 ºC = 45.0 ºF\n"
          ],
          "name": "stdout"
        }
      ]
    },
    {
      "cell_type": "markdown",
      "metadata": {
        "id": "ykZHmOEkHuto"
      },
      "source": [
        "# Container methods"
      ]
    },
    {
      "cell_type": "code",
      "metadata": {
        "colab": {
          "base_uri": "https://localhost:8080/"
        },
        "id": "sAMFv_PzHlYA",
        "outputId": "8c807060-7420-484e-8fe4-f6809ae458d1"
      },
      "source": [
        "class FunctionalList:\n",
        "    '''A class wrapping a list with some extra functional magic'''\n",
        "    def __init__(self, values=None):\n",
        "        if values is None:\n",
        "            self.values = []\n",
        "        else:\n",
        "            self.values = values\n",
        "\n",
        "    def __len__(self):\n",
        "        return len(self.values)\n",
        "\n",
        "    def __getitem__(self, key):\n",
        "        return self.values[key]\n",
        "\n",
        "    def __setitem__(self, key, value):\n",
        "        self.values[key] = value\n",
        "\n",
        "    def __delitem__(self, key):\n",
        "        del self.values[key]\n",
        "\n",
        "    def __iter__(self):\n",
        "        return iter(self.values)\n",
        "\n",
        "    def __reversed__(self):\n",
        "        return reversed(self.values)\n",
        "\n",
        "    def head(self, n):\n",
        "        return self.values[:n]\n",
        "\n",
        "    def tail(self, n):\n",
        "        return self.values[n:]\n",
        "\n",
        "    def first(self):\n",
        "        return self.values[0]\n",
        "\n",
        "    def last(self):\n",
        "        return self.values[-1]\n",
        " \n",
        "a = FunctionalList([1, 2, 3, 4])\n",
        "print(a.head(2))\n",
        "print(a[0])"
      ],
      "execution_count": 6,
      "outputs": [
        {
          "output_type": "stream",
          "text": [
            "[1, 2]\n",
            "1\n"
          ],
          "name": "stdout"
        }
      ]
    },
    {
      "cell_type": "markdown",
      "metadata": {
        "id": "ODjjHWrlH749"
      },
      "source": [
        "# Numeric operations"
      ]
    },
    {
      "cell_type": "code",
      "metadata": {
        "colab": {
          "base_uri": "https://localhost:8080/"
        },
        "id": "ammcBAvcHyB4",
        "outputId": "8f071451-7466-4ba7-efdc-cf3f0d3df139"
      },
      "source": [
        "class Account:\n",
        "    def __init__(self, balance=0):\n",
        "        self.balance = balance\n",
        "\n",
        "    def __add__(self, other):\n",
        "        total = self.balance\n",
        "        if isinstance(other, Account):\n",
        "            total += other.balance\n",
        "        else:\n",
        "            total += other\n",
        "        return Account(total)\n",
        "\n",
        "    def __radd__(self, other):\n",
        "        total = self.balance + other\n",
        "        return Account(total)\n",
        "\n",
        "    def __iadd__(self, other):\n",
        "        total = self.__add__(other)\n",
        "        self.balance = total.balance\n",
        "        return self\n",
        "\n",
        "    def __str__(self):\n",
        "        return f'Balance: {self.balance}' \n",
        "\n",
        "a = Account(5)\n",
        "b = Account(10)\n",
        "c = a + b\n",
        "b += 10\n",
        "a = 5 + b\n",
        "print(a)\n",
        "print(b)\n",
        "print(c)"
      ],
      "execution_count": 7,
      "outputs": [
        {
          "output_type": "stream",
          "text": [
            "Balance: 25\n",
            "Balance: 20\n",
            "Balance: 15\n"
          ],
          "name": "stdout"
        }
      ]
    },
    {
      "cell_type": "markdown",
      "metadata": {
        "id": "kRl2g9afIEKA"
      },
      "source": [
        "# Context Managers"
      ]
    },
    {
      "cell_type": "code",
      "metadata": {
        "id": "UFUoJKqbH-zP"
      },
      "source": [
        "class H:\n",
        "    def __init__(self, name):\n",
        "        self.name = name\n",
        "\n",
        "    def __enter__(self):\n",
        "        self.fp = open(self.name)\n",
        "        return self.fp\n",
        "\n",
        "    def __exit__(self, exc, exc_value, traceback):\n",
        "        print(f'Exception: {exc_value}')\n",
        "        self.fp.close()\n",
        "        self.fp = None\n",
        "\n",
        "\n",
        "h = H('test.txt')\n",
        "with h as v:\n",
        "    print(v.read())"
      ],
      "execution_count": 8,
      "outputs": []
    },
    {
      "cell_type": "markdown",
      "metadata": {
        "id": "UFlr3b3tIKoS"
      },
      "source": [
        "# Callable Objects"
      ]
    },
    {
      "cell_type": "code",
      "metadata": {
        "colab": {
          "base_uri": "https://localhost:8080/"
        },
        "id": "agDnWoSiIGqn",
        "outputId": "2ceeab9e-6978-4b76-9e9a-006f40b65b5b"
      },
      "source": [
        "class Point:\n",
        "    def __init__(self, x, y):\n",
        "        self.x, self.y = x, y\n",
        "\n",
        "    def __call__(self, x, y):\n",
        "        self.x, self.y = x, y\n",
        "\n",
        "    def __str__(self):\n",
        "        return f'({self.x}, {self.y})'\n",
        "\n",
        "p = Point(1, 2)\n",
        "print(p)\n",
        "p(4, 5)\n",
        "print(p)"
      ],
      "execution_count": 9,
      "outputs": [
        {
          "output_type": "stream",
          "text": [
            "(1, 2)\n",
            "(4, 5)\n"
          ],
          "name": "stdout"
        }
      ]
    }
  ]
}