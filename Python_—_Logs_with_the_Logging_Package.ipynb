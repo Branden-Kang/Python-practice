{
  "nbformat": 4,
  "nbformat_minor": 0,
  "metadata": {
    "colab": {
      "provenance": [],
      "authorship_tag": "ABX9TyPRtnC2VEwIJJENgRmB9+D7"
    },
    "kernelspec": {
      "name": "python3",
      "display_name": "Python 3"
    },
    "language_info": {
      "name": "python"
    }
  },
  "cells": [
    {
      "cell_type": "markdown",
      "source": [
        "[Reference](https://blog.stackademic.com/python-logs-with-the-logging-package-0ea3a033607f)"
      ],
      "metadata": {
        "id": "D_R7n7W0di67"
      }
    },
    {
      "cell_type": "code",
      "execution_count": 1,
      "metadata": {
        "colab": {
          "base_uri": "https://localhost:8080/"
        },
        "id": "3ugtrnHqdgBE",
        "outputId": "35f0b328-da07-4971-e217-fc8899c95d34"
      },
      "outputs": [
        {
          "output_type": "stream",
          "name": "stderr",
          "text": [
            "WARNING:root:WARNING\n",
            "ERROR:root:ERROR\n",
            "CRITICAL:root:CRITICAL\n"
          ]
        }
      ],
      "source": [
        "import logging\n",
        "\n",
        "def test_logging():\n",
        "    logging.basicConfig(level=logging.WARNING)\n",
        "\n",
        "    logging.debug(\"DEBUG\")\n",
        "    logging.info(\"INFO\")\n",
        "    logging.warning(\"WARNING\")\n",
        "    logging.error(\"ERROR\")\n",
        "    logging.critical(\"CRITICAL\")\n",
        "\n",
        "test_logging()"
      ]
    },
    {
      "cell_type": "code",
      "source": [
        "import logging\n",
        "\n",
        "def test_logging():\n",
        "    logging.basicConfig(level=logging.DEBUG)\n",
        "\n",
        "    logging.debug(\"DEBUG\")\n",
        "    logging.info(\"INFO\")\n",
        "    logging.warning(\"WARNING\")\n",
        "    logging.error(\"ERROR\")\n",
        "    logging.critical(\"CRITICAL\")\n",
        "\n",
        "test_logging()"
      ],
      "metadata": {
        "colab": {
          "base_uri": "https://localhost:8080/"
        },
        "id": "5G3KoJUDeGW_",
        "outputId": "f4fe0ac8-7c08-4d9a-e2ac-2a6a05c5cb3d"
      },
      "execution_count": 2,
      "outputs": [
        {
          "output_type": "stream",
          "name": "stderr",
          "text": [
            "WARNING:root:WARNING\n",
            "ERROR:root:ERROR\n",
            "CRITICAL:root:CRITICAL\n"
          ]
        }
      ]
    },
    {
      "cell_type": "code",
      "source": [
        "import logging\n",
        "\n",
        "def test_logging():\n",
        "    logging.basicConfig(\n",
        "        level=logging.ERROR,\n",
        "        format=\"%(asctime)s | %(levelname)s | %(message)s\",\n",
        "        datefmt=\"%Y-%m-%d %H:%M:%S\",\n",
        "        filename=\"basic.log\")\n",
        "\n",
        "    logging.debug(\"DEBUG\")\n",
        "    logging.info(\"INFO\")\n",
        "    logging.warning(\"WARNING\")\n",
        "    logging.error(\"ERROR\")\n",
        "    logging.critical(\"CRITICAL\")\n",
        "\n",
        "test_logging()"
      ],
      "metadata": {
        "colab": {
          "base_uri": "https://localhost:8080/"
        },
        "id": "kHSusQVceGiZ",
        "outputId": "0236a532-c921-4730-b943-35008d3a1ee1"
      },
      "execution_count": 3,
      "outputs": [
        {
          "output_type": "stream",
          "name": "stderr",
          "text": [
            "WARNING:root:WARNING\n",
            "ERROR:root:ERROR\n",
            "CRITICAL:root:CRITICAL\n"
          ]
        }
      ]
    },
    {
      "cell_type": "code",
      "source": [
        "import logging\n",
        "\n",
        "def test_logging():\n",
        "    logging.basicConfig(\n",
        "        level=logging.INFO,\n",
        "        format=\"%(message)s\")\n",
        "\n",
        "    for i in [\"Dog\", \"Cat\"]:\n",
        "        logging.info(\"%s is your animal!\", i)\n",
        "\n",
        "test_logging()"
      ],
      "metadata": {
        "id": "G3tx3DeteKzd"
      },
      "execution_count": 4,
      "outputs": []
    },
    {
      "cell_type": "code",
      "source": [
        "import logging\n",
        "\n",
        "logger = logging.getLogger('TEST')\n",
        "logger.setLevel(logging.DEBUG)\n",
        "\n",
        "handle = logging.StreamHandler()\n",
        "handle.setLevel(logging.DEBUG)\n",
        "formatter = logging.Formatter('%(asctime)s - %(name)s - %(levelname)s - %(message)s')\n",
        "handle.setFormatter(formatter)\n",
        "logger.addHandler(handle)\n",
        "\n",
        "logger.debug(\"DEBUG\")\n",
        "logger.info(\"INFO\")"
      ],
      "metadata": {
        "colab": {
          "base_uri": "https://localhost:8080/"
        },
        "id": "fx2UoJo0eMs0",
        "outputId": "01d06ccc-625b-4274-a582-0abdd60bdd87"
      },
      "execution_count": 5,
      "outputs": [
        {
          "output_type": "stream",
          "name": "stderr",
          "text": [
            "2023-11-21 01:22:38,593 - TEST - DEBUG - DEBUG\n",
            "DEBUG:TEST:DEBUG\n",
            "2023-11-21 01:22:38,598 - TEST - INFO - INFO\n",
            "INFO:TEST:INFO\n"
          ]
        }
      ]
    },
    {
      "cell_type": "code",
      "source": [
        "!pip install colorlog"
      ],
      "metadata": {
        "colab": {
          "base_uri": "https://localhost:8080/"
        },
        "id": "ywvC0LgaeSZS",
        "outputId": "2f56fee8-0535-4151-cee4-7199bdffde4e"
      },
      "execution_count": 7,
      "outputs": [
        {
          "output_type": "stream",
          "name": "stdout",
          "text": [
            "Collecting colorlog\n",
            "  Downloading colorlog-6.7.0-py2.py3-none-any.whl (11 kB)\n",
            "Installing collected packages: colorlog\n",
            "Successfully installed colorlog-6.7.0\n"
          ]
        }
      ]
    },
    {
      "cell_type": "code",
      "source": [
        "import logging\n",
        "import colorlog\n",
        "\n",
        "logger = logging.getLogger('TEST')\n",
        "logger.setLevel(logging.DEBUG)\n",
        "\n",
        "handle = logging.StreamHandler()\n",
        "handle.setLevel(logging.DEBUG)\n",
        "fmt = colorlog.ColoredFormatter(\n",
        "    \"%(name)s: %(white)s%(asctime)s%(reset)s %(log_color)s%(levelname)s%(reset)s %(process)d >>> %(log_color)s%(message)s%(reset)s\"\n",
        ")\n",
        "handle.setFormatter(fmt)\n",
        "logger.addHandler(handle)\n",
        "\n",
        "logger.error(\"ERROR\")\n",
        "logger.info(\"INFO\")"
      ],
      "metadata": {
        "colab": {
          "base_uri": "https://localhost:8080/"
        },
        "id": "lLz4cov5eOBp",
        "outputId": "d026cdb6-9411-455e-93df-3de9dfbf011c"
      },
      "execution_count": 8,
      "outputs": [
        {
          "output_type": "stream",
          "name": "stderr",
          "text": [
            "2023-11-21 01:23:09,217 - TEST - ERROR - ERROR\n",
            "TEST: \u001b[37m2023-11-21 01:23:09,217\u001b[0m \u001b[31mERROR\u001b[0m 123 >>> \u001b[31mERROR\u001b[0m\n",
            "ERROR:TEST:ERROR\n",
            "2023-11-21 01:23:09,224 - TEST - INFO - INFO\n",
            "TEST: \u001b[37m2023-11-21 01:23:09,224\u001b[0m \u001b[32mINFO\u001b[0m 123 >>> \u001b[32mINFO\u001b[0m\n",
            "INFO:TEST:INFO\n"
          ]
        }
      ]
    },
    {
      "cell_type": "code",
      "source": [
        "import logging\n",
        "from time import sleep\n",
        "\n",
        "def db_connection(user: str, password: str, logger: logging.Logger) -> str:\n",
        "    \"\"\"\n",
        "    Dummy database connection\n",
        "    \"\"\"\n",
        "    conn_str = user + password\n",
        "    logger.info(\"Connection started\")\n",
        "    sleep(1)\n",
        "    try:\n",
        "        conn = \"Connection\"\n",
        "        logger.info(\"Connection succesfull\")\n",
        "    except:\n",
        "        logger.error(\"Error during db connection\")\n",
        "    return conn\n",
        "\n",
        "def send_data(data: tuple, conn: str, logger: logging.Logger) -> None:\n",
        "    logger.info(\"Data sent\")\n",
        "\n",
        "def main():\n",
        "\n",
        "    # prepare logger\n",
        "    logger = logging.getLogger('TEST')\n",
        "    logger.setLevel(logging.DEBUG)\n",
        "    handle = logging.StreamHandler()\n",
        "    handle.setLevel(logging.DEBUG)\n",
        "    formatter = logging.Formatter('%(asctime)s - %(name)s - %(levelname)s - %(message)s')\n",
        "    handle.setFormatter(formatter)\n",
        "    logger.addHandler(handle)\n",
        "\n",
        "    logger.info(\"Programm Started\")\n",
        "    sleep(1)\n",
        "\n",
        "    conn = db_connection(user='test', password='test', logger=logger)\n",
        "\n",
        "    data = (\"test\", 123)\n",
        "    send_data(data=data, conn=conn, logger=logger)\n",
        "main()"
      ],
      "metadata": {
        "colab": {
          "base_uri": "https://localhost:8080/"
        },
        "id": "14SfsWGFeRIB",
        "outputId": "b4dfa30f-4175-46d8-efd5-9e5c1ff4e1b9"
      },
      "execution_count": 9,
      "outputs": [
        {
          "output_type": "stream",
          "name": "stderr",
          "text": [
            "2023-11-21 01:23:12,544 - TEST - INFO - Programm Started\n",
            "TEST: \u001b[37m2023-11-21 01:23:12,544\u001b[0m \u001b[32mINFO\u001b[0m 123 >>> \u001b[32mProgramm Started\u001b[0m\n",
            "2023-11-21 01:23:12,544 - TEST - INFO - Programm Started\n",
            "INFO:TEST:Programm Started\n",
            "2023-11-21 01:23:13,568 - TEST - INFO - Connection started\n",
            "TEST: \u001b[37m2023-11-21 01:23:13,568\u001b[0m \u001b[32mINFO\u001b[0m 123 >>> \u001b[32mConnection started\u001b[0m\n",
            "2023-11-21 01:23:13,568 - TEST - INFO - Connection started\n",
            "INFO:TEST:Connection started\n",
            "2023-11-21 01:23:14,575 - TEST - INFO - Connection succesfull\n",
            "TEST: \u001b[37m2023-11-21 01:23:14,575\u001b[0m \u001b[32mINFO\u001b[0m 123 >>> \u001b[32mConnection succesfull\u001b[0m\n",
            "2023-11-21 01:23:14,575 - TEST - INFO - Connection succesfull\n",
            "INFO:TEST:Connection succesfull\n",
            "2023-11-21 01:23:14,580 - TEST - INFO - Data sent\n",
            "TEST: \u001b[37m2023-11-21 01:23:14,580\u001b[0m \u001b[32mINFO\u001b[0m 123 >>> \u001b[32mData sent\u001b[0m\n",
            "2023-11-21 01:23:14,580 - TEST - INFO - Data sent\n",
            "INFO:TEST:Data sent\n"
          ]
        }
      ]
    }
  ]
}