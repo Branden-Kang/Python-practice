{
  "nbformat": 4,
  "nbformat_minor": 0,
  "metadata": {
    "colab": {
      "name": "5 Advanced Operations to Handle Numbers in Python.ipynb",
      "provenance": [],
      "authorship_tag": "ABX9TyNmecVfW8DQb5jlUAPS4qys"
    },
    "kernelspec": {
      "name": "python3",
      "display_name": "Python 3"
    }
  },
  "cells": [
    {
      "cell_type": "markdown",
      "metadata": {
        "id": "-XVuu7BmVSIJ",
        "colab_type": "text"
      },
      "source": [
        "[Reference](https://medium.com/better-programming/5-advanced-operations-to-handle-numbers-in-python-e7ff921da4750)"
      ]
    },
    {
      "cell_type": "markdown",
      "metadata": {
        "id": "ASUrcByAVVkn",
        "colab_type": "text"
      },
      "source": [
        "# 1. Less-Used Operators"
      ]
    },
    {
      "cell_type": "code",
      "metadata": {
        "id": "B0LViOpFVJXk",
        "colab_type": "code",
        "colab": {
          "base_uri": "https://localhost:8080/",
          "height": 85
        },
        "outputId": "eda95266-8eb4-425a-a71c-e3a96f5be6db"
      },
      "source": [
        "print(\"***  Modulus Operator %\")\n",
        "for i in range(3, 6):\n",
        "   print(f\"* {i} % 3 =\", i % 3)"
      ],
      "execution_count": 1,
      "outputs": [
        {
          "output_type": "stream",
          "text": [
            "***  Modulus Operator %\n",
            "* 3 % 3 = 0\n",
            "* 4 % 3 = 1\n",
            "* 5 % 3 = 2\n"
          ],
          "name": "stdout"
        }
      ]
    },
    {
      "cell_type": "code",
      "metadata": {
        "id": "atAFRwoaVZMP",
        "colab_type": "code",
        "colab": {
          "base_uri": "https://localhost:8080/",
          "height": 102
        },
        "outputId": "08430ce9-7216-476a-9154-c50096c505d7"
      },
      "source": [
        "print(\"\\n###  Exponentiation Operator **\")\n",
        "for i in range(2, 5):\n",
        "  print(f\"# {i} ** {i} =\", i ** i)"
      ],
      "execution_count": 2,
      "outputs": [
        {
          "output_type": "stream",
          "text": [
            "\n",
            "###  Exponentiation Operator **\n",
            "# 2 ** 2 = 4\n",
            "# 3 ** 3 = 27\n",
            "# 4 ** 4 = 256\n"
          ],
          "name": "stdout"
        }
      ]
    },
    {
      "cell_type": "code",
      "metadata": {
        "id": "ZXtiWNEuVbq7",
        "colab_type": "code",
        "colab": {
          "base_uri": "https://localhost:8080/",
          "height": 102
        },
        "outputId": "c3fbb7ea-5ac9-4cc2-c6da-6a530914d95b"
      },
      "source": [
        "print(\"\\n$$$  Floor Division //\")\n",
        "for i in range(9, 20, 4):\n",
        "  print(f\"$ {i} // 5 =\", i // 5)"
      ],
      "execution_count": 3,
      "outputs": [
        {
          "output_type": "stream",
          "text": [
            "\n",
            "$$$  Floor Division //\n",
            "$ 9 // 5 = 1\n",
            "$ 13 // 5 = 2\n",
            "$ 17 // 5 = 3\n"
          ],
          "name": "stdout"
        }
      ]
    },
    {
      "cell_type": "markdown",
      "metadata": {
        "id": "83ZdSjVWVmL9",
        "colab_type": "text"
      },
      "source": [
        "# 2. Assignment Operators"
      ]
    },
    {
      "cell_type": "code",
      "metadata": {
        "id": "PC0OU4vKVftK",
        "colab_type": "code",
        "colab": {
          "base_uri": "https://localhost:8080/",
          "height": 34
        },
        "outputId": "cf91320f-ee62-49d4-eb06-d26d70ad2a5d"
      },
      "source": [
        "x = 10\n",
        "x *= 5\n",
        "print(f\"* x was 10, and x *= 5 making x =\", x)"
      ],
      "execution_count": 5,
      "outputs": [
        {
          "output_type": "stream",
          "text": [
            "* x was 10, and x *= 5 making x = 50\n"
          ],
          "name": "stdout"
        }
      ]
    },
    {
      "cell_type": "code",
      "metadata": {
        "id": "gj1TkNobVhyv",
        "colab_type": "code",
        "colab": {
          "base_uri": "https://localhost:8080/",
          "height": 34
        },
        "outputId": "42804fc0-db01-4537-a4c1-caa71f863702"
      },
      "source": [
        "y = 22\n",
        "y //= 4\n",
        "print(f\"* y was 22, and y //= 4 making y =\", y)"
      ],
      "execution_count": 7,
      "outputs": [
        {
          "output_type": "stream",
          "text": [
            "* y was 22, and y //= 4 making y = 5\n"
          ],
          "name": "stdout"
        }
      ]
    },
    {
      "cell_type": "code",
      "metadata": {
        "id": "gVsXeo1xVq3k",
        "colab_type": "code",
        "colab": {
          "base_uri": "https://localhost:8080/",
          "height": 34
        },
        "outputId": "0da49f66-f71e-4392-bff4-3dc07a63a825"
      },
      "source": [
        "z = 30\n",
        "z **= 2\n",
        "print(f\"* z was 30, and z **=2 making z =\", z)"
      ],
      "execution_count": 8,
      "outputs": [
        {
          "output_type": "stream",
          "text": [
            "* z was 30, and z **=2 making z = 900\n"
          ],
          "name": "stdout"
        }
      ]
    },
    {
      "cell_type": "code",
      "metadata": {
        "id": "hidQBSKBVuJd",
        "colab_type": "code",
        "colab": {
          "base_uri": "https://localhost:8080/",
          "height": 34
        },
        "outputId": "63545c3f-6772-4f7e-f044-ba7618f91f59"
      },
      "source": [
        "x = [1, 2, 3]\n",
        "x *= 3\n",
        "print(x)"
      ],
      "execution_count": 9,
      "outputs": [
        {
          "output_type": "stream",
          "text": [
            "[1, 2, 3, 1, 2, 3, 1, 2, 3]\n"
          ],
          "name": "stdout"
        }
      ]
    },
    {
      "cell_type": "markdown",
      "metadata": {
        "id": "kc415vttVyYb",
        "colab_type": "text"
      },
      "source": [
        "# 3. Precision With Decimal"
      ]
    },
    {
      "cell_type": "code",
      "metadata": {
        "id": "zi24146ZVxIs",
        "colab_type": "code",
        "colab": {
          "base_uri": "https://localhost:8080/",
          "height": 51
        },
        "outputId": "cdcb374d-fd8f-4a66-8e57-25d742c7bb00"
      },
      "source": [
        "a = 2.2\n",
        "b = 1.1\n",
        "c = a + b\n",
        "print(\"The value of c is\", c)\n",
        "print(\"Is c equal to 3.3?\", c == 3.3)"
      ],
      "execution_count": 10,
      "outputs": [
        {
          "output_type": "stream",
          "text": [
            "The value of c is 3.3000000000000003\n",
            "Is c equal to 3.3? False\n"
          ],
          "name": "stdout"
        }
      ]
    },
    {
      "cell_type": "code",
      "metadata": {
        "id": "0peHCja7V20c",
        "colab_type": "code",
        "colab": {
          "base_uri": "https://localhost:8080/",
          "height": 68
        },
        "outputId": "347ceab8-a1d6-409e-c9da-5582900fee7a"
      },
      "source": [
        "from decimal import Decimal\n",
        "a_Decimal = Decimal('2.2')\n",
        "b_Decimal = Decimal('1.1')\n",
        "c_Decimal = a_Decimal + b_Decimal\n",
        "print(\"The value of c_Decimal is\", c_Decimal)\n",
        "print(\"Is c_Decimal to 3.3?\", c_Decimal == 3.3)\n",
        "print(\"Is c_Decimal to Decimal('3.3')?\", c_Decimal == Decimal('3.3'))"
      ],
      "execution_count": 11,
      "outputs": [
        {
          "output_type": "stream",
          "text": [
            "The value of c_Decimal is 3.3\n",
            "Is c_Decimal to 3.3? False\n",
            "Is c_Decimal to Decimal('3.3')? True\n"
          ],
          "name": "stdout"
        }
      ]
    },
    {
      "cell_type": "markdown",
      "metadata": {
        "id": "hAK0L3WPWG7I",
        "colab_type": "text"
      },
      "source": [
        "# 4. Fractions"
      ]
    },
    {
      "cell_type": "code",
      "metadata": {
        "id": "5SnMPK1qWA8y",
        "colab_type": "code",
        "colab": {
          "base_uri": "https://localhost:8080/",
          "height": 34
        },
        "outputId": "b1c23d98-08a8-4c23-cee9-b6fe942eb018"
      },
      "source": [
        "from fractions import Fraction\n",
        "one_ninth = Fraction(1, 9)\n",
        "one_ninth"
      ],
      "execution_count": 12,
      "outputs": [
        {
          "output_type": "execute_result",
          "data": {
            "text/plain": [
              "Fraction(1, 9)"
            ]
          },
          "metadata": {
            "tags": []
          },
          "execution_count": 12
        }
      ]
    },
    {
      "cell_type": "code",
      "metadata": {
        "id": "d2uCevM7WJZq",
        "colab_type": "code",
        "colab": {}
      },
      "source": [
        "one_seventh = Fraction(1, 7)"
      ],
      "execution_count": 13,
      "outputs": []
    },
    {
      "cell_type": "code",
      "metadata": {
        "id": "tN4T9tBZWLso",
        "colab_type": "code",
        "colab": {}
      },
      "source": [
        "ninth_plus_seventh = one_ninth + one_seventh"
      ],
      "execution_count": 14,
      "outputs": []
    },
    {
      "cell_type": "code",
      "metadata": {
        "id": "DoE3FMLsWMYX",
        "colab_type": "code",
        "colab": {}
      },
      "source": [
        "ninth_multiply_seventh = one_ninth * one_seventh"
      ],
      "execution_count": 15,
      "outputs": []
    },
    {
      "cell_type": "code",
      "metadata": {
        "id": "kKlv5JYlWOTR",
        "colab_type": "code",
        "colab": {
          "base_uri": "https://localhost:8080/",
          "height": 34
        },
        "outputId": "8eb66841-dc9d-4b4e-9a83-ab65540441b7"
      },
      "source": [
        "print(\"one_ninth's value is:\", one_ninth)"
      ],
      "execution_count": 16,
      "outputs": [
        {
          "output_type": "stream",
          "text": [
            "one_ninth's value is: 1/9\n"
          ],
          "name": "stdout"
        }
      ]
    },
    {
      "cell_type": "code",
      "metadata": {
        "id": "tBq-slrIWPKT",
        "colab_type": "code",
        "colab": {
          "base_uri": "https://localhost:8080/",
          "height": 34
        },
        "outputId": "c23b5250-f5f2-46fa-8635-edb5b1fb815b"
      },
      "source": [
        "print(\"one_seventh's value is:\", one_seventh)"
      ],
      "execution_count": 17,
      "outputs": [
        {
          "output_type": "stream",
          "text": [
            "one_seventh's value is: 1/7\n"
          ],
          "name": "stdout"
        }
      ]
    },
    {
      "cell_type": "code",
      "metadata": {
        "id": "HHbsEOUmWQZL",
        "colab_type": "code",
        "colab": {
          "base_uri": "https://localhost:8080/",
          "height": 34
        },
        "outputId": "3374f27a-9df7-4377-f133-25a7099c7b9f"
      },
      "source": [
        "print(\"addition of the two:\", ninth_plus_seventh)"
      ],
      "execution_count": 18,
      "outputs": [
        {
          "output_type": "stream",
          "text": [
            "addition of the two: 16/63\n"
          ],
          "name": "stdout"
        }
      ]
    },
    {
      "cell_type": "code",
      "metadata": {
        "id": "C6SZJQz1WR96",
        "colab_type": "code",
        "colab": {
          "base_uri": "https://localhost:8080/",
          "height": 34
        },
        "outputId": "0b070226-b1fc-4b7b-8ad1-564cb3e2872b"
      },
      "source": [
        "print(\"multiplication of the two:\", ninth_multiply_seventh)"
      ],
      "execution_count": 19,
      "outputs": [
        {
          "output_type": "stream",
          "text": [
            "multiplication of the two: 1/63\n"
          ],
          "name": "stdout"
        }
      ]
    },
    {
      "cell_type": "code",
      "metadata": {
        "id": "ZszXzM5fWV3x",
        "colab_type": "code",
        "colab": {
          "base_uri": "https://localhost:8080/",
          "height": 54
        },
        "outputId": "c01d927f-b26a-45c0-b6d6-ed070258cf4e"
      },
      "source": [
        "print(\"*** You can choose whether to normalize the fraction. By default, it's normalized.\")"
      ],
      "execution_count": 20,
      "outputs": [
        {
          "output_type": "stream",
          "text": [
            "*** You can choose whether to normalize the fraction. By default, it's normalized.\n"
          ],
          "name": "stdout"
        }
      ]
    },
    {
      "cell_type": "code",
      "metadata": {
        "id": "lTkV3hCzWb_8",
        "colab_type": "code",
        "colab": {
          "base_uri": "https://localhost:8080/",
          "height": 34
        },
        "outputId": "c202985e-8377-426a-87a8-e5fadeb3081d"
      },
      "source": [
        "print('Normalize: 3/9 is', Fraction(3, 9, _normalize=True))"
      ],
      "execution_count": 21,
      "outputs": [
        {
          "output_type": "stream",
          "text": [
            "Normalize: 3/9 is 1/3\n"
          ],
          "name": "stdout"
        }
      ]
    },
    {
      "cell_type": "code",
      "metadata": {
        "id": "HkaCVrVeWdUp",
        "colab_type": "code",
        "colab": {
          "base_uri": "https://localhost:8080/",
          "height": 34
        },
        "outputId": "aa9d82af-bcf0-41cb-bc26-139e03279870"
      },
      "source": [
        "print('non-normalized: 3/9 is', Fraction(3, 9, _normalize=False))"
      ],
      "execution_count": 22,
      "outputs": [
        {
          "output_type": "stream",
          "text": [
            "non-normalized: 3/9 is 3/9\n"
          ],
          "name": "stdout"
        }
      ]
    },
    {
      "cell_type": "code",
      "metadata": {
        "id": "HhxwgNnXWeKT",
        "colab_type": "code",
        "colab": {
          "base_uri": "https://localhost:8080/",
          "height": 34
        },
        "outputId": "5f6948fa-8dd9-47a3-eb20-651194ffda4d"
      },
      "source": [
        "print(\"*** You can access a fraction's numerator and denominator.\")"
      ],
      "execution_count": 23,
      "outputs": [
        {
          "output_type": "stream",
          "text": [
            "*** You can access a fraction's numerator and denominator.\n"
          ],
          "name": "stdout"
        }
      ]
    },
    {
      "cell_type": "code",
      "metadata": {
        "id": "HWNTVcnsWfyV",
        "colab_type": "code",
        "colab": {}
      },
      "source": [
        "two_seventh = Fraction(2, 7)"
      ],
      "execution_count": 24,
      "outputs": []
    },
    {
      "cell_type": "code",
      "metadata": {
        "id": "kdumspBkWgps",
        "colab_type": "code",
        "colab": {
          "base_uri": "https://localhost:8080/",
          "height": 34
        },
        "outputId": "b591fcf8-a1aa-4218-b723-965706d26b6f"
      },
      "source": [
        "print(f\"{two_seventh}'s numerator:\", two_seventh.numerator)"
      ],
      "execution_count": 25,
      "outputs": [
        {
          "output_type": "stream",
          "text": [
            "2/7's numerator: 2\n"
          ],
          "name": "stdout"
        }
      ]
    },
    {
      "cell_type": "code",
      "metadata": {
        "id": "McCttRz_WhvK",
        "colab_type": "code",
        "colab": {
          "base_uri": "https://localhost:8080/",
          "height": 34
        },
        "outputId": "6d82a13d-0ce1-4c46-d1f1-7121b12ef4d9"
      },
      "source": [
        "print(f\"{two_seventh}'s denominator:\", two_seventh.denominator)"
      ],
      "execution_count": 26,
      "outputs": [
        {
          "output_type": "stream",
          "text": [
            "2/7's denominator: 7\n"
          ],
          "name": "stdout"
        }
      ]
    },
    {
      "cell_type": "code",
      "metadata": {
        "id": "KVpAaDzWWizA",
        "colab_type": "code",
        "colab": {
          "base_uri": "https://localhost:8080/",
          "height": 34
        },
        "outputId": "6977bd6e-a301-457d-dff8-91b098005601"
      },
      "source": [
        "print(\"*** Convertions between floats and fractions\")"
      ],
      "execution_count": 27,
      "outputs": [
        {
          "output_type": "stream",
          "text": [
            "*** Convertions between floats and fractions\n"
          ],
          "name": "stdout"
        }
      ]
    },
    {
      "cell_type": "code",
      "metadata": {
        "id": "fLDIsafMWlcM",
        "colab_type": "code",
        "colab": {
          "base_uri": "https://localhost:8080/",
          "height": 34
        },
        "outputId": "f5656460-1c44-491b-e184-d281548d8987"
      },
      "source": [
        "print(f\"{two_seventh} expressed as floats:\", float(two_seventh))"
      ],
      "execution_count": 28,
      "outputs": [
        {
          "output_type": "stream",
          "text": [
            "2/7 expressed as floats: 0.2857142857142857\n"
          ],
          "name": "stdout"
        }
      ]
    },
    {
      "cell_type": "code",
      "metadata": {
        "id": "BqHBO2dwWmRO",
        "colab_type": "code",
        "colab": {
          "base_uri": "https://localhost:8080/",
          "height": 34
        },
        "outputId": "5c4a24ab-642c-4c4f-d246-421f193e4867"
      },
      "source": [
        "print(f\"0.5 expressed as fraction:\", Fraction(*0.5.as_integer_ratio()))"
      ],
      "execution_count": 29,
      "outputs": [
        {
          "output_type": "stream",
          "text": [
            "0.5 expressed as fraction: 1/2\n"
          ],
          "name": "stdout"
        }
      ]
    },
    {
      "cell_type": "markdown",
      "metadata": {
        "id": "-tuRsIzdWpNX",
        "colab_type": "text"
      },
      "source": [
        "# 5. Format Numbers for Strings"
      ]
    },
    {
      "cell_type": "code",
      "metadata": {
        "id": "kRqz2aF6WnKW",
        "colab_type": "code",
        "colab": {}
      },
      "source": [
        "large_number = 7323843829343"
      ],
      "execution_count": 30,
      "outputs": []
    },
    {
      "cell_type": "code",
      "metadata": {
        "id": "hqhz2u98WqM5",
        "colab_type": "code",
        "colab": {
          "base_uri": "https://localhost:8080/",
          "height": 34
        },
        "outputId": "4ced5bde-adc9-4f75-fa0b-af5fa206d493"
      },
      "source": [
        "print(\"Formatted: {:_d}\".format(large_number))"
      ],
      "execution_count": 31,
      "outputs": [
        {
          "output_type": "stream",
          "text": [
            "Formatted: 7_323_843_829_343\n"
          ],
          "name": "stdout"
        }
      ]
    },
    {
      "cell_type": "code",
      "metadata": {
        "id": "fYvGt7xnWsFv",
        "colab_type": "code",
        "colab": {
          "base_uri": "https://localhost:8080/",
          "height": 34
        },
        "outputId": "a7500167-90e0-47e5-cc6d-47dc1cfd38ae"
      },
      "source": [
        "print(\"Formatted: {:,d}\".format(large_number))"
      ],
      "execution_count": 32,
      "outputs": [
        {
          "output_type": "stream",
          "text": [
            "Formatted: 7,323,843,829,343\n"
          ],
          "name": "stdout"
        }
      ]
    },
    {
      "cell_type": "code",
      "metadata": {
        "id": "FCt5CJ-XWtFI",
        "colab_type": "code",
        "colab": {}
      },
      "source": [
        "scores = [95, 97, 94, 97, 95, 93]"
      ],
      "execution_count": 33,
      "outputs": []
    },
    {
      "cell_type": "code",
      "metadata": {
        "id": "eON6gprqWxEE",
        "colab_type": "code",
        "colab": {}
      },
      "source": [
        " mean_score = sum(scores) / len(scores)"
      ],
      "execution_count": 34,
      "outputs": []
    },
    {
      "cell_type": "code",
      "metadata": {
        "id": "M1vUhmZgWx2Z",
        "colab_type": "code",
        "colab": {
          "base_uri": "https://localhost:8080/",
          "height": 34
        },
        "outputId": "e0d298c3-8238-43dc-d18d-6b962919c6fc"
      },
      "source": [
        "print(\"Raw Score:\", mean_score)"
      ],
      "execution_count": 35,
      "outputs": [
        {
          "output_type": "stream",
          "text": [
            "Raw Score: 95.16666666666667\n"
          ],
          "name": "stdout"
        }
      ]
    },
    {
      "cell_type": "code",
      "metadata": {
        "id": "1W752cV4Wyw6",
        "colab_type": "code",
        "colab": {
          "base_uri": "https://localhost:8080/",
          "height": 34
        },
        "outputId": "92117fc4-6903-4d89-ecbb-6e0494684477"
      },
      "source": [
        "print(f\"Formatted: {mean_score:.2f}\")"
      ],
      "execution_count": 36,
      "outputs": [
        {
          "output_type": "stream",
          "text": [
            "Formatted: 95.17\n"
          ],
          "name": "stdout"
        }
      ]
    },
    {
      "cell_type": "code",
      "metadata": {
        "id": "vBn6dA4vWzrI",
        "colab_type": "code",
        "colab": {
          "base_uri": "https://localhost:8080/",
          "height": 34
        },
        "outputId": "2ddeac1c-6251-4a32-e658-1bba33aa2fe4"
      },
      "source": [
        "print(f\"Formatted from rounding: {round(mean_score, 2)}\")"
      ],
      "execution_count": 37,
      "outputs": [
        {
          "output_type": "stream",
          "text": [
            "Formatted from rounding: 95.17\n"
          ],
          "name": "stdout"
        }
      ]
    },
    {
      "cell_type": "code",
      "metadata": {
        "id": "jN3uNPNZW03_",
        "colab_type": "code",
        "colab": {}
      },
      "source": [
        "large_number = 2834000000000"
      ],
      "execution_count": 38,
      "outputs": []
    },
    {
      "cell_type": "code",
      "metadata": {
        "id": "B3yH2_fDW2qh",
        "colab_type": "code",
        "colab": {}
      },
      "source": [
        "small_number = 0.00000003213"
      ],
      "execution_count": 39,
      "outputs": []
    },
    {
      "cell_type": "code",
      "metadata": {
        "id": "IragnASLW3Xf",
        "colab_type": "code",
        "colab": {
          "base_uri": "https://localhost:8080/",
          "height": 34
        },
        "outputId": "03d79a59-b095-442a-91bd-03d12e2fbd3d"
      },
      "source": [
        "print(f\"Formatted large number: {large_number:e}\")"
      ],
      "execution_count": 40,
      "outputs": [
        {
          "output_type": "stream",
          "text": [
            "Formatted large number: 2.834000e+12\n"
          ],
          "name": "stdout"
        }
      ]
    },
    {
      "cell_type": "code",
      "metadata": {
        "id": "1VbnXa3wW4Mh",
        "colab_type": "code",
        "colab": {
          "base_uri": "https://localhost:8080/",
          "height": 34
        },
        "outputId": "26dd877e-3a6c-4a60-b2b4-af74274fc202"
      },
      "source": [
        "print(f\"Formatted small number: {small_number:e}\")"
      ],
      "execution_count": 41,
      "outputs": [
        {
          "output_type": "stream",
          "text": [
            "Formatted small number: 3.213000e-08\n"
          ],
          "name": "stdout"
        }
      ]
    },
    {
      "cell_type": "code",
      "metadata": {
        "id": "_03CmFp1W5Z-",
        "colab_type": "code",
        "colab": {}
      },
      "source": [
        "current_apr = 0.03792343"
      ],
      "execution_count": 42,
      "outputs": []
    },
    {
      "cell_type": "code",
      "metadata": {
        "id": "t9fzpmj4W633",
        "colab_type": "code",
        "colab": {}
      },
      "source": [
        "discount_rate = 0.333333"
      ],
      "execution_count": 43,
      "outputs": []
    },
    {
      "cell_type": "code",
      "metadata": {
        "id": "9Wh3sE28W7zk",
        "colab_type": "code",
        "colab": {
          "base_uri": "https://localhost:8080/",
          "height": 34
        },
        "outputId": "272df10f-2077-4845-ae1b-d119def5f3c5"
      },
      "source": [
        "print(f\"Current APR: {current_apr:.2%}\")"
      ],
      "execution_count": 44,
      "outputs": [
        {
          "output_type": "stream",
          "text": [
            "Current APR: 3.79%\n"
          ],
          "name": "stdout"
        }
      ]
    },
    {
      "cell_type": "code",
      "metadata": {
        "id": "dGMQpC3cW8yF",
        "colab_type": "code",
        "colab": {
          "base_uri": "https://localhost:8080/",
          "height": 34
        },
        "outputId": "0ee5f670-772a-4f67-9bf5-373bd0672afb"
      },
      "source": [
        "print(f\"Discount Rate: {discount_rate:.4%}\")"
      ],
      "execution_count": 45,
      "outputs": [
        {
          "output_type": "stream",
          "text": [
            "Discount Rate: 33.3333%\n"
          ],
          "name": "stdout"
        }
      ]
    }
  ]
}