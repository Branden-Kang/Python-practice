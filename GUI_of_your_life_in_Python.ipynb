{
  "nbformat": 4,
  "nbformat_minor": 0,
  "metadata": {
    "colab": {
      "name": "GUI of your life in Python.ipynb",
      "provenance": [],
      "authorship_tag": "ABX9TyNGqRIsqgFDPcJB6Ljk1u6V"
    },
    "kernelspec": {
      "name": "python3",
      "display_name": "Python 3"
    }
  },
  "cells": [
    {
      "cell_type": "markdown",
      "metadata": {
        "id": "Y5xfTXS2uN--",
        "colab_type": "text"
      },
      "source": [
        "[Reference](https://codeburst.io/how-to-use-the-easiest-gui-of-your-life-in-python-d3762270a2a0)"
      ]
    },
    {
      "cell_type": "code",
      "metadata": {
        "id": "dmLlDRhGtQtL",
        "colab_type": "code",
        "colab": {
          "base_uri": "https://localhost:8080/",
          "height": 462
        },
        "outputId": "1defbd4a-a284-48fe-8224-c489cdb6342a"
      },
      "source": [
        "!pip3 install Gooey"
      ],
      "execution_count": 1,
      "outputs": [
        {
          "output_type": "stream",
          "text": [
            "Collecting Gooey\n",
            "\u001b[?25l  Downloading https://files.pythonhosted.org/packages/54/a0/921977b6e427da36f979654c871c260c769b23f897c9edef94feb83b724d/Gooey-1.0.4.0.0.0-py2.py3-none-any.whl (617kB)\n",
            "\u001b[K     |████████████████████████████████| 624kB 7.9MB/s \n",
            "\u001b[?25hCollecting colored>=1.3.93\n",
            "\u001b[?25l  Downloading https://files.pythonhosted.org/packages/b2/16/04827e24c14266d9161bd86bad50069fea453fa006c3d2b31da39251184a/colored-1.4.2.tar.gz (56kB)\n",
            "\u001b[K     |████████████████████████████████| 61kB 8.3MB/s \n",
            "\u001b[?25hRequirement already satisfied: psutil>=5.4.2 in /usr/local/lib/python3.6/dist-packages (from Gooey) (5.4.8)\n",
            "Requirement already satisfied: Pillow>=4.3.0 in /usr/local/lib/python3.6/dist-packages (from Gooey) (7.0.0)\n",
            "Collecting wxpython==4.0.7\n",
            "\u001b[?25l  Downloading https://files.pythonhosted.org/packages/8a/12/b9ef24e65f531e2cad20450fd1bc3538345f66049f262565dc5c708fe0e6/wxPython-4.0.7.tar.gz (68.9MB)\n",
            "\u001b[K     |████████████████████████████████| 68.9MB 56kB/s \n",
            "\u001b[?25hRequirement already satisfied: six in /usr/local/lib/python3.6/dist-packages (from wxpython==4.0.7->Gooey) (1.15.0)\n",
            "Requirement already satisfied: numpy in /usr/local/lib/python3.6/dist-packages (from wxpython==4.0.7->Gooey) (1.18.5)\n",
            "Building wheels for collected packages: colored, wxpython\n",
            "  Building wheel for colored (setup.py) ... \u001b[?25l\u001b[?25hdone\n",
            "  Created wheel for colored: filename=colored-1.4.2-cp36-none-any.whl size=14003 sha256=3421d77818b46f3ff775f6f03e67eb2b60c689b80385cd3055577c9fb4eeeb83\n",
            "  Stored in directory: /root/.cache/pip/wheels/ec/10/5e/d17d5ef644e1051a753bd98f3796789ec39bc3337cd36637f3\n",
            "  Building wheel for wxpython (setup.py) ... \u001b[?25lerror\n",
            "\u001b[31m  ERROR: Failed building wheel for wxpython\u001b[0m\n",
            "\u001b[?25h  Running setup.py clean for wxpython\n",
            "Successfully built colored\n",
            "Failed to build wxpython\n",
            "Installing collected packages: colored, wxpython, Gooey\n",
            "    Running setup.py install for wxpython ... \u001b[?25l\u001b[?25herror\n",
            "\u001b[31mERROR: Command errored out with exit status 1: /usr/bin/python3 -u -c 'import sys, setuptools, tokenize; sys.argv[0] = '\"'\"'/tmp/pip-install-5ba8y75b/wxpython/setup.py'\"'\"'; __file__='\"'\"'/tmp/pip-install-5ba8y75b/wxpython/setup.py'\"'\"';f=getattr(tokenize, '\"'\"'open'\"'\"', open)(__file__);code=f.read().replace('\"'\"'\\r\\n'\"'\"', '\"'\"'\\n'\"'\"');f.close();exec(compile(code, __file__, '\"'\"'exec'\"'\"'))' install --record /tmp/pip-record-z26pc3nm/install-record.txt --single-version-externally-managed --compile Check the logs for full command output.\u001b[0m\n"
          ],
          "name": "stdout"
        }
      ]
    },
    {
      "cell_type": "code",
      "metadata": {
        "id": "u0kNCuW1tR9q",
        "colab_type": "code",
        "colab": {}
      },
      "source": [
        "import argparse\n",
        "\n",
        "parser = argparse.ArgumentParser(description='Do stuff with numbers.')"
      ],
      "execution_count": 2,
      "outputs": []
    },
    {
      "cell_type": "code",
      "metadata": {
        "id": "GBDB6PW1tX6w",
        "colab_type": "code",
        "colab": {
          "base_uri": "https://localhost:8080/",
          "height": 54
        },
        "outputId": "31d4cc71-8fc5-4199-ed6f-6e24ac6c11de"
      },
      "source": [
        "import argparse\n",
        "\n",
        "parser = argparse.ArgumentParser(description='Do stuff with numbers.')\n",
        "# Adding an argument that can be called by -a or --add. There is a help message and it is not required. We can have any (n)umber of (args).\n",
        "\n",
        "parser.add_argument('-a','--add', help='Add numbers together', required=False, nargs='+') \n",
        "\n",
        "# same as addition, but multiplication instead\n",
        "\n",
        "parser.add_argument('-m','--multiply', help='Multiply numbers together', required=False, nargs='+')"
      ],
      "execution_count": 4,
      "outputs": [
        {
          "output_type": "execute_result",
          "data": {
            "text/plain": [
              "_StoreAction(option_strings=['-m', '--multiply'], dest='multiply', nargs='+', const=None, default=None, type=None, choices=None, help='Multiply numbers together', metavar=None)"
            ]
          },
          "metadata": {
            "tags": []
          },
          "execution_count": 4
        }
      ]
    },
    {
      "cell_type": "code",
      "metadata": {
        "id": "Va6OsDUEtlsn",
        "colab_type": "code",
        "colab": {}
      },
      "source": [
        "# import argparse\n",
        "# parser = argparse.ArgumentParser(description='Do stuff with numbers.')\n",
        "\n",
        "# # Adding an argument that can be called by -a or --add. There is a help message and it is not required. We can have any (n)umber of (args).\n",
        "\n",
        "# parser.add_argument('-a','--add', help='Add numbers together', required=False, nargs='+')\n",
        "\n",
        "# # same as addition, but multiplication instead\n",
        "\n",
        "# parser.add_argument('-m','--multiply', help='Multiply numbers together', required=False, nargs='+')\n",
        "\n",
        "# if args['add']:\n",
        "#     # add numbers together\n",
        "#     pass\n",
        "# if args['multiply']:\n",
        "#     # multiply the numbers together\n",
        "#     pass"
      ],
      "execution_count": 9,
      "outputs": []
    },
    {
      "cell_type": "code",
      "metadata": {
        "id": "sCkpSIBvtxO4",
        "colab_type": "code",
        "colab": {
          "base_uri": "https://localhost:8080/",
          "height": 436
        },
        "outputId": "d881c762-4162-4d07-edeb-0577ceeb4892"
      },
      "source": [
        "import argparse\n",
        "from gooey import Gooey\n",
        "from functools import reduce\n",
        "\n",
        "@Gooey\n",
        "def main():\n",
        "    parser = argparse.ArgumentParser(description='Do stuff with numbers.')\n",
        "    parser.add_argument('-a','--add', help='Add numbers together', required=False, nargs='+')\n",
        "    parser.add_argument('-m','--multiply', help='Multiply numbers together', required=False, nargs='+')\n",
        "\n",
        "    args = vars(parser.parse_args())\n",
        "\n",
        "    if args['add']:\n",
        "        # did it on one-line to save space\n",
        "        print(sum(list(map(int, args['add']))))\n",
        "\n",
        "    if args['multiply']:\n",
        "        # did it one one-line to save space\n",
        "        print(reduce(lambda a, b: a * b, list(map(int, args['multiply']))))\n",
        "        \n",
        "\n",
        "\n",
        "main()"
      ],
      "execution_count": 10,
      "outputs": [
        {
          "output_type": "error",
          "ename": "ModuleNotFoundError",
          "evalue": "ignored",
          "traceback": [
            "\u001b[0;31m---------------------------------------------------------------------------\u001b[0m",
            "\u001b[0;31mModuleNotFoundError\u001b[0m                       Traceback (most recent call last)",
            "\u001b[0;32m<ipython-input-10-6e2bf579ed73>\u001b[0m in \u001b[0;36m<module>\u001b[0;34m()\u001b[0m\n\u001b[1;32m      1\u001b[0m \u001b[0;32mimport\u001b[0m \u001b[0margparse\u001b[0m\u001b[0;34m\u001b[0m\u001b[0;34m\u001b[0m\u001b[0m\n\u001b[0;32m----> 2\u001b[0;31m \u001b[0;32mfrom\u001b[0m \u001b[0mgooey\u001b[0m \u001b[0;32mimport\u001b[0m \u001b[0mGooey\u001b[0m\u001b[0;34m\u001b[0m\u001b[0;34m\u001b[0m\u001b[0m\n\u001b[0m\u001b[1;32m      3\u001b[0m \u001b[0;32mfrom\u001b[0m \u001b[0mfunctools\u001b[0m \u001b[0;32mimport\u001b[0m \u001b[0mreduce\u001b[0m\u001b[0;34m\u001b[0m\u001b[0;34m\u001b[0m\u001b[0m\n\u001b[1;32m      4\u001b[0m \u001b[0;34m\u001b[0m\u001b[0m\n\u001b[1;32m      5\u001b[0m \u001b[0;34m@\u001b[0m\u001b[0mGooey\u001b[0m\u001b[0;34m\u001b[0m\u001b[0;34m\u001b[0m\u001b[0m\n",
            "\u001b[0;31mModuleNotFoundError\u001b[0m: No module named 'gooey'",
            "",
            "\u001b[0;31m---------------------------------------------------------------------------\u001b[0;32m\nNOTE: If your import is failing due to a missing package, you can\nmanually install dependencies using either !pip or !apt.\n\nTo view examples of installing some common dependencies, click the\n\"Open Examples\" button below.\n\u001b[0;31m---------------------------------------------------------------------------\u001b[0m\n"
          ]
        }
      ]
    }
  ]
}