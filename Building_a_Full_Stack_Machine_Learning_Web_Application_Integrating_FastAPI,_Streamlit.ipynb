{
  "nbformat": 4,
  "nbformat_minor": 0,
  "metadata": {
    "colab": {
      "provenance": [],
      "authorship_tag": "ABX9TyPPl9NTzTEp5RXvQN/fPE1T"
    },
    "kernelspec": {
      "name": "python3",
      "display_name": "Python 3"
    },
    "language_info": {
      "name": "python"
    }
  },
  "cells": [
    {
      "cell_type": "markdown",
      "source": [
        "[Reference](https://medium.com/@borandabak/building-a-full-stack-machine-learning-web-application-integrating-fastapi-streamlit-80babd19c728)"
      ],
      "metadata": {
        "id": "s3UAm7aGa1ZC"
      }
    },
    {
      "cell_type": "code",
      "execution_count": 2,
      "metadata": {
        "id": "trnUWHcIYtmc"
      },
      "outputs": [],
      "source": [
        "import requests\n",
        "import streamlit as st\n",
        "import json\n",
        "\n",
        "# FastAPI endpoint\n",
        "API_URL = \"http://localhost:8000/predict\"\n",
        "\n",
        "# Model options dictionary\n",
        "models = {\n",
        "    \"DecisionTree\": \"DecisionTree\",\n",
        "    \"KNN\": \"KNN\",\n",
        "    \"LogisticRegression\": \"logistic_regression_model\"\n",
        "}\n",
        "\n",
        "# Streamlit app\n",
        "def main():\n",
        "    st.title(\"Machine Learning Model Predictor\")\n",
        "\n",
        "    # Model selection dropdown\n",
        "    selected_model = st.selectbox(\"Select a model\", list(models.keys()))\n",
        "\n",
        "    # Get model file name based on selection\n",
        "    model_file = models[selected_model]\n",
        "\n",
        "    # Feature inputs\n",
        "    sepal_length = st.number_input(\"Sepal length\")\n",
        "    sepal_width = st.number_input(\"Sepal width\")\n",
        "    petal_length = st.number_input(\"Petal length\")\n",
        "    petal_width = st.number_input(\"Petal width\")\n",
        "\n",
        "    # Make prediction on button click\n",
        "    if st.button(\"Predict\"):\n",
        "        # Prepare feature data as JSON payload\n",
        "        feature_data = {\n",
        "            \"sepal_length\": sepal_length,\n",
        "            \"sepal_width\": sepal_width,\n",
        "            \"petal_length\": petal_length,\n",
        "            \"petal_width\": petal_width\n",
        "        }\n",
        "        feature_data = [sepal_length, sepal_width, petal_length, petal_width]\n",
        "\n",
        "        # Call FastAPI endpoint and get prediction result\n",
        "        headers = {'Content-Type': 'application/json'}\n",
        "        response = requests.post(API_URL + f\"/{model_file}\", json=feature_data)\n",
        "\n",
        "        # Display prediction result\n",
        "        st.write(f\"Prediction: {response.json()}\")\n",
        "    \n",
        "if __name__ == \"__main__\":\n",
        "    main()"
      ]
    },
    {
      "cell_type": "code",
      "source": [
        "import pandas as pd\n",
        "from sklearn.tree import DecisionTreeClassifier\n",
        "from sklearn.model_selection import train_test_split\n",
        "import pickle\n",
        "\n",
        "# Load the Iris dataset\n",
        "iris_df = pd.read_csv('IRIS.csv')\n",
        "\n",
        "# Split the dataset into training and testing sets\n",
        "X_train, X_test, y_train, y_test = train_test_split(\n",
        "    iris_df.iloc[:, :-1], iris_df.iloc[:, -1], test_size=0.2, random_state=42)\n",
        "\n",
        "# Train the model on the training set\n",
        "model = DecisionTreeClassifier()\n",
        "model.fit(X_train, y_train)\n",
        "\n",
        "# Save the trained model to a file\n",
        "with open('DecisionTree.pkl', 'wb') as f:\n",
        "    pickle.dump(model, f)"
      ],
      "metadata": {
        "id": "9nQmqONrbAmm"
      },
      "execution_count": 3,
      "outputs": []
    },
    {
      "cell_type": "code",
      "source": [
        "from fastapi import FastAPI\n",
        "from typing import List\n",
        "import joblib\n",
        "\n",
        "app = FastAPI()\n",
        "\n",
        "\n",
        "@app.post('/predict/DecisionTree')\n",
        "async def predict(data: List[float]):\n",
        "\n",
        "    model = joblib.load(\"models/DecisionTree.pkl\")\n",
        "\n",
        "    prediction = model.predict([data])[0]\n",
        "    return prediction\n",
        "\n",
        "@app.post('/predict/KNN')\n",
        "async def predict(data: List[float]):\n",
        "\n",
        "    model = joblib.load(\"models/KNN.pkl\")\n",
        "\n",
        "    prediction = model.predict([data])[0]\n",
        "    return prediction\n",
        "\n",
        "@app.post('/predict/LogisticRegression')\n",
        "async def predict(data: List[float]):\n",
        "\n",
        "    model = joblib.load(\"models/logistic_regression_model.pkl\")\n",
        "\n",
        "    prediction = model.predict([data])[0]\n",
        "    return prediction"
      ],
      "metadata": {
        "id": "PMSOvvo5bEmB"
      },
      "execution_count": 4,
      "outputs": []
    }
  ]
}