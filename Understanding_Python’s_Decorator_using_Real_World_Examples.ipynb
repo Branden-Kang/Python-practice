{
  "nbformat": 4,
  "nbformat_minor": 0,
  "metadata": {
    "colab": {
      "provenance": [],
      "authorship_tag": "ABX9TyO37uy8oSxdDw8WXTjEG10W"
    },
    "kernelspec": {
      "name": "python3",
      "display_name": "Python 3"
    },
    "language_info": {
      "name": "python"
    }
  },
  "cells": [
    {
      "cell_type": "markdown",
      "source": [
        "[Reference](https://medium.com/@ccpythonprogramming/understanding-pythons-decorator-using-real-world-examples-8313b5292870)"
      ],
      "metadata": {
        "id": "b4-X2XTz1bEq"
      }
    },
    {
      "cell_type": "markdown",
      "source": [
        "# What is a Decorator?"
      ],
      "metadata": {
        "id": "tZJ71uKB1jd4"
      }
    },
    {
      "cell_type": "markdown",
      "source": [
        "```\n",
        "@decorator_name\n",
        "def function_to_decorate():\n",
        "    pass\n",
        "```"
      ],
      "metadata": {
        "id": "218V2n9c1fQH"
      }
    },
    {
      "cell_type": "markdown",
      "source": [
        "# Setting Up the Environment"
      ],
      "metadata": {
        "id": "6ECbdEAa1hbl"
      }
    },
    {
      "cell_type": "markdown",
      "source": [
        "## For Windows"
      ],
      "metadata": {
        "id": "bizM-YQj1nA4"
      }
    },
    {
      "cell_type": "markdown",
      "source": [
        "```\n",
        "python -m venv venv\n",
        "venv\\Scripts\\activate\n",
        "```"
      ],
      "metadata": {
        "id": "g3Pn0_vd1mH5"
      }
    },
    {
      "cell_type": "markdown",
      "source": [
        "## For Linux/Mac"
      ],
      "metadata": {
        "id": "_6nlPaLb1o21"
      }
    },
    {
      "cell_type": "markdown",
      "source": [
        "```\n",
        "python3 -m venv venv\n",
        "source venv/bin/activate\n",
        "```"
      ],
      "metadata": {
        "id": "mjngrV691r1k"
      }
    },
    {
      "cell_type": "markdown",
      "source": [
        "# Example 1: Logging Function Calls"
      ],
      "metadata": {
        "id": "77jDmjWo1uGb"
      }
    },
    {
      "cell_type": "code",
      "execution_count": 1,
      "metadata": {
        "id": "WCzgcS5T1Y_r"
      },
      "outputs": [],
      "source": [
        "import datetime\n",
        "\n",
        "def log_function_call(func):\n",
        "    def wrapper(*args, **kwargs):\n",
        "        print(f\"{datetime.datetime.now()}: Calling {func.__name__} with {args} and {kwargs}\")\n",
        "        result = func(*args, **kwargs)\n",
        "        print(f\"{datetime.datetime.now()}: {func.__name__} returned {result}\")\n",
        "        return result\n",
        "    return wrapper"
      ]
    },
    {
      "cell_type": "code",
      "source": [
        "@log_function_call\n",
        "def add_numbers(a, b):\n",
        "    return a + b\n",
        "\n",
        "if __name__ == \"__main__\":\n",
        "    print(add_numbers(5, 10))"
      ],
      "metadata": {
        "colab": {
          "base_uri": "https://localhost:8080/"
        },
        "id": "U0exAWSl1wrx",
        "outputId": "a9675350-d554-4844-a365-5ba79302dd19"
      },
      "execution_count": 2,
      "outputs": [
        {
          "output_type": "stream",
          "name": "stdout",
          "text": [
            "2024-12-16 14:20:13.500462: Calling add_numbers with (5, 10) and {}\n",
            "2024-12-16 14:20:13.500544: add_numbers returned 15\n",
            "15\n"
          ]
        }
      ]
    },
    {
      "cell_type": "markdown",
      "source": [
        "# Example 2: Authentication for a Web Application"
      ],
      "metadata": {
        "id": "3FILJx6S11d2"
      }
    },
    {
      "cell_type": "code",
      "source": [
        "pip install flask"
      ],
      "metadata": {
        "colab": {
          "base_uri": "https://localhost:8080/"
        },
        "id": "XgXYkZ_812v9",
        "outputId": "e570a054-5e0a-408e-bcf3-3dbd1f116132"
      },
      "execution_count": 3,
      "outputs": [
        {
          "output_type": "stream",
          "name": "stdout",
          "text": [
            "Requirement already satisfied: flask in /usr/local/lib/python3.10/dist-packages (3.0.3)\n",
            "Requirement already satisfied: Werkzeug>=3.0.0 in /usr/local/lib/python3.10/dist-packages (from flask) (3.1.3)\n",
            "Requirement already satisfied: Jinja2>=3.1.2 in /usr/local/lib/python3.10/dist-packages (from flask) (3.1.4)\n",
            "Requirement already satisfied: itsdangerous>=2.1.2 in /usr/local/lib/python3.10/dist-packages (from flask) (2.2.0)\n",
            "Requirement already satisfied: click>=8.1.3 in /usr/local/lib/python3.10/dist-packages (from flask) (8.1.7)\n",
            "Requirement already satisfied: blinker>=1.6.2 in /usr/local/lib/python3.10/dist-packages (from flask) (1.9.0)\n",
            "Requirement already satisfied: MarkupSafe>=2.0 in /usr/local/lib/python3.10/dist-packages (from Jinja2>=3.1.2->flask) (3.0.2)\n"
          ]
        }
      ]
    },
    {
      "cell_type": "markdown",
      "source": [
        "```\n",
        "project/\n",
        "├── app/\n",
        "│   ├── __init__.py\n",
        "│   ├── decorators.py\n",
        "│   ├── routes.py\n",
        "```"
      ],
      "metadata": {
        "id": "USWq0Raq14ag"
      }
    },
    {
      "cell_type": "code",
      "source": [
        "# app/decorators.py:\n",
        "from flask import request, jsonify\n",
        "\n",
        "def require_api_key(func):\n",
        "    def wrapper(*args, **kwargs):\n",
        "        api_key = request.headers.get(\"x-api-key\")\n",
        "        if api_key != \"mysecurekey123\":\n",
        "            return jsonify({\"error\": \"Unauthorized\"}), 401\n",
        "        return func(*args, **kwargs)\n",
        "    return wrapper"
      ],
      "metadata": {
        "id": "8Zp2OHby1ynX"
      },
      "execution_count": 4,
      "outputs": []
    },
    {
      "cell_type": "code",
      "source": [
        "# app/routes.py:\n",
        "from flask import Flask, jsonify\n",
        "from .decorators import require_api_key\n",
        "\n",
        "app = Flask(__name__)\n",
        "\n",
        "@app.route(\"/secure-data\", methods=[\"GET\"])\n",
        "@require_api_key\n",
        "def secure_data():\n",
        "    return jsonify({\"data\": \"This is secure data!\"})\n",
        "\n",
        "if __name__ == \"__main__\":\n",
        "    app.run(debug=True)"
      ],
      "metadata": {
        "id": "sINpSF0t1-0D"
      },
      "execution_count": 6,
      "outputs": []
    },
    {
      "cell_type": "markdown",
      "source": [
        "```\n",
        "python -m app.routes\n",
        "```"
      ],
      "metadata": {
        "id": "THe91lki2EaL"
      }
    },
    {
      "cell_type": "markdown",
      "source": [
        "# Example 3: Caching Results"
      ],
      "metadata": {
        "id": "1Yl6wmR12HyA"
      }
    },
    {
      "cell_type": "code",
      "source": [
        "import functools\n",
        "\n",
        "def cache(func):\n",
        "    memo = {}\n",
        "\n",
        "    @functools.wraps(func)\n",
        "    def wrapper(*args):\n",
        "        if args in memo:\n",
        "            print(\"Returning cached result\")\n",
        "            return memo[args]\n",
        "        print(\"Calculating result\")\n",
        "        result = func(*args)\n",
        "        memo[args] = result\n",
        "        return result\n",
        "    return wrapper"
      ],
      "metadata": {
        "id": "JTtG6WQh2B8r"
      },
      "execution_count": 7,
      "outputs": []
    },
    {
      "cell_type": "code",
      "source": [
        "@cache\n",
        "def fibonacci(n):\n",
        "    if n <= 1:\n",
        "        return n\n",
        "    return fibonacci(n - 1) + fibonacci(n - 2)\n",
        "\n",
        "if __name__ == \"__main__\":\n",
        "    print(fibonacci(10))\n",
        "    print(fibonacci(10))  # This will return the cached result"
      ],
      "metadata": {
        "colab": {
          "base_uri": "https://localhost:8080/"
        },
        "id": "WNndxO822N5M",
        "outputId": "ccd3b331-0a5e-4d9c-a9b1-8b7bb5f4ce56"
      },
      "execution_count": 8,
      "outputs": [
        {
          "output_type": "stream",
          "name": "stdout",
          "text": [
            "Calculating result\n",
            "Calculating result\n",
            "Calculating result\n",
            "Calculating result\n",
            "Calculating result\n",
            "Calculating result\n",
            "Calculating result\n",
            "Calculating result\n",
            "Calculating result\n",
            "Calculating result\n",
            "Calculating result\n",
            "Returning cached result\n",
            "Returning cached result\n",
            "Returning cached result\n",
            "Returning cached result\n",
            "Returning cached result\n",
            "Returning cached result\n",
            "Returning cached result\n",
            "Returning cached result\n",
            "55\n",
            "Returning cached result\n",
            "55\n"
          ]
        }
      ]
    }
  ]
}