{
  "nbformat": 4,
  "nbformat_minor": 0,
  "metadata": {
    "colab": {
      "provenance": [],
      "authorship_tag": "ABX9TyNDBsh/Uf+WhZ80aNKrsXe0"
    },
    "kernelspec": {
      "name": "python3",
      "display_name": "Python 3"
    },
    "language_info": {
      "name": "python"
    }
  },
  "cells": [
    {
      "cell_type": "markdown",
      "source": [
        "[Reference](https://towardsdev.com/python-create-a-web-server-to-share-files-in-just-one-line-b035e150a9dc)"
      ],
      "metadata": {
        "id": "a1-_2PhSxU1G"
      }
    },
    {
      "cell_type": "code",
      "execution_count": 1,
      "metadata": {
        "id": "zMt8HdFJxSfx"
      },
      "outputs": [],
      "source": [
        "!mkdir web_test"
      ]
    },
    {
      "cell_type": "code",
      "source": [
        "!echo \"hello from python\" > hello.html"
      ],
      "metadata": {
        "id": "wRDBC9KHxZgj"
      },
      "execution_count": 2,
      "outputs": []
    },
    {
      "cell_type": "code",
      "source": [
        "!echo \"another file\" > file.txt"
      ],
      "metadata": {
        "id": "ygqjOxhRxdBL"
      },
      "execution_count": 3,
      "outputs": []
    },
    {
      "cell_type": "code",
      "source": [
        "!cd ./web_test/ && python3 -m http.server 8888"
      ],
      "metadata": {
        "colab": {
          "base_uri": "https://localhost:8080/"
        },
        "id": "AquC6tPwxgFP",
        "outputId": "a7a8a04b-0938-4df7-de31-08364b474b1f"
      },
      "execution_count": 4,
      "outputs": [
        {
          "output_type": "stream",
          "name": "stdout",
          "text": [
            "Serving HTTP on 0.0.0.0 port 8888 (http://0.0.0.0:8888/) ...\n",
            "\n",
            "Keyboard interrupt received, exiting.\n"
          ]
        }
      ]
    }
  ]
}