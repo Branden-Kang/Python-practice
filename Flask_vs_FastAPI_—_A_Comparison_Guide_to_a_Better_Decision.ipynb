{
  "nbformat": 4,
  "nbformat_minor": 0,
  "metadata": {
    "colab": {
      "provenance": [],
      "authorship_tag": "ABX9TyM55J7VYcEladuQzBsD46p9"
    },
    "kernelspec": {
      "name": "python3",
      "display_name": "Python 3"
    },
    "language_info": {
      "name": "python"
    }
  },
  "cells": [
    {
      "cell_type": "markdown",
      "source": [
        "[Reference](https://medium.com/10decoders/flask-vs-fastapi-a-comparison-guide-to-a-better-decision-3918e2da12eb)"
      ],
      "metadata": {
        "id": "IYVAeaJBAswf"
      }
    },
    {
      "cell_type": "markdown",
      "source": [
        "![pic](https://miro.medium.com/max/720/0*qffDV--g-NMHvjh6.webp)"
      ],
      "metadata": {
        "id": "yugDaZYFAprv"
      }
    },
    {
      "cell_type": "markdown",
      "source": [
        "# Flask"
      ],
      "metadata": {
        "id": "O5rwYuKYAIFf"
      }
    },
    {
      "cell_type": "markdown",
      "source": [
        "```\n",
        "$ mkdir app_name\n",
        "$ cd app_name\n",
        "$ python -m venv venv\n",
        "$ source venv/bin/activate\n",
        "(venv) $ mkdir app\n",
        "```"
      ],
      "metadata": {
        "id": "4yK9vb8d6cjO"
      }
    },
    {
      "cell_type": "code",
      "execution_count": 1,
      "metadata": {
        "colab": {
          "base_uri": "https://localhost:8080/"
        },
        "id": "ZAT214o46cE1",
        "outputId": "c5440ccb-4058-4829-b408-74f52a04c19d"
      },
      "outputs": [
        {
          "output_type": "stream",
          "name": "stdout",
          "text": [
            "Looking in indexes: https://pypi.org/simple, https://us-python.pkg.dev/colab-wheels/public/simple/\n",
            "Requirement already satisfied: Flask in /usr/local/lib/python3.8/dist-packages (1.1.4)\n",
            "Requirement already satisfied: click<8.0,>=5.1 in /usr/local/lib/python3.8/dist-packages (from Flask) (7.1.2)\n",
            "Requirement already satisfied: itsdangerous<2.0,>=0.24 in /usr/local/lib/python3.8/dist-packages (from Flask) (1.1.0)\n",
            "Requirement already satisfied: Werkzeug<2.0,>=0.15 in /usr/local/lib/python3.8/dist-packages (from Flask) (1.0.1)\n",
            "Requirement already satisfied: Jinja2<3.0,>=2.10.1 in /usr/local/lib/python3.8/dist-packages (from Flask) (2.11.3)\n",
            "Requirement already satisfied: MarkupSafe>=0.23 in /usr/local/lib/python3.8/dist-packages (from Jinja2<3.0,>=2.10.1->Flask) (2.0.1)\n"
          ]
        }
      ],
      "source": [
        "pip install Flask"
      ]
    },
    {
      "cell_type": "code",
      "source": [
        "# from flask import Flask\n",
        "\n",
        "# app = Flask(__name__)\n",
        "\n",
        "\n",
        "# @app.route(\"/\")\n",
        "# def home():\n",
        "#    return \"Hello World\"\n",
        "# if __name__ == \"__main__\":\n",
        "#    app.run()"
      ],
      "metadata": {
        "id": "lPyUc7Va6e3R"
      },
      "execution_count": 2,
      "outputs": []
    },
    {
      "cell_type": "markdown",
      "source": [
        "# FastAPI\n",
        "```\n",
        "$ mkdir app_name\n",
        "$ cd app_name\n",
        "$ python -m venv venv\n",
        "$ source venv/bin/activate\n",
        "(venv) $ mkdir app\n",
        "```"
      ],
      "metadata": {
        "id": "b3V2jPeDAKH2"
      }
    },
    {
      "cell_type": "code",
      "source": [
        "!pip install fastapi # pip install fastapi[all]\n",
        "!pip install uvicorn"
      ],
      "metadata": {
        "colab": {
          "base_uri": "https://localhost:8080/"
        },
        "id": "XvgrkOjLAUXU",
        "outputId": "63303970-3f31-4ac4-b669-d95be8533052"
      },
      "execution_count": 3,
      "outputs": [
        {
          "output_type": "stream",
          "name": "stdout",
          "text": [
            "Looking in indexes: https://pypi.org/simple, https://us-python.pkg.dev/colab-wheels/public/simple/\n",
            "Collecting fastapi\n",
            "  Downloading fastapi-0.88.0-py3-none-any.whl (55 kB)\n",
            "\u001b[K     |████████████████████████████████| 55 kB 2.4 MB/s \n",
            "\u001b[?25hRequirement already satisfied: pydantic!=1.7,!=1.7.1,!=1.7.2,!=1.7.3,!=1.8,!=1.8.1,<2.0.0,>=1.6.2 in /usr/local/lib/python3.8/dist-packages (from fastapi) (1.10.2)\n",
            "Collecting starlette==0.22.0\n",
            "  Downloading starlette-0.22.0-py3-none-any.whl (64 kB)\n",
            "\u001b[K     |████████████████████████████████| 64 kB 2.4 MB/s \n",
            "\u001b[?25hRequirement already satisfied: typing-extensions>=3.10.0 in /usr/local/lib/python3.8/dist-packages (from starlette==0.22.0->fastapi) (4.4.0)\n",
            "Collecting anyio<5,>=3.4.0\n",
            "  Downloading anyio-3.6.2-py3-none-any.whl (80 kB)\n",
            "\u001b[K     |████████████████████████████████| 80 kB 8.5 MB/s \n",
            "\u001b[?25hRequirement already satisfied: idna>=2.8 in /usr/local/lib/python3.8/dist-packages (from anyio<5,>=3.4.0->starlette==0.22.0->fastapi) (2.10)\n",
            "Collecting sniffio>=1.1\n",
            "  Downloading sniffio-1.3.0-py3-none-any.whl (10 kB)\n",
            "Installing collected packages: sniffio, anyio, starlette, fastapi\n",
            "Successfully installed anyio-3.6.2 fastapi-0.88.0 sniffio-1.3.0 starlette-0.22.0\n",
            "Looking in indexes: https://pypi.org/simple, https://us-python.pkg.dev/colab-wheels/public/simple/\n",
            "Collecting uvicorn\n",
            "  Downloading uvicorn-0.20.0-py3-none-any.whl (56 kB)\n",
            "\u001b[K     |████████████████████████████████| 56 kB 1.9 MB/s \n",
            "\u001b[?25hRequirement already satisfied: click>=7.0 in /usr/local/lib/python3.8/dist-packages (from uvicorn) (7.1.2)\n",
            "Collecting h11>=0.8\n",
            "  Downloading h11-0.14.0-py3-none-any.whl (58 kB)\n",
            "\u001b[K     |████████████████████████████████| 58 kB 5.2 MB/s \n",
            "\u001b[?25hInstalling collected packages: h11, uvicorn\n",
            "Successfully installed h11-0.14.0 uvicorn-0.20.0\n"
          ]
        }
      ]
    },
    {
      "cell_type": "code",
      "source": [
        "# import uvicorn\n",
        "# from fastapi import FastAPI\n",
        "# app = FastAPI()\n",
        "\n",
        "# @app.get('/')\n",
        "# def home():\n",
        "#    return \"Hello World\"\n",
        "# if __name__ == '__main__':\n",
        "#    uvicorn.run(app)"
      ],
      "metadata": {
        "id": "TiwRNmg5AZlX"
      },
      "execution_count": 4,
      "outputs": []
    },
    {
      "cell_type": "markdown",
      "source": [
        "# Asynchronous Tasks\n"
      ],
      "metadata": {
        "id": "l3SjLsJ5BUuh"
      }
    },
    {
      "cell_type": "code",
      "source": [
        "# import asyncio\n",
        "# from flask import Flask\n",
        "\n",
        "# app = Flask(__name__)\n",
        "\n",
        "\n",
        "# async def async_get_data():\n",
        "#    await asyncio.sleep(1)\n",
        "#    return 'Done!'\n",
        "\n",
        "\n",
        "# @app.route(\"/data\")\n",
        "# async def get_data():\n",
        "#    data = await async_get_data()\n",
        "#    print(data)\n",
        "#    return data\n",
        "\n",
        "\n",
        "# if __name__ == \"__main__\":\n",
        "#    app.run(port=5001)"
      ],
      "metadata": {
        "id": "LWDP5knnBPj3"
      },
      "execution_count": 5,
      "outputs": []
    },
    {
      "cell_type": "code",
      "source": [
        "# import uvicorn\n",
        "# from fastapi import FastAPI\n",
        "\n",
        "# app = FastAPI()\n",
        "\n",
        "\n",
        "# @app.get(\"/\")\n",
        "# async def root():\n",
        "#    return {\"message\": \"Tomato\"}\n",
        "\n",
        "\n",
        "# if __name__ == '__main__':\n",
        "#   uvicorn.run(app)"
      ],
      "metadata": {
        "id": "XOx8wwJBBQCr"
      },
      "execution_count": 6,
      "outputs": []
    },
    {
      "cell_type": "code",
      "source": [
        "# from pydantic import BaseModel\n",
        "# from typing import Optional\n",
        "# from fastapi import FastAPI\n",
        "# import uvicorn\n",
        "# app = FastAPI()\n",
        "\n",
        "# class Employee(BaseModel):\n",
        "#    name: str\n",
        "#    description: Optional[str] = None\n",
        "# @app.get('/basic_api/employees/{employee_id}')\n",
        "# def employee_get(employee_id: int):\n",
        "#    return \n",
        "#        'id': employee_id,\n",
        "#        'message': 'This endpoint should return the employee {}       details'.format(employee_id),\n",
        "#    }\n",
        "# @app.put('/basic_api/employees/{employee_id}')\n",
        "# def employee_update(employee_id: int, body: Employee):\n",
        "#    return {\n",
        "#        'id': employee_id,\n",
        "#        'message': 'This endpoint should update the employee {}'.format(\n",
        "#          employee_id),\n",
        "#        'body name': body.name\n",
        "#    }\n",
        "# @app.delete('/basic_api/employees/{employee_id}')\n",
        "# def employee_delete(employee_id: int):\n",
        "#    return {\n",
        "#        'id': employee_id,\n",
        "#        'message': 'This endpoint should delete the employee {}'.format(\n",
        "#         employee_id),\n",
        "#    }\n",
        "\n",
        "# if __name__ == '__main__':\n",
        "#    uvicorn.run(app, port=8000)"
      ],
      "metadata": {
        "id": "JD6s1lBmBTKq"
      },
      "execution_count": 7,
      "outputs": []
    }
  ]
}