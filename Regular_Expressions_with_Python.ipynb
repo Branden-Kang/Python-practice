{
  "nbformat": 4,
  "nbformat_minor": 0,
  "metadata": {
    "colab": {
      "name": "Regular Expressions with Python.ipynb",
      "provenance": [],
      "collapsed_sections": [],
      "authorship_tag": "ABX9TyO6hbE0q4N+STeUFt5K3mzA"
    },
    "kernelspec": {
      "name": "python3",
      "display_name": "Python 3"
    }
  },
  "cells": [
    {
      "cell_type": "markdown",
      "metadata": {
        "id": "vISe8Ji5o4OY"
      },
      "source": [
        "[Reference](https://levelup.gitconnected.com/regular-expressions-with-python-8bc59c439d23)"
      ]
    },
    {
      "cell_type": "code",
      "metadata": {
        "id": "AywRqLOKo2dg",
        "outputId": "15e0bbe6-5511-4bb0-8f05-0dc7fcc70241",
        "colab": {
          "base_uri": "https://localhost:8080/",
          "height": 34
        }
      },
      "source": [
        "#Using the index method\n",
        "\n",
        "logs =\"July 31 07:51:48 my computer bad_process[12345] : ERROR Performing package upgrade\"\n",
        "\n",
        "index = logs.index(\"[\")\n",
        "print(logs[index+1:index+6])"
      ],
      "execution_count": 2,
      "outputs": [
        {
          "output_type": "stream",
          "text": [
            "12345\n"
          ],
          "name": "stdout"
        }
      ]
    },
    {
      "cell_type": "code",
      "metadata": {
        "id": "xgNUPAfkpBDY",
        "outputId": "ab39d8d8-ef5d-40b3-ce87-8ca83a405172",
        "colab": {
          "base_uri": "https://localhost:8080/",
          "height": 34
        }
      },
      "source": [
        "import re\n",
        "\n",
        "logs =\"July 31 07:51:48 my computer bad_process[12345] : ERROR Performing package upgrade\"\n",
        "\n",
        "regex = r\"\\[(\\d+)\\]\"\n",
        "result = re.search(regex, logs)\n",
        "print(result[1])"
      ],
      "execution_count": 3,
      "outputs": [
        {
          "output_type": "stream",
          "text": [
            "12345\n"
          ],
          "name": "stdout"
        }
      ]
    },
    {
      "cell_type": "code",
      "metadata": {
        "id": "LwZPNXCdpLZi",
        "outputId": "b35b1dbe-a191-46f2-96de-8064b4f5b2bc",
        "colab": {
          "base_uri": "https://localhost:8080/",
          "height": 34
        }
      },
      "source": [
        "import re\n",
        "\n",
        "pattern = r\"l.ve\"\n",
        "result = re.search(pattern, \"I lwve you\")\n",
        "print(result)"
      ],
      "execution_count": 4,
      "outputs": [
        {
          "output_type": "stream",
          "text": [
            "<_sre.SRE_Match object; span=(2, 6), match='lwve'>\n"
          ],
          "name": "stdout"
        }
      ]
    },
    {
      "cell_type": "markdown",
      "metadata": {
        "id": "MQiQS7cQpqpP"
      },
      "source": [
        "'.(dot)' means any character."
      ]
    },
    {
      "cell_type": "code",
      "metadata": {
        "id": "ic5w_IAoppUS",
        "outputId": "24f13037-1d96-473b-c2bc-b2f14d510e5e",
        "colab": {
          "base_uri": "https://localhost:8080/",
          "height": 34
        }
      },
      "source": [
        "import re\n",
        "\n",
        "pattern = r\"^crew\"\n",
        "result = re.search(pattern, \"crewdragon and excited to watch the first manned mission to the ISS\")\n",
        "print(result)"
      ],
      "execution_count": 5,
      "outputs": [
        {
          "output_type": "stream",
          "text": [
            "<_sre.SRE_Match object; span=(0, 4), match='crew'>\n"
          ],
          "name": "stdout"
        }
      ]
    },
    {
      "cell_type": "code",
      "metadata": {
        "id": "d8iyid7uqB4V",
        "outputId": "e474c327-79db-4e78-f273-9a4f47cf22fe",
        "colab": {
          "base_uri": "https://localhost:8080/",
          "height": 34
        }
      },
      "source": [
        "import re\n",
        "\n",
        "pattern = r\"gon$\"\n",
        "result = re.search(pattern, \"crewdragon and excited to watch the first manned mission to the ISS dragon\")\n",
        "print(result)"
      ],
      "execution_count": 6,
      "outputs": [
        {
          "output_type": "stream",
          "text": [
            "<_sre.SRE_Match object; span=(71, 74), match='gon'>\n"
          ],
          "name": "stdout"
        }
      ]
    },
    {
      "cell_type": "markdown",
      "metadata": {
        "id": "Oqq_h7dsrSgG"
      },
      "source": [
        "'^(circumflex)' and '$(dollar sign)' mean the start and end of a line. "
      ]
    },
    {
      "cell_type": "code",
      "metadata": {
        "id": "-Q5qOxdHqLwW",
        "outputId": "914c1eda-4890-47c3-96aa-859a1e90681f",
        "colab": {
          "base_uri": "https://localhost:8080/",
          "height": 34
        }
      },
      "source": [
        "import re\n",
        "result = re.search(r\"aza\", \"chocolate\")\n",
        "print(result)"
      ],
      "execution_count": 7,
      "outputs": [
        {
          "output_type": "stream",
          "text": [
            "None\n"
          ],
          "name": "stdout"
        }
      ]
    },
    {
      "cell_type": "code",
      "metadata": {
        "id": "tA172SzjqieM",
        "outputId": "ad97f85c-06bc-458c-bc2d-1b8509c40892",
        "colab": {
          "base_uri": "https://localhost:8080/",
          "height": 34
        }
      },
      "source": [
        "import re\n",
        "\n",
        "result = re.search(r\"aza\", \"PLAZA\" , re.IGNORECASE)\n",
        "print(result)"
      ],
      "execution_count": 8,
      "outputs": [
        {
          "output_type": "stream",
          "text": [
            "<_sre.SRE_Match object; span=(2, 5), match='AZA'>\n"
          ],
          "name": "stdout"
        }
      ]
    },
    {
      "cell_type": "code",
      "metadata": {
        "id": "KcOcYyqRqnbD",
        "outputId": "03dfa4c8-cc41-4417-cff2-38f047deef02",
        "colab": {
          "base_uri": "https://localhost:8080/",
          "height": 34
        }
      },
      "source": [
        "import re\n",
        "result = re.search(r\"[Pp]ython\", \"Python\")\n",
        "print(result)"
      ],
      "execution_count": 9,
      "outputs": [
        {
          "output_type": "stream",
          "text": [
            "<_sre.SRE_Match object; span=(0, 6), match='Python'>\n"
          ],
          "name": "stdout"
        }
      ]
    },
    {
      "cell_type": "code",
      "metadata": {
        "id": "lzIhEWu8qri-",
        "outputId": "43ec0807-022a-4242-acd8-2e8527e2ee30",
        "colab": {
          "base_uri": "https://localhost:8080/",
          "height": 34
        }
      },
      "source": [
        "import re\n",
        "result = re.search(r\"[A-Z]ython\", \"Python\")\n",
        "print(result)"
      ],
      "execution_count": 10,
      "outputs": [
        {
          "output_type": "stream",
          "text": [
            "<_sre.SRE_Match object; span=(0, 6), match='Python'>\n"
          ],
          "name": "stdout"
        }
      ]
    },
    {
      "cell_type": "code",
      "metadata": {
        "id": "lr9aiKjlrf_c",
        "outputId": "3fa0dd7f-9b67-478c-cd06-8415dfbaab90",
        "colab": {
          "base_uri": "https://localhost:8080/",
          "height": 34
        }
      },
      "source": [
        "import re\n",
        "result = re.search(r\"[A-Za-z0-9]ython\", \"python\")\n",
        "print(result)"
      ],
      "execution_count": 11,
      "outputs": [
        {
          "output_type": "stream",
          "text": [
            "<_sre.SRE_Match object; span=(0, 6), match='python'>\n"
          ],
          "name": "stdout"
        }
      ]
    },
    {
      "cell_type": "code",
      "metadata": {
        "id": "pywl5y1Crhzn",
        "outputId": "536f7919-1359-4071-babf-2be9470dd346",
        "colab": {
          "base_uri": "https://localhost:8080/",
          "height": 34
        }
      },
      "source": [
        "import re\n",
        "result = re.search(r\"[^A-Za-z ]\", \"This matches the upper and lower case letters space but not this dot.\")\n",
        "print(result)"
      ],
      "execution_count": 12,
      "outputs": [
        {
          "output_type": "stream",
          "text": [
            "<_sre.SRE_Match object; span=(68, 69), match='.'>\n"
          ],
          "name": "stdout"
        }
      ]
    },
    {
      "cell_type": "code",
      "metadata": {
        "id": "H1SWsNiurqj5",
        "outputId": "7a37cdbe-c91c-4621-ec07-ca815a0c02e3",
        "colab": {
          "base_uri": "https://localhost:8080/",
          "height": 51
        }
      },
      "source": [
        "import re\n",
        "print(re.search(r\"Py.*n\", \"Pystagrandin\"))\n",
        "print(re.search(r\"Py[a-z]*n\" , \"Python programming\"))"
      ],
      "execution_count": 13,
      "outputs": [
        {
          "output_type": "stream",
          "text": [
            "<_sre.SRE_Match object; span=(0, 12), match='Pystagrandin'>\n",
            "<_sre.SRE_Match object; span=(0, 6), match='Python'>\n"
          ],
          "name": "stdout"
        }
      ]
    },
    {
      "cell_type": "code",
      "metadata": {
        "id": "oJVgFM0-r-6-",
        "outputId": "f17be53c-1f79-45ef-f729-8b47ea7d0542",
        "colab": {
          "base_uri": "https://localhost:8080/",
          "height": 34
        }
      },
      "source": [
        "import re\n",
        "\n",
        "result= re.search(r\"^(\\w*), (\\w*)$\", \"Lovelace, Ada\")\n",
        "print(result)"
      ],
      "execution_count": 14,
      "outputs": [
        {
          "output_type": "stream",
          "text": [
            "<_sre.SRE_Match object; span=(0, 13), match='Lovelace, Ada'>\n"
          ],
          "name": "stdout"
        }
      ]
    },
    {
      "cell_type": "code",
      "metadata": {
        "id": "wyRCtXkKsVYy",
        "outputId": "7fde5b0e-72bf-4a26-ddc8-ebfb9095df26",
        "colab": {
          "base_uri": "https://localhost:8080/",
          "height": 34
        }
      },
      "source": [
        "print(result.groups())"
      ],
      "execution_count": 15,
      "outputs": [
        {
          "output_type": "stream",
          "text": [
            "('Lovelace', 'Ada')\n"
          ],
          "name": "stdout"
        }
      ]
    },
    {
      "cell_type": "code",
      "metadata": {
        "id": "zHsS-6YCsZFg",
        "outputId": "a0d7ef19-794d-4484-ab52-1e69fe37b2a0",
        "colab": {
          "base_uri": "https://localhost:8080/",
          "height": 34
        }
      },
      "source": [
        "print(result[0])"
      ],
      "execution_count": 16,
      "outputs": [
        {
          "output_type": "stream",
          "text": [
            "Lovelace, Ada\n"
          ],
          "name": "stdout"
        }
      ]
    },
    {
      "cell_type": "code",
      "metadata": {
        "id": "j-9VYjH7saE_",
        "outputId": "67cb1260-c393-47d6-fdf9-30b133ebb18d",
        "colab": {
          "base_uri": "https://localhost:8080/",
          "height": 34
        }
      },
      "source": [
        "print(result[1])"
      ],
      "execution_count": 17,
      "outputs": [
        {
          "output_type": "stream",
          "text": [
            "Lovelace\n"
          ],
          "name": "stdout"
        }
      ]
    },
    {
      "cell_type": "code",
      "metadata": {
        "id": "9jHuK3RUsbw9",
        "outputId": "5e1bc239-ea30-4e81-92b3-ed9804bae3f3",
        "colab": {
          "base_uri": "https://localhost:8080/",
          "height": 34
        }
      },
      "source": [
        "print(result[2])"
      ],
      "execution_count": 18,
      "outputs": [
        {
          "output_type": "stream",
          "text": [
            "Ada\n"
          ],
          "name": "stdout"
        }
      ]
    },
    {
      "cell_type": "code",
      "metadata": {
        "id": "ozfH8P8CscvQ",
        "outputId": "ba6ebdc0-5848-42eb-df42-dbf5a0bf72f7",
        "colab": {
          "base_uri": "https://localhost:8080/",
          "height": 34
        }
      },
      "source": [
        "print(\"{} {}\".format(result[2], result[1]))"
      ],
      "execution_count": 19,
      "outputs": [
        {
          "output_type": "stream",
          "text": [
            "Ada Lovelace\n"
          ],
          "name": "stdout"
        }
      ]
    },
    {
      "cell_type": "code",
      "metadata": {
        "id": "Eoz831soshDx",
        "outputId": "0da7aa5c-aab9-4d25-84a8-ff0461cc7b2b",
        "colab": {
          "base_uri": "https://localhost:8080/",
          "height": 34
        }
      },
      "source": [
        "def rearrange_name(name):\n",
        "    result= re.search(r\"^(\\w*), (\\w*)$\", name)\n",
        "    if result is None:\n",
        "        return name\n",
        "    return \"{} {}\".format(result[2], result[1])\n",
        "\n",
        "print(rearrange_name(\"Bruce, Lee\"))"
      ],
      "execution_count": 20,
      "outputs": [
        {
          "output_type": "stream",
          "text": [
            "Lee Bruce\n"
          ],
          "name": "stdout"
        }
      ]
    }
  ]
}