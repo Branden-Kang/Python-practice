{
  "nbformat": 4,
  "nbformat_minor": 0,
  "metadata": {
    "colab": {
      "name": "Add text watermark on pictures.ipynb",
      "provenance": [],
      "authorship_tag": "ABX9TyPVPZ6zNytw1a8Br2p9jfB+"
    },
    "kernelspec": {
      "name": "python3",
      "display_name": "Python 3"
    },
    "language_info": {
      "name": "python"
    }
  },
  "cells": [
    {
      "cell_type": "markdown",
      "metadata": {
        "id": "q_Fd6bO41S2Q"
      },
      "source": [
        "[Reference](https://zhiwehu.medium.com/100-python-projects-challenge-9950903a4999)"
      ]
    },
    {
      "cell_type": "code",
      "metadata": {
        "id": "WYcOXPMP1Q7O"
      },
      "source": [
        "import osfrom PIL import Image, ImageDraw, ImageFont\n",
        "def get_position(image_width, image_height, text_width, text_height, position_id=9, margin=10):\n",
        "    '''\n",
        "    Get the position of the text by the position_id\n",
        "    1: top left, 2: top center, 3: top right\n",
        "    4: middle left, 5: middle center, 6: middle right\n",
        "    7: bottom left, 8: bottom center, 9: bottom right\n",
        "    :param image_width: image width\n",
        "    :param image_height: image height\n",
        "    :param text_width: text width\n",
        "    :param text_height: text height\n",
        "    :param position_id: position_id\n",
        "    :param margin: the text position margin value to the image\n",
        "    :return: text position tuple\n",
        "    '''\n",
        "    margin = 10\n",
        "    if position_id == 1:\n",
        "        return (margin, margin)\n",
        "    elif position_id == 2:\n",
        "        return (image_width // 2 - text_width // 2, margin)\n",
        "    elif position_id == 3:\n",
        "        return (image_width - text_width - margin, margin)\n",
        "    elif position_id == 4:\n",
        "        return (margin, image_height // 2 - text_height // 2)\n",
        "    elif position_id == 5:\n",
        "        return (image_width // 2 - text_width // 2, image_height // 2 - text_height // 2)\n",
        "    elif position_id == 6:\n",
        "        return (image_width - text_width - margin, image_height // 2 - text_height // 2)\n",
        "    elif position_id == 7:\n",
        "        return (margin, image_height - text_height - margin)\n",
        "    elif position_id == 8:\n",
        "        return (image_width // 2 - text_width // 2, image_height - text_height - margin)\n",
        "    elif position_id == 9:\n",
        "        return (image_width - text_width - margin, image_height - text_height - margin)\n",
        "def add_watermark(filename, text, font_name='Roboto-Italic.ttf', font_size=20, font_opacity=50, position_id=9):\n",
        "    '''\n",
        "    Add watermark function\n",
        "    :param filename: origin image filename\n",
        "    :param text: watermark text\n",
        "    :param font_name: Roboto-Italic.ttf, you can use your font, please make sure your program can find it\n",
        "    :param font_size: font size, default is 20\n",
        "    :param font_opacity: font opacity, default is 50\n",
        "    :param position_id: position id, defalut is 9 (bottom right)\n",
        "    :return: \n",
        "    '''\n",
        "    # get an image\n",
        "    with Image.open(filename).convert(\"RGBA\") as base:\n",
        "        # make a blank image for the text, initialized to transparent text color\n",
        "        txt = Image.new(\"RGBA\", base.size, (255, 255, 255, 0))        # get a font\n",
        "        fnt = ImageFont.truetype(font_name, font_size)\n",
        "        # get a drawing context\n",
        "        d = ImageDraw.Draw(txt)\n",
        "        # get the text widht and height\n",
        "        text_width, text_height = d.textsize(text, font=fnt)\n",
        "        # get the text position of the image\n",
        "        pos = get_position(base.size[0], base.size[1], text_width, text_height, position_id=position_id)\n",
        "        # draw text with opacity\n",
        "        d.text(pos, text, font=fnt, fill=(255, 255, 255, 256 * font_opacity // 100))\n",
        "        out = Image.alpha_composite(base, txt)        # save the image file\n",
        "        out_filename = 'watermark/{}'.format(os.path.basename(filename))\n",
        "        if not os.path.exists('watermark'):\n",
        "            os.makedirs('watermark')\n",
        "        out.save(out_filename, 'PNG')\n",
        "if __name__ == '__main__':\n",
        "    text = input('Please input a watermark text: ').strip()\n",
        "    font_size = int(input('Please input the font size: [20]') or '20')\n",
        "    font_opacity = int(input('Please input the font opacity: [50]') or '50')\n",
        "    # 1: top left, 2: top center, 3: top right\n",
        "    # 4: middle left, 5: middle center, 6: middle right\n",
        "    # 7: bottom left, 8: bottom center, 9: bottom right\n",
        "    position_id = int(input('Please input the position: [9]') or '9')    for f in os.listdir('images'):\n",
        "        if f.endswith('.png'):\n",
        "            filename = 'images/{}'.format(f)\n",
        "            print('add watermark for {}'.format(filename))\n",
        "            add_watermark(filename=filename, text=text, font_size=font_size, font_opacity=font_opacity,\n",
        "                          position_id=position_id)"
      ],
      "execution_count": 1,
      "outputs": []
    }
  ]
}