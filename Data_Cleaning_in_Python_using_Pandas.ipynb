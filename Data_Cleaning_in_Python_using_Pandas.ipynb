{
  "nbformat": 4,
  "nbformat_minor": 0,
  "metadata": {
    "colab": {
      "name": "Data Cleaning in Python using Pandas.ipynb",
      "provenance": [],
      "authorship_tag": "ABX9TyO0gqAl8LUy+rt4J4jqcgbX"
    },
    "kernelspec": {
      "name": "python3",
      "display_name": "Python 3"
    }
  },
  "cells": [
    {
      "cell_type": "markdown",
      "metadata": {
        "id": "bqmHsbd_YJql",
        "colab_type": "text"
      },
      "source": [
        "[Reference](https://medium.com/analytics-vidhya/data-cleaning-in-python-using-pandas-41b8f5822b67)"
      ]
    },
    {
      "cell_type": "code",
      "metadata": {
        "id": "syjC0AUV9I-S",
        "colab_type": "code",
        "colab": {}
      },
      "source": [
        "import pandas as pd\n",
        "import numpy as np"
      ],
      "execution_count": 5,
      "outputs": []
    },
    {
      "cell_type": "markdown",
      "metadata": {
        "id": "oeB_0z2FYP_o",
        "colab_type": "text"
      },
      "source": [
        "# Dropping Missing Values"
      ]
    },
    {
      "cell_type": "code",
      "metadata": {
        "id": "gd4ua7at9EL-",
        "colab_type": "code",
        "colab": {
          "base_uri": "https://localhost:8080/"
        },
        "outputId": "960b9a39-d828-4acb-813e-8b52e210b9d4"
      },
      "source": [
        "frame = pd.DataFrame(np.random.randn(4,3), index=[1,2,4,7], columns=['A','B','C'])\n",
        "print(frame.reindex([1,2,3,4,5,6,7]))"
      ],
      "execution_count": 6,
      "outputs": [
        {
          "output_type": "stream",
          "text": [
            "          A         B         C\n",
            "1 -0.585957 -1.652115 -1.069290\n",
            "2  0.692501 -1.721815  0.532791\n",
            "3       NaN       NaN       NaN\n",
            "4  0.151714 -0.234842  2.591092\n",
            "5       NaN       NaN       NaN\n",
            "6       NaN       NaN       NaN\n",
            "7 -0.488079  0.916492 -2.027172\n"
          ],
          "name": "stdout"
        }
      ]
    },
    {
      "cell_type": "code",
      "metadata": {
        "id": "3yxfXIjh9Soh",
        "colab_type": "code",
        "colab": {
          "base_uri": "https://localhost:8080/",
          "height": 173
        },
        "outputId": "725913d4-a961-4f42-d8be-1b6cfdc0231a"
      },
      "source": [
        "frame.dropna()"
      ],
      "execution_count": 7,
      "outputs": [
        {
          "output_type": "execute_result",
          "data": {
            "text/html": [
              "<div>\n",
              "<style scoped>\n",
              "    .dataframe tbody tr th:only-of-type {\n",
              "        vertical-align: middle;\n",
              "    }\n",
              "\n",
              "    .dataframe tbody tr th {\n",
              "        vertical-align: top;\n",
              "    }\n",
              "\n",
              "    .dataframe thead th {\n",
              "        text-align: right;\n",
              "    }\n",
              "</style>\n",
              "<table border=\"1\" class=\"dataframe\">\n",
              "  <thead>\n",
              "    <tr style=\"text-align: right;\">\n",
              "      <th></th>\n",
              "      <th>A</th>\n",
              "      <th>B</th>\n",
              "      <th>C</th>\n",
              "    </tr>\n",
              "  </thead>\n",
              "  <tbody>\n",
              "    <tr>\n",
              "      <th>1</th>\n",
              "      <td>-0.585957</td>\n",
              "      <td>-1.652115</td>\n",
              "      <td>-1.069290</td>\n",
              "    </tr>\n",
              "    <tr>\n",
              "      <th>2</th>\n",
              "      <td>0.692501</td>\n",
              "      <td>-1.721815</td>\n",
              "      <td>0.532791</td>\n",
              "    </tr>\n",
              "    <tr>\n",
              "      <th>4</th>\n",
              "      <td>0.151714</td>\n",
              "      <td>-0.234842</td>\n",
              "      <td>2.591092</td>\n",
              "    </tr>\n",
              "    <tr>\n",
              "      <th>7</th>\n",
              "      <td>-0.488079</td>\n",
              "      <td>0.916492</td>\n",
              "      <td>-2.027172</td>\n",
              "    </tr>\n",
              "  </tbody>\n",
              "</table>\n",
              "</div>"
            ],
            "text/plain": [
              "          A         B         C\n",
              "1 -0.585957 -1.652115 -1.069290\n",
              "2  0.692501 -1.721815  0.532791\n",
              "4  0.151714 -0.234842  2.591092\n",
              "7 -0.488079  0.916492 -2.027172"
            ]
          },
          "metadata": {
            "tags": []
          },
          "execution_count": 7
        }
      ]
    },
    {
      "cell_type": "markdown",
      "metadata": {
        "id": "ybCwTqF2YeZR",
        "colab_type": "text"
      },
      "source": [
        "# Replacing Missing Values"
      ]
    },
    {
      "cell_type": "code",
      "metadata": {
        "id": "JwKdXVMJ9S6L",
        "colab_type": "code",
        "colab": {}
      },
      "source": [
        "from numpy import NaN"
      ],
      "execution_count": 8,
      "outputs": []
    },
    {
      "cell_type": "code",
      "metadata": {
        "id": "YgxFZ65aYgSh",
        "colab_type": "code",
        "colab": {
          "base_uri": "https://localhost:8080/",
          "height": 102
        },
        "outputId": "c6ef3f38-5dbc-408d-9039-f43b1ee4f7f1"
      },
      "source": [
        "print(frame.replace({NaN: 0.00}))"
      ],
      "execution_count": 10,
      "outputs": [
        {
          "output_type": "stream",
          "text": [
            "          A         B         C\n",
            "1 -0.585957 -1.652115 -1.069290\n",
            "2  0.692501 -1.721815  0.532791\n",
            "4  0.151714 -0.234842  2.591092\n",
            "7 -0.488079  0.916492 -2.027172\n"
          ],
          "name": "stdout"
        }
      ]
    },
    {
      "cell_type": "markdown",
      "metadata": {
        "id": "8TEJN-LjYmXB",
        "colab_type": "text"
      },
      "source": [
        "# Replacing with a Scalar Value"
      ]
    },
    {
      "cell_type": "code",
      "metadata": {
        "id": "NRxvDuzBYjuR",
        "colab_type": "code",
        "colab": {
          "base_uri": "https://localhost:8080/"
        },
        "outputId": "21243f9d-8d6b-456e-a145-333d2a43ba91"
      },
      "source": [
        "frame.fillna(7)"
      ],
      "execution_count": 11,
      "outputs": [
        {
          "output_type": "execute_result",
          "data": {
            "text/html": [
              "<div>\n",
              "<style scoped>\n",
              "    .dataframe tbody tr th:only-of-type {\n",
              "        vertical-align: middle;\n",
              "    }\n",
              "\n",
              "    .dataframe tbody tr th {\n",
              "        vertical-align: top;\n",
              "    }\n",
              "\n",
              "    .dataframe thead th {\n",
              "        text-align: right;\n",
              "    }\n",
              "</style>\n",
              "<table border=\"1\" class=\"dataframe\">\n",
              "  <thead>\n",
              "    <tr style=\"text-align: right;\">\n",
              "      <th></th>\n",
              "      <th>A</th>\n",
              "      <th>B</th>\n",
              "      <th>C</th>\n",
              "    </tr>\n",
              "  </thead>\n",
              "  <tbody>\n",
              "    <tr>\n",
              "      <th>1</th>\n",
              "      <td>-0.585957</td>\n",
              "      <td>-1.652115</td>\n",
              "      <td>-1.069290</td>\n",
              "    </tr>\n",
              "    <tr>\n",
              "      <th>2</th>\n",
              "      <td>0.692501</td>\n",
              "      <td>-1.721815</td>\n",
              "      <td>0.532791</td>\n",
              "    </tr>\n",
              "    <tr>\n",
              "      <th>4</th>\n",
              "      <td>0.151714</td>\n",
              "      <td>-0.234842</td>\n",
              "      <td>2.591092</td>\n",
              "    </tr>\n",
              "    <tr>\n",
              "      <th>7</th>\n",
              "      <td>-0.488079</td>\n",
              "      <td>0.916492</td>\n",
              "      <td>-2.027172</td>\n",
              "    </tr>\n",
              "  </tbody>\n",
              "</table>\n",
              "</div>"
            ],
            "text/plain": [
              "          A         B         C\n",
              "1 -0.585957 -1.652115 -1.069290\n",
              "2  0.692501 -1.721815  0.532791\n",
              "4  0.151714 -0.234842  2.591092\n",
              "7 -0.488079  0.916492 -2.027172"
            ]
          },
          "metadata": {
            "tags": []
          },
          "execution_count": 11
        }
      ]
    },
    {
      "cell_type": "markdown",
      "metadata": {
        "id": "IIXvt5ARYqyg",
        "colab_type": "text"
      },
      "source": [
        "# Filling Forward or Backward"
      ]
    },
    {
      "cell_type": "code",
      "metadata": {
        "id": "dgcVQ41lYojm",
        "colab_type": "code",
        "colab": {
          "base_uri": "https://localhost:8080/",
          "height": 173
        },
        "outputId": "78667950-fa97-4f30-c00c-cac2bfd9f34f"
      },
      "source": [
        "frame.fillna(method='pad')"
      ],
      "execution_count": 12,
      "outputs": [
        {
          "output_type": "execute_result",
          "data": {
            "text/html": [
              "<div>\n",
              "<style scoped>\n",
              "    .dataframe tbody tr th:only-of-type {\n",
              "        vertical-align: middle;\n",
              "    }\n",
              "\n",
              "    .dataframe tbody tr th {\n",
              "        vertical-align: top;\n",
              "    }\n",
              "\n",
              "    .dataframe thead th {\n",
              "        text-align: right;\n",
              "    }\n",
              "</style>\n",
              "<table border=\"1\" class=\"dataframe\">\n",
              "  <thead>\n",
              "    <tr style=\"text-align: right;\">\n",
              "      <th></th>\n",
              "      <th>A</th>\n",
              "      <th>B</th>\n",
              "      <th>C</th>\n",
              "    </tr>\n",
              "  </thead>\n",
              "  <tbody>\n",
              "    <tr>\n",
              "      <th>1</th>\n",
              "      <td>-0.585957</td>\n",
              "      <td>-1.652115</td>\n",
              "      <td>-1.069290</td>\n",
              "    </tr>\n",
              "    <tr>\n",
              "      <th>2</th>\n",
              "      <td>0.692501</td>\n",
              "      <td>-1.721815</td>\n",
              "      <td>0.532791</td>\n",
              "    </tr>\n",
              "    <tr>\n",
              "      <th>4</th>\n",
              "      <td>0.151714</td>\n",
              "      <td>-0.234842</td>\n",
              "      <td>2.591092</td>\n",
              "    </tr>\n",
              "    <tr>\n",
              "      <th>7</th>\n",
              "      <td>-0.488079</td>\n",
              "      <td>0.916492</td>\n",
              "      <td>-2.027172</td>\n",
              "    </tr>\n",
              "  </tbody>\n",
              "</table>\n",
              "</div>"
            ],
            "text/plain": [
              "          A         B         C\n",
              "1 -0.585957 -1.652115 -1.069290\n",
              "2  0.692501 -1.721815  0.532791\n",
              "4  0.151714 -0.234842  2.591092\n",
              "7 -0.488079  0.916492 -2.027172"
            ]
          },
          "metadata": {
            "tags": []
          },
          "execution_count": 12
        }
      ]
    }
  ]
}