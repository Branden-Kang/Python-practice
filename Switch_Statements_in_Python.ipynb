{
  "nbformat": 4,
  "nbformat_minor": 0,
  "metadata": {
    "colab": {
      "name": "Switch Statements in Python.ipynb",
      "provenance": [],
      "authorship_tag": "ABX9TyPXWtbxqm2iwFToRjvfz3+V"
    },
    "kernelspec": {
      "name": "python3",
      "display_name": "Python 3"
    }
  },
  "cells": [
    {
      "cell_type": "markdown",
      "metadata": {
        "id": "IGG4DxDipkGc"
      },
      "source": [
        "[Reference](https://medium.com/better-programming/two-replacements-for-switch-statements-in-python-85e09638e451)"
      ]
    },
    {
      "cell_type": "code",
      "metadata": {
        "id": "jAtercQCpTXM"
      },
      "source": [
        "def switch_dict(x):\n",
        "   case_dict = {\n",
        "      \"a\": 1,\n",
        "      \"b\": 2,\n",
        "      \"c\": 3\n",
        "   }   \n",
        "   \n",
        "   default_value = -1   \n",
        "   \n",
        "   return case_dict.get(x, default_value)"
      ],
      "execution_count": 1,
      "outputs": []
    },
    {
      "cell_type": "code",
      "metadata": {
        "id": "bmROlLhUqF44"
      },
      "source": [
        "def switch_dict(x):\n",
        "   return {\n",
        "      \"a\": 1,\n",
        "      \"b\": 2,\n",
        "      \"c\": 3\n",
        "   }.get(x, -1)"
      ],
      "execution_count": 2,
      "outputs": []
    },
    {
      "cell_type": "code",
      "metadata": {
        "id": "dbLv7EqTqHas"
      },
      "source": [
        "def switch_dict(x):\n",
        "   if x == \"a\":\n",
        "      return 1\n",
        "   elif x == \"b\":\n",
        "      return 2\n",
        "   elif x == \"c\":\n",
        "      return 3\n",
        "   else:\n",
        "      return -1"
      ],
      "execution_count": 3,
      "outputs": []
    }
  ]
}