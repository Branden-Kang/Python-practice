{
  "nbformat": 4,
  "nbformat_minor": 0,
  "metadata": {
    "colab": {
      "name": "Switch Statements in Python.ipynb",
      "provenance": [],
      "authorship_tag": "ABX9TyMCb0SMif2r+M0DcLSYFjSp"
    },
    "kernelspec": {
      "name": "python3",
      "display_name": "Python 3"
    },
    "language_info": {
      "name": "python"
    }
  },
  "cells": [
    {
      "cell_type": "markdown",
      "metadata": {
        "id": "AfSEV3gXgDp7"
      },
      "source": [
        "[Reference](https://towardsdatascience.com/python-now-supports-switch-statements-heres-how-to-get-started-fe7da830236a)"
      ]
    },
    {
      "cell_type": "code",
      "metadata": {
        "colab": {
          "base_uri": "https://localhost:8080/"
        },
        "id": "F3baXNW-fzdx",
        "outputId": "47d2858b-f3ac-4ba7-a607-03147d1cf6a4"
      },
      "source": [
        "def get_mood(day):\n",
        "    if day == 'Monday':\n",
        "        return 'Oh...'\n",
        "    if day == 'Thursday':\n",
        "        return 'Getting close!'\n",
        "    if day == 'Friday':\n",
        "        return 'Almost there!'\n",
        "    if day == 'Saturday' or day == 'Sunday':\n",
        "        return 'Weekend!!!'\n",
        "    return 'Meh...'\n",
        "\n",
        "print(get_mood(day='Monday'))\n",
        "print(get_mood(day='Wednesday'))\n",
        "print(get_mood(day='Friday'))\n",
        "print(get_mood(day='Sunday'))"
      ],
      "execution_count": 1,
      "outputs": [
        {
          "output_type": "stream",
          "text": [
            "Oh...\n",
            "Meh...\n",
            "Almost there!\n",
            "Weekend!!!\n"
          ],
          "name": "stdout"
        }
      ]
    },
    {
      "cell_type": "code",
      "metadata": {
        "colab": {
          "base_uri": "https://localhost:8080/"
        },
        "id": "HcI6Cn5FgLgv",
        "outputId": "777cceb5-3e9d-4808-c1c8-2c661ac9a89b"
      },
      "source": [
        "def get_mood(day):\n",
        "    mappings = {\n",
        "        'Monday': 'Oh...',\n",
        "        'Thursday': 'Getting close!',\n",
        "        'Friday': 'Almost there!',\n",
        "        'Saturday': 'Weekend!!!',\n",
        "        'Sunday': 'Weekend!!!'\n",
        "    }\n",
        "    try: return mappings[day]\n",
        "    except KeyError: return 'Meh...'\n",
        "    \n",
        "    \n",
        "print(get_mood(day='Monday'))\n",
        "print(get_mood(day='Wednesday'))\n",
        "print(get_mood(day='Friday'))\n",
        "print(get_mood(day='Sunday'))"
      ],
      "execution_count": 2,
      "outputs": [
        {
          "output_type": "stream",
          "text": [
            "Oh...\n",
            "Meh...\n",
            "Almost there!\n",
            "Weekend!!!\n"
          ],
          "name": "stdout"
        }
      ]
    },
    {
      "cell_type": "code",
      "metadata": {
        "id": "vIAMmeiBgVWH"
      },
      "source": [
        "def get_mood(day):\n",
        "    match day:\n",
        "        case 'Monday':\n",
        "            return 'Oh...'\n",
        "        case 'Thursday':\n",
        "            return 'Getting close!'\n",
        "        case 'Friday':\n",
        "            return 'Almost there!'\n",
        "        case 'Saturday' | 'Sunday':\n",
        "            return 'Weekend!!!'\n",
        "        case _:\n",
        "            return 'Meh...'\n",
        "    \n",
        "print(get_mood(day='Monday'))\n",
        "print(get_mood(day='Wednesday'))\n",
        "print(get_mood(day='Friday'))\n",
        "print(get_mood(day='Sunday'))"
      ],
      "execution_count": 3,
      "outputs": []
    }
  ]
}