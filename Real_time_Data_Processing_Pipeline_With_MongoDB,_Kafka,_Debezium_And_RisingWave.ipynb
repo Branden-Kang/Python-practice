{
  "nbformat": 4,
  "nbformat_minor": 0,
  "metadata": {
    "colab": {
      "provenance": [],
      "authorship_tag": "ABX9TyM3zbbHPD2QQu9JonYlmvSB"
    },
    "kernelspec": {
      "name": "python3",
      "display_name": "Python 3"
    },
    "language_info": {
      "name": "python"
    }
  },
  "cells": [
    {
      "cell_type": "markdown",
      "source": [
        "[Reference](https://blog.det.life/real-time-data-processing-pipeline-with-mongodb-kafka-debezium-and-risingwave-9575d48a897a)"
      ],
      "metadata": {
        "id": "OfOUQSyJYzt3"
      }
    },
    {
      "cell_type": "markdown",
      "source": [
        "# Analyzing Real-Time Data: The Pipeline\n"
      ],
      "metadata": {
        "id": "vtSDjFc-Y3SD"
      }
    },
    {
      "cell_type": "markdown",
      "source": [
        "```\n",
        "version: '3.1'\n",
        "\n",
        "services:\n",
        "  compactor-0:\n",
        "    extends:\n",
        "      file: ../../docker/docker-compose.yml\n",
        "      service: compactor-0\n",
        "  compute-node-0:\n",
        "    extends:\n",
        "      file: ../../docker/docker-compose.yml\n",
        "      service: compute-node-0\n",
        "  etcd-0:\n",
        "    extends:\n",
        "      file: ../../docker/docker-compose.yml\n",
        "      service: etcd-0\n",
        "  frontend-node-0:\n",
        "    extends:\n",
        "      file: ../../docker/docker-compose.yml\n",
        "      service: frontend-node-0\n",
        "  grafana-0:\n",
        "    extends:\n",
        "      file: ../../docker/docker-compose.yml\n",
        "      service: grafana-0\n",
        "  meta-node-0:\n",
        "    extends:\n",
        "      file: ../../docker/docker-compose.yml\n",
        "      service: meta-node-0\n",
        "  minio-0:\n",
        "    extends:\n",
        "      file: ../../docker/docker-compose.yml\n",
        "      service: minio-0\n",
        "  prometheus-0:\n",
        "    extends:\n",
        "      file: ../../docker/docker-compose.yml\n",
        "      service: prometheus-0\n",
        "\n",
        "  message_queue:\n",
        "    extends:\n",
        "      file: ../../docker/docker-compose.yml\n",
        "      service: message_queue\n",
        "\n",
        "  mongodb:\n",
        "    image: mongo:4.4\n",
        "    container_name: mongodb\n",
        "    ports:\n",
        "      - \"27017:27017\"\n",
        "    command: --replSet rs0 --oplogSize 128\n",
        "    restart: always\n",
        "    healthcheck:\n",
        "      test: \"echo 'db.runCommand({ping: 1})' | mongo\"\n",
        "      interval: 5s\n",
        "      timeout: 10s\n",
        "      retries: 3\n",
        "\n",
        "  mongodb-setup:\n",
        "    image: mongo:4.4\n",
        "    container_name: mongodb-setup\n",
        "    depends_on:\n",
        "      - mongodb\n",
        "    entrypoint:\n",
        "      [\n",
        "        \"bash\",\n",
        "        \"-c\",\n",
        "        \"sleep 10 && mongo --host mongodb:27017 /config-replica.js && sleep 10\"\n",
        "      ]\n",
        "    restart: \"no\"\n",
        "    volumes:\n",
        "      - ./config-replica.js:/config-replica.js\n",
        "\n",
        "  debezium:\n",
        "    image: debezium/connect:1.9\n",
        "    container_name: debezium\n",
        "    depends_on:\n",
        "      - message_queue\n",
        "      - mongodb\n",
        "    ports:\n",
        "      - \"8083:8083\"\n",
        "    healthcheck:\n",
        "      test: curl -f localhost:8083\n",
        "      interval: 1s\n",
        "      start_period: 120s\n",
        "    environment:\n",
        "      BOOTSTRAP_SERVERS: message_queue:29092\n",
        "      GROUP_ID: 1\n",
        "      CONFIG_STORAGE_TOPIC: debezium_mongodb_config\n",
        "      OFFSET_STORAGE_TOPIC: debezium_mongodb_offset\n",
        "      STATUS_STORAGE_TOPIC: debezium_mongodb_status\n",
        "      # Remove these two lines below to test the debezium json format。\n",
        "      CONNECT_VALUE_CONVERTER: io.confluent.connect.avro.AvroConverter\n",
        "      CONNECT_VALUE_CONVERTER_SCHEMA_REGISTRY_URL: http://message_queue:8081\n",
        "\n",
        "  random_data_generator:\n",
        "    build:\n",
        "      context: .\n",
        "      dockerfile: Dockerfile.generator\n",
        "    container_name: random_data_generator\n",
        "    depends_on:\n",
        "      - mongodb\n",
        "    environment:\n",
        "      MONGO_HOST: mongodb\n",
        "      MONGO_PORT: 27017\n",
        "      MONGO_DB_NAME: random_data\n",
        "\n",
        "  register-mongodb-connector:\n",
        "    image: curlimages/curl:7.79.1\n",
        "    container_name: register-mongodb-connector\n",
        "    depends_on:\n",
        "      debezium: { condition: service_healthy }\n",
        "    command: >\n",
        "      /bin/sh /register-mongodb-connector.sh\n",
        "    restart: on-failure\n",
        "    volumes:\n",
        "      - ./register-mongodb-connector.sh:/register-mongodb-connector.sh\n",
        "\n",
        "  kafka-connect-ui:\n",
        "    image: landoop/kafka-connect-ui:0.9.7\n",
        "    container_name: kafka-connect-ui\n",
        "    depends_on:\n",
        "      debezium: { condition: service_healthy }\n",
        "    ports:\n",
        "      - \"8000:8000\"\n",
        "    environment:\n",
        "      CONNECT_URL: http://debezium:8083\n",
        "\n",
        "volumes:\n",
        "  mongodb_data:\n",
        "  message_queue:\n",
        "    external: false\n",
        "  debezium:\n",
        "    external: false\n",
        "```"
      ],
      "metadata": {
        "id": "ucMRnAJ9Y_dz"
      }
    },
    {
      "cell_type": "code",
      "execution_count": 1,
      "metadata": {
        "id": "ObQsxP5EYI2d"
      },
      "outputs": [],
      "source": [
        "docker compose up"
      ]
    },
    {
      "cell_type": "code",
      "source": [
        "psql -h localhost -p 4566 -d dev -U roota"
      ],
      "metadata": {
        "id": "ICVyTuzCZDTx"
      },
      "execution_count": 2,
      "outputs": []
    },
    {
      "cell_type": "code",
      "source": [
        "CREATE TABLE users (_id JSONB PRIMARY KEY, payload JSONB) WITH (\n",
        "    connector = 'kafka',\n",
        "    kafka.topic = 'dbserver1.random_data.users',\n",
        "    kafka.brokers = 'message_queue:29092',\n",
        "    kafka.scan.startup.mode = 'earliest'\n",
        ") ROW FORMAT DEBEZIUM_MONGO_JSON;"
      ],
      "metadata": {
        "id": "nSycPljAZD_W"
      },
      "execution_count": 3,
      "outputs": []
    },
    {
      "cell_type": "code",
      "source": [
        "CREATE MATERIALIZED VIEW normalized_users AS\n",
        "SELECT\n",
        "    payload ->> 'name' as name,\n",
        "    payload ->> 'email' as email,\n",
        "    payload ->> 'address' as address\n",
        "FROM\n",
        "    users;"
      ],
      "metadata": {
        "id": "aOsqgtuUZF29"
      },
      "execution_count": 4,
      "outputs": []
    },
    {
      "cell_type": "code",
      "source": [
        "SELECT\n",
        "    *\n",
        "FROM\n",
        "    normalized_users\n",
        "LIMIT\n",
        "    10;"
      ],
      "metadata": {
        "id": "pwjGBUWPZH6H"
      },
      "execution_count": 5,
      "outputs": []
    }
  ]
}