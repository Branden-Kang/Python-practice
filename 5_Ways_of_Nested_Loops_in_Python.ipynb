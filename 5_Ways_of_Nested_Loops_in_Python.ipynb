{
  "nbformat": 4,
  "nbformat_minor": 0,
  "metadata": {
    "colab": {
      "name": "5 Ways of Nested Loops in Python.ipynb",
      "provenance": [],
      "authorship_tag": "ABX9TyOPt/NKdowsItqdBqj4ULnc"
    },
    "kernelspec": {
      "name": "python3",
      "display_name": "Python 3"
    }
  },
  "cells": [
    {
      "cell_type": "markdown",
      "metadata": {
        "id": "KcJ2qd-kIM1d"
      },
      "source": [
        "[Reference](https://medium.com/techtofreedom/5-ways-to-break-out-of-nested-loops-in-python-4c505d34ace7)"
      ]
    },
    {
      "cell_type": "code",
      "metadata": {
        "id": "5oUuhFqiGt1b"
      },
      "source": [
        "# add a flag variable\n",
        "break_out_flag = False\n",
        "for i in range(5):\n",
        "    for j in range(5):\n",
        "        if j == 2 and i == 0:\n",
        "            break_out_flag = True\n",
        "            break\n",
        "    if break_out_flag:\n",
        "        break"
      ],
      "execution_count": 6,
      "outputs": []
    },
    {
      "cell_type": "code",
      "metadata": {
        "id": "AN-7g6KfGyKn"
      },
      "source": [
        "# raise an exception\n",
        "try:\n",
        "    for i in range(5):\n",
        "        for j in range(5):\n",
        "            if j == 2 and i == 0:\n",
        "                raise StopIteration\n",
        "except StopIteration:\n",
        "    pass"
      ],
      "execution_count": 7,
      "outputs": []
    },
    {
      "cell_type": "code",
      "metadata": {
        "id": "loXojwBHIaDZ"
      },
      "source": [
        "for i in range(5):\n",
        "    for j in range(5):\n",
        "        if j == 2 and i == 0:\n",
        "            break\n",
        "    if j == 2 and i == 0:\n",
        "        break"
      ],
      "execution_count": 9,
      "outputs": []
    },
    {
      "cell_type": "code",
      "metadata": {
        "id": "JBCvpBe8IcTL"
      },
      "source": [
        "# use the for-else syntax\n",
        "for i in range(5):\n",
        "    for j in range(5):\n",
        "        if j == 2 and i == 0:\n",
        "            break\n",
        "    else:  # only execute when it's no break in the inner loop\n",
        "        continue\n",
        "    break"
      ],
      "execution_count": 10,
      "outputs": []
    },
    {
      "cell_type": "code",
      "metadata": {
        "id": "pTaduv9jIfWN"
      },
      "source": [
        "# the same as for-else syntax\n",
        "for i in range(5):\n",
        "    for j in range(5):\n",
        "        if j == 2 and i == 0:\n",
        "            break\n",
        "    if not (j == 2 and i == 0):\n",
        "        continue\n",
        "    break "
      ],
      "execution_count": 11,
      "outputs": []
    },
    {
      "cell_type": "code",
      "metadata": {
        "id": "MFrN_I1yIiEF"
      },
      "source": [
        "# make it as a function\n",
        "def check_sth():\n",
        "    for i in range(5):\n",
        "        for j in range(5):\n",
        "            if j == 2 and i == 0:\n",
        "                return\n",
        "check_sth() # Run the function when needed"
      ],
      "execution_count": 12,
      "outputs": []
    },
    {
      "cell_type": "code",
      "metadata": {
        "id": "JQ8SE7g7IjpQ"
      },
      "source": [
        "def out_func():\n",
        "    # do something\n",
        "    def check_sth():\n",
        "        for i in range(5):\n",
        "            for j in range(5):\n",
        "                if j == 2 and i == 0:\n",
        "                    return\n",
        "    # do something\n",
        "    check_sth()  # Run the function when needed\n",
        "    # do something"
      ],
      "execution_count": 13,
      "outputs": []
    },
    {
      "cell_type": "code",
      "metadata": {
        "id": "N2s5fnW1Ik7b"
      },
      "source": [
        "# Avoid nested loops\n",
        "import itertools\n",
        "for i, j in itertools.product(range(5), range(5)):\n",
        "    if j == 2 and i == 0:\n",
        "        break"
      ],
      "execution_count": 14,
      "outputs": []
    }
  ]
}