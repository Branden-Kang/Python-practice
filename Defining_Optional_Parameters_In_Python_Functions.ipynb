{
  "nbformat": 4,
  "nbformat_minor": 0,
  "metadata": {
    "colab": {
      "provenance": [],
      "authorship_tag": "ABX9TyNaLchhEKAYir7YuniBuqLj"
    },
    "kernelspec": {
      "name": "python3",
      "display_name": "Python 3"
    },
    "language_info": {
      "name": "python"
    }
  },
  "cells": [
    {
      "cell_type": "markdown",
      "source": [
        "[Reference](https://python.plainenglish.io/defining-optional-parameters-in-python-functions-c4df71cbb602)"
      ],
      "metadata": {
        "id": "PfS0QQCD8qt1"
      }
    },
    {
      "cell_type": "code",
      "execution_count": 1,
      "metadata": {
        "colab": {
          "base_uri": "https://localhost:8080/"
        },
        "id": "Fdl5PJV47Tu7",
        "outputId": "bfcde3ca-287c-4c4c-e49e-ad54765699a9"
      },
      "outputs": [
        {
          "output_type": "stream",
          "name": "stdout",
          "text": [
            "hello bob\n"
          ]
        }
      ],
      "source": [
        "def greet(name):\n",
        "    print(\"hello\", name)\n",
        "    \n",
        "greet(\"bob\")"
      ]
    },
    {
      "cell_type": "code",
      "source": [
        "def greet(name, greeting=\"hello\"):\n",
        "    print(greeting, name)\n",
        "\n",
        "greet(\"bob\")"
      ],
      "metadata": {
        "colab": {
          "base_uri": "https://localhost:8080/"
        },
        "id": "pUbVf9yu9HHk",
        "outputId": "dd1f653a-4c92-4aa1-b2a0-94af0b2f6760"
      },
      "execution_count": 2,
      "outputs": [
        {
          "output_type": "stream",
          "name": "stdout",
          "text": [
            "hello bob\n"
          ]
        }
      ]
    },
    {
      "cell_type": "code",
      "source": [
        "greet(\"bob\", greeting=\"hi\")"
      ],
      "metadata": {
        "colab": {
          "base_uri": "https://localhost:8080/"
        },
        "id": "_I6mFEu49Jjo",
        "outputId": "9e0b88f4-fe17-4429-fd12-74b0736f0ce3"
      },
      "execution_count": 3,
      "outputs": [
        {
          "output_type": "stream",
          "name": "stdout",
          "text": [
            "hi bob\n"
          ]
        }
      ]
    },
    {
      "cell_type": "code",
      "source": [
        "greet(\"bob\", greeting=\"morning\")"
      ],
      "metadata": {
        "colab": {
          "base_uri": "https://localhost:8080/"
        },
        "id": "trXuBjqR9KbA",
        "outputId": "3a8c5c0e-64a2-4b60-8d58-229aea71b522"
      },
      "execution_count": 4,
      "outputs": [
        {
          "output_type": "stream",
          "name": "stdout",
          "text": [
            "morning bob\n"
          ]
        }
      ]
    },
    {
      "cell_type": "code",
      "source": [
        "def greet(name, greeting=\"hello\", prefix=\"mr\", n=1):\n",
        "    for i in range(n):\n",
        "        print(greeting, prefix, name)\n",
        "\n",
        "greet(\"bob\")"
      ],
      "metadata": {
        "colab": {
          "base_uri": "https://localhost:8080/"
        },
        "id": "WO95SQfy9LAH",
        "outputId": "91d6d8f2-4161-4d03-c636-9dcf0d9341d5"
      },
      "execution_count": 5,
      "outputs": [
        {
          "output_type": "stream",
          "name": "stdout",
          "text": [
            "hello mr bob\n"
          ]
        }
      ]
    },
    {
      "cell_type": "code",
      "source": [
        "greet(\"bob\", greeting=\"hi\")"
      ],
      "metadata": {
        "colab": {
          "base_uri": "https://localhost:8080/"
        },
        "id": "RFCDcFLx9N_b",
        "outputId": "ba86ca1b-8fd2-41c8-90cf-9a66a3969acc"
      },
      "execution_count": 6,
      "outputs": [
        {
          "output_type": "stream",
          "name": "stdout",
          "text": [
            "hi mr bob\n"
          ]
        }
      ]
    },
    {
      "cell_type": "code",
      "source": [
        "greet(\"bob\", prefix=\"dr\")"
      ],
      "metadata": {
        "colab": {
          "base_uri": "https://localhost:8080/"
        },
        "id": "nDzHkH2n9RQr",
        "outputId": "5997ea04-1d31-42b9-d40b-bda617a4d216"
      },
      "execution_count": 7,
      "outputs": [
        {
          "output_type": "stream",
          "name": "stdout",
          "text": [
            "hello dr bob\n"
          ]
        }
      ]
    },
    {
      "cell_type": "code",
      "source": [
        "greet(\"bob\", greeting=\"morning\", prefix=\"bro\")"
      ],
      "metadata": {
        "colab": {
          "base_uri": "https://localhost:8080/"
        },
        "id": "lzlgLiwU9R2m",
        "outputId": "ed76c538-03a9-4f01-d21a-dade3b144969"
      },
      "execution_count": 8,
      "outputs": [
        {
          "output_type": "stream",
          "name": "stdout",
          "text": [
            "morning bro bob\n"
          ]
        }
      ]
    },
    {
      "cell_type": "code",
      "source": [
        "greet(\"bob\", prefix=\"bro\", n=3)"
      ],
      "metadata": {
        "colab": {
          "base_uri": "https://localhost:8080/"
        },
        "id": "ZugJT1d99efn",
        "outputId": "fbb1430c-bd34-40ac-e67d-f90ffdd3d192"
      },
      "execution_count": 9,
      "outputs": [
        {
          "output_type": "stream",
          "name": "stdout",
          "text": [
            "hello bro bob\n",
            "hello bro bob\n",
            "hello bro bob\n"
          ]
        }
      ]
    }
  ]
}