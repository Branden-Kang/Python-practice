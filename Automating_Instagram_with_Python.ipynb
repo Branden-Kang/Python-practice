{
  "nbformat": 4,
  "nbformat_minor": 0,
  "metadata": {
    "colab": {
      "name": "Automating Instagram with Python.ipynb",
      "provenance": [],
      "authorship_tag": "ABX9TyPf/1oPgRO+7i78/YQQ/svd"
    },
    "kernelspec": {
      "name": "python3",
      "display_name": "Python 3"
    },
    "language_info": {
      "name": "python"
    }
  },
  "cells": [
    {
      "cell_type": "markdown",
      "metadata": {
        "id": "67X96iKsBqwr"
      },
      "source": [
        "[Reference](https://andymakesapps.medium.com/automating-instagram-with-python-e877726f49de)"
      ]
    },
    {
      "cell_type": "code",
      "metadata": {
        "colab": {
          "base_uri": "https://localhost:8080/"
        },
        "id": "3u20peWcfKoj",
        "outputId": "cf0a311f-1b71-4a4f-8cf5-be4a1ad1d46d"
      },
      "source": [
        "!pip install selenium"
      ],
      "execution_count": 3,
      "outputs": [
        {
          "output_type": "stream",
          "text": [
            "Collecting selenium\n",
            "\u001b[?25l  Downloading https://files.pythonhosted.org/packages/80/d6/4294f0b4bce4de0abf13e17190289f9d0613b0a44e5dd6a7f5ca98459853/selenium-3.141.0-py2.py3-none-any.whl (904kB)\n",
            "\u001b[K     |████████████████████████████████| 911kB 6.0MB/s \n",
            "\u001b[?25hRequirement already satisfied: urllib3 in /usr/local/lib/python3.7/dist-packages (from selenium) (1.24.3)\n",
            "Installing collected packages: selenium\n",
            "Successfully installed selenium-3.141.0\n"
          ],
          "name": "stdout"
        }
      ]
    },
    {
      "cell_type": "code",
      "metadata": {
        "colab": {
          "base_uri": "https://localhost:8080/"
        },
        "id": "7_l4yrsKfQAc",
        "outputId": "81793da9-4c8c-4b84-d129-e6aba34e4b1c"
      },
      "source": [
        "pip install instaloader"
      ],
      "execution_count": 7,
      "outputs": [
        {
          "output_type": "stream",
          "text": [
            "Collecting instaloader\n",
            "\u001b[?25l  Downloading https://files.pythonhosted.org/packages/35/4b/dcf7c70de72aff4b4c3ce6edcebc5a40125446aecf6c982e76ae66fe8538/instaloader-4.7.1.tar.gz (49kB)\n",
            "\r\u001b[K     |██████▋                         | 10kB 13.9MB/s eta 0:00:01\r\u001b[K     |█████████████▏                  | 20kB 19.9MB/s eta 0:00:01\r\u001b[K     |███████████████████▊            | 30kB 10.4MB/s eta 0:00:01\r\u001b[K     |██████████████████████████▎     | 40kB 10.5MB/s eta 0:00:01\r\u001b[K     |████████████████████████████████| 51kB 2.5MB/s \n",
            "\u001b[?25hRequirement already satisfied: requests>=2.4 in /usr/local/lib/python3.7/dist-packages (from instaloader) (2.23.0)\n",
            "Requirement already satisfied: idna<3,>=2.5 in /usr/local/lib/python3.7/dist-packages (from requests>=2.4->instaloader) (2.10)\n",
            "Requirement already satisfied: chardet<4,>=3.0.2 in /usr/local/lib/python3.7/dist-packages (from requests>=2.4->instaloader) (3.0.4)\n",
            "Requirement already satisfied: urllib3!=1.25.0,!=1.25.1,<1.26,>=1.21.1 in /usr/local/lib/python3.7/dist-packages (from requests>=2.4->instaloader) (1.24.3)\n",
            "Requirement already satisfied: certifi>=2017.4.17 in /usr/local/lib/python3.7/dist-packages (from requests>=2.4->instaloader) (2020.12.5)\n",
            "Building wheels for collected packages: instaloader\n",
            "  Building wheel for instaloader (setup.py) ... \u001b[?25l\u001b[?25hdone\n",
            "  Created wheel for instaloader: filename=instaloader-4.7.1-cp37-none-any.whl size=53347 sha256=eda6fa389bda64d40ac6b4d5cc7c9521204a12b50d78589cdfd91e05c2eb5ca3\n",
            "  Stored in directory: /root/.cache/pip/wheels/52/58/b1/3b6e77f1ba6db08f757800e8bbb9ac12d465fa3378270b1bb2\n",
            "Successfully built instaloader\n",
            "Installing collected packages: instaloader\n",
            "Successfully installed instaloader-4.7.1\n"
          ],
          "name": "stdout"
        }
      ]
    },
    {
      "cell_type": "code",
      "metadata": {
        "id": "wQ5QMBP7Bpi2"
      },
      "source": [
        "from selenium import webdriver\n",
        "from selenium.webdriver.common.by import By\n",
        "from selenium.webdriver.common.keys import Keys\n",
        "from selenium.webdriver.common.action_chains import ActionChains\n",
        "from itertools import islice\n",
        "import instaloader\n",
        "import getpass\n",
        "import random\n",
        "import time"
      ],
      "execution_count": 8,
      "outputs": []
    },
    {
      "cell_type": "code",
      "metadata": {
        "id": "px4a9x6uB2_6"
      },
      "source": [
        "def driver_init():\n",
        "    global driver\n",
        "    driver = webdriver.Chrome('/opt/anaconda3/lib/python3.8/site-packages/selenium/webdriver/chrome/chromedriver')\n",
        "    url = \"https://www.instagram.com/?hl=en\"\n",
        "    driver.get(url) \n",
        "    time.sleep(2)"
      ],
      "execution_count": 6,
      "outputs": []
    },
    {
      "cell_type": "code",
      "metadata": {
        "id": "zig8mkfvB8KK"
      },
      "source": [
        "class InstagramCompanion():\n",
        "    def __init__(self, username, password):\n",
        "        self.username = username\n",
        "        self.password = password\n",
        "\n",
        "    def auth(self):\n",
        "        #Accepting the Data Usage Pop-Up, in try-block in case it does not appear\n",
        "        try:\n",
        "            driver.find_element(By.XPATH, '//button[text()=\"Accept\"]').click()\n",
        "        except:\n",
        "            pass\n",
        "        \n",
        "        ig_username = driver.find_element_by_name(\"username\")\n",
        "        ig_password = driver.find_element_by_name(\"password\")\n",
        "        \n",
        "        ig_username.send_keys(self.username)\n",
        "        ig_password.send_keys(self.password)\n",
        "        ig_password.send_keys(Keys.ENTER)\n",
        "        \n",
        "        time.sleep(5)\n",
        "        \n",
        "    def two_fauth(self, active=False):\n",
        "        #In case user has 2FA, active should be set to True\n",
        "        if active is True:\n",
        "            two_factor_auth = input(\"2FA Code: \")        \n",
        "            actions = ActionChains(driver)\n",
        "            actions.send_keys(two_factor_auth).perform()\n",
        "            actions.send_keys(Keys.ENTER).perform()\n",
        "        else:\n",
        "            pass\n",
        "\n",
        "    def follow_user(self, user):\n",
        "        driver.get('https://www.instagram.com/{}/'.format(user))\n",
        "        time.sleep(2)\n",
        "        followButton = driver.find_element_by_css_selector('button')\n",
        "        followButton.click()\n",
        "    \n",
        "    def unfollow_user(self, user):\n",
        "        driver.get('https://www.instagram.com/{}/'.format(user))\n",
        "        time.sleep(2)\n",
        "        unfollowButton = driver.find_element_by_css_selector('[aria-label=Following]')\n",
        "        unfollowButton.click()\n",
        "        time.sleep(2)\n",
        "        confirmButton = driver.find_element_by_xpath('//button[text() = \"Unfollow\"]')\n",
        "        confirmButton.click()     \n",
        "\n",
        "    def instaloader_init(self):\n",
        "        L = instaloader.Instaloader()\n",
        "        L.login(self.username, self.password)\n",
        "        return L\n",
        "    \n",
        "    def get_followers_list(self, user, count=10):\n",
        "        L = self.instaloader_init()\n",
        "        profile = instaloader.Profile.from_username(L.context, user)\n",
        "        follower_list = []\n",
        "        for follower in set(islice(profile.get_followers(), count)):\n",
        "            follower_list.append(follower.username)\n",
        "        return follower_list\n",
        "        \n",
        "    def get_following_list(self, user, count=10):\n",
        "        L = self.instaloader_init()\n",
        "        profile = instaloader.Profile.from_username(L.context, user)\n",
        "        following_list = []\n",
        "        for following in set(islice(profile.get_followees(), count)):\n",
        "            following_list.append(following.username)\n",
        "        return following_list   \n",
        "\n",
        "    def add_comment(self):\n",
        "        comment_bank = [\"Cool!\", \"This is really awesome!\", \"Love this!\", \"🔥🔥🔥\"]\n",
        "        driver.find_element_by_css_selector('[aria-label=Comment]').click()\n",
        "        time.sleep(2)\n",
        "        actions = ActionChains(driver)\n",
        "        actions.send_keys(random.choice(comment_bank)).perform()\n",
        "        actions.send_keys(Keys.ENTER).perform()\n",
        "\n",
        "    \n",
        "    def like_photots(self, user):\n",
        "        c = 0\n",
        "        driver.get('https://www.instagram.com/{}/'.format(user))\n",
        "        driver.find_element_by_class_name(\"_9AhH0\").click()\n",
        "        time.sleep(2)\n",
        "        driver.find_element_by_css_selector('[aria-label=Like]').click()\n",
        "        time.sleep(1)\n",
        "        self.add_comment()\n",
        "        driver.find_element_by_xpath('/html/body/div[5]/div[1]/div/div/a').click()\n",
        "        while c <= 5:\n",
        "            time.sleep(5)\n",
        "            driver.find_element_by_css_selector('[aria-label=Like]').click()\n",
        "            time.sleep(2)\n",
        "            driver.find_element_by_xpath('/html/body/div[5]/div[1]/div/div/a[2]').click()\n",
        "            c += 1       "
      ],
      "execution_count": 5,
      "outputs": []
    },
    {
      "cell_type": "code",
      "metadata": {
        "id": "GP2Z_SVEfh0q"
      },
      "source": [
        "def main():\n",
        "    try:    \n",
        "        username = input(\"Username: \")\n",
        "        password = getpass.getpass(prompt=\"Password: \")\n",
        "        \n",
        "        driver_init()\n",
        "        \n",
        "        igcomp = InstagramCompanion(username, password)\n",
        "        igcomp.auth()\n",
        "        igcomp.two_fauth()\n",
        "        \n",
        "        for user_to_unfollow in igcomp.get_following_list(username):\n",
        "            try:\n",
        "                igcomp.unfollow_user(user_to_unfollow)\n",
        "            except:\n",
        "                pass\n",
        "        \n",
        "        for user_to_follow in igcomp.get_followers_list(username):\n",
        "            try:\n",
        "                igcomp.follow_user(user_to_follow)\n",
        "                igcomp.like_photots(user_to_follow)\n",
        "            except:\n",
        "                pass\n",
        "    \n",
        "    except Exception as e:\n",
        "        print(e)\n",
        "        driver.close()\n",
        "    \n",
        "    \n",
        "if __name__ == \"__main__\":\n",
        "    main()         "
      ],
      "execution_count": 10,
      "outputs": []
    }
  ]
}