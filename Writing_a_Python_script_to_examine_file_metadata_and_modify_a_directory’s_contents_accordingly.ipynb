{
  "nbformat": 4,
  "nbformat_minor": 0,
  "metadata": {
    "colab": {
      "provenance": [],
      "collapsed_sections": [],
      "authorship_tag": "ABX9TyM7T9zv1CuXy0REJ7SWXjV5"
    },
    "kernelspec": {
      "name": "python3",
      "display_name": "Python 3"
    },
    "language_info": {
      "name": "python"
    }
  },
  "cells": [
    {
      "cell_type": "markdown",
      "source": [
        "[Reference](https://medium.com/@ben.nour_68691/writing-a-python-script-to-examine-file-metadata-and-modify-a-directorys-contents-accordingly-d9d3b0f4d2b6)"
      ],
      "metadata": {
        "id": "fGxIrrMIfhf4"
      }
    },
    {
      "cell_type": "markdown",
      "source": [
        "# Examining file metadata\n"
      ],
      "metadata": {
        "id": "I-UjR2Trfkhr"
      }
    },
    {
      "cell_type": "code",
      "execution_count": 1,
      "metadata": {
        "id": "MSVB6Qc0fgKZ"
      },
      "outputs": [],
      "source": [
        "# import os\n",
        "\n",
        "# file = './example_folder/data_export.xlsx'\n",
        "\n",
        "# os.path.getsize(file) # File size, in bytes.\n",
        "# os.path.getmtime(file) # Latest file modification time.\n",
        "# os.path.getctime(file) # File creation date."
      ]
    },
    {
      "cell_type": "code",
      "source": [
        "# import os\n",
        "# from datetime import datetime\n",
        "\n",
        "# file = './example_folder/data_export.xlsx'\n",
        "\n",
        "# os.path.getsize(file) # File size, in bytes.\n",
        "# file_modification_date = datetime.fromtimestamp(os.path.getmtime(file))\n",
        "# file_creation_date = datetime.fromtimestamp(os.path.getctime(file))\n",
        "\n",
        "# file_modification_date\n",
        "# file_creation_date"
      ],
      "metadata": {
        "id": "DHtKgi6mfmQs"
      },
      "execution_count": 2,
      "outputs": []
    },
    {
      "cell_type": "markdown",
      "source": [
        "# Examining multiple files’ metadata\n"
      ],
      "metadata": {
        "id": "BXeEWZjJfqQi"
      }
    },
    {
      "cell_type": "code",
      "source": [
        "# import os\n",
        "# from datetime import datetime\n",
        "\n",
        "# directory = './example_folder'\n",
        "\n",
        "# os.listdir(directory)"
      ],
      "metadata": {
        "id": "C4bD-s8gfosA"
      },
      "execution_count": 3,
      "outputs": []
    },
    {
      "cell_type": "code",
      "source": [
        "# import os\n",
        "# from datetime import datetime\n",
        "\n",
        "# directory = './example_folder'\n",
        "\n",
        "# for f in directory_contents:\n",
        "#     os.path.abspath(f)"
      ],
      "metadata": {
        "id": "pxMJYbRHfsFF"
      },
      "execution_count": 4,
      "outputs": []
    },
    {
      "cell_type": "code",
      "source": [
        "# import os\n",
        "# from datetime import datetime\n",
        "\n",
        "# directory = './example_folder'\n",
        "\n",
        "# directory_contents = os.listdir(directory)\n",
        "\n",
        "# for f in directory_contents:\n",
        "#     f = os.path.abspath(os.path.join(directory, f))\n",
        "#     os.path.getsize(f)"
      ],
      "metadata": {
        "id": "uFduoQ3ffude"
      },
      "execution_count": 5,
      "outputs": []
    },
    {
      "cell_type": "markdown",
      "source": [
        "# Modifying files\n"
      ],
      "metadata": {
        "id": "qEuL-h1cf0F1"
      }
    },
    {
      "cell_type": "code",
      "source": [
        "# import os\n",
        "# from datetime import datetime\n",
        "\n",
        "# directory = './example_folder'\n",
        "\n",
        "# directory_contents = os.listdir(directory)\n",
        "\n",
        "# for f in directory_contents:\n",
        "#     f = os.path.abspath(os.path.join(directory, f))\n",
        "#     if 'data_export' in f:\n",
        "#       os.remove(f)"
      ],
      "metadata": {
        "id": "jMT9IngTfwwP"
      },
      "execution_count": 6,
      "outputs": []
    },
    {
      "cell_type": "code",
      "source": [
        "# import os\n",
        "# from datetime import datetime\n",
        "\n",
        "# directory = './example_folder'\n",
        "\n",
        "# directory_contents = os.listdir(directory)\n",
        "\n",
        "# data_export_files = {}\n",
        "\n",
        "# for f in directory_contents:\n",
        "#     f = os.path.abspath(os.path.join(directory, f))\n",
        "#     if 'data_export' in f:\n",
        "#         data_export_dictionary[f] = os.path.getctime(f)\n",
        "\n",
        "# data_export_files"
      ],
      "metadata": {
        "id": "-wWKniUcf1qS"
      },
      "execution_count": 7,
      "outputs": []
    },
    {
      "cell_type": "code",
      "source": [
        "# import os\n",
        "\n",
        "# directory = './example_folder'\n",
        "\n",
        "# directory_contents = os.listdir(directory)\n",
        "\n",
        "# data_export_files = {}\n",
        "\n",
        "# for f in directory_contents:\n",
        "#     f = os.path.abspath(os.path.join(directory, f))\n",
        "#     if 'data_export' in f:\n",
        "#         data_export_files[f] = os.path.getctime(f)\n",
        "\n",
        "# latest_data_export_creation_date = max(data_export_files.values())\n",
        "\n",
        "# for d_file, d_file_ctime in data_export_files.items():\n",
        "#     if d_file_ctime != latest_data_export_creation_date:\n",
        "#         os.remove(d_file)"
      ],
      "metadata": {
        "id": "Ny6sPReJf3XF"
      },
      "execution_count": 8,
      "outputs": []
    }
  ]
}