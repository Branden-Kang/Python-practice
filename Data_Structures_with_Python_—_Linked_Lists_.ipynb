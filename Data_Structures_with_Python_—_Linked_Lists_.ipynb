{
  "nbformat": 4,
  "nbformat_minor": 0,
  "metadata": {
    "colab": {
      "provenance": [],
      "authorship_tag": "ABX9TyP4oAFdi30eJIjbrb6vXITn"
    },
    "kernelspec": {
      "name": "python3",
      "display_name": "Python 3"
    },
    "language_info": {
      "name": "python"
    }
  },
  "cells": [
    {
      "cell_type": "markdown",
      "source": [
        "[Reference](https://blog.stackademic.com/data-structures-with-python-linked-lists-coding-8a05b6698206)"
      ],
      "metadata": {
        "id": "mFrjqxaWsZSb"
      }
    },
    {
      "cell_type": "code",
      "source": [
        "class Node:\n",
        "    def __init__(self, value) -> None:\n",
        "        self.value = value\n",
        "        self.next = None"
      ],
      "metadata": {
        "id": "rYArwTeespNR"
      },
      "execution_count": 6,
      "outputs": []
    },
    {
      "cell_type": "code",
      "execution_count": 10,
      "metadata": {
        "colab": {
          "base_uri": "https://localhost:8080/"
        },
        "id": "PpU-asU_sH4g",
        "outputId": "86fd1d2c-a880-41bd-c6e8-6e5ce7a7e765"
      },
      "outputs": [
        {
          "output_type": "stream",
          "name": "stdout",
          "text": [
            "2\n"
          ]
        }
      ],
      "source": [
        "class LinkedList:\n",
        "    def __init__(self, value) -> None:\n",
        "        new_node = Node(value)\n",
        "        self.head = new_node\n",
        "        self.tail = new_node\n",
        "        self.length = 1\n",
        "\n",
        "    def print_list(self):\n",
        "            temp = self.head\n",
        "            while temp is not None:\n",
        "                print(temp.value)\n",
        "                temp = temp.next\n",
        "    def append(self, value):\n",
        "        new_node = Node(value)\n",
        "        # add node to end\n",
        "        if self.length > 0:\n",
        "            self.tail.next = new_node\n",
        "            self.tail = new_node\n",
        "        else:\n",
        "            self.head = new_node\n",
        "            self.tail = new_node\n",
        "\n",
        "        self.length += 1\n",
        "\n",
        "    def pop(self):\n",
        "        if self.length == 0:    # 1 case\n",
        "            return None\n",
        "        elif self.length == 1:  # 2 case\n",
        "            return_node = self.head\n",
        "            self.head = None\n",
        "            self.tail = None\n",
        "        else:                   # 3 case\n",
        "            return_node = self.tail\n",
        "            temp = self.head\n",
        "            while temp.next != self.tail:\n",
        "                temp = temp.next\n",
        "            temp.next = None\n",
        "            self.tail = temp\n",
        "\n",
        "        self.length -= 1\n",
        "        return return_node\n",
        "\n",
        "    def pop_first(self):\n",
        "        if self.length == 0:\n",
        "            return None\n",
        "        elif self.length == 1:\n",
        "            return_node = self.head\n",
        "            self.head = None\n",
        "            self.tail = None\n",
        "        else:\n",
        "            return_node = self.head\n",
        "            self.head = return_node.next\n",
        "\n",
        "        self.length -= 1\n",
        "        return return_node\n",
        "\n",
        "    def get(self, index):\n",
        "        if index < 0 or index > self.length:\n",
        "            return None\n",
        "        else:\n",
        "            temp = self.head\n",
        "            for _ in range(index):\n",
        "                temp = temp.next\n",
        "            return temp\n",
        "\n",
        "    def set_value(self, index, value):\n",
        "        temp = self.get(index)\n",
        "        if temp:\n",
        "            temp.value = value\n",
        "            return True\n",
        "        return False\n",
        "\n",
        "\n",
        "    def insert(self, index, value):\n",
        "        if index == 0:\n",
        "            return self.prepend(value)            # prepend\n",
        "        elif index == self.length:\n",
        "            return self.append(value)             # append\n",
        "        elif index >= 0 and index <= self.length:\n",
        "            temp = self.get(index-1)              # get\n",
        "            if temp:\n",
        "                new_node = Node(value)\n",
        "                new_node.next = temp.next\n",
        "                temp.next = new_node\n",
        "                self.length += 1\n",
        "                return True\n",
        "        return False\n",
        "\n",
        "    def remove(self, index):\n",
        "        if index == 0:\n",
        "            return self.pop_first()\n",
        "        elif index == self.length - 1:\n",
        "            return self.pop()\n",
        "        elif index > 0 and index < self.length - 1:\n",
        "            temp = self.get(index-1)\n",
        "            if temp:\n",
        "                removing_node = temp.next\n",
        "                temp.next = removing_node.next\n",
        "                removing_node.next = None\n",
        "                self.length -= 1\n",
        "                return removing_node\n",
        "        return None\n",
        "\n",
        "\n",
        "    def reverse(self):\n",
        "        temp = self.head\n",
        "        self.head = self.tail\n",
        "        self.tail = temp\n",
        "\n",
        "        after = temp.next\n",
        "        before = None\n",
        "linked_list = LinkedList(2)\n",
        "linked_list.print_list()"
      ]
    }
  ]
}