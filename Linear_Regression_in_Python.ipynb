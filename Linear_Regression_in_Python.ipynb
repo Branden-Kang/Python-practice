{
  "nbformat": 4,
  "nbformat_minor": 0,
  "metadata": {
    "colab": {
      "name": "Linear Regression in Python.ipynb",
      "provenance": [],
      "authorship_tag": "ABX9TyMzmBYrNaMv50/Ts0wn7pFT"
    },
    "kernelspec": {
      "name": "python3",
      "display_name": "Python 3"
    }
  },
  "cells": [
    {
      "cell_type": "markdown",
      "metadata": {
        "id": "pbxo9njEBvbK",
        "colab_type": "text"
      },
      "source": [
        "[Reference](https://towardsdatascience.com/linear-regression-models-4a3d14b8d368)"
      ]
    },
    {
      "cell_type": "markdown",
      "metadata": {
        "id": "nqZjGneUD4JW",
        "colab_type": "text"
      },
      "source": [
        "I will look through four different linear models:\n",
        "- Linear Regression\n",
        "- Ridge\n",
        "- Lasso\n",
        "- Elastic-Net"
      ]
    },
    {
      "cell_type": "code",
      "metadata": {
        "id": "A4pnUiwsBrsk",
        "colab_type": "code",
        "colab": {}
      },
      "source": [
        "import numpy as np\n",
        "import pandas as pd\n",
        "\n",
        "from sklearn.datasets import load_diabetes\n",
        "from sklearn.model_selection import train_test_split\n",
        "from sklearn.model_selection import cross_val_score\n",
        "from sklearn.linear_model import LinearRegression\n",
        "\n",
        "from sklearn.linear_model import Ridge\n",
        "from sklearn.model_selection import GridSearchCV\n",
        "from sklearn.linear_model import Lasso\n",
        "from sklearn.linear_model import ElasticNet"
      ],
      "execution_count": 1,
      "outputs": []
    },
    {
      "cell_type": "code",
      "metadata": {
        "id": "TCoxWeTRB0xF",
        "colab_type": "code",
        "colab": {}
      },
      "source": [
        "diabetes, target = load_diabetes(return_X_y=True)\n",
        "diabetes = pd.DataFrame(diabetes)"
      ],
      "execution_count": 2,
      "outputs": []
    },
    {
      "cell_type": "code",
      "metadata": {
        "id": "xMQ4uNTUB3xa",
        "colab_type": "code",
        "colab": {}
      },
      "source": [
        "X = diabetes\n",
        "y = target"
      ],
      "execution_count": 3,
      "outputs": []
    },
    {
      "cell_type": "code",
      "metadata": {
        "id": "do-eFmQQB_KQ",
        "colab_type": "code",
        "colab": {}
      },
      "source": [
        "X_train, X_test, y_train, y_test = train_test_split(X, y, test_size=0.25, random_state=27)"
      ],
      "execution_count": 4,
      "outputs": []
    },
    {
      "cell_type": "code",
      "metadata": {
        "id": "2YXrHyarCKdg",
        "colab_type": "code",
        "colab": {}
      },
      "source": [
        "lr = LinearRegression().fit(X_train, y_train)"
      ],
      "execution_count": 5,
      "outputs": []
    },
    {
      "cell_type": "code",
      "metadata": {
        "id": "OKM6QqgBCC09",
        "colab_type": "code",
        "colab": {}
      },
      "source": [
        "def get_cv_scores(model):\n",
        "    scores = cross_val_score(model,\n",
        "                             X_train,\n",
        "                             y_train,\n",
        "                             cv=5,\n",
        "                             scoring='r2')\n",
        "    \n",
        "    print('CV Mean: ', np.mean(scores))\n",
        "    print('STD: ', np.std(scores))\n",
        "    print('\\n')"
      ],
      "execution_count": 6,
      "outputs": []
    },
    {
      "cell_type": "code",
      "metadata": {
        "id": "SWoKFi6aCHqt",
        "colab_type": "code",
        "colab": {
          "base_uri": "https://localhost:8080/",
          "height": 85
        },
        "outputId": "56668e40-2c24-46a4-a6f7-90b69bfaee10"
      },
      "source": [
        "get_cv_scores(lr)"
      ],
      "execution_count": 7,
      "outputs": [
        {
          "output_type": "stream",
          "text": [
            "CV Mean:  0.47582312041372204\n",
            "STD:  0.14121168360297295\n",
            "\n",
            "\n"
          ],
          "name": "stdout"
        }
      ]
    },
    {
      "cell_type": "markdown",
      "metadata": {
        "id": "5YXNq8vCCWsZ",
        "colab_type": "text"
      },
      "source": [
        "Ridge Regression (L2 Regularization)"
      ]
    },
    {
      "cell_type": "code",
      "metadata": {
        "id": "4j4_WbB7CMJV",
        "colab_type": "code",
        "colab": {}
      },
      "source": [
        "ridge = Ridge(alpha=1).fit(X_train, y_train)"
      ],
      "execution_count": 8,
      "outputs": []
    },
    {
      "cell_type": "code",
      "metadata": {
        "id": "zDGMLQjpCbnG",
        "colab_type": "code",
        "colab": {
          "base_uri": "https://localhost:8080/",
          "height": 85
        },
        "outputId": "80c10e26-396f-4997-f4bb-1ed9e4993eb6"
      },
      "source": [
        "get_cv_scores(ridge)"
      ],
      "execution_count": 9,
      "outputs": [
        {
          "output_type": "stream",
          "text": [
            "CV Mean:  0.38262487030361336\n",
            "STD:  0.09902564009167604\n",
            "\n",
            "\n"
          ],
          "name": "stdout"
        }
      ]
    },
    {
      "cell_type": "code",
      "metadata": {
        "id": "YVVXnm8xCgkW",
        "colab_type": "code",
        "colab": {}
      },
      "source": [
        "alpha = [0.001, 0.01, 0.1, 1, 10, 100, 1000]\n",
        "param_grid = dict(alpha=alpha)"
      ],
      "execution_count": 10,
      "outputs": []
    },
    {
      "cell_type": "code",
      "metadata": {
        "id": "UTfy5IcTCkpL",
        "colab_type": "code",
        "colab": {
          "base_uri": "https://localhost:8080/",
          "height": 88
        },
        "outputId": "925738be-d465-4442-e85e-a90b0d3ebbc0"
      },
      "source": [
        "grid = GridSearchCV(estimator=ridge, param_grid=param_grid, scoring='r2', verbose=1, n_jobs=-1)\n",
        "grid_result = grid.fit(X_train, y_train)"
      ],
      "execution_count": 11,
      "outputs": [
        {
          "output_type": "stream",
          "text": [
            "Fitting 5 folds for each of 7 candidates, totalling 35 fits\n"
          ],
          "name": "stdout"
        },
        {
          "output_type": "stream",
          "text": [
            "[Parallel(n_jobs=-1)]: Using backend LokyBackend with 2 concurrent workers.\n",
            "[Parallel(n_jobs=-1)]: Done  35 out of  35 | elapsed:    1.6s finished\n"
          ],
          "name": "stderr"
        }
      ]
    },
    {
      "cell_type": "code",
      "metadata": {
        "id": "ehThuU0HClbb",
        "colab_type": "code",
        "colab": {
          "base_uri": "https://localhost:8080/",
          "height": 51
        },
        "outputId": "b1b4d75e-e462-434d-8391-0bb156c1153d"
      },
      "source": [
        "print('Best Score: ', grid_result.best_score_)\n",
        "print('Best Params: ', grid_result.best_params_)"
      ],
      "execution_count": 12,
      "outputs": [
        {
          "output_type": "stream",
          "text": [
            "Best Score:  0.47638152950394075\n",
            "Best Params:  {'alpha': 0.01}\n"
          ],
          "name": "stdout"
        }
      ]
    },
    {
      "cell_type": "markdown",
      "metadata": {
        "id": "NylkW1jxDUOj",
        "colab_type": "text"
      },
      "source": [
        "Lasso Regression (L1 Regularization)"
      ]
    },
    {
      "cell_type": "code",
      "metadata": {
        "id": "nv2_91EgDSox",
        "colab_type": "code",
        "colab": {}
      },
      "source": [
        "lasso = Lasso(alpha=1).fit(X_train, y_train)"
      ],
      "execution_count": 13,
      "outputs": []
    },
    {
      "cell_type": "code",
      "metadata": {
        "id": "-cKD31QvDZr5",
        "colab_type": "code",
        "colab": {
          "base_uri": "https://localhost:8080/",
          "height": 85
        },
        "outputId": "89e9f457-fc44-453e-f043-e6186cef5a12"
      },
      "source": [
        "get_cv_scores(lasso)"
      ],
      "execution_count": 14,
      "outputs": [
        {
          "output_type": "stream",
          "text": [
            "CV Mean:  0.3510033961713952\n",
            "STD:  0.08727927390128883\n",
            "\n",
            "\n"
          ],
          "name": "stdout"
        }
      ]
    },
    {
      "cell_type": "code",
      "metadata": {
        "id": "3X1n-Bb2DaAg",
        "colab_type": "code",
        "colab": {}
      },
      "source": [
        "alpha = [0.001, 0.01, 0.1, 1, 10, 100, 1000]\n",
        "param_grid = dict(alpha=alpha)"
      ],
      "execution_count": 15,
      "outputs": []
    },
    {
      "cell_type": "code",
      "metadata": {
        "id": "vj3hsmFoDb8s",
        "colab_type": "code",
        "colab": {
          "base_uri": "https://localhost:8080/",
          "height": 88
        },
        "outputId": "bacb3576-e07f-44f5-a6ea-82d6038ce8bf"
      },
      "source": [
        "grid = GridSearchCV(estimator=lasso, param_grid=param_grid, scoring='r2', verbose=1, n_jobs=-1)\n",
        "grid_result = grid.fit(X_train, y_train)"
      ],
      "execution_count": 16,
      "outputs": [
        {
          "output_type": "stream",
          "text": [
            "[Parallel(n_jobs=-1)]: Using backend LokyBackend with 2 concurrent workers.\n"
          ],
          "name": "stderr"
        },
        {
          "output_type": "stream",
          "text": [
            "Fitting 5 folds for each of 7 candidates, totalling 35 fits\n"
          ],
          "name": "stdout"
        },
        {
          "output_type": "stream",
          "text": [
            "[Parallel(n_jobs=-1)]: Done  35 out of  35 | elapsed:    0.2s finished\n"
          ],
          "name": "stderr"
        }
      ]
    },
    {
      "cell_type": "code",
      "metadata": {
        "id": "wfucSaudDd-7",
        "colab_type": "code",
        "colab": {
          "base_uri": "https://localhost:8080/",
          "height": 51
        },
        "outputId": "0a15fc1c-c9e0-42a3-dc57-bfc08aebafd7"
      },
      "source": [
        "print('Best Score: ', grid_result.best_score_)\n",
        "print('Best Params: ', grid_result.best_params_)"
      ],
      "execution_count": 17,
      "outputs": [
        {
          "output_type": "stream",
          "text": [
            "Best Score:  0.4760522440673414\n",
            "Best Params:  {'alpha': 0.1}\n"
          ],
          "name": "stdout"
        }
      ]
    },
    {
      "cell_type": "code",
      "metadata": {
        "id": "Pv_5nRimDfKn",
        "colab_type": "code",
        "colab": {
          "base_uri": "https://localhost:8080/",
          "height": 187
        },
        "outputId": "f10416e6-0c37-4865-a099-9178b51e14a6"
      },
      "source": [
        "for coef, col in enumerate(X_train.columns):\n",
        "    print(f'{col}:  {lasso.coef_[coef]}')"
      ],
      "execution_count": 18,
      "outputs": [
        {
          "output_type": "stream",
          "text": [
            "0:  0.0\n",
            "1:  -0.0\n",
            "2:  446.0718032546266\n",
            "3:  0.0\n",
            "4:  0.0\n",
            "5:  0.0\n",
            "6:  -0.0\n",
            "7:  0.0\n",
            "8:  320.4125856149207\n",
            "9:  0.0\n"
          ],
          "name": "stdout"
        }
      ]
    },
    {
      "cell_type": "markdown",
      "metadata": {
        "id": "gs-BnREmDp8_",
        "colab_type": "text"
      },
      "source": [
        "Elastic-Net Regression"
      ]
    },
    {
      "cell_type": "code",
      "metadata": {
        "id": "xCbGbxowDjxF",
        "colab_type": "code",
        "colab": {}
      },
      "source": [
        "elastic_net = ElasticNet(alpha=1, l1_ratio=0.5).fit(X_train, y_train)"
      ],
      "execution_count": 19,
      "outputs": []
    },
    {
      "cell_type": "code",
      "metadata": {
        "id": "JyYKXr4QDt9b",
        "colab_type": "code",
        "colab": {
          "base_uri": "https://localhost:8080/",
          "height": 85
        },
        "outputId": "d604be88-1b86-42b4-d265-eb9bafc4588c"
      },
      "source": [
        "get_cv_scores(elastic_net)"
      ],
      "execution_count": 20,
      "outputs": [
        {
          "output_type": "stream",
          "text": [
            "CV Mean:  -0.05139208284143739\n",
            "STD:  0.07297997198698156\n",
            "\n",
            "\n"
          ],
          "name": "stdout"
        }
      ]
    },
    {
      "cell_type": "code",
      "metadata": {
        "id": "odnU28kODvMH",
        "colab_type": "code",
        "colab": {}
      },
      "source": [
        "alpha = [0.001, 0.01, 0.1, 1, 10, 100, 1000]\n",
        "l1_ratio = [0, 0.1, 0.2, 0.3, 0.4, 0.5, 0.6, 0.7, 0.8, 0.9, 1]\n",
        "param_grid = dict(alpha=alpha, l1_ratio=l1_ratio)"
      ],
      "execution_count": 21,
      "outputs": []
    },
    {
      "cell_type": "code",
      "metadata": {
        "id": "ttqKyA3mDw8e",
        "colab_type": "code",
        "colab": {
          "base_uri": "https://localhost:8080/",
          "height": 88
        },
        "outputId": "399c1335-fa4f-4c46-cb71-a9f5ae2f4ae4"
      },
      "source": [
        "grid = GridSearchCV(estimator=elastic_net, param_grid=param_grid, scoring='r2', verbose=1, n_jobs=-1)\n",
        "grid_result = grid.fit(X_train, y_train)"
      ],
      "execution_count": 22,
      "outputs": [
        {
          "output_type": "stream",
          "text": [
            "[Parallel(n_jobs=-1)]: Using backend LokyBackend with 2 concurrent workers.\n"
          ],
          "name": "stderr"
        },
        {
          "output_type": "stream",
          "text": [
            "Fitting 5 folds for each of 77 candidates, totalling 385 fits\n"
          ],
          "name": "stdout"
        },
        {
          "output_type": "stream",
          "text": [
            "[Parallel(n_jobs=-1)]: Done 385 out of 385 | elapsed:    1.1s finished\n"
          ],
          "name": "stderr"
        }
      ]
    },
    {
      "cell_type": "code",
      "metadata": {
        "id": "fNZMHjnSD0jp",
        "colab_type": "code",
        "colab": {
          "base_uri": "https://localhost:8080/",
          "height": 51
        },
        "outputId": "eaa4d473-d248-4f02-b8ef-97259a7be328"
      },
      "source": [
        "print('Best Score: ', grid_result.best_score_)\n",
        "print('Best Params: ', grid_result.best_params_)"
      ],
      "execution_count": 23,
      "outputs": [
        {
          "output_type": "stream",
          "text": [
            "Best Score:  0.4772292278126552\n",
            "Best Params:  {'alpha': 0.001, 'l1_ratio': 0.8}\n"
          ],
          "name": "stdout"
        }
      ]
    },
    {
      "cell_type": "code",
      "metadata": {
        "id": "GVz0kWNOD2Hj",
        "colab_type": "code",
        "colab": {}
      },
      "source": [
        ""
      ],
      "execution_count": 23,
      "outputs": []
    }
  ]
}