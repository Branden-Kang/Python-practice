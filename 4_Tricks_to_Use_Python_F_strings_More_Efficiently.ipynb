{
  "nbformat": 4,
  "nbformat_minor": 0,
  "metadata": {
    "colab": {
      "name": "4 Tricks to Use Python F-strings More Efficiently.ipynb",
      "provenance": [],
      "authorship_tag": "ABX9TyPRq9k+A1erDbHactYhLD1M"
    },
    "kernelspec": {
      "name": "python3",
      "display_name": "Python 3"
    },
    "language_info": {
      "name": "python"
    }
  },
  "cells": [
    {
      "cell_type": "markdown",
      "metadata": {
        "id": "5ZmuIkxsnNK0"
      },
      "source": [
        "[Reference](https://towardsdatascience.com/4-tricks-to-use-python-f-strings-more-efficiently-4f389e890514)"
      ]
    },
    {
      "cell_type": "code",
      "metadata": {
        "colab": {
          "base_uri": "https://localhost:8080/"
        },
        "id": "xaP96wc7nKWV",
        "outputId": "7bb9c9ee-9c29-47ef-e5c4-a3ee7e39933d"
      },
      "source": [
        "age = 24\n",
        "print(f\"John is {age} years old.\")"
      ],
      "execution_count": 1,
      "outputs": [
        {
          "output_type": "stream",
          "text": [
            "John is 24 years old.\n"
          ],
          "name": "stdout"
        }
      ]
    },
    {
      "cell_type": "code",
      "metadata": {
        "colab": {
          "base_uri": "https://localhost:8080/"
        },
        "id": "gKT7esDfn4AD",
        "outputId": "dbfce200-dab2-4450-f11c-3a4b0968da49"
      },
      "source": [
        "number = 3454353453\n",
        "print(f\"The value of the company is {number}\")"
      ],
      "execution_count": 2,
      "outputs": [
        {
          "output_type": "stream",
          "text": [
            "The value of the company is 3454353453\n"
          ],
          "name": "stdout"
        }
      ]
    },
    {
      "cell_type": "code",
      "metadata": {
        "colab": {
          "base_uri": "https://localhost:8080/"
        },
        "id": "5PUjqTy3n5PE",
        "outputId": "047909c0-a5d8-406d-e739-00355d55c18f"
      },
      "source": [
        "print(f\"The value of the company is {number:,d}\")"
      ],
      "execution_count": 3,
      "outputs": [
        {
          "output_type": "stream",
          "text": [
            "The value of the company is 3,454,353,453\n"
          ],
          "name": "stdout"
        }
      ]
    },
    {
      "cell_type": "code",
      "metadata": {
        "colab": {
          "base_uri": "https://localhost:8080/"
        },
        "id": "SNszyKCFn92h",
        "outputId": "e4f3fb54-7685-4e35-d0da-1bd3aed0cbde"
      },
      "source": [
        "from datetime import datetime\n",
        "today = datetime.today().date()\n",
        "print(f\"Today is {today}\")"
      ],
      "execution_count": 4,
      "outputs": [
        {
          "output_type": "stream",
          "text": [
            "Today is 2021-06-28\n"
          ],
          "name": "stdout"
        }
      ]
    },
    {
      "cell_type": "code",
      "metadata": {
        "colab": {
          "base_uri": "https://localhost:8080/"
        },
        "id": "35XQ3f_Bn_t4",
        "outputId": "528216f6-ea12-4c7b-c794-045b14779453"
      },
      "source": [
        "print(f\"Today is {today:%B %d, %Y}\")"
      ],
      "execution_count": 5,
      "outputs": [
        {
          "output_type": "stream",
          "text": [
            "Today is June 28, 2021\n"
          ],
          "name": "stdout"
        }
      ]
    },
    {
      "cell_type": "code",
      "metadata": {
        "colab": {
          "base_uri": "https://localhost:8080/"
        },
        "id": "5FMmFD2QoAnQ",
        "outputId": "ae6c2774-c554-42a6-d227-c15a028872af"
      },
      "source": [
        "print(f\"Today is {today:%m-%d-%Y}\")"
      ],
      "execution_count": 6,
      "outputs": [
        {
          "output_type": "stream",
          "text": [
            "Today is 06-28-2021\n"
          ],
          "name": "stdout"
        }
      ]
    },
    {
      "cell_type": "code",
      "metadata": {
        "colab": {
          "base_uri": "https://localhost:8080/"
        },
        "id": "rkk_HXj6oBxV",
        "outputId": "b4947412-c32e-42bc-b83e-48902c554689"
      },
      "source": [
        "a = 4\n",
        "b = 123\n",
        "print(f\"Product numbers are \\n{a:03} \\n{b:03}\")"
      ],
      "execution_count": 7,
      "outputs": [
        {
          "output_type": "stream",
          "text": [
            "Product numbers are \n",
            "004 \n",
            "123\n"
          ],
          "name": "stdout"
        }
      ]
    },
    {
      "cell_type": "code",
      "metadata": {
        "colab": {
          "base_uri": "https://localhost:8080/"
        },
        "id": "zf17LbVsoDyv",
        "outputId": "b9b01154-48ab-4d2d-aff1-2a5f3aad3105"
      },
      "source": [
        "from datetime import datetime, timedelta\n",
        "today = datetime.today().date()\n",
        "print(f\"The test was 3 days ago which is {today - timedelta(days=3)}\")"
      ],
      "execution_count": 8,
      "outputs": [
        {
          "output_type": "stream",
          "text": [
            "The test was 3 days ago which is 2021-06-25\n"
          ],
          "name": "stdout"
        }
      ]
    },
    {
      "cell_type": "code",
      "metadata": {
        "colab": {
          "base_uri": "https://localhost:8080/"
        },
        "id": "ZzCBd9s4oG-S",
        "outputId": "11752ace-a49a-40c8-c21c-71d509025c26"
      },
      "source": [
        "mylist = [1, 2, 4, 6, 3]\n",
        "print(f\"The list contains {len(mylist)} items.\")"
      ],
      "execution_count": 9,
      "outputs": [
        {
          "output_type": "stream",
          "text": [
            "The list contains 5 items.\n"
          ],
          "name": "stdout"
        }
      ]
    }
  ]
}