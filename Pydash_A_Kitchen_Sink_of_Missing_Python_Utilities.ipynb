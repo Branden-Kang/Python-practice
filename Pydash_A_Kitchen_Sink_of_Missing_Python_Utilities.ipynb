{
  "nbformat": 4,
  "nbformat_minor": 0,
  "metadata": {
    "colab": {
      "name": "Pydash: A Kitchen Sink of Missing Python Utilities.ipynb",
      "provenance": [],
      "collapsed_sections": [],
      "authorship_tag": "ABX9TyO018OUd1q3gsgk7wyjuHE2"
    },
    "kernelspec": {
      "name": "python3",
      "display_name": "Python 3"
    },
    "language_info": {
      "name": "python"
    }
  },
  "cells": [
    {
      "cell_type": "markdown",
      "metadata": {
        "id": "qyO4kZ7y8Vx-"
      },
      "source": [
        "[Reference](https://towardsdatascience.com/pydash-a-bucket-of-missing-python-utilities-5d10365be4fc)"
      ]
    },
    {
      "cell_type": "code",
      "metadata": {
        "colab": {
          "base_uri": "https://localhost:8080/"
        },
        "id": "FHyO5P4d8b-b",
        "outputId": "7caafa60-26a3-491c-cf6f-e2fa97fb39db"
      },
      "source": [
        "pip install pydash"
      ],
      "execution_count": 2,
      "outputs": [
        {
          "output_type": "stream",
          "text": [
            "Collecting pydash\n",
            "\u001b[?25l  Downloading https://files.pythonhosted.org/packages/5d/de/c380fc673c8c5fbf02bd7ab2d2ef2da83740e1adc24838bdcee767111ee4/pydash-5.0.1-py3-none-any.whl (84kB)\n",
            "\r\u001b[K     |███▉                            | 10kB 16.2MB/s eta 0:00:01\r\u001b[K     |███████▊                        | 20kB 21.6MB/s eta 0:00:01\r\u001b[K     |███████████▋                    | 30kB 18.2MB/s eta 0:00:01\r\u001b[K     |███████████████▌                | 40kB 16.2MB/s eta 0:00:01\r\u001b[K     |███████████████████▍            | 51kB 9.9MB/s eta 0:00:01\r\u001b[K     |███████████████████████▎        | 61kB 9.2MB/s eta 0:00:01\r\u001b[K     |███████████████████████████▏    | 71kB 10.1MB/s eta 0:00:01\r\u001b[K     |███████████████████████████████ | 81kB 10.7MB/s eta 0:00:01\r\u001b[K     |████████████████████████████████| 92kB 6.2MB/s \n",
            "\u001b[?25hInstalling collected packages: pydash\n",
            "Successfully installed pydash-5.0.1\n"
          ],
          "name": "stdout"
        }
      ]
    },
    {
      "cell_type": "code",
      "metadata": {
        "id": "soJH4jon8dAu"
      },
      "source": [
        "from pydash import py_"
      ],
      "execution_count": 3,
      "outputs": []
    },
    {
      "cell_type": "code",
      "metadata": {
        "id": "qdttRVnU8UAx"
      },
      "source": [
        "a = [[1, 2, [4, 5]], [6, 7]]"
      ],
      "execution_count": 4,
      "outputs": []
    },
    {
      "cell_type": "code",
      "metadata": {
        "colab": {
          "base_uri": "https://localhost:8080/"
        },
        "id": "kpzKpXfx8YB-",
        "outputId": "d025eaba-7d67-4f2a-c417-e09ff1fcea1a"
      },
      "source": [
        "py_.flatten_deep(a)"
      ],
      "execution_count": 6,
      "outputs": [
        {
          "output_type": "execute_result",
          "data": {
            "text/plain": [
              "[1, 2, 4, 5, 6, 7]"
            ]
          },
          "metadata": {
            "tags": []
          },
          "execution_count": 6
        }
      ]
    },
    {
      "cell_type": "code",
      "metadata": {
        "colab": {
          "base_uri": "https://localhost:8080/"
        },
        "id": "D7lGYRG68ewx",
        "outputId": "f04f6f49-ec58-4c05-9bf2-8dacec0d39f2"
      },
      "source": [
        "a = [[1, 2], [3, 4, 5]]\n",
        "py_.flatten(a)"
      ],
      "execution_count": 7,
      "outputs": [
        {
          "output_type": "execute_result",
          "data": {
            "text/plain": [
              "[1, 2, 3, 4, 5]"
            ]
          },
          "metadata": {
            "tags": []
          },
          "execution_count": 7
        }
      ]
    },
    {
      "cell_type": "code",
      "metadata": {
        "colab": {
          "base_uri": "https://localhost:8080/"
        },
        "id": "2zyr37DC8jjR",
        "outputId": "3808226e-c258-4900-9a4b-b3705e9947e6"
      },
      "source": [
        "a = [1, 2, 3, 4, 5]\n",
        "py_.chunk(a, 2)"
      ],
      "execution_count": 8,
      "outputs": [
        {
          "output_type": "execute_result",
          "data": {
            "text/plain": [
              "[[1, 2], [3, 4], [5]]"
            ]
          },
          "metadata": {
            "tags": []
          },
          "execution_count": 8
        }
      ]
    },
    {
      "cell_type": "code",
      "metadata": {
        "colab": {
          "base_uri": "https://localhost:8080/"
        },
        "id": "H679JhC88ocg",
        "outputId": "1ccd8b91-b9ad-4768-8fe0-5abd5579baf6"
      },
      "source": [
        "fruits = {\"name\": \"apple\",\n",
        "          \"color\": \"red\",\n",
        "          \"taste\": \"sweet\"}\n",
        "\n",
        "py_.omit(fruits, \"name\")"
      ],
      "execution_count": 9,
      "outputs": [
        {
          "output_type": "execute_result",
          "data": {
            "text/plain": [
              "{'color': 'red', 'taste': 'sweet'}"
            ]
          },
          "metadata": {
            "tags": []
          },
          "execution_count": 9
        }
      ]
    },
    {
      "cell_type": "code",
      "metadata": {
        "id": "t5Sffiyu8wC2"
      },
      "source": [
        "apple = {\n",
        "    \"price\": {\n",
        "        \"in_season\": {\"store\": {\"Walmart\": [2, 4], \"Aldi\": 1}},\n",
        "        \"out_of_season\": {\"store\": {\"Walmart\": [3, 5], \"Aldi\": 2}},\n",
        "    }\n",
        "}"
      ],
      "execution_count": 10,
      "outputs": []
    },
    {
      "cell_type": "code",
      "metadata": {
        "colab": {
          "base_uri": "https://localhost:8080/"
        },
        "id": "pJhkQPP_8xQO",
        "outputId": "bcdd0fdd-c8c7-4249-e9c2-e273be9e4431"
      },
      "source": [
        "apple[\"price\"][\"in_season\"][\"store\"][\"Walmart\"]"
      ],
      "execution_count": 11,
      "outputs": [
        {
          "output_type": "execute_result",
          "data": {
            "text/plain": [
              "[2, 4]"
            ]
          },
          "metadata": {
            "tags": []
          },
          "execution_count": 11
        }
      ]
    },
    {
      "cell_type": "code",
      "metadata": {
        "colab": {
          "base_uri": "https://localhost:8080/"
        },
        "id": "n0XHIZHQ8ytS",
        "outputId": "84a19a48-29ac-4c69-f108-54eed6d59ed5"
      },
      "source": [
        "py_.get(apple, \"price.in_season.store.Walmart[0]\")"
      ],
      "execution_count": 12,
      "outputs": [
        {
          "output_type": "execute_result",
          "data": {
            "text/plain": [
              "2"
            ]
          },
          "metadata": {
            "tags": []
          },
          "execution_count": 12
        }
      ]
    },
    {
      "cell_type": "code",
      "metadata": {
        "id": "jh93CMnT81w2"
      },
      "source": [
        ""
      ],
      "execution_count": null,
      "outputs": []
    }
  ]
}