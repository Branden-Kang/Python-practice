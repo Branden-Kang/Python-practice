{
  "nbformat": 4,
  "nbformat_minor": 0,
  "metadata": {
    "colab": {
      "name": "Become a Master of String Formatting in Python3.ipynb",
      "provenance": [],
      "authorship_tag": "ABX9TyNyQ7De/NpNg++MC6yGj5nl"
    },
    "kernelspec": {
      "name": "python3",
      "display_name": "Python 3"
    },
    "language_info": {
      "name": "python"
    }
  },
  "cells": [
    {
      "cell_type": "markdown",
      "metadata": {
        "id": "Y1m_UuHRbRbd"
      },
      "source": [
        "[Reference](https://python.plainenglish.io/become-a-master-of-string-formatting-in-python3-252334a8269a)"
      ]
    },
    {
      "cell_type": "markdown",
      "metadata": {
        "id": "qt777eTebwWs"
      },
      "source": [
        "# The % way ( C way )"
      ]
    },
    {
      "cell_type": "code",
      "metadata": {
        "colab": {
          "base_uri": "https://localhost:8080/"
        },
        "id": "bs_TFXAMbQIP",
        "outputId": "455a8690-d990-4e78-81ae-1104410a6313"
      },
      "source": [
        "x = 10\n",
        "print(\"Number is %d\" %x)"
      ],
      "execution_count": 1,
      "outputs": [
        {
          "output_type": "stream",
          "text": [
            "Number is 10\n"
          ],
          "name": "stdout"
        }
      ]
    },
    {
      "cell_type": "code",
      "metadata": {
        "colab": {
          "base_uri": "https://localhost:8080/"
        },
        "id": "FI-OdwjQb0YZ",
        "outputId": "3e95f7cc-46f5-4b48-8703-e50cc4b5e6c9"
      },
      "source": [
        "my_string = \"cool\"\n",
        "print(\"Python is %s\" % my_string)"
      ],
      "execution_count": 2,
      "outputs": [
        {
          "output_type": "stream",
          "text": [
            "Python is cool\n"
          ],
          "name": "stdout"
        }
      ]
    },
    {
      "cell_type": "code",
      "metadata": {
        "colab": {
          "base_uri": "https://localhost:8080/"
        },
        "id": "SsOAN3aWb2zR",
        "outputId": "55cc3b9d-cce2-43f0-dabf-584180b28440"
      },
      "source": [
        "a = 10\n",
        "b = 20\n",
        "c = 30\n",
        "print(\"%d + %d = %d\" % (a, b, c) )"
      ],
      "execution_count": 3,
      "outputs": [
        {
          "output_type": "stream",
          "text": [
            "10 + 20 = 30\n"
          ],
          "name": "stdout"
        }
      ]
    },
    {
      "cell_type": "markdown",
      "metadata": {
        "id": "T6c8B9N5cBHv"
      },
      "source": [
        "![example](https://miro.medium.com/max/1400/1*QFEN2sOEQWTBucaYl-DkIA.png)"
      ]
    },
    {
      "cell_type": "markdown",
      "metadata": {
        "id": "iu_Ua8xOcDfj"
      },
      "source": [
        "# The comma way"
      ]
    },
    {
      "cell_type": "code",
      "metadata": {
        "colab": {
          "base_uri": "https://localhost:8080/"
        },
        "id": "ix_sfDdAb-IN",
        "outputId": "b956ecf8-b91d-41cd-c9e5-2df9e1ba9e0b"
      },
      "source": [
        "x = 11\n",
        "print(\"The number\", x, \"is a prime number\")"
      ],
      "execution_count": 5,
      "outputs": [
        {
          "output_type": "stream",
          "text": [
            "The number 11 is a prime number\n"
          ],
          "name": "stdout"
        }
      ]
    },
    {
      "cell_type": "markdown",
      "metadata": {
        "id": "SQcnX6fscIAY"
      },
      "source": [
        "# The + way"
      ]
    },
    {
      "cell_type": "code",
      "metadata": {
        "colab": {
          "base_uri": "https://localhost:8080/"
        },
        "id": "UdMnnTclcEki",
        "outputId": "6727b14c-75bc-4a9c-8f22-331fd80a4b74"
      },
      "source": [
        "my_variable = \"2021\"\n",
        "print(\"We are in \" + str(my_variable) + \" this year\")"
      ],
      "execution_count": 6,
      "outputs": [
        {
          "output_type": "stream",
          "text": [
            "We are in 2021 this year\n"
          ],
          "name": "stdout"
        }
      ]
    },
    {
      "cell_type": "code",
      "metadata": {
        "id": "yV2U6z6YcKDz"
      },
      "source": [
        "one = 1\n",
        "two = 2\n",
        "three = 3"
      ],
      "execution_count": 7,
      "outputs": []
    },
    {
      "cell_type": "code",
      "metadata": {
        "colab": {
          "base_uri": "https://localhost:8080/"
        },
        "id": "6GSivPyIcL59",
        "outputId": "b8a6a917-d06a-4452-a458-41ac8beb9b89"
      },
      "source": [
        "print(\"The first 3 numbers are : \" + str(one) + \" \" + str(two) + \" \" + str(three) )"
      ],
      "execution_count": 8,
      "outputs": [
        {
          "output_type": "stream",
          "text": [
            "The first 3 numbers are : 1 2 3\n"
          ],
          "name": "stdout"
        }
      ]
    },
    {
      "cell_type": "markdown",
      "metadata": {
        "id": "XNq63kMscPtd"
      },
      "source": [
        "# The format way"
      ]
    },
    {
      "cell_type": "code",
      "metadata": {
        "id": "ET3KGibhcNJH"
      },
      "source": [
        "my_message = \"The number {} is the square root of {}\""
      ],
      "execution_count": 9,
      "outputs": []
    },
    {
      "cell_type": "code",
      "metadata": {
        "colab": {
          "base_uri": "https://localhost:8080/"
        },
        "id": "EVGI6OYucRdF",
        "outputId": "36acfaad-e503-4dbc-c992-56a35a1f30bd"
      },
      "source": [
        "my_formatted_message = my_message.format(2, 4)\n",
        "print(my_formatted_message)"
      ],
      "execution_count": 10,
      "outputs": [
        {
          "output_type": "stream",
          "text": [
            "The number 2 is the square root of 4\n"
          ],
          "name": "stdout"
        }
      ]
    },
    {
      "cell_type": "code",
      "metadata": {
        "colab": {
          "base_uri": "https://localhost:8080/"
        },
        "id": "EKAwetc7cTsO",
        "outputId": "8cf9fec2-cc89-40ad-f63b-fb91c6e735ff"
      },
      "source": [
        "print(\"{} + {} = {}\".format(2, 3, 5))"
      ],
      "execution_count": 11,
      "outputs": [
        {
          "output_type": "stream",
          "text": [
            "2 + 3 = 5\n"
          ],
          "name": "stdout"
        }
      ]
    },
    {
      "cell_type": "code",
      "metadata": {
        "colab": {
          "base_uri": "https://localhost:8080/"
        },
        "id": "2aJ7s8ODcUwt",
        "outputId": "ad646352-12cf-4422-b088-1d7985d69af4"
      },
      "source": [
        "first = 1\n",
        "second = 2\n",
        "print(\"The first printed is : {1} then : {0}\".format(first, second))"
      ],
      "execution_count": 12,
      "outputs": [
        {
          "output_type": "stream",
          "text": [
            "The first printed is : 2 then : 1\n"
          ],
          "name": "stdout"
        }
      ]
    },
    {
      "cell_type": "code",
      "metadata": {
        "colab": {
          "base_uri": "https://localhost:8080/"
        },
        "id": "1dtwugaVcWeR",
        "outputId": "6be42741-c755-4dde-f2d7-a13a1882b15f"
      },
      "source": [
        "month = \"May\"\n",
        "year = 2021\n",
        "print(\"We are in {month} of {year}\".format(month=month, year=year))"
      ],
      "execution_count": 13,
      "outputs": [
        {
          "output_type": "stream",
          "text": [
            "We are in May of 2021\n"
          ],
          "name": "stdout"
        }
      ]
    },
    {
      "cell_type": "code",
      "metadata": {
        "colab": {
          "base_uri": "https://localhost:8080/"
        },
        "id": "arE2YLymcXr0",
        "outputId": "bd988610-0b4d-41ee-e876-d5645dfa6a6c"
      },
      "source": [
        "import math\n",
        "print(\"pi = {:.5}\".format(math.pi))"
      ],
      "execution_count": 15,
      "outputs": [
        {
          "output_type": "stream",
          "text": [
            "pi = 3.1416\n"
          ],
          "name": "stdout"
        }
      ]
    },
    {
      "cell_type": "code",
      "metadata": {
        "colab": {
          "base_uri": "https://localhost:8080/"
        },
        "id": "BW9qlHVvcYx-",
        "outputId": "8ccd08d8-24da-464e-fce6-f8879b573a7a"
      },
      "source": [
        "x = 1\n",
        "print(\"number :{:#5}\".format(x))"
      ],
      "execution_count": 16,
      "outputs": [
        {
          "output_type": "stream",
          "text": [
            "number :    1\n"
          ],
          "name": "stdout"
        }
      ]
    },
    {
      "cell_type": "code",
      "metadata": {
        "colab": {
          "base_uri": "https://localhost:8080/"
        },
        "id": "2KV5w0egcbAD",
        "outputId": "ff800b40-6ec7-4f2b-a907-61aa47f3f47f"
      },
      "source": [
        "x = 1\n",
        "print(\"number :{:#05}\".format(x))"
      ],
      "execution_count": 17,
      "outputs": [
        {
          "output_type": "stream",
          "text": [
            "number :00001\n"
          ],
          "name": "stdout"
        }
      ]
    },
    {
      "cell_type": "code",
      "metadata": {
        "colab": {
          "base_uri": "https://localhost:8080/"
        },
        "id": "G_uey6s_cdmD",
        "outputId": "9c9a1b4d-0bae-4dfc-c755-009a9bf79955"
      },
      "source": [
        "import math\n",
        "print(\"The value of PI is {pi:#010.7}\".format(pi = math.pi))"
      ],
      "execution_count": 18,
      "outputs": [
        {
          "output_type": "stream",
          "text": [
            "The value of PI is 003.141593\n"
          ],
          "name": "stdout"
        }
      ]
    },
    {
      "cell_type": "code",
      "metadata": {
        "colab": {
          "base_uri": "https://localhost:8080/"
        },
        "id": "erzvYZsAcezK",
        "outputId": "f93a1495-e3a8-4168-be0d-80ff3a87e6c7"
      },
      "source": [
        "x = 10\n",
        "print(\"{x:#5X}\")"
      ],
      "execution_count": 23,
      "outputs": [
        {
          "output_type": "stream",
          "text": [
            "{x:#5X}\n"
          ],
          "name": "stdout"
        }
      ]
    },
    {
      "cell_type": "code",
      "metadata": {
        "colab": {
          "base_uri": "https://localhost:8080/"
        },
        "id": "wmRtbkWGcgFB",
        "outputId": "c01ed5fd-7d9e-43d4-e12a-873bfaac45a9"
      },
      "source": [
        "x = 2021\n",
        "print(\"2021 in binary : {x:b}\")"
      ],
      "execution_count": 24,
      "outputs": [
        {
          "output_type": "stream",
          "text": [
            "2021 in binary : {x:b}\n"
          ],
          "name": "stdout"
        }
      ]
    },
    {
      "cell_type": "markdown",
      "metadata": {
        "id": "b0A7z4YScnzI"
      },
      "source": [
        "# F-strings"
      ]
    },
    {
      "cell_type": "code",
      "metadata": {
        "id": "iY_N_avMciHg"
      },
      "source": [
        "my_f_string = f\"some string\"\n",
        "# or\n",
        "my_f_string = F\"some string\""
      ],
      "execution_count": 26,
      "outputs": []
    },
    {
      "cell_type": "code",
      "metadata": {
        "colab": {
          "base_uri": "https://localhost:8080/"
        },
        "id": "MQ0VB86actdE",
        "outputId": "94146ce2-0a20-4a88-d6d4-f8de06c74e8e"
      },
      "source": [
        "x = 10\n",
        "print(\"x is equal to {}\".format(x))"
      ],
      "execution_count": 27,
      "outputs": [
        {
          "output_type": "stream",
          "text": [
            "x is equal to 10\n"
          ],
          "name": "stdout"
        }
      ]
    },
    {
      "cell_type": "code",
      "metadata": {
        "colab": {
          "base_uri": "https://localhost:8080/"
        },
        "id": "aH6s2IGYc81L",
        "outputId": "68ccf524-3cf8-4ada-eacb-90ac1398e38c"
      },
      "source": [
        "x = 10\n",
        "print(\"x is equal to {x}\".format(x = x))"
      ],
      "execution_count": 29,
      "outputs": [
        {
          "output_type": "stream",
          "text": [
            "x is equal to 10\n"
          ],
          "name": "stdout"
        }
      ]
    },
    {
      "cell_type": "code",
      "metadata": {
        "colab": {
          "base_uri": "https://localhost:8080/"
        },
        "id": "qdK0GHxac-PN",
        "outputId": "25cd298f-fb8e-4ac0-cc28-7a8077205fc8"
      },
      "source": [
        "x = 10\n",
        "print(f\"x is equal to {x}\")"
      ],
      "execution_count": 30,
      "outputs": [
        {
          "output_type": "stream",
          "text": [
            "x is equal to 10\n"
          ],
          "name": "stdout"
        }
      ]
    },
    {
      "cell_type": "code",
      "metadata": {
        "colab": {
          "base_uri": "https://localhost:8080/"
        },
        "id": "basRJ9GZdAZH",
        "outputId": "388cfa6e-2161-4302-c595-22161be18fa0"
      },
      "source": [
        "import math\n",
        "print(f\"The value of pi is {math.pi:#010.6}\")"
      ],
      "execution_count": 31,
      "outputs": [
        {
          "output_type": "stream",
          "text": [
            "The value of pi is 0003.14159\n"
          ],
          "name": "stdout"
        }
      ]
    }
  ]
}