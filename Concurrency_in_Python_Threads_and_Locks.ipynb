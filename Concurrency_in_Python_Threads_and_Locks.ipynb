{
  "nbformat": 4,
  "nbformat_minor": 0,
  "metadata": {
    "colab": {
      "provenance": [],
      "authorship_tag": "ABX9TyOsw9aw8UQrTbp/j9bYK2Kp"
    },
    "kernelspec": {
      "name": "python3",
      "display_name": "Python 3"
    },
    "language_info": {
      "name": "python"
    }
  },
  "cells": [
    {
      "cell_type": "markdown",
      "source": [
        "[Reference](https://medium.com/@mansha99/concurrency-in-python-threads-and-locks-8daed86e92e6)"
      ],
      "metadata": {
        "id": "SknfXh0q6nG8"
      }
    },
    {
      "cell_type": "code",
      "execution_count": 1,
      "metadata": {
        "colab": {
          "base_uri": "https://localhost:8080/"
        },
        "id": "324mrF9q6jst",
        "outputId": "ee8a0087-78e5-46dc-f768-f274aaf20f3f"
      },
      "outputs": [
        {
          "output_type": "stream",
          "name": "stdout",
          "text": [
            "MainThread\n",
            "346\n"
          ]
        }
      ],
      "source": [
        "import threading\n",
        "t = threading.current_thread()\n",
        "print(t.name)\n",
        "print(t.native_id)"
      ]
    },
    {
      "cell_type": "code",
      "source": [
        "import threading\n",
        "import time\n",
        "loop_count=10\n",
        "class PrintDotThread(threading.Thread):\n",
        "    def run(self) -> None:\n",
        "        for x in range(loop_count):\n",
        "            print(\".\" ,end=\"\")\n",
        "            time.sleep(10/1000)#10 millisecond\n",
        "        print(\"\")\n",
        "        return super().run()\n",
        "\n",
        "#main program\n",
        "print(\"BEGIN\")\n",
        "printDotThread=PrintDotThread()\n",
        "printDotThread.start()\n",
        "print(\"\")\n",
        "print(\"END\")"
      ],
      "metadata": {
        "colab": {
          "base_uri": "https://localhost:8080/"
        },
        "id": "9k35aJme6qIv",
        "outputId": "2b0fd239-35aa-404a-ac89-7d0d1c0d43ef"
      },
      "execution_count": 2,
      "outputs": [
        {
          "output_type": "stream",
          "name": "stdout",
          "text": [
            "BEGIN\n",
            ".\n",
            "END\n"
          ]
        }
      ]
    },
    {
      "cell_type": "code",
      "source": [
        "import threading\n",
        "import time\n",
        "loop_count=10\n",
        "class PrintDotThread(threading.Thread):\n",
        "    def run(self) -> None:\n",
        "        for x in range(loop_count):\n",
        "            print(\".\" ,end=\"\")\n",
        "            time.sleep(10/1000)#10 millisecond\n",
        "        print(\"\")\n",
        "        return super().run()\n",
        "\n",
        "#main program\n",
        "print(\"BEGIN\")\n",
        "printDotThread=PrintDotThread()\n",
        "printDotThread.start()\n",
        "printDotThread.join();# <------------\n",
        "print(\"\")\n",
        "print(\"END\")"
      ],
      "metadata": {
        "colab": {
          "base_uri": "https://localhost:8080/"
        },
        "id": "FzNk37A66sq9",
        "outputId": "dc1e1b86-5e20-4aa1-db72-881b524cf82e"
      },
      "execution_count": 3,
      "outputs": [
        {
          "output_type": "stream",
          "name": "stdout",
          "text": [
            "BEGIN\n",
            "..........\n",
            "\n",
            "END\n"
          ]
        }
      ]
    },
    {
      "cell_type": "code",
      "source": [
        "import threading\n",
        "import time\n",
        "\n",
        "#shared object\n",
        "class BankAccount:\n",
        "    def __init__(self) -> None:\n",
        "        self.balance = 0\n",
        "\n",
        "    def deposit(self,amount,customer_name):\n",
        "        print(\"%s Depositing amount : %d , Current Balance : %d\" %(customer_name, amount,self.balance))\n",
        "        time.sleep(10/1000)\n",
        "        self.balance = self.balance + amount\n",
        "        print(\"%s Checking Balance : its  %d\" %(customer_name, self.balance))\n",
        "\n",
        "#concurrent access: Thread\n",
        "class CustomerThread(threading.Thread):\n",
        "    def __init__(self, customer_name:str,account:BankAccount):\n",
        "        super(CustomerThread, self).__init__()\n",
        "        self.customer_name=customer_name\n",
        "        self.account=account\n",
        "    def run(self) -> None:\n",
        "        self.account.deposit(1000,self.customer_name)\n",
        "        return super().run()\n",
        "\n",
        "#main program\n",
        "account=BankAccount()\n",
        "customer1=CustomerThread(\"Smith\",account)\n",
        "customer2=CustomerThread(\"Steves\",account)\n",
        "customer1.start()\n",
        "customer2.start()"
      ],
      "metadata": {
        "colab": {
          "base_uri": "https://localhost:8080/"
        },
        "id": "JWzNUJcd67VO",
        "outputId": "b18baf77-867a-47dc-9288-23e914669329"
      },
      "execution_count": 4,
      "outputs": [
        {
          "output_type": "stream",
          "name": "stdout",
          "text": [
            "Smith Depositing amount : 1000 , Current Balance : 0\n",
            "Steves Depositing amount : 1000 , Current Balance : 0\n",
            "Smith Checking Balance : its  1000\n",
            "Steves Checking Balance : its  2000\n"
          ]
        }
      ]
    },
    {
      "cell_type": "code",
      "source": [
        "import threading\n",
        "import time\n",
        "\n",
        "class BankAccount:\n",
        "    def __init__(self) -> None:\n",
        "        self.balance = 0\n",
        "        self.lock = threading.Lock() # create a lock\n",
        "\n",
        "    def deposit(self,amount,customer_name):\n",
        "        self.lock.acquire() # begin critical section\n",
        "        print(\"%s Depositing amount : %d , Current Balance : %d\" %(customer_name, amount,self.balance))\n",
        "        time.sleep(10/1000)\n",
        "        self.balance = self.balance + amount\n",
        "        print(\"%s Checking Balance : its  %d\" %(customer_name, self.balance))\n",
        "        self.lock.release() # end critical section\n",
        "\n",
        "class CustomerThread(threading.Thread):\n",
        "    def __init__(self, customer_name:str,account:BankAccount):\n",
        "        super(CustomerThread, self).__init__()\n",
        "        self.customer_name=customer_name\n",
        "        self.account=account\n",
        "    def run(self) -> None:\n",
        "        self.account.deposit(1000,self.customer_name)\n",
        "        return super().run()\n",
        "\n",
        "account=BankAccount()\n",
        "customer1=CustomerThread(\"Smith\",account)\n",
        "customer2=CustomerThread(\"Steves\",account)\n",
        "customer1.start()\n",
        "customer2.start()"
      ],
      "metadata": {
        "colab": {
          "base_uri": "https://localhost:8080/"
        },
        "id": "mlxDH_LC6_AP",
        "outputId": "b2489f55-34ff-45f0-e52f-d2a4fe6f4c12"
      },
      "execution_count": 5,
      "outputs": [
        {
          "output_type": "stream",
          "name": "stdout",
          "text": [
            "Smith Depositing amount : 1000 , Current Balance : 0\n"
          ]
        }
      ]
    },
    {
      "cell_type": "code",
      "source": [
        "import threading\n",
        "import time\n",
        "\n",
        "class BankAccount:\n",
        "    def __init__(self) -> None:\n",
        "        self.balance = 0\n",
        "        self.lock = threading.RLock() # <---- This is recursive reentrant lock\n",
        "\n",
        "    def deposit(self,amount,customer_name):\n",
        "        self.lock.acquire() # lock\n",
        "        self.lock.acquire() # again and again\n",
        "        print(\"%s Depositing amount : %d , Current Balance : %d\" %(customer_name, amount,self.balance))\n",
        "        time.sleep(10/1000)\n",
        "        self.balance = self.balance + amount\n",
        "        print(\"%s Checking Balance : its  %d\" %(customer_name, self.balance))\n",
        "        self.lock.release() #release\n",
        "        self.lock.release() #release\n",
        "\n",
        "class CustomerThread(threading.Thread):\n",
        "    def __init__(self, customer_name:str,account:BankAccount):\n",
        "        super(CustomerThread, self).__init__()\n",
        "        self.customer_name=customer_name\n",
        "        self.account=account\n",
        "    def run(self) -> None:\n",
        "        self.account.deposit(1000,self.customer_name)\n",
        "        return super().run()\n",
        "\n",
        "account=BankAccount()\n",
        "customer1=CustomerThread(\"Smith\",account)\n",
        "customer2=CustomerThread(\"Steves\",account)\n",
        "customer1.start()\n",
        "customer2.start()"
      ],
      "metadata": {
        "colab": {
          "base_uri": "https://localhost:8080/"
        },
        "id": "Ql-agoSW7As5",
        "outputId": "87bf92fd-76be-4e19-adb5-3cbefee83cc0"
      },
      "execution_count": 6,
      "outputs": [
        {
          "output_type": "stream",
          "name": "stdout",
          "text": [
            "Smith Depositing amount : 1000 , Current Balance : 0\n"
          ]
        }
      ]
    }
  ]
}