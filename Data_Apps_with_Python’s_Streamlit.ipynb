{
  "nbformat": 4,
  "nbformat_minor": 0,
  "metadata": {
    "colab": {
      "provenance": [],
      "authorship_tag": "ABX9TyPycuDZ+chBe3sq4UqqLMHG"
    },
    "kernelspec": {
      "name": "python3",
      "display_name": "Python 3"
    },
    "language_info": {
      "name": "python"
    }
  },
  "cells": [
    {
      "cell_type": "markdown",
      "source": [
        "[Reference](https://towardsdatascience.com/data-apps-with-pythons-streamlit-b14aaca7d083)"
      ],
      "metadata": {
        "id": "eTbNGglQKcH0"
      }
    },
    {
      "cell_type": "markdown",
      "source": [
        "# Getting Started\n"
      ],
      "metadata": {
        "id": "guwIOzuKKgI0"
      }
    },
    {
      "cell_type": "code",
      "execution_count": 1,
      "metadata": {
        "id": "b6mQDhsUJxRw"
      },
      "outputs": [],
      "source": [
        "# #/app.py\n",
        "# import streamlit as st #pip install streamlit\n",
        "# st.title('Explore a dataset')"
      ]
    },
    {
      "cell_type": "code",
      "source": [
        "# streamlit run app.py"
      ],
      "metadata": {
        "id": "BKgXZ40AKekv"
      },
      "execution_count": 2,
      "outputs": []
    },
    {
      "cell_type": "code",
      "source": [
        "# # app.py\n",
        "# import streamlit as sat\n",
        "# st.title('Explore a dataset')\n",
        "# st.write('A general purpose data exploration app')"
      ],
      "metadata": {
        "id": "QU_XRlxVKh7c"
      },
      "execution_count": 4,
      "outputs": []
    },
    {
      "cell_type": "code",
      "source": [
        "# import streamlit as st\n",
        "# st.title('Explore a dataset')\n",
        "# st.write('A general purpose data exploration app')\n",
        "# file = st.file_uploader(\"Upload file\", type=['csv'])\n",
        "# st.write(file)"
      ],
      "metadata": {
        "id": "h3oEpG41KiG8"
      },
      "execution_count": 5,
      "outputs": []
    },
    {
      "cell_type": "code",
      "source": [
        "# import streamlit as st\n",
        "# import pandas as pd\n",
        "# def explore(df):\n",
        "#   # DATA\n",
        "#   st.write('Data:')\n",
        "#   st.write(df)\n",
        "#   # SUMMARY\n",
        "#   df_types = pd.DataFrame(df.dtypes, columns=['Data Type'])\n",
        "#   numerical_cols = df_types[~df_types['Data Type'].isin(['object',\n",
        "#                    'bool'])].index.values\n",
        "#   df_types['Count'] = df.count()\n",
        "#   df_types['Unique Values'] = df.nunique()\n",
        "#   df_types['Min'] = df[numerical_cols].min()\n",
        "#   df_types['Max'] = df[numerical_cols].max()\n",
        "#   df_types['Average'] = df[numerical_cols].mean()\n",
        "#   df_types['Median'] = df[numerical_cols].median()\n",
        "#   df_types['St. Dev.'] = df[numerical_cols].std()\n",
        "#   st.write('Summary:')\n",
        "#   st.write(df_types)\n",
        "# def get_df(file):\n",
        "#   # get extension and read file\n",
        "#   extension = file.name.split('.')[1]\n",
        "#   if extension.upper() == 'CSV':\n",
        "#     df = pd.read_csv(file)\n",
        "#   elif extension.upper() == 'XLSX':\n",
        "#     df = pd.read_excel(file, engine='openpyxl')\n",
        "#   elif extension.upper() == 'PICKLE':\n",
        "#     df = pd.read_pickle(file)\n",
        "#   return df\n",
        "# def main():\n",
        "#   st.title('Explore a dataset')\n",
        "#   st.write('A general purpose data exploration app')\n",
        "# file = st.file_uploader(\"Upload file\", type=['csv' \n",
        "#                                              ,'xlsx'\n",
        "#                                              ,'pickle'])\n",
        "#   if not file:\n",
        "#     st.write(\"Upload a .csv or .xlsx file to get started\")\n",
        "#     return\n",
        "#   df = get_df(file)\n",
        "#   explore()\n",
        "# main()"
      ],
      "metadata": {
        "id": "uGgiuvNKKlxn"
      },
      "execution_count": 6,
      "outputs": []
    },
    {
      "cell_type": "code",
      "source": [
        "import streamlit as st\n",
        "import pandas as pd\n",
        "# def explore(df)...\n",
        "def transform(df):\n",
        "  # Select sample size\n",
        "  frac = st.slider('Random sample (%)', 1, 100, 100)\n",
        "  if frac < 100:\n",
        "    df = df.sample(frac=frac/100)\n",
        "  # Select columns\n",
        "  cols = st.multiselect('Columns', \n",
        "                        df.columns.tolist(),\n",
        "                        df.columns.tolist())\n",
        "  df = df[cols]\n",
        "  return df\n",
        "# def get_df(file)...\n",
        "def main():\n",
        "  st.title('Explore a dataset')\n",
        "  st.write('A general purpose data exploration app')\n",
        "  file = st.file_uploader(\"Upload file\", type=['csv'])\n",
        "  if not file:\n",
        "    st.write(\"Upload a .csv or .xlsx file to get started\")\n",
        "    return\n",
        "  df = get_df(file)\n",
        "  df = transform(df)\n",
        "  explore(df)\n",
        "main()"
      ],
      "metadata": {
        "id": "XBjQuCMwKqZv"
      },
      "execution_count": 9,
      "outputs": []
    },
    {
      "cell_type": "code",
      "source": [
        "import streamlit as st\n",
        "import pandas as pd\n",
        "def explore(df): ...\n",
        "def transform(df): ...\n",
        "def get_df(file): ...\n",
        "def main():\n",
        "  st.title('Explore a dataset')\n",
        "  st.write('A general purpose data exploration app')\n",
        "  file = st.file_uploader(\"Upload file\", type=['csv', \n",
        "                                               'xlsx', \n",
        "                                               'pickle'])\n",
        "  if not file:\n",
        "    st.write(\"Upload a .csv or .xlsx file to get started\")\n",
        "    return\n",
        "  df = get_df(file)\n",
        "  task = st.sidebar.radio('Task', ['Explore', 'Transform'], 0)\n",
        "  if task == 'Explore':\n",
        "    explore(df)\n",
        "  else:\n",
        "    transform(df)"
      ],
      "metadata": {
        "id": "W6dt0y4UK1sb"
      },
      "execution_count": 10,
      "outputs": []
    },
    {
      "cell_type": "code",
      "source": [
        "import streamlit as st\n",
        "import pandas as pd\n",
        "import pickle\n",
        "import io\n",
        "import base64\n",
        "...\n",
        "def download_file(df, types, new_types, extension):\n",
        "  for i, col in enumerate(df.columns):\n",
        "    new_type = types[new_types[i]]\n",
        "    if new_type:\n",
        "      try:\n",
        "        df[col] = df[col].astype(new_type)\n",
        "      except:\n",
        "        st.write('Could not convert', col, 'to', new_types[i])\n",
        "  # csv\n",
        "  if extension == 'csv': \n",
        "    csv = df.to_csv(index=False)\n",
        "    b64 = base64.b64encode(csv.encode()).decode()  \n",
        "  # pickle\n",
        "  else: \n",
        "    b = io.BytesIO()\n",
        "    pickle.dump(df, b)\n",
        "    b64 = base64.b64encode(b.getvalue()).decode()\n",
        "  # download link\n",
        "  href = f'<a href=\"data:file/csv;base64,{b64}\" download=\"new_file.{extension}\">Download {extension}</a>'\n",
        "\n",
        "  st.write(href, unsafe_allow_html=True)"
      ],
      "metadata": {
        "id": "UjY19lHYK5S4"
      },
      "execution_count": 11,
      "outputs": []
    },
    {
      "cell_type": "code",
      "source": [
        "from pandas_profiling import ProfileReport\n",
        "from streamlit_pandas_profiling import st_profile_report\n",
        "def explore(df):\n",
        "  pr = ProfileReport(df, explorative=True)\n",
        "  st_profile_report(pr)"
      ],
      "metadata": {
        "id": "ew_Wg9c_LuI3"
      },
      "execution_count": 12,
      "outputs": []
    }
  ]
}