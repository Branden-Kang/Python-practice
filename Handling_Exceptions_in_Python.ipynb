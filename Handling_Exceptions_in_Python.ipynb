{
  "nbformat": 4,
  "nbformat_minor": 0,
  "metadata": {
    "colab": {
      "name": "Handling Exceptions in Python.ipynb",
      "provenance": [],
      "authorship_tag": "ABX9TyOJMyHvYsiKM11MC1r15Fzv"
    },
    "kernelspec": {
      "name": "python3",
      "display_name": "Python 3"
    },
    "language_info": {
      "name": "python"
    }
  },
  "cells": [
    {
      "cell_type": "markdown",
      "metadata": {
        "id": "WiTKCPuCCPSj"
      },
      "source": [
        "[Reference](https://betterprogramming.pub/avoid-these-5-mistakes-when-handling-exceptions-in-python-645f0ce92c92)"
      ]
    },
    {
      "cell_type": "code",
      "metadata": {
        "colab": {
          "base_uri": "https://localhost:8080/"
        },
        "id": "g_RGnsZJ3bh9",
        "outputId": "2ff5295e-27d1-4ecf-c1a3-9a13879e21ae"
      },
      "source": [
        "def calculate_ratio(a, b):\n",
        "    try:\n",
        "        print(f\"Ratio of {a} and {b} is {a/b}\")\n",
        "    except ZeroDivisionError:\n",
        "        print(\"You can't divide zero.\")\n",
        "\n",
        "calculate_ratio(2, 5)\n",
        "calculate_ratio(2, 0)"
      ],
      "execution_count": 1,
      "outputs": [
        {
          "output_type": "stream",
          "text": [
            "Ratio of 2 and 5 is 0.4\n",
            "You can't divide zero.\n"
          ],
          "name": "stdout"
        }
      ]
    },
    {
      "cell_type": "code",
      "metadata": {
        "colab": {
          "base_uri": "https://localhost:8080/"
        },
        "id": "Ati9iMD8CUaZ",
        "outputId": "3b548650-636c-4f2d-aae1-b89d4483421b"
      },
      "source": [
        "def calculate_ratio(a, b):\n",
        "    print(f\"Calculating the ratio between {a!r} and {b!r}\")\n",
        "    try:\n",
        "        print(f\"Ratio of {a} and {b} is {a/b}\")\n",
        "    except:\n",
        "        print(\"Something bad just happened.\")\n",
        "\n",
        "calculate_ratio(2, '5')\n",
        "calculate_ratio(4, 0)"
      ],
      "execution_count": 2,
      "outputs": [
        {
          "output_type": "stream",
          "text": [
            "Calculating the ratio between 2 and '5'\n",
            "Something bad just happened.\n",
            "Calculating the ratio between 4 and 0\n",
            "Something bad just happened.\n"
          ],
          "name": "stdout"
        }
      ]
    },
    {
      "cell_type": "code",
      "metadata": {
        "colab": {
          "base_uri": "https://localhost:8080/"
        },
        "id": "gJfzfsB9CXbX",
        "outputId": "e0eee55d-83fe-4581-fc19-42c29dbaacd0"
      },
      "source": [
        "def calculate_ratio(a, b):\n",
        "    print(f\"Calculating the ratio between {a!r} and {b!r}\")\n",
        "    try:\n",
        "        print(f\"Ratio of {a} and {b} is {a/b}\")\n",
        "    except TypeError:\n",
        "        print(\"Both parameters should be numeric values.\")\n",
        "    except ZeroDivisionError:\n",
        "        print(\"You can't divide zero.\")\n",
        "\n",
        "calculate_ratio(2, 5)\n",
        "calculate_ratio(2, '5')\n",
        "calculate_ratio(2, 0)"
      ],
      "execution_count": 3,
      "outputs": [
        {
          "output_type": "stream",
          "text": [
            "Calculating the ratio between 2 and 5\n",
            "Ratio of 2 and 5 is 0.4\n",
            "Calculating the ratio between 2 and '5'\n",
            "Both parameters should be numeric values.\n",
            "Calculating the ratio between 2 and 0\n",
            "You can't divide zero.\n"
          ],
          "name": "stdout"
        }
      ]
    },
    {
      "cell_type": "code",
      "metadata": {
        "colab": {
          "base_uri": "https://localhost:8080/"
        },
        "id": "Aj5Tgl_NCfm7",
        "outputId": "f7bf5fe6-70c5-4efa-a676-c75727b1fbfa"
      },
      "source": [
        "def calculate_ratio(a, b):\n",
        "    print(f\"Calculating the ratio between {a!r} and {b!r}\")\n",
        "    try:\n",
        "        casted_a = float(a)\n",
        "        casted_b = float(b)\n",
        "        print(\"Calculated Ratio:\", casted_a / casted_b)\n",
        "    except ZeroDivisionError:\n",
        "        print(\"You can't divide zero.\")\n",
        "    except (TypeError, ValueError):\n",
        "        print(\"You can only pass numeric values.\")\n",
        "\n",
        "calculate_ratio(2, \"4\")\n",
        "calculate_ratio(2, \"four\")"
      ],
      "execution_count": 4,
      "outputs": [
        {
          "output_type": "stream",
          "text": [
            "Calculating the ratio between 2 and '4'\n",
            "Calculated Ratio: 0.5\n",
            "Calculating the ratio between 2 and 'four'\n",
            "You can only pass numeric values.\n"
          ],
          "name": "stdout"
        }
      ]
    },
    {
      "cell_type": "code",
      "metadata": {
        "id": "bapkZy2dCnM3"
      },
      "source": [
        "def calculate_ratio(a, b):\n",
        "    try:\n",
        "        print(\"Begin calling the function\")\n",
        "        print(\"Parameter a is:\", a)\n",
        "        print(\"Parameter b is:\", b)\n",
        "        print(\"Ratio: \", a/b)\n",
        "    except ZeroDivisionError:\n",
        "        print(\"You can't divide zero.\")"
      ],
      "execution_count": 5,
      "outputs": []
    },
    {
      "cell_type": "code",
      "metadata": {
        "id": "VGrA_udqCoic"
      },
      "source": [
        "def calculate_ratio(a, b):\n",
        "    print(\"Begin calling the function\")\n",
        "    print(\"Parameter a is:\", a)\n",
        "    print(\"Parameter b is:\", b)\n",
        "    try:\n",
        "        print(\"Ratio: \", a/b)\n",
        "    except ZeroDivisionError:\n",
        "        print(\"You can't divide zero.\")"
      ],
      "execution_count": 6,
      "outputs": []
    },
    {
      "cell_type": "code",
      "metadata": {
        "colab": {
          "base_uri": "https://localhost:8080/"
        },
        "id": "3Pr0xR8MC_Wu",
        "outputId": "a0720512-f28b-471e-e879-806a38a9bbda"
      },
      "source": [
        "def calculate_ratio(a, b):\n",
        "    print(f\"Calculating the ratio between {a!r} and {b!r}\")\n",
        "    try:\n",
        "        ratio = a/b\n",
        "    except ZeroDivisionError:\n",
        "        print(\"You can't divide zero.\")\n",
        "    else:\n",
        "        print(\"Ratio Result: \", ratio)\n",
        "\n",
        "calculate_ratio(2, 5)\n",
        "calculate_ratio(2, 0)"
      ],
      "execution_count": 7,
      "outputs": [
        {
          "output_type": "stream",
          "text": [
            "Calculating the ratio between 2 and 5\n",
            "Ratio Result:  0.4\n",
            "Calculating the ratio between 2 and 0\n",
            "You can't divide zero.\n"
          ],
          "name": "stdout"
        }
      ]
    },
    {
      "cell_type": "code",
      "metadata": {
        "colab": {
          "base_uri": "https://localhost:8080/"
        },
        "id": "M0rY5szADCEd",
        "outputId": "69595869-eba3-4a79-c6dc-7c3bdedf6547"
      },
      "source": [
        "def calculate_ratio(a, b):\n",
        "    print(f\"Calculating the ratio between {a!r} and {b!r}\")\n",
        "    try:\n",
        "        ratio = a/b\n",
        "    except ZeroDivisionError:\n",
        "        print(\"You can't divide zero.\")\n",
        "    else:\n",
        "        print(\"Ratio Result: \", ratio)\n",
        "    finally:\n",
        "        print(\"Done running the calculate_ratio function\")\n",
        "\n",
        "calculate_ratio(2, 5)\n",
        "calculate_ratio(2, 0)"
      ],
      "execution_count": 8,
      "outputs": [
        {
          "output_type": "stream",
          "text": [
            "Calculating the ratio between 2 and 5\n",
            "Ratio Result:  0.4\n",
            "Done running the calculate_ratio function\n",
            "Calculating the ratio between 2 and 0\n",
            "You can't divide zero.\n",
            "Done running the calculate_ratio function\n"
          ],
          "name": "stdout"
        }
      ]
    },
    {
      "cell_type": "code",
      "metadata": {
        "colab": {
          "base_uri": "https://localhost:8080/"
        },
        "id": "ASi2mnnbDFll",
        "outputId": "c93a7f2a-2426-48c3-98c3-e4b087b837be"
      },
      "source": [
        "def calculate_ratio(a, b):\n",
        "    print(f\"Calculating the ratio between {a!r} and {b!r}\")\n",
        "    try:\n",
        "        ratio = a/b\n",
        "        return ratio\n",
        "    except ZeroDivisionError:\n",
        "        print(\"You can't divide zero.\")\n",
        "    finally:\n",
        "        print(\"Done running the calculate_ratio function\")\n",
        "        return None\n",
        "\n",
        "\n",
        "calculated_ratio = calculate_ratio(2, 4)\n",
        "print('Calculated Ratio: ', calculated_ratio)"
      ],
      "execution_count": 9,
      "outputs": [
        {
          "output_type": "stream",
          "text": [
            "Calculating the ratio between 2 and 4\n",
            "Done running the calculate_ratio function\n",
            "Calculated Ratio:  None\n"
          ],
          "name": "stdout"
        }
      ]
    }
  ]
}