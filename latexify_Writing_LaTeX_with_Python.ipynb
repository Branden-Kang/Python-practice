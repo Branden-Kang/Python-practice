{
  "nbformat": 4,
  "nbformat_minor": 0,
  "metadata": {
    "colab": {
      "provenance": [],
      "authorship_tag": "ABX9TyNusltfZvYTLfKO7cx8sUmc"
    },
    "kernelspec": {
      "name": "python3",
      "display_name": "Python 3"
    },
    "language_info": {
      "name": "python"
    }
  },
  "cells": [
    {
      "cell_type": "markdown",
      "source": [
        "[Reference](https://medium.com/bitgrit-data-science-publication/latexify-writing-latex-with-python-6c0fa4b2e9d5)"
      ],
      "metadata": {
        "id": "O-lVekcTuqPQ"
      }
    },
    {
      "cell_type": "code",
      "execution_count": 1,
      "metadata": {
        "colab": {
          "base_uri": "https://localhost:8080/"
        },
        "id": "k9YhgzbBulZc",
        "outputId": "e7e26ce0-f621-4be7-e883-47c7e19564d2"
      },
      "outputs": [
        {
          "output_type": "stream",
          "name": "stdout",
          "text": [
            "Looking in indexes: https://pypi.org/simple, https://us-python.pkg.dev/colab-wheels/public/simple/\n",
            "Collecting latexify-py==0.2.0\n",
            "  Downloading latexify_py-0.2.0-py3-none-any.whl (22 kB)\n",
            "Collecting dill>=0.3.2\n",
            "  Downloading dill-0.3.6-py3-none-any.whl (110 kB)\n",
            "\u001b[2K     \u001b[90m━━━━━━━━━━━━━━━━━━━━━━━━━━━━━━━━━━━━━━━\u001b[0m \u001b[32m110.5/110.5 kB\u001b[0m \u001b[31m3.6 MB/s\u001b[0m eta \u001b[36m0:00:00\u001b[0m\n",
            "\u001b[?25hInstalling collected packages: dill, latexify-py\n",
            "Successfully installed dill-0.3.6 latexify-py-0.2.0\n"
          ]
        }
      ],
      "source": [
        "%pip install latexify-py==0.2.0"
      ]
    },
    {
      "cell_type": "code",
      "source": [
        "import math\n",
        "import latexify\n",
        "\n",
        "latexify.__version__"
      ],
      "metadata": {
        "colab": {
          "base_uri": "https://localhost:8080/",
          "height": 35
        },
        "id": "WQlbKwQiutDo",
        "outputId": "71484d48-dd8f-4473-f337-184269ea7316"
      },
      "execution_count": 2,
      "outputs": [
        {
          "output_type": "execute_result",
          "data": {
            "text/plain": [
              "'0.2.0'"
            ],
            "application/vnd.google.colaboratory.intrinsic+json": {
              "type": "string"
            }
          },
          "metadata": {},
          "execution_count": 2
        }
      ]
    },
    {
      "cell_type": "code",
      "source": [
        "@latexify.function\n",
        "def sigmoid(x):\n",
        "  return 1 / (1 + math.exp(-x))\n",
        "\n",
        "sigmoid"
      ],
      "metadata": {
        "colab": {
          "base_uri": "https://localhost:8080/",
          "height": 55
        },
        "id": "fJOwiEs0utoT",
        "outputId": "e7ff3951-2f58-4c39-a0db-9ab34e4708c5"
      },
      "execution_count": 3,
      "outputs": [
        {
          "output_type": "execute_result",
          "data": {
            "text/plain": [
              "<latexify.frontend.LatexifiedFunction at 0x7ffa2455ffa0>"
            ],
            "text/latex": "$$ \\displaystyle \\mathrm{sigmoid}(x) = \\frac{{1}}{{1} + \\exp{\\left({-x}\\right)}} $$"
          },
          "metadata": {},
          "execution_count": 3
        }
      ]
    },
    {
      "cell_type": "code",
      "source": [
        "print(sigmoid)"
      ],
      "metadata": {
        "colab": {
          "base_uri": "https://localhost:8080/"
        },
        "id": "IYU-m1lyuukY",
        "outputId": "15fa3457-819b-45ec-f76a-8c38e9a27716"
      },
      "execution_count": 4,
      "outputs": [
        {
          "output_type": "stream",
          "name": "stdout",
          "text": [
            "\\mathrm{sigmoid}(x) = \\frac{{1}}{{1} + \\exp{\\left({-x}\\right)}}\n"
          ]
        }
      ]
    },
    {
      "cell_type": "code",
      "source": [
        "sigmoid(1)"
      ],
      "metadata": {
        "colab": {
          "base_uri": "https://localhost:8080/"
        },
        "id": "G0dYpavPuvlO",
        "outputId": "82103b9c-8193-469b-f10e-ffdd471f88f9"
      },
      "execution_count": 5,
      "outputs": [
        {
          "output_type": "execute_result",
          "data": {
            "text/plain": [
              "0.7310585786300049"
            ]
          },
          "metadata": {},
          "execution_count": 5
        }
      ]
    },
    {
      "cell_type": "code",
      "source": [
        "@latexify.expression\n",
        "def sigmoid(x):\n",
        "  return 1 / (1 + math.exp(-x))\n",
        "\n",
        "sigmoid"
      ],
      "metadata": {
        "colab": {
          "base_uri": "https://localhost:8080/",
          "height": 55
        },
        "id": "GHkRTFPuuwc-",
        "outputId": "be5fc955-ce39-4427-bc4a-4b3f3123f80d"
      },
      "execution_count": 6,
      "outputs": [
        {
          "output_type": "execute_result",
          "data": {
            "text/plain": [
              "<latexify.frontend.LatexifiedFunction at 0x7ffa2376ca90>"
            ],
            "text/latex": "$$ \\displaystyle \\frac{{1}}{{1} + \\exp{\\left({-x}\\right)}} $$"
          },
          "metadata": {},
          "execution_count": 6
        }
      ]
    },
    {
      "cell_type": "code",
      "source": [
        "def sigmoid(x):\n",
        "  return 1 / (1 + math.exp(-x))\n",
        "\n",
        "latexify.get_latex(sigmoid)"
      ],
      "metadata": {
        "colab": {
          "base_uri": "https://localhost:8080/",
          "height": 35
        },
        "id": "t6Lp0L0huxx0",
        "outputId": "86e6ed29-8e88-4ae9-9136-9b73c627b9f6"
      },
      "execution_count": 7,
      "outputs": [
        {
          "output_type": "execute_result",
          "data": {
            "text/plain": [
              "'\\\\mathrm{sigmoid}(x) = \\\\frac{{1}}{{1} + \\\\exp{\\\\left({-x}\\\\right)}}'"
            ],
            "application/vnd.google.colaboratory.intrinsic+json": {
              "type": "string"
            }
          },
          "metadata": {},
          "execution_count": 7
        }
      ]
    },
    {
      "cell_type": "code",
      "source": [
        "@latexify.function\n",
        "def relu(x):\n",
        "    if x > 0:\n",
        "        return x\n",
        "    else:\n",
        "        return 0\n",
        "\n",
        "relu"
      ],
      "metadata": {
        "colab": {
          "base_uri": "https://localhost:8080/",
          "height": 58
        },
        "id": "u6WtlNvIuz0G",
        "outputId": "b6ffe111-db42-4a19-85eb-54b09d52c112"
      },
      "execution_count": 8,
      "outputs": [
        {
          "output_type": "execute_result",
          "data": {
            "text/plain": [
              "<latexify.frontend.LatexifiedFunction at 0x7ffa20ef1eb0>"
            ],
            "text/latex": "$$ \\displaystyle \\mathrm{relu}(x) = \\left\\{ \\begin{array}{ll} x, & \\mathrm{if} \\ {x > {0}} \\\\ {0}, & \\mathrm{otherwise} \\end{array} \\right. $$"
          },
          "metadata": {},
          "execution_count": 8
        }
      ]
    },
    {
      "cell_type": "code",
      "source": [
        "@latexify.function(use_math_symbols=True, use_signature=False)\n",
        "def linear_regression(x, w, beta):\n",
        "    return w * x + beta\n",
        "\n",
        "linear_regression"
      ],
      "metadata": {
        "colab": {
          "base_uri": "https://localhost:8080/",
          "height": 38
        },
        "id": "wzvlvaRtu1bg",
        "outputId": "67f74994-6ac0-4de1-d724-1d7a5531fef0"
      },
      "execution_count": 9,
      "outputs": [
        {
          "output_type": "execute_result",
          "data": {
            "text/plain": [
              "<latexify.frontend.LatexifiedFunction at 0x7ffa20ef1a60>"
            ],
            "text/latex": "$$ \\displaystyle w x + {\\beta} $$"
          },
          "metadata": {},
          "execution_count": 9
        }
      ]
    },
    {
      "cell_type": "code",
      "source": [
        "identifiers = {\n",
        "    \"jaccard_similarity\": \"J\", \n",
        "    \"a\": \"A\",\n",
        "    \"b\": \"B\",\n",
        "    \"len\": \"cardinality\"\n",
        "}\n",
        "\n",
        "@latexify.function(use_set_symbols=True, identifiers=identifiers)\n",
        "def jaccard_similarity(a, b):\n",
        "    return len(a & b) / len(a | b)\n",
        "\n",
        "jaccard_similarity"
      ],
      "metadata": {
        "colab": {
          "base_uri": "https://localhost:8080/",
          "height": 57
        },
        "id": "bdlbRLIpu3Y0",
        "outputId": "7409a7d2-078a-4dcf-e62b-ad2ae8397f42"
      },
      "execution_count": 10,
      "outputs": [
        {
          "output_type": "execute_result",
          "data": {
            "text/plain": [
              "<latexify.frontend.LatexifiedFunction at 0x7ffa20f037f0>"
            ],
            "text/latex": "$$ \\displaystyle \\mathrm{J}(A, B) = \\frac{\\mathrm{cardinality}\\left(A \\cap B\\right)}{\\mathrm{cardinality}\\left(A \\cup B\\right)} $$"
          },
          "metadata": {},
          "execution_count": 10
        }
      ]
    },
    {
      "cell_type": "code",
      "source": [
        "# logit function\n",
        "@latexify.function(reduce_assignments=True)\n",
        "def logit(p):\n",
        "    nominator = p\n",
        "    denominator = 1 - p\n",
        "    return math.log(nominator / denominator)\n",
        "\n",
        "logit"
      ],
      "metadata": {
        "colab": {
          "base_uri": "https://localhost:8080/",
          "height": 58
        },
        "id": "Ha8SLCbEu5XK",
        "outputId": "cddd4259-1c59-40fc-bf0b-590aaf7d6640"
      },
      "execution_count": 11,
      "outputs": [
        {
          "output_type": "execute_result",
          "data": {
            "text/plain": [
              "<latexify.frontend.LatexifiedFunction at 0x7ffa20425cd0>"
            ],
            "text/latex": "$$ \\displaystyle \\mathrm{logit}(p) = \\log{\\left({\\frac{p}{{1} - p}}\\right)} $$"
          },
          "metadata": {},
          "execution_count": 11
        }
      ]
    }
  ]
}