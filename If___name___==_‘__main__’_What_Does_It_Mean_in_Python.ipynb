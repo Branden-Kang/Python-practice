{
  "nbformat": 4,
  "nbformat_minor": 0,
  "metadata": {
    "colab": {
      "name": "If __name__ == ‘__main__’: What Does It Mean in Python.ipynb",
      "provenance": [],
      "authorship_tag": "ABX9TyNh/IRJFD+eMjvdzLuVXL2P"
    },
    "kernelspec": {
      "name": "python3",
      "display_name": "Python 3"
    },
    "language_info": {
      "name": "python"
    }
  },
  "cells": [
    {
      "cell_type": "markdown",
      "metadata": {
        "id": "bGwVfIqjQqvc"
      },
      "source": [
        "[Reference](https://codefather-tech.medium.com/if-name-main-what-does-it-mean-in-python-c9d8de0566a)"
      ]
    },
    {
      "cell_type": "code",
      "metadata": {
        "colab": {
          "base_uri": "https://localhost:8080/",
          "height": 37
        },
        "id": "IQyWZgVJQTfe",
        "outputId": "7d29d9d1-3bd1-4b45-8194-292e50c6df52"
      },
      "source": [
        "__name__"
      ],
      "execution_count": 1,
      "outputs": [
        {
          "output_type": "execute_result",
          "data": {
            "application/vnd.google.colaboratory.intrinsic+json": {
              "type": "string"
            },
            "text/plain": [
              "'__main__'"
            ]
          },
          "metadata": {
            "tags": []
          },
          "execution_count": 1
        }
      ]
    },
    {
      "cell_type": "code",
      "metadata": {
        "colab": {
          "base_uri": "https://localhost:8080/",
          "height": 37
        },
        "id": "zRsrN6uxQufu",
        "outputId": "6d5deae1-7c11-4f70-ddf5-225a962f1f79"
      },
      "source": [
        "import random\n",
        "random.__name__"
      ],
      "execution_count": 2,
      "outputs": [
        {
          "output_type": "execute_result",
          "data": {
            "application/vnd.google.colaboratory.intrinsic+json": {
              "type": "string"
            },
            "text/plain": [
              "'random'"
            ]
          },
          "metadata": {
            "tags": []
          },
          "execution_count": 2
        }
      ]
    },
    {
      "cell_type": "code",
      "metadata": {
        "colab": {
          "base_uri": "https://localhost:8080/"
        },
        "id": "EMkJVHiFRc1r",
        "outputId": "ddef44bc-3a28-4f48-9cb9-3a71430495f3"
      },
      "source": [
        "print(\"The value of __name__ is {}\".format(__name__))"
      ],
      "execution_count": 3,
      "outputs": [
        {
          "output_type": "stream",
          "text": [
            "The value of __name__ is __main__\n"
          ],
          "name": "stdout"
        }
      ]
    },
    {
      "cell_type": "code",
      "metadata": {
        "colab": {
          "base_uri": "https://localhost:8080/"
        },
        "id": "in962MW6Re0V",
        "outputId": "c0ecc917-61a6-40ff-9226-a27d18ce38a1"
      },
      "source": [
        "def step1():\n",
        "    print(\"Executing step1...\")\n",
        "    \n",
        "def step2():\n",
        "    print(\"Executing step2...\")\n",
        "    \n",
        "def step3():\n",
        "    print(\"Executing step3...\")\n",
        "    \n",
        "step1()\n",
        "step2()\n",
        "step3()"
      ],
      "execution_count": 4,
      "outputs": [
        {
          "output_type": "stream",
          "text": [
            "Executing step1...\n",
            "Executing step2...\n",
            "Executing step3...\n"
          ],
          "name": "stdout"
        }
      ]
    },
    {
      "cell_type": "code",
      "metadata": {
        "colab": {
          "base_uri": "https://localhost:8080/"
        },
        "id": "kOnjdZXJRkH_",
        "outputId": "1705c2b2-65cf-4748-9cb5-98232975529a"
      },
      "source": [
        "def step1():\n",
        "    print(\"Executing step1...\")\n",
        "    \n",
        "def step2():\n",
        "    print(\"Executing step2...\")\n",
        "    \n",
        "def step3():\n",
        "    print(\"Executing step3...\")\n",
        "\n",
        "if __name__ == \"__main__\":\n",
        "    step1()\n",
        "    step2()\n",
        "    step3()"
      ],
      "execution_count": 5,
      "outputs": [
        {
          "output_type": "stream",
          "text": [
            "Executing step1...\n",
            "Executing step2...\n",
            "Executing step3...\n"
          ],
          "name": "stdout"
        }
      ]
    },
    {
      "cell_type": "code",
      "metadata": {
        "colab": {
          "base_uri": "https://localhost:8080/"
        },
        "id": "rK9bOJFuRo7T",
        "outputId": "461c03e8-36e2-4ef9-9e39-64454a35320b"
      },
      "source": [
        "def step1():\n",
        "    print(\"Executing step1...\")\n",
        "    \n",
        "def step2():\n",
        "    print(\"Executing step2...\")\n",
        "    \n",
        "def step3():\n",
        "    print(\"Executing step3...\")\n",
        "\n",
        "def main():\n",
        "    step1()\n",
        "    step2()\n",
        "    step3()\n",
        "\n",
        "if __name__ == \"__main__\":\n",
        "    main()"
      ],
      "execution_count": 6,
      "outputs": [
        {
          "output_type": "stream",
          "text": [
            "Executing step1...\n",
            "Executing step2...\n",
            "Executing step3...\n"
          ],
          "name": "stdout"
        }
      ]
    },
    {
      "cell_type": "code",
      "metadata": {
        "colab": {
          "base_uri": "https://localhost:8080/"
        },
        "id": "G83mxX7vRu0Z",
        "outputId": "8369da88-ea76-4089-9516-d80ede3ab36a"
      },
      "source": [
        "import sys \n",
        "\n",
        "\n",
        "def main(args):\n",
        "    print(args)\n",
        "    \n",
        "if __name__ == \"__main__\":\n",
        "    main(sys.argv)"
      ],
      "execution_count": 7,
      "outputs": [
        {
          "output_type": "stream",
          "text": [
            "['/usr/local/lib/python3.7/dist-packages/ipykernel_launcher.py', '-f', '/root/.local/share/jupyter/runtime/kernel-b597febc-5630-4983-b55b-dc243784b95c.json']\n"
          ],
          "name": "stdout"
        }
      ]
    },
    {
      "cell_type": "code",
      "metadata": {
        "colab": {
          "base_uri": "https://localhost:8080/",
          "height": 351
        },
        "id": "4KBCqVl3RzBr",
        "outputId": "a308c9b5-0ed8-4f2f-f9b1-821a0aaf754d"
      },
      "source": [
        "import sys \n",
        "\n",
        "def main(a, b):\n",
        "    return int(a) * int(b)\n",
        "    \n",
        "if __name__ == \"__main__\":\n",
        "    arg1, arg2 = sys.argv[1:3]\n",
        "    print(main(arg1, arg2))"
      ],
      "execution_count": 9,
      "outputs": [
        {
          "output_type": "error",
          "ename": "ValueError",
          "evalue": "ignored",
          "traceback": [
            "\u001b[0;31m---------------------------------------------------------------------------\u001b[0m",
            "\u001b[0;31mValueError\u001b[0m                                Traceback (most recent call last)",
            "\u001b[0;32m<ipython-input-9-a2fcaf665171>\u001b[0m in \u001b[0;36m<module>\u001b[0;34m()\u001b[0m\n\u001b[1;32m      6\u001b[0m \u001b[0;32mif\u001b[0m \u001b[0m__name__\u001b[0m \u001b[0;34m==\u001b[0m \u001b[0;34m\"__main__\"\u001b[0m\u001b[0;34m:\u001b[0m\u001b[0;34m\u001b[0m\u001b[0;34m\u001b[0m\u001b[0m\n\u001b[1;32m      7\u001b[0m     \u001b[0marg1\u001b[0m\u001b[0;34m,\u001b[0m \u001b[0marg2\u001b[0m \u001b[0;34m=\u001b[0m \u001b[0msys\u001b[0m\u001b[0;34m.\u001b[0m\u001b[0margv\u001b[0m\u001b[0;34m[\u001b[0m\u001b[0;36m1\u001b[0m\u001b[0;34m:\u001b[0m\u001b[0;36m3\u001b[0m\u001b[0;34m]\u001b[0m\u001b[0;34m\u001b[0m\u001b[0;34m\u001b[0m\u001b[0m\n\u001b[0;32m----> 8\u001b[0;31m     \u001b[0mprint\u001b[0m\u001b[0;34m(\u001b[0m\u001b[0mmain\u001b[0m\u001b[0;34m(\u001b[0m\u001b[0marg1\u001b[0m\u001b[0;34m,\u001b[0m \u001b[0marg2\u001b[0m\u001b[0;34m)\u001b[0m\u001b[0;34m)\u001b[0m\u001b[0;34m\u001b[0m\u001b[0;34m\u001b[0m\u001b[0m\n\u001b[0m",
            "\u001b[0;32m<ipython-input-9-a2fcaf665171>\u001b[0m in \u001b[0;36mmain\u001b[0;34m(a, b)\u001b[0m\n\u001b[1;32m      2\u001b[0m \u001b[0;34m\u001b[0m\u001b[0m\n\u001b[1;32m      3\u001b[0m \u001b[0;32mdef\u001b[0m \u001b[0mmain\u001b[0m\u001b[0;34m(\u001b[0m\u001b[0ma\u001b[0m\u001b[0;34m,\u001b[0m \u001b[0mb\u001b[0m\u001b[0;34m)\u001b[0m\u001b[0;34m:\u001b[0m\u001b[0;34m\u001b[0m\u001b[0;34m\u001b[0m\u001b[0m\n\u001b[0;32m----> 4\u001b[0;31m     \u001b[0;32mreturn\u001b[0m \u001b[0mint\u001b[0m\u001b[0;34m(\u001b[0m\u001b[0ma\u001b[0m\u001b[0;34m)\u001b[0m \u001b[0;34m*\u001b[0m \u001b[0mint\u001b[0m\u001b[0;34m(\u001b[0m\u001b[0mb\u001b[0m\u001b[0;34m)\u001b[0m\u001b[0;34m\u001b[0m\u001b[0;34m\u001b[0m\u001b[0m\n\u001b[0m\u001b[1;32m      5\u001b[0m \u001b[0;34m\u001b[0m\u001b[0m\n\u001b[1;32m      6\u001b[0m \u001b[0;32mif\u001b[0m \u001b[0m__name__\u001b[0m \u001b[0;34m==\u001b[0m \u001b[0;34m\"__main__\"\u001b[0m\u001b[0;34m:\u001b[0m\u001b[0;34m\u001b[0m\u001b[0;34m\u001b[0m\u001b[0m\n",
            "\u001b[0;31mValueError\u001b[0m: invalid literal for int() with base 10: '-f'"
          ]
        }
      ]
    }
  ]
}