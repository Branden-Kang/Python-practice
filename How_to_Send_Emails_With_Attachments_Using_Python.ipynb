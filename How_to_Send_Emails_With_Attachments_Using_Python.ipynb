{
  "nbformat": 4,
  "nbformat_minor": 0,
  "metadata": {
    "colab": {
      "name": "How to Send Emails With Attachments Using Python.ipynb",
      "provenance": [],
      "authorship_tag": "ABX9TyOKHbUZsqYksF6PvhWWG56U"
    },
    "kernelspec": {
      "name": "python3",
      "display_name": "Python 3"
    }
  },
  "cells": [
    {
      "cell_type": "markdown",
      "metadata": {
        "id": "hrYqiU1PAV_D"
      },
      "source": [
        "[Reference](https://medium.com/better-programming/how-to-send-emails-with-attachments-using-python-dd37c4b6a7fd)"
      ]
    },
    {
      "cell_type": "markdown",
      "metadata": {
        "id": "fWxV1cK5BcVH"
      },
      "source": [
        "# Secure connection"
      ]
    },
    {
      "cell_type": "code",
      "metadata": {
        "id": "gccueJTB--Ex"
      },
      "source": [
        "import smtplib\n",
        "import ssl\n",
        "\n",
        "context = ssl.create_default_context()\n",
        "\n",
        "with smtplib.SMTP('smtp.gmail.com', 587) as smtp:\n",
        "    smtp.noop()"
      ],
      "execution_count": 4,
      "outputs": []
    },
    {
      "cell_type": "code",
      "metadata": {
        "id": "4zUt3kC7_HDG"
      },
      "source": [
        "import smtplib\n",
        "import ssl\n",
        "\n",
        "SERVER_ADDRESS = \"YOUR_SERVER_ADDRESS\"  # smtp.live.com for example\n",
        "SERVER_PORT = 587\n",
        "EMAIL_ADDRESS = 'YOUR_EMAIL_ADDRESS@EXAMPLE_DOMAIN.COM'\n",
        "EMAIL_PASSWORD = 'YOUR_PASSWORD'\n",
        "RECIPIENT_EMAIL = 'RECIPIENT_EMAIL@EXAMPLE_DOMAIN.COM'\n",
        "\n",
        "# Email content\n",
        "email_subject = \"My Custom Subject\"\n",
        "email_sender = EMAIL_ADDRESS\n",
        "email_recipient = RECIPIENT_EMAIL\n",
        "\n",
        "message = f\"\"\"\\\n",
        "Subject: {email_subject}\n",
        "From: {email_sender}\n",
        "TO: {email_recipient}\n",
        "Hello World\"\"\"\n",
        "\n",
        "context = ssl.create_default_context()\n",
        "\n",
        "with smtplib.SMTP(SERVER_ADDRESS, SERVER_PORT) as smtp:\n",
        "    smtp.ehlo()  # Say EHLO to server\n",
        "    smtp.starttls(context=context)  # Puts the connection in TLS mode.\n",
        "    smtp.ehlo()\n",
        "    smtp.login(EMAIL_ADDRESS, EMAIL_PASSWORD)\n",
        "    smtp.sendmail(EMAIL_ADDRESS, RECIPIENT_EMAIL, message)"
      ],
      "execution_count": 7,
      "outputs": []
    },
    {
      "cell_type": "markdown",
      "metadata": {
        "id": "PhG3QFnZCOd3"
      },
      "source": [
        "# Send formatted HTML text"
      ]
    },
    {
      "cell_type": "code",
      "metadata": {
        "id": "OevkDT1eB3RB"
      },
      "source": [
        "import smtplib\n",
        "import ssl\n",
        "from email.message import EmailMessage\n",
        "\n",
        "\n",
        "SERVER_ADDRESS = \"YOUR_SERVER_ADDRESS\"  # smtp.live.com for example\n",
        "SERVER_PORT = 587\n",
        "EMAIL_ADDRESS = 'YOUR_EMAIL_ADDRESS@EXAMPLE_DOMAIN.COM'\n",
        "EMAIL_PASSWORD = 'YOUR_PASSWORD'\n",
        "RECIPIENT_EMAIL = 'RECIPIENT_EMAIL@EXAMPLE_DOMAIN.COM'\n",
        "\n",
        "# Email content\n",
        "msg = EmailMessage()\n",
        "\n",
        "msg['Subject'] = \"My Custom Subject\"\n",
        "msg['From'] = EMAIL_ADDRESS\n",
        "msg['To'] = RECIPIENT_EMAIL\n",
        "\n",
        "msg.set_content('Hello World')\n",
        "\n",
        "msg.add_alternative(\"\"\"\n",
        "<p>\n",
        "    <h1>My Custom Title</h1>\n",
        "    Hello <strong>World</strong>\n",
        "</p>\n",
        "\"\"\", subtype='html')\n",
        "\n",
        "\n",
        "# Create a SSLContext object with default settings.\n",
        "context = ssl.create_default_context()\n",
        "\n",
        "with smtplib.SMTP(SERVER_ADDRESS, SERVER_PORT) as smtp:\n",
        "    smtp.ehlo()  # Say EHLO to server\n",
        "    smtp.starttls(context=context)  # Puts the connection in TLS mode.\n",
        "    smtp.ehlo()\n",
        "    smtp.login(EMAIL_ADDRESS, EMAIL_PASSWORD)\n",
        "    smtp.send_message(msg)  # Auto detects the sender and recipient from header"
      ],
      "execution_count": 8,
      "outputs": []
    },
    {
      "cell_type": "markdown",
      "metadata": {
        "id": "_QNgY9ESCYND"
      },
      "source": [
        "# Send attachments"
      ]
    },
    {
      "cell_type": "code",
      "metadata": {
        "id": "OV19qov3CT2g"
      },
      "source": [
        "import mimetypes\n",
        "import smtplib\n",
        "import ssl\n",
        "from email.message import EmailMessage\n",
        "\n",
        "\n",
        "SERVER_ADDRESS = \"YOUR_SERVER_ADDRESS\"  # smtp.live.com for example\n",
        "SERVER_PORT = 587\n",
        "EMAIL_ADDRESS = 'YOUR_EMAIL_ADDRESS@EXAMPLE_DOMAIN.COM'\n",
        "EMAIL_PASSWORD = 'YOUR_PASSWORD'\n",
        "RECIPIENT_EMAIL = 'RECIPIENT_EMAIL@EXAMPLE_DOMAIN.COM'\n",
        "\n",
        "# Email content\n",
        "msg = EmailMessage()\n",
        "\n",
        "msg['Subject'] = \"My Custom Subject\"\n",
        "msg['From'] = EMAIL_ADDRESS\n",
        "msg['To'] = RECIPIENT_EMAIL\n",
        "\n",
        "msg.set_content('Hello World')\n",
        "\n",
        "msg.add_alternative(\"\"\"\n",
        "<p>\n",
        "    <h1>My Custom Title</h1>\n",
        "    Hello <strong>World</strong>\n",
        "</p>\n",
        "\"\"\", subtype='html')\n",
        "\n",
        "\n",
        "filename = 'attachment.txt'\n",
        "path = f'docs/{filename}'\n",
        "\n",
        "# Guess the content type based on the file's extension.\n",
        "ctype, encoding = mimetypes.guess_type(path)\n",
        "if ctype is None or encoding is not None:\n",
        "    ctype = 'application/octet-stream'\n",
        "maintype, subtype = ctype.split('/', 1)\n",
        "\n",
        "with open(path, 'rb') as fp:\n",
        "    msg.add_attachment(fp.read(), maintype=maintype, subtype=subtype,\n",
        "                       filename=filename)\n",
        "\n",
        "\n",
        "# Create a SSLContext object with default settings.\n",
        "context = ssl.create_default_context()\n",
        "\n",
        "with smtplib.SMTP(SERVER_ADDRESS, SERVER_PORT) as smtp:\n",
        "    smtp.ehlo()  # Say EHLO to server\n",
        "    smtp.starttls(context=context)  # Puts the connection in TLS mode.\n",
        "    smtp.ehlo()\n",
        "    smtp.login(EMAIL_ADDRESS, EMAIL_PASSWORD)\n",
        "    smtp.send_message(msg)  # Auto detects the sender and recipient from header"
      ],
      "execution_count": 9,
      "outputs": []
    },
    {
      "cell_type": "markdown",
      "metadata": {
        "id": "rIVqFzVLCkFH"
      },
      "source": [
        "# How to Send Markdown Templates Using Dmail"
      ]
    },
    {
      "cell_type": "code",
      "metadata": {
        "colab": {
          "base_uri": "https://localhost:8080/"
        },
        "id": "haLCxQ--Ceoj",
        "outputId": "b02994a1-6cae-4f05-a0ff-7f8b76e8f50f"
      },
      "source": [
        "!pip install Dmail"
      ],
      "execution_count": 10,
      "outputs": [
        {
          "output_type": "stream",
          "text": [
            "Collecting Dmail\n",
            "  Downloading https://files.pythonhosted.org/packages/b4/f0/f06087abe06d1dfa44b36105f4ec669dcb6f4522f3a0922f2402fd8cbd7e/Dmail-1.2.6-py3-none-any.whl\n",
            "Collecting html2text\n",
            "  Downloading https://files.pythonhosted.org/packages/ae/88/14655f727f66b3e3199f4467bafcc88283e6c31b562686bf606264e09181/html2text-2020.1.16-py3-none-any.whl\n",
            "Collecting premailer\n",
            "  Downloading https://files.pythonhosted.org/packages/cd/ce/74bbdf0eee4265fd3f161d4276b36c9238b802191c2053c8e68578bda4e6/premailer-3.7.0-py2.py3-none-any.whl\n",
            "Requirement already satisfied: markdown in /usr/local/lib/python3.6/dist-packages (from Dmail) (3.3.3)\n",
            "Collecting cssselect\n",
            "  Downloading https://files.pythonhosted.org/packages/3b/d4/3b5c17f00cce85b9a1e6f91096e1cc8e8ede2e1be8e96b87ce1ed09e92c5/cssselect-1.1.0-py2.py3-none-any.whl\n",
            "Requirement already satisfied: cachetools in /usr/local/lib/python3.6/dist-packages (from premailer->Dmail) (4.1.1)\n",
            "Requirement already satisfied: lxml in /usr/local/lib/python3.6/dist-packages (from premailer->Dmail) (4.2.6)\n",
            "Requirement already satisfied: requests in /usr/local/lib/python3.6/dist-packages (from premailer->Dmail) (2.23.0)\n",
            "Collecting cssutils\n",
            "\u001b[?25l  Downloading https://files.pythonhosted.org/packages/6b/15/a9fb9010f58d1c55dd0b7779db2334feb9a572d407024f39a60f44293861/cssutils-1.0.2-py3-none-any.whl (406kB)\n",
            "\u001b[K     |████████████████████████████████| 409kB 7.5MB/s \n",
            "\u001b[?25hRequirement already satisfied: importlib-metadata; python_version < \"3.8\" in /usr/local/lib/python3.6/dist-packages (from markdown->Dmail) (2.0.0)\n",
            "Requirement already satisfied: certifi>=2017.4.17 in /usr/local/lib/python3.6/dist-packages (from requests->premailer->Dmail) (2020.11.8)\n",
            "Requirement already satisfied: idna<3,>=2.5 in /usr/local/lib/python3.6/dist-packages (from requests->premailer->Dmail) (2.10)\n",
            "Requirement already satisfied: urllib3!=1.25.0,!=1.25.1,<1.26,>=1.21.1 in /usr/local/lib/python3.6/dist-packages (from requests->premailer->Dmail) (1.24.3)\n",
            "Requirement already satisfied: chardet<4,>=3.0.2 in /usr/local/lib/python3.6/dist-packages (from requests->premailer->Dmail) (3.0.4)\n",
            "Requirement already satisfied: zipp>=0.5 in /usr/local/lib/python3.6/dist-packages (from importlib-metadata; python_version < \"3.8\"->markdown->Dmail) (3.4.0)\n",
            "Installing collected packages: html2text, cssselect, cssutils, premailer, Dmail\n",
            "Successfully installed Dmail-1.2.6 cssselect-1.1.0 cssutils-1.0.2 html2text-2020.1.16 premailer-3.7.0\n"
          ],
          "name": "stdout"
        }
      ]
    },
    {
      "cell_type": "code",
      "metadata": {
        "id": "AGkj7Fs8ClUr"
      },
      "source": [
        "import traceback\n",
        "from Dmail.esp import Hotmail\n",
        "\n",
        "\n",
        "EMAIL_ADDRESS = 'YOUR_EMAIL_ADDRESS@EXAMPLE_DOMAIN.COM'\n",
        "EMAIL_PASSWORD = 'YOUR_PASSWORD'\n",
        "RECIPIENT_EMAIL = 'RECIPIENT_EMAIL@EXAMPLE_DOMAIN.COM'\n",
        "\n",
        "\n",
        "try:\n",
        "    raise Exception('Something went wrong')\n",
        "except Exception as e:\n",
        "    # Email Content\n",
        "    msg = '\\n'.join(['# Traceback',\n",
        "                     '```pytb',\n",
        "                     traceback.format_exc(),\n",
        "                     '```'])\n",
        "    # Sending the email\n",
        "    with Hotmail(EMAIL_ADDRESS, EMAIL_PASSWORD) as email:\n",
        "        email.send(msg, RECIPIENT_EMAIL, subject=f'Failed job: {e}')"
      ],
      "execution_count": 11,
      "outputs": []
    },
    {
      "cell_type": "code",
      "metadata": {
        "id": "ChaMJ_SkCyxJ"
      },
      "source": [
        "import pandas as pd\n",
        "from Dmail.esp import Hotmail\n",
        "\n",
        "\n",
        "# Adding personal information\n",
        "recipient_name = 'USER_NAME'\n",
        "sender_name = 'SENDER_NAME'\n",
        "email_address = 'YOUR_EMAIL_ADDRESS@EXAMPLE_DOMAIN.COM'\n",
        "password = 'YOUR_PASSWORD'\n",
        "recipient_email = 'RECIPIENT_EMAIL@EXAMPLE_DOMAIN.COM'\n",
        "\n",
        "\n",
        "# Email template creation\n",
        "template = \"\"\"\\\n",
        "Dear {recipient},\n",
        "This is just an email example containing:\n",
        "- The **banner image** as an inline image\n",
        "- The **SMTP addresses table**, with *centered cell values*, some *background colors* and *automatically adjusted \n",
        "height* \n",
        "- A csv **file attached**\n",
        "Here's the table:\n",
        "{smtp_table}\n",
        "You can also find below the article banner:\n",
        "![Article Banner Image]({image_path})\n",
        "Best regards,\n",
        "{sender}\n",
        "\"\"\"\n",
        "\n",
        "# Import the table from the csv file in a pandas dataframe\n",
        "table_path = \"docs/smtp.csv\"\n",
        "smtp_table = pd.read_csv(table_path, sep=\";\", index_col=None)\n",
        "\n",
        "# Get image path\n",
        "image_path = \"docs/banner.png\"\n",
        "\n",
        "\n",
        "# Function that highlights odd rows with specific color in a pandas dataframe\n",
        "def highlight_odd_rows(s):\n",
        "    return ['background-color: #CEF8BE' if s.name % 2 else '' for _ in s]\n",
        "\n",
        "\n",
        "# Styling the dataframe using pandas' .style\n",
        "smtp_table = (smtp_table.style\n",
        "              # .set_caption(\"SMTP addresses table\")      # Add caption to table\n",
        "              .set_properties(**{'text-align': 'center',  # Align cell values to center\n",
        "                                 'margin': 'auto'})  # Adjust cell sizes automatically\n",
        "              .set_table_styles([{'selector': 'th',\n",
        "                                  'props': [('background-color', '#6BE63E'),  # Add background color to header\n",
        "                                            ('margin', 'auto')]}])  # Adjust header cell sizes automatically\n",
        "              .apply(highlight_odd_rows, axis=1)  # Add background color to odd rows\n",
        "              .hide_index()  # Export the table without the index column\n",
        "              .render())\n",
        "\n",
        "\n",
        "# Creating the email body\n",
        "message = template.format(recipient=recipient_name, sender=sender_name, image_path=image_path, smtp_table=smtp_table)\n",
        "\n",
        "# Sending the email\n",
        "with Hotmail(email_address, password) as email:\n",
        "    email.send(message, recipient_email, attachments=[table_path],\n",
        "               subject=f\"Demonstration of mail sending using Dmail library\")"
      ],
      "execution_count": 12,
      "outputs": []
    }
  ]
}