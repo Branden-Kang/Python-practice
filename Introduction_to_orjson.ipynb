{
  "nbformat": 4,
  "nbformat_minor": 0,
  "metadata": {
    "colab": {
      "name": "Introduction to orjson.ipynb",
      "provenance": [],
      "authorship_tag": "ABX9TyM+iLsE6f5waXEBd0VLcsrx"
    },
    "kernelspec": {
      "name": "python3",
      "display_name": "Python 3"
    }
  },
  "cells": [
    {
      "cell_type": "markdown",
      "metadata": {
        "id": "FyB9HaaTKVzD"
      },
      "source": [
        "[Reference](https://levelup.gitconnected.com/introduction-to-orjson-3d06dde79208)"
      ]
    },
    {
      "cell_type": "code",
      "metadata": {
        "colab": {
          "base_uri": "https://localhost:8080/"
        },
        "id": "1Ayay-1YKOC7",
        "outputId": "839b1d46-c3f0-49fb-d7b2-a8021d8b2621"
      },
      "source": [
        "!pip install orjson"
      ],
      "execution_count": 1,
      "outputs": [
        {
          "output_type": "stream",
          "text": [
            "Collecting orjson\n",
            "\u001b[?25l  Downloading https://files.pythonhosted.org/packages/92/46/de838c1a3eec0852007749aa3e3a922df8b3e9a37d2d7c849e5dbc463977/orjson-3.4.4-cp36-cp36m-manylinux2014_x86_64.whl (232kB)\n",
            "\r\u001b[K     |█▍                              | 10kB 15.9MB/s eta 0:00:01\r\u001b[K     |██▉                             | 20kB 20.5MB/s eta 0:00:01\r\u001b[K     |████▎                           | 30kB 11.2MB/s eta 0:00:01\r\u001b[K     |█████▋                          | 40kB 8.4MB/s eta 0:00:01\r\u001b[K     |███████                         | 51kB 4.5MB/s eta 0:00:01\r\u001b[K     |████████▌                       | 61kB 3.9MB/s eta 0:00:01\r\u001b[K     |█████████▉                      | 71kB 4.4MB/s eta 0:00:01\r\u001b[K     |███████████▎                    | 81kB 5.0MB/s eta 0:00:01\r\u001b[K     |████████████▊                   | 92kB 5.2MB/s eta 0:00:01\r\u001b[K     |██████████████                  | 102kB 5.5MB/s eta 0:00:01\r\u001b[K     |███████████████▌                | 112kB 5.5MB/s eta 0:00:01\r\u001b[K     |█████████████████               | 122kB 5.5MB/s eta 0:00:01\r\u001b[K     |██████████████████▎             | 133kB 5.5MB/s eta 0:00:01\r\u001b[K     |███████████████████▊            | 143kB 5.5MB/s eta 0:00:01\r\u001b[K     |█████████████████████▏          | 153kB 5.5MB/s eta 0:00:01\r\u001b[K     |██████████████████████▌         | 163kB 5.5MB/s eta 0:00:01\r\u001b[K     |████████████████████████        | 174kB 5.5MB/s eta 0:00:01\r\u001b[K     |█████████████████████████▍      | 184kB 5.5MB/s eta 0:00:01\r\u001b[K     |██████████████████████████▊     | 194kB 5.5MB/s eta 0:00:01\r\u001b[K     |████████████████████████████▏   | 204kB 5.5MB/s eta 0:00:01\r\u001b[K     |█████████████████████████████▋  | 215kB 5.5MB/s eta 0:00:01\r\u001b[K     |███████████████████████████████ | 225kB 5.5MB/s eta 0:00:01\r\u001b[K     |████████████████████████████████| 235kB 5.5MB/s \n",
            "\u001b[?25hInstalling collected packages: orjson\n",
            "Successfully installed orjson-3.4.4\n"
          ],
          "name": "stdout"
        }
      ]
    },
    {
      "cell_type": "code",
      "metadata": {
        "id": "pzM4gZAjKYrt"
      },
      "source": [
        "import orjson"
      ],
      "execution_count": 2,
      "outputs": []
    },
    {
      "cell_type": "code",
      "metadata": {
        "colab": {
          "base_uri": "https://localhost:8080/"
        },
        "id": "Gkh4EhGYKZly",
        "outputId": "42a7de4c-17b3-4492-fb64-a8792635cd01"
      },
      "source": [
        "data = {\n",
        "\"emoji_tears\": \"😂\",\n",
        "\"emoji_clock\": \"⏰\",\n",
        "\"integer\": 123,\n",
        "\"float\": 10.4,\n",
        "\"boolean\": False,\n",
        "\"list\": [\"element1\", \"element2\"],\n",
        "\"dict\": {\"key1\": \"value1\", \"key2\": \"value2\"},\n",
        "\"russian\": \"Привет\",\n",
        "\"chinese\": \"您好\",\n",
        "\"japanese\": \"こんにちは\"\n",
        "}\n",
        "\n",
        "# serialize, returns byte instead of string\n",
        "json_byte = orjson.dumps(data)\n",
        "\n",
        "# de-serialize\n",
        "orjson.loads(json_byte)"
      ],
      "execution_count": 3,
      "outputs": [
        {
          "output_type": "execute_result",
          "data": {
            "text/plain": [
              "{'boolean': False,\n",
              " 'chinese': '您好',\n",
              " 'dict': {'key1': 'value1', 'key2': 'value2'},\n",
              " 'emoji_clock': '⏰',\n",
              " 'emoji_tears': '😂',\n",
              " 'float': 10.4,\n",
              " 'integer': 123,\n",
              " 'japanese': 'こんにちは',\n",
              " 'list': ['element1', 'element2'],\n",
              " 'russian': 'Привет'}"
            ]
          },
          "metadata": {
            "tags": []
          },
          "execution_count": 3
        }
      ]
    },
    {
      "cell_type": "code",
      "metadata": {
        "colab": {
          "base_uri": "https://localhost:8080/",
          "height": 232
        },
        "id": "8Gna7Kj-Kd-0",
        "outputId": "602ae1fb-c659-4bef-c260-6ef97fd7bfa8"
      },
      "source": [
        "import decimal\n",
        "\n",
        "orjson.dumps(decimal.Decimal(\"3.141592653\"))"
      ],
      "execution_count": 4,
      "outputs": [
        {
          "output_type": "error",
          "ename": "TypeError",
          "evalue": "ignored",
          "traceback": [
            "\u001b[0;31m---------------------------------------------------------------------------\u001b[0m",
            "\u001b[0;31mTypeError\u001b[0m                                 Traceback (most recent call last)",
            "\u001b[0;32m<ipython-input-4-d87d95f810a3>\u001b[0m in \u001b[0;36m<module>\u001b[0;34m()\u001b[0m\n\u001b[1;32m      1\u001b[0m \u001b[0;32mimport\u001b[0m \u001b[0mdecimal\u001b[0m\u001b[0;34m\u001b[0m\u001b[0;34m\u001b[0m\u001b[0m\n\u001b[1;32m      2\u001b[0m \u001b[0;34m\u001b[0m\u001b[0m\n\u001b[0;32m----> 3\u001b[0;31m \u001b[0morjson\u001b[0m\u001b[0;34m.\u001b[0m\u001b[0mdumps\u001b[0m\u001b[0;34m(\u001b[0m\u001b[0mdecimal\u001b[0m\u001b[0;34m.\u001b[0m\u001b[0mDecimal\u001b[0m\u001b[0;34m(\u001b[0m\u001b[0;34m\"3.141592653\"\u001b[0m\u001b[0;34m)\u001b[0m\u001b[0;34m)\u001b[0m\u001b[0;34m\u001b[0m\u001b[0;34m\u001b[0m\u001b[0m\n\u001b[0m",
            "\u001b[0;31mTypeError\u001b[0m: Type is not JSON serializable: decimal.Decimal"
          ]
        }
      ]
    },
    {
      "cell_type": "code",
      "metadata": {
        "colab": {
          "base_uri": "https://localhost:8080/"
        },
        "id": "N8buP4ZCKhRq",
        "outputId": "7478171b-ffbf-4ab8-e97c-9f9753c5efde"
      },
      "source": [
        "import decimal\n",
        "\n",
        "def default(obj):\n",
        "    if isinstance(obj, decimal.Decimal):\n",
        "        return str(obj)\n",
        "    raise TypeError\n",
        "    \n",
        "orjson.dumps(decimal.Decimal(\"3.141592653\"), default=default)"
      ],
      "execution_count": 6,
      "outputs": [
        {
          "output_type": "execute_result",
          "data": {
            "text/plain": [
              "b'\"3.141592653\"'"
            ]
          },
          "metadata": {
            "tags": []
          },
          "execution_count": 6
        }
      ]
    },
    {
      "cell_type": "markdown",
      "metadata": {
        "id": "tVCsYtsSK0f4"
      },
      "source": [
        "# Option"
      ]
    },
    {
      "cell_type": "code",
      "metadata": {
        "colab": {
          "base_uri": "https://localhost:8080/"
        },
        "id": "uVsPbGsWKl0M",
        "outputId": "44b3f499-325b-4b11-bee9-3bd2353f4632"
      },
      "source": [
        "import orjson\n",
        "import datetime\n",
        "import numpy as np\n",
        "\n",
        "data = {\n",
        "\"datetime\": datetime.datetime.now(),\n",
        "\"numpy\": np.array([[1, 2], [3, 4]])\n",
        "}\n",
        "\n",
        "json_byte = orjson.dumps(data, option=orjson.OPT_NAIVE_UTC | orjson.OPT_SERIALIZE_NUMPY)\n",
        "\n",
        "orjson.loads(json_byte)"
      ],
      "execution_count": 7,
      "outputs": [
        {
          "output_type": "execute_result",
          "data": {
            "text/plain": [
              "{'datetime': '2020-12-01T11:58:26.228937+00:00', 'numpy': [[1, 2], [3, 4]]}"
            ]
          },
          "metadata": {
            "tags": []
          },
          "execution_count": 7
        }
      ]
    },
    {
      "cell_type": "markdown",
      "metadata": {
        "id": "HztoZDPVKzqo"
      },
      "source": [
        "# Dataclass"
      ]
    },
    {
      "cell_type": "code",
      "metadata": {
        "colab": {
          "base_uri": "https://localhost:8080/"
        },
        "id": "lWm1gik5KwAt",
        "outputId": "3508e252-d69e-4bfe-dbaf-52ce53049814"
      },
      "source": [
        "import dataclasses, orjson, typing\n",
        "\n",
        "@dataclasses.dataclass\n",
        "class Person:\n",
        "    id: int\n",
        "    name: str\n",
        "    status: bool = dataclasses.field(default=True)\n",
        "\n",
        "@dataclasses.dataclass\n",
        "class Class:\n",
        "    id: int\n",
        "    name: str\n",
        "    students: typing.List[Person]\n",
        "    \n",
        "data = Class(1, \"Class A\", [Person(1, \"John Doe\", False), Person(2, \"Mary Sue\")])\n",
        "\n",
        "json_byte = orjson.dumps(data)\n",
        "\n",
        "orjson.loads(json_byte)"
      ],
      "execution_count": 8,
      "outputs": [
        {
          "output_type": "execute_result",
          "data": {
            "text/plain": [
              "{'id': 1,\n",
              " 'name': 'Class A',\n",
              " 'students': [{'id': 1, 'name': 'John Doe', 'status': False},\n",
              "  {'id': 2, 'name': 'Mary Sue', 'status': True}]}"
            ]
          },
          "metadata": {
            "tags": []
          },
          "execution_count": 8
        }
      ]
    },
    {
      "cell_type": "code",
      "metadata": {
        "id": "Yr0irwtuK9ux"
      },
      "source": [
        "with open(\"example.json\", \"wb\") as f:\n",
        "    f.write(orjson.dumps(data))"
      ],
      "execution_count": 9,
      "outputs": []
    },
    {
      "cell_type": "code",
      "metadata": {
        "id": "kbpPhe07LJ_Z"
      },
      "source": [
        "with open(\"example.json\", \"rb\") as f:\n",
        "    json_data = orjson.loads(f.read())"
      ],
      "execution_count": 10,
      "outputs": []
    }
  ]
}