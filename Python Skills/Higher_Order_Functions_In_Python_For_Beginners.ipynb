{
  "nbformat": 4,
  "nbformat_minor": 0,
  "metadata": {
    "colab": {
      "provenance": [],
      "authorship_tag": "ABX9TyOVUvJ8fdGLJoFI0OSQ5Mw1"
    },
    "kernelspec": {
      "name": "python3",
      "display_name": "Python 3"
    },
    "language_info": {
      "name": "python"
    }
  },
  "cells": [
    {
      "cell_type": "markdown",
      "source": [
        "[Reference](https://python.plainenglish.io/higher-order-functions-in-python-for-beginners-8155e67ea013)"
      ],
      "metadata": {
        "id": "yLJu4Yj6Wk8o"
      }
    },
    {
      "cell_type": "code",
      "execution_count": 1,
      "metadata": {
        "id": "X_kzL4sDWihv"
      },
      "outputs": [],
      "source": [
        "# function that prints 'apple', 'orange' then 'pear'\n",
        "\n",
        "def print_fruits():\n",
        "  print('apple')\n",
        "  print('orange')\n",
        "  print('pear')"
      ]
    },
    {
      "cell_type": "code",
      "source": [
        "# function that takes in a number, and outputs the SQUARE of the number\n",
        "\n",
        "def square(n):\n",
        "  return n*n"
      ],
      "metadata": {
        "id": "y7VL8juQWnFz"
      },
      "execution_count": 2,
      "outputs": []
    },
    {
      "cell_type": "code",
      "source": [
        "# function that takes in 2 numbers, and returns their sum of squares\n",
        "\n",
        "def sum_squares(a, b):\n",
        "  return a*a + b*b"
      ],
      "metadata": {
        "id": "ncfbZp01WoAj"
      },
      "execution_count": 3,
      "outputs": []
    },
    {
      "cell_type": "markdown",
      "source": [
        "# 1) The list.sort() method"
      ],
      "metadata": {
        "id": "abZosNPAWsFR"
      }
    },
    {
      "cell_type": "code",
      "source": [
        "lis = ['apple', 'orange', 'pear']\n",
        "\n",
        "def condition(element):\n",
        "  return len(element)\n",
        "\n",
        "lis.sort(key=condition)\n",
        "lis"
      ],
      "metadata": {
        "colab": {
          "base_uri": "https://localhost:8080/"
        },
        "id": "HVqdZe6LWo2H",
        "outputId": "3186f962-4bf8-448f-c1f5-b565d301953c"
      },
      "execution_count": 7,
      "outputs": [
        {
          "output_type": "execute_result",
          "data": {
            "text/plain": [
              "['pear', 'apple', 'orange']"
            ]
          },
          "metadata": {},
          "execution_count": 7
        }
      ]
    },
    {
      "cell_type": "markdown",
      "source": [
        "# 2) The max() and min() methods"
      ],
      "metadata": {
        "id": "ceAbSFnsWtB9"
      }
    },
    {
      "cell_type": "code",
      "source": [
        "lis = ['apple', 'orange', 'pear']\n",
        "\n",
        "def condition(element):\n",
        "    return element.count('p')\n",
        "\n",
        "mostp = max(lis, key=condition)\n",
        "mostp "
      ],
      "metadata": {
        "colab": {
          "base_uri": "https://localhost:8080/",
          "height": 35
        },
        "id": "5JCPvdwoWqFn",
        "outputId": "e6da911c-187d-4c51-a3cb-9c9a3cacb268"
      },
      "execution_count": 6,
      "outputs": [
        {
          "output_type": "execute_result",
          "data": {
            "text/plain": [
              "'apple'"
            ],
            "application/vnd.google.colaboratory.intrinsic+json": {
              "type": "string"
            }
          },
          "metadata": {},
          "execution_count": 6
        }
      ]
    },
    {
      "cell_type": "markdown",
      "source": [
        "# 3) The map() method"
      ],
      "metadata": {
        "id": "nXqGkGYLWvpG"
      }
    },
    {
      "cell_type": "code",
      "source": [
        "lis = [1,2,3,4,5]\n",
        "\n",
        "def transform(number):\n",
        "  return number**2\n",
        "\n",
        "new = list(map(transform, lis))\n",
        "new"
      ],
      "metadata": {
        "colab": {
          "base_uri": "https://localhost:8080/"
        },
        "id": "e-b_SEzFWuqb",
        "outputId": "01b6c922-58eb-462d-9402-ec3fd5390c6d"
      },
      "execution_count": 8,
      "outputs": [
        {
          "output_type": "execute_result",
          "data": {
            "text/plain": [
              "[1, 4, 9, 16, 25]"
            ]
          },
          "metadata": {},
          "execution_count": 8
        }
      ]
    },
    {
      "cell_type": "markdown",
      "source": [
        "# 4) The filter method"
      ],
      "metadata": {
        "id": "yQDxrO29W1Sa"
      }
    },
    {
      "cell_type": "code",
      "source": [
        "lis = [1,2,3,4,5]\n",
        "\n",
        "def isodd(number):\n",
        "  return number % 2 == 1\n",
        "\n",
        "new = list(filter(isodd, lis))"
      ],
      "metadata": {
        "id": "dkhLh-U9W0Ph"
      },
      "execution_count": 9,
      "outputs": []
    },
    {
      "cell_type": "markdown",
      "source": [
        "# Decorators"
      ],
      "metadata": {
        "id": "C6oOVAZbW3m_"
      }
    },
    {
      "cell_type": "code",
      "source": [
        "class Dog:\n",
        "  def __init__(self, name):\n",
        "    self.__name = name\n",
        "\n",
        "  @property\n",
        "  def name(self):\n",
        "    return self.__name"
      ],
      "metadata": {
        "id": "Yx-JwBJHW2gW"
      },
      "execution_count": 10,
      "outputs": []
    },
    {
      "cell_type": "code",
      "source": [
        "def add_exclamation_mark(function):\n",
        "  def inner(*args):\n",
        "    return function(*args) + '!'\n",
        "  return inner\n",
        "\n",
        "@add_exclamation_mark\n",
        "def greeting(name):\n",
        "  return \"hello \" + name\n",
        "\n",
        "print(greeting('bob'))"
      ],
      "metadata": {
        "colab": {
          "base_uri": "https://localhost:8080/"
        },
        "id": "cnPpfP_uW5Ie",
        "outputId": "27a71e2d-318d-4126-b6a6-a892dac35655"
      },
      "execution_count": 11,
      "outputs": [
        {
          "output_type": "stream",
          "name": "stdout",
          "text": [
            "hello bob!\n"
          ]
        }
      ]
    },
    {
      "cell_type": "code",
      "source": [
        "greeting = add_exclamation_mark(greeting)\n",
        "greeting "
      ],
      "metadata": {
        "colab": {
          "base_uri": "https://localhost:8080/"
        },
        "id": "4bO_zdd-W6W7",
        "outputId": "ae90f9b7-98ef-4f5e-bc52-94b5fbb9d143"
      },
      "execution_count": 13,
      "outputs": [
        {
          "output_type": "execute_result",
          "data": {
            "text/plain": [
              "<function __main__.add_exclamation_mark.<locals>.inner(*args)>"
            ]
          },
          "metadata": {},
          "execution_count": 13
        }
      ]
    },
    {
      "cell_type": "code",
      "source": [
        "# @app.get('/')\n",
        "# def test():\n",
        "#     # stuff"
      ],
      "metadata": {
        "id": "T-BPG59gW7wK"
      },
      "execution_count": 16,
      "outputs": []
    },
    {
      "cell_type": "code",
      "source": [
        "def add(symbol):\n",
        "  def inner1(function):\n",
        "    def inner2(*args):\n",
        "      return function(*args) + symbol\n",
        "    return inner2\n",
        "  return inner1\n",
        "\n",
        "@add('!')\n",
        "def greeting(name):\n",
        "  return 'hello ' + name"
      ],
      "metadata": {
        "id": "wlSRtD9_W9jl"
      },
      "execution_count": 17,
      "outputs": []
    },
    {
      "cell_type": "code",
      "source": [
        "print(greeting('tim'))"
      ],
      "metadata": {
        "colab": {
          "base_uri": "https://localhost:8080/"
        },
        "id": "QN4tR808XCGS",
        "outputId": "3fbb9f4a-34eb-4920-fce6-26705f14d5be"
      },
      "execution_count": 18,
      "outputs": [
        {
          "output_type": "stream",
          "name": "stdout",
          "text": [
            "hello tim!\n"
          ]
        }
      ]
    },
    {
      "cell_type": "code",
      "source": [
        "@add('!')\n",
        "@add('@')\n",
        "@add('#')\n",
        "@add('$')\n",
        "def greeting(name):\n",
        "  return 'hello ' + name\n",
        "\n",
        "print(greeting('tim'))"
      ],
      "metadata": {
        "colab": {
          "base_uri": "https://localhost:8080/"
        },
        "id": "VOjxQiLGXC2z",
        "outputId": "f416262d-e788-4368-9154-d7408e05a786"
      },
      "execution_count": 19,
      "outputs": [
        {
          "output_type": "stream",
          "name": "stdout",
          "text": [
            "hello tim$#@!\n"
          ]
        }
      ]
    }
  ]
}
