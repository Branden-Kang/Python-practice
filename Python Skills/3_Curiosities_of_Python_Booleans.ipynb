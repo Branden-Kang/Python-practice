{
  "nbformat": 4,
  "nbformat_minor": 0,
  "metadata": {
    "colab": {
      "name": "3 Curiosities of Python Booleans.ipynb",
      "provenance": [],
      "authorship_tag": "ABX9TyP7w2nuwFR5CeHUyKIGpuos"
    },
    "kernelspec": {
      "name": "python3",
      "display_name": "Python 3"
    },
    "language_info": {
      "name": "python"
    }
  },
  "cells": [
    {
      "cell_type": "markdown",
      "metadata": {
        "id": "g3bvjrGCkXrS"
      },
      "source": [
        "[Reference](https://peterbbryan.medium.com/3-curiosities-of-python-booleans-c45379827c6c)"
      ]
    },
    {
      "cell_type": "markdown",
      "metadata": {
        "id": "yH5_YK5Kkm_B"
      },
      "source": [
        "# 1. ‘True is False is False’…. is ‘False’"
      ]
    },
    {
      "cell_type": "code",
      "metadata": {
        "colab": {
          "base_uri": "https://localhost:8080/"
        },
        "id": "35kQfultjbQI",
        "outputId": "3c73c5f6-0f12-447e-8e66-e9e093f35166"
      },
      "source": [
        "True is True is True"
      ],
      "execution_count": 2,
      "outputs": [
        {
          "output_type": "execute_result",
          "data": {
            "text/plain": [
              "True"
            ]
          },
          "metadata": {
            "tags": []
          },
          "execution_count": 2
        }
      ]
    },
    {
      "cell_type": "code",
      "metadata": {
        "colab": {
          "base_uri": "https://localhost:8080/"
        },
        "id": "ZkfW81Ykkcqi",
        "outputId": "0dd081bd-f00a-4081-dc57-3f791e005e24"
      },
      "source": [
        "True is False is False"
      ],
      "execution_count": 3,
      "outputs": [
        {
          "output_type": "execute_result",
          "data": {
            "text/plain": [
              "False"
            ]
          },
          "metadata": {
            "tags": []
          },
          "execution_count": 3
        }
      ]
    },
    {
      "cell_type": "code",
      "metadata": {
        "colab": {
          "base_uri": "https://localhost:8080/"
        },
        "id": "-RYUa1I3kfMv",
        "outputId": "de09b9ab-c032-43ee-c167-e48554ad8330"
      },
      "source": [
        "False is False is False "
      ],
      "execution_count": 4,
      "outputs": [
        {
          "output_type": "execute_result",
          "data": {
            "text/plain": [
              "True"
            ]
          },
          "metadata": {
            "tags": []
          },
          "execution_count": 4
        }
      ]
    },
    {
      "cell_type": "code",
      "metadata": {
        "colab": {
          "base_uri": "https://localhost:8080/"
        },
        "id": "luuht86jkfzU",
        "outputId": "e91bd600-9440-47b8-8d5c-58e2e2caae04"
      },
      "source": [
        "(True is False) is False"
      ],
      "execution_count": 5,
      "outputs": [
        {
          "output_type": "execute_result",
          "data": {
            "text/plain": [
              "True"
            ]
          },
          "metadata": {
            "tags": []
          },
          "execution_count": 5
        }
      ]
    },
    {
      "cell_type": "markdown",
      "metadata": {
        "id": "aHtDtaf1kobw"
      },
      "source": [
        "# 2. ‘“Cat” and True is True’… but ‘True and “Cat”’ is “Cat”’"
      ]
    },
    {
      "cell_type": "code",
      "metadata": {
        "id": "HhMVoZDGkhou"
      },
      "source": [
        "from typing import Optional\n",
        "\n",
        "def argument_check(optional_str: Optional[str] = None) -> None:\n",
        "    \"\"\"\n",
        "    Function with an optional argument.\n",
        "    \n",
        "    :param optional_str: Optional string to print.\n",
        "    \"\"\"\n",
        "    \n",
        "    if optional_str:\n",
        "        print(f\"Argument: {optional_str}\")\n",
        "    else:\n",
        "        print(\"No argument provided\")"
      ],
      "execution_count": 6,
      "outputs": []
    },
    {
      "cell_type": "code",
      "metadata": {
        "colab": {
          "base_uri": "https://localhost:8080/"
        },
        "id": "qjcjRYvlkqgw",
        "outputId": "59d649b5-5370-481e-f782-2eb1681a4195"
      },
      "source": [
        "argument_check(\"test\")"
      ],
      "execution_count": 7,
      "outputs": [
        {
          "output_type": "stream",
          "text": [
            "Argument: test\n"
          ],
          "name": "stdout"
        }
      ]
    },
    {
      "cell_type": "code",
      "metadata": {
        "colab": {
          "base_uri": "https://localhost:8080/"
        },
        "id": "LxeDvqBrkrsN",
        "outputId": "12063d81-394d-4016-b18d-f29344a10138"
      },
      "source": [
        "argument_check()"
      ],
      "execution_count": 8,
      "outputs": [
        {
          "output_type": "stream",
          "text": [
            "No argument provided\n"
          ],
          "name": "stdout"
        }
      ]
    },
    {
      "cell_type": "code",
      "metadata": {
        "colab": {
          "base_uri": "https://localhost:8080/"
        },
        "id": "fnprOhF3ktP1",
        "outputId": "32776cd1-1ea5-4e77-8fbf-6033138e4d38"
      },
      "source": [
        "\"Cat\" and True"
      ],
      "execution_count": 9,
      "outputs": [
        {
          "output_type": "execute_result",
          "data": {
            "text/plain": [
              "True"
            ]
          },
          "metadata": {
            "tags": []
          },
          "execution_count": 9
        }
      ]
    },
    {
      "cell_type": "code",
      "metadata": {
        "colab": {
          "base_uri": "https://localhost:8080/",
          "height": 37
        },
        "id": "mDA2Ax7Dk3u7",
        "outputId": "180f3248-2acc-46ce-b835-2fb3a72b3409"
      },
      "source": [
        "True and \"Cat\""
      ],
      "execution_count": 10,
      "outputs": [
        {
          "output_type": "execute_result",
          "data": {
            "application/vnd.google.colaboratory.intrinsic+json": {
              "type": "string"
            },
            "text/plain": [
              "'Cat'"
            ]
          },
          "metadata": {
            "tags": []
          },
          "execution_count": 10
        }
      ]
    },
    {
      "cell_type": "code",
      "metadata": {
        "colab": {
          "base_uri": "https://localhost:8080/",
          "height": 37
        },
        "id": "RtIcKYG3k6eL",
        "outputId": "e67a1325-e3df-4517-c7aa-75dd3b1eaac9"
      },
      "source": [
        "\"Cat\" or False"
      ],
      "execution_count": 11,
      "outputs": [
        {
          "output_type": "execute_result",
          "data": {
            "application/vnd.google.colaboratory.intrinsic+json": {
              "type": "string"
            },
            "text/plain": [
              "'Cat'"
            ]
          },
          "metadata": {
            "tags": []
          },
          "execution_count": 11
        }
      ]
    },
    {
      "cell_type": "code",
      "metadata": {
        "colab": {
          "base_uri": "https://localhost:8080/",
          "height": 37
        },
        "id": "vuxNVA7Fk6zo",
        "outputId": "0e514e53-c5df-4711-ac4d-0bcb83051946"
      },
      "source": [
        "from typing import Optional\n",
        "\n",
        "\n",
        "def boolean_compound_check_antipattern(\n",
        "    thresholded_variable: int, optional_label: Optional[str] = None\n",
        ") -> None:\n",
        "    \"\"\"\n",
        "    A demonstration of counter-intuitive compound boolean returns.\n",
        "    And another great reason not to explicitly test booleans!\n",
        "    :param optional_label: Optional label that never gets printed!\n",
        "    :param thresholded_variable: Integer being thresholded.\n",
        "    :return: 'Always me!'\n",
        "    \"\"\"\n",
        "\n",
        "    # It looks like it might return...\n",
        "    # but (thresholded_variable > 5 and string_label) is either\n",
        "    #     'False'                  | if thresholded_variable is <= 5 \n",
        "    #                                or string label is None\n",
        "    #      or the optional_label   | if a string is provided and \n",
        "    #                                the thresholded_variable is above 5\n",
        "    # It is never True!\n",
        "    if (thresholded_variable > 5 and optional_label) is True:\n",
        "        return f\"This will never be returned! {optional_label}\"\n",
        "\n",
        "    # so the return is always this!\n",
        "    else:\n",
        "        return \"Always me!\"\n",
        "\n",
        "\n",
        "boolean_compound_check_antipattern(4)"
      ],
      "execution_count": 12,
      "outputs": [
        {
          "output_type": "execute_result",
          "data": {
            "application/vnd.google.colaboratory.intrinsic+json": {
              "type": "string"
            },
            "text/plain": [
              "'Always me!'"
            ]
          },
          "metadata": {
            "tags": []
          },
          "execution_count": 12
        }
      ]
    },
    {
      "cell_type": "code",
      "metadata": {
        "colab": {
          "base_uri": "https://localhost:8080/",
          "height": 37
        },
        "id": "G1eJFyAKlDM6",
        "outputId": "5dfd7bbe-4c8b-481c-c4c8-67531a3c9e19"
      },
      "source": [
        "boolean_compound_check_antipattern(6)"
      ],
      "execution_count": 13,
      "outputs": [
        {
          "output_type": "execute_result",
          "data": {
            "application/vnd.google.colaboratory.intrinsic+json": {
              "type": "string"
            },
            "text/plain": [
              "'Always me!'"
            ]
          },
          "metadata": {
            "tags": []
          },
          "execution_count": 13
        }
      ]
    },
    {
      "cell_type": "code",
      "metadata": {
        "colab": {
          "base_uri": "https://localhost:8080/",
          "height": 37
        },
        "id": "J8LR_qwalGMm",
        "outputId": "b32a7085-8866-49ca-e193-a6f4ffa939a8"
      },
      "source": [
        "boolean_compound_check_antipattern(4, \"test\")"
      ],
      "execution_count": 14,
      "outputs": [
        {
          "output_type": "execute_result",
          "data": {
            "application/vnd.google.colaboratory.intrinsic+json": {
              "type": "string"
            },
            "text/plain": [
              "'Always me!'"
            ]
          },
          "metadata": {
            "tags": []
          },
          "execution_count": 14
        }
      ]
    },
    {
      "cell_type": "code",
      "metadata": {
        "colab": {
          "base_uri": "https://localhost:8080/",
          "height": 37
        },
        "id": "6VvQlW6HlKPE",
        "outputId": "312397d8-0541-4970-9a99-b88d7dc6956a"
      },
      "source": [
        "boolean_compound_check_antipattern(6, \"test\")"
      ],
      "execution_count": 15,
      "outputs": [
        {
          "output_type": "execute_result",
          "data": {
            "application/vnd.google.colaboratory.intrinsic+json": {
              "type": "string"
            },
            "text/plain": [
              "'Always me!'"
            ]
          },
          "metadata": {
            "tags": []
          },
          "execution_count": 15
        }
      ]
    },
    {
      "cell_type": "markdown",
      "metadata": {
        "id": "d9VPVcGflQbE"
      },
      "source": [
        "# 3. ‘{True: “a”, 1: “b”, 1.0: “c”}’… is ‘{True: “c”}’"
      ]
    },
    {
      "cell_type": "code",
      "metadata": {
        "colab": {
          "base_uri": "https://localhost:8080/"
        },
        "id": "Wn2aIwh7lLvQ",
        "outputId": "ad2ae135-b192-4bcf-faa0-d25772126fe8"
      },
      "source": [
        "{True: 'a', 1: 'b', 1.0: 'c'}"
      ],
      "execution_count": 16,
      "outputs": [
        {
          "output_type": "execute_result",
          "data": {
            "text/plain": [
              "{True: 'c'}"
            ]
          },
          "metadata": {
            "tags": []
          },
          "execution_count": 16
        }
      ]
    },
    {
      "cell_type": "code",
      "metadata": {
        "id": "YXflPlAZlVRz"
      },
      "source": [
        "riddle = {}\n",
        "riddle[True] = \"a\""
      ],
      "execution_count": 17,
      "outputs": []
    },
    {
      "cell_type": "code",
      "metadata": {
        "id": "AD8otqX3lWze"
      },
      "source": [
        "riddle[1] = \"b\""
      ],
      "execution_count": 18,
      "outputs": []
    },
    {
      "cell_type": "code",
      "metadata": {
        "id": "4JuR5VfSlZ3h"
      },
      "source": [
        "riddle[1.0] = \"c\""
      ],
      "execution_count": 19,
      "outputs": []
    },
    {
      "cell_type": "code",
      "metadata": {
        "id": "I33O66HBlbUu",
        "outputId": "7b49148a-2735-4d8a-bb1a-4ac6edd031c0",
        "colab": {
          "base_uri": "https://localhost:8080/"
        }
      },
      "source": [
        "True == 1 == 1.0"
      ],
      "execution_count": 20,
      "outputs": [
        {
          "output_type": "execute_result",
          "data": {
            "text/plain": [
              "True"
            ]
          },
          "metadata": {
            "tags": []
          },
          "execution_count": 20
        }
      ]
    }
  ]
}