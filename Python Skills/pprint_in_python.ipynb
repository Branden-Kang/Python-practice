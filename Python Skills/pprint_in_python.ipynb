{
  "nbformat": 4,
  "nbformat_minor": 0,
  "metadata": {
    "colab": {
      "name": "pprint in python.ipynb",
      "provenance": [],
      "authorship_tag": "ABX9TyO2b4mfYK9LiZtCbloHkOse"
    },
    "kernelspec": {
      "name": "python3",
      "display_name": "Python 3"
    }
  },
  "cells": [
    {
      "cell_type": "markdown",
      "metadata": {
        "id": "VG8zaDziVv42"
      },
      "source": [
        "[Reference](https://medium.com/dev-genius/lets-talk-about-prettyprint-or-pprint-in-python-ddda1fa4cf0b)"
      ]
    },
    {
      "cell_type": "code",
      "metadata": {
        "id": "O9qL5y5TVujB",
        "outputId": "d952c22e-1274-4c4b-822b-380ed9e4a552",
        "colab": {
          "base_uri": "https://localhost:8080/",
          "height": 34
        }
      },
      "source": [
        "import pprint\n",
        "pprint.pprint(['Radha', 1, 'Hari', 'Simesh', 25, 847])"
      ],
      "execution_count": 1,
      "outputs": [
        {
          "output_type": "stream",
          "text": [
            "['Radha', 1, 'Hari', 'Simesh', 25, 847]\n"
          ],
          "name": "stdout"
        }
      ]
    },
    {
      "cell_type": "code",
      "metadata": {
        "id": "d66MiL-xV9vk",
        "outputId": "81fb073b-4de5-4e82-8e75-e76e954ca718",
        "colab": {
          "base_uri": "https://localhost:8080/",
          "height": 34
        }
      },
      "source": [
        "my_pprint = pprint.PrettyPrinter()\n",
        "my_pprint.pprint(['Radha', 1, 'Hari', 'Simesh', 25, 847])"
      ],
      "execution_count": 2,
      "outputs": [
        {
          "output_type": "stream",
          "text": [
            "['Radha', 1, 'Hari', 'Simesh', 25, 847]\n"
          ],
          "name": "stdout"
        }
      ]
    },
    {
      "cell_type": "code",
      "metadata": {
        "id": "IqplzMEEWD6b",
        "outputId": "1084d998-5450-46e7-9e39-ac6167505176",
        "colab": {
          "base_uri": "https://localhost:8080/",
          "height": 139
        }
      },
      "source": [
        "tuple1 = ('spam', ('eggs', ('lumberjack', ('knights', ('ni', ('dead',('parrot', ('fresh fruit',))))))))\n",
        "\n",
        "# Using PrettyPrinter\n",
        "pp = pprint.PrettyPrinter(depth=6) # default configuration of depth # being none is changed to depth = 6\n",
        "# Now it will print till depth of six brackets\n",
        "pp.pprint(tuple1)\n",
        "\n",
        "#Using only pprint() object\n",
        "pprint.pprint(pprint.pprint(tuple1, depth=6))\n",
        "pprint.pprint(tuple1)"
      ],
      "execution_count": 3,
      "outputs": [
        {
          "output_type": "stream",
          "text": [
            "('spam', ('eggs', ('lumberjack', ('knights', ('ni', ('dead', (...)))))))\n",
            "('spam', ('eggs', ('lumberjack', ('knights', ('ni', ('dead', (...)))))))\n",
            "None\n",
            "('spam',\n",
            " ('eggs',\n",
            "  ('lumberjack', ('knights', ('ni', ('dead', ('parrot', ('fresh fruit',))))))))\n"
          ],
          "name": "stdout"
        }
      ]
    },
    {
      "cell_type": "code",
      "metadata": {
        "id": "G6AjzLqdWsV-",
        "outputId": "b8b2b715-edcc-4460-8bf9-fccb9e7bbd2f",
        "colab": {
          "base_uri": "https://localhost:8080/",
          "height": 68
        }
      },
      "source": [
        "from pprint import pprint # We can directly call the method \n",
        "# pprint() using it\n",
        "coordinates = [\n",
        " {\n",
        " 'name': 'Location 1',\n",
        " 'gps': (29.008966, 111.573724)\n",
        " },\n",
        " {\n",
        " 'name': 'Location 2',\n",
        " 'gps': (40.1632626, 44.2935926)\n",
        " },\n",
        " {\n",
        " 'name': 'Location 3',\n",
        " 'gps': (29.476705, 121.869339)\n",
        " }\n",
        "]\n",
        "pprint(coordinates)"
      ],
      "execution_count": 5,
      "outputs": [
        {
          "output_type": "stream",
          "text": [
            "[{'gps': (29.008966, 111.573724), 'name': 'Location 1'},\n",
            " {'gps': (40.1632626, 44.2935926), 'name': 'Location 2'},\n",
            " {'gps': (29.476705, 121.869339), 'name': 'Location 3'}]\n"
          ],
          "name": "stdout"
        }
      ]
    }
  ]
}