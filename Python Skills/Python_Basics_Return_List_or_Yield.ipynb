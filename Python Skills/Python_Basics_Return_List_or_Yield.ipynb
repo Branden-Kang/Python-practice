{
  "nbformat": 4,
  "nbformat_minor": 0,
  "metadata": {
    "colab": {
      "provenance": [],
      "authorship_tag": "ABX9TyMVSY624pl1eevf9yX+wNTD"
    },
    "kernelspec": {
      "name": "python3",
      "display_name": "Python 3"
    },
    "language_info": {
      "name": "python"
    }
  },
  "cells": [
    {
      "cell_type": "markdown",
      "source": [
        "[Reference](https://medium.com/@antongw1p/python-basics-return-list-or-yield-c99d0abdb787)"
      ],
      "metadata": {
        "id": "HVsaBqPR0C0L"
      }
    },
    {
      "cell_type": "code",
      "execution_count": 1,
      "metadata": {
        "colab": {
          "base_uri": "https://localhost:8080/"
        },
        "id": "IPg2KHHVzeLu",
        "outputId": "6348f00f-7d0b-4245-c4df-6c07bdbe8746"
      },
      "outputs": [
        {
          "output_type": "stream",
          "name": "stdout",
          "text": [
            "[1, 2, 3, 4, 5]\n"
          ]
        }
      ],
      "source": [
        "# Example of a function returning a list\n",
        "def return_list(limit):\n",
        "    result = []\n",
        "    for i in range(1, limit + 1):\n",
        "        result.append(i)\n",
        "    return result\n",
        "\n",
        "# Generating a list of values\n",
        "my_list = return_list(5)\n",
        "print(my_list)"
      ]
    },
    {
      "cell_type": "code",
      "source": [
        "\n",
        "# Example of a function returning a generator\n",
        "def yield_values(limit):\n",
        "    count = 1\n",
        "    while count <= limit:\n",
        "        yield count\n",
        "        count += 1\n",
        "\n",
        "# Generating values on demand\n",
        "my_gen = yield_values(5)\n",
        "for num in my_gen:\n",
        "    print(num)"
      ],
      "metadata": {
        "colab": {
          "base_uri": "https://localhost:8080/"
        },
        "id": "ARPh1LVb0FMh",
        "outputId": "17cae0a5-d3ba-4351-944b-23242db6775a"
      },
      "execution_count": 2,
      "outputs": [
        {
          "output_type": "stream",
          "name": "stdout",
          "text": [
            "1\n",
            "2\n",
            "3\n",
            "4\n",
            "5\n"
          ]
        }
      ]
    },
    {
      "cell_type": "code",
      "source": [
        "# Generating a list of squares\n",
        "def generate_square_list(limit):\n",
        "    result = [x**2 for x in range(1, limit + 1)]\n",
        "    return result\n",
        "\n",
        "# Utilizing the list\n",
        "squares = generate_square_list(5)\n",
        "print(squares)"
      ],
      "metadata": {
        "colab": {
          "base_uri": "https://localhost:8080/"
        },
        "id": "h6xAYAJA0Gys",
        "outputId": "012b30b5-e3ae-4cbe-800c-71329b549592"
      },
      "execution_count": 3,
      "outputs": [
        {
          "output_type": "stream",
          "name": "stdout",
          "text": [
            "[1, 4, 9, 16, 25]\n"
          ]
        }
      ]
    },
    {
      "cell_type": "code",
      "source": [
        "# Generating Fibonacci numbers dynamically\n",
        "def fibonacci_sequence(limit):\n",
        "    a, b = 0, 1\n",
        "    count = 0\n",
        "    while count < limit:\n",
        "        yield a\n",
        "        a, b = b, a + b\n",
        "        count += 1\n",
        "\n",
        "# Utilizing the generator\n",
        "fib_gen = fibonacci_sequence(5)\n",
        "for num in fib_gen:\n",
        "    print(num)"
      ],
      "metadata": {
        "colab": {
          "base_uri": "https://localhost:8080/"
        },
        "id": "0zT_4hdX0IQW",
        "outputId": "9c6e4d97-a47e-4f7e-dc34-c67565b5f592"
      },
      "execution_count": 4,
      "outputs": [
        {
          "output_type": "stream",
          "name": "stdout",
          "text": [
            "0\n",
            "1\n",
            "1\n",
            "2\n",
            "3\n"
          ]
        }
      ]
    }
  ]
}
