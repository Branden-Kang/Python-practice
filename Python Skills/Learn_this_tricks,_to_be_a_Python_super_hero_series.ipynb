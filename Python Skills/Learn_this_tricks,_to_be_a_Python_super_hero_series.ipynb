{
  "nbformat": 4,
  "nbformat_minor": 0,
  "metadata": {
    "colab": {
      "provenance": [],
      "authorship_tag": "ABX9TyNDFflN5XEEQWvz5Esyc5kl"
    },
    "kernelspec": {
      "name": "python3",
      "display_name": "Python 3"
    },
    "language_info": {
      "name": "python"
    }
  },
  "cells": [
    {
      "cell_type": "markdown",
      "source": [
        "[Reference](https://borntowinuk.medium.com/learn-this-tricks-to-be-a-python-super-hero-series-part-2-64ca35d3ba0f)"
      ],
      "metadata": {
        "id": "5Qtjp6TfKVPK"
      }
    },
    {
      "cell_type": "code",
      "execution_count": 1,
      "metadata": {
        "colab": {
          "base_uri": "https://localhost:8080/"
        },
        "id": "rBvpWS1ZKTw3",
        "outputId": "60a1cf09-977b-409c-e5a3-ac5706255ba0"
      },
      "outputs": [
        {
          "output_type": "stream",
          "name": "stdout",
          "text": [
            "Looking in indexes: https://pypi.org/simple, https://us-python.pkg.dev/colab-wheels/public/simple/\n",
            "Collecting Faker\n",
            "  Downloading Faker-17.3.0-py3-none-any.whl (1.7 MB)\n",
            "\u001b[2K     \u001b[90m━━━━━━━━━━━━━━━━━━━━━━━━━━━━━━━━━━━━━━━━\u001b[0m \u001b[32m1.7/1.7 MB\u001b[0m \u001b[31m16.8 MB/s\u001b[0m eta \u001b[36m0:00:00\u001b[0m\n",
            "\u001b[?25hRequirement already satisfied: python-dateutil>=2.4 in /usr/local/lib/python3.8/dist-packages (from Faker) (2.8.2)\n",
            "Requirement already satisfied: six>=1.5 in /usr/local/lib/python3.8/dist-packages (from python-dateutil>=2.4->Faker) (1.15.0)\n",
            "Installing collected packages: Faker\n",
            "Successfully installed Faker-17.3.0\n"
          ]
        }
      ],
      "source": [
        "pip install Faker"
      ]
    },
    {
      "cell_type": "code",
      "source": [
        "from faker import Faker\n",
        "\n",
        "fake = Faker()\n",
        "\n",
        "for i in range(10):\n",
        " print(fake.country())"
      ],
      "metadata": {
        "colab": {
          "base_uri": "https://localhost:8080/"
        },
        "id": "wpyK822OKYZ_",
        "outputId": "89648bc1-3d8b-46f2-d35e-0676b4cb99d7"
      },
      "execution_count": 2,
      "outputs": [
        {
          "output_type": "stream",
          "name": "stdout",
          "text": [
            "Brazil\n",
            "Netherlands\n",
            "Mali\n",
            "Saint Barthelemy\n",
            "Central African Republic\n",
            "Bahrain\n",
            "Chad\n",
            "Niue\n",
            "Mauritius\n",
            "Dominican Republic\n"
          ]
        }
      ]
    },
    {
      "cell_type": "code",
      "source": [
        "from faker import Faker\n",
        "import pandas as pd\n",
        "\n",
        "fake = Faker()\n",
        "profiles = [fake.simple_profile() for i in range(10)]\n",
        "\n",
        "#Generate a dataframe using pandas\n",
        "df = pd.DataFrame(profiles)\n",
        "print(df)"
      ],
      "metadata": {
        "colab": {
          "base_uri": "https://localhost:8080/"
        },
        "id": "YFUG2OfOKZjj",
        "outputId": "73815540-9436-47d9-e210-df847d3c8e24"
      },
      "execution_count": 3,
      "outputs": [
        {
          "output_type": "stream",
          "name": "stdout",
          "text": [
            "        username              name sex  \\\n",
            "0        julie51      Katie Garcia   F   \n",
            "1       tbennett      Rebecca Mack   F   \n",
            "2        lydia30      Sarah Flores   F   \n",
            "3     carolnoble      Jason Thomas   M   \n",
            "4  jenniferdavis     Joshua Mcneil   M   \n",
            "5   audreymathis  Patrick Mccarthy   M   \n",
            "6     ortizjason       Amanda Gray   F   \n",
            "7         lisa58  Stephanie Rogers   F   \n",
            "8       cassie97         Eric Wade   M   \n",
            "9      leealyssa    Andrew Stewart   M   \n",
            "\n",
            "                                             address  \\\n",
            "0            8032 Black Curve\\nPattonville, OR 21235   \n",
            "1  03814 Blanchard Groves Apt. 091\\nKirktown, SC ...   \n",
            "2  46091 Mullen Mountains Apt. 158\\nNew Susanton,...   \n",
            "3       2174 Marie Shoals\\nNew Angelahaven, NJ 08853   \n",
            "4  84784 Dustin Land Suite 009\\nLake Robertland, ...   \n",
            "5      5401 Robert Mountains\\nMargaretstad, OH 26930   \n",
            "6         926 Reyes Junction\\nJamesborough, MO 43067   \n",
            "7  4182 Kenneth Green Apt. 546\\nWest Mariahburgh,...   \n",
            "8  81721 Katherine Lock Apt. 009\\nTanyamouth, UT ...   \n",
            "9  24303 Ann Coves Suite 061\\nPort Ashleytown, PR...   \n",
            "\n",
            "                        mail   birthdate  \n",
            "0        matthew58@gmail.com  1954-10-31  \n",
            "1   juliasweeney@hotmail.com  1965-03-30  \n",
            "2    gilmorevictor@yahoo.com  1910-07-06  \n",
            "3  christopherlong@yahoo.com  1990-02-16  \n",
            "4            kim56@gmail.com  1961-03-18  \n",
            "5     langdanielle@gmail.com  1937-04-03  \n",
            "6        lthompson@gmail.com  1913-06-02  \n",
            "7     rhondaoliver@yahoo.com  1948-08-18  \n",
            "8        stephen14@yahoo.com  1907-10-27  \n",
            "9         carlos30@gmail.com  2021-05-19  \n"
          ]
        }
      ]
    },
    {
      "cell_type": "code",
      "source": [
        "pip install psutil"
      ],
      "metadata": {
        "colab": {
          "base_uri": "https://localhost:8080/"
        },
        "id": "qQ1l_rkQKah6",
        "outputId": "9674aab0-4a9a-4f7a-eae1-5ecf3cf95a1d"
      },
      "execution_count": 4,
      "outputs": [
        {
          "output_type": "stream",
          "name": "stdout",
          "text": [
            "Looking in indexes: https://pypi.org/simple, https://us-python.pkg.dev/colab-wheels/public/simple/\n",
            "Requirement already satisfied: psutil in /usr/local/lib/python3.8/dist-packages (5.4.8)\n"
          ]
        }
      ]
    },
    {
      "cell_type": "code",
      "source": [
        "import psutil\n",
        "memory = psutil.virtual_memory()\n",
        "\n",
        "def ram_usage():\n",
        " print(f'Total available memory in gigabytes ' \n",
        " f'{memory.total/(1024**3):.3f}')\n",
        " print(f'Total used memory in gigabytes ' \n",
        " f'{memory.used/(1024**3):.3f}')\n",
        " print(f'Percentage of memory under use:' \n",
        " f' {memory.percent}%')\n",
        "\n",
        "ram_usage()"
      ],
      "metadata": {
        "colab": {
          "base_uri": "https://localhost:8080/"
        },
        "id": "PYYWuKMFKbmM",
        "outputId": "27eee161-6fb6-4482-89e7-dd5771b1bc0c"
      },
      "execution_count": 5,
      "outputs": [
        {
          "output_type": "stream",
          "name": "stdout",
          "text": [
            "Total available memory in gigabytes 12.681\n",
            "Total used memory in gigabytes 0.607\n",
            "Percentage of memory under use: 7.0%\n"
          ]
        }
      ]
    },
    {
      "cell_type": "code",
      "source": [
        "import psutil\n",
        "\n",
        "cpu_core = psutil.cpu_percent(percpu=True)\n",
        "\n",
        "for cpu, usage in enumerate(cpu_core):\n",
        " print(f\"# {cpu+1} CPU: {usage}%\")"
      ],
      "metadata": {
        "colab": {
          "base_uri": "https://localhost:8080/"
        },
        "id": "a1VRFEUjKdj2",
        "outputId": "89828cba-42b4-4579-90ef-e93e5580b6de"
      },
      "execution_count": 6,
      "outputs": [
        {
          "output_type": "stream",
          "name": "stdout",
          "text": [
            "# 1 CPU: 91.3%\n",
            "# 2 CPU: 88.9%\n"
          ]
        }
      ]
    },
    {
      "cell_type": "code",
      "source": [
        "pip install countryinfo"
      ],
      "metadata": {
        "colab": {
          "base_uri": "https://localhost:8080/"
        },
        "id": "-IAOyaXlKkQr",
        "outputId": "d54e5748-b186-4b39-f592-7ca23e2946f7"
      },
      "execution_count": 8,
      "outputs": [
        {
          "output_type": "stream",
          "name": "stdout",
          "text": [
            "Looking in indexes: https://pypi.org/simple, https://us-python.pkg.dev/colab-wheels/public/simple/\n",
            "Collecting countryinfo\n",
            "  Downloading countryinfo-0.1.2-py3-none-any.whl (602 kB)\n",
            "\u001b[2K     \u001b[90m━━━━━━━━━━━━━━━━━━━━━━━━━━━━━━━━━━━━━━\u001b[0m \u001b[32m602.2/602.2 KB\u001b[0m \u001b[31m10.8 MB/s\u001b[0m eta \u001b[36m0:00:00\u001b[0m\n",
            "\u001b[?25hInstalling collected packages: countryinfo\n",
            "Successfully installed countryinfo-0.1.2\n"
          ]
        }
      ]
    },
    {
      "cell_type": "code",
      "source": [
        "from countryinfo import CountryInfo\n",
        "\n",
        "country = CountryInfo(\"Germany\")\n",
        "\n",
        "print(country.provinces())"
      ],
      "metadata": {
        "colab": {
          "base_uri": "https://localhost:8080/"
        },
        "id": "J2gT7OGCKe4o",
        "outputId": "de281886-1f04-476d-d6bc-a3e3320e3bc0"
      },
      "execution_count": 9,
      "outputs": [
        {
          "output_type": "stream",
          "name": "stdout",
          "text": [
            "['Baden-Wuerttemberg', 'Bayern', 'Berlin', 'Brandenburg', 'Bremen', 'Hamburg', 'Hessen', 'Mecklenburg-Vorpommern', 'Niedersachsen', 'Nordrhein-Westfalen', 'Rheinland-Pfalz', 'Saarland', 'Sachsen', 'Sachsen-Anhalt', 'Schleswig-Holstein', 'Thueringen']\n"
          ]
        }
      ]
    }
  ]
}
