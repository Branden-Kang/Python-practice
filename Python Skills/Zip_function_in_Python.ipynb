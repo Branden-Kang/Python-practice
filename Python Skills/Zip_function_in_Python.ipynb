{
  "nbformat": 4,
  "nbformat_minor": 0,
  "metadata": {
    "colab": {
      "name": "Zip function in Python.ipynb",
      "provenance": [],
      "authorship_tag": "ABX9TyNH12LQVt/UYCJnUJgQOIIJ"
    },
    "kernelspec": {
      "name": "python3",
      "display_name": "Python 3"
    },
    "language_info": {
      "name": "python"
    }
  },
  "cells": [
    {
      "cell_type": "markdown",
      "metadata": {
        "id": "eSHPfH3ABCUZ"
      },
      "source": [
        "[Reference](https://blue-dolphin.medium.com/zip-function-in-python-5a8fc2764a23)"
      ]
    },
    {
      "cell_type": "code",
      "metadata": {
        "colab": {
          "base_uri": "https://localhost:8080/"
        },
        "id": "6ipNGRqmAzsw",
        "outputId": "3395e2a5-8d10-42df-907c-d4f4f81f0150"
      },
      "source": [
        "my_list = [1,3,5,7,9]\n",
        "my_other_list = [2,4,6,8,10]\n",
        "for item1, item2 in zip(my_list, my_other_list):\n",
        "    print(item1 + item2)"
      ],
      "execution_count": 1,
      "outputs": [
        {
          "output_type": "stream",
          "text": [
            "3\n",
            "7\n",
            "11\n",
            "15\n",
            "19\n"
          ],
          "name": "stdout"
        }
      ]
    },
    {
      "cell_type": "code",
      "metadata": {
        "colab": {
          "base_uri": "https://localhost:8080/"
        },
        "id": "ay1BAVFRBAf5",
        "outputId": "26b5d911-90bd-4d63-83e6-f01dea4910b8"
      },
      "source": [
        "my_1st_list = [1, 3, 5, 7, 9]\n",
        "my_2nd_list = [1.5, 2.5, 3.5, 4.5, 5.5]\n",
        "my_3rd_list = [2, 4, 6, 8, 10]\n",
        "for item1, item2, item3 in zip(my_1st_list, my_2nd_list, my_3rd_list):\n",
        "    print(item1 + item2 + item3)"
      ],
      "execution_count": 2,
      "outputs": [
        {
          "output_type": "stream",
          "text": [
            "4.5\n",
            "9.5\n",
            "14.5\n",
            "19.5\n",
            "24.5\n"
          ],
          "name": "stdout"
        }
      ]
    },
    {
      "cell_type": "code",
      "metadata": {
        "colab": {
          "base_uri": "https://localhost:8080/"
        },
        "id": "4mpFxTZJBHAo",
        "outputId": "8448ccce-63d6-49cd-c678-18228f3ba586"
      },
      "source": [
        "my_longest_list = [1, 3, 5, 7, 9, 11]\n",
        "my_long_list = [1.5, 2.5, 3.5, 4.5, 5.5]\n",
        "my_shortest_list = [2, 4, 6, 8, 10]\n",
        "for item1, item2, item3 in zip(my_longest_list, my_long_list, my_shortest_list):\n",
        "    print(item1 + item2 + item3)"
      ],
      "execution_count": 3,
      "outputs": [
        {
          "output_type": "stream",
          "text": [
            "4.5\n",
            "9.5\n",
            "14.5\n",
            "19.5\n",
            "24.5\n"
          ],
          "name": "stdout"
        }
      ]
    }
  ]
}