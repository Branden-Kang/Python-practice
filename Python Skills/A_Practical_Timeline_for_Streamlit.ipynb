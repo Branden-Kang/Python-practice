{
  "nbformat": 4,
  "nbformat_minor": 0,
  "metadata": {
    "colab": {
      "name": "A Practical Timeline for Streamlit.ipynb",
      "provenance": [],
      "authorship_tag": "ABX9TyMMI1Bw7AYA/o4OnqHYRh5I"
    },
    "kernelspec": {
      "name": "python3",
      "display_name": "Python 3"
    },
    "language_info": {
      "name": "python"
    }
  },
  "cells": [
    {
      "cell_type": "markdown",
      "source": [
        "[Reference](https://levelup.gitconnected.com/build-a-practical-timeline-in-streamlit-5b3603ade11c)"
      ],
      "metadata": {
        "id": "O68qmPSnAGnH"
      }
    },
    {
      "cell_type": "code",
      "execution_count": 2,
      "metadata": {
        "id": "tQH2kSAqAE0k"
      },
      "outputs": [],
      "source": [
        "# # HTML Codes\n",
        "# <!-- 1 -->\n",
        "# <link title=\"timeline-styles\" rel=\"stylesheet\" href=\"https://cdn.knightlab.com/libs/timeline3/latest/css/timeline.css\">\n",
        "\n",
        "# <!-- 2 -->\n",
        "# <script src=\"https://cdn.knightlab.com/libs/timeline3/latest/js/timeline.js\"></script>\n",
        "\n",
        "# <div id='timeline-embed' style=\"width: 100%; height: 600px\"></div>\n",
        "\n",
        "# <!-- 3 -->\n",
        "# <script type=\"text/javascript\">\n",
        "#     var additionalOptions = {start_at_end: false};\n",
        "#     var timeline_json = JSON_DATA;\n",
        "#     timeline = new TL.Timeline('timeline-embed', timeline_json, additionalOptions);\n",
        "# </script>"
      ]
    },
    {
      "cell_type": "markdown",
      "source": [
        "# Creating the Streamlit Component"
      ],
      "metadata": {
        "id": "lHvwT-TjAXt5"
      }
    },
    {
      "cell_type": "code",
      "source": [
        "import json\n",
        "import streamlit.components.v1 as components\n",
        "\n",
        "def timeline(data, height=800):\n",
        "    \"\"\"Create a new timeline component.\n",
        "    Parameters\n",
        "    ----------\n",
        "    data: str or dict\n",
        "        String or dict in the timeline json format: https://timeline.knightlab.com/docs/json-format.html\n",
        "    height: int or None\n",
        "        Height of the timeline in px\n",
        "    Returns\n",
        "    -------\n",
        "    static_component: Boolean\n",
        "        Returns a static component with a timeline\n",
        "    \"\"\"\n",
        "\n",
        "    # if string then to json\n",
        "    if isinstance(data, str):\n",
        "        data = json.loads(data)\n",
        "\n",
        "    # json to string\n",
        "    json_text = json.dumps(data) \n",
        "\n",
        "    # write html block\n",
        "    htmlcode = # as described above: timeline.html with json_text and configuration parameters\n",
        "\n",
        "    # return rendered html\n",
        "    static_component = components.html(htmlcode, height=height,)\n",
        "\n",
        "    return static_component"
      ],
      "metadata": {
        "id": "kPdvQ53KAO7C"
      },
      "execution_count": 4,
      "outputs": []
    },
    {
      "cell_type": "code",
      "source": [
        "# # upgrade pip and install required packages\n",
        "# python -m pip install -upgrade pip\n",
        "# pip install wheel\n",
        "# pip install twine\n",
        "\n",
        "# # go to your package folder\n",
        "# cd package/main/folder\n",
        "\n",
        "# # build distribution\n",
        "# python3 setup.py sdist\n",
        "\n",
        "# # upload package to PyPi\n",
        "# twine upload dist/*\n",
        "# # > enter username\n",
        "# # > enter password"
      ],
      "metadata": {
        "id": "Ey1oTtwjAacB"
      },
      "execution_count": 5,
      "outputs": []
    },
    {
      "cell_type": "markdown",
      "source": [
        "# Creating a Timeline"
      ],
      "metadata": {
        "id": "yjrQDM39AvFY"
      }
    },
    {
      "cell_type": "code",
      "source": [
        "pip install streamlit-timeline"
      ],
      "metadata": {
        "id": "nxHb8VidAsm3"
      },
      "execution_count": 6,
      "outputs": []
    },
    {
      "cell_type": "code",
      "source": [
        "import streamlit as st\n",
        "from streamlit_timeline import timeline\n",
        "\n",
        "# use full page width\n",
        "st.set_page_config(page_title=\"Timeline Example\", layout=\"wide\")\n",
        "\n",
        "# load data\n",
        "with open('example.json', \"r\") as f:\n",
        "    data = f.read()\n",
        "\n",
        "# render timeline\n",
        "timeline(data, height=800)"
      ],
      "metadata": {
        "id": "lnDtmhi5AuIt"
      },
      "execution_count": 7,
      "outputs": []
    },
    {
      "cell_type": "code",
      "source": [
        "# !streamlit run example_app.py"
      ],
      "metadata": {
        "id": "WKtkdcW0Aw3L"
      },
      "execution_count": 8,
      "outputs": []
    }
  ]
}