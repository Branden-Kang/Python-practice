{
  "nbformat": 4,
  "nbformat_minor": 0,
  "metadata": {
    "colab": {
      "provenance": [],
      "authorship_tag": "ABX9TyM6nNCk2C1Sgo78+PdSnMU+"
    },
    "kernelspec": {
      "name": "python3",
      "display_name": "Python 3"
    },
    "language_info": {
      "name": "python"
    }
  },
  "cells": [
    {
      "cell_type": "markdown",
      "source": [
        "[Reference](https://blog.stackademic.com/python-unleashing-the-magic-5-functools-bdd3fd0978e7)"
      ],
      "metadata": {
        "id": "PJNuMQ_Xihf4"
      }
    },
    {
      "cell_type": "markdown",
      "source": [
        "# 1. Decorator with Wraps:"
      ],
      "metadata": {
        "id": "yCZKXZufij9f"
      }
    },
    {
      "cell_type": "code",
      "execution_count": 1,
      "metadata": {
        "id": "nfvHqi-BiZZX",
        "outputId": "382ab893-2304-4a1c-abcb-e937cea635cf",
        "colab": {
          "base_uri": "https://localhost:8080/"
        }
      },
      "outputs": [
        {
          "output_type": "stream",
          "name": "stdout",
          "text": [
            "Something is happening before the function is called.\n",
            "Hello, Alice!\n",
            "Something is happening after the function is called.\n",
            "say_hello\n",
            "A function that greets the user.\n"
          ]
        }
      ],
      "source": [
        "import functools\n",
        "\n",
        "# Best solution\n",
        "def my_decorator(func):\n",
        "    @functools.wraps(func)\n",
        "    def wrapper(*args, **kwargs):\n",
        "        print(\"Something is happening before the function is called.\")\n",
        "        result = func(*args, **kwargs)\n",
        "        print(\"Something is happening after the function is called.\")\n",
        "        return result\n",
        "    return wrapper\n",
        "\n",
        "@my_decorator\n",
        "def say_hello(name):\n",
        "    \"\"\"A function that greets the user.\"\"\"\n",
        "    print(f\"Hello, {name}!\")\n",
        "\n",
        "say_hello(\"Alice\")\n",
        "print(say_hello.__name__)  # Output: \"say_hello\" (preserved original function name)\n",
        "print(say_hello.__doc__)   # Output: \"A function that greets the user.\" (preserved docstring)"
      ]
    },
    {
      "cell_type": "code",
      "source": [
        "# Naive solution\n",
        "def my_decorator(func):\n",
        "    def wrapper(*args, **kwargs):\n",
        "        print(\"Something is happening before the function is called.\")\n",
        "        result = func(*args, **kwargs)\n",
        "        print(\"Something is happening after the function is called.\")\n",
        "        return result\n",
        "    return wrapper\n",
        "\n",
        "@my_decorator\n",
        "def say_hello(name):\n",
        "    \"\"\"A function that greets the user.\"\"\"\n",
        "    print(f\"Hello, {name}!\")\n",
        "\n",
        "print(say_hello.__name__)  # Output: \"wrapper\" (not the original function name)\n",
        "print(say_hello.__doc__)   # Output: None (not the original docstring)"
      ],
      "metadata": {
        "id": "9ipTKGyGilyW",
        "outputId": "1ac9a4ab-70d8-4b07-bbef-92b57f09eff1",
        "colab": {
          "base_uri": "https://localhost:8080/"
        }
      },
      "execution_count": 2,
      "outputs": [
        {
          "output_type": "stream",
          "name": "stdout",
          "text": [
            "wrapper\n",
            "None\n"
          ]
        }
      ]
    },
    {
      "cell_type": "markdown",
      "source": [
        "# 2. Memoization :"
      ],
      "metadata": {
        "id": "TV2kN_gNioF7"
      }
    },
    {
      "cell_type": "code",
      "source": [
        "import functools\n",
        "\n",
        "@functools.lru_cache(maxsize=128)\n",
        "def fibonacci(n):\n",
        "    if n <= 1:\n",
        "        return n\n",
        "    return fibonacci(n-1) + fibonacci(n-2)\n",
        "\n",
        "print(fibonacci(10))  # Output: 55 (memoized efficiently)\n",
        "print(fibonacci(15))  # Output: 610 (reusing cached result)"
      ],
      "metadata": {
        "id": "irZ8IMvQinJH",
        "outputId": "93b151cb-b8ca-499f-f54b-19fa5dd073a3",
        "colab": {
          "base_uri": "https://localhost:8080/"
        }
      },
      "execution_count": 3,
      "outputs": [
        {
          "output_type": "stream",
          "name": "stdout",
          "text": [
            "55\n",
            "610\n"
          ]
        }
      ]
    },
    {
      "cell_type": "markdown",
      "source": [
        "# 3. Partial Functions :"
      ],
      "metadata": {
        "id": "1MlsECUriqAS"
      }
    },
    {
      "cell_type": "code",
      "source": [
        "import functools\n",
        "\n",
        "def power(base, exponent):\n",
        "    return base ** exponent\n",
        "\n",
        "# Create specialized versions of power function\n",
        "square_func = functools.partial(power, exponent=2)\n",
        "cube_func = functools.partial(power, exponent=3)\n",
        "\n",
        "print(square_func(5))  # Output: 25\n",
        "print(cube_func(5))    # Output: 125"
      ],
      "metadata": {
        "id": "2HVxuNGQipJ1",
        "outputId": "18a9d7e3-8e45-42e6-b9e6-de605cb50dc3",
        "colab": {
          "base_uri": "https://localhost:8080/"
        }
      },
      "execution_count": 4,
      "outputs": [
        {
          "output_type": "stream",
          "name": "stdout",
          "text": [
            "25\n",
            "125\n"
          ]
        }
      ]
    },
    {
      "cell_type": "markdown",
      "source": [
        "# 4. Ordering methods :"
      ],
      "metadata": {
        "id": "vVxjgm7IisDX"
      }
    },
    {
      "cell_type": "code",
      "source": [
        "import functools\n",
        "\n",
        "@functools.total_ordering\n",
        "class Person:\n",
        "    def __init__(self, name, age):\n",
        "        self.name = name\n",
        "        self.age = age\n",
        "\n",
        "    def __eq__(self, other):\n",
        "        return self.age == other.age\n",
        "\n",
        "    def __lt__(self, other):\n",
        "        return self.age < other.age\n",
        "\n",
        "person1 = Person(\"Alice\", 30)\n",
        "person2 = Person(\"Bob\", 25)\n",
        "\n",
        "print(person1 == person2)  # Output: False\n",
        "print(person1 != person2)  # Output: True\n",
        "print(person1 > person2)   # Output: True\n",
        "print(person1 < person2)   # Output: False"
      ],
      "metadata": {
        "id": "jiPrVtXpirHE",
        "outputId": "1bfcdab7-aaa0-4e0c-ce06-59615558b54c",
        "colab": {
          "base_uri": "https://localhost:8080/"
        }
      },
      "execution_count": 5,
      "outputs": [
        {
          "output_type": "stream",
          "name": "stdout",
          "text": [
            "False\n",
            "True\n",
            "True\n",
            "False\n"
          ]
        }
      ]
    },
    {
      "cell_type": "markdown",
      "source": [
        "# 5. single-dispatch generic functions"
      ],
      "metadata": {
        "id": "5iINyvR7iubx"
      }
    },
    {
      "cell_type": "code",
      "source": [
        "import functools\n",
        "\n",
        "@functools.singledispatch\n",
        "def process_data(data):\n",
        "    print(\"Generic processing:\", data)\n",
        "\n",
        "@process_data.register(int)\n",
        "def _(data):\n",
        "    print(\"Processing integer data:\", data)\n",
        "\n",
        "@process_data.register(list)\n",
        "def _(data):\n",
        "    print(\"Processing list data:\", data)\n",
        "\n",
        "process_data(\"Hello\")   # Output: Generic processing: Hello\n",
        "process_data(42)        # Output: Processing integer data: 42\n",
        "process_data([1, 2, 3]) # Output: Processing list data: [1, 2, 3]"
      ],
      "metadata": {
        "id": "s3P7JJ-JitZw",
        "outputId": "07f5e9f3-60a9-4da0-b779-06d9517d1ee2",
        "colab": {
          "base_uri": "https://localhost:8080/"
        }
      },
      "execution_count": 6,
      "outputs": [
        {
          "output_type": "stream",
          "name": "stdout",
          "text": [
            "Generic processing: Hello\n",
            "Processing integer data: 42\n",
            "Processing list data: [1, 2, 3]\n"
          ]
        }
      ]
    }
  ]
}
