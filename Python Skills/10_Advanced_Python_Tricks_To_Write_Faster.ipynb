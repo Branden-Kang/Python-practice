{
  "nbformat": 4,
  "nbformat_minor": 0,
  "metadata": {
    "colab": {
      "name": "10 Advanced Python Tricks To Write Faster.ipynb",
      "provenance": [],
      "authorship_tag": "ABX9TyOeivry0zStKslHYuaMkgzR"
    },
    "kernelspec": {
      "name": "python3",
      "display_name": "Python 3"
    },
    "language_info": {
      "name": "python"
    }
  },
  "cells": [
    {
      "cell_type": "markdown",
      "metadata": {
        "id": "s1CQ8Kd9-Umd"
      },
      "source": [
        "[Reference](https://medium.com/pythonland/10-advanced-python-tricks-to-write-faster-cleaner-code-f9ee76fa878f)"
      ]
    },
    {
      "cell_type": "markdown",
      "metadata": {
        "id": "__WlPVKq_DGU"
      },
      "source": [
        "# 1. Using slotted classes\n"
      ]
    },
    {
      "cell_type": "code",
      "metadata": {
        "id": "WwPB8CAj-Rl6"
      },
      "source": [
        "class Card:\n",
        "     __slots__ = 'rank', 'suite'\n",
        "     def __init__(self, rank, suite):\n",
        "             self.rank = rank\n",
        "             self.suite = suite\n",
        " \n",
        "qh = Card('queen', 'hearts')"
      ],
      "execution_count": 1,
      "outputs": []
    },
    {
      "cell_type": "code",
      "metadata": {
        "colab": {
          "base_uri": "https://localhost:8080/"
        },
        "id": "RfMxpfNb-YSP",
        "outputId": "5be32dd5-baa0-4df9-a039-7ea7a1967277"
      },
      "source": [
        "qh"
      ],
      "execution_count": 2,
      "outputs": [
        {
          "output_type": "execute_result",
          "data": {
            "text/plain": [
              "<__main__.Card at 0x7fc1c1879790>"
            ]
          },
          "metadata": {
            "tags": []
          },
          "execution_count": 2
        }
      ]
    },
    {
      "cell_type": "code",
      "metadata": {
        "colab": {
          "base_uri": "https://localhost:8080/",
          "height": 198
        },
        "id": "hwQ0eMyD-hD1",
        "outputId": "c6b43f27-8cbd-4bd0-a243-a566c32f8469"
      },
      "source": [
        "qh.rnak = 'queen'"
      ],
      "execution_count": 3,
      "outputs": [
        {
          "output_type": "error",
          "ename": "AttributeError",
          "evalue": "ignored",
          "traceback": [
            "\u001b[0;31m---------------------------------------------------------------------------\u001b[0m",
            "\u001b[0;31mAttributeError\u001b[0m                            Traceback (most recent call last)",
            "\u001b[0;32m<ipython-input-3-4a4281fee283>\u001b[0m in \u001b[0;36m<module>\u001b[0;34m()\u001b[0m\n\u001b[0;32m----> 1\u001b[0;31m \u001b[0mqh\u001b[0m\u001b[0;34m.\u001b[0m\u001b[0mrnak\u001b[0m \u001b[0;34m=\u001b[0m \u001b[0;34m'queen'\u001b[0m\u001b[0;34m\u001b[0m\u001b[0;34m\u001b[0m\u001b[0m\n\u001b[0m",
            "\u001b[0;31mAttributeError\u001b[0m: 'Card' object has no attribute 'rnak'"
          ]
        }
      ]
    },
    {
      "cell_type": "code",
      "metadata": {
        "id": "kK4PgZiL-5Pu"
      },
      "source": [
        "class Card:\n",
        "     def __init__(self, rank, suite):\n",
        "             self.rank = rank\n",
        "             self.suite = suite\n",
        " \n",
        "qh = Card('queen', 'hearts')"
      ],
      "execution_count": 4,
      "outputs": []
    },
    {
      "cell_type": "code",
      "metadata": {
        "id": "fqkKZAes-9_X"
      },
      "source": [
        "qh.rnak = 'queen'"
      ],
      "execution_count": 5,
      "outputs": []
    },
    {
      "cell_type": "code",
      "metadata": {
        "colab": {
          "base_uri": "https://localhost:8080/"
        },
        "id": "gjpHFiUd--iQ",
        "outputId": "2f5e5ad3-a6bb-46cb-b3a1-21190ba2d625"
      },
      "source": [
        "qh"
      ],
      "execution_count": 6,
      "outputs": [
        {
          "output_type": "execute_result",
          "data": {
            "text/plain": [
              "<__main__.Card at 0x7fc1c21d4d50>"
            ]
          },
          "metadata": {
            "tags": []
          },
          "execution_count": 6
        }
      ]
    },
    {
      "cell_type": "markdown",
      "metadata": {
        "id": "X72LTmhM_EtK"
      },
      "source": [
        "# 2. Get the size of an object\n"
      ]
    },
    {
      "cell_type": "code",
      "metadata": {
        "colab": {
          "base_uri": "https://localhost:8080/"
        },
        "id": "P_uRHvr3_E_H",
        "outputId": "9bfcbfb3-7ba5-4ebf-8597-b2d8da1f0e54"
      },
      "source": [
        "import sys\n",
        "\n",
        "mylist = range(0, 10000)\n",
        "print(sys.getsizeof(mylist))"
      ],
      "execution_count": 7,
      "outputs": [
        {
          "output_type": "stream",
          "text": [
            "48\n"
          ],
          "name": "stdout"
        }
      ]
    },
    {
      "cell_type": "code",
      "metadata": {
        "colab": {
          "base_uri": "https://localhost:8080/"
        },
        "id": "7VqiVkC9_GK6",
        "outputId": "87f05ce3-07e3-4488-eb55-c5ed9b7f65fe"
      },
      "source": [
        "import sys\n",
        "\n",
        "myreallist = [x for x in range(0, 10000)]\n",
        "print(sys.getsizeof(myreallist))"
      ],
      "execution_count": 8,
      "outputs": [
        {
          "output_type": "stream",
          "text": [
            "87632\n"
          ],
          "name": "stdout"
        }
      ]
    },
    {
      "cell_type": "markdown",
      "metadata": {
        "id": "ajtuJkyt_Yzb"
      },
      "source": [
        "# 3. Using tuples instead of lists\n"
      ]
    },
    {
      "cell_type": "code",
      "metadata": {
        "colab": {
          "base_uri": "https://localhost:8080/"
        },
        "id": "Jr9BeZC9_JV_",
        "outputId": "301ec48f-0874-4f6a-c3d1-cd79338bdb42"
      },
      "source": [
        "import sys\n",
        "l = [1,2,3]\n",
        "t = (1,2,3)\n",
        "sys.getsizeof(l)"
      ],
      "execution_count": 9,
      "outputs": [
        {
          "output_type": "execute_result",
          "data": {
            "text/plain": [
              "80"
            ]
          },
          "metadata": {
            "tags": []
          },
          "execution_count": 9
        }
      ]
    },
    {
      "cell_type": "code",
      "metadata": {
        "colab": {
          "base_uri": "https://localhost:8080/"
        },
        "id": "TguQ35ru_eMn",
        "outputId": "1b66e1a9-d3ba-49b5-f88f-e7d135d08fa2"
      },
      "source": [
        "sys.getsizeof(t)"
      ],
      "execution_count": 10,
      "outputs": [
        {
          "output_type": "execute_result",
          "data": {
            "text/plain": [
              "80"
            ]
          },
          "metadata": {
            "tags": []
          },
          "execution_count": 10
        }
      ]
    },
    {
      "cell_type": "markdown",
      "metadata": {
        "id": "RTUNsBKO_gVH"
      },
      "source": [
        "# 4. Conditional statements (Inline if/else)\n"
      ]
    },
    {
      "cell_type": "code",
      "metadata": {
        "colab": {
          "base_uri": "https://localhost:8080/",
          "height": 37
        },
        "id": "A3IN9cUz_fM3",
        "outputId": "ad8bc967-c192-4697-951d-4e62a931afe7"
      },
      "source": [
        "def get_status(error):\n",
        "     return 'OK' if not error else 'We have a problem'\n",
        "\n",
        "get_status(error=True)"
      ],
      "execution_count": 11,
      "outputs": [
        {
          "output_type": "execute_result",
          "data": {
            "application/vnd.google.colaboratory.intrinsic+json": {
              "type": "string"
            },
            "text/plain": [
              "'We have a problem'"
            ]
          },
          "metadata": {
            "tags": []
          },
          "execution_count": 11
        }
      ]
    },
    {
      "cell_type": "code",
      "metadata": {
        "colab": {
          "base_uri": "https://localhost:8080/",
          "height": 37
        },
        "id": "TM7f4Mw5_jYu",
        "outputId": "16c76d97-e453-44c8-e870-753147d60904"
      },
      "source": [
        "get_status(error=False)"
      ],
      "execution_count": 12,
      "outputs": [
        {
          "output_type": "execute_result",
          "data": {
            "application/vnd.google.colaboratory.intrinsic+json": {
              "type": "string"
            },
            "text/plain": [
              "'OK'"
            ]
          },
          "metadata": {
            "tags": []
          },
          "execution_count": 12
        }
      ]
    },
    {
      "cell_type": "markdown",
      "metadata": {
        "id": "4bbYDNwr_kk8"
      },
      "source": [
        "# 5. Else statements and loops\n"
      ]
    },
    {
      "cell_type": "code",
      "metadata": {
        "colab": {
          "base_uri": "https://localhost:8080/"
        },
        "id": "fYEO-lkR_jjP",
        "outputId": "b1a7d19c-52e2-401d-8584-513b871c1f29"
      },
      "source": [
        "for n in range(2, 10):\n",
        "    for x in range(2, n):\n",
        "            if n % x == 0:\n",
        "                print(n, 'equals', x, '*', n//x)\n",
        "                break\n",
        "\n",
        "else:\n",
        "    # loop fell through without finding a factor\n",
        "    print(n, 'is a prime number')"
      ],
      "execution_count": 13,
      "outputs": [
        {
          "output_type": "stream",
          "text": [
            "4 equals 2 * 2\n",
            "6 equals 2 * 3\n",
            "8 equals 2 * 4\n",
            "9 equals 3 * 3\n",
            "9 is a prime number\n"
          ],
          "name": "stdout"
        }
      ]
    },
    {
      "cell_type": "markdown",
      "metadata": {
        "id": "uu7wUtsx_uk9"
      },
      "source": [
        "# 6. Sorting Objects by Multiple Keys\n"
      ]
    },
    {
      "cell_type": "code",
      "metadata": {
        "id": "4hw-NdIX_plR"
      },
      "source": [
        "people = [\n",
        "{ 'name': 'John', \"age\": 64 },\n",
        "{ 'name': 'Janet', \"age\": 34 },\n",
        "{ 'name': 'Ed', \"age\": 24 },\n",
        "{ 'name': 'Sara', \"age\": 64 },\n",
        "{ 'name': 'John', \"age\": 32 },\n",
        "{ 'name': 'Jane', \"age\": 34 },\n",
        "{ 'name': 'John', \"age\": 99 },\n",
        "]"
      ],
      "execution_count": 14,
      "outputs": []
    },
    {
      "cell_type": "code",
      "metadata": {
        "id": "pVYm2tx2_wO9"
      },
      "source": [
        "import operator\n",
        "\n",
        "people.sort(key=operator.itemgetter('age'))"
      ],
      "execution_count": 15,
      "outputs": []
    },
    {
      "cell_type": "code",
      "metadata": {
        "id": "a_60eXQ__zUn"
      },
      "source": [
        "people.sort(key=operator.itemgetter('name'))"
      ],
      "execution_count": 16,
      "outputs": []
    },
    {
      "cell_type": "code",
      "metadata": {
        "colab": {
          "base_uri": "https://localhost:8080/"
        },
        "id": "v-SR1lvO_zl6",
        "outputId": "573897a2-01a0-433f-c5dc-a5efd52c348f"
      },
      "source": [
        "people"
      ],
      "execution_count": 17,
      "outputs": [
        {
          "output_type": "execute_result",
          "data": {
            "text/plain": [
              "[{'age': 24, 'name': 'Ed'},\n",
              " {'age': 34, 'name': 'Jane'},\n",
              " {'age': 34, 'name': 'Janet'},\n",
              " {'age': 32, 'name': 'John'},\n",
              " {'age': 64, 'name': 'John'},\n",
              " {'age': 99, 'name': 'John'},\n",
              " {'age': 64, 'name': 'Sara'}]"
            ]
          },
          "metadata": {
            "tags": []
          },
          "execution_count": 17
        }
      ]
    },
    {
      "cell_type": "markdown",
      "metadata": {
        "id": "gcXu6GuW_5O8"
      },
      "source": [
        "# 7. Comprehensions\n"
      ]
    },
    {
      "cell_type": "code",
      "metadata": {
        "colab": {
          "base_uri": "https://localhost:8080/"
        },
        "id": "HiOlCMBU_2h7",
        "outputId": "f558a154-df49-479a-c3cc-72ae530d27a5"
      },
      "source": [
        "mylist = [i for i in range(10)]\n",
        "print(mylist)"
      ],
      "execution_count": 18,
      "outputs": [
        {
          "output_type": "stream",
          "text": [
            "[0, 1, 2, 3, 4, 5, 6, 7, 8, 9]\n"
          ],
          "name": "stdout"
        }
      ]
    },
    {
      "cell_type": "code",
      "metadata": {
        "colab": {
          "base_uri": "https://localhost:8080/"
        },
        "id": "Q-KU-_ZCAgOZ",
        "outputId": "32c52c92-6af0-48b9-f264-a79af40fcc39"
      },
      "source": [
        "squares = [x**2 for x in range(10)]\n",
        "print(squares)"
      ],
      "execution_count": 19,
      "outputs": [
        {
          "output_type": "stream",
          "text": [
            "[0, 1, 4, 9, 16, 25, 36, 49, 64, 81]\n"
          ],
          "name": "stdout"
        }
      ]
    },
    {
      "cell_type": "code",
      "metadata": {
        "colab": {
          "base_uri": "https://localhost:8080/"
        },
        "id": "mG90tKO1AhKo",
        "outputId": "45a35d6b-83b1-4471-cf64-9802319fff7b"
      },
      "source": [
        "def some_function(a):\n",
        "    return (a + 5) / 2\n",
        "    \n",
        "my_formula = [some_function(i) for i in range(10)]\n",
        "print(my_formula)"
      ],
      "execution_count": 20,
      "outputs": [
        {
          "output_type": "stream",
          "text": [
            "[2.5, 3.0, 3.5, 4.0, 4.5, 5.0, 5.5, 6.0, 6.5, 7.0]\n"
          ],
          "name": "stdout"
        }
      ]
    },
    {
      "cell_type": "code",
      "metadata": {
        "colab": {
          "base_uri": "https://localhost:8080/"
        },
        "id": "M7a7xkC-Aic4",
        "outputId": "2fa4bd96-6d1f-4ac5-9ef6-2808185ba3d1"
      },
      "source": [
        "filtered = [i for i in range(20) if i%2==0]\n",
        "print(filtered)"
      ],
      "execution_count": 21,
      "outputs": [
        {
          "output_type": "stream",
          "text": [
            "[0, 2, 4, 6, 8, 10, 12, 14, 16, 18]\n"
          ],
          "name": "stdout"
        }
      ]
    },
    {
      "cell_type": "markdown",
      "metadata": {
        "id": "jx07-QJgAlEr"
      },
      "source": [
        "# 8. Data classes"
      ]
    },
    {
      "cell_type": "code",
      "metadata": {
        "colab": {
          "base_uri": "https://localhost:8080/"
        },
        "id": "w4SYjGomAjlv",
        "outputId": "77a5d79c-5d6e-4076-a9f3-d6218a759399"
      },
      "source": [
        "from dataclasses import dataclass\n",
        "\n",
        "@dataclass\n",
        "class Card:\n",
        "    rank: str\n",
        "    suit: str\n",
        "    \n",
        "card = Card(\"Q\", \"hearts\")\n",
        "\n",
        "print(card == card)\n",
        "\n",
        "print(card.rank)\n",
        "\n",
        "print(card)\n",
        "Card(rank='Q', suit='hearts')"
      ],
      "execution_count": 22,
      "outputs": [
        {
          "output_type": "stream",
          "text": [
            "True\n",
            "Q\n",
            "Card(rank='Q', suit='hearts')\n"
          ],
          "name": "stdout"
        },
        {
          "output_type": "execute_result",
          "data": {
            "text/plain": [
              "Card(rank='Q', suit='hearts')"
            ]
          },
          "metadata": {
            "tags": []
          },
          "execution_count": 22
        }
      ]
    },
    {
      "cell_type": "markdown",
      "metadata": {
        "id": "Hx_eC1RJAt9W"
      },
      "source": [
        "# 9. Merging dictionaries\n"
      ]
    },
    {
      "cell_type": "code",
      "metadata": {
        "colab": {
          "base_uri": "https://localhost:8080/"
        },
        "id": "uMDX4CLfArwj",
        "outputId": "9fa562ab-10ef-4be2-a5e8-b53675d26c5d"
      },
      "source": [
        "dict1 = { 'a': 1, 'b': 2 }\n",
        "dict2 = { 'b': 3, 'c': 4 }\n",
        "merged = { **dict1, **dict2 }\n",
        "\n",
        "print (merged)"
      ],
      "execution_count": 23,
      "outputs": [
        {
          "output_type": "stream",
          "text": [
            "{'a': 1, 'b': 3, 'c': 4}\n"
          ],
          "name": "stdout"
        }
      ]
    },
    {
      "cell_type": "code",
      "metadata": {
        "id": "XwIjEkfJAx7D"
      },
      "source": [
        "# Python >= 3.9 only\n",
        "merged = dict1 | dict2\n",
        "\n",
        "print (merged)"
      ],
      "execution_count": 25,
      "outputs": []
    },
    {
      "cell_type": "markdown",
      "metadata": {
        "id": "hA34Lq-iA1FD"
      },
      "source": [
        "# 10. Using and knowing itertools\n"
      ]
    },
    {
      "cell_type": "code",
      "metadata": {
        "id": "J-DPiwJdA9BO"
      },
      "source": [
        "import itertools"
      ],
      "execution_count": 27,
      "outputs": []
    },
    {
      "cell_type": "code",
      "metadata": {
        "colab": {
          "base_uri": "https://localhost:8080/"
        },
        "id": "_eCSYTaWAyWY",
        "outputId": "75748b33-9af3-4774-811b-8e5132425fd7"
      },
      "source": [
        "# Calculate all profucs of an input\n",
        "list(itertools.product('abc', repeat=2))"
      ],
      "execution_count": 28,
      "outputs": [
        {
          "output_type": "execute_result",
          "data": {
            "text/plain": [
              "[('a', 'a'),\n",
              " ('a', 'b'),\n",
              " ('a', 'c'),\n",
              " ('b', 'a'),\n",
              " ('b', 'b'),\n",
              " ('b', 'c'),\n",
              " ('c', 'a'),\n",
              " ('c', 'b'),\n",
              " ('c', 'c')]"
            ]
          },
          "metadata": {
            "tags": []
          },
          "execution_count": 28
        }
      ]
    },
    {
      "cell_type": "code",
      "metadata": {
        "colab": {
          "base_uri": "https://localhost:8080/"
        },
        "id": "tZQYsqcYA7TU",
        "outputId": "601b8180-b036-484b-f6c7-fc023ca58395"
      },
      "source": [
        "# Calculate all permutations\n",
        "list(itertools.permutations('abc'))"
      ],
      "execution_count": 29,
      "outputs": [
        {
          "output_type": "execute_result",
          "data": {
            "text/plain": [
              "[('a', 'b', 'c'),\n",
              " ('a', 'c', 'b'),\n",
              " ('b', 'a', 'c'),\n",
              " ('b', 'c', 'a'),\n",
              " ('c', 'a', 'b'),\n",
              " ('c', 'b', 'a')]"
            ]
          },
          "metadata": {
            "tags": []
          },
          "execution_count": 29
        }
      ]
    },
    {
      "cell_type": "code",
      "metadata": {
        "id": "ITEpg7rOA_a3",
        "outputId": "c8c4a3cf-df7c-4672-fa88-91ae95e06f6e",
        "colab": {
          "base_uri": "https://localhost:8080/"
        }
      },
      "source": [
        "# Take elements for iterator as long as predicate is True\n",
        "list(itertools.takewhile(lambda x: x<5, [1,4,6,4,1]))"
      ],
      "execution_count": 30,
      "outputs": [
        {
          "output_type": "execute_result",
          "data": {
            "text/plain": [
              "[1, 4]"
            ]
          },
          "metadata": {
            "tags": []
          },
          "execution_count": 30
        }
      ]
    }
  ]
}