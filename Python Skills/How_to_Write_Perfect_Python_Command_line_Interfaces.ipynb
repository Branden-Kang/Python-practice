{
  "nbformat": 4,
  "nbformat_minor": 0,
  "metadata": {
    "colab": {
      "name": "How to Write Perfect Python Command-line Interfaces.ipynb",
      "provenance": [],
      "authorship_tag": "ABX9TyOU3LzIof43SUgZCXtpuOqF"
    },
    "kernelspec": {
      "name": "python3",
      "display_name": "Python 3"
    },
    "language_info": {
      "name": "python"
    }
  },
  "cells": [
    {
      "cell_type": "markdown",
      "metadata": {
        "id": "lXnwYU68K1Kz"
      },
      "source": [
        "[Reference](https://medium.com/sicara/perfect-python-command-line-interfaces-7d5d4efad6a2)"
      ]
    },
    {
      "cell_type": "code",
      "metadata": {
        "id": "8R6xhXi9KQCy"
      },
      "source": [
        "def encrypt(plaintext, key):\n",
        "    cyphertext = ''\n",
        "    for character in plaintext:\n",
        "        if character.isalpha():\n",
        "            number = ord(character)\n",
        "            number += key\n",
        "            if character.isupper():\n",
        "                if number > ord('Z'):\n",
        "                    number -= 26\n",
        "                elif number < ord('A'):\n",
        "                    number += 26\n",
        "            elif character.islower():\n",
        "                if number > ord('z'):\n",
        "                    number -= 26\n",
        "                elif number < ord('a'):\n",
        "                    number += 26\n",
        "            character = chr(number)\n",
        "        cyphertext += character\n",
        "\n",
        "    return cyphertext"
      ],
      "execution_count": 2,
      "outputs": []
    },
    {
      "cell_type": "code",
      "metadata": {
        "colab": {
          "base_uri": "https://localhost:8080/"
        },
        "id": "STCvkJifKiHg",
        "outputId": "387f9306-af3e-4fdd-8269-6e555d4c77ec"
      },
      "source": [
        "import sys\n",
        "\n",
        "\n",
        "def caesar():\n",
        "    key = 1\n",
        "    is_error = False\n",
        "\n",
        "    for index, arg in enumerate(sys.argv):\n",
        "        if arg in ['--key', '-k'] and len(sys.argv) > index + 1:\n",
        "            key = int(sys.argv[index + 1])\n",
        "            del sys.argv[index]\n",
        "            del sys.argv[index]\n",
        "            break\n",
        "\n",
        "    for index, arg in enumerate(sys.argv):\n",
        "        if arg in ['--encrypt', '-e']:\n",
        "            del sys.argv[index]\n",
        "            break\n",
        "        if arg in ['--decrypt', '-d']:\n",
        "            key = -key\n",
        "            del sys.argv[index]\n",
        "            break\n",
        "\n",
        "    if len(sys.argv) == 1:\n",
        "        is_error = True\n",
        "    else:\n",
        "        for arg in sys.argv:\n",
        "            if arg.startswith('-'):\n",
        "                is_error = True\n",
        "\n",
        "    if is_error:\n",
        "        print(f'Usage: python {sys.argv[0]} [ --key <key> ] [ --encrypt|decrypt ] <text>')\n",
        "    else:\n",
        "        print(encrypt(' '.join(sys.argv[1:]), key))\n",
        "\n",
        "if __name__ == '__main__':\n",
        "    caesar()"
      ],
      "execution_count": 4,
      "outputs": [
        {
          "output_type": "stream",
          "text": [
            "Usage: python /usr/local/lib/python3.7/dist-packages/ipykernel_launcher.py [ --key <key> ] [ --encrypt|decrypt ] <text>\n"
          ],
          "name": "stdout"
        }
      ]
    },
    {
      "cell_type": "code",
      "metadata": {
        "id": "A9fvzhl7KokH"
      },
      "source": [
        "import argparse\n",
        "\n",
        "def caesar():\n",
        "    parser = argparse.ArgumentParser()\n",
        "    group = parser.add_mutually_exclusive_group()\n",
        "    group.add_argument('-e', '--encrypt', action='store_true')\n",
        "    group.add_argument('-d', '--decrypt', action='store_true')\n",
        "    parser.add_argument('text', nargs='*')\n",
        "    parser.add_argument('-k', '--key', type=int, default=1)\n",
        "    args = parser.parse_args()\n",
        "\n",
        "    text_string = ' '.join(args.text)\n",
        "    key = args.key\n",
        "    if args.decrypt:\n",
        "        key = -key\n",
        "    cyphertext = encrypt(text_string, key)\n",
        "    print(cyphertext)\n",
        "\n",
        "if __name__ == '__main__':\n",
        "    caesar()"
      ],
      "execution_count": 6,
      "outputs": []
    }
  ]
}