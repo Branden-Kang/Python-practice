{
  "nbformat": 4,
  "nbformat_minor": 0,
  "metadata": {
    "colab": {
      "name": "Python Itertools and more_itertools.ipynb",
      "provenance": [],
      "collapsed_sections": [],
      "authorship_tag": "ABX9TyPaOjOv6U4BMcmCzR6Gx89P"
    },
    "kernelspec": {
      "name": "python3",
      "display_name": "Python 3"
    },
    "language_info": {
      "name": "python"
    }
  },
  "cells": [
    {
      "cell_type": "markdown",
      "metadata": {
        "id": "O0RCs8Fg28Xs"
      },
      "source": [
        "[Reference1](https://towardsdatascience.com/tour-of-python-itertools-2af84db18a5e) <br>\n",
        "[Reference2](https://docs.python.org/3/library/itertools.html#itertools-recipes)"
      ]
    },
    {
      "cell_type": "markdown",
      "metadata": {
        "id": "mZv2GSzR24n3"
      },
      "source": [
        "# Compress"
      ]
    },
    {
      "cell_type": "code",
      "metadata": {
        "colab": {
          "base_uri": "https://localhost:8080/"
        },
        "id": "Mem9Seme2y2p",
        "outputId": "7e01416e-532c-4247-bd5e-b728141d75de"
      },
      "source": [
        "dates = [\n",
        "    \"2020-01-01\",\n",
        "    \"2020-02-04\",\n",
        "    \"2020-02-01\",\n",
        "    \"2020-01-24\",\n",
        "    \"2020-01-08\",\n",
        "    \"2020-02-10\",\n",
        "    \"2020-02-15\",\n",
        "    \"2020-02-11\",\n",
        "]\n",
        "\n",
        "counts = [1, 4, 3, 8, 0, 7, 9, 2]\n",
        "\n",
        "from itertools import compress\n",
        "bools = [n > 3 for n in counts]\n",
        "print(list(compress(dates, bools)))  # Compress returns iterator!"
      ],
      "execution_count": 1,
      "outputs": [
        {
          "output_type": "stream",
          "text": [
            "['2020-02-04', '2020-01-24', '2020-02-10', '2020-02-15']\n"
          ],
          "name": "stdout"
        }
      ]
    },
    {
      "cell_type": "markdown",
      "metadata": {
        "id": "WxOYby873AGx"
      },
      "source": [
        "# Accumulate"
      ]
    },
    {
      "cell_type": "code",
      "metadata": {
        "colab": {
          "base_uri": "https://localhost:8080/"
        },
        "id": "ozPXMS_K22Ke",
        "outputId": "2d075373-5438-4ce3-fe0d-c0040fd91015"
      },
      "source": [
        "from itertools import accumulate\n",
        "import operator\n",
        "\n",
        "data = [3, 4, 1, 3, 5, 6, 9, 0, 1]\n",
        "\n",
        "list(accumulate(data, max))  # running maximum\n",
        "\n",
        "list(accumulate(range(1, 11), operator.mul))  # Factorial"
      ],
      "execution_count": 2,
      "outputs": [
        {
          "output_type": "execute_result",
          "data": {
            "text/plain": [
              "[1, 2, 6, 24, 120, 720, 5040, 40320, 362880, 3628800]"
            ]
          },
          "metadata": {
            "tags": []
          },
          "execution_count": 2
        }
      ]
    },
    {
      "cell_type": "markdown",
      "metadata": {
        "id": "qLQ4YiXN3Diz"
      },
      "source": [
        "# Cycle"
      ]
    },
    {
      "cell_type": "code",
      "metadata": {
        "id": "Wn3IOMmP3Ccp"
      },
      "source": [
        "# Cycling through players\n",
        "from itertools import cycle\n",
        "\n",
        "players = [\"John\", \"Ben\", \"Martin\", \"Peter\"]\n",
        "\n",
        "next_player = cycle(players).__next__\n",
        "player = next_player()\n",
        "\n",
        "player = next_player()\n",
        "\n",
        "# Infinite Spinner\n",
        "import time\n",
        "\n",
        "for c in cycle('/-\\|'):\n",
        "    print(c, end = '\\r')\n",
        "    time.sleep(0.2)"
      ],
      "execution_count": 6,
      "outputs": []
    },
    {
      "cell_type": "markdown",
      "metadata": {
        "id": "Ie7P7Mh63Ibw"
      },
      "source": [
        "# Tee"
      ]
    },
    {
      "cell_type": "code",
      "metadata": {
        "id": "elkYGPRV3Gq6"
      },
      "source": [
        "from itertools import tee\n",
        "\n",
        "def pairwise(iterable):\n",
        "    \"\"\"\n",
        "    s -> (s0, s1), (s1, s2), (s2, s3), ...\n",
        "    \"\"\"\n",
        "    a, b = tee(iterable, 2)\n",
        "    next(b, None)\n",
        "    return zip(a, b)"
      ],
      "execution_count": 4,
      "outputs": []
    },
    {
      "cell_type": "markdown",
      "metadata": {
        "id": "x7LQh0bF3NCp"
      },
      "source": [
        "# more_itertools"
      ]
    },
    {
      "cell_type": "markdown",
      "metadata": {
        "id": "AuKJ15TZ3Oa4"
      },
      "source": [
        "# Divide"
      ]
    },
    {
      "cell_type": "code",
      "metadata": {
        "colab": {
          "base_uri": "https://localhost:8080/"
        },
        "id": "ao1WxdzM3LQf",
        "outputId": "accb54c5-42f3-44ed-d2cc-cbe4c6483a25"
      },
      "source": [
        "from more_itertools import divide\n",
        "data = [\"first\", \"second\", \"third\", \"fourth\", \"fifth\", \"sixth\", \"seventh\"]\n",
        "\n",
        "[list(l) for l in divide(3, data)]"
      ],
      "execution_count": 5,
      "outputs": [
        {
          "output_type": "execute_result",
          "data": {
            "text/plain": [
              "[['first', 'second', 'third'], ['fourth', 'fifth'], ['sixth', 'seventh']]"
            ]
          },
          "metadata": {
            "tags": []
          },
          "execution_count": 5
        }
      ]
    },
    {
      "cell_type": "markdown",
      "metadata": {
        "id": "x4OWI7WS4Th9"
      },
      "source": [
        "# Partition"
      ]
    },
    {
      "cell_type": "code",
      "metadata": {
        "colab": {
          "base_uri": "https://localhost:8080/"
        },
        "id": "fUWjl73o3P8M",
        "outputId": "6b75944f-5662-47aa-a9c1-7c93ecc2b29b"
      },
      "source": [
        "# Split based on age\n",
        "from datetime import datetime, timedelta\n",
        "from more_itertools import partition\n",
        "\n",
        "dates = [ \n",
        "    datetime(2015, 1, 15),\n",
        "    datetime(2020, 1, 16),\n",
        "    datetime(2020, 1, 17),\n",
        "    datetime(2019, 2, 1),\n",
        "    datetime(2020, 2, 2),\n",
        "    datetime(2018, 2, 4)\n",
        "]\n",
        "\n",
        "is_old = lambda x: datetime.now() - x < timedelta(days=30)\n",
        "old, recent = partition(is_old, dates)\n",
        "list(old)\n",
        "#  [datetime.datetime(2015, 1, 15, 0, 0), datetime.datetime(2019, 2, 1, 0, 0), datetime.datetime(2018, 2, 4, 0, 0)]\n",
        "list(recent)\n",
        "#  [datetime.datetime(2020, 1, 16, 0, 0), datetime.datetime(2020, 1, 17, 0, 0), datetime.datetime(2020, 2, 2, 0, 0)]\n",
        "\n",
        "\n",
        "# Split based on file extension\n",
        "files = [\n",
        "    \"foo.jpg\",\n",
        "    \"bar.exe\",\n",
        "    \"baz.gif\",\n",
        "    \"text.txt\",\n",
        "    \"data.bin\",\n",
        "]\n",
        "\n",
        "ALLOWED_EXTENSIONS = ('jpg','jpeg','gif','bmp','png')\n",
        "is_allowed = lambda x: x.split(\".\")[1] in ALLOWED_EXTENSIONS\n",
        "\n",
        "allowed, forbidden = partition(is_allowed, files)\n",
        "list(allowed)\n",
        "#  ['bar.exe', 'text.txt', 'data.bin']\n",
        "list(forbidden)\n",
        "#  ['foo.jpg', 'baz.gif']"
      ],
      "execution_count": 7,
      "outputs": [
        {
          "output_type": "execute_result",
          "data": {
            "text/plain": [
              "['foo.jpg', 'baz.gif']"
            ]
          },
          "metadata": {
            "tags": []
          },
          "execution_count": 7
        }
      ]
    },
    {
      "cell_type": "markdown",
      "metadata": {
        "id": "hEJDvvFE4cHq"
      },
      "source": [
        "# Consecutive_groups"
      ]
    },
    {
      "cell_type": "code",
      "metadata": {
        "id": "1bfwCIpa4eKN"
      },
      "source": [
        "# Consecutive Groups of dates\n",
        "import datetime\n",
        "import more_itertools\n",
        "  \n",
        "dates = [ \n",
        "    datetime.datetime(2020, 1, 15),\n",
        "    datetime.datetime(2020, 1, 16),\n",
        "    datetime.datetime(2020, 1, 17),\n",
        "    datetime.datetime(2020, 2, 1),\n",
        "    datetime.datetime(2020, 2, 2),\n",
        "    datetime.datetime(2020, 2, 4)\n",
        "]\n",
        "\n",
        "ordinal_dates = []\n",
        "for d in dates:\n",
        "    ordinal_dates.append(d.toordinal())\n",
        "\n",
        "groups = [list(map(datetime.datetime.fromordinal, group)) for group in more_itertools.consecutive_groups(ordinal_dates)]"
      ],
      "execution_count": 8,
      "outputs": []
    },
    {
      "cell_type": "code",
      "metadata": {
        "colab": {
          "base_uri": "https://localhost:8080/"
        },
        "id": "BjBNEb904fVf",
        "outputId": "3b830688-8855-4c23-bb9f-ac65fdf76a4e"
      },
      "source": [
        "groups"
      ],
      "execution_count": 9,
      "outputs": [
        {
          "output_type": "execute_result",
          "data": {
            "text/plain": [
              "[[datetime.datetime(2020, 1, 15, 0, 0),\n",
              "  datetime.datetime(2020, 1, 16, 0, 0),\n",
              "  datetime.datetime(2020, 1, 17, 0, 0)],\n",
              " [datetime.datetime(2020, 2, 1, 0, 0), datetime.datetime(2020, 2, 2, 0, 0)],\n",
              " [datetime.datetime(2020, 2, 4, 0, 0)]]"
            ]
          },
          "metadata": {
            "tags": []
          },
          "execution_count": 9
        }
      ]
    },
    {
      "cell_type": "markdown",
      "metadata": {
        "id": "2V8K_j0O5RYp"
      },
      "source": [
        "# Side_effect"
      ]
    },
    {
      "cell_type": "code",
      "metadata": {
        "colab": {
          "base_uri": "https://localhost:8080/",
          "height": 130
        },
        "id": "9yFWv4dM5HsC",
        "outputId": "60baff7f-d51c-4528-bc4c-ae92dcee9235"
      },
      "source": [
        "import more_itertools\n",
        "num_events = 0\n",
        "\n",
        "def _increment_num_events(_):\n",
        "    nonlocal num_events\n",
        "    num_events += 1\n",
        "\n",
        "# Iterator that will be consumed\n",
        "event_iterator = more_itertools.side_effect(_increment_num_events, events)\n",
        "\n",
        "more_itertools.consume(event_iterator)\n",
        "\n",
        "print(num_events)"
      ],
      "execution_count": 15,
      "outputs": [
        {
          "output_type": "error",
          "ename": "SyntaxError",
          "evalue": "ignored",
          "traceback": [
            "\u001b[0;36m  File \u001b[0;32m\"<ipython-input-15-05bf9d8feca5>\"\u001b[0;36m, line \u001b[0;32m5\u001b[0m\n\u001b[0;31m    nonlocal num_events\u001b[0m\n\u001b[0m    ^\u001b[0m\n\u001b[0;31mSyntaxError\u001b[0m\u001b[0;31m:\u001b[0m no binding for nonlocal 'num_events' found\n"
          ]
        }
      ]
    },
    {
      "cell_type": "markdown",
      "metadata": {
        "id": "cs5kaKL45a0o"
      },
      "source": [
        "# Collapse"
      ]
    },
    {
      "cell_type": "code",
      "metadata": {
        "colab": {
          "base_uri": "https://localhost:8080/"
        },
        "id": "x5d9WjDZ5Uve",
        "outputId": "5788b36f-3ce0-4ad8-9f58-72fb371d6dd3"
      },
      "source": [
        "import more_itertools\n",
        "import os\n",
        "\n",
        "# Get flat list of all files and directories\n",
        "# list(more_itertools.collapse(list(os.walk(\"/home/martin/Downloads\"))))\n",
        "\n",
        "# Get all nodes of tree into flat list\n",
        "tree = [40, [25, [10, 3, 17], [32, 30, 38]], [78, 50, 93]]  # [Root, SUB_TREE_1, SUB_TREE_2, ..., SUB_TREE_n]\n",
        "list(more_itertools.collapse(tree))"
      ],
      "execution_count": 16,
      "outputs": [
        {
          "output_type": "execute_result",
          "data": {
            "text/plain": [
              "[40, 25, 10, 3, 17, 32, 30, 38, 78, 50, 93]"
            ]
          },
          "metadata": {
            "tags": []
          },
          "execution_count": 16
        }
      ]
    },
    {
      "cell_type": "markdown",
      "metadata": {
        "id": "3BB-Pkgc5iIy"
      },
      "source": [
        "# Split_at"
      ]
    },
    {
      "cell_type": "code",
      "metadata": {
        "colab": {
          "base_uri": "https://localhost:8080/"
        },
        "id": "hsNk70vQ5dk-",
        "outputId": "7709a423-81a4-452d-ab90-6adc265f2682"
      },
      "source": [
        "import more_itertools\n",
        "\n",
        "lines = [\n",
        "    \"erhgedrgh\",\n",
        "    \"erhgedrghed\",\n",
        "    \"esdrhesdresr\",\n",
        "    \"ktguygkyuk\",\n",
        "    \"-------------\",\n",
        "    \"srdthsrdt\",\n",
        "    \"waefawef\",\n",
        "    \"ryjrtyfj\",\n",
        "    \"-------------\",\n",
        "    \"edthedt\",\n",
        "    \"awefawe\",\n",
        "]\n",
        "\n",
        "list(more_itertools.split_at(lines, lambda x: '-------------' in x))"
      ],
      "execution_count": 17,
      "outputs": [
        {
          "output_type": "execute_result",
          "data": {
            "text/plain": [
              "[['erhgedrgh', 'erhgedrghed', 'esdrhesdresr', 'ktguygkyuk'],\n",
              " ['srdthsrdt', 'waefawef', 'ryjrtyfj'],\n",
              " ['edthedt', 'awefawe']]"
            ]
          },
          "metadata": {
            "tags": []
          },
          "execution_count": 17
        }
      ]
    },
    {
      "cell_type": "markdown",
      "metadata": {
        "id": "8R3kppm35oRn"
      },
      "source": [
        "# Bucket"
      ]
    },
    {
      "cell_type": "code",
      "metadata": {
        "colab": {
          "base_uri": "https://localhost:8080/"
        },
        "id": "fq7NpiE65kZq",
        "outputId": "aa994269-5863-4d90-acaa-ee2e303d367f"
      },
      "source": [
        "# Split based on Object Type\n",
        "import more_itertools\n",
        "\n",
        "class Cube:\n",
        "    pass\n",
        "\n",
        "class Circle:\n",
        "    pass\n",
        "\n",
        "class Triangle:\n",
        "    pass\n",
        "\n",
        "shapes = [Circle(), Cube(), Circle(), Circle(), Cube(), Triangle(), Triangle()]\n",
        "s = more_itertools.bucket(shapes, key=lambda x: type(x))\n",
        "list(s[Cube])\n",
        "list(s[Circle])"
      ],
      "execution_count": 18,
      "outputs": [
        {
          "output_type": "execute_result",
          "data": {
            "text/plain": [
              "[<__main__.Circle at 0x7fe652181f50>,\n",
              " <__main__.Circle at 0x7fe652181dd0>,\n",
              " <__main__.Circle at 0x7fe652181fd0>]"
            ]
          },
          "metadata": {
            "tags": []
          },
          "execution_count": 18
        }
      ]
    },
    {
      "cell_type": "markdown",
      "metadata": {
        "id": "Ak7vfnWB5v8y"
      },
      "source": [
        "# Map_reduce"
      ]
    },
    {
      "cell_type": "code",
      "metadata": {
        "colab": {
          "base_uri": "https://localhost:8080/"
        },
        "id": "rMRJRFTK5r8s",
        "outputId": "e579c662-b37d-4b92-ffcd-dfc973ef59d8"
      },
      "source": [
        "from more_itertools import map_reduce\n",
        "data = 'This sentence has words of various lengths in it, both short ones and long ones'.split()\n",
        "\n",
        "keyfunc = lambda x: len(x)\n",
        "result = map_reduce(data, keyfunc)\n",
        "print(result)\n",
        "\n",
        "valuefunc = lambda x: 1\n",
        "result = map_reduce(data, keyfunc, valuefunc)\n",
        "print(result)\n",
        "\n",
        "reducefunc = sum\n",
        "result = map_reduce(data, keyfunc, valuefunc, reducefunc)\n",
        "print(result)"
      ],
      "execution_count": 19,
      "outputs": [
        {
          "output_type": "stream",
          "text": [
            "defaultdict(None, {4: ['This', 'both', 'ones', 'long', 'ones'], 8: ['sentence'], 3: ['has', 'it,', 'and'], 5: ['words', 'short'], 2: ['of', 'in'], 7: ['various', 'lengths']})\n",
            "defaultdict(None, {4: [1, 1, 1, 1, 1], 8: [1], 3: [1, 1, 1], 5: [1, 1], 2: [1, 1], 7: [1, 1]})\n",
            "defaultdict(None, {4: 5, 8: 1, 3: 3, 5: 2, 2: 2, 7: 2})\n"
          ],
          "name": "stdout"
        }
      ]
    },
    {
      "cell_type": "markdown",
      "metadata": {
        "id": "bmaErKOr55HJ"
      },
      "source": [
        "# Sort_together"
      ]
    },
    {
      "cell_type": "code",
      "metadata": {
        "colab": {
          "base_uri": "https://localhost:8080/"
        },
        "id": "R3Au7kJ-53Kc",
        "outputId": "437d4429-acb7-44af-eb7e-6f9bff4e48b0"
      },
      "source": [
        "from more_itertools import sort_together\n",
        "cols = [\n",
        "    (\"John\", \"Ben\", \"Andy\", \"Mary\"),\n",
        "    (\"1994-02-06\", \"1985-04-01\", \"2000-06-25\", \"1998-03-14\"),\n",
        "    (\"2020-01-06\", \"2019-03-07\", \"2020-01-08\", \"2018-08-15\")\n",
        "]\n",
        "\n",
        "sort_together(cols, key_list=(1, 2))"
      ],
      "execution_count": 20,
      "outputs": [
        {
          "output_type": "execute_result",
          "data": {
            "text/plain": [
              "[('Ben', 'John', 'Mary', 'Andy'),\n",
              " ('1985-04-01', '1994-02-06', '1998-03-14', '2000-06-25'),\n",
              " ('2019-03-07', '2020-01-06', '2018-08-15', '2020-01-08')]"
            ]
          },
          "metadata": {
            "tags": []
          },
          "execution_count": 20
        }
      ]
    },
    {
      "cell_type": "markdown",
      "metadata": {
        "id": "iw5IIHY65_-u"
      },
      "source": [
        "# Seekable"
      ]
    },
    {
      "cell_type": "code",
      "metadata": {
        "colab": {
          "base_uri": "https://localhost:8080/",
          "height": 402
        },
        "id": "u3DoZiqi59NA",
        "outputId": "d8f69314-8e03-49f4-bf18-0474fd796d92"
      },
      "source": [
        "from more_itertools import seekable\n",
        "\n",
        "data = \"This is example sentence for seeking back and forth\".split()\n",
        "\n",
        "it = seekable(data)\n",
        "for word in it:\n",
        "    ...\n",
        "\n",
        "next(it)\n",
        "\n",
        "it.seek(3)\n",
        "next(it)"
      ],
      "execution_count": 21,
      "outputs": [
        {
          "output_type": "error",
          "ename": "StopIteration",
          "evalue": "ignored",
          "traceback": [
            "\u001b[0;31m---------------------------------------------------------------------------\u001b[0m",
            "\u001b[0;31mStopIteration\u001b[0m                             Traceback (most recent call last)",
            "\u001b[0;32m<ipython-input-21-b9ca6239ff7a>\u001b[0m in \u001b[0;36m<module>\u001b[0;34m()\u001b[0m\n\u001b[1;32m      7\u001b[0m     \u001b[0;34m...\u001b[0m\u001b[0;34m\u001b[0m\u001b[0;34m\u001b[0m\u001b[0m\n\u001b[1;32m      8\u001b[0m \u001b[0;34m\u001b[0m\u001b[0m\n\u001b[0;32m----> 9\u001b[0;31m \u001b[0mnext\u001b[0m\u001b[0;34m(\u001b[0m\u001b[0mit\u001b[0m\u001b[0;34m)\u001b[0m\u001b[0;34m\u001b[0m\u001b[0;34m\u001b[0m\u001b[0m\n\u001b[0m\u001b[1;32m     10\u001b[0m \u001b[0;34m\u001b[0m\u001b[0m\n\u001b[1;32m     11\u001b[0m \u001b[0mit\u001b[0m\u001b[0;34m.\u001b[0m\u001b[0mseek\u001b[0m\u001b[0;34m(\u001b[0m\u001b[0;36m3\u001b[0m\u001b[0;34m)\u001b[0m\u001b[0;34m\u001b[0m\u001b[0;34m\u001b[0m\u001b[0m\n",
            "\u001b[0;32m/usr/local/lib/python3.7/dist-packages/more_itertools/more.py\u001b[0m in \u001b[0;36m__next__\u001b[0;34m(self)\u001b[0m\n\u001b[1;32m   2666\u001b[0m                 \u001b[0;32mreturn\u001b[0m \u001b[0mitem\u001b[0m\u001b[0;34m\u001b[0m\u001b[0;34m\u001b[0m\u001b[0m\n\u001b[1;32m   2667\u001b[0m \u001b[0;34m\u001b[0m\u001b[0m\n\u001b[0;32m-> 2668\u001b[0;31m         \u001b[0mitem\u001b[0m \u001b[0;34m=\u001b[0m \u001b[0mnext\u001b[0m\u001b[0;34m(\u001b[0m\u001b[0mself\u001b[0m\u001b[0;34m.\u001b[0m\u001b[0m_source\u001b[0m\u001b[0;34m)\u001b[0m\u001b[0;34m\u001b[0m\u001b[0;34m\u001b[0m\u001b[0m\n\u001b[0m\u001b[1;32m   2669\u001b[0m         \u001b[0mself\u001b[0m\u001b[0;34m.\u001b[0m\u001b[0m_cache\u001b[0m\u001b[0;34m.\u001b[0m\u001b[0mappend\u001b[0m\u001b[0;34m(\u001b[0m\u001b[0mitem\u001b[0m\u001b[0;34m)\u001b[0m\u001b[0;34m\u001b[0m\u001b[0;34m\u001b[0m\u001b[0m\n\u001b[1;32m   2670\u001b[0m         \u001b[0;32mreturn\u001b[0m \u001b[0mitem\u001b[0m\u001b[0;34m\u001b[0m\u001b[0;34m\u001b[0m\u001b[0m\n",
            "\u001b[0;31mStopIteration\u001b[0m: "
          ]
        }
      ]
    },
    {
      "cell_type": "markdown",
      "metadata": {
        "id": "P726uy6H6FqY"
      },
      "source": [
        "# Filter_except"
      ]
    },
    {
      "cell_type": "code",
      "metadata": {
        "colab": {
          "base_uri": "https://localhost:8080/"
        },
        "id": "o1Gz4bCj6Cub",
        "outputId": "7c603226-9e2e-4210-e028-af169505852b"
      },
      "source": [
        "from more_itertools import filter_except\n",
        "\n",
        "data = ['1.5', '6', 'not-important', '11', '1.23E-7', 'remove-me', '25', 'trash']\n",
        "list(map(float, filter_except(float, data, TypeError, ValueError)))"
      ],
      "execution_count": 22,
      "outputs": [
        {
          "output_type": "execute_result",
          "data": {
            "text/plain": [
              "[1.5, 6.0, 11.0, 1.23e-07, 25.0]"
            ]
          },
          "metadata": {
            "tags": []
          },
          "execution_count": 22
        }
      ]
    },
    {
      "cell_type": "markdown",
      "metadata": {
        "id": "3sNfnCvu6KFK"
      },
      "source": [
        "# Unique_to_each"
      ]
    },
    {
      "cell_type": "code",
      "metadata": {
        "colab": {
          "base_uri": "https://localhost:8080/"
        },
        "id": "xoiJjuR06HqW",
        "outputId": "e65004c1-fc65-4665-972f-f7490f3a79e5"
      },
      "source": [
        "from more_itertools import unique_to_each\n",
        "\n",
        "# Graph (adjacency list)\n",
        "graph = {'A': {'B', 'E'}, 'B': {'A', 'C'}, 'C': {'B'}, 'D': {'E'}, 'E': {'A', 'D'}}\n",
        "\n",
        "unique_to_each({'B', 'E'}, {'A', 'C'}, {'B'}, {'E'}, {'A', 'D'})"
      ],
      "execution_count": 23,
      "outputs": [
        {
          "output_type": "execute_result",
          "data": {
            "text/plain": [
              "[[], ['C'], [], [], ['D']]"
            ]
          },
          "metadata": {
            "tags": []
          },
          "execution_count": 23
        }
      ]
    },
    {
      "cell_type": "markdown",
      "metadata": {
        "id": "FhsYgSO16RXx"
      },
      "source": [
        "# Numeric_range"
      ]
    },
    {
      "cell_type": "code",
      "metadata": {
        "colab": {
          "base_uri": "https://localhost:8080/"
        },
        "id": "EWY5V7Tu6LmG",
        "outputId": "d21d5406-d584-4e4d-b20f-65c61580a33f"
      },
      "source": [
        "from more_itertools import numeric_range\n",
        "import datetime\n",
        "from decimal import Decimal\n",
        "\n",
        "list(numeric_range(Decimal('1.7'), Decimal('3.5'), Decimal('0.3')))\n",
        "#  [Decimal('1.7'), Decimal('2.0'), Decimal('2.3'), Decimal('2.6'), Decimal('2.9'), Decimal('3.2')]\n",
        "\n",
        "start = datetime.datetime(2020, 2, 10)\n",
        "stop = datetime.datetime(2020, 2, 15)\n",
        "step = datetime.timedelta(days=2)\n",
        "list(numeric_range(start, stop, step))"
      ],
      "execution_count": 24,
      "outputs": [
        {
          "output_type": "execute_result",
          "data": {
            "text/plain": [
              "[datetime.datetime(2020, 2, 10, 0, 0),\n",
              " datetime.datetime(2020, 2, 12, 0, 0),\n",
              " datetime.datetime(2020, 2, 14, 0, 0)]"
            ]
          },
          "metadata": {
            "tags": []
          },
          "execution_count": 24
        }
      ]
    },
    {
      "cell_type": "markdown",
      "metadata": {
        "id": "oewWJlYc6WrI"
      },
      "source": [
        "# Make_decorator"
      ]
    },
    {
      "cell_type": "code",
      "metadata": {
        "colab": {
          "base_uri": "https://localhost:8080/"
        },
        "id": "Dts6BEug6S4G",
        "outputId": "aca6edaf-f671-42f9-85eb-875c56c3ecc2"
      },
      "source": [
        "from more_itertools import make_decorator\n",
        "from more_itertools import map_except\n",
        "\n",
        "mapper_except = make_decorator(map_except, result_index=1)\n",
        "\n",
        "@mapper_except(float, ValueError, TypeError)\n",
        "def read_file(f):\n",
        "    ... # Read mix of text and numbers from file\n",
        "    return ['1.5', '6', 'not-important', '11', '1.23E-7', 'remove-me', '25', 'trash']\n",
        "\n",
        "list(read_file(\"file.txt\"))"
      ],
      "execution_count": 25,
      "outputs": [
        {
          "output_type": "execute_result",
          "data": {
            "text/plain": [
              "[1.5, 6.0, 11.0, 1.23e-07, 25.0]"
            ]
          },
          "metadata": {
            "tags": []
          },
          "execution_count": 25
        }
      ]
    }
  ]
}