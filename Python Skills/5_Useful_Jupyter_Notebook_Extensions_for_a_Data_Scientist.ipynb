{
  "nbformat": 4,
  "nbformat_minor": 0,
  "metadata": {
    "colab": {
      "name": "5 Useful Jupyter Notebook Extensions for a Data Scientist.ipynb",
      "provenance": [],
      "authorship_tag": "ABX9TyNf82FmJnUAfpQoI9VlYMhP"
    },
    "kernelspec": {
      "name": "python3",
      "display_name": "Python 3"
    },
    "language_info": {
      "name": "python"
    }
  },
  "cells": [
    {
      "cell_type": "markdown",
      "source": [
        "[Reference](https://alpersinbalc.medium.com/5-useful-jupyter-notebook-extensions-for-a-data-scientist-f362092366bd)"
      ],
      "metadata": {
        "id": "ZnqozLRGfvrm"
      }
    },
    {
      "cell_type": "markdown",
      "source": [
        "# itables"
      ],
      "metadata": {
        "id": "UgfZwbvXdPsl"
      }
    },
    {
      "cell_type": "code",
      "execution_count": 1,
      "metadata": {
        "colab": {
          "base_uri": "https://localhost:8080/"
        },
        "id": "bnslJrSObNR5",
        "outputId": "4e225b36-2442-4187-9a50-3e4b51d3d4c9"
      },
      "outputs": [
        {
          "output_type": "stream",
          "name": "stdout",
          "text": [
            "Looking in indexes: https://pypi.org/simple, https://us-python.pkg.dev/colab-wheels/public/simple/\n",
            "Collecting itables\n",
            "  Downloading itables-0.4.7-py3-none-any.whl (41 kB)\n",
            "\u001b[K     |████████████████████████████████| 41 kB 263 kB/s \n",
            "\u001b[?25hRequirement already satisfied: IPython in /usr/local/lib/python3.7/dist-packages (from itables) (5.5.0)\n",
            "Requirement already satisfied: pandas in /usr/local/lib/python3.7/dist-packages (from itables) (1.3.5)\n",
            "Requirement already satisfied: pexpect in /usr/local/lib/python3.7/dist-packages (from IPython->itables) (4.8.0)\n",
            "Requirement already satisfied: pickleshare in /usr/local/lib/python3.7/dist-packages (from IPython->itables) (0.7.5)\n",
            "Requirement already satisfied: traitlets>=4.2 in /usr/local/lib/python3.7/dist-packages (from IPython->itables) (5.1.1)\n",
            "Requirement already satisfied: simplegeneric>0.8 in /usr/local/lib/python3.7/dist-packages (from IPython->itables) (0.8.1)\n",
            "Requirement already satisfied: pygments in /usr/local/lib/python3.7/dist-packages (from IPython->itables) (2.6.1)\n",
            "Requirement already satisfied: prompt-toolkit<2.0.0,>=1.0.4 in /usr/local/lib/python3.7/dist-packages (from IPython->itables) (1.0.18)\n",
            "Requirement already satisfied: decorator in /usr/local/lib/python3.7/dist-packages (from IPython->itables) (4.4.2)\n",
            "Requirement already satisfied: setuptools>=18.5 in /usr/local/lib/python3.7/dist-packages (from IPython->itables) (57.4.0)\n",
            "Requirement already satisfied: wcwidth in /usr/local/lib/python3.7/dist-packages (from prompt-toolkit<2.0.0,>=1.0.4->IPython->itables) (0.2.5)\n",
            "Requirement already satisfied: six>=1.9.0 in /usr/local/lib/python3.7/dist-packages (from prompt-toolkit<2.0.0,>=1.0.4->IPython->itables) (1.15.0)\n",
            "Requirement already satisfied: pytz>=2017.3 in /usr/local/lib/python3.7/dist-packages (from pandas->itables) (2022.1)\n",
            "Requirement already satisfied: python-dateutil>=2.7.3 in /usr/local/lib/python3.7/dist-packages (from pandas->itables) (2.8.2)\n",
            "Requirement already satisfied: numpy>=1.17.3 in /usr/local/lib/python3.7/dist-packages (from pandas->itables) (1.21.6)\n",
            "Requirement already satisfied: ptyprocess>=0.5 in /usr/local/lib/python3.7/dist-packages (from pexpect->IPython->itables) (0.7.0)\n",
            "Installing collected packages: itables\n",
            "Successfully installed itables-0.4.7\n"
          ]
        }
      ],
      "source": [
        "pip install itables"
      ]
    },
    {
      "cell_type": "code",
      "source": [
        "!pip install world_bank_data"
      ],
      "metadata": {
        "colab": {
          "base_uri": "https://localhost:8080/"
        },
        "id": "xO2pWCW8bjxP",
        "outputId": "d8771956-9493-4f9b-e3be-eb90fe4d7be0"
      },
      "execution_count": 4,
      "outputs": [
        {
          "output_type": "stream",
          "name": "stdout",
          "text": [
            "Looking in indexes: https://pypi.org/simple, https://us-python.pkg.dev/colab-wheels/public/simple/\n",
            "Collecting world_bank_data\n",
            "  Downloading world_bank_data-0.1.3.tar.gz (12 kB)\n",
            "Requirement already satisfied: pandas in /usr/local/lib/python3.7/dist-packages (from world_bank_data) (1.3.5)\n",
            "Requirement already satisfied: requests in /usr/local/lib/python3.7/dist-packages (from world_bank_data) (2.23.0)\n",
            "Requirement already satisfied: cachetools in /usr/local/lib/python3.7/dist-packages (from world_bank_data) (4.2.4)\n",
            "Requirement already satisfied: pytz>=2017.3 in /usr/local/lib/python3.7/dist-packages (from pandas->world_bank_data) (2022.1)\n",
            "Requirement already satisfied: python-dateutil>=2.7.3 in /usr/local/lib/python3.7/dist-packages (from pandas->world_bank_data) (2.8.2)\n",
            "Requirement already satisfied: numpy>=1.17.3 in /usr/local/lib/python3.7/dist-packages (from pandas->world_bank_data) (1.21.6)\n",
            "Requirement already satisfied: six>=1.5 in /usr/local/lib/python3.7/dist-packages (from python-dateutil>=2.7.3->pandas->world_bank_data) (1.15.0)\n",
            "Requirement already satisfied: chardet<4,>=3.0.2 in /usr/local/lib/python3.7/dist-packages (from requests->world_bank_data) (3.0.4)\n",
            "Requirement already satisfied: urllib3!=1.25.0,!=1.25.1,<1.26,>=1.21.1 in /usr/local/lib/python3.7/dist-packages (from requests->world_bank_data) (1.24.3)\n",
            "Requirement already satisfied: idna<3,>=2.5 in /usr/local/lib/python3.7/dist-packages (from requests->world_bank_data) (2.10)\n",
            "Requirement already satisfied: certifi>=2017.4.17 in /usr/local/lib/python3.7/dist-packages (from requests->world_bank_data) (2022.5.18.1)\n",
            "Building wheels for collected packages: world-bank-data\n",
            "  Building wheel for world-bank-data (setup.py) ... \u001b[?25l\u001b[?25hdone\n",
            "  Created wheel for world-bank-data: filename=world_bank_data-0.1.3-py3-none-any.whl size=11112 sha256=2042fa510d75bcfa10c7176cc46e60f26e67d285cb285907471a2a295584b842\n",
            "  Stored in directory: /root/.cache/pip/wheels/95/74/5e/c32dde16dc1ef8d8e9cf134ac93ae723ffec4f60be9c4873f5\n",
            "Successfully built world-bank-data\n",
            "Installing collected packages: world-bank-data\n",
            "Successfully installed world-bank-data-0.1.3\n"
          ]
        }
      ]
    },
    {
      "cell_type": "code",
      "source": [
        "from itables import init_notebook_mode\n",
        "init_notebook_mode(all_interactive=True)\n",
        "import world_bank_data as wb\n",
        "df = wb.get_countries()\n",
        "df"
      ],
      "metadata": {
        "colab": {
          "base_uri": "https://localhost:8080/",
          "height": 654
        },
        "id": "qggOpqxubbCr",
        "outputId": "9d5f9a33-a2b3-4d7d-d3c1-8e3e1ec7280b"
      },
      "execution_count": 5,
      "outputs": [
        {
          "output_type": "display_data",
          "data": {
            "text/plain": [
              "<IPython.core.display.Javascript object>"
            ],
            "application/javascript": [
              "if (typeof require !== 'undefined')\n",
              "    require.config({\n",
              "        paths: {\n",
              "            jquery: 'https://code.jquery.com/jquery-3.5.1.min',\n",
              "            datatables: 'https://cdn.datatables.net/1.11.3/js/jquery.dataTables.min',\n",
              "        }\n",
              "    });\n"
            ]
          },
          "metadata": {}
        },
        {
          "output_type": "execute_result",
          "data": {
            "text/plain": [
              "    iso2Code                                               name  \\\n",
              "id                                                                \n",
              "ABW       AW                                              Aruba   \n",
              "AFE       ZH                        Africa Eastern and Southern   \n",
              "AFG       AF                                        Afghanistan   \n",
              "AFR       A9                                             Africa   \n",
              "AFW       ZI                         Africa Western and Central   \n",
              "..       ...                                                ...   \n",
              "XZN       A5  Sub-Saharan Africa excluding South Africa and ...   \n",
              "YEM       YE                                        Yemen, Rep.   \n",
              "ZAF       ZA                                       South Africa   \n",
              "ZMB       ZM                                             Zambia   \n",
              "ZWE       ZW                                           Zimbabwe   \n",
              "\n",
              "                         region  \\\n",
              "id                                \n",
              "ABW  Latin America & Caribbean    \n",
              "AFE                  Aggregates   \n",
              "AFG                  South Asia   \n",
              "AFR                  Aggregates   \n",
              "AFW                  Aggregates   \n",
              "..                          ...   \n",
              "XZN                  Aggregates   \n",
              "YEM  Middle East & North Africa   \n",
              "ZAF         Sub-Saharan Africa    \n",
              "ZMB         Sub-Saharan Africa    \n",
              "ZWE         Sub-Saharan Africa    \n",
              "\n",
              "                                           adminregion          incomeLevel  \\\n",
              "id                                                                            \n",
              "ABW                                                             High income   \n",
              "AFE                                                              Aggregates   \n",
              "AFG                                         South Asia           Low income   \n",
              "AFR                                                              Aggregates   \n",
              "AFW                                                              Aggregates   \n",
              "..                                                 ...                  ...   \n",
              "XZN                                                              Aggregates   \n",
              "YEM  Middle East & North Africa (excluding high inc...           Low income   \n",
              "ZAF         Sub-Saharan Africa (excluding high income)  Upper middle income   \n",
              "ZMB         Sub-Saharan Africa (excluding high income)  Lower middle income   \n",
              "ZWE         Sub-Saharan Africa (excluding high income)  Lower middle income   \n",
              "\n",
              "        lendingType capitalCity  longitude  latitude  \n",
              "id                                                    \n",
              "ABW  Not classified  Oranjestad   -70.0167   12.5167  \n",
              "AFE      Aggregates                    NaN       NaN  \n",
              "AFG             IDA       Kabul    69.1761   34.5228  \n",
              "AFR      Aggregates                    NaN       NaN  \n",
              "AFW      Aggregates                    NaN       NaN  \n",
              "..              ...         ...        ...       ...  \n",
              "XZN      Aggregates                    NaN       NaN  \n",
              "YEM             IDA      Sana'a    44.2075   15.3520  \n",
              "ZAF            IBRD    Pretoria    28.1871  -25.7460  \n",
              "ZMB             IDA      Lusaka    28.2937  -15.3982  \n",
              "ZWE           Blend      Harare    31.0672  -17.8312  \n",
              "\n",
              "[299 rows x 9 columns]"
            ],
            "text/html": [
              "\n",
              "  <div id=\"df-60ffdf03-6816-47b0-a7e7-88f4e13b2dcc\">\n",
              "    <div class=\"colab-df-container\">\n",
              "      <table id=\"209c8cee-a0a2-4783-8294-228c50fe30cf\" class=\"display\"style=\"max-width:100%\"><thead>\n",
              "    <tr style=\"text-align: right;\">\n",
              "      <th></th>\n",
              "      <th>iso2Code</th>\n",
              "      <th>name</th>\n",
              "      <th>region</th>\n",
              "      <th>adminregion</th>\n",
              "      <th>incomeLevel</th>\n",
              "      <th>lendingType</th>\n",
              "      <th>capitalCity</th>\n",
              "      <th>longitude</th>\n",
              "      <th>latitude</th>\n",
              "    </tr>\n",
              "    <tr>\n",
              "      <th>id</th>\n",
              "      <th></th>\n",
              "      <th></th>\n",
              "      <th></th>\n",
              "      <th></th>\n",
              "      <th></th>\n",
              "      <th></th>\n",
              "      <th></th>\n",
              "      <th></th>\n",
              "      <th></th>\n",
              "    </tr>\n",
              "  </thead><tbody><tr><td>Loading... (need <a href=https://mwouts.github.io/itables/troubleshooting.html>help</a>?)</td></tr></tbody></table>\n",
              "<link rel=\"stylesheet\" type=\"text/css\" href=\"https://cdn.datatables.net/1.11.3/css/jquery.dataTables.min.css\">\n",
              "<style> table td {\n",
              "    text-overflow: ellipsis;\n",
              "    overflow: hidden;\n",
              "} </style>\n",
              "<style> table th {\n",
              "    text-overflow: ellipsis;\n",
              "    overflow: hidden;\n",
              "} </style>\n",
              "<script type=\"module\">\n",
              "    // Define the table data\n",
              "    const data = [[\"ABW\", \"AW\", \"Aruba\", \"Latin America & Caribbean \", \"\", \"High income\", \"Not classified\", \"Oranjestad\", -70.0167, 12.5167], [\"AFE\", \"ZH\", \"Africa Eastern and Southern\", \"Aggregates\", \"\", \"Aggregates\", \"Aggregates\", \"\", NaN, NaN], [\"AFG\", \"AF\", \"Afghanistan\", \"South Asia\", \"South Asia\", \"Low income\", \"IDA\", \"Kabul\", 69.1761, 34.5228], [\"AFR\", \"A9\", \"Africa\", \"Aggregates\", \"\", \"Aggregates\", \"Aggregates\", \"\", NaN, NaN], [\"AFW\", \"ZI\", \"Africa Western and Central\", \"Aggregates\", \"\", \"Aggregates\", \"Aggregates\", \"\", NaN, NaN], [\"AGO\", \"AO\", \"Angola\", \"Sub-Saharan Africa \", \"Sub-Saharan Africa (excluding high income)\", \"Lower middle income\", \"IBRD\", \"Luanda\", 13.242, -8.81155], [\"ALB\", \"AL\", \"Albania\", \"Europe & Central Asia\", \"Europe & Central Asia (excluding high income)\", \"Upper middle income\", \"IBRD\", \"Tirane\", 19.8172, 41.3317], [\"AND\", \"AD\", \"Andorra\", \"Europe & Central Asia\", \"\", \"High income\", \"Not classified\", \"Andorra la Vella\", 1.5218, 42.5075], [\"ARB\", \"1A\", \"Arab World\", \"Aggregates\", \"\", \"Aggregates\", \"Aggregates\", \"\", NaN, NaN], [\"ARE\", \"AE\", \"United Arab Emirates\", \"Middle East & North Africa\", \"\", \"High income\", \"Not classified\", \"Abu Dhabi\", 54.3705, 24.4764], [\"ARG\", \"AR\", \"Argentina\", \"Latin America & Caribbean \", \"Latin America & Caribbean (excluding high income)\", \"Upper middle income\", \"IBRD\", \"Buenos Aires\", -58.4173, -34.6118], [\"ARM\", \"AM\", \"Armenia\", \"Europe & Central Asia\", \"Europe & Central Asia (excluding high income)\", \"Upper middle income\", \"IBRD\", \"Yerevan\", 44.509, 40.1596], [\"ASM\", \"AS\", \"American Samoa\", \"East Asia & Pacific\", \"East Asia & Pacific (excluding high income)\", \"Upper middle income\", \"Not classified\", \"Pago Pago\", -170.691, -14.2846], [\"ATG\", \"AG\", \"Antigua and Barbuda\", \"Latin America & Caribbean \", \"\", \"High income\", \"IBRD\", \"Saint John's\", -61.8456, 17.1175], [\"AUS\", \"AU\", \"Australia\", \"East Asia & Pacific\", \"\", \"High income\", \"Not classified\", \"Canberra\", 149.129, -35.282], [\"AUT\", \"AT\", \"Austria\", \"Europe & Central Asia\", \"\", \"High income\", \"Not classified\", \"Vienna\", 16.3798, 48.2201], [\"AZE\", \"AZ\", \"Azerbaijan\", \"Europe & Central Asia\", \"Europe & Central Asia (excluding high income)\", \"Upper middle income\", \"IBRD\", \"Baku\", 49.8932, 40.3834], [\"BDI\", \"BI\", \"Burundi\", \"Sub-Saharan Africa \", \"Sub-Saharan Africa (excluding high income)\", \"Low income\", \"IDA\", \"Bujumbura\", 29.3639, -3.3784], [\"BEA\", \"B4\", \"East Asia & Pacific (IBRD-only countries)\", \"Aggregates\", \"\", \"Aggregates\", \"Aggregates\", \"\", NaN, NaN], [\"BEC\", \"B7\", \"Europe & Central Asia (IBRD-only countries)\", \"Aggregates\", \"\", \"Aggregates\", \"Aggregates\", \"\", NaN, NaN], [\"BEL\", \"BE\", \"Belgium\", \"Europe & Central Asia\", \"\", \"High income\", \"Not classified\", \"Brussels\", 4.36761, 50.8371], [\"BEN\", \"BJ\", \"Benin\", \"Sub-Saharan Africa \", \"Sub-Saharan Africa (excluding high income)\", \"Lower middle income\", \"IDA\", \"Porto-Novo\", 2.6323, 6.4779], [\"BFA\", \"BF\", \"Burkina Faso\", \"Sub-Saharan Africa \", \"Sub-Saharan Africa (excluding high income)\", \"Low income\", \"IDA\", \"Ouagadougou\", -1.53395, 12.3605], [\"BGD\", \"BD\", \"Bangladesh\", \"South Asia\", \"South Asia\", \"Lower middle income\", \"IDA\", \"Dhaka\", 90.4113, 23.7055], [\"BGR\", \"BG\", \"Bulgaria\", \"Europe & Central Asia\", \"Europe & Central Asia (excluding high income)\", \"Upper middle income\", \"IBRD\", \"Sofia\", 23.3238, 42.7105], [\"BHI\", \"B1\", \"IBRD countries classified as high income\", \"Aggregates\", \"\", \"Aggregates\", \"Aggregates\", \"\", NaN, NaN], [\"BHR\", \"BH\", \"Bahrain\", \"Middle East & North Africa\", \"\", \"High income\", \"Not classified\", \"Manama\", 50.5354, 26.1921], [\"BHS\", \"BS\", \"Bahamas, The\", \"Latin America & Caribbean \", \"\", \"High income\", \"Not classified\", \"Nassau\", -77.339, 25.0661], [\"BIH\", \"BA\", \"Bosnia and Herzegovina\", \"Europe & Central Asia\", \"Europe & Central Asia (excluding high income)\", \"Upper middle income\", \"IBRD\", \"Sarajevo\", 18.4214, 43.8607], [\"BLA\", \"B2\", \"Latin America & the Caribbean (IBRD-only countries)\", \"Aggregates\", \"\", \"Aggregates\", \"Aggregates\", \"\", NaN, NaN], [\"BLR\", \"BY\", \"Belarus\", \"Europe & Central Asia\", \"Europe & Central Asia (excluding high income)\", \"Upper middle income\", \"IBRD\", \"Minsk\", 27.5766, 53.9678], [\"BLZ\", \"BZ\", \"Belize\", \"Latin America & Caribbean \", \"Latin America & Caribbean (excluding high income)\", \"Lower middle income\", \"IBRD\", \"Belmopan\", -88.7713, 17.2534], [\"BMN\", \"B3\", \"Middle East & North Africa (IBRD-only countries)\", \"Aggregates\", \"\", \"Aggregates\", \"Aggregates\", \"\", NaN, NaN], [\"BMU\", \"BM\", \"Bermuda\", \"North America\", \"\", \"High income\", \"Not classified\", \"Hamilton\", -64.706, 32.3293], [\"BOL\", \"BO\", \"Bolivia\", \"Latin America & Caribbean \", \"Latin America & Caribbean (excluding high income)\", \"Lower middle income\", \"IBRD\", \"La Paz\", -66.1936, -13.9908], [\"BRA\", \"BR\", \"Brazil\", \"Latin America & Caribbean \", \"Latin America & Caribbean (excluding high income)\", \"Upper middle income\", \"IBRD\", \"Brasilia\", -47.9292, -15.7801], [\"BRB\", \"BB\", \"Barbados\", \"Latin America & Caribbean \", \"\", \"High income\", \"Not classified\", \"Bridgetown\", -59.6105, 13.0935], [\"BRN\", \"BN\", \"Brunei Darussalam\", \"East Asia & Pacific\", \"\", \"High income\", \"Not classified\", \"Bandar Seri Begawan\", 114.946, 4.94199], [\"BSS\", \"B6\", \"Sub-Saharan Africa (IBRD-only countries)\", \"Aggregates\", \"\", \"Aggregates\", \"Aggregates\", \"\", NaN, NaN], [\"BTN\", \"BT\", \"Bhutan\", \"South Asia\", \"South Asia\", \"Lower middle income\", \"IDA\", \"Thimphu\", 89.6177, 27.5768], [\"BWA\", \"BW\", \"Botswana\", \"Sub-Saharan Africa \", \"Sub-Saharan Africa (excluding high income)\", \"Upper middle income\", \"IBRD\", \"Gaborone\", 25.9201, -24.6544], [\"CAA\", \"C9\", \"Sub-Saharan Africa (IFC classification)\", \"Aggregates\", \"\", \"Aggregates\", \"Aggregates\", \"\", NaN, NaN], [\"CAF\", \"CF\", \"Central African Republic\", \"Sub-Saharan Africa \", \"Sub-Saharan Africa (excluding high income)\", \"Low income\", \"IDA\", \"Bangui\", 21.6407, 5.63056], [\"CAN\", \"CA\", \"Canada\", \"North America\", \"\", \"High income\", \"Not classified\", \"Ottawa\", -75.6919, 45.4215], [\"CEA\", \"C4\", \"East Asia and the Pacific (IFC classification)\", \"Aggregates\", \"\", \"Aggregates\", \"Aggregates\", \"\", NaN, NaN], [\"CEB\", \"B8\", \"Central Europe and the Baltics\", \"Aggregates\", \"\", \"Aggregates\", \"Aggregates\", \"\", NaN, NaN], [\"CEU\", \"C5\", \"Europe and Central Asia (IFC classification)\", \"Aggregates\", \"\", \"Aggregates\", \"Aggregates\", \"\", NaN, NaN], [\"CHE\", \"CH\", \"Switzerland\", \"Europe & Central Asia\", \"\", \"High income\", \"Not classified\", \"Bern\", 7.44821, 46.948], [\"CHI\", \"JG\", \"Channel Islands\", \"Europe & Central Asia\", \"\", \"High income\", \"Not classified\", \"\", NaN, NaN], [\"CHL\", \"CL\", \"Chile\", \"Latin America & Caribbean \", \"\", \"High income\", \"IBRD\", \"Santiago\", -70.6475, -33.475], [\"CHN\", \"CN\", \"China\", \"East Asia & Pacific\", \"East Asia & Pacific (excluding high income)\", \"Upper middle income\", \"IBRD\", \"Beijing\", 116.286, 40.0495], [\"CIV\", \"CI\", \"Cote d'Ivoire\", \"Sub-Saharan Africa \", \"Sub-Saharan Africa (excluding high income)\", \"Lower middle income\", \"IDA\", \"Yamoussoukro\", -4.0305, 5.332], [\"CLA\", \"C6\", \"Latin America and the Caribbean (IFC classification)\", \"Aggregates\", \"\", \"Aggregates\", \"Aggregates\", \"\", NaN, NaN], [\"CME\", \"C7\", \"Middle East and North Africa (IFC classification)\", \"Aggregates\", \"\", \"Aggregates\", \"Aggregates\", \"\", NaN, NaN], [\"CMR\", \"CM\", \"Cameroon\", \"Sub-Saharan Africa \", \"Sub-Saharan Africa (excluding high income)\", \"Lower middle income\", \"Blend\", \"Yaounde\", 11.5174, 3.8721], [\"COD\", \"CD\", \"Congo, Dem. Rep.\", \"Sub-Saharan Africa \", \"Sub-Saharan Africa (excluding high income)\", \"Low income\", \"IDA\", \"Kinshasa\", 15.3222, -4.325], [\"COG\", \"CG\", \"Congo, Rep.\", \"Sub-Saharan Africa \", \"Sub-Saharan Africa (excluding high income)\", \"Lower middle income\", \"Blend\", \"Brazzaville\", 15.2662, -4.2767], [\"COL\", \"CO\", \"Colombia\", \"Latin America & Caribbean \", \"Latin America & Caribbean (excluding high income)\", \"Upper middle income\", \"IBRD\", \"Bogota\", -74.082, 4.60987], [\"COM\", \"KM\", \"Comoros\", \"Sub-Saharan Africa \", \"Sub-Saharan Africa (excluding high income)\", \"Lower middle income\", \"IDA\", \"Moroni\", 43.2418, -11.6986], [\"CPV\", \"CV\", \"Cabo Verde\", \"Sub-Saharan Africa \", \"Sub-Saharan Africa (excluding high income)\", \"Lower middle income\", \"Blend\", \"Praia\", -23.5087, 14.9218], [\"CRI\", \"CR\", \"Costa Rica\", \"Latin America & Caribbean \", \"Latin America & Caribbean (excluding high income)\", \"Upper middle income\", \"IBRD\", \"San Jose\", -84.0089, 9.63701], [\"CSA\", \"C8\", \"South Asia (IFC classification)\", \"Aggregates\", \"\", \"Aggregates\", \"Aggregates\", \"\", NaN, NaN], [\"CSS\", \"S3\", \"Caribbean small states\", \"Aggregates\", \"\", \"Aggregates\", \"Aggregates\", \"\", NaN, NaN], [\"CUB\", \"CU\", \"Cuba\", \"Latin America & Caribbean \", \"Latin America & Caribbean (excluding high income)\", \"Upper middle income\", \"Not classified\", \"Havana\", -82.3667, 23.1333], [\"CUW\", \"CW\", \"Curacao\", \"Latin America & Caribbean \", \"\", \"High income\", \"Not classified\", \"Willemstad\", NaN, NaN], [\"CYM\", \"KY\", \"Cayman Islands\", \"Latin America & Caribbean \", \"\", \"High income\", \"Not classified\", \"George Town\", -81.3857, 19.3022], [\"CYP\", \"CY\", \"Cyprus\", \"Europe & Central Asia\", \"\", \"High income\", \"Not classified\", \"Nicosia\", 33.3736, 35.1676], [\"CZE\", \"CZ\", \"Czech Republic\", \"Europe & Central Asia\", \"\", \"High income\", \"Not classified\", \"Prague\", 14.4205, 50.0878], [\"DEA\", \"D4\", \"East Asia & Pacific (IDA-eligible countries)\", \"Aggregates\", \"\", \"Aggregates\", \"Aggregates\", \"\", NaN, NaN], [\"DEC\", \"D7\", \"Europe & Central Asia (IDA-eligible countries)\", \"Aggregates\", \"\", \"Aggregates\", \"Aggregates\", \"\", NaN, NaN], [\"DEU\", \"DE\", \"Germany\", \"Europe & Central Asia\", \"\", \"High income\", \"Not classified\", \"Berlin\", 13.4115, 52.5235], [\"DFS\", \"D8\", \"IDA countries classified as Fragile Situations\", \"Aggregates\", \"\", \"Aggregates\", \"Aggregates\", \"\", NaN, NaN], [\"DJI\", \"DJ\", \"Djibouti\", \"Middle East & North Africa\", \"Middle East & North Africa (excluding high income)\", \"Lower middle income\", \"IDA\", \"Djibouti\", 43.1425, 11.5806], [\"DLA\", \"D2\", \"Latin America & the Caribbean (IDA-eligible countries)\", \"Aggregates\", \"\", \"Aggregates\", \"Aggregates\", \"\", NaN, NaN], [\"DMA\", \"DM\", \"Dominica\", \"Latin America & Caribbean \", \"Latin America & Caribbean (excluding high income)\", \"Upper middle income\", \"Blend\", \"Roseau\", -61.39, 15.2976], [\"DMN\", \"D3\", \"Middle East & North Africa (IDA-eligible countries)\", \"Aggregates\", \"\", \"Aggregates\", \"Aggregates\", \"\", NaN, NaN], [\"DNF\", \"D9\", \"IDA countries not classified as Fragile Situations\", \"Aggregates\", \"\", \"Aggregates\", \"Aggregates\", \"\", NaN, NaN], [\"DNK\", \"DK\", \"Denmark\", \"Europe & Central Asia\", \"\", \"High income\", \"Not classified\", \"Copenhagen\", 12.5681, 55.6763], [\"DNS\", \"N6\", \"IDA countries in Sub-Saharan Africa not classified as fragile situations \", \"Aggregates\", \"\", \"Aggregates\", \"Aggregates\", \"\", NaN, NaN], [\"DOM\", \"DO\", \"Dominican Republic\", \"Latin America & Caribbean \", \"Latin America & Caribbean (excluding high income)\", \"Upper middle income\", \"IBRD\", \"Santo Domingo\", -69.8908, 18.479], [\"DSA\", \"D5\", \"South Asia (IDA-eligible countries)\", \"Aggregates\", \"\", \"Aggregates\", \"Aggregates\", \"\", NaN, NaN], [\"DSF\", \"F6\", \"IDA countries in Sub-Saharan Africa classified as fragile situations \", \"Aggregates\", \"\", \"Aggregates\", \"Aggregates\", \"\", NaN, NaN], [\"DSS\", \"D6\", \"Sub-Saharan Africa (IDA-eligible countries)\", \"Aggregates\", \"\", \"Aggregates\", \"Aggregates\", \"\", NaN, NaN], [\"DZA\", \"DZ\", \"Algeria\", \"Middle East & North Africa\", \"Middle East & North Africa (excluding high income)\", \"Lower middle income\", \"IBRD\", \"Algiers\", 3.05097, 36.7397], [\"EAP\", \"4E\", \"East Asia & Pacific (excluding high income)\", \"Aggregates\", \"\", \"Aggregates\", \"Aggregates\", \"\", NaN, NaN], [\"EAR\", \"V2\", \"Early-demographic dividend\", \"Aggregates\", \"\", \"Aggregates\", \"Aggregates\", \"\", NaN, NaN], [\"EAS\", \"Z4\", \"East Asia & Pacific\", \"Aggregates\", \"\", \"Aggregates\", \"Aggregates\", \"\", NaN, NaN], [\"ECA\", \"7E\", \"Europe & Central Asia (excluding high income)\", \"Aggregates\", \"\", \"Aggregates\", \"Aggregates\", \"\", NaN, NaN], [\"ECS\", \"Z7\", \"Europe & Central Asia\", \"Aggregates\", \"\", \"Aggregates\", \"Aggregates\", \"\", NaN, NaN], [\"ECU\", \"EC\", \"Ecuador\", \"Latin America & Caribbean \", \"Latin America & Caribbean (excluding high income)\", \"Upper middle income\", \"IBRD\", \"Quito\", -78.5243, -0.229498], [\"EGY\", \"EG\", \"Egypt, Arab Rep.\", \"Middle East & North Africa\", \"Middle East & North Africa (excluding high income)\", \"Lower middle income\", \"IBRD\", \"Cairo\", 31.2461, 30.0982], [\"EMU\", \"XC\", \"Euro area\", \"Aggregates\", \"\", \"Aggregates\", \"Aggregates\", \"\", NaN, NaN], [\"ERI\", \"ER\", \"Eritrea\", \"Sub-Saharan Africa \", \"Sub-Saharan Africa (excluding high income)\", \"Low income\", \"IDA\", \"Asmara\", 38.9183, 15.3315], [\"ESP\", \"ES\", \"Spain\", \"Europe & Central Asia\", \"\", \"High income\", \"Not classified\", \"Madrid\", -3.70327, 40.4167], [\"EST\", \"EE\", \"Estonia\", \"Europe & Central Asia\", \"\", \"High income\", \"Not classified\", \"Tallinn\", 24.7586, 59.4392], [\"ETH\", \"ET\", \"Ethiopia\", \"Sub-Saharan Africa \", \"Sub-Saharan Africa (excluding high income)\", \"Low income\", \"IDA\", \"Addis Ababa\", 38.7468, 9.02274], [\"EUU\", \"EU\", \"European Union\", \"Aggregates\", \"\", \"Aggregates\", \"Aggregates\", \"\", NaN, NaN], [\"FCS\", \"F1\", \"Fragile and conflict affected situations\", \"Aggregates\", \"\", \"Aggregates\", \"Aggregates\", \"\", NaN, NaN], [\"FIN\", \"FI\", \"Finland\", \"Europe & Central Asia\", \"\", \"High income\", \"Not classified\", \"Helsinki\", 24.9525, 60.1608], [\"FJI\", \"FJ\", \"Fiji\", \"East Asia & Pacific\", \"East Asia & Pacific (excluding high income)\", \"Upper middle income\", \"Blend\", \"Suva\", 178.399, -18.1149], [\"FRA\", \"FR\", \"France\", \"Europe & Central Asia\", \"\", \"High income\", \"Not classified\", \"Paris\", 2.35097, 48.8566], [\"FRO\", \"FO\", \"Faroe Islands\", \"Europe & Central Asia\", \"\", \"High income\", \"Not classified\", \"Torshavn\", -6.91181, 61.8926], [\"FSM\", \"FM\", \"Micronesia, Fed. Sts.\", \"East Asia & Pacific\", \"East Asia & Pacific (excluding high income)\", \"Lower middle income\", \"IDA\", \"Palikir\", 158.185, 6.91771], [\"FXS\", \"6F\", \"IDA countries classified as fragile situations, excluding Sub-Saharan Africa\", \"Aggregates\", \"\", \"Aggregates\", \"Aggregates\", \"\", NaN, NaN], [\"GAB\", \"GA\", \"Gabon\", \"Sub-Saharan Africa \", \"Sub-Saharan Africa (excluding high income)\", \"Upper middle income\", \"IBRD\", \"Libreville\", 9.45162, 0.38832], [\"GBR\", \"GB\", \"United Kingdom\", \"Europe & Central Asia\", \"\", \"High income\", \"Not classified\", \"London\", -0.126236, 51.5002], [\"GEO\", \"GE\", \"Georgia\", \"Europe & Central Asia\", \"Europe & Central Asia (excluding high income)\", \"Upper middle income\", \"IBRD\", \"Tbilisi\", 44.793, 41.71], [\"GHA\", \"GH\", \"Ghana\", \"Sub-Saharan Africa \", \"Sub-Saharan Africa (excluding high income)\", \"Lower middle income\", \"IDA\", \"Accra\", -0.20795, 5.57045], [\"GIB\", \"GI\", \"Gibraltar\", \"Europe & Central Asia\", \"\", \"High income\", \"Not classified\", \"\", NaN, NaN], [\"GIN\", \"GN\", \"Guinea\", \"Sub-Saharan Africa \", \"Sub-Saharan Africa (excluding high income)\", \"Low income\", \"IDA\", \"Conakry\", -13.7, 9.51667], [\"GMB\", \"GM\", \"Gambia, The\", \"Sub-Saharan Africa \", \"Sub-Saharan Africa (excluding high income)\", \"Low income\", \"IDA\", \"Banjul\", -16.5885, 13.4495], [\"GNB\", \"GW\", \"Guinea-Bissau\", \"Sub-Saharan Africa \", \"Sub-Saharan Africa (excluding high income)\", \"Low income\", \"IDA\", \"Bissau\", -15.1804, 11.8037], [\"GNQ\", \"GQ\", \"Equatorial Guinea\", \"Sub-Saharan Africa \", \"Sub-Saharan Africa (excluding high income)\", \"Upper middle income\", \"IBRD\", \"Malabo\", 8.7741, 3.7523], [\"GRC\", \"GR\", \"Greece\", \"Europe & Central Asia\", \"\", \"High income\", \"Not classified\", \"Athens\", 23.7166, 37.9792], [\"GRD\", \"GD\", \"Grenada\", \"Latin America & Caribbean \", \"Latin America & Caribbean (excluding high income)\", \"Upper middle income\", \"Blend\", \"Saint George's\", -61.7449, 12.0653], [\"GRL\", \"GL\", \"Greenland\", \"Europe & Central Asia\", \"\", \"High income\", \"Not classified\", \"Nuuk\", -51.7214, 64.1836], [\"GTM\", \"GT\", \"Guatemala\", \"Latin America & Caribbean \", \"Latin America & Caribbean (excluding high income)\", \"Upper middle income\", \"IBRD\", \"Guatemala City\", -90.5328, 14.6248], [\"GUM\", \"GU\", \"Guam\", \"East Asia & Pacific\", \"\", \"High income\", \"Not classified\", \"Agana\", 144.794, 13.4443], [\"GUY\", \"GY\", \"Guyana\", \"Latin America & Caribbean \", \"Latin America & Caribbean (excluding high income)\", \"Upper middle income\", \"IDA\", \"Georgetown\", -58.1548, 6.80461], [\"HIC\", \"XD\", \"High income\", \"Aggregates\", \"\", \"Aggregates\", \"Aggregates\", \"\", NaN, NaN], [\"HKG\", \"HK\", \"Hong Kong SAR, China\", \"East Asia & Pacific\", \"\", \"High income\", \"Not classified\", \"\", 114.109, 22.3964], [\"HND\", \"HN\", \"Honduras\", \"Latin America & Caribbean \", \"Latin America & Caribbean (excluding high income)\", \"Lower middle income\", \"IDA\", \"Tegucigalpa\", -87.4667, 15.1333], [\"HPC\", \"XE\", \"Heavily indebted poor countries (HIPC)\", \"Aggregates\", \"\", \"Aggregates\", \"Aggregates\", \"\", NaN, NaN], [\"HRV\", \"HR\", \"Croatia\", \"Europe & Central Asia\", \"\", \"High income\", \"IBRD\", \"Zagreb\", 15.9614, 45.8069], [\"HTI\", \"HT\", \"Haiti\", \"Latin America & Caribbean \", \"Latin America & Caribbean (excluding high income)\", \"Lower middle income\", \"IDA\", \"Port-au-Prince\", -72.3288, 18.5392], [\"HUN\", \"HU\", \"Hungary\", \"Europe & Central Asia\", \"\", \"High income\", \"Not classified\", \"Budapest\", 19.0408, 47.4984], [\"IBB\", \"ZB\", \"IBRD, including blend\", \"Aggregates\", \"\", \"Aggregates\", \"Aggregates\", \"\", NaN, NaN], [\"IBD\", \"XF\", \"IBRD only\", \"Aggregates\", \"\", \"Aggregates\", \"Aggregates\", \"\", NaN, NaN], [\"IBT\", \"ZT\", \"IDA & IBRD total\", \"Aggregates\", \"\", \"Aggregates\", \"Aggregates\", \"\", NaN, NaN], [\"IDA\", \"XG\", \"IDA total\", \"Aggregates\", \"\", \"Aggregates\", \"Aggregates\", \"\", NaN, NaN], [\"IDB\", \"XH\", \"IDA blend\", \"Aggregates\", \"\", \"Aggregates\", \"Aggregates\", \"\", NaN, NaN], [\"IDN\", \"ID\", \"Indonesia\", \"East Asia & Pacific\", \"East Asia & Pacific (excluding high income)\", \"Lower middle income\", \"IBRD\", \"Jakarta\", 106.83, -6.19752], [\"IDX\", \"XI\", \"IDA only\", \"Aggregates\", \"\", \"Aggregates\", \"Aggregates\", \"\", NaN, NaN], [\"IMN\", \"IM\", \"Isle of Man\", \"Europe & Central Asia\", \"\", \"High income\", \"Not classified\", \"Douglas\", -4.47928, 54.1509], [\"IND\", \"IN\", \"India\", \"South Asia\", \"South Asia\", \"Lower middle income\", \"IBRD\", \"New Delhi\", 77.225, 28.6353], [\"INX\", \"XY\", \"Not classified\", \"Aggregates\", \"\", \"Aggregates\", \"Aggregates\", \"\", NaN, NaN], [\"IRL\", \"IE\", \"Ireland\", \"Europe & Central Asia\", \"\", \"High income\", \"Not classified\", \"Dublin\", -6.26749, 53.3441], [\"IRN\", \"IR\", \"Iran, Islamic Rep.\", \"Middle East & North Africa\", \"Middle East & North Africa (excluding high income)\", \"Lower middle income\", \"IBRD\", \"Tehran\", 51.4447, 35.6878], [\"IRQ\", \"IQ\", \"Iraq\", \"Middle East & North Africa\", \"Middle East & North Africa (excluding high income)\", \"Upper middle income\", \"IBRD\", \"Baghdad\", 44.394, 33.3302], [\"ISL\", \"IS\", \"Iceland\", \"Europe & Central Asia\", \"\", \"High income\", \"Not classified\", \"Reykjavik\", -21.8952, 64.1353], [\"ISR\", \"IL\", \"Israel\", \"Middle East & North Africa\", \"\", \"High income\", \"Not classified\", \"\", 35.2035, 31.7717], [\"ITA\", \"IT\", \"Italy\", \"Europe & Central Asia\", \"\", \"High income\", \"Not classified\", \"Rome\", 12.4823, 41.8955], [\"JAM\", \"JM\", \"Jamaica\", \"Latin America & Caribbean \", \"Latin America & Caribbean (excluding high income)\", \"Upper middle income\", \"IBRD\", \"Kingston\", -76.792, 17.9927], [\"JOR\", \"JO\", \"Jordan\", \"Middle East & North Africa\", \"Middle East & North Africa (excluding high income)\", \"Upper middle income\", \"IBRD\", \"Amman\", 35.9263, 31.9497], [\"JPN\", \"JP\", \"Japan\", \"East Asia & Pacific\", \"\", \"High income\", \"Not classified\", \"Tokyo\", 139.77, 35.67], [\"KAZ\", \"KZ\", \"Kazakhstan\", \"Europe & Central Asia\", \"Europe & Central Asia (excluding high income)\", \"Upper middle income\", \"IBRD\", \"Astana\", 71.4382, 51.1879], [\"KEN\", \"KE\", \"Kenya\", \"Sub-Saharan Africa \", \"Sub-Saharan Africa (excluding high income)\", \"Lower middle income\", \"Blend\", \"Nairobi\", 36.8126, -1.27975], [\"KGZ\", \"KG\", \"Kyrgyz Republic\", \"Europe & Central Asia\", \"Europe & Central Asia (excluding high income)\", \"Lower middle income\", \"IDA\", \"Bishkek\", 74.6057, 42.8851], [\"KHM\", \"KH\", \"Cambodia\", \"East Asia & Pacific\", \"East Asia & Pacific (excluding high income)\", \"Lower middle income\", \"IDA\", \"Phnom Penh\", 104.874, 11.5556], [\"KIR\", \"KI\", \"Kiribati\", \"East Asia & Pacific\", \"East Asia & Pacific (excluding high income)\", \"Lower middle income\", \"IDA\", \"Tarawa\", 172.979, 1.32905], [\"KNA\", \"KN\", \"St. Kitts and Nevis\", \"Latin America & Caribbean \", \"\", \"High income\", \"IBRD\", \"Basseterre\", -62.7309, 17.3], [\"KOR\", \"KR\", \"Korea, Rep.\", \"East Asia & Pacific\", \"\", \"High income\", \"Not classified\", \"Seoul\", 126.957, 37.5323], [\"KWT\", \"KW\", \"Kuwait\", \"Middle East & North Africa\", \"\", \"High income\", \"Not classified\", \"Kuwait City\", 47.9824, 29.3721], [\"LAC\", \"XJ\", \"Latin America & Caribbean (excluding high income)\", \"Aggregates\", \"\", \"Aggregates\", \"Aggregates\", \"\", NaN, NaN], [\"LAO\", \"LA\", \"Lao PDR\", \"East Asia & Pacific\", \"East Asia & Pacific (excluding high income)\", \"Lower middle income\", \"IDA\", \"Vientiane\", 102.177, 18.5826], [\"LBN\", \"LB\", \"Lebanon\", \"Middle East & North Africa\", \"Middle East & North Africa (excluding high income)\", \"Upper middle income\", \"IBRD\", \"Beirut\", 35.5134, 33.8872], [\"LBR\", \"LR\", \"Liberia\", \"Sub-Saharan Africa \", \"Sub-Saharan Africa (excluding high income)\", \"Low income\", \"IDA\", \"Monrovia\", -10.7957, 6.30039], [\"LBY\", \"LY\", \"Libya\", \"Middle East & North Africa\", \"Middle East & North Africa (excluding high income)\", \"Upper middle income\", \"IBRD\", \"Tripoli\", 13.1072, 32.8578], [\"LCA\", \"LC\", \"St. Lucia\", \"Latin America & Caribbean \", \"Latin America & Caribbean (excluding high income)\", \"Upper middle income\", \"Blend\", \"Castries\", -60.9832, 14.0], [\"LCN\", \"ZJ\", \"Latin America & Caribbean \", \"Aggregates\", \"\", \"Aggregates\", \"Aggregates\", \"\", NaN, NaN], [\"LDC\", \"XL\", \"Least developed countries: UN classification\", \"Aggregates\", \"\", \"Aggregates\", \"Aggregates\", \"\", NaN, NaN], [\"LIC\", \"XM\", \"Low income\", \"Aggregates\", \"\", \"Aggregates\", \"Aggregates\", \"\", NaN, NaN], [\"LIE\", \"LI\", \"Liechtenstein\", \"Europe & Central Asia\", \"\", \"High income\", \"Not classified\", \"Vaduz\", 9.52148, 47.1411], [\"LKA\", \"LK\", \"Sri Lanka\", \"South Asia\", \"South Asia\", \"Lower middle income\", \"IBRD\", \"Colombo\", 79.8528, 6.92148], [\"LMC\", \"XN\", \"Lower middle income\", \"Aggregates\", \"\", \"Aggregates\", \"Aggregates\", \"\", NaN, NaN], [\"LMY\", \"XO\", \"Low & middle income\", \"Aggregates\", \"\", \"Aggregates\", \"Aggregates\", \"\", NaN, NaN], [\"LSO\", \"LS\", \"Lesotho\", \"Sub-Saharan Africa \", \"Sub-Saharan Africa (excluding high income)\", \"Lower middle income\", \"IDA\", \"Maseru\", 27.7167, -29.5208], [\"LTE\", \"V3\", \"Late-demographic dividend\", \"Aggregates\", \"\", \"Aggregates\", \"Aggregates\", \"\", NaN, NaN], [\"LTU\", \"LT\", \"Lithuania\", \"Europe & Central Asia\", \"\", \"High income\", \"Not classified\", \"Vilnius\", 25.2799, 54.6896], [\"LUX\", \"LU\", \"Luxembourg\", \"Europe & Central Asia\", \"\", \"High income\", \"Not classified\", \"Luxembourg\", 6.1296, 49.61], [\"LVA\", \"LV\", \"Latvia\", \"Europe & Central Asia\", \"\", \"High income\", \"Not classified\", \"Riga\", 24.1048, 56.9465], [\"MAC\", \"MO\", \"Macao SAR, China\", \"East Asia & Pacific\", \"\", \"High income\", \"Not classified\", \"\", 113.55, 22.1667], [\"MAF\", \"MF\", \"St. Martin (French part)\", \"Latin America & Caribbean \", \"\", \"High income\", \"Not classified\", \"Marigot\", NaN, NaN], [\"MAR\", \"MA\", \"Morocco\", \"Middle East & North Africa\", \"Middle East & North Africa (excluding high income)\", \"Lower middle income\", \"IBRD\", \"Rabat\", -6.8704, 33.9905], [\"MCO\", \"MC\", \"Monaco\", \"Europe & Central Asia\", \"\", \"High income\", \"Not classified\", \"Monaco\", 7.41891, 43.7325], [\"MDA\", \"MD\", \"Moldova\", \"Europe & Central Asia\", \"Europe & Central Asia (excluding high income)\", \"Upper middle income\", \"IBRD\", \"Chisinau\", 28.8497, 47.0167], [\"MDE\", \"M1\", \"Middle East (developing only)\", \"Aggregates\", \"\", \"Aggregates\", \"Aggregates\", \"\", NaN, NaN], [\"MDG\", \"MG\", \"Madagascar\", \"Sub-Saharan Africa \", \"Sub-Saharan Africa (excluding high income)\", \"Low income\", \"IDA\", \"Antananarivo\", 45.7167, -20.4667], [\"MDV\", \"MV\", \"Maldives\", \"South Asia\", \"South Asia\", \"Upper middle income\", \"IDA\", \"Male\", 73.5109, 4.1742], [\"MEA\", \"ZQ\", \"Middle East & North Africa\", \"Aggregates\", \"\", \"Aggregates\", \"Aggregates\", \"\", NaN, NaN], [\"MEX\", \"MX\", \"Mexico\", \"Latin America & Caribbean \", \"Latin America & Caribbean (excluding high income)\", \"Upper middle income\", \"IBRD\", \"Mexico City\", -99.1276, 19.427], [\"MHL\", \"MH\", \"Marshall Islands\", \"East Asia & Pacific\", \"East Asia & Pacific (excluding high income)\", \"Upper middle income\", \"IDA\", \"Majuro\", 171.135, 7.11046], [\"MIC\", \"XP\", \"Middle income\", \"Aggregates\", \"\", \"Aggregates\", \"Aggregates\", \"\", NaN, NaN], [\"MKD\", \"MK\", \"North Macedonia\", \"Europe & Central Asia\", \"Europe & Central Asia (excluding high income)\", \"Upper middle income\", \"IBRD\", \"Skopje\", 21.4361, 42.0024], [\"MLI\", \"ML\", \"Mali\", \"Sub-Saharan Africa \", \"Sub-Saharan Africa (excluding high income)\", \"Low income\", \"IDA\", \"Bamako\", -7.50034, 13.5667], [\"MLT\", \"MT\", \"Malta\", \"Middle East & North Africa\", \"\", \"High income\", \"Not classified\", \"Valletta\", 14.5189, 35.9042], [\"MMR\", \"MM\", \"Myanmar\", \"East Asia & Pacific\", \"East Asia & Pacific (excluding high income)\", \"Lower middle income\", \"IDA\", \"Naypyidaw\", 95.9562, 21.914], [\"MNA\", \"XQ\", \"Middle East & North Africa (excluding high income)\", \"Aggregates\", \"\", \"Aggregates\", \"Aggregates\", \"\", NaN, NaN], [\"MNE\", \"ME\", \"Montenegro\", \"Europe & Central Asia\", \"Europe & Central Asia (excluding high income)\", \"Upper middle income\", \"IBRD\", \"Podgorica\", 19.2595, 42.4602], [\"MNG\", \"MN\", \"Mongolia\", \"East Asia & Pacific\", \"East Asia & Pacific (excluding high income)\", \"Lower middle income\", \"IBRD\", \"Ulaanbaatar\", 106.937, 47.9129], [\"MNP\", \"MP\", \"Northern Mariana Islands\", \"East Asia & Pacific\", \"\", \"High income\", \"Not classified\", \"Saipan\", 145.765, 15.1935], [\"MOZ\", \"MZ\", \"Mozambique\", \"Sub-Saharan Africa \", \"Sub-Saharan Africa (excluding high income)\", \"Low income\", \"IDA\", \"Maputo\", 32.5713, -25.9664], [\"MRT\", \"MR\", \"Mauritania\", \"Sub-Saharan Africa \", \"Sub-Saharan Africa (excluding high income)\", \"Lower middle income\", \"IDA\", \"Nouakchott\", -15.9824, 18.2367], [\"MUS\", \"MU\", \"Mauritius\", \"Sub-Saharan Africa \", \"Sub-Saharan Africa (excluding high income)\", \"Upper middle income\", \"IBRD\", \"Port Louis\", 57.4977, -20.1605], [\"MWI\", \"MW\", \"Malawi\", \"Sub-Saharan Africa \", \"Sub-Saharan Africa (excluding high income)\", \"Low income\", \"IDA\", \"Lilongwe\", 33.7703, -13.9899], [\"MYS\", \"MY\", \"Malaysia\", \"East Asia & Pacific\", \"East Asia & Pacific (excluding high income)\", \"Upper middle income\", \"IBRD\", \"Kuala Lumpur\", 101.684, 3.12433], [\"NAC\", \"XU\", \"North America\", \"Aggregates\", \"\", \"Aggregates\", \"Aggregates\", \"\", NaN, NaN], [\"NAF\", \"M2\", \"North Africa\", \"Aggregates\", \"\", \"Aggregates\", \"Aggregates\", \"\", NaN, NaN], [\"NAM\", \"NA\", \"Namibia\", \"Sub-Saharan Africa \", \"Sub-Saharan Africa (excluding high income)\", \"Upper middle income\", \"IBRD\", \"Windhoek\", 17.0931, -22.5648], [\"NCL\", \"NC\", \"New Caledonia\", \"East Asia & Pacific\", \"\", \"High income\", \"Not classified\", \"Noum'ea\", 166.464, -22.2677], [\"NER\", \"NE\", \"Niger\", \"Sub-Saharan Africa \", \"Sub-Saharan Africa (excluding high income)\", \"Low income\", \"IDA\", \"Niamey\", 2.1073, 13.514], [\"NGA\", \"NG\", \"Nigeria\", \"Sub-Saharan Africa \", \"Sub-Saharan Africa (excluding high income)\", \"Lower middle income\", \"Blend\", \"Abuja\", 7.48906, 9.05804], [\"NIC\", \"NI\", \"Nicaragua\", \"Latin America & Caribbean \", \"Latin America & Caribbean (excluding high income)\", \"Lower middle income\", \"IDA\", \"Managua\", -86.2734, 12.1475], [\"NLD\", \"NL\", \"Netherlands\", \"Europe & Central Asia\", \"\", \"High income\", \"Not classified\", \"Amsterdam\", 4.89095, 52.3738], [\"NOR\", \"NO\", \"Norway\", \"Europe & Central Asia\", \"\", \"High income\", \"Not classified\", \"Oslo\", 10.7387, 59.9138], [\"NPL\", \"NP\", \"Nepal\", \"South Asia\", \"South Asia\", \"Lower middle income\", \"IDA\", \"Kathmandu\", 85.3157, 27.6939], [\"NRS\", \"6X\", \"Non-resource rich Sub-Saharan Africa countries\", \"Aggregates\", \"\", \"Aggregates\", \"Aggregates\", \"\", NaN, NaN], [\"NRU\", \"NR\", \"Nauru\", \"East Asia & Pacific\", \"\", \"High income\", \"IBRD\", \"Yaren District\", 166.920867, -0.5477], [\"NXS\", \"6N\", \"IDA countries not classified as fragile situations, excluding Sub-Saharan Africa\", \"Aggregates\", \"\", \"Aggregates\", \"Aggregates\", \"\", NaN, NaN], [\"NZL\", \"NZ\", \"New Zealand\", \"East Asia & Pacific\", \"\", \"High income\", \"Not classified\", \"Wellington\", 174.776, -41.2865], [\"OED\", \"OE\", \"OECD members\", \"Aggregates\", \"\", \"Aggregates\", \"Aggregates\", \"\", NaN, NaN], [\"OMN\", \"OM\", \"Oman\", \"Middle East & North Africa\", \"\", \"High income\", \"Not classified\", \"Muscat\", 58.5874, 23.6105], [\"OSS\", \"S4\", \"Other small states\", \"Aggregates\", \"\", \"Aggregates\", \"Aggregates\", \"\", NaN, NaN], [\"PAK\", \"PK\", \"Pakistan\", \"South Asia\", \"South Asia\", \"Lower middle income\", \"Blend\", \"Islamabad\", 72.8, 30.5167], [\"PAN\", \"PA\", \"Panama\", \"Latin America & Caribbean \", \"Latin America & Caribbean (excluding high income)\", \"Upper middle income\", \"IBRD\", \"Panama City\", -79.5188, 8.99427], [\"PER\", \"PE\", \"Peru\", \"Latin America & Caribbean \", \"Latin America & Caribbean (excluding high income)\", \"Upper middle income\", \"IBRD\", \"Lima\", -77.0465, -12.0931], [\"PHL\", \"PH\", \"Philippines\", \"East Asia & Pacific\", \"East Asia & Pacific (excluding high income)\", \"Lower middle income\", \"IBRD\", \"Manila\", 121.035, 14.5515], [\"PLW\", \"PW\", \"Palau\", \"East Asia & Pacific\", \"\", \"High income\", \"IBRD\", \"Koror\", 134.479, 7.34194], [\"PNG\", \"PG\", \"Papua New Guinea\", \"East Asia & Pacific\", \"East Asia & Pacific (excluding high income)\", \"Lower middle income\", \"Blend\", \"Port Moresby\", 147.194, -9.47357], [\"POL\", \"PL\", \"Poland\", \"Europe & Central Asia\", \"\", \"High income\", \"IBRD\", \"Warsaw\", 21.02, 52.26], [\"PRE\", \"V1\", \"Pre-demographic dividend\", \"Aggregates\", \"\", \"Aggregates\", \"Aggregates\", \"\", NaN, NaN], [\"PRI\", \"PR\", \"Puerto Rico\", \"Latin America & Caribbean \", \"\", \"High income\", \"Not classified\", \"San Juan\", -66.0, 18.23], [\"PRK\", \"KP\", \"Korea, Dem. People's Rep.\", \"East Asia & Pacific\", \"East Asia & Pacific (excluding high income)\", \"Low income\", \"Not classified\", \"Pyongyang\", 125.754, 39.0319], [\"PRT\", \"PT\", \"Portugal\", \"Europe & Central Asia\", \"\", \"High income\", \"Not classified\", \"Lisbon\", -9.13552, 38.7072], [\"PRY\", \"PY\", \"Paraguay\", \"Latin America & Caribbean \", \"Latin America & Caribbean (excluding high income)\", \"Upper middle income\", \"IBRD\", \"Asuncion\", -57.6362, -25.3005], [\"PSE\", \"PS\", \"West Bank and Gaza\", \"Middle East & North Africa\", \"Middle East & North Africa (excluding high income)\", \"Lower middle income\", \"Not classified\", \"\", NaN, NaN], [\"PSS\", \"S2\", \"Pacific island small states\", \"Aggregates\", \"\", \"Aggregates\", \"Aggregates\", \"\", NaN, NaN], [\"PST\", \"V4\", \"Post-demographic dividend\", \"Aggregates\", \"\", \"Aggregates\", \"Aggregates\", \"\", NaN, NaN], [\"PYF\", \"PF\", \"French Polynesia\", \"East Asia & Pacific\", \"\", \"High income\", \"Not classified\", \"Papeete\", -149.57, -17.535], [\"QAT\", \"QA\", \"Qatar\", \"Middle East & North Africa\", \"\", \"High income\", \"Not classified\", \"Doha\", 51.5082, 25.2948], [\"ROU\", \"RO\", \"Romania\", \"Europe & Central Asia\", \"Europe & Central Asia (excluding high income)\", \"Upper middle income\", \"IBRD\", \"Bucharest\", 26.0979, 44.4479], [\"RRS\", \"R6\", \"Resource rich Sub-Saharan Africa countries\", \"Aggregates\", \"\", \"Aggregates\", \"Aggregates\", \"\", NaN, NaN], [\"RUS\", \"RU\", \"Russian Federation\", \"Europe & Central Asia\", \"Europe & Central Asia (excluding high income)\", \"Upper middle income\", \"IBRD\", \"Moscow\", 37.6176, 55.7558], [\"RWA\", \"RW\", \"Rwanda\", \"Sub-Saharan Africa \", \"Sub-Saharan Africa (excluding high income)\", \"Low income\", \"IDA\", \"Kigali\", 30.0587, -1.95325], [\"SAS\", \"8S\", \"South Asia\", \"Aggregates\", \"\", \"Aggregates\", \"Aggregates\", \"\", NaN, NaN], [\"SAU\", \"SA\", \"Saudi Arabia\", \"Middle East & North Africa\", \"\", \"High income\", \"Not classified\", \"Riyadh\", 46.6977, 24.6748], [\"SDN\", \"SD\", \"Sudan\", \"Sub-Saharan Africa \", \"Sub-Saharan Africa (excluding high income)\", \"Low income\", \"IDA\", \"Khartoum\", 32.5363, 15.5932], [\"SEN\", \"SN\", \"Senegal\", \"Sub-Saharan Africa \", \"Sub-Saharan Africa (excluding high income)\", \"Lower middle income\", \"IDA\", \"Dakar\", -17.4734, 14.7247], [\"SGP\", \"SG\", \"Singapore\", \"East Asia & Pacific\", \"\", \"High income\", \"Not classified\", \"Singapore\", 103.85, 1.28941], [\"SLB\", \"SB\", \"Solomon Islands\", \"East Asia & Pacific\", \"East Asia & Pacific (excluding high income)\", \"Lower middle income\", \"IDA\", \"Honiara\", 159.949, -9.42676], [\"SLE\", \"SL\", \"Sierra Leone\", \"Sub-Saharan Africa \", \"Sub-Saharan Africa (excluding high income)\", \"Low income\", \"IDA\", \"Freetown\", -13.2134, 8.4821], [\"SLV\", \"SV\", \"El Salvador\", \"Latin America & Caribbean \", \"Latin America & Caribbean (excluding high income)\", \"Lower middle income\", \"IBRD\", \"San Salvador\", -89.2073, 13.7034], [\"SMR\", \"SM\", \"San Marino\", \"Europe & Central Asia\", \"\", \"High income\", \"Not classified\", \"San Marino\", 12.4486, 43.9322], [\"SOM\", \"SO\", \"Somalia\", \"Sub-Saharan Africa \", \"Sub-Saharan Africa (excluding high income)\", \"Low income\", \"IDA\", \"Mogadishu\", 45.3254, 2.07515], [\"SRB\", \"RS\", \"Serbia\", \"Europe & Central Asia\", \"Europe & Central Asia (excluding high income)\", \"Upper middle income\", \"IBRD\", \"Belgrade\", 20.4656, 44.8024], [\"SSA\", \"ZF\", \"Sub-Saharan Africa (excluding high income)\", \"Aggregates\", \"\", \"Aggregates\", \"Aggregates\", \"\", NaN, NaN], [\"SSD\", \"SS\", \"South Sudan\", \"Sub-Saharan Africa \", \"Sub-Saharan Africa (excluding high income)\", \"Low income\", \"IDA\", \"Juba\", 31.6, 4.85], [\"SSF\", \"ZG\", \"Sub-Saharan Africa \", \"Aggregates\", \"\", \"Aggregates\", \"Aggregates\", \"\", NaN, NaN], [\"SST\", \"S1\", \"Small states\", \"Aggregates\", \"\", \"Aggregates\", \"Aggregates\", \"\", NaN, NaN], [\"STP\", \"ST\", \"Sao Tome and Principe\", \"Sub-Saharan Africa \", \"Sub-Saharan Africa (excluding high income)\", \"Lower middle income\", \"IDA\", \"Sao Tome\", 6.6071, 0.20618], [\"SUR\", \"SR\", \"Suriname\", \"Latin America & Caribbean \", \"Latin America & Caribbean (excluding high income)\", \"Upper middle income\", \"IBRD\", \"Paramaribo\", -55.1679, 5.8232], [\"SVK\", \"SK\", \"Slovak Republic\", \"Europe & Central Asia\", \"\", \"High income\", \"Not classified\", \"Bratislava\", 17.1073, 48.1484], [\"SVN\", \"SI\", \"Slovenia\", \"Europe & Central Asia\", \"\", \"High income\", \"Not classified\", \"Ljubljana\", 14.5044, 46.0546], [\"SWE\", \"SE\", \"Sweden\", \"Europe & Central Asia\", \"\", \"High income\", \"Not classified\", \"Stockholm\", 18.0645, 59.3327], [\"SWZ\", \"SZ\", \"Eswatini\", \"Sub-Saharan Africa \", \"Sub-Saharan Africa (excluding high income)\", \"Lower middle income\", \"IBRD\", \"Mbabane\", 31.4659, -26.5225], [\"SXM\", \"SX\", \"Sint Maarten (Dutch part)\", \"Latin America & Caribbean \", \"\", \"High income\", \"Not classified\", \"Philipsburg\", NaN, NaN], [\"SXZ\", \"A4\", \"Sub-Saharan Africa excluding South Africa\", \"Aggregates\", \"\", \"Aggregates\", \"Aggregates\", \"\", NaN, NaN], [\"SYC\", \"SC\", \"Seychelles\", \"Sub-Saharan Africa \", \"\", \"High income\", \"IBRD\", \"Victoria\", 55.4466, -4.6309], [\"SYR\", \"SY\", \"Syrian Arab Republic\", \"Middle East & North Africa\", \"Middle East & North Africa (excluding high income)\", \"Low income\", \"IDA\", \"Damascus\", 36.3119, 33.5146], [\"TCA\", \"TC\", \"Turks and Caicos Islands\", \"Latin America & Caribbean \", \"\", \"High income\", \"Not classified\", \"Grand Turk\", -71.141389, 21.460278], [\"TCD\", \"TD\", \"Chad\", \"Sub-Saharan Africa \", \"Sub-Saharan Africa (excluding high income)\", \"Low income\", \"IDA\", \"N'Djamena\", 15.0445, 12.1048], [\"TEA\", \"T4\", \"East Asia & Pacific (IDA & IBRD countries)\", \"Aggregates\", \"\", \"Aggregates\", \"Aggregates\", \"\", NaN, NaN], [\"TEC\", \"T7\", \"Europe & Central Asia (IDA & IBRD countries)\", \"Aggregates\", \"\", \"Aggregates\", \"Aggregates\", \"\", NaN, NaN], [\"TGO\", \"TG\", \"Togo\", \"Sub-Saharan Africa \", \"Sub-Saharan Africa (excluding high income)\", \"Low income\", \"IDA\", \"Lome\", 1.2255, 6.1228], [\"THA\", \"TH\", \"Thailand\", \"East Asia & Pacific\", \"East Asia & Pacific (excluding high income)\", \"Upper middle income\", \"IBRD\", \"Bangkok\", 100.521, 13.7308], [\"TJK\", \"TJ\", \"Tajikistan\", \"Europe & Central Asia\", \"Europe & Central Asia (excluding high income)\", \"Lower middle income\", \"IDA\", \"Dushanbe\", 68.7864, 38.5878], [\"TKM\", \"TM\", \"Turkmenistan\", \"Europe & Central Asia\", \"Europe & Central Asia (excluding high income)\", \"Upper middle income\", \"IBRD\", \"Ashgabat\", 58.3794, 37.9509], [\"TLA\", \"T2\", \"Latin America & the Caribbean (IDA & IBRD countries)\", \"Aggregates\", \"\", \"Aggregates\", \"Aggregates\", \"\", NaN, NaN], [\"TLS\", \"TL\", \"Timor-Leste\", \"East Asia & Pacific\", \"East Asia & Pacific (excluding high income)\", \"Lower middle income\", \"Blend\", \"Dili\", 125.567, -8.56667], [\"TMN\", \"T3\", \"Middle East & North Africa (IDA & IBRD countries)\", \"Aggregates\", \"\", \"Aggregates\", \"Aggregates\", \"\", NaN, NaN], [\"TON\", \"TO\", \"Tonga\", \"East Asia & Pacific\", \"East Asia & Pacific (excluding high income)\", \"Upper middle income\", \"IDA\", \"Nuku'alofa\", -175.216, -21.136], [\"TSA\", \"T5\", \"South Asia (IDA & IBRD)\", \"Aggregates\", \"\", \"Aggregates\", \"Aggregates\", \"\", NaN, NaN], [\"TSS\", \"T6\", \"Sub-Saharan Africa (IDA & IBRD countries)\", \"Aggregates\", \"\", \"Aggregates\", \"Aggregates\", \"\", NaN, NaN], [\"TTO\", \"TT\", \"Trinidad and Tobago\", \"Latin America & Caribbean \", \"\", \"High income\", \"IBRD\", \"Port-of-Spain\", -61.4789, 10.6596], [\"TUN\", \"TN\", \"Tunisia\", \"Middle East & North Africa\", \"Middle East & North Africa (excluding high income)\", \"Lower middle income\", \"IBRD\", \"Tunis\", 10.21, 36.7899], [\"TUR\", \"TR\", \"Turkey\", \"Europe & Central Asia\", \"Europe & Central Asia (excluding high income)\", \"Upper middle income\", \"IBRD\", \"Ankara\", 32.3606, 39.7153], [\"TUV\", \"TV\", \"Tuvalu\", \"East Asia & Pacific\", \"East Asia & Pacific (excluding high income)\", \"Upper middle income\", \"IDA\", \"Funafuti\", 179.089567, -8.631488], [\"TWN\", \"TW\", \"Taiwan, China\", \"East Asia & Pacific\", \"\", \"High income\", \"Not classified\", \"\", NaN, NaN], [\"TZA\", \"TZ\", \"Tanzania\", \"Sub-Saharan Africa \", \"Sub-Saharan Africa (excluding high income)\", \"Lower middle income\", \"IDA\", \"Dodoma\", 35.7382, -6.17486], [\"UGA\", \"UG\", \"Uganda\", \"Sub-Saharan Africa \", \"Sub-Saharan Africa (excluding high income)\", \"Low income\", \"IDA\", \"Kampala\", 32.5729, 0.314269], [\"UKR\", \"UA\", \"Ukraine\", \"Europe & Central Asia\", \"Europe & Central Asia (excluding high income)\", \"Lower middle income\", \"IBRD\", \"Kiev\", 30.5038, 50.4536], [\"UMC\", \"XT\", \"Upper middle income\", \"Aggregates\", \"\", \"Aggregates\", \"Aggregates\", \"\", NaN, NaN], [\"URY\", \"UY\", \"Uruguay\", \"Latin America & Caribbean \", \"\", \"High income\", \"IBRD\", \"Montevideo\", -56.0675, -34.8941], [\"USA\", \"US\", \"United States\", \"North America\", \"\", \"High income\", \"Not classified\", \"Washington D.C.\", -77.032, 38.8895], [\"UZB\", \"UZ\", \"Uzbekistan\", \"Europe & Central Asia\", \"Europe & Central Asia (excluding high income)\", \"Lower middle income\", \"Blend\", \"Tashkent\", 69.269, 41.3052], [\"VCT\", \"VC\", \"St. Vincent and the Grenadines\", \"Latin America & Caribbean \", \"Latin America & Caribbean (excluding high income)\", \"Upper middle income\", \"Blend\", \"Kingstown\", -61.2653, 13.2035], [\"VEN\", \"VE\", \"Venezuela, RB\", \"Latin America & Caribbean \", \"\", \"Not classified\", \"IBRD\", \"Caracas\", -69.8371, 9.08165], [\"VGB\", \"VG\", \"British Virgin Islands\", \"Latin America & Caribbean \", \"\", \"High income\", \"Not classified\", \"Road Town\", -64.623056, 18.431389], [\"VIR\", \"VI\", \"Virgin Islands (U.S.)\", \"Latin America & Caribbean \", \"\", \"High income\", \"Not classified\", \"Charlotte Amalie\", -64.8963, 18.3358], [\"VNM\", \"VN\", \"Vietnam\", \"East Asia & Pacific\", \"East Asia & Pacific (excluding high income)\", \"Lower middle income\", \"IBRD\", \"Hanoi\", 105.825, 21.0069], [\"VUT\", \"VU\", \"Vanuatu\", \"East Asia & Pacific\", \"East Asia & Pacific (excluding high income)\", \"Lower middle income\", \"IDA\", \"Port-Vila\", 168.321, -17.7404], [\"WLD\", \"1W\", \"World\", \"Aggregates\", \"\", \"Aggregates\", \"Aggregates\", \"\", NaN, NaN], [\"WSM\", \"WS\", \"Samoa\", \"East Asia & Pacific\", \"East Asia & Pacific (excluding high income)\", \"Lower middle income\", \"IDA\", \"Apia\", -171.752, -13.8314], [\"XKX\", \"XK\", \"Kosovo\", \"Europe & Central Asia\", \"Europe & Central Asia (excluding high income)\", \"Upper middle income\", \"IDA\", \"Pristina\", 20.926, 42.565], [\"XZN\", \"A5\", \"Sub-Saharan Africa excluding South Africa and Nigeria\", \"Aggregates\", \"\", \"Aggregates\", \"Aggregates\", \"\", NaN, NaN], [\"YEM\", \"YE\", \"Yemen, Rep.\", \"Middle East & North Africa\", \"Middle East & North Africa (excluding high income)\", \"Low income\", \"IDA\", \"Sana'a\", 44.2075, 15.352], [\"ZAF\", \"ZA\", \"South Africa\", \"Sub-Saharan Africa \", \"Sub-Saharan Africa (excluding high income)\", \"Upper middle income\", \"IBRD\", \"Pretoria\", 28.1871, -25.746], [\"ZMB\", \"ZM\", \"Zambia\", \"Sub-Saharan Africa \", \"Sub-Saharan Africa (excluding high income)\", \"Lower middle income\", \"IDA\", \"Lusaka\", 28.2937, -15.3982], [\"ZWE\", \"ZW\", \"Zimbabwe\", \"Sub-Saharan Africa \", \"Sub-Saharan Africa (excluding high income)\", \"Lower middle income\", \"Blend\", \"Harare\", 31.0672, -17.8312]];\n",
              "\n",
              "    if (typeof require === 'undefined') {\n",
              "        // TODO: This should become the default (use a simple import)\n",
              "        // when the ESM version works independently of whether\n",
              "        // require.js is there or not, see\n",
              "        // https://datatables.net/forums/discussion/69066/esm-es6-module-support?\n",
              "        const {default: $} = await import(\"https://esm.sh/jquery@3.5.0\");\n",
              "        const {default: initDataTables} = await import(\"https://esm.sh/datatables.net@1.11.3?deps=jquery@3.5.0\");\n",
              "\n",
              "        initDataTables();\n",
              "\n",
              "        // Define the dt_args\n",
              "        let dt_args = {};\n",
              "        dt_args[\"data\"] = data;\n",
              "\n",
              "        // Display the table\n",
              "        $(document).ready(function () {\n",
              "            $('#209c8cee-a0a2-4783-8294-228c50fe30cf').DataTable(dt_args);\n",
              "        });\n",
              "    } else {\n",
              "        require([\"jquery\", \"datatables\"], ($, datatables) => {\n",
              "                // Define the dt_args\n",
              "                let dt_args = {};\n",
              "                dt_args[\"data\"] = data;\n",
              "\n",
              "                // Display the table\n",
              "                $(document).ready(function () {\n",
              "                    $('#209c8cee-a0a2-4783-8294-228c50fe30cf').DataTable(dt_args);\n",
              "                });\n",
              "            }\n",
              "        )\n",
              "    }\n",
              "</script>\n",
              "\n",
              "      <button class=\"colab-df-convert\" onclick=\"convertToInteractive('df-60ffdf03-6816-47b0-a7e7-88f4e13b2dcc')\"\n",
              "              title=\"Convert this dataframe to an interactive table.\"\n",
              "              style=\"display:none;\">\n",
              "        \n",
              "  <svg xmlns=\"http://www.w3.org/2000/svg\" height=\"24px\"viewBox=\"0 0 24 24\"\n",
              "       width=\"24px\">\n",
              "    <path d=\"M0 0h24v24H0V0z\" fill=\"none\"/>\n",
              "    <path d=\"M18.56 5.44l.94 2.06.94-2.06 2.06-.94-2.06-.94-.94-2.06-.94 2.06-2.06.94zm-11 1L8.5 8.5l.94-2.06 2.06-.94-2.06-.94L8.5 2.5l-.94 2.06-2.06.94zm10 10l.94 2.06.94-2.06 2.06-.94-2.06-.94-.94-2.06-.94 2.06-2.06.94z\"/><path d=\"M17.41 7.96l-1.37-1.37c-.4-.4-.92-.59-1.43-.59-.52 0-1.04.2-1.43.59L10.3 9.45l-7.72 7.72c-.78.78-.78 2.05 0 2.83L4 21.41c.39.39.9.59 1.41.59.51 0 1.02-.2 1.41-.59l7.78-7.78 2.81-2.81c.8-.78.8-2.07 0-2.86zM5.41 20L4 18.59l7.72-7.72 1.47 1.35L5.41 20z\"/>\n",
              "  </svg>\n",
              "      </button>\n",
              "      \n",
              "  <style>\n",
              "    .colab-df-container {\n",
              "      display:flex;\n",
              "      flex-wrap:wrap;\n",
              "      gap: 12px;\n",
              "    }\n",
              "\n",
              "    .colab-df-convert {\n",
              "      background-color: #E8F0FE;\n",
              "      border: none;\n",
              "      border-radius: 50%;\n",
              "      cursor: pointer;\n",
              "      display: none;\n",
              "      fill: #1967D2;\n",
              "      height: 32px;\n",
              "      padding: 0 0 0 0;\n",
              "      width: 32px;\n",
              "    }\n",
              "\n",
              "    .colab-df-convert:hover {\n",
              "      background-color: #E2EBFA;\n",
              "      box-shadow: 0px 1px 2px rgba(60, 64, 67, 0.3), 0px 1px 3px 1px rgba(60, 64, 67, 0.15);\n",
              "      fill: #174EA6;\n",
              "    }\n",
              "\n",
              "    [theme=dark] .colab-df-convert {\n",
              "      background-color: #3B4455;\n",
              "      fill: #D2E3FC;\n",
              "    }\n",
              "\n",
              "    [theme=dark] .colab-df-convert:hover {\n",
              "      background-color: #434B5C;\n",
              "      box-shadow: 0px 1px 3px 1px rgba(0, 0, 0, 0.15);\n",
              "      filter: drop-shadow(0px 1px 2px rgba(0, 0, 0, 0.3));\n",
              "      fill: #FFFFFF;\n",
              "    }\n",
              "  </style>\n",
              "\n",
              "      <script>\n",
              "        const buttonEl =\n",
              "          document.querySelector('#df-60ffdf03-6816-47b0-a7e7-88f4e13b2dcc button.colab-df-convert');\n",
              "        buttonEl.style.display =\n",
              "          google.colab.kernel.accessAllowed ? 'block' : 'none';\n",
              "\n",
              "        async function convertToInteractive(key) {\n",
              "          const element = document.querySelector('#df-60ffdf03-6816-47b0-a7e7-88f4e13b2dcc');\n",
              "          const dataTable =\n",
              "            await google.colab.kernel.invokeFunction('convertToInteractive',\n",
              "                                                     [key], {});\n",
              "          if (!dataTable) return;\n",
              "\n",
              "          const docLinkHtml = 'Like what you see? Visit the ' +\n",
              "            '<a target=\"_blank\" href=https://colab.research.google.com/notebooks/data_table.ipynb>data table notebook</a>'\n",
              "            + ' to learn more about interactive tables.';\n",
              "          element.innerHTML = '';\n",
              "          dataTable['output_type'] = 'display_data';\n",
              "          await google.colab.output.renderOutput(dataTable, element);\n",
              "          const docLink = document.createElement('div');\n",
              "          docLink.innerHTML = docLinkHtml;\n",
              "          element.appendChild(docLink);\n",
              "        }\n",
              "      </script>\n",
              "    </div>\n",
              "  </div>\n",
              "  "
            ]
          },
          "metadata": {},
          "execution_count": 5
        }
      ]
    },
    {
      "cell_type": "markdown",
      "source": [
        "# livelossplot"
      ],
      "metadata": {
        "id": "4z60TOPJepsX"
      }
    },
    {
      "cell_type": "code",
      "source": [
        "pip install livelossplot"
      ],
      "metadata": {
        "colab": {
          "base_uri": "https://localhost:8080/",
          "height": 1000
        },
        "id": "12cMPmp2bcPw",
        "outputId": "8fbf017a-f6df-4a48-821b-902a06ed73f7"
      },
      "execution_count": 6,
      "outputs": [
        {
          "output_type": "stream",
          "name": "stdout",
          "text": [
            "Looking in indexes: https://pypi.org/simple, https://us-python.pkg.dev/colab-wheels/public/simple/\n",
            "Collecting livelossplot\n",
            "  Downloading livelossplot-0.5.5-py3-none-any.whl (22 kB)\n",
            "Requirement already satisfied: numpy<1.22 in /usr/local/lib/python3.7/dist-packages (from livelossplot) (1.21.6)\n",
            "Collecting ipython==7.*\n",
            "  Downloading ipython-7.34.0-py3-none-any.whl (793 kB)\n",
            "\u001b[K     |████████████████████████████████| 793 kB 5.7 MB/s \n",
            "\u001b[?25hRequirement already satisfied: matplotlib in /usr/local/lib/python3.7/dist-packages (from livelossplot) (3.2.2)\n",
            "Requirement already satisfied: bokeh in /usr/local/lib/python3.7/dist-packages (from livelossplot) (2.3.3)\n",
            "Requirement already satisfied: traitlets>=4.2 in /usr/local/lib/python3.7/dist-packages (from ipython==7.*->livelossplot) (5.1.1)\n",
            "Requirement already satisfied: pexpect>4.3 in /usr/local/lib/python3.7/dist-packages (from ipython==7.*->livelossplot) (4.8.0)\n",
            "Requirement already satisfied: pickleshare in /usr/local/lib/python3.7/dist-packages (from ipython==7.*->livelossplot) (0.7.5)\n",
            "Collecting prompt-toolkit!=3.0.0,!=3.0.1,<3.1.0,>=2.0.0\n",
            "  Downloading prompt_toolkit-3.0.29-py3-none-any.whl (381 kB)\n",
            "\u001b[K     |████████████████████████████████| 381 kB 36.6 MB/s \n",
            "\u001b[?25hRequirement already satisfied: pygments in /usr/local/lib/python3.7/dist-packages (from ipython==7.*->livelossplot) (2.6.1)\n",
            "Requirement already satisfied: backcall in /usr/local/lib/python3.7/dist-packages (from ipython==7.*->livelossplot) (0.2.0)\n",
            "Requirement already satisfied: setuptools>=18.5 in /usr/local/lib/python3.7/dist-packages (from ipython==7.*->livelossplot) (57.4.0)\n",
            "Requirement already satisfied: decorator in /usr/local/lib/python3.7/dist-packages (from ipython==7.*->livelossplot) (4.4.2)\n",
            "Requirement already satisfied: matplotlib-inline in /usr/local/lib/python3.7/dist-packages (from ipython==7.*->livelossplot) (0.1.3)\n",
            "Requirement already satisfied: jedi>=0.16 in /usr/local/lib/python3.7/dist-packages (from ipython==7.*->livelossplot) (0.18.1)\n",
            "Requirement already satisfied: parso<0.9.0,>=0.8.0 in /usr/local/lib/python3.7/dist-packages (from jedi>=0.16->ipython==7.*->livelossplot) (0.8.3)\n",
            "Requirement already satisfied: ptyprocess>=0.5 in /usr/local/lib/python3.7/dist-packages (from pexpect>4.3->ipython==7.*->livelossplot) (0.7.0)\n",
            "Requirement already satisfied: wcwidth in /usr/local/lib/python3.7/dist-packages (from prompt-toolkit!=3.0.0,!=3.0.1,<3.1.0,>=2.0.0->ipython==7.*->livelossplot) (0.2.5)\n",
            "Requirement already satisfied: Jinja2>=2.9 in /usr/local/lib/python3.7/dist-packages (from bokeh->livelossplot) (2.11.3)\n",
            "Requirement already satisfied: pillow>=7.1.0 in /usr/local/lib/python3.7/dist-packages (from bokeh->livelossplot) (7.1.2)\n",
            "Requirement already satisfied: packaging>=16.8 in /usr/local/lib/python3.7/dist-packages (from bokeh->livelossplot) (21.3)\n",
            "Requirement already satisfied: PyYAML>=3.10 in /usr/local/lib/python3.7/dist-packages (from bokeh->livelossplot) (3.13)\n",
            "Requirement already satisfied: typing-extensions>=3.7.4 in /usr/local/lib/python3.7/dist-packages (from bokeh->livelossplot) (4.2.0)\n",
            "Requirement already satisfied: python-dateutil>=2.1 in /usr/local/lib/python3.7/dist-packages (from bokeh->livelossplot) (2.8.2)\n",
            "Requirement already satisfied: tornado>=5.1 in /usr/local/lib/python3.7/dist-packages (from bokeh->livelossplot) (5.1.1)\n",
            "Requirement already satisfied: MarkupSafe>=0.23 in /usr/local/lib/python3.7/dist-packages (from Jinja2>=2.9->bokeh->livelossplot) (2.0.1)\n",
            "Requirement already satisfied: pyparsing!=3.0.5,>=2.0.2 in /usr/local/lib/python3.7/dist-packages (from packaging>=16.8->bokeh->livelossplot) (3.0.9)\n",
            "Requirement already satisfied: six>=1.5 in /usr/local/lib/python3.7/dist-packages (from python-dateutil>=2.1->bokeh->livelossplot) (1.15.0)\n",
            "Requirement already satisfied: cycler>=0.10 in /usr/local/lib/python3.7/dist-packages (from matplotlib->livelossplot) (0.11.0)\n",
            "Requirement already satisfied: kiwisolver>=1.0.1 in /usr/local/lib/python3.7/dist-packages (from matplotlib->livelossplot) (1.4.2)\n",
            "Installing collected packages: prompt-toolkit, ipython, livelossplot\n",
            "  Attempting uninstall: prompt-toolkit\n",
            "    Found existing installation: prompt-toolkit 1.0.18\n",
            "    Uninstalling prompt-toolkit-1.0.18:\n",
            "      Successfully uninstalled prompt-toolkit-1.0.18\n",
            "  Attempting uninstall: ipython\n",
            "    Found existing installation: ipython 5.5.0\n",
            "    Uninstalling ipython-5.5.0:\n",
            "      Successfully uninstalled ipython-5.5.0\n",
            "\u001b[31mERROR: pip's dependency resolver does not currently take into account all the packages that are installed. This behaviour is the source of the following dependency conflicts.\n",
            "jupyter-console 5.2.0 requires prompt-toolkit<2.0.0,>=1.0.0, but you have prompt-toolkit 3.0.29 which is incompatible.\n",
            "google-colab 1.0.0 requires ipython~=5.5.0, but you have ipython 7.34.0 which is incompatible.\u001b[0m\n",
            "Successfully installed ipython-7.34.0 livelossplot-0.5.5 prompt-toolkit-3.0.29\n"
          ]
        },
        {
          "output_type": "display_data",
          "data": {
            "application/vnd.colab-display-data+json": {
              "pip_warning": {
                "packages": [
                  "IPython",
                  "prompt_toolkit"
                ]
              }
            }
          },
          "metadata": {}
        }
      ]
    },
    {
      "cell_type": "markdown",
      "source": [
        "```python\n",
        "from livelossplot import PlotLossesKeras\n",
        "model.fit(X_train, Y_train,\n",
        "epochs=10,\n",
        "validation_data=(X_test, Y_test),\n",
        "callbacks=[PlotLossesKeras()],\n",
        "verbose=0)\n",
        "```"
      ],
      "metadata": {
        "id": "roVU1It3fFah"
      }
    },
    {
      "cell_type": "markdown",
      "source": [
        "# TensorWatch\n"
      ],
      "metadata": {
        "id": "rqSAuLFPe1h7"
      }
    },
    {
      "cell_type": "code",
      "source": [
        "pip install tensorwatch"
      ],
      "metadata": {
        "colab": {
          "base_uri": "https://localhost:8080/"
        },
        "id": "iqdO_iemeuG8",
        "outputId": "e6f168a5-6c78-40b3-bd3c-c4504cbb05f1"
      },
      "execution_count": 8,
      "outputs": [
        {
          "output_type": "stream",
          "name": "stdout",
          "text": [
            "Looking in indexes: https://pypi.org/simple, https://us-python.pkg.dev/colab-wheels/public/simple/\n",
            "Collecting tensorwatch\n",
            "  Downloading tensorwatch-0.9.1.tar.gz (187 kB)\n",
            "\u001b[K     |████████████████████████████████| 187 kB 4.2 MB/s \n",
            "\u001b[?25hRequirement already satisfied: matplotlib in /usr/local/lib/python3.7/dist-packages (from tensorwatch) (3.2.2)\n",
            "Requirement already satisfied: numpy in /usr/local/lib/python3.7/dist-packages (from tensorwatch) (1.21.6)\n",
            "Requirement already satisfied: pyzmq in /usr/local/lib/python3.7/dist-packages (from tensorwatch) (23.0.0)\n",
            "Requirement already satisfied: plotly in /usr/local/lib/python3.7/dist-packages (from tensorwatch) (5.5.0)\n",
            "Requirement already satisfied: ipywidgets in /usr/local/lib/python3.7/dist-packages (from tensorwatch) (7.7.0)\n",
            "Collecting pydotz\n",
            "  Downloading pydotz-1.5.1.tar.gz (133 kB)\n",
            "\u001b[K     |████████████████████████████████| 133 kB 41.8 MB/s \n",
            "\u001b[?25hRequirement already satisfied: nbformat in /usr/local/lib/python3.7/dist-packages (from tensorwatch) (5.4.0)\n",
            "Requirement already satisfied: scikit-image in /usr/local/lib/python3.7/dist-packages (from tensorwatch) (0.18.3)\n",
            "Requirement already satisfied: pyyaml in /usr/local/lib/python3.7/dist-packages (from tensorwatch) (3.13)\n",
            "Requirement already satisfied: graphviz in /usr/local/lib/python3.7/dist-packages (from tensorwatch) (0.10.1)\n",
            "Requirement already satisfied: traitlets>=4.3.1 in /usr/local/lib/python3.7/dist-packages (from ipywidgets->tensorwatch) (5.1.1)\n",
            "Requirement already satisfied: ipykernel>=4.5.1 in /usr/local/lib/python3.7/dist-packages (from ipywidgets->tensorwatch) (4.10.1)\n",
            "Requirement already satisfied: jupyterlab-widgets>=1.0.0 in /usr/local/lib/python3.7/dist-packages (from ipywidgets->tensorwatch) (1.1.0)\n",
            "Requirement already satisfied: widgetsnbextension~=3.6.0 in /usr/local/lib/python3.7/dist-packages (from ipywidgets->tensorwatch) (3.6.0)\n",
            "Requirement already satisfied: ipython>=4.0.0 in /usr/local/lib/python3.7/dist-packages (from ipywidgets->tensorwatch) (7.34.0)\n",
            "Requirement already satisfied: ipython-genutils~=0.2.0 in /usr/local/lib/python3.7/dist-packages (from ipywidgets->tensorwatch) (0.2.0)\n",
            "Requirement already satisfied: tornado>=4.0 in /usr/local/lib/python3.7/dist-packages (from ipykernel>=4.5.1->ipywidgets->tensorwatch) (5.1.1)\n",
            "Requirement already satisfied: jupyter-client in /usr/local/lib/python3.7/dist-packages (from ipykernel>=4.5.1->ipywidgets->tensorwatch) (5.3.5)\n",
            "Requirement already satisfied: pygments in /usr/local/lib/python3.7/dist-packages (from ipython>=4.0.0->ipywidgets->tensorwatch) (2.6.1)\n",
            "Requirement already satisfied: decorator in /usr/local/lib/python3.7/dist-packages (from ipython>=4.0.0->ipywidgets->tensorwatch) (4.4.2)\n",
            "Requirement already satisfied: setuptools>=18.5 in /usr/local/lib/python3.7/dist-packages (from ipython>=4.0.0->ipywidgets->tensorwatch) (57.4.0)\n",
            "Requirement already satisfied: backcall in /usr/local/lib/python3.7/dist-packages (from ipython>=4.0.0->ipywidgets->tensorwatch) (0.2.0)\n",
            "Requirement already satisfied: pickleshare in /usr/local/lib/python3.7/dist-packages (from ipython>=4.0.0->ipywidgets->tensorwatch) (0.7.5)\n",
            "Requirement already satisfied: prompt-toolkit!=3.0.0,!=3.0.1,<3.1.0,>=2.0.0 in /usr/local/lib/python3.7/dist-packages (from ipython>=4.0.0->ipywidgets->tensorwatch) (3.0.29)\n",
            "Requirement already satisfied: matplotlib-inline in /usr/local/lib/python3.7/dist-packages (from ipython>=4.0.0->ipywidgets->tensorwatch) (0.1.3)\n",
            "Requirement already satisfied: pexpect>4.3 in /usr/local/lib/python3.7/dist-packages (from ipython>=4.0.0->ipywidgets->tensorwatch) (4.8.0)\n",
            "Requirement already satisfied: jedi>=0.16 in /usr/local/lib/python3.7/dist-packages (from ipython>=4.0.0->ipywidgets->tensorwatch) (0.18.1)\n",
            "Requirement already satisfied: parso<0.9.0,>=0.8.0 in /usr/local/lib/python3.7/dist-packages (from jedi>=0.16->ipython>=4.0.0->ipywidgets->tensorwatch) (0.8.3)\n",
            "Requirement already satisfied: fastjsonschema in /usr/local/lib/python3.7/dist-packages (from nbformat->tensorwatch) (2.15.3)\n",
            "Requirement already satisfied: jsonschema>=2.6 in /usr/local/lib/python3.7/dist-packages (from nbformat->tensorwatch) (4.3.3)\n",
            "Requirement already satisfied: jupyter-core in /usr/local/lib/python3.7/dist-packages (from nbformat->tensorwatch) (4.10.0)\n",
            "Requirement already satisfied: attrs>=17.4.0 in /usr/local/lib/python3.7/dist-packages (from jsonschema>=2.6->nbformat->tensorwatch) (21.4.0)\n",
            "Requirement already satisfied: importlib-metadata in /usr/local/lib/python3.7/dist-packages (from jsonschema>=2.6->nbformat->tensorwatch) (4.11.4)\n",
            "Requirement already satisfied: typing-extensions in /usr/local/lib/python3.7/dist-packages (from jsonschema>=2.6->nbformat->tensorwatch) (4.2.0)\n",
            "Requirement already satisfied: pyrsistent!=0.17.0,!=0.17.1,!=0.17.2,>=0.14.0 in /usr/local/lib/python3.7/dist-packages (from jsonschema>=2.6->nbformat->tensorwatch) (0.18.1)\n",
            "Requirement already satisfied: importlib-resources>=1.4.0 in /usr/local/lib/python3.7/dist-packages (from jsonschema>=2.6->nbformat->tensorwatch) (5.7.1)\n",
            "Requirement already satisfied: zipp>=3.1.0 in /usr/local/lib/python3.7/dist-packages (from importlib-resources>=1.4.0->jsonschema>=2.6->nbformat->tensorwatch) (3.8.0)\n",
            "Requirement already satisfied: ptyprocess>=0.5 in /usr/local/lib/python3.7/dist-packages (from pexpect>4.3->ipython>=4.0.0->ipywidgets->tensorwatch) (0.7.0)\n",
            "Requirement already satisfied: wcwidth in /usr/local/lib/python3.7/dist-packages (from prompt-toolkit!=3.0.0,!=3.0.1,<3.1.0,>=2.0.0->ipython>=4.0.0->ipywidgets->tensorwatch) (0.2.5)\n",
            "Requirement already satisfied: notebook>=4.4.1 in /usr/local/lib/python3.7/dist-packages (from widgetsnbextension~=3.6.0->ipywidgets->tensorwatch) (5.3.1)\n",
            "Requirement already satisfied: nbconvert in /usr/local/lib/python3.7/dist-packages (from notebook>=4.4.1->widgetsnbextension~=3.6.0->ipywidgets->tensorwatch) (5.6.1)\n",
            "Requirement already satisfied: jinja2 in /usr/local/lib/python3.7/dist-packages (from notebook>=4.4.1->widgetsnbextension~=3.6.0->ipywidgets->tensorwatch) (2.11.3)\n",
            "Requirement already satisfied: Send2Trash in /usr/local/lib/python3.7/dist-packages (from notebook>=4.4.1->widgetsnbextension~=3.6.0->ipywidgets->tensorwatch) (1.8.0)\n",
            "Requirement already satisfied: terminado>=0.8.1 in /usr/local/lib/python3.7/dist-packages (from notebook>=4.4.1->widgetsnbextension~=3.6.0->ipywidgets->tensorwatch) (0.13.3)\n",
            "Requirement already satisfied: python-dateutil>=2.1 in /usr/local/lib/python3.7/dist-packages (from jupyter-client->ipykernel>=4.5.1->ipywidgets->tensorwatch) (2.8.2)\n",
            "Requirement already satisfied: six>=1.5 in /usr/local/lib/python3.7/dist-packages (from python-dateutil>=2.1->jupyter-client->ipykernel>=4.5.1->ipywidgets->tensorwatch) (1.15.0)\n",
            "Requirement already satisfied: MarkupSafe>=0.23 in /usr/local/lib/python3.7/dist-packages (from jinja2->notebook>=4.4.1->widgetsnbextension~=3.6.0->ipywidgets->tensorwatch) (2.0.1)\n",
            "Requirement already satisfied: kiwisolver>=1.0.1 in /usr/local/lib/python3.7/dist-packages (from matplotlib->tensorwatch) (1.4.2)\n",
            "Requirement already satisfied: cycler>=0.10 in /usr/local/lib/python3.7/dist-packages (from matplotlib->tensorwatch) (0.11.0)\n",
            "Requirement already satisfied: pyparsing!=2.0.4,!=2.1.2,!=2.1.6,>=2.0.1 in /usr/local/lib/python3.7/dist-packages (from matplotlib->tensorwatch) (3.0.9)\n",
            "Requirement already satisfied: mistune<2,>=0.8.1 in /usr/local/lib/python3.7/dist-packages (from nbconvert->notebook>=4.4.1->widgetsnbextension~=3.6.0->ipywidgets->tensorwatch) (0.8.4)\n",
            "Requirement already satisfied: pandocfilters>=1.4.1 in /usr/local/lib/python3.7/dist-packages (from nbconvert->notebook>=4.4.1->widgetsnbextension~=3.6.0->ipywidgets->tensorwatch) (1.5.0)\n",
            "Requirement already satisfied: testpath in /usr/local/lib/python3.7/dist-packages (from nbconvert->notebook>=4.4.1->widgetsnbextension~=3.6.0->ipywidgets->tensorwatch) (0.6.0)\n",
            "Requirement already satisfied: entrypoints>=0.2.2 in /usr/local/lib/python3.7/dist-packages (from nbconvert->notebook>=4.4.1->widgetsnbextension~=3.6.0->ipywidgets->tensorwatch) (0.4)\n",
            "Requirement already satisfied: bleach in /usr/local/lib/python3.7/dist-packages (from nbconvert->notebook>=4.4.1->widgetsnbextension~=3.6.0->ipywidgets->tensorwatch) (5.0.0)\n",
            "Requirement already satisfied: defusedxml in /usr/local/lib/python3.7/dist-packages (from nbconvert->notebook>=4.4.1->widgetsnbextension~=3.6.0->ipywidgets->tensorwatch) (0.7.1)\n",
            "Requirement already satisfied: webencodings in /usr/local/lib/python3.7/dist-packages (from bleach->nbconvert->notebook>=4.4.1->widgetsnbextension~=3.6.0->ipywidgets->tensorwatch) (0.5.1)\n",
            "Requirement already satisfied: tenacity>=6.2.0 in /usr/local/lib/python3.7/dist-packages (from plotly->tensorwatch) (8.0.1)\n",
            "Requirement already satisfied: PyWavelets>=1.1.1 in /usr/local/lib/python3.7/dist-packages (from scikit-image->tensorwatch) (1.3.0)\n",
            "Requirement already satisfied: pillow!=7.1.0,!=7.1.1,>=4.3.0 in /usr/local/lib/python3.7/dist-packages (from scikit-image->tensorwatch) (7.1.2)\n",
            "Requirement already satisfied: scipy>=1.0.1 in /usr/local/lib/python3.7/dist-packages (from scikit-image->tensorwatch) (1.4.1)\n",
            "Requirement already satisfied: imageio>=2.3.0 in /usr/local/lib/python3.7/dist-packages (from scikit-image->tensorwatch) (2.4.1)\n",
            "Requirement already satisfied: tifffile>=2019.7.26 in /usr/local/lib/python3.7/dist-packages (from scikit-image->tensorwatch) (2021.11.2)\n",
            "Requirement already satisfied: networkx>=2.0 in /usr/local/lib/python3.7/dist-packages (from scikit-image->tensorwatch) (2.6.3)\n",
            "Building wheels for collected packages: tensorwatch, pydotz\n",
            "  Building wheel for tensorwatch (setup.py) ... \u001b[?25l\u001b[?25hdone\n",
            "  Created wheel for tensorwatch: filename=tensorwatch-0.9.1-py3-none-any.whl size=214528 sha256=23f7e5da12f47370a70daa284f5c4e85956b52d6b5793b848dd3d3e3bd938550\n",
            "  Stored in directory: /root/.cache/pip/wheels/f9/59/17/bcd355d22c397b603c6beaa3762fa004a767511b7996743bec\n",
            "  Building wheel for pydotz (setup.py) ... \u001b[?25l\u001b[?25hdone\n",
            "  Created wheel for pydotz: filename=pydotz-1.5.1-py2.py3-none-any.whl size=20180 sha256=0db29553b24b3659a206d116a948d59b1a9b1ec1da69a9ca278f4600da01e27a\n",
            "  Stored in directory: /root/.cache/pip/wheels/c9/15/f2/f9f771c57101e0fe198670c3a35930c86c545e4155629ef619\n",
            "Successfully built tensorwatch pydotz\n",
            "Installing collected packages: pydotz, tensorwatch\n",
            "Successfully installed pydotz-1.5.1 tensorwatch-0.9.1\n"
          ]
        }
      ]
    },
    {
      "cell_type": "markdown",
      "source": [
        "# Qgrid"
      ],
      "metadata": {
        "id": "ECxDllcWfNx_"
      }
    },
    {
      "cell_type": "code",
      "source": [
        "!pip install qgrid #Installing with pip\n",
        "# !conda install qgrid #Installing with conda"
      ],
      "metadata": {
        "colab": {
          "base_uri": "https://localhost:8080/"
        },
        "id": "t1vGa8R4fK82",
        "outputId": "13caff55-b986-4217-e801-79540879d5e4"
      },
      "execution_count": 10,
      "outputs": [
        {
          "output_type": "stream",
          "name": "stdout",
          "text": [
            "Looking in indexes: https://pypi.org/simple, https://us-python.pkg.dev/colab-wheels/public/simple/\n",
            "Collecting qgrid\n",
            "  Downloading qgrid-1.3.1.tar.gz (889 kB)\n",
            "\u001b[K     |████████████████████████████████| 889 kB 4.2 MB/s \n",
            "\u001b[?25hRequirement already satisfied: notebook>=4.0.0 in /usr/local/lib/python3.7/dist-packages (from qgrid) (5.3.1)\n",
            "Requirement already satisfied: pandas>=0.18.0 in /usr/local/lib/python3.7/dist-packages (from qgrid) (1.3.5)\n",
            "Requirement already satisfied: ipywidgets>=7.0.0 in /usr/local/lib/python3.7/dist-packages (from qgrid) (7.7.0)\n",
            "Requirement already satisfied: ipykernel>=4.5.1 in /usr/local/lib/python3.7/dist-packages (from ipywidgets>=7.0.0->qgrid) (4.10.1)\n",
            "Requirement already satisfied: nbformat>=4.2.0 in /usr/local/lib/python3.7/dist-packages (from ipywidgets>=7.0.0->qgrid) (5.4.0)\n",
            "Requirement already satisfied: traitlets>=4.3.1 in /usr/local/lib/python3.7/dist-packages (from ipywidgets>=7.0.0->qgrid) (5.1.1)\n",
            "Requirement already satisfied: jupyterlab-widgets>=1.0.0 in /usr/local/lib/python3.7/dist-packages (from ipywidgets>=7.0.0->qgrid) (1.1.0)\n",
            "Requirement already satisfied: widgetsnbextension~=3.6.0 in /usr/local/lib/python3.7/dist-packages (from ipywidgets>=7.0.0->qgrid) (3.6.0)\n",
            "Requirement already satisfied: ipython-genutils~=0.2.0 in /usr/local/lib/python3.7/dist-packages (from ipywidgets>=7.0.0->qgrid) (0.2.0)\n",
            "Requirement already satisfied: ipython>=4.0.0 in /usr/local/lib/python3.7/dist-packages (from ipywidgets>=7.0.0->qgrid) (7.34.0)\n",
            "Requirement already satisfied: jupyter-client in /usr/local/lib/python3.7/dist-packages (from ipykernel>=4.5.1->ipywidgets>=7.0.0->qgrid) (5.3.5)\n",
            "Requirement already satisfied: tornado>=4.0 in /usr/local/lib/python3.7/dist-packages (from ipykernel>=4.5.1->ipywidgets>=7.0.0->qgrid) (5.1.1)\n",
            "Requirement already satisfied: matplotlib-inline in /usr/local/lib/python3.7/dist-packages (from ipython>=4.0.0->ipywidgets>=7.0.0->qgrid) (0.1.3)\n",
            "Requirement already satisfied: setuptools>=18.5 in /usr/local/lib/python3.7/dist-packages (from ipython>=4.0.0->ipywidgets>=7.0.0->qgrid) (57.4.0)\n",
            "Requirement already satisfied: pexpect>4.3 in /usr/local/lib/python3.7/dist-packages (from ipython>=4.0.0->ipywidgets>=7.0.0->qgrid) (4.8.0)\n",
            "Requirement already satisfied: decorator in /usr/local/lib/python3.7/dist-packages (from ipython>=4.0.0->ipywidgets>=7.0.0->qgrid) (4.4.2)\n",
            "Requirement already satisfied: prompt-toolkit!=3.0.0,!=3.0.1,<3.1.0,>=2.0.0 in /usr/local/lib/python3.7/dist-packages (from ipython>=4.0.0->ipywidgets>=7.0.0->qgrid) (3.0.29)\n",
            "Requirement already satisfied: pygments in /usr/local/lib/python3.7/dist-packages (from ipython>=4.0.0->ipywidgets>=7.0.0->qgrid) (2.6.1)\n",
            "Requirement already satisfied: jedi>=0.16 in /usr/local/lib/python3.7/dist-packages (from ipython>=4.0.0->ipywidgets>=7.0.0->qgrid) (0.18.1)\n",
            "Requirement already satisfied: pickleshare in /usr/local/lib/python3.7/dist-packages (from ipython>=4.0.0->ipywidgets>=7.0.0->qgrid) (0.7.5)\n",
            "Requirement already satisfied: backcall in /usr/local/lib/python3.7/dist-packages (from ipython>=4.0.0->ipywidgets>=7.0.0->qgrid) (0.2.0)\n",
            "Requirement already satisfied: parso<0.9.0,>=0.8.0 in /usr/local/lib/python3.7/dist-packages (from jedi>=0.16->ipython>=4.0.0->ipywidgets>=7.0.0->qgrid) (0.8.3)\n",
            "Requirement already satisfied: fastjsonschema in /usr/local/lib/python3.7/dist-packages (from nbformat>=4.2.0->ipywidgets>=7.0.0->qgrid) (2.15.3)\n",
            "Requirement already satisfied: jupyter-core in /usr/local/lib/python3.7/dist-packages (from nbformat>=4.2.0->ipywidgets>=7.0.0->qgrid) (4.10.0)\n",
            "Requirement already satisfied: jsonschema>=2.6 in /usr/local/lib/python3.7/dist-packages (from nbformat>=4.2.0->ipywidgets>=7.0.0->qgrid) (4.3.3)\n",
            "Requirement already satisfied: pyrsistent!=0.17.0,!=0.17.1,!=0.17.2,>=0.14.0 in /usr/local/lib/python3.7/dist-packages (from jsonschema>=2.6->nbformat>=4.2.0->ipywidgets>=7.0.0->qgrid) (0.18.1)\n",
            "Requirement already satisfied: attrs>=17.4.0 in /usr/local/lib/python3.7/dist-packages (from jsonschema>=2.6->nbformat>=4.2.0->ipywidgets>=7.0.0->qgrid) (21.4.0)\n",
            "Requirement already satisfied: importlib-metadata in /usr/local/lib/python3.7/dist-packages (from jsonschema>=2.6->nbformat>=4.2.0->ipywidgets>=7.0.0->qgrid) (4.11.4)\n",
            "Requirement already satisfied: importlib-resources>=1.4.0 in /usr/local/lib/python3.7/dist-packages (from jsonschema>=2.6->nbformat>=4.2.0->ipywidgets>=7.0.0->qgrid) (5.7.1)\n",
            "Requirement already satisfied: typing-extensions in /usr/local/lib/python3.7/dist-packages (from jsonschema>=2.6->nbformat>=4.2.0->ipywidgets>=7.0.0->qgrid) (4.2.0)\n",
            "Requirement already satisfied: zipp>=3.1.0 in /usr/local/lib/python3.7/dist-packages (from importlib-resources>=1.4.0->jsonschema>=2.6->nbformat>=4.2.0->ipywidgets>=7.0.0->qgrid) (3.8.0)\n",
            "Requirement already satisfied: Send2Trash in /usr/local/lib/python3.7/dist-packages (from notebook>=4.0.0->qgrid) (1.8.0)\n",
            "Requirement already satisfied: jinja2 in /usr/local/lib/python3.7/dist-packages (from notebook>=4.0.0->qgrid) (2.11.3)\n",
            "Requirement already satisfied: nbconvert in /usr/local/lib/python3.7/dist-packages (from notebook>=4.0.0->qgrid) (5.6.1)\n",
            "Requirement already satisfied: terminado>=0.8.1 in /usr/local/lib/python3.7/dist-packages (from notebook>=4.0.0->qgrid) (0.13.3)\n",
            "Requirement already satisfied: pyzmq>=13 in /usr/local/lib/python3.7/dist-packages (from jupyter-client->ipykernel>=4.5.1->ipywidgets>=7.0.0->qgrid) (23.0.0)\n",
            "Requirement already satisfied: python-dateutil>=2.1 in /usr/local/lib/python3.7/dist-packages (from jupyter-client->ipykernel>=4.5.1->ipywidgets>=7.0.0->qgrid) (2.8.2)\n",
            "Requirement already satisfied: pytz>=2017.3 in /usr/local/lib/python3.7/dist-packages (from pandas>=0.18.0->qgrid) (2022.1)\n",
            "Requirement already satisfied: numpy>=1.17.3 in /usr/local/lib/python3.7/dist-packages (from pandas>=0.18.0->qgrid) (1.21.6)\n",
            "Requirement already satisfied: ptyprocess>=0.5 in /usr/local/lib/python3.7/dist-packages (from pexpect>4.3->ipython>=4.0.0->ipywidgets>=7.0.0->qgrid) (0.7.0)\n",
            "Requirement already satisfied: wcwidth in /usr/local/lib/python3.7/dist-packages (from prompt-toolkit!=3.0.0,!=3.0.1,<3.1.0,>=2.0.0->ipython>=4.0.0->ipywidgets>=7.0.0->qgrid) (0.2.5)\n",
            "Requirement already satisfied: six>=1.5 in /usr/local/lib/python3.7/dist-packages (from python-dateutil>=2.1->jupyter-client->ipykernel>=4.5.1->ipywidgets>=7.0.0->qgrid) (1.15.0)\n",
            "Requirement already satisfied: MarkupSafe>=0.23 in /usr/local/lib/python3.7/dist-packages (from jinja2->notebook>=4.0.0->qgrid) (2.0.1)\n",
            "Requirement already satisfied: testpath in /usr/local/lib/python3.7/dist-packages (from nbconvert->notebook>=4.0.0->qgrid) (0.6.0)\n",
            "Requirement already satisfied: bleach in /usr/local/lib/python3.7/dist-packages (from nbconvert->notebook>=4.0.0->qgrid) (5.0.0)\n",
            "Requirement already satisfied: entrypoints>=0.2.2 in /usr/local/lib/python3.7/dist-packages (from nbconvert->notebook>=4.0.0->qgrid) (0.4)\n",
            "Requirement already satisfied: pandocfilters>=1.4.1 in /usr/local/lib/python3.7/dist-packages (from nbconvert->notebook>=4.0.0->qgrid) (1.5.0)\n",
            "Requirement already satisfied: defusedxml in /usr/local/lib/python3.7/dist-packages (from nbconvert->notebook>=4.0.0->qgrid) (0.7.1)\n",
            "Requirement already satisfied: mistune<2,>=0.8.1 in /usr/local/lib/python3.7/dist-packages (from nbconvert->notebook>=4.0.0->qgrid) (0.8.4)\n",
            "Requirement already satisfied: webencodings in /usr/local/lib/python3.7/dist-packages (from bleach->nbconvert->notebook>=4.0.0->qgrid) (0.5.1)\n",
            "Building wheels for collected packages: qgrid\n",
            "  Building wheel for qgrid (setup.py) ... \u001b[?25l\u001b[?25hdone\n",
            "  Created wheel for qgrid: filename=qgrid-1.3.1-py2.py3-none-any.whl size=1761272 sha256=f051ffd2c2ca5181102cf24334aebb6a615850644e199052aff6feb9c94afad8\n",
            "  Stored in directory: /root/.cache/pip/wheels/53/87/cb/c63a58774627471976061afb5b8657b76d2268c1e76e980586\n",
            "Successfully built qgrid\n",
            "Installing collected packages: qgrid\n",
            "Successfully installed qgrid-1.3.1\n"
          ]
        }
      ]
    },
    {
      "cell_type": "markdown",
      "source": [
        "# bqplot"
      ],
      "metadata": {
        "id": "yo7phkm2fRpp"
      }
    },
    {
      "cell_type": "code",
      "source": [
        "!pip install bqplot #Installing with pip\n",
        "# !conda install -c conda-forge bqplot #Installing with conda"
      ],
      "metadata": {
        "colab": {
          "base_uri": "https://localhost:8080/"
        },
        "id": "5haq4I1afP6A",
        "outputId": "e9202228-e1fe-4676-bbe0-a112633002be"
      },
      "execution_count": 11,
      "outputs": [
        {
          "output_type": "stream",
          "name": "stdout",
          "text": [
            "Looking in indexes: https://pypi.org/simple, https://us-python.pkg.dev/colab-wheels/public/simple/\n",
            "Collecting bqplot\n",
            "  Downloading bqplot-0.12.33-py2.py3-none-any.whl (1.2 MB)\n",
            "\u001b[K     |████████████████████████████████| 1.2 MB 4.5 MB/s \n",
            "\u001b[?25hRequirement already satisfied: pandas<2.0.0,>=1.0.0 in /usr/local/lib/python3.7/dist-packages (from bqplot) (1.3.5)\n",
            "Collecting traittypes>=0.0.6\n",
            "  Downloading traittypes-0.2.1-py2.py3-none-any.whl (8.6 kB)\n",
            "Requirement already satisfied: traitlets>=4.3.0 in /usr/local/lib/python3.7/dist-packages (from bqplot) (5.1.1)\n",
            "Requirement already satisfied: ipywidgets>=7.5.0 in /usr/local/lib/python3.7/dist-packages (from bqplot) (7.7.0)\n",
            "Requirement already satisfied: numpy<2.0.0,>=1.10.4 in /usr/local/lib/python3.7/dist-packages (from bqplot) (1.21.6)\n",
            "Requirement already satisfied: jupyterlab-widgets>=1.0.0 in /usr/local/lib/python3.7/dist-packages (from ipywidgets>=7.5.0->bqplot) (1.1.0)\n",
            "Requirement already satisfied: ipykernel>=4.5.1 in /usr/local/lib/python3.7/dist-packages (from ipywidgets>=7.5.0->bqplot) (4.10.1)\n",
            "Requirement already satisfied: ipython>=4.0.0 in /usr/local/lib/python3.7/dist-packages (from ipywidgets>=7.5.0->bqplot) (7.34.0)\n",
            "Requirement already satisfied: widgetsnbextension~=3.6.0 in /usr/local/lib/python3.7/dist-packages (from ipywidgets>=7.5.0->bqplot) (3.6.0)\n",
            "Requirement already satisfied: nbformat>=4.2.0 in /usr/local/lib/python3.7/dist-packages (from ipywidgets>=7.5.0->bqplot) (5.4.0)\n",
            "Requirement already satisfied: ipython-genutils~=0.2.0 in /usr/local/lib/python3.7/dist-packages (from ipywidgets>=7.5.0->bqplot) (0.2.0)\n",
            "Requirement already satisfied: tornado>=4.0 in /usr/local/lib/python3.7/dist-packages (from ipykernel>=4.5.1->ipywidgets>=7.5.0->bqplot) (5.1.1)\n",
            "Requirement already satisfied: jupyter-client in /usr/local/lib/python3.7/dist-packages (from ipykernel>=4.5.1->ipywidgets>=7.5.0->bqplot) (5.3.5)\n",
            "Requirement already satisfied: pygments in /usr/local/lib/python3.7/dist-packages (from ipython>=4.0.0->ipywidgets>=7.5.0->bqplot) (2.6.1)\n",
            "Requirement already satisfied: prompt-toolkit!=3.0.0,!=3.0.1,<3.1.0,>=2.0.0 in /usr/local/lib/python3.7/dist-packages (from ipython>=4.0.0->ipywidgets>=7.5.0->bqplot) (3.0.29)\n",
            "Requirement already satisfied: pickleshare in /usr/local/lib/python3.7/dist-packages (from ipython>=4.0.0->ipywidgets>=7.5.0->bqplot) (0.7.5)\n",
            "Requirement already satisfied: pexpect>4.3 in /usr/local/lib/python3.7/dist-packages (from ipython>=4.0.0->ipywidgets>=7.5.0->bqplot) (4.8.0)\n",
            "Requirement already satisfied: backcall in /usr/local/lib/python3.7/dist-packages (from ipython>=4.0.0->ipywidgets>=7.5.0->bqplot) (0.2.0)\n",
            "Requirement already satisfied: jedi>=0.16 in /usr/local/lib/python3.7/dist-packages (from ipython>=4.0.0->ipywidgets>=7.5.0->bqplot) (0.18.1)\n",
            "Requirement already satisfied: setuptools>=18.5 in /usr/local/lib/python3.7/dist-packages (from ipython>=4.0.0->ipywidgets>=7.5.0->bqplot) (57.4.0)\n",
            "Requirement already satisfied: decorator in /usr/local/lib/python3.7/dist-packages (from ipython>=4.0.0->ipywidgets>=7.5.0->bqplot) (4.4.2)\n",
            "Requirement already satisfied: matplotlib-inline in /usr/local/lib/python3.7/dist-packages (from ipython>=4.0.0->ipywidgets>=7.5.0->bqplot) (0.1.3)\n",
            "Requirement already satisfied: parso<0.9.0,>=0.8.0 in /usr/local/lib/python3.7/dist-packages (from jedi>=0.16->ipython>=4.0.0->ipywidgets>=7.5.0->bqplot) (0.8.3)\n",
            "Requirement already satisfied: jsonschema>=2.6 in /usr/local/lib/python3.7/dist-packages (from nbformat>=4.2.0->ipywidgets>=7.5.0->bqplot) (4.3.3)\n",
            "Requirement already satisfied: fastjsonschema in /usr/local/lib/python3.7/dist-packages (from nbformat>=4.2.0->ipywidgets>=7.5.0->bqplot) (2.15.3)\n",
            "Requirement already satisfied: jupyter-core in /usr/local/lib/python3.7/dist-packages (from nbformat>=4.2.0->ipywidgets>=7.5.0->bqplot) (4.10.0)\n",
            "Requirement already satisfied: attrs>=17.4.0 in /usr/local/lib/python3.7/dist-packages (from jsonschema>=2.6->nbformat>=4.2.0->ipywidgets>=7.5.0->bqplot) (21.4.0)\n",
            "Requirement already satisfied: importlib-resources>=1.4.0 in /usr/local/lib/python3.7/dist-packages (from jsonschema>=2.6->nbformat>=4.2.0->ipywidgets>=7.5.0->bqplot) (5.7.1)\n",
            "Requirement already satisfied: typing-extensions in /usr/local/lib/python3.7/dist-packages (from jsonschema>=2.6->nbformat>=4.2.0->ipywidgets>=7.5.0->bqplot) (4.2.0)\n",
            "Requirement already satisfied: importlib-metadata in /usr/local/lib/python3.7/dist-packages (from jsonschema>=2.6->nbformat>=4.2.0->ipywidgets>=7.5.0->bqplot) (4.11.4)\n",
            "Requirement already satisfied: pyrsistent!=0.17.0,!=0.17.1,!=0.17.2,>=0.14.0 in /usr/local/lib/python3.7/dist-packages (from jsonschema>=2.6->nbformat>=4.2.0->ipywidgets>=7.5.0->bqplot) (0.18.1)\n",
            "Requirement already satisfied: zipp>=3.1.0 in /usr/local/lib/python3.7/dist-packages (from importlib-resources>=1.4.0->jsonschema>=2.6->nbformat>=4.2.0->ipywidgets>=7.5.0->bqplot) (3.8.0)\n",
            "Requirement already satisfied: pytz>=2017.3 in /usr/local/lib/python3.7/dist-packages (from pandas<2.0.0,>=1.0.0->bqplot) (2022.1)\n",
            "Requirement already satisfied: python-dateutil>=2.7.3 in /usr/local/lib/python3.7/dist-packages (from pandas<2.0.0,>=1.0.0->bqplot) (2.8.2)\n",
            "Requirement already satisfied: ptyprocess>=0.5 in /usr/local/lib/python3.7/dist-packages (from pexpect>4.3->ipython>=4.0.0->ipywidgets>=7.5.0->bqplot) (0.7.0)\n",
            "Requirement already satisfied: wcwidth in /usr/local/lib/python3.7/dist-packages (from prompt-toolkit!=3.0.0,!=3.0.1,<3.1.0,>=2.0.0->ipython>=4.0.0->ipywidgets>=7.5.0->bqplot) (0.2.5)\n",
            "Requirement already satisfied: six>=1.5 in /usr/local/lib/python3.7/dist-packages (from python-dateutil>=2.7.3->pandas<2.0.0,>=1.0.0->bqplot) (1.15.0)\n",
            "Requirement already satisfied: notebook>=4.4.1 in /usr/local/lib/python3.7/dist-packages (from widgetsnbextension~=3.6.0->ipywidgets>=7.5.0->bqplot) (5.3.1)\n",
            "Requirement already satisfied: nbconvert in /usr/local/lib/python3.7/dist-packages (from notebook>=4.4.1->widgetsnbextension~=3.6.0->ipywidgets>=7.5.0->bqplot) (5.6.1)\n",
            "Requirement already satisfied: Send2Trash in /usr/local/lib/python3.7/dist-packages (from notebook>=4.4.1->widgetsnbextension~=3.6.0->ipywidgets>=7.5.0->bqplot) (1.8.0)\n",
            "Requirement already satisfied: terminado>=0.8.1 in /usr/local/lib/python3.7/dist-packages (from notebook>=4.4.1->widgetsnbextension~=3.6.0->ipywidgets>=7.5.0->bqplot) (0.13.3)\n",
            "Requirement already satisfied: jinja2 in /usr/local/lib/python3.7/dist-packages (from notebook>=4.4.1->widgetsnbextension~=3.6.0->ipywidgets>=7.5.0->bqplot) (2.11.3)\n",
            "Requirement already satisfied: pyzmq>=13 in /usr/local/lib/python3.7/dist-packages (from jupyter-client->ipykernel>=4.5.1->ipywidgets>=7.5.0->bqplot) (23.0.0)\n",
            "Requirement already satisfied: MarkupSafe>=0.23 in /usr/local/lib/python3.7/dist-packages (from jinja2->notebook>=4.4.1->widgetsnbextension~=3.6.0->ipywidgets>=7.5.0->bqplot) (2.0.1)\n",
            "Requirement already satisfied: mistune<2,>=0.8.1 in /usr/local/lib/python3.7/dist-packages (from nbconvert->notebook>=4.4.1->widgetsnbextension~=3.6.0->ipywidgets>=7.5.0->bqplot) (0.8.4)\n",
            "Requirement already satisfied: entrypoints>=0.2.2 in /usr/local/lib/python3.7/dist-packages (from nbconvert->notebook>=4.4.1->widgetsnbextension~=3.6.0->ipywidgets>=7.5.0->bqplot) (0.4)\n",
            "Requirement already satisfied: bleach in /usr/local/lib/python3.7/dist-packages (from nbconvert->notebook>=4.4.1->widgetsnbextension~=3.6.0->ipywidgets>=7.5.0->bqplot) (5.0.0)\n",
            "Requirement already satisfied: testpath in /usr/local/lib/python3.7/dist-packages (from nbconvert->notebook>=4.4.1->widgetsnbextension~=3.6.0->ipywidgets>=7.5.0->bqplot) (0.6.0)\n",
            "Requirement already satisfied: defusedxml in /usr/local/lib/python3.7/dist-packages (from nbconvert->notebook>=4.4.1->widgetsnbextension~=3.6.0->ipywidgets>=7.5.0->bqplot) (0.7.1)\n",
            "Requirement already satisfied: pandocfilters>=1.4.1 in /usr/local/lib/python3.7/dist-packages (from nbconvert->notebook>=4.4.1->widgetsnbextension~=3.6.0->ipywidgets>=7.5.0->bqplot) (1.5.0)\n",
            "Requirement already satisfied: webencodings in /usr/local/lib/python3.7/dist-packages (from bleach->nbconvert->notebook>=4.4.1->widgetsnbextension~=3.6.0->ipywidgets>=7.5.0->bqplot) (0.5.1)\n",
            "Installing collected packages: traittypes, bqplot\n",
            "Successfully installed bqplot-0.12.33 traittypes-0.2.1\n"
          ]
        }
      ]
    }
  ]
}