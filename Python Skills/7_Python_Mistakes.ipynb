{
  "nbformat": 4,
  "nbformat_minor": 0,
  "metadata": {
    "colab": {
      "name": "7 Python Mistakes.ipynb",
      "provenance": [],
      "authorship_tag": "ABX9TyPDcCZHJPlP+zn0J8uIpRIZ"
    },
    "kernelspec": {
      "name": "python3",
      "display_name": "Python 3"
    }
  },
  "cells": [
    {
      "cell_type": "markdown",
      "metadata": {
        "id": "aeUNgRtslrCD"
      },
      "source": [
        "[Reference](https://towardsdatascience.com/7-python-mistakes-you-dont-want-to-make-77ac068c847)"
      ]
    },
    {
      "cell_type": "code",
      "metadata": {
        "colab": {
          "base_uri": "https://localhost:8080/"
        },
        "id": "nORzHWqqlpte",
        "outputId": "625aedab-c755-4e6c-e14b-49d690835c71"
      },
      "source": [
        "def f(x):\n",
        "    x.append(0)\n",
        "    return x\n",
        "\n",
        "l = []\n",
        "f(l)"
      ],
      "execution_count": 1,
      "outputs": [
        {
          "output_type": "execute_result",
          "data": {
            "text/plain": [
              "[0]"
            ]
          },
          "metadata": {
            "tags": []
          },
          "execution_count": 1
        }
      ]
    },
    {
      "cell_type": "code",
      "metadata": {
        "colab": {
          "base_uri": "https://localhost:8080/"
        },
        "id": "a3FWjX21lx7P",
        "outputId": "2cfbe448-bcd3-463d-dfdf-3299647e6c93"
      },
      "source": [
        "l"
      ],
      "execution_count": 2,
      "outputs": [
        {
          "output_type": "execute_result",
          "data": {
            "text/plain": [
              "[0]"
            ]
          },
          "metadata": {
            "tags": []
          },
          "execution_count": 2
        }
      ]
    },
    {
      "cell_type": "code",
      "metadata": {
        "colab": {
          "base_uri": "https://localhost:8080/"
        },
        "id": "Xtah6x7qlyGU",
        "outputId": "2938ed89-e491-4f49-80ca-682665e3e5d5"
      },
      "source": [
        "from datetime import datetime\n",
        "\n",
        "def f(t=datetime.utcnow()):\n",
        "    return t\n",
        "\n",
        "f()"
      ],
      "execution_count": 5,
      "outputs": [
        {
          "output_type": "execute_result",
          "data": {
            "text/plain": [
              "datetime.datetime(2021, 2, 4, 15, 9, 48, 480201)"
            ]
          },
          "metadata": {
            "tags": []
          },
          "execution_count": 5
        }
      ]
    },
    {
      "cell_type": "code",
      "metadata": {
        "colab": {
          "base_uri": "https://localhost:8080/"
        },
        "id": "rdJbHiXql396",
        "outputId": "c7b9d897-d1d5-4587-c779-631a1f4655c1"
      },
      "source": [
        "f()"
      ],
      "execution_count": 6,
      "outputs": [
        {
          "output_type": "execute_result",
          "data": {
            "text/plain": [
              "datetime.datetime(2021, 2, 4, 15, 9, 48, 480201)"
            ]
          },
          "metadata": {
            "tags": []
          },
          "execution_count": 6
        }
      ]
    },
    {
      "cell_type": "code",
      "metadata": {
        "colab": {
          "base_uri": "https://localhost:8080/"
        },
        "id": "AH7_v6VGl4Zy",
        "outputId": "4b28718c-4051-4adb-ecec-969f638cb946"
      },
      "source": [
        "from datetime import datetime\n",
        "\n",
        "def f(t=None):\n",
        "    t = t if t else datetime.utcnow()\n",
        "    return t\n",
        "\n",
        "f()"
      ],
      "execution_count": 7,
      "outputs": [
        {
          "output_type": "execute_result",
          "data": {
            "text/plain": [
              "datetime.datetime(2021, 2, 4, 15, 10, 13, 469083)"
            ]
          },
          "metadata": {
            "tags": []
          },
          "execution_count": 7
        }
      ]
    },
    {
      "cell_type": "code",
      "metadata": {
        "colab": {
          "base_uri": "https://localhost:8080/"
        },
        "id": "w4OMwlq5l_yC",
        "outputId": "843c0419-2f08-4483-8599-c020d048c511"
      },
      "source": [
        "def f(x=[]):\n",
        "    x.append(0)\n",
        "    return x\n",
        "\n",
        "f()"
      ],
      "execution_count": 8,
      "outputs": [
        {
          "output_type": "execute_result",
          "data": {
            "text/plain": [
              "[0]"
            ]
          },
          "metadata": {
            "tags": []
          },
          "execution_count": 8
        }
      ]
    },
    {
      "cell_type": "code",
      "metadata": {
        "colab": {
          "base_uri": "https://localhost:8080/"
        },
        "id": "sVN_eSv_mE8b",
        "outputId": "c8edb357-59e9-4583-8690-f5c82660aac5"
      },
      "source": [
        "f()"
      ],
      "execution_count": 9,
      "outputs": [
        {
          "output_type": "execute_result",
          "data": {
            "text/plain": [
              "[0, 0]"
            ]
          },
          "metadata": {
            "tags": []
          },
          "execution_count": 9
        }
      ]
    },
    {
      "cell_type": "code",
      "metadata": {
        "colab": {
          "base_uri": "https://localhost:8080/"
        },
        "id": "GokaA-4FmFT9",
        "outputId": "89b18df6-fc0d-4480-ee57-fc163a69356c"
      },
      "source": [
        "f()"
      ],
      "execution_count": 10,
      "outputs": [
        {
          "output_type": "execute_result",
          "data": {
            "text/plain": [
              "[0, 0, 0]"
            ]
          },
          "metadata": {
            "tags": []
          },
          "execution_count": 10
        }
      ]
    },
    {
      "cell_type": "code",
      "metadata": {
        "colab": {
          "base_uri": "https://localhost:8080/"
        },
        "id": "OQLQwzy3mFq5",
        "outputId": "ad8b7b80-61d0-4f30-997d-f1eb14778b6f"
      },
      "source": [
        "a = []\n",
        "b = a\n",
        "b.append(0)\n",
        "a"
      ],
      "execution_count": 11,
      "outputs": [
        {
          "output_type": "execute_result",
          "data": {
            "text/plain": [
              "[0]"
            ]
          },
          "metadata": {
            "tags": []
          },
          "execution_count": 11
        }
      ]
    },
    {
      "cell_type": "code",
      "metadata": {
        "colab": {
          "base_uri": "https://localhost:8080/"
        },
        "id": "Qfrlsyq6mMS5",
        "outputId": "e09e34fe-09ea-4e01-f003-4641e2115d26"
      },
      "source": [
        "from copy import deepcopy\n",
        "a = []\n",
        "b = deepcopy(a)\n",
        "b.append(0)\n",
        "a"
      ],
      "execution_count": 12,
      "outputs": [
        {
          "output_type": "execute_result",
          "data": {
            "text/plain": [
              "[]"
            ]
          },
          "metadata": {
            "tags": []
          },
          "execution_count": 12
        }
      ]
    },
    {
      "cell_type": "code",
      "metadata": {
        "id": "tscsC6ubmRYq"
      },
      "source": [
        "from numpy.random import random"
      ],
      "execution_count": 13,
      "outputs": []
    },
    {
      "cell_type": "code",
      "metadata": {
        "id": "ZnPdbgKGmcqz"
      },
      "source": [
        "data_path = data_folder + \"/data.csv\"\n",
        "data_path = os.path.join(data_folder, \"data.csv\")"
      ],
      "execution_count": 15,
      "outputs": []
    }
  ]
}