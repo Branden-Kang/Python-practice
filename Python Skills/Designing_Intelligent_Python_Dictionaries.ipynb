{
  "nbformat": 4,
  "nbformat_minor": 0,
  "metadata": {
    "colab": {
      "name": "Designing Intelligent Python Dictionaries.ipynb",
      "provenance": [],
      "authorship_tag": "ABX9TyNWh/Cgjkca8AUpWxsRsWAe"
    },
    "kernelspec": {
      "name": "python3",
      "display_name": "Python 3"
    }
  },
  "cells": [
    {
      "cell_type": "markdown",
      "metadata": {
        "id": "k1OAUUQUSG-s"
      },
      "source": [
        "[Reference](https://towardsdatascience.com/designing-intelligent-python-dictionaries-cc138ac3f197)"
      ]
    },
    {
      "cell_type": "code",
      "metadata": {
        "colab": {
          "base_uri": "https://localhost:8080/"
        },
        "id": "U0B7oGHwRDnw",
        "outputId": "6924160e-10a9-420a-bbcf-e19ec17c4588"
      },
      "source": [
        "student_grades = {'John': 'A', 'Mary': 'C', 'Rob': 'B'}\n",
        "\n",
        "# To check grade of John, we call\n",
        "print(student_grades['John'])"
      ],
      "execution_count": 5,
      "outputs": [
        {
          "output_type": "stream",
          "text": [
            "A\n"
          ],
          "name": "stdout"
        }
      ]
    },
    {
      "cell_type": "code",
      "metadata": {
        "colab": {
          "base_uri": "https://localhost:8080/",
          "height": 198
        },
        "id": "sNhxbl8aRJ2O",
        "outputId": "21da05fd-8ff5-4f8d-d07e-b5a66f724ccc"
      },
      "source": [
        "print(student_grades['Maple'])"
      ],
      "execution_count": 6,
      "outputs": [
        {
          "output_type": "error",
          "ename": "KeyError",
          "evalue": "ignored",
          "traceback": [
            "\u001b[0;31m---------------------------------------------------------------------------\u001b[0m",
            "\u001b[0;31mKeyError\u001b[0m                                  Traceback (most recent call last)",
            "\u001b[0;32m<ipython-input-6-bec3fc98d668>\u001b[0m in \u001b[0;36m<module>\u001b[0;34m()\u001b[0m\n\u001b[0;32m----> 1\u001b[0;31m \u001b[0mprint\u001b[0m\u001b[0;34m(\u001b[0m\u001b[0mstudent_grades\u001b[0m\u001b[0;34m[\u001b[0m\u001b[0;34m'Maple'\u001b[0m\u001b[0;34m]\u001b[0m\u001b[0;34m)\u001b[0m\u001b[0;34m\u001b[0m\u001b[0;34m\u001b[0m\u001b[0m\n\u001b[0m",
            "\u001b[0;31mKeyError\u001b[0m: 'Maple'"
          ]
        }
      ]
    },
    {
      "cell_type": "code",
      "metadata": {
        "colab": {
          "base_uri": "https://localhost:8080/"
        },
        "id": "o2Ft-GHPRPBh",
        "outputId": "8480e70c-5d82-4c9c-8175-837e565b7065"
      },
      "source": [
        "student_name = input(\"Please enter student name: \")\n",
        "print(student_grades[student_name]) "
      ],
      "execution_count": 8,
      "outputs": [
        {
          "output_type": "stream",
          "text": [
            "Please enter student name: Rob\n",
            "B\n"
          ],
          "name": "stdout"
        }
      ]
    },
    {
      "cell_type": "code",
      "metadata": {
        "colab": {
          "base_uri": "https://localhost:8080/"
        },
        "id": "NEFnc0MQSX2B",
        "outputId": "8e8c97c2-329e-43e1-e21e-4b4c4858b20b"
      },
      "source": [
        "default_grade = 'Not Available'\n",
        "print(student_grades.get('Maple',default_grade))"
      ],
      "execution_count": 9,
      "outputs": [
        {
          "output_type": "stream",
          "text": [
            "Not Available\n"
          ],
          "name": "stdout"
        }
      ]
    },
    {
      "cell_type": "code",
      "metadata": {
        "colab": {
          "base_uri": "https://localhost:8080/"
        },
        "id": "gmULbw6hSuPf",
        "outputId": "e61435f8-19ba-47db-a105-47c36c45eff4"
      },
      "source": [
        "# population in millions. (Source: https://www.worldometers.info/world-population/population-by-country/)\n",
        "population_dict = {'China':1439, 'India':1380, 'USA':331, 'France':65,'Germany':83, 'Spain':46}\n",
        "\n",
        "# getting user input\n",
        "Country_Name = input('Please enter Country Name: ')\n",
        "\n",
        "# access population using country name from dict\n",
        "print(population_dict[Country_Name])"
      ],
      "execution_count": 10,
      "outputs": [
        {
          "output_type": "stream",
          "text": [
            "Please enter Country Name: India\n",
            "1380\n"
          ],
          "name": "stdout"
        }
      ]
    },
    {
      "cell_type": "code",
      "metadata": {
        "colab": {
          "base_uri": "https://localhost:8080/"
        },
        "id": "2_zmy8USSzQ1",
        "outputId": "4d2e2e73-5bce-4dfa-d0fd-85a7da28eea9"
      },
      "source": [
        "# keys (Country Names) are now all lowercase\n",
        "population_dict = {'china':1439, 'india':1380, 'usa':331, 'france':65,'germany':83, 'spain':46}\n",
        "Country_Name = input('Please enter Country Name: ').lower() # lowercase input\n",
        "\n",
        "print(population_dict[Country_Name])"
      ],
      "execution_count": 11,
      "outputs": [
        {
          "output_type": "stream",
          "text": [
            "Please enter Country Name: france\n",
            "65\n"
          ],
          "name": "stdout"
        }
      ]
    },
    {
      "cell_type": "code",
      "metadata": {
        "colab": {
          "base_uri": "https://localhost:8080/"
        },
        "id": "0vMSOiQ2S5K1",
        "outputId": "95a75c87-9eac-41cd-ea4a-8e435f28f010"
      },
      "source": [
        "population_dict = {'china':1439, 'india':1380, 'usa':331, 'france':65,'germany':83, 'spain':46}\n",
        "\n",
        "while(True):\n",
        "    \n",
        "    Country_Name = input('Please enter Country Name(type exit to close): ').lower()\n",
        "    \n",
        "    # break from code if user enters exit\n",
        "    if Country_Name == 'exit':\n",
        "        break\n",
        "\n",
        "    if Country_Name in population_dict.keys():\n",
        "        print(population_dict[Country_Name])\n",
        "    else:\n",
        "        print(\"Please check for any typos. Data not Available for \",Country_Name)"
      ],
      "execution_count": 12,
      "outputs": [
        {
          "output_type": "stream",
          "text": [
            "Please enter Country Name(type exit to close): france\n",
            "65\n",
            "Please enter Country Name(type exit to close): China\n",
            "1439\n",
            "Please enter Country Name(type exit to close): exit\n"
          ],
          "name": "stdout"
        }
      ]
    },
    {
      "cell_type": "markdown",
      "metadata": {
        "id": "dXi7HtO3TN4C"
      },
      "source": [
        "# SequenceMatcher"
      ]
    },
    {
      "cell_type": "code",
      "metadata": {
        "colab": {
          "base_uri": "https://localhost:8080/"
        },
        "id": "vzlY3ATSS9gt",
        "outputId": "c411f2a8-d6e5-4454-919c-a3b6f65b46fd"
      },
      "source": [
        "from difflib import SequenceMatcher # import\n",
        "\n",
        "# creating a SequenceMatcher object comparing two strings\n",
        "check = SequenceMatcher(None, 'chinna', 'china')\n",
        "\n",
        "# printing a similarity ratio on a scale of 0(lowest) to 1(highest)\n",
        "print(check.ratio()) "
      ],
      "execution_count": 13,
      "outputs": [
        {
          "output_type": "stream",
          "text": [
            "0.9090909090909091\n"
          ],
          "name": "stdout"
        }
      ]
    },
    {
      "cell_type": "code",
      "metadata": {
        "colab": {
          "base_uri": "https://localhost:8080/"
        },
        "id": "IEXrKzqvTK3i",
        "outputId": "a3d4b194-cef6-4a87-efcd-338927c942c1"
      },
      "source": [
        "from difflib import get_close_matches\n",
        "\n",
        "print(get_close_matches(\"chinna\", ['china','france','india','usa']))"
      ],
      "execution_count": 14,
      "outputs": [
        {
          "output_type": "stream",
          "text": [
            "['china']\n"
          ],
          "name": "stdout"
        }
      ]
    },
    {
      "cell_type": "code",
      "metadata": {
        "colab": {
          "base_uri": "https://localhost:8080/",
          "height": 249
        },
        "id": "mtoLtmmnTdh5",
        "outputId": "83a7b3da-bd99-4028-d815-4f99adbb4eae"
      },
      "source": [
        "# pass country_name in word and dict keys in possibilities\n",
        "maybe_country = get_close_matches(Country_Name, population_dict.keys())\n",
        "\n",
        "# Then we pick the first(most similar) string from the returned list\n",
        "print(population_dict[maybe_country[0]])"
      ],
      "execution_count": 15,
      "outputs": [
        {
          "output_type": "error",
          "ename": "IndexError",
          "evalue": "ignored",
          "traceback": [
            "\u001b[0;31m---------------------------------------------------------------------------\u001b[0m",
            "\u001b[0;31mIndexError\u001b[0m                                Traceback (most recent call last)",
            "\u001b[0;32m<ipython-input-15-d0082deddbaf>\u001b[0m in \u001b[0;36m<module>\u001b[0;34m()\u001b[0m\n\u001b[1;32m      3\u001b[0m \u001b[0;34m\u001b[0m\u001b[0m\n\u001b[1;32m      4\u001b[0m \u001b[0;31m# Then we pick the first(most similar) string from the returned list\u001b[0m\u001b[0;34m\u001b[0m\u001b[0;34m\u001b[0m\u001b[0;34m\u001b[0m\u001b[0m\n\u001b[0;32m----> 5\u001b[0;31m \u001b[0mprint\u001b[0m\u001b[0;34m(\u001b[0m\u001b[0mpopulation_dict\u001b[0m\u001b[0;34m[\u001b[0m\u001b[0mmaybe_country\u001b[0m\u001b[0;34m[\u001b[0m\u001b[0;36m0\u001b[0m\u001b[0;34m]\u001b[0m\u001b[0;34m]\u001b[0m\u001b[0;34m)\u001b[0m\u001b[0;34m\u001b[0m\u001b[0;34m\u001b[0m\u001b[0m\n\u001b[0m",
            "\u001b[0;31mIndexError\u001b[0m: list index out of range"
          ]
        }
      ]
    },
    {
      "cell_type": "code",
      "metadata": {
        "colab": {
          "base_uri": "https://localhost:8080/"
        },
        "id": "dgw-xjfrThOV",
        "outputId": "56ce2d16-575b-4360-dc83-918b3b053114"
      },
      "source": [
        "from difflib import get_close_matches\n",
        "population_dict = {'china':1439, 'india':1380, 'usa':331, 'france':65,'germany':83, 'spain':46}\n",
        "\n",
        "while(True):\n",
        "    \n",
        "    Country_Name = input('Please enter Country Name(type exit to close): ').lower()\n",
        "    \n",
        "    # break from code if user enters exit\n",
        "    if Country_Name == 'exit':\n",
        "        break\n",
        "\n",
        "    if Country_Name in population_dict.keys():\n",
        "        print(population_dict[Country_Name])\n",
        "    else:\n",
        "        # look for similar strings\n",
        "        maybe_country = get_close_matches(Country_Name, population_dict.keys())\n",
        "        if maybe_country == []:  # no similar string\n",
        "            print(\"Please check for any typos. Data not Available for \",Country_Name)\n",
        "        else:\n",
        "            # user confirmation\n",
        "            ans = input(\"Do you mean %s? Type y or n.\"% maybe_country[0])\n",
        "            if ans == 'y':\n",
        "                # if y, return population\n",
        "                print(population_dict[maybe_country[0]])\n",
        "            else:\n",
        "                # if n, start again\n",
        "                print(\"Bad input. Try again.\")    "
      ],
      "execution_count": 16,
      "outputs": [
        {
          "output_type": "stream",
          "text": [
            "Please enter Country Name(type exit to close): china\n",
            "1439\n",
            "Please enter Country Name(type exit to close): india\n",
            "1380\n",
            "Please enter Country Name(type exit to close): Inida\n",
            "Do you mean india? Type y or n.y\n",
            "1380\n",
            "Please enter Country Name(type exit to close): exit\n"
          ],
          "name": "stdout"
        }
      ]
    }
  ]
}