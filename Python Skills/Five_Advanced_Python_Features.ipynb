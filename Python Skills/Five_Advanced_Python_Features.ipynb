{
  "nbformat": 4,
  "nbformat_minor": 0,
  "metadata": {
    "colab": {
      "name": "Five Advanced Python Features.ipynb",
      "provenance": [],
      "authorship_tag": "ABX9TyOciBlevCSy9QqzEaC+dbGz"
    },
    "kernelspec": {
      "name": "python3",
      "display_name": "Python 3"
    }
  },
  "cells": [
    {
      "cell_type": "markdown",
      "metadata": {
        "id": "ZZBHLFhZyY5Z"
      },
      "source": [
        "[Reference](https://towardsdatascience.com/five-advanced-python-features-169c96682350)"
      ]
    },
    {
      "cell_type": "markdown",
      "metadata": {
        "id": "4nPwpYhDyb-y"
      },
      "source": [
        "# Get Method for Dictionaries"
      ]
    },
    {
      "cell_type": "code",
      "metadata": {
        "colab": {
          "base_uri": "https://localhost:8080/",
          "height": 232
        },
        "id": "Xp0iv_dmyWHB",
        "outputId": "2ebe8a1c-8c10-4e34-d9c1-09db09cccb15"
      },
      "source": [
        "dictionary = {\n",
        "    'one': 1,\n",
        "    'two': 2\n",
        "}\n",
        "dictionary['three']"
      ],
      "execution_count": 1,
      "outputs": [
        {
          "output_type": "error",
          "ename": "KeyError",
          "evalue": "ignored",
          "traceback": [
            "\u001b[0;31m---------------------------------------------------------------------------\u001b[0m",
            "\u001b[0;31mKeyError\u001b[0m                                  Traceback (most recent call last)",
            "\u001b[0;32m<ipython-input-1-20f72050ce11>\u001b[0m in \u001b[0;36m<module>\u001b[0;34m()\u001b[0m\n\u001b[1;32m      3\u001b[0m     \u001b[0;34m'two'\u001b[0m\u001b[0;34m:\u001b[0m \u001b[0;36m2\u001b[0m\u001b[0;34m\u001b[0m\u001b[0;34m\u001b[0m\u001b[0m\n\u001b[1;32m      4\u001b[0m }\n\u001b[0;32m----> 5\u001b[0;31m \u001b[0mdictionary\u001b[0m\u001b[0;34m[\u001b[0m\u001b[0;34m'three'\u001b[0m\u001b[0;34m]\u001b[0m\u001b[0;34m\u001b[0m\u001b[0;34m\u001b[0m\u001b[0m\n\u001b[0m",
            "\u001b[0;31mKeyError\u001b[0m: 'three'"
          ]
        }
      ]
    },
    {
      "cell_type": "code",
      "metadata": {
        "id": "RGM69gVbyeIt"
      },
      "source": [
        "dictionary.get('three')"
      ],
      "execution_count": 2,
      "outputs": []
    },
    {
      "cell_type": "code",
      "metadata": {
        "colab": {
          "base_uri": "https://localhost:8080/"
        },
        "id": "eaZDr8zqye9z",
        "outputId": "e95353b0-c8b5-4c29-ca3a-d1351752abae"
      },
      "source": [
        "dictionary.get('three', False)"
      ],
      "execution_count": 3,
      "outputs": [
        {
          "output_type": "execute_result",
          "data": {
            "text/plain": [
              "False"
            ]
          },
          "metadata": {
            "tags": []
          },
          "execution_count": 3
        }
      ]
    },
    {
      "cell_type": "code",
      "metadata": {
        "colab": {
          "base_uri": "https://localhost:8080/",
          "height": 37
        },
        "id": "_-RQDeD7yiWD",
        "outputId": "a285b9e5-cfd5-4f54-eaee-84dff9e7b532"
      },
      "source": [
        "dictionary.get('three', \"doesn't exist\")"
      ],
      "execution_count": 4,
      "outputs": [
        {
          "output_type": "execute_result",
          "data": {
            "application/vnd.google.colaboratory.intrinsic+json": {
              "type": "string"
            },
            "text/plain": [
              "\"doesn't exist\""
            ]
          },
          "metadata": {
            "tags": []
          },
          "execution_count": 4
        }
      ]
    },
    {
      "cell_type": "markdown",
      "metadata": {
        "id": "_czUOlczyn4Y"
      },
      "source": [
        "Finally, if you know the contents of your dictionary — don’t use get it’s slower! "
      ]
    },
    {
      "cell_type": "markdown",
      "metadata": {
        "id": "-QErWzIWymIn"
      },
      "source": [
        "# Tree Datatypes"
      ]
    },
    {
      "cell_type": "code",
      "metadata": {
        "id": "RO1ALuGEykTF"
      },
      "source": [
        "tree = {\n",
        "    'carnivora': {\n",
        "        'canis': {\n",
        "            'c.lupus': 'c.l.familiaris'\n",
        "        },\n",
        "        'felis': 'f.catus'\n",
        "    }\n",
        "}"
      ],
      "execution_count": 5,
      "outputs": []
    },
    {
      "cell_type": "code",
      "metadata": {
        "id": "XlzB3Z8hyqHk"
      },
      "source": [
        "class Tree(dict):\n",
        "    def __missing__(self, key):\n",
        "        value = self[key] = type(self)()\n",
        "        return value"
      ],
      "execution_count": 6,
      "outputs": []
    },
    {
      "cell_type": "code",
      "metadata": {
        "colab": {
          "base_uri": "https://localhost:8080/"
        },
        "id": "UGpuCwYCysos",
        "outputId": "2f7b186a-2b67-4e2e-c445-70dc3b30b393"
      },
      "source": [
        "tree = Tree()\n",
        "tree['carnivora']['canis']['c.lupus'] = 'c.l.familiaris'\n",
        "tree['carnivora']['felis'] = 'f.catus'\n",
        "print(tree)"
      ],
      "execution_count": 7,
      "outputs": [
        {
          "output_type": "stream",
          "text": [
            "{'carnivora': {'canis': {'c.lupus': 'c.l.familiaris'}, 'felis': 'f.catus'}}\n"
          ],
          "name": "stdout"
        }
      ]
    },
    {
      "cell_type": "markdown",
      "metadata": {
        "id": "PzTdJ0kNyx8v"
      },
      "source": [
        "# Advanced List Indexing"
      ]
    },
    {
      "cell_type": "code",
      "metadata": {
        "colab": {
          "base_uri": "https://localhost:8080/"
        },
        "id": "Cfo_zR1Hyt5V",
        "outputId": "2f81be02-760f-4a62-ecc7-58fdf31fd319"
      },
      "source": [
        "x = [0, 2, 4, 6, 8, 10, 12, 14, 16, 18]\n",
        "x[::2]"
      ],
      "execution_count": 8,
      "outputs": [
        {
          "output_type": "execute_result",
          "data": {
            "text/plain": [
              "[0, 4, 8, 12, 16]"
            ]
          },
          "metadata": {
            "tags": []
          },
          "execution_count": 8
        }
      ]
    },
    {
      "cell_type": "markdown",
      "metadata": {
        "id": "YTFwL-zxyz9u"
      },
      "source": [
        "# Named Slices"
      ]
    },
    {
      "cell_type": "code",
      "metadata": {
        "id": "7eB6CWpYyy4_"
      },
      "source": [
        "named_slice = slice(5, None)  # this is equivalent to [5:]"
      ],
      "execution_count": 9,
      "outputs": []
    },
    {
      "cell_type": "code",
      "metadata": {
        "colab": {
          "base_uri": "https://localhost:8080/"
        },
        "id": "7OXe3yRZy1eJ",
        "outputId": "ce970a9d-b6b6-4462-eb12-749084964c1e"
      },
      "source": [
        "x[named_slice]"
      ],
      "execution_count": 10,
      "outputs": [
        {
          "output_type": "execute_result",
          "data": {
            "text/plain": [
              "[10, 12, 14, 16, 18]"
            ]
          },
          "metadata": {
            "tags": []
          },
          "execution_count": 10
        }
      ]
    },
    {
      "cell_type": "code",
      "metadata": {
        "colab": {
          "base_uri": "https://localhost:8080/"
        },
        "id": "5zBAj86Oy2C6",
        "outputId": "351a6c2a-f149-4afc-f027-4d09f12f8a50"
      },
      "source": [
        "new_slice = slice(3, 8, 2)\n",
        "x[new_slice]"
      ],
      "execution_count": 11,
      "outputs": [
        {
          "output_type": "execute_result",
          "data": {
            "text/plain": [
              "[6, 10, 14]"
            ]
          },
          "metadata": {
            "tags": []
          },
          "execution_count": 11
        }
      ]
    },
    {
      "cell_type": "markdown",
      "metadata": {
        "id": "Oo7c5U3iy4aF"
      },
      "source": [
        "# Decorator Functions"
      ]
    },
    {
      "cell_type": "code",
      "metadata": {
        "id": "lRUtYZZZzBML"
      },
      "source": [
        "import datetime"
      ],
      "execution_count": 16,
      "outputs": []
    },
    {
      "cell_type": "code",
      "metadata": {
        "id": "Y3GOv7Mfy3gO"
      },
      "source": [
        "def pointless():\n",
        "    for i in range(20000000):\n",
        "        x = i*2\n",
        "    print(x)"
      ],
      "execution_count": 17,
      "outputs": []
    },
    {
      "cell_type": "code",
      "metadata": {
        "id": "fmyWhUnoy8El"
      },
      "source": [
        "def timer(func):\n",
        "    def wrapper():\n",
        "        start = datetime.datetime.now()\n",
        "        func()\n",
        "        runtime = datetime.datetime.now() - start\n",
        "        print(runtime)\n",
        "    return wrapper"
      ],
      "execution_count": 18,
      "outputs": []
    },
    {
      "cell_type": "code",
      "metadata": {
        "colab": {
          "base_uri": "https://localhost:8080/"
        },
        "id": "JX1ZnwzOy9fi",
        "outputId": "ee198ceb-48b4-4aaf-d4c7-ef95cec00e33"
      },
      "source": [
        "@timer\n",
        "def pointless():\n",
        "    for i in range(20000000):\n",
        "        x = i*2\n",
        "    print(x)\n",
        "    \n",
        "pointless()"
      ],
      "execution_count": 19,
      "outputs": [
        {
          "output_type": "stream",
          "text": [
            "39999998\n",
            "0:00:01.093118\n"
          ],
          "name": "stdout"
        }
      ]
    },
    {
      "cell_type": "code",
      "metadata": {
        "id": "Bnoko8Way-06"
      },
      "source": [
        "def repeat(func):\n",
        "    def wrapper():\n",
        "        for i in range(2):\n",
        "            func()\n",
        "            print(i)\n",
        "    return wrapper"
      ],
      "execution_count": 20,
      "outputs": []
    },
    {
      "cell_type": "code",
      "metadata": {
        "id": "7VC3-OiPzEaR"
      },
      "source": [
        "@timer\n",
        "@repeat\n",
        "def pointless():\n",
        "    for i in range(20000000):\n",
        "        x = i*2\n",
        "    print(x)"
      ],
      "execution_count": 21,
      "outputs": []
    },
    {
      "cell_type": "code",
      "metadata": {
        "colab": {
          "base_uri": "https://localhost:8080/"
        },
        "id": "BBiWfkxNzGPS",
        "outputId": "f2bb0805-999c-497a-b64a-649f3eebec29"
      },
      "source": [
        "pointless()"
      ],
      "execution_count": 22,
      "outputs": [
        {
          "output_type": "stream",
          "text": [
            "39999998\n",
            "0\n",
            "39999998\n",
            "1\n",
            "0:00:02.203361\n"
          ],
          "name": "stdout"
        }
      ]
    },
    {
      "cell_type": "markdown",
      "metadata": {
        "id": "q67HvxifzJQr"
      },
      "source": [
        "# Denote Scopes with Braces"
      ]
    },
    {
      "cell_type": "code",
      "metadata": {
        "colab": {
          "base_uri": "https://localhost:8080/",
          "height": 130
        },
        "id": "PN3sZRNZzIJK",
        "outputId": "d937f456-48d1-4df2-f6d8-2b33d169f776"
      },
      "source": [
        "from __future__ import braces"
      ],
      "execution_count": 23,
      "outputs": [
        {
          "output_type": "error",
          "ename": "SyntaxError",
          "evalue": "ignored",
          "traceback": [
            "\u001b[0;36m  File \u001b[0;32m\"<ipython-input-23-6d5c5b2f0daf>\"\u001b[0;36m, line \u001b[0;32m1\u001b[0m\n\u001b[0;31m    from __future__ import braces\u001b[0m\n\u001b[0m                                 ^\u001b[0m\n\u001b[0;31mSyntaxError\u001b[0m\u001b[0;31m:\u001b[0m not a chance\n"
          ]
        }
      ]
    },
    {
      "cell_type": "code",
      "metadata": {
        "colab": {
          "base_uri": "https://localhost:8080/"
        },
        "id": "KIrX6RoRzKaz",
        "outputId": "1921eea3-9529-48df-ea10-59eb2218e996"
      },
      "source": [
        "import this"
      ],
      "execution_count": 24,
      "outputs": [
        {
          "output_type": "stream",
          "text": [
            "The Zen of Python, by Tim Peters\n",
            "\n",
            "Beautiful is better than ugly.\n",
            "Explicit is better than implicit.\n",
            "Simple is better than complex.\n",
            "Complex is better than complicated.\n",
            "Flat is better than nested.\n",
            "Sparse is better than dense.\n",
            "Readability counts.\n",
            "Special cases aren't special enough to break the rules.\n",
            "Although practicality beats purity.\n",
            "Errors should never pass silently.\n",
            "Unless explicitly silenced.\n",
            "In the face of ambiguity, refuse the temptation to guess.\n",
            "There should be one-- and preferably only one --obvious way to do it.\n",
            "Although that way may not be obvious at first unless you're Dutch.\n",
            "Now is better than never.\n",
            "Although never is often better than *right* now.\n",
            "If the implementation is hard to explain, it's a bad idea.\n",
            "If the implementation is easy to explain, it may be a good idea.\n",
            "Namespaces are one honking great idea -- let's do more of those!\n"
          ],
          "name": "stdout"
        }
      ]
    },
    {
      "cell_type": "code",
      "metadata": {
        "id": "gKneaMSpzMJj"
      },
      "source": [
        "import antigravity"
      ],
      "execution_count": 25,
      "outputs": []
    },
    {
      "cell_type": "code",
      "metadata": {
        "colab": {
          "base_uri": "https://localhost:8080/"
        },
        "id": "K8I-2OipzO0M",
        "outputId": "bf8eca81-f744-44d2-d96c-ce6417fc54d1"
      },
      "source": [
        "hash(float('inf'))"
      ],
      "execution_count": 26,
      "outputs": [
        {
          "output_type": "execute_result",
          "data": {
            "text/plain": [
              "314159"
            ]
          },
          "metadata": {
            "tags": []
          },
          "execution_count": 26
        }
      ]
    }
  ]
}