{
  "nbformat": 4,
  "nbformat_minor": 0,
  "metadata": {
    "colab": {
      "provenance": [],
      "authorship_tag": "ABX9TyNL+/HjPS6ropxJcEwj+8ZF"
    },
    "kernelspec": {
      "name": "python3",
      "display_name": "Python 3"
    },
    "language_info": {
      "name": "python"
    }
  },
  "cells": [
    {
      "cell_type": "markdown",
      "source": [
        "[Reference](https://medium.com/@techclaw/understanding-python-strip-72aa79b76984)"
      ],
      "metadata": {
        "id": "ltuSE6N4ZK0E"
      }
    },
    {
      "cell_type": "markdown",
      "source": [
        "```\n",
        "string.strip([characters])\n",
        "```"
      ],
      "metadata": {
        "id": "qfveO5HVZNzN"
      }
    },
    {
      "cell_type": "code",
      "execution_count": 1,
      "metadata": {
        "colab": {
          "base_uri": "https://localhost:8080/"
        },
        "id": "i1bqAZLhZAoA",
        "outputId": "41ec2d39-7d12-48a2-fe0d-120b9ce985bb"
      },
      "outputs": [
        {
          "output_type": "stream",
          "name": "stdout",
          "text": [
            "Python Strip\n"
          ]
        }
      ],
      "source": [
        "text = \"   Python Strip   \"\n",
        "cleaned_text = text.strip()\n",
        "print(cleaned_text)"
      ]
    },
    {
      "cell_type": "markdown",
      "source": [
        "# Stripping Characters"
      ],
      "metadata": {
        "id": "HHQSo1f1ZbTK"
      }
    },
    {
      "cell_type": "code",
      "source": [
        "text = \"!!!This is Python!!!\"\n",
        "cleaned_text = text.strip(\"!\")\n",
        "print(cleaned_text)"
      ],
      "metadata": {
        "colab": {
          "base_uri": "https://localhost:8080/"
        },
        "id": "kgliJBlcZU7z",
        "outputId": "849afb2b-6187-4455-9190-e030d1131ed8"
      },
      "execution_count": 2,
      "outputs": [
        {
          "output_type": "stream",
          "name": "stdout",
          "text": [
            "This is Python\n"
          ]
        }
      ]
    },
    {
      "cell_type": "markdown",
      "source": [
        "# Stripping from Both Sides"
      ],
      "metadata": {
        "id": "tE_rgHpSZcr2"
      }
    },
    {
      "cell_type": "code",
      "source": [
        "text = \"   Python Strip   \"\n",
        "cleaned_text = text.strip()\n",
        "print(cleaned_text)"
      ],
      "metadata": {
        "colab": {
          "base_uri": "https://localhost:8080/"
        },
        "id": "3juA6ZtjZWeb",
        "outputId": "fb8969d5-a3cf-4042-a33b-a66e6bccf0a4"
      },
      "execution_count": 3,
      "outputs": [
        {
          "output_type": "stream",
          "name": "stdout",
          "text": [
            "Python Strip\n"
          ]
        }
      ]
    },
    {
      "cell_type": "markdown",
      "source": [
        "# Using Strip with Different Characters"
      ],
      "metadata": {
        "id": "_JwzcYXvZfM6"
      }
    },
    {
      "cell_type": "code",
      "source": [
        "price = \"$$99.99$$\"\n",
        "cleaned_price = price.strip(\"$\")\n",
        "print(cleaned_price)"
      ],
      "metadata": {
        "colab": {
          "base_uri": "https://localhost:8080/"
        },
        "id": "pqGH7LC_ZZKK",
        "outputId": "174f80a4-9d9e-4e55-f791-a47ef84ed0e4"
      },
      "execution_count": 4,
      "outputs": [
        {
          "output_type": "stream",
          "name": "stdout",
          "text": [
            "99.99\n"
          ]
        }
      ]
    },
    {
      "cell_type": "markdown",
      "source": [
        "# Case Insensitivity"
      ],
      "metadata": {
        "id": "eI8JtxfQZjv0"
      }
    },
    {
      "cell_type": "code",
      "source": [
        "text = \"strip STRIP StRiP\"\n",
        "cleaned_text = text.lower().strip(\"strip\")\n",
        "print(cleaned_text)"
      ],
      "metadata": {
        "colab": {
          "base_uri": "https://localhost:8080/"
        },
        "id": "JRX0xC4yZhNN",
        "outputId": "9351ec75-480c-42b5-cdd7-bb619d3e44c3"
      },
      "execution_count": 5,
      "outputs": [
        {
          "output_type": "stream",
          "name": "stdout",
          "text": [
            " strip \n"
          ]
        }
      ]
    },
    {
      "cell_type": "markdown",
      "source": [
        "# Handling Newlines and Tabs"
      ],
      "metadata": {
        "id": "4Sub5z-HZvr4"
      }
    },
    {
      "cell_type": "code",
      "source": [
        "text = \"Python\\nStrip\\tExample\"\n",
        "cleaned_text = text.strip(\"\\n\\t\")\n",
        "print(cleaned_text)"
      ],
      "metadata": {
        "colab": {
          "base_uri": "https://localhost:8080/"
        },
        "id": "ax6xm2HwZl8D",
        "outputId": "b2afff8c-b0c9-4304-8886-67773de70141"
      },
      "execution_count": 6,
      "outputs": [
        {
          "output_type": "stream",
          "name": "stdout",
          "text": [
            "Python\n",
            "Strip\tExample\n"
          ]
        }
      ]
    }
  ]
}
