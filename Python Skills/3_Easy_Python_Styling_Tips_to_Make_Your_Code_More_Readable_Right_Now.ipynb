{
  "nbformat": 4,
  "nbformat_minor": 0,
  "metadata": {
    "colab": {
      "provenance": [],
      "authorship_tag": "ABX9TyPQ0WQOKxPPcwMUSvAl80fR"
    },
    "kernelspec": {
      "name": "python3",
      "display_name": "Python 3"
    },
    "language_info": {
      "name": "python"
    }
  },
  "cells": [
    {
      "cell_type": "markdown",
      "source": [
        "[Reference](https://medium.com/@antongw1p/3-easy-python-styling-tips-to-make-your-code-more-readable-right-now-bccbd5520929)"
      ],
      "metadata": {
        "id": "QJL3CraLzq_D"
      }
    },
    {
      "cell_type": "markdown",
      "source": [
        "# Avoid Long Nesting"
      ],
      "metadata": {
        "id": "wT8xvLuFz5Jx"
      }
    },
    {
      "cell_type": "code",
      "execution_count": 2,
      "metadata": {
        "id": "pBli8-q1zjxw"
      },
      "outputs": [],
      "source": [
        "DRINK_BASE_PRICE = {\n",
        "    \"coffee\": 2.5,\n",
        "    \"iced coffee\": 3,\n",
        "    \"tea\":2\n",
        "}\n",
        "\n",
        "def starbucks_drink_price(drink, have_whipped_cream, extra_syrup):\n",
        "    # Accepts:\n",
        "    #   drink: str -- one of \"coffee\", \"iced coffee\" or \"tea\"\n",
        "    #   have_whipped_cream: boolean -- did the customer add whipped cream?\n",
        "    #   extra_syrup: boolean -- did the customer ask for extra syrup?\n",
        "    #\n",
        "    # returns:\n",
        "    #   float total price of the drink\n",
        "    \n",
        "    price = DRINK_BASE_PRICE[drink]\n",
        "    \n",
        "    if drink == \"coffee\":\n",
        "        if have_whipped_cream:\n",
        "            if extra_syrup:\n",
        "                price += 0.4\n",
        "            else:\n",
        "                price += 0.25\n",
        "        else:\n",
        "            if extra_syrup:\n",
        "                price += 0.25\n",
        "                \n",
        "    elif drink == \"iced coffee\":\n",
        "        if have_whipped_cream:\n",
        "            if extra_syrup:\n",
        "                price += 0.5\n",
        "            else:\n",
        "                price += 0.3\n",
        "        else:\n",
        "            if extra_syrup:\n",
        "                price += 0.3\n",
        "        \n",
        "    elif drink == \"tea\":\n",
        "        if have_whipped_cream:\n",
        "            raise Exception(\"Can't have whipped cream with tea! Ew!\")\n",
        "        else:\n",
        "            if extra_syrup:\n",
        "                price += 0.2\n",
        "\n",
        "    else:\n",
        "        raise Exception(f\"Unexpected drink {drink}\")\n",
        "        \n",
        "    return price"
      ]
    },
    {
      "cell_type": "code",
      "source": [
        "DRINK_BASE_PRICE = {\n",
        "    \"coffee\": 2.5,\n",
        "    \"iced coffee\": 3,\n",
        "    \"tea\":2\n",
        "}\n",
        "\n",
        "DRINK_WHIPPED_CREAM_PRICE = {\n",
        "    \"coffee\": 0.25,\n",
        "    \"iced coffee\": 0.3\n",
        "}\n",
        "\n",
        "DRINK_EXTRA_SYRUP_PRICE = {\n",
        "    \"coffee\": 0.25,\n",
        "    \"iced coffee\": 0.3,\n",
        "    \"tea\": 0.2\n",
        "}\n",
        "\n",
        "DRINK_COMBO_DISCOUNT = {\n",
        "    \"coffee\": 0.1,\n",
        "    \"iced coffee\": 0.1 \n",
        "}\n",
        "\n",
        "\n",
        "def drink_with_whipped_cream(drink, price, have_whipped_cream):\n",
        "    if have_whipped_cream:\n",
        "        return DRINK_WHIPPED_CREAM_PRICE.get(drink, 0)\n",
        "    return 0\n",
        "\n",
        "\n",
        "def drink_with_extra_syrup(drink, price, extra_syrup):\n",
        "    if extra_syrup:\n",
        "        return DRINK_EXTRA_SYRUP_PRICE.get(drink, 0)\n",
        "    return 0\n",
        "\n",
        "\n",
        "def drink_with_combo_discount(drink, price, have_whipped_cream, extra_syrup):\n",
        "    if have_whipped_cream and extra_syrup:\n",
        "        return -DRINK_COMBO_DISCOUNT.get(drink, 0)\n",
        "    return 0\n",
        "    \n",
        "\n",
        "def starbucks_drink_price(drink, have_whipped_cream, extra_syrup):\n",
        "    # Accepts:\n",
        "    #   drink: str -- one of \"coffee\", \"iced coffee\" or \"tea\"\n",
        "    #   have_whipped_cream: boolean -- did the customer add whipped cream?\n",
        "    #   extra_syrup: boolean -- did the customer ask for extra syrup?\n",
        "    #\n",
        "    # returns:\n",
        "    #   float total price of the drink\n",
        "    \n",
        "    if drink not in DRINK_BASE_PRICE:\n",
        "        raise Exception(f\"Unexpected drink {drink}\")\n",
        "        \n",
        "    price = DRINK_BASE_PRICE[drink]\n",
        "    price += drink_with_whipped_cream(drink, price, have_whipped_cream)\n",
        "    price += drink_with_extra_syrup(drink, price, extra_syrup)\n",
        "    price += drink_with_combo_discount(drink, price, have_whipped_cream, extra_syrup)\n",
        "        \n",
        "    return price"
      ],
      "metadata": {
        "id": "gwmvQOfyzuqB"
      },
      "execution_count": 3,
      "outputs": []
    },
    {
      "cell_type": "markdown",
      "source": [
        "# Break Those Lines"
      ],
      "metadata": {
        "id": "HOoMbuhWz7NV"
      }
    },
    {
      "cell_type": "code",
      "source": [
        "def fetch_something(browser):\n",
        "    return browser.post(\"www.testurl.com\", headers={\"Accept\": \"*/*\", \"Accept-Encoding\": \"gzip\", \"Accept-Language\": \"en-GB\", \"Connection\": \"keep-alive\", \"Content-Type\": \"application/x-www-form-urlencoded\"}, data={\"some_key\": \"some_value\"})"
      ],
      "metadata": {
        "id": "H-N3w54tz1En"
      },
      "execution_count": 4,
      "outputs": []
    },
    {
      "cell_type": "code",
      "source": [
        "def fetch_something(browser):\n",
        "    return browser.post(\n",
        "        \"www.testurl.com\",\n",
        "        headers={\n",
        "            \"Accept\": \"*/*\",\n",
        "            \"Accept-Encoding\": \"gzip\",\n",
        "            \"Accept-Language\": \"en-GB\",\n",
        "            \"Connection\": \"keep-alive\",\n",
        "            \"Content-Type\": \"application/x-www-form-urlencoded\"\n",
        "        },\n",
        "        data={\n",
        "            \"some_key\": \"some_value\"\n",
        "        }\n",
        "    )"
      ],
      "metadata": {
        "id": "dSEDPxvXz87H"
      },
      "execution_count": 5,
      "outputs": []
    },
    {
      "cell_type": "markdown",
      "source": [
        "# Break Those Strings"
      ],
      "metadata": {
        "id": "0jKZqv9hz-K5"
      }
    },
    {
      "cell_type": "code",
      "source": [
        "def fetch_something(browser, account_number, date_start, date_end, account_type, currency):\n",
        "    url = f\"https://someurl.com/?accountNumber={account_number}&dateStart={date_start}&dateEnd={date_end}&accountType={account_type}&currency={currency}\"\n",
        "    return browser.get(url)"
      ],
      "metadata": {
        "id": "7eT7w7rrz9Hd"
      },
      "execution_count": 6,
      "outputs": []
    },
    {
      "cell_type": "code",
      "source": [
        "def fetch_something(browser, account_number, date_start, date_end, account_type, currency):\n",
        "    url = (\n",
        "        \"https://someurl.com/\"\n",
        "        f\"?accountNumber={account_number}\"\n",
        "        f\"&dateStart={date_start}\"\n",
        "        f\"&dateEnd={date_end}\"\n",
        "        f\"&accountType={account_type}\"\n",
        "        f\"&currency={currency}\"\n",
        "    )\n",
        "    return browser.get(url)"
      ],
      "metadata": {
        "id": "FoO82r23z_Vo"
      },
      "execution_count": 7,
      "outputs": []
    }
  ]
}
