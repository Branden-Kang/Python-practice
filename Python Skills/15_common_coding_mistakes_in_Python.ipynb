{
  "nbformat": 4,
  "nbformat_minor": 0,
  "metadata": {
    "colab": {
      "name": "15 common coding mistakes in Python.ipynb",
      "provenance": [],
      "authorship_tag": "ABX9TyPmTyYPcOgkCRhxkn84UuUg"
    },
    "kernelspec": {
      "name": "python3",
      "display_name": "Python 3"
    }
  },
  "cells": [
    {
      "cell_type": "code",
      "metadata": {
        "colab": {
          "base_uri": "https://localhost:8080/"
        },
        "id": "jh1gapv_3y5b",
        "outputId": "722951a8-31b2-47ff-ae4c-a6086d042be1"
      },
      "source": [
        "import pandas as pd\n",
        "import numpy as np\n",
        "import os\n",
        "\n",
        "DATA_DIR = \"data\" # indicate magical constansts (maybe rather put it on the top of the script)\n",
        "# fix gruesome var names\n",
        "crime06_filename = \"CrimeOneYearofData_2006.xlsx\"\n",
        "crime07_filename = \"CrimeOneYearofData_2007.xlsx\"\n",
        "\n",
        "print(os.path.join(DATA_DIR, crime06_filename))\n",
        "print(os.path.join(DATA_DIR, crime07_filename))"
      ],
      "execution_count": 3,
      "outputs": [
        {
          "output_type": "stream",
          "text": [
            "data/CrimeOneYearofData_2006.xlsx\n",
            "data/CrimeOneYearofData_2007.xlsx\n"
          ],
          "name": "stdout"
        }
      ]
    },
    {
      "cell_type": "code",
      "metadata": {
        "id": "J45wibeV4hY3"
      },
      "source": [
        "# assign revenues in $ to marketing campaigns\n",
        "camp1_revenue = 50000\n",
        "camp2_revenue = 100000\n",
        "\n",
        "#### BAD WAY ####\n",
        "# calc whic performed better\n",
        "camps_revenue_diff = (camp2_revenue * 0.65)  - camp1_revenue\n",
        "#### END BAD WAY ####\n",
        "\n",
        "#### GOOD WAY ####\n",
        "CAMP2_NORMALIZER = 0.65 # we need to normalize because the campaign ran in peak season\n",
        "# calc whic performed better\n",
        "camps_revenue_diff = (camp2_revenue * CAMP2_NORMALIZER)  - camp1_revenue\n",
        "#### END GOOD WAY ####"
      ],
      "execution_count": 4,
      "outputs": []
    },
    {
      "cell_type": "code",
      "metadata": {
        "colab": {
          "base_uri": "https://localhost:8080/"
        },
        "id": "tKayYoG_4ksH",
        "outputId": "1c6f18b1-3bba-4fd7-d397-d957788ed864"
      },
      "source": [
        "# Our original function\n",
        "def mystery_combine(a, b, times):\n",
        "    return (a + b) * times\n",
        "\n",
        "print(mystery_combine(2, 3, 4))\n",
        "# 20\n",
        "\n",
        "print(mystery_combine('Hello ', 'World! ', 4))\n",
        "# Hello World! Hello World! Hello World! Hello World!\n",
        "\n",
        "# show your intents explicitly by indicating types of your argument and returned value\n",
        "def mystery_combine(a: str, b: str, times: int) -> str:\n",
        "    return (a + b) * times"
      ],
      "execution_count": 5,
      "outputs": [
        {
          "output_type": "stream",
          "text": [
            "20\n",
            "Hello World! Hello World! Hello World! Hello World! \n"
          ],
          "name": "stdout"
        }
      ]
    },
    {
      "cell_type": "code",
      "metadata": {
        "id": "sZH1lZ1H4t-2"
      },
      "source": [
        "import pandas as pd\n",
        "import os\n",
        "\n",
        "DATA_PATH = \"data\"\n",
        "filename_list = os.listdir(DATA_PATH)\n",
        "\n",
        "# read in bunch of csv-s from a dir\n",
        "csv_list = []\n",
        "for fileaname in filename_list:\n",
        "  csv_list.append(pd.read_csv(os.path.join(DATA_PATH, filename)))"
      ],
      "execution_count": 6,
      "outputs": []
    },
    {
      "cell_type": "code",
      "metadata": {
        "id": "uq4JXBz34n_f"
      },
      "source": [
        "import pandas as pd\n",
        "import os\n",
        "\n",
        "DATA_PATH = \"data\"\n",
        "filename_list = os.listdir(DATA_PATH)\n",
        "\n",
        "#### GOOD WAY ####\n",
        "csv_list = [pd.read_csv(os.path.join(DATA_PATH, filename)) for filename in filename_list]\n",
        "# what about if not only .csv-s are present? easy to tackle this with list comprehensions\n",
        "csv_list = [\n",
        "  pd.read_csv(os.path.join(DATA_PATH, filename)) for filename in filename_list if filename.endswith(\".csv\")]\n",
        "#### END GOOD WAY ####"
      ],
      "execution_count": 9,
      "outputs": []
    },
    {
      "cell_type": "code",
      "metadata": {
        "id": "_Yc_HMVE5CWE"
      },
      "source": [
        "# lets aggregate click and time spent to its mean in a Q\n",
        "var_list = [\"clicks\", \"time_spent\"]\n",
        "var_list_Q = [varname + \"_Q\" for varname in var_list]\n",
        "\n",
        "#### BAD WAY ####\n",
        "df_Q = df.groupby(\"id\").rolling(window=3, min_periods=1, on=\"yearmonth\")[var_list].mean().reset_index().rename(columns=dict(zip(var_list, var_list_Q)))\n",
        "#### BAD WAY ####\n",
        "\n",
        "#### GOOD WAY ####\n",
        "df_Q = (\n",
        "    df\n",
        "    .groupby(\"id\")\n",
        "    .rolling(window=3, min_periods=1, on=\"yearmonth\")[var_list]\n",
        "    .mean()\n",
        "    .reset_index()\n",
        "    .rename(columns=dict(zip(var_list, var_list_Q))))\n",
        "#### END GOOD WAY ####"
      ],
      "execution_count": 10,
      "outputs": []
    },
    {
      "cell_type": "code",
      "metadata": {
        "id": "75El0MwG472b"
      },
      "source": [
        "import datetime\n",
        "from dateutil.relativedelta import relativedelta\n",
        "\n",
        "# task: get months between two dates in YM format\n",
        "\n",
        "#### BAD WAY ####\n",
        "start_num = 201910\n",
        "end_num = 202012\n",
        "\n",
        "res_list = []\n",
        "iter_num = start_num\n",
        "while iter_num < end_num:\n",
        "    if abs(iter_num) % 100 > 12:\n",
        "        iter_num += 88\n",
        "        res_list.append(iter_num)\n",
        "        iter_num += 1\n",
        "    else:\n",
        "        res_list.append(iter_num)\n",
        "        iter_num += 1\n",
        "res_list.append(iter_num)\n",
        "#### END BAD WAY ####\n",
        "\n",
        "#### GOOD WAY ####\n",
        "# initialize datetimes\n",
        "start_datetime = datetime.datetime(2019, 10, 1)\n",
        "end_datetime = datetime.datetime(2020, 12, 1)\n",
        "\n",
        "# find months between end and astart date\n",
        "r = relativedelta(end_datetime, start_datetime)\n",
        "months_between = r.months + (12*r.years)\n",
        "\n",
        "myres = [\n",
        "    start_datetime + relativedelta(months=_)\n",
        "    for _ in range(1, months_between + 1)]\n",
        "# format dates\n",
        "myres = [element.strftime(\"%Y%m\") for element in myres]\n",
        "#### END GOOD WAY ####"
      ],
      "execution_count": 11,
      "outputs": []
    },
    {
      "cell_type": "code",
      "metadata": {
        "id": "m47iHvi75Okw",
        "outputId": "0137bff3-325c-4317-eb09-cd62044a2ac4",
        "colab": {
          "base_uri": "https://localhost:8080/"
        }
      },
      "source": [
        "myres"
      ],
      "execution_count": 12,
      "outputs": [
        {
          "output_type": "execute_result",
          "data": {
            "text/plain": [
              "['201911',\n",
              " '201912',\n",
              " '202001',\n",
              " '202002',\n",
              " '202003',\n",
              " '202004',\n",
              " '202005',\n",
              " '202006',\n",
              " '202007',\n",
              " '202008',\n",
              " '202009',\n",
              " '202010',\n",
              " '202011',\n",
              " '202012']"
            ]
          },
          "metadata": {
            "tags": []
          },
          "execution_count": 12
        }
      ]
    }
  ]
}