{
  "nbformat": 4,
  "nbformat_minor": 0,
  "metadata": {
    "colab": {
      "provenance": [],
      "authorship_tag": "ABX9TyMiGXDR0xJgrQa46qxh0HdC"
    },
    "kernelspec": {
      "name": "python3",
      "display_name": "Python 3"
    },
    "language_info": {
      "name": "python"
    }
  },
  "cells": [
    {
      "cell_type": "markdown",
      "source": [
        "[Reference](https://medium.com/@sarperismetmakas/heaps-in-python-91b99afb40db)"
      ],
      "metadata": {
        "id": "mEkB4nOZdNrh"
      }
    },
    {
      "cell_type": "markdown",
      "source": [
        "# Creating a Heap"
      ],
      "metadata": {
        "id": "2VaLLtNzdT2T"
      }
    },
    {
      "cell_type": "code",
      "execution_count": 1,
      "metadata": {
        "id": "iBlBBIvycjps"
      },
      "outputs": [],
      "source": [
        "import heapq"
      ]
    },
    {
      "cell_type": "markdown",
      "source": [
        "# Creating a Min-Heap"
      ],
      "metadata": {
        "id": "h_nxdvVPdU39"
      }
    },
    {
      "cell_type": "code",
      "source": [
        "heap = [4, 8, 2, 6, 7, 1]\n",
        "heapq.heapify(heap)\n",
        "print(heap)"
      ],
      "metadata": {
        "colab": {
          "base_uri": "https://localhost:8080/"
        },
        "id": "5DZaWURtdQ2Z",
        "outputId": "873298d0-3659-494c-a8cc-347f16d5621e"
      },
      "execution_count": 2,
      "outputs": [
        {
          "output_type": "stream",
          "name": "stdout",
          "text": [
            "[1, 6, 2, 8, 7, 4]\n"
          ]
        }
      ]
    },
    {
      "cell_type": "markdown",
      "source": [
        "# Inserting Elements"
      ],
      "metadata": {
        "id": "uBlHoXRzdV6O"
      }
    },
    {
      "cell_type": "code",
      "source": [
        "heap = [1, 4, 2, 7, 9]\n",
        "heapq.heapify(heap)\n",
        "\n",
        "heapq.heappush(heap, 5)\n",
        "print(heap)"
      ],
      "metadata": {
        "colab": {
          "base_uri": "https://localhost:8080/"
        },
        "id": "IpM8yneodR7_",
        "outputId": "07505a53-e2df-4b8c-8fa6-0388c65f0297"
      },
      "execution_count": 3,
      "outputs": [
        {
          "output_type": "stream",
          "name": "stdout",
          "text": [
            "[1, 4, 2, 7, 9, 5]\n"
          ]
        }
      ]
    },
    {
      "cell_type": "markdown",
      "source": [
        "# Getting the Minimum Element"
      ],
      "metadata": {
        "id": "6HKz4A1fdX3L"
      }
    },
    {
      "cell_type": "code",
      "source": [
        "min_value = heapq.heappop(heap)\n",
        "print(min_value)  # Output: 1\n",
        "print(heap)      # Output: [2, 4, 5, 7, 9]"
      ],
      "metadata": {
        "colab": {
          "base_uri": "https://localhost:8080/"
        },
        "id": "xfGdrBX6dZHX",
        "outputId": "a20a1274-ada9-4289-b45d-9cb1161fbdf7"
      },
      "execution_count": 4,
      "outputs": [
        {
          "output_type": "stream",
          "name": "stdout",
          "text": [
            "1\n",
            "[2, 4, 5, 7, 9]\n"
          ]
        }
      ]
    },
    {
      "cell_type": "markdown",
      "source": [
        "# Getting the k Largest Elements"
      ],
      "metadata": {
        "id": "1nTCcAdGdZub"
      }
    },
    {
      "cell_type": "code",
      "source": [
        "heap = [1, 4, 2, 7, 9]\n",
        "heapq.heapify(heap)\n",
        "\n",
        "k_largest = heapq.nlargest(3, heap)\n",
        "print(k_largest)"
      ],
      "metadata": {
        "colab": {
          "base_uri": "https://localhost:8080/"
        },
        "id": "AnG4CO3jdZP-",
        "outputId": "06b6055b-7eac-45c0-ecb8-b936464bbb3d"
      },
      "execution_count": 5,
      "outputs": [
        {
          "output_type": "stream",
          "name": "stdout",
          "text": [
            "[9, 7, 4]\n"
          ]
        }
      ]
    },
    {
      "cell_type": "markdown",
      "source": [
        "# Getting the k Smallest Elements"
      ],
      "metadata": {
        "id": "8s5q1Ux6dcuD"
      }
    },
    {
      "cell_type": "code",
      "source": [
        "heap = [1, 4, 2, 7, 9]\n",
        "heapq.heapify(heap)\n",
        "\n",
        "k_smallest = heapq.nsmallest(3, heap)\n",
        "print(k_smallest)"
      ],
      "metadata": {
        "colab": {
          "base_uri": "https://localhost:8080/"
        },
        "id": "B1DlkRywdb45",
        "outputId": "5bf86e10-a0c7-4923-d31a-a94ac57f979f"
      },
      "execution_count": 6,
      "outputs": [
        {
          "output_type": "stream",
          "name": "stdout",
          "text": [
            "[1, 2, 4]\n"
          ]
        }
      ]
    },
    {
      "cell_type": "markdown",
      "source": [
        "# Heap Sort"
      ],
      "metadata": {
        "id": "7wZDA7bDde0O"
      }
    },
    {
      "cell_type": "code",
      "source": [
        "arr = [4, 2, 7, 1, 9, 3]\n",
        "sorted_arr = []\n",
        "for _ in range(len(arr)):\n",
        "    sorted_arr.append(heapq.heappop(arr))\n",
        "print(sorted_arr)"
      ],
      "metadata": {
        "colab": {
          "base_uri": "https://localhost:8080/"
        },
        "id": "O4JKngyCdd19",
        "outputId": "58788124-fca7-40df-bd1d-d07d15a9c092"
      },
      "execution_count": 7,
      "outputs": [
        {
          "output_type": "stream",
          "name": "stdout",
          "text": [
            "[4, 2, 1, 3, 7, 9]\n"
          ]
        }
      ]
    }
  ]
}
