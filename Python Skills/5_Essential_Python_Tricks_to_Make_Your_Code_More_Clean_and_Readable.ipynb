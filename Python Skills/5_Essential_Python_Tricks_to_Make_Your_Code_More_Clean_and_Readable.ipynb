{
  "nbformat": 4,
  "nbformat_minor": 0,
  "metadata": {
    "colab": {
      "name": "5 Essential Python Tricks to Make Your Code More Clean and Readable.ipynb",
      "provenance": [],
      "authorship_tag": "ABX9TyPm+MhCUL21WAM05Ttmw/Im"
    },
    "kernelspec": {
      "name": "python3",
      "display_name": "Python 3"
    }
  },
  "cells": [
    {
      "cell_type": "markdown",
      "metadata": {
        "id": "alvvizvJTHvp",
        "colab_type": "text"
      },
      "source": [
        "[Reference](https://towardsdatascience.com/5-essential-python-tricks-to-make-your-code-more-clean-readable-elegant-33db96d99e84)"
      ]
    },
    {
      "cell_type": "markdown",
      "metadata": {
        "id": "Af66JXESTKK7",
        "colab_type": "text"
      },
      "source": [
        "# 1 | Replacing nested ifs with if/continue"
      ]
    },
    {
      "cell_type": "code",
      "metadata": {
        "id": "kPiyfjrQTDG2",
        "colab_type": "code",
        "colab": {
          "base_uri": "https://localhost:8080/",
          "height": 68
        },
        "outputId": "af83acbf-b2b2-404c-a3d7-4f41e07c0ec9"
      },
      "source": [
        "matrix = [[0,1,2],[3,4,5],[6,7,8]] #3x3 matrix\n",
        "for row in range(len(matrix)):       #] loop through each row\n",
        "    for col in range(len(matrix)):   #] loop through each element in each row\n",
        "        if matrix[row][col] < 6 and row!=1: # if meets a certain condition\n",
        "            print(row,col)                  # do something with numbers"
      ],
      "execution_count": 1,
      "outputs": [
        {
          "output_type": "stream",
          "text": [
            "0 0\n",
            "0 1\n",
            "0 2\n"
          ],
          "name": "stdout"
        }
      ]
    },
    {
      "cell_type": "code",
      "metadata": {
        "id": "2wuZJakiTSXC",
        "colab_type": "code",
        "colab": {
          "base_uri": "https://localhost:8080/",
          "height": 68
        },
        "outputId": "433fc01c-0fc0-4780-c7c8-474d0fb507c6"
      },
      "source": [
        "matrix = [[0,1,2],[3,4,5],[6,7,8]]\n",
        "for row in range(len(matrix)):\n",
        "    for col in range(len(matrix)):\n",
        "        # if the condition is NOT satisfied: go to next iteration\n",
        "        if not (matrix[row][col] < 6 and row!=1): continue\n",
        "        print(row,col)"
      ],
      "execution_count": 2,
      "outputs": [
        {
          "output_type": "stream",
          "text": [
            "0 0\n",
            "0 1\n",
            "0 2\n"
          ],
          "name": "stdout"
        }
      ]
    },
    {
      "cell_type": "markdown",
      "metadata": {
        "id": "bBjZJXw3Tc7A",
        "colab_type": "text"
      },
      "source": [
        "# 2 | Place values for large numbers"
      ]
    },
    {
      "cell_type": "code",
      "metadata": {
        "id": "ky3x50TgTY2u",
        "colab_type": "code",
        "colab": {}
      },
      "source": [
        "var = 394_293_103"
      ],
      "execution_count": 3,
      "outputs": []
    },
    {
      "cell_type": "code",
      "metadata": {
        "id": "7INA-GI1TnvN",
        "colab_type": "code",
        "colab": {
          "base_uri": "https://localhost:8080/",
          "height": 34
        },
        "outputId": "e69a3aa9-4ae3-488d-f0fc-8a46a1945b2f"
      },
      "source": [
        "var"
      ],
      "execution_count": 4,
      "outputs": [
        {
          "output_type": "execute_result",
          "data": {
            "text/plain": [
              "394293103"
            ]
          },
          "metadata": {
            "tags": []
          },
          "execution_count": 4
        }
      ]
    },
    {
      "cell_type": "code",
      "metadata": {
        "id": "vAeBDI2QToQK",
        "colab_type": "code",
        "colab": {
          "base_uri": "https://localhost:8080/",
          "height": 34
        },
        "outputId": "f0716fc3-67d6-468b-b860-e74009266229"
      },
      "source": [
        "print(var*2 + 98_293)"
      ],
      "execution_count": 5,
      "outputs": [
        {
          "output_type": "stream",
          "text": [
            "788684499\n"
          ],
          "name": "stdout"
        }
      ]
    },
    {
      "cell_type": "code",
      "metadata": {
        "id": "uFeiHD27Tp1x",
        "colab_type": "code",
        "colab": {}
      },
      "source": [
        "i = (3_5_7_8) #don’t know why you would do this"
      ],
      "execution_count": 6,
      "outputs": []
    },
    {
      "cell_type": "code",
      "metadata": {
        "id": "WS29m49KTrqw",
        "colab_type": "code",
        "colab": {
          "base_uri": "https://localhost:8080/",
          "height": 34
        },
        "outputId": "bda19da0-7c6a-4cfe-f077-e6549318577f"
      },
      "source": [
        "i"
      ],
      "execution_count": 8,
      "outputs": [
        {
          "output_type": "execute_result",
          "data": {
            "text/plain": [
              "3578"
            ]
          },
          "metadata": {
            "tags": []
          },
          "execution_count": 8
        }
      ]
    },
    {
      "cell_type": "markdown",
      "metadata": {
        "id": "_Z6JZnoRTthI",
        "colab_type": "text"
      },
      "source": [
        "# 3 | Inline conditional statements"
      ]
    },
    {
      "cell_type": "code",
      "metadata": {
        "id": "-Sn28AucTsDS",
        "colab_type": "code",
        "colab": {
          "base_uri": "https://localhost:8080/",
          "height": 119
        },
        "outputId": "342119f5-9cad-48e1-c316-e89490e6d5d6"
      },
      "source": [
        "x = 3\n",
        "if x==3: print('x equals 3')\n",
        "while x>0: x-=1\n",
        "for i in range(x+5): print(i)"
      ],
      "execution_count": 9,
      "outputs": [
        {
          "output_type": "stream",
          "text": [
            "x equals 3\n",
            "0\n",
            "1\n",
            "2\n",
            "3\n",
            "4\n"
          ],
          "name": "stdout"
        }
      ]
    },
    {
      "cell_type": "code",
      "metadata": {
        "id": "M-k6LilHTvOe",
        "colab_type": "code",
        "colab": {}
      },
      "source": [
        "condition = True\n",
        "if condition: x = 1\n",
        "else: x = 0"
      ],
      "execution_count": 10,
      "outputs": []
    },
    {
      "cell_type": "code",
      "metadata": {
        "id": "Fme3JttFTxH6",
        "colab_type": "code",
        "colab": {}
      },
      "source": [
        "condition = True\n",
        "x = 1 if condition else 0"
      ],
      "execution_count": 11,
      "outputs": []
    },
    {
      "cell_type": "code",
      "metadata": {
        "id": "raJAMOS2Ty3Z",
        "colab_type": "code",
        "colab": {}
      },
      "source": [
        "divisible_by_three = [i for i in range(100) if i%3==0]"
      ],
      "execution_count": 12,
      "outputs": []
    },
    {
      "cell_type": "code",
      "metadata": {
        "id": "bbXuxe3-T0Vi",
        "colab_type": "code",
        "colab": {
          "base_uri": "https://localhost:8080/",
          "height": 595
        },
        "outputId": "2c6b72d9-d4d0-437a-f41a-784c1aa235bc"
      },
      "source": [
        "divisible_by_three"
      ],
      "execution_count": 13,
      "outputs": [
        {
          "output_type": "execute_result",
          "data": {
            "text/plain": [
              "[0,\n",
              " 3,\n",
              " 6,\n",
              " 9,\n",
              " 12,\n",
              " 15,\n",
              " 18,\n",
              " 21,\n",
              " 24,\n",
              " 27,\n",
              " 30,\n",
              " 33,\n",
              " 36,\n",
              " 39,\n",
              " 42,\n",
              " 45,\n",
              " 48,\n",
              " 51,\n",
              " 54,\n",
              " 57,\n",
              " 60,\n",
              " 63,\n",
              " 66,\n",
              " 69,\n",
              " 72,\n",
              " 75,\n",
              " 78,\n",
              " 81,\n",
              " 84,\n",
              " 87,\n",
              " 90,\n",
              " 93,\n",
              " 96,\n",
              " 99]"
            ]
          },
          "metadata": {
            "tags": []
          },
          "execution_count": 13
        }
      ]
    },
    {
      "cell_type": "code",
      "metadata": {
        "id": "M6TZUTCqT16d",
        "colab_type": "code",
        "colab": {}
      },
      "source": [
        "def divisible_by_three(x): #regular form\n",
        "    return True if x%3==0 else False\n",
        "\n",
        "divisible_by_three = lambda x:True if x%3==0 else False #lambda form"
      ],
      "execution_count": 14,
      "outputs": []
    },
    {
      "cell_type": "markdown",
      "metadata": {
        "id": "EsskvUd4T4vd",
        "colab_type": "text"
      },
      "source": [
        "# 4 | Multiple variable assignment"
      ]
    },
    {
      "cell_type": "code",
      "metadata": {
        "id": "yZmxF35HT3m3",
        "colab_type": "code",
        "colab": {}
      },
      "source": [
        "# int a{0}, b{0}, c{1};\n",
        "# double holder;\n",
        "# map<int,int> dic1, dic2;\n",
        "# stack<string>;"
      ],
      "execution_count": 16,
      "outputs": []
    },
    {
      "cell_type": "code",
      "metadata": {
        "id": "EXuz8Z38T6kM",
        "colab_type": "code",
        "colab": {}
      },
      "source": [
        "# int a=4, b=3, c=2, d=1; //integers+numbers are alright\n",
        "# ArrayList<Integer> array1 = new ArrayList<Integer>(); //all this for a list???\n",
        "# Map<String,String> stringDictionary = new HashMap<String,String>(); //creating a dictionary...\n",
        "# // it goes on..."
      ],
      "execution_count": 17,
      "outputs": []
    },
    {
      "cell_type": "code",
      "metadata": {
        "id": "VB8M224PT-r8",
        "colab_type": "code",
        "colab": {}
      },
      "source": [
        "a,b,c,d,array1,stringDictionary = 4,3,2,1,[],{}"
      ],
      "execution_count": 18,
      "outputs": []
    },
    {
      "cell_type": "code",
      "metadata": {
        "id": "ogyS9s-WUAxB",
        "colab_type": "code",
        "colab": {}
      },
      "source": [
        "num_steps = 10\n",
        "a, b = 0, 1\n",
        "for i in range(num_steps):\n",
        "  a, b = b, a+b #a becomes b, and b becomes a+b"
      ],
      "execution_count": 20,
      "outputs": []
    },
    {
      "cell_type": "code",
      "metadata": {
        "id": "o1m0XM0RUChX",
        "colab_type": "code",
        "colab": {}
      },
      "source": [
        "a = b = c = d = 0 #all variables have a value of 0\n",
        "array1, stringDictionary = [], {}"
      ],
      "execution_count": 21,
      "outputs": []
    },
    {
      "cell_type": "markdown",
      "metadata": {
        "id": "aiBNi3X7ULR_",
        "colab_type": "text"
      },
      "source": [
        "# 5 | Any and All"
      ]
    },
    {
      "cell_type": "code",
      "metadata": {
        "id": "ZLYTDBzrUKD3",
        "colab_type": "code",
        "colab": {
          "base_uri": "https://localhost:8080/",
          "height": 34
        },
        "outputId": "e52933e6-3c1d-48a5-852c-3a96ec1b6305"
      },
      "source": [
        "searchList = [9, 2, 100, 39, 28, 45, 4]\n",
        "any([True if item%13==0 else False for item in searchList])"
      ],
      "execution_count": 22,
      "outputs": [
        {
          "output_type": "execute_result",
          "data": {
            "text/plain": [
              "True"
            ]
          },
          "metadata": {
            "tags": []
          },
          "execution_count": 22
        }
      ]
    },
    {
      "cell_type": "code",
      "metadata": {
        "id": "cLWWxvC5UNYt",
        "colab_type": "code",
        "colab": {
          "base_uri": "https://localhost:8080/",
          "height": 34
        },
        "outputId": "311a4638-8866-4c96-ca00-beda02a66775"
      },
      "source": [
        "testScores = [88, 76, 103, 98, 13, 43]\n",
        "all([True if 40<=testScore<=100 else False for testScore in testScores])"
      ],
      "execution_count": 23,
      "outputs": [
        {
          "output_type": "execute_result",
          "data": {
            "text/plain": [
              "False"
            ]
          },
          "metadata": {
            "tags": []
          },
          "execution_count": 23
        }
      ]
    }
  ]
}