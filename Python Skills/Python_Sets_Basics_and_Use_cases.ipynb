{
  "nbformat": 4,
  "nbformat_minor": 0,
  "metadata": {
    "colab": {
      "name": "Python Sets: Basics and Use-cases.ipynb",
      "provenance": [],
      "authorship_tag": "ABX9TyPlPJjnt4pwxaSZQRjMc6CT"
    },
    "kernelspec": {
      "name": "python3",
      "display_name": "Python 3"
    },
    "language_info": {
      "name": "python"
    }
  },
  "cells": [
    {
      "cell_type": "markdown",
      "metadata": {
        "id": "DB7NQdVkjtDh"
      },
      "source": [
        "[Reference](https://levelup.gitconnected.com/python-sets-basics-and-usecases-af1fbe8906f4)"
      ]
    },
    {
      "cell_type": "code",
      "metadata": {
        "id": "3SPWJbzijWhN"
      },
      "source": [
        "set_of_numbers = {1,2,3,4,5}\n",
        "mixed_set = {'a',1,2,'c','d'}"
      ],
      "execution_count": 1,
      "outputs": []
    },
    {
      "cell_type": "code",
      "metadata": {
        "id": "E1BIrtdzjwNB"
      },
      "source": [
        "empty_set = set()\n",
        "set_from_list = set([1,2,3,4])"
      ],
      "execution_count": 2,
      "outputs": []
    },
    {
      "cell_type": "code",
      "metadata": {
        "colab": {
          "base_uri": "https://localhost:8080/"
        },
        "id": "cKmaQtsgjxSN",
        "outputId": "d6488aee-d551-4ebb-8f9e-285d30e3764c"
      },
      "source": [
        "demo_set = set()\n",
        "demo_set.add(2)\n",
        "demo_set.update([2,4,5])\n",
        "demo_set.update((1,3))\n",
        "print(demo_set)"
      ],
      "execution_count": 5,
      "outputs": [
        {
          "output_type": "stream",
          "text": [
            "{1, 2, 3, 4, 5}\n"
          ],
          "name": "stdout"
        }
      ]
    },
    {
      "cell_type": "code",
      "metadata": {
        "colab": {
          "base_uri": "https://localhost:8080/"
        },
        "id": "i1JX24hLjyJQ",
        "outputId": "659321c3-e229-45db-b0f4-f3c1765f4ef2"
      },
      "source": [
        "demo_set = {1,2,3,4,5}\n",
        "demo_set.remove(2)\n",
        "demo_set.discard(3)\n",
        "print(demo_set)"
      ],
      "execution_count": 6,
      "outputs": [
        {
          "output_type": "stream",
          "text": [
            "{1, 4, 5}\n"
          ],
          "name": "stdout"
        }
      ]
    },
    {
      "cell_type": "code",
      "metadata": {
        "colab": {
          "base_uri": "https://localhost:8080/"
        },
        "id": "7rYmhUIxjy8T",
        "outputId": "85db3784-5e1a-4956-b5ef-7a13a3d48a5a"
      },
      "source": [
        "demo_set = {1,2,3,4,5}\n",
        "print(2 in demo_set)\n",
        "print('a' in demo_set)"
      ],
      "execution_count": 8,
      "outputs": [
        {
          "output_type": "stream",
          "text": [
            "True\n",
            "False\n"
          ],
          "name": "stdout"
        }
      ]
    },
    {
      "cell_type": "code",
      "metadata": {
        "colab": {
          "base_uri": "https://localhost:8080/"
        },
        "id": "Gyezq7Y5j1Kh",
        "outputId": "373917bc-93f9-49e6-cbd9-8d136c1f1075"
      },
      "source": [
        "demo_set = {1,2,3}\n",
        "\n",
        "for element in demo_set:\n",
        "    print(element)"
      ],
      "execution_count": 9,
      "outputs": [
        {
          "output_type": "stream",
          "text": [
            "1\n",
            "2\n",
            "3\n"
          ],
          "name": "stdout"
        }
      ]
    },
    {
      "cell_type": "code",
      "metadata": {
        "colab": {
          "base_uri": "https://localhost:8080/"
        },
        "id": "MebGIhFnj3I3",
        "outputId": "b3bc9584-50b5-4834-98dc-6290750531e0"
      },
      "source": [
        "set_a = {1,2,3}\n",
        "set_b = {3,4,5}\n",
        "\n",
        "set_c = set_a.union(set_b) \n",
        "#OR\n",
        "set_c = set_a | set_b\n",
        "\n",
        "print(set_c)"
      ],
      "execution_count": 10,
      "outputs": [
        {
          "output_type": "stream",
          "text": [
            "{1, 2, 3, 4, 5}\n"
          ],
          "name": "stdout"
        }
      ]
    },
    {
      "cell_type": "code",
      "metadata": {
        "colab": {
          "base_uri": "https://localhost:8080/"
        },
        "id": "opIYfAdJj5Wr",
        "outputId": "a7185440-ae9f-4264-fc9d-1fb0f62f110e"
      },
      "source": [
        "set_a = {1,2,3}\n",
        "set_b = {3,4,5}\n",
        "\n",
        "set_c = set_a.intersection(set_b) \n",
        "#OR\n",
        "set_c = set_a & set_b\n",
        "\n",
        "print(set_c)"
      ],
      "execution_count": 11,
      "outputs": [
        {
          "output_type": "stream",
          "text": [
            "{3}\n"
          ],
          "name": "stdout"
        }
      ]
    },
    {
      "cell_type": "code",
      "metadata": {
        "colab": {
          "base_uri": "https://localhost:8080/"
        },
        "id": "XiHXOJAhj8Ij",
        "outputId": "27f3f51a-b3d9-4602-9557-59fad4a6d908"
      },
      "source": [
        "set_a = {1,2,3}\n",
        "set_b = {3,4,5}\n",
        "\n",
        "set_c = set_a.difference(set_b) \n",
        "#OR\n",
        "set_c = set_a - set_b\n",
        "\n",
        "print(set_c)"
      ],
      "execution_count": 12,
      "outputs": [
        {
          "output_type": "stream",
          "text": [
            "{1, 2}\n"
          ],
          "name": "stdout"
        }
      ]
    },
    {
      "cell_type": "code",
      "metadata": {
        "colab": {
          "base_uri": "https://localhost:8080/"
        },
        "id": "n1Zc-jw4j-ED",
        "outputId": "ca0c9324-0b3c-494c-e0da-88c0c548f17e"
      },
      "source": [
        "set_a = {1,2,3}\n",
        "set_b = {3,4,5}\n",
        "\n",
        "set_a.difference_update(set_b)\n",
        "\n",
        "print(set_a)"
      ],
      "execution_count": 13,
      "outputs": [
        {
          "output_type": "stream",
          "text": [
            "{1, 2}\n"
          ],
          "name": "stdout"
        }
      ]
    },
    {
      "cell_type": "code",
      "metadata": {
        "colab": {
          "base_uri": "https://localhost:8080/"
        },
        "id": "yqeuv76Ej_7p",
        "outputId": "bacdacf5-e467-4901-89f8-f25823ac4324"
      },
      "source": [
        "set_a = {1,2,3}\n",
        "set_b = {3,4,5}\n",
        "\n",
        "set_c = set_a.symmetric_difference(set_b) \n",
        "#OR\n",
        "set_c = set_a ^ set_b\n",
        "\n",
        "print(set_c)"
      ],
      "execution_count": 14,
      "outputs": [
        {
          "output_type": "stream",
          "text": [
            "{1, 2, 4, 5}\n"
          ],
          "name": "stdout"
        }
      ]
    },
    {
      "cell_type": "code",
      "metadata": {
        "colab": {
          "base_uri": "https://localhost:8080/"
        },
        "id": "wzGPgEAVkDJv",
        "outputId": "5e22f09f-128f-40b3-f981-f9b6cc4ad59e"
      },
      "source": [
        "set_a = {1,2,3}\n",
        "set_b = {3,4,5}\n",
        "\n",
        "set_a.symmetric_difference_update(set_b) \n",
        "\n",
        "print(set_a)"
      ],
      "execution_count": 15,
      "outputs": [
        {
          "output_type": "stream",
          "text": [
            "{1, 2, 4, 5}\n"
          ],
          "name": "stdout"
        }
      ]
    },
    {
      "cell_type": "code",
      "metadata": {
        "colab": {
          "base_uri": "https://localhost:8080/"
        },
        "id": "--AJVQ5-kFcF",
        "outputId": "a9c35ab1-2f27-447b-f5f0-de9291f0e309"
      },
      "source": [
        "set_a = {1,2,3}\n",
        "set_b = {4,5}\n",
        "\n",
        "print(set_a.isdisjoint(set_b))"
      ],
      "execution_count": 16,
      "outputs": [
        {
          "output_type": "stream",
          "text": [
            "True\n"
          ],
          "name": "stdout"
        }
      ]
    },
    {
      "cell_type": "code",
      "metadata": {
        "colab": {
          "base_uri": "https://localhost:8080/"
        },
        "id": "ET3wXUA1kG1g",
        "outputId": "617a1998-2201-4ced-a1a5-35def685e8d9"
      },
      "source": [
        "set_a = {1,2,3}\n",
        "set_b = {1,2,3,4,5}\n",
        "\n",
        "print(set_a.issubset(set_b))"
      ],
      "execution_count": 17,
      "outputs": [
        {
          "output_type": "stream",
          "text": [
            "True\n"
          ],
          "name": "stdout"
        }
      ]
    },
    {
      "cell_type": "code",
      "metadata": {
        "colab": {
          "base_uri": "https://localhost:8080/"
        },
        "id": "7sO-wb_vkIGC",
        "outputId": "a91170dd-e5c8-4065-a171-0b6fcd7d7ed2"
      },
      "source": [
        "set_a = {1,2,3,4,5}\n",
        "set_b = {1,2,3}\n",
        "\n",
        "print(set_a.issuperset(set_b))"
      ],
      "execution_count": 18,
      "outputs": [
        {
          "output_type": "stream",
          "text": [
            "True\n"
          ],
          "name": "stdout"
        }
      ]
    },
    {
      "cell_type": "code",
      "metadata": {
        "colab": {
          "base_uri": "https://localhost:8080/"
        },
        "id": "R5WQb3RzkJj5",
        "outputId": "092a1325-d10f-447b-e6b5-feb2c6037e1f"
      },
      "source": [
        "list_a = [1,2,3,4,5]\n",
        "for i in list_a: \n",
        "    if(i == 2) : \n",
        "        print (True)\n",
        "        \n",
        "print(2 in set_a)"
      ],
      "execution_count": 21,
      "outputs": [
        {
          "output_type": "stream",
          "text": [
            "True\n",
            "True\n"
          ],
          "name": "stdout"
        }
      ]
    },
    {
      "cell_type": "code",
      "metadata": {
        "colab": {
          "base_uri": "https://localhost:8080/"
        },
        "id": "_7dQCmCjkL45",
        "outputId": "42de7a42-ea07-4779-94ff-91472b41173b"
      },
      "source": [
        "list_a = [1,2,3,4,5]\n",
        "set_a = set(list_a)\n",
        "\n",
        "print(2 in set_a)"
      ],
      "execution_count": 22,
      "outputs": [
        {
          "output_type": "stream",
          "text": [
            "True\n"
          ],
          "name": "stdout"
        }
      ]
    },
    {
      "cell_type": "code",
      "metadata": {
        "colab": {
          "base_uri": "https://localhost:8080/"
        },
        "id": "Fzv9okYKkNjJ",
        "outputId": "27602ad3-a9c2-4beb-a388-437b1afd7482"
      },
      "source": [
        "list_a = [1,5,2,3,3,4,5,1]\n",
        "set_a = set(list_a)\n",
        "list_a = list(set_a)\n",
        "print(list_a)"
      ],
      "execution_count": 23,
      "outputs": [
        {
          "output_type": "stream",
          "text": [
            "[1, 2, 3, 4, 5]\n"
          ],
          "name": "stdout"
        }
      ]
    },
    {
      "cell_type": "code",
      "metadata": {
        "colab": {
          "base_uri": "https://localhost:8080/"
        },
        "id": "KPLznoCzkRzc",
        "outputId": "167c5eee-5fa8-4e97-a010-d09bbe3329e7"
      },
      "source": [
        "def merge_if_intersect(m_list):\n",
        "    for i,set1 in enumerate(m_list):\n",
        "        for j,set2 in enumerate(m_list[i+1:],i+1):\n",
        "           if not set1.isdisjoint(set2): #or set1.intersection(set2)\n",
        "              m_list[i]=set1.union(m_list.pop(j))\n",
        "              return merge_if_intersect(m_list)\n",
        "    return m_list\n",
        "    \n",
        "list_a = [{1,2,3},{4,5},{5,6},{3,7},{8}]\n",
        "    \n",
        "merged_list = merge_if_intersect(list_a)\n",
        "print(merged_list)"
      ],
      "execution_count": 26,
      "outputs": [
        {
          "output_type": "stream",
          "text": [
            "[{1, 2, 3, 7}, {4, 5, 6}, {8}]\n"
          ],
          "name": "stdout"
        }
      ]
    }
  ]
}