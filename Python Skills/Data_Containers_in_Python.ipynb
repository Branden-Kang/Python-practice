{
  "nbformat": 4,
  "nbformat_minor": 0,
  "metadata": {
    "colab": {
      "name": "Data Containers in Python.ipynb",
      "provenance": [],
      "collapsed_sections": [],
      "authorship_tag": "ABX9TyOBWiJeQjZONm/4QMosJEvJ"
    },
    "kernelspec": {
      "name": "python3",
      "display_name": "Python 3"
    },
    "language_info": {
      "name": "python"
    }
  },
  "cells": [
    {
      "cell_type": "markdown",
      "source": [
        "[Reference](https://towardsdatascience.com/battle-of-the-data-containers-which-python-typed-structure-is-the-best-6d28fde824e)"
      ],
      "metadata": {
        "id": "o4-Jt9KdlOkQ"
      }
    },
    {
      "cell_type": "code",
      "execution_count": 1,
      "metadata": {
        "id": "7faH7pDNkMRk"
      },
      "outputs": [],
      "source": [
        "import time\n",
        "from typing import Optional, NoReturn\n",
        "\n",
        "\n",
        "class Timer:\n",
        "    _counter_start: Optional[float] = None\n",
        "    _counter_stop: Optional[float] = None\n",
        "\n",
        "    def start(self) -> None:\n",
        "        self._counter_start = time.perf_counter_ns()\n",
        "\n",
        "    def stop(self) -> None:\n",
        "        self._counter_stop = time.perf_counter_ns()\n",
        "\n",
        "    @property\n",
        "    def time(self) -> float:\n",
        "        \"\"\"Time in nano seconds (ns).\"\"\"\n",
        "        self._valid_start_stop()\n",
        "        return self._counter_stop - self._counter_start  # type: ignore\n",
        "\n",
        "    def _valid_start_stop(self) -> Optional[NoReturn]:\n",
        "        if self._counter_start is None:\n",
        "            raise ValueError(\"Timer has not been started.\")\n",
        "        if self._counter_stop is None:\n",
        "            raise ValueError(\"Timer has not been stopped.\")\n",
        "        return None"
      ]
    },
    {
      "cell_type": "code",
      "source": [
        "# from typing import Protocol\n",
        "from typing_extensions import Protocol\n",
        "\n",
        "class ProtoPerson(Protocol):\n",
        "    name: str\n",
        "    age: int"
      ],
      "metadata": {
        "id": "IhztInFjkOyn"
      },
      "execution_count": 2,
      "outputs": []
    },
    {
      "cell_type": "code",
      "source": [
        "pip install Pympler"
      ],
      "metadata": {
        "colab": {
          "base_uri": "https://localhost:8080/"
        },
        "id": "zKpVUfjmkcmC",
        "outputId": "8dda8c74-6c29-410a-e7f5-6a120804656b"
      },
      "execution_count": 3,
      "outputs": [
        {
          "output_type": "stream",
          "name": "stdout",
          "text": [
            "Collecting Pympler\n",
            "  Downloading Pympler-1.0.1-py3-none-any.whl (164 kB)\n",
            "\u001b[?25l\r\u001b[K     |██                              | 10 kB 17.6 MB/s eta 0:00:01\r\u001b[K     |████                            | 20 kB 8.6 MB/s eta 0:00:01\r\u001b[K     |██████                          | 30 kB 6.0 MB/s eta 0:00:01\r\u001b[K     |████████                        | 40 kB 5.6 MB/s eta 0:00:01\r\u001b[K     |██████████                      | 51 kB 3.4 MB/s eta 0:00:01\r\u001b[K     |████████████                    | 61 kB 4.0 MB/s eta 0:00:01\r\u001b[K     |██████████████                  | 71 kB 4.1 MB/s eta 0:00:01\r\u001b[K     |████████████████                | 81 kB 4.3 MB/s eta 0:00:01\r\u001b[K     |██████████████████              | 92 kB 4.8 MB/s eta 0:00:01\r\u001b[K     |███████████████████▉            | 102 kB 4.0 MB/s eta 0:00:01\r\u001b[K     |█████████████████████▉          | 112 kB 4.0 MB/s eta 0:00:01\r\u001b[K     |███████████████████████▉        | 122 kB 4.0 MB/s eta 0:00:01\r\u001b[K     |█████████████████████████▉      | 133 kB 4.0 MB/s eta 0:00:01\r\u001b[K     |███████████████████████████▉    | 143 kB 4.0 MB/s eta 0:00:01\r\u001b[K     |█████████████████████████████▉  | 153 kB 4.0 MB/s eta 0:00:01\r\u001b[K     |███████████████████████████████▉| 163 kB 4.0 MB/s eta 0:00:01\r\u001b[K     |████████████████████████████████| 164 kB 4.0 MB/s \n",
            "\u001b[?25hInstalling collected packages: Pympler\n",
            "Successfully installed Pympler-1.0.1\n"
          ]
        }
      ]
    },
    {
      "cell_type": "code",
      "source": [
        "from typing import Type\n",
        "\n",
        "from pympler import asizeof # pip install Pympler\n",
        "\n",
        "def time_person_creation(person_cls: Type[ProtoPerson]) -> float:\n",
        "    timer = Timer()\n",
        "    timer.start()\n",
        "    person_cls(name=\"Diego\", age=33)  # type: ignore\n",
        "    timer.stop()\n",
        "    return timer.time\n",
        "\n",
        "\n",
        "def time_person_get(person_cls: Type[ProtoPerson]) -> float:\n",
        "    person = person_cls(name=\"Diego\", age=33)  # type: ignore\n",
        "    timer = Timer()\n",
        "    timer.start()\n",
        "    person.age\n",
        "    timer.stop()\n",
        "    return timer.time\n",
        "\n",
        "\n",
        "def time_person_set(person_cls: Type[ProtoPerson]) -> float:\n",
        "    person = person_cls(name=\"Diego\", age=33)  # type: ignore\n",
        "    timer = Timer()\n",
        "    timer.start()\n",
        "    person.age = 0\n",
        "    timer.stop()\n",
        "    return timer.time\n",
        "\n",
        "\n",
        "def get_person_memory_usage(person_cls: Type[ProtoPerson]) -> int:\n",
        "    return int(asizeof.asizeof(person_cls(name=\"Diego\", age=33)))  # type: ignore"
      ],
      "metadata": {
        "id": "qa7TPj6DkQ3t"
      },
      "execution_count": 4,
      "outputs": []
    },
    {
      "cell_type": "code",
      "source": [
        "import statistics\n",
        "from typing import Type\n",
        "from dataclasses import dataclass\n",
        "\n",
        "\n",
        "@dataclass\n",
        "class PersonTestResult:\n",
        "    creation_time: float  # ns\n",
        "    get_time: float  # ns\n",
        "    set_time: Optional[float]  # ns\n",
        "    memory: int  # bytes\n",
        "\n",
        "\n",
        "def test_person_containter(\n",
        "    person_cls: Type[ProtoPerson], n_trials: int = 100_000, test_set: bool = True\n",
        ") -> PersonTestResult:\n",
        "    creation_times = []\n",
        "    get_times = []\n",
        "    set_times = []\n",
        "    for _ in range(n_trials):\n",
        "        creation_times.append(time_person_creation(person_cls))\n",
        "        get_times.append(time_person_get(person_cls))\n",
        "        if test_set:\n",
        "            set_times.append(time_person_set(person_cls))\n",
        "    return PersonTestResult(\n",
        "        creation_time=statistics.mean(creation_times),\n",
        "        get_time=statistics.mean(get_times),\n",
        "        set_time=statistics.mean(set_times) if test_set else None,\n",
        "        memory=get_person_memory_usage(person_cls),\n",
        "    )"
      ],
      "metadata": {
        "id": "TxRwXkv8ka_C"
      },
      "execution_count": 5,
      "outputs": []
    },
    {
      "cell_type": "markdown",
      "source": [
        "# Regular class"
      ],
      "metadata": {
        "id": "IKhAcH6PkkZG"
      }
    },
    {
      "cell_type": "code",
      "source": [
        "class PersonClass:\n",
        "    name: str\n",
        "    age: int\n",
        "\n",
        "    def __init__(self, name: str, age: int) -> None:\n",
        "        self.name = name\n",
        "        self.age = age\n",
        "\n",
        "\n",
        "class PersonClassSlots:\n",
        "    __slots__ = \"name\", \"age\"\n",
        "\n",
        "    name: str\n",
        "    age: int\n",
        "\n",
        "    def __init__(self, name: str, age: int) -> None:\n",
        "        self.name = name\n",
        "        self.age = age\n",
        "\n",
        "class_test_result = test_person_containter(PersonClass)\n",
        "class_slots_test_result = test_person_containter(PersonClassSlots)"
      ],
      "metadata": {
        "id": "OQMK0C8IkfIK"
      },
      "execution_count": 6,
      "outputs": []
    },
    {
      "cell_type": "markdown",
      "source": [
        "# Dataclass"
      ],
      "metadata": {
        "id": "4yLglSyZknW9"
      }
    },
    {
      "cell_type": "code",
      "source": [
        "from dataclasses import dataclass\n",
        "\n",
        "@dataclass\n",
        "class PersonDataClass:\n",
        "    name: str\n",
        "    age: int\n",
        "\n",
        "\n",
        "@dataclass\n",
        "class PersonDataClassSlots:\n",
        "    name: str\n",
        "    age: int\n",
        "\n",
        "dataclass_test_result = test_person_containter(PersonDataClass)\n",
        "dataclass_slots_test_result = test_person_containter(PersonDataClassSlots)"
      ],
      "metadata": {
        "id": "KLZWGvuhkmUv"
      },
      "execution_count": 7,
      "outputs": []
    },
    {
      "cell_type": "markdown",
      "source": [
        "# Attrs\n"
      ],
      "metadata": {
        "id": "MnnYX1VXkrEw"
      }
    },
    {
      "cell_type": "code",
      "source": [
        " pip install attrs"
      ],
      "metadata": {
        "colab": {
          "base_uri": "https://localhost:8080/"
        },
        "id": "tCjZ5H6Gkv8o",
        "outputId": "8b2518d9-c73d-4c7d-e35f-fbae3963dacc"
      },
      "execution_count": 8,
      "outputs": [
        {
          "output_type": "stream",
          "name": "stdout",
          "text": [
            "Requirement already satisfied: attrs in /usr/local/lib/python3.7/dist-packages (21.4.0)\n"
          ]
        }
      ]
    },
    {
      "cell_type": "code",
      "source": [
        "import attr\n",
        "\n",
        "@attr.s\n",
        "class PersonAttrs:\n",
        "    name: str = attr.ib()\n",
        "    age: int = attr.ib()\n",
        "\n",
        "@attr.s(slots=True)\n",
        "class PersonAttrsSlots:\n",
        "    name: str = attr.ib()\n",
        "    age: int = attr.ib()\n",
        "\n",
        "attrs_test_result = test_person_containter(PersonAttrs)\n",
        "attrs_slots_test_result = test_person_containter(PersonAttrsSlots)"
      ],
      "metadata": {
        "id": "QEJ1GifgkppV"
      },
      "execution_count": 9,
      "outputs": []
    },
    {
      "cell_type": "markdown",
      "source": [
        "# Pydantic\n"
      ],
      "metadata": {
        "id": "Sq9EhgN4kxut"
      }
    },
    {
      "cell_type": "code",
      "source": [
        "pip install pydantic"
      ],
      "metadata": {
        "colab": {
          "base_uri": "https://localhost:8080/"
        },
        "id": "vwdXiKG9k235",
        "outputId": "5efdc5b4-17d1-4e39-cfac-e3b251770df4"
      },
      "execution_count": 10,
      "outputs": [
        {
          "output_type": "stream",
          "name": "stdout",
          "text": [
            "Collecting pydantic\n",
            "  Downloading pydantic-1.9.0-cp37-cp37m-manylinux_2_17_x86_64.manylinux2014_x86_64.whl (10.9 MB)\n",
            "\u001b[K     |████████████████████████████████| 10.9 MB 3.9 MB/s \n",
            "\u001b[?25hRequirement already satisfied: typing-extensions>=3.7.4.3 in /usr/local/lib/python3.7/dist-packages (from pydantic) (4.2.0)\n",
            "Installing collected packages: pydantic\n",
            "Successfully installed pydantic-1.9.0\n"
          ]
        }
      ]
    },
    {
      "cell_type": "code",
      "source": [
        "import pydantic\n",
        "\n",
        "class PydanticPerson(pydantic.BaseModel):\n",
        "    name: str\n",
        "    age: int\n",
        "\n",
        "@pydantic.dataclasses.dataclass\n",
        "class PydanticPersonDC:\n",
        "    name: str\n",
        "    age: int\n",
        "\n",
        "pydantic_test_result = test_person_containter(PydanticPerson)\n",
        "pydantic_test_result_dc = test_person_containter(PydanticPersonDC)"
      ],
      "metadata": {
        "id": "BFVNw77WkwK9"
      },
      "execution_count": 11,
      "outputs": []
    },
    {
      "cell_type": "markdown",
      "source": [
        "# NamedTuple\n"
      ],
      "metadata": {
        "id": "yaQY2XR0k4b_"
      }
    },
    {
      "cell_type": "code",
      "source": [
        "from typing import NamedTuple\n",
        "\n",
        "class NTplePerson(NamedTuple):\n",
        "    name: str\n",
        "    age: int\n",
        "\n",
        "named_tuple_test_result = test_person_containter(NTplePerson, test_set=False)"
      ],
      "metadata": {
        "id": "ZkumkVcXk0Rx"
      },
      "execution_count": 12,
      "outputs": []
    },
    {
      "cell_type": "markdown",
      "source": [
        "# The control, dict\n"
      ],
      "metadata": {
        "id": "B58-RowJk9J6"
      }
    },
    {
      "cell_type": "code",
      "source": [
        "import statistics\n",
        "\n",
        "from pympler import asizeof # pip install Pympler\n",
        "\n",
        "def test_person_dict(n_trials: int = 10_000) -> PersonTestResult:\n",
        "    timer = Timer()\n",
        "    creation_times = []\n",
        "    get_times = []\n",
        "    set_times = []\n",
        "    for _ in range(n_trials):\n",
        "        timer.start()\n",
        "        person_dict = dict(name=\"Diego\", age=33)\n",
        "        timer.stop()\n",
        "        creation_times.append(timer.time)\n",
        "\n",
        "        timer.start()\n",
        "        person_dict[\"age\"]\n",
        "        timer.stop()\n",
        "        get_times.append(timer.time)\n",
        "\n",
        "        timer.start()\n",
        "        person_dict[\"age\"] = 0\n",
        "        timer.stop()\n",
        "        set_times.append(timer.time)\n",
        "\n",
        "    return PersonTestResult(\n",
        "        creation_time=statistics.mean(creation_times),\n",
        "        get_time=statistics.mean(get_times),\n",
        "        set_time=statistics.mean(set_times),\n",
        "        memory=int(asizeof.asizeof(person_dict)),\n",
        "    )\n",
        "\n",
        "dict_test_result = test_person_dict()"
      ],
      "metadata": {
        "id": "Xla_bQXik7pO"
      },
      "execution_count": 13,
      "outputs": []
    }
  ]
}