{
  "nbformat": 4,
  "nbformat_minor": 0,
  "metadata": {
    "colab": {
      "name": "Pythonic Python Stuff.ipynb",
      "provenance": [],
      "authorship_tag": "ABX9TyPRyfN6G0G+mOmO3GjCoQ8c"
    },
    "kernelspec": {
      "name": "python3",
      "display_name": "Python 3"
    }
  },
  "cells": [
    {
      "cell_type": "markdown",
      "metadata": {
        "id": "kZKAnEwz71_p"
      },
      "source": [
        "# 1. f-Strings"
      ]
    },
    {
      "cell_type": "code",
      "metadata": {
        "colab": {
          "base_uri": "https://localhost:8080/"
        },
        "id": "JYa5JcNi7zLi",
        "outputId": "0f896741-f0fa-461c-c886-f8eb9218b093"
      },
      "source": [
        "name = \"Leonardo\"\n",
        "surname = \"Da Vinci\"\n",
        "Occupation_1 = \"Artist\"\n",
        "Occupation_2 = \"Inventor\"\n",
        "Occupation_3 = \"Scientist\"\n",
        "Occupation_4 = \"Mathematician\"\n",
        "Occupation_5 = \"Philosopher\"\n",
        "\n",
        "print (\"%s %s was an %s, %s, %s, %s and %s.\" % (name, surname, Occupation_1, Occupation_2, Occupation_3, Occupation_4, Occupation_5))"
      ],
      "execution_count": 1,
      "outputs": [
        {
          "output_type": "stream",
          "text": [
            "Leonardo Da Vinci was an Artist, Inventor, Scientist, Mathematician and Philosopher.\n"
          ],
          "name": "stdout"
        }
      ]
    },
    {
      "cell_type": "code",
      "metadata": {
        "colab": {
          "base_uri": "https://localhost:8080/"
        },
        "id": "XYDQBf2W76tj",
        "outputId": "ffe54a5b-c25e-4076-f72c-9108edcfaaf0"
      },
      "source": [
        "print ((\"{name} {surname} was an {Occupation_1}, {Occupation_1}, {Occupation_1}, {Occupation_1} and {Occupation_1}.\").format(name = name, surname = surname, Occupation_1 = Occupation_1, Occupation_2 = Occupation_2, Occupation_3 = Occupation_3, Occupation_4 = Occupation_4, Occupation_5 = Occupation_5))"
      ],
      "execution_count": 2,
      "outputs": [
        {
          "output_type": "stream",
          "text": [
            "Leonardo Da Vinci was an Artist, Artist, Artist, Artist and Artist.\n"
          ],
          "name": "stdout"
        }
      ]
    },
    {
      "cell_type": "code",
      "metadata": {
        "colab": {
          "base_uri": "https://localhost:8080/",
          "height": 54
        },
        "id": "F82yamEF79tk",
        "outputId": "a3a1ae94-e1d3-44e4-b805-7a02fb6e3eff"
      },
      "source": [
        "f'{name} {surname} was an {Occupation_1}, {Occupation_2}, {Occupation_3}, {Occupation_4} and {Occupation_5}.'"
      ],
      "execution_count": 3,
      "outputs": [
        {
          "output_type": "execute_result",
          "data": {
            "application/vnd.google.colaboratory.intrinsic+json": {
              "type": "string"
            },
            "text/plain": [
              "'Leonardo Da Vinci was an Artist, Inventor, Scientist, Mathematician and Philosopher.'"
            ]
          },
          "metadata": {
            "tags": []
          },
          "execution_count": 3
        }
      ]
    },
    {
      "cell_type": "code",
      "metadata": {
        "colab": {
          "base_uri": "https://localhost:8080/",
          "height": 37
        },
        "id": "rcFsVUkP8ABv",
        "outputId": "45be917c-752a-473a-8977-cf131eefbdfa"
      },
      "source": [
        "f'{2*3}'\n",
        "f'{name.lower()}'"
      ],
      "execution_count": 4,
      "outputs": [
        {
          "output_type": "execute_result",
          "data": {
            "application/vnd.google.colaboratory.intrinsic+json": {
              "type": "string"
            },
            "text/plain": [
              "'leonardo'"
            ]
          },
          "metadata": {
            "tags": []
          },
          "execution_count": 4
        }
      ]
    },
    {
      "cell_type": "markdown",
      "metadata": {
        "id": "mWaJOmzW8FDw"
      },
      "source": [
        "# 2. Lists and Dictionaries (Packing, Unpacking)"
      ]
    },
    {
      "cell_type": "code",
      "metadata": {
        "id": "f1IpLLds8Crb"
      },
      "source": [
        "def some_function (a,b,c,d):\n",
        "       print (a,b,c,d)\n",
        "       \n",
        "some_list = [1,2,3,4]\n",
        "some_dictionary = {'a':1, 'b':2, 'c':13, 'd':14}"
      ],
      "execution_count": 5,
      "outputs": []
    },
    {
      "cell_type": "code",
      "metadata": {
        "colab": {
          "base_uri": "https://localhost:8080/",
          "height": 215
        },
        "id": "tMUqAiZv8Iyl",
        "outputId": "108b6bd8-bce6-4a49-9f16-35d0e802d23b"
      },
      "source": [
        "some_function(some_list)"
      ],
      "execution_count": 6,
      "outputs": [
        {
          "output_type": "error",
          "ename": "TypeError",
          "evalue": "ignored",
          "traceback": [
            "\u001b[0;31m---------------------------------------------------------------------------\u001b[0m",
            "\u001b[0;31mTypeError\u001b[0m                                 Traceback (most recent call last)",
            "\u001b[0;32m<ipython-input-6-6c6b00f90ba8>\u001b[0m in \u001b[0;36m<module>\u001b[0;34m()\u001b[0m\n\u001b[0;32m----> 1\u001b[0;31m \u001b[0msome_function\u001b[0m\u001b[0;34m(\u001b[0m\u001b[0msome_list\u001b[0m\u001b[0;34m)\u001b[0m\u001b[0;34m\u001b[0m\u001b[0;34m\u001b[0m\u001b[0m\n\u001b[0m",
            "\u001b[0;31mTypeError\u001b[0m: some_function() missing 3 required positional arguments: 'b', 'c', and 'd'"
          ]
        }
      ]
    },
    {
      "cell_type": "code",
      "metadata": {
        "colab": {
          "base_uri": "https://localhost:8080/"
        },
        "id": "0FPLWrOI8J_T",
        "outputId": "87613921-dce8-421d-b36c-8fd2f2937b43"
      },
      "source": [
        "some_function(*some_list)"
      ],
      "execution_count": 7,
      "outputs": [
        {
          "output_type": "stream",
          "text": [
            "1 2 3 4\n"
          ],
          "name": "stdout"
        }
      ]
    },
    {
      "cell_type": "code",
      "metadata": {
        "colab": {
          "base_uri": "https://localhost:8080/"
        },
        "id": "EhdkWEWa8MFM",
        "outputId": "c9decfcf-d505-47c1-dbe7-6d7a0c9626ec"
      },
      "source": [
        "some_function(**some_dictionary)"
      ],
      "execution_count": 8,
      "outputs": [
        {
          "output_type": "stream",
          "text": [
            "1 2 13 14\n"
          ],
          "name": "stdout"
        }
      ]
    },
    {
      "cell_type": "code",
      "metadata": {
        "colab": {
          "base_uri": "https://localhost:8080/",
          "height": 215
        },
        "id": "HgenFu_68Ndo",
        "outputId": "c2378574-cef0-437c-b693-dc897d3033c6"
      },
      "source": [
        "some_dictionary_2 = {'x':1, 'y':2, 'z':13, 'w':14}\n",
        "some_function(**some_dictionary_2)"
      ],
      "execution_count": 11,
      "outputs": [
        {
          "output_type": "error",
          "ename": "TypeError",
          "evalue": "ignored",
          "traceback": [
            "\u001b[0;31m---------------------------------------------------------------------------\u001b[0m",
            "\u001b[0;31mTypeError\u001b[0m                                 Traceback (most recent call last)",
            "\u001b[0;32m<ipython-input-11-6965ef29eacf>\u001b[0m in \u001b[0;36m<module>\u001b[0;34m()\u001b[0m\n\u001b[1;32m      1\u001b[0m \u001b[0msome_dictionary_2\u001b[0m \u001b[0;34m=\u001b[0m \u001b[0;34m{\u001b[0m\u001b[0;34m'x'\u001b[0m\u001b[0;34m:\u001b[0m\u001b[0;36m1\u001b[0m\u001b[0;34m,\u001b[0m \u001b[0;34m'y'\u001b[0m\u001b[0;34m:\u001b[0m\u001b[0;36m2\u001b[0m\u001b[0;34m,\u001b[0m \u001b[0;34m'z'\u001b[0m\u001b[0;34m:\u001b[0m\u001b[0;36m13\u001b[0m\u001b[0;34m,\u001b[0m \u001b[0;34m'w'\u001b[0m\u001b[0;34m:\u001b[0m\u001b[0;36m14\u001b[0m\u001b[0;34m}\u001b[0m\u001b[0;34m\u001b[0m\u001b[0;34m\u001b[0m\u001b[0m\n\u001b[0;32m----> 2\u001b[0;31m \u001b[0msome_function\u001b[0m\u001b[0;34m(\u001b[0m\u001b[0;34m**\u001b[0m\u001b[0msome_dictionary_2\u001b[0m\u001b[0;34m)\u001b[0m\u001b[0;34m\u001b[0m\u001b[0;34m\u001b[0m\u001b[0m\n\u001b[0m",
            "\u001b[0;31mTypeError\u001b[0m: some_function() got an unexpected keyword argument 'x'"
          ]
        }
      ]
    },
    {
      "cell_type": "code",
      "metadata": {
        "colab": {
          "base_uri": "https://localhost:8080/"
        },
        "id": "G44g58s98PgP",
        "outputId": "cb5c5b80-d34f-4313-f019-c9f24cd3fda4"
      },
      "source": [
        "# List Packing \n",
        "def some_list_packing(*args):\n",
        "       args = list(args)\n",
        "       \n",
        "       args[0] = 'I am about to'\n",
        "       args[1] = 'pack lists'       \n",
        "       some_function(*args) # use the previous function unpacking\n",
        "some_list_packing('I am packing','','','')\n",
        "\n",
        "# I am about to pack lists\n",
        "\n",
        "# Dictionary Packing\n",
        "def some_dictionary_packing(**kwargs):\n",
        "    for key in kwargs:        \n",
        "        print(f'{key} = {kwargs[key]}')\n",
        "            # See how I used the f-string there?\n",
        "\n",
        "some_dictionary_packing(a= \"I\", b= \"am\", c= \"about\", d= \"to write..\")"
      ],
      "execution_count": 13,
      "outputs": [
        {
          "output_type": "stream",
          "text": [
            "I am about to pack lists  \n",
            "a = I\n",
            "b = am\n",
            "c = about\n",
            "d = to write..\n"
          ],
          "name": "stdout"
        }
      ]
    },
    {
      "cell_type": "markdown",
      "metadata": {
        "id": "BWqoKM3B8oah"
      },
      "source": [
        "# 3. Dynamic New Type"
      ]
    },
    {
      "cell_type": "code",
      "metadata": {
        "colab": {
          "base_uri": "https://localhost:8080/",
          "height": 37
        },
        "id": "0L4S83rL8j81",
        "outputId": "760c1211-b62a-4e71-ed85-c271fe836d26"
      },
      "source": [
        "NewClass = type(\"NewClass\", (object,), {\"intro\": \"This is an awesome new class\"})\n",
        "\n",
        "n = NewClass()\n",
        "n.intro"
      ],
      "execution_count": 14,
      "outputs": [
        {
          "output_type": "execute_result",
          "data": {
            "application/vnd.google.colaboratory.intrinsic+json": {
              "type": "string"
            },
            "text/plain": [
              "'This is an awesome new class'"
            ]
          },
          "metadata": {
            "tags": []
          },
          "execution_count": 14
        }
      ]
    },
    {
      "cell_type": "code",
      "metadata": {
        "colab": {
          "base_uri": "https://localhost:8080/",
          "height": 37
        },
        "id": "ykUYbeuv8tXn",
        "outputId": "36942df1-7dae-4988-fdd2-d14bf2b9dec2"
      },
      "source": [
        "class NewClass(object):\n",
        "        intro = \"This is an awesome new class\"\n",
        "n = NewClass()\n",
        "n.intro"
      ],
      "execution_count": 15,
      "outputs": [
        {
          "output_type": "execute_result",
          "data": {
            "application/vnd.google.colaboratory.intrinsic+json": {
              "type": "string"
            },
            "text/plain": [
              "'This is an awesome new class'"
            ]
          },
          "metadata": {
            "tags": []
          },
          "execution_count": 15
        }
      ]
    },
    {
      "cell_type": "markdown",
      "metadata": {
        "id": "79VuddlI8zpH"
      },
      "source": [
        "# 4. Try Except"
      ]
    },
    {
      "cell_type": "code",
      "metadata": {
        "colab": {
          "base_uri": "https://localhost:8080/"
        },
        "id": "XYwu3SRq8yW8",
        "outputId": "f89b8316-00cd-4d63-d874-f686b8489d11"
      },
      "source": [
        "def some_function (a,b,c,d):\n",
        "       print (a,b,c,d)\n",
        "\n",
        "a_list = [1,2,3,4]\n",
        "try:\n",
        "    some_function (a_list)\n",
        "except:\n",
        "    print(\"Put * before the input list in the function\")"
      ],
      "execution_count": 16,
      "outputs": [
        {
          "output_type": "stream",
          "text": [
            "Put * before the input list in the function\n"
          ],
          "name": "stdout"
        }
      ]
    },
    {
      "cell_type": "code",
      "metadata": {
        "id": "xULRce2U86Wv"
      },
      "source": [
        "try:\n",
        "    some_function (a_list)\n",
        "except:\n",
        "    pass"
      ],
      "execution_count": 17,
      "outputs": []
    },
    {
      "cell_type": "markdown",
      "metadata": {
        "id": "4Q0DSQ9W8-Oh"
      },
      "source": [
        "# 5. Mutable Defaults"
      ]
    },
    {
      "cell_type": "code",
      "metadata": {
        "colab": {
          "base_uri": "https://localhost:8080/"
        },
        "id": "Q3NQm2ov89Ti",
        "outputId": "b24570c0-5322-480c-b218-edffa62a12a4"
      },
      "source": [
        "def something(x=[]):\n",
        "        x.append(1)\n",
        "        print (x)\n",
        "something()"
      ],
      "execution_count": 18,
      "outputs": [
        {
          "output_type": "stream",
          "text": [
            "[1]\n"
          ],
          "name": "stdout"
        }
      ]
    },
    {
      "cell_type": "code",
      "metadata": {
        "colab": {
          "base_uri": "https://localhost:8080/"
        },
        "id": "-5FHI8X39BQW",
        "outputId": "288f3b60-cd82-4c35-a55c-ad83dafd7f34"
      },
      "source": [
        "something()"
      ],
      "execution_count": 19,
      "outputs": [
        {
          "output_type": "stream",
          "text": [
            "[1, 1]\n"
          ],
          "name": "stdout"
        }
      ]
    },
    {
      "cell_type": "code",
      "metadata": {
        "colab": {
          "base_uri": "https://localhost:8080/"
        },
        "id": "8kmKMPhl9Bkl",
        "outputId": "06d9bee6-540f-4b81-f8af-36ee31448a3a"
      },
      "source": [
        "something()"
      ],
      "execution_count": 20,
      "outputs": [
        {
          "output_type": "stream",
          "text": [
            "[1, 1, 1]\n"
          ],
          "name": "stdout"
        }
      ]
    },
    {
      "cell_type": "code",
      "metadata": {
        "id": "-yV6RQVr9Bym"
      },
      "source": [
        "def something(x= None):\n",
        "        if x is None:\n",
        "            x= []\n",
        "        x.append(1)\n",
        "        print (x)"
      ],
      "execution_count": 21,
      "outputs": []
    },
    {
      "cell_type": "code",
      "metadata": {
        "colab": {
          "base_uri": "https://localhost:8080/"
        },
        "id": "P6OcjU6t9GBA",
        "outputId": "2256e7ab-9e88-4151-b8f1-3c1d01a4eeb0"
      },
      "source": [
        "something()"
      ],
      "execution_count": 22,
      "outputs": [
        {
          "output_type": "stream",
          "text": [
            "[1]\n"
          ],
          "name": "stdout"
        }
      ]
    },
    {
      "cell_type": "code",
      "metadata": {
        "colab": {
          "base_uri": "https://localhost:8080/"
        },
        "id": "NxFXx0Ut9G88",
        "outputId": "35c3e693-aa6c-4b54-a74f-4de10f587d32"
      },
      "source": [
        "something()"
      ],
      "execution_count": 23,
      "outputs": [
        {
          "output_type": "stream",
          "text": [
            "[1]\n"
          ],
          "name": "stdout"
        }
      ]
    },
    {
      "cell_type": "markdown",
      "metadata": {
        "id": "35HebPD29IqV"
      },
      "source": [
        "# 6. Value Swapping\n",
        "```\n",
        "void swap(int a, int b)\n",
        "{\n",
        "    int temp = a;\n",
        "    a = b;\n",
        "    b = temp;\n",
        "    // a and b are copies of the original values.\n",
        "}\n",
        "\n",
        "```"
      ]
    },
    {
      "cell_type": "code",
      "metadata": {
        "colab": {
          "base_uri": "https://localhost:8080/"
        },
        "id": "pru_8uev9HE7",
        "outputId": "e17e02e4-2b33-4034-c893-5095b9e91e7d"
      },
      "source": [
        "a = 10\n",
        "b = 5\n",
        "a, b = b, a\n",
        "print(a)\n",
        "print(b)"
      ],
      "execution_count": 26,
      "outputs": [
        {
          "output_type": "stream",
          "text": [
            "5\n",
            "10\n"
          ],
          "name": "stdout"
        }
      ]
    },
    {
      "cell_type": "markdown",
      "metadata": {
        "id": "yrTaQgth9R10"
      },
      "source": [
        "# 7. Replace white spaces with braces"
      ]
    },
    {
      "cell_type": "code",
      "metadata": {
        "colab": {
          "base_uri": "https://localhost:8080/"
        },
        "id": "WYRJdMXY9KUs",
        "outputId": "e70ebdf9-9e01-4366-ad4f-181a7e63c273"
      },
      "source": [
        "a = 1000\n",
        "print(a)"
      ],
      "execution_count": 27,
      "outputs": [
        {
          "output_type": "stream",
          "text": [
            "1000\n"
          ],
          "name": "stdout"
        }
      ]
    },
    {
      "cell_type": "code",
      "metadata": {
        "colab": {
          "base_uri": "https://localhost:8080/",
          "height": 147
        },
        "id": "71oPpI1D9Ww8",
        "outputId": "2f010d51-ab33-4a0d-9e1f-9faae20cc242"
      },
      "source": [
        "from __future__ import print_function\n",
        "print a"
      ],
      "execution_count": 28,
      "outputs": [
        {
          "output_type": "error",
          "ename": "SyntaxError",
          "evalue": "ignored",
          "traceback": [
            "\u001b[0;36m  File \u001b[0;32m\"<ipython-input-28-b45f4ba82822>\"\u001b[0;36m, line \u001b[0;32m2\u001b[0m\n\u001b[0;31m    print a\u001b[0m\n\u001b[0m          ^\u001b[0m\n\u001b[0;31mSyntaxError\u001b[0m\u001b[0;31m:\u001b[0m Missing parentheses in call to 'print'. Did you mean print(a)?\n"
          ]
        }
      ]
    },
    {
      "cell_type": "code",
      "metadata": {
        "colab": {
          "base_uri": "https://localhost:8080/"
        },
        "id": "Ol4S7YCe9ZGH",
        "outputId": "00fbe5b2-52c6-4a3a-908f-5d4a9dc73b86"
      },
      "source": [
        "print (a)"
      ],
      "execution_count": 29,
      "outputs": [
        {
          "output_type": "stream",
          "text": [
            "1000\n"
          ],
          "name": "stdout"
        }
      ]
    }
  ]
}