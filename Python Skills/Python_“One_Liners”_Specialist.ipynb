{
  "nbformat": 4,
  "nbformat_minor": 0,
  "metadata": {
    "colab": {
      "name": "Python “One-Liners” Specialist.ipynb",
      "provenance": [],
      "authorship_tag": "ABX9TyMOLpfeCjgIW9X2ePQ3b03N"
    },
    "kernelspec": {
      "name": "python3",
      "display_name": "Python 3"
    }
  },
  "cells": [
    {
      "cell_type": "markdown",
      "metadata": {
        "id": "kCbmWT_ZEj6S"
      },
      "source": [
        "[Reference](https://towardsdatascience.com/become-a-python-one-liners-specialist-8c8599d6f9c5)"
      ]
    },
    {
      "cell_type": "markdown",
      "metadata": {
        "id": "Fgs_jUbhEnCx"
      },
      "source": [
        "# Swapping"
      ]
    },
    {
      "cell_type": "code",
      "metadata": {
        "id": "8awHf8Z_EiZe"
      },
      "source": [
        "a = 1\n",
        "b = 2\n",
        "temp = a\n",
        "a = b\n",
        "b = temp"
      ],
      "execution_count": 1,
      "outputs": []
    },
    {
      "cell_type": "code",
      "metadata": {
        "id": "ioE9NtFmEoEB"
      },
      "source": [
        "a, b = b, a"
      ],
      "execution_count": 2,
      "outputs": []
    },
    {
      "cell_type": "markdown",
      "metadata": {
        "id": "cKJZFB2OEq2x"
      },
      "source": [
        "# List comprehension"
      ]
    },
    {
      "cell_type": "code",
      "metadata": {
        "id": "ftI3u-bMEpGJ"
      },
      "source": [
        "ls = []\n",
        "for i in range(5):\n",
        "    ls.append(i)"
      ],
      "execution_count": 3,
      "outputs": []
    },
    {
      "cell_type": "code",
      "metadata": {
        "id": "iHVu8UwjEr4Z"
      },
      "source": [
        "ls = [i for i in range(5)]"
      ],
      "execution_count": 4,
      "outputs": []
    },
    {
      "cell_type": "code",
      "metadata": {
        "colab": {
          "base_uri": "https://localhost:8080/"
        },
        "id": "X7YNtkN1Esmg",
        "outputId": "9c26f9f5-c1c6-4da3-f3f4-93aa38e0359f"
      },
      "source": [
        "ls = [-1, 2, -3, 6, -5]\n",
        "ls = [i for i in ls if i > 0] #ls = [2, 6], positive integers only\n",
        "ls"
      ],
      "execution_count": 5,
      "outputs": [
        {
          "output_type": "execute_result",
          "data": {
            "text/plain": [
              "[2, 6]"
            ]
          },
          "metadata": {
            "tags": []
          },
          "execution_count": 5
        }
      ]
    },
    {
      "cell_type": "markdown",
      "metadata": {
        "id": "DemMBkh6Exgw"
      },
      "source": [
        "# Map method"
      ]
    },
    {
      "cell_type": "code",
      "metadata": {
        "colab": {
          "base_uri": "https://localhost:8080/"
        },
        "id": "iYIm4seqEwPO",
        "outputId": "a51ccc32-6f00-4617-cebe-7eaca12e5fa1"
      },
      "source": [
        "ls = list(map(int, [\"1\", \"2\", \"3\"])) #ls = [1, 2, 3]\n",
        "ls"
      ],
      "execution_count": 6,
      "outputs": [
        {
          "output_type": "execute_result",
          "data": {
            "text/plain": [
              "[1, 2, 3]"
            ]
          },
          "metadata": {
            "tags": []
          },
          "execution_count": 6
        }
      ]
    },
    {
      "cell_type": "markdown",
      "metadata": {
        "id": "13CRpKjYEz0I"
      },
      "source": [
        "# Filter method"
      ]
    },
    {
      "cell_type": "code",
      "metadata": {
        "colab": {
          "base_uri": "https://localhost:8080/"
        },
        "id": "4VN3CPvlEzAi",
        "outputId": "f923b835-a8a0-4bef-9c23-41dce55bafdb"
      },
      "source": [
        "ls1 = [1, 3, 5, 7, 9]\n",
        "ls2 = [0, 1, 2, 3, 4]\n",
        "common = list(filter(lambda x: x in ls1, ls2)) #common = [1, 3]\n",
        "common"
      ],
      "execution_count": 7,
      "outputs": [
        {
          "output_type": "execute_result",
          "data": {
            "text/plain": [
              "[1, 3]"
            ]
          },
          "metadata": {
            "tags": []
          },
          "execution_count": 7
        }
      ]
    },
    {
      "cell_type": "markdown",
      "metadata": {
        "id": "3PcClHBdE3Lo"
      },
      "source": [
        "# Reduce method"
      ]
    },
    {
      "cell_type": "code",
      "metadata": {
        "colab": {
          "base_uri": "https://localhost:8080/"
        },
        "id": "pzdvUS4UE2FK",
        "outputId": "68af9178-5c3d-46bf-88d8-29849a5c8957"
      },
      "source": [
        "from functools import reduce\n",
        "\n",
        "print(reduce(lambda x, y: x*y, [1, 2, 3])) #print 6"
      ],
      "execution_count": 8,
      "outputs": [
        {
          "output_type": "stream",
          "text": [
            "6\n"
          ],
          "name": "stdout"
        }
      ]
    },
    {
      "cell_type": "markdown",
      "metadata": {
        "id": "jOHxhfLZE6Tz"
      },
      "source": [
        "# Lambda function"
      ]
    },
    {
      "cell_type": "code",
      "metadata": {
        "id": "Mew9qGEYE5Ho"
      },
      "source": [
        "def fullName(first, last):\n",
        "    return f\"{first} {last}\"\n",
        "    \n",
        "name = fullName(\"Tom\", \"Walker\") #name = Tom Walker"
      ],
      "execution_count": 9,
      "outputs": []
    },
    {
      "cell_type": "code",
      "metadata": {
        "id": "PWQERhN_E8nS"
      },
      "source": [
        "fullName = lambda first, last: f\"{first} {last}\"\n",
        "\n",
        "name = fullName(\"Tom\", \"Walker\") #name = Tom Walker"
      ],
      "execution_count": 10,
      "outputs": []
    },
    {
      "cell_type": "code",
      "metadata": {
        "id": "cHWOsXb0E-PD"
      },
      "source": [
        "highOrder = lambda x, func: x + func(x)\n",
        "\n",
        "result1 = highOrder(5, lambda x: x*x) #result1 = 30\n",
        "result2 = highOrder(3, lambda x : x*2) #result2 = 9"
      ],
      "execution_count": 11,
      "outputs": []
    },
    {
      "cell_type": "markdown",
      "metadata": {
        "id": "W-YwifxAFCWU"
      },
      "source": [
        "# reverse method"
      ]
    },
    {
      "cell_type": "code",
      "metadata": {
        "id": "cbxee78WFATD"
      },
      "source": [
        "ls = [1, 2, 3]\n",
        "ls = ls[::-1] #ls = [3, 2, 1]"
      ],
      "execution_count": 12,
      "outputs": []
    },
    {
      "cell_type": "code",
      "metadata": {
        "id": "UmbinKROFDg6"
      },
      "source": [
        "ls = [1, 2, 3]\n",
        "ls.reverse() #ls = [3, 2, 1]"
      ],
      "execution_count": 13,
      "outputs": []
    },
    {
      "cell_type": "markdown",
      "metadata": {
        "id": "xmWF2UY8FIeC"
      },
      "source": [
        "# using *"
      ]
    },
    {
      "cell_type": "code",
      "metadata": {
        "colab": {
          "base_uri": "https://localhost:8080/"
        },
        "id": "SGNAi5ndFIDx",
        "outputId": "c35de0fb-708e-43f1-b2ef-dfe651947104"
      },
      "source": [
        "for i in range(5):\n",
        "    print(\"x\", end = \"\") #print xxxxx"
      ],
      "execution_count": 14,
      "outputs": [
        {
          "output_type": "stream",
          "text": [
            "xxxxx"
          ],
          "name": "stdout"
        }
      ]
    },
    {
      "cell_type": "code",
      "metadata": {
        "colab": {
          "base_uri": "https://localhost:8080/"
        },
        "id": "Gxbs6Z4GFEto",
        "outputId": "84b7c572-71d4-4705-8264-9442013896bd"
      },
      "source": [
        "print(\"x\"*5) #print xxxxx"
      ],
      "execution_count": 15,
      "outputs": [
        {
          "output_type": "stream",
          "text": [
            "xxxxx\n"
          ],
          "name": "stdout"
        }
      ]
    },
    {
      "cell_type": "markdown",
      "metadata": {
        "id": "Z799q1v-FMq9"
      },
      "source": [
        "# Finding the factorial of a number"
      ]
    },
    {
      "cell_type": "code",
      "metadata": {
        "id": "vZv2W8dUFKtO"
      },
      "source": [
        "def fact(n):\n",
        "    if n == 1:\n",
        "        return 1\n",
        "    else:\n",
        "        return n*fact(n-1)"
      ],
      "execution_count": 16,
      "outputs": []
    },
    {
      "cell_type": "code",
      "metadata": {
        "id": "5HR_fG4KFSml"
      },
      "source": [
        "n = 5"
      ],
      "execution_count": 18,
      "outputs": []
    },
    {
      "cell_type": "code",
      "metadata": {
        "colab": {
          "base_uri": "https://localhost:8080/"
        },
        "id": "6mJ1sk8iFON1",
        "outputId": "5b999a12-7edf-427e-a164-8a5a9b37af42"
      },
      "source": [
        "from functools import reduce\n",
        "reduce(lambda x, y: x*y, range(1, n+1)) #n factorial"
      ],
      "execution_count": 19,
      "outputs": [
        {
          "output_type": "execute_result",
          "data": {
            "text/plain": [
              "120"
            ]
          },
          "metadata": {
            "tags": []
          },
          "execution_count": 19
        }
      ]
    },
    {
      "cell_type": "markdown",
      "metadata": {
        "id": "LHv6Uj6QFVkm"
      },
      "source": [
        "# Finding a Fibonacci number"
      ]
    },
    {
      "cell_type": "code",
      "metadata": {
        "colab": {
          "base_uri": "https://localhost:8080/"
        },
        "id": "cp3YFRfZFQQY",
        "outputId": "45be0f5f-6534-4cd3-8e0d-4b95004cefc4"
      },
      "source": [
        "def fib(n):\n",
        "    if n == 0 or n == 1:\n",
        "        return n\n",
        "    else:\n",
        "        return fib(n-1) + fib(n-2)\n",
        "        \n",
        "print(fib(5)) #prints the nth Fibonacci number"
      ],
      "execution_count": 20,
      "outputs": [
        {
          "output_type": "stream",
          "text": [
            "5\n"
          ],
          "name": "stdout"
        }
      ]
    },
    {
      "cell_type": "code",
      "metadata": {
        "colab": {
          "base_uri": "https://localhost:8080/"
        },
        "id": "S44VvbrIFYTK",
        "outputId": "21760d62-960e-45cc-ee17-f00663976e08"
      },
      "source": [
        "fib = lambda x: x if x<=1 else fib(x-1) + fib(x-2)\n",
        "\n",
        "print(fib(5)) #prints the nth Fibonacci number"
      ],
      "execution_count": 21,
      "outputs": [
        {
          "output_type": "stream",
          "text": [
            "5\n"
          ],
          "name": "stdout"
        }
      ]
    },
    {
      "cell_type": "markdown",
      "metadata": {
        "id": "hB0ntKg3Fbw3"
      },
      "source": [
        "# Check if a string is a palindrome"
      ]
    },
    {
      "cell_type": "code",
      "metadata": {
        "colab": {
          "base_uri": "https://localhost:8080/"
        },
        "id": "aIvC1JxHFab7",
        "outputId": "692bea9b-3bec-4393-db36-53628bb323ee"
      },
      "source": [
        "def is_palindrome(string):\n",
        "    if string == string[::-1]:\n",
        "        return True\n",
        "    else:\n",
        "        return False\n",
        "        \n",
        "print(is_palindrome(\"abcba\")) #prints True"
      ],
      "execution_count": 22,
      "outputs": [
        {
          "output_type": "stream",
          "text": [
            "True\n"
          ],
          "name": "stdout"
        }
      ]
    },
    {
      "cell_type": "code",
      "metadata": {
        "colab": {
          "base_uri": "https://localhost:8080/"
        },
        "id": "VHfZCBItFeIi",
        "outputId": "b505bc13-f609-43bc-ba39-b7e7334cd1b0"
      },
      "source": [
        "string = \"abcba\" #a palindrome\n",
        "\n",
        "print(string == string[::-1]) #prints True"
      ],
      "execution_count": 23,
      "outputs": [
        {
          "output_type": "stream",
          "text": [
            "True\n"
          ],
          "name": "stdout"
        }
      ]
    },
    {
      "cell_type": "markdown",
      "metadata": {
        "id": "fw2-csZTFi2G"
      },
      "source": [
        "# Flattening a 2-D array"
      ]
    },
    {
      "cell_type": "code",
      "metadata": {
        "colab": {
          "base_uri": "https://localhost:8080/"
        },
        "id": "p0ARb__NFhw3",
        "outputId": "c649f9e1-b571-4209-dee1-5f414ce8a0bd"
      },
      "source": [
        "ls = [[1, 2], [3, 4], [5, 6]]\n",
        "ls2 = []\n",
        "\n",
        "for i in ls:\n",
        "    for j in i:\n",
        "        ls2.append(j)\n",
        "        \n",
        "print(ls2) #prints [1, 2, 3, 4, 5, 6]"
      ],
      "execution_count": 24,
      "outputs": [
        {
          "output_type": "stream",
          "text": [
            "[1, 2, 3, 4, 5, 6]\n"
          ],
          "name": "stdout"
        }
      ]
    },
    {
      "cell_type": "code",
      "metadata": {
        "colab": {
          "base_uri": "https://localhost:8080/"
        },
        "id": "SJD9m6Q3Flxe",
        "outputId": "3f1a6f94-7403-473c-de94-c498c4fa779a"
      },
      "source": [
        "ls = [[1, 2], [3, 4], [5, 6]]\n",
        "\n",
        "print([i for j in ls for i in j]) #prints [1, 2, 3, 4, 5, 6]"
      ],
      "execution_count": 25,
      "outputs": [
        {
          "output_type": "stream",
          "text": [
            "[1, 2, 3, 4, 5, 6]\n"
          ],
          "name": "stdout"
        }
      ]
    }
  ]
}