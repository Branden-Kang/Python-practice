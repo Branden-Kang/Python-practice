{
  "nbformat": 4,
  "nbformat_minor": 0,
  "metadata": {
    "colab": {
      "name": "Python Collections.ipynb",
      "provenance": []
    },
    "kernelspec": {
      "name": "python3",
      "display_name": "Python 3"
    }
  },
  "cells": [
    {
      "cell_type": "markdown",
      "metadata": {
        "id": "Y3CYjnvgfrdj"
      },
      "source": [
        "[Reference1](https://medium.com/swlh/python-collections-you-should-always-be-using-b579b9e59e4)<br>\n",
        "[Reference2](https://medium.com/everything-programming/python-collections-module-e427dcdd5013)"
      ]
    },
    {
      "cell_type": "markdown",
      "metadata": {
        "id": "REBwfHwLFduK"
      },
      "source": [
        "1. namedtuple() : factory function for creating tuple subclasses with named fields.\n",
        "2. deque : list-like container with fast appends and pops on either end.\n",
        "3. ChainMap : dict-like class for creating a single view of multiple mappings\n",
        "4. Counter: dict subclass for counting hashable objects\n",
        "5. OrderedDict : dict subclass that remembers the order entries were added\n",
        "6. defaultdict: dict subclass that calls a factory function to supply missing values.\n",
        "7. UserDict : wrapper around dictionary objects for easier dict subclassing\n",
        "8. UserList : wrapper around list objects for easier list subclassing\n",
        "9. UserString : wrapper around string objects for easier string subclassing"
      ]
    },
    {
      "cell_type": "markdown",
      "metadata": {
        "id": "hzWCDFRHf423"
      },
      "source": [
        "# 1. namedtuple"
      ]
    },
    {
      "cell_type": "code",
      "metadata": {
        "id": "4xi7oIMOfp81"
      },
      "source": [
        "from collections import namedtuple\n",
        "import math"
      ],
      "execution_count": 1,
      "outputs": []
    },
    {
      "cell_type": "code",
      "metadata": {
        "id": "nVlAKOKwfvNo"
      },
      "source": [
        "Dot = namedtuple('Dot', 'x y')"
      ],
      "execution_count": 2,
      "outputs": []
    },
    {
      "cell_type": "code",
      "metadata": {
        "id": "xG32VcAAfwi4"
      },
      "source": [
        "p1, p2 = Dot(0,0), Dot(0, 5)"
      ],
      "execution_count": 3,
      "outputs": []
    },
    {
      "cell_type": "code",
      "metadata": {
        "id": "kzsnHKjKfzUU",
        "outputId": "fae42b32-8609-4123-ddec-c0ccc9b94647",
        "colab": {
          "base_uri": "https://localhost:8080/",
          "height": 34
        }
      },
      "source": [
        "p1 , p2"
      ],
      "execution_count": 4,
      "outputs": [
        {
          "output_type": "execute_result",
          "data": {
            "text/plain": [
              "(Dot(x=0, y=0), Dot(x=0, y=5))"
            ]
          },
          "metadata": {
            "tags": []
          },
          "execution_count": 4
        }
      ]
    },
    {
      "cell_type": "code",
      "metadata": {
        "id": "AZ0yTjhRf0Qy"
      },
      "source": [
        "def distance(p1, p2):\n",
        "    x_distance = math.pow((p1.x - p2.x), 2)\n",
        "    y_distance = math.pow((p1.y - p2.y), 2)\n",
        "    return math.sqrt((x_distance + y_distance))"
      ],
      "execution_count": 5,
      "outputs": []
    },
    {
      "cell_type": "code",
      "metadata": {
        "id": "uNB5bAqxf1jW",
        "outputId": "f854eb08-ff43-48e0-9322-23a7ca96a811",
        "colab": {
          "base_uri": "https://localhost:8080/",
          "height": 34
        }
      },
      "source": [
        "distance(p1, p2)"
      ],
      "execution_count": 6,
      "outputs": [
        {
          "output_type": "execute_result",
          "data": {
            "text/plain": [
              "5.0"
            ]
          },
          "metadata": {
            "tags": []
          },
          "execution_count": 6
        }
      ]
    },
    {
      "cell_type": "markdown",
      "metadata": {
        "id": "SWDfcmpgf6UU"
      },
      "source": [
        "# 2. deque"
      ]
    },
    {
      "cell_type": "code",
      "metadata": {
        "id": "iTb2w-htf2zv"
      },
      "source": [
        "from collections import deque"
      ],
      "execution_count": 7,
      "outputs": []
    },
    {
      "cell_type": "code",
      "metadata": {
        "id": "gW5_r2Odf8G5",
        "outputId": "b61f1bcf-0b0f-40a9-dcfe-a03a7ab1d728",
        "colab": {
          "base_uri": "https://localhost:8080/",
          "height": 34
        }
      },
      "source": [
        "# creating a deque\n",
        "improved_list = deque([1,2,3,4])\n",
        "improved_list"
      ],
      "execution_count": 8,
      "outputs": [
        {
          "output_type": "execute_result",
          "data": {
            "text/plain": [
              "deque([1, 2, 3, 4])"
            ]
          },
          "metadata": {
            "tags": []
          },
          "execution_count": 8
        }
      ]
    },
    {
      "cell_type": "markdown",
      "metadata": {
        "id": "NLsgnJJTGIH9"
      },
      "source": [
        "## <code>appendleft(item)</code>"
      ]
    },
    {
      "cell_type": "code",
      "metadata": {
        "id": "63c43NJmf9VP",
        "outputId": "8a65acb1-867d-4ca2-9916-339a47cf8c89",
        "colab": {
          "base_uri": "https://localhost:8080/",
          "height": 34
        }
      },
      "source": [
        "# inserting at O(1)\n",
        "improved_list.appendleft(0)\n",
        "improved_list"
      ],
      "execution_count": 9,
      "outputs": [
        {
          "output_type": "execute_result",
          "data": {
            "text/plain": [
              "deque([0, 1, 2, 3, 4])"
            ]
          },
          "metadata": {
            "tags": []
          },
          "execution_count": 9
        }
      ]
    },
    {
      "cell_type": "markdown",
      "metadata": {
        "id": "HONbwZ12Gr-E"
      },
      "source": [
        "## <code>popleft()</code>"
      ]
    },
    {
      "cell_type": "code",
      "metadata": {
        "id": "X-YuOMSGf-X0",
        "outputId": "c6d33b21-a11c-4bbe-aa50-6555e0fd68f2",
        "colab": {
          "base_uri": "https://localhost:8080/",
          "height": 34
        }
      },
      "source": [
        "# poping at O(1)\n",
        "improved_list.popleft()"
      ],
      "execution_count": 10,
      "outputs": [
        {
          "output_type": "execute_result",
          "data": {
            "text/plain": [
              "0"
            ]
          },
          "metadata": {
            "tags": []
          },
          "execution_count": 10
        }
      ]
    },
    {
      "cell_type": "code",
      "metadata": {
        "id": "2vMPMvBKf_ez",
        "outputId": "96353788-6837-4dfb-905b-986f98284831",
        "colab": {
          "base_uri": "https://localhost:8080/",
          "height": 34
        }
      },
      "source": [
        "improved_list"
      ],
      "execution_count": 11,
      "outputs": [
        {
          "output_type": "execute_result",
          "data": {
            "text/plain": [
              "deque([1, 2, 3, 4])"
            ]
          },
          "metadata": {
            "tags": []
          },
          "execution_count": 11
        }
      ]
    },
    {
      "cell_type": "markdown",
      "metadata": {
        "id": "iqpBM8gcG2fa"
      },
      "source": [
        "## <code>rotate(n)</code>"
      ]
    },
    {
      "cell_type": "code",
      "metadata": {
        "id": "NzSmanD6gCgY",
        "outputId": "3968f9c6-9a90-4be6-bb0b-d3b60a7c639c",
        "colab": {
          "base_uri": "https://localhost:8080/",
          "height": 34
        }
      },
      "source": [
        "# changing starting point , keeping the order\n",
        "improved_list.rotate(1)\n",
        "improved_list"
      ],
      "execution_count": 12,
      "outputs": [
        {
          "output_type": "execute_result",
          "data": {
            "text/plain": [
              "deque([4, 1, 2, 3])"
            ]
          },
          "metadata": {
            "tags": []
          },
          "execution_count": 12
        }
      ]
    },
    {
      "cell_type": "code",
      "metadata": {
        "id": "x8D3U6ROF_Wz",
        "outputId": "6a8453c6-dfd9-45bd-b761-0a93623ef699",
        "colab": {
          "base_uri": "https://localhost:8080/",
          "height": 34
        }
      },
      "source": [
        "d = deque([1, 2, 3])\n",
        "d"
      ],
      "execution_count": 14,
      "outputs": [
        {
          "output_type": "execute_result",
          "data": {
            "text/plain": [
              "deque([1, 2, 3])"
            ]
          },
          "metadata": {
            "tags": []
          },
          "execution_count": 14
        }
      ]
    },
    {
      "cell_type": "code",
      "metadata": {
        "id": "ROGHkA7AGAqH",
        "outputId": "41f95f10-04b6-46c3-e9de-4f18fd22bb9c",
        "colab": {
          "base_uri": "https://localhost:8080/",
          "height": 34
        }
      },
      "source": [
        "empty_d = deque()  \n",
        "empty_d"
      ],
      "execution_count": 15,
      "outputs": [
        {
          "output_type": "execute_result",
          "data": {
            "text/plain": [
              "deque([])"
            ]
          },
          "metadata": {
            "tags": []
          },
          "execution_count": 15
        }
      ]
    },
    {
      "cell_type": "code",
      "metadata": {
        "id": "tgZFbW1CGDOu",
        "outputId": "962e330c-2862-442e-c655-f32cd74c14b7",
        "colab": {
          "base_uri": "https://localhost:8080/",
          "height": 34
        }
      },
      "source": [
        "bounded_d = deque(maxlen=10)\n",
        "bounded_d"
      ],
      "execution_count": 16,
      "outputs": [
        {
          "output_type": "execute_result",
          "data": {
            "text/plain": [
              "deque([])"
            ]
          },
          "metadata": {
            "tags": []
          },
          "execution_count": 16
        }
      ]
    },
    {
      "cell_type": "markdown",
      "metadata": {
        "id": "Q7W4ziDTHBCF"
      },
      "source": [
        "# 3. ChainMap"
      ]
    },
    {
      "cell_type": "code",
      "metadata": {
        "id": "YUeZA-svHFNi"
      },
      "source": [
        "import collections\n",
        "\n",
        "# define two dictionaries with at least some keys overlapping.\n",
        "dict1 = {'apple': 1, 'banana': 2}\n",
        "dict2 = {'coconut': 1, 'date': 1, 'apple': 3}\n",
        "\n",
        "# create two ChainMaps with different ordering of those dicts.\n",
        "combined_dict = collections.ChainMap(dict1, dict2)\n",
        "reverse_ordered_dict = collections.ChainMap(dict2, dict1)"
      ],
      "execution_count": 18,
      "outputs": []
    },
    {
      "cell_type": "markdown",
      "metadata": {
        "id": "Ra-vdJg6IHZr"
      },
      "source": [
        "## <code> maps </code>"
      ]
    },
    {
      "cell_type": "code",
      "metadata": {
        "id": "hn8omIpVHehD",
        "outputId": "0f00f526-3c25-4688-eca5-b9c6d3169198",
        "colab": {
          "base_uri": "https://localhost:8080/",
          "height": 34
        }
      },
      "source": [
        "combined_dict.maps"
      ],
      "execution_count": 21,
      "outputs": [
        {
          "output_type": "execute_result",
          "data": {
            "text/plain": [
              "[{'apple': 1, 'banana': 2}, {'apple': 3, 'coconut': 1, 'date': 1}]"
            ]
          },
          "metadata": {
            "tags": []
          },
          "execution_count": 21
        }
      ]
    },
    {
      "cell_type": "code",
      "metadata": {
        "id": "Sl4N1mB2HfZw",
        "outputId": "568d4c12-cada-4f8b-f62c-c3f3819bc1c1",
        "colab": {
          "base_uri": "https://localhost:8080/",
          "height": 34
        }
      },
      "source": [
        "reverse_ordered_dict.maps"
      ],
      "execution_count": 24,
      "outputs": [
        {
          "output_type": "execute_result",
          "data": {
            "text/plain": [
              "[{'apple': 3, 'coconut': 1, 'date': 1}, {'apple': 1, 'banana': 2}]"
            ]
          },
          "metadata": {
            "tags": []
          },
          "execution_count": 24
        }
      ]
    },
    {
      "cell_type": "markdown",
      "metadata": {
        "id": "FKmqP8WhIKQR"
      },
      "source": [
        "## <code> new_child([mappling]) </code>"
      ]
    },
    {
      "cell_type": "code",
      "metadata": {
        "id": "vDcHZJrzIOET",
        "outputId": "552bd7da-7c7a-46c9-92e2-93b663b738b5",
        "colab": {
          "base_uri": "https://localhost:8080/",
          "height": 54
        }
      },
      "source": [
        "combined_dict.new_child(m=1)"
      ],
      "execution_count": 26,
      "outputs": [
        {
          "output_type": "execute_result",
          "data": {
            "text/plain": [
              "ChainMap(1, {'apple': 1, 'banana': 2}, {'coconut': 1, 'date': 1, 'apple': 3})"
            ]
          },
          "metadata": {
            "tags": []
          },
          "execution_count": 26
        }
      ]
    },
    {
      "cell_type": "code",
      "metadata": {
        "id": "Psv0x7DmIUO5",
        "outputId": "fb21b634-219c-461a-d39b-141e499efb36",
        "colab": {
          "base_uri": "https://localhost:8080/",
          "height": 54
        }
      },
      "source": [
        "combined_dict.new_child(m='test')"
      ],
      "execution_count": 27,
      "outputs": [
        {
          "output_type": "execute_result",
          "data": {
            "text/plain": [
              "ChainMap('test', {'apple': 1, 'banana': 2}, {'coconut': 1, 'date': 1, 'apple': 3})"
            ]
          },
          "metadata": {
            "tags": []
          },
          "execution_count": 27
        }
      ]
    },
    {
      "cell_type": "code",
      "metadata": {
        "id": "E5wIIU37IWkA",
        "outputId": "9045738b-9634-414f-ad86-c08ef1ee00d4",
        "colab": {
          "base_uri": "https://localhost:8080/",
          "height": 34
        }
      },
      "source": [
        "combined_dict.new_child(m='test').maps"
      ],
      "execution_count": 28,
      "outputs": [
        {
          "output_type": "execute_result",
          "data": {
            "text/plain": [
              "['test', {'apple': 1, 'banana': 2}, {'apple': 3, 'coconut': 1, 'date': 1}]"
            ]
          },
          "metadata": {
            "tags": []
          },
          "execution_count": 28
        }
      ]
    },
    {
      "cell_type": "markdown",
      "metadata": {
        "id": "tjZQnkxsIY9b"
      },
      "source": [
        "## <code> parents </code>"
      ]
    },
    {
      "cell_type": "code",
      "metadata": {
        "id": "SjxPNLmlIYGO",
        "outputId": "9e55b659-ce20-464d-ad4b-151587ccecc2",
        "colab": {
          "base_uri": "https://localhost:8080/",
          "height": 34
        }
      },
      "source": [
        "combined_dict.parents"
      ],
      "execution_count": 29,
      "outputs": [
        {
          "output_type": "execute_result",
          "data": {
            "text/plain": [
              "ChainMap({'coconut': 1, 'date': 1, 'apple': 3})"
            ]
          },
          "metadata": {
            "tags": []
          },
          "execution_count": 29
        }
      ]
    },
    {
      "cell_type": "markdown",
      "metadata": {
        "id": "w8T8QFBzgGaQ"
      },
      "source": [
        "# 4. Counter"
      ]
    },
    {
      "cell_type": "code",
      "metadata": {
        "id": "xyiMPRHdgHgm"
      },
      "source": [
        "from collections import Counter"
      ],
      "execution_count": 30,
      "outputs": []
    },
    {
      "cell_type": "code",
      "metadata": {
        "id": "gu-vui_ygJRa"
      },
      "source": [
        "c1 = Counter([2,3,1,2,3,5,3,6,7,9,5,3,4,5,6,4,3,4,6])\n",
        "c2 = Counter(\"gjfjadlfggfkgd;fkgd,fgfsfdjsfj\")"
      ],
      "execution_count": 31,
      "outputs": []
    },
    {
      "cell_type": "code",
      "metadata": {
        "id": "cavxOOyDgKQk",
        "outputId": "886076e4-9075-4274-d6b3-f0722ff49025",
        "colab": {
          "base_uri": "https://localhost:8080/",
          "height": 34
        }
      },
      "source": [
        "c1"
      ],
      "execution_count": 32,
      "outputs": [
        {
          "output_type": "execute_result",
          "data": {
            "text/plain": [
              "Counter({1: 1, 2: 2, 3: 5, 4: 3, 5: 3, 6: 3, 7: 1, 9: 1})"
            ]
          },
          "metadata": {
            "tags": []
          },
          "execution_count": 32
        }
      ]
    },
    {
      "cell_type": "markdown",
      "metadata": {
        "id": "ImNeaBW7JBiA"
      },
      "source": [
        "## <code> elements() </code>"
      ]
    },
    {
      "cell_type": "code",
      "metadata": {
        "id": "mcZUU6DhI8g4",
        "outputId": "d70d3c49-fcb6-40f7-f73b-66bd3415ea27",
        "colab": {
          "base_uri": "https://localhost:8080/",
          "height": 34
        }
      },
      "source": [
        "list(c1.elements())"
      ],
      "execution_count": 38,
      "outputs": [
        {
          "output_type": "execute_result",
          "data": {
            "text/plain": [
              "[2, 2, 3, 3, 3, 3, 3, 1, 5, 5, 5, 6, 6, 6, 7, 9, 4, 4, 4]"
            ]
          },
          "metadata": {
            "tags": []
          },
          "execution_count": 38
        }
      ]
    },
    {
      "cell_type": "code",
      "metadata": {
        "id": "jmacV1prgLDR",
        "outputId": "872a76e6-9b37-4281-fb40-c0f72f26ef73",
        "colab": {
          "base_uri": "https://localhost:8080/",
          "height": 34
        }
      },
      "source": [
        "# shows the 3 most commom results\n",
        "c2.most_common(3)"
      ],
      "execution_count": 33,
      "outputs": [
        {
          "output_type": "execute_result",
          "data": {
            "text/plain": [
              "[('f', 8), ('g', 6), ('j', 4)]"
            ]
          },
          "metadata": {
            "tags": []
          },
          "execution_count": 33
        }
      ]
    },
    {
      "cell_type": "code",
      "metadata": {
        "id": "Bua_zZ71gMEw",
        "outputId": "108b55f2-921a-4f36-a282-3ee04338b5a1",
        "colab": {
          "base_uri": "https://localhost:8080/",
          "height": 34
        }
      },
      "source": [
        "# no error even though object does not exist in original list\n",
        "c2['m']"
      ],
      "execution_count": 34,
      "outputs": [
        {
          "output_type": "execute_result",
          "data": {
            "text/plain": [
              "0"
            ]
          },
          "metadata": {
            "tags": []
          },
          "execution_count": 34
        }
      ]
    },
    {
      "cell_type": "code",
      "metadata": {
        "id": "KcsCYtdCgO93"
      },
      "source": [
        "text = \"\"\"how many times each word is written in this sentence? I can easily\n",
        "count, but what is this was a document? will I still count?\"\"\"\n",
        "org_text = text\n",
        "\n",
        "# this could be done much better with re module\n",
        "text.replace('?', '')\n",
        "text.replace(',', '')\n",
        "\n",
        "words_counter = Counter(text.split(' '))"
      ],
      "execution_count": 35,
      "outputs": []
    },
    {
      "cell_type": "markdown",
      "metadata": {
        "id": "1psmcnAII3YB"
      },
      "source": [
        "## <code> most_common([n]) </code>"
      ]
    },
    {
      "cell_type": "code",
      "metadata": {
        "id": "EkKzdz4AgS_p",
        "outputId": "63b13aa9-9ac9-4e87-8db4-09d0524cce68",
        "colab": {
          "base_uri": "https://localhost:8080/",
          "height": 34
        }
      },
      "source": [
        "words_counter.most_common(3)"
      ],
      "execution_count": 36,
      "outputs": [
        {
          "output_type": "execute_result",
          "data": {
            "text/plain": [
              "[('is', 2), ('this', 2), ('I', 2)]"
            ]
          },
          "metadata": {
            "tags": []
          },
          "execution_count": 36
        }
      ]
    },
    {
      "cell_type": "markdown",
      "metadata": {
        "id": "wOYGl0pIJIvG"
      },
      "source": [
        "# 5. OrderedDict"
      ]
    },
    {
      "cell_type": "code",
      "metadata": {
        "id": "Y-YKxwmqIzF1"
      },
      "source": [
        "from collections import OrderedDict"
      ],
      "execution_count": 39,
      "outputs": []
    },
    {
      "cell_type": "code",
      "metadata": {
        "id": "Esp038iuJM5v"
      },
      "source": [
        "d = OrderedDict()"
      ],
      "execution_count": 41,
      "outputs": []
    },
    {
      "cell_type": "code",
      "metadata": {
        "id": "c7q53oVkJNsx"
      },
      "source": [
        "d[\"a\"] = 1"
      ],
      "execution_count": 42,
      "outputs": []
    },
    {
      "cell_type": "code",
      "metadata": {
        "id": "l8KAaEdZJPBO"
      },
      "source": [
        "d[\"b\"] = 2"
      ],
      "execution_count": 43,
      "outputs": []
    },
    {
      "cell_type": "code",
      "metadata": {
        "id": "h4bpYhL6JPyc"
      },
      "source": [
        "d[\"c\"] = 3"
      ],
      "execution_count": 44,
      "outputs": []
    },
    {
      "cell_type": "code",
      "metadata": {
        "id": "t_Cv9W76JQvt",
        "outputId": "32f9cfb9-14d0-4b1d-f4d2-e3ebed4cfe56",
        "colab": {
          "base_uri": "https://localhost:8080/",
          "height": 34
        }
      },
      "source": [
        "print(d.items())"
      ],
      "execution_count": 45,
      "outputs": [
        {
          "output_type": "stream",
          "text": [
            "odict_items([('a', 1), ('b', 2), ('c', 3)])\n"
          ],
          "name": "stdout"
        }
      ]
    },
    {
      "cell_type": "code",
      "metadata": {
        "id": "qnhs3IriJalG",
        "outputId": "f4b5f3b1-1267-431a-8fae-f246cb16ebc7",
        "colab": {
          "base_uri": "https://localhost:8080/",
          "height": 34
        }
      },
      "source": [
        "d"
      ],
      "execution_count": 46,
      "outputs": [
        {
          "output_type": "execute_result",
          "data": {
            "text/plain": [
              "OrderedDict([('a', 1), ('b', 2), ('c', 3)])"
            ]
          },
          "metadata": {
            "tags": []
          },
          "execution_count": 46
        }
      ]
    },
    {
      "cell_type": "markdown",
      "metadata": {
        "id": "thdh1u-dJU8E"
      },
      "source": [
        "## <code> popitem(last=True) </code>"
      ]
    },
    {
      "cell_type": "code",
      "metadata": {
        "id": "-_WfNX3qJSZ4",
        "outputId": "e50ddef7-5712-4f06-be91-b1dd516b8997",
        "colab": {
          "base_uri": "https://localhost:8080/",
          "height": 34
        }
      },
      "source": [
        "d.popitem(last=True)"
      ],
      "execution_count": 47,
      "outputs": [
        {
          "output_type": "execute_result",
          "data": {
            "text/plain": [
              "('c', 3)"
            ]
          },
          "metadata": {
            "tags": []
          },
          "execution_count": 47
        }
      ]
    },
    {
      "cell_type": "code",
      "metadata": {
        "id": "HTWaK0L1JdwA",
        "outputId": "bdee23c5-aa30-4b71-fe92-d4cfbd23ce98",
        "colab": {
          "base_uri": "https://localhost:8080/",
          "height": 34
        }
      },
      "source": [
        "d.popitem(last=False)"
      ],
      "execution_count": 48,
      "outputs": [
        {
          "output_type": "execute_result",
          "data": {
            "text/plain": [
              "('a', 1)"
            ]
          },
          "metadata": {
            "tags": []
          },
          "execution_count": 48
        }
      ]
    },
    {
      "cell_type": "code",
      "metadata": {
        "id": "tTxFxC1ZJf1t",
        "outputId": "44a1bdd3-c136-4a7f-f5e7-a078ffc355c5",
        "colab": {
          "base_uri": "https://localhost:8080/",
          "height": 34
        }
      },
      "source": [
        "d"
      ],
      "execution_count": 49,
      "outputs": [
        {
          "output_type": "execute_result",
          "data": {
            "text/plain": [
              "OrderedDict([('b', 2)])"
            ]
          },
          "metadata": {
            "tags": []
          },
          "execution_count": 49
        }
      ]
    },
    {
      "cell_type": "markdown",
      "metadata": {
        "id": "bD74Wk5yJi9O"
      },
      "source": [
        "## <code> move_to_end(key, last=True) </code>"
      ]
    },
    {
      "cell_type": "code",
      "metadata": {
        "id": "kTqFMqT1Jg1v",
        "outputId": "651be487-1736-4d26-d47c-c7f0c53bc573",
        "colab": {
          "base_uri": "https://localhost:8080/",
          "height": 34
        }
      },
      "source": [
        "d = OrderedDict()\n",
        "d[\"a\"] = 1\n",
        "d[\"b\"] = 2\n",
        "d[\"c\"] = 3\n",
        "d"
      ],
      "execution_count": 50,
      "outputs": [
        {
          "output_type": "execute_result",
          "data": {
            "text/plain": [
              "OrderedDict([('a', 1), ('b', 2), ('c', 3)])"
            ]
          },
          "metadata": {
            "tags": []
          },
          "execution_count": 50
        }
      ]
    },
    {
      "cell_type": "code",
      "metadata": {
        "id": "8SfFyITQJsNM"
      },
      "source": [
        "d.move_to_end('b')"
      ],
      "execution_count": 51,
      "outputs": []
    },
    {
      "cell_type": "code",
      "metadata": {
        "id": "AvuTZMC6JuT1",
        "outputId": "8fa623ae-b67d-4b6a-c8cc-7080b90cb012",
        "colab": {
          "base_uri": "https://localhost:8080/",
          "height": 34
        }
      },
      "source": [
        "d"
      ],
      "execution_count": 52,
      "outputs": [
        {
          "output_type": "execute_result",
          "data": {
            "text/plain": [
              "OrderedDict([('a', 1), ('c', 3), ('b', 2)])"
            ]
          },
          "metadata": {
            "tags": []
          },
          "execution_count": 52
        }
      ]
    },
    {
      "cell_type": "code",
      "metadata": {
        "id": "3beABFnEJvAA",
        "outputId": "340dd7eb-2012-45bd-859f-6a4512dd7e3d",
        "colab": {
          "base_uri": "https://localhost:8080/",
          "height": 34
        }
      },
      "source": [
        "d.move_to_end('c', last=False)\n",
        "d"
      ],
      "execution_count": 53,
      "outputs": [
        {
          "output_type": "execute_result",
          "data": {
            "text/plain": [
              "OrderedDict([('c', 3), ('a', 1), ('b', 2)])"
            ]
          },
          "metadata": {
            "tags": []
          },
          "execution_count": 53
        }
      ]
    },
    {
      "cell_type": "markdown",
      "metadata": {
        "id": "Og81KEDCJ2jW"
      },
      "source": [
        "# 6. defaultdict"
      ]
    },
    {
      "cell_type": "code",
      "metadata": {
        "id": "KUz1yAg-Jwxi"
      },
      "source": [
        "from collections import defaultdict"
      ],
      "execution_count": 54,
      "outputs": []
    },
    {
      "cell_type": "code",
      "metadata": {
        "id": "LIlkGXefJ6Aa",
        "outputId": "8a3b565e-4fe4-4472-f700-23f219fae81d",
        "colab": {
          "base_uri": "https://localhost:8080/",
          "height": 34
        }
      },
      "source": [
        "s = [('yellow', 1), ('blue', 2), ('yellow', 3), ('blue', 4), ('red', 1)]\n",
        "s"
      ],
      "execution_count": 55,
      "outputs": [
        {
          "output_type": "execute_result",
          "data": {
            "text/plain": [
              "[('yellow', 1), ('blue', 2), ('yellow', 3), ('blue', 4), ('red', 1)]"
            ]
          },
          "metadata": {
            "tags": []
          },
          "execution_count": 55
        }
      ]
    },
    {
      "cell_type": "code",
      "metadata": {
        "id": "PKmEPCYcJ7kL"
      },
      "source": [
        "d = defaultdict(list)"
      ],
      "execution_count": 56,
      "outputs": []
    },
    {
      "cell_type": "code",
      "metadata": {
        "id": "zvcZ6-2_J9LW",
        "outputId": "40824118-85a6-47d1-a3bf-08adb13d30cd",
        "colab": {
          "base_uri": "https://localhost:8080/",
          "height": 34
        }
      },
      "source": [
        "d"
      ],
      "execution_count": 57,
      "outputs": [
        {
          "output_type": "execute_result",
          "data": {
            "text/plain": [
              "defaultdict(list, {})"
            ]
          },
          "metadata": {
            "tags": []
          },
          "execution_count": 57
        }
      ]
    },
    {
      "cell_type": "code",
      "metadata": {
        "id": "BYf51V6yJ9uE"
      },
      "source": [
        "for k, v in s:\n",
        "    d[k].append(v)"
      ],
      "execution_count": 58,
      "outputs": []
    },
    {
      "cell_type": "code",
      "metadata": {
        "id": "_CKKz0MdJ_lZ",
        "outputId": "f0757b85-01df-4dc5-b2d4-16a636034172",
        "colab": {
          "base_uri": "https://localhost:8080/",
          "height": 34
        }
      },
      "source": [
        "d"
      ],
      "execution_count": 59,
      "outputs": [
        {
          "output_type": "execute_result",
          "data": {
            "text/plain": [
              "defaultdict(list, {'blue': [2, 4], 'red': [1], 'yellow': [1, 3]})"
            ]
          },
          "metadata": {
            "tags": []
          },
          "execution_count": 59
        }
      ]
    },
    {
      "cell_type": "code",
      "metadata": {
        "id": "t_KCkGdTKAQN",
        "outputId": "0b27d5f1-7d8e-4ae4-f062-3c909c1f9125",
        "colab": {
          "base_uri": "https://localhost:8080/",
          "height": 34
        }
      },
      "source": [
        "sorted(d.items())"
      ],
      "execution_count": 60,
      "outputs": [
        {
          "output_type": "execute_result",
          "data": {
            "text/plain": [
              "[('blue', [2, 4]), ('red', [1]), ('yellow', [1, 3])]"
            ]
          },
          "metadata": {
            "tags": []
          },
          "execution_count": 60
        }
      ]
    }
  ]
}