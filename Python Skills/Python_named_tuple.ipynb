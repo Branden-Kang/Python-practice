{
  "nbformat": 4,
  "nbformat_minor": 0,
  "metadata": {
    "colab": {
      "name": "Python named tuple.ipynb",
      "provenance": [],
      "authorship_tag": "ABX9TyPmfvjPIS+rtZnC0ofBa+a9"
    },
    "kernelspec": {
      "name": "python3",
      "display_name": "Python 3"
    }
  },
  "cells": [
    {
      "cell_type": "markdown",
      "metadata": {
        "id": "vVIfPLurcPtp"
      },
      "source": [
        "[Reference](https://medium.com/python-in-plain-english/python-named-tuple-boost-your-code-readability-70b2039d393)"
      ]
    },
    {
      "cell_type": "code",
      "metadata": {
        "colab": {
          "base_uri": "https://localhost:8080/"
        },
        "id": "5nlP09ikcKjp",
        "outputId": "96a8f33a-4581-45ea-f1da-e6c58850e055"
      },
      "source": [
        "attribute_names = (\"https://google.api.com\", \"api_key\", \"GET\")\n",
        "\n",
        "def api_helper(params):\n",
        "    if params[2] == \"GET\":\n",
        "        print(\"The url {} will be called using {} method\".format(params[0], params[2]))\n",
        "\n",
        "    else:\n",
        "        params[2] == \"POST\"\n",
        "        print(\"The url {} will be called using {} method\".format(params[0], params[2]))\n",
        "\n",
        "\n",
        "if __name__ == \"__main__\":\n",
        "    api_helper(attribute_names)"
      ],
      "execution_count": 1,
      "outputs": [
        {
          "output_type": "stream",
          "text": [
            "The url https://google.api.com will be called using GET method\n"
          ],
          "name": "stdout"
        }
      ]
    },
    {
      "cell_type": "code",
      "metadata": {
        "colab": {
          "base_uri": "https://localhost:8080/"
        },
        "id": "EiF-9vqgcZtl",
        "outputId": "90d9d088-310d-4d5b-b7f4-87f9c9f42c44"
      },
      "source": [
        "from collections import namedtuple\n",
        "\n",
        "attributes = namedtuple(\"attributes\", [\"url\", \"params\", \"method\"])\n",
        "data = attributes(\"https://google.api.com\", \"api_key\", \"GET\")\n",
        "\n",
        "\n",
        "def api_named_helper(params):\n",
        "    if params.method == \"GET\":\n",
        "        print(\"The url {} will be called using {} method\".format(params.url, params.method))\n",
        "\n",
        "    else:\n",
        "        params.method == \"POST\"\n",
        "        print(\"The url {} will be called using {} method\".format(params.url, params.method))\n",
        "\n",
        "\n",
        "if __name__ == \"__main__\":\n",
        "    api_named_helper(data)"
      ],
      "execution_count": 2,
      "outputs": [
        {
          "output_type": "stream",
          "text": [
            "The url https://google.api.com will be called using GET method\n"
          ],
          "name": "stdout"
        }
      ]
    }
  ]
}