{
  "nbformat": 4,
  "nbformat_minor": 0,
  "metadata": {
    "colab": {
      "name": "Important Lambda expressions in Python.ipynb",
      "provenance": [],
      "authorship_tag": "ABX9TyNOxe6NFxiddBRb0nobjQGZ"
    },
    "kernelspec": {
      "name": "python3",
      "display_name": "Python 3"
    }
  },
  "cells": [
    {
      "cell_type": "markdown",
      "metadata": {
        "id": "DJnVG_UxfMx2"
      },
      "source": [
        "[Reference](https://medium.com/datatau/what-they-are-and-how-to-use-lambda-expressions-in-python-41aa87852c83)"
      ]
    },
    {
      "cell_type": "markdown",
      "metadata": {
        "id": "kOz-MiN8fQ0S"
      },
      "source": [
        "```python\n",
        "#I write p1 and p2 as parameters 1 and 2 of the function.\n",
        "lambda p1, p2: expression\n",
        "```"
      ]
    },
    {
      "cell_type": "code",
      "metadata": {
        "id": "3OeIIrUEfKke"
      },
      "source": [
        "#Here we have a function created to add up.\n",
        "def sum(x,y):\n",
        "    return(x + y)\n",
        "    \n",
        "#Here we have a lambda function that also adds up.\n",
        "lambda x,y : x + y\n",
        "\n",
        "#In order to use it we need to save it in a variable.\n",
        "sum_two = lambda x,y : x + y"
      ],
      "execution_count": 1,
      "outputs": []
    },
    {
      "cell_type": "code",
      "metadata": {
        "id": "RS6Tlsl6fUy4"
      },
      "source": [
        "#import pandas and numpy to create a DataFrame\n",
        "import pandas as pd\n",
        "import numpy as np\n",
        "\n",
        "#created a DataFrame with two columns, Celsius and Kelvin, both with equal data\n",
        "data = {'Celsius': [22, 36, 20, 26, 30, 38],\n",
        "        'Kelvin': [22, 36, 20, 26, 30, 38]}\n",
        "        \n",
        "#created the DataFrame with its index and Celsius and Kelvin columns\n",
        "df = pd.DataFrame(data, index = ['Londres','Madrid','Barcelona','Sevilla','Cádiz','Lima'])\n",
        "\n",
        "#Creating a lambda function to pass the degrees Celsius to Kelvin\n",
        "to_kelvin = lambda x: (x + 273,15)\n",
        "\n",
        "#apply the Lambda to the [Kelvin] column with the apply() method\n",
        "df = df['Kelvin'].apply(to_kelvin)"
      ],
      "execution_count": 2,
      "outputs": []
    },
    {
      "cell_type": "code",
      "metadata": {
        "id": "kDi6lLpPfdRp",
        "outputId": "648eb016-3521-48f3-b808-a2a6fbfc0c78",
        "colab": {
          "base_uri": "https://localhost:8080/",
          "height": 136
        }
      },
      "source": [
        "df"
      ],
      "execution_count": 3,
      "outputs": [
        {
          "output_type": "execute_result",
          "data": {
            "text/plain": [
              "Londres      (295, 15)\n",
              "Madrid       (309, 15)\n",
              "Barcelona    (293, 15)\n",
              "Sevilla      (299, 15)\n",
              "Cádiz        (303, 15)\n",
              "Lima         (311, 15)\n",
              "Name: Kelvin, dtype: object"
            ]
          },
          "metadata": {
            "tags": []
          },
          "execution_count": 3
        }
      ]
    },
    {
      "cell_type": "markdown",
      "metadata": {
        "id": "cv__1GxzfgqX"
      },
      "source": [
        "# Lambda in lists with the filter() method"
      ]
    },
    {
      "cell_type": "code",
      "metadata": {
        "id": "E6hK9TWzfehG",
        "outputId": "ffe9c785-f619-4243-fa31-aaa09b094e90",
        "colab": {
          "base_uri": "https://localhost:8080/",
          "height": 34
        }
      },
      "source": [
        "#I have a list with many numbers\n",
        "check = [38,24,99,42,2,3,11,23,53,21,3,53,77,12,34,92,122,1008,26]\n",
        "\n",
        "#I create a variable and apply filter() and lambda\n",
        "filt = filter(lambda x: x % 2 == 0, check)\n",
        "\n",
        "#I create a variable to convert the result of 'filt' into a list \n",
        "pairs = list(filt)\n",
        "\n",
        "#Finally I get the list with the results that have returned True when passing the filter\n",
        "print(pairs)"
      ],
      "execution_count": 4,
      "outputs": [
        {
          "output_type": "stream",
          "text": [
            "[38, 24, 42, 2, 12, 34, 92, 122, 1008, 26]\n"
          ],
          "name": "stdout"
        }
      ]
    }
  ]
}