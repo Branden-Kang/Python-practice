{
  "nbformat": 4,
  "nbformat_minor": 0,
  "metadata": {
    "colab": {
      "name": "An Introduction to Inheritance in Python.ipynb",
      "provenance": [],
      "authorship_tag": "ABX9TyPZ9T83pVkAEq8j2rSbTJKo"
    },
    "kernelspec": {
      "name": "python3",
      "display_name": "Python 3"
    },
    "language_info": {
      "name": "python"
    }
  },
  "cells": [
    {
      "cell_type": "markdown",
      "metadata": {
        "id": "bE_K5lSR4TJg"
      },
      "source": [
        "[Reference](https://nandhabalanmarimuthu.medium.com/python-inheritance-45df7ab2d524)"
      ]
    },
    {
      "cell_type": "code",
      "metadata": {
        "id": "H5YZVvtR4MYa"
      },
      "source": [
        "class Student:\n",
        " def __init__(self,name,rollno,marks):\n",
        "  self.name = name\n",
        "  self.rollno = rollno\n",
        "  self.marks = marks\n",
        " def Info(self):\n",
        "  print('Student name is ',self.name,'roll no ',self.rollno)\n",
        "  \n",
        "class Result(Student):\n",
        " def res(self):\n",
        "  if(self.marks>50):\n",
        "   print(\"pass\")\n",
        "  else:\n",
        "   print(\"Fail\")"
      ],
      "execution_count": 4,
      "outputs": []
    },
    {
      "cell_type": "code",
      "metadata": {
        "colab": {
          "base_uri": "https://localhost:8080/"
        },
        "id": "r5bMAeNO4cOM",
        "outputId": "d4bbaa88-9091-4028-a6b8-0ab9ab01b54e"
      },
      "source": [
        "t = Result('tom',234,75)\n",
        "t.Info()"
      ],
      "execution_count": 5,
      "outputs": [
        {
          "output_type": "stream",
          "text": [
            "Student name is  tom roll no  234\n"
          ],
          "name": "stdout"
        }
      ]
    },
    {
      "cell_type": "code",
      "metadata": {
        "colab": {
          "base_uri": "https://localhost:8080/",
          "height": 232
        },
        "id": "eukLFddq4ngs",
        "outputId": "08768c8c-b54c-45cc-d2c7-3a69335ccaf0"
      },
      "source": [
        "class Student:\n",
        " def __init__(self,name,rollno,marks):\n",
        "  self.name = name\n",
        "  self.rollno = rollno\n",
        "  self.marks = marks\n",
        " def Info(self):\n",
        "  print('Student name is ',self.name,'roll no ',self.rollno)\n",
        "\n",
        "class Result:\n",
        " def __init__(self,name,rollno,marks):\n",
        "  self.student = Student(name,rollno,marks)\n",
        " def printInfo():\n",
        "     self.student.Info()\n",
        "s = Result('sam',233,56)\n",
        "s.printInfo()"
      ],
      "execution_count": 10,
      "outputs": [
        {
          "output_type": "error",
          "ename": "TypeError",
          "evalue": "ignored",
          "traceback": [
            "\u001b[0;31m---------------------------------------------------------------------------\u001b[0m",
            "\u001b[0;31mTypeError\u001b[0m                                 Traceback (most recent call last)",
            "\u001b[0;32m<ipython-input-10-7bd190ef2266>\u001b[0m in \u001b[0;36m<module>\u001b[0;34m()\u001b[0m\n\u001b[1;32m     13\u001b[0m      \u001b[0mself\u001b[0m\u001b[0;34m.\u001b[0m\u001b[0mstudent\u001b[0m\u001b[0;34m.\u001b[0m\u001b[0mInfo\u001b[0m\u001b[0;34m(\u001b[0m\u001b[0;34m)\u001b[0m\u001b[0;34m\u001b[0m\u001b[0;34m\u001b[0m\u001b[0m\n\u001b[1;32m     14\u001b[0m \u001b[0ms\u001b[0m \u001b[0;34m=\u001b[0m \u001b[0mResult\u001b[0m\u001b[0;34m(\u001b[0m\u001b[0;34m'sam'\u001b[0m\u001b[0;34m,\u001b[0m\u001b[0;36m233\u001b[0m\u001b[0;34m,\u001b[0m\u001b[0;36m56\u001b[0m\u001b[0;34m)\u001b[0m\u001b[0;34m\u001b[0m\u001b[0;34m\u001b[0m\u001b[0m\n\u001b[0;32m---> 15\u001b[0;31m \u001b[0ms\u001b[0m\u001b[0;34m.\u001b[0m\u001b[0mprintInfo\u001b[0m\u001b[0;34m(\u001b[0m\u001b[0;34m)\u001b[0m\u001b[0;34m\u001b[0m\u001b[0;34m\u001b[0m\u001b[0m\n\u001b[0m",
            "\u001b[0;31mTypeError\u001b[0m: printInfo() takes 0 positional arguments but 1 was given"
          ]
        }
      ]
    },
    {
      "cell_type": "code",
      "metadata": {
        "id": "pNpdCFzU5f8g"
      },
      "source": [
        "class Employee:\n",
        " def __init__(self,name,eid):\n",
        "  self.name = name  \n",
        "  self.eid = eid\n",
        " def printDetails(self):\n",
        "  print('Employee name is {} and Employee no is     {}'.format(self.name,self.eid))#inheritance - is a relationship\n",
        "class Supervisior(Employee):\n",
        " pass#composition - has a relationship\n",
        "class TL():\n",
        " def __init__(self,name,eid):\n",
        "  self.employee = Employee(name,eid)\n",
        " def empDetails(self):\n",
        "  self.employee.printDetails()"
      ],
      "execution_count": 11,
      "outputs": []
    },
    {
      "cell_type": "code",
      "metadata": {
        "colab": {
          "base_uri": "https://localhost:8080/"
        },
        "id": "z_WJUq2-7jZY",
        "outputId": "e1751670-1574-475c-d403-6ac07cf967e5"
      },
      "source": [
        "s = Supervisior('jon',25)\n",
        "t = TL('Tom',30)\n",
        "s.printDetails()\n",
        "t.empDetails()"
      ],
      "execution_count": 14,
      "outputs": [
        {
          "output_type": "stream",
          "text": [
            "Employee name is jon and Employee no is     25\n",
            "Employee name is Tom and Employee no is     30\n"
          ],
          "name": "stdout"
        }
      ]
    },
    {
      "cell_type": "code",
      "metadata": {
        "colab": {
          "base_uri": "https://localhost:8080/"
        },
        "id": "-MFMrbNI71xW",
        "outputId": "0636f200-103e-48bc-8e06-d0b1c38f972b"
      },
      "source": [
        "class P:\n",
        " def mym1(self):\n",
        "  print('Parent Method')\n",
        "class Q(P):\n",
        " def mym2(self):\n",
        "  print('Child Method')\n",
        "a = Q()\n",
        "a.mym2()\n",
        "a.mym1()"
      ],
      "execution_count": 15,
      "outputs": [
        {
          "output_type": "stream",
          "text": [
            "Child Method\n",
            "Parent Method\n"
          ],
          "name": "stdout"
        }
      ]
    },
    {
      "cell_type": "code",
      "metadata": {
        "colab": {
          "base_uri": "https://localhost:8080/"
        },
        "id": "V8jkCqHX73Oy",
        "outputId": "5e82ba27-6af4-491d-bd60-8e6c65fda364"
      },
      "source": [
        "class P:\n",
        " def mym1(self):\n",
        "  print('Parent Method')\n",
        "class Q(P):\n",
        " def mym2(self):\n",
        "  print('Child Method')\n",
        "class R(Q):\n",
        " def mym3(self):\n",
        "  print('Muli-level inheritance Method')\n",
        "a = R()\n",
        "a.mym3()\n",
        "a.mym2()\n",
        "a.mym1()"
      ],
      "execution_count": 16,
      "outputs": [
        {
          "output_type": "stream",
          "text": [
            "Muli-level inheritance Method\n",
            "Child Method\n",
            "Parent Method\n"
          ],
          "name": "stdout"
        }
      ]
    },
    {
      "cell_type": "code",
      "metadata": {
        "colab": {
          "base_uri": "https://localhost:8080/"
        },
        "id": "MeSJ3R-X75DD",
        "outputId": "d950363b-c67e-4ccc-c6b2-324586e07ecf"
      },
      "source": [
        "class P:\n",
        " def mym1(self):\n",
        "  print('Parent1 Method')\n",
        "class Q():\n",
        " def mym2(self):\n",
        "  print('Parent2 Method')\n",
        "class R(Q,R):\n",
        " def mym3(self):\n",
        "  print('Child Method')\n",
        "a = R()\n",
        "a.mym3()\n",
        "a.mym2()\n",
        "a.mym1()"
      ],
      "execution_count": 17,
      "outputs": [
        {
          "output_type": "stream",
          "text": [
            "Child Method\n",
            "Parent2 Method\n",
            "Parent Method\n"
          ],
          "name": "stdout"
        }
      ]
    },
    {
      "cell_type": "code",
      "metadata": {
        "colab": {
          "base_uri": "https://localhost:8080/",
          "height": 266
        },
        "id": "Y4edSskE8CIj",
        "outputId": "905d6d4b-9789-42ea-bc7a-1b47285e121b"
      },
      "source": [
        "class P:\n",
        " def mym1(self):\n",
        "  print('Parent Method')\n",
        "class Q(P):\n",
        " def mym2(self):\n",
        "  print('Child1 Method')\n",
        "class R(Q,R):\n",
        " def mym3(self):\n",
        "  print('Child2 Method')\n",
        "a = R()\n",
        "b = Q()\n",
        "b.mym3()\n",
        "b.mym1()\n",
        "a.mym3()\n",
        "a.mym1()"
      ],
      "execution_count": 20,
      "outputs": [
        {
          "output_type": "error",
          "ename": "AttributeError",
          "evalue": "ignored",
          "traceback": [
            "\u001b[0;31m---------------------------------------------------------------------------\u001b[0m",
            "\u001b[0;31mAttributeError\u001b[0m                            Traceback (most recent call last)",
            "\u001b[0;32m<ipython-input-20-bb96e3157f87>\u001b[0m in \u001b[0;36m<module>\u001b[0;34m()\u001b[0m\n\u001b[1;32m     10\u001b[0m \u001b[0ma\u001b[0m \u001b[0;34m=\u001b[0m \u001b[0mR\u001b[0m\u001b[0;34m(\u001b[0m\u001b[0;34m)\u001b[0m\u001b[0;34m\u001b[0m\u001b[0;34m\u001b[0m\u001b[0m\n\u001b[1;32m     11\u001b[0m \u001b[0mb\u001b[0m \u001b[0;34m=\u001b[0m \u001b[0mQ\u001b[0m\u001b[0;34m(\u001b[0m\u001b[0;34m)\u001b[0m\u001b[0;34m\u001b[0m\u001b[0;34m\u001b[0m\u001b[0m\n\u001b[0;32m---> 12\u001b[0;31m \u001b[0mb\u001b[0m\u001b[0;34m.\u001b[0m\u001b[0mmym3\u001b[0m\u001b[0;34m(\u001b[0m\u001b[0;34m)\u001b[0m\u001b[0;34m\u001b[0m\u001b[0;34m\u001b[0m\u001b[0m\n\u001b[0m\u001b[1;32m     13\u001b[0m \u001b[0mb\u001b[0m\u001b[0;34m.\u001b[0m\u001b[0mmym1\u001b[0m\u001b[0;34m(\u001b[0m\u001b[0;34m)\u001b[0m\u001b[0;34m\u001b[0m\u001b[0;34m\u001b[0m\u001b[0m\n\u001b[1;32m     14\u001b[0m \u001b[0ma\u001b[0m\u001b[0;34m.\u001b[0m\u001b[0mmym3\u001b[0m\u001b[0;34m(\u001b[0m\u001b[0;34m)\u001b[0m\u001b[0;34m\u001b[0m\u001b[0;34m\u001b[0m\u001b[0m\n",
            "\u001b[0;31mAttributeError\u001b[0m: 'Q' object has no attribute 'mym3'"
          ]
        }
      ]
    },
    {
      "cell_type": "code",
      "metadata": {
        "id": "EIjgr-CQ8EQB"
      },
      "source": [
        "class P(Q): \n",
        " pass\n",
        " \n",
        "class Q(P):\n",
        " pass"
      ],
      "execution_count": 21,
      "outputs": []
    }
  ]
}