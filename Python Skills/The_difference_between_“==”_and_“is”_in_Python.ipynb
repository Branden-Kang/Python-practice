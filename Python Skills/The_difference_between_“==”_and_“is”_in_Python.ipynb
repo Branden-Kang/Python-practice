{
  "nbformat": 4,
  "nbformat_minor": 0,
  "metadata": {
    "colab": {
      "name": "The difference between “==” and “is” in Python.ipynb",
      "provenance": [],
      "authorship_tag": "ABX9TyPRtgJVdUrU5OX/7ye5T05P"
    },
    "kernelspec": {
      "name": "python3",
      "display_name": "Python 3"
    },
    "language_info": {
      "name": "python"
    }
  },
  "cells": [
    {
      "cell_type": "markdown",
      "metadata": {
        "id": "49QtdeJp66tq"
      },
      "source": [
        "[Reference](https://medium.com/nerd-for-tech/the-difference-between-and-is-in-python-52f447756c10)"
      ]
    },
    {
      "cell_type": "code",
      "metadata": {
        "id": "isDKk_8_662E"
      },
      "source": [
        "alpha = 5\n",
        "bravo = 5 "
      ],
      "execution_count": 1,
      "outputs": []
    },
    {
      "cell_type": "code",
      "metadata": {
        "colab": {
          "base_uri": "https://localhost:8080/"
        },
        "id": "a2mEjyya6SSl",
        "outputId": "5cdc456e-e5b5-44c0-f418-9637ac111113"
      },
      "source": [
        "alpha == bravo"
      ],
      "execution_count": 2,
      "outputs": [
        {
          "output_type": "execute_result",
          "data": {
            "text/plain": [
              "True"
            ]
          },
          "metadata": {
            "tags": []
          },
          "execution_count": 2
        }
      ]
    },
    {
      "cell_type": "code",
      "metadata": {
        "colab": {
          "base_uri": "https://localhost:8080/"
        },
        "id": "YvjnljVn6_97",
        "outputId": "5ab7bbb3-b72c-4998-9f81-72f24b26e022"
      },
      "source": [
        "alpha is bravo"
      ],
      "execution_count": 3,
      "outputs": [
        {
          "output_type": "execute_result",
          "data": {
            "text/plain": [
              "True"
            ]
          },
          "metadata": {
            "tags": []
          },
          "execution_count": 3
        }
      ]
    },
    {
      "cell_type": "code",
      "metadata": {
        "colab": {
          "base_uri": "https://localhost:8080/"
        },
        "id": "6zOcK-137A4C",
        "outputId": "c1f4d18d-2993-4f63-983e-49234aa2c8a4"
      },
      "source": [
        "id(alpha)"
      ],
      "execution_count": 4,
      "outputs": [
        {
          "output_type": "execute_result",
          "data": {
            "text/plain": [
              "94125542132352"
            ]
          },
          "metadata": {
            "tags": []
          },
          "execution_count": 4
        }
      ]
    },
    {
      "cell_type": "code",
      "metadata": {
        "colab": {
          "base_uri": "https://localhost:8080/"
        },
        "id": "BOdo-O3_7BwT",
        "outputId": "6a177f2f-86b3-474b-a25b-0f3a03689a18"
      },
      "source": [
        "id(bravo)"
      ],
      "execution_count": 5,
      "outputs": [
        {
          "output_type": "execute_result",
          "data": {
            "text/plain": [
              "94125542132352"
            ]
          },
          "metadata": {
            "tags": []
          },
          "execution_count": 5
        }
      ]
    },
    {
      "cell_type": "code",
      "metadata": {
        "colab": {
          "base_uri": "https://localhost:8080/"
        },
        "id": "I3egp3nx7DWu",
        "outputId": "653997aa-3bc0-4a5f-97b2-23aeccc91b52"
      },
      "source": [
        "charlie = 729\n",
        "delta = 729\n",
        "id(charlie)"
      ],
      "execution_count": 6,
      "outputs": [
        {
          "output_type": "execute_result",
          "data": {
            "text/plain": [
              "140200127943376"
            ]
          },
          "metadata": {
            "tags": []
          },
          "execution_count": 6
        }
      ]
    },
    {
      "cell_type": "code",
      "metadata": {
        "colab": {
          "base_uri": "https://localhost:8080/"
        },
        "id": "ARkmeRoi7FhV",
        "outputId": "878ebb9c-ea2b-4f39-8049-e11554221889"
      },
      "source": [
        "charlie == delta"
      ],
      "execution_count": 7,
      "outputs": [
        {
          "output_type": "execute_result",
          "data": {
            "text/plain": [
              "True"
            ]
          },
          "metadata": {
            "tags": []
          },
          "execution_count": 7
        }
      ]
    },
    {
      "cell_type": "code",
      "metadata": {
        "colab": {
          "base_uri": "https://localhost:8080/"
        },
        "id": "DaRw_Gvu7xIM",
        "outputId": "b2947f3b-b7e4-49c6-98f4-dc71b2fcc521"
      },
      "source": [
        "charlie is delta"
      ],
      "execution_count": 8,
      "outputs": [
        {
          "output_type": "execute_result",
          "data": {
            "text/plain": [
              "False"
            ]
          },
          "metadata": {
            "tags": []
          },
          "execution_count": 8
        }
      ]
    },
    {
      "cell_type": "code",
      "metadata": {
        "colab": {
          "base_uri": "https://localhost:8080/"
        },
        "id": "uENj8ipN7xm0",
        "outputId": "49e393d1-86f2-4f94-bc88-dab2fa7b2629"
      },
      "source": [
        "echo = [1, 2]\n",
        "foxtrot = [1, 2]\n",
        "id(echo)"
      ],
      "execution_count": 9,
      "outputs": [
        {
          "output_type": "execute_result",
          "data": {
            "text/plain": [
              "140200128121824"
            ]
          },
          "metadata": {
            "tags": []
          },
          "execution_count": 9
        }
      ]
    },
    {
      "cell_type": "code",
      "metadata": {
        "colab": {
          "base_uri": "https://localhost:8080/"
        },
        "id": "uX92lrpf70yF",
        "outputId": "dee500e9-f3d3-4abe-a849-aac75287013a"
      },
      "source": [
        "id(foxtrot)"
      ],
      "execution_count": 10,
      "outputs": [
        {
          "output_type": "execute_result",
          "data": {
            "text/plain": [
              "140200128040384"
            ]
          },
          "metadata": {
            "tags": []
          },
          "execution_count": 10
        }
      ]
    },
    {
      "cell_type": "code",
      "metadata": {
        "colab": {
          "base_uri": "https://localhost:8080/"
        },
        "id": "aqk5uE9Q707y",
        "outputId": "244c0440-10f7-40f8-ac79-02e13c45998f"
      },
      "source": [
        "echo == foxtrot"
      ],
      "execution_count": 11,
      "outputs": [
        {
          "output_type": "execute_result",
          "data": {
            "text/plain": [
              "True"
            ]
          },
          "metadata": {
            "tags": []
          },
          "execution_count": 11
        }
      ]
    },
    {
      "cell_type": "code",
      "metadata": {
        "colab": {
          "base_uri": "https://localhost:8080/"
        },
        "id": "Avm_dLw77167",
        "outputId": "9f4fbfe0-f5a6-4b54-e627-e119487d65a4"
      },
      "source": [
        "echo is foxtrot"
      ],
      "execution_count": 12,
      "outputs": [
        {
          "output_type": "execute_result",
          "data": {
            "text/plain": [
              "False"
            ]
          },
          "metadata": {
            "tags": []
          },
          "execution_count": 12
        }
      ]
    },
    {
      "cell_type": "code",
      "metadata": {
        "colab": {
          "base_uri": "https://localhost:8080/"
        },
        "id": "gjXhXXt772zN",
        "outputId": "d73a855a-ee48-4c2d-f0c8-374bb1f33867"
      },
      "source": [
        "golf = echo\n",
        "id(echo)"
      ],
      "execution_count": 13,
      "outputs": [
        {
          "output_type": "execute_result",
          "data": {
            "text/plain": [
              "140200128121824"
            ]
          },
          "metadata": {
            "tags": []
          },
          "execution_count": 13
        }
      ]
    },
    {
      "cell_type": "code",
      "metadata": {
        "colab": {
          "base_uri": "https://localhost:8080/"
        },
        "id": "S4kBjnpy-sny",
        "outputId": "fb005abe-3b87-49d5-b252-c99cf373b6d0"
      },
      "source": [
        "id(golf)"
      ],
      "execution_count": 14,
      "outputs": [
        {
          "output_type": "execute_result",
          "data": {
            "text/plain": [
              "140200128121824"
            ]
          },
          "metadata": {
            "tags": []
          },
          "execution_count": 14
        }
      ]
    },
    {
      "cell_type": "code",
      "metadata": {
        "colab": {
          "base_uri": "https://localhost:8080/"
        },
        "id": "y2rEdhCA-tiw",
        "outputId": "71f5d4fd-45e5-4638-8347-e2ea53814a6e"
      },
      "source": [
        "golf == echo"
      ],
      "execution_count": 15,
      "outputs": [
        {
          "output_type": "execute_result",
          "data": {
            "text/plain": [
              "True"
            ]
          },
          "metadata": {
            "tags": []
          },
          "execution_count": 15
        }
      ]
    },
    {
      "cell_type": "code",
      "metadata": {
        "colab": {
          "base_uri": "https://localhost:8080/"
        },
        "id": "mTiXkbRa-ud2",
        "outputId": "f8b72f0a-184f-4baf-bc82-26121be78f0c"
      },
      "source": [
        "golf is echo"
      ],
      "execution_count": 16,
      "outputs": [
        {
          "output_type": "execute_result",
          "data": {
            "text/plain": [
              "True"
            ]
          },
          "metadata": {
            "tags": []
          },
          "execution_count": 16
        }
      ]
    },
    {
      "cell_type": "code",
      "metadata": {
        "colab": {
          "base_uri": "https://localhost:8080/"
        },
        "id": "jY8wB5a5-vcZ",
        "outputId": "5a50a307-5066-4635-fe6e-323890013282"
      },
      "source": [
        "hotel = 'aa' * 2000\n",
        "india = 'a' * 4000\n",
        "juliet = 'aa' * 2000\n",
        "id(hotel)\n",
        "\n",
        "id(india)\n",
        "\n",
        "id(juliet)\n",
        "\n",
        "hotel == india\n",
        "\n",
        "hotel == juliet\n",
        "\n",
        "india == juliet\n",
        "\n",
        "hotel is india\n",
        "\n",
        "hotel is juliet\n",
        "\n",
        "india is juliet"
      ],
      "execution_count": 17,
      "outputs": [
        {
          "output_type": "execute_result",
          "data": {
            "text/plain": [
              "True"
            ]
          },
          "metadata": {
            "tags": []
          },
          "execution_count": 17
        }
      ]
    }
  ]
}