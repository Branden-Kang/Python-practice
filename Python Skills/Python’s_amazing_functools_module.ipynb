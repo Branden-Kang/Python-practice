{
  "nbformat": 4,
  "nbformat_minor": 0,
  "metadata": {
    "colab": {
      "name": "Python’s amazing functools module.ipynb",
      "provenance": [],
      "authorship_tag": "ABX9TyMKw1zXLMpJ6bcpDf7U2U4Y"
    },
    "kernelspec": {
      "name": "python3",
      "display_name": "Python 3"
    }
  },
  "cells": [
    {
      "cell_type": "markdown",
      "metadata": {
        "id": "gn_YsJrk1Ly5"
      },
      "source": [
        "[Reference](https://medium.com/python-in-plain-english/pythons-amazing-functools-module-3c4602f09b15)"
      ]
    },
    {
      "cell_type": "markdown",
      "metadata": {
        "id": "b6Ob1HvR15BG"
      },
      "source": [
        "# functools.partial"
      ]
    },
    {
      "cell_type": "code",
      "metadata": {
        "id": "utxixfL9Mb5G"
      },
      "source": [
        "from functools import partial"
      ],
      "execution_count": 1,
      "outputs": []
    },
    {
      "cell_type": "code",
      "metadata": {
        "id": "aBV5xFn81PWx"
      },
      "source": [
        "def logger(log_level,message):\n",
        "    print(f'[{log_level}]: {message}')"
      ],
      "execution_count": 2,
      "outputs": []
    },
    {
      "cell_type": "code",
      "metadata": {
        "colab": {
          "base_uri": "https://localhost:8080/"
        },
        "id": "oMvkTLxm1QGq",
        "outputId": "f990dc41-2f13-4f66-b8ab-8821ce88e0db"
      },
      "source": [
        "logger('DEBUG','message_one')\n",
        "logger('DEBUG','message_two')\n",
        "logger('DEBUG','message_three')"
      ],
      "execution_count": 3,
      "outputs": [
        {
          "output_type": "stream",
          "text": [
            "[DEBUG]: message_one\n",
            "[DEBUG]: message_two\n",
            "[DEBUG]: message_three\n"
          ],
          "name": "stdout"
        }
      ]
    },
    {
      "cell_type": "code",
      "metadata": {
        "id": "obe84Alk1RbI"
      },
      "source": [
        "debug_logger = partial(logger,'DEBUG')"
      ],
      "execution_count": 4,
      "outputs": []
    },
    {
      "cell_type": "code",
      "metadata": {
        "colab": {
          "base_uri": "https://localhost:8080/"
        },
        "id": "j83lxAeL1SUb",
        "outputId": "b2c42c6f-6a5e-4779-f932-bb6bb2ec342b"
      },
      "source": [
        "debug_logger('message_one')\n",
        "debug_logger('message_two')\n",
        "debug_logger('message_three')"
      ],
      "execution_count": 5,
      "outputs": [
        {
          "output_type": "stream",
          "text": [
            "[DEBUG]: message_one\n",
            "[DEBUG]: message_two\n",
            "[DEBUG]: message_three\n"
          ],
          "name": "stdout"
        }
      ]
    },
    {
      "cell_type": "markdown",
      "metadata": {
        "id": "03o0T3CJ16dF"
      },
      "source": [
        "# functools.lru_cache"
      ]
    },
    {
      "cell_type": "code",
      "metadata": {
        "id": "qnxI8s6z1TgT"
      },
      "source": [
        "from functools import lru_cache,singledispatch\n",
        "from time import time"
      ],
      "execution_count": 6,
      "outputs": []
    },
    {
      "cell_type": "code",
      "metadata": {
        "id": "Zb8UPppB2b5g"
      },
      "source": [
        "@lru_cache(maxsize=128)\n",
        "def fibo_lru(n):\n",
        "   if n <= 1:\n",
        "       return n\n",
        "   else:\n",
        "       return(fibo_lru(n-1) + fibo_lru(n-2))"
      ],
      "execution_count": 7,
      "outputs": []
    },
    {
      "cell_type": "code",
      "metadata": {
        "id": "m2dAQqFo2d0z"
      },
      "source": [
        "def fibo(n):\n",
        "   if n <= 1:\n",
        "       return n\n",
        "   else:\n",
        "       return(fibo(n-1) + fibo(n-2))"
      ],
      "execution_count": 8,
      "outputs": []
    },
    {
      "cell_type": "code",
      "metadata": {
        "id": "vweFGgnF2g84"
      },
      "source": [
        "def sum_of_fibo(nterms,fun):\n",
        "    start = time()\n",
        "    result = 0\n",
        "    for i in range(nterms):\n",
        "        result += fun(i)\n",
        "    print(f'Total Sum {result} , Total time taken {time() - start} sec')"
      ],
      "execution_count": 9,
      "outputs": []
    },
    {
      "cell_type": "code",
      "metadata": {
        "colab": {
          "base_uri": "https://localhost:8080/"
        },
        "id": "6VpX1xjC2ima",
        "outputId": "8389b575-50ca-4432-bf1d-28b3a1aee27e"
      },
      "source": [
        "sum_of_fibo(30,fibo_lru)"
      ],
      "execution_count": 10,
      "outputs": [
        {
          "output_type": "stream",
          "text": [
            "Total Sum 1346268 , Total time taken 2.384185791015625e-05 sec\n"
          ],
          "name": "stdout"
        }
      ]
    },
    {
      "cell_type": "code",
      "metadata": {
        "colab": {
          "base_uri": "https://localhost:8080/"
        },
        "id": "H7PIEKm84EQj",
        "outputId": "9e5a2cc7-1d67-45bf-ae0c-89dbee01f6b5"
      },
      "source": [
        "sum_of_fibo(30,fibo)"
      ],
      "execution_count": 11,
      "outputs": [
        {
          "output_type": "stream",
          "text": [
            "Total Sum 1346268 , Total time taken 0.470961332321167 sec\n"
          ],
          "name": "stdout"
        }
      ]
    },
    {
      "cell_type": "markdown",
      "metadata": {
        "id": "b1zi4Ede4Pxn"
      },
      "source": [
        "# functools.singledispatch"
      ]
    },
    {
      "cell_type": "code",
      "metadata": {
        "id": "wWSR3e0S4FQN"
      },
      "source": [
        "from functools import singledispatch"
      ],
      "execution_count": 12,
      "outputs": []
    },
    {
      "cell_type": "code",
      "metadata": {
        "id": "D3iYAabY4S2J"
      },
      "source": [
        "# Default Implementation -- This will be called if there is no registered method for type of value passed\n",
        "@singledispatch\n",
        "def doubleTheValue(value):\n",
        "    raise Exception(f'Type {type(value)} not supported')"
      ],
      "execution_count": 14,
      "outputs": []
    },
    {
      "cell_type": "code",
      "metadata": {
        "id": "KrDob60v4yxr"
      },
      "source": [
        "#Overlaoded method -- This will be called when argument type is int\n",
        "@doubleTheValue.register(int)\n",
        "def _(value):\n",
        "    return value*2\n",
        "\n",
        "#Overlaoded methods -- This will be called when argument type is either list or tuple\n",
        "@doubleTheValue.register(list)\n",
        "@doubleTheValue.register(tuple)\n",
        "def _(value):\n",
        "    return list(map(lambda x: x*2,value))\n",
        "\n",
        "#Overlaoded method -- This will be called when argument type is dict\n",
        "@doubleTheValue.register(dict)\n",
        "def _(value):\n",
        "    return dict(map(lambda x: (x[0],x[1]*2),value.items()))"
      ],
      "execution_count": 15,
      "outputs": []
    },
    {
      "cell_type": "code",
      "metadata": {
        "colab": {
          "base_uri": "https://localhost:8080/"
        },
        "id": "RpHUITAW43wK",
        "outputId": "eeed049a-185d-420a-98f2-3bf6f1a6d492"
      },
      "source": [
        "doubleTheValue(5)"
      ],
      "execution_count": 16,
      "outputs": [
        {
          "output_type": "execute_result",
          "data": {
            "text/plain": [
              "10"
            ]
          },
          "metadata": {
            "tags": []
          },
          "execution_count": 16
        }
      ]
    },
    {
      "cell_type": "code",
      "metadata": {
        "colab": {
          "base_uri": "https://localhost:8080/"
        },
        "id": "ZMLwKoeR45Du",
        "outputId": "1794a8bd-85bb-4004-e4a9-0289feaaca9a"
      },
      "source": [
        "doubleTheValue([2,5,10])"
      ],
      "execution_count": 17,
      "outputs": [
        {
          "output_type": "execute_result",
          "data": {
            "text/plain": [
              "[4, 10, 20]"
            ]
          },
          "metadata": {
            "tags": []
          },
          "execution_count": 17
        }
      ]
    },
    {
      "cell_type": "code",
      "metadata": {
        "colab": {
          "base_uri": "https://localhost:8080/"
        },
        "id": "8I4NLpjN451U",
        "outputId": "8876c715-ed9d-484a-cb0a-edaecf7deb74"
      },
      "source": [
        "doubleTheValue((10,20,30))"
      ],
      "execution_count": 18,
      "outputs": [
        {
          "output_type": "execute_result",
          "data": {
            "text/plain": [
              "[20, 40, 60]"
            ]
          },
          "metadata": {
            "tags": []
          },
          "execution_count": 18
        }
      ]
    },
    {
      "cell_type": "code",
      "metadata": {
        "colab": {
          "base_uri": "https://localhost:8080/"
        },
        "id": "4JT1PaTb476C",
        "outputId": "1d376269-4171-478d-da70-e97de086f3c7"
      },
      "source": [
        "doubleTheValue({'a':10,'b':20,'c':30})"
      ],
      "execution_count": 19,
      "outputs": [
        {
          "output_type": "execute_result",
          "data": {
            "text/plain": [
              "{'a': 20, 'b': 40, 'c': 60}"
            ]
          },
          "metadata": {
            "tags": []
          },
          "execution_count": 19
        }
      ]
    },
    {
      "cell_type": "code",
      "metadata": {
        "colab": {
          "base_uri": "https://localhost:8080/",
          "height": 307
        },
        "id": "OpH1LZwB49Vg",
        "outputId": "b46ed77a-4cc9-47a0-b44c-051b1309d177"
      },
      "source": [
        "doubleTheValue('JohnWich')"
      ],
      "execution_count": 20,
      "outputs": [
        {
          "output_type": "error",
          "ename": "Exception",
          "evalue": "ignored",
          "traceback": [
            "\u001b[0;31m---------------------------------------------------------------------------\u001b[0m",
            "\u001b[0;31mException\u001b[0m                                 Traceback (most recent call last)",
            "\u001b[0;32m<ipython-input-20-f2b8d0d14129>\u001b[0m in \u001b[0;36m<module>\u001b[0;34m()\u001b[0m\n\u001b[0;32m----> 1\u001b[0;31m \u001b[0mdoubleTheValue\u001b[0m\u001b[0;34m(\u001b[0m\u001b[0;34m'JohnWich'\u001b[0m\u001b[0;34m)\u001b[0m\u001b[0;34m\u001b[0m\u001b[0;34m\u001b[0m\u001b[0m\n\u001b[0m",
            "\u001b[0;32m/usr/lib/python3.6/functools.py\u001b[0m in \u001b[0;36mwrapper\u001b[0;34m(*args, **kw)\u001b[0m\n\u001b[1;32m    805\u001b[0m                             '1 positional argument')\n\u001b[1;32m    806\u001b[0m \u001b[0;34m\u001b[0m\u001b[0m\n\u001b[0;32m--> 807\u001b[0;31m         \u001b[0;32mreturn\u001b[0m \u001b[0mdispatch\u001b[0m\u001b[0;34m(\u001b[0m\u001b[0margs\u001b[0m\u001b[0;34m[\u001b[0m\u001b[0;36m0\u001b[0m\u001b[0;34m]\u001b[0m\u001b[0;34m.\u001b[0m\u001b[0m__class__\u001b[0m\u001b[0;34m)\u001b[0m\u001b[0;34m(\u001b[0m\u001b[0;34m*\u001b[0m\u001b[0margs\u001b[0m\u001b[0;34m,\u001b[0m \u001b[0;34m**\u001b[0m\u001b[0mkw\u001b[0m\u001b[0;34m)\u001b[0m\u001b[0;34m\u001b[0m\u001b[0;34m\u001b[0m\u001b[0m\n\u001b[0m\u001b[1;32m    808\u001b[0m \u001b[0;34m\u001b[0m\u001b[0m\n\u001b[1;32m    809\u001b[0m     \u001b[0mfuncname\u001b[0m \u001b[0;34m=\u001b[0m \u001b[0mgetattr\u001b[0m\u001b[0;34m(\u001b[0m\u001b[0mfunc\u001b[0m\u001b[0;34m,\u001b[0m \u001b[0;34m'__name__'\u001b[0m\u001b[0;34m,\u001b[0m \u001b[0;34m'singledispatch function'\u001b[0m\u001b[0;34m)\u001b[0m\u001b[0;34m\u001b[0m\u001b[0;34m\u001b[0m\u001b[0m\n",
            "\u001b[0;32m<ipython-input-14-68a90fbad460>\u001b[0m in \u001b[0;36mdoubleTheValue\u001b[0;34m(value)\u001b[0m\n\u001b[1;32m      2\u001b[0m \u001b[0;34m@\u001b[0m\u001b[0msingledispatch\u001b[0m\u001b[0;34m\u001b[0m\u001b[0;34m\u001b[0m\u001b[0m\n\u001b[1;32m      3\u001b[0m \u001b[0;32mdef\u001b[0m \u001b[0mdoubleTheValue\u001b[0m\u001b[0;34m(\u001b[0m\u001b[0mvalue\u001b[0m\u001b[0;34m)\u001b[0m\u001b[0;34m:\u001b[0m\u001b[0;34m\u001b[0m\u001b[0;34m\u001b[0m\u001b[0m\n\u001b[0;32m----> 4\u001b[0;31m     \u001b[0;32mraise\u001b[0m \u001b[0mException\u001b[0m\u001b[0;34m(\u001b[0m\u001b[0;34mf'Type {type(value)} not supported'\u001b[0m\u001b[0;34m)\u001b[0m\u001b[0;34m\u001b[0m\u001b[0;34m\u001b[0m\u001b[0m\n\u001b[0m",
            "\u001b[0;31mException\u001b[0m: Type <class 'str'> not supported"
          ]
        }
      ]
    },
    {
      "cell_type": "markdown",
      "metadata": {
        "id": "cOAh8h0u5Bs4"
      },
      "source": [
        "# functools.reduce"
      ]
    },
    {
      "cell_type": "code",
      "metadata": {
        "id": "MK9m47714_M7"
      },
      "source": [
        "from functools import reduce\n",
        "import sys"
      ],
      "execution_count": 21,
      "outputs": []
    },
    {
      "cell_type": "code",
      "metadata": {
        "id": "3lExwXn15I3-"
      },
      "source": [
        "l = [10, 20, 5, 100, 30]"
      ],
      "execution_count": 22,
      "outputs": []
    },
    {
      "cell_type": "code",
      "metadata": {
        "colab": {
          "base_uri": "https://localhost:8080/"
        },
        "id": "Dcpgmdb45J6v",
        "outputId": "5c52227b-401a-4942-b3ab-37a30ecc872e"
      },
      "source": [
        "reduce(lambda x,y: x+y, l)"
      ],
      "execution_count": 23,
      "outputs": [
        {
          "output_type": "execute_result",
          "data": {
            "text/plain": [
              "165"
            ]
          },
          "metadata": {
            "tags": []
          },
          "execution_count": 23
        }
      ]
    },
    {
      "cell_type": "code",
      "metadata": {
        "colab": {
          "base_uri": "https://localhost:8080/"
        },
        "id": "tN8IDITk5Kud",
        "outputId": "7e9f2a70-f428-46ee-d0e4-dd45fbe36495"
      },
      "source": [
        "reduce(lambda x,y: x+y, l, 100)"
      ],
      "execution_count": 24,
      "outputs": [
        {
          "output_type": "execute_result",
          "data": {
            "text/plain": [
              "265"
            ]
          },
          "metadata": {
            "tags": []
          },
          "execution_count": 24
        }
      ]
    },
    {
      "cell_type": "code",
      "metadata": {
        "colab": {
          "base_uri": "https://localhost:8080/"
        },
        "id": "rZAU5NZg5Lyh",
        "outputId": "a27f20ef-0c08-4020-ab0c-3967a1a3148f"
      },
      "source": [
        "reduce(max, l)"
      ],
      "execution_count": 25,
      "outputs": [
        {
          "output_type": "execute_result",
          "data": {
            "text/plain": [
              "100"
            ]
          },
          "metadata": {
            "tags": []
          },
          "execution_count": 25
        }
      ]
    },
    {
      "cell_type": "code",
      "metadata": {
        "colab": {
          "base_uri": "https://localhost:8080/"
        },
        "id": "KstvA82q5PA_",
        "outputId": "dd762530-61c4-45d6-e9c5-6329da839ec2"
      },
      "source": [
        "reduce(min, l, sys.maxsize )"
      ],
      "execution_count": 26,
      "outputs": [
        {
          "output_type": "execute_result",
          "data": {
            "text/plain": [
              "5"
            ]
          },
          "metadata": {
            "tags": []
          },
          "execution_count": 26
        }
      ]
    }
  ]
}