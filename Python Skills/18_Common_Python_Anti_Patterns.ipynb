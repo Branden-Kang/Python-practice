{
  "nbformat": 4,
  "nbformat_minor": 0,
  "metadata": {
    "colab": {
      "name": "18 Common Python Anti-Patterns.ipynb",
      "provenance": [],
      "authorship_tag": "ABX9TyOtuDNJYubxVIal0hq7hlmT"
    },
    "kernelspec": {
      "name": "python3",
      "display_name": "Python 3"
    },
    "language_info": {
      "name": "python"
    }
  },
  "cells": [
    {
      "cell_type": "markdown",
      "metadata": {
        "id": "-QCZDBZi4pbW"
      },
      "source": [
        "[Reference](https://towardsdatascience.com/18-common-python-anti-patterns-i-wish-i-had-known-before-44d983805f0f)"
      ]
    },
    {
      "cell_type": "code",
      "metadata": {
        "id": "nreQxMeC4nIw"
      },
      "source": [
        "list_of_fruits = [\"apple\", \"pear\", \"orange\"]\n",
        "\n",
        "# bad practice\n",
        "\n",
        "for i in range(len(list_of_fruits)):\n",
        "    fruit = list_of_fruits[i]\n",
        "    process_fruit(fruit)\n",
        "\t\t\n",
        "# good practice\n",
        "\n",
        "for fruit in list_of_fruits:\n",
        "    process_fruit(fruit)"
      ],
      "execution_count": 2,
      "outputs": []
    },
    {
      "cell_type": "code",
      "metadata": {
        "colab": {
          "base_uri": "https://localhost:8080/"
        },
        "id": "SiIpVVoK40Nt",
        "outputId": "e6eb67db-cf1c-4caa-9e3f-b0b8cd978ed2"
      },
      "source": [
        "list_of_fruits = [\"apple\", \"pear\", \"orange\"]\n",
        "\n",
        "# bad practice \n",
        "\n",
        "for i in range(len(list_of_fruits)):\n",
        "    fruit = list_of_fruits[i]\n",
        "    print(f\"fruit number {i+1}: {fruit}\")\n",
        "\n",
        "# good practice\n",
        "\n",
        "for i, fruit in enumerate(list_of_fruits):\n",
        "    print(f\"fruit number {i+1}: {fruit}\")"
      ],
      "execution_count": 3,
      "outputs": [
        {
          "output_type": "stream",
          "text": [
            "fruit number 1: apple\n",
            "fruit number 2: pear\n",
            "fruit number 3: orange\n",
            "fruit number 1: apple\n",
            "fruit number 2: pear\n",
            "fruit number 3: orange\n"
          ],
          "name": "stdout"
        }
      ]
    },
    {
      "cell_type": "code",
      "metadata": {
        "id": "KHTBAHxf47gr"
      },
      "source": [
        "list_of_letters = [\"A\", \"B\", \"C\"]\n",
        "list_of_ids = [1, 2, 3]\n",
        "\n",
        "# bad practice \n",
        "\n",
        "for i in range(len(list_of_letters)):\n",
        "    letter = list_of_letters[i]\n",
        "    id_ = list_of_ids[i]\n",
        "    process_letters(letter, id_)\n",
        "\t\t\n",
        "# good practice\n",
        "\n",
        "# list(zip(list_of_letters, list_of_ids)) = [(\"A\", 1), (\"B\", 2), (\"C\", 3)]\n",
        "\n",
        "for letter, id_ in zip(list_of_letters, list_of_ids):\n",
        "    process_letters(letter, id_)"
      ],
      "execution_count": 5,
      "outputs": []
    },
    {
      "cell_type": "code",
      "metadata": {
        "id": "mQ4ltBHJ485G"
      },
      "source": [
        "# bad practice\n",
        "list_of_letters = [\"A\", \"B\", \"C\", \"A\", \"D\", \"B\"]\n",
        "check = \"A\" in list_of_letters\n",
        "\n",
        "# good practice\n",
        "set_of_letters = {\"A\", \"B\", \"C\", \"D\"}\n",
        "check = \"A\" in set_of_letters"
      ],
      "execution_count": 6,
      "outputs": []
    },
    {
      "cell_type": "code",
      "metadata": {
        "colab": {
          "base_uri": "https://localhost:8080/"
        },
        "id": "ScUsDhd04_XC",
        "outputId": "9210a27d-d784-4bf9-e510-91c33bea8228"
      },
      "source": [
        "# bad practice\n",
        "\n",
        "def append_to(element, to=[]):\n",
        "    to.append(element)\n",
        "    return to\n",
        "\n",
        "my_list = append_to(\"a\") \n",
        "print(my_list)\n",
        "\n",
        "my_second_list = append_to(\"b\") \n",
        "print(my_second_list)\n",
        "\n",
        "# good practice \n",
        "\n",
        "def append_to(element, to=None):\n",
        "    if to is None:\n",
        "        to = []\n",
        "    to.append(element)\n",
        "    return to"
      ],
      "execution_count": 8,
      "outputs": [
        {
          "output_type": "stream",
          "text": [
            "['a']\n",
            "['a', 'b']\n"
          ],
          "name": "stdout"
        }
      ]
    },
    {
      "cell_type": "code",
      "metadata": {
        "colab": {
          "base_uri": "https://localhost:8080/"
        },
        "id": "ZO5jMFgI5CW4",
        "outputId": "b7b34f39-cdd3-4761-ac28-50fe92f11121"
      },
      "source": [
        "# bad practice\n",
        "\n",
        "def get_code(username):\n",
        "    if username != \"ahmed\":\n",
        "        return \"Medium2021\"\n",
        "    else:\n",
        "        return None\n",
        "\n",
        "code = get_code(\"besbes\")\n",
        "\n",
        "# good practice: raise an exception and catch it\n",
        "\n",
        "def get_code(username):\n",
        "    if username != \"ahmed\":\n",
        "        return \"Medium2021\"\n",
        "    else:\n",
        "        raise ValueError\n",
        "\n",
        "try:\n",
        "    secret_code = get_code(\"besbes\")\n",
        "    print(\"The secret code is {}\".format(secret_code))\n",
        "except ValueError:\n",
        "    print(\"Wrong username.\")"
      ],
      "execution_count": 9,
      "outputs": [
        {
          "output_type": "stream",
          "text": [
            "The secret code is Medium2021\n"
          ],
          "name": "stdout"
        }
      ]
    },
    {
      "cell_type": "code",
      "metadata": {
        "id": "TkGIZb0U5GYJ"
      },
      "source": [
        "user = \"Ahmed\"\n",
        "age = 30\n",
        "job = \"data scientist\"\n",
        "\n",
        "# bad practice\n",
        "\n",
        "if age > 30:\n",
        "    if user == \"Ahmed\":\n",
        "        if job == \"data scientist\":\n",
        "            access = True\n",
        "        else:\n",
        "            access = False\n",
        "\n",
        "# good practice\n",
        "\n",
        "access = age > 30 and user == \"ahmed\" and job == \"data scientist\""
      ],
      "execution_count": 10,
      "outputs": []
    },
    {
      "cell_type": "code",
      "metadata": {
        "colab": {
          "base_uri": "https://localhost:8080/"
        },
        "id": "cujEfc5a5IQe",
        "outputId": "0a1f7f15-7281-4b16-be0b-1c7315fdf0a9"
      },
      "source": [
        "x = 0\n",
        "\n",
        "def complex_processing(i):\n",
        "    global x\n",
        "    x += 1\n",
        "    return x\n",
        "\n",
        "complex_processing(1)\n",
        "x "
      ],
      "execution_count": 11,
      "outputs": [
        {
          "output_type": "execute_result",
          "data": {
            "text/plain": [
              "1"
            ]
          },
          "metadata": {},
          "execution_count": 11
        }
      ]
    },
    {
      "cell_type": "code",
      "metadata": {
        "colab": {
          "base_uri": "https://localhost:8080/"
        },
        "id": "8ZEB8uia5LEw",
        "outputId": "d006c623-ec4a-4eac-a1f0-f25cf0fc57a8"
      },
      "source": [
        "complex_processing(1)\n",
        "x"
      ],
      "execution_count": 12,
      "outputs": [
        {
          "output_type": "execute_result",
          "data": {
            "text/plain": [
              "2"
            ]
          },
          "metadata": {},
          "execution_count": 12
        }
      ]
    },
    {
      "cell_type": "code",
      "metadata": {
        "id": "v0niI8mq5LUP"
      },
      "source": [
        "user_ids = {\n",
        "    \"John\": 12,\n",
        "    \"Anna\": 2,\n",
        "    \"Jack\": 10\n",
        "}\n",
        "\n",
        "# bad practice\n",
        "\n",
        "name = \"Paul\"\n",
        "\n",
        "if name in user_ids:\n",
        "    user_id = user_ids[name]\n",
        "else:\n",
        "    user_id = None\n",
        "\n",
        "# good practice\n",
        "\n",
        "user_id = user_ids.get(name, None)"
      ],
      "execution_count": 13,
      "outputs": []
    },
    {
      "cell_type": "code",
      "metadata": {
        "colab": {
          "base_uri": "https://localhost:8080/"
        },
        "id": "5hz2T-AL5Mtk",
        "outputId": "95cfeb87-f72f-4309-bdbe-52eec394aa27"
      },
      "source": [
        "user_ids = {\"John\": 12, \"Anna\": 2, \"Jack\": 10}\n",
        "\n",
        "user = \"Paul\"\n",
        "# bad practice\n",
        "\n",
        "try:\n",
        "    user_id = user_ids[user]\n",
        "except:\n",
        "    pass\n",
        "\n",
        "# good practice\n",
        "\n",
        "try:\n",
        "    user_id = user_ids[user]\n",
        "except KeyError:\n",
        "    print(\"user id not found\")"
      ],
      "execution_count": 14,
      "outputs": [
        {
          "output_type": "stream",
          "text": [
            "user id not found\n"
          ],
          "name": "stdout"
        }
      ]
    },
    {
      "cell_type": "code",
      "metadata": {
        "id": "WJ6nnT4u5QD7"
      },
      "source": [
        "# bad practice \n",
        "\n",
        "from math import *\n",
        "x = ceil(x)\n",
        "\n",
        "# good practice \n",
        "\n",
        "from math import ceil   \n",
        "x = ceil(x) # we know where ceil comes from"
      ],
      "execution_count": 15,
      "outputs": []
    },
    {
      "cell_type": "code",
      "metadata": {
        "id": "W20GHkB15RW0"
      },
      "source": [
        "# bad practice\n",
        "\n",
        "class Rectangle:\n",
        "    def __init__(self, height, width):\n",
        "        self.height = height\n",
        "        self.width = width\n",
        "    \n",
        "    def area(self):\n",
        "        return self.height * self.width\n",
        "\n",
        "# good practice: a simple function is enough\n",
        "\n",
        "def area(height, width):\n",
        "    return height * width"
      ],
      "execution_count": 16,
      "outputs": []
    }
  ]
}