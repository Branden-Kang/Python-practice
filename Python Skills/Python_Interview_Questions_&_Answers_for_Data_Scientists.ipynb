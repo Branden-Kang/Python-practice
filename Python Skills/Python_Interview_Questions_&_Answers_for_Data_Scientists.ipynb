{
  "nbformat": 4,
  "nbformat_minor": 0,
  "metadata": {
    "colab": {
      "provenance": [],
      "authorship_tag": "ABX9TyNw5zG1uNGf6p+BSaOWx9fL"
    },
    "kernelspec": {
      "name": "python3",
      "display_name": "Python 3"
    },
    "language_info": {
      "name": "python"
    }
  },
  "cells": [
    {
      "cell_type": "markdown",
      "source": [
        "[Reference](https://youssefraafat57.medium.com/python-interview-questions-answers-740444cd8897)"
      ],
      "metadata": {
        "id": "gSfbKStR9oqL"
      }
    },
    {
      "cell_type": "code",
      "execution_count": 14,
      "metadata": {
        "colab": {
          "base_uri": "https://localhost:8080/",
          "height": 249
        },
        "id": "DsFyr2pM8ttV"
      }
    },
    {
      "cell_type": "code",
      "source": [
        "list = [1,2,3,1,3,6,5]\n",
        "set1=set()\n",
        "res=[]\n",
        "for i in list:\n",
        "  if i in set1:\n",
        "    res.append(i)\n",
        "  else:\n",
        "    set1.add(i)\n",
        "print(res)"
      ],
      "metadata": {
        "colab": {
          "base_uri": "https://localhost:8080/"
        },
        "id": "_amGj-5j9hiK",
        "outputId": "c1cf5722-daa9-42be-b19b-8fe6cac80e84"
      },
      "execution_count": 5,
      "outputs": [
        {
          "output_type": "stream",
          "name": "stdout",
          "text": [
            "[1, 3]\n"
          ]
        }
      ]
    },
    {
      "cell_type": "code",
      "source": [
        "import heapq\n",
        "def max_three(arr):\n",
        "    a = heapq.nlargest(3, arr) # largerst 3 numbers for postive case\n",
        "    b = heapq.nsmallest(2, arr) # for negative case\n",
        "    return max(a[2]*a[1]*a[0], b[1]*b[0]*a[0])"
      ],
      "metadata": {
        "id": "kfUqWji59z7n"
      },
      "execution_count": 6,
      "outputs": []
    },
    {
      "cell_type": "code",
      "source": [
        "def max_subarray(arr):\n",
        "  n = len(arr)\n",
        "  max_sum = arr[0] #max\n",
        "  curr_sum = 0 \n",
        "  for i in range(n):\n",
        "    curr_sum += arr[i]\n",
        "    max_sum = max(max_sum, curr_sum)\n",
        "    if curr_sum <0:\n",
        "      curr_sum  = 0\n",
        "  return max_sum   "
      ],
      "metadata": {
        "id": "PQnYiOK391cQ"
      },
      "execution_count": 7,
      "outputs": []
    },
    {
      "cell_type": "code",
      "source": [
        "from itertools import combinations\n",
        "def find_combintaion(k,n):\n",
        "    list_num = []\n",
        "    comb = combinations([x for x in range(1, n+1)],k)\n",
        "    for i in comb:\n",
        "        list_num.append(i)\n",
        "    print(\"(K:{},n:{}):\".format(k,n))\n",
        "    print(list_num,\"\\n\")"
      ],
      "metadata": {
        "id": "fQeVwgSS92sw"
      },
      "execution_count": 8,
      "outputs": []
    },
    {
      "cell_type": "code",
      "source": [
        "# import numpy as np\n",
        "# import matplotlib.pyplot as plt\n",
        "# N=10\n",
        "# x = np.random.randn((N,))\n",
        "# plt.hist(x)"
      ],
      "metadata": {
        "id": "ZWNwLlAk94Kn"
      },
      "execution_count": 12,
      "outputs": []
    },
    {
      "cell_type": "code",
      "source": [
        "input_string = \"pythoninterviewquestion\"\n",
        "\n",
        "def first_recurring(input_str):\n",
        "  \n",
        "  a_str = \"\"\n",
        "  for letter in input_str:\n",
        "    a_str = a_str + letter\n",
        "    if a_str.count(letter) > 1:\n",
        "      return letter\n",
        "  return None\n",
        "\n",
        "first_recurring(input_string)"
      ],
      "metadata": {
        "colab": {
          "base_uri": "https://localhost:8080/",
          "height": 37
        },
        "id": "KiRBiCiR95ZM",
        "outputId": "e19cfbb6-0220-49ca-e3fd-51ba9b032cef"
      },
      "execution_count": 11,
      "outputs": [
        {
          "output_type": "execute_result",
          "data": {
            "text/plain": [
              "'n'"
            ],
            "application/vnd.google.colaboratory.intrinsic+json": {
              "type": "string"
            }
          },
          "metadata": {},
          "execution_count": 11
        }
      ]
    },
    {
      "cell_type": "code",
      "source": [
        "def factorial(x):\n",
        "    # Edge cases\n",
        "    if x < 0: return -1\n",
        "    if x == 0: return 1\n",
        "    \n",
        "    # Exit condition - x = 1\n",
        "    if x == 1:\n",
        "        return x\n",
        "    else:\n",
        "        # Recursive part\n",
        "        return x * factorial(x - 1)"
      ],
      "metadata": {
        "id": "KnXSGjxz974m"
      },
      "execution_count": 13,
      "outputs": []
    },
    {
      "cell_type": "code",
      "source": [
        "MAX = 10\n",
        "\n",
        "def Longest_Increasing_Path(dp, mat, n, m, x, y):\n",
        "     \n",
        "    # If value not calculated yet.\n",
        "    if (dp[x][y] < 0):\n",
        "        result = 0\n",
        "         \n",
        "        #  // If reach bottom right cell, return 1\n",
        "        if (x == n - 1 and y == m - 1):\n",
        "            dp[x][y] = 1\n",
        "            return dp[x][y]\n",
        " \n",
        "        # If reach the corner\n",
        "        # of the matrix.\n",
        "        if (x == n - 1 or y == m - 1):\n",
        "            result = 1\n",
        " \n",
        "        # If value greater than below cell.\n",
        "        if (x + 1 < n and mat[x][y] < mat[x + 1][y]):\n",
        "            result = 1 + LIP(dp, mat, n,\n",
        "                            m, x + 1, y)\n",
        " \n",
        "        # If value greater than left cell.\n",
        "        if (y + 1 < m and mat[x][y] < mat[x][y + 1]):\n",
        "            result = max(result, 1 + LIP(dp, mat, n,\n",
        "                                        m, x, y + 1))\n",
        "        dp[x][y] = result\n",
        "    return dp[x][y]\n",
        " \n",
        "# Wrapper function\n",
        "def wrapper(mat, n, m):\n",
        "    dp = [[-1 for i in range(MAX)]\n",
        "            for i in range(MAX)]\n",
        "    return Longest_Increasing_Path(dp, mat, n, m, 0, 0)"
      ],
      "metadata": {
        "id": "KQ956YtK9_uG"
      },
      "execution_count": 15,
      "outputs": []
    }
  ]
}
