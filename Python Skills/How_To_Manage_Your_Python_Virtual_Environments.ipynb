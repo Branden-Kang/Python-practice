{
  "nbformat": 4,
  "nbformat_minor": 0,
  "metadata": {
    "colab": {
      "provenance": [],
      "authorship_tag": "ABX9TyMCsDn3nNzma/ezxBz/lZyM"
    },
    "kernelspec": {
      "name": "python3",
      "display_name": "Python 3"
    },
    "language_info": {
      "name": "python"
    }
  },
  "cells": [
    {
      "cell_type": "markdown",
      "source": [
        "[Reference](https://medium.com/@adocquin/mastering-python-virtual-environments-with-pyenv-and-pyenv-virtualenv-c4e017c0b173)"
      ],
      "metadata": {
        "id": "4jK04GNo_Hh0"
      }
    },
    {
      "cell_type": "markdown",
      "source": [
        "# 1. Pyenv and pyenv-virtualenv installation\n",
        "```\n",
        "# on Mac\n",
        "brew install git\n",
        "brew install curl\n",
        "\n",
        "# on Ubuntu\n",
        "sudo apt install git\n",
        "sudo apt install curl\n",
        "\n",
        "curl https://pyenv.run | bash\n",
        "\n",
        "# dd this to the end of your $HOME/.bashrc or $HOME/.zshrc file\n",
        "export PYENV_ROOT=\"$HOME/.pyenv\"\n",
        "command -v pyenv >/dev/null || export PATH=\"$PYENV_ROOT/bin:$PATH\"\n",
        "eval \"$(pyenv init -)\"\n",
        "eval \"$(pyenv virtualenv-init -)\"\n",
        "```"
      ],
      "metadata": {
        "id": "dy2IKi06_J6x"
      }
    },
    {
      "cell_type": "markdown",
      "source": [
        "- pyenv install: To install a new Python version\n",
        "- pyenv update: To update pyenv\n",
        "- pyenv virtualenv: To create a new Python virtual environment.\n",
        "- pyenv activate: To activate a previously created virtual environment.\n",
        "- source deactivate: To deactivate the virtual environment currently in use.\n",
        "- pyenv uninstall: To uninstall a virtual environment or Python version."
      ],
      "metadata": {
        "id": "Ksun-22R_Wag"
      }
    },
    {
      "cell_type": "markdown",
      "source": [
        "```\n",
        "# Install a new python version\n",
        "pyenv install -l\n",
        "pyenv install 3.11.3\n",
        "# Update pyenv\n",
        "pyenv update\n",
        "# Create a virtual environment\n",
        "pyenv virtualenv <python_version> <environment_name>\n",
        "pyenv virtualenv 3.11.3 test_environment\n",
        "# Activate a virtual environment\n",
        "pyenv activate <environment_name>\n",
        "# Deactivate a virtual environment\n",
        "source deactivate\n",
        "# Delete an environment or a Python version\n",
        "pyenv uninstall <environment_name or python version>\n",
        "\n",
        "# Use Case\n",
        "pyenv install 3.10.2\n",
        "pyenv virtualenv 3.10.2 titanic_analysis\n",
        "pyenv activate titanic_analysis\n",
        "pip install -r requirements.txt\n",
        "```"
      ],
      "metadata": {
        "id": "vXvqp56x_avv"
      }
    }
  ]
}
