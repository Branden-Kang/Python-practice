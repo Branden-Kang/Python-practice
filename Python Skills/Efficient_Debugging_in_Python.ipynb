{
  "nbformat": 4,
  "nbformat_minor": 0,
  "metadata": {
    "colab": {
      "provenance": [],
      "authorship_tag": "ABX9TyMRFPdAWoh4i1lpg8JvcGE6"
    },
    "kernelspec": {
      "name": "python3",
      "display_name": "Python 3"
    },
    "language_info": {
      "name": "python"
    }
  },
  "cells": [
    {
      "cell_type": "markdown",
      "source": [
        "[Reference](https://moez-62905.medium.com/efficient-debugging-in-python-5-best-practices-you-need-to-know-62f5d55a2ac6)"
      ],
      "metadata": {
        "id": "uFZjPdLiXnjt"
      }
    },
    {
      "cell_type": "markdown",
      "source": [
        "# 1. Use print statements"
      ],
      "metadata": {
        "id": "iNN9oB6mXsYV"
      }
    },
    {
      "cell_type": "code",
      "execution_count": 1,
      "metadata": {
        "colab": {
          "base_uri": "https://localhost:8080/"
        },
        "id": "lIv7OLlYXf2k",
        "outputId": "70d2e7a4-abf6-4ea0-bb77-1bf65b35f80e"
      },
      "outputs": [
        {
          "output_type": "stream",
          "name": "stdout",
          "text": [
            "The sum of [1, 2, 3, 4, 5] is: 15\n"
          ]
        }
      ],
      "source": [
        "def sum_list(numbers):\n",
        "    total = 0\n",
        "    for num in numbers:\n",
        "        total += num\n",
        "    return total\n",
        "\n",
        "# Testing the function with a list of integers\n",
        "nums = [1, 2, 3, 4, 5]\n",
        "print(f\"The sum of {nums} is:\", sum_list(nums))"
      ]
    },
    {
      "cell_type": "markdown",
      "source": [
        "# 2. Use a debugger"
      ],
      "metadata": {
        "id": "ivmM81PBXvqp"
      }
    },
    {
      "cell_type": "code",
      "source": [
        "import pdb\n",
        "\n",
        "def factorial(n):\n",
        "    pdb.set_trace()\n",
        "    if n == 1:\n",
        "        return 1\n",
        "    else:\n",
        "        return n * factorial(n-1)\n",
        "\n",
        "result = factorial(5)\n",
        "\n",
        "print(result)"
      ],
      "metadata": {
        "id": "pasnb-vPXupR"
      },
      "execution_count": 2,
      "outputs": []
    },
    {
      "cell_type": "markdown",
      "source": [
        "# 3. Write tests"
      ],
      "metadata": {
        "id": "YhpLUNNxYIFm"
      }
    },
    {
      "cell_type": "code",
      "source": [
        "import unittest\n",
        "\n",
        "def get_average(numbers):\n",
        "    if len(numbers) == 0:\n",
        "        return None\n",
        "    return sum(numbers) / len(numbers)\n",
        "class TestGetAverage(unittest.TestCase):\n",
        "    def test_empty_list(self):\n",
        "        self.assertIsNone(get_average([]))\n",
        "        \n",
        "    def test_positive_numbers(self):\n",
        "        nums = [1, 2, 3, 4, 5]\n",
        "        self.assertEqual(get_average(nums), 3.0)\n",
        "        \n",
        "    def test_negative_numbers(self):\n",
        "        nums = [-1, -2, -3, -4, -5]\n",
        "        self.assertEqual(get_average(nums), -3.0)\n",
        "\n",
        "if __name__ == '__main__':\n",
        "    unittest.main()"
      ],
      "metadata": {
        "colab": {
          "base_uri": "https://localhost:8080/",
          "height": 337
        },
        "id": "_oixcWnAXxPV",
        "outputId": "d6b95c53-1138-40ef-9dbc-b2b86420fc8c"
      },
      "execution_count": 3,
      "outputs": [
        {
          "output_type": "stream",
          "name": "stderr",
          "text": [
            "E\n",
            "======================================================================\n",
            "ERROR: /root/ (unittest.loader._FailedTest)\n",
            "----------------------------------------------------------------------\n",
            "AttributeError: module '__main__' has no attribute '/root/'\n",
            "\n",
            "----------------------------------------------------------------------\n",
            "Ran 1 test in 0.002s\n",
            "\n",
            "FAILED (errors=1)\n"
          ]
        },
        {
          "output_type": "error",
          "ename": "SystemExit",
          "evalue": "ignored",
          "traceback": [
            "An exception has occurred, use %tb to see the full traceback.\n",
            "\u001b[0;31mSystemExit\u001b[0m\u001b[0;31m:\u001b[0m True\n"
          ]
        },
        {
          "output_type": "stream",
          "name": "stderr",
          "text": [
            "/usr/local/lib/python3.10/dist-packages/IPython/core/interactiveshell.py:3561: UserWarning: To exit: use 'exit', 'quit', or Ctrl-D.\n",
            "  warn(\"To exit: use 'exit', 'quit', or Ctrl-D.\", stacklevel=1)\n"
          ]
        }
      ]
    },
    {
      "cell_type": "markdown",
      "source": [
        "# 4. Use logging"
      ],
      "metadata": {
        "id": "x8q6e25NYMGm"
      }
    },
    {
      "cell_type": "code",
      "source": [
        "import logging\n",
        "\n",
        "def divide(a, b):\n",
        "    try:\n",
        "        result = a / b\n",
        "    except ZeroDivisionError:\n",
        "        logging.error(\"Tried to divide by zero!\")\n",
        "        return None\n",
        "    else:\n",
        "        logging.info(f\"{a} divided by {b} is {result}\")\n",
        "        return result\n",
        "\n",
        "# Testing the function with some values\n",
        "print(divide(10, 2))\n",
        "print(divide(10, 0))"
      ],
      "metadata": {
        "colab": {
          "base_uri": "https://localhost:8080/"
        },
        "id": "deZRxWaAYKyd",
        "outputId": "73df0479-8cb7-4783-8021-9a09bcf840a8"
      },
      "execution_count": 4,
      "outputs": [
        {
          "output_type": "stream",
          "name": "stderr",
          "text": [
            "ERROR:root:Tried to divide by zero!\n"
          ]
        },
        {
          "output_type": "stream",
          "name": "stdout",
          "text": [
            "5.0\n",
            "None\n"
          ]
        }
      ]
    }
  ]
}
