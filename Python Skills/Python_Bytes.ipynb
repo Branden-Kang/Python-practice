{
  "nbformat": 4,
  "nbformat_minor": 0,
  "metadata": {
    "colab": {
      "provenance": [],
      "authorship_tag": "ABX9TyOUo4EFoHdIKwPyvLnuyWkD"
    },
    "kernelspec": {
      "name": "python3",
      "display_name": "Python 3"
    },
    "language_info": {
      "name": "python"
    }
  },
  "cells": [
    {
      "cell_type": "markdown",
      "source": [
        "[Reference](https://medium.com/@sarperismetmakas/python-bytes-92ba69ddafba)"
      ],
      "metadata": {
        "id": "6Kt2mt7UKF-i"
      }
    },
    {
      "cell_type": "markdown",
      "source": [
        "# Creating Bytes"
      ],
      "metadata": {
        "id": "OgG9lkxaKJ_L"
      }
    },
    {
      "cell_type": "code",
      "execution_count": 1,
      "metadata": {
        "colab": {
          "base_uri": "https://localhost:8080/"
        },
        "id": "10t2CE_SKD4p",
        "outputId": "7d0dd7f5-9c6e-4f6b-c678-d6b8497a4e4e"
      },
      "outputs": [
        {
          "output_type": "stream",
          "name": "stdout",
          "text": [
            "b'Hello, World!'\n",
            "b'Hello, Bytes!'\n"
          ]
        }
      ],
      "source": [
        "# Creating bytes from a string\n",
        "data_str = \"Hello, World!\"\n",
        "data_bytes = bytes(data_str, encoding='utf-8')\n",
        "print(data_bytes)\n",
        "\n",
        "# Using byte literal prefix\n",
        "data_bytes = b\"Hello, Bytes!\"\n",
        "print(data_bytes)"
      ]
    },
    {
      "cell_type": "markdown",
      "source": [
        "# Accessing Bytes"
      ],
      "metadata": {
        "id": "suxF0PRDKLyP"
      }
    },
    {
      "cell_type": "code",
      "source": [
        "data_bytes = b\"Hello, Bytes!\"\n",
        "print(data_bytes[0])  # Accessing the first byte\n",
        "print(data_bytes[7:12])  # Slicing bytes"
      ],
      "metadata": {
        "colab": {
          "base_uri": "https://localhost:8080/"
        },
        "id": "k_rRkw98KK_w",
        "outputId": "672bd994-9c0d-4f1a-fcb2-b816671d928f"
      },
      "execution_count": 2,
      "outputs": [
        {
          "output_type": "stream",
          "name": "stdout",
          "text": [
            "72\n",
            "b'Bytes'\n"
          ]
        }
      ]
    },
    {
      "cell_type": "markdown",
      "source": [
        "# Converting Bytes to String"
      ],
      "metadata": {
        "id": "MgZlsQF8KOau"
      }
    },
    {
      "cell_type": "code",
      "source": [
        "data_bytes = b\"Hello, Bytes!\"\n",
        "data_str = data_bytes.decode('utf-8')\n",
        "print(data_str)"
      ],
      "metadata": {
        "colab": {
          "base_uri": "https://localhost:8080/"
        },
        "id": "dwNs1R0EKNFe",
        "outputId": "5cc1891e-dc82-46c3-d129-78105ab91bf2"
      },
      "execution_count": 3,
      "outputs": [
        {
          "output_type": "stream",
          "name": "stdout",
          "text": [
            "Hello, Bytes!\n"
          ]
        }
      ]
    },
    {
      "cell_type": "markdown",
      "source": [
        "# Converting String to Bytes"
      ],
      "metadata": {
        "id": "_t8lAETeKQdU"
      }
    },
    {
      "cell_type": "code",
      "source": [
        "data_str = \"Hello, World!\"\n",
        "data_bytes = data_str.encode('utf-8')\n",
        "print(data_bytes)"
      ],
      "metadata": {
        "colab": {
          "base_uri": "https://localhost:8080/"
        },
        "id": "npN6SI8-KPa8",
        "outputId": "456fd5fc-8e5c-46a3-c8bb-91ca2e309a19"
      },
      "execution_count": 4,
      "outputs": [
        {
          "output_type": "stream",
          "name": "stdout",
          "text": [
            "b'Hello, World!'\n"
          ]
        }
      ]
    },
    {
      "cell_type": "markdown",
      "source": [
        "# Converting Int to Byte"
      ],
      "metadata": {
        "id": "dp2Ag82gKSf0"
      }
    },
    {
      "cell_type": "code",
      "source": [
        "# Create a byte representation of an integer\n",
        "integer_value = 12345\n",
        "num_bytes = 2  # Number of bytes for the representation\n",
        "\n",
        "# Convert integer to bytes (big-endian)\n",
        "byte_representation = integer_value.to_bytes(num_bytes, byteorder='big')\n",
        "\n",
        "print(byte_representation)"
      ],
      "metadata": {
        "colab": {
          "base_uri": "https://localhost:8080/"
        },
        "id": "udCrtq1rKRkm",
        "outputId": "5d2d0f60-d1dd-4358-e2a7-9bdf40106bee"
      },
      "execution_count": 5,
      "outputs": [
        {
          "output_type": "stream",
          "name": "stdout",
          "text": [
            "b'09'\n"
          ]
        }
      ]
    },
    {
      "cell_type": "markdown",
      "source": [
        "# Converting Byte to Int"
      ],
      "metadata": {
        "id": "vg4H6KeSKUsk"
      }
    },
    {
      "cell_type": "code",
      "source": [
        "# Convert byte representation back to integer\n",
        "byte_representation = b'\\x30\\x39'\n",
        "integer_value = int.from_bytes(byte_representation, byteorder='big')\n",
        "\n",
        "print(integer_value)"
      ],
      "metadata": {
        "colab": {
          "base_uri": "https://localhost:8080/"
        },
        "id": "sfOTRFYNKTgF",
        "outputId": "9b53cbde-446b-47f1-9800-f59a543efcba"
      },
      "execution_count": 6,
      "outputs": [
        {
          "output_type": "stream",
          "name": "stdout",
          "text": [
            "12345\n"
          ]
        }
      ]
    },
    {
      "cell_type": "code",
      "source": [
        "# # Reading a binary file\n",
        "# with open('file.bin', 'rb') as f:\n",
        "#     data = f.read()\n",
        "#     print(data)\n",
        "\n",
        "# # Writing to a binary file\n",
        "# data = b\"This is binary data.\"\n",
        "# with open('output.bin', 'wb') as f:\n",
        "#     f.write(data)"
      ],
      "metadata": {
        "id": "_UnLaG4nKWUB"
      },
      "execution_count": 7,
      "outputs": []
    }
  ]
}
