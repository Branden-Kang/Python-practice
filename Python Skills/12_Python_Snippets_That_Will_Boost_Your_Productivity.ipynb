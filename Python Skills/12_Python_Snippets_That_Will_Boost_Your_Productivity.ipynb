{
  "nbformat": 4,
  "nbformat_minor": 0,
  "metadata": {
    "colab": {
      "name": "12 Python Snippets That Will Boost Your Productivity.ipynb",
      "provenance": [],
      "authorship_tag": "ABX9TyNhTe/tUSO90CFSLyNQYngH"
    },
    "kernelspec": {
      "name": "python3",
      "display_name": "Python 3"
    },
    "language_info": {
      "name": "python"
    }
  },
  "cells": [
    {
      "cell_type": "markdown",
      "metadata": {
        "id": "xZwGXPOgesAL"
      },
      "source": [
        "[Reference](https://python.plainenglish.io/python-snippets-7e8dcbeae26e)"
      ]
    },
    {
      "cell_type": "markdown",
      "metadata": {
        "id": "ozC2Of7pewNp"
      },
      "source": [
        "# 1. How to get combinations of n numbers in a list"
      ]
    },
    {
      "cell_type": "code",
      "metadata": {
        "colab": {
          "base_uri": "https://localhost:8080/"
        },
        "id": "gSrQpM_3ek1n",
        "outputId": "5126344e-f459-4a07-9e0d-da35ed71dbb7"
      },
      "source": [
        "from itertools import combinations\n",
        "lista = [1,2,3,4,5]\n",
        "print(list(combinations(lista,2)))"
      ],
      "execution_count": 1,
      "outputs": [
        {
          "output_type": "stream",
          "text": [
            "[(1, 2), (1, 3), (1, 4), (1, 5), (2, 3), (2, 4), (2, 5), (3, 4), (3, 5), (4, 5)]\n"
          ],
          "name": "stdout"
        }
      ]
    },
    {
      "cell_type": "markdown",
      "metadata": {
        "id": "6gwRBJLBe0fk"
      },
      "source": [
        "# 2. How to get computer information on a windows machine"
      ]
    },
    {
      "cell_type": "code",
      "metadata": {
        "id": "ddi67pF2e393"
      },
      "source": [
        "pip install pypiwin32"
      ],
      "execution_count": 9,
      "outputs": []
    },
    {
      "cell_type": "code",
      "metadata": {
        "id": "MBjD7CQ_exZx"
      },
      "source": [
        "import win32api\n",
        "\n",
        "def printInfo():\n",
        "    device = win32api.EnumDisplayDevices()\n",
        "    print((device.DeviceName, device.DeviceString))\n",
        "    settings = win32api.EnumDisplaySettings(device.DeviceName, -1)\n",
        "    for varName in ['Color', 'BitsPerPel', 'DisplayFrequency']:\n",
        "        print(\"%s: %s\"%(varName, getattr(settings, varName)))"
      ],
      "execution_count": 10,
      "outputs": []
    },
    {
      "cell_type": "markdown",
      "metadata": {
        "id": "f3Az-UBZfKFq"
      },
      "source": [
        "# 3. How to write a simple gaussian kernel"
      ]
    },
    {
      "cell_type": "code",
      "metadata": {
        "id": "qDxxvseRe54I"
      },
      "source": [
        "import numpy as np\n",
        "from scipy import signal\n",
        "import matplotlib.pyplot as plt\n",
        "import seaborn as sns\n",
        "sns.set()\n",
        "\n",
        "def gkern(kernlen=21, std=3):\n",
        "    \"\"\"Returns a 2D Gaussian kernel array.\"\"\"\n",
        "    gkern1d = signal.gaussian(kernlen, std=std).reshape(kernlen, 1)\n",
        "    gkern2d = np.outer(gkern1d, gkern1d)\n",
        "    return gkern2d"
      ],
      "execution_count": 12,
      "outputs": []
    },
    {
      "cell_type": "code",
      "metadata": {
        "colab": {
          "base_uri": "https://localhost:8080/"
        },
        "id": "nYj8TwkIfN69",
        "outputId": "d3b82b0e-9f85-44aa-9fda-c8a4446425ad"
      },
      "source": [
        "gkern()"
      ],
      "execution_count": 13,
      "outputs": [
        {
          "output_type": "execute_result",
          "data": {
            "text/plain": [
              "array([[1.49453385e-05, 4.29464934e-05, 1.10431945e-04, 2.54101243e-04,\n",
              "        5.23195397e-04, 9.63975726e-04, 1.58932728e-03, 2.34479909e-03,\n",
              "        3.09558685e-03, 3.65700376e-03, 3.86592014e-03, 3.65700376e-03,\n",
              "        3.09558685e-03, 2.34479909e-03, 1.58932728e-03, 9.63975726e-04,\n",
              "        5.23195397e-04, 2.54101243e-04, 1.10431945e-04, 4.29464934e-05,\n",
              "        1.49453385e-05],\n",
              "       [4.29464934e-05, 1.23409804e-04, 3.17334049e-04, 7.30177997e-04,\n",
              "        1.50343919e-03, 2.77005282e-03, 4.56704501e-03, 6.73794700e-03,\n",
              "        8.89538904e-03, 1.05086605e-02, 1.11089965e-02, 1.05086605e-02,\n",
              "        8.89538904e-03, 6.73794700e-03, 4.56704501e-03, 2.77005282e-03,\n",
              "        1.50343919e-03, 7.30177997e-04, 3.17334049e-04, 1.23409804e-04,\n",
              "        4.29464934e-05],\n",
              "       [1.10431945e-04, 3.17334049e-04, 8.15987835e-04, 1.87756834e-03,\n",
              "        3.86592014e-03, 7.12287072e-03, 1.17436285e-02, 1.73258520e-02,\n",
              "        2.28734649e-02, 2.70218060e-02, 2.85655008e-02, 2.70218060e-02,\n",
              "        2.28734649e-02, 1.73258520e-02, 1.17436285e-02, 7.12287072e-03,\n",
              "        3.86592014e-03, 1.87756834e-03, 8.15987835e-04, 3.17334049e-04,\n",
              "        1.10431945e-04],\n",
              "       [2.54101243e-04, 7.30177997e-04, 1.87756834e-03, 4.32023947e-03,\n",
              "        8.89538904e-03, 1.63895538e-02, 2.70218060e-02, 3.98663678e-02,\n",
              "        5.26312913e-02, 6.21765240e-02, 6.57285286e-02, 6.21765240e-02,\n",
              "        5.26312913e-02, 3.98663678e-02, 2.70218060e-02, 1.63895538e-02,\n",
              "        8.89538904e-03, 4.32023947e-03, 1.87756834e-03, 7.30177997e-04,\n",
              "        2.54101243e-04],\n",
              "       [5.23195397e-04, 1.50343919e-03, 3.86592014e-03, 8.89538904e-03,\n",
              "        1.83156389e-02, 3.37461518e-02, 5.56379983e-02, 8.20849986e-02,\n",
              "        1.08368023e-01, 1.28021693e-01, 1.35335283e-01, 1.28021693e-01,\n",
              "        1.08368023e-01, 8.20849986e-02, 5.56379983e-02, 3.37461518e-02,\n",
              "        1.83156389e-02, 8.89538904e-03, 3.86592014e-03, 1.50343919e-03,\n",
              "        5.23195397e-04],\n",
              "       [9.63975726e-04, 2.77005282e-03, 7.12287072e-03, 1.63895538e-02,\n",
              "        3.37461518e-02, 6.21765240e-02, 1.02511758e-01, 1.51239760e-01,\n",
              "        1.99665640e-01, 2.35877083e-01, 2.49352209e-01, 2.35877083e-01,\n",
              "        1.99665640e-01, 1.51239760e-01, 1.02511758e-01, 6.21765240e-02,\n",
              "        3.37461518e-02, 1.63895538e-02, 7.12287072e-03, 2.77005282e-03,\n",
              "        9.63975726e-04],\n",
              "       [1.58932728e-03, 4.56704501e-03, 1.17436285e-02, 2.70218060e-02,\n",
              "        5.56379983e-02, 1.02511758e-01, 1.69013315e-01, 2.49352209e-01,\n",
              "        3.29192988e-01, 3.88895564e-01, 4.11112291e-01, 3.88895564e-01,\n",
              "        3.29192988e-01, 2.49352209e-01, 1.69013315e-01, 1.02511758e-01,\n",
              "        5.56379983e-02, 2.70218060e-02, 1.17436285e-02, 4.56704501e-03,\n",
              "        1.58932728e-03],\n",
              "       [2.34479909e-03, 6.73794700e-03, 1.73258520e-02, 3.98663678e-02,\n",
              "        8.20849986e-02, 1.51239760e-01, 2.49352209e-01, 3.67879441e-01,\n",
              "        4.85671785e-01, 5.73753421e-01, 6.06530660e-01, 5.73753421e-01,\n",
              "        4.85671785e-01, 3.67879441e-01, 2.49352209e-01, 1.51239760e-01,\n",
              "        8.20849986e-02, 3.98663678e-02, 1.73258520e-02, 6.73794700e-03,\n",
              "        2.34479909e-03],\n",
              "       [3.09558685e-03, 8.89538904e-03, 2.28734649e-02, 5.26312913e-02,\n",
              "        1.08368023e-01, 1.99665640e-01, 3.29192988e-01, 4.85671785e-01,\n",
              "        6.41180388e-01, 7.57465128e-01, 8.00737403e-01, 7.57465128e-01,\n",
              "        6.41180388e-01, 4.85671785e-01, 3.29192988e-01, 1.99665640e-01,\n",
              "        1.08368023e-01, 5.26312913e-02, 2.28734649e-02, 8.89538904e-03,\n",
              "        3.09558685e-03],\n",
              "       [3.65700376e-03, 1.05086605e-02, 2.70218060e-02, 6.21765240e-02,\n",
              "        1.28021693e-01, 2.35877083e-01, 3.88895564e-01, 5.73753421e-01,\n",
              "        7.57465128e-01, 8.94839317e-01, 9.45959469e-01, 8.94839317e-01,\n",
              "        7.57465128e-01, 5.73753421e-01, 3.88895564e-01, 2.35877083e-01,\n",
              "        1.28021693e-01, 6.21765240e-02, 2.70218060e-02, 1.05086605e-02,\n",
              "        3.65700376e-03],\n",
              "       [3.86592014e-03, 1.11089965e-02, 2.85655008e-02, 6.57285286e-02,\n",
              "        1.35335283e-01, 2.49352209e-01, 4.11112291e-01, 6.06530660e-01,\n",
              "        8.00737403e-01, 9.45959469e-01, 1.00000000e+00, 9.45959469e-01,\n",
              "        8.00737403e-01, 6.06530660e-01, 4.11112291e-01, 2.49352209e-01,\n",
              "        1.35335283e-01, 6.57285286e-02, 2.85655008e-02, 1.11089965e-02,\n",
              "        3.86592014e-03],\n",
              "       [3.65700376e-03, 1.05086605e-02, 2.70218060e-02, 6.21765240e-02,\n",
              "        1.28021693e-01, 2.35877083e-01, 3.88895564e-01, 5.73753421e-01,\n",
              "        7.57465128e-01, 8.94839317e-01, 9.45959469e-01, 8.94839317e-01,\n",
              "        7.57465128e-01, 5.73753421e-01, 3.88895564e-01, 2.35877083e-01,\n",
              "        1.28021693e-01, 6.21765240e-02, 2.70218060e-02, 1.05086605e-02,\n",
              "        3.65700376e-03],\n",
              "       [3.09558685e-03, 8.89538904e-03, 2.28734649e-02, 5.26312913e-02,\n",
              "        1.08368023e-01, 1.99665640e-01, 3.29192988e-01, 4.85671785e-01,\n",
              "        6.41180388e-01, 7.57465128e-01, 8.00737403e-01, 7.57465128e-01,\n",
              "        6.41180388e-01, 4.85671785e-01, 3.29192988e-01, 1.99665640e-01,\n",
              "        1.08368023e-01, 5.26312913e-02, 2.28734649e-02, 8.89538904e-03,\n",
              "        3.09558685e-03],\n",
              "       [2.34479909e-03, 6.73794700e-03, 1.73258520e-02, 3.98663678e-02,\n",
              "        8.20849986e-02, 1.51239760e-01, 2.49352209e-01, 3.67879441e-01,\n",
              "        4.85671785e-01, 5.73753421e-01, 6.06530660e-01, 5.73753421e-01,\n",
              "        4.85671785e-01, 3.67879441e-01, 2.49352209e-01, 1.51239760e-01,\n",
              "        8.20849986e-02, 3.98663678e-02, 1.73258520e-02, 6.73794700e-03,\n",
              "        2.34479909e-03],\n",
              "       [1.58932728e-03, 4.56704501e-03, 1.17436285e-02, 2.70218060e-02,\n",
              "        5.56379983e-02, 1.02511758e-01, 1.69013315e-01, 2.49352209e-01,\n",
              "        3.29192988e-01, 3.88895564e-01, 4.11112291e-01, 3.88895564e-01,\n",
              "        3.29192988e-01, 2.49352209e-01, 1.69013315e-01, 1.02511758e-01,\n",
              "        5.56379983e-02, 2.70218060e-02, 1.17436285e-02, 4.56704501e-03,\n",
              "        1.58932728e-03],\n",
              "       [9.63975726e-04, 2.77005282e-03, 7.12287072e-03, 1.63895538e-02,\n",
              "        3.37461518e-02, 6.21765240e-02, 1.02511758e-01, 1.51239760e-01,\n",
              "        1.99665640e-01, 2.35877083e-01, 2.49352209e-01, 2.35877083e-01,\n",
              "        1.99665640e-01, 1.51239760e-01, 1.02511758e-01, 6.21765240e-02,\n",
              "        3.37461518e-02, 1.63895538e-02, 7.12287072e-03, 2.77005282e-03,\n",
              "        9.63975726e-04],\n",
              "       [5.23195397e-04, 1.50343919e-03, 3.86592014e-03, 8.89538904e-03,\n",
              "        1.83156389e-02, 3.37461518e-02, 5.56379983e-02, 8.20849986e-02,\n",
              "        1.08368023e-01, 1.28021693e-01, 1.35335283e-01, 1.28021693e-01,\n",
              "        1.08368023e-01, 8.20849986e-02, 5.56379983e-02, 3.37461518e-02,\n",
              "        1.83156389e-02, 8.89538904e-03, 3.86592014e-03, 1.50343919e-03,\n",
              "        5.23195397e-04],\n",
              "       [2.54101243e-04, 7.30177997e-04, 1.87756834e-03, 4.32023947e-03,\n",
              "        8.89538904e-03, 1.63895538e-02, 2.70218060e-02, 3.98663678e-02,\n",
              "        5.26312913e-02, 6.21765240e-02, 6.57285286e-02, 6.21765240e-02,\n",
              "        5.26312913e-02, 3.98663678e-02, 2.70218060e-02, 1.63895538e-02,\n",
              "        8.89538904e-03, 4.32023947e-03, 1.87756834e-03, 7.30177997e-04,\n",
              "        2.54101243e-04],\n",
              "       [1.10431945e-04, 3.17334049e-04, 8.15987835e-04, 1.87756834e-03,\n",
              "        3.86592014e-03, 7.12287072e-03, 1.17436285e-02, 1.73258520e-02,\n",
              "        2.28734649e-02, 2.70218060e-02, 2.85655008e-02, 2.70218060e-02,\n",
              "        2.28734649e-02, 1.73258520e-02, 1.17436285e-02, 7.12287072e-03,\n",
              "        3.86592014e-03, 1.87756834e-03, 8.15987835e-04, 3.17334049e-04,\n",
              "        1.10431945e-04],\n",
              "       [4.29464934e-05, 1.23409804e-04, 3.17334049e-04, 7.30177997e-04,\n",
              "        1.50343919e-03, 2.77005282e-03, 4.56704501e-03, 6.73794700e-03,\n",
              "        8.89538904e-03, 1.05086605e-02, 1.11089965e-02, 1.05086605e-02,\n",
              "        8.89538904e-03, 6.73794700e-03, 4.56704501e-03, 2.77005282e-03,\n",
              "        1.50343919e-03, 7.30177997e-04, 3.17334049e-04, 1.23409804e-04,\n",
              "        4.29464934e-05],\n",
              "       [1.49453385e-05, 4.29464934e-05, 1.10431945e-04, 2.54101243e-04,\n",
              "        5.23195397e-04, 9.63975726e-04, 1.58932728e-03, 2.34479909e-03,\n",
              "        3.09558685e-03, 3.65700376e-03, 3.86592014e-03, 3.65700376e-03,\n",
              "        3.09558685e-03, 2.34479909e-03, 1.58932728e-03, 9.63975726e-04,\n",
              "        5.23195397e-04, 2.54101243e-04, 1.10431945e-04, 4.29464934e-05,\n",
              "        1.49453385e-05]])"
            ]
          },
          "metadata": {
            "tags": []
          },
          "execution_count": 13
        }
      ]
    },
    {
      "cell_type": "markdown",
      "metadata": {
        "id": "c-QdvStafOyS"
      },
      "source": [
        "# 4. How to get a list of colors in seaborn"
      ]
    },
    {
      "cell_type": "code",
      "metadata": {
        "colab": {
          "base_uri": "https://localhost:8080/"
        },
        "id": "TabPBgTSfLJb",
        "outputId": "eb7d4995-0d58-4432-9a7d-e8a8f8cc6974"
      },
      "source": [
        "import seaborn as sns\n",
        "\n",
        "number_of_colors = 10\n",
        "colors = sns.color_palette(\"hls\", number_of_colors)\n",
        "print(colors)"
      ],
      "execution_count": 14,
      "outputs": [
        {
          "output_type": "stream",
          "text": [
            "[(0.86, 0.3712, 0.33999999999999997), (0.86, 0.6832, 0.33999999999999997), (0.7247999999999999, 0.86, 0.33999999999999997), (0.41279999999999994, 0.86, 0.33999999999999997), (0.33999999999999997, 0.86, 0.5792000000000002), (0.33999999999999997, 0.8287999999999999, 0.86), (0.33999999999999997, 0.5167999999999995, 0.86), (0.4752000000000003, 0.33999999999999997, 0.86), (0.7871999999999999, 0.33999999999999997, 0.86), (0.86, 0.33999999999999997, 0.6207999999999999)]\n"
          ],
          "name": "stdout"
        }
      ]
    },
    {
      "cell_type": "markdown",
      "metadata": {
        "id": "r7ru_EL9fRxk"
      },
      "source": [
        "# 5. How to get the most frequent elements from a list with Counter"
      ]
    },
    {
      "cell_type": "code",
      "metadata": {
        "id": "vAOmg3b5fQ2N"
      },
      "source": [
        "from collections import Counter\n",
        "import numpy as np\n",
        "\n",
        "random_elements = np.random.randint(0,10,100)\n",
        "dict_freq = Counter(random_elements)"
      ],
      "execution_count": 15,
      "outputs": []
    },
    {
      "cell_type": "markdown",
      "metadata": {
        "id": "BpV-cxUWfUlL"
      },
      "source": [
        "# 6. How to plot a 3D surface of the softmax function"
      ]
    },
    {
      "cell_type": "code",
      "metadata": {
        "colab": {
          "base_uri": "https://localhost:8080/",
          "height": 248
        },
        "id": "6Mdm7rHKfTkx",
        "outputId": "e30df73a-1f9d-434a-8b21-1e66c299988f"
      },
      "source": [
        "'''\n",
        "======================\n",
        "3D surface (color map)\n",
        "======================\n",
        "\n",
        "Plotting a softmax function in 3D\n",
        "\n",
        "'''\n",
        "\n",
        "from mpl_toolkits.mplot3d import Axes3D\n",
        "import matplotlib.pyplot as plt\n",
        "from matplotlib import cm\n",
        "from matplotlib.ticker import LinearLocator, FormatStrFormatter\n",
        "import numpy as np\n",
        "\n",
        "#Creating the figure\n",
        "fig = plt.figure()\n",
        "ax = fig.gca(projection='3d')\n",
        "\n",
        "#Mking the data\n",
        "X = np.arange(-5, 5, 0.25)\n",
        "Y = np.arange(-5, 5, 0.25)\n",
        "X, Y = np.meshgrid(X, Y)\n",
        "\n",
        "#Softmax\n",
        "Z = (np.exp(X)/ (np.exp(X)+ np.exp(Y)))\n",
        "\n",
        "#Ploting the surface.\n",
        "surf = ax.plot_surface(X, Y, Z, cmap=cm.coolwarm,\n",
        "                       linewidth=10)\n",
        "\n",
        "#Customize the z axis setting it t0 the range(0,1)\n",
        "ax.set_zlim(0, 1.0)\n",
        "\n",
        "# Add a color bar which maps values to colors.\n",
        "fig.colorbar(surf, shrink=0.5, aspect=5)\n",
        "plt.show()"
      ],
      "execution_count": 16,
      "outputs": [
        {
          "output_type": "display_data",
          "data": {
            "image/png": "[encoded data removed]",
            "text/plain": [
              "<Figure size 432x288 with 2 Axes>"
            ]
          },
          "metadata": {
            "tags": []
          }
        }
      ]
    },
    {
      "cell_type": "markdown",
      "metadata": {
        "id": "RyqY3R8TfePZ"
      },
      "source": [
        "# 7. How to write a gaussian white noise stimulus vector"
      ]
    },
    {
      "cell_type": "code",
      "metadata": {
        "id": "UJY-fp6dfcDU"
      },
      "source": [
        "def get_white_noise_stim_vector(dims, ch, n):\n",
        "    # We will have as many stimuli as time_bins so there will be   \n",
        "    # overlap\n",
        "    stim_vector = np.zeros((dims, dims, ch, n))\n",
        "    for i in range(stim_vector.shape[-1]):\n",
        "        # Gaussian noise vector of dimension k for the time window    \n",
        "        # 200(milliseconds)\n",
        "        stim_vector[:, :, :, i] = np.random.normal(0.0, 1.0, size= (dims, dims, ch))    \n",
        "        \n",
        "        return stim_vector"
      ],
      "execution_count": 17,
      "outputs": []
    },
    {
      "cell_type": "markdown",
      "metadata": {
        "id": "pIGZVThvfjno"
      },
      "source": [
        "# 8. How to get the memory size of globals() output in Gb"
      ]
    },
    {
      "cell_type": "code",
      "metadata": {
        "id": "KAex1PrufiAm"
      },
      "source": [
        "def check_sizes(gb_min=1):\n",
        "    for x in globals():\n",
        "        size = sys.getsizeof(eval(x)) / 1e9\n",
        "        if size > gb_min:\n",
        "            print(f'Object: {x:10}\\tSize: {size} GB.')"
      ],
      "execution_count": 18,
      "outputs": []
    },
    {
      "cell_type": "markdown",
      "metadata": {
        "id": "uTM69_4Hflhu"
      },
      "source": [
        "# 9. How to interleave lists"
      ]
    },
    {
      "cell_type": "code",
      "metadata": {
        "colab": {
          "base_uri": "https://localhost:8080/"
        },
        "id": "WfjTpxjofkve",
        "outputId": "d4956b9a-d314-41a4-ce6f-5ed8a92351ee"
      },
      "source": [
        "a = [1,2,3]\n",
        "b = [4,5,6]\n",
        "interleaved_list = [val for pair in zip(a,b) for val in pair]\n",
        "print(interleaved_list)"
      ],
      "execution_count": 19,
      "outputs": [
        {
          "output_type": "stream",
          "text": [
            "[1, 4, 2, 5, 3, 6]\n"
          ],
          "name": "stdout"
        }
      ]
    },
    {
      "cell_type": "markdown",
      "metadata": {
        "id": "O9bgvuK4fpCo"
      },
      "source": [
        "# 10. How to make fake cluster data"
      ]
    },
    {
      "cell_type": "code",
      "metadata": {
        "colab": {
          "base_uri": "https://localhost:8080/",
          "height": 268
        },
        "id": "DKcqOhVifnnB",
        "outputId": "fd5318b4-86df-494e-cdd7-39309e9f90f7"
      },
      "source": [
        "import numpy as np\n",
        "from sklearn.cluster import KMeans\n",
        "from sklearn import metrics\n",
        "import matplotlib.pyplot as plt\n",
        "from sklearn.datasets import make_blobs\n",
        "import seaborn as sns\n",
        "sns.set()\n",
        "\n",
        "# First I want to remember how to apply kmeans\n",
        " #Make features and targets with 1000 samples,\n",
        "features, target = make_blobs(n_samples=1000, n_features=2,centers=10,\n",
        "                              cluster_std=0.60, shuffle=True)\n",
        "\n",
        "#Now we visualize our data\n",
        "colors = sns.color_palette(\"hls\", 10)\n",
        "plt.scatter(features[:,0], features[:,1], label=\"Features\") \n",
        "plt.legend()\n",
        "plt.show()"
      ],
      "execution_count": 20,
      "outputs": [
        {
          "output_type": "display_data",
          "data": {
            "image/png": "[encoded data removed]",
            "text/plain": [
              "<Figure size 432x288 with 1 Axes>"
            ]
          },
          "metadata": {
            "tags": []
          }
        }
      ]
    },
    {
      "cell_type": "markdown",
      "metadata": {
        "id": "CfRbTsrkftcg"
      },
      "source": [
        "# 11. How to place a label outside of a plot in matplotlib"
      ]
    },
    {
      "cell_type": "code",
      "metadata": {
        "colab": {
          "base_uri": "https://localhost:8080/",
          "height": 262
        },
        "id": "GnoyaqWvfsAD",
        "outputId": "c4d9affe-7720-4f50-ed86-304c9ea13b51"
      },
      "source": [
        "import matplotlib.pyplot as plt\n",
        "w = 4\n",
        "h = 3\n",
        "d = 70\n",
        "plt.figure(figsize=(w, h), dpi=d)\n",
        "y1 = [2, 3, 4.5]\n",
        "y2 = [1, 1.5, 5]\n",
        "\n",
        "plt.plot(y1)\n",
        "plt.plot(y2)\n",
        "ax = plt.subplot(111)\n",
        "box = ax.get_position()\n",
        "ax.set_position([box.x0, box.y0, box.width*0.65, box.height])\n",
        "legend_x = 1\n",
        "legend_y = 0.5\n",
        "plt.legend([\"blue\", \"green\"], loc='center left', bbox_to_anchor=(legend_x, legend_y))\n",
        "# plt.savefig(\"out.png\")\n",
        "plt.show()"
      ],
      "execution_count": 22,
      "outputs": [
        {
          "output_type": "stream",
          "text": [
            "/usr/local/lib/python3.7/dist-packages/ipykernel_launcher.py:11: MatplotlibDeprecationWarning: Adding an axes using the same arguments as a previous axes currently reuses the earlier instance.  In a future version, a new instance will always be created and returned.  Meanwhile, this warning can be suppressed, and the future behavior ensured, by passing a unique label to each axes instance.\n",
            "  # This is added back by InteractiveShellApp.init_path()\n"
          ],
          "name": "stderr"
        },
        {
          "output_type": "display_data",
          "data": {
            "image/png": "[encoded data removed]",
            "text/plain": [
              "<Figure size 280x210 with 1 Axes>"
            ]
          },
          "metadata": {
            "tags": []
          }
        }
      ]
    },
    {
      "cell_type": "markdown",
      "metadata": {
        "id": "oCL-UYzAfxud"
      },
      "source": [
        "# 12. How to put a rectangle on a plot in matplotlib"
      ]
    },
    {
      "cell_type": "code",
      "metadata": {
        "colab": {
          "base_uri": "https://localhost:8080/",
          "height": 268
        },
        "id": "agOmHWzkfviJ",
        "outputId": "07353502-3008-4ecc-f9c0-2bf21b456316"
      },
      "source": [
        "import matplotlib.pyplot as plt\n",
        "\n",
        "plt.axes()\n",
        "rectangle = plt.Rectangle((10, 10), 100, 100, fc='r', fill=False,edgecolor=\"r\")\n",
        "plt.gca().add_patch(rectangle)\n",
        "plt.axis('scaled')\n",
        "plt.show()"
      ],
      "execution_count": 23,
      "outputs": [
        {
          "output_type": "display_data",
          "data": {
            "image/png": "[encoded data removed]",
            "text/plain": [
              "<Figure size 432x288 with 1 Axes>"
            ]
          },
          "metadata": {
            "tags": []
          }
        }
      ]
    }
  ]
}