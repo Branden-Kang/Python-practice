{
  "nbformat": 4,
  "nbformat_minor": 0,
  "metadata": {
    "colab": {
      "name": "How To Create a Stack in Python From Scratch.ipynb",
      "provenance": [],
      "authorship_tag": "ABX9TyMXKDSGOnbDh1duK+/z+0XV"
    },
    "kernelspec": {
      "name": "python3",
      "display_name": "Python 3"
    },
    "language_info": {
      "name": "python"
    }
  },
  "cells": [
    {
      "cell_type": "markdown",
      "metadata": {
        "id": "ETXNp9e68e2o"
      },
      "source": [
        "[Reference](https://python.plainenglish.io/how-to-create-a-stack-in-python-from-scratch-86350d0c15d0)"
      ]
    },
    {
      "cell_type": "code",
      "metadata": {
        "colab": {
          "base_uri": "https://localhost:8080/"
        },
        "id": "tdwHmFDT8dcS",
        "outputId": "f8d8ac8a-1ef3-449e-878a-51d4629c5869"
      },
      "source": [
        "class Stack:\n",
        "    def __init__(self):\n",
        "        # We are using an empty list for creating stack \n",
        "        self.stack = []\n",
        "\n",
        "    # Check if the stack is empty or not \n",
        "    def isEmpty(self):\n",
        "        if len(self.stack) <= 0:\n",
        "            return True\n",
        "        else:\n",
        "            return False\n",
        "\n",
        "    # This function returns the top element of the stack \n",
        "    def top(self):\n",
        "        return self.stack[-1]\n",
        "\n",
        "    def st_push(self, val):\n",
        "        self.stack.append(val)\n",
        "\n",
        "    def st_pop(self):\n",
        "        if self.isEmpty():\n",
        "            return \"Stack is empty. Unserflow!\"\n",
        "        else:\n",
        "            return self.stack.pop()\n",
        "\n",
        "\n",
        "s = Stack()\n",
        "s.st_push(\"item 1\")\n",
        "s.st_push(\"item 2\")\n",
        "s.st_push(\"item 3\")\n",
        "s.st_push(\"item 4\")\n",
        "s.st_push(\"item 5\")\n",
        "\n",
        "print(s.st_pop())\n",
        "print(s.st_pop())\n",
        "print(s.st_pop())\n",
        "print(s.st_pop())\n",
        "print(s.st_pop())\n",
        "print(s.st_pop())"
      ],
      "execution_count": 1,
      "outputs": [
        {
          "output_type": "stream",
          "text": [
            "item 5\n",
            "item 4\n",
            "item 3\n",
            "item 2\n",
            "item 1\n",
            "Stack is empty. Unserflow!\n"
          ],
          "name": "stdout"
        }
      ]
    }
  ]
}