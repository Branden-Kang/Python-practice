{
  "nbformat": 4,
  "nbformat_minor": 0,
  "metadata": {
    "colab": {
      "provenance": [],
      "collapsed_sections": [],
      "authorship_tag": "ABX9TyMK15GMufNnswpxvS0cJwsf"
    },
    "kernelspec": {
      "name": "python3",
      "display_name": "Python 3"
    },
    "language_info": {
      "name": "python"
    }
  },
  "cells": [
    {
      "cell_type": "markdown",
      "source": [
        "[Reference](https://blog.sopherapps.com/how-to-do-dependency-injection-using-python-type-hints-35393728f880)"
      ],
      "metadata": {
        "id": "xvqTsl5HdY5Y"
      }
    },
    {
      "cell_type": "code",
      "source": [
        "pip install type_dep"
      ],
      "metadata": {
        "colab": {
          "base_uri": "https://localhost:8080/"
        },
        "id": "2au1b8uIdVx4",
        "outputId": "27dee650-6da6-4ce5-aad8-274119bf87dc"
      },
      "execution_count": 1,
      "outputs": [
        {
          "output_type": "stream",
          "name": "stdout",
          "text": [
            "Looking in indexes: https://pypi.org/simple, https://us-python.pkg.dev/colab-wheels/public/simple/\n",
            "Collecting type_dep\n",
            "  Downloading type_dep-0.0.1-py3-none-any.whl (4.3 kB)\n",
            "Installing collected packages: type-dep\n",
            "Successfully installed type-dep-0.0.1\n"
          ]
        }
      ]
    },
    {
      "cell_type": "code",
      "execution_count": 2,
      "metadata": {
        "colab": {
          "base_uri": "https://localhost:8080/"
        },
        "id": "KiL5sUU9dMoF",
        "outputId": "43c3334d-d6ad-48c7-b5df-f530c7d9f8d6"
      },
      "outputs": [
        {
          "output_type": "stream",
          "name": "stdout",
          "text": [
            "males: 6, females: 56, greeting: hey, a.name: Foo bar, b.sex: female\n",
            "\n",
            "{'name': 'Foo bar', 'sex': 'female'}\n"
          ]
        }
      ],
      "source": [
        "import os\n",
        "from type_dep import Dependency, dependencyinjected\n",
        "\n",
        "class A(Dependency):\n",
        "    def __init__(self, name: str):\n",
        "        self.name = name\n",
        "        \n",
        "    @classmethod\n",
        "    def instantiate(cls):\n",
        "        return A(os.environ.get(\"NAME\", \"Foo bar\"))\n",
        "\n",
        "class B(Dependency):\n",
        "\n",
        "    def __init__(self, sex: str):\n",
        "        self.sex = sex\n",
        "\n",
        "    @classmethod\n",
        "    def instantiate(cls):\n",
        "        return B(os.environ.get(\"SEX\", \"female\"))\n",
        "\n",
        "    @dependencyinjected\n",
        "    def get_detail(self, a: A):\n",
        "        return {\"name\": a.name, \"sex\": self.sex}\n",
        "\n",
        "@dependencyinjected\n",
        "def run(males: int, females: int, a: A, greeting: str, b: B):\n",
        "    print(f\"males: {males}, females: {females}, greeting: {greeting}, a.name: {a.name}, b.sex: {b.sex}\\n\")\n",
        "    print(b.get_detail())\n",
        "\n",
        "if __name__ == '__main__':\n",
        "    run(6, 56, greeting=\"hey\")"
      ]
    }
  ]
}
