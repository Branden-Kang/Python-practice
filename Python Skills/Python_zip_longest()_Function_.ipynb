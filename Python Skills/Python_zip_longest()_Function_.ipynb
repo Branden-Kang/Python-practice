{
  "nbformat": 4,
  "nbformat_minor": 0,
  "metadata": {
    "colab": {
      "name": "Python zip_longest() Function..ipynb",
      "provenance": [],
      "authorship_tag": "ABX9TyNzUfNwJ8SrPMsERkq8Z8Rx"
    },
    "kernelspec": {
      "name": "python3",
      "display_name": "Python 3"
    },
    "language_info": {
      "name": "python"
    }
  },
  "cells": [
    {
      "cell_type": "markdown",
      "metadata": {
        "id": "iHIi-YuONn7S"
      },
      "source": [
        "[Reference](https://email2shailabv.medium.com/python-zip-longest-function-4e339a899af9)"
      ]
    },
    {
      "cell_type": "code",
      "metadata": {
        "colab": {
          "base_uri": "https://localhost:8080/"
        },
        "id": "JcvCPUoeNO9U",
        "outputId": "7a802b30-4d1c-43bf-8e9d-30d72fcb973a"
      },
      "source": [
        "x = [1, 2, 3, 4, 5, 6]\n",
        "y = [7, 8, 9, 10]\n",
        "list(zip(x, y))"
      ],
      "execution_count": 1,
      "outputs": [
        {
          "output_type": "execute_result",
          "data": {
            "text/plain": [
              "[(1, 7), (2, 8), (3, 9), (4, 10)]"
            ]
          },
          "metadata": {
            "tags": []
          },
          "execution_count": 1
        }
      ]
    },
    {
      "cell_type": "code",
      "metadata": {
        "colab": {
          "base_uri": "https://localhost:8080/"
        },
        "id": "jRdl1o6qNWqT",
        "outputId": "e5352c1a-d39c-469a-c122-dc25d9acbbbc"
      },
      "source": [
        "from itertools import zip_longest\n",
        "list(zip_longest(x, y))"
      ],
      "execution_count": 2,
      "outputs": [
        {
          "output_type": "execute_result",
          "data": {
            "text/plain": [
              "[(1, 7), (2, 8), (3, 9), (4, 10), (5, None), (6, None)]"
            ]
          },
          "metadata": {
            "tags": []
          },
          "execution_count": 2
        }
      ]
    },
    {
      "cell_type": "code",
      "metadata": {
        "colab": {
          "base_uri": "https://localhost:8080/"
        },
        "id": "uCbBZmLcNbHP",
        "outputId": "0cd9b043-82a6-4575-fbb5-6da0655ef67e"
      },
      "source": [
        "list(zip_longest(x, y, fillvalue=1))"
      ],
      "execution_count": 3,
      "outputs": [
        {
          "output_type": "execute_result",
          "data": {
            "text/plain": [
              "[(1, 7), (2, 8), (3, 9), (4, 10), (5, 1), (6, 1)]"
            ]
          },
          "metadata": {
            "tags": []
          },
          "execution_count": 3
        }
      ]
    },
    {
      "cell_type": "code",
      "metadata": {
        "colab": {
          "base_uri": "https://localhost:8080/"
        },
        "id": "waJqIjlpNeY7",
        "outputId": "69a27ede-5c95-4b71-bc7d-4d85fcf40f88"
      },
      "source": [
        "list(zip_longest(x, y, fillvalue=1.5))"
      ],
      "execution_count": 4,
      "outputs": [
        {
          "output_type": "execute_result",
          "data": {
            "text/plain": [
              "[(1, 7), (2, 8), (3, 9), (4, 10), (5, 1.5), (6, 1.5)]"
            ]
          },
          "metadata": {
            "tags": []
          },
          "execution_count": 4
        }
      ]
    },
    {
      "cell_type": "code",
      "metadata": {
        "colab": {
          "base_uri": "https://localhost:8080/"
        },
        "id": "0kncNR9cNiYi",
        "outputId": "866e2de0-b5b6-4a5f-96fc-2404ea80e18e"
      },
      "source": [
        "list(zip_longest(x, y, fillvalue='Explore'))"
      ],
      "execution_count": 5,
      "outputs": [
        {
          "output_type": "execute_result",
          "data": {
            "text/plain": [
              "[(1, 7), (2, 8), (3, 9), (4, 10), (5, 'Explore'), (6, 'Explore')]"
            ]
          },
          "metadata": {
            "tags": []
          },
          "execution_count": 5
        }
      ]
    }
  ]
}