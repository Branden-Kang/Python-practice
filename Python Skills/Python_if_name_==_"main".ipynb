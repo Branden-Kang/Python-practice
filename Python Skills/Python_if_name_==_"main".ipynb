{
  "nbformat": 4,
  "nbformat_minor": 0,
  "metadata": {
    "colab": {
      "name": "Python: if name == \"main\".ipynb",
      "provenance": [],
      "authorship_tag": "ABX9TyNiOKxBis89TnZjV9m6z6V8"
    },
    "kernelspec": {
      "name": "python3",
      "display_name": "Python 3"
    }
  },
  "cells": [
    {
      "cell_type": "markdown",
      "metadata": {
        "id": "9j9sRNTKHiWe",
        "colab_type": "text"
      },
      "source": [
        "[Reference](https://medium.com/python-in-plain-english/python-if-name-main-c6c4381d86c9)"
      ]
    },
    {
      "cell_type": "code",
      "metadata": {
        "id": "ApGLQ8xYHhUJ",
        "colab_type": "code",
        "colab": {}
      },
      "source": [
        "def main():\n",
        "    print(2+2)"
      ],
      "execution_count": 1,
      "outputs": []
    },
    {
      "cell_type": "code",
      "metadata": {
        "id": "2S03_WdKHobB",
        "colab_type": "code",
        "colab": {
          "base_uri": "https://localhost:8080/",
          "height": 34
        },
        "outputId": "159abd2d-2d94-446c-8d0f-9baa0ca61c92"
      },
      "source": [
        "main()"
      ],
      "execution_count": 2,
      "outputs": [
        {
          "output_type": "stream",
          "text": [
            "4\n"
          ],
          "name": "stdout"
        }
      ]
    },
    {
      "cell_type": "code",
      "metadata": {
        "id": "IzMjESB7HpdF",
        "colab_type": "code",
        "colab": {
          "base_uri": "https://localhost:8080/",
          "height": 34
        },
        "outputId": "d7b5df1b-8397-4f58-ade1-2fb534182727"
      },
      "source": [
        "if __name__ == \"__main__\":\n",
        "    main()"
      ],
      "execution_count": 4,
      "outputs": [
        {
          "output_type": "stream",
          "text": [
            "4\n"
          ],
          "name": "stdout"
        }
      ]
    }
  ]
}