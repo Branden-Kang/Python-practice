{
  "nbformat": 4,
  "nbformat_minor": 0,
  "metadata": {
    "colab": {
      "provenance": [],
      "authorship_tag": "ABX9TyP5MFhWL1h62HA+Pce9qqYd"
    },
    "kernelspec": {
      "name": "python3",
      "display_name": "Python 3"
    },
    "language_info": {
      "name": "python"
    }
  },
  "cells": [
    {
      "cell_type": "markdown",
      "source": [
        "[Reference](https://anitaowens.medium.com/how-to-simulate-sales-data-in-python-67c0dd4dae56)"
      ],
      "metadata": {
        "id": "BxLUKWCAw5bJ"
      }
    },
    {
      "cell_type": "code",
      "execution_count": 1,
      "metadata": {
        "id": "Uo3Mo07kw0RQ"
      },
      "outputs": [],
      "source": [
        "#Import pandas and numpy\n",
        "import pandas as pd\n",
        "import numpy as np\n",
        "from numpy import random\n",
        "\n",
        "# From matplotlib, import pyplot under the alias plt\n",
        "from matplotlib import pyplot as plt\n",
        "\n",
        "#Import Seaborn\n",
        "import seaborn as sns\n",
        "\n",
        "#Import datetime for working with dates\n",
        "from datetime import datetime"
      ]
    },
    {
      "cell_type": "code",
      "source": [
        "#Set seed so that when reproducing the dataset, we get the same results.\n",
        "np.random.seed(90210)"
      ],
      "metadata": {
        "id": "VV7QERmpw7uc"
      },
      "execution_count": 2,
      "outputs": []
    },
    {
      "cell_type": "code",
      "source": [
        "#Create date sequence of 52 weeks using date_range function\n",
        "sales_date = pd.date_range('2019-01-01', periods=52, freq = 'W-MON')"
      ],
      "metadata": {
        "id": "Ey0eh7gOw81g"
      },
      "execution_count": 3,
      "outputs": []
    },
    {
      "cell_type": "code",
      "source": [
        "#Create weeks where there were promotions running. 10% likelihood of a promotion\n",
        "promotion = np.random.binomial(n=1, p=0.10, size=len(sales_date))"
      ],
      "metadata": {
        "id": "nEwUjRR5w-Bh"
      },
      "execution_count": 4,
      "outputs": []
    },
    {
      "cell_type": "code",
      "source": [
        "#Create a repeating list of 0's\n",
        "social = [0] * len(sales_date)"
      ],
      "metadata": {
        "id": "Y19CLSnWw_Su"
      },
      "execution_count": 5,
      "outputs": []
    },
    {
      "cell_type": "code",
      "source": [
        "import random #So as not to be confused with np.random\n",
        "np.random.seed(90210)\n",
        "\n",
        "prices_list = [4.50, 4.99]\n",
        "\n",
        "#Create price values\n",
        "price = random.choices(prices_list, k = len(sales_date))\n",
        "\n",
        "#Check output\n",
        "print(price)"
      ],
      "metadata": {
        "colab": {
          "base_uri": "https://localhost:8080/"
        },
        "id": "KSvtiH7wxAOD",
        "outputId": "4373527a-7f64-4765-9580-79f07843c8e7"
      },
      "execution_count": 6,
      "outputs": [
        {
          "output_type": "stream",
          "name": "stdout",
          "text": [
            "[4.5, 4.5, 4.99, 4.99, 4.5, 4.99, 4.99, 4.99, 4.99, 4.5, 4.5, 4.5, 4.99, 4.5, 4.99, 4.5, 4.5, 4.99, 4.99, 4.5, 4.99, 4.99, 4.99, 4.5, 4.5, 4.5, 4.5, 4.5, 4.5, 4.5, 4.5, 4.5, 4.99, 4.99, 4.5, 4.99, 4.99, 4.5, 4.99, 4.5, 4.5, 4.99, 4.5, 4.5, 4.5, 4.5, 4.99, 4.99, 4.5, 4.99, 4.99, 4.99]\n"
          ]
        }
      ]
    },
    {
      "cell_type": "code",
      "source": [
        "#Generate unit sales - poisson distribution\n",
        "temp_sales = np.random.poisson(size=len(sales_date), lam = 8300)\n",
        "\n",
        "#Check results\n",
        "print(temp_sales)"
      ],
      "metadata": {
        "colab": {
          "base_uri": "https://localhost:8080/"
        },
        "id": "nI9BEAepxDBs",
        "outputId": "de168eea-1d70-40ba-eec8-5b5f4699ed88"
      },
      "execution_count": 7,
      "outputs": [
        {
          "output_type": "stream",
          "name": "stdout",
          "text": [
            "[8211 8273 8337 8386 8285 8395 8239 8267 8272 8259 8418 8363 8191 8259\n",
            " 8228 8220 8504 8265 8397 8129 8372 8291 8337 8374 8307 8374 8294 8503\n",
            " 8276 8335 8423 8329 8289 8209 8378 8210 8311 8207 8348 8259 8386 8399\n",
            " 8227 8439 8171 8308 8276 8450 8267 8406 8237 8125]\n"
          ]
        }
      ]
    },
    {
      "cell_type": "code",
      "source": [
        "#Scale sales up according to price to follow a logarithmic function\n",
        "#Scale sales by multiplying sales by the log of price\n",
        "temp_sales = temp_sales * np.log(price)\n",
        "\n",
        "#Check output\n",
        "print(temp_sales)"
      ],
      "metadata": {
        "colab": {
          "base_uri": "https://localhost:8080/"
        },
        "id": "uO-fY0YAxFZF",
        "outputId": "a8d56259-da38-46b0-aa61-842222847ed1"
      },
      "execution_count": 8,
      "outputs": [
        {
          "output_type": "stream",
          "name": "stdout",
          "text": [
            "[12349.97950493 12443.23230353 13401.1931797  13479.95753928\n",
            " 12461.28123229 13494.42446246 13243.66446054 13288.67266601\n",
            " 13296.70984556 12422.17521998 12661.32352606 12578.59926924\n",
            " 13166.50753687 12422.17521998 13225.98266553 12363.5162015\n",
            " 12790.67418219 13285.45779419 13497.63933428 12226.64515839\n",
            " 13457.45343654 13327.25112785 13401.1931797  12595.1441206\n",
            " 12494.37093502 12595.1441206  12474.81792886 12789.17010479\n",
            " 12447.74453572 12536.48510213 12668.84391305 12527.46063775\n",
            " 13324.03625603 13195.44138325 12601.16043019 13197.04881916\n",
            " 13359.39984604 12343.96319534 13418.87497471 12422.17521998\n",
            " 12613.19304937 13500.8542061  12374.04474328 12692.90915139\n",
            " 12289.81640906 12495.87501242 13303.1395892  13582.8334375\n",
            " 12434.20783915 13512.10625747 13240.44958872 13060.41676683]\n"
          ]
        }
      ]
    },
    {
      "cell_type": "code",
      "source": [
        "#Add random seed\n",
        "np.random.seed(90210)\n",
        "\n",
        "#Add impact of increased sales due to week where a promotion was running\n",
        "unit_sales = np.floor(temp_sales * (1 + promotion * 0.30))\n",
        "\n",
        "#Check results\n",
        "print(unit_sales)"
      ],
      "metadata": {
        "colab": {
          "base_uri": "https://localhost:8080/"
        },
        "id": "IkUlxjsDxGbZ",
        "outputId": "7deb0735-3754-4d40-de95-fc0cb28b1e54"
      },
      "execution_count": 9,
      "outputs": [
        {
          "output_type": "stream",
          "name": "stdout",
          "text": [
            "[12349. 16176. 13401. 13479. 12461. 13494. 13243. 13288. 13296. 12422.\n",
            " 12661. 12578. 13166. 12422. 13225. 16072. 12790. 13285. 13497. 12226.\n",
            " 13457. 13327. 13401. 12595. 12494. 12595. 12474. 12789. 12447. 12536.\n",
            " 16469. 12527. 13324. 13195. 16381. 13197. 13359. 16047. 13418. 12422.\n",
            " 12613. 13500. 12374. 12692. 12289. 12495. 17294. 13582. 12434. 13512.\n",
            " 13240. 13060.]\n"
          ]
        }
      ]
    },
    {
      "cell_type": "code",
      "source": [
        "# Creating DataFrame\n",
        "# Can use the zip function to convert lists of rows into lists of columns\n",
        "df = pd.DataFrame(list(zip(sales_date, unit_sales, promotion, social, price)), columns = ['sales_date', 'unit_sales', 'promotion', 'social', 'price'])\n",
        "\n",
        "# displaying resulting DataFrame\n",
        "print(df)"
      ],
      "metadata": {
        "colab": {
          "base_uri": "https://localhost:8080/"
        },
        "id": "1yxKsEmTxIC2",
        "outputId": "6d9997ce-6670-4859-9846-908709c791b4"
      },
      "execution_count": 10,
      "outputs": [
        {
          "output_type": "stream",
          "name": "stdout",
          "text": [
            "   sales_date  unit_sales  promotion  social  price\n",
            "0  2019-01-07     12349.0          0       0   4.50\n",
            "1  2019-01-14     16176.0          1       0   4.50\n",
            "2  2019-01-21     13401.0          0       0   4.99\n",
            "3  2019-01-28     13479.0          0       0   4.99\n",
            "4  2019-02-04     12461.0          0       0   4.50\n",
            "5  2019-02-11     13494.0          0       0   4.99\n",
            "6  2019-02-18     13243.0          0       0   4.99\n",
            "7  2019-02-25     13288.0          0       0   4.99\n",
            "8  2019-03-04     13296.0          0       0   4.99\n",
            "9  2019-03-11     12422.0          0       0   4.50\n",
            "10 2019-03-18     12661.0          0       0   4.50\n",
            "11 2019-03-25     12578.0          0       0   4.50\n",
            "12 2019-04-01     13166.0          0       0   4.99\n",
            "13 2019-04-08     12422.0          0       0   4.50\n",
            "14 2019-04-15     13225.0          0       0   4.99\n",
            "15 2019-04-22     16072.0          1       0   4.50\n",
            "16 2019-04-29     12790.0          0       0   4.50\n",
            "17 2019-05-06     13285.0          0       0   4.99\n",
            "18 2019-05-13     13497.0          0       0   4.99\n",
            "19 2019-05-20     12226.0          0       0   4.50\n",
            "20 2019-05-27     13457.0          0       0   4.99\n",
            "21 2019-06-03     13327.0          0       0   4.99\n",
            "22 2019-06-10     13401.0          0       0   4.99\n",
            "23 2019-06-17     12595.0          0       0   4.50\n",
            "24 2019-06-24     12494.0          0       0   4.50\n",
            "25 2019-07-01     12595.0          0       0   4.50\n",
            "26 2019-07-08     12474.0          0       0   4.50\n",
            "27 2019-07-15     12789.0          0       0   4.50\n",
            "28 2019-07-22     12447.0          0       0   4.50\n",
            "29 2019-07-29     12536.0          0       0   4.50\n",
            "30 2019-08-05     16469.0          1       0   4.50\n",
            "31 2019-08-12     12527.0          0       0   4.50\n",
            "32 2019-08-19     13324.0          0       0   4.99\n",
            "33 2019-08-26     13195.0          0       0   4.99\n",
            "34 2019-09-02     16381.0          1       0   4.50\n",
            "35 2019-09-09     13197.0          0       0   4.99\n",
            "36 2019-09-16     13359.0          0       0   4.99\n",
            "37 2019-09-23     16047.0          1       0   4.50\n",
            "38 2019-09-30     13418.0          0       0   4.99\n",
            "39 2019-10-07     12422.0          0       0   4.50\n",
            "40 2019-10-14     12613.0          0       0   4.50\n",
            "41 2019-10-21     13500.0          0       0   4.99\n",
            "42 2019-10-28     12374.0          0       0   4.50\n",
            "43 2019-11-04     12692.0          0       0   4.50\n",
            "44 2019-11-11     12289.0          0       0   4.50\n",
            "45 2019-11-18     12495.0          0       0   4.50\n",
            "46 2019-11-25     17294.0          1       0   4.99\n",
            "47 2019-12-02     13582.0          0       0   4.99\n",
            "48 2019-12-09     12434.0          0       0   4.50\n",
            "49 2019-12-16     13512.0          0       0   4.99\n",
            "50 2019-12-23     13240.0          0       0   4.99\n",
            "51 2019-12-30     13060.0          0       0   4.99\n"
          ]
        }
      ]
    },
    {
      "cell_type": "code",
      "source": [
        "#Select and replace values between dates (We have 2 date ranges were we spent different amounts)\n",
        "df.loc[(df['sales_date'] >= '2019-07-01') & (df['sales_date'] <= '2019-09-09'), 'social'] = 350\n",
        "df.loc[(df['sales_date'] >= '2019-12-02') & (df['sales_date'] <= '2019-12-23'), 'social'] = 200\n",
        "print(df)"
      ],
      "metadata": {
        "colab": {
          "base_uri": "https://localhost:8080/"
        },
        "id": "qYOayB_gxJvJ",
        "outputId": "856062d6-359f-4fab-ca70-4e0e7aab45b3"
      },
      "execution_count": 11,
      "outputs": [
        {
          "output_type": "stream",
          "name": "stdout",
          "text": [
            "   sales_date  unit_sales  promotion  social  price\n",
            "0  2019-01-07     12349.0          0       0   4.50\n",
            "1  2019-01-14     16176.0          1       0   4.50\n",
            "2  2019-01-21     13401.0          0       0   4.99\n",
            "3  2019-01-28     13479.0          0       0   4.99\n",
            "4  2019-02-04     12461.0          0       0   4.50\n",
            "5  2019-02-11     13494.0          0       0   4.99\n",
            "6  2019-02-18     13243.0          0       0   4.99\n",
            "7  2019-02-25     13288.0          0       0   4.99\n",
            "8  2019-03-04     13296.0          0       0   4.99\n",
            "9  2019-03-11     12422.0          0       0   4.50\n",
            "10 2019-03-18     12661.0          0       0   4.50\n",
            "11 2019-03-25     12578.0          0       0   4.50\n",
            "12 2019-04-01     13166.0          0       0   4.99\n",
            "13 2019-04-08     12422.0          0       0   4.50\n",
            "14 2019-04-15     13225.0          0       0   4.99\n",
            "15 2019-04-22     16072.0          1       0   4.50\n",
            "16 2019-04-29     12790.0          0       0   4.50\n",
            "17 2019-05-06     13285.0          0       0   4.99\n",
            "18 2019-05-13     13497.0          0       0   4.99\n",
            "19 2019-05-20     12226.0          0       0   4.50\n",
            "20 2019-05-27     13457.0          0       0   4.99\n",
            "21 2019-06-03     13327.0          0       0   4.99\n",
            "22 2019-06-10     13401.0          0       0   4.99\n",
            "23 2019-06-17     12595.0          0       0   4.50\n",
            "24 2019-06-24     12494.0          0       0   4.50\n",
            "25 2019-07-01     12595.0          0     350   4.50\n",
            "26 2019-07-08     12474.0          0     350   4.50\n",
            "27 2019-07-15     12789.0          0     350   4.50\n",
            "28 2019-07-22     12447.0          0     350   4.50\n",
            "29 2019-07-29     12536.0          0     350   4.50\n",
            "30 2019-08-05     16469.0          1     350   4.50\n",
            "31 2019-08-12     12527.0          0     350   4.50\n",
            "32 2019-08-19     13324.0          0     350   4.99\n",
            "33 2019-08-26     13195.0          0     350   4.99\n",
            "34 2019-09-02     16381.0          1     350   4.50\n",
            "35 2019-09-09     13197.0          0     350   4.99\n",
            "36 2019-09-16     13359.0          0       0   4.99\n",
            "37 2019-09-23     16047.0          1       0   4.50\n",
            "38 2019-09-30     13418.0          0       0   4.99\n",
            "39 2019-10-07     12422.0          0       0   4.50\n",
            "40 2019-10-14     12613.0          0       0   4.50\n",
            "41 2019-10-21     13500.0          0       0   4.99\n",
            "42 2019-10-28     12374.0          0       0   4.50\n",
            "43 2019-11-04     12692.0          0       0   4.50\n",
            "44 2019-11-11     12289.0          0       0   4.50\n",
            "45 2019-11-18     12495.0          0       0   4.50\n",
            "46 2019-11-25     17294.0          1       0   4.99\n",
            "47 2019-12-02     13582.0          0     200   4.99\n",
            "48 2019-12-09     12434.0          0     200   4.50\n",
            "49 2019-12-16     13512.0          0     200   4.99\n",
            "50 2019-12-23     13240.0          0     200   4.99\n",
            "51 2019-12-30     13060.0          0       0   4.99\n"
          ]
        }
      ]
    },
    {
      "cell_type": "code",
      "source": [
        "#Descriptive statistics\n",
        "print(df.describe())"
      ],
      "metadata": {
        "colab": {
          "base_uri": "https://localhost:8080/"
        },
        "id": "IN_ReoX-xLiE",
        "outputId": "85e8d6c9-a344-4d83-fa31-aebe90a53278"
      },
      "execution_count": 12,
      "outputs": [
        {
          "output_type": "stream",
          "name": "stdout",
          "text": [
            "         unit_sales  promotion      social      price\n",
            "count     52.000000  52.000000   52.000000  52.000000\n",
            "mean   13328.269231   0.115385   89.423077   4.726154\n",
            "std     1206.786514   0.322603  146.306333   0.246657\n",
            "min    12226.000000   0.000000    0.000000   4.500000\n",
            "25%    12519.000000   0.000000    0.000000   4.500000\n",
            "50%    13196.000000   0.000000    0.000000   4.500000\n",
            "75%    13427.750000   0.000000  200.000000   4.990000\n",
            "max    17294.000000   1.000000  350.000000   4.990000\n"
          ]
        }
      ]
    },
    {
      "cell_type": "code",
      "source": [
        "# Set the color palette\n",
        "sns.set_palette(sns.color_palette(\"vlag\"))\n",
        "\n",
        "#Initialize subplots with number of rows and number of columns\n",
        "figure, ax = plt.subplots(nrows = 2, ncols = 2)\n",
        "\n",
        "#Get readable axis labels for plot 1 which has a date on the x-axis(time series plot)\n",
        "plt.sca(ax[0, 0])\n",
        "plt.xticks(rotation=45, fontsize = 8)\n",
        "#plt.xticks([]) #This disables the x-ticks (uncomment and run if you prefer the x-axis to be blank)\n",
        "\n",
        "#See the distribution of the data\n",
        "sns.lineplot(data=df, x=\"sales_date\",y=\"unit_sales\", ax=ax[0,0])\n",
        "sns.boxplot(data=df, x=\"promotion\", y=\"unit_sales\", ax=ax[0,1])\n",
        "sns.scatterplot(data=df, x=\"social\", y=\"unit_sales\", ax=ax[1,1])\n",
        "sns.violinplot(data=df, x=\"price\", y=\"unit_sales\", ax=ax[1,0])\n",
        "\n",
        "#Gives a tidy layout\n",
        "plt.tight_layout()\n",
        "\n",
        "#Show plot\n",
        "plt.show()"
      ],
      "metadata": {
        "colab": {
          "base_uri": "https://localhost:8080/",
          "height": 297
        },
        "id": "OTHTKpMbxNBY",
        "outputId": "19b2aad2-3b09-4120-c614-74990321890a"
      },
      "execution_count": 13,
      "outputs": [
        {
          "output_type": "display_data",
          "data": {
            "text/plain": [
              "<Figure size 432x288 with 4 Axes>"
            ],
            "image/png": "[encoded data removed]"
          },
          "metadata": {
            "needs_background": "light"
          }
        }
      ]
    },
    {
      "cell_type": "code",
      "source": [
        "#Correlation Plot Matrix\n",
        "#Pearson is the default correlation method that is used for normally distributed data\n",
        "corr = df.corr(method = \"pearson\")\n",
        "\n",
        "corr.style.background_gradient(cmap='RdBu')"
      ],
      "metadata": {
        "colab": {
          "base_uri": "https://localhost:8080/",
          "height": 173
        },
        "id": "FkcsHsCBxPGc",
        "outputId": "444ca0c8-04e9-49c6-8b1f-850a9678d6c6"
      },
      "execution_count": 14,
      "outputs": [
        {
          "output_type": "execute_result",
          "data": {
            "text/plain": [
              "<pandas.io.formats.style.Styler at 0x7f7744069b50>"
            ],
            "text/html": [
              "<style type=\"text/css\">\n",
              "#T_60354_row0_col0, #T_60354_row1_col1, #T_60354_row2_col2, #T_60354_row3_col3 {\n",
              "  background-color: #053061;\n",
              "  color: #f1f1f1;\n",
              "}\n",
              "#T_60354_row0_col1 {\n",
              "  background-color: #144e8a;\n",
              "  color: #f1f1f1;\n",
              "}\n",
              "#T_60354_row0_col2 {\n",
              "  background-color: #c43b3c;\n",
              "  color: #f1f1f1;\n",
              "}\n",
              "#T_60354_row0_col3 {\n",
              "  background-color: #f19e7d;\n",
              "  color: #000000;\n",
              "}\n",
              "#T_60354_row1_col0 {\n",
              "  background-color: #195696;\n",
              "  color: #f1f1f1;\n",
              "}\n",
              "#T_60354_row1_col2 {\n",
              "  background-color: #ce4f45;\n",
              "  color: #f1f1f1;\n",
              "}\n",
              "#T_60354_row1_col3, #T_60354_row2_col0, #T_60354_row3_col1, #T_60354_row3_col2 {\n",
              "  background-color: #67001f;\n",
              "  color: #f1f1f1;\n",
              "}\n",
              "#T_60354_row2_col1 {\n",
              "  background-color: #df765e;\n",
              "  color: #f1f1f1;\n",
              "}\n",
              "#T_60354_row2_col3 {\n",
              "  background-color: #991027;\n",
              "  color: #f1f1f1;\n",
              "}\n",
              "#T_60354_row3_col0 {\n",
              "  background-color: #b41c2d;\n",
              "  color: #f1f1f1;\n",
              "}\n",
              "</style>\n",
              "<table id=\"T_60354_\" class=\"dataframe\">\n",
              "  <thead>\n",
              "    <tr>\n",
              "      <th class=\"blank level0\" >&nbsp;</th>\n",
              "      <th class=\"col_heading level0 col0\" >unit_sales</th>\n",
              "      <th class=\"col_heading level0 col1\" >promotion</th>\n",
              "      <th class=\"col_heading level0 col2\" >social</th>\n",
              "      <th class=\"col_heading level0 col3\" >price</th>\n",
              "    </tr>\n",
              "  </thead>\n",
              "  <tbody>\n",
              "    <tr>\n",
              "      <th id=\"T_60354_level0_row0\" class=\"row_heading level0 row0\" >unit_sales</th>\n",
              "      <td id=\"T_60354_row0_col0\" class=\"data row0 col0\" >1.000000</td>\n",
              "      <td id=\"T_60354_row0_col1\" class=\"data row0 col1\" >0.930216</td>\n",
              "      <td id=\"T_60354_row0_col2\" class=\"data row0 col2\" >0.039319</td>\n",
              "      <td id=\"T_60354_row0_col3\" class=\"data row0 col3\" >0.140780</td>\n",
              "    </tr>\n",
              "    <tr>\n",
              "      <th id=\"T_60354_level0_row1\" class=\"row_heading level0 row1\" >promotion</th>\n",
              "      <td id=\"T_60354_row1_col0\" class=\"data row1 col0\" >0.930216</td>\n",
              "      <td id=\"T_60354_row1_col1\" class=\"data row1 col1\" >1.000000</td>\n",
              "      <td id=\"T_60354_row1_col2\" class=\"data row1 col2\" >0.067907</td>\n",
              "      <td id=\"T_60354_row1_col3\" class=\"data row1 col3\" >-0.213623</td>\n",
              "    </tr>\n",
              "    <tr>\n",
              "      <th id=\"T_60354_level0_row2\" class=\"row_heading level0 row2\" >social</th>\n",
              "      <td id=\"T_60354_row2_col0\" class=\"data row2 col0\" >0.039319</td>\n",
              "      <td id=\"T_60354_row2_col1\" class=\"data row2 col1\" >0.067907</td>\n",
              "      <td id=\"T_60354_row2_col2\" class=\"data row2 col2\" >1.000000</td>\n",
              "      <td id=\"T_60354_row2_col3\" class=\"data row2 col3\" >-0.132095</td>\n",
              "    </tr>\n",
              "    <tr>\n",
              "      <th id=\"T_60354_level0_row3\" class=\"row_heading level0 row3\" >price</th>\n",
              "      <td id=\"T_60354_row3_col0\" class=\"data row3 col0\" >0.140780</td>\n",
              "      <td id=\"T_60354_row3_col1\" class=\"data row3 col1\" >-0.213623</td>\n",
              "      <td id=\"T_60354_row3_col2\" class=\"data row3 col2\" >-0.132095</td>\n",
              "      <td id=\"T_60354_row3_col3\" class=\"data row3 col3\" >1.000000</td>\n",
              "    </tr>\n",
              "  </tbody>\n",
              "</table>\n"
            ]
          },
          "metadata": {},
          "execution_count": 14
        }
      ]
    },
    {
      "cell_type": "code",
      "source": [
        "#Using to_excel from pandas\n",
        "#https://pandas.pydata.org/docs/reference/api/pandas.DataFrame.to_excel.html#\n",
        "df.to_excel(\"weekly_sales_data.xlsx\", sheet_name='Sheet1')\n",
        "\n",
        "##Check if files exist in directory we designated above using os package (If created successfully, will return TRUE)\n",
        "import os\n",
        "os.path.isfile(\"weekly_sales_data.xlsx\")"
      ],
      "metadata": {
        "colab": {
          "base_uri": "https://localhost:8080/"
        },
        "id": "82ekFnvGxQqf",
        "outputId": "da03bcfa-2d1a-4d3c-fabb-15c96f481366"
      },
      "execution_count": 16,
      "outputs": [
        {
          "output_type": "execute_result",
          "data": {
            "text/plain": [
              "True"
            ]
          },
          "metadata": {},
          "execution_count": 16
        }
      ]
    }
  ]
}
