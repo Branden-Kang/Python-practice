{
  "nbformat": 4,
  "nbformat_minor": 0,
  "metadata": {
    "colab": {
      "provenance": [],
      "authorship_tag": "ABX9TyNABNinY3UUQgdMtVyXe41E"
    },
    "kernelspec": {
      "name": "python3",
      "display_name": "Python 3"
    },
    "language_info": {
      "name": "python"
    }
  },
  "cells": [
    {
      "cell_type": "markdown",
      "source": [
        "[Reference](https://muhammadanas0716.medium.com/tuples-advanced-python-part-2-1398d7b3f385)"
      ],
      "metadata": {
        "id": "pxhJwAcvut5L"
      }
    },
    {
      "cell_type": "code",
      "execution_count": 1,
      "metadata": {
        "id": "RlDZfomguqfC"
      },
      "outputs": [],
      "source": [
        "my_tuple = (\"Max\", 28, \"New York\")"
      ]
    },
    {
      "cell_type": "markdown",
      "source": [
        "# Creating Tuples\n"
      ],
      "metadata": {
        "id": "0BPavx5Uu5uV"
      }
    },
    {
      "cell_type": "code",
      "source": [
        "tuple_1 = (\"Max\", 28, \"New York\")\n",
        "tuple_2 = \"Linda\", 25, \"Miami\" # Parentheses are optional"
      ],
      "metadata": {
        "id": "m9mkA-MWuxc9"
      },
      "execution_count": 2,
      "outputs": []
    },
    {
      "cell_type": "code",
      "source": [
        "tuple_3 = (25,)\n",
        "print(tuple_1)  # ('Max', 28, 'New York')\n",
        "print(tuple_2) # ('Linda', 25, 'Miami')\n",
        "print(tuple_3) # (25,)"
      ],
      "metadata": {
        "colab": {
          "base_uri": "https://localhost:8080/"
        },
        "id": "Nt3lfO0Wuyak",
        "outputId": "642e22aa-1328-44fd-99b0-769fc8bc2396"
      },
      "execution_count": 3,
      "outputs": [
        {
          "output_type": "stream",
          "name": "stdout",
          "text": [
            "('Max', 28, 'New York')\n",
            "('Linda', 25, 'Miami')\n",
            "(25,)\n"
          ]
        }
      ]
    },
    {
      "cell_type": "code",
      "source": [
        "tuple_4 = tuple([1,2,3])\n",
        "print(tuple_4) # (1, 2, 3)"
      ],
      "metadata": {
        "colab": {
          "base_uri": "https://localhost:8080/"
        },
        "id": "vf1BrvN-uzxm",
        "outputId": "c68a77fd-706a-4488-893f-9a4ce1eed77a"
      },
      "execution_count": 4,
      "outputs": [
        {
          "output_type": "stream",
          "name": "stdout",
          "text": [
            "(1, 2, 3)\n"
          ]
        }
      ]
    },
    {
      "cell_type": "markdown",
      "source": [
        "# Accessing Elements, let’s catch em!\n"
      ],
      "metadata": {
        "id": "SGrioV_du4JE"
      }
    },
    {
      "cell_type": "code",
      "source": [
        "item = tuple_1[0]\n",
        "print(item) # Max"
      ],
      "metadata": {
        "colab": {
          "base_uri": "https://localhost:8080/"
        },
        "id": "3_Y5VdE5u0hV",
        "outputId": "ecfdc7a0-07ec-4eeb-9253-4581816da3dc"
      },
      "execution_count": 5,
      "outputs": [
        {
          "output_type": "stream",
          "name": "stdout",
          "text": [
            "Max\n"
          ]
        }
      ]
    },
    {
      "cell_type": "code",
      "source": [
        "item = tuple_1[-1]\n",
        "print(item) # New York"
      ],
      "metadata": {
        "colab": {
          "base_uri": "https://localhost:8080/"
        },
        "id": "1gPE99Hvu2kG",
        "outputId": "a0b93956-c0fe-4577-b639-aba8e04137b8"
      },
      "execution_count": 6,
      "outputs": [
        {
          "output_type": "stream",
          "name": "stdout",
          "text": [
            "New York\n"
          ]
        }
      ]
    },
    {
      "cell_type": "code",
      "source": [
        "# tuple_1[2] = \"Boston\"\n",
        "\n",
        "# # Output\n",
        "# # ---------------------------------------------------------------------------\n",
        "# # TypeError                                 Traceback (most recent call last)\n",
        "# # <ipython-input-7-c391d8981369> in <module>\n",
        "# # ----> 1 tuple_1[2] = \"Boston\"\n",
        "\n",
        "# # TypeError: 'tuple' object does not support item assignment"
      ],
      "metadata": {
        "id": "O8_qYmkyu2sW"
      },
      "execution_count": 7,
      "outputs": []
    },
    {
      "cell_type": "markdown",
      "source": [
        "# Deleting a Tuple\n"
      ],
      "metadata": {
        "id": "_d3kPQgavEe-"
      }
    },
    {
      "cell_type": "code",
      "source": [
        "del tuple_2 # This will delete tuple_2"
      ],
      "metadata": {
        "id": "_1NL4vfpu-Ro"
      },
      "execution_count": 8,
      "outputs": []
    },
    {
      "cell_type": "markdown",
      "source": [
        "# Iterating\n"
      ],
      "metadata": {
        "id": "1WSVWWzBvH1E"
      }
    },
    {
      "cell_type": "code",
      "source": [
        "for i in tuple_1:\n",
        "    print(i)"
      ],
      "metadata": {
        "colab": {
          "base_uri": "https://localhost:8080/"
        },
        "id": "h0Nb0oMzvHip",
        "outputId": "e5fecfbd-352b-4c6b-b254-5ef635743a95"
      },
      "execution_count": 9,
      "outputs": [
        {
          "output_type": "stream",
          "name": "stdout",
          "text": [
            "Max\n",
            "28\n",
            "New York\n"
          ]
        }
      ]
    },
    {
      "cell_type": "markdown",
      "source": [
        "# Check the existence of an item!\n"
      ],
      "metadata": {
        "id": "I0DwSZ4dvKxy"
      }
    },
    {
      "cell_type": "code",
      "source": [
        "if \"New York\" in tuple_1:\n",
        "    print(\"yes\")\n",
        "else:\n",
        "    print(\"no\")"
      ],
      "metadata": {
        "colab": {
          "base_uri": "https://localhost:8080/"
        },
        "id": "TZyWORYYvKR3",
        "outputId": "1b2fe1d5-27c5-4ea3-ed1c-8f5bc79b051d"
      },
      "execution_count": 10,
      "outputs": [
        {
          "output_type": "stream",
          "name": "stdout",
          "text": [
            "yes\n"
          ]
        }
      ]
    },
    {
      "cell_type": "markdown",
      "source": [
        "# Worthwhile Tuple Methods"
      ],
      "metadata": {
        "id": "xjTYPr1UvOMU"
      }
    },
    {
      "cell_type": "code",
      "source": [
        "my_tuple = ('a','p','p','l','e',)\n",
        "# len() : get the number of elements in a tuple\n",
        "print(len(my_tuple)) \n",
        "\n",
        "# count(x) : Return the number of items that is equal to x\n",
        "print(my_tuple.count('p')) \n",
        "\n",
        "# index(x) : Return index of first item that is equal to x\n",
        "print(my_tuple.index('l'))\n",
        "\n",
        "# repetition\n",
        "my_tuple = ('a', 'b') * 5\n",
        "print(my_tuple) \n",
        "\n",
        "# concatenation\n",
        "my_tuple = (1,2,3) + (4,5,6)\n",
        "print(my_tuple) \n",
        "\n",
        "# convert list to a tuple and vice versa\n",
        "my_list = ['a', 'b', 'c', 'd']\n",
        "list_to_tuple = tuple(my_list)\n",
        "print(list_to_tuple) \n",
        "\n",
        "tuple_to_list = list(list_to_tuple)\n",
        "print(tuple_to_list) \n",
        "\n",
        "# convert string to tuple\n",
        "string_to_tuple = tuple('Hello')\n",
        "print(string_to_tuple)"
      ],
      "metadata": {
        "colab": {
          "base_uri": "https://localhost:8080/"
        },
        "id": "U1YsbhMevNrQ",
        "outputId": "f5f70805-16cc-4d2b-beb2-00b6dd268417"
      },
      "execution_count": 11,
      "outputs": [
        {
          "output_type": "stream",
          "name": "stdout",
          "text": [
            "5\n",
            "2\n",
            "3\n",
            "('a', 'b', 'a', 'b', 'a', 'b', 'a', 'b', 'a', 'b')\n",
            "(1, 2, 3, 4, 5, 6)\n",
            "('a', 'b', 'c', 'd')\n",
            "['a', 'b', 'c', 'd']\n",
            "('H', 'e', 'l', 'l', 'o')\n"
          ]
        }
      ]
    },
    {
      "cell_type": "markdown",
      "source": [
        "# Slicing"
      ],
      "metadata": {
        "id": "4uvsYNtWvXPu"
      }
    },
    {
      "cell_type": "code",
      "source": [
        "# a[start:stop:step], default step is 1\n",
        "a = (1, 2, 3, 4, 5, 6, 7, 8, 9, 10)\n",
        "b = a[1:3] # Note that the last index **(n-1)** is not included\n",
        "print(b)\n",
        "b = a[2:] # From 2nd index till the last index\n",
        "print(b)\n",
        "b = a[:3]  # From beginning till the 2nd index\n",
        "print(b)\n",
        "b = a[::2] # Start to end with every second item\n",
        "print(b)\n",
        "b = a[::-1] # Reverse the Tuple\n",
        "print(b)"
      ],
      "metadata": {
        "colab": {
          "base_uri": "https://localhost:8080/"
        },
        "id": "kL3luhP-vV6M",
        "outputId": "4049d857-b024-4852-a259-3c40abb40ef2"
      },
      "execution_count": 12,
      "outputs": [
        {
          "output_type": "stream",
          "name": "stdout",
          "text": [
            "(2, 3)\n",
            "(3, 4, 5, 6, 7, 8, 9, 10)\n",
            "(1, 2, 3)\n",
            "(1, 3, 5, 7, 9)\n",
            "(10, 9, 8, 7, 6, 5, 4, 3, 2, 1)\n"
          ]
        }
      ]
    },
    {
      "cell_type": "markdown",
      "source": [
        "# Unpacking Tuples\n"
      ],
      "metadata": {
        "id": "gVDc5xa6vc44"
      }
    },
    {
      "cell_type": "code",
      "source": [
        "tuple_1 = (\"Max\", 28, \"New York\")\n",
        "name, age, city = tuple_1\n",
        "print(name) # Max\n",
        "print(age) # 28\n",
        "print(city) # New York"
      ],
      "metadata": {
        "colab": {
          "base_uri": "https://localhost:8080/"
        },
        "id": "tJ1KTQuSvbrf",
        "outputId": "149146b4-3e72-4b60-9772-8baeb84814f4"
      },
      "execution_count": 13,
      "outputs": [
        {
          "output_type": "stream",
          "name": "stdout",
          "text": [
            "Max\n",
            "28\n",
            "New York\n"
          ]
        }
      ]
    },
    {
      "cell_type": "code",
      "source": [
        "my_tuple = (0, 1, 2, 3, 4, 5)\n",
        "item_first, *items_between, item_last = my_tuple\n",
        "print(item_first) # 0\n",
        "print(items_between) # [1, 2, 3, 4]\n",
        "print(item_last) # 5"
      ],
      "metadata": {
        "colab": {
          "base_uri": "https://localhost:8080/"
        },
        "id": "iiRPTKaQvfHo",
        "outputId": "9e064795-480a-46c0-8c5a-6c3cbe6147ec"
      },
      "execution_count": 14,
      "outputs": [
        {
          "output_type": "stream",
          "name": "stdout",
          "text": [
            "0\n",
            "[1, 2, 3, 4]\n",
            "5\n"
          ]
        }
      ]
    },
    {
      "cell_type": "markdown",
      "source": [
        "# Nested tuples\n"
      ],
      "metadata": {
        "id": "-PKYvtIDvgaM"
      }
    },
    {
      "cell_type": "code",
      "source": [
        "a = ((0, 1), ('age', 'height'))\n",
        "print(a) # ((0, 1), ('age', 'height'))\n",
        "print(a[0]) # (0, 1)"
      ],
      "metadata": {
        "colab": {
          "base_uri": "https://localhost:8080/"
        },
        "id": "8SL2xvqJvfdv",
        "outputId": "f87f3d71-9335-4ae8-e651-97aaea8190c1"
      },
      "execution_count": 15,
      "outputs": [
        {
          "output_type": "stream",
          "name": "stdout",
          "text": [
            "((0, 1), ('age', 'height'))\n",
            "(0, 1)\n"
          ]
        }
      ]
    },
    {
      "cell_type": "markdown",
      "source": [
        "# Tuple VS List\n"
      ],
      "metadata": {
        "id": "fBU1VmpGviu6"
      }
    },
    {
      "cell_type": "code",
      "source": [
        "import sys\n",
        "my_list = [0, 1, 2, \"hello\", True]\n",
        "my_tuple = (0, 1, 2, \"hello\", True)\n",
        "print(sys.getsizeof(my_list), \"bytes\") \n",
        "print(sys.getsizeof(my_tuple), \"bytes\")"
      ],
      "metadata": {
        "colab": {
          "base_uri": "https://localhost:8080/"
        },
        "id": "NpfABjHtvht-",
        "outputId": "b5df5c4f-9f79-4f2d-abf7-9a3fe5d2a21c"
      },
      "execution_count": 16,
      "outputs": [
        {
          "output_type": "stream",
          "name": "stdout",
          "text": [
            "96 bytes\n",
            "80 bytes\n"
          ]
        }
      ]
    },
    {
      "cell_type": "code",
      "source": [
        "import timeit\n",
        "print(timeit.timeit(stmt=\"[0, 1, 2, 3, 4, 5]\", number=1000000))\n",
        "print(timeit.timeit(stmt=\"(0, 1, 2, 3, 4, 5)\", number=1000000))"
      ],
      "metadata": {
        "colab": {
          "base_uri": "https://localhost:8080/"
        },
        "id": "65Rk1qwdvkYD",
        "outputId": "362f2424-61ec-4954-e84d-1036fb472947"
      },
      "execution_count": 17,
      "outputs": [
        {
          "output_type": "stream",
          "name": "stdout",
          "text": [
            "0.2422974450000197\n",
            "0.026282993999984683\n"
          ]
        }
      ]
    }
  ]
}
