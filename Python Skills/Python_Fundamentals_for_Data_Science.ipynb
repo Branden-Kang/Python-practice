{
  "nbformat": 4,
  "nbformat_minor": 0,
  "metadata": {
    "colab": {
      "name": "Python Fundamentals for Data Science.ipynb",
      "provenance": [],
      "authorship_tag": "ABX9TyPI+Rv3GFV6e623b7wTpKfQ"
    },
    "kernelspec": {
      "name": "python3",
      "display_name": "Python 3"
    },
    "language_info": {
      "name": "python"
    }
  },
  "cells": [
    {
      "cell_type": "markdown",
      "metadata": {
        "id": "FaGkY4QfLCqh"
      },
      "source": [
        "[Reference](https://medium.com/analytics-vidhya/python-fundamentals-for-data-science-7b11745a6414)"
      ]
    },
    {
      "cell_type": "code",
      "metadata": {
        "colab": {
          "base_uri": "https://localhost:8080/"
        },
        "id": "bTqm7DIOKRx3",
        "outputId": "ccf7de67-7d24-45bd-8dfc-ce4df72319f7"
      },
      "source": [
        "content = [\"Variables\", \"Data Structures\", \"Conditional Statements\", \"Iterations\", \"Functions\", \"Lambda Expressions\", \"OOP\"]\n",
        "covered = []\n",
        "\n",
        "print(\"All Topics: {}\".format(content))\n",
        "\n",
        "def check_list():\n",
        "    if len(covered) == 0:\n",
        "        return \"No topic covered yet\"\n",
        "    else:\n",
        "        return covered\n",
        "        \n",
        "def update_list(topic):\n",
        "    covered.append(topic)\n",
        "    return covered\n",
        "    \n",
        "def alter_content(topic):\n",
        "    if topic in content:\n",
        "        content.remove(topic)\n",
        "        print(\"\\nCovered: {}\\nCurrent Topic: {}\\n\".format   \n",
        "     (check_list(), topic))\n",
        "        update_list(topic)\n",
        "    else:\n",
        "        print(\"Topic is not part of the content\")"
      ],
      "execution_count": 2,
      "outputs": [
        {
          "output_type": "stream",
          "text": [
            "All Topics: ['Variables', 'Data Structures', 'Conditional Statements', 'Iterations', 'Functions', 'Lambda Expressions', 'OOP']\n"
          ],
          "name": "stdout"
        }
      ]
    },
    {
      "cell_type": "code",
      "metadata": {
        "colab": {
          "base_uri": "https://localhost:8080/"
        },
        "id": "-TgAqF80LHSE",
        "outputId": "147c6fe8-a9a7-4ba8-9846-a1479f6959d8"
      },
      "source": [
        "alter_content(\"Variables\")"
      ],
      "execution_count": 3,
      "outputs": [
        {
          "output_type": "stream",
          "text": [
            "\n",
            "Covered: No topic covered yet\n",
            "Current Topic: Variables\n",
            "\n"
          ],
          "name": "stdout"
        }
      ]
    },
    {
      "cell_type": "code",
      "metadata": {
        "colab": {
          "base_uri": "https://localhost:8080/"
        },
        "id": "EmCoV4a_LMYE",
        "outputId": "aa662b48-5c35-42a9-ed4d-7bd98fd4428e"
      },
      "source": [
        "alter_content(\"Data Structures\")"
      ],
      "execution_count": 4,
      "outputs": [
        {
          "output_type": "stream",
          "text": [
            "\n",
            "Covered: ['Variables']\n",
            "Current Topic: Data Structures\n",
            "\n"
          ],
          "name": "stdout"
        }
      ]
    },
    {
      "cell_type": "code",
      "metadata": {
        "colab": {
          "base_uri": "https://localhost:8080/"
        },
        "id": "pBHj3OkHLQO7",
        "outputId": "2e29c1f9-8e55-493f-e68c-7db6ba87d20b"
      },
      "source": [
        "alter_content(\"Conditional Statements\")"
      ],
      "execution_count": 5,
      "outputs": [
        {
          "output_type": "stream",
          "text": [
            "\n",
            "Covered: ['Variables', 'Data Structures']\n",
            "Current Topic: Conditional Statements\n",
            "\n"
          ],
          "name": "stdout"
        }
      ]
    },
    {
      "cell_type": "code",
      "metadata": {
        "colab": {
          "base_uri": "https://localhost:8080/"
        },
        "id": "61IqW3Y8LSYn",
        "outputId": "12fb3297-d3c9-443c-9660-c7793e0d4e74"
      },
      "source": [
        "print(\"Enter your marks:\")\n",
        "marks = int(input())\n",
        "\n",
        "\n",
        "print(\"Your mark is {}\".format(marks))\n",
        "\n",
        "if (60 <= marks <= 69):\n",
        "    grade = \"D\"\n",
        "elif (70 <= marks <= 79):\n",
        "    grade = \"C\"\n",
        "elif (80 <= marks <= 89):\n",
        "    grade = \"B\"\n",
        "elif (marks >= 90):\n",
        "    grade = \"A\"\n",
        "else:\n",
        "    grade = \"F\"\n",
        "    \n",
        "print(\"Grade: {}\".format(grade))"
      ],
      "execution_count": 6,
      "outputs": [
        {
          "output_type": "stream",
          "text": [
            "Enter your marks:\n",
            "70\n",
            "Your mark is 70\n",
            "Grade: C\n"
          ],
          "name": "stdout"
        }
      ]
    },
    {
      "cell_type": "code",
      "metadata": {
        "colab": {
          "base_uri": "https://localhost:8080/"
        },
        "id": "A6RLs8AsLVST",
        "outputId": "cacc3e01-7f4a-483f-80de-e0cc024ba4e2"
      },
      "source": [
        "alter_content(\"Iterations\")"
      ],
      "execution_count": 7,
      "outputs": [
        {
          "output_type": "stream",
          "text": [
            "\n",
            "Covered: ['Variables', 'Data Structures', 'Conditional Statements']\n",
            "Current Topic: Iterations\n",
            "\n"
          ],
          "name": "stdout"
        }
      ]
    },
    {
      "cell_type": "code",
      "metadata": {
        "colab": {
          "base_uri": "https://localhost:8080/"
        },
        "id": "OGHWcVfnLX5X",
        "outputId": "319e5d06-0515-4f64-e3fd-5d7ed8294d7c"
      },
      "source": [
        "family = [{\"name\" :\"Dee\", \"age\" : 19, \"gender\" : \"F\"}, {\"name\" :\"Tim\", \"age\" : 49, \"gender\" : \"M\"}]\n",
        "\n",
        "for member in family:\n",
        "    print(\"\\n{} \\n{} \\n{}\".format(member[\"name\"], member[\"age\"], member[\"gender\"]))"
      ],
      "execution_count": 8,
      "outputs": [
        {
          "output_type": "stream",
          "text": [
            "\n",
            "Dee \n",
            "19 \n",
            "F\n",
            "\n",
            "Tim \n",
            "49 \n",
            "M\n"
          ],
          "name": "stdout"
        }
      ]
    },
    {
      "cell_type": "code",
      "metadata": {
        "colab": {
          "base_uri": "https://localhost:8080/"
        },
        "id": "t5S6SUvALbOB",
        "outputId": "8707e86c-99e8-4384-eac5-e63fca889577"
      },
      "source": [
        "alter_content(\"Functions\")"
      ],
      "execution_count": 9,
      "outputs": [
        {
          "output_type": "stream",
          "text": [
            "\n",
            "Covered: ['Variables', 'Data Structures', 'Conditional Statements', 'Iterations']\n",
            "Current Topic: Functions\n",
            "\n"
          ],
          "name": "stdout"
        }
      ]
    },
    {
      "cell_type": "code",
      "metadata": {
        "id": "M7eN5BieLcte"
      },
      "source": [
        "def alter_content(topic):\n",
        "    if topic in content:\n",
        "        content.remove(topic)\n",
        "        print(\"\\nCovered: {}\\nCurrent Topic: {}\\n\".format(check_list(), topic))\n",
        "        update_list(topic)\n",
        "    else:\n",
        "        print(\"Topic is not part of the content\")"
      ],
      "execution_count": 10,
      "outputs": []
    },
    {
      "cell_type": "code",
      "metadata": {
        "colab": {
          "base_uri": "https://localhost:8080/"
        },
        "id": "IpSVuBmNLguT",
        "outputId": "71829f13-b61d-4010-a494-1660477c6030"
      },
      "source": [
        "alter_content(\"Lambda Expressions\")"
      ],
      "execution_count": 11,
      "outputs": [
        {
          "output_type": "stream",
          "text": [
            "\n",
            "Covered: ['Variables', 'Data Structures', 'Conditional Statements', 'Iterations', 'Functions']\n",
            "Current Topic: Lambda Expressions\n",
            "\n"
          ],
          "name": "stdout"
        }
      ]
    },
    {
      "cell_type": "code",
      "metadata": {
        "id": "0XEKXshVLizH"
      },
      "source": [
        "numbers = [1, 2, 3, 4, 5]\n",
        "squares = map(lambda x : x*x, numbers)\n",
        "squares_list = list(squares)"
      ],
      "execution_count": 12,
      "outputs": []
    },
    {
      "cell_type": "code",
      "metadata": {
        "colab": {
          "base_uri": "https://localhost:8080/"
        },
        "id": "tjstzXu6LklB",
        "outputId": "601c4c91-8ab3-4669-a64d-afac8679891d"
      },
      "source": [
        "alter_content(\"OOP\")"
      ],
      "execution_count": 13,
      "outputs": [
        {
          "output_type": "stream",
          "text": [
            "\n",
            "Covered: ['Variables', 'Data Structures', 'Conditional Statements', 'Iterations', 'Functions', 'Lambda Expressions']\n",
            "Current Topic: OOP\n",
            "\n"
          ],
          "name": "stdout"
        }
      ]
    },
    {
      "cell_type": "code",
      "metadata": {
        "colab": {
          "base_uri": "https://localhost:8080/"
        },
        "id": "Uxz6kO-sLmbr",
        "outputId": "7b90d804-8294-46e3-ee2f-2f815d5fc7ca"
      },
      "source": [
        "class Animal:\n",
        "     def __init__(self, name, no_of_legs):\n",
        "         self.name = name\n",
        "         self.no_of_legs = no_of_legs\n",
        " \n",
        "     def eat(self, food):\n",
        "         print(\"{} eats {}\".format(self.name, food))\n",
        "         \n",
        "dog = Animal(\"Dog\", 4)\n",
        "print(dog.eat(\"Bones\"))"
      ],
      "execution_count": 15,
      "outputs": [
        {
          "output_type": "stream",
          "text": [
            "Dog eats Bones\n",
            "None\n"
          ],
          "name": "stdout"
        }
      ]
    }
  ]
}