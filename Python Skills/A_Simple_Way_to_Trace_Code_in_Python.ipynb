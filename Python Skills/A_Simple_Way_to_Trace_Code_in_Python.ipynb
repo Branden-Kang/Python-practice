{
  "nbformat": 4,
  "nbformat_minor": 0,
  "metadata": {
    "colab": {
      "name": "A Simple Way to Trace Code in Python.ipynb",
      "provenance": [],
      "authorship_tag": "ABX9TyPorry3C9ZKoDISN+ZmOBJy"
    },
    "kernelspec": {
      "name": "python3",
      "display_name": "Python 3"
    },
    "language_info": {
      "name": "python"
    }
  },
  "cells": [
    {
      "cell_type": "markdown",
      "metadata": {
        "id": "m18OeJmZtz_v"
      },
      "source": [
        "[Reference](https://towardsdatascience.com/a-simple-way-to-trace-code-in-python-a15a25cbbf51)"
      ]
    },
    {
      "cell_type": "code",
      "metadata": {
        "id": "0t7ReWGktyXk"
      },
      "source": [
        "import functools\n",
        "\n",
        "\n",
        "def tracefunc(func):\n",
        "    \"\"\"Decorates a function to show its trace.\"\"\"\n",
        "\n",
        "    @functools.wraps(func)\n",
        "    def tracefunc_closure(*args, **kwargs):\n",
        "        \"\"\"The closure.\"\"\"\n",
        "        result = func(*args, **kwargs)\n",
        "        print(f\"{func.__name__}(args={args}, kwargs={kwargs}) => {result}\")\n",
        "        return result\n",
        "\n",
        "    return tracefunc_closure"
      ],
      "execution_count": 1,
      "outputs": []
    },
    {
      "cell_type": "code",
      "metadata": {
        "colab": {
          "base_uri": "https://localhost:8080/"
        },
        "id": "d_C5d_Czt6bD",
        "outputId": "e9b0d2dd-1c5b-4441-847a-945fa7fb84fd"
      },
      "source": [
        "@tracefunc\n",
        "def show_args_and_kwargs(*args, **kwargs):\n",
        "    return\n",
        "\n",
        "\n",
        "if __name__ == \"__main__\":\n",
        "\n",
        "    show_args_and_kwargs(10)\n",
        "    show_args_and_kwargs(color=\"Red\")\n",
        "    show_args_and_kwargs(10, 200, color=\"Blue\", type=\"Dog\")"
      ],
      "execution_count": 2,
      "outputs": [
        {
          "output_type": "stream",
          "text": [
            "show_args_and_kwargs(args=(10,), kwargs={}) => None\n",
            "show_args_and_kwargs(args=(), kwargs={'color': 'Red'}) => None\n",
            "show_args_and_kwargs(args=(10, 200), kwargs={'color': 'Blue', 'type': 'Dog'}) => None\n"
          ],
          "name": "stdout"
        }
      ]
    }
  ]
}