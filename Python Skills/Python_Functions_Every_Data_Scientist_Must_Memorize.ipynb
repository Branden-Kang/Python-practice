{
  "nbformat": 4,
  "nbformat_minor": 0,
  "metadata": {
    "colab": {
      "provenance": [],
      "authorship_tag": "ABX9TyM6Re6x/g68knsOvPn5VZem"
    },
    "kernelspec": {
      "name": "python3",
      "display_name": "Python 3"
    },
    "language_info": {
      "name": "python"
    }
  },
  "cells": [
    {
      "cell_type": "markdown",
      "source": [
        "[Reference](https://medium.com/@yaduvanshineelam09/10-python-functions-every-data-scientist-must-memorize-fc5ff51d6c91)"
      ],
      "metadata": {
        "id": "ZZ8XHCb0DZ0_"
      }
    },
    {
      "cell_type": "markdown",
      "source": [
        "# 1. Print Function"
      ],
      "metadata": {
        "id": "s4AQ02tiDdGa"
      }
    },
    {
      "cell_type": "code",
      "execution_count": 1,
      "metadata": {
        "colab": {
          "base_uri": "https://localhost:8080/"
        },
        "id": "fD1CN0VqDWjh",
        "outputId": "f6a73c9d-93d6-44c0-d9f9-b7e497c2aeca"
      },
      "outputs": [
        {
          "output_type": "stream",
          "name": "stdout",
          "text": [
            "Product: Laptop\n",
            "Total Sales: 1500\n",
            "Total Revenue: 3000 USD\n"
          ]
        }
      ],
      "source": [
        "def display_sales_info(product, sales, revenue):\n",
        "    print('Product', product, sep=': ')\n",
        "    print('Total Sales', sales, sep=': ')\n",
        "    print('Total Revenue', revenue, sep=': ')\n",
        "\n",
        "display_sales_info('Laptop', 1500, '3000 USD')"
      ]
    },
    {
      "cell_type": "markdown",
      "source": [
        "# 2. Help Function"
      ],
      "metadata": {
        "id": "jSM8417lDz6V"
      }
    },
    {
      "cell_type": "code",
      "source": [
        "def calculate_discounted_price(price, discount):\n",
        "    \"\"\" Calculate the discounted price of a product.\n",
        "    price: original price of the product\n",
        "    discount: discount percentage to be applied returns: float\n",
        "    \"\"\"\n",
        "    return price * (1 - discount / 100)\n",
        "# Example of using the help function\n",
        "help(calculate_discounted_price)"
      ],
      "metadata": {
        "colab": {
          "base_uri": "https://localhost:8080/"
        },
        "id": "kCXOdq2uDy1v",
        "outputId": "03156b5b-0262-4d0b-ed4c-a9d107e81a37"
      },
      "execution_count": 2,
      "outputs": [
        {
          "output_type": "stream",
          "name": "stdout",
          "text": [
            "Help on function calculate_discounted_price in module __main__:\n",
            "\n",
            "calculate_discounted_price(price, discount)\n",
            "    Calculate the discounted price of a product. \n",
            "    price: original price of the product \n",
            "    discount: discount percentage to be applied returns: float\n",
            "\n"
          ]
        }
      ]
    },
    {
      "cell_type": "markdown",
      "source": [
        "# 3. Range Function"
      ],
      "metadata": {
        "id": "KLWqeY03EB5l"
      }
    },
    {
      "cell_type": "code",
      "source": [
        "def generate_sales_days(start_day, end_day):\n",
        "    return list(range(start_day, end_day + 1))"
      ],
      "metadata": {
        "id": "TjkRdPHfD_bL"
      },
      "execution_count": 3,
      "outputs": []
    },
    {
      "cell_type": "code",
      "source": [
        "print(generate_sales_days(1, 7)) # Generates days of the week"
      ],
      "metadata": {
        "colab": {
          "base_uri": "https://localhost:8080/"
        },
        "id": "Cry57tLsEDZg",
        "outputId": "77b40616-1135-4497-b0ec-2bc01eca77a6"
      },
      "execution_count": 4,
      "outputs": [
        {
          "output_type": "stream",
          "name": "stdout",
          "text": [
            "[1, 2, 3, 4, 5, 6, 7]\n"
          ]
        }
      ]
    },
    {
      "cell_type": "markdown",
      "source": [
        "# 4. Map Function"
      ],
      "metadata": {
        "id": "UhI5XY4pEFp-"
      }
    },
    {
      "cell_type": "code",
      "source": [
        "def apply_discount(prices, discount):\n",
        "    return list(map(lambda x: x * (1 - discount / 100), prices))\n",
        "\n",
        "print(apply_discount([100, 200, 300, 400, 500], 10)) # Apply a 10% discount"
      ],
      "metadata": {
        "colab": {
          "base_uri": "https://localhost:8080/"
        },
        "id": "Xk6nLdB7EEmb",
        "outputId": "917ed73f-a681-4a02-ba43-50c9dc72b6d0"
      },
      "execution_count": 5,
      "outputs": [
        {
          "output_type": "stream",
          "name": "stdout",
          "text": [
            "[90.0, 180.0, 270.0, 360.0, 450.0]\n"
          ]
        }
      ]
    },
    {
      "cell_type": "markdown",
      "source": [
        "# 5. Filter Function"
      ],
      "metadata": {
        "id": "zHdo7ZFREKED"
      }
    },
    {
      "cell_type": "code",
      "source": [
        "def filter_high_sales(sales, threshold):\n",
        "    return list(filter(lambda x: x > threshold, sales))\n",
        "\n",
        "print(filter_high_sales([100, 200, 50, 300, 150], 150)) # Filter sales greater than 150"
      ],
      "metadata": {
        "colab": {
          "base_uri": "https://localhost:8080/"
        },
        "id": "5EBBGcYKEJE5",
        "outputId": "46cbe344-ebe8-46b6-a845-3f0701488825"
      },
      "execution_count": 6,
      "outputs": [
        {
          "output_type": "stream",
          "name": "stdout",
          "text": [
            "[200, 300]\n"
          ]
        }
      ]
    },
    {
      "cell_type": "markdown",
      "source": [
        "# 6. Sorted Function"
      ],
      "metadata": {
        "id": "kNBW6HWnEPiv"
      }
    },
    {
      "cell_type": "code",
      "source": [
        "def sort_sales_data_by_sales(data):\n",
        "    return sorted(data, key=lambda x: x['Sales'])\n",
        "\n",
        "sales_data = [\n",
        " {'Product': 'Laptop', 'Sales': 150},\n",
        " {'Product': 'Mouse', 'Sales': 300},\n",
        " {'Product': 'Keyboard', 'Sales': 200},\n",
        "]\n",
        "\n",
        "print(sort_sales_data_by_sales(sales_data))"
      ],
      "metadata": {
        "colab": {
          "base_uri": "https://localhost:8080/"
        },
        "id": "hNG1YNUxEObr",
        "outputId": "2d94628e-2492-4455-cbf5-4d92a1f02db4"
      },
      "execution_count": 7,
      "outputs": [
        {
          "output_type": "stream",
          "name": "stdout",
          "text": [
            "[{'Product': 'Laptop', 'Sales': 150}, {'Product': 'Keyboard', 'Sales': 200}, {'Product': 'Mouse', 'Sales': 300}]\n"
          ]
        }
      ]
    },
    {
      "cell_type": "markdown",
      "source": [
        "# 7. Enumerate Function"
      ],
      "metadata": {
        "id": "RigloRDSEUQk"
      }
    },
    {
      "cell_type": "code",
      "source": [
        "def list_products_with_index(products):\n",
        "    for index, product in enumerate(products):\n",
        "        print(f\"{index + 1}. {product}\")"
      ],
      "metadata": {
        "id": "bT4ZCPsXETXM"
      },
      "execution_count": 8,
      "outputs": []
    },
    {
      "cell_type": "code",
      "source": [
        "list_products_with_index(['Laptop', 'Mouse', 'Keyboard'])"
      ],
      "metadata": {
        "colab": {
          "base_uri": "https://localhost:8080/"
        },
        "id": "kh5HM4eMEXNP",
        "outputId": "af37b2f6-3721-432c-ed3f-6d542e6078a9"
      },
      "execution_count": 9,
      "outputs": [
        {
          "output_type": "stream",
          "name": "stdout",
          "text": [
            "1. Laptop\n",
            "2. Mouse\n",
            "3. Keyboard\n"
          ]
        }
      ]
    },
    {
      "cell_type": "markdown",
      "source": [
        "# 8. Zip Function"
      ],
      "metadata": {
        "id": "bpheiZk5EZll"
      }
    },
    {
      "cell_type": "code",
      "source": [
        "def combine_sales_data(products, sales):\n",
        "    return list(zip(products, sales))"
      ],
      "metadata": {
        "id": "6txurMNGEYgg"
      },
      "execution_count": 10,
      "outputs": []
    },
    {
      "cell_type": "code",
      "source": [
        "print(combine_sales_data(['Laptop', 'Mouse', 'Keyboard'], [150, 300, 200]))"
      ],
      "metadata": {
        "colab": {
          "base_uri": "https://localhost:8080/"
        },
        "id": "u0aBgXzlEbN1",
        "outputId": "8c42004d-7ba3-479a-8713-c796bf267ff6"
      },
      "execution_count": 11,
      "outputs": [
        {
          "output_type": "stream",
          "name": "stdout",
          "text": [
            "[('Laptop', 150), ('Mouse', 300), ('Keyboard', 200)]\n"
          ]
        }
      ]
    },
    {
      "cell_type": "markdown",
      "source": [
        "# 9. Open Function"
      ],
      "metadata": {
        "id": "XO4fsQLPEfGR"
      }
    },
    {
      "cell_type": "code",
      "source": [
        "def write_sales_to_file(filename, content):\n",
        "    \"\"\"Writes content into file\"\"\"\n",
        "    with open(filename, \"w\") as file:\n",
        "        file.write(content)"
      ],
      "metadata": {
        "id": "3UW9BAODEePY"
      },
      "execution_count": 12,
      "outputs": []
    },
    {
      "cell_type": "code",
      "source": [
        "def read_sales_file(filename):\n",
        "    \"\"\"Reads content in file only\"\"\"\n",
        "    with open(filename, \"r\") as file:\n",
        "        return file.read()\n",
        "def append_sales_to_file(filename, content):\n",
        "    \"\"\"Appends new content to original content\"\"\"\n",
        "    with open(filename, \"a\") as file:\n",
        "        file.write(content)\n",
        "\n",
        "write_sales_to_file(\"sales.txt\", \"Product: Laptop\\nSales: 150\")\n",
        "print(read_sales_file(\"sales.txt\"))\n",
        "\n",
        "append_sales_to_file(\"sales.txt\", \"\\nProduct: Mouse\\nSales: 300\")\n",
        "print(read_sales_file(\"sales.txt\"))"
      ],
      "metadata": {
        "colab": {
          "base_uri": "https://localhost:8080/"
        },
        "id": "ZLtj-dPLEjwD",
        "outputId": "1b7407c3-dea7-448d-9727-2d273a8cc3de"
      },
      "execution_count": 13,
      "outputs": [
        {
          "output_type": "stream",
          "name": "stdout",
          "text": [
            "Product: Laptop\n",
            "Sales: 150\n",
            "Product: Laptop\n",
            "Sales: 150\n",
            "Product: Mouse\n",
            "Sales: 300\n"
          ]
        }
      ]
    },
    {
      "cell_type": "markdown",
      "source": [
        "# 10. Sum Function:"
      ],
      "metadata": {
        "id": "EaAQVShWEpfR"
      }
    },
    {
      "cell_type": "code",
      "source": [
        "def calculate_total_sales(sales):\n",
        "    return sum(sales)\n",
        "\n",
        "print(calculate_total_sales([150, 300, 200]))"
      ],
      "metadata": {
        "colab": {
          "base_uri": "https://localhost:8080/"
        },
        "id": "cjbdDsO-EoB_",
        "outputId": "abfdded3-6065-41d2-c0c2-144b6c273866"
      },
      "execution_count": 14,
      "outputs": [
        {
          "output_type": "stream",
          "name": "stdout",
          "text": [
            "650\n"
          ]
        }
      ]
    }
  ]
}
