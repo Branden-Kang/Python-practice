{
  "nbformat": 4,
  "nbformat_minor": 0,
  "metadata": {
    "colab": {
      "provenance": [],
      "authorship_tag": "ABX9TyM1FBliLBUiKx1AM0sHS/PR"
    },
    "kernelspec": {
      "name": "python3",
      "display_name": "Python 3"
    },
    "language_info": {
      "name": "python"
    }
  },
  "cells": [
    {
      "cell_type": "markdown",
      "source": [
        "[Reference](https://python.plainenglish.io/mastering-python-arrays-for-numerical-computing-352ed82f9e7c)"
      ],
      "metadata": {
        "id": "I0fZcMpPQVHr"
      }
    },
    {
      "cell_type": "code",
      "source": [
        "import numpy as np"
      ],
      "metadata": {
        "id": "2_OpodWGQej4"
      },
      "execution_count": 3,
      "outputs": []
    },
    {
      "cell_type": "markdown",
      "source": [
        "# Basic Arithmetic Operations"
      ],
      "metadata": {
        "id": "sICChoJuQlw2"
      }
    },
    {
      "cell_type": "code",
      "execution_count": 4,
      "metadata": {
        "colab": {
          "base_uri": "https://localhost:8080/"
        },
        "id": "1X1YvqarQPaQ",
        "outputId": "15380795-77a5-4e64-cba7-957f0519c68b"
      },
      "outputs": [
        {
          "output_type": "stream",
          "name": "stdout",
          "text": [
            "Element-wise addition: [ 6  8 10 12]\n",
            "Element-wise subtraction: [-4 -4 -4 -4]\n",
            "Element-wise multiplication: [ 5 12 21 32]\n",
            "Element-wise division: [0.2        0.33333333 0.42857143 0.5       ]\n"
          ]
        }
      ],
      "source": [
        "# Creating two arrays\n",
        "array1 = np.array([1, 2, 3, 4])\n",
        "array2 = np.array([5, 6, 7, 8])\n",
        "\n",
        "# Element-wise addition\n",
        "add_result = array1 + array2\n",
        "print(\"Element-wise addition:\", add_result)\n",
        "\n",
        "# Element-wise subtraction\n",
        "sub_result = array1 - array2\n",
        "print(\"Element-wise subtraction:\", sub_result)\n",
        "\n",
        "# Element-wise multiplication\n",
        "mul_result = array1 * array2\n",
        "print(\"Element-wise multiplication:\", mul_result)\n",
        "\n",
        "# Element-wise division\n",
        "div_result = array1 / array2\n",
        "print(\"Element-wise division:\", div_result)"
      ]
    },
    {
      "cell_type": "markdown",
      "source": [
        "# Universal Functions (ufuncs)"
      ],
      "metadata": {
        "id": "7mQH-TigQkOx"
      }
    },
    {
      "cell_type": "code",
      "source": [
        "# Creating an array\n",
        "array = np.array([1, 2, 3, 4])\n",
        "\n",
        "# Square root of each element\n",
        "sqrt_result = np.sqrt(array)\n",
        "print(\"Square root:\", sqrt_result)\n",
        "\n",
        "# Exponential (e^x) of each element\n",
        "exp_result = np.exp(array)\n",
        "print(\"Exponential:\", exp_result)\n",
        "\n",
        "# Sine of each element\n",
        "sin_result = np.sin(array)\n",
        "print(\"Sine:\", sin_result)\n",
        "\n",
        "# Natural logarithm of each element\n",
        "log_result = np.log(array)\n",
        "print(\"Natural logarithm:\", log_result)"
      ],
      "metadata": {
        "colab": {
          "base_uri": "https://localhost:8080/"
        },
        "id": "A0uWpoXnQZpp",
        "outputId": "6458a21a-4841-4558-83c4-0019653d9212"
      },
      "execution_count": 5,
      "outputs": [
        {
          "output_type": "stream",
          "name": "stdout",
          "text": [
            "Square root: [1.         1.41421356 1.73205081 2.        ]\n",
            "Exponential: [ 2.71828183  7.3890561  20.08553692 54.59815003]\n",
            "Sine: [ 0.84147098  0.90929743  0.14112001 -0.7568025 ]\n",
            "Natural logarithm: [0.         0.69314718 1.09861229 1.38629436]\n"
          ]
        }
      ]
    },
    {
      "cell_type": "markdown",
      "source": [
        "# Aggregation Functions"
      ],
      "metadata": {
        "id": "O32v94XyQhvX"
      }
    },
    {
      "cell_type": "code",
      "source": [
        "# Creating an array\n",
        "array = np.array([1, 2, 3, 4, 5])\n",
        "\n",
        "# Sum of all elements\n",
        "sum_result = np.sum(array)\n",
        "print(\"Sum:\", sum_result)\n",
        "\n",
        "# Mean (average) of all elements\n",
        "mean_result = np.mean(array)\n",
        "print(\"Mean:\", mean_result)\n",
        "\n",
        "# Maximum value\n",
        "max_result = np.max(array)\n",
        "print(\"Maximum:\", max_result)\n",
        "\n",
        "# Minimum value\n",
        "min_result = np.min(array)\n",
        "print(\"Minimum:\", min_result)"
      ],
      "metadata": {
        "colab": {
          "base_uri": "https://localhost:8080/"
        },
        "id": "pVLClf6fQb2O",
        "outputId": "592f263b-62ee-405b-c6b0-4ab998e24565"
      },
      "execution_count": 6,
      "outputs": [
        {
          "output_type": "stream",
          "name": "stdout",
          "text": [
            "Sum: 15\n",
            "Mean: 3.0\n",
            "Maximum: 5\n",
            "Minimum: 1\n"
          ]
        }
      ]
    },
    {
      "cell_type": "markdown",
      "source": [
        "# Matrix Operations"
      ],
      "metadata": {
        "id": "PrqqwzLnQr_k"
      }
    },
    {
      "cell_type": "code",
      "source": [
        "# Creating two 2x2 matrices\n",
        "matrix1 = np.array([[1, 2], [3, 4]])\n",
        "matrix2 = np.array([[5, 6], [7, 8]])\n",
        "\n",
        "# Matrix addition\n",
        "matrix_add = np.add(matrix1, matrix2)\n",
        "print(\"Matrix addition:\\n\", matrix_add)\n",
        "\n",
        "# Matrix multiplication\n",
        "matrix_mul = np.dot(matrix1, matrix2)\n",
        "print(\"Matrix multiplication:\\n\", matrix_mul)\n",
        "\n",
        "# Transpose of a matrix\n",
        "matrix_transpose = np.transpose(matrix1)\n",
        "print(\"Transpose of the first matrix:\\n\", matrix_transpose)"
      ],
      "metadata": {
        "colab": {
          "base_uri": "https://localhost:8080/"
        },
        "id": "__gf2mZ0QgZu",
        "outputId": "656d1704-1946-45ed-9442-6187d3bcbdb3"
      },
      "execution_count": 7,
      "outputs": [
        {
          "output_type": "stream",
          "name": "stdout",
          "text": [
            "Matrix addition:\n",
            " [[ 6  8]\n",
            " [10 12]]\n",
            "Matrix multiplication:\n",
            " [[19 22]\n",
            " [43 50]]\n",
            "Transpose of the first matrix:\n",
            " [[1 3]\n",
            " [2 4]]\n"
          ]
        }
      ]
    },
    {
      "cell_type": "markdown",
      "source": [
        "# Basic Indexing"
      ],
      "metadata": {
        "id": "n7IV1y8TQx9t"
      }
    },
    {
      "cell_type": "code",
      "source": [
        "# Creating a 1D array\n",
        "array_1d = np.array([10, 20, 30, 40, 50])\n",
        "\n",
        "# Accessing elements by index\n",
        "print(\"First element:\", array_1d[0])\n",
        "print(\"Third element:\", array_1d[2])\n",
        "print(\"Last element:\", array_1d[-1])"
      ],
      "metadata": {
        "colab": {
          "base_uri": "https://localhost:8080/"
        },
        "id": "yNon1fK8QvX5",
        "outputId": "04033de8-29e9-4f4d-d8c0-861eb55c37f6"
      },
      "execution_count": 8,
      "outputs": [
        {
          "output_type": "stream",
          "name": "stdout",
          "text": [
            "First element: 10\n",
            "Third element: 30\n",
            "Last element: 50\n"
          ]
        }
      ]
    },
    {
      "cell_type": "markdown",
      "source": [
        "# Slicing"
      ],
      "metadata": {
        "id": "tEUHzE9_Q0dS"
      }
    },
    {
      "cell_type": "code",
      "source": [
        "# Creating a 1D array\n",
        "array_1d = np.array([10, 20, 30, 40, 50])\n",
        "\n",
        "# Slicing the array\n",
        "print(\"Elements from index 1 to 3:\", array_1d[1:4])\n",
        "print(\"Every second element:\", array_1d[::2])\n",
        "print(\"Elements from index 2 to the end:\", array_1d[2:])"
      ],
      "metadata": {
        "colab": {
          "base_uri": "https://localhost:8080/"
        },
        "id": "Va_uQn7_QzQY",
        "outputId": "d6db9369-5ac0-4544-8a95-ab6222c0fe67"
      },
      "execution_count": 9,
      "outputs": [
        {
          "output_type": "stream",
          "name": "stdout",
          "text": [
            "Elements from index 1 to 3: [20 30 40]\n",
            "Every second element: [10 30 50]\n",
            "Elements from index 2 to the end: [30 40 50]\n"
          ]
        }
      ]
    },
    {
      "cell_type": "markdown",
      "source": [
        "# Multi-dimensional Arrays"
      ],
      "metadata": {
        "id": "KqkmwLz3Q4KP"
      }
    },
    {
      "cell_type": "code",
      "source": [
        "# Creating a 2D array\n",
        "array_2d = np.array([[1, 2, 3], [4, 5, 6], [7, 8, 9]])\n",
        "\n",
        "# Accessing elements\n",
        "print(\"Element at row 1, column 2:\", array_2d[1, 2])\n",
        "print(\"First row:\", array_2d[0, :])\n",
        "print(\"Second column:\", array_2d[:, 1])\n",
        "print(\"Subarray from rows 0 to 1 and columns 1 to 2:\\n\", array_2d[0:2, 1:3])"
      ],
      "metadata": {
        "colab": {
          "base_uri": "https://localhost:8080/"
        },
        "id": "AGcBJZ6nQ2tY",
        "outputId": "c7dac0c0-730b-4072-cbf7-35d8c9e3ed4b"
      },
      "execution_count": 10,
      "outputs": [
        {
          "output_type": "stream",
          "name": "stdout",
          "text": [
            "Element at row 1, column 2: 6\n",
            "First row: [1 2 3]\n",
            "Second column: [2 5 8]\n",
            "Subarray from rows 0 to 1 and columns 1 to 2:\n",
            " [[2 3]\n",
            " [5 6]]\n"
          ]
        }
      ]
    },
    {
      "cell_type": "markdown",
      "source": [
        "# Boolean Indexing"
      ],
      "metadata": {
        "id": "o5Wd8SR4Q8GP"
      }
    },
    {
      "cell_type": "code",
      "source": [
        "# Creating an array\n",
        "array = np.array([10, 20, 30, 40, 50])\n",
        "\n",
        "# Boolean indexing\n",
        "bool_idx = array > 30\n",
        "print(\"Boolean index array:\", bool_idx)\n",
        "\n",
        "# Using boolean indexing to filter elements\n",
        "filtered_array = array[bool_idx]\n",
        "print(\"Filtered array:\", filtered_array)"
      ],
      "metadata": {
        "colab": {
          "base_uri": "https://localhost:8080/"
        },
        "id": "Mjo2i0DBQ6-B",
        "outputId": "5b448b06-b1bc-47a7-da37-dad8b9da039d"
      },
      "execution_count": 11,
      "outputs": [
        {
          "output_type": "stream",
          "name": "stdout",
          "text": [
            "Boolean index array: [False False False  True  True]\n",
            "Filtered array: [40 50]\n"
          ]
        }
      ]
    },
    {
      "cell_type": "markdown",
      "source": [
        "# Fancy Indexing"
      ],
      "metadata": {
        "id": "d0JkjvrxRA-C"
      }
    },
    {
      "cell_type": "code",
      "source": [
        "# Creating an array\n",
        "array = np.array([10, 20, 30, 40, 50])\n",
        "\n",
        "# Fancy indexing\n",
        "indices = [1, 3, 4]\n",
        "print(\"Elements at indices 1, 3, and 4:\", array[indices])"
      ],
      "metadata": {
        "colab": {
          "base_uri": "https://localhost:8080/"
        },
        "id": "n4-rGFxtQ-i-",
        "outputId": "72ee42a2-11c9-4cc2-de7d-9e3360b64684"
      },
      "execution_count": 12,
      "outputs": [
        {
          "output_type": "stream",
          "name": "stdout",
          "text": [
            "Elements at indices 1, 3, and 4: [20 40 50]\n"
          ]
        }
      ]
    },
    {
      "cell_type": "markdown",
      "source": [
        "# Reshaping Arrays"
      ],
      "metadata": {
        "id": "26p6LIamREDe"
      }
    },
    {
      "cell_type": "code",
      "source": [
        "# Creating a 1D array\n",
        "array_1d = np.arange(12)\n",
        "print(\"Original 1D array:\", array_1d)\n",
        "\n",
        "# Reshaping to a 3x4 2D array\n",
        "array_2d = array_1d.reshape((3, 4))\n",
        "print(\"Reshaped to 3x4 2D array:\\n\", array_2d)\n",
        "\n",
        "# Reshaping to a 2x2x3 3D array\n",
        "array_3d = array_1d.reshape((2, 2, 3))\n",
        "print(\"Reshaped to 2x2x3 3D array:\\n\", array_3d)"
      ],
      "metadata": {
        "colab": {
          "base_uri": "https://localhost:8080/"
        },
        "id": "-I1HLGpHRChy",
        "outputId": "5674121d-dd5c-4235-a669-030ff2d90584"
      },
      "execution_count": 14,
      "outputs": [
        {
          "output_type": "stream",
          "name": "stdout",
          "text": [
            "Original 1D array: [ 0  1  2  3  4  5  6  7  8  9 10 11]\n",
            "Reshaped to 3x4 2D array:\n",
            " [[ 0  1  2  3]\n",
            " [ 4  5  6  7]\n",
            " [ 8  9 10 11]]\n",
            "Reshaped to 2x2x3 3D array:\n",
            " [[[ 0  1  2]\n",
            "  [ 3  4  5]]\n",
            "\n",
            " [[ 6  7  8]\n",
            "  [ 9 10 11]]]\n"
          ]
        }
      ]
    },
    {
      "cell_type": "markdown",
      "source": [
        "# Concatenation and Stacking"
      ],
      "metadata": {
        "id": "ZWZDvo4DRHW5"
      }
    },
    {
      "cell_type": "code",
      "source": [
        "# Creating two 1D arrays\n",
        "array1 = np.array([1, 2, 3])\n",
        "array2 = np.array([4, 5, 6])\n",
        "\n",
        "# Concatenating along the first axis\n",
        "concatenated_array = np.concatenate((array1, array2))\n",
        "print(\"Concatenated array:\", concatenated_array)\n",
        "\n",
        "# Creating two 2D arrays\n",
        "array3 = np.array([[1, 2], [3, 4]])\n",
        "array4 = np.array([[5, 6]])\n",
        "\n",
        "# Concatenating along the first axis (rows)\n",
        "concatenated_2d = np.concatenate((array3, array4), axis=0)\n",
        "print(\"Concatenated 2D array along rows:\\n\", concatenated_2d)"
      ],
      "metadata": {
        "colab": {
          "base_uri": "https://localhost:8080/"
        },
        "id": "GPx0OOceRFPK",
        "outputId": "7f3d8887-80f2-483a-81ba-cfe2ee29cea6"
      },
      "execution_count": 15,
      "outputs": [
        {
          "output_type": "stream",
          "name": "stdout",
          "text": [
            "Concatenated array: [1 2 3 4 5 6]\n",
            "Concatenated 2D array along rows:\n",
            " [[1 2]\n",
            " [3 4]\n",
            " [5 6]]\n"
          ]
        }
      ]
    },
    {
      "cell_type": "markdown",
      "source": [
        "# Splitting Arrays"
      ],
      "metadata": {
        "id": "biYiogekRKXD"
      }
    },
    {
      "cell_type": "code",
      "source": [
        "# Creating a 1D array\n",
        "array = np.arange(9)\n",
        "\n",
        "# Splitting the array into 3 sub-arrays\n",
        "split_array = np.split(array, 3)\n",
        "print(\"Split array into 3 sub-arrays:\", split_array)\n",
        "\n",
        "# Creating a 2D array\n",
        "array2d = np.arange(16).reshape((4, 4))\n",
        "\n",
        "# Splitting the array into 2 sub-arrays along the rows\n",
        "split_array2d = np.split(array2d, 2)\n",
        "print(\"Split 2D array along rows:\\n\", split_array2d[0], \"\\n\\n\", split_array2d[1])"
      ],
      "metadata": {
        "colab": {
          "base_uri": "https://localhost:8080/"
        },
        "id": "I2qX8tFSRJUq",
        "outputId": "050d2aa3-c007-4db7-a414-398a88553666"
      },
      "execution_count": 16,
      "outputs": [
        {
          "output_type": "stream",
          "name": "stdout",
          "text": [
            "Split array into 3 sub-arrays: [array([0, 1, 2]), array([3, 4, 5]), array([6, 7, 8])]\n",
            "Split 2D array along rows:\n",
            " [[0 1 2 3]\n",
            " [4 5 6 7]] \n",
            "\n",
            " [[ 8  9 10 11]\n",
            " [12 13 14 15]]\n"
          ]
        }
      ]
    },
    {
      "cell_type": "markdown",
      "source": [
        "# Basic Statistical Functions"
      ],
      "metadata": {
        "id": "I5gE-GLyRPH7"
      }
    },
    {
      "cell_type": "code",
      "source": [
        "import numpy as np\n",
        "\n",
        "# Creating an array\n",
        "data = np.array([1, 2, 3, 4, 5, 6, 7, 8, 9, 10])\n",
        "\n",
        "# Calculating the mean\n",
        "mean = np.mean(data)\n",
        "print(\"Mean:\", mean)\n",
        "\n",
        "# Calculating the median\n",
        "median = np.median(data)\n",
        "print(\"Median:\", median)\n",
        "\n",
        "# Calculating the standard deviation\n",
        "std_dev = np.std(data)\n",
        "print(\"Standard Deviation:\", std_dev)\n",
        "\n",
        "# Calculating the variance\n",
        "variance = np.var(data)\n",
        "print(\"Variance:\", variance)"
      ],
      "metadata": {
        "colab": {
          "base_uri": "https://localhost:8080/"
        },
        "id": "JiOlcv2kRNrB",
        "outputId": "7a1d9925-da8c-414f-c2f4-c14f0ee72a0a"
      },
      "execution_count": 17,
      "outputs": [
        {
          "output_type": "stream",
          "name": "stdout",
          "text": [
            "Mean: 5.5\n",
            "Median: 5.5\n",
            "Standard Deviation: 2.8722813232690143\n",
            "Variance: 8.25\n"
          ]
        }
      ]
    },
    {
      "cell_type": "markdown",
      "source": [
        "# Summarizing Statistics"
      ],
      "metadata": {
        "id": "tIlyPaLyRSN6"
      }
    },
    {
      "cell_type": "code",
      "source": [
        "# Creating an array\n",
        "data = np.array([1, 2, 3, 4, 5, 6, 7, 8, 9, 10])\n",
        "\n",
        "# Calculating the minimum value\n",
        "min_value = np.min(data)\n",
        "print(\"Minimum value:\", min_value)\n",
        "\n",
        "# Calculating the maximum value\n",
        "max_value = np.max(data)\n",
        "print(\"Maximum value:\", max_value)\n",
        "\n",
        "# Calculating the sum of all elements\n",
        "sum_value = np.sum(data)\n",
        "print(\"Sum:\", sum_value)\n",
        "\n",
        "# Calculating the product of all elements\n",
        "product_value = np.prod(data)\n",
        "print(\"Product:\", product_value)"
      ],
      "metadata": {
        "colab": {
          "base_uri": "https://localhost:8080/"
        },
        "id": "DsaqiU3ARQ4Y",
        "outputId": "4d0fb926-8b26-46c1-f8d0-9bbd69b3e18a"
      },
      "execution_count": 18,
      "outputs": [
        {
          "output_type": "stream",
          "name": "stdout",
          "text": [
            "Minimum value: 1\n",
            "Maximum value: 10\n",
            "Sum: 55\n",
            "Product: 3628800\n"
          ]
        }
      ]
    },
    {
      "cell_type": "markdown",
      "source": [
        "# Statistical Operations on Multi-dimensional Arrays"
      ],
      "metadata": {
        "id": "qbuUkNPjRWtS"
      }
    },
    {
      "cell_type": "code",
      "source": [
        "# Creating a 2D array\n",
        "data_2d = np.array([[1, 2, 3], [4, 5, 6], [7, 8, 9]])\n",
        "\n",
        "# Calculating the mean along the rows (axis 1)\n",
        "mean_rows = np.mean(data_2d, axis=1)\n",
        "print(\"Mean along rows:\", mean_rows)\n",
        "\n",
        "# Calculating the mean along the columns (axis 0)\n",
        "mean_columns = np.mean(data_2d, axis=0)\n",
        "print(\"Mean along columns:\", mean_columns)\n",
        "\n",
        "# Calculating the sum along the rows\n",
        "sum_rows = np.sum(data_2d, axis=1)\n",
        "print(\"Sum along rows:\", sum_rows)\n",
        "\n",
        "# Calculating the sum along the columns\n",
        "sum_columns = np.sum(data_2d, axis=0)\n",
        "print(\"Sum along columns:\", sum_columns)"
      ],
      "metadata": {
        "colab": {
          "base_uri": "https://localhost:8080/"
        },
        "id": "KRSX1OF8RVn4",
        "outputId": "28457509-dc1d-48ef-f72d-d6a984816c1d"
      },
      "execution_count": 19,
      "outputs": [
        {
          "output_type": "stream",
          "name": "stdout",
          "text": [
            "Mean along rows: [2. 5. 8.]\n",
            "Mean along columns: [4. 5. 6.]\n",
            "Sum along rows: [ 6 15 24]\n",
            "Sum along columns: [12 15 18]\n"
          ]
        }
      ]
    },
    {
      "cell_type": "markdown",
      "source": [
        "# Correlation and Covariance"
      ],
      "metadata": {
        "id": "0tV3cNWsRZvw"
      }
    },
    {
      "cell_type": "code",
      "source": [
        "# Creating two arrays\n",
        "x = np.array([1, 2, 3, 4, 5])\n",
        "y = np.array([10, 20, 30, 40, 50])\n",
        "\n",
        "# Calculating the correlation coefficient\n",
        "correlation_matrix = np.corrcoef(x, y)\n",
        "print(\"Correlation coefficient matrix:\\n\", correlation_matrix)\n",
        "\n",
        "# Calculating the covariance matrix\n",
        "covariance_matrix = np.cov(x, y)\n",
        "print(\"Covariance matrix:\\n\", covariance_matrix)"
      ],
      "metadata": {
        "colab": {
          "base_uri": "https://localhost:8080/"
        },
        "id": "ixczaHRURYWi",
        "outputId": "0fadd554-8645-400d-9e45-bafb28fc1401"
      },
      "execution_count": 20,
      "outputs": [
        {
          "output_type": "stream",
          "name": "stdout",
          "text": [
            "Correlation coefficient matrix:\n",
            " [[1. 1.]\n",
            " [1. 1.]]\n",
            "Covariance matrix:\n",
            " [[  2.5  25. ]\n",
            " [ 25.  250. ]]\n"
          ]
        }
      ]
    },
    {
      "cell_type": "markdown",
      "source": [
        "# Percentiles and Quantiles"
      ],
      "metadata": {
        "id": "GNss7YHjRcaU"
      }
    },
    {
      "cell_type": "code",
      "source": [
        "# Creating an array\n",
        "data = np.array([1, 2, 3, 4, 5, 6, 7, 8, 9, 10])\n",
        "\n",
        "# Calculating the 25th, 50th (median), and 75th percentiles\n",
        "percentile_25 = np.percentile(data, 25)\n",
        "percentile_50 = np.percentile(data, 50)\n",
        "percentile_75 = np.percentile(data, 75)\n",
        "\n",
        "print(\"25th Percentile:\", percentile_25)\n",
        "print(\"50th Percentile (Median):\", percentile_50)\n",
        "print(\"75th Percentile:\", percentile_75)\n",
        "\n",
        "# Calculating quantiles (0.25, 0.5, 0.75)\n",
        "quantiles = np.quantile(data, [0.25, 0.5, 0.75])\n",
        "print(\"Quantiles (0.25, 0.5, 0.75):\", quantiles)"
      ],
      "metadata": {
        "colab": {
          "base_uri": "https://localhost:8080/"
        },
        "id": "WZNaB5RIRbI9",
        "outputId": "aa2dac50-8143-4772-d365-613f91880567"
      },
      "execution_count": 21,
      "outputs": [
        {
          "output_type": "stream",
          "name": "stdout",
          "text": [
            "25th Percentile: 3.25\n",
            "50th Percentile (Median): 5.5\n",
            "75th Percentile: 7.75\n",
            "Quantiles (0.25, 0.5, 0.75): [3.25 5.5  7.75]\n"
          ]
        }
      ]
    },
    {
      "cell_type": "markdown",
      "source": [
        "# Practical Examples of Broadcasting\n",
        "## Example 1: Adding a Scalar to an Array"
      ],
      "metadata": {
        "id": "0rDVBgmKRg3F"
      }
    },
    {
      "cell_type": "code",
      "source": [
        "# Creating a 1D array\n",
        "array = np.array([1, 2, 3])\n",
        "\n",
        "# Adding a scalar value to the array\n",
        "result = array + 5\n",
        "print(\"Array + scalar:\\n\", result)"
      ],
      "metadata": {
        "colab": {
          "base_uri": "https://localhost:8080/"
        },
        "id": "MgI4Q5G6Rds-",
        "outputId": "9cb44959-112f-4c5d-9242-efdd56fc501b"
      },
      "execution_count": 22,
      "outputs": [
        {
          "output_type": "stream",
          "name": "stdout",
          "text": [
            "Array + scalar:\n",
            " [6 7 8]\n"
          ]
        }
      ]
    },
    {
      "cell_type": "markdown",
      "source": [
        "## Example 2: Adding Arrays of Different Shapes"
      ],
      "metadata": {
        "id": "rEbgi0B8Rkxl"
      }
    },
    {
      "cell_type": "code",
      "source": [
        "# Creating a 2D array\n",
        "array_2d = np.array([[1, 2, 3], [4, 5, 6]])\n",
        "\n",
        "# Creating a 1D array\n",
        "array_1d = np.array([10, 20, 30])\n",
        "\n",
        "# Adding the 2D array and the 1D array\n",
        "result = array_2d + array_1d\n",
        "print(\"2D array + 1D array:\\n\", result)"
      ],
      "metadata": {
        "colab": {
          "base_uri": "https://localhost:8080/"
        },
        "id": "8TFBuW-xRj5u",
        "outputId": "c51f037d-d55a-4a2a-b75d-89f880419195"
      },
      "execution_count": 23,
      "outputs": [
        {
          "output_type": "stream",
          "name": "stdout",
          "text": [
            "2D array + 1D array:\n",
            " [[11 22 33]\n",
            " [14 25 36]]\n"
          ]
        }
      ]
    },
    {
      "cell_type": "markdown",
      "source": [
        "## Example 3: Broadcasting with Multi-dimensional Arrays"
      ],
      "metadata": {
        "id": "lH4x66KkRosB"
      }
    },
    {
      "cell_type": "code",
      "source": [
        "# Creating a 3D array\n",
        "array_3d = np.array([[[1], [2], [3]], [[4], [5], [6]]])\n",
        "\n",
        "# Creating a 2D array\n",
        "array_2d = np.array([[10, 20, 30]])\n",
        "\n",
        "# Adding the 3D array and the 2D array\n",
        "result = array_3d + array_2d\n",
        "print(\"3D array + 2D array:\\n\", result)"
      ],
      "metadata": {
        "colab": {
          "base_uri": "https://localhost:8080/"
        },
        "id": "8bl9ZWFtRmpf",
        "outputId": "9b407d6d-5ba1-4c77-b8cb-7edb77748198"
      },
      "execution_count": 24,
      "outputs": [
        {
          "output_type": "stream",
          "name": "stdout",
          "text": [
            "3D array + 2D array:\n",
            " [[[11 21 31]\n",
            "  [12 22 32]\n",
            "  [13 23 33]]\n",
            "\n",
            " [[14 24 34]\n",
            "  [15 25 35]\n",
            "  [16 26 36]]]\n"
          ]
        }
      ]
    },
    {
      "cell_type": "markdown",
      "source": [
        "# Normalizing Data"
      ],
      "metadata": {
        "id": "OyAJEs8hRr-h"
      }
    },
    {
      "cell_type": "code",
      "source": [
        "# Creating a 2D array representing data\n",
        "data = np.array([[1, 2, 3], [4, 5, 6], [7, 8, 9]])\n",
        "\n",
        "# Calculating the mean and standard deviation\n",
        "mean = np.mean(data, axis=0)\n",
        "std_dev = np.std(data, axis=0)\n",
        "\n",
        "# Normalizing the data (z-score normalization)\n",
        "normalized_data = (data - mean) / std_dev\n",
        "print(\"Normalized data:\\n\", normalized_data)"
      ],
      "metadata": {
        "colab": {
          "base_uri": "https://localhost:8080/"
        },
        "id": "erM5ALzGRqOO",
        "outputId": "dea26b5f-716d-4a33-8516-13107abf93df"
      },
      "execution_count": 25,
      "outputs": [
        {
          "output_type": "stream",
          "name": "stdout",
          "text": [
            "Normalized data:\n",
            " [[-1.22474487 -1.22474487 -1.22474487]\n",
            " [ 0.          0.          0.        ]\n",
            " [ 1.22474487  1.22474487  1.22474487]]\n"
          ]
        }
      ]
    },
    {
      "cell_type": "code",
      "source": [
        "# Creating a 3D array representing an image with 3 color channels (RGB)\n",
        "image = np.random.randint(0, 256, (100, 100, 3), dtype=np.uint8)\n",
        "\n",
        "# Creating an array representing a color filter (increase brightness)\n",
        "filter = np.array([10, 20, 30])\n",
        "\n",
        "# Applying the filter to the image\n",
        "filtered_image = image + filter\n",
        "print(\"Filtered image shape:\", filtered_image.shape)"
      ],
      "metadata": {
        "colab": {
          "base_uri": "https://localhost:8080/"
        },
        "id": "DxSBIPbbRtba",
        "outputId": "92f7d2b2-e7a1-4e06-f65a-8ec9ec96dd47"
      },
      "execution_count": 26,
      "outputs": [
        {
          "output_type": "stream",
          "name": "stdout",
          "text": [
            "Filtered image shape: (100, 100, 3)\n"
          ]
        }
      ]
    },
    {
      "cell_type": "markdown",
      "source": [
        "# Working with Multi-dimensional Arrays\n"
      ],
      "metadata": {
        "id": "QrVlSr7oRwfC"
      }
    },
    {
      "cell_type": "code",
      "source": [
        "# Creating a 3D array\n",
        "array_3d = np.arange(27).reshape((3, 3, 3))\n",
        "print(\"Original 3D array:\\n\", array_3d)\n",
        "\n",
        "# Accessing elements\n",
        "print(\"Element at position (1, 1, 1):\", array_3d[1, 1, 1])\n",
        "\n",
        "# Slicing the array\n",
        "slice_3d = array_3d[:, :, 1]\n",
        "print(\"Sliced 3D array along the third dimension:\\n\", slice_3d)"
      ],
      "metadata": {
        "colab": {
          "base_uri": "https://localhost:8080/"
        },
        "id": "s9uakMg4RvAD",
        "outputId": "a4aac34b-bf91-4d7f-fb45-db61642023cf"
      },
      "execution_count": 27,
      "outputs": [
        {
          "output_type": "stream",
          "name": "stdout",
          "text": [
            "Original 3D array:\n",
            " [[[ 0  1  2]\n",
            "  [ 3  4  5]\n",
            "  [ 6  7  8]]\n",
            "\n",
            " [[ 9 10 11]\n",
            "  [12 13 14]\n",
            "  [15 16 17]]\n",
            "\n",
            " [[18 19 20]\n",
            "  [21 22 23]\n",
            "  [24 25 26]]]\n",
            "Element at position (1, 1, 1): 13\n",
            "Sliced 3D array along the third dimension:\n",
            " [[ 1  4  7]\n",
            " [10 13 16]\n",
            " [19 22 25]]\n"
          ]
        }
      ]
    },
    {
      "cell_type": "markdown",
      "source": [
        "# Matrix Multiplication"
      ],
      "metadata": {
        "id": "0e4xxdTSR0tb"
      }
    },
    {
      "cell_type": "code",
      "source": [
        "# Creating two matrices\n",
        "matrix1 = np.array([[1, 2], [3, 4]])\n",
        "matrix2 = np.array([[5, 6], [7, 8]])\n",
        "\n",
        "# Matrix multiplication\n",
        "matrix_product = np.dot(matrix1, matrix2)\n",
        "print(\"Matrix product:\\n\", matrix_product)"
      ],
      "metadata": {
        "colab": {
          "base_uri": "https://localhost:8080/"
        },
        "id": "PhRbCSE7RyD6",
        "outputId": "c7d074e5-90f6-402f-c1f9-c84496e3d6e9"
      },
      "execution_count": 28,
      "outputs": [
        {
          "output_type": "stream",
          "name": "stdout",
          "text": [
            "Matrix product:\n",
            " [[19 22]\n",
            " [43 50]]\n"
          ]
        }
      ]
    },
    {
      "cell_type": "markdown",
      "source": [
        "# Determinant"
      ],
      "metadata": {
        "id": "XYisbtDmR33_"
      }
    },
    {
      "cell_type": "code",
      "source": [
        "# Creating a matrix\n",
        "matrix = np.array([[1, 2], [3, 4]])\n",
        "\n",
        "# Calculating the determinant\n",
        "det = np.linalg.det(matrix)\n",
        "print(\"Determinant:\", det)"
      ],
      "metadata": {
        "colab": {
          "base_uri": "https://localhost:8080/"
        },
        "id": "ywltMZJMR2L0",
        "outputId": "9a6a3695-e3d6-4eeb-8a0d-7e7878e2d783"
      },
      "execution_count": 29,
      "outputs": [
        {
          "output_type": "stream",
          "name": "stdout",
          "text": [
            "Determinant: -2.0000000000000004\n"
          ]
        }
      ]
    },
    {
      "cell_type": "markdown",
      "source": [
        "# Eigenvalues and Eigenvectors"
      ],
      "metadata": {
        "id": "o21m3b1AR6sA"
      }
    },
    {
      "cell_type": "code",
      "source": [
        "# Creating a matrix\n",
        "matrix = np.array([[1, 2], [3, 4]])\n",
        "\n",
        "# Calculating eigenvalues and eigenvectors\n",
        "eigenvalues, eigenvectors = np.linalg.eig(matrix)\n",
        "print(\"Eigenvalues:\", eigenvalues)\n",
        "print(\"Eigenvectors:\\n\", eigenvectors)"
      ],
      "metadata": {
        "colab": {
          "base_uri": "https://localhost:8080/"
        },
        "id": "wbqtj9BXR5qK",
        "outputId": "fb1394d8-426d-43bc-b290-091d62a308f0"
      },
      "execution_count": 30,
      "outputs": [
        {
          "output_type": "stream",
          "name": "stdout",
          "text": [
            "Eigenvalues: [-0.37228132  5.37228132]\n",
            "Eigenvectors:\n",
            " [[-0.82456484 -0.41597356]\n",
            " [ 0.56576746 -0.90937671]]\n"
          ]
        }
      ]
    },
    {
      "cell_type": "markdown",
      "source": [
        "# Indexing with Arrays"
      ],
      "metadata": {
        "id": "JH3c5biGR94l"
      }
    },
    {
      "cell_type": "code",
      "source": [
        "# Creating an array\n",
        "array = np.array([10, 20, 30, 40, 50])\n",
        "\n",
        "# Indexing with another array\n",
        "indices = np.array([1, 3])\n",
        "print(\"Elements at indices 1 and 3:\", array[indices])"
      ],
      "metadata": {
        "colab": {
          "base_uri": "https://localhost:8080/"
        },
        "id": "YxPTSKsKR8qS",
        "outputId": "14edaebc-f2b9-4481-edaa-6b5ab5d2fd8d"
      },
      "execution_count": 32,
      "outputs": [
        {
          "output_type": "stream",
          "name": "stdout",
          "text": [
            "Elements at indices 1 and 3: [20 40]\n"
          ]
        }
      ]
    },
    {
      "cell_type": "markdown",
      "source": [
        "# Conditional Indexing"
      ],
      "metadata": {
        "id": "WEEDN6zVSBv7"
      }
    },
    {
      "cell_type": "code",
      "source": [
        "# Creating an array\n",
        "array = np.array([10, 20, 30, 40, 50])\n",
        "\n",
        "# Conditional indexing\n",
        "condition = array > 30\n",
        "filtered_array = array[condition]\n",
        "print(\"Elements greater than 30:\", filtered_array)"
      ],
      "metadata": {
        "colab": {
          "base_uri": "https://localhost:8080/"
        },
        "id": "VZyduY3hR_ch",
        "outputId": "e17101f9-09fb-44cd-97e4-9e6a3f1a88b2"
      },
      "execution_count": 33,
      "outputs": [
        {
          "output_type": "stream",
          "name": "stdout",
          "text": [
            "Elements greater than 30: [40 50]\n"
          ]
        }
      ]
    },
    {
      "cell_type": "markdown",
      "source": [
        "# Using np.where"
      ],
      "metadata": {
        "id": "KrXgdQ32SHOo"
      }
    },
    {
      "cell_type": "code",
      "source": [
        "# Creating an array\n",
        "array = np.array([10, 20, 30, 40, 50])\n",
        "\n",
        "# Using np.where\n",
        "result = np.where(array > 30, array, -1)\n",
        "print(\"Elements greater than 30, else -1:\", result)"
      ],
      "metadata": {
        "colab": {
          "base_uri": "https://localhost:8080/"
        },
        "id": "pm7Erfn0SGOZ",
        "outputId": "00379cbb-cf1b-4869-9daa-e8037d399bd3"
      },
      "execution_count": 34,
      "outputs": [
        {
          "output_type": "stream",
          "name": "stdout",
          "text": [
            "Elements greater than 30, else -1: [-1 -1 -1 40 50]\n"
          ]
        }
      ]
    }
  ]
}
