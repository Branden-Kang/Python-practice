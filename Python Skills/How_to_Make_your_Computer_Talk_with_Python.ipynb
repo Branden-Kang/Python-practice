{
  "nbformat": 4,
  "nbformat_minor": 0,
  "metadata": {
    "colab": {
      "name": "How to Make your Computer Talk with Python.ipynb",
      "provenance": [],
      "authorship_tag": "ABX9TyManSpMs4IpRqm1m8uDiM7n"
    },
    "kernelspec": {
      "name": "python3",
      "display_name": "Python 3"
    },
    "language_info": {
      "name": "python"
    }
  },
  "cells": [
    {
      "cell_type": "markdown",
      "metadata": {
        "id": "Xhec09sjWTF6"
      },
      "source": [
        "[Reference](https://towardsdatascience.com/how-to-make-your-computer-talk-with-python-63f6c6eb534a)"
      ]
    },
    {
      "cell_type": "code",
      "metadata": {
        "id": "8IPtohF3V4Ux"
      },
      "source": [
        "import pyttsx3\n",
        "\n",
        "engine = pyttsx3.init()\n",
        "\n",
        "voice_num = 2\n",
        "text_to_say = \"Hello World! I am Robert!\"\n",
        "\n",
        "voices = engine.getProperty('voices')\n",
        "engine.setProperty('voice', voices[voice_num].id)\n",
        "\n",
        "engine.say(text_to_say)\n",
        "engine.runAndWait()"
      ],
      "execution_count": 1,
      "outputs": []
    }
  ]
}