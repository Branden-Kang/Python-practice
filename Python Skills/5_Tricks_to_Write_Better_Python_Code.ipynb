{
  "nbformat": 4,
  "nbformat_minor": 0,
  "metadata": {
    "colab": {
      "name": "5 Tricks to Write Better Python Code.ipynb",
      "provenance": [],
      "authorship_tag": "ABX9TyOQUtpAw4HrBw4I66va3F2G"
    },
    "kernelspec": {
      "name": "python3",
      "display_name": "Python 3"
    },
    "language_info": {
      "name": "python"
    }
  },
  "cells": [
    {
      "cell_type": "markdown",
      "metadata": {
        "id": "zMBnQ3xnJsLD"
      },
      "source": [
        "[Reference](https://python.plainenglish.io/5-incredible-tricks-to-write-your-code-better-in-python-in-2021-265475079bbc)"
      ]
    },
    {
      "cell_type": "markdown",
      "metadata": {
        "id": "H72u4SqMJuv3"
      },
      "source": [
        "# 1. List Comprehension with Python"
      ]
    },
    {
      "cell_type": "code",
      "metadata": {
        "colab": {
          "base_uri": "https://localhost:8080/"
        },
        "id": "iXz3cffPJpfW",
        "outputId": "3592ce2d-71eb-42af-9610-96f771169709"
      },
      "source": [
        "square_list = []\n",
        "for x in range(1, 10):\n",
        "    temp = x**2\n",
        "    square_list.append(temp)\n",
        "print(square_list)"
      ],
      "execution_count": 2,
      "outputs": [
        {
          "output_type": "stream",
          "text": [
            "[1, 4, 9, 16, 25, 36, 49, 64, 81]\n"
          ],
          "name": "stdout"
        }
      ]
    },
    {
      "cell_type": "code",
      "metadata": {
        "colab": {
          "base_uri": "https://localhost:8080/"
        },
        "id": "-CxCgLhKJ2JU",
        "outputId": "b4406f42-0466-4d16-cf50-5b38b1b99a0e"
      },
      "source": [
        "square_list = [x**2 for x in range(1,10)]\n",
        "print(square_list)"
      ],
      "execution_count": 3,
      "outputs": [
        {
          "output_type": "stream",
          "text": [
            "[1, 4, 9, 16, 25, 36, 49, 64, 81]\n"
          ],
          "name": "stdout"
        }
      ]
    },
    {
      "cell_type": "markdown",
      "metadata": {
        "id": "oKrnLB5vKA6R"
      },
      "source": [
        "# 2. Using Conditions in Ternary Operator"
      ]
    },
    {
      "cell_type": "code",
      "metadata": {
        "colab": {
          "base_uri": "https://localhost:8080/"
        },
        "id": "L6OynG5WJ8s5",
        "outputId": "931651b6-11de-4759-d014-cd50c5730410"
      },
      "source": [
        "age = 16\n",
        "print(\"Teen\") if age>20 & age >= 13 else print(\"Not a Teen\")"
      ],
      "execution_count": 4,
      "outputs": [
        {
          "output_type": "stream",
          "text": [
            "Not a Teen\n"
          ],
          "name": "stdout"
        }
      ]
    },
    {
      "cell_type": "markdown",
      "metadata": {
        "id": "zmuab1Q2KgMN"
      },
      "source": [
        "# 3. Repeating the element multiple times"
      ]
    },
    {
      "cell_type": "code",
      "metadata": {
        "colab": {
          "base_uri": "https://localhost:8080/"
        },
        "id": "VFmkMoRcKHA_",
        "outputId": "74e80a76-4de8-4339-d80b-ae0e92e5cfac"
      },
      "source": [
        "my_list = [3, 7, 3]\n",
        "multi_list = my_list*3\n",
        "print(multi_list)"
      ],
      "execution_count": 6,
      "outputs": [
        {
          "output_type": "stream",
          "text": [
            "[3, 7, 3, 3, 7, 3, 3, 7, 3]\n"
          ],
          "name": "stdout"
        }
      ]
    },
    {
      "cell_type": "markdown",
      "metadata": {
        "id": "rp3Xx2ZkKkCJ"
      },
      "source": [
        "# 4. Create Number Sequence with range"
      ]
    },
    {
      "cell_type": "code",
      "metadata": {
        "colab": {
          "base_uri": "https://localhost:8080/"
        },
        "id": "H57Y8GIQKhcz",
        "outputId": "8ab75873-7cff-4c8d-d5e8-9d66fd0c158c"
      },
      "source": [
        "my_list = list(range(1,20,2))\n",
        "print(my_list)"
      ],
      "execution_count": 8,
      "outputs": [
        {
          "output_type": "stream",
          "text": [
            "[1, 3, 5, 7, 9, 11, 13, 15, 17, 19]\n"
          ],
          "name": "stdout"
        }
      ]
    },
    {
      "cell_type": "markdown",
      "metadata": {
        "id": "NRtSWMmiK0uu"
      },
      "source": [
        "# 5. Checking for Anagram of Two strings"
      ]
    },
    {
      "cell_type": "code",
      "metadata": {
        "colab": {
          "base_uri": "https://localhost:8080/"
        },
        "id": "Kkr0VaJ_KlrZ",
        "outputId": "bbe3b032-6f3c-4b5e-e9e6-ddd46489c194"
      },
      "source": [
        "from collections import Counter\n",
        "string_1 = \"BANANAS\"\n",
        "string_2 = \"SANANAB\"\n",
        "\n",
        "if (Counter(string_1) == Counter(string_2)):\n",
        "    print(\"Anagram\")\n",
        "else:\n",
        "    print(\"Not Anagram\")"
      ],
      "execution_count": 9,
      "outputs": [
        {
          "output_type": "stream",
          "text": [
            "Anagram\n"
          ],
          "name": "stdout"
        }
      ]
    }
  ]
}