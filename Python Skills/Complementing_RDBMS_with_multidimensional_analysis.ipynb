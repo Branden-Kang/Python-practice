{
  "nbformat": 4,
  "nbformat_minor": 0,
  "metadata": {
    "colab": {
      "name": "Complementing RDBMS with multidimensional analysis.ipynb",
      "provenance": [],
      "authorship_tag": "ABX9TyNrQ2H+4nb71DmcAJaYfuos"
    },
    "kernelspec": {
      "name": "python3",
      "display_name": "Python 3"
    },
    "language_info": {
      "name": "python"
    }
  },
  "cells": [
    {
      "cell_type": "markdown",
      "source": [
        "[Reference](https://medium.com/atoti/complementing-rdbms-with-multidimensional-analysis-3e7b45524399)"
      ],
      "metadata": {
        "id": "hZWAaoCeUD7b"
      }
    },
    {
      "cell_type": "code",
      "execution_count": 1,
      "metadata": {
        "colab": {
          "base_uri": "https://localhost:8080/",
          "height": 1000
        },
        "id": "V5Eww1LISuJk",
        "outputId": "eb913e8e-be63-41f9-b03c-ce3fd2fc6a32"
      },
      "outputs": [
        {
          "output_type": "stream",
          "name": "stdout",
          "text": [
            "Collecting atoti[jupyterlab,sql]\n",
            "  Downloading atoti-0.6.3-0_bb62584-py3-none-any.whl (146.6 MB)\n",
            "\u001b[K     |████████████████████████████████| 146.6 MB 33 kB/s \n",
            "\u001b[?25hCollecting pyarrow~=6.0\n",
            "  Downloading pyarrow-6.0.1-cp37-cp37m-manylinux_2_17_x86_64.manylinux2014_x86_64.whl (25.6 MB)\n",
            "\u001b[K     |████████████████████████████████| 25.6 MB 1.5 MB/s \n",
            "\u001b[?25hRequirement already satisfied: importlib-metadata>=3.6.0 in /usr/local/lib/python3.7/dist-packages (from atoti[jupyterlab,sql]) (4.8.2)\n",
            "Collecting jdk4py~=11.0\n",
            "  Downloading jdk4py-11.0.13.1-0-py3-none-manylinux1_x86_64.whl (35.7 MB)\n",
            "\u001b[K     |████████████████████████████████| 35.7 MB 182 kB/s \n",
            "\u001b[?25hRequirement already satisfied: numpy!=1.19.4 in /usr/local/lib/python3.7/dist-packages (from atoti[jupyterlab,sql]) (1.19.5)\n",
            "Collecting typeguard~=2.12\n",
            "  Downloading typeguard-2.13.3-py3-none-any.whl (17 kB)\n",
            "Requirement already satisfied: typing-extensions in /usr/local/lib/python3.7/dist-packages (from atoti[jupyterlab,sql]) (3.10.0.2)\n",
            "Collecting py4j~=0.10.9\n",
            "  Downloading py4j-0.10.9.3-py2.py3-none-any.whl (198 kB)\n",
            "\u001b[K     |████████████████████████████████| 198 kB 49.4 MB/s \n",
            "\u001b[?25hRequirement already satisfied: pandas in /usr/local/lib/python3.7/dist-packages (from atoti[jupyterlab,sql]) (1.1.5)\n",
            "Collecting atoti-jupyterlab==0.6.3\n",
            "  Downloading atoti_jupyterlab-0.6.3-0_bb62584-py3-none-any.whl (6.0 MB)\n",
            "\u001b[K     |████████████████████████████████| 6.0 MB 14.6 MB/s \n",
            "\u001b[?25hCollecting atoti-sql==0.6.3\n",
            "  Downloading atoti_sql-0.6.3-0_bb62584-py3-none-any.whl (23.6 MB)\n",
            "\u001b[K     |████████████████████████████████| 23.6 MB 1.4 MB/s \n",
            "\u001b[?25hCollecting jupyterlab~=3.0\n",
            "  Downloading jupyterlab-3.2.6-py3-none-any.whl (8.6 MB)\n",
            "\u001b[K     |████████████████████████████████| 8.6 MB 53.5 MB/s \n",
            "\u001b[?25hRequirement already satisfied: zipp>=0.5 in /usr/local/lib/python3.7/dist-packages (from importlib-metadata>=3.6.0->atoti[jupyterlab,sql]) (3.6.0)\n",
            "Collecting tornado>=6.1.0\n",
            "  Downloading tornado-6.1-cp37-cp37m-manylinux2010_x86_64.whl (428 kB)\n",
            "\u001b[K     |████████████████████████████████| 428 kB 23.8 MB/s \n",
            "\u001b[?25hRequirement already satisfied: jupyter-core in /usr/local/lib/python3.7/dist-packages (from jupyterlab~=3.0->atoti-jupyterlab==0.6.3->atoti[jupyterlab,sql]) (4.9.1)\n",
            "Requirement already satisfied: ipython in /usr/local/lib/python3.7/dist-packages (from jupyterlab~=3.0->atoti-jupyterlab==0.6.3->atoti[jupyterlab,sql]) (5.5.0)\n",
            "Requirement already satisfied: jinja2>=2.1 in /usr/local/lib/python3.7/dist-packages (from jupyterlab~=3.0->atoti-jupyterlab==0.6.3->atoti[jupyterlab,sql]) (2.11.3)\n",
            "Collecting jupyter-server~=1.4\n",
            "  Downloading jupyter_server-1.13.1-py3-none-any.whl (396 kB)\n",
            "\u001b[K     |████████████████████████████████| 396 kB 58.8 MB/s \n",
            "\u001b[?25hRequirement already satisfied: packaging in /usr/local/lib/python3.7/dist-packages (from jupyterlab~=3.0->atoti-jupyterlab==0.6.3->atoti[jupyterlab,sql]) (21.3)\n",
            "Collecting jupyterlab-server~=2.3\n",
            "  Downloading jupyterlab_server-2.10.3-py3-none-any.whl (61 kB)\n",
            "\u001b[K     |████████████████████████████████| 61 kB 7.7 MB/s \n",
            "\u001b[?25hCollecting nbclassic~=0.2\n",
            "  Downloading nbclassic-0.3.4-py3-none-any.whl (25 kB)\n",
            "Requirement already satisfied: MarkupSafe>=0.23 in /usr/local/lib/python3.7/dist-packages (from jinja2>=2.1->jupyterlab~=3.0->atoti-jupyterlab==0.6.3->atoti[jupyterlab,sql]) (2.0.1)\n",
            "Requirement already satisfied: Send2Trash in /usr/local/lib/python3.7/dist-packages (from jupyter-server~=1.4->jupyterlab~=3.0->atoti-jupyterlab==0.6.3->atoti[jupyterlab,sql]) (1.8.0)\n",
            "Requirement already satisfied: argon2-cffi in /usr/local/lib/python3.7/dist-packages (from jupyter-server~=1.4->jupyterlab~=3.0->atoti-jupyterlab==0.6.3->atoti[jupyterlab,sql]) (21.3.0)\n",
            "Collecting anyio<4,>=3.1.0\n",
            "  Downloading anyio-3.5.0-py3-none-any.whl (79 kB)\n",
            "\u001b[K     |████████████████████████████████| 79 kB 7.7 MB/s \n",
            "\u001b[?25hRequirement already satisfied: prometheus-client in /usr/local/lib/python3.7/dist-packages (from jupyter-server~=1.4->jupyterlab~=3.0->atoti-jupyterlab==0.6.3->atoti[jupyterlab,sql]) (0.12.0)\n",
            "Requirement already satisfied: terminado>=0.8.3 in /usr/local/lib/python3.7/dist-packages (from jupyter-server~=1.4->jupyterlab~=3.0->atoti-jupyterlab==0.6.3->atoti[jupyterlab,sql]) (0.12.1)\n",
            "Requirement already satisfied: pyzmq>=17 in /usr/local/lib/python3.7/dist-packages (from jupyter-server~=1.4->jupyterlab~=3.0->atoti-jupyterlab==0.6.3->atoti[jupyterlab,sql]) (22.3.0)\n",
            "Collecting jupyter-client>=6.1.1\n",
            "  Downloading jupyter_client-7.1.0-py3-none-any.whl (129 kB)\n",
            "\u001b[K     |████████████████████████████████| 129 kB 56.9 MB/s \n",
            "\u001b[?25hRequirement already satisfied: nbformat in /usr/local/lib/python3.7/dist-packages (from jupyter-server~=1.4->jupyterlab~=3.0->atoti-jupyterlab==0.6.3->atoti[jupyterlab,sql]) (5.1.3)\n",
            "Requirement already satisfied: ipython-genutils in /usr/local/lib/python3.7/dist-packages (from jupyter-server~=1.4->jupyterlab~=3.0->atoti-jupyterlab==0.6.3->atoti[jupyterlab,sql]) (0.2.0)\n",
            "Requirement already satisfied: nbconvert in /usr/local/lib/python3.7/dist-packages (from jupyter-server~=1.4->jupyterlab~=3.0->atoti-jupyterlab==0.6.3->atoti[jupyterlab,sql]) (5.6.1)\n",
            "Requirement already satisfied: traitlets>=4.2.1 in /usr/local/lib/python3.7/dist-packages (from jupyter-server~=1.4->jupyterlab~=3.0->atoti-jupyterlab==0.6.3->atoti[jupyterlab,sql]) (5.1.1)\n",
            "Collecting websocket-client\n",
            "  Downloading websocket_client-1.2.3-py3-none-any.whl (53 kB)\n",
            "\u001b[K     |████████████████████████████████| 53 kB 1.9 MB/s \n",
            "\u001b[?25hRequirement already satisfied: idna>=2.8 in /usr/local/lib/python3.7/dist-packages (from anyio<4,>=3.1.0->jupyter-server~=1.4->jupyterlab~=3.0->atoti-jupyterlab==0.6.3->atoti[jupyterlab,sql]) (2.10)\n",
            "Collecting sniffio>=1.1\n",
            "  Downloading sniffio-1.2.0-py3-none-any.whl (10 kB)\n",
            "Requirement already satisfied: python-dateutil>=2.1 in /usr/local/lib/python3.7/dist-packages (from jupyter-client>=6.1.1->jupyter-server~=1.4->jupyterlab~=3.0->atoti-jupyterlab==0.6.3->atoti[jupyterlab,sql]) (2.8.2)\n",
            "Requirement already satisfied: entrypoints in /usr/local/lib/python3.7/dist-packages (from jupyter-client>=6.1.1->jupyter-server~=1.4->jupyterlab~=3.0->atoti-jupyterlab==0.6.3->atoti[jupyterlab,sql]) (0.3)\n",
            "Requirement already satisfied: nest-asyncio>=1.5 in /usr/local/lib/python3.7/dist-packages (from jupyter-client>=6.1.1->jupyter-server~=1.4->jupyterlab~=3.0->atoti-jupyterlab==0.6.3->atoti[jupyterlab,sql]) (1.5.4)\n",
            "Requirement already satisfied: requests in /usr/local/lib/python3.7/dist-packages (from jupyterlab-server~=2.3->jupyterlab~=3.0->atoti-jupyterlab==0.6.3->atoti[jupyterlab,sql]) (2.23.0)\n",
            "Collecting json5\n",
            "  Downloading json5-0.9.6-py2.py3-none-any.whl (18 kB)\n",
            "Requirement already satisfied: babel in /usr/local/lib/python3.7/dist-packages (from jupyterlab-server~=2.3->jupyterlab~=3.0->atoti-jupyterlab==0.6.3->atoti[jupyterlab,sql]) (2.9.1)\n",
            "Collecting jsonschema>=3.0.1\n",
            "  Downloading jsonschema-4.3.3-py3-none-any.whl (71 kB)\n",
            "\u001b[K     |████████████████████████████████| 71 kB 235 kB/s \n",
            "\u001b[?25hRequirement already satisfied: importlib-resources>=1.4.0 in /usr/local/lib/python3.7/dist-packages (from jsonschema>=3.0.1->jupyterlab-server~=2.3->jupyterlab~=3.0->atoti-jupyterlab==0.6.3->atoti[jupyterlab,sql]) (5.4.0)\n",
            "Requirement already satisfied: attrs>=17.4.0 in /usr/local/lib/python3.7/dist-packages (from jsonschema>=3.0.1->jupyterlab-server~=2.3->jupyterlab~=3.0->atoti-jupyterlab==0.6.3->atoti[jupyterlab,sql]) (21.2.0)\n",
            "Requirement already satisfied: pyrsistent!=0.17.0,!=0.17.1,!=0.17.2,>=0.14.0 in /usr/local/lib/python3.7/dist-packages (from jsonschema>=3.0.1->jupyterlab-server~=2.3->jupyterlab~=3.0->atoti-jupyterlab==0.6.3->atoti[jupyterlab,sql]) (0.18.0)\n",
            "Requirement already satisfied: notebook<7 in /usr/local/lib/python3.7/dist-packages (from nbclassic~=0.2->jupyterlab~=3.0->atoti-jupyterlab==0.6.3->atoti[jupyterlab,sql]) (5.3.1)\n",
            "Requirement already satisfied: ipykernel in /usr/local/lib/python3.7/dist-packages (from notebook<7->nbclassic~=0.2->jupyterlab~=3.0->atoti-jupyterlab==0.6.3->atoti[jupyterlab,sql]) (4.10.1)\n",
            "Requirement already satisfied: six>=1.5 in /usr/local/lib/python3.7/dist-packages (from python-dateutil>=2.1->jupyter-client>=6.1.1->jupyter-server~=1.4->jupyterlab~=3.0->atoti-jupyterlab==0.6.3->atoti[jupyterlab,sql]) (1.15.0)\n",
            "Requirement already satisfied: ptyprocess in /usr/local/lib/python3.7/dist-packages (from terminado>=0.8.3->jupyter-server~=1.4->jupyterlab~=3.0->atoti-jupyterlab==0.6.3->atoti[jupyterlab,sql]) (0.7.0)\n",
            "Requirement already satisfied: argon2-cffi-bindings in /usr/local/lib/python3.7/dist-packages (from argon2-cffi->jupyter-server~=1.4->jupyterlab~=3.0->atoti-jupyterlab==0.6.3->atoti[jupyterlab,sql]) (21.2.0)\n",
            "Requirement already satisfied: cffi>=1.0.1 in /usr/local/lib/python3.7/dist-packages (from argon2-cffi-bindings->argon2-cffi->jupyter-server~=1.4->jupyterlab~=3.0->atoti-jupyterlab==0.6.3->atoti[jupyterlab,sql]) (1.15.0)\n",
            "Requirement already satisfied: pycparser in /usr/local/lib/python3.7/dist-packages (from cffi>=1.0.1->argon2-cffi-bindings->argon2-cffi->jupyter-server~=1.4->jupyterlab~=3.0->atoti-jupyterlab==0.6.3->atoti[jupyterlab,sql]) (2.21)\n",
            "Requirement already satisfied: pytz>=2015.7 in /usr/local/lib/python3.7/dist-packages (from babel->jupyterlab-server~=2.3->jupyterlab~=3.0->atoti-jupyterlab==0.6.3->atoti[jupyterlab,sql]) (2018.9)\n",
            "Requirement already satisfied: pickleshare in /usr/local/lib/python3.7/dist-packages (from ipython->jupyterlab~=3.0->atoti-jupyterlab==0.6.3->atoti[jupyterlab,sql]) (0.7.5)\n",
            "Requirement already satisfied: prompt-toolkit<2.0.0,>=1.0.4 in /usr/local/lib/python3.7/dist-packages (from ipython->jupyterlab~=3.0->atoti-jupyterlab==0.6.3->atoti[jupyterlab,sql]) (1.0.18)\n",
            "Requirement already satisfied: setuptools>=18.5 in /usr/local/lib/python3.7/dist-packages (from ipython->jupyterlab~=3.0->atoti-jupyterlab==0.6.3->atoti[jupyterlab,sql]) (57.4.0)\n",
            "Requirement already satisfied: decorator in /usr/local/lib/python3.7/dist-packages (from ipython->jupyterlab~=3.0->atoti-jupyterlab==0.6.3->atoti[jupyterlab,sql]) (4.4.2)\n",
            "Requirement already satisfied: pygments in /usr/local/lib/python3.7/dist-packages (from ipython->jupyterlab~=3.0->atoti-jupyterlab==0.6.3->atoti[jupyterlab,sql]) (2.6.1)\n",
            "Requirement already satisfied: pexpect in /usr/local/lib/python3.7/dist-packages (from ipython->jupyterlab~=3.0->atoti-jupyterlab==0.6.3->atoti[jupyterlab,sql]) (4.8.0)\n",
            "Requirement already satisfied: simplegeneric>0.8 in /usr/local/lib/python3.7/dist-packages (from ipython->jupyterlab~=3.0->atoti-jupyterlab==0.6.3->atoti[jupyterlab,sql]) (0.8.1)\n",
            "Requirement already satisfied: wcwidth in /usr/local/lib/python3.7/dist-packages (from prompt-toolkit<2.0.0,>=1.0.4->ipython->jupyterlab~=3.0->atoti-jupyterlab==0.6.3->atoti[jupyterlab,sql]) (0.2.5)\n",
            "Requirement already satisfied: mistune<2,>=0.8.1 in /usr/local/lib/python3.7/dist-packages (from nbconvert->jupyter-server~=1.4->jupyterlab~=3.0->atoti-jupyterlab==0.6.3->atoti[jupyterlab,sql]) (0.8.4)\n",
            "Requirement already satisfied: pandocfilters>=1.4.1 in /usr/local/lib/python3.7/dist-packages (from nbconvert->jupyter-server~=1.4->jupyterlab~=3.0->atoti-jupyterlab==0.6.3->atoti[jupyterlab,sql]) (1.5.0)\n",
            "Requirement already satisfied: defusedxml in /usr/local/lib/python3.7/dist-packages (from nbconvert->jupyter-server~=1.4->jupyterlab~=3.0->atoti-jupyterlab==0.6.3->atoti[jupyterlab,sql]) (0.7.1)\n",
            "Requirement already satisfied: bleach in /usr/local/lib/python3.7/dist-packages (from nbconvert->jupyter-server~=1.4->jupyterlab~=3.0->atoti-jupyterlab==0.6.3->atoti[jupyterlab,sql]) (4.1.0)\n",
            "Requirement already satisfied: testpath in /usr/local/lib/python3.7/dist-packages (from nbconvert->jupyter-server~=1.4->jupyterlab~=3.0->atoti-jupyterlab==0.6.3->atoti[jupyterlab,sql]) (0.5.0)\n",
            "Requirement already satisfied: webencodings in /usr/local/lib/python3.7/dist-packages (from bleach->nbconvert->jupyter-server~=1.4->jupyterlab~=3.0->atoti-jupyterlab==0.6.3->atoti[jupyterlab,sql]) (0.5.1)\n",
            "Requirement already satisfied: pyparsing!=3.0.5,>=2.0.2 in /usr/local/lib/python3.7/dist-packages (from packaging->jupyterlab~=3.0->atoti-jupyterlab==0.6.3->atoti[jupyterlab,sql]) (3.0.6)\n",
            "Requirement already satisfied: chardet<4,>=3.0.2 in /usr/local/lib/python3.7/dist-packages (from requests->jupyterlab-server~=2.3->jupyterlab~=3.0->atoti-jupyterlab==0.6.3->atoti[jupyterlab,sql]) (3.0.4)\n",
            "Requirement already satisfied: urllib3!=1.25.0,!=1.25.1,<1.26,>=1.21.1 in /usr/local/lib/python3.7/dist-packages (from requests->jupyterlab-server~=2.3->jupyterlab~=3.0->atoti-jupyterlab==0.6.3->atoti[jupyterlab,sql]) (1.24.3)\n",
            "Requirement already satisfied: certifi>=2017.4.17 in /usr/local/lib/python3.7/dist-packages (from requests->jupyterlab-server~=2.3->jupyterlab~=3.0->atoti-jupyterlab==0.6.3->atoti[jupyterlab,sql]) (2021.10.8)\n",
            "Installing collected packages: tornado, jsonschema, sniffio, jupyter-client, websocket-client, anyio, jupyter-server, json5, typeguard, pyarrow, py4j, nbclassic, jupyterlab-server, jdk4py, jupyterlab, atoti, atoti-sql, atoti-jupyterlab\n",
            "  Attempting uninstall: tornado\n",
            "    Found existing installation: tornado 5.1.1\n",
            "    Uninstalling tornado-5.1.1:\n",
            "      Successfully uninstalled tornado-5.1.1\n",
            "  Attempting uninstall: jsonschema\n",
            "    Found existing installation: jsonschema 2.6.0\n",
            "    Uninstalling jsonschema-2.6.0:\n",
            "      Successfully uninstalled jsonschema-2.6.0\n",
            "  Attempting uninstall: jupyter-client\n",
            "    Found existing installation: jupyter-client 5.3.5\n",
            "    Uninstalling jupyter-client-5.3.5:\n",
            "      Successfully uninstalled jupyter-client-5.3.5\n",
            "  Attempting uninstall: typeguard\n",
            "    Found existing installation: typeguard 2.7.1\n",
            "    Uninstalling typeguard-2.7.1:\n",
            "      Successfully uninstalled typeguard-2.7.1\n",
            "  Attempting uninstall: pyarrow\n",
            "    Found existing installation: pyarrow 3.0.0\n",
            "    Uninstalling pyarrow-3.0.0:\n",
            "      Successfully uninstalled pyarrow-3.0.0\n",
            "\u001b[31mERROR: pip's dependency resolver does not currently take into account all the packages that are installed. This behaviour is the source of the following dependency conflicts.\n",
            "google-colab 1.0.0 requires tornado~=5.1.0; python_version >= \"3.0\", but you have tornado 6.1 which is incompatible.\u001b[0m\n",
            "Successfully installed anyio-3.5.0 atoti-0.6.3 atoti-jupyterlab-0.6.3 atoti-sql-0.6.3 jdk4py-11.0.13.1 json5-0.9.6 jsonschema-4.3.3 jupyter-client-7.1.0 jupyter-server-1.13.1 jupyterlab-3.2.6 jupyterlab-server-2.10.3 nbclassic-0.3.4 py4j-0.10.9.3 pyarrow-6.0.1 sniffio-1.2.0 tornado-6.1 typeguard-2.13.3 websocket-client-1.2.3\n"
          ]
        },
        {
          "output_type": "display_data",
          "data": {
            "application/vnd.colab-display-data+json": {
              "pip_warning": {
                "packages": [
                  "jupyter_client",
                  "tornado"
                ]
              }
            }
          },
          "metadata": {}
        }
      ],
      "source": [
        "pip install atoti[jupyterlab,sql]"
      ]
    },
    {
      "cell_type": "code",
      "source": [
        "import atoti as tt\n",
        "session = tt.create_session()"
      ],
      "metadata": {
        "colab": {
          "base_uri": "https://localhost:8080/"
        },
        "id": "sYS7cz7jTckS",
        "outputId": "84509531-2e8d-4ad7-c84e-61fbb2997160"
      },
      "execution_count": 3,
      "outputs": [
        {
          "output_type": "stream",
          "name": "stdout",
          "text": [
            "Welcome to atoti 0.6.3!\n",
            "\n",
            "    By using this community edition, you agree with the license available at https://docs.atoti.io/latest/eula.html.\n",
            "    Browse the official documentation at https://docs.atoti.io.\n",
            "    Join the community at https://www.atoti.io/register.\n",
            "\n",
            "    atoti collects telemetry data, which is used to help understand how to improve the product.\n",
            "    If you don't wish to send usage data, set the ATOTI_DISABLE_TELEMETRY environment variable to True.\n",
            "\n",
            "    You can hide this message by setting the ATOTI_HIDE_EULA_MESSAGE environment variable to True.\n"
          ]
        }
      ]
    },
    {
      "cell_type": "code",
      "source": [
        "# session = tt.create_session(\n",
        "#     config={\n",
        "#         \"extra_jars\": [\"./driver/vertica-jdbc-11.0.0-0.jar\"],\n",
        "#     }\n",
        "# )"
      ],
      "metadata": {
        "id": "6vbbwQ-TTOE2"
      },
      "execution_count": 5,
      "outputs": []
    },
    {
      "cell_type": "code",
      "source": [
        "sales_table = session.read_sql(\n",
        "    \"SELECT * FROM [atoti].[atoti].[sales];\",\n",
        "    url=\"jdbc:sqlserver://localhost:1433;databaseName=atoti;user=atotiUser;password=atotiPass\",\n",
        "    table_name=\"sales\",\n",
        "    keys=[\"Sale ID\", \"Date\"],\n",
        ")"
      ],
      "metadata": {
        "id": "2viuH1ivTbDy"
      },
      "execution_count": 7,
      "outputs": []
    },
    {
      "cell_type": "code",
      "source": [
        "sales_table.head()"
      ],
      "metadata": {
        "id": "a94QlDgtTg22"
      },
      "execution_count": 8,
      "outputs": []
    },
    {
      "cell_type": "code",
      "source": [
        "policy_tbl = session.read_sql(\n",
        "    \"\"\"SELECT CUST_ID , PP.POLICY, POLICY_STATUS, 'Property' AS POLICY_TYPE,\n",
        "    DATE(QUOTE_DATE) AS QUOTE_DATE, DATE(COVER_START) AS COVER_START,\n",
        "    DATE(LAPSED_DATE) AS LAPSED_DATE, DATE(CANCELLED_DATE) AS CANCELLED_DATE, DATE(MATURITY_DATE) AS MATURITY_DATE,\n",
        "   PAYMENT_METHOD,PAYMENT_FREQUENCY,SUM_INSURED,OWNERSHIP,PLAN_TYPE,BASIC_PREMIUM, NUM_SUBPOLICY, 'N' as IS_SUB  \n",
        "    FROM POLICY_PROPERTY PP\n",
        "    LEFT JOIN (SELECT POLICY, COUNT(DISTINCT(SUB_POLICY)) AS NUM_SUBPOLICY FROM ADDITIONAL_COVERAGE GROUP BY POLICY) ADDONS ON ADDONS.POLICY = PP.POLICY;\"\"\",\n",
        "    url=\"jdbc:vertica://192.168.56.101:5433/VMart?user=dbadmin&password=password\",\n",
        "    table_name=\"policy\",\n",
        "    keys=[\"CUST_ID\", \"POLICY\"],\n",
        "    driver=\"com.vertica.jdbc.Driver\",\n",
        ")"
      ],
      "metadata": {
        "id": "-RJrMtNtToqd"
      },
      "execution_count": 9,
      "outputs": []
    },
    {
      "cell_type": "code",
      "source": [
        "policy_tbl.load_sql(\n",
        "    \"\"\"select CUST_ID ,POLICY, POLICY_STATUS, 'Vehicle' as POLICY_TYPE,\n",
        "    DATE(QUOTE_DATE) as QUOTE_DATE, DATE(COVER_START) as COVER_START,\n",
        "    DATE(LAPSED_DATE) as LAPSED_DATE, DATE(CANCELLED_DATE) as CANCELLED_DATE, DATE(MATURITY_DATE) as MATURITY_DATE,\n",
        "    PAYMENT_METHOD,PAYMENT_FREQUENCY,SUM_INSURED,OWNERSHIP,PLAN_TYPE,BASIC_PREMIUM, 0 as NUM_SUBPOLICY, 'N' as IS_SUB   \n",
        "    from policy_vehicle;\"\"\",\n",
        "    url=\"jdbc:vertica://192.168.56.101:5433/VMart?user=dbadmin&password=password\",\n",
        "    driver=\"com.vertica.jdbc.Driver\",\n",
        ")"
      ],
      "metadata": {
        "id": "Hlo1Iv_-TqDG"
      },
      "execution_count": 10,
      "outputs": []
    },
    {
      "cell_type": "markdown",
      "source": [
        "# Creating multiple tables\n"
      ],
      "metadata": {
        "id": "Flh-k-plTr1c"
      }
    },
    {
      "cell_type": "code",
      "source": [
        "coverage_tbl = session.read_sql(\n",
        "    \"select * from coverage;\",\n",
        "    url=\"jdbc:vertica://192.168.56.101:5433/VMart?user=dbadmin&password=password\",\n",
        "    table_name=\"coverage\",\n",
        "    keys=[\"POLICY\", \"COVERAGE_TYPE\"],\n",
        "    driver=\"com.vertica.jdbc.Driver\",\n",
        ")\n",
        "\n",
        "policy_tbl.join(coverage_tbl)"
      ],
      "metadata": {
        "id": "UkitcARETsDz"
      },
      "execution_count": 11,
      "outputs": []
    },
    {
      "cell_type": "markdown",
      "source": [
        "# Creating multidimensional cube\n"
      ],
      "metadata": {
        "id": "M5l98bbHTvcN"
      }
    },
    {
      "cell_type": "code",
      "source": [
        "cube = session.create_cube(policy_tbl, \"Insurance\")\n",
        "cube.schema"
      ],
      "metadata": {
        "id": "nZHjL3CXTuh5"
      },
      "execution_count": 12,
      "outputs": []
    },
    {
      "cell_type": "markdown",
      "source": [
        "# Hierarchies and measures creation\n"
      ],
      "metadata": {
        "id": "rbqwFAxPT57M"
      }
    },
    {
      "cell_type": "code",
      "source": [
        "m[\"Claim Amount\"] = tt.agg.sum(\n",
        "    tt.value(claim_tbl[\"CLAIM_AMOUNT\"]), scope=tt.scope.origin(l[\"POLICY\"])\n",
        ")"
      ],
      "metadata": {
        "id": "zY2qduujT3kR"
      },
      "execution_count": 13,
      "outputs": []
    }
  ]
}