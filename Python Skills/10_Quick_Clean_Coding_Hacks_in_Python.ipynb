{
  "nbformat": 4,
  "nbformat_minor": 0,
  "metadata": {
    "colab": {
      "name": "10 Quick Clean Coding Hacks in Python.ipynb",
      "provenance": [],
      "authorship_tag": "ABX9TyPYYRTEnf6mGxrnPOs4tccw"
    },
    "kernelspec": {
      "name": "python3",
      "display_name": "Python 3"
    }
  },
  "cells": [
    {
      "cell_type": "markdown",
      "metadata": {
        "id": "M-c2i_29yPLy"
      },
      "source": [
        "[Reference](https://towardsdatascience.com/10-quick-and-clean-coding-hacks-in-python-1ccb16aa571b)"
      ]
    },
    {
      "cell_type": "markdown",
      "metadata": {
        "id": "qX-NGLTnySxt"
      },
      "source": [
        "# 1. Do your co-developer a favor and use docstrings"
      ]
    },
    {
      "cell_type": "code",
      "metadata": {
        "id": "-Y5zKHjQyLAp"
      },
      "source": [
        "def get_percent_sales(product,sales,region):\n",
        "                                    product.\n",
        "\"\"\"Return the product Sales volumes in percent of total in country.\n",
        "Get percentage of product sales of the region.\n",
        "\n",
        "This function gets the product and corresponding sales by region and \n",
        "returns a percent sales of the region by total sales in that country.\n",
        "Region input is accepted only by city. Districts are not accepted. \n",
        "If city name is not found, exception is thrown.         \n",
        "            Parameters:              \n",
        "                        \n",
        "                        product (str) : Product name             \n",
        "                        \n",
        "                        sales (int) : Sales Volume         \n",
        "            \n",
        "            Returns: \n",
        "             percent_sales (float): Percent of total sales of    \n",
        "                                    product.\n",
        "\"\"\""
      ],
      "execution_count": null,
      "outputs": []
    },
    {
      "cell_type": "markdown",
      "metadata": {
        "id": "f90IrXfGykXd"
      },
      "source": [
        "# 2. Make your logic statements intuitive to read"
      ]
    },
    {
      "cell_type": "markdown",
      "metadata": {
        "id": "wZRPRt39ynPK"
      },
      "source": [
        "Don't\n",
        "```python\n",
        "if is_white == False\n",
        "\n",
        "if not is_white == False\n",
        "```\n",
        "\n",
        "Do\n",
        "```python\n",
        "is_white = True\n",
        "\n",
        "if is_white:\n",
        "    else: \n",
        "```"
      ]
    },
    {
      "cell_type": "markdown",
      "metadata": {
        "id": "_51tq0njyv49"
      },
      "source": [
        "# 3. Use .join instead of + to perform string concatenation\n",
        "Don't\n",
        "```python\n",
        "my_name = 'firstname'+ ' ' + 'lastname'\n",
        "```\n",
        "\n",
        "Do\n",
        "```python\n",
        "my_name = \" \".join(['firstname','lastname'])\n",
        "```"
      ]
    },
    {
      "cell_type": "markdown",
      "metadata": {
        "id": "R_71UquBy9a5"
      },
      "source": [
        "# 4. Use List Comprehension for readable for loops"
      ]
    },
    {
      "cell_type": "code",
      "metadata": {
        "id": "SEDOIYOZykuW"
      },
      "source": [
        "numbers = [1,2,3,4,5,6,7,8,9,10]"
      ],
      "execution_count": 1,
      "outputs": []
    },
    {
      "cell_type": "markdown",
      "metadata": {
        "id": "egRkqZZcy_U9"
      },
      "source": [
        "Don't"
      ]
    },
    {
      "cell_type": "code",
      "metadata": {
        "id": "cKOZ9yPGy-3g",
        "outputId": "2bd7133b-70fb-45e1-b84e-b693792eca04",
        "colab": {
          "base_uri": "https://localhost:8080/",
          "height": 34
        }
      },
      "source": [
        "even_halves = [ ]\n",
        "for num in numbers:\n",
        "    if num%2 == 0:\n",
        "       even_halves.append(num/2)\n",
        "\n",
        "print(even_halves)"
      ],
      "execution_count": 2,
      "outputs": [
        {
          "output_type": "stream",
          "text": [
            "[1.0, 2.0, 3.0, 4.0, 5.0]\n"
          ],
          "name": "stdout"
        }
      ]
    },
    {
      "cell_type": "markdown",
      "metadata": {
        "id": "kynrop0kzDXD"
      },
      "source": [
        "Do"
      ]
    },
    {
      "cell_type": "code",
      "metadata": {
        "id": "TC9t67exzCZW"
      },
      "source": [
        "even_halves = [num/2 for num in numbers if num%2==0]"
      ],
      "execution_count": 3,
      "outputs": []
    },
    {
      "cell_type": "markdown",
      "metadata": {
        "id": "OIRKeGnqzFxW"
      },
      "source": [
        "# 5. If you are assigning a value to a variable, use def functions instead of lambda"
      ]
    },
    {
      "cell_type": "markdown",
      "metadata": {
        "id": "I48_cYq6zHn1"
      },
      "source": [
        "Don't"
      ]
    },
    {
      "cell_type": "code",
      "metadata": {
        "id": "heBIuR8mzE9r"
      },
      "source": [
        "squared = lambda x: x**2"
      ],
      "execution_count": 5,
      "outputs": []
    },
    {
      "cell_type": "markdown",
      "metadata": {
        "id": "2yNSMTDQzKdl"
      },
      "source": [
        "Do"
      ]
    },
    {
      "cell_type": "code",
      "metadata": {
        "id": "yhrN7eBJzIWI"
      },
      "source": [
        "def squared(x):\n",
        "   return x**2"
      ],
      "execution_count": 6,
      "outputs": []
    },
    {
      "cell_type": "markdown",
      "metadata": {
        "id": "HroesYH9zN2F"
      },
      "source": [
        "# 6. Break those long lines"
      ]
    },
    {
      "cell_type": "markdown",
      "metadata": {
        "id": "UC2GL_TyzPYz"
      },
      "source": [
        "Don't"
      ]
    },
    {
      "cell_type": "code",
      "metadata": {
        "id": "-GN_gcpfzL_v"
      },
      "source": [
        "df = pd.read_excel('This/extremely/long/file/path/that/extends/ /to/the/next/line/and/screws/with/indentation.xlsx')\n",
        "\n",
        "mylist = [1,2,3,4,5,6,7,8,9,10,11,12,13,14,15,16,17,18,19,20000,30000,3100000320000]"
      ],
      "execution_count": 7,
      "outputs": []
    },
    {
      "cell_type": "markdown",
      "metadata": {
        "id": "1HlV-y4JzV1f"
      },
      "source": [
        "do backslash and implicit continuation:"
      ]
    },
    {
      "cell_type": "code",
      "metadata": {
        "id": "E2byFkE2zTwc"
      },
      "source": [
        "filepath = \"this/sweet/line/\" \\\n",
        "           \"continued/prettily/\"\\\n",
        "           \"looksbetter.xlsx\"\n",
        "           \n",
        "df = pd.read_excel(filepath)\n",
        "\n",
        "my_list = [1,2,3,4,5,6,7,8,9,10,11,\n",
        "          12,13,14,15,16,17,18,19,\n",
        "          20000,30000,3100000,320000]\n",
        "          \n",
        "if this_happens or that_happens \\\n",
        "   or these_happen:\n",
        "      print('blah')\n",
        "else:\n",
        "   print('the other blah')"
      ],
      "execution_count": 8,
      "outputs": []
    },
    {
      "cell_type": "markdown",
      "metadata": {
        "id": "vi8e_wS-zc2F"
      },
      "source": [
        "# 7. Use range instead of a list where possible"
      ]
    },
    {
      "cell_type": "markdown",
      "metadata": {
        "id": "bM2IIhY4zddr"
      },
      "source": [
        "Don't"
      ]
    },
    {
      "cell_type": "code",
      "metadata": {
        "id": "Y-axWAQ0za2j"
      },
      "source": [
        "indices = [0,2,4,6,8,10]\n",
        "\n",
        "for idX in indices:    \n",
        "    print(name[idX])"
      ],
      "execution_count": 10,
      "outputs": []
    },
    {
      "cell_type": "markdown",
      "metadata": {
        "id": "zPb9EWjQziAA"
      },
      "source": [
        "Do"
      ]
    },
    {
      "cell_type": "code",
      "metadata": {
        "id": "I-zKZ9nIzfux"
      },
      "source": [
        "for idX in range(0,12,2):    \n",
        "    print(name[idX])"
      ],
      "execution_count": 11,
      "outputs": []
    },
    {
      "cell_type": "markdown",
      "metadata": {
        "id": "6WTUSsxUzmmv"
      },
      "source": [
        "# 8. Keep a minimum amount of code under Try blocks"
      ]
    },
    {
      "cell_type": "markdown",
      "metadata": {
        "id": "x4s5ishczn9y"
      },
      "source": [
        "Don’t\n",
        "```python\n",
        "try:   \n",
        "    names = get_data(students, classroom)   \n",
        "    numbers = get_scores(students, classroom)   \n",
        "    return names,numbers\n",
        "\n",
        "except KeyError: \n",
        "```\n",
        "Do\n",
        "```python\n",
        "try:    \n",
        "    names = get_data(students, classroom)    \n",
        "    numbers = get_scores(students, classroom)\n",
        "except KeyError:\n",
        "    print('That's not a student in this classroom!')\n",
        "    \n",
        "return names, numbers\n",
        "```"
      ]
    },
    {
      "cell_type": "markdown",
      "metadata": {
        "id": "jHCkg5sVz3zG"
      },
      "source": [
        "# 9. Use sets a little more than you already do"
      ]
    },
    {
      "cell_type": "code",
      "metadata": {
        "id": "obV5DB9YzlV5",
        "outputId": "75f1119c-bdee-4cee-dc71-1a3c98e77208",
        "colab": {
          "base_uri": "https://localhost:8080/",
          "height": 34
        }
      },
      "source": [
        "data = {'find_this', 'among', 'all_the','other','data'}\n",
        "\n",
        "if 'find_this' in data:   \n",
        "    print('this exists!')\n",
        "    \n",
        "long_stuff = ['this','list','list','is',\n",
        "             'enormous','oh','my','god',\n",
        "             'god','what','is',\n",
        "             'unique','unique']\n",
        "             \n",
        "unique_values = set(long_stuff) "
      ],
      "execution_count": 12,
      "outputs": [
        {
          "output_type": "stream",
          "text": [
            "this exists!\n"
          ],
          "name": "stdout"
        }
      ]
    },
    {
      "cell_type": "markdown",
      "metadata": {
        "id": "9ZE5Zrb80O7R"
      },
      "source": [
        "# 10. use zip to iterate over multiple lists"
      ]
    },
    {
      "cell_type": "code",
      "metadata": {
        "id": "G_v9c6DZ0NT9"
      },
      "source": [
        "students = ['tom','dick','harry','larry','tim','benny']\n",
        "\n",
        "scores = [100,20,40,60,30,40]"
      ],
      "execution_count": 13,
      "outputs": []
    },
    {
      "cell_type": "markdown",
      "metadata": {
        "id": "B85UYIfb0UBh"
      },
      "source": [
        "Don't"
      ]
    },
    {
      "cell_type": "code",
      "metadata": {
        "id": "w0TsMJ4E0Tun",
        "outputId": "0a65f8d9-2b82-44ca-9986-8cbc6d5de109",
        "colab": {
          "base_uri": "https://localhost:8080/",
          "height": 119
        }
      },
      "source": [
        "for i in range(len(students)):    \n",
        "    print(students[i],scores[i])"
      ],
      "execution_count": 16,
      "outputs": [
        {
          "output_type": "stream",
          "text": [
            "tom 100\n",
            "dick 20\n",
            "harry 40\n",
            "larry 60\n",
            "tim 30\n",
            "benny 40\n"
          ],
          "name": "stdout"
        }
      ]
    },
    {
      "cell_type": "markdown",
      "metadata": {
        "id": "5ZojE7oU0XIg"
      },
      "source": [
        "Do"
      ]
    },
    {
      "cell_type": "code",
      "metadata": {
        "id": "bc9DfBlZ0WZx",
        "outputId": "a5ea6699-30fd-41b2-e0bf-43124ec60c7e",
        "colab": {
          "base_uri": "https://localhost:8080/",
          "height": 119
        }
      },
      "source": [
        "for student,score in zip(students,scores):\n",
        "    print(student,score)"
      ],
      "execution_count": 17,
      "outputs": [
        {
          "output_type": "stream",
          "text": [
            "tom 100\n",
            "dick 20\n",
            "harry 40\n",
            "larry 60\n",
            "tim 30\n",
            "benny 40\n"
          ],
          "name": "stdout"
        }
      ]
    }
  ]
}