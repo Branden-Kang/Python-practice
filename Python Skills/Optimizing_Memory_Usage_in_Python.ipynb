{
  "nbformat": 4,
  "nbformat_minor": 0,
  "metadata": {
    "colab": {
      "provenance": [],
      "authorship_tag": "ABX9TyMZ6H0ujAqD6nha/nOez0em"
    },
    "kernelspec": {
      "name": "python3",
      "display_name": "Python 3"
    },
    "language_info": {
      "name": "python"
    }
  },
  "cells": [
    {
      "cell_type": "markdown",
      "source": [
        "[Reference](https://medium.com/the-research-nest/optimizing-memory-usage-in-python-e8a30e0dddd3)"
      ],
      "metadata": {
        "id": "HIEjGVZ8lePU"
      }
    },
    {
      "cell_type": "code",
      "execution_count": 3,
      "metadata": {
        "id": "Sw8oi7v8kXou"
      },
      "outputs": [],
      "source": [
        "# The bad approach\n",
        "shadow_clones = ['Branden_clone' for i in range(1000000)]"
      ]
    },
    {
      "cell_type": "code",
      "source": [
        "import sys\n",
        "\n",
        "memory_used_bytes = sys.getsizeof(shadow_clones)\n",
        "memory_used_kb = memory_used_bytes / (1024)\n",
        "print(f'Memory used by clones: {memory_used_kb:.2f} KB')"
      ],
      "metadata": {
        "colab": {
          "base_uri": "https://localhost:8080/"
        },
        "id": "X8TVm_QblhSy",
        "outputId": "4982f078-d5ba-492d-c560-9d5d8341988a"
      },
      "execution_count": 4,
      "outputs": [
        {
          "output_type": "stream",
          "name": "stdout",
          "text": [
            "Memory used by clones: 8250.71 KB\n"
          ]
        }
      ]
    },
    {
      "cell_type": "code",
      "source": [
        "def shadow_clone_generator(n):\n",
        "    for i in range(n):\n",
        "        yield 'Branden_clone'\n",
        "\n",
        "clones = shadow_clone_generator(1000000)"
      ],
      "metadata": {
        "id": "FhYDPEnXlkIY"
      },
      "execution_count": 5,
      "outputs": []
    },
    {
      "cell_type": "code",
      "source": [
        "memory_used_bytes = sys.getsizeof(clones)\n",
        "memory_used_kb = memory_used_bytes / (1024)\n",
        "print(f'Memory used by clones: {memory_used_kb:.2f} KB')"
      ],
      "metadata": {
        "colab": {
          "base_uri": "https://localhost:8080/"
        },
        "id": "-XmX9jCUBiuu",
        "outputId": "fe93302a-4e10-4f2f-f7b8-92cbd1ca4ffc"
      },
      "execution_count": 6,
      "outputs": [
        {
          "output_type": "stream",
          "name": "stdout",
          "text": [
            "Memory used by clones: 0.10 KB\n"
          ]
        }
      ]
    },
    {
      "cell_type": "code",
      "source": [
        "def simple_generator():\n",
        "    yield 1\n",
        "    yield 2\n",
        "    yield 3\n",
        "\n",
        "gen = simple_generator()\n",
        "print(next(gen))\n",
        "print(next(gen))\n",
        "print(next(gen))"
      ],
      "metadata": {
        "colab": {
          "base_uri": "https://localhost:8080/"
        },
        "id": "7U2HYWOvBk4k",
        "outputId": "c872af68-3cfd-46ed-e3df-0f7986af83b2"
      },
      "execution_count": 9,
      "outputs": [
        {
          "output_type": "stream",
          "name": "stdout",
          "text": [
            "1\n",
            "2\n",
            "3\n"
          ]
        }
      ]
    },
    {
      "cell_type": "code",
      "source": [
        "from array import array\n",
        "\n",
        "shadow_clones_array = array('u', ['N'] * 1000000)"
      ],
      "metadata": {
        "id": "rcQip9XaBxzV"
      },
      "execution_count": 10,
      "outputs": []
    },
    {
      "cell_type": "code",
      "source": [
        "memory_used_bytes = sys.getsizeof(shadow_clones_array)\n",
        "memory_used_mb = memory_used_bytes / (1024)\n",
        "print(f'Memory used by clones: {memory_used_mb:.2f} KB')"
      ],
      "metadata": {
        "colab": {
          "base_uri": "https://localhost:8080/"
        },
        "id": "E5DYAdk6B39f",
        "outputId": "ba6496af-5df0-42fa-9473-c8f6ee7a8151"
      },
      "execution_count": 11,
      "outputs": [
        {
          "output_type": "stream",
          "name": "stdout",
          "text": [
            "Memory used by clones: 3906.33 KB\n"
          ]
        }
      ]
    }
  ]
}
