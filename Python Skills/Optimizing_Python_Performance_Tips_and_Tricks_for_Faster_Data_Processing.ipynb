{
  "nbformat": 4,
  "nbformat_minor": 0,
  "metadata": {
    "colab": {
      "provenance": [],
      "authorship_tag": "ABX9TyNhF7/FyOsaLXxpbgbjInUS"
    },
    "kernelspec": {
      "name": "python3",
      "display_name": "Python 3"
    },
    "language_info": {
      "name": "python"
    }
  },
  "cells": [
    {
      "cell_type": "markdown",
      "source": [
        "[Reference](https://blog.stackademic.com/optimizing-python-performance-tips-and-tricks-for-faster-data-processing-38992cf57dcd)"
      ],
      "metadata": {
        "id": "9QKJo0Ggm-qm"
      }
    },
    {
      "cell_type": "code",
      "execution_count": 1,
      "metadata": {
        "colab": {
          "base_uri": "https://localhost:8080/"
        },
        "id": "44vzeDFym7pT",
        "outputId": "303786a6-5a6d-494e-e2eb-dd773a48cdb5"
      },
      "outputs": [
        {
          "output_type": "stream",
          "name": "stdout",
          "text": [
            "         4 function calls in 0.000 seconds\n",
            "\n",
            "   Ordered by: standard name\n",
            "\n",
            "   ncalls  tottime  percall  cumtime  percall filename:lineno(function)\n",
            "        1    0.000    0.000    0.000    0.000 <ipython-input-1-367c8f714e24>:3(my_function)\n",
            "        1    0.000    0.000    0.000    0.000 <string>:1(<module>)\n",
            "        1    0.000    0.000    0.000    0.000 {built-in method builtins.exec}\n",
            "        1    0.000    0.000    0.000    0.000 {method 'disable' of '_lsprof.Profiler' objects}\n",
            "\n",
            "\n"
          ]
        }
      ],
      "source": [
        "import cProfile\n",
        "\n",
        "def my_function():\n",
        "    # Code to be profiled\n",
        "    ...\n",
        "\n",
        "if __name__ == '__main__':\n",
        "    cProfile.run('my_function()')"
      ]
    },
    {
      "cell_type": "code",
      "source": [
        "import numpy as np\n",
        "\n",
        "# Slow loop-based approach\n",
        "result = []\n",
        "for i in range(1000000):\n",
        "    result.append(i * 2)\n",
        "\n",
        "# Fast vectorized approach\n",
        "arr = np.arange(1000000)\n",
        "result = arr * 2"
      ],
      "metadata": {
        "id": "9tR8zCe5nDd3"
      },
      "execution_count": 2,
      "outputs": []
    },
    {
      "cell_type": "code",
      "source": [
        "import multiprocessing\n",
        "\n",
        "def process_data(data):\n",
        "    # CPU-intensive data processing\n",
        "    ...\n",
        "\n",
        "if __name__ == '__main__':\n",
        "    pool = multiprocessing.Pool()\n",
        "    data_chunks = [data[i:i+1000] for i in range(0, len(data), 1000)]\n",
        "    results = pool.map(process_data, data_chunks)\n",
        "    pool.close()\n",
        "    pool.join()"
      ],
      "metadata": {
        "id": "OCo11v4LnFHb"
      },
      "execution_count": 4,
      "outputs": []
    },
    {
      "cell_type": "code",
      "source": [
        "# cython_example.pyx\n",
        "def sum_squares(int n):\n",
        "    cdef int i, total = 0\n",
        "    for i in range(n):\n",
        "        total += i * i\n",
        "    return total\n",
        "\n",
        "# setup.py\n",
        "from distutils.core import setup\n",
        "from Cython.Build import cythonize\n",
        "\n",
        "setup(\n",
        "    ext_modules = cythonize(\"cython_example.pyx\")\n",
        ")"
      ],
      "metadata": {
        "id": "tunTQUnMnLDY"
      },
      "execution_count": 5,
      "outputs": []
    },
    {
      "cell_type": "code",
      "source": [
        "from numba import jit\n",
        "\n",
        "@jit(nopython=True)\n",
        "def sum_squares(n):\n",
        "    total = 0\n",
        "    for i in range(n):\n",
        "        total += i * i\n",
        "    return total"
      ],
      "metadata": {
        "id": "mUVhx7_GnPtq"
      },
      "execution_count": 6,
      "outputs": []
    },
    {
      "cell_type": "code",
      "source": [
        "def process_data(file_path):\n",
        "    with open(file_path) as file:\n",
        "        for line in file:\n",
        "            # Process each line\n",
        "            ...\n",
        "            yield result\n",
        "\n",
        "# Iterate over the generator\n",
        "for result in process_data('large_file.txt'):\n",
        "    # Do something with each result\n",
        "    ..."
      ],
      "metadata": {
        "id": "skwQwXDwnRtO"
      },
      "execution_count": 8,
      "outputs": []
    },
    {
      "cell_type": "code",
      "source": [
        "from functools import lru_cache\n",
        "\n",
        "@lru_cache(maxsize=None)\n",
        "def fibonacci(n):\n",
        "    if n < 2:\n",
        "        return n\n",
        "    return fibonacci(n-1) + fibonacci(n-2)"
      ],
      "metadata": {
        "id": "3OwP8RjHnVQ8"
      },
      "execution_count": 9,
      "outputs": []
    },
    {
      "cell_type": "code",
      "source": [
        "import asyncio\n",
        "import aiohttp\n",
        "\n",
        "async def fetch(url):\n",
        "    async with aiohttp.ClientSession() as session:\n",
        "        async with session.get(url) as response:\n",
        "            return await response.text()\n",
        "\n",
        "async def main():\n",
        "    urls = [\n",
        "        'http://example.com',\n",
        "        'http://example.org',\n",
        "        'http://example.net'\n",
        "    ]\n",
        "    tasks = []\n",
        "    for url in urls:\n",
        "        task = asyncio.ensure_future(fetch(url))\n",
        "        tasks.append(task)\n",
        "    results = await asyncio.gather(*tasks)\n",
        "    for result in results:\n",
        "        print(result)\n",
        "\n",
        "loop = asyncio.get_event_loop()\n",
        "loop.run_until_complete(main())"
      ],
      "metadata": {
        "id": "qnTSuOIwnXwU"
      },
      "execution_count": 11,
      "outputs": []
    },
    {
      "cell_type": "code",
      "source": [
        "import dask.array as da\n",
        "\n",
        "# Create a large array\n",
        "x = da.random.random((10000, 10000), chunks=(1000, 1000))\n",
        "\n",
        "# Compute the mean\n",
        "result = x.mean().compute()\n",
        "print(result)"
      ],
      "metadata": {
        "colab": {
          "base_uri": "https://localhost:8080/"
        },
        "id": "gF88xVpcnZBZ",
        "outputId": "307f5778-f56a-4c55-fb18-2e8c00cea851"
      },
      "execution_count": 12,
      "outputs": [
        {
          "output_type": "stream",
          "name": "stdout",
          "text": [
            "0.49992790469129333\n"
          ]
        }
      ]
    },
    {
      "cell_type": "code",
      "source": [
        "import io\n",
        "\n",
        "with open('large_file.txt', 'rb') as file:\n",
        "    buffer = io.BufferedReader(file)\n",
        "    for line in buffer:\n",
        "        # Process each line\n",
        "        ..."
      ],
      "metadata": {
        "id": "Eflv3kQVnbOT"
      },
      "execution_count": 14,
      "outputs": []
    },
    {
      "cell_type": "code",
      "source": [
        "import numpy as np\n",
        "import multiprocessing\n",
        "from functools import lru_cache\n",
        "from numba import jit\n",
        "\n",
        "# Vectorized function using NumPy\n",
        "def vectorized_operation(arr):\n",
        "    return np.sqrt(arr) + np.sin(arr)\n",
        "\n",
        "# CPU-bound function for parallel processing\n",
        "def cpu_bound_operation(n):\n",
        "    total = 0\n",
        "    for i in range(n):\n",
        "        total += i * i\n",
        "    return total\n",
        "\n",
        "# Memoized recursive function\n",
        "@lru_cache(maxsize=None)\n",
        "def fibonacci(n):\n",
        "    if n < 2:\n",
        "        return n\n",
        "    return fibonacci(n-1) + fibonacci(n-2)\n",
        "\n",
        "# JIT-compiled function using Numba\n",
        "@jit(nopython=True)\n",
        "def sum_squares(n):\n",
        "    total = 0\n",
        "    for i in range(n):\n",
        "        total += i * i\n",
        "    return total\n",
        "\n",
        "# Parallel processing using multiprocessing\n",
        "def parallel_processing(n):\n",
        "    pool = multiprocessing.Pool()\n",
        "    results = pool.map(cpu_bound_operation, range(n))\n",
        "    pool.close()\n",
        "    pool.join()\n",
        "    return sum(results)\n",
        "\n",
        "# Main function\n",
        "def main():\n",
        "    # Vectorized operation\n",
        "    arr = np.random.rand(1000000)\n",
        "    result = vectorized_operation(arr)\n",
        "    print(\"Vectorized operation result:\", result[:10])\n",
        "\n",
        "    # Parallel processing\n",
        "    n = 1000\n",
        "    result = parallel_processing(n)\n",
        "    print(\"Parallel processing result:\", result)\n",
        "\n",
        "    # Memoized recursive function\n",
        "    n = 30\n",
        "    result = fibonacci(n)\n",
        "    print(\"Fibonacci result:\", result)\n",
        "\n",
        "    # JIT-compiled function\n",
        "    n = 1000000\n",
        "    result = sum_squares(n)\n",
        "    print(\"Sum of squares result:\", result)\n",
        "\n",
        "if __name__ == '__main__':\n",
        "    main()"
      ],
      "metadata": {
        "id": "D505ALeKncwU"
      },
      "execution_count": 15,
      "outputs": []
    }
  ]
}
