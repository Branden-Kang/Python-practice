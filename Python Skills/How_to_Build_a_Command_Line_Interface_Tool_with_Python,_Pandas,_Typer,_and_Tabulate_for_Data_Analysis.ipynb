{
  "nbformat": 4,
  "nbformat_minor": 0,
  "metadata": {
    "colab": {
      "name": "How to Build a Command Line Interface Tool with Python, Pandas, Typer, and Tabulate for Data Analysis.ipynb",
      "provenance": [],
      "authorship_tag": "ABX9TyMp56zil/WdR+QLkRZ3Kpxr"
    },
    "kernelspec": {
      "name": "python3",
      "display_name": "Python 3"
    },
    "language_info": {
      "name": "python"
    }
  },
  "cells": [
    {
      "cell_type": "markdown",
      "source": [
        "[Reference](https://travisluong.medium.com/how-to-build-a-command-line-interface-tool-with-python-pandas-typer-and-tabulate-for-data-ab14023cb09c)"
      ],
      "metadata": {
        "id": "BpNRqO7CanBG"
      }
    },
    {
      "cell_type": "code",
      "execution_count": 1,
      "metadata": {
        "id": "s8PYQPEDWeRZ"
      },
      "outputs": [],
      "source": [
        "# $ mkdir how-to-build-cli\n",
        "# $ cd how-to-build-cli\n",
        "# $ python3 -m venv venv\n",
        "# $ . venv/bin/activate"
      ]
    },
    {
      "cell_type": "code",
      "source": [
        "!pip3 install typer pandas tabulate psycopg2"
      ],
      "metadata": {
        "colab": {
          "base_uri": "https://localhost:8080/"
        },
        "id": "-0qSvPq2arIa",
        "outputId": "b3074b3f-014d-4504-901b-28292ebe9371"
      },
      "execution_count": 2,
      "outputs": [
        {
          "output_type": "stream",
          "name": "stdout",
          "text": [
            "Collecting typer\n",
            "  Downloading typer-0.4.1-py3-none-any.whl (27 kB)\n",
            "Requirement already satisfied: pandas in /usr/local/lib/python3.7/dist-packages (1.3.5)\n",
            "Requirement already satisfied: tabulate in /usr/local/lib/python3.7/dist-packages (0.8.9)\n",
            "Requirement already satisfied: psycopg2 in /usr/local/lib/python3.7/dist-packages (2.7.6.1)\n",
            "Requirement already satisfied: click<9.0.0,>=7.1.1 in /usr/local/lib/python3.7/dist-packages (from typer) (7.1.2)\n",
            "Requirement already satisfied: python-dateutil>=2.7.3 in /usr/local/lib/python3.7/dist-packages (from pandas) (2.8.2)\n",
            "Requirement already satisfied: numpy>=1.17.3 in /usr/local/lib/python3.7/dist-packages (from pandas) (1.21.5)\n",
            "Requirement already satisfied: pytz>=2017.3 in /usr/local/lib/python3.7/dist-packages (from pandas) (2018.9)\n",
            "Requirement already satisfied: six>=1.5 in /usr/local/lib/python3.7/dist-packages (from python-dateutil>=2.7.3->pandas) (1.15.0)\n",
            "Installing collected packages: typer\n",
            "Successfully installed typer-0.4.1\n"
          ]
        }
      ]
    },
    {
      "cell_type": "code",
      "source": [
        "import pandas as pd\n",
        "import psycopg2\n",
        "import typer\n",
        "from psycopg2.extras import NamedTupleCursor\n",
        "from tabulate import tabulate\n",
        "app = typer.Typer()\n",
        "conn = psycopg2.connect(\n",
        "    dbname=\"nfp_boilerplate_dev\",\n",
        "    user=\"nfp_boilerplate_user\"\n",
        ")\n",
        "cur = conn.cursor(cursor_factory=NamedTupleCursor)\n",
        "@app.command()\n",
        "def example1():\n",
        "    \"\"\"fetch notes\"\"\"\n",
        "    cur.execute(\"SELECT * FROM notes\")\n",
        "    records = cur.fetchall()\n",
        "    print(tabulate(records, headers=\"keys\", tablefmt=\"psql\"))\n",
        "@app.command()\n",
        "def example2():\n",
        "    \"\"\"fetch notes and load into pandas\"\"\"\n",
        "    cur.execute(\"SELECT * FROM notes\")\n",
        "    records = cur.fetchall()\n",
        "    df = pd.DataFrame(records)\n",
        "    print(tabulate(df, headers=\"keys\", tablefmt=\"psql\"))\n",
        "@app.command()\n",
        "def example3(id: int):\n",
        "    \"\"\"fetch note by id\"\"\"\n",
        "    cur.execute(\"SELECT * FROM notes WHERE id=%s\", (id,))\n",
        "    records = cur.fetchall()\n",
        "    df = pd.DataFrame(records)\n",
        "    df = df.transpose()\n",
        "    print(tabulate(df, headers=\"keys\", tablefmt=\"psql\"))\n",
        "if __name__ == \"__main__\":\n",
        "    app()"
      ],
      "metadata": {
        "id": "bhkPyBDfatQD"
      },
      "execution_count": 3,
      "outputs": []
    },
    {
      "cell_type": "code",
      "source": [
        "# $ python3 main.py\n",
        "# $ python3 main.py --help\n",
        "# $ python3 main.py example1\n",
        "# $ python3 main.py example2\n",
        "# $ python3 main.py example3 1"
      ],
      "metadata": {
        "id": "xRF36tUJawek"
      },
      "execution_count": 4,
      "outputs": []
    }
  ]
}