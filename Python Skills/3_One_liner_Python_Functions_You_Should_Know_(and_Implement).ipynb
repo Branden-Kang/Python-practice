{
  "nbformat": 4,
  "nbformat_minor": 0,
  "metadata": {
    "colab": {
      "name": "3 One-liner Python Functions You Should Know (and Implement).ipynb",
      "provenance": [],
      "authorship_tag": "ABX9TyMTuhMAjocKaYQLbUoE75Pl"
    },
    "kernelspec": {
      "name": "python3",
      "display_name": "Python 3"
    },
    "language_info": {
      "name": "python"
    }
  },
  "cells": [
    {
      "cell_type": "markdown",
      "source": [
        "[Reference](https://anmol3015.medium.com/python-one-liner-functions-you-should-know-and-implement-db6afec1df70)"
      ],
      "metadata": {
        "id": "rdSDR0xOW859"
      }
    },
    {
      "cell_type": "markdown",
      "source": [
        "# 1. Map"
      ],
      "metadata": {
        "id": "33e8cswVZEps"
      }
    },
    {
      "cell_type": "code",
      "execution_count": 1,
      "metadata": {
        "colab": {
          "base_uri": "https://localhost:8080/"
        },
        "id": "N7eKMXWKW5vd",
        "outputId": "8aa56bae-93c3-4cc0-f07c-2a9d17b3aae1"
      },
      "outputs": [
        {
          "output_type": "stream",
          "name": "stdout",
          "text": [
            "0        Math\n",
            "1     Science\n",
            "2    Computer\n",
            "dtype: object\n",
            "0    Algebra\n",
            "1    Physics\n",
            "2     Python\n",
            "dtype: object\n"
          ]
        }
      ],
      "source": [
        "#import packages \n",
        "import pandas as pd\n",
        "import numpy as np\n",
        "\n",
        "# creating a series \n",
        "s = pd.Series(['Math', 'Science', 'Computer'])\n",
        "print(s)\n",
        "\n",
        "# mapping value of a series \n",
        "s = s.map({'Math': 'Algebra', 'Science':'Physics', 'Computer': 'Python'})\n",
        "print(s)"
      ]
    },
    {
      "cell_type": "markdown",
      "source": [
        "# 2. ApplyMap"
      ],
      "metadata": {
        "id": "JPzlC9H4ZZUm"
      }
    },
    {
      "cell_type": "code",
      "source": [
        "#import packages \n",
        "import pandas as pd\n",
        "import numpy as np\n",
        "review = review.applymap(lambda x: len(x))"
      ],
      "metadata": {
        "id": "otWCJWS_ZR2m"
      },
      "execution_count": null,
      "outputs": []
    },
    {
      "cell_type": "markdown",
      "source": [
        "# 3. Apply"
      ],
      "metadata": {
        "id": "bkO4rDL2Zgeo"
      }
    },
    {
      "cell_type": "code",
      "source": [
        "# operation on the whole dataframe: Can be done with applymap too\n",
        "# square of values of the dataframe\n",
        "measurement_sq = measurement.apply(np.square)"
      ],
      "metadata": {
        "id": "hIfp_3aMZih1"
      },
      "execution_count": 2,
      "outputs": []
    },
    {
      "cell_type": "code",
      "source": [
        "# operation along rows, done using axis = 0\n",
        "#finding the sum of rows of the dataframe \n",
        "measurement_col = measurement.apply(np.sum, axis = 0)"
      ],
      "metadata": {
        "id": "EBAneGVDZk3I"
      },
      "execution_count": 3,
      "outputs": []
    },
    {
      "cell_type": "code",
      "source": [
        "# operation on columns, adding the columns of dataframe. \n",
        "measurement_row = measurement.apply(np.sum, axis = 1)"
      ],
      "metadata": {
        "id": "_ni5rxxYZo8Y"
      },
      "execution_count": 4,
      "outputs": []
    }
  ]
}
