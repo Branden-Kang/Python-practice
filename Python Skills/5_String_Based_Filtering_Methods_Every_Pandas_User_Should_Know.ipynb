{
  "nbformat": 4,
  "nbformat_minor": 0,
  "metadata": {
    "colab": {
      "name": "5 String-Based Filtering Methods Every Pandas User Should Know.ipynb",
      "provenance": [],
      "authorship_tag": "ABX9TyO0CgD3HdI7TdUB1w7fdsam"
    },
    "kernelspec": {
      "name": "python3",
      "display_name": "Python 3"
    },
    "language_info": {
      "name": "python"
    }
  },
  "cells": [
    {
      "cell_type": "markdown",
      "source": [
        "[Reference](https://towardsdatascience.com/5-string-based-filtering-methods-every-pandas-user-should-know-48021938412e)"
      ],
      "metadata": {
        "id": "28-djFEcXxwx"
      }
    },
    {
      "cell_type": "code",
      "source": [
        "import pandas as pd\n",
        "import numpy as np"
      ],
      "metadata": {
        "id": "d89n-0B7X1zE"
      },
      "execution_count": 16,
      "outputs": []
    },
    {
      "cell_type": "code",
      "source": [
        "data = pd.DataFrame([[\"A\", 1], [\"A\", 2], [\"B\", 1], \n",
        "                     [\"C\", 4], [\"A\", 10], [\"B\", 7]], \n",
        "                     columns = [\"col1\", \"col2\"])\n",
        "\n",
        "print(\"Data type of col1 is: \", data.col1.dtype)\n",
        "print(\"Data type of col2 is: \", data.col2.dtype)"
      ],
      "metadata": {
        "colab": {
          "base_uri": "https://localhost:8080/"
        },
        "id": "ACY2ZahmXTmJ",
        "outputId": "aefcb553-f580-49d2-f172-bc31b0881f04"
      },
      "execution_count": 6,
      "outputs": [
        {
          "output_type": "stream",
          "name": "stdout",
          "text": [
            "Data type of col1 is:  object\n",
            "Data type of col2 is:  int64\n"
          ]
        }
      ]
    },
    {
      "cell_type": "code",
      "execution_count": 7,
      "metadata": {
        "colab": {
          "base_uri": "https://localhost:8080/"
        },
        "id": "e-cLZKcfXLJf",
        "outputId": "8e278f9b-0c62-451f-e934-9717edb50529"
      },
      "outputs": [
        {
          "output_type": "stream",
          "name": "stdout",
          "text": [
            "Data type of col1 is:  object\n",
            "Data type of col2 is:  object\n"
          ]
        }
      ],
      "source": [
        "data = pd.DataFrame([[\"A\", \"1\"], [\"A\", 2], [\"B\", 1], \n",
        "                     [\"C\", 4], [\"A\", 10], [\"B\", 7]], \n",
        "                     columns = [\"col1\", \"col2\"])\n",
        "\n",
        "print(\"Data type of col1 is: \", data.col1.dtype)\n",
        "print(\"Data type of col2 is: \", data.col2.dtype)"
      ]
    },
    {
      "cell_type": "markdown",
      "source": [
        "# String-based Filtering Methods\n"
      ],
      "metadata": {
        "id": "jHu2RRl_X4Mt"
      }
    },
    {
      "cell_type": "code",
      "source": [
        "data = pd.DataFrame([[\"A\", 1], [\"A\", 2], [\"B\", 1], \n",
        "                     [\"C\", 4], [\"A\", 10], [\"B\", 7]], \n",
        "                     columns = [\"col1\", \"col2\"])\n",
        "\n",
        "df_filtered = data[data.col1 == \"A\"]\n",
        "print(df_filtered)"
      ],
      "metadata": {
        "colab": {
          "base_uri": "https://localhost:8080/"
        },
        "id": "CejcvgsYXQcH",
        "outputId": "82825d7d-4226-48a7-a2eb-18e6e2f74ee7"
      },
      "execution_count": 8,
      "outputs": [
        {
          "output_type": "stream",
          "name": "stdout",
          "text": [
            "  col1  col2\n",
            "0    A     1\n",
            "1    A     2\n",
            "4    A    10\n"
          ]
        }
      ]
    },
    {
      "cell_type": "code",
      "source": [
        "data = pd.DataFrame([[\"A\", 1], [\"A\", 2], [\"B\", 1], \n",
        "                     [\"C\", 4], [\"A\", 10], [\"B\", 7]], \n",
        "                     columns = [\"col1\", \"col2\"])\n",
        "\n",
        "df_filtered = data.query(\"col1 == 'A'\")\n",
        "print(df_filtered)"
      ],
      "metadata": {
        "colab": {
          "base_uri": "https://localhost:8080/"
        },
        "id": "C4ZqgxDEX5bs",
        "outputId": "1e8df2aa-f973-48cd-a1fd-d5dbc222ab42"
      },
      "execution_count": 9,
      "outputs": [
        {
          "output_type": "stream",
          "name": "stdout",
          "text": [
            "  col1  col2\n",
            "0    A     1\n",
            "1    A     2\n",
            "4    A    10\n"
          ]
        }
      ]
    },
    {
      "cell_type": "code",
      "source": [
        "data = pd.DataFrame([[\"A\", 1], [\"A\", 2], [\"B\", 1], \n",
        "                     [\"C\", 4], [\"A\", 10], [\"B\", 7]], \n",
        "                     columns = [\"col1\", \"col2\"])\n",
        "\n",
        "df_filtered = data[(data.col1 == \"A\") | (data.col1 == \"B\")]\n",
        "print(df_filtered)"
      ],
      "metadata": {
        "colab": {
          "base_uri": "https://localhost:8080/"
        },
        "id": "eo7Tw2imX6aT",
        "outputId": "67973eb2-219c-4de3-ef2e-59194c6c9ba0"
      },
      "execution_count": 10,
      "outputs": [
        {
          "output_type": "stream",
          "name": "stdout",
          "text": [
            "  col1  col2\n",
            "0    A     1\n",
            "1    A     2\n",
            "2    B     1\n",
            "4    A    10\n",
            "5    B     7\n"
          ]
        }
      ]
    },
    {
      "cell_type": "code",
      "source": [
        "data = pd.DataFrame([[\"A\", 1], [\"A\", 2], [\"B\", 1], \n",
        "                     [\"C\", 4], [\"A\", 10], [\"B\", 7]], \n",
        "                     columns = [\"col1\", \"col2\"])\n",
        "\n",
        "df_filtered = data[data.col1.isin([\"A\", \"B\"])]\n",
        "print(df_filtered)"
      ],
      "metadata": {
        "colab": {
          "base_uri": "https://localhost:8080/"
        },
        "id": "cd8k-UqTX71r",
        "outputId": "ddb740f4-f74d-4d07-b1fb-9aee74e9c9bc"
      },
      "execution_count": 11,
      "outputs": [
        {
          "output_type": "stream",
          "name": "stdout",
          "text": [
            "  col1  col2\n",
            "0    A     1\n",
            "1    A     2\n",
            "2    B     1\n",
            "4    A    10\n",
            "5    B     7\n"
          ]
        }
      ]
    },
    {
      "cell_type": "code",
      "source": [
        "data = pd.DataFrame([[\"A\", 1], [\"A\", 2], [\"B\", 1], \n",
        "                     [\"C\", 4], [\"A\", 10], [\"B\", 7]], \n",
        "                     columns = [\"col1\", \"col2\"])\n",
        "\n",
        "df_filtered = data.query(\"col1 == 'A' | col1 == 'B'\")\n",
        "print(df_filtered)"
      ],
      "metadata": {
        "colab": {
          "base_uri": "https://localhost:8080/"
        },
        "id": "7Frn_kMvX8yD",
        "outputId": "8caf3c41-297f-4d47-f893-3f251fd47b8b"
      },
      "execution_count": 12,
      "outputs": [
        {
          "output_type": "stream",
          "name": "stdout",
          "text": [
            "  col1  col2\n",
            "0    A     1\n",
            "1    A     2\n",
            "2    B     1\n",
            "4    A    10\n",
            "5    B     7\n"
          ]
        }
      ]
    },
    {
      "cell_type": "code",
      "source": [
        "data = pd.DataFrame([[\"Drake\", 1], [\"John\", 2], [\"Ben\", 1], \n",
        "                     [\"Charlie\", 4], [\"Andrew\", 10], [\"Rachel\", 7]], \n",
        "                     columns = [\"col1\", \"col2\"])\n",
        "\n",
        "df_filtered = data[data.col1.str.len() > 4]\n",
        "print(df_filtered)"
      ],
      "metadata": {
        "colab": {
          "base_uri": "https://localhost:8080/"
        },
        "id": "lPeM1PitX932",
        "outputId": "f1743e96-9bde-4604-f44b-8f615aa64dba"
      },
      "execution_count": 13,
      "outputs": [
        {
          "output_type": "stream",
          "name": "stdout",
          "text": [
            "      col1  col2\n",
            "0    Drake     1\n",
            "3  Charlie     4\n",
            "4   Andrew    10\n",
            "5   Rachel     7\n"
          ]
        }
      ]
    },
    {
      "cell_type": "code",
      "source": [
        "data = pd.DataFrame([[\"Drake\", 1], [\"John\", 2], [\"Ben\", 1], \n",
        "                     [\"Joy\", 4], [\"Joseph\", 10], [\"Rachel\", 7]], \n",
        "                     columns = [\"col1\", \"col2\"])\n",
        "\n",
        "df_filtered = data[data.col1.str.startswith(\"Jo\")]\n",
        "print(df_filtered)"
      ],
      "metadata": {
        "colab": {
          "base_uri": "https://localhost:8080/"
        },
        "id": "NKfAw4z9X_QW",
        "outputId": "fd625525-81e8-4a0a-83d5-ee0a87e43308"
      },
      "execution_count": 14,
      "outputs": [
        {
          "output_type": "stream",
          "name": "stdout",
          "text": [
            "     col1  col2\n",
            "1    John     2\n",
            "3     Joy     4\n",
            "4  Joseph    10\n"
          ]
        }
      ]
    },
    {
      "cell_type": "code",
      "source": [
        "data = pd.DataFrame([[\"Drake\", 1], [\"John\", 2], [\"Ben\", 1], \n",
        "                     [\"Joy\", 4], [\"Joseph\", 10], [\"Branden\", 7]], \n",
        "                     columns = [\"col1\", \"col2\"])\n",
        "\n",
        "df_filtered = data[data.col1.str.startswith(\"Jo\")]\n",
        "print(df_filtered)"
      ],
      "metadata": {
        "colab": {
          "base_uri": "https://localhost:8080/"
        },
        "id": "C_4rXPakYAO2",
        "outputId": "993abab8-9ceb-49fc-a669-81d3f415112b"
      },
      "execution_count": 19,
      "outputs": [
        {
          "output_type": "stream",
          "name": "stdout",
          "text": [
            "     col1  col2\n",
            "1    John     2\n",
            "3     Joy     4\n",
            "4  Joseph    10\n"
          ]
        }
      ]
    },
    {
      "cell_type": "code",
      "source": [
        "data = pd.DataFrame([[\"Drake\", 1], [\"John\", 2], [\"Ben\", 1], \n",
        "                     [\"Joy\", 4], [\"Joseph\", 10], [np.nan, 7]], \n",
        "                     columns = [\"col1\", \"col2\"])\n",
        "\n",
        "df_filtered = data[data.col1.str.startswith(\"Jo\", na = False)]\n",
        "print(df_filtered)"
      ],
      "metadata": {
        "colab": {
          "base_uri": "https://localhost:8080/"
        },
        "id": "1fTqWzsaYBU9",
        "outputId": "581a0e87-031a-4a06-bf43-08ff940bd07a"
      },
      "execution_count": 20,
      "outputs": [
        {
          "output_type": "stream",
          "name": "stdout",
          "text": [
            "     col1  col2\n",
            "1    John     2\n",
            "3     Joy     4\n",
            "4  Joseph    10\n"
          ]
        }
      ]
    },
    {
      "cell_type": "code",
      "source": [
        "data = pd.DataFrame([[\"Drake\", 1], [\"John\", 2], [\"Ben\", 1], \n",
        "                     [\"Joy\", 4], [\"Joseph\", 10], [\"Rachel\", 7]], \n",
        "                     columns = [\"col1\", \"col2\"])\n",
        "\n",
        "df_filtered = data[data.col1.str.endswith(\"n\")]\n",
        "print(df_filtered)"
      ],
      "metadata": {
        "colab": {
          "base_uri": "https://localhost:8080/"
        },
        "id": "yeaRqVsCYEpl",
        "outputId": "80eaa8af-6c2a-422d-fe84-f3c3cd1aedcc"
      },
      "execution_count": 21,
      "outputs": [
        {
          "output_type": "stream",
          "name": "stdout",
          "text": [
            "   col1  col2\n",
            "1  John     2\n",
            "2   Ben     1\n"
          ]
        }
      ]
    },
    {
      "cell_type": "code",
      "source": [
        "data = pd.DataFrame([[\"Drake\", 1], [\"John\", 2], [\"Ben\", 1], \n",
        "                     [\"Joy\", 4], [\"Joseph\", 10], [\"Rachel\", 7]], \n",
        "                     columns = [\"col1\", \"col2\"])\n",
        "\n",
        "df_filtered = data[data.col1.str.endswith(\"n\")]\n",
        "print(df_filtered)"
      ],
      "metadata": {
        "colab": {
          "base_uri": "https://localhost:8080/"
        },
        "id": "BcDa4AXqYOdE",
        "outputId": "9950307c-2c45-4e3b-9a4c-699437e79a06"
      },
      "execution_count": 22,
      "outputs": [
        {
          "output_type": "stream",
          "name": "stdout",
          "text": [
            "   col1  col2\n",
            "1  John     2\n",
            "2   Ben     1\n"
          ]
        }
      ]
    },
    {
      "cell_type": "code",
      "source": [
        "data = pd.DataFrame([[\"Cake\", 1], [\"Shake\", 2], [\"Lake\", 1], \n",
        "                     [\"Pizza\", 4], [\"Chocolate\", 10], [\"Bake\", 7]], \n",
        "                     columns = [\"col1\", \"col2\"])\n",
        "\n",
        "df_filtered = data[data.col1.str.contains(\"ak\")]\n",
        "print(df_filtered)"
      ],
      "metadata": {
        "colab": {
          "base_uri": "https://localhost:8080/"
        },
        "id": "JIG-lmC5YPdG",
        "outputId": "6bfc3b36-c40a-4591-8bd7-bd0263ee4c98"
      },
      "execution_count": 23,
      "outputs": [
        {
          "output_type": "stream",
          "name": "stdout",
          "text": [
            "    col1  col2\n",
            "0   Cake     1\n",
            "1  Shake     2\n",
            "2   Lake     1\n",
            "5   Bake     7\n"
          ]
        }
      ]
    },
    {
      "cell_type": "code",
      "source": [
        "data = pd.DataFrame([[\"CaKe\", 1], [\"Shake\", 2], [\"LAKE\", 1], \n",
        "                     [\"Pizza\", 4], [\"Chocolate\", 10], [\"BAke\", 7]], \n",
        "                     columns = [\"col1\", \"col2\"])\n",
        "\n",
        "df_filtered = data[data.col1.str.contains(\"ak\", case = False)]\n",
        "print(df_filtered)"
      ],
      "metadata": {
        "colab": {
          "base_uri": "https://localhost:8080/"
        },
        "id": "ndtZaFTRYQnl",
        "outputId": "95f0b8cd-5040-42c4-bcc2-f4a8bbc11a8f"
      },
      "execution_count": 24,
      "outputs": [
        {
          "output_type": "stream",
          "name": "stdout",
          "text": [
            "    col1  col2\n",
            "0   CaKe     1\n",
            "1  Shake     2\n",
            "2   LAKE     1\n",
            "5   BAke     7\n"
          ]
        }
      ]
    },
    {
      "cell_type": "code",
      "source": [
        "data = pd.DataFrame([[\"123\", 1], [\"Shake\", 2], [\"42\", 1], \n",
        "                     [\"Pizza\", 4], [\"273.19\", 10], [\"Bake121\", 7]], \n",
        "                     columns = [\"col1\", \"col2\"])\n",
        "\n",
        "df_filtered = data[data.col1.str.isalnum()]\n",
        "print(df_filtered)"
      ],
      "metadata": {
        "colab": {
          "base_uri": "https://localhost:8080/"
        },
        "id": "KoECMUZzYRwn",
        "outputId": "bcd8404a-5a5b-43e4-effa-5e45f37620cd"
      },
      "execution_count": 25,
      "outputs": [
        {
          "output_type": "stream",
          "name": "stdout",
          "text": [
            "      col1  col2\n",
            "0      123     1\n",
            "1    Shake     2\n",
            "2       42     1\n",
            "3    Pizza     4\n",
            "5  Bake121     7\n"
          ]
        }
      ]
    },
    {
      "cell_type": "code",
      "source": [
        "data = pd.DataFrame([[\"123\", 1], [\"shake\", 2], [\"42\", 1], \n",
        "                     [\"PIZZA\", 4], [\"273.19\", 10], [\"Bake121\", 7]], \n",
        "                     columns = [\"col1\", \"col2\"])\n",
        "\n",
        "df_filtered = data[data.col1.str.isnumeric()]\n",
        "print(df_filtered)"
      ],
      "metadata": {
        "colab": {
          "base_uri": "https://localhost:8080/"
        },
        "id": "9H8QV9HNYTGC",
        "outputId": "682f67bd-c53c-48ff-db5d-9e4484c16408"
      },
      "execution_count": 26,
      "outputs": [
        {
          "output_type": "stream",
          "name": "stdout",
          "text": [
            "  col1  col2\n",
            "0  123     1\n",
            "2   42     1\n"
          ]
        }
      ]
    }
  ]
}
