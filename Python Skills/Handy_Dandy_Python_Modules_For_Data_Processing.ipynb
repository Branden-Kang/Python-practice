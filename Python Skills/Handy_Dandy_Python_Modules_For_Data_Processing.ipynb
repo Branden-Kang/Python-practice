{
  "nbformat": 4,
  "nbformat_minor": 0,
  "metadata": {
    "colab": {
      "name": "Handy-Dandy Python Modules For Data Processing.ipynb",
      "provenance": [],
      "authorship_tag": "ABX9TyNcP2svlC2/wNxv05ham0K7"
    },
    "kernelspec": {
      "name": "python3",
      "display_name": "Python 3"
    },
    "language_info": {
      "name": "python"
    }
  },
  "cells": [
    {
      "cell_type": "markdown",
      "metadata": {
        "id": "RHubft293_oo"
      },
      "source": [
        "[Reference](https://towardsdatascience.com/handy-dandy-python-modules-for-data-processing-3a85d6806d39)"
      ]
    },
    {
      "cell_type": "markdown",
      "metadata": {
        "id": "Od0EfVdd4ZD4"
      },
      "source": [
        "# Numerizer"
      ]
    },
    {
      "cell_type": "code",
      "metadata": {
        "colab": {
          "base_uri": "https://localhost:8080/"
        },
        "id": "QRA6OR2J4I2e",
        "outputId": "fa0a8ae1-1daa-4967-f415-2e756fbb6148"
      },
      "source": [
        "pip install numerizer"
      ],
      "execution_count": 1,
      "outputs": [
        {
          "output_type": "stream",
          "text": [
            "Collecting numerizer\n",
            "  Downloading https://files.pythonhosted.org/packages/a2/04/c6535fc8888badfafaa5c4cd2c7fb97afc58059949eda9aa5672d278bc71/numerizer-0.2.0.tar.gz\n",
            "Building wheels for collected packages: numerizer\n",
            "  Building wheel for numerizer (setup.py) ... \u001b[?25l\u001b[?25hdone\n",
            "  Created wheel for numerizer: filename=numerizer-0.2.0-py2.py3-none-any.whl size=6224 sha256=4fdcdb225a126cb7381d13f556297850ce826601b2a41c1a85b338abaf23a7a3\n",
            "  Stored in directory: /root/.cache/pip/wheels/59/69/d4/54bb44243c9a7bd79fc27ef534e9bdbf19e8afc01adcbaa8ac\n",
            "Successfully built numerizer\n",
            "Installing collected packages: numerizer\n",
            "Successfully installed numerizer-0.2.0\n"
          ],
          "name": "stdout"
        }
      ]
    },
    {
      "cell_type": "code",
      "metadata": {
        "colab": {
          "base_uri": "https://localhost:8080/"
        },
        "id": "QLjT62t13-Wi",
        "outputId": "6003865a-8198-445d-ebc1-3a6b4419e1c2"
      },
      "source": [
        "from numerizer import numerize\n",
        "print(numerize('one two three'))\n",
        "print(numerize('One Hundred and five'))\n",
        "print(numerize('twenty point one'))\n",
        "print(numerize('six and three fifths'))\n",
        "print(numerize('one quarter'))\n",
        "print(numerize('one million billion'))"
      ],
      "execution_count": 2,
      "outputs": [
        {
          "output_type": "stream",
          "text": [
            "1 2 3\n",
            "105\n",
            "20 point 1\n",
            "6.6\n",
            "1/4\n",
            "1000000000000000\n"
          ],
          "name": "stdout"
        }
      ]
    },
    {
      "cell_type": "markdown",
      "metadata": {
        "id": "e3RMsmrd4a60"
      },
      "source": [
        "# Faker"
      ]
    },
    {
      "cell_type": "code",
      "metadata": {
        "colab": {
          "base_uri": "https://localhost:8080/"
        },
        "id": "W9lCvVRS4Jq5",
        "outputId": "c5c200e0-1912-4556-be59-124e92d759ea"
      },
      "source": [
        "pip install faker"
      ],
      "execution_count": 3,
      "outputs": [
        {
          "output_type": "stream",
          "text": [
            "Collecting faker\n",
            "\u001b[?25l  Downloading https://files.pythonhosted.org/packages/6f/dc/266528ca3f7e6c14016832b955adc4313b9c18529a5012e13c42b858c33f/Faker-8.1.1-py3-none-any.whl (1.2MB)\n",
            "\u001b[K     |████████████████████████████████| 1.2MB 8.6MB/s \n",
            "\u001b[?25hRequirement already satisfied: python-dateutil>=2.4 in /usr/local/lib/python3.7/dist-packages (from faker) (2.8.1)\n",
            "Requirement already satisfied: text-unidecode==1.3 in /usr/local/lib/python3.7/dist-packages (from faker) (1.3)\n",
            "Requirement already satisfied: six>=1.5 in /usr/local/lib/python3.7/dist-packages (from python-dateutil>=2.4->faker) (1.15.0)\n",
            "Installing collected packages: faker\n",
            "Successfully installed faker-8.1.1\n"
          ],
          "name": "stdout"
        }
      ]
    },
    {
      "cell_type": "code",
      "metadata": {
        "id": "FiDZCq2g4dNS"
      },
      "source": [
        "from faker import Faker\n",
        "import pandas as pd\n",
        "fake = Faker()"
      ],
      "execution_count": 4,
      "outputs": []
    },
    {
      "cell_type": "code",
      "metadata": {
        "colab": {
          "base_uri": "https://localhost:8080/",
          "height": 669
        },
        "id": "W__ZhyCA4fCC",
        "outputId": "697f9532-d822-4ffa-e0f9-4fb8efacf020"
      },
      "source": [
        "df = pd.DataFrame({\"Name\" : [fake.name() for x in range(1, 200)],\n",
        "                   \"Website\" : [fake.url() for x in range(1, 200)]\n",
        "                  })\n",
        "df.head(20)"
      ],
      "execution_count": 5,
      "outputs": [
        {
          "output_type": "execute_result",
          "data": {
            "text/html": [
              "<div>\n",
              "<style scoped>\n",
              "    .dataframe tbody tr th:only-of-type {\n",
              "        vertical-align: middle;\n",
              "    }\n",
              "\n",
              "    .dataframe tbody tr th {\n",
              "        vertical-align: top;\n",
              "    }\n",
              "\n",
              "    .dataframe thead th {\n",
              "        text-align: right;\n",
              "    }\n",
              "</style>\n",
              "<table border=\"1\" class=\"dataframe\">\n",
              "  <thead>\n",
              "    <tr style=\"text-align: right;\">\n",
              "      <th></th>\n",
              "      <th>Name</th>\n",
              "      <th>Website</th>\n",
              "    </tr>\n",
              "  </thead>\n",
              "  <tbody>\n",
              "    <tr>\n",
              "      <th>0</th>\n",
              "      <td>Debra Richards</td>\n",
              "      <td>https://davis-estrada.com/</td>\n",
              "    </tr>\n",
              "    <tr>\n",
              "      <th>1</th>\n",
              "      <td>Aaron Vargas</td>\n",
              "      <td>https://www.houston-johnson.info/</td>\n",
              "    </tr>\n",
              "    <tr>\n",
              "      <th>2</th>\n",
              "      <td>Blake Lewis</td>\n",
              "      <td>http://castaneda.com/</td>\n",
              "    </tr>\n",
              "    <tr>\n",
              "      <th>3</th>\n",
              "      <td>Kyle Anderson</td>\n",
              "      <td>https://www.morris.com/</td>\n",
              "    </tr>\n",
              "    <tr>\n",
              "      <th>4</th>\n",
              "      <td>Catherine Torres</td>\n",
              "      <td>http://roberts.info/</td>\n",
              "    </tr>\n",
              "    <tr>\n",
              "      <th>5</th>\n",
              "      <td>Allen Bailey</td>\n",
              "      <td>https://www.kelly.biz/</td>\n",
              "    </tr>\n",
              "    <tr>\n",
              "      <th>6</th>\n",
              "      <td>Timothy Simon</td>\n",
              "      <td>http://mcgee-johnson.com/</td>\n",
              "    </tr>\n",
              "    <tr>\n",
              "      <th>7</th>\n",
              "      <td>Matthew Thomas</td>\n",
              "      <td>https://curtis.com/</td>\n",
              "    </tr>\n",
              "    <tr>\n",
              "      <th>8</th>\n",
              "      <td>Jane Villa</td>\n",
              "      <td>https://www.anderson.com/</td>\n",
              "    </tr>\n",
              "    <tr>\n",
              "      <th>9</th>\n",
              "      <td>Zachary Hines</td>\n",
              "      <td>http://www.mullins-anthony.com/</td>\n",
              "    </tr>\n",
              "    <tr>\n",
              "      <th>10</th>\n",
              "      <td>Sean Rodgers</td>\n",
              "      <td>http://www.lewis.com/</td>\n",
              "    </tr>\n",
              "    <tr>\n",
              "      <th>11</th>\n",
              "      <td>Ryan Jones</td>\n",
              "      <td>http://www.cook.org/</td>\n",
              "    </tr>\n",
              "    <tr>\n",
              "      <th>12</th>\n",
              "      <td>Derrick Ramirez</td>\n",
              "      <td>https://camacho.info/</td>\n",
              "    </tr>\n",
              "    <tr>\n",
              "      <th>13</th>\n",
              "      <td>Judy White</td>\n",
              "      <td>https://williams.com/</td>\n",
              "    </tr>\n",
              "    <tr>\n",
              "      <th>14</th>\n",
              "      <td>Vincent Garcia</td>\n",
              "      <td>http://www.thornton.com/</td>\n",
              "    </tr>\n",
              "    <tr>\n",
              "      <th>15</th>\n",
              "      <td>Lori Mosley</td>\n",
              "      <td>https://simmons.com/</td>\n",
              "    </tr>\n",
              "    <tr>\n",
              "      <th>16</th>\n",
              "      <td>Matthew Lucas</td>\n",
              "      <td>http://alexander-carroll.biz/</td>\n",
              "    </tr>\n",
              "    <tr>\n",
              "      <th>17</th>\n",
              "      <td>Paul Cain</td>\n",
              "      <td>https://george-brewer.com/</td>\n",
              "    </tr>\n",
              "    <tr>\n",
              "      <th>18</th>\n",
              "      <td>Susan Hughes</td>\n",
              "      <td>https://www.andrews-watson.info/</td>\n",
              "    </tr>\n",
              "    <tr>\n",
              "      <th>19</th>\n",
              "      <td>Allen Coleman</td>\n",
              "      <td>http://www.casey-lewis.com/</td>\n",
              "    </tr>\n",
              "  </tbody>\n",
              "</table>\n",
              "</div>"
            ],
            "text/plain": [
              "                Name                            Website\n",
              "0     Debra Richards         https://davis-estrada.com/\n",
              "1       Aaron Vargas  https://www.houston-johnson.info/\n",
              "2        Blake Lewis              http://castaneda.com/\n",
              "3      Kyle Anderson            https://www.morris.com/\n",
              "4   Catherine Torres               http://roberts.info/\n",
              "5       Allen Bailey             https://www.kelly.biz/\n",
              "6      Timothy Simon          http://mcgee-johnson.com/\n",
              "7     Matthew Thomas                https://curtis.com/\n",
              "8         Jane Villa          https://www.anderson.com/\n",
              "9      Zachary Hines    http://www.mullins-anthony.com/\n",
              "10      Sean Rodgers              http://www.lewis.com/\n",
              "11        Ryan Jones               http://www.cook.org/\n",
              "12   Derrick Ramirez              https://camacho.info/\n",
              "13        Judy White              https://williams.com/\n",
              "14    Vincent Garcia           http://www.thornton.com/\n",
              "15       Lori Mosley               https://simmons.com/\n",
              "16     Matthew Lucas      http://alexander-carroll.biz/\n",
              "17         Paul Cain         https://george-brewer.com/\n",
              "18      Susan Hughes   https://www.andrews-watson.info/\n",
              "19     Allen Coleman        http://www.casey-lewis.com/"
            ]
          },
          "metadata": {
            "tags": []
          },
          "execution_count": 5
        }
      ]
    },
    {
      "cell_type": "markdown",
      "metadata": {
        "id": "kY4eIQdZ4nas"
      },
      "source": [
        "# Missingno"
      ]
    },
    {
      "cell_type": "code",
      "metadata": {
        "colab": {
          "base_uri": "https://localhost:8080/"
        },
        "id": "CG1Ri4_u4tZA",
        "outputId": "3d3f1aad-c38d-48de-ce08-512246529d76"
      },
      "source": [
        "pip install missingno"
      ],
      "execution_count": 6,
      "outputs": [
        {
          "output_type": "stream",
          "text": [
            "Requirement already satisfied: missingno in /usr/local/lib/python3.7/dist-packages (0.4.2)\n",
            "Requirement already satisfied: scipy in /usr/local/lib/python3.7/dist-packages (from missingno) (1.4.1)\n",
            "Requirement already satisfied: seaborn in /usr/local/lib/python3.7/dist-packages (from missingno) (0.11.1)\n",
            "Requirement already satisfied: matplotlib in /usr/local/lib/python3.7/dist-packages (from missingno) (3.2.2)\n",
            "Requirement already satisfied: numpy in /usr/local/lib/python3.7/dist-packages (from missingno) (1.19.5)\n",
            "Requirement already satisfied: pandas>=0.23 in /usr/local/lib/python3.7/dist-packages (from seaborn->missingno) (1.1.5)\n",
            "Requirement already satisfied: pyparsing!=2.0.4,!=2.1.2,!=2.1.6,>=2.0.1 in /usr/local/lib/python3.7/dist-packages (from matplotlib->missingno) (2.4.7)\n",
            "Requirement already satisfied: cycler>=0.10 in /usr/local/lib/python3.7/dist-packages (from matplotlib->missingno) (0.10.0)\n",
            "Requirement already satisfied: kiwisolver>=1.0.1 in /usr/local/lib/python3.7/dist-packages (from matplotlib->missingno) (1.3.1)\n",
            "Requirement already satisfied: python-dateutil>=2.1 in /usr/local/lib/python3.7/dist-packages (from matplotlib->missingno) (2.8.1)\n",
            "Requirement already satisfied: pytz>=2017.2 in /usr/local/lib/python3.7/dist-packages (from pandas>=0.23->seaborn->missingno) (2018.9)\n",
            "Requirement already satisfied: six in /usr/local/lib/python3.7/dist-packages (from cycler>=0.10->matplotlib->missingno) (1.15.0)\n"
          ],
          "name": "stdout"
        }
      ]
    },
    {
      "cell_type": "code",
      "metadata": {
        "colab": {
          "base_uri": "https://localhost:8080/",
          "height": 335
        },
        "id": "WBCqdVtr4lfV",
        "outputId": "54932422-d663-4b75-8f8c-7739c55e3209"
      },
      "source": [
        "import missingno as mi\n",
        "import numpy as np\n",
        "df = pd.DataFrame({\"A\" : [5, np.NaN, 10, np.NaN], \n",
        "                  \"B\" : [\"eight\", \"seven\", \"two\", \"three\"]})\n",
        "mi.matrix(df, figsize = (10,5));"
      ],
      "execution_count": 7,
      "outputs": [
        {
          "output_type": "display_data",
          "data": {
            "image/png": "[encoded data removed]",
            "text/plain": [
              "<Figure size 720x360 with 2 Axes>"
            ]
          },
          "metadata": {
            "tags": [],
            "needs_background": "light"
          }
        }
      ]
    },
    {
      "cell_type": "markdown",
      "metadata": {
        "id": "urNiLXKF4yMF"
      },
      "source": [
        "# emot"
      ]
    },
    {
      "cell_type": "code",
      "metadata": {
        "colab": {
          "base_uri": "https://localhost:8080/"
        },
        "id": "j4tiWfmD40_z",
        "outputId": "296eb298-654f-40e8-bc23-51464cab941f"
      },
      "source": [
        "pip install emot"
      ],
      "execution_count": 8,
      "outputs": [
        {
          "output_type": "stream",
          "text": [
            "Collecting emot\n",
            "  Downloading https://files.pythonhosted.org/packages/49/07/20001ade19873de611b7b66a4d5e5aabbf190d65abea337d5deeaa2bc3de/emot-2.1-py3-none-any.whl\n",
            "Installing collected packages: emot\n",
            "Successfully installed emot-2.1\n"
          ],
          "name": "stdout"
        }
      ]
    },
    {
      "cell_type": "code",
      "metadata": {
        "colab": {
          "base_uri": "https://localhost:8080/",
          "height": 54
        },
        "id": "SNNEzDTM4t_v",
        "outputId": "52a71e19-79ee-4546-e812-936b0a63c8a9"
      },
      "source": [
        "import re\n",
        "from emot.emo_unicode import UNICODE_EMO, EMOTICONS\n",
        "def convert_emoticons(text):\n",
        "    for emot in EMOTICONS:\n",
        "        text = re.sub(u'('+emot+')', \"_\".join(EMOTICONS[emot].replace(\",\",\"\").split()), text)\n",
        "    return text\n",
        "    \n",
        "convert_emoticons(\"Hi :3, how are you? :P\")"
      ],
      "execution_count": 11,
      "outputs": [
        {
          "output_type": "execute_result",
          "data": {
            "application/vnd.google.colaboratory.intrinsic+json": {
              "type": "string"
            },
            "text/plain": [
              "'Hi Happy_face_smiley, how are you? Tongue_sticking_out_cheeky_playful_or_blowing_a_raspberry'"
            ]
          },
          "metadata": {
            "tags": []
          },
          "execution_count": 11
        }
      ]
    },
    {
      "cell_type": "markdown",
      "metadata": {
        "id": "W1jqX6Ry6GuP"
      },
      "source": [
        "# Pillow"
      ]
    },
    {
      "cell_type": "code",
      "metadata": {
        "colab": {
          "base_uri": "https://localhost:8080/"
        },
        "id": "AQYEqi7648fS",
        "outputId": "82de74a3-8c91-4ec8-e1b8-8917d34c63b1"
      },
      "source": [
        "pip install pillow"
      ],
      "execution_count": 12,
      "outputs": [
        {
          "output_type": "stream",
          "text": [
            "Requirement already satisfied: pillow in /usr/local/lib/python3.7/dist-packages (7.1.2)\n"
          ],
          "name": "stdout"
        }
      ]
    },
    {
      "cell_type": "code",
      "metadata": {
        "id": "oSUAyX4V6IP6"
      },
      "source": [
        "import pillow as pil\n",
        "im = pil.Image.open(\"logo.png\")\n",
        "im.show()\n",
        "im.rotate(45)"
      ],
      "execution_count": 14,
      "outputs": []
    },
    {
      "cell_type": "markdown",
      "metadata": {
        "id": "tV3_4nee6OyU"
      },
      "source": [
        "# Arrow"
      ]
    },
    {
      "cell_type": "code",
      "metadata": {
        "colab": {
          "base_uri": "https://localhost:8080/"
        },
        "id": "ggu-Y29E6SRC",
        "outputId": "4fee9603-2157-4171-affb-f177656f5a68"
      },
      "source": [
        "pip install arrow"
      ],
      "execution_count": 15,
      "outputs": [
        {
          "output_type": "stream",
          "text": [
            "Collecting arrow\n",
            "\u001b[?25l  Downloading https://files.pythonhosted.org/packages/ea/22/482a480cbee1aa7795a58b411159a4df249d6d4ceacdd9987ab946f78210/arrow-1.0.3-py3-none-any.whl (54kB)\n",
            "\r\u001b[K     |██████                          | 10kB 17.0MB/s eta 0:00:01\r\u001b[K     |████████████                    | 20kB 18.0MB/s eta 0:00:01\r\u001b[K     |██████████████████              | 30kB 9.8MB/s eta 0:00:01\r\u001b[K     |████████████████████████▏       | 40kB 8.4MB/s eta 0:00:01\r\u001b[K     |██████████████████████████████▏ | 51kB 7.1MB/s eta 0:00:01\r\u001b[K     |████████████████████████████████| 61kB 4.3MB/s \n",
            "\u001b[?25hRequirement already satisfied: typing-extensions; python_version < \"3.8\" in /usr/local/lib/python3.7/dist-packages (from arrow) (3.7.4.3)\n",
            "Requirement already satisfied: python-dateutil>=2.7.0 in /usr/local/lib/python3.7/dist-packages (from arrow) (2.8.1)\n",
            "Requirement already satisfied: six>=1.5 in /usr/local/lib/python3.7/dist-packages (from python-dateutil>=2.7.0->arrow) (1.15.0)\n",
            "Installing collected packages: arrow\n",
            "Successfully installed arrow-1.0.3\n"
          ],
          "name": "stdout"
        }
      ]
    },
    {
      "cell_type": "code",
      "metadata": {
        "colab": {
          "base_uri": "https://localhost:8080/",
          "height": 37
        },
        "id": "3AMg5ZN-6J-J",
        "outputId": "f9b92450-5f9a-4e1c-e54e-e442ac0639af"
      },
      "source": [
        "import arrow\n",
        "utc = arrow.utcnow()\n",
        "local = utc.to('US/Eastern')\n",
        "local.humanize()"
      ],
      "execution_count": 16,
      "outputs": [
        {
          "output_type": "execute_result",
          "data": {
            "application/vnd.google.colaboratory.intrinsic+json": {
              "type": "string"
            },
            "text/plain": [
              "'just now'"
            ]
          },
          "metadata": {
            "tags": []
          },
          "execution_count": 16
        }
      ]
    },
    {
      "cell_type": "code",
      "metadata": {
        "colab": {
          "base_uri": "https://localhost:8080/",
          "height": 37
        },
        "id": "oerksJjt6UPL",
        "outputId": "cd8a54d3-6684-4d0e-e7c4-270c8eb24fda"
      },
      "source": [
        "local.humanize(locale='fr')"
      ],
      "execution_count": 17,
      "outputs": [
        {
          "output_type": "execute_result",
          "data": {
            "application/vnd.google.colaboratory.intrinsic+json": {
              "type": "string"
            },
            "text/plain": [
              "'il y a 21 secondes'"
            ]
          },
          "metadata": {
            "tags": []
          },
          "execution_count": 17
        }
      ]
    }
  ]
}