{
  "nbformat": 4,
  "nbformat_minor": 0,
  "metadata": {
    "colab": {
      "provenance": [],
      "authorship_tag": "ABX9TyM8KZisyL1Yng7Uj5YWJry/"
    },
    "kernelspec": {
      "name": "python3",
      "display_name": "Python 3"
    },
    "language_info": {
      "name": "python"
    }
  },
  "cells": [
    {
      "cell_type": "markdown",
      "source": [
        "[Reference](https://medium.com/python-features/understanding-coroutines-tasks-in-depth-in-python-af2a4c0e1073)"
      ],
      "metadata": {
        "id": "5DohAqjl7ME2"
      }
    },
    {
      "cell_type": "code",
      "execution_count": 1,
      "metadata": {
        "colab": {
          "base_uri": "https://localhost:8080/"
        },
        "id": "9hYqEC1t7DKd",
        "outputId": "ef406ad6-98e1-4d5c-e51e-af0733b5ece3"
      },
      "outputs": [
        {
          "output_type": "stream",
          "name": "stdout",
          "text": [
            "Function result is 4 and the type is <class 'int'>\n",
            "Coroutine result is <coroutine object coroutine_multiply_by_two at 0x7d0274b3d3f0> and the type is <class 'coroutine'>\n"
          ]
        }
      ],
      "source": [
        "async def coroutine_multiply_by_two(number: int) -> int:\n",
        "    return number * 2\n",
        "\n",
        "def multiply_by_two(number: int) -> int:\n",
        "    return number * 2\n",
        "\n",
        "function_result = multiply_by_two(2)\n",
        "coroutine_result = coroutine_multiply_by_two(2)\n",
        "\n",
        "print(f'Function result is {function_result} and the type is {type(function_result)}')\n",
        "print(f'Coroutine result is {coroutine_result} and the type is {type(coroutine_result)}')"
      ]
    },
    {
      "cell_type": "markdown",
      "source": [
        "# Running Coroutines with asyncio.run() and await"
      ],
      "metadata": {
        "id": "ysCDe2-o7ciX"
      }
    },
    {
      "cell_type": "code",
      "source": [
        "import asyncio\n",
        "\n",
        "async def fetch_data(data_id: int) -> str:\n",
        "    print(f'Fetching data for ID {data_id}')\n",
        "    await asyncio.sleep(2)  # Simulates a delay like a network request\n",
        "    print(f'Data fetched for ID {data_id}')\n",
        "    return f'Data {data_id}'\n",
        "\n",
        "async def compute_result(value: int) -> int:\n",
        "    await asyncio.sleep(1)  # Simulates a delay like a computation\n",
        "    return value * 2\n",
        "\n",
        "async def process_data() -> None:\n",
        "    data = await fetch_data(1)\n",
        "    result = await compute_result(5)\n",
        "    print(f'Result: {result}')\n",
        "    print(f'Processed Data: {data}')\n",
        "\n",
        "asyncio.run(process_data())"
      ],
      "metadata": {
        "id": "hNEXHQar7QIv"
      },
      "execution_count": 3,
      "outputs": []
    },
    {
      "cell_type": "markdown",
      "source": [
        "# Utilizing Tasks for Concurrency"
      ],
      "metadata": {
        "id": "dRNnd-RL7i6c"
      }
    },
    {
      "cell_type": "code",
      "source": [
        "import asyncio\n",
        "\n",
        "async def fetch_data(data_id: int) -> None:\n",
        "    print(f'Fetching data for ID {data_id}')\n",
        "    await asyncio.sleep(3)  # Simulates waiting for a response from a server\n",
        "    print(f'Finished fetching data for ID {data_id}')\n",
        "\n",
        "async def main() -> None:\n",
        "    await fetch_data(1)\n",
        "    await fetch_data(2)\n",
        "    await fetch_data(3)\n",
        "\n",
        "asyncio.run(main())"
      ],
      "metadata": {
        "id": "uJBpcSXn7egP"
      },
      "execution_count": 5,
      "outputs": []
    },
    {
      "cell_type": "code",
      "source": [
        "import asyncio\n",
        "\n",
        "async def fetch_data(data_id: int) -> None:\n",
        "    print(f'Fetching data for ID {data_id}')\n",
        "    await asyncio.sleep(3)  # Simulates waiting for a response from a server\n",
        "    print(f'Finished fetching data for ID {data_id}')\n",
        "\n",
        "async def main() -> None:\n",
        "    # Create tasks for concurrent execution\n",
        "    task1 = asyncio.create_task(fetch_data(1))\n",
        "    task2 = asyncio.create_task(fetch_data(2))\n",
        "    task3 = asyncio.create_task(fetch_data(3))\n",
        "\n",
        "    # Await all tasks\n",
        "    await task1\n",
        "    await task2\n",
        "    await task3\n",
        "\n",
        "asyncio.run(main())"
      ],
      "metadata": {
        "id": "vbyGpj1g7lWh"
      },
      "execution_count": 6,
      "outputs": []
    }
  ]
}
