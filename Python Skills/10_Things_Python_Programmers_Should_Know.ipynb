{
  "nbformat": 4,
  "nbformat_minor": 0,
  "metadata": {
    "colab": {
      "name": "10 Things Python Programmers Should Know.ipynb",
      "provenance": [],
      "authorship_tag": "ABX9TyNh3Jq/uEQJyj0SDRWDMMnU"
    },
    "kernelspec": {
      "name": "python3",
      "display_name": "Python 3"
    }
  },
  "cells": [
    {
      "cell_type": "markdown",
      "metadata": {
        "id": "YczDq5j7M4zP"
      },
      "source": [
        "[Reference](https://medium.com/dev-genius/things-python-programmers-should-know-ba2d7faeb76d)"
      ]
    },
    {
      "cell_type": "markdown",
      "metadata": {
        "id": "yrNvNOqUNDfV"
      },
      "source": [
        "# 1. PYTHON SHELL\n",
        "One of the most useful aspects of Python is that it comes auto-installed with its own shell. "
      ]
    },
    {
      "cell_type": "markdown",
      "metadata": {
        "id": "O0M6FphqNGMI"
      },
      "source": [
        "# 2. Different Versions of Python Programming Platforms\n",
        "It is really important to know which version of python one is working on as that changes many things out there."
      ]
    },
    {
      "cell_type": "markdown",
      "metadata": {
        "id": "S8n_vmorNK7k"
      },
      "source": [
        "# 3. Python Frameworks and Object Relational Mapper (ORM)\n",
        "clear understanding of the Python frameworks is very important but that does not mean that one has to know all of them."
      ]
    },
    {
      "cell_type": "markdown",
      "metadata": {
        "id": "3U_c0RqGNRlw"
      },
      "source": [
        "# 4. Classes and Functions"
      ]
    },
    {
      "cell_type": "code",
      "metadata": {
        "colab": {
          "base_uri": "https://localhost:8080/"
        },
        "id": "dDc5TQN_H25I",
        "outputId": "c6a1146a-4a1b-4f07-bcd7-25e947847480"
      },
      "source": [
        "def count_zeros(string):\n",
        "    total = 0\n",
        "    for value in string:\n",
        "        if value == \"0\":\n",
        "            total += 1\n",
        "    \n",
        "    return total\n",
        "\n",
        "print (count_zeros ('00002'))"
      ],
      "execution_count": 4,
      "outputs": [
        {
          "output_type": "stream",
          "text": [
            "4\n"
          ],
          "name": "stdout"
        }
      ]
    },
    {
      "cell_type": "markdown",
      "metadata": {
        "id": "umdPgT1zNVJI"
      },
      "source": [
        "# 5. File Management\n",
        "```python\n",
        "f = open ('python.txt', 'r')\n",
        "for line in f:\n",
        "    print(line)\n",
        "    \n",
        "f.close() \n",
        "```"
      ]
    },
    {
      "cell_type": "markdown",
      "metadata": {
        "id": "DmuEo4hWNY1S"
      },
      "source": [
        "# 6.Basic Concepts of Dictionaries and Sets"
      ]
    },
    {
      "cell_type": "code",
      "metadata": {
        "colab": {
          "base_uri": "https://localhost:8080/"
        },
        "id": "p7VaGX_H_Ll5",
        "outputId": "617d2feb-27a4-4090-affa-64fd41ba4011"
      },
      "source": [
        "thisset = {\"apple\", \"banana\", \"cherry\"}\n",
        "\n",
        "thisset.add(\"orange\")\n",
        "\n",
        "print(thisset) "
      ],
      "execution_count": 5,
      "outputs": [
        {
          "output_type": "stream",
          "text": [
            "{'cherry', 'orange', 'banana', 'apple'}\n"
          ],
          "name": "stdout"
        }
      ]
    },
    {
      "cell_type": "code",
      "metadata": {
        "colab": {
          "base_uri": "https://localhost:8080/"
        },
        "id": "JBj4rVnuHv6q",
        "outputId": "223f0f08-eeba-48a4-a4fa-df0a117b8f06"
      },
      "source": [
        "thisdict = {\n",
        "  \"brand\": \"Ford\",\n",
        "  \"model\": \"Mustang\",\n",
        "  \"year\": 1964\n",
        "}\n",
        "print(thisdict)"
      ],
      "execution_count": 6,
      "outputs": [
        {
          "output_type": "stream",
          "text": [
            "{'brand': 'Ford', 'model': 'Mustang', 'year': 1964}\n"
          ],
          "name": "stdout"
        }
      ]
    },
    {
      "cell_type": "markdown",
      "metadata": {
        "id": "UQgu1ZmbNfjr"
      },
      "source": [
        "# 7. Slicing"
      ]
    },
    {
      "cell_type": "code",
      "metadata": {
        "colab": {
          "base_uri": "https://localhost:8080/"
        },
        "id": "xehmatVfNeSU",
        "outputId": "5b883e07-df6c-4da6-b3f5-6e2fcc1a54a2"
      },
      "source": [
        "a = (\"a\", \"b\", \"c\", \"d\", \"e\", \"f\", \"g\", \"h\")\n",
        "x = slice(3, 5)\n",
        "print(a[x])"
      ],
      "execution_count": 7,
      "outputs": [
        {
          "output_type": "stream",
          "text": [
            "('d', 'e')\n"
          ],
          "name": "stdout"
        }
      ]
    },
    {
      "cell_type": "markdown",
      "metadata": {
        "id": "jlJX3eToNj5I"
      },
      "source": [
        "# 8. Difference between the Front-End and Back-End Technologies\n",
        "The frontend is what a user sees when visiting a page while the back-end is what happens behind the scenes."
      ]
    },
    {
      "cell_type": "markdown",
      "metadata": {
        "id": "oEyMKUOQNmOI"
      },
      "source": [
        "# 9 . No braces\n",
        "Unlike Java and C++, Python does not use braces to delimit code. Indentation is mandatory with Python. "
      ]
    },
    {
      "cell_type": "markdown",
      "metadata": {
        "id": "3jA_ofokNnWq"
      },
      "source": [
        "# 10. Python supports multiple assignments in one statement"
      ]
    },
    {
      "cell_type": "code",
      "metadata": {
        "colab": {
          "base_uri": "https://localhost:8080/"
        },
        "id": "hUJasoE7NjJw",
        "outputId": "1b45ccce-560a-4145-df80-fdb838873c2e"
      },
      "source": [
        "a , b = 7 , 8\n",
        "a , b = b , a\n",
        "print(a , b )"
      ],
      "execution_count": 8,
      "outputs": [
        {
          "output_type": "stream",
          "text": [
            "8 7\n"
          ],
          "name": "stdout"
        }
      ]
    }
  ]
}