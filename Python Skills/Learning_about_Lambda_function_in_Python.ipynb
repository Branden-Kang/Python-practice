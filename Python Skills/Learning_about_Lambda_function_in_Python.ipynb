{
  "nbformat": 4,
  "nbformat_minor": 0,
  "metadata": {
    "colab": {
      "name": "Learning about Lambda function in Python.ipynb",
      "provenance": [],
      "authorship_tag": "ABX9TyOq1XhPUL6ISDe+DGHZOe2c"
    },
    "kernelspec": {
      "name": "python3",
      "display_name": "Python 3"
    },
    "language_info": {
      "name": "python"
    }
  },
  "cells": [
    {
      "cell_type": "markdown",
      "metadata": {
        "id": "I3Xksyyn97vc"
      },
      "source": [
        "[Reference](https://avinashsdalvi.medium.com/learning-about-lambda-function-in-python-d237c23f44c6)"
      ]
    },
    {
      "cell_type": "code",
      "metadata": {
        "colab": {
          "base_uri": "https://localhost:8080/"
        },
        "id": "zpaUnThj6bai",
        "outputId": "81cd105b-02ec-44c8-ae94-7a055b4abbc0"
      },
      "source": [
        "def sum(a,b):\n",
        "    return a+b\n",
        "\n",
        "print(sum(2,3))"
      ],
      "execution_count": 1,
      "outputs": [
        {
          "output_type": "stream",
          "text": [
            "5\n"
          ],
          "name": "stdout"
        }
      ]
    },
    {
      "cell_type": "code",
      "metadata": {
        "colab": {
          "base_uri": "https://localhost:8080/"
        },
        "id": "yna2MHiw-AXH",
        "outputId": "ffdf10e6-0660-45c4-e597-0902d83491c0"
      },
      "source": [
        "sum = lambda a,b: a+b \n",
        "print(sum(2,3))"
      ],
      "execution_count": 2,
      "outputs": [
        {
          "output_type": "stream",
          "text": [
            "5\n"
          ],
          "name": "stdout"
        }
      ]
    },
    {
      "cell_type": "code",
      "metadata": {
        "colab": {
          "base_uri": "https://localhost:8080/"
        },
        "id": "Hpcc_vVb-BmP",
        "outputId": "65223090-4941-4d97-e670-4477aa059a9e"
      },
      "source": [
        "(lambda x, y: x + y)(2, 3)"
      ],
      "execution_count": 3,
      "outputs": [
        {
          "output_type": "execute_result",
          "data": {
            "text/plain": [
              "5"
            ]
          },
          "metadata": {
            "tags": []
          },
          "execution_count": 3
        }
      ]
    },
    {
      "cell_type": "code",
      "metadata": {
        "colab": {
          "base_uri": "https://localhost:8080/"
        },
        "id": "nmN3Nxfr-Ic8",
        "outputId": "3e0da4a5-d769-42a6-94cf-3d4b11b29f80"
      },
      "source": [
        "def square(a):\n",
        "    return (lambda x: x*x)(a)\n",
        "\n",
        "print(square(2))"
      ],
      "execution_count": 4,
      "outputs": [
        {
          "output_type": "stream",
          "text": [
            "4\n"
          ],
          "name": "stdout"
        }
      ]
    },
    {
      "cell_type": "code",
      "metadata": {
        "colab": {
          "base_uri": "https://localhost:8080/"
        },
        "id": "t8llF8HG-JWh",
        "outputId": "e4a94036-6ecc-4ff6-a282-5a41c1e3df52"
      },
      "source": [
        "def square(x): \n",
        "    return lambda : x*x\n",
        "\n",
        "functions = [square(i) for i in [1,2,3,4,5,6]]\n",
        "for function in functions: \n",
        "    print(function())"
      ],
      "execution_count": 5,
      "outputs": [
        {
          "output_type": "stream",
          "text": [
            "1\n",
            "4\n",
            "9\n",
            "16\n",
            "25\n",
            "36\n"
          ],
          "name": "stdout"
        }
      ]
    },
    {
      "cell_type": "code",
      "metadata": {
        "colab": {
          "base_uri": "https://localhost:8080/"
        },
        "id": "seChspHd-Kzj",
        "outputId": "562e873f-231e-453b-bd3a-6a53e8f72313"
      },
      "source": [
        "functions = [lambda i=i: i*i for i in range(1, 6)]\n",
        "for function in functions:\n",
        "   print(function())"
      ],
      "execution_count": 6,
      "outputs": [
        {
          "output_type": "stream",
          "text": [
            "1\n",
            "4\n",
            "9\n",
            "16\n",
            "25\n"
          ],
          "name": "stdout"
        }
      ]
    }
  ]
}