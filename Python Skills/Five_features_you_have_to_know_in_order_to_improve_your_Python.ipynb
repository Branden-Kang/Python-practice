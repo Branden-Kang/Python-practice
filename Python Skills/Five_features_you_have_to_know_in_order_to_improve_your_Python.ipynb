{
  "nbformat": 4,
  "nbformat_minor": 0,
  "metadata": {
    "colab": {
      "name": "Five features you have to know in order to improve your Python.ipynb",
      "provenance": [],
      "authorship_tag": "ABX9TyNGBRg6Sgaootxpv3/cBv0B"
    },
    "kernelspec": {
      "name": "python3",
      "display_name": "Python 3"
    }
  },
  "cells": [
    {
      "cell_type": "markdown",
      "metadata": {
        "id": "qZzBrOkDhx0f"
      },
      "source": [
        "# 1. Map\n"
      ]
    },
    {
      "cell_type": "code",
      "metadata": {
        "id": "13nzGrNPhf-8"
      },
      "source": [
        "def process_instruction_input_file(self, file_name=\"\"):\n",
        "    try:\n",
        "        self.logger.info(\"Attempting to load instructions into memory\")\n",
        "        with open(file_name, newline='') as csvfile:\n",
        "            csv_instructions = csv.reader(csvfile, delimiter='|')\n",
        "            list(map(slef.data_classification, csv_insturctions))\n",
        "        self.instruction_loaded = True\n",
        "        self.logger.info('Succesfully loaded intructions for processing')\n",
        "        return self.instruction_list\n",
        "\n",
        "    except IOError as file_error:\n",
        "        self.logger.error(\"Error reading input file{0}\".format(file_error))\n",
        "        raise Exception(\"Error reading input file{0}\".format(file_error))"
      ],
      "execution_count": 1,
      "outputs": []
    },
    {
      "cell_type": "markdown",
      "metadata": {
        "id": "GjdqYtuUjb9O"
      },
      "source": [
        "# 2. named tuples"
      ]
    },
    {
      "cell_type": "code",
      "metadata": {
        "id": "RkZMFZM2jZkI"
      },
      "source": [
        "from collections import namedtuple as data_structure\n",
        "\n",
        "#data structure declarations\n",
        "self.user_listing  = data_structure('user_listing', 'timestamp user_id action item reserve_price close_time')\n",
        "self.bid = data_structure('bid', 'timestamp user_id action item bid_amount')\n",
        "self.heartbeat = data_structure ('heartbeat', 'timestamp')\n",
        "\n",
        "def data_classification(self, data=[]):\n",
        "        \"\"\"\n",
        "        This function is used to store and classify data entered into memory\n",
        "        using namedtuples, useful for easily accessing data.\n",
        "        Rows with 6 columns are user listings\n",
        "        Rows with 5 columns are bids\n",
        "        Rows with a single column are heartbeats\n",
        "            input: list of data\n",
        "            output: classification type (user_listing, bid, heartbeat)\n",
        "        \"\"\"\n",
        "        data_type = ''\n",
        "        self.logger.info('Attempting to classify: {0}'.format(data))\n",
        "        #This section classifies an input as heartbeat, expecting integer\n",
        "        if len(data) == 1:\n",
        "            try:\n",
        "                value = data[0]\n",
        "                int(value)\n",
        "                self.instruction_list.append(self.heartbeat._make(data))\n",
        "                data_type = 'heartbeat'\n",
        "            except ValueError as input_error:\n",
        "                self.logger.error('{0}, expecting heartbeat with epoch timestamp'.format(input_error))\n",
        "        #This section classifies the input as a bid\n",
        "        if len(data) == 5:\n",
        "            is_bid_syntax_valid = self.validate_bid_format(data)\n",
        "            if is_bid_syntax_valid:\n",
        "                self.instruction_list.append(self.bid._make(data))\n",
        "                data_type = 'bid'\n",
        "            else:\n",
        "                self.logger.error('Invalid syntax for classifying object as a bid: {0}'.format(data))\n",
        "        # This section classifies the input as a user listing\n",
        "        if len(data) == 6:\n",
        "            is_listing_syntax_valid = self.validate_listing_format(data)\n",
        "            if is_listing_syntax_valid:\n",
        "                self.instruction_list.append(self.user_listing._make(data))\n",
        "                data_type = 'user_listing'\n",
        "            else:\n",
        "                self.logger.error('Invalid syntax for classifying object as a user listing: {0}'.format(data))\n",
        "        \n",
        "        if data_type:\n",
        "           self.logger.info('Successfully classified {0} as {1}'.format(self.instruction_list[-1], data_type))\n",
        "        else:\n",
        "           self.logger.debug('Unable to classify instruction: {0}'.format(data))\n",
        "        return data_type"
      ],
      "execution_count": 3,
      "outputs": []
    },
    {
      "cell_type": "markdown",
      "metadata": {
        "id": "fgT8w7pAj2rw"
      },
      "source": [
        "# 3. Virtual environment"
      ]
    },
    {
      "cell_type": "code",
      "metadata": {
        "id": "ESal1AD7jvMR"
      },
      "source": [
        "!python3 -mvenv auction_env\n",
        "!pyvenv auction_env"
      ],
      "execution_count": 4,
      "outputs": []
    },
    {
      "cell_type": "code",
      "metadata": {
        "id": "5K4tzq__j7pS"
      },
      "source": [
        "!source auction_env/bin/activate"
      ],
      "execution_count": 5,
      "outputs": []
    },
    {
      "cell_type": "code",
      "metadata": {
        "id": "S9-DGox_kCG_"
      },
      "source": [
        "!deactivate"
      ],
      "execution_count": 6,
      "outputs": []
    },
    {
      "cell_type": "code",
      "metadata": {
        "id": "_i1CITaIkl_w"
      },
      "source": [
        "!pip install nose==1.3.7"
      ],
      "execution_count": 7,
      "outputs": []
    },
    {
      "cell_type": "markdown",
      "metadata": {
        "id": "5HVJ8biekqml"
      },
      "source": [
        "# 4. Unit testing"
      ]
    },
    {
      "cell_type": "code",
      "metadata": {
        "id": "v8o2lByPkmiG"
      },
      "source": [
        "import unittest\n",
        "from auction_v2 import Server\n",
        "from auction_listing import AuctionListing\n",
        "from decimal import Decimal as decimal\n",
        "from collections import namedtuple as data_structure\n",
        "\n",
        "#variables\n",
        "file_input = \"input_test_file.txt\"\n",
        "\n",
        "data_classification_timestamp = [1524349374]\n",
        "\n",
        "class TestAuctionServer(unittest.TestCase):\n",
        "    \"\"\"\n",
        "       TestAuction is used to test the individual functions\n",
        "          available in the Auction class\n",
        "    \"\"\"\n",
        "    def setUp(self):\n",
        "        self.auction_obj = Server(file_input)\n",
        "\n",
        "    def test_01_process_instruction_input_file(self):\n",
        "        \"\"\"\n",
        "        Read file and process data by calling classification function\n",
        "        output can be seen in the log file: thought_machine/logs\n",
        "        \"\"\"\n",
        "        result = self.auction_obj.process_instruction_input_file(self.auction_obj.file_name)\n",
        "        assert len(result) > 1, \"Nothing read from input file\"\n",
        "        assert isinstance(result, list), \"Unexpected return type, expecting list\"\n",
        "        assert isinstance(result[0], tuple), \"Expecting tuple\""
      ],
      "execution_count": 8,
      "outputs": []
    },
    {
      "cell_type": "markdown",
      "metadata": {
        "id": "LEhm3bnTk94R"
      },
      "source": [
        "# 5. Logging"
      ]
    },
    {
      "cell_type": "code",
      "metadata": {
        "id": "cjuh0xv-k4EQ"
      },
      "source": [
        "from logging.config import fileConfig\n",
        "\n",
        "class Server:\n",
        "    def __init__(self, input_file=\"\"):\n",
        "        self.logger = self.set_up_logging()"
      ],
      "execution_count": 10,
      "outputs": []
    },
    {
      "cell_type": "code",
      "metadata": {
        "id": "Wbn_abiVmWg4"
      },
      "source": [
        "def set_up_logging(self):\n",
        "        \"\"\"\n",
        "        Function used to initialise logging of activities ...\n",
        "        \"\"\"\n",
        "        fileConfig('logging_config.ini')\n",
        "        logger = logging.getLogger('auctionLogger')\n",
        "        return logger"
      ],
      "execution_count": 11,
      "outputs": []
    }
  ]
}