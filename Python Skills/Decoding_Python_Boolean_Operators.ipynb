{
  "nbformat": 4,
  "nbformat_minor": 0,
  "metadata": {
    "colab": {
      "name": "Decoding Python Boolean Operators.ipynb",
      "provenance": [],
      "authorship_tag": "ABX9TyMRk20waHt+sWvQ9hmbGRTR"
    },
    "kernelspec": {
      "name": "python3",
      "display_name": "Python 3"
    }
  },
  "cells": [
    {
      "cell_type": "code",
      "metadata": {
        "colab": {
          "base_uri": "https://localhost:8080/"
        },
        "id": "7XN6IfIHjn0F",
        "outputId": "55ff6644-3f12-462b-d7bf-9289f4685206"
      },
      "source": [
        "animal = {\n",
        "  \"species\": \"dog\",\n",
        "  \"name\": \"Leo\"\n",
        "}\n",
        "\n",
        "def is_it_my_pet(a):\n",
        "  if a.get(\"species\") == \"dog\" and a.get(\"name\") == \"Leo\":\n",
        "    print(\"That's my dog!\")\n",
        "  else:\n",
        "    print(f\"I don't know this {a.get('species')}\")\n",
        "\n",
        "is_it_my_pet(animal)\n",
        "# That's my dog!"
      ],
      "execution_count": 1,
      "outputs": [
        {
          "output_type": "stream",
          "text": [
            "That's my dog!\n"
          ],
          "name": "stdout"
        }
      ]
    },
    {
      "cell_type": "code",
      "metadata": {
        "colab": {
          "base_uri": "https://localhost:8080/"
        },
        "id": "H6acuGy6mo1s",
        "outputId": "2e66f09a-69d8-4d2f-97d3-ba400c131e04"
      },
      "source": [
        "def or_abc(a, b, c):\n",
        "\treturn a or b or c\n",
        "\n",
        "print(or_abc(1, 2, 3))\n",
        "print(or_abc(1, False, True))\n",
        "print(or_abc(None, 0, []))"
      ],
      "execution_count": 2,
      "outputs": [
        {
          "output_type": "stream",
          "text": [
            "1\n",
            "1\n",
            "[]\n"
          ],
          "name": "stdout"
        }
      ]
    },
    {
      "cell_type": "code",
      "metadata": {
        "colab": {
          "base_uri": "https://localhost:8080/"
        },
        "id": "8PsEvzIvm5Mu",
        "outputId": "44c02b1a-737f-4e58-8d96-e51e97343e3e"
      },
      "source": [
        "def and_abc(a, b, c):\n",
        "\treturn a and b and c\n",
        "\n",
        "print(and_abc(1, 2, 3))\n",
        "print(and_abc(1, False, True))\n",
        "print(and_abc(None, 0, []))"
      ],
      "execution_count": 3,
      "outputs": [
        {
          "output_type": "stream",
          "text": [
            "3\n",
            "False\n",
            "None\n"
          ],
          "name": "stdout"
        }
      ]
    },
    {
      "cell_type": "code",
      "metadata": {
        "colab": {
          "base_uri": "https://localhost:8080/"
        },
        "id": "wP-QEAYum8zi",
        "outputId": "161141d1-96fb-47ad-8e93-789d0023a379"
      },
      "source": [
        "def not_a(a):\n",
        "  return not a\n",
        "\n",
        "print(not_a(None))\n",
        "print(not_a(1))\n",
        "print(not_a({}))"
      ],
      "execution_count": 4,
      "outputs": [
        {
          "output_type": "stream",
          "text": [
            "True\n",
            "False\n",
            "True\n"
          ],
          "name": "stdout"
        }
      ]
    },
    {
      "cell_type": "code",
      "metadata": {
        "colab": {
          "base_uri": "https://localhost:8080/",
          "height": 198
        },
        "id": "B-U5GFDcnAVS",
        "outputId": "62ae5ab6-203b-44a7-bbb4-044bd5462649"
      },
      "source": [
        "dis.dis(or_abc)"
      ],
      "execution_count": 5,
      "outputs": [
        {
          "output_type": "error",
          "ename": "NameError",
          "evalue": "ignored",
          "traceback": [
            "\u001b[0;31m---------------------------------------------------------------------------\u001b[0m",
            "\u001b[0;31mNameError\u001b[0m                                 Traceback (most recent call last)",
            "\u001b[0;32m<ipython-input-5-d29261647d18>\u001b[0m in \u001b[0;36m<module>\u001b[0;34m()\u001b[0m\n\u001b[0;32m----> 1\u001b[0;31m \u001b[0mdis\u001b[0m\u001b[0;34m.\u001b[0m\u001b[0mdis\u001b[0m\u001b[0;34m(\u001b[0m\u001b[0mor_abc\u001b[0m\u001b[0;34m)\u001b[0m\u001b[0;34m\u001b[0m\u001b[0;34m\u001b[0m\u001b[0m\n\u001b[0m",
            "\u001b[0;31mNameError\u001b[0m: name 'dis' is not defined"
          ]
        }
      ]
    },
    {
      "cell_type": "code",
      "metadata": {
        "id": "trG7lAn3nDYJ"
      },
      "source": [
        "import dis"
      ],
      "execution_count": 6,
      "outputs": []
    },
    {
      "cell_type": "code",
      "metadata": {
        "colab": {
          "base_uri": "https://localhost:8080/"
        },
        "id": "s-ssRFAInIte",
        "outputId": "d54ce222-1716-4baf-afec-dc8617e83923"
      },
      "source": [
        "dis.dis(or_abc)"
      ],
      "execution_count": 7,
      "outputs": [
        {
          "output_type": "stream",
          "text": [
            "  2           0 LOAD_FAST                0 (a)\n",
            "              2 JUMP_IF_TRUE_OR_POP     10\n",
            "              4 LOAD_FAST                1 (b)\n",
            "              6 JUMP_IF_TRUE_OR_POP     10\n",
            "              8 LOAD_FAST                2 (c)\n",
            "        >>   10 RETURN_VALUE\n"
          ],
          "name": "stdout"
        }
      ]
    },
    {
      "cell_type": "code",
      "metadata": {
        "colab": {
          "base_uri": "https://localhost:8080/"
        },
        "id": "dJ1VqvhCnKfw",
        "outputId": "76e51b94-83de-458b-8e61-be82293b95f4"
      },
      "source": [
        "dis.dis(and_abc)"
      ],
      "execution_count": 8,
      "outputs": [
        {
          "output_type": "stream",
          "text": [
            "  2           0 LOAD_FAST                0 (a)\n",
            "              2 JUMP_IF_FALSE_OR_POP    10\n",
            "              4 LOAD_FAST                1 (b)\n",
            "              6 JUMP_IF_FALSE_OR_POP    10\n",
            "              8 LOAD_FAST                2 (c)\n",
            "        >>   10 RETURN_VALUE\n"
          ],
          "name": "stdout"
        }
      ]
    },
    {
      "cell_type": "code",
      "metadata": {
        "colab": {
          "base_uri": "https://localhost:8080/"
        },
        "id": "89Zg5C93nNQL",
        "outputId": "a92d329b-b3cc-4984-baa4-9062dd944b0f"
      },
      "source": [
        "dis.dis(not_a)"
      ],
      "execution_count": 9,
      "outputs": [
        {
          "output_type": "stream",
          "text": [
            "  2           0 LOAD_FAST                0 (a)\n",
            "              2 UNARY_NOT\n",
            "              4 RETURN_VALUE\n"
          ],
          "name": "stdout"
        }
      ]
    },
    {
      "cell_type": "code",
      "metadata": {
        "colab": {
          "base_uri": "https://localhost:8080/"
        },
        "id": "2j-KI6CmnReP",
        "outputId": "c3329a3a-927d-496a-8f55-ba6c51b3de30"
      },
      "source": [
        "x = not -1 or None or 1//2 and True or False\n",
        "print(x)"
      ],
      "execution_count": 10,
      "outputs": [
        {
          "output_type": "stream",
          "text": [
            "False\n"
          ],
          "name": "stdout"
        }
      ]
    },
    {
      "cell_type": "code",
      "metadata": {
        "colab": {
          "base_uri": "https://localhost:8080/"
        },
        "id": "3eDXlHJdnVEQ",
        "outputId": "dc5b067a-7a09-4a61-de5d-73ffe37d2488"
      },
      "source": [
        "{\n",
        "\t\"state\": \"ON\",\n",
        "\t\"is_active\": True,\n",
        "\t\"created_by\": \"andrew@andrewscott.dev\",\n",
        "\t\"created_at\": \"2020-06-18T13:04:14Z\",\n",
        "\t\"updated_by\": \"andrew@andrewscott.dev\",\n",
        "\t\"updated_at\": \"2020-06-23T16:41:42Z\"\n",
        "}"
      ],
      "execution_count": 12,
      "outputs": [
        {
          "output_type": "execute_result",
          "data": {
            "text/plain": [
              "{'created_at': '2020-06-18T13:04:14Z',\n",
              " 'created_by': 'andrew@andrewscott.dev',\n",
              " 'is_active': True,\n",
              " 'state': 'ON',\n",
              " 'updated_at': '2020-06-23T16:41:42Z',\n",
              " 'updated_by': 'andrew@andrewscott.dev'}"
            ]
          },
          "metadata": {
            "tags": []
          },
          "execution_count": 12
        }
      ]
    },
    {
      "cell_type": "code",
      "metadata": {
        "id": "plzQr7OhnXfb"
      },
      "source": [
        "def find_last_updated_by(payload):\n",
        "    if payload.get(\"updated_by\") is not None:\n",
        "        return payload.get(\"updated_by\")\n",
        "    elif payload.get(\"created_by\") is not None:\n",
        "        return payload.get(\"created_by\")\n",
        "    else:\n",
        "        return \"Unknown\""
      ],
      "execution_count": 19,
      "outputs": []
    },
    {
      "cell_type": "code",
      "metadata": {
        "id": "dSVDNED4nqZO"
      },
      "source": [
        "def find_last_updated_by_or(payload):\n",
        "    return payload.get(\"updated_by\") or payload.get(\"created_by\") or \"Unknown\""
      ],
      "execution_count": 20,
      "outputs": []
    },
    {
      "cell_type": "markdown",
      "metadata": {
        "id": "_zkKgskSn1bI"
      },
      "source": [
        "# Efficiency"
      ]
    },
    {
      "cell_type": "code",
      "metadata": {
        "colab": {
          "base_uri": "https://localhost:8080/"
        },
        "id": "1vXQMvaPn09L",
        "outputId": "8ccdaf04-b0d4-4323-c808-67cc271368b6"
      },
      "source": [
        "dis.dis(find_last_updated_by)"
      ],
      "execution_count": 15,
      "outputs": [
        {
          "output_type": "stream",
          "text": [
            "  2           0 LOAD_FAST                0 (payload)\n",
            "              2 LOAD_ATTR                0 (get)\n",
            "              4 LOAD_CONST               1 ('updated_by')\n",
            "              6 CALL_FUNCTION            1\n",
            "              8 LOAD_CONST               0 (None)\n",
            "             10 COMPARE_OP               9 (is not)\n",
            "             12 POP_JUMP_IF_FALSE       24\n",
            "\n",
            "  3          14 LOAD_FAST                0 (payload)\n",
            "             16 LOAD_ATTR                0 (get)\n",
            "             18 LOAD_CONST               1 ('updated_by')\n",
            "             20 CALL_FUNCTION            1\n",
            "             22 RETURN_VALUE\n",
            "\n",
            "  4     >>   24 LOAD_FAST                0 (payload)\n",
            "             26 LOAD_ATTR                0 (get)\n",
            "             28 LOAD_CONST               2 ('created_by')\n",
            "             30 CALL_FUNCTION            1\n",
            "             32 LOAD_CONST               0 (None)\n",
            "             34 COMPARE_OP               9 (is not)\n",
            "             36 POP_JUMP_IF_FALSE       48\n",
            "\n",
            "  5          38 LOAD_FAST                0 (payload)\n",
            "             40 LOAD_ATTR                0 (get)\n",
            "             42 LOAD_CONST               2 ('created_by')\n",
            "             44 CALL_FUNCTION            1\n",
            "             46 RETURN_VALUE\n",
            "\n",
            "  7     >>   48 LOAD_CONST               3 ('Unknown')\n",
            "             50 RETURN_VALUE\n",
            "             52 LOAD_CONST               0 (None)\n",
            "             54 RETURN_VALUE\n"
          ],
          "name": "stdout"
        }
      ]
    },
    {
      "cell_type": "code",
      "metadata": {
        "id": "WWeWn-IJoAec"
      },
      "source": [
        "import timeit"
      ],
      "execution_count": 17,
      "outputs": []
    },
    {
      "cell_type": "code",
      "metadata": {
        "id": "zOFvacGYn5zf"
      },
      "source": [
        "# Value exists\n",
        "timeit.timeit(stmt=find_last_updated_by, number=100)\n",
        "timeit.timeit(stmt=find_last_updated_by_or, number=100)\n",
        "\n",
        "# Value doesn't exist\n",
        "timeit.timeit(stmt=find_last_updated_by, number=100)\n",
        "timeit.timeit(stmt=find_last_updated_by_or, number=100)"
      ],
      "execution_count": 23,
      "outputs": []
    }
  ]
}