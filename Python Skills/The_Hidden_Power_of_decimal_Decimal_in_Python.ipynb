{
  "nbformat": 4,
  "nbformat_minor": 0,
  "metadata": {
    "colab": {
      "provenance": [],
      "authorship_tag": "ABX9TyMaQ0KvffFzp0sBskvV0gpk"
    },
    "kernelspec": {
      "name": "python3",
      "display_name": "Python 3"
    },
    "language_info": {
      "name": "python"
    }
  },
  "cells": [
    {
      "cell_type": "markdown",
      "source": [
        "[Reference](https://python.plainenglish.io/the-hidden-power-of-decimal-decimal-in-python-ea2cf057ebcb)"
      ],
      "metadata": {
        "id": "Mg_8_2m9bV_a"
      }
    },
    {
      "cell_type": "markdown",
      "source": [
        "# 1. The Problem With Floats"
      ],
      "metadata": {
        "id": "p3LcguwKbabQ"
      }
    },
    {
      "cell_type": "code",
      "execution_count": 1,
      "metadata": {
        "colab": {
          "base_uri": "https://localhost:8080/"
        },
        "id": "60YcszmObQ1Y",
        "outputId": "d7b30daa-05e3-4fd0-95cc-130605ed38b6"
      },
      "outputs": [
        {
          "output_type": "stream",
          "name": "stdout",
          "text": [
            "0.30000000000000004\n"
          ]
        }
      ],
      "source": [
        "print(0.1 + 0.2)"
      ]
    },
    {
      "cell_type": "markdown",
      "source": [
        "# 2. Enter decimal.Decimal"
      ],
      "metadata": {
        "id": "ogVg4_f0bdcP"
      }
    },
    {
      "cell_type": "code",
      "source": [
        "from decimal import Decimal\n",
        "print(Decimal('0.1') + Decimal('0.2'))"
      ],
      "metadata": {
        "colab": {
          "base_uri": "https://localhost:8080/"
        },
        "id": "jOQuvhHTbb6a",
        "outputId": "cff08bde-fee5-46cb-b55e-b6a7cb33f089"
      },
      "execution_count": 2,
      "outputs": [
        {
          "output_type": "stream",
          "name": "stdout",
          "text": [
            "0.3\n"
          ]
        }
      ]
    },
    {
      "cell_type": "markdown",
      "source": [
        "# 3. Math With Decimal"
      ],
      "metadata": {
        "id": "p9pUTyX3b3YC"
      }
    },
    {
      "cell_type": "code",
      "source": [
        "a = Decimal('10.25')\n",
        "b = Decimal('2.5')\n",
        "print(a + b)   # 12.75\n",
        "print(a - b)   # 7.75\n",
        "print(a * b)   # 25.625\n",
        "print(a / b)   # 4.1"
      ],
      "metadata": {
        "colab": {
          "base_uri": "https://localhost:8080/"
        },
        "id": "HHBXVzNUbsRw",
        "outputId": "0d92a2cb-f781-4fe5-d48d-ea0491377d98"
      },
      "execution_count": 3,
      "outputs": [
        {
          "output_type": "stream",
          "name": "stdout",
          "text": [
            "12.75\n",
            "7.75\n",
            "25.625\n",
            "4.1\n"
          ]
        }
      ]
    },
    {
      "cell_type": "markdown",
      "source": [
        "# 4. Setting the Precision"
      ],
      "metadata": {
        "id": "8X0CChbtb_0r"
      }
    },
    {
      "cell_type": "code",
      "source": [
        "from decimal import getcontext\n",
        "getcontext().prec = 4\n",
        "\n",
        "print(Decimal('1') / Decimal('7'))"
      ],
      "metadata": {
        "colab": {
          "base_uri": "https://localhost:8080/"
        },
        "id": "rZgVITdwb5vb",
        "outputId": "4d254a9c-1d2a-43f7-f323-39aacad629cc"
      },
      "execution_count": 4,
      "outputs": [
        {
          "output_type": "stream",
          "name": "stdout",
          "text": [
            "0.1429\n"
          ]
        }
      ]
    },
    {
      "cell_type": "markdown",
      "source": [
        "# 5. Decimal vs Float: A Real Example"
      ],
      "metadata": {
        "id": "oASy4ZllcGQp"
      }
    },
    {
      "cell_type": "code",
      "source": [
        "print(1000 / 3)"
      ],
      "metadata": {
        "colab": {
          "base_uri": "https://localhost:8080/"
        },
        "id": "Stzcj3QWcD60",
        "outputId": "49c045cb-90aa-4fd8-b36c-2b65a1dc29c7"
      },
      "execution_count": 5,
      "outputs": [
        {
          "output_type": "stream",
          "name": "stdout",
          "text": [
            "333.3333333333333\n"
          ]
        }
      ]
    },
    {
      "cell_type": "code",
      "source": [
        "print(333.3333333333333 * 3)"
      ],
      "metadata": {
        "colab": {
          "base_uri": "https://localhost:8080/"
        },
        "id": "kQqcWaK-cH-a",
        "outputId": "713a4e78-0d0e-4c5c-d173-d614b93a218e"
      },
      "execution_count": 6,
      "outputs": [
        {
          "output_type": "stream",
          "name": "stdout",
          "text": [
            "1000.0\n"
          ]
        }
      ]
    },
    {
      "cell_type": "code",
      "source": [
        "amount = Decimal('1000')\n",
        "people = Decimal('3')\n",
        "share = amount / people\n",
        "print(share * people)"
      ],
      "metadata": {
        "colab": {
          "base_uri": "https://localhost:8080/"
        },
        "id": "fTP9HwlTcJcf",
        "outputId": "9b99dd31-2055-41fc-91a6-e2d4b7407b64"
      },
      "execution_count": 7,
      "outputs": [
        {
          "output_type": "stream",
          "name": "stdout",
          "text": [
            "999.9\n"
          ]
        }
      ]
    }
  ]
}
