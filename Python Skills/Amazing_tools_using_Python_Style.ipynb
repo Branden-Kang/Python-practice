{
  "nbformat": 4,
  "nbformat_minor": 0,
  "metadata": {
    "colab": {
      "name": "Amazing tools using Python Style.ipynb",
      "provenance": [],
      "authorship_tag": "ABX9TyO9+pBZJwCy4TIGlCt5NpZR"
    },
    "kernelspec": {
      "name": "python3",
      "display_name": "Python 3"
    }
  },
  "cells": [
    {
      "cell_type": "markdown",
      "metadata": {
        "id": "g9In2rEuRGUm"
      },
      "source": [
        "[Reference](https://medium.com/swlh/make-your-code-great-python-style-3223c1160299)"
      ]
    },
    {
      "cell_type": "markdown",
      "metadata": {
        "id": "DjrpOEFBRR59"
      },
      "source": [
        "# Unpacking"
      ]
    },
    {
      "cell_type": "code",
      "metadata": {
        "colab": {
          "base_uri": "https://localhost:8080/"
        },
        "id": "1CWddtw5Q-fU",
        "outputId": "6057d274-81f1-4833-8506-49d8ff9a5f0f"
      },
      "source": [
        "a, b, c = (1, 2, 3)\n",
        "print(a)\n",
        "print(b)\n",
        "print(c)"
      ],
      "execution_count": 1,
      "outputs": [
        {
          "output_type": "stream",
          "text": [
            "1\n",
            "2\n",
            "3\n"
          ],
          "name": "stdout"
        }
      ]
    },
    {
      "cell_type": "code",
      "metadata": {
        "colab": {
          "base_uri": "https://localhost:8080/",
          "height": 198
        },
        "id": "RyQzwlC_RVEk",
        "outputId": "fe487f22-94bb-410b-84a5-7776e8237456"
      },
      "source": [
        "a, b = 1, 2, 3"
      ],
      "execution_count": 2,
      "outputs": [
        {
          "output_type": "error",
          "ename": "ValueError",
          "evalue": "ignored",
          "traceback": [
            "\u001b[0;31m---------------------------------------------------------------------------\u001b[0m",
            "\u001b[0;31mValueError\u001b[0m                                Traceback (most recent call last)",
            "\u001b[0;32m<ipython-input-2-8904fd2ea925>\u001b[0m in \u001b[0;36m<module>\u001b[0;34m()\u001b[0m\n\u001b[0;32m----> 1\u001b[0;31m \u001b[0ma\u001b[0m\u001b[0;34m,\u001b[0m \u001b[0mb\u001b[0m \u001b[0;34m=\u001b[0m \u001b[0;36m1\u001b[0m\u001b[0;34m,\u001b[0m \u001b[0;36m2\u001b[0m\u001b[0;34m,\u001b[0m \u001b[0;36m3\u001b[0m\u001b[0;34m\u001b[0m\u001b[0;34m\u001b[0m\u001b[0m\n\u001b[0m",
            "\u001b[0;31mValueError\u001b[0m: too many values to unpack (expected 2)"
          ]
        }
      ]
    },
    {
      "cell_type": "code",
      "metadata": {
        "colab": {
          "base_uri": "https://localhost:8080/",
          "height": 198
        },
        "id": "fIaU5W6gRWrU",
        "outputId": "7cf8521a-2dae-4762-f495-e2b6be6f867c"
      },
      "source": [
        "a, b, c = 1, 2"
      ],
      "execution_count": 3,
      "outputs": [
        {
          "output_type": "error",
          "ename": "ValueError",
          "evalue": "ignored",
          "traceback": [
            "\u001b[0;31m---------------------------------------------------------------------------\u001b[0m",
            "\u001b[0;31mValueError\u001b[0m                                Traceback (most recent call last)",
            "\u001b[0;32m<ipython-input-3-9dbc59cfd6c6>\u001b[0m in \u001b[0;36m<module>\u001b[0;34m()\u001b[0m\n\u001b[0;32m----> 1\u001b[0;31m \u001b[0ma\u001b[0m\u001b[0;34m,\u001b[0m \u001b[0mb\u001b[0m\u001b[0;34m,\u001b[0m \u001b[0mc\u001b[0m \u001b[0;34m=\u001b[0m \u001b[0;36m1\u001b[0m\u001b[0;34m,\u001b[0m \u001b[0;36m2\u001b[0m\u001b[0;34m\u001b[0m\u001b[0;34m\u001b[0m\u001b[0m\n\u001b[0m",
            "\u001b[0;31mValueError\u001b[0m: not enough values to unpack (expected 3, got 2)"
          ]
        }
      ]
    },
    {
      "cell_type": "code",
      "metadata": {
        "id": "05KUv1NHRX2l"
      },
      "source": [
        "a, *b, c = 1, 2, 3, 4, 5, 6"
      ],
      "execution_count": 4,
      "outputs": []
    },
    {
      "cell_type": "code",
      "metadata": {
        "colab": {
          "base_uri": "https://localhost:8080/"
        },
        "id": "S-8AgyzjRYn4",
        "outputId": "1f5278f5-b3cd-416b-ac1a-387cd38ba73d"
      },
      "source": [
        "a"
      ],
      "execution_count": 5,
      "outputs": [
        {
          "output_type": "execute_result",
          "data": {
            "text/plain": [
              "1"
            ]
          },
          "metadata": {
            "tags": []
          },
          "execution_count": 5
        }
      ]
    },
    {
      "cell_type": "code",
      "metadata": {
        "colab": {
          "base_uri": "https://localhost:8080/"
        },
        "id": "DP-wGcrGRZHC",
        "outputId": "7d5673f1-2893-4d45-da8b-019a83f16bb3"
      },
      "source": [
        "b"
      ],
      "execution_count": 6,
      "outputs": [
        {
          "output_type": "execute_result",
          "data": {
            "text/plain": [
              "[2, 3, 4, 5]"
            ]
          },
          "metadata": {
            "tags": []
          },
          "execution_count": 6
        }
      ]
    },
    {
      "cell_type": "code",
      "metadata": {
        "colab": {
          "base_uri": "https://localhost:8080/"
        },
        "id": "378QNEkfRaT7",
        "outputId": "320cc09b-d5ff-4982-dabc-fb3d0e15af72"
      },
      "source": [
        "c"
      ],
      "execution_count": 7,
      "outputs": [
        {
          "output_type": "execute_result",
          "data": {
            "text/plain": [
              "6"
            ]
          },
          "metadata": {
            "tags": []
          },
          "execution_count": 7
        }
      ]
    },
    {
      "cell_type": "code",
      "metadata": {
        "colab": {
          "base_uri": "https://localhost:8080/",
          "height": 130
        },
        "id": "xOtrEoY9RayY",
        "outputId": "17929d99-7d02-4464-9b61-9f14fca51a17"
      },
      "source": [
        "a, *b, c, *d = 1, 2, 3, 4, 5, 6"
      ],
      "execution_count": 8,
      "outputs": [
        {
          "output_type": "error",
          "ename": "SyntaxError",
          "evalue": "ignored",
          "traceback": [
            "\u001b[0;36m  File \u001b[0;32m\"<ipython-input-8-895fa2c942c1>\"\u001b[0;36m, line \u001b[0;32m1\u001b[0m\n\u001b[0;31m    a, *b, c, *d = 1, 2, 3, 4, 5, 6\u001b[0m\n\u001b[0m                                   ^\u001b[0m\n\u001b[0;31mSyntaxError\u001b[0m\u001b[0;31m:\u001b[0m two starred expressions in assignment\n"
          ]
        }
      ]
    },
    {
      "cell_type": "code",
      "metadata": {
        "id": "Nra8CRmlRcJC"
      },
      "source": [
        "a, b, c = ['a', 'b', 'c']"
      ],
      "execution_count": 9,
      "outputs": []
    },
    {
      "cell_type": "code",
      "metadata": {
        "colab": {
          "base_uri": "https://localhost:8080/",
          "height": 37
        },
        "id": "oIayVyTLRfTU",
        "outputId": "ce0083e6-864b-42f6-e113-88777779b621"
      },
      "source": [
        "a"
      ],
      "execution_count": 10,
      "outputs": [
        {
          "output_type": "execute_result",
          "data": {
            "application/vnd.google.colaboratory.intrinsic+json": {
              "type": "string"
            },
            "text/plain": [
              "'a'"
            ]
          },
          "metadata": {
            "tags": []
          },
          "execution_count": 10
        }
      ]
    },
    {
      "cell_type": "code",
      "metadata": {
        "colab": {
          "base_uri": "https://localhost:8080/",
          "height": 37
        },
        "id": "cE0T19aORfgS",
        "outputId": "1fd6d544-aa87-4fab-cf00-d27ebd472a74"
      },
      "source": [
        "a, b, c = 'def'\n",
        "a"
      ],
      "execution_count": 11,
      "outputs": [
        {
          "output_type": "execute_result",
          "data": {
            "application/vnd.google.colaboratory.intrinsic+json": {
              "type": "string"
            },
            "text/plain": [
              "'d'"
            ]
          },
          "metadata": {
            "tags": []
          },
          "execution_count": 11
        }
      ]
    },
    {
      "cell_type": "code",
      "metadata": {
        "colab": {
          "base_uri": "https://localhost:8080/"
        },
        "id": "ki6ssfy5RhNH",
        "outputId": "f1a3e7f5-c128-4480-fb0d-384fe403259a"
      },
      "source": [
        "a = 1\n",
        "b = 2\n",
        "a, b = b, a\n",
        "print(a)\n",
        "print(b)"
      ],
      "execution_count": 12,
      "outputs": [
        {
          "output_type": "stream",
          "text": [
            "2\n",
            "1\n"
          ],
          "name": "stdout"
        }
      ]
    },
    {
      "cell_type": "markdown",
      "metadata": {
        "id": "xw52YA1jRm0U"
      },
      "source": [
        "# Checking against None"
      ]
    },
    {
      "cell_type": "code",
      "metadata": {
        "colab": {
          "base_uri": "https://localhost:8080/"
        },
        "id": "wYazhlJxRlGK",
        "outputId": "5acf61f4-1534-4b8c-f170-da19e3fa241f"
      },
      "source": [
        "x = None\n",
        "type(x)"
      ],
      "execution_count": 13,
      "outputs": [
        {
          "output_type": "execute_result",
          "data": {
            "text/plain": [
              "NoneType"
            ]
          },
          "metadata": {
            "tags": []
          },
          "execution_count": 13
        }
      ]
    },
    {
      "cell_type": "code",
      "metadata": {
        "colab": {
          "base_uri": "https://localhost:8080/"
        },
        "id": "19vLDLLMRo89",
        "outputId": "3fd184ba-f965-4e0a-d31b-f117d0c6a374"
      },
      "source": [
        "x == 0 "
      ],
      "execution_count": 14,
      "outputs": [
        {
          "output_type": "execute_result",
          "data": {
            "text/plain": [
              "False"
            ]
          },
          "metadata": {
            "tags": []
          },
          "execution_count": 14
        }
      ]
    },
    {
      "cell_type": "code",
      "metadata": {
        "colab": {
          "base_uri": "https://localhost:8080/"
        },
        "id": "QQnZzfGNRp7D",
        "outputId": "7add3bdd-6e30-4b77-9a00-11ba5d23dcc4"
      },
      "source": [
        "x == False"
      ],
      "execution_count": 15,
      "outputs": [
        {
          "output_type": "execute_result",
          "data": {
            "text/plain": [
              "False"
            ]
          },
          "metadata": {
            "tags": []
          },
          "execution_count": 15
        }
      ]
    },
    {
      "cell_type": "code",
      "metadata": {
        "colab": {
          "base_uri": "https://localhost:8080/"
        },
        "id": "RdiBiXA_Rqg4",
        "outputId": "5f6a0f8f-f32d-4b28-e492-de84b40a860d"
      },
      "source": [
        "x == None"
      ],
      "execution_count": 16,
      "outputs": [
        {
          "output_type": "execute_result",
          "data": {
            "text/plain": [
              "True"
            ]
          },
          "metadata": {
            "tags": []
          },
          "execution_count": 16
        }
      ]
    },
    {
      "cell_type": "code",
      "metadata": {
        "colab": {
          "base_uri": "https://localhost:8080/"
        },
        "id": "wpsCH70fRrpD",
        "outputId": "ba44f528-6716-455c-bf32-24b1911b5bdc"
      },
      "source": [
        "x is None"
      ],
      "execution_count": 17,
      "outputs": [
        {
          "output_type": "execute_result",
          "data": {
            "text/plain": [
              "True"
            ]
          },
          "metadata": {
            "tags": []
          },
          "execution_count": 17
        }
      ]
    },
    {
      "cell_type": "code",
      "metadata": {
        "colab": {
          "base_uri": "https://localhost:8080/"
        },
        "id": "PFdB3m9FRslr",
        "outputId": "665debe6-c93f-4248-9151-d7262007a9f0"
      },
      "source": [
        "x is not None"
      ],
      "execution_count": 18,
      "outputs": [
        {
          "output_type": "execute_result",
          "data": {
            "text/plain": [
              "False"
            ]
          },
          "metadata": {
            "tags": []
          },
          "execution_count": 18
        }
      ]
    },
    {
      "cell_type": "markdown",
      "metadata": {
        "id": "p1JTYBuDRun-"
      },
      "source": [
        "# Iterating"
      ]
    },
    {
      "cell_type": "code",
      "metadata": {
        "colab": {
          "base_uri": "https://localhost:8080/"
        },
        "id": "1yiwCZsJRtvW",
        "outputId": "0a20a424-56a6-4514-ded4-50e6e50f2b2a"
      },
      "source": [
        "x = [1 ,2, 3, 4, 5]\n",
        "for i in range(len(x)):\n",
        "    print(x[i])"
      ],
      "execution_count": 19,
      "outputs": [
        {
          "output_type": "stream",
          "text": [
            "1\n",
            "2\n",
            "3\n",
            "4\n",
            "5\n"
          ],
          "name": "stdout"
        }
      ]
    },
    {
      "cell_type": "code",
      "metadata": {
        "colab": {
          "base_uri": "https://localhost:8080/"
        },
        "id": "tZMWRZJdRzWN",
        "outputId": "552501b7-866e-4154-e05c-ff84398ff242"
      },
      "source": [
        "x = [1, 2, 3, 5, 8, 11]\n",
        "for i in x:\n",
        "    print(i)"
      ],
      "execution_count": 20,
      "outputs": [
        {
          "output_type": "stream",
          "text": [
            "1\n",
            "2\n",
            "3\n",
            "5\n",
            "8\n",
            "11\n"
          ],
          "name": "stdout"
        }
      ]
    },
    {
      "cell_type": "code",
      "metadata": {
        "colab": {
          "base_uri": "https://localhost:8080/"
        },
        "id": "XfD-ECKLR4nd",
        "outputId": "339c3bc9-050a-4034-bece-056b0eb86365"
      },
      "source": [
        "x = [1, 2, 3, 5, 8, 11]\n",
        "for item in x[::-1]:\n",
        "    print(item)"
      ],
      "execution_count": 22,
      "outputs": [
        {
          "output_type": "stream",
          "text": [
            "11\n",
            "8\n",
            "5\n",
            "3\n",
            "2\n",
            "1\n"
          ],
          "name": "stdout"
        }
      ]
    },
    {
      "cell_type": "code",
      "metadata": {
        "colab": {
          "base_uri": "https://localhost:8080/"
        },
        "id": "TCyyzqQaR-kC",
        "outputId": "1f48e715-ed66-4b51-b322-903a8fada7c3"
      },
      "source": [
        "for item in reversed(x):\n",
        "    print(item)"
      ],
      "execution_count": 23,
      "outputs": [
        {
          "output_type": "stream",
          "text": [
            "11\n",
            "8\n",
            "5\n",
            "3\n",
            "2\n",
            "1\n"
          ],
          "name": "stdout"
        }
      ]
    },
    {
      "cell_type": "code",
      "metadata": {
        "colab": {
          "base_uri": "https://localhost:8080/"
        },
        "id": "xA3s_RZJSBy1",
        "outputId": "dc17ae60-463e-4570-c231-21da834f980d"
      },
      "source": [
        "x = [1, 2, 3, 5, 8, 11]\n",
        "for i, item in enumerate(x):\n",
        "    print(i, item)"
      ],
      "execution_count": 24,
      "outputs": [
        {
          "output_type": "stream",
          "text": [
            "0 1\n",
            "1 2\n",
            "2 3\n",
            "3 5\n",
            "4 8\n",
            "5 11\n"
          ],
          "name": "stdout"
        }
      ]
    },
    {
      "cell_type": "code",
      "metadata": {
        "colab": {
          "base_uri": "https://localhost:8080/"
        },
        "id": "iplAyWlpSH4y",
        "outputId": "38f55a88-c4a0-4158-e81a-612b1f43d8bd"
      },
      "source": [
        "names = ['Branden', 'James', 'Allen']\n",
        "ages = [23, 20, 26]\n",
        "for person in zip(names, ages):\n",
        "    print(person)"
      ],
      "execution_count": 27,
      "outputs": [
        {
          "output_type": "stream",
          "text": [
            "('Branden', 23)\n",
            "('James', 20)\n",
            "('Allen', 26)\n"
          ],
          "name": "stdout"
        }
      ]
    },
    {
      "cell_type": "code",
      "metadata": {
        "colab": {
          "base_uri": "https://localhost:8080/"
        },
        "id": "unBoKdCvSP3D",
        "outputId": "254f5c23-bc1d-4a30-d5ef-6b72ed7e9b84"
      },
      "source": [
        "names = ['Branden', 'James', 'Allen']\n",
        "ages = [23, 20, 26]\n",
        "for person in zip(names, ages):\n",
        "    name, age = person\n",
        "    print(name, age)"
      ],
      "execution_count": 28,
      "outputs": [
        {
          "output_type": "stream",
          "text": [
            "Branden 23\n",
            "James 20\n",
            "Allen 26\n"
          ],
          "name": "stdout"
        }
      ]
    },
    {
      "cell_type": "code",
      "metadata": {
        "colab": {
          "base_uri": "https://localhost:8080/"
        },
        "id": "xkTnB1-aSYwS",
        "outputId": "86d246c4-6e80-4ad7-deef-526e5acc65f4"
      },
      "source": [
        "names = ['Branden', 'James', 'Allen']\n",
        "ages = [23, 20, 26]\n",
        "for name, age in zip(names, ages):\n",
        "    print(name, age)"
      ],
      "execution_count": 29,
      "outputs": [
        {
          "output_type": "stream",
          "text": [
            "Branden 23\n",
            "James 20\n",
            "Allen 26\n"
          ],
          "name": "stdout"
        }
      ]
    },
    {
      "cell_type": "code",
      "metadata": {
        "colab": {
          "base_uri": "https://localhost:8080/"
        },
        "id": "9MVbgR2aSojc",
        "outputId": "beb6241c-442b-47ad-d7e8-b8b0dc575e65"
      },
      "source": [
        "info = {'name': 'Branden', 'age': 23}\n",
        "for k in info:\n",
        "    print(k, info[k])"
      ],
      "execution_count": 30,
      "outputs": [
        {
          "output_type": "stream",
          "text": [
            "name Branden\n",
            "age 23\n"
          ],
          "name": "stdout"
        }
      ]
    },
    {
      "cell_type": "code",
      "metadata": {
        "colab": {
          "base_uri": "https://localhost:8080/"
        },
        "id": "jy5xTO1GSvGc",
        "outputId": "ce9c5893-892d-476f-97c9-50059edf4a10"
      },
      "source": [
        "info = {'name': 'Branden', 'age': 23}\n",
        "for i, j in info.items():\n",
        "    print(i, j)"
      ],
      "execution_count": 32,
      "outputs": [
        {
          "output_type": "stream",
          "text": [
            "name Branden\n",
            "age 23\n"
          ],
          "name": "stdout"
        }
      ]
    },
    {
      "cell_type": "markdown",
      "metadata": {
        "id": "a8UmwLNWS7Cx"
      },
      "source": [
        "# Avoid Mutable Optional Arguments"
      ]
    },
    {
      "cell_type": "code",
      "metadata": {
        "id": "WXi-Cy3rS0XC"
      },
      "source": [
        "def add_value(value, seq=[]):\n",
        "    seq.append(value)\n",
        "    return seq"
      ],
      "execution_count": 33,
      "outputs": []
    },
    {
      "cell_type": "code",
      "metadata": {
        "colab": {
          "base_uri": "https://localhost:8080/"
        },
        "id": "TA59kGB3TBPS",
        "outputId": "2d81b420-e33e-4e28-df21-36efc90b166b"
      },
      "source": [
        "add_value(5)"
      ],
      "execution_count": 34,
      "outputs": [
        {
          "output_type": "execute_result",
          "data": {
            "text/plain": [
              "[5]"
            ]
          },
          "metadata": {
            "tags": []
          },
          "execution_count": 34
        }
      ]
    },
    {
      "cell_type": "code",
      "metadata": {
        "colab": {
          "base_uri": "https://localhost:8080/"
        },
        "id": "Fu6H7IPVTCgu",
        "outputId": "22b64d68-2f1f-4cd3-a2a3-691cca2556bb"
      },
      "source": [
        "add_value(10)"
      ],
      "execution_count": 35,
      "outputs": [
        {
          "output_type": "execute_result",
          "data": {
            "text/plain": [
              "[5, 10]"
            ]
          },
          "metadata": {
            "tags": []
          },
          "execution_count": 35
        }
      ]
    },
    {
      "cell_type": "code",
      "metadata": {
        "colab": {
          "base_uri": "https://localhost:8080/"
        },
        "id": "dMGM7UbKTEDg",
        "outputId": "e2ef2d0e-07ec-4923-b781-30d59b8c89d0"
      },
      "source": [
        "add_value(15)"
      ],
      "execution_count": 36,
      "outputs": [
        {
          "output_type": "execute_result",
          "data": {
            "text/plain": [
              "[5, 10, 15]"
            ]
          },
          "metadata": {
            "tags": []
          },
          "execution_count": 36
        }
      ]
    },
    {
      "cell_type": "code",
      "metadata": {
        "id": "9TQ75CmvTEy8"
      },
      "source": [
        "def add_value(value, seq=None):\n",
        "    if not seq:\n",
        "        seq = []\n",
        "    seq.append(value)\n",
        "    return seq"
      ],
      "execution_count": 37,
      "outputs": []
    },
    {
      "cell_type": "markdown",
      "metadata": {
        "id": "HL0NYN4oTMjv"
      },
      "source": [
        "# Properties vs Getters and Setters"
      ]
    },
    {
      "cell_type": "code",
      "metadata": {
        "colab": {
          "base_uri": "https://localhost:8080/",
          "height": 37
        },
        "id": "HaO7-pA9TLce",
        "outputId": "12380583-d39d-4bf0-fc5d-c6917c156c3e"
      },
      "source": [
        "class Person:\n",
        "    def get_name(self):\n",
        "        return self.__name\n",
        "    def set_name(self, name):\n",
        "        self.__name = name\n",
        "\n",
        "person = Person()\n",
        "person.set_name('Branden')\n",
        "person.get_name()"
      ],
      "execution_count": 38,
      "outputs": [
        {
          "output_type": "execute_result",
          "data": {
            "application/vnd.google.colaboratory.intrinsic+json": {
              "type": "string"
            },
            "text/plain": [
              "'Branden'"
            ]
          },
          "metadata": {
            "tags": []
          },
          "execution_count": 38
        }
      ]
    },
    {
      "cell_type": "code",
      "metadata": {
        "colab": {
          "base_uri": "https://localhost:8080/",
          "height": 37
        },
        "id": "UoK2057STYmp",
        "outputId": "2b0847bc-1bc1-4121-987b-8ae457c165d2"
      },
      "source": [
        "class Person:\n",
        "    @property\n",
        "    def name(self):\n",
        "        return self.__name\n",
        "    @name.setter\n",
        "    def name(self, value):\n",
        "        self.__name = value\n",
        "\n",
        "person = Person()\n",
        "person.name = 'Branden'\n",
        "person.name"
      ],
      "execution_count": 40,
      "outputs": [
        {
          "output_type": "execute_result",
          "data": {
            "application/vnd.google.colaboratory.intrinsic+json": {
              "type": "string"
            },
            "text/plain": [
              "'Branden'"
            ]
          },
          "metadata": {
            "tags": []
          },
          "execution_count": 40
        }
      ]
    },
    {
      "cell_type": "markdown",
      "metadata": {
        "id": "hnbOOuTLT0Xw"
      },
      "source": [
        "# Protected and Private attributes"
      ]
    },
    {
      "cell_type": "code",
      "metadata": {
        "id": "ELEAny5kTkIN"
      },
      "source": [
        "class Test:\n",
        "    def __init__(self, *args):\n",
        "        self.x, self._y, self.__z = args\n",
        "\n",
        "test = Test(1,2,3)"
      ],
      "execution_count": 41,
      "outputs": []
    },
    {
      "cell_type": "code",
      "metadata": {
        "colab": {
          "base_uri": "https://localhost:8080/"
        },
        "id": "K_fKzl3ZT_TE",
        "outputId": "f43c1af3-d7c2-428e-b761-980f3048adb5"
      },
      "source": [
        "test.x"
      ],
      "execution_count": 42,
      "outputs": [
        {
          "output_type": "execute_result",
          "data": {
            "text/plain": [
              "1"
            ]
          },
          "metadata": {
            "tags": []
          },
          "execution_count": 42
        }
      ]
    },
    {
      "cell_type": "code",
      "metadata": {
        "colab": {
          "base_uri": "https://localhost:8080/"
        },
        "id": "xRLbIok8T_4x",
        "outputId": "98ea1ebf-d246-4b45-e24d-1be65bcae58b"
      },
      "source": [
        "test._y"
      ],
      "execution_count": 43,
      "outputs": [
        {
          "output_type": "execute_result",
          "data": {
            "text/plain": [
              "2"
            ]
          },
          "metadata": {
            "tags": []
          },
          "execution_count": 43
        }
      ]
    },
    {
      "cell_type": "code",
      "metadata": {
        "colab": {
          "base_uri": "https://localhost:8080/",
          "height": 198
        },
        "id": "2931rZJVUAoc",
        "outputId": "70446f82-0456-4a0a-ae28-16cc73ae3ca8"
      },
      "source": [
        "test.__z"
      ],
      "execution_count": 44,
      "outputs": [
        {
          "output_type": "error",
          "ename": "AttributeError",
          "evalue": "ignored",
          "traceback": [
            "\u001b[0;31m---------------------------------------------------------------------------\u001b[0m",
            "\u001b[0;31mAttributeError\u001b[0m                            Traceback (most recent call last)",
            "\u001b[0;32m<ipython-input-44-ae374415690a>\u001b[0m in \u001b[0;36m<module>\u001b[0;34m()\u001b[0m\n\u001b[0;32m----> 1\u001b[0;31m \u001b[0mtest\u001b[0m\u001b[0;34m.\u001b[0m\u001b[0m__z\u001b[0m\u001b[0;34m\u001b[0m\u001b[0;34m\u001b[0m\u001b[0m\n\u001b[0m",
            "\u001b[0;31mAttributeError\u001b[0m: 'Test' object has no attribute '__z'"
          ]
        }
      ]
    },
    {
      "cell_type": "code",
      "metadata": {
        "colab": {
          "base_uri": "https://localhost:8080/"
        },
        "id": "VNLZb08VUCkO",
        "outputId": "a2c99a0b-86c2-449f-e456-f9f2c18e1702"
      },
      "source": [
        "test._Test__z"
      ],
      "execution_count": 45,
      "outputs": [
        {
          "output_type": "execute_result",
          "data": {
            "text/plain": [
              "3"
            ]
          },
          "metadata": {
            "tags": []
          },
          "execution_count": 45
        }
      ]
    },
    {
      "cell_type": "markdown",
      "metadata": {
        "id": "HV3W1mP-UNG2"
      },
      "source": [
        "# Use Context Managers to Handle Resources"
      ]
    },
    {
      "cell_type": "code",
      "metadata": {
        "id": "6MP07BuwUH8T"
      },
      "source": [
        "my_file = open('filename.txt', 'w')\n",
        "# read my_file or do something with it\n",
        "my_file.close()"
      ],
      "execution_count": 46,
      "outputs": []
    },
    {
      "cell_type": "code",
      "metadata": {
        "id": "Hf2kCu3AURbE"
      },
      "source": [
        "with open('filename.txt', 'w') as my_file:\n",
        "     # do something with `my_file`"
      ],
      "execution_count": 47,
      "outputs": []
    }
  ]
}