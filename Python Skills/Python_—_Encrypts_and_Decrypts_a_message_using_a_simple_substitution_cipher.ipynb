{
  "nbformat": 4,
  "nbformat_minor": 0,
  "metadata": {
    "colab": {
      "provenance": [],
      "authorship_tag": "ABX9TyPIm2849tABAJZjJzpHghj/"
    },
    "kernelspec": {
      "name": "python3",
      "display_name": "Python 3"
    },
    "language_info": {
      "name": "python"
    }
  },
  "cells": [
    {
      "cell_type": "markdown",
      "source": [
        "[Reference](https://web3usecase.co/python-encrypts-and-decrypts-a-message-using-a-simple-substitution-cipher-d71ee09ddf31)"
      ],
      "metadata": {
        "id": "Rq7t0eoxMcL_"
      }
    },
    {
      "cell_type": "code",
      "execution_count": 1,
      "metadata": {
        "id": "dxvvhQqdMaol"
      },
      "outputs": [],
      "source": [
        "# Define the substitution dictionary\n",
        "substitution_dict = {\n",
        "    'a': 'q',\n",
        "    'b': 'w',\n",
        "    'c': 'e',\n",
        "    'd': 'r',\n",
        "    'e': 't',\n",
        "    'f': 'y',\n",
        "    'g': 'u',\n",
        "    'h': 'i',\n",
        "    'i': 'o',\n",
        "    'j': 'p',\n",
        "    'k': 'a',\n",
        "    'l': 's',\n",
        "    'm': 'd',\n",
        "    'n': 'f',\n",
        "    'o': 'g',\n",
        "    'p': 'h',\n",
        "    'q': 'j',\n",
        "    'r': 'k',\n",
        "    's': 'l',\n",
        "    't': 'z',\n",
        "    'u': 'x',\n",
        "    'v': 'c',\n",
        "    'w': 'v',\n",
        "    'x': 'b',\n",
        "    'y': 'n',\n",
        "    'z': 'm'\n",
        "}\n",
        "\n",
        "# Function to encrypt the message\n",
        "def encrypt_message(message):\n",
        "    encrypted_message = \"\"\n",
        "    for letter in message.lower():\n",
        "        if letter in substitution_dict:\n",
        "            encrypted_message += substitution_dict[letter]\n",
        "        else:\n",
        "            encrypted_message += letter\n",
        "    return encrypted_message\n",
        "\n",
        "# Function to decrypt the message\n",
        "def decrypt_message(encrypted_message):\n",
        "    decrypted_message = \"\"\n",
        "    for letter in encrypted_message.lower():\n",
        "        if letter in substitution_dict.values():\n",
        "            for key in substitution_dict:\n",
        "                if substitution_dict[key] == letter:\n",
        "                    decrypted_message += key\n",
        "        else:\n",
        "            decrypted_message += letter\n",
        "    return decrypted_message"
      ]
    },
    {
      "cell_type": "code",
      "source": [
        "# Encrypt the message\n",
        "encrypted_message = encrypt_message(\"hello, world!\")\n",
        "print(\"Encrypted Message: \", encrypted_message)\n",
        "\n",
        "# Decrypt the message\n",
        "decrypted_message = decrypt_message(encrypted_message)\n",
        "print(\"Decrypted Message: \", decrypted_message)"
      ],
      "metadata": {
        "colab": {
          "base_uri": "https://localhost:8080/"
        },
        "id": "Nz43nQ9BMlDH",
        "outputId": "23b11f38-0adf-42d4-965a-510f34ad3f81"
      },
      "execution_count": 2,
      "outputs": [
        {
          "output_type": "stream",
          "name": "stdout",
          "text": [
            "Encrypted Message:  itssg, vgksr!\n",
            "Decrypted Message:  hello, world!\n"
          ]
        }
      ]
    }
  ]
}
