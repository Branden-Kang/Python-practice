{
  "nbformat": 4,
  "nbformat_minor": 0,
  "metadata": {
    "colab": {
      "provenance": [],
      "authorship_tag": "ABX9TyP9fRD8mzCgRVJ7RZVyn9UM"
    },
    "kernelspec": {
      "name": "python3",
      "display_name": "Python 3"
    },
    "language_info": {
      "name": "python"
    }
  },
  "cells": [
    {
      "cell_type": "markdown",
      "source": [
        "[Reference](https://medium.com/geekculture/10-python-code-snippets-that-are-solutions-to-seemingly-simple-but-often-not-straightforward-data-5a765e3de3eb)"
      ],
      "metadata": {
        "id": "Gdc0ZQqr1iol"
      }
    },
    {
      "cell_type": "markdown",
      "source": [
        "# 1. Convert all string to snakecase style"
      ],
      "metadata": {
        "id": "XASSHp_y1ogX"
      }
    },
    {
      "cell_type": "code",
      "execution_count": 2,
      "metadata": {
        "colab": {
          "base_uri": "https://localhost:8080/",
          "height": 35
        },
        "id": "rrgptpr-1J8l",
        "outputId": "d50b1bb0-5ed6-40a3-8896-33e8911b4e56"
      },
      "outputs": [
        {
          "output_type": "execute_result",
          "data": {
            "text/plain": [
              "'some_text'"
            ],
            "application/vnd.google.colaboratory.intrinsic+json": {
              "type": "string"
            }
          },
          "metadata": {},
          "execution_count": 2
        }
      ],
      "source": [
        "from re import sub\n",
        "\n",
        "def snake(s):\n",
        "  return '_'.join(\n",
        "      sub('([A-Z][a-z]+)', r' \\1',\n",
        "      sub('([A-Z]+)', r' \\1',\n",
        "      s.replace('-', ' '))).split()).lower()\n",
        "      \n",
        "## Examples\n",
        "snake('certainWords')\n",
        "snake('some text') "
      ]
    },
    {
      "cell_type": "markdown",
      "source": [
        "# 2. Check if “all” the elements in a list satisfies some condition"
      ],
      "metadata": {
        "id": "N4X8vXSV1tHa"
      }
    },
    {
      "cell_type": "code",
      "source": [
        "def every(lst, f = lambda x: x):\n",
        "    return all(map(f, lst))## Examples\n",
        "every([4, 2, 3], lambda x: x > 1)"
      ],
      "metadata": {
        "colab": {
          "base_uri": "https://localhost:8080/"
        },
        "id": "QmfDmxnG1sD3",
        "outputId": "c3c49462-1cd0-440f-e7ed-d81ae2acd47a"
      },
      "execution_count": 3,
      "outputs": [
        {
          "output_type": "execute_result",
          "data": {
            "text/plain": [
              "True"
            ]
          },
          "metadata": {},
          "execution_count": 3
        }
      ]
    },
    {
      "cell_type": "code",
      "source": [
        "every([1, 2, 3])"
      ],
      "metadata": {
        "colab": {
          "base_uri": "https://localhost:8080/"
        },
        "id": "WDXszDfj1wUl",
        "outputId": "0ecdf4be-e119-40cf-d682-ff093eaa7b54"
      },
      "execution_count": 4,
      "outputs": [
        {
          "output_type": "execute_result",
          "data": {
            "text/plain": [
              "True"
            ]
          },
          "metadata": {},
          "execution_count": 4
        }
      ]
    },
    {
      "cell_type": "markdown",
      "source": [
        "# 3. Grab all values of a certain key in every dictionary that exists within a list"
      ],
      "metadata": {
        "id": "3q4ENnSH1xwW"
      }
    },
    {
      "cell_type": "code",
      "source": [
        "def extract(lst, key):\n",
        "    return [x.get(key) for x in lst]\n",
        "    \n",
        "# Example\n",
        "## Say we want to extract all the age values of a family. The family members' information are stored in a list comprised of dictionary elements that correspond to each member.\n",
        "\n",
        "family = [ { 'name': 'amanda', 'age': 12}, { 'name': 'george', 'age': 23}, { 'name': 'jack', 'age': 54}, { 'name': 'amy', 'age': 52}]\n",
        "# Example\n",
        "extract(family, 'age')"
      ],
      "metadata": {
        "colab": {
          "base_uri": "https://localhost:8080/"
        },
        "id": "m7NiZ7jy1wvt",
        "outputId": "e7ce1763-62ea-4dc0-ae89-da66196573bf"
      },
      "execution_count": 5,
      "outputs": [
        {
          "output_type": "execute_result",
          "data": {
            "text/plain": [
              "[12, 23, 54, 52]"
            ]
          },
          "metadata": {},
          "execution_count": 5
        }
      ]
    },
    {
      "cell_type": "markdown",
      "source": [
        "# 4. Map list to dictionary using list elements as dict keys and mapped values as dict values"
      ],
      "metadata": {
        "id": "jn9F-CbU18AJ"
      }
    },
    {
      "cell_type": "code",
      "source": [
        "def map_dictionary(itr, fn):\n",
        "    return dict(zip(itr, map(fn, itr)))\n",
        "    \n",
        "# Example\n",
        "map_dictionary([1, 2, 3], lambda x: x * 5)"
      ],
      "metadata": {
        "colab": {
          "base_uri": "https://localhost:8080/"
        },
        "id": "mHsqGS3k13_D",
        "outputId": "e99d693a-5b5d-420d-f45c-76d00a794f49"
      },
      "execution_count": 6,
      "outputs": [
        {
          "output_type": "execute_result",
          "data": {
            "text/plain": [
              "{1: 5, 2: 10, 3: 15}"
            ]
          },
          "metadata": {},
          "execution_count": 6
        }
      ]
    },
    {
      "cell_type": "markdown",
      "source": [
        "# 5. Group different elements in a list based on some condition and make it into a dictionary"
      ],
      "metadata": {
        "id": "kCs4Rf7r2CqX"
      }
    },
    {
      "cell_type": "code",
      "source": [
        "from collections import defaultdict\n",
        "\n",
        "def group_by(lst, fn):\n",
        "    d = defaultdict(list)\n",
        "    for el in lst:\n",
        "        d[fn(el)].append(el)\n",
        "    return dict(d)\n",
        "    \n",
        "# Example\n",
        "from math import floor\n",
        "group_by([3.0, 3.1, 3.2, 3.3, 4.9], floor)"
      ],
      "metadata": {
        "colab": {
          "base_uri": "https://localhost:8080/"
        },
        "id": "FT2vE0Ya1-Yt",
        "outputId": "8a5367be-99ae-4df1-bf92-0055a904f229"
      },
      "execution_count": 8,
      "outputs": [
        {
          "output_type": "execute_result",
          "data": {
            "text/plain": [
              "{3: [3.0, 3.1, 3.2, 3.3], 4: [4.9]}"
            ]
          },
          "metadata": {},
          "execution_count": 8
        }
      ]
    },
    {
      "cell_type": "markdown",
      "source": [
        "# 6. Filter non-unique values from a list"
      ],
      "metadata": {
        "id": "OWyqRXRD2Je7"
      }
    },
    {
      "cell_type": "code",
      "source": [
        "from collections import Counter\n",
        "\n",
        "def filter_non_unique(lst):\n",
        " return [item for item, count in Counter(lst).items() if count == 1]\n",
        " \n",
        "# Example\n",
        "filter_non_unique([1, 2, 2, 3, 4, 4, 5]) "
      ],
      "metadata": {
        "colab": {
          "base_uri": "https://localhost:8080/"
        },
        "id": "WpbhJN7p2G4m",
        "outputId": "b98e3862-b5fb-41f2-abb7-f9ab2a6278c0"
      },
      "execution_count": 10,
      "outputs": [
        {
          "output_type": "execute_result",
          "data": {
            "text/plain": [
              "[1, 3, 5]"
            ]
          },
          "metadata": {},
          "execution_count": 10
        }
      ]
    },
    {
      "cell_type": "markdown",
      "source": [
        "# 7. filter unique values"
      ],
      "metadata": {
        "id": "OhJ5IR4z2QEM"
      }
    },
    {
      "cell_type": "code",
      "source": [
        "from collections import Counter\n",
        "\n",
        "def filter_unique(lst):\n",
        "  return [item for item, count in Counter(lst).items() if count > 1]\n",
        "  \n",
        "# Example\n",
        "filter_unique([1, 2, 2, 3, 4, 4, 5]) "
      ],
      "metadata": {
        "colab": {
          "base_uri": "https://localhost:8080/"
        },
        "id": "bEWwCamZ2NFW",
        "outputId": "0e57a0ff-4c14-4059-de94-67367129ade9"
      },
      "execution_count": 11,
      "outputs": [
        {
          "output_type": "execute_result",
          "data": {
            "text/plain": [
              "[2, 4]"
            ]
          },
          "metadata": {},
          "execution_count": 11
        }
      ]
    },
    {
      "cell_type": "markdown",
      "source": [
        "# 8. Bifurcate List based on some condition"
      ],
      "metadata": {
        "id": "kdmPEGwH2TtW"
      }
    },
    {
      "cell_type": "code",
      "source": [
        "def bifurcate_by(lst, fn):\n",
        "    return [\n",
        "        [x for x in lst if fn(x)],        \n",
        "        [x for x in lst if not fn(x)]\n",
        "    ]\n",
        "# Example\n",
        "bifurcate_by(['beep', 'boop', 'foo', 'bar'], lambda x: x[0] == 'b')"
      ],
      "metadata": {
        "colab": {
          "base_uri": "https://localhost:8080/"
        },
        "id": "jN9wlSZ52Stv",
        "outputId": "bcb40869-77ab-4179-b878-6361c507b331"
      },
      "execution_count": 12,
      "outputs": [
        {
          "output_type": "execute_result",
          "data": {
            "text/plain": [
              "[['beep', 'boop', 'bar'], ['foo']]"
            ]
          },
          "metadata": {},
          "execution_count": 12
        }
      ]
    },
    {
      "cell_type": "markdown",
      "source": [
        "# 9. Sort List using another list as indexes"
      ],
      "metadata": {
        "id": "OP9vqExF2b19"
      }
    },
    {
      "cell_type": "code",
      "source": [
        "def sort_by_indexes(lst, indexes, reverse=False):\n",
        "    return [val for (_, val) in sorted(zip(indexes, lst),\\\n",
        "             key=lambda x: x[0], reverse=reverse)]\n",
        "             \n",
        "# Example\n",
        "x = ['Alphabet', 'Microsoft', 'Berkshire Hathaway', 'Amazon', 'Apple', 'Tesla']\n",
        "y = [3, 2, 6, 4, 1, 5]\n",
        "             \n",
        "sort_by_indexes(x, y)"
      ],
      "metadata": {
        "colab": {
          "base_uri": "https://localhost:8080/"
        },
        "id": "XcLcM_DI2bJD",
        "outputId": "ea1127bd-425a-4e81-8ec8-914bd8d972f2"
      },
      "execution_count": 13,
      "outputs": [
        {
          "output_type": "execute_result",
          "data": {
            "text/plain": [
              "['Apple', 'Microsoft', 'Alphabet', 'Amazon', 'Tesla', 'Berkshire Hathaway']"
            ]
          },
          "metadata": {},
          "execution_count": 13
        }
      ]
    },
    {
      "cell_type": "markdown",
      "source": [
        "# 10. Combine Dictionary Values for matching keys"
      ],
      "metadata": {
        "id": "gEDHDVb-2kzS"
      }
    },
    {
      "cell_type": "code",
      "source": [
        "from collections import defaultdict\n",
        "\n",
        "def combine_values(*dicts):\n",
        "    res = defaultdict(list)\n",
        "    for d in dicts:\n",
        "        for key in d:\n",
        "            res[key].append(d[key])\n",
        "    return dict(res)\n",
        "    \n",
        "# Example\n",
        "\n",
        "dict1 = {'a': 1, 'b': 100, 'c': 400}\n",
        "dict2 = {'a': 3, 'b': 200, 'd': 400}\n",
        "    \n",
        "combine_values(dict1, dict2) "
      ],
      "metadata": {
        "colab": {
          "base_uri": "https://localhost:8080/"
        },
        "id": "pem-vLN_2jwZ",
        "outputId": "e0511843-50cb-499f-93b9-6c68fbb817f8"
      },
      "execution_count": 14,
      "outputs": [
        {
          "output_type": "execute_result",
          "data": {
            "text/plain": [
              "{'a': [1, 3], 'b': [100, 200], 'c': [400], 'd': [400]}"
            ]
          },
          "metadata": {},
          "execution_count": 14
        }
      ]
    }
  ]
}
