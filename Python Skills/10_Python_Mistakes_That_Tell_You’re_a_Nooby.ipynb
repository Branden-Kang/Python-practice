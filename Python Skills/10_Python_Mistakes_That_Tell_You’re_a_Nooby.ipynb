{
  "nbformat": 4,
  "nbformat_minor": 0,
  "metadata": {
    "colab": {
      "name": "10 Python Mistakes That Tell You’re a Nooby.ipynb",
      "provenance": [],
      "authorship_tag": "ABX9TyOyQ5AuQZe7BMYIOHn3GAq8"
    },
    "kernelspec": {
      "name": "python3",
      "display_name": "Python 3"
    },
    "language_info": {
      "name": "python"
    }
  },
  "cells": [
    {
      "cell_type": "markdown",
      "source": [
        "[Reference](https://medium.com/geekculture/10-python-mistakes-that-tell-youre-a-nooby-359487f22c97)"
      ],
      "metadata": {
        "id": "pLd1K5mII03_"
      }
    },
    {
      "cell_type": "markdown",
      "source": [
        "# 1. Using import *"
      ],
      "metadata": {
        "id": "HFHRXozTI-CT"
      }
    },
    {
      "cell_type": "code",
      "execution_count": 1,
      "metadata": {
        "colab": {
          "base_uri": "https://localhost:8080/"
        },
        "id": "csuIl5yG6_GE",
        "outputId": "3aacab0d-bb8e-44a0-ef3c-0aa5bc1df620"
      },
      "outputs": [
        {
          "output_type": "stream",
          "name": "stdout",
          "text": [
            "2\n",
            "3\n",
            "3.141592653589793\n",
            "2\n",
            "3\n",
            "3.141592653589793\n"
          ]
        }
      ],
      "source": [
        "# Using import *\n",
        "\n",
        "# Bad\n",
        "from math import *\n",
        "\n",
        "print(floor(2.4))\n",
        "print(ceil(2.4))\n",
        "print(pi)\n",
        "\n",
        "# Good\n",
        "import math\n",
        "from math import pi\n",
        "\n",
        "print(math.floor(2.4))\n",
        "print(math.ceil(2.4))\n",
        "print(pi)"
      ]
    },
    {
      "cell_type": "markdown",
      "source": [
        "# 2. Try/Except: Not specifying the exception in the “except” clause"
      ],
      "metadata": {
        "id": "dnbKIQ1EJEV2"
      }
    },
    {
      "cell_type": "code",
      "source": [
        "# Try - except\n",
        "# Bad\n",
        "try:\n",
        "    driver.find_element(...)\n",
        "except:\n",
        "    print(\"Which exception?\")\n",
        "\n",
        "# Good\n",
        "try:\n",
        "    driver.find_element(...)\n",
        "except NoSuchElementException:\n",
        "    print(\"It's giving NoSuchElementException\")\n",
        "except ElementClickInterceptedException:\n",
        "    print(\"It's giving ElementClickInterceptedException\")"
      ],
      "metadata": {
        "id": "Ed6TFtMWJDYV"
      },
      "execution_count": 3,
      "outputs": []
    },
    {
      "cell_type": "markdown",
      "source": [
        "# 3. Not using Numpy for math computations"
      ],
      "metadata": {
        "id": "LleG-4dMJN46"
      }
    },
    {
      "cell_type": "code",
      "source": [
        "import numpy as np\n",
        "\n",
        "random_scores = np.random.randint(1, 100, size=10000001)\n",
        "\n",
        "# Bad (solving problem with a for loop)\n",
        "count_failed = 0\n",
        "sum_failed = 0\n",
        "for score in random_scores:\n",
        "    if score < 70:\n",
        "        sum_failed += score\n",
        "        count_failed += 1\n",
        "\n",
        "print(sum_failed/count_failed)"
      ],
      "metadata": {
        "colab": {
          "base_uri": "https://localhost:8080/"
        },
        "id": "8-OP6BjBJF0F",
        "outputId": "ff1a4b16-5d19-4111-98e5-3c77699e2543"
      },
      "execution_count": 4,
      "outputs": [
        {
          "output_type": "stream",
          "name": "stdout",
          "text": [
            "34.997680174323456\n"
          ]
        }
      ]
    },
    {
      "cell_type": "code",
      "source": [
        "# Good (solving problem using vector operations)\n",
        "mean_failed = (random_scores[random_scores < 70]).mean()\n",
        "print(mean_failed)"
      ],
      "metadata": {
        "colab": {
          "base_uri": "https://localhost:8080/"
        },
        "id": "eicENlK2JR6y",
        "outputId": "8bebd0eb-893b-4980-fca6-383f244eeaa7"
      },
      "execution_count": 5,
      "outputs": [
        {
          "output_type": "stream",
          "name": "stdout",
          "text": [
            "34.997680174323456\n"
          ]
        }
      ]
    },
    {
      "cell_type": "markdown",
      "source": [
        "# 4. Not closing a file previously opened"
      ],
      "metadata": {
        "id": "NowJ6YEEK0kv"
      }
    },
    {
      "cell_type": "code",
      "source": [
        "# Bad\n",
        "f = open('dataset.txt', 'w')\n",
        "f.write('new_data')\n",
        "f.close()\n",
        "\n",
        "# Good\n",
        "with open('dataset.txt', 'w') as f:\n",
        "    f.write('new_data')"
      ],
      "metadata": {
        "id": "biW2KUOmJTRz"
      },
      "execution_count": 6,
      "outputs": []
    },
    {
      "cell_type": "markdown",
      "source": [
        "# 5. Not following PEP8"
      ],
      "metadata": {
        "id": "MgIsj_ejK39H"
      }
    },
    {
      "cell_type": "code",
      "source": [
        "# Good\n",
        "my_list = [1, 2, 3, 4, 5]\n",
        "my_dict = {'key1': 'value1', 'key2': 'value2'}\n",
        "\n",
        "my_name = \"Frank\""
      ],
      "metadata": {
        "id": "RS66bYWoK26J"
      },
      "execution_count": 7,
      "outputs": []
    },
    {
      "cell_type": "markdown",
      "source": [
        "# 6. Not using .keys and .values methods properly when working with dictionaries"
      ],
      "metadata": {
        "id": "Qt_4r6TjLBrB"
      }
    },
    {
      "cell_type": "code",
      "source": [
        "dict_countries = {'USA': 329.5, 'UK': 67.2, 'Canada': 38}\n",
        "dict_countries.keys()"
      ],
      "metadata": {
        "colab": {
          "base_uri": "https://localhost:8080/"
        },
        "id": "PH7nzEPNK8SZ",
        "outputId": "999d1e73-9132-4353-e676-b3b156c0a13c"
      },
      "execution_count": 10,
      "outputs": [
        {
          "output_type": "execute_result",
          "data": {
            "text/plain": [
              "dict_keys(['USA', 'UK', 'Canada'])"
            ]
          },
          "metadata": {},
          "execution_count": 10
        }
      ]
    },
    {
      "cell_type": "code",
      "source": [
        "dict_countries.values()"
      ],
      "metadata": {
        "colab": {
          "base_uri": "https://localhost:8080/"
        },
        "id": "QfPOHMi5LHCu",
        "outputId": "d165c530-bd45-4588-9921-c13edfd4133b"
      },
      "execution_count": 11,
      "outputs": [
        {
          "output_type": "execute_result",
          "data": {
            "text/plain": [
              "dict_values([329.5, 67.2, 38])"
            ]
          },
          "metadata": {},
          "execution_count": 11
        }
      ]
    },
    {
      "cell_type": "code",
      "source": [
        "# Not using .keys() properly\n",
        "# Bad\n",
        "for key in dict_countries.keys():\n",
        "    print(key)\n",
        "    \n",
        "# Good\n",
        "for key in dict_countries:\n",
        "    print(key)"
      ],
      "metadata": {
        "colab": {
          "base_uri": "https://localhost:8080/"
        },
        "id": "EIpR2RYpLHKt",
        "outputId": "ff836ba8-8666-4d67-d6a4-e806492cac0e"
      },
      "execution_count": 12,
      "outputs": [
        {
          "output_type": "stream",
          "name": "stdout",
          "text": [
            "USA\n",
            "UK\n",
            "Canada\n",
            "USA\n",
            "UK\n",
            "Canada\n"
          ]
        }
      ]
    },
    {
      "cell_type": "code",
      "source": [
        "# Not using .items()\n",
        "# Bad\n",
        "for key in dict_countries:\n",
        "    print(dict_countries[key])\n",
        "    \n",
        "# Good\n",
        "for key, value in dict_countries.items():\n",
        "    print(key)\n",
        "    print(value)"
      ],
      "metadata": {
        "colab": {
          "base_uri": "https://localhost:8080/"
        },
        "id": "NAe3YraALL77",
        "outputId": "7392ec40-a550-4437-dd6e-788799827c76"
      },
      "execution_count": 13,
      "outputs": [
        {
          "output_type": "stream",
          "name": "stdout",
          "text": [
            "329.5\n",
            "67.2\n",
            "38\n",
            "USA\n",
            "329.5\n",
            "UK\n",
            "67.2\n",
            "Canada\n",
            "38\n"
          ]
        }
      ]
    },
    {
      "cell_type": "markdown",
      "source": [
        "# 7. Never using comprehensions (or using them all the time)"
      ],
      "metadata": {
        "id": "UadJg4DNLOCB"
      }
    },
    {
      "cell_type": "code",
      "source": [
        "# Bad\n",
        "countries = ['USA', 'UK', 'Canada']\n",
        "\n",
        "lower_case = []\n",
        "for country in countries:\n",
        "    lower_case.append(country.lower())\n",
        "\n",
        "# Good (but don't overuse it!)\n",
        "lower_case = [country.lower() for country in countries]"
      ],
      "metadata": {
        "id": "1U2qr8LoLNEi"
      },
      "execution_count": 14,
      "outputs": []
    },
    {
      "cell_type": "markdown",
      "source": [
        "# 8. Using range(len())"
      ],
      "metadata": {
        "id": "uSubNiigLQyj"
      }
    },
    {
      "cell_type": "code",
      "source": [
        "# Using range(len())\n",
        "countries = ['USA', 'UK', 'Canada']\n",
        "populations = [329.5, 67.2, 38]\n",
        "\n",
        "# Bad\n",
        "for i in range(len(countries)):\n",
        "    country = countries[i]\n",
        "    population = populations[i]\n",
        "    print(f'{country} has a population of {population} million people')"
      ],
      "metadata": {
        "colab": {
          "base_uri": "https://localhost:8080/"
        },
        "id": "ptvDV_6ELPg4",
        "outputId": "d8050b14-9e28-4efa-b315-593558dd6650"
      },
      "execution_count": 15,
      "outputs": [
        {
          "output_type": "stream",
          "name": "stdout",
          "text": [
            "USA has a population of 329.5 million people\n",
            "UK has a population of 67.2 million people\n",
            "Canada has a population of 38 million people\n"
          ]
        }
      ]
    },
    {
      "cell_type": "code",
      "source": [
        "# OK\n",
        "for i, country in enumerate(countries):\n",
        "    population = populations[i]\n",
        "    print(f'{country} has a population of {population} million people')\n",
        "\n",
        "# Much Better\n",
        "for country, population in zip(countries, populations):\n",
        "    print(f'{country} has a population of {population} million people')"
      ],
      "metadata": {
        "colab": {
          "base_uri": "https://localhost:8080/"
        },
        "id": "_qCZpOlyLSUw",
        "outputId": "5dbdaab4-459a-44c8-88b4-fbc7ad66405c"
      },
      "execution_count": 16,
      "outputs": [
        {
          "output_type": "stream",
          "name": "stdout",
          "text": [
            "USA has a population of 329.5 million people\n",
            "UK has a population of 67.2 million people\n",
            "Canada has a population of 38 million people\n",
            "USA has a population of 329.5 million people\n",
            "UK has a population of 67.2 million people\n",
            "Canada has a population of 38 million people\n"
          ]
        }
      ]
    },
    {
      "cell_type": "markdown",
      "source": [
        "# 9. Formatting with the + operator"
      ],
      "metadata": {
        "id": "yVgF7ThiLZHj"
      }
    },
    {
      "cell_type": "code",
      "source": [
        "# Formatting with + operator\n",
        "# Bad\n",
        "name = input(\"Introduce Name: \")\n",
        "print(\"Good Morning, \" + name + \"!\")\n",
        "\n",
        "# Good\n",
        "name = input(\"Introduce Name: \")\n",
        "print(f'Good Morning, {name}')"
      ],
      "metadata": {
        "colab": {
          "base_uri": "https://localhost:8080/"
        },
        "id": "qQUW-kEiLW1O",
        "outputId": "6fcf92da-6f04-4f68-942e-249c4b14e122"
      },
      "execution_count": 17,
      "outputs": [
        {
          "output_type": "stream",
          "name": "stdout",
          "text": [
            "Introduce Name: Branden\n",
            "Good Morning, Branden!\n",
            "Introduce Name: Branden\n",
            "Good Morning, Branden\n"
          ]
        }
      ]
    },
    {
      "cell_type": "markdown",
      "source": [
        "# 10. Using default mutable values"
      ],
      "metadata": {
        "id": "JqXolLfpLewv"
      }
    },
    {
      "cell_type": "code",
      "source": [
        "# Bad\n",
        "def my_function(i, my_list=[]):\n",
        "    my_list.append(i)\n",
        "    return my_list\n",
        "\n",
        "my_function(1)"
      ],
      "metadata": {
        "colab": {
          "base_uri": "https://localhost:8080/"
        },
        "id": "bzF-XAsiLb8X",
        "outputId": "1f12eeda-6398-435f-e73d-d7af212c2a57"
      },
      "execution_count": 18,
      "outputs": [
        {
          "output_type": "execute_result",
          "data": {
            "text/plain": [
              "[1]"
            ]
          },
          "metadata": {},
          "execution_count": 18
        }
      ]
    },
    {
      "cell_type": "code",
      "source": [
        "my_function(2)"
      ],
      "metadata": {
        "colab": {
          "base_uri": "https://localhost:8080/"
        },
        "id": "Pfy-6n7qLhbp",
        "outputId": "057bb0d5-4661-4950-93f1-eabbda21dcd2"
      },
      "execution_count": 19,
      "outputs": [
        {
          "output_type": "execute_result",
          "data": {
            "text/plain": [
              "[1, 2]"
            ]
          },
          "metadata": {},
          "execution_count": 19
        }
      ]
    },
    {
      "cell_type": "code",
      "source": [
        "my_function(3)"
      ],
      "metadata": {
        "colab": {
          "base_uri": "https://localhost:8080/"
        },
        "id": "-IXkdHNSLh1H",
        "outputId": "8617a123-31ca-4125-9a3b-824ba162c5bf"
      },
      "execution_count": 20,
      "outputs": [
        {
          "output_type": "execute_result",
          "data": {
            "text/plain": [
              "[1, 2, 3]"
            ]
          },
          "metadata": {},
          "execution_count": 20
        }
      ]
    },
    {
      "cell_type": "code",
      "source": [
        "# Good\n",
        "def my_function(i, my_list=None):\n",
        "    if my_list is None: \n",
        "        my_list = []\n",
        "    my_list.append(i)\n",
        "    return my_list\n",
        "\n",
        "my_function(1)"
      ],
      "metadata": {
        "colab": {
          "base_uri": "https://localhost:8080/"
        },
        "id": "6nd_qyuiLiTX",
        "outputId": "441a2c5c-723c-41f8-8d59-ec3f705412c5"
      },
      "execution_count": 21,
      "outputs": [
        {
          "output_type": "execute_result",
          "data": {
            "text/plain": [
              "[1]"
            ]
          },
          "metadata": {},
          "execution_count": 21
        }
      ]
    },
    {
      "cell_type": "code",
      "source": [
        "my_function(2)"
      ],
      "metadata": {
        "id": "kBKRETfoLkqv",
        "outputId": "49fa59ea-a383-4d66-db10-49b5cf705d9c",
        "colab": {
          "base_uri": "https://localhost:8080/"
        }
      },
      "execution_count": 22,
      "outputs": [
        {
          "output_type": "execute_result",
          "data": {
            "text/plain": [
              "[2]"
            ]
          },
          "metadata": {},
          "execution_count": 22
        }
      ]
    },
    {
      "cell_type": "code",
      "source": [
        "my_function(3)"
      ],
      "metadata": {
        "id": "4FpKk8-rLlEh",
        "outputId": "591496c6-14d8-4257-b6fd-cc7485d85b7e",
        "colab": {
          "base_uri": "https://localhost:8080/"
        }
      },
      "execution_count": 23,
      "outputs": [
        {
          "output_type": "execute_result",
          "data": {
            "text/plain": [
              "[3]"
            ]
          },
          "metadata": {},
          "execution_count": 23
        }
      ]
    }
  ]
}