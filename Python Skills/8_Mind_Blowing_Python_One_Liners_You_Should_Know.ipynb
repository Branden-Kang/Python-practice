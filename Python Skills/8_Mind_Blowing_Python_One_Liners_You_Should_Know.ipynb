{
  "nbformat": 4,
  "nbformat_minor": 0,
  "metadata": {
    "colab": {
      "provenance": [],
      "authorship_tag": "ABX9TyNFCTqk7U7+PZV/ciX54iec"
    },
    "kernelspec": {
      "name": "python3",
      "display_name": "Python 3"
    },
    "language_info": {
      "name": "python"
    }
  },
  "cells": [
    {
      "cell_type": "markdown",
      "source": [
        "[Reference](https://levelup.gitconnected.com/8-mind-blowing-python-one-liners-you-should-know-28287b66eb49)"
      ],
      "metadata": {
        "id": "klWV6dJ2Azve"
      }
    },
    {
      "cell_type": "markdown",
      "source": [
        "# 1. Swapping Two Variables"
      ],
      "metadata": {
        "id": "mf2tkKA6A26k"
      }
    },
    {
      "cell_type": "code",
      "execution_count": 1,
      "metadata": {
        "colab": {
          "base_uri": "https://localhost:8080/"
        },
        "id": "CoSiSqSYAw_0",
        "outputId": "1838a62e-8577-4dd1-8a75-21a412faca27"
      },
      "outputs": [
        {
          "output_type": "stream",
          "name": "stdout",
          "text": [
            "20 10\n"
          ]
        }
      ],
      "source": [
        "a = 10\n",
        "b = 20\n",
        "\n",
        "temp = a\n",
        "a = b\n",
        "b = temp\n",
        "\n",
        "print(a, b)"
      ]
    },
    {
      "cell_type": "code",
      "source": [
        "a = 10\n",
        "b = 20\n",
        "\n",
        "a, b = b, a\n",
        "\n",
        "print(a, b)"
      ],
      "metadata": {
        "colab": {
          "base_uri": "https://localhost:8080/"
        },
        "id": "ueqvM2EYA4ZE",
        "outputId": "d7f673f9-37ae-48ee-c71f-75da209b0d67"
      },
      "execution_count": 2,
      "outputs": [
        {
          "output_type": "stream",
          "name": "stdout",
          "text": [
            "20 10\n"
          ]
        }
      ]
    },
    {
      "cell_type": "markdown",
      "source": [
        "# 2. Multiple Variable Assignments"
      ],
      "metadata": {
        "id": "Tptb_IHBA6o7"
      }
    },
    {
      "cell_type": "code",
      "source": [
        "# More lines of code\n",
        "a = 1\n",
        "b = 2\n",
        "c = \"three\"\n",
        "d = 4.0\n",
        "\n",
        "\n",
        "# One-liner\n",
        "a, b, c, d = 1, 2, \"three\", 4.0"
      ],
      "metadata": {
        "id": "JmkSivL_A5Ur"
      },
      "execution_count": 3,
      "outputs": []
    },
    {
      "cell_type": "code",
      "source": [
        "first, *rest, last = [1, 2, 3, 4, 5]\n",
        "print(first)  # Output: 1\n",
        "print(rest)   # Output: [2, 3, 4]\n",
        "print(last)   # Output: 5"
      ],
      "metadata": {
        "colab": {
          "base_uri": "https://localhost:8080/"
        },
        "id": "S0_TbrcFA75D",
        "outputId": "ceda5d40-411b-4830-f30e-a3d341c8d43e"
      },
      "execution_count": 4,
      "outputs": [
        {
          "output_type": "stream",
          "name": "stdout",
          "text": [
            "1\n",
            "[2, 3, 4]\n",
            "5\n"
          ]
        }
      ]
    },
    {
      "cell_type": "markdown",
      "source": [
        "# 3. Comprehensions"
      ],
      "metadata": {
        "id": "GQsWF2BKA9qp"
      }
    },
    {
      "cell_type": "code",
      "source": [
        "# Extended with loop\n",
        "odd_numbers = []\n",
        "for i in range(11):\n",
        "    if i % 2 != 0:\n",
        "        odd_numbers.append(i)\n",
        "\n",
        "# One liner - List Comprehension\n",
        "odd_numbers = [i for i in range(11) if i % 2 != 0]"
      ],
      "metadata": {
        "id": "x4QsRMa4A887"
      },
      "execution_count": 5,
      "outputs": []
    },
    {
      "cell_type": "markdown",
      "source": [
        "# 4. Typecasting Whole List"
      ],
      "metadata": {
        "id": "mTEPaDaFBA1-"
      }
    },
    {
      "cell_type": "code",
      "source": [
        "my_list = ['1', '2', '3','4', '5']\n",
        "\n",
        "\n",
        "# for loop\n",
        "int_list = []\n",
        "for x in my_list:\n",
        "    int_list.append(int(x))\n",
        "\n",
        "# comprehension\n",
        "int_list = [int(x) for x in my_list]\n",
        "\n",
        "# map\n",
        "int_list = list(map(int, my_list))"
      ],
      "metadata": {
        "id": "uiV29XWSBACp"
      },
      "execution_count": 6,
      "outputs": []
    },
    {
      "cell_type": "code",
      "source": [
        "from timeit import timeit\n",
        "\n",
        "def use_loop(my_list: list) -> list:\n",
        "    my_int_list = []\n",
        "    for x in my_list:\n",
        "        my_int_list.append(int(x))\n",
        "    return my_int_list\n",
        "\n",
        "\n",
        "def use_comprehension(my_list: list) -> list:\n",
        "    return [int(x) for x in my_list]\n",
        "\n",
        "\n",
        "def use_map(my_list: list) -> list:\n",
        "    return list(map(int, my_list))\n",
        "\n",
        "input_list = ['1'] * 1_000_000\n",
        "\n",
        "time_loop = timeit(lambda: use_loop(input_list), number=20)\n",
        "print(f'{time_loop} seconds')  # Output: 7.9596731000056025 seconds\n",
        "\n",
        "time_comprehension = timeit(lambda: use_comprehension(input_list), number=20)\n",
        "print(f'{time_comprehension} seconds')  # Output: 6.988756900012959 seconds\n",
        "\n",
        "time_map = timeit(lambda: use_map(input_list), number=20)\n",
        "print(f'{time_map} seconds')  # Output: 4.487833500024863 seconds"
      ],
      "metadata": {
        "colab": {
          "base_uri": "https://localhost:8080/"
        },
        "id": "LrJlcm3ABCLg",
        "outputId": "89024060-1dad-417b-8849-4caff479f25a"
      },
      "execution_count": 7,
      "outputs": [
        {
          "output_type": "stream",
          "name": "stdout",
          "text": [
            "4.573282872000007 seconds\n",
            "2.862475965999991 seconds\n",
            "1.6946984110000045 seconds\n"
          ]
        }
      ]
    },
    {
      "cell_type": "markdown",
      "source": [
        "# 5. Lambda Function"
      ],
      "metadata": {
        "id": "raRdSHvrBG0R"
      }
    },
    {
      "cell_type": "code",
      "source": [
        "# Traditional function\n",
        "def add_numbers(x, y):\n",
        "    return x + y\n",
        "\n",
        "\n",
        "# Lambda function\n",
        "add_numbers_lambda = lambda x, y: x + y\n",
        "\n",
        "\n",
        "print(add_numbers(3, 5))  # Output: 8\n",
        "print(add_numbers_lambda(3, 5))  # Output: 8"
      ],
      "metadata": {
        "colab": {
          "base_uri": "https://localhost:8080/"
        },
        "id": "1Ke0Bes2BFdc",
        "outputId": "43ba6a01-a5b1-40c3-d274-b1bfcce83a28"
      },
      "execution_count": 8,
      "outputs": [
        {
          "output_type": "stream",
          "name": "stdout",
          "text": [
            "8\n",
            "8\n"
          ]
        }
      ]
    },
    {
      "cell_type": "markdown",
      "source": [
        "# 6. Print Without Newlines"
      ],
      "metadata": {
        "id": "7OAdfaHYBKAT"
      }
    },
    {
      "cell_type": "code",
      "source": [
        "print(*range(1,5), sep='\\n')"
      ],
      "metadata": {
        "colab": {
          "base_uri": "https://localhost:8080/"
        },
        "id": "9dxy2udRBIlv",
        "outputId": "d9f033d9-96c8-4139-9b33-5b27f6761076"
      },
      "execution_count": 9,
      "outputs": [
        {
          "output_type": "stream",
          "name": "stdout",
          "text": [
            "1\n",
            "2\n",
            "3\n",
            "4\n"
          ]
        }
      ]
    },
    {
      "cell_type": "markdown",
      "source": [
        "# 7. Swap Keys and Values in a Dictionary"
      ],
      "metadata": {
        "id": "IlivalgzBMPS"
      }
    },
    {
      "cell_type": "code",
      "source": [
        "my_dict = {'one': 1, 'two': 2, 'three': 3}\n",
        "swapped_dict = {}\n",
        "\n",
        "# Iterate over items and swap keys and values\n",
        "for k, v in my_dict.items():\n",
        "    swapped_dict[v] = k\n",
        "\n",
        "print(swapped_dict)  # Output: {1: 'one', 2: 'two', 3: 'three'}\n",
        "\n",
        "\n",
        "# Swap keys and values using dictionary comprehension\n",
        "swapped_dict = {v: k for k, v in my_dict.items()}\n",
        "print(swapped_dict)  # Output: {1: 'one', 2: 'two', 3: 'three'}"
      ],
      "metadata": {
        "colab": {
          "base_uri": "https://localhost:8080/"
        },
        "id": "ftPWQmB7BLEj",
        "outputId": "62e7518a-e270-409a-a076-20ea5d5cb002"
      },
      "execution_count": 10,
      "outputs": [
        {
          "output_type": "stream",
          "name": "stdout",
          "text": [
            "{1: 'one', 2: 'two', 3: 'three'}\n",
            "{1: 'one', 2: 'two', 3: 'three'}\n"
          ]
        }
      ]
    },
    {
      "cell_type": "markdown",
      "source": [
        "# 8. Transpose of a Matrix"
      ],
      "metadata": {
        "id": "k_Wamaw4BSzc"
      }
    },
    {
      "cell_type": "code",
      "source": [
        "matrix = [[1, 2, 3],\n",
        "          [4, 5, 6],\n",
        "          [7, 8, 9]]\n",
        "\n",
        "# Calculate the transpose of the matrix\n",
        "transpose = []\n",
        "for j in range(len(matrix[0])):\n",
        "    row = []\n",
        "    for i in range(len(matrix)):\n",
        "        row.append(matrix[i][j])\n",
        "    transpose.append(row)"
      ],
      "metadata": {
        "id": "iwDLVRiEBRY-"
      },
      "execution_count": 11,
      "outputs": []
    },
    {
      "cell_type": "code",
      "source": [
        "transpose = list(zip(*matrix))\n",
        "transpose "
      ],
      "metadata": {
        "colab": {
          "base_uri": "https://localhost:8080/"
        },
        "id": "HQ2KBpIYBUJU",
        "outputId": "4eafc21c-6f20-4c37-edc0-cce496b59b72"
      },
      "execution_count": 12,
      "outputs": [
        {
          "output_type": "execute_result",
          "data": {
            "text/plain": [
              "[(1, 4, 7), (2, 5, 8), (3, 6, 9)]"
            ]
          },
          "metadata": {},
          "execution_count": 12
        }
      ]
    }
  ]
}
