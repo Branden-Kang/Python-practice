{
  "nbformat": 4,
  "nbformat_minor": 0,
  "metadata": {
    "colab": {
      "name": "Making Python Programs Blazingly Fast.ipynb",
      "provenance": [],
      "authorship_tag": "ABX9TyOs6ktfNwQix0hl26HhK6Hh"
    },
    "kernelspec": {
      "name": "python3",
      "display_name": "Python 3"
    }
  },
  "cells": [
    {
      "cell_type": "markdown",
      "metadata": {
        "id": "IvlqvJap10Bl"
      },
      "source": [
        "[Reference](https://towardsdatascience.com/making-python-programs-blazingly-fast-c1cd79bd1b32)"
      ]
    },
    {
      "cell_type": "markdown",
      "metadata": {
        "id": "RfUOuFlk18YM"
      },
      "source": [
        "# Timing and Profiling"
      ]
    },
    {
      "cell_type": "code",
      "metadata": {
        "id": "34rPvgue1_4I",
        "outputId": "6db7f918-a15c-47a2-c008-13730aa0bc13",
        "colab": {
          "base_uri": "https://localhost:8080/",
          "height": 34
        }
      },
      "source": [
        "# slow_program.py\n",
        "from decimal import *\n",
        "\n",
        "def exp(x):\n",
        "    getcontext().prec += 2\n",
        "    i, lasts, s, fact, num = 0, 0, 1, 1, 1\n",
        "    while s != lasts:\n",
        "        lasts = s\n",
        "        i += 1\n",
        "        fact *= i\n",
        "        num *= x\n",
        "        s += num / fact\n",
        "    getcontext().prec -= 2\n",
        "    return +s\n",
        "\n",
        "exp(Decimal(150))\n",
        "exp(Decimal(400))\n",
        "exp(Decimal(3000))"
      ],
      "execution_count": null,
      "outputs": [
        {
          "output_type": "execute_result",
          "data": {
            "text/plain": [
              "Decimal('7.64620098905470488931072766050E+1302')"
            ]
          },
          "metadata": {
            "tags": []
          },
          "execution_count": 2
        }
      ]
    },
    {
      "cell_type": "markdown",
      "metadata": {
        "id": "l7DP1jMy6kBp"
      },
      "source": [
        "# Use Built-in Data Types"
      ]
    },
    {
      "cell_type": "markdown",
      "metadata": {
        "id": "0FU718w_2bRZ"
      },
      "source": [
        "# Caching/Memoization with lru_cache"
      ]
    },
    {
      "cell_type": "code",
      "metadata": {
        "id": "1tKE7j1N2aH2",
        "outputId": "d6eb809b-6924-4e99-f369-c35a1b0bef33",
        "colab": {
          "base_uri": "https://localhost:8080/",
          "height": 34
        }
      },
      "source": [
        "import functools\n",
        "import time\n",
        "\n",
        "# caching up to 12 different results\n",
        "@functools.lru_cache(maxsize=12)\n",
        "def slow_func(x):\n",
        "    time.sleep(2)  # Simulate long computation\n",
        "    return x\n",
        "\n",
        "slow_func(1)  # ... waiting for 2 sec before getting result\n",
        "slow_func(1)  # already cached - result returned instantaneously!\n",
        "\n",
        "slow_func(3)  # ... waiting for 2 sec before getting result"
      ],
      "execution_count": null,
      "outputs": [
        {
          "output_type": "execute_result",
          "data": {
            "text/plain": [
              "3"
            ]
          },
          "metadata": {
            "tags": []
          },
          "execution_count": 6
        }
      ]
    },
    {
      "cell_type": "markdown",
      "metadata": {
        "id": "ANM6D8b06mAk"
      },
      "source": [
        "# Use Local Variables"
      ]
    },
    {
      "cell_type": "markdown",
      "metadata": {
        "id": "prwQC2sZ6nY0"
      },
      "source": [
        "# Use Functions"
      ]
    },
    {
      "cell_type": "markdown",
      "metadata": {
        "id": "w_wtmOis6osO"
      },
      "source": [
        "# Don’t Access Attributes"
      ]
    },
    {
      "cell_type": "markdown",
      "metadata": {
        "id": "LRmDGb-B6ruW"
      },
      "source": [
        "# Beware of Strings\n",
        "Use f-string!"
      ]
    }
  ]
}