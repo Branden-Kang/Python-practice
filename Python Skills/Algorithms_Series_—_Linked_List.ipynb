{
  "nbformat": 4,
  "nbformat_minor": 0,
  "metadata": {
    "colab": {
      "provenance": [],
      "authorship_tag": "ABX9TyP7VkGkjpc3q0GFU9ojKSNf"
    },
    "kernelspec": {
      "name": "python3",
      "display_name": "Python 3"
    },
    "language_info": {
      "name": "python"
    }
  },
  "cells": [
    {
      "cell_type": "markdown",
      "source": [
        "[Reference](https://medium.com/codex/algorithms-series-linked-list-537ffe97388b)"
      ],
      "metadata": {
        "id": "fOsPFrUsDJxY"
      }
    },
    {
      "cell_type": "markdown",
      "source": [
        "# Implementing a Linked List"
      ],
      "metadata": {
        "id": "Ca_uWzN1DMtU"
      }
    },
    {
      "cell_type": "code",
      "execution_count": 1,
      "metadata": {
        "id": "huaz_ISPCc8X"
      },
      "outputs": [],
      "source": [
        "class Node:\n",
        "    def __init__(self, value, next = None) -> None:\n",
        "        self.value = value\n",
        "        self.next = next"
      ]
    },
    {
      "cell_type": "code",
      "source": [
        "class LinkedList:\n",
        "    def __init__(self, head: Node = None):\n",
        "        \"\"\"\n",
        "        # Consturctor #1 - Empty Linked List\n",
        "        \"\"\"\n",
        "        self.head = head\n",
        "\n",
        "    def __repr__(self):\n",
        "        \"\"\"\n",
        "        Print Linked List\n",
        "        \"\"\"\n",
        "        items = ''\n",
        "        current_node = self.head\n",
        "        while current_node != None:\n",
        "            items += str(current_node.value) + '-->'\n",
        "            current_node = current_node.next\n",
        "        return f\"LinkedList({items[:-3]})\""
      ],
      "metadata": {
        "id": "lO6jFZEmDN3g"
      },
      "execution_count": 4,
      "outputs": []
    },
    {
      "cell_type": "code",
      "source": [
        "# Creating a linked list\n",
        "head = Node(2)\n",
        "head.next = Node(1)\n",
        "head.next.next = Node(4)\n",
        "head.next.next.next = Node(3)\n",
        "head.next.next.next.next = Node(5)\n",
        "head.next.next.next.next.next = Node(6)\n",
        "\n",
        "linked_list = LinkedList(head)\n",
        "\n",
        "# print list\n",
        "print(linked_list)"
      ],
      "metadata": {
        "colab": {
          "base_uri": "https://localhost:8080/"
        },
        "id": "bhudnzr8DO2o",
        "outputId": "af97aa76-edf4-421e-992a-9ae59d35f178"
      },
      "execution_count": 5,
      "outputs": [
        {
          "output_type": "stream",
          "name": "stdout",
          "text": [
            "LinkedList(2-->1-->4-->3-->5-->6)\n"
          ]
        }
      ]
    },
    {
      "cell_type": "code",
      "source": [
        "class LinkedList:\n",
        "    def __init__(self, head: Node = None):\n",
        "        \"\"\"\n",
        "        # Consturctor #1 - Empty Linked List\n",
        "        \"\"\"\n",
        "        self.head = head\n",
        "\n",
        "    def __repr__(self):\n",
        "        \"\"\"\n",
        "        Print Linked List\n",
        "        \"\"\"\n",
        "        items = ''\n",
        "        current_node = self.head\n",
        "        while current_node != None:\n",
        "            items += str(current_node.value) + '-->'\n",
        "            current_node = current_node.next\n",
        "        return f\"LinkedList({items[:-3]})\"\n",
        "\n",
        "    @classmethod\n",
        "    def generate_list(cls, *args):\n",
        "        \"\"\"\n",
        "        Constructor #2 - Generate Linked List from list of values\n",
        "        \"\"\"\n",
        "        head = Node(args[0])\n",
        "        current_node = head\n",
        "        for value in args[1:]:\n",
        "            current_node.next = Node(value)\n",
        "            current_node = current_node.next\n",
        "\n",
        "        return cls(head = head)"
      ],
      "metadata": {
        "id": "Po4UMjn8DUSF"
      },
      "execution_count": 8,
      "outputs": []
    },
    {
      "cell_type": "code",
      "source": [
        "linked_list = LinkedList.generate_list(2,1,4,3,5,6)\n",
        "print(linked_list)"
      ],
      "metadata": {
        "colab": {
          "base_uri": "https://localhost:8080/"
        },
        "id": "NOYvnmlMDUox",
        "outputId": "d8554132-8479-474b-b134-0072e4332310"
      },
      "execution_count": 9,
      "outputs": [
        {
          "output_type": "stream",
          "name": "stdout",
          "text": [
            "LinkedList(2-->1-->4-->3-->5-->6)\n"
          ]
        }
      ]
    },
    {
      "cell_type": "code",
      "source": [
        "class Node:\n",
        "    def __init__(self, value, next = None) -> None:\n",
        "        self.value = value\n",
        "        self.next = next\n",
        "\n",
        "class LinkedList:\n",
        "    def __init__(self, head: Node = None):\n",
        "        \"\"\"\n",
        "        # Consturctor #1 - Empty Linked List\n",
        "        \"\"\"\n",
        "        self.head = head\n",
        "\n",
        "    @classmethod\n",
        "    def generate_list(cls, *args):\n",
        "        \"\"\"\n",
        "        Constructor #2 - Generate Linked List from list of values\n",
        "        \"\"\"\n",
        "        head = Node(args[0])\n",
        "        current_node = head\n",
        "        for value in args[1:]:\n",
        "            current_node.next = Node(value)\n",
        "            current_node = current_node.next\n",
        "\n",
        "        return cls(head = head)\n",
        "\n",
        "    def __repr__(self):\n",
        "        \"\"\"\n",
        "        Print Linked List\n",
        "        \"\"\"\n",
        "        items = ''\n",
        "        current_node = self.head\n",
        "        while current_node != None:\n",
        "            items += str(current_node.value) + '-->'\n",
        "            current_node = current_node.next\n",
        "        return f\"LinkedList({items[:-3]})\"\n",
        "\n",
        "    def index(self, index):\n",
        "        \"\"\"\n",
        "        Seach a value in Linked List. Return -1 if not found\n",
        "        Description:\n",
        "            - Iterate through the linked list\n",
        "            - If value is found, return the value\n",
        "            - If value is not found, return -1\n",
        "        \"\"\"\n",
        "        current_node = self.head\n",
        "        while current_node != None:\n",
        "            if index == 0:\n",
        "                return current_node.value\n",
        "            else:\n",
        "                index -= 1\n",
        "                current_node = current_node.next\n",
        "        return -1"
      ],
      "metadata": {
        "id": "s11GH4asDYQp"
      },
      "execution_count": 10,
      "outputs": []
    },
    {
      "cell_type": "code",
      "source": [
        "linked_list = LinkedList.generate_list(2,1,4,3,5,6)\n",
        "print(linked_list.index(2))"
      ],
      "metadata": {
        "colab": {
          "base_uri": "https://localhost:8080/"
        },
        "id": "aN8GJkywDZvL",
        "outputId": "e6fe55ce-e9d0-418a-c63f-b6be57632332"
      },
      "execution_count": 11,
      "outputs": [
        {
          "output_type": "stream",
          "name": "stdout",
          "text": [
            "4\n"
          ]
        }
      ]
    },
    {
      "cell_type": "code",
      "source": [
        "class Node:\n",
        "    def __init__(self, value, next = None) -> None:\n",
        "        self.value = value\n",
        "        self.next = next\n",
        "\n",
        "class LinkedList:\n",
        "    def __init__(self, head: Node = None):\n",
        "        \"\"\"\n",
        "        # Consturctor #1 - Empty Linked List\n",
        "        \"\"\"\n",
        "        self.head = head\n",
        "\n",
        "    @classmethod\n",
        "    def generate_list(cls, *args):\n",
        "        \"\"\"\n",
        "        Constructor #2 - Generate Linked List from list of values\n",
        "        \"\"\"\n",
        "        head = Node(args[0])\n",
        "        current_node = head\n",
        "        for value in args[1:]:\n",
        "            current_node.next = Node(value)\n",
        "            current_node = current_node.next\n",
        "\n",
        "        return cls(head = head)\n",
        "\n",
        "    def __repr__(self):\n",
        "        \"\"\"\n",
        "        Print Linked List\n",
        "        \"\"\"\n",
        "        items = ''\n",
        "        current_node = self.head\n",
        "        while current_node != None:\n",
        "            items += str(current_node.value) + '-->'\n",
        "            current_node = current_node.next\n",
        "        return f\"LinkedList({items[:-3]})\"\n",
        "\n",
        "    def index(self, index):\n",
        "        \"\"\"\n",
        "        Seach a value in Linked List. Return -1 if not found\n",
        "        Description:\n",
        "            - Iterate through the linked list\n",
        "            - If value is found, return the value\n",
        "            - If value is not found, return -1\n",
        "        \"\"\"\n",
        "        current_node = self.head\n",
        "        while current_node != None:\n",
        "            if index == 0:\n",
        "                return current_node.value\n",
        "            else:\n",
        "                index -= 1\n",
        "                current_node = current_node.next\n",
        "        return -1\n",
        "\n",
        "    def insert(self, value, index):\n",
        "        \"\"\"\n",
        "        Insert a value at a given index\n",
        "        \"\"\"\n",
        "        if len(self) < index:\n",
        "            print(\"Index not in Range\")\n",
        "            return None\n",
        "\n",
        "        current_node = self.head\n",
        "        while current_node != None:\n",
        "            if index == 1:\n",
        "                next = current_node.next\n",
        "                current_node.next = Node(value)\n",
        "                current_node.next.next = next\n",
        "                return\n",
        "            else:\n",
        "                index -= 1\n",
        "                current_node = current_node.next\n",
        "\n",
        "    def __len__(self):\n",
        "        \"\"\"\n",
        "        Return the length of the linked list\n",
        "        \"\"\"\n",
        "        current_node = self.head\n",
        "        counter = 0\n",
        "        while current_node != None:\n",
        "            counter += 1\n",
        "            current_node = current_node.next\n",
        "        return counter"
      ],
      "metadata": {
        "id": "zPw3eprkDamh"
      },
      "execution_count": 14,
      "outputs": []
    },
    {
      "cell_type": "code",
      "source": [
        "# Creating a linked list\n",
        "linked_list = LinkedList.generate_list(2,1,4,3,5,6)\n",
        "\n",
        "# Inserting a value\n",
        "linked_list.insert(value=20, index=2)\n",
        "\n",
        "# Print list\n",
        "print(linked_list)"
      ],
      "metadata": {
        "colab": {
          "base_uri": "https://localhost:8080/"
        },
        "id": "XAqLDGPJDcWG",
        "outputId": "dc369f8e-57e7-41b5-a69b-8981ead2476d"
      },
      "execution_count": 15,
      "outputs": [
        {
          "output_type": "stream",
          "name": "stdout",
          "text": [
            "LinkedList(2-->1-->20-->4-->3-->5-->6)\n"
          ]
        }
      ]
    },
    {
      "cell_type": "code",
      "source": [
        "class Node:\n",
        "    def __init__(self, value, next = None) -> None:\n",
        "        self.value = value\n",
        "        self.next = next\n",
        "\n",
        "class LinkedList:\n",
        "    def __init__(self, head: Node = None):\n",
        "        \"\"\"\n",
        "        # Consturctor #1 - Empty Linked List\n",
        "        \"\"\"\n",
        "        self.head = head\n",
        "\n",
        "    @classmethod\n",
        "    def generate_list(cls, *args):\n",
        "        \"\"\"\n",
        "        Constructor #2 - Generate Linked List from list of values\n",
        "        \"\"\"\n",
        "        head = Node(args[0])\n",
        "        current_node = head\n",
        "        for value in args[1:]:\n",
        "            current_node.next = Node(value)\n",
        "            current_node = current_node.next\n",
        "\n",
        "        return cls(head = head)\n",
        "\n",
        "    def __repr__(self):\n",
        "        \"\"\"\n",
        "        Print Linked List\n",
        "        \"\"\"\n",
        "        items = ''\n",
        "        current_node = self.head\n",
        "        while current_node != None:\n",
        "            items += str(current_node.value) + '-->'\n",
        "            current_node = current_node.next\n",
        "        return f\"LinkedList({items[:-3]})\"\n",
        "\n",
        "    def index(self, index):\n",
        "        \"\"\"\n",
        "        Seach a value in Linked List. Return -1 if not found\n",
        "        Description:\n",
        "            - Iterate through the linked list\n",
        "            - If value is found, return the value\n",
        "            - If value is not found, return -1\n",
        "        \"\"\"\n",
        "        current_node = self.head\n",
        "        while current_node != None:\n",
        "            if index == 0:\n",
        "                return current_node.value\n",
        "            else:\n",
        "                index -= 1\n",
        "                current_node = current_node.next\n",
        "        return -1\n",
        "\n",
        "    def insert(self, value, index):\n",
        "        \"\"\"\n",
        "        Insert a value at a given index\n",
        "        \"\"\"\n",
        "        if len(self) < index:\n",
        "            print(\"Index not in Range\")\n",
        "            return None\n",
        "\n",
        "        current_node = self.head\n",
        "        while current_node != None:\n",
        "            if index == 1:\n",
        "                next = current_node.next\n",
        "                current_node.next = Node(value)\n",
        "                current_node.next.next = next\n",
        "                return\n",
        "            else:\n",
        "                index -= 1\n",
        "                current_node = current_node.next\n",
        "\n",
        "    def delete(self, index):\n",
        "        \"\"\"\n",
        "        Delete a node at specifc index\n",
        "        \"\"\"\n",
        "        current_node = self.head\n",
        "        while current_node != None:\n",
        "            if index == 1:\n",
        "                current_node.next = current_node.next.next\n",
        "                break\n",
        "            else:\n",
        "                index -= 1\n",
        "                current_node = current_node.next\n",
        "\n",
        "    def __len__(self):\n",
        "        \"\"\"\n",
        "        Return the length of the linked list\n",
        "        \"\"\"\n",
        "        current_node = self.head\n",
        "        counter = 0\n",
        "        while current_node != None:\n",
        "            counter += 1\n",
        "            current_node = current_node.next\n",
        "        return counter"
      ],
      "metadata": {
        "id": "rhPevn45DeV0"
      },
      "execution_count": 16,
      "outputs": []
    },
    {
      "cell_type": "code",
      "source": [
        "# Creating a linked list\n",
        "linked_list = LinkedList.generate_list(2,1,4,3,5,6)\n",
        "\n",
        "# Delete the node at index 2\n",
        "linked_list.delete(index=2)\n",
        "\n",
        "# Print list\n",
        "print(linked_list)"
      ],
      "metadata": {
        "colab": {
          "base_uri": "https://localhost:8080/"
        },
        "id": "PDhUypwJDgen",
        "outputId": "68b9157a-7d5d-4d20-c3e4-bf9f77d2579a"
      },
      "execution_count": 17,
      "outputs": [
        {
          "output_type": "stream",
          "name": "stdout",
          "text": [
            "LinkedList(2-->1-->3-->5-->6)\n"
          ]
        }
      ]
    }
  ]
}
