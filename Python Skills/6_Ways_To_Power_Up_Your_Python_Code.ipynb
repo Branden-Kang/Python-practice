{
  "nbformat": 4,
  "nbformat_minor": 0,
  "metadata": {
    "colab": {
      "name": "6 Ways To Power Up Your Python Code.ipynb",
      "provenance": [],
      "authorship_tag": "ABX9TyOTlVYx4LTbvU8pphJA9eH1"
    },
    "kernelspec": {
      "name": "python3",
      "display_name": "Python 3"
    }
  },
  "cells": [
    {
      "cell_type": "markdown",
      "metadata": {
        "id": "CW-qZ5AUE4P-"
      },
      "source": [
        "[Reference](https://medium.com/better-programming/6-ways-to-power-up-your-python-code-d2ac5307d7d0)"
      ]
    },
    {
      "cell_type": "code",
      "metadata": {
        "id": "NpXKH9CF_Cwa"
      },
      "source": [
        "names = [\"Alice\", \"Brian\", \"Betty\", \"Bob\", \"Christa\"]\n",
        "b_names = []\n",
        "for name in names:\n",
        "   if name.startswith(\"B\"):\n",
        "      b_names.append(name.lower())"
      ],
      "execution_count": 2,
      "outputs": []
    },
    {
      "cell_type": "code",
      "metadata": {
        "colab": {
          "base_uri": "https://localhost:8080/"
        },
        "id": "g_ZUIRyAEvTR",
        "outputId": "0f85be08-bc39-45b8-ec3a-6f1d05ce6f5c"
      },
      "source": [
        "print(b_names)"
      ],
      "execution_count": 3,
      "outputs": [
        {
          "output_type": "stream",
          "text": [
            "['brian', 'betty', 'bob']\n"
          ],
          "name": "stdout"
        }
      ]
    },
    {
      "cell_type": "code",
      "metadata": {
        "colab": {
          "base_uri": "https://localhost:8080/"
        },
        "id": "8-97ekK_E-mK",
        "outputId": "9dea3492-4826-4696-ad18-406de76efc8e"
      },
      "source": [
        "names = [\"Alice\", \"Brian\", \"Betty\", \"Bob\", \"Christa\"]\n",
        "b_names = [name.lower() for name in names if name.startswith(\"B\")]\n",
        "print(b_names)"
      ],
      "execution_count": 4,
      "outputs": [
        {
          "output_type": "stream",
          "text": [
            "['brian', 'betty', 'bob']\n"
          ],
          "name": "stdout"
        }
      ]
    },
    {
      "cell_type": "code",
      "metadata": {
        "id": "T_KmHR1SFCN_"
      },
      "source": [
        "person = (\"Bob\", 22, \"4 Adder Avenue\")\n",
        "name = person[0]\n",
        "age = person[1]\n",
        "address = person[2]"
      ],
      "execution_count": 5,
      "outputs": []
    },
    {
      "cell_type": "code",
      "metadata": {
        "id": "luQvFcakFEhd"
      },
      "source": [
        "person = (\"Bob\", 22, \"4 Adder Avenue\")\n",
        "name, age, address = person"
      ],
      "execution_count": 6,
      "outputs": []
    },
    {
      "cell_type": "code",
      "metadata": {
        "colab": {
          "base_uri": "https://localhost:8080/"
        },
        "id": "JbzvTD4kH0R-",
        "outputId": "ad69795d-34b2-449d-9026-c4b62fb5b570"
      },
      "source": [
        "people = {\n",
        "   \"Alice\": {\"age\": 21, \"profession\": \"programmer\"},\n",
        "   \"Brian\": {\"age\": 30, \"profession\": \"chef\"},\n",
        "   \"Betty\": {\"age\": 41, \"profession\": \"streamer\"},\n",
        "   \"Bob\": {\"age\": 18, \"profession\": \"chemist\"},\n",
        "   \"Christa\": {\"age\": 31, \"profession\": \"data scientist\"}\n",
        "}\n",
        "ages = {name: info[\"age\"] for name, info in people.items()}\n",
        "ages"
      ],
      "execution_count": 7,
      "outputs": [
        {
          "output_type": "execute_result",
          "data": {
            "text/plain": [
              "{'Alice': 21, 'Betty': 41, 'Bob': 18, 'Brian': 30, 'Christa': 31}"
            ]
          },
          "metadata": {
            "tags": []
          },
          "execution_count": 7
        }
      ]
    },
    {
      "cell_type": "code",
      "metadata": {
        "id": "j9OxPtOJH5Qh"
      },
      "source": [
        "students = {\"Alice\": 90, \"Bob\": 81, \"Charlie\": 42}\n",
        "underachievers = [\n",
        "   name for name, score in students.items() if score < 60\n",
        "]\n",
        "for name in underachievers:\n",
        "   del students[name]"
      ],
      "execution_count": 8,
      "outputs": []
    },
    {
      "cell_type": "code",
      "metadata": {
        "id": "4Qrk66KpH6tK"
      },
      "source": [
        "mood = \"\"\n",
        "if is_sunny(today):\n",
        "   mood = \"Happy\"\n",
        "else:\n",
        "   mood = \"Sad\""
      ],
      "execution_count": 12,
      "outputs": []
    },
    {
      "cell_type": "code",
      "metadata": {
        "id": "HRVzSSnwH8qk"
      },
      "source": [
        "mood = \"\"\n",
        "if is_sunny(today):\n",
        "   mood = \"Happy\"\n",
        "else:\n",
        "   mood = \"Sad\""
      ],
      "execution_count": 13,
      "outputs": []
    }
  ]
}