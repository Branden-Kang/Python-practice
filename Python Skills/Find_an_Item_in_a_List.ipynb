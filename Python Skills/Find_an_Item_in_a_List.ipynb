{
  "nbformat": 4,
  "nbformat_minor": 0,
  "metadata": {
    "colab": {
      "name": "Find an Item in a List.ipynb",
      "provenance": [],
      "authorship_tag": "ABX9TyMDILwcyhHY5M6xmWaL2b3S"
    },
    "kernelspec": {
      "name": "python3",
      "display_name": "Python 3"
    }
  },
  "cells": [
    {
      "cell_type": "markdown",
      "metadata": {
        "id": "68QfMwbiy2ca"
      },
      "source": [
        "[Reference](https://medium.com/swlh/python-the-fastest-way-to-find-an-item-in-a-list-19fd950664ec)"
      ]
    },
    {
      "cell_type": "code",
      "metadata": {
        "id": "Gpjj_VXZy1OB"
      },
      "source": [
        "def while_loop():\n",
        "    item = 1\n",
        "    # You don't need to use parentheses, but they improve readability\n",
        "    while True:\n",
        "        if (item % 42 == 0) and (item % 43 == 0):\n",
        "            return item\n",
        "        item += 1"
      ],
      "execution_count": 1,
      "outputs": []
    },
    {
      "cell_type": "code",
      "metadata": {
        "id": "ly8oAZQky5Jr"
      },
      "source": [
        "def for_loop():\n",
        "    for item in range(1, 10000):\n",
        "        if (item % 42 == 0) and (item % 43 == 0):\n",
        "            return item"
      ],
      "execution_count": 2,
      "outputs": []
    },
    {
      "cell_type": "code",
      "metadata": {
        "colab": {
          "base_uri": "https://localhost:8080/"
        },
        "id": "6XAq7RGJy79F",
        "outputId": "6514e763-3ee7-47fb-d148-b4c7259ac07d"
      },
      "source": [
        "import timeit\n",
        "\n",
        "%timeit while_loop()"
      ],
      "execution_count": 3,
      "outputs": [
        {
          "output_type": "stream",
          "text": [
            "10000 loops, best of 3: 127 µs per loop\n"
          ],
          "name": "stdout"
        }
      ]
    },
    {
      "cell_type": "code",
      "metadata": {
        "colab": {
          "base_uri": "https://localhost:8080/"
        },
        "id": "LCXIQnsKzEh9",
        "outputId": "8286e6e9-340f-40ed-b188-e40087195852"
      },
      "source": [
        "%timeit for_loop()"
      ],
      "execution_count": 4,
      "outputs": [
        {
          "output_type": "stream",
          "text": [
            "10000 loops, best of 3: 105 µs per loop\n"
          ],
          "name": "stdout"
        }
      ]
    },
    {
      "cell_type": "code",
      "metadata": {
        "id": "OVTQIKftzH9x"
      },
      "source": [
        "def while_loop2():\n",
        "    item = 1\n",
        "    while True:\n",
        "        if (item % 98 == 0) and (item % 99 == 0):\n",
        "            return item\n",
        "        item += 1\n",
        "\n",
        "def for_loop2():\n",
        "    for item in range(1, 10000):\n",
        "        if (item % 98 == 0) and (item % 99 == 0):\n",
        "            return item"
      ],
      "execution_count": 5,
      "outputs": []
    },
    {
      "cell_type": "code",
      "metadata": {
        "colab": {
          "base_uri": "https://localhost:8080/"
        },
        "id": "-vjf_8TJzW7E",
        "outputId": "240e4ac0-d332-4bd1-9c74-4cd6013a7ca9"
      },
      "source": [
        "%timeit while_loop2()\n",
        "%timeit for_loop2()"
      ],
      "execution_count": 6,
      "outputs": [
        {
          "output_type": "stream",
          "text": [
            "1000 loops, best of 3: 687 µs per loop\n",
            "1000 loops, best of 3: 550 µs per loop\n"
          ],
          "name": "stdout"
        }
      ]
    },
    {
      "cell_type": "code",
      "metadata": {
        "id": "sGnblrjszZQ2"
      },
      "source": [
        "from itertools import count\n",
        "\n",
        "def count_numbers():\n",
        "    for item in count(1):\n",
        "        if (item % 42 == 0) and (item % 43 == 0):\n",
        "            return item"
      ],
      "execution_count": 7,
      "outputs": []
    },
    {
      "cell_type": "code",
      "metadata": {
        "colab": {
          "base_uri": "https://localhost:8080/"
        },
        "id": "Ht1Zs01ozdZd",
        "outputId": "925f45e6-8be1-4c8d-959d-ee0ec0c57058"
      },
      "source": [
        "%timeit count_numbers()"
      ],
      "execution_count": 8,
      "outputs": [
        {
          "output_type": "stream",
          "text": [
            "10000 loops, best of 3: 104 µs per loop\n"
          ],
          "name": "stdout"
        }
      ]
    },
    {
      "cell_type": "code",
      "metadata": {
        "colab": {
          "base_uri": "https://localhost:8080/"
        },
        "id": "rucaTWGNzfbx",
        "outputId": "01775401-1dc7-4273-bb10-2b7ea0045ff8"
      },
      "source": [
        "def list_comprehension():\n",
        "    return [item for item in range(1, 10000) if (item % 42 == 0) and (item % 43 == 0)][0]\n",
        "%timeit list_comprehension()"
      ],
      "execution_count": 9,
      "outputs": [
        {
          "output_type": "stream",
          "text": [
            "1000 loops, best of 3: 577 µs per loop\n"
          ],
          "name": "stdout"
        }
      ]
    },
    {
      "cell_type": "code",
      "metadata": {
        "colab": {
          "base_uri": "https://localhost:8080/"
        },
        "id": "Iib7duN3zjwd",
        "outputId": "5b04d714-9e42-40c9-ffb9-81efbd150429"
      },
      "source": [
        "def generator():\n",
        "    return next(item for item in count(1) if (item % 42 == 0) and (item % 43 == 0))\n",
        "\n",
        "%timeit generator()"
      ],
      "execution_count": 10,
      "outputs": [
        {
          "output_type": "stream",
          "text": [
            "10000 loops, best of 3: 104 µs per loop\n"
          ],
          "name": "stdout"
        }
      ]
    },
    {
      "cell_type": "code",
      "metadata": {
        "colab": {
          "base_uri": "https://localhost:8080/"
        },
        "id": "KHK_9Sk2zoz0",
        "outputId": "efdd54bd-3f4d-4526-b0c0-cfb332fde835"
      },
      "source": [
        "def generator_3_items():\n",
        "    gen = (item for item in count(1) if (item % 42 == 0) and (item % 43 == 0))\n",
        "    return [next(gen), next(gen), next(gen)]\n",
        "\n",
        "%timeit generator_3_items()"
      ],
      "execution_count": 11,
      "outputs": [
        {
          "output_type": "stream",
          "text": [
            "1000 loops, best of 3: 317 µs per loop\n"
          ],
          "name": "stdout"
        }
      ]
    },
    {
      "cell_type": "code",
      "metadata": {
        "colab": {
          "base_uri": "https://localhost:8080/"
        },
        "id": "vFxe4IiQzsbe",
        "outputId": "e708d9d1-e868-4267-f897-c69fad9a91b6"
      },
      "source": [
        "def for_loop_3_items():\n",
        "    items = []\n",
        "    for item in count(1):\n",
        "        if (item % 42 == 0) and (item % 43 == 0):\n",
        "            items.append(item)\n",
        "            if len(items) == 3:\n",
        "                return items\n",
        "\n",
        "%timeit for_loop_3_items()"
      ],
      "execution_count": 12,
      "outputs": [
        {
          "output_type": "stream",
          "text": [
            "1000 loops, best of 3: 327 µs per loop\n"
          ],
          "name": "stdout"
        }
      ]
    }
  ]
}