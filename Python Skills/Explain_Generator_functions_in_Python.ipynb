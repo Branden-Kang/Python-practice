{
  "nbformat": 4,
  "nbformat_minor": 0,
  "metadata": {
    "colab": {
      "name": "Explain Generator functions in Python.ipynb",
      "provenance": [],
      "authorship_tag": "ABX9TyNE8ckL2o86PSs/2OUnk3sk"
    },
    "kernelspec": {
      "name": "python3",
      "display_name": "Python 3"
    },
    "language_info": {
      "name": "python"
    }
  },
  "cells": [
    {
      "cell_type": "markdown",
      "metadata": {
        "id": "LRKXebsooPAx"
      },
      "source": [
        "[Reference](https://kmahireddy123123.medium.com/explain-generator-functions-in-python-3e192e493e1)"
      ]
    },
    {
      "cell_type": "code",
      "metadata": {
        "id": "5JJor9OboBoI"
      },
      "source": [
        "csv_gen = csv_reader(\"some_csv.txt\")\n",
        "\n",
        "row_count = 0\n",
        "\n",
        "for row in csv_gen:\n",
        "    row_count += 1\n",
        "\n",
        "print(f\"Row count is {row_count}\")"
      ],
      "execution_count": 1,
      "outputs": []
    },
    {
      "cell_type": "code",
      "metadata": {
        "id": "PgE_-t96oca5"
      },
      "source": [
        "def csv_reader(file_name):\n",
        "\n",
        "    file = open(file_name)\n",
        "\n",
        "    result = file.read().split(\"\\n\")\n",
        "\n",
        "    return result"
      ],
      "execution_count": 2,
      "outputs": []
    },
    {
      "cell_type": "code",
      "metadata": {
        "id": "WM5DSpAUog_I"
      },
      "source": [
        "def csv_reader(file_name):\n",
        "\n",
        "    for row in open(file_name, \"r\"):\n",
        "        yield row"
      ],
      "execution_count": 3,
      "outputs": []
    },
    {
      "cell_type": "code",
      "metadata": {
        "id": "4rLKe_0hooBO"
      },
      "source": [
        "def infinite_sequence():\n",
        "    num = 0\n",
        "    num += 1"
      ],
      "execution_count": 4,
      "outputs": []
    }
  ]
}