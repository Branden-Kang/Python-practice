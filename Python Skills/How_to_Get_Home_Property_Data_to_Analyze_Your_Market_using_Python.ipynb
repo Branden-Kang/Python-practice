{
  "nbformat": 4,
  "nbformat_minor": 0,
  "metadata": {
    "colab": {
      "name": "How to Get Home Property Data to Analyze Your Market using Python.ipynb",
      "provenance": [],
      "authorship_tag": "ABX9TyOy96vKp5XznHqyw0FU4SdL"
    },
    "kernelspec": {
      "name": "python3",
      "display_name": "Python 3"
    },
    "language_info": {
      "name": "python"
    }
  },
  "cells": [
    {
      "cell_type": "markdown",
      "source": [
        "[Reference](https://levelup.gitconnected.com/how-to-get-property-data-to-analyze-your-market-using-python-e9ef5336d141)"
      ],
      "metadata": {
        "id": "dHcyyX_gY3Qo"
      }
    },
    {
      "cell_type": "code",
      "execution_count": 1,
      "metadata": {
        "colab": {
          "base_uri": "https://localhost:8080/"
        },
        "id": "jwcjiQyLY1cf",
        "outputId": "fe040612-3b3e-429d-d1b4-771ea1753cd9"
      },
      "outputs": [
        {
          "output_type": "stream",
          "name": "stdout",
          "text": [
            "\u001b[K     |████████████████████████████████| 61 kB 2.8 MB/s \n",
            "\u001b[K     |████████████████████████████████| 115 kB 48.0 MB/s \n",
            "\u001b[31mERROR: pip's dependency resolver does not currently take into account all the packages that are installed. This behaviour is the source of the following dependency conflicts.\n",
            "google-colab 1.0.0 requires requests~=2.23.0, but you have requests 2.25.1 which is incompatible.\n",
            "datascience 0.10.6 requires folium==0.2.1, but you have folium 0.8.3 which is incompatible.\u001b[0m\n",
            "\u001b[?25h"
          ]
        }
      ],
      "source": [
        "!pip install googlesearch-python -q"
      ]
    },
    {
      "cell_type": "code",
      "source": [
        "from google.colab import drive, files\n",
        "from googlesearch import search\n",
        "import pandas as pd\n",
        "import requests\n",
        "import json\n",
        "import time\n",
        "import io\n",
        "import plotly.express as px\n",
        "pd.set_option('display.max_columns',None)"
      ],
      "metadata": {
        "id": "z3bOWARoY7dO"
      },
      "execution_count": 3,
      "outputs": []
    },
    {
      "cell_type": "markdown",
      "source": [
        "# Functions\n"
      ],
      "metadata": {
        "id": "fQwHdKWFe9W7"
      }
    },
    {
      "cell_type": "code",
      "source": [
        "def get_zpid(street=None, city=None, state=None, zip_code=None, full_address=None):\n",
        "  # get search query string\n",
        "  if full_address == None:\n",
        "    try:\n",
        "      query = '{0}, {1}, {2} {3} zillow home details'.format(street, city, state, str(zip_code))\n",
        "    except:\n",
        "      return 'Please enter a query string or address details'\n",
        "  else:\n",
        "    query = full_address + ' zillow home details'\n",
        "\n",
        "  # get google search results\n",
        "  search_results = search(query, tld='com', lang='en', num=3, start=0, stop=1, pause=0)\n",
        "  search_results_list = [u for u in search_results]\n",
        "  url = search_results_list[0] # extract first returned result\n",
        "  \n",
        "  # return zpid\n",
        "  try:\n",
        "    return [x for x in url.split('/') if 'zpid' in x][0].split('_')[0]\n",
        "  except:\n",
        "    return None"
      ],
      "metadata": {
        "id": "jRh_Rk_1e0tj"
      },
      "execution_count": 4,
      "outputs": []
    },
    {
      "cell_type": "code",
      "source": [
        "def get_property_detail(rapid_api_key, zpid):\n",
        "  # get property details from API\n",
        "  url = \"https://zillow-com1.p.rapidapi.com/property\"\n",
        "\n",
        "  querystring = {\"zpid\":zpid} # zpid\n",
        "\n",
        "  headers = {\n",
        "    \"X-RapidAPI-Host\": \"zillow-com1.p.rapidapi.com\",\n",
        "    \"X-RapidAPI-Key\": rapid_api_key # your key here\n",
        "  }\n",
        "\n",
        "  # request data\n",
        "  return requests.request(\"GET\", url, headers=headers, params=querystring)"
      ],
      "metadata": {
        "id": "x05wKGgLe2hz"
      },
      "execution_count": 6,
      "outputs": []
    },
    {
      "cell_type": "markdown",
      "source": [
        "# Locals & Constants\n"
      ],
      "metadata": {
        "id": "rNBxLbA5e77-"
      }
    },
    {
      "cell_type": "code",
      "source": [
        "############\n",
        "# OPTIONAL #\n",
        "############\n",
        "\n",
        "# mount drive\n",
        "drive.mount('/content/drive', force_remount=False)\n",
        "\n",
        "# data location\n",
        "file_dir = '/content/drive/My Drive/Colab Data/input/' # optional"
      ],
      "metadata": {
        "id": "2vpOC9L6e7Mu"
      },
      "execution_count": 9,
      "outputs": []
    },
    {
      "cell_type": "code",
      "source": [
        "# read in api key file\n",
        "df_api_keys = pd.read_csv(file_dir + 'api_keys.csv')\n",
        "\n",
        "# get keys\n",
        "rapid_api_key = df_api_keys.loc[df_api_keys['API'] =='rapid']['KEY'].iloc[0] # replace this with your own key"
      ],
      "metadata": {
        "id": "S03HgzJVZGlB"
      },
      "execution_count": 8,
      "outputs": []
    },
    {
      "cell_type": "markdown",
      "source": [
        "# Data"
      ],
      "metadata": {
        "id": "z6wPIjmqfDg8"
      }
    },
    {
      "cell_type": "code",
      "source": [
        "property_address = \"11622 Pure Pebble Dr, RIVERVIEW, FL 33569\"\n",
        "query = property_address + ' zillow home details'\n",
        "print('Search this phrase in Google Search:', query)"
      ],
      "metadata": {
        "id": "nCp9sK-jZMMV"
      },
      "execution_count": 10,
      "outputs": []
    },
    {
      "cell_type": "code",
      "source": [
        "# google search results\n",
        "search_results = search(query, tld='com', lang='en', num=3, start=0, stop=3, pause=0)\n",
        "search_results_list = [u for u in search_results] # get all results\n",
        "search_results_list"
      ],
      "metadata": {
        "id": "-Y34kyrOfFb0"
      },
      "execution_count": 11,
      "outputs": []
    },
    {
      "cell_type": "code",
      "source": [
        "# get the first search result\n",
        "url = search_results_list[0] # extract first returned result\n",
        "url"
      ],
      "metadata": {
        "id": "pHTho0EDfGEh"
      },
      "execution_count": 12,
      "outputs": []
    },
    {
      "cell_type": "code",
      "source": [
        "# extract the zpid\n",
        "zpid = [x for x in url.split('/') if 'zpid' in x][0].split('_')[0]\n",
        "print('Zpid of the property is:', zpid )"
      ],
      "metadata": {
        "id": "iHH1utxQfHXl"
      },
      "execution_count": 13,
      "outputs": []
    },
    {
      "cell_type": "code",
      "source": [
        "# get property details from API\n",
        "url = \"https://zillow-com1.p.rapidapi.com/property\"\n",
        "\n",
        "querystring = {\"zpid\":zpid} # zpid\n",
        "\n",
        "headers = {\n",
        "\t\"X-RapidAPI-Host\": \"zillow-com1.p.rapidapi.com\",\n",
        "\t\"X-RapidAPI-Key\": rapid_api_key # your key here\n",
        "}\n",
        "\n",
        "# request data\n",
        "response = requests.request(\"GET\", url, headers=headers, params=querystring)\n",
        "# show success\n",
        "response.status_code # 200 is success!"
      ],
      "metadata": {
        "id": "0WEepoSefIi-"
      },
      "execution_count": 14,
      "outputs": []
    },
    {
      "cell_type": "code",
      "source": [
        "response.json()"
      ],
      "metadata": {
        "id": "Oj8HzKltfJqT"
      },
      "execution_count": 15,
      "outputs": []
    },
    {
      "cell_type": "code",
      "source": [
        "# transform data to pandas dataframe\n",
        "df_property_detail = pd.json_normalize(data=response.json())\n",
        "print('Num of rows:', len(df_property_detail))\n",
        "print('Num of cols:', len(df_property_detail.columns))\n",
        "df_property_detail.head()"
      ],
      "metadata": {
        "id": "-QehbCC_fKzn"
      },
      "execution_count": 16,
      "outputs": []
    },
    {
      "cell_type": "code",
      "source": [
        "# retrieve property detail elements\n",
        "bedrooms = df_property_detail['bedrooms'].iloc[0]\n",
        "bathrooms = df_property_detail['bathrooms'].iloc[0]\n",
        "year_built = df_property_detail['yearBuilt'].iloc[0]\n",
        "property_type = df_property_detail['homeType'].iloc[0]\n",
        "living_area = df_property_detail['resoFacts.livingArea'].iloc[0]\n",
        "lot_size = df_property_detail['resoFacts.lotSize'].iloc[0]\n",
        "lot_dimensions = df_property_detail['resoFacts.lotSizeDimensions'].iloc[0]\n",
        "zoning = df_property_detail['resoFacts.zoning'].iloc[0]\n",
        "# estimates\n",
        "zestimate = df_property_detail['zestimate'].iloc[0]\n",
        "rent_zestimate = df_property_detail['rentZestimate'].iloc[0]\n",
        "\n",
        "print('PROPERTY DETAILS FOR: ', property_address)\n",
        "print('------------------------------------------------------------------')\n",
        "print('  Bedrooms: {}'.format( bedrooms))\n",
        "print('  Bathrooms: {}'.format( bathrooms))\n",
        "print('  Year Built: {}'.format( year_built))\n",
        "print('  Living Area: {}'.format( living_area))\n",
        "print('  Lot Size: {}'.format( lot_size))\n",
        "print('  Lot Dimensions: {}'.format( lot_dimensions))\n",
        "print('  Zoning: {}'.format( zoning))\n",
        "print('  Property Type: {}'.format( property_type))\n",
        "print('  Zestimate: ${:,.0f}'.format( zestimate))\n",
        "print('  Rent Zestimate: ${:,.0f}'.format( rent_zestimate))"
      ],
      "metadata": {
        "id": "7peKpPlgfODo"
      },
      "execution_count": 17,
      "outputs": []
    },
    {
      "cell_type": "code",
      "source": [
        "# download file\n",
        "df_property_detail.to_csv('output.csv', index=False)\n",
        "files.download('output.csv')"
      ],
      "metadata": {
        "id": "01i3lC-afPO5"
      },
      "execution_count": 18,
      "outputs": []
    },
    {
      "cell_type": "code",
      "source": [
        "# upload document\n",
        "# Ariel's example - PropStream Woodbridge Tax Liens (sample of 5 properties)\n",
        "uploaded = files.upload()"
      ],
      "metadata": {
        "id": "bMiqs8ORfQue"
      },
      "execution_count": 19,
      "outputs": []
    },
    {
      "cell_type": "code",
      "source": [
        "# get file name\n",
        "file_name = list(uploaded.keys())[0]\n",
        "\n",
        "# read file\n",
        "df_upload = pd.read_csv(io.BytesIO(uploaded[file_name]))\n",
        "print('Num of rows:', len(df_upload))\n",
        "df_upload.head()"
      ],
      "metadata": {
        "id": "qo-iEg79fR3i"
      },
      "execution_count": 20,
      "outputs": []
    },
    {
      "cell_type": "code",
      "source": [
        "# create empty list to store api response for property details\n",
        "df_list = []\n",
        "zpid_list = []\n",
        "\n",
        "# iterate through dataframe\n",
        "for index, row in df_upload.iterrows():\n",
        "  # get property address attributes by column name\n",
        "  street = row['Address']\n",
        "  city = row['City']\n",
        "  state = row['State']\n",
        "  zip_code = \"0\" + str(row['Zip']) # fix issue with zip code\n",
        "\n",
        "  # get zpid\n",
        "  zpid = get_zpid(street=street, city=city, state=state, zip_code=zip_code)\n",
        "  zpid_list.append(zpid)\n",
        "\n",
        "  # wait 1 second to not overload Google Search\n",
        "  time.sleep(1.5)\n",
        "\n",
        "  # get property details\n",
        "  # catch errors (possibly no zpid)\n",
        "  try:\n",
        "    response = get_property_detail(rapid_api_key, zpid)\n",
        "    _df = pd.json_normalize(data=response.json())\n",
        "    # append data to list of property details\n",
        "    df_list.append(_df)\n",
        "  except:\n",
        "    print('Unable to retrieve data for : {0}, {1}, {2}, {3}'.format(street, city, state, zip_code))"
      ],
      "metadata": {
        "id": "3WBIipXxfTLE"
      },
      "execution_count": 21,
      "outputs": []
    },
    {
      "cell_type": "code",
      "source": [
        "# join property details data\n",
        "df_prop_detail = pd.concat(df_list)\n",
        "df_prop_detail.head()"
      ],
      "metadata": {
        "id": "M0NTXLt5fVVu"
      },
      "execution_count": 22,
      "outputs": []
    },
    {
      "cell_type": "code",
      "source": [
        "# join original dataset to property details\n",
        "# create new column for zpid\n",
        "df_upload['zpid'] = zpid_list\n",
        "\n",
        "# confirm zpid is <str> type\n",
        "df_upload['zpid'] = df_upload['zpid'].astype(str)\n",
        "df_prop_detail['zpid'] = df_prop_detail['zpid'].astype(str)\n",
        "\n",
        "# join on zpid\n",
        "df_join = pd.merge(df_upload, df_prop_detail, how='left', on='zpid')\n",
        "print('Num of columns:', len(df_join.columns))\n",
        "df_join.head()"
      ],
      "metadata": {
        "id": "dRCl3G76fWlH"
      },
      "execution_count": 23,
      "outputs": []
    },
    {
      "cell_type": "code",
      "source": [
        "# reduce number of columns in join\n",
        "df_mod_output = pd.merge(\n",
        "    df_upload, \n",
        "    df_prop_detail[['zpid', 'zestimate', 'rentZestimate']], \n",
        "    how='left', \n",
        "    on='zpid')\n",
        "print('Num of columns:', len(df_mod_output.columns))\n",
        "df_mod_output.head()"
      ],
      "metadata": {
        "id": "d-aqmXuXfYDy"
      },
      "execution_count": 24,
      "outputs": []
    },
    {
      "cell_type": "code",
      "source": [
        "# download file\n",
        "df_mod_output.to_csv('output2.csv', index=False)\n",
        "files.download('output2.csv')"
      ],
      "metadata": {
        "id": "-PS4-p-1fbNV"
      },
      "execution_count": 25,
      "outputs": []
    },
    {
      "cell_type": "code",
      "source": [
        "# view zestimate\n",
        "fig = px.box(df_mod_output, y=\"zestimate\")\n",
        "fig.show()"
      ],
      "metadata": {
        "id": "-vANtvX1fcg-"
      },
      "execution_count": 26,
      "outputs": []
    },
    {
      "cell_type": "markdown",
      "source": [
        "# Automation"
      ],
      "metadata": {
        "id": "WnD7Xjz_felo"
      }
    },
    {
      "cell_type": "code",
      "source": [
        "from IPython.display import YouTubeVideo\n",
        "YouTubeVideo('Dh09SWvCuiM')"
      ],
      "metadata": {
        "id": "IcNexuXefdlh"
      },
      "execution_count": 27,
      "outputs": []
    },
    {
      "cell_type": "code",
      "source": [
        "from IPython.display import YouTubeVideo\n",
        "YouTubeVideo('Dh09SWvCuiM')"
      ],
      "metadata": {
        "id": "iSlrYiUvfgNW"
      },
      "execution_count": 28,
      "outputs": []
    }
  ]
}