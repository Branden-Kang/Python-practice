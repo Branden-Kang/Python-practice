{
  "nbformat": 4,
  "nbformat_minor": 0,
  "metadata": {
    "colab": {
      "provenance": [],
      "authorship_tag": "ABX9TyN+km/4icm8ojHgz8V7B+vP"
    },
    "kernelspec": {
      "name": "python3",
      "display_name": "Python 3"
    },
    "language_info": {
      "name": "python"
    }
  },
  "cells": [
    {
      "cell_type": "markdown",
      "source": [
        "[Reference](https://python.plainenglish.io/five-python-wrappers-that-can-reduce-your-code-by-half-af775feb1d5)"
      ],
      "metadata": {
        "id": "ZgTXiJqeR0TD"
      }
    },
    {
      "cell_type": "markdown",
      "source": [
        "# 1. Time"
      ],
      "metadata": {
        "id": "vh-P5XmdR2fU"
      }
    },
    {
      "cell_type": "code",
      "execution_count": 1,
      "metadata": {
        "id": "uGfC51BwRzRH"
      },
      "outputs": [],
      "source": [
        "import time\n",
        "\n",
        "def timer(func):\n",
        "    def wrapper(*args, **kwargs):\n",
        "        # start the timer\n",
        "        start_time = time.time()\n",
        "        # call the decorated function\n",
        "        result = func(*args, **kwargs)\n",
        "        # remeasure the time\n",
        "        end_time = time.time()\n",
        "        # compute the elapsed time and print it\n",
        "        execution_time = end_time - start_time\n",
        "        print(f\"Execution time: {execution_time} seconds\")\n",
        "        # return the result of the decorated function execution\n",
        "        return result\n",
        "    # return reference to the wrapper function\n",
        "    return wrapper"
      ]
    },
    {
      "cell_type": "code",
      "source": [
        "@timer\n",
        "def train_model():\n",
        "    print(\"Starting the model training function...\")\n",
        "    # simulate a function execution by pausing the program for 5 seconds\n",
        "    time.sleep(5)\n",
        "    print(\"Model training completed!\")\n",
        "\n",
        "train_model()"
      ],
      "metadata": {
        "colab": {
          "base_uri": "https://localhost:8080/"
        },
        "id": "ZpYzMTtvR3e8",
        "outputId": "80c3b583-9af0-4f5e-98e5-4ef3fadb219b"
      },
      "execution_count": 2,
      "outputs": [
        {
          "output_type": "stream",
          "name": "stdout",
          "text": [
            "Starting the model training function...\n",
            "Model training completed!\n",
            "Execution time: 5.005237817764282 seconds\n"
          ]
        }
      ]
    },
    {
      "cell_type": "markdown",
      "source": [
        "# 2. Debugger"
      ],
      "metadata": {
        "id": "KUzvs5kER5t-"
      }
    },
    {
      "cell_type": "code",
      "source": [
        "def debug(func):\n",
        "    def wrapper(*args, **kwargs):\n",
        "        # print the fucntion name and arguments\n",
        "        print(f\"Calling {func.__name__} with args: {args} kwargs: {kwargs}\")\n",
        "        # call the function\n",
        "        result = func(*args, **kwargs)\n",
        "        # print the results\n",
        "        print(f\"{func.__name__} returned: {result}\")\n",
        "        return result\n",
        "    return wrapper"
      ],
      "metadata": {
        "id": "8d5epb-LR4mX"
      },
      "execution_count": 3,
      "outputs": []
    },
    {
      "cell_type": "code",
      "source": [
        "@debug\n",
        "def add_numbers(x, y):\n",
        "    return x + y\n",
        "add_numbers(7, y=5,)"
      ],
      "metadata": {
        "colab": {
          "base_uri": "https://localhost:8080/"
        },
        "id": "-ktzCKsdR7mu",
        "outputId": "28b98918-87c8-49f5-e395-b2cfdbebc8b1"
      },
      "execution_count": 4,
      "outputs": [
        {
          "output_type": "stream",
          "name": "stdout",
          "text": [
            "Calling add_numbers with args: (7,) kwargs: {'y': 5}\n",
            "add_numbers returned: 12\n"
          ]
        },
        {
          "output_type": "execute_result",
          "data": {
            "text/plain": [
              "12"
            ]
          },
          "metadata": {},
          "execution_count": 4
        }
      ]
    },
    {
      "cell_type": "markdown",
      "source": [
        "# 3. Exception Handler"
      ],
      "metadata": {
        "id": "cpXnIWeGR9y_"
      }
    },
    {
      "cell_type": "code",
      "source": [
        "def exception_handler(func):\n",
        "    def wrapper(*args, **kwargs):\n",
        "        try:\n",
        "            return func(*args, **kwargs)\n",
        "        except Exception as e:\n",
        "            # Handle the exception\n",
        "            print(f\"An exception occurred: {str(e)}\")\n",
        "            # Optionally, perform additional error handling or logging\n",
        "            # Reraise the exception if needed\n",
        "    return wrapper"
      ],
      "metadata": {
        "id": "cJiSav9VR8rK"
      },
      "execution_count": 5,
      "outputs": []
    },
    {
      "cell_type": "code",
      "source": [
        "@exception_handler\n",
        "def divide(x, y):\n",
        "    result = x / y\n",
        "    return result\n",
        "divide(10, 0)"
      ],
      "metadata": {
        "colab": {
          "base_uri": "https://localhost:8080/"
        },
        "id": "QMpmoylzR_FU",
        "outputId": "d997423b-5d4e-4ee8-a737-2b5f7956aa5f"
      },
      "execution_count": 6,
      "outputs": [
        {
          "output_type": "stream",
          "name": "stdout",
          "text": [
            "An exception occurred: division by zero\n"
          ]
        }
      ]
    },
    {
      "cell_type": "markdown",
      "source": [
        "# 4. Input Validator"
      ],
      "metadata": {
        "id": "4PXRx3kjSBpJ"
      }
    },
    {
      "cell_type": "code",
      "source": [
        "def validate_input(*validations):\n",
        "    def decorator(func):\n",
        "        def wrapper(*args, **kwargs):\n",
        "            for i, val in enumerate(args):\n",
        "                if i < len(validations):\n",
        "                    if not validations[i](val):\n",
        "                        raise ValueError(f\"Invalid argument: {val}\")\n",
        "            for key, val in kwargs.items():\n",
        "                if key in validations[len(args):]:\n",
        "                    if not validations[len(args):][key](val):\n",
        "                        raise ValueError(f\"Invalid argument: {key}={val}\")\n",
        "            return func(*args, **kwargs)\n",
        "        return wrapper\n",
        "    return decorator"
      ],
      "metadata": {
        "id": "iGmOSo8HSAgA"
      },
      "execution_count": 7,
      "outputs": []
    },
    {
      "cell_type": "code",
      "source": [
        "@validate_input(lambda x: x > 0, lambda y: isinstance(y, str))\n",
        "def divide_and_print(x, message):\n",
        "    print(message)\n",
        "    return 1 / x\n",
        "\n",
        "divide_and_print(5, \"Hello!\")"
      ],
      "metadata": {
        "colab": {
          "base_uri": "https://localhost:8080/"
        },
        "id": "apOhVoHFSDXj",
        "outputId": "9c610eec-1d3c-47ec-dc62-9398047c045a"
      },
      "execution_count": 8,
      "outputs": [
        {
          "output_type": "stream",
          "name": "stdout",
          "text": [
            "Hello!\n"
          ]
        },
        {
          "output_type": "execute_result",
          "data": {
            "text/plain": [
              "0.2"
            ]
          },
          "metadata": {},
          "execution_count": 8
        }
      ]
    },
    {
      "cell_type": "markdown",
      "source": [
        "# 5. Retry"
      ],
      "metadata": {
        "id": "GD2tFG4GSFL4"
      }
    },
    {
      "cell_type": "code",
      "source": [
        "import time\n",
        "\n",
        "def retry(max_attempts, delay=1):\n",
        "    def decorator(func):\n",
        "        def wrapper(*args, **kwargs):\n",
        "            attempts = 0\n",
        "            while attempts < max_attempts:\n",
        "                try:\n",
        "                    return func(*args, **kwargs)\n",
        "                except Exception as e:\n",
        "                    attempts += 1\n",
        "                    print(f\"Attempt {attempts} failed: {e}\")\n",
        "                    time.sleep(delay)\n",
        "            print(f\"Function failed after {max_attempts} attempts\")\n",
        "        return wrapper\n",
        "    return decorator"
      ],
      "metadata": {
        "id": "-EgxcCyNSE2N"
      },
      "execution_count": 9,
      "outputs": []
    },
    {
      "cell_type": "code",
      "source": [
        "@retry(max_attempts=3, delay=2)\n",
        "def fetch_data(url):\n",
        "    print(\"Fetching the data..\")\n",
        "    # raise timeout error to simulate a server not responding..\n",
        "    raise TimeoutError(\"Server is not responding.\")\n",
        "fetch_data(\"https://example.com/data\")"
      ],
      "metadata": {
        "colab": {
          "base_uri": "https://localhost:8080/"
        },
        "id": "FIVqwzygSHJd",
        "outputId": "d7ce2409-8832-4a2b-b4c9-71758d8ba7d2"
      },
      "execution_count": 10,
      "outputs": [
        {
          "output_type": "stream",
          "name": "stdout",
          "text": [
            "Fetching the data..\n",
            "Attempt 1 failed: Server is not responding.\n",
            "Fetching the data..\n",
            "Attempt 2 failed: Server is not responding.\n",
            "Fetching the data..\n",
            "Attempt 3 failed: Server is not responding.\n",
            "Function failed after 3 attempts\n"
          ]
        }
      ]
    }
  ]
}
