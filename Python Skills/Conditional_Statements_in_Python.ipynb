{
  "nbformat": 4,
  "nbformat_minor": 0,
  "metadata": {
    "colab": {
      "name": "Conditional Statements in Python.ipynb",
      "provenance": [],
      "authorship_tag": "ABX9TyPMrnD8v1fZeCtyKZdMrLWM"
    },
    "kernelspec": {
      "name": "python3",
      "display_name": "Python 3"
    },
    "language_info": {
      "name": "python"
    }
  },
  "cells": [
    {
      "cell_type": "markdown",
      "metadata": {
        "id": "EVA1ejHW6G8u"
      },
      "source": [
        "[Reference](https://medium.com/@thehackadda/conditional-statements-in-python-f825bf3ec531)"
      ]
    },
    {
      "cell_type": "code",
      "metadata": {
        "colab": {
          "base_uri": "https://localhost:8080/"
        },
        "id": "3p2vd7Vu6F41",
        "outputId": "b18a1382-5f55-480a-a3a5-a3cebfc0c288"
      },
      "source": [
        "# Example 1\n",
        "student_name = 'vaibhav'\n",
        "\n",
        "if student_name == 'vaibhav':\n",
        "    print(\"Student's name is Vaibhav\")\n",
        "\n",
        "# Output\n",
        "# Student's name is Vaibhav\n",
        "\n",
        "\n",
        "# Example 2\n",
        "num1 = 10\n",
        "num2 = 20\n",
        "\n",
        "if num1 == num2:\n",
        "    print(\"num1 is equal to num2\")\n",
        "\n",
        "if num2 > num1:\n",
        "    print(\"num2 is greater than num1\")\n",
        "\n",
        "if num1 > num2:\n",
        "    print(\"num1 is greater than num2\")\n",
        "\n",
        "# Output\n",
        "# num2 is greater than num1"
      ],
      "execution_count": 1,
      "outputs": [
        {
          "output_type": "stream",
          "text": [
            "Student's name is Vaibhav\n",
            "num2 is greater than num1\n"
          ],
          "name": "stdout"
        }
      ]
    },
    {
      "cell_type": "code",
      "metadata": {
        "colab": {
          "base_uri": "https://localhost:8080/"
        },
        "id": "pWhrneAX6KbI",
        "outputId": "a89b716a-6634-4146-f3f9-67a1f9f94ede"
      },
      "source": [
        "student_name = 'vaibhav'\n",
        "\n",
        "if student_name == 'vaibhav':\n",
        "    print(\"Student's name is Vaibhav\")\n",
        "elif student_name == 'rishabh':\n",
        "    print(\"Student's name is rishabh\")\n",
        "\n",
        "# Output\n",
        "# Student's name is Vaibhav"
      ],
      "execution_count": 2,
      "outputs": [
        {
          "output_type": "stream",
          "text": [
            "Student's name is Vaibhav\n"
          ],
          "name": "stdout"
        }
      ]
    },
    {
      "cell_type": "code",
      "metadata": {
        "colab": {
          "base_uri": "https://localhost:8080/"
        },
        "id": "f5taKbK26MVs",
        "outputId": "81d94b11-fb4d-4f19-a169-f2ec27c65cb3"
      },
      "source": [
        "student_name = 'aarav'\n",
        "\n",
        "if student_name == 'vaibhav':\n",
        "    print(\"Student's name is Vaibhav\")\n",
        "else:\n",
        "    print(\"Student's name is not Vaibhav\")\n",
        "\n",
        "# Output\n",
        "# Student's name is not Vaibhav"
      ],
      "execution_count": 3,
      "outputs": [
        {
          "output_type": "stream",
          "text": [
            "Student's name is not Vaibhav\n"
          ],
          "name": "stdout"
        }
      ]
    },
    {
      "cell_type": "code",
      "metadata": {
        "colab": {
          "base_uri": "https://localhost:8080/"
        },
        "id": "nNxdbGAv6PV_",
        "outputId": "ddaf672b-db60-4adb-c2ad-4a3d39dcd651"
      },
      "source": [
        "# Example 2(rewritten)\n",
        "num1 = 10\n",
        "num2 = 20\n",
        "\n",
        "if num1 == num2:\n",
        "    print(\"num1 is equal to num2\")\n",
        "\n",
        "elif num2 > num1:\n",
        "    print(\"num2 is greater than num1\")\n",
        "\n",
        "else:\n",
        "    print(\"num1 is greater than num2\")\n",
        "\n",
        "# Output\n",
        "# num2 is greater than num1"
      ],
      "execution_count": 4,
      "outputs": [
        {
          "output_type": "stream",
          "text": [
            "num2 is greater than num1\n"
          ],
          "name": "stdout"
        }
      ]
    },
    {
      "cell_type": "code",
      "metadata": {
        "colab": {
          "base_uri": "https://localhost:8080/"
        },
        "id": "kVqzStir6RJ5",
        "outputId": "bfecc71b-629d-45e9-da18-be9f352714c2"
      },
      "source": [
        "x = 10\n",
        "if not x % 2:\n",
        "    if x < 100:\n",
        "        print(\"x is an even number and less than 100\")"
      ],
      "execution_count": 5,
      "outputs": [
        {
          "output_type": "stream",
          "text": [
            "x is an even number and less than 100\n"
          ],
          "name": "stdout"
        }
      ]
    },
    {
      "cell_type": "code",
      "metadata": {
        "colab": {
          "base_uri": "https://localhost:8080/"
        },
        "id": "1E1PdIgW6SmH",
        "outputId": "361452e2-76e2-41c9-ce9a-05e21f9397cd"
      },
      "source": [
        "x = 10\n",
        "if (not x % 2) and (x < 100):\n",
        "    print(\"x is an even number and less than 100\")"
      ],
      "execution_count": 6,
      "outputs": [
        {
          "output_type": "stream",
          "text": [
            "x is an even number and less than 100\n"
          ],
          "name": "stdout"
        }
      ]
    },
    {
      "cell_type": "code",
      "metadata": {
        "colab": {
          "base_uri": "https://localhost:8080/"
        },
        "id": "152ZpmXs6Ucb",
        "outputId": "38041c70-5054-494a-99d0-744576f5126e"
      },
      "source": [
        "debug = True\n",
        "if debug: print(\"In debug Mode!\")\n",
        "\n",
        "# Output\n",
        "# In debug Mode!"
      ],
      "execution_count": 7,
      "outputs": [
        {
          "output_type": "stream",
          "text": [
            "In debug Mode!\n"
          ],
          "name": "stdout"
        }
      ]
    },
    {
      "cell_type": "code",
      "metadata": {
        "colab": {
          "base_uri": "https://localhost:8080/"
        },
        "id": "qB7NlLYj6V4D",
        "outputId": "c5104772-7620-4d56-e8a6-8ed2b1b3eed5"
      },
      "source": [
        "num = 10\n",
        "x = 'odd' if num % 2 else 'even'\n",
        "print(x)\n",
        "\n",
        "# Output\n",
        "# even"
      ],
      "execution_count": 8,
      "outputs": [
        {
          "output_type": "stream",
          "text": [
            "even\n"
          ],
          "name": "stdout"
        }
      ]
    }
  ]
}