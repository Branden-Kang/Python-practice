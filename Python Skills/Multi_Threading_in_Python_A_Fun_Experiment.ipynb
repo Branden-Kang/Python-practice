{
  "nbformat": 4,
  "nbformat_minor": 0,
  "metadata": {
    "colab": {
      "provenance": [],
      "authorship_tag": "ABX9TyPizo3sh/SjoIMiNcMWjD6P"
    },
    "kernelspec": {
      "name": "python3",
      "display_name": "Python 3"
    },
    "language_info": {
      "name": "python"
    }
  },
  "cells": [
    {
      "cell_type": "markdown",
      "source": [
        "[Reference](https://medium.com/the-research-nest/multi-threading-in-python-a-fun-experiment-482ff2468f2f)"
      ],
      "metadata": {
        "id": "eZtYlVMqyPzt"
      }
    },
    {
      "cell_type": "code",
      "execution_count": 3,
      "metadata": {
        "id": "tevujfSIyInh"
      },
      "outputs": [],
      "source": [
        "import requests\n",
        "import threading\n",
        "\n",
        "# Create an array of URLs (each number at the end refers to an anime page)\n",
        "urls = ['https://myanimelist.net/anime/{}'.format(i) for i in range(1, 21)]\n",
        "\n",
        "# Create the helper functions\n",
        "def download_url(url):\n",
        "    response = requests.get(url)\n",
        "    if response.status_code == 200:\n",
        "        return response.text\n",
        "    else:\n",
        "        return None\n",
        "\n",
        "# Normal method: loop through all URLs\n",
        "def download_all_urls(urls):\n",
        "    contents = []\n",
        "    for url in urls:\n",
        "        content = download_url(url)\n",
        "        contents.append(content)\n",
        "    return contents\n",
        "\n",
        "# Multithreading medhod\n",
        "def download_all_urls_multithreading(urls):\n",
        "    contents = []\n",
        "    threads = []\n",
        "\n",
        "    # Define a function to download the contents of a URL in a thread\n",
        "    def download_thread(url):\n",
        "        content = download_url(url)\n",
        "        contents.append(content)\n",
        "\n",
        "    # Create a thread for each URL and start it\n",
        "    for url in urls:\n",
        "        thread = threading.Thread(target=download_thread, args=(url,))\n",
        "        threads.append(thread)\n",
        "        thread.start()\n",
        "\n",
        "    # Wait for all threads to finish\n",
        "    for thread in threads:\n",
        "        thread.join()\n",
        "\n",
        "    return contents"
      ]
    },
    {
      "cell_type": "code",
      "source": [
        "import time\n",
        "import matplotlib.pyplot as plt\n",
        "\n",
        "# Measure the time taken by the normal method function\n",
        "start_time = time.time()\n",
        "contents_normal = download_all_urls(urls)\n",
        "end_time = time.time()\n",
        "time_normal = end_time - start_time\n",
        "\n",
        "# Print the time taken by the normal function\n",
        "print('Time taken by normal method: {:.2f} seconds'.format(time_normal))\n",
        "\n",
        "# Measure the time taken by the multithreading function\n",
        "start_time = time.time()\n",
        "contents_multithreading = download_all_urls_multithreading(urls)\n",
        "end_time = time.time()\n",
        "time_multithreading = end_time - start_time\n",
        "\n",
        "# Print the time taken by the multithreading function\n",
        "print('Time taken by multithreading method: {:.2f} seconds'.format(time_multithreading))\n",
        "\n",
        "# Set plot size\n",
        "plt.figure(figsize=(8, 6))\n",
        "\n",
        "# Create a bar chart\n",
        "labels = ['Normal Method', 'Multithreading Method']\n",
        "times = [time_normal, time_multithreading]\n",
        "plt.bar(labels, times)\n",
        "\n",
        "# Add annotations to the chart\n",
        "plt.title('Time Taken to Download Contents of All URLs')\n",
        "plt.xlabel('Method')\n",
        "plt.ylabel('Time (Seconds)')\n",
        "plt.ylim(top=max(times) + 5)\n",
        "for i, v in enumerate(times):\n",
        "    plt.text(i, v + 1, '{:.2f} s'.format(v), ha='center', va='bottom')\n",
        "\n",
        "# Display the chart\n",
        "plt.show()"
      ],
      "metadata": {
        "colab": {
          "base_uri": "https://localhost:8080/",
          "height": 598
        },
        "id": "6r-FT_75ycWo",
        "outputId": "7edb5683-897c-4fd0-9407-bb7fe905eb54"
      },
      "execution_count": 4,
      "outputs": [
        {
          "output_type": "stream",
          "name": "stdout",
          "text": [
            "Time taken by normal method: 12.68 seconds\n",
            "Time taken by multithreading method: 2.76 seconds\n"
          ]
        },
        {
          "output_type": "display_data",
          "data": {
            "text/plain": [
              "<Figure size 800x600 with 1 Axes>"
            ],
            "image/png": "[encoded data removed]"
          },
          "metadata": {}
        }
      ]
    },
    {
      "cell_type": "code",
      "source": [
        "# ThreadPool Executor method\n",
        "import concurrent.futures\n",
        "\n",
        "def download_all_urls_threadpool(urls):\n",
        "    contents = []\n",
        "\n",
        "    # Define a function to download the contents of a URL using the thread pool\n",
        "    def download_thread(url):\n",
        "        content = download_url(url)\n",
        "        return content\n",
        "\n",
        "    # Use a thread pool to download the contents of all URLs\n",
        "    with concurrent.futures.ThreadPoolExecutor() as executor:\n",
        "        futures = [executor.submit(download_thread, url) for url in urls]\n",
        "\n",
        "        # Wait for all futures to complete\n",
        "        for future in concurrent.futures.as_completed(futures):\n",
        "            content = future.result()\n",
        "            contents.append(content)\n",
        "    return contents"
      ],
      "metadata": {
        "id": "za0xdqFBydH1"
      },
      "execution_count": 5,
      "outputs": []
    }
  ]
}
