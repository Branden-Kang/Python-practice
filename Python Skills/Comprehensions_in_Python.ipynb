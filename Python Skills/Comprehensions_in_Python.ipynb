{
  "nbformat": 4,
  "nbformat_minor": 0,
  "metadata": {
    "colab": {
      "name": "Comprehensions in Python.ipynb",
      "provenance": [],
      "collapsed_sections": [],
      "authorship_tag": "ABX9TyNVhFs4GB5QJerDXjipf4xY"
    },
    "kernelspec": {
      "name": "python3",
      "display_name": "Python 3"
    },
    "language_info": {
      "name": "python"
    }
  },
  "cells": [
    {
      "cell_type": "markdown",
      "metadata": {
        "id": "iCgIErChubyu"
      },
      "source": [
        "[Reference](https://daniela-s-alzate.medium.com/comprehensions-in-python-b23542475ba4)"
      ]
    },
    {
      "cell_type": "markdown",
      "metadata": {
        "id": "Zi97krDVuFaG"
      },
      "source": [
        "# List Comprehension"
      ]
    },
    {
      "cell_type": "code",
      "metadata": {
        "colab": {
          "base_uri": "https://localhost:8080/"
        },
        "id": "cR3OC7Prn6Nc",
        "outputId": "ee9fbbaf-4801-4fbe-ab64-0d84015ed6d3"
      },
      "source": [
        "odd_nums = []\n",
        "for i in range(0, 100):\n",
        "  if i%2 != 0: \n",
        "    odd_nums.append(i)\n",
        "print(odd_nums)"
      ],
      "execution_count": 1,
      "outputs": [
        {
          "output_type": "stream",
          "name": "stdout",
          "text": [
            "[1, 3, 5, 7, 9, 11, 13, 15, 17, 19, 21, 23, 25, 27, 29, 31, 33, 35, 37, 39, 41, 43, 45, 47, 49, 51, 53, 55, 57, 59, 61, 63, 65, 67, 69, 71, 73, 75, 77, 79, 81, 83, 85, 87, 89, 91, 93, 95, 97, 99]\n"
          ]
        }
      ]
    },
    {
      "cell_type": "code",
      "metadata": {
        "colab": {
          "base_uri": "https://localhost:8080/"
        },
        "id": "Ni9qN66wuBPp",
        "outputId": "84aaa846-4b98-47b0-feda-2a6e1a646dc2"
      },
      "source": [
        "odd_nums = [i for i in range(0, 100) if i%2!=0]\n",
        "print(odd_nums)"
      ],
      "execution_count": 2,
      "outputs": [
        {
          "output_type": "stream",
          "name": "stdout",
          "text": [
            "[1, 3, 5, 7, 9, 11, 13, 15, 17, 19, 21, 23, 25, 27, 29, 31, 33, 35, 37, 39, 41, 43, 45, 47, 49, 51, 53, 55, 57, 59, 61, 63, 65, 67, 69, 71, 73, 75, 77, 79, 81, 83, 85, 87, 89, 91, 93, 95, 97, 99]\n"
          ]
        }
      ]
    },
    {
      "cell_type": "markdown",
      "metadata": {
        "id": "bKkCPGIZuLRt"
      },
      "source": [
        "# Dictionary Comprehension\n"
      ]
    },
    {
      "cell_type": "code",
      "metadata": {
        "colab": {
          "base_uri": "https://localhost:8080/"
        },
        "id": "tdhV1GKBuLF1",
        "outputId": "25c85c4a-0ef6-4a26-bfa7-d07add2ff137"
      },
      "source": [
        "fruits = {\"apples\":2, \"grapes\":3, \"bananas\":1, \"oranges\":4}\n",
        "tax_fruits = {}\n",
        "for key, value in fruits.items():\n",
        "    tax_fruits[key] = value+value*0.02\n",
        "print(tax_fruits)"
      ],
      "execution_count": 3,
      "outputs": [
        {
          "output_type": "stream",
          "name": "stdout",
          "text": [
            "{'apples': 2.04, 'grapes': 3.06, 'bananas': 1.02, 'oranges': 4.08}\n"
          ]
        }
      ]
    },
    {
      "cell_type": "code",
      "metadata": {
        "colab": {
          "base_uri": "https://localhost:8080/"
        },
        "id": "9lykpGhPuCoL",
        "outputId": "3f62c392-6540-4056-a7ef-4ebd63de09d3"
      },
      "source": [
        "fruits = {\"apples\":2, \"grapes\":3, \"bananas\":1, \"oranges\":4}\n",
        "tax_fruits = {key:value+value*0.02 for key, value in fruits.items()}\n",
        "print(tax_fruits)"
      ],
      "execution_count": 4,
      "outputs": [
        {
          "output_type": "stream",
          "name": "stdout",
          "text": [
            "{'apples': 2.04, 'grapes': 3.06, 'bananas': 1.02, 'oranges': 4.08}\n"
          ]
        }
      ]
    },
    {
      "cell_type": "markdown",
      "metadata": {
        "id": "cJlc70VluST7"
      },
      "source": [
        "# Set Comprehension"
      ]
    },
    {
      "cell_type": "code",
      "metadata": {
        "colab": {
          "base_uri": "https://localhost:8080/"
        },
        "id": "CqphtUBQuQ-I",
        "outputId": "24ab5eaf-ca2f-4217-aec1-146419ef42a3"
      },
      "source": [
        "powers_2 = set()\n",
        "for s in range(10):\n",
        "    powers_2.add(2**s)\n",
        "print(powers_2)"
      ],
      "execution_count": 5,
      "outputs": [
        {
          "output_type": "stream",
          "name": "stdout",
          "text": [
            "{32, 1, 2, 64, 4, 128, 256, 512, 8, 16}\n"
          ]
        }
      ]
    },
    {
      "cell_type": "code",
      "metadata": {
        "colab": {
          "base_uri": "https://localhost:8080/"
        },
        "id": "cBO06La_uUJh",
        "outputId": "ef668158-df9f-4888-b718-0fcc92f25bcc"
      },
      "source": [
        "powers_2 = {2**s for s in range(10)}\n",
        "print(powers_2)"
      ],
      "execution_count": 6,
      "outputs": [
        {
          "output_type": "stream",
          "name": "stdout",
          "text": [
            "{32, 1, 2, 64, 4, 128, 256, 512, 8, 16}\n"
          ]
        }
      ]
    }
  ]
}