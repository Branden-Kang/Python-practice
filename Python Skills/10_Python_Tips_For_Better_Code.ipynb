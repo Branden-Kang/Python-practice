{
  "nbformat": 4,
  "nbformat_minor": 0,
  "metadata": {
    "colab": {
      "name": "10 Python Tips For Better Code.ipynb",
      "provenance": [],
      "authorship_tag": "ABX9TyP6T88K7kSV45abX7gD89hx"
    },
    "kernelspec": {
      "name": "python3",
      "display_name": "Python 3"
    }
  },
  "cells": [
    {
      "cell_type": "markdown",
      "metadata": {
        "id": "OgjCIuBuj9iQ"
      },
      "source": [
        "[Reference](https://levelup.gitconnected.com/10-python-tips-for-better-code-1bbffde3b44d)"
      ]
    },
    {
      "cell_type": "markdown",
      "metadata": {
        "id": "y6naB_cPj_4i"
      },
      "source": [
        "# 1. Chaining Operators"
      ]
    },
    {
      "cell_type": "code",
      "metadata": {
        "colab": {
          "base_uri": "https://localhost:8080/"
        },
        "id": "GWKU0Pu5j4GT",
        "outputId": "8493bd91-1143-452e-d436-392f3cae0825"
      },
      "source": [
        "candidate_age = 25\n",
        "candidate_experience = 4\n",
        "candidate_salary_expectation = 85000\n",
        "\n",
        "if candidate_age > 18:\n",
        "    if candidate_experience >= 3:\n",
        "        if candidate_salary_expectation <= 100000:\n",
        "            print(\"You are eligible!\")\n",
        "        else:\n",
        "            print(\"You are not eligible!\")"
      ],
      "execution_count": 1,
      "outputs": [
        {
          "output_type": "stream",
          "text": [
            "You are eligible!\n"
          ],
          "name": "stdout"
        }
      ]
    },
    {
      "cell_type": "code",
      "metadata": {
        "colab": {
          "base_uri": "https://localhost:8080/"
        },
        "id": "PWpELxa9kt3C",
        "outputId": "afad4fd0-204b-4ed3-9db3-caf8dc2220e7"
      },
      "source": [
        "if candidate_age > 18 &candidate_experience >= 3 & candidate_salary_expectation <= 100000:\n",
        "    print(\"You are eligible!\")\n",
        "else:\n",
        "    print(\"You are not eligible!\")"
      ],
      "execution_count": 2,
      "outputs": [
        {
          "output_type": "stream",
          "text": [
            "You are eligible!\n"
          ],
          "name": "stdout"
        }
      ]
    },
    {
      "cell_type": "markdown",
      "metadata": {
        "id": "DhmSWkg6k6Ga"
      },
      "source": [
        "# 2. Formatting Larger Numbers"
      ]
    },
    {
      "cell_type": "code",
      "metadata": {
        "colab": {
          "base_uri": "https://localhost:8080/"
        },
        "id": "8uwunO7Qkzse",
        "outputId": "307a75c7-221a-40ff-cf81-3fe3fb79f910"
      },
      "source": [
        "num1 = 1135126214\n",
        "num2 = 6_123_124_123\n",
        "\n",
        "sum = num1+num2\n",
        "print(f\"{sum:,}\")"
      ],
      "execution_count": 5,
      "outputs": [
        {
          "output_type": "stream",
          "text": [
            "7,258,250,337\n"
          ],
          "name": "stdout"
        }
      ]
    },
    {
      "cell_type": "markdown",
      "metadata": {
        "id": "3BW8CIJ0lTVx"
      },
      "source": [
        "# 3. Inline Conditionals"
      ]
    },
    {
      "cell_type": "code",
      "metadata": {
        "colab": {
          "base_uri": "https://localhost:8080/"
        },
        "id": "cp3-bjcRlHWu",
        "outputId": "c6aff0a9-1d52-4c0c-b6e1-f51bca95e685"
      },
      "source": [
        "x = 5\n",
        "if x==5: print('x equals 5')\n",
        "for i in range(x+5): print(i)   "
      ],
      "execution_count": 6,
      "outputs": [
        {
          "output_type": "stream",
          "text": [
            "x equals 5\n",
            "0\n",
            "1\n",
            "2\n",
            "3\n",
            "4\n",
            "5\n",
            "6\n",
            "7\n",
            "8\n",
            "9\n"
          ],
          "name": "stdout"
        }
      ]
    },
    {
      "cell_type": "code",
      "metadata": {
        "id": "CGOl8pvflW_B"
      },
      "source": [
        "condition = True\n",
        "if condition: x=1\n",
        "else: x=0"
      ],
      "execution_count": 7,
      "outputs": []
    },
    {
      "cell_type": "code",
      "metadata": {
        "id": "pEIs69YalYBX"
      },
      "source": [
        "condition = True\n",
        "x = 1 if condition else 0"
      ],
      "execution_count": 9,
      "outputs": []
    },
    {
      "cell_type": "code",
      "metadata": {
        "colab": {
          "base_uri": "https://localhost:8080/"
        },
        "id": "hbxy1hR4laR2",
        "outputId": "93d527d5-4f8d-4b8c-9a80-5d84e01bb22e"
      },
      "source": [
        "check = lambda x:True if x%5==0 else False\n",
        "check(10) ## True\n",
        "check(12) ## False"
      ],
      "execution_count": 10,
      "outputs": [
        {
          "output_type": "execute_result",
          "data": {
            "text/plain": [
              "False"
            ]
          },
          "metadata": {
            "tags": []
          },
          "execution_count": 10
        }
      ]
    },
    {
      "cell_type": "markdown",
      "metadata": {
        "id": "EfSne7UDlsbW"
      },
      "source": [
        "# 4. List Comprehensions"
      ]
    },
    {
      "cell_type": "code",
      "metadata": {
        "colab": {
          "base_uri": "https://localhost:8080/"
        },
        "id": "evaLVvlclnO-",
        "outputId": "98ed4348-fee3-45dd-81ae-1b8c2e7546a6"
      },
      "source": [
        "squares = [i*i for i in range(10)]\n",
        "print(squares)"
      ],
      "execution_count": 11,
      "outputs": [
        {
          "output_type": "stream",
          "text": [
            "[0, 1, 4, 9, 16, 25, 36, 49, 64, 81]\n"
          ],
          "name": "stdout"
        }
      ]
    },
    {
      "cell_type": "code",
      "metadata": {
        "colab": {
          "base_uri": "https://localhost:8080/"
        },
        "id": "1PtUTq9fl1Q6",
        "outputId": "3aa132cf-8367-4eec-a88c-d354f2195c2a"
      },
      "source": [
        "squares = [i*i for i in range(10) if i%2==0]\n",
        "print(squares)"
      ],
      "execution_count": 12,
      "outputs": [
        {
          "output_type": "stream",
          "text": [
            "[0, 4, 16, 36, 64]\n"
          ],
          "name": "stdout"
        }
      ]
    },
    {
      "cell_type": "markdown",
      "metadata": {
        "id": "fDdy3hsjl_yg"
      },
      "source": [
        "# 5. F- Strings"
      ]
    },
    {
      "cell_type": "code",
      "metadata": {
        "id": "huuv7roKl6Th"
      },
      "source": [
        "name = 'Abhay'\n",
        "age = 20"
      ],
      "execution_count": 19,
      "outputs": []
    },
    {
      "cell_type": "code",
      "metadata": {
        "colab": {
          "base_uri": "https://localhost:8080/"
        },
        "id": "KkoBIbvVmBV0",
        "outputId": "88fc58e4-77ca-4719-f75c-f0d4ad90be57"
      },
      "source": [
        "print(\"Hey This is \",name,\"and I am \",age)  ## value assignment"
      ],
      "execution_count": 14,
      "outputs": [
        {
          "output_type": "stream",
          "text": [
            "Hey This is  Abhay and I am  20\n"
          ],
          "name": "stdout"
        }
      ]
    },
    {
      "cell_type": "code",
      "metadata": {
        "colab": {
          "base_uri": "https://localhost:8080/"
        },
        "id": "yP5VvHaHmCy2",
        "outputId": "4c80ac42-106b-42a2-d59c-c090ce0d74e3"
      },
      "source": [
        "print(\"Hey This is \"+name+\"and I am \"+str(age)) ## concatenation"
      ],
      "execution_count": 15,
      "outputs": [
        {
          "output_type": "stream",
          "text": [
            "Hey This is Abhayand I am 20\n"
          ],
          "name": "stdout"
        }
      ]
    },
    {
      "cell_type": "code",
      "metadata": {
        "colab": {
          "base_uri": "https://localhost:8080/"
        },
        "id": "uvgcdAYRmCKQ",
        "outputId": "dad3e40a-8522-4a5d-eea3-9b93b9f2655c"
      },
      "source": [
        "print(\"Hey This is {} and I am {}\".format(name,age))"
      ],
      "execution_count": 16,
      "outputs": [
        {
          "output_type": "stream",
          "text": [
            "Hey This is Abhay and I am 20\n"
          ],
          "name": "stdout"
        }
      ]
    },
    {
      "cell_type": "code",
      "metadata": {
        "colab": {
          "base_uri": "https://localhost:8080/"
        },
        "id": "k3vSZpcgmEOD",
        "outputId": "1a4b5514-3110-42cd-9267-1326909b21e0"
      },
      "source": [
        "name = 'Abhay'\n",
        "age =20\n",
        "print(f\"Hey This is {name} and I am {age}\")"
      ],
      "execution_count": 17,
      "outputs": [
        {
          "output_type": "stream",
          "text": [
            "Hey This is Abhay and I am 20\n"
          ],
          "name": "stdout"
        }
      ]
    },
    {
      "cell_type": "markdown",
      "metadata": {
        "id": "vBYHLJkRnB8Y"
      },
      "source": [
        "# 6. Enumerate"
      ]
    },
    {
      "cell_type": "code",
      "metadata": {
        "colab": {
          "base_uri": "https://localhost:8080/"
        },
        "id": "BPKxc5K_mK7v",
        "outputId": "c5f89e8f-961b-495a-ef4a-c07a0170849b"
      },
      "source": [
        "list_ = [1,2,3,4,5,6]\n",
        "for index, value in enumerate(list_):\n",
        "    if value%2==0:\n",
        "        list_[index]='Even'\n",
        "    else:\n",
        "        list_[index]='Odd'\n",
        "print(list_)"
      ],
      "execution_count": 20,
      "outputs": [
        {
          "output_type": "stream",
          "text": [
            "['Odd', 'Even', 'Odd', 'Even', 'Odd', 'Even']\n"
          ],
          "name": "stdout"
        }
      ]
    },
    {
      "cell_type": "markdown",
      "metadata": {
        "id": "irzOJOnknTJ6"
      },
      "source": [
        "# 7. Argument Unpacking"
      ]
    },
    {
      "cell_type": "code",
      "metadata": {
        "colab": {
          "base_uri": "https://localhost:8080/"
        },
        "id": "9T7tG68HnObK",
        "outputId": "a14f2436-13bb-47a7-f64a-b84b62d0c00f"
      },
      "source": [
        "info = [['Branden','James','Chris'],[20,30,28],['branden@gmail.com','james@gmail.com','chris@gmail.com']]\n",
        "name, age, email = info\n",
        "print(name)\n",
        "print(age)\n",
        "print(email)"
      ],
      "execution_count": 21,
      "outputs": [
        {
          "output_type": "stream",
          "text": [
            "['Branden', 'James', 'Chris']\n",
            "[20, 30, 28]\n",
            "['branden@gmail.com', 'james@gmail.com', 'chris@gmail.com']\n"
          ],
          "name": "stdout"
        }
      ]
    },
    {
      "cell_type": "markdown",
      "metadata": {
        "id": "nxYQDdBRqNtC"
      },
      "source": [
        "# 8. Return Many Values From Function"
      ]
    },
    {
      "cell_type": "code",
      "metadata": {
        "colab": {
          "base_uri": "https://localhost:8080/"
        },
        "id": "3d5L9-x9qInJ",
        "outputId": "f8073106-e2f1-4b87-97b1-5c80ecad791f"
      },
      "source": [
        "def marks(sub1,sub2,sub3,sub4):\n",
        "    percentage = ((sub1+sub2+sub3+sub4)*100)/400\n",
        "    if percentage >= 60: result = 'Pass'\n",
        "    elif percentage<40: result = 'Fail'\n",
        "\n",
        "    return percentage, result\n",
        "\n",
        "percentage, result = marks(100, 80, 90, 70)\n",
        "print(f\"My result is {result} and percentage is {percentage}\")"
      ],
      "execution_count": 23,
      "outputs": [
        {
          "output_type": "stream",
          "text": [
            "My result is Pass and percentage is 85.0\n"
          ],
          "name": "stdout"
        }
      ]
    },
    {
      "cell_type": "markdown",
      "metadata": {
        "id": "2GcBhCfBq85C"
      },
      "source": [
        "# 9. Comments"
      ]
    },
    {
      "cell_type": "code",
      "metadata": {
        "id": "YGn9NZG9qrfq"
      },
      "source": [
        "def sub(num1,num2):\n",
        "    '''\n",
        "    This sub function subtract two numbers and return the subtraction.\n",
        "    '''\n",
        "    print(num1-num2)"
      ],
      "execution_count": 24,
      "outputs": []
    }
  ]
}