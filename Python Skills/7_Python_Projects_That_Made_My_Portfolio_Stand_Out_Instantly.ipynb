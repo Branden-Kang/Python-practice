{
  "nbformat": 4,
  "nbformat_minor": 0,
  "metadata": {
    "colab": {
      "provenance": [],
      "authorship_tag": "ABX9TyPyBSjzLDpss/Hwysgm/96G"
    },
    "kernelspec": {
      "name": "python3",
      "display_name": "Python 3"
    },
    "language_info": {
      "name": "python"
    }
  },
  "cells": [
    {
      "cell_type": "markdown",
      "source": [
        "[Reference](https://medium.com/pythoneers/7-python-projects-that-made-my-portfolio-stand-out-instantly-c88f46719237)"
      ],
      "metadata": {
        "id": "1nOPCVFC85br"
      }
    },
    {
      "cell_type": "markdown",
      "source": [
        "# 1. Job Skills Highlighter\n"
      ],
      "metadata": {
        "id": "rBQYegZI87bv"
      }
    },
    {
      "cell_type": "code",
      "execution_count": 1,
      "metadata": {
        "colab": {
          "base_uri": "https://localhost:8080/"
        },
        "id": "va5Vohpc83mk",
        "outputId": "c6832c46-63f3-4838-d6ca-235898bdfbe7"
      },
      "outputs": [
        {
          "output_type": "stream",
          "name": "stdout",
          "text": [
            "Missing: {'django', 'for', 'looking', 'experience', 'aws'}\n"
          ]
        }
      ],
      "source": [
        "import re\n",
        "def find_gaps(job_desc, resume):\n",
        "    job_words = set(re.findall(r\"\\w+\", job_desc.lower()))\n",
        "    resume_words = set(re.findall(r\"\\w+\", resume.lower()))\n",
        "    return job_words - resume_words\n",
        "jd = \"Looking for Python, Django, AWS, SQL experience.\"\n",
        "resume = \"Experienced in Python and SQL.\"\n",
        "print(\"Missing:\", find_gaps(jd, resume))"
      ]
    },
    {
      "cell_type": "markdown",
      "source": [
        "# 2. GitHub Timeline Dashboard"
      ],
      "metadata": {
        "id": "8pKoCyEJ89f8"
      }
    },
    {
      "cell_type": "code",
      "source": [
        "import requests\n",
        "import matplotlib.pyplot as plt\n",
        "from datetime import datetime\n",
        "url = \"https://api.github.com/repos/octocat/Hello-World/commits\"\n",
        "commits = requests.get(url).json()\n",
        "dates = [datetime.fromisoformat(c['commit']['author']['date'][:-1]) for c in commits]\n",
        "plt.plot(sorted(dates), range(len(dates)))\n",
        "plt.title(\"My Coding Timeline\")\n",
        "plt.show()"
      ],
      "metadata": {
        "colab": {
          "base_uri": "https://localhost:8080/",
          "height": 452
        },
        "id": "tBT2cay-88gF",
        "outputId": "40e794f9-0094-4505-823b-d08039a9a0ef"
      },
      "execution_count": 2,
      "outputs": [
        {
          "output_type": "display_data",
          "data": {
            "text/plain": [
              "<Figure size 640x480 with 1 Axes>"
            ],
            "image/png": "[encoded data removed]"
          },
          "metadata": {}
        }
      ]
    },
    {
      "cell_type": "markdown",
      "source": [
        "# 3. Market Trend Scraper\n"
      ],
      "metadata": {
        "id": "0jlLy7Ax9DS4"
      }
    },
    {
      "cell_type": "code",
      "source": [
        "import requests\n",
        "from bs4 import BeautifulSoup\n",
        "from collections import Counter\n",
        "skills = Counter()\n",
        "html = requests.get(\"https://www.indeed.com/jobs?q=python+developer\").text\n",
        "soup = BeautifulSoup(html, \"html.parser\")\n",
        "for post in soup.find_all(\"div\", class_=\"job_seen_beacon\"):\n",
        "    text = post.get_text().lower()\n",
        "    for skill in [\"flask\", \"django\", \"sql\", \"aws\", \"docker\"]:\n",
        "        if skill in text: skills[skill] += 1\n",
        "print(skills.most_common())"
      ],
      "metadata": {
        "colab": {
          "base_uri": "https://localhost:8080/"
        },
        "id": "dhQv0iuE9GwL",
        "outputId": "7901af68-c2c0-4229-dd1f-2199e46ee6a7"
      },
      "execution_count": 3,
      "outputs": [
        {
          "output_type": "stream",
          "name": "stdout",
          "text": [
            "[]\n"
          ]
        }
      ]
    },
    {
      "cell_type": "markdown",
      "source": [
        "# 4. Auto-Generated Portfolio Page\n"
      ],
      "metadata": {
        "id": "r8Siv0Pv9KGx"
      }
    },
    {
      "cell_type": "code",
      "source": [
        "import requests\n",
        "repos = requests.get(\"https://api.github.com/users/octocat/repos\").json()\n",
        "with open(\"portfolio.html\", \"w\") as f:\n",
        "    f.write(\"<h2>My Projects</h2><ul>\")\n",
        "    for r in repos:\n",
        "        f.write(f\"<li><a href='{r['html_url']}'>{r['name']}</a></li>\")\n",
        "    f.write(\"</ul>\")"
      ],
      "metadata": {
        "id": "S3gNd-Qe9G77"
      },
      "execution_count": 4,
      "outputs": []
    },
    {
      "cell_type": "markdown",
      "source": [
        "# 5. Salary Predictor Tool\n"
      ],
      "metadata": {
        "id": "5NUSKFzN9NIy"
      }
    },
    {
      "cell_type": "code",
      "source": [
        "import pandas as pd\n",
        "from sklearn.linear_model import LinearRegression\n",
        "df = pd.read_csv(\"salary_data.csv\")\n",
        "X = df[[\"years_exp\", \"skills_count\"]]\n",
        "y = df[\"salary\"]\n",
        "model = LinearRegression().fit(X, y)\n",
        "print(\"Predicted:\", model.predict([[5, 7]])[0])"
      ],
      "metadata": {
        "id": "8iX7-RSm9Lyr"
      },
      "execution_count": 6,
      "outputs": []
    },
    {
      "cell_type": "markdown",
      "source": [
        "# 6. Interview Prep PDF\n"
      ],
      "metadata": {
        "id": "eUrIFyHK9Sdd"
      }
    },
    {
      "cell_type": "code",
      "source": [
        "!pip install fpdf"
      ],
      "metadata": {
        "colab": {
          "base_uri": "https://localhost:8080/"
        },
        "id": "_kvdAViL9VAm",
        "outputId": "bb246205-6ee2-411a-d89c-b8834f141f44"
      },
      "execution_count": 8,
      "outputs": [
        {
          "output_type": "stream",
          "name": "stdout",
          "text": [
            "Collecting fpdf\n",
            "  Downloading fpdf-1.7.2.tar.gz (39 kB)\n",
            "  Preparing metadata (setup.py) ... \u001b[?25l\u001b[?25hdone\n",
            "Building wheels for collected packages: fpdf\n",
            "  Building wheel for fpdf (setup.py) ... \u001b[?25l\u001b[?25hdone\n",
            "  Created wheel for fpdf: filename=fpdf-1.7.2-py2.py3-none-any.whl size=40704 sha256=c25aaeaf694c9a1d72f7403368d6f3a292ff8281d0eb66252de909db2390f5b9\n",
            "  Stored in directory: /root/.cache/pip/wheels/6e/62/11/dc73d78e40a218ad52e7451f30166e94491be013a7850b5d75\n",
            "Successfully built fpdf\n",
            "Installing collected packages: fpdf\n",
            "Successfully installed fpdf-1.7.2\n"
          ]
        }
      ]
    },
    {
      "cell_type": "code",
      "source": [
        "from fpdf import FPDF\n",
        "pdf = FPDF()\n",
        "pdf.add_page()\n",
        "pdf.set_font(\"Arial\", size=12)\n",
        "for topic in [\"Python basics\", \"SQL joins\", \"OOP\"]:\n",
        "    pdf.cell(200, 10, txt=topic, ln=True)\n",
        "pdf.output(\"prep_notes.pdf\")"
      ],
      "metadata": {
        "colab": {
          "base_uri": "https://localhost:8080/",
          "height": 35
        },
        "id": "ZrHwqV3-9PCd",
        "outputId": "90ad71e7-c357-4974-9995-5152d3668fac"
      },
      "execution_count": 9,
      "outputs": [
        {
          "output_type": "execute_result",
          "data": {
            "text/plain": [
              "''"
            ],
            "application/vnd.google.colaboratory.intrinsic+json": {
              "type": "string"
            }
          },
          "metadata": {},
          "execution_count": 9
        }
      ]
    },
    {
      "cell_type": "markdown",
      "source": [
        "# 7. Resume Scoring AI\n"
      ],
      "metadata": {
        "id": "4rZ-gsVr9XmG"
      }
    },
    {
      "cell_type": "code",
      "source": [
        "from sentence_transformers import SentenceTransformer, util\n",
        "model = SentenceTransformer(\"all-MiniLM-L6-v2\")\n",
        "job = open(\"job.txt\").read()\n",
        "resume = open(\"resume.txt\").read()\n",
        "score = util.cos_sim(model.encode(job), model.encode(resume))\n",
        "print(\"Match Score:\", round(score.item(), 2))"
      ],
      "metadata": {
        "id": "LJe7F1c29UR3"
      },
      "execution_count": 11,
      "outputs": []
    }
  ]
}
