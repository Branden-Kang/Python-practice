{
  "nbformat": 4,
  "nbformat_minor": 0,
  "metadata": {
    "colab": {
      "name": "Python Use Cases That Only a Few Programmers Know.ipynb",
      "provenance": [],
      "authorship_tag": "ABX9TyM7QyxbNYpagQpDm7mXrfWN"
    },
    "kernelspec": {
      "name": "python3",
      "display_name": "Python 3"
    },
    "language_info": {
      "name": "python"
    }
  },
  "cells": [
    {
      "cell_type": "markdown",
      "source": [
        "[Reference](https://levelup.gitconnected.com/5-python-use-cases-that-only-a-few-programmers-know-35e25ddf13d4)"
      ],
      "metadata": {
        "id": "EAqMMWuwRql5"
      }
    },
    {
      "cell_type": "markdown",
      "source": [
        "# Python for Writing Shell Scripts\n"
      ],
      "metadata": {
        "id": "RbWWffqCRgGV"
      }
    },
    {
      "cell_type": "code",
      "source": [
        "import tempfile\n",
        "import os.path\n",
        "from shellpython.helpers import Dir\n",
        "\n",
        "# We will make everything in temp directory. Dir helper allows you to change current directory\n",
        "# withing 'with' block\n",
        "with Dir(tempfile.gettempdir()):\n",
        "    if not os.path.exists('shellpy'):\n",
        "        # just executes shell command\n",
        "        `git clone https://github.com/lamerman/shellpy.git\n",
        "\n",
        "    # switch to newly created tempdirectory/shellpy\n",
        "    with Dir('shellpy'):\n",
        "        # here we capture result of shell execution. log here is an instance of Result class\n",
        "        log = `git log --pretty=oneline --grep='Create'\n",
        "\n",
        "        # shellpy allows you to iterate over lines in stdout with this syntactic sugar\n",
        "        for line in log:\n",
        "            if line.find('README.md'):\n",
        "                hashcode = log.stdout.split(' ')[0]\n",
        "                print hashcode\n",
        "                exit(0)\n",
        "\n",
        "        print 'The commit where the readme was created was not found'\n",
        "\n",
        "exit(1)"
      ],
      "metadata": {
        "id": "T-9TfUzRRdUm"
      },
      "execution_count": 5,
      "outputs": []
    },
    {
      "cell_type": "markdown",
      "source": [
        "# Create CLI Programs in Record Time\n"
      ],
      "metadata": {
        "id": "Sgbcn4xCRCFm"
      }
    },
    {
      "cell_type": "code",
      "source": [
        "pip install fire"
      ],
      "metadata": {
        "colab": {
          "base_uri": "https://localhost:8080/"
        },
        "id": "nFkRzybdQ3VZ",
        "outputId": "d40e1730-99fc-458c-e000-eac285480be1"
      },
      "execution_count": 2,
      "outputs": [
        {
          "output_type": "stream",
          "name": "stdout",
          "text": [
            "Collecting fire\n",
            "  Downloading fire-0.4.0.tar.gz (87 kB)\n",
            "\u001b[?25l\r\u001b[K     |███▊                            | 10 kB 21.2 MB/s eta 0:00:01\r\u001b[K     |███████▌                        | 20 kB 24.2 MB/s eta 0:00:01\r\u001b[K     |███████████▏                    | 30 kB 28.4 MB/s eta 0:00:01\r\u001b[K     |███████████████                 | 40 kB 31.9 MB/s eta 0:00:01\r\u001b[K     |██████████████████▊             | 51 kB 27.0 MB/s eta 0:00:01\r\u001b[K     |██████████████████████▍         | 61 kB 24.6 MB/s eta 0:00:01\r\u001b[K     |██████████████████████████▏     | 71 kB 22.3 MB/s eta 0:00:01\r\u001b[K     |██████████████████████████████  | 81 kB 23.4 MB/s eta 0:00:01\r\u001b[K     |████████████████████████████████| 87 kB 5.9 MB/s \n",
            "\u001b[?25hRequirement already satisfied: six in /usr/local/lib/python3.7/dist-packages (from fire) (1.15.0)\n",
            "Requirement already satisfied: termcolor in /usr/local/lib/python3.7/dist-packages (from fire) (1.1.0)\n",
            "Building wheels for collected packages: fire\n",
            "  Building wheel for fire (setup.py) ... \u001b[?25l\u001b[?25hdone\n",
            "  Created wheel for fire: filename=fire-0.4.0-py2.py3-none-any.whl size=115943 sha256=a665cb20a0e64fd09bacb8b4ad886372781a47f05f1515fe20d8bd2f2f668297\n",
            "  Stored in directory: /root/.cache/pip/wheels/8a/67/fb/2e8a12fa16661b9d5af1f654bd199366799740a85c64981226\n",
            "Successfully built fire\n",
            "Installing collected packages: fire\n",
            "Successfully installed fire-0.4.0\n"
          ]
        }
      ]
    },
    {
      "cell_type": "code",
      "execution_count": 4,
      "metadata": {
        "id": "1Oml0HaEQd9e"
      },
      "outputs": [],
      "source": [
        "import fire\n",
        "\n",
        "def add(a, b):\n",
        "  return a + b \n",
        "\n",
        "def sub(a, b):\n",
        "  return a - b\n",
        "\n",
        "if __name__ == '__main__':\n",
        "  fire.Fire()"
      ]
    }
  ]
}