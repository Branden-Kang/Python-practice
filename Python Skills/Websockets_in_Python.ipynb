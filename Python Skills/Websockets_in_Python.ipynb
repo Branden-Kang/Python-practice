{
  "nbformat": 4,
  "nbformat_minor": 0,
  "metadata": {
    "colab": {
      "provenance": [],
      "authorship_tag": "ABX9TyO1M5fNjdYl1IrYu6WkI/+1"
    },
    "kernelspec": {
      "name": "python3",
      "display_name": "Python 3"
    },
    "language_info": {
      "name": "python"
    }
  },
  "cells": [
    {
      "cell_type": "markdown",
      "source": [
        "[Reference](https://blog.stackademic.com/websockets-in-python-e8f845d52640)"
      ],
      "metadata": {
        "id": "l2hDubfNvzYa"
      }
    },
    {
      "cell_type": "code",
      "execution_count": 1,
      "metadata": {
        "colab": {
          "base_uri": "https://localhost:8080/"
        },
        "id": "Aax1PSGmvZLl",
        "outputId": "28259882-cd93-4556-f4e8-2575f13b7587"
      },
      "outputs": [
        {
          "output_type": "stream",
          "name": "stdout",
          "text": [
            "Collecting websockets\n",
            "  Downloading websockets-12.0-cp310-cp310-manylinux_2_5_x86_64.manylinux1_x86_64.manylinux_2_17_x86_64.manylinux2014_x86_64.whl (130 kB)\n",
            "\u001b[?25l     \u001b[90m━━━━━━━━━━━━━━━━━━━━━━━━━━━━━━━━━━━━━━━━\u001b[0m \u001b[32m0.0/130.2 kB\u001b[0m \u001b[31m?\u001b[0m eta \u001b[36m-:--:--\u001b[0m\r\u001b[2K     \u001b[91m━━━━━━━━━\u001b[0m\u001b[90m╺\u001b[0m\u001b[90m━━━━━━━━━━━━━━━━━━━━━━━━━━━━━━\u001b[0m \u001b[32m30.7/130.2 kB\u001b[0m \u001b[31m1.1 MB/s\u001b[0m eta \u001b[36m0:00:01\u001b[0m\r\u001b[2K     \u001b[91m━━━━━━━━━━━━━━━━━━━━━━━━━━━━━━━━━━━━━\u001b[0m\u001b[91m╸\u001b[0m\u001b[90m━━\u001b[0m \u001b[32m122.9/130.2 kB\u001b[0m \u001b[31m2.0 MB/s\u001b[0m eta \u001b[36m0:00:01\u001b[0m\r\u001b[2K     \u001b[90m━━━━━━━━━━━━━━━━━━━━━━━━━━━━━━━━━━━━━━━━\u001b[0m \u001b[32m130.2/130.2 kB\u001b[0m \u001b[31m1.4 MB/s\u001b[0m eta \u001b[36m0:00:00\u001b[0m\n",
            "\u001b[?25hInstalling collected packages: websockets\n",
            "Successfully installed websockets-12.0\n"
          ]
        }
      ],
      "source": [
        "pip install websockets"
      ]
    },
    {
      "cell_type": "markdown",
      "source": [
        "# Creating a WebSocket Server"
      ],
      "metadata": {
        "id": "95DO6s86v6q1"
      }
    },
    {
      "cell_type": "code",
      "source": [
        "import asyncio\n",
        "import websockets\n",
        "\n",
        "async def hello(websocket):\n",
        "    name = await websocket.recv()\n",
        "    print(f'Server Received: {name}')\n",
        "    greeting = f\"Hello {name}!\"\n",
        "\n",
        "    await websocket.send(greeting)\n",
        "    print(f'Server Sent: {greeting}')\n",
        "\n",
        "async def main():\n",
        "    async with websockets.serve(hello, \"localhost\", 8765):\n",
        "        await asyncio.Future()  # run forever\n",
        "\n",
        "if __name__ == \"__main__\":\n",
        "    asyncio.run(main())"
      ],
      "metadata": {
        "id": "4y19hEEOv7Nb"
      },
      "execution_count": 2,
      "outputs": []
    },
    {
      "cell_type": "markdown",
      "source": [
        "# Creating a WebSocket Client"
      ],
      "metadata": {
        "id": "PseBemHKv-FB"
      }
    },
    {
      "cell_type": "code",
      "source": [
        "import websockets\n",
        "import asyncio\n",
        "\n",
        "async def hello():\n",
        "    uri = \"ws://localhost:8765\"\n",
        "    async with websockets.connect(uri) as websocket:\n",
        "        name = input(\"What's your name? \")\n",
        "\n",
        "        await websocket.send(name)\n",
        "        print(f'Client sent: {name}')\n",
        "\n",
        "        greeting = await websocket.recv()\n",
        "        print(f\"Client received: {greeting}\")\n",
        "\n",
        "if __name__ == \"__main__\":\n",
        "    asyncio.run(hello())"
      ],
      "metadata": {
        "id": "PRv0VvQ8v8le"
      },
      "execution_count": 3,
      "outputs": []
    }
  ]
}
