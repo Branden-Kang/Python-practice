{
  "nbformat": 4,
  "nbformat_minor": 0,
  "metadata": {
    "colab": {
      "name": "Magic Methods in Python.ipynb",
      "provenance": [],
      "authorship_tag": "ABX9TyMkPofYyBcPwpkKM9S93hFo"
    },
    "kernelspec": {
      "name": "python3",
      "display_name": "Python 3"
    }
  },
  "cells": [
    {
      "cell_type": "markdown",
      "metadata": {
        "id": "x4MGWDinPrLH",
        "colab_type": "text"
      },
      "source": [
        "[Reference](https://medium.com/better-programming/5-pairs-of-magic-methods-in-python-you-should-know-f98f0e5356d6)"
      ]
    },
    {
      "cell_type": "markdown",
      "metadata": {
        "id": "ob_N0f6-QE-c",
        "colab_type": "text"
      },
      "source": [
        "# 1. Instantiation: __new__ and __init__"
      ]
    },
    {
      "cell_type": "code",
      "metadata": {
        "id": "7DsfZwnGPpXs",
        "colab_type": "code",
        "colab": {}
      },
      "source": [
        "class Product:\n",
        "  def __new__(cls, *args):\n",
        "    new_product = object.__new__(cls)\n",
        "    print(\"Product __new__ gets called\")\n",
        "    return new_product\n",
        "\n",
        "  def __init__(self, name, price):\n",
        "    self.name = name\n",
        "    self.price = price\n",
        "    print(\"Product __init__ gets called\")"
      ],
      "execution_count": 1,
      "outputs": []
    },
    {
      "cell_type": "code",
      "metadata": {
        "id": "wCdOCPoFP5EU",
        "colab_type": "code",
        "colab": {
          "base_uri": "https://localhost:8080/",
          "height": 51
        },
        "outputId": "c0669f2f-efef-451e-98d1-34140d80e2ce"
      },
      "source": [
        "product = Product(\"Vacuum\", 150.0)"
      ],
      "execution_count": 2,
      "outputs": [
        {
          "output_type": "stream",
          "text": [
            "Product __new__ gets called\n",
            "Product __init__ gets called\n"
          ],
          "name": "stdout"
        }
      ]
    },
    {
      "cell_type": "markdown",
      "metadata": {
        "id": "Zw3eJpFmQLt5",
        "colab_type": "text"
      },
      "source": [
        "# 2. String Representation: __repr__ and __str__"
      ]
    },
    {
      "cell_type": "code",
      "metadata": {
        "id": "dWq2J4WwP5rp",
        "colab_type": "code",
        "colab": {}
      },
      "source": [
        "class Product:\n",
        "  def __init__(self, name, price):\n",
        "    self.name = name\n",
        "    self.price = price\n",
        "\n",
        "  def __repr__(self):\n",
        "    return f\"Product({self.name!r}, {self.price!r})\"\n",
        "\n",
        "  def __str__(self):\n",
        "    return f\"Product: {self.name}, ${self.price:.2f}\""
      ],
      "execution_count": 3,
      "outputs": []
    },
    {
      "cell_type": "code",
      "metadata": {
        "id": "mEAPeRpxQSq2",
        "colab_type": "code",
        "colab": {}
      },
      "source": [
        "product = Product(\"Vacuum\", 150.0)"
      ],
      "execution_count": 4,
      "outputs": []
    },
    {
      "cell_type": "code",
      "metadata": {
        "id": "JlgsrVU-QYl4",
        "colab_type": "code",
        "colab": {
          "base_uri": "https://localhost:8080/",
          "height": 37
        },
        "outputId": "ef869a83-fe9c-451b-abe3-9fcc17b824a7"
      },
      "source": [
        "repr(product)"
      ],
      "execution_count": 5,
      "outputs": [
        {
          "output_type": "execute_result",
          "data": {
            "application/vnd.google.colaboratory.intrinsic+json": {
              "type": "string"
            },
            "text/plain": [
              "\"Product('Vacuum', 150.0)\""
            ]
          },
          "metadata": {
            "tags": []
          },
          "execution_count": 5
        }
      ]
    },
    {
      "cell_type": "code",
      "metadata": {
        "id": "DpEB41qvQZ6M",
        "colab_type": "code",
        "colab": {}
      },
      "source": [
        "evaluated = eval(repr(product))"
      ],
      "execution_count": 6,
      "outputs": []
    },
    {
      "cell_type": "code",
      "metadata": {
        "id": "ASnNsOZmQbXP",
        "colab_type": "code",
        "colab": {
          "base_uri": "https://localhost:8080/",
          "height": 34
        },
        "outputId": "3a9a58d8-e9ec-4d70-dac5-96addc8cbf0d"
      },
      "source": [
        "type(evaluated)"
      ],
      "execution_count": 7,
      "outputs": [
        {
          "output_type": "execute_result",
          "data": {
            "text/plain": [
              "__main__.Product"
            ]
          },
          "metadata": {
            "tags": []
          },
          "execution_count": 7
        }
      ]
    },
    {
      "cell_type": "code",
      "metadata": {
        "id": "7_Ljv9AYQcYi",
        "colab_type": "code",
        "colab": {
          "base_uri": "https://localhost:8080/",
          "height": 34
        },
        "outputId": "17fee630-3ff8-4750-c9cf-c8866c1358fb"
      },
      "source": [
        "print(product)"
      ],
      "execution_count": 8,
      "outputs": [
        {
          "output_type": "stream",
          "text": [
            "Product: Vacuum, $150.00\n"
          ],
          "name": "stdout"
        }
      ]
    },
    {
      "cell_type": "markdown",
      "metadata": {
        "id": "hrpb5jYGSqOq",
        "colab_type": "text"
      },
      "source": [
        "# 3. Iteration: __iter__ and __next__"
      ]
    },
    {
      "cell_type": "code",
      "metadata": {
        "id": "sr8I9YskSoZ7",
        "colab_type": "code",
        "colab": {
          "base_uri": "https://localhost:8080/",
          "height": 85
        },
        "outputId": "259679bc-38f1-42d2-d648-839cd2a882ba"
      },
      "source": [
        "class Product:\n",
        "  def __init__(self, name, price):\n",
        "    self.name = name\n",
        "    self.price = price\n",
        "  def __str__(self):\n",
        "    return f\"Product: {self.name}, ${self.price:.2f}\"\n",
        "  \n",
        "  def __iter__(self):\n",
        "    self._free_samples = [Product(self.name, 0) for _ in range(3)]\n",
        "    print(\"Iterator of the product is created.\")\n",
        "    return self\n",
        "    \n",
        "  def __next__(self):\n",
        "    if self._free_samples:\n",
        "      return self._free_samples.pop()\n",
        "    else:\n",
        "      raise StopIteration(\"All free samples have been dispensed.\")\n",
        "\n",
        "product = Product(\"Perfume\", 5.0)\n",
        "for i, sample in enumerate(product, 1):\n",
        "  print(f\"Dispense the next sample #{i}: {sample}\")"
      ],
      "execution_count": 9,
      "outputs": [
        {
          "output_type": "stream",
          "text": [
            "Iterator of the product is created.\n",
            "Dispense the next sample #1: Product: Perfume, $0.00\n",
            "Dispense the next sample #2: Product: Perfume, $0.00\n",
            "Dispense the next sample #3: Product: Perfume, $0.00\n"
          ],
          "name": "stdout"
        }
      ]
    },
    {
      "cell_type": "markdown",
      "metadata": {
        "id": "fzTxqbOETF8u",
        "colab_type": "text"
      },
      "source": [
        "# 4. Context Manager: __enter__ and __exit__"
      ]
    },
    {
      "cell_type": "code",
      "metadata": {
        "id": "FihgVHWIS8xg",
        "colab_type": "code",
        "colab": {
          "base_uri": "https://localhost:8080/",
          "height": 102
        },
        "outputId": "8bc2079b-ba86-4d6c-a1f7-14fbcbc3ac13"
      },
      "source": [
        "class Product:\n",
        "  def __init__(self, name, price):\n",
        "    self.name = name\n",
        "    self.price = price\n",
        "  def __str__(self):\n",
        "    return f\"Product: {self.name}, ${self.price:.2f}\"\n",
        "  def _move_to_center(self):\n",
        "    print(f\"The product ({self}) occupies the center exhibit spot.\")\n",
        "  def _move_to_side(self):\n",
        "    print(f\"Move {self} back.\")\n",
        "  def __enter__(self):\n",
        "    print(\"__enter__ is called\")\n",
        "    self._move_to_center()\n",
        "  def __exit__(self, exc_type, exc_val, exc_tb):\n",
        "    print(\"__exit__ is called\")\n",
        "    self._move_to_side()\n",
        "product = Product(\"BMW Car\", 50000)\n",
        "with product:\n",
        "  print(\"It's a very good car.\")"
      ],
      "execution_count": 10,
      "outputs": [
        {
          "output_type": "stream",
          "text": [
            "__enter__ is called\n",
            "The product (Product: BMW Car, $50000.00) occupies the center exhibit spot.\n",
            "It's a very good car.\n",
            "__exit__ is called\n",
            "Move Product: BMW Car, $50000.00 back.\n"
          ],
          "name": "stdout"
        }
      ]
    },
    {
      "cell_type": "markdown",
      "metadata": {
        "id": "4-lbQ1VtTmji",
        "colab_type": "text"
      },
      "source": [
        "# 5. Finer Attribute Access Control: __getattr__ and __setattr__"
      ]
    },
    {
      "cell_type": "code",
      "metadata": {
        "id": "AkRjKjaOTXf9",
        "colab_type": "code",
        "colab": {}
      },
      "source": [
        "class Product:\n",
        "  def __init__(self, name):\n",
        "    self.name = name\n",
        "  def __getattr__(self, item):\n",
        "    if item == \"formatted_name\":\n",
        "      print(f\"__getattr__ is called for {item}\")\n",
        "      formatted = self.name.capitalize()\n",
        "      setattr(self, \"formatted_name\", formatted)\n",
        "      return formatted\n",
        "    else:\n",
        "      raise AttributeError(f\"no attribute of {item}\")\n",
        "  def __setattr__(self, key, value):\n",
        "    print(f\"__setattr__ is called for {key!r}: {value!r}\")\n",
        "    super().__setattr__(key, value)"
      ],
      "execution_count": 11,
      "outputs": []
    },
    {
      "cell_type": "code",
      "metadata": {
        "id": "bvIU9HhKTzQH",
        "colab_type": "code",
        "colab": {
          "base_uri": "https://localhost:8080/",
          "height": 34
        },
        "outputId": "c2894a03-876d-4c35-dc76-7e54eaad2bd6"
      },
      "source": [
        "product = Product(\"taBLe\")"
      ],
      "execution_count": 12,
      "outputs": [
        {
          "output_type": "stream",
          "text": [
            "__setattr__ is called for 'name': 'taBLe'\n"
          ],
          "name": "stdout"
        }
      ]
    },
    {
      "cell_type": "code",
      "metadata": {
        "id": "mA5Jt0ybT0iM",
        "colab_type": "code",
        "colab": {
          "base_uri": "https://localhost:8080/",
          "height": 37
        },
        "outputId": "4f91e45a-0077-4e06-b165-604bf526abb2"
      },
      "source": [
        "product.name"
      ],
      "execution_count": 13,
      "outputs": [
        {
          "output_type": "execute_result",
          "data": {
            "application/vnd.google.colaboratory.intrinsic+json": {
              "type": "string"
            },
            "text/plain": [
              "'taBLe'"
            ]
          },
          "metadata": {
            "tags": []
          },
          "execution_count": 13
        }
      ]
    },
    {
      "cell_type": "code",
      "metadata": {
        "id": "pBo68L7iT4Xl",
        "colab_type": "code",
        "colab": {
          "base_uri": "https://localhost:8080/",
          "height": 71
        },
        "outputId": "c5f94f61-8f03-46e8-c730-2852ac92e572"
      },
      "source": [
        "product.formatted_name"
      ],
      "execution_count": 14,
      "outputs": [
        {
          "output_type": "stream",
          "text": [
            "__getattr__ is called for formatted_name\n",
            "__setattr__ is called for 'formatted_name': 'Table'\n"
          ],
          "name": "stdout"
        },
        {
          "output_type": "execute_result",
          "data": {
            "application/vnd.google.colaboratory.intrinsic+json": {
              "type": "string"
            },
            "text/plain": [
              "'Table'"
            ]
          },
          "metadata": {
            "tags": []
          },
          "execution_count": 14
        }
      ]
    },
    {
      "cell_type": "code",
      "metadata": {
        "id": "nBFWmmnBT5NJ",
        "colab_type": "code",
        "colab": {
          "base_uri": "https://localhost:8080/",
          "height": 37
        },
        "outputId": "e56923a8-7821-4cd0-a82b-ee5348405f63"
      },
      "source": [
        "product.formatted_name"
      ],
      "execution_count": 15,
      "outputs": [
        {
          "output_type": "execute_result",
          "data": {
            "application/vnd.google.colaboratory.intrinsic+json": {
              "type": "string"
            },
            "text/plain": [
              "'Table'"
            ]
          },
          "metadata": {
            "tags": []
          },
          "execution_count": 15
        }
      ]
    }
  ]
}