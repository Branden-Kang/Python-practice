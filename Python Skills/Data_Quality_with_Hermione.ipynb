{
  "nbformat": 4,
  "nbformat_minor": 0,
  "metadata": {
    "colab": {
      "name": "Data Quality with Hermione.ipynb",
      "provenance": [],
      "authorship_tag": "ABX9TyNVJZ3PE2UELnDAip7IHq47"
    },
    "kernelspec": {
      "name": "python3",
      "display_name": "Python 3"
    },
    "language_info": {
      "name": "python"
    }
  },
  "cells": [
    {
      "cell_type": "markdown",
      "source": [
        "[Reference](https://medium.com/a3data/data-quality-with-hermione-46233529517b)"
      ],
      "metadata": {
        "id": "gtnDAgHQ4clc"
      }
    },
    {
      "cell_type": "code",
      "execution_count": 1,
      "metadata": {
        "id": "hbJMvoRc4aa7"
      },
      "outputs": [],
      "source": [
        "import pandas as pd\n",
        "import great_expectations as ge\n",
        "\n",
        "class DataQuality:\n",
        "    \"\"\"\n",
        "    Class to perform data quality before training\n",
        "    \"\"\"\n",
        "    def __init__(self, continuous_cols=None, discrete_cat_cols=None):\n",
        "        \"\"\"\n",
        "        Constructor\n",
        "        Parameters\n",
        "        ----------\n",
        "        continuous_cols       : array\n",
        "                              Receives an array with the name of the continuous columns \n",
        "        discrete_cat_cols     : array\n",
        "                              Receives an array with the name of the dicrete/categorical columns\n",
        "        Returns\n",
        "        -------\n",
        "        DataQuality\n",
        "        \"\"\"\n",
        "        self.continuous_cols = continuous_cols\n",
        "        self.discrete_cat_cols = discrete_cat_cols\n",
        "        \n",
        "    def perform(self, df: pd.DataFrame, target=None, cut_off = 2):\n",
        "        \"\"\"\n",
        "        Perform data quality\n",
        "        Parameters\n",
        "        ----------            \n",
        "        df  :   pd.Dataframe\n",
        "                Dataframe to be processed\n",
        "        Returns\n",
        "    \t-------\n",
        "        json\n",
        "        \"\"\"\n",
        "        if target != None:\n",
        "            df.drop(columns=[target], inplace=True)\n",
        "        df_ge = ge.dataset.PandasDataset(df)\n",
        "        cols = df_ge.columns\n",
        "        df_ge.expect_table_columns_to_match_ordered_list(cols)\n",
        "        for col in cols:\n",
        "            df_ge.expect_column_values_to_not_be_null(col)\n",
        "        if self.continuous_cols != None:\n",
        "            for col in self.continuous_cols:\n",
        "                measures = df_ge[col].describe() \n",
        "                df_ge.expect_column_values_to_be_of_type(col, 'float')\n",
        "                df_ge.expect_column_mean_to_be_between(col, measures['mean'] - cut_off * measures['std'], measures['mean'] + cut_off * measures['std'])\n",
        "                df_ge.expect_column_max_to_be_between(col, measures['max'] - cut_off * measures['std'], measures['max'] + cut_off * measures['std'])\n",
        "                df_ge.expect_column_min_to_be_between(col, measures['min'] - cut_off * measures['std'], measures['min'] + cut_off * measures['std'])\n",
        "                expected_partition = ge.dataset.util.continuous_partition_data(df_ge[col])\n",
        "                df_ge.expect_column_bootstrapped_ks_test_p_value_to_be_greater_than(col, expected_partition)\n",
        "        if len(self.discrete_cat_cols) != None:\n",
        "            for col in self.discrete_cat_cols:\n",
        "                possible_cat = df_ge[col].unique()\n",
        "                df_ge.expect_column_values_to_be_in_set(col, possible_cat)\n",
        "                expected_partition = ge.dataset.util.categorical_partition_data(df_ge[col])\n",
        "                df_ge.expect_column_chisquare_test_p_value_to_be_greater_than(col, expected_partition)         \n",
        "        return df_ge"
      ]
    },
    {
      "cell_type": "code",
      "source": [
        "df = Spreadsheet().get_data('../../../data/raw/train.csv')\n",
        "X_train, X_test = train_test_split(df, test_size=0.3, random_state=123)\n",
        "X_train.shape, X_test.shape\n",
        "\n",
        "dq = DataQuality(discrete_cat_cols=['Sex', 'Pclass'])\n",
        "df_ge = dq.perform(X_train, target='Survived')\n",
        "df_ge.save_expectation_suite('../../../output/expectations.json')\n",
        "\n",
        "X_test.drop(columns=['Survived'], inplace=True)\n",
        "df_ge = ge.dataset.PandasDataset(X_test)\n",
        "ge_val = df_ge.validate(expectation_suite='../../../output/expectations.json', only_return_failures=False)"
      ],
      "metadata": {
        "id": "jmLHWbSq4gSn"
      },
      "execution_count": 2,
      "outputs": []
    }
  ]
}