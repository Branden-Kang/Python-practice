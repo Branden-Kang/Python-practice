{
  "nbformat": 4,
  "nbformat_minor": 0,
  "metadata": {
    "colab": {
      "provenance": [],
      "authorship_tag": "ABX9TyOJ7IleH/U+7cv4rZm1GC4f"
    },
    "kernelspec": {
      "name": "python3",
      "display_name": "Python 3"
    },
    "language_info": {
      "name": "python"
    }
  },
  "cells": [
    {
      "cell_type": "markdown",
      "source": [
        "[Reference](https://blog.devgenius.io/cache-your-functions-in-python-95f8591caa07)"
      ],
      "metadata": {
        "id": "moHdhod05vB1"
      }
    },
    {
      "cell_type": "code",
      "execution_count": 1,
      "metadata": {
        "colab": {
          "base_uri": "https://localhost:8080/"
        },
        "id": "1WVaWVhC4sBD",
        "outputId": "9a871aa3-86ca-4595-801a-df59d852bc1b"
      },
      "outputs": [
        {
          "output_type": "stream",
          "name": "stdout",
          "text": [
            "executing foo with x: 3 y: 4\n"
          ]
        },
        {
          "output_type": "execute_result",
          "data": {
            "text/plain": [
              "81"
            ]
          },
          "metadata": {},
          "execution_count": 1
        }
      ],
      "source": [
        "def foo(x: int, y: int) -> int:\n",
        "    print(f\"executing foo with x: {x} y: {y}\")\n",
        "    return x ** y\n",
        "\n",
        "foo(3,4) "
      ]
    },
    {
      "cell_type": "code",
      "source": [
        "from functools import lru_cache\n",
        "\n",
        "@lru_cache\n",
        "def foo(x: int, y: int) -> int:\n",
        "    print(f\"executing foo with x: {x} y: {y}\")\n",
        "    return x ** y\n",
        "\n",
        "print(foo(3,4))\n",
        "print(foo(3,4))\n",
        "print(foo(3,4))\n",
        "print(foo(3,4))\n",
        "print(foo(3,4))\n",
        "print(foo(3,4))\n",
        "print(foo(3,4))"
      ],
      "metadata": {
        "colab": {
          "base_uri": "https://localhost:8080/"
        },
        "id": "uCAv9xPM5yqj",
        "outputId": "2dcac491-5d98-48ce-b022-0ab933bd5182"
      },
      "execution_count": 2,
      "outputs": [
        {
          "output_type": "stream",
          "name": "stdout",
          "text": [
            "executing foo with x: 3 y: 4\n",
            "81\n",
            "81\n",
            "81\n",
            "81\n",
            "81\n",
            "81\n",
            "81\n"
          ]
        }
      ]
    },
    {
      "cell_type": "code",
      "source": [
        "print(foo(3,4))\n",
        "print(foo(3,4))\n",
        "\n",
        "print(foo(3,5))\n",
        "print(foo(3,5))"
      ],
      "metadata": {
        "colab": {
          "base_uri": "https://localhost:8080/"
        },
        "id": "SjgMawsK50II",
        "outputId": "1fba6d5e-6807-40da-b2b5-1deb84562699"
      },
      "execution_count": 3,
      "outputs": [
        {
          "output_type": "stream",
          "name": "stdout",
          "text": [
            "81\n",
            "81\n",
            "executing foo with x: 3 y: 5\n",
            "243\n",
            "243\n"
          ]
        }
      ]
    },
    {
      "cell_type": "code",
      "source": [
        "@lru_cache(maxsize=2)\n",
        "def foo(x: int, y: int) -> int:\n",
        "    print(f\"executing foo with x: {x} y: {y}\")\n",
        "    return x ** y"
      ],
      "metadata": {
        "id": "ra5yoW7151WN"
      },
      "execution_count": 4,
      "outputs": []
    },
    {
      "cell_type": "code",
      "source": [
        "print(foo(3,4))\n",
        "print(foo(3,5))\n",
        "\n",
        "print(foo(3,4))\n",
        "print(foo(3,5))"
      ],
      "metadata": {
        "colab": {
          "base_uri": "https://localhost:8080/"
        },
        "id": "pX6vVU3j53aV",
        "outputId": "786d113f-4fbd-475e-dc0e-d53feccc2f51"
      },
      "execution_count": 5,
      "outputs": [
        {
          "output_type": "stream",
          "name": "stdout",
          "text": [
            "executing foo with x: 3 y: 4\n",
            "81\n",
            "executing foo with x: 3 y: 5\n",
            "243\n",
            "81\n",
            "243\n"
          ]
        }
      ]
    },
    {
      "cell_type": "code",
      "source": [
        "print(foo(2,4))"
      ],
      "metadata": {
        "colab": {
          "base_uri": "https://localhost:8080/"
        },
        "id": "CCdIJ4ZU55Sg",
        "outputId": "d6a4d771-4606-47e4-ac45-59d55e125ae0"
      },
      "execution_count": 6,
      "outputs": [
        {
          "output_type": "stream",
          "name": "stdout",
          "text": [
            "executing foo with x: 2 y: 4\n",
            "16\n"
          ]
        }
      ]
    },
    {
      "cell_type": "code",
      "source": [
        "print(foo(3,5))\n",
        "print(foo(3,4))"
      ],
      "metadata": {
        "colab": {
          "base_uri": "https://localhost:8080/"
        },
        "id": "aDLG-2Us56k2",
        "outputId": "1129be53-59f1-4c09-d681-1c4a8cc59d1e"
      },
      "execution_count": 7,
      "outputs": [
        {
          "output_type": "stream",
          "name": "stdout",
          "text": [
            "243\n",
            "executing foo with x: 3 y: 4\n",
            "81\n"
          ]
        }
      ]
    },
    {
      "cell_type": "code",
      "source": [
        "@lru_cache(maxsize=1)\n",
        "def expensive_operation() -> str:\n",
        "    print(\"$$$$$$$$$$$\")\n",
        "    return \"I am an expensive result\"\n",
        "\n",
        "\n",
        "print(expensive_operation())\n",
        "print(expensive_operation())\n",
        "print(expensive_operation())\n",
        "print(expensive_operation())\n",
        "print(expensive_operation())"
      ],
      "metadata": {
        "colab": {
          "base_uri": "https://localhost:8080/"
        },
        "id": "VKm3gx5w58Sh",
        "outputId": "c0bebed4-0135-49d7-c7ee-90f262f6296e"
      },
      "execution_count": 8,
      "outputs": [
        {
          "output_type": "stream",
          "name": "stdout",
          "text": [
            "$$$$$$$$$$$\n",
            "I am an expensive result\n",
            "I am an expensive result\n",
            "I am an expensive result\n",
            "I am an expensive result\n",
            "I am an expensive result\n"
          ]
        }
      ]
    },
    {
      "cell_type": "code",
      "source": [
        "@lru_cache(maxsize=2)\n",
        "def foo(x: int, y: int) -> int:\n",
        "    print(f\"executing foo with x: {x} y: {y}\")\n",
        "    return x ** y\n",
        "\n",
        "print(foo(3,4))\n",
        "\n",
        "og = foo.__wrapped__\n",
        "print(og)\n",
        "\n",
        "print(og(3,4))"
      ],
      "metadata": {
        "colab": {
          "base_uri": "https://localhost:8080/"
        },
        "id": "i45BGsjb591y",
        "outputId": "0f0cc0a0-8cb9-4afb-c36f-7785a130e5da"
      },
      "execution_count": 9,
      "outputs": [
        {
          "output_type": "stream",
          "name": "stdout",
          "text": [
            "executing foo with x: 3 y: 4\n",
            "81\n",
            "<function foo at 0x7f3f171c19d0>\n",
            "executing foo with x: 3 y: 4\n",
            "81\n"
          ]
        }
      ]
    },
    {
      "cell_type": "code",
      "source": [
        "def calculate_fibonacci(n: int) -> int:\n",
        "    print(\"Calculating fibonacci value for \", n)\n",
        "    if n == 0 or n == 1:\n",
        "        return 1\n",
        "    return calculate_fibonacci(n-1) + calculate_fibonacci(n-2)\n",
        "\n",
        "calculate_fibonacci(5)"
      ],
      "metadata": {
        "colab": {
          "base_uri": "https://localhost:8080/"
        },
        "id": "xkNlQ2Dg5_p6",
        "outputId": "84cddb7b-54f1-419f-ca54-7ee36b35eeb6"
      },
      "execution_count": 10,
      "outputs": [
        {
          "output_type": "stream",
          "name": "stdout",
          "text": [
            "Calculating fibonacci value for  5\n",
            "Calculating fibonacci value for  4\n",
            "Calculating fibonacci value for  3\n",
            "Calculating fibonacci value for  2\n",
            "Calculating fibonacci value for  1\n",
            "Calculating fibonacci value for  0\n",
            "Calculating fibonacci value for  1\n",
            "Calculating fibonacci value for  2\n",
            "Calculating fibonacci value for  1\n",
            "Calculating fibonacci value for  0\n",
            "Calculating fibonacci value for  3\n",
            "Calculating fibonacci value for  2\n",
            "Calculating fibonacci value for  1\n",
            "Calculating fibonacci value for  0\n",
            "Calculating fibonacci value for  1\n"
          ]
        },
        {
          "output_type": "execute_result",
          "data": {
            "text/plain": [
              "8"
            ]
          },
          "metadata": {},
          "execution_count": 10
        }
      ]
    },
    {
      "cell_type": "code",
      "source": [
        "@lru_cache(maxsize=16)\n",
        "def calculate_fibonacci(n: int) -> int:\n",
        "    print(\"Calculating fibonacci value for \", n)\n",
        "    if n == 0 or n == 1:\n",
        "        return 1\n",
        "    return calculate_fibonacci(n-1) + calculate_fibonacci(n-2)\n",
        "\n",
        "calculate_fibonacci(5)"
      ],
      "metadata": {
        "colab": {
          "base_uri": "https://localhost:8080/"
        },
        "id": "YKWde57F6A6r",
        "outputId": "b53f868b-b45e-4c1b-d5db-deb2ad0ef821"
      },
      "execution_count": 11,
      "outputs": [
        {
          "output_type": "stream",
          "name": "stdout",
          "text": [
            "Calculating fibonacci value for  5\n",
            "Calculating fibonacci value for  4\n",
            "Calculating fibonacci value for  3\n",
            "Calculating fibonacci value for  2\n",
            "Calculating fibonacci value for  1\n",
            "Calculating fibonacci value for  0\n"
          ]
        },
        {
          "output_type": "execute_result",
          "data": {
            "text/plain": [
              "8"
            ]
          },
          "metadata": {},
          "execution_count": 11
        }
      ]
    },
    {
      "cell_type": "code",
      "source": [
        "import time"
      ],
      "metadata": {
        "id": "qpZFgngN6Gll"
      },
      "execution_count": 12,
      "outputs": []
    },
    {
      "cell_type": "code",
      "source": [
        "start = time.time()\n",
        "calculate_fibonacci(35)\n",
        "print(time.time()-start)"
      ],
      "metadata": {
        "colab": {
          "base_uri": "https://localhost:8080/"
        },
        "id": "nHepILlt6C1O",
        "outputId": "f664e1e2-0d81-4bee-ce30-1aa1deff04cc"
      },
      "execution_count": 13,
      "outputs": [
        {
          "output_type": "stream",
          "name": "stdout",
          "text": [
            "Calculating fibonacci value for  35\n",
            "Calculating fibonacci value for  34\n",
            "Calculating fibonacci value for  33\n",
            "Calculating fibonacci value for  32\n",
            "Calculating fibonacci value for  31\n",
            "Calculating fibonacci value for  30\n",
            "Calculating fibonacci value for  29\n",
            "Calculating fibonacci value for  28\n",
            "Calculating fibonacci value for  27\n",
            "Calculating fibonacci value for  26\n",
            "Calculating fibonacci value for  25\n",
            "Calculating fibonacci value for  24\n",
            "Calculating fibonacci value for  23\n",
            "Calculating fibonacci value for  22\n",
            "Calculating fibonacci value for  21\n",
            "Calculating fibonacci value for  20\n",
            "Calculating fibonacci value for  19\n",
            "Calculating fibonacci value for  18\n",
            "Calculating fibonacci value for  17\n",
            "Calculating fibonacci value for  16\n",
            "Calculating fibonacci value for  15\n",
            "Calculating fibonacci value for  14\n",
            "Calculating fibonacci value for  13\n",
            "Calculating fibonacci value for  12\n",
            "Calculating fibonacci value for  11\n",
            "Calculating fibonacci value for  10\n",
            "Calculating fibonacci value for  9\n",
            "Calculating fibonacci value for  8\n",
            "Calculating fibonacci value for  7\n",
            "Calculating fibonacci value for  6\n",
            "0.01660442352294922\n"
          ]
        }
      ]
    },
    {
      "cell_type": "code",
      "source": [
        "import json\n",
        "import requests\n",
        "\n",
        "def fetch_api_data(url: str, json_path: str, update_cache: bool = False):\n",
        "    \"\"\"\n",
        "    url: request url address\n",
        "    json_path: the path of the json file\n",
        "    update_cache: a boolean for update operation\n",
        "    \"\"\"\n",
        "    if update_cache:\n",
        "        #if we are updating, current will be none\n",
        "        #so it will create a new json\n",
        "        cached_data = None\n",
        "    else:\n",
        "        try:\n",
        "            with open(json_path, 'r') as file:\n",
        "                cached_data = json.load(file)\n",
        "                print(\"Data has been collected from local cache!\\n\")\n",
        "        except(FileNotFoundError, json.JSONDecodeError) as e:\n",
        "            print(f\"Some error occured when the JSON file is being read: {e}\\n\")\n",
        "            cached_data = None\n",
        "            \n",
        "    #if there is not a cached data available\n",
        "    if not cached_data:\n",
        "        #fetch request data\n",
        "        print(\"getting new data from url\\n\")\n",
        "        cached_data = requests.get(url).json()\n",
        "        with open(json_path, 'w') as file:\n",
        "            print(\"Creating a new cache JSON file\\n\")\n",
        "            json.dump(cached_data, file)\n",
        "    \n",
        "    return cached_data\n",
        "\n",
        "url = \"https://dummyjson.com/comments\"\n",
        "json_path = \"cachefile.json\"\n",
        "data = fetch_api_data(url, json_path)\n",
        "print(data)\n",
        "\n",
        "#SECOND CALL\n",
        "data = fetch_api_data(url, json_path)\n",
        "print(data)"
      ],
      "metadata": {
        "colab": {
          "base_uri": "https://localhost:8080/"
        },
        "id": "oD_fKduH6HNx",
        "outputId": "4c56b053-c8d5-4c6a-ffa9-95316c31cbaf"
      },
      "execution_count": 14,
      "outputs": [
        {
          "output_type": "stream",
          "name": "stdout",
          "text": [
            "Some error occured when the JSON file is being read: [Errno 2] No such file or directory: 'cachefile.json'\n",
            "\n",
            "getting new data from url\n",
            "\n",
            "Creating a new cache JSON file\n",
            "\n",
            "{'comments': [{'id': 1, 'body': 'This is some awesome thinking!', 'postId': 100, 'user': {'id': 63, 'username': 'eburras1q'}}, {'id': 2, 'body': 'What terrific math skills you’re showing!', 'postId': 27, 'user': {'id': 71, 'username': 'omarsland1y'}}, {'id': 3, 'body': 'You are an amazing writer!', 'postId': 61, 'user': {'id': 29, 'username': 'jissetts'}}, {'id': 4, 'body': 'Wow! You have improved so much!', 'postId': 8, 'user': {'id': 19, 'username': 'bleveragei'}}, {'id': 5, 'body': 'Nice idea!', 'postId': 62, 'user': {'id': 70, 'username': 'cmasurel1x'}}, {'id': 6, 'body': 'You are showing excellent understanding!', 'postId': 19, 'user': {'id': 97, 'username': 'cdavydochkin2o'}}, {'id': 7, 'body': 'This is clear, concise, and complete!', 'postId': 47, 'user': {'id': 22, 'username': 'froachel'}}, {'id': 8, 'body': 'What a powerful argument!', 'postId': 47, 'user': {'id': 82, 'username': 'kogilvy29'}}, {'id': 9, 'body': 'I knew you could do it!', 'postId': 64, 'user': {'id': 31, 'username': 'smargiottau'}}, {'id': 10, 'body': 'Wonderful ideas!', 'postId': 4, 'user': {'id': 35, 'username': 'mbrooksbanky'}}, {'id': 11, 'body': 'It was a pleasure to grade this!', 'postId': 2, 'user': {'id': 68, 'username': 'rstrettle1v'}}, {'id': 12, 'body': 'Keep up the incredible work!', 'postId': 50, 'user': {'id': 77, 'username': 'rkingswood24'}}, {'id': 13, 'body': 'My goodness, how impressive!', 'postId': 37, 'user': {'id': 28, 'username': 'xisherwoodr'}}, {'id': 14, 'body': 'You’re showing inventive ideas!', 'postId': 30, 'user': {'id': 57, 'username': 'bpickering1k'}}, {'id': 15, 'body': 'You’ve shown so much growth!', 'postId': 44, 'user': {'id': 76, 'username': 'cgaber23'}}, {'id': 16, 'body': 'Interesting thoughts!', 'postId': 71, 'user': {'id': 100, 'username': 'pcumbes2r'}}, {'id': 17, 'body': 'I love your neat work!', 'postId': 68, 'user': {'id': 37, 'username': 'nwytchard10'}}, {'id': 18, 'body': 'Doesn’t it feel good to do such great work?', 'postId': 41, 'user': {'id': 31, 'username': 'smargiottau'}}, {'id': 19, 'body': 'First-rate work!', 'postId': 75, 'user': {'id': 60, 'username': 'dlambarth1n'}}, {'id': 20, 'body': 'This is fascinating information!', 'postId': 48, 'user': {'id': 17, 'username': 'vcholdcroftg'}}, {'id': 21, 'body': 'You inspire me!', 'postId': 29, 'user': {'id': 5, 'username': 'kmeus4'}}, {'id': 22, 'body': 'This is right on target!', 'postId': 18, 'user': {'id': 31, 'username': 'smargiottau'}}, {'id': 23, 'body': 'What an astounding observation!', 'postId': 73, 'user': {'id': 14, 'username': 'mturleyd'}}, {'id': 24, 'body': 'This is very well thought out!', 'postId': 32, 'user': {'id': 16, 'username': 'dpierrof'}}, {'id': 25, 'body': 'I can tell you’ve been practicing!', 'postId': 44, 'user': {'id': 78, 'username': 'dbuist25'}}, {'id': 26, 'body': 'You’ve come a long way!', 'postId': 70, 'user': {'id': 82, 'username': 'kogilvy29'}}, {'id': 27, 'body': 'I can tell you’ve been paying attention!', 'postId': 60, 'user': {'id': 74, 'username': 'ahinckes21'}}, {'id': 28, 'body': 'Reading this made my day!', 'postId': 85, 'user': {'id': 85, 'username': 'kpondjones2c'}}, {'id': 29, 'body': 'This is very perceptive!', 'postId': 13, 'user': {'id': 30, 'username': 'kdulyt'}}, {'id': 30, 'body': 'What an accomplishment!', 'postId': 23, 'user': {'id': 36, 'username': 'dalmondz'}}], 'total': 340, 'skip': 0, 'limit': 30}\n",
            "Data has been collected from local cache!\n",
            "\n",
            "{'comments': [{'id': 1, 'body': 'This is some awesome thinking!', 'postId': 100, 'user': {'id': 63, 'username': 'eburras1q'}}, {'id': 2, 'body': 'What terrific math skills you’re showing!', 'postId': 27, 'user': {'id': 71, 'username': 'omarsland1y'}}, {'id': 3, 'body': 'You are an amazing writer!', 'postId': 61, 'user': {'id': 29, 'username': 'jissetts'}}, {'id': 4, 'body': 'Wow! You have improved so much!', 'postId': 8, 'user': {'id': 19, 'username': 'bleveragei'}}, {'id': 5, 'body': 'Nice idea!', 'postId': 62, 'user': {'id': 70, 'username': 'cmasurel1x'}}, {'id': 6, 'body': 'You are showing excellent understanding!', 'postId': 19, 'user': {'id': 97, 'username': 'cdavydochkin2o'}}, {'id': 7, 'body': 'This is clear, concise, and complete!', 'postId': 47, 'user': {'id': 22, 'username': 'froachel'}}, {'id': 8, 'body': 'What a powerful argument!', 'postId': 47, 'user': {'id': 82, 'username': 'kogilvy29'}}, {'id': 9, 'body': 'I knew you could do it!', 'postId': 64, 'user': {'id': 31, 'username': 'smargiottau'}}, {'id': 10, 'body': 'Wonderful ideas!', 'postId': 4, 'user': {'id': 35, 'username': 'mbrooksbanky'}}, {'id': 11, 'body': 'It was a pleasure to grade this!', 'postId': 2, 'user': {'id': 68, 'username': 'rstrettle1v'}}, {'id': 12, 'body': 'Keep up the incredible work!', 'postId': 50, 'user': {'id': 77, 'username': 'rkingswood24'}}, {'id': 13, 'body': 'My goodness, how impressive!', 'postId': 37, 'user': {'id': 28, 'username': 'xisherwoodr'}}, {'id': 14, 'body': 'You’re showing inventive ideas!', 'postId': 30, 'user': {'id': 57, 'username': 'bpickering1k'}}, {'id': 15, 'body': 'You’ve shown so much growth!', 'postId': 44, 'user': {'id': 76, 'username': 'cgaber23'}}, {'id': 16, 'body': 'Interesting thoughts!', 'postId': 71, 'user': {'id': 100, 'username': 'pcumbes2r'}}, {'id': 17, 'body': 'I love your neat work!', 'postId': 68, 'user': {'id': 37, 'username': 'nwytchard10'}}, {'id': 18, 'body': 'Doesn’t it feel good to do such great work?', 'postId': 41, 'user': {'id': 31, 'username': 'smargiottau'}}, {'id': 19, 'body': 'First-rate work!', 'postId': 75, 'user': {'id': 60, 'username': 'dlambarth1n'}}, {'id': 20, 'body': 'This is fascinating information!', 'postId': 48, 'user': {'id': 17, 'username': 'vcholdcroftg'}}, {'id': 21, 'body': 'You inspire me!', 'postId': 29, 'user': {'id': 5, 'username': 'kmeus4'}}, {'id': 22, 'body': 'This is right on target!', 'postId': 18, 'user': {'id': 31, 'username': 'smargiottau'}}, {'id': 23, 'body': 'What an astounding observation!', 'postId': 73, 'user': {'id': 14, 'username': 'mturleyd'}}, {'id': 24, 'body': 'This is very well thought out!', 'postId': 32, 'user': {'id': 16, 'username': 'dpierrof'}}, {'id': 25, 'body': 'I can tell you’ve been practicing!', 'postId': 44, 'user': {'id': 78, 'username': 'dbuist25'}}, {'id': 26, 'body': 'You’ve come a long way!', 'postId': 70, 'user': {'id': 82, 'username': 'kogilvy29'}}, {'id': 27, 'body': 'I can tell you’ve been paying attention!', 'postId': 60, 'user': {'id': 74, 'username': 'ahinckes21'}}, {'id': 28, 'body': 'Reading this made my day!', 'postId': 85, 'user': {'id': 85, 'username': 'kpondjones2c'}}, {'id': 29, 'body': 'This is very perceptive!', 'postId': 13, 'user': {'id': 30, 'username': 'kdulyt'}}, {'id': 30, 'body': 'What an accomplishment!', 'postId': 23, 'user': {'id': 36, 'username': 'dalmondz'}}], 'total': 340, 'skip': 0, 'limit': 30}\n"
          ]
        }
      ]
    }
  ]
}
