{
  "nbformat": 4,
  "nbformat_minor": 0,
  "metadata": {
    "colab": {
      "provenance": [],
      "collapsed_sections": [],
      "authorship_tag": "ABX9TyPKuhCrHEaGsLBu7lXXl3Vv"
    },
    "kernelspec": {
      "name": "python3",
      "display_name": "Python 3"
    },
    "language_info": {
      "name": "python"
    }
  },
  "cells": [
    {
      "cell_type": "markdown",
      "source": [
        "[Reference](https://medium.com/jungletronics/advanced-python-technologies-d3dbdf1d70cb)"
      ],
      "metadata": {
        "id": "egnJYT0ROwFa"
      }
    },
    {
      "cell_type": "markdown",
      "source": [
        "# Tech 1 # qrcode"
      ],
      "metadata": {
        "id": "S5mCDkLaO1gs"
      }
    },
    {
      "cell_type": "code",
      "execution_count": 1,
      "metadata": {
        "colab": {
          "base_uri": "https://localhost:8080/"
        },
        "id": "KROPYsaZOu8M",
        "outputId": "4c37038a-57e1-49be-a5ba-b5b369ae68ec"
      },
      "outputs": [
        {
          "output_type": "stream",
          "name": "stdout",
          "text": [
            "Looking in indexes: https://pypi.org/simple, https://us-python.pkg.dev/colab-wheels/public/simple/\n",
            "Collecting qrcode\n",
            "  Downloading qrcode-7.3.1.tar.gz (43 kB)\n",
            "\u001b[K     |████████████████████████████████| 43 kB 807 kB/s \n",
            "\u001b[?25hBuilding wheels for collected packages: qrcode\n",
            "  Building wheel for qrcode (setup.py) ... \u001b[?25l\u001b[?25hdone\n",
            "  Created wheel for qrcode: filename=qrcode-7.3.1-py3-none-any.whl size=40402 sha256=eecf98b4e3f689547be7544e3bbb4936dc7ced064731cb13891abfe30c7bfaa2\n",
            "  Stored in directory: /root/.cache/pip/wheels/93/d7/39/a4111be2cfb8e679938aa671a37888b6afb1f9e7d748e94492\n",
            "Successfully built qrcode\n",
            "Installing collected packages: qrcode\n",
            "Successfully installed qrcode-7.3.1\n"
          ]
        }
      ],
      "source": [
        "!pip install qrcode"
      ]
    },
    {
      "cell_type": "code",
      "source": [
        "import os\n",
        "import qrcode\n",
        "# Generate QR code\n",
        "img = qrcode.make(\"https://medium.com/jungletronics\")\n",
        "# Save as file\n",
        "img.save(\"qr.png\", \"PNG\")\n",
        "# Open file\n",
        "os.system(\"open qr.png\")"
      ],
      "metadata": {
        "colab": {
          "base_uri": "https://localhost:8080/"
        },
        "id": "o3qoM8JjOykT",
        "outputId": "5b35cbd8-b126-43cc-85d8-a9c2dd927f97"
      },
      "execution_count": 2,
      "outputs": [
        {
          "output_type": "execute_result",
          "data": {
            "text/plain": [
              "32512"
            ]
          },
          "metadata": {},
          "execution_count": 2
        }
      ]
    },
    {
      "cell_type": "markdown",
      "source": [
        "# Tech 2 # Simplified Answering Machine\n"
      ],
      "metadata": {
        "id": "fMvIEVSPO3eB"
      }
    },
    {
      "cell_type": "code",
      "source": [
        "# Recognizes a greeting\n",
        "# Get input\n",
        "words = input(\"Say something!\\n\").lower()\n",
        "# Respond to speech\n",
        "if \"hello\" in words:\n",
        "    print(\"Hello to you too!\")\n",
        "elif \"how are you\" in words:\n",
        "    print(\"I am well, thanks!\")\n",
        "elif \"goodbye\" in words:\n",
        "    print(\"Goodbye to you too!\")\n",
        "else:\n",
        "    print(\"Huh?\")"
      ],
      "metadata": {
        "colab": {
          "base_uri": "https://localhost:8080/"
        },
        "id": "hatOQZVMO5LS",
        "outputId": "452deb21-9975-4cd9-bee0-541a6e41366a"
      },
      "execution_count": 3,
      "outputs": [
        {
          "output_type": "stream",
          "name": "stdout",
          "text": [
            "Say something!\n",
            "\n",
            "Huh?\n"
          ]
        }
      ]
    },
    {
      "cell_type": "markdown",
      "source": [
        "# Tech 3 # Speech Recognition in Python\n"
      ],
      "metadata": {
        "id": "JpvuXTMiO7UR"
      }
    },
    {
      "cell_type": "code",
      "source": [
        "!pip install pyaudio\n",
        "!pip install SpeechRecognition"
      ],
      "metadata": {
        "colab": {
          "base_uri": "https://localhost:8080/"
        },
        "id": "HkE1JvItO65b",
        "outputId": "4a59bee1-ce57-4446-b6b1-751a00bcb1e3"
      },
      "execution_count": 4,
      "outputs": [
        {
          "output_type": "stream",
          "name": "stdout",
          "text": [
            "Looking in indexes: https://pypi.org/simple, https://us-python.pkg.dev/colab-wheels/public/simple/\n",
            "Collecting pyaudio\n",
            "  Downloading PyAudio-0.2.12.tar.gz (42 kB)\n",
            "\u001b[K     |████████████████████████████████| 42 kB 1.2 MB/s \n",
            "\u001b[?25h  Installing build dependencies ... \u001b[?25l\u001b[?25hdone\n",
            "  Getting requirements to build wheel ... \u001b[?25l\u001b[?25hdone\n",
            "    Preparing wheel metadata ... \u001b[?25l\u001b[?25hdone\n",
            "Building wheels for collected packages: pyaudio\n",
            "  Building wheel for pyaudio (PEP 517) ... \u001b[?25l\u001b[?25herror\n",
            "\u001b[31m  ERROR: Failed building wheel for pyaudio\u001b[0m\n",
            "Failed to build pyaudio\n",
            "\u001b[31mERROR: Could not build wheels for pyaudio which use PEP 517 and cannot be installed directly\u001b[0m\n",
            "Looking in indexes: https://pypi.org/simple, https://us-python.pkg.dev/colab-wheels/public/simple/\n",
            "Collecting SpeechRecognition\n",
            "  Downloading SpeechRecognition-3.8.1-py2.py3-none-any.whl (32.8 MB)\n",
            "\u001b[K     |████████████████████████████████| 32.8 MB 1.3 MB/s \n",
            "\u001b[?25hInstalling collected packages: SpeechRecognition\n",
            "Successfully installed SpeechRecognition-3.8.1\n"
          ]
        }
      ]
    },
    {
      "cell_type": "code",
      "source": [
        "# import speech_recognition\n",
        "# # Obtain audio from the microphone\n",
        "# recognizer = speech_recognition.Recognizer()\n",
        "# with speech_recognition.Microphone() as source:\n",
        "#     print(\"Say something:\")\n",
        "#     audio = recognizer.listen(source)\n",
        "# # Recognize speech using Google Speech Recognition\n",
        "# print(\"You said:\")\n",
        "# print(recognizer.recognize_google(audio))"
      ],
      "metadata": {
        "id": "EeIfivpsO_Pj"
      },
      "execution_count": 5,
      "outputs": []
    },
    {
      "cell_type": "code",
      "source": [
        "# import speech_recognition\n",
        "# # Obtain audio from the microphone\n",
        "# recognizer = speech_recognition.Recognizer()\n",
        "# with speech_recognition.Microphone() as source:\n",
        "#     print(\"Say something:\")\n",
        "#     audio = recognizer.listen(source)\n",
        "# # Recognize speech using Google Speech Recognitionwords = recognizer.recognize_google(audio)\n",
        "# # Respond to speech\n",
        "# if \"hello\" in words:\n",
        "#     print(\"Hello to you too!\")\n",
        "# elif \"how are you\" in words:\n",
        "#     print(\"I am well, thanks!\")\n",
        "# elif \"goodbye\" in words:\n",
        "#     print(\"Goodbye to you too!\")\n",
        "# else:\n",
        "#     print(\"Huh?\")"
      ],
      "metadata": {
        "id": "-FDvTSiaPAj0"
      },
      "execution_count": 6,
      "outputs": []
    },
    {
      "cell_type": "code",
      "source": [
        "# import re\n",
        "# import speech_recognition\n",
        "# # Obtain audio from the microphone\n",
        "# recognizer = speech_recognition.Recognizer()\n",
        "# with speech_recognition.Microphone() as source:\n",
        "#     print(\"Say something:\")\n",
        "#     audio = recognizer.listen(source)\n",
        "# # Recognize speech using Google Speech Recognition\n",
        "# words = recognizer.recognize_google(audio)\n",
        "# # Respond to speech\n",
        "# matches = re.search(\"my name is (.*)\", words)\n",
        "# if matches:\n",
        "#     print(f\"Hey, {matches[1]}.\")\n",
        "# else:\n",
        "#     print(\"Hey, you.\")"
      ],
      "metadata": {
        "id": "uN8yyjLEPB78"
      },
      "execution_count": 7,
      "outputs": []
    },
    {
      "cell_type": "markdown",
      "source": [
        "# Tech 4 # Speech Recognition in Python\n"
      ],
      "metadata": {
        "id": "eUOQ0pmPPFn3"
      }
    },
    {
      "cell_type": "code",
      "source": [
        "!pip install pyttsx3"
      ],
      "metadata": {
        "colab": {
          "base_uri": "https://localhost:8080/"
        },
        "id": "e11S4GdgPERY",
        "outputId": "8055a81e-a69d-463e-f8cf-200eb80e5e41"
      },
      "execution_count": 8,
      "outputs": [
        {
          "output_type": "stream",
          "name": "stdout",
          "text": [
            "Looking in indexes: https://pypi.org/simple, https://us-python.pkg.dev/colab-wheels/public/simple/\n",
            "Collecting pyttsx3\n",
            "  Downloading pyttsx3-2.90-py3-none-any.whl (39 kB)\n",
            "Installing collected packages: pyttsx3\n",
            "Successfully installed pyttsx3-2.90\n"
          ]
        }
      ]
    },
    {
      "cell_type": "code",
      "source": [
        "# import pyttsx3\n",
        "# engine = pyttsx3.init()\n",
        "# engine.say(\"hello, world\")\n",
        "# engine.runAndWait()"
      ],
      "metadata": {
        "id": "_vjNnLi-PIxT"
      },
      "execution_count": 9,
      "outputs": []
    },
    {
      "cell_type": "code",
      "source": [
        "# import pyttsx3\n",
        "# engine = pyttsx3.init()\n",
        "# name = input(\"What's your name? \")\n",
        "# engine.say(f\"hello, {name}\")\n",
        "# engine.runAndWait()"
      ],
      "metadata": {
        "id": "wz_P1H-SPJGe"
      },
      "execution_count": 10,
      "outputs": []
    },
    {
      "cell_type": "code",
      "source": [
        "# import pyttsx3\n",
        "# engine = pyttsx3.init()\n",
        "# engine.say(\"This was CS50\")\n",
        "# engine.say(\"That's it!\")\n",
        "# engine.say(\"Thanks to: DAVID MALAN from HAVARD CS50 COURSE\")\n",
        "# engine.runAndWait()"
      ],
      "metadata": {
        "id": "-5PO4Oq1PLaM"
      },
      "execution_count": 11,
      "outputs": []
    }
  ]
}
