{
  "nbformat": 4,
  "nbformat_minor": 0,
  "metadata": {
    "colab": {
      "name": "11 Most Useful Built-in Python Modules You Might Not Know Yet.ipynb",
      "provenance": [],
      "authorship_tag": "ABX9TyPWOQiGpGXLylDqLumOf1Pr"
    },
    "kernelspec": {
      "name": "python3",
      "display_name": "Python 3"
    },
    "language_info": {
      "name": "python"
    }
  },
  "cells": [
    {
      "cell_type": "markdown",
      "metadata": {
        "id": "NPvfayE7RN4E"
      },
      "source": [
        "[Reference](https://levelup.gitconnected.com/11-most-useful-built-in-python-modules-you-might-not-know-yet-eff3e0e6f586)"
      ]
    },
    {
      "cell_type": "markdown",
      "metadata": {
        "id": "7dd-X5-7RQcs"
      },
      "source": [
        "# 1. re"
      ]
    },
    {
      "cell_type": "code",
      "metadata": {
        "colab": {
          "base_uri": "https://localhost:8080/"
        },
        "id": "97Txv3W9RGfj",
        "outputId": "303e9224-76da-4cc3-9153-e65a992d038f"
      },
      "source": [
        "import re\n",
        "re.findall(\"([0-9]+)\", \"This code will 123 return a list of 000 any digital segment 9.\")"
      ],
      "execution_count": 1,
      "outputs": [
        {
          "output_type": "execute_result",
          "data": {
            "text/plain": [
              "['123', '000', '9']"
            ]
          },
          "metadata": {},
          "execution_count": 1
        }
      ]
    },
    {
      "cell_type": "code",
      "metadata": {
        "colab": {
          "base_uri": "https://localhost:8080/"
        },
        "id": "ns2PanGMRTrL",
        "outputId": "9083a58b-f2ed-4b32-91ce-864638881930"
      },
      "source": [
        "print(re.match(\"T\\w+\", \"Line 1 is True\"))"
      ],
      "execution_count": 2,
      "outputs": [
        {
          "output_type": "stream",
          "name": "stdout",
          "text": [
            "None\n"
          ]
        }
      ]
    },
    {
      "cell_type": "code",
      "metadata": {
        "colab": {
          "base_uri": "https://localhost:8080/"
        },
        "id": "MKOJfw_1RVwx",
        "outputId": "7c579ced-87d9-4585-8e5a-94b42a6ca07d"
      },
      "source": [
        "print(re.match(\"T\\w+\", \"Line 2 is False\"))"
      ],
      "execution_count": 3,
      "outputs": [
        {
          "output_type": "stream",
          "name": "stdout",
          "text": [
            "None\n"
          ]
        }
      ]
    },
    {
      "cell_type": "markdown",
      "metadata": {
        "id": "nADAMfMBRWuK"
      },
      "source": [
        "## Replace an expression"
      ]
    },
    {
      "cell_type": "code",
      "metadata": {
        "colab": {
          "base_uri": "https://localhost:8080/",
          "height": 37
        },
        "id": "2TRBuZcxRV4E",
        "outputId": "5e560ab2-3c57-491d-884b-3e5a436c7433"
      },
      "source": [
        "import re\n",
        "re.sub(\"\\s\", \"__\", \"We'll change the white spaces '\\s' by '__'.\")"
      ],
      "execution_count": 4,
      "outputs": [
        {
          "output_type": "execute_result",
          "data": {
            "application/vnd.google.colaboratory.intrinsic+json": {
              "type": "string"
            },
            "text/plain": [
              "\"We'll__change__the__white__spaces__'\\\\s'__by__'__'.\""
            ]
          },
          "metadata": {},
          "execution_count": 4
        }
      ]
    },
    {
      "cell_type": "code",
      "metadata": {
        "colab": {
          "base_uri": "https://localhost:8080/",
          "height": 37
        },
        "id": "HX9W4MGjRY9L",
        "outputId": "0ebb67be-212a-4819-88a0-e5d5394b067b"
      },
      "source": [
        "re.sub(\"\\s\", \"__\", \"We'll change only 2 white spaces '\\s' by '__'.\", 2)"
      ],
      "execution_count": 5,
      "outputs": [
        {
          "output_type": "execute_result",
          "data": {
            "application/vnd.google.colaboratory.intrinsic+json": {
              "type": "string"
            },
            "text/plain": [
              "\"We'll__change__only 2 white spaces '\\\\s' by '__'.\""
            ]
          },
          "metadata": {},
          "execution_count": 5
        }
      ]
    },
    {
      "cell_type": "code",
      "metadata": {
        "colab": {
          "base_uri": "https://localhost:8080/"
        },
        "id": "hIoCC-yARaNg",
        "outputId": "9a3bc906-97c9-4eb8-ee9c-1697d0813cf3"
      },
      "source": [
        "import re\n",
        "email = \"example@mail.com\" \n",
        "pattern = r\"(^[a-z0-9._-]+@[a-z0-9._-]+\\.[(com|tn)]+)\"\n",
        "if (re.match(pattern,email)) is None:\n",
        "    print(\"Email validated\")\n",
        "else:\n",
        "    print(\"Wrong email format\")"
      ],
      "execution_count": 6,
      "outputs": [
        {
          "output_type": "stream",
          "name": "stdout",
          "text": [
            "Wrong email format\n"
          ]
        }
      ]
    },
    {
      "cell_type": "code",
      "metadata": {
        "colab": {
          "base_uri": "https://localhost:8080/"
        },
        "id": "jSjps5f-Rc1U",
        "outputId": "18989b7d-fcd1-4811-aa97-e62de145138c"
      },
      "source": [
        "re.match(pattern,email)"
      ],
      "execution_count": 7,
      "outputs": [
        {
          "output_type": "execute_result",
          "data": {
            "text/plain": [
              "<re.Match object; span=(0, 16), match='example@mail.com'>"
            ]
          },
          "metadata": {},
          "execution_count": 7
        }
      ]
    },
    {
      "cell_type": "markdown",
      "metadata": {
        "id": "OjeaEbB2Rew8"
      },
      "source": [
        "# 2. Collections — Container data types"
      ]
    },
    {
      "cell_type": "code",
      "metadata": {
        "colab": {
          "base_uri": "https://localhost:8080/"
        },
        "id": "s4EiBT2sRdwB",
        "outputId": "3019c1f6-057a-4828-dfb7-f1b7610eac9f"
      },
      "source": [
        "import collections\n",
        "L = [1,1,1,2,2,2,2,3,3,4]\n",
        "counter = collections.Counter(L)\n",
        "counter"
      ],
      "execution_count": 8,
      "outputs": [
        {
          "output_type": "execute_result",
          "data": {
            "text/plain": [
              "Counter({1: 3, 2: 4, 3: 2, 4: 1})"
            ]
          },
          "metadata": {},
          "execution_count": 8
        }
      ]
    },
    {
      "cell_type": "markdown",
      "metadata": {
        "id": "re7n--49RhyQ"
      },
      "source": [
        "# 3. time — Time access and conversions"
      ]
    },
    {
      "cell_type": "markdown",
      "metadata": {
        "id": "xYbr48dQRoqk"
      },
      "source": [
        "## The timestamp elapsed since the Epoch Unix."
      ]
    },
    {
      "cell_type": "code",
      "metadata": {
        "colab": {
          "base_uri": "https://localhost:8080/"
        },
        "id": "fdLQuZf9RgzA",
        "outputId": "b02eeedf-1f7e-47df-a86e-d52813a0f128"
      },
      "source": [
        "import time\n",
        "t = time.time()\n",
        "t"
      ],
      "execution_count": 9,
      "outputs": [
        {
          "output_type": "execute_result",
          "data": {
            "text/plain": [
              "1635061741.9408383"
            ]
          },
          "metadata": {},
          "execution_count": 9
        }
      ]
    },
    {
      "cell_type": "markdown",
      "metadata": {
        "id": "hP83DgWxRp1A"
      },
      "source": [
        "## The local date and time"
      ]
    },
    {
      "cell_type": "code",
      "metadata": {
        "colab": {
          "base_uri": "https://localhost:8080/"
        },
        "id": "Xf-J1l-9Rjfz",
        "outputId": "fe5a4a1a-ddd8-4680-f6d2-cd16c96d139a"
      },
      "source": [
        "import time\n",
        "t = time.localtime()\n",
        "print(t)\n",
        "year, month, day = t[0], t[1], t[2]\n",
        "print(year, month, day)"
      ],
      "execution_count": 10,
      "outputs": [
        {
          "output_type": "stream",
          "name": "stdout",
          "text": [
            "time.struct_time(tm_year=2021, tm_mon=10, tm_mday=24, tm_hour=7, tm_min=49, tm_sec=17, tm_wday=6, tm_yday=297, tm_isdst=0)\n",
            "2021 10 24\n"
          ]
        }
      ]
    },
    {
      "cell_type": "markdown",
      "metadata": {
        "id": "QPnSb395Rq3s"
      },
      "source": [
        "## Measure the elapsed time."
      ]
    },
    {
      "cell_type": "code",
      "metadata": {
        "colab": {
          "base_uri": "https://localhost:8080/"
        },
        "id": "PI7JNeEiRnWI",
        "outputId": "c7805cfd-d0d2-4b1d-c31d-d8e4ebb9a0ce"
      },
      "source": [
        "import time\n",
        "initial_t = time.time()\n",
        "var = 0\n",
        "while (var < 1000):\n",
        "    var += 1\n",
        "final_t = time.time()\n",
        "dt = final_t - initial_t\n",
        "dt"
      ],
      "execution_count": 11,
      "outputs": [
        {
          "output_type": "execute_result",
          "data": {
            "text/plain": [
              "0.0003256797790527344"
            ]
          },
          "metadata": {},
          "execution_count": 11
        }
      ]
    },
    {
      "cell_type": "code",
      "metadata": {
        "colab": {
          "base_uri": "https://localhost:8080/"
        },
        "id": "ifpKcQCIRusI",
        "outputId": "9b6822c8-194d-4ee8-a12a-26b0348405b3"
      },
      "source": [
        "initial_t"
      ],
      "execution_count": 12,
      "outputs": [
        {
          "output_type": "execute_result",
          "data": {
            "text/plain": [
              "1635061788.2780635"
            ]
          },
          "metadata": {},
          "execution_count": 12
        }
      ]
    },
    {
      "cell_type": "code",
      "metadata": {
        "colab": {
          "base_uri": "https://localhost:8080/"
        },
        "id": "CSBi909VRvdB",
        "outputId": "af07f9a5-c848-4624-bc82-cdc38808d780"
      },
      "source": [
        "final_t"
      ],
      "execution_count": 13,
      "outputs": [
        {
          "output_type": "execute_result",
          "data": {
            "text/plain": [
              "1635061788.2783892"
            ]
          },
          "metadata": {},
          "execution_count": 13
        }
      ]
    },
    {
      "cell_type": "code",
      "metadata": {
        "colab": {
          "base_uri": "https://localhost:8080/"
        },
        "id": "JzaszZs8Rxf1",
        "outputId": "50efd839-9653-44e0-d512-f6f3d3899bce"
      },
      "source": [
        "import time\n",
        "initial_t = time.perf_counter()\n",
        "var = 0\n",
        "while (var < 1000):\n",
        "    var += 1\n",
        "\n",
        "final_t = time.perf_counter()\n",
        "dt = final_t - initial_t\n",
        "dt"
      ],
      "execution_count": 14,
      "outputs": [
        {
          "output_type": "execute_result",
          "data": {
            "text/plain": [
              "0.00016329499999301333"
            ]
          },
          "metadata": {},
          "execution_count": 14
        }
      ]
    },
    {
      "cell_type": "markdown",
      "metadata": {
        "id": "ldVrAmIlR1c0"
      },
      "source": [
        "# 4. multiprocessing — Run multiple functions at the same time"
      ]
    },
    {
      "cell_type": "code",
      "metadata": {
        "colab": {
          "base_uri": "https://localhost:8080/"
        },
        "id": "86hGZX_YR0aS",
        "outputId": "390c26cf-4a27-44de-de28-82c6ba8bccc5"
      },
      "source": [
        "import time\n",
        "import multiprocessing\n",
        "def sleeping(s):\n",
        "    print(f\"Sleeping for {s} seconds.\")\n",
        "    time.sleep(s)\n",
        "    print(\"Done.\")\n",
        "...\n",
        "if __name__ == '__main__':\n",
        "   sleeping(1)\n",
        "   sleeping(1)\n",
        "   print(f\"Finished in {time.perf_counter()} seconds.\")"
      ],
      "execution_count": 15,
      "outputs": [
        {
          "output_type": "stream",
          "name": "stdout",
          "text": [
            "Sleeping for 1 seconds.\n",
            "Done.\n",
            "Sleeping for 1 seconds.\n",
            "Done.\n",
            "Finished in 307.611947561 seconds.\n"
          ]
        }
      ]
    },
    {
      "cell_type": "code",
      "metadata": {
        "colab": {
          "base_uri": "https://localhost:8080/"
        },
        "id": "kb8iquvGR5gb",
        "outputId": "b67a4220-f60d-4f3d-f064-d4d69b5547f2"
      },
      "source": [
        "# In this example the code finished after more than 2 seconds, which is logic because each function will sleep for 1 second.\n",
        "process1 = multiprocessing.Process(target = sleeping, args=(1,))\n",
        "process2 = multiprocessing.Process(target = sleeping, args=(1,))\n",
        "if __name__ == '__main__':\n",
        "   process1.start()\n",
        "   process2.start()\n",
        "   process1.join()\n",
        "   process2.join()\n",
        "   print(f\"Finished in {time.perf_counter()} seconds.\")"
      ],
      "execution_count": 16,
      "outputs": [
        {
          "output_type": "stream",
          "name": "stdout",
          "text": [
            "Sleeping for 1 seconds.\n",
            "Sleeping for 1 seconds.\n",
            "Done.\n",
            "Done.\n",
            "Finished in 317.350883443 seconds.\n"
          ]
        }
      ]
    },
    {
      "cell_type": "markdown",
      "metadata": {
        "id": "B4FM0TOBR9X9"
      },
      "source": [
        "# 5. Tkinter — GUI Applications"
      ]
    },
    {
      "cell_type": "code",
      "metadata": {
        "id": "agYS3TPuR8Hi"
      },
      "source": [
        "from tkinter import *\n",
        "root = Tk() # This automatically creates a graphical window with the title bar, minimize, maximize and close buttons. \n",
        "lbl = Label(root, text =\"Hello World\") # Now we create a Label widget as a child to the root window. Here root is the parent of our label widget. We set the default text to “Hello, World!”\n",
        "lbl.pack() \n",
        "root.mainloop()"
      ],
      "execution_count": 17,
      "outputs": []
    },
    {
      "cell_type": "markdown",
      "metadata": {
        "id": "5HFiTcE-SA2P"
      },
      "source": [
        "# 6. http — HyperText Transfer Protocol"
      ]
    },
    {
      "cell_type": "code",
      "metadata": {
        "colab": {
          "base_uri": "https://localhost:8080/"
        },
        "id": "ZyOEaFrBR_GD",
        "outputId": "afc30674-1518-4eeb-85c8-71c610af0019"
      },
      "source": [
        "import http.client\n",
        "conn = http.client.HTTPSConnection(\"ahmedazizkhelifi.medium.com\")\n",
        "conn.request(\"GET\", \"/\")\n",
        "resp = conn.getresponse()\n",
        "resp.status"
      ],
      "execution_count": 18,
      "outputs": [
        {
          "output_type": "execute_result",
          "data": {
            "text/plain": [
              "200"
            ]
          },
          "metadata": {},
          "execution_count": 18
        }
      ]
    },
    {
      "cell_type": "code",
      "metadata": {
        "colab": {
          "base_uri": "https://localhost:8080/"
        },
        "id": "BihYOLoBSCct",
        "outputId": "f6f3ada3-d97d-4c06-dc5f-e55050f2b70e"
      },
      "source": [
        "L = resp.readlines()\n",
        "L[0][:100]"
      ],
      "execution_count": 19,
      "outputs": [
        {
          "output_type": "execute_result",
          "data": {
            "text/plain": [
              "b'<!doctype html><html lang=\"en\"><head><script defer src=\"https://cdn.optimizely.com/js/16180790160.js'"
            ]
          },
          "metadata": {},
          "execution_count": 19
        }
      ]
    },
    {
      "cell_type": "code",
      "metadata": {
        "colab": {
          "base_uri": "https://localhost:8080/",
          "height": 358
        },
        "id": "CLoNg6rHSDsi",
        "outputId": "563e798e-8ba3-47fa-9c87-63901888da8c"
      },
      "source": [
        "import http.server\n",
        "PORT = 8888\n",
        "server_address = (\"\", PORT)\n",
        "server = http.server.HTTPServer\n",
        "handler = http.server.CGIHTTPRequestHandler\n",
        "handler.cgi_directories = [\"/\"]\n",
        "print(\"Server active on the port :\", PORT)\n",
        "\n",
        "httpd = server(server_address, handler)\n",
        "httpd.serve_forever() # You can check the server on localhost:8888"
      ],
      "execution_count": 20,
      "outputs": [
        {
          "output_type": "stream",
          "name": "stdout",
          "text": [
            "Server active on the port : 8888\n"
          ]
        },
        {
          "output_type": "error",
          "ename": "KeyboardInterrupt",
          "evalue": "ignored",
          "traceback": [
            "\u001b[0;31m---------------------------------------------------------------------------\u001b[0m",
            "\u001b[0;31mKeyboardInterrupt\u001b[0m                         Traceback (most recent call last)",
            "\u001b[0;32m<ipython-input-20-b559a7f9b336>\u001b[0m in \u001b[0;36m<module>\u001b[0;34m()\u001b[0m\n\u001b[1;32m      8\u001b[0m \u001b[0;34m\u001b[0m\u001b[0m\n\u001b[1;32m      9\u001b[0m \u001b[0mhttpd\u001b[0m \u001b[0;34m=\u001b[0m \u001b[0mserver\u001b[0m\u001b[0;34m(\u001b[0m\u001b[0mserver_address\u001b[0m\u001b[0;34m,\u001b[0m \u001b[0mhandler\u001b[0m\u001b[0;34m)\u001b[0m\u001b[0;34m\u001b[0m\u001b[0;34m\u001b[0m\u001b[0m\n\u001b[0;32m---> 10\u001b[0;31m \u001b[0mhttpd\u001b[0m\u001b[0;34m.\u001b[0m\u001b[0mserve_forever\u001b[0m\u001b[0;34m(\u001b[0m\u001b[0;34m)\u001b[0m \u001b[0;31m# You can check the server on localhost:8888\u001b[0m\u001b[0;34m\u001b[0m\u001b[0;34m\u001b[0m\u001b[0m\n\u001b[0m",
            "\u001b[0;32m/usr/lib/python3.7/socketserver.py\u001b[0m in \u001b[0;36mserve_forever\u001b[0;34m(self, poll_interval)\u001b[0m\n\u001b[1;32m    230\u001b[0m \u001b[0;34m\u001b[0m\u001b[0m\n\u001b[1;32m    231\u001b[0m                 \u001b[0;32mwhile\u001b[0m \u001b[0;32mnot\u001b[0m \u001b[0mself\u001b[0m\u001b[0;34m.\u001b[0m\u001b[0m__shutdown_request\u001b[0m\u001b[0;34m:\u001b[0m\u001b[0;34m\u001b[0m\u001b[0;34m\u001b[0m\u001b[0m\n\u001b[0;32m--> 232\u001b[0;31m                     \u001b[0mready\u001b[0m \u001b[0;34m=\u001b[0m \u001b[0mselector\u001b[0m\u001b[0;34m.\u001b[0m\u001b[0mselect\u001b[0m\u001b[0;34m(\u001b[0m\u001b[0mpoll_interval\u001b[0m\u001b[0;34m)\u001b[0m\u001b[0;34m\u001b[0m\u001b[0;34m\u001b[0m\u001b[0m\n\u001b[0m\u001b[1;32m    233\u001b[0m                     \u001b[0;31m# bpo-35017: shutdown() called during select(), exit immediately.\u001b[0m\u001b[0;34m\u001b[0m\u001b[0;34m\u001b[0m\u001b[0;34m\u001b[0m\u001b[0m\n\u001b[1;32m    234\u001b[0m                     \u001b[0;32mif\u001b[0m \u001b[0mself\u001b[0m\u001b[0;34m.\u001b[0m\u001b[0m__shutdown_request\u001b[0m\u001b[0;34m:\u001b[0m\u001b[0;34m\u001b[0m\u001b[0;34m\u001b[0m\u001b[0m\n",
            "\u001b[0;32m/usr/lib/python3.7/selectors.py\u001b[0m in \u001b[0;36mselect\u001b[0;34m(self, timeout)\u001b[0m\n\u001b[1;32m    413\u001b[0m         \u001b[0mready\u001b[0m \u001b[0;34m=\u001b[0m \u001b[0;34m[\u001b[0m\u001b[0;34m]\u001b[0m\u001b[0;34m\u001b[0m\u001b[0;34m\u001b[0m\u001b[0m\n\u001b[1;32m    414\u001b[0m         \u001b[0;32mtry\u001b[0m\u001b[0;34m:\u001b[0m\u001b[0;34m\u001b[0m\u001b[0;34m\u001b[0m\u001b[0m\n\u001b[0;32m--> 415\u001b[0;31m             \u001b[0mfd_event_list\u001b[0m \u001b[0;34m=\u001b[0m \u001b[0mself\u001b[0m\u001b[0;34m.\u001b[0m\u001b[0m_selector\u001b[0m\u001b[0;34m.\u001b[0m\u001b[0mpoll\u001b[0m\u001b[0;34m(\u001b[0m\u001b[0mtimeout\u001b[0m\u001b[0;34m)\u001b[0m\u001b[0;34m\u001b[0m\u001b[0;34m\u001b[0m\u001b[0m\n\u001b[0m\u001b[1;32m    416\u001b[0m         \u001b[0;32mexcept\u001b[0m \u001b[0mInterruptedError\u001b[0m\u001b[0;34m:\u001b[0m\u001b[0;34m\u001b[0m\u001b[0;34m\u001b[0m\u001b[0m\n\u001b[1;32m    417\u001b[0m             \u001b[0;32mreturn\u001b[0m \u001b[0mready\u001b[0m\u001b[0;34m\u001b[0m\u001b[0;34m\u001b[0m\u001b[0m\n",
            "\u001b[0;31mKeyboardInterrupt\u001b[0m: "
          ]
        }
      ]
    },
    {
      "cell_type": "markdown",
      "metadata": {
        "id": "Vqlw6TH-SHsK"
      },
      "source": [
        "# 7. hashlib — Secure hashes and message digests"
      ]
    },
    {
      "cell_type": "code",
      "metadata": {
        "colab": {
          "base_uri": "https://localhost:8080/"
        },
        "id": "iDSlYRIRSGON",
        "outputId": "e693b42f-73bd-4bef-c545-1b754dfa71d0"
      },
      "source": [
        "import hashlib\n",
        "var = hashlib.sha256()\n",
        "var.update(b\"Welcome!\")\n",
        "var.digest()\n",
        "print(var.digest_size)\n",
        "print(var.block_size)"
      ],
      "execution_count": 21,
      "outputs": [
        {
          "output_type": "stream",
          "name": "stdout",
          "text": [
            "32\n",
            "64\n"
          ]
        }
      ]
    },
    {
      "cell_type": "markdown",
      "metadata": {
        "id": "9NCkIcaSSRC0"
      },
      "source": [
        "# 8. json — JSON encoder and decoder"
      ]
    },
    {
      "cell_type": "code",
      "metadata": {
        "colab": {
          "base_uri": "https://localhost:8080/",
          "height": 37
        },
        "id": "5QB-gwNuSO4Z",
        "outputId": "cae63a44-c9d6-4130-ecf0-2b286c27845c"
      },
      "source": [
        "import json\n",
        "_str = '{ \"name\":\"Ahmed Aziz\", \"age\":21, \"country\":\"Tunisia\"}'\n",
        "_dict = json.loads(_str)\n",
        "_dict\n",
        "_dict[\"name\"]"
      ],
      "execution_count": 22,
      "outputs": [
        {
          "output_type": "execute_result",
          "data": {
            "application/vnd.google.colaboratory.intrinsic+json": {
              "type": "string"
            },
            "text/plain": [
              "'Ahmed Aziz'"
            ]
          },
          "metadata": {},
          "execution_count": 22
        }
      ]
    },
    {
      "cell_type": "code",
      "metadata": {
        "id": "JycT_2p3STo8"
      },
      "source": [
        "d = { \"name\": \"Ahmed Aziz\",\n",
        "    \"Age\" : 21,\n",
        "    \"Country\" : \"Tunisia\"\n",
        "    }\n",
        "_str2 =json.dumps(d)"
      ],
      "execution_count": 23,
      "outputs": []
    },
    {
      "cell_type": "markdown",
      "metadata": {
        "id": "ly1JbFHCSW-Z"
      },
      "source": [
        "# 9. CSV — Managing CSV files"
      ]
    },
    {
      "cell_type": "code",
      "metadata": {
        "id": "LOgvdvsvSV4U"
      },
      "source": [
        "import csv\n",
        "with open('data.csv') as csvfile:\n",
        "    reader = csv.reader(file) # type : <class '_csv.reader'>\n",
        "    for row in reader:\n",
        "            print(row) # type : <class 'list'>"
      ],
      "execution_count": 25,
      "outputs": []
    },
    {
      "cell_type": "markdown",
      "metadata": {
        "id": "PaPKJDe5Sgcy"
      },
      "source": [
        "# 10. copy — Shallow and deep copy operations"
      ]
    },
    {
      "cell_type": "markdown",
      "metadata": {
        "id": "ja916lovShls"
      },
      "source": [
        "- Shallow copy : y = copy.copy(x) : single level copy. If we modify values of x, the values of y are not modified, but if we modify values of one of the objects of x, they will be modified in y.\n",
        "- Deep copy : y = copy.deepcopy(x) : recursive copy. x and y are completely independent."
      ]
    },
    {
      "cell_type": "markdown",
      "metadata": {
        "id": "e2FvgKpJSkA6"
      },
      "source": [
        "# 11. Random — Generate pseudo-random numbers"
      ]
    },
    {
      "cell_type": "code",
      "metadata": {
        "colab": {
          "base_uri": "https://localhost:8080/"
        },
        "id": "fn5He-0uSdUq",
        "outputId": "47c449d2-d999-4246-be14-e6b47ceebec6"
      },
      "source": [
        "import random\n",
        "random.random()"
      ],
      "execution_count": 26,
      "outputs": [
        {
          "output_type": "execute_result",
          "data": {
            "text/plain": [
              "0.7324806369879374"
            ]
          },
          "metadata": {},
          "execution_count": 26
        }
      ]
    },
    {
      "cell_type": "code",
      "metadata": {
        "colab": {
          "base_uri": "https://localhost:8080/"
        },
        "id": "6cv60TzmSlV7",
        "outputId": "ca276ac5-8762-4b3c-da73-ba3350f4929f"
      },
      "source": [
        "import random\n",
        "random.randint(1, 100) # random number between 1 and 100 (both included)\n",
        "random.randint(1, 250) # random number between 1 and 250 (both included)"
      ],
      "execution_count": 27,
      "outputs": [
        {
          "output_type": "execute_result",
          "data": {
            "text/plain": [
              "173"
            ]
          },
          "metadata": {},
          "execution_count": 27
        }
      ]
    }
  ]
}