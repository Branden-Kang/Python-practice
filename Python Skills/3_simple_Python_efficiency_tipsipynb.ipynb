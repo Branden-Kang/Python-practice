{
  "nbformat": 4,
  "nbformat_minor": 0,
  "metadata": {
    "colab": {
      "name": "3 simple Python efficiency tipsipynb",
      "provenance": [],
      "authorship_tag": "ABX9TyOOkicBkVgG3/e0v3yaH83+"
    },
    "kernelspec": {
      "name": "python3",
      "display_name": "Python 3"
    },
    "language_info": {
      "name": "python"
    }
  },
  "cells": [
    {
      "cell_type": "markdown",
      "metadata": {
        "id": "8nb4nQbTBpTQ"
      },
      "source": [
        "[Reference](https://towardsdatascience.com/3-simple-python-efficiency-tips-f7c35b511503)"
      ]
    },
    {
      "cell_type": "code",
      "metadata": {
        "id": "aEmBCjs2BmQE"
      },
      "source": [
        "records = [\n",
        "  {\"id\": 1, \"name\": \"John\", \"surname\": \"Doe\", \"country\": \"ES\"},\n",
        "  {\"id\": 2, \"name\": \"Alice\", \"surname\": \"Bond\", \"country\": \"IT\"},\n",
        "  {\"id\": 1000, \"name\": \"Foo\", \"surname\": \"Bar\", \"country\": \"IN\"}\n",
        "]\n",
        "ids = [1, 2, 50, 70, 87]"
      ],
      "execution_count": 3,
      "outputs": []
    },
    {
      "cell_type": "code",
      "metadata": {
        "colab": {
          "base_uri": "https://localhost:8080/"
        },
        "id": "d6KBbwg-BsDl",
        "outputId": "3c9dc716-4b64-4054-c17b-a56ce9113260"
      },
      "source": [
        "for id in ids:\n",
        "  for r in records:\n",
        "    if id == r['id']:\n",
        "      print(r)"
      ],
      "execution_count": 5,
      "outputs": [
        {
          "output_type": "stream",
          "text": [
            "{'id': 1, 'name': 'John', 'surname': 'Doe', 'country': 'ES'}\n",
            "{'id': 2, 'name': 'Alice', 'surname': 'Bond', 'country': 'IT'}\n"
          ],
          "name": "stdout"
        }
      ]
    },
    {
      "cell_type": "code",
      "metadata": {
        "colab": {
          "base_uri": "https://localhost:8080/"
        },
        "id": "7yCOXCMGBvR-",
        "outputId": "cd633ebd-12d3-4854-e30d-fb890bc674d4"
      },
      "source": [
        "records = {r['id']: r for r in records}\n",
        "for id in ids:\n",
        "  print(records.get(id))"
      ],
      "execution_count": 6,
      "outputs": [
        {
          "output_type": "stream",
          "text": [
            "{'id': 1, 'name': 'John', 'surname': 'Doe', 'country': 'ES'}\n",
            "{'id': 2, 'name': 'Alice', 'surname': 'Bond', 'country': 'IT'}\n",
            "None\n",
            "None\n",
            "None\n"
          ],
          "name": "stdout"
        }
      ]
    },
    {
      "cell_type": "code",
      "metadata": {
        "colab": {
          "base_uri": "https://localhost:8080/"
        },
        "id": "1cWwvKX8B4sD",
        "outputId": "66d6f79f-bbba-4e8a-f187-7e658ea1d9ee"
      },
      "source": [
        "sids = set(ids)\n",
        "70 in sids"
      ],
      "execution_count": 8,
      "outputs": [
        {
          "output_type": "execute_result",
          "data": {
            "text/plain": [
              "True"
            ]
          },
          "metadata": {
            "tags": []
          },
          "execution_count": 8
        }
      ]
    },
    {
      "cell_type": "code",
      "metadata": {
        "id": "Lp3N7r63B8Oj"
      },
      "source": [
        "c = {}\n",
        "for r in records:\n",
        "  try:\n",
        "    c[r['country']] += 1\n",
        "  except KeyError:\n",
        "    c[r['country']] = 1"
      ],
      "execution_count": 13,
      "outputs": []
    }
  ]
}