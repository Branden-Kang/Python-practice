{
  "nbformat": 4,
  "nbformat_minor": 0,
  "metadata": {
    "colab": {
      "name": "8 Built-in Functions for Python Programmer.ipynb",
      "provenance": [],
      "authorship_tag": "ABX9TyMVYvwImL209JJ8Ry5c5UYA"
    },
    "kernelspec": {
      "name": "python3",
      "display_name": "Python 3"
    },
    "language_info": {
      "name": "python"
    }
  },
  "cells": [
    {
      "cell_type": "markdown",
      "metadata": {
        "id": "K74ohDGXSgvL"
      },
      "source": [
        "[Reference](https://levelup.gitconnected.com/8-built-in-functions-every-python-programmer-should-know-3552eb768894)"
      ]
    },
    {
      "cell_type": "code",
      "metadata": {
        "colab": {
          "base_uri": "https://localhost:8080/"
        },
        "id": "sKaUSiuoSdmR",
        "outputId": "83bce3ce-e788-4d38-a558-efe842bc2caa"
      },
      "source": [
        "str1 = \"Hello World\"\n",
        "a = 12.5\n",
        "tup = ('a', 'b', 'c')\n",
        "\n",
        "print('hash value for a string: ', hash(str1))\n",
        "print('hash value for a decimal: ', hash(a))\n",
        "print('hash value for a tuple: ', hash(tup))"
      ],
      "execution_count": 1,
      "outputs": [
        {
          "output_type": "stream",
          "text": [
            "hash value for a string:  3876084272507111823\n",
            "hash value for a decimal:  1152921504606846988\n",
            "hash value for a tuple:  7259379576332965049\n"
          ],
          "name": "stdout"
        }
      ]
    },
    {
      "cell_type": "code",
      "metadata": {
        "colab": {
          "base_uri": "https://localhost:8080/"
        },
        "id": "lumF7Ny-So-O",
        "outputId": "f7f17681-ee92-4bc4-880e-e4d58d8ebd43"
      },
      "source": [
        "def square(n):\n",
        "    return n * n\n",
        "\n",
        "num_list = [1,2,3,4]\n",
        "result = map(square, num_list)\n",
        "print('Mapped result is: ', list(result))"
      ],
      "execution_count": 2,
      "outputs": [
        {
          "output_type": "stream",
          "text": [
            "Mapped result is:  [1, 4, 9, 16]\n"
          ],
          "name": "stdout"
        }
      ]
    },
    {
      "cell_type": "code",
      "metadata": {
        "colab": {
          "base_uri": "https://localhost:8080/"
        },
        "id": "68cljSr8StKu",
        "outputId": "9e2b06b4-ca6f-421d-aa43-82ad94728176"
      },
      "source": [
        "numbers = [1, 2, 3]\n",
        "letters = ['One', 'Two', 'Three']\n",
        "\n",
        "result = zip(numbers, letters)\n",
        "\n",
        "# converting values to print as set\n",
        "result = set(result)\n",
        "print('The zipped result is: ', result)"
      ],
      "execution_count": 3,
      "outputs": [
        {
          "output_type": "stream",
          "text": [
            "The zipped result is:  {(1, 'One'), (3, 'Three'), (2, 'Two')}\n"
          ],
          "name": "stdout"
        }
      ]
    },
    {
      "cell_type": "code",
      "metadata": {
        "colab": {
          "base_uri": "https://localhost:8080/"
        },
        "id": "z_-d4-17SuVY",
        "outputId": "eb0852c2-7a7b-4c6f-d1d7-083c1156448c"
      },
      "source": [
        "result1 = eval('10 + 15')\n",
        "\n",
        "result2 = eval('3 * 8')\n",
        "\n",
        "print(result1)\n",
        "print(result2)"
      ],
      "execution_count": 4,
      "outputs": [
        {
          "output_type": "stream",
          "text": [
            "25\n",
            "24\n"
          ],
          "name": "stdout"
        }
      ]
    },
    {
      "cell_type": "code",
      "metadata": {
        "colab": {
          "base_uri": "https://localhost:8080/"
        },
        "id": "ChFVXlsoSwHs",
        "outputId": "ac5f04f0-cb22-4345-93b6-80176085f99b"
      },
      "source": [
        "txt1 = \"apple#banana#cherry#orange\"\n",
        "txt2 = \"Hello how are you\"\n",
        "\n",
        "result1= txt1.split(\"#\")\n",
        "result2 = txt2.split(\" \")\n",
        "\n",
        "print(result1)\n",
        "print(result2)"
      ],
      "execution_count": 5,
      "outputs": [
        {
          "output_type": "stream",
          "text": [
            "['apple', 'banana', 'cherry', 'orange']\n",
            "['Hello', 'how', 'are', 'you']\n"
          ],
          "name": "stdout"
        }
      ]
    },
    {
      "cell_type": "code",
      "metadata": {
        "colab": {
          "base_uri": "https://localhost:8080/"
        },
        "id": "0ln4AqUySxqk",
        "outputId": "705baf0d-0f5e-4e68-adc7-805b92bfcac0"
      },
      "source": [
        "x = ord('a')\n",
        "y = ord('$')\n",
        "z = ord(' ')   #space character\n",
        "\n",
        "print(x)\n",
        "print(y)\n",
        "print(z)"
      ],
      "execution_count": 6,
      "outputs": [
        {
          "output_type": "stream",
          "text": [
            "97\n",
            "36\n",
            "32\n"
          ],
          "name": "stdout"
        }
      ]
    },
    {
      "cell_type": "code",
      "metadata": {
        "colab": {
          "base_uri": "https://localhost:8080/"
        },
        "id": "-XaE--D6S3_z",
        "outputId": "692d2323-b31b-49e5-f4e7-6138d6293a3f"
      },
      "source": [
        "class Student:\n",
        "  name = \"Joy\",\n",
        "  age = 16,\n",
        "  rollNo = 25\n",
        "  \n",
        "print(dir(Student))"
      ],
      "execution_count": 7,
      "outputs": [
        {
          "output_type": "stream",
          "text": [
            "['__class__', '__delattr__', '__dict__', '__dir__', '__doc__', '__eq__', '__format__', '__ge__', '__getattribute__', '__gt__', '__hash__', '__init__', '__init_subclass__', '__le__', '__lt__', '__module__', '__ne__', '__new__', '__reduce__', '__reduce_ex__', '__repr__', '__setattr__', '__sizeof__', '__str__', '__subclasshook__', '__weakref__', 'age', 'name', 'rollNo']\n"
          ],
          "name": "stdout"
        }
      ]
    },
    {
      "cell_type": "code",
      "metadata": {
        "colab": {
          "base_uri": "https://localhost:8080/"
        },
        "id": "FhO3TvybS5Jx",
        "outputId": "f5f43109-3970-437a-825a-4b0a10c080c9"
      },
      "source": [
        "x = pow(2, 3)\n",
        "y = pow(3, 3)\n",
        "print(x)\n",
        "print(y)"
      ],
      "execution_count": 9,
      "outputs": [
        {
          "output_type": "stream",
          "text": [
            "8\n",
            "27\n"
          ],
          "name": "stdout"
        }
      ]
    }
  ]
}