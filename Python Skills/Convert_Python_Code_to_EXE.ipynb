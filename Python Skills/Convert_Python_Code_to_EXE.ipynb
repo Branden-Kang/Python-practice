{
  "nbformat": 4,
  "nbformat_minor": 0,
  "metadata": {
    "colab": {
      "name": "Convert Python Code to EXE.ipynb",
      "provenance": [],
      "authorship_tag": "ABX9TyMsmIdHGhv7vxhlBjEZY2NU"
    },
    "kernelspec": {
      "name": "python3",
      "display_name": "Python 3"
    },
    "language_info": {
      "name": "python"
    }
  },
  "cells": [
    {
      "cell_type": "markdown",
      "metadata": {
        "id": "YGDb7Nn43Y3x"
      },
      "source": [
        "[Reference](https://apiric.medium.com/convert-python-code-to-exe-7685dd607838)"
      ]
    },
    {
      "cell_type": "code",
      "metadata": {
        "id": "-mzyW6jS3Sj2"
      },
      "source": [
        "import cx_Freeze, sys\n",
        "\n",
        "base = None\n",
        "\n",
        "if sys.platform == 'win32':\n",
        "    base = \"Win32GUI\"\n",
        "\n",
        "executables = [cx_Freeze.Executable(\"YOUR_PROGRAM.py\", base=base, targetName=\"NAME_OF_EXE\")]\n",
        "\n",
        "cx_Freeze.setup(\n",
        "    name=\"NAME_OF_EXE\",\n",
        "    options={\"build_exe\": {\"packages\": [\"tkinter\"], \"include_files\": [\n",
        "        \"someImage.png\", \"anotherImage.png\",\n",
        "    ]}},\n",
        "    version=\"1.0\",\n",
        "    description=\"DESCRIBE YOUR PROGRAM\",\n",
        "    executables=executables\n",
        ")"
      ],
      "execution_count": 2,
      "outputs": []
    }
  ]
}