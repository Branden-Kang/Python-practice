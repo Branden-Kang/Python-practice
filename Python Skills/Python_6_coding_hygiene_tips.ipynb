{
  "nbformat": 4,
  "nbformat_minor": 0,
  "metadata": {
    "colab": {
      "name": "Python: 6 coding hygiene tips.ipynb",
      "provenance": [],
      "authorship_tag": "ABX9TyN/5mz0BFNKQTpLVaroQD3q"
    },
    "kernelspec": {
      "name": "python3",
      "display_name": "Python 3"
    }
  },
  "cells": [
    {
      "cell_type": "markdown",
      "metadata": {
        "id": "02QpAKGbu5fE"
      },
      "source": [
        "[Reference](https://towardsdatascience.com/python-6-coding-hygiene-tips-that-helped-me-got-promoted-c70b4380f1c7)"
      ]
    },
    {
      "cell_type": "markdown",
      "metadata": {
        "id": "fyuSNWbNu3-c"
      },
      "source": [
        "# 1. Always comment your code and explain why you do it.\n",
        "You should always comment your code and more importantly explain why you are doing something"
      ]
    },
    {
      "cell_type": "markdown",
      "metadata": {
        "id": "O4-n8PD3vB-S"
      },
      "source": [
        "# 2. Keep your code dry\n",
        "Keep your code short and as dry as possible"
      ]
    },
    {
      "cell_type": "markdown",
      "metadata": {
        "id": "Q_9TmM-7vKG0"
      },
      "source": [
        "# 3.Keep all variable names in lower case."
      ]
    },
    {
      "cell_type": "markdown",
      "metadata": {
        "id": "lbx12GofvRfA"
      },
      "source": [
        "# 4. Consistent naming convention\n",
        "variablename_digit_date"
      ]
    },
    {
      "cell_type": "markdown",
      "metadata": {
        "id": "wpRoDoMsvc50"
      },
      "source": [
        "# 5. Test and reconcile your code"
      ]
    },
    {
      "cell_type": "markdown",
      "metadata": {
        "id": "Bnk40M5ZwPvz"
      },
      "source": [
        "# 6. Listen"
      ]
    }
  ]
}