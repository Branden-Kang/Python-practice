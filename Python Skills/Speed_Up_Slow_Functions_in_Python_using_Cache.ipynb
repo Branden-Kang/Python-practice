{
  "nbformat": 4,
  "nbformat_minor": 0,
  "metadata": {
    "colab": {
      "name": "Speed Up Slow Functions in Python using Cache.ipynb",
      "provenance": [],
      "authorship_tag": "ABX9TyNNwxI563JvknYEPUgyalZx"
    },
    "kernelspec": {
      "name": "python3",
      "display_name": "Python 3"
    },
    "language_info": {
      "name": "python"
    }
  },
  "cells": [
    {
      "cell_type": "markdown",
      "metadata": {
        "id": "-Z_UOnvFX7E5"
      },
      "source": [
        "[Reference](https://medium.com/hackerdawn/speed-up-slow-functions-in-python-using-cache-49dd7f7eb13c)"
      ]
    },
    {
      "cell_type": "markdown",
      "metadata": {
        "id": "dj35hIbcX-Yj"
      },
      "source": [
        "# LRU Cache"
      ]
    },
    {
      "cell_type": "code",
      "metadata": {
        "id": "MWtTLb1OXipE"
      },
      "source": [
        "def factorial_recursive(n):\n",
        "    return n * factorial_recursive(n-1) if n > 1 else 1"
      ],
      "execution_count": 23,
      "outputs": []
    },
    {
      "cell_type": "code",
      "metadata": {
        "id": "3CmPW2fKc1-U"
      },
      "source": [
        "from functools import lru_cache\n",
        "\n",
        "@lru_cache(maxsize=None)\n",
        "def factorial_recursive_lru_cache(n):\n",
        "    return n * factorial_recursive_lru_cache(n-1) if n > 1 else 1"
      ],
      "execution_count": 24,
      "outputs": []
    },
    {
      "cell_type": "code",
      "metadata": {
        "colab": {
          "base_uri": "https://localhost:8080/"
        },
        "id": "i7J6PmvqYE27",
        "outputId": "8376e7e8-5ae5-4f8e-9afd-9473e2f613a6"
      },
      "source": [
        "# Without LRU Cache\n",
        "import time\n",
        "start_time = time.time()\n",
        "factorial_recursive(100)\n",
        "factorial_recursive_time = time.time() - start_time\n",
        "print(factorial_recursive_time)"
      ],
      "execution_count": 46,
      "outputs": [
        {
          "output_type": "stream",
          "text": [
            "8.606910705566406e-05\n"
          ],
          "name": "stdout"
        }
      ]
    },
    {
      "cell_type": "code",
      "metadata": {
        "colab": {
          "base_uri": "https://localhost:8080/"
        },
        "id": "rxXwXGM1YG_j",
        "outputId": "b27741cf-ba2c-4246-d07e-91d6370a628e"
      },
      "source": [
        "# With LRU Cache\n",
        "start_time = time.time()\n",
        "factorial_recursive_lru_cache(100)\n",
        "factorial_recursive_lru_cache_time = time.time() - start_time\n",
        "print(factorial_recursive_lru_cache_time)"
      ],
      "execution_count": 47,
      "outputs": [
        {
          "output_type": "stream",
          "text": [
            "7.104873657226562e-05\n"
          ],
          "name": "stdout"
        }
      ]
    },
    {
      "cell_type": "code",
      "metadata": {
        "colab": {
          "base_uri": "https://localhost:8080/"
        },
        "id": "5lFPRO5EYkJk",
        "outputId": "3d4b53ec-21df-4cd3-bd6f-29cf773be51e"
      },
      "source": [
        "print(factorial_recursive_time/factorial_recursive_lru_cache_time)"
      ],
      "execution_count": 48,
      "outputs": [
        {
          "output_type": "stream",
          "text": [
            "1.2114093959731544\n"
          ],
          "name": "stdout"
        }
      ]
    },
    {
      "cell_type": "markdown",
      "metadata": {
        "id": "Cd-XPtGFYR33"
      },
      "source": [
        "# Fibonacci Function"
      ]
    },
    {
      "cell_type": "code",
      "metadata": {
        "id": "JMM-5K5zYJaJ"
      },
      "source": [
        "def fibo_recursive(n):\n",
        "    if n < 3:\n",
        "        return 1\n",
        "    return fibo_recursive(n - 1) + fibo_recursive(n - 2)"
      ],
      "execution_count": 34,
      "outputs": []
    },
    {
      "cell_type": "code",
      "metadata": {
        "id": "BBJemuFWYT7Z"
      },
      "source": [
        "@lru_cache(maxsize=None)\n",
        "def fibo_recursive_lru_cache(n):\n",
        "    if n < 3:\n",
        "        return 1\n",
        "    return fibo_recursive_lru_cache(n - 1) + fibo_recursive_lru_cache(n - 2)"
      ],
      "execution_count": 35,
      "outputs": []
    },
    {
      "cell_type": "code",
      "metadata": {
        "colab": {
          "base_uri": "https://localhost:8080/"
        },
        "id": "XnohshwxYVVZ",
        "outputId": "c6ce6066-a2cc-4c17-fb87-1e839defc3d4"
      },
      "source": [
        "# Without LRU Cache\n",
        "start_time = time.time()\n",
        "fibo_recursive(30)\n",
        "fibo_recursive_time = time.time() - start_time\n",
        "print(fibo_recursive_time)"
      ],
      "execution_count": 50,
      "outputs": [
        {
          "output_type": "stream",
          "text": [
            "0.20725607872009277\n"
          ],
          "name": "stdout"
        }
      ]
    },
    {
      "cell_type": "code",
      "metadata": {
        "colab": {
          "base_uri": "https://localhost:8080/"
        },
        "id": "LjBCdNMKYWeB",
        "outputId": "7af31ff1-4b7d-4ce8-bd27-e1b579ac9e81"
      },
      "source": [
        "# With LRU Cache\n",
        "start_time = time.time()\n",
        "fibo_recursive_lru_cache(30)\n",
        "fibo_recursive_lru_cache_time = time.time() - start_time\n",
        "print(fibo_recursive_lru_cache_time)"
      ],
      "execution_count": 51,
      "outputs": [
        {
          "output_type": "stream",
          "text": [
            "4.601478576660156e-05\n"
          ],
          "name": "stdout"
        }
      ]
    },
    {
      "cell_type": "code",
      "metadata": {
        "colab": {
          "base_uri": "https://localhost:8080/"
        },
        "id": "wg1Qds0JYX6H",
        "outputId": "1c934dbc-e9ca-49ca-cdef-a59eabfd59a0"
      },
      "source": [
        "print(fibo_recursive_time/fibo_recursive_lru_cache_time)"
      ],
      "execution_count": 52,
      "outputs": [
        {
          "output_type": "stream",
          "text": [
            "4504.119170984456\n"
          ],
          "name": "stdout"
        }
      ]
    }
  ]
}