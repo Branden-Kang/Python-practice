{
  "nbformat": 4,
  "nbformat_minor": 0,
  "metadata": {
    "colab": {
      "provenance": [],
      "authorship_tag": "ABX9TyPIGnahHYj/sqDopHPBCeGj"
    },
    "kernelspec": {
      "name": "python3",
      "display_name": "Python 3"
    },
    "language_info": {
      "name": "python"
    }
  },
  "cells": [
    {
      "cell_type": "markdown",
      "source": [
        "[Reference](https://pravash-techie.medium.com/python-unlocking-the-power-of-structural-pattern-matching-7da2a1d1b374)"
      ],
      "metadata": {
        "id": "fjNSyv64HXU5"
      }
    },
    {
      "cell_type": "code",
      "execution_count": 3,
      "metadata": {
        "id": "0LdNWcbPG2bU"
      },
      "outputs": [],
      "source": [
        "# def execute_command(command_arg) -> None:\n",
        "#     match command_arg.split():\n",
        "#         case [\"load\", filename]:\n",
        "#             print(f\"Loading file: {filename}.\")\n",
        "#         case [\"save\", filename]:\n",
        "#             print(f\"Saving to file: {filename}.\")\n",
        "#         case [\"quit\" | \"exit\" | \"bye\"]:\n",
        "#             print(\"Quitting the program.\")\n",
        "#             quit()\n",
        "#         case _:\n",
        "#             print(f\"Unknown command: {command_arg!r}.\")\n",
        "\n",
        "# def main() -> None:\n",
        "#     while True:\n",
        "#         command_arg = input()\n",
        "#         execute_command(command_arg)\n",
        "\n",
        "\n",
        "# if __name__ == '__main__':\n",
        "#     main()"
      ]
    },
    {
      "cell_type": "code",
      "source": [
        "# case [\"quit\" | \"exit\" | \"bye\", *other]:\n",
        "#     if \"--force\" in other:\n",
        "#         print(\"Forcefully quitting the program.\")\n",
        "#     else:\n",
        "#         print(\"Quitting the program.\")"
      ],
      "metadata": {
        "colab": {
          "base_uri": "https://localhost:8080/",
          "height": 130
        },
        "id": "t_VJsN3nG8MF",
        "outputId": "af0e1d97-78ad-4f36-878d-8483f45675b1"
      },
      "execution_count": 1,
      "outputs": [
        {
          "output_type": "error",
          "ename": "SyntaxError",
          "evalue": "ignored",
          "traceback": [
            "\u001b[0;36m  File \u001b[0;32m\"<ipython-input-1-a972ed9b9c01>\"\u001b[0;36m, line \u001b[0;32m1\u001b[0m\n\u001b[0;31m    case [\"quit\" | \"exit\" | \"bye\", *other]:\u001b[0m\n\u001b[0m                                   ^\u001b[0m\n\u001b[0;31mSyntaxError\u001b[0m\u001b[0;31m:\u001b[0m invalid syntax\n"
          ]
        }
      ]
    },
    {
      "cell_type": "code",
      "source": [
        "from dataclasses import dataclass\n",
        "import shlex\n",
        "from typing import List\n",
        "\n",
        "\n",
        "@dataclass\n",
        "class CommandArg():\n",
        "    command: str\n",
        "    argument: list[str]\n",
        "\n",
        "\n",
        "def execute_command(command_arg):\n",
        "    match command_arg:\n",
        "        case CommandArg(command=\"load\", argument=filename):\n",
        "            print(f\"Loading file: {filename}.\")\n",
        "        case CommandArg(command=\"save\", argument=filename):\n",
        "            print(f\"Saving to file: {filename}.\")\n",
        "        case CommandArg(command=\"quit\" | \"exit\" | \"bye\", argument=[\"--force\" | \"-f\", *other]):\n",
        "            print(\"Forcefully quitting the program.\")\n",
        "        case CommandArg(command=\"quit\" | \"exit\" | \"bye\"):\n",
        "            print(\"Quitting the program.\")\n",
        "        case _:\n",
        "            print(f\"Unknown command: {command_arg!r}.\")\n",
        "\n",
        "\n",
        "def main() -> None:\n",
        "    while True:\n",
        "        command, *arguments = shlex.split(input(\" \"))\n",
        "        command_arg = CommandArg(command, arguments)\n",
        "        execute_command(command_arg)"
      ],
      "metadata": {
        "id": "wwD_eRyNHOS2"
      },
      "execution_count": 2,
      "outputs": []
    }
  ]
}
