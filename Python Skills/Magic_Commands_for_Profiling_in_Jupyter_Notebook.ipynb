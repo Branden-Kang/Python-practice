{
  "nbformat": 4,
  "nbformat_minor": 0,
  "metadata": {
    "colab": {
      "name": "Magic Commands for Profiling in Jupyter Notebook.ipynb",
      "provenance": [],
      "authorship_tag": "ABX9TyMMIH/+qfn/hznISJtRf+Md"
    },
    "kernelspec": {
      "name": "python3",
      "display_name": "Python 3"
    },
    "language_info": {
      "name": "python"
    }
  },
  "cells": [
    {
      "cell_type": "markdown",
      "metadata": {
        "id": "wBp6cK7kAVSM"
      },
      "source": [
        "[Reference](https://towardsdatascience.com/magic-commands-for-profiling-in-jupyter-notebook-d2ef00e29a63)"
      ]
    },
    {
      "cell_type": "code",
      "metadata": {
        "colab": {
          "base_uri": "https://localhost:8080/"
        },
        "id": "pc0pXtL9_-k2",
        "outputId": "17026c9b-c564-44bc-d26e-573866f38f8a"
      },
      "source": [
        "%time sqrts = [n ** (1/2) for n in range(100)]"
      ],
      "execution_count": 1,
      "outputs": [
        {
          "output_type": "stream",
          "text": [
            "CPU times: user 32 µs, sys: 7 µs, total: 39 µs\n",
            "Wall time: 41.7 µs\n"
          ],
          "name": "stdout"
        }
      ]
    },
    {
      "cell_type": "code",
      "metadata": {
        "colab": {
          "base_uri": "https://localhost:8080/"
        },
        "id": "mrbEsZtaAX-s",
        "outputId": "382b564b-eb47-4d73-a9b5-b21227fc93ff"
      },
      "source": [
        "for p in range(5):\n",
        "    %time sqrts = [n ** (1/2) for n in range(10**p)]"
      ],
      "execution_count": 2,
      "outputs": [
        {
          "output_type": "stream",
          "text": [
            "CPU times: user 15 µs, sys: 4 µs, total: 19 µs\n",
            "Wall time: 32.7 µs\n",
            "CPU times: user 0 ns, sys: 15 µs, total: 15 µs\n",
            "Wall time: 17.9 µs\n",
            "CPU times: user 32 µs, sys: 7 µs, total: 39 µs\n",
            "Wall time: 42.7 µs\n",
            "CPU times: user 223 µs, sys: 3 µs, total: 226 µs\n",
            "Wall time: 228 µs\n",
            "CPU times: user 2.1 ms, sys: 0 ns, total: 2.1 ms\n",
            "Wall time: 2.11 ms\n"
          ],
          "name": "stdout"
        }
      ]
    },
    {
      "cell_type": "code",
      "metadata": {
        "colab": {
          "base_uri": "https://localhost:8080/"
        },
        "id": "lEaFgJxEAauu",
        "outputId": "95f79171-d326-4fd5-ee35-880e5c592f2d"
      },
      "source": [
        "%%time\n",
        "for p in range(5):\n",
        "    sqrts = [n ** (1/2) for n in range(10**p)]"
      ],
      "execution_count": 3,
      "outputs": [
        {
          "output_type": "stream",
          "text": [
            "CPU times: user 3.63 ms, sys: 696 µs, total: 4.32 ms\n",
            "Wall time: 4.28 ms\n"
          ],
          "name": "stdout"
        }
      ]
    },
    {
      "cell_type": "code",
      "metadata": {
        "id": "lKVIISu3AcM0"
      },
      "source": [
        "%time?"
      ],
      "execution_count": 4,
      "outputs": []
    },
    {
      "cell_type": "code",
      "metadata": {
        "colab": {
          "base_uri": "https://localhost:8080/"
        },
        "id": "svi3ojUmAeXw",
        "outputId": "93ddab9a-2fd2-4e27-e35c-eb8a62f924a6"
      },
      "source": [
        "%timeit sqrts = [n ** (1/2) for n in range(100)]"
      ],
      "execution_count": 5,
      "outputs": [
        {
          "output_type": "stream",
          "text": [
            "100000 loops, best of 5: 17.2 µs per loop\n"
          ],
          "name": "stdout"
        }
      ]
    },
    {
      "cell_type": "code",
      "metadata": {
        "colab": {
          "base_uri": "https://localhost:8080/"
        },
        "id": "phfhckFWAgUX",
        "outputId": "aa633042-5edd-4cf9-c817-53f418765630"
      },
      "source": [
        "%timeit -n 100 -r 20 sqrts = [n ** (1/2) for n in range(100)]"
      ],
      "execution_count": 6,
      "outputs": [
        {
          "output_type": "stream",
          "text": [
            "100 loops, best of 20: 16.7 µs per loop\n"
          ],
          "name": "stdout"
        }
      ]
    },
    {
      "cell_type": "code",
      "metadata": {
        "colab": {
          "base_uri": "https://localhost:8080/"
        },
        "id": "TaF1nk6rAivV",
        "outputId": "bdcc98e6-3cdc-4c37-ef92-603b1d0c3936"
      },
      "source": [
        "%%timeit\n",
        "for p in range(5):\n",
        "    sqrts = [n ** (1/2) for n in range(10**p)]"
      ],
      "execution_count": 7,
      "outputs": [
        {
          "output_type": "stream",
          "text": [
            "100 loops, best of 5: 2 ms per loop\n"
          ],
          "name": "stdout"
        }
      ]
    },
    {
      "cell_type": "code",
      "metadata": {
        "id": "mPOzGCb6AkXo"
      },
      "source": [
        "from random import random\n",
        "\n",
        "def create_and_sum_matrix(N):\n",
        "    matrix = [[random() for _ in range(N)] for _ in range(N)]\n",
        "    total_by_line = [sum(l) for l in matrix]\n",
        "    total = sum(total_by_line)\n",
        "    return total"
      ],
      "execution_count": 8,
      "outputs": []
    },
    {
      "cell_type": "code",
      "metadata": {
        "colab": {
          "base_uri": "https://localhost:8080/"
        },
        "id": "ZafL7e4TAnR2",
        "outputId": "68b61469-6ff4-4ba8-8a20-1663ac2f6d61"
      },
      "source": [
        "%prun create_and_sum_matrix(1000)"
      ],
      "execution_count": 9,
      "outputs": [
        {
          "output_type": "stream",
          "text": [
            " "
          ],
          "name": "stdout"
        }
      ]
    },
    {
      "cell_type": "code",
      "metadata": {
        "colab": {
          "base_uri": "https://localhost:8080/"
        },
        "id": "v2AmtjOtAoBl",
        "outputId": "a661f437-9105-4dbc-f9af-a4739980fc21"
      },
      "source": [
        "%prun -s tottime create_and_sum_matrix(1000)"
      ],
      "execution_count": 10,
      "outputs": [
        {
          "output_type": "stream",
          "text": [
            " "
          ],
          "name": "stdout"
        }
      ]
    },
    {
      "cell_type": "code",
      "metadata": {
        "colab": {
          "base_uri": "https://localhost:8080/"
        },
        "id": "S9do9XXzAszQ",
        "outputId": "bf043997-0847-46e7-d328-9adbbce819a1"
      },
      "source": [
        "!pip3 install line_profiler\n",
        "%load_ext line_profiler"
      ],
      "execution_count": 11,
      "outputs": [
        {
          "output_type": "stream",
          "text": [
            "Collecting line_profiler\n",
            "\u001b[?25l  Downloading https://files.pythonhosted.org/packages/da/ad/30ef6e8c8f3d4b4e08a197c7bf4154f001d14684fba2b693d813c2b4c692/line_profiler-3.1.0-cp37-cp37m-manylinux2010_x86_64.whl (63kB)\n",
            "\r\u001b[K     |█████▏                          | 10kB 15.5MB/s eta 0:00:01\r\u001b[K     |██████████▍                     | 20kB 21.2MB/s eta 0:00:01\r\u001b[K     |███████████████▌                | 30kB 25.4MB/s eta 0:00:01\r\u001b[K     |████████████████████▊           | 40kB 28.9MB/s eta 0:00:01\r\u001b[K     |█████████████████████████▉      | 51kB 31.2MB/s eta 0:00:01\r\u001b[K     |███████████████████████████████ | 61kB 33.4MB/s eta 0:00:01\r\u001b[K     |████████████████████████████████| 71kB 7.2MB/s \n",
            "\u001b[?25hRequirement already satisfied: IPython in /usr/local/lib/python3.7/dist-packages (from line_profiler) (5.5.0)\n",
            "Requirement already satisfied: decorator in /usr/local/lib/python3.7/dist-packages (from IPython->line_profiler) (4.4.2)\n",
            "Requirement already satisfied: setuptools>=18.5 in /usr/local/lib/python3.7/dist-packages (from IPython->line_profiler) (54.1.2)\n",
            "Requirement already satisfied: traitlets>=4.2 in /usr/local/lib/python3.7/dist-packages (from IPython->line_profiler) (5.0.5)\n",
            "Requirement already satisfied: pickleshare in /usr/local/lib/python3.7/dist-packages (from IPython->line_profiler) (0.7.5)\n",
            "Requirement already satisfied: simplegeneric>0.8 in /usr/local/lib/python3.7/dist-packages (from IPython->line_profiler) (0.8.1)\n",
            "Requirement already satisfied: pexpect; sys_platform != \"win32\" in /usr/local/lib/python3.7/dist-packages (from IPython->line_profiler) (4.8.0)\n",
            "Requirement already satisfied: prompt-toolkit<2.0.0,>=1.0.4 in /usr/local/lib/python3.7/dist-packages (from IPython->line_profiler) (1.0.18)\n",
            "Requirement already satisfied: pygments in /usr/local/lib/python3.7/dist-packages (from IPython->line_profiler) (2.6.1)\n",
            "Requirement already satisfied: ipython-genutils in /usr/local/lib/python3.7/dist-packages (from traitlets>=4.2->IPython->line_profiler) (0.2.0)\n",
            "Requirement already satisfied: ptyprocess>=0.5 in /usr/local/lib/python3.7/dist-packages (from pexpect; sys_platform != \"win32\"->IPython->line_profiler) (0.7.0)\n",
            "Requirement already satisfied: six>=1.9.0 in /usr/local/lib/python3.7/dist-packages (from prompt-toolkit<2.0.0,>=1.0.4->IPython->line_profiler) (1.15.0)\n",
            "Requirement already satisfied: wcwidth in /usr/local/lib/python3.7/dist-packages (from prompt-toolkit<2.0.0,>=1.0.4->IPython->line_profiler) (0.2.5)\n",
            "Installing collected packages: line-profiler\n",
            "Successfully installed line-profiler-3.1.0\n"
          ],
          "name": "stdout"
        }
      ]
    },
    {
      "cell_type": "code",
      "metadata": {
        "id": "xU0nfHfkAudl"
      },
      "source": [
        "%lprun -f create_and_sum_matrix create_and_sum_matrix(1000)"
      ],
      "execution_count": 12,
      "outputs": []
    },
    {
      "cell_type": "code",
      "metadata": {
        "colab": {
          "base_uri": "https://localhost:8080/"
        },
        "id": "RLgrcd59AwoF",
        "outputId": "3abffad6-e061-4da6-e9b2-04736004e8d7"
      },
      "source": [
        "!pip3 install memory_profiler\n",
        "%load_ext memory_profiler"
      ],
      "execution_count": 13,
      "outputs": [
        {
          "output_type": "stream",
          "text": [
            "Collecting memory_profiler\n",
            "  Downloading https://files.pythonhosted.org/packages/8f/fd/d92b3295657f8837e0177e7b48b32d6651436f0293af42b76d134c3bb489/memory_profiler-0.58.0.tar.gz\n",
            "Requirement already satisfied: psutil in /usr/local/lib/python3.7/dist-packages (from memory_profiler) (5.4.8)\n",
            "Building wheels for collected packages: memory-profiler\n",
            "  Building wheel for memory-profiler (setup.py) ... \u001b[?25l\u001b[?25hdone\n",
            "  Created wheel for memory-profiler: filename=memory_profiler-0.58.0-cp37-none-any.whl size=30180 sha256=2b85fb019c5d4a37588dcb10e56150f5c0267c7c6732cd99352c49114c800003\n",
            "  Stored in directory: /root/.cache/pip/wheels/02/e4/0b/aaab481fc5dd2a4ea59e78bc7231bb6aae7635ca7ee79f8ae5\n",
            "Successfully built memory-profiler\n",
            "Installing collected packages: memory-profiler\n",
            "Successfully installed memory-profiler-0.58.0\n"
          ],
          "name": "stdout"
        }
      ]
    },
    {
      "cell_type": "code",
      "metadata": {
        "colab": {
          "base_uri": "https://localhost:8080/"
        },
        "id": "kIKU8ryPAx62",
        "outputId": "40aa5240-72e9-4c27-9841-df0da52403a1"
      },
      "source": [
        "%memit create_and_sum_matrix(1000)"
      ],
      "execution_count": 14,
      "outputs": [
        {
          "output_type": "stream",
          "text": [
            "peak memory: 154.64 MiB, increment: 28.65 MiB\n"
          ],
          "name": "stdout"
        }
      ]
    },
    {
      "cell_type": "code",
      "metadata": {
        "colab": {
          "base_uri": "https://localhost:8080/"
        },
        "id": "SzUOSMCtAzlW",
        "outputId": "97a6b0c7-6f68-4971-9fff-9a4684553430"
      },
      "source": [
        "%mprun -f create_and_sum_matrix create_and_sum_matrix(1000)"
      ],
      "execution_count": 15,
      "outputs": [
        {
          "output_type": "stream",
          "text": [
            "\n",
            "PYDEV DEBUGGER WARNING:\n",
            "sys.settrace() should not be used when the debugger is being used.\n",
            "This may cause the debugger to stop working correctly.\n",
            "If this is needed, please check: \n",
            "http://pydev.blogspot.com/2007/06/why-cant-pydev-debugger-work-with.html\n",
            "to see how to restore the debug tracing back correctly.\n",
            "Call Location:\n",
            "  File \"/usr/local/lib/python3.7/dist-packages/memory_profiler.py\", line 803, in enable\n",
            "    sys.settrace(self.trace_memory_usage)\n",
            "\n"
          ],
          "name": "stderr"
        },
        {
          "output_type": "stream",
          "text": [
            "ERROR: Could not find file <ipython-input-8-1849cb75d6fb>\n",
            "NOTE: %mprun can only be used on functions defined in physical files, and not in the IPython environment.\n"
          ],
          "name": "stdout"
        },
        {
          "output_type": "stream",
          "text": [
            "\n",
            "PYDEV DEBUGGER WARNING:\n",
            "sys.settrace() should not be used when the debugger is being used.\n",
            "This may cause the debugger to stop working correctly.\n",
            "If this is needed, please check: \n",
            "http://pydev.blogspot.com/2007/06/why-cant-pydev-debugger-work-with.html\n",
            "to see how to restore the debug tracing back correctly.\n",
            "Call Location:\n",
            "  File \"/usr/local/lib/python3.7/dist-packages/memory_profiler.py\", line 806, in disable\n",
            "    sys.settrace(self._original_trace_function)\n",
            "\n"
          ],
          "name": "stderr"
        },
        {
          "output_type": "stream",
          "text": [
            "\n"
          ],
          "name": "stdout"
        }
      ]
    },
    {
      "cell_type": "code",
      "metadata": {
        "colab": {
          "base_uri": "https://localhost:8080/"
        },
        "id": "EatxZyNVA0sa",
        "outputId": "4a4c8536-360e-4b2e-91a8-17efe74ae3d7"
      },
      "source": [
        "%%file my_file.py\n",
        "from random import random\n",
        "\n",
        "def create_and_sum_matrix(N):\n",
        "    # Create\n",
        "    matrix = [[random() for _ in range(N)] for _ in range(N)]\n",
        "    # Sum\n",
        "    total_by_line = [sum(l) for l in matrix]\n",
        "    total = sum(total_by_line)\n",
        "    # Delete\n",
        "    del total_by_line\n",
        "    del matrix\n",
        "    # Return\n",
        "    return total"
      ],
      "execution_count": 16,
      "outputs": [
        {
          "output_type": "stream",
          "text": [
            "Writing my_file.py\n"
          ],
          "name": "stdout"
        }
      ]
    },
    {
      "cell_type": "code",
      "metadata": {
        "colab": {
          "base_uri": "https://localhost:8080/"
        },
        "id": "SmHjJcqiA21y",
        "outputId": "321190fb-2675-4911-ecd7-6976fb74e2fd"
      },
      "source": [
        "from my_file import create_and_sum_matrix\n",
        "%mprun -f create_and_sum_matrix create_and_sum_matrix(5)"
      ],
      "execution_count": 18,
      "outputs": [
        {
          "output_type": "stream",
          "text": [
            "\n"
          ],
          "name": "stdout"
        }
      ]
    }
  ]
}