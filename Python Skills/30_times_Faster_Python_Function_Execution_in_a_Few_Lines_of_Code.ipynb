{
  "nbformat": 4,
  "nbformat_minor": 0,
  "metadata": {
    "colab": {
      "name": "30 times Faster Python Function Execution in a Few Lines of Code.ipynb",
      "provenance": [],
      "authorship_tag": "ABX9TyOSHmGtN1q3H46jq6xxsdBs"
    },
    "kernelspec": {
      "name": "python3",
      "display_name": "Python 3"
    },
    "language_info": {
      "name": "python"
    }
  },
  "cells": [
    {
      "cell_type": "markdown",
      "metadata": {
        "id": "uoQG98kcoDd1"
      },
      "source": [
        "[Reference](https://towardsdatascience.com/25x-times-faster-python-function-execution-in-a-few-lines-of-code-4c82bdd0f64c)"
      ]
    },
    {
      "cell_type": "code",
      "metadata": {
        "id": "e_YYoT7JoOg8"
      },
      "source": [
        "import numpy as np\n",
        "import pandas as pd\n",
        "import os\n",
        "import gc\n",
        "import re\n",
        "from nltk.corpus import stopwords\n",
        "from nltk.stem import PorterStemmer\n",
        "from bs4 import BeautifulSoup\n",
        "\n",
        "def preprocess(x):\n",
        "    x=str(x).lower()\n",
        "    x=x.replace(\",000,000\", \"m\").replace(\",000\", \"k\").replace(\"′\", \"'\").replace(\"’\", \"'\")\\\n",
        "                           .replace(\"won't\", \"will not\").replace(\"cannot\", \"can not\").replace(\"can't\", \"can not\")\\\n",
        "                           .replace(\"n't\", \" not\").replace(\"what's\", \"what is\").replace(\"it's\", \"it is\")\\\n",
        "                           .replace(\"'ve\", \" have\").replace(\"i'm\", \"i am\").replace(\"'re\", \" are\")\\\n",
        "                           .replace(\"he's\", \"he is\").replace(\"she's\", \"she is\").replace(\"'s\", \" own\")\\\n",
        "                           .replace(\"%\", \" percent \").replace(\"₹\", \" rupee \").replace(\"$\", \" dollar \")\\\n",
        "                           .replace(\"€\", \" euro \").replace(\"'ll\", \" will\")\n",
        "    \n",
        "    x = re.sub(r\"([0-9]+)000000\", r\"lm\", x)\n",
        "    x = re.sub(r\"([0-9]+)000\", r\"lk\", x)\n",
        "    \n",
        "    \n",
        "    porter=PorterStemmer()\n",
        "    pattern=re.compile('\\W')\n",
        "    \n",
        "    if type(x) == type(''):\n",
        "        x = re.sub(pattern, ' ', x)\n",
        "    \n",
        "    \n",
        "    if type(x) == type(''):\n",
        "        x = porter.stem(x)\n",
        "        example1 = BeautifulSoup(x, 'lxml')\n",
        "        x = example1.get_text()\n",
        "               \n",
        "    return x        "
      ],
      "execution_count": 3,
      "outputs": []
    },
    {
      "cell_type": "code",
      "metadata": {
        "id": "yQl-I56Hn7_-"
      },
      "source": [
        "import multiprocessing\n",
        "from functools import partial\n",
        "\n",
        "BUCKET_SIZE = 50000\n",
        "\n",
        "def run_process(df, start):\n",
        "    df = df[start:start+BUCKET_SIZE]\n",
        "    print(start, \"to \",start+BUCKET_SIZE)\n",
        "    temp = df[\"question\"].apply(preprocess)\n",
        "\n",
        "chunks  = [x for x in range(0,df.shape[0], BUCKET_SIZE)]   \n",
        "pool = multiprocessing.Pool()\n",
        "func = partial(run_process, df)\n",
        "temp = pool.map(func,chunks)\n",
        "pool.close()\n",
        "pool.join()"
      ],
      "execution_count": 5,
      "outputs": []
    }
  ]
}