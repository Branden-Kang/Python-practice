{
  "nbformat": 4,
  "nbformat_minor": 0,
  "metadata": {
    "colab": {
      "provenance": [],
      "authorship_tag": "ABX9TyOxL5HGEO5u1e8LvRAjDF9j"
    },
    "kernelspec": {
      "name": "python3",
      "display_name": "Python 3"
    },
    "language_info": {
      "name": "python"
    }
  },
  "cells": [
    {
      "cell_type": "markdown",
      "source": [
        "[Reference](https://betterprogramming.pub/introducing-litestar-a-new-python-web-framework-part-2-0bf2564f9f07)"
      ],
      "metadata": {
        "id": "mcoayHFVxNoL"
      }
    },
    {
      "cell_type": "code",
      "execution_count": 2,
      "metadata": {
        "id": "s-ppZPqNwx8n"
      },
      "outputs": [],
      "source": [
        "from dataclasses import dataclass\n",
        "from litestar import Litestar, get, post, delete\n",
        "from litestar.exceptions import HTTPException\n",
        "\n",
        "@dataclass\n",
        "class User():\n",
        "    user_id: int\n",
        "    name: str\n",
        "    age: int\n",
        "    email: str\n",
        "\n",
        "DUMMY_USER_STORE: list[User] = [\n",
        "    User(user_id=1, name=\"John Doe\", age=30, email=\"john.doe@example.com\"),\n",
        "    User(user_id=2, name=\"Jane Doe\", age=25, email=\"jane.doe@example.com\")\n",
        "]\n",
        "\n",
        "@post(path=\"/user\")\n",
        "async def create_user(data: User) -> User:\n",
        "    # Logic to create a user\n",
        "    user = [u for u in DUMMY_USER_STORE if u.user_id == data.user_id]\n",
        "    if len(user) > 0:\n",
        "        return False\n",
        "    else:\n",
        "        DUMMY_USER_STORE.append(data)\n",
        "        return data\n",
        "\n",
        "@get(path=\"/users\")\n",
        "async def list_users() -> list[User]:\n",
        "    # Logic to list all users\n",
        "    all_users = DUMMY_USER_STORE\n",
        "    return all_users\n",
        "\n",
        "@get(path=\"/user/{user_id:int}\")\n",
        "async def get_user(user_id: int) -> User:\n",
        "    # Logic to retrieve a user by ID\n",
        "    user = [u for u in DUMMY_USER_STORE if u.user_id == user_id]\n",
        "    if len(user)==0:\n",
        "        raise HTTPException(status_code=400, detail=f\"user with id [{user_id}] not found\")\n",
        "    else:\n",
        "        return user\n",
        "\n",
        "@delete(path=\"/user/{user_id:int}\")\n",
        "async def delete_user(user_id: int) -> None:\n",
        "    # Logic to delete a user by ID\n",
        "    temp = DUMMY_USER_STORE.copy()\n",
        "    DUMMY_USER_STORE.clear()\n",
        "    for u in temp:\n",
        "        if u.user_id != user_id:\n",
        "            DUMMY_USER_STORE.append(u)\n",
        "    return None\n",
        "\n",
        "app = Litestar(route_handlers=[create_user, list_users, get_user, delete_user])"
      ]
    }
  ]
}
