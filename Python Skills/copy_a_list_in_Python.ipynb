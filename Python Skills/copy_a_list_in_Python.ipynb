{
  "nbformat": 4,
  "nbformat_minor": 0,
  "metadata": {
    "colab": {
      "name": "copy a list in Python.ipynb",
      "provenance": [],
      "authorship_tag": "ABX9TyPbKpnDrAfeA7vD+J1ucCAX"
    },
    "kernelspec": {
      "name": "python3",
      "display_name": "Python 3"
    }
  },
  "cells": [
    {
      "cell_type": "markdown",
      "metadata": {
        "id": "dnom1bgbC0uR"
      },
      "source": [
        "[Reference](https://levelup.gitconnected.com/five-ways-to-copy-a-list-in-python-f6f179d9785b)\n",
        "\n",
        "```\n",
        "import copy\n",
        "\n",
        "# method 1\n",
        "m = l\n",
        "\n",
        "# method 2\n",
        "n = l[:]\n",
        "\n",
        "# method 3\n",
        "o = list(l)\n",
        "\n",
        "#method 4\n",
        "p = copy.copy(l)\n",
        "\n",
        "#method 5\n",
        "r = copy.deepcopy(l)\n",
        "```"
      ]
    },
    {
      "cell_type": "code",
      "metadata": {
        "id": "TyoJG8CvC37x"
      },
      "source": [
        "import copy\n",
        "\n",
        "x = 1\n",
        "s = {7}\n",
        "\n",
        "# create a list\n",
        "l = [x, 5, s, {3}]\n",
        "\n",
        "# copy!!!!!\n",
        "m = l\n",
        "n = l[:]\n",
        "o = list(l)\n",
        "p = copy.copy(l)\n",
        "r = copy.deepcopy(l)\n",
        "\n",
        "# shake things up\n",
        "x += 1\n",
        "l[1] += 1\n",
        "s.add(8)\n",
        "l[3].add(4)\n",
        "l.append(2)"
      ],
      "execution_count": 2,
      "outputs": []
    },
    {
      "cell_type": "code",
      "metadata": {
        "colab": {
          "base_uri": "https://localhost:8080/"
        },
        "id": "Cs-jyP_gC-db",
        "outputId": "936ead52-f608-4c11-ca5b-7b2d9b33a448"
      },
      "source": [
        "l"
      ],
      "execution_count": 3,
      "outputs": [
        {
          "output_type": "execute_result",
          "data": {
            "text/plain": [
              "[1, 6, {7, 8}, {3, 4}, 2]"
            ]
          },
          "metadata": {
            "tags": []
          },
          "execution_count": 3
        }
      ]
    },
    {
      "cell_type": "code",
      "metadata": {
        "colab": {
          "base_uri": "https://localhost:8080/"
        },
        "id": "bBqdWm29C_tY",
        "outputId": "028c61fe-4b4d-456e-cc95-636fa41ffff3"
      },
      "source": [
        "m"
      ],
      "execution_count": 4,
      "outputs": [
        {
          "output_type": "execute_result",
          "data": {
            "text/plain": [
              "[1, 6, {7, 8}, {3, 4}, 2]"
            ]
          },
          "metadata": {
            "tags": []
          },
          "execution_count": 4
        }
      ]
    },
    {
      "cell_type": "code",
      "metadata": {
        "colab": {
          "base_uri": "https://localhost:8080/"
        },
        "id": "1ktciKDZDQAG",
        "outputId": "6d5a606c-70c2-4697-988c-9c326505ff93"
      },
      "source": [
        "id(l) == id(m)"
      ],
      "execution_count": 5,
      "outputs": [
        {
          "output_type": "execute_result",
          "data": {
            "text/plain": [
              "True"
            ]
          },
          "metadata": {
            "tags": []
          },
          "execution_count": 5
        }
      ]
    },
    {
      "cell_type": "markdown",
      "metadata": {
        "id": "W9Ptm7FcDXw0"
      },
      "source": [
        "# shallow copies"
      ]
    },
    {
      "cell_type": "code",
      "metadata": {
        "colab": {
          "base_uri": "https://localhost:8080/"
        },
        "id": "HySU--sLDRCm",
        "outputId": "a24583b9-aad8-41a7-a11f-9a6d939cf0a7"
      },
      "source": [
        "n"
      ],
      "execution_count": 6,
      "outputs": [
        {
          "output_type": "execute_result",
          "data": {
            "text/plain": [
              "[1, 5, {7, 8}, {3, 4}]"
            ]
          },
          "metadata": {
            "tags": []
          },
          "execution_count": 6
        }
      ]
    },
    {
      "cell_type": "code",
      "metadata": {
        "colab": {
          "base_uri": "https://localhost:8080/"
        },
        "id": "xEOY3xeqDTyv",
        "outputId": "ae0b4b16-7eb1-4fcf-8a75-30420aa1cc78"
      },
      "source": [
        "o"
      ],
      "execution_count": 8,
      "outputs": [
        {
          "output_type": "execute_result",
          "data": {
            "text/plain": [
              "[1, 5, {7, 8}, {3, 4}]"
            ]
          },
          "metadata": {
            "tags": []
          },
          "execution_count": 8
        }
      ]
    },
    {
      "cell_type": "code",
      "metadata": {
        "colab": {
          "base_uri": "https://localhost:8080/"
        },
        "id": "1DWb0xQVDUKK",
        "outputId": "aac5ba97-18c7-4437-f7d1-17c42047e3cf"
      },
      "source": [
        "p"
      ],
      "execution_count": 9,
      "outputs": [
        {
          "output_type": "execute_result",
          "data": {
            "text/plain": [
              "[1, 5, {7, 8}, {3, 4}]"
            ]
          },
          "metadata": {
            "tags": []
          },
          "execution_count": 9
        }
      ]
    },
    {
      "cell_type": "markdown",
      "metadata": {
        "id": "dK_RAnETDfzg"
      },
      "source": [
        "# deepcopy"
      ]
    },
    {
      "cell_type": "code",
      "metadata": {
        "colab": {
          "base_uri": "https://localhost:8080/"
        },
        "id": "CVPR4f3oDjUn",
        "outputId": "4b45d873-1ffa-4d9a-f74b-b974cfea89bb"
      },
      "source": [
        "l"
      ],
      "execution_count": 11,
      "outputs": [
        {
          "output_type": "execute_result",
          "data": {
            "text/plain": [
              "[1, 6, {7, 8}, {3, 4}, 2]"
            ]
          },
          "metadata": {
            "tags": []
          },
          "execution_count": 11
        }
      ]
    },
    {
      "cell_type": "code",
      "metadata": {
        "colab": {
          "base_uri": "https://localhost:8080/"
        },
        "id": "lsP2PbvGDVfm",
        "outputId": "deabde3a-fcc7-4d5e-dd32-ca03e86b7062"
      },
      "source": [
        "r"
      ],
      "execution_count": 10,
      "outputs": [
        {
          "output_type": "execute_result",
          "data": {
            "text/plain": [
              "[1, 5, {7}, {3}]"
            ]
          },
          "metadata": {
            "tags": []
          },
          "execution_count": 10
        }
      ]
    }
  ]
}