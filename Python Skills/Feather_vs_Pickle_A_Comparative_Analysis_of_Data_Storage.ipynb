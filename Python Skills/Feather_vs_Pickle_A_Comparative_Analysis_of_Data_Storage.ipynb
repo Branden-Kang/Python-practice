{
  "nbformat": 4,
  "nbformat_minor": 0,
  "metadata": {
    "colab": {
      "provenance": [],
      "authorship_tag": "ABX9TyNjrW6fkxKCE8anStVUjnba"
    },
    "kernelspec": {
      "name": "python3",
      "display_name": "Python 3"
    },
    "language_info": {
      "name": "python"
    }
  },
  "cells": [
    {
      "cell_type": "markdown",
      "source": [
        "[Reference](https://medium.com/@diehardankush/feather-vs-pickle-a-comparative-analysis-of-data-storage-a5aa113a00a3)"
      ],
      "metadata": {
        "id": "yPmMcUVHZTLH"
      }
    },
    {
      "cell_type": "code",
      "execution_count": 1,
      "metadata": {
        "colab": {
          "base_uri": "https://localhost:8080/"
        },
        "id": "YW4gWBCqZR6H",
        "outputId": "27e96288-4cf6-43f1-c805-d830bf42924c"
      },
      "outputs": [
        {
          "output_type": "stream",
          "name": "stdout",
          "text": [
            "Arrow Feather: Write Time - 0.9813392162322998 seconds, Read Time - 0.5923194885253906 seconds.\n",
            "Pandas Pickle: Write Time - 8.5205397605896 seconds, Read Time - 2.2104737758636475 seconds.\n"
          ]
        }
      ],
      "source": [
        "import pandas as pd\n",
        "import numpy as np\n",
        "import pyarrow.feather as feather\n",
        "import time\n",
        "\n",
        "# Simulating a large dataset\n",
        "num_records = 10**7\n",
        "df = pd.DataFrame({\n",
        "    'age': np.random.randint(18, 100, size=num_records),\n",
        "    'gender': np.random.choice(['Male', 'Female'], size=num_records),\n",
        "    'income': np.random.uniform(30000, 80000, size=num_records)\n",
        "})\n",
        "\n",
        "# Saving and loading using Feather (Arrow format)\n",
        "start_time = time.time()\n",
        "feather.write_feather(df, 'data.feather')\n",
        "read_time = time.time()\n",
        "df_feather = feather.read_feather('data.feather')\n",
        "end_time = time.time()\n",
        "\n",
        "print(f\"Arrow Feather: Write Time - {read_time - start_time} seconds, Read Time - {end_time - read_time} seconds.\")\n",
        "\n",
        "# Saving and loading using Pickle\n",
        "start_time = time.time()\n",
        "df.to_pickle('data.pkl')\n",
        "read_time = time.time()\n",
        "df_pickle = pd.read_pickle('data.pkl')\n",
        "end_time = time.time()\n",
        "\n",
        "print(f\"Pandas Pickle: Write Time - {read_time - start_time} seconds, Read Time - {end_time - read_time} seconds.\")"
      ]
    }
  ]
}
