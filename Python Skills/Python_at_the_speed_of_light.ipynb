{
  "nbformat": 4,
  "nbformat_minor": 0,
  "metadata": {
    "colab": {
      "provenance": [],
      "authorship_tag": "ABX9TyMvPTsfu7fv1n5VZIuExP00"
    },
    "kernelspec": {
      "name": "python3",
      "display_name": "Python 3"
    },
    "language_info": {
      "name": "python"
    }
  },
  "cells": [
    {
      "cell_type": "markdown",
      "source": [
        "[Reference](https://medium.com/@adalseno/python-at-the-speed-of-light-216700cf8469)"
      ],
      "metadata": {
        "id": "r9s51XyHZV8t"
      }
    },
    {
      "cell_type": "code",
      "execution_count": 1,
      "metadata": {
        "id": "4BmK42NyYny5"
      },
      "outputs": [],
      "source": [
        "def populate_python(size:int)->list:\n",
        "    b = []\n",
        "    for i in range(size):\n",
        "        b.append(i)\n",
        "    return b"
      ]
    },
    {
      "cell_type": "code",
      "source": [
        "import numpy as np\n",
        "def populate_numpy(size:int)->np.ndarray:\n",
        "    b = np.empty((size),dtype=np.int64)\n",
        "    for i in range(size):\n",
        "        b[i] = i\n",
        "    return b"
      ],
      "metadata": {
        "id": "cnj0VF2gY5lZ"
      },
      "execution_count": 2,
      "outputs": []
    },
    {
      "cell_type": "code",
      "source": [
        "from numba import njit, prange\n",
        "@njit\n",
        "def populate_numba(size:int)->np.ndarray:\n",
        "    b = np.empty((size),dtype=np.int64)\n",
        "    for i in prange(size):\n",
        "        b[i] = i\n",
        "    return b"
      ],
      "metadata": {
        "id": "XmzZOuQGY_ww"
      },
      "execution_count": 3,
      "outputs": []
    },
    {
      "cell_type": "code",
      "source": [
        "# function populate_array(size::Int)::AbstractVector{Int64}\n",
        "#     b = Vector{Int64}(undef,size)\n",
        "#     Threads.@threads for i=1:size\n",
        "#         b[i] = i\n",
        "#     end\n",
        "#     return b\n",
        "# end"
      ],
      "metadata": {
        "id": "-AbZiqe0ZGhT"
      },
      "execution_count": 5,
      "outputs": []
    },
    {
      "cell_type": "code",
      "source": [
        "from Pointer import DTypePointer\n",
        "from Random import rand, random_ui64\n",
        "from DType import DType\n",
        "from Range import range\n",
        "from Functional import parallelize\n",
        "import SIMD\n",
        "\n",
        "struct Vect:\n",
        "    var data: DTypePointer[DType.uint64]\n",
        "    var rows: Int\n",
        "\n",
        "    fn __init__(inout self, rows: Int):\n",
        "        self.data = DTypePointer[DType.uint64].alloc(rows)\n",
        "        self.rows = rows\n",
        "\n",
        "    fn __del__(owned self):\n",
        "        self.data.free()\n",
        "\n",
        "    @always_inline\n",
        "    fn len(self)->UInt64:\n",
        "        return self.rows\n",
        "\n",
        "    fn zero(inout self):\n",
        "        memset_zero(self.data, self.rows)\n",
        "\n",
        "    @always_inline\n",
        "    fn __getitem__(self, x: Int) -> UInt64:\n",
        "        return self.data.load(x)\n",
        "\n",
        "\n",
        "\n",
        "    @always_inline\n",
        "    fn __setitem__(self,  x: Int, val: UInt64):\n",
        "        return self.data.store( x, val)\n",
        "\n",
        "fn populate_mojo(b:Vect):\n",
        "    @parameter\n",
        "    fn process_row(i:Int):\n",
        "        b[i] = i\n",
        "    parallelize[process_row](b.rows)"
      ],
      "metadata": {
        "id": "zh9V_7q8ZKHc"
      },
      "execution_count": 6,
      "outputs": []
    }
  ]
}
