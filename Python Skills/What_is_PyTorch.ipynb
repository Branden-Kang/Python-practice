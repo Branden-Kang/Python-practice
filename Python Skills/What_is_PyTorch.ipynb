{
  "nbformat": 4,
  "nbformat_minor": 0,
  "metadata": {
    "colab": {
      "name": "What is PyTorch.ipynb",
      "provenance": [],
      "authorship_tag": "ABX9TyMnRt9zk1oCgUgLVd+gfBfK"
    },
    "kernelspec": {
      "name": "python3",
      "display_name": "Python 3"
    },
    "accelerator": "GPU"
  },
  "cells": [
    {
      "cell_type": "markdown",
      "metadata": {
        "id": "bcmFYzrMx44h"
      },
      "source": [
        "[Reference](https://towardsdatascience.com/what-is-pytorch-a84e4559f0e3)"
      ]
    },
    {
      "cell_type": "code",
      "metadata": {
        "id": "UEskqAIAx18r"
      },
      "source": [
        "import torch\n",
        "import numpy as np"
      ],
      "execution_count": 12,
      "outputs": []
    },
    {
      "cell_type": "code",
      "metadata": {
        "id": "Goa9bEXGx9ZD",
        "outputId": "aa46b41e-6b8a-4405-e74d-0aede1db1676",
        "colab": {
          "base_uri": "https://localhost:8080/"
        }
      },
      "source": [
        "numpy.array([[0.1, 1.2], [2.2, 3.1], [4.9, 5.2]])"
      ],
      "execution_count": 2,
      "outputs": [
        {
          "output_type": "execute_result",
          "data": {
            "text/plain": [
              "array([[0.1, 1.2],\n",
              "       [2.2, 3.1],\n",
              "       [4.9, 5.2]])"
            ]
          },
          "metadata": {
            "tags": []
          },
          "execution_count": 2
        }
      ]
    },
    {
      "cell_type": "code",
      "metadata": {
        "id": "akUcOXFhx-Mq",
        "outputId": "8669d4cd-2382-4dc2-8067-a96d6072aac9",
        "colab": {
          "base_uri": "https://localhost:8080/"
        }
      },
      "source": [
        "torch.tensor([[0.1, 1.2], [2.2, 3.1], [4.9, 5.2]])"
      ],
      "execution_count": 3,
      "outputs": [
        {
          "output_type": "execute_result",
          "data": {
            "text/plain": [
              "tensor([[0.1000, 1.2000],\n",
              "        [2.2000, 3.1000],\n",
              "        [4.9000, 5.2000]])"
            ]
          },
          "metadata": {
            "tags": []
          },
          "execution_count": 3
        }
      ]
    },
    {
      "cell_type": "code",
      "metadata": {
        "id": "0SVX4R9Mx_zi",
        "outputId": "dc90011e-b363-474f-e0d9-773e750beba8",
        "colab": {
          "base_uri": "https://localhost:8080/"
        }
      },
      "source": [
        "w = torch.empty(3, 3)\n",
        "print(w,'\\n', w.shape, '\\n')\n",
        "\n",
        "x = torch.randn(3, 3, 7)\n",
        "print(x,'\\n', x.shape, '\\n')\n",
        "\n",
        "y = torch.zeros(3, 3)\n",
        "print(y,'\\n', y.shape, '\\n')\n",
        "\n",
        "z = torch.ones(3, 3)\n",
        "print(z,'\\n', z.shape, '\\n')"
      ],
      "execution_count": 4,
      "outputs": [
        {
          "output_type": "stream",
          "text": [
            "tensor([[9.2023e-36, 0.0000e+00, 3.3631e-44],\n",
            "        [0.0000e+00,        nan, 0.0000e+00],\n",
            "        [1.1578e+27, 1.1362e+30, 7.1547e+22]]) \n",
            " torch.Size([3, 3]) \n",
            "\n",
            "tensor([[[ 0.0599,  0.0784,  0.5646, -0.4372, -0.7951,  0.5459, -1.1365],\n",
            "         [-0.0717, -1.9797, -0.8917, -0.7289,  0.8037,  1.2797, -0.1884],\n",
            "         [-0.1892, -0.0425,  2.3589, -0.9690, -0.0119, -0.5562,  0.8762]],\n",
            "\n",
            "        [[ 0.5833, -1.8529,  0.3437,  1.6903, -1.0851,  0.8746,  0.5598],\n",
            "         [-0.6187, -0.8489, -0.5150, -1.8747,  0.1193,  0.4766,  0.7997],\n",
            "         [ 0.8004, -0.3054,  0.4264, -1.5618, -1.9139, -0.2291,  0.6990]],\n",
            "\n",
            "        [[ 1.3206, -1.2237,  0.6143, -1.0821,  1.0285,  2.8657, -0.4120],\n",
            "         [-0.1154, -0.8452,  0.8125,  1.9549,  0.5650, -0.3415, -1.5168],\n",
            "         [-0.7035,  0.5831,  0.8965,  1.6364,  0.4752,  0.9494, -0.1453]]]) \n",
            " torch.Size([3, 3, 7]) \n",
            "\n",
            "tensor([[0., 0., 0.],\n",
            "        [0., 0., 0.],\n",
            "        [0., 0., 0.]]) \n",
            " torch.Size([3, 3]) \n",
            "\n",
            "tensor([[1., 1., 1.],\n",
            "        [1., 1., 1.],\n",
            "        [1., 1., 1.]]) \n",
            " torch.Size([3, 3]) \n",
            "\n"
          ],
          "name": "stdout"
        }
      ]
    },
    {
      "cell_type": "code",
      "metadata": {
        "id": "MSZSl69FyEcp",
        "outputId": "fc94008b-7d85-49c1-f761-1620a9759cc5",
        "colab": {
          "base_uri": "https://localhost:8080/"
        }
      },
      "source": [
        "x = torch.rand(100,50)\n",
        "print(x.shape)\n",
        "\n",
        "y=x.view(20,5,50)\n",
        "print(y.shape)\n",
        "\n",
        "z=x.view(-1,5,50)\n",
        "print(z.shape)"
      ],
      "execution_count": 5,
      "outputs": [
        {
          "output_type": "stream",
          "text": [
            "torch.Size([100, 50])\n",
            "torch.Size([20, 5, 50])\n",
            "torch.Size([20, 5, 50])\n"
          ],
          "name": "stdout"
        }
      ]
    },
    {
      "cell_type": "code",
      "metadata": {
        "id": "I5cAj4ebyJoj",
        "outputId": "fe2f3f1b-b05c-4b2a-bd8a-c9cb2f809f5e",
        "colab": {
          "base_uri": "https://localhost:8080/"
        }
      },
      "source": [
        "cpu=torch.device(\"cpu\")\n",
        "gpu=torch.device(\"cuda:0\") # GPU 0\n",
        "\n",
        "# Create tensor with CPU\n",
        "x=torch.ones(3,3, device=cpu)\n",
        "print(\"CPU:\",x.device)\n",
        "\n",
        "x=torch.ones(3,3, device=gpu)\n",
        "print(\"GPU:\",x.device)\n",
        "\n",
        "x=torch.ones(3,3).cuda(0)\n",
        "print(\"CPU to GPU:\",x.device)\n",
        "\n",
        "x=torch.ones(3,3, device=gpu).cpu()\n",
        "print(\"GPU to CPU:\",x.device)"
      ],
      "execution_count": 6,
      "outputs": [
        {
          "output_type": "stream",
          "text": [
            "CPU: cpu\n",
            "GPU: cuda:0\n",
            "CPU to GPU: cuda:0\n",
            "GPU to CPU: cpu\n"
          ],
          "name": "stdout"
        }
      ]
    },
    {
      "cell_type": "code",
      "metadata": {
        "id": "sed4pvbiyOgs",
        "outputId": "3c957346-9506-4aac-f526-813ef201b66b",
        "colab": {
          "base_uri": "https://localhost:8080/"
        }
      },
      "source": [
        "import time\n",
        "x=torch.rand(10000,10000)\n",
        "y=torch.rand(10000,10000)\n",
        "\n",
        "t = time.time()\n",
        "z=x@y\n",
        "t = time.time()-t\n",
        "\n",
        "print(t)"
      ],
      "execution_count": 7,
      "outputs": [
        {
          "output_type": "stream",
          "text": [
            "27.271507024765015\n"
          ],
          "name": "stdout"
        }
      ]
    },
    {
      "cell_type": "code",
      "metadata": {
        "id": "NCyR30YsyTMT",
        "outputId": "621210da-b6e2-422c-a050-205ed7f2b0d7",
        "colab": {
          "base_uri": "https://localhost:8080/"
        }
      },
      "source": [
        "yc=y.cuda(0)\n",
        "t = time.time()\n",
        "z=yc@yc\n",
        "t = time.time()-t\n",
        "print(t)"
      ],
      "execution_count": 9,
      "outputs": [
        {
          "output_type": "stream",
          "text": [
            "0.022306442260742188\n"
          ],
          "name": "stdout"
        }
      ]
    },
    {
      "cell_type": "code",
      "metadata": {
        "id": "PqJOmQItyU9R",
        "outputId": "6adf0732-673e-4b8d-9a2f-f8a87a3231c3",
        "colab": {
          "base_uri": "https://localhost:8080/"
        }
      },
      "source": [
        "a = np.ones(5)\n",
        "b = torch.from_numpy(a)\n",
        "\n",
        "print('a:',a)\n",
        "print('b:',b)"
      ],
      "execution_count": 13,
      "outputs": [
        {
          "output_type": "stream",
          "text": [
            "a: [1. 1. 1. 1. 1.]\n",
            "b: tensor([1., 1., 1., 1., 1.], dtype=torch.float64)\n"
          ],
          "name": "stdout"
        }
      ]
    },
    {
      "cell_type": "code",
      "metadata": {
        "id": "_6ArYysbyX3w",
        "outputId": "f8646e11-4ee7-41ec-da17-734ecb09a924",
        "colab": {
          "base_uri": "https://localhost:8080/"
        }
      },
      "source": [
        "x = torch.arange(4.).view(4,1)\n",
        "x.requires_grad=True\n",
        "print('x^T =',x.t())\n",
        "\n",
        "y=0.5*x.t()@x\n",
        "\n",
        "y.backward()\n",
        "x.grad"
      ],
      "execution_count": 14,
      "outputs": [
        {
          "output_type": "stream",
          "text": [
            "x^T = tensor([[0., 1., 2., 3.]], grad_fn=<TBackward>)\n"
          ],
          "name": "stdout"
        },
        {
          "output_type": "execute_result",
          "data": {
            "text/plain": [
              "tensor([[0.],\n",
              "        [1.],\n",
              "        [2.],\n",
              "        [3.]])"
            ]
          },
          "metadata": {
            "tags": []
          },
          "execution_count": 14
        }
      ]
    },
    {
      "cell_type": "code",
      "metadata": {
        "id": "7Um3FnDlyaG8",
        "outputId": "19feed8f-d274-422f-ecf2-c86b878e03b0",
        "colab": {
          "base_uri": "https://localhost:8080/",
          "height": 282
        }
      },
      "source": [
        "import sklearn.datasets as datasets\n",
        "import matplotlib.pyplot as plt\n",
        "dat, lbs = datasets.make_circles(n_samples=1000, shuffle=True, noise=0.05, random_state=True, factor=0.7)\n",
        "\n",
        "plt.scatter(dat[:,0], dat[:,1], c=lbs)"
      ],
      "execution_count": 15,
      "outputs": [
        {
          "output_type": "execute_result",
          "data": {
            "text/plain": [
              "<matplotlib.collections.PathCollection at 0x7f2f7ab375c0>"
            ]
          },
          "metadata": {
            "tags": []
          },
          "execution_count": 15
        },
        {
          "output_type": "display_data",
          "data": {
            "image/png": "[encoded data removed]",
            "text/plain": [
              "<Figure size 432x288 with 1 Axes>"
            ]
          },
          "metadata": {
            "tags": [],
            "needs_background": "light"
          }
        }
      ]
    },
    {
      "cell_type": "code",
      "metadata": {
        "id": "DfgpwNSIyjsa",
        "outputId": "6cfe3238-36fd-4ebc-fcf0-53c70a44c78d",
        "colab": {
          "base_uri": "https://localhost:8080/"
        }
      },
      "source": [
        "import torch.nn as nn\n",
        "import torch.nn.functional as F\n",
        "\n",
        "#Subclassing nn.Module\n",
        "class Net(nn.Module):\n",
        "    def __init__(self):\n",
        "        super(Net, self).__init__()\n",
        "        self.fc1=nn.Linear(2,100)\n",
        "        self.fc2=nn.Linear(100,2)\n",
        "\n",
        "    def forward(self, x):\n",
        "      \n",
        "        x=F.relu(self.fc1(x))\n",
        "        x=self.fc2(x)\n",
        "        return F.softmax(x, dim=1)\n",
        "    \n",
        "net=Net().cuda()\n",
        "\n",
        "net"
      ],
      "execution_count": 16,
      "outputs": [
        {
          "output_type": "execute_result",
          "data": {
            "text/plain": [
              "Net(\n",
              "  (fc1): Linear(in_features=2, out_features=100, bias=True)\n",
              "  (fc2): Linear(in_features=100, out_features=2, bias=True)\n",
              ")"
            ]
          },
          "metadata": {
            "tags": []
          },
          "execution_count": 16
        }
      ]
    },
    {
      "cell_type": "code",
      "metadata": {
        "id": "BE6r1PJtym2v",
        "outputId": "45c567a4-42be-471f-a2b0-989ed2f62d39",
        "colab": {
          "base_uri": "https://localhost:8080/"
        }
      },
      "source": [
        "#Split into training and test set\n",
        "torch.set_default_dtype(torch.float32)\n",
        "input=torch.tensor(dat, dtype=torch.float32).cuda()\n",
        "train = input[:800]\n",
        "lab_train=torch.tensor(lbs[:800]).cuda()\n",
        "\n",
        "test  = input[800:]\n",
        "lab_test =torch.tensor(lbs[800:]).cuda()\n",
        "\n",
        "#Split the training and test set into batches\n",
        "\n",
        "train = train.view(-1,10,2)\n",
        "lab_train=lab_train.view(-1,10)\n",
        "test  = test.view(-1,2)\n",
        "lab_test=lab_test\n",
        "\n",
        "print(\"Train shape:\", train.shape)\n",
        "print(\"test shape: \", test.shape)"
      ],
      "execution_count": 23,
      "outputs": [
        {
          "output_type": "stream",
          "text": [
            "Train shape: torch.Size([80, 10, 2])\n",
            "test shape:  torch.Size([200, 2])\n"
          ],
          "name": "stdout"
        }
      ]
    },
    {
      "cell_type": "code",
      "metadata": {
        "id": "B-ek2ZSTy6x-",
        "outputId": "665aea29-9cd9-41fa-99df-cd5086103e6c",
        "colab": {
          "base_uri": "https://localhost:8080/"
        }
      },
      "source": [
        "import torch.optim as optim\n",
        "\n",
        "#Define loss function\n",
        "criterion = nn.CrossEntropyLoss()\n",
        "\n",
        "#Use stochastic gradient descent to optimize the function\n",
        "optimizer = optim.SGD(net.parameters(), lr=0.001, momentum=0.9)\n",
        "\n",
        "#Training\n",
        "for epoch in range(20):\n",
        "\n",
        "    loss_promedio = 0.0\n",
        "    for i, data in enumerate(zip(train, lab_train)):\n",
        "        inputs, labels = data\n",
        "        \n",
        "        # Set the gradient in zero to clear the gradient in the last iteration\n",
        "        optimizer.zero_grad()\n",
        "\n",
        "        # Feed the inputs to the neural network\n",
        "        outputs = net(inputs)\n",
        "        \n",
        "        # Calculation the loss\n",
        "        loss = criterion(outputs, labels)\n",
        "\n",
        "        # Backpropagation to calculate the gradient\n",
        "        loss.backward()\n",
        "\n",
        "        # Apply stochastic gradient descent to minimize the loss\n",
        "        optimizer.step()\n",
        "\n",
        "        # Show the average loss for every 10 iterations\n",
        "        loss_promedio += loss.item()\n",
        "        if i % 10 == 9:\n",
        "            print('Epoch : %d\\t  Batch: %d\\t loss: %.3f' %(epoch + 1, i + 1, loss_promedio / 10))\n",
        "            \n",
        "            loss_promedio = 0.0"
      ],
      "execution_count": 24,
      "outputs": [
        {
          "output_type": "stream",
          "text": [
            "Epoch : 1\t  Batch: 10\t loss: 0.703\n",
            "Epoch : 1\t  Batch: 20\t loss: 0.700\n",
            "Epoch : 1\t  Batch: 30\t loss: 0.692\n",
            "Epoch : 1\t  Batch: 40\t loss: 0.694\n",
            "Epoch : 1\t  Batch: 50\t loss: 0.696\n",
            "Epoch : 1\t  Batch: 60\t loss: 0.696\n",
            "Epoch : 1\t  Batch: 70\t loss: 0.688\n",
            "Epoch : 1\t  Batch: 80\t loss: 0.690\n",
            "Epoch : 2\t  Batch: 10\t loss: 0.696\n",
            "Epoch : 2\t  Batch: 20\t loss: 0.692\n",
            "Epoch : 2\t  Batch: 30\t loss: 0.689\n",
            "Epoch : 2\t  Batch: 40\t loss: 0.690\n",
            "Epoch : 2\t  Batch: 50\t loss: 0.693\n",
            "Epoch : 2\t  Batch: 60\t loss: 0.691\n",
            "Epoch : 2\t  Batch: 70\t loss: 0.685\n",
            "Epoch : 2\t  Batch: 80\t loss: 0.687\n",
            "Epoch : 3\t  Batch: 10\t loss: 0.691\n",
            "Epoch : 3\t  Batch: 20\t loss: 0.688\n",
            "Epoch : 3\t  Batch: 30\t loss: 0.686\n",
            "Epoch : 3\t  Batch: 40\t loss: 0.687\n",
            "Epoch : 3\t  Batch: 50\t loss: 0.689\n",
            "Epoch : 3\t  Batch: 60\t loss: 0.687\n",
            "Epoch : 3\t  Batch: 70\t loss: 0.682\n",
            "Epoch : 3\t  Batch: 80\t loss: 0.684\n",
            "Epoch : 4\t  Batch: 10\t loss: 0.687\n",
            "Epoch : 4\t  Batch: 20\t loss: 0.685\n",
            "Epoch : 4\t  Batch: 30\t loss: 0.683\n",
            "Epoch : 4\t  Batch: 40\t loss: 0.684\n",
            "Epoch : 4\t  Batch: 50\t loss: 0.685\n",
            "Epoch : 4\t  Batch: 60\t loss: 0.683\n",
            "Epoch : 4\t  Batch: 70\t loss: 0.678\n",
            "Epoch : 4\t  Batch: 80\t loss: 0.681\n",
            "Epoch : 5\t  Batch: 10\t loss: 0.683\n",
            "Epoch : 5\t  Batch: 20\t loss: 0.682\n",
            "Epoch : 5\t  Batch: 30\t loss: 0.679\n",
            "Epoch : 5\t  Batch: 40\t loss: 0.681\n",
            "Epoch : 5\t  Batch: 50\t loss: 0.681\n",
            "Epoch : 5\t  Batch: 60\t loss: 0.680\n",
            "Epoch : 5\t  Batch: 70\t loss: 0.675\n",
            "Epoch : 5\t  Batch: 80\t loss: 0.678\n",
            "Epoch : 6\t  Batch: 10\t loss: 0.679\n",
            "Epoch : 6\t  Batch: 20\t loss: 0.679\n",
            "Epoch : 6\t  Batch: 30\t loss: 0.676\n",
            "Epoch : 6\t  Batch: 40\t loss: 0.679\n",
            "Epoch : 6\t  Batch: 50\t loss: 0.677\n",
            "Epoch : 6\t  Batch: 60\t loss: 0.676\n",
            "Epoch : 6\t  Batch: 70\t loss: 0.672\n",
            "Epoch : 6\t  Batch: 80\t loss: 0.675\n",
            "Epoch : 7\t  Batch: 10\t loss: 0.675\n",
            "Epoch : 7\t  Batch: 20\t loss: 0.676\n",
            "Epoch : 7\t  Batch: 30\t loss: 0.673\n",
            "Epoch : 7\t  Batch: 40\t loss: 0.676\n",
            "Epoch : 7\t  Batch: 50\t loss: 0.674\n",
            "Epoch : 7\t  Batch: 60\t loss: 0.673\n",
            "Epoch : 7\t  Batch: 70\t loss: 0.668\n",
            "Epoch : 7\t  Batch: 80\t loss: 0.672\n",
            "Epoch : 8\t  Batch: 10\t loss: 0.672\n",
            "Epoch : 8\t  Batch: 20\t loss: 0.672\n",
            "Epoch : 8\t  Batch: 30\t loss: 0.670\n",
            "Epoch : 8\t  Batch: 40\t loss: 0.673\n",
            "Epoch : 8\t  Batch: 50\t loss: 0.671\n",
            "Epoch : 8\t  Batch: 60\t loss: 0.669\n",
            "Epoch : 8\t  Batch: 70\t loss: 0.665\n",
            "Epoch : 8\t  Batch: 80\t loss: 0.669\n",
            "Epoch : 9\t  Batch: 10\t loss: 0.668\n",
            "Epoch : 9\t  Batch: 20\t loss: 0.669\n",
            "Epoch : 9\t  Batch: 30\t loss: 0.666\n",
            "Epoch : 9\t  Batch: 40\t loss: 0.670\n",
            "Epoch : 9\t  Batch: 50\t loss: 0.667\n",
            "Epoch : 9\t  Batch: 60\t loss: 0.666\n",
            "Epoch : 9\t  Batch: 70\t loss: 0.661\n",
            "Epoch : 9\t  Batch: 80\t loss: 0.666\n",
            "Epoch : 10\t  Batch: 10\t loss: 0.665\n",
            "Epoch : 10\t  Batch: 20\t loss: 0.666\n",
            "Epoch : 10\t  Batch: 30\t loss: 0.663\n",
            "Epoch : 10\t  Batch: 40\t loss: 0.667\n",
            "Epoch : 10\t  Batch: 50\t loss: 0.664\n",
            "Epoch : 10\t  Batch: 60\t loss: 0.663\n",
            "Epoch : 10\t  Batch: 70\t loss: 0.658\n",
            "Epoch : 10\t  Batch: 80\t loss: 0.663\n",
            "Epoch : 11\t  Batch: 10\t loss: 0.662\n",
            "Epoch : 11\t  Batch: 20\t loss: 0.663\n",
            "Epoch : 11\t  Batch: 30\t loss: 0.660\n",
            "Epoch : 11\t  Batch: 40\t loss: 0.664\n",
            "Epoch : 11\t  Batch: 50\t loss: 0.661\n",
            "Epoch : 11\t  Batch: 60\t loss: 0.659\n",
            "Epoch : 11\t  Batch: 70\t loss: 0.654\n",
            "Epoch : 11\t  Batch: 80\t loss: 0.660\n",
            "Epoch : 12\t  Batch: 10\t loss: 0.658\n",
            "Epoch : 12\t  Batch: 20\t loss: 0.660\n",
            "Epoch : 12\t  Batch: 30\t loss: 0.657\n",
            "Epoch : 12\t  Batch: 40\t loss: 0.661\n",
            "Epoch : 12\t  Batch: 50\t loss: 0.658\n",
            "Epoch : 12\t  Batch: 60\t loss: 0.656\n",
            "Epoch : 12\t  Batch: 70\t loss: 0.651\n",
            "Epoch : 12\t  Batch: 80\t loss: 0.657\n",
            "Epoch : 13\t  Batch: 10\t loss: 0.655\n",
            "Epoch : 13\t  Batch: 20\t loss: 0.656\n",
            "Epoch : 13\t  Batch: 30\t loss: 0.654\n",
            "Epoch : 13\t  Batch: 40\t loss: 0.658\n",
            "Epoch : 13\t  Batch: 50\t loss: 0.655\n",
            "Epoch : 13\t  Batch: 60\t loss: 0.653\n",
            "Epoch : 13\t  Batch: 70\t loss: 0.647\n",
            "Epoch : 13\t  Batch: 80\t loss: 0.654\n",
            "Epoch : 14\t  Batch: 10\t loss: 0.652\n",
            "Epoch : 14\t  Batch: 20\t loss: 0.653\n",
            "Epoch : 14\t  Batch: 30\t loss: 0.651\n",
            "Epoch : 14\t  Batch: 40\t loss: 0.655\n",
            "Epoch : 14\t  Batch: 50\t loss: 0.652\n",
            "Epoch : 14\t  Batch: 60\t loss: 0.649\n",
            "Epoch : 14\t  Batch: 70\t loss: 0.644\n",
            "Epoch : 14\t  Batch: 80\t loss: 0.651\n",
            "Epoch : 15\t  Batch: 10\t loss: 0.649\n",
            "Epoch : 15\t  Batch: 20\t loss: 0.650\n",
            "Epoch : 15\t  Batch: 30\t loss: 0.648\n",
            "Epoch : 15\t  Batch: 40\t loss: 0.652\n",
            "Epoch : 15\t  Batch: 50\t loss: 0.649\n",
            "Epoch : 15\t  Batch: 60\t loss: 0.646\n",
            "Epoch : 15\t  Batch: 70\t loss: 0.641\n",
            "Epoch : 15\t  Batch: 80\t loss: 0.648\n",
            "Epoch : 16\t  Batch: 10\t loss: 0.645\n",
            "Epoch : 16\t  Batch: 20\t loss: 0.647\n",
            "Epoch : 16\t  Batch: 30\t loss: 0.645\n",
            "Epoch : 16\t  Batch: 40\t loss: 0.649\n",
            "Epoch : 16\t  Batch: 50\t loss: 0.646\n",
            "Epoch : 16\t  Batch: 60\t loss: 0.643\n",
            "Epoch : 16\t  Batch: 70\t loss: 0.637\n",
            "Epoch : 16\t  Batch: 80\t loss: 0.645\n",
            "Epoch : 17\t  Batch: 10\t loss: 0.642\n",
            "Epoch : 17\t  Batch: 20\t loss: 0.644\n",
            "Epoch : 17\t  Batch: 30\t loss: 0.642\n",
            "Epoch : 17\t  Batch: 40\t loss: 0.646\n",
            "Epoch : 17\t  Batch: 50\t loss: 0.643\n",
            "Epoch : 17\t  Batch: 60\t loss: 0.640\n",
            "Epoch : 17\t  Batch: 70\t loss: 0.634\n",
            "Epoch : 17\t  Batch: 80\t loss: 0.642\n",
            "Epoch : 18\t  Batch: 10\t loss: 0.639\n",
            "Epoch : 18\t  Batch: 20\t loss: 0.640\n",
            "Epoch : 18\t  Batch: 30\t loss: 0.638\n",
            "Epoch : 18\t  Batch: 40\t loss: 0.643\n",
            "Epoch : 18\t  Batch: 50\t loss: 0.640\n",
            "Epoch : 18\t  Batch: 60\t loss: 0.636\n",
            "Epoch : 18\t  Batch: 70\t loss: 0.630\n",
            "Epoch : 18\t  Batch: 80\t loss: 0.639\n",
            "Epoch : 19\t  Batch: 10\t loss: 0.636\n",
            "Epoch : 19\t  Batch: 20\t loss: 0.637\n",
            "Epoch : 19\t  Batch: 30\t loss: 0.635\n",
            "Epoch : 19\t  Batch: 40\t loss: 0.640\n",
            "Epoch : 19\t  Batch: 50\t loss: 0.637\n",
            "Epoch : 19\t  Batch: 60\t loss: 0.633\n",
            "Epoch : 19\t  Batch: 70\t loss: 0.627\n",
            "Epoch : 19\t  Batch: 80\t loss: 0.636\n",
            "Epoch : 20\t  Batch: 10\t loss: 0.632\n",
            "Epoch : 20\t  Batch: 20\t loss: 0.634\n",
            "Epoch : 20\t  Batch: 30\t loss: 0.632\n",
            "Epoch : 20\t  Batch: 40\t loss: 0.636\n",
            "Epoch : 20\t  Batch: 50\t loss: 0.634\n",
            "Epoch : 20\t  Batch: 60\t loss: 0.630\n",
            "Epoch : 20\t  Batch: 70\t loss: 0.624\n",
            "Epoch : 20\t  Batch: 80\t loss: 0.633\n"
          ],
          "name": "stdout"
        }
      ]
    },
    {
      "cell_type": "code",
      "metadata": {
        "id": "xMQ5gr9wzCNp",
        "outputId": "7621e6e3-f8b2-4bd0-993a-c5daf7373ea4",
        "colab": {
          "base_uri": "https://localhost:8080/"
        }
      },
      "source": [
        "outputs=net(test)\n",
        "\n",
        "# Choose the prediction with higher probability\n",
        "_, predicted = torch.max(outputs, 1)\n",
        "\n",
        "# Find the average accuracy of all the examples in the test\n",
        "acc=(lab_test==predicted).sum().double()/200\n",
        "print(\"Test accuracy:\",acc.item())"
      ],
      "execution_count": 25,
      "outputs": [
        {
          "output_type": "stream",
          "text": [
            "Test accuracy: 0.91\n"
          ],
          "name": "stdout"
        }
      ]
    }
  ]
}