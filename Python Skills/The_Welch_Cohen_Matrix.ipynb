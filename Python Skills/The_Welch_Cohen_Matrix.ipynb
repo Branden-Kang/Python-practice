{
  "nbformat": 4,
  "nbformat_minor": 0,
  "metadata": {
    "colab": {
      "name": "The Welch-Cohen Matrix.ipynb",
      "provenance": [],
      "authorship_tag": "ABX9TyPOUlNoVnjVAmaxm/GkbfHk"
    },
    "kernelspec": {
      "name": "python3",
      "display_name": "Python 3"
    }
  },
  "cells": [
    {
      "cell_type": "markdown",
      "metadata": {
        "id": "WT8D5JtKr1hw"
      },
      "source": [
        "[Reference](https://medium.com/@phil.busko/the-welch-cohen-matrix-9e1bd04de98e)"
      ]
    },
    {
      "cell_type": "code",
      "metadata": {
        "id": "9RklaFCvrxzI"
      },
      "source": [
        "import pandas as PD\n",
        "import scipy.stats as ST\n",
        "\n",
        "def get_anova(full_df, group_of, data_col):   return ST.f_oneway( *(full_df.loc[full_df[group_of]==c, data_col] \n",
        "                       for c in full_df[group_of].unique()) )"
      ],
      "execution_count": 2,
      "outputs": []
    },
    {
      "cell_type": "code",
      "metadata": {
        "id": "Hr0XqkZWr4YX"
      },
      "source": [
        "def welch_cohen_matrix(full_df, group_of, data_col):\n",
        "    \n",
        "    # get the matrix\n",
        "    \n",
        "    group_ls = list(full_df[group_of].unique())\n",
        "    group_ls.sort()\n",
        "    welcoh_ls = []\n",
        "    \n",
        "    for grp_row in group_ls:\n",
        "        \n",
        "        new_dx = {'Sample': grp_row}\n",
        "        sample_row = full_df.loc[full_df[group_of]==grp_row][data_col]\n",
        "        \n",
        "        for grp_col in group_ls:\n",
        "    \n",
        "            sample_col = full_df.loc[full_df[group_of]==grp_col][data_col]\n",
        "        \n",
        "            welch_tp = ST.ttest_ind(sample_row, sample_col, equal_var=False)\n",
        "            cohen_nume = abs(sample_row.mean() - sample_col.mean())\n",
        "            cohen_denom_nume = (sample_row.shape[0]-1) * sample_row.std(ddof=1)**2 + (sample_col.shape[0]-1) * sample_col.std(ddof=1)**2\n",
        "            cohen_denom_denom = sample_row.shape[0] + sample_col.shape[0] -2\n",
        "            cohen = cohen_nume / ((cohen_denom_nume/cohen_denom_denom)**(1/2))\n",
        "            welch = f'{abs(welch_tp[1]): .2f}' if abs(welch_tp[1]) > 0.01 else f'{abs(welch_tp[1]): .0e}'\n",
        "            wc_value = f'{welch} {cohen : .2f}'\n",
        "            new_dx[grp_col] = wc_value\n",
        "        \n",
        "        welcoh_ls.append(new_dx)\n",
        "        \n",
        "    # convert to dataframe for display\n",
        "    \n",
        "    welcoh_df = PD.DataFrame(welcoh_ls)\n",
        "    welcoh_df = welcoh_df[['Sample']+group_ls]\n",
        "    welcoh_df = welcoh_df.set_index('Sample')\n",
        "    welcoh_df.style.applymap(get_wc_color)\n",
        "    return welcoh_df\n",
        "    \n",
        "    # function to style the welch-cohen dataframe\n",
        "    \n",
        "    def get_wc_color(cell_val):\n",
        "        cell_ls = cell_val.strip().split()     \n",
        "        p_value = float(cell_ls[0])\n",
        "        cohen = float(cell_ls[1])\n",
        "        color = 'white'\n",
        "        \n",
        "        if p_value > 0.05:\n",
        "            color = 'white'\n",
        "        elif cohen >= 0.2 and cohen < 0.5:\n",
        "            color = 'yellow'\n",
        "        elif cohen >= 0.5 and cohen < 0.8:\n",
        "            color = 'orange'\n",
        "        elif cohen >= 0.8:\n",
        "            color = 'red'\n",
        "            \n",
        "        return f'background-color: {color}'"
      ],
      "execution_count": 5,
      "outputs": []
    }
  ]
}