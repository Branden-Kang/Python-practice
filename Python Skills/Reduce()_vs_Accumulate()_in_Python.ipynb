{
  "nbformat": 4,
  "nbformat_minor": 0,
  "metadata": {
    "colab": {
      "name": "Reduce() vs Accumulate() in Python.ipynb",
      "provenance": [],
      "authorship_tag": "ABX9TyOMI5nCouJvIrcYdH6a+VYQ"
    },
    "kernelspec": {
      "name": "python3",
      "display_name": "Python 3"
    }
  },
  "cells": [
    {
      "cell_type": "markdown",
      "metadata": {
        "id": "VU7eeFdoq3jI"
      },
      "source": [
        "[Reference](https://codeburst.io/reduce-vs-accumulate-in-python-3ecee4ee8094)"
      ]
    },
    {
      "cell_type": "markdown",
      "metadata": {
        "id": "pcjfvCtKsJVW"
      },
      "source": [
        "# Reduce()"
      ]
    },
    {
      "cell_type": "code",
      "metadata": {
        "id": "VHw4NPgIqy9Z"
      },
      "source": [
        "from functools import reduce"
      ],
      "execution_count": 1,
      "outputs": []
    },
    {
      "cell_type": "code",
      "metadata": {
        "id": "ZsdITdzorB_h",
        "outputId": "94a6e9ae-82b4-48f8-9831-e6c94e8afaf6",
        "colab": {
          "base_uri": "https://localhost:8080/",
          "height": 34
        }
      },
      "source": [
        "reduce(lambda x, y: x+y, [1, 2, 3, 4, 5])"
      ],
      "execution_count": 2,
      "outputs": [
        {
          "output_type": "execute_result",
          "data": {
            "text/plain": [
              "15"
            ]
          },
          "metadata": {
            "tags": []
          },
          "execution_count": 2
        }
      ]
    },
    {
      "cell_type": "markdown",
      "metadata": {
        "id": "xu6lAMQcrGC4"
      },
      "source": [
        "![reduce](https://miro.medium.com/max/1400/1*xRT9Mh9WncXo62vXDKg02Q.png)"
      ]
    },
    {
      "cell_type": "code",
      "metadata": {
        "id": "MSx3lL7CrEcV",
        "outputId": "0a8cd63a-b038-46a1-b8ee-3dd36833f3bb",
        "colab": {
          "base_uri": "https://localhost:8080/",
          "height": 34
        }
      },
      "source": [
        "num1 = [1,2,3,4,5]\n",
        "print(reduce(lambda x,y:x+y,num1))"
      ],
      "execution_count": 3,
      "outputs": [
        {
          "output_type": "stream",
          "text": [
            "15\n"
          ],
          "name": "stdout"
        }
      ]
    },
    {
      "cell_type": "code",
      "metadata": {
        "id": "wp_U2NGkrbPa",
        "outputId": "af148074-2732-4e6d-bd4a-93c8ce0f06b5",
        "colab": {
          "base_uri": "https://localhost:8080/",
          "height": 34
        }
      },
      "source": [
        "num1=[80,100,90,95,85]\n",
        "print(reduce(lambda x,y: x if x>y else y, num1))"
      ],
      "execution_count": 4,
      "outputs": [
        {
          "output_type": "stream",
          "text": [
            "100\n"
          ],
          "name": "stdout"
        }
      ]
    },
    {
      "cell_type": "markdown",
      "metadata": {
        "id": "Y7QsQk8srpAq"
      },
      "source": [
        "![reduce-max](https://miro.medium.com/max/1400/1*iGaQRrKrUO3uiBkyA1rnZw.png)"
      ]
    },
    {
      "cell_type": "code",
      "metadata": {
        "id": "qIh0f0i_rmnH",
        "outputId": "d9a38344-d2d9-40d3-cbe5-176f3336124f",
        "colab": {
          "base_uri": "https://localhost:8080/",
          "height": 34
        }
      },
      "source": [
        "def sum1(x,y):\n",
        "    return x+y\n",
        "num1 = [1,2,3,4,5]\n",
        "print(reduce(sum1,num1))"
      ],
      "execution_count": 6,
      "outputs": [
        {
          "output_type": "stream",
          "text": [
            "15\n"
          ],
          "name": "stdout"
        }
      ]
    },
    {
      "cell_type": "code",
      "metadata": {
        "id": "-2uxhw6Mr3sJ",
        "outputId": "b2327dae-66e4-43c2-a0fc-13a0e4dddb98",
        "colab": {
          "base_uri": "https://localhost:8080/",
          "height": 34
        }
      },
      "source": [
        "def sum1(x,y):\n",
        "    return x+y\n",
        "num1 = [1,2,3,4,5]\n",
        "print(reduce(sum1,num1,10))"
      ],
      "execution_count": 7,
      "outputs": [
        {
          "output_type": "stream",
          "text": [
            "25\n"
          ],
          "name": "stdout"
        }
      ]
    },
    {
      "cell_type": "code",
      "metadata": {
        "id": "F40-2QRkr7cA",
        "outputId": "ff5d06f6-b18f-400c-bcb1-532f0b7466d4",
        "colab": {
          "base_uri": "https://localhost:8080/",
          "height": 34
        }
      },
      "source": [
        "def sum1(x,y):\n",
        "    return x+y\n",
        "num1 = [1]\n",
        "print(reduce(sum1,num1))"
      ],
      "execution_count": 8,
      "outputs": [
        {
          "output_type": "stream",
          "text": [
            "1\n"
          ],
          "name": "stdout"
        }
      ]
    },
    {
      "cell_type": "code",
      "metadata": {
        "id": "GawFxN5RsBt2",
        "outputId": "4acb9466-6e15-4a99-8fcc-bc7bddbb0a72",
        "colab": {
          "base_uri": "https://localhost:8080/",
          "height": 34
        }
      },
      "source": [
        "def sum1(x,y):\n",
        "    return x+y\n",
        "num1 = []\n",
        "print(reduce(sum1,num1,10))"
      ],
      "execution_count": 9,
      "outputs": [
        {
          "output_type": "stream",
          "text": [
            "10\n"
          ],
          "name": "stdout"
        }
      ]
    },
    {
      "cell_type": "markdown",
      "metadata": {
        "id": "UGl9EqXGsKvn"
      },
      "source": [
        "# Accumulate()"
      ]
    },
    {
      "cell_type": "code",
      "metadata": {
        "id": "oR4IcZ2-sH7k"
      },
      "source": [
        "from itertools import accumulate\n",
        "import itertools\n",
        "import operator"
      ],
      "execution_count": 15,
      "outputs": []
    },
    {
      "cell_type": "code",
      "metadata": {
        "id": "LkIDStKbslw1",
        "outputId": "e9695081-6a41-45f2-92af-af610f0525c3",
        "colab": {
          "base_uri": "https://localhost:8080/",
          "height": 34
        }
      },
      "source": [
        "num2=accumulate([1,2,3,4,5],operator.mul)\n",
        "print (list(num2))"
      ],
      "execution_count": 13,
      "outputs": [
        {
          "output_type": "stream",
          "text": [
            "[1, 2, 6, 24, 120]\n"
          ],
          "name": "stdout"
        }
      ]
    },
    {
      "cell_type": "markdown",
      "metadata": {
        "id": "Iw8KxLMEsSX6"
      },
      "source": [
        "![accumulate](https://miro.medium.com/max/1400/1*X1yIc_Pn04YZrxDnu_tnNw.png)"
      ]
    },
    {
      "cell_type": "code",
      "metadata": {
        "id": "zAJI7UxMsRC7",
        "outputId": "24e000d4-e09a-4a7e-8384-585b4e2312c2",
        "colab": {
          "base_uri": "https://localhost:8080/",
          "height": 34
        }
      },
      "source": [
        "num1=itertools.accumulate([1,2,3,4,5])\n",
        "print(num1)"
      ],
      "execution_count": 16,
      "outputs": [
        {
          "output_type": "stream",
          "text": [
            "<itertools.accumulate object at 0x7fa631958bc8>\n"
          ],
          "name": "stdout"
        }
      ]
    },
    {
      "cell_type": "code",
      "metadata": {
        "id": "iTvtNgBdswF8",
        "outputId": "5bf15db0-db32-4f27-c6c0-94083ffacb9b",
        "colab": {
          "base_uri": "https://localhost:8080/",
          "height": 34
        }
      },
      "source": [
        "print(list(num1))"
      ],
      "execution_count": 17,
      "outputs": [
        {
          "output_type": "stream",
          "text": [
            "[1, 3, 6, 10, 15]\n"
          ],
          "name": "stdout"
        }
      ]
    },
    {
      "cell_type": "code",
      "metadata": {
        "id": "nxlqV4Ims0kx",
        "outputId": "437921a9-a3a9-4e7c-e34e-f5c02ed8a852",
        "colab": {
          "base_uri": "https://localhost:8080/",
          "height": 34
        }
      },
      "source": [
        "r1=reduce(operator.add,[1,2,3,4,5])\n",
        "print (r1)"
      ],
      "execution_count": 18,
      "outputs": [
        {
          "output_type": "stream",
          "text": [
            "15\n"
          ],
          "name": "stdout"
        }
      ]
    },
    {
      "cell_type": "code",
      "metadata": {
        "id": "yRi6FuDks5Ah",
        "outputId": "0eca782c-dbd1-4520-be5f-4c9c19c807d0",
        "colab": {
          "base_uri": "https://localhost:8080/",
          "height": 34
        }
      },
      "source": [
        "num1=accumulate([80,100,90,95,85],max)\n",
        "print(list(num1))"
      ],
      "execution_count": 19,
      "outputs": [
        {
          "output_type": "stream",
          "text": [
            "[80, 100, 100, 100, 100]\n"
          ],
          "name": "stdout"
        }
      ]
    },
    {
      "cell_type": "code",
      "metadata": {
        "id": "AHTR879-tBY6",
        "outputId": "1216ad61-b16a-43fb-906e-99dae24ea356",
        "colab": {
          "base_uri": "https://localhost:8080/",
          "height": 34
        }
      },
      "source": [
        "num2=accumulate([5],lambda x,y:x+y)\n",
        "print(list(num2))"
      ],
      "execution_count": 23,
      "outputs": [
        {
          "output_type": "stream",
          "text": [
            "[5]\n"
          ],
          "name": "stdout"
        }
      ]
    },
    {
      "cell_type": "code",
      "metadata": {
        "id": "gQcFhR9KtKSW",
        "outputId": "e86435d8-d7a1-4634-a91c-0df7d82ddc54",
        "colab": {
          "base_uri": "https://localhost:8080/",
          "height": 68
        }
      },
      "source": [
        "num2=accumulate([5,6,7],lambda x,y:x+y)\n",
        "for i in num2:\n",
        "    print (i)"
      ],
      "execution_count": 24,
      "outputs": [
        {
          "output_type": "stream",
          "text": [
            "5\n",
            "11\n",
            "18\n"
          ],
          "name": "stdout"
        }
      ]
    }
  ]
}