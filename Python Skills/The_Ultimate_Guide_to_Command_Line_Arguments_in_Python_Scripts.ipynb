{
  "nbformat": 4,
  "nbformat_minor": 0,
  "metadata": {
    "colab": {
      "provenance": [],
      "authorship_tag": "ABX9TyPbSjrGYX0rK1R8sBGyMUAm"
    },
    "kernelspec": {
      "name": "python3",
      "display_name": "Python 3"
    },
    "language_info": {
      "name": "python"
    }
  },
  "cells": [
    {
      "cell_type": "markdown",
      "source": [
        "[Reference](https://moez-62905.medium.com/the-ultimate-guide-to-command-line-arguments-in-python-scripts-61c49c90e0b3)"
      ],
      "metadata": {
        "id": "XTH4_kYAfwEk"
      }
    },
    {
      "cell_type": "code",
      "execution_count": 1,
      "metadata": {
        "colab": {
          "base_uri": "https://localhost:8080/"
        },
        "id": "o1OfcwdXfOux",
        "outputId": "5a49f081-b4db-461a-f1fe-5e39603ad3dc"
      },
      "outputs": [
        {
          "output_type": "stream",
          "name": "stdout",
          "text": [
            "/usr/local/lib/python3.9/dist-packages/ipykernel_launcher.py\n",
            "-f\n",
            "/root/.local/share/jupyter/runtime/kernel-5b2e663a-54f0-4e33-8c0d-2a34e3e31264.json\n"
          ]
        }
      ],
      "source": [
        "import sys\n",
        "\n",
        "for arg in sys.argv:\n",
        "    print(arg)"
      ]
    },
    {
      "cell_type": "code",
      "source": [
        "import sys\n",
        "\n",
        "if len(sys.argv) > 1:\n",
        "    print(f\"Hello, {sys.argv[1]}!\")\n",
        "else:\n",
        "    print(\"Hello, world!\")"
      ],
      "metadata": {
        "colab": {
          "base_uri": "https://localhost:8080/"
        },
        "id": "PkvGZG4tfy1_",
        "outputId": "00d351c2-1a60-4303-a21c-bf0f95767390"
      },
      "execution_count": 2,
      "outputs": [
        {
          "output_type": "stream",
          "name": "stdout",
          "text": [
            "Hello, -f!\n"
          ]
        }
      ]
    },
    {
      "cell_type": "code",
      "source": [
        "import argparse\n",
        "\n",
        "parser = argparse.ArgumentParser()\n",
        "parser.add_argument('--name', help='the name to greet')\n",
        "\n",
        "args = parser.parse_args()\n",
        "\n",
        "if args.name:\n",
        "    print(f\"Hello, {args.name}!\")\n",
        "else:\n",
        "    print(\"Hello, world!\")"
      ],
      "metadata": {
        "id": "XynPjCNnf0EH"
      },
      "execution_count": 4,
      "outputs": []
    },
    {
      "cell_type": "code",
      "source": [
        "import argparse\n",
        "\n",
        "parser = argparse.ArgumentParser()\n",
        "parser.add_argument('x', type=int, help='the first number')\n",
        "parser.add_argument('y', type=int, help='the second number')\n",
        "\n",
        "args = parser.parse_args()\n",
        "\n",
        "print(f\"{args.x} + {args.y} = {args.x + args.y}\")"
      ],
      "metadata": {
        "id": "ke4UzGfdf1oT"
      },
      "execution_count": 5,
      "outputs": []
    },
    {
      "cell_type": "code",
      "source": [
        "import argparse\n",
        "\n",
        "parser = argparse.ArgumentParser()\n",
        "parser.add_argument('--operation', choices=['add', 'subtract'], default='add', help='the operation to perform')\n",
        "parser.add_argument('x', type=int, help='the first number')\n",
        "parser.add_argument('y', type=int, help='the second number')\n",
        "\n",
        "args = parser.parse_args()\n",
        "\n",
        "if args.operation == 'add':\n",
        "    print(f\"{args.x} + {args.y} = {args.x + args.y}\")\n",
        "else:\n",
        "    print(f\"{args.x} - {args.y} = {args.x - args.y}\")"
      ],
      "metadata": {
        "id": "eVC0Rl_Cf8uq"
      },
      "execution_count": 6,
      "outputs": []
    }
  ]
}
