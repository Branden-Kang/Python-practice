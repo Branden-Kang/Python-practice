{
  "nbformat": 4,
  "nbformat_minor": 0,
  "metadata": {
    "colab": {
      "name": "Make a CLI in Python.ipynb",
      "provenance": [],
      "authorship_tag": "ABX9TyNANIOgGpdna156/OdCvm6c"
    },
    "kernelspec": {
      "name": "python3",
      "display_name": "Python 3"
    }
  },
  "cells": [
    {
      "cell_type": "markdown",
      "metadata": {
        "id": "H4nElZfhzYOL"
      },
      "source": [
        "[Reference](https://medium.com/better-programming/make-a-cli-in-50-lines-of-python-code-158c378eb4bd)"
      ]
    },
    {
      "cell_type": "code",
      "metadata": {
        "colab": {
          "base_uri": "https://localhost:8080/"
        },
        "id": "DJduG4Q0vktS",
        "outputId": "5dfe4b44-d270-48b1-9143-9f8d9301fccf"
      },
      "source": [
        "pip install click"
      ],
      "execution_count": 12,
      "outputs": [
        {
          "output_type": "stream",
          "text": [
            "Requirement already satisfied: click in /usr/local/lib/python3.6/dist-packages (7.1.2)\n"
          ],
          "name": "stdout"
        }
      ]
    },
    {
      "cell_type": "code",
      "metadata": {
        "colab": {
          "base_uri": "https://localhost:8080/",
          "height": 235
        },
        "id": "ab7RuLGsvt-a",
        "outputId": "6054e797-72fb-40da-b4aa-24427e5d6da4"
      },
      "source": [
        "# Import the click module that was just downloaded.\n",
        "import click\n",
        "\n",
        "\n",
        "# Used to indicate to click that this function is a command.\n",
        "@click.command()\n",
        "# Function that represents a command. The function name is the command name.\n",
        "def main():\n",
        "\t# Uses click's print statement to output to the terminal.\n",
        "\tclick.echo(\"Hello World!\")\n",
        "\n",
        "\n",
        "if __name__ == \"__main__\":\n",
        "\tmain()"
      ],
      "execution_count": 13,
      "outputs": [
        {
          "output_type": "stream",
          "text": [
            "Usage: ipykernel_launcher.py [OPTIONS]\n",
            "Try 'ipykernel_launcher.py --help' for help.\n",
            "\n",
            "Error: no such option: -f\n"
          ],
          "name": "stderr"
        },
        {
          "output_type": "error",
          "ename": "SystemExit",
          "evalue": "ignored",
          "traceback": [
            "An exception has occurred, use %tb to see the full traceback.\n",
            "\u001b[0;31mSystemExit\u001b[0m\u001b[0;31m:\u001b[0m 2\n"
          ]
        },
        {
          "output_type": "stream",
          "text": [
            "/usr/local/lib/python3.6/dist-packages/IPython/core/interactiveshell.py:2890: UserWarning: To exit: use 'exit', 'quit', or Ctrl-D.\n",
            "  warn(\"To exit: use 'exit', 'quit', or Ctrl-D.\", stacklevel=1)\n"
          ],
          "name": "stderr"
        }
      ]
    },
    {
      "cell_type": "code",
      "metadata": {
        "colab": {
          "base_uri": "https://localhost:8080/",
          "height": 235
        },
        "id": "lr54mIkhzVY0",
        "outputId": "13faae89-263f-4a39-ca8f-deffe512e7c4"
      },
      "source": [
        "# Import the click module that was just downloaded.\n",
        "import click\n",
        "\n",
        "\n",
        "# Makes the function main a designated group for commands. Allowing multiple functions to be tied to main.\n",
        "@click.group()\n",
        "# Function that represents a group since there is no command decorator.\n",
        "def main():\n",
        "\t# Creating an empty function since we need to have this exist so we can use it as a group.\n",
        "\tpass\n",
        "\n",
        "\n",
        "# Uses the \"main\" group to indicate that this function is a command of that group.\n",
        "@main.command()\n",
        "# Function that represents a command. The function name is the command name.\n",
        "def hello():\n",
        "\t# Simple print statement to the terminal.\n",
        "\tclick.echo(\"Hello\")\n",
        "\n",
        "\n",
        "# Uses the \"main\" group to indicate that this function is a command of that group.\n",
        "@main.command()\n",
        "# Function that represents a command. The function name is the command name.\n",
        "def world():\n",
        "\t# Simple print statement to the terminal.\n",
        "\tclick.echo(\"World!\")\n",
        "\n",
        "\n",
        "if __name__ == \"__main__\":\n",
        "\tmain()"
      ],
      "execution_count": 14,
      "outputs": [
        {
          "output_type": "stream",
          "text": [
            "Usage: ipykernel_launcher.py [OPTIONS] COMMAND [ARGS]...\n",
            "Try 'ipykernel_launcher.py --help' for help.\n",
            "\n",
            "Error: no such option: -f\n"
          ],
          "name": "stderr"
        },
        {
          "output_type": "error",
          "ename": "SystemExit",
          "evalue": "ignored",
          "traceback": [
            "An exception has occurred, use %tb to see the full traceback.\n",
            "\u001b[0;31mSystemExit\u001b[0m\u001b[0;31m:\u001b[0m 2\n"
          ]
        },
        {
          "output_type": "stream",
          "text": [
            "/usr/local/lib/python3.6/dist-packages/IPython/core/interactiveshell.py:2890: UserWarning: To exit: use 'exit', 'quit', or Ctrl-D.\n",
            "  warn(\"To exit: use 'exit', 'quit', or Ctrl-D.\", stacklevel=1)\n"
          ],
          "name": "stderr"
        }
      ]
    },
    {
      "cell_type": "code",
      "metadata": {
        "id": "nS0c7KRyzVmz"
      },
      "source": [
        "# Uses the \"main\" group to indicate that this function is a command of that group.\n",
        "@main.command()\n",
        "@click.option(\n",
        "\t# Aliases that can be used to indicate the flag in the terminal.\n",
        "\t\"--number\",\n",
        "\t\"-n\",\n",
        "\t# Uses this value if nothing was inputted in the terminal.\n",
        "\tdefault=1\n",
        ")\n",
        "# Function that represents a command. The function name is the command name.\n",
        "def hello(number):\n",
        "\t# Simple print statement to the terminal.\n",
        "\tfor i in range(number):\n",
        "\t\tclick.echo(\"Hello\")"
      ],
      "execution_count": 15,
      "outputs": []
    },
    {
      "cell_type": "code",
      "metadata": {
        "colab": {
          "base_uri": "https://localhost:8080/",
          "height": 235
        },
        "id": "sUM70kP3znCk",
        "outputId": "ae05668c-ce4f-4f18-b349-d7222fd59901"
      },
      "source": [
        "# Import the click module that was just downloaded.\n",
        "import click\n",
        "\n",
        "\n",
        "# Makes the function main a designated group for commands. Allowing multiple functions to be tied to main.\n",
        "@click.group()\n",
        "# Function that represents a group since there is no command decorator.\n",
        "def main():\n",
        "\t# Creating an empty function since we need to have this exist so we can use it as a group.\n",
        "\tpass\n",
        "\n",
        "\n",
        "# Uses the \"main\" group to indicate that this function is a command of that group.\n",
        "@main.command()\n",
        "@click.option(\n",
        "\t# Aliases that can be used to indicate the flag in the terminal.\n",
        "\t\"--number\",\n",
        "\t\"-n\",\n",
        "\t# Uses this value if nothing was inputted in the terminal.\n",
        "\tdefault=1,\n",
        "\t# Help message that appends right into the terminal.\n",
        "\thelp=\"The number of iterations that you want printed\"\n",
        ")\n",
        "# Function that represents a command. The function name is the command name.\n",
        "def hello(number):\n",
        "\t\"\"\"\n",
        "\tPrints the value \"Hello\" to the terminal.\n",
        "\t\"\"\"\n",
        "\n",
        "\t# Simple print statement to the terminal.\n",
        "\tfor i in range(number):\n",
        "\t\tclick.echo(\"Hello\")\n",
        "\n",
        "\n",
        "# Uses the \"main\" group to indicate that this function is a command of that group.\n",
        "@main.command()\n",
        "# Function that represents a command. The function name is the command name.\n",
        "def world():\n",
        "\t\"\"\"\n",
        "\tPrints the value \"World!\" to the terminal.\n",
        "\t\"\"\"\n",
        "\t# Simple print statement to the terminal.\n",
        "\tclick.echo(\"World!\")\n",
        "\n",
        "\n",
        "if __name__ == \"__main__\":\n",
        "\tmain()"
      ],
      "execution_count": 16,
      "outputs": [
        {
          "output_type": "stream",
          "text": [
            "Usage: ipykernel_launcher.py [OPTIONS] COMMAND [ARGS]...\n",
            "Try 'ipykernel_launcher.py --help' for help.\n",
            "\n",
            "Error: no such option: -f\n"
          ],
          "name": "stderr"
        },
        {
          "output_type": "error",
          "ename": "SystemExit",
          "evalue": "ignored",
          "traceback": [
            "An exception has occurred, use %tb to see the full traceback.\n",
            "\u001b[0;31mSystemExit\u001b[0m\u001b[0;31m:\u001b[0m 2\n"
          ]
        },
        {
          "output_type": "stream",
          "text": [
            "/usr/local/lib/python3.6/dist-packages/IPython/core/interactiveshell.py:2890: UserWarning: To exit: use 'exit', 'quit', or Ctrl-D.\n",
            "  warn(\"To exit: use 'exit', 'quit', or Ctrl-D.\", stacklevel=1)\n"
          ],
          "name": "stderr"
        }
      ]
    }
  ]
}