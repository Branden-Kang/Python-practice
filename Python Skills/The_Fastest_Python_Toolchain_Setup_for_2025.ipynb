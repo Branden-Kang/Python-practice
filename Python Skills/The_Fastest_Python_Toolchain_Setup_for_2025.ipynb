{
  "nbformat": 4,
  "nbformat_minor": 0,
  "metadata": {
    "colab": {
      "provenance": [],
      "authorship_tag": "ABX9TyPhKFcWOT5nCgkxpEb9Wnxc"
    },
    "kernelspec": {
      "name": "python3",
      "display_name": "Python 3"
    },
    "language_info": {
      "name": "python"
    }
  },
  "cells": [
    {
      "cell_type": "markdown",
      "source": [
        "[Reference](https://medium.com/@tricky16122000/the-fastest-python-toolchain-setup-for-2025-188db29a0414)"
      ],
      "metadata": {
        "id": "tnRF5tKzRH1Q"
      }
    },
    {
      "cell_type": "markdown",
      "source": [
        "# Step 1: Ditch System Python. Use uv.\n",
        "```\n",
        "# Install uv (single binary)\n",
        "curl -LsSf https://astral.sh/uv/install.sh | sh\n",
        "\n",
        "# Create a new project\n",
        "uv init myproject\n",
        "cd myproject\n",
        "\n",
        "# Add dependencies\n",
        "uv add requests fastapi\n",
        "```"
      ],
      "metadata": {
        "id": "vK6tbTTMROVK"
      }
    },
    {
      "cell_type": "markdown",
      "source": [
        "# Step 2: Use pyenv (But Don’t Abuse It)\n",
        "```\n",
        "# Install Python versions\n",
        "pyenv install 3.12.2\n",
        "pyenv install 3.10.13\n",
        "\n",
        "# Set per-project version\n",
        "pyenv local 3.12.2\n",
        "```"
      ],
      "metadata": {
        "id": "5WEFj3DjRSP6"
      }
    },
    {
      "cell_type": "markdown",
      "source": [
        "# Step 3: Use a Dependency Manager That Doesn’t Hate You\n",
        "```\n",
        "uv add numpy pandas\n",
        "uv lock\n",
        "uv run python main.py\n",
        "```"
      ],
      "metadata": {
        "id": "ZcDCE2r4RZ66"
      }
    },
    {
      "cell_type": "markdown",
      "source": [
        "# Step 4: Containers — Use Them Wisely\n",
        "```\n",
        "FROM python:3.12-slim\n",
        "RUN pip install uv\n",
        "WORKDIR /app\n",
        "COPY . .\n",
        "RUN uv sync --frozen\n",
        "CMD [\"uv\", \"run\", \"python\", \"main.py\"]\n",
        "```"
      ],
      "metadata": {
        "id": "o7BH5dz0RduT"
      }
    },
    {
      "cell_type": "markdown",
      "source": [
        "# Step 5: Automate the Boring Stuff\n",
        "- Use Makefile or smiple shell scripts"
      ],
      "metadata": {
        "id": "bb9GhJ5_Rgrc"
      }
    },
    {
      "cell_type": "markdown",
      "source": [
        "```\n",
        "setup:\n",
        "\tuv sync\n",
        "\n",
        "run:\n",
        " uv run python main.py\n",
        "\n",
        "test:\n",
        " uv run pytest\n",
        "```"
      ],
      "metadata": {
        "id": "Wal1ga04Rln0"
      }
    }
  ]
}
