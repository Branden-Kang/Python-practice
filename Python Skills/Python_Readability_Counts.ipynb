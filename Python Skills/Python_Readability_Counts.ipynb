{
  "nbformat": 4,
  "nbformat_minor": 0,
  "metadata": {
    "colab": {
      "name": "Python Readability Counts.ipynb",
      "provenance": [],
      "authorship_tag": "ABX9TyO3WqRJox71j+mae3gO8rkW"
    },
    "kernelspec": {
      "name": "python3",
      "display_name": "Python 3"
    },
    "language_info": {
      "name": "python"
    }
  },
  "cells": [
    {
      "cell_type": "markdown",
      "metadata": {
        "id": "qlaRlCkVMd-1"
      },
      "source": [
        "[Reference](https://medium.com/@johnroller28/python-readability-counts-on-you-d9fa3375f4be)"
      ]
    },
    {
      "cell_type": "code",
      "metadata": {
        "id": "cvkEmeXqL4pK"
      },
      "source": [
        "X = 0.04\n",
        "y = 15\n",
        "a = 5000\n",
        "\n",
        "def loop(a, v):\n",
        "\n",
        "    return a if v<=0 else a * loop(a, v-1)\n",
        "\n",
        "\n",
        "def function1():\n",
        "    global X\n",
        "    global y\n",
        "    global a\n",
        "\n",
        "    return a * loop((1+X), v=y)"
      ],
      "execution_count": 1,
      "outputs": []
    },
    {
      "cell_type": "code",
      "metadata": {
        "id": "DvW4PKqqMi6F"
      },
      "source": [
        "def recursive_loop(a: float, v: int) -> float:\n",
        "    \"\"\"\n",
        "    recursively loops down to v=0 by v-1. equivalent to a**v\n",
        "    :param a: floating point base to be recursively exponentiated\n",
        "    :param v: amount of loops to run through\n",
        "    :return: float a ** v\n",
        "    \"\"\"\n",
        "\n",
        "    return a if v <= 1 else a * recursive_loop(a, v - 1)\n",
        "\n",
        "\n",
        "def calculate_compound_interest(amt: float, term: int, apy: float) -> float:\n",
        "    \"\"\"\n",
        "    uses recursion\n",
        "    calculate compound interest of initial investment amt for term years term vested at apy interest\n",
        "    :param amt: initial principal for investment\n",
        "    :param term: int years of investment\n",
        "    :param apy: float apy of investment\n",
        "    :return: float accumulated amount at end of term\n",
        "    \"\"\"\n",
        "    return amt * recursive_loop(a=(1 + apy), v=term)"
      ],
      "execution_count": 2,
      "outputs": []
    },
    {
      "cell_type": "code",
      "metadata": {
        "id": "q7W9WLGHMn-1"
      },
      "source": [
        "class Pastrami:\n",
        "\n",
        "    def __init__(self, bread: str = \"rye\"):\n",
        "\n",
        "        self.bread: str = bread\n",
        "        self.condiments: tuple = tuple()\n",
        "        self.veggies: tuple = tuple()\n",
        "\n",
        "    def add_condiments(self, conds: tuple) -> None:\n",
        "        \"\"\"\n",
        "        setter for self.condiments\n",
        "        :param conds: tuple condiments to spread on sandwich\n",
        "        :return:\n",
        "        \"\"\"\n",
        "\n",
        "        setattr(self, \"condiments\", conds)\n",
        "\n",
        "        return None\n",
        "\n",
        "    def add_veggies(self, veggies: tuple):\n",
        "        \"\"\"\n",
        "        setter for self.veggies\n",
        "        :param veggies: tuple of veggies\n",
        "        :return:\n",
        "        \"\"\"\n",
        "        setattr(self, \"veggies\", veggies)\n",
        "\n",
        "        return None\n",
        "\n",
        "\n",
        "class PastramiMaker:\n",
        "\n",
        "    def __init__(self):\n",
        "\n",
        "        self.p: Pastrami = None\n",
        "\n",
        "    def __order_up__(self, bread: str = \"rye\"):\n",
        "        \"\"\"\n",
        "        create order for new pastrami sandwich\n",
        "        setter for self.p\n",
        "        :param bread: str bread for sandwich\n",
        "        :return: none\n",
        "        \"\"\"\n",
        "\n",
        "        setattr(self, \"p\", Pastrami(bread=bread))\n",
        "\n",
        "        return None\n",
        "\n",
        "    @property\n",
        "    def __str__(self):\n",
        "        cond_string = \", \".join(self.p.condiments)\n",
        "        veggie_string = \", \".join(self.p.veggies)\n",
        "\n",
        "        return f\"Got a hot pastrami here with {cond_string} and {veggie_string} on {str(self.p.bread)}\"\n",
        "\n",
        "    def make_sandwich(self, user_choices: dict):\n",
        "        \"\"\"\n",
        "        make the pastrami sandwich order\n",
        "        :param user_choices: dictionary user choices\n",
        "        :return: None\n",
        "        \"\"\"\n",
        "\n",
        "        self.p.add_condiments(user_choices['conds'])\n",
        "        self.p.add_veggies(user_choices['veggies'])\n",
        "\n",
        "        return None"
      ],
      "execution_count": 3,
      "outputs": []
    },
    {
      "cell_type": "code",
      "metadata": {
        "id": "R32AgKEXMrW7"
      },
      "source": [
        "from typing import Tuple, Dict, Optional\n",
        "\n",
        "\n",
        "class Pastrami:\n",
        "\n",
        "    def __init__(self, bread: str = \"rye\"):\n",
        "        self.bread: str = bread\n",
        "        self.condiments: Tuple[str, str, str, str] = tuple()\n",
        "        self.veggies: Tuple[str, str, str] = tuple()\n",
        "\n",
        "    def add_condiments(self, conds: Tuple[str, str, str, str]) -> None:\n",
        "        setattr(self, \"condiments\", conds)\n",
        "        return None\n",
        "\n",
        "    def add_veggies(self, veggies: Tuple[str, str, str]) -> None:\n",
        "        setattr(self, \"veggies\", veggies)\n",
        "\n",
        "        return None\n",
        "\n",
        "\n",
        "class PastramiMaker:\n",
        "\n",
        "    def __init__(self):\n",
        "        self.p: Optional[Pastrami] = None\n",
        "\n",
        "    @property\n",
        "    def __str__(self):\n",
        "        cond_string = \", \".join(self.p.condiments)\n",
        "        veggie_string = \", \".join(self.p.veggies)\n",
        "\n",
        "        return f\"Got a hot pastrami here with {cond_string} and {veggie_string} on {str(self.p.bread)}\"\n",
        "\n",
        "    def make_sandwich(self, user_choices: Dict[str: Tuple[str, ..., str]]) -> None:\n",
        "        \"\"\"\n",
        "        make the pastrami sandwich order\n",
        "        :param user_choices:\n",
        "        :return: None\n",
        "        \"\"\"\n",
        "\n",
        "        self.p.add_condiments(user_choices['conds'])\n",
        "        self.p.add_veggies(user_choices['veggies'])\n",
        "\n",
        "        return None"
      ],
      "execution_count": 5,
      "outputs": []
    }
  ]
}