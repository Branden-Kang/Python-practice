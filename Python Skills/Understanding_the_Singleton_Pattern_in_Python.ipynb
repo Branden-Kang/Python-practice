{
  "nbformat": 4,
  "nbformat_minor": 0,
  "metadata": {
    "colab": {
      "name": "Understanding the Singleton Pattern in Python.ipynb",
      "provenance": [],
      "authorship_tag": "ABX9TyM+CnzdEDIumzAn+y3DT0ex"
    },
    "kernelspec": {
      "name": "python3",
      "display_name": "Python 3"
    }
  },
  "cells": [
    {
      "cell_type": "markdown",
      "metadata": {
        "id": "fhh-ZrQv1CKX"
      },
      "source": [
        "[Reference](https://medium.com/techtofreedom/3-levels-of-understanding-the-singleton-pattern-in-python-4bf429a10438)"
      ]
    },
    {
      "cell_type": "code",
      "metadata": {
        "colab": {
          "base_uri": "https://localhost:8080/"
        },
        "id": "gTRFwh8g0sif",
        "outputId": "15d1356d-8ccb-428f-be23-37a9b6db52b0"
      },
      "source": [
        "class Singleton_Genius(object):\n",
        "    __instance = None\n",
        "\n",
        "    def __new__(cls, *args, **kwargs):\n",
        "        if not Singleton_Genius.__instance:\n",
        "            Singleton_Genius.__instance = object.__new__(cls)\n",
        "        return Singleton_Genius.__instance\n",
        "\n",
        "    def __init__(self, first_name, last_name):\n",
        "        self.first_name = first_name\n",
        "        self.last_name = last_name\n",
        "\n",
        "s1 = Singleton_Genius(\"Yang\", \"Zhou\")\n",
        "s2 = Singleton_Genius(\"Elon\", \"Musk\")\n",
        "\n",
        "print(s1)\n",
        "# <__main__.Singleton_Genius object at 0x7fec946b1760>\n",
        "print(s2)\n",
        "# <__main__.Singleton_Genius object at 0x7fec946b1760>\n",
        "print(s1 == s2)\n",
        "# True\n",
        "print(s1.last_name)\n",
        "# Musk\n",
        "print(s2.last_name)"
      ],
      "execution_count": 1,
      "outputs": [
        {
          "output_type": "stream",
          "text": [
            "<__main__.Singleton_Genius object at 0x7ff24ff3a290>\n",
            "<__main__.Singleton_Genius object at 0x7ff24ff3a290>\n",
            "True\n",
            "Musk\n",
            "Musk\n"
          ],
          "name": "stdout"
        }
      ]
    }
  ]
}