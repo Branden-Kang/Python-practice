{
  "nbformat": 4,
  "nbformat_minor": 0,
  "metadata": {
    "colab": {
      "provenance": [],
      "authorship_tag": "ABX9TyOM9BFO12IHUz7Hrq8VrrN1"
    },
    "kernelspec": {
      "name": "python3",
      "display_name": "Python 3"
    },
    "language_info": {
      "name": "python"
    }
  },
  "cells": [
    {
      "cell_type": "markdown",
      "source": [
        "[Reference](https://medium.com/techtofreedom/9-python-built-in-decorators-that-optimize-your-code-significantly-bc3f661e9017)"
      ],
      "metadata": {
        "id": "43YoUa4n7zNW"
      }
    },
    {
      "cell_type": "markdown",
      "source": [
        "# 1. @lru_cache: Speed Up Your Programs by Caching"
      ],
      "metadata": {
        "id": "qnXbjTze73_I"
      }
    },
    {
      "cell_type": "code",
      "execution_count": 1,
      "metadata": {
        "colab": {
          "base_uri": "https://localhost:8080/"
        },
        "id": "Qh6EB3NZ7xor",
        "outputId": "c42e1754-7cac-4327-bae9-ba1a55fb650d"
      },
      "outputs": [
        {
          "output_type": "stream",
          "name": "stdout",
          "text": [
            "832040\n",
            "The execution time: 0.80300931 seconds\n"
          ]
        }
      ],
      "source": [
        "import time\n",
        "\n",
        "\n",
        "def fibonacci(n):\n",
        "    if n < 2:\n",
        "        return n\n",
        "    return fibonacci(n - 1) + fibonacci(n - 2)\n",
        "\n",
        "\n",
        "start_time = time.perf_counter()\n",
        "print(fibonacci(30))\n",
        "end_time = time.perf_counter()\n",
        "print(f\"The execution time: {end_time - start_time:.8f} seconds\")"
      ]
    },
    {
      "cell_type": "code",
      "source": [
        "from functools import lru_cache\n",
        "import time\n",
        "\n",
        "\n",
        "@lru_cache(maxsize=None)\n",
        "def fibonacci(n):\n",
        "    if n < 2:\n",
        "        return n\n",
        "    return fibonacci(n - 1) + fibonacci(n - 2)\n",
        "\n",
        "\n",
        "start_time = time.perf_counter()\n",
        "print(fibonacci(30))\n",
        "end_time = time.perf_counter()\n",
        "print(f\"The execution time: {end_time - start_time:.8f} seconds\")"
      ],
      "metadata": {
        "colab": {
          "base_uri": "https://localhost:8080/"
        },
        "id": "8LotfYTi75oL",
        "outputId": "fffe32c8-4796-4707-b819-671d9babdf2e"
      },
      "execution_count": 2,
      "outputs": [
        {
          "output_type": "stream",
          "name": "stdout",
          "text": [
            "832040\n",
            "The execution time: 0.00051736 seconds\n"
          ]
        }
      ]
    },
    {
      "cell_type": "markdown",
      "source": [
        "# 2. @total_ordering: A Class Decorator That Fills In Missing Ordering Methods"
      ],
      "metadata": {
        "id": "lrur4bOw77iM"
      }
    },
    {
      "cell_type": "code",
      "source": [
        "from functools import total_ordering\n",
        "\n",
        "\n",
        "@total_ordering\n",
        "class Student:\n",
        "    def __init__(self, name, grade):\n",
        "        self.name = name\n",
        "        self.grade = grade\n",
        "\n",
        "    def __eq__(self, other):\n",
        "        return self.grade == other.grade\n",
        "\n",
        "    def __lt__(self, other):\n",
        "        return self.grade < other.grade\n",
        "\n",
        "\n",
        "student1 = Student(\"Alice\", 85)\n",
        "student2 = Student(\"Bob\", 75)\n",
        "student3 = Student(\"Charlie\", 85)\n",
        "\n",
        "print(student1 < student2)  # False\n",
        "print(student1 > student2)  # True\n",
        "print(student1 == student3)  # True\n",
        "print(student1 <= student3) # True\n",
        "print(student3 >= student2) # True"
      ],
      "metadata": {
        "colab": {
          "base_uri": "https://localhost:8080/"
        },
        "id": "2xcoWak076td",
        "outputId": "f74a6db4-43c2-4ce6-ad55-08832bc7b822"
      },
      "execution_count": 3,
      "outputs": [
        {
          "output_type": "stream",
          "name": "stdout",
          "text": [
            "False\n",
            "True\n",
            "True\n",
            "True\n",
            "True\n"
          ]
        }
      ]
    },
    {
      "cell_type": "markdown",
      "source": [
        "# 3. @contextmanager: Make a Customized Context Manager"
      ],
      "metadata": {
        "id": "CoxbVq1i7-Wm"
      }
    },
    {
      "cell_type": "code",
      "source": [
        "with open(\"test.txt\",'w') as f:\n",
        "    f.write(\"Branden is writing!\")"
      ],
      "metadata": {
        "id": "wQ9HFvqA79Bv"
      },
      "execution_count": 5,
      "outputs": []
    },
    {
      "cell_type": "code",
      "source": [
        "from contextlib import contextmanager\n",
        "\n",
        "@contextmanager\n",
        "def file_manager(filename, mode):\n",
        "    print(\"The file is opening...\")\n",
        "    file = open(filename,mode)\n",
        "    yield file\n",
        "    print(\"The file is closing...\")\n",
        "    file.close()\n",
        "\n",
        "with file_manager('test.txt', 'w') as f:\n",
        "    f.write('Branden is writing!')\n",
        "# The file is opening...\n",
        "# The file is closing..."
      ],
      "metadata": {
        "colab": {
          "base_uri": "https://localhost:8080/"
        },
        "id": "bReqNM8q7_kR",
        "outputId": "1ab28c72-9616-4d52-b715-7fed25763e3b"
      },
      "execution_count": 6,
      "outputs": [
        {
          "output_type": "stream",
          "name": "stdout",
          "text": [
            "The file is opening...\n",
            "The file is closing...\n"
          ]
        }
      ]
    },
    {
      "cell_type": "markdown",
      "source": [
        "# 4. @property: Setting Up Getters and Setters for Python Classes"
      ],
      "metadata": {
        "id": "Diz6CY4_8EW1"
      }
    },
    {
      "cell_type": "code",
      "source": [
        "class Student:\n",
        "    def __init__(self):\n",
        "        self._score = 0\n",
        "\n",
        "    @property\n",
        "    def score(self):\n",
        "        return self._score\n",
        "\n",
        "    @score.setter\n",
        "    def score(self, s):\n",
        "        if 0 <= s <= 100:\n",
        "            self._score = s\n",
        "        else:\n",
        "            raise ValueError('The score must be between 0 ~ 100!')\n",
        "\n",
        "Yang = Student()\n",
        "\n",
        "Yang.score=99\n",
        "print(Yang.score)\n",
        "# 99\n",
        "\n",
        "Yang.score = 999"
      ],
      "metadata": {
        "colab": {
          "base_uri": "https://localhost:8080/",
          "height": 334
        },
        "id": "WSV-vNoB8Dg7",
        "outputId": "08a889f1-6c2f-4c8a-a4aa-1ca5b77b5472"
      },
      "execution_count": 7,
      "outputs": [
        {
          "output_type": "stream",
          "name": "stdout",
          "text": [
            "99\n"
          ]
        },
        {
          "output_type": "error",
          "ename": "ValueError",
          "evalue": "ignored",
          "traceback": [
            "\u001b[0;31m---------------------------------------------------------------------------\u001b[0m",
            "\u001b[0;31mValueError\u001b[0m                                Traceback (most recent call last)",
            "\u001b[0;32m<ipython-input-7-36d29f6059d5>\u001b[0m in \u001b[0;36m<module>\u001b[0;34m\u001b[0m\n\u001b[1;32m     20\u001b[0m \u001b[0;31m# 99\u001b[0m\u001b[0;34m\u001b[0m\u001b[0;34m\u001b[0m\u001b[0;34m\u001b[0m\u001b[0m\n\u001b[1;32m     21\u001b[0m \u001b[0;34m\u001b[0m\u001b[0m\n\u001b[0;32m---> 22\u001b[0;31m \u001b[0mYang\u001b[0m\u001b[0;34m.\u001b[0m\u001b[0mscore\u001b[0m \u001b[0;34m=\u001b[0m \u001b[0;36m999\u001b[0m\u001b[0;34m\u001b[0m\u001b[0;34m\u001b[0m\u001b[0m\n\u001b[0m",
            "\u001b[0;32m<ipython-input-7-36d29f6059d5>\u001b[0m in \u001b[0;36mscore\u001b[0;34m(self, s)\u001b[0m\n\u001b[1;32m     12\u001b[0m             \u001b[0mself\u001b[0m\u001b[0;34m.\u001b[0m\u001b[0m_score\u001b[0m \u001b[0;34m=\u001b[0m \u001b[0ms\u001b[0m\u001b[0;34m\u001b[0m\u001b[0;34m\u001b[0m\u001b[0m\n\u001b[1;32m     13\u001b[0m         \u001b[0;32melse\u001b[0m\u001b[0;34m:\u001b[0m\u001b[0;34m\u001b[0m\u001b[0;34m\u001b[0m\u001b[0m\n\u001b[0;32m---> 14\u001b[0;31m             \u001b[0;32mraise\u001b[0m \u001b[0mValueError\u001b[0m\u001b[0;34m(\u001b[0m\u001b[0;34m'The score must be between 0 ~ 100!'\u001b[0m\u001b[0;34m)\u001b[0m\u001b[0;34m\u001b[0m\u001b[0;34m\u001b[0m\u001b[0m\n\u001b[0m\u001b[1;32m     15\u001b[0m \u001b[0;34m\u001b[0m\u001b[0m\n\u001b[1;32m     16\u001b[0m \u001b[0mYang\u001b[0m \u001b[0;34m=\u001b[0m \u001b[0mStudent\u001b[0m\u001b[0;34m(\u001b[0m\u001b[0;34m)\u001b[0m\u001b[0;34m\u001b[0m\u001b[0;34m\u001b[0m\u001b[0m\n",
            "\u001b[0;31mValueError\u001b[0m: The score must be between 0 ~ 100!"
          ]
        }
      ]
    },
    {
      "cell_type": "markdown",
      "source": [
        "# 5. @cached_property: Cache the Result of a Method as an Attribute"
      ],
      "metadata": {
        "id": "tiQZZup28G14"
      }
    },
    {
      "cell_type": "code",
      "source": [
        "from functools import cached_property\n",
        "\n",
        "\n",
        "class Circle:\n",
        "    def __init__(self, radius):\n",
        "        self.radius = radius\n",
        "\n",
        "    @cached_property\n",
        "    def area(self):\n",
        "        return 3.14 * self.radius ** 2\n",
        "\n",
        "\n",
        "circle = Circle(10)\n",
        "print(circle.area)\n",
        "print(circle.area)"
      ],
      "metadata": {
        "colab": {
          "base_uri": "https://localhost:8080/"
        },
        "id": "mMSpzMlk8F2m",
        "outputId": "924996b7-b97b-4b8f-a07b-9db5b2c807b5"
      },
      "execution_count": 8,
      "outputs": [
        {
          "output_type": "stream",
          "name": "stdout",
          "text": [
            "314.0\n",
            "314.0\n"
          ]
        }
      ]
    },
    {
      "cell_type": "markdown",
      "source": [
        "# 6. @classmethod: Define Class Methods in a Python Class"
      ],
      "metadata": {
        "id": "J7dmepBV8JP2"
      }
    },
    {
      "cell_type": "code",
      "source": [
        "class Circle:\n",
        "    def __init__(self, radius):\n",
        "        self.radius = radius\n",
        "\n",
        "    @classmethod\n",
        "    def from_diameter(cls, diameter):\n",
        "        return cls(diameter / 2)\n",
        "\n",
        "    @property\n",
        "    def diameter(self):\n",
        "        return self.radius * 2\n",
        "\n",
        "    @diameter.setter\n",
        "    def diameter(self, diameter):\n",
        "        self.radius = diameter / 2\n",
        "\n",
        "\n",
        "c = Circle.from_diameter(8)\n",
        "print(c.radius)  # 4.0\n",
        "print(c.diameter)  # 8.0"
      ],
      "metadata": {
        "colab": {
          "base_uri": "https://localhost:8080/"
        },
        "id": "EcPtAgAo8Ib4",
        "outputId": "2316da7d-0a2f-4e62-a5d7-ca8f4da2cf92"
      },
      "execution_count": 9,
      "outputs": [
        {
          "output_type": "stream",
          "name": "stdout",
          "text": [
            "4.0\n",
            "8.0\n"
          ]
        }
      ]
    },
    {
      "cell_type": "markdown",
      "source": [
        "# 7. @staticmethod: Define Static Methods in a Python Class"
      ],
      "metadata": {
        "id": "5AUMnbE08Lmi"
      }
    },
    {
      "cell_type": "code",
      "source": [
        "class Student:\n",
        "    def __init__(self, first_name, last_name):\n",
        "        self.first_name = first_name\n",
        "        self.last_name = last_name\n",
        "        self.nickname = None\n",
        "\n",
        "    def set_nickname(self, name):\n",
        "        self.nickname = name\n",
        "\n",
        "    @staticmethod\n",
        "    def suitable_age(age):\n",
        "        return 6 <= age <= 70\n",
        "\n",
        "\n",
        "print(Student.suitable_age(99)) # False\n",
        "print(Student.suitable_age(27)) # True\n",
        "print(Student('yang', 'zhou').suitable_age(27)) # True"
      ],
      "metadata": {
        "colab": {
          "base_uri": "https://localhost:8080/"
        },
        "id": "ZA6axnAD8K7U",
        "outputId": "c86177cb-c07a-4890-dfb4-bb084e9f38f2"
      },
      "execution_count": 10,
      "outputs": [
        {
          "output_type": "stream",
          "name": "stdout",
          "text": [
            "False\n",
            "True\n",
            "True\n"
          ]
        }
      ]
    },
    {
      "cell_type": "markdown",
      "source": [
        "# 8. @dataclass: Define Special Classes With Less Code"
      ],
      "metadata": {
        "id": "82o1Yi9I8Nek"
      }
    },
    {
      "cell_type": "code",
      "source": [
        "from dataclasses import dataclass\n",
        "\n",
        "@dataclass\n",
        "class Point:\n",
        "    x: float\n",
        "    y: float\n",
        "\n",
        "point = Point(1.0, 2.0)\n",
        "print(point)"
      ],
      "metadata": {
        "colab": {
          "base_uri": "https://localhost:8080/"
        },
        "id": "wNF6YVcx8Mpk",
        "outputId": "742d9589-c9b0-4cbc-872b-f83df445f5aa"
      },
      "execution_count": 11,
      "outputs": [
        {
          "output_type": "stream",
          "name": "stdout",
          "text": [
            "Point(x=1.0, y=2.0)\n"
          ]
        }
      ]
    },
    {
      "cell_type": "markdown",
      "source": [
        "# 9. @atexit.register: Register a Function To Be Executed Upon Normal Program Termination"
      ],
      "metadata": {
        "id": "9dcYCtHq8PWc"
      }
    },
    {
      "cell_type": "code",
      "source": [
        "import atexit\n",
        "\n",
        "@atexit.register\n",
        "def goodbye():\n",
        "    print(\"Bye bye!\")\n",
        "\n",
        "print(\"Hello Branden!\")"
      ],
      "metadata": {
        "colab": {
          "base_uri": "https://localhost:8080/"
        },
        "id": "P7sgzmIS8Oeg",
        "outputId": "e461344d-8418-4489-b749-e30ead5dda6b"
      },
      "execution_count": 12,
      "outputs": [
        {
          "output_type": "stream",
          "name": "stdout",
          "text": [
            "Hello Branden!\n"
          ]
        }
      ]
    }
  ]
}
