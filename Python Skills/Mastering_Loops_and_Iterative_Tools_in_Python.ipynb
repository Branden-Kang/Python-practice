{
  "nbformat": 4,
  "nbformat_minor": 0,
  "metadata": {
    "colab": {
      "provenance": [],
      "authorship_tag": "ABX9TyMPjStgVMjzW1yx/OP/jfHt"
    },
    "kernelspec": {
      "name": "python3",
      "display_name": "Python 3"
    },
    "language_info": {
      "name": "python"
    }
  },
  "cells": [
    {
      "cell_type": "markdown",
      "source": [
        "[Reference](https://medium.com/@ccpythonprogramming/mastering-loops-and-iterative-tools-in-python-8d379119d04e)"
      ],
      "metadata": {
        "id": "GUwqqKnH5mJ4"
      }
    },
    {
      "cell_type": "markdown",
      "source": [
        "# Types of Loops in Python"
      ],
      "metadata": {
        "id": "y1H_roRs530J"
      }
    },
    {
      "cell_type": "markdown",
      "source": [
        "## 1. For Loops"
      ],
      "metadata": {
        "id": "UR7uWV6o5o74"
      }
    },
    {
      "cell_type": "code",
      "execution_count": 1,
      "metadata": {
        "colab": {
          "base_uri": "https://localhost:8080/"
        },
        "id": "9xiikuCE5kV4",
        "outputId": "e39d1784-c8e0-47fb-ac30-6f7ec018a837"
      },
      "outputs": [
        {
          "output_type": "stream",
          "name": "stdout",
          "text": [
            "I love apple\n",
            "I love banana\n",
            "I love cherry\n"
          ]
        }
      ],
      "source": [
        "# loops_demo.py\n",
        "\n",
        "# List iteration\n",
        "fruits = [\"apple\", \"banana\", \"cherry\"]\n",
        "for fruit in fruits:\n",
        "    print(f\"I love {fruit}\")"
      ]
    },
    {
      "cell_type": "markdown",
      "source": [
        "## 2. While Loops"
      ],
      "metadata": {
        "id": "XMObMNu_5sK-"
      }
    },
    {
      "cell_type": "code",
      "source": [
        "# loops_demo.py\n",
        "\n",
        "# Counting with a while loop\n",
        "count = 1\n",
        "while count <= 10:\n",
        "    print(f\"Current count: {count}\")\n",
        "    count += 1"
      ],
      "metadata": {
        "colab": {
          "base_uri": "https://localhost:8080/"
        },
        "id": "iakclTU25qZu",
        "outputId": "f119b8d8-ab76-48fb-c2e9-80140efa6498"
      },
      "execution_count": 2,
      "outputs": [
        {
          "output_type": "stream",
          "name": "stdout",
          "text": [
            "Current count: 1\n",
            "Current count: 2\n",
            "Current count: 3\n",
            "Current count: 4\n",
            "Current count: 5\n",
            "Current count: 6\n",
            "Current count: 7\n",
            "Current count: 8\n",
            "Current count: 9\n",
            "Current count: 10\n"
          ]
        }
      ]
    },
    {
      "cell_type": "markdown",
      "source": [
        "## 3. Infinite Loops"
      ],
      "metadata": {
        "id": "V2dI7TKQ5vA9"
      }
    },
    {
      "cell_type": "code",
      "source": [
        "# loops_demo.py\n",
        "\n",
        "# Infinite loop with user input\n",
        "while True:\n",
        "    user_input = input(\"Enter 'stop' to end: \").strip().lower()\n",
        "    if user_input == \"stop\":\n",
        "        print(\"Loop ended.\")\n",
        "        break\n",
        "    print(f\"You entered: {user_input}\")"
      ],
      "metadata": {
        "colab": {
          "base_uri": "https://localhost:8080/"
        },
        "id": "J9oIxz9d5toP",
        "outputId": "b9eaaca1-cb7d-44bc-aec7-f5d8ceb22425"
      },
      "execution_count": 3,
      "outputs": [
        {
          "output_type": "stream",
          "name": "stdout",
          "text": [
            "Enter 'stop' to end: stop\n",
            "Loop ended.\n"
          ]
        }
      ]
    },
    {
      "cell_type": "markdown",
      "source": [
        "# Enhancing Loops with Control Statements"
      ],
      "metadata": {
        "id": "cPDyCyg657Vj"
      }
    },
    {
      "cell_type": "markdown",
      "source": [
        "## 1. Break"
      ],
      "metadata": {
        "id": "oJXlDjUl58os"
      }
    },
    {
      "cell_type": "code",
      "source": [
        "# loops_demo.py\n",
        "\n",
        "# Exit on specific condition\n",
        "for number in range(10):\n",
        "    if number == 5:\n",
        "        print(\"Breaking loop at 5\")\n",
        "        break\n",
        "    print(number)"
      ],
      "metadata": {
        "colab": {
          "base_uri": "https://localhost:8080/"
        },
        "id": "nMDgGQRP5w6_",
        "outputId": "e8ea8f46-3d4b-439d-9e3d-98006a3d2638"
      },
      "execution_count": 5,
      "outputs": [
        {
          "output_type": "stream",
          "name": "stdout",
          "text": [
            "0\n",
            "1\n",
            "2\n",
            "3\n",
            "4\n",
            "Breaking loop at 5\n"
          ]
        }
      ]
    },
    {
      "cell_type": "markdown",
      "source": [
        "## 2. Continue"
      ],
      "metadata": {
        "id": "JFBKpjWO6H7i"
      }
    },
    {
      "cell_type": "code",
      "source": [
        "# loops_demo.py\n",
        "\n",
        "# Skipping odd numbers\n",
        "for number in range(1, 11):\n",
        "    if number % 2 != 0:\n",
        "        continue\n",
        "    print(f\"Even number: {number}\")"
      ],
      "metadata": {
        "colab": {
          "base_uri": "https://localhost:8080/"
        },
        "id": "wWsIwPKx6Btd",
        "outputId": "7e51daff-7b2b-4301-b924-598b48af18f5"
      },
      "execution_count": 6,
      "outputs": [
        {
          "output_type": "stream",
          "name": "stdout",
          "text": [
            "Even number: 2\n",
            "Even number: 4\n",
            "Even number: 6\n",
            "Even number: 8\n",
            "Even number: 10\n"
          ]
        }
      ]
    },
    {
      "cell_type": "markdown",
      "source": [
        "## 3. Else with Loops"
      ],
      "metadata": {
        "id": "yTGJrNtW6Kst"
      }
    },
    {
      "cell_type": "code",
      "source": [
        "# loops_demo.py\n",
        "\n",
        "# Checking loop completion\n",
        "for number in range(5):\n",
        "    if number == 6:\n",
        "        break\n",
        "else:\n",
        "    print(\"Loop completed without break\")"
      ],
      "metadata": {
        "colab": {
          "base_uri": "https://localhost:8080/"
        },
        "id": "pUZtLxJN6Jbv",
        "outputId": "5bf6c6f5-aefa-48a6-efbf-755ea191d0fb"
      },
      "execution_count": 7,
      "outputs": [
        {
          "output_type": "stream",
          "name": "stdout",
          "text": [
            "Loop completed without break\n"
          ]
        }
      ]
    },
    {
      "cell_type": "markdown",
      "source": [
        "# Additional works"
      ],
      "metadata": {
        "id": "ULVbGNLF6QpK"
      }
    },
    {
      "cell_type": "markdown",
      "source": [
        "## 1. List Comprehensions"
      ],
      "metadata": {
        "id": "ymTuqXNR6TDj"
      }
    },
    {
      "cell_type": "code",
      "source": [
        "# loops_demo.py\n",
        "# Generate a list of squares\n",
        "squares = [x ** 2 for x in range(10)]\n",
        "print(squares)"
      ],
      "metadata": {
        "colab": {
          "base_uri": "https://localhost:8080/"
        },
        "id": "5MP2k6Io6Mj4",
        "outputId": "552a9b85-2ce6-4a0c-fb59-3f736e8307ab"
      },
      "execution_count": 8,
      "outputs": [
        {
          "output_type": "stream",
          "name": "stdout",
          "text": [
            "[0, 1, 4, 9, 16, 25, 36, 49, 64, 81]\n"
          ]
        }
      ]
    },
    {
      "cell_type": "markdown",
      "source": [
        "## 2. Generator Expressions"
      ],
      "metadata": {
        "id": "0nmQcQUH6VeM"
      }
    },
    {
      "cell_type": "code",
      "source": [
        "# loops_demo.py\n",
        "# Calculate sum of squares using a generator\n",
        "sum_of_squares = sum(x ** 2 for x in range(10))\n",
        "print(sum_of_squares)"
      ],
      "metadata": {
        "colab": {
          "base_uri": "https://localhost:8080/"
        },
        "id": "9_izHXtC6Umj",
        "outputId": "a4356153-2889-482b-f93c-ac190973215e"
      },
      "execution_count": 9,
      "outputs": [
        {
          "output_type": "stream",
          "name": "stdout",
          "text": [
            "285\n"
          ]
        }
      ]
    },
    {
      "cell_type": "markdown",
      "source": [
        "## 3. The map() Function"
      ],
      "metadata": {
        "id": "lTFUnoGW6bAd"
      }
    },
    {
      "cell_type": "code",
      "source": [
        "# loops_demo.py\n",
        "# Convert a list of strings to uppercase\n",
        "names = [\"alice\", \"bob\", \"charlie\"]\n",
        "uppercase_names = map(str.upper, names)\n",
        "print(list(uppercase_names))"
      ],
      "metadata": {
        "colab": {
          "base_uri": "https://localhost:8080/"
        },
        "id": "4RrXwoH66W3T",
        "outputId": "0073ed24-5df5-4ccb-cbad-a6077f7d83ae"
      },
      "execution_count": 10,
      "outputs": [
        {
          "output_type": "stream",
          "name": "stdout",
          "text": [
            "['ALICE', 'BOB', 'CHARLIE']\n"
          ]
        }
      ]
    },
    {
      "cell_type": "markdown",
      "source": [
        "## 4. The filter() Function"
      ],
      "metadata": {
        "id": "HIgTPavQ6d9q"
      }
    },
    {
      "cell_type": "code",
      "source": [
        "# loops_demo.py\n",
        "# Filter out odd numbers\n",
        "numbers = range(10)\n",
        "even_numbers = filter(lambda x: x % 2 == 0, numbers)\n",
        "print(list(even_numbers))"
      ],
      "metadata": {
        "colab": {
          "base_uri": "https://localhost:8080/"
        },
        "id": "WD3g9te16c04",
        "outputId": "3ea17dc3-296d-47fd-ba8a-84056b7d60e4"
      },
      "execution_count": 11,
      "outputs": [
        {
          "output_type": "stream",
          "name": "stdout",
          "text": [
            "[0, 2, 4, 6, 8]\n"
          ]
        }
      ]
    },
    {
      "cell_type": "markdown",
      "source": [
        "## 5. The reduce() Function"
      ],
      "metadata": {
        "id": "TW2afEfg6grY"
      }
    },
    {
      "cell_type": "code",
      "source": [
        "# loops_demo.py\n",
        "from functools import reduce\n",
        "\n",
        "# Multiply all numbers in a list\n",
        "numbers = [1, 2, 3, 4]\n",
        "product = reduce(lambda x, y: x * y, numbers)\n",
        "print(product)"
      ],
      "metadata": {
        "colab": {
          "base_uri": "https://localhost:8080/"
        },
        "id": "nQS1jcNH6fez",
        "outputId": "67df6e12-bbae-4ccc-c559-8a2695a3c400"
      },
      "execution_count": 12,
      "outputs": [
        {
          "output_type": "stream",
          "name": "stdout",
          "text": [
            "24\n"
          ]
        }
      ]
    },
    {
      "cell_type": "markdown",
      "source": [
        "## 6. The itertools Module"
      ],
      "metadata": {
        "id": "d5I7a2H26jZz"
      }
    },
    {
      "cell_type": "code",
      "source": [
        "# loops_demo.py\n",
        "from itertools import permutations\n",
        "\n",
        "# Generate all permutations of a list\n",
        "items = [1, 2, 3]\n",
        "all_permutations = list(permutations(items))\n",
        "print(all_permutations)"
      ],
      "metadata": {
        "colab": {
          "base_uri": "https://localhost:8080/"
        },
        "id": "ZdcIYGFW6iCk",
        "outputId": "2df359dc-3099-41ed-9e5a-9091cb5f24c8"
      },
      "execution_count": 13,
      "outputs": [
        {
          "output_type": "stream",
          "name": "stdout",
          "text": [
            "[(1, 2, 3), (1, 3, 2), (2, 1, 3), (2, 3, 1), (3, 1, 2), (3, 2, 1)]\n"
          ]
        }
      ]
    },
    {
      "cell_type": "markdown",
      "source": [
        "## 7. Set and Dictionary Comprehensions"
      ],
      "metadata": {
        "id": "puK-T_Hj6r8B"
      }
    },
    {
      "cell_type": "code",
      "source": [
        "# loops_demo.py\n",
        "# Generate a dictionary with numbers as keys and their squares as values\n",
        "squares_dict = {x: x ** 2 for x in range(5)}\n",
        "print(squares_dict)"
      ],
      "metadata": {
        "colab": {
          "base_uri": "https://localhost:8080/"
        },
        "id": "0bo2Tytz6kvc",
        "outputId": "6bcf6819-cc4f-4247-81bd-72ec86498982"
      },
      "execution_count": 14,
      "outputs": [
        {
          "output_type": "stream",
          "name": "stdout",
          "text": [
            "{0: 0, 1: 1, 2: 4, 3: 9, 4: 16}\n"
          ]
        }
      ]
    },
    {
      "cell_type": "markdown",
      "source": [
        "## 8. Recursive Functions"
      ],
      "metadata": {
        "id": "-7aCWl8h6un5"
      }
    },
    {
      "cell_type": "code",
      "source": [
        "# loops_demo.py\n",
        "# Recursive function to calculate factorial\n",
        "def factorial(n):\n",
        "    if n == 0:\n",
        "        return 1\n",
        "    return n * factorial(n - 1)\n",
        "\n",
        "print(factorial(5))  # Output: 120"
      ],
      "metadata": {
        "colab": {
          "base_uri": "https://localhost:8080/"
        },
        "id": "Uu_FsYVH6tTF",
        "outputId": "bf35d3cf-0f4f-44b5-acdb-6d23459430d2"
      },
      "execution_count": 15,
      "outputs": [
        {
          "output_type": "stream",
          "name": "stdout",
          "text": [
            "120\n"
          ]
        }
      ]
    },
    {
      "cell_type": "markdown",
      "source": [
        "## 9. Built-in Functions"
      ],
      "metadata": {
        "id": "VFfZj5a5625b"
      }
    },
    {
      "cell_type": "code",
      "source": [
        "# loops_demo.py\n",
        "numbers = [1, 2, 3, 4, 5]\n",
        "total = sum(numbers)\n",
        "print(total)"
      ],
      "metadata": {
        "colab": {
          "base_uri": "https://localhost:8080/"
        },
        "id": "oZlWUkT46wmF",
        "outputId": "0160ebc5-5cc7-4673-e29d-fa0be879c6ba"
      },
      "execution_count": 16,
      "outputs": [
        {
          "output_type": "stream",
          "name": "stdout",
          "text": [
            "15\n"
          ]
        }
      ]
    },
    {
      "cell_type": "markdown",
      "source": [
        "## 10. Asyncio for Concurrent Tasks"
      ],
      "metadata": {
        "id": "5gEsp5p-66Ve"
      }
    },
    {
      "cell_type": "code",
      "source": [
        "# loops_demo.py\n",
        "import asyncio\n",
        "\n",
        "async def say_hello(name):\n",
        "    await asyncio.sleep(1)\n",
        "    print(f\"Hello, {name}\")\n",
        "\n",
        "# Run tasks concurrently\n",
        "async def main():\n",
        "    await asyncio.gather(say_hello(\"Alice\"), say_hello(\"Bob\"))\n",
        "\n",
        "asyncio.run(main())"
      ],
      "metadata": {
        "id": "ngOwiEti65Ny"
      },
      "execution_count": 18,
      "outputs": []
    }
  ]
}
