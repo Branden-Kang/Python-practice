{
  "nbformat": 4,
  "nbformat_minor": 0,
  "metadata": {
    "colab": {
      "provenance": [],
      "authorship_tag": "ABX9TyNBO5vfkJQuiLH/powTTXkU"
    },
    "kernelspec": {
      "name": "python3",
      "display_name": "Python 3"
    },
    "language_info": {
      "name": "python"
    }
  },
  "cells": [
    {
      "cell_type": "markdown",
      "source": [
        "[Reference](https://mayureshkedari.medium.com/the-most-common-python-developer-mistakes-and-how-to-avoid-them-6e338f8fe500)"
      ],
      "metadata": {
        "id": "queN3QJ-e7rT"
      }
    },
    {
      "cell_type": "markdown",
      "source": [
        "# 1. Indentation:\n"
      ],
      "metadata": {
        "id": "4c2CKSXwfBeH"
      }
    },
    {
      "cell_type": "markdown",
      "source": [
        "Mixing the tabs and spaces. <br>\n",
        "-> Stick with PEP 8 guidelines and best practices.\n"
      ],
      "metadata": {
        "id": "XpvRlgcgfCl6"
      }
    },
    {
      "cell_type": "markdown",
      "source": [
        "# 2. Checking whether a collection is empty\n"
      ],
      "metadata": {
        "id": "MQunEYsmfFso"
      }
    },
    {
      "cell_type": "code",
      "execution_count": 1,
      "metadata": {
        "colab": {
          "base_uri": "https://localhost:8080/"
        },
        "id": "OAwAPeRBe2TG",
        "outputId": "19dfc474-26c3-4402-e09b-e4f12b17c939"
      },
      "outputs": [
        {
          "output_type": "stream",
          "name": "stdout",
          "text": [
            "List is not empty\n"
          ]
        }
      ],
      "source": [
        "# NOT RECOMMENDED APPROACH:\n",
        "numbers_list = [1, 2, 3]\n",
        "#Using len() function\n",
        "if len(numbers_list) == 0:\n",
        "    print(\"List is empty\")\n",
        "else:\n",
        "    print(\"List is not empty\")"
      ]
    },
    {
      "cell_type": "code",
      "source": [
        "# NOT RECOMMENDED APPROACH:\n",
        "numbers_list = [1, 2, 3]\n",
        "# collection equal to an empty collection\n",
        "if numbers_list == []:\n",
        " print(\"List is empty\")\n",
        "else:\n",
        " print(\"List is not empty\")"
      ],
      "metadata": {
        "colab": {
          "base_uri": "https://localhost:8080/"
        },
        "id": "A8NW3iiTfHSp",
        "outputId": "6f365e9d-ab0c-4810-c6a8-ac3107e3e139"
      },
      "execution_count": 2,
      "outputs": [
        {
          "output_type": "stream",
          "name": "stdout",
          "text": [
            "List is not empty\n"
          ]
        }
      ]
    },
    {
      "cell_type": "code",
      "source": [
        "# RECOMMENDED APPROACH:\n",
        "numbers_list = [1, 2, 3]\n",
        "if not numbers_list:\n",
        "    print(\"List is empty\")\n",
        "else:\n",
        "    print(\"List is not empty\")"
      ],
      "metadata": {
        "colab": {
          "base_uri": "https://localhost:8080/"
        },
        "id": "rocD4PBefIp_",
        "outputId": "63bdf4a5-d285-4c0f-85ca-2e270f30516a"
      },
      "execution_count": 3,
      "outputs": [
        {
          "output_type": "stream",
          "name": "stdout",
          "text": [
            "List is not empty\n"
          ]
        }
      ]
    },
    {
      "cell_type": "code",
      "source": [
        "# Python - LIST\n",
        "\n",
        "SEPARATOR: str = '=' * 50\n",
        "CONTAINER_NAME = \"LIST\"\n",
        "\n",
        "\n",
        "# Recommended Approach\n",
        "def list_emptiness1(test_list):\n",
        "    print(SEPARATOR)\n",
        "\n",
        "    print(\"\\t Approach 1:\")\n",
        "    for sub_list in test_list:\n",
        "        if sub_list:  # Is list empty\n",
        "            print(f\"\\t\\t (True)  : '{CONTAINER_NAME}' is not empty\")\n",
        "        else:\n",
        "            print(f\"\\t\\t (False) : '{CONTAINER_NAME}' is empty\")\n",
        "\n",
        "\n",
        "# OK, but not good\n",
        "def list_emptiness2(test_list):\n",
        "    print(SEPARATOR)\n",
        "\n",
        "    print(\"\\t Approach 2:\")\n",
        "    for sub_list in test_list:\n",
        "        if sub_list != []:  # Is list empty\n",
        "            print(f\"\\t\\t (True)  : '{CONTAINER_NAME}' is not empty\")\n",
        "        else:\n",
        "            print(f\"\\t\\t (False) : '{CONTAINER_NAME}' is empty\")\n",
        "\n",
        "\n",
        "# OK, but not good\n",
        "def list_emptiness3(test_list):\n",
        "    print(SEPARATOR)\n",
        "\n",
        "    print(\"\\t Approach 3:\")\n",
        "    for sub_list in test_list:\n",
        "        if len(sub_list) != 0:  # Is list empty\n",
        "            print(f\"\\t\\t (True)  : '{CONTAINER_NAME}' is not empty\")\n",
        "        else:\n",
        "            print(f\"\\t\\t (False) : '{CONTAINER_NAME}' is empty\")\n",
        "\n",
        "\n",
        "if __name__ == '__main__':\n",
        "    lists = [\n",
        "        [1, 2, 3],  # Non-empty list\n",
        "        [],  # Empty list\n",
        "    ]\n",
        "    list_emptiness1(lists)\n",
        "    list_emptiness2(lists)\n",
        "    list_emptiness3(lists)\n"
      ],
      "metadata": {
        "colab": {
          "base_uri": "https://localhost:8080/"
        },
        "id": "EaIoYyXSfKBo",
        "outputId": "e1076425-a2a9-4637-8617-bce0ba2130ff"
      },
      "execution_count": 4,
      "outputs": [
        {
          "output_type": "stream",
          "name": "stdout",
          "text": [
            "==================================================\n",
            "\t Approach 1:\n",
            "\t\t (True)  : 'LIST' is not empty\n",
            "\t\t (False) : 'LIST' is empty\n",
            "==================================================\n",
            "\t Approach 2:\n",
            "\t\t (True)  : 'LIST' is not empty\n",
            "\t\t (False) : 'LIST' is empty\n",
            "==================================================\n",
            "\t Approach 3:\n",
            "\t\t (True)  : 'LIST' is not empty\n",
            "\t\t (False) : 'LIST' is empty\n"
          ]
        }
      ]
    },
    {
      "cell_type": "code",
      "source": [
        "# Python - TUPLE\n",
        "\n",
        "SEPARATOR: str = '=' * 50\n",
        "CONTAINER_NAME = \"TUPLE\"\n",
        "\n",
        "\n",
        "# Recommended Approach\n",
        "def tuple_emptiness1(test_tuple):\n",
        "    print(SEPARATOR)\n",
        "\n",
        "    print(\"\\t Approach 1:\")\n",
        "    for tup in test_tuple:\n",
        "        if tup:  # Is tuple empty\n",
        "            print(f\"\\t\\t (True)  : '{CONTAINER_NAME}' is not empty\")\n",
        "        else:\n",
        "            print(f\"\\t\\t (False) : '{CONTAINER_NAME}' is empty\")\n",
        "\n",
        "\n",
        "# OK, but not good\n",
        "def tuple_emptiness2(test_tuple):\n",
        "    print(SEPARATOR)\n",
        "\n",
        "    print(\"\\t Approach 2:\")\n",
        "    for tup in test_tuple:\n",
        "        if tup != tuple():  # Is tuple empty\n",
        "            print(f\"\\t\\t (True)  : '{CONTAINER_NAME}' is not empty\")\n",
        "        else:\n",
        "            print(f\"\\t\\t (False) : '{CONTAINER_NAME}' is empty\")\n",
        "\n",
        "\n",
        "# OK, but not good\n",
        "def tuple_emptiness3(test_tuple):\n",
        "    print(SEPARATOR)\n",
        "\n",
        "    print(\"\\t Approach 3:\")\n",
        "    for tup in test_tuple:\n",
        "        if len(tup) != 0:  # Is tuple empty\n",
        "            print(f\"\\t\\t (True)  : '{CONTAINER_NAME}' is not empty\")\n",
        "        else:\n",
        "            print(f\"\\t\\t (False) : '{CONTAINER_NAME}' is empty\")\n",
        "\n",
        "\n",
        "if __name__ == '__main__':\n",
        "    tuples_list = [\n",
        "        tuple([1, 2, 3]),  # Non-empty tuple\n",
        "        tuple(),  # Empty tuple\n",
        "    ]\n",
        "    tuple_emptiness1(tuples_list)\n",
        "    tuple_emptiness2(tuples_list)\n",
        "    tuple_emptiness3(tuples_list)"
      ],
      "metadata": {
        "colab": {
          "base_uri": "https://localhost:8080/"
        },
        "id": "v-fJIQhEfL4c",
        "outputId": "aae2a5b8-bcad-47b2-9312-63f28892bdb6"
      },
      "execution_count": 5,
      "outputs": [
        {
          "output_type": "stream",
          "name": "stdout",
          "text": [
            "==================================================\n",
            "\t Approach 1:\n",
            "\t\t (True)  : 'TUPLE' is not empty\n",
            "\t\t (False) : 'TUPLE' is empty\n",
            "==================================================\n",
            "\t Approach 2:\n",
            "\t\t (True)  : 'TUPLE' is not empty\n",
            "\t\t (False) : 'TUPLE' is empty\n",
            "==================================================\n",
            "\t Approach 3:\n",
            "\t\t (True)  : 'TUPLE' is not empty\n",
            "\t\t (False) : 'TUPLE' is empty\n"
          ]
        }
      ]
    },
    {
      "cell_type": "code",
      "source": [
        "# Python - STR\n",
        "\n",
        "SEPARATOR: str = '=' * 50\n",
        "CONTAINER_NAME = \"STRING\"\n",
        "\n",
        "\n",
        "# Recommended Approach\n",
        "def string_emptiness1(test_string):\n",
        "    print(SEPARATOR)\n",
        "\n",
        "    print(\"\\t Approach 1:\")\n",
        "    for string in test_string:\n",
        "        if string:  # Is string empty\n",
        "            print(f\"\\t\\t (True)  : '{CONTAINER_NAME}' is not empty\")\n",
        "        else:\n",
        "            print(f\"\\t\\t (False) : '{CONTAINER_NAME}' is empty\")\n",
        "\n",
        "\n",
        "# OK, but not good\n",
        "def string_emptiness2(test_string):\n",
        "    print(SEPARATOR)\n",
        "\n",
        "    print(\"\\t Approach 2:\")\n",
        "    for string in test_string:\n",
        "        if len(string) != 0:  # Is string empty\n",
        "            print(f\"\\t\\t (True)  : '{CONTAINER_NAME}' is not empty\")\n",
        "        else:\n",
        "            print(f\"\\t\\t (False) : '{CONTAINER_NAME}' is empty\")\n",
        "\n",
        "\n",
        "# OK, but not good\n",
        "def string_emptiness3(test_string):\n",
        "    print(SEPARATOR)\n",
        "\n",
        "    print(\"\\t Approach 3:\")\n",
        "    for string in test_string:\n",
        "        if string == \"\":  # Is string empty\n",
        "            print(f\"\\t\\t (True)  : '{CONTAINER_NAME}' is not empty\")\n",
        "        else:\n",
        "            print(f\"\\t\\t (False) : '{CONTAINER_NAME}' is empty\")\n",
        "\n",
        "\n",
        "if __name__ == '__main__':\n",
        "    test_strings_list = [\n",
        "        \"Cricket\",  # Non-empty string\n",
        "        \"A\",  # Non-empty string\n",
        "        \"\",  # Empty string\n",
        "    ]\n",
        "    string_emptiness1(test_strings_list)\n",
        "    string_emptiness2(test_strings_list)\n",
        "    string_emptiness2(test_strings_list)"
      ],
      "metadata": {
        "colab": {
          "base_uri": "https://localhost:8080/"
        },
        "id": "19_39wmhfOM1",
        "outputId": "8728e15a-b820-4bb2-e939-3c9cb4c9988d"
      },
      "execution_count": 6,
      "outputs": [
        {
          "output_type": "stream",
          "name": "stdout",
          "text": [
            "==================================================\n",
            "\t Approach 1:\n",
            "\t\t (True)  : 'STRING' is not empty\n",
            "\t\t (True)  : 'STRING' is not empty\n",
            "\t\t (False) : 'STRING' is empty\n",
            "==================================================\n",
            "\t Approach 2:\n",
            "\t\t (True)  : 'STRING' is not empty\n",
            "\t\t (True)  : 'STRING' is not empty\n",
            "\t\t (False) : 'STRING' is empty\n",
            "==================================================\n",
            "\t Approach 2:\n",
            "\t\t (True)  : 'STRING' is not empty\n",
            "\t\t (True)  : 'STRING' is not empty\n",
            "\t\t (False) : 'STRING' is empty\n"
          ]
        }
      ]
    },
    {
      "cell_type": "code",
      "source": [
        "# Python - SET\n",
        "\n",
        "SEPARATOR: str = '=' * 50\n",
        "CONTAINER_NAME = \"SET\"\n",
        "\n",
        "\n",
        "# Recommended Approach\n",
        "def tuple_emptiness1(test_sets):\n",
        "    print(SEPARATOR)\n",
        "\n",
        "    print(\"\\t Approach 1:\")\n",
        "    for a_set in test_sets:\n",
        "        if a_set:  # Is tuple empty\n",
        "            print(f\"\\t\\t (True)  : '{CONTAINER_NAME}' is not empty\")\n",
        "        else:\n",
        "            print(f\"\\t\\t (False) : '{CONTAINER_NAME}' is empty\")\n",
        "\n",
        "\n",
        "# OK, but not good\n",
        "def tuple_emptiness2(test_sets):\n",
        "    print(SEPARATOR)\n",
        "\n",
        "    print(\"\\t Approach 2:\")\n",
        "    for a_set in test_sets:\n",
        "        if a_set != set():  # Is tuple empty\n",
        "            print(f\"\\t\\t (True)  : '{CONTAINER_NAME}' is not empty\")\n",
        "        else:\n",
        "            print(f\"\\t\\t (False) : '{CONTAINER_NAME}' is empty\")\n",
        "\n",
        "\n",
        "# OK, but not good\n",
        "def tuple_emptiness3(test_sets):\n",
        "    print(SEPARATOR)\n",
        "\n",
        "    print(\"\\t Approach 3:\")\n",
        "    for a_set in test_sets:\n",
        "        if len(a_set) != 0:  # Is tuple empty\n",
        "            print(f\"\\t\\t (True)  : '{CONTAINER_NAME}' is not empty\")\n",
        "        else:\n",
        "            print(f\"\\t\\t (False) : '{CONTAINER_NAME}' is empty\")\n",
        "\n",
        "\n",
        "if __name__ == '__main__':\n",
        "    sets_list = [\n",
        "        {1, 2, 3},  # Non-empty tuple\n",
        "        set(),  # Empty tuple\n",
        "    ]\n",
        "    tuple_emptiness1(sets_list)\n",
        "    tuple_emptiness2(sets_list)\n",
        "    tuple_emptiness3(sets_list)"
      ],
      "metadata": {
        "colab": {
          "base_uri": "https://localhost:8080/"
        },
        "id": "R3KS3yxWfQL5",
        "outputId": "be3ff21e-736a-4083-e70f-cdca9e373104"
      },
      "execution_count": 7,
      "outputs": [
        {
          "output_type": "stream",
          "name": "stdout",
          "text": [
            "==================================================\n",
            "\t Approach 1:\n",
            "\t\t (True)  : 'SET' is not empty\n",
            "\t\t (False) : 'SET' is empty\n",
            "==================================================\n",
            "\t Approach 2:\n",
            "\t\t (True)  : 'SET' is not empty\n",
            "\t\t (False) : 'SET' is empty\n",
            "==================================================\n",
            "\t Approach 3:\n",
            "\t\t (True)  : 'SET' is not empty\n",
            "\t\t (False) : 'SET' is empty\n"
          ]
        }
      ]
    },
    {
      "cell_type": "code",
      "source": [
        "# Python - DICT\n",
        "\n",
        "SEPARATOR: str = '=' * 50\n",
        "CONTAINER_NAME = \"DICTIONARY\"\n",
        "\n",
        "\n",
        "# Recommended Approach\n",
        "def dict_emptiness1(test_dict):\n",
        "    print(SEPARATOR)\n",
        "\n",
        "    print(\"\\t Approach 1:\")\n",
        "    for dictionary in test_dict:\n",
        "        if dictionary:  # Is dictionary empty\n",
        "            print(f\"\\t\\t (True)  : '{CONTAINER_NAME}' is not empty\")\n",
        "        else:\n",
        "            print(f\"\\t\\t (False) : '{CONTAINER_NAME}' is empty\")\n",
        "\n",
        "\n",
        "# OK, but not good\n",
        "def dict_emptiness2(test_dict):\n",
        "    print(SEPARATOR)\n",
        "\n",
        "    print(\"\\t Approach 2:\")\n",
        "    for dictionary in test_dict:\n",
        "        if dictionary != {}:  # Is dictionary empty\n",
        "            print(f\"\\t\\t (True)  : '{CONTAINER_NAME}' is not empty\")\n",
        "        else:\n",
        "            print(f\"\\t\\t (False) : '{CONTAINER_NAME}' is empty\")\n",
        "\n",
        "\n",
        "# OK, but not good\n",
        "def dict_emptiness3(test_dict):\n",
        "    print(SEPARATOR)\n",
        "\n",
        "    print(\"\\t Approach 3:\")\n",
        "    for dictionary in test_dict:\n",
        "        if len(dictionary) != 0:  # Is dictionary empty\n",
        "            print(f\"\\t\\t (True)  : '{CONTAINER_NAME}' is not empty\")\n",
        "        else:\n",
        "            print(f\"\\t\\t (False) : '{CONTAINER_NAME}' is empty\")\n",
        "\n",
        "\n",
        "if __name__ == '__main__':\n",
        "    dictionary_list = [\n",
        "        {\n",
        "            \"Mango\": \"Yellow\",\n",
        "            \"Apple\": \"Red\"\n",
        "        },  # Non-empty dictionary\n",
        "        {}  # Empty dictionary\n",
        "    ]\n",
        "    dict_emptiness1(dictionary_list)\n",
        "    dict_emptiness2(dictionary_list)\n",
        "    dict_emptiness3(dictionary_list)"
      ],
      "metadata": {
        "colab": {
          "base_uri": "https://localhost:8080/"
        },
        "id": "TjYPN5rMfSZN",
        "outputId": "69817a28-97f1-4cdf-8a49-d1c5b178dc98"
      },
      "execution_count": 8,
      "outputs": [
        {
          "output_type": "stream",
          "name": "stdout",
          "text": [
            "==================================================\n",
            "\t Approach 1:\n",
            "\t\t (True)  : 'DICTIONARY' is not empty\n",
            "\t\t (False) : 'DICTIONARY' is empty\n",
            "==================================================\n",
            "\t Approach 2:\n",
            "\t\t (True)  : 'DICTIONARY' is not empty\n",
            "\t\t (False) : 'DICTIONARY' is empty\n",
            "==================================================\n",
            "\t Approach 3:\n",
            "\t\t (True)  : 'DICTIONARY' is not empty\n",
            "\t\t (False) : 'DICTIONARY' is empty\n"
          ]
        }
      ]
    },
    {
      "cell_type": "markdown",
      "source": [
        "# 3. Comparing an object or variable with None\n"
      ],
      "metadata": {
        "id": "ltC4QP-QfVl3"
      }
    },
    {
      "cell_type": "code",
      "source": [
        "obj = None\n",
        "if obj:\n",
        "    print(f\"None evaluated as '{True}'\")\n",
        "else:\n",
        "    print(f\"None evaluated as '{False}'\")"
      ],
      "metadata": {
        "colab": {
          "base_uri": "https://localhost:8080/"
        },
        "id": "Sqz5ezKEfUbA",
        "outputId": "8db8bc38-9bc3-41c8-f1fc-a1e6479f757b"
      },
      "execution_count": 9,
      "outputs": [
        {
          "output_type": "stream",
          "name": "stdout",
          "text": [
            "None evaluated as 'False'\n"
          ]
        }
      ]
    },
    {
      "cell_type": "code",
      "source": [
        "# =============================================================\n",
        "#                           CASE 1\n",
        "# =============================================================\n",
        "obj = None\n",
        "\n",
        "# CORRECT usage\n",
        "if obj is None:\n",
        "    print(\"Correct usage!\")\n",
        "else:\n",
        "    print(\"Incorrect usage!\")\n",
        "\n",
        "\"\"\"\n",
        "Output:\n",
        "  Correct usage!\n",
        "\"\"\"\n",
        "\n",
        "# =============================================================\n",
        "# INCORRECT usage, \n",
        "# but luckily output is correct\n",
        "if obj == None:\n",
        "    print(\"Correct usage!\")\n",
        "else:\n",
        "    print(\"Incorrect usage!\")\n",
        "\n",
        "\"\"\"\n",
        "Output:\n",
        "  Correct usage!\n",
        "\"\"\"\n",
        "\n",
        "\n",
        "\n",
        "# =============================================================\n",
        "#                               CASE 2\n",
        "# =============================================================\n",
        "# This class is only for demonstration purposes.\n",
        "# When using the equality operator (==) with \n",
        "# any object, the result will always be True. \n",
        "\n",
        "class NoneComparison:\n",
        "    def __eq__(self, dummy):\n",
        "        # Check for equality by performing a meaningful operation. \n",
        "        # For demonstration purpose I'm directly returning True\n",
        "        return True\n",
        "    # implement other methods\n",
        "\n",
        "\n",
        "non_comparison_obj = NoneComparison()\n",
        "# If you are comparing the user defined class objects with None:\n",
        "# This will result into - \n",
        "#       1. Correct results:  if you use Identity operator (is / is not)\n",
        "#       2. Unexpected results:  if you use Equality operator (== / !=)\n",
        "\n",
        "# CORRECT usage\n",
        "print(True if non_comparison_obj is None else False)\n",
        "\"\"\"\n",
        "Output:\n",
        "  False\n",
        "\"\"\"\n",
        "\n",
        "# INCORRECT usage\n",
        "print(True if non_comparison_obj == None else False)\n",
        "\"\"\"\n",
        "Output:\n",
        "  True\n",
        "\"\"\""
      ],
      "metadata": {
        "colab": {
          "base_uri": "https://localhost:8080/",
          "height": 105
        },
        "id": "TnGfaNcifXk3",
        "outputId": "4f05f9ec-f373-48f6-ec2a-bf3991c7cae3"
      },
      "execution_count": 10,
      "outputs": [
        {
          "output_type": "stream",
          "name": "stdout",
          "text": [
            "Correct usage!\n",
            "Correct usage!\n",
            "False\n",
            "True\n"
          ]
        },
        {
          "output_type": "execute_result",
          "data": {
            "text/plain": [
              "'\\nOutput:\\n  True\\n'"
            ],
            "application/vnd.google.colaboratory.intrinsic+json": {
              "type": "string"
            }
          },
          "metadata": {},
          "execution_count": 10
        }
      ]
    },
    {
      "cell_type": "markdown",
      "source": [
        "# 4. While copying any object\n"
      ],
      "metadata": {
        "id": "WpTVVv75fdq8"
      }
    },
    {
      "cell_type": "code",
      "source": [
        "a = [1, 2, 3, 4, 5]\n",
        "# follwing assignment statement, copies the reference of 'a' into\n",
        "# 'b'. In other words binding is created both point to same object.\n",
        "b = a\n",
        "# ============================================================\n",
        "# To create a deep copy of 'a' use copy() method of a list class,\n",
        "# which will create a new independent copy object of 'a'\n",
        "b = a.copy()"
      ],
      "metadata": {
        "id": "AsjOVbfvfcsC"
      },
      "execution_count": 11,
      "outputs": []
    }
  ]
}
