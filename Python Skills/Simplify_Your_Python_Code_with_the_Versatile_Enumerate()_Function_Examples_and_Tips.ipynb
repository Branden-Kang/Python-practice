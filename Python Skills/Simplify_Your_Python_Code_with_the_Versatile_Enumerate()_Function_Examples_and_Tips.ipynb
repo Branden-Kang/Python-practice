{
  "nbformat": 4,
  "nbformat_minor": 0,
  "metadata": {
    "colab": {
      "provenance": [],
      "authorship_tag": "ABX9TyPXtd5AVTutxDFnstNq1FZ6"
    },
    "kernelspec": {
      "name": "python3",
      "display_name": "Python 3"
    },
    "language_info": {
      "name": "python"
    }
  },
  "cells": [
    {
      "cell_type": "markdown",
      "source": [
        "[Reference](https://medium.com/@etirismagazine/simplify-your-python-code-with-the-versatile-enumerate-function-examples-and-tips-7835f3cf8bda)"
      ],
      "metadata": {
        "id": "ShSAEhbP4ZFb"
      }
    },
    {
      "cell_type": "code",
      "execution_count": 1,
      "metadata": {
        "colab": {
          "base_uri": "https://localhost:8080/"
        },
        "id": "w32g5Uxs2Zyq",
        "outputId": "44f30c51-a7f7-4e9e-c189-ca96bd472117"
      },
      "outputs": [
        {
          "output_type": "stream",
          "name": "stdout",
          "text": [
            "0 apple\n",
            "1 banana\n",
            "2 cherry\n"
          ]
        }
      ],
      "source": [
        "fruits = ['apple', 'banana', 'cherry']\n",
        "\n",
        "for index, value in enumerate(fruits):\n",
        "    print(index, value)"
      ]
    },
    {
      "cell_type": "code",
      "source": [
        "fruits = ['apple', 'banana', 'cherry']\n",
        "\n",
        "for index, value in enumerate(fruits, start=1):\n",
        "    print(index, value)"
      ],
      "metadata": {
        "colab": {
          "base_uri": "https://localhost:8080/"
        },
        "id": "fL7JGALo4bQc",
        "outputId": "881fe56f-5d6e-4071-ffaf-8553562d1b8d"
      },
      "execution_count": 2,
      "outputs": [
        {
          "output_type": "stream",
          "name": "stdout",
          "text": [
            "1 apple\n",
            "2 banana\n",
            "3 cherry\n"
          ]
        }
      ]
    },
    {
      "cell_type": "markdown",
      "source": [
        "# Performance optimization"
      ],
      "metadata": {
        "id": "3qjrb5o64kxY"
      }
    },
    {
      "cell_type": "code",
      "source": [
        "fruits = ['apple', 'banana', 'cherry']\n",
        "prices = [0.5, 0.25, 1.0]\n",
        "\n",
        "for fruit, price in zip(fruits, prices):\n",
        "    print(fruit, price)"
      ],
      "metadata": {
        "colab": {
          "base_uri": "https://localhost:8080/"
        },
        "id": "0V5nyAaY4cGv",
        "outputId": "b61bce30-411c-45d9-d307-97d44701941c"
      },
      "execution_count": 3,
      "outputs": [
        {
          "output_type": "stream",
          "name": "stdout",
          "text": [
            "apple 0.5\n",
            "banana 0.25\n",
            "cherry 1.0\n"
          ]
        }
      ]
    },
    {
      "cell_type": "markdown",
      "source": [
        "# Updating values in a list:"
      ],
      "metadata": {
        "id": "xtlwOQVJ4jnM"
      }
    },
    {
      "cell_type": "code",
      "source": [
        "numbers = [1, 2, 3, 4, 5, 6]\n",
        "\n",
        "for index, value in enumerate(numbers):\n",
        "    if index % 2 == 0:\n",
        "        numbers[index] = value + 10\n",
        "        \n",
        "print(numbers)"
      ],
      "metadata": {
        "colab": {
          "base_uri": "https://localhost:8080/"
        },
        "id": "ERyyvxmc4eG5",
        "outputId": "50b56666-5f82-46f3-a38e-63d19ea20f11"
      },
      "execution_count": 4,
      "outputs": [
        {
          "output_type": "stream",
          "name": "stdout",
          "text": [
            "[11, 2, 13, 4, 15, 6]\n"
          ]
        }
      ]
    },
    {
      "cell_type": "markdown",
      "source": [
        "# Creating a dictionary from a list:"
      ],
      "metadata": {
        "id": "QBFEjwvy4iBY"
      }
    },
    {
      "cell_type": "code",
      "source": [
        "fruits = ['apple', 'banana', 'cherry']\n",
        "\n",
        "fruits_dict = {}\n",
        "\n",
        "for index, value in enumerate(fruits):\n",
        "    fruits_dict[index] = value\n",
        "    \n",
        "print(fruits_dict)"
      ],
      "metadata": {
        "colab": {
          "base_uri": "https://localhost:8080/"
        },
        "id": "fO4yUm2N4fzk",
        "outputId": "cb45026e-de96-4737-d274-44577ff9ca45"
      },
      "execution_count": 5,
      "outputs": [
        {
          "output_type": "stream",
          "name": "stdout",
          "text": [
            "{0: 'apple', 1: 'banana', 2: 'cherry'}\n"
          ]
        }
      ]
    },
    {
      "cell_type": "markdown",
      "source": [
        "# Printing a numbered list:"
      ],
      "metadata": {
        "id": "rZA4cUf14oUO"
      }
    },
    {
      "cell_type": "code",
      "source": [
        "tasks = ['clean the house', 'buy groceries', 'do laundry']\n",
        "\n",
        "for index, task in enumerate(tasks, start=1):\n",
        "    print(f\"{index}. {task}\")"
      ],
      "metadata": {
        "colab": {
          "base_uri": "https://localhost:8080/"
        },
        "id": "aaO5myrj4haV",
        "outputId": "bb8f3ca9-e7e1-4cfb-9058-f3002ad12b0e"
      },
      "execution_count": 6,
      "outputs": [
        {
          "output_type": "stream",
          "name": "stdout",
          "text": [
            "1. clean the house\n",
            "2. buy groceries\n",
            "3. do laundry\n"
          ]
        }
      ]
    }
  ]
}
