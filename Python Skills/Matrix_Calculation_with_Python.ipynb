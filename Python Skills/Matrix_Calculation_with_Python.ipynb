{
  "nbformat": 4,
  "nbformat_minor": 0,
  "metadata": {
    "colab": {
      "name": "Matrix Calculation with Python.ipynb",
      "provenance": [],
      "authorship_tag": "ABX9TyNoIGkY2iYLmqTBFdK4NreV"
    },
    "kernelspec": {
      "name": "python3",
      "display_name": "Python 3"
    },
    "language_info": {
      "name": "python"
    }
  },
  "cells": [
    {
      "cell_type": "markdown",
      "metadata": {
        "id": "ER1TnybyA1S5"
      },
      "source": [
        "[Reference](https://python.plainenglish.io/matrix-calculation-with-python-5df443c8911f)"
      ]
    },
    {
      "cell_type": "code",
      "metadata": {
        "id": "HDeXCkFqAv4M"
      },
      "source": [
        "import numpy as np\n",
        "a = np.array([1,2,3,4])\n",
        "B = np.array([[1,2,3],[4,5,6]])"
      ],
      "execution_count": 1,
      "outputs": []
    },
    {
      "cell_type": "code",
      "metadata": {
        "colab": {
          "base_uri": "https://localhost:8080/"
        },
        "id": "eA-C0nfOA3hU",
        "outputId": "ad8e48e8-4fea-442f-d785-1896fe7ff8c6"
      },
      "source": [
        "np.ones((2,3))"
      ],
      "execution_count": 2,
      "outputs": [
        {
          "output_type": "execute_result",
          "data": {
            "text/plain": [
              "array([[1., 1., 1.],\n",
              "       [1., 1., 1.]])"
            ]
          },
          "metadata": {},
          "execution_count": 2
        }
      ]
    },
    {
      "cell_type": "code",
      "metadata": {
        "colab": {
          "base_uri": "https://localhost:8080/"
        },
        "id": "bo_-7WxnA9dW",
        "outputId": "276724e6-9c6a-422f-e330-e2cf87982d3d"
      },
      "source": [
        "np.zeros((2,3))"
      ],
      "execution_count": 3,
      "outputs": [
        {
          "output_type": "execute_result",
          "data": {
            "text/plain": [
              "array([[0., 0., 0.],\n",
              "       [0., 0., 0.]])"
            ]
          },
          "metadata": {},
          "execution_count": 3
        }
      ]
    },
    {
      "cell_type": "code",
      "metadata": {
        "colab": {
          "base_uri": "https://localhost:8080/"
        },
        "id": "a6rD9YDfA_We",
        "outputId": "07a5a65d-0e3d-4a4c-c16f-f60d80019511"
      },
      "source": [
        "np.identity(3)"
      ],
      "execution_count": 4,
      "outputs": [
        {
          "output_type": "execute_result",
          "data": {
            "text/plain": [
              "array([[1., 0., 0.],\n",
              "       [0., 1., 0.],\n",
              "       [0., 0., 1.]])"
            ]
          },
          "metadata": {},
          "execution_count": 4
        }
      ]
    },
    {
      "cell_type": "code",
      "metadata": {
        "colab": {
          "base_uri": "https://localhost:8080/"
        },
        "id": "JKA7Y8WoBAjQ",
        "outputId": "3f67e50a-e89b-41d4-8301-eb764fca0a78"
      },
      "source": [
        "np.full((3,3), 5)"
      ],
      "execution_count": 5,
      "outputs": [
        {
          "output_type": "execute_result",
          "data": {
            "text/plain": [
              "array([[5, 5, 5],\n",
              "       [5, 5, 5],\n",
              "       [5, 5, 5]])"
            ]
          },
          "metadata": {},
          "execution_count": 5
        }
      ]
    },
    {
      "cell_type": "code",
      "metadata": {
        "colab": {
          "base_uri": "https://localhost:8080/"
        },
        "id": "8hLwEMw6BB7h",
        "outputId": "df2a6c46-fcf7-4113-b518-d4cc24b92e2f"
      },
      "source": [
        "np.random.rand(2,3)"
      ],
      "execution_count": 6,
      "outputs": [
        {
          "output_type": "execute_result",
          "data": {
            "text/plain": [
              "array([[0.79004803, 0.02364517, 0.64016094],\n",
              "       [0.38144106, 0.96203541, 0.3275894 ]])"
            ]
          },
          "metadata": {},
          "execution_count": 6
        }
      ]
    },
    {
      "cell_type": "code",
      "metadata": {
        "colab": {
          "base_uri": "https://localhost:8080/"
        },
        "id": "LmpCLcRMBDEt",
        "outputId": "6c06a07f-42cd-4f09-993f-a86717a809dd"
      },
      "source": [
        "A = np.array([[1,2,3,4],[5,6,7,8],[9,10,11,12]])\n",
        "print(A[0,1])"
      ],
      "execution_count": 7,
      "outputs": [
        {
          "output_type": "stream",
          "name": "stdout",
          "text": [
            "2\n"
          ]
        }
      ]
    },
    {
      "cell_type": "code",
      "metadata": {
        "colab": {
          "base_uri": "https://localhost:8080/"
        },
        "id": "zRba5vsVBEo_",
        "outputId": "859c6ebb-4387-420d-d6dd-c93579cd5909"
      },
      "source": [
        "A = np.array([[1,2,3,4],[5,6,7,8],[9,10,11,12]])\n",
        "print(A[:,1])"
      ],
      "execution_count": 8,
      "outputs": [
        {
          "output_type": "stream",
          "name": "stdout",
          "text": [
            "[ 2  6 10]\n"
          ]
        }
      ]
    },
    {
      "cell_type": "code",
      "metadata": {
        "id": "fO0tnxWEBHRY"
      },
      "source": [
        "a = np.array([1,2,3])\n",
        "b = np.array([4,5,6])"
      ],
      "execution_count": 9,
      "outputs": []
    },
    {
      "cell_type": "code",
      "metadata": {
        "colab": {
          "base_uri": "https://localhost:8080/"
        },
        "id": "49VRBgWaBI0e",
        "outputId": "1eb1aa90-fc0e-46e9-ddfc-b0659b6abbe6"
      },
      "source": [
        "A = np.array([[1,2,3],[4,5,6]])\n",
        "A.T"
      ],
      "execution_count": 10,
      "outputs": [
        {
          "output_type": "execute_result",
          "data": {
            "text/plain": [
              "array([[1, 4],\n",
              "       [2, 5],\n",
              "       [3, 6]])"
            ]
          },
          "metadata": {},
          "execution_count": 10
        }
      ]
    },
    {
      "cell_type": "code",
      "metadata": {
        "colab": {
          "base_uri": "https://localhost:8080/"
        },
        "id": "z3VKHQaWBKOa",
        "outputId": "3431e803-497c-4a10-f424-7cc7c2ff50b8"
      },
      "source": [
        "A = np.array([[1,2,3],[4,5,6], [5,8,9]])\n",
        "np.linalg.inv(A)"
      ],
      "execution_count": 16,
      "outputs": [
        {
          "output_type": "execute_result",
          "data": {
            "text/plain": [
              "array([[-0.5       ,  1.        , -0.5       ],\n",
              "       [-1.        , -1.        ,  1.        ],\n",
              "       [ 1.16666667,  0.33333333, -0.5       ]])"
            ]
          },
          "metadata": {},
          "execution_count": 16
        }
      ]
    },
    {
      "cell_type": "code",
      "metadata": {
        "colab": {
          "base_uri": "https://localhost:8080/"
        },
        "id": "EDSMfvu5Bfre",
        "outputId": "a7d303cb-9c30-4f06-c25c-f9609ef4eef4"
      },
      "source": [
        "A = np.array([[1, 2, 3],[4, 5, 6]])\n",
        "b = np.array([5, 6, 7])\n",
        "A@b"
      ],
      "execution_count": 12,
      "outputs": [
        {
          "output_type": "execute_result",
          "data": {
            "text/plain": [
              "array([38, 92])"
            ]
          },
          "metadata": {},
          "execution_count": 12
        }
      ]
    },
    {
      "cell_type": "code",
      "metadata": {
        "id": "keBfKPvxBiOt"
      },
      "source": [
        "# This is a 3x4 matrix\n",
        "A = np.array([[1,2,3,4],[5,6,7,8],[9,10,11,12]])\n",
        "# This is a 6x2 matrix\n",
        "B = A.reshape((6,2))"
      ],
      "execution_count": 13,
      "outputs": []
    },
    {
      "cell_type": "code",
      "metadata": {
        "id": "j1A4rzImBjmB"
      },
      "source": [
        "a = np.linspace(0, 10, 100)"
      ],
      "execution_count": 14,
      "outputs": []
    }
  ]
}