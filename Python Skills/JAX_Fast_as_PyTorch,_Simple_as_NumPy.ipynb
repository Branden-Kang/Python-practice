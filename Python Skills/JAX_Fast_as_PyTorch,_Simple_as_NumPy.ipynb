{
  "nbformat": 4,
  "nbformat_minor": 0,
  "metadata": {
    "colab": {
      "provenance": [],
      "authorship_tag": "ABX9TyOtjoj4cayRYa2TUiWAdHpH"
    },
    "kernelspec": {
      "name": "python3",
      "display_name": "Python 3"
    },
    "language_info": {
      "name": "python"
    }
  },
  "cells": [
    {
      "cell_type": "markdown",
      "source": [
        "[Reference](https://medium.com/@hylke.donker/jax-fast-as-pytorch-simple-as-numpy-a0c14893a738)"
      ],
      "metadata": {
        "id": "HoWkqqL1FKdr"
      }
    },
    {
      "cell_type": "markdown",
      "source": [
        "# Functional Programming"
      ],
      "metadata": {
        "id": "qD3n2QWeFR2W"
      }
    },
    {
      "cell_type": "code",
      "execution_count": 1,
      "metadata": {
        "id": "NqGCMNDdEqzh"
      },
      "outputs": [],
      "source": [
        "import jax.numpy as jnp\n",
        "\n",
        "bias = jnp.array(0)\n",
        "def impure_example(x):\n",
        "   total = x + bias\n",
        "   return total"
      ]
    },
    {
      "cell_type": "code",
      "source": [
        "def pure_example(x, weights, bias):\n",
        "   activation = weights @ x + bias\n",
        "   return activation"
      ],
      "metadata": {
        "id": "8LEM3LX3FO22"
      },
      "execution_count": 2,
      "outputs": []
    },
    {
      "cell_type": "markdown",
      "source": [
        "# Deterministic Samplers"
      ],
      "metadata": {
        "id": "_Glh6UpUFUW1"
      }
    },
    {
      "cell_type": "code",
      "source": [
        "import jax\n",
        "\n",
        "key = jax.random.PRNGKey(42)\n",
        "u = jax.random.uniform(key)"
      ],
      "metadata": {
        "id": "K01CzVrZFQYC"
      },
      "execution_count": 3,
      "outputs": []
    },
    {
      "cell_type": "code",
      "source": [
        "key = jax.random.PRNGKey(43)\n",
        "# Split off and consume subkey.\n",
        "key, subkey = jax.random.split(key)\n",
        "u = jax.random.uniform(subkey)\n",
        "# Split off and consume second subkey.\n",
        "key, subkey = jax.random.split(key)\n",
        "u = jax.random.uniform(subkey)"
      ],
      "metadata": {
        "id": "QownuR7UFV87"
      },
      "execution_count": 4,
      "outputs": []
    },
    {
      "cell_type": "code",
      "source": [
        "from jax import jit\n",
        "\n",
        "@jit\n",
        "def selu(x, α=1.67, λ=1.05):\n",
        " return λ * jnp.where(x > 0, x, α * jnp.exp(x) - α)"
      ],
      "metadata": {
        "id": "e3E5_DgcFXMe"
      },
      "execution_count": 5,
      "outputs": []
    },
    {
      "cell_type": "markdown",
      "source": [
        "# ∇ grad"
      ],
      "metadata": {
        "id": "Edd6MsigFZRl"
      }
    },
    {
      "cell_type": "code",
      "source": [
        "from jax import grad\n",
        "\n",
        "def f(x):\n",
        "   return x + 0.5 * x**2\n",
        "\n",
        "df_dx = grad(f)\n",
        "d2f_dx2 = grad(grad(f))"
      ],
      "metadata": {
        "id": "Ilzpi8yVFYjG"
      },
      "execution_count": 6,
      "outputs": []
    },
    {
      "cell_type": "markdown",
      "source": [
        "# vmap and pmap"
      ],
      "metadata": {
        "id": "x4QKqmhVFcSY"
      }
    },
    {
      "cell_type": "code",
      "source": [
        "def linear(x):\n",
        " return weights @ x"
      ],
      "metadata": {
        "id": "Ma5njRsOFbTv"
      },
      "execution_count": 7,
      "outputs": []
    },
    {
      "cell_type": "code",
      "source": [
        "def naively_batched_linear(X_batched):\n",
        " return jnp.stack([linear(x) for x in X_batched])"
      ],
      "metadata": {
        "id": "fuc4lDGLFeKE"
      },
      "execution_count": 8,
      "outputs": []
    },
    {
      "cell_type": "code",
      "source": [
        "def vmap_batched_linear(X_batched):\n",
        " return vmap(linear)(X_batched)"
      ],
      "metadata": {
        "id": "LfnoWhSZFeQt"
      },
      "execution_count": 9,
      "outputs": []
    }
  ]
}
