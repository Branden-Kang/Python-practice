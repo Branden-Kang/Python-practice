{
  "nbformat": 4,
  "nbformat_minor": 0,
  "metadata": {
    "colab": {
      "name": "25 Useful Python Snippets for Everyday Problems.ipynb",
      "provenance": [],
      "authorship_tag": "ABX9TyPbMVq2Mx9aaclcGw0FGy5a"
    },
    "kernelspec": {
      "name": "python3",
      "display_name": "Python 3"
    },
    "language_info": {
      "name": "python"
    }
  },
  "cells": [
    {
      "cell_type": "markdown",
      "metadata": {
        "id": "dC1S_2CqXn7q"
      },
      "source": [
        "[Reference](https://levelup.gitconnected.com/25-useful-python-snippets-for-everyday-problems-4e1a74d1abae)"
      ]
    },
    {
      "cell_type": "code",
      "metadata": {
        "colab": {
          "base_uri": "https://localhost:8080/"
        },
        "id": "SxfPBqTMVRpI",
        "outputId": "b4f3df90-42cd-4275-81b3-bcc5cfe20440"
      },
      "source": [
        "lst= [\"Mango\", \"PineApple\", \"Orange\", \"Apple\"]\n",
        "\n",
        "#method 1 \n",
        "lst.sort()\n",
        "print(lst)\n",
        "\n",
        "#method 2 generic sorting\n",
        "new_lst = sorted(lst)\n",
        "print(new_lst)\n",
        "\n",
        "#reverse sorting\n",
        "new_lst = sorted(lst, reverse=True)"
      ],
      "execution_count": 1,
      "outputs": [
        {
          "output_type": "stream",
          "text": [
            "['Apple', 'Mango', 'Orange', 'PineApple']\n",
            "['Apple', 'Mango', 'Orange', 'PineApple']\n"
          ],
          "name": "stdout"
        }
      ]
    },
    {
      "cell_type": "code",
      "metadata": {
        "colab": {
          "base_uri": "https://localhost:8080/"
        },
        "id": "ax2DIywgXxsL",
        "outputId": "69f1ccbc-fe4b-4a2c-8a47-76c24bc724d3"
      },
      "source": [
        "d = {1: 2, 3: 4, 4: 3, 2: 1, 0: 0}\n",
        "\n",
        "#method 1\n",
        "new_dict = {k: v for k, v in sorted(d.items(), key=lambda item: item[1])}\n",
        "print(new_dict)\n",
        "\n",
        "#method 2\n",
        "new_dict = dict(sorted(d.items(), key=lambda item: item[1]))\n",
        "print(new_dict)"
      ],
      "execution_count": 2,
      "outputs": [
        {
          "output_type": "stream",
          "text": [
            "{0: 0, 2: 1, 1: 2, 4: 3, 3: 4}\n",
            "{0: 0, 2: 1, 1: 2, 4: 3, 3: 4}\n"
          ],
          "name": "stdout"
        }
      ]
    },
    {
      "cell_type": "code",
      "metadata": {
        "colab": {
          "base_uri": "https://localhost:8080/"
        },
        "id": "4mTigtRDX4UP",
        "outputId": "78114800-4459-496a-8b87-0aadc1b090dd"
      },
      "source": [
        "#method 1\n",
        "print(\"I'm a Python\", end=\" \")\n",
        "print(\"Programmer\")\n",
        "\n",
        "#method 2\n",
        "import sys\n",
        "sys.stdout.write(\"I'm a Python\")\n",
        "sys.stdout.write(\" Programmer\")"
      ],
      "execution_count": 3,
      "outputs": [
        {
          "output_type": "stream",
          "text": [
            "I'm a Python Programmer\n",
            "I'm a Python Programmer"
          ],
          "name": "stdout"
        }
      ]
    },
    {
      "cell_type": "code",
      "metadata": {
        "colab": {
          "base_uri": "https://localhost:8080/"
        },
        "id": "ouRvb0CXX6Ly",
        "outputId": "db5bc32b-ddc4-45db-daa8-3591a12cb941"
      },
      "source": [
        "def merge_two_dict(x, y):\n",
        "    z = x.copy()\n",
        "    z.update(y)\n",
        "    return z\n",
        "    \n",
        "x = {\"A\" : 1, \"B\" : 2}\n",
        "y = {\"C\" : 3, \"D\" : 4}\n",
        "merge_two_dict(x, y)"
      ],
      "execution_count": 4,
      "outputs": [
        {
          "output_type": "execute_result",
          "data": {
            "text/plain": [
              "{'A': 1, 'B': 2, 'C': 3, 'D': 4}"
            ]
          },
          "metadata": {
            "tags": []
          },
          "execution_count": 4
        }
      ]
    },
    {
      "cell_type": "code",
      "metadata": {
        "colab": {
          "base_uri": "https://localhost:8080/",
          "height": 37
        },
        "id": "ryzV95e_X_ii",
        "outputId": "3797e734-606b-4891-dfa2-4ca27745b7c0"
      },
      "source": [
        "def reverse(data):\n",
        "    return data[::-1]\n",
        "    \n",
        "reverse(\"Python\")\n",
        "reverse(\"23354\")"
      ],
      "execution_count": 5,
      "outputs": [
        {
          "output_type": "execute_result",
          "data": {
            "application/vnd.google.colaboratory.intrinsic+json": {
              "type": "string"
            },
            "text/plain": [
              "'45332'"
            ]
          },
          "metadata": {
            "tags": []
          },
          "execution_count": 5
        }
      ]
    },
    {
      "cell_type": "code",
      "metadata": {
        "colab": {
          "base_uri": "https://localhost:8080/"
        },
        "id": "5WdcBnvwYRvF",
        "outputId": "a07782bd-c264-40b3-d55a-4bedf0943b88"
      },
      "source": [
        "def check_duplicates(lst):\n",
        "    return len(lst) != len(set(lst))\n",
        "    \n",
        "lst1 = [1, 2, 3, 3]\n",
        "lst2 = [1, 2, 3]\n",
        "print(check_duplicates(lst1))\n",
        "print(check_duplicates(lst2))"
      ],
      "execution_count": 6,
      "outputs": [
        {
          "output_type": "stream",
          "text": [
            "True\n",
            "False\n"
          ],
          "name": "stdout"
        }
      ]
    },
    {
      "cell_type": "code",
      "metadata": {
        "colab": {
          "base_uri": "https://localhost:8080/"
        },
        "id": "gknyukCDYb-B",
        "outputId": "80428c98-4d6f-4b76-f59e-190e68f68806"
      },
      "source": [
        "mylist = [1, 2, 3, 2, 5, 6, 6, 5, 7]\n",
        "\n",
        "unique = list(set(mylist))\n",
        "print(unique) #[1, 2, 3, 5, 6, 7]"
      ],
      "execution_count": 7,
      "outputs": [
        {
          "output_type": "stream",
          "text": [
            "[1, 2, 3, 5, 6, 7]\n"
          ],
          "name": "stdout"
        }
      ]
    },
    {
      "cell_type": "code",
      "metadata": {
        "colab": {
          "base_uri": "https://localhost:8080/"
        },
        "id": "teSjpyqzYehw",
        "outputId": "4227ab11-c775-491e-c46b-6480cd71fa50"
      },
      "source": [
        "def Digitize(num):\n",
        "  return list(map(int,str(num)))\n",
        "  \n",
        "print(Digitize(321))\n",
        "print(Digitize(900))"
      ],
      "execution_count": 8,
      "outputs": [
        {
          "output_type": "stream",
          "text": [
            "[3, 2, 1]\n",
            "[9, 0, 0]\n"
          ],
          "name": "stdout"
        }
      ]
    },
    {
      "cell_type": "code",
      "metadata": {
        "colab": {
          "base_uri": "https://localhost:8080/"
        },
        "id": "sfkW5mxOYiOA",
        "outputId": "b82a998d-2b99-40d5-d65c-833ff75586d6"
      },
      "source": [
        "def byte_size(string):\n",
        "  return len(string.encode('utf-8'))\n",
        "  \n",
        "byte_size(\"hello\") # 5\n",
        "byte_size(\"Python Programming\") #18"
      ],
      "execution_count": 9,
      "outputs": [
        {
          "output_type": "execute_result",
          "data": {
            "text/plain": [
              "18"
            ]
          },
          "metadata": {
            "tags": []
          },
          "execution_count": 9
        }
      ]
    },
    {
      "cell_type": "code",
      "metadata": {
        "colab": {
          "base_uri": "https://localhost:8080/"
        },
        "id": "4rxv7fR_ZQwY",
        "outputId": "cc9d210e-c574-4fe1-bce6-6f587ec43ce5"
      },
      "source": [
        "def similarity(x, y):\n",
        "    return [item for item in x if item in y]\n",
        "\n",
        "x = [1, 2, 3, 4, 5]\n",
        "y = [1, 2, 3]\n",
        "\n",
        "similarity(x,y)"
      ],
      "execution_count": 11,
      "outputs": [
        {
          "output_type": "execute_result",
          "data": {
            "text/plain": [
              "[1, 2, 3]"
            ]
          },
          "metadata": {
            "tags": []
          },
          "execution_count": 11
        }
      ]
    },
    {
      "cell_type": "code",
      "metadata": {
        "colab": {
          "base_uri": "https://localhost:8080/"
        },
        "id": "Oi4X9CTeZmGD",
        "outputId": "a743a1ed-9325-4111-99e1-33ba174b82c8"
      },
      "source": [
        "import sys\n",
        "\n",
        "var1 = 500\n",
        "var2 = \"Python\"\n",
        "\n",
        "print(sys.getsizeof(var1))\n",
        "print(sys.getsizeof(var2))"
      ],
      "execution_count": 12,
      "outputs": [
        {
          "output_type": "stream",
          "text": [
            "28\n",
            "55\n"
          ],
          "name": "stdout"
        }
      ]
    },
    {
      "cell_type": "code",
      "metadata": {
        "colab": {
          "base_uri": "https://localhost:8080/"
        },
        "id": "vjGc1GBbZpLb",
        "outputId": "d714d47a-89cd-4c54-933b-20dd114555eb"
      },
      "source": [
        "def GetVowels(string):\n",
        "    return [item for item in string if item in 'aeiou']\n",
        "    \n",
        "print(GetVowels(\"asert\"))\n",
        "print(GetVowels(\"football\"))"
      ],
      "execution_count": 13,
      "outputs": [
        {
          "output_type": "stream",
          "text": [
            "['a', 'e']\n",
            "['o', 'o', 'a']\n"
          ],
          "name": "stdout"
        }
      ]
    },
    {
      "cell_type": "code",
      "metadata": {
        "colab": {
          "base_uri": "https://localhost:8080/"
        },
        "id": "EgLT3xraZs9A",
        "outputId": "a6986604-f0ae-49ec-f5b9-0805b4e42009"
      },
      "source": [
        "def palindrome(string):\n",
        "    return string == string[::-1]\n",
        "    \n",
        "print(palindrome('mom'))\n",
        "print(palindrome('bob'))\n",
        "print(palindrome('desk'))"
      ],
      "execution_count": 14,
      "outputs": [
        {
          "output_type": "stream",
          "text": [
            "True\n",
            "True\n",
            "False\n"
          ],
          "name": "stdout"
        }
      ]
    },
    {
      "cell_type": "code",
      "metadata": {
        "colab": {
          "base_uri": "https://localhost:8080/"
        },
        "id": "EJ7kLAuaZvdQ",
        "outputId": "f8ddedb2-90de-4b13-b591-c08f6ccebd9b"
      },
      "source": [
        "#old method\n",
        "a = 5\n",
        "b = 6\n",
        "temp = a\n",
        "a = b\n",
        "b = temp \n",
        "print(a, b) # 6 5\n",
        "\n",
        "#new and fast method\n",
        "a = 5\n",
        "b = 6\n",
        "a, b = b, a\n",
        "print(a, b) # 6 5"
      ],
      "execution_count": 15,
      "outputs": [
        {
          "output_type": "stream",
          "text": [
            "6 5\n",
            "6 5\n"
          ],
          "name": "stdout"
        }
      ]
    },
    {
      "cell_type": "code",
      "metadata": {
        "colab": {
          "base_uri": "https://localhost:8080/"
        },
        "id": "d_wE3dYUZ32C",
        "outputId": "743d9549-3dc9-4905-a2ee-29bddee8b651"
      },
      "source": [
        "import random\n",
        "\n",
        "lst = [1, 2, 3, 4, 5]\n",
        "random.shuffle(lst)\n",
        "print(lst) # [1, 2, 3, 5, 4]\n",
        "\n",
        "random.shuffle(lst)\n",
        "print(lst) # [4, 2, 5, 3, 1]"
      ],
      "execution_count": 16,
      "outputs": [
        {
          "output_type": "stream",
          "text": [
            "[3, 4, 5, 1, 2]\n",
            "[1, 2, 3, 5, 4]\n"
          ],
          "name": "stdout"
        }
      ]
    },
    {
      "cell_type": "code",
      "metadata": {
        "colab": {
          "base_uri": "https://localhost:8080/"
        },
        "id": "Zt1ITUHwZ6j4",
        "outputId": "a40ad877-6024-42db-d56f-00b7767c73ea"
      },
      "source": [
        "try:\n",
        "    print(a) # a not defined error occur\n",
        "except:\n",
        "    print(b) # b not defined again error\n",
        "else: \n",
        "    print(\"Program is still running, Error is handled\")"
      ],
      "execution_count": 17,
      "outputs": [
        {
          "output_type": "stream",
          "text": [
            "6\n",
            "Program is still running, Error is handled\n"
          ],
          "name": "stdout"
        }
      ]
    },
    {
      "cell_type": "code",
      "metadata": {
        "colab": {
          "base_uri": "https://localhost:8080/"
        },
        "id": "bDW-fuj4aDSh",
        "outputId": "726e8136-e43d-4438-c239-039b06a5c0b2"
      },
      "source": [
        "string1 = \"python programming language\"\n",
        "print(string1.title()) # Python Programming Language\n",
        "\n",
        "string2 = \"learn python\"\n",
        "print(string2.title()) # Learn Python"
      ],
      "execution_count": 18,
      "outputs": [
        {
          "output_type": "stream",
          "text": [
            "Python Programming Language\n",
            "Learn Python\n"
          ],
          "name": "stdout"
        }
      ]
    },
    {
      "cell_type": "code",
      "metadata": {
        "colab": {
          "base_uri": "https://localhost:8080/"
        },
        "id": "d9G8llsoaFMV",
        "outputId": "9fc14b8d-99e7-4ffb-d741-40a9186bbd07"
      },
      "source": [
        "def head(lst):\n",
        "    return lst[0]\n",
        "    \n",
        "def tail(lst):\n",
        "    return lst[len(lst) - 1]\n",
        "    \n",
        "lst = [1, 2, 3, 4, 5]\n",
        "print(head(lst)) # 1\n",
        "print(tail(lst)) # 5"
      ],
      "execution_count": 19,
      "outputs": [
        {
          "output_type": "stream",
          "text": [
            "1\n",
            "5\n"
          ],
          "name": "stdout"
        }
      ]
    },
    {
      "cell_type": "code",
      "metadata": {
        "colab": {
          "base_uri": "https://localhost:8080/"
        },
        "id": "MK28nGmIaHxr",
        "outputId": "bc4cad06-b1ed-402e-f821-ffcc10bf9659"
      },
      "source": [
        "import math\n",
        "\n",
        "def is_prime(n):\n",
        "    if n % 2 == 0 and n > 2: \n",
        "        return False\n",
        "    return all(n % i for i in range(3, int(math.sqrt(n)) + 1, 2))\n",
        "    \n",
        "print(is_prime(11))\n",
        "print(is_prime(4))"
      ],
      "execution_count": 21,
      "outputs": [
        {
          "output_type": "stream",
          "text": [
            "True\n",
            "False\n"
          ],
          "name": "stdout"
        }
      ]
    },
    {
      "cell_type": "code",
      "metadata": {
        "colab": {
          "base_uri": "https://localhost:8080/"
        },
        "id": "latENPP7aTlp",
        "outputId": "b9c1037d-2eb0-474e-dc3f-a2d9cabc821b"
      },
      "source": [
        "def initialize_list(end, start = 0, steps = 1):\n",
        "    return list(range(start, end + 1, steps))\n",
        "    \n",
        "print(initialize_list(5))\n",
        "print(initialize_list(7, 1))\n",
        "print(initialize_list(8, 1, 2))"
      ],
      "execution_count": 22,
      "outputs": [
        {
          "output_type": "stream",
          "text": [
            "[0, 1, 2, 3, 4, 5]\n",
            "[1, 2, 3, 4, 5, 6, 7]\n",
            "[1, 3, 5, 7]\n"
          ],
          "name": "stdout"
        }
      ]
    },
    {
      "cell_type": "code",
      "metadata": {
        "colab": {
          "base_uri": "https://localhost:8080/"
        },
        "id": "V1CZswz3abCC",
        "outputId": "1e782d04-bee0-42da-ecb7-39ea762b1150"
      },
      "source": [
        "def convertToBinary(num):\n",
        "    return bin(num)\n",
        "    \n",
        "print(convertToBinary(900))\n",
        "print(convertToBinary(300))"
      ],
      "execution_count": 23,
      "outputs": [
        {
          "output_type": "stream",
          "text": [
            "0b1110000100\n",
            "0b100101100\n"
          ],
          "name": "stdout"
        }
      ]
    },
    {
      "cell_type": "code",
      "metadata": {
        "colab": {
          "base_uri": "https://localhost:8080/"
        },
        "id": "upUVgLJAadox",
        "outputId": "9a6f483a-1aea-4231-ae96-807f066cbbd2"
      },
      "source": [
        "import re\n",
        "\n",
        "def WordToList(string, pattern = '[a-zA-Z-]+'):\n",
        "  return re.findall(pattern, string)\n",
        "  \n",
        "print(WordToList(\"Python\"))\n",
        "print(WordToList(\"Are you a Programmer?\"))"
      ],
      "execution_count": 24,
      "outputs": [
        {
          "output_type": "stream",
          "text": [
            "['Python']\n",
            "['Are', 'you', 'a', 'Programmer']\n"
          ],
          "name": "stdout"
        }
      ]
    },
    {
      "cell_type": "code",
      "metadata": {
        "colab": {
          "base_uri": "https://localhost:8080/"
        },
        "id": "nMfAqJ7PbF__",
        "outputId": "7f9bf6e9-d0a5-4d02-9d5f-430ac6553429"
      },
      "source": [
        "#example 1\n",
        "string = \"I'm a Programmer\"\n",
        "string = string.split()\n",
        "\n",
        "print(string) # [\"I'm\", 'a', 'Programmer']#example 2\n",
        "string = \"I'm a Programmer\"\n",
        "string = string.split(\"a\") # [\"I'm \", ' Progr', 'mmer']\n",
        "\n",
        "print(string)#example 3\n",
        "string = \"I'm\\na\\nProgrammer\"\n",
        "string = string.split(\"\\n\") # [\"I'm\", 'a', 'Programmer']\n",
        "\n",
        "print(string)"
      ],
      "execution_count": 25,
      "outputs": [
        {
          "output_type": "stream",
          "text": [
            "[\"I'm\", 'a', 'Programmer']\n",
            "[\"I'm \", ' Progr', 'mmer']\n",
            "[\"I'm\", 'a', 'Programmer']\n"
          ],
          "name": "stdout"
        }
      ]
    },
    {
      "cell_type": "code",
      "metadata": {
        "colab": {
          "base_uri": "https://localhost:8080/"
        },
        "id": "aqsjdC9dbMbG",
        "outputId": "cf51fc6e-1ccb-49ce-adb0-f40dfab9a3d9"
      },
      "source": [
        "# example 1\n",
        "s = \"Data\"\n",
        "\n",
        "N = s * 5\n",
        "print(N) # DataDataDataDataData\n",
        "\n",
        "#example 2\n",
        "s = \"Python\"\n",
        "N = s * 2 \n",
        "print(N) # PythonPython"
      ],
      "execution_count": 26,
      "outputs": [
        {
          "output_type": "stream",
          "text": [
            "DataDataDataDataData\n",
            "PythonPython\n"
          ],
          "name": "stdout"
        }
      ]
    },
    {
      "cell_type": "code",
      "metadata": {
        "colab": {
          "base_uri": "https://localhost:8080/"
        },
        "id": "eiPb3H8WbQ8t",
        "outputId": "f2957baa-7aed-40d4-8b83-879cb4d3972b"
      },
      "source": [
        "def flattenList(lst):\n",
        "    return [a for b in lst for a in b]\n",
        "    \n",
        "flattenList([[1,2,3], [4,5], [7,8]]) # [1, 2, 3, 4, 5, 7, 8]\n",
        "flattenList([[1,2,3], [8,9]]) # [1, 2, 3, 8, 9]"
      ],
      "execution_count": 27,
      "outputs": [
        {
          "output_type": "execute_result",
          "data": {
            "text/plain": [
              "[1, 2, 3, 8, 9]"
            ]
          },
          "metadata": {
            "tags": []
          },
          "execution_count": 27
        }
      ]
    }
  ]
}