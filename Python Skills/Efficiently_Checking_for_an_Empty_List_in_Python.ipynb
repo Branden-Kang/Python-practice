{
  "nbformat": 4,
  "nbformat_minor": 0,
  "metadata": {
    "colab": {
      "name": "Efficiently Checking for an Empty List in Python.ipynb",
      "provenance": [],
      "authorship_tag": "ABX9TyOnZVQZma09ZbnrrseOVyk1"
    },
    "kernelspec": {
      "name": "python3",
      "display_name": "Python 3"
    }
  },
  "cells": [
    {
      "cell_type": "markdown",
      "metadata": {
        "id": "sFNdqZJHH-JJ",
        "colab_type": "text"
      },
      "source": [
        "[Reference](https://medium.com/swlh/efficiently-checking-for-an-empty-list-in-python-76b76099fbd3)"
      ]
    },
    {
      "cell_type": "code",
      "metadata": {
        "id": "m2ftnWuCH7vU",
        "colab_type": "code",
        "colab": {}
      },
      "source": [
        "def explicit_list(a):\n",
        "  if a == []:\n",
        "    return True\n",
        "  return False\n",
        "def explicit_len(a):\n",
        "  if len(a) == 0:\n",
        "    return True\n",
        "  return False\n",
        "def implicit_bool(a):\n",
        "  if a:\n",
        "    return True\n",
        "  return False"
      ],
      "execution_count": 2,
      "outputs": []
    },
    {
      "cell_type": "code",
      "metadata": {
        "id": "jl8fDZ_IIBB3",
        "colab_type": "code",
        "colab": {}
      },
      "source": [
        "import dis"
      ],
      "execution_count": 3,
      "outputs": []
    },
    {
      "cell_type": "code",
      "metadata": {
        "id": "DmasGD1RINWF",
        "colab_type": "code",
        "colab": {}
      },
      "source": [
        "def explicit_list(a):\n",
        "  if a == []:\n",
        "    return True\n",
        "  return False"
      ],
      "execution_count": 4,
      "outputs": []
    },
    {
      "cell_type": "code",
      "metadata": {
        "id": "LSeyKHncIQOK",
        "colab_type": "code",
        "colab": {
          "base_uri": "https://localhost:8080/",
          "height": 187
        },
        "outputId": "d401236b-44dc-4c18-d774-2545aed65ccf"
      },
      "source": [
        "dis.dis(explicit_list)"
      ],
      "execution_count": 5,
      "outputs": [
        {
          "output_type": "stream",
          "text": [
            "  2           0 LOAD_FAST                0 (a)\n",
            "              2 BUILD_LIST               0\n",
            "              4 COMPARE_OP               2 (==)\n",
            "              6 POP_JUMP_IF_FALSE       12\n",
            "\n",
            "  3           8 LOAD_CONST               1 (True)\n",
            "             10 RETURN_VALUE\n",
            "\n",
            "  4     >>   12 LOAD_CONST               2 (False)\n",
            "             14 RETURN_VALUE\n"
          ],
          "name": "stdout"
        }
      ]
    }
  ]
}