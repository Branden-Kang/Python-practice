{
  "nbformat": 4,
  "nbformat_minor": 0,
  "metadata": {
    "colab": {
      "provenance": [],
      "authorship_tag": "ABX9TyNYEQTqV/tGxyN2ZIHC9sjf"
    },
    "kernelspec": {
      "name": "python3",
      "display_name": "Python 3"
    },
    "language_info": {
      "name": "python"
    }
  },
  "cells": [
    {
      "cell_type": "markdown",
      "source": [
        "[Reference](https://levelup.gitconnected.com/7-golden-python-packages-with-code-d730b22d5835)"
      ],
      "metadata": {
        "id": "_EluxxNcZzUr"
      }
    },
    {
      "cell_type": "markdown",
      "source": [
        "# 1. Word Cloud:"
      ],
      "metadata": {
        "id": "0iOdAVmMZ1QH"
      }
    },
    {
      "cell_type": "code",
      "execution_count": 1,
      "metadata": {
        "id": "FJSu0GtEZwpd"
      },
      "outputs": [],
      "source": [
        "# from wordcloud import WordCloud\n",
        "# import matplotlib.pyplot as plt\n",
        "# import csv\n",
        "\n",
        "# file1 = open(r\"sample.csv\")\n",
        "# reader = csv.reader(file1)\n",
        "# reader1 = list(reader)\n",
        "# text = \"\"\n",
        "\n",
        "# for row in reader1:\n",
        "#     for word in row:\n",
        "#         text = text + \" \" + word\n",
        "\n",
        "# wordcloud = WordCloud(width=500, height=500,max_words=50).generate(text)                    \n",
        "# plt.imshow(wordcloud, interpolation=\"bilinear\")\n",
        "# plt.axis(\"off\")\n",
        "# plt.show"
      ]
    },
    {
      "cell_type": "markdown",
      "source": [
        "# 2. Pywhatkit:"
      ],
      "metadata": {
        "id": "URI-or0lZ3sF"
      }
    },
    {
      "cell_type": "code",
      "source": [
        "pip install pywhatkit"
      ],
      "metadata": {
        "colab": {
          "base_uri": "https://localhost:8080/"
        },
        "id": "ETGks_NOZ8Kf",
        "outputId": "ba99f7f5-1000-42f8-90e6-3e4b4a9e59d5"
      },
      "execution_count": 3,
      "outputs": [
        {
          "output_type": "stream",
          "name": "stdout",
          "text": [
            "Looking in indexes: https://pypi.org/simple, https://us-python.pkg.dev/colab-wheels/public/simple/\n",
            "Collecting pywhatkit\n",
            "  Downloading pywhatkit-5.4-py3-none-any.whl (15 kB)\n",
            "Collecting wikipedia\n",
            "  Downloading wikipedia-1.4.0.tar.gz (27 kB)\n",
            "  Preparing metadata (setup.py) ... \u001b[?25l\u001b[?25hdone\n",
            "Requirement already satisfied: Flask in /usr/local/lib/python3.8/dist-packages (from pywhatkit) (1.1.4)\n",
            "Requirement already satisfied: requests in /usr/local/lib/python3.8/dist-packages (from pywhatkit) (2.25.1)\n",
            "Collecting pyautogui\n",
            "  Downloading PyAutoGUI-0.9.53.tar.gz (59 kB)\n",
            "\u001b[2K     \u001b[90m━━━━━━━━━━━━━━━━━━━━━━━━━━━━━━━━━━━━━━━━\u001b[0m \u001b[32m59.0/59.0 KB\u001b[0m \u001b[31m4.8 MB/s\u001b[0m eta \u001b[36m0:00:00\u001b[0m\n",
            "\u001b[?25h  Preparing metadata (setup.py) ... \u001b[?25l\u001b[?25hdone\n",
            "Requirement already satisfied: Pillow in /usr/local/lib/python3.8/dist-packages (from pywhatkit) (7.1.2)\n",
            "Requirement already satisfied: click<8.0,>=5.1 in /usr/local/lib/python3.8/dist-packages (from Flask->pywhatkit) (7.1.2)\n",
            "Requirement already satisfied: itsdangerous<2.0,>=0.24 in /usr/local/lib/python3.8/dist-packages (from Flask->pywhatkit) (1.1.0)\n",
            "Requirement already satisfied: Werkzeug<2.0,>=0.15 in /usr/local/lib/python3.8/dist-packages (from Flask->pywhatkit) (1.0.1)\n",
            "Requirement already satisfied: Jinja2<3.0,>=2.10.1 in /usr/local/lib/python3.8/dist-packages (from Flask->pywhatkit) (2.11.3)\n",
            "Collecting pymsgbox\n",
            "  Downloading PyMsgBox-1.0.9.tar.gz (18 kB)\n",
            "  Installing build dependencies ... \u001b[?25l\u001b[?25hdone\n",
            "  Getting requirements to build wheel ... \u001b[?25l\u001b[?25hdone\n",
            "  Preparing metadata (pyproject.toml) ... \u001b[?25l\u001b[?25hdone\n",
            "Collecting PyTweening>=1.0.1\n",
            "  Downloading pytweening-1.0.4.tar.gz (14 kB)\n",
            "  Preparing metadata (setup.py) ... \u001b[?25l\u001b[?25hdone\n",
            "Collecting pyscreeze>=0.1.21\n",
            "  Downloading PyScreeze-0.1.28.tar.gz (25 kB)\n",
            "  Installing build dependencies ... \u001b[?25l\u001b[?25hdone\n",
            "  Getting requirements to build wheel ... \u001b[?25l\u001b[?25hdone\n",
            "  Preparing metadata (pyproject.toml) ... \u001b[?25l\u001b[?25hdone\n",
            "Collecting pygetwindow>=0.0.5\n",
            "  Downloading PyGetWindow-0.0.9.tar.gz (9.7 kB)\n",
            "  Preparing metadata (setup.py) ... \u001b[?25l\u001b[?25hdone\n",
            "Collecting mouseinfo\n",
            "  Downloading MouseInfo-0.1.3.tar.gz (10 kB)\n",
            "  Preparing metadata (setup.py) ... \u001b[?25l\u001b[?25hdone\n",
            "Collecting python3-Xlib\n",
            "  Downloading python3-xlib-0.15.tar.gz (132 kB)\n",
            "\u001b[2K     \u001b[90m━━━━━━━━━━━━━━━━━━━━━━━━━━━━━━━━━━━━━━\u001b[0m \u001b[32m132.8/132.8 KB\u001b[0m \u001b[31m20.0 MB/s\u001b[0m eta \u001b[36m0:00:00\u001b[0m\n",
            "\u001b[?25h  Preparing metadata (setup.py) ... \u001b[?25l\u001b[?25hdone\n",
            "Requirement already satisfied: certifi>=2017.4.17 in /usr/local/lib/python3.8/dist-packages (from requests->pywhatkit) (2022.12.7)\n",
            "Requirement already satisfied: chardet<5,>=3.0.2 in /usr/local/lib/python3.8/dist-packages (from requests->pywhatkit) (4.0.0)\n",
            "Requirement already satisfied: urllib3<1.27,>=1.21.1 in /usr/local/lib/python3.8/dist-packages (from requests->pywhatkit) (1.24.3)\n",
            "Requirement already satisfied: idna<3,>=2.5 in /usr/local/lib/python3.8/dist-packages (from requests->pywhatkit) (2.10)\n",
            "Requirement already satisfied: beautifulsoup4 in /usr/local/lib/python3.8/dist-packages (from wikipedia->pywhatkit) (4.6.3)\n",
            "Requirement already satisfied: MarkupSafe>=0.23 in /usr/local/lib/python3.8/dist-packages (from Jinja2<3.0,>=2.10.1->Flask->pywhatkit) (2.0.1)\n",
            "Collecting pyrect\n",
            "  Downloading PyRect-0.2.0.tar.gz (17 kB)\n",
            "  Preparing metadata (setup.py) ... \u001b[?25l\u001b[?25hdone\n",
            "Collecting pyperclip\n",
            "  Downloading pyperclip-1.8.2.tar.gz (20 kB)\n",
            "  Preparing metadata (setup.py) ... \u001b[?25l\u001b[?25hdone\n",
            "Building wheels for collected packages: pyautogui, wikipedia, pygetwindow, pyscreeze, PyTweening, mouseinfo, pymsgbox, python3-Xlib, pyperclip, pyrect\n",
            "  Building wheel for pyautogui (setup.py) ... \u001b[?25l\u001b[?25hdone\n",
            "  Created wheel for pyautogui: filename=PyAutoGUI-0.9.53-py3-none-any.whl size=36614 sha256=ce2179f02c50c08d6c18b509d4e7e920f1803fbe7a4f5bd99a5923e6b40c2e44\n",
            "  Stored in directory: /root/.cache/pip/wheels/54/04/f7/55704a9d374ed923785a4fdc0ef00151fa25306b3b93345532\n",
            "  Building wheel for wikipedia (setup.py) ... \u001b[?25l\u001b[?25hdone\n",
            "  Created wheel for wikipedia: filename=wikipedia-1.4.0-py3-none-any.whl size=11695 sha256=1cac0c4076c31cf86c24c7c87744d5b00dc52fcc0dd0ca02be8ce9c74bd324e2\n",
            "  Stored in directory: /root/.cache/pip/wheels/07/93/05/72c05349177dca2e0ba31a33ba4f7907606f7ddef303517c6a\n",
            "  Building wheel for pygetwindow (setup.py) ... \u001b[?25l\u001b[?25hdone\n",
            "  Created wheel for pygetwindow: filename=PyGetWindow-0.0.9-py3-none-any.whl size=11080 sha256=5a1c6b3aa0c1c7d3a269ec95a3bae72f2ce9209d014068e17712d4255add053f\n",
            "  Stored in directory: /root/.cache/pip/wheels/91/e3/04/184bda98ec7f7d5f0ba1f372bcf7b3ba86325151ae1dd690fe\n",
            "  Building wheel for pyscreeze (pyproject.toml) ... \u001b[?25l\u001b[?25hdone\n",
            "  Created wheel for pyscreeze: filename=PyScreeze-0.1.28-py3-none-any.whl size=13024 sha256=051518739878b80c2b4415693817ccd54215c07e373d8f6c32c5b603361b70de\n",
            "  Stored in directory: /root/.cache/pip/wheels/b1/b0/5c/9fb5beb2d6c708479a670e92f4ab3b54523a15c9cd4a46e24e\n",
            "  Building wheel for PyTweening (setup.py) ... \u001b[?25l\u001b[?25hdone\n",
            "  Created wheel for PyTweening: filename=pytweening-1.0.4-py3-none-any.whl size=5853 sha256=1ada769f768483c4dd6cc24a184815dc9b83038db1e67cf3479aa1641d264b4f\n",
            "  Stored in directory: /root/.cache/pip/wheels/a2/1b/69/dc477653ccc19228bf53af76c623e4e82e5dc1b6f78d5c4d35\n",
            "  Building wheel for mouseinfo (setup.py) ... \u001b[?25l\u001b[?25hdone\n",
            "  Created wheel for mouseinfo: filename=MouseInfo-0.1.3-py3-none-any.whl size=10906 sha256=24d6bab723fa498bc6163e029b8245c6d6b107b08566875c85123d60feceff15\n",
            "  Stored in directory: /root/.cache/pip/wheels/d1/72/fb/35f403de66285df8ecca7049bcc61bfb57aba0f76d1f08f7eb\n",
            "  Building wheel for pymsgbox (pyproject.toml) ... \u001b[?25l\u001b[?25hdone\n",
            "  Created wheel for pymsgbox: filename=PyMsgBox-1.0.9-py3-none-any.whl size=7420 sha256=1d1895814fa1340006365504dba63124d6ebd335360be03c6e1ab3649ae0dd69\n",
            "  Stored in directory: /root/.cache/pip/wheels/91/28/0d/f4eb606d38276836237d6dc2abf094241e6db5682a126e0389\n",
            "  Building wheel for python3-Xlib (setup.py) ... \u001b[?25l\u001b[?25hdone\n",
            "  Created wheel for python3-Xlib: filename=python3_xlib-0.15-py3-none-any.whl size=109516 sha256=2b1e0ee791c5270daca135e6f96bae3857fb7f39e16411ac0b03cfb8ae120d8e\n",
            "  Stored in directory: /root/.cache/pip/wheels/46/4e/a7/90774eeed70e4e93598bf4cbb1ef00c56e6bdc0fb99cc4215d\n",
            "  Building wheel for pyperclip (setup.py) ... \u001b[?25l\u001b[?25hdone\n",
            "  Created wheel for pyperclip: filename=pyperclip-1.8.2-py3-none-any.whl size=11136 sha256=62f631cbe3aee571abfa53f9bae58cabe41669874f550dfd20fc0d13c18ed191\n",
            "  Stored in directory: /root/.cache/pip/wheels/7f/1a/65/84ff8c386bec21fca6d220ea1f5498a0367883a78dd5ba6122\n",
            "  Building wheel for pyrect (setup.py) ... \u001b[?25l\u001b[?25hdone\n",
            "  Created wheel for pyrect: filename=PyRect-0.2.0-py2.py3-none-any.whl size=11196 sha256=7beced011d66524cd7b122689255e6b5dda5a7f79786021853e942273efd745e\n",
            "  Stored in directory: /root/.cache/pip/wheels/1b/c1/cc/3d6515746ab138a303b6b5d38181399703488f8109b734e768\n",
            "Successfully built pyautogui wikipedia pygetwindow pyscreeze PyTweening mouseinfo pymsgbox python3-Xlib pyperclip pyrect\n",
            "Installing collected packages: PyTweening, python3-Xlib, pyrect, pyperclip, pymsgbox, pyscreeze, pygetwindow, mouseinfo, wikipedia, pyautogui, pywhatkit\n",
            "Successfully installed PyTweening-1.0.4 mouseinfo-0.1.3 pyautogui-0.9.53 pygetwindow-0.0.9 pymsgbox-1.0.9 pyperclip-1.8.2 pyrect-0.2.0 pyscreeze-0.1.28 python3-Xlib-0.15 pywhatkit-5.4 wikipedia-1.4.0\n"
          ]
        }
      ]
    },
    {
      "cell_type": "code",
      "source": [
        "# import pywhatkit\n",
        "# pywhatkit.text_to_handwriting('''PyWhatKit is a Python library with various helpful features.\n",
        "# It's easy-to-use and does not require you to do any additional setup.\n",
        "# some of the oops concepts.Python program has many modulesand packages,\n",
        "# Understanding these modules and 1proper usage of many syntax and libraries is recommended.\n",
        "# In this article, a few modules and packages are used in the program. \n",
        "# Python includes tons of libraries and some of them are quiet intresting''')"
      ],
      "metadata": {
        "id": "_6H7RYT4Z2qb"
      },
      "execution_count": 6,
      "outputs": []
    },
    {
      "cell_type": "markdown",
      "source": [
        "# 3. Pyfiglet:"
      ],
      "metadata": {
        "id": "1MhiW_QFZ60p"
      }
    },
    {
      "cell_type": "code",
      "source": [
        "pip install pyfiglet   "
      ],
      "metadata": {
        "colab": {
          "base_uri": "https://localhost:8080/"
        },
        "id": "vYZFRojEZ-7D",
        "outputId": "815bdcfb-dd7e-4c65-bec1-a27e50337863"
      },
      "execution_count": 7,
      "outputs": [
        {
          "output_type": "stream",
          "name": "stdout",
          "text": [
            "Looking in indexes: https://pypi.org/simple, https://us-python.pkg.dev/colab-wheels/public/simple/\n",
            "Collecting pyfiglet\n",
            "  Downloading pyfiglet-0.8.post1-py2.py3-none-any.whl (865 kB)\n",
            "\u001b[2K     \u001b[90m━━━━━━━━━━━━━━━━━━━━━━━━━━━━━━━━━━━━━━\u001b[0m \u001b[32m865.8/865.8 KB\u001b[0m \u001b[31m23.3 MB/s\u001b[0m eta \u001b[36m0:00:00\u001b[0m\n",
            "\u001b[?25hInstalling collected packages: pyfiglet\n",
            "Successfully installed pyfiglet-0.8.post1\n"
          ]
        }
      ]
    },
    {
      "cell_type": "code",
      "source": [
        "import pyfiglet\n",
        "result = pyfiglet.figlet_format(\"M E D I U M\", font=\"larry3d\")          \n",
        "print(result)                      "
      ],
      "metadata": {
        "colab": {
          "base_uri": "https://localhost:8080/"
        },
        "id": "jrkzFy_tZ5U8",
        "outputId": "5f3825c2-56b4-4c3e-ed1e-1c0984cc505d"
      },
      "execution_count": 8,
      "outputs": [
        {
          "output_type": "stream",
          "name": "stdout",
          "text": [
            "             ____        ____        ______      __  __                  \n",
            " /'\\_/`\\    /\\  _`\\     /\\  _`\\     /\\__  _\\    /\\ \\/\\ \\      /'\\_/`\\    \n",
            "/\\      \\   \\ \\ \\L\\_\\   \\ \\ \\/\\ \\   \\/_/\\ \\/    \\ \\ \\ \\ \\    /\\      \\   \n",
            "\\ \\ \\__\\ \\   \\ \\  _\\L    \\ \\ \\ \\ \\     \\ \\ \\     \\ \\ \\ \\ \\   \\ \\ \\__\\ \\  \n",
            " \\ \\ \\_/\\ \\   \\ \\ \\L\\ \\   \\ \\ \\_\\ \\     \\_\\ \\__   \\ \\ \\_\\ \\   \\ \\ \\_/\\ \\ \n",
            "  \\ \\_\\\\ \\_\\   \\ \\____/    \\ \\____/     /\\_____\\   \\ \\_____\\   \\ \\_\\\\ \\_\\\n",
            "   \\/_/ \\/_/    \\/___/      \\/___/      \\/_____/    \\/_____/    \\/_/ \\/_/\n",
            "                                                                         \n",
            "                                                                         \n",
            "\n"
          ]
        }
      ]
    },
    {
      "cell_type": "markdown",
      "source": [
        "# 4. Folium:"
      ],
      "metadata": {
        "id": "rLJAX1_KaAGl"
      }
    },
    {
      "cell_type": "code",
      "source": [
        "import folium\n",
        "map = folium.Map(location=[45.5, -122.3], zoom_start=14)                       \n",
        "map.save('map.html')"
      ],
      "metadata": {
        "id": "SSwDCam-Z_Ex"
      },
      "execution_count": 9,
      "outputs": []
    },
    {
      "cell_type": "markdown",
      "source": [
        "# 5. Pendulum:"
      ],
      "metadata": {
        "id": "qurx7Sn3aDfw"
      }
    },
    {
      "cell_type": "code",
      "source": [
        "pip install pendulum"
      ],
      "metadata": {
        "colab": {
          "base_uri": "https://localhost:8080/"
        },
        "id": "oETUbTlAaHu-",
        "outputId": "01f0da44-d183-4175-9006-e760df29e86a"
      },
      "execution_count": 11,
      "outputs": [
        {
          "output_type": "stream",
          "name": "stdout",
          "text": [
            "Looking in indexes: https://pypi.org/simple, https://us-python.pkg.dev/colab-wheels/public/simple/\n",
            "Collecting pendulum\n",
            "  Downloading pendulum-2.1.2-cp38-cp38-manylinux1_x86_64.whl (155 kB)\n",
            "\u001b[2K     \u001b[90m━━━━━━━━━━━━━━━━━━━━━━━━━━━━━━━━━━━━━━━\u001b[0m \u001b[32m155.7/155.7 KB\u001b[0m \u001b[31m9.1 MB/s\u001b[0m eta \u001b[36m0:00:00\u001b[0m\n",
            "\u001b[?25hRequirement already satisfied: python-dateutil<3.0,>=2.6 in /usr/local/lib/python3.8/dist-packages (from pendulum) (2.8.2)\n",
            "Collecting pytzdata>=2020.1\n",
            "  Downloading pytzdata-2020.1-py2.py3-none-any.whl (489 kB)\n",
            "\u001b[2K     \u001b[90m━━━━━━━━━━━━━━━━━━━━━━━━━━━━━━━━━━━━━━\u001b[0m \u001b[32m490.0/490.0 KB\u001b[0m \u001b[31m35.3 MB/s\u001b[0m eta \u001b[36m0:00:00\u001b[0m\n",
            "\u001b[?25hRequirement already satisfied: six>=1.5 in /usr/local/lib/python3.8/dist-packages (from python-dateutil<3.0,>=2.6->pendulum) (1.15.0)\n",
            "Installing collected packages: pytzdata, pendulum\n",
            "Successfully installed pendulum-2.1.2 pytzdata-2020.1\n"
          ]
        }
      ]
    },
    {
      "cell_type": "code",
      "source": [
        "import pendulum\n",
        "time1 = pendulum.datetime(2012, 1, 1, tz='Europe/Paris')\n",
        "time2 = pendulum.datetime(2012, 1, 1, tz='America/Vancouver')\n",
        "print(time2.diff(time1).in_hours())\n",
        "\n",
        "now = pendulum.now()\n",
        "print(now)\n",
        "\n",
        "today = pendulum.today()\n",
        "print(today)                                                                           "
      ],
      "metadata": {
        "colab": {
          "base_uri": "https://localhost:8080/"
        },
        "id": "6ThrVPMDaCIj",
        "outputId": "0ca347f3-1b43-4c64-96c7-3866452034c7"
      },
      "execution_count": 12,
      "outputs": [
        {
          "output_type": "stream",
          "name": "stdout",
          "text": [
            "9\n",
            "2023-01-18T15:04:03.998642+00:00\n",
            "2023-01-18T00:00:00+00:00\n"
          ]
        }
      ]
    },
    {
      "cell_type": "markdown",
      "source": [
        "# 6. Bokeh:"
      ],
      "metadata": {
        "id": "4ZjgqsJraJb8"
      }
    },
    {
      "cell_type": "code",
      "source": [
        "from bokeh.plotting import figure\n",
        "from bokeh.io import show\n",
        "plot = figure()\n",
        "plot.circle([1,2,3], [4,5,6], size=25)\n",
        "show(plot)                                                               "
      ],
      "metadata": {
        "id": "dOgWkUUqaEhP"
      },
      "execution_count": 13,
      "outputs": []
    },
    {
      "cell_type": "markdown",
      "source": [
        "# 7. PSUTIL:"
      ],
      "metadata": {
        "id": "PzTqDSLjaLi7"
      }
    },
    {
      "cell_type": "code",
      "source": [
        "pip install psutil"
      ],
      "metadata": {
        "colab": {
          "base_uri": "https://localhost:8080/"
        },
        "id": "mlB18DFZaKfQ",
        "outputId": "192ea3dc-4075-43b9-c76a-0c70f7d5efe7"
      },
      "execution_count": 14,
      "outputs": [
        {
          "output_type": "stream",
          "name": "stdout",
          "text": [
            "Looking in indexes: https://pypi.org/simple, https://us-python.pkg.dev/colab-wheels/public/simple/\n",
            "Requirement already satisfied: psutil in /usr/local/lib/python3.8/dist-packages (5.4.8)\n"
          ]
        }
      ]
    },
    {
      "cell_type": "code",
      "source": [
        "import psutil\n",
        "print(psutil.virtual_memory())\n",
        "print(\"-----------------------------------------------------------------\")\n",
        "print(psutil.disk_partitions())\n",
        "print(\"-----------------------------------------------------------------\")\n",
        "print(psutil.virtual_memory())"
      ],
      "metadata": {
        "colab": {
          "base_uri": "https://localhost:8080/"
        },
        "id": "DwW1mWuEaMkv",
        "outputId": "a54d32cc-0c5f-404b-b581-7aa901499d0b"
      },
      "execution_count": 15,
      "outputs": [
        {
          "output_type": "stream",
          "name": "stdout",
          "text": [
            "svmem(total=13616332800, available=12671651840, percent=6.9, used=644079616, free=8657469440, active=567586816, inactive=4162564096, buffers=346619904, cached=3968163840, shared=1236992, slab=156340224)\n",
            "-----------------------------------------------------------------\n",
            "[sdiskpart(device='/dev/root', mountpoint='/usr/sbin/docker-init', fstype='ext2', opts='ro,relatime'), sdiskpart(device='/dev/sda1', mountpoint='/etc/resolv.conf', fstype='ext4', opts='rw,nosuid,nodev,relatime,commit=30'), sdiskpart(device='/dev/sda1', mountpoint='/etc/hostname', fstype='ext4', opts='rw,nosuid,nodev,relatime,commit=30'), sdiskpart(device='/dev/sda1', mountpoint='/etc/hosts', fstype='ext4', opts='rw,nosuid,nodev,relatime,commit=30')]\n",
            "-----------------------------------------------------------------\n",
            "svmem(total=13616332800, available=12671651840, percent=6.9, used=644079616, free=8657469440, active=567586816, inactive=4162564096, buffers=346619904, cached=3968163840, shared=1236992, slab=156340224)\n"
          ]
        }
      ]
    }
  ]
}
