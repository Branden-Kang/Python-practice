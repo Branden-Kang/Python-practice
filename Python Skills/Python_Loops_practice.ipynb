{
  "nbformat": 4,
  "nbformat_minor": 0,
  "metadata": {
    "colab": {
      "name": "Python Loops practice.ipynb",
      "provenance": [],
      "authorship_tag": "ABX9TyOojA0EyJbhiD2ro9KgJoZh"
    },
    "kernelspec": {
      "name": "python3",
      "display_name": "Python 3"
    },
    "language_info": {
      "name": "python"
    }
  },
  "cells": [
    {
      "cell_type": "markdown",
      "metadata": {
        "id": "qSRD-sRgCE3A"
      },
      "source": [
        "[Reference](https://fullcupofcoding.medium.com/python-loops-bd7bc2ca2aaa)"
      ]
    },
    {
      "cell_type": "code",
      "metadata": {
        "colab": {
          "base_uri": "https://localhost:8080/"
        },
        "id": "v-NHrM099wh9",
        "outputId": "18214c4b-5004-4400-f5f7-15811adbda4d"
      },
      "source": [
        "fruits = [\"Apple\", \"Peach\", \"Cherry\"]\n",
        "for fruit in fruits:\n",
        "    print(fruit + \" pie\")"
      ],
      "execution_count": 1,
      "outputs": [
        {
          "output_type": "stream",
          "text": [
            "Apple pie\n",
            "Peach pie\n",
            "Cherry pie\n"
          ],
          "name": "stdout"
        }
      ]
    },
    {
      "cell_type": "code",
      "metadata": {
        "colab": {
          "base_uri": "https://localhost:8080/"
        },
        "id": "yor7AqFHCG5F",
        "outputId": "c981740f-9597-43f0-9f3a-2fb60ef60600"
      },
      "source": [
        "for number in range(1, 10):\n",
        "    print(number)"
      ],
      "execution_count": 3,
      "outputs": [
        {
          "output_type": "stream",
          "text": [
            "1\n",
            "2\n",
            "3\n",
            "4\n",
            "5\n",
            "6\n",
            "7\n",
            "8\n",
            "9\n"
          ],
          "name": "stdout"
        }
      ]
    },
    {
      "cell_type": "code",
      "metadata": {
        "colab": {
          "base_uri": "https://localhost:8080/"
        },
        "id": "pJ7lI67qCWiM",
        "outputId": "670d4663-23f3-4ac1-b1dc-ebec5424fbf5"
      },
      "source": [
        "for number in range(1, 10, 3):\n",
        "    print(number)"
      ],
      "execution_count": 4,
      "outputs": [
        {
          "output_type": "stream",
          "text": [
            "1\n",
            "4\n",
            "7\n"
          ],
          "name": "stdout"
        }
      ]
    },
    {
      "cell_type": "code",
      "metadata": {
        "colab": {
          "base_uri": "https://localhost:8080/"
        },
        "id": "6s14Y0DECyx0",
        "outputId": "4bdd933b-d99d-4387-cb4a-acba89e2009f"
      },
      "source": [
        "#Password Generator Project\n",
        "import random\n",
        "letters = ['a', 'b', 'c', 'd', 'e', 'f', 'g', 'h', 'i', 'j', 'k', 'l', 'm', 'n', 'o', 'p', 'q', 'r', 's', 't', 'u', 'v', 'w', 'x', 'y', 'z', 'A', 'B', 'C', 'D', 'E', 'F', 'G', 'H', 'I', 'J', 'K', 'L', 'M', 'N', 'O', 'P', 'Q', 'R', 'S', 'T', 'U', 'V', 'W', 'X', 'Y', 'Z']\n",
        "numbers = ['0', '1', '2', '3', '4', '5', '6', '7', '8', '9']\n",
        "symbols = ['!', '#', '$', '%', '&', '(', ')', '*', '+']\n",
        "\n",
        "print(\"Welcome to the PyPassword Generator!\")\n",
        "nr_letters= int(input(\"How many letters would you like in your password?\\n\")) \n",
        "nr_symbols = int(input(f\"How many symbols would you like?\\n\"))\n",
        "nr_numbers = int(input(f\"How many numbers would you like?\\n\"))\n",
        "\n",
        "#Eazy Level - Order not randomised:\n",
        "#e.g. 4 letter, 2 symbol, 2 number = JduE&!91\n",
        "password = \"\"\n",
        "for char in range(1, nr_letters + 1):\n",
        "    password += random.choice(letters)\n",
        "for char in range(1, nr_symbols + 1):\n",
        "    password += random.choice(symbols)\n",
        "for char in range(1, nr_numbers + 1):\n",
        "    password += random.choice(numbers)\n",
        "\n",
        "print(\"Easy Level: \" + password)\n",
        "\n",
        "#Hard Level - Order of characters randomised:\n",
        "#e.g. 4 letter, 2 symbol, 2 number = g^2jk8&P\n",
        "password_list = []\n",
        "for char in range(1, nr_letters + 1):\n",
        "    password_list.append(random.choice(letters))\n",
        "for char in range(1, nr_symbols + 1):\n",
        "    password_list.append(random.choice(symbols))\n",
        "for char in range(1, nr_numbers + 1):\n",
        "    password_list.append(random.choice(numbers))\n",
        "random.shuffle(password_list)\n",
        "password = \"\"\n",
        "for char in password_list:\n",
        "    password += char\n",
        "print(\"Hard Level: \" + password)"
      ],
      "execution_count": 6,
      "outputs": [
        {
          "output_type": "stream",
          "text": [
            "Welcome to the PyPassword Generator!\n",
            "How many letters would you like in your password?\n",
            "10\n",
            "How many symbols would you like?\n",
            "5\n",
            "How many numbers would you like?\n",
            "3\n",
            "Easy Level: BEHKCdTZHD*&(%+055\n",
            "Hard Level: crMojC!Ew6$n$4%)w9\n"
          ],
          "name": "stdout"
        }
      ]
    }
  ]
}