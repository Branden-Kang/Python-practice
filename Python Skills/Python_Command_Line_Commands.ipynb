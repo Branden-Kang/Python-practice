{
  "nbformat": 4,
  "nbformat_minor": 0,
  "metadata": {
    "colab": {
      "provenance": [],
      "authorship_tag": "ABX9TyN4f5OgEC4FftWMaZS4iU1j"
    },
    "kernelspec": {
      "name": "python3",
      "display_name": "Python 3"
    },
    "language_info": {
      "name": "python"
    }
  },
  "cells": [
    {
      "cell_type": "markdown",
      "source": [
        "[Reference](https://python.plainenglish.io/python-command-line-commands-4dd84933d0e3)"
      ],
      "metadata": {
        "id": "jo5GaGdlJHtY"
      }
    },
    {
      "cell_type": "markdown",
      "source": [
        "# Command-Line Arguments"
      ],
      "metadata": {
        "id": "xOsjBSskJRWS"
      }
    },
    {
      "cell_type": "code",
      "execution_count": 1,
      "metadata": {
        "id": "fNdGY0ISJEQH"
      },
      "outputs": [],
      "source": [
        "import argparse\n",
        "\n",
        "def main():\n",
        "    parser = argparse.ArgumentParser(description='A simple command-line argument example')\n",
        "    parser.add_argument('--input', required=True, help='Input file path')\n",
        "    parser.add_argument('--output', required=True, help='Output file path')\n",
        "    args = parser.parse_args()\n",
        "\n",
        "    # Access the arguments\n",
        "    input_file = args.input\n",
        "    output_file = args.output\n",
        "\n",
        "if __name__ == '__main__':\n",
        "    main()"
      ]
    },
    {
      "cell_type": "code",
      "source": [
        "python my_script.py --input input.txt --output output.txt"
      ],
      "metadata": {
        "id": "bgMOOEA5JLPo"
      },
      "execution_count": 2,
      "outputs": []
    },
    {
      "cell_type": "markdown",
      "source": [
        "# External Commands"
      ],
      "metadata": {
        "id": "CtJdkNDPJOW4"
      }
    },
    {
      "cell_type": "code",
      "source": [
        "import subprocess\n",
        "\n",
        "def run_command(command):\n",
        "    result = subprocess.run(command, shell=True, capture_output=True, text=True)\n",
        "    return result.stdout\n",
        "\n",
        "if __name__ == '__main__':\n",
        "    output = run_command('ls -l')\n",
        "    print(output)"
      ],
      "metadata": {
        "id": "dzanlb44JNpg"
      },
      "execution_count": 3,
      "outputs": []
    }
  ]
}
