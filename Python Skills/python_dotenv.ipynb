{
  "nbformat": 4,
  "nbformat_minor": 0,
  "metadata": {
    "colab": {
      "name": "python-dotenv.ipynb",
      "provenance": [],
      "authorship_tag": "ABX9TyO1FXJ0eonUPPbClN/IPPSF"
    },
    "kernelspec": {
      "name": "python3",
      "display_name": "Python 3"
    }
  },
  "cells": [
    {
      "cell_type": "code",
      "metadata": {
        "colab": {
          "base_uri": "https://localhost:8080/"
        },
        "id": "x4mbU6ZPeWwO",
        "outputId": "8e3e6c98-7081-41b2-e6c2-5a82f747e3dd"
      },
      "source": [
        "pip install python-dotenv"
      ],
      "execution_count": 1,
      "outputs": [
        {
          "output_type": "stream",
          "text": [
            "Collecting python-dotenv\n",
            "  Downloading https://files.pythonhosted.org/packages/32/2e/e4585559237787966aad0f8fd0fc31df1c4c9eb0e62de458c5b6cde954eb/python_dotenv-0.15.0-py2.py3-none-any.whl\n",
            "Installing collected packages: python-dotenv\n",
            "Successfully installed python-dotenv-0.15.0\n"
          ],
          "name": "stdout"
        }
      ]
    },
    {
      "cell_type": "code",
      "metadata": {
        "id": "o0Tk4nfieb6V"
      },
      "source": [
        "from dotenv import load_dotenv\n",
        "import os"
      ],
      "execution_count": 2,
      "outputs": []
    },
    {
      "cell_type": "code",
      "metadata": {
        "colab": {
          "base_uri": "https://localhost:8080/"
        },
        "id": "vzwGW9SZgeAQ",
        "outputId": "60322f39-0325-4efe-e1fb-9ed63afc497f"
      },
      "source": [
        "import os\n",
        "from google.colab import drive\n",
        "drive.mount('/content/gdrive',force_remount=True)\n",
        "os.chdir('gdrive/My Drive/Medium')\n",
        "!pwd"
      ],
      "execution_count": 3,
      "outputs": [
        {
          "output_type": "stream",
          "text": [
            "Mounted at /content/gdrive\n",
            "/content/gdrive/My Drive/Medium\n"
          ],
          "name": "stdout"
        }
      ]
    },
    {
      "cell_type": "code",
      "metadata": {
        "id": "1z8p-mzNiWJX"
      },
      "source": [
        "from pathlib import Path  # Python 3.6+ only\n",
        "env_path = Path('.') / '.env'"
      ],
      "execution_count": 6,
      "outputs": []
    },
    {
      "cell_type": "code",
      "metadata": {
        "colab": {
          "base_uri": "https://localhost:8080/"
        },
        "id": "ottwnTruiXK5",
        "outputId": "7f358605-614d-4dba-e91e-89ca198c3477"
      },
      "source": [
        "env_path "
      ],
      "execution_count": 7,
      "outputs": [
        {
          "output_type": "execute_result",
          "data": {
            "text/plain": [
              "PosixPath('.env')"
            ]
          },
          "metadata": {
            "tags": []
          },
          "execution_count": 7
        }
      ]
    },
    {
      "cell_type": "code",
      "metadata": {
        "colab": {
          "base_uri": "https://localhost:8080/"
        },
        "id": "xOcnVAEcnMOS",
        "outputId": "9c2d6eee-7daf-4762-ab8d-689cee4848d2"
      },
      "source": [
        "from dotenv import dotenv_values\n",
        "config = dotenv_values(\"test.env\") \n",
        "print(config['USERNAME'])\n",
        "print(config['PASSWORD'])"
      ],
      "execution_count": 16,
      "outputs": [
        {
          "output_type": "stream",
          "text": [
            "branden\n",
            "1234\n"
          ],
          "name": "stdout"
        }
      ]
    },
    {
      "cell_type": "code",
      "metadata": {
        "colab": {
          "base_uri": "https://localhost:8080/"
        },
        "id": "XBOB-OFrnlKt",
        "outputId": "73b1e900-155d-40ab-ba20-5d287bfc31a1"
      },
      "source": [
        "!pwd"
      ],
      "execution_count": 14,
      "outputs": [
        {
          "output_type": "stream",
          "text": [
            "/content/gdrive/My Drive/Medium\n"
          ],
          "name": "stdout"
        }
      ]
    },
    {
      "cell_type": "code",
      "metadata": {
        "colab": {
          "base_uri": "https://localhost:8080/"
        },
        "id": "Utgy3wvZefuo",
        "outputId": "9d988cf7-409b-4000-e8c6-e96a027f8abe"
      },
      "source": [
        "load_dotenv(dotenv_path='./test.env',verbose=True)\n",
        "USERNAME = os.getenv('USERNAME')\n",
        "PASSWORD = os.getenv('PASSWORD')\n",
        "print(USERNAME)\n",
        "print(PASSWORD)"
      ],
      "execution_count": 15,
      "outputs": [
        {
          "output_type": "stream",
          "text": [
            "branden\n",
            "1234\n"
          ],
          "name": "stdout"
        }
      ]
    }
  ]
}