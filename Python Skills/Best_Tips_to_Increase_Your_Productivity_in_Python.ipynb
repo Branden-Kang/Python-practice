{
  "nbformat": 4,
  "nbformat_minor": 0,
  "metadata": {
    "colab": {
      "name": "Best Tips to Increase Your Productivity in Python.ipynb",
      "provenance": [],
      "authorship_tag": "ABX9TyPchLosq3tUi+0Tx5+L8vVH"
    },
    "kernelspec": {
      "name": "python3",
      "display_name": "Python 3"
    },
    "language_info": {
      "name": "python"
    }
  },
  "cells": [
    {
      "cell_type": "markdown",
      "source": [
        "[Reference](https://medium.com/@pranjalgoyal13/best-tips-to-increase-your-productivity-in-python-856fb038a676)"
      ],
      "metadata": {
        "id": "ZtLkfRSMR7ae"
      }
    },
    {
      "cell_type": "code",
      "execution_count": 1,
      "metadata": {
        "colab": {
          "base_uri": "https://localhost:8080/"
        },
        "id": "JtMx-zdCR6Ip",
        "outputId": "727791b3-94fa-40a2-a48d-66381c28e739"
      },
      "outputs": [
        {
          "output_type": "stream",
          "name": "stdout",
          "text": [
            "['Sam', 'Billy', 'John', 'Lucas']\n"
          ]
        }
      ],
      "source": [
        "students = ['Sam', 'Billy', 'John', 'Lucas']\n",
        "new_students = []\n",
        "\n",
        "for student in students:\n",
        "    new_students.append(student)\n",
        "\n",
        "print(new_students)"
      ]
    },
    {
      "cell_type": "code",
      "source": [
        "students = ['Sam', 'Billy', 'John', 'Lucas']\n",
        "new_students = [student for student in students]\n",
        "\n",
        "print(new_students)"
      ],
      "metadata": {
        "colab": {
          "base_uri": "https://localhost:8080/"
        },
        "id": "ILEaO7yDR96L",
        "outputId": "d7e3a4bd-055d-45f2-e54c-e26325a22f91"
      },
      "execution_count": 2,
      "outputs": [
        {
          "output_type": "stream",
          "name": "stdout",
          "text": [
            "['Sam', 'Billy', 'John', 'Lucas']\n"
          ]
        }
      ]
    },
    {
      "cell_type": "code",
      "source": [
        "name = 'John Doe'\n",
        "age = 21\n",
        "gender = 'Male'\n",
        "print(\"The name is \" + name + \" age: \" + str(age) + \" gender: \" + gender)\n",
        "#or\n",
        "print(\"The name is %s age: %s and gender: %s\" % (name, age, gender))"
      ],
      "metadata": {
        "colab": {
          "base_uri": "https://localhost:8080/"
        },
        "id": "OoY4a8tdR-2O",
        "outputId": "37a375ac-f7e5-4301-c563-3ae336d2aa43"
      },
      "execution_count": 3,
      "outputs": [
        {
          "output_type": "stream",
          "name": "stdout",
          "text": [
            "The name is John Doe age: 21 gender: Male\n",
            "The name is John Doe age: 21 and gender: Male\n"
          ]
        }
      ]
    },
    {
      "cell_type": "code",
      "source": [
        "name = 'John Doe'\n",
        "age = 21\n",
        "gender = 'Male'\n",
        "print(f'The name is {name} age: {age} and gender:{gender}')"
      ],
      "metadata": {
        "colab": {
          "base_uri": "https://localhost:8080/"
        },
        "id": "gOMcjEp3R_7_",
        "outputId": "7e5e48e6-26f8-4e8e-dff8-5d6c8314787d"
      },
      "execution_count": 4,
      "outputs": [
        {
          "output_type": "stream",
          "name": "stdout",
          "text": [
            "The name is John Doe age: 21 and gender:Male\n"
          ]
        }
      ]
    },
    {
      "cell_type": "markdown",
      "source": [
        "# Enumerate Looping:\n"
      ],
      "metadata": {
        "id": "zVrRCINJSB1C"
      }
    },
    {
      "cell_type": "code",
      "source": [
        "students = ['Sam', 'Billy', 'John', 'Lucas']\n",
        "\n",
        "for i in range(len(students)):\n",
        "    print(f'The index : {i}, Name: {students[i]}')"
      ],
      "metadata": {
        "colab": {
          "base_uri": "https://localhost:8080/"
        },
        "id": "Uc7cKVMwSAyL",
        "outputId": "aa677f69-5900-4045-a0cf-9be80bd7736a"
      },
      "execution_count": 5,
      "outputs": [
        {
          "output_type": "stream",
          "name": "stdout",
          "text": [
            "The index : 0, Name: Sam\n",
            "The index : 1, Name: Billy\n",
            "The index : 2, Name: John\n",
            "The index : 3, Name: Lucas\n"
          ]
        }
      ]
    },
    {
      "cell_type": "code",
      "source": [
        "students = ['Sam', 'Billy', 'John', 'Lucas']\n",
        "\n",
        "for index, student in enumerate(students):\n",
        "    print(f'The index : {index}, Name: {student}')"
      ],
      "metadata": {
        "colab": {
          "base_uri": "https://localhost:8080/"
        },
        "id": "GKeYFa4SSZZr",
        "outputId": "f4982cf4-1892-438e-a872-55da9400b522"
      },
      "execution_count": 6,
      "outputs": [
        {
          "output_type": "stream",
          "name": "stdout",
          "text": [
            "The index : 0, Name: Sam\n",
            "The index : 1, Name: Billy\n",
            "The index : 2, Name: John\n",
            "The index : 3, Name: Lucas\n"
          ]
        }
      ]
    },
    {
      "cell_type": "markdown",
      "source": [
        "# Using Generators:\n"
      ],
      "metadata": {
        "id": "x4IOtqKySexk"
      }
    },
    {
      "cell_type": "code",
      "source": [
        "get_range_sum = [num for num in range(100000)]\n",
        "print(sum(get_range_sum))"
      ],
      "metadata": {
        "colab": {
          "base_uri": "https://localhost:8080/"
        },
        "id": "adEX2VYrSahk",
        "outputId": "00daa746-ded1-479d-fe6e-bae41c1ccddb"
      },
      "execution_count": 7,
      "outputs": [
        {
          "output_type": "stream",
          "name": "stdout",
          "text": [
            "4999950000\n"
          ]
        }
      ]
    },
    {
      "cell_type": "code",
      "source": [
        "get_range_sum = (num for num in range(100000))\n",
        "print(sum(get_range_sum))"
      ],
      "metadata": {
        "colab": {
          "base_uri": "https://localhost:8080/"
        },
        "id": "DCsPBNSaScoK",
        "outputId": "1b63b7ac-59d7-438c-9324-fbe7551fde65"
      },
      "execution_count": 8,
      "outputs": [
        {
          "output_type": "stream",
          "name": "stdout",
          "text": [
            "4999950000\n"
          ]
        }
      ]
    }
  ]
}