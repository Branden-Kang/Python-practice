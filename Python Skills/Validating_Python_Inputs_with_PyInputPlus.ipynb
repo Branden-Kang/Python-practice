{
  "nbformat": 4,
  "nbformat_minor": 0,
  "metadata": {
    "colab": {
      "name": "Validating Python Inputs with PyInputPlus.ipynb",
      "provenance": [],
      "authorship_tag": "ABX9TyMojd1IDCwO5716HhLwa4s4"
    },
    "kernelspec": {
      "name": "python3",
      "display_name": "Python 3"
    }
  },
  "cells": [
    {
      "cell_type": "markdown",
      "metadata": {
        "id": "6w6BVp09ixTh"
      },
      "source": [
        "[Reference](https://medium.com/swlh/validating-python-inputs-with-pyinputplus-77d7513317e9)"
      ]
    },
    {
      "cell_type": "code",
      "metadata": {
        "colab": {
          "base_uri": "https://localhost:8080/"
        },
        "id": "ifYrI0xji2YF",
        "outputId": "08827ed1-1594-4fa8-90bb-fd5eb1fc0c87"
      },
      "source": [
        "pip install pyinputplus"
      ],
      "execution_count": 3,
      "outputs": [
        {
          "output_type": "stream",
          "text": [
            "Collecting pyinputplus\n",
            "  Downloading https://files.pythonhosted.org/packages/6a/d4/afb45ed88323ef6d3c4cbf48e9c1bac38059a168b8392a56f3b8f9d1d39c/PyInputPlus-0.2.12.tar.gz\n",
            "  Installing build dependencies ... \u001b[?25l\u001b[?25hdone\n",
            "  Getting requirements to build wheel ... \u001b[?25l\u001b[?25hdone\n",
            "    Preparing wheel metadata ... \u001b[?25l\u001b[?25hdone\n",
            "Collecting stdiomask>=0.0.3\n",
            "  Downloading https://files.pythonhosted.org/packages/47/a2/f72fd263cecb11ed4cc96bd31608359e1df30349c665674e5c35ea9a72d6/stdiomask-0.0.6.tar.gz\n",
            "  Installing build dependencies ... \u001b[?25l\u001b[?25hdone\n",
            "  Getting requirements to build wheel ... \u001b[?25l\u001b[?25hdone\n",
            "    Preparing wheel metadata ... \u001b[?25l\u001b[?25hdone\n",
            "Collecting pysimplevalidate>=0.2.7\n",
            "  Downloading https://files.pythonhosted.org/packages/0b/54/8fd99436073dbdbba719e08e1b7e5f3f36a8cc9e518612e1b97e4806d2ce/PySimpleValidate-0.2.12.tar.gz\n",
            "  Installing build dependencies ... \u001b[?25l\u001b[?25hdone\n",
            "  Getting requirements to build wheel ... \u001b[?25l\u001b[?25hdone\n",
            "    Preparing wheel metadata ... \u001b[?25l\u001b[?25hdone\n",
            "Building wheels for collected packages: pyinputplus, stdiomask, pysimplevalidate\n",
            "  Building wheel for pyinputplus (PEP 517) ... \u001b[?25l\u001b[?25hdone\n",
            "  Created wheel for pyinputplus: filename=PyInputPlus-0.2.12-cp36-none-any.whl size=11315 sha256=f7e4be23d3bb03b81784903ac7f0fdfc76e7859120eefff45110c856e22790af\n",
            "  Stored in directory: /root/.cache/pip/wheels/6a/fe/06/583326d5cf9ab6319b08f44ffbb8b804acb97cec61274c4b7b\n",
            "  Building wheel for stdiomask (PEP 517) ... \u001b[?25l\u001b[?25hdone\n",
            "  Created wheel for stdiomask: filename=stdiomask-0.0.6-cp36-none-any.whl size=3320 sha256=2d8662a5aaec474073f9f196ab9c9cf0ed712d777d83f1cd6232ca24c8e17230\n",
            "  Stored in directory: /root/.cache/pip/wheels/a6/ff/34/66b26f570405c34acc8f39b8ec3f27f5cbeea05234f18959fd\n",
            "  Building wheel for pysimplevalidate (PEP 517) ... \u001b[?25l\u001b[?25hdone\n",
            "  Created wheel for pysimplevalidate: filename=PySimpleValidate-0.2.12-cp36-none-any.whl size=16192 sha256=d6a03ef99babccc1768bc445d381048683999cf937f7c197015c5b9d3c7fcf39\n",
            "  Stored in directory: /root/.cache/pip/wheels/11/08/e4/f395618ca9df12cfd52aa0d916153584a7e277bd5e87cf2fc2\n",
            "Successfully built pyinputplus stdiomask pysimplevalidate\n",
            "Installing collected packages: stdiomask, pysimplevalidate, pyinputplus\n",
            "Successfully installed pyinputplus-0.2.12 pysimplevalidate-0.2.12 stdiomask-0.0.6\n"
          ],
          "name": "stdout"
        }
      ]
    },
    {
      "cell_type": "code",
      "metadata": {
        "colab": {
          "base_uri": "https://localhost:8080/"
        },
        "id": "k6oXhWK5iwLz",
        "outputId": "213287cc-bf16-4c20-a973-e381f8ef4123"
      },
      "source": [
        "import pyinputplus\n",
        "print('What is your age?')\n",
        "age = pyinputplus.inputNum()\n",
        "print('Your age is', age)"
      ],
      "execution_count": 4,
      "outputs": [
        {
          "output_type": "stream",
          "text": [
            "What is your age?\n",
            "20\n",
            "Your age is 20\n"
          ],
          "name": "stdout"
        }
      ]
    },
    {
      "cell_type": "code",
      "metadata": {
        "colab": {
          "base_uri": "https://localhost:8080/"
        },
        "id": "bEY_ObWSiz10",
        "outputId": "42d3547c-ffbe-4de4-e4e1-1136ca57b47d"
      },
      "source": [
        "import pyinputplus\n",
        "age = pyinputplus.inputNum(prompt='What is your age?')\n",
        "print('Your age is', age)"
      ],
      "execution_count": 5,
      "outputs": [
        {
          "output_type": "stream",
          "text": [
            "What is your age?20\n",
            "Your age is 20\n"
          ],
          "name": "stdout"
        }
      ]
    },
    {
      "cell_type": "code",
      "metadata": {
        "colab": {
          "base_uri": "https://localhost:8080/"
        },
        "id": "x4OJ7rrui1A3",
        "outputId": "14d445b9-e957-413c-954d-7a54ec89de9a"
      },
      "source": [
        "import pyinputplus\n",
        "age = pyinputplus.inputNum(prompt='What is your age?',  min=0)\n",
        "print('Your age is', age)"
      ],
      "execution_count": 8,
      "outputs": [
        {
          "output_type": "stream",
          "text": [
            "What is your age?90\n",
            "Your age is 90\n"
          ],
          "name": "stdout"
        }
      ]
    },
    {
      "cell_type": "code",
      "metadata": {
        "colab": {
          "base_uri": "https://localhost:8080/"
        },
        "id": "OO4SNPUAi50h",
        "outputId": "30b75177-a25e-4696-abaa-6ea3914a1c94"
      },
      "source": [
        "import pyinputplus\n",
        "age = pyinputplus.inputNum(prompt='What is your age?',  min=0, blank=False)\n",
        "print('Your age is', age)"
      ],
      "execution_count": 6,
      "outputs": [
        {
          "output_type": "stream",
          "text": [
            "What is your age?20\n",
            "Your age is 20\n"
          ],
          "name": "stdout"
        }
      ]
    },
    {
      "cell_type": "code",
      "metadata": {
        "colab": {
          "base_uri": "https://localhost:8080/"
        },
        "id": "fNgXB8h0i5_n",
        "outputId": "94eb9764-8307-4a84-a5b4-a815bd9c5557"
      },
      "source": [
        "import pyinputplus\n",
        "age = pyinputplus.inputNum(prompt='What is your age?',  min=0, limit=2)\n",
        "print('Your age is', age)"
      ],
      "execution_count": 7,
      "outputs": [
        {
          "output_type": "stream",
          "text": [
            "What is your age?0\n",
            "Your age is 0\n"
          ],
          "name": "stdout"
        }
      ]
    },
    {
      "cell_type": "code",
      "metadata": {
        "colab": {
          "base_uri": "https://localhost:8080/",
          "height": 426
        },
        "id": "5cEVhSxSi640",
        "outputId": "40170420-c571-45b7-d9db-a46347209cce"
      },
      "source": [
        "import pyinputplus\n",
        "age = pyinputplus.inputNum(prompt='What is your age?',  timeout=1)\n",
        "print('Your age is', age)"
      ],
      "execution_count": 9,
      "outputs": [
        {
          "output_type": "stream",
          "text": [
            "What is your age?0\n"
          ],
          "name": "stdout"
        },
        {
          "output_type": "error",
          "ename": "TimeoutException",
          "evalue": "ignored",
          "traceback": [
            "\u001b[0;31m---------------------------------------------------------------------------\u001b[0m",
            "\u001b[0;31mTimeoutException\u001b[0m                          Traceback (most recent call last)",
            "\u001b[0;32m<ipython-input-9-a3350fd665bf>\u001b[0m in \u001b[0;36m<module>\u001b[0;34m()\u001b[0m\n\u001b[1;32m      1\u001b[0m \u001b[0;32mimport\u001b[0m \u001b[0mpyinputplus\u001b[0m\u001b[0;34m\u001b[0m\u001b[0;34m\u001b[0m\u001b[0m\n\u001b[0;32m----> 2\u001b[0;31m \u001b[0mage\u001b[0m \u001b[0;34m=\u001b[0m \u001b[0mpyinputplus\u001b[0m\u001b[0;34m.\u001b[0m\u001b[0minputNum\u001b[0m\u001b[0;34m(\u001b[0m\u001b[0mprompt\u001b[0m\u001b[0;34m=\u001b[0m\u001b[0;34m'What is your age?'\u001b[0m\u001b[0;34m,\u001b[0m  \u001b[0mtimeout\u001b[0m\u001b[0;34m=\u001b[0m\u001b[0;36m1\u001b[0m\u001b[0;34m)\u001b[0m\u001b[0;34m\u001b[0m\u001b[0;34m\u001b[0m\u001b[0m\n\u001b[0m\u001b[1;32m      3\u001b[0m \u001b[0mprint\u001b[0m\u001b[0;34m(\u001b[0m\u001b[0;34m'Your age is'\u001b[0m\u001b[0;34m,\u001b[0m \u001b[0mage\u001b[0m\u001b[0;34m)\u001b[0m\u001b[0;34m\u001b[0m\u001b[0;34m\u001b[0m\u001b[0m\n",
            "\u001b[0;32m/usr/local/lib/python3.6/dist-packages/pyinputplus/__init__.py\u001b[0m in \u001b[0;36minputNum\u001b[0;34m(prompt, default, blank, timeout, limit, strip, allowRegexes, blockRegexes, applyFunc, postValidateApplyFunc, min, max, greaterThan, lessThan)\u001b[0m\n\u001b[1;32m    403\u001b[0m         \u001b[0mapplyFunc\u001b[0m\u001b[0;34m=\u001b[0m\u001b[0mapplyFunc\u001b[0m\u001b[0;34m,\u001b[0m\u001b[0;34m\u001b[0m\u001b[0;34m\u001b[0m\u001b[0m\n\u001b[1;32m    404\u001b[0m         \u001b[0mpostValidateApplyFunc\u001b[0m\u001b[0;34m=\u001b[0m\u001b[0mpostValidateApplyFunc\u001b[0m\u001b[0;34m,\u001b[0m\u001b[0;34m\u001b[0m\u001b[0;34m\u001b[0m\u001b[0m\n\u001b[0;32m--> 405\u001b[0;31m         \u001b[0mvalidationFunc\u001b[0m\u001b[0;34m=\u001b[0m\u001b[0mvalidationFunc\u001b[0m\u001b[0;34m,\u001b[0m\u001b[0;34m\u001b[0m\u001b[0;34m\u001b[0m\u001b[0m\n\u001b[0m\u001b[1;32m    406\u001b[0m     )\n\u001b[1;32m    407\u001b[0m \u001b[0;34m\u001b[0m\u001b[0m\n",
            "\u001b[0;32m/usr/local/lib/python3.6/dist-packages/pyinputplus/__init__.py\u001b[0m in \u001b[0;36m_genericInput\u001b[0;34m(prompt, default, timeout, limit, applyFunc, validationFunc, postValidateApplyFunc, passwordMask)\u001b[0m\n\u001b[1;32m    201\u001b[0m                 \u001b[0;32mreturn\u001b[0m \u001b[0mdefault\u001b[0m\u001b[0;34m\u001b[0m\u001b[0;34m\u001b[0m\u001b[0m\n\u001b[1;32m    202\u001b[0m             \u001b[0;32melse\u001b[0m\u001b[0;34m:\u001b[0m\u001b[0;34m\u001b[0m\u001b[0;34m\u001b[0m\u001b[0m\n\u001b[0;32m--> 203\u001b[0;31m                 \u001b[0;32mraise\u001b[0m \u001b[0mTimeoutException\u001b[0m\u001b[0;34m(\u001b[0m\u001b[0;34m)\u001b[0m\u001b[0;34m\u001b[0m\u001b[0;34m\u001b[0m\u001b[0m\n\u001b[0m\u001b[1;32m    204\u001b[0m \u001b[0;34m\u001b[0m\u001b[0m\n\u001b[1;32m    205\u001b[0m         \u001b[0;32mif\u001b[0m \u001b[0mpostValidateApplyFunc\u001b[0m \u001b[0;32mis\u001b[0m \u001b[0;32mnot\u001b[0m \u001b[0;32mNone\u001b[0m\u001b[0;34m:\u001b[0m\u001b[0;34m\u001b[0m\u001b[0;34m\u001b[0m\u001b[0m\n",
            "\u001b[0;31mTimeoutException\u001b[0m: "
          ]
        }
      ]
    },
    {
      "cell_type": "code",
      "metadata": {
        "colab": {
          "base_uri": "https://localhost:8080/"
        },
        "id": "l_L8l_RpjD8g",
        "outputId": "35061cd2-8e1d-40ed-a6ef-8d50fd69bc55"
      },
      "source": [
        "import pyinputplus\n",
        "phone = pyinputplus.inputNum(prompt='What is your phone?',  allowRegexes=[r'\\d{3}-\\d{3}-\\d{4}', r'None'])\n",
        "print('Your phone is', phone)"
      ],
      "execution_count": 10,
      "outputs": [
        {
          "output_type": "stream",
          "text": [
            "What is your phone?0154345677\n",
            "Your phone is 154345677\n"
          ],
          "name": "stdout"
        }
      ]
    }
  ]
}