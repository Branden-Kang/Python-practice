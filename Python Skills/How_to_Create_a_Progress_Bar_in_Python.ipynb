{
  "nbformat": 4,
  "nbformat_minor": 0,
  "metadata": {
    "colab": {
      "name": "How to Create a Progress Bar in Python.ipynb",
      "provenance": [],
      "authorship_tag": "ABX9TyPjn5SNU60g1Hq1IckQoMme"
    },
    "kernelspec": {
      "name": "python3",
      "display_name": "Python 3"
    },
    "language_info": {
      "name": "python"
    }
  },
  "cells": [
    {
      "cell_type": "markdown",
      "source": [
        "[Reference](https://python.plainenglish.io/how-to-create-a-progress-bar-in-python-f5ea36e4c174)"
      ],
      "metadata": {
        "id": "e3QqH1cdxCj3"
      }
    },
    {
      "cell_type": "code",
      "execution_count": 1,
      "metadata": {
        "colab": {
          "base_uri": "https://localhost:8080/"
        },
        "id": "Y1qQkTgNxBAY",
        "outputId": "96028bb4-93b0-4d48-db54-22cf6443468b"
      },
      "outputs": [
        {
          "output_type": "stream",
          "name": "stdout",
          "text": [
            "Requirement already satisfied: tqdm in /usr/local/lib/python3.7/dist-packages (4.64.0)\n"
          ]
        }
      ],
      "source": [
        "pip install tqdm"
      ]
    },
    {
      "cell_type": "code",
      "source": [
        "import time\n",
        "for i in range(10):\n",
        "  time.sleep(2)"
      ],
      "metadata": {
        "id": "EJO-zA9RxEdl"
      },
      "execution_count": 2,
      "outputs": []
    },
    {
      "cell_type": "code",
      "source": [
        "from tqdm import tqdm\n",
        "import time\n",
        "for i in tqdm(range(10)):\n",
        "  time.sleep(2)"
      ],
      "metadata": {
        "colab": {
          "base_uri": "https://localhost:8080/"
        },
        "id": "Ti0NuVJ-xFWY",
        "outputId": "4e0a0d36-30f7-429b-e9ca-50b35b9109bd"
      },
      "execution_count": 3,
      "outputs": [
        {
          "output_type": "stream",
          "name": "stderr",
          "text": [
            "100%|██████████| 10/10 [00:20<00:00,  2.00s/it]\n"
          ]
        }
      ]
    },
    {
      "cell_type": "code",
      "source": [
        "from tqdm import trange\n",
        "import time\n",
        "for i in trange(10):\n",
        "  time.sleep(2)"
      ],
      "metadata": {
        "colab": {
          "base_uri": "https://localhost:8080/"
        },
        "id": "sWXuOUdvxJH-",
        "outputId": "517db749-bd3a-44cf-c06d-9e375b1055c9"
      },
      "execution_count": 4,
      "outputs": [
        {
          "output_type": "stream",
          "name": "stderr",
          "text": [
            "100%|██████████| 10/10 [00:20<00:00,  2.00s/it]\n"
          ]
        }
      ]
    },
    {
      "cell_type": "code",
      "source": [
        "from tqdm import tqdm\n",
        "import time\n",
        "bar = tqdm(range(10), desc=\"Example bar\")\n",
        "for i in bar:\n",
        "  time.sleep(2)"
      ],
      "metadata": {
        "colab": {
          "base_uri": "https://localhost:8080/"
        },
        "id": "mcClk3YrxKxJ",
        "outputId": "fdc953d8-2436-4f47-ba72-8a51301c0673"
      },
      "execution_count": 5,
      "outputs": [
        {
          "output_type": "stream",
          "name": "stderr",
          "text": [
            "Example bar: 100%|██████████| 10/10 [00:20<00:00,  2.00s/it]\n"
          ]
        }
      ]
    },
    {
      "cell_type": "code",
      "source": [
        "from tqdm import tqdm\n",
        "import time\n",
        "bar = tqdm(range(10))\n",
        "tot = 0\n",
        "for i in bar:\n",
        "  time.sleep(2)\n",
        "  tot += i\n",
        "  bar.set_postfix({\"total\":tot})"
      ],
      "metadata": {
        "colab": {
          "base_uri": "https://localhost:8080/"
        },
        "id": "pEyOGXoaxMfZ",
        "outputId": "79f41542-0562-4af7-e7e6-91d2adcca0e2"
      },
      "execution_count": 6,
      "outputs": [
        {
          "output_type": "stream",
          "name": "stderr",
          "text": [
            "100%|██████████| 10/10 [00:20<00:00,  2.00s/it, total=45]\n"
          ]
        }
      ]
    },
    {
      "cell_type": "code",
      "source": [
        "from tqdm import tqdm\n",
        "import time\n",
        "bar=tqdm(range(10), \n",
        "      bar_format=\"{percentage:3.0f}% |{bar}| {elapsed}/{remaining}\"\n",
        "     )\n",
        "for i in bar:\n",
        "  time.sleep(2)"
      ],
      "metadata": {
        "colab": {
          "base_uri": "https://localhost:8080/"
        },
        "id": "aFFPH9a5xONV",
        "outputId": "d249312a-0d47-4894-9261-97015a82b51d"
      },
      "execution_count": 7,
      "outputs": [
        {
          "output_type": "stream",
          "name": "stderr",
          "text": [
            "100% |██████████| 00:20/00:00\n"
          ]
        }
      ]
    }
  ]
}