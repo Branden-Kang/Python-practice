{
  "nbformat": 4,
  "nbformat_minor": 0,
  "metadata": {
    "colab": {
      "name": "The Open Source Data Platform.ipynb",
      "provenance": [],
      "collapsed_sections": [],
      "authorship_tag": "ABX9TyO/EPTeocOY2tkLRIC7oIK7"
    },
    "kernelspec": {
      "name": "python3",
      "display_name": "Python 3"
    },
    "language_info": {
      "name": "python"
    }
  },
  "cells": [
    {
      "cell_type": "markdown",
      "source": [
        "[Reference](https://kjhealey.medium.com/the-open-source-data-platform-part-1-orchestration-prefect-d7b635a71ce5)"
      ],
      "metadata": {
        "id": "98U1z2fv6R4O"
      }
    },
    {
      "cell_type": "code",
      "execution_count": 1,
      "metadata": {
        "id": "ymlTR03m6P7t"
      },
      "outputs": [],
      "source": [
        "!pip install prefect  ## requires python3.7 or later\n",
        "!prefect backend server\n",
        "!prefect server start"
      ]
    },
    {
      "cell_type": "code",
      "source": [
        "!prefect agent local start"
      ],
      "metadata": {
        "id": "LpAVZafb6ZXb"
      },
      "execution_count": 2,
      "outputs": []
    },
    {
      "cell_type": "code",
      "source": [
        "from prefect.run_configs import LocalRun\n",
        "from prefect import task, Flow, Parameter\n",
        "from prefect.schedules import Schedule\n",
        "from prefect.engine.results import LacalResult\n",
        "from prefect.schedules import IntervalSchedule\n",
        "from datetime import timedelta\n",
        "import requests\n",
        "import pymongo\n",
        "import tweepy\n",
        "import json\n",
        "\n",
        "# creates connection to twitter using the tweepy client.  \n",
        "@task(name=\"authorize connection\")\n",
        "def pre_auth(bearer_token):\n",
        "    return tweepy.Client(bearer_token=bearer_token, return_type = requests.Response)\n",
        "\n",
        "# using the tweepy api query the data only for those I want.\n",
        "@task(name=\"query data\")\n",
        "def filter(client, query):\n",
        "    return client.search_recent_tweets(query=query, tweet_fields=['context_annotations', 'created_at'], max_results=100).json()\n",
        "\n",
        "# Prints the data to Console if you wish to see the output, plus check that data is being gathered.\n",
        "@task(name=\"print data\")\n",
        "def show(tweets):\n",
        "    for tweet in tweets.data:\n",
        "        print(tweet.text)\n",
        "        if len(tweet.context_annotations) > 0:\n",
        "            print(tweet.context_annotations)\n",
        "\n",
        "# Saves the twitter data to a local host mongo instance\n",
        "# These are hard coded in this example to save time\n",
        "# In the next article I will show you why this might not be needed.  \n",
        "\n",
        "@task(name=\"save data\")\n",
        "def save(tweets):\n",
        "    client = pymongo.MongoClient(\"mongodb://localhost:27017/\")\n",
        "    db = client['tweets']\n",
        "    collection = db['prefect']\n",
        "    data = tweets['data']\n",
        "    for datum in data:\n",
        "        collection.insert_one(datum)\n",
        "\n",
        "schedule = IntervalSchedule(interval=timedelta(minutes=2))\n",
        "\n",
        "# order your tasks within a flow. \n",
        "with Flow(\"Twitter Extract\", schedule=schedule, result=LocalResult()) as flow:\n",
        "    client = pre_auth(\"bearer token here\") # Connect to the client\n",
        "    tweets = filter(client, '#prefect -is:retweet lang:en') # Filter the data down to relevant data\n",
        "    # show(tweets) # Show the tweets, this step is more for local debugging purposes will be turned off when flow is stable\n",
        "    save(tweets) # Save tweets as collections inside of a mongo db instance. \n",
        "\n",
        "flow.run_config = LocalRun()\n",
        "flow.run()\n",
        "\n",
        "flow.register(project_name=\"twitter_extract\")"
      ],
      "metadata": {
        "id": "oR_cJhii6bzP"
      },
      "execution_count": 3,
      "outputs": []
    }
  ]
}
