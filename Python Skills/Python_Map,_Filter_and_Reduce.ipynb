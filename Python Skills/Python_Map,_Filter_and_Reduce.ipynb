{
  "nbformat": 4,
  "nbformat_minor": 0,
  "metadata": {
    "colab": {
      "provenance": [],
      "authorship_tag": "ABX9TyPrqLvWcQbiwMjpi/G40Vnk"
    },
    "kernelspec": {
      "name": "python3",
      "display_name": "Python 3"
    },
    "language_info": {
      "name": "python"
    }
  },
  "cells": [
    {
      "cell_type": "markdown",
      "source": [
        "[Reference](https://medium.com/@coder033/python-map-filter-and-reduce-ebbf3a0d5f4c)"
      ],
      "metadata": {
        "id": "9Wfzaf4EzEDC"
      }
    },
    {
      "cell_type": "markdown",
      "source": [
        "# Map"
      ],
      "metadata": {
        "id": "Q9B7-_rlzgkm"
      }
    },
    {
      "cell_type": "code",
      "execution_count": 1,
      "metadata": {
        "colab": {
          "base_uri": "https://localhost:8080/"
        },
        "id": "ooZQFLIGx6nq",
        "outputId": "c7b67b51-8d2a-47f7-af6a-d2e5e10dd098"
      },
      "outputs": [
        {
          "output_type": "stream",
          "name": "stdout",
          "text": [
            "<map object at 0x7fdad18f4b80>\n",
            "[0, 2, 4, 6, 8]\n"
          ]
        }
      ],
      "source": [
        "def mul(x):\n",
        "  return x*2\n",
        "res=map(mul,range(0,5))\n",
        "print(res)\n",
        "print(list(res))"
      ]
    },
    {
      "cell_type": "code",
      "source": [
        "res1=map(lambda x:x*3,range(0,5))\n",
        "print(list(res1))"
      ],
      "metadata": {
        "colab": {
          "base_uri": "https://localhost:8080/"
        },
        "id": "YsgtlqedzGzq",
        "outputId": "3d007f09-d8bd-47e6-9ff9-62ec370c0324"
      },
      "execution_count": 2,
      "outputs": [
        {
          "output_type": "stream",
          "name": "stdout",
          "text": [
            "[0, 3, 6, 9, 12]\n"
          ]
        }
      ]
    },
    {
      "cell_type": "code",
      "source": [
        "a=[1,2,3,4,5,6]\n",
        "b=[2,2,2,2,2,2]\n",
        "res2=map(lambda x,y:x*y,a,b)\n",
        "print(list(res2))"
      ],
      "metadata": {
        "colab": {
          "base_uri": "https://localhost:8080/"
        },
        "id": "Y9nxw_cezHkp",
        "outputId": "75154733-0b65-42ec-aebc-c8e709061552"
      },
      "execution_count": 3,
      "outputs": [
        {
          "output_type": "stream",
          "name": "stdout",
          "text": [
            "[2, 4, 6, 8, 10, 12]\n"
          ]
        }
      ]
    },
    {
      "cell_type": "markdown",
      "source": [
        "# Filter\n"
      ],
      "metadata": {
        "id": "5yEXpTRnzJYu"
      }
    },
    {
      "cell_type": "code",
      "source": [
        "res3=filter(lambda x:x*3,range(0,5))\n",
        "print(res3)\n",
        "print(list(res3))"
      ],
      "metadata": {
        "colab": {
          "base_uri": "https://localhost:8080/"
        },
        "id": "fmZjURDyzIg7",
        "outputId": "6c1407a2-a4ca-4c7c-9840-ee140595b0a0"
      },
      "execution_count": 4,
      "outputs": [
        {
          "output_type": "stream",
          "name": "stdout",
          "text": [
            "<filter object at 0x7fdad18fd430>\n",
            "[1, 2, 3, 4]\n"
          ]
        }
      ]
    },
    {
      "cell_type": "code",
      "source": [
        "num=[-2,-1,0,1,2]\n",
        "def check(x):\n",
        "    return x>0\n",
        "result=filter(check,num)\n",
        "print(list(result))"
      ],
      "metadata": {
        "colab": {
          "base_uri": "https://localhost:8080/"
        },
        "id": "cWa0_S8lzK1Z",
        "outputId": "137bbff1-c0b0-4c63-e001-52b1b1278163"
      },
      "execution_count": 5,
      "outputs": [
        {
          "output_type": "stream",
          "name": "stdout",
          "text": [
            "[1, 2]\n"
          ]
        }
      ]
    },
    {
      "cell_type": "code",
      "source": [
        "result1=filter(lambda x:x<0,num)\n",
        "print(list(result1))"
      ],
      "metadata": {
        "colab": {
          "base_uri": "https://localhost:8080/"
        },
        "id": "ODwMbfEDzbUl",
        "outputId": "bcec1bc4-0dca-4535-cd9d-adb6c2875244"
      },
      "execution_count": 6,
      "outputs": [
        {
          "output_type": "stream",
          "name": "stdout",
          "text": [
            "[-2, -1]\n"
          ]
        }
      ]
    },
    {
      "cell_type": "code",
      "source": [
        "fnc=lambda value:value if (value%2==0) and (value%3==0) else None\n",
        "result2=filter(fnc,range(0,61))\n",
        "print(list(result2))"
      ],
      "metadata": {
        "colab": {
          "base_uri": "https://localhost:8080/"
        },
        "id": "k_kVyri3zee-",
        "outputId": "0469d0ea-a014-425a-a131-74da02812b38"
      },
      "execution_count": 7,
      "outputs": [
        {
          "output_type": "stream",
          "name": "stdout",
          "text": [
            "[6, 12, 18, 24, 30, 36, 42, 48, 54, 60]\n"
          ]
        }
      ]
    },
    {
      "cell_type": "markdown",
      "source": [
        "# Reduce\n"
      ],
      "metadata": {
        "id": "kw3TmzM3zfui"
      }
    },
    {
      "cell_type": "code",
      "source": [
        "from functools import reduce\n",
        "list_value=[5,6,7,8]\n",
        "def op(x,y):\n",
        "   return x+y\n",
        "out=reduce(op,list_value)\n",
        "print(out)"
      ],
      "metadata": {
        "colab": {
          "base_uri": "https://localhost:8080/"
        },
        "id": "LmIwTwkFzelw",
        "outputId": "210a3d26-58c0-4edf-fb46-039964800306"
      },
      "execution_count": 8,
      "outputs": [
        {
          "output_type": "stream",
          "name": "stdout",
          "text": [
            "26\n"
          ]
        }
      ]
    },
    {
      "cell_type": "code",
      "source": [
        "list_value=[5,6,7,8]\n",
        "out1=reduce(lambda val1,val2:val1*val2,list_value)\n",
        "print(out1)"
      ],
      "metadata": {
        "colab": {
          "base_uri": "https://localhost:8080/"
        },
        "id": "x7EQWVTRzjbG",
        "outputId": "2415c49e-e178-49f4-f977-fa4838caac40"
      },
      "execution_count": 9,
      "outputs": [
        {
          "output_type": "stream",
          "name": "stdout",
          "text": [
            "1680\n"
          ]
        }
      ]
    },
    {
      "cell_type": "code",
      "source": [
        "fnc=lambda a,b:a+b\n",
        "out2=reduce(fnc,range(0,10))\n",
        "print(out2)"
      ],
      "metadata": {
        "colab": {
          "base_uri": "https://localhost:8080/"
        },
        "id": "Fp3KU95_zjho",
        "outputId": "1c10e9e6-3a6f-4ec8-cda9-91ea369386b4"
      },
      "execution_count": 10,
      "outputs": [
        {
          "output_type": "stream",
          "name": "stdout",
          "text": [
            "45\n"
          ]
        }
      ]
    }
  ]
}
