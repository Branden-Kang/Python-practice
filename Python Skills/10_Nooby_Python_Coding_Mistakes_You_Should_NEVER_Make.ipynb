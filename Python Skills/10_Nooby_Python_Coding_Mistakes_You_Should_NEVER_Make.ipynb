{
  "nbformat": 4,
  "nbformat_minor": 0,
  "metadata": {
    "colab": {
      "provenance": [],
      "authorship_tag": "ABX9TyN9Xvd9MGdCjEURP6RbfJD1"
    },
    "kernelspec": {
      "name": "python3",
      "display_name": "Python 3"
    },
    "language_info": {
      "name": "python"
    }
  },
  "cells": [
    {
      "cell_type": "markdown",
      "source": [
        "[Reference](https://levelup.gitconnected.com/10-nooby-python-coding-mistakes-you-should-never-make-92aa495a566b)"
      ],
      "metadata": {
        "id": "dm8HW5spcX1Z"
      }
    },
    {
      "cell_type": "markdown",
      "source": [
        "# 1. Use + Operator for String Formatting"
      ],
      "metadata": {
        "id": "Y2c9ISOkcagW"
      }
    },
    {
      "cell_type": "code",
      "execution_count": 1,
      "metadata": {
        "id": "R5yo3cnqbb1q"
      },
      "outputs": [],
      "source": [
        "name = \"Bobby\"\n",
        "city = \"Munich\"\n",
        "year_of_birth = 1991\n",
        "\n",
        "nooby_str_formatting = \"My name is \" + name + \", I live in \" + city + \". I was born in \" + str(year_of_birth) + \".\"\n",
        "pythonic_str_formatting = f\"My name is {name}, I live in {city}. I was born in {year_of_birth}.\""
      ]
    },
    {
      "cell_type": "markdown",
      "source": [
        "# 2. The Evil import *"
      ],
      "metadata": {
        "id": "bnT3x-zCcc03"
      }
    },
    {
      "cell_type": "code",
      "source": [
        "# Nooby version\n",
        "from math import *\n",
        "\n",
        "result = sin(0.1) + cos(0.1)\n",
        "\n",
        "# Good version\n",
        "from math import sin, cos\n",
        "\n",
        "result = sin(0.1) + cos(0.1)"
      ],
      "metadata": {
        "id": "fwVIlvnhcb2m"
      },
      "execution_count": 2,
      "outputs": []
    },
    {
      "cell_type": "markdown",
      "source": [
        "# 3. except or except Exception:"
      ],
      "metadata": {
        "id": "Zwelka38cfqT"
      }
    },
    {
      "cell_type": "code",
      "source": [
        "dictionary = {'a': 'one', 'b': 'two', 'c': 'three'}\n",
        "\n",
        "# Nooby version\n",
        "try:\n",
        "    print(int(dictionary['d']))\n",
        "except:\n",
        "    print(\"Can you guess the exception?\")\n",
        "\n",
        "# Nooby version 2\n",
        "try:\n",
        "    print(int(dictionary['d']))\n",
        "except Exception:\n",
        "    print(\"Can you guess the exception?\")\n",
        "\n",
        "# Good\n",
        "try:\n",
        "    print(int(dictionary['d']))\n",
        "except KeyError:\n",
        "    print(\"We get KeyError\")\n",
        "except ValueError:\n",
        "    print(\"We get ValueError\")"
      ],
      "metadata": {
        "colab": {
          "base_uri": "https://localhost:8080/"
        },
        "id": "JW0yUFaLcelH",
        "outputId": "7a4b6cc3-e133-424b-82f6-5360fbea4dbe"
      },
      "execution_count": 3,
      "outputs": [
        {
          "output_type": "stream",
          "name": "stdout",
          "text": [
            "Can you guess the exception?\n",
            "Can you guess the exception?\n",
            "We get KeyError\n"
          ]
        }
      ]
    },
    {
      "cell_type": "markdown",
      "source": [
        "# 4. Manually Closing a File"
      ],
      "metadata": {
        "id": "UA4BdRqcciX8"
      }
    },
    {
      "cell_type": "code",
      "source": [
        "f = open('file_name.txt', 'w')\n",
        "f.write('new_data')\n",
        "f.close()"
      ],
      "metadata": {
        "id": "RYCGLMFHchgA"
      },
      "execution_count": 4,
      "outputs": []
    },
    {
      "cell_type": "code",
      "source": [
        "with open('file_name.txt', 'w') as f:\n",
        "    f.write('new_data')"
      ],
      "metadata": {
        "id": "BEVMVsdKckAT"
      },
      "execution_count": 5,
      "outputs": []
    },
    {
      "cell_type": "markdown",
      "source": [
        "# 5. == Instead of isinstance()"
      ],
      "metadata": {
        "id": "a9DjJEqrcm5F"
      }
    },
    {
      "cell_type": "code",
      "source": [
        "from collections import namedtuple\n",
        "\n",
        "Point = namedtuple(\"Point\", \"x y\")\n",
        "p = Point(3, 4)\n",
        "\n",
        "print(type(p) == tuple)  # Output: False\n",
        "print(isinstance(p, tuple))  # Output: True"
      ],
      "metadata": {
        "colab": {
          "base_uri": "https://localhost:8080/"
        },
        "id": "f1jtNWFHclvg",
        "outputId": "912e6769-af38-4d1a-c634-23dde670f357"
      },
      "execution_count": 6,
      "outputs": [
        {
          "output_type": "stream",
          "name": "stdout",
          "text": [
            "False\n",
            "True\n"
          ]
        }
      ]
    },
    {
      "cell_type": "markdown",
      "source": [
        "# 6. Overuse Comprehensions"
      ],
      "metadata": {
        "id": "Jxb9S6C5cs8C"
      }
    },
    {
      "cell_type": "code",
      "source": [
        "def overuse_comprehension(input_list: list) -> list:\n",
        "    return [item\n",
        "           for sublist in input_list\n",
        "           for item in sublist\n",
        "           if item > 0]\n",
        "\n",
        "def use_loop_instead(input_list: list) -> list:\n",
        "    result = []\n",
        "    for rows in list:\n",
        "        for sublist in rows:\n",
        "            if sublist > 0:\n",
        "                result.append(sublist)\n",
        "    return result\n",
        "\n",
        "input_list = [[1, 2, 3],[-1,-5,6]]\n",
        "\n",
        "print(overuse_comprehension(input_list))  # Output: [1, 2, 3, 6]\n",
        "print(use_loop_instead(input_list))  # Output: [1, 2, 3, 6]"
      ],
      "metadata": {
        "colab": {
          "base_uri": "https://localhost:8080/",
          "height": 368
        },
        "id": "uK_9R2ndcotl",
        "outputId": "5940105e-e393-4334-aba0-2b6a229c7391"
      },
      "execution_count": 7,
      "outputs": [
        {
          "output_type": "stream",
          "name": "stdout",
          "text": [
            "[1, 2, 3, 6]\n"
          ]
        },
        {
          "output_type": "error",
          "ename": "TypeError",
          "evalue": "ignored",
          "traceback": [
            "\u001b[0;31m---------------------------------------------------------------------------\u001b[0m",
            "\u001b[0;31mTypeError\u001b[0m                                 Traceback (most recent call last)",
            "\u001b[0;32m<ipython-input-7-8e950beb6ac5>\u001b[0m in \u001b[0;36m<cell line: 18>\u001b[0;34m()\u001b[0m\n\u001b[1;32m     16\u001b[0m \u001b[0;34m\u001b[0m\u001b[0m\n\u001b[1;32m     17\u001b[0m \u001b[0mprint\u001b[0m\u001b[0;34m(\u001b[0m\u001b[0moveruse_comprehension\u001b[0m\u001b[0;34m(\u001b[0m\u001b[0minput_list\u001b[0m\u001b[0;34m)\u001b[0m\u001b[0;34m)\u001b[0m  \u001b[0;31m# Output: [1, 2, 3, 6]\u001b[0m\u001b[0;34m\u001b[0m\u001b[0;34m\u001b[0m\u001b[0m\n\u001b[0;32m---> 18\u001b[0;31m \u001b[0mprint\u001b[0m\u001b[0;34m(\u001b[0m\u001b[0muse_loop_instead\u001b[0m\u001b[0;34m(\u001b[0m\u001b[0minput_list\u001b[0m\u001b[0;34m)\u001b[0m\u001b[0;34m)\u001b[0m  \u001b[0;31m# Output: [1, 2, 3, 6]\u001b[0m\u001b[0;34m\u001b[0m\u001b[0;34m\u001b[0m\u001b[0m\n\u001b[0m",
            "\u001b[0;32m<ipython-input-7-8e950beb6ac5>\u001b[0m in \u001b[0;36muse_loop_instead\u001b[0;34m(input_list)\u001b[0m\n\u001b[1;32m      7\u001b[0m \u001b[0;32mdef\u001b[0m \u001b[0muse_loop_instead\u001b[0m\u001b[0;34m(\u001b[0m\u001b[0minput_list\u001b[0m\u001b[0;34m:\u001b[0m \u001b[0mlist\u001b[0m\u001b[0;34m)\u001b[0m \u001b[0;34m->\u001b[0m \u001b[0mlist\u001b[0m\u001b[0;34m:\u001b[0m\u001b[0;34m\u001b[0m\u001b[0;34m\u001b[0m\u001b[0m\n\u001b[1;32m      8\u001b[0m     \u001b[0mresult\u001b[0m \u001b[0;34m=\u001b[0m \u001b[0;34m[\u001b[0m\u001b[0;34m]\u001b[0m\u001b[0;34m\u001b[0m\u001b[0;34m\u001b[0m\u001b[0m\n\u001b[0;32m----> 9\u001b[0;31m     \u001b[0;32mfor\u001b[0m \u001b[0mrows\u001b[0m \u001b[0;32min\u001b[0m \u001b[0mlist\u001b[0m\u001b[0;34m:\u001b[0m\u001b[0;34m\u001b[0m\u001b[0;34m\u001b[0m\u001b[0m\n\u001b[0m\u001b[1;32m     10\u001b[0m         \u001b[0;32mfor\u001b[0m \u001b[0msublist\u001b[0m \u001b[0;32min\u001b[0m \u001b[0mrows\u001b[0m\u001b[0;34m:\u001b[0m\u001b[0;34m\u001b[0m\u001b[0;34m\u001b[0m\u001b[0m\n\u001b[1;32m     11\u001b[0m             \u001b[0;32mif\u001b[0m \u001b[0msublist\u001b[0m \u001b[0;34m>\u001b[0m \u001b[0;36m0\u001b[0m\u001b[0;34m:\u001b[0m\u001b[0;34m\u001b[0m\u001b[0;34m\u001b[0m\u001b[0m\n",
            "\u001b[0;31mTypeError\u001b[0m: 'type' object is not iterable"
          ]
        }
      ]
    },
    {
      "cell_type": "markdown",
      "source": [
        "# 7 . Say NO to Comprehensions"
      ],
      "metadata": {
        "id": "6k3gX_nhcv--"
      }
    },
    {
      "cell_type": "code",
      "source": [
        "def use_loop(max_value: int) -> list:\n",
        "    result = []\n",
        "    for value in range(max_value):\n",
        "        if value % 2 == 0:\n",
        "            result.append(value)\n",
        "    return result\n",
        "\n",
        "def use_comprehension(max_value: int) -> list:\n",
        "    return [x for x in range(max_value) if x % 2 == 0]\n",
        "\n",
        "print(use_loop(10))  # Output: [0, 2, 4, 6, 8]\n",
        "print(use_comprehension(10))  # Output: [0, 2, 4, 6, 8]"
      ],
      "metadata": {
        "colab": {
          "base_uri": "https://localhost:8080/"
        },
        "id": "I0hfdo-8cuvk",
        "outputId": "89850ec3-1ec5-4049-98ac-c407a3e29c5b"
      },
      "execution_count": 8,
      "outputs": [
        {
          "output_type": "stream",
          "name": "stdout",
          "text": [
            "[0, 2, 4, 6, 8]\n",
            "[0, 2, 4, 6, 8]\n"
          ]
        }
      ]
    },
    {
      "cell_type": "markdown",
      "source": [
        "# 8. Default Mutable Arguments"
      ],
      "metadata": {
        "id": "8xiYKIyHcyhh"
      }
    },
    {
      "cell_type": "code",
      "source": [
        "def add_item(n, l=[]):\n",
        "    l.append(n)\n",
        "    return l\n",
        "\n",
        "print(add_item(1))  # Expected Output: [1] - Actual Output: [1]\n",
        "print(add_item(2))  # Expected Output: [2] - Actual Output: [1, 2]\n",
        "print(add_item(3))  # Expected Output: [3] - Actual Output: [1, 2, 3]"
      ],
      "metadata": {
        "colab": {
          "base_uri": "https://localhost:8080/"
        },
        "id": "MqQYDo1jcxgW",
        "outputId": "4a7d822f-d328-41db-d0fe-23986bd19ce1"
      },
      "execution_count": 9,
      "outputs": [
        {
          "output_type": "stream",
          "name": "stdout",
          "text": [
            "[1]\n",
            "[1, 2]\n",
            "[1, 2, 3]\n"
          ]
        }
      ]
    },
    {
      "cell_type": "code",
      "source": [
        "def add_item(n, l=None):\n",
        "    if l is None:\n",
        "        l = []\n",
        "    l.append(n)\n",
        "    return l\n",
        "\n",
        "print(add_item(1))  # Expected Output: [1] - Actual Output: [1]\n",
        "print(add_item(2))  # Expected Output: [2] - Actual Output: [2]\n",
        "print(add_item(3))  # Expected Output: [3] - Actual Output: [3]"
      ],
      "metadata": {
        "colab": {
          "base_uri": "https://localhost:8080/"
        },
        "id": "60xPakS_c0Cg",
        "outputId": "b7b3858a-14de-40a3-c24e-471b0ae7fc91"
      },
      "execution_count": 10,
      "outputs": [
        {
          "output_type": "stream",
          "name": "stdout",
          "text": [
            "[1]\n",
            "[2]\n",
            "[3]\n"
          ]
        }
      ]
    },
    {
      "cell_type": "markdown",
      "source": [
        "# 9. Print Statements Instead of Using the Logging Module\n",
        "- The logging module provides more detailed and informative messages that we can use to track down issues.\n",
        "- With the logging module, it is possible to control the level of messages that are logged, making it easier to filter and manage messages.\n",
        "- With the logging module, messages can be written to a file, a database, or any other output stream."
      ],
      "metadata": {
        "id": "JRHAbW-Wc2gy"
      }
    },
    {
      "cell_type": "markdown",
      "source": [
        "# 10. Not following PEP 8\n",
        "1. Consistency: Following a consistent coding style helps make your code more readable and understandable.\n",
        "2. Collaboration: When working on a project with multiple developers, following a consistent coding style can help ensure that everyone is on the same page and can work together more efficiently."
      ],
      "metadata": {
        "id": "8KKoflp8c9ad"
      }
    }
  ]
}
