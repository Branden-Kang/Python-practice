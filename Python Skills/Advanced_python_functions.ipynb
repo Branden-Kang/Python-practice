{
  "nbformat": 4,
  "nbformat_minor": 0,
  "metadata": {
    "colab": {
      "provenance": [],
      "authorship_tag": "ABX9TyMStyH7dMl2wzj8xzrHKSJ9"
    },
    "kernelspec": {
      "name": "python3",
      "display_name": "Python 3"
    },
    "language_info": {
      "name": "python"
    }
  },
  "cells": [
    {
      "cell_type": "markdown",
      "source": [
        "[Reference](https://medium.com/@etirismagazine/advanced-puthon-functions-part-two-c0a026a3d7da)"
      ],
      "metadata": {
        "id": "pjApgGMNIxgZ"
      }
    },
    {
      "cell_type": "code",
      "execution_count": 1,
      "metadata": {
        "colab": {
          "base_uri": "https://localhost:8080/"
        },
        "id": "yAckG3j9_967",
        "outputId": "f26180eb-40cf-4bfb-86b9-7805e1c0b07d"
      },
      "outputs": [
        {
          "output_type": "stream",
          "name": "stdout",
          "text": [
            "a ['apple']\n",
            "b ['banana']\n",
            "c ['cherry']\n",
            "d ['date']\n",
            "e ['elderberry']\n",
            "f ['fig']\n"
          ]
        }
      ],
      "source": [
        "from itertools import groupby\n",
        "\n",
        "words = ['apple', 'banana', 'cherry', 'date', 'elderberry', 'fig']\n",
        "\n",
        "for first_letter, group in groupby(sorted(words), key=lambda x: x[0]):\n",
        "    print(first_letter, list(group))"
      ]
    },
    {
      "cell_type": "code",
      "source": [
        "from functools import partial\n",
        "\n",
        "def multiply(x, y):\n",
        "    return x * y\n",
        "\n",
        "times_10 = partial(multiply, 10)\n",
        "\n",
        "print(times_10(5))  # 50"
      ],
      "metadata": {
        "colab": {
          "base_uri": "https://localhost:8080/"
        },
        "id": "l-koyasXI0m5",
        "outputId": "f74cac9c-d161-4aab-98ad-26d334cc1dd7"
      },
      "execution_count": 2,
      "outputs": [
        {
          "output_type": "stream",
          "name": "stdout",
          "text": [
            "50\n"
          ]
        }
      ]
    },
    {
      "cell_type": "code",
      "source": [
        "import operator\n",
        "\n",
        "class Person:\n",
        "    def __init__(self, name, age):\n",
        "        self.name = name\n",
        "        self.age = age\n",
        "\n",
        "people = [Person('Bob', 30), Person('Charlie', 25), Person('Alice', 35)]\n",
        "\n",
        "sorted_people = sorted(people, key=operator.attrgetter('name'))\n",
        "\n",
        "for person in sorted_people:\n",
        "    print(person.name)"
      ],
      "metadata": {
        "colab": {
          "base_uri": "https://localhost:8080/"
        },
        "id": "B664BoR-I13U",
        "outputId": "c0912838-9055-4c19-993f-5e2cdc5ba1b4"
      },
      "execution_count": 3,
      "outputs": [
        {
          "output_type": "stream",
          "name": "stdout",
          "text": [
            "Alice\n",
            "Bob\n",
            "Charlie\n"
          ]
        }
      ]
    },
    {
      "cell_type": "code",
      "source": [
        "data = [(1, 'a'), (3, 'b'), (2, 'c')]\n",
        "\n",
        "sorted_data = sorted(data, key=operator.itemgetter(1))\n",
        "\n",
        "for item in sorted_data:\n",
        "    print(item)"
      ],
      "metadata": {
        "colab": {
          "base_uri": "https://localhost:8080/"
        },
        "id": "0q4g1JAzI3G5",
        "outputId": "866383c0-c814-4366-bf72-8defb4369487"
      },
      "execution_count": 4,
      "outputs": [
        {
          "output_type": "stream",
          "name": "stdout",
          "text": [
            "(1, 'a')\n",
            "(3, 'b')\n",
            "(2, 'c')\n"
          ]
        }
      ]
    }
  ]
}
