{
  "nbformat": 4,
  "nbformat_minor": 0,
  "metadata": {
    "colab": {
      "name": "Best Python packages to generate fake data.ipynb",
      "provenance": [],
      "authorship_tag": "ABX9TyOl8j5ejtqRiB3WwxEFlnkZ"
    },
    "kernelspec": {
      "name": "python3",
      "display_name": "Python 3"
    },
    "language_info": {
      "name": "python"
    }
  },
  "cells": [
    {
      "cell_type": "markdown",
      "metadata": {
        "id": "mIM1HKaAn5yl"
      },
      "source": [
        "[Reference](https://preettheman.medium.com/best-python-packages-to-generate-fake-data-76492ff7e19f)"
      ]
    },
    {
      "cell_type": "markdown",
      "metadata": {
        "id": "DOsmNtGVoBxx"
      },
      "source": [
        "# Faker"
      ]
    },
    {
      "cell_type": "code",
      "metadata": {
        "colab": {
          "base_uri": "https://localhost:8080/"
        },
        "id": "d6fxYj0yoC9q",
        "outputId": "f706e55b-4e79-4acf-90f9-ac5535ae46b6"
      },
      "source": [
        "pip install faker"
      ],
      "execution_count": 2,
      "outputs": [
        {
          "output_type": "stream",
          "text": [
            "Collecting faker\n",
            "\u001b[?25l  Downloading https://files.pythonhosted.org/packages/0a/68/fe046058a1aceed43b084e06564c301bc35719914c294533b8df5311c12d/Faker-8.3.0-py3-none-any.whl (1.2MB)\n",
            "\r\u001b[K     |▎                               | 10kB 19.2MB/s eta 0:00:01\r\u001b[K     |▋                               | 20kB 16.7MB/s eta 0:00:01\r\u001b[K     |▉                               | 30kB 13.9MB/s eta 0:00:01\r\u001b[K     |█▏                              | 40kB 12.9MB/s eta 0:00:01\r\u001b[K     |█▍                              | 51kB 7.0MB/s eta 0:00:01\r\u001b[K     |█▊                              | 61kB 6.8MB/s eta 0:00:01\r\u001b[K     |██                              | 71kB 7.7MB/s eta 0:00:01\r\u001b[K     |██▎                             | 81kB 8.1MB/s eta 0:00:01\r\u001b[K     |██▌                             | 92kB 8.4MB/s eta 0:00:01\r\u001b[K     |██▉                             | 102kB 6.8MB/s eta 0:00:01\r\u001b[K     |███                             | 112kB 6.8MB/s eta 0:00:01\r\u001b[K     |███▍                            | 122kB 6.8MB/s eta 0:00:01\r\u001b[K     |███▋                            | 133kB 6.8MB/s eta 0:00:01\r\u001b[K     |████                            | 143kB 6.8MB/s eta 0:00:01\r\u001b[K     |████▏                           | 153kB 6.8MB/s eta 0:00:01\r\u001b[K     |████▌                           | 163kB 6.8MB/s eta 0:00:01\r\u001b[K     |████▊                           | 174kB 6.8MB/s eta 0:00:01\r\u001b[K     |█████                           | 184kB 6.8MB/s eta 0:00:01\r\u001b[K     |█████▍                          | 194kB 6.8MB/s eta 0:00:01\r\u001b[K     |█████▋                          | 204kB 6.8MB/s eta 0:00:01\r\u001b[K     |██████                          | 215kB 6.8MB/s eta 0:00:01\r\u001b[K     |██████▏                         | 225kB 6.8MB/s eta 0:00:01\r\u001b[K     |██████▌                         | 235kB 6.8MB/s eta 0:00:01\r\u001b[K     |██████▊                         | 245kB 6.8MB/s eta 0:00:01\r\u001b[K     |███████                         | 256kB 6.8MB/s eta 0:00:01\r\u001b[K     |███████▎                        | 266kB 6.8MB/s eta 0:00:01\r\u001b[K     |███████▋                        | 276kB 6.8MB/s eta 0:00:01\r\u001b[K     |███████▉                        | 286kB 6.8MB/s eta 0:00:01\r\u001b[K     |████████▏                       | 296kB 6.8MB/s eta 0:00:01\r\u001b[K     |████████▍                       | 307kB 6.8MB/s eta 0:00:01\r\u001b[K     |████████▊                       | 317kB 6.8MB/s eta 0:00:01\r\u001b[K     |█████████                       | 327kB 6.8MB/s eta 0:00:01\r\u001b[K     |█████████▎                      | 337kB 6.8MB/s eta 0:00:01\r\u001b[K     |█████████▌                      | 348kB 6.8MB/s eta 0:00:01\r\u001b[K     |█████████▉                      | 358kB 6.8MB/s eta 0:00:01\r\u001b[K     |██████████                      | 368kB 6.8MB/s eta 0:00:01\r\u001b[K     |██████████▍                     | 378kB 6.8MB/s eta 0:00:01\r\u001b[K     |██████████▊                     | 389kB 6.8MB/s eta 0:00:01\r\u001b[K     |███████████                     | 399kB 6.8MB/s eta 0:00:01\r\u001b[K     |███████████▎                    | 409kB 6.8MB/s eta 0:00:01\r\u001b[K     |███████████▌                    | 419kB 6.8MB/s eta 0:00:01\r\u001b[K     |███████████▉                    | 430kB 6.8MB/s eta 0:00:01\r\u001b[K     |████████████                    | 440kB 6.8MB/s eta 0:00:01\r\u001b[K     |████████████▍                   | 450kB 6.8MB/s eta 0:00:01\r\u001b[K     |████████████▋                   | 460kB 6.8MB/s eta 0:00:01\r\u001b[K     |█████████████                   | 471kB 6.8MB/s eta 0:00:01\r\u001b[K     |█████████████▏                  | 481kB 6.8MB/s eta 0:00:01\r\u001b[K     |█████████████▌                  | 491kB 6.8MB/s eta 0:00:01\r\u001b[K     |█████████████▊                  | 501kB 6.8MB/s eta 0:00:01\r\u001b[K     |██████████████                  | 512kB 6.8MB/s eta 0:00:01\r\u001b[K     |██████████████▎                 | 522kB 6.8MB/s eta 0:00:01\r\u001b[K     |██████████████▋                 | 532kB 6.8MB/s eta 0:00:01\r\u001b[K     |██████████████▉                 | 542kB 6.8MB/s eta 0:00:01\r\u001b[K     |███████████████▏                | 552kB 6.8MB/s eta 0:00:01\r\u001b[K     |███████████████▍                | 563kB 6.8MB/s eta 0:00:01\r\u001b[K     |███████████████▊                | 573kB 6.8MB/s eta 0:00:01\r\u001b[K     |████████████████                | 583kB 6.8MB/s eta 0:00:01\r\u001b[K     |████████████████▎               | 593kB 6.8MB/s eta 0:00:01\r\u001b[K     |████████████████▋               | 604kB 6.8MB/s eta 0:00:01\r\u001b[K     |████████████████▉               | 614kB 6.8MB/s eta 0:00:01\r\u001b[K     |█████████████████▏              | 624kB 6.8MB/s eta 0:00:01\r\u001b[K     |█████████████████▍              | 634kB 6.8MB/s eta 0:00:01\r\u001b[K     |█████████████████▊              | 645kB 6.8MB/s eta 0:00:01\r\u001b[K     |██████████████████              | 655kB 6.8MB/s eta 0:00:01\r\u001b[K     |██████████████████▎             | 665kB 6.8MB/s eta 0:00:01\r\u001b[K     |██████████████████▌             | 675kB 6.8MB/s eta 0:00:01\r\u001b[K     |██████████████████▉             | 686kB 6.8MB/s eta 0:00:01\r\u001b[K     |███████████████████             | 696kB 6.8MB/s eta 0:00:01\r\u001b[K     |███████████████████▍            | 706kB 6.8MB/s eta 0:00:01\r\u001b[K     |███████████████████▋            | 716kB 6.8MB/s eta 0:00:01\r\u001b[K     |████████████████████            | 727kB 6.8MB/s eta 0:00:01\r\u001b[K     |████████████████████▏           | 737kB 6.8MB/s eta 0:00:01\r\u001b[K     |████████████████████▌           | 747kB 6.8MB/s eta 0:00:01\r\u001b[K     |████████████████████▊           | 757kB 6.8MB/s eta 0:00:01\r\u001b[K     |█████████████████████           | 768kB 6.8MB/s eta 0:00:01\r\u001b[K     |█████████████████████▍          | 778kB 6.8MB/s eta 0:00:01\r\u001b[K     |█████████████████████▋          | 788kB 6.8MB/s eta 0:00:01\r\u001b[K     |██████████████████████          | 798kB 6.8MB/s eta 0:00:01\r\u001b[K     |██████████████████████▏         | 808kB 6.8MB/s eta 0:00:01\r\u001b[K     |██████████████████████▌         | 819kB 6.8MB/s eta 0:00:01\r\u001b[K     |██████████████████████▊         | 829kB 6.8MB/s eta 0:00:01\r\u001b[K     |███████████████████████         | 839kB 6.8MB/s eta 0:00:01\r\u001b[K     |███████████████████████▎        | 849kB 6.8MB/s eta 0:00:01\r\u001b[K     |███████████████████████▋        | 860kB 6.8MB/s eta 0:00:01\r\u001b[K     |███████████████████████▉        | 870kB 6.8MB/s eta 0:00:01\r\u001b[K     |████████████████████████▏       | 880kB 6.8MB/s eta 0:00:01\r\u001b[K     |████████████████████████▍       | 890kB 6.8MB/s eta 0:00:01\r\u001b[K     |████████████████████████▊       | 901kB 6.8MB/s eta 0:00:01\r\u001b[K     |█████████████████████████       | 911kB 6.8MB/s eta 0:00:01\r\u001b[K     |█████████████████████████▎      | 921kB 6.8MB/s eta 0:00:01\r\u001b[K     |█████████████████████████▌      | 931kB 6.8MB/s eta 0:00:01\r\u001b[K     |█████████████████████████▉      | 942kB 6.8MB/s eta 0:00:01\r\u001b[K     |██████████████████████████      | 952kB 6.8MB/s eta 0:00:01\r\u001b[K     |██████████████████████████▍     | 962kB 6.8MB/s eta 0:00:01\r\u001b[K     |██████████████████████████▊     | 972kB 6.8MB/s eta 0:00:01\r\u001b[K     |███████████████████████████     | 983kB 6.8MB/s eta 0:00:01\r\u001b[K     |███████████████████████████▎    | 993kB 6.8MB/s eta 0:00:01\r\u001b[K     |███████████████████████████▌    | 1.0MB 6.8MB/s eta 0:00:01\r\u001b[K     |███████████████████████████▉    | 1.0MB 6.8MB/s eta 0:00:01\r\u001b[K     |████████████████████████████    | 1.0MB 6.8MB/s eta 0:00:01\r\u001b[K     |████████████████████████████▍   | 1.0MB 6.8MB/s eta 0:00:01\r\u001b[K     |████████████████████████████▋   | 1.0MB 6.8MB/s eta 0:00:01\r\u001b[K     |█████████████████████████████   | 1.1MB 6.8MB/s eta 0:00:01\r\u001b[K     |█████████████████████████████▏  | 1.1MB 6.8MB/s eta 0:00:01\r\u001b[K     |█████████████████████████████▌  | 1.1MB 6.8MB/s eta 0:00:01\r\u001b[K     |█████████████████████████████▊  | 1.1MB 6.8MB/s eta 0:00:01\r\u001b[K     |██████████████████████████████  | 1.1MB 6.8MB/s eta 0:00:01\r\u001b[K     |██████████████████████████████▎ | 1.1MB 6.8MB/s eta 0:00:01\r\u001b[K     |██████████████████████████████▋ | 1.1MB 6.8MB/s eta 0:00:01\r\u001b[K     |██████████████████████████████▉ | 1.1MB 6.8MB/s eta 0:00:01\r\u001b[K     |███████████████████████████████▏| 1.1MB 6.8MB/s eta 0:00:01\r\u001b[K     |███████████████████████████████▍| 1.1MB 6.8MB/s eta 0:00:01\r\u001b[K     |███████████████████████████████▊| 1.2MB 6.8MB/s eta 0:00:01\r\u001b[K     |████████████████████████████████| 1.2MB 6.8MB/s \n",
            "\u001b[?25hRequirement already satisfied: python-dateutil>=2.4 in /usr/local/lib/python3.7/dist-packages (from faker) (2.8.1)\n",
            "Requirement already satisfied: text-unidecode==1.3 in /usr/local/lib/python3.7/dist-packages (from faker) (1.3)\n",
            "Requirement already satisfied: six>=1.5 in /usr/local/lib/python3.7/dist-packages (from python-dateutil>=2.4->faker) (1.15.0)\n",
            "Installing collected packages: faker\n",
            "Successfully installed faker-8.3.0\n"
          ],
          "name": "stdout"
        }
      ]
    },
    {
      "cell_type": "code",
      "metadata": {
        "colab": {
          "base_uri": "https://localhost:8080/"
        },
        "id": "fKBk4V_Zn25w",
        "outputId": "6967e2df-b17d-48b9-87e8-479a9f0e54d6"
      },
      "source": [
        "from faker import Faker\n",
        "fake = Faker()\n",
        "\n",
        "print(fake.name())\n",
        "\n",
        "print(fake.address())\n",
        "\n",
        "print(fake.text())"
      ],
      "execution_count": 4,
      "outputs": [
        {
          "output_type": "stream",
          "text": [
            "George James\n",
            "64894 Phillip Lodge\n",
            "Kingville, IA 87838\n",
            "Type point among institution culture. Check everyone thought behind compare cost.\n",
            "They day per current. Particularly character top ago scientist together cold.\n"
          ],
          "name": "stdout"
        }
      ]
    },
    {
      "cell_type": "markdown",
      "metadata": {
        "id": "GLt0QSd_oGAQ"
      },
      "source": [
        "# Mimesis"
      ]
    },
    {
      "cell_type": "code",
      "metadata": {
        "colab": {
          "base_uri": "https://localhost:8080/"
        },
        "id": "aNuYTJRvoUuy",
        "outputId": "4ec74642-a950-4de5-f319-2fbfa2450fc0"
      },
      "source": [
        "pip install mimesis"
      ],
      "execution_count": 6,
      "outputs": [
        {
          "output_type": "stream",
          "text": [
            "Collecting mimesis\n",
            "\u001b[?25l  Downloading https://files.pythonhosted.org/packages/2d/f0/29d3ff558fdcafd2eb11a46008ea308554f1e38714f009ad433849e241a8/mimesis-4.1.3.tar.gz (2.8MB)\n",
            "\u001b[K     |████████████████████████████████| 2.8MB 7.6MB/s \n",
            "\u001b[?25hBuilding wheels for collected packages: mimesis\n",
            "  Building wheel for mimesis (setup.py) ... \u001b[?25l\u001b[?25hdone\n",
            "  Created wheel for mimesis: filename=mimesis-4.1.3-cp37-none-any.whl size=2849711 sha256=629918b3b840fe88a4ec299d7d98979dc9cc12e2b9c9d33521dea29e67fb21e1\n",
            "  Stored in directory: /root/.cache/pip/wheels/62/9f/72/6528c19b53d5861565e0ee62a6a2c0b1a961ea6e4dc96f36b7\n",
            "Successfully built mimesis\n",
            "Installing collected packages: mimesis\n",
            "Successfully installed mimesis-4.1.3\n"
          ],
          "name": "stdout"
        }
      ]
    },
    {
      "cell_type": "code",
      "metadata": {
        "colab": {
          "base_uri": "https://localhost:8080/"
        },
        "id": "VKTJ2ETuoATO",
        "outputId": "23faaba0-9e48-49b4-f4a4-e975c6fca789"
      },
      "source": [
        "from mimesis import Person\n",
        "person = Person('en')\n",
        "\n",
        "print(person.full_name())\n",
        "\n",
        "print(person.email(domains=['mimesis.name']))\n",
        "\n",
        "print(person.email(domains=['mimesis.name'], unique=True))\n",
        "\n",
        "print(person.telephone(mask='1-4##-8##-5##3'))"
      ],
      "execution_count": 7,
      "outputs": [
        {
          "output_type": "stream",
          "text": [
            "Kellye Campbell\n",
            "owl2063@mimesis.name\n",
            "16acb88383ae478db42e0b44c4fa9826@mimesis.name\n",
            "1-495-839-5173\n"
          ],
          "name": "stdout"
        }
      ]
    },
    {
      "cell_type": "markdown",
      "metadata": {
        "id": "uCNBYNFHogaz"
      },
      "source": [
        "# Radar"
      ]
    },
    {
      "cell_type": "code",
      "metadata": {
        "colab": {
          "base_uri": "https://localhost:8080/"
        },
        "id": "jqPtUwSFoksf",
        "outputId": "ff1624fc-ae01-4809-8183-15c5a3bbfe77"
      },
      "source": [
        "pip install radar"
      ],
      "execution_count": 9,
      "outputs": [
        {
          "output_type": "stream",
          "text": [
            "Collecting radar\n",
            "  Downloading https://files.pythonhosted.org/packages/96/46/66a561b628b6e341eebf47b1c4bf53f77c3c807929aa42f5a4cd6f476068/radar-0.3.tar.gz\n",
            "Building wheels for collected packages: radar\n",
            "  Building wheel for radar (setup.py) ... \u001b[?25l\u001b[?25hdone\n",
            "  Created wheel for radar: filename=radar-0.3-cp37-none-any.whl size=5009 sha256=2a5a152f62f24440325fe04fb062d2c4682a06b6d683a7931da0d66260a93ffd\n",
            "  Stored in directory: /root/.cache/pip/wheels/46/12/72/baa817bd2cf8e19dccdd9cc068e2b9908c1f3bfaacb709dc70\n",
            "Successfully built radar\n",
            "Installing collected packages: radar\n",
            "Successfully installed radar-0.3\n"
          ],
          "name": "stdout"
        }
      ]
    },
    {
      "cell_type": "code",
      "metadata": {
        "colab": {
          "base_uri": "https://localhost:8080/"
        },
        "id": "3eoSunYkoTxM",
        "outputId": "fd47be77-37db-4606-e81d-6fbe97a9a0a2"
      },
      "source": [
        "import datetime\n",
        "import radar\n",
        "radar.random_date(\n",
        "    start = datetime.datetime(year=2000, month=5, day=24),\n",
        "    stop = datetime.datetime(year=2013, month=5, day=24)\n",
        ")\n",
        "datetime.date(2012, 12, 31)"
      ],
      "execution_count": 10,
      "outputs": [
        {
          "output_type": "execute_result",
          "data": {
            "text/plain": [
              "datetime.date(2012, 12, 31)"
            ]
          },
          "metadata": {
            "tags": []
          },
          "execution_count": 10
        }
      ]
    },
    {
      "cell_type": "code",
      "metadata": {
        "colab": {
          "base_uri": "https://localhost:8080/",
          "height": 412
        },
        "id": "cTNxm-0Hoj5Q",
        "outputId": "daec81f5-2776-4eca-80ce-7e1124387f9e"
      },
      "source": [
        "pip install fake2db"
      ],
      "execution_count": 11,
      "outputs": [
        {
          "output_type": "stream",
          "text": [
            "Collecting fake2db\n",
            "  Downloading https://files.pythonhosted.org/packages/cd/06/47cb22381deb81867a58a308d8043ea384c26c1fb1de659d171c6dd44c2b/fake2db-0.5.4.tar.gz\n",
            "Collecting Faker==0.7.11\n",
            "\u001b[?25l  Downloading https://files.pythonhosted.org/packages/70/74/b189e29ed26cef69a31d495999a7da38c11547464576d7eb2ce7711529c1/Faker-0.7.11-py2.py3-none-any.whl (579kB)\n",
            "\u001b[K     |████████████████████████████████| 583kB 7.7MB/s \n",
            "\u001b[?25hRequirement already satisfied: six in /usr/local/lib/python3.7/dist-packages (from Faker==0.7.11->fake2db) (1.15.0)\n",
            "Requirement already satisfied: python-dateutil>=2.4 in /usr/local/lib/python3.7/dist-packages (from Faker==0.7.11->fake2db) (2.8.1)\n",
            "Building wheels for collected packages: fake2db\n",
            "  Building wheel for fake2db (setup.py) ... \u001b[?25l\u001b[?25hdone\n",
            "  Created wheel for fake2db: filename=fake2db-0.5.4-cp37-none-any.whl size=17158 sha256=0a2a5fa8eb79c4a566904b3c316fa6a8a8b504b4ce67eda3b69209db0d6743eb\n",
            "  Stored in directory: /root/.cache/pip/wheels/1e/b5/99/832066fef865c68b1540001e7a36a8cc702e1507dbf715880b\n",
            "Successfully built fake2db\n",
            "Installing collected packages: Faker, fake2db\n",
            "  Found existing installation: Faker 8.3.0\n",
            "    Uninstalling Faker-8.3.0:\n",
            "      Successfully uninstalled Faker-8.3.0\n",
            "Successfully installed Faker-0.7.11 fake2db-0.5.4\n"
          ],
          "name": "stdout"
        },
        {
          "output_type": "display_data",
          "data": {
            "application/vnd.colab-display-data+json": {
              "pip_warning": {
                "packages": [
                  "faker"
                ]
              }
            }
          },
          "metadata": {
            "tags": []
          }
        }
      ]
    }
  ]
}