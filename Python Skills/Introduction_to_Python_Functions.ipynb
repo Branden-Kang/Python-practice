{
  "nbformat": 4,
  "nbformat_minor": 0,
  "metadata": {
    "colab": {
      "name": "Introduction to Python Functions.ipynb",
      "provenance": [],
      "authorship_tag": "ABX9TyNWQyGP+nV9DHVNWXKqVDsK"
    },
    "kernelspec": {
      "name": "python3",
      "display_name": "Python 3"
    },
    "language_info": {
      "name": "python"
    }
  },
  "cells": [
    {
      "cell_type": "markdown",
      "metadata": {
        "id": "XLETANm7y4ZB"
      },
      "source": [
        "[Reference](https://python.plainenglish.io/introduction-to-python-functions-96e51017132c)"
      ]
    },
    {
      "cell_type": "code",
      "metadata": {
        "id": "xD6sgYePyJnC"
      },
      "source": [
        "def printme(str_data):\n",
        "    \"This prints a passed string into this function\"\n",
        "    print(str_data)\n",
        "    return"
      ],
      "execution_count": 1,
      "outputs": []
    },
    {
      "cell_type": "code",
      "metadata": {
        "colab": {
          "base_uri": "https://localhost:8080/"
        },
        "id": "eBnQRs_7y8eg",
        "outputId": "b71b9b48-8dc4-41c7-8e92-bb5c582c93e4"
      },
      "source": [
        "# Now you can call printme function\n",
        "printme(\"I'm the first call to a user defined function!\")\n",
        "printme(\"Again second call to the same function\")"
      ],
      "execution_count": 2,
      "outputs": [
        {
          "output_type": "stream",
          "text": [
            "I'm the first call to a user defined function!\n",
            "Again second call to the same function\n"
          ],
          "name": "stdout"
        }
      ]
    }
  ]
}