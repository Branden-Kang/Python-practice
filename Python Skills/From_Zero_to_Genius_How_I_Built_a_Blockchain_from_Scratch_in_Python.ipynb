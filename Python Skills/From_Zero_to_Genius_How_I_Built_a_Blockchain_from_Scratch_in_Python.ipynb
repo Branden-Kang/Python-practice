{
  "nbformat": 4,
  "nbformat_minor": 0,
  "metadata": {
    "colab": {
      "provenance": [],
      "authorship_tag": "ABX9TyOoJ5T9pMIfWYbGsiXQRldT"
    },
    "kernelspec": {
      "name": "python3",
      "display_name": "Python 3"
    },
    "language_info": {
      "name": "python"
    }
  },
  "cells": [
    {
      "cell_type": "markdown",
      "source": [
        "[Reference](https://medium.com/illumination/from-zero-to-genius-how-i-built-a-blockchain-from-scratch-in-python-c558de21fa45)"
      ],
      "metadata": {
        "id": "F0eTljdsjpbS"
      }
    },
    {
      "cell_type": "markdown",
      "source": [
        "# Step 1: Creating a Helper Function to Hash Data"
      ],
      "metadata": {
        "id": "Uq7rtK2HlxJh"
      }
    },
    {
      "cell_type": "code",
      "execution_count": 1,
      "metadata": {
        "id": "K-nwqFBMjm_N"
      },
      "outputs": [],
      "source": [
        "# Importing required libraries\n",
        "import hashlib\n",
        "import json\n",
        "import sys\n",
        "\n",
        "# Defining a helper function that wraps our hashing algorithm\n",
        "def hashMe(msg=\"\"):\n",
        "    if type(msg) != str:\n",
        "        msg = json.dumps(msg, sort_keys=True)\n",
        "\n",
        "    return hashlib.sha256(str(msg).encode('utf-8')).hexdigest()"
      ]
    },
    {
      "cell_type": "code",
      "source": [
        "transaction = {'Alice': 174, 'Bob': -174}\n",
        "print(hashMe(transaction))"
      ],
      "metadata": {
        "colab": {
          "base_uri": "https://localhost:8080/"
        },
        "id": "5cXF_V0nltcp",
        "outputId": "4e39d56f-38e8-4120-f02f-7aa19e955744"
      },
      "execution_count": 2,
      "outputs": [
        {
          "output_type": "stream",
          "name": "stdout",
          "text": [
            "224621c1e16d5d087b9f8463bae50736fe810670b8445c5f0ae97d4483b36f1f\n"
          ]
        }
      ]
    },
    {
      "cell_type": "markdown",
      "source": [
        "# Step 2: Generating Transactions"
      ],
      "metadata": {
        "id": "Bo2itIiklz1N"
      }
    },
    {
      "cell_type": "code",
      "source": [
        "import random\n",
        "random.seed(2)  # Sets a fixed seed so results are predictable every time you run the code (good for debugging and reproducibility)\n",
        "\n",
        "def makeTransaction(maxValue = 1000):  # This will create valid transactions in the range (1, maxValue)\n",
        "    sign = int(random.getrandbits(1)) * 2 - 1  # Randomly choose between -1 or 1 (whether Alice pays Bob or Bob pays Alice)\n",
        "    amount = random.randint(1, maxValue)  # Randomly select the amount to be exchanged\n",
        "    aliceAmount = sign * amount  # Alice's amount will be positive or negative depending on the sign\n",
        "    bobAmount = -1 * aliceAmount  # Bob's amount is the opposite of Alice's, making the transaction balanced\n",
        "\n",
        "    return {u'Alice': aliceAmount, u'Bob': bobAmount}"
      ],
      "metadata": {
        "id": "SfkvNathluxJ"
      },
      "execution_count": 3,
      "outputs": []
    },
    {
      "cell_type": "code",
      "source": [
        "transactionBuffer = [makeTransaction() for _ in range(100)]  # Generate 100 transactions\n",
        "print(transactionBuffer)  # Display the list of transactions"
      ],
      "metadata": {
        "colab": {
          "base_uri": "https://localhost:8080/"
        },
        "id": "lYen5HI0l2e2",
        "outputId": "1e71c1b7-fd42-42c9-efc2-befb0d3c29a1"
      },
      "execution_count": 4,
      "outputs": [
        {
          "output_type": "stream",
          "name": "stdout",
          "text": [
            "[{'Alice': 884, 'Bob': -884}, {'Alice': 870, 'Bob': -870}, {'Alice': -94, 'Bob': 94}, {'Alice': -370, 'Bob': 370}, {'Alice': 174, 'Bob': -174}, {'Alice': 829, 'Bob': -829}, {'Alice': 875, 'Bob': -875}, {'Alice': -258, 'Bob': 258}, {'Alice': 218, 'Bob': -218}, {'Alice': 37, 'Bob': -37}, {'Alice': 698, 'Bob': -698}, {'Alice': -442, 'Bob': 442}, {'Alice': 403, 'Bob': -403}, {'Alice': 741, 'Bob': -741}, {'Alice': 522, 'Bob': -522}, {'Alice': 381, 'Bob': -381}, {'Alice': 959, 'Bob': -959}, {'Alice': -515, 'Bob': 515}, {'Alice': -923, 'Bob': 923}, {'Alice': -892, 'Bob': 892}, {'Alice': -373, 'Bob': 373}, {'Alice': -955, 'Bob': 955}, {'Alice': -930, 'Bob': 930}, {'Alice': -434, 'Bob': 434}, {'Alice': 906, 'Bob': -906}, {'Alice': 169, 'Bob': -169}, {'Alice': 182, 'Bob': -182}, {'Alice': -237, 'Bob': 237}, {'Alice': -181, 'Bob': 181}, {'Alice': -178, 'Bob': 178}, {'Alice': -523, 'Bob': 523}, {'Alice': 369, 'Bob': -369}, {'Alice': 527, 'Bob': -527}, {'Alice': 574, 'Bob': -574}, {'Alice': -916, 'Bob': 916}, {'Alice': -816, 'Bob': 816}, {'Alice': -753, 'Bob': 753}, {'Alice': 929, 'Bob': -929}, {'Alice': 782, 'Bob': -782}, {'Alice': -809, 'Bob': 809}, {'Alice': 363, 'Bob': -363}, {'Alice': -880, 'Bob': 880}, {'Alice': 457, 'Bob': -457}, {'Alice': -978, 'Bob': 978}, {'Alice': 410, 'Bob': -410}, {'Alice': 757, 'Bob': -757}, {'Alice': -671, 'Bob': 671}, {'Alice': 256, 'Bob': -256}, {'Alice': -286, 'Bob': 286}, {'Alice': 511, 'Bob': -511}, {'Alice': 528, 'Bob': -528}, {'Alice': 816, 'Bob': -816}, {'Alice': -678, 'Bob': 678}, {'Alice': 466, 'Bob': -466}, {'Alice': 925, 'Bob': -925}, {'Alice': -360, 'Bob': 360}, {'Alice': 744, 'Bob': -744}, {'Alice': 571, 'Bob': -571}, {'Alice': 468, 'Bob': -468}, {'Alice': -675, 'Bob': 675}, {'Alice': -964, 'Bob': 964}, {'Alice': -835, 'Bob': 835}, {'Alice': 856, 'Bob': -856}, {'Alice': -898, 'Bob': 898}, {'Alice': 632, 'Bob': -632}, {'Alice': -792, 'Bob': 792}, {'Alice': 492, 'Bob': -492}, {'Alice': -311, 'Bob': 311}, {'Alice': 819, 'Bob': -819}, {'Alice': 852, 'Bob': -852}, {'Alice': 576, 'Bob': -576}, {'Alice': 520, 'Bob': -520}, {'Alice': 631, 'Bob': -631}, {'Alice': 417, 'Bob': -417}, {'Alice': -749, 'Bob': 749}, {'Alice': -501, 'Bob': 501}, {'Alice': 376, 'Bob': -376}, {'Alice': 701, 'Bob': -701}, {'Alice': 904, 'Bob': -904}, {'Alice': -804, 'Bob': 804}, {'Alice': 350, 'Bob': -350}, {'Alice': 9, 'Bob': -9}, {'Alice': 835, 'Bob': -835}, {'Alice': -763, 'Bob': 763}, {'Alice': -61, 'Bob': 61}, {'Alice': 669, 'Bob': -669}, {'Alice': -280, 'Bob': 280}, {'Alice': 233, 'Bob': -233}, {'Alice': 897, 'Bob': -897}, {'Alice': 109, 'Bob': -109}, {'Alice': 535, 'Bob': -535}, {'Alice': -875, 'Bob': 875}, {'Alice': -251, 'Bob': 251}, {'Alice': 216, 'Bob': -216}, {'Alice': 902, 'Bob': -902}, {'Alice': -434, 'Bob': 434}, {'Alice': 735, 'Bob': -735}, {'Alice': 33, 'Bob': -33}, {'Alice': -372, 'Bob': 372}, {'Alice': -177, 'Bob': 177}]\n"
          ]
        }
      ]
    },
    {
      "cell_type": "markdown",
      "source": [
        "# Step 3: Updating States and Validating Transactions"
      ],
      "metadata": {
        "id": "25Idp2bnl5Qk"
      }
    },
    {
      "cell_type": "code",
      "source": [
        "def updateState(transaction, state):\n",
        "    '''\n",
        "    Inputs:\n",
        "        transaction: a dictionary with keys Alice and Bob, and values the amount of money they are sending to each other\n",
        "        state: a dictionary with keys Alice and Bob, and values their current balance\n",
        "    Outputs:\n",
        "        state: a dictionary with keys Alice and Bob, and values their new balance after the transaction\n",
        "        ** Additional users will be added to state if they are not already present\n",
        "    '''\n",
        "\n",
        "    state = state.copy()  # To avoid modifying the original state\n",
        "\n",
        "    for key in transaction.keys():\n",
        "        if key in state.keys():\n",
        "            state[key] += transaction[key]  # Update the balance\n",
        "        else:\n",
        "            state[key] = transaction[key]  # Add the new user with their balance\n",
        "\n",
        "    return state"
      ],
      "metadata": {
        "id": "cuXmVU5zl4Bz"
      },
      "execution_count": 5,
      "outputs": []
    },
    {
      "cell_type": "code",
      "source": [
        "state = {'Alice': 1000, 'Bob': 1000}  # Initial balances\n",
        "print(f\"Initial State: {state}\")\n",
        "\n",
        "transaction = makeTransaction()  # Random transaction\n",
        "print(f\"Transaction: {transaction}\")\n",
        "\n",
        "newState = updateState(transaction, state)  # Apply transaction\n",
        "print(f\"Updated State: {newState}\")"
      ],
      "metadata": {
        "colab": {
          "base_uri": "https://localhost:8080/"
        },
        "id": "4iAQwDUal7s_",
        "outputId": "413a7140-e288-4ab9-d915-88673a8b6b50"
      },
      "execution_count": 6,
      "outputs": [
        {
          "output_type": "stream",
          "name": "stdout",
          "text": [
            "Initial State: {'Alice': 1000, 'Bob': 1000}\n",
            "Transaction: {'Alice': -689, 'Bob': 689}\n",
            "Updated State: {'Alice': 311, 'Bob': 1689}\n"
          ]
        }
      ]
    },
    {
      "cell_type": "code",
      "source": [
        "def isValidTransaction(transaction, state):\n",
        "    '''\n",
        "    Inputs:\n",
        "        transaction: a dictionary with keys Alice and Bob or anyone else, and values the amount of money they are sending to each other\n",
        "        state: a dictionary with keys Alice and Bob or anyone else, and values their current balance\n",
        "    Outputs:\n",
        "        True if the transaction is valid, False otherwise\n",
        "    '''\n",
        "    # Rule 1: Check if the transaction is zero-sum\n",
        "    if sum(transaction.values()) != 0:\n",
        "        return False  # If the sum isn't zero, the transaction is invalid\n",
        "\n",
        "    # Rule 2: Check if the sender has enough funds\n",
        "    for key in transaction.keys():\n",
        "        accountBalance = state[key]  # If the user is not in state, assume they have 0 balance\n",
        "\n",
        "        # If the sender doesn't have enough funds, the transaction is invalid\n",
        "        if accountBalance + transaction[key] < 0:\n",
        "            return False\n",
        "\n",
        "    return True  # If all checks pass, the transaction is valid"
      ],
      "metadata": {
        "id": "DTjngKvZl81b"
      },
      "execution_count": 7,
      "outputs": []
    },
    {
      "cell_type": "code",
      "source": [
        "state = {'Alice': 1000, 'Bob': 1000}  # Initial balances\n",
        "print(f\"Initial State: {state}\")\n",
        "\n",
        "# Test different transactions\n",
        "transaction1 = {'Alice': -800, 'Bob': 800}  # Alice sends 800 to Bob (valid)\n",
        "transaction2 = {'Alice': 1500, 'Bob': -1500}  # Bob sends 1500 to Alice (invalid: Bob doesn't have enough funds)\n",
        "transaction3 = {'Alice': -400, 'Bob': 600}  # Alice sends 400 to Bob, but Bob gets 600 (invalid: tokens are being created)\n",
        "transaction4 = {'Alice': -500, 'Bob': 250, 'Lisa': 250}  # New users are valid as long as rules are preserved\n",
        "\n",
        "# Check if transactions are valid\n",
        "print(f\"Transaction: {transaction1}, Valid: {isValidTransaction(transaction1, state)}\")\n",
        "print(f\"Transaction: {transaction2}, Valid: {isValidTransaction(transaction2, state)}\")\n",
        "print(f\"Transaction: {transaction3}, Valid: {isValidTransaction(transaction3, state)}\")\n",
        "print(f\"Transaction: {transaction4}, Valid: {isValidTransaction(transaction4, state)}\")"
      ],
      "metadata": {
        "colab": {
          "base_uri": "https://localhost:8080/",
          "height": 360
        },
        "id": "tGh_HP_Kl_wt",
        "outputId": "3fdaf147-e1fd-4671-86df-fc4298ff9321"
      },
      "execution_count": 8,
      "outputs": [
        {
          "output_type": "stream",
          "name": "stdout",
          "text": [
            "Initial State: {'Alice': 1000, 'Bob': 1000}\n",
            "Transaction: {'Alice': -800, 'Bob': 800}, Valid: True\n",
            "Transaction: {'Alice': 1500, 'Bob': -1500}, Valid: False\n",
            "Transaction: {'Alice': -400, 'Bob': 600}, Valid: False\n"
          ]
        },
        {
          "output_type": "error",
          "ename": "KeyError",
          "evalue": "'Lisa'",
          "traceback": [
            "\u001b[0;31m---------------------------------------------------------------------------\u001b[0m",
            "\u001b[0;31mKeyError\u001b[0m                                  Traceback (most recent call last)",
            "\u001b[0;32m/tmp/ipython-input-8-2387401015.py\u001b[0m in \u001b[0;36m<cell line: 0>\u001b[0;34m()\u001b[0m\n\u001b[1;32m     12\u001b[0m \u001b[0mprint\u001b[0m\u001b[0;34m(\u001b[0m\u001b[0;34mf\"Transaction: {transaction2}, Valid: {isValidTransaction(transaction2, state)}\"\u001b[0m\u001b[0;34m)\u001b[0m\u001b[0;34m\u001b[0m\u001b[0;34m\u001b[0m\u001b[0m\n\u001b[1;32m     13\u001b[0m \u001b[0mprint\u001b[0m\u001b[0;34m(\u001b[0m\u001b[0;34mf\"Transaction: {transaction3}, Valid: {isValidTransaction(transaction3, state)}\"\u001b[0m\u001b[0;34m)\u001b[0m\u001b[0;34m\u001b[0m\u001b[0;34m\u001b[0m\u001b[0m\n\u001b[0;32m---> 14\u001b[0;31m \u001b[0mprint\u001b[0m\u001b[0;34m(\u001b[0m\u001b[0;34mf\"Transaction: {transaction4}, Valid: {isValidTransaction(transaction4, state)}\"\u001b[0m\u001b[0;34m)\u001b[0m\u001b[0;34m\u001b[0m\u001b[0;34m\u001b[0m\u001b[0m\n\u001b[0m",
            "\u001b[0;32m/tmp/ipython-input-7-2670636384.py\u001b[0m in \u001b[0;36misValidTransaction\u001b[0;34m(transaction, state)\u001b[0m\n\u001b[1;32m     13\u001b[0m     \u001b[0;31m# Rule 2: Check if the sender has enough funds\u001b[0m\u001b[0;34m\u001b[0m\u001b[0;34m\u001b[0m\u001b[0m\n\u001b[1;32m     14\u001b[0m     \u001b[0;32mfor\u001b[0m \u001b[0mkey\u001b[0m \u001b[0;32min\u001b[0m \u001b[0mtransaction\u001b[0m\u001b[0;34m.\u001b[0m\u001b[0mkeys\u001b[0m\u001b[0;34m(\u001b[0m\u001b[0;34m)\u001b[0m\u001b[0;34m:\u001b[0m\u001b[0;34m\u001b[0m\u001b[0;34m\u001b[0m\u001b[0m\n\u001b[0;32m---> 15\u001b[0;31m         \u001b[0maccountBalance\u001b[0m \u001b[0;34m=\u001b[0m \u001b[0mstate\u001b[0m\u001b[0;34m[\u001b[0m\u001b[0mkey\u001b[0m\u001b[0;34m]\u001b[0m  \u001b[0;31m# If the user is not in state, assume they have 0 balance\u001b[0m\u001b[0;34m\u001b[0m\u001b[0;34m\u001b[0m\u001b[0m\n\u001b[0m\u001b[1;32m     16\u001b[0m \u001b[0;34m\u001b[0m\u001b[0m\n\u001b[1;32m     17\u001b[0m         \u001b[0;31m# If the sender doesn't have enough funds, the transaction is invalid\u001b[0m\u001b[0;34m\u001b[0m\u001b[0;34m\u001b[0m\u001b[0m\n",
            "\u001b[0;31mKeyError\u001b[0m: 'Lisa'"
          ]
        }
      ]
    },
    {
      "cell_type": "markdown",
      "source": [
        "# Step 4: Let’s Create Our Blockchain!"
      ],
      "metadata": {
        "id": "GQNNB2-xmCPZ"
      }
    },
    {
      "cell_type": "code",
      "source": [
        "state = {'Alice': 2000, 'Bob': 2000}  # Initial state of the system (think of it as setting up the original balances in a brand-new blockchain network)\n",
        "\n",
        "genesisBlockTransactions = [state]  # The very first block starts with the initial state as its \"transaction\"\n",
        "\n",
        "genesisBlockContents = {\n",
        "    'blockNumber': 0,        # This is the very first block, so block number is 0\n",
        "    'parentHash': None,      # No parent because this is the genesis block\n",
        "    'transactionCount': 1,   # Only one \"transaction\" (our initial state setup)\n",
        "    'transactions': genesisBlockTransactions\n",
        "}\n",
        "\n",
        "genesisHash = hashMe(genesisBlockContents)  # Generate SHA-256 hash of the block's content (makes it tamper-proof)\n",
        "\n",
        "genesisBlock = {'hash': genesisHash, 'contents': genesisBlockContents}  # Wrap the hash and contents together into a full block\n",
        "\n",
        "genesisBlockStr = json.dumps(genesisBlock, sort_keys=True)  # Serialize the block (useful for storage or transmission)\n",
        "\n",
        "# Now we finally have the first element of our blockchain — everything else will link back to this!\n",
        "chain = [genesisBlock]  # Create the blockchain list with the genesis block as the first block"
      ],
      "metadata": {
        "id": "q3lfUEePmA5K"
      },
      "execution_count": 9,
      "outputs": []
    },
    {
      "cell_type": "code",
      "source": [
        "def makeBlock(transactions, chain):\n",
        "    '''\n",
        "    Inputs:\n",
        "        transactions: a list of transactions to include in the block\n",
        "        chain: the current blockchain (a list of existing blocks)\n",
        "    Outputs:\n",
        "        block: a dictionary representing the new block, including its hash and its contents\n",
        "    '''\n",
        "    parentBlock = chain[-1]  # The last block in the chain (most recent one)\n",
        "    parentHash = parentBlock['hash']  # We will reference the parent block’s hash\n",
        "    blockNumber = parentBlock['contents']['blockNumber'] + 1  # New block’s number is parent's block number + 1\n",
        "    transactionCount = len(transactions)  # Number of transactions in this block\n",
        "\n",
        "    blockContents = {\n",
        "        'blockNumber': blockNumber,\n",
        "        'parentHash': parentHash,\n",
        "        'transactionCount': transactionCount,\n",
        "        'transactions': transactions\n",
        "    }\n",
        "\n",
        "    blockHash = hashMe(blockContents)  # Hash the block's content for immutability\n",
        "\n",
        "    block = {'hash': blockHash, 'contents': blockContents}\n",
        "\n",
        "    return block"
      ],
      "metadata": {
        "id": "zbOZYXNFmE6Z"
      },
      "execution_count": 12,
      "outputs": []
    },
    {
      "cell_type": "code",
      "source": [
        "blockSizeLimit = 10  # Maximum number of transactions allowed in a block\n",
        "\n",
        "# Note: In a real blockchain, block size is usually limited by bytes, not transaction count. But for simplicity,\n",
        "# we'll just limit the number of transactions here.\n",
        "\n",
        "while len(transactionBuffer) > 0:\n",
        "    bufferStartSize = len(transactionBuffer)  # How many transactions are left before starting\n",
        "\n",
        "    transactionList = []  # This will hold the valid transactions for the next block\n",
        "\n",
        "    # Keep collecting valid transactions until we hit the block size limit\n",
        "    while (len(transactionList) < blockSizeLimit) and (len(transactionBuffer) > 0):\n",
        "        newTransaction = transactionBuffer.pop()  # Get a transaction from the buffer\n",
        "\n",
        "        transactionValidity = isValidTransaction(newTransaction, state)  # Check if it's valid\n",
        "        if transactionValidity:\n",
        "            transactionList.append(newTransaction)  # Add valid transaction to the block\n",
        "            state = updateState(newTransaction, state)  # Update the system state\n",
        "        else:\n",
        "            print(f\"Transaction {newTransaction} is invalid and will be discarded\")\n",
        "            # Invalid transactions are simply discarded\n",
        "            continue\n",
        "\n",
        "    # If we collected some valid transactions, create a new block and add it to the chain\n",
        "    newBlock = makeBlock(transactionList, chain)\n",
        "    chain.append(newBlock)  # Add the new block to the blockchain\n",
        "\n",
        "    print(f\"Block {newBlock['contents']['blockNumber']} created with {len(transactionList)} transactions\")"
      ],
      "metadata": {
        "colab": {
          "base_uri": "https://localhost:8080/"
        },
        "id": "lP65gJormGH_",
        "outputId": "f481d82c-eea0-4b64-ab8a-437f945e57e9"
      },
      "execution_count": 13,
      "outputs": [
        {
          "output_type": "stream",
          "name": "stdout",
          "text": [
            "Transaction {'Alice': 350, 'Bob': -350} is invalid and will be discarded\n",
            "Block 1 created with 10 transactions\n",
            "Transaction {'Alice': 904, 'Bob': -904} is invalid and will be discarded\n",
            "Transaction {'Alice': 376, 'Bob': -376} is invalid and will be discarded\n",
            "Transaction {'Alice': 520, 'Bob': -520} is invalid and will be discarded\n",
            "Transaction {'Alice': 576, 'Bob': -576} is invalid and will be discarded\n",
            "Transaction {'Alice': 852, 'Bob': -852} is invalid and will be discarded\n",
            "Transaction {'Alice': 819, 'Bob': -819} is invalid and will be discarded\n",
            "Block 2 created with 10 transactions\n",
            "Block 3 created with 10 transactions\n",
            "Transaction {'Alice': 816, 'Bob': -816} is invalid and will be discarded\n",
            "Transaction {'Alice': 511, 'Bob': -511} is invalid and will be discarded\n",
            "Transaction {'Alice': 410, 'Bob': -410} is invalid and will be discarded\n",
            "Block 4 created with 10 transactions\n",
            "Block 5 created with 10 transactions\n",
            "Block 6 created with 10 transactions\n",
            "Transaction {'Alice': -892, 'Bob': 892} is invalid and will be discarded\n",
            "Transaction {'Alice': -923, 'Bob': 923} is invalid and will be discarded\n",
            "Transaction {'Alice': -515, 'Bob': 515} is invalid and will be discarded\n",
            "Block 7 created with 10 transactions\n",
            "Transaction {'Alice': 875, 'Bob': -875} is invalid and will be discarded\n",
            "Transaction {'Alice': 829, 'Bob': -829} is invalid and will be discarded\n",
            "Transaction {'Alice': 870, 'Bob': -870} is invalid and will be discarded\n",
            "Transaction {'Alice': 884, 'Bob': -884} is invalid and will be discarded\n",
            "Block 8 created with 3 transactions\n"
          ]
        }
      ]
    },
    {
      "cell_type": "code",
      "source": [
        "chain[0]  # This is the genesis block, which is the first block in the chain. It has no parent and contains the initial state of the system\n"
      ],
      "metadata": {
        "colab": {
          "base_uri": "https://localhost:8080/"
        },
        "id": "7nMt1y1bmHs7",
        "outputId": "8faf591b-db69-4d27-bb83-6ee151bb9a71"
      },
      "execution_count": 13,
      "outputs": [
        {
          "output_type": "execute_result",
          "data": {
            "text/plain": [
              "{'hash': '0cfb911091d3f6d330c2dff1bab497a582f6b99e91d1cca475c1639728289c17',\n",
              " 'contents': {'blockNumber': 0,\n",
              "  'parentHash': None,\n",
              "  'transactionCount': 1,\n",
              "  'transactions': [{'Alice': 2000, 'Bob': 2000}]}}"
            ]
          },
          "metadata": {},
          "execution_count": 13
        }
      ]
    },
    {
      "cell_type": "code",
      "source": [
        "chain[3] # Accesing 4th block"
      ],
      "metadata": {
        "colab": {
          "base_uri": "https://localhost:8080/"
        },
        "id": "OVd-cXbImJhT",
        "outputId": "1f346614-9b01-4d96-de8f-0b3814651ad4"
      },
      "execution_count": 14,
      "outputs": [
        {
          "output_type": "execute_result",
          "data": {
            "text/plain": [
              "{'hash': 'db2b43709f67e096d156ee94ecbd5f82d17d7d6d2d1f134919941b954cb159df',\n",
              " 'contents': {'blockNumber': 3,\n",
              "  'parentHash': '5e8f4e1a4d44713b2425b5577a11ed4a48b025b46a83265490af27fdfe443ca7',\n",
              "  'transactionCount': 10,\n",
              "  'transactions': [{'Alice': 856, 'Bob': -856},\n",
              "   {'Alice': -835, 'Bob': 835},\n",
              "   {'Alice': -964, 'Bob': 964},\n",
              "   {'Alice': -675, 'Bob': 675},\n",
              "   {'Alice': 468, 'Bob': -468},\n",
              "   {'Alice': 571, 'Bob': -571},\n",
              "   {'Alice': 744, 'Bob': -744},\n",
              "   {'Alice': -360, 'Bob': 360},\n",
              "   {'Alice': 925, 'Bob': -925},\n",
              "   {'Alice': 466, 'Bob': -466}]}}"
            ]
          },
          "metadata": {},
          "execution_count": 14
        }
      ]
    },
    {
      "cell_type": "markdown",
      "source": [
        "# Step 5: Validating Blocks and the Blockchain"
      ],
      "metadata": {
        "id": "Aa5bLqD4mkVm"
      }
    },
    {
      "cell_type": "code",
      "source": [
        "def checkBlockHash(block):\n",
        "    '''\n",
        "    Inputs:\n",
        "        block: a block in the blockchain\n",
        "    Outputs:\n",
        "        None if the hash is valid, raises an exception if the hash is invalid\n",
        "\n",
        "    This function checks if the hash of the block is valid by comparing it to the hash of the block's contents.\n",
        "    It protects the blockchain from tampering.\n",
        "    If anyone changes even a single letter in a block, the hash will change, making the block invalid.\n",
        "    This ensures the immutability of blockchain data.\n",
        "    '''\n",
        "    expectedHash = hashMe(block['contents'])  # Hash the block contents to get what the hash SHOULD be\n",
        "    if expectedHash != block['hash']:\n",
        "        raise Exception(f\"Hash does not match for block {block['contents']['blockNumber']}. Expected {expectedHash}, got {block['hash']}\")\n",
        "    return"
      ],
      "metadata": {
        "id": "XTg_kHsSmKze"
      },
      "execution_count": 16,
      "outputs": []
    },
    {
      "cell_type": "code",
      "source": [
        "def checkBlockValidity(block, parent, state):\n",
        "    '''\n",
        "    This function validates a block before adding it to the blockchain.\n",
        "    Inputs:\n",
        "        block: the block to validate\n",
        "        parent: the previous block (parent)\n",
        "        state: the current system state\n",
        "    Outputs:\n",
        "        Updated system state after applying the block's transactions\n",
        "\n",
        "    It checks:\n",
        "        1. Block number is next after the parent\n",
        "        2. Block points to the correct parent hash\n",
        "        3. Transactions are valid\n",
        "        4. Block hash is correct\n",
        "    Raises an error if any check fails.\n",
        "    '''\n",
        "    parentNumber = parent['contents']['blockNumber']  # Get parent's block number\n",
        "    parentHash = parent['hash']                       # Get parent's hash\n",
        "    blockNumber = block['contents']['blockNumber']    # Get current block number\n",
        "\n",
        "    # Check all transactions in the block\n",
        "    for transaction in block['contents']['transactions']:\n",
        "        if isValidTransaction(transaction, state):\n",
        "            state = updateState(transaction, state)  # Update state for valid transactions\n",
        "        else:\n",
        "            raise Exception(f\"Transaction {transaction} in block {blockNumber} is invalid\")\n",
        "\n",
        "    checkBlockHash(block)  # Verify the block's hash matches\n",
        "\n",
        "    if blockNumber != parentNumber + 1:\n",
        "        raise Exception(f\"Block {blockNumber} is not the next block after {parentNumber}.\")  # Ensure block numbers are sequential\n",
        "\n",
        "    if block['contents']['parentHash'] != parentHash:\n",
        "        raise Exception(f\"Block {blockNumber} does not have the correct parent hash. Expected {parentHash}, got {block['contents']['parentHash']}\")  # Ensure parent hash matches\n",
        "\n",
        "    return state"
      ],
      "metadata": {
        "id": "96LdK_HYml6t"
      },
      "execution_count": 17,
      "outputs": []
    },
    {
      "cell_type": "code",
      "source": [
        "def checkChain(chain):\n",
        "    '''\n",
        "    This function checks the entire blockchain for validity and consistency.\n",
        "    Inputs:\n",
        "        chain: list of blocks\n",
        "    Outputs:\n",
        "        Final system state if the chain is valid\n",
        "\n",
        "    It checks:\n",
        "        1. The chain is properly formatted\n",
        "        2. The genesis block is valid\n",
        "        3. Every subsequent block is valid\n",
        "    '''\n",
        "    if type(chain) == str:\n",
        "        try:\n",
        "            chain = json.loads(chain)  # If given as a string, convert to a list\n",
        "            assert type(chain) == list\n",
        "        except:\n",
        "            return False\n",
        "    elif type(chain) != list:\n",
        "        return False\n",
        "\n",
        "    state = {}  # Start with an empty state\n",
        "\n",
        "    # Update state with genesis block transactions (we assume genesis block is valid)\n",
        "    for transaction in chain[0]['contents']['transactions']:\n",
        "        state = updateState(transaction, state)\n",
        "\n",
        "    checkBlockHash(chain[0])  # Check genesis block hash\n",
        "\n",
        "    parent = chain[0]  # Set genesis block as parent\n",
        "\n",
        "    for block in chain[1:]:  # Validate each subsequent block\n",
        "        state = checkBlockValidity(block, parent, state)\n",
        "        parent = block  # Update parent for next iteration\n",
        "\n",
        "    return state  # Return the final computed state"
      ],
      "metadata": {
        "id": "09FKJ0OQmplV"
      },
      "execution_count": 18,
      "outputs": []
    },
    {
      "cell_type": "code",
      "source": [
        "# Check the entire blockchain for validity and consistency\n",
        "checkChain(chain)\n",
        "# This will return the final state of the system after processing all blocks in the chain"
      ],
      "metadata": {
        "colab": {
          "base_uri": "https://localhost:8080/",
          "height": 316
        },
        "id": "DsHaUiuimuWx",
        "outputId": "c0120ab6-fc61-4a08-cec1-bd65fc45e7f2"
      },
      "execution_count": 19,
      "outputs": [
        {
          "output_type": "error",
          "ename": "Exception",
          "evalue": "Transaction {'Alice': -373, 'Bob': 373} in block 6 is invalid",
          "traceback": [
            "\u001b[0;31m---------------------------------------------------------------------------\u001b[0m",
            "\u001b[0;31mException\u001b[0m                                 Traceback (most recent call last)",
            "\u001b[0;32m/tmp/ipython-input-19-2735924627.py\u001b[0m in \u001b[0;36m<cell line: 0>\u001b[0;34m()\u001b[0m\n\u001b[1;32m      1\u001b[0m \u001b[0;31m# Check the entire blockchain for validity and consistency\u001b[0m\u001b[0;34m\u001b[0m\u001b[0;34m\u001b[0m\u001b[0m\n\u001b[0;32m----> 2\u001b[0;31m \u001b[0mcheckChain\u001b[0m\u001b[0;34m(\u001b[0m\u001b[0mchain\u001b[0m\u001b[0;34m)\u001b[0m\u001b[0;34m\u001b[0m\u001b[0;34m\u001b[0m\u001b[0m\n\u001b[0m\u001b[1;32m      3\u001b[0m \u001b[0;31m# This will return the final state of the system after processing all blocks in the chain\u001b[0m\u001b[0;34m\u001b[0m\u001b[0;34m\u001b[0m\u001b[0m\n",
            "\u001b[0;32m/tmp/ipython-input-18-3599871783.py\u001b[0m in \u001b[0;36mcheckChain\u001b[0;34m(chain)\u001b[0m\n\u001b[1;32m     32\u001b[0m \u001b[0;34m\u001b[0m\u001b[0m\n\u001b[1;32m     33\u001b[0m     \u001b[0;32mfor\u001b[0m \u001b[0mblock\u001b[0m \u001b[0;32min\u001b[0m \u001b[0mchain\u001b[0m\u001b[0;34m[\u001b[0m\u001b[0;36m1\u001b[0m\u001b[0;34m:\u001b[0m\u001b[0;34m]\u001b[0m\u001b[0;34m:\u001b[0m  \u001b[0;31m# Validate each subsequent block\u001b[0m\u001b[0;34m\u001b[0m\u001b[0;34m\u001b[0m\u001b[0m\n\u001b[0;32m---> 34\u001b[0;31m         \u001b[0mstate\u001b[0m \u001b[0;34m=\u001b[0m \u001b[0mcheckBlockValidity\u001b[0m\u001b[0;34m(\u001b[0m\u001b[0mblock\u001b[0m\u001b[0;34m,\u001b[0m \u001b[0mparent\u001b[0m\u001b[0;34m,\u001b[0m \u001b[0mstate\u001b[0m\u001b[0;34m)\u001b[0m\u001b[0;34m\u001b[0m\u001b[0;34m\u001b[0m\u001b[0m\n\u001b[0m\u001b[1;32m     35\u001b[0m         \u001b[0mparent\u001b[0m \u001b[0;34m=\u001b[0m \u001b[0mblock\u001b[0m  \u001b[0;31m# Update parent for next iteration\u001b[0m\u001b[0;34m\u001b[0m\u001b[0;34m\u001b[0m\u001b[0m\n\u001b[1;32m     36\u001b[0m \u001b[0;34m\u001b[0m\u001b[0m\n",
            "\u001b[0;32m/tmp/ipython-input-17-4219926040.py\u001b[0m in \u001b[0;36mcheckBlockValidity\u001b[0;34m(block, parent, state)\u001b[0m\n\u001b[1;32m     25\u001b[0m             \u001b[0mstate\u001b[0m \u001b[0;34m=\u001b[0m \u001b[0mupdateState\u001b[0m\u001b[0;34m(\u001b[0m\u001b[0mtransaction\u001b[0m\u001b[0;34m,\u001b[0m \u001b[0mstate\u001b[0m\u001b[0;34m)\u001b[0m  \u001b[0;31m# Update state for valid transactions\u001b[0m\u001b[0;34m\u001b[0m\u001b[0;34m\u001b[0m\u001b[0m\n\u001b[1;32m     26\u001b[0m         \u001b[0;32melse\u001b[0m\u001b[0;34m:\u001b[0m\u001b[0;34m\u001b[0m\u001b[0;34m\u001b[0m\u001b[0m\n\u001b[0;32m---> 27\u001b[0;31m             \u001b[0;32mraise\u001b[0m \u001b[0mException\u001b[0m\u001b[0;34m(\u001b[0m\u001b[0;34mf\"Transaction {transaction} in block {blockNumber} is invalid\"\u001b[0m\u001b[0;34m)\u001b[0m\u001b[0;34m\u001b[0m\u001b[0;34m\u001b[0m\u001b[0m\n\u001b[0m\u001b[1;32m     28\u001b[0m \u001b[0;34m\u001b[0m\u001b[0m\n\u001b[1;32m     29\u001b[0m     \u001b[0mcheckBlockHash\u001b[0m\u001b[0;34m(\u001b[0m\u001b[0mblock\u001b[0m\u001b[0;34m)\u001b[0m  \u001b[0;31m# Verify the block's hash matches\u001b[0m\u001b[0;34m\u001b[0m\u001b[0;34m\u001b[0m\u001b[0m\n",
            "\u001b[0;31mException\u001b[0m: Transaction {'Alice': -373, 'Bob': 373} in block 6 is invalid"
          ]
        }
      ]
    },
    {
      "cell_type": "code",
      "source": [
        "# Manually tampering with a transaction in the chain to see if the checkChain function catches it\n",
        "chain[1]['contents']['transactions'][0]['Alice'] = -10000  # This is an invalid transaction since Alice doesn't have enough money to send 10000 to Bob\n",
        "\n",
        "# This will cause the checkChain function to raise an exception when we try to check the chain again\n",
        "try:\n",
        "    checkChain(chain)  # Check if the chain catches the invalid transaction\n",
        "except Exception as e:\n",
        "    print(f\"Exception: {e}\")"
      ],
      "metadata": {
        "colab": {
          "base_uri": "https://localhost:8080/"
        },
        "id": "i15B7uHTmusT",
        "outputId": "dac9ba98-fc15-4e51-e4f4-685401097e46"
      },
      "execution_count": 20,
      "outputs": [
        {
          "output_type": "stream",
          "name": "stdout",
          "text": [
            "Exception: Transaction {'Alice': -10000, 'Bob': -109} in block 1 is invalid\n"
          ]
        }
      ]
    },
    {
      "cell_type": "code",
      "source": [
        "# Breaking the parentHash reference in block 3\n",
        "chain[1]['contents']['transactions'][0]['Alice'] = -341  # Reset the transaction to a valid one so we can check the chain again\n",
        "chain[3]['contents']['parentHash'] = '1234567890'  # This is an invalid parent hash since it doesn't match the hash of the parent block\n",
        "\n",
        "# This will cause the checkChain function to raise an exception when we try to check the chain again\n",
        "try:\n",
        "    checkChain(chain)  # Check if the chain detects the parent hash issue\n",
        "except Exception as e:\n",
        "    print(f\"Exception: {e}\")"
      ],
      "metadata": {
        "colab": {
          "base_uri": "https://localhost:8080/"
        },
        "id": "rCwz1sBnmwVH",
        "outputId": "5ac3d53a-1e0d-490a-dedc-38a06a5a17df"
      },
      "execution_count": 21,
      "outputs": [
        {
          "output_type": "stream",
          "name": "stdout",
          "text": [
            "Exception: Transaction {'Alice': -341, 'Bob': -109} in block 1 is invalid\n"
          ]
        }
      ]
    },
    {
      "cell_type": "code",
      "source": [
        "# Breaking the block number continuity in block 4\n",
        "chain[3]['contents']['parentHash'] = chain[2]['hash']  # Reset the parent hash to the correct value so we can check the chain again\n",
        "chain[4]['contents']['blockNumber'] = chain[3]['contents']['blockNumber'] + 2  # This makes block 4 skip a number\n",
        "\n",
        "# This will cause the checkChain function to raise an exception when we try to check the chain again\n",
        "try:\n",
        "    checkChain(chain)  # Check if the chain detects the broken block number sequence\n",
        "except Exception as e:\n",
        "    print(f\"Exception: {e}\")"
      ],
      "metadata": {
        "colab": {
          "base_uri": "https://localhost:8080/"
        },
        "id": "Hrr7mo7Emxn4",
        "outputId": "eaa8d044-13fc-45f3-c49a-9250ecc32f33"
      },
      "execution_count": 22,
      "outputs": [
        {
          "output_type": "stream",
          "name": "stdout",
          "text": [
            "Exception: Transaction {'Alice': -341, 'Bob': -109} in block 1 is invalid\n"
          ]
        }
      ]
    },
    {
      "cell_type": "markdown",
      "source": [
        "# Step 7: Putting it All Together — The Final Blockchain Architecture"
      ],
      "metadata": {
        "id": "dY2crDLUm2AY"
      }
    },
    {
      "cell_type": "code",
      "source": [
        "import copy\n",
        "\n",
        "nodeBchain = copy.copy(chain)  # This is a shallow copy of the chain, so it won't affect the original chain\n",
        "nodeBtransactions = [makeTransaction() for _ in range(10)]  # Create 10 transactions\n",
        "newBlock = makeBlock(nodeBtransactions, nodeBchain)  # Create a new block with the transactions gathered"
      ],
      "metadata": {
        "id": "sX4S9HUumy-4"
      },
      "execution_count": 23,
      "outputs": []
    },
    {
      "cell_type": "code",
      "source": [
        "print(f\"Blockchain on Node A is currently {len(chain)} blocks long\")\n",
        "\n",
        "try:\n",
        "    print(\"New block received. Checking validity...\")\n",
        "    state = checkBlockValidity(newBlock, chain[-1], state)  # Check if the new block is valid (raises an error if invalid)\n",
        "    chain.append(newBlock)  # Add the valid block to the chain\n",
        "except:\n",
        "    print(\"Invalid block. Ignoring and waiting for the next block...\")  # Handle invalid blocks"
      ],
      "metadata": {
        "colab": {
          "base_uri": "https://localhost:8080/"
        },
        "id": "pSvKDI4Nm3Vc",
        "outputId": "fa80c61c-8632-4971-8b3b-a2ecb461836c"
      },
      "execution_count": 24,
      "outputs": [
        {
          "output_type": "stream",
          "name": "stdout",
          "text": [
            "Blockchain on Node A is currently 9 blocks long\n",
            "New block received. Checking validity...\n"
          ]
        }
      ]
    }
  ]
}
