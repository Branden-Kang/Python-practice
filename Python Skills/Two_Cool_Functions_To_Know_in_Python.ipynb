{
  "nbformat": 4,
  "nbformat_minor": 0,
  "metadata": {
    "colab": {
      "name": "Two Cool Functions To Know in Python.ipynb",
      "provenance": [],
      "authorship_tag": "ABX9TyMywoyfqxCGEXVtfurVSB1B"
    },
    "kernelspec": {
      "name": "python3",
      "display_name": "Python 3"
    },
    "language_info": {
      "name": "python"
    },
    "widgets": {
      "application/vnd.jupyter.widget-state+json": {
        "d7a84621f89e47468c896632221e467b": {
          "model_module": "@jupyter-widgets/controls",
          "model_name": "HBoxModel",
          "state": {
            "_view_name": "HBoxView",
            "_dom_classes": [],
            "_model_name": "HBoxModel",
            "_view_module": "@jupyter-widgets/controls",
            "_model_module_version": "1.5.0",
            "_view_count": null,
            "_view_module_version": "1.5.0",
            "box_style": "",
            "layout": "IPY_MODEL_04b4a5cf8fe441929e796bf85978d92b",
            "_model_module": "@jupyter-widgets/controls",
            "children": [
              "IPY_MODEL_8e87838abd794dabb8a1c3783b1f3cc1",
              "IPY_MODEL_58a7954c5c6e40cc875dc3e9e32132fd"
            ]
          }
        },
        "04b4a5cf8fe441929e796bf85978d92b": {
          "model_module": "@jupyter-widgets/base",
          "model_name": "LayoutModel",
          "state": {
            "_view_name": "LayoutView",
            "grid_template_rows": null,
            "right": null,
            "justify_content": null,
            "_view_module": "@jupyter-widgets/base",
            "overflow": null,
            "_model_module_version": "1.2.0",
            "_view_count": null,
            "flex_flow": null,
            "width": null,
            "min_width": null,
            "border": null,
            "align_items": null,
            "bottom": null,
            "_model_module": "@jupyter-widgets/base",
            "top": null,
            "grid_column": null,
            "overflow_y": null,
            "overflow_x": null,
            "grid_auto_flow": null,
            "grid_area": null,
            "grid_template_columns": null,
            "flex": null,
            "_model_name": "LayoutModel",
            "justify_items": null,
            "grid_row": null,
            "max_height": null,
            "align_content": null,
            "visibility": null,
            "align_self": null,
            "height": null,
            "min_height": null,
            "padding": null,
            "grid_auto_rows": null,
            "grid_gap": null,
            "max_width": null,
            "order": null,
            "_view_module_version": "1.2.0",
            "grid_template_areas": null,
            "object_position": null,
            "object_fit": null,
            "grid_auto_columns": null,
            "margin": null,
            "display": null,
            "left": null
          }
        },
        "8e87838abd794dabb8a1c3783b1f3cc1": {
          "model_module": "@jupyter-widgets/controls",
          "model_name": "FloatProgressModel",
          "state": {
            "_view_name": "ProgressView",
            "style": "IPY_MODEL_ff755827b4784d6891a1f6eb198b77a0",
            "_dom_classes": [],
            "description": "100%",
            "_model_name": "FloatProgressModel",
            "bar_style": "success",
            "max": 500001,
            "_view_module": "@jupyter-widgets/controls",
            "_model_module_version": "1.5.0",
            "value": 500001,
            "_view_count": null,
            "_view_module_version": "1.5.0",
            "orientation": "horizontal",
            "min": 0,
            "description_tooltip": null,
            "_model_module": "@jupyter-widgets/controls",
            "layout": "IPY_MODEL_2de9e03b8833401d8a780e74c7e79115"
          }
        },
        "58a7954c5c6e40cc875dc3e9e32132fd": {
          "model_module": "@jupyter-widgets/controls",
          "model_name": "HTMLModel",
          "state": {
            "_view_name": "HTMLView",
            "style": "IPY_MODEL_c0c7fad457b34f51a5f4b89f2a402da7",
            "_dom_classes": [],
            "description": "",
            "_model_name": "HTMLModel",
            "placeholder": "​",
            "_view_module": "@jupyter-widgets/controls",
            "_model_module_version": "1.5.0",
            "value": " 500001/500001 [00:00&lt;00:00, 1481193.14it/s]",
            "_view_count": null,
            "_view_module_version": "1.5.0",
            "description_tooltip": null,
            "_model_module": "@jupyter-widgets/controls",
            "layout": "IPY_MODEL_a95a02fb4c244f0a8e1c9bebd6101b5a"
          }
        },
        "ff755827b4784d6891a1f6eb198b77a0": {
          "model_module": "@jupyter-widgets/controls",
          "model_name": "ProgressStyleModel",
          "state": {
            "_view_name": "StyleView",
            "_model_name": "ProgressStyleModel",
            "description_width": "initial",
            "_view_module": "@jupyter-widgets/base",
            "_model_module_version": "1.5.0",
            "_view_count": null,
            "_view_module_version": "1.2.0",
            "bar_color": null,
            "_model_module": "@jupyter-widgets/controls"
          }
        },
        "2de9e03b8833401d8a780e74c7e79115": {
          "model_module": "@jupyter-widgets/base",
          "model_name": "LayoutModel",
          "state": {
            "_view_name": "LayoutView",
            "grid_template_rows": null,
            "right": null,
            "justify_content": null,
            "_view_module": "@jupyter-widgets/base",
            "overflow": null,
            "_model_module_version": "1.2.0",
            "_view_count": null,
            "flex_flow": null,
            "width": null,
            "min_width": null,
            "border": null,
            "align_items": null,
            "bottom": null,
            "_model_module": "@jupyter-widgets/base",
            "top": null,
            "grid_column": null,
            "overflow_y": null,
            "overflow_x": null,
            "grid_auto_flow": null,
            "grid_area": null,
            "grid_template_columns": null,
            "flex": null,
            "_model_name": "LayoutModel",
            "justify_items": null,
            "grid_row": null,
            "max_height": null,
            "align_content": null,
            "visibility": null,
            "align_self": null,
            "height": null,
            "min_height": null,
            "padding": null,
            "grid_auto_rows": null,
            "grid_gap": null,
            "max_width": null,
            "order": null,
            "_view_module_version": "1.2.0",
            "grid_template_areas": null,
            "object_position": null,
            "object_fit": null,
            "grid_auto_columns": null,
            "margin": null,
            "display": null,
            "left": null
          }
        },
        "c0c7fad457b34f51a5f4b89f2a402da7": {
          "model_module": "@jupyter-widgets/controls",
          "model_name": "DescriptionStyleModel",
          "state": {
            "_view_name": "StyleView",
            "_model_name": "DescriptionStyleModel",
            "description_width": "",
            "_view_module": "@jupyter-widgets/base",
            "_model_module_version": "1.5.0",
            "_view_count": null,
            "_view_module_version": "1.2.0",
            "_model_module": "@jupyter-widgets/controls"
          }
        },
        "a95a02fb4c244f0a8e1c9bebd6101b5a": {
          "model_module": "@jupyter-widgets/base",
          "model_name": "LayoutModel",
          "state": {
            "_view_name": "LayoutView",
            "grid_template_rows": null,
            "right": null,
            "justify_content": null,
            "_view_module": "@jupyter-widgets/base",
            "overflow": null,
            "_model_module_version": "1.2.0",
            "_view_count": null,
            "flex_flow": null,
            "width": null,
            "min_width": null,
            "border": null,
            "align_items": null,
            "bottom": null,
            "_model_module": "@jupyter-widgets/base",
            "top": null,
            "grid_column": null,
            "overflow_y": null,
            "overflow_x": null,
            "grid_auto_flow": null,
            "grid_area": null,
            "grid_template_columns": null,
            "flex": null,
            "_model_name": "LayoutModel",
            "justify_items": null,
            "grid_row": null,
            "max_height": null,
            "align_content": null,
            "visibility": null,
            "align_self": null,
            "height": null,
            "min_height": null,
            "padding": null,
            "grid_auto_rows": null,
            "grid_gap": null,
            "max_width": null,
            "order": null,
            "_view_module_version": "1.2.0",
            "grid_template_areas": null,
            "object_position": null,
            "object_fit": null,
            "grid_auto_columns": null,
            "margin": null,
            "display": null,
            "left": null
          }
        }
      }
    }
  },
  "cells": [
    {
      "cell_type": "markdown",
      "metadata": {
        "id": "Wmlhi_LDT13N"
      },
      "source": [
        "[Reference](https://towardsdatascience.com/two-cool-functions-to-know-in-python-7c36da49f884)"
      ]
    },
    {
      "cell_type": "code",
      "metadata": {
        "colab": {
          "base_uri": "https://localhost:8080/"
        },
        "id": "7q8XsQ_SRnur",
        "outputId": "6806eafb-e177-4d42-a170-c694d66f3732"
      },
      "source": [
        "pip install tabulate"
      ],
      "execution_count": 1,
      "outputs": [
        {
          "output_type": "stream",
          "text": [
            "Requirement already satisfied: tabulate in /usr/local/lib/python3.7/dist-packages (0.8.9)\n"
          ],
          "name": "stdout"
        }
      ]
    },
    {
      "cell_type": "code",
      "metadata": {
        "id": "GSQOpA6zT4m6"
      },
      "source": [
        "from tabulate import tabulate"
      ],
      "execution_count": 2,
      "outputs": []
    },
    {
      "cell_type": "code",
      "metadata": {
        "id": "f602kNQGT5z5"
      },
      "source": [
        "table = [['First Name', 'Last Name', 'Age'], ['John', 'Smith', 39], ['Mary', 'Jane', 25], ['Jennifer', 'Doe', 28]]"
      ],
      "execution_count": 3,
      "outputs": []
    },
    {
      "cell_type": "code",
      "metadata": {
        "colab": {
          "base_uri": "https://localhost:8080/"
        },
        "id": "Rr5RfnSAT69g",
        "outputId": "1fcb962a-40db-4128-c1ab-9c420da50611"
      },
      "source": [
        "print(tabulate(table))"
      ],
      "execution_count": 4,
      "outputs": [
        {
          "output_type": "stream",
          "text": [
            "----------  ---------  ---\n",
            "First Name  Last Name  Age\n",
            "John        Smith      39\n",
            "Mary        Jane       25\n",
            "Jennifer    Doe        28\n",
            "----------  ---------  ---\n"
          ],
          "name": "stdout"
        }
      ]
    },
    {
      "cell_type": "code",
      "metadata": {
        "colab": {
          "base_uri": "https://localhost:8080/"
        },
        "id": "LSZGLzcOT7-y",
        "outputId": "2acfadb0-b5a0-4220-f522-e84bf5db5d22"
      },
      "source": [
        "print(tabulate(table, headers='firstrow'))"
      ],
      "execution_count": 5,
      "outputs": [
        {
          "output_type": "stream",
          "text": [
            "First Name    Last Name      Age\n",
            "------------  -----------  -----\n",
            "John          Smith           39\n",
            "Mary          Jane            25\n",
            "Jennifer      Doe             28\n"
          ],
          "name": "stdout"
        }
      ]
    },
    {
      "cell_type": "code",
      "metadata": {
        "colab": {
          "base_uri": "https://localhost:8080/"
        },
        "id": "2YYS-4LaUZZs",
        "outputId": "456ac789-a29d-4a1d-99b1-0e3e79f2e1d1"
      },
      "source": [
        "print(tabulate(table, headers='firstrow', tablefmt='fancy_grid'))"
      ],
      "execution_count": 6,
      "outputs": [
        {
          "output_type": "stream",
          "text": [
            "╒══════════════╤═════════════╤═══════╕\n",
            "│ First Name   │ Last Name   │   Age │\n",
            "╞══════════════╪═════════════╪═══════╡\n",
            "│ John         │ Smith       │    39 │\n",
            "├──────────────┼─────────────┼───────┤\n",
            "│ Mary         │ Jane        │    25 │\n",
            "├──────────────┼─────────────┼───────┤\n",
            "│ Jennifer     │ Doe         │    28 │\n",
            "╘══════════════╧═════════════╧═══════╛\n"
          ],
          "name": "stdout"
        }
      ]
    },
    {
      "cell_type": "code",
      "metadata": {
        "colab": {
          "base_uri": "https://localhost:8080/"
        },
        "id": "c1JZG9ghUhFq",
        "outputId": "2aafc2fe-df43-44eb-cf9d-2fb2bc1bbe7c"
      },
      "source": [
        "info = {'First Name': ['John', 'Mary', 'Jennifer'], 'Last Name': ['Smith', 'Jane', 'Doe'], 'Age': [39, 25, 28]}\n",
        "print(tabulate(info, headers='keys', tablefmt='fancy_grid'))"
      ],
      "execution_count": 8,
      "outputs": [
        {
          "output_type": "stream",
          "text": [
            "╒══════════════╤═════════════╤═══════╕\n",
            "│ First Name   │ Last Name   │   Age │\n",
            "╞══════════════╪═════════════╪═══════╡\n",
            "│ John         │ Smith       │    39 │\n",
            "├──────────────┼─────────────┼───────┤\n",
            "│ Mary         │ Jane        │    25 │\n",
            "├──────────────┼─────────────┼───────┤\n",
            "│ Jennifer     │ Doe         │    28 │\n",
            "╘══════════════╧═════════════╧═══════╛\n"
          ],
          "name": "stdout"
        }
      ]
    },
    {
      "cell_type": "code",
      "metadata": {
        "id": "TZcrZK15Ungn"
      },
      "source": [
        "from tqdm import tqdm"
      ],
      "execution_count": 9,
      "outputs": []
    },
    {
      "cell_type": "code",
      "metadata": {
        "id": "YVyTpU0HU-hx"
      },
      "source": [
        "from functools import reduce"
      ],
      "execution_count": 13,
      "outputs": []
    },
    {
      "cell_type": "code",
      "metadata": {
        "id": "1MLLLmsSU5cd"
      },
      "source": [
        "from tqdm.notebook import tqdm\n",
        "\n",
        "def add(num):\n",
        "    return reduce(lambda x,y: x+y, tqdm(range(num+1))) if type(num) == int else 0"
      ],
      "execution_count": 14,
      "outputs": []
    },
    {
      "cell_type": "code",
      "metadata": {
        "colab": {
          "base_uri": "https://localhost:8080/",
          "height": 83,
          "referenced_widgets": [
            "d7a84621f89e47468c896632221e467b",
            "04b4a5cf8fe441929e796bf85978d92b",
            "8e87838abd794dabb8a1c3783b1f3cc1",
            "58a7954c5c6e40cc875dc3e9e32132fd",
            "ff755827b4784d6891a1f6eb198b77a0",
            "2de9e03b8833401d8a780e74c7e79115",
            "c0c7fad457b34f51a5f4b89f2a402da7",
            "a95a02fb4c244f0a8e1c9bebd6101b5a"
          ]
        },
        "id": "IiyiU9tJU7sJ",
        "outputId": "0a09d5ee-8efe-4c43-f906-2838bf45186a"
      },
      "source": [
        "add(500000)"
      ],
      "execution_count": 15,
      "outputs": [
        {
          "output_type": "display_data",
          "data": {
            "application/vnd.jupyter.widget-view+json": {
              "model_id": "d7a84621f89e47468c896632221e467b",
              "version_minor": 0,
              "version_major": 2
            },
            "text/plain": [
              "HBox(children=(FloatProgress(value=0.0, max=500001.0), HTML(value='')))"
            ]
          },
          "metadata": {
            "tags": []
          }
        },
        {
          "output_type": "stream",
          "text": [
            "\n"
          ],
          "name": "stdout"
        },
        {
          "output_type": "execute_result",
          "data": {
            "text/plain": [
              "125000250000"
            ]
          },
          "metadata": {
            "tags": []
          },
          "execution_count": 15
        }
      ]
    }
  ]
}