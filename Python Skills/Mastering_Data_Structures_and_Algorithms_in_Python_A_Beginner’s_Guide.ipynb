{
  "nbformat": 4,
  "nbformat_minor": 0,
  "metadata": {
    "colab": {
      "provenance": [],
      "authorship_tag": "ABX9TyMmxD8S0AH1zBfiInJxNEml"
    },
    "kernelspec": {
      "name": "python3",
      "display_name": "Python 3"
    },
    "language_info": {
      "name": "python"
    }
  },
  "cells": [
    {
      "cell_type": "markdown",
      "source": [
        "[Reference](https://python.plainenglish.io/mastering-data-structures-and-algorithms-in-python-a-beginners-guide-e8d6a2124c00)"
      ],
      "metadata": {
        "id": "4ilcSe8QATsT"
      }
    },
    {
      "cell_type": "markdown",
      "source": [
        "# 1. Arrays/lists"
      ],
      "metadata": {
        "id": "TByhMHQsAXKd"
      }
    },
    {
      "cell_type": "code",
      "execution_count": 1,
      "metadata": {
        "id": "R9jP4TRaAN4G"
      },
      "outputs": [],
      "source": [
        "def find_largest_number(arr):\n",
        "    largest = arr[0]\n",
        "    for num in arr:\n",
        "        if num > largest:\n",
        "            largest = num\n",
        "    return largest"
      ]
    },
    {
      "cell_type": "markdown",
      "source": [
        "# 2. Dictionaries"
      ],
      "metadata": {
        "id": "-zj1_FPPAiH8"
      }
    },
    {
      "cell_type": "code",
      "source": [
        "def find_max_value(dictionary):\n",
        "    max_value = max(dictionary.values())\n",
        "    max_key = max(dictionary, key=dictionary.get)\n",
        "    max_index = list(dictionary.keys()).index(max_key)\n",
        "    return max_value, max_key, max_index"
      ],
      "metadata": {
        "id": "qipbZdkRAgrU"
      },
      "execution_count": 2,
      "outputs": []
    },
    {
      "cell_type": "markdown",
      "source": [
        "# 3. Tuples"
      ],
      "metadata": {
        "id": "rMstADhDAl9E"
      }
    },
    {
      "cell_type": "code",
      "source": [
        "def find_median(tpl):\n",
        "    sorted_tuple = tuple(sorted(tpl))\n",
        "    n = len(sorted_tuple)\n",
        "    if n % 2 == 0:\n",
        "        median = (sorted_tuple[n//2 - 1] + sorted_tuple[n//2]) / 2\n",
        "    else:\n",
        "        median = sorted_tuple[n//2]\n",
        "    return median"
      ],
      "metadata": {
        "id": "afwZWDUFAkVg"
      },
      "execution_count": 3,
      "outputs": []
    },
    {
      "cell_type": "markdown",
      "source": [
        "# 4. Sets"
      ],
      "metadata": {
        "id": "LphHHSC3ArhB"
      }
    },
    {
      "cell_type": "code",
      "source": [
        "import string\n",
        "\n",
        "def find_common_words(input):\n",
        "    sentence1 = input[0]\n",
        "    sentence2 = input[1]\n",
        "\n",
        "    def clean_and_split(sentence):\n",
        "        return set(word.strip(string.punctuation).lower() for word in sentence.split())\n",
        "\n",
        "    words1 = clean_and_split(sentence1)\n",
        "    words2 = clean_and_split(sentence2)\n",
        "\n",
        "    common_words = words1.intersection(words2)\n",
        "    return sorted(list(common_words))"
      ],
      "metadata": {
        "id": "xIpKztyPAoKI"
      },
      "execution_count": 4,
      "outputs": []
    },
    {
      "cell_type": "markdown",
      "source": [
        "# 5. Stacks and queues"
      ],
      "metadata": {
        "id": "5mT5ub-wAvFY"
      }
    },
    {
      "cell_type": "code",
      "source": [
        "def is_balanced(expression):\n",
        "    stack = []\n",
        "    opening_brackets = ['(', '[', '{', '<']\n",
        "    closing_brackets = [')', ']', '}', '>']\n",
        "\n",
        "    for char in expression:\n",
        "        if char in opening_brackets:\n",
        "            stack.append(char)\n",
        "        elif char in closing_brackets:\n",
        "            if not stack:\n",
        "                return False\n",
        "            opening_bracket = stack.pop()\n",
        "            if opening_brackets.index(opening_bracket) != closing_brackets.index(char):\n",
        "                return False\n",
        "\n",
        "    return len(stack) == 0"
      ],
      "metadata": {
        "id": "FVaOLqWpAtus"
      },
      "execution_count": 5,
      "outputs": []
    }
  ]
}
