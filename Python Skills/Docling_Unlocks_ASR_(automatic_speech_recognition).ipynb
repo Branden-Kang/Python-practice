{
  "nbformat": 4,
  "nbformat_minor": 0,
  "metadata": {
    "colab": {
      "provenance": [],
      "authorship_tag": "ABX9TyNciljr/vAI6KcgtRbmS0Ds"
    },
    "kernelspec": {
      "name": "python3",
      "display_name": "Python 3"
    },
    "language_info": {
      "name": "python"
    }
  },
  "cells": [
    {
      "cell_type": "markdown",
      "source": [
        "[Reference](https://blog.gopenai.com/%EF%B8%8F-breaking-docling-unlocks-asr-automatic-speech-recognition-power-029a0c78897e)"
      ],
      "metadata": {
        "id": "Nh_1l6ZjjcVD"
      }
    },
    {
      "cell_type": "markdown",
      "source": [
        "```\n",
        "python3 -m venv venv\n",
        "source venv/bin/activate\n",
        "\n",
        "pip install --upgrade pip\n",
        "\n",
        "pip install docling\n",
        "pip install openai-whisper\n",
        "```"
      ],
      "metadata": {
        "id": "yigaYLEojhSq"
      }
    },
    {
      "cell_type": "markdown",
      "source": [
        "```\n",
        "brew install ffmpeg\n",
        "```"
      ],
      "metadata": {
        "id": "jlZrFPZAjith"
      }
    },
    {
      "cell_type": "code",
      "execution_count": 1,
      "metadata": {
        "id": "Upnre1_OjXQf"
      },
      "outputs": [],
      "source": [
        "from pathlib import Path\n",
        "\n",
        "from docling_core.types.doc import DoclingDocument\n",
        "\n",
        "from docling.datamodel import asr_model_specs\n",
        "from docling.datamodel.base_models import ConversionStatus, InputFormat\n",
        "from docling.datamodel.document import ConversionResult\n",
        "from docling.datamodel.pipeline_options import AsrPipelineOptions\n",
        "from docling.document_converter import AudioFormatOption, DocumentConverter\n",
        "from docling.pipeline.asr_pipeline import AsrPipeline\n",
        "\n",
        "\n",
        "def get_asr_converter():\n",
        "    \"\"\"Create a DocumentConverter configured for ASR with whisper_turbo model.\"\"\"\n",
        "    pipeline_options = AsrPipelineOptions()\n",
        "    pipeline_options.asr_options = asr_model_specs.WHISPER_TURBO\n",
        "\n",
        "    converter = DocumentConverter(\n",
        "        format_options={\n",
        "            InputFormat.AUDIO: AudioFormatOption(\n",
        "                pipeline_cls=AsrPipeline,\n",
        "                pipeline_options=pipeline_options,\n",
        "            )\n",
        "        }\n",
        "    )\n",
        "    return converter\n",
        "\n",
        "\n",
        "def asr_pipeline_conversion(audio_path: Path) -> DoclingDocument:\n",
        "    \"\"\"ASR pipeline conversion using whisper_turbo\"\"\"\n",
        "    # Check if the test audio file exists\n",
        "    assert audio_path.exists(), f\"Test audio file not found: {audio_path}\"\n",
        "\n",
        "    converter = get_asr_converter()\n",
        "\n",
        "    # Convert the audio file\n",
        "    result: ConversionResult = converter.convert(audio_path)\n",
        "\n",
        "    # Verify conversion was successful\n",
        "    assert result.status == ConversionStatus.SUCCESS, (\n",
        "        f\"Conversion failed with status: {result.status}\"\n",
        "    )\n",
        "\n",
        "    # --- Debugging Lines (can be removed if not needed, but useful for inspection) ---\n",
        "    print(\"\\n--- DoclingDocument Object Content ---\")\n",
        "    print(result.document)\n",
        "    print(\"\\n--- DoclingDocument Plain Text (from .texts attribute) ---\")\n",
        "    if hasattr(result.document, 'texts') and isinstance(result.document.texts, list):\n",
        "        if result.document.texts:\n",
        "            # Extract the actual text from TextItem objects\n",
        "            text_segments = [item.text for item in result.document.texts]\n",
        "            print(\" \".join(text_segments)) # Concatenate all text segments for display\n",
        "        else:\n",
        "            print(\"[No text segments found]\")\n",
        "    else:\n",
        "        print(f\"DoclingDocument does not have a 'texts' attribute or it's not a list.\")\n",
        "    print(\"------------------------------------\\n\")\n",
        "    # --- End Debugging Lines ---\n",
        "\n",
        "    return result.document\n",
        "\n",
        "\n",
        "if __name__ == \"__main__\":\n",
        "    audio_path = Path(\"./input/sample_10s.mp3\")\n",
        "    output_markdown_file = Path(\"output_asr.md\") # Define the output file path\n",
        "\n",
        "    print(f\"Attempting ASR conversion for: {audio_path}\")\n",
        "    doc = asr_pipeline_conversion(audio_path=audio_path)\n",
        "\n",
        "    # Get the markdown content\n",
        "    markdown_content = doc.export_to_markdown()\n",
        "\n",
        "    # Write the markdown content to the specified file\n",
        "    try:\n",
        "        with open(output_markdown_file, \"w\", encoding=\"utf-8\") as f:\n",
        "            f.write(markdown_content)\n",
        "        print(f\"\\nMarkdown content successfully written to: {output_markdown_file.absolute()}\")\n",
        "        print(\"\\n--- Content of output_asr.md ---\")\n",
        "        print(markdown_content)\n",
        "        print(\"--------------------------------\")\n",
        "    except IOError as e:\n",
        "        print(f\"\\nError writing markdown to file {output_markdown_file}: {e}\")\n"
      ]
    }
  ]
}
