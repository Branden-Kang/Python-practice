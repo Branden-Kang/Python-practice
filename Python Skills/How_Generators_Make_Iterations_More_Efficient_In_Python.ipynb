{
  "nbformat": 4,
  "nbformat_minor": 0,
  "metadata": {
    "colab": {
      "name": "How Generators Make Iterations More Efficient In Python.ipynb",
      "provenance": [],
      "authorship_tag": "ABX9TyOHHBIGRzAHupU6y1KkA27c"
    },
    "kernelspec": {
      "name": "python3",
      "display_name": "Python 3"
    }
  },
  "cells": [
    {
      "cell_type": "markdown",
      "metadata": {
        "id": "tebn3tPTqFDe"
      },
      "source": [
        "[Reference](https://python.plainenglish.io/how-generators-make-iterations-more-efficient-in-python-6ee92ad4ca91)"
      ]
    },
    {
      "cell_type": "code",
      "metadata": {
        "colab": {
          "base_uri": "https://localhost:8080/"
        },
        "id": "doHbDenIp9Pd",
        "outputId": "b913a38e-364d-40e7-e526-72f9eac4decf"
      },
      "source": [
        "my_list = []\n",
        "def square(nums):\n",
        "  for i in nums:\n",
        "    my_list.append(i*i)\n",
        "  return my_list\n",
        "\n",
        "square([1, 2, 3, 4, 5])\n",
        "print(my_list)"
      ],
      "execution_count": 1,
      "outputs": [
        {
          "output_type": "stream",
          "text": [
            "[1, 4, 9, 16, 25]\n"
          ],
          "name": "stdout"
        }
      ]
    },
    {
      "cell_type": "code",
      "metadata": {
        "colab": {
          "base_uri": "https://localhost:8080/"
        },
        "id": "g10pFH2oqC0W",
        "outputId": "d323b4b1-1297-4474-97e0-61a388b52305"
      },
      "source": [
        "def square(nums):\n",
        "  for i in nums:\n",
        "    yield i*i\n",
        "\n",
        "print(square([1, 2, 3, 4, 5]))"
      ],
      "execution_count": 2,
      "outputs": [
        {
          "output_type": "stream",
          "text": [
            "<generator object square at 0x7f748b5facd0>\n"
          ],
          "name": "stdout"
        }
      ]
    },
    {
      "cell_type": "code",
      "metadata": {
        "colab": {
          "base_uri": "https://localhost:8080/"
        },
        "id": "aZEjDeHZqa5P",
        "outputId": "557ea4fc-a431-4b21-c15b-838e68559e97"
      },
      "source": [
        "def square(nums):\n",
        "  for i in nums:\n",
        "    yield i*i\n",
        "\n",
        "for i in square([1,2,3,4,5]):\n",
        "  print(i)"
      ],
      "execution_count": 3,
      "outputs": [
        {
          "output_type": "stream",
          "text": [
            "1\n",
            "4\n",
            "9\n",
            "16\n",
            "25\n"
          ],
          "name": "stdout"
        }
      ]
    },
    {
      "cell_type": "code",
      "metadata": {
        "colab": {
          "base_uri": "https://localhost:8080/"
        },
        "id": "2GmJlh4IqcjD",
        "outputId": "213552fb-5ba5-4e76-9cb3-b44a7e64b043"
      },
      "source": [
        "def square(nums):\n",
        "  for i in nums:\n",
        "    yield i*i\n",
        "\n",
        "nums = [1, 2, 3, 4, 5]\n",
        "g = square(nums)\n",
        "print(next(g))"
      ],
      "execution_count": 4,
      "outputs": [
        {
          "output_type": "stream",
          "text": [
            "1\n"
          ],
          "name": "stdout"
        }
      ]
    },
    {
      "cell_type": "code",
      "metadata": {
        "colab": {
          "base_uri": "https://localhost:8080/"
        },
        "id": "QzACgqY7qeEr",
        "outputId": "f2b0400a-4232-4b5b-93d6-375f765fd999"
      },
      "source": [
        "def square(nums):\n",
        "  for i in nums:\n",
        "    yield i*i\n",
        "\n",
        "nums = [1, 2, 3, 4, 5]\n",
        "g = square(nums)\n",
        "\n",
        "next(g)\n",
        "print(next(g))"
      ],
      "execution_count": 5,
      "outputs": [
        {
          "output_type": "stream",
          "text": [
            "4\n"
          ],
          "name": "stdout"
        }
      ]
    },
    {
      "cell_type": "code",
      "metadata": {
        "colab": {
          "base_uri": "https://localhost:8080/"
        },
        "id": "QFRbkiSPqfIx",
        "outputId": "aa99a1d2-900b-4ed5-9f85-a3600cf9d593"
      },
      "source": [
        "def square(nums):\n",
        "  for i in nums:\n",
        "    yield i*i\n",
        "\n",
        "nums = [1, 2, 3, 4, 5]\n",
        "g = square(nums)\n",
        "\n",
        "next(g)\n",
        "next(g)\n",
        "next(g)\n",
        "next(g)\n",
        "print(next(g))"
      ],
      "execution_count": 6,
      "outputs": [
        {
          "output_type": "stream",
          "text": [
            "25\n"
          ],
          "name": "stdout"
        }
      ]
    },
    {
      "cell_type": "code",
      "metadata": {
        "colab": {
          "base_uri": "https://localhost:8080/"
        },
        "id": "MooqeH9iqgRS",
        "outputId": "bfe59385-1dc3-47aa-cf9c-a40cf9127148"
      },
      "source": [
        "mylist = [i*i for i in [1, 2, 3, 4, 5]]\n",
        "print(mylist)"
      ],
      "execution_count": 7,
      "outputs": [
        {
          "output_type": "stream",
          "text": [
            "[1, 4, 9, 16, 25]\n"
          ],
          "name": "stdout"
        }
      ]
    },
    {
      "cell_type": "code",
      "metadata": {
        "colab": {
          "base_uri": "https://localhost:8080/"
        },
        "id": "X7LpzC1IqiD4",
        "outputId": "d0bda01f-8c12-414e-a2aa-cec511344c3e"
      },
      "source": [
        "g = (i*i for i in [1, 2, 3, 4, 5])\n",
        "print(g)"
      ],
      "execution_count": 8,
      "outputs": [
        {
          "output_type": "stream",
          "text": [
            "<generator object <genexpr> at 0x7f748b5fae50>\n"
          ],
          "name": "stdout"
        }
      ]
    },
    {
      "cell_type": "code",
      "metadata": {
        "colab": {
          "base_uri": "https://localhost:8080/"
        },
        "id": "bfqCQMxXqjeM",
        "outputId": "ce9b849d-fb3c-409a-b062-dd21dacf9aee"
      },
      "source": [
        "g = (i*i for i in [1, 2, 3, 4, 5])\n",
        "\n",
        "for i in g:\n",
        "  print(i)"
      ],
      "execution_count": 9,
      "outputs": [
        {
          "output_type": "stream",
          "text": [
            "1\n",
            "4\n",
            "9\n",
            "16\n",
            "25\n"
          ],
          "name": "stdout"
        }
      ]
    },
    {
      "cell_type": "code",
      "metadata": {
        "colab": {
          "base_uri": "https://localhost:8080/"
        },
        "id": "MWo1wBkcqlDy",
        "outputId": "91914783-d463-4043-876c-9625523f7e5a"
      },
      "source": [
        "from time import time\n",
        "\n",
        "myList = []\n",
        "def square(nums):\n",
        "  for i in range(nums):\n",
        "    myList.append(i*i)\n",
        "\n",
        "t1 = time()\n",
        "square(10000000)\n",
        "t2 = time()\n",
        "\n",
        "print(t2-t1)"
      ],
      "execution_count": 10,
      "outputs": [
        {
          "output_type": "stream",
          "text": [
            "1.6488819122314453\n"
          ],
          "name": "stdout"
        }
      ]
    },
    {
      "cell_type": "code",
      "metadata": {
        "colab": {
          "base_uri": "https://localhost:8080/"
        },
        "id": "RezRPHn3qpxo",
        "outputId": "a0846b42-f5e2-4ec8-81b5-7c0ac1a6f92b"
      },
      "source": [
        "from time import time\n",
        "\n",
        "def square(nums):\n",
        "  for i in range(nums):\n",
        "    i*i\n",
        "\n",
        "t1 = time()\n",
        "square(10000000)\n",
        "t2 = time()\n",
        "\n",
        "print(t2-t1)"
      ],
      "execution_count": 11,
      "outputs": [
        {
          "output_type": "stream",
          "text": [
            "0.6037306785583496\n"
          ],
          "name": "stdout"
        }
      ]
    },
    {
      "cell_type": "code",
      "metadata": {
        "colab": {
          "base_uri": "https://localhost:8080/"
        },
        "id": "vfjm_3_hqrCm",
        "outputId": "1653ceb9-686c-457d-888d-e6abdc895076"
      },
      "source": [
        "def fib(num):\n",
        "  first = 0\n",
        "  second = 1\n",
        "  for i in range(num):\n",
        "    yield first\n",
        "    temp = first\n",
        "    first = second\n",
        "    second = temp + second\n",
        "\n",
        "for i in fib(10):\n",
        "  print(i)"
      ],
      "execution_count": 12,
      "outputs": [
        {
          "output_type": "stream",
          "text": [
            "0\n",
            "1\n",
            "1\n",
            "2\n",
            "3\n",
            "5\n",
            "8\n",
            "13\n",
            "21\n",
            "34\n"
          ],
          "name": "stdout"
        }
      ]
    }
  ]
}