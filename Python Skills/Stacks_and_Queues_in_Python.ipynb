{
  "nbformat": 4,
  "nbformat_minor": 0,
  "metadata": {
    "colab": {
      "name": "Stacks and Queues in Python.ipynb",
      "provenance": [],
      "authorship_tag": "ABX9TyOnKLp78+frvalSzxDUv6HR"
    },
    "kernelspec": {
      "name": "python3",
      "display_name": "Python 3"
    }
  },
  "cells": [
    {
      "cell_type": "markdown",
      "metadata": {
        "id": "qcb-V974YVHw"
      },
      "source": [
        "[Reference](https://medium.com/nothingaholic/stacks-and-queues-in-python-b57ab8be6474)"
      ]
    },
    {
      "cell_type": "markdown",
      "metadata": {
        "id": "zXLuXNiTY09a"
      },
      "source": [
        "# Stacks\n",
        "Last In, First Out (LIFO)"
      ]
    },
    {
      "cell_type": "code",
      "metadata": {
        "colab": {
          "base_uri": "https://localhost:8080/"
        },
        "id": "LzHQmQ-yYT-l",
        "outputId": "2bd5820d-86da-4a60-e57b-0623d50ba31d"
      },
      "source": [
        "stack = [1,2,3,4]\n",
        "stack.append(5) # add 5 to the stack\n",
        "stack.pop() #remove 5 from the stack"
      ],
      "execution_count": 1,
      "outputs": [
        {
          "output_type": "execute_result",
          "data": {
            "text/plain": [
              "5"
            ]
          },
          "metadata": {
            "tags": []
          },
          "execution_count": 1
        }
      ]
    },
    {
      "cell_type": "markdown",
      "metadata": {
        "id": "mxGzGh-rZNnt"
      },
      "source": [
        "# Queues\n",
        "First In, First Out (FIFO)"
      ]
    },
    {
      "cell_type": "code",
      "metadata": {
        "colab": {
          "base_uri": "https://localhost:8080/"
        },
        "id": "XPSMTjzzZMxZ",
        "outputId": "40210431-2a54-4b30-a454-cd362f44b07c"
      },
      "source": [
        "queue = [1,2,3,4]\n",
        "queue.append(5) # Add 5 to the queue\n",
        "queue.pop(0) # Remove the first element from queue"
      ],
      "execution_count": 2,
      "outputs": [
        {
          "output_type": "execute_result",
          "data": {
            "text/plain": [
              "1"
            ]
          },
          "metadata": {
            "tags": []
          },
          "execution_count": 2
        }
      ]
    },
    {
      "cell_type": "code",
      "metadata": {
        "colab": {
          "base_uri": "https://localhost:8080/"
        },
        "id": "owfgNjo8ZjC8",
        "outputId": "16c50810-30cd-47f7-d530-a91db9b545fc"
      },
      "source": [
        "from collections import deque\n",
        "# implement Queue\n",
        "fifo=deque([1,2,3]) # Make a new deque with three elements\n",
        "fifo.append(4) # Add 4 to deque\n",
        "fifo.popleft() # Remove the first element\n",
        "\n",
        "# implement Stack\n",
        "lifo = deque([1,2,3]) # Make a new deque with three elements\n",
        "lifo.append(4) # Add 4 to deque\n",
        "lifo.pop() # Remove the last emelemt\n",
        "\n",
        "# Other Functions\n",
        "d = deque('abc') # Make a new queue with three elements\n",
        "list(d) # Create a list object\n",
        "list(reversed(d)) # Reverse the elements of the list\n",
        "d.extend('def') # Add multiple elements at once\n",
        "d.extendleft('ghi') # Extendleft() reverses the input order\n",
        "d.rotate(1) # Right rotation\n",
        "d.rotate(-1) # Left rotation\n",
        "print(d)"
      ],
      "execution_count": 4,
      "outputs": [
        {
          "output_type": "stream",
          "text": [
            "deque(['i', 'h', 'g', 'a', 'b', 'c', 'd', 'e', 'f'])\n"
          ],
          "name": "stdout"
        }
      ]
    }
  ]
}