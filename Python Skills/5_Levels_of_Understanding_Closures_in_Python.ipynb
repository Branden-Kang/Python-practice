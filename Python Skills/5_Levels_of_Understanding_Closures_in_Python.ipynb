{
  "nbformat": 4,
  "nbformat_minor": 0,
  "metadata": {
    "colab": {
      "name": "5 Levels of Understanding Closures in Python.ipynb",
      "provenance": [],
      "authorship_tag": "ABX9TyM5m/OPYtnXlYCUDDpCZerh"
    },
    "kernelspec": {
      "name": "python3",
      "display_name": "Python 3"
    }
  },
  "cells": [
    {
      "cell_type": "markdown",
      "metadata": {
        "id": "89sKa6Jjld_E"
      },
      "source": [
        "[Reference](https://medium.com/techtofreedom/5-levels-of-understanding-closures-in-python-a0e1212baf6d)"
      ]
    },
    {
      "cell_type": "code",
      "metadata": {
        "colab": {
          "base_uri": "https://localhost:8080/",
          "height": 249
        },
        "id": "PoCDyWH5lbz2",
        "outputId": "3bc47591-1f1f-4c72-9e27-b53e03911f30"
      },
      "source": [
        "def outer_func():\n",
        "    leader = \"Branden\"\n",
        "\n",
        "    def print_leader():\n",
        "        print(leader)\n",
        "\n",
        "    return print_leader\n",
        "\n",
        "f = outer_func()\n",
        "del outer_func\n",
        "\n",
        "f()\n",
        "\n",
        "outer_func()"
      ],
      "execution_count": 1,
      "outputs": [
        {
          "output_type": "stream",
          "text": [
            "Branden\n"
          ],
          "name": "stdout"
        },
        {
          "output_type": "error",
          "ename": "NameError",
          "evalue": "ignored",
          "traceback": [
            "\u001b[0;31m---------------------------------------------------------------------------\u001b[0m",
            "\u001b[0;31mNameError\u001b[0m                                 Traceback (most recent call last)",
            "\u001b[0;32m<ipython-input-1-8c1111fc82e9>\u001b[0m in \u001b[0;36m<module>\u001b[0;34m()\u001b[0m\n\u001b[1;32m     12\u001b[0m \u001b[0mf\u001b[0m\u001b[0;34m(\u001b[0m\u001b[0;34m)\u001b[0m\u001b[0;34m\u001b[0m\u001b[0;34m\u001b[0m\u001b[0m\n\u001b[1;32m     13\u001b[0m \u001b[0;34m\u001b[0m\u001b[0m\n\u001b[0;32m---> 14\u001b[0;31m \u001b[0mouter_func\u001b[0m\u001b[0;34m(\u001b[0m\u001b[0;34m)\u001b[0m\u001b[0;34m\u001b[0m\u001b[0;34m\u001b[0m\u001b[0m\n\u001b[0m",
            "\u001b[0;31mNameError\u001b[0m: name 'outer_func' is not defined"
          ]
        }
      ]
    },
    {
      "cell_type": "code",
      "metadata": {
        "colab": {
          "base_uri": "https://localhost:8080/"
        },
        "id": "2z2ztHDglkwE",
        "outputId": "8f3f4ba7-3217-4fe6-f36a-7e1690ab7099"
      },
      "source": [
        "def outer_func():\n",
        "    leader = \"Branden\"\n",
        "\n",
        "    def print_leader():\n",
        "        print(leader)\n",
        "\n",
        "    return print_leader() # Return The Result!\n",
        "\n",
        "f = outer_func()\n",
        "\n",
        "del outer_func\n",
        "\n",
        "print(type(f))"
      ],
      "execution_count": 2,
      "outputs": [
        {
          "output_type": "stream",
          "text": [
            "Branden\n",
            "<class 'NoneType'>\n"
          ],
          "name": "stdout"
        }
      ]
    },
    {
      "cell_type": "code",
      "metadata": {
        "colab": {
          "base_uri": "https://localhost:8080/",
          "height": 198
        },
        "id": "cK7oJ8yeltll",
        "outputId": "d89d717b-fd2e-4bf2-9cd0-4fd359bf1456"
      },
      "source": [
        "f()"
      ],
      "execution_count": 3,
      "outputs": [
        {
          "output_type": "error",
          "ename": "TypeError",
          "evalue": "ignored",
          "traceback": [
            "\u001b[0;31m---------------------------------------------------------------------------\u001b[0m",
            "\u001b[0;31mTypeError\u001b[0m                                 Traceback (most recent call last)",
            "\u001b[0;32m<ipython-input-3-c43e34e6d405>\u001b[0m in \u001b[0;36m<module>\u001b[0;34m()\u001b[0m\n\u001b[0;32m----> 1\u001b[0;31m \u001b[0mf\u001b[0m\u001b[0;34m(\u001b[0m\u001b[0;34m)\u001b[0m\u001b[0;34m\u001b[0m\u001b[0;34m\u001b[0m\u001b[0m\n\u001b[0m",
            "\u001b[0;31mTypeError\u001b[0m: 'NoneType' object is not callable"
          ]
        }
      ]
    },
    {
      "cell_type": "code",
      "metadata": {
        "colab": {
          "base_uri": "https://localhost:8080/"
        },
        "id": "pgW914rplzQA",
        "outputId": "764f6282-1507-435b-ca11-57f647ef104f"
      },
      "source": [
        "def outer_func():\n",
        "    leader = \"Yang Zhou\"\n",
        "\n",
        "    def print_leader():\n",
        "        print(leader)\n",
        "\n",
        "    return print_leader\n",
        "\n",
        "f = outer_func()\n",
        "\n",
        "print(outer_func.__closure__)\n",
        "print(f.__closure__)\n",
        "print(f.__closure__[0].cell_contents)"
      ],
      "execution_count": 4,
      "outputs": [
        {
          "output_type": "stream",
          "text": [
            "None\n",
            "(<cell at 0x7f27dc6fac48: str object at 0x7f27dbe7cfb0>,)\n",
            "Yang Zhou\n"
          ],
          "name": "stdout"
        }
      ]
    },
    {
      "cell_type": "code",
      "metadata": {
        "colab": {
          "base_uri": "https://localhost:8080/"
        },
        "id": "i-bxOVDVl4v0",
        "outputId": "9392fca6-28d6-499b-8ebb-36159fac906b"
      },
      "source": [
        "def funcs_generator():\n",
        "    funcs = []\n",
        "    for i in range(3):\n",
        "        def f():\n",
        "            return i * 2\n",
        "        funcs.append(f)\n",
        "    return funcs\n",
        "\n",
        "f1, f2, f3 = funcs_generator()\n",
        "print(f1(), f2(), f3())"
      ],
      "execution_count": 5,
      "outputs": [
        {
          "output_type": "stream",
          "text": [
            "4 4 4\n"
          ],
          "name": "stdout"
        }
      ]
    },
    {
      "cell_type": "code",
      "metadata": {
        "colab": {
          "base_uri": "https://localhost:8080/"
        },
        "id": "zmgMJEVEl-K5",
        "outputId": "aca24207-b3a5-4430-c484-0dc7b72ea1e0"
      },
      "source": [
        "def funcs_generator():\n",
        "    funcs = []\n",
        "    for i in range(3):\n",
        "        def f():\n",
        "            return i * 2\n",
        "        funcs.append(f)\n",
        "    return funcs\n",
        "\n",
        "f1, f2, f3 = funcs_generator()\n",
        "print(f1(), f2(), f3())\n",
        "print(f1.__closure__[0].cell_contents)\n",
        "print(f2.__closure__[0].cell_contents)\n",
        "print(f3.__closure__[0].cell_contents)"
      ],
      "execution_count": 6,
      "outputs": [
        {
          "output_type": "stream",
          "text": [
            "4 4 4\n",
            "2\n",
            "2\n",
            "2\n"
          ],
          "name": "stdout"
        }
      ]
    },
    {
      "cell_type": "code",
      "metadata": {
        "colab": {
          "base_uri": "https://localhost:8080/"
        },
        "id": "RFZs2jCjmC8K",
        "outputId": "6ad69aea-dc88-40ce-f9a4-719164f3191d"
      },
      "source": [
        "def funcs_generator():\n",
        "    funcs = []\n",
        "    for i in range(3):\n",
        "        def f(j = i):\n",
        "            return j * 2\n",
        "        funcs.append(f)\n",
        "    return funcs\n",
        "\n",
        "f1, f2, f3 = funcs_generator()\n",
        "\n",
        "print(f1(), f2(), f3())\n",
        "print(f1.__closure__)\n",
        "print(f2.__closure__)\n",
        "print(f3.__closure__)"
      ],
      "execution_count": 7,
      "outputs": [
        {
          "output_type": "stream",
          "text": [
            "0 2 4\n",
            "None\n",
            "None\n",
            "None\n"
          ],
          "name": "stdout"
        }
      ]
    },
    {
      "cell_type": "code",
      "metadata": {
        "colab": {
          "base_uri": "https://localhost:8080/"
        },
        "id": "WP6YkghgmG_H",
        "outputId": "a08c37ef-a493-4fd9-ec72-ffd4236209e7"
      },
      "source": [
        "def outer_func():\n",
        "    leader = \"Branden\"\n",
        "    return lambda _: print(leader)\n",
        "\n",
        "f = outer_func()\n",
        "\n",
        "print(outer_func.__closure__)\n",
        "print(f.__closure__)\n",
        "print(f.__closure__[0].cell_contents)"
      ],
      "execution_count": 8,
      "outputs": [
        {
          "output_type": "stream",
          "text": [
            "None\n",
            "(<cell at 0x7f27dc6faaf8: str object at 0x7f27dc7153e8>,)\n",
            "Branden\n"
          ],
          "name": "stdout"
        }
      ]
    }
  ]
}