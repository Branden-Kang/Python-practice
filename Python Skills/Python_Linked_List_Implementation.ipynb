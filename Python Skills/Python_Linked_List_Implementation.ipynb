{
  "nbformat": 4,
  "nbformat_minor": 0,
  "metadata": {
    "colab": {
      "provenance": [],
      "authorship_tag": "ABX9TyMD6yQ/Vk9AkAT1wiZ15JlR"
    },
    "kernelspec": {
      "name": "python3",
      "display_name": "Python 3"
    },
    "language_info": {
      "name": "python"
    }
  },
  "cells": [
    {
      "cell_type": "markdown",
      "source": [
        "[Reference](https://medium.com/@sarperismetmakas/python-linked-list-implementation-1bc7e69feb17)"
      ],
      "metadata": {
        "id": "2FjbbAoQMgMJ"
      }
    },
    {
      "cell_type": "code",
      "source": [
        "class Node:\n",
        "    def __init__(self, data):\n",
        "            self.data = data\n",
        "            self.next = None\n",
        "\n",
        "class LinkedList:\n",
        "    def __init__(self):\n",
        "        self.head = None\n",
        "    def append(self, data):\n",
        "        new_node = Node(data)\n",
        "        if not self.head:\n",
        "                self.head = new_node\n",
        "        else:\n",
        "            current = self.head\n",
        "            while current.next:\n",
        "                current = current.next\n",
        "            current.next = new_node\n",
        "\n",
        "    def delete(self, data):\n",
        "        current = self.head\n",
        "        if current and current.data == data:\n",
        "            self.head = current.next\n",
        "            return\n",
        "        prev = None\n",
        "        while current and current.data!= data:\n",
        "            prev = current\n",
        "            current = current.next\n",
        "        if current is None:\n",
        "            return\n",
        "        prev.next = current.next\n",
        "\n",
        "    def display(self):\n",
        "        elements = []\n",
        "        current = self.head\n",
        "        while current:\n",
        "            elements.append(current.data)\n",
        "            current = current.next\n",
        "        print(\" -> \".join(map(str, elements)))\n",
        "\n",
        "    def search(self, data):\n",
        "        current = self.head\n",
        "        while current:\n",
        "            if current.data == data:\n",
        "                return True\n",
        "            current = current.next\n",
        "        return False"
      ],
      "metadata": {
        "id": "-1FztOuukj7L"
      },
      "execution_count": 6,
      "outputs": []
    },
    {
      "cell_type": "code",
      "source": [
        "my_list = LinkedList()\n",
        "\n",
        "# Append some elements\n",
        "my_list.append(5)\n",
        "my_list.append(10)\n",
        "my_list.append(15)\n",
        "\n",
        "# Display the linked list\n",
        "my_list.display()  # Output: 5 -> 10 -> 15\n",
        "\n",
        "# Append an element\n",
        "my_list.append(1)\n",
        "\n",
        "# Display the linked list\n",
        "my_list.display()  # Output: 1 -> 5 -> 10 -> 15\n",
        "\n",
        "# Search for an element\n",
        "print(my_list.search(10))\n",
        "\n",
        "# Delete an element\n",
        "my_list.delete(5)\n",
        "\n",
        "# Display the linked list\n",
        "my_list.display()  # Output: 1 -> 10 -> 15"
      ],
      "metadata": {
        "colab": {
          "base_uri": "https://localhost:8080/"
        },
        "id": "-pGnLuLDkk84",
        "outputId": "a22b73f6-124a-4ce1-d9de-6818ef56678f"
      },
      "execution_count": 8,
      "outputs": [
        {
          "output_type": "stream",
          "name": "stdout",
          "text": [
            "5 -> 10 -> 15\n",
            "5 -> 10 -> 15 -> 1\n",
            "True\n",
            "10 -> 15 -> 1\n"
          ]
        }
      ]
    }
  ]
}
