{
  "nbformat": 4,
  "nbformat_minor": 0,
  "metadata": {
    "colab": {
      "name": "10 Must Known Built-In Functions in Python.ipynb",
      "provenance": [],
      "authorship_tag": "ABX9TyP5mhWD/iKcFh9RkFIbH28R"
    },
    "kernelspec": {
      "name": "python3",
      "display_name": "Python 3"
    },
    "language_info": {
      "name": "python"
    }
  },
  "cells": [
    {
      "cell_type": "markdown",
      "metadata": {
        "id": "gXyUS7YfoO0o"
      },
      "source": [
        "[Reference](https://medium.com/pythoneers/10-must-known-built-in-functions-in-python-2f196b9c0359)"
      ]
    },
    {
      "cell_type": "markdown",
      "metadata": {
        "id": "6toa16nioTw2"
      },
      "source": [
        "# 1. enumerate"
      ]
    },
    {
      "cell_type": "code",
      "metadata": {
        "colab": {
          "base_uri": "https://localhost:8080/"
        },
        "id": "2Rd7k4k16CMK",
        "outputId": "360bb1f0-367e-429b-ba3c-969e924c068d"
      },
      "source": [
        "animals = ['cat','dog','cow']\n",
        "print(list(enumerate(animals)))"
      ],
      "execution_count": 1,
      "outputs": [
        {
          "output_type": "stream",
          "text": [
            "[(0, 'cat'), (1, 'dog'), (2, 'cow')]\n"
          ],
          "name": "stdout"
        }
      ]
    },
    {
      "cell_type": "code",
      "metadata": {
        "colab": {
          "base_uri": "https://localhost:8080/"
        },
        "id": "2be109Wp6ZhL",
        "outputId": "7384de0c-652a-4dd3-c19b-2ef558d974aa"
      },
      "source": [
        "animals = ['cat','dog','cow']\n",
        "print(list(enumerate(animals,10)))"
      ],
      "execution_count": 2,
      "outputs": [
        {
          "output_type": "stream",
          "text": [
            "[(10, 'cat'), (11, 'dog'), (12, 'cow')]\n"
          ],
          "name": "stdout"
        }
      ]
    },
    {
      "cell_type": "code",
      "metadata": {
        "colab": {
          "base_uri": "https://localhost:8080/"
        },
        "id": "9UVi0I_z6dvC",
        "outputId": "7775649a-59ad-4ea5-8957-c3267ce1f7e4"
      },
      "source": [
        "animals = ['cat','dog','cow']\n",
        "for index,animal in enumerate(animals):\n",
        "  if animal=='cow':\n",
        "      print(index)"
      ],
      "execution_count": 3,
      "outputs": [
        {
          "output_type": "stream",
          "text": [
            "2\n"
          ],
          "name": "stdout"
        }
      ]
    },
    {
      "cell_type": "markdown",
      "metadata": {
        "id": "1eFTl_VqoYPv"
      },
      "source": [
        "# 2. Zip"
      ]
    },
    {
      "cell_type": "code",
      "metadata": {
        "colab": {
          "base_uri": "https://localhost:8080/"
        },
        "id": "C3XD3ld0oXLD",
        "outputId": "e8483eb8-7574-41c6-c84b-20f894d764d4"
      },
      "source": [
        "numbers = [1,2,3,4]\n",
        "characters = ['A','B','C','D']\n",
        "zipped = zip(numbers,characters)\n",
        "print(zipped)\n",
        "print(list(zipped))\n",
        "print(tuple(zipped))"
      ],
      "execution_count": 5,
      "outputs": [
        {
          "output_type": "stream",
          "text": [
            "<zip object at 0x7f820d9e8550>\n",
            "[(1, 'A'), (2, 'B'), (3, 'C'), (4, 'D')]\n",
            "()\n"
          ],
          "name": "stdout"
        }
      ]
    },
    {
      "cell_type": "code",
      "metadata": {
        "colab": {
          "base_uri": "https://localhost:8080/"
        },
        "id": "2HKiXYtXoZcB",
        "outputId": "e22a9573-b3dc-42e7-a24a-86f542308750"
      },
      "source": [
        "numbers = [1,2,3,4]\n",
        "characters = ['A','B','C','D']\n",
        "zipped = zip(numbers,characters)\n",
        "n,c = zip(*zipped)\n",
        "print(n)\n",
        "print(c)"
      ],
      "execution_count": 6,
      "outputs": [
        {
          "output_type": "stream",
          "text": [
            "(1, 2, 3, 4)\n",
            "('A', 'B', 'C', 'D')\n"
          ],
          "name": "stdout"
        }
      ]
    },
    {
      "cell_type": "markdown",
      "metadata": {
        "id": "6ySDtIMmoc4w"
      },
      "source": [
        "# 3. map"
      ]
    },
    {
      "cell_type": "code",
      "metadata": {
        "colab": {
          "base_uri": "https://localhost:8080/"
        },
        "id": "lcJ2J8sAob-d",
        "outputId": "d7b74866-8d33-4f95-8aab-3fcf090710a4"
      },
      "source": [
        "def cube(n):\n",
        "     return n*n*n\n",
        "     \n",
        "numbers = [1,2,3,4,5]\n",
        "cubes = list(map(cube,numbers))\n",
        "print(cubes)"
      ],
      "execution_count": 7,
      "outputs": [
        {
          "output_type": "stream",
          "text": [
            "[1, 8, 27, 64, 125]\n"
          ],
          "name": "stdout"
        }
      ]
    },
    {
      "cell_type": "code",
      "metadata": {
        "colab": {
          "base_uri": "https://localhost:8080/"
        },
        "id": "Ah6CQvTEofFJ",
        "outputId": "97b4a632-ba0e-4d7a-cfd3-1ad2893c32a0"
      },
      "source": [
        "numbers = [1.2324,5.6443,9.4524,6.322]\n",
        "round_numbers = list(map(round,numbers))\n",
        "print(round_numbers)"
      ],
      "execution_count": 8,
      "outputs": [
        {
          "output_type": "stream",
          "text": [
            "[1, 6, 9, 6]\n"
          ],
          "name": "stdout"
        }
      ]
    },
    {
      "cell_type": "markdown",
      "metadata": {
        "id": "0_VXZ6xToilq"
      },
      "source": [
        "# 4. Lambda"
      ]
    },
    {
      "cell_type": "code",
      "metadata": {
        "colab": {
          "base_uri": "https://localhost:8080/"
        },
        "id": "Ao7GIjs-ohz6",
        "outputId": "c9b5f763-ddd1-4c34-a5c7-ca19bf1ff82c"
      },
      "source": [
        "cube = lambda x:x*x*x\n",
        "numbers = [1,2,3,4,5]\n",
        "cubes = list(map(cube,numbers))\n",
        "print(cubes)"
      ],
      "execution_count": 9,
      "outputs": [
        {
          "output_type": "stream",
          "text": [
            "[1, 8, 27, 64, 125]\n"
          ],
          "name": "stdout"
        }
      ]
    },
    {
      "cell_type": "markdown",
      "metadata": {
        "id": "zVaJfEDRokzc"
      },
      "source": [
        "# 5. filter"
      ]
    },
    {
      "cell_type": "code",
      "metadata": {
        "colab": {
          "base_uri": "https://localhost:8080/"
        },
        "id": "EI7Wcw7koj4D",
        "outputId": "79b9ab30-7177-4918-f164-3bf5387612fd"
      },
      "source": [
        "numbers = [1,2,3,4,5,6,7,8,9,10]\n",
        "check_even = lambda x:x%2==0\n",
        "even_numbers = list(filter(check_even,numbers))\n",
        "print(even_numbers)"
      ],
      "execution_count": 10,
      "outputs": [
        {
          "output_type": "stream",
          "text": [
            "[2, 4, 6, 8, 10]\n"
          ],
          "name": "stdout"
        }
      ]
    },
    {
      "cell_type": "markdown",
      "metadata": {
        "id": "5wEGNP3jooid"
      },
      "source": [
        "# 6. Open"
      ]
    },
    {
      "cell_type": "code",
      "metadata": {
        "id": "3iBaq3Gtol7O"
      },
      "source": [
        "f = open('data.txt', mode='w')"
      ],
      "execution_count": 11,
      "outputs": []
    },
    {
      "cell_type": "markdown",
      "metadata": {
        "id": "oKsEqxrYornd"
      },
      "source": [
        "# 7. ord"
      ]
    },
    {
      "cell_type": "code",
      "metadata": {
        "colab": {
          "base_uri": "https://localhost:8080/"
        },
        "id": "79UVrCgooqkB",
        "outputId": "f160464d-5f54-4c40-e721-3b1b569a5d55"
      },
      "source": [
        "print(ord('4'))     # Specifying A Integer\n",
        "print(ord('A'))    # Specifying A Character\n",
        "print(ord('@'))    # Specifying A Special Character"
      ],
      "execution_count": 12,
      "outputs": [
        {
          "output_type": "stream",
          "text": [
            "52\n",
            "65\n",
            "64\n"
          ],
          "name": "stdout"
        }
      ]
    },
    {
      "cell_type": "markdown",
      "metadata": {
        "id": "BInHycq2otnP"
      },
      "source": [
        "# 8. Split()"
      ]
    },
    {
      "cell_type": "code",
      "metadata": {
        "colab": {
          "base_uri": "https://localhost:8080/"
        },
        "id": "ozgR6fVQos5F",
        "outputId": "42e85e10-9ec7-4310-c7ec-9468d6a82073"
      },
      "source": [
        "print('I Love Python'.split())\n",
        "text = 'cat, dog, cow, lion'\n",
        "print(text.split(', ',1))"
      ],
      "execution_count": 13,
      "outputs": [
        {
          "output_type": "stream",
          "text": [
            "['I', 'Love', 'Python']\n",
            "['cat', 'dog, cow, lion']\n"
          ],
          "name": "stdout"
        }
      ]
    },
    {
      "cell_type": "markdown",
      "metadata": {
        "id": "AWkTEYuZow-u"
      },
      "source": [
        "# 9. any and all"
      ]
    },
    {
      "cell_type": "code",
      "metadata": {
        "colab": {
          "base_uri": "https://localhost:8080/"
        },
        "id": "1KoMqnokov6R",
        "outputId": "c735ce3b-d910-44b3-c430-efdd043b7a18"
      },
      "source": [
        "data = [True, True, False, False, True]\n",
        "print(any(data))\n",
        "print(all(data))"
      ],
      "execution_count": 14,
      "outputs": [
        {
          "output_type": "stream",
          "text": [
            "True\n",
            "False\n"
          ],
          "name": "stdout"
        }
      ]
    },
    {
      "cell_type": "code",
      "metadata": {
        "colab": {
          "base_uri": "https://localhost:8080/"
        },
        "id": "oM3NepHZoyLQ",
        "outputId": "e15968a9-a125-45b1-addb-402c34b8f72d"
      },
      "source": [
        "data = [True,True,True,True]\n",
        "print(any(data))\n",
        "print(all(data))"
      ],
      "execution_count": 15,
      "outputs": [
        {
          "output_type": "stream",
          "text": [
            "True\n",
            "True\n"
          ],
          "name": "stdout"
        }
      ]
    },
    {
      "cell_type": "markdown",
      "metadata": {
        "id": "ZiZEhLZqo0m7"
      },
      "source": [
        "# 10. os module"
      ]
    },
    {
      "cell_type": "code",
      "metadata": {
        "id": "e1aGiKi1ozNQ"
      },
      "source": [
        "import os\n",
        "\n",
        "print(os.getcwd()) ## Prints the current working directory\n",
        "\n",
        "os.chdir('../')    ## Changes the current working directory\n",
        "\n",
        "os.mkdir()        ## Create a new directory in the current directory\n",
        "\n",
        "os.listdir()      ## List down all the files in the current dir\n",
        "\n",
        "os.remove(FILE_PATH)      ## Remove a file from the current dir\n",
        "\n",
        "os.rename(FILE_PATH)     ## Rename a file in current dir"
      ],
      "execution_count": 16,
      "outputs": []
    }
  ]
}