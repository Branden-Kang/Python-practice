{
  "nbformat": 4,
  "nbformat_minor": 0,
  "metadata": {
    "colab": {
      "name": "An extremely simple way to schedule programs with Python on Windows.ipynb",
      "provenance": [],
      "authorship_tag": "ABX9TyOSh44FdydeavQTBUXoF6bn"
    },
    "kernelspec": {
      "name": "python3",
      "display_name": "Python 3"
    },
    "language_info": {
      "name": "python"
    }
  },
  "cells": [
    {
      "cell_type": "markdown",
      "source": [
        "[Reference](https://medium.com/short-bits/an-extremely-simple-way-to-schedule-programs-with-python-on-windows-46fc34074874)"
      ],
      "metadata": {
        "id": "t4HRUMPPyRiQ"
      }
    },
    {
      "cell_type": "code",
      "execution_count": 1,
      "metadata": {
        "id": "IN0KPCdaxKNo"
      },
      "outputs": [],
      "source": [
        "import schedule\n",
        "import time\n",
        "\n",
        "def job():\n",
        "    print(\"I'm working...\")\n",
        "schedule.every(10).seconds.do(job)\n",
        "schedule.every(10).minutes.do(job)\n",
        "schedule.every().hour.do(job)\n",
        "schedule.every().day.at(\"10:30\").do(job)\n",
        "schedule.every(5).to(10).minutes.do(job)\n",
        "schedule.every().monday.do(job)\n",
        "schedule.every().wednesday.at(\"13:15\").do(job)\n",
        "schedule.every().minute.at(\":17\").do(job)\n",
        "while True:\n",
        "    schedule.run_pending()\n",
        "    time.sleep(1)"
      ]
    },
    {
      "cell_type": "code",
      "source": [
        "import time\n",
        "import subprocess\n",
        "import schedule\n",
        "\n",
        "def job():\n",
        "    subprocess.run('powershell ls; python -c \"print(1235)\"')\n",
        "\n",
        "if __name__ == '__main__':\n",
        "    schedule.every(5).seconds.do(job)\n",
        "\n",
        "    while True:\n",
        "        schedule.run_pending()\n",
        "        time.sleep(1)"
      ],
      "metadata": {
        "id": "T4Thu5JJyUYe"
      },
      "execution_count": 2,
      "outputs": []
    }
  ]
}