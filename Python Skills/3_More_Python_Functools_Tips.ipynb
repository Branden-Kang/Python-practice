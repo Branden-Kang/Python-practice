{
  "nbformat": 4,
  "nbformat_minor": 0,
  "metadata": {
    "colab": {
      "provenance": [],
      "authorship_tag": "ABX9TyNuielPnllV/qVa7iTkNUwa"
    },
    "kernelspec": {
      "name": "python3",
      "display_name": "Python 3"
    },
    "language_info": {
      "name": "python"
    }
  },
  "cells": [
    {
      "cell_type": "markdown",
      "source": [
        "[Reference](https://medium.com/illumination/3-more-python-functools-tips-f855c34d99d8)"
      ],
      "metadata": {
        "id": "eRPBB16EzsZx"
      }
    },
    {
      "cell_type": "markdown",
      "source": [
        "# Partial or Predefined Functions"
      ],
      "metadata": {
        "id": "gUcGp4ZLzu71"
      }
    },
    {
      "cell_type": "code",
      "execution_count": 2,
      "metadata": {
        "colab": {
          "base_uri": "https://localhost:8080/"
        },
        "id": "VI_Su3swzPSW",
        "outputId": "e655f374-9b26-43be-e015-b8fbea868519"
      },
      "outputs": [
        {
          "output_type": "stream",
          "name": "stdout",
          "text": [
            "7\n",
            "3\n"
          ]
        }
      ],
      "source": [
        "from functools import partial\n",
        "\n",
        "def add(a, b):\n",
        "  print(a + b)\n",
        "\n",
        "                              # order of the arguments maters\n",
        "add2and5 = partial(add, 2, 5) # 2 for a, 5 for b\n",
        "add2and1 = partial(add, 2, 1) # 2 for a, 1 for b\n",
        "\n",
        "add2and5()\n",
        "add2and1()"
      ]
    },
    {
      "cell_type": "markdown",
      "source": [
        "# Singledispatch | Generics"
      ],
      "metadata": {
        "id": "xW4iI_ehzxNr"
      }
    },
    {
      "cell_type": "code",
      "source": [
        "from functools import singledispatch\n",
        "\n",
        "@singledispatch\n",
        "def append(obj, x):\n",
        "    print(\"Unsupported type\")\n",
        "\n",
        "@append.register\n",
        "def _(obj: list, x: list):\n",
        "    return obj + x\n",
        "\n",
        "@append.register\n",
        "def _(obj: set, x: set):\n",
        "    return obj.union(x)\n",
        "\n",
        "@append.register\n",
        "def _(obj: str, x: str):\n",
        "    return obj + x\n",
        "\n",
        "print(append([1, 2, 3], [4, 5]))\n",
        "print(append({1, 2, 3}, {4, 5}))\n",
        "print(append(\"1 2 3\", \" 4 5\"), \"\\n\")\n",
        "\n",
        "append(2, 3)"
      ],
      "metadata": {
        "colab": {
          "base_uri": "https://localhost:8080/"
        },
        "id": "Mo47tf7zzwA2",
        "outputId": "8352e7fd-f0f8-44bf-f441-fef0b70bb45a"
      },
      "execution_count": 4,
      "outputs": [
        {
          "output_type": "stream",
          "name": "stdout",
          "text": [
            "[1, 2, 3, 4, 5]\n",
            "{1, 2, 3, 4, 5}\n",
            "1 2 3 4 5 \n",
            "\n",
            "Unsupported type\n"
          ]
        }
      ]
    },
    {
      "cell_type": "markdown",
      "source": [
        "# Total Ordering"
      ],
      "metadata": {
        "id": "gaY7XFA3zz0a"
      }
    },
    {
      "cell_type": "code",
      "source": [
        "from functools import total_ordering\n",
        "\n",
        "@total_ordering\n",
        "class Circle:\n",
        "  def __init__(self, radius):\n",
        "        self.radius = radius\n",
        "\n",
        "  def __eq__(self, other):\n",
        "        return self.radius == other.radius\n",
        "\n",
        "  def __lt__(self, other):\n",
        "        return self.radius < other.radius\n",
        "\n",
        "studentA = Circle(10)\n",
        "studentB = Circle(12)\n",
        "\n",
        "# all compressions are working even if we don't define all four\n",
        "print(studentA == studentB)\n",
        "print(studentA != studentB)\n",
        "print(studentA < studentB)\n",
        "print(studentA <= studentB)\n",
        "print(studentA > studentB)\n",
        "print(studentA >= studentB)"
      ],
      "metadata": {
        "colab": {
          "base_uri": "https://localhost:8080/"
        },
        "id": "-eXIAgA9zyoo",
        "outputId": "cb9b564e-f22c-4423-84f1-7cd940963f38"
      },
      "execution_count": 5,
      "outputs": [
        {
          "output_type": "stream",
          "name": "stdout",
          "text": [
            "False\n",
            "True\n",
            "True\n",
            "True\n",
            "False\n",
            "False\n"
          ]
        }
      ]
    }
  ]
}
