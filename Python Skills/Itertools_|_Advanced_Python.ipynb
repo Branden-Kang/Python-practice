{
  "nbformat": 4,
  "nbformat_minor": 0,
  "metadata": {
    "colab": {
      "provenance": [],
      "authorship_tag": "ABX9TyPeGDfHLnR4HrIXhdaMdYIS"
    },
    "kernelspec": {
      "name": "python3",
      "display_name": "Python 3"
    },
    "language_info": {
      "name": "python"
    }
  },
  "cells": [
    {
      "cell_type": "markdown",
      "source": [
        "[Reference](https://muhammadanas0716.medium.com/itertools-advanced-python-part-7-571584e4faab)"
      ],
      "metadata": {
        "id": "323kdW_h7L9V"
      }
    },
    {
      "cell_type": "markdown",
      "source": [
        "# 1. Product()\n"
      ],
      "metadata": {
        "id": "QqFD3yLK7QlH"
      }
    },
    {
      "cell_type": "code",
      "execution_count": 1,
      "metadata": {
        "id": "2FH3uQyu64ym",
        "colab": {
          "base_uri": "https://localhost:8080/"
        },
        "outputId": "f33eec4c-a0b2-4823-969a-50ef6debf5f3"
      },
      "outputs": [
        {
          "output_type": "stream",
          "name": "stdout",
          "text": [
            "[(1, 3), (1, 4), (2, 3), (2, 4)]\n"
          ]
        }
      ],
      "source": [
        "from itertools import product\n",
        "prod = product([1, 2], [3, 4])\n",
        "print(list(prod)) # Note that we convert the iterator to a list for printing"
      ]
    },
    {
      "cell_type": "code",
      "source": [
        "prod = product([1, 2], [3], repeat=2)\n",
        "print(list(prod)) # Note that we convert the iterator to a list for printing"
      ],
      "metadata": {
        "colab": {
          "base_uri": "https://localhost:8080/"
        },
        "id": "2EqP2pmL7Rha",
        "outputId": "84b4ecb3-2240-4f1f-d128-ccb523cef0a4"
      },
      "execution_count": 2,
      "outputs": [
        {
          "output_type": "stream",
          "name": "stdout",
          "text": [
            "[(1, 3, 1, 3), (1, 3, 2, 3), (2, 3, 1, 3), (2, 3, 2, 3)]\n"
          ]
        }
      ]
    },
    {
      "cell_type": "markdown",
      "source": [
        "# 2. Permutations()\n"
      ],
      "metadata": {
        "id": "r5qGpeWT7SmK"
      }
    },
    {
      "cell_type": "code",
      "source": [
        "from itertools import permutations\n",
        "perm = permutations([1, 2, 3])\n",
        "print(list(perm))"
      ],
      "metadata": {
        "colab": {
          "base_uri": "https://localhost:8080/"
        },
        "id": "oIJOaK8c7RrD",
        "outputId": "0b7bafa7-6c95-4fb9-f30f-a9979dc5dba9"
      },
      "execution_count": 3,
      "outputs": [
        {
          "output_type": "stream",
          "name": "stdout",
          "text": [
            "[(1, 2, 3), (1, 3, 2), (2, 1, 3), (2, 3, 1), (3, 1, 2), (3, 2, 1)]\n"
          ]
        }
      ]
    },
    {
      "cell_type": "code",
      "source": [
        "perm = permutations([1, 2, 3], 2)\n",
        "print(list(perm))"
      ],
      "metadata": {
        "colab": {
          "base_uri": "https://localhost:8080/"
        },
        "id": "wx1OYx3w7UL7",
        "outputId": "ee317c7b-113e-4923-d4a6-f16ca587d149"
      },
      "execution_count": 4,
      "outputs": [
        {
          "output_type": "stream",
          "name": "stdout",
          "text": [
            "[(1, 2), (1, 3), (2, 1), (2, 3), (3, 1), (3, 2)]\n"
          ]
        }
      ]
    },
    {
      "cell_type": "markdown",
      "source": [
        "# 3. Combinations() & Combinationswithreplacement()\n"
      ],
      "metadata": {
        "id": "6fu2s_Y-7Vu9"
      }
    },
    {
      "cell_type": "code",
      "source": [
        "from itertools import combinations, combinations_with_replacement\n",
        "comb = combinations([1, 2, 3, 4], 2)\n",
        "print(list(comb))"
      ],
      "metadata": {
        "colab": {
          "base_uri": "https://localhost:8080/"
        },
        "id": "wjWK4Y8V7VJF",
        "outputId": "a0d0e5c2-cbae-4e86-965e-2f84884c8df5"
      },
      "execution_count": 5,
      "outputs": [
        {
          "output_type": "stream",
          "name": "stdout",
          "text": [
            "[(1, 2), (1, 3), (1, 4), (2, 3), (2, 4), (3, 4)]\n"
          ]
        }
      ]
    },
    {
      "cell_type": "code",
      "source": [
        "comb = combinations_with_replacement([1, 2, 3, 4], 2)\n",
        "print(list(comb))"
      ],
      "metadata": {
        "colab": {
          "base_uri": "https://localhost:8080/"
        },
        "id": "UkYw-Ohm7XKM",
        "outputId": "466fe301-5a25-4f3a-dc96-123694b24531"
      },
      "execution_count": 6,
      "outputs": [
        {
          "output_type": "stream",
          "name": "stdout",
          "text": [
            "[(1, 1), (1, 2), (1, 3), (1, 4), (2, 2), (2, 3), (2, 4), (3, 3), (3, 4), (4, 4)]\n"
          ]
        }
      ]
    },
    {
      "cell_type": "markdown",
      "source": [
        "# 4. Groupby()\n"
      ],
      "metadata": {
        "id": "4pDtehhW7ZQJ"
      }
    },
    {
      "cell_type": "code",
      "source": [
        "from itertools import groupby\n",
        "def smaller_than_3(x):\n",
        "    return x < 3\n",
        "group_obj = groupby([1, 2, 3, 4], key=smaller_than_3)\n",
        "for key, group in group_obj:\n",
        "    print(key, list(group))"
      ],
      "metadata": {
        "colab": {
          "base_uri": "https://localhost:8080/"
        },
        "id": "Fi0-vHL97YPF",
        "outputId": "fdd63217-c924-4b0c-e794-2da13282608e"
      },
      "execution_count": 7,
      "outputs": [
        {
          "output_type": "stream",
          "name": "stdout",
          "text": [
            "True [1, 2]\n",
            "False [3, 4]\n"
          ]
        }
      ]
    },
    {
      "cell_type": "code",
      "source": [
        "group_obj = groupby([\"hi\", \"nice\", \"hello\", \"cool\"], key=lambda x: \"i\" in x)\n",
        "for key, group in group_obj:\n",
        "    print(key, list(group))"
      ],
      "metadata": {
        "colab": {
          "base_uri": "https://localhost:8080/"
        },
        "id": "NX84NeB87ai7",
        "outputId": "3ddbbf94-cd5d-439d-f591-ee7d14604e68"
      },
      "execution_count": 8,
      "outputs": [
        {
          "output_type": "stream",
          "name": "stdout",
          "text": [
            "True ['hi', 'nice']\n",
            "False ['hello', 'cool']\n"
          ]
        }
      ]
    },
    {
      "cell_type": "markdown",
      "source": [
        "# 5. Infinite Iterators: Count(), Cycle(), Repeat()\n"
      ],
      "metadata": {
        "id": "_wLvUW-D7cfO"
      }
    },
    {
      "cell_type": "code",
      "source": [
        "from itertools import count\n",
        "for i in count(10):\n",
        "    print(i)\n",
        "    if  i >= 13:\n",
        "        break"
      ],
      "metadata": {
        "colab": {
          "base_uri": "https://localhost:8080/"
        },
        "id": "yh8sYlgl7buS",
        "outputId": "707bd147-a220-4358-caa0-e8984e7f7f1d"
      },
      "execution_count": 9,
      "outputs": [
        {
          "output_type": "stream",
          "name": "stdout",
          "text": [
            "10\n",
            "11\n",
            "12\n",
            "13\n"
          ]
        }
      ]
    },
    {
      "cell_type": "code",
      "source": [
        "from itertools import cycle\n",
        "count = 0\n",
        "for i in cycle('AB'):\n",
        "    if count > 7:\n",
        "        break\n",
        "    else:\n",
        "        print(i, end = \" \")\n",
        "        count += 1"
      ],
      "metadata": {
        "colab": {
          "base_uri": "https://localhost:8080/"
        },
        "id": "3Ufsaghp7eku",
        "outputId": "cb58c275-c13f-4cbb-fa1e-b53de74728da"
      },
      "execution_count": 10,
      "outputs": [
        {
          "output_type": "stream",
          "name": "stdout",
          "text": [
            "A B A B A B A B "
          ]
        }
      ]
    },
    {
      "cell_type": "code",
      "source": [
        "from itertools import repeat\n",
        "print (list(repeat(25, 4))) # x is required, n by default is infinity, here I have changed it to 4"
      ],
      "metadata": {
        "colab": {
          "base_uri": "https://localhost:8080/"
        },
        "id": "_hmtzwfp7ftp",
        "outputId": "96b07668-f1f4-40c1-b257-9abceee3c1c4"
      },
      "execution_count": 11,
      "outputs": [
        {
          "output_type": "stream",
          "name": "stdout",
          "text": [
            "[25, 25, 25, 25]\n"
          ]
        }
      ]
    }
  ]
}
