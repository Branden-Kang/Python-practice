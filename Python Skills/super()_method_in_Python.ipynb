{
  "nbformat": 4,
  "nbformat_minor": 0,
  "metadata": {
    "colab": {
      "name": "super() method in Python.ipynb",
      "provenance": [],
      "authorship_tag": "ABX9TyMQyzNOzw2NBkdQzw+gZDm8"
    },
    "kernelspec": {
      "name": "python3",
      "display_name": "Python 3"
    }
  },
  "cells": [
    {
      "cell_type": "markdown",
      "metadata": {
        "id": "OjIuw_Se537z"
      },
      "source": [
        "[Reference](https://medium.com/swlh/pythons-super-method-c5a6aeb9ff47)"
      ]
    },
    {
      "cell_type": "code",
      "metadata": {
        "id": "7Yd9PJaa51S9"
      },
      "source": [
        "class A:\n",
        "    def __init__(self):\n",
        "            print(\"A initiated\")\n",
        "\n",
        "class B(A):\n",
        "    def __init__(self):\n",
        "            super().__init__()\n",
        "            print(\"B initiated\")\n",
        "\n",
        "class C(B):\n",
        "    def __init__(self):\n",
        "            super(C, self).__init__()\n",
        "            print(\"C initiated\")"
      ],
      "execution_count": 1,
      "outputs": []
    },
    {
      "cell_type": "code",
      "metadata": {
        "colab": {
          "base_uri": "https://localhost:8080/"
        },
        "id": "T8iPO5SW6Rcp",
        "outputId": "c931103c-29e6-43f3-ec72-bbf4694a84ca"
      },
      "source": [
        "c = C()\n",
        "c"
      ],
      "execution_count": 2,
      "outputs": [
        {
          "output_type": "stream",
          "text": [
            "A initiated\n",
            "B initiated\n",
            "C initiated\n"
          ],
          "name": "stdout"
        },
        {
          "output_type": "execute_result",
          "data": {
            "text/plain": [
              "<__main__.C at 0x7f89f6defa20>"
            ]
          },
          "metadata": {
            "tags": []
          },
          "execution_count": 2
        }
      ]
    },
    {
      "cell_type": "code",
      "metadata": {
        "id": "y4FhhLre6Uj7"
      },
      "source": [
        "class C2(B):\n",
        "    def __init__(self):\n",
        "            super(B, self).__init__()\n",
        "            print(\"other C initiated\")"
      ],
      "execution_count": 3,
      "outputs": []
    },
    {
      "cell_type": "code",
      "metadata": {
        "colab": {
          "base_uri": "https://localhost:8080/"
        },
        "id": "DhtrmQKa6VyR",
        "outputId": "4d963f64-3da0-4f9e-d77d-b6c23cf907ae"
      },
      "source": [
        "c2 = C2()\n",
        "c2"
      ],
      "execution_count": 4,
      "outputs": [
        {
          "output_type": "stream",
          "text": [
            "A initiated\n",
            "other C initiated\n"
          ],
          "name": "stdout"
        },
        {
          "output_type": "execute_result",
          "data": {
            "text/plain": [
              "<__main__.C2 at 0x7f89f6defba8>"
            ]
          },
          "metadata": {
            "tags": []
          },
          "execution_count": 4
        }
      ]
    }
  ]
}