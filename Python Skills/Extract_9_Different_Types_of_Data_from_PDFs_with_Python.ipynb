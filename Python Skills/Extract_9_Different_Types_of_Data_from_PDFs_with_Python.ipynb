{
  "nbformat": 4,
  "nbformat_minor": 0,
  "metadata": {
    "colab": {
      "provenance": [],
      "authorship_tag": "ABX9TyNrI+qopamHWL5EQ5877J5G"
    },
    "kernelspec": {
      "name": "python3",
      "display_name": "Python 3"
    },
    "language_info": {
      "name": "python"
    }
  },
  "cells": [
    {
      "cell_type": "markdown",
      "source": [
        "[Reference](https://medium.com/@alice.yang_10652/extract-9-different-types-of-data-from-pdfs-with-python-c7b60cfbb232)"
      ],
      "metadata": {
        "id": "1ol4ngdoiaKo"
      }
    },
    {
      "cell_type": "markdown",
      "source": [
        "# Step 1: Install Spire.PDF"
      ],
      "metadata": {
        "id": "P2HM3u5Eie5Q"
      }
    },
    {
      "cell_type": "code",
      "execution_count": 1,
      "metadata": {
        "colab": {
          "base_uri": "https://localhost:8080/"
        },
        "id": "sS9LtfEIiPCF",
        "outputId": "ace8bdc7-18d3-4011-fc68-72ac5f8cd20d"
      },
      "outputs": [
        {
          "output_type": "stream",
          "name": "stdout",
          "text": [
            "Collecting Spire.PDF\n",
            "  Downloading spire_pdf-11.6.1-py3-none-manylinux_2_31_x86_64.whl.metadata (7.0 kB)\n",
            "Collecting plum-dispatch==1.7.4 (from Spire.PDF)\n",
            "  Downloading plum_dispatch-1.7.4-py3-none-any.whl.metadata (1.8 kB)\n",
            "Downloading spire_pdf-11.6.1-py3-none-manylinux_2_31_x86_64.whl (41.2 MB)\n",
            "\u001b[2K   \u001b[90m━━━━━━━━━━━━━━━━━━━━━━━━━━━━━━━━━━━━━━━━\u001b[0m \u001b[32m41.2/41.2 MB\u001b[0m \u001b[31m21.1 MB/s\u001b[0m eta \u001b[36m0:00:00\u001b[0m\n",
            "\u001b[?25hDownloading plum_dispatch-1.7.4-py3-none-any.whl (24 kB)\n",
            "Installing collected packages: plum-dispatch, Spire.PDF\n",
            "Successfully installed Spire.PDF-11.6.1 plum-dispatch-1.7.4\n"
          ]
        }
      ],
      "source": [
        "pip install Spire.PDF"
      ]
    },
    {
      "cell_type": "markdown",
      "source": [
        "# Step 2: Import Required Module"
      ],
      "metadata": {
        "id": "Dj5Uj9Zlikby"
      }
    },
    {
      "cell_type": "code",
      "source": [
        "from spire.pdf import *"
      ],
      "metadata": {
        "id": "3SZXQcVvigSb"
      },
      "execution_count": 2,
      "outputs": []
    },
    {
      "cell_type": "markdown",
      "source": [
        "# Extract Different Types of Data from PDFs in Python"
      ],
      "metadata": {
        "id": "QBuIMBU_iswH"
      }
    },
    {
      "cell_type": "markdown",
      "source": [
        "## 1. Extract Text"
      ],
      "metadata": {
        "id": "KqkNONxuizXc"
      }
    },
    {
      "cell_type": "code",
      "source": [
        "from spire.pdf import *\n",
        "\n",
        "# Load a PDF document\n",
        "doc = PdfDocument()\n",
        "doc.LoadFromFile('text_sample.pdf')\n",
        "\n",
        "# Create a PdfTextExtractionOptions object\n",
        "options = PdfTextExtractOptions()\n",
        "options.IsExtractAllText = True\n",
        "\n",
        "text = \"\"\n",
        "# Extract text from each page\n",
        "for i in range(doc.Pages.Count):\n",
        "    extractor = PdfTextExtractor(doc.Pages[i])\n",
        "    text += extractor.ExtractText(options) + \"\\n\"\n",
        "\n",
        "# Save the extracted text to a text file\n",
        "with open('output/ExtractedText.txt', 'w', encoding='utf-8') as f:\n",
        "    f.write(text)"
      ],
      "metadata": {
        "id": "9dU-7TSuin7W"
      },
      "execution_count": 4,
      "outputs": []
    },
    {
      "cell_type": "markdown",
      "source": [
        "## 2. Extract Table"
      ],
      "metadata": {
        "id": "Ca-cIM2Ni1xG"
      }
    },
    {
      "cell_type": "code",
      "source": [
        "from spire.pdf import *\n",
        "\n",
        "# Load PDF document\n",
        "doc = PdfDocument()\n",
        "doc.LoadFromFile(\"table_sample.pdf\")\n",
        "\n",
        "# Create table extractor\n",
        "extractor = PdfTableExtractor(doc)\n",
        "\n",
        "# List to hold all extracted rows\n",
        "output = []\n",
        "\n",
        "# Extract tables page by page\n",
        "for page_index in range(doc.Pages.Count):\n",
        "    tables = extractor.ExtractTable(page_index)\n",
        "    if tables:\n",
        "        output.append(f\"=== Page {page_index + 1} ===\")\n",
        "        for table_index, table in enumerate(tables):\n",
        "            output.append(f\"--- Table {table_index + 1} ---\")\n",
        "            row_count = table.GetRowCount()\n",
        "            col_count = table.GetColumnCount()\n",
        "            for r in range(row_count):\n",
        "                row = [table.GetText(r, c) for c in range(col_count)]\n",
        "                output.append(\"\\t\".join(row))\n",
        "            output.append(\"\")  # Empty line after each table\n",
        "\n",
        "# Save output to a text file\n",
        "with open(\"output/ExtractedTables.txt\", \"w\", encoding=\"utf-8\") as file:\n",
        "    file.write(\"\\n\".join(output))\n",
        "\n",
        "doc.Close()"
      ],
      "metadata": {
        "id": "nrkftjd6iuyw"
      },
      "execution_count": 5,
      "outputs": []
    },
    {
      "cell_type": "markdown",
      "source": [
        "## 3. Extract Metadata"
      ],
      "metadata": {
        "id": "U7OI2ak7i6WL"
      }
    },
    {
      "cell_type": "code",
      "source": [
        "from spire.pdf import *\n",
        "\n",
        "# Load PDF document\n",
        "doc = PdfDocument()\n",
        "doc.LoadFromFile(\"AddBuiltinProperties.pdf\")\n",
        "\n",
        "# Get built-in metadata\n",
        "info = doc.DocumentInformation\n",
        "print(\"Title:\", info.Title)\n",
        "print(\"Author:\", info.Author)\n",
        "print(\"Subject:\", info.Subject)\n",
        "print(\"Keywords:\", info.Keywords)\n",
        "\n",
        "doc.Close()"
      ],
      "metadata": {
        "id": "-odfiboii4Uc"
      },
      "execution_count": 6,
      "outputs": []
    },
    {
      "cell_type": "markdown",
      "source": [
        "## 4. Extract Bookmarks (Outlines)"
      ],
      "metadata": {
        "id": "LmSD7Rcii-Uo"
      }
    },
    {
      "cell_type": "code",
      "source": [
        "from spire.pdf import *\n",
        "\n",
        "# Define a recursive function to extract and print bookmark titles and their page numbers\n",
        "def extract_bookmarks(bookmark_collection, level=0):\n",
        "    # Loop through each bookmark in the current collection\n",
        "    for i in range(bookmark_collection.Count):\n",
        "        # Retrieve the current bookmark\n",
        "        bookmark = bookmark_collection[i]\n",
        "\n",
        "        # Print the bookmark's title and page number, with indentation based on its hierarchy level\n",
        "        print(\"  \" * level + f\"Title: {bookmark.Title}, Page: {bookmark.Destination.PageNumber + 1}\")\n",
        "\n",
        "        # Convert the current bookmark to a collection of nested bookmarks, if any\n",
        "        child_bookmarks = bookmark.ConvertToBookmarkCollection()\n",
        "\n",
        "        # If there are child bookmarks, call the function recursively to process them\n",
        "        if child_bookmarks and child_bookmarks.Count > 0:\n",
        "            extract_bookmarks(child_bookmarks, level + 1)\n",
        "\n",
        "# Create a PdfDocument object\n",
        "pdf = PdfDocument()\n",
        "\n",
        "# Load the PDF file from disk\n",
        "pdf.LoadFromFile(\"AddNestedBookmark.pdf\")\n",
        "\n",
        "# Start extracting bookmarks from the root bookmark collection\n",
        "extract_bookmarks(pdf.Bookmarks)\n",
        "\n",
        "pdf.Close()"
      ],
      "metadata": {
        "id": "GuOZseoii8xo"
      },
      "execution_count": 7,
      "outputs": []
    },
    {
      "cell_type": "markdown",
      "source": [
        "## 5. Extract Attachments"
      ],
      "metadata": {
        "id": "N90MNenvjCjP"
      }
    },
    {
      "cell_type": "code",
      "source": [
        "from spire.pdf import *\n",
        "\n",
        "# Load PDF document\n",
        "doc = PdfDocument()\n",
        "doc.LoadFromFile(\"attachment_example.pdf\")\n",
        "\n",
        "# Extract attachments\n",
        "for i in range(doc.Attachments.Count):\n",
        "    attachment = doc.Attachments[i]\n",
        "    attachment.Data.Save(f\"Output/{attachment.FileName}\")\n",
        "\n",
        "doc.Close()"
      ],
      "metadata": {
        "id": "lDw-UUO7jAdl"
      },
      "execution_count": 8,
      "outputs": []
    },
    {
      "cell_type": "markdown",
      "source": [
        "## 6. Extract Images"
      ],
      "metadata": {
        "id": "dNx6PLKhjGhh"
      }
    },
    {
      "cell_type": "code",
      "source": [
        "from spire.pdf import *\n",
        "import os\n",
        "\n",
        "# Load PDF document\n",
        "doc = PdfDocument()\n",
        "doc.LoadFromFile(\"example.pdf\")\n",
        "\n",
        "# Create a PdfImageHelper object\n",
        "helper = PdfImageHelper()\n",
        "output_dir = \"Images\"\n",
        "\n",
        "# Extract images\n",
        "for i in range(doc.Pages.Count):\n",
        "    for info in helper.GetImagesInfo(doc.Pages[i]):\n",
        "        info.Image.Save(os.path.join(output_dir, f\"Image-{i}.png\"))\n",
        "\n",
        "doc.Close()"
      ],
      "metadata": {
        "id": "DReof5N5jEkC"
      },
      "execution_count": 9,
      "outputs": []
    },
    {
      "cell_type": "markdown",
      "source": [
        "## 7. Extract Form Field Values"
      ],
      "metadata": {
        "id": "RbTwzZozjLMV"
      }
    },
    {
      "cell_type": "code",
      "source": [
        "from spire.pdf import *\n",
        "\n",
        "# Load PDF document\n",
        "doc = PdfDocument()\n",
        "doc.LoadFromFile(\"FormFields.pdf\")\n",
        "\n",
        "# Get the forms from the document\n",
        "form = doc.Form\n",
        "formWidget = PdfFormWidget(form)\n",
        "content = []\n",
        "\n",
        "# Extract form data\n",
        "for i in range(formWidget.FieldsWidget.Count):\n",
        "    field = formWidget.FieldsWidget[i]\n",
        "\n",
        "    if isinstance(field, PdfTextBoxFieldWidget):\n",
        "        content.append(f\"Textbox Name: {field.Name}\\n\")\n",
        "        content.append(f\"Textbox Value: {field.Text}\\r\\n\")\n",
        "\n",
        "    elif isinstance(field, PdfListBoxWidgetFieldWidget):\n",
        "        content.append(f\"Listbox Name: {field.Name}\\nListbox Items:\\n\")\n",
        "        for j in range(field.Values.Count):\n",
        "            content.append(f\"{field.Values.get_Item(j).Value}\\n\")\n",
        "        content.append(f\"Listbox Selected Item: {field.SelectedValue}\\r\\n\")\n",
        "\n",
        "    elif isinstance(field, PdfComboBoxWidgetFieldWidget):\n",
        "        content.append(f\"Combobox Name: {field.Name}\\nCombobox Items:\\n\")\n",
        "        for j in range(field.Values.Count):\n",
        "            content.append(f\"{field.Values.get_Item(j).Value}\\n\")\n",
        "        content.append(f\"Combobox Selected Item: {field.SelectedValue}\\r\\n\")\n",
        "\n",
        "    elif isinstance(field, PdfRadioButtonListFieldWidget):\n",
        "        content.append(f\"Radio Button Name: {field.Name}\\n\")\n",
        "        content.append(f\"Radio Button Selected Item: {field.SelectedValue}\\r\\n\")\n",
        "\n",
        "    elif isinstance(field, PdfCheckBoxWidgetFieldWidget):\n",
        "        content.append(f\"Checkbox Name: {field.Name}\\n\")\n",
        "        content.append(\"Checkbox Status: Checked\\n\" if field.Checked else \"Checkbox Status: Unchecked\\r\\n\")\n",
        "\n",
        "with open(\"output/GetFormValues.txt\", \"w\", encoding=\"UTF-8\") as f:\n",
        "    f.writelines(content)\n",
        "\n",
        "doc.Dispose()"
      ],
      "metadata": {
        "id": "-caLLMEOjJWe"
      },
      "execution_count": 10,
      "outputs": []
    },
    {
      "cell_type": "markdown",
      "source": [
        "## 8. Extract Hyperlinks"
      ],
      "metadata": {
        "id": "GrLB3Hg_jPr5"
      }
    },
    {
      "cell_type": "code",
      "source": [
        "from spire.pdf import *\n",
        "\n",
        "# Create a PdfDocument object\n",
        "doc = PdfDocument()\n",
        "# Load the PDF file\n",
        "doc.LoadFromFile(\"hyperlink_sample.pdf\")\n",
        "\n",
        "# Prepare a list to store the extracted URLs\n",
        "urls = []\n",
        "\n",
        "# Loop through each page in the PDF\n",
        "for page_index in range(doc.Pages.Count):\n",
        "    # Get the annotation collection of the current page\n",
        "    widgetCollection = doc.Pages[page_index].AnnotationsWidget\n",
        "\n",
        "    # Check if there are any annotations\n",
        "    if widgetCollection is not None and widgetCollection.Count > 0:\n",
        "        for j in range(widgetCollection.Count):\n",
        "            annotation = widgetCollection.get_Item(j)\n",
        "\n",
        "            # Check for both types of hyperlink annotations\n",
        "            if isinstance(annotation, PdfTextWebLinkAnnotationWidget):\n",
        "                urls.append(annotation.Url)\n",
        "            elif isinstance(annotation, PdfUriAnnotationWidget):\n",
        "                urls.append(annotation.Uri)\n",
        "\n",
        "# Save all extracted hyperlinks to a text file\n",
        "with open(\"Output/ExtractHyperlinks.txt\", \"w\", encoding=\"utf-8\") as file:\n",
        "    for url in urls:\n",
        "        file.write(url + \"\\n\")\n",
        "\n",
        "doc.Close()"
      ],
      "metadata": {
        "id": "_4mhOtC4jNSH"
      },
      "execution_count": 11,
      "outputs": []
    },
    {
      "cell_type": "markdown",
      "source": [
        "## 9. Extract Annotations"
      ],
      "metadata": {
        "id": "fglE2v2-jVSh"
      }
    },
    {
      "cell_type": "code",
      "source": [
        "from spire.pdf.common import *\n",
        "from spire.pdf import *\n",
        "\n",
        "# Load a PDF document\n",
        "pdf = PdfDocument()\n",
        "pdf.LoadFromFile(\"Sample.pdf\")\n",
        "\n",
        "lines = []\n",
        "\n",
        "# Extract annotations from each page\n",
        "for page_index in range(pdf.Pages.Count):\n",
        "    lines.append(f\"Page {page_index + 1}:\")\n",
        "\n",
        "    annotations = pdf.Pages[page_index].AnnotationsWidget\n",
        "\n",
        "    if annotations.Count:\n",
        "        for i in range(annotations.Count):\n",
        "            annotation = annotations.get_Item(i)\n",
        "\n",
        "            # Skip annotations with no meaningful content\n",
        "            if not annotation.Text.strip() and annotation.ModifiedDate.ToString() == \"0001/1/1 0:00:00\":\n",
        "                continue\n",
        "\n",
        "            lines.append(\"Annotation information:\")\n",
        "            lines.append(f\"Text: {annotation.Text.strip() or 'N/A'}\")\n",
        "            lines.append(f\"ModifiedDate: {annotation.ModifiedDate.ToString()}\")\n",
        "    else:\n",
        "        lines.append(\"No annotations found.\")\n",
        "\n",
        "    lines.append(\"\")\n",
        "\n",
        "with open(\"output/ExtractAnnotations.txt\", \"w\", encoding=\"utf-8\") as file:\n",
        "    file.write(\"\\n\".join(lines))\n",
        "\n",
        "pdf.Close()"
      ],
      "metadata": {
        "id": "LQwtzJ-zjTEx"
      },
      "execution_count": 12,
      "outputs": []
    }
  ]
}
