{
  "nbformat": 4,
  "nbformat_minor": 0,
  "metadata": {
    "colab": {
      "name": "How to Return Multiple Values From a Function in Python 3.ipynb",
      "provenance": [],
      "authorship_tag": "ABX9TyPRsGwCVe9ly/REwKkqPN03"
    },
    "kernelspec": {
      "name": "python3",
      "display_name": "Python 3"
    }
  },
  "cells": [
    {
      "cell_type": "markdown",
      "metadata": {
        "id": "tO-r6nbkbmYV",
        "colab_type": "text"
      },
      "source": [
        "[Reference](https://medium.com/better-programming/how-to-return-multiple-values-from-a-function-in-python-3-ddb131279cd)"
      ]
    },
    {
      "cell_type": "code",
      "metadata": {
        "id": "ikc4HrJEbBK6",
        "colab_type": "code",
        "colab": {
          "base_uri": "https://localhost:8080/",
          "height": 34
        },
        "outputId": "a5ebc502-00ae-44cd-8554-2c4093c3187a"
      },
      "source": [
        "def hours_to_write(happy_hours):\n",
        "   week1 = happy_hours + 2\n",
        "   week2 = happy_hours + 4\n",
        "   week3 = happy_hours + 6\n",
        "   return [week1, week2, week3]\n",
        " \n",
        "print(hours_to_write(4))"
      ],
      "execution_count": 1,
      "outputs": [
        {
          "output_type": "stream",
          "text": [
            "[6, 8, 10]\n"
          ],
          "name": "stdout"
        }
      ]
    },
    {
      "cell_type": "markdown",
      "metadata": {
        "id": "UCQdogMXb0QO",
        "colab_type": "text"
      },
      "source": [
        "# Dictionary"
      ]
    },
    {
      "cell_type": "code",
      "metadata": {
        "id": "ajlyhd2ubtUe",
        "colab_type": "code",
        "colab": {}
      },
      "source": [
        "people={\n",
        "  'Robin': 24,\n",
        "  'Odin': 26,\n",
        "  'David': 25\n",
        "}"
      ],
      "execution_count": 2,
      "outputs": []
    },
    {
      "cell_type": "code",
      "metadata": {
        "id": "CqGeB7jJbwW5",
        "colab_type": "code",
        "colab": {
          "base_uri": "https://localhost:8080/",
          "height": 34
        },
        "outputId": "fdc6c486-9ba7-4ff6-969a-aa4b9dd6b1ad"
      },
      "source": [
        "def people_age(): \n",
        "    d = dict(); \n",
        "    d['Jack'] = 30\n",
        "    d['Kim'] = 28\n",
        "    d['Bob'] = 27\n",
        "    return d\n",
        "d = people_age() \n",
        "print(d)"
      ],
      "execution_count": 3,
      "outputs": [
        {
          "output_type": "stream",
          "text": [
            "{'Jack': 30, 'Kim': 28, 'Bob': 27}\n"
          ],
          "name": "stdout"
        }
      ]
    },
    {
      "cell_type": "markdown",
      "metadata": {
        "id": "dTc9-cNGb2ei",
        "colab_type": "text"
      },
      "source": [
        "# List"
      ]
    },
    {
      "cell_type": "code",
      "metadata": {
        "id": "LeDol0jTbyzD",
        "colab_type": "code",
        "colab": {
          "base_uri": "https://localhost:8080/",
          "height": 34
        },
        "outputId": "a16b7bec-ec12-4234-c457-7a5462572c9e"
      },
      "source": [
        "def test(): \n",
        "    str1 = \"Happy\"\n",
        "    str2 = \"Coding\"\n",
        "    return [str1, str2];\n",
        " \n",
        "list = test() \n",
        "print(list)"
      ],
      "execution_count": 4,
      "outputs": [
        {
          "output_type": "stream",
          "text": [
            "['Happy', 'Coding']\n"
          ],
          "name": "stdout"
        }
      ]
    },
    {
      "cell_type": "code",
      "metadata": {
        "id": "oy_BuLH7b5mw",
        "colab_type": "code",
        "colab": {
          "base_uri": "https://localhost:8080/",
          "height": 34
        },
        "outputId": "f57678e1-9739-451a-ff24-531c235b1f5c"
      },
      "source": [
        "def natural_numbers(numbers = []):\n",
        "   \n",
        "   for i in range(1, 16):\n",
        "       numbers.append(i)\n",
        "   return numbers\n",
        " \n",
        "print(natural_numbers())"
      ],
      "execution_count": 5,
      "outputs": [
        {
          "output_type": "stream",
          "text": [
            "[1, 2, 3, 4, 5, 6, 7, 8, 9, 10, 11, 12, 13, 14, 15]\n"
          ],
          "name": "stdout"
        }
      ]
    },
    {
      "cell_type": "markdown",
      "metadata": {
        "id": "fJZUO1IOcL6e",
        "colab_type": "text"
      },
      "source": [
        "# Tuple"
      ]
    },
    {
      "cell_type": "code",
      "metadata": {
        "id": "9I_e5RZ0b7bj",
        "colab_type": "code",
        "colab": {
          "base_uri": "https://localhost:8080/",
          "height": 51
        },
        "outputId": "d32c9566-5005-404a-d41b-3d16f35b8ffe"
      },
      "source": [
        "def fun(): \n",
        "    str1 = \"Happy\"\n",
        "    str2 = \"Coding\"\n",
        "    return str1, str2; # we could also write (str1, str2)\n",
        "str1, str2= fun() \n",
        "print(str1) \n",
        "print(str2)"
      ],
      "execution_count": 6,
      "outputs": [
        {
          "output_type": "stream",
          "text": [
            "Happy\n",
            "Coding\n"
          ],
          "name": "stdout"
        }
      ]
    },
    {
      "cell_type": "code",
      "metadata": {
        "id": "_3vT4zPDb_xB",
        "colab_type": "code",
        "colab": {
          "base_uri": "https://localhost:8080/",
          "height": 130
        },
        "outputId": "76f110fe-a51c-486d-9c7f-fee67fa06a58"
      },
      "source": [
        "def student(name, class):\n",
        "  return (name, class)\n",
        "print(student(\"Brayan\", 10))"
      ],
      "execution_count": 8,
      "outputs": [
        {
          "output_type": "error",
          "ename": "SyntaxError",
          "evalue": "ignored",
          "traceback": [
            "\u001b[0;36m  File \u001b[0;32m\"<ipython-input-8-4f196ece656a>\"\u001b[0;36m, line \u001b[0;32m1\u001b[0m\n\u001b[0;31m    def student(name, class):\u001b[0m\n\u001b[0m                          ^\u001b[0m\n\u001b[0;31mSyntaxError\u001b[0m\u001b[0;31m:\u001b[0m invalid syntax\n"
          ]
        }
      ]
    },
    {
      "cell_type": "markdown",
      "metadata": {
        "id": "u4D_sp46cOFd",
        "colab_type": "text"
      },
      "source": [
        "# Object"
      ]
    },
    {
      "cell_type": "code",
      "metadata": {
        "id": "ff0C59IwcB4r",
        "colab_type": "code",
        "colab": {
          "base_uri": "https://localhost:8080/",
          "height": 51
        },
        "outputId": "25f8a2d8-f703-410c-fd60-dd6d9e2128e7"
      },
      "source": [
        "# A Python program to return multiple values using class \n",
        "class Intro: \n",
        " def __init__(self): \n",
        "  self.str1 = \"hello\"\n",
        "  self.str2 = \"world\"\n",
        "# This function returns an object of Intro\n",
        "def message(): \n",
        " return Intro() \n",
        " \n",
        "x = message() \n",
        "print(x.str1) \n",
        "print(x.str2)"
      ],
      "execution_count": 9,
      "outputs": [
        {
          "output_type": "stream",
          "text": [
            "hello\n",
            "world\n"
          ],
          "name": "stdout"
        }
      ]
    },
    {
      "cell_type": "code",
      "metadata": {
        "id": "gPO5Av1gcWuq",
        "colab_type": "code",
        "colab": {
          "base_uri": "https://localhost:8080/",
          "height": 71
        },
        "outputId": "c67713ed-9ac8-4849-8b8d-0b757e1456c9"
      },
      "source": [
        "from dataclasses import dataclass\n",
        "@dataclass\n",
        "class Item_list:\n",
        "    name: str\n",
        "    perunit_cost: float\n",
        "    quantity_available: int = 0\n",
        "    def total_cost(self) -> float:\n",
        "        return self.perunit_cost * self.quantity_available\n",
        "    \n",
        "book = Item_list(\"better programming.\", 50, 2)\n",
        "x = book.total_cost()\n",
        "print(x)\n",
        "print(book)"
      ],
      "execution_count": 10,
      "outputs": [
        {
          "output_type": "stream",
          "text": [
            "100\n",
            "Item_list(name='better programming.', perunit_cost=50, quantity_available=2)\n"
          ],
          "name": "stdout"
        }
      ]
    }
  ]
}