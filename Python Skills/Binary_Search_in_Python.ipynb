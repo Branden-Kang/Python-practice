{
  "nbformat": 4,
  "nbformat_minor": 0,
  "metadata": {
    "colab": {
      "name": "Binary Search in Python.ipynb",
      "provenance": [],
      "collapsed_sections": [],
      "authorship_tag": "ABX9TyPO3XtsV49bwkMq1XWI3zSx"
    },
    "kernelspec": {
      "name": "python3",
      "display_name": "Python 3"
    }
  },
  "cells": [
    {
      "cell_type": "markdown",
      "metadata": {
        "id": "Kr6A87AqpX7z"
      },
      "source": [
        "[Reference](https://towardsdatascience.com/binary-search-in-python-is-it-faster-b960c74c3d11)"
      ]
    },
    {
      "cell_type": "markdown",
      "metadata": {
        "id": "NNtCvNEGnJDp"
      },
      "source": [
        "```python\n",
        "\n",
        "my_list = [1,2,3,3,5,11,12]\n",
        "\n",
        "if 11 in my_list:\n",
        "    return True\n",
        "\n",
        "return False\n",
        "\n",
        "my_list = [1,2,3,3,5,11,12]\n",
        "\n",
        "for each in list:\n",
        "    if each==11:\n",
        "        return True\n",
        "\n",
        "return False    \n",
        "```"
      ]
    },
    {
      "cell_type": "code",
      "metadata": {
        "id": "mFZr91Wam8sX"
      },
      "source": [
        "bin_list = [1,2,3,5,6,9,11,12,15,20,22]\n",
        "search_value_a = 15"
      ],
      "execution_count": 5,
      "outputs": []
    },
    {
      "cell_type": "code",
      "metadata": {
        "id": "ipYUtGh1nV12"
      },
      "source": [
        "import random\n",
        "\n",
        "def binary_search(input_list, target_value):\n",
        "    '''\n",
        "    Function executing binary search to find if element is in a list.\n",
        "    parameters:\n",
        "    - list\n",
        "    - target\n",
        "    return value: True/False (bool)\n",
        "    '''\n",
        "    input_list.sort()\n",
        "    min_index = 0\n",
        "    max_index = len(input_list) -1\n",
        "\n",
        "    while max_index >= min_index:\n",
        "        mid_index =(max_index+min_index)//2\n",
        "        if input_list[mid_index] == target_value:\n",
        "            return True\n",
        "        elif input_list[mid_index] < target_value:\n",
        "            min_index = mid_index+1\n",
        "        else:\n",
        "            max_index = mid_index-1\n",
        "    return False\n",
        "\n",
        "def main():\n",
        "    #bin_list = list(range(6,501))\n",
        "    bin_list = [1,2,3,5,6,9,11,12,15,20,22]\n",
        "    search_value_a = 15\n",
        "    search_value_b = 7\n",
        "\n",
        "    assert binary_search(bin_list,search_value_a) == True\n",
        "    assert binary_search(bin_list,search_value_b) == False\n",
        "\n",
        "if __name__ == '__main__':\n",
        "    main()"
      ],
      "execution_count": 6,
      "outputs": []
    },
    {
      "cell_type": "code",
      "metadata": {
        "id": "9H7bMzRlnsGA"
      },
      "source": [
        "def linear_search(input_list, target_value):\n",
        "    for each in input_list:\n",
        "        if each==target_value:\n",
        "            return True\n",
        "    return False"
      ],
      "execution_count": 7,
      "outputs": []
    },
    {
      "cell_type": "code",
      "metadata": {
        "id": "clmLF5qgoGrs",
        "outputId": "ccd8be78-7fc7-43b3-c07e-5cc31969a04c",
        "colab": {
          "base_uri": "https://localhost:8080/",
          "height": 51
        }
      },
      "source": [
        "import timeit\n",
        "\n",
        "def binary_performance():\n",
        "    run_setup = '''\n",
        "from __main__ import binary_search\n",
        "'''\n",
        "    run_code = '''\n",
        "bin_list = list(range(6,501))\n",
        "binary_search(bin_list,15)\n",
        "'''\n",
        "\n",
        "    performance = timeit.repeat(setup = run_setup,\n",
        "                                stmt = run_code,\n",
        "                                repeat = 3,\n",
        "                                number = 10_000)\n",
        "    print(f'binary search performance = {round(min(performance),2)}')\n",
        "\n",
        "def linear_performance():\n",
        "    run_setup = '''\n",
        "from __main__ import linear_search\n",
        "'''\n",
        "    run_code = '''\n",
        "lin_list = list(range(6,501))\n",
        "linear_search(lin_list,15)\n",
        "'''\n",
        "    performance = timeit.repeat(setup = run_setup,\n",
        "                                stmt = run_code,\n",
        "                                repeat = 3,\n",
        "                                number = 10_000)\n",
        "    print(f'linear search performance = {round(min(performance),2)}')\n",
        "\n",
        "binary_performance()\n",
        "linear_performance()"
      ],
      "execution_count": 11,
      "outputs": [
        {
          "output_type": "stream",
          "text": [
            "binary search performance = 0.14\n",
            "linear search performance = 0.06\n"
          ],
          "name": "stdout"
        }
      ]
    },
    {
      "cell_type": "code",
      "metadata": {
        "id": "7PWu8-Cfow3E",
        "outputId": "a0768e55-199f-44c3-a44a-bd88d099029c",
        "colab": {
          "base_uri": "https://localhost:8080/",
          "height": 51
        }
      },
      "source": [
        "import timeit\n",
        "\n",
        "def binary_performance():\n",
        "    run_setup = '''\n",
        "from __main__ import binary_search\n",
        "'''\n",
        "    run_code = '''\n",
        "bin_list = list(range(1,10000))\n",
        "binary_search(bin_list,15)\n",
        "'''\n",
        "\n",
        "    performance = timeit.repeat(setup = run_setup,\n",
        "                                stmt = run_code,\n",
        "                                repeat = 3,\n",
        "                                number = 10_000)\n",
        "    print(f'binary search performance = {round(min(performance),2)}')\n",
        "\n",
        "def linear_performance():\n",
        "    run_setup = '''\n",
        "from __main__ import linear_search\n",
        "'''\n",
        "    run_code = '''\n",
        "lin_list = list(range(1,10000))\n",
        "linear_search(lin_list,15)\n",
        "'''\n",
        "    performance = timeit.repeat(setup = run_setup,\n",
        "                                stmt = run_code,\n",
        "                                repeat = 3,\n",
        "                                number = 10_000)\n",
        "    print(f'linear search performance = {round(min(performance),2)}')\n",
        "\n",
        "binary_performance()\n",
        "linear_performance()"
      ],
      "execution_count": 12,
      "outputs": [
        {
          "output_type": "stream",
          "text": [
            "binary search performance = 2.93\n",
            "linear search performance = 1.67\n"
          ],
          "name": "stdout"
        }
      ]
    },
    {
      "cell_type": "code",
      "metadata": {
        "id": "R3njwxd_o53e",
        "outputId": "14733dc4-5b20-4c90-d266-68124d807bea",
        "colab": {
          "base_uri": "https://localhost:8080/",
          "height": 51
        }
      },
      "source": [
        "import timeit\n",
        "\n",
        "def binary_performance():\n",
        "    run_setup = '''\n",
        "from __main__ import binary_search\n",
        "import random\n",
        "'''\n",
        "    run_code = '''\n",
        "test_list = list(range(1,random.randint(2,50000)))\n",
        "test_number = random.randint(2,50000)\n",
        "binary_search(test_list,test_number)\n",
        "'''\n",
        "\n",
        "    performance = timeit.repeat(setup = run_setup,\n",
        "                                stmt = run_code,\n",
        "                                repeat = 3,\n",
        "                                number = 10_000)\n",
        "    print(f'binary search performance = {round(min(performance),2)}')\n",
        "\n",
        "def linear_performance():\n",
        "    run_setup = '''\n",
        "from __main__ import linear_search\n",
        "import random\n",
        "'''\n",
        "    run_code = '''\n",
        "test_list = list(range(1,random.randint(2,50000)))\n",
        "test_number = random.randint(2,50000)\n",
        "linear_search(test_list,test_number)\n",
        "'''\n",
        "    performance = timeit.repeat(setup = run_setup,\n",
        "                                stmt = run_code,\n",
        "                                repeat = 3,\n",
        "                                number = 10_000)\n",
        "    print(f'linear search performance = {round(min(performance),2)}')\n",
        "\n",
        "binary_performance()\n",
        "linear_performance()"
      ],
      "execution_count": 17,
      "outputs": [
        {
          "output_type": "stream",
          "text": [
            "binary search performance = 8.23\n",
            "linear search performance = 10.24\n"
          ],
          "name": "stdout"
        }
      ]
    }
  ]
}