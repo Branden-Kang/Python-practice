{
  "nbformat": 4,
  "nbformat_minor": 0,
  "metadata": {
    "colab": {
      "name": "Mutability of Python Objects.ipynb",
      "provenance": [],
      "authorship_tag": "ABX9TyPuAyET3+bDJCIVKhfCXyE4"
    },
    "kernelspec": {
      "name": "python3",
      "display_name": "Python 3"
    }
  },
  "cells": [
    {
      "cell_type": "markdown",
      "metadata": {
        "id": "2Hu5MPRS-Imy"
      },
      "source": [
        "[Reference](https://medium.com/techtofreedom/5-levels-of-understanding-the-mutability-of-python-objects-a5ed839d6c24)"
      ]
    },
    {
      "cell_type": "code",
      "metadata": {
        "colab": {
          "base_uri": "https://localhost:8080/"
        },
        "id": "qqmB8iYV-HV4",
        "outputId": "92efe749-d4a6-43a1-b432-91176665be16"
      },
      "source": [
        "leaders = [\"Elon Mask\"]\n",
        "print(leaders, id(leaders))\n",
        "leaders.append(\"Branden\")\n",
        "print(leaders, id(leaders))  # Same id"
      ],
      "execution_count": 1,
      "outputs": [
        {
          "output_type": "stream",
          "text": [
            "['Elon Mask'] 140185372403848\n",
            "['Elon Mask', 'Branden'] 140185372403848\n"
          ],
          "name": "stdout"
        }
      ]
    },
    {
      "cell_type": "code",
      "metadata": {
        "colab": {
          "base_uri": "https://localhost:8080/"
        },
        "id": "rQE4k1WE-aiJ",
        "outputId": "e5fe1f57-d5fd-4bad-d83d-7c296e5116c1"
      },
      "source": [
        "Leader = \"branden\"\n",
        "print(Leader, id(Leader))\n",
        "\n",
        "Leader.capitalize()\n",
        "print(Leader, id(Leader))  # the Leader itself wasn't changed\n",
        "\n",
        "Cap_Leader = Leader.capitalize()\n",
        "print(Cap_Leader, id(Cap_Leader))"
      ],
      "execution_count": 2,
      "outputs": [
        {
          "output_type": "stream",
          "text": [
            "branden 140185372151568\n",
            "branden 140185372151568\n",
            "Branden 140185371455024\n"
          ],
          "name": "stdout"
        }
      ]
    },
    {
      "cell_type": "code",
      "metadata": {
        "colab": {
          "base_uri": "https://localhost:8080/"
        },
        "id": "HvW9OzhY-gsD",
        "outputId": "036d46d9-3fa5-4664-8789-8da593204079"
      },
      "source": [
        "leaders = [\"Elon Mask\"]\n",
        "print(leaders, id(leaders))\n",
        "leaders.append(\"Branden\")\n",
        "print(leaders, id(leaders))  # Same id\n",
        "leaders = [\"Mark Zuckerberg\"]\n",
        "print(leaders, id(leaders))  # the id changed!"
      ],
      "execution_count": 3,
      "outputs": [
        {
          "output_type": "stream",
          "text": [
            "['Elon Mask'] 140185372402312\n",
            "['Elon Mask', 'Branden'] 140185372402312\n",
            "['Mark Zuckerberg'] 140185372403848\n"
          ],
          "name": "stdout"
        }
      ]
    },
    {
      "cell_type": "code",
      "metadata": {
        "colab": {
          "base_uri": "https://localhost:8080/"
        },
        "id": "1eY8V8E_-qhu",
        "outputId": "fb149bda-36c2-417d-f4e7-b1d84e98c8b3"
      },
      "source": [
        "A = [\"Elon\", \"Yang\"]\n",
        "B = A\n",
        "print(B, A)\n",
        "print(id(B) == id(A))\n",
        "\n",
        "B.append(\"Mark\")\n",
        "print(B, A)\n",
        "print(id(B) == id(A))\n",
        "\n",
        "B = [\"Mark\"]\n",
        "print(B, A)"
      ],
      "execution_count": 4,
      "outputs": [
        {
          "output_type": "stream",
          "text": [
            "['Elon', 'Yang'] ['Elon', 'Yang']\n",
            "True\n",
            "['Elon', 'Yang', 'Mark'] ['Elon', 'Yang', 'Mark']\n",
            "True\n",
            "['Mark'] ['Elon', 'Yang', 'Mark']\n"
          ],
          "name": "stdout"
        }
      ]
    },
    {
      "cell_type": "code",
      "metadata": {
        "colab": {
          "base_uri": "https://localhost:8080/"
        },
        "id": "4ObJTGf4-wc8",
        "outputId": "c133c9e7-6b57-49ed-8807-dcf0b7cb0ecf"
      },
      "source": [
        "def updateNumber(val):\n",
        "    val += 10\n",
        "    print(val)\n",
        "b = 5\n",
        "updateNumber(b)\n",
        "print(b)  "
      ],
      "execution_count": 5,
      "outputs": [
        {
          "output_type": "stream",
          "text": [
            "15\n",
            "5\n"
          ],
          "name": "stdout"
        }
      ]
    },
    {
      "cell_type": "code",
      "metadata": {
        "colab": {
          "base_uri": "https://localhost:8080/"
        },
        "id": "DLcV8qML-3kh",
        "outputId": "074cce7d-04cc-4ea9-e070-12e10a5c6141"
      },
      "source": [
        "def updateNumber(val):\n",
        "    print(id(val)) # 10914624\n",
        "\n",
        "b = 5\n",
        "print(id(b))  # 10914624\n",
        "updateNumber(b)  # 10914624"
      ],
      "execution_count": 6,
      "outputs": [
        {
          "output_type": "stream",
          "text": [
            "10914624\n",
            "10914624\n"
          ],
          "name": "stdout"
        }
      ]
    },
    {
      "cell_type": "code",
      "metadata": {
        "colab": {
          "base_uri": "https://localhost:8080/"
        },
        "id": "UOwDyQqi-7J-",
        "outputId": "6176d134-66d3-459b-bf70-aa754adc25cc"
      },
      "source": [
        "L = [1, 2, 3]\n",
        "\n",
        "def func(vals):\n",
        "    vals.append(4)\n",
        "    print(vals)\n",
        "\n",
        "func(L)\n",
        "print(L)"
      ],
      "execution_count": 7,
      "outputs": [
        {
          "output_type": "stream",
          "text": [
            "[1, 2, 3, 4]\n",
            "[1, 2, 3, 4]\n"
          ],
          "name": "stdout"
        }
      ]
    },
    {
      "cell_type": "code",
      "metadata": {
        "colab": {
          "base_uri": "https://localhost:8080/"
        },
        "id": "gPhNbiYR_AdF",
        "outputId": "0aa74175-fbda-4d04-f493-ceb51085bc5a"
      },
      "source": [
        "L = [1, 2, 3]\n",
        "\n",
        "def func(vals):\n",
        "    vals = [7, 8, 9]\n",
        "    print(vals)\n",
        "\n",
        "func(L)\n",
        "print(L)"
      ],
      "execution_count": 8,
      "outputs": [
        {
          "output_type": "stream",
          "text": [
            "[7, 8, 9]\n",
            "[1, 2, 3]\n"
          ],
          "name": "stdout"
        }
      ]
    },
    {
      "cell_type": "code",
      "metadata": {
        "colab": {
          "base_uri": "https://localhost:8080/"
        },
        "id": "IMOOlROt_LdE",
        "outputId": "5faef44a-e0b6-4c47-8c62-9c5e9c75e22c"
      },
      "source": [
        "tp = ([1, 2, 3], 4, 5)\n",
        "tp[0].append(4)\n",
        "print(tp)"
      ],
      "execution_count": 9,
      "outputs": [
        {
          "output_type": "stream",
          "text": [
            "([1, 2, 3, 4], 4, 5)\n"
          ],
          "name": "stdout"
        }
      ]
    }
  ]
}