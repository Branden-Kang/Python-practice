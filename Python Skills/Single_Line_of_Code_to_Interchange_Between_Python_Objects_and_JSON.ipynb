{
  "nbformat": 4,
  "nbformat_minor": 0,
  "metadata": {
    "colab": {
      "name": "Single Line of Code to Interchange Between Python Objects and JSON.ipynb",
      "provenance": [],
      "authorship_tag": "ABX9TyMGRrzkgDKWORnubQD/umpR"
    },
    "kernelspec": {
      "name": "python3",
      "display_name": "Python 3"
    },
    "language_info": {
      "name": "python"
    }
  },
  "cells": [
    {
      "cell_type": "markdown",
      "metadata": {
        "id": "FoKlgbeyhij4"
      },
      "source": [
        "[Reference](https://towardsdatascience.com/single-line-of-code-to-interchange-between-python-objects-and-json-b0f23fbaaa65)"
      ]
    },
    {
      "cell_type": "code",
      "metadata": {
        "colab": {
          "base_uri": "https://localhost:8080/"
        },
        "id": "s1XsfdDDg1J7",
        "outputId": "929fd634-3c94-4b83-cdac-9673b1ce80b3"
      },
      "source": [
        "pip install attrs"
      ],
      "execution_count": 1,
      "outputs": [
        {
          "output_type": "stream",
          "text": [
            "Requirement already satisfied: attrs in /usr/local/lib/python3.7/dist-packages (20.3.0)\n"
          ],
          "name": "stdout"
        }
      ]
    },
    {
      "cell_type": "code",
      "metadata": {
        "colab": {
          "base_uri": "https://localhost:8080/"
        },
        "id": "NE7mCUhWg5FK",
        "outputId": "d8de38b9-157c-461d-d9ed-38dfd1e90f0f"
      },
      "source": [
        "pip install cattrs"
      ],
      "execution_count": 2,
      "outputs": [
        {
          "output_type": "stream",
          "text": [
            "Collecting cattrs\n",
            "  Downloading https://files.pythonhosted.org/packages/06/40/9a3f0e80af334bd808549c0b09fafe44269ddf261933f97723fd9b3f0deb/cattrs-1.6.0-py3-none-any.whl\n",
            "Requirement already satisfied: attrs in /usr/local/lib/python3.7/dist-packages (from cattrs) (20.3.0)\n",
            "Installing collected packages: cattrs\n",
            "Successfully installed cattrs-1.6.0\n"
          ],
          "name": "stdout"
        }
      ]
    },
    {
      "cell_type": "code",
      "metadata": {
        "id": "B42N62ejg6AP"
      },
      "source": [
        "from attr import attrs, attrib\n",
        "import cattr"
      ],
      "execution_count": 3,
      "outputs": []
    },
    {
      "cell_type": "code",
      "metadata": {
        "colab": {
          "base_uri": "https://localhost:8080/"
        },
        "id": "toz4ObwMg61L",
        "outputId": "ac00cbe8-0ff6-4708-b246-7ebe63d56ed9"
      },
      "source": [
        "from typing import Tuple\n",
        "\n",
        "cattr.structure([1.01, True, False, \"2\", \"I will be ignored\"], Tuple[int, int, int, int])"
      ],
      "execution_count": 4,
      "outputs": [
        {
          "output_type": "execute_result",
          "data": {
            "text/plain": [
              "(1, 1, 0, 2)"
            ]
          },
          "metadata": {
            "tags": []
          },
          "execution_count": 4
        }
      ]
    },
    {
      "cell_type": "code",
      "metadata": {
        "id": "GvoMGdsDg-DJ"
      },
      "source": [
        "@attrs\n",
        "class Person:\n",
        "    name = attrib()\n",
        "    age = attrib()\n",
        "  \n",
        "    def tell_age(self):\n",
        "        print(f'My name is {self.name} and my age is {self.age}.')"
      ],
      "execution_count": 14,
      "outputs": []
    },
    {
      "cell_type": "code",
      "metadata": {
        "colab": {
          "base_uri": "https://localhost:8080/"
        },
        "id": "TBDVJf5ahAnp",
        "outputId": "194ffa4d-afe5-4fb6-a1ce-69106d02a297"
      },
      "source": [
        "from attr import asdict\n",
        "\n",
        "p1 = Person('Chris', 32)\n",
        "asdict(p1)"
      ],
      "execution_count": 15,
      "outputs": [
        {
          "output_type": "execute_result",
          "data": {
            "text/plain": [
              "{'age': 32, 'name': 'Chris'}"
            ]
          },
          "metadata": {
            "tags": []
          },
          "execution_count": 15
        }
      ]
    },
    {
      "cell_type": "code",
      "metadata": {
        "colab": {
          "base_uri": "https://localhost:8080/"
        },
        "id": "nH4iaM_RhCQo",
        "outputId": "75dd8cd7-23bd-4502-8289-e88f30de2e76"
      },
      "source": [
        "cattr.unstructure(p1)"
      ],
      "execution_count": 16,
      "outputs": [
        {
          "output_type": "execute_result",
          "data": {
            "text/plain": [
              "{'age': 32, 'name': 'Chris'}"
            ]
          },
          "metadata": {
            "tags": []
          },
          "execution_count": 16
        }
      ]
    },
    {
      "cell_type": "code",
      "metadata": {
        "id": "a3NiwnGQhDjL"
      },
      "source": [
        "p2 = cattr.structure({'name': 'Chelsea', 'age': 1}, Person)"
      ],
      "execution_count": 17,
      "outputs": []
    },
    {
      "cell_type": "code",
      "metadata": {
        "colab": {
          "base_uri": "https://localhost:8080/"
        },
        "id": "Qo2rS6s-hFXg",
        "outputId": "6d8b2eee-33c1-4aa4-f0fa-dfd9462f21b0"
      },
      "source": [
        "p2"
      ],
      "execution_count": 18,
      "outputs": [
        {
          "output_type": "execute_result",
          "data": {
            "text/plain": [
              "Person(name='Chelsea', age=1)"
            ]
          },
          "metadata": {
            "tags": []
          },
          "execution_count": 18
        }
      ]
    },
    {
      "cell_type": "code",
      "metadata": {
        "colab": {
          "base_uri": "https://localhost:8080/"
        },
        "id": "gLCzgkNKhGdB",
        "outputId": "8bc75b09-0899-4545-ddcd-b0e885245dfe"
      },
      "source": [
        "p2.tell_age()"
      ],
      "execution_count": 19,
      "outputs": [
        {
          "output_type": "stream",
          "text": [
            "My name is Chelsea and my age is 1.\n"
          ],
          "name": "stdout"
        }
      ]
    },
    {
      "cell_type": "code",
      "metadata": {
        "id": "7_IvK3WNhHiF"
      },
      "source": [
        "p_list_raw = [\n",
        "  {'name': 'Alice', 'age': 20},\n",
        "  {'name': 'Bob', 'age': 25},\n",
        "  {'name': 'Chris', 'age': 32}\n",
        "]"
      ],
      "execution_count": 20,
      "outputs": []
    },
    {
      "cell_type": "code",
      "metadata": {
        "id": "VALKgs7hhTLa"
      },
      "source": [
        "from typing import List\n",
        "\n",
        "p_list = cattr.structure(p_list_raw, List[Person])"
      ],
      "execution_count": 21,
      "outputs": []
    },
    {
      "cell_type": "code",
      "metadata": {
        "colab": {
          "base_uri": "https://localhost:8080/"
        },
        "id": "Gxr6XKBnhVPW",
        "outputId": "0da52b33-e32c-494c-ba03-20ac32e98b2a"
      },
      "source": [
        "p_list"
      ],
      "execution_count": 22,
      "outputs": [
        {
          "output_type": "execute_result",
          "data": {
            "text/plain": [
              "[Person(name='Alice', age=20),\n",
              " Person(name='Bob', age=25),\n",
              " Person(name='Chris', age=32)]"
            ]
          },
          "metadata": {
            "tags": []
          },
          "execution_count": 22
        }
      ]
    },
    {
      "cell_type": "code",
      "metadata": {
        "colab": {
          "base_uri": "https://localhost:8080/"
        },
        "id": "0874jGI4hXF8",
        "outputId": "7c7ea303-3d70-48da-f3fb-77562c51506e"
      },
      "source": [
        "for p in p_list:\n",
        "    p.tell_age()"
      ],
      "execution_count": 23,
      "outputs": [
        {
          "output_type": "stream",
          "text": [
            "My name is Alice and my age is 20.\n",
            "My name is Bob and my age is 25.\n",
            "My name is Chris and my age is 32.\n"
          ],
          "name": "stdout"
        }
      ]
    },
    {
      "cell_type": "code",
      "metadata": {
        "colab": {
          "base_uri": "https://localhost:8080/"
        },
        "id": "1azNTZTKhY6l",
        "outputId": "37d83858-a4b9-450e-f342-6adff300e892"
      },
      "source": [
        "import json\n",
        "\n",
        "json_obj = json.dumps(cattr.unstructure(p_list))\n",
        "print(json_obj)"
      ],
      "execution_count": 24,
      "outputs": [
        {
          "output_type": "stream",
          "text": [
            "[{\"name\": \"Alice\", \"age\": 20}, {\"name\": \"Bob\", \"age\": 25}, {\"name\": \"Chris\", \"age\": 32}]\n"
          ],
          "name": "stdout"
        }
      ]
    },
    {
      "cell_type": "code",
      "metadata": {
        "colab": {
          "base_uri": "https://localhost:8080/"
        },
        "id": "-pNSne5ehbjC",
        "outputId": "8420e3da-3fb7-4f2b-91cf-71febf6b37f3"
      },
      "source": [
        "p_list = cattr.structure(json.loads(json_obj), List[Person])\n",
        "p_list"
      ],
      "execution_count": 25,
      "outputs": [
        {
          "output_type": "execute_result",
          "data": {
            "text/plain": [
              "[Person(name='Alice', age=20),\n",
              " Person(name='Bob', age=25),\n",
              " Person(name='Chris', age=32)]"
            ]
          },
          "metadata": {
            "tags": []
          },
          "execution_count": 25
        }
      ]
    },
    {
      "cell_type": "code",
      "metadata": {
        "colab": {
          "base_uri": "https://localhost:8080/"
        },
        "id": "lFM66FK7hdTc",
        "outputId": "605bcc02-c468-4427-fd39-05b10e6f1b2e"
      },
      "source": [
        "for p in p_list:\n",
        "    p.tell_age()"
      ],
      "execution_count": 26,
      "outputs": [
        {
          "output_type": "stream",
          "text": [
            "My name is Alice and my age is 20.\n",
            "My name is Bob and my age is 25.\n",
            "My name is Chris and my age is 32.\n"
          ],
          "name": "stdout"
        }
      ]
    }
  ]
}