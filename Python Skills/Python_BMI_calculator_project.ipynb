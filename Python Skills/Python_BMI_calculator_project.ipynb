{
  "nbformat": 4,
  "nbformat_minor": 0,
  "metadata": {
    "colab": {
      "name": "Python BMI calculator project.ipynb",
      "provenance": [],
      "authorship_tag": "ABX9TyOAEeS2eLVXKv1DZBfb4Hwm"
    },
    "kernelspec": {
      "name": "python3",
      "display_name": "Python 3"
    },
    "language_info": {
      "name": "python"
    }
  },
  "cells": [
    {
      "cell_type": "markdown",
      "metadata": {
        "id": "bWjf1e5Qeo58"
      },
      "source": [
        "[Reference](https://punitchoudhary.medium.com/python-bmi-calculator-project-8502d289dbeb)"
      ]
    },
    {
      "cell_type": "code",
      "metadata": {
        "colab": {
          "base_uri": "https://localhost:8080/"
        },
        "id": "x021VtxfenwC",
        "outputId": "f35b8466-0e07-4d02-a419-4b1369ee7664"
      },
      "source": [
        "#!python3\n",
        "# bmiCalculator.py - calculates Body Mass Index(BMI)\n",
        "print(\"**** BMI Calculator ****\\n\")\n",
        "weight = float(input(\"Enter weight(in kg): \"))\n",
        "height_cmeter = float(input(\"Enter height(in centimeters): \"))\n",
        "height = height_cmeter/100  # converting height into meter\n",
        "bmi = weight/(height ** 2)\n",
        "if bmi > 0:\n",
        "\tprint(f\"Your current BMI is {bmi}\\n\")\n",
        "\n",
        "\tif bmi <= 16:\n",
        "\t\tprint(\"You are severly underweight!\")\n",
        "\telif bmi <= 18.5:\n",
        "\t\tprint(\"You are underweight!\")\n",
        "\telif bmi <= 25:\n",
        "\t\tprint(\"You are healthy!\")\n",
        "\telif bmi <= 30:\n",
        "\t\tprint(\"You are overweight!\")\n",
        "\telse:\n",
        "\t\tprint(\"You are severly overweight!\")\n",
        "else:\n",
        "\tprint(\"Enter valid details!\")"
      ],
      "execution_count": 2,
      "outputs": [
        {
          "output_type": "stream",
          "text": [
            "**** BMI Calculator ****\n",
            "\n",
            "Enter weight(in kg): 80\n",
            "Enter height(in centimeters): 178\n",
            "Your current BMI is 25.24933720489837\n",
            "\n",
            "You are overweight!\n"
          ],
          "name": "stdout"
        }
      ]
    }
  ]
}