{
  "nbformat": 4,
  "nbformat_minor": 0,
  "metadata": {
    "colab": {
      "name": "Advanced Python List Methods and Techniques.ipynb",
      "provenance": [],
      "collapsed_sections": [],
      "authorship_tag": "ABX9TyPEqEcpuycQiWEzm0PhTdEh"
    },
    "kernelspec": {
      "name": "python3",
      "display_name": "Python 3"
    }
  },
  "cells": [
    {
      "cell_type": "markdown",
      "metadata": {
        "id": "6zitv3Aq2E4m",
        "colab_type": "text"
      },
      "source": [
        "[Reference](https://medium.com/better-programming/advanced-python-list-methods-and-techniques-python-like-a-pro-bcc52e93c646)"
      ]
    },
    {
      "cell_type": "markdown",
      "metadata": {
        "id": "qKQEmqEb2LD3",
        "colab_type": "text"
      },
      "source": [
        "List Comprehensions"
      ]
    },
    {
      "cell_type": "code",
      "metadata": {
        "id": "EDmuTr_t1QFy",
        "colab_type": "code",
        "colab": {}
      },
      "source": [
        "# newList = [returned_value  for item in list condition_logic ]"
      ],
      "execution_count": 3,
      "outputs": []
    },
    {
      "cell_type": "code",
      "metadata": {
        "id": "M_Temz2v2L7a",
        "colab_type": "code",
        "colab": {}
      },
      "source": [
        "# Create a list of numbers from 0 - 49\n",
        "numRange = range(0,50)\n",
        "\n",
        "# Pull out all the numbers that are even\n",
        "evenNums = [num for num in numRange if num % 2 == 0 ]"
      ],
      "execution_count": 4,
      "outputs": []
    },
    {
      "cell_type": "code",
      "metadata": {
        "id": "qQ-HbarF2NWr",
        "colab_type": "code",
        "colab": {}
      },
      "source": [
        "# Create a list of numbers from 0 - 49\n",
        "numRange = range(0,50)\n",
        "\n",
        "# Pull out all the numbers that are even\n",
        "evenNums = [num * num for num in numRange]"
      ],
      "execution_count": 5,
      "outputs": []
    },
    {
      "cell_type": "code",
      "metadata": {
        "id": "SVliH3qg2Stx",
        "colab_type": "code",
        "colab": {
          "base_uri": "https://localhost:8080/",
          "height": 34
        },
        "outputId": "c3d22211-af16-4baa-ab41-e88414bf04a3"
      },
      "source": [
        "def memoize(f):\n",
        "    \"\"\" Memoization decorator for functions taking one or more arguments. \"\"\"\n",
        "    class memodict(dict):\n",
        "        def __init__(self, f):\n",
        "            self.f = f\n",
        "        def __call__(self, *args):\n",
        "            return self[args]\n",
        "        def __missing__(self, key):\n",
        "            ret = self[key] = self.f(*key)\n",
        "            return ret\n",
        "    return memodict(f)\n",
        "\n",
        "# Initialize global function call variable\n",
        "funcRuns = 0\n",
        "\n",
        "# Wrap function in memoization wrapper\n",
        "@memoize\n",
        "def f(x):\n",
        "  global funcRuns\n",
        "\n",
        "  # Increment funcRuns every time the function is run\n",
        "  funcRuns += 1\n",
        "  return True\n",
        "\n",
        "# Initialize numbers list\n",
        "nums = [0,1,2,3,4,4]\n",
        "\n",
        "# Run the list comprehension with 2 calls to f(x) per iteration\n",
        "#   with 6 elements in the list and 2 calls per iteration this would \n",
        "#   normally yield 12 fuction executions. \n",
        "[f(x) for x in nums if f(x)]\n",
        "\n",
        "# Log number of f(x) runs\n",
        "print(funcRuns)"
      ],
      "execution_count": 6,
      "outputs": [
        {
          "output_type": "stream",
          "text": [
            "5\n"
          ],
          "name": "stdout"
        }
      ]
    },
    {
      "cell_type": "markdown",
      "metadata": {
        "id": "uAtDlwxG2asc",
        "colab_type": "text"
      },
      "source": [
        "List Advanced Methods"
      ]
    },
    {
      "cell_type": "code",
      "metadata": {
        "id": "XDcSUTId2Y2Z",
        "colab_type": "code",
        "colab": {
          "base_uri": "https://localhost:8080/",
          "height": 68
        },
        "outputId": "c2f75f9d-f352-4631-97c2-6416d42fabef"
      },
      "source": [
        "first_names = ['John', 'Jeff', 'Chris']\n",
        "last_names = ['Wick', 'Chen', 'Test', 'Truncated']\n",
        "names = zip(first_names, last_names)\n",
        "for name in names:\n",
        "  print(name)"
      ],
      "execution_count": 9,
      "outputs": [
        {
          "output_type": "stream",
          "text": [
            "('John', 'Wick')\n",
            "('Jeff', 'Chen')\n",
            "('Chris', 'Test')\n"
          ],
          "name": "stdout"
        }
      ]
    },
    {
      "cell_type": "code",
      "metadata": {
        "id": "qz_DrVH_2caI",
        "colab_type": "code",
        "colab": {
          "base_uri": "https://localhost:8080/",
          "height": 34
        },
        "outputId": "40b401d3-d83b-4a9f-828e-47debbc80cb8"
      },
      "source": [
        "posts = [\n",
        "  {\n",
        "    'Post': {\n",
        "      'title':'Other today post',\n",
        "      'date': 43750,\n",
        "      'claps': 200\n",
        "    }\n",
        "  }, \n",
        "  {\n",
        "    'Post': {\n",
        "      'title':'Python Like a Pro - Lists and Their Many Uses',\n",
        "      'date': 43750,\n",
        "      'claps': 525\n",
        "    }\n",
        "  },\n",
        "  {\n",
        "    'Post': {\n",
        "      'title':'Yesterdays news',\n",
        "      'date': 43749,\n",
        "      'claps': 25\n",
        "    }\n",
        "  }, \n",
        "]\n",
        "\n",
        "# Rank here returns a tuple of the days\n",
        "#   since 1900 date and the number of claps\n",
        "def rank(element):\n",
        "  return (element['Post']['date'], \n",
        "          element['Post']['claps'])\n",
        "\n",
        "# Sorting using our rank algorithm \n",
        "#   and reversed so the largest date\n",
        "#   with the most claps is first\n",
        "posts.sort(key=rank, reverse=True)\n",
        "\n",
        "# Finally a list comprehension to tie it all together\n",
        "print([post['Post']['title'] for post in posts])"
      ],
      "execution_count": 10,
      "outputs": [
        {
          "output_type": "stream",
          "text": [
            "['Python Like a Pro - Lists and Their Many Uses', 'Other today post', 'Yesterdays news']\n"
          ],
          "name": "stdout"
        }
      ]
    }
  ]
}