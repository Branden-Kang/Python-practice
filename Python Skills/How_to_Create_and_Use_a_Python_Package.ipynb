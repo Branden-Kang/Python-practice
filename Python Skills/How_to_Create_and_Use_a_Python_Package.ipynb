{
  "nbformat": 4,
  "nbformat_minor": 0,
  "metadata": {
    "colab": {
      "provenance": [],
      "authorship_tag": "ABX9TyO0rpz84t115UP8pFYSilCW"
    },
    "kernelspec": {
      "name": "python3",
      "display_name": "Python 3"
    },
    "language_info": {
      "name": "python"
    }
  },
  "cells": [
    {
      "cell_type": "markdown",
      "source": [
        "[Reference](https://medium.com/novai-python-101/how-to-create-and-use-a-python-package-66f1e26ccc5c)"
      ],
      "metadata": {
        "id": "SgZrEylAvZ0m"
      }
    },
    {
      "cell_type": "markdown",
      "source": [
        "# Step 1: Set Up the Package Directory\n",
        "```\n",
        "mkdir mypackage\n",
        "```"
      ],
      "metadata": {
        "id": "vLUxnbvXvdNf"
      }
    },
    {
      "cell_type": "markdown",
      "source": [
        "Directory structure:\n",
        "```\n",
        "mypackage/\n",
        "├── __init__.py\n",
        "```"
      ],
      "metadata": {
        "id": "dx9j93cpviJn"
      }
    },
    {
      "cell_type": "markdown",
      "source": [
        "# Step 2: Add Modules to the Package"
      ],
      "metadata": {
        "id": "flal-5NLvo3H"
      }
    },
    {
      "cell_type": "markdown",
      "source": [
        "Directory structure:\n",
        "```\n",
        "mypackage/\n",
        "├── __init__.py\n",
        "├── module1.py\n",
        "├── module2.py\n",
        "```"
      ],
      "metadata": {
        "id": "ql38CRSFvqyr"
      }
    },
    {
      "cell_type": "code",
      "execution_count": 1,
      "metadata": {
        "id": "03iLGyXdu0vL"
      },
      "outputs": [],
      "source": [
        "# module1.py:\n",
        "def greet(name):\n",
        "    return f\"Hello, {name}!\""
      ]
    },
    {
      "cell_type": "code",
      "source": [
        "# module2.py:\n",
        "def add(a, b):\n",
        "    return a + b"
      ],
      "metadata": {
        "id": "e9hwAswgvwZZ"
      },
      "execution_count": 2,
      "outputs": []
    },
    {
      "cell_type": "markdown",
      "source": [
        "# Step 3: Update the __init__.py File"
      ],
      "metadata": {
        "id": "jnNxRmBBvzs-"
      }
    },
    {
      "cell_type": "markdown",
      "source": [
        "__init__.py:\n",
        "```python\n",
        "from .module1 import greet\n",
        "from .module2 import add\n",
        "```"
      ],
      "metadata": {
        "id": "eL3UZ8yxv1uA"
      }
    },
    {
      "cell_type": "markdown",
      "source": [
        "# Step 4: Use the Package"
      ],
      "metadata": {
        "id": "sxSXqHyNv6_C"
      }
    },
    {
      "cell_type": "markdown",
      "source": [
        "## Option 1: Import Locally"
      ],
      "metadata": {
        "id": "LPkNKOEPwDKy"
      }
    },
    {
      "cell_type": "markdown",
      "source": [
        "main.py:\n",
        "```python\n",
        "# Import the package\n",
        "import mypackage\n",
        "\n",
        "# Use the package functions\n",
        "message = mypackage.greet(\"Nova\")\n",
        "result = mypackage.add(5, 3)\n",
        "\n",
        "print(message)  # Output: Hello, Nova!\n",
        "print(result)   # Output: 8\n",
        "```"
      ],
      "metadata": {
        "id": "oZm76Jf0v-pa"
      }
    },
    {
      "cell_type": "markdown",
      "source": [
        "## Option 2: Install and Use\n",
        "\n",
        "### Add a setup.py File\n",
        "```python\n",
        "from setuptools import setup, find_packages\n",
        "\n",
        "setup(\n",
        "    name=\"mypackage\",\n",
        "    version=\"0.1\",\n",
        "    packages=find_packages(),\n",
        "    description=\"A sample package with utility functions\",\n",
        "    author=\"Your Name\",\n",
        "    author_email=\"your.email@example.com\",\n",
        ")\n",
        "```"
      ],
      "metadata": {
        "id": "puo__OWtwEke"
      }
    },
    {
      "cell_type": "markdown",
      "source": [
        "### Install the Package\n",
        "```\n",
        "pip install -e .\n",
        "```"
      ],
      "metadata": {
        "id": "FZC8ZKx8wN3D"
      }
    }
  ]
}
