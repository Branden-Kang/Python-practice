{
  "nbformat": 4,
  "nbformat_minor": 0,
  "metadata": {
    "colab": {
      "provenance": [],
      "authorship_tag": "ABX9TyOku57m59XquRvl2LQyzvg8"
    },
    "kernelspec": {
      "name": "python3",
      "display_name": "Python 3"
    },
    "language_info": {
      "name": "python"
    }
  },
  "cells": [
    {
      "cell_type": "markdown",
      "source": [
        "[Reference](https://medium.com/@apps.merkurev/exploring-python-collections-with-abc-and-goose-typing-8f58c1bc99e8)"
      ],
      "metadata": {
        "id": "AmYKIFA2-v9p"
      }
    },
    {
      "cell_type": "code",
      "execution_count": 1,
      "metadata": {
        "colab": {
          "base_uri": "https://localhost:8080/"
        },
        "id": "wE7_rKQc-qJW",
        "outputId": "d57bbfab-0122-45ed-941f-e519a5a35709"
      },
      "outputs": [
        {
          "output_type": "execute_result",
          "data": {
            "text/plain": [
              "True"
            ]
          },
          "metadata": {},
          "execution_count": 1
        }
      ],
      "source": [
        "from collections.abc import Iterable\n",
        "\n",
        "class MyClass:\n",
        "    def __iter__(self): ...\n",
        "    def __next__(self): ...\n",
        "\n",
        "\n",
        "issubclass(MyClass, Iterable)\n",
        "isinstance(MyClass(), Iterable)"
      ]
    },
    {
      "cell_type": "code",
      "source": [
        "from collections import abc\n",
        "\n",
        "def goose_typing(c: abc.Collection) -> list:\n",
        "    # The cells of the table will be marked with 'x' if the test passed\n",
        "    _ = lambda x: 'x' if x is True else ''\n",
        "\n",
        "    mutable = (abc.MutableSequence, abc.MutableMapping, abc.MutableSet)\n",
        "    r = [\n",
        "        c.__name__,\n",
        "        _(issubclass(c, abc.Sequence)),\n",
        "        _(issubclass(c, abc.Mapping)),\n",
        "        _(issubclass(c, abc.Set)),\n",
        "        _(issubclass(c, mutable)),\n",
        "        _(issubclass(c, abc.Hashable)),\n",
        "    ]\n",
        "    return r"
      ],
      "metadata": {
        "id": "GwcD_dg--yw6"
      },
      "execution_count": 2,
      "outputs": []
    },
    {
      "cell_type": "code",
      "source": [
        "from rich.console import Console\n",
        "from rich.table import Table\n",
        "\n",
        "table = Table(title='Python Collections')\n",
        "table.add_column('', justify='right', style='cyan', no_wrap=True)\n",
        "table.add_column('x[0:]', justify='center')\n",
        "table.add_column('x[\"key\"]', justify='center')\n",
        "table.add_column('x & y', justify='center')\n",
        "table.add_column('mutable', justify='center')\n",
        "table.add_column('hashable', justify='center')\n",
        "\n",
        "from array import array  # We'll also investigate the array class\n",
        "\n",
        "for c in (array, list, tuple, dict, set, frozenset):\n",
        "    table.add_row(*goose_typing(c))\n",
        "\n",
        "console = Console()\n",
        "console.print(table)"
      ],
      "metadata": {
        "colab": {
          "base_uri": "https://localhost:8080/",
          "height": 193
        },
        "id": "pwUeSyfc-0D2",
        "outputId": "c4b849be-b94d-4be6-e4a3-4595c61239d3"
      },
      "execution_count": 3,
      "outputs": [
        {
          "output_type": "display_data",
          "data": {
            "text/plain": [
              "\u001b[3m                     Python Collections                      \u001b[0m\n",
              "┏━━━━━━━━━━━┳━━━━━━━┳━━━━━━━━━━┳━━━━━━━┳━━━━━━━━━┳━━━━━━━━━━┓\n",
              "┃\u001b[1m \u001b[0m\u001b[1m         \u001b[0m\u001b[1m \u001b[0m┃\u001b[1m \u001b[0m\u001b[1mx[0:]\u001b[0m\u001b[1m \u001b[0m┃\u001b[1m \u001b[0m\u001b[1mx[\"key\"]\u001b[0m\u001b[1m \u001b[0m┃\u001b[1m \u001b[0m\u001b[1mx & y\u001b[0m\u001b[1m \u001b[0m┃\u001b[1m \u001b[0m\u001b[1mmutable\u001b[0m\u001b[1m \u001b[0m┃\u001b[1m \u001b[0m\u001b[1mhashable\u001b[0m\u001b[1m \u001b[0m┃\n",
              "┡━━━━━━━━━━━╇━━━━━━━╇━━━━━━━━━━╇━━━━━━━╇━━━━━━━━━╇━━━━━━━━━━┩\n",
              "│\u001b[36m \u001b[0m\u001b[36m    array\u001b[0m\u001b[36m \u001b[0m│   x   │          │       │    x    │          │\n",
              "│\u001b[36m \u001b[0m\u001b[36m     list\u001b[0m\u001b[36m \u001b[0m│   x   │          │       │    x    │          │\n",
              "│\u001b[36m \u001b[0m\u001b[36m    tuple\u001b[0m\u001b[36m \u001b[0m│   x   │          │       │         │    x     │\n",
              "│\u001b[36m \u001b[0m\u001b[36m     dict\u001b[0m\u001b[36m \u001b[0m│       │    x     │       │    x    │          │\n",
              "│\u001b[36m \u001b[0m\u001b[36m      set\u001b[0m\u001b[36m \u001b[0m│       │          │   x   │    x    │          │\n",
              "│\u001b[36m \u001b[0m\u001b[36mfrozenset\u001b[0m\u001b[36m \u001b[0m│       │          │   x   │         │    x     │\n",
              "└───────────┴───────┴──────────┴───────┴─────────┴──────────┘\n"
            ],
            "text/html": [
              "<pre style=\"white-space:pre;overflow-x:auto;line-height:normal;font-family:Menlo,'DejaVu Sans Mono',consolas,'Courier New',monospace\"><span style=\"font-style: italic\">                     Python Collections                      </span>\n",
              "┏━━━━━━━━━━━┳━━━━━━━┳━━━━━━━━━━┳━━━━━━━┳━━━━━━━━━┳━━━━━━━━━━┓\n",
              "┃<span style=\"font-weight: bold\">           </span>┃<span style=\"font-weight: bold\"> x[0:] </span>┃<span style=\"font-weight: bold\"> x[\"key\"] </span>┃<span style=\"font-weight: bold\"> x &amp; y </span>┃<span style=\"font-weight: bold\"> mutable </span>┃<span style=\"font-weight: bold\"> hashable </span>┃\n",
              "┡━━━━━━━━━━━╇━━━━━━━╇━━━━━━━━━━╇━━━━━━━╇━━━━━━━━━╇━━━━━━━━━━┩\n",
              "│<span style=\"color: #008080; text-decoration-color: #008080\">     array </span>│   x   │          │       │    x    │          │\n",
              "│<span style=\"color: #008080; text-decoration-color: #008080\">      list </span>│   x   │          │       │    x    │          │\n",
              "│<span style=\"color: #008080; text-decoration-color: #008080\">     tuple </span>│   x   │          │       │         │    x     │\n",
              "│<span style=\"color: #008080; text-decoration-color: #008080\">      dict </span>│       │    x     │       │    x    │          │\n",
              "│<span style=\"color: #008080; text-decoration-color: #008080\">       set </span>│       │          │   x   │    x    │          │\n",
              "│<span style=\"color: #008080; text-decoration-color: #008080\"> frozenset </span>│       │          │   x   │         │    x     │\n",
              "└───────────┴───────┴──────────┴───────┴─────────┴──────────┘\n",
              "</pre>\n"
            ]
          },
          "metadata": {}
        }
      ]
    },
    {
      "cell_type": "code",
      "source": [
        "d1 = {'1': 1, '2': 2}\n",
        "d2 = {'1': 1, '3': 3}\n",
        "\n",
        "print(d1.keys() & d2.keys())  # sets intersection"
      ],
      "metadata": {
        "colab": {
          "base_uri": "https://localhost:8080/"
        },
        "id": "OYpN5TC5-1Cn",
        "outputId": "e7db6f0f-3e67-4e2f-ffd2-7ff10d77bb39"
      },
      "execution_count": 4,
      "outputs": [
        {
          "output_type": "stream",
          "name": "stdout",
          "text": [
            "{'1'}\n"
          ]
        }
      ]
    }
  ]
}
