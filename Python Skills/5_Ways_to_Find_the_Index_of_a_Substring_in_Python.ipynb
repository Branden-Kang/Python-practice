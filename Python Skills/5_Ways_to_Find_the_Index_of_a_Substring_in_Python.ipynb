{
  "nbformat": 4,
  "nbformat_minor": 0,
  "metadata": {
    "colab": {
      "name": "5 Ways to Find the Index of a Substring in Python.ipynb",
      "provenance": [],
      "authorship_tag": "ABX9TyPFqoFU3exsxAZRwDpYwq+5"
    },
    "kernelspec": {
      "name": "python3",
      "display_name": "Python 3"
    }
  },
  "cells": [
    {
      "cell_type": "markdown",
      "metadata": {
        "id": "u4ciTx0_dO1E"
      },
      "source": [
        "[Reference](https://medium.com/better-programming/5-ways-to-find-the-index-of-a-substring-in-python-13d5293fc76d)"
      ]
    },
    {
      "cell_type": "markdown",
      "metadata": {
        "id": "s4M_DoGfdTLi"
      },
      "source": [
        "# str.find()"
      ]
    },
    {
      "cell_type": "code",
      "metadata": {
        "colab": {
          "base_uri": "https://localhost:8080/"
        },
        "id": "hEXgdOtHdMVj",
        "outputId": "b7c182fc-2cc9-4f9a-a7c5-2fc6c6073f88"
      },
      "source": [
        "s1=\"banana\"\n",
        "print (s1.find(\"an\"))"
      ],
      "execution_count": 1,
      "outputs": [
        {
          "output_type": "stream",
          "text": [
            "1\n"
          ],
          "name": "stdout"
        }
      ]
    },
    {
      "cell_type": "code",
      "metadata": {
        "colab": {
          "base_uri": "https://localhost:8080/"
        },
        "id": "bgOFvd0JdVF4",
        "outputId": "9564a346-9e9c-4037-e886-f8c6dc12141c"
      },
      "source": [
        "s1=\"banana\"\n",
        "print (s1.find(\"an\",2))"
      ],
      "execution_count": 2,
      "outputs": [
        {
          "output_type": "stream",
          "text": [
            "3\n"
          ],
          "name": "stdout"
        }
      ]
    },
    {
      "cell_type": "code",
      "metadata": {
        "colab": {
          "base_uri": "https://localhost:8080/"
        },
        "id": "YNMnTvs2dWtV",
        "outputId": "ba5f8afd-e90f-4d8f-83af-e98c8d748701"
      },
      "source": [
        "s1=\"banana\"\n",
        "print (s1.find(\"ba\",1,5))"
      ],
      "execution_count": 3,
      "outputs": [
        {
          "output_type": "stream",
          "text": [
            "-1\n"
          ],
          "name": "stdout"
        }
      ]
    },
    {
      "cell_type": "markdown",
      "metadata": {
        "id": "jjpBZITxdYhF"
      },
      "source": [
        "# 2. str.rfind()"
      ]
    },
    {
      "cell_type": "code",
      "metadata": {
        "colab": {
          "base_uri": "https://localhost:8080/"
        },
        "id": "2a5rWWUvdXts",
        "outputId": "c5ac9442-5419-4ece-8069-9e95be07df97"
      },
      "source": [
        "s1=\"banana\"\n",
        "print(s1.rfind(\"an\"))"
      ],
      "execution_count": 4,
      "outputs": [
        {
          "output_type": "stream",
          "text": [
            "3\n"
          ],
          "name": "stdout"
        }
      ]
    },
    {
      "cell_type": "code",
      "metadata": {
        "colab": {
          "base_uri": "https://localhost:8080/"
        },
        "id": "LJvmANQgdZ-N",
        "outputId": "09df4e9d-9026-44cf-c74c-10ca2ddf6d47"
      },
      "source": [
        "s1=\"banana\"\n",
        "print(s1.rfind(\"an\",1,4))"
      ],
      "execution_count": 5,
      "outputs": [
        {
          "output_type": "stream",
          "text": [
            "1\n"
          ],
          "name": "stdout"
        }
      ]
    },
    {
      "cell_type": "code",
      "metadata": {
        "colab": {
          "base_uri": "https://localhost:8080/"
        },
        "id": "RZ2RU0kwdbJT",
        "outputId": "30ede4c2-ae61-4f9a-9177-a27c0db9ee0c"
      },
      "source": [
        "s1=\"banana\"\n",
        "print(s1.rfind(\"no\"))"
      ],
      "execution_count": 6,
      "outputs": [
        {
          "output_type": "stream",
          "text": [
            "-1\n"
          ],
          "name": "stdout"
        }
      ]
    },
    {
      "cell_type": "markdown",
      "metadata": {
        "id": "cySwYIBbdc41"
      },
      "source": [
        "# 3. str.index()"
      ]
    },
    {
      "cell_type": "code",
      "metadata": {
        "colab": {
          "base_uri": "https://localhost:8080/"
        },
        "id": "UZMhUCj_dcLG",
        "outputId": "5546a49b-edd7-4ab9-b3ec-4ec4a2d30793"
      },
      "source": [
        "s1=\"banana\"\n",
        "print(s1.index(\"an\"))"
      ],
      "execution_count": 7,
      "outputs": [
        {
          "output_type": "stream",
          "text": [
            "1\n"
          ],
          "name": "stdout"
        }
      ]
    },
    {
      "cell_type": "code",
      "metadata": {
        "colab": {
          "base_uri": "https://localhost:8080/"
        },
        "id": "ps50NX64deSE",
        "outputId": "84bb0729-8a5b-4fb3-9147-636fd68cca20"
      },
      "source": [
        "s1=\"banana\"\n",
        "print(s1.index(\"an\",2,6))"
      ],
      "execution_count": 8,
      "outputs": [
        {
          "output_type": "stream",
          "text": [
            "3\n"
          ],
          "name": "stdout"
        }
      ]
    },
    {
      "cell_type": "code",
      "metadata": {
        "colab": {
          "base_uri": "https://localhost:8080/",
          "height": 215
        },
        "id": "PUCdGt0jdgmg",
        "outputId": "a3bd3995-6222-498b-9748-c0aa38d9b34e"
      },
      "source": [
        "s1=\"banana\"\n",
        "print(s1.index(\"no\"))"
      ],
      "execution_count": 10,
      "outputs": [
        {
          "output_type": "error",
          "ename": "ValueError",
          "evalue": "ignored",
          "traceback": [
            "\u001b[0;31m---------------------------------------------------------------------------\u001b[0m",
            "\u001b[0;31mValueError\u001b[0m                                Traceback (most recent call last)",
            "\u001b[0;32m<ipython-input-10-ea2f6707fc7b>\u001b[0m in \u001b[0;36m<module>\u001b[0;34m()\u001b[0m\n\u001b[1;32m      1\u001b[0m \u001b[0ms1\u001b[0m\u001b[0;34m=\u001b[0m\u001b[0;34m\"banana\"\u001b[0m\u001b[0;34m\u001b[0m\u001b[0;34m\u001b[0m\u001b[0m\n\u001b[0;32m----> 2\u001b[0;31m \u001b[0mprint\u001b[0m\u001b[0;34m(\u001b[0m\u001b[0ms1\u001b[0m\u001b[0;34m.\u001b[0m\u001b[0mindex\u001b[0m\u001b[0;34m(\u001b[0m\u001b[0;34m\"no\"\u001b[0m\u001b[0;34m)\u001b[0m\u001b[0;34m)\u001b[0m\u001b[0;34m\u001b[0m\u001b[0;34m\u001b[0m\u001b[0m\n\u001b[0m",
            "\u001b[0;31mValueError\u001b[0m: substring not found"
          ]
        }
      ]
    },
    {
      "cell_type": "markdown",
      "metadata": {
        "id": "_a2yJyvediri"
      },
      "source": [
        "# 4. str.rindex()"
      ]
    },
    {
      "cell_type": "code",
      "metadata": {
        "colab": {
          "base_uri": "https://localhost:8080/"
        },
        "id": "vFJY9zGMdhnc",
        "outputId": "c6749683-7549-4124-a082-c12dfab2b4b9"
      },
      "source": [
        "s1=\"banana\"\n",
        "print(s1.rindex(\"an\"))"
      ],
      "execution_count": 12,
      "outputs": [
        {
          "output_type": "stream",
          "text": [
            "3\n"
          ],
          "name": "stdout"
        }
      ]
    },
    {
      "cell_type": "code",
      "metadata": {
        "colab": {
          "base_uri": "https://localhost:8080/"
        },
        "id": "EBWP-Fvvdnpp",
        "outputId": "17518de5-31b5-418a-fece-5e72ed9e5651"
      },
      "source": [
        "s1=\"banana\"\n",
        "print(s1.rindex(\"an\",0,4))"
      ],
      "execution_count": 13,
      "outputs": [
        {
          "output_type": "stream",
          "text": [
            "1\n"
          ],
          "name": "stdout"
        }
      ]
    },
    {
      "cell_type": "code",
      "metadata": {
        "colab": {
          "base_uri": "https://localhost:8080/",
          "height": 215
        },
        "id": "FGxardQBdroN",
        "outputId": "db30add9-e04e-4619-e605-dea5017208fe"
      },
      "source": [
        "s1=\"banana\"\n",
        "print(s1.rindex(\"no\"))"
      ],
      "execution_count": 14,
      "outputs": [
        {
          "output_type": "error",
          "ename": "ValueError",
          "evalue": "ignored",
          "traceback": [
            "\u001b[0;31m---------------------------------------------------------------------------\u001b[0m",
            "\u001b[0;31mValueError\u001b[0m                                Traceback (most recent call last)",
            "\u001b[0;32m<ipython-input-14-e55270d99ba3>\u001b[0m in \u001b[0;36m<module>\u001b[0;34m()\u001b[0m\n\u001b[1;32m      1\u001b[0m \u001b[0ms1\u001b[0m\u001b[0;34m=\u001b[0m\u001b[0;34m\"banana\"\u001b[0m\u001b[0;34m\u001b[0m\u001b[0;34m\u001b[0m\u001b[0m\n\u001b[0;32m----> 2\u001b[0;31m \u001b[0mprint\u001b[0m\u001b[0;34m(\u001b[0m\u001b[0ms1\u001b[0m\u001b[0;34m.\u001b[0m\u001b[0mrindex\u001b[0m\u001b[0;34m(\u001b[0m\u001b[0;34m\"no\"\u001b[0m\u001b[0;34m)\u001b[0m\u001b[0;34m)\u001b[0m\u001b[0;34m\u001b[0m\u001b[0;34m\u001b[0m\u001b[0m\n\u001b[0m",
            "\u001b[0;31mValueError\u001b[0m: substring not found"
          ]
        }
      ]
    },
    {
      "cell_type": "markdown",
      "metadata": {
        "id": "cbMx24Vpdphs"
      },
      "source": [
        "5. re.search()"
      ]
    },
    {
      "cell_type": "code",
      "metadata": {
        "colab": {
          "base_uri": "https://localhost:8080/"
        },
        "id": "imgHWFSxdt3a",
        "outputId": "c89b7cb0-654d-453d-8633-a9bb02280e8f"
      },
      "source": [
        "import re\n",
        "string = 'banana'\n",
        "pattern = 'an'\n",
        "match = (re.search(pattern, string))\n",
        "\n",
        "print(match)\n",
        "print(match.start())\n",
        "print(match.span())"
      ],
      "execution_count": 15,
      "outputs": [
        {
          "output_type": "stream",
          "text": [
            "<_sre.SRE_Match object; span=(1, 3), match='an'>\n",
            "1\n",
            "(1, 3)\n"
          ],
          "name": "stdout"
        }
      ]
    },
    {
      "cell_type": "code",
      "metadata": {
        "colab": {
          "base_uri": "https://localhost:8080/"
        },
        "id": "PSPFDtzHd5vM",
        "outputId": "3caba4cf-d2b3-4ef1-dde9-eeb1d7fa09f7"
      },
      "source": [
        "import re\n",
        "string = 'banana'\n",
        "pattern = 'no'\n",
        "match=(re.search(pattern, string))\n",
        "print(match)"
      ],
      "execution_count": 16,
      "outputs": [
        {
          "output_type": "stream",
          "text": [
            "None\n"
          ],
          "name": "stdout"
        }
      ]
    }
  ]
}