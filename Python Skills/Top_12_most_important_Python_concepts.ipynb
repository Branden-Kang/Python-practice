{
  "nbformat": 4,
  "nbformat_minor": 0,
  "metadata": {
    "colab": {
      "name": "Top 12 most important Python concepts.ipynb",
      "provenance": [],
      "authorship_tag": "ABX9TyMD42j1VjXRIixZuj2dNuNm"
    },
    "kernelspec": {
      "name": "python3",
      "display_name": "Python 3"
    },
    "language_info": {
      "name": "python"
    }
  },
  "cells": [
    {
      "cell_type": "markdown",
      "metadata": {
        "id": "TWwx8PIsqQmD"
      },
      "source": [
        "[Reference](https://dacus-augustus.medium.com/top-12-most-important-python-concepts-24f59945a409)"
      ]
    },
    {
      "cell_type": "markdown",
      "metadata": {
        "id": "_XZLUgyAqSjx"
      },
      "source": [
        "# Generators"
      ]
    },
    {
      "cell_type": "code",
      "metadata": {
        "colab": {
          "base_uri": "https://localhost:8080/"
        },
        "id": "2KhwdansqPao",
        "outputId": "d5fdd4a9-e5ef-41ee-dfa6-49dd19454e3f"
      },
      "source": [
        "def multiply(n):\n",
        "    state = n\n",
        "    while True:\n",
        "        state = state * 2\n",
        "        yield state\n",
        "num = multiply(3)\n",
        "print(next(num)) # 6"
      ],
      "execution_count": 1,
      "outputs": [
        {
          "output_type": "stream",
          "text": [
            "6\n"
          ],
          "name": "stdout"
        }
      ]
    },
    {
      "cell_type": "markdown",
      "metadata": {
        "id": "ykgnR7z1qU4M"
      },
      "source": [
        "# Closures"
      ]
    },
    {
      "cell_type": "code",
      "metadata": {
        "id": "TtsbfT41qTuj"
      },
      "source": [
        "def first():\n",
        "    name = \"Marcus\"\n",
        "    def second():\n",
        "        print(name)"
      ],
      "execution_count": 2,
      "outputs": []
    },
    {
      "cell_type": "code",
      "metadata": {
        "colab": {
          "base_uri": "https://localhost:8080/"
        },
        "id": "mboYqWpiqV7r",
        "outputId": "10600ecf-d740-4b5d-bbdf-9d9bdbb25ba2"
      },
      "source": [
        "def first():\n",
        "    name = \"Marcus\"\n",
        "    def second():\n",
        "        print(name)\n",
        "    return second\n",
        "newFunction = first()\n",
        "newFunction() # Marcus"
      ],
      "execution_count": 4,
      "outputs": [
        {
          "output_type": "stream",
          "text": [
            "Marcus\n"
          ],
          "name": "stdout"
        }
      ]
    },
    {
      "cell_type": "markdown",
      "metadata": {
        "id": "d8qR1fwGqZFf"
      },
      "source": [
        "# Comprehensions"
      ]
    },
    {
      "cell_type": "code",
      "metadata": {
        "id": "AvobrTeYqXcO"
      },
      "source": [
        "new_list = [x for x in range(10)] #list comprehension\n",
        "new_dict = {x:x+1 for x in range(10)} #dictionary comprehension\n",
        "new_set = {x for x in range(10)} #set comprehension\n",
        "new_gen = (x for x in range(10)) #generator comprehension"
      ],
      "execution_count": 5,
      "outputs": []
    },
    {
      "cell_type": "markdown",
      "metadata": {
        "id": "Xw1dTagCqdRU"
      },
      "source": [
        "# Decorators"
      ]
    },
    {
      "cell_type": "code",
      "metadata": {
        "id": "-8mHHK8nqcbG"
      },
      "source": [
        "def the_decorator(original_func):\n",
        "    def wrapper():\n",
        "        print(\"Decorating!\")\n",
        "        func()\n",
        "        print(\"Finished decorating!\")\n",
        "    return wrapper\n",
        "    \n",
        "def my_function():\n",
        "    print(\"Hello there!\")\n",
        "    \n",
        "my_function = the_decorator(my_function)"
      ],
      "execution_count": 6,
      "outputs": []
    },
    {
      "cell_type": "code",
      "metadata": {
        "id": "XjVrSf0EqgaI"
      },
      "source": [
        "@the_decorator\n",
        "def my_function():\n",
        "    print(\"Hello there!\")"
      ],
      "execution_count": 7,
      "outputs": []
    },
    {
      "cell_type": "code",
      "metadata": {
        "id": "KVGvwIcsqiKv"
      },
      "source": [
        "def the_decorator(original_func):\n",
        "    def wrapper(*args, **kwargs):\n",
        "        print(\"Decorating!\")\n",
        "        func(*args, **kwargs)\n",
        "        print(\"Finished decorating!\")\n",
        "    return wrapper"
      ],
      "execution_count": 8,
      "outputs": []
    },
    {
      "cell_type": "code",
      "metadata": {
        "id": "JpDafwb7qj7P"
      },
      "source": [
        "import functools\n",
        "\n",
        "def the_decorator(original_func):\n",
        "    @functools.wraps(original_func)\n",
        "    def wrapper(*args, **kwargs):\n",
        "        print(\"Decorating!\")\n",
        "        func(*args, **kwargs)\n",
        "        print(\"Finished decorating!\")\n",
        "    return wrapper"
      ],
      "execution_count": 9,
      "outputs": []
    },
    {
      "cell_type": "markdown",
      "metadata": {
        "id": "ijgtoGROqo2w"
      },
      "source": [
        "# Context Manager"
      ]
    },
    {
      "cell_type": "code",
      "metadata": {
        "id": "m88vNa5FqmrW"
      },
      "source": [
        "with open(\"file.txt\", \"w\") as file_handler:\n",
        "    file_handler.write(\"Hello there!\")"
      ],
      "execution_count": 10,
      "outputs": []
    },
    {
      "cell_type": "code",
      "metadata": {
        "id": "XDo1pQOpqqBn"
      },
      "source": [
        "class NewCM(object):\n",
        "    def __init__(self):\n",
        "        print('init method called')\n",
        "    def __enter__(self):\n",
        "        print('enter method called')\n",
        "        return self\n",
        "    def __exit__(self, exc_type, exc_value, exc_traceback):\n",
        "        print('exit method called')"
      ],
      "execution_count": 11,
      "outputs": []
    },
    {
      "cell_type": "markdown",
      "metadata": {
        "id": "h8YbW5SZqtY9"
      },
      "source": [
        "# Slicing"
      ]
    },
    {
      "cell_type": "code",
      "metadata": {
        "colab": {
          "base_uri": "https://localhost:8080/"
        },
        "id": "5spanG0KqsTa",
        "outputId": "d70c9f2d-3266-4607-f733-8949971c7ced"
      },
      "source": [
        "nums = [1,2,3,4,5,6,7]#select the first 3 elements\n",
        "nums[:3]#select the last 3 elements\n",
        "nums[-3:]#select elements between 1 and 3\n",
        "nums[1:3]#select the reverse of the list\n",
        "nums[::-1]"
      ],
      "execution_count": 12,
      "outputs": [
        {
          "output_type": "execute_result",
          "data": {
            "text/plain": [
              "[7, 6, 5, 4, 3, 2, 1]"
            ]
          },
          "metadata": {
            "tags": []
          },
          "execution_count": 12
        }
      ]
    },
    {
      "cell_type": "code",
      "metadata": {
        "colab": {
          "base_uri": "https://localhost:8080/"
        },
        "id": "rsbNO9xDqudf",
        "outputId": "2a6e7eca-1f90-49b3-c05b-1423ce0a4915"
      },
      "source": [
        "nums = [1,2,3,4,5,6,7]\n",
        "new_nums = nums[:3]\n",
        "nums[0] = 100\n",
        "print(nums)\n",
        "print(new_nums)"
      ],
      "execution_count": 13,
      "outputs": [
        {
          "output_type": "stream",
          "text": [
            "[100, 2, 3, 4, 5, 6, 7]\n",
            "[1, 2, 3]\n"
          ],
          "name": "stdout"
        }
      ]
    },
    {
      "cell_type": "code",
      "metadata": {
        "id": "jrU4nPudqzH1"
      },
      "source": [
        "nums = [1,2,3,4,5,6,7]\n",
        "\n",
        "#change the first 3 elements\n",
        "nums[:3] = [101, 102, 103]\n",
        "\n",
        "#change and expand the first 3 elements\n",
        "nums[:3] = [101, 102, 103, 104, 105]"
      ],
      "execution_count": 14,
      "outputs": []
    },
    {
      "cell_type": "markdown",
      "metadata": {
        "id": "UtxsJrRtq2cQ"
      },
      "source": [
        "# Multiple Inheritance"
      ]
    },
    {
      "cell_type": "code",
      "metadata": {
        "id": "edyV3_3Jq1N0"
      },
      "source": [
        "class BaseOne:\n",
        "    pass\n",
        "\n",
        "class BaseTwo:\n",
        "    pass\n",
        "\n",
        "class Derived(BaseOne, BaseTwo):\n",
        "    pass"
      ],
      "execution_count": 15,
      "outputs": []
    },
    {
      "cell_type": "markdown",
      "metadata": {
        "id": "X2ADGBJpq4v7"
      },
      "source": [
        "# Lambdas"
      ]
    },
    {
      "cell_type": "code",
      "metadata": {
        "colab": {
          "base_uri": "https://localhost:8080/"
        },
        "id": "_9Wj0ln0q3lQ",
        "outputId": "bbec89fe-35cb-4559-ce88-752d815450d0"
      },
      "source": [
        "add_two = lambda x : x + 2\n",
        "print(add_two(1))"
      ],
      "execution_count": 16,
      "outputs": [
        {
          "output_type": "stream",
          "text": [
            "3\n"
          ],
          "name": "stdout"
        }
      ]
    },
    {
      "cell_type": "markdown",
      "metadata": {
        "id": "BD42fPN4q6qh"
      },
      "source": [
        "# Namespaces"
      ]
    },
    {
      "cell_type": "code",
      "metadata": {
        "colab": {
          "base_uri": "https://localhost:8080/"
        },
        "id": "6ubrQE6Zq5v9",
        "outputId": "5aadfac0-5162-4d12-e3cc-42c3b1bfcb14"
      },
      "source": [
        "nameOne = \"Marcus\"\n",
        "\n",
        "def outer():\n",
        "    global nameOne\n",
        "    nameOne = nameOne + \" Aurelius\"\n",
        "    nameTwo = \"Augustus\"\n",
        "    \n",
        "    def inner():\n",
        "        global nameOne\n",
        "        nameOne = \"Emperor \" + nameOne\n",
        "        \n",
        "        nonlocal nameTwo\n",
        "        nameTwo = \"Emperor \" + nameTwo\n",
        "        \n",
        "    inner()\n",
        "    print(nameTwo)\n",
        "        \n",
        "outer()\n",
        "print(nameOne)"
      ],
      "execution_count": 18,
      "outputs": [
        {
          "output_type": "stream",
          "text": [
            "Emperor Augustus\n",
            "Emperor Marcus Aurelius\n"
          ],
          "name": "stdout"
        }
      ]
    },
    {
      "cell_type": "markdown",
      "metadata": {
        "id": "GWdCCEtUrAer"
      },
      "source": [
        "# Metaclasses"
      ]
    },
    {
      "cell_type": "code",
      "metadata": {
        "colab": {
          "base_uri": "https://localhost:8080/"
        },
        "id": "oUVnF28dq-r6",
        "outputId": "ba5ade76-2c3a-40bb-9ea0-5200b7a2e758"
      },
      "source": [
        "class NewMeta(type):     \n",
        "    pass  \n",
        "    \n",
        "class NewClass(metaclass=NewMeta):     \n",
        "    pass  \n",
        "    \n",
        "class NewSubClass(NewClass):     \n",
        "    pass\n",
        "    \n",
        "print(type(NewMeta)) #<class 'type'>\n",
        "print(type(NewClass)) #<class '__main__.NewMeta'>\n",
        "print(type(NewSubClass)) #<class '__main__.NewMeta'>"
      ],
      "execution_count": 20,
      "outputs": [
        {
          "output_type": "stream",
          "text": [
            "<class 'type'>\n",
            "<class '__main__.NewMeta'>\n",
            "<class '__main__.NewMeta'>\n"
          ],
          "name": "stdout"
        }
      ]
    },
    {
      "cell_type": "markdown",
      "metadata": {
        "id": "QE0e28SsrHwy"
      },
      "source": [
        "# Multiprocessing"
      ]
    },
    {
      "cell_type": "code",
      "metadata": {
        "colab": {
          "base_uri": "https://localhost:8080/"
        },
        "id": "XTGmmaKCrElu",
        "outputId": "01ddf075-aff0-4eab-df3e-b5e22f0b39b7"
      },
      "source": [
        "from multiprocessing import Process\n",
        "import time\n",
        "\n",
        "def one():\n",
        "\n",
        "    print('Started one')\n",
        "    time.sleep(2)\n",
        "    print('Finished one')\n",
        "\n",
        "def main():\n",
        "    p = Process(target=one)\n",
        "    p.start()\n",
        "    p.join()\n",
        "\n",
        "\n",
        "if __name__ == '__main__':\n",
        "    print('Started main')\n",
        "    main()\n",
        "    print('Finished main')"
      ],
      "execution_count": 22,
      "outputs": [
        {
          "output_type": "stream",
          "text": [
            "Started main\n",
            "Started one\n",
            "Finished one\n",
            "Finished main\n"
          ],
          "name": "stdout"
        }
      ]
    },
    {
      "cell_type": "code",
      "metadata": {
        "colab": {
          "base_uri": "https://localhost:8080/"
        },
        "id": "7BpStmirrKXe",
        "outputId": "a8e53198-3246-4430-f823-563099706009"
      },
      "source": [
        "from multiprocessing import Pool, cpu_count\n",
        "\n",
        "def showMe(data):\n",
        "    print(data)\n",
        "\n",
        "\n",
        "def main():\n",
        "    values = [2, 4, 6, 8]\n",
        "\n",
        "    with Pool() as pool:\n",
        "        pool.map(showMe, values)\n",
        "\n",
        "if __name__ == '__main__':\n",
        "    main()"
      ],
      "execution_count": 23,
      "outputs": [
        {
          "output_type": "stream",
          "text": [
            "2\n",
            "4\n",
            "6\n",
            "8\n"
          ],
          "name": "stdout"
        }
      ]
    },
    {
      "cell_type": "code",
      "metadata": {
        "colab": {
          "base_uri": "https://localhost:8080/"
        },
        "id": "ufXg9_ANrUvk",
        "outputId": "7c8bf13e-2735-4200-ce07-ae65ab5f782b"
      },
      "source": [
        "from multiprocessing import Queue, Process\n",
        "\n",
        "\n",
        "def worker(queue):\n",
        "    name = current_process().name\n",
        "    print(f'{name} data received: {queue.get()}')\n",
        "\n",
        "def main():\n",
        "    queue = Queue()\n",
        "    queue.put(0)\n",
        "    queue.put(1)\n",
        "    queue.put(2)\n",
        "    queue.put(3)\n",
        "\n",
        "    processes = [Process(target=worker, args=(queue,)) for _ in range(4)]\n",
        "\n",
        "    for p in processes:\n",
        "        p.start()\n",
        "\n",
        "    for p in processes:\n",
        "        p.join()\n",
        "\n",
        "if __name__ == \"__main__\":\n",
        "    main()"
      ],
      "execution_count": 25,
      "outputs": [
        {
          "output_type": "stream",
          "text": [
            "Process Process-5:\n",
            "Traceback (most recent call last):\n",
            "Process Process-7:\n",
            "Process Process-6:\n",
            "  File \"/usr/lib/python3.7/multiprocessing/process.py\", line 297, in _bootstrap\n",
            "    self.run()\n",
            "Traceback (most recent call last):\n",
            "Traceback (most recent call last):\n",
            "  File \"/usr/lib/python3.7/multiprocessing/process.py\", line 297, in _bootstrap\n",
            "    self.run()\n",
            "  File \"/usr/lib/python3.7/multiprocessing/process.py\", line 297, in _bootstrap\n",
            "    self.run()\n",
            "  File \"/usr/lib/python3.7/multiprocessing/process.py\", line 99, in run\n",
            "    self._target(*self._args, **self._kwargs)\n",
            "  File \"/usr/lib/python3.7/multiprocessing/process.py\", line 99, in run\n",
            "    self._target(*self._args, **self._kwargs)\n",
            "Process Process-8:\n",
            "  File \"/usr/lib/python3.7/multiprocessing/process.py\", line 99, in run\n",
            "    self._target(*self._args, **self._kwargs)\n",
            "  File \"<ipython-input-25-06dca67b27b4>\", line 5, in worker\n",
            "    name = current_process().name\n",
            "  File \"<ipython-input-25-06dca67b27b4>\", line 5, in worker\n",
            "    name = current_process().name\n",
            "Traceback (most recent call last):\n",
            "  File \"<ipython-input-25-06dca67b27b4>\", line 5, in worker\n",
            "    name = current_process().name\n",
            "NameError: name 'current_process' is not defined\n",
            "  File \"/usr/lib/python3.7/multiprocessing/process.py\", line 297, in _bootstrap\n",
            "    self.run()\n",
            "NameError: name 'current_process' is not defined\n",
            "  File \"/usr/lib/python3.7/multiprocessing/process.py\", line 99, in run\n",
            "    self._target(*self._args, **self._kwargs)\n",
            "NameError: name 'current_process' is not defined\n",
            "  File \"<ipython-input-25-06dca67b27b4>\", line 5, in worker\n",
            "    name = current_process().name\n",
            "NameError: name 'current_process' is not defined\n"
          ],
          "name": "stderr"
        }
      ]
    },
    {
      "cell_type": "markdown",
      "metadata": {
        "id": "0DIxNr8XrYvL"
      },
      "source": [
        "# Buffering Protocol"
      ]
    },
    {
      "cell_type": "code",
      "metadata": {
        "id": "qMox3PuTrXZC"
      },
      "source": [
        "import array\n",
        "arr = array.array('i', range(10)) #array stores data as a contiguous block\n",
        "\n",
        "import numpy as np\n",
        "npArr = np.asarray(A)\n",
        "npArr[4] = 555"
      ],
      "execution_count": 28,
      "outputs": []
    }
  ]
}