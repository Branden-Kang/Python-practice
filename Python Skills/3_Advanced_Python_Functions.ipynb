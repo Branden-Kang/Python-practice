{
  "nbformat": 4,
  "nbformat_minor": 0,
  "metadata": {
    "colab": {
      "name": "3 Advanced Python Functions.ipynb",
      "provenance": [],
      "authorship_tag": "ABX9TyN4BobIwOCDcNknCSKpX4FZ"
    },
    "kernelspec": {
      "name": "python3",
      "display_name": "Python 3"
    }
  },
  "cells": [
    {
      "cell_type": "markdown",
      "metadata": {
        "id": "t4u0ssEyc13i",
        "colab_type": "text"
      },
      "source": [
        "[Reference](https://towardsdatascience.com/3-advanced-python-functions-for-data-scientists-f869016da63a)\n"
      ]
    },
    {
      "cell_type": "markdown",
      "metadata": {
        "id": "k0zdsDbEc8X-",
        "colab_type": "text"
      },
      "source": [
        "# map()"
      ]
    },
    {
      "cell_type": "code",
      "metadata": {
        "id": "Fqnk82fFcwKx",
        "colab_type": "code",
        "colab": {}
      },
      "source": [
        "nums = [1, 2, 3, 4, 5]\n",
        "\n",
        "# this function will calculate square\n",
        "def square_num(x): \n",
        "    return x**2"
      ],
      "execution_count": 1,
      "outputs": []
    },
    {
      "cell_type": "code",
      "metadata": {
        "id": "pLld1D4mc9wD",
        "colab_type": "code",
        "colab": {
          "base_uri": "https://localhost:8080/",
          "height": 34
        },
        "outputId": "5b404dd8-fd0b-45b9-f78c-8b6db97aac58"
      },
      "source": [
        "# non-pythonic approach\n",
        "squares = []\n",
        "for num in nums:\n",
        "    squares.append(square_num(num))\n",
        " \n",
        "print('Non-Pythonic Approach: ', squares)"
      ],
      "execution_count": 2,
      "outputs": [
        {
          "output_type": "stream",
          "text": [
            "Non-Pythonic Approach:  [1, 4, 9, 16, 25]\n"
          ],
          "name": "stdout"
        }
      ]
    },
    {
      "cell_type": "code",
      "metadata": {
        "id": "De09SFtTc_rI",
        "colab_type": "code",
        "colab": {
          "base_uri": "https://localhost:8080/",
          "height": 34
        },
        "outputId": "14dbc27e-41c1-45a1-88dd-b8125093e5a2"
      },
      "source": [
        "# pythonic approach\n",
        "x = map(square_num, nums)\n",
        "print('Pythonic Approach: ', list(x))"
      ],
      "execution_count": 3,
      "outputs": [
        {
          "output_type": "stream",
          "text": [
            "Pythonic Approach:  [1, 4, 9, 16, 25]\n"
          ],
          "name": "stdout"
        }
      ]
    },
    {
      "cell_type": "markdown",
      "metadata": {
        "id": "2-2kiqD-dFWV",
        "colab_type": "text"
      },
      "source": [
        "# zip()"
      ]
    },
    {
      "cell_type": "code",
      "metadata": {
        "id": "60bxDdvfdDMs",
        "colab_type": "code",
        "colab": {}
      },
      "source": [
        "first = [1, 3, 8, 4, 9]\n",
        "second = [2, 2, 7, 5, 8]"
      ],
      "execution_count": 4,
      "outputs": []
    },
    {
      "cell_type": "code",
      "metadata": {
        "id": "WjkEtAI2dG1d",
        "colab_type": "code",
        "colab": {
          "base_uri": "https://localhost:8080/",
          "height": 102
        },
        "outputId": "28f45b2e-859b-4a8c-e2f8-069ca9713ac3"
      },
      "source": [
        "# Iterate over two or more list at the same time\n",
        "for x, y in zip(first, second):\n",
        "    print(x + y)"
      ],
      "execution_count": 5,
      "outputs": [
        {
          "output_type": "stream",
          "text": [
            "3\n",
            "5\n",
            "15\n",
            "9\n",
            "17\n"
          ],
          "name": "stdout"
        }
      ]
    },
    {
      "cell_type": "markdown",
      "metadata": {
        "id": "6o-dNbradKji",
        "colab_type": "text"
      },
      "source": [
        "# filter()"
      ]
    },
    {
      "cell_type": "code",
      "metadata": {
        "id": "npiWU4VadJMP",
        "colab_type": "code",
        "colab": {}
      },
      "source": [
        "numbers = [1, 2, 3, 4, 5, 6, 7, 8, 9, 10]\n",
        "\n",
        "# Will return true if input number is even\n",
        "def even(x):\n",
        "    return x % 2 == 0"
      ],
      "execution_count": 6,
      "outputs": []
    },
    {
      "cell_type": "code",
      "metadata": {
        "id": "QCZLURpkdMZP",
        "colab_type": "code",
        "colab": {
          "base_uri": "https://localhost:8080/",
          "height": 34
        },
        "outputId": "430c4b2c-a69b-4caf-8ab6-82a71004e337"
      },
      "source": [
        "# non-pythonic approach\n",
        "even_nums = []\n",
        "for num in numbers:\n",
        "    if even(num):\n",
        "        even_nums.append(num)\n",
        " \n",
        "print('Non-Pythonic Approach: ', even_nums)"
      ],
      "execution_count": 7,
      "outputs": [
        {
          "output_type": "stream",
          "text": [
            "Non-Pythonic Approach:  [2, 4, 6, 8, 10]\n"
          ],
          "name": "stdout"
        }
      ]
    },
    {
      "cell_type": "code",
      "metadata": {
        "id": "0iRrOvvgdNcs",
        "colab_type": "code",
        "colab": {
          "base_uri": "https://localhost:8080/",
          "height": 34
        },
        "outputId": "3856e20e-9926-4d81-e6c9-f8abee241739"
      },
      "source": [
        "# pythonic approach\n",
        "even_n = filter(even, numbers)\n",
        "print('Pythonic Approach: ', list(even_n))"
      ],
      "execution_count": 8,
      "outputs": [
        {
          "output_type": "stream",
          "text": [
            "Pythonic Approach:  [2, 4, 6, 8, 10]\n"
          ],
          "name": "stdout"
        }
      ]
    }
  ]
}