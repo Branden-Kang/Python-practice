{
  "nbformat": 4,
  "nbformat_minor": 0,
  "metadata": {
    "colab": {
      "name": "Essential Collections in Python.ipynb",
      "provenance": [],
      "authorship_tag": "ABX9TyP0nw+8rJvtokqLj+IDJOzB"
    },
    "kernelspec": {
      "name": "python3",
      "display_name": "Python 3"
    }
  },
  "cells": [
    {
      "cell_type": "markdown",
      "metadata": {
        "id": "6XeQDe30u0Km"
      },
      "source": [
        "[Reference](https://medium.com/swlh/essential-collections-in-python-43fc0d445a4c)"
      ]
    },
    {
      "cell_type": "markdown",
      "metadata": {
        "id": "JOlOS07zu2VM"
      },
      "source": [
        "# List"
      ]
    },
    {
      "cell_type": "code",
      "metadata": {
        "id": "plrzCPEoukWg",
        "colab": {
          "base_uri": "https://localhost:8080/"
        },
        "outputId": "93fcd698-d193-44e3-d1ed-2d0630693e99"
      },
      "source": [
        "list_ = []\n",
        "list_ = [1,2,3]\n",
        "list_ = ['a','b','c']\n",
        "list_ = list()\n",
        "\n",
        "list_ = [100] * 10\n",
        "print(list_)"
      ],
      "execution_count": null,
      "outputs": [
        {
          "output_type": "execute_result",
          "data": {
            "text/plain": [
              "[100, 100, 100, 100, 100, 100, 100, 100, 100, 100]"
            ]
          },
          "metadata": {
            "tags": []
          },
          "execution_count": 4
        }
      ]
    },
    {
      "cell_type": "code",
      "metadata": {
        "colab": {
          "base_uri": "https://localhost:8080/",
          "height": 266
        },
        "id": "dstnnBvCu4aU",
        "outputId": "a698a966-1c4b-4116-8153-478c11a6955e"
      },
      "source": [
        "list_ = [1,2,3,4,5]\n",
        "len(list_) # 5\n",
        "\n",
        "print(list_[0])  # 1\n",
        "print(list_[2])  # 3\n",
        "print(list_[-1]) # 5\n",
        "\n",
        "list_[4] = 999\n",
        "print(list_) # [1,2,3,4,999]\n",
        "\n",
        "print(list_[5])"
      ],
      "execution_count": null,
      "outputs": [
        {
          "output_type": "stream",
          "text": [
            "1\n",
            "3\n",
            "5\n",
            "[1, 2, 3, 4, 999]\n"
          ],
          "name": "stdout"
        },
        {
          "output_type": "error",
          "ename": "IndexError",
          "evalue": "ignored",
          "traceback": [
            "\u001b[0;31m---------------------------------------------------------------------------\u001b[0m",
            "\u001b[0;31mIndexError\u001b[0m                                Traceback (most recent call last)",
            "\u001b[0;32m<ipython-input-8-36cbfc4065e2>\u001b[0m in \u001b[0;36m<module>\u001b[0;34m()\u001b[0m\n\u001b[1;32m      9\u001b[0m \u001b[0mprint\u001b[0m\u001b[0;34m(\u001b[0m\u001b[0mlist_\u001b[0m\u001b[0;34m)\u001b[0m \u001b[0;31m# [1,2,3,4,999]\u001b[0m\u001b[0;34m\u001b[0m\u001b[0;34m\u001b[0m\u001b[0m\n\u001b[1;32m     10\u001b[0m \u001b[0;34m\u001b[0m\u001b[0m\n\u001b[0;32m---> 11\u001b[0;31m \u001b[0mprint\u001b[0m\u001b[0;34m(\u001b[0m\u001b[0mlist_\u001b[0m\u001b[0;34m[\u001b[0m\u001b[0;36m5\u001b[0m\u001b[0;34m]\u001b[0m\u001b[0;34m)\u001b[0m\u001b[0;34m\u001b[0m\u001b[0;34m\u001b[0m\u001b[0m\n\u001b[0m",
            "\u001b[0;31mIndexError\u001b[0m: list index out of range"
          ]
        }
      ]
    },
    {
      "cell_type": "code",
      "metadata": {
        "colab": {
          "base_uri": "https://localhost:8080/"
        },
        "id": "bvODRorhu7vd",
        "outputId": "f3c57f5d-eec2-4220-cad2-308e9503d1d7"
      },
      "source": [
        "fruit_list = [\"kiwi\",\"apple\",\"banana\",\"orange\",\"grape\"]\n",
        "\n",
        "if \"apple\" in fruit_list:  #true\n",
        "    print(\"true\")"
      ],
      "execution_count": null,
      "outputs": [
        {
          "output_type": "stream",
          "text": [
            "true\n"
          ],
          "name": "stdout"
        }
      ]
    },
    {
      "cell_type": "code",
      "metadata": {
        "colab": {
          "base_uri": "https://localhost:8080/"
        },
        "id": "xgw2ZkzGu_o_",
        "outputId": "f68a534c-3682-4bd8-c54d-d6574d10c031"
      },
      "source": [
        "num_list = [1,2,3,4,5,6,7,8,9,10]\n",
        "\n",
        "print(num_list[0:5]) # 0,1,2,3   !NOTE THAT 4 IS NOT INCLUDED IN RANGE\n",
        "\n",
        "print(num_list[::2]) # 0,2,4,6,8\n",
        "\n",
        "print(num_list[::-1]) # PRINT IN REVERSE : 9,8,7,6,5,4,3,2,1,0\n",
        "\n",
        "print(num_list[8:2:-1]) # 7,6,5,4,3,2"
      ],
      "execution_count": null,
      "outputs": [
        {
          "output_type": "stream",
          "text": [
            "[1, 2, 3, 4, 5]\n",
            "[1, 3, 5, 7, 9]\n",
            "[10, 9, 8, 7, 6, 5, 4, 3, 2, 1]\n",
            "[9, 8, 7, 6, 5, 4]\n"
          ],
          "name": "stdout"
        }
      ]
    },
    {
      "cell_type": "code",
      "metadata": {
        "colab": {
          "base_uri": "https://localhost:8080/"
        },
        "id": "glvQMEIlZg4W",
        "outputId": "9ca65311-62b7-459b-ba93-6c82f39ae273"
      },
      "source": [
        "print(num_list[:])"
      ],
      "execution_count": null,
      "outputs": [
        {
          "output_type": "stream",
          "text": [
            "[1, 2, 3, 4, 5, 6, 7, 8, 9, 10]\n"
          ],
          "name": "stdout"
        }
      ]
    },
    {
      "cell_type": "code",
      "metadata": {
        "colab": {
          "base_uri": "https://localhost:8080/"
        },
        "id": "EVInZMIkvEJx",
        "outputId": "4ff96c1f-2fc7-42fa-8c44-6a8fbe1c53cc"
      },
      "source": [
        "fruit_list = [\"kiwi\",\"apple\",\"banana\",\"orange\",\"grape\"]\n",
        "\n",
        "for fruit in fruit_list:    \n",
        "    print(fruit)\n",
        "\n",
        "for index, fruit in enumerate(fruit_list):\n",
        "    print(\"index {}: {}\".format(index, fruit))\n",
        "\n",
        "print(fruit_list)"
      ],
      "execution_count": null,
      "outputs": [
        {
          "output_type": "stream",
          "text": [
            "kiwi\n",
            "apple\n",
            "banana\n",
            "orange\n",
            "grape\n",
            "index 0: kiwi\n",
            "index 1: apple\n",
            "index 2: banana\n",
            "index 3: orange\n",
            "index 4: grape\n",
            "['kiwi', 'apple', 'banana', 'orange', 'grape']\n"
          ],
          "name": "stdout"
        }
      ]
    },
    {
      "cell_type": "code",
      "metadata": {
        "colab": {
          "base_uri": "https://localhost:8080/"
        },
        "id": "N0VfnfWYvHk4",
        "outputId": "60948e0a-94c3-48d7-b465-9f23ba03e7fb"
      },
      "source": [
        "fruit_list = [\"kiwi\",\"apple\",\"banana\",\"orange\"]\n",
        "\n",
        "fruit_list.append(\"grape\")\n",
        "print(fruit_list)\n",
        "\n",
        "fruit_list.extend([\"mango\", \"pear\"])\n",
        "print(fruit_list)\n",
        "\n",
        "del fruit_list[2]\n",
        "print(fruit_list)"
      ],
      "execution_count": null,
      "outputs": [
        {
          "output_type": "stream",
          "text": [
            "['kiwi', 'apple', 'banana', 'orange', 'grape']\n",
            "['kiwi', 'apple', 'banana', 'orange', 'grape', 'mango', 'pear']\n",
            "['kiwi', 'apple', 'orange', 'grape', 'mango', 'pear']\n"
          ],
          "name": "stdout"
        }
      ]
    },
    {
      "cell_type": "code",
      "metadata": {
        "colab": {
          "base_uri": "https://localhost:8080/"
        },
        "id": "Wz4vWuC-vUHh",
        "outputId": "2f344cef-e0f4-4430-bf62-f2ce4b56b05e"
      },
      "source": [
        "nums = [1, 2, 3, 4, 5, 6, 7, 8, 9, 10]\n",
        "print(min(nums))\n",
        "print(max(nums))\n",
        "print(sum(nums))"
      ],
      "execution_count": null,
      "outputs": [
        {
          "output_type": "stream",
          "text": [
            "1\n",
            "10\n",
            "55\n"
          ],
          "name": "stdout"
        }
      ]
    },
    {
      "cell_type": "code",
      "metadata": {
        "colab": {
          "base_uri": "https://localhost:8080/"
        },
        "id": "PQNfVBCXvYGf",
        "outputId": "42529bf0-a4db-45ce-aeef-dcd731561b0e"
      },
      "source": [
        "fruit_list = [\"kiwi\",\"apple\",\"banana\",\"orange\"]\n",
        "print(', '.join(fruit_list))"
      ],
      "execution_count": null,
      "outputs": [
        {
          "output_type": "stream",
          "text": [
            "kiwi, apple, banana, orange\n"
          ],
          "name": "stdout"
        }
      ]
    },
    {
      "cell_type": "code",
      "metadata": {
        "colab": {
          "base_uri": "https://localhost:8080/"
        },
        "id": "Gvcp6SUpvaoP",
        "outputId": "6a1dbc92-0c5a-4a73-b083-c44fd16a7222"
      },
      "source": [
        "num_list = [3,10,2,1,5,7,8,4,6,9]\n",
        "\n",
        "print(sorted(num_list))\n",
        "num_list.sort()\n",
        "print(num_list)\n",
        "\n",
        "print(sorted(num_list, reverse=True))\n",
        "num_list.sort(reverse=True)\n",
        "print(num_list)"
      ],
      "execution_count": null,
      "outputs": [
        {
          "output_type": "stream",
          "text": [
            "[1, 2, 3, 4, 5, 6, 7, 8, 9, 10]\n",
            "[1, 2, 3, 4, 5, 6, 7, 8, 9, 10]\n",
            "[10, 9, 8, 7, 6, 5, 4, 3, 2, 1]\n",
            "[10, 9, 8, 7, 6, 5, 4, 3, 2, 1]\n"
          ],
          "name": "stdout"
        }
      ]
    },
    {
      "cell_type": "markdown",
      "metadata": {
        "id": "Mf15xPOdzXIy"
      },
      "source": [
        "# Tuple"
      ]
    },
    {
      "cell_type": "code",
      "metadata": {
        "colab": {
          "base_uri": "https://localhost:8080/"
        },
        "id": "SHD0t946zYim",
        "outputId": "6fc12612-c1a8-4a0e-a94b-d3bf0a64338d"
      },
      "source": [
        "tuple_ = ()\n",
        "tuple_ = (1,2,3)\n",
        "tuple_ = ('a','b','c')\n",
        "tuple_ = tuple()\n",
        "tuple_ = (1,2,3) * 2\n",
        "\n",
        "print(tuple_)"
      ],
      "execution_count": 60,
      "outputs": [
        {
          "output_type": "stream",
          "text": [
            "(1, 2, 3, 1, 2, 3)\n"
          ],
          "name": "stdout"
        }
      ]
    },
    {
      "cell_type": "code",
      "metadata": {
        "colab": {
          "base_uri": "https://localhost:8080/"
        },
        "id": "2fYop1rv6Jw_",
        "outputId": "c079e42a-8f99-4cbe-ec65-35cb049acb12"
      },
      "source": [
        "fruit_tuple = (\"kiwi\",\"apple\",\"banana\",\"orange\",\"grape\")\n",
        "if \"apple\" in fruit_tuple:\n",
        "    print(\"True\")"
      ],
      "execution_count": 64,
      "outputs": [
        {
          "output_type": "stream",
          "text": [
            "true\n"
          ],
          "name": "stdout"
        }
      ]
    },
    {
      "cell_type": "code",
      "metadata": {
        "colab": {
          "base_uri": "https://localhost:8080/",
          "height": 283
        },
        "id": "LcOn92F05a8d",
        "outputId": "225f4301-2211-43e8-80a7-066d9ae44c88"
      },
      "source": [
        "set_ = (1,2,3,4,5)\n",
        "print(len(set_)) # 5\n",
        "\n",
        "print(set_[0])  # 1\n",
        "print(set_[2])  # 3\n",
        "print(set_[-1]) # 5\n",
        "\n",
        "# print(set_[5])\n",
        "\n",
        "set_[4] = 999\n",
        "print(set_) # [1,2,3,4,999]"
      ],
      "execution_count": 63,
      "outputs": [
        {
          "output_type": "stream",
          "text": [
            "5\n",
            "1\n",
            "3\n",
            "5\n"
          ],
          "name": "stdout"
        },
        {
          "output_type": "error",
          "ename": "TypeError",
          "evalue": "ignored",
          "traceback": [
            "\u001b[0;31m---------------------------------------------------------------------------\u001b[0m",
            "\u001b[0;31mTypeError\u001b[0m                                 Traceback (most recent call last)",
            "\u001b[0;32m<ipython-input-63-65c80bf1c604>\u001b[0m in \u001b[0;36m<module>\u001b[0;34m()\u001b[0m\n\u001b[1;32m      8\u001b[0m \u001b[0;31m# print(set_[5])\u001b[0m\u001b[0;34m\u001b[0m\u001b[0;34m\u001b[0m\u001b[0;34m\u001b[0m\u001b[0m\n\u001b[1;32m      9\u001b[0m \u001b[0;34m\u001b[0m\u001b[0m\n\u001b[0;32m---> 10\u001b[0;31m \u001b[0mset_\u001b[0m\u001b[0;34m[\u001b[0m\u001b[0;36m4\u001b[0m\u001b[0;34m]\u001b[0m \u001b[0;34m=\u001b[0m \u001b[0;36m999\u001b[0m\u001b[0;34m\u001b[0m\u001b[0;34m\u001b[0m\u001b[0m\n\u001b[0m\u001b[1;32m     11\u001b[0m \u001b[0mprint\u001b[0m\u001b[0;34m(\u001b[0m\u001b[0mset_\u001b[0m\u001b[0;34m)\u001b[0m \u001b[0;31m# [1,2,3,4,999]\u001b[0m\u001b[0;34m\u001b[0m\u001b[0;34m\u001b[0m\u001b[0m\n",
            "\u001b[0;31mTypeError\u001b[0m: 'tuple' object does not support item assignment"
          ]
        }
      ]
    },
    {
      "cell_type": "code",
      "metadata": {
        "colab": {
          "base_uri": "https://localhost:8080/"
        },
        "id": "UQMJnRaa6VRH",
        "outputId": "3bd49dd2-9b65-429d-dc72-1c25ba5f3440"
      },
      "source": [
        "num_tuple = (1,2,3,4,5,6,7,8,9,10)\n",
        "\n",
        "print(num_tuple[0:5]) # 0,1,2,3   !NOTE THAT 4 IS NOT INCLUDED IN RANGE\n",
        "\n",
        "print(num_tuple[::2]) # 0,2,4,6,8\n",
        "\n",
        "print(num_tuple[::-1]) # PRINT IN REVERSE : 9,8,7,6,5,4,3,2,1,0\n",
        "\n",
        "print(num_tuple[8:2:-1]) # 7,6,5,4,3,2"
      ],
      "execution_count": 65,
      "outputs": [
        {
          "output_type": "stream",
          "text": [
            "(1, 2, 3, 4, 5)\n",
            "(1, 3, 5, 7, 9)\n",
            "(10, 9, 8, 7, 6, 5, 4, 3, 2, 1)\n",
            "(9, 8, 7, 6, 5, 4)\n"
          ],
          "name": "stdout"
        }
      ]
    },
    {
      "cell_type": "code",
      "metadata": {
        "colab": {
          "base_uri": "https://localhost:8080/"
        },
        "id": "xL48oV197Aeq",
        "outputId": "dc873118-6890-413a-915e-8ec8b948d3f3"
      },
      "source": [
        "fruit_tuple = (\"kiwi\",\"apple\",\"banana\",\"orange\",\"grape\")\n",
        "\n",
        "for fruit in fruit_tuple:    \n",
        "    print(fruit)\n",
        "\n",
        "for index, fruit in enumerate(fruit_tuple):\n",
        "    print(\"index {}: {}\".format(index, fruit))\n",
        "\n",
        "print(fruit_tuple)"
      ],
      "execution_count": 67,
      "outputs": [
        {
          "output_type": "stream",
          "text": [
            "kiwi\n",
            "apple\n",
            "banana\n",
            "orange\n",
            "grape\n",
            "index 0: kiwi\n",
            "index 1: apple\n",
            "index 2: banana\n",
            "index 3: orange\n",
            "index 4: grape\n",
            "('kiwi', 'apple', 'banana', 'orange', 'grape')\n"
          ],
          "name": "stdout"
        }
      ]
    },
    {
      "cell_type": "code",
      "metadata": {
        "colab": {
          "base_uri": "https://localhost:8080/"
        },
        "id": "mRWpBuqQ7WI4",
        "outputId": "ba665afb-43a9-4e8e-b1c6-f2d435884655"
      },
      "source": [
        "num_tuple = (3,10,2,1,5,7,8,4,6,9)\n",
        "\n",
        "print(sorted(num_tuple))\n",
        "# num_tuple.sort()\n",
        "print(num_tuple)\n",
        "\n",
        "print(sorted(num_tuple, reverse=True))\n",
        "# num_tuple.sort(reverse=True)\n",
        "print(num_tuple)"
      ],
      "execution_count": 76,
      "outputs": [
        {
          "output_type": "stream",
          "text": [
            "[1, 2, 3, 4, 5, 6, 7, 8, 9, 10]\n",
            "(3, 10, 2, 1, 5, 7, 8, 4, 6, 9)\n",
            "[10, 9, 8, 7, 6, 5, 4, 3, 2, 1]\n",
            "(3, 10, 2, 1, 5, 7, 8, 4, 6, 9)\n"
          ],
          "name": "stdout"
        }
      ]
    },
    {
      "cell_type": "markdown",
      "metadata": {
        "id": "oF4SPDnCwGGH"
      },
      "source": [
        "# Dictionary"
      ]
    },
    {
      "cell_type": "code",
      "metadata": {
        "colab": {
          "base_uri": "https://localhost:8080/"
        },
        "id": "dPuTYR7gvfPT",
        "outputId": "2d92dcd4-8f41-4a53-d982-7e98b4557136"
      },
      "source": [
        "dict_ = {}\n",
        "dict_ = dict()\n",
        "\n",
        "dict_ = {\n",
        "    \"fruit\": [\"kiwi\",\"apple\",\"banana\",\"orange\"],\n",
        "    \"animal\": [\"horse\",\"bird\",\"cow\",\"monkey\"]\n",
        "}\n",
        "\n",
        "print(dict_[\"fruit\"])"
      ],
      "execution_count": null,
      "outputs": [
        {
          "output_type": "stream",
          "text": [
            "['apple', 'hp', 'google']\n"
          ],
          "name": "stdout"
        }
      ]
    },
    {
      "cell_type": "code",
      "metadata": {
        "colab": {
          "base_uri": "https://localhost:8080/",
          "height": 232
        },
        "id": "WDWpQnj2wK9P",
        "outputId": "09d6da81-9c32-40cf-c92f-4d60db169c61"
      },
      "source": [
        "dict_ = {\n",
        "    \"fruit\": [\"kiwi\",\"apple\",\"banana\",\"orange\"],\n",
        "    \"animal\": [\"horse\",\"bird\",\"cow\",\"monkey\"]\n",
        "}\n",
        "print(dict_[\"fruit\"])\n",
        "\n",
        "\n",
        "print(dict_.get(\"country\", \"mango\")) \n",
        "print(dict_[\"country\"])"
      ],
      "execution_count": null,
      "outputs": [
        {
          "output_type": "stream",
          "text": [
            "['kiwi', 'apple', 'banana', 'orange']\n",
            "mango\n"
          ],
          "name": "stdout"
        },
        {
          "output_type": "error",
          "ename": "KeyError",
          "evalue": "ignored",
          "traceback": [
            "\u001b[0;31m---------------------------------------------------------------------------\u001b[0m",
            "\u001b[0;31mKeyError\u001b[0m                                  Traceback (most recent call last)",
            "\u001b[0;32m<ipython-input-26-700eba2e9607>\u001b[0m in \u001b[0;36m<module>\u001b[0;34m()\u001b[0m\n\u001b[1;32m      7\u001b[0m \u001b[0;34m\u001b[0m\u001b[0m\n\u001b[1;32m      8\u001b[0m \u001b[0mprint\u001b[0m\u001b[0;34m(\u001b[0m\u001b[0mdict_\u001b[0m\u001b[0;34m.\u001b[0m\u001b[0mget\u001b[0m\u001b[0;34m(\u001b[0m\u001b[0;34m\"country\"\u001b[0m\u001b[0;34m,\u001b[0m \u001b[0;34m\"mango\"\u001b[0m\u001b[0;34m)\u001b[0m\u001b[0;34m)\u001b[0m\u001b[0;34m\u001b[0m\u001b[0;34m\u001b[0m\u001b[0m\n\u001b[0;32m----> 9\u001b[0;31m \u001b[0mprint\u001b[0m\u001b[0;34m(\u001b[0m\u001b[0mdict_\u001b[0m\u001b[0;34m[\u001b[0m\u001b[0;34m\"country\"\u001b[0m\u001b[0;34m]\u001b[0m\u001b[0;34m)\u001b[0m\u001b[0;34m\u001b[0m\u001b[0;34m\u001b[0m\u001b[0m\n\u001b[0m",
            "\u001b[0;31mKeyError\u001b[0m: 'country'"
          ]
        }
      ]
    },
    {
      "cell_type": "code",
      "metadata": {
        "colab": {
          "base_uri": "https://localhost:8080/"
        },
        "id": "qXZ5JRorwOA2",
        "outputId": "a7d95fac-ab8d-4eb2-9f6d-15c0efdc8c31"
      },
      "source": [
        "dict_ = {\n",
        "    \"fruit\": [\"kiwi\",\"apple\",\"banana\",\"orange\"],\n",
        "    \"animal\": [\"horse\",\"bird\",\"cow\",\"monkey\"]\n",
        "}\n",
        "if \"fruit\" in dict_:\n",
        "    print(\"True\")\n",
        "else:\n",
        "    print(\"False\")"
      ],
      "execution_count": null,
      "outputs": [
        {
          "output_type": "stream",
          "text": [
            "True\n"
          ],
          "name": "stdout"
        }
      ]
    },
    {
      "cell_type": "code",
      "metadata": {
        "colab": {
          "base_uri": "https://localhost:8080/"
        },
        "id": "vTvhC3NIweqk",
        "outputId": "d67a1b32-d596-430f-a94b-9e58a30ba4e2"
      },
      "source": [
        "person = {\n",
        "    \"Name\": 'Branden',\n",
        "    \"Specialty\": 'IT',\n",
        "    \"Location\": 'US',\n",
        "}\n",
        "print(person) \n",
        "\n",
        "person[\"Specialty\"] = 'Data Science'\n",
        "print(person) \n",
        "\n",
        "del person[\"Location\"]\n",
        "print(person) \n",
        "\n",
        "person.update({\n",
        "    \"Location\": 'US',\n",
        "    \"Language\": 'Python'\n",
        "})\n",
        "print(person) "
      ],
      "execution_count": null,
      "outputs": [
        {
          "output_type": "stream",
          "text": [
            "{'Name': 'Branden', 'Specialty': 'IT', 'Location': 'US'}\n",
            "{'Name': 'Branden', 'Specialty': 'Data Science', 'Location': 'US'}\n",
            "{'Name': 'Branden', 'Specialty': 'Data Science'}\n",
            "{'Name': 'Branden', 'Specialty': 'Data Science', 'Location': 'US', 'Language': 'Python'}\n"
          ],
          "name": "stdout"
        }
      ]
    },
    {
      "cell_type": "code",
      "metadata": {
        "colab": {
          "base_uri": "https://localhost:8080/"
        },
        "id": "Jeuj92rcwq8U",
        "outputId": "50c5c702-5023-47d2-f17b-5b143f479388"
      },
      "source": [
        "person = {\n",
        "    \"Name\": 'Branden',\n",
        "    \"Specialty\": 'IT',\n",
        "    \"Location\": 'US',\n",
        "    \"Language\": 'Python'\n",
        "}\n",
        "print(person.pop(\"Language\"))\n",
        "print(person)"
      ],
      "execution_count": null,
      "outputs": [
        {
          "output_type": "stream",
          "text": [
            "Python\n",
            "{'Name': 'Branden', 'Specialty': 'IT', 'Location': 'US'}\n"
          ],
          "name": "stdout"
        }
      ]
    },
    {
      "cell_type": "code",
      "metadata": {
        "colab": {
          "base_uri": "https://localhost:8080/"
        },
        "id": "DxCR_B5twu32",
        "outputId": "b4885079-6080-4942-dbfa-48f78f65cbc4"
      },
      "source": [
        "dict_= dict()\n",
        "print(dict_.setdefault(\"key\", 'value1'))\n",
        "print(dict_)\n",
        "print(dict_.setdefault(\"key\", 'value2'))"
      ],
      "execution_count": null,
      "outputs": [
        {
          "output_type": "stream",
          "text": [
            "value1\n",
            "{'key': 'value1'}\n",
            "value1\n"
          ],
          "name": "stdout"
        }
      ]
    },
    {
      "cell_type": "code",
      "metadata": {
        "colab": {
          "base_uri": "https://localhost:8080/"
        },
        "id": "tKwb41YQw4W9",
        "outputId": "ebdf91fe-5361-489f-b66f-5d68eab643ba"
      },
      "source": [
        "person = {\n",
        "    \"Name\": 'Branden',\n",
        "    \"Specialty\": 'IT',\n",
        "    \"Location\": 'US',\n",
        "}\n",
        "\n",
        "for key in person:\n",
        "    print(key)\n",
        "\n",
        "for key, value in person.items():\n",
        "    print(\"{}: {}\".format(key, value))\n",
        "\n",
        "for value in person.values():\n",
        "    print(value)"
      ],
      "execution_count": null,
      "outputs": [
        {
          "output_type": "stream",
          "text": [
            "Name\n",
            "Specialty\n",
            "Location\n",
            "Name: Branden\n",
            "Specialty: IT\n",
            "Location: US\n",
            "Branden\n",
            "IT\n",
            "US\n"
          ],
          "name": "stdout"
        }
      ]
    },
    {
      "cell_type": "markdown",
      "metadata": {
        "id": "Vp-0zSLlxCSG"
      },
      "source": [
        "# Set"
      ]
    },
    {
      "cell_type": "code",
      "metadata": {
        "colab": {
          "base_uri": "https://localhost:8080/"
        },
        "id": "Oh8jihhMxAIp",
        "outputId": "45ea681b-7ecd-407c-a4ea-6d49502a3190"
      },
      "source": [
        "set_ = set()\n",
        "set_ = {1, 2, 2, 2, 2, 2, 3, 4, 4, 4, 4, 4, 5}\n",
        "\n",
        "print(set_)\n",
        "\n",
        "print(5 in set_)"
      ],
      "execution_count": null,
      "outputs": [
        {
          "output_type": "stream",
          "text": [
            "{1, 2, 3, 4, 5}\n",
            "True\n"
          ],
          "name": "stdout"
        }
      ]
    },
    {
      "cell_type": "code",
      "metadata": {
        "colab": {
          "base_uri": "https://localhost:8080/"
        },
        "id": "H_LU2p8JxSNT",
        "outputId": "95358980-f898-44c9-fd52-db7fe032bbc4"
      },
      "source": [
        "num_set = set()\n",
        "\n",
        "for x in range(5):\n",
        "    num_set.add(x)\n",
        "\n",
        "  \n",
        "print(num_set)\n",
        "\n",
        "num_set.remove(0)\n",
        "print(num_set)\n",
        "\n",
        "num_set.discard(1)\n",
        "print(num_set)\n",
        "\n",
        "num_set.discard(1)\n",
        "print(num_set)"
      ],
      "execution_count": 41,
      "outputs": [
        {
          "output_type": "stream",
          "text": [
            "{0, 1, 2, 3, 4}\n",
            "{1, 2, 3, 4}\n",
            "{2, 3, 4}\n",
            "{2, 3, 4}\n"
          ],
          "name": "stdout"
        }
      ]
    },
    {
      "cell_type": "code",
      "metadata": {
        "colab": {
          "base_uri": "https://localhost:8080/"
        },
        "id": "ERUigACAyR8e",
        "outputId": "44a8f554-69ac-4406-cbd0-c1861c584dd1"
      },
      "source": [
        "num_set.clear()\n",
        "print(num_set)"
      ],
      "execution_count": 54,
      "outputs": [
        {
          "output_type": "stream",
          "text": [
            "set()\n"
          ],
          "name": "stdout"
        }
      ]
    },
    {
      "cell_type": "code",
      "metadata": {
        "colab": {
          "base_uri": "https://localhost:8080/"
        },
        "id": "oCbAmuG8wGUj",
        "outputId": "18446df5-2a70-4ccd-914f-53989d9916ad"
      },
      "source": [
        "set_ = {1, 2, 3, 4, 5, 10, 20, 100}\n",
        "for i in set_:\n",
        "    print(i)"
      ],
      "execution_count": 45,
      "outputs": [
        {
          "output_type": "stream",
          "text": [
            "1\n",
            "2\n",
            "3\n",
            "4\n",
            "5\n",
            "100\n",
            "10\n",
            "20\n"
          ],
          "name": "stdout"
        }
      ]
    },
    {
      "cell_type": "code",
      "metadata": {
        "colab": {
          "base_uri": "https://localhost:8080/"
        },
        "id": "S86f9OazxVSi",
        "outputId": "c8a21910-1774-49f7-d1ef-947d3b1369ea"
      },
      "source": [
        "import random\n",
        "\n",
        "set_one = set()\n",
        "set_two = set()\n",
        "\n",
        "for x in range(13):\n",
        "    set_one.add(x)\n",
        "\n",
        "for _ in range(13):\n",
        "    set_two.add(random.randint(7,20))\n",
        "  \n",
        "  \n",
        "union_set = set_one | set_two\n",
        "union_set = set_one.union(set_two)\n",
        "\n",
        "intersection_set = set_one & set_two\n",
        "intersection_set = set_one.intersection(set_two)\n",
        "\n",
        "difference_set = set_one - set_two\n",
        "difference_set = set_one.difference(set_two)\n",
        "\n",
        "symmetric_difference_set = set_one ^ set_two\n",
        "symmetric_difference_set = set_one.symmetric_difference(set_two)\n",
        "\n",
        "print(set_one)\n",
        "print(set_two)\n",
        "print(union_set)\n",
        "print(intersection_set)\n",
        "print(difference_set)\n",
        "print(symmetric_difference_set)"
      ],
      "execution_count": null,
      "outputs": [
        {
          "output_type": "stream",
          "text": [
            "{0, 1, 2, 3, 4, 5, 6, 7, 8, 9, 10, 11, 12}\n",
            "{7, 8, 10, 11, 13, 14, 17, 20}\n",
            "{0, 1, 2, 3, 4, 5, 6, 7, 8, 9, 10, 11, 12, 13, 14, 17, 20}\n",
            "{8, 10, 11, 7}\n",
            "{0, 1, 2, 3, 4, 5, 6, 9, 12}\n",
            "{0, 1, 2, 3, 4, 5, 6, 9, 12, 13, 14, 17, 20}\n"
          ],
          "name": "stdout"
        }
      ]
    },
    {
      "cell_type": "code",
      "metadata": {
        "colab": {
          "base_uri": "https://localhost:8080/"
        },
        "id": "YtmaLlXGxKEk",
        "outputId": "0126f814-c6d0-4652-c554-8de7e7850b3b"
      },
      "source": [
        "set_one = {1,2,3}\n",
        "set_two = {1,2,3,4,5}\n",
        "print(set_one.issubset(set_two))\n",
        "print(set_two.issubset(set_one))"
      ],
      "execution_count": 53,
      "outputs": [
        {
          "output_type": "stream",
          "text": [
            "True\n",
            "False\n"
          ],
          "name": "stdout"
        }
      ]
    },
    {
      "cell_type": "code",
      "metadata": {
        "colab": {
          "base_uri": "https://localhost:8080/"
        },
        "id": "kQ0b50csxYO6",
        "outputId": "feda150c-fa14-4101-9ca7-35b1cf0b9f05"
      },
      "source": [
        "set_one = {1,2,3}\n",
        "set_two = {1,2,3,4,5}\n",
        "print(set_one.issuperset(set_two))\n",
        "print(set_two.issuperset(set_one))"
      ],
      "execution_count": 49,
      "outputs": [
        {
          "output_type": "stream",
          "text": [
            "False\n",
            "True\n"
          ],
          "name": "stdout"
        }
      ]
    },
    {
      "cell_type": "code",
      "metadata": {
        "colab": {
          "base_uri": "https://localhost:8080/"
        },
        "id": "Xu2JA12CxaHU",
        "outputId": "f234e284-bbdd-47b1-a4e6-55f65edb5061"
      },
      "source": [
        "set_one = {1,2,3}\n",
        "set_two = {1,2,3,4,5}\n",
        "print(set_one.isdisjoint(set_two))"
      ],
      "execution_count": 50,
      "outputs": [
        {
          "output_type": "stream",
          "text": [
            "False\n"
          ],
          "name": "stdout"
        }
      ]
    },
    {
      "cell_type": "code",
      "metadata": {
        "colab": {
          "base_uri": "https://localhost:8080/"
        },
        "id": "Op8cu90qxiIx",
        "outputId": "a1034547-f1af-4b45-a63e-60fc0d6a9ffc"
      },
      "source": [
        "set_one = {1,2,3}\n",
        "set_two = {4,5,6}\n",
        "print(set_one.isdisjoint(set_two))"
      ],
      "execution_count": 51,
      "outputs": [
        {
          "output_type": "stream",
          "text": [
            "True\n"
          ],
          "name": "stdout"
        }
      ]
    }
  ]
}