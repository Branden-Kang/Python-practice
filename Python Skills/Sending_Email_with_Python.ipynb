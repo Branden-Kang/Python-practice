{
  "nbformat": 4,
  "nbformat_minor": 0,
  "metadata": {
    "colab": {
      "name": "Sending Email with Python.ipynb",
      "provenance": [],
      "authorship_tag": "ABX9TyPZFSwPtR6x0ebyCq76gYE/"
    },
    "kernelspec": {
      "name": "python3",
      "display_name": "Python 3"
    },
    "language_info": {
      "name": "python"
    }
  },
  "cells": [
    {
      "cell_type": "markdown",
      "metadata": {
        "id": "d3gSrMSGt8sZ"
      },
      "source": [
        "[Reference](https://levelup.gitconnected.com/sending-email-with-python-c6bdc9a07cb5)"
      ]
    },
    {
      "cell_type": "code",
      "metadata": {
        "colab": {
          "base_uri": "https://localhost:8080/"
        },
        "id": "AhvHEETBtIcf",
        "outputId": "7f393934-3eb7-4d66-a09f-5b8d56c8f733"
      },
      "source": [
        "!pip install smtp"
      ],
      "execution_count": 3,
      "outputs": [
        {
          "output_type": "stream",
          "text": [
            "\u001b[31mERROR: Could not find a version that satisfies the requirement smtp (from versions: none)\u001b[0m\n",
            "\u001b[31mERROR: No matching distribution found for smtp\u001b[0m\n"
          ],
          "name": "stdout"
        }
      ]
    },
    {
      "cell_type": "code",
      "metadata": {
        "colab": {
          "base_uri": "https://localhost:8080/"
        },
        "id": "lj3m1KHzttTO",
        "outputId": "f25ead10-7c9a-46b1-c15c-441a1cb9a0c3"
      },
      "source": [
        "!pip install email"
      ],
      "execution_count": 4,
      "outputs": [
        {
          "output_type": "stream",
          "text": [
            "Collecting email\n",
            "  Using cached https://files.pythonhosted.org/packages/71/e7/816030d3b0426c130040bd068be62b9213357ed02896f5d9badcf46d1b5f/email-4.0.2.tar.gz\n",
            "\u001b[31mERROR: Command errored out with exit status 1: python setup.py egg_info Check the logs for full command output.\u001b[0m\n"
          ],
          "name": "stdout"
        }
      ]
    },
    {
      "cell_type": "code",
      "metadata": {
        "id": "WR7_PMe1uImy"
      },
      "source": [
        "#installing respective modules\n",
        "import smtplib\n",
        "from email.mime.multipart import MIMEMultipart\n",
        "from email.mime.text import MIMEText"
      ],
      "execution_count": 5,
      "outputs": []
    },
    {
      "cell_type": "code",
      "metadata": {
        "id": "348zWCyjuKWO"
      },
      "source": [
        "import smtplib\n",
        "from email.mime.multipart import MIMEMultipart\n",
        "from email.mime.text import MIMEText\n",
        "mail_content = '''This is a simple mail'''\n",
        "#The mail addresses and password\n",
        "sender_address = 'sender123@gmail.com'\n",
        "sender_pass = 'xxxxxxxx'\n",
        "receiver_address = 'receiver567@gmail.com'"
      ],
      "execution_count": 6,
      "outputs": []
    },
    {
      "cell_type": "code",
      "metadata": {
        "id": "t0YX0RI0uPNV"
      },
      "source": [
        "import smtplib\n",
        "from email.mime.multipart import MIMEMultipart\n",
        "from email.mime.text import MIMEText\n",
        "mail_content = 'This is a simple mail'\n",
        "\n",
        "#The mail addresses and password\n",
        "sender_address = 'sender123@gmail.com'\n",
        "sender_pass = 'xxxxxxxx'\n",
        "receiver_address = 'receiver567@gmail.com'\n",
        "\n",
        "#Setup the MIME\n",
        "message = MIMEMultipart()\n",
        "message['From'] = sender_address\n",
        "message['To'] = receiver_address\n",
        "message['Subject'] = 'A test mail sent by Python. It has an attachment.'   #The subject line"
      ],
      "execution_count": 7,
      "outputs": []
    },
    {
      "cell_type": "code",
      "metadata": {
        "id": "qNEVHg51uRVn"
      },
      "source": [
        "import smtplib\n",
        "from email.mime.multipart import MIMEMultipart\n",
        "from email.mime.text import MIMEText\n",
        "mail_content = 'This is a simple mail'\n",
        "\n",
        "#The mail addresses and password\n",
        "sender_address = 'sender123@gmail.com'\n",
        "sender_pass = 'xxxxxxxx'\n",
        "receiver_address = 'receiver567@gmail.com'\n",
        "\n",
        "#Setup the MIME\n",
        "message = MIMEMultipart()\n",
        "message['From'] = sender_address\n",
        "message['To'] = receiver_address\n",
        "message['Subject'] = 'A test mail sent by Python. It has an attachment.'   #The subject line\n",
        "message.attach(MIMEText(mail_content, 'plain'))\n",
        "\n",
        "#Create SMTP session for sending the mail\n",
        "session = smtplib.SMTP('smtp.gmail.com', 587) #use gmail with port\n",
        "session.starttls() #enable security\n",
        "session.login(sender_address, sender_pass) #login with mail_id and password\n",
        "text = message.as_string()\n",
        "session.sendmail(sender_address, receiver_address, text)\n",
        "session.quit()\n",
        "print('Mail Sent')"
      ],
      "execution_count": 8,
      "outputs": []
    },
    {
      "cell_type": "code",
      "metadata": {
        "id": "gEL3b0CvuTnX"
      },
      "source": [
        "import email, smtplib, ssl\n",
        "from email import encoders\n",
        "from email.mime.base import MIMEBase\n",
        "from email.mime.multipart import MIMEMultipart\n",
        "from email.mime.text import MIMEText\n",
        "\n",
        "#The mail addresses and password\n",
        "sender_email = 'sender123@gmail.com'\n",
        "password = 'xxxxxxxx'\n",
        "receiver_address = 'receiver567@gmail.com'\n",
        "body=\"This is test email\"\n",
        "\n",
        "message = MIMEMultipart()\n",
        "message[\"From\"] = \"sender123@gmail.com\"\n",
        "message[\"To\"] = \"reciver123@gmail.com\"\n",
        "message[\"Subject\"] = \"Test Mail\"\n",
        "message[\"Bcc\"] = \"reciver123@gmail.com\" \n",
        "message.attach(MIMEText(body, \"plain\"))\n",
        "\n",
        "filename = \"excel.xlsx\" \n",
        "with open(filename, \"rb\") as attachment:\n",
        "  part = MIMEBase(\"application\", \"octet-stream\")\n",
        "  part.set_payload(attachment.read())\n",
        "encoders.encode_base64(part)"
      ],
      "execution_count": 9,
      "outputs": []
    },
    {
      "cell_type": "code",
      "metadata": {
        "id": "j2IwHvWfuXaf"
      },
      "source": [
        "import email, smtplib, ssl\n",
        "from email import encoders\n",
        "from email.mime.base import MIMEBase\n",
        "from email.mime.multipart import MIMEMultipart\n",
        "from email.mime.text import MIMEText\n",
        "\n",
        "#The mail addresses and password\n",
        "sender_email = 'sender123@gmail.com'\n",
        "password = 'xxxxxxxx'\n",
        "receiver_address = 'receiver567@gmail.com'\n",
        "body=\"This is test email\"\n",
        "\n",
        "message = MIMEMultipart()\n",
        "message[\"From\"] = \"sender123@gmail.com\"\n",
        "message[\"To\"] = \"reciver123@gmail.com\"\n",
        "message[\"Subject\"] = \"Test Mail\"\n",
        "message[\"Bcc\"] = \"reciver123@gmail.com\" \n",
        "message.attach(MIMEText(body, \"plain\"))\n",
        "\n",
        "filename = \"excel.xlsx\" \n",
        "with open(filename, \"rb\") as attachment:\n",
        "  part = MIMEBase(\"application\", \"octet-stream\")\n",
        "  part.set_payload(attachment.read())\n",
        "\n",
        "encoders.encode_base64(part)\n",
        "\n",
        "part.add_header(\n",
        "  \"Content-Disposition\",\n",
        "  f\"attachment; filename= {filename}\",)\n",
        "message.attach(part)\n",
        "\n",
        "text = message.as_string()\n",
        "context = ssl.create_default_context()\n",
        "with smtplib.SMTP_SSL(\"smtp.gmail.com\", 465, context=context) as server:\n",
        "  server.login(sender_email, password)\n",
        "  server.sendmail(sender_email, receiver_email, text)\n",
        "\n",
        "print(\"Email Sended\")  "
      ],
      "execution_count": 10,
      "outputs": []
    }
  ]
}