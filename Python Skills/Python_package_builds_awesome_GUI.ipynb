{
  "nbformat": 4,
  "nbformat_minor": 0,
  "metadata": {
    "colab": {
      "name": "Python package builds awesome GUI.ipynb",
      "provenance": [],
      "authorship_tag": "ABX9TyMF0tuXSkku1l6IIxGt+hQH"
    },
    "kernelspec": {
      "name": "python3",
      "display_name": "Python 3"
    },
    "language_info": {
      "name": "python"
    }
  },
  "cells": [
    {
      "cell_type": "markdown",
      "metadata": {
        "id": "a9KOosADKJcY"
      },
      "source": [
        "[Reference](https://preettheman.medium.com/this-new-python-package-builds-awesome-guis-150defda7915)"
      ]
    },
    {
      "cell_type": "code",
      "metadata": {
        "colab": {
          "base_uri": "https://localhost:8080/"
        },
        "id": "XoQJLmrnJ_tz",
        "outputId": "c79bf733-d7fb-48cc-d55a-c0f0633ef2cb"
      },
      "source": [
        "pip install dearpygui"
      ],
      "execution_count": 1,
      "outputs": [
        {
          "output_type": "stream",
          "name": "stdout",
          "text": [
            "Collecting dearpygui\n",
            "  Downloading dearpygui-1.0.2-cp37-cp37m-manylinux1_x86_64.whl (3.0 MB)\n",
            "\u001b[K     |████████████████████████████████| 3.0 MB 5.1 MB/s \n",
            "\u001b[?25hInstalling collected packages: dearpygui\n",
            "Successfully installed dearpygui-1.0.2\n"
          ]
        }
      ]
    },
    {
      "cell_type": "code",
      "metadata": {
        "id": "05VA8CdeKNYD"
      },
      "source": [
        "import dearpygui.dearpygui as dpg\n",
        "\n",
        "def save_callback():\n",
        "    print(\"Save Clicked\")dpg.create_context()\n",
        "dpg.create_viewport()\n",
        "dpg.setup_dearpygui()\n",
        "\n",
        "\n",
        "with dpg.window(label=\"Example Window\"):\n",
        "    dpg.add_text(\"Hello world\")\n",
        "    dpg.add_button(label=\"Save\", callback=save_callback)\n",
        "    dpg.add_input_text(label=\"string\")\n",
        "    dpg.add_slider_float(label=\"float\")\n",
        "    \n",
        "dpg.show_viewport()\n",
        "dpg.start_dearpygui()\n",
        "dpg.destroy_context()x"
      ],
      "execution_count": 2,
      "outputs": []
    }
  ]
}