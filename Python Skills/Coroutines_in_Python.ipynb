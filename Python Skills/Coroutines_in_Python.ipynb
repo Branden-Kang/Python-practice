{
  "nbformat": 4,
  "nbformat_minor": 0,
  "metadata": {
    "colab": {
      "name": "Coroutines in Python.ipynb",
      "provenance": [],
      "authorship_tag": "ABX9TyM+wCQmVUo97t63w28yCdmz"
    },
    "kernelspec": {
      "name": "python3",
      "display_name": "Python 3"
    }
  },
  "cells": [
    {
      "cell_type": "code",
      "metadata": {
        "colab": {
          "base_uri": "https://localhost:8080/"
        },
        "id": "AcBWE_HyEbig",
        "outputId": "0dfb7fb8-c756-4bbb-a9a4-3fa207f2ef6b"
      },
      "source": [
        "x = [1, 2, 3, 4, 5]\n",
        "for i in x:\n",
        "    print(i)"
      ],
      "execution_count": 1,
      "outputs": [
        {
          "output_type": "stream",
          "text": [
            "1\n",
            "2\n",
            "3\n",
            "4\n",
            "5\n"
          ],
          "name": "stdout"
        }
      ]
    },
    {
      "cell_type": "code",
      "metadata": {
        "colab": {
          "base_uri": "https://localhost:8080/"
        },
        "id": "fI5gndvaEd-I",
        "outputId": "521d514f-2e2d-480b-f192-0fd9359439e8"
      },
      "source": [
        "x = [1, 2, 3, 4, 5]\n",
        "y = iter(x)\n",
        "try:\n",
        "    while True:\n",
        "        print(next(y))\n",
        "except StopIteration as e:\n",
        "    pass"
      ],
      "execution_count": 2,
      "outputs": [
        {
          "output_type": "stream",
          "text": [
            "1\n",
            "2\n",
            "3\n",
            "4\n",
            "5\n"
          ],
          "name": "stdout"
        }
      ]
    },
    {
      "cell_type": "code",
      "metadata": {
        "colab": {
          "base_uri": "https://localhost:8080/"
        },
        "id": "-Qx5pU6CEg7U",
        "outputId": "f8eb625d-801e-4774-942d-a43b1dbcc8c6"
      },
      "source": [
        "def func():\n",
        "    print('Function Starts')\n",
        "\n",
        "    yield\n",
        "\n",
        "    print('Function Ends')\n",
        "\n",
        "\n",
        "try:\n",
        "    y = func()\n",
        "    print(type(y))\n",
        "    next(y)  # First part of the function executed\n",
        "    next(y)  # Second part of the function executed\n",
        "\n",
        "except StopIteration as e:\n",
        "    pass"
      ],
      "execution_count": 3,
      "outputs": [
        {
          "output_type": "stream",
          "text": [
            "<class 'generator'>\n",
            "Function Starts\n",
            "Function Ends\n"
          ],
          "name": "stdout"
        }
      ]
    },
    {
      "cell_type": "code",
      "metadata": {
        "colab": {
          "base_uri": "https://localhost:8080/"
        },
        "id": "dzfnl-RLEwNn",
        "outputId": "0a01daa3-9543-4ef0-c55a-81c692934561"
      },
      "source": [
        "def func():\n",
        "    x = 5\n",
        "    print('Function Part 1')\n",
        "\n",
        "    yield x\n",
        "    x += 7\n",
        "    print('Function part 2')\n",
        "\n",
        "    yield x\n",
        "\n",
        "    print('Function part 3')\n",
        "\n",
        "\n",
        "try:\n",
        "    y = func()\n",
        "    z = next(y)\t\t# Function part 1 executed\n",
        "    print(z)\n",
        "\n",
        "    z = next(y)\t\t# Function part 2 executed\n",
        "    print(z)\n",
        "\n",
        "    z = next(y)\t\t# Function part 3 executed and StopIteration exception raised\n",
        "    print(z) \t \t# This print will not be executed\n",
        "\n",
        "except StopIteration as e:\n",
        "    pass"
      ],
      "execution_count": 4,
      "outputs": [
        {
          "output_type": "stream",
          "text": [
            "Function Part 1\n",
            "5\n",
            "Function part 2\n",
            "12\n",
            "Function part 3\n"
          ],
          "name": "stdout"
        }
      ]
    },
    {
      "cell_type": "code",
      "metadata": {
        "colab": {
          "base_uri": "https://localhost:8080/"
        },
        "id": "9YBZcibBIa0y",
        "outputId": "a9062b2b-b347-4813-f02d-afbc653e29a0"
      },
      "source": [
        "def func():\n",
        "    print('Function part 1')\n",
        "\n",
        "    x = yield\n",
        "    print(x)\n",
        "    print('Function part 2')\n",
        "\n",
        "    a = yield\n",
        "    print(a)\n",
        "    print('Function part 3')\n",
        "\n",
        "\n",
        "try:\n",
        "\n",
        "    y = func()\n",
        "\n",
        "    next(y)\t        # Function part 1 executed, to reach the first yield we used next\n",
        "\n",
        "    y.send(6)\t\t# Function part 2 executed and value sent 6\n",
        "\n",
        "    y.send(12)\t\t# Function part 2 executed and value sent 12 and StopIteration raised\n",
        "\n",
        "except StopIteration as e:\n",
        "    pass"
      ],
      "execution_count": 5,
      "outputs": [
        {
          "output_type": "stream",
          "text": [
            "Function part 1\n",
            "6\n",
            "Function part 2\n",
            "12\n",
            "Function part 3\n"
          ],
          "name": "stdout"
        }
      ]
    },
    {
      "cell_type": "code",
      "metadata": {
        "colab": {
          "base_uri": "https://localhost:8080/"
        },
        "id": "CvlUcO14IjL-",
        "outputId": "3545bf0f-17a6-46e5-c6bc-49c5d8e51d00"
      },
      "source": [
        "def func1():\n",
        "    print('Function 1 part 1')\n",
        "\n",
        "    yield\n",
        "    print('Function 1 part 2')\n",
        "\n",
        "    yield\n",
        "    print('Function 1 part 3')\n",
        "\n",
        "    yield\n",
        "    print('Function 1 part 4')\n",
        "\n",
        "    yield\n",
        "    print('Function 1 part 5')\n",
        "\n",
        "\n",
        "def func2():\n",
        "    print('Function 2 part 1')\n",
        "\n",
        "    yield\n",
        "    print('Function 2 part 2')\n",
        "\n",
        "    yield\n",
        "    print('Function 2 part 3')\n",
        "\n",
        "    yield\n",
        "    print('Function 2 part 4')\n",
        "\n",
        "    yield\n",
        "    print('Function 2 part 5')\n",
        "\n",
        "\n",
        "try:\n",
        "\n",
        "    a = func1()\n",
        "    b = func2()\n",
        "\n",
        "    next(a)  \t# Will execute Function 1 part 1\n",
        "    next(b)  \t# Will execute Function 2 part 1\n",
        "    next(a)  \t# Will execute Function 1 part 2\n",
        "    next(a)  \t# Will execute Function 1 part 3\n",
        "    next(b)  \t# Will execute Function 2 part 2\n",
        "    next(b)  \t# Will execute Function 2 part 3\n",
        "    next(b)  \t# Will execute Function 2 part 4\n",
        "    next(a)  \t# Will execute Function 1 part 4\n",
        "    next(a)  \t# Will execute Function 1 part 5 and raise StopIteration exception\n",
        "\n",
        "except StopIteration as e:\n",
        "    pass"
      ],
      "execution_count": 7,
      "outputs": [
        {
          "output_type": "stream",
          "text": [
            "Function 1 part 1\n",
            "Function 2 part 1\n",
            "Function 1 part 2\n",
            "Function 1 part 3\n",
            "Function 2 part 2\n",
            "Function 2 part 3\n",
            "Function 2 part 4\n",
            "Function 1 part 4\n",
            "Function 1 part 5\n"
          ],
          "name": "stdout"
        }
      ]
    }
  ]
}