{
  "nbformat": 4,
  "nbformat_minor": 0,
  "metadata": {
    "colab": {
      "name": "Using Python’s built-in functions and libraries.ipynb",
      "provenance": [],
      "authorship_tag": "ABX9TyMc5BhyURLD4j2nuc+4Pwmf"
    },
    "kernelspec": {
      "name": "python3",
      "display_name": "Python 3"
    }
  },
  "cells": [
    {
      "cell_type": "markdown",
      "metadata": {
        "id": "6CeVkzpZ1E5U"
      },
      "source": [
        "[Reference](https://medium.com/dev-genius/using-pythons-built-in-functions-and-libraries-593983dd56cd)"
      ]
    },
    {
      "cell_type": "code",
      "metadata": {
        "id": "xXKrwTmV1DeT"
      },
      "source": [
        "multiples = []\n",
        "for i in range(1, 6):\n",
        "    multiples.append(i * 2)"
      ],
      "execution_count": 1,
      "outputs": []
    },
    {
      "cell_type": "code",
      "metadata": {
        "id": "Omnx1GjX1Heu"
      },
      "source": [
        "multiples = [i * 2 for i in range(1, 6)]"
      ],
      "execution_count": 2,
      "outputs": []
    },
    {
      "cell_type": "code",
      "metadata": {
        "id": "wK4vJMBK1KF4"
      },
      "source": [
        "data = [('Alice', 20), ('Bob', 30), ('Charles', 40)]"
      ],
      "execution_count": 3,
      "outputs": []
    },
    {
      "cell_type": "code",
      "metadata": {
        "id": "hpYXHeG01K5-"
      },
      "source": [
        "data_dict = {name: age for name, age in data}"
      ],
      "execution_count": 4,
      "outputs": []
    },
    {
      "cell_type": "markdown",
      "metadata": {
        "id": "S1aP2dIA1Mw5"
      },
      "source": [
        "# zip()"
      ]
    },
    {
      "cell_type": "code",
      "metadata": {
        "id": "RpP_RqV21Lx0"
      },
      "source": [
        "data = [('Alice', 20), ('Bob', 30), ('Charles', 40)]"
      ],
      "execution_count": 5,
      "outputs": []
    },
    {
      "cell_type": "code",
      "metadata": {
        "id": "ijtMrhoc1Omh"
      },
      "source": [
        "names, ages = zip(*data)\n",
        "new_data = {'names': list(names), 'ages': list(ages)}"
      ],
      "execution_count": 6,
      "outputs": []
    },
    {
      "cell_type": "code",
      "metadata": {
        "colab": {
          "base_uri": "https://localhost:8080/"
        },
        "id": "BMl2_7Ui1Qad",
        "outputId": "c2fac47b-10d4-4307-db9e-c4f84c03aa01"
      },
      "source": [
        "new_data"
      ],
      "execution_count": 7,
      "outputs": [
        {
          "output_type": "execute_result",
          "data": {
            "text/plain": [
              "{'ages': [20, 30, 40], 'names': ['Alice', 'Bob', 'Charles']}"
            ]
          },
          "metadata": {
            "tags": []
          },
          "execution_count": 7
        }
      ]
    },
    {
      "cell_type": "code",
      "metadata": {
        "id": "vNe2JZ_m1SGs"
      },
      "source": [
        "new_data = {k: list(v) for k, v in zip(('names', 'ages'), zip(*data))}"
      ],
      "execution_count": 8,
      "outputs": []
    },
    {
      "cell_type": "code",
      "metadata": {
        "colab": {
          "base_uri": "https://localhost:8080/"
        },
        "id": "jfZTtd2R1UWI",
        "outputId": "fce974b8-f488-48a0-f1ac-177536afce1f"
      },
      "source": [
        "a = [1, 2, 3]\n",
        "b = ['a', 'b', 'c']\n",
        "c = list(zip(a, b))\n",
        "c"
      ],
      "execution_count": 9,
      "outputs": [
        {
          "output_type": "execute_result",
          "data": {
            "text/plain": [
              "[(1, 'a'), (2, 'b'), (3, 'c')]"
            ]
          },
          "metadata": {
            "tags": []
          },
          "execution_count": 9
        }
      ]
    },
    {
      "cell_type": "code",
      "metadata": {
        "id": "maJfbQBi1WOh"
      },
      "source": [
        "integers = [1, 5, 7, 9, 11]  # some list of integers\n",
        "if [i for i in integers if i % 2 == 0]:\n",
        "    print(i)"
      ],
      "execution_count": 11,
      "outputs": []
    },
    {
      "cell_type": "code",
      "metadata": {
        "id": "eBHb0bkP1YWZ"
      },
      "source": [
        "integers = [1, 5, 7, 9, 11]\n",
        "if any(i % 2 == 0 for i in integers):\n",
        "    print(i)"
      ],
      "execution_count": 12,
      "outputs": []
    },
    {
      "cell_type": "code",
      "metadata": {
        "colab": {
          "base_uri": "https://localhost:8080/"
        },
        "id": "fJ9vbmu-1eov",
        "outputId": "303e001f-181f-46ad-c1b4-ac165d1c9c30"
      },
      "source": [
        "if all(i % 2 == 1 for i in integers):\n",
        "    print(i)"
      ],
      "execution_count": 13,
      "outputs": [
        {
          "output_type": "stream",
          "text": [
            "5\n"
          ],
          "name": "stdout"
        }
      ]
    },
    {
      "cell_type": "markdown",
      "metadata": {
        "id": "AaKEwafF1ktd"
      },
      "source": [
        "# map()"
      ]
    },
    {
      "cell_type": "code",
      "metadata": {
        "id": "f9n7OQ6g1ixY"
      },
      "source": [
        "integers = [1, 2, 3, 4]\n",
        "squares = [i ** 2 for i in integers]"
      ],
      "execution_count": 14,
      "outputs": []
    },
    {
      "cell_type": "code",
      "metadata": {
        "id": "mIBdOYjC1lzS"
      },
      "source": [
        "squares = list(map(lambda x: x ** 2, integers))"
      ],
      "execution_count": 15,
      "outputs": []
    },
    {
      "cell_type": "code",
      "metadata": {
        "id": "kGCodlmQ1mzx"
      },
      "source": [
        "def square(x):\n",
        "    return x ** 2\n",
        "\n",
        "squares = list(map(square, integers))"
      ],
      "execution_count": 16,
      "outputs": []
    },
    {
      "cell_type": "code",
      "metadata": {
        "id": "2i1bNyDy1n1c"
      },
      "source": [
        "squares_sum = sum(map(lambda x: x ** 2, integers))"
      ],
      "execution_count": 17,
      "outputs": []
    },
    {
      "cell_type": "markdown",
      "metadata": {
        "id": "RMDUskgn1p8E"
      },
      "source": [
        "# sorted()"
      ]
    },
    {
      "cell_type": "code",
      "metadata": {
        "id": "nLS6nzDX1pYz"
      },
      "source": [
        "data = [('Alice', 20), ('Bob', 30), ('Charles', 40)]"
      ],
      "execution_count": 18,
      "outputs": []
    },
    {
      "cell_type": "code",
      "metadata": {
        "id": "x-0whKfK1rxd"
      },
      "source": [
        "sorted_data = sorted(data, key=lambda x: x[1], reverse=True)"
      ],
      "execution_count": 19,
      "outputs": []
    },
    {
      "cell_type": "markdown",
      "metadata": {
        "id": "QGmstXEm1tBp"
      },
      "source": [
        "# collections"
      ]
    },
    {
      "cell_type": "code",
      "metadata": {
        "id": "kls4rnw_1sCP"
      },
      "source": [
        "data = [('Alice', 'S'), ('Bob', 'L'), ('Charles', 'M'), ('David', 'L')]"
      ],
      "execution_count": 20,
      "outputs": []
    },
    {
      "cell_type": "code",
      "metadata": {
        "id": "IexTqcJk1xIk"
      },
      "source": [
        "names_by_size = {}\n",
        "for name, size in data:\n",
        "    if size in names_by_size:\n",
        "        names_by_size[size].append(name)\n",
        "    else:\n",
        "        names_by_size[size] = [name]"
      ],
      "execution_count": 21,
      "outputs": []
    },
    {
      "cell_type": "code",
      "metadata": {
        "id": "4MKaVmZ11x8f"
      },
      "source": [
        "from collections import defaultdict\n",
        "\n",
        "names_by_size = defaultdict(list)\n",
        "for name, size in data:\n",
        "    names_by_size[size].append(name)"
      ],
      "execution_count": 22,
      "outputs": []
    },
    {
      "cell_type": "code",
      "metadata": {
        "colab": {
          "base_uri": "https://localhost:8080/"
        },
        "id": "nhjR-Rte170r",
        "outputId": "24847d8e-32f2-4d09-a7ef-38a48e1f5b71"
      },
      "source": [
        "names_by_size"
      ],
      "execution_count": 24,
      "outputs": [
        {
          "output_type": "execute_result",
          "data": {
            "text/plain": [
              "defaultdict(list, {'L': ['Bob', 'David'], 'M': ['Charles'], 'S': ['Alice']})"
            ]
          },
          "metadata": {
            "tags": []
          },
          "execution_count": 24
        }
      ]
    },
    {
      "cell_type": "code",
      "metadata": {
        "colab": {
          "base_uri": "https://localhost:8080/"
        },
        "id": "NvjC6d9e12et",
        "outputId": "146ea02f-3452-438f-f40d-a0050dfcee73"
      },
      "source": [
        "from collections import Counter\n",
        "\n",
        "letters = ['a', 'b', 'c', 'a', 'b']\n",
        "letters_count = Counter(letters)\n",
        "letters_count "
      ],
      "execution_count": 25,
      "outputs": [
        {
          "output_type": "execute_result",
          "data": {
            "text/plain": [
              "Counter({'a': 2, 'b': 2, 'c': 1})"
            ]
          },
          "metadata": {
            "tags": []
          },
          "execution_count": 25
        }
      ]
    },
    {
      "cell_type": "code",
      "metadata": {
        "colab": {
          "base_uri": "https://localhost:8080/"
        },
        "id": "EogWMtMF1_r1",
        "outputId": "2d0e2f14-8acc-4802-b9ff-331cf47bbd11"
      },
      "source": [
        "letters_count.elements()"
      ],
      "execution_count": 26,
      "outputs": [
        {
          "output_type": "execute_result",
          "data": {
            "text/plain": [
              "<itertools.chain at 0x7fd8af12ae48>"
            ]
          },
          "metadata": {
            "tags": []
          },
          "execution_count": 26
        }
      ]
    },
    {
      "cell_type": "code",
      "metadata": {
        "colab": {
          "base_uri": "https://localhost:8080/"
        },
        "id": "DJCzfZMe2AiL",
        "outputId": "283f3ab9-9f41-48e9-b773-c3e26e83f6d7"
      },
      "source": [
        "letters_count.most_common()"
      ],
      "execution_count": 27,
      "outputs": [
        {
          "output_type": "execute_result",
          "data": {
            "text/plain": [
              "[('a', 2), ('b', 2), ('c', 1)]"
            ]
          },
          "metadata": {
            "tags": []
          },
          "execution_count": 27
        }
      ]
    },
    {
      "cell_type": "markdown",
      "metadata": {
        "id": "Y6iazmvm2DuI"
      },
      "source": [
        "# itertools"
      ]
    },
    {
      "cell_type": "code",
      "metadata": {
        "id": "bT0UouVl2BOh"
      },
      "source": [
        "from itertools import combinations\n",
        "\n",
        "scores = [2, 4, 3, 6, 4, 5, 7]\n",
        "matches = 0\n",
        "for score_1, score_2 in combinations(scores, 2):\n",
        "    if score_1 + score_2 > 10:\n",
        "        matches += 1"
      ],
      "execution_count": 29,
      "outputs": []
    },
    {
      "cell_type": "code",
      "metadata": {
        "id": "0rOpYNkl2FOU"
      },
      "source": [
        "atches = sum([1 for score_1, score_2 in combinations(scores, 2) if score_1 + score_2 > 10])"
      ],
      "execution_count": 30,
      "outputs": []
    },
    {
      "cell_type": "code",
      "metadata": {
        "colab": {
          "base_uri": "https://localhost:8080/"
        },
        "id": "fq00ZrKK2Hcn",
        "outputId": "0f482715-3b26-4e9e-9468-e7c870e6e4d5"
      },
      "source": [
        "from itertools import chain\n",
        "\n",
        "chain('ABC', 'DEF')"
      ],
      "execution_count": 31,
      "outputs": [
        {
          "output_type": "execute_result",
          "data": {
            "text/plain": [
              "<itertools.chain at 0x7fd8af0eaac8>"
            ]
          },
          "metadata": {
            "tags": []
          },
          "execution_count": 31
        }
      ]
    },
    {
      "cell_type": "code",
      "metadata": {
        "colab": {
          "base_uri": "https://localhost:8080/"
        },
        "id": "aw0E3GBe2KFp",
        "outputId": "f9a535e5-1373-42fe-98d0-3951b4370fce"
      },
      "source": [
        "chain.from_iterable(['ABC', 'DEF'])"
      ],
      "execution_count": 32,
      "outputs": [
        {
          "output_type": "execute_result",
          "data": {
            "text/plain": [
              "<itertools.chain at 0x7fd8af0ea588>"
            ]
          },
          "metadata": {
            "tags": []
          },
          "execution_count": 32
        }
      ]
    },
    {
      "cell_type": "code",
      "metadata": {
        "id": "roqJFW2c2Lfe"
      },
      "source": [
        "my_dicts = [{1: 2, 2: 3, 4: 5}, {6: 7, 8: 9, 4: 11}]\n",
        "combined = dict(chain.from_iterable(d.items() for d in my_dicts))"
      ],
      "execution_count": 33,
      "outputs": []
    },
    {
      "cell_type": "markdown",
      "metadata": {
        "id": "aIuQFDpi2OYk"
      },
      "source": [
        "# more_itertools"
      ]
    },
    {
      "cell_type": "code",
      "metadata": {
        "id": "KS6T5E0y2NKd"
      },
      "source": [
        "from more_itertools import chunked\n",
        "\n",
        "my_list = [1, 2, 3, 4, 5, 6, 7, 8]\n",
        "chunks = list(chunked(my_list, 3)) "
      ],
      "execution_count": 34,
      "outputs": []
    },
    {
      "cell_type": "code",
      "metadata": {
        "colab": {
          "base_uri": "https://localhost:8080/"
        },
        "id": "cSJIy-KD2ROX",
        "outputId": "cd501916-f01f-478c-d52c-d5e23883ee33"
      },
      "source": [
        "from more_itertools import peekable\n",
        "\n",
        "p = peekable([1, 2])\n",
        "p.peek()  # gives 1 without retrieving it from the iterator\n",
        "next(p)  # gives 1 and retrieves it from the iterator so we are left with peekable([2])"
      ],
      "execution_count": 36,
      "outputs": [
        {
          "output_type": "execute_result",
          "data": {
            "text/plain": [
              "1"
            ]
          },
          "metadata": {
            "tags": []
          },
          "execution_count": 36
        }
      ]
    },
    {
      "cell_type": "code",
      "metadata": {
        "colab": {
          "base_uri": "https://localhost:8080/"
        },
        "id": "lkpKBPv02Ukz",
        "outputId": "04e628e3-8893-4937-fd93-2b092bd95f00"
      },
      "source": [
        "next(p)"
      ],
      "execution_count": 37,
      "outputs": [
        {
          "output_type": "execute_result",
          "data": {
            "text/plain": [
              "2"
            ]
          },
          "metadata": {
            "tags": []
          },
          "execution_count": 37
        }
      ]
    },
    {
      "cell_type": "code",
      "metadata": {
        "colab": {
          "base_uri": "https://localhost:8080/",
          "height": 334
        },
        "id": "Oq97OoVn2XCe",
        "outputId": "1425d83c-04a1-4387-fd69-498b8750b48c"
      },
      "source": [
        "next(p)"
      ],
      "execution_count": 38,
      "outputs": [
        {
          "output_type": "error",
          "ename": "StopIteration",
          "evalue": "ignored",
          "traceback": [
            "\u001b[0;31m---------------------------------------------------------------------------\u001b[0m",
            "\u001b[0;31mStopIteration\u001b[0m                             Traceback (most recent call last)",
            "\u001b[0;32m<ipython-input-38-edf152ee890d>\u001b[0m in \u001b[0;36m<module>\u001b[0;34m()\u001b[0m\n\u001b[0;32m----> 1\u001b[0;31m \u001b[0mnext\u001b[0m\u001b[0;34m(\u001b[0m\u001b[0mp\u001b[0m\u001b[0;34m)\u001b[0m\u001b[0;34m\u001b[0m\u001b[0;34m\u001b[0m\u001b[0m\n\u001b[0m",
            "\u001b[0;32m/usr/local/lib/python3.6/dist-packages/more_itertools/more.py\u001b[0m in \u001b[0;36m__next__\u001b[0;34m(self)\u001b[0m\n\u001b[1;32m    351\u001b[0m             \u001b[0;32mreturn\u001b[0m \u001b[0mself\u001b[0m\u001b[0;34m.\u001b[0m\u001b[0m_cache\u001b[0m\u001b[0;34m.\u001b[0m\u001b[0mpopleft\u001b[0m\u001b[0;34m(\u001b[0m\u001b[0;34m)\u001b[0m\u001b[0;34m\u001b[0m\u001b[0;34m\u001b[0m\u001b[0m\n\u001b[1;32m    352\u001b[0m \u001b[0;34m\u001b[0m\u001b[0m\n\u001b[0;32m--> 353\u001b[0;31m         \u001b[0;32mreturn\u001b[0m \u001b[0mnext\u001b[0m\u001b[0;34m(\u001b[0m\u001b[0mself\u001b[0m\u001b[0;34m.\u001b[0m\u001b[0m_it\u001b[0m\u001b[0;34m)\u001b[0m\u001b[0;34m\u001b[0m\u001b[0;34m\u001b[0m\u001b[0m\n\u001b[0m\u001b[1;32m    354\u001b[0m \u001b[0;34m\u001b[0m\u001b[0m\n\u001b[1;32m    355\u001b[0m     \u001b[0;32mdef\u001b[0m \u001b[0m_get_slice\u001b[0m\u001b[0;34m(\u001b[0m\u001b[0mself\u001b[0m\u001b[0;34m,\u001b[0m \u001b[0mindex\u001b[0m\u001b[0;34m)\u001b[0m\u001b[0;34m:\u001b[0m\u001b[0;34m\u001b[0m\u001b[0;34m\u001b[0m\u001b[0m\n",
            "\u001b[0;31mStopIteration\u001b[0m: "
          ]
        }
      ]
    },
    {
      "cell_type": "code",
      "metadata": {
        "colab": {
          "base_uri": "https://localhost:8080/",
          "height": 368
        },
        "id": "LkEyeQ-J2ZLa",
        "outputId": "d18cee1e-f931-4b5c-d289-773d80adb42f"
      },
      "source": [
        "p = peekable([])\n",
        "p.peek()  # Would raise StopIteration\n",
        "p.peek('iterator is empty')  # returns 'iterator is empty' "
      ],
      "execution_count": 39,
      "outputs": [
        {
          "output_type": "error",
          "ename": "StopIteration",
          "evalue": "ignored",
          "traceback": [
            "\u001b[0;31m---------------------------------------------------------------------------\u001b[0m",
            "\u001b[0;31mStopIteration\u001b[0m                             Traceback (most recent call last)",
            "\u001b[0;32m<ipython-input-39-f5d92ab03372>\u001b[0m in \u001b[0;36m<module>\u001b[0;34m()\u001b[0m\n\u001b[1;32m      1\u001b[0m \u001b[0mp\u001b[0m \u001b[0;34m=\u001b[0m \u001b[0mpeekable\u001b[0m\u001b[0;34m(\u001b[0m\u001b[0;34m[\u001b[0m\u001b[0;34m]\u001b[0m\u001b[0;34m)\u001b[0m\u001b[0;34m\u001b[0m\u001b[0;34m\u001b[0m\u001b[0m\n\u001b[0;32m----> 2\u001b[0;31m \u001b[0mp\u001b[0m\u001b[0;34m.\u001b[0m\u001b[0mpeek\u001b[0m\u001b[0;34m(\u001b[0m\u001b[0;34m)\u001b[0m  \u001b[0;31m# Would raise StopIteration\u001b[0m\u001b[0;34m\u001b[0m\u001b[0;34m\u001b[0m\u001b[0m\n\u001b[0m\u001b[1;32m      3\u001b[0m \u001b[0mp\u001b[0m\u001b[0;34m.\u001b[0m\u001b[0mpeek\u001b[0m\u001b[0;34m(\u001b[0m\u001b[0;34m'iterator is empty'\u001b[0m\u001b[0;34m)\u001b[0m  \u001b[0;31m# returns 'iterator is empty'\u001b[0m\u001b[0;34m\u001b[0m\u001b[0;34m\u001b[0m\u001b[0m\n",
            "\u001b[0;32m/usr/local/lib/python3.6/dist-packages/more_itertools/more.py\u001b[0m in \u001b[0;36mpeek\u001b[0;34m(self, default)\u001b[0m\n\u001b[1;32m    309\u001b[0m         \u001b[0;32mif\u001b[0m \u001b[0;32mnot\u001b[0m \u001b[0mself\u001b[0m\u001b[0;34m.\u001b[0m\u001b[0m_cache\u001b[0m\u001b[0;34m:\u001b[0m\u001b[0;34m\u001b[0m\u001b[0;34m\u001b[0m\u001b[0m\n\u001b[1;32m    310\u001b[0m             \u001b[0;32mtry\u001b[0m\u001b[0;34m:\u001b[0m\u001b[0;34m\u001b[0m\u001b[0;34m\u001b[0m\u001b[0m\n\u001b[0;32m--> 311\u001b[0;31m                 \u001b[0mself\u001b[0m\u001b[0;34m.\u001b[0m\u001b[0m_cache\u001b[0m\u001b[0;34m.\u001b[0m\u001b[0mappend\u001b[0m\u001b[0;34m(\u001b[0m\u001b[0mnext\u001b[0m\u001b[0;34m(\u001b[0m\u001b[0mself\u001b[0m\u001b[0;34m.\u001b[0m\u001b[0m_it\u001b[0m\u001b[0;34m)\u001b[0m\u001b[0;34m)\u001b[0m\u001b[0;34m\u001b[0m\u001b[0;34m\u001b[0m\u001b[0m\n\u001b[0m\u001b[1;32m    312\u001b[0m             \u001b[0;32mexcept\u001b[0m \u001b[0mStopIteration\u001b[0m\u001b[0;34m:\u001b[0m\u001b[0;34m\u001b[0m\u001b[0;34m\u001b[0m\u001b[0m\n\u001b[1;32m    313\u001b[0m                 \u001b[0;32mif\u001b[0m \u001b[0mdefault\u001b[0m \u001b[0;32mis\u001b[0m \u001b[0m_marker\u001b[0m\u001b[0;34m:\u001b[0m\u001b[0;34m\u001b[0m\u001b[0;34m\u001b[0m\u001b[0m\n",
            "\u001b[0;31mStopIteration\u001b[0m: "
          ]
        }
      ]
    }
  ]
}