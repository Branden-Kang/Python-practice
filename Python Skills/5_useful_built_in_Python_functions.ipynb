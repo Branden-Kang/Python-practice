{
  "nbformat": 4,
  "nbformat_minor": 0,
  "metadata": {
    "colab": {
      "provenance": [],
      "authorship_tag": "ABX9TyNs35i88QbONWA7N/CIPOXY"
    },
    "kernelspec": {
      "name": "python3",
      "display_name": "Python 3"
    },
    "language_info": {
      "name": "python"
    }
  },
  "cells": [
    {
      "cell_type": "markdown",
      "source": [
        "[Reference](https://medium.com/@ben.nour_68691/5-useful-built-in-python-functions-b20c1530a106)"
      ],
      "metadata": {
        "id": "S9kC2-geg3Rr"
      }
    },
    {
      "cell_type": "markdown",
      "source": [
        "# 1. enumerate()"
      ],
      "metadata": {
        "id": "X5ZnQaheg50_"
      }
    },
    {
      "cell_type": "code",
      "execution_count": 1,
      "metadata": {
        "id": "6k-hgZrLgxvL"
      },
      "outputs": [],
      "source": [
        "colours = ['red', 'blue', 'green']\n",
        "\n",
        "# Pythonic code.\n",
        "for index, colour in enumerate(colours):\n",
        "    index, colour"
      ]
    },
    {
      "cell_type": "code",
      "source": [
        "colours = ['red', 'blue', 'green']\n",
        "\n",
        "# Unpythonic code\n",
        "for index in range(len(colours)):\n",
        "    index, colours[index]"
      ],
      "metadata": {
        "id": "XGlbQkhGg61E"
      },
      "execution_count": 2,
      "outputs": []
    },
    {
      "cell_type": "markdown",
      "source": [
        "# 2. help()"
      ],
      "metadata": {
        "id": "Ya4E7rutg8l2"
      }
    },
    {
      "cell_type": "code",
      "source": [
        "import itertools\n",
        "\n",
        "help(itertools.permutations)"
      ],
      "metadata": {
        "colab": {
          "base_uri": "https://localhost:8080/"
        },
        "id": "mNtk3EVZg73P",
        "outputId": "eb621f3c-7822-486a-95f0-17248803bdf1"
      },
      "execution_count": 3,
      "outputs": [
        {
          "output_type": "stream",
          "name": "stdout",
          "text": [
            "Help on class permutations in module itertools:\n",
            "\n",
            "class permutations(builtins.object)\n",
            " |  permutations(iterable, r=None)\n",
            " |  \n",
            " |  Return successive r-length permutations of elements in the iterable.\n",
            " |  \n",
            " |  permutations(range(3), 2) --> (0,1), (0,2), (1,0), (1,2), (2,0), (2,1)\n",
            " |  \n",
            " |  Methods defined here:\n",
            " |  \n",
            " |  __getattribute__(self, name, /)\n",
            " |      Return getattr(self, name).\n",
            " |  \n",
            " |  __iter__(self, /)\n",
            " |      Implement iter(self).\n",
            " |  \n",
            " |  __next__(self, /)\n",
            " |      Implement next(self).\n",
            " |  \n",
            " |  __reduce__(...)\n",
            " |      Return state information for pickling.\n",
            " |  \n",
            " |  __setstate__(...)\n",
            " |      Set state information for unpickling.\n",
            " |  \n",
            " |  __sizeof__(...)\n",
            " |      Returns size in memory, in bytes.\n",
            " |  \n",
            " |  ----------------------------------------------------------------------\n",
            " |  Static methods defined here:\n",
            " |  \n",
            " |  __new__(*args, **kwargs) from builtins.type\n",
            " |      Create and return a new object.  See help(type) for accurate signature.\n",
            "\n"
          ]
        }
      ]
    },
    {
      "cell_type": "markdown",
      "source": [
        "# 3. type()"
      ],
      "metadata": {
        "id": "qOADDutag-Zw"
      }
    },
    {
      "cell_type": "code",
      "source": [
        "car = 'Honda Civic'\n",
        "type(car)"
      ],
      "metadata": {
        "colab": {
          "base_uri": "https://localhost:8080/"
        },
        "id": "Wd-eT2QEg9fi",
        "outputId": "78aef6df-53f4-46eb-9ae5-7ae122562f6e"
      },
      "execution_count": 4,
      "outputs": [
        {
          "output_type": "execute_result",
          "data": {
            "text/plain": [
              "str"
            ]
          },
          "metadata": {},
          "execution_count": 4
        }
      ]
    },
    {
      "cell_type": "markdown",
      "source": [
        "# 4. isinstance()"
      ],
      "metadata": {
        "id": "fv9vYDVShBjO"
      }
    },
    {
      "cell_type": "code",
      "source": [
        "age = 29\n",
        "isinstance(age, int)"
      ],
      "metadata": {
        "colab": {
          "base_uri": "https://localhost:8080/"
        },
        "id": "G-zfaeqXhBQD",
        "outputId": "b0291c84-0202-4afe-f75e-37573f1271bb"
      },
      "execution_count": 5,
      "outputs": [
        {
          "output_type": "execute_result",
          "data": {
            "text/plain": [
              "True"
            ]
          },
          "metadata": {},
          "execution_count": 5
        }
      ]
    },
    {
      "cell_type": "code",
      "source": [
        "age = 29\n",
        "isinstance(age, (str, int))"
      ],
      "metadata": {
        "colab": {
          "base_uri": "https://localhost:8080/"
        },
        "id": "4iVecVjFhC2B",
        "outputId": "4109e8ce-4be5-47b6-9a1c-60fe1142cb21"
      },
      "execution_count": 6,
      "outputs": [
        {
          "output_type": "execute_result",
          "data": {
            "text/plain": [
              "True"
            ]
          },
          "metadata": {},
          "execution_count": 6
        }
      ]
    },
    {
      "cell_type": "code",
      "source": [
        "foo = str\n",
        "isinstance(foo, str)"
      ],
      "metadata": {
        "colab": {
          "base_uri": "https://localhost:8080/"
        },
        "id": "gwti7LWQhDrg",
        "outputId": "0cafac5d-f5fe-43f3-8779-9beed2547c35"
      },
      "execution_count": 7,
      "outputs": [
        {
          "output_type": "execute_result",
          "data": {
            "text/plain": [
              "False"
            ]
          },
          "metadata": {},
          "execution_count": 7
        }
      ]
    },
    {
      "cell_type": "code",
      "source": [
        "foo = str\n",
        "isinstance(foo, type)"
      ],
      "metadata": {
        "colab": {
          "base_uri": "https://localhost:8080/"
        },
        "id": "8GNYcWTKhFhF",
        "outputId": "f9535868-04c9-4ed9-e85e-c448e1621d11"
      },
      "execution_count": 8,
      "outputs": [
        {
          "output_type": "execute_result",
          "data": {
            "text/plain": [
              "True"
            ]
          },
          "metadata": {},
          "execution_count": 8
        }
      ]
    },
    {
      "cell_type": "markdown",
      "source": [
        "# 5. id()"
      ],
      "metadata": {
        "id": "jOO0faUThGXQ"
      }
    },
    {
      "cell_type": "code",
      "source": [
        "eye_colour = 'blue'\n",
        "id(eye_colour)"
      ],
      "metadata": {
        "colab": {
          "base_uri": "https://localhost:8080/"
        },
        "id": "9sMhbA0khFov",
        "outputId": "eff7d3ab-02cd-464d-84e9-2f1e1dcbfbeb"
      },
      "execution_count": 9,
      "outputs": [
        {
          "output_type": "execute_result",
          "data": {
            "text/plain": [
              "140533286995312"
            ]
          },
          "metadata": {},
          "execution_count": 9
        }
      ]
    }
  ]
}
