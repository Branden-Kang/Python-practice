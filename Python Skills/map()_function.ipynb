{
  "nbformat": 4,
  "nbformat_minor": 0,
  "metadata": {
    "colab": {
      "provenance": [],
      "collapsed_sections": [],
      "authorship_tag": "ABX9TyOAT8wDWnAOcXQcESG5aNHM"
    },
    "kernelspec": {
      "name": "python3",
      "display_name": "Python 3"
    },
    "language_info": {
      "name": "python"
    }
  },
  "cells": [
    {
      "cell_type": "markdown",
      "source": [
        "[Reference](https://towardsdatascience.com/does-python-still-need-the-map-function-96787ea1fb05)"
      ],
      "metadata": {
        "id": "vCIteS1-Ra3L"
      }
    },
    {
      "cell_type": "code",
      "execution_count": 1,
      "metadata": {
        "id": "EfNNF7HFRZTN"
      },
      "outputs": [],
      "source": [
        "numbers = [1, 4, 5, 10, 17]\n",
        "def double(x):\n",
        "    return x*2"
      ]
    },
    {
      "cell_type": "code",
      "source": [
        "double(10)"
      ],
      "metadata": {
        "colab": {
          "base_uri": "https://localhost:8080/"
        },
        "id": "di5C2a12RhWz",
        "outputId": "eebd05e0-ec5e-4649-f2ff-0c708d0bd84e"
      },
      "execution_count": 2,
      "outputs": [
        {
          "output_type": "execute_result",
          "data": {
            "text/plain": [
              "20"
            ]
          },
          "metadata": {},
          "execution_count": 2
        }
      ]
    },
    {
      "cell_type": "code",
      "source": [
        "double(numbers)"
      ],
      "metadata": {
        "colab": {
          "base_uri": "https://localhost:8080/"
        },
        "id": "MfALmPm_Rhhl",
        "outputId": "56488fb5-54a6-410b-cbc4-6aefb07bcdce"
      },
      "execution_count": 3,
      "outputs": [
        {
          "output_type": "execute_result",
          "data": {
            "text/plain": [
              "[1, 4, 5, 10, 17, 1, 4, 5, 10, 17]"
            ]
          },
          "metadata": {},
          "execution_count": 3
        }
      ]
    },
    {
      "cell_type": "code",
      "source": [
        "doubled_numbers = map(double, numbers)"
      ],
      "metadata": {
        "id": "cMAp7xExRo37"
      },
      "execution_count": 4,
      "outputs": []
    },
    {
      "cell_type": "code",
      "source": [
        "doubled_numbers #doctest: +ELLIPSIS"
      ],
      "metadata": {
        "colab": {
          "base_uri": "https://localhost:8080/"
        },
        "id": "RXWeherRRp9s",
        "outputId": "a17f8104-68bf-4818-89e6-e6a1201a2db3"
      },
      "execution_count": 5,
      "outputs": [
        {
          "output_type": "execute_result",
          "data": {
            "text/plain": [
              "<map at 0x7f55a155cd90>"
            ]
          },
          "metadata": {},
          "execution_count": 5
        }
      ]
    },
    {
      "cell_type": "code",
      "source": [
        "list(doubled_numbers)"
      ],
      "metadata": {
        "colab": {
          "base_uri": "https://localhost:8080/"
        },
        "id": "q6hSbC18RraP",
        "outputId": "b2eebdff-cfaa-4a63-e5e3-5234d7607c55"
      },
      "execution_count": 6,
      "outputs": [
        {
          "output_type": "execute_result",
          "data": {
            "text/plain": [
              "[2, 8, 10, 20, 34]"
            ]
          },
          "metadata": {},
          "execution_count": 6
        }
      ]
    },
    {
      "cell_type": "code",
      "source": [
        "list(doubled_numbers)"
      ],
      "metadata": {
        "colab": {
          "base_uri": "https://localhost:8080/"
        },
        "id": "v6lQsMVDRtX9",
        "outputId": "e8e3e06a-013f-4ee6-b92d-f26837474f60"
      },
      "execution_count": 7,
      "outputs": [
        {
          "output_type": "execute_result",
          "data": {
            "text/plain": [
              "[]"
            ]
          },
          "metadata": {},
          "execution_count": 7
        }
      ]
    },
    {
      "cell_type": "code",
      "source": [
        "def sum_of_squares(x, y, z):\n",
        "    return x**2 + y**2 + z**2\n",
        "x = range(5)\n",
        "y = [1, 1, 1, 2, 2]\n",
        "z = (10, 10, 5, 5, 5)\n",
        "SoS = map(sum_of_squares, x, y, z)\n",
        "list(SoS)"
      ],
      "metadata": {
        "colab": {
          "base_uri": "https://localhost:8080/"
        },
        "id": "w-oERBr8Ruc1",
        "outputId": "df86c77f-dd6a-4eb8-f690-ed947aa4c9cc"
      },
      "execution_count": 8,
      "outputs": [
        {
          "output_type": "execute_result",
          "data": {
            "text/plain": [
              "[101, 102, 30, 38, 45]"
            ]
          },
          "metadata": {},
          "execution_count": 8
        }
      ]
    },
    {
      "cell_type": "code",
      "source": [
        "doubled_numbers_gen = (double(x) for x in numbers)"
      ],
      "metadata": {
        "id": "OU5YVwf-Ry3b"
      },
      "execution_count": 9,
      "outputs": []
    },
    {
      "cell_type": "code",
      "source": [
        "doubled_numbers_list = [double(x) for x in numbers]"
      ],
      "metadata": {
        "id": "sLYpA6NPR0O6"
      },
      "execution_count": 10,
      "outputs": []
    },
    {
      "cell_type": "code",
      "source": [
        "import multiprocessing\n",
        "def double(x):\n",
        "    return x*2\n",
        "\n",
        "if __name__ == \"__main__\":\n",
        "    numbers = [1, 4, 5, 10, 17]\n",
        "    mode = \"parallel\" # or \"sequential\"\n",
        "    if mode == \"parallel\":\n",
        "        p = multiprocessing.Pool(2)\n",
        "        map_func = p.map\n",
        "    elif mode == \"sequential\":\n",
        "        map_func = map\n",
        "    else:\n",
        "        raise NotImplementedError(\"Use mode of 'parallel' or 'sequential'\")\n",
        "    results = list(map_func(double, numbers))\n",
        "    if mode == \"parallel\":\n",
        "        p.close()\n",
        "    print(results)"
      ],
      "metadata": {
        "colab": {
          "base_uri": "https://localhost:8080/"
        },
        "id": "mF98cl6CR1f6",
        "outputId": "504cac5d-51ba-4765-9ec6-f6b22ce8ea47"
      },
      "execution_count": 11,
      "outputs": [
        {
          "output_type": "stream",
          "name": "stdout",
          "text": [
            "[2, 8, 10, 20, 34]\n"
          ]
        }
      ]
    }
  ]
}
