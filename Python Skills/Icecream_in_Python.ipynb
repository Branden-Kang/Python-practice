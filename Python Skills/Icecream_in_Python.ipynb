{
  "nbformat": 4,
  "nbformat_minor": 0,
  "metadata": {
    "colab": {
      "name": "Icecream in Python.ipynb",
      "provenance": [],
      "authorship_tag": "ABX9TyPumXoi3OCXwsKz0GApLYBi"
    },
    "kernelspec": {
      "name": "python3",
      "display_name": "Python 3"
    }
  },
  "cells": [
    {
      "cell_type": "markdown",
      "metadata": {
        "id": "Ih_eel2r5R1N"
      },
      "source": [
        "[Reference](https://towardsdatascience.com/stop-using-print-to-debug-in-python-use-icecream-instead-79e17b963fcc)"
      ]
    },
    {
      "cell_type": "code",
      "metadata": {
        "colab": {
          "base_uri": "https://localhost:8080/"
        },
        "id": "4HjX2RoT5PzC",
        "outputId": "a42fca51-d7d2-4390-fbce-c597a71ee77b"
      },
      "source": [
        "num1 = 30\n",
        "num2 = 40 \n",
        "\n",
        "print(num1)\n",
        "print(num2)"
      ],
      "execution_count": 1,
      "outputs": [
        {
          "output_type": "stream",
          "text": [
            "30\n",
            "40\n"
          ],
          "name": "stdout"
        }
      ]
    },
    {
      "cell_type": "code",
      "metadata": {
        "colab": {
          "base_uri": "https://localhost:8080/"
        },
        "id": "VHsrpYMQ5X2t",
        "outputId": "e37a31b0-7a2e-483f-b159-6ec96af3a935"
      },
      "source": [
        "num1 = 30\n",
        "num2 = 40 \n",
        "\n",
        "print('num1', num1)\n",
        "print('num2', num2)"
      ],
      "execution_count": 2,
      "outputs": [
        {
          "output_type": "stream",
          "text": [
            "num1 30\n",
            "num2 40\n"
          ],
          "name": "stdout"
        }
      ]
    },
    {
      "cell_type": "code",
      "metadata": {
        "colab": {
          "base_uri": "https://localhost:8080/"
        },
        "id": "CClZ4siR5ZlD",
        "outputId": "8b50b2f7-4cd9-4602-9086-5a08d8825526"
      },
      "source": [
        "pip install icecream"
      ],
      "execution_count": 3,
      "outputs": [
        {
          "output_type": "stream",
          "text": [
            "Collecting icecream\n",
            "  Downloading https://files.pythonhosted.org/packages/8c/ec/821ef939e8e4f4306e7263afa7e2ce0b4c5da9e6e53d1cc97b01606035f8/icecream-2.0.0-py2.py3-none-any.whl\n",
            "Collecting colorama>=0.3.9\n",
            "  Downloading https://files.pythonhosted.org/packages/44/98/5b86278fbbf250d239ae0ecb724f8572af1c91f4a11edf4d36a206189440/colorama-0.4.4-py2.py3-none-any.whl\n",
            "Collecting asttokens>=2.0.1\n",
            "  Downloading https://files.pythonhosted.org/packages/62/e9/247023d33dc110117b831cbfe47bb553e10d0edf92297ace745256402d42/asttokens-2.0.4-py2.py3-none-any.whl\n",
            "Requirement already satisfied: pygments>=2.2.0 in /usr/local/lib/python3.6/dist-packages (from icecream) (2.6.1)\n",
            "Collecting executing>=0.3.1\n",
            "  Downloading https://files.pythonhosted.org/packages/e9/3d/2c2cf37d6194fa93c35e7ba6ab5aaa841a9b1b788fc322b01e53e0602049/executing-0.5.4-py3-none-any.whl\n",
            "Requirement already satisfied: six in /usr/local/lib/python3.6/dist-packages (from asttokens>=2.0.1->icecream) (1.15.0)\n",
            "Installing collected packages: colorama, asttokens, executing, icecream\n",
            "Successfully installed asttokens-2.0.4 colorama-0.4.4 executing-0.5.4 icecream-2.0.0\n"
          ],
          "name": "stdout"
        }
      ]
    },
    {
      "cell_type": "code",
      "metadata": {
        "colab": {
          "base_uri": "https://localhost:8080/"
        },
        "id": "jqCUrw3n5dXO",
        "outputId": "8aad8ac6-f65e-4977-9f4a-7909dccda3b7"
      },
      "source": [
        "from icecream import ic \n",
        "\n",
        "def plus_five(num):\n",
        "    return num + 5\n",
        "\n",
        "ic(plus_five(4))\n",
        "ic(plus_five(5))"
      ],
      "execution_count": 4,
      "outputs": [
        {
          "output_type": "stream",
          "text": [
            "ic| plus_five(4): 9\n",
            "ic| plus_five(5): 10\n"
          ],
          "name": "stderr"
        },
        {
          "output_type": "execute_result",
          "data": {
            "text/plain": [
              "10"
            ]
          },
          "metadata": {
            "tags": []
          },
          "execution_count": 4
        }
      ]
    },
    {
      "cell_type": "code",
      "metadata": {
        "colab": {
          "base_uri": "https://localhost:8080/"
        },
        "id": "nRNj-liQ5fKp",
        "outputId": "3aa692f7-fcf6-4724-a840-64d345d8d65d"
      },
      "source": [
        "num1 = 30\n",
        "num2 = 40 \n",
        "\n",
        "ic(num1)\n",
        "ic(num2)"
      ],
      "execution_count": 5,
      "outputs": [
        {
          "output_type": "stream",
          "text": [
            "ic| num1: 30\n",
            "ic| num2: 40\n"
          ],
          "name": "stderr"
        },
        {
          "output_type": "execute_result",
          "data": {
            "text/plain": [
              "40"
            ]
          },
          "metadata": {
            "tags": []
          },
          "execution_count": 5
        }
      ]
    },
    {
      "cell_type": "code",
      "metadata": {
        "colab": {
          "base_uri": "https://localhost:8080/"
        },
        "id": "MB-EjRFe5hO6",
        "outputId": "8d97dae6-8b69-40ab-9583-3abb86c02a71"
      },
      "source": [
        "def hello(user:bool):\n",
        "    if user:\n",
        "        print(\"I'm user\")\n",
        "    else:\n",
        "        print(\"I'm not user\")\n",
        "\n",
        "hello(user=True)"
      ],
      "execution_count": 6,
      "outputs": [
        {
          "output_type": "stream",
          "text": [
            "I'm user\n"
          ],
          "name": "stdout"
        }
      ]
    },
    {
      "cell_type": "code",
      "metadata": {
        "colab": {
          "base_uri": "https://localhost:8080/"
        },
        "id": "hPMpLtgh5jcm",
        "outputId": "dea69c15-76fe-4419-9a00-e2375c2618fa"
      },
      "source": [
        "from icecream import ic \n",
        "\n",
        "def hello(user:bool):\n",
        "    if user:\n",
        "        ic()\n",
        "    else:\n",
        "        ic()\n",
        "\n",
        "hello(user=True)"
      ],
      "execution_count": 7,
      "outputs": [
        {
          "output_type": "stream",
          "text": [
            "ic| <ipython-input-7-cc091b2e66d0>:5 in hello() at 16:35:00.020\n"
          ],
          "name": "stderr"
        }
      ]
    },
    {
      "cell_type": "code",
      "metadata": {
        "colab": {
          "base_uri": "https://localhost:8080/"
        },
        "id": "DY9QQGtA5mjR",
        "outputId": "41e5d6d9-4026-49fc-c497-2cdee1773737"
      },
      "source": [
        "from datetime import datetime\n",
        "from icecream import ic \n",
        "import time\n",
        "from datetime import datetime\n",
        "\n",
        "def time_format():\n",
        "    return f'{datetime.now()}|> '\n",
        "\n",
        "ic.configureOutput(prefix=time_format)\n",
        "\n",
        "for _ in range(3):\n",
        "    time.sleep(1)\n",
        "    ic('Hello')"
      ],
      "execution_count": 8,
      "outputs": [
        {
          "output_type": "stream",
          "text": [
            "2021-01-15 16:35:10.712497|> 'Hello'\n",
            "2021-01-15 16:35:11.737980|> 'Hello'\n",
            "2021-01-15 16:35:12.755521|> 'Hello'\n"
          ],
          "name": "stderr"
        }
      ]
    },
    {
      "cell_type": "code",
      "metadata": {
        "colab": {
          "base_uri": "https://localhost:8080/"
        },
        "id": "Tf1z_iN_5o6s",
        "outputId": "35a2025c-3a13-4244-a9e1-9c3edd5a7845"
      },
      "source": [
        "from icecream import ic \n",
        "\n",
        "def plus_five(num):\n",
        "    return num + 5\n",
        "\n",
        "ic.configureOutput(includeContext=True)\n",
        "ic(plus_five(4))\n",
        "ic(plus_five(5))"
      ],
      "execution_count": 9,
      "outputs": [
        {
          "output_type": "stream",
          "text": [
            "2021-01-15 16:35:32.104101|> <ipython-input-9-826dd3392d51>:7 in <module>\n",
            "                             plus_five(4): 9\n",
            "2021-01-15 16:35:32.160417|> <ipython-input-9-826dd3392d51>:8 in <module>\n",
            "                             plus_five(5): 10\n"
          ],
          "name": "stderr"
        },
        {
          "output_type": "execute_result",
          "data": {
            "text/plain": [
              "10"
            ]
          },
          "metadata": {
            "tags": []
          },
          "execution_count": 9
        }
      ]
    },
    {
      "cell_type": "code",
      "metadata": {
        "colab": {
          "base_uri": "https://localhost:8080/"
        },
        "id": "aD3jRMRa5uYw",
        "outputId": "2598ab5e-2e45-4e86-c2ee-d0e98009d081"
      },
      "source": [
        "from icecream import ic \n",
        "\n",
        "def plus_five(num):\n",
        "    return num + 5\n",
        "\n",
        "ic(plus_five(4))\n",
        "ic(plus_five(5))\n",
        "\n",
        "for i in range(10):\n",
        "    print(f'****** Training model {i} ******')"
      ],
      "execution_count": 10,
      "outputs": [
        {
          "output_type": "stream",
          "text": [
            "2021-01-15 16:35:53.143819|> <ipython-input-10-6e914cb3cb5d>:6 in <module>\n",
            "                             plus_five(4): 9\n",
            "2021-01-15 16:35:53.185936|> <ipython-input-10-6e914cb3cb5d>:7 in <module>\n",
            "                             plus_five(5): 10\n"
          ],
          "name": "stderr"
        },
        {
          "output_type": "stream",
          "text": [
            "****** Training model 0 ******\n",
            "****** Training model 1 ******\n",
            "****** Training model 2 ******\n",
            "****** Training model 3 ******\n",
            "****** Training model 4 ******\n",
            "****** Training model 5 ******\n",
            "****** Training model 6 ******\n",
            "****** Training model 7 ******\n",
            "****** Training model 8 ******\n",
            "****** Training model 9 ******\n"
          ],
          "name": "stdout"
        }
      ]
    }
  ]
}