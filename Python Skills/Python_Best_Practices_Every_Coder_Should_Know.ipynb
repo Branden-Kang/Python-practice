{
  "nbformat": 4,
  "nbformat_minor": 0,
  "metadata": {
    "colab": {
      "provenance": [],
      "authorship_tag": "ABX9TyMXDoopxcIRaGa/vBJelOM5"
    },
    "kernelspec": {
      "name": "python3",
      "display_name": "Python 3"
    },
    "language_info": {
      "name": "python"
    }
  },
  "cells": [
    {
      "cell_type": "markdown",
      "source": [
        "[Reference](https://medium.com/@minhle_0210/python-best-practices-every-coder-should-know-51e387d04146)"
      ],
      "metadata": {
        "id": "bIasSWWOtI8r"
      }
    },
    {
      "cell_type": "markdown",
      "source": [
        "# Use ExitStack() to Manage Multiple Contexts"
      ],
      "metadata": {
        "id": "YFSE6QuZtMSS"
      }
    },
    {
      "cell_type": "code",
      "execution_count": 1,
      "metadata": {
        "id": "Rykgj3Yfsf8L"
      },
      "outputs": [],
      "source": [
        "# Bad\n",
        "def process_files(file1, file2, file3):\n",
        "    with open(file1, 'r') as f1:\n",
        "        with open(file2, 'r') as f2:\n",
        "            with open(file3, 'r') as f3:\n",
        "                pass"
      ]
    },
    {
      "cell_type": "code",
      "source": [
        "# Good\n",
        "from contextlib import ExitStack\n",
        "\n",
        "def process_files(file1, file2, file3):\n",
        "    with ExitStack() as stack:\n",
        "        f1 = stack.enter_context(open(file1, 'r'))\n",
        "        f2 = stack.enter_context(open(file2, 'r'))\n",
        "        f3 = stack.enter_context(open(file3, 'r'))\n",
        "        pass"
      ],
      "metadata": {
        "id": "4uZQgsyotOft"
      },
      "execution_count": 2,
      "outputs": []
    },
    {
      "cell_type": "markdown",
      "source": [
        "# Keep Naming Conventions Consistent"
      ],
      "metadata": {
        "id": "a7kvMjcvtSkD"
      }
    },
    {
      "cell_type": "code",
      "source": [
        "# Bad\n",
        "def myFunction(num):\n",
        "    MyVar = num / 3.5\n",
        "    return MyVar"
      ],
      "metadata": {
        "id": "SOQpPCQ0tRaz"
      },
      "execution_count": 3,
      "outputs": []
    },
    {
      "cell_type": "code",
      "source": [
        "# Good\n",
        "def my_function(num):\n",
        "    my_var = num / 3.5\n",
        "    return my_var"
      ],
      "metadata": {
        "id": "pTcuK8z8tUrW"
      },
      "execution_count": 5,
      "outputs": []
    },
    {
      "cell_type": "markdown",
      "source": [
        "# Avoid Hardcoding Sensitive Information"
      ],
      "metadata": {
        "id": "xwXyWgNwtZvA"
      }
    },
    {
      "cell_type": "code",
      "source": [
        "# Bad\n",
        "password = \"iLOVEcats356@33\""
      ],
      "metadata": {
        "id": "d8_6eu6stWp-"
      },
      "execution_count": 6,
      "outputs": []
    },
    {
      "cell_type": "code",
      "source": [
        "# Good\n",
        "import os\n",
        "password = os.getenv(\"MY_SECRET_PASSWORD\")"
      ],
      "metadata": {
        "id": "PNhoDqp7tcLz"
      },
      "execution_count": 7,
      "outputs": []
    },
    {
      "cell_type": "markdown",
      "source": [
        "# Use get() to Avoid Key Errors in Dictionaries"
      ],
      "metadata": {
        "id": "el4-aNHLtf0v"
      }
    },
    {
      "cell_type": "code",
      "source": [
        "# Bad\n",
        "data = {\"name\": \"Alice\", \"age\": 30}\n",
        "city = data[\"city\"] if \"city\" in data else \"Unknown\""
      ],
      "metadata": {
        "id": "ayEQVdpJteoc"
      },
      "execution_count": 8,
      "outputs": []
    },
    {
      "cell_type": "code",
      "source": [
        "# Good\n",
        "city = data.get(\"city\", \"Unknown\")"
      ],
      "metadata": {
        "id": "zOOI6kwutiPt"
      },
      "execution_count": 9,
      "outputs": []
    },
    {
      "cell_type": "markdown",
      "source": [
        "# Take Advantage of match for Clean Conditional Statements"
      ],
      "metadata": {
        "id": "UhWu5yFYtqJ_"
      }
    },
    {
      "cell_type": "code",
      "source": [
        "# Bad\n",
        "def describe_type(obj):\n",
        "    if isinstance(obj, str):\n",
        "        return \"It's a string\"\n",
        "    elif isinstance(obj, int):\n",
        "        return \"It's an integer\"\n",
        "    elif isinstance(obj, list):\n",
        "        return \"It's a list\"\n",
        "    else:\n",
        "        return \"It's something else\""
      ],
      "metadata": {
        "id": "YnDgM3-1tm8I"
      },
      "execution_count": 11,
      "outputs": []
    },
    {
      "cell_type": "code",
      "source": [
        "# Good\n",
        "def describe_type(obj):\n",
        "    match obj:\n",
        "        case str():\n",
        "            return \"It's a string\"\n",
        "        case int():\n",
        "            return \"It's an integer\"\n",
        "        case list():\n",
        "            return \"It's a list\"\n",
        "        case _:\n",
        "            return \"It's something else\""
      ],
      "metadata": {
        "id": "Ft9wm1RQtsC0"
      },
      "execution_count": 12,
      "outputs": []
    }
  ]
}
