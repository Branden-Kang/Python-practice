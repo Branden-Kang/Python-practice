{
  "nbformat": 4,
  "nbformat_minor": 0,
  "metadata": {
    "colab": {
      "provenance": [],
      "authorship_tag": "ABX9TyMaCWT/q0sIY/J7Xa3q7QGx"
    },
    "kernelspec": {
      "name": "python3",
      "display_name": "Python 3"
    },
    "language_info": {
      "name": "python"
    }
  },
  "cells": [
    {
      "cell_type": "markdown",
      "source": [
        "[Reference](https://towardsdev.com/python-tips-create-a-decorator-with-functools-wraps-1731aee27c1)"
      ],
      "metadata": {
        "id": "memMU3Xm9fLR"
      }
    },
    {
      "cell_type": "code",
      "execution_count": 1,
      "metadata": {
        "id": "fHSXBPLu9WGQ"
      },
      "outputs": [],
      "source": [
        "def decorator(f):\n",
        "    def wrapper(*args, **kwds):\n",
        "        \"\"\" Wrapper Docstring\"\"\"\n",
        "        print('Calling decorated function')\n",
        "        return f(*args, **kwds)\n",
        "    return wrapper@decorator\n",
        "def example():\n",
        "    \"\"\"Docstring\"\"\"\n",
        "    print('Called example function')"
      ]
    },
    {
      "cell_type": "code",
      "source": [
        "example()"
      ],
      "metadata": {
        "colab": {
          "base_uri": "https://localhost:8080/"
        },
        "id": "lhkXEjZb92-P",
        "outputId": "90ea9962-709b-458f-879e-c61b2de29a89"
      },
      "execution_count": 2,
      "outputs": [
        {
          "output_type": "stream",
          "name": "stdout",
          "text": [
            "Called example function\n"
          ]
        }
      ]
    },
    {
      "cell_type": "code",
      "source": [
        "example.__name__"
      ],
      "metadata": {
        "colab": {
          "base_uri": "https://localhost:8080/",
          "height": 35
        },
        "id": "ScUwg2ai944M",
        "outputId": "90c4a2f7-c45e-4c8f-d273-373ce94b7d7d"
      },
      "execution_count": 3,
      "outputs": [
        {
          "output_type": "execute_result",
          "data": {
            "text/plain": [
              "'example'"
            ],
            "application/vnd.google.colaboratory.intrinsic+json": {
              "type": "string"
            }
          },
          "metadata": {},
          "execution_count": 3
        }
      ]
    },
    {
      "cell_type": "code",
      "source": [
        "example.__doc__"
      ],
      "metadata": {
        "colab": {
          "base_uri": "https://localhost:8080/",
          "height": 35
        },
        "id": "ORL2jDvr95B-",
        "outputId": "b49b01ef-83b7-40fb-fa64-485b5b7c1605"
      },
      "execution_count": 4,
      "outputs": [
        {
          "output_type": "execute_result",
          "data": {
            "text/plain": [
              "'Docstring'"
            ],
            "application/vnd.google.colaboratory.intrinsic+json": {
              "type": "string"
            }
          },
          "metadata": {},
          "execution_count": 4
        }
      ]
    },
    {
      "cell_type": "code",
      "source": [
        "from functools import wraps\n",
        "def decorator(f):\n",
        "    @wraps(f)\n",
        "    def wrapper(*args, **kwds):\n",
        "        \"\"\" wrapper Docstring\"\"\"\n",
        "        print('Calling decorated function')\n",
        "        return f(*args, **kwds)\n",
        "    return wrapper\n",
        "\n",
        "@decorator\n",
        "def example():\n",
        "    \"\"\"Docstring\"\"\"\n",
        "    print('Called example function')"
      ],
      "metadata": {
        "id": "p_Oacsm7954f"
      },
      "execution_count": 6,
      "outputs": []
    },
    {
      "cell_type": "code",
      "source": [
        "example()"
      ],
      "metadata": {
        "colab": {
          "base_uri": "https://localhost:8080/"
        },
        "id": "fJOeESNE9_pB",
        "outputId": "5b7add66-ea95-41d1-d232-cb815bdb6c4f"
      },
      "execution_count": 7,
      "outputs": [
        {
          "output_type": "stream",
          "name": "stdout",
          "text": [
            "Calling decorated function\n",
            "Called example function\n"
          ]
        }
      ]
    },
    {
      "cell_type": "code",
      "source": [
        "example.__name__"
      ],
      "metadata": {
        "colab": {
          "base_uri": "https://localhost:8080/",
          "height": 35
        },
        "id": "PqGacBQG-EUX",
        "outputId": "8f5e6a85-e91e-4beb-89cc-0ac002e79079"
      },
      "execution_count": 8,
      "outputs": [
        {
          "output_type": "execute_result",
          "data": {
            "text/plain": [
              "'example'"
            ],
            "application/vnd.google.colaboratory.intrinsic+json": {
              "type": "string"
            }
          },
          "metadata": {},
          "execution_count": 8
        }
      ]
    },
    {
      "cell_type": "code",
      "source": [
        "example.__doc__"
      ],
      "metadata": {
        "colab": {
          "base_uri": "https://localhost:8080/",
          "height": 35
        },
        "id": "hJIUYYWW-Eg1",
        "outputId": "683468dc-ad94-4715-b6f4-66cf52e428d7"
      },
      "execution_count": 9,
      "outputs": [
        {
          "output_type": "execute_result",
          "data": {
            "text/plain": [
              "'Docstring'"
            ],
            "application/vnd.google.colaboratory.intrinsic+json": {
              "type": "string"
            }
          },
          "metadata": {},
          "execution_count": 9
        }
      ]
    }
  ]
}
