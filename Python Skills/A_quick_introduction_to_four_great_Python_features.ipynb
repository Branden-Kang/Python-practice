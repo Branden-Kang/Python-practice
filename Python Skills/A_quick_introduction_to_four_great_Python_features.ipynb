{
  "nbformat": 4,
  "nbformat_minor": 0,
  "metadata": {
    "colab": {
      "provenance": [],
      "authorship_tag": "ABX9TyPESirPhxgvqtC1wkhddmfu"
    },
    "kernelspec": {
      "name": "python3",
      "display_name": "Python 3"
    },
    "language_info": {
      "name": "python"
    }
  },
  "cells": [
    {
      "cell_type": "markdown",
      "source": [
        "[Reference](https://medium.com/@SergiAlfonso/a-quick-introduction-to-four-great-python-features-3468aa9a7d37)"
      ],
      "metadata": {
        "id": "UgR1W34NuAjW"
      }
    },
    {
      "cell_type": "code",
      "execution_count": 2,
      "metadata": {
        "colab": {
          "base_uri": "https://localhost:8080/"
        },
        "id": "TyuUumtGqJFF",
        "outputId": "c1aa4667-1256-4590-a591-392670f968f9"
      },
      "outputs": [
        {
          "output_type": "stream",
          "name": "stdout",
          "text": [
            "['Even', 'Odd', 'Even', 'Odd', 'Even', 'Odd', 'Even', 'Odd']\n"
          ]
        }
      ],
      "source": [
        "fruits = [\"apple\", \"banana\", \"cherry\", \"kiwi\", \"mango\"]\n",
        "new_list= []# Where one would normally write a nested loop.\n",
        "for x in fruits:\n",
        "  if \"a\" in x:\n",
        "       new_list.append(x)# Can do the same but on one line in a much more elegant way.\n",
        "new_list = [x for x in fruits if \"a\" in x]\n",
        "obj = [\"Even\" if i%2==0 else \"Odd\" for i in range(8)]\n",
        "print(obj)"
      ]
    },
    {
      "cell_type": "code",
      "source": [
        "import datetime\n",
        "name = 'Fred'\n",
        "age = 50\n",
        "anniversary = datetime.date(1991, 10, 12)\n",
        "print(f'My name is {name}, my age next year is {age+1}, my anniversary is {anniversary:%A, %B %d, %Y}.')"
      ],
      "metadata": {
        "colab": {
          "base_uri": "https://localhost:8080/"
        },
        "id": "QuXNzAw_up8d",
        "outputId": "fe4ae53f-e03b-475c-9b3e-f92ff118234e"
      },
      "execution_count": 3,
      "outputs": [
        {
          "output_type": "stream",
          "name": "stdout",
          "text": [
            "My name is Fred, my age next year is 51, my anniversary is Saturday, October 12, 1991.\n"
          ]
        }
      ]
    },
    {
      "cell_type": "code",
      "source": [
        "# Say I want to get a string object exactly like this.\n",
        "x = '{name}' # Note this is not an f-string.# How would you do this using an f-string? You can't.\n",
        "n = 'name'\n",
        "print(f'{n}')\n",
        "print(f'{{n}}')"
      ],
      "metadata": {
        "colab": {
          "base_uri": "https://localhost:8080/"
        },
        "id": "RYjTFUOpuszb",
        "outputId": "f6778d2b-415e-4866-d4dc-65ce4d497941"
      },
      "execution_count": 5,
      "outputs": [
        {
          "output_type": "stream",
          "name": "stdout",
          "text": [
            "name\n",
            "{n}\n"
          ]
        }
      ]
    },
    {
      "cell_type": "code",
      "source": [
        "fruits = [\"apple\", \"banana\", \"cherry\", \"kiwi\", \"mango\"]\n",
        "user_input = 'apple'\n",
        "is_fruit = True if user_input in fruits else False\n",
        "is_fruit "
      ],
      "metadata": {
        "colab": {
          "base_uri": "https://localhost:8080/"
        },
        "id": "l94mZBDvu2Xs",
        "outputId": "9a3621eb-28da-424f-c6d3-189954c22e32"
      },
      "execution_count": 6,
      "outputs": [
        {
          "output_type": "execute_result",
          "data": {
            "text/plain": [
              "True"
            ]
          },
          "metadata": {},
          "execution_count": 6
        }
      ]
    }
  ]
}
