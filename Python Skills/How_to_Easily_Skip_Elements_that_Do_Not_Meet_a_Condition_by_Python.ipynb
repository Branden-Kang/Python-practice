{
  "nbformat": 4,
  "nbformat_minor": 0,
  "metadata": {
    "colab": {
      "provenance": [],
      "authorship_tag": "ABX9TyOAEzmBF8ZDQQFkYEyJ8vbr"
    },
    "kernelspec": {
      "name": "python3",
      "display_name": "Python 3"
    },
    "language_info": {
      "name": "python"
    }
  },
  "cells": [
    {
      "cell_type": "markdown",
      "source": [
        "[Reference](https://medium.com/@tubelwj/how-to-easily-skip-elements-that-do-not-meet-a-condition-by-python-51cb2199bdca)"
      ],
      "metadata": {
        "id": "PjpSBCC4MIFr"
      }
    },
    {
      "cell_type": "markdown",
      "source": [
        "# Removing Leading Spaces from a String"
      ],
      "metadata": {
        "id": "nxk_RFQUMOSH"
      }
    },
    {
      "cell_type": "code",
      "source": [
        "import itertools"
      ],
      "metadata": {
        "id": "a91_BfQEMQjv"
      },
      "execution_count": 2,
      "outputs": []
    },
    {
      "cell_type": "code",
      "execution_count": 3,
      "metadata": {
        "colab": {
          "base_uri": "https://localhost:8080/"
        },
        "id": "rSKZAKPrMEvN",
        "outputId": "4b2c7552-f193-484f-9886-5f356ef47e66"
      },
      "outputs": [
        {
          "output_type": "stream",
          "name": "stdout",
          "text": [
            "Hello, welcome to my blog!\n"
          ]
        }
      ],
      "source": [
        "def is_space(c):\n",
        "  return c == ' '\n",
        "\n",
        "s = '   Hello, welcome to my blog!'\n",
        "result = itertools.dropwhile(is_space, s)\n",
        "result = ''.join(result)\n",
        "\n",
        "print(result)"
      ]
    },
    {
      "cell_type": "markdown",
      "source": [
        "# Skipping Comments at the Beginning of a File"
      ],
      "metadata": {
        "id": "LbmfhLt9MVeV"
      }
    },
    {
      "cell_type": "code",
      "source": [
        "def is_comment(line):\n",
        "  return line.startswith('#')\n",
        "\n",
        "with open('my.py', 'r') as f:\n",
        "\n",
        "  result = itertools.dropwhile(is_comment, f)\n",
        "  for line in result:\n",
        "        print(line, end='')"
      ],
      "metadata": {
        "id": "V7ECZV4ZMLa7"
      },
      "execution_count": 5,
      "outputs": []
    },
    {
      "cell_type": "code",
      "source": [
        "# This is a minus calculation file\n",
        "# It is Python code\n",
        "\n",
        "def minus(x, y):\n",
        "    return x - y\n",
        "\n",
        "print(minus(7, 4))"
      ],
      "metadata": {
        "colab": {
          "base_uri": "https://localhost:8080/"
        },
        "id": "KNSl9P67MWLA",
        "outputId": "d89870cb-7f09-4495-a292-87906b68eac3"
      },
      "execution_count": 6,
      "outputs": [
        {
          "output_type": "stream",
          "name": "stdout",
          "text": [
            "3\n"
          ]
        }
      ]
    },
    {
      "cell_type": "markdown",
      "source": [
        "# Handling Time Series Data"
      ],
      "metadata": {
        "id": "V8jCadT0MbVM"
      }
    },
    {
      "cell_type": "code",
      "source": [
        "def is_zero(x):\n",
        "    return x == 0\n",
        "\n",
        "l = [0, 0, 5, 4, 21, 13, 10, 24, 5, 0]\n",
        "result = itertools.dropwhile(is_zero, l)\n",
        "result = list(result)\n",
        "print(result)"
      ],
      "metadata": {
        "colab": {
          "base_uri": "https://localhost:8080/"
        },
        "id": "dMn0b4ZnMaDP",
        "outputId": "f7a1a70c-23a1-4f0c-fa99-726d4b2909ac"
      },
      "execution_count": 7,
      "outputs": [
        {
          "output_type": "stream",
          "name": "stdout",
          "text": [
            "[5, 4, 21, 13, 10, 24, 5, 0]\n"
          ]
        }
      ]
    },
    {
      "cell_type": "markdown",
      "source": [
        "# Skipping Invalid Inputs in a Data Stream"
      ],
      "metadata": {
        "id": "WX57adAyMfAb"
      }
    },
    {
      "cell_type": "code",
      "source": [
        "data = ['invalid', 'car', 'truck', 'invalid', 'bus', 'train']\n",
        "\n",
        "cleaned_data = itertools.dropwhile(lambda x: x == 'invalid',data)\n",
        "print(list(cleaned_data))"
      ],
      "metadata": {
        "colab": {
          "base_uri": "https://localhost:8080/"
        },
        "id": "H0EsEHsRMcum",
        "outputId": "c85bc670-d88a-40c2-98e4-0f8492017d30"
      },
      "execution_count": 9,
      "outputs": [
        {
          "output_type": "stream",
          "name": "stdout",
          "text": [
            "['car', 'truck', 'invalid', 'bus', 'train']\n"
          ]
        }
      ]
    },
    {
      "cell_type": "markdown",
      "source": [
        "# Handling Stock Prices"
      ],
      "metadata": {
        "id": "Llbo3OacMhoJ"
      }
    },
    {
      "cell_type": "code",
      "source": [
        "stock_prices = [23.11, 25.03, 24.37, 24.88, 24.90, 26.1]\n",
        "\n",
        "threshold = 24.50\n",
        "valid_prices = list(itertools.dropwhile(lambda x: x < threshold, stock_prices))\n",
        "valid_prices"
      ],
      "metadata": {
        "colab": {
          "base_uri": "https://localhost:8080/"
        },
        "id": "myJRud96Mgg1",
        "outputId": "892a2f37-8ddd-43ac-e3b3-305a56676565"
      },
      "execution_count": 13,
      "outputs": [
        {
          "output_type": "execute_result",
          "data": {
            "text/plain": [
              "[25.03, 24.37, 24.88, 24.9, 26.1]"
            ]
          },
          "metadata": {},
          "execution_count": 13
        }
      ]
    }
  ]
}
