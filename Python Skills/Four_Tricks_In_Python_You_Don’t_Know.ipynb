{
  "nbformat": 4,
  "nbformat_minor": 0,
  "metadata": {
    "colab": {
      "name": "Four Tricks In Python You Don’t Know.ipynb",
      "provenance": [],
      "authorship_tag": "ABX9TyOmq+rmZPBHfxdJCmc87W9x"
    },
    "kernelspec": {
      "name": "python3",
      "display_name": "Python 3"
    },
    "language_info": {
      "name": "python"
    }
  },
  "cells": [
    {
      "cell_type": "markdown",
      "source": [
        "[Reference](https://medium.com/@mhmdjmala51/four-tricks-in-python-you-dont-know-1f71815d5542)"
      ],
      "metadata": {
        "id": "3XMJiNH6V1qZ"
      }
    },
    {
      "cell_type": "markdown",
      "source": [
        "# Get n largest numbers\n"
      ],
      "metadata": {
        "id": "8YCjjUgcV4Sq"
      }
    },
    {
      "cell_type": "code",
      "execution_count": 1,
      "metadata": {
        "colab": {
          "base_uri": "https://localhost:8080/"
        },
        "id": "GLoFyaCMVy04",
        "outputId": "6a0cc394-3e6d-4db1-ecde-d46aba0d6107"
      },
      "outputs": [
        {
          "output_type": "stream",
          "name": "stdout",
          "text": [
            "[100, 18, 10]\n"
          ]
        }
      ],
      "source": [
        "import heapq\n",
        "\n",
        "heap = [10, 5, 18, 1, 100]\n",
        "\n",
        "# heapq.nlargest(n, iterable)\n",
        "n_largest_numbers = heapq.nlargest(3, heap)\n",
        "\n",
        "# show result\n",
        "print(n_largest_numbers)"
      ]
    },
    {
      "cell_type": "markdown",
      "source": [
        "# Get n smallest numbers\n"
      ],
      "metadata": {
        "id": "Sybw7SAOV9np"
      }
    },
    {
      "cell_type": "code",
      "source": [
        "import heapq\n",
        "\n",
        "heap = [10, 5, 18, 1, 100, 8, 7]\n",
        "\n",
        "# heapq.nsmallest(n, iterable)\n",
        "n_smallest_numbers = heapq.nsmallest(4, heap)\n",
        "\n",
        "# show result\n",
        "print(n_smallest_numbers)"
      ],
      "metadata": {
        "colab": {
          "base_uri": "https://localhost:8080/"
        },
        "id": "5W_ScS-EV8Iw",
        "outputId": "574b8a76-26b9-4f25-9df7-a6e75b9a329a"
      },
      "execution_count": 2,
      "outputs": [
        {
          "output_type": "stream",
          "name": "stdout",
          "text": [
            "[1, 5, 7, 8]\n"
          ]
        }
      ]
    },
    {
      "cell_type": "markdown",
      "source": [
        "# Remove a specific part of the string\n"
      ],
      "metadata": {
        "id": "3Te3h1X3V_m7"
      }
    },
    {
      "cell_type": "code",
      "source": [
        "myString = \"+-+-+Python\"\n",
        "\n",
        "new_string = myString.removeprefix(\"+-+-+\")\n",
        "# new_string = myString.remove_suffix(\"+-+-+\")\n",
        "\n",
        "# show result\n",
        "print(new_string)"
      ],
      "metadata": {
        "id": "b__wbXzfV-vL"
      },
      "execution_count": 9,
      "outputs": []
    },
    {
      "cell_type": "markdown",
      "source": [
        "# Two ways to remove duplicate values from a list\n"
      ],
      "metadata": {
        "id": "EbzJ7Vp6WCIV"
      }
    },
    {
      "cell_type": "code",
      "source": [
        "li = [10, 15, 10, 10, 5, 5]\n",
        "\n",
        "without_duplicates = list(set(li))\n",
        "\n",
        "print(without_duplicates)"
      ],
      "metadata": {
        "colab": {
          "base_uri": "https://localhost:8080/"
        },
        "id": "h8zMSYf6WAv1",
        "outputId": "0eae22ee-ef85-44d2-e23a-9d641520b597"
      },
      "execution_count": 10,
      "outputs": [
        {
          "output_type": "stream",
          "name": "stdout",
          "text": [
            "[10, 5, 15]\n"
          ]
        }
      ]
    },
    {
      "cell_type": "code",
      "source": [
        "li = [10, 15, 10, 10, 5, 5]\n",
        "\n",
        "without_duplicates = dict.fromkeys(li)\n",
        "\n",
        "print(list(without_duplicates))"
      ],
      "metadata": {
        "colab": {
          "base_uri": "https://localhost:8080/"
        },
        "id": "qUWRIOUoWYCf",
        "outputId": "e7505552-5817-45da-f865-659cb47c3c63"
      },
      "execution_count": 11,
      "outputs": [
        {
          "output_type": "stream",
          "name": "stdout",
          "text": [
            "[10, 15, 5]\n"
          ]
        }
      ]
    }
  ]
}
