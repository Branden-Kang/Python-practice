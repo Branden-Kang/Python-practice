{
  "nbformat": 4,
  "nbformat_minor": 0,
  "metadata": {
    "colab": {
      "name": "Removal of Non ASCII characters using Python.ipynb",
      "provenance": [],
      "authorship_tag": "ABX9TyOg0ELqr6suFrC4whBD9HeT"
    },
    "kernelspec": {
      "name": "python3",
      "display_name": "Python 3"
    },
    "language_info": {
      "name": "python"
    }
  },
  "cells": [
    {
      "cell_type": "markdown",
      "metadata": {
        "id": "TisK-_4oO6pc"
      },
      "source": [
        "[Reference](https://avinashsdalvi.medium.com/removal-of-non-ascii-characters-using-python-299247c6e150)"
      ]
    },
    {
      "cell_type": "code",
      "metadata": {
        "colab": {
          "base_uri": "https://localhost:8080/"
        },
        "id": "K6B_S_hFO5gY",
        "outputId": "5245af70-719c-4e79-acb3-287df032c502"
      },
      "source": [
        "import re\n",
        "ini_string = \"'technews One lone dude awaits iPad 2 at Apple\\x89Ûªs SXSW store\"\n",
        "res1 = \" \".join(re.split(\"[^A-Za-z0-9]+\", ini_string)) \n",
        "print(res1)\n",
        "if re.match(\"[^\\t\\r\\n\\x20-\\x7E]+\", ini_string):\n",
        "    print(\"found\")\n",
        "    \n",
        "result = ini_string.encode().decode('ascii', 'replace').replace(u'\\ufffd', '`')\n",
        "result2 = ini_string.encode().decode(\"utf-8\").replace(u\"\\x89Ûª\", \"`\").encode(\"utf-8\")\n",
        "print(result2)"
      ],
      "execution_count": 5,
      "outputs": [
        {
          "output_type": "stream",
          "text": [
            " technews One lone dude awaits iPad 2 at Apple s SXSW store\n",
            "b\"'technews One lone dude awaits iPad 2 at Apple`s SXSW store\"\n"
          ],
          "name": "stdout"
        }
      ]
    }
  ]
}