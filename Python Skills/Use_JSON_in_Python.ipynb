{
  "nbformat": 4,
  "nbformat_minor": 0,
  "metadata": {
    "colab": {
      "name": "Use JSON in Python.ipynb",
      "provenance": [],
      "authorship_tag": "ABX9TyO+zhbeWGx1V66Llbso821Z"
    },
    "kernelspec": {
      "name": "python3",
      "display_name": "Python 3"
    },
    "language_info": {
      "name": "python"
    }
  },
  "cells": [
    {
      "cell_type": "markdown",
      "metadata": {
        "id": "iePFomIBct4_"
      },
      "source": [
        "[Reference](https://codefather-tech.medium.com/how-do-you-use-json-in-python-lets-find-out-codefather-601e3c44a867)"
      ]
    },
    {
      "cell_type": "code",
      "metadata": {
        "colab": {
          "base_uri": "https://localhost:8080/"
        },
        "id": "I3It9vEIcpqX",
        "outputId": "f140de70-d7e4-4c0b-f0c0-e29d6a66477d"
      },
      "source": [
        "user = {'name': 'John', 'email': 'test@email.com'}\n",
        "type(user)"
      ],
      "execution_count": 1,
      "outputs": [
        {
          "output_type": "execute_result",
          "data": {
            "text/plain": [
              "dict"
            ]
          },
          "metadata": {
            "tags": []
          },
          "execution_count": 1
        }
      ]
    },
    {
      "cell_type": "markdown",
      "metadata": {
        "id": "1n3jI0RedO-w"
      },
      "source": [
        "# What is JSON Dumps in Python?"
      ]
    },
    {
      "cell_type": "code",
      "metadata": {
        "colab": {
          "base_uri": "https://localhost:8080/"
        },
        "id": "hRHlzD6ldAvc",
        "outputId": "ab87769f-2cdd-4125-86d3-12322bcfedab"
      },
      "source": [
        "import json\n",
        "user_json = json.dumps(user)\n",
        "print(user_json)\n",
        "type(user)"
      ],
      "execution_count": 2,
      "outputs": [
        {
          "output_type": "stream",
          "text": [
            "{\"name\": \"John\", \"email\": \"test@email.com\"}\n"
          ],
          "name": "stdout"
        },
        {
          "output_type": "execute_result",
          "data": {
            "text/plain": [
              "dict"
            ]
          },
          "metadata": {
            "tags": []
          },
          "execution_count": 2
        }
      ]
    },
    {
      "cell_type": "markdown",
      "metadata": {
        "id": "4kyOJJfldNpR"
      },
      "source": [
        "# What is JSON Loads in Python?"
      ]
    },
    {
      "cell_type": "code",
      "metadata": {
        "colab": {
          "base_uri": "https://localhost:8080/"
        },
        "id": "Sl9ZZSyUdEDS",
        "outputId": "f818043b-2c46-403b-cee6-f0867757710b"
      },
      "source": [
        "user = json.loads(user_json)\n",
        "print(user)\n",
        "type(user)"
      ],
      "execution_count": 5,
      "outputs": [
        {
          "output_type": "stream",
          "text": [
            "{'name': 'John', 'email': 'test@email.com'}\n"
          ],
          "name": "stdout"
        },
        {
          "output_type": "execute_result",
          "data": {
            "text/plain": [
              "dict"
            ]
          },
          "metadata": {
            "tags": []
          },
          "execution_count": 5
        }
      ]
    },
    {
      "cell_type": "markdown",
      "metadata": {
        "id": "jFrcY2VWdUfW"
      },
      "source": [
        "# How Do You Read a JSON File in Python?"
      ]
    },
    {
      "cell_type": "code",
      "metadata": {
        "colab": {
          "base_uri": "https://localhost:8080/"
        },
        "id": "hOQHRaR5dLqh",
        "outputId": "24797d2a-cf4d-4dd8-f4bf-8eb37b3ac2e5"
      },
      "source": [
        "[\n",
        "  { \n",
        "    \"userId\": 1,\n",
        "    \"postId\": 1,\n",
        "    \"title\": \"How to Convert a JSON Object into a Python Object\"\n",
        "  },\n",
        "  { \n",
        "    \"userId\": 1,\n",
        "    \"postId\": 2,\n",
        "    \"title\": \"How to Convert a Python Object into a JSON Object\"\n",
        "  }\n",
        "]"
      ],
      "execution_count": 6,
      "outputs": [
        {
          "output_type": "execute_result",
          "data": {
            "text/plain": [
              "[{'postId': 1,\n",
              "  'title': 'How to Convert a JSON Object into a Python Object',\n",
              "  'userId': 1},\n",
              " {'postId': 2,\n",
              "  'title': 'How to Convert a Python Object into a JSON Object',\n",
              "  'userId': 1}]"
            ]
          },
          "metadata": {
            "tags": []
          },
          "execution_count": 6
        }
      ]
    },
    {
      "cell_type": "code",
      "metadata": {
        "id": "13QnrbhDdWIL"
      },
      "source": [
        "import json\n",
        "with open('posts.json') as json_file:\n",
        "     data = json.load(json_file)\n",
        " \n",
        "print(data)"
      ],
      "execution_count": 7,
      "outputs": []
    },
    {
      "cell_type": "code",
      "metadata": {
        "id": "jBrEeBDedaR8"
      },
      "source": [
        "print(type(data[0]))\n",
        "print(data[0]['title'])"
      ],
      "execution_count": 8,
      "outputs": []
    },
    {
      "cell_type": "markdown",
      "metadata": {
        "id": "v_3As7oWdgD4"
      },
      "source": [
        "# How Do You Write a JSON File in Python?"
      ]
    },
    {
      "cell_type": "code",
      "metadata": {
        "id": "m7G30bVgddVQ"
      },
      "source": [
        "data = [{'userId': 1, 'postId': 1, 'title': 'How to Convert a JSON Object into a Python Object'}, {'userId': 1, 'postId': 2, 'title': 'How to Convert a Python Object into a JSON Object'}]"
      ],
      "execution_count": 9,
      "outputs": []
    },
    {
      "cell_type": "code",
      "metadata": {
        "id": "kNamHv39dghb"
      },
      "source": [
        "data[0]['body'] = ''"
      ],
      "execution_count": 10,
      "outputs": []
    },
    {
      "cell_type": "code",
      "metadata": {
        "id": "ZyitDNdmdhik"
      },
      "source": [
        "data[1]['body'] = ''"
      ],
      "execution_count": 11,
      "outputs": []
    },
    {
      "cell_type": "code",
      "metadata": {
        "colab": {
          "base_uri": "https://localhost:8080/"
        },
        "id": "G5C2gGRpdjln",
        "outputId": "30393aa2-bfc0-4f19-8a41-deb6d5fdbce3"
      },
      "source": [
        "print(data)"
      ],
      "execution_count": 12,
      "outputs": [
        {
          "output_type": "stream",
          "text": [
            "[{'userId': 1, 'postId': 1, 'title': 'How to Convert a JSON Object into a Python Object', 'body': ''}, {'userId': 1, 'postId': 2, 'title': 'How to Convert a Python Object into a JSON Object', 'body': ''}]\n"
          ],
          "name": "stdout"
        }
      ]
    },
    {
      "cell_type": "code",
      "metadata": {
        "colab": {
          "base_uri": "https://localhost:8080/",
          "height": 215
        },
        "id": "YkJL5Uq9dkk6",
        "outputId": "7f75410d-6f93-45f0-fbc0-857319a7c3fd"
      },
      "source": [
        "with open('posts.json') as json_file:\n",
        "     json.dump(data, json_file)"
      ],
      "execution_count": 13,
      "outputs": [
        {
          "output_type": "error",
          "ename": "FileNotFoundError",
          "evalue": "ignored",
          "traceback": [
            "\u001b[0;31m---------------------------------------------------------------------------\u001b[0m",
            "\u001b[0;31mFileNotFoundError\u001b[0m                         Traceback (most recent call last)",
            "\u001b[0;32m<ipython-input-13-80191036ae46>\u001b[0m in \u001b[0;36m<module>\u001b[0;34m()\u001b[0m\n\u001b[0;32m----> 1\u001b[0;31m \u001b[0;32mwith\u001b[0m \u001b[0mopen\u001b[0m\u001b[0;34m(\u001b[0m\u001b[0;34m'posts.json'\u001b[0m\u001b[0;34m)\u001b[0m \u001b[0;32mas\u001b[0m \u001b[0mjson_file\u001b[0m\u001b[0;34m:\u001b[0m\u001b[0;34m\u001b[0m\u001b[0;34m\u001b[0m\u001b[0m\n\u001b[0m\u001b[1;32m      2\u001b[0m      \u001b[0mjson\u001b[0m\u001b[0;34m.\u001b[0m\u001b[0mdump\u001b[0m\u001b[0;34m(\u001b[0m\u001b[0mdata\u001b[0m\u001b[0;34m,\u001b[0m \u001b[0mjson_file\u001b[0m\u001b[0;34m)\u001b[0m\u001b[0;34m\u001b[0m\u001b[0;34m\u001b[0m\u001b[0m\n",
            "\u001b[0;31mFileNotFoundError\u001b[0m: [Errno 2] No such file or directory: 'posts.json'"
          ]
        }
      ]
    },
    {
      "cell_type": "code",
      "metadata": {
        "id": "kDye0tbLdmyY"
      },
      "source": [
        "with open('posts.json', 'w') as json_file:\n",
        "     json.dump(data, json_file)"
      ],
      "execution_count": 14,
      "outputs": []
    },
    {
      "cell_type": "code",
      "metadata": {
        "colab": {
          "base_uri": "https://localhost:8080/"
        },
        "id": "k9nt4slFdtA4",
        "outputId": "5b0de7fd-0d51-45f9-ddfe-a7c019738ab4"
      },
      "source": [
        "with open('posts.json') as json_file:\n",
        "     print(json_file.read())"
      ],
      "execution_count": 15,
      "outputs": [
        {
          "output_type": "stream",
          "text": [
            "[{\"userId\": 1, \"postId\": 1, \"title\": \"How to Convert a JSON Object into a Python Object\", \"body\": \"\"}, {\"userId\": 1, \"postId\": 2, \"title\": \"How to Convert a Python Object into a JSON Object\", \"body\": \"\"}]\n"
          ],
          "name": "stdout"
        }
      ]
    },
    {
      "cell_type": "markdown",
      "metadata": {
        "id": "icAqgfpAdwu1"
      },
      "source": [
        "# JSON Conversion Table in Python"
      ]
    },
    {
      "cell_type": "code",
      "metadata": {
        "id": "rjo5ZCkDdvui"
      },
      "source": [
        "weekdays_json = '[\"Monday\", \"Tuesday\", \"Wednesday\", \"Thursday\", \"Friday\"]'"
      ],
      "execution_count": 16,
      "outputs": []
    },
    {
      "cell_type": "code",
      "metadata": {
        "colab": {
          "base_uri": "https://localhost:8080/"
        },
        "id": "ztgfIxeydyc5",
        "outputId": "e72653dd-59ca-4e75-f35c-f567274c9237"
      },
      "source": [
        "import json\n",
        "weekdays = json.loads(weekdays_json)\n",
        "print(weekdays)"
      ],
      "execution_count": 17,
      "outputs": [
        {
          "output_type": "stream",
          "text": [
            "['Monday', 'Tuesday', 'Wednesday', 'Thursday', 'Friday']\n"
          ],
          "name": "stdout"
        }
      ]
    },
    {
      "cell_type": "code",
      "metadata": {
        "colab": {
          "base_uri": "https://localhost:8080/"
        },
        "id": "PPtj7fmGdzq4",
        "outputId": "f0d1716f-5100-4848-ba4f-0c4a5ec18552"
      },
      "source": [
        "print(weekdays[2])"
      ],
      "execution_count": 18,
      "outputs": [
        {
          "output_type": "stream",
          "text": [
            "Wednesday\n"
          ],
          "name": "stdout"
        }
      ]
    },
    {
      "cell_type": "code",
      "metadata": {
        "colab": {
          "base_uri": "https://localhost:8080/"
        },
        "id": "VFhQfDJ0d0po",
        "outputId": "b0806a2a-2966-492a-8a7f-461ef342b3e3"
      },
      "source": [
        "json_value = '{\"weekdays\": [\"Monday\", \"Tuesday\", \"Wednesday\", \"Thursday\", \"Friday\"]}'\n",
        "value = json.loads(json_value)\n",
        "print(value)\n",
        "print(type(value))"
      ],
      "execution_count": 19,
      "outputs": [
        {
          "output_type": "stream",
          "text": [
            "{'weekdays': ['Monday', 'Tuesday', 'Wednesday', 'Thursday', 'Friday']}\n",
            "<class 'dict'>\n"
          ],
          "name": "stdout"
        }
      ]
    },
    {
      "cell_type": "code",
      "metadata": {
        "colab": {
          "base_uri": "https://localhost:8080/"
        },
        "id": "jKX8Zd4sd3tC",
        "outputId": "f903a3ef-cd1a-45c3-d786-291c5af04ec7"
      },
      "source": [
        "print(type(value['weekdays']))"
      ],
      "execution_count": 20,
      "outputs": [
        {
          "output_type": "stream",
          "text": [
            "<class 'list'>\n"
          ],
          "name": "stdout"
        }
      ]
    },
    {
      "cell_type": "markdown",
      "metadata": {
        "id": "GZMTvZB8d8Kv"
      },
      "source": [
        "# Converting Boolean, Numeric and Null Values from JSON to Python"
      ]
    },
    {
      "cell_type": "code",
      "metadata": {
        "colab": {
          "base_uri": "https://localhost:8080/"
        },
        "id": "rOl7asmEd7AL",
        "outputId": "d793219d-c290-4048-fb53-724aa6422d49"
      },
      "source": [
        "json_value = '{\"value1\": true, \"value2\": false, \"value3\": 1, \"value4\": 3.4, \"value5\": null}'\n",
        "value = json.loads(json_value)\n",
        "print(value)"
      ],
      "execution_count": 21,
      "outputs": [
        {
          "output_type": "stream",
          "text": [
            "{'value1': True, 'value2': False, 'value3': 1, 'value4': 3.4, 'value5': None}\n"
          ],
          "name": "stdout"
        }
      ]
    },
    {
      "cell_type": "code",
      "metadata": {
        "colab": {
          "base_uri": "https://localhost:8080/"
        },
        "id": "o15MKVHXd9t6",
        "outputId": "448ad909-c33e-4c71-cf35-7ffbdb24dda2"
      },
      "source": [
        "print(type(value['value1']))\n",
        "print(type(value['value2']))\n",
        "print(type(value['value3']))\n",
        "print(type(value['value4']))\n",
        "print(type(value['value5']))"
      ],
      "execution_count": 24,
      "outputs": [
        {
          "output_type": "stream",
          "text": [
            "<class 'bool'>\n",
            "<class 'bool'>\n",
            "<class 'int'>\n",
            "<class 'float'>\n",
            "<class 'NoneType'>\n"
          ],
          "name": "stdout"
        }
      ]
    },
    {
      "cell_type": "code",
      "metadata": {
        "colab": {
          "base_uri": "https://localhost:8080/"
        },
        "id": "6np8nB7reAt8",
        "outputId": "af3eecfc-bc59-4b73-f3f6-4b1638f120c4"
      },
      "source": [
        "print(value)"
      ],
      "execution_count": 25,
      "outputs": [
        {
          "output_type": "stream",
          "text": [
            "{'value1': True, 'value2': False, 'value3': 1, 'value4': 3.4, 'value5': None}\n"
          ],
          "name": "stdout"
        }
      ]
    },
    {
      "cell_type": "code",
      "metadata": {
        "colab": {
          "base_uri": "https://localhost:8080/"
        },
        "id": "ZMRXpmzveFMX",
        "outputId": "dfc909c1-f61c-4a75-a5b3-ac7c13f9fca1"
      },
      "source": [
        "json_value = json.dumps(value)\n",
        "print(json_value)"
      ],
      "execution_count": 26,
      "outputs": [
        {
          "output_type": "stream",
          "text": [
            "{\"value1\": true, \"value2\": false, \"value3\": 1, \"value4\": 3.4, \"value5\": null}\n"
          ],
          "name": "stdout"
        }
      ]
    },
    {
      "cell_type": "markdown",
      "metadata": {
        "id": "ixwOZzUMeIR1"
      },
      "source": [
        "# How to Pretty Print JSON Data"
      ]
    },
    {
      "cell_type": "code",
      "metadata": {
        "colab": {
          "base_uri": "https://localhost:8080/"
        },
        "id": "5xBwZL3ueHJM",
        "outputId": "0636e899-7dba-4793-b44a-c117e0511787"
      },
      "source": [
        "print(json_value)"
      ],
      "execution_count": 27,
      "outputs": [
        {
          "output_type": "stream",
          "text": [
            "{\"value1\": true, \"value2\": false, \"value3\": 1, \"value4\": 3.4, \"value5\": null}\n"
          ],
          "name": "stdout"
        }
      ]
    },
    {
      "cell_type": "code",
      "metadata": {
        "colab": {
          "base_uri": "https://localhost:8080/"
        },
        "id": "7W_gLzCyeJql",
        "outputId": "a4217ade-7f13-493d-8a2b-209c31b7bd14"
      },
      "source": [
        "print(json.dumps(value, indent=0))"
      ],
      "execution_count": 28,
      "outputs": [
        {
          "output_type": "stream",
          "text": [
            "{\n",
            "\"value1\": true,\n",
            "\"value2\": false,\n",
            "\"value3\": 1,\n",
            "\"value4\": 3.4,\n",
            "\"value5\": null\n",
            "}\n"
          ],
          "name": "stdout"
        }
      ]
    },
    {
      "cell_type": "code",
      "metadata": {
        "colab": {
          "base_uri": "https://localhost:8080/"
        },
        "id": "4jsMrYSYeL7a",
        "outputId": "6ded0cd8-2f74-497c-8abc-572e39ddb161"
      },
      "source": [
        "print(json.dumps(value, indent=1))"
      ],
      "execution_count": 29,
      "outputs": [
        {
          "output_type": "stream",
          "text": [
            "{\n",
            " \"value1\": true,\n",
            " \"value2\": false,\n",
            " \"value3\": 1,\n",
            " \"value4\": 3.4,\n",
            " \"value5\": null\n",
            "}\n"
          ],
          "name": "stdout"
        }
      ]
    },
    {
      "cell_type": "code",
      "metadata": {
        "colab": {
          "base_uri": "https://localhost:8080/"
        },
        "id": "Z0EbAVZmeNZF",
        "outputId": "d68417ae-6128-4747-dda4-2a878211b0c4"
      },
      "source": [
        "print(json.dumps(value, indent=2))"
      ],
      "execution_count": 30,
      "outputs": [
        {
          "output_type": "stream",
          "text": [
            "{\n",
            "  \"value1\": true,\n",
            "  \"value2\": false,\n",
            "  \"value3\": 1,\n",
            "  \"value4\": 3.4,\n",
            "  \"value5\": null\n",
            "}\n"
          ],
          "name": "stdout"
        }
      ]
    },
    {
      "cell_type": "markdown",
      "metadata": {
        "id": "Oc9i7t4DeTQd"
      },
      "source": [
        "# Separators For JSON Objects in Python"
      ]
    },
    {
      "cell_type": "code",
      "metadata": {
        "colab": {
          "base_uri": "https://localhost:8080/"
        },
        "id": "gwdwtvH4eRMd",
        "outputId": "50f0f8dd-4dba-4b0d-c89c-984921864699"
      },
      "source": [
        "print(json.dumps(value, indent=2))"
      ],
      "execution_count": 31,
      "outputs": [
        {
          "output_type": "stream",
          "text": [
            "{\n",
            "  \"value1\": true,\n",
            "  \"value2\": false,\n",
            "  \"value3\": 1,\n",
            "  \"value4\": 3.4,\n",
            "  \"value5\": null\n",
            "}\n"
          ],
          "name": "stdout"
        }
      ]
    },
    {
      "cell_type": "code",
      "metadata": {
        "colab": {
          "base_uri": "https://localhost:8080/"
        },
        "id": "5WEtAL_begEZ",
        "outputId": "a4f91d69-7537-4f71-9259-acc294489deb"
      },
      "source": [
        "print(json.dumps(value, indent=2, separators=(',',':')))"
      ],
      "execution_count": 32,
      "outputs": [
        {
          "output_type": "stream",
          "text": [
            "{\n",
            "  \"value1\":true,\n",
            "  \"value2\":false,\n",
            "  \"value3\":1,\n",
            "  \"value4\":3.4,\n",
            "  \"value5\":null\n",
            "}\n"
          ],
          "name": "stdout"
        }
      ]
    },
    {
      "cell_type": "code",
      "metadata": {
        "colab": {
          "base_uri": "https://localhost:8080/"
        },
        "id": "nDypxZ8vehXK",
        "outputId": "f970e799-2fe6-4617-e12b-06979be4a9ca"
      },
      "source": [
        "user = {'name': 'John', 'surname': 'Red', 'age':35}\n",
        "print(json.dumps(user))"
      ],
      "execution_count": 33,
      "outputs": [
        {
          "output_type": "stream",
          "text": [
            "{\"name\": \"John\", \"surname\": \"Red\", \"age\": 35}\n"
          ],
          "name": "stdout"
        }
      ]
    },
    {
      "cell_type": "code",
      "metadata": {
        "colab": {
          "base_uri": "https://localhost:8080/"
        },
        "id": "ZYFOVEO3ekbY",
        "outputId": "8e05d3a8-aff7-4289-fd30-926782ca241e"
      },
      "source": [
        "print(json.dumps(user, sort_keys=True))"
      ],
      "execution_count": 34,
      "outputs": [
        {
          "output_type": "stream",
          "text": [
            "{\"age\": 35, \"name\": \"John\", \"surname\": \"Red\"}\n"
          ],
          "name": "stdout"
        }
      ]
    },
    {
      "cell_type": "markdown",
      "metadata": {
        "id": "y-68s-_Demdf"
      },
      "source": [
        "# Using a For Loop to Print Elements in a JSON Array"
      ]
    },
    {
      "cell_type": "code",
      "metadata": {
        "colab": {
          "base_uri": "https://localhost:8080/"
        },
        "id": "YtK3Tkroelkh",
        "outputId": "85bcbf41-39a0-4227-e97a-93a5d1d97a98"
      },
      "source": [
        "{\n",
        "  \"users\": [\n",
        "    {\n",
        "      \"id\": 1,\n",
        "      \"first_name\": \"John\",\n",
        "      \"last_name\": \"Red\",\n",
        "      \"email\": \"johnred@example.com\"\n",
        "    },\n",
        "    {\n",
        "      \"id\": 2,\n",
        "      \"first_name\": \"Mike\",\n",
        "      \"last_name\": \"Yellow\",\n",
        "      \"email\": \"mikeyellow@example.com\"\n",
        "    },\n",
        "    {\n",
        "      \"id\": 3,\n",
        "      \"first_name\": \"Jane\",\n",
        "      \"last_name\": \"Green\",\n",
        "      \"email\": \"janegreen@example.com\"\n",
        "    }\n",
        "  ]\n",
        "}"
      ],
      "execution_count": 35,
      "outputs": [
        {
          "output_type": "execute_result",
          "data": {
            "text/plain": [
              "{'users': [{'email': 'johnred@example.com',\n",
              "   'first_name': 'John',\n",
              "   'id': 1,\n",
              "   'last_name': 'Red'},\n",
              "  {'email': 'mikeyellow@example.com',\n",
              "   'first_name': 'Mike',\n",
              "   'id': 2,\n",
              "   'last_name': 'Yellow'},\n",
              "  {'email': 'janegreen@example.com',\n",
              "   'first_name': 'Jane',\n",
              "   'id': 3,\n",
              "   'last_name': 'Green'}]}"
            ]
          },
          "metadata": {
            "tags": []
          },
          "execution_count": 35
        }
      ]
    },
    {
      "cell_type": "markdown",
      "metadata": {
        "id": "2KlU6forevVX"
      },
      "source": [
        "# How to Get JSON From an API Using Python"
      ]
    },
    {
      "cell_type": "code",
      "metadata": {
        "id": "83tuG3VfertC"
      },
      "source": [
        "import urllib.request\n",
        "response = urllib.request.urlopen('https://dog.ceo/api/breeds/list/all').read().decode()"
      ],
      "execution_count": 36,
      "outputs": []
    },
    {
      "cell_type": "code",
      "metadata": {
        "colab": {
          "base_uri": "https://localhost:8080/"
        },
        "id": "Ww_eRjPwex8a",
        "outputId": "f94f12ce-f6da-4c05-ded9-f6ffebe8de3c"
      },
      "source": [
        "print(response[:200])"
      ],
      "execution_count": 37,
      "outputs": [
        {
          "output_type": "stream",
          "text": [
            "{\"message\":{\"affenpinscher\":[],\"african\":[],\"airedale\":[],\"akita\":[],\"appenzeller\":[],\"australian\":[\"shepherd\"],\"basenji\":[],\"beagle\":[],\"bluetick\":[],\"borzoi\":[],\"bouvier\":[],\"boxer\":[],\"brabancon\":[\n"
          ],
          "name": "stdout"
        }
      ]
    },
    {
      "cell_type": "code",
      "metadata": {
        "colab": {
          "base_uri": "https://localhost:8080/"
        },
        "id": "YODW9v_-ezE8",
        "outputId": "19601898-3c1e-44f9-c0a5-e34a17001ca0"
      },
      "source": [
        "import json\n",
        "data = json.loads(response)\n",
        "print(type(data))"
      ],
      "execution_count": 38,
      "outputs": [
        {
          "output_type": "stream",
          "text": [
            "<class 'dict'>\n"
          ],
          "name": "stdout"
        }
      ]
    }
  ]
}