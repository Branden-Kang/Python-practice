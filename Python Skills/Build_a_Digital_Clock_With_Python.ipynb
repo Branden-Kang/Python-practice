{
  "nbformat": 4,
  "nbformat_minor": 0,
  "metadata": {
    "colab": {
      "name": "Build a Digital Clock With Python.ipynb",
      "provenance": [],
      "authorship_tag": "ABX9TyPo1f0m+K7x8lgByq9cATYp"
    },
    "kernelspec": {
      "name": "python3",
      "display_name": "Python 3"
    },
    "language_info": {
      "name": "python"
    }
  },
  "cells": [
    {
      "cell_type": "markdown",
      "metadata": {
        "id": "cYFAtaSkk9eu"
      },
      "source": [
        "[Reference](https://python.plainenglish.io/build-a-digital-clock-with-python-f4860f2e5f2d)"
      ]
    },
    {
      "cell_type": "code",
      "metadata": {
        "id": "_6nl_h2KkgJH"
      },
      "source": [
        "from tkinter import *\n",
        "from tkinter.ttk import *\n",
        "from time import strftime\n",
        "\n",
        "root = Tk()\n",
        "root.title(\"Digital Clock\")\n",
        "\n",
        "label = Label(root, font=(\"ds-digital\", 70), background = \"black\", foreground = \"lightgreen\")\n",
        "label.pack(anchor = 'center')\n",
        "\n",
        "def time():\n",
        "  string = strftime('%H:%M:%S %p')\n",
        "  label.config(text=string)\n",
        "  label. after(1000, time)\n",
        "  \n",
        "time()\n",
        "mainloop()"
      ],
      "execution_count": 1,
      "outputs": []
    }
  ]
}