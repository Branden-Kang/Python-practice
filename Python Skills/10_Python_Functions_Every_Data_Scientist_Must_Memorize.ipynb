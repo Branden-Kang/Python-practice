{
  "nbformat": 4,
  "nbformat_minor": 0,
  "metadata": {
    "colab": {
      "provenance": [],
      "authorship_tag": "ABX9TyPgkr0wF2L54IsgK5gtaAqt"
    },
    "kernelspec": {
      "name": "python3",
      "display_name": "Python 3"
    },
    "language_info": {
      "name": "python"
    }
  },
  "cells": [
    {
      "cell_type": "markdown",
      "source": [
        "[Reference](https://medium.com/@Behavior2020/10-python-functions-every-data-scientist-must-memorize-60821960e2ad)"
      ],
      "metadata": {
        "id": "qe-SCLdceta_"
      }
    },
    {
      "cell_type": "markdown",
      "source": [
        "# 1. Print Function"
      ],
      "metadata": {
        "id": "_NiA-fjCev0A"
      }
    },
    {
      "cell_type": "code",
      "execution_count": 1,
      "metadata": {
        "colab": {
          "base_uri": "https://localhost:8080/"
        },
        "id": "bHsCXH1_erPQ",
        "outputId": "6250b9aa-7657-40ef-8625-057518c37e1f"
      },
      "outputs": [
        {
          "output_type": "stream",
          "name": "stdout",
          "text": [
            "Product: Laptop\n",
            "Total Sales: 1500\n",
            "Total Revenue: 3000 USD\n"
          ]
        }
      ],
      "source": [
        "def display_sales_info(product, sales, revenue):\n",
        "    print('Product', product, sep=': ')\n",
        "    print('Total Sales', sales, sep=': ')\n",
        "    print('Total Revenue', revenue, sep=': ')\n",
        "\n",
        "display_sales_info('Laptop', 1500, '3000 USD')"
      ]
    },
    {
      "cell_type": "markdown",
      "source": [
        "# 2. Help Function"
      ],
      "metadata": {
        "id": "mt6-BVYteygr"
      }
    },
    {
      "cell_type": "code",
      "source": [
        "def calculate_discounted_price(price, discount):\n",
        "    \"\"\" Calculate the discounted price of a product.\n",
        "\n",
        "    price: original price of the product\n",
        "    discount: discount percentage to be applied returns: float\n",
        "    \"\"\"\n",
        "\n",
        "    return price * (1 - discount / 100)\n",
        "\n",
        "# Example of using the help function\n",
        "help(calculate_discounted_price)"
      ],
      "metadata": {
        "colab": {
          "base_uri": "https://localhost:8080/"
        },
        "id": "3ZxDg7t3exii",
        "outputId": "95dee43d-0b57-46ca-9a73-59e8ae0d5563"
      },
      "execution_count": 3,
      "outputs": [
        {
          "output_type": "stream",
          "name": "stdout",
          "text": [
            "Help on function calculate_discounted_price in module __main__:\n",
            "\n",
            "calculate_discounted_price(price, discount)\n",
            "    Calculate the discounted price of a product. \n",
            "    \n",
            "    price: original price of the product \n",
            "    discount: discount percentage to be applied returns: float\n",
            "\n"
          ]
        }
      ]
    },
    {
      "cell_type": "markdown",
      "source": [
        "# 3. Range Function"
      ],
      "metadata": {
        "id": "4WNfKRkTe1xe"
      }
    },
    {
      "cell_type": "code",
      "source": [
        "def generate_sales_days(start_day, end_day):\n",
        " return list(range(start_day, end_day + 1))\n",
        "\n",
        "print(generate_sales_days(1, 7)) # Generates days of the week"
      ],
      "metadata": {
        "colab": {
          "base_uri": "https://localhost:8080/"
        },
        "id": "wjnjXiXmez43",
        "outputId": "817dce9c-06df-4fc3-a762-7a9f22810008"
      },
      "execution_count": 4,
      "outputs": [
        {
          "output_type": "stream",
          "name": "stdout",
          "text": [
            "[1, 2, 3, 4, 5, 6, 7]\n"
          ]
        }
      ]
    },
    {
      "cell_type": "markdown",
      "source": [
        "# 4. Map Function"
      ],
      "metadata": {
        "id": "oi18fTdqe6Bq"
      }
    },
    {
      "cell_type": "code",
      "source": [
        "def apply_discount(prices, discount):\n",
        " return list(map(lambda x: x * (1 - discount / 100), prices))\n",
        "\n",
        "print(apply_discount([100, 200, 300, 400, 500], 10)) # Apply a 10% discount"
      ],
      "metadata": {
        "colab": {
          "base_uri": "https://localhost:8080/"
        },
        "id": "iG3BOTb4e4ZA",
        "outputId": "946b7962-a1cd-4439-bb52-7c0851ab0454"
      },
      "execution_count": 5,
      "outputs": [
        {
          "output_type": "stream",
          "name": "stdout",
          "text": [
            "[90.0, 180.0, 270.0, 360.0, 450.0]\n"
          ]
        }
      ]
    },
    {
      "cell_type": "markdown",
      "source": [
        "# 5. Filter Function"
      ],
      "metadata": {
        "id": "JclmAgFPe9mx"
      }
    },
    {
      "cell_type": "code",
      "source": [
        "def filter_high_sales(sales, threshold):\n",
        " return list(filter(lambda x: x > threshold, sales))\n",
        "\n",
        "print(filter_high_sales([100, 200, 50, 300, 150], 150)) # Filter sales greater than 150\n"
      ],
      "metadata": {
        "colab": {
          "base_uri": "https://localhost:8080/"
        },
        "id": "QkYjPYIYe8r6",
        "outputId": "ab16711c-16a4-4511-f62f-c177af68a51b"
      },
      "execution_count": 6,
      "outputs": [
        {
          "output_type": "stream",
          "name": "stdout",
          "text": [
            "[200, 300]\n"
          ]
        }
      ]
    },
    {
      "cell_type": "markdown",
      "source": [
        "# 6. Sorted Function"
      ],
      "metadata": {
        "id": "iFUZeuGie_9Y"
      }
    },
    {
      "cell_type": "code",
      "source": [
        "def sort_sales_data_by_sales(data):\n",
        " return sorted(data, key=lambda x: x['Sales'])\n",
        "sales_data = [\n",
        " {'Product': 'Laptop', 'Sales': 150},\n",
        " {'Product': 'Mouse', 'Sales': 300},\n",
        " {'Product': 'Keyboard', 'Sales': 200},\n",
        "]\n",
        "\n",
        "print(sort_sales_data_by_sales(sales_data))"
      ],
      "metadata": {
        "colab": {
          "base_uri": "https://localhost:8080/"
        },
        "id": "9DFXjFlke_AG",
        "outputId": "c737dd08-b906-4c16-db7c-8376f6923071"
      },
      "execution_count": 7,
      "outputs": [
        {
          "output_type": "stream",
          "name": "stdout",
          "text": [
            "[{'Product': 'Laptop', 'Sales': 150}, {'Product': 'Keyboard', 'Sales': 200}, {'Product': 'Mouse', 'Sales': 300}]\n"
          ]
        }
      ]
    },
    {
      "cell_type": "markdown",
      "source": [
        "# 7. Enumerate Function"
      ],
      "metadata": {
        "id": "sNhGTw6SfChv"
      }
    },
    {
      "cell_type": "code",
      "source": [
        "def list_products_with_index(products):\n",
        " for index, product in enumerate(products):\n",
        "  print(f\"{index + 1}. {product}\")\n",
        "\n",
        "list_products_with_index(['Laptop', 'Mouse', 'Keyboard'])"
      ],
      "metadata": {
        "colab": {
          "base_uri": "https://localhost:8080/"
        },
        "id": "Dyd632BqfBU7",
        "outputId": "d2c42e24-01b4-474c-b752-3dad77231efb"
      },
      "execution_count": 8,
      "outputs": [
        {
          "output_type": "stream",
          "name": "stdout",
          "text": [
            "1. Laptop\n",
            "2. Mouse\n",
            "3. Keyboard\n"
          ]
        }
      ]
    },
    {
      "cell_type": "markdown",
      "source": [
        "# 8. Zip Function"
      ],
      "metadata": {
        "id": "b6vD3o0PfExc"
      }
    },
    {
      "cell_type": "code",
      "source": [
        "def combine_sales_data(products, sales):\n",
        " return list(zip(products, sales))\n",
        "\n",
        "print(combine_sales_data(['Laptop', 'Mouse', 'Keyboard'], [150, 300, 200]))"
      ],
      "metadata": {
        "colab": {
          "base_uri": "https://localhost:8080/"
        },
        "id": "WSeo5cygfEBV",
        "outputId": "3e187bd8-46bb-41ed-a670-49ab27eccd5b"
      },
      "execution_count": 9,
      "outputs": [
        {
          "output_type": "stream",
          "name": "stdout",
          "text": [
            "[('Laptop', 150), ('Mouse', 300), ('Keyboard', 200)]\n"
          ]
        }
      ]
    },
    {
      "cell_type": "markdown",
      "source": [
        "# 9. Open Function"
      ],
      "metadata": {
        "id": "E1qJI0pRfHDN"
      }
    },
    {
      "cell_type": "code",
      "source": [
        "def write_sales_to_file(filename, content):\n",
        "    \"\"\"Writes content into file\"\"\"\n",
        "    with open(filename, \"w\") as file:\n",
        "        file.write(content)\n",
        "\n",
        "def read_sales_file(filename):\n",
        "    \"\"\"Reads content in file only\"\"\"\n",
        "    with open(filename, \"r\") as file:\n",
        "        return file.read()\n",
        "\n",
        "def append_sales_to_file(filename, content):\n",
        "    \"\"\"Appends new content to original content\"\"\"\n",
        "    with open(filename, \"a\") as file:\n",
        "        file.write(content)\n",
        "\n",
        "write_sales_to_file(\"sales.txt\", \"Product: Laptop\\nSales: 150\")\n",
        "print(read_sales_file(\"sales.txt\"))\n",
        "\n",
        "append_sales_to_file(\"sales.txt\", \"\\nProduct: Mouse\\nSales: 300\")\n",
        "print(read_sales_file(\"sales.txt\"))"
      ],
      "metadata": {
        "id": "kI4Ur5ayfGK7"
      },
      "execution_count": 10,
      "outputs": []
    },
    {
      "cell_type": "markdown",
      "source": [
        "# 10. Sum Function:"
      ],
      "metadata": {
        "id": "yHy5txJYfPe3"
      }
    },
    {
      "cell_type": "code",
      "source": [
        "def calculate_total_sales(sales):\n",
        " return sum(sales)\n",
        "\n",
        "print(calculate_total_sales([150, 300, 200]))"
      ],
      "metadata": {
        "colab": {
          "base_uri": "https://localhost:8080/"
        },
        "id": "iVUaYYsCfODv",
        "outputId": "fcde47be-0172-44b1-ec9c-79f6779792c9"
      },
      "execution_count": 11,
      "outputs": [
        {
          "output_type": "stream",
          "name": "stdout",
          "text": [
            "650\n"
          ]
        }
      ]
    }
  ]
}
