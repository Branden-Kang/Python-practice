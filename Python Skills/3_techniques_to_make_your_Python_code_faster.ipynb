{
  "nbformat": 4,
  "nbformat_minor": 0,
  "metadata": {
    "colab": {
      "name": "3 techniques to make your Python code faster.ipynb",
      "provenance": [],
      "authorship_tag": "ABX9TyOTnlhV3GEZSv6cN6hct/n1"
    },
    "kernelspec": {
      "name": "python3",
      "display_name": "Python 3"
    }
  },
  "cells": [
    {
      "cell_type": "markdown",
      "metadata": {
        "id": "aH2OAyiaccxX",
        "colab_type": "text"
      },
      "source": [
        "[Reference](https://towardsdatascience.com/3-techniques-to-make-your-python-code-faster-193ffab5eb36)"
      ]
    },
    {
      "cell_type": "code",
      "metadata": {
        "id": "XiYP3qi-cnEn",
        "colab_type": "code",
        "colab": {}
      },
      "source": [
        "import time\n",
        "\n",
        "def compute_speedup(slow_func, opt_func, func_name, tp=None):\n",
        "  x = range(int(1e5))\n",
        "  if tp: x = list(map(tp, x))  \n",
        "  \n",
        "  slow_start = time.time()\n",
        "  slow_func(x)\n",
        "  slow_end = time.time()\n",
        "  slow_time = slow_end - slow_start  \n",
        "  \n",
        "  opt_start = time.time()\n",
        "  opt_func(x)\n",
        "  opt_end = time.time()\n",
        "  opt_time = opt_end - opt_start  \n",
        "  \n",
        "  speedup = slow_time/opt_time\n",
        "  print('{} speedup: {}'.format(func_name, speedup))"
      ],
      "execution_count": 5,
      "outputs": []
    },
    {
      "cell_type": "markdown",
      "metadata": {
        "id": "zTSRgVSScgvX",
        "colab_type": "text"
      },
      "source": [
        "# 1. Avoid concatenating strings with the + operator"
      ]
    },
    {
      "cell_type": "code",
      "metadata": {
        "id": "qsM5Ft9FcSWK",
        "colab_type": "code",
        "colab": {}
      },
      "source": [
        "def slow_join(x):\n",
        "  s = ''\n",
        "  for n in x:\n",
        "    s += n"
      ],
      "execution_count": 1,
      "outputs": []
    },
    {
      "cell_type": "code",
      "metadata": {
        "id": "t6Rn_2Vech88",
        "colab_type": "code",
        "colab": {}
      },
      "source": [
        "def opt_join(x):\n",
        "  s = ''.join(x)"
      ],
      "execution_count": 2,
      "outputs": []
    },
    {
      "cell_type": "code",
      "metadata": {
        "id": "7Fyd7Kr8clQz",
        "colab_type": "code",
        "colab": {
          "base_uri": "https://localhost:8080/",
          "height": 34
        },
        "outputId": "ba4e8128-eac0-49e1-e8b1-7422623beddc"
      },
      "source": [
        "compute_speedup(slow_join, opt_join, 'join', tp=str)"
      ],
      "execution_count": 6,
      "outputs": [
        {
          "output_type": "stream",
          "text": [
            "join speedup: 5.231906375115491\n"
          ],
          "name": "stdout"
        }
      ]
    },
    {
      "cell_type": "markdown",
      "metadata": {
        "id": "11GN_gFDcxvN",
        "colab_type": "text"
      },
      "source": [
        "# 2. Use the map function"
      ]
    },
    {
      "cell_type": "code",
      "metadata": {
        "id": "PbI9b9Wncu8X",
        "colab_type": "code",
        "colab": {}
      },
      "source": [
        "def slow_map(x):\n",
        "  l = (str(n) for n in x)\n",
        "  for n in l:\n",
        "    pass"
      ],
      "execution_count": 7,
      "outputs": []
    },
    {
      "cell_type": "code",
      "metadata": {
        "id": "-VR7G_62czCD",
        "colab_type": "code",
        "colab": {}
      },
      "source": [
        "def opt_map(x):\n",
        "  l = map(str, x)\n",
        "  for n in l:\n",
        "    pass"
      ],
      "execution_count": 8,
      "outputs": []
    },
    {
      "cell_type": "code",
      "metadata": {
        "id": "vcQW-lxec1xv",
        "colab_type": "code",
        "colab": {
          "base_uri": "https://localhost:8080/",
          "height": 34
        },
        "outputId": "af916370-d90b-4efd-f193-c35536e1dcab"
      },
      "source": [
        "compute_speedup(slow_map, opt_map, 'map')"
      ],
      "execution_count": 9,
      "outputs": [
        {
          "output_type": "stream",
          "text": [
            "map speedup: 1.8626726257674404\n"
          ],
          "name": "stdout"
        }
      ]
    },
    {
      "cell_type": "markdown",
      "metadata": {
        "id": "U56hVgyVc-bJ",
        "colab_type": "text"
      },
      "source": [
        "# 3. Avoid reevaluating functions"
      ]
    },
    {
      "cell_type": "code",
      "metadata": {
        "id": "outrbyCPc4Mz",
        "colab_type": "code",
        "colab": {
          "base_uri": "https://localhost:8080/",
          "height": 54
        },
        "outputId": "6519e0aa-edd5-4b3b-86d8-8aabe257f97e"
      },
      "source": [
        "'''\n",
        "y = []\n",
        "for n in x:\n",
        "  y.append(n)\n",
        "  y.append(n**2)\n",
        "  y.append(n**3)\n",
        "'''"
      ],
      "execution_count": 12,
      "outputs": [
        {
          "output_type": "execute_result",
          "data": {
            "application/vnd.google.colaboratory.intrinsic+json": {
              "type": "string"
            },
            "text/plain": [
              "'\\ny = []\\nfor n in x:\\n  y.append(n)\\n  y.append(n**2)\\n  y.append(n**3)\\n'"
            ]
          },
          "metadata": {
            "tags": []
          },
          "execution_count": 12
        }
      ]
    },
    {
      "cell_type": "code",
      "metadata": {
        "id": "fOCEvMNnc_0t",
        "colab_type": "code",
        "colab": {}
      },
      "source": [
        "def slow_loop(x):\n",
        "  y = []\n",
        "  for n in x:\n",
        "    y.append(n)"
      ],
      "execution_count": 11,
      "outputs": []
    },
    {
      "cell_type": "code",
      "metadata": {
        "id": "e1EsUYONdFXF",
        "colab_type": "code",
        "colab": {}
      },
      "source": [
        "def opt_loop(x):\n",
        "  y = []\n",
        "  append = y.append\n",
        "  for n in x:\n",
        "    append(n)"
      ],
      "execution_count": 13,
      "outputs": []
    },
    {
      "cell_type": "code",
      "metadata": {
        "id": "3VkdF6yNdLRu",
        "colab_type": "code",
        "colab": {
          "base_uri": "https://localhost:8080/",
          "height": 34
        },
        "outputId": "4c9ed0a3-2a29-48cf-d73e-afba4f3be9ac"
      },
      "source": [
        "compute_speedup(slow_loop, opt_loop, 'loop')"
      ],
      "execution_count": 14,
      "outputs": [
        {
          "output_type": "stream",
          "text": [
            "loop speedup: 1.7024785194976868\n"
          ],
          "name": "stdout"
        }
      ]
    }
  ]
}