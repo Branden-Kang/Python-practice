{
  "nbformat": 4,
  "nbformat_minor": 0,
  "metadata": {
    "colab": {
      "name": "The Python Standard Library — modules you should know as a data scientist.ipynb",
      "provenance": [],
      "collapsed_sections": [],
      "authorship_tag": "ABX9TyOSFoMWDXogP/5VXJY6h3TA"
    },
    "kernelspec": {
      "name": "python3",
      "display_name": "Python 3"
    },
    "language_info": {
      "name": "python"
    }
  },
  "cells": [
    {
      "cell_type": "markdown",
      "metadata": {
        "id": "VwavD4TyIkZm"
      },
      "source": [
        "[Reference](https://towardsdatascience.com/the-python-standard-library-modules-you-should-know-as-a-data-scientist-47e1117ca6c8)"
      ]
    },
    {
      "cell_type": "markdown",
      "metadata": {
        "id": "b-083mQOIg_S"
      },
      "source": [
        "# 1. Zipfile"
      ]
    },
    {
      "cell_type": "code",
      "metadata": {
        "id": "p0WVuW4b-dPS"
      },
      "source": [
        "import zipfile\n",
        "import os\n",
        "\n",
        "# open the zip file in reading mode\n",
        "myzip = zipfile.ZipFile('AREAS_DEPORTIVAS_2019.zip', mode='r')\n",
        "\n",
        "# extract all files from the zip file to the current working directory\n",
        "myzip.extractall()\n",
        "\n",
        "# check that the files have been correctly extracted\n",
        "os.listdir()\n",
        "\n",
        "# close the zip file\n",
        "myzip.close()"
      ],
      "execution_count": 1,
      "outputs": []
    },
    {
      "cell_type": "code",
      "metadata": {
        "id": "ZcDA2vdvIsmX"
      },
      "source": [
        "import zipfile\n",
        "\n",
        "# open the zip file in reading mode and extract all files to the current working directory.\n",
        "with zipfile.ZipFile('AREAS_DEPORTIVAS_2019.zip', mode='r') as myzip:\n",
        "    myzip.extractall()"
      ],
      "execution_count": 2,
      "outputs": []
    },
    {
      "cell_type": "code",
      "metadata": {
        "id": "DaCQPHUSIvFc"
      },
      "source": [
        "import zipfile\n",
        "\n",
        "# open the zip file in reading mode and extract all files to the current working directory.\n",
        "with zipfile.ZipFile('AREAS_DEPORTIVAS_2019.zip', mode='r') as myzip:\n",
        "    print(myzip.namelist())\n",
        "    # ['20190924_AREAS_DEPORTIVAS.sbn', '20190924_AREAS_DEPORTIVAS.sbx', '20190924_AREAS_DEPORTIVAS.shp', \n",
        "    # '20190924_AREAS_DEPORTIVAS.shx', '20190924_AREAS_DEPORTIVAS.cpg', '20190924_AREAS_DEPORTIVAS.dbf', \n",
        "    # '20190924_AREAS_DEPORTIVAS.prj']"
      ],
      "execution_count": 3,
      "outputs": []
    },
    {
      "cell_type": "code",
      "metadata": {
        "id": "CKZHWy5xI--i"
      },
      "source": [
        "import zipfile\n",
        "\n",
        "# create a new zip file.\n",
        "with zipfile.ZipFile('new_file.zip', mode='w') as myzip:\n",
        "    myzip.write('file_1.txt')\n",
        "    myzip.write('file_2.txt')"
      ],
      "execution_count": 4,
      "outputs": []
    },
    {
      "cell_type": "markdown",
      "metadata": {
        "id": "x_KJNqY1JDmj"
      },
      "source": [
        "# 2. Random"
      ]
    },
    {
      "cell_type": "code",
      "metadata": {
        "colab": {
          "base_uri": "https://localhost:8080/"
        },
        "id": "8FKmXgGGJCJo",
        "outputId": "08353d16-3d05-4d87-8f8e-44da33c278f9"
      },
      "source": [
        "import random\n",
        "import numpy as np\n",
        "\n",
        "# random.randint (Python Standard Library) upper bound included\n",
        "random_numbers = [random.randint(0,2) for _ in range(10)]\n",
        "print(random_numbers)\n",
        "# [0, 2, 1, 1, 0, 1, 0, 0, 2, 1]\n",
        "\n",
        "# numpy.random.randint upper bound excluded\n",
        "np.random.randint(0,2, size=10)"
      ],
      "execution_count": 5,
      "outputs": [
        {
          "output_type": "stream",
          "text": [
            "[2, 0, 1, 2, 2, 2, 1, 0, 2, 0]\n"
          ],
          "name": "stdout"
        },
        {
          "output_type": "execute_result",
          "data": {
            "text/plain": [
              "array([0, 1, 0, 1, 0, 0, 0, 1, 1, 1])"
            ]
          },
          "metadata": {
            "tags": []
          },
          "execution_count": 5
        }
      ]
    },
    {
      "cell_type": "code",
      "metadata": {
        "colab": {
          "base_uri": "https://localhost:8080/"
        },
        "id": "8Z2i44hcJFp2",
        "outputId": "53df9ea6-747a-4469-d748-ae88ad4f2fc7"
      },
      "source": [
        "import random\n",
        "\n",
        "# list of numbers\n",
        "numbers = [1, 2, 3, 4, 5]\n",
        "\n",
        "# randomly select 10 elements from the list numbers with replacement\n",
        "random.choices(numbers, k=10)\n",
        "# [3, 5, 5, 2, 3, 5, 1, 2, 1, 2]\n",
        "\n",
        "# randomly select 20 elements from the list numbers with weighted probabilities\n",
        "random.choices(numbers, weights=[0.1, 0.1, 0.6, 0.1, 0.1], k=20)"
      ],
      "execution_count": 6,
      "outputs": [
        {
          "output_type": "execute_result",
          "data": {
            "text/plain": [
              "[3, 1, 3, 5, 3, 1, 3, 2, 3, 3, 2, 3, 2, 3, 3, 1, 5, 3, 3, 4]"
            ]
          },
          "metadata": {
            "tags": []
          },
          "execution_count": 6
        }
      ]
    },
    {
      "cell_type": "code",
      "metadata": {
        "colab": {
          "base_uri": "https://localhost:8080/",
          "height": 402
        },
        "id": "ge9J7lhoJIkR",
        "outputId": "ff812db4-813f-4798-84a4-d0d69a182d54"
      },
      "source": [
        "# list of numbers\n",
        "numbers = [1, 2, 3, 4, 5]\n",
        "\n",
        "# shuffled list\n",
        "random.shuffle(numbers)\n",
        "print(numbers)\n",
        "# [4, 1, 3, 5, 2]\n",
        "\n",
        "# tuple of numbers\n",
        "numbers_2 = (1, 2, 3, 4, 5)\n",
        "\n",
        "# the input of the random.shuffle function must be a mutable object \n",
        "random.shuffle(numbers_2)"
      ],
      "execution_count": 7,
      "outputs": [
        {
          "output_type": "stream",
          "text": [
            "[1, 3, 2, 4, 5]\n"
          ],
          "name": "stdout"
        },
        {
          "output_type": "error",
          "ename": "TypeError",
          "evalue": "ignored",
          "traceback": [
            "\u001b[0;31m---------------------------------------------------------------------------\u001b[0m",
            "\u001b[0;31mTypeError\u001b[0m                                 Traceback (most recent call last)",
            "\u001b[0;32m<ipython-input-7-11d7ed14667a>\u001b[0m in \u001b[0;36m<module>\u001b[0;34m()\u001b[0m\n\u001b[1;32m     11\u001b[0m \u001b[0;34m\u001b[0m\u001b[0m\n\u001b[1;32m     12\u001b[0m \u001b[0;31m# the input of the random.shuffle function must be a mutable object\u001b[0m\u001b[0;34m\u001b[0m\u001b[0;34m\u001b[0m\u001b[0;34m\u001b[0m\u001b[0m\n\u001b[0;32m---> 13\u001b[0;31m \u001b[0mrandom\u001b[0m\u001b[0;34m.\u001b[0m\u001b[0mshuffle\u001b[0m\u001b[0;34m(\u001b[0m\u001b[0mnumbers_2\u001b[0m\u001b[0;34m)\u001b[0m\u001b[0;34m\u001b[0m\u001b[0;34m\u001b[0m\u001b[0m\n\u001b[0m",
            "\u001b[0;32m/usr/lib/python3.7/random.py\u001b[0m in \u001b[0;36mshuffle\u001b[0;34m(self, x, random)\u001b[0m\n\u001b[1;32m    276\u001b[0m                 \u001b[0;31m# pick an element in x[:i+1] with which to exchange x[i]\u001b[0m\u001b[0;34m\u001b[0m\u001b[0;34m\u001b[0m\u001b[0;34m\u001b[0m\u001b[0m\n\u001b[1;32m    277\u001b[0m                 \u001b[0mj\u001b[0m \u001b[0;34m=\u001b[0m \u001b[0mrandbelow\u001b[0m\u001b[0;34m(\u001b[0m\u001b[0mi\u001b[0m\u001b[0;34m+\u001b[0m\u001b[0;36m1\u001b[0m\u001b[0;34m)\u001b[0m\u001b[0;34m\u001b[0m\u001b[0;34m\u001b[0m\u001b[0m\n\u001b[0;32m--> 278\u001b[0;31m                 \u001b[0mx\u001b[0m\u001b[0;34m[\u001b[0m\u001b[0mi\u001b[0m\u001b[0;34m]\u001b[0m\u001b[0;34m,\u001b[0m \u001b[0mx\u001b[0m\u001b[0;34m[\u001b[0m\u001b[0mj\u001b[0m\u001b[0;34m]\u001b[0m \u001b[0;34m=\u001b[0m \u001b[0mx\u001b[0m\u001b[0;34m[\u001b[0m\u001b[0mj\u001b[0m\u001b[0;34m]\u001b[0m\u001b[0;34m,\u001b[0m \u001b[0mx\u001b[0m\u001b[0;34m[\u001b[0m\u001b[0mi\u001b[0m\u001b[0;34m]\u001b[0m\u001b[0;34m\u001b[0m\u001b[0;34m\u001b[0m\u001b[0m\n\u001b[0m\u001b[1;32m    279\u001b[0m         \u001b[0;32melse\u001b[0m\u001b[0;34m:\u001b[0m\u001b[0;34m\u001b[0m\u001b[0;34m\u001b[0m\u001b[0m\n\u001b[1;32m    280\u001b[0m             \u001b[0m_int\u001b[0m \u001b[0;34m=\u001b[0m \u001b[0mint\u001b[0m\u001b[0;34m\u001b[0m\u001b[0;34m\u001b[0m\u001b[0m\n",
            "\u001b[0;31mTypeError\u001b[0m: 'tuple' object does not support item assignment"
          ]
        }
      ]
    },
    {
      "cell_type": "code",
      "metadata": {
        "colab": {
          "base_uri": "https://localhost:8080/"
        },
        "id": "7i8QG_g7JLg2",
        "outputId": "0e50a53b-a5f7-4433-fefc-584ef55d2494"
      },
      "source": [
        "# tuple of numbers\n",
        "numbers_2 = (1, 2, 3, 4, 5)\n",
        "\n",
        "# new list with all the elements randomly shuffled\n",
        "shuffled_list = random.sample(numbers_2, k=len(numbers_2))\n",
        "print(shuffled_list)\n",
        "# [4, 3, 5, 2, 1]\n",
        "\n",
        "# convert shuffled_list to a tuple using the built-in function tuple()\n",
        "shuffled_tuple = tuple(shuffled_list)\n",
        "print(shuffled_tuple)"
      ],
      "execution_count": 8,
      "outputs": [
        {
          "output_type": "stream",
          "text": [
            "[1, 3, 5, 4, 2]\n",
            "(1, 3, 5, 4, 2)\n"
          ],
          "name": "stdout"
        }
      ]
    },
    {
      "cell_type": "markdown",
      "metadata": {
        "id": "VuTDAztuJUd_"
      },
      "source": [
        "# 3. Os"
      ]
    },
    {
      "cell_type": "code",
      "metadata": {
        "colab": {
          "base_uri": "https://localhost:8080/"
        },
        "id": "VRVpfxn0JOHH",
        "outputId": "bd8616ce-1eaa-4419-9def-8113d7157d5d"
      },
      "source": [
        "import os\n",
        "\n",
        "# get the path of the current working directory\n",
        "path = os.getcwd()\n",
        "print(path)"
      ],
      "execution_count": 9,
      "outputs": [
        {
          "output_type": "stream",
          "text": [
            "/content\n"
          ],
          "name": "stdout"
        }
      ]
    },
    {
      "cell_type": "code",
      "metadata": {
        "id": "LmkaNrxvJVtS"
      },
      "source": [
        "# change the current working directory\n",
        "os.chdir('C:\\\\Users\\\\amand')\n",
        "\n",
        "# check the modification\n",
        "os.getcwd()"
      ],
      "execution_count": 11,
      "outputs": []
    },
    {
      "cell_type": "code",
      "metadata": {
        "id": "Aa85daeVJW7r"
      },
      "source": [
        "# list of all files and directories in the specified path\n",
        "entries = os.listdir('C:\\\\Users\\\\amand\\\\articulos\\\\Standard library')\n",
        "\n",
        "print(entries)"
      ],
      "execution_count": 12,
      "outputs": []
    },
    {
      "cell_type": "code",
      "metadata": {
        "id": "8tjWSlpAJb9v"
      },
      "source": [
        "# list of all files in the current working directory\n",
        "entries = os.listdir()\n",
        "\n",
        "# get only .txt files\n",
        "txt_files = [entry for entry in entries if entry.endswith('.txt')]\n",
        "\n",
        "print(txt_files)"
      ],
      "execution_count": 13,
      "outputs": []
    },
    {
      "cell_type": "code",
      "metadata": {
        "id": "iQZ7Zy2IJhEu"
      },
      "source": [
        "# list of all files in the current working directory\n",
        "entries = os.listdir()\n",
        "print(entries)\n",
        "# ['.ipynb_checkpoints', 'AREAS_DEPORTIVAS_2019.zip', 'file_1.txt', 'file_2.txt', 'images', 'new_file.zip', 'Python Standard Library.ipynb']\n",
        "\n",
        "# rename file_1.txt\n",
        "os.rename('file_1.txt', 'file_new_name.txt')\n",
        "\n",
        "# check the modification\n",
        "entries = os.listdir()\n",
        "print(entries)"
      ],
      "execution_count": 14,
      "outputs": []
    },
    {
      "cell_type": "code",
      "metadata": {
        "id": "tEp1GviyJkaL"
      },
      "source": [
        "# list of all files in the current working directory\n",
        "entries = os.listdir()\n",
        "print(entries)\n",
        "# ['.ipynb_checkpoints', 'AREAS_DEPORTIVAS_2019.zip', 'file_2.txt', 'file_new_name.txt', 'images', 'new_file.zip',\n",
        "#  'Python Standard Library.ipynb']\n",
        "\n",
        "# make a new directory called new_dir \n",
        "os.mkdir('new_dir')\n",
        "\n",
        "# check the modification\n",
        "entries = os.listdir()\n",
        "print(entries)"
      ],
      "execution_count": 15,
      "outputs": []
    },
    {
      "cell_type": "code",
      "metadata": {
        "id": "IuQVgGv0JqjB"
      },
      "source": [
        "# file_2.txt is located in the current working directory\n",
        "# os.startfile() opens it with it's associated program - in my case Windows Editor\n",
        "os.startfile('file_2.txt')"
      ],
      "execution_count": 16,
      "outputs": []
    },
    {
      "cell_type": "markdown",
      "metadata": {
        "id": "MsI6ZwyjJuDW"
      },
      "source": [
        "# 4. Time"
      ]
    },
    {
      "cell_type": "code",
      "metadata": {
        "colab": {
          "base_uri": "https://localhost:8080/"
        },
        "id": "qmz5D74eJsrc",
        "outputId": "8ca8e4cc-c12c-4f0f-ff5b-391a1e5f959d"
      },
      "source": [
        "# compute execution time of a block of code\n",
        "import time\n",
        "\n",
        "start_time = time.time()\n",
        "\n",
        "total = 0\n",
        "for i in range(50000):\n",
        "    total = total + i\n",
        "\n",
        "# elapsed time\n",
        "elapsed_time = time.time() - start_time\n",
        "print(elapsed_time)"
      ],
      "execution_count": 18,
      "outputs": [
        {
          "output_type": "stream",
          "text": [
            "0.013227224349975586\n"
          ],
          "name": "stdout"
        }
      ]
    },
    {
      "cell_type": "code",
      "metadata": {
        "id": "GFlEIPtWJ3Q7"
      },
      "source": [
        "import time\n",
        "\n",
        "import requests\n",
        "\n",
        "items_to_scrape = ['https://en.wikipedia.org/wiki/Madrid', 'https://en.wikipedia.org/wiki/Munich', 'https://en.wikipedia.org/wiki/Valencia']\n",
        "for item in items_to_scrape:\n",
        "    response = requests.get(item)\n",
        "    ### \n",
        "    ### your code\n",
        "    ### \n",
        "    time.sleep(2)"
      ],
      "execution_count": 19,
      "outputs": []
    },
    {
      "cell_type": "markdown",
      "metadata": {
        "id": "7Goa8_u4KBnp"
      },
      "source": [
        "# 5. Datetime"
      ]
    },
    {
      "cell_type": "code",
      "metadata": {
        "colab": {
          "base_uri": "https://localhost:8080/"
        },
        "id": "4bYVn9K6KAIa",
        "outputId": "32791807-5a83-4e7a-a912-93347b4b57d5"
      },
      "source": [
        "import datetime\n",
        "\n",
        "# create a datetime object - George Orwell birth date\n",
        "birth = datetime.datetime(1903, 6, 25)\n",
        "\n",
        "print(type(birth))\n",
        "# <class 'datetime.datetime'>\n",
        "\n",
        "# access attribute - dot notation\n",
        "birth.year\n",
        "# 1903\n",
        "\n",
        "# access attribute - getattr() function\n",
        "getattr(birth, 'year')"
      ],
      "execution_count": 20,
      "outputs": [
        {
          "output_type": "stream",
          "text": [
            "<class 'datetime.datetime'>\n"
          ],
          "name": "stdout"
        },
        {
          "output_type": "execute_result",
          "data": {
            "text/plain": [
              "1903"
            ]
          },
          "metadata": {
            "tags": []
          },
          "execution_count": 20
        }
      ]
    },
    {
      "cell_type": "code",
      "metadata": {
        "colab": {
          "base_uri": "https://localhost:8080/"
        },
        "id": "xoP8i60GLX1z",
        "outputId": "7015df21-3061-481b-d5c3-96663a42b02d"
      },
      "source": [
        "# get current date and time\n",
        "now = datetime.datetime.now()\n",
        "\n",
        "print(now)\n",
        "# 2020-05-20 20:12:56.396202\n",
        "print(type(now))"
      ],
      "execution_count": 21,
      "outputs": [
        {
          "output_type": "stream",
          "text": [
            "2021-05-06 14:55:57.143332\n",
            "<class 'datetime.datetime'>\n"
          ],
          "name": "stdout"
        }
      ]
    },
    {
      "cell_type": "code",
      "metadata": {
        "colab": {
          "base_uri": "https://localhost:8080/"
        },
        "id": "ujJ9FM7vLZ_P",
        "outputId": "a92f6a8d-05ae-4c43-fc3e-960a2ccf718f"
      },
      "source": [
        "# create a datetime object - George Orwell birth date\n",
        "birth = datetime.datetime(1903, 6, 25)\n",
        "\n",
        "# create a datetime object - George Orwell death date\n",
        "death = datetime.datetime(1950, 1, 21)\n",
        "\n",
        "# calculate how long he lived by subtracting both dates\n",
        "live = death - birth\n",
        "print(live)\n",
        "# 17012 days, 0:00:00\n",
        "print(type(live))"
      ],
      "execution_count": 22,
      "outputs": [
        {
          "output_type": "stream",
          "text": [
            "17012 days, 0:00:00\n",
            "<class 'datetime.timedelta'>\n"
          ],
          "name": "stdout"
        }
      ]
    },
    {
      "cell_type": "code",
      "metadata": {
        "colab": {
          "base_uri": "https://localhost:8080/"
        },
        "id": "eTZqzT-RLbkT",
        "outputId": "4f7c97ce-a36b-4be3-cffa-0323555abb16"
      },
      "source": [
        "# George Orwell's birth date\n",
        "birth = datetime.datetime(1903, 6, 25)\n",
        "\n",
        "# get the date in the format 25/06/1903\n",
        "date = birth.strftime('%d/%m/%Y')\n",
        "print(date)\n",
        "# 25/06/1903\n",
        "print(type(date))\n",
        "# <class 'str'>\n",
        "\n",
        "# get the date in the format 25-June-1903\n",
        "date = birth.strftime('%d-%B-%Y')\n",
        "print(date)\n",
        "# 25-June-1903\n",
        "\n",
        "# get the date in the format June 25, 1903\n",
        "date = birth.strftime('%B %d, %Y')\n",
        "print(date)"
      ],
      "execution_count": 23,
      "outputs": [
        {
          "output_type": "stream",
          "text": [
            "25/06/1903\n",
            "<class 'str'>\n",
            "25-June-1903\n",
            "June 25, 1903\n"
          ],
          "name": "stdout"
        }
      ]
    },
    {
      "cell_type": "code",
      "metadata": {
        "colab": {
          "base_uri": "https://localhost:8080/"
        },
        "id": "1wGi5OkVLdaH",
        "outputId": "b25ebd0a-1793-428c-bfbf-5d6ef2d37585"
      },
      "source": [
        "# a string representing George Orwell's birth date\n",
        "birth_date = '25/06/1903'\n",
        "date = datetime.datetime.strptime(birth_date, '%d/%m/%Y')\n",
        "\n",
        "print(date)\n",
        "# 1903-06-25 00:00:00\n",
        "print(type(date))"
      ],
      "execution_count": 24,
      "outputs": [
        {
          "output_type": "stream",
          "text": [
            "1903-06-25 00:00:00\n",
            "<class 'datetime.datetime'>\n"
          ],
          "name": "stdout"
        }
      ]
    },
    {
      "cell_type": "markdown",
      "metadata": {
        "id": "PfvT6zF5LhtM"
      },
      "source": [
        "# 6. Csv"
      ]
    },
    {
      "cell_type": "code",
      "metadata": {
        "id": "ZFP3ww5hLe0q"
      },
      "source": [
        "import csv \n",
        "\n",
        "# open a csv file with the open function\n",
        "with open('students_grades.csv', newline='') as csvfile:\n",
        "    # create an iterator object with the csv.reader() function\n",
        "    reader = csv.reader(csvfile)\n",
        "    # iterate over the reader object\n",
        "    for line in reader:\n",
        "        print(line)"
      ],
      "execution_count": 25,
      "outputs": []
    },
    {
      "cell_type": "code",
      "metadata": {
        "id": "BrbFc7c2Lk0E"
      },
      "source": [
        "import csv \n",
        "\n",
        "# open a csv file with the open function\n",
        "with open('students_grades.csv', newline='') as csvfile:\n",
        "    # create an iterator object with the csv.reader() function\n",
        "    reader = csv.reader(csvfile)\n",
        "    # access next element from the iterator reader\n",
        "    print(next(reader))\n",
        "    # ['Student', ' Exam_1', ' Exam_2', ' Exam_3']\n",
        "    print(next(reader))"
      ],
      "execution_count": 26,
      "outputs": []
    },
    {
      "cell_type": "code",
      "metadata": {
        "id": "Df9YMtp8LmmL"
      },
      "source": [
        "import csv \n",
        "\n",
        "# open a csv file with the open function\n",
        "with open('students_grades_2.csv', newline='') as csvfile:\n",
        "    # create an iterator object with the csv.reader() function\n",
        "    reader = csv.reader(csvfile, delimiter=';')\n",
        "    # iterate over the reader object\n",
        "    for line in reader:\n",
        "        print(line)"
      ],
      "execution_count": 27,
      "outputs": []
    },
    {
      "cell_type": "code",
      "metadata": {
        "id": "AFwmKsFlLoZ_"
      },
      "source": [
        "import csv \n",
        "\n",
        "# open a csv file with the open function\n",
        "with open('students_grades.csv', newline='') as csvfile:\n",
        "    # create an iterator object with the csv.DictReader() function\n",
        "    dict_reader = csv.DictReader(csvfile)\n",
        "    # iterate over the dict_reader object\n",
        "    for line in dict_reader:\n",
        "        print(line)"
      ],
      "execution_count": 28,
      "outputs": []
    },
    {
      "cell_type": "code",
      "metadata": {
        "id": "aC7mssYGLq2_"
      },
      "source": [
        "import csv \n",
        "\n",
        "# nested list containing information about works of art \n",
        "works_of_art = [['Picture', 'Year', 'Author'],\n",
        "                ['Las Meninas', 1656, 'Velazquez'],\n",
        "                ['Guernica', 1937, 'Picasso'],\n",
        "                ['Duelo a garrotazos', 1819, 'Goya']]\n",
        "\n",
        "# open a csv file with the open function\n",
        "with open('works_of_art.csv', mode='w', newline='') as csvfile:\n",
        "    # create a writer object\n",
        "    csvwriter = csv.writer(csvfile)\n",
        "    # use the writerows method\n",
        "    csvwriter.writerows(works_of_art)"
      ],
      "execution_count": 29,
      "outputs": []
    },
    {
      "cell_type": "code",
      "metadata": {
        "id": "rLT8uzBrLtfT"
      },
      "source": [
        "import csv \n",
        "\n",
        "# nested list containing information about works of art \n",
        "header =  ['Picture', 'Year', 'Author']\n",
        "works_of_art = [{'Picture': 'Las Meninas', 'Year': 1656, 'Author': 'Velazquez'},\n",
        "                {'Picture': 'Guernica', 'Year': 1937, 'Author': 'Picasso'},\n",
        "                {'Picture': 'Duelo a garrotazos', 'Year': 1819, 'Author': 'Goya'}]\n",
        "\n",
        "\n",
        "# open a csv file with the open function\n",
        "with open('works_of_art_2.csv', mode='w', newline='') as csvfile:\n",
        "    # create a writer object\n",
        "    DictWriter = csv.DictWriter(csvfile, fieldnames=header)\n",
        "    # write header\n",
        "    DictWriter.writeheader()\n",
        "    # use the writerows method \n",
        "    DictWriter.writerows(works_of_art)"
      ],
      "execution_count": 30,
      "outputs": []
    },
    {
      "cell_type": "markdown",
      "metadata": {
        "id": "IipdsG7ULweb"
      },
      "source": [
        "# 7. Glob"
      ]
    },
    {
      "cell_type": "code",
      "metadata": {
        "colab": {
          "base_uri": "https://localhost:8080/"
        },
        "id": "lQBcshnkLvEN",
        "outputId": "2862f79c-7cd7-426c-e66c-2bc96daa8e49"
      },
      "source": [
        "import glob\n",
        "\n",
        "csv_files = glob.glob('*.csv')\n",
        "\n",
        "print(csv_files)"
      ],
      "execution_count": 31,
      "outputs": [
        {
          "output_type": "stream",
          "text": [
            "['works_of_art.csv', 'works_of_art_2.csv']\n"
          ],
          "name": "stdout"
        }
      ]
    },
    {
      "cell_type": "code",
      "metadata": {
        "colab": {
          "base_uri": "https://localhost:8080/"
        },
        "id": "7Ai-TgrZMAKm",
        "outputId": "c4e94208-1bab-4fd5-a5f8-5d44428a1008"
      },
      "source": [
        "import glob\n",
        "\n",
        "students_files = glob.glob('students*')\n",
        "\n",
        "print(students_files)"
      ],
      "execution_count": 32,
      "outputs": [
        {
          "output_type": "stream",
          "text": [
            "[]\n"
          ],
          "name": "stdout"
        }
      ]
    },
    {
      "cell_type": "code",
      "metadata": {
        "colab": {
          "base_uri": "https://localhost:8080/"
        },
        "id": "ioKcs9v-MCJw",
        "outputId": "85f61a13-29d5-402c-d6b6-0bd44a278eaa"
      },
      "source": [
        "import glob\n",
        "\n",
        "text_files_234 = glob.glob('file_[234].txt')\n",
        "\n",
        "print(text_files_234)"
      ],
      "execution_count": 33,
      "outputs": [
        {
          "output_type": "stream",
          "text": [
            "[]\n"
          ],
          "name": "stdout"
        }
      ]
    },
    {
      "cell_type": "markdown",
      "metadata": {
        "id": "pW2xHUIhMEc5"
      },
      "source": [
        "# 8. Difflib"
      ]
    },
    {
      "cell_type": "code",
      "metadata": {
        "colab": {
          "base_uri": "https://localhost:8080/",
          "height": 235
        },
        "id": "Xhxc7JiAMDUu",
        "outputId": "77377006-86bc-4c23-931d-0164863a5147"
      },
      "source": [
        "import requests\n",
        "import pandas as pd\n",
        "\n",
        "response = requests.get('https://www.worldometers.info/world-population/population-by-country/')\n",
        "html = response.text\n",
        "\n",
        "# read html table into a list of dataframes\n",
        "web_tables = pd.read_html(html)\n",
        "\n",
        "# select first dataframe - columns Country and Population\n",
        "df_population = web_tables[0][['Country (or dependency)','Population (2020)']]\n",
        "\n",
        "# rename columns \n",
        "new_names = {'Country (or dependency)':'Country', 'Population (2020)': 'Population'}\n",
        "df_population = df_population.rename(columns=new_names)\n",
        "\n",
        "# set the column country as index \n",
        "df_population.set_index('Country', inplace=True)\n",
        "\n",
        "# set index with lowercase letters\n",
        "df_population.index = df_population.index.str.lower()\n",
        "\n",
        "# visualize first 5 rows \n",
        "df_population.head()"
      ],
      "execution_count": 34,
      "outputs": [
        {
          "output_type": "execute_result",
          "data": {
            "text/html": [
              "<div>\n",
              "<style scoped>\n",
              "    .dataframe tbody tr th:only-of-type {\n",
              "        vertical-align: middle;\n",
              "    }\n",
              "\n",
              "    .dataframe tbody tr th {\n",
              "        vertical-align: top;\n",
              "    }\n",
              "\n",
              "    .dataframe thead th {\n",
              "        text-align: right;\n",
              "    }\n",
              "</style>\n",
              "<table border=\"1\" class=\"dataframe\">\n",
              "  <thead>\n",
              "    <tr style=\"text-align: right;\">\n",
              "      <th></th>\n",
              "      <th>Population</th>\n",
              "    </tr>\n",
              "    <tr>\n",
              "      <th>Country</th>\n",
              "      <th></th>\n",
              "    </tr>\n",
              "  </thead>\n",
              "  <tbody>\n",
              "    <tr>\n",
              "      <th>china</th>\n",
              "      <td>1439323776</td>\n",
              "    </tr>\n",
              "    <tr>\n",
              "      <th>india</th>\n",
              "      <td>1380004385</td>\n",
              "    </tr>\n",
              "    <tr>\n",
              "      <th>united states</th>\n",
              "      <td>331002651</td>\n",
              "    </tr>\n",
              "    <tr>\n",
              "      <th>indonesia</th>\n",
              "      <td>273523615</td>\n",
              "    </tr>\n",
              "    <tr>\n",
              "      <th>pakistan</th>\n",
              "      <td>220892340</td>\n",
              "    </tr>\n",
              "  </tbody>\n",
              "</table>\n",
              "</div>"
            ],
            "text/plain": [
              "               Population\n",
              "Country                  \n",
              "china          1439323776\n",
              "india          1380004385\n",
              "united states   331002651\n",
              "indonesia       273523615\n",
              "pakistan        220892340"
            ]
          },
          "metadata": {
            "tags": []
          },
          "execution_count": 34
        }
      ]
    },
    {
      "cell_type": "code",
      "metadata": {
        "colab": {
          "base_uri": "https://localhost:8080/",
          "height": 868
        },
        "id": "cKUYXB3OMIaj",
        "outputId": "f87f1e14-3c7a-4db3-e833-3668701aa040"
      },
      "source": [
        "import difflib\n",
        "\n",
        "while True:\n",
        "    country = input('Introduce a country name: ').lower()\n",
        "\n",
        "    if country in df_population.index:\n",
        "        print('The population of {} is {:,}\\n'.format(country, df_population.loc[country, 'Population']))\n",
        "    else: \n",
        "        match = difflib.get_close_matches(country, df_population.index, 1)\n",
        "        if match: \n",
        "            is_match = input('Do you mean ' + match[0] + '? (Yes/No) ')\n",
        "            if is_match == 'Yes':\n",
        "                print('The population of {} is {:,}\\n'.format(match[0], df_population.loc[match[0], 'Population']))\n",
        "            else: \n",
        "                print('Country not found\\n')\n",
        "        else:\n",
        "            print('Country not found\\n')"
      ],
      "execution_count": 35,
      "outputs": [
        {
          "output_type": "stream",
          "text": [
            "Introduce a country name: china\n",
            "The population of china is 1,439,323,776\n",
            "\n",
            "Introduce a country name: chiina\n",
            "Do you mean china? (Yes/No) Yes\n",
            "The population of china is 1,439,323,776\n",
            "\n",
            "Introduce a country name: spain\n",
            "The population of spain is 46,754,778\n",
            "\n",
            "Introduce a country name: ly\n",
            "Country not found\n",
            "\n"
          ],
          "name": "stdout"
        },
        {
          "output_type": "error",
          "ename": "KeyboardInterrupt",
          "evalue": "ignored",
          "traceback": [
            "\u001b[0;31m---------------------------------------------------------------------------\u001b[0m",
            "\u001b[0;31mKeyboardInterrupt\u001b[0m                         Traceback (most recent call last)",
            "\u001b[0;32m/usr/local/lib/python3.7/dist-packages/ipykernel/kernelbase.py\u001b[0m in \u001b[0;36m_input_request\u001b[0;34m(self, prompt, ident, parent, password)\u001b[0m\n\u001b[1;32m    728\u001b[0m             \u001b[0;32mtry\u001b[0m\u001b[0;34m:\u001b[0m\u001b[0;34m\u001b[0m\u001b[0;34m\u001b[0m\u001b[0m\n\u001b[0;32m--> 729\u001b[0;31m                 \u001b[0mident\u001b[0m\u001b[0;34m,\u001b[0m \u001b[0mreply\u001b[0m \u001b[0;34m=\u001b[0m \u001b[0mself\u001b[0m\u001b[0;34m.\u001b[0m\u001b[0msession\u001b[0m\u001b[0;34m.\u001b[0m\u001b[0mrecv\u001b[0m\u001b[0;34m(\u001b[0m\u001b[0mself\u001b[0m\u001b[0;34m.\u001b[0m\u001b[0mstdin_socket\u001b[0m\u001b[0;34m,\u001b[0m \u001b[0;36m0\u001b[0m\u001b[0;34m)\u001b[0m\u001b[0;34m\u001b[0m\u001b[0;34m\u001b[0m\u001b[0m\n\u001b[0m\u001b[1;32m    730\u001b[0m             \u001b[0;32mexcept\u001b[0m \u001b[0mException\u001b[0m\u001b[0;34m:\u001b[0m\u001b[0;34m\u001b[0m\u001b[0;34m\u001b[0m\u001b[0m\n",
            "\u001b[0;32m/usr/local/lib/python3.7/dist-packages/jupyter_client/session.py\u001b[0m in \u001b[0;36mrecv\u001b[0;34m(self, socket, mode, content, copy)\u001b[0m\n\u001b[1;32m    802\u001b[0m         \u001b[0;32mtry\u001b[0m\u001b[0;34m:\u001b[0m\u001b[0;34m\u001b[0m\u001b[0;34m\u001b[0m\u001b[0m\n\u001b[0;32m--> 803\u001b[0;31m             \u001b[0mmsg_list\u001b[0m \u001b[0;34m=\u001b[0m \u001b[0msocket\u001b[0m\u001b[0;34m.\u001b[0m\u001b[0mrecv_multipart\u001b[0m\u001b[0;34m(\u001b[0m\u001b[0mmode\u001b[0m\u001b[0;34m,\u001b[0m \u001b[0mcopy\u001b[0m\u001b[0;34m=\u001b[0m\u001b[0mcopy\u001b[0m\u001b[0;34m)\u001b[0m\u001b[0;34m\u001b[0m\u001b[0;34m\u001b[0m\u001b[0m\n\u001b[0m\u001b[1;32m    804\u001b[0m         \u001b[0;32mexcept\u001b[0m \u001b[0mzmq\u001b[0m\u001b[0;34m.\u001b[0m\u001b[0mZMQError\u001b[0m \u001b[0;32mas\u001b[0m \u001b[0me\u001b[0m\u001b[0;34m:\u001b[0m\u001b[0;34m\u001b[0m\u001b[0;34m\u001b[0m\u001b[0m\n",
            "\u001b[0;32m/usr/local/lib/python3.7/dist-packages/zmq/sugar/socket.py\u001b[0m in \u001b[0;36mrecv_multipart\u001b[0;34m(self, flags, copy, track)\u001b[0m\n\u001b[1;32m    582\u001b[0m         \"\"\"\n\u001b[0;32m--> 583\u001b[0;31m         \u001b[0mparts\u001b[0m \u001b[0;34m=\u001b[0m \u001b[0;34m[\u001b[0m\u001b[0mself\u001b[0m\u001b[0;34m.\u001b[0m\u001b[0mrecv\u001b[0m\u001b[0;34m(\u001b[0m\u001b[0mflags\u001b[0m\u001b[0;34m,\u001b[0m \u001b[0mcopy\u001b[0m\u001b[0;34m=\u001b[0m\u001b[0mcopy\u001b[0m\u001b[0;34m,\u001b[0m \u001b[0mtrack\u001b[0m\u001b[0;34m=\u001b[0m\u001b[0mtrack\u001b[0m\u001b[0;34m)\u001b[0m\u001b[0;34m]\u001b[0m\u001b[0;34m\u001b[0m\u001b[0;34m\u001b[0m\u001b[0m\n\u001b[0m\u001b[1;32m    584\u001b[0m         \u001b[0;31m# have first part already, only loop while more to receive\u001b[0m\u001b[0;34m\u001b[0m\u001b[0;34m\u001b[0m\u001b[0;34m\u001b[0m\u001b[0m\n",
            "\u001b[0;32mzmq/backend/cython/socket.pyx\u001b[0m in \u001b[0;36mzmq.backend.cython.socket.Socket.recv\u001b[0;34m()\u001b[0m\n",
            "\u001b[0;32mzmq/backend/cython/socket.pyx\u001b[0m in \u001b[0;36mzmq.backend.cython.socket.Socket.recv\u001b[0;34m()\u001b[0m\n",
            "\u001b[0;32mzmq/backend/cython/socket.pyx\u001b[0m in \u001b[0;36mzmq.backend.cython.socket._recv_copy\u001b[0;34m()\u001b[0m\n",
            "\u001b[0;32m/usr/local/lib/python3.7/dist-packages/zmq/backend/cython/checkrc.pxd\u001b[0m in \u001b[0;36mzmq.backend.cython.checkrc._check_rc\u001b[0;34m()\u001b[0m\n",
            "\u001b[0;31mKeyboardInterrupt\u001b[0m: ",
            "\nDuring handling of the above exception, another exception occurred:\n",
            "\u001b[0;31mKeyboardInterrupt\u001b[0m                         Traceback (most recent call last)",
            "\u001b[0;32m<ipython-input-35-ee75d5fe7521>\u001b[0m in \u001b[0;36m<module>\u001b[0;34m()\u001b[0m\n\u001b[1;32m      2\u001b[0m \u001b[0;34m\u001b[0m\u001b[0m\n\u001b[1;32m      3\u001b[0m \u001b[0;32mwhile\u001b[0m \u001b[0;32mTrue\u001b[0m\u001b[0;34m:\u001b[0m\u001b[0;34m\u001b[0m\u001b[0;34m\u001b[0m\u001b[0m\n\u001b[0;32m----> 4\u001b[0;31m     \u001b[0mcountry\u001b[0m \u001b[0;34m=\u001b[0m \u001b[0minput\u001b[0m\u001b[0;34m(\u001b[0m\u001b[0;34m'Introduce a country name: '\u001b[0m\u001b[0;34m)\u001b[0m\u001b[0;34m.\u001b[0m\u001b[0mlower\u001b[0m\u001b[0;34m(\u001b[0m\u001b[0;34m)\u001b[0m\u001b[0;34m\u001b[0m\u001b[0;34m\u001b[0m\u001b[0m\n\u001b[0m\u001b[1;32m      5\u001b[0m \u001b[0;34m\u001b[0m\u001b[0m\n\u001b[1;32m      6\u001b[0m     \u001b[0;32mif\u001b[0m \u001b[0mcountry\u001b[0m \u001b[0;32min\u001b[0m \u001b[0mdf_population\u001b[0m\u001b[0;34m.\u001b[0m\u001b[0mindex\u001b[0m\u001b[0;34m:\u001b[0m\u001b[0;34m\u001b[0m\u001b[0;34m\u001b[0m\u001b[0m\n",
            "\u001b[0;32m/usr/local/lib/python3.7/dist-packages/ipykernel/kernelbase.py\u001b[0m in \u001b[0;36mraw_input\u001b[0;34m(self, prompt)\u001b[0m\n\u001b[1;32m    702\u001b[0m             \u001b[0mself\u001b[0m\u001b[0;34m.\u001b[0m\u001b[0m_parent_ident\u001b[0m\u001b[0;34m,\u001b[0m\u001b[0;34m\u001b[0m\u001b[0;34m\u001b[0m\u001b[0m\n\u001b[1;32m    703\u001b[0m             \u001b[0mself\u001b[0m\u001b[0;34m.\u001b[0m\u001b[0m_parent_header\u001b[0m\u001b[0;34m,\u001b[0m\u001b[0;34m\u001b[0m\u001b[0;34m\u001b[0m\u001b[0m\n\u001b[0;32m--> 704\u001b[0;31m             \u001b[0mpassword\u001b[0m\u001b[0;34m=\u001b[0m\u001b[0;32mFalse\u001b[0m\u001b[0;34m,\u001b[0m\u001b[0;34m\u001b[0m\u001b[0;34m\u001b[0m\u001b[0m\n\u001b[0m\u001b[1;32m    705\u001b[0m         )\n\u001b[1;32m    706\u001b[0m \u001b[0;34m\u001b[0m\u001b[0m\n",
            "\u001b[0;32m/usr/local/lib/python3.7/dist-packages/ipykernel/kernelbase.py\u001b[0m in \u001b[0;36m_input_request\u001b[0;34m(self, prompt, ident, parent, password)\u001b[0m\n\u001b[1;32m    732\u001b[0m             \u001b[0;32mexcept\u001b[0m \u001b[0mKeyboardInterrupt\u001b[0m\u001b[0;34m:\u001b[0m\u001b[0;34m\u001b[0m\u001b[0;34m\u001b[0m\u001b[0m\n\u001b[1;32m    733\u001b[0m                 \u001b[0;31m# re-raise KeyboardInterrupt, to truncate traceback\u001b[0m\u001b[0;34m\u001b[0m\u001b[0;34m\u001b[0m\u001b[0;34m\u001b[0m\u001b[0m\n\u001b[0;32m--> 734\u001b[0;31m                 \u001b[0;32mraise\u001b[0m \u001b[0mKeyboardInterrupt\u001b[0m\u001b[0;34m\u001b[0m\u001b[0;34m\u001b[0m\u001b[0m\n\u001b[0m\u001b[1;32m    735\u001b[0m             \u001b[0;32melse\u001b[0m\u001b[0;34m:\u001b[0m\u001b[0;34m\u001b[0m\u001b[0;34m\u001b[0m\u001b[0m\n\u001b[1;32m    736\u001b[0m                 \u001b[0;32mbreak\u001b[0m\u001b[0;34m\u001b[0m\u001b[0;34m\u001b[0m\u001b[0m\n",
            "\u001b[0;31mKeyboardInterrupt\u001b[0m: "
          ]
        }
      ]
    }
  ]
}