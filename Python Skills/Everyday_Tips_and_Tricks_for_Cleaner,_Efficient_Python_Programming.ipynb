{
  "nbformat": 4,
  "nbformat_minor": 0,
  "metadata": {
    "colab": {
      "provenance": [],
      "authorship_tag": "ABX9TyMkmVXfO8wYkoKz6lVwflg5"
    },
    "kernelspec": {
      "name": "python3",
      "display_name": "Python 3"
    },
    "language_info": {
      "name": "python"
    }
  },
  "cells": [
    {
      "cell_type": "markdown",
      "source": [
        "[Reference](https://towardsdev.com/everyday-tips-and-tricks-for-cleaner-efficient-python-programming-e94144594eec)"
      ],
      "metadata": {
        "id": "iJWsiElJiCVP"
      }
    },
    {
      "cell_type": "markdown",
      "source": [
        "# Structuring Data with dataclass"
      ],
      "metadata": {
        "id": "YtTdCB6BiU7r"
      }
    },
    {
      "cell_type": "code",
      "execution_count": 1,
      "metadata": {
        "id": "kYB4fJfth_qv"
      },
      "outputs": [],
      "source": [
        "class Product:\n",
        "    def __init__(self, name, category, stock, price):\n",
        "        self.name = name\n",
        "        self.category = category\n",
        "        self.stock = stock\n",
        "        self.price = price"
      ]
    },
    {
      "cell_type": "code",
      "source": [
        "from dataclasses import dataclass\n",
        "\n",
        "@dataclass\n",
        "class Product:\n",
        "    name: str\n",
        "    category: str\n",
        "    stock: int\n",
        "    price: float"
      ],
      "metadata": {
        "id": "-oX_GF3JiWXM"
      },
      "execution_count": 2,
      "outputs": []
    },
    {
      "cell_type": "markdown",
      "source": [
        "# Avoiding if-elif Hell with Dictionaries"
      ],
      "metadata": {
        "id": "SNJaYrj4iY0r"
      }
    },
    {
      "cell_type": "code",
      "source": [
        "def get_alternative(product):\n",
        "    if product == \"laptop\":\n",
        "        return \"tablet\"\n",
        "    elif product == \"tablet\":\n",
        "        return \"smartphone\"\n",
        "    elif product == \"smartphone\":\n",
        "        return \"feature phone\"\n",
        "    else:\n",
        "        return \"no alternative\""
      ],
      "metadata": {
        "id": "Yxz7oLLRiXue"
      },
      "execution_count": 3,
      "outputs": []
    },
    {
      "cell_type": "code",
      "source": [
        "alternative_products = {\n",
        "    \"laptop\": \"tablet\",\n",
        "    \"tablet\": \"smartphone\",\n",
        "    \"smartphone\": \"feature phone\"\n",
        "}\n",
        "\n",
        "def get_alternative(product):\n",
        "    return alternative_products.get(product, \"no alternative\")"
      ],
      "metadata": {
        "id": "lcXr1VGOibv2"
      },
      "execution_count": 4,
      "outputs": []
    },
    {
      "cell_type": "markdown",
      "source": [
        "# Using setdefault() for Stock Management"
      ],
      "metadata": {
        "id": "nv6snZKFieT5"
      }
    },
    {
      "cell_type": "code",
      "source": [
        "inventory = {}\n",
        "\n",
        "if \"laptop\" not in inventory:\n",
        "    inventory[\"laptop\"] = 0\n",
        "inventory[\"laptop\"] += 10"
      ],
      "metadata": {
        "id": "tSdFbna2ic42"
      },
      "execution_count": 5,
      "outputs": []
    },
    {
      "cell_type": "code",
      "source": [
        "inventory = {}\n",
        "inventory.setdefault(\"laptop\", 0)\n",
        "inventory[\"laptop\"] += 10"
      ],
      "metadata": {
        "id": "KhOiB2mjifjU"
      },
      "execution_count": 6,
      "outputs": []
    },
    {
      "cell_type": "markdown",
      "source": [
        "# Optimizing Stock Value Calculation with Memoization"
      ],
      "metadata": {
        "id": "_N784RXYihkL"
      }
    },
    {
      "cell_type": "code",
      "source": [
        "def total_stock_value(products):\n",
        "    value = 0\n",
        "    for product in products:\n",
        "        value += product.stock * product.price\n",
        "    return value"
      ],
      "metadata": {
        "id": "GToV9Hbfigmm"
      },
      "execution_count": 7,
      "outputs": []
    },
    {
      "cell_type": "code",
      "source": [
        "from functools import lru_cache\n",
        "\n",
        "@lru_cache\n",
        "def total_stock_value(products_tuple):\n",
        "    return sum(p.stock * p.price for p in products_tuple)"
      ],
      "metadata": {
        "id": "hFOvC6plijEz"
      },
      "execution_count": 8,
      "outputs": []
    },
    {
      "cell_type": "markdown",
      "source": [
        "# Using Generators for Efficient File Processing"
      ],
      "metadata": {
        "id": "_H4yvwtOilUf"
      }
    },
    {
      "cell_type": "code",
      "source": [
        "with open(\"inventory.csv\") as file:\n",
        "    data = file.readlines()"
      ],
      "metadata": {
        "id": "UT2wLdGlikQK"
      },
      "execution_count": 11,
      "outputs": []
    },
    {
      "cell_type": "code",
      "source": [
        "def read_inventory(file_path):\n",
        "    with open(file_path) as file:\n",
        "        for line in file:\n",
        "            yield line.strip()\n",
        "\n",
        "for item in read_inventory(\"inventory.csv\"):\n",
        "    print(item)"
      ],
      "metadata": {
        "id": "EwiPcrH-imhS"
      },
      "execution_count": 13,
      "outputs": []
    },
    {
      "cell_type": "markdown",
      "source": [
        "# Comprehensions for Concise Syntax"
      ],
      "metadata": {
        "id": "oq3ZPKPaiv7y"
      }
    },
    {
      "cell_type": "code",
      "source": [
        "prices = [product.price for product in products]\n",
        "\n",
        "prices_tuple = tuple(product.price for product in products)\n",
        "\n",
        "stock_levels = {product.name: product.stock for product in products}\n",
        "\n",
        "categories = {product.category for product in products}"
      ],
      "metadata": {
        "id": "mmItsE5aislW"
      },
      "execution_count": 14,
      "outputs": []
    },
    {
      "cell_type": "markdown",
      "source": [
        "# Using Counter for Stock Analysis"
      ],
      "metadata": {
        "id": "ODjoiZy7i6_c"
      }
    },
    {
      "cell_type": "code",
      "source": [
        "from collections import Counter\n",
        "\n",
        "sales = [\"laptop\", \"tablet\", \"laptop\", \"smartphone\", \"tablet\", \"laptop\"]\n",
        "sales_count = Counter(sales)\n",
        "\n",
        "print(sales_count)  # {'laptop': 3, 'tablet': 2, 'smartphone': 1}"
      ],
      "metadata": {
        "colab": {
          "base_uri": "https://localhost:8080/"
        },
        "id": "6MbqMmXki3Iu",
        "outputId": "6ddc2ba7-887c-4ff9-8a10-15807ec9284e"
      },
      "execution_count": 15,
      "outputs": [
        {
          "output_type": "stream",
          "name": "stdout",
          "text": [
            "Counter({'laptop': 3, 'tablet': 2, 'smartphone': 1})\n"
          ]
        }
      ]
    },
    {
      "cell_type": "markdown",
      "source": [
        "# Using @decorators to Measure Function Execution Time"
      ],
      "metadata": {
        "id": "utYK71SNi9fD"
      }
    },
    {
      "cell_type": "code",
      "source": [
        "import time\n",
        "\n",
        "def time_it(func):\n",
        "    def wrapper(*args, **kwargs):\n",
        "        start = time.time()\n",
        "        result = func(*args, **kwargs)\n",
        "        end = time.time()\n",
        "        print(f\"{func.__name__} took {end - start:.4f} seconds\")\n",
        "        return result\n",
        "    return wrapper\n",
        "\n",
        "@time_it\n",
        "def process_orders():\n",
        "    time.sleep(2)  # Simulate processing time\n",
        "    return \"Orders processed\"\n",
        "\n",
        "print(process_orders())"
      ],
      "metadata": {
        "colab": {
          "base_uri": "https://localhost:8080/"
        },
        "id": "uOK1QLazi77T",
        "outputId": "0e7a10d3-c4f5-41b2-c633-0cc4d0c254d6"
      },
      "execution_count": 16,
      "outputs": [
        {
          "output_type": "stream",
          "name": "stdout",
          "text": [
            "process_orders took 2.0002 seconds\n",
            "Orders processed\n"
          ]
        }
      ]
    },
    {
      "cell_type": "markdown",
      "source": [
        "# Using match for Clean Input Handling"
      ],
      "metadata": {
        "id": "2i3XU1H_jBGd"
      }
    },
    {
      "cell_type": "code",
      "source": [
        "def handle_input(command):\n",
        "    match command:\n",
        "        case \"add\":\n",
        "            return \"Adding product\"\n",
        "        case \"remove\":\n",
        "            return \"Removing product\"\n",
        "        case \"update\":\n",
        "            return \"Updating stock\"\n",
        "        case _:\n",
        "            return \"Invalid command\"\n",
        "\n",
        "print(handle_input(\"add\"))  # Output: Adding product"
      ],
      "metadata": {
        "colab": {
          "base_uri": "https://localhost:8080/"
        },
        "id": "OVHqPPJri_jn",
        "outputId": "b317cb8c-60a2-4432-a6bf-8c57a28d419e"
      },
      "execution_count": 17,
      "outputs": [
        {
          "output_type": "stream",
          "name": "stdout",
          "text": [
            "Adding product\n"
          ]
        }
      ]
    },
    {
      "cell_type": "markdown",
      "source": [
        "# Using all for Logical Checks"
      ],
      "metadata": {
        "id": "pYHEtM45jED8"
      }
    },
    {
      "cell_type": "code",
      "source": [
        "user_roles = [\"admin\", \"manager\"]\n",
        "\n",
        "if all(role in user_roles for role in [\"admin\", \"manager\"]):\n",
        "    print(\"User has full access\")"
      ],
      "metadata": {
        "colab": {
          "base_uri": "https://localhost:8080/"
        },
        "id": "l0e6pGCTjC_v",
        "outputId": "63375de4-624a-4f33-e566-366034abf408"
      },
      "execution_count": 18,
      "outputs": [
        {
          "output_type": "stream",
          "name": "stdout",
          "text": [
            "User has full access\n"
          ]
        }
      ]
    },
    {
      "cell_type": "markdown",
      "source": [
        "# Using any for Conditional Checks"
      ],
      "metadata": {
        "id": "OmUzU1QUjG4N"
      }
    },
    {
      "cell_type": "code",
      "source": [
        "user_roles = [\"guest\", \"viewer\"]\n",
        "\n",
        "if any(role in user_roles for role in [\"admin\", \"manager\"]):\n",
        "    print(\"User can modify inventory\")\n",
        "else:\n",
        "    print(\"Read-only access\")"
      ],
      "metadata": {
        "colab": {
          "base_uri": "https://localhost:8080/"
        },
        "id": "3Rcb_AFTjFhK",
        "outputId": "84837cc2-5130-44e2-d444-cc07be940f9d"
      },
      "execution_count": 19,
      "outputs": [
        {
          "output_type": "stream",
          "name": "stdout",
          "text": [
            "Read-only access\n"
          ]
        }
      ]
    },
    {
      "cell_type": "markdown",
      "source": [
        "# What an Inventory Management code might look like (an example):"
      ],
      "metadata": {
        "id": "2goNWadZjJTx"
      }
    },
    {
      "cell_type": "code",
      "source": [
        "from dataclasses import dataclass\n",
        "from functools import lru_cache\n",
        "from collections import Counter\n",
        "import time\n",
        "\n",
        "# Defining a product structure using @dataclass for simplicity\n",
        "@dataclass\n",
        "class Product:\n",
        "    name: str\n",
        "    category: str\n",
        "    stock: int\n",
        "    price: float\n",
        "\n",
        "# Example inventory\n",
        "products = [\n",
        "    Product(\"Laptop\", \"Electronics\", 10, 1200.0),\n",
        "    Product(\"Tablet\", \"Electronics\", 15, 600.0),\n",
        "    Product(\"Smartphone\", \"Electronics\", 20, 800.0),\n",
        "]\n",
        "\n",
        "# Using setdefault() to initialize stock levels\n",
        "inventory = {}\n",
        "for product in products:\n",
        "    inventory.setdefault(product.name, product.stock)\n",
        "\n",
        "# Dictionary-based replacement system to avoid if-elif chains\n",
        "alternative_products = {\n",
        "    \"Laptop\": \"Tablet\",\n",
        "    \"Tablet\": \"Smartphone\",\n",
        "    \"Smartphone\": \"Feature Phone\"\n",
        "}\n",
        "\n",
        "def get_alternative(product):\n",
        "    return alternative_products.get(product, \"No alternative available\")\n",
        "\n",
        "# Memoization for calculating total stock value efficiently\n",
        "@lru_cache\n",
        "def total_stock_value(products_tuple):\n",
        "    return sum(p.stock * p.price for p in products_tuple)\n",
        "\n",
        "# Using a generator to process large inventory files line by line\n",
        "def read_inventory(file_path):\n",
        "    with open(file_path) as file:\n",
        "        for line in file:\n",
        "            yield line.strip()\n",
        "\n",
        "# Using comprehensions for cleaner and shorter syntax\n",
        "prices = [product.price for product in products]  # List comprehension\n",
        "prices_tuple = tuple(product.price for product in products)  # Tuple comprehension\n",
        "stock_levels = {product.name: product.stock for product in products}  # Dictionary comprehension\n",
        "categories = {product.category for product in products}  # Set comprehension\n",
        "\n",
        "# Using Counter to analyze sales data\n",
        "sales = [\"Laptop\", \"Tablet\", \"Laptop\", \"Smartphone\", \"Tablet\", \"Laptop\"]\n",
        "sales_count = Counter(sales)\n",
        "\n",
        "# Decorator to measure function execution time\n",
        "def time_it(func):\n",
        "    def wrapper(*args, **kwargs):\n",
        "        start = time.time()\n",
        "        result = func(*args, **kwargs)\n",
        "        end = time.time()\n",
        "        print(f\"{func.__name__} took {end - start:.4f} seconds\")\n",
        "        return result\n",
        "    return wrapper\n",
        "\n",
        "@time_it\n",
        "def process_orders():\n",
        "    time.sleep(2)  # Simulating order processing time\n",
        "    return \"Orders processed\"\n",
        "\n",
        "# Using match-case for structured input handling\n",
        "def handle_input(command):\n",
        "    match command:\n",
        "        case \"add\":\n",
        "            return \"Adding product\"\n",
        "        case \"remove\":\n",
        "            return \"Removing product\"\n",
        "        case \"update\":\n",
        "            return \"Updating stock\"\n",
        "        case _:\n",
        "            return \"Invalid command\"\n",
        "\n",
        "# Using 'all' for logical checks\n",
        "user_roles = [\"admin\", \"manager\"]\n",
        "\n",
        "if all(role in user_roles for role in [\"admin\", \"manager\"]):\n",
        "    print(\"User has full access\")\n",
        "\n",
        "# Using 'any' for conditional checks\n",
        "user_roles = [\"guest\", \"viewer\"]\n",
        "\n",
        "if any(role in user_roles for role in [\"admin\", \"manager\"]):\n",
        "    print(\"User can modify inventory\")\n",
        "else:\n",
        "    print(\"Read-only access\")\n",
        "\n",
        "# Running a few sample functions to demonstrate functionality\n",
        "print(get_alternative(\"Laptop\"))  # Output: Tablet\n",
        "# print(f\"Total stock value: ${total_stock_value(tuple(products))}\")  # Cached result\n",
        "print(sales_count)  # Counter output\n",
        "print(process_orders())  # Measures function execution time\n",
        "print(handle_input(\"add\"))  # Using match-case"
      ],
      "metadata": {
        "colab": {
          "base_uri": "https://localhost:8080/"
        },
        "id": "WnPdGf9djH_m",
        "outputId": "df116798-48a2-4136-ad61-38e1bc9f0863"
      },
      "execution_count": 21,
      "outputs": [
        {
          "output_type": "stream",
          "name": "stdout",
          "text": [
            "User has full access\n",
            "Read-only access\n",
            "Tablet\n",
            "Counter({'Laptop': 3, 'Tablet': 2, 'Smartphone': 1})\n",
            "process_orders took 2.0001 seconds\n",
            "Orders processed\n",
            "Adding product\n"
          ]
        }
      ]
    }
  ]
}
