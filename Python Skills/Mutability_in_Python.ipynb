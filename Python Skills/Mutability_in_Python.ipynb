{
  "nbformat": 4,
  "nbformat_minor": 0,
  "metadata": {
    "colab": {
      "name": "Mutability in Python.ipynb",
      "provenance": [],
      "collapsed_sections": [],
      "authorship_tag": "ABX9TyNYAm9IwYTgur9Rgg9aFDLi"
    },
    "kernelspec": {
      "name": "python3",
      "display_name": "Python 3"
    },
    "language_info": {
      "name": "python"
    }
  },
  "cells": [
    {
      "cell_type": "markdown",
      "metadata": {
        "id": "7wsAwhG03eKV"
      },
      "source": [
        "[Reference](https://medium.com/geekculture/mutability-in-python-39e483fc9f4d)"
      ]
    },
    {
      "cell_type": "code",
      "metadata": {
        "colab": {
          "base_uri": "https://localhost:8080/"
        },
        "id": "NvUMSHIA3cxw",
        "outputId": "d4b6bcca-790f-4326-a701-c29e0261643a"
      },
      "source": [
        "a = 1\n",
        "print(a)"
      ],
      "execution_count": 5,
      "outputs": [
        {
          "output_type": "stream",
          "text": [
            "1\n"
          ],
          "name": "stdout"
        }
      ]
    },
    {
      "cell_type": "code",
      "metadata": {
        "colab": {
          "base_uri": "https://localhost:8080/"
        },
        "id": "Y5x_-PcD3kjR",
        "outputId": "89929c88-9b68-423e-e9e7-45128a2de1f8"
      },
      "source": [
        "a = 2\n",
        "print(a)"
      ],
      "execution_count": 6,
      "outputs": [
        {
          "output_type": "stream",
          "text": [
            "2\n"
          ],
          "name": "stdout"
        }
      ]
    },
    {
      "cell_type": "code",
      "metadata": {
        "colab": {
          "base_uri": "https://localhost:8080/"
        },
        "id": "bJfawJ5A3lQ5",
        "outputId": "5f523fd7-f194-4172-b6b3-e05999e395b6"
      },
      "source": [
        "a = 1\n",
        "print(id(a))"
      ],
      "execution_count": 7,
      "outputs": [
        {
          "output_type": "stream",
          "text": [
            "1 94618577152512\n"
          ],
          "name": "stdout"
        }
      ]
    },
    {
      "cell_type": "code",
      "metadata": {
        "colab": {
          "base_uri": "https://localhost:8080/"
        },
        "id": "TRf1wSA13t5q",
        "outputId": "3cf5072e-6a58-46d7-d1d4-94b21447c4a9"
      },
      "source": [
        "a = 2\n",
        "print(id(a))"
      ],
      "execution_count": 8,
      "outputs": [
        {
          "output_type": "stream",
          "text": [
            "2 94618577152544\n"
          ],
          "name": "stdout"
        }
      ]
    },
    {
      "cell_type": "code",
      "metadata": {
        "colab": {
          "base_uri": "https://localhost:8080/"
        },
        "id": "SfFsDEJF3uo7",
        "outputId": "3afeeef3-2cc4-421e-828e-c7eaedf0008a"
      },
      "source": [
        "a = [1, 2, 3, 4, 5, 6]\n",
        "print(id(a))"
      ],
      "execution_count": 9,
      "outputs": [
        {
          "output_type": "stream",
          "text": [
            "140184875971840\n"
          ],
          "name": "stdout"
        }
      ]
    },
    {
      "cell_type": "code",
      "metadata": {
        "colab": {
          "base_uri": "https://localhost:8080/"
        },
        "id": "8qKq2gCS4Nzm",
        "outputId": "30a0bc13-da72-4e67-b095-7a226a536256"
      },
      "source": [
        "a = [1, 2, 3, 4, 5, 7]\n",
        "print(id(a))"
      ],
      "execution_count": 10,
      "outputs": [
        {
          "output_type": "stream",
          "text": [
            "140184809089776\n"
          ],
          "name": "stdout"
        }
      ]
    },
    {
      "cell_type": "code",
      "metadata": {
        "colab": {
          "base_uri": "https://localhost:8080/"
        },
        "id": "kadfNUuR4Sei",
        "outputId": "e6cfb322-bafc-4961-df58-a7cbfd91f0b0"
      },
      "source": [
        "a = [1, 2, 3, 4, 5, 6]\n",
        "print(id(a))\n",
        "\n",
        "a.append(7)\n",
        "print(a)\n",
        "print(id(a))"
      ],
      "execution_count": 11,
      "outputs": [
        {
          "output_type": "stream",
          "text": [
            "140184809100464\n",
            "[1, 2, 3, 4, 5, 6, 7]\n",
            "140184809100464\n"
          ],
          "name": "stdout"
        }
      ]
    }
  ]
}