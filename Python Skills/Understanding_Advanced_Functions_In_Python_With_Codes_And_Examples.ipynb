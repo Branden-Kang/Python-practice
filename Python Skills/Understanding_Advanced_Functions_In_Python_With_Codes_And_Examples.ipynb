{
  "nbformat": 4,
  "nbformat_minor": 0,
  "metadata": {
    "colab": {
      "name": "Understanding Advanced Functions In Python With Codes And Examples.ipynb",
      "provenance": [],
      "authorship_tag": "ABX9TyOJYYbf9qEybUMnoCRSbZW6"
    },
    "kernelspec": {
      "name": "python3",
      "display_name": "Python 3"
    },
    "language_info": {
      "name": "python"
    }
  },
  "cells": [
    {
      "cell_type": "markdown",
      "metadata": {
        "id": "JW9F7tpoiPMv"
      },
      "source": [
        "[Reference](https://towardsdatascience.com/understanding-advanced-functions-in-python-with-codes-and-examples-2e68bbb04094)"
      ]
    },
    {
      "cell_type": "code",
      "metadata": {
        "colab": {
          "base_uri": "https://localhost:8080/"
        },
        "id": "qzLwGT68h7F2",
        "outputId": "44419f5f-f708-462b-e205-d9ef9b42de51"
      },
      "source": [
        "def squares(num):\n",
        "    square = num * num \n",
        "    # You can also write square = num ** 2\n",
        "    return square\n",
        "    \n",
        "squares(5)"
      ],
      "execution_count": 1,
      "outputs": [
        {
          "output_type": "execute_result",
          "data": {
            "text/plain": [
              "25"
            ]
          },
          "metadata": {
            "tags": []
          },
          "execution_count": 1
        }
      ]
    },
    {
      "cell_type": "code",
      "metadata": {
        "colab": {
          "base_uri": "https://localhost:8080/"
        },
        "id": "zjkvHLrDinPA",
        "outputId": "44a0ce99-a784-44ae-c897-4d1cd897518c"
      },
      "source": [
        "f = lambda x:x**2\n",
        "f(5)"
      ],
      "execution_count": 2,
      "outputs": [
        {
          "output_type": "execute_result",
          "data": {
            "text/plain": [
              "25"
            ]
          },
          "metadata": {
            "tags": []
          },
          "execution_count": 2
        }
      ]
    },
    {
      "cell_type": "code",
      "metadata": {
        "colab": {
          "base_uri": "https://localhost:8080/"
        },
        "id": "EyTEPxK2ioEJ",
        "outputId": "b8d2a4fa-1a0e-406b-e7d6-dbf34298f87a"
      },
      "source": [
        "def even(a):\n",
        "    new_list = []\n",
        "    for i in a:\n",
        "        if i%2 == 0:\n",
        "            new_list.append(i)\n",
        "    return(new_list)\n",
        "    \n",
        "a = [1,2,3,4,5]\n",
        "even(a)"
      ],
      "execution_count": 3,
      "outputs": [
        {
          "output_type": "execute_result",
          "data": {
            "text/plain": [
              "[2, 4]"
            ]
          },
          "metadata": {
            "tags": []
          },
          "execution_count": 3
        }
      ]
    },
    {
      "cell_type": "code",
      "metadata": {
        "colab": {
          "base_uri": "https://localhost:8080/"
        },
        "id": "aua0_itXipv9",
        "outputId": "7f8f70cb-faed-4f44-fd16-fd0a25701c43"
      },
      "source": [
        "a = [1, 2, 3, 4, 5]\n",
        "even = list(filter(lambda x: (x%2 == 0), a))\n",
        "print(even)"
      ],
      "execution_count": 4,
      "outputs": [
        {
          "output_type": "stream",
          "text": [
            "[2, 4]\n"
          ],
          "name": "stdout"
        }
      ]
    },
    {
      "cell_type": "code",
      "metadata": {
        "colab": {
          "base_uri": "https://localhost:8080/"
        },
        "id": "rY9VBd22isHb",
        "outputId": "ff0ebb95-ed4a-4635-947a-3dab3ce3b8d8"
      },
      "source": [
        "def square(a):\n",
        "    new_list = []\n",
        "    for i in a:\n",
        "        i = i*i\n",
        "        new_list.append(i)\n",
        "    return(new_list)\n",
        "    \n",
        "a = [1,2,3,4,5]\n",
        "square(a)"
      ],
      "execution_count": 5,
      "outputs": [
        {
          "output_type": "execute_result",
          "data": {
            "text/plain": [
              "[1, 4, 9, 16, 25]"
            ]
          },
          "metadata": {
            "tags": []
          },
          "execution_count": 5
        }
      ]
    },
    {
      "cell_type": "code",
      "metadata": {
        "colab": {
          "base_uri": "https://localhost:8080/"
        },
        "id": "oVwktAT5iqwr",
        "outputId": "a01fe32f-08bf-4e2e-aa3e-30cbc5292036"
      },
      "source": [
        "a = [1, 2, 3, 4, 5]\n",
        "squares = list(map(lambda x: x ** 2, a))\n",
        "print(squares)"
      ],
      "execution_count": 6,
      "outputs": [
        {
          "output_type": "stream",
          "text": [
            "[1, 4, 9, 16, 25]\n"
          ],
          "name": "stdout"
        }
      ]
    },
    {
      "cell_type": "code",
      "metadata": {
        "colab": {
          "base_uri": "https://localhost:8080/"
        },
        "id": "g22tl-oiityd",
        "outputId": "7af8d1b0-472e-4332-e5b1-e2fd768adb7a"
      },
      "source": [
        "def prod(a):\n",
        "    product = 1\n",
        "    for i in a:\n",
        "        product = product*i\n",
        "    return product\n",
        "\n",
        "a = [1,2,3,4,5]\n",
        "prod(a)"
      ],
      "execution_count": 7,
      "outputs": [
        {
          "output_type": "execute_result",
          "data": {
            "text/plain": [
              "120"
            ]
          },
          "metadata": {
            "tags": []
          },
          "execution_count": 7
        }
      ]
    },
    {
      "cell_type": "code",
      "metadata": {
        "id": "kN14IMNTixYj",
        "outputId": "558ade19-29ac-4880-e73b-72ff25f337ad",
        "colab": {
          "base_uri": "https://localhost:8080/"
        }
      },
      "source": [
        "from functools import reduce\n",
        "\n",
        "a = [1, 2, 3, 4, 5]\n",
        "product = reduce(lambda x, y: x*y, a)\n",
        "print(product)"
      ],
      "execution_count": 8,
      "outputs": [
        {
          "output_type": "stream",
          "text": [
            "120\n"
          ],
          "name": "stdout"
        }
      ]
    }
  ]
}