{
  "nbformat": 4,
  "nbformat_minor": 0,
  "metadata": {
    "colab": {
      "name": "Data Management With Python, SQLite, and SQLAlchemy.ipynb",
      "provenance": [],
      "authorship_tag": "ABX9TyOZgXghLGZ/UYZB9nbi4JMC"
    },
    "kernelspec": {
      "name": "python3",
      "display_name": "Python 3"
    },
    "language_info": {
      "name": "python"
    }
  },
  "cells": [
    {
      "cell_type": "markdown",
      "metadata": {
        "id": "ibqH72y38QJf"
      },
      "source": [
        "[Reference](https://krithikasharma2129.medium.com/data-management-with-python-sqlite-and-sqlalchemy-44cbb41aa9cf)"
      ]
    },
    {
      "cell_type": "code",
      "metadata": {
        "colab": {
          "base_uri": "https://localhost:8080/"
        },
        "id": "H1RYbTk18Jtb",
        "outputId": "4f94e0ff-561d-4efc-ff2a-7e77a9e1b945"
      },
      "source": [
        "pip install Flask-SQLAlchemy"
      ],
      "execution_count": 1,
      "outputs": [
        {
          "output_type": "stream",
          "name": "stdout",
          "text": [
            "Collecting Flask-SQLAlchemy\n",
            "  Downloading Flask_SQLAlchemy-2.5.1-py2.py3-none-any.whl (17 kB)\n",
            "Requirement already satisfied: SQLAlchemy>=0.8.0 in /usr/local/lib/python3.7/dist-packages (from Flask-SQLAlchemy) (1.4.23)\n",
            "Requirement already satisfied: Flask>=0.10 in /usr/local/lib/python3.7/dist-packages (from Flask-SQLAlchemy) (1.1.4)\n",
            "Requirement already satisfied: click<8.0,>=5.1 in /usr/local/lib/python3.7/dist-packages (from Flask>=0.10->Flask-SQLAlchemy) (7.1.2)\n",
            "Requirement already satisfied: Jinja2<3.0,>=2.10.1 in /usr/local/lib/python3.7/dist-packages (from Flask>=0.10->Flask-SQLAlchemy) (2.11.3)\n",
            "Requirement already satisfied: Werkzeug<2.0,>=0.15 in /usr/local/lib/python3.7/dist-packages (from Flask>=0.10->Flask-SQLAlchemy) (1.0.1)\n",
            "Requirement already satisfied: itsdangerous<2.0,>=0.24 in /usr/local/lib/python3.7/dist-packages (from Flask>=0.10->Flask-SQLAlchemy) (1.1.0)\n",
            "Requirement already satisfied: MarkupSafe>=0.23 in /usr/local/lib/python3.7/dist-packages (from Jinja2<3.0,>=2.10.1->Flask>=0.10->Flask-SQLAlchemy) (2.0.1)\n",
            "Requirement already satisfied: importlib-metadata in /usr/local/lib/python3.7/dist-packages (from SQLAlchemy>=0.8.0->Flask-SQLAlchemy) (4.8.1)\n",
            "Requirement already satisfied: greenlet!=0.4.17 in /usr/local/lib/python3.7/dist-packages (from SQLAlchemy>=0.8.0->Flask-SQLAlchemy) (1.1.1)\n",
            "Requirement already satisfied: zipp>=0.5 in /usr/local/lib/python3.7/dist-packages (from importlib-metadata->SQLAlchemy>=0.8.0->Flask-SQLAlchemy) (3.5.0)\n",
            "Requirement already satisfied: typing-extensions>=3.6.4 in /usr/local/lib/python3.7/dist-packages (from importlib-metadata->SQLAlchemy>=0.8.0->Flask-SQLAlchemy) (3.7.4.3)\n",
            "Installing collected packages: Flask-SQLAlchemy\n",
            "Successfully installed Flask-SQLAlchemy-2.5.1\n"
          ]
        }
      ]
    },
    {
      "cell_type": "code",
      "metadata": {
        "colab": {
          "base_uri": "https://localhost:8080/"
        },
        "id": "hqUvQmyB8S28",
        "outputId": "034ecde5-cef2-4f38-e1c0-3490107a0cd1"
      },
      "source": [
        "from flask import Flask\n",
        "from flask_sqlalchemy import SQLAlchemy \n",
        "\n",
        "app=Flask(\"dbapp\") \n",
        "app.config['SQLALCHEMY_DATABASE_URI']='sqlite:///mydb/data.sqlite' \n",
        "\n",
        "\n",
        "db = SQLAlchemy(app)\n",
        "print(db)"
      ],
      "execution_count": 4,
      "outputs": [
        {
          "output_type": "stream",
          "name": "stdout",
          "text": [
            "<SQLAlchemy engine=sqlite:////content/mydb/data.sqlite>\n"
          ]
        },
        {
          "output_type": "stream",
          "name": "stderr",
          "text": [
            "/usr/local/lib/python3.7/dist-packages/flask_sqlalchemy/__init__.py:873: FSADeprecationWarning: SQLALCHEMY_TRACK_MODIFICATIONS adds significant overhead and will be disabled by default in the future.  Set it to True or False to suppress this warning.\n",
            "  'SQLALCHEMY_TRACK_MODIFICATIONS adds significant overhead and '\n"
          ]
        }
      ]
    },
    {
      "cell_type": "code",
      "metadata": {
        "id": "iAb3pN7o8Zpm"
      },
      "source": [
        "class Movies(db.Model):    \n",
        "    mid=db.Column(db.Integer, primary_key=True)    \n",
        "    moviename = db.Column( db.Text )    \n",
        "    actor = db.Column( db.Text )    \n",
        "    actress = db.Column( db.Text )    \n",
        "    yearofrelease = db.Column( db.Integer )    \n",
        "    director  = db.Column( db.Text )    \n",
        "    \n",
        "    def __init__(self, moviename, actor, actress, yearofrelease, director):        \n",
        "        self.moviename=moviename        \n",
        "        self.actor=actor        \n",
        "        self.actress=actress        \n",
        "        self.yearofrelease=yearofrelease        \n",
        "        self.director=director\n",
        "        \n",
        "db.create_all() # will create a sqlite file"
      ],
      "execution_count": 6,
      "outputs": []
    },
    {
      "cell_type": "code",
      "metadata": {
        "id": "2XNpDuMO9NCY"
      },
      "source": [
        "#******  1.Create  ******\n",
        "\n",
        "def addrecord(mname,actor,actress,yor,director):    \n",
        "    \n",
        "    obj=Movies(mname,actor,actress,yor,director)    \n",
        "    \n",
        "    db.session.add(obj)    \n",
        "    db.session.commit()\n",
        "    \n",
        "addrecord(\"Shershaah\",\"Sidhart Malhotra\",\"Kiara Advani\",2021,\"Vishnu Vardhan\")\n",
        "addrecord(\"Gunjan Saxsena\",\"Pankaj Tripati\",\"Janhvi Kapoor\",2020,\"Sharan Sharma\")\n",
        "addrecord(\"Bhuj\",\"Ajay Devgan\",\"Pranita Subhash\",2021,\"Abhishek Dundhaiya\")\n",
        "addrecord(\"Lage Raho Munna Bhai\",\"Sanjay Dutt\",\"Vidya balan\",2006,\"Rajkumar Hirani\")\n",
        "addrecord(\"Muna Bhai MBBS\",\"Sanjay Dutt\",\"Gracy Singh\",2003,\"Rajkumar Hirani\")\n",
        "addrecord(\"Bajrangi Bhaijan\",\"Salman Khan\",\"Kareena Kapooor\",2015,\"Kabir Khan\")\n",
        "addrecord(\"Kesari\",\"Akshay Kumar\",\"Parneeti Chopra\",2019,\"Anurag Singh\")\n",
        "addrecord(\"Parmanu\",\"John Abraham\",\"Diana Penty\",2018,\"Abhishek Sharma\")\n",
        "addrecord(\"Angrezi Medium\",\"Irfan khan\",\"Radhika Madan\",2020,\"Homi Adjania\")"
      ],
      "execution_count": 7,
      "outputs": []
    },
    {
      "cell_type": "code",
      "metadata": {
        "id": "56nXSPbd9lWo"
      },
      "source": [
        "#******  2.Read  ******\n",
        "r2c=Movies.query.filter_by(director=\"Rajkumar Hirani\").count()\n",
        "print(f\"There are {r2} records with director as Rajkumar Hirani\")"
      ],
      "execution_count": 8,
      "outputs": []
    },
    {
      "cell_type": "code",
      "metadata": {
        "id": "nECA1FRe9oE3"
      },
      "source": [
        "#query all\n",
        "rall=Movies.query.all()\n",
        "for i in range(len(rall)):    \n",
        "    print(rall[i].moviename)"
      ],
      "execution_count": 9,
      "outputs": []
    },
    {
      "cell_type": "code",
      "metadata": {
        "id": "GdU5VRxK9sTs"
      },
      "source": [
        "#query on parameter\n",
        "ryor=Movies.query.filter_by(yearofrelease=2021)\n",
        "for i in range(len(ryor.all())):    \n",
        "    print(ryor.all()[i].moviename, ryor.all()[i].actor, ryor.all()[i].yearofrelease )"
      ],
      "execution_count": 10,
      "outputs": []
    },
    {
      "cell_type": "code",
      "metadata": {
        "id": "IxX8L4nt9xkH"
      },
      "source": [
        "#******  3. Update  ******\n",
        "\n",
        "rsher=Movies.query.filter_by(moviename=\"Shershaah\")\n",
        "\n",
        "print(rsher.all())\n",
        "\n",
        "for i in rsher.all():    \n",
        "    i.director=\"directorchanged\"    \n",
        "    print(f\"Director of {i} changed\")    \n",
        "    db.session.commit()"
      ],
      "execution_count": 11,
      "outputs": []
    },
    {
      "cell_type": "code",
      "metadata": {
        "id": "hMv630bf92j7"
      },
      "source": [
        "# adding another record\n",
        "addrecord(\"Dangal\",\"Amir Khan\",\"Fatima Sana Shaikh\",2016,\"Nitesh Tiwari\")\n",
        "db.session.commit()\n",
        "print(\"New record added!!\")"
      ],
      "execution_count": 12,
      "outputs": []
    },
    {
      "cell_type": "code",
      "metadata": {
        "id": "bZmZf9K496jq"
      },
      "source": [
        "#******  4. Delete  ******\n",
        "#deleting director \"Rajkumar Hirani\" films\n",
        "rdf=Movies.query.filter_by(director=\"Rajkumar Hirani\")\n",
        "for i in rdf.all():    \n",
        "    print(\"Deleting Movie : \", rdf.all()[0])    \n",
        "    print(i)    \n",
        "    db.session.delete(rdf.all()[0])    \n",
        "    db.session.commit()"
      ],
      "execution_count": 13,
      "outputs": []
    },
    {
      "cell_type": "code",
      "metadata": {
        "id": "omUHoTLI-A6a"
      },
      "source": [
        "#deleting kesari record\n",
        "rkes=Movies.query.filter_by(moviename=\"Kesari\")\n",
        "print(rkes.all())\n",
        "db.session.delete(rkes.all()[0])\n",
        "db.session.commit()\n",
        "print(f\"Movie {rkes.all()} deleted\") #ouput in above fig-d1"
      ],
      "execution_count": 14,
      "outputs": []
    },
    {
      "cell_type": "code",
      "metadata": {
        "id": "yhR_FOuQ-Hld"
      },
      "source": [
        "#deleting all records\n",
        "rall=Movies.query.all()\n",
        "print(rall)\n",
        "\n",
        "for i in range((len(rall))):    \n",
        "    print(\"Deleting Movie\")    \n",
        "    db.session.delete(rall[i])    \n",
        "    db.session.commit()"
      ],
      "execution_count": 15,
      "outputs": []
    }
  ]
}