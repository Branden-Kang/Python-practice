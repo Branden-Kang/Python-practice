{
  "nbformat": 4,
  "nbformat_minor": 0,
  "metadata": {
    "colab": {
      "name": "Write Functions Others Can Use in Python.ipynb",
      "provenance": [],
      "authorship_tag": "ABX9TyOEUfhMqMnMIhj1564i59vi"
    },
    "kernelspec": {
      "name": "python3",
      "display_name": "Python 3"
    }
  },
  "cells": [
    {
      "cell_type": "markdown",
      "metadata": {
        "id": "m1Jg5CQhPC6W"
      },
      "source": [
        "[Reference](https://towardsdatascience.com/learn-to-write-functions-others-can-use-in-python-353011f6a8d5)"
      ]
    },
    {
      "cell_type": "markdown",
      "metadata": {
        "id": "5J8TsmDzPGR0"
      },
      "source": [
        "# Docstrings"
      ]
    },
    {
      "cell_type": "code",
      "metadata": {
        "id": "dIe4_3uhOqHv"
      },
      "source": [
        "def function_name(arguments):\n",
        "    \"\"\"\n",
        "    1. Description of what the function does.\n",
        "    2. Description of the arguments, if any.\n",
        "    3. Description of the return value(s), if any.\n",
        "    4. Description of errors, if any.\n",
        "    5. Optional extra notes or examples of usage.\n",
        "    \"\"\""
      ],
      "execution_count": 1,
      "outputs": []
    },
    {
      "cell_type": "markdown",
      "metadata": {
        "id": "-A9NHE0XPJ6j"
      },
      "source": [
        "# Google Style Docstrings"
      ]
    },
    {
      "cell_type": "code",
      "metadata": {
        "id": "nQEhPU31PHf_"
      },
      "source": [
        "def google_style(arg_1, arg_2=42):\n",
        "    \"\"\"Description of what the function does.\n",
        "    \"\"\""
      ],
      "execution_count": 2,
      "outputs": []
    },
    {
      "cell_type": "code",
      "metadata": {
        "id": "AT1lT5raPLvZ"
      },
      "source": [
        "def google_style(arg_1, arg_2=42):\n",
        "    \"\"\"Description of what the function does.\n",
        "    \n",
        "    Lorem ipsum dolor sit amet, consectetur adipiscing elit.\n",
        "    Aliquam venenatis magna a consequat mollis. In ultrices consequat nibh. \n",
        "    Sed eu sollicitudin dui. Phasellus eu iaculis justo. \n",
        "    \n",
        "    Curabitur faucibus ipsum vel aliquet convallis. \n",
        "    Maecenas eros lorem, varius nec accumsan eu, suscipit eget quam. \n",
        "    In a ultricies est. Morbi varius maximus elit, non tempus metus viverra et.    \n",
        "    \"\"\""
      ],
      "execution_count": 3,
      "outputs": []
    },
    {
      "cell_type": "code",
      "metadata": {
        "id": "Wo55OYPcPNzU"
      },
      "source": [
        "def google_style(arg_1, arg_2=42):\n",
        "    \"\"\"Description of what the function does.\n",
        "    \n",
        "    ...\n",
        "    \n",
        "    Args:\n",
        "      arg_1 (type): Description of arg_1 that can continue\n",
        "        to the next line with 2 space indent.\n",
        "      arg_2 (int, optional): Write optional when the argument\n",
        "        has a default value\n",
        "    \"\"\""
      ],
      "execution_count": 4,
      "outputs": []
    },
    {
      "cell_type": "code",
      "metadata": {
        "id": "27DyOxEyPPs6"
      },
      "source": [
        "def google_style(arg_1, arg_2=42):\n",
        "    \"\"\"Description of what the function does.\n",
        "    \n",
        "    ...\n",
        "    \n",
        "    Args:\n",
        "    \n",
        "      ...\n",
        "      \n",
        "    Returns:\n",
        "      bool: Optional desc. of the return value_1\n",
        "      dict: Optional desc. of the return value_2\n",
        "      Extra lines shouldn't be indented\n",
        "    \"\"\""
      ],
      "execution_count": 5,
      "outputs": []
    },
    {
      "cell_type": "code",
      "metadata": {
        "id": "DHQ-OxiJPRSk"
      },
      "source": [
        "def google_style(arg_1, arg_2=42):\n",
        "    \"\"\"Description of what the function does.\n",
        "    \n",
        "    ...\n",
        "    \n",
        "    Args:\n",
        "    \n",
        "      ...\n",
        "      \n",
        "    Returns:\n",
        "      \n",
        "      ...\n",
        "    \n",
        "    Raises:\n",
        "      ValueError: Describe the case where your \n",
        "        function intentionally raises this error    \n",
        "    \"\"\""
      ],
      "execution_count": 6,
      "outputs": []
    },
    {
      "cell_type": "code",
      "metadata": {
        "id": "Fe3fbc6FPS5e"
      },
      "source": [
        "def google_style(arg_1, arg_2=42):\n",
        "    \"\"\"Description of what the function does.\n",
        "    \n",
        "    ...\n",
        "    \n",
        "    Args:\n",
        "    \n",
        "      ...\n",
        "      \n",
        "    Returns:\n",
        "      \n",
        "      ...\n",
        "    \n",
        "    Raises:\n",
        "      ...\n",
        "    \n",
        "    Notes:\n",
        "      Extra notes and use cases of the function in the\n",
        "      form of free text.\n",
        "    \"\"\""
      ],
      "execution_count": 7,
      "outputs": []
    },
    {
      "cell_type": "markdown",
      "metadata": {
        "id": "NQDpSEMzPWz5"
      },
      "source": [
        "# Numpydoc Format Docstrings"
      ]
    },
    {
      "cell_type": "code",
      "metadata": {
        "id": "BPJrz7WePUT5"
      },
      "source": [
        "def numpy_style(arg_1, arg_2=42):\n",
        "    \"\"\"\n",
        "    Description of the function's purpose\n",
        "    \n",
        "    ...\n",
        "    \n",
        "    Parameters\n",
        "    ----------\n",
        "    arg_1: expected type of arg_1\n",
        "      Description of the argument.\n",
        "      Multi-lines are allowed\n",
        "    arg_2: int, optional\n",
        "      Again, write optional when argument\n",
        "      has a default value\n",
        "      \n",
        "    Returns\n",
        "    -------\n",
        "    The type of the return value\n",
        "      Can include a desc of the returned value.\n",
        "    \"\"\""
      ],
      "execution_count": 8,
      "outputs": []
    },
    {
      "cell_type": "code",
      "metadata": {
        "id": "BTEC6dSZPY73"
      },
      "source": [
        "import requests\n",
        "import json\n",
        "\n",
        "\n",
        "# Google style\n",
        "def send_request(key: str, lat: float = 0, lon: float = 0):\n",
        "    \"\"\"Send a request to Climacell Weather API\n",
        "    to get weather info based on lat/lon.\n",
        "    \n",
        "    Climacell API provides realtime weather\n",
        "    information which can be accessed using\n",
        "    their 'Realtime Endpoint'.\n",
        "    \n",
        "    Args:\n",
        "      key (str): an API key with length of 32 chars.\n",
        "      lat (float, optional): value for latitude.\n",
        "        Default=0\n",
        "      lon (float, optional): value for longitude.\n",
        "        Default=0\n",
        "    \n",
        "    Returns:\n",
        "      int: status code of the result \n",
        "      dict: Result of the call as a dict\n",
        "    \n",
        "    Notes:\n",
        "      See https://www.climacell.co/weather-api/ \n",
        "      for more info on Weather API. You can get\n",
        "      API key from there, too.\n",
        "    \"\"\"\n",
        "    # Store the endpoint\n",
        "    endpoint = \"https://api.climacell.co/v3/weather/realtime\"\n",
        "    # Build query string params\n",
        "    params = {'lat': lat, 'lon': lon, 'fields': 'temp',\n",
        "              'apikey': api, 'unit_system': 'si'}\n",
        "    # Get response\n",
        "    response = requests.request('GET', endpoint, params=params)\n",
        "    # Extract response code\n",
        "    code = response.status_code\n",
        "    # Convert results to dict\n",
        "    result = json.loads(response.content)\n",
        "    \n",
        "    return code, result"
      ],
      "execution_count": 9,
      "outputs": []
    },
    {
      "cell_type": "code",
      "metadata": {
        "id": "HxOfHLJKPc2B"
      },
      "source": [
        "# Numpydoc style\n",
        "def send_request(key: str, lat: float = 0, lon: float = 0):\n",
        "    \"\"\"\n",
        "    Send a request to Climacell Weather API\n",
        "    to get weather info based on lat/lon.\n",
        "    \n",
        "    Climacell API provides realtime weather\n",
        "    information which can be accessed using\n",
        "    their 'Realtime Endpoint'.\n",
        "    \n",
        "    Parameters\n",
        "    ----------\n",
        "      key (str): an API key with length of 32 chars.\n",
        "      lat (float, optional): value for latitude.\n",
        "        Default=0\n",
        "      lon (float, optional): value for longitude.\n",
        "        Default=0\n",
        "    \n",
        "    Returns\n",
        "    -------\n",
        "      int: status code of the result \n",
        "      dict: Result of the call as a dict\n",
        "    \n",
        "    Notes\n",
        "    -----\n",
        "      See https://www.climacell.co/weather-api/ \n",
        "      for more info on Weather API. You can get\n",
        "      API key from there, too.\n",
        "    \"\"\"\n",
        "    # Store the endpoint\n",
        "    endpoint = \"https://api.climacell.co/v3/weather/realtime\"\n",
        "    # Build query string params\n",
        "    params = {'lat': lat, 'lon': lon, 'fields': 'temp',\n",
        "              'apikey': api, 'unit_system': 'si'}\n",
        "    # Get response\n",
        "    response = requests.request('GET', endpoint, params=params)\n",
        "    # Extract response code\n",
        "    code = response.status_code\n",
        "    # Convert results to dict\n",
        "    result = json.loads(response.content)\n",
        "    \n",
        "    return code, result"
      ],
      "execution_count": 10,
      "outputs": []
    },
    {
      "cell_type": "code",
      "metadata": {
        "colab": {
          "base_uri": "https://localhost:8080/"
        },
        "id": "1XZm2JcsPhv5",
        "outputId": "fe70fb91-1c9d-4609-c7dc-c00a79217b65"
      },
      "source": [
        "print(range.__doc__)"
      ],
      "execution_count": 11,
      "outputs": [
        {
          "output_type": "stream",
          "text": [
            "range(stop) -> range object\n",
            "range(start, stop[, step]) -> range object\n",
            "\n",
            "Return an object that produces a sequence of integers from start (inclusive)\n",
            "to stop (exclusive) by step.  range(i, j) produces i, i+1, i+2, ..., j-1.\n",
            "start defaults to 0, and stop is omitted!  range(4) produces 0, 1, 2, 3.\n",
            "These are exactly the valid indices for a list of 4 elements.\n",
            "When step is given, it specifies the increment (or decrement).\n"
          ],
          "name": "stdout"
        }
      ]
    },
    {
      "cell_type": "code",
      "metadata": {
        "colab": {
          "base_uri": "https://localhost:8080/"
        },
        "id": "BoZbVy3mPmmw",
        "outputId": "5075a98d-5ce6-4914-e42e-61fa7aab6e8f"
      },
      "source": [
        "print(print.__doc__)"
      ],
      "execution_count": 12,
      "outputs": [
        {
          "output_type": "stream",
          "text": [
            "print(value, ..., sep=' ', end='\\n', file=sys.stdout, flush=False)\n",
            "\n",
            "Prints the values to a stream, or to sys.stdout by default.\n",
            "Optional keyword arguments:\n",
            "file:  a file-like object (stream); defaults to the current sys.stdout.\n",
            "sep:   string inserted between values, default a space.\n",
            "end:   string appended after the last value, default a newline.\n",
            "flush: whether to forcibly flush the stream.\n"
          ],
          "name": "stdout"
        }
      ]
    },
    {
      "cell_type": "code",
      "metadata": {
        "colab": {
          "base_uri": "https://localhost:8080/"
        },
        "id": "F9weaHVcPoZo",
        "outputId": "f711306a-2649-4922-c4e0-ffc183b3780a"
      },
      "source": [
        "from numpy import ndarray\n",
        "import inspect\n",
        "\n",
        "print(inspect.getdoc(ndarray))"
      ],
      "execution_count": 13,
      "outputs": [
        {
          "output_type": "stream",
          "text": [
            "ndarray(shape, dtype=float, buffer=None, offset=0,\n",
            "        strides=None, order=None)\n",
            "\n",
            "An array object represents a multidimensional, homogeneous array\n",
            "of fixed-size items.  An associated data-type object describes the\n",
            "format of each element in the array (its byte-order, how many bytes it\n",
            "occupies in memory, whether it is an integer, a floating point number,\n",
            "or something else, etc.)\n",
            "\n",
            "Arrays should be constructed using `array`, `zeros` or `empty` (refer\n",
            "to the See Also section below).  The parameters given here refer to\n",
            "a low-level method (`ndarray(...)`) for instantiating an array.\n",
            "\n",
            "For more information, refer to the `numpy` module and examine the\n",
            "methods and attributes of an array.\n",
            "\n",
            "Parameters\n",
            "----------\n",
            "(for the __new__ method; see Notes below)\n",
            "\n",
            "shape : tuple of ints\n",
            "    Shape of created array.\n",
            "dtype : data-type, optional\n",
            "    Any object that can be interpreted as a numpy data type.\n",
            "buffer : object exposing buffer interface, optional\n",
            "    Used to fill the array with data.\n",
            "offset : int, optional\n",
            "    Offset of array data in buffer.\n",
            "strides : tuple of ints, optional\n",
            "    Strides of data in memory.\n",
            "order : {'C', 'F'}, optional\n",
            "    Row-major (C-style) or column-major (Fortran-style) order.\n",
            "\n",
            "Attributes\n",
            "----------\n",
            "T : ndarray\n",
            "    Transpose of the array.\n",
            "data : buffer\n",
            "    The array's elements, in memory.\n",
            "dtype : dtype object\n",
            "    Describes the format of the elements in the array.\n",
            "flags : dict\n",
            "    Dictionary containing information related to memory use, e.g.,\n",
            "    'C_CONTIGUOUS', 'OWNDATA', 'WRITEABLE', etc.\n",
            "flat : numpy.flatiter object\n",
            "    Flattened version of the array as an iterator.  The iterator\n",
            "    allows assignments, e.g., ``x.flat = 3`` (See `ndarray.flat` for\n",
            "    assignment examples; TODO).\n",
            "imag : ndarray\n",
            "    Imaginary part of the array.\n",
            "real : ndarray\n",
            "    Real part of the array.\n",
            "size : int\n",
            "    Number of elements in the array.\n",
            "itemsize : int\n",
            "    The memory use of each array element in bytes.\n",
            "nbytes : int\n",
            "    The total number of bytes required to store the array data,\n",
            "    i.e., ``itemsize * size``.\n",
            "ndim : int\n",
            "    The array's number of dimensions.\n",
            "shape : tuple of ints\n",
            "    Shape of the array.\n",
            "strides : tuple of ints\n",
            "    The step-size required to move from one element to the next in\n",
            "    memory. For example, a contiguous ``(3, 4)`` array of type\n",
            "    ``int16`` in C-order has strides ``(8, 2)``.  This implies that\n",
            "    to move from element to element in memory requires jumps of 2 bytes.\n",
            "    To move from row-to-row, one needs to jump 8 bytes at a time\n",
            "    (``2 * 4``).\n",
            "ctypes : ctypes object\n",
            "    Class containing properties of the array needed for interaction\n",
            "    with ctypes.\n",
            "base : ndarray\n",
            "    If the array is a view into another array, that array is its `base`\n",
            "    (unless that array is also a view).  The `base` array is where the\n",
            "    array data is actually stored.\n",
            "\n",
            "See Also\n",
            "--------\n",
            "array : Construct an array.\n",
            "zeros : Create an array, each element of which is zero.\n",
            "empty : Create an array, but leave its allocated memory unchanged (i.e.,\n",
            "        it contains \"garbage\").\n",
            "dtype : Create a data-type.\n",
            "\n",
            "Notes\n",
            "-----\n",
            "There are two modes of creating an array using ``__new__``:\n",
            "\n",
            "1. If `buffer` is None, then only `shape`, `dtype`, and `order`\n",
            "   are used.\n",
            "2. If `buffer` is an object exposing the buffer interface, then\n",
            "   all keywords are interpreted.\n",
            "\n",
            "No ``__init__`` method is needed because the array is fully initialized\n",
            "after the ``__new__`` method.\n",
            "\n",
            "Examples\n",
            "--------\n",
            "These examples illustrate the low-level `ndarray` constructor.  Refer\n",
            "to the `See Also` section above for easier ways of constructing an\n",
            "ndarray.\n",
            "\n",
            "First mode, `buffer` is None:\n",
            "\n",
            ">>> np.ndarray(shape=(2,2), dtype=float, order='F')\n",
            "array([[0.0e+000, 0.0e+000], # random\n",
            "       [     nan, 2.5e-323]])\n",
            "\n",
            "Second mode:\n",
            "\n",
            ">>> np.ndarray((2,), buffer=np.array([1,2,3]),\n",
            "...            offset=np.int_().itemsize,\n",
            "...            dtype=int) # offset = 1*itemsize, i.e. skip first element\n",
            "array([2, 3])\n"
          ],
          "name": "stdout"
        }
      ]
    },
    {
      "cell_type": "markdown",
      "metadata": {
        "id": "PZmyA14qQCnR"
      },
      "source": [
        "## Bad example"
      ]
    },
    {
      "cell_type": "code",
      "metadata": {
        "id": "BekXUAoxPr6H"
      },
      "source": [
        "import pandas as pd\n",
        "\n",
        "\n",
        "def top25(path, country):\n",
        "    \"\"\"\n",
        "    Reads a csv file into pandas.DataFrame\n",
        "    from `path` and returns top 25 cities\n",
        "    of `country` based on population\n",
        "    \"\"\"\n",
        "    df = pd.read_csv('data/worldcities.csv')\n",
        "    # Subset for cities of given country\n",
        "    subset = df[df['country'] == country][['city_ascii', 'lat',\n",
        "                                           'lng', 'population']]\n",
        "    # Extract top 25 based on population size\n",
        "    subset_sorted = subset.sort_values('population',\n",
        "                                       ascending=False).iloc[:25]\n",
        "    # Rename lng column to lon\n",
        "    subset_sorted['lon'] = subset_sorted['lng']\n",
        "    # Drop lng column\n",
        "    subset_sorted.drop('lng', axis='columns', inplace=True)\n",
        "    # Reorder columns\n",
        "    subset_sorted = subset_sorted[['city_ascii', 'lat',\n",
        "                                   'lon', 'population']]\n",
        "    return subset_sorted.reset_index().drop('index', axis='columns')"
      ],
      "execution_count": 14,
      "outputs": []
    },
    {
      "cell_type": "markdown",
      "metadata": {
        "id": "FWRtNXqHQEJu"
      },
      "source": [
        "## Good example"
      ]
    },
    {
      "cell_type": "code",
      "metadata": {
        "id": "RCQDLMEjP7Ww"
      },
      "source": [
        "import pandas as pd\n",
        "\n",
        "\n",
        "def preprocess(path):\n",
        "    \"\"\"\n",
        "    Loads a CSV file in pandas.DataFrame\n",
        "    and performs basic data cleaning.\n",
        "    \n",
        "    Parameters\n",
        "    ----------\n",
        "      path (str): a path to the CSV file\n",
        "    \n",
        "    Returns\n",
        "    -------\n",
        "      pandas.DataFrame\n",
        "    \"\"\"\n",
        "    # Load the data\n",
        "    df = pd.read_csv(path)\n",
        "    # Rename lng column to lon\n",
        "    df.rename(columns={'lng': 'lon'}, inplace=True)\n",
        "    # Reorder columns\n",
        "    df = df[['city_ascii', 'lat', 'lon', 'population']]\n",
        "    \n",
        "    return df\n",
        "    \n",
        "# cities = preprocess('data/worldcities.csv')"
      ],
      "execution_count": 15,
      "outputs": []
    },
    {
      "cell_type": "code",
      "metadata": {
        "id": "5FbPYXgXQBlH"
      },
      "source": [
        "def top_25(df, country: str):\n",
        "    \"\"\"\n",
        "    Filters the `df` for `country`\n",
        "    and isolates its 25 most populated\n",
        "    cities.\n",
        "    \n",
        "    Parameters\n",
        "    ----------\n",
        "      df (pandas.DataFrame): the dataframe to filter\n",
        "        containing countries and cities data\n",
        "      country (str): the name of the country to filter for\n",
        "      \n",
        "    Returns\n",
        "    -------\n",
        "      pandas.DataFrame or None: return top 25 cities\n",
        "        as pandas.DataFrame or None if no match found\n",
        "        for `country`\n",
        "    \"\"\"\n",
        "    # Filter for `country` in `df`\n",
        "    if country in df['country'].unique():\n",
        "        filtered = df[df['country'] == country]\n",
        "    else:  # Return None if no match\n",
        "        return None\n",
        "    # Sort in descending order based on population\n",
        "    pop_sorted = filtered.sort_values('population', ascending=False)\n",
        "    # Extract top 25 cities\n",
        "    top = pop_sorted.iloc[:25]\n",
        "    \n",
        "    return top"
      ],
      "execution_count": 16,
      "outputs": []
    }
  ]
}