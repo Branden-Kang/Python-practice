{
  "nbformat": 4,
  "nbformat_minor": 0,
  "metadata": {
    "colab": {
      "provenance": [],
      "authorship_tag": "ABX9TyNWnNfLqLvcXsW9HfxtqRKt"
    },
    "kernelspec": {
      "name": "python3",
      "display_name": "Python 3"
    },
    "language_info": {
      "name": "python"
    }
  },
  "cells": [
    {
      "cell_type": "markdown",
      "source": [
        "[Reference](https://medium.com/@Sabrina-Carpenter/python-best-practices-10-key-techniques-to-write-cleaner-code-313522c1cf52)"
      ],
      "metadata": {
        "id": "faKu_ou17Fi1"
      }
    },
    {
      "cell_type": "markdown",
      "source": [
        "# Use Meaningful Names"
      ],
      "metadata": {
        "id": "RKl58D4d7HW6"
      }
    },
    {
      "cell_type": "code",
      "execution_count": 1,
      "metadata": {
        "id": "RlqINbYk2Z6y"
      },
      "outputs": [],
      "source": [
        "# Bad naming\n",
        "def calc(a, b):\n",
        "    return a * b\n",
        "\n",
        "# Good naming\n",
        "def calculate_area(width, height):\n",
        "    return width * height"
      ]
    },
    {
      "cell_type": "markdown",
      "source": [
        "# Keep Functions Short and Focused"
      ],
      "metadata": {
        "id": "Z1PAsgej7J8x"
      }
    },
    {
      "cell_type": "code",
      "source": [
        "# Bad example\n",
        "def process_data(data):\n",
        "    pass\n",
        "    # ...clean data\n",
        "    # ...transform data\n",
        "    # ...save data to the database\n",
        "\n",
        "# Good example\n",
        "def clean_data(data):\n",
        "    pass\n",
        "    # ...clean data\n",
        "def transform_data(data):\n",
        "    pass\n",
        "    # ...transform data\n",
        "def save_data(data):\n",
        "    pass\n",
        "    # ...save data to the database"
      ],
      "metadata": {
        "id": "gqoiYM6W7IRQ"
      },
      "execution_count": 4,
      "outputs": []
    },
    {
      "cell_type": "markdown",
      "source": [
        "# Leverage Python’s Standard Library"
      ],
      "metadata": {
        "id": "9uzZEe3j7RIj"
      }
    },
    {
      "cell_type": "code",
      "source": [
        "# # Example: using the `csv` module to read a CSV file\n",
        "# import csv\n",
        "\n",
        "# with open('data.csv', mode='r') as file:\n",
        "#     reader = csv.reader(file)\n",
        "#     for row in reader:\n",
        "#         print(row)"
      ],
      "metadata": {
        "id": "_8PlawYq7LY6"
      },
      "execution_count": 5,
      "outputs": []
    },
    {
      "cell_type": "markdown",
      "source": [
        "# Use Exceptions for Error Handling"
      ],
      "metadata": {
        "id": "zV3kFecD7Twn"
      }
    },
    {
      "cell_type": "code",
      "source": [
        "# Bad example\n",
        "def divide(a, b):\n",
        "    if b == 0:\n",
        "        return \"Error: Division by zero\"\n",
        "    return a / b\n",
        "\n",
        "# Good example\n",
        "def divide(a, b):\n",
        "    if b == 0:\n",
        "        raise ValueError(\"Division by zero\")\n",
        "    return a / b\n",
        "\n",
        "try:\n",
        "    result = divide(10, 0)\n",
        "except ValueError as e:\n",
        "    print(e)"
      ],
      "metadata": {
        "colab": {
          "base_uri": "https://localhost:8080/"
        },
        "id": "gqOt6_WU7Sqs",
        "outputId": "f22ead2a-2ebc-4459-82a0-4db47516d1a4"
      },
      "execution_count": 6,
      "outputs": [
        {
          "output_type": "stream",
          "name": "stdout",
          "text": [
            "Division by zero\n"
          ]
        }
      ]
    },
    {
      "cell_type": "markdown",
      "source": [
        "# Use Python Logging for Better Debugging"
      ],
      "metadata": {
        "id": "S2fatBBU7WV9"
      }
    },
    {
      "cell_type": "code",
      "source": [
        "import logging\n",
        "\n",
        "logging.basicConfig(level=logging.INFO, format='%(levelname)s: %(message)s')\n",
        "\n",
        "def divide(a, b):\n",
        "    logging.info(\"Dividing %s by %s\", a, b)\n",
        "    if b == 0:\n",
        "        logging.error(\"Division by zero\")\n",
        "        raise ValueError(\"Division by zero\")\n",
        "    return a / b\n",
        "\n",
        "result = divide(10, 5)"
      ],
      "metadata": {
        "id": "tS8SPruC7VXB"
      },
      "execution_count": 7,
      "outputs": []
    },
    {
      "cell_type": "markdown",
      "source": [
        "# Use List Comprehensions"
      ],
      "metadata": {
        "id": "NIiRhWpj7YaR"
      }
    },
    {
      "cell_type": "code",
      "source": [
        "# Bad example\n",
        "squares = []\n",
        "for i in range(10):\n",
        "    squares.append(i ** 2)\n",
        "\n",
        "# Good example\n",
        "squares = [i ** 2 for i in range(10)]"
      ],
      "metadata": {
        "id": "nJLpThtX7Xls"
      },
      "execution_count": 8,
      "outputs": []
    },
    {
      "cell_type": "markdown",
      "source": [
        "# Employ Generators"
      ],
      "metadata": {
        "id": "0KgF_-zM7aUS"
      }
    },
    {
      "cell_type": "code",
      "source": [
        "# Bad example\n",
        "def get_even_numbers(limit):\n",
        "    return [x for x in range(limit) if x % 2 == 0]\n",
        "\n",
        "# Good example\n",
        "def get_even_numbers(limit):\n",
        "    for x in range(limit):\n",
        "        if x % 2 == 0:\n",
        "            yield x"
      ],
      "metadata": {
        "id": "I9ectDN17ZmJ"
      },
      "execution_count": 9,
      "outputs": []
    },
    {
      "cell_type": "markdown",
      "source": [
        "# Write Unit Tests"
      ],
      "metadata": {
        "id": "DnhLQHzN7cUp"
      }
    },
    {
      "cell_type": "code",
      "source": [
        "import unittest\n",
        "\n",
        "def add(a, b):\n",
        "    return a + b\n",
        "\n",
        "class TestAddition(unittest.TestCase):\n",
        "    def test_add(self):\n",
        "        self.assertEqual(add(2, 3), 5)\n",
        "\n",
        "if __name__ == \"__main__\":\n",
        "    unittest.main()"
      ],
      "metadata": {
        "colab": {
          "base_uri": "https://localhost:8080/",
          "height": 337
        },
        "id": "tTeaInQp7baX",
        "outputId": "acfdd3d4-9ba1-46db-f9a1-28309267720f"
      },
      "execution_count": 10,
      "outputs": [
        {
          "output_type": "stream",
          "name": "stderr",
          "text": [
            "E\n",
            "======================================================================\n",
            "ERROR: /root/ (unittest.loader._FailedTest)\n",
            "----------------------------------------------------------------------\n",
            "AttributeError: module '__main__' has no attribute '/root/'\n",
            "\n",
            "----------------------------------------------------------------------\n",
            "Ran 1 test in 0.001s\n",
            "\n",
            "FAILED (errors=1)\n"
          ]
        },
        {
          "output_type": "error",
          "ename": "SystemExit",
          "evalue": "ignored",
          "traceback": [
            "An exception has occurred, use %tb to see the full traceback.\n",
            "\u001b[0;31mSystemExit\u001b[0m\u001b[0;31m:\u001b[0m True\n"
          ]
        },
        {
          "output_type": "stream",
          "name": "stderr",
          "text": [
            "/usr/local/lib/python3.9/dist-packages/IPython/core/interactiveshell.py:3334: UserWarning: To exit: use 'exit', 'quit', or Ctrl-D.\n",
            "  warn(\"To exit: use 'exit', 'quit', or Ctrl-D.\", stacklevel=1)\n"
          ]
        }
      ]
    },
    {
      "cell_type": "markdown",
      "source": [
        "# Use Continuous Integration\n",
        "Continuous Integration (CI) allows you to automatically build, test, and deploy your code whenever changes are made. This helps to catch bugs early and ensure your code is always in a deployable state."
      ],
      "metadata": {
        "id": "mvP-kH2X7hVn"
      }
    }
  ]
}
