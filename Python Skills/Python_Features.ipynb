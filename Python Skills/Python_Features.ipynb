{
  "nbformat": 4,
  "nbformat_minor": 0,
  "metadata": {
    "colab": {
      "name": "Python Features.ipynb",
      "provenance": [],
      "authorship_tag": "ABX9TyPXBpLJXzyLrd1gZ3LHfQUk"
    },
    "kernelspec": {
      "name": "python3",
      "display_name": "Python 3"
    }
  },
  "cells": [
    {
      "cell_type": "markdown",
      "metadata": {
        "id": "RSH5D3TuVqGg"
      },
      "source": [
        "[Reference](https://medium.com/swlh/python-features-you-should-know-aff75b3159e3)"
      ]
    },
    {
      "cell_type": "markdown",
      "metadata": {
        "id": "KYECZ2FJVrxR"
      },
      "source": [
        "# 1. Enumerate"
      ]
    },
    {
      "cell_type": "code",
      "metadata": {
        "colab": {
          "base_uri": "https://localhost:8080/"
        },
        "id": "YGfjpDcVVpAF",
        "outputId": "29b251b4-0597-49bd-d964-6087a45267e2"
      },
      "source": [
        "fruits = ['apple','banana','orange','kiwi']\n",
        "\n",
        "count = 0\n",
        "for fruit in fruits:\n",
        "    print(count, fruit)\n",
        "    count += 1"
      ],
      "execution_count": 1,
      "outputs": [
        {
          "output_type": "stream",
          "text": [
            "0 apple\n",
            "1 banana\n",
            "2 orange\n",
            "3 kiwi\n"
          ],
          "name": "stdout"
        }
      ]
    },
    {
      "cell_type": "code",
      "metadata": {
        "colab": {
          "base_uri": "https://localhost:8080/"
        },
        "id": "AS80Y5-JWHvp",
        "outputId": "0410eb2d-9d3e-4344-bc30-37d4d7717e9d"
      },
      "source": [
        "fruits = ['apple','banana','orange','kiwi']\n",
        "\n",
        "for count, fruit in enumerate(fruits):\n",
        "    print(count, fruit)"
      ],
      "execution_count": 2,
      "outputs": [
        {
          "output_type": "stream",
          "text": [
            "0 apple\n",
            "1 banana\n",
            "2 orange\n",
            "3 kiwi\n"
          ],
          "name": "stdout"
        }
      ]
    },
    {
      "cell_type": "markdown",
      "metadata": {
        "id": "csfGoZOVWQPo"
      },
      "source": [
        "# 2. f-string"
      ]
    },
    {
      "cell_type": "code",
      "metadata": {
        "colab": {
          "base_uri": "https://localhost:8080/"
        },
        "id": "zZpiQtzFWN1m",
        "outputId": "ba0dbbd4-6dba-4804-8e1d-bfe800f05979"
      },
      "source": [
        "a = 10 \n",
        "b =20\n",
        "print(f\"{a} + {b} = {a+b}\")"
      ],
      "execution_count": 3,
      "outputs": [
        {
          "output_type": "stream",
          "text": [
            "10 + 20 = 30\n"
          ],
          "name": "stdout"
        }
      ]
    },
    {
      "cell_type": "markdown",
      "metadata": {
        "id": "lmLPOhGKWZIW"
      },
      "source": [
        "# 3. Keyword Arguments(**kwargs) and Non-Keyword Arguments(*args)"
      ]
    },
    {
      "cell_type": "markdown",
      "metadata": {
        "id": "zd8lbTawW3x1"
      },
      "source": [
        "## Disclaimer"
      ]
    },
    {
      "cell_type": "code",
      "metadata": {
        "colab": {
          "base_uri": "https://localhost:8080/"
        },
        "id": "B7dYqd8xWXvy",
        "outputId": "f483de1e-c98e-4d91-e74d-6bdc83ca78f4"
      },
      "source": [
        "def power(a,b):\n",
        "    return a ** b\n",
        "\n",
        "power(3,2)"
      ],
      "execution_count": 4,
      "outputs": [
        {
          "output_type": "execute_result",
          "data": {
            "text/plain": [
              "9"
            ]
          },
          "metadata": {
            "tags": []
          },
          "execution_count": 4
        }
      ]
    },
    {
      "cell_type": "markdown",
      "metadata": {
        "id": "KgAlzUd2WgXX"
      },
      "source": [
        "## Non-Keyword Arguments(*args)"
      ]
    },
    {
      "cell_type": "code",
      "metadata": {
        "colab": {
          "base_uri": "https://localhost:8080/"
        },
        "id": "GRUkfozJWfRG",
        "outputId": "5fb95ed8-5724-4a74-ab93-89b9543be946"
      },
      "source": [
        "def add(a, b, c):\n",
        "    return a + b + c\n",
        "\n",
        "value = add(10,20,30)\n",
        "print(value)"
      ],
      "execution_count": 5,
      "outputs": [
        {
          "output_type": "stream",
          "text": [
            "60\n"
          ],
          "name": "stdout"
        }
      ]
    },
    {
      "cell_type": "code",
      "metadata": {
        "colab": {
          "base_uri": "https://localhost:8080/"
        },
        "id": "tH1U9H3PWm5M",
        "outputId": "8485cc85-4457-40a0-eb50-b2b1d48962ef"
      },
      "source": [
        "def add(*args):\n",
        "    add = 0\n",
        "    for i in args:\n",
        "        add += i\n",
        "\n",
        "    return add\n",
        "\n",
        "print(add(1,2,3))\n",
        "print(add(1,2,3,4))\n",
        "print(add(1,2,3,4,5))"
      ],
      "execution_count": 6,
      "outputs": [
        {
          "output_type": "stream",
          "text": [
            "6\n",
            "10\n",
            "15\n"
          ],
          "name": "stdout"
        }
      ]
    },
    {
      "cell_type": "markdown",
      "metadata": {
        "id": "CUvCAQVjW24R"
      },
      "source": [
        "## Keyword Arguments"
      ]
    },
    {
      "cell_type": "code",
      "metadata": {
        "colab": {
          "base_uri": "https://localhost:8080/"
        },
        "id": "w0pXLBL2WyIq",
        "outputId": "60dd0f3a-17b8-449b-eba7-3754c95566ee"
      },
      "source": [
        "def person(**kwargs):\n",
        "    return kwargs\n",
        "\n",
        "value = person(name=\"Branden\", age=20, height = 183)\n",
        "print(value)"
      ],
      "execution_count": 7,
      "outputs": [
        {
          "output_type": "stream",
          "text": [
            "{'name': 'Branden', 'age': 20, 'height': 183}\n"
          ],
          "name": "stdout"
        }
      ]
    },
    {
      "cell_type": "markdown",
      "metadata": {
        "id": "iNIqkAQPW7dP"
      },
      "source": [
        "# Decorators"
      ]
    },
    {
      "cell_type": "code",
      "metadata": {
        "colab": {
          "base_uri": "https://localhost:8080/"
        },
        "id": "Rp6ZaRoEXGq-",
        "outputId": "3d9e6c6e-1e6f-4ff5-dff6-393fe619b619"
      },
      "source": [
        "def deco(f):\n",
        "    def inner():\n",
        "        print(\"adding functionality before\")\n",
        "        f()\n",
        "        print(\"adding functionality after\")\n",
        "    return inner\n",
        "\n",
        "@deco\n",
        "def task1():\n",
        "    print(\"task 2\")\n",
        "task1()"
      ],
      "execution_count": 9,
      "outputs": [
        {
          "output_type": "stream",
          "text": [
            "adding functionality before\n",
            "task 2\n",
            "adding functionality after\n"
          ],
          "name": "stdout"
        }
      ]
    },
    {
      "cell_type": "code",
      "metadata": {
        "colab": {
          "base_uri": "https://localhost:8080/"
        },
        "id": "5cG__R-2XSDk",
        "outputId": "7374fb7a-5e26-4e2d-acac-7fe61a53e38d"
      },
      "source": [
        "def deco(f):\n",
        "    def inner(*args, **kwargs):\n",
        "        print(\"adding functionality before\")\n",
        "        f(*args, **kwargs)\n",
        "        print(\"adding functionality after\")\n",
        "    return inner\n",
        "\n",
        "@deco\n",
        "def task1(num):\n",
        "    print(f\"task {num}\")\n",
        "\n",
        "@deco\n",
        "def task2(num1, num2):\n",
        "    print(f\"task { num1 + num2 }\")\n",
        "\n",
        "task1(1)\n",
        "task2(1,2)"
      ],
      "execution_count": 10,
      "outputs": [
        {
          "output_type": "stream",
          "text": [
            "adding functionality before\n",
            "task 1\n",
            "adding functionality after\n",
            "adding functionality before\n",
            "task 3\n",
            "adding functionality after\n"
          ],
          "name": "stdout"
        }
      ]
    }
  ]
}