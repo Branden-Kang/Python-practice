{
  "nbformat": 4,
  "nbformat_minor": 0,
  "metadata": {
    "colab": {
      "name": "Demystifying Python Decorators.ipynb",
      "provenance": [],
      "authorship_tag": "ABX9TyN2KCaXyhv2IYFsVEjTcltj"
    },
    "kernelspec": {
      "name": "python3",
      "display_name": "Python 3"
    }
  },
  "cells": [
    {
      "cell_type": "markdown",
      "metadata": {
        "id": "tjpfxWvfN1q4"
      },
      "source": [
        "[Reference](https://medium.com/swlh/demystifying-python-decorators-in-10-minutes-ffe092723c6c)"
      ]
    },
    {
      "cell_type": "code",
      "metadata": {
        "colab": {
          "base_uri": "https://localhost:8080/"
        },
        "id": "hii13BNINw5Z",
        "outputId": "c71c540a-1dfc-4947-ca37-bb54b6dfe851"
      },
      "source": [
        "def say_hello(name):\n",
        "    print(f'Hello, {name}!')\n",
        "    \n",
        "    \n",
        "def say_goodbye(name):\n",
        "    print(f'Goodbye, {name}!')\n",
        "\n",
        "    \n",
        "def say_to_bob(fun):\n",
        "    fun('Bob')\n",
        "    \n",
        "    \n",
        "say_to_bob(say_hello)\n",
        "say_to_bob(say_goodbye)"
      ],
      "execution_count": 1,
      "outputs": [
        {
          "output_type": "stream",
          "text": [
            "Hello, Bob!\n",
            "Goodbye, Bob!\n"
          ],
          "name": "stdout"
        }
      ]
    },
    {
      "cell_type": "code",
      "metadata": {
        "colab": {
          "base_uri": "https://localhost:8080/",
          "height": 198
        },
        "id": "9wEeNF2dN8r3",
        "outputId": "17258a82-4675-4425-a2bb-4626ac38f3b6"
      },
      "source": [
        "say_to_bob(say_hello())"
      ],
      "execution_count": 2,
      "outputs": [
        {
          "output_type": "error",
          "ename": "TypeError",
          "evalue": "ignored",
          "traceback": [
            "\u001b[0;31m---------------------------------------------------------------------------\u001b[0m",
            "\u001b[0;31mTypeError\u001b[0m                                 Traceback (most recent call last)",
            "\u001b[0;32m<ipython-input-2-46db25622249>\u001b[0m in \u001b[0;36m<module>\u001b[0;34m()\u001b[0m\n\u001b[0;32m----> 1\u001b[0;31m \u001b[0msay_to_bob\u001b[0m\u001b[0;34m(\u001b[0m\u001b[0msay_hello\u001b[0m\u001b[0;34m(\u001b[0m\u001b[0;34m)\u001b[0m\u001b[0;34m)\u001b[0m\u001b[0;34m\u001b[0m\u001b[0;34m\u001b[0m\u001b[0m\n\u001b[0m",
            "\u001b[0;31mTypeError\u001b[0m: say_hello() missing 1 required positional argument: 'name'"
          ]
        }
      ]
    },
    {
      "cell_type": "code",
      "metadata": {
        "colab": {
          "base_uri": "https://localhost:8080/"
        },
        "id": "5jS9YBqdOLK-",
        "outputId": "72d326c2-a537-4a91-feac-bc659dc74bda"
      },
      "source": [
        "def say_hello(name):\n",
        "    print(f'Hello, {name}!')\n",
        "    \n",
        "    \n",
        "def say_goodbye(name):\n",
        "    print(f'Goodbye, {name}!')\n",
        "\n",
        "\n",
        "def get_greeting(greeting):\n",
        "    if greeting == 'hello':\n",
        "        greeting_fun = say_hello\n",
        "    elif greeting == 'goodbye':\n",
        "        greeting_fun = say_goodbye\n",
        "    \n",
        "    return greeting_fun\n",
        "    \n",
        "    \n",
        "def say_to_bob(greeting):\n",
        "    greeting_fun = get_greeting(greeting)\n",
        "    greeting_fun('Bob')\n",
        "    \n",
        "    \n",
        "say_to_bob('hello')\n",
        "say_to_bob('goodbye')"
      ],
      "execution_count": 3,
      "outputs": [
        {
          "output_type": "stream",
          "text": [
            "Hello, Bob!\n",
            "Goodbye, Bob!\n"
          ],
          "name": "stdout"
        }
      ]
    },
    {
      "cell_type": "code",
      "metadata": {
        "colab": {
          "base_uri": "https://localhost:8080/"
        },
        "id": "HDwPhhxAON-F",
        "outputId": "e96079c9-e801-4e6d-e2aa-1890c28e21a2"
      },
      "source": [
        "def walkout():\n",
        "    print('Bye Felicia')\n",
        "\n",
        "    \n",
        "def debug_transformer(fun):\n",
        "    def wrapper():\n",
        "        print(f'Function `{fun.__name__}` called')\n",
        "        fun()\n",
        "        print(f'Function `{fun.__name__}` finished')\n",
        "        \n",
        "    return wrapper\n",
        "\n",
        "\n",
        "walkout = debug_transformer(walkout)\n",
        "walkout()"
      ],
      "execution_count": 4,
      "outputs": [
        {
          "output_type": "stream",
          "text": [
            "Function `walkout` called\n",
            "Bye Felicia\n",
            "Function `walkout` finished\n"
          ],
          "name": "stdout"
        }
      ]
    },
    {
      "cell_type": "code",
      "metadata": {
        "id": "hlooS16gObT1"
      },
      "source": [
        "walkout = debug_transformer(walkout)"
      ],
      "execution_count": 5,
      "outputs": []
    },
    {
      "cell_type": "code",
      "metadata": {
        "id": "_U2tCVqUOg76"
      },
      "source": [
        "def wrapper():\n",
        "    print(f'Function `{fun.__name__}` called')\n",
        "    fun() # Original reference to walkout()\n",
        "    print(f'Function `{fun.__name__}` finished')"
      ],
      "execution_count": 6,
      "outputs": []
    },
    {
      "cell_type": "code",
      "metadata": {
        "colab": {
          "base_uri": "https://localhost:8080/"
        },
        "id": "ZIrn-aSWOi4L",
        "outputId": "06213d61-6c1b-4937-817a-948145d29ec2"
      },
      "source": [
        "def debug_transformer(fun):\n",
        "    def wrapper():\n",
        "        print(f'Function `{fun.__name__}` called')\n",
        "        fun()\n",
        "        print(f'Function `{fun.__name__}` finished')\n",
        "        \n",
        "    return wrapper\n",
        "\n",
        "\n",
        "@debug_transformer\n",
        "def walkout():\n",
        "    print('Bye Felicia')\n",
        "\n",
        "walkout()"
      ],
      "execution_count": 7,
      "outputs": [
        {
          "output_type": "stream",
          "text": [
            "Function `walkout` called\n",
            "Bye Felicia\n",
            "Function `walkout` finished\n"
          ],
          "name": "stdout"
        }
      ]
    },
    {
      "cell_type": "code",
      "metadata": {
        "id": "9sDKPjnIOl8e"
      },
      "source": [
        "# Before\n",
        "walkout = debug_transformer(walkout)\n",
        "\n",
        "# After\n",
        "@debug_transformer\n",
        "def walkout():\n",
        "    print('Bye Felicia')"
      ],
      "execution_count": 8,
      "outputs": []
    },
    {
      "cell_type": "code",
      "metadata": {
        "colab": {
          "base_uri": "https://localhost:8080/"
        },
        "id": "-wJC8BdnOuii",
        "outputId": "dbe72714-c67c-4a6d-9ee3-fc4374662b1d"
      },
      "source": [
        "def debug_transformer(fun):\n",
        "    def wrapper():\n",
        "        print(f'Function `{fun.__name__}` called')\n",
        "        fun()\n",
        "        print(f'Function `{fun.__name__}` finished')\n",
        "        \n",
        "    return wrapper\n",
        "\n",
        "\n",
        "@debug_transformer\n",
        "def walkout():\n",
        "    print('Bye Felicia')\n",
        "\n",
        "    \n",
        "@debug_transformer\n",
        "def get_bob():\n",
        "    return 'Bob'\n",
        "\n",
        "bob = get_bob()\n",
        "print(bob)"
      ],
      "execution_count": 17,
      "outputs": [
        {
          "output_type": "stream",
          "text": [
            "Function `get_bob` called\n",
            "Function `get_bob` finished\n",
            "None\n"
          ],
          "name": "stdout"
        }
      ]
    },
    {
      "cell_type": "code",
      "metadata": {
        "id": "YQfmALnIO5BT"
      },
      "source": [
        "def debug_transformer(fun):\n",
        "    def wrapper():\n",
        "        print(f'Function `{fun.__name__}` called')\n",
        "        res = fun() # get reference to original return value\n",
        "        print(f'Function `{fun.__name__}` finished')\n",
        "        \n",
        "        return res\n",
        "        \n",
        "    return wrapper"
      ],
      "execution_count": 10,
      "outputs": []
    },
    {
      "cell_type": "code",
      "metadata": {
        "colab": {
          "base_uri": "https://localhost:8080/"
        },
        "id": "wDO1sxviPVm0",
        "outputId": "0a2160e0-9d5b-48a5-90b1-ff82b1f117e0"
      },
      "source": [
        "bob = get_bob()\n",
        "print(bob)"
      ],
      "execution_count": 11,
      "outputs": [
        {
          "output_type": "stream",
          "text": [
            "Function `get_bob` called\n",
            "Function `get_bob` finished\n",
            "None\n"
          ],
          "name": "stdout"
        }
      ]
    },
    {
      "cell_type": "code",
      "metadata": {
        "colab": {
          "base_uri": "https://localhost:8080/",
          "height": 232
        },
        "id": "ecE4VZcnPX_P",
        "outputId": "47dccf93-fb9c-425e-ce30-02063cdaa201"
      },
      "source": [
        "@debug_transformer\n",
        "def walkout(name):\n",
        "    print(f'Bye {name}')\n",
        "\n",
        "\n",
        "walkout('Felicia')"
      ],
      "execution_count": 12,
      "outputs": [
        {
          "output_type": "error",
          "ename": "TypeError",
          "evalue": "ignored",
          "traceback": [
            "\u001b[0;31m---------------------------------------------------------------------------\u001b[0m",
            "\u001b[0;31mTypeError\u001b[0m                                 Traceback (most recent call last)",
            "\u001b[0;32m<ipython-input-12-28fda18c38e9>\u001b[0m in \u001b[0;36m<module>\u001b[0;34m()\u001b[0m\n\u001b[1;32m      4\u001b[0m \u001b[0;34m\u001b[0m\u001b[0m\n\u001b[1;32m      5\u001b[0m \u001b[0;34m\u001b[0m\u001b[0m\n\u001b[0;32m----> 6\u001b[0;31m \u001b[0mwalkout\u001b[0m\u001b[0;34m(\u001b[0m\u001b[0;34m'Felicia'\u001b[0m\u001b[0;34m)\u001b[0m\u001b[0;34m\u001b[0m\u001b[0;34m\u001b[0m\u001b[0m\n\u001b[0m",
            "\u001b[0;31mTypeError\u001b[0m: wrapper() takes 0 positional arguments but 1 was given"
          ]
        }
      ]
    },
    {
      "cell_type": "code",
      "metadata": {
        "id": "Vrv7WYgZPal1"
      },
      "source": [
        "def debug_transformer(fun):\n",
        "    # Allow wrapper to receive arbitrary args\n",
        "    def wrapper(*args):\n",
        "        print(f'Function `{fun.__name__}` called')\n",
        "        # And pass it to the original function\n",
        "        res = fun(*args)\n",
        "        print(f'Function `{fun.__name__}` finished')\n",
        "        return res\n",
        "        \n",
        "    return wrapper\n",
        "\n",
        "\n",
        "@debug_transformer\n",
        "def walkout():\n",
        "    print('Bye Felicia')\n",
        "\n",
        "    \n",
        "@debug_transformer\n",
        "def get_bob():\n",
        "    return 'Bob'"
      ],
      "execution_count": 21,
      "outputs": []
    },
    {
      "cell_type": "code",
      "metadata": {
        "colab": {
          "base_uri": "https://localhost:8080/",
          "height": 334
        },
        "id": "ngifGdX7PeM8",
        "outputId": "2a46d239-8e2f-46c7-da6f-3f177cbd634c"
      },
      "source": [
        "walkout('Dionisia')"
      ],
      "execution_count": 22,
      "outputs": [
        {
          "output_type": "stream",
          "text": [
            "Function `walkout` called\n"
          ],
          "name": "stdout"
        },
        {
          "output_type": "error",
          "ename": "TypeError",
          "evalue": "ignored",
          "traceback": [
            "\u001b[0;31m---------------------------------------------------------------------------\u001b[0m",
            "\u001b[0;31mTypeError\u001b[0m                                 Traceback (most recent call last)",
            "\u001b[0;32m<ipython-input-22-59838051c25e>\u001b[0m in \u001b[0;36m<module>\u001b[0;34m()\u001b[0m\n\u001b[0;32m----> 1\u001b[0;31m \u001b[0mwalkout\u001b[0m\u001b[0;34m(\u001b[0m\u001b[0;34m'Dionisia'\u001b[0m\u001b[0;34m)\u001b[0m\u001b[0;34m\u001b[0m\u001b[0;34m\u001b[0m\u001b[0m\n\u001b[0m",
            "\u001b[0;32m<ipython-input-21-c0878b682f4c>\u001b[0m in \u001b[0;36mwrapper\u001b[0;34m(*args)\u001b[0m\n\u001b[1;32m      4\u001b[0m         \u001b[0mprint\u001b[0m\u001b[0;34m(\u001b[0m\u001b[0;34mf'Function `{fun.__name__}` called'\u001b[0m\u001b[0;34m)\u001b[0m\u001b[0;34m\u001b[0m\u001b[0;34m\u001b[0m\u001b[0m\n\u001b[1;32m      5\u001b[0m         \u001b[0;31m# And pass it to the original function\u001b[0m\u001b[0;34m\u001b[0m\u001b[0;34m\u001b[0m\u001b[0;34m\u001b[0m\u001b[0m\n\u001b[0;32m----> 6\u001b[0;31m         \u001b[0mres\u001b[0m \u001b[0;34m=\u001b[0m \u001b[0mfun\u001b[0m\u001b[0;34m(\u001b[0m\u001b[0;34m*\u001b[0m\u001b[0margs\u001b[0m\u001b[0;34m)\u001b[0m\u001b[0;34m\u001b[0m\u001b[0;34m\u001b[0m\u001b[0m\n\u001b[0m\u001b[1;32m      7\u001b[0m         \u001b[0mprint\u001b[0m\u001b[0;34m(\u001b[0m\u001b[0;34mf'Function `{fun.__name__}` finished'\u001b[0m\u001b[0;34m)\u001b[0m\u001b[0;34m\u001b[0m\u001b[0;34m\u001b[0m\u001b[0m\n\u001b[1;32m      8\u001b[0m         \u001b[0;32mreturn\u001b[0m \u001b[0mres\u001b[0m\u001b[0;34m\u001b[0m\u001b[0;34m\u001b[0m\u001b[0m\n",
            "\u001b[0;31mTypeError\u001b[0m: walkout() takes 0 positional arguments but 1 was given"
          ]
        }
      ]
    },
    {
      "cell_type": "code",
      "metadata": {
        "colab": {
          "base_uri": "https://localhost:8080/"
        },
        "id": "7uRhBTq8PhkE",
        "outputId": "300112a6-b1a8-48c1-fd3b-2895700c0508"
      },
      "source": [
        "def call_three_times(fun):\n",
        "    def wrapper(*args, **kwargs):\n",
        "        fun(*args, **kwargs)\n",
        "        fun(*args, **kwargs)\n",
        "        res = fun(*args, **kwargs)\n",
        "        \n",
        "        return res\n",
        "    \n",
        "    return wrapper\n",
        "\n",
        "\n",
        "@call_three_times\n",
        "def say_hey():\n",
        "    print('Hey!')\n",
        "\n",
        "\n",
        "say_hey()"
      ],
      "execution_count": 23,
      "outputs": [
        {
          "output_type": "stream",
          "text": [
            "Hey!\n",
            "Hey!\n",
            "Hey!\n"
          ],
          "name": "stdout"
        }
      ]
    },
    {
      "cell_type": "code",
      "metadata": {
        "colab": {
          "base_uri": "https://localhost:8080/"
        },
        "id": "gJIOO6WLP1nM",
        "outputId": "119de8e6-7ddb-4910-ae53-033fd38c7e33"
      },
      "source": [
        "import time\n",
        "\n",
        "def time_it(fun):\n",
        "    def wrapper(*args, **kwargs):\n",
        "        start = time.time()\n",
        "        res = fun(*args, **kwargs)\n",
        "        end = time.time()\n",
        "        print(f'Function took {end-start}s')\n",
        "        \n",
        "        return res\n",
        "    \n",
        "    return wrapper\n",
        "\n",
        "\n",
        "@time_it\n",
        "def waste_time():\n",
        "    for i in range(10000000):\n",
        "        pass\n",
        "\n",
        "    \n",
        "waste_time()"
      ],
      "execution_count": 24,
      "outputs": [
        {
          "output_type": "stream",
          "text": [
            "Function took 0.22329020500183105s\n"
          ],
          "name": "stdout"
        }
      ]
    },
    {
      "cell_type": "code",
      "metadata": {
        "colab": {
          "base_uri": "https://localhost:8080/"
        },
        "id": "1UTJu2BsP5mI",
        "outputId": "fcfc0345-464a-441e-f14f-b16238b631e1"
      },
      "source": [
        "import numpy as np\n",
        "\n",
        "rng = np.random.RandomState(0)\n",
        "\n",
        "# Create a lot of numbers\n",
        "nums = rng.random(10000000)\n",
        "# Decorate np.sort with our time_it transformer\n",
        "timed_sort = time_it(np.sort)\n",
        "# Perform the sort with our time_it functionality\n",
        "timed_sort(nums)"
      ],
      "execution_count": 25,
      "outputs": [
        {
          "output_type": "stream",
          "text": [
            "Function took 1.2351024150848389s\n"
          ],
          "name": "stdout"
        },
        {
          "output_type": "execute_result",
          "data": {
            "text/plain": [
              "array([2.51678389e-08, 1.63714365e-07, 1.89048978e-07, ...,\n",
              "       9.99999814e-01, 9.99999837e-01, 9.99999863e-01])"
            ]
          },
          "metadata": {
            "tags": []
          },
          "execution_count": 25
        }
      ]
    }
  ]
}