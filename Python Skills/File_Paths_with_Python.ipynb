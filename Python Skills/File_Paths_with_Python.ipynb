{
  "nbformat": 4,
  "nbformat_minor": 0,
  "metadata": {
    "colab": {
      "name": "File Paths with Python.ipynb",
      "provenance": [],
      "authorship_tag": "ABX9TyORSThL6jZnGOj3dvpLKHUx"
    },
    "kernelspec": {
      "name": "python3",
      "display_name": "Python 3"
    }
  },
  "cells": [
    {
      "cell_type": "markdown",
      "metadata": {
        "id": "6lgzbVjyc0Nb"
      },
      "source": [
        "[Reference](https://medium.com/python-in-plain-english/manipulating-file-paths-with-python-72a76952b832)"
      ]
    },
    {
      "cell_type": "code",
      "metadata": {
        "id": "jmN95mF0cwBO"
      },
      "source": [
        "from pathlib import Path\n",
        "import os\n",
        "path = Path('foo', 'bar', 'foo.txt')"
      ],
      "execution_count": 20,
      "outputs": []
    },
    {
      "cell_type": "code",
      "metadata": {
        "id": "jV76kP3cdBMW",
        "outputId": "4f9f5da6-804f-4fa8-8e65-e96222b935b3",
        "colab": {
          "base_uri": "https://localhost:8080/",
          "height": 34
        }
      },
      "source": [
        "path"
      ],
      "execution_count": 21,
      "outputs": [
        {
          "output_type": "execute_result",
          "data": {
            "text/plain": [
              "PosixPath('foo/bar/foo.txt')"
            ]
          },
          "metadata": {
            "tags": []
          },
          "execution_count": 21
        }
      ]
    },
    {
      "cell_type": "markdown",
      "metadata": {
        "id": "uVf5B0pedH9E"
      },
      "source": [
        "PosixPath on Linux or macOS and WindowsPath on Windows"
      ]
    },
    {
      "cell_type": "code",
      "metadata": {
        "id": "UFv5XGYwdFaJ",
        "outputId": "55b6523c-bc5d-4a05-edab-3c6b76a01ed5",
        "colab": {
          "base_uri": "https://localhost:8080/",
          "height": 34
        }
      },
      "source": [
        "path = Path('foo')/'bar'/'foo.txt'\n",
        "path"
      ],
      "execution_count": 22,
      "outputs": [
        {
          "output_type": "execute_result",
          "data": {
            "text/plain": [
              "PosixPath('foo/bar/foo.txt')"
            ]
          },
          "metadata": {
            "tags": []
          },
          "execution_count": 22
        }
      ]
    },
    {
      "cell_type": "code",
      "metadata": {
        "id": "xaQgwwYidgOR",
        "outputId": "a35ac713-f983-4bc0-9858-d4fa4d604552",
        "colab": {
          "base_uri": "https://localhost:8080/",
          "height": 37
        }
      },
      "source": [
        "path = '/'.join(['foo', 'bar', 'foo.txt'])\n",
        "path"
      ],
      "execution_count": 23,
      "outputs": [
        {
          "output_type": "execute_result",
          "data": {
            "application/vnd.google.colaboratory.intrinsic+json": {
              "type": "string"
            },
            "text/plain": [
              "'foo/bar/foo.txt'"
            ]
          },
          "metadata": {
            "tags": []
          },
          "execution_count": 23
        }
      ]
    },
    {
      "cell_type": "code",
      "metadata": {
        "id": "FDTauCfEdoXv",
        "outputId": "1609723a-bc65-485f-9f0d-2ad67029a9ac",
        "colab": {
          "base_uri": "https://localhost:8080/",
          "height": 34
        }
      },
      "source": [
        "print(Path.cwd())"
      ],
      "execution_count": 24,
      "outputs": [
        {
          "output_type": "stream",
          "text": [
            "/content\n"
          ],
          "name": "stdout"
        }
      ]
    },
    {
      "cell_type": "code",
      "metadata": {
        "id": "Yz_3x2oNdxH0"
      },
      "source": [
        "# os.chdir(Path('foo')/'bar')\n",
        "# print(Path.cwd())"
      ],
      "execution_count": 25,
      "outputs": []
    },
    {
      "cell_type": "code",
      "metadata": {
        "id": "a_XT1GRMdzVG",
        "outputId": "30bea732-c813-4375-b2ab-72fae155b372",
        "colab": {
          "base_uri": "https://localhost:8080/",
          "height": 34
        }
      },
      "source": [
        "path = Path.home()\n",
        "path"
      ],
      "execution_count": 26,
      "outputs": [
        {
          "output_type": "execute_result",
          "data": {
            "text/plain": [
              "PosixPath('/root')"
            ]
          },
          "metadata": {
            "tags": []
          },
          "execution_count": 26
        }
      ]
    },
    {
      "cell_type": "code",
      "metadata": {
        "id": "iaHER3zmd05i"
      },
      "source": [
        "# Path(Path.cwd()/'foo').mkdir()"
      ],
      "execution_count": 27,
      "outputs": []
    },
    {
      "cell_type": "markdown",
      "metadata": {
        "id": "eC0uEUxKeP60"
      },
      "source": [
        "# Absolute and Relative Paths"
      ]
    },
    {
      "cell_type": "code",
      "metadata": {
        "id": "R-4Y9yzsd_IA"
      },
      "source": [
        "is_absolute = Path.cwd().is_absolute()"
      ],
      "execution_count": 28,
      "outputs": []
    },
    {
      "cell_type": "code",
      "metadata": {
        "id": "75krl9lYeOkx",
        "outputId": "b709825c-c217-4595-ee06-93277b3da7f3",
        "colab": {
          "base_uri": "https://localhost:8080/",
          "height": 34
        }
      },
      "source": [
        "is_absolute"
      ],
      "execution_count": 29,
      "outputs": [
        {
          "output_type": "execute_result",
          "data": {
            "text/plain": [
              "True"
            ]
          },
          "metadata": {
            "tags": []
          },
          "execution_count": 29
        }
      ]
    },
    {
      "cell_type": "code",
      "metadata": {
        "id": "5VsTcZy3eRQv"
      },
      "source": [
        "path = os.path.abspath(Path('./foo'))"
      ],
      "execution_count": 30,
      "outputs": []
    },
    {
      "cell_type": "code",
      "metadata": {
        "id": "924TsQileT83",
        "outputId": "d2d5344f-4229-4f8d-a0e2-ca5b55988715",
        "colab": {
          "base_uri": "https://localhost:8080/",
          "height": 37
        }
      },
      "source": [
        "path"
      ],
      "execution_count": 31,
      "outputs": [
        {
          "output_type": "execute_result",
          "data": {
            "application/vnd.google.colaboratory.intrinsic+json": {
              "type": "string"
            },
            "text/plain": [
              "'/content/foo'"
            ]
          },
          "metadata": {
            "tags": []
          },
          "execution_count": 31
        }
      ]
    },
    {
      "cell_type": "code",
      "metadata": {
        "id": "DdxQoOLueU6c",
        "outputId": "283ce510-276f-4e64-bcef-acd9db1e8e3c",
        "colab": {
          "base_uri": "https://localhost:8080/",
          "height": 37
        }
      },
      "source": [
        "path = os.path.relpath(Path.home(), Path('./foo')/'bar')\n",
        "path"
      ],
      "execution_count": 32,
      "outputs": [
        {
          "output_type": "execute_result",
          "data": {
            "application/vnd.google.colaboratory.intrinsic+json": {
              "type": "string"
            },
            "text/plain": [
              "'../../../root'"
            ]
          },
          "metadata": {
            "tags": []
          },
          "execution_count": 32
        }
      ]
    }
  ]
}