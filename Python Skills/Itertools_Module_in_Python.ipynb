{
  "nbformat": 4,
  "nbformat_minor": 0,
  "metadata": {
    "colab": {
      "name": "Itertools Module in Python.ipynb",
      "provenance": [],
      "authorship_tag": "ABX9TyOj509+FKtGD2pBEXLYBsuJ"
    },
    "kernelspec": {
      "name": "python3",
      "display_name": "Python 3"
    }
  },
  "cells": [
    {
      "cell_type": "markdown",
      "metadata": {
        "id": "qVCfMatw7w8F"
      },
      "source": [
        "[Reference](https://medium.com/analytics-vidhya/mastering-the-itertools-module-in-python-d4ec2b0abf05)"
      ]
    },
    {
      "cell_type": "markdown",
      "metadata": {
        "id": "IDJnHLGA72Lo"
      },
      "source": [
        "# Infinite iterators"
      ]
    },
    {
      "cell_type": "markdown",
      "metadata": {
        "id": "iGtptG_F8NJ6"
      },
      "source": [
        "## 1. count(start=0, step=1)"
      ]
    },
    {
      "cell_type": "code",
      "metadata": {
        "colab": {
          "base_uri": "https://localhost:8080/"
        },
        "id": "Ihh8aUse7u5g",
        "outputId": "c60800fb-feea-4f3d-81f0-d5cee075f147"
      },
      "source": [
        "from itertools import count\n",
        "\n",
        "for i in count(0,2):\n",
        "    print(i, end=\" \")\n",
        "    if i == 20:\n",
        "        break"
      ],
      "execution_count": 2,
      "outputs": [
        {
          "output_type": "stream",
          "text": [
            "0 2 4 6 8 10 12 14 16 18 20 "
          ],
          "name": "stdout"
        }
      ]
    },
    {
      "cell_type": "code",
      "metadata": {
        "colab": {
          "base_uri": "https://localhost:8080/"
        },
        "id": "0S-HIvf47-ta",
        "outputId": "5318e831-991f-4c4a-c0a0-d35e4bf15070"
      },
      "source": [
        "count_floating_negative = count(start=0.5, step=-0.5)\n",
        "print(list(next(count_floating_negative) for _ in range(10)))"
      ],
      "execution_count": 3,
      "outputs": [
        {
          "output_type": "stream",
          "text": [
            "[0.5, 0.0, -0.5, -1.0, -1.5, -2.0, -2.5, -3.0, -3.5, -4.0]\n"
          ],
          "name": "stdout"
        }
      ]
    },
    {
      "cell_type": "markdown",
      "metadata": {
        "id": "REjY1MDu8P2P"
      },
      "source": [
        "## 2. cycle(iterable)"
      ]
    },
    {
      "cell_type": "code",
      "metadata": {
        "colab": {
          "base_uri": "https://localhost:8080/"
        },
        "id": "4Ki_Tn3K8LhZ",
        "outputId": "48bf00f6-5956-4a96-f24d-0277e9350e07"
      },
      "source": [
        "from itertools import cycle\n",
        "\n",
        "count = 0\n",
        "for i in cycle('ABC'):\n",
        "    print(i, end = ' ')\n",
        "    count += 1\n",
        "    if count == 6:\n",
        "        break"
      ],
      "execution_count": 4,
      "outputs": [
        {
          "output_type": "stream",
          "text": [
            "A B C A B C "
          ],
          "name": "stdout"
        }
      ]
    },
    {
      "cell_type": "markdown",
      "metadata": {
        "id": "4A-lsHuz84et"
      },
      "source": [
        "## 3. repeat"
      ]
    },
    {
      "cell_type": "code",
      "metadata": {
        "colab": {
          "base_uri": "https://localhost:8080/"
        },
        "id": "Hs_rH1wg8u76",
        "outputId": "2fc08acc-d3ba-4dbd-b655-f1fe75d5800e"
      },
      "source": [
        "from itertools import repeat\n",
        "for i in repeat(1,5):\n",
        "    print(i, end = ' ')"
      ],
      "execution_count": 10,
      "outputs": [
        {
          "output_type": "stream",
          "text": [
            "1 1 1 1 1 "
          ],
          "name": "stdout"
        }
      ]
    },
    {
      "cell_type": "code",
      "metadata": {
        "colab": {
          "base_uri": "https://localhost:8080/"
        },
        "id": "bAYq9sda88QU",
        "outputId": "e0a50cbc-8cff-4659-8598-80a80e1dd6dc"
      },
      "source": [
        "print(list(map(pow, range(10), repeat(2))))"
      ],
      "execution_count": 12,
      "outputs": [
        {
          "output_type": "stream",
          "text": [
            "[0, 1, 4, 9, 16, 25, 36, 49, 64, 81]\n"
          ],
          "name": "stdout"
        }
      ]
    },
    {
      "cell_type": "markdown",
      "metadata": {
        "id": "bHofxl1k9Tbx"
      },
      "source": [
        "# Terminating iterators"
      ]
    },
    {
      "cell_type": "markdown",
      "metadata": {
        "id": "rnFvowEQ9lqw"
      },
      "source": [
        "## 1. accumulate(iterable[, func, *, initial=None])"
      ]
    },
    {
      "cell_type": "code",
      "metadata": {
        "colab": {
          "base_uri": "https://localhost:8080/"
        },
        "id": "rG9ew0ej9LoA",
        "outputId": "3c05b50f-4289-47d6-8bf3-da2d0cb42eaa"
      },
      "source": [
        "from itertools import accumulate\n",
        "from operator import mul\n",
        "\n",
        "iterable = [1, 2, 3, 4, 5, 6, 7, 8, 9, 10]\n",
        "\n",
        "print(list(accumulate(iterable)))"
      ],
      "execution_count": 14,
      "outputs": [
        {
          "output_type": "stream",
          "text": [
            "[1, 3, 6, 10, 15, 21, 28, 36, 45, 55]\n"
          ],
          "name": "stdout"
        }
      ]
    },
    {
      "cell_type": "code",
      "metadata": {
        "colab": {
          "base_uri": "https://localhost:8080/"
        },
        "id": "280wPh4y9hXU",
        "outputId": "9e1aa43a-2d33-42ba-9590-611eb9580b06"
      },
      "source": [
        "print(list(accumulate(iterable, mul)))"
      ],
      "execution_count": 15,
      "outputs": [
        {
          "output_type": "stream",
          "text": [
            "[1, 2, 6, 24, 120, 720, 5040, 40320, 362880, 3628800]\n"
          ],
          "name": "stdout"
        }
      ]
    },
    {
      "cell_type": "code",
      "metadata": {
        "colab": {
          "base_uri": "https://localhost:8080/"
        },
        "id": "Lrc-890B9ipx",
        "outputId": "71b1a9ef-315f-4929-f02b-f5a4fbccf30f"
      },
      "source": [
        "from itertools import accumulate\n",
        "\n",
        "data = [-1, 2, 5, 7, -20, 9, 12, 9, 16, 4]\n",
        "\n",
        "print(list(accumulate(data, min)))"
      ],
      "execution_count": 16,
      "outputs": [
        {
          "output_type": "stream",
          "text": [
            "[-1, -1, -1, -1, -20, -20, -20, -20, -20, -20]\n"
          ],
          "name": "stdout"
        }
      ]
    },
    {
      "cell_type": "code",
      "metadata": {
        "colab": {
          "base_uri": "https://localhost:8080/"
        },
        "id": "inHDXUgP9p14",
        "outputId": "1c86e4ca-a8fc-4dcd-a6ba-df09022df9d6"
      },
      "source": [
        "print(list(accumulate(data, max)))"
      ],
      "execution_count": 17,
      "outputs": [
        {
          "output_type": "stream",
          "text": [
            "[-1, 2, 5, 7, 7, 9, 12, 12, 16, 16]\n"
          ],
          "name": "stdout"
        }
      ]
    },
    {
      "cell_type": "code",
      "metadata": {
        "colab": {
          "base_uri": "https://localhost:8080/"
        },
        "id": "cGtC53309q6P",
        "outputId": "1db7c5a5-dea3-4dcd-c6bd-869a4847cad1"
      },
      "source": [
        "my_func = lambda a,b: (a + b) * 2\n",
        "\n",
        "print(list(accumulate(data, my_func)))"
      ],
      "execution_count": 18,
      "outputs": [
        {
          "output_type": "stream",
          "text": [
            "[-1, 2, 14, 42, 44, 106, 236, 490, 1012, 2032]\n"
          ],
          "name": "stdout"
        }
      ]
    },
    {
      "cell_type": "markdown",
      "metadata": {
        "id": "yEOgcv-69u1E"
      },
      "source": [
        "## 2. chain(*iterables)"
      ]
    },
    {
      "cell_type": "code",
      "metadata": {
        "colab": {
          "base_uri": "https://localhost:8080/"
        },
        "id": "dSLJc5Gd9sor",
        "outputId": "1052c32f-7355-4890-c3d4-516523697023"
      },
      "source": [
        "from itertools import chain\n",
        "\n",
        "for i in chain([0,1,2,3], range(4,11), 'ABC'):\n",
        "    print(i, end = ' ')"
      ],
      "execution_count": 19,
      "outputs": [
        {
          "output_type": "stream",
          "text": [
            "0 1 2 3 4 5 6 7 8 9 10 A B C "
          ],
          "name": "stdout"
        }
      ]
    },
    {
      "cell_type": "code",
      "metadata": {
        "colab": {
          "base_uri": "https://localhost:8080/"
        },
        "id": "RXPLAjPL92HF",
        "outputId": "e1baa4e7-a833-456a-c8a0-1ffd2316afe0"
      },
      "source": [
        "my_iterable = [[0,1,2],[3,4],[5,6,7,8,9,10],['ABC']]\n",
        "for i in chain.from_iterable(my_iterable):\n",
        "    print(i, end = ' ')"
      ],
      "execution_count": 20,
      "outputs": [
        {
          "output_type": "stream",
          "text": [
            "0 1 2 3 4 5 6 7 8 9 10 ABC "
          ],
          "name": "stdout"
        }
      ]
    },
    {
      "cell_type": "markdown",
      "metadata": {
        "id": "va7IBcky-mDg"
      },
      "source": [
        "## 3. compress(data, selectors)"
      ]
    },
    {
      "cell_type": "code",
      "metadata": {
        "colab": {
          "base_uri": "https://localhost:8080/"
        },
        "id": "ToDZRVa493NI",
        "outputId": "6a943112-e2bf-4fd2-d487-7a8333973a73"
      },
      "source": [
        "from itertools import chain\n",
        "\n",
        "for i in chain([0,1,2,3], range(4,11), 'ABC'):\n",
        "    print(i, end = ' ')"
      ],
      "execution_count": 21,
      "outputs": [
        {
          "output_type": "stream",
          "text": [
            "0 1 2 3 4 5 6 7 8 9 10 A B C "
          ],
          "name": "stdout"
        }
      ]
    },
    {
      "cell_type": "code",
      "metadata": {
        "colab": {
          "base_uri": "https://localhost:8080/"
        },
        "id": "07yhBlUw-pbD",
        "outputId": "78f05eca-bfd1-4958-ad4b-aef2880637f4"
      },
      "source": [
        "my_iterable = [[0,1,2],[3,4],[5,6,7,8,9,10],['ABC']]\n",
        "for i in chain.from_iterable(my_iterable):\n",
        "    print(i, end = ' ')"
      ],
      "execution_count": 22,
      "outputs": [
        {
          "output_type": "stream",
          "text": [
            "0 1 2 3 4 5 6 7 8 9 10 ABC "
          ],
          "name": "stdout"
        }
      ]
    },
    {
      "cell_type": "markdown",
      "metadata": {
        "id": "zlQbYhIK-u-B"
      },
      "source": [
        "# 4. dropwhile(predicate, iterable)"
      ]
    },
    {
      "cell_type": "code",
      "metadata": {
        "colab": {
          "base_uri": "https://localhost:8080/"
        },
        "id": "aJd6c0QT-sUV",
        "outputId": "7afb9336-1981-493b-adb9-6d5b2cec7b0c"
      },
      "source": [
        "from itertools import dropwhile\n",
        "\n",
        "iterable = [1, 3, 5, 7, 2, 4, 6, 9, 11]\n",
        "predicate = lambda x: x%2==1\n",
        "\n",
        "for i in dropwhile(predicate, iterable):\n",
        "    print(i, end = ' ')"
      ],
      "execution_count": 23,
      "outputs": [
        {
          "output_type": "stream",
          "text": [
            "2 4 6 9 11 "
          ],
          "name": "stdout"
        }
      ]
    },
    {
      "cell_type": "markdown",
      "metadata": {
        "id": "rStBvn0s-2yS"
      },
      "source": [
        "## 5. filterfalse(predicate, iterable)"
      ]
    },
    {
      "cell_type": "code",
      "metadata": {
        "colab": {
          "base_uri": "https://localhost:8080/"
        },
        "id": "PrgCzCQU-zgq",
        "outputId": "eff46351-2ec7-4f99-93ae-beea1029c6a8"
      },
      "source": [
        "from itertools import filterfalse\n",
        "\n",
        "iterable = [1, 3, 5, 7, 2, 4, 6, 9, 11]\n",
        "predicate = lambda x: x%2==0\n",
        "\n",
        "for i in filterfalse(predicate, iterable):\n",
        "    print(i, end = ' ')"
      ],
      "execution_count": 24,
      "outputs": [
        {
          "output_type": "stream",
          "text": [
            "1 3 5 7 9 11 "
          ],
          "name": "stdout"
        }
      ]
    },
    {
      "cell_type": "markdown",
      "metadata": {
        "id": "Z5Yc0dkI-7sj"
      },
      "source": [
        "## 6. groupby(iterable, key=None)"
      ]
    },
    {
      "cell_type": "code",
      "metadata": {
        "colab": {
          "base_uri": "https://localhost:8080/"
        },
        "id": "VPFfqvVv-44J",
        "outputId": "a380f30f-9b4d-4ed5-c85f-c6f271bc9abc"
      },
      "source": [
        "from itertools import groupby\n",
        "\n",
        "a_list = [(\"Even\", 2), \n",
        "\t\t(\"Odd\", 5), \n",
        "\t\t(\"Even\", 8), \n",
        "\t\t(\"Odd\", 3)]\n",
        " \n",
        "iterator = groupby(a_list, key = lambda x:x[0]) \n",
        "\n",
        "for key, group in iterator: \n",
        "\tkey_and_group = {key : list(group)} \n",
        "\tprint(key_and_group) "
      ],
      "execution_count": 25,
      "outputs": [
        {
          "output_type": "stream",
          "text": [
            "{'Even': [('Even', 2)]}\n",
            "{'Odd': [('Odd', 5)]}\n",
            "{'Even': [('Even', 8)]}\n",
            "{'Odd': [('Odd', 3)]}\n"
          ],
          "name": "stdout"
        }
      ]
    },
    {
      "cell_type": "markdown",
      "metadata": {
        "id": "MNObWvBk_AHK"
      },
      "source": [
        "# 7. islice(iterable, start, stop[, step])"
      ]
    },
    {
      "cell_type": "code",
      "metadata": {
        "colab": {
          "base_uri": "https://localhost:8080/"
        },
        "id": "ek0PEJfM--uI",
        "outputId": "d68f4a9b-7b7d-4370-f0a7-d3c17ce3bd01"
      },
      "source": [
        "from itertools import islice\n",
        "\n",
        "l = [1, 2, 3, 4, 5, 6, 7, 8, 9, 10]\n",
        "\n",
        "for i in islice(l, 1, 9, 1):\n",
        "    print(i, end =' ')"
      ],
      "execution_count": 26,
      "outputs": [
        {
          "output_type": "stream",
          "text": [
            "2 3 4 5 6 7 8 9 "
          ],
          "name": "stdout"
        }
      ]
    },
    {
      "cell_type": "markdown",
      "metadata": {
        "id": "51Au1uRo_QM_"
      },
      "source": [
        "## 8. starmap(function, iterable)"
      ]
    },
    {
      "cell_type": "code",
      "metadata": {
        "colab": {
          "base_uri": "https://localhost:8080/"
        },
        "id": "UKyS2987_DSe",
        "outputId": "eeb0612e-3890-4f24-b28b-5047cff2452e"
      },
      "source": [
        "from itertools import starmap\n",
        "from operator import add, mul\n",
        "iterable = [(1,3), (2,4), (3,0), (5,6)]\n",
        "\n",
        "for i in starmap(add, iterable):\n",
        "    print(i, end = ' ')"
      ],
      "execution_count": 27,
      "outputs": [
        {
          "output_type": "stream",
          "text": [
            "4 6 3 11 "
          ],
          "name": "stdout"
        }
      ]
    },
    {
      "cell_type": "code",
      "metadata": {
        "colab": {
          "base_uri": "https://localhost:8080/"
        },
        "id": "Bdv5btxx_Wu2",
        "outputId": "e813fa31-00da-4261-f539-5f434c42f54f"
      },
      "source": [
        "for i in starmap(mul, iterable):\n",
        "    print(i, end = ' ')"
      ],
      "execution_count": 28,
      "outputs": [
        {
          "output_type": "stream",
          "text": [
            "3 8 0 30 "
          ],
          "name": "stdout"
        }
      ]
    },
    {
      "cell_type": "code",
      "metadata": {
        "colab": {
          "base_uri": "https://localhost:8080/"
        },
        "id": "h0NqNF7F_ZmZ",
        "outputId": "322ad7e8-bdb3-4e82-c687-7c28ceb4d00b"
      },
      "source": [
        "for i in starmap(min, iterable):\n",
        "    print(i, end = ' ')"
      ],
      "execution_count": 29,
      "outputs": [
        {
          "output_type": "stream",
          "text": [
            "1 2 0 5 "
          ],
          "name": "stdout"
        }
      ]
    },
    {
      "cell_type": "markdown",
      "metadata": {
        "id": "5Sf9FKun_9fJ"
      },
      "source": [
        "# 9. takewhile(predicate, iterable)"
      ]
    },
    {
      "cell_type": "code",
      "metadata": {
        "colab": {
          "base_uri": "https://localhost:8080/"
        },
        "id": "1pYmkgKW_ZxH",
        "outputId": "d7286b3d-0522-4eb8-86fd-34059a362d47"
      },
      "source": [
        "from itertools import takewhile\n",
        "\n",
        "iterable = [1, 3, 5, 7, 2, 4, 6, 9, 11]\n",
        "predicate = lambda x: x%2==1\n",
        "\n",
        "for i in takewhile(predicate, iterable):\n",
        "    print(i, end = ' ')"
      ],
      "execution_count": 30,
      "outputs": [
        {
          "output_type": "stream",
          "text": [
            "1 3 5 7 "
          ],
          "name": "stdout"
        }
      ]
    },
    {
      "cell_type": "markdown",
      "metadata": {
        "id": "UvY0827lAL08"
      },
      "source": [
        "## 10. tee(iterable, n=2)"
      ]
    },
    {
      "cell_type": "code",
      "metadata": {
        "colab": {
          "base_uri": "https://localhost:8080/"
        },
        "id": "-813evLmAAh1",
        "outputId": "f43bd307-5b69-4641-ebef-b8d21e4bcf2f"
      },
      "source": [
        "from itertools import tee\n",
        "\n",
        "iterable = [1, 2, 4, 6, 7, 13]\n",
        "for i in tee(iterable, 4):\n",
        "    print(list(i))"
      ],
      "execution_count": 31,
      "outputs": [
        {
          "output_type": "stream",
          "text": [
            "[1, 2, 4, 6, 7, 13]\n",
            "[1, 2, 4, 6, 7, 13]\n",
            "[1, 2, 4, 6, 7, 13]\n",
            "[1, 2, 4, 6, 7, 13]\n"
          ],
          "name": "stdout"
        }
      ]
    },
    {
      "cell_type": "markdown",
      "metadata": {
        "id": "l4pRGrydAPmj"
      },
      "source": [
        "# 11. zip_longest(*iterables, fillvalue=None)"
      ]
    },
    {
      "cell_type": "code",
      "metadata": {
        "colab": {
          "base_uri": "https://localhost:8080/"
        },
        "id": "QLNVFoxKAN5J",
        "outputId": "34ee8641-f5a9-47aa-a271-80b76c16c1e2"
      },
      "source": [
        "from itertools import zip_longest\n",
        "\n",
        "iter1 = [1, 2, 3, 4, 5, 6]\n",
        "iter2 = [1, 4, 9, 16, 25]\n",
        "iter3 = [1, 8, 27, 64, 125]\n",
        "\n",
        "for i in zip_longest(iter1, iter2, iter3, fillvalue = 0):\n",
        "    print(i)"
      ],
      "execution_count": 32,
      "outputs": [
        {
          "output_type": "stream",
          "text": [
            "(1, 1, 1)\n",
            "(2, 4, 8)\n",
            "(3, 9, 27)\n",
            "(4, 16, 64)\n",
            "(5, 25, 125)\n",
            "(6, 0, 0)\n"
          ],
          "name": "stdout"
        }
      ]
    }
  ]
}