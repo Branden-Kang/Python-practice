{
  "nbformat": 4,
  "nbformat_minor": 0,
  "metadata": {
    "colab": {
      "provenance": [],
      "authorship_tag": "ABX9TyNb/DO4rV8kwqKvsihdWfE+"
    },
    "kernelspec": {
      "name": "python3",
      "display_name": "Python 3"
    },
    "language_info": {
      "name": "python"
    }
  },
  "cells": [
    {
      "cell_type": "markdown",
      "source": [
        "[Reference](https://medium.com/@mr.stucknet/chainmap-in-python-f8ae920b0cfd)"
      ],
      "metadata": {
        "id": "RgR3qxgfgn3i"
      }
    },
    {
      "cell_type": "code",
      "execution_count": 1,
      "metadata": {
        "colab": {
          "base_uri": "https://localhost:8080/"
        },
        "id": "KslNHuQLgmLG",
        "outputId": "ac063743-fab5-470b-c83b-4bdf6d9d55c9"
      },
      "outputs": [
        {
          "output_type": "execute_result",
          "data": {
            "text/plain": [
              "{'host': 'mrstucknet.com', 'port': 4567}"
            ]
          },
          "metadata": {},
          "execution_count": 1
        }
      ],
      "source": [
        "from collections import ChainMap\n",
        "default_connection = {'host': 'localhost', 'port': 4567}\n",
        "connection = {'port': 5678}\n",
        "conn = ChainMap(connection, default_connection)\n",
        "conn['port']\n",
        "conn['host']\n",
        "conn.maps\n",
        "conn['host'] = 'mrstucknet.com'\n",
        "conn.maps\n",
        "del conn['port']\n",
        "conn.maps\n",
        "conn['port']\n",
        "dict(conn)"
      ]
    }
  ]
}
