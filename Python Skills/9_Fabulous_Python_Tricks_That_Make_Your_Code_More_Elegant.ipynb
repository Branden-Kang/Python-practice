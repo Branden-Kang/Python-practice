{
  "nbformat": 4,
  "nbformat_minor": 0,
  "metadata": {
    "colab": {
      "provenance": [],
      "authorship_tag": "ABX9TyMrAVy7hsUJJRUShv4P+kU7"
    },
    "kernelspec": {
      "name": "python3",
      "display_name": "Python 3"
    },
    "language_info": {
      "name": "python"
    }
  },
  "cells": [
    {
      "cell_type": "markdown",
      "source": [
        "[Reference](https://medium.com/techtofreedom/9-fabulous-python-tricks-that-make-your-code-more-elegant-bf01a6294908)"
      ],
      "metadata": {
        "id": "-xSPSwtPEuxU"
      }
    },
    {
      "cell_type": "markdown",
      "source": [
        "# 1. Avoid Nested Python Loops Using product() Function"
      ],
      "metadata": {
        "id": "IOs0VVwNEzII"
      }
    },
    {
      "cell_type": "code",
      "execution_count": 1,
      "metadata": {
        "colab": {
          "base_uri": "https://localhost:8080/"
        },
        "id": "g7b0b2NuEtgk",
        "outputId": "fe3bde9b-f766-414b-e43e-4f405c9f3102"
      },
      "outputs": [
        {
          "output_type": "stream",
          "name": "stdout",
          "text": [
            "70 2000 7\n"
          ]
        }
      ],
      "source": [
        "list_a = [1, 2020, 70]\n",
        "list_b = [2, 4, 7, 2000]\n",
        "list_c = [3, 70, 7]\n",
        "\n",
        "for a in list_a:\n",
        "    for b in list_b:\n",
        "        for c in list_c:\n",
        "            if a + b + c == 2077:\n",
        "                print(a, b, c)"
      ]
    },
    {
      "cell_type": "code",
      "source": [
        "from itertools import product\n",
        "\n",
        "list_a = [1, 2020, 70]\n",
        "list_b = [2, 4, 7, 2000]\n",
        "list_c = [3, 70, 7]\n",
        "\n",
        "for a, b, c in product(list_a, list_b, list_c):\n",
        "    if a + b + c == 2077:\n",
        "        print(a, b, c)"
      ],
      "metadata": {
        "colab": {
          "base_uri": "https://localhost:8080/"
        },
        "id": "92wCOkViE0dR",
        "outputId": "fd2200e5-0cb2-453f-895d-dfcbd0a43ad9"
      },
      "execution_count": 2,
      "outputs": [
        {
          "output_type": "stream",
          "name": "stdout",
          "text": [
            "70 2000 7\n"
          ]
        }
      ]
    },
    {
      "cell_type": "markdown",
      "source": [
        "# 2. Walrus Operator: A Cute Trick for Assignment Expressions"
      ],
      "metadata": {
        "id": "e0IuZSJhE4v4"
      }
    },
    {
      "cell_type": "code",
      "source": [
        "author = \"Kang\"\n",
        "print(author)"
      ],
      "metadata": {
        "colab": {
          "base_uri": "https://localhost:8080/"
        },
        "id": "lzdp1jmIE2_t",
        "outputId": "77bddde9-1777-4e2a-dc13-6d58d47ce43a"
      },
      "execution_count": 3,
      "outputs": [
        {
          "output_type": "stream",
          "name": "stdout",
          "text": [
            "Kang\n"
          ]
        }
      ]
    },
    {
      "cell_type": "code",
      "source": [
        "print(author=\"Kang\")"
      ],
      "metadata": {
        "colab": {
          "base_uri": "https://localhost:8080/",
          "height": 164
        },
        "id": "uPmBkDvJE7TB",
        "outputId": "451fb229-2e11-45ea-ba97-f4405fd9e5b2"
      },
      "execution_count": 4,
      "outputs": [
        {
          "output_type": "error",
          "ename": "TypeError",
          "evalue": "ignored",
          "traceback": [
            "\u001b[0;31m---------------------------------------------------------------------------\u001b[0m",
            "\u001b[0;31mTypeError\u001b[0m                                 Traceback (most recent call last)",
            "\u001b[0;32m<ipython-input-4-902336bd5100>\u001b[0m in \u001b[0;36m<module>\u001b[0;34m\u001b[0m\n\u001b[0;32m----> 1\u001b[0;31m \u001b[0mprint\u001b[0m\u001b[0;34m(\u001b[0m\u001b[0mauthor\u001b[0m\u001b[0;34m=\u001b[0m\u001b[0;34m\"Kang\"\u001b[0m\u001b[0;34m)\u001b[0m\u001b[0;34m\u001b[0m\u001b[0;34m\u001b[0m\u001b[0m\n\u001b[0m",
            "\u001b[0;31mTypeError\u001b[0m: 'author' is an invalid keyword argument for print()"
          ]
        }
      ]
    },
    {
      "cell_type": "code",
      "source": [
        "print(author:=\"Kang\")"
      ],
      "metadata": {
        "colab": {
          "base_uri": "https://localhost:8080/"
        },
        "id": "9m8eHwBJE8Vn",
        "outputId": "33c48e89-671e-4cdc-ea80-16c1d8b2c43c"
      },
      "execution_count": 5,
      "outputs": [
        {
          "output_type": "stream",
          "name": "stdout",
          "text": [
            "Kang\n"
          ]
        }
      ]
    },
    {
      "cell_type": "markdown",
      "source": [
        "# 3. Ternary Conditional Operator: Writing a Simple If-Else Structure in One Line"
      ],
      "metadata": {
        "id": "EexagL43FAYy"
      }
    },
    {
      "cell_type": "code",
      "source": [
        "min = a if a < b else b"
      ],
      "metadata": {
        "id": "BH-IdUkpE-yD"
      },
      "execution_count": 6,
      "outputs": []
    },
    {
      "cell_type": "code",
      "source": [
        "if a<b:\n",
        "  min = a\n",
        "else:\n",
        "  min = b"
      ],
      "metadata": {
        "id": "EnguBB2XFCzE"
      },
      "execution_count": 7,
      "outputs": []
    },
    {
      "cell_type": "markdown",
      "source": [
        "# 4. Using Lambda Functions To Define Simple Functions"
      ],
      "metadata": {
        "id": "h72gIBcZFERs"
      }
    },
    {
      "cell_type": "code",
      "source": [
        "def fib(x):\n",
        "    if x<=1:\n",
        "        return x\n",
        "    else:\n",
        "        return fib(x-1) + fib(x-2)"
      ],
      "metadata": {
        "id": "-FXlpra7FDBB"
      },
      "execution_count": 8,
      "outputs": []
    },
    {
      "cell_type": "code",
      "source": [
        "fib = lambda x: x if x <= 1 else fib(x - 1) + fib(x - 2)"
      ],
      "metadata": {
        "id": "qiBO9K-DFFUo"
      },
      "execution_count": 9,
      "outputs": []
    },
    {
      "cell_type": "markdown",
      "source": [
        "# 5. List Comprehensions: Get a List in a Pythonic Way"
      ],
      "metadata": {
        "id": "WeY9jDr9FG-h"
      }
    },
    {
      "cell_type": "code",
      "source": [
        "Genius = [\"Jerry\", \"Jack\", \"tom\", \"yang\"]\n",
        "L1 = [name if name.startswith('y') else 'Not Genius' for name in Genius]\n",
        "print(L1)"
      ],
      "metadata": {
        "colab": {
          "base_uri": "https://localhost:8080/"
        },
        "id": "MLjs-cz5FGNv",
        "outputId": "30a0879c-c41f-462c-f905-c780e7572291"
      },
      "execution_count": 10,
      "outputs": [
        {
          "output_type": "stream",
          "name": "stdout",
          "text": [
            "['Not Genius', 'Not Genius', 'Not Genius', 'yang']\n"
          ]
        }
      ]
    },
    {
      "cell_type": "markdown",
      "source": [
        "# 6. Leveraging the Higher-Order Functions in Python"
      ],
      "metadata": {
        "id": "nsAL7j0MFJZw"
      }
    },
    {
      "cell_type": "code",
      "source": [
        "names = ['yAnG', 'MASk', 'thoMas', 'LISA']\n",
        "names = map(str.capitalize, names)\n",
        "print(list(names))"
      ],
      "metadata": {
        "colab": {
          "base_uri": "https://localhost:8080/"
        },
        "id": "O_tU49bZFIdR",
        "outputId": "fc69486c-cc7d-442e-8ef2-d04e7f706252"
      },
      "execution_count": 12,
      "outputs": [
        {
          "output_type": "stream",
          "name": "stdout",
          "text": [
            "['Yang', 'Mask', 'Thomas', 'Lisa']\n"
          ]
        }
      ]
    },
    {
      "cell_type": "code",
      "source": [
        "from functools import reduce\n",
        "\n",
        "city = ['L', 'o', 'n', 'd', 'o', 'n', 2, 0, 2, 0]\n",
        "city_to_str = reduce(lambda x, y: str(x) + str(y), city)\n",
        "print(city_to_str)"
      ],
      "metadata": {
        "colab": {
          "base_uri": "https://localhost:8080/"
        },
        "id": "6AtH12d0FLQW",
        "outputId": "09011653-91f7-46c1-efbe-9b29f0c0e03d"
      },
      "execution_count": 13,
      "outputs": [
        {
          "output_type": "stream",
          "name": "stdout",
          "text": [
            "London2020\n"
          ]
        }
      ]
    },
    {
      "cell_type": "markdown",
      "source": [
        "# 7. Union Operators: The Easiest Way To Merge Dictionaries"
      ],
      "metadata": {
        "id": "xeSFaIb6FPTq"
      }
    },
    {
      "cell_type": "code",
      "source": [
        "cities_us = {'New York City': 'US', 'Los Angeles': 'US'}\n",
        "cities_uk = {'London': 'UK', 'Birmingham': 'UK'}\n",
        "\n",
        "cities = cities_us or cities_uk\n",
        "print(cities)"
      ],
      "metadata": {
        "colab": {
          "base_uri": "https://localhost:8080/"
        },
        "id": "cUkN6AnyFOOe",
        "outputId": "77c258af-968f-44f7-83b1-bd417af12879"
      },
      "execution_count": 18,
      "outputs": [
        {
          "output_type": "stream",
          "name": "stdout",
          "text": [
            "{'New York City': 'US', 'Los Angeles': 'US'}\n"
          ]
        }
      ]
    },
    {
      "cell_type": "code",
      "source": [
        "# cities_us = {'New York City': 'US', 'Los Angeles': 'US'}\n",
        "# cities_uk = {'London': 'UK', 'Birmingham': 'UK'}\n",
        "\n",
        "# cities_us |= cities_uk\n",
        "# print(cities_us)"
      ],
      "metadata": {
        "id": "8TSvpjdTFQrf"
      },
      "execution_count": 21,
      "outputs": []
    },
    {
      "cell_type": "markdown",
      "source": [
        "# 8. F-Strings: The Pythonic String Formatting Technique"
      ],
      "metadata": {
        "id": "LKPBnJpmFfDV"
      }
    },
    {
      "cell_type": "code",
      "source": [
        "pi = 3.1415926\n",
        "print(f'Pi is approximately equal to {pi:.2f}')\n",
        "# Pi is approximately equal to 3.14\n",
        "\n",
        "id = 1  # need to print a 3-digit number\n",
        "print(f\"The id is {id:03d}\")\n",
        "# The id is 001\n",
        "\n",
        "N = 1000000000  # need to add separator\n",
        "print(f'His networth is ${N:,d}')"
      ],
      "metadata": {
        "colab": {
          "base_uri": "https://localhost:8080/"
        },
        "id": "4qo14OfCFSVI",
        "outputId": "273613d0-3ec6-486c-9945-c9a8a9dc03d0"
      },
      "execution_count": 22,
      "outputs": [
        {
          "output_type": "stream",
          "name": "stdout",
          "text": [
            "Pi is approximately equal to 3.14\n",
            "The id is 001\n",
            "His networth is $1,000,000,000\n"
          ]
        }
      ]
    },
    {
      "cell_type": "code",
      "source": [
        "from datetime import datetime\n",
        "\n",
        "print(f\"Today is {datetime.today()}\")"
      ],
      "metadata": {
        "colab": {
          "base_uri": "https://localhost:8080/"
        },
        "id": "HWqNXPziFgV6",
        "outputId": "4737d3f0-0a61-4c0b-eac6-fc7fcfbdcc5c"
      },
      "execution_count": 23,
      "outputs": [
        {
          "output_type": "stream",
          "name": "stdout",
          "text": [
            "Today is 2022-12-07 10:16:25.474486\n"
          ]
        }
      ]
    },
    {
      "cell_type": "markdown",
      "source": [
        "# 9. Using Asterisks for Unpacking Iterables and Destructuring Assignments"
      ],
      "metadata": {
        "id": "sCVxAQbKFjLW"
      }
    },
    {
      "cell_type": "code",
      "source": [
        "A = [1, 2, 3]\n",
        "B = (4, 5, 6)\n",
        "C = {7, 8, 9}\n",
        "L = [*A, *B, *C]\n",
        "print(L)"
      ],
      "metadata": {
        "colab": {
          "base_uri": "https://localhost:8080/"
        },
        "id": "fwyKBMoXFiUE",
        "outputId": "f602f2a7-7926-4ee1-85cf-1b0c35271656"
      },
      "execution_count": 24,
      "outputs": [
        {
          "output_type": "stream",
          "name": "stdout",
          "text": [
            "[1, 2, 3, 4, 5, 6, 8, 9, 7]\n"
          ]
        }
      ]
    },
    {
      "cell_type": "code",
      "source": [
        "a, *mid, b = [1, 2, 3, 4, 5, 6]\n",
        "print(a, mid, b)"
      ],
      "metadata": {
        "colab": {
          "base_uri": "https://localhost:8080/"
        },
        "id": "5ZgtAzmcFkhr",
        "outputId": "3f99e487-e2a3-4958-d999-08d08041b4b6"
      },
      "execution_count": 25,
      "outputs": [
        {
          "output_type": "stream",
          "name": "stdout",
          "text": [
            "1 [2, 3, 4, 5] 6\n"
          ]
        }
      ]
    }
  ]
}
