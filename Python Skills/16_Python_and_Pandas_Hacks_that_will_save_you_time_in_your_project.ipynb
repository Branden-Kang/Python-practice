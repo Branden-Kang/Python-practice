{
  "nbformat": 4,
  "nbformat_minor": 0,
  "metadata": {
    "colab": {
      "name": "16 Python and Pandas Hacks that will save you time in your project.ipynb",
      "provenance": [],
      "authorship_tag": "ABX9TyMvuJTe71JZGKb30aXK9b5y"
    },
    "kernelspec": {
      "name": "python3",
      "display_name": "Python 3"
    },
    "language_info": {
      "name": "python"
    }
  },
  "cells": [
    {
      "cell_type": "markdown",
      "source": [
        "[Reference](https://medium.com/geekculture/16-python-and-pandas-hacks-that-will-save-you-time-in-your-project-292da3df0931)"
      ],
      "metadata": {
        "id": "NYepEI9A7Pro"
      }
    },
    {
      "cell_type": "markdown",
      "source": [
        "# 1. Check memory usage of your objects"
      ],
      "metadata": {
        "id": "9FjurwTO7SSv"
      }
    },
    {
      "cell_type": "code",
      "execution_count": 1,
      "metadata": {
        "colab": {
          "base_uri": "https://localhost:8080/"
        },
        "id": "zdOViduq4VxC",
        "outputId": "e41b6c94-900c-4b84-dc70-c940f3b012f9"
      },
      "outputs": [
        {
          "output_type": "stream",
          "name": "stdout",
          "text": [
            "48\n"
          ]
        }
      ],
      "source": [
        "import sys\n",
        "lst = range(0, 500)\n",
        "print(sys.getsizeof(lst))"
      ]
    },
    {
      "cell_type": "markdown",
      "source": [
        "# 2. Converting string to byte"
      ],
      "metadata": {
        "id": "tI7E8eoT7VUh"
      }
    },
    {
      "cell_type": "code",
      "source": [
        "s = \"I want to convert this string to byte\"\n",
        "\n",
        "s.encode( )\n",
        "\n",
        "# b'I want to convert this string to byte'"
      ],
      "metadata": {
        "colab": {
          "base_uri": "https://localhost:8080/"
        },
        "id": "I8IZTleI7UHu",
        "outputId": "3613318b-2b24-49cf-e1b5-0120a12f5721"
      },
      "execution_count": 2,
      "outputs": [
        {
          "output_type": "execute_result",
          "data": {
            "text/plain": [
              "b'I want to convert this string to byte'"
            ]
          },
          "metadata": {},
          "execution_count": 2
        }
      ]
    },
    {
      "cell_type": "markdown",
      "source": [
        "# 3. Merge two list objects"
      ],
      "metadata": {
        "id": "FwNq1n-S7ZCj"
      }
    },
    {
      "cell_type": "code",
      "source": [
        "a = [1,2,3]\n",
        "b = [10,20,30]\n",
        "a.extend(b)\n",
        "# [1,2,3,10,20,30]"
      ],
      "metadata": {
        "id": "2ZELRXsD7YTK"
      },
      "execution_count": 4,
      "outputs": []
    },
    {
      "cell_type": "markdown",
      "source": [
        "# 4. Retrieve longest and shortest string in a list"
      ],
      "metadata": {
        "id": "gdaFm70d7bym"
      }
    },
    {
      "cell_type": "code",
      "source": [
        "word_list = [\"I\", \"am\", \"handsome\"]\n",
        "max(word_list, key=len)\n",
        "# 'handsome'\n",
        "min(word_list,key=len)\n",
        "# 'I'"
      ],
      "metadata": {
        "colab": {
          "base_uri": "https://localhost:8080/",
          "height": 37
        },
        "id": "b908185l7abC",
        "outputId": "b084d5b4-8bb7-4b4b-c569-a8ed60b057eb"
      },
      "execution_count": 5,
      "outputs": [
        {
          "output_type": "execute_result",
          "data": {
            "text/plain": [
              "'I'"
            ],
            "application/vnd.google.colaboratory.intrinsic+json": {
              "type": "string"
            }
          },
          "metadata": {},
          "execution_count": 5
        }
      ]
    },
    {
      "cell_type": "markdown",
      "source": [
        "# 5. Count the number of occurrences of a character in a string"
      ],
      "metadata": {
        "id": "NQJEi_du7kR7"
      }
    },
    {
      "cell_type": "code",
      "source": [
        "\"please fine the occurrence of a in this sentence\".count('a')\n",
        "# 2"
      ],
      "metadata": {
        "colab": {
          "base_uri": "https://localhost:8080/"
        },
        "id": "GaCOEMc_7iKE",
        "outputId": "9b34baaf-ec27-4cc9-af5d-73efc2a853cf"
      },
      "execution_count": 6,
      "outputs": [
        {
          "output_type": "execute_result",
          "data": {
            "text/plain": [
              "2"
            ]
          },
          "metadata": {},
          "execution_count": 6
        }
      ]
    },
    {
      "cell_type": "markdown",
      "source": [
        "# 6. Unpack unequal number of values into variables"
      ],
      "metadata": {
        "id": "SbYd49lY7pG3"
      }
    },
    {
      "cell_type": "code",
      "source": [
        "x, y, *z = ['a','b','c','d','e','f','g']\n",
        "x \n",
        "# 'a'\n",
        "y\n",
        "# 'b'\n",
        "z\n",
        "# 'c','d','e','f','g'"
      ],
      "metadata": {
        "colab": {
          "base_uri": "https://localhost:8080/"
        },
        "id": "YDCa9FH37oGp",
        "outputId": "d5217c6a-e3ba-43e5-c197-18538941ffdd"
      },
      "execution_count": 8,
      "outputs": [
        {
          "output_type": "execute_result",
          "data": {
            "text/plain": [
              "['c', 'd', 'e', 'f', 'g']"
            ]
          },
          "metadata": {},
          "execution_count": 8
        }
      ]
    },
    {
      "cell_type": "markdown",
      "source": [
        "# 7. Flatten a list"
      ],
      "metadata": {
        "id": "cF3jwsZG7vn6"
      }
    },
    {
      "cell_type": "code",
      "source": [
        "lst = [[1,2], [3,4], [5,6]]\n",
        "flattened_lst = [i for j in lst for i in j ]\n",
        "flattened_lst"
      ],
      "metadata": {
        "colab": {
          "base_uri": "https://localhost:8080/"
        },
        "id": "e9CIQxrn7rKL",
        "outputId": "fff9170d-e20e-425e-b54b-55a712e82016"
      },
      "execution_count": 13,
      "outputs": [
        {
          "output_type": "execute_result",
          "data": {
            "text/plain": [
              "[1, 2, 3, 4, 5, 6]"
            ]
          },
          "metadata": {},
          "execution_count": 13
        }
      ]
    },
    {
      "cell_type": "markdown",
      "source": [
        "# 8. Print all combinations in a list"
      ],
      "metadata": {
        "id": "r9yCy4Ew8FuJ"
      }
    },
    {
      "cell_type": "code",
      "source": [
        "from itertools import combinations, combinations_with_replacement\n",
        "lst= [1,2,3]\n",
        "list(combinations(lst,2))\n",
        "# [[(1,2,), (1,3), (2,3)]\n",
        "list(combinations_with_replacement(lst,2))\n",
        "# [[(1,1),(1,2),(1,3),(2,2),(2,3),(3,3)]\n",
        "list(combinations(lst,3))\n",
        "#[(1,2,3)]"
      ],
      "metadata": {
        "colab": {
          "base_uri": "https://localhost:8080/"
        },
        "id": "CvngzkjL7yl7",
        "outputId": "8ad0ab34-8ab1-4324-d53a-6cf1b2302826"
      },
      "execution_count": 14,
      "outputs": [
        {
          "output_type": "execute_result",
          "data": {
            "text/plain": [
              "[(1, 2, 3)]"
            ]
          },
          "metadata": {},
          "execution_count": 14
        }
      ]
    },
    {
      "cell_type": "markdown",
      "source": [
        "# 9. Thousands Separator"
      ],
      "metadata": {
        "id": "9LMG0w368NMv"
      }
    },
    {
      "cell_type": "code",
      "source": [
        "N = 5384200\n",
        "comma_separated_N = f'{N: , 1}'\n",
        "comma_separated_N\n",
        "#5,384,200"
      ],
      "metadata": {
        "id": "ZlzZd1pw8MJG"
      },
      "execution_count": 29,
      "outputs": []
    },
    {
      "cell_type": "markdown",
      "source": [
        "# 10. Sum or Multiply all elements of a list"
      ],
      "metadata": {
        "id": "MXJ_3l57X3-T"
      }
    },
    {
      "cell_type": "code",
      "source": [
        "from numpy import prod\n",
        "from functools import reduce\n",
        "\n",
        "lst = [1,2,3,4]\n",
        "p1 = prod(lst) #24\n",
        "p2 = reduce((lambda x, y: x * y), lst)  #24\n",
        "s = sum(lst) #10"
      ],
      "metadata": {
        "id": "GZwVI-2j8Qvi"
      },
      "execution_count": 18,
      "outputs": []
    },
    {
      "cell_type": "markdown",
      "source": [
        "# 11. Get quotient and remainder"
      ],
      "metadata": {
        "id": "LNnsoHPOYAn2"
      }
    },
    {
      "cell_type": "code",
      "source": [
        "q, r= divmod(25,6)\n",
        "# q, r= 4, 1"
      ],
      "metadata": {
        "id": "yfrZeYJoX_fQ"
      },
      "execution_count": 19,
      "outputs": []
    },
    {
      "cell_type": "markdown",
      "source": [
        "# 12. Most frequent element of a list"
      ],
      "metadata": {
        "id": "EX-f4G0qYEDf"
      }
    },
    {
      "cell_type": "code",
      "source": [
        "from collections import Counter\n",
        "\n",
        "lst = [1,2,3,1,1,1,10,20,3,4,5,6]\n",
        "most_freq_e = Counter(lst).most_common()[0][0] \n",
        "#1"
      ],
      "metadata": {
        "id": "dAVwmqtlYCjX"
      },
      "execution_count": 21,
      "outputs": []
    },
    {
      "cell_type": "markdown",
      "source": [
        "# 13. Sort Dictionary based on multiple conditions"
      ],
      "metadata": {
        "id": "w0dyQWUvYY_n"
      }
    },
    {
      "cell_type": "code",
      "source": [
        "d = {\"HA\":5, \"AN\":5, \"AK\":10, \"STATO\":0 , \"HEW\":10}\n",
        "lst = sorted(d.items( ), key = lambda x: (x[1], len(x[0]), x[0])) \n",
        "#### sorts based on value first, then length of key and finally on the key itself (so alphabetically in this case) #####\n",
        "new_d = {k:v for k,v in lst}\n",
        "new_d # {\"STATO\":0, \"AN\":5, \"HA\":5, \"AK\":10, \"HEW\":10}"
      ],
      "metadata": {
        "colab": {
          "base_uri": "https://localhost:8080/"
        },
        "id": "h8YpaKZ-YIFR",
        "outputId": "ed393318-f7d1-44fc-e82a-303997fc6e2a"
      },
      "execution_count": 23,
      "outputs": [
        {
          "output_type": "execute_result",
          "data": {
            "text/plain": [
              "{'AK': 10, 'AN': 5, 'HA': 5, 'HEW': 10, 'STATO': 0}"
            ]
          },
          "metadata": {},
          "execution_count": 23
        }
      ]
    },
    {
      "cell_type": "markdown",
      "source": [
        "# 14. Transpose a matrix"
      ],
      "metadata": {
        "id": "PRjYaD9lYiTc"
      }
    },
    {
      "cell_type": "code",
      "source": [
        "mtrx= [[1,2,3], [3,4,5], [5,6,7]]\n",
        "\n",
        "lst = list(list(x) for x in zip(*mtrx))\n",
        "\n",
        "# lst = [[1,3,5], [2,4,6], [3,6,7]]"
      ],
      "metadata": {
        "id": "7SDh-8vXYhNH"
      },
      "execution_count": 24,
      "outputs": []
    },
    {
      "cell_type": "markdown",
      "source": [
        "# 15. Use Switch Statement for Python 3.10"
      ],
      "metadata": {
        "id": "k9RXcGmdYl2_"
      }
    },
    {
      "cell_type": "code",
      "source": [
        "# def get_mood(day):\n",
        "#     match day:\n",
        "#         case 'Monday':\n",
        "#             return 'Oh…'\n",
        "#         case 'Thursday':\n",
        "#             return 'Getting close!'\n",
        "#         case 'Friday':\n",
        "#             return 'Almost there!'\n",
        "#         case 'Saturday' | 'Sunday':\n",
        "#             return 'Weekend!!!'\n",
        "#         case _:\n",
        "#             return 'Meh…'"
      ],
      "metadata": {
        "id": "apDBCvd1YlCY"
      },
      "execution_count": 26,
      "outputs": []
    },
    {
      "cell_type": "markdown",
      "source": [
        "# 16. Loading multiple pandas dataframes onto each element of list"
      ],
      "metadata": {
        "id": "X9QBF_1BY5TA"
      }
    },
    {
      "cell_type": "code",
      "source": [
        "import glob\n",
        "import pandas as pd\n",
        "\n",
        "files= glob.glob({path})\n",
        "df_list= [pd.read_csv(file) for file in files]"
      ],
      "metadata": {
        "id": "j0byNi-OYps3"
      },
      "execution_count": 28,
      "outputs": []
    }
  ]
}