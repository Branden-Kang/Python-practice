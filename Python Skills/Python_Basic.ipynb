{
  "nbformat": 4,
  "nbformat_minor": 0,
  "metadata": {
    "colab": {
      "name": "Python Basic.ipynb",
      "provenance": [],
      "authorship_tag": "ABX9TyNjDWU2GjSmzSEjmncbb2Rb"
    },
    "kernelspec": {
      "name": "python3",
      "display_name": "Python 3"
    }
  },
  "cells": [
    {
      "cell_type": "code",
      "metadata": {
        "id": "bnuPz01TRFWk",
        "colab_type": "code",
        "colab": {
          "base_uri": "https://localhost:8080/",
          "height": 51
        },
        "outputId": "b2ce589d-8aec-4329-de43-ef8cab532b0b"
      },
      "source": [
        "class MyClass:\n",
        "  var = \"Hi\"\n",
        "  def sayHello(self):\n",
        "    print(self.var)\n",
        "\n",
        "obj = MyClass()\n",
        "print(obj.var)\n",
        "obj.sayHello()"
      ],
      "execution_count": 1,
      "outputs": [
        {
          "output_type": "stream",
          "text": [
            "Hi\n",
            "Hi\n"
          ],
          "name": "stdout"
        }
      ]
    },
    {
      "cell_type": "code",
      "metadata": {
        "id": "wL4eM6INRKMX",
        "colab_type": "code",
        "colab": {
          "base_uri": "https://localhost:8080/",
          "height": 68
        },
        "outputId": "28c8b4e3-ed3c-4094-aa92-c10ca4e08fce"
      },
      "source": [
        "class MyClass:\n",
        "  var = 'Hi'\n",
        "  def sayHello(self):\n",
        "    param1 = 'Hi'\n",
        "    self.param2 = 'Hello'\n",
        "    print(param1)\n",
        "    print(self.var)\n",
        "\n",
        "obj = MyClass()\n",
        "print(obj.var)\n",
        "obj.sayHello()\n",
        "# Obj.param1"
      ],
      "execution_count": 2,
      "outputs": [
        {
          "output_type": "stream",
          "text": [
            "Hi\n",
            "Hi\n",
            "Hi\n"
          ],
          "name": "stdout"
        }
      ]
    },
    {
      "cell_type": "code",
      "metadata": {
        "id": "sQaX7zHpRzSB",
        "colab_type": "code",
        "colab": {
          "base_uri": "https://localhost:8080/",
          "height": 85
        },
        "outputId": "f702fe23-5df9-486e-8a0b-4995a4721602"
      },
      "source": [
        "class MyClass:\n",
        "  def sayHello(self):\n",
        "    print('Hello')\n",
        "\n",
        "  def sayBye(self, name):\n",
        "    print('%s! See you' %name)\n",
        "\n",
        "obj = MyClass()\n",
        "print(obj.sayHello())\n",
        "print(obj.sayBye('David'))"
      ],
      "execution_count": 4,
      "outputs": [
        {
          "output_type": "stream",
          "text": [
            "Hello\n",
            "None\n",
            "David! See you\n",
            "None\n"
          ],
          "name": "stdout"
        }
      ]
    },
    {
      "cell_type": "code",
      "metadata": {
        "id": "lVDY8vZrlGwB",
        "colab_type": "code",
        "colab": {
          "base_uri": "https://localhost:8080/",
          "height": 215
        },
        "outputId": "1fdc893e-c269-4613-92ad-5bc53aa966fd"
      },
      "source": [
        "class MyClass:\n",
        "  def __init__(self, txt):\n",
        "    self.var = txt\n",
        "    print('The received value is <' + self.var + '>.')\n",
        "\n",
        "obj = MyClass('David')\n",
        "print(obj.var())"
      ],
      "execution_count": 8,
      "outputs": [
        {
          "output_type": "stream",
          "text": [
            "The received value is <David>.\n"
          ],
          "name": "stdout"
        },
        {
          "output_type": "error",
          "ename": "TypeError",
          "evalue": "ignored",
          "traceback": [
            "\u001b[0;31m---------------------------------------------------------------------------\u001b[0m",
            "\u001b[0;31mTypeError\u001b[0m                                 Traceback (most recent call last)",
            "\u001b[0;32m<ipython-input-8-93071b4fbb79>\u001b[0m in \u001b[0;36m<module>\u001b[0;34m()\u001b[0m\n\u001b[1;32m      5\u001b[0m \u001b[0;34m\u001b[0m\u001b[0m\n\u001b[1;32m      6\u001b[0m \u001b[0mobj\u001b[0m \u001b[0;34m=\u001b[0m \u001b[0mMyClass\u001b[0m\u001b[0;34m(\u001b[0m\u001b[0;34m'David'\u001b[0m\u001b[0;34m)\u001b[0m\u001b[0;34m\u001b[0m\u001b[0;34m\u001b[0m\u001b[0m\n\u001b[0;32m----> 7\u001b[0;31m \u001b[0mprint\u001b[0m\u001b[0;34m(\u001b[0m\u001b[0mobj\u001b[0m\u001b[0;34m.\u001b[0m\u001b[0mvar\u001b[0m\u001b[0;34m(\u001b[0m\u001b[0;34m)\u001b[0m\u001b[0;34m)\u001b[0m\u001b[0;34m\u001b[0m\u001b[0;34m\u001b[0m\u001b[0m\n\u001b[0m",
            "\u001b[0;31mTypeError\u001b[0m: 'str' object is not callable"
          ]
        }
      ]
    },
    {
      "cell_type": "code",
      "metadata": {
        "id": "RG1-Cn2rlpwb",
        "colab_type": "code",
        "colab": {
          "base_uri": "https://localhost:8080/"
        },
        "outputId": "b222a1fc-11e7-44f4-de05-5d42a122bf9d"
      },
      "source": [
        "class MyClass:\n",
        "  def __del__(self):\n",
        "    print('MyClass instance is deleted!')\n",
        "\n",
        "obj = MyClass()\n",
        "del obj"
      ],
      "execution_count": 9,
      "outputs": [
        {
          "output_type": "stream",
          "text": [
            "MyClass instance is deleted!\n"
          ],
          "name": "stdout"
        }
      ]
    },
    {
      "cell_type": "code",
      "metadata": {
        "id": "aCbgH00-me00",
        "colab_type": "code",
        "colab": {
          "base_uri": "https://localhost:8080/",
          "height": 51
        },
        "outputId": "69c7a4d5-051c-4566-99b0-848679ec234e"
      },
      "source": [
        "class Add:\n",
        "  def add(self,n1, n2):\n",
        "    return n1 + n2\n",
        "\n",
        "class Calculator(Add):\n",
        "  def sub(self, n1, n2):\n",
        "    return n1-n2\n",
        "\n",
        "obj = Calculator()\n",
        "print(obj.add(1,2))\n",
        "print(obj.sub(1,2))"
      ],
      "execution_count": 10,
      "outputs": [
        {
          "output_type": "stream",
          "text": [
            "3\n",
            "-1\n"
          ],
          "name": "stdout"
        }
      ]
    },
    {
      "cell_type": "code",
      "metadata": {
        "id": "yitpiesfm2uT",
        "colab_type": "code",
        "colab": {
          "base_uri": "https://localhost:8080/",
          "height": 51
        },
        "outputId": "8dfd6217-520d-4b6c-a0e8-62b8e042e1d1"
      },
      "source": [
        "class Add:\n",
        "  def add(self,n1, n2):\n",
        "    return n1 + n2\n",
        "\n",
        "class Multiply:\n",
        "  def multiply(self,n1, n2):\n",
        "    return n1 * n2\n",
        "\n",
        "class Calculator(Add, Multiply):\n",
        "  def sub(self, n1, n2):\n",
        "    return n1-n2\n",
        "\n",
        "obj = Calculator()\n",
        "print(obj.add(1,2))\n",
        "print(obj.multiply(1,2))"
      ],
      "execution_count": 11,
      "outputs": [
        {
          "output_type": "stream",
          "text": [
            "3\n",
            "2\n"
          ],
          "name": "stdout"
        }
      ]
    },
    {
      "cell_type": "code",
      "metadata": {
        "id": "HRKdNJu0nJgP",
        "colab_type": "code",
        "colab": {
          "base_uri": "https://localhost:8080/",
          "height": 51
        },
        "outputId": "5ec9073b-c909-4cfd-8401-4143b0c84272"
      },
      "source": [
        "try:\n",
        "  print('Hi')\n",
        "  print(param)\n",
        "except:\n",
        "  print('There is an exception')"
      ],
      "execution_count": 12,
      "outputs": [
        {
          "output_type": "stream",
          "text": [
            "Hi\n",
            "There is an exception\n"
          ],
          "name": "stdout"
        }
      ]
    },
    {
      "cell_type": "code",
      "metadata": {
        "id": "rt9aVuMgnR-8",
        "colab_type": "code",
        "colab": {}
      },
      "source": [
        "try:\n",
        "  print('Hi')\n",
        "  print(param)\n",
        "except:\n",
        "  print('There is an exception')\n",
        "else:\n",
        "  print('There is no error')"
      ],
      "execution_count": null,
      "outputs": []
    },
    {
      "cell_type": "code",
      "metadata": {
        "id": "cm5XAkMHnivJ",
        "colab_type": "code",
        "colab": {
          "base_uri": "https://localhost:8080/",
          "height": 68
        },
        "outputId": "d6257573-5555-476a-dfeb-2675b4ad0651"
      },
      "source": [
        "try:\n",
        "  print('Hi')\n",
        "  print(param)\n",
        "except:\n",
        "  print('There is an exception')\n",
        "finally:\n",
        "  print('Always executed')"
      ],
      "execution_count": 13,
      "outputs": [
        {
          "output_type": "stream",
          "text": [
            "Hi\n",
            "There is an exception\n",
            "Always executed\n"
          ],
          "name": "stdout"
        }
      ]
    },
    {
      "cell_type": "code",
      "metadata": {
        "id": "pwrGtbNTns3G",
        "colab_type": "code",
        "colab": {
          "base_uri": "https://localhost:8080/",
          "height": 34
        },
        "outputId": "87c80154-5d17-459d-fcb8-62efca4fe4d2"
      },
      "source": [
        "try:\n",
        "  print(param)\n",
        "except Exception as e:\n",
        "  print(e)"
      ],
      "execution_count": 15,
      "outputs": [
        {
          "output_type": "stream",
          "text": [
            "name 'param' is not defined\n"
          ],
          "name": "stdout"
        }
      ]
    },
    {
      "cell_type": "code",
      "metadata": {
        "id": "ZvlrVdiWn22w",
        "colab_type": "code",
        "colab": {
          "base_uri": "https://localhost:8080/",
          "height": 357
        },
        "outputId": "c81311bf-8277-434d-facf-79b751ee8639"
      },
      "source": [
        "import time\n",
        "count = 1\n",
        "try:\n",
        "  while True:\n",
        "    print(count)\n",
        "    count += 1\n",
        "    time.sleep(0.5)\n",
        "except KeyboardInterrupt:\n",
        "  print('The program is stopped by the user')"
      ],
      "execution_count": 16,
      "outputs": [
        {
          "output_type": "stream",
          "text": [
            "1\n",
            "2\n",
            "3\n",
            "4\n",
            "5\n",
            "6\n",
            "7\n",
            "8\n",
            "9\n",
            "10\n",
            "11\n",
            "12\n",
            "13\n",
            "14\n",
            "15\n",
            "16\n",
            "17\n",
            "18\n",
            "19\n",
            "The program is stopped by the user\n"
          ],
          "name": "stdout"
        }
      ]
    },
    {
      "cell_type": "code",
      "metadata": {
        "id": "TYLy44i0oEzN",
        "colab_type": "code",
        "colab": {
          "base_uri": "https://localhost:8080/",
          "height": 34
        },
        "outputId": "9968fb93-f3c9-49fc-bb04-9c9c75de003e"
      },
      "source": [
        "txt = 'abcdefghijk'\n",
        "ret = txt[::-1]\n",
        "print(ret)"
      ],
      "execution_count": 17,
      "outputs": [
        {
          "output_type": "stream",
          "text": [
            "kjihgfedcba\n"
          ],
          "name": "stdout"
        }
      ]
    },
    {
      "cell_type": "code",
      "metadata": {
        "id": "URFvLDGvpvV1",
        "colab_type": "code",
        "colab": {
          "base_uri": "https://localhost:8080/",
          "height": 68
        },
        "outputId": "6984d5eb-b6f5-44b4-cb30-bd35e7f36490"
      },
      "source": [
        "txt1 = 'A'\n",
        "txt2 = 'Warcraft Three'\n",
        "txt3 = '3PO'\n",
        "\n",
        "ret1 = txt1.isalpha()\n",
        "ret2 = txt2.isalpha()\n",
        "ret3 = txt3.isalpha()\n",
        "\n",
        "print(ret1)\n",
        "print(ret2)\n",
        "print(ret3)"
      ],
      "execution_count": 18,
      "outputs": [
        {
          "output_type": "stream",
          "text": [
            "True\n",
            "False\n",
            "False\n"
          ],
          "name": "stdout"
        }
      ]
    },
    {
      "cell_type": "code",
      "metadata": {
        "id": "7z86_HVnqKS4",
        "colab_type": "code",
        "colab": {
          "base_uri": "https://localhost:8080/",
          "height": 68
        },
        "outputId": "5255199a-9239-466b-f73b-417112089980"
      },
      "source": [
        "txt1 = '010-1234-5678'\n",
        "txt2 = 'R2D2'\n",
        "txt3 = '1212'\n",
        "\n",
        "ret1 = txt1.isdigit()\n",
        "ret2 = txt2.isdigit()\n",
        "ret3 = txt3.isdigit()\n",
        "\n",
        "print(ret1)\n",
        "print(ret2)\n",
        "print(ret3)"
      ],
      "execution_count": 20,
      "outputs": [
        {
          "output_type": "stream",
          "text": [
            "False\n",
            "False\n",
            "True\n"
          ],
          "name": "stdout"
        }
      ]
    },
    {
      "cell_type": "code",
      "metadata": {
        "id": "6YyKmgWnqVV-",
        "colab_type": "code",
        "colab": {
          "base_uri": "https://localhost:8080/",
          "height": 68
        },
        "outputId": "14a420bd-2b00-4cbc-8d02-8b3f1a7b7e54"
      },
      "source": [
        "txt1 = 'Hello?'\n",
        "txt2 = '1. Title- Topic'\n",
        "txt3 = '3R2D2'\n",
        "\n",
        "ret1 = txt1.isalnum()\n",
        "ret2 = txt2.isalnum()\n",
        "ret3 = txt3.isalnum()\n",
        "\n",
        "print(ret1)\n",
        "print(ret2)\n",
        "print(ret3)"
      ],
      "execution_count": 23,
      "outputs": [
        {
          "output_type": "stream",
          "text": [
            "False\n",
            "False\n",
            "True\n"
          ],
          "name": "stdout"
        }
      ]
    },
    {
      "cell_type": "code",
      "metadata": {
        "id": "jnlG-nwwqkEK",
        "colab_type": "code",
        "colab": {
          "base_uri": "https://localhost:8080/",
          "height": 34
        },
        "outputId": "74f54840-3e81-400e-dcd0-ab054208d7ea"
      },
      "source": [
        "loglist = ['2016/08/26 10:12:11','200','Ok','It will be better']\n",
        "bond = ';'\n",
        "log = bond.join(loglist)\n",
        "print(log)"
      ],
      "execution_count": 25,
      "outputs": [
        {
          "output_type": "stream",
          "text": [
            "2016/08/26 10:12:11;200;Ok;It will be better\n"
          ],
          "name": "stdout"
        }
      ]
    },
    {
      "cell_type": "code",
      "metadata": {
        "id": "8NbyVooWrOYH",
        "colab_type": "code",
        "colab": {
          "base_uri": "https://localhost:8080/",
          "height": 34
        },
        "outputId": "b04eec61-a952-4969-f655-a8b8be0df639"
      },
      "source": [
        "txt = 'My password is 1234'\n",
        "ret1 = txt.replace('1','0')\n",
        "print(ret1)"
      ],
      "execution_count": 26,
      "outputs": [
        {
          "output_type": "stream",
          "text": [
            "My password is 0234\n"
          ],
          "name": "stdout"
        }
      ]
    },
    {
      "cell_type": "code",
      "metadata": {
        "id": "0akNPiq-rYDO",
        "colab_type": "code",
        "colab": {
          "base_uri": "https://localhost:8080/",
          "height": 34
        },
        "outputId": "69e4497c-8674-4a9a-f344-5eea0129213d"
      },
      "source": [
        "range1 = range(10)\n",
        "print(list(range1))"
      ],
      "execution_count": 27,
      "outputs": [
        {
          "output_type": "stream",
          "text": [
            "[0, 1, 2, 3, 4, 5, 6, 7, 8, 9]\n"
          ],
          "name": "stdout"
        }
      ]
    },
    {
      "cell_type": "code",
      "metadata": {
        "id": "G1J9OLxwrjsW",
        "colab_type": "code",
        "colab": {
          "base_uri": "https://localhost:8080/",
          "height": 34
        },
        "outputId": "18f41442-d328-42c3-8d19-e5fb4c58df39"
      },
      "source": [
        "range2 = range(10,20)\n",
        "print(list(range2))"
      ],
      "execution_count": 28,
      "outputs": [
        {
          "output_type": "stream",
          "text": [
            "[10, 11, 12, 13, 14, 15, 16, 17, 18, 19]\n"
          ],
          "name": "stdout"
        }
      ]
    },
    {
      "cell_type": "code",
      "metadata": {
        "id": "d0eGlB6vroxG",
        "colab_type": "code",
        "colab": {
          "base_uri": "https://localhost:8080/",
          "height": 34
        },
        "outputId": "9e0d4e04-0c7c-4194-b78c-c59893ea8fb9"
      },
      "source": [
        "ret = 0\n",
        "for i in range(10):\n",
        "  ret += (i+1)\n",
        "print(ret)"
      ],
      "execution_count": 29,
      "outputs": [
        {
          "output_type": "stream",
          "text": [
            "55\n"
          ],
          "name": "stdout"
        }
      ]
    },
    {
      "cell_type": "code",
      "metadata": {
        "id": "9kCF_cifrvt4",
        "colab_type": "code",
        "colab": {}
      },
      "source": [
        "fruit = ['apple','banana','kiwi','grape']\n",
        "banana = 'banana'\n",
        "pos = fruit.index(banana)"
      ],
      "execution_count": 30,
      "outputs": []
    },
    {
      "cell_type": "code",
      "metadata": {
        "id": "0utsbs17sLmB",
        "colab_type": "code",
        "colab": {
          "base_uri": "https://localhost:8080/",
          "height": 34
        },
        "outputId": "6b9df6a0-71de-411f-eca1-98ba57c378cf"
      },
      "source": [
        "pos"
      ],
      "execution_count": 31,
      "outputs": [
        {
          "output_type": "execute_result",
          "data": {
            "text/plain": [
              "1"
            ]
          },
          "metadata": {
            "tags": []
          },
          "execution_count": 31
        }
      ]
    },
    {
      "cell_type": "code",
      "metadata": {
        "id": "p4_R0FwwsMFQ",
        "colab_type": "code",
        "colab": {
          "base_uri": "https://localhost:8080/",
          "height": 34
        },
        "outputId": "10cc1e1a-e977-4477-b5c1-3058538e0112"
      },
      "source": [
        "fruit[pos] = 'strawberry'\n",
        "print(fruit)"
      ],
      "execution_count": 32,
      "outputs": [
        {
          "output_type": "stream",
          "text": [
            "['apple', 'strawberry', 'kiwi', 'grape']\n"
          ],
          "name": "stdout"
        }
      ]
    },
    {
      "cell_type": "code",
      "metadata": {
        "id": "M7E6eNn6sV4h",
        "colab_type": "code",
        "colab": {
          "base_uri": "https://localhost:8080/",
          "height": 68
        },
        "outputId": "ff85af0b-333c-4a29-8075-8fbc50f9091f"
      },
      "source": [
        "from random import shuffle\n",
        "\n",
        "listdata =list(range(1,11))\n",
        "for i in range(3):\n",
        "  shuffle(listdata)\n",
        "  print(listdata)"
      ],
      "execution_count": 33,
      "outputs": [
        {
          "output_type": "stream",
          "text": [
            "[3, 6, 5, 2, 7, 4, 10, 1, 9, 8]\n",
            "[6, 9, 2, 4, 10, 7, 1, 5, 3, 8]\n",
            "[7, 6, 8, 4, 2, 1, 10, 9, 5, 3]\n"
          ],
          "name": "stdout"
        }
      ]
    },
    {
      "cell_type": "code",
      "metadata": {
        "id": "kK_riMnRssS0",
        "colab_type": "code",
        "colab": {
          "base_uri": "https://localhost:8080/",
          "height": 34
        },
        "outputId": "886f196c-a153-4e5f-e0ec-5faf8b065d4c"
      },
      "source": [
        "fruit = ['apple','banana','kiwi','grape']\n",
        "ret = list(enumerate(fruit))\n",
        "print(ret)"
      ],
      "execution_count": 35,
      "outputs": [
        {
          "output_type": "stream",
          "text": [
            "[(0, 'apple'), (1, 'banana'), (2, 'kiwi'), (3, 'grape')]\n"
          ],
          "name": "stdout"
        }
      ]
    },
    {
      "cell_type": "code",
      "metadata": {
        "id": "NrN4cB0-szW5",
        "colab_type": "code",
        "colab": {
          "base_uri": "https://localhost:8080/",
          "height": 85
        },
        "outputId": "42f120c3-6ad6-41b4-b878-6f73b3ecc0b9"
      },
      "source": [
        "for i, j in enumerate(fruit):\n",
        "  print('Fruit %d: %s' %(i,j))"
      ],
      "execution_count": 36,
      "outputs": [
        {
          "output_type": "stream",
          "text": [
            "Fruit 0: apple\n",
            "Fruit 1: banana\n",
            "Fruit 2: kiwi\n",
            "Fruit 3: grape\n"
          ],
          "name": "stdout"
        }
      ]
    },
    {
      "cell_type": "code",
      "metadata": {
        "id": "vDcNqDAotBpd",
        "colab_type": "code",
        "colab": {
          "base_uri": "https://localhost:8080/",
          "height": 34
        },
        "outputId": "86ff2393-a23b-4295-acf0-ca6cae48dd57"
      },
      "source": [
        "expr1 = '2+3'\n",
        "expr2 = 'round(3.7)'\n",
        "\n",
        "ret1 = eval(expr1)\n",
        "ret2 = eval(expr2)\n",
        "\n",
        "print('<%s> eval:' %expr1, end=\"\")\n",
        "print(ret1)"
      ],
      "execution_count": 38,
      "outputs": [
        {
          "output_type": "stream",
          "text": [
            "<2+3> eval:5\n"
          ],
          "name": "stdout"
        }
      ]
    },
    {
      "cell_type": "code",
      "metadata": {
        "id": "25u7JKFet4Ed",
        "colab_type": "code",
        "colab": {
          "base_uri": "https://localhost:8080/",
          "height": 34
        },
        "outputId": "69f92825-2154-4e64-a892-49f1345ba202"
      },
      "source": [
        "print('<%s> eval:' %expr2, end=\"\")\n",
        "print(ret2)"
      ],
      "execution_count": 39,
      "outputs": [
        {
          "output_type": "stream",
          "text": [
            "<round(3.7)> eval:4\n"
          ],
          "name": "stdout"
        }
      ]
    },
    {
      "cell_type": "code",
      "metadata": {
        "id": "d1L5SOrKuET8",
        "colab_type": "code",
        "colab": {
          "base_uri": "https://localhost:8080/",
          "height": 34
        },
        "outputId": "0a5b4fb3-bbb4-441d-ca13-fd570dbc0d26"
      },
      "source": [
        "add = lambda x, y: x + y\n",
        "ret = add(1, 3)\n",
        "print(ret)"
      ],
      "execution_count": 40,
      "outputs": [
        {
          "output_type": "stream",
          "text": [
            "4\n"
          ],
          "name": "stdout"
        }
      ]
    },
    {
      "cell_type": "code",
      "metadata": {
        "id": "0afwiIuCuKMM",
        "colab_type": "code",
        "colab": {
          "base_uri": "https://localhost:8080/",
          "height": 34
        },
        "outputId": "de27c952-2ff6-48e1-af95-c42b5465a23f"
      },
      "source": [
        "f = lambda x: x*x\n",
        "args = [1,2,3,4,5]\n",
        "ret = map(f, args)\n",
        "print(list(ret))"
      ],
      "execution_count": 41,
      "outputs": [
        {
          "output_type": "stream",
          "text": [
            "[1, 4, 9, 16, 25]\n"
          ],
          "name": "stdout"
        }
      ]
    },
    {
      "cell_type": "code",
      "metadata": {
        "id": "aYn8MZKIuVJP",
        "colab_type": "code",
        "colab": {}
      },
      "source": [
        "url = 'http://news.naver.com/main/read.nhn?mode=LSD&mid=shm&sid1=105&oid=028&aid=0002334601'"
      ],
      "execution_count": 42,
      "outputs": []
    },
    {
      "cell_type": "code",
      "metadata": {
        "id": "deFBaHNSvBti",
        "colab_type": "code",
        "colab": {}
      },
      "source": [
        "tmp = url.split('?')"
      ],
      "execution_count": 43,
      "outputs": []
    },
    {
      "cell_type": "code",
      "metadata": {
        "id": "Csle624TvDxd",
        "colab_type": "code",
        "colab": {
          "base_uri": "https://localhost:8080/",
          "height": 102
        },
        "outputId": "34af091e-9075-4349-87d9-cba089bf34f8"
      },
      "source": [
        "queries = tmp[1].split('&')\n",
        "for query in queries:\n",
        "  print(query)"
      ],
      "execution_count": 45,
      "outputs": [
        {
          "output_type": "stream",
          "text": [
            "mode=LSD\n",
            "mid=shm\n",
            "sid1=105\n",
            "oid=028\n",
            "aid=0002334601\n"
          ],
          "name": "stdout"
        }
      ]
    },
    {
      "cell_type": "code",
      "metadata": {
        "id": "OSuvUdF_vKcY",
        "colab_type": "code",
        "colab": {
          "base_uri": "https://localhost:8080/",
          "height": 1000
        },
        "outputId": "63bd71a5-4fa5-4de1-ce1c-35195d61581d"
      },
      "source": [
        "from urllib.request import urlopen\n",
        "url = 'https://www.python.org'\n",
        "with urlopen(url) as f:\n",
        "  doc = f.read().decode()\n",
        "  print(doc)"
      ],
      "execution_count": 46,
      "outputs": [
        {
          "output_type": "stream",
          "text": [
            "<!doctype html>\n",
            "<!--[if lt IE 7]>   <html class=\"no-js ie6 lt-ie7 lt-ie8 lt-ie9\">   <![endif]-->\n",
            "<!--[if IE 7]>      <html class=\"no-js ie7 lt-ie8 lt-ie9\">          <![endif]-->\n",
            "<!--[if IE 8]>      <html class=\"no-js ie8 lt-ie9\">                 <![endif]-->\n",
            "<!--[if gt IE 8]><!--><html class=\"no-js\" lang=\"en\" dir=\"ltr\">  <!--<![endif]-->\n",
            "\n",
            "<head>\n",
            "    <meta charset=\"utf-8\">\n",
            "    <meta http-equiv=\"X-UA-Compatible\" content=\"IE=edge\">\n",
            "\n",
            "    <link rel=\"prefetch\" href=\"//ajax.googleapis.com/ajax/libs/jquery/1.8.2/jquery.min.js\">\n",
            "\n",
            "    <meta name=\"application-name\" content=\"Python.org\">\n",
            "    <meta name=\"msapplication-tooltip\" content=\"The official home of the Python Programming Language\">\n",
            "    <meta name=\"apple-mobile-web-app-title\" content=\"Python.org\">\n",
            "    <meta name=\"apple-mobile-web-app-capable\" content=\"yes\">\n",
            "    <meta name=\"apple-mobile-web-app-status-bar-style\" content=\"black\">\n",
            "\n",
            "    <meta name=\"viewport\" content=\"width=device-width, initial-scale=1.0\">\n",
            "    <meta name=\"HandheldFriendly\" content=\"True\">\n",
            "    <meta name=\"format-detection\" content=\"telephone=no\">\n",
            "    <meta http-equiv=\"cleartype\" content=\"on\">\n",
            "    <meta http-equiv=\"imagetoolbar\" content=\"false\">\n",
            "\n",
            "    <script src=\"/static/js/libs/modernizr.js\"></script>\n",
            "\n",
            "    <link href=\"/static/stylesheets/style.30afed881237.css\" rel=\"stylesheet\" type=\"text/css\" title=\"default\" />\n",
            "    <link href=\"/static/stylesheets/mq.eef77a5d2257.css\" rel=\"stylesheet\" type=\"text/css\" media=\"not print, braille, embossed, speech, tty\" />\n",
            "    \n",
            "\n",
            "    <!--[if (lte IE 8)&(!IEMobile)]>\n",
            "    <link href=\"/static/stylesheets/no-mq.7946159eb289.css\" rel=\"stylesheet\" type=\"text/css\" media=\"screen\" />\n",
            "    \n",
            "    \n",
            "    <![endif]-->\n",
            "\n",
            "    \n",
            "    <link rel=\"icon\" type=\"image/x-icon\" href=\"/static/favicon.ico\">\n",
            "    <link rel=\"apple-touch-icon-precomposed\" sizes=\"144x144\" href=\"/static/apple-touch-icon-144x144-precomposed.png\">\n",
            "    <link rel=\"apple-touch-icon-precomposed\" sizes=\"114x114\" href=\"/static/apple-touch-icon-114x114-precomposed.png\">\n",
            "    <link rel=\"apple-touch-icon-precomposed\" sizes=\"72x72\" href=\"/static/apple-touch-icon-72x72-precomposed.png\">\n",
            "    <link rel=\"apple-touch-icon-precomposed\" href=\"/static/apple-touch-icon-precomposed.png\">\n",
            "    <link rel=\"apple-touch-icon\" href=\"/static/apple-touch-icon-precomposed.png\">\n",
            "\n",
            "    \n",
            "    <meta name=\"msapplication-TileImage\" content=\"/static/metro-icon-144x144-precomposed.png\"><!-- white shape -->\n",
            "    <meta name=\"msapplication-TileColor\" content=\"#3673a5\"><!-- python blue -->\n",
            "    <meta name=\"msapplication-navbutton-color\" content=\"#3673a5\">\n",
            "\n",
            "    <title>Welcome to Python.org</title>\n",
            "\n",
            "    <meta name=\"description\" content=\"The official home of the Python Programming Language\">\n",
            "    <meta name=\"keywords\" content=\"Python programming language object oriented web free open source software license documentation download community\">\n",
            "\n",
            "    \n",
            "    <meta property=\"og:type\" content=\"website\">\n",
            "    <meta property=\"og:site_name\" content=\"Python.org\">\n",
            "    <meta property=\"og:title\" content=\"Welcome to Python.org\">\n",
            "    <meta property=\"og:description\" content=\"The official home of the Python Programming Language\">\n",
            "    \n",
            "    <meta property=\"og:image\" content=\"https://www.python.org/static/opengraph-icon-200x200.png\">\n",
            "    <meta property=\"og:image:secure_url\" content=\"https://www.python.org/static/opengraph-icon-200x200.png\">\n",
            "    \n",
            "    <meta property=\"og:url\" content=\"https://www.python.org/\">\n",
            "\n",
            "    <link rel=\"author\" href=\"/static/humans.txt\">\n",
            "\n",
            "    <link rel=\"alternate\" type=\"application/rss+xml\" title=\"Python Enhancement Proposals\"\n",
            "          href=\"https://www.python.org/dev/peps/peps.rss/\">\n",
            "    <link rel=\"alternate\" type=\"application/rss+xml\" title=\"Python Job Opportunities\"\n",
            "          href=\"https://www.python.org/jobs/feed/rss/\">\n",
            "    <link rel=\"alternate\" type=\"application/rss+xml\" title=\"Python Software Foundation News\"\n",
            "          href=\"https://feeds.feedburner.com/PythonSoftwareFoundationNews\">\n",
            "    <link rel=\"alternate\" type=\"application/rss+xml\" title=\"Python Insider\"\n",
            "          href=\"https://feeds.feedburner.com/PythonInsider\">\n",
            "\n",
            "    \n",
            "\n",
            "    \n",
            "    <script type=\"application/ld+json\">\n",
            "     {\n",
            "       \"@context\": \"https://schema.org\",\n",
            "       \"@type\": \"WebSite\",\n",
            "       \"url\": \"https://www.python.org/\",\n",
            "       \"potentialAction\": {\n",
            "         \"@type\": \"SearchAction\",\n",
            "         \"target\": \"https://www.python.org/search/?q={search_term_string}\",\n",
            "         \"query-input\": \"required name=search_term_string\"\n",
            "       }\n",
            "     }\n",
            "    </script>\n",
            "\n",
            "    \n",
            "    <script type=\"text/javascript\">\n",
            "    var _gaq = _gaq || [];\n",
            "    _gaq.push(['_setAccount', 'UA-39055973-1']);\n",
            "    _gaq.push(['_trackPageview']);\n",
            "\n",
            "    (function() {\n",
            "        var ga = document.createElement('script'); ga.type = 'text/javascript'; ga.async = true;\n",
            "        ga.src = ('https:' == document.location.protocol ? 'https://ssl' : 'http://www') + '.google-analytics.com/ga.js';\n",
            "        var s = document.getElementsByTagName('script')[0]; s.parentNode.insertBefore(ga, s);\n",
            "    })();\n",
            "    </script>\n",
            "    \n",
            "</head>\n",
            "\n",
            "<body class=\"python home\" id=\"homepage\">\n",
            "\n",
            "    <div id=\"touchnav-wrapper\">\n",
            "\n",
            "        <div id=\"nojs\" class=\"do-not-print\">\n",
            "            <p><strong>Notice:</strong> While Javascript is not essential for this website, your interaction with the content will be limited. Please turn Javascript on for the full experience. </p>\n",
            "        </div>\n",
            "\n",
            "        <!--[if lte IE 8]>\n",
            "        <div id=\"oldie-warning\" class=\"do-not-print\">\n",
            "            <p>\n",
            "                <strong>Notice:</strong> Your browser is <em>ancient</em>. Please\n",
            "                <a href=\"http://browsehappy.com/\">upgrade to a different browser</a> to experience a better web.\n",
            "            </p>\n",
            "        </div>\n",
            "        <![endif]-->\n",
            "\n",
            "        <!-- Sister Site Links -->\n",
            "        <div id=\"top\" class=\"top-bar do-not-print\">\n",
            "\n",
            "            <nav class=\"meta-navigation container\" role=\"navigation\">\n",
            "\n",
            "                \n",
            "                <div class=\"skip-link screen-reader-text\">\n",
            "                    <a href=\"#content\" title=\"Skip to content\">Skip to content</a>\n",
            "                </div>\n",
            "\n",
            "                \n",
            "                <a id=\"close-python-network\" class=\"jump-link\" href=\"#python-network\" aria-hidden=\"true\">\n",
            "                    <span aria-hidden=\"true\" class=\"icon-arrow-down\"><span>&#9660;</span></span> Close\n",
            "                </a>\n",
            "\n",
            "                \n",
            "\n",
            "<ul class=\"menu\" role=\"tree\">\n",
            "    \n",
            "    <li class=\"python-meta current_item selectedcurrent_branch selected\">\n",
            "        <a href=\"/\" title=\"The Python Programming Language\" class=\"current_item selectedcurrent_branch selected\">Python</a>\n",
            "    </li>\n",
            "    \n",
            "    <li class=\"psf-meta \">\n",
            "        <a href=\"/psf-landing/\" title=\"The Python Software Foundation\" >PSF</a>\n",
            "    </li>\n",
            "    \n",
            "    <li class=\"docs-meta \">\n",
            "        <a href=\"https://docs.python.org\" title=\"Python Documentation\" >Docs</a>\n",
            "    </li>\n",
            "    \n",
            "    <li class=\"pypi-meta \">\n",
            "        <a href=\"https://pypi.org/\" title=\"Python Package Index\" >PyPI</a>\n",
            "    </li>\n",
            "    \n",
            "    <li class=\"jobs-meta \">\n",
            "        <a href=\"/jobs/\" title=\"Python Job Board\" >Jobs</a>\n",
            "    </li>\n",
            "    \n",
            "    <li class=\"shop-meta \">\n",
            "        <a href=\"/community-landing/\"  >Community</a>\n",
            "    </li>\n",
            "    \n",
            "</ul>\n",
            "\n",
            "\n",
            "                <a id=\"python-network\" class=\"jump-link\" href=\"#top\" aria-hidden=\"true\">\n",
            "                    <span aria-hidden=\"true\" class=\"icon-arrow-up\"><span>&#9650;</span></span> The Python Network\n",
            "                </a>\n",
            "\n",
            "            </nav>\n",
            "\n",
            "        </div>\n",
            "\n",
            "        <!-- Header elements -->\n",
            "        <header class=\"main-header\" role=\"banner\">\n",
            "            <div class=\"container\">\n",
            "\n",
            "                <h1 class=\"site-headline\">\n",
            "                    <a href=\"/\"><img class=\"python-logo\" src=\"/static/img/python-logo.png\" alt=\"python&trade;\"></a>\n",
            "                </h1>\n",
            "\n",
            "                <div class=\"options-bar-container do-not-print\">\n",
            "                    <a href=\"https://psfmember.org/civicrm/contribute/transact?reset=1&id=2\" class=\"donate-button\">Donate</a>\n",
            "                    <div class=\"options-bar\">\n",
            "                        \n",
            "                        <a id=\"site-map-link\" class=\"jump-to-menu\" href=\"#site-map\"><span class=\"menu-icon\">&equiv;</span> Menu</a><form class=\"search-the-site\" action=\"/search/\" method=\"get\">\n",
            "                            <fieldset title=\"Search Python.org\">\n",
            "\n",
            "                                <span aria-hidden=\"true\" class=\"icon-search\"></span>\n",
            "\n",
            "                                <label class=\"screen-reader-text\" for=\"id-search-field\">Search This Site</label>\n",
            "                                <input id=\"id-search-field\" name=\"q\" type=\"search\" role=\"textbox\" class=\"search-field\" placeholder=\"Search\" value=\"\" tabindex=\"1\">\n",
            "\n",
            "                                <button type=\"submit\" name=\"submit\" id=\"submit\" class=\"search-button\" title=\"Submit this Search\" tabindex=\"3\">\n",
            "                                    GO\n",
            "                                </button>\n",
            "\n",
            "                                \n",
            "                                <!--[if IE]><input type=\"text\" style=\"display: none;\" disabled=\"disabled\" size=\"1\" tabindex=\"4\"><![endif]-->\n",
            "\n",
            "                            </fieldset>\n",
            "                        </form><span class=\"breaker\"></span><div class=\"adjust-font-size\" aria-hidden=\"true\">\n",
            "                            <ul class=\"navigation menu\" aria-label=\"Adjust Text Size on Page\">\n",
            "                                <li class=\"tier-1 last\" aria-haspopup=\"true\">\n",
            "                                    <a href=\"#\" class=\"action-trigger\"><strong><small>A</small> A</strong></a>\n",
            "                                    <ul class=\"subnav menu\">\n",
            "                                        <li class=\"tier-2 element-1\" role=\"treeitem\"><a class=\"text-shrink\" title=\"Make Text Smaller\" href=\"javascript:;\">Smaller</a></li>\n",
            "                                        <li class=\"tier-2 element-2\" role=\"treeitem\"><a class=\"text-grow\" title=\"Make Text Larger\" href=\"javascript:;\">Larger</a></li>\n",
            "                                        <li class=\"tier-2 element-3\" role=\"treeitem\"><a class=\"text-reset\" title=\"Reset any font size changes I have made\" href=\"javascript:;\">Reset</a></li>\n",
            "                                    </ul>\n",
            "                                </li>\n",
            "                            </ul>\n",
            "                        </div><div class=\"winkwink-nudgenudge\">\n",
            "                            <ul class=\"navigation menu\" aria-label=\"Social Media Navigation\">\n",
            "                                <li class=\"tier-1 last\" aria-haspopup=\"true\">\n",
            "                                    <a href=\"#\" class=\"action-trigger\">Socialize</a>\n",
            "                                    <ul class=\"subnav menu\">\n",
            "                                        <li class=\"tier-2 element-1\" role=\"treeitem\"><a href=\"https://www.facebook.com/pythonlang?fref=ts\"><span aria-hidden=\"true\" class=\"icon-facebook\"></span>Facebook</a></li>\n",
            "                                        <li class=\"tier-2 element-2\" role=\"treeitem\"><a href=\"https://twitter.com/ThePSF\"><span aria-hidden=\"true\" class=\"icon-twitter\"></span>Twitter</a></li>\n",
            "                                        <li class=\"tier-2 element-3\" role=\"treeitem\"><a href=\"/community/irc/\"><span aria-hidden=\"true\" class=\"icon-freenode\"></span>Chat on IRC</a></li>\n",
            "                                    </ul>\n",
            "                                </li>\n",
            "                            </ul>\n",
            "                        </div>\n",
            "                        <span data-html-include=\"/authenticated\"></span>\n",
            "                    </div><!-- end options-bar -->\n",
            "                </div>\n",
            "\n",
            "                <nav id=\"mainnav\" class=\"python-navigation main-navigation do-not-print\" role=\"navigation\">\n",
            "                    \n",
            "                        \n",
            "<ul class=\"navigation menu\" role=\"menubar\" aria-label=\"Main Navigation\">\n",
            "  \n",
            "    \n",
            "    \n",
            "    <li id=\"about\" class=\"tier-1 element-1  \" aria-haspopup=\"true\">\n",
            "        <a href=\"/about/\" title=\"\" class=\"\">About</a>\n",
            "        \n",
            "            \n",
            "\n",
            "<ul class=\"subnav menu\" role=\"menu\" aria-hidden=\"true\">\n",
            "    \n",
            "        <li class=\"tier-2 element-1\" role=\"treeitem\"><a href=\"/about/apps/\" title=\"\">Applications</a></li>\n",
            "    \n",
            "        <li class=\"tier-2 element-2\" role=\"treeitem\"><a href=\"/about/quotes/\" title=\"\">Quotes</a></li>\n",
            "    \n",
            "        <li class=\"tier-2 element-3\" role=\"treeitem\"><a href=\"/about/gettingstarted/\" title=\"\">Getting Started</a></li>\n",
            "    \n",
            "        <li class=\"tier-2 element-4\" role=\"treeitem\"><a href=\"/about/help/\" title=\"\">Help</a></li>\n",
            "    \n",
            "        <li class=\"tier-2 element-5\" role=\"treeitem\"><a href=\"http://brochure.getpython.info/\" title=\"\">Python Brochure</a></li>\n",
            "    \n",
            "</ul>\n",
            "\n",
            "        \n",
            "    </li>\n",
            "    \n",
            "    \n",
            "    \n",
            "    <li id=\"downloads\" class=\"tier-1 element-2  \" aria-haspopup=\"true\">\n",
            "        <a href=\"/downloads/\" title=\"\" class=\"\">Downloads</a>\n",
            "        \n",
            "            \n",
            "\n",
            "<ul class=\"subnav menu\" role=\"menu\" aria-hidden=\"true\">\n",
            "    \n",
            "        <li class=\"tier-2 element-1\" role=\"treeitem\"><a href=\"/downloads/\" title=\"\">All releases</a></li>\n",
            "    \n",
            "        <li class=\"tier-2 element-2\" role=\"treeitem\"><a href=\"/downloads/source/\" title=\"\">Source code</a></li>\n",
            "    \n",
            "        <li class=\"tier-2 element-3\" role=\"treeitem\"><a href=\"/downloads/windows/\" title=\"\">Windows</a></li>\n",
            "    \n",
            "        <li class=\"tier-2 element-4\" role=\"treeitem\"><a href=\"/downloads/mac-osx/\" title=\"\">Mac OS X</a></li>\n",
            "    \n",
            "        <li class=\"tier-2 element-5\" role=\"treeitem\"><a href=\"/download/other/\" title=\"\">Other Platforms</a></li>\n",
            "    \n",
            "        <li class=\"tier-2 element-6\" role=\"treeitem\"><a href=\"https://docs.python.org/3/license.html\" title=\"\">License</a></li>\n",
            "    \n",
            "        <li class=\"tier-2 element-7\" role=\"treeitem\"><a href=\"/download/alternatives\" title=\"\">Alternative Implementations</a></li>\n",
            "    \n",
            "</ul>\n",
            "\n",
            "        \n",
            "    </li>\n",
            "    \n",
            "    \n",
            "    \n",
            "    <li id=\"documentation\" class=\"tier-1 element-3  \" aria-haspopup=\"true\">\n",
            "        <a href=\"/doc/\" title=\"\" class=\"\">Documentation</a>\n",
            "        \n",
            "            \n",
            "\n",
            "<ul class=\"subnav menu\" role=\"menu\" aria-hidden=\"true\">\n",
            "    \n",
            "        <li class=\"tier-2 element-1\" role=\"treeitem\"><a href=\"/doc/\" title=\"\">Docs</a></li>\n",
            "    \n",
            "        <li class=\"tier-2 element-2\" role=\"treeitem\"><a href=\"/doc/av\" title=\"\">Audio/Visual Talks</a></li>\n",
            "    \n",
            "        <li class=\"tier-2 element-3\" role=\"treeitem\"><a href=\"https://wiki.python.org/moin/BeginnersGuide\" title=\"\">Beginner&#39;s Guide</a></li>\n",
            "    \n",
            "        <li class=\"tier-2 element-4\" role=\"treeitem\"><a href=\"https://devguide.python.org/\" title=\"\">Developer&#39;s Guide</a></li>\n",
            "    \n",
            "        <li class=\"tier-2 element-5\" role=\"treeitem\"><a href=\"https://docs.python.org/faq/\" title=\"\">FAQ</a></li>\n",
            "    \n",
            "        <li class=\"tier-2 element-6\" role=\"treeitem\"><a href=\"http://wiki.python.org/moin/Languages\" title=\"\">Non-English Docs</a></li>\n",
            "    \n",
            "        <li class=\"tier-2 element-7\" role=\"treeitem\"><a href=\"http://python.org/dev/peps/\" title=\"\">PEP Index</a></li>\n",
            "    \n",
            "        <li class=\"tier-2 element-8\" role=\"treeitem\"><a href=\"https://wiki.python.org/moin/PythonBooks\" title=\"\">Python Books</a></li>\n",
            "    \n",
            "        <li class=\"tier-2 element-9\" role=\"treeitem\"><a href=\"/doc/essays/\" title=\"\">Python Essays</a></li>\n",
            "    \n",
            "</ul>\n",
            "\n",
            "        \n",
            "    </li>\n",
            "    \n",
            "    \n",
            "    \n",
            "    <li id=\"community\" class=\"tier-1 element-4  \" aria-haspopup=\"true\">\n",
            "        <a href=\"/community/\" title=\"\" class=\"\">Community</a>\n",
            "        \n",
            "            \n",
            "\n",
            "<ul class=\"subnav menu\" role=\"menu\" aria-hidden=\"true\">\n",
            "    \n",
            "        <li class=\"tier-2 element-1\" role=\"treeitem\"><a href=\"/community/survey\" title=\"\">Community Survey</a></li>\n",
            "    \n",
            "        <li class=\"tier-2 element-2\" role=\"treeitem\"><a href=\"/community/diversity/\" title=\"\">Diversity</a></li>\n",
            "    \n",
            "        <li class=\"tier-2 element-3\" role=\"treeitem\"><a href=\"/community/lists/\" title=\"\">Mailing Lists</a></li>\n",
            "    \n",
            "        <li class=\"tier-2 element-4\" role=\"treeitem\"><a href=\"/community/irc/\" title=\"\">IRC</a></li>\n",
            "    \n",
            "        <li class=\"tier-2 element-5\" role=\"treeitem\"><a href=\"/community/forums/\" title=\"\">Forums</a></li>\n",
            "    \n",
            "        <li class=\"tier-2 element-6\" role=\"treeitem\"><a href=\"/psf/annual-report/2020/\" title=\"\">PSF Annual Impact Report</a></li>\n",
            "    \n",
            "        <li class=\"tier-2 element-7\" role=\"treeitem\"><a href=\"/community/workshops/\" title=\"\">Python Conferences</a></li>\n",
            "    \n",
            "        <li class=\"tier-2 element-8\" role=\"treeitem\"><a href=\"/community/sigs/\" title=\"\">Special Interest Groups</a></li>\n",
            "    \n",
            "        <li class=\"tier-2 element-9\" role=\"treeitem\"><a href=\"/community/logos/\" title=\"\">Python Logo</a></li>\n",
            "    \n",
            "        <li class=\"tier-2 element-10\" role=\"treeitem\"><a href=\"https://wiki.python.org/moin/\" title=\"\">Python Wiki</a></li>\n",
            "    \n",
            "        <li class=\"tier-2 element-11\" role=\"treeitem\"><a href=\"/community/merchandise/\" title=\"\">Merchandise</a></li>\n",
            "    \n",
            "        <li class=\"tier-2 element-12\" role=\"treeitem\"><a href=\"/community/awards\" title=\"\">Community Awards</a></li>\n",
            "    \n",
            "        <li class=\"tier-2 element-13\" role=\"treeitem\"><a href=\"/psf/conduct/\" title=\"\">Code of Conduct</a></li>\n",
            "    \n",
            "</ul>\n",
            "\n",
            "        \n",
            "    </li>\n",
            "    \n",
            "    \n",
            "    \n",
            "    <li id=\"success-stories\" class=\"tier-1 element-5  \" aria-haspopup=\"true\">\n",
            "        <a href=\"/success-stories/\" title=\"success-stories\" class=\"\">Success Stories</a>\n",
            "        \n",
            "            \n",
            "\n",
            "<ul class=\"subnav menu\" role=\"menu\" aria-hidden=\"true\">\n",
            "    \n",
            "        <li class=\"tier-2 element-1\" role=\"treeitem\"><a href=\"/success-stories/category/arts/\" title=\"\">Arts</a></li>\n",
            "    \n",
            "        <li class=\"tier-2 element-2\" role=\"treeitem\"><a href=\"/success-stories/category/business/\" title=\"\">Business</a></li>\n",
            "    \n",
            "        <li class=\"tier-2 element-3\" role=\"treeitem\"><a href=\"/success-stories/category/education/\" title=\"\">Education</a></li>\n",
            "    \n",
            "        <li class=\"tier-2 element-4\" role=\"treeitem\"><a href=\"/success-stories/category/engineering/\" title=\"\">Engineering</a></li>\n",
            "    \n",
            "        <li class=\"tier-2 element-5\" role=\"treeitem\"><a href=\"/success-stories/category/government/\" title=\"\">Government</a></li>\n",
            "    \n",
            "        <li class=\"tier-2 element-6\" role=\"treeitem\"><a href=\"/success-stories/category/scientific/\" title=\"\">Scientific</a></li>\n",
            "    \n",
            "        <li class=\"tier-2 element-7\" role=\"treeitem\"><a href=\"/success-stories/category/software-development/\" title=\"\">Software Development</a></li>\n",
            "    \n",
            "</ul>\n",
            "\n",
            "        \n",
            "    </li>\n",
            "    \n",
            "    \n",
            "    \n",
            "    <li id=\"news\" class=\"tier-1 element-6  \" aria-haspopup=\"true\">\n",
            "        <a href=\"/blogs/\" title=\"News from around the Python world\" class=\"\">News</a>\n",
            "        \n",
            "            \n",
            "\n",
            "<ul class=\"subnav menu\" role=\"menu\" aria-hidden=\"true\">\n",
            "    \n",
            "        <li class=\"tier-2 element-1\" role=\"treeitem\"><a href=\"/blogs/\" title=\"Python Insider Blog Posts\">Python News</a></li>\n",
            "    \n",
            "        <li class=\"tier-2 element-2\" role=\"treeitem\"><a href=\"/psf/newsletter/\" title=\"Python Software Foundation Newsletter\">PSF Newsletter</a></li>\n",
            "    \n",
            "        <li class=\"tier-2 element-3\" role=\"treeitem\"><a href=\"http://planetpython.org/\" title=\"Planet Python\">Community News</a></li>\n",
            "    \n",
            "        <li class=\"tier-2 element-4\" role=\"treeitem\"><a href=\"http://pyfound.blogspot.com/\" title=\"PSF Blog\">PSF News</a></li>\n",
            "    \n",
            "        <li class=\"tier-2 element-5\" role=\"treeitem\"><a href=\"http://pycon.blogspot.com/\" title=\"PyCon Blog\">PyCon News</a></li>\n",
            "    \n",
            "</ul>\n",
            "\n",
            "        \n",
            "    </li>\n",
            "    \n",
            "    \n",
            "    \n",
            "    <li id=\"events\" class=\"tier-1 element-7  \" aria-haspopup=\"true\">\n",
            "        <a href=\"/events/\" title=\"\" class=\"\">Events</a>\n",
            "        \n",
            "            \n",
            "\n",
            "<ul class=\"subnav menu\" role=\"menu\" aria-hidden=\"true\">\n",
            "    \n",
            "        <li class=\"tier-2 element-1\" role=\"treeitem\"><a href=\"/events/python-events\" title=\"\">Python Events</a></li>\n",
            "    \n",
            "        <li class=\"tier-2 element-2\" role=\"treeitem\"><a href=\"/events/python-user-group/\" title=\"\">User Group Events</a></li>\n",
            "    \n",
            "        <li class=\"tier-2 element-3\" role=\"treeitem\"><a href=\"/events/python-events/past/\" title=\"\">Python Events Archive</a></li>\n",
            "    \n",
            "        <li class=\"tier-2 element-4\" role=\"treeitem\"><a href=\"/events/python-user-group/past/\" title=\"\">User Group Events Archive</a></li>\n",
            "    \n",
            "        <li class=\"tier-2 element-5\" role=\"treeitem\"><a href=\"https://wiki.python.org/moin/PythonEventsCalendar#Submitting_an_Event\" title=\"\">Submit an Event</a></li>\n",
            "    \n",
            "</ul>\n",
            "\n",
            "        \n",
            "    </li>\n",
            "    \n",
            "    \n",
            "    \n",
            "    \n",
            "  \n",
            "</ul>\n",
            "\n",
            "                    \n",
            "                </nav>\n",
            "\n",
            "                <div class=\"header-banner \"> <!-- for optional \"do-not-print\" class -->\n",
            "                    \n",
            "        <div id=\"dive-into-python\" class=\"flex-slideshow slideshow\">\n",
            "\n",
            "            <ul class=\"launch-shell menu\" id=\"launch-shell\">\n",
            "                <li>\n",
            "                    <a class=\"button prompt\" id=\"start-shell\" data-shell-container=\"#dive-into-python\" href=\"/shell/\">&gt;_\n",
            "                        <span class=\"message\">Launch Interactive Shell</span>\n",
            "                    </a>\n",
            "                </li>\n",
            "            </ul>\n",
            "\n",
            "            <ul class=\"slides menu\">\n",
            "                \n",
            "                <li>\n",
            "                    <div class=\"slide-code\"><pre><code><span class=\"comment\"># Python 3: Fibonacci series up to n</span>\r\n",
            ">>> def fib(n):\r\n",
            ">>>     a, b = 0, 1\r\n",
            ">>>     while a &lt; n:\r\n",
            ">>>         print(a, end=' ')\r\n",
            ">>>         a, b = b, a+b\r\n",
            ">>>     print()\r\n",
            ">>> fib(1000)\r\n",
            "<span class=\"output\">0 1 1 2 3 5 8 13 21 34 55 89 144 233 377 610 987</span></code></pre></div>\n",
            "                    <div class=\"slide-copy\"><h1>Functions Defined</h1>\r\n",
            "<p>The core of extensible programming is defining functions. Python allows mandatory and optional arguments, keyword arguments, and even arbitrary argument lists. <a href=\"//docs.python.org/3/tutorial/controlflow.html#defining-functions\">More about defining functions in Python&nbsp;3</a></p></div>\n",
            "                </li>\n",
            "                \n",
            "                <li>\n",
            "                    <div class=\"slide-code\"><pre><code><span class=\"comment\"># Python 3: List comprehensions</span>\r\n",
            ">>> fruits = ['Banana', 'Apple', 'Lime']\r\n",
            ">>> loud_fruits = [fruit.upper() for fruit in fruits]\r\n",
            ">>> print(loud_fruits)\r\n",
            "<span class=\"output\">['BANANA', 'APPLE', 'LIME']</span>\r\n",
            "\r\n",
            "<span class=\"comment\"># List and the enumerate function</span>\r\n",
            ">>> list(enumerate(fruits))\r\n",
            "<span class=\"output\">[(0, 'Banana'), (1, 'Apple'), (2, 'Lime')]</span></code></pre></div>\n",
            "                    <div class=\"slide-copy\"><h1>Compound Data Types</h1>\r\n",
            "<p>Lists (known as arrays in other languages) are one of the compound data types that Python understands. Lists can be indexed, sliced and manipulated with other built-in functions. <a href=\"//docs.python.org/3/tutorial/introduction.html#lists\">More about lists in Python&nbsp;3</a></p></div>\n",
            "                </li>\n",
            "                \n",
            "                <li>\n",
            "                    <div class=\"slide-code\"><pre><code><span class=\"comment\"># Python 3: Simple arithmetic</span>\r\n",
            ">>> 1 / 2\r\n",
            "<span class=\"output\">0.5</span>\r\n",
            ">>> 2 ** 3\r\n",
            "<span class=\"output\">8</span>\r\n",
            ">>> 17 / 3  <span class=\"comment\"># classic division returns a float</span>\r\n",
            "<span class=\"output\">5.666666666666667</span>\r\n",
            ">>> 17 // 3  <span class=\"comment\"># floor division</span>\r\n",
            "<span class=\"output\">5</span></code></pre></div>\n",
            "                    <div class=\"slide-copy\"><h1>Intuitive Interpretation</h1>\r\n",
            "<p>Calculations are simple with Python, and expression syntax is straightforward: the operators <code>+</code>, <code>-</code>, <code>*</code> and <code>/</code> work as expected; parentheses <code>()</code> can be used for grouping. <a href=\"http://docs.python.org/3/tutorial/introduction.html#using-python-as-a-calculator\">More about simple math functions in Python&nbsp;3</a>.</p></div>\n",
            "                </li>\n",
            "                \n",
            "                <li>\n",
            "                    <div class=\"slide-code\"><pre><code><span class=\"comment\"># Python 3: Simple output (with Unicode)</span>\r\n",
            ">>> print(\"Hello, I'm Python!\")\r\n",
            "<span class=\"output\">Hello, I'm Python!</span>\r\n",
            "\r\n",
            "<span class=\"comment\"># Input, assignment</span>\r\n",
            ">>> name = input('What is your name?\\n')\r\n",
            ">>> print('Hi, %s.' % name)\r\n",
            "<span class=\"output\">What is your name?\r\n",
            "Python\r\n",
            "Hi, Python.</span></code></pre></div>\n",
            "                    <div class=\"slide-copy\"><h1>Quick &amp; Easy to Learn</h1>\r\n",
            "<p>Experienced programmers in any other language can pick up Python very quickly, and beginners find the clean syntax and indentation structure easy to learn. <a href=\"//docs.python.org/3/tutorial/\">Whet your appetite</a> with our Python&nbsp;3 overview.</p>\r\n",
            "                   </div>\n",
            "                </li>\n",
            "                \n",
            "                <li>\n",
            "                    <div class=\"slide-code\"><pre><code><span class=\"comment\"># For loop on a list</span>\r\n",
            ">>> numbers = [2, 4, 6, 8]\r\n",
            ">>> product = 1\r\n",
            ">>> for number in numbers:\r\n",
            "...    product = product * number\r\n",
            "... \r\n",
            ">>> print('The product is:', product)\r\n",
            "<span class=\"output\">The product is: 384</span></code></pre></div>\n",
            "                    <div class=\"slide-copy\"><h1>All the Flow You&rsquo;d Expect</h1>\r\n",
            "<p>Python knows the usual control flow statements that other languages speak &mdash; <code>if</code>, <code>for</code>, <code>while</code> and <code>range</code> &mdash; with some of its own twists, of course. <a href=\"//docs.python.org/3/tutorial/controlflow.html\">More control flow tools in Python&nbsp;3</a></p></div>\n",
            "                </li>\n",
            "                \n",
            "            </ul>\n",
            "        </div>\n",
            "\n",
            "\n",
            "                </div>\n",
            "\n",
            "                \n",
            "        <div class=\"introduction\">\n",
            "            <p>Python is a programming language that lets you work quickly <span class=\"breaker\"></span>and integrate systems more effectively. <a class=\"readmore\" href=\"/doc/\">Learn More</a></p>\n",
            "        </div>\n",
            "\n",
            "\n",
            "             </div><!-- end .container -->\n",
            "        </header>\n",
            "\n",
            "        <div id=\"content\" class=\"content-wrapper\">\n",
            "            <!-- Main Content Column -->\n",
            "            <div class=\"container\">\n",
            "\n",
            "                <section class=\"main-content \" role=\"main\">\n",
            "\n",
            "                    \n",
            "                    \n",
            "\n",
            "                    \n",
            "\n",
            "                    \n",
            "\n",
            "                \n",
            "\n",
            "                <div class=\"row\">\n",
            "\n",
            "                    <div class=\"small-widget get-started-widget\">\n",
            "                        <h2 class=\"widget-title\"><span aria-hidden=\"true\" class=\"icon-get-started\"></span>Get Started</h2>\r\n",
            "<p>Whether you're new to programming or an experienced developer, it's easy to learn and use Python.</p>\r\n",
            "<p><a href=\"/about/gettingstarted/\">Start with our Beginner&rsquo;s Guide</a></p>\n",
            "                    </div>\n",
            "\n",
            "                    <div class=\"small-widget download-widget\">\n",
            "                        <h2 class=\"widget-title\"><span aria-hidden=\"true\" class=\"icon-download\"></span>Download</h2>\n",
            "<p>Python source code and installers are available for download for all versions!</p>\n",
            "<p>Latest: <a href=\"/downloads/release/python-385/\">Python 3.8.5</a></p>\n",
            "                    </div>\n",
            "\n",
            "                    <div class=\"small-widget documentation-widget\">\n",
            "                        <h2 class=\"widget-title\"><span aria-hidden=\"true\" class=\"icon-documentation\"></span>Docs</h2>\r\n",
            "<p>Documentation for Python's standard library, along with tutorials and guides, are available online.</p>\r\n",
            "<p><a href=\"https://docs.python.org\">docs.python.org</a></p>\n",
            "                    </div>\n",
            "\n",
            "                    <div class=\"small-widget jobs-widget last\">\n",
            "                        <h2 class=\"widget-title\"><span aria-hidden=\"true\" class=\"icon-jobs\"></span>Jobs</h2>\r\n",
            "<p>Looking for work or have a Python related position that you're trying to hire for? Our <strong>relaunched community-run job board</strong> is the place to go.</p>\r\n",
            "<p><a href=\"//jobs.python.org\">jobs.python.org</a></p>\n",
            "                    </div>\n",
            "\n",
            "                </div>\n",
            "\n",
            "                <div class=\"list-widgets row\">\n",
            "\n",
            "                    <div class=\"medium-widget blog-widget\">\n",
            "                        \n",
            "                        <div class=\"shrubbery\">\n",
            "                        \n",
            "                            <h2 class=\"widget-title\"><span aria-hidden=\"true\" class=\"icon-news\"></span>Latest News</h2>\n",
            "                            <p class=\"give-me-more\"><a href=\"https://blog.python.org\" title=\"More News\">More</a></p>\n",
            "                            \n",
            "                            <ul class=\"menu\">\n",
            "                                \n",
            "                                \n",
            "                                <li>\n",
            "<time datetime=\"2020-08-11T21:41:00.000001+00:00\"><span class=\"say-no-more\">2020-</span>08-11</time>\n",
            " <a href=\"http://feedproxy.google.com/~r/PythonInsider/~3/VKrYX2pRrD4/python-390rc1-is-now-available.html\">Python 3.9.0rc1 is now available</a></li>\n",
            "                                \n",
            "                                <li>\n",
            "<time datetime=\"2020-07-30T15:14:00.000003+00:00\"><span class=\"say-no-more\">2020-</span>07-30</time>\n",
            " <a href=\"http://feedproxy.google.com/~r/PythonInsider/~3/oWRGYtccsHE/upgrade-pip-20-2-changes-20-3.html\">Upgrade to pip 20.2, plus, changes coming in 20.3</a></li>\n",
            "                                \n",
            "                                <li>\n",
            "<time datetime=\"2020-07-27T16:02:00+00:00\"><span class=\"say-no-more\">2020-</span>07-27</time>\n",
            " <a href=\"http://feedproxy.google.com/~r/PythonSoftwareFoundationNews/~3/6FahUJasdEc/abigail-dogbe-awarded-psf-community.html\">Abigail Dogbe Awarded the PSF Community Service Award for Q1 2020</a></li>\n",
            "                                \n",
            "                                <li>\n",
            "<time datetime=\"2020-07-24T22:15:00.000004+00:00\"><span class=\"say-no-more\">2020-</span>07-24</time>\n",
            " <a href=\"http://feedproxy.google.com/~r/PythonSoftwareFoundationNews/~3/ijGVTo7aKv0/python-software-foundation-fellow.html\">Python Software Foundation Fellow Members for Q2 2020</a></li>\n",
            "                                \n",
            "                                <li>\n",
            "<time datetime=\"2020-07-21T11:16:00.000001+00:00\"><span class=\"say-no-more\">2020-</span>07-21</time>\n",
            " <a href=\"http://feedproxy.google.com/~r/PythonInsider/~3/EjSD786Ov68/python-385-released-as-security-hotfix.html\">Python 3.8.5 released as a security hotfix. 3.9.0b5, the last beta before 3.9.0, also available</a></li>\n",
            "                                \n",
            "                            </ul>\n",
            "                        </div><!-- end .shrubbery -->\n",
            "\n",
            "                    </div>\n",
            "\n",
            "                    <div class=\"medium-widget event-widget last\">\n",
            "                        \n",
            "                        <div class=\"shrubbery\">\n",
            "                        \n",
            "                            <h2 class=\"widget-title\"><span aria-hidden=\"true\" class=\"icon-calendar\"></span>Upcoming Events</h2>\n",
            "                            <p class=\"give-me-more\"><a href=\"/events/calendars/\" title=\"More Events\">More</a></p>\n",
            "                            \n",
            "                            <ul class=\"menu\">\n",
            "                                \n",
            "                                \n",
            "                                \n",
            "                                <li>\n",
            "<time datetime=\"2020-08-28T00:00:00+00:00\"><span class=\"say-no-more\">2020-</span>08-28</time>\n",
            " <a href=\"/events/python-events/951/\">PyCon JP 2020</a></li>\n",
            "                                \n",
            "                                \n",
            "                                \n",
            "                                <li>\n",
            "<time datetime=\"2020-09-05T00:00:00+00:00\"><span class=\"say-no-more\">2020-</span>09-05</time>\n",
            " <a href=\"/events/python-events/963/\">PyCon TW 2020</a></li>\n",
            "                                \n",
            "                                \n",
            "                                \n",
            "                                <li>\n",
            "<time datetime=\"2020-09-11T00:00:00+00:00\"><span class=\"say-no-more\">2020-</span>09-11</time>\n",
            " <a href=\"/events/python-events/879/\">PyCon SK 2020</a></li>\n",
            "                                \n",
            "                                \n",
            "                                \n",
            "                                <li>\n",
            "<time datetime=\"2020-09-16T00:00:00+00:00\"><span class=\"say-no-more\">2020-</span>09-16</time>\n",
            " <a href=\"/events/python-events/891/\">DjangoCon Europe 2020</a></li>\n",
            "                                \n",
            "                                \n",
            "                                \n",
            "                                <li>\n",
            "<time datetime=\"2020-09-19T00:00:00+00:00\"><span class=\"say-no-more\">2020-</span>09-19</time>\n",
            " <a href=\"/events/python-events/910/\">DragonPy 2020</a></li>\n",
            "                                \n",
            "                                \n",
            "                            </ul>\n",
            "                        </div>\n",
            "\n",
            "                    </div>\n",
            "\n",
            "                </div>\n",
            "\n",
            "                <div class=\"row\">\n",
            "\n",
            "                    <div class=\"medium-widget success-stories-widget\">\n",
            "                        \n",
            "\n",
            "\n",
            "\n",
            "                        <div class=\"shrubbery\">\n",
            "                            \n",
            "\n",
            "                            <h2 class=\"widget-title\"><span aria-hidden=\"true\" class=\"icon-success-stories\"></span>Success Stories</h2>\n",
            "                            <p class=\"give-me-more\"><a href=\"/success-stories/\" title=\"More Success Stories\">More</a></p>\n",
            "\n",
            "                            \n",
            "                            <div class=\"success-story-item\" id=\"success-story-839\">\n",
            "\n",
            "                            <blockquote>\n",
            "                                <a href=\"/success-stories/building-an-open-source-and-cross-platform-azure-cli-with-python/\">Thanks to the flexibility of Python and the powerful ecosystem of packages, the Azure CLI supports features such as autocompletion (in shells that support it), persistent credentials, JMESPath result parsing, lazy initialization, network-less unit tests, and more.</a>\n",
            "                            </blockquote>\n",
            "\n",
            "                            <table cellpadding=\"0\" cellspacing=\"0\" border=\"0\" width=\"100%\" class=\"quote-from\">\n",
            "                                <tbody>\n",
            "                                    <tr>\n",
            "                                        \n",
            "                                        <td><p><a href=\"/success-stories/building-an-open-source-and-cross-platform-azure-cli-with-python/\">Building an open-source and cross-platform Azure CLI with Python</a> <em>by Dan Taylor</em></p></td>\n",
            "                                    </tr>\n",
            "                                </tbody>\n",
            "                            </table>\n",
            "                            </div>\n",
            "                            \n",
            "\n",
            "                        </div><!-- end .shrubbery -->\n",
            "\n",
            "                    </div>\n",
            "\n",
            "                    <div class=\"medium-widget applications-widget last\">\n",
            "                        <div class=\"shrubbery\">\n",
            "                            <h2 class=\"widget-title\"><span aria-hidden=\"true\" class=\"icon-python\"></span>Use Python for&hellip;</h2>\r\n",
            "<p class=\"give-me-more\"><a href=\"/about/apps\" title=\"More Applications\">More</a></p>\r\n",
            "\r\n",
            "<ul class=\"menu\">\r\n",
            "    <li><b>Web Development</b>:\r\n",
            "        <span class=\"tag-wrapper\"><a class=\"tag\" href=\"http://www.djangoproject.com/\">Django</a>, <a class=\"tag\" href=\"http://www.pylonsproject.org/\">Pyramid</a>, <a class=\"tag\" href=\"http://bottlepy.org\">Bottle</a>, <a class=\"tag\" href=\"http://tornadoweb.org\">Tornado</a>, <a href=\"http://flask.pocoo.org/\" class=\"tag\">Flask</a>, <a class=\"tag\" href=\"http://www.web2py.com/\">web2py</a></span></li>\r\n",
            "    <li><b>GUI Development</b>:\r\n",
            "        <span class=\"tag-wrapper\"><a class=\"tag\" href=\"http://wiki.python.org/moin/TkInter\">tkInter</a>, <a class=\"tag\" href=\"https://wiki.gnome.org/Projects/PyGObject\">PyGObject</a>, <a class=\"tag\" href=\"http://www.riverbankcomputing.co.uk/software/pyqt/intro\">PyQt</a>, <a class=\"tag\" href=\"https://wiki.qt.io/PySide\">PySide</a>, <a class=\"tag\" href=\"https://kivy.org/\">Kivy</a>, <a class=\"tag\" href=\"http://www.wxpython.org/\">wxPython</a></span></li>\r\n",
            "    <li><b>Scientific and Numeric</b>:\r\n",
            "        <span class=\"tag-wrapper\">\r\n",
            "<a class=\"tag\" href=\"http://www.scipy.org\">SciPy</a>, <a class=\"tag\" href=\"http://pandas.pydata.org/\">Pandas</a>, <a href=\"http://ipython.org\" class=\"tag\">IPython</a></span></li>\r\n",
            "    <li><b>Software Development</b>:\r\n",
            "        <span class=\"tag-wrapper\"><a class=\"tag\" href=\"http://buildbot.net/\">Buildbot</a>, <a class=\"tag\" href=\"http://trac.edgewall.org/\">Trac</a>, <a class=\"tag\" href=\"http://roundup.sourceforge.net/\">Roundup</a></span></li>\r\n",
            "    <li><b>System Administration</b>:\r\n",
            "        <span class=\"tag-wrapper\"><a class=\"tag\" href=\"http://www.ansible.com\">Ansible</a>, <a class=\"tag\" href=\"http://www.saltstack.com\">Salt</a>, <a class=\"tag\" href=\"https://www.openstack.org\">OpenStack</a></span></li>\r\n",
            "</ul>\r\n",
            "\n",
            "                        </div><!-- end .shrubbery -->\n",
            "                    </div>\n",
            "\n",
            "                </div>\n",
            "\n",
            "                \n",
            "                <div class=\"pep-widget\">\n",
            "\n",
            "                    <h2 class=\"widget-title\">\n",
            "                        <span class=\"prompt\">&gt;&gt;&gt;</span> <a href=\"/dev/peps/\">Python Enhancement Proposals<span class=\"say-no-more\"> (PEPs)</span></a>: The future of Python<span class=\"say-no-more\"> is discussed here.</span>\n",
            "                        <a aria-hidden=\"true\" class=\"rss-link\" href=\"/dev/peps/peps.rss\"><span class=\"icon-feed\"></span> RSS</a>\n",
            "                    </h2>\n",
            "\n",
            "\n",
            "                    \n",
            "                    \n",
            "                </div>\n",
            "\n",
            "                                <div class=\"psf-widget\">\n",
            "\n",
            "                    <div class=\"python-logo\"></div>\n",
            "                    \n",
            "                    <h2 class=\"widget-title\">\r\n",
            "    <span class=\"prompt\">&gt;&gt;&gt;</span> <a href=\"/psf/\">Python Software Foundation</a>\r\n",
            "</h2>\r\n",
            "<p>The mission of the Python Software Foundation is to promote, protect, and advance the Python programming language, and to support and facilitate the growth of a diverse and international community of Python programmers. <a class=\"readmore\" href=\"/psf/\">Learn more</a> </p>\r\n",
            "<p class=\"click-these\">\r\n",
            "    <a class=\"button\" href=\"/users/membership/\">Become a Member</a>\r\n",
            "    <a class=\"button\" href=\"/psf/donations/\">Donate to the PSF</a>\r\n",
            "</p>\n",
            "                </div>\n",
            "\n",
            "\n",
            "\n",
            "\n",
            "                </section>\n",
            "\n",
            "                \n",
            "                \n",
            "\n",
            "                \n",
            "                \n",
            "\n",
            "\n",
            "            </div><!-- end .container -->\n",
            "        </div><!-- end #content .content-wrapper -->\n",
            "\n",
            "        <!-- Footer and social media list -->\n",
            "        <footer id=\"site-map\" class=\"main-footer\" role=\"contentinfo\">\n",
            "            <div class=\"main-footer-links\">\n",
            "                <div class=\"container\">\n",
            "\n",
            "                    \n",
            "                    <a id=\"back-to-top-1\" class=\"jump-link\" href=\"#python-network\"><span aria-hidden=\"true\" class=\"icon-arrow-up\"><span>&#9650;</span></span> Back to Top</a>\n",
            "\n",
            "                    \n",
            "\n",
            "<ul class=\"sitemap navigation menu do-not-print\" role=\"tree\" id=\"container\">\n",
            "    \n",
            "    <li class=\"tier-1 element-1\">\n",
            "        <a href=\"/about/\" >About</a>\n",
            "        \n",
            "            \n",
            "\n",
            "<ul class=\"subnav menu\">\n",
            "    \n",
            "        <li class=\"tier-2 element-1\" role=\"treeitem\"><a href=\"/about/apps/\" title=\"\">Applications</a></li>\n",
            "    \n",
            "        <li class=\"tier-2 element-2\" role=\"treeitem\"><a href=\"/about/quotes/\" title=\"\">Quotes</a></li>\n",
            "    \n",
            "        <li class=\"tier-2 element-3\" role=\"treeitem\"><a href=\"/about/gettingstarted/\" title=\"\">Getting Started</a></li>\n",
            "    \n",
            "        <li class=\"tier-2 element-4\" role=\"treeitem\"><a href=\"/about/help/\" title=\"\">Help</a></li>\n",
            "    \n",
            "        <li class=\"tier-2 element-5\" role=\"treeitem\"><a href=\"http://brochure.getpython.info/\" title=\"\">Python Brochure</a></li>\n",
            "    \n",
            "</ul>\n",
            "\n",
            "        \n",
            "    </li>\n",
            "    \n",
            "    <li class=\"tier-1 element-2\">\n",
            "        <a href=\"/downloads/\" >Downloads</a>\n",
            "        \n",
            "            \n",
            "\n",
            "<ul class=\"subnav menu\">\n",
            "    \n",
            "        <li class=\"tier-2 element-1\" role=\"treeitem\"><a href=\"/downloads/\" title=\"\">All releases</a></li>\n",
            "    \n",
            "        <li class=\"tier-2 element-2\" role=\"treeitem\"><a href=\"/downloads/source/\" title=\"\">Source code</a></li>\n",
            "    \n",
            "        <li class=\"tier-2 element-3\" role=\"treeitem\"><a href=\"/downloads/windows/\" title=\"\">Windows</a></li>\n",
            "    \n",
            "        <li class=\"tier-2 element-4\" role=\"treeitem\"><a href=\"/downloads/mac-osx/\" title=\"\">Mac OS X</a></li>\n",
            "    \n",
            "        <li class=\"tier-2 element-5\" role=\"treeitem\"><a href=\"/download/other/\" title=\"\">Other Platforms</a></li>\n",
            "    \n",
            "        <li class=\"tier-2 element-6\" role=\"treeitem\"><a href=\"https://docs.python.org/3/license.html\" title=\"\">License</a></li>\n",
            "    \n",
            "        <li class=\"tier-2 element-7\" role=\"treeitem\"><a href=\"/download/alternatives\" title=\"\">Alternative Implementations</a></li>\n",
            "    \n",
            "</ul>\n",
            "\n",
            "        \n",
            "    </li>\n",
            "    \n",
            "    <li class=\"tier-1 element-3\">\n",
            "        <a href=\"/doc/\" >Documentation</a>\n",
            "        \n",
            "            \n",
            "\n",
            "<ul class=\"subnav menu\">\n",
            "    \n",
            "        <li class=\"tier-2 element-1\" role=\"treeitem\"><a href=\"/doc/\" title=\"\">Docs</a></li>\n",
            "    \n",
            "        <li class=\"tier-2 element-2\" role=\"treeitem\"><a href=\"/doc/av\" title=\"\">Audio/Visual Talks</a></li>\n",
            "    \n",
            "        <li class=\"tier-2 element-3\" role=\"treeitem\"><a href=\"https://wiki.python.org/moin/BeginnersGuide\" title=\"\">Beginner&#39;s Guide</a></li>\n",
            "    \n",
            "        <li class=\"tier-2 element-4\" role=\"treeitem\"><a href=\"https://devguide.python.org/\" title=\"\">Developer&#39;s Guide</a></li>\n",
            "    \n",
            "        <li class=\"tier-2 element-5\" role=\"treeitem\"><a href=\"https://docs.python.org/faq/\" title=\"\">FAQ</a></li>\n",
            "    \n",
            "        <li class=\"tier-2 element-6\" role=\"treeitem\"><a href=\"http://wiki.python.org/moin/Languages\" title=\"\">Non-English Docs</a></li>\n",
            "    \n",
            "        <li class=\"tier-2 element-7\" role=\"treeitem\"><a href=\"http://python.org/dev/peps/\" title=\"\">PEP Index</a></li>\n",
            "    \n",
            "        <li class=\"tier-2 element-8\" role=\"treeitem\"><a href=\"https://wiki.python.org/moin/PythonBooks\" title=\"\">Python Books</a></li>\n",
            "    \n",
            "        <li class=\"tier-2 element-9\" role=\"treeitem\"><a href=\"/doc/essays/\" title=\"\">Python Essays</a></li>\n",
            "    \n",
            "</ul>\n",
            "\n",
            "        \n",
            "    </li>\n",
            "    \n",
            "    <li class=\"tier-1 element-4\">\n",
            "        <a href=\"/community/\" >Community</a>\n",
            "        \n",
            "            \n",
            "\n",
            "<ul class=\"subnav menu\">\n",
            "    \n",
            "        <li class=\"tier-2 element-1\" role=\"treeitem\"><a href=\"/community/survey\" title=\"\">Community Survey</a></li>\n",
            "    \n",
            "        <li class=\"tier-2 element-2\" role=\"treeitem\"><a href=\"/community/diversity/\" title=\"\">Diversity</a></li>\n",
            "    \n",
            "        <li class=\"tier-2 element-3\" role=\"treeitem\"><a href=\"/community/lists/\" title=\"\">Mailing Lists</a></li>\n",
            "    \n",
            "        <li class=\"tier-2 element-4\" role=\"treeitem\"><a href=\"/community/irc/\" title=\"\">IRC</a></li>\n",
            "    \n",
            "        <li class=\"tier-2 element-5\" role=\"treeitem\"><a href=\"/community/forums/\" title=\"\">Forums</a></li>\n",
            "    \n",
            "        <li class=\"tier-2 element-6\" role=\"treeitem\"><a href=\"/psf/annual-report/2020/\" title=\"\">PSF Annual Impact Report</a></li>\n",
            "    \n",
            "        <li class=\"tier-2 element-7\" role=\"treeitem\"><a href=\"/community/workshops/\" title=\"\">Python Conferences</a></li>\n",
            "    \n",
            "        <li class=\"tier-2 element-8\" role=\"treeitem\"><a href=\"/community/sigs/\" title=\"\">Special Interest Groups</a></li>\n",
            "    \n",
            "        <li class=\"tier-2 element-9\" role=\"treeitem\"><a href=\"/community/logos/\" title=\"\">Python Logo</a></li>\n",
            "    \n",
            "        <li class=\"tier-2 element-10\" role=\"treeitem\"><a href=\"https://wiki.python.org/moin/\" title=\"\">Python Wiki</a></li>\n",
            "    \n",
            "        <li class=\"tier-2 element-11\" role=\"treeitem\"><a href=\"/community/merchandise/\" title=\"\">Merchandise</a></li>\n",
            "    \n",
            "        <li class=\"tier-2 element-12\" role=\"treeitem\"><a href=\"/community/awards\" title=\"\">Community Awards</a></li>\n",
            "    \n",
            "        <li class=\"tier-2 element-13\" role=\"treeitem\"><a href=\"/psf/conduct/\" title=\"\">Code of Conduct</a></li>\n",
            "    \n",
            "</ul>\n",
            "\n",
            "        \n",
            "    </li>\n",
            "    \n",
            "    <li class=\"tier-1 element-5\">\n",
            "        <a href=\"/success-stories/\" title=\"success-stories\">Success Stories</a>\n",
            "        \n",
            "            \n",
            "\n",
            "<ul class=\"subnav menu\">\n",
            "    \n",
            "        <li class=\"tier-2 element-1\" role=\"treeitem\"><a href=\"/success-stories/category/arts/\" title=\"\">Arts</a></li>\n",
            "    \n",
            "        <li class=\"tier-2 element-2\" role=\"treeitem\"><a href=\"/success-stories/category/business/\" title=\"\">Business</a></li>\n",
            "    \n",
            "        <li class=\"tier-2 element-3\" role=\"treeitem\"><a href=\"/success-stories/category/education/\" title=\"\">Education</a></li>\n",
            "    \n",
            "        <li class=\"tier-2 element-4\" role=\"treeitem\"><a href=\"/success-stories/category/engineering/\" title=\"\">Engineering</a></li>\n",
            "    \n",
            "        <li class=\"tier-2 element-5\" role=\"treeitem\"><a href=\"/success-stories/category/government/\" title=\"\">Government</a></li>\n",
            "    \n",
            "        <li class=\"tier-2 element-6\" role=\"treeitem\"><a href=\"/success-stories/category/scientific/\" title=\"\">Scientific</a></li>\n",
            "    \n",
            "        <li class=\"tier-2 element-7\" role=\"treeitem\"><a href=\"/success-stories/category/software-development/\" title=\"\">Software Development</a></li>\n",
            "    \n",
            "</ul>\n",
            "\n",
            "        \n",
            "    </li>\n",
            "    \n",
            "    <li class=\"tier-1 element-6\">\n",
            "        <a href=\"/blogs/\" title=\"News from around the Python world\">News</a>\n",
            "        \n",
            "            \n",
            "\n",
            "<ul class=\"subnav menu\">\n",
            "    \n",
            "        <li class=\"tier-2 element-1\" role=\"treeitem\"><a href=\"/blogs/\" title=\"Python Insider Blog Posts\">Python News</a></li>\n",
            "    \n",
            "        <li class=\"tier-2 element-2\" role=\"treeitem\"><a href=\"/psf/newsletter/\" title=\"Python Software Foundation Newsletter\">PSF Newsletter</a></li>\n",
            "    \n",
            "        <li class=\"tier-2 element-3\" role=\"treeitem\"><a href=\"http://planetpython.org/\" title=\"Planet Python\">Community News</a></li>\n",
            "    \n",
            "        <li class=\"tier-2 element-4\" role=\"treeitem\"><a href=\"http://pyfound.blogspot.com/\" title=\"PSF Blog\">PSF News</a></li>\n",
            "    \n",
            "        <li class=\"tier-2 element-5\" role=\"treeitem\"><a href=\"http://pycon.blogspot.com/\" title=\"PyCon Blog\">PyCon News</a></li>\n",
            "    \n",
            "</ul>\n",
            "\n",
            "        \n",
            "    </li>\n",
            "    \n",
            "    <li class=\"tier-1 element-7\">\n",
            "        <a href=\"/events/\" >Events</a>\n",
            "        \n",
            "            \n",
            "\n",
            "<ul class=\"subnav menu\">\n",
            "    \n",
            "        <li class=\"tier-2 element-1\" role=\"treeitem\"><a href=\"/events/python-events\" title=\"\">Python Events</a></li>\n",
            "    \n",
            "        <li class=\"tier-2 element-2\" role=\"treeitem\"><a href=\"/events/python-user-group/\" title=\"\">User Group Events</a></li>\n",
            "    \n",
            "        <li class=\"tier-2 element-3\" role=\"treeitem\"><a href=\"/events/python-events/past/\" title=\"\">Python Events Archive</a></li>\n",
            "    \n",
            "        <li class=\"tier-2 element-4\" role=\"treeitem\"><a href=\"/events/python-user-group/past/\" title=\"\">User Group Events Archive</a></li>\n",
            "    \n",
            "        <li class=\"tier-2 element-5\" role=\"treeitem\"><a href=\"https://wiki.python.org/moin/PythonEventsCalendar#Submitting_an_Event\" title=\"\">Submit an Event</a></li>\n",
            "    \n",
            "</ul>\n",
            "\n",
            "        \n",
            "    </li>\n",
            "    \n",
            "    <li class=\"tier-1 element-8\">\n",
            "        <a href=\"/dev/\" >Contributing</a>\n",
            "        \n",
            "            \n",
            "\n",
            "<ul class=\"subnav menu\">\n",
            "    \n",
            "        <li class=\"tier-2 element-1\" role=\"treeitem\"><a href=\"https://devguide.python.org/\" title=\"\">Developer&#39;s Guide</a></li>\n",
            "    \n",
            "        <li class=\"tier-2 element-2\" role=\"treeitem\"><a href=\"https://bugs.python.org/\" title=\"\">Issue Tracker</a></li>\n",
            "    \n",
            "        <li class=\"tier-2 element-3\" role=\"treeitem\"><a href=\"https://mail.python.org/mailman/listinfo/python-dev\" title=\"\">python-dev list</a></li>\n",
            "    \n",
            "        <li class=\"tier-2 element-4\" role=\"treeitem\"><a href=\"/dev/core-mentorship/\" title=\"\">Core Mentorship</a></li>\n",
            "    \n",
            "        <li class=\"tier-2 element-5\" role=\"treeitem\"><a href=\"/dev/security/\" title=\"\">Report a Security Issue</a></li>\n",
            "    \n",
            "</ul>\n",
            "\n",
            "        \n",
            "    </li>\n",
            "    \n",
            "</ul>\n",
            "\n",
            "\n",
            "                    <a id=\"back-to-top-2\" class=\"jump-link\" href=\"#python-network\"><span aria-hidden=\"true\" class=\"icon-arrow-up\"><span>&#9650;</span></span> Back to Top</a>\n",
            "                    \n",
            "\n",
            "                </div><!-- end .container -->\n",
            "            </div> <!-- end .main-footer-links -->\n",
            "\n",
            "            <div class=\"site-base\">\n",
            "                <div class=\"container\">\n",
            "                    \n",
            "                    <ul class=\"footer-links navigation menu do-not-print\" role=\"tree\">\n",
            "                        <li class=\"tier-1 element-1\"><a href=\"/about/help/\">Help &amp; <span class=\"say-no-more\">General</span> Contact</a></li>\n",
            "                        <li class=\"tier-1 element-2\"><a href=\"/community/diversity/\">Diversity <span class=\"say-no-more\">Initiatives</span></a></li>\n",
            "                        <li class=\"tier-1 element-3\"><a href=\"https://github.com/python/pythondotorg/issues\">Submit Website Bug</a></li>\n",
            "                        <li class=\"tier-1 element-4\">\n",
            "                            <a href=\"https://status.python.org/\">Status <span class=\"python-status-indicator-default\" id=\"python-status-indicator\"></span></a>\n",
            "                        </li>\n",
            "                    </ul>\n",
            "\n",
            "                    <div class=\"copyright\">\n",
            "                        <p><small>\n",
            "                            <span class=\"pre\">Copyright &copy;2001-2020.</span>\n",
            "                            &nbsp;<span class=\"pre\"><a href=\"/psf-landing/\">Python Software Foundation</a></span>\n",
            "                            &nbsp;<span class=\"pre\"><a href=\"/about/legal/\">Legal Statements</a></span>\n",
            "                            &nbsp;<span class=\"pre\"><a href=\"/privacy/\">Privacy Policy</a></span>\n",
            "                            &nbsp;<span class=\"pre\"><a href=\"/psf/sponsorship/sponsors/#heroku\">Powered by Heroku</a></span>\n",
            "                        </small></p>\n",
            "                    </div>\n",
            "\n",
            "                </div><!-- end .container -->\n",
            "            </div><!-- end .site-base -->\n",
            "\n",
            "        </footer>\n",
            "\n",
            "    </div><!-- end #touchnav-wrapper -->\n",
            "\n",
            "    \n",
            "    <script src=\"//ajax.googleapis.com/ajax/libs/jquery/1.8.2/jquery.min.js\"></script>\n",
            "    <script>window.jQuery || document.write('<script src=\"/static/js/libs/jquery-1.8.2.min.js\"><\\/script>')</script>\n",
            "\n",
            "    <script src=\"/static/js/libs/masonry.pkgd.min.js\"></script>\n",
            "    <script src=\"/static/js/libs/html-includes.js\"></script>\n",
            "\n",
            "    <script type=\"text/javascript\" src=\"/static/js/main-min.a3326162e3f0.js\" charset=\"utf-8\"></script>\n",
            "    \n",
            "\n",
            "    <!--[if lte IE 7]>\n",
            "    <script type=\"text/javascript\" src=\"/static/js/plugins/IE8-min.98b6ab00aab8.js\" charset=\"utf-8\"></script>\n",
            "    \n",
            "    \n",
            "    <![endif]-->\n",
            "\n",
            "    <!--[if lte IE 8]>\n",
            "    <script type=\"text/javascript\" src=\"/static/js/plugins/getComputedStyle-min.c3860be1d290.js\" charset=\"utf-8\"></script>\n",
            "    \n",
            "    \n",
            "    <![endif]-->\n",
            "\n",
            "    \n",
            "\n",
            "    \n",
            "    \n",
            "\n",
            "</body>\n",
            "</html>\n",
            "\n"
          ],
          "name": "stdout"
        }
      ]
    },
    {
      "cell_type": "code",
      "metadata": {
        "id": "jAbGCt8ZvpMD",
        "colab_type": "code",
        "colab": {
          "base_uri": "https://localhost:8080/",
          "height": 102
        },
        "outputId": "7e669d76-ef45-4002-adce-0d9eba0190e4"
      },
      "source": [
        "from random import shuffle\n",
        "\n",
        "male = ['David','Romio','James','Chris','Sam']\n",
        "female = ['Kate','Amy','Julia','Jennifer','Nicole']\n",
        "\n",
        "shuffle(male)\n",
        "shuffle(female)\n",
        "\n",
        "couples = zip(male, female)\n",
        "\n",
        "for i, couple in enumerate(couples):\n",
        "  print('Couple%d: [%s]-[%s]' %(i+1, couple[0],couple[1]))"
      ],
      "execution_count": 47,
      "outputs": [
        {
          "output_type": "stream",
          "text": [
            "Couple1: [Romio]-[Nicole]\n",
            "Couple2: [James]-[Kate]\n",
            "Couple3: [Sam]-[Jennifer]\n",
            "Couple4: [Chris]-[Amy]\n",
            "Couple5: [David]-[Julia]\n"
          ],
          "name": "stdout"
        }
      ]
    }
  ]
}