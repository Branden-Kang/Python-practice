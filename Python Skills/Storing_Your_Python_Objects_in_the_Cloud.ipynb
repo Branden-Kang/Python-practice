{
  "nbformat": 4,
  "nbformat_minor": 0,
  "metadata": {
    "colab": {
      "provenance": [],
      "authorship_tag": "ABX9TyMEO8X9RbhWVBJs/WJ0hF5Y"
    },
    "kernelspec": {
      "name": "python3",
      "display_name": "Python 3"
    },
    "language_info": {
      "name": "python"
    }
  },
  "cells": [
    {
      "cell_type": "markdown",
      "source": [
        "[Reference](https://betterprogramming.pub/storing-your-python-objects-in-the-cloud-9f8e0998622b)"
      ],
      "metadata": {
        "id": "ZpLJEY1aAnX2"
      }
    },
    {
      "cell_type": "code",
      "execution_count": 1,
      "metadata": {
        "id": "cnpQn1wOAg8K"
      },
      "outputs": [],
      "source": [
        "import pandas as pd\n",
        "import pickle\n",
        "import os\n",
        "\n",
        "#create the varivable\n",
        "df = pd.DataFrame({'Python modules': ['pandas', 'ellipsis', 'pickle', 'numpy'], 'experience': [8,9,7, 8]})\n",
        "\n",
        "#write the variable to my disk\n",
        "file_out = 'test.pickle'\n",
        "with open(file_out, 'wb') as c:\n",
        "    pickle.dump(df, c)\n",
        "#read the variable form my disk\n",
        "with open(file_out, 'rb') as c:\n",
        "    df = pickle.load(c)\n",
        "\n",
        "#remove the file from my disk\n",
        "os.remove(file_out)"
      ]
    },
    {
      "cell_type": "code",
      "source": [
        "import ellipsis as el\n",
        "\n",
        "#get a token\n",
        "token = el.account.logIn('demo_user', 'demo_user')\n",
        "\n",
        "#write the variable to the cloud\n",
        "pathId = el.path.file.addPickle(x = df, name = 'My data frame', token = token)['id']\n",
        "\n",
        "#read the varibble from the cloud\n",
        "df = el.path.file.getPickle(pathId = pathId, token = token)\n",
        "\n",
        "#remove the file\n",
        "el.path.trash(pathId = pathId, token = token)"
      ],
      "metadata": {
        "id": "UngGHUr6AyMK"
      },
      "execution_count": 3,
      "outputs": []
    }
  ]
}
