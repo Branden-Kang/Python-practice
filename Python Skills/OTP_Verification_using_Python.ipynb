{
  "nbformat": 4,
  "nbformat_minor": 0,
  "metadata": {
    "colab": {
      "name": "OTP Verification using Python.ipynb",
      "provenance": [],
      "authorship_tag": "ABX9TyPIGL2b6u12UIwJr1av1krP"
    },
    "kernelspec": {
      "name": "python3",
      "display_name": "Python 3"
    },
    "language_info": {
      "name": "python"
    }
  },
  "cells": [
    {
      "cell_type": "markdown",
      "metadata": {
        "id": "yEF756UsGSBH"
      },
      "source": [
        "[Reference](https://aka-trip.medium.com/otp-verification-using-python-598959e84f78)"
      ]
    },
    {
      "cell_type": "code",
      "metadata": {
        "id": "W9iBx1TzF9rU"
      },
      "source": [
        "import os\n",
        "import math\n",
        "import random\n",
        "import smtplib"
      ],
      "execution_count": 1,
      "outputs": []
    },
    {
      "cell_type": "code",
      "metadata": {
        "id": "ZEhugdbFGW95"
      },
      "source": [
        "digits = \"0123456789\"\n",
        "OTP = \"\"\n",
        "\n",
        "for i in range (6):\n",
        "    OTP += digits[math.floor(random.random()*10)]\n",
        "    \n",
        "otp = OTP + \" is your OTP\"\n",
        "message = otp"
      ],
      "execution_count": 2,
      "outputs": []
    },
    {
      "cell_type": "code",
      "metadata": {
        "id": "r1pHkcLCGZU6"
      },
      "source": [
        "s = smtplib.SMTP('smtp.gmail.com', 587)\n",
        "s.starttls()\n",
        "\n",
        "emailid = input(\"Enter your email: \")\n",
        "s.login(\"YOUR Gmail ID\", \"YOUR APP PASSWORD\")\n",
        "s.sendmail('&&&&&&',emailid,message)\n",
        "\n",
        "a = input(\"Enter your OTP >>: \")\n",
        "if a == OTP:\n",
        "    print(\"Verified\")\n",
        "else:\n",
        "    print(\"Please Check your OTP again\")"
      ],
      "execution_count": 3,
      "outputs": []
    }
  ]
}