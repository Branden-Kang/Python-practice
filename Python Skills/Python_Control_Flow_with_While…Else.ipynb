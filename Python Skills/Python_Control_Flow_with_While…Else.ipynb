{
  "nbformat": 4,
  "nbformat_minor": 0,
  "metadata": {
    "colab": {
      "name": "Python Control Flow with While…Else.ipynb",
      "provenance": [],
      "authorship_tag": "ABX9TyM+VC2/n92QEU8zMdmxCi5a"
    },
    "kernelspec": {
      "name": "python3",
      "display_name": "Python 3"
    },
    "language_info": {
      "name": "python"
    }
  },
  "cells": [
    {
      "cell_type": "markdown",
      "metadata": {
        "id": "zSI7J5Hmgi_1"
      },
      "source": [
        "[Reference](https://elfi-y.medium.com/python-control-flow-with-while-else-12fd5101a4ab)"
      ]
    },
    {
      "cell_type": "code",
      "metadata": {
        "colab": {
          "base_uri": "https://localhost:8080/"
        },
        "id": "GIkr2_bLd95J",
        "outputId": "989b800d-0dfc-4dce-f719-d6a09589739e"
      },
      "source": [
        "i = 4\n",
        "\n",
        "while i > 0:\n",
        "    print(i)\n",
        "    if i == 2:\n",
        "        break\n",
        "    i -= 1\n",
        "else:\n",
        "    print('no break')\n",
        "    print(i)"
      ],
      "execution_count": 2,
      "outputs": [
        {
          "output_type": "stream",
          "text": [
            "4\n",
            "3\n",
            "2\n"
          ],
          "name": "stdout"
        }
      ]
    }
  ]
}