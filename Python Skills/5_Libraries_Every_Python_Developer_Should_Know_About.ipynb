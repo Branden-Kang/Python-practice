{
  "nbformat": 4,
  "nbformat_minor": 0,
  "metadata": {
    "colab": {
      "provenance": [],
      "authorship_tag": "ABX9TyMEuvy0dgmEkRdowNUFM5RF"
    },
    "kernelspec": {
      "name": "python3",
      "display_name": "Python 3"
    },
    "language_info": {
      "name": "python"
    }
  },
  "cells": [
    {
      "cell_type": "markdown",
      "source": [
        "[Reference](https://medium.com/@hhartleyjs/5-libraries-every-python-developer-should-know-about-312cb9ca6400)"
      ],
      "metadata": {
        "id": "Akc-7UwvXCms"
      }
    },
    {
      "cell_type": "markdown",
      "source": [
        "# 1: AioHTTP\n",
        "https://docs.aiohttp.org/en/stable/"
      ],
      "metadata": {
        "id": "uwdT8FoXXFR9"
      }
    },
    {
      "cell_type": "markdown",
      "source": [
        "# 2: UVLoop\n",
        "https://github.com/MagicStack/uvloop"
      ],
      "metadata": {
        "id": "0ShTGMrwXHyZ"
      }
    },
    {
      "cell_type": "markdown",
      "source": [
        "# 3: Rich\n",
        "https://github.com/Textualize/rich?source=post_page-----312cb9ca6400--------------------------------"
      ],
      "metadata": {
        "id": "XFoPcSLSXJ0-"
      }
    },
    {
      "cell_type": "markdown",
      "source": [
        "# 4: Scrapy\n",
        "https://scrapy.org/"
      ],
      "metadata": {
        "id": "Go0qg-14XPXo"
      }
    },
    {
      "cell_type": "markdown",
      "source": [
        "# 5: Tensorflow\n",
        "https://www.tensorflow.org/"
      ],
      "metadata": {
        "id": "xQhSoDztXSLt"
      }
    }
  ]
}
