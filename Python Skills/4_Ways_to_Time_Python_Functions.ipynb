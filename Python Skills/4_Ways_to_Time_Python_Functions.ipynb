{
  "nbformat": 4,
  "nbformat_minor": 0,
  "metadata": {
    "colab": {
      "provenance": [],
      "authorship_tag": "ABX9TyMYReYJP950fo4Hrxxty1DU"
    },
    "kernelspec": {
      "name": "python3",
      "display_name": "Python 3"
    },
    "language_info": {
      "name": "python"
    }
  },
  "cells": [
    {
      "cell_type": "markdown",
      "source": [
        "[Reference](https://medium.com/bitgrit-data-science-publication/4-ways-to-time-python-functions-bb2e4fbe4121)"
      ],
      "metadata": {
        "id": "zKVK-G4VTh8k"
      }
    },
    {
      "cell_type": "code",
      "execution_count": 1,
      "metadata": {
        "id": "b_tktDl4Tamp"
      },
      "outputs": [],
      "source": [
        "def fibonacci(n):\n",
        "    \"\"\"Calculate the nth Fibonacci number using recursion.\"\"\"\n",
        "    if n <= 0:\n",
        "        return 0\n",
        "    elif n == 1:\n",
        "        return 1\n",
        "    else:\n",
        "        return fibonacci(n - 1) + fibonacci(n - 2)"
      ]
    },
    {
      "cell_type": "markdown",
      "source": [
        "# 1. perf_counter()"
      ],
      "metadata": {
        "id": "7q6iGIuLTmXW"
      }
    },
    {
      "cell_type": "code",
      "source": [
        "import time\n",
        "\n",
        "start = time.perf_counter()\n",
        "result = fibonacci(20)\n",
        "end = time.perf_counter()\n",
        "elapsed = end - start\n",
        "print(f'Time taken: {elapsed:.6f} seconds')"
      ],
      "metadata": {
        "colab": {
          "base_uri": "https://localhost:8080/"
        },
        "id": "NcBRbKgMTlU7",
        "outputId": "72efabfe-7c0c-4e46-9667-a9b529f3d0ee"
      },
      "execution_count": 2,
      "outputs": [
        {
          "output_type": "stream",
          "name": "stdout",
          "text": [
            "Time taken: 0.009587 seconds\n"
          ]
        }
      ]
    },
    {
      "cell_type": "markdown",
      "source": [
        "# 2. time.time()"
      ],
      "metadata": {
        "id": "7TUdAqprToZh"
      }
    },
    {
      "cell_type": "code",
      "source": [
        "import time\n",
        "\n",
        "start = time.time()\n",
        "result = fibonacci(20)\n",
        "end = time.time()\n",
        "elapsed = end - start\n",
        "print(f'Time taken: {elapsed:.6f} seconds')"
      ],
      "metadata": {
        "colab": {
          "base_uri": "https://localhost:8080/"
        },
        "id": "gQBj0L5UTngh",
        "outputId": "64aff89b-0f4d-46ee-81cb-800430ed4d26"
      },
      "execution_count": 3,
      "outputs": [
        {
          "output_type": "stream",
          "name": "stdout",
          "text": [
            "Time taken: 0.015931 seconds\n"
          ]
        }
      ]
    },
    {
      "cell_type": "markdown",
      "source": [
        "# 3. timeit"
      ],
      "metadata": {
        "id": "oFq2vrZNTqbz"
      }
    },
    {
      "cell_type": "code",
      "source": [
        "import timeit\n",
        "\n",
        "timer = timeit.Timer(lambda: fibonacci(20))\n",
        "elapsed = timer.timeit(1)\n",
        "print(f'Time taken: {elapsed:.6f} seconds')"
      ],
      "metadata": {
        "colab": {
          "base_uri": "https://localhost:8080/"
        },
        "id": "vfXRb9iJTpj9",
        "outputId": "c7ede8bf-ce59-4c60-b120-494a8982d00b"
      },
      "execution_count": 4,
      "outputs": [
        {
          "output_type": "stream",
          "name": "stdout",
          "text": [
            "Time taken: 0.007189 seconds\n"
          ]
        }
      ]
    },
    {
      "cell_type": "markdown",
      "source": [
        "# 4. cprofile"
      ],
      "metadata": {
        "id": "YaHYnyeMTsu2"
      }
    },
    {
      "cell_type": "code",
      "source": [
        "import cProfile\n",
        "\n",
        "cProfile.run('fibonacci(20)')"
      ],
      "metadata": {
        "colab": {
          "base_uri": "https://localhost:8080/"
        },
        "id": "jZoTb8MPTrk9",
        "outputId": "161e0ba5-9467-4b37-c930-69b01cf48075"
      },
      "execution_count": 5,
      "outputs": [
        {
          "output_type": "stream",
          "name": "stdout",
          "text": [
            "         21894 function calls (4 primitive calls) in 0.008 seconds\n",
            "\n",
            "   Ordered by: standard name\n",
            "\n",
            "   ncalls  tottime  percall  cumtime  percall filename:lineno(function)\n",
            "  21891/1    0.008    0.000    0.008    0.008 <ipython-input-1-84d4a085b5db>:1(fibonacci)\n",
            "        1    0.000    0.000    0.008    0.008 <string>:1(<module>)\n",
            "        1    0.000    0.000    0.008    0.008 {built-in method builtins.exec}\n",
            "        1    0.000    0.000    0.000    0.000 {method 'disable' of '_lsprof.Profiler' objects}\n",
            "\n",
            "\n"
          ]
        }
      ]
    },
    {
      "cell_type": "code",
      "source": [
        "import time\n",
        "import random\n",
        "\n",
        "def timeit(func):\n",
        "    def wrapper(*args, **kwargs):\n",
        "        start = time.perf_counter()\n",
        "        result = func(*args, **kwargs)\n",
        "        end = time.perf_counter()\n",
        "        elapsed = end - start\n",
        "        print(f'Time taken: {elapsed:.6f} seconds')\n",
        "        return result\n",
        "    return wrapper\n",
        "\n",
        "@timeit\n",
        "def calculate_pi(n):\n",
        "    \"\"\"Calculate and return an approximation of pi using the Monte Carlo method.\"\"\"\n",
        "    inside = 0\n",
        "    for i in range(n):\n",
        "        x = random.uniform(-1, 1)\n",
        "        y = random.uniform(-1, 1)\n",
        "        if x ** 2 + y ** 2 <= 1:\n",
        "            inside += 1\n",
        "    pi = (inside / n) * 4\n",
        "    return pi\n",
        "\n",
        "pi = calculate_pi(1000000)"
      ],
      "metadata": {
        "colab": {
          "base_uri": "https://localhost:8080/"
        },
        "id": "-TEcJZGHTzly",
        "outputId": "61d51390-c149-40ed-c570-1699e8147910"
      },
      "execution_count": 6,
      "outputs": [
        {
          "output_type": "stream",
          "name": "stdout",
          "text": [
            "Time taken: 1.103022 seconds\n"
          ]
        }
      ]
    }
  ]
}
