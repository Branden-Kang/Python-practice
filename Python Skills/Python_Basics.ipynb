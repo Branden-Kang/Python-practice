{
  "nbformat": 4,
  "nbformat_minor": 0,
  "metadata": {
    "colab": {
      "name": "Python Basics.ipynb",
      "provenance": [],
      "authorship_tag": "ABX9TyPI8MoJUYZj1hUPxYHZqguq"
    },
    "kernelspec": {
      "name": "python3",
      "display_name": "Python 3"
    },
    "language_info": {
      "name": "python"
    }
  },
  "cells": [
    {
      "cell_type": "markdown",
      "metadata": {
        "id": "zS9DS5c-6jZ7"
      },
      "source": [
        "[Reference](https://medium.com/swlh/python-basics-c2afa06b22fc)"
      ]
    },
    {
      "cell_type": "code",
      "metadata": {
        "colab": {
          "base_uri": "https://localhost:8080/"
        },
        "id": "d--WcjN36bpY",
        "outputId": "a0b4c1f1-c023-46aa-a8e7-e473b18628f9"
      },
      "source": [
        "print(\"Hello World\")"
      ],
      "execution_count": 1,
      "outputs": [
        {
          "output_type": "stream",
          "text": [
            "Hello World\n"
          ],
          "name": "stdout"
        }
      ]
    },
    {
      "cell_type": "code",
      "metadata": {
        "id": "Lz5uRnlH65oO"
      },
      "source": [
        "myVariable = 5         # integer \n",
        "myVariable = \"Hola!\"   # string"
      ],
      "execution_count": 2,
      "outputs": []
    },
    {
      "cell_type": "code",
      "metadata": {
        "colab": {
          "base_uri": "https://localhost:8080/"
        },
        "id": "DMEqIp9U66j3",
        "outputId": "c36bfc1e-ce55-40c9-bb3f-1b671fbd10db"
      },
      "source": [
        "myString = \"This is a string.\" # Assigning a string to myString variable\n",
        "# Operations on strings\n",
        "print(myString[0]) # T\n",
        "print(myString[-1]) # .\n",
        "\n",
        "# Slicing \n",
        "print(myString[5:]) # is a string.\n",
        "print(myString[:3]) # Thi\n",
        "print(myString[1:6]) # his i\n",
        "print(myString[::1]) # This is a string.\n",
        "print(myString[::2]) # Ti sasrn. \n",
        "\n",
        "# String Methods\n",
        "print(myString.strip()) # removes any whitespace from the beginning or the end\n",
        "print(myString.lower()) # this is a string.\n",
        "print(myString.upper()) # THIS IS A STRING.\n",
        "print(myString.replace(\"T\", \"I\")) # Ihis is a string\n",
        "\n",
        "# Concatenation\n",
        "a = \"he\"\n",
        "b = \"llo\"\n",
        "c = a+b\n",
        "print(c) # hello\n",
        "\n",
        "# String formatting\n",
        "x = \"Item one: {a} Item two: {b}\".format(a=\"1\",b=\"2\")\n",
        "print(x) # Item one: 1 Item two: 2\n",
        "\n",
        "# String Length\n",
        "print(len(myString)) #17"
      ],
      "execution_count": 3,
      "outputs": [
        {
          "output_type": "stream",
          "text": [
            "T\n",
            ".\n",
            "is a string.\n",
            "Thi\n",
            "his i\n",
            "This is a string.\n",
            "Ti sasrn.\n",
            "This is a string.\n",
            "this is a string.\n",
            "THIS IS A STRING.\n",
            "Ihis is a string.\n",
            "hello\n",
            "Item one: 1 Item two: 2\n",
            "17\n"
          ],
          "name": "stdout"
        }
      ]
    },
    {
      "cell_type": "code",
      "metadata": {
        "colab": {
          "base_uri": "https://localhost:8080/"
        },
        "id": "jr15bfsW672n",
        "outputId": "1e2acf3c-d5e8-41ff-f3dd-94b347266b13"
      },
      "source": [
        "myList =[1,2,\"bob\"]\n",
        "\n",
        "print(myList[1]) # 2\n",
        "\n",
        "myList.append(3) # adds an item to the end of the list\n",
        "print(myList) # [1,2,\"bob\",3] \n",
        "myList.append([4,5])\n",
        "print(myList) # [1,2,\"bob\",3,[4,5]]\n",
        "\n",
        "myList.extend([4,5])\n",
        "print(myList) # [1,2,\"bob\",[4,5],4,5]\n",
        "\n",
        "myList.reverse() # reverses the elements of the list\n",
        "print(myList) # [5,4,[4,5],\"bob\",2,1]\n",
        "\n",
        "myList.pop() # removes the item at the given index from the list\n",
        "print(myList) # [1,2,\"bob\",[4,5],4]\n",
        "\n",
        "list2 = [2,4,1]\n",
        "list2.sort() #sorts the elements of a list\n",
        "print(list2) # [1,2,4]\n",
        "\n",
        "list3 = [1,2,['x','y','z']]\n",
        "print(list3[2][1]) # y"
      ],
      "execution_count": 4,
      "outputs": [
        {
          "output_type": "stream",
          "text": [
            "2\n",
            "[1, 2, 'bob', 3]\n",
            "[1, 2, 'bob', 3, [4, 5]]\n",
            "[1, 2, 'bob', 3, [4, 5], 4, 5]\n",
            "[5, 4, [4, 5], 3, 'bob', 2, 1]\n",
            "[5, 4, [4, 5], 3, 'bob', 2]\n",
            "[1, 2, 4]\n",
            "y\n"
          ],
          "name": "stdout"
        }
      ]
    },
    {
      "cell_type": "code",
      "metadata": {
        "colab": {
          "base_uri": "https://localhost:8080/"
        },
        "id": "dxjnehfH69nh",
        "outputId": "2d5f1cce-d795-4ca4-afcf-cffed60d71d7"
      },
      "source": [
        "# empty dictionary declaration\n",
        "my_dict = {}\n",
        "\n",
        "# dictionary with integer keys\n",
        "my_dict = {1: 'apple', 2: 'ball'}\n",
        "\n",
        "# dictionary with mixed keys\n",
        "dic ={'1':'a','key2':'b'}\n",
        "print(dic['key2']) # b\n",
        "\n",
        "myDic ={'key1':{'123':['a',1,'b']}}\n",
        "print(myDic['key1']['123'][2]) # b\n",
        "\n",
        "# It is possible to update a value\n",
        "myDic['key1'] ='12'\n",
        "print(myDic) # {'key1': '12'}"
      ],
      "execution_count": 5,
      "outputs": [
        {
          "output_type": "stream",
          "text": [
            "b\n",
            "b\n",
            "{'key1': '12'}\n"
          ],
          "name": "stdout"
        }
      ]
    },
    {
      "cell_type": "code",
      "metadata": {
        "colab": {
          "base_uri": "https://localhost:8080/"
        },
        "id": "4_L2EU6L6_uf",
        "outputId": "a433e27f-5dff-4e29-b77b-7c896d54890f"
      },
      "source": [
        "# tuples\n",
        "t=(1,2,3)\n",
        "print(t[0]) # 1\n",
        "\n",
        "# sets\n",
        "x=set()\n",
        "x.add(1)\n",
        "x.add(2)\n",
        "print(x) # {1,2}"
      ],
      "execution_count": 6,
      "outputs": [
        {
          "output_type": "stream",
          "text": [
            "1\n",
            "{1, 2}\n"
          ],
          "name": "stdout"
        }
      ]
    },
    {
      "cell_type": "code",
      "metadata": {
        "colab": {
          "base_uri": "https://localhost:8080/"
        },
        "id": "agy2Uwtm7A0Q",
        "outputId": "57d5a91a-ce72-4c4d-d5f2-a647fec1ce72"
      },
      "source": [
        "# example\n",
        "a = 5\n",
        "b = 2\n",
        "if b > a:\n",
        "  print(\"b is greater than a\")\n",
        "elif a == b: \n",
        "  print(\"a and b are equal\")\n",
        "else:\n",
        "  print(\"a is greater than b\")\n",
        "# Output: a is greater than b"
      ],
      "execution_count": 7,
      "outputs": [
        {
          "output_type": "stream",
          "text": [
            "a is greater than b\n"
          ],
          "name": "stdout"
        }
      ]
    },
    {
      "cell_type": "code",
      "metadata": {
        "colab": {
          "base_uri": "https://localhost:8080/"
        },
        "id": "KBS8efFo7DYq",
        "outputId": "0dcbfe08-0c23-4370-98bf-8929e9df32b5"
      },
      "source": [
        "# for loop\n",
        "animals = [\"cat\", \"dog\", \"rabbit\"]\n",
        "for item in animals:\n",
        "  print(item)\n",
        "\n",
        "  \n",
        "# while loop\n",
        "j = 1\n",
        "while j < 5:\n",
        "  print(j)\n",
        "  j += 1"
      ],
      "execution_count": 8,
      "outputs": [
        {
          "output_type": "stream",
          "text": [
            "cat\n",
            "dog\n",
            "rabbit\n",
            "1\n",
            "2\n",
            "3\n",
            "4\n"
          ],
          "name": "stdout"
        }
      ]
    },
    {
      "cell_type": "code",
      "metadata": {
        "id": "3l0aPYQz7Fkb"
      },
      "source": [
        "# an ordinary for loop to create the out list\n",
        "x= [1,2,3,4]\n",
        "out= []\n",
        "for el in x:\n",
        "  out.append(el*2)\n",
        "# output [2,4,6,8]\n",
        "  \n",
        "# same output using list comprehension \n",
        "out = [ el *2 for el in x]"
      ],
      "execution_count": 9,
      "outputs": []
    },
    {
      "cell_type": "code",
      "metadata": {
        "colab": {
          "base_uri": "https://localhost:8080/"
        },
        "id": "GFAMF64m7Gym",
        "outputId": "f49298ec-108d-41b5-9aa7-2ae90514f9ff"
      },
      "source": [
        "def my_function(arg1):\n",
        "  print(arg1)\n",
        "\n",
        "my_function(\"Hello World\")\n",
        "\n",
        "# We use the return statement to let the function retun a value\n",
        "def addition_function(a,b):\n",
        "  return a+b\n",
        "\n",
        "print(addition_function(5,6)) # Output: 11"
      ],
      "execution_count": 10,
      "outputs": [
        {
          "output_type": "stream",
          "text": [
            "Hello World\n",
            "11\n"
          ],
          "name": "stdout"
        }
      ]
    },
    {
      "cell_type": "code",
      "metadata": {
        "colab": {
          "base_uri": "https://localhost:8080/"
        },
        "id": "Pb8V3s5U7IPm",
        "outputId": "c7f15a96-a065-463e-9f40-377dbc0bf43a"
      },
      "source": [
        "# syntax \n",
        "lambda arguments : expression\n",
        "# example of a lambda function that multiplies two numbers\n",
        "l = lambda x, y : x * y\n",
        "print(l(5, 6))"
      ],
      "execution_count": 11,
      "outputs": [
        {
          "output_type": "stream",
          "text": [
            "30\n"
          ],
          "name": "stdout"
        }
      ]
    },
    {
      "cell_type": "code",
      "metadata": {
        "colab": {
          "base_uri": "https://localhost:8080/"
        },
        "id": "tOIuRp-i7JU9",
        "outputId": "bd8802b4-c122-4259-87df-c78b32c8924d"
      },
      "source": [
        "# Create a circle class\n",
        "\n",
        "class Circle():\n",
        "  pi=3.14 # class attriute \n",
        "  def __init__(self,radius): # will be executed when the class is being initiated, this function is present in all classes\n",
        "    self.radius = radius\n",
        "  # self parameter is used to access variables that belongs to the class in our example it's the radius variable\n",
        " \n",
        "  def __str__(self): # a speacial method to be able to print the string representation of an object \n",
        "    return \"value of radius {}\".format(self.radius)\n",
        " \n",
        "  def area(self): # an object method that will calculate the area \n",
        "    return self.radius*2*Circle.pi\n",
        "  \n",
        "  def set_radius(self,new_radius): # an object method that will be used by an object of the class circle to set a new radius value for the object\n",
        "    self.radius=new_radius\n",
        "    \n",
        "  \n",
        "# Create Object\n",
        "c = Circle(2) \n",
        "print(c.radius) # Output : 2 \n",
        "# delete the c object \n",
        "del c"
      ],
      "execution_count": 12,
      "outputs": [
        {
          "output_type": "stream",
          "text": [
            "2\n"
          ],
          "name": "stdout"
        }
      ]
    },
    {
      "cell_type": "code",
      "metadata": {
        "colab": {
          "base_uri": "https://localhost:8080/"
        },
        "id": "FIfiD4WC7LSe",
        "outputId": "e263ac9d-a3b0-4e42-905d-01fa2989ecfe"
      },
      "source": [
        "# syntax with an example showing how to open a file and try to write to it \n",
        "try:\n",
        "    f=open('first.txt','r')\n",
        "    f.write(\"I'm trying to write in the first file\")\n",
        "except: # this exception will raise if the action of opening the file and/or writing to it fails \n",
        "    print(\"error, could not write in the file or file not found\")\n",
        "else: # in case of success of the precedent instructions\n",
        "    print(\"success\")\n",
        "    f.close() \n",
        "finally: # works even if there's an exception \n",
        "    print(\"I always work no matter\")\n",
        "  \n",
        "# output: error, could not write in the file or file not found\n",
        "# I always work no matter"
      ],
      "execution_count": 14,
      "outputs": [
        {
          "output_type": "stream",
          "text": [
            "error, could not write in the file or file not found\n",
            "I always work no matter\n"
          ],
          "name": "stdout"
        }
      ]
    },
    {
      "cell_type": "code",
      "metadata": {
        "colab": {
          "base_uri": "https://localhost:8080/"
        },
        "id": "e07MrP067Nz7",
        "outputId": "e5f6083d-f4e5-4f5c-8ab2-a83573e877dc"
      },
      "source": [
        "import re\n",
        "\n",
        "# syntax \n",
        "re.search(\"the string we're looking for\",\"the sought string\")\n",
        "\n",
        "#retrun the match index \n",
        "txt = \"this is a string with term1 \"\n",
        "match = re.search('term1',txt)\n",
        "print (match.start()) # the output will indicate the position of the string term1 in txt => 22 \n",
        "\n",
        "# split method returns a list where the string has been split at each match\n",
        "split_term = '@'\n",
        "email = 'user@gmail.com'\n",
        "print(re.split(split_term, email)) # output is ['user', 'gmail.com']\n",
        "\n",
        "# returns a list containing all matches for the searched term\n",
        "print(re.findall('match','test match in match')) # print(re.findall('match','test match in match')) \n",
        "\n",
        "# use of metacharacters\n",
        "# we'll create a function to be able to see multiple examples at once \n",
        "def multi_re_find(patterns,phrase):\n",
        "    for pat in patterns:\n",
        "        print(re.findall(pat,phrase))\n",
        "        \n",
        "# examples\n",
        "phrase =\"aba..aab..abababa...aabb\"\n",
        "pattern =['ab*'] # will look for an 'a' followed by 0  or more 'b'\n",
        "multi_re_find(pattern,phrase) # output: ['ab', 'a', 'a', 'ab', 'ab', 'ab', 'ab', 'a', 'a', 'abb']\n",
        "\n",
        "pattern =['ab+'] # will look for an 'a' followed by 1 or more 'b' \n",
        "multi_re_find(pattern,phrase) # output: ['ab', 'ab', 'ab', 'ab', 'ab', 'abb']\n",
        "\n",
        "pattern =['ab?'] # will look for an 'a' followed by 0 or 1 'b' \n",
        "multi_re_find(pattern,phrase) # output: ['ab', 'ab', 'ab', 'ab', 'ab', 'abb']\n",
        "\n",
        "pattern =['ab{1,3}'] # will look for an 'a' followed by 1 or 3 'b' \n",
        "multi_re_find(pattern,phrase) # output: ['ab', 'ab', 'ab', 'ab', 'abb']\n",
        "\n",
        "pattern =['a[ab]+'] # will look for an 'a' followed by either 1 or more 'a' or 1 or more 'b'\n",
        "multi_re_find(pattern,phrase) # output: ['aab', 'abababa', 'aabb']\n",
        "\n",
        "phrase = 'aa!bb?aba?'\n",
        "pattern =['[^!.?]+'] # will remove every ? and !\n",
        "multi_re_find(pattern,phrase) # output: ['aab', 'abababa', 'aabb']\n",
        "\n",
        "phrase = 'aa123aba'\n",
        "pattern =[r'\\d+']  # will retun the digit part  \n",
        "multi_re_find(pattern,phrase) # output: ['123']\n",
        "\n",
        "pattern =[r'\\D+']  # will return  the non digit par\n",
        "multi_re_find(pattern,phrase) # output: ['aa', 'aba']"
      ],
      "execution_count": 16,
      "outputs": [
        {
          "output_type": "stream",
          "text": [
            "22\n",
            "['user', 'gmail.com']\n",
            "['match', 'match']\n",
            "['ab', 'a', 'a', 'ab', 'ab', 'ab', 'ab', 'a', 'a', 'abb']\n",
            "['ab', 'ab', 'ab', 'ab', 'ab', 'abb']\n",
            "['ab', 'a', 'a', 'ab', 'ab', 'ab', 'ab', 'a', 'a', 'ab']\n",
            "['ab', 'ab', 'ab', 'ab', 'ab', 'abb']\n",
            "['aba', 'aab', 'abababa', 'aabb']\n",
            "['aa', 'bb', 'aba']\n",
            "['123']\n",
            "['aa', 'aba']\n"
          ],
          "name": "stdout"
        }
      ]
    }
  ]
}