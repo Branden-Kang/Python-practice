{
  "nbformat": 4,
  "nbformat_minor": 0,
  "metadata": {
    "colab": {
      "name": "Create Interactive Web Applications in Pure Python with PyWebIO.ipynb",
      "provenance": [],
      "authorship_tag": "ABX9TyOR2/S5CReokTZMerZdKuj/"
    },
    "kernelspec": {
      "name": "python3",
      "display_name": "Python 3"
    },
    "language_info": {
      "name": "python"
    }
  },
  "cells": [
    {
      "cell_type": "markdown",
      "metadata": {
        "id": "9nvp57zDWCDd"
      },
      "source": [
        "[Reference](https://medium.com/spatial-data-science/create-interactive-web-applications-in-pure-python-with-pywebio-f6a8acc9cf6c)"
      ]
    },
    {
      "cell_type": "code",
      "metadata": {
        "colab": {
          "base_uri": "https://localhost:8080/"
        },
        "id": "-emjnSSyV1j2",
        "outputId": "d854bb61-2b32-46dd-ba48-849f01cbff90"
      },
      "source": [
        "pip install -U pywebio"
      ],
      "execution_count": 1,
      "outputs": [
        {
          "output_type": "stream",
          "text": [
            "Collecting pywebio\n",
            "\u001b[?25l  Downloading https://files.pythonhosted.org/packages/c3/bb/7d1c997292bd00e4c9dd8877b1b0f546f1f6766ebbdd2936d1418a0f27b7/pywebio-1.2.3.tar.gz (317kB)\n",
            "\r\u001b[K     |█                               | 10kB 18.2MB/s eta 0:00:01\r\u001b[K     |██                              | 20kB 20.4MB/s eta 0:00:01\r\u001b[K     |███                             | 30kB 15.8MB/s eta 0:00:01\r\u001b[K     |████▏                           | 40kB 14.0MB/s eta 0:00:01\r\u001b[K     |█████▏                          | 51kB 7.8MB/s eta 0:00:01\r\u001b[K     |██████▏                         | 61kB 9.1MB/s eta 0:00:01\r\u001b[K     |███████▎                        | 71kB 8.7MB/s eta 0:00:01\r\u001b[K     |████████▎                       | 81kB 9.3MB/s eta 0:00:01\r\u001b[K     |█████████▎                      | 92kB 8.7MB/s eta 0:00:01\r\u001b[K     |██████████▎                     | 102kB 7.5MB/s eta 0:00:01\r\u001b[K     |███████████▍                    | 112kB 7.5MB/s eta 0:00:01\r\u001b[K     |████████████▍                   | 122kB 7.5MB/s eta 0:00:01\r\u001b[K     |█████████████▍                  | 133kB 7.5MB/s eta 0:00:01\r\u001b[K     |██████████████▌                 | 143kB 7.5MB/s eta 0:00:01\r\u001b[K     |███████████████▌                | 153kB 7.5MB/s eta 0:00:01\r\u001b[K     |████████████████▌               | 163kB 7.5MB/s eta 0:00:01\r\u001b[K     |█████████████████▋              | 174kB 7.5MB/s eta 0:00:01\r\u001b[K     |██████████████████▋             | 184kB 7.5MB/s eta 0:00:01\r\u001b[K     |███████████████████▋            | 194kB 7.5MB/s eta 0:00:01\r\u001b[K     |████████████████████▋           | 204kB 7.5MB/s eta 0:00:01\r\u001b[K     |█████████████████████▊          | 215kB 7.5MB/s eta 0:00:01\r\u001b[K     |██████████████████████▊         | 225kB 7.5MB/s eta 0:00:01\r\u001b[K     |███████████████████████▊        | 235kB 7.5MB/s eta 0:00:01\r\u001b[K     |████████████████████████▉       | 245kB 7.5MB/s eta 0:00:01\r\u001b[K     |█████████████████████████▉      | 256kB 7.5MB/s eta 0:00:01\r\u001b[K     |██████████████████████████▉     | 266kB 7.5MB/s eta 0:00:01\r\u001b[K     |████████████████████████████    | 276kB 7.5MB/s eta 0:00:01\r\u001b[K     |█████████████████████████████   | 286kB 7.5MB/s eta 0:00:01\r\u001b[K     |██████████████████████████████  | 296kB 7.5MB/s eta 0:00:01\r\u001b[K     |███████████████████████████████ | 307kB 7.5MB/s eta 0:00:01\r\u001b[K     |████████████████████████████████| 317kB 7.5MB/s \n",
            "\u001b[?25hRequirement already satisfied, skipping upgrade: tornado>=5.0 in /usr/local/lib/python3.7/dist-packages (from pywebio) (5.1.1)\n",
            "Collecting user-agents\n",
            "  Downloading https://files.pythonhosted.org/packages/8f/1c/20bb3d7b2bad56d881e3704131ddedbb16eb787101306887dff349064662/user_agents-2.2.0-py3-none-any.whl\n",
            "Collecting ua-parser>=0.10.0\n",
            "  Downloading https://files.pythonhosted.org/packages/9d/22/4d16b08db329fd440eed366d35e4dd7195c9babb4ecac5218f28081522a2/ua_parser-0.10.0-py2.py3-none-any.whl\n",
            "Building wheels for collected packages: pywebio\n",
            "  Building wheel for pywebio (setup.py) ... \u001b[?25l\u001b[?25hdone\n",
            "  Created wheel for pywebio: filename=pywebio-1.2.3-cp37-none-any.whl size=322618 sha256=84944a7961df97caa464018a45d46e24bc06e6e7c4c59d6850550e5cc6e1c5be\n",
            "  Stored in directory: /root/.cache/pip/wheels/f6/23/85/82f7b3b2b4bd9c3d171a9b3b1021aad59ec05d638e55954410\n",
            "Successfully built pywebio\n",
            "Installing collected packages: ua-parser, user-agents, pywebio\n",
            "Successfully installed pywebio-1.2.3 ua-parser-0.10.0 user-agents-2.2.0\n"
          ],
          "name": "stdout"
        }
      ]
    },
    {
      "cell_type": "code",
      "metadata": {
        "id": "2q96cnQCV2aC"
      },
      "source": [
        "from pywebio.input import *\n",
        "from pywebio.output import *\n",
        "\n",
        "data = input_group(\n",
        "    \"User data\",\n",
        "    [\n",
        "        input(\"What is your Name?\", name=\"name\", type=TEXT),\n",
        "        input(\"Input your age\", name=\"age\", type=NUMBER),\n",
        "        radio(\n",
        "            \"Which Continent?\",\n",
        "            name=\"continent\",\n",
        "            options=[\n",
        "                \"Africa\",\n",
        "                \"Asia\",\n",
        "                \"Australia\",\n",
        "                \"Europe\",\n",
        "                \"North America\",\n",
        "                \"South America\",\n",
        "            ],\n",
        "        ),\n",
        "        checkbox(\n",
        "            \"User Term\", name=\"agreement\", options=[\"I agree to terms and conditions\"]\n",
        "        ),\n",
        "    ],\n",
        ")"
      ],
      "execution_count": 3,
      "outputs": []
    }
  ]
}