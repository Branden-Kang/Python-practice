{
  "nbformat": 4,
  "nbformat_minor": 0,
  "metadata": {
    "colab": {
      "provenance": [],
      "authorship_tag": "ABX9TyNyTU9rXY9N8iDVRsecIXYU"
    },
    "kernelspec": {
      "name": "python3",
      "display_name": "Python 3"
    },
    "language_info": {
      "name": "python"
    }
  },
  "cells": [
    {
      "cell_type": "markdown",
      "source": [
        "[Reference](https://levelup.gitconnected.com/recursion-in-python-solve-complex-problems-with-simple-code-f6101fa2b65a)"
      ],
      "metadata": {
        "id": "jaUDwxQMl-o_"
      }
    },
    {
      "cell_type": "code",
      "execution_count": 1,
      "metadata": {
        "colab": {
          "base_uri": "https://localhost:8080/"
        },
        "id": "_lUTs8dLl43Q",
        "outputId": "c16ace20-1b55-4a9f-912f-32c7d9286738"
      },
      "outputs": [
        {
          "output_type": "stream",
          "name": "stdout",
          "text": [
            "[1, 2, 3, 4, 5, 6, 7, 8]\n"
          ]
        }
      ],
      "source": [
        "def get_list_of_lists1(arr):\n",
        "    new_arr = []\n",
        "    for subarr in arr:\n",
        "        new_arr += subarr\n",
        "    return new_arr\n",
        "\n",
        "def get_list_of_lists2(arr):\n",
        "    return [element for subarr in arr for element in subarr]\n",
        "\n",
        "arr = [[1,2,3], [4], [5,6,7,8]]\n",
        "a = get_list_of_lists1(arr)\n",
        "b = get_list_of_lists2(arr)\n",
        "assert a == b\n",
        "print(a)"
      ]
    },
    {
      "cell_type": "code",
      "source": [
        "def get_list_of_lists_of_lists(arr):\n",
        "    new_arr = []\n",
        "    for subarr in arr:\n",
        "        for subsubarr in subarr:\n",
        "            new_arr += subsubarr\n",
        "    return new_arr\n",
        "\n",
        "arr = [[[1],[2,3]], [[4]], [[5,6,7],[8]]]\n",
        "a = get_list_of_lists_of_lists(arr)\n",
        "print(a)"
      ],
      "metadata": {
        "colab": {
          "base_uri": "https://localhost:8080/"
        },
        "id": "4CAm1SuImBb5",
        "outputId": "9ccf7eb0-fcc2-4ca5-b0e8-338db7199d07"
      },
      "execution_count": 2,
      "outputs": [
        {
          "output_type": "stream",
          "name": "stdout",
          "text": [
            "[1, 2, 3, 4, 5, 6, 7, 8]\n"
          ]
        }
      ]
    },
    {
      "cell_type": "code",
      "source": [
        "def flatten_list_with_loop(arr):\n",
        "    # our final flattened array\n",
        "    new_arr = []\n",
        "    stack = arr\n",
        "    while len(stack) > 0:\n",
        "        # .pop() returns and removes the last element\n",
        "        element = stack.pop()\n",
        "        # if it's just an element, add to the list:\n",
        "        # end condition\n",
        "        if not isinstance(element, list):\n",
        "            new_arr.append(element)\n",
        "        else:\n",
        "            # here we add the elements inside the list to the stack,\n",
        "            # i.e. going one level deeper, for example: \n",
        "            # stack=[4, [1, 2, 3]]\n",
        "            # pop last: element = [1,2,3], stack = [4]\n",
        "            # add to stack again: stack = [4,1,2,3]\n",
        "            stack += element\n",
        "            \n",
        "    # finally, reverse the list\n",
        "            \n",
        "    # I could have done pop(0) and stack = element + stack instead\n",
        "    # and then not reverse here, but both pop(0) and stack = element + stack is slower\n",
        "    # than pop() and stack += element\n",
        "    return new_arr[::-1]\n",
        "\n",
        "arr = [1, [[2,[3]]], [4], [[5,6,7]],[[[[[8]]]]]]\n",
        "a = flatten_list_with_loop(arr)\n",
        "print(a)"
      ],
      "metadata": {
        "colab": {
          "base_uri": "https://localhost:8080/"
        },
        "id": "3mq0ll-imCd_",
        "outputId": "6c91f86f-cbcd-430a-ec95-efe974891709"
      },
      "execution_count": 3,
      "outputs": [
        {
          "output_type": "stream",
          "name": "stdout",
          "text": [
            "[1, 2, 3, 4, 5, 6, 7, 8]\n"
          ]
        }
      ]
    },
    {
      "cell_type": "code",
      "source": [
        "def flatten_list_with_recursion(arr):\n",
        "    # end condition\n",
        "    if not isinstance(arr, list):\n",
        "        return [arr]\n",
        "    \n",
        "    # otherwise, go deeper and add\n",
        "    # to new_arr each subresult\n",
        "    new_arr = []\n",
        "    for subarr in arr:\n",
        "        new_arr += flatten_list_with_recursion(subarr)\n",
        "    return new_arr\n",
        "\n",
        "arr = [1, [[2,[3]]], [4], [[5,6,7]],[[[[[8]]]]]]\n",
        "a = flatten_list_with_recursion(arr)\n",
        "print(a)"
      ],
      "metadata": {
        "colab": {
          "base_uri": "https://localhost:8080/"
        },
        "id": "G0X6fnlmmDzJ",
        "outputId": "6638537b-b701-4471-e167-453cdfb7fb55"
      },
      "execution_count": 4,
      "outputs": [
        {
          "output_type": "stream",
          "name": "stdout",
          "text": [
            "[1, 2, 3, 4, 5, 6, 7, 8]\n"
          ]
        }
      ]
    },
    {
      "cell_type": "code",
      "source": [
        "import traceback\n",
        "\n",
        "def simulated_stack_overflow(n):\n",
        "    if n == 0:\n",
        "        return 1\n",
        "    return simulated_stack_overflow(n-1)\n",
        "\n",
        "i = 0\n",
        "while True:\n",
        "    try:\n",
        "        simulated_stack_overflow(i)\n",
        "        i += 1\n",
        "    except:\n",
        "        print(\"Exception at \", i)\n",
        "        # => 2958\n",
        "        traceback.print_exc()\n",
        "        # => RecursionError: maximum recursion depth exceeded in comparison\n",
        "        break"
      ],
      "metadata": {
        "colab": {
          "base_uri": "https://localhost:8080/"
        },
        "id": "aZGQxcE-mE4i",
        "outputId": "35897e2b-7c4e-4e06-f7be-881b7780d577"
      },
      "execution_count": 5,
      "outputs": [
        {
          "output_type": "stream",
          "name": "stdout",
          "text": [
            "Exception at  962\n"
          ]
        },
        {
          "output_type": "stream",
          "name": "stderr",
          "text": [
            "Traceback (most recent call last):\n",
            "  File \"<ipython-input-5-c4b3906b9276>\", line 11, in <module>\n",
            "    simulated_stack_overflow(i)\n",
            "  File \"<ipython-input-5-c4b3906b9276>\", line 6, in simulated_stack_overflow\n",
            "    return simulated_stack_overflow(n-1)\n",
            "  File \"<ipython-input-5-c4b3906b9276>\", line 6, in simulated_stack_overflow\n",
            "    return simulated_stack_overflow(n-1)\n",
            "  File \"<ipython-input-5-c4b3906b9276>\", line 6, in simulated_stack_overflow\n",
            "    return simulated_stack_overflow(n-1)\n",
            "  [Previous line repeated 959 more times]\n",
            "  File \"<ipython-input-5-c4b3906b9276>\", line 4, in simulated_stack_overflow\n",
            "    if n == 0:\n",
            "RecursionError: maximum recursion depth exceeded in comparison\n"
          ]
        }
      ]
    },
    {
      "cell_type": "code",
      "source": [
        "import sys\n",
        "sys.setrecursionlimit(5000)"
      ],
      "metadata": {
        "id": "_h6SM9xPmG4U"
      },
      "execution_count": 6,
      "outputs": []
    }
  ]
}
