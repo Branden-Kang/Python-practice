{
  "nbformat": 4,
  "nbformat_minor": 0,
  "metadata": {
    "colab": {
      "name": "Sets to Count Occurrences in Python.ipynb",
      "provenance": [],
      "authorship_tag": "ABX9TyMhYN0Coks7FV/9n1odysUy"
    },
    "kernelspec": {
      "name": "python3",
      "display_name": "Python 3"
    }
  },
  "cells": [
    {
      "cell_type": "markdown",
      "metadata": {
        "id": "94yAebCTva3z"
      },
      "source": [
        "[Reference](https://medium.com/code-85/use-sets-to-count-occurrences-in-python-efec802aa3ad)"
      ]
    },
    {
      "cell_type": "code",
      "metadata": {
        "id": "5VZ6tMZMvqZz"
      },
      "source": [
        "def countOccurrences(my_list, term):\n",
        "  counts = {}\n",
        "  \n",
        "  for row in my_list:\n",
        "    if row[term] not in counts:\n",
        "      counts[row[term]] = 0\n",
        "    \n",
        "    counts[term] += 1\n",
        "    \n",
        "  return counts"
      ],
      "execution_count": 2,
      "outputs": []
    },
    {
      "cell_type": "code",
      "metadata": {
        "id": "f9eRqTYMv2gJ"
      },
      "source": [
        "def countOccurrences(my_list, term):\n",
        "  return {\n",
        "    val: len([True for row in my_list if row[term] == val])\n",
        "    for val in {x[term] for x in my_list}\n",
        "  }"
      ],
      "execution_count": 4,
      "outputs": []
    },
    {
      "cell_type": "code",
      "metadata": {
        "colab": {
          "base_uri": "https://localhost:8080/",
          "height": 37
        },
        "id": "zJnynfmAvbEh",
        "outputId": "10b0b17d-132a-49f8-abb3-6f53ca580270"
      },
      "source": [
        "records = [\n",
        "  { \"id\": 1, \"status\": \"Pass\" },\n",
        "  { \"id\": 2, \"status\": \"Fail\" },\n",
        "  { \"id\": 3, \"status\": \"Pass\" },\n",
        "  { \"id\": 4, \"status\": \"Exempt\" }\n",
        "]\n",
        "\n",
        "counts = countOccurrences(records, \"status\")\n",
        "\"\"\"\n",
        "{\n",
        "  \"Pass\": 2,\n",
        "  \"Fail\": 1,\n",
        "  \"Exempt\": 1\n",
        "}\n",
        "\"\"\""
      ],
      "execution_count": 5,
      "outputs": [
        {
          "output_type": "execute_result",
          "data": {
            "application/vnd.google.colaboratory.intrinsic+json": {
              "type": "string"
            },
            "text/plain": [
              "'\\n{\\n  \"Pass\": 2,\\n  \"Fail\": 1,\\n  \"Exempt\": 1\\n}\\n'"
            ]
          },
          "metadata": {
            "tags": []
          },
          "execution_count": 5
        }
      ]
    }
  ]
}