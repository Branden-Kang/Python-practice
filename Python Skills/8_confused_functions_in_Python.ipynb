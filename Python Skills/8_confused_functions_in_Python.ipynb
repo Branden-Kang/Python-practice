{
  "nbformat": 4,
  "nbformat_minor": 0,
  "metadata": {
    "colab": {
      "name": "8 confused functions in Python.ipynb",
      "provenance": [],
      "collapsed_sections": [],
      "authorship_tag": "ABX9TyOcWSu1mzWhb+6XIhhPyw0R"
    },
    "kernelspec": {
      "name": "python3",
      "display_name": "Python 3"
    }
  },
  "cells": [
    {
      "cell_type": "markdown",
      "metadata": {
        "id": "04o3bpjygMJJ"
      },
      "source": [
        "[Reference](https://medium.com/better-programming/are-you-confused-by-these-python-functions-8e9e7f3d7605)"
      ]
    },
    {
      "cell_type": "markdown",
      "metadata": {
        "id": "r8H33GE_eRLt"
      },
      "source": [
        "# 1. sorted() vs. sort()"
      ]
    },
    {
      "cell_type": "code",
      "metadata": {
        "id": "bwK5tkGZdrrH",
        "outputId": "3d508563-29fa-4547-d838-69932be93650",
        "colab": {
          "base_uri": "https://localhost:8080/",
          "height": 34
        }
      },
      "source": [
        "sorted([7, 4, 3, 2], reverse=True)"
      ],
      "execution_count": 1,
      "outputs": [
        {
          "output_type": "execute_result",
          "data": {
            "text/plain": [
              "[7, 4, 3, 2]"
            ]
          },
          "metadata": {
            "tags": []
          },
          "execution_count": 1
        }
      ]
    },
    {
      "cell_type": "code",
      "metadata": {
        "id": "rt7Yp7aveSw3",
        "outputId": "4bda6fff-4837-4f73-c5e1-1ee45827d391",
        "colab": {
          "base_uri": "https://localhost:8080/",
          "height": 34
        }
      },
      "source": [
        "sorted({7: 'seven', 2: 'two'})"
      ],
      "execution_count": 2,
      "outputs": [
        {
          "output_type": "execute_result",
          "data": {
            "text/plain": [
              "[2, 7]"
            ]
          },
          "metadata": {
            "tags": []
          },
          "execution_count": 2
        }
      ]
    },
    {
      "cell_type": "code",
      "metadata": {
        "id": "xOMFzW9beTr8",
        "outputId": "cc72317a-1937-4921-d98d-8300f3eb3327",
        "colab": {
          "base_uri": "https://localhost:8080/",
          "height": 34
        }
      },
      "source": [
        "sorted([('nine', 9), ('one', 1)], key=lambda x: x[-1])"
      ],
      "execution_count": 3,
      "outputs": [
        {
          "output_type": "execute_result",
          "data": {
            "text/plain": [
              "[('one', 1), ('nine', 9)]"
            ]
          },
          "metadata": {
            "tags": []
          },
          "execution_count": 3
        }
      ]
    },
    {
      "cell_type": "code",
      "metadata": {
        "id": "4TZM3BFTeUt1",
        "outputId": "a2c5a0f0-b6bf-4452-9d84-56ad424bf2b7",
        "colab": {
          "base_uri": "https://localhost:8080/",
          "height": 34
        }
      },
      "source": [
        "sorted('hello')"
      ],
      "execution_count": 4,
      "outputs": [
        {
          "output_type": "execute_result",
          "data": {
            "text/plain": [
              "['e', 'h', 'l', 'l', 'o']"
            ]
          },
          "metadata": {
            "tags": []
          },
          "execution_count": 4
        }
      ]
    },
    {
      "cell_type": "code",
      "metadata": {
        "id": "jpM0RpDheVhc"
      },
      "source": [
        "grades = [{'name': 'John', 'grade': 99},\n",
        "          {'name': 'Mary', 'grade': 95},\n",
        "          {'name': 'Zack', 'grade': 97}]"
      ],
      "execution_count": 5,
      "outputs": []
    },
    {
      "cell_type": "code",
      "metadata": {
        "id": "VU8MnWNZeZs9"
      },
      "source": [
        "grades.sort(key=lambda x: x['grade'], reverse=True)"
      ],
      "execution_count": 6,
      "outputs": []
    },
    {
      "cell_type": "code",
      "metadata": {
        "id": "WkYrYt9eeZ_Q",
        "outputId": "8c81f488-09b8-4260-c029-7c739c9c5654",
        "colab": {
          "base_uri": "https://localhost:8080/",
          "height": 68
        }
      },
      "source": [
        "grades"
      ],
      "execution_count": 7,
      "outputs": [
        {
          "output_type": "execute_result",
          "data": {
            "text/plain": [
              "[{'grade': 99, 'name': 'John'},\n",
              " {'grade': 97, 'name': 'Zack'},\n",
              " {'grade': 95, 'name': 'Mary'}]"
            ]
          },
          "metadata": {
            "tags": []
          },
          "execution_count": 7
        }
      ]
    },
    {
      "cell_type": "markdown",
      "metadata": {
        "id": "7am1LjfHerBz"
      },
      "source": [
        "# 2. reversed() vs. reverse()"
      ]
    },
    {
      "cell_type": "code",
      "metadata": {
        "id": "6s89AD88ea4m",
        "outputId": "0b2bf799-7494-4726-f359-7e1389d8c61c",
        "colab": {
          "base_uri": "https://localhost:8080/",
          "height": 34
        }
      },
      "source": [
        "reversed([1, 2, 3])"
      ],
      "execution_count": 8,
      "outputs": [
        {
          "output_type": "execute_result",
          "data": {
            "text/plain": [
              "<list_reverseiterator at 0x7f5eca9356d8>"
            ]
          },
          "metadata": {
            "tags": []
          },
          "execution_count": 8
        }
      ]
    },
    {
      "cell_type": "code",
      "metadata": {
        "id": "4dV14nr4es6j",
        "outputId": "f0299e28-e28c-435c-865d-01f9366fa5ca",
        "colab": {
          "base_uri": "https://localhost:8080/",
          "height": 34
        }
      },
      "source": [
        "list(reversed((1, 2, 3)))"
      ],
      "execution_count": 9,
      "outputs": [
        {
          "output_type": "execute_result",
          "data": {
            "text/plain": [
              "[3, 2, 1]"
            ]
          },
          "metadata": {
            "tags": []
          },
          "execution_count": 9
        }
      ]
    },
    {
      "cell_type": "code",
      "metadata": {
        "id": "HmO3l3bCettz",
        "outputId": "e62ee24a-4975-4180-d8e4-eb31d9929430",
        "colab": {
          "base_uri": "https://localhost:8080/",
          "height": 34
        }
      },
      "source": [
        "tuple(reversed('hello'))"
      ],
      "execution_count": 10,
      "outputs": [
        {
          "output_type": "execute_result",
          "data": {
            "text/plain": [
              "('o', 'l', 'l', 'e', 'h')"
            ]
          },
          "metadata": {
            "tags": []
          },
          "execution_count": 10
        }
      ]
    },
    {
      "cell_type": "code",
      "metadata": {
        "id": "purFh_TfeukJ",
        "outputId": "b4a032b3-de9e-4e4f-9db3-c09d80c728f0",
        "colab": {
          "base_uri": "https://localhost:8080/",
          "height": 34
        }
      },
      "source": [
        "numbers = [1, 2, 3, 4]\n",
        "numbers.reverse()\n",
        "numbers"
      ],
      "execution_count": 12,
      "outputs": [
        {
          "output_type": "execute_result",
          "data": {
            "text/plain": [
              "[4, 3, 2, 1]"
            ]
          },
          "metadata": {
            "tags": []
          },
          "execution_count": 12
        }
      ]
    },
    {
      "cell_type": "markdown",
      "metadata": {
        "id": "Qcvt--Sie1BT"
      },
      "source": [
        "# 3. append() vs. extend()"
      ]
    },
    {
      "cell_type": "code",
      "metadata": {
        "id": "rUVXAKxuevjp"
      },
      "source": [
        "integers = [1, 2, 3]"
      ],
      "execution_count": 13,
      "outputs": []
    },
    {
      "cell_type": "code",
      "metadata": {
        "id": "1XLEKkM5e3AI"
      },
      "source": [
        "integers.append(4)"
      ],
      "execution_count": 14,
      "outputs": []
    },
    {
      "cell_type": "code",
      "metadata": {
        "id": "02_ZZwKHe30Z"
      },
      "source": [
        "integers.append([5, 6])"
      ],
      "execution_count": 15,
      "outputs": []
    },
    {
      "cell_type": "code",
      "metadata": {
        "id": "3zemDRq5e4l2",
        "outputId": "e58ea454-4da9-419a-aea2-449dadcdbbf3",
        "colab": {
          "base_uri": "https://localhost:8080/",
          "height": 34
        }
      },
      "source": [
        "integers"
      ],
      "execution_count": 16,
      "outputs": [
        {
          "output_type": "execute_result",
          "data": {
            "text/plain": [
              "[1, 2, 3, 4, [5, 6]]"
            ]
          },
          "metadata": {
            "tags": []
          },
          "execution_count": 16
        }
      ]
    },
    {
      "cell_type": "code",
      "metadata": {
        "id": "tBE2dtObe55W"
      },
      "source": [
        "integers.extend({7, 8, 9})"
      ],
      "execution_count": 17,
      "outputs": []
    },
    {
      "cell_type": "code",
      "metadata": {
        "id": "uUJHooSDe7GK"
      },
      "source": [
        "integers.extend('hello')"
      ],
      "execution_count": 18,
      "outputs": []
    },
    {
      "cell_type": "code",
      "metadata": {
        "id": "eT8CTRYve8Hg",
        "outputId": "49364e90-9176-412e-e82c-7adc517872ae",
        "colab": {
          "base_uri": "https://localhost:8080/",
          "height": 34
        }
      },
      "source": [
        "integers"
      ],
      "execution_count": 19,
      "outputs": [
        {
          "output_type": "execute_result",
          "data": {
            "text/plain": [
              "[1, 2, 3, 4, [5, 6], 8, 9, 7, 'h', 'e', 'l', 'l', 'o']"
            ]
          },
          "metadata": {
            "tags": []
          },
          "execution_count": 19
        }
      ]
    },
    {
      "cell_type": "markdown",
      "metadata": {
        "id": "ROjUtj7kfHT9"
      },
      "source": [
        "# 4. is vs. =="
      ]
    },
    {
      "cell_type": "code",
      "metadata": {
        "id": "-yyVqVvve9lw"
      },
      "source": [
        "def compare_two_objects(obj0, obj1):\n",
        "    print(\"obj0 id:\", id(obj0), \"obj1 id:\", id(obj1))\n",
        "    print(\"Compare Identity:\", obj0 is obj1)\n",
        "    print(\"Compare Value:\", obj0 == obj1)"
      ],
      "execution_count": 20,
      "outputs": []
    },
    {
      "cell_type": "code",
      "metadata": {
        "id": "W0GWpiIgfLbh",
        "outputId": "1572b4a3-f444-4dec-9fb8-67e0d79e5382",
        "colab": {
          "base_uri": "https://localhost:8080/",
          "height": 68
        }
      },
      "source": [
        "compare_two_objects([1, 2, 3], [1, 2, 3])"
      ],
      "execution_count": 21,
      "outputs": [
        {
          "output_type": "stream",
          "text": [
            "obj0 id: 140045111578888 obj1 id: 140045111138888\n",
            "Compare Identity: False\n",
            "Compare Value: True\n"
          ],
          "name": "stdout"
        }
      ]
    },
    {
      "cell_type": "code",
      "metadata": {
        "id": "H7F-x7qgfM4G",
        "outputId": "db6cd11b-a54c-4f81-c3ed-f560ff294ab2",
        "colab": {
          "base_uri": "https://localhost:8080/",
          "height": 68
        }
      },
      "source": [
        "compare_two_objects([1, 2].reverse(), None)"
      ],
      "execution_count": 22,
      "outputs": [
        {
          "output_type": "stream",
          "text": [
            "obj0 id: 10306432 obj1 id: 10306432\n",
            "Compare Identity: True\n",
            "Compare Value: True\n"
          ],
          "name": "stdout"
        }
      ]
    },
    {
      "cell_type": "markdown",
      "metadata": {
        "id": "PJxXKhCPfQs_"
      },
      "source": [
        "# 5. remove(), pop() vs. clear()"
      ]
    },
    {
      "cell_type": "code",
      "metadata": {
        "id": "rhxwipplfO6M",
        "outputId": "c5ad7269-1a1d-4608-f1ba-78a14bc83fcc",
        "colab": {
          "base_uri": "https://localhost:8080/",
          "height": 34
        }
      },
      "source": [
        "integers = [1, 2, 3, 4, 5]\n",
        "integers.remove(1)\n",
        "integers"
      ],
      "execution_count": 23,
      "outputs": [
        {
          "output_type": "execute_result",
          "data": {
            "text/plain": [
              "[2, 3, 4, 5]"
            ]
          },
          "metadata": {
            "tags": []
          },
          "execution_count": 23
        }
      ]
    },
    {
      "cell_type": "code",
      "metadata": {
        "id": "WgP4NNbKfTyX",
        "outputId": "4af29537-22ff-4b1e-cffb-5d903b55ea5c",
        "colab": {
          "base_uri": "https://localhost:8080/",
          "height": 34
        }
      },
      "source": [
        "integers.pop()"
      ],
      "execution_count": 24,
      "outputs": [
        {
          "output_type": "execute_result",
          "data": {
            "text/plain": [
              "5"
            ]
          },
          "metadata": {
            "tags": []
          },
          "execution_count": 24
        }
      ]
    },
    {
      "cell_type": "code",
      "metadata": {
        "id": "V8qNtr0tfVNR",
        "outputId": "24929b37-d9e8-47c7-d1a2-6a2b9a330f9f",
        "colab": {
          "base_uri": "https://localhost:8080/",
          "height": 34
        }
      },
      "source": [
        "integers"
      ],
      "execution_count": 25,
      "outputs": [
        {
          "output_type": "execute_result",
          "data": {
            "text/plain": [
              "[2, 3, 4]"
            ]
          },
          "metadata": {
            "tags": []
          },
          "execution_count": 25
        }
      ]
    },
    {
      "cell_type": "code",
      "metadata": {
        "id": "iHUwBpcZfWBu",
        "outputId": "d2ffff2c-1de6-46e7-c3cc-1a89122dc82f",
        "colab": {
          "base_uri": "https://localhost:8080/",
          "height": 34
        }
      },
      "source": [
        "integers.pop(0)"
      ],
      "execution_count": 26,
      "outputs": [
        {
          "output_type": "execute_result",
          "data": {
            "text/plain": [
              "2"
            ]
          },
          "metadata": {
            "tags": []
          },
          "execution_count": 26
        }
      ]
    },
    {
      "cell_type": "code",
      "metadata": {
        "id": "iUCRWsIcfXKJ",
        "outputId": "bb93259a-bc0a-4a35-e445-e2001c544a29",
        "colab": {
          "base_uri": "https://localhost:8080/",
          "height": 34
        }
      },
      "source": [
        "integers"
      ],
      "execution_count": 27,
      "outputs": [
        {
          "output_type": "execute_result",
          "data": {
            "text/plain": [
              "[3, 4]"
            ]
          },
          "metadata": {
            "tags": []
          },
          "execution_count": 27
        }
      ]
    },
    {
      "cell_type": "code",
      "metadata": {
        "id": "yGRj0Xf4fYWQ"
      },
      "source": [
        "integers.clear()"
      ],
      "execution_count": 28,
      "outputs": []
    },
    {
      "cell_type": "code",
      "metadata": {
        "id": "n--LmNgjfZWx",
        "outputId": "ced73138-8933-4ff6-8da6-78ad287651a9",
        "colab": {
          "base_uri": "https://localhost:8080/",
          "height": 34
        }
      },
      "source": [
        "integers"
      ],
      "execution_count": 29,
      "outputs": [
        {
          "output_type": "execute_result",
          "data": {
            "text/plain": [
              "[]"
            ]
          },
          "metadata": {
            "tags": []
          },
          "execution_count": 29
        }
      ]
    },
    {
      "cell_type": "markdown",
      "metadata": {
        "id": "kgI13r6Dfg6s"
      },
      "source": [
        "# 6. any() vs. all()"
      ]
    },
    {
      "cell_type": "code",
      "metadata": {
        "id": "a2Ml1eHOfaMY"
      },
      "source": [
        "def check_any_all(iterable):\n",
        "    print(f\"any({iterable!r}): {any(iterable)}\")\n",
        "    print(f\"all({iterable!r}): {all(iterable)}\")"
      ],
      "execution_count": 30,
      "outputs": []
    },
    {
      "cell_type": "code",
      "metadata": {
        "id": "gZaxOP-sflBv",
        "outputId": "7c277fca-965a-4452-89a3-b634924695fd",
        "colab": {
          "base_uri": "https://localhost:8080/",
          "height": 51
        }
      },
      "source": [
        "check_any_all([1, False, 2])"
      ],
      "execution_count": 31,
      "outputs": [
        {
          "output_type": "stream",
          "text": [
            "any([1, False, 2]): True\n",
            "all([1, False, 2]): False\n"
          ],
          "name": "stdout"
        }
      ]
    },
    {
      "cell_type": "code",
      "metadata": {
        "id": "YUTOiOgkflJ2",
        "outputId": "44446cca-2c12-4fe0-b17d-83609a756a9a",
        "colab": {
          "base_uri": "https://localhost:8080/",
          "height": 51
        }
      },
      "source": [
        "check_any_all([True, True, True])"
      ],
      "execution_count": 32,
      "outputs": [
        {
          "output_type": "stream",
          "text": [
            "any([True, True, True]): True\n",
            "all([True, True, True]): True\n"
          ],
          "name": "stdout"
        }
      ]
    },
    {
      "cell_type": "code",
      "metadata": {
        "id": "m-j6XpDlfonX",
        "outputId": "85ef9e02-06ce-4ac2-d70e-a823a1dbd97b",
        "colab": {
          "base_uri": "https://localhost:8080/",
          "height": 51
        }
      },
      "source": [
        "check_any_all(tuple())"
      ],
      "execution_count": 34,
      "outputs": [
        {
          "output_type": "stream",
          "text": [
            "any(()): False\n",
            "all(()): True\n"
          ],
          "name": "stdout"
        }
      ]
    },
    {
      "cell_type": "markdown",
      "metadata": {
        "id": "wDjgdg3Jfwcr"
      },
      "source": [
        "# 7. issuperset() vs. issubset()"
      ]
    },
    {
      "cell_type": "code",
      "metadata": {
        "id": "tatQwQQ_fqkn"
      },
      "source": [
        "def check_set_relation(set0, set1):\n",
        "    print(f\"Is {set0} a superset of {set1}?\", set0.issuperset(set1))\n",
        "    print(f\"Is {set0} a subset of {set1}?\", set0.issubset(set1))"
      ],
      "execution_count": 35,
      "outputs": []
    },
    {
      "cell_type": "code",
      "metadata": {
        "id": "Bt0X7xMqfz_3",
        "outputId": "7fc10438-7ddd-40cf-edbd-54946107e916",
        "colab": {
          "base_uri": "https://localhost:8080/",
          "height": 51
        }
      },
      "source": [
        "check_set_relation({1, 2, 3}, {2, 3})"
      ],
      "execution_count": 36,
      "outputs": [
        {
          "output_type": "stream",
          "text": [
            "Is {1, 2, 3} a superset of {2, 3}? True\n",
            "Is {1, 2, 3} a subset of {2, 3}? False\n"
          ],
          "name": "stdout"
        }
      ]
    },
    {
      "cell_type": "code",
      "metadata": {
        "id": "r59-CKFsf2Eq",
        "outputId": "5ec416bd-b9ed-4f98-b6f8-0496acfd52d3",
        "colab": {
          "base_uri": "https://localhost:8080/",
          "height": 51
        }
      },
      "source": [
        "check_set_relation({3, 4}, {3, 4, 5})"
      ],
      "execution_count": 37,
      "outputs": [
        {
          "output_type": "stream",
          "text": [
            "Is {3, 4} a superset of {3, 4, 5}? False\n",
            "Is {3, 4} a subset of {3, 4, 5}? True\n"
          ],
          "name": "stdout"
        }
      ]
    },
    {
      "cell_type": "markdown",
      "metadata": {
        "id": "bnZfOPzcf7KC"
      },
      "source": [
        "# 8. zip() vs. zip_longest()"
      ]
    },
    {
      "cell_type": "code",
      "metadata": {
        "id": "Q8KISd9bf5f9"
      },
      "source": [
        "list0 = [1, 2, 3]\n",
        "list1 = ['a', 'b', 'c', 'd', 'e']"
      ],
      "execution_count": 38,
      "outputs": []
    },
    {
      "cell_type": "code",
      "metadata": {
        "id": "IFNocpH4f9_H",
        "outputId": "400b3562-34f7-4ff8-f42a-6f4784dcb0cd",
        "colab": {
          "base_uri": "https://localhost:8080/",
          "height": 34
        }
      },
      "source": [
        "zipped0 = list(zip(list0, list1))\n",
        "zipped0"
      ],
      "execution_count": 39,
      "outputs": [
        {
          "output_type": "execute_result",
          "data": {
            "text/plain": [
              "[(1, 'a'), (2, 'b'), (3, 'c')]"
            ]
          },
          "metadata": {
            "tags": []
          },
          "execution_count": 39
        }
      ]
    },
    {
      "cell_type": "code",
      "metadata": {
        "id": "xMgqNsPkf_4V",
        "outputId": "e5c7b0ad-16dc-44a1-dbdf-668f3bdd507a",
        "colab": {
          "base_uri": "https://localhost:8080/",
          "height": 34
        }
      },
      "source": [
        "from itertools import zip_longest\n",
        "zipped1 = list(zip_longest(list0, list1))\n",
        "zipped1"
      ],
      "execution_count": 40,
      "outputs": [
        {
          "output_type": "execute_result",
          "data": {
            "text/plain": [
              "[(1, 'a'), (2, 'b'), (3, 'c'), (None, 'd'), (None, 'e')]"
            ]
          },
          "metadata": {
            "tags": []
          },
          "execution_count": 40
        }
      ]
    }
  ]
}