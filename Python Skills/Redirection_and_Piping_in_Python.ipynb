{
  "nbformat": 4,
  "nbformat_minor": 0,
  "metadata": {
    "colab": {
      "name": "Redirection and Piping in Python.ipynb",
      "provenance": [],
      "authorship_tag": "ABX9TyM8BbpCDfVDZvtX6og/3jJ/"
    },
    "kernelspec": {
      "name": "python3",
      "display_name": "Python 3"
    }
  },
  "cells": [
    {
      "cell_type": "markdown",
      "metadata": {
        "id": "GBJk1jDBWDRY"
      },
      "source": [
        "[Reference](https://medium.com/explorations-in-python/redirection-and-piping-in-python-353bba3e6dc3)"
      ]
    },
    {
      "cell_type": "code",
      "metadata": {
        "colab": {
          "base_uri": "https://localhost:8080/"
        },
        "id": "yloz_ruxPjK2",
        "outputId": "4bd93578-84e0-456a-b510-d5e62138d7e3"
      },
      "source": [
        "import random\n",
        "import sys\n",
        "\n",
        "def main():\n",
        "    for i in range(0,64):\n",
        "        print(random.randrange(-100,100))\n",
        "\n",
        "    print(\"data generated\", file=sys.stderr)\n",
        "\n",
        "main()"
      ],
      "execution_count": 1,
      "outputs": [
        {
          "output_type": "stream",
          "text": [
            "12\n",
            "-94\n",
            "30\n",
            "-81\n",
            "59\n",
            "71\n",
            "99\n",
            "14\n",
            "-21\n",
            "-30\n",
            "-83\n",
            "-84\n",
            "-51\n",
            "-84\n",
            "-4\n",
            "-1\n",
            "97\n",
            "-94\n",
            "-64\n",
            "-70\n",
            "-31\n",
            "7\n",
            "-100\n",
            "24\n",
            "-39\n",
            "61\n",
            "-94\n",
            "-5\n",
            "52\n",
            "48\n",
            "17\n",
            "68\n",
            "-63\n",
            "5\n",
            "-42\n",
            "-88\n",
            "-32\n",
            "-41\n",
            "-27\n",
            "-36\n",
            "30\n",
            "42\n",
            "75\n",
            "96\n",
            "-94\n",
            "99\n",
            "-74\n",
            "38\n",
            "64\n",
            "6\n",
            "24\n",
            "-9\n",
            "27\n",
            "-28\n",
            "53\n",
            "68\n",
            "91\n",
            "31\n",
            "89\n",
            "-27\n",
            "-72\n",
            "-25\n",
            "-10\n",
            "-41\n"
          ],
          "name": "stdout"
        },
        {
          "output_type": "stream",
          "text": [
            "data generated\n"
          ],
          "name": "stderr"
        }
      ]
    },
    {
      "cell_type": "code",
      "metadata": {
        "colab": {
          "base_uri": "https://localhost:8080/"
        },
        "id": "QJqCEQRcPysF",
        "outputId": "c33c1bd0-04f7-44c3-8d52-ef13bf5c1705"
      },
      "source": [
        "def main():\n",
        "    if(len(sys.argv)>1):\n",
        "        try:\n",
        "            minimum = int(sys.argv[1])\n",
        "\n",
        "        except ValueError:\n",
        "            print(\"Argument must be valid interge\", file=sys.stderr)\n",
        "        \n",
        "        for amount in sys.stdin:\n",
        "            if(abs(int(amount)) >= minimum):\n",
        "                print(amount, end=\"\")\n",
        "\n",
        "    else:\n",
        "        print(\"minimum must be specified\", file=sys.stderr)\n",
        "    \n",
        "    print(\"data filtered\",file=sys.stderr)\n",
        "\n",
        "main()"
      ],
      "execution_count": 2,
      "outputs": [
        {
          "output_type": "stream",
          "text": [
            "Argument must be valid interge\n",
            "data filtered\n"
          ],
          "name": "stderr"
        }
      ]
    },
    {
      "cell_type": "code",
      "metadata": {
        "colab": {
          "base_uri": "https://localhost:8080/"
        },
        "id": "4FHmo_INVfvp",
        "outputId": "0a0f3dca-23c0-491c-9d20-e16109059626"
      },
      "source": [
        "def main():\n",
        "    totaldebtors = 0.0\n",
        "    totalcreditors = 0.0\n",
        "\n",
        "    for amount in sys.stdin:\n",
        "\n",
        "        if(int(amount) > 0):\n",
        "            totaldebtors += int(amount)\n",
        "\n",
        "        else:\n",
        "            totalcreditors += int(amount)\n",
        "\n",
        "    print(\"Debtors:  {:.2f}\".format(totaldebtors))\n",
        "    print(\"Debtors:  {:.2f}\".format(totalcreditors))\n",
        "\n",
        "    print(\"totals created\", file=sys.stderr)\n",
        "\n",
        "main()"
      ],
      "execution_count": 3,
      "outputs": [
        {
          "output_type": "stream",
          "text": [
            "Debtors:  0.00\n",
            "Debtors:  0.00\n"
          ],
          "name": "stdout"
        },
        {
          "output_type": "stream",
          "text": [
            "totals created\n"
          ],
          "name": "stderr"
        }
      ]
    }
  ]
}