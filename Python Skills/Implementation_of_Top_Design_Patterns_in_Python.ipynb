{
  "nbformat": 4,
  "nbformat_minor": 0,
  "metadata": {
    "colab": {
      "name": "Implementation of Top Design Patterns in Python.ipynb",
      "provenance": [],
      "authorship_tag": "ABX9TyNMVfvCOzRWKDx+mnLQbVZC"
    },
    "kernelspec": {
      "name": "python3",
      "display_name": "Python 3"
    }
  },
  "cells": [
    {
      "cell_type": "markdown",
      "metadata": {
        "id": "uB0qCRAmWCLN"
      },
      "source": [
        "[Reference](https://medium.com/python-pandemonium/top-design-patterns-in-python-9778843d5451)"
      ]
    },
    {
      "cell_type": "markdown",
      "metadata": {
        "id": "4LLtRqfAW-1R"
      },
      "source": [
        "# Iterator"
      ]
    },
    {
      "cell_type": "code",
      "metadata": {
        "id": "hXUxlgp5WA98"
      },
      "source": [
        "from __future__ import annotations\n",
        "from collections.abc import Iterable, Iterator\n",
        "from typing import Any, List\n",
        "\n",
        "\n",
        "class AlphabeticalOrderIterator(Iterator):\n",
        "    _position: int = None\n",
        "    _reverse: bool = False\n",
        "\n",
        "    def __init__(self, collection: WordsCollection, \n",
        "                 reverse: bool = False):\n",
        "        self._collection = collection\n",
        "        self._reverse = reverse\n",
        "        self._position = -1 if reverse else 0\n",
        "\n",
        "    def __next__(self):\n",
        "        try:\n",
        "            value = self._collection[self._position]\n",
        "            self._position += -1 if self._reverse else 1\n",
        "        except IndexError:\n",
        "            raise StopIteration()\n",
        "        return value\n",
        "\n",
        "\n",
        "class WordsCollection(Iterable):\n",
        "    def __init__(self, collection: List[Any] = []):\n",
        "        self._collection = collection\n",
        "\n",
        "    def __iter__(self) -> AlphabeticalOrderIterator:\n",
        "        return AlphabeticalOrderIterator(self._collection)\n",
        "\n",
        "    def get_reverse_iterator(self) -> AlphabeticalOrderIterator:\n",
        "        return AlphabeticalOrderIterator(self._collection, True)\n",
        "\n",
        "    def add_item(self, item: Any):\n",
        "        self._collection.append(item)\n",
        "\n",
        "\n",
        "if __name__ == \"__main__\":\n",
        "    collection = WordsCollection()\n",
        "    collection.add_item(\"First\")\n",
        "    collection.add_item(\"Second\")\n",
        "    collection.add_item(\"Third\")\n",
        "\n",
        "    print(\"Straight traversal:\")\n",
        "    print(\"\\n\".join(collection))\n",
        "\n",
        "    print(\"Reverse traversal:\")\n",
        "    print(\"\\n\".join(collection.get_reverse_iterator()))"
      ],
      "execution_count": 2,
      "outputs": []
    },
    {
      "cell_type": "markdown",
      "metadata": {
        "id": "AD1f4PMSW8lS"
      },
      "source": [
        "# State"
      ]
    },
    {
      "cell_type": "code",
      "metadata": {
        "id": "whFrRyg6WZTA"
      },
      "source": [
        "from __future__ import annotations\n",
        "from abc import ABC, abstractmethod\n",
        "\n",
        "class Context(ABC):\n",
        "    _state = None    \n",
        "    def __init__(self, state: State):\n",
        "        self.transition_to(state)\n",
        "\n",
        "    def transition_to(self, state: State):\n",
        "        print(f\"Context: Transition to {type(state).__name__}\")\n",
        "        self._state = state\n",
        "        self._state.context = self    \n",
        "    \n",
        "    def request1(self):\n",
        "        self._state.handle1()    \n",
        "    \n",
        "    def request2(self):\n",
        "        self._state.handle2()\n",
        "\n",
        "class State(ABC):\n",
        "    @property\n",
        "    def context(self) -> Context:\n",
        "        return self._context\n",
        "\n",
        "    @context.setter\n",
        "    def context(self, context: Context):\n",
        "        self._context = context \n",
        "\n",
        "    @abstractmethod\n",
        "    def handle1(self):\n",
        "        pass    \n",
        "    \n",
        "    @abstractmethod\n",
        "    def handle2(self):\n",
        "        pass\n",
        "\n",
        "class ConcreteStateA(State):\n",
        "    def handle1(self):\n",
        "        print(\"ConcreteStateA handles request1.\")\n",
        "        print(\"ConcreteStateA wants to change the state of the context.\")\n",
        "        self.context.transition_to(ConcreteStateB())\n",
        "\n",
        "    def handle2(self):\n",
        "        print(\"ConcreteStateA handles request2.\")\n",
        "\n",
        "class ConcreteStateB(State):\n",
        "    def handle1(self):\n",
        "        print(\"ConcreteStateB handles request1.\")   \n",
        "\n",
        "    def handle2(self):\n",
        "        print(\"ConcreteStateB handles request2.\")\n",
        "        print(\"ConcreteStateB wants to change the state of the context.\")\n",
        "        self.context.transition_to(ConcreteStateA())\n",
        "        \n",
        "if __name__ == \"__main__\":\n",
        "    context = Context(ConcreteStateA())\n",
        "    context.request1()\n",
        "    context.request2()"
      ],
      "execution_count": 3,
      "outputs": []
    },
    {
      "cell_type": "markdown",
      "metadata": {
        "id": "zAFHyo9bW6Wu"
      },
      "source": [
        "# Observer"
      ]
    },
    {
      "cell_type": "code",
      "metadata": {
        "id": "InTtqYM3W4nA"
      },
      "source": [
        "from __future__ import annotations\n",
        "from abc import ABC, abstractmethod\n",
        "from random import randrange\n",
        "from typing import List\n",
        "\n",
        "class Subject(ABC):\n",
        "    @abstractmethod\n",
        "    def attach(self, observer: Observer):\n",
        "        pass    \n",
        "    \n",
        "    @abstractmethod\n",
        "    def detach(self, observer: Observer):\n",
        "        pass    \n",
        "    \n",
        "    @abstractmethod\n",
        "    def notify(self):\n",
        "        pass\n",
        "class ConcreteSubject(Subject):\n",
        "    _state: int = None\n",
        "    _observers: List[Observer] = []\n",
        "   \n",
        "    def attach(self, observer: Observer):\n",
        "        print(\"Subject: Attached an observer.\")\n",
        "        self._observers.append(observer)\n",
        "\n",
        "    def detach(self, observer: Observer):\n",
        "        self._observers.remove(observer)\n",
        "\n",
        "    def notify(self):\n",
        "        print(\"Subject: Notifying observers...\")\n",
        "        for observer in self._observers:\n",
        "            observer.update(self)    \n",
        "            \n",
        "    def some_business_logic(self):\n",
        "        print(\"Subject: I'm doing something important.\")\n",
        "        self._state = randrange(0, 10)\n",
        "        print(f\"Subject: My state has just changed to: {self._state}\")\n",
        "        self.notify()\n",
        "class Observer(ABC):\n",
        "    @abstractmethod\n",
        "    def update(self, subject: Subject):       \n",
        "        pass\n",
        "\n",
        "class ConcreteObserverA(Observer):\n",
        "    def update(self, subject: Subject):\n",
        "        if subject._state < 3:\n",
        "            print(\"ConcreteObserverA: Reacted to the event\")\n",
        "\n",
        "class ConcreteObserverB(Observer):\n",
        "    def update(self, subject: Subject):\n",
        "        if subject._state == 0 or subject._state >= 2:\n",
        "            print(\"ConcreteObserverB: Reacted to the event\")\n",
        "\n",
        "if __name__ == \"__main__\":    \n",
        "    subject = ConcreteSubject()    \n",
        "    \n",
        "    observer_a = ConcreteObserverA()\n",
        "    subject.attach(observer_a)    \n",
        "    \n",
        "    observer_b = ConcreteObserverB()\n",
        "    subject.attach(observer_b)    \n",
        "    \n",
        "    subject.some_business_logic()\n",
        "    subject.some_business_logic()    \n",
        "    \n",
        "    subject.detach(observer_a)    \n",
        "    \n",
        "    subject.some_business_logic()"
      ],
      "execution_count": 5,
      "outputs": []
    },
    {
      "cell_type": "markdown",
      "metadata": {
        "id": "UnNcBR0-XVTc"
      },
      "source": [
        "# Facade"
      ]
    },
    {
      "cell_type": "code",
      "metadata": {
        "id": "rVhGk4vBXTJl"
      },
      "source": [
        "class Addition:\n",
        "    def __init__(self, field1: int, field2: int):\n",
        "        self.field1 = field1\n",
        "        self.field2 = field2    \n",
        "        \n",
        "    def get_result(self):\n",
        "        return self.field1 + self.field2\n",
        "class Multiplication:\n",
        "    def __init__(self, field1: int, field2: int):\n",
        "        self.field1 = field1\n",
        "        self.field2 = field2    \n",
        "        \n",
        "    def get_result(self):\n",
        "        return self.field1 * self.field2\n",
        "class Subtraction:\n",
        "    def __init__(self, field1: int, field2: int):\n",
        "        self.field1 = field1\n",
        "        self.field2 = field2    \n",
        "        \n",
        "    def get_result(self):\n",
        "        return self.field1 - self.field2\n",
        "class Facade:\n",
        "    @staticmethod\n",
        "    def make_addition(*args) -> Addition:\n",
        "        return Addition(*args)    \n",
        "    @staticmethod\n",
        "    def make_multiplication(*args) -> Multiplication:\n",
        "        return Multiplication(*args)    \n",
        "    @staticmethod\n",
        "    def make_subtraction(*args) -> Subtraction:\n",
        "        return Subtraction(*args)\n",
        "\n",
        "if __name__ == \"__main__\":\n",
        "    addition_obj = Facade.make_addition(5, 5)\n",
        "    multiplication_obj = Facade.make_multiplication(5, 2)\n",
        "    subtraction_obj = Facade.make_subtraction(15, 5)    \n",
        "    \n",
        "    print(addition_obj.get_result())\n",
        "    print(multiplication_obj.get_result())\n",
        "    print(subtraction_obj.get_result())"
      ],
      "execution_count": 6,
      "outputs": []
    },
    {
      "cell_type": "markdown",
      "metadata": {
        "id": "2C54KSTBXfRY"
      },
      "source": [
        "# Decorator"
      ]
    },
    {
      "cell_type": "code",
      "metadata": {
        "id": "61QE0Qs2XeLg"
      },
      "source": [
        "class my_decorator:\n",
        "    def __init__(self, func):\n",
        "        print(\"inside my_decorator.__init__()\")\n",
        "        func() # Prove that function definition has completed    \n",
        "        \n",
        "    def __call__(self):\n",
        "        print(\"inside my_decorator.__call__()\")\n",
        "@my_decorator\n",
        "def my_function():\n",
        "    print(\"inside my_function()\")\n",
        "if __name__ == \"__main__\":    \n",
        "    my_function()"
      ],
      "execution_count": 7,
      "outputs": []
    },
    {
      "cell_type": "markdown",
      "metadata": {
        "id": "mIo3jrHNXj9J"
      },
      "source": [
        "# Adapter"
      ]
    },
    {
      "cell_type": "code",
      "metadata": {
        "id": "2U_WB8KCXikW"
      },
      "source": [
        "class Target:\n",
        "    def request(self):\n",
        "        return \"Target: The default target's behavior.\"\n",
        "\n",
        "class Adaptee:\n",
        "    def specific_request(self):\n",
        "        return \".eetpadA eht fo roivaheb laicepS\"\n",
        "\n",
        "class Adapter(Target, Adaptee):\n",
        "    def request(self):\n",
        "        return f\"Adapter: (TRANSLATED) {self.specific_request()[::-1]}\"\n",
        "\n",
        "def client_code(target: \"Target\"):\n",
        "    print(target.request())\n",
        "\n",
        "if __name__ == \"__main__\":\n",
        "    print(\"Client: I can work just fine with the Target objects:\")    target = Target()\n",
        "    client_code(target)    \n",
        "    \n",
        "    adaptee = Adaptee()\n",
        "    \n",
        "    print(\"Client: The Adaptee class has a weird interface. \"\n",
        "          \"See, I don't understand it:\")\n",
        "    print(f\"Adaptee: {adaptee.specific_request()}\")    \n",
        "    \n",
        "    print(\"Client: But I can work with it via the Adapter:\")\n",
        "    \n",
        "    adapter = Adapter()\n",
        "    client_code(adapter)"
      ],
      "execution_count": 8,
      "outputs": []
    },
    {
      "cell_type": "markdown",
      "metadata": {
        "id": "h4SnjIKaXrij"
      },
      "source": [
        "# Singleton"
      ]
    },
    {
      "cell_type": "code",
      "metadata": {
        "id": "2WWk6BTFXp89"
      },
      "source": [
        "class Singleton:\n",
        "    def __new__(cls):\n",
        "        if not hasattr(cls, 'instance'):\n",
        "            cls.instance = super(Singleton, cls).__new__(cls)\n",
        "        return cls.instance\n",
        "\n",
        "if __name__ == \"__main__\":\n",
        "    s = Singleton()\n",
        "    print(\"Object created:\", s)    \n",
        "    \n",
        "    s1 = Singleton()\n",
        "    print(\"Object created:\", s1)"
      ],
      "execution_count": 9,
      "outputs": []
    }
  ]
}