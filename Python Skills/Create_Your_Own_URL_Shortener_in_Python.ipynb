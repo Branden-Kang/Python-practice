{
  "nbformat": 4,
  "nbformat_minor": 0,
  "metadata": {
    "colab": {
      "name": "Create Your Own URL Shortener in Python.ipynb",
      "provenance": [],
      "authorship_tag": "ABX9TyPdT1q+66vUosQ0LUbC4tci"
    },
    "kernelspec": {
      "name": "python3",
      "display_name": "Python 3"
    },
    "language_info": {
      "name": "python"
    }
  },
  "cells": [
    {
      "cell_type": "markdown",
      "metadata": {
        "id": "5dSUb6kwcULf"
      },
      "source": [
        "[Reference](https://python.plainenglish.io/how-build-url-shortener-using-python-be1580ce2a57)"
      ]
    },
    {
      "cell_type": "code",
      "metadata": {
        "colab": {
          "base_uri": "https://localhost:8080/"
        },
        "id": "3R5J4X6RcZsK",
        "outputId": "1a556147-19b1-4527-e4b8-55ea1de654c8"
      },
      "source": [
        "!pip install pyshorteners"
      ],
      "execution_count": 2,
      "outputs": [
        {
          "output_type": "stream",
          "text": [
            "Collecting pyshorteners\n",
            "  Downloading https://files.pythonhosted.org/packages/80/13/7dd5f53ac009775e18861f41efadf78160e1015c84a476d373957cb63b5c/pyshorteners-1.0.1.tar.gz\n",
            "Requirement already satisfied: requests in /usr/local/lib/python3.7/dist-packages (from pyshorteners) (2.23.0)\n",
            "Requirement already satisfied: urllib3!=1.25.0,!=1.25.1,<1.26,>=1.21.1 in /usr/local/lib/python3.7/dist-packages (from requests->pyshorteners) (1.24.3)\n",
            "Requirement already satisfied: certifi>=2017.4.17 in /usr/local/lib/python3.7/dist-packages (from requests->pyshorteners) (2021.5.30)\n",
            "Requirement already satisfied: chardet<4,>=3.0.2 in /usr/local/lib/python3.7/dist-packages (from requests->pyshorteners) (3.0.4)\n",
            "Requirement already satisfied: idna<3,>=2.5 in /usr/local/lib/python3.7/dist-packages (from requests->pyshorteners) (2.10)\n",
            "Building wheels for collected packages: pyshorteners\n",
            "  Building wheel for pyshorteners (setup.py) ... \u001b[?25l\u001b[?25hdone\n",
            "  Created wheel for pyshorteners: filename=pyshorteners-1.0.1-cp37-none-any.whl size=17494 sha256=23c0574131a6a87806b554c500814414f2946e9c5f99f37088b5c4e20321520d\n",
            "  Stored in directory: /root/.cache/pip/wheels/99/2b/ab/854c6fdf96d6775ffe179ec99211af2adecb450108c477ada2\n",
            "Successfully built pyshorteners\n",
            "Installing collected packages: pyshorteners\n",
            "Successfully installed pyshorteners-1.0.1\n"
          ],
          "name": "stdout"
        }
      ]
    },
    {
      "cell_type": "code",
      "metadata": {
        "colab": {
          "base_uri": "https://localhost:8080/"
        },
        "id": "35YtBK2icd1b",
        "outputId": "ffbabcb9-3344-4496-9335-f27ca3d476e7"
      },
      "source": [
        "!pip install pyperclip"
      ],
      "execution_count": 4,
      "outputs": [
        {
          "output_type": "stream",
          "text": [
            "Collecting pyperclip\n",
            "  Downloading https://files.pythonhosted.org/packages/a7/2c/4c64579f847bd5d539803c8b909e54ba087a79d01bb3aba433a95879a6c5/pyperclip-1.8.2.tar.gz\n",
            "Building wheels for collected packages: pyperclip\n",
            "  Building wheel for pyperclip (setup.py) ... \u001b[?25l\u001b[?25hdone\n",
            "  Created wheel for pyperclip: filename=pyperclip-1.8.2-cp37-none-any.whl size=11136 sha256=fe211fca0d3223d9beba5e26d535a1ec06c8d561a714093ea05b0834d5235a22\n",
            "  Stored in directory: /root/.cache/pip/wheels/25/af/b8/3407109267803f4015e1ee2ff23be0c8c19ce4008665931ee1\n",
            "Successfully built pyperclip\n",
            "Installing collected packages: pyperclip\n",
            "Successfully installed pyperclip-1.8.2\n"
          ],
          "name": "stdout"
        }
      ]
    },
    {
      "cell_type": "code",
      "metadata": {
        "id": "Alp3RpE_bo-5"
      },
      "source": [
        "from tkinter import *\n",
        "import pyshorteners\n",
        "import pyperclip"
      ],
      "execution_count": 5,
      "outputs": []
    },
    {
      "cell_type": "code",
      "metadata": {
        "id": "sHgfmJDQcXQh"
      },
      "source": [
        "root = Tk()\n",
        "root.title(\"URL SHORTNER\")\n",
        "root.configure(bg= \"green\")\n",
        "Label(root,text = \"Url shortener app\", font = \"Arial\").pack(pady = 10)\n",
        "Entry(root,textvariable = url).pack(pady =5)\n",
        "\n",
        "Button(root,text = \"generate url\" ,command = urlshort).pack(pady=5)\n",
        "\n",
        "Entry(root,textvariable =sortUrl ).pack(pady= 5)\n",
        "\n",
        "Button(root,text= \"copy url\",command= copy).pack(pady=5)"
      ],
      "execution_count": 7,
      "outputs": []
    },
    {
      "cell_type": "code",
      "metadata": {
        "id": "M2Obw8HrcnMu"
      },
      "source": [
        "url = StringVar()\n",
        "\n",
        "sortUrl = StringVar()\n",
        "\n",
        "def urlshort():\n",
        "    sort_Url = url.get()\n",
        "    generatedurl = pyshorteners.Shortener().tinyurl.short(sort_Url)\n",
        "    sortUrl.set(generatedurl)\n",
        "    \n",
        "def copy():\n",
        "    generatedurl = sortUrl.get()\n",
        "\n",
        "pyperclip.copy(generatedurl)"
      ],
      "execution_count": 8,
      "outputs": []
    }
  ]
}