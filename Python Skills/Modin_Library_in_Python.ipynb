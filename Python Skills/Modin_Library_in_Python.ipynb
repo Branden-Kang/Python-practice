{
  "nbformat": 4,
  "nbformat_minor": 0,
  "metadata": {
    "colab": {
      "name": "Modin Library in Python.ipynb",
      "provenance": [],
      "collapsed_sections": [],
      "authorship_tag": "ABX9TyP2TZ/pT3cKI31vSO+FE1Lo"
    },
    "kernelspec": {
      "name": "python3",
      "display_name": "Python 3"
    },
    "accelerator": "GPU"
  },
  "cells": [
    {
      "cell_type": "markdown",
      "metadata": {
        "id": "yNF-_qWllak8"
      },
      "source": [
        "[Reference](https://natedong72.medium.com/parallelize-and-accelerate-your-pandas-dataframes-85d6ceb1aa1f)"
      ]
    },
    {
      "cell_type": "markdown",
      "metadata": {
        "id": "hw0NMRuJlvZ1"
      },
      "source": [
        "Using pip"
      ]
    },
    {
      "cell_type": "code",
      "metadata": {
        "colab": {
          "base_uri": "https://localhost:8080/"
        },
        "id": "Raoj7QxslscX",
        "outputId": "acc714f5-892c-49a8-d755-dce1c399aca0"
      },
      "source": [
        "pip install modin"
      ],
      "execution_count": 1,
      "outputs": [
        {
          "output_type": "stream",
          "text": [
            "Collecting modin\n",
            "\u001b[?25l  Downloading https://files.pythonhosted.org/packages/d0/9d/591b902668ef56fda55723c22cfe15a1986536d6c24cfbf65501ed9cf35e/modin-0.8.3-py3-none-manylinux1_x86_64.whl (564kB)\n",
            "\r\u001b[K     |▋                               | 10kB 26.4MB/s eta 0:00:01\r\u001b[K     |█▏                              | 20kB 33.4MB/s eta 0:00:01\r\u001b[K     |█▊                              | 30kB 24.2MB/s eta 0:00:01\r\u001b[K     |██▎                             | 40kB 22.0MB/s eta 0:00:01\r\u001b[K     |███                             | 51kB 22.7MB/s eta 0:00:01\r\u001b[K     |███▌                            | 61kB 16.4MB/s eta 0:00:01\r\u001b[K     |████                            | 71kB 16.4MB/s eta 0:00:01\r\u001b[K     |████▋                           | 81kB 15.7MB/s eta 0:00:01\r\u001b[K     |█████▏                          | 92kB 15.7MB/s eta 0:00:01\r\u001b[K     |█████▉                          | 102kB 16.2MB/s eta 0:00:01\r\u001b[K     |██████▍                         | 112kB 16.2MB/s eta 0:00:01\r\u001b[K     |███████                         | 122kB 16.2MB/s eta 0:00:01\r\u001b[K     |███████▌                        | 133kB 16.2MB/s eta 0:00:01\r\u001b[K     |████████▏                       | 143kB 16.2MB/s eta 0:00:01\r\u001b[K     |████████▊                       | 153kB 16.2MB/s eta 0:00:01\r\u001b[K     |█████████▎                      | 163kB 16.2MB/s eta 0:00:01\r\u001b[K     |█████████▉                      | 174kB 16.2MB/s eta 0:00:01\r\u001b[K     |██████████▍                     | 184kB 16.2MB/s eta 0:00:01\r\u001b[K     |███████████                     | 194kB 16.2MB/s eta 0:00:01\r\u001b[K     |███████████▋                    | 204kB 16.2MB/s eta 0:00:01\r\u001b[K     |████████████▏                   | 215kB 16.2MB/s eta 0:00:01\r\u001b[K     |████████████▊                   | 225kB 16.2MB/s eta 0:00:01\r\u001b[K     |█████████████▍                  | 235kB 16.2MB/s eta 0:00:01\r\u001b[K     |██████████████                  | 245kB 16.2MB/s eta 0:00:01\r\u001b[K     |██████████████▌                 | 256kB 16.2MB/s eta 0:00:01\r\u001b[K     |███████████████                 | 266kB 16.2MB/s eta 0:00:01\r\u001b[K     |███████████████▋                | 276kB 16.2MB/s eta 0:00:01\r\u001b[K     |████████████████▎               | 286kB 16.2MB/s eta 0:00:01\r\u001b[K     |████████████████▉               | 296kB 16.2MB/s eta 0:00:01\r\u001b[K     |█████████████████▍              | 307kB 16.2MB/s eta 0:00:01\r\u001b[K     |██████████████████              | 317kB 16.2MB/s eta 0:00:01\r\u001b[K     |██████████████████▋             | 327kB 16.2MB/s eta 0:00:01\r\u001b[K     |███████████████████▏            | 337kB 16.2MB/s eta 0:00:01\r\u001b[K     |███████████████████▊            | 348kB 16.2MB/s eta 0:00:01\r\u001b[K     |████████████████████▎           | 358kB 16.2MB/s eta 0:00:01\r\u001b[K     |████████████████████▉           | 368kB 16.2MB/s eta 0:00:01\r\u001b[K     |█████████████████████▌          | 378kB 16.2MB/s eta 0:00:01\r\u001b[K     |██████████████████████          | 389kB 16.2MB/s eta 0:00:01\r\u001b[K     |██████████████████████▋         | 399kB 16.2MB/s eta 0:00:01\r\u001b[K     |███████████████████████▏        | 409kB 16.2MB/s eta 0:00:01\r\u001b[K     |███████████████████████▉        | 419kB 16.2MB/s eta 0:00:01\r\u001b[K     |████████████████████████▍       | 430kB 16.2MB/s eta 0:00:01\r\u001b[K     |█████████████████████████       | 440kB 16.2MB/s eta 0:00:01\r\u001b[K     |█████████████████████████▌      | 450kB 16.2MB/s eta 0:00:01\r\u001b[K     |██████████████████████████      | 460kB 16.2MB/s eta 0:00:01\r\u001b[K     |██████████████████████████▊     | 471kB 16.2MB/s eta 0:00:01\r\u001b[K     |███████████████████████████▎    | 481kB 16.2MB/s eta 0:00:01\r\u001b[K     |███████████████████████████▉    | 491kB 16.2MB/s eta 0:00:01\r\u001b[K     |████████████████████████████▍   | 501kB 16.2MB/s eta 0:00:01\r\u001b[K     |█████████████████████████████   | 512kB 16.2MB/s eta 0:00:01\r\u001b[K     |█████████████████████████████▋  | 522kB 16.2MB/s eta 0:00:01\r\u001b[K     |██████████████████████████████▏ | 532kB 16.2MB/s eta 0:00:01\r\u001b[K     |██████████████████████████████▊ | 542kB 16.2MB/s eta 0:00:01\r\u001b[K     |███████████████████████████████▎| 552kB 16.2MB/s eta 0:00:01\r\u001b[K     |████████████████████████████████| 563kB 16.2MB/s eta 0:00:01\r\u001b[K     |████████████████████████████████| 573kB 16.2MB/s \n",
            "\u001b[?25hRequirement already satisfied: packaging in /usr/local/lib/python3.6/dist-packages (from modin) (20.8)\n",
            "Requirement already satisfied: pandas==1.1.5 in /usr/local/lib/python3.6/dist-packages (from modin) (1.1.5)\n",
            "Requirement already satisfied: pyparsing>=2.0.2 in /usr/local/lib/python3.6/dist-packages (from packaging->modin) (2.4.7)\n",
            "Requirement already satisfied: numpy>=1.15.4 in /usr/local/lib/python3.6/dist-packages (from pandas==1.1.5->modin) (1.19.5)\n",
            "Requirement already satisfied: pytz>=2017.2 in /usr/local/lib/python3.6/dist-packages (from pandas==1.1.5->modin) (2018.9)\n",
            "Requirement already satisfied: python-dateutil>=2.7.3 in /usr/local/lib/python3.6/dist-packages (from pandas==1.1.5->modin) (2.8.1)\n",
            "Requirement already satisfied: six>=1.5 in /usr/local/lib/python3.6/dist-packages (from python-dateutil>=2.7.3->pandas==1.1.5->modin) (1.15.0)\n",
            "Installing collected packages: modin\n",
            "Successfully installed modin-0.8.3\n"
          ],
          "name": "stdout"
        }
      ]
    },
    {
      "cell_type": "code",
      "metadata": {
        "colab": {
          "base_uri": "https://localhost:8080/"
        },
        "id": "8DH34DwwoiiT",
        "outputId": "b3571a4e-911e-4c51-cf4e-c378bbc0fa1a"
      },
      "source": [
        "!pip install modin[ray] # Install Modin dependencies and Ray to run on Ray\n",
        "!pip install modin[dask] # Install Modin dependencies and Dask to run on Dask\n",
        "!pip install modin[all] # Install all of the above"
      ],
      "execution_count": 2,
      "outputs": [
        {
          "output_type": "stream",
          "text": [
            "Requirement already satisfied: modin[ray] in /usr/local/lib/python3.6/dist-packages (0.8.3)\n",
            "Requirement already satisfied: pandas==1.1.5 in /usr/local/lib/python3.6/dist-packages (from modin[ray]) (1.1.5)\n",
            "Requirement already satisfied: packaging in /usr/local/lib/python3.6/dist-packages (from modin[ray]) (20.8)\n",
            "Collecting pyarrow==1.0; extra == \"ray\"\n",
            "\u001b[?25l  Downloading https://files.pythonhosted.org/packages/a1/0a/a89de6d747c4698af128a46398703e3d1889f196478fd94a4e16bd1b5c65/pyarrow-1.0.0-cp36-cp36m-manylinux2014_x86_64.whl (17.2MB)\n",
            "\u001b[K     |████████████████████████████████| 17.2MB 208kB/s \n",
            "\u001b[?25hCollecting ray>=1.0.0; extra == \"ray\"\n",
            "\u001b[?25l  Downloading https://files.pythonhosted.org/packages/fa/e5/0ff593f053ff4fa2a582961272ef893c21d268d3c2c52ff1e7effd891e48/ray-1.1.0-cp36-cp36m-manylinux2014_x86_64.whl (48.5MB)\n",
            "\u001b[K     |████████████████████████████████| 48.5MB 66kB/s \n",
            "\u001b[?25hRequirement already satisfied: pytz>=2017.2 in /usr/local/lib/python3.6/dist-packages (from pandas==1.1.5->modin[ray]) (2018.9)\n",
            "Requirement already satisfied: numpy>=1.15.4 in /usr/local/lib/python3.6/dist-packages (from pandas==1.1.5->modin[ray]) (1.19.5)\n",
            "Requirement already satisfied: python-dateutil>=2.7.3 in /usr/local/lib/python3.6/dist-packages (from pandas==1.1.5->modin[ray]) (2.8.1)\n",
            "Requirement already satisfied: pyparsing>=2.0.2 in /usr/local/lib/python3.6/dist-packages (from packaging->modin[ray]) (2.4.7)\n",
            "Requirement already satisfied: protobuf>=3.8.0 in /usr/local/lib/python3.6/dist-packages (from ray>=1.0.0; extra == \"ray\"->modin[ray]) (3.12.4)\n",
            "Requirement already satisfied: jsonschema in /usr/local/lib/python3.6/dist-packages (from ray>=1.0.0; extra == \"ray\"->modin[ray]) (2.6.0)\n",
            "Collecting aiohttp\n",
            "\u001b[?25l  Downloading https://files.pythonhosted.org/packages/ad/e6/d4b6235d776c9b33f853e603efede5aac5a34f71ca9d3877adb30492eb4e/aiohttp-3.7.3-cp36-cp36m-manylinux2014_x86_64.whl (1.3MB)\n",
            "\u001b[K     |████████████████████████████████| 1.3MB 52.0MB/s \n",
            "\u001b[?25hCollecting aioredis\n",
            "\u001b[?25l  Downloading https://files.pythonhosted.org/packages/b0/64/1b1612d0a104f21f80eb4c6e1b6075f2e6aba8e228f46f229cfd3fdac859/aioredis-1.3.1-py3-none-any.whl (65kB)\n",
            "\u001b[K     |████████████████████████████████| 71kB 11.8MB/s \n",
            "\u001b[?25hCollecting aiohttp-cors\n",
            "  Downloading https://files.pythonhosted.org/packages/13/e7/e436a0c0eb5127d8b491a9b83ecd2391c6ff7dcd5548dfaec2080a2340fd/aiohttp_cors-0.7.0-py3-none-any.whl\n",
            "Collecting redis>=3.5.0\n",
            "\u001b[?25l  Downloading https://files.pythonhosted.org/packages/a7/7c/24fb0511df653cf1a5d938d8f5d19802a88cef255706fdda242ff97e91b7/redis-3.5.3-py2.py3-none-any.whl (72kB)\n",
            "\u001b[K     |████████████████████████████████| 81kB 12.4MB/s \n",
            "\u001b[?25hRequirement already satisfied: click>=7.0 in /usr/local/lib/python3.6/dist-packages (from ray>=1.0.0; extra == \"ray\"->modin[ray]) (7.1.2)\n",
            "Requirement already satisfied: msgpack<2.0.0,>=1.0.0 in /usr/local/lib/python3.6/dist-packages (from ray>=1.0.0; extra == \"ray\"->modin[ray]) (1.0.2)\n",
            "Requirement already satisfied: filelock in /usr/local/lib/python3.6/dist-packages (from ray>=1.0.0; extra == \"ray\"->modin[ray]) (3.0.12)\n",
            "Collecting gpustat\n",
            "\u001b[?25l  Downloading https://files.pythonhosted.org/packages/b4/69/d8c849715171aeabd61af7da080fdc60948b5a396d2422f1f4672e43d008/gpustat-0.6.0.tar.gz (78kB)\n",
            "\u001b[K     |████████████████████████████████| 81kB 12.4MB/s \n",
            "\u001b[?25hRequirement already satisfied: requests in /usr/local/lib/python3.6/dist-packages (from ray>=1.0.0; extra == \"ray\"->modin[ray]) (2.23.0)\n",
            "Collecting opencensus\n",
            "\u001b[?25l  Downloading https://files.pythonhosted.org/packages/e2/d6/b952f11b29c3a0cbec5620de3c4260cecd8c4329d83e91587edb48691e15/opencensus-0.7.12-py2.py3-none-any.whl (127kB)\n",
            "\u001b[K     |████████████████████████████████| 133kB 59.2MB/s \n",
            "\u001b[?25hRequirement already satisfied: pyyaml in /usr/local/lib/python3.6/dist-packages (from ray>=1.0.0; extra == \"ray\"->modin[ray]) (3.13)\n",
            "Requirement already satisfied: grpcio>=1.28.1 in /usr/local/lib/python3.6/dist-packages (from ray>=1.0.0; extra == \"ray\"->modin[ray]) (1.32.0)\n",
            "Collecting colorama\n",
            "  Downloading https://files.pythonhosted.org/packages/44/98/5b86278fbbf250d239ae0ecb724f8572af1c91f4a11edf4d36a206189440/colorama-0.4.4-py2.py3-none-any.whl\n",
            "Collecting py-spy>=0.2.0\n",
            "\u001b[?25l  Downloading https://files.pythonhosted.org/packages/0c/b7/2056a6f06adb93f679f2a1e415dd33219b7c66ba69b8fd2ff1668b8064ed/py_spy-0.3.4-py2.py3-none-manylinux1_x86_64.whl (3.2MB)\n",
            "\u001b[K     |████████████████████████████████| 3.2MB 49.4MB/s \n",
            "\u001b[?25hCollecting colorful\n",
            "\u001b[?25l  Downloading https://files.pythonhosted.org/packages/b0/8e/e386e248266952d24d73ed734c2f5513f34d9557032618c8910e605dfaf6/colorful-0.5.4-py2.py3-none-any.whl (201kB)\n",
            "\u001b[K     |████████████████████████████████| 204kB 61.7MB/s \n",
            "\u001b[?25hRequirement already satisfied: prometheus-client>=0.7.1 in /usr/local/lib/python3.6/dist-packages (from ray>=1.0.0; extra == \"ray\"->modin[ray]) (0.9.0)\n",
            "Requirement already satisfied: six>=1.5 in /usr/local/lib/python3.6/dist-packages (from python-dateutil>=2.7.3->pandas==1.1.5->modin[ray]) (1.15.0)\n",
            "Requirement already satisfied: setuptools in /usr/local/lib/python3.6/dist-packages (from protobuf>=3.8.0->ray>=1.0.0; extra == \"ray\"->modin[ray]) (51.3.3)\n",
            "Collecting idna-ssl>=1.0; python_version < \"3.7\"\n",
            "  Downloading https://files.pythonhosted.org/packages/46/03/07c4894aae38b0de52b52586b24bf189bb83e4ddabfe2e2c8f2419eec6f4/idna-ssl-1.1.0.tar.gz\n",
            "Requirement already satisfied: attrs>=17.3.0 in /usr/local/lib/python3.6/dist-packages (from aiohttp->ray>=1.0.0; extra == \"ray\"->modin[ray]) (20.3.0)\n",
            "Requirement already satisfied: typing-extensions>=3.6.5 in /usr/local/lib/python3.6/dist-packages (from aiohttp->ray>=1.0.0; extra == \"ray\"->modin[ray]) (3.7.4.3)\n",
            "Requirement already satisfied: chardet<4.0,>=2.0 in /usr/local/lib/python3.6/dist-packages (from aiohttp->ray>=1.0.0; extra == \"ray\"->modin[ray]) (3.0.4)\n",
            "Collecting yarl<2.0,>=1.0\n",
            "\u001b[?25l  Downloading https://files.pythonhosted.org/packages/da/08/52b26b44bce7b818b410aee37c5e424c9ea420c557bca97dc2adac29b151/yarl-1.6.3-cp36-cp36m-manylinux2014_x86_64.whl (293kB)\n",
            "\u001b[K     |████████████████████████████████| 296kB 58.9MB/s \n",
            "\u001b[?25hCollecting async-timeout<4.0,>=3.0\n",
            "  Downloading https://files.pythonhosted.org/packages/e1/1e/5a4441be21b0726c4464f3f23c8b19628372f606755a9d2e46c187e65ec4/async_timeout-3.0.1-py3-none-any.whl\n",
            "Collecting multidict<7.0,>=4.5\n",
            "\u001b[?25l  Downloading https://files.pythonhosted.org/packages/a1/35/b22524d6b9cacfb4c5eff413a069bbc17c6ea628e54da5c6c989998ced5f/multidict-5.1.0-cp36-cp36m-manylinux2014_x86_64.whl (141kB)\n",
            "\u001b[K     |████████████████████████████████| 143kB 61.1MB/s \n",
            "\u001b[?25hCollecting hiredis\n",
            "\u001b[?25l  Downloading https://files.pythonhosted.org/packages/ed/7d/6acf1c8d4f2fb327ff6feec000b4c56a20628fbe966a4c7cd16c0b80343c/hiredis-1.1.0-cp36-cp36m-manylinux2010_x86_64.whl (61kB)\n",
            "\u001b[K     |████████████████████████████████| 61kB 9.3MB/s \n",
            "\u001b[?25hRequirement already satisfied: nvidia-ml-py3>=7.352.0 in /usr/local/lib/python3.6/dist-packages (from gpustat->ray>=1.0.0; extra == \"ray\"->modin[ray]) (7.352.0)\n",
            "Requirement already satisfied: psutil in /usr/local/lib/python3.6/dist-packages (from gpustat->ray>=1.0.0; extra == \"ray\"->modin[ray]) (5.4.8)\n",
            "Collecting blessings>=1.6\n",
            "  Downloading https://files.pythonhosted.org/packages/03/74/489f85a78247609c6b4f13733cbf3ba0d864b11aa565617b645d6fdf2a4a/blessings-1.7-py3-none-any.whl\n",
            "Requirement already satisfied: idna<3,>=2.5 in /usr/local/lib/python3.6/dist-packages (from requests->ray>=1.0.0; extra == \"ray\"->modin[ray]) (2.10)\n",
            "Requirement already satisfied: certifi>=2017.4.17 in /usr/local/lib/python3.6/dist-packages (from requests->ray>=1.0.0; extra == \"ray\"->modin[ray]) (2020.12.5)\n",
            "Requirement already satisfied: urllib3!=1.25.0,!=1.25.1,<1.26,>=1.21.1 in /usr/local/lib/python3.6/dist-packages (from requests->ray>=1.0.0; extra == \"ray\"->modin[ray]) (1.24.3)\n",
            "Collecting opencensus-context==0.1.2\n",
            "  Downloading https://files.pythonhosted.org/packages/f1/33/990f1bd9e7ee770fc8d3c154fc24743a96f16a0e49e14e1b7540cc2fdd93/opencensus_context-0.1.2-py2.py3-none-any.whl\n",
            "Requirement already satisfied: google-api-core<2.0.0,>=1.0.0 in /usr/local/lib/python3.6/dist-packages (from opencensus->ray>=1.0.0; extra == \"ray\"->modin[ray]) (1.16.0)\n",
            "Collecting contextvars; python_version >= \"3.6\" and python_version < \"3.7\"\n",
            "  Downloading https://files.pythonhosted.org/packages/83/96/55b82d9f13763be9d672622e1b8106c85acb83edd7cc2fa5bc67cd9877e9/contextvars-2.4.tar.gz\n",
            "Requirement already satisfied: google-auth<2.0dev,>=0.4.0 in /usr/local/lib/python3.6/dist-packages (from google-api-core<2.0.0,>=1.0.0->opencensus->ray>=1.0.0; extra == \"ray\"->modin[ray]) (1.17.2)\n",
            "Requirement already satisfied: googleapis-common-protos<2.0dev,>=1.6.0 in /usr/local/lib/python3.6/dist-packages (from google-api-core<2.0.0,>=1.0.0->opencensus->ray>=1.0.0; extra == \"ray\"->modin[ray]) (1.52.0)\n",
            "Collecting immutables>=0.9\n",
            "\u001b[?25l  Downloading https://files.pythonhosted.org/packages/99/e0/ea6fd4697120327d26773b5a84853f897a68e33d3f9376b00a8ff96e4f63/immutables-0.14-cp36-cp36m-manylinux1_x86_64.whl (98kB)\n",
            "\u001b[K     |████████████████████████████████| 102kB 14.0MB/s \n",
            "\u001b[?25hRequirement already satisfied: cachetools<5.0,>=2.0.0 in /usr/local/lib/python3.6/dist-packages (from google-auth<2.0dev,>=0.4.0->google-api-core<2.0.0,>=1.0.0->opencensus->ray>=1.0.0; extra == \"ray\"->modin[ray]) (4.2.1)\n",
            "Requirement already satisfied: pyasn1-modules>=0.2.1 in /usr/local/lib/python3.6/dist-packages (from google-auth<2.0dev,>=0.4.0->google-api-core<2.0.0,>=1.0.0->opencensus->ray>=1.0.0; extra == \"ray\"->modin[ray]) (0.2.8)\n",
            "Requirement already satisfied: rsa<5,>=3.1.4; python_version >= \"3\" in /usr/local/lib/python3.6/dist-packages (from google-auth<2.0dev,>=0.4.0->google-api-core<2.0.0,>=1.0.0->opencensus->ray>=1.0.0; extra == \"ray\"->modin[ray]) (4.7)\n",
            "Requirement already satisfied: pyasn1<0.5.0,>=0.4.6 in /usr/local/lib/python3.6/dist-packages (from pyasn1-modules>=0.2.1->google-auth<2.0dev,>=0.4.0->google-api-core<2.0.0,>=1.0.0->opencensus->ray>=1.0.0; extra == \"ray\"->modin[ray]) (0.4.8)\n",
            "Building wheels for collected packages: gpustat, idna-ssl, contextvars\n",
            "  Building wheel for gpustat (setup.py) ... \u001b[?25l\u001b[?25hdone\n",
            "  Created wheel for gpustat: filename=gpustat-0.6.0-cp36-none-any.whl size=12622 sha256=0ec148d3851e296d6f57f60b871b64ce478af6ce99eb8b796a3374778410191f\n",
            "  Stored in directory: /root/.cache/pip/wheels/48/b4/d5/fb5b7f1d040f2ff20687e3bad6867d63155dbde5a7c10f4293\n",
            "  Building wheel for idna-ssl (setup.py) ... \u001b[?25l\u001b[?25hdone\n",
            "  Created wheel for idna-ssl: filename=idna_ssl-1.1.0-cp36-none-any.whl size=3163 sha256=9e88fbc20c45f1a062972d3118e5a97e163306bc67a994eac430000c5c559475\n",
            "  Stored in directory: /root/.cache/pip/wheels/d3/00/b3/32d613e19e08a739751dd6bf998cfed277728f8b2127ad4eb7\n",
            "  Building wheel for contextvars (setup.py) ... \u001b[?25l\u001b[?25hdone\n",
            "  Created wheel for contextvars: filename=contextvars-2.4-cp36-none-any.whl size=7667 sha256=5664a850eea06d4a8b810c93df8cec0fe4ef5e9fe789110d3209a04f2637f7de\n",
            "  Stored in directory: /root/.cache/pip/wheels/a5/7d/68/1ebae2668bda2228686e3c1cf16f2c2384cea6e9334ad5f6de\n",
            "Successfully built gpustat idna-ssl contextvars\n",
            "Installing collected packages: pyarrow, idna-ssl, multidict, yarl, async-timeout, aiohttp, hiredis, aioredis, aiohttp-cors, redis, blessings, gpustat, immutables, contextvars, opencensus-context, opencensus, colorama, py-spy, colorful, ray\n",
            "  Found existing installation: pyarrow 0.14.1\n",
            "    Uninstalling pyarrow-0.14.1:\n",
            "      Successfully uninstalled pyarrow-0.14.1\n",
            "Successfully installed aiohttp-3.7.3 aiohttp-cors-0.7.0 aioredis-1.3.1 async-timeout-3.0.1 blessings-1.7 colorama-0.4.4 colorful-0.5.4 contextvars-2.4 gpustat-0.6.0 hiredis-1.1.0 idna-ssl-1.1.0 immutables-0.14 multidict-5.1.0 opencensus-0.7.12 opencensus-context-0.1.2 py-spy-0.3.4 pyarrow-1.0.0 ray-1.1.0 redis-3.5.3 yarl-1.6.3\n",
            "Requirement already satisfied: modin[dask] in /usr/local/lib/python3.6/dist-packages (0.8.3)\n",
            "Requirement already satisfied: pandas==1.1.5 in /usr/local/lib/python3.6/dist-packages (from modin[dask]) (1.1.5)\n",
            "Requirement already satisfied: packaging in /usr/local/lib/python3.6/dist-packages (from modin[dask]) (20.8)\n",
            "Collecting distributed<=2.19.0,>=2.12.0; extra == \"dask\"\n",
            "\u001b[?25l  Downloading https://files.pythonhosted.org/packages/ed/5b/c489f407e1b48981c6c17b1e3458910882430f9fc4576b4bf9efef9140c6/distributed-2.19.0-py3-none-any.whl (643kB)\n",
            "\u001b[K     |████████████████████████████████| 645kB 17.0MB/s \n",
            "\u001b[?25hRequirement already satisfied: dask<=2.19.0,>=2.12.0; extra == \"dask\" in /usr/local/lib/python3.6/dist-packages (from modin[dask]) (2.12.0)\n",
            "Requirement already satisfied: python-dateutil>=2.7.3 in /usr/local/lib/python3.6/dist-packages (from pandas==1.1.5->modin[dask]) (2.8.1)\n",
            "Requirement already satisfied: pytz>=2017.2 in /usr/local/lib/python3.6/dist-packages (from pandas==1.1.5->modin[dask]) (2018.9)\n",
            "Requirement already satisfied: numpy>=1.15.4 in /usr/local/lib/python3.6/dist-packages (from pandas==1.1.5->modin[dask]) (1.19.5)\n",
            "Requirement already satisfied: pyparsing>=2.0.2 in /usr/local/lib/python3.6/dist-packages (from packaging->modin[dask]) (2.4.7)\n",
            "Requirement already satisfied: contextvars; python_version < \"3.7\" in /usr/local/lib/python3.6/dist-packages (from distributed<=2.19.0,>=2.12.0; extra == \"dask\"->modin[dask]) (2.4)\n",
            "Requirement already satisfied: zict>=0.1.3 in /usr/local/lib/python3.6/dist-packages (from distributed<=2.19.0,>=2.12.0; extra == \"dask\"->modin[dask]) (2.0.0)\n",
            "Requirement already satisfied: pyyaml in /usr/local/lib/python3.6/dist-packages (from distributed<=2.19.0,>=2.12.0; extra == \"dask\"->modin[dask]) (3.13)\n",
            "Requirement already satisfied: sortedcontainers!=2.0.0,!=2.0.1 in /usr/local/lib/python3.6/dist-packages (from distributed<=2.19.0,>=2.12.0; extra == \"dask\"->modin[dask]) (2.3.0)\n",
            "Requirement already satisfied: toolz>=0.8.2 in /usr/local/lib/python3.6/dist-packages (from distributed<=2.19.0,>=2.12.0; extra == \"dask\"->modin[dask]) (0.11.1)\n",
            "Requirement already satisfied: tornado>=5; python_version < \"3.8\" in /usr/local/lib/python3.6/dist-packages (from distributed<=2.19.0,>=2.12.0; extra == \"dask\"->modin[dask]) (5.1.1)\n",
            "Requirement already satisfied: click>=6.6 in /usr/local/lib/python3.6/dist-packages (from distributed<=2.19.0,>=2.12.0; extra == \"dask\"->modin[dask]) (7.1.2)\n",
            "Requirement already satisfied: setuptools in /usr/local/lib/python3.6/dist-packages (from distributed<=2.19.0,>=2.12.0; extra == \"dask\"->modin[dask]) (51.3.3)\n",
            "Requirement already satisfied: cloudpickle>=1.3.0 in /usr/local/lib/python3.6/dist-packages (from distributed<=2.19.0,>=2.12.0; extra == \"dask\"->modin[dask]) (1.3.0)\n",
            "Requirement already satisfied: msgpack>=0.6.0 in /usr/local/lib/python3.6/dist-packages (from distributed<=2.19.0,>=2.12.0; extra == \"dask\"->modin[dask]) (1.0.2)\n",
            "Requirement already satisfied: psutil>=5.0 in /usr/local/lib/python3.6/dist-packages (from distributed<=2.19.0,>=2.12.0; extra == \"dask\"->modin[dask]) (5.4.8)\n",
            "Requirement already satisfied: tblib>=1.6.0 in /usr/local/lib/python3.6/dist-packages (from distributed<=2.19.0,>=2.12.0; extra == \"dask\"->modin[dask]) (1.7.0)\n",
            "Requirement already satisfied: six>=1.5 in /usr/local/lib/python3.6/dist-packages (from python-dateutil>=2.7.3->pandas==1.1.5->modin[dask]) (1.15.0)\n",
            "Requirement already satisfied: immutables>=0.9 in /usr/local/lib/python3.6/dist-packages (from contextvars; python_version < \"3.7\"->distributed<=2.19.0,>=2.12.0; extra == \"dask\"->modin[dask]) (0.14)\n",
            "Requirement already satisfied: heapdict in /usr/local/lib/python3.6/dist-packages (from zict>=0.1.3->distributed<=2.19.0,>=2.12.0; extra == \"dask\"->modin[dask]) (1.0.1)\n",
            "Installing collected packages: distributed\n",
            "  Found existing installation: distributed 1.25.3\n",
            "    Uninstalling distributed-1.25.3:\n",
            "      Successfully uninstalled distributed-1.25.3\n",
            "Successfully installed distributed-2.19.0\n",
            "Requirement already satisfied: modin[all] in /usr/local/lib/python3.6/dist-packages (0.8.3)\n",
            "Requirement already satisfied: pandas==1.1.5 in /usr/local/lib/python3.6/dist-packages (from modin[all]) (1.1.5)\n",
            "Requirement already satisfied: packaging in /usr/local/lib/python3.6/dist-packages (from modin[all]) (20.8)\n",
            "Requirement already satisfied: distributed<=2.19.0,>=2.12.0; extra == \"all\" in /usr/local/lib/python3.6/dist-packages (from modin[all]) (2.19.0)\n",
            "Requirement already satisfied: pyarrow==1.0; extra == \"all\" in /usr/local/lib/python3.6/dist-packages (from modin[all]) (1.0.0)\n",
            "Collecting boto3==1.4.8; extra == \"all\"\n",
            "\u001b[?25l  Downloading https://files.pythonhosted.org/packages/7d/09/66fef826fb13a2cee74a1df56c269d2794a90ece49c3b77113b733e4b91d/boto3-1.4.8-py2.py3-none-any.whl (128kB)\n",
            "\u001b[K     |████████████████████████████████| 133kB 17.0MB/s \n",
            "\u001b[?25hCollecting rpyc==4.1.5; extra == \"all\"\n",
            "\u001b[?25l  Downloading https://files.pythonhosted.org/packages/a4/ee/dbfdd5392db9330971756229ebf05ae8fbf38f70f4617dfc678fd9d4473a/rpyc-4.1.5-py3-none-any.whl (68kB)\n",
            "\u001b[K     |████████████████████████████████| 71kB 9.7MB/s \n",
            "\u001b[?25hRequirement already satisfied: ray>=1.0.0; extra == \"all\" in /usr/local/lib/python3.6/dist-packages (from modin[all]) (1.1.0)\n",
            "Collecting cloudpickle==1.4.1; extra == \"all\"\n",
            "  Downloading https://files.pythonhosted.org/packages/c6/a5/bb99276ec2685e11d34e4aefc0d9238626843ea51f974aa59c68317d34b2/cloudpickle-1.4.1-py3-none-any.whl\n",
            "Requirement already satisfied: dask<=2.19.0,>=2.12.0; extra == \"all\" in /usr/local/lib/python3.6/dist-packages (from modin[all]) (2.12.0)\n",
            "Requirement already satisfied: pytz>=2017.2 in /usr/local/lib/python3.6/dist-packages (from pandas==1.1.5->modin[all]) (2018.9)\n",
            "Requirement already satisfied: numpy>=1.15.4 in /usr/local/lib/python3.6/dist-packages (from pandas==1.1.5->modin[all]) (1.19.5)\n",
            "Requirement already satisfied: python-dateutil>=2.7.3 in /usr/local/lib/python3.6/dist-packages (from pandas==1.1.5->modin[all]) (2.8.1)\n",
            "Requirement already satisfied: pyparsing>=2.0.2 in /usr/local/lib/python3.6/dist-packages (from packaging->modin[all]) (2.4.7)\n",
            "Requirement already satisfied: contextvars; python_version < \"3.7\" in /usr/local/lib/python3.6/dist-packages (from distributed<=2.19.0,>=2.12.0; extra == \"all\"->modin[all]) (2.4)\n",
            "Requirement already satisfied: zict>=0.1.3 in /usr/local/lib/python3.6/dist-packages (from distributed<=2.19.0,>=2.12.0; extra == \"all\"->modin[all]) (2.0.0)\n",
            "Requirement already satisfied: tblib>=1.6.0 in /usr/local/lib/python3.6/dist-packages (from distributed<=2.19.0,>=2.12.0; extra == \"all\"->modin[all]) (1.7.0)\n",
            "Requirement already satisfied: toolz>=0.8.2 in /usr/local/lib/python3.6/dist-packages (from distributed<=2.19.0,>=2.12.0; extra == \"all\"->modin[all]) (0.11.1)\n",
            "Requirement already satisfied: tornado>=5; python_version < \"3.8\" in /usr/local/lib/python3.6/dist-packages (from distributed<=2.19.0,>=2.12.0; extra == \"all\"->modin[all]) (5.1.1)\n",
            "Requirement already satisfied: pyyaml in /usr/local/lib/python3.6/dist-packages (from distributed<=2.19.0,>=2.12.0; extra == \"all\"->modin[all]) (3.13)\n",
            "Requirement already satisfied: click>=6.6 in /usr/local/lib/python3.6/dist-packages (from distributed<=2.19.0,>=2.12.0; extra == \"all\"->modin[all]) (7.1.2)\n",
            "Requirement already satisfied: msgpack>=0.6.0 in /usr/local/lib/python3.6/dist-packages (from distributed<=2.19.0,>=2.12.0; extra == \"all\"->modin[all]) (1.0.2)\n",
            "Requirement already satisfied: psutil>=5.0 in /usr/local/lib/python3.6/dist-packages (from distributed<=2.19.0,>=2.12.0; extra == \"all\"->modin[all]) (5.4.8)\n",
            "Requirement already satisfied: setuptools in /usr/local/lib/python3.6/dist-packages (from distributed<=2.19.0,>=2.12.0; extra == \"all\"->modin[all]) (51.3.3)\n",
            "Requirement already satisfied: sortedcontainers!=2.0.0,!=2.0.1 in /usr/local/lib/python3.6/dist-packages (from distributed<=2.19.0,>=2.12.0; extra == \"all\"->modin[all]) (2.3.0)\n",
            "Collecting s3transfer<0.2.0,>=0.1.10\n",
            "\u001b[?25l  Downloading https://files.pythonhosted.org/packages/d7/14/2a0004d487464d120c9fb85313a75cd3d71a7506955be458eebfe19a6b1d/s3transfer-0.1.13-py2.py3-none-any.whl (59kB)\n",
            "\u001b[K     |████████████████████████████████| 61kB 7.8MB/s \n",
            "\u001b[?25hCollecting botocore<1.9.0,>=1.8.0\n",
            "\u001b[?25l  Downloading https://files.pythonhosted.org/packages/5a/9f/c74178afb86983446a4aea1f308272f6e92a96dd7b6efd086eb50241b10c/botocore-1.8.50-py2.py3-none-any.whl (4.1MB)\n",
            "\u001b[K     |████████████████████████████████| 4.1MB 32.8MB/s \n",
            "\u001b[?25hCollecting jmespath<1.0.0,>=0.7.1\n",
            "  Downloading https://files.pythonhosted.org/packages/07/cb/5f001272b6faeb23c1c9e0acc04d48eaaf5c862c17709d20e3469c6e0139/jmespath-0.10.0-py2.py3-none-any.whl\n",
            "Collecting plumbum\n",
            "\u001b[?25l  Downloading https://files.pythonhosted.org/packages/99/0f/10be0ffe552cf422561adef1d03a303a98b2ba929191d14d5023b0514bfd/plumbum-1.6.9-py2.py3-none-any.whl (115kB)\n",
            "\u001b[K     |████████████████████████████████| 122kB 60.8MB/s \n",
            "\u001b[?25hRequirement already satisfied: gpustat in /usr/local/lib/python3.6/dist-packages (from ray>=1.0.0; extra == \"all\"->modin[all]) (0.6.0)\n",
            "Requirement already satisfied: filelock in /usr/local/lib/python3.6/dist-packages (from ray>=1.0.0; extra == \"all\"->modin[all]) (3.0.12)\n",
            "Requirement already satisfied: colorful in /usr/local/lib/python3.6/dist-packages (from ray>=1.0.0; extra == \"all\"->modin[all]) (0.5.4)\n",
            "Requirement already satisfied: py-spy>=0.2.0 in /usr/local/lib/python3.6/dist-packages (from ray>=1.0.0; extra == \"all\"->modin[all]) (0.3.4)\n",
            "Requirement already satisfied: aiohttp in /usr/local/lib/python3.6/dist-packages (from ray>=1.0.0; extra == \"all\"->modin[all]) (3.7.3)\n",
            "Requirement already satisfied: protobuf>=3.8.0 in /usr/local/lib/python3.6/dist-packages (from ray>=1.0.0; extra == \"all\"->modin[all]) (3.12.4)\n",
            "Requirement already satisfied: jsonschema in /usr/local/lib/python3.6/dist-packages (from ray>=1.0.0; extra == \"all\"->modin[all]) (2.6.0)\n",
            "Requirement already satisfied: colorama in /usr/local/lib/python3.6/dist-packages (from ray>=1.0.0; extra == \"all\"->modin[all]) (0.4.4)\n",
            "Requirement already satisfied: requests in /usr/local/lib/python3.6/dist-packages (from ray>=1.0.0; extra == \"all\"->modin[all]) (2.23.0)\n",
            "Requirement already satisfied: redis>=3.5.0 in /usr/local/lib/python3.6/dist-packages (from ray>=1.0.0; extra == \"all\"->modin[all]) (3.5.3)\n",
            "Requirement already satisfied: opencensus in /usr/local/lib/python3.6/dist-packages (from ray>=1.0.0; extra == \"all\"->modin[all]) (0.7.12)\n",
            "Requirement already satisfied: aiohttp-cors in /usr/local/lib/python3.6/dist-packages (from ray>=1.0.0; extra == \"all\"->modin[all]) (0.7.0)\n",
            "Requirement already satisfied: grpcio>=1.28.1 in /usr/local/lib/python3.6/dist-packages (from ray>=1.0.0; extra == \"all\"->modin[all]) (1.32.0)\n",
            "Requirement already satisfied: prometheus-client>=0.7.1 in /usr/local/lib/python3.6/dist-packages (from ray>=1.0.0; extra == \"all\"->modin[all]) (0.9.0)\n",
            "Requirement already satisfied: aioredis in /usr/local/lib/python3.6/dist-packages (from ray>=1.0.0; extra == \"all\"->modin[all]) (1.3.1)\n",
            "Requirement already satisfied: six>=1.5 in /usr/local/lib/python3.6/dist-packages (from python-dateutil>=2.7.3->pandas==1.1.5->modin[all]) (1.15.0)\n",
            "Requirement already satisfied: immutables>=0.9 in /usr/local/lib/python3.6/dist-packages (from contextvars; python_version < \"3.7\"->distributed<=2.19.0,>=2.12.0; extra == \"all\"->modin[all]) (0.14)\n",
            "Requirement already satisfied: heapdict in /usr/local/lib/python3.6/dist-packages (from zict>=0.1.3->distributed<=2.19.0,>=2.12.0; extra == \"all\"->modin[all]) (1.0.1)\n",
            "Requirement already satisfied: docutils>=0.10 in /usr/local/lib/python3.6/dist-packages (from botocore<1.9.0,>=1.8.0->boto3==1.4.8; extra == \"all\"->modin[all]) (0.16)\n",
            "Requirement already satisfied: blessings>=1.6 in /usr/local/lib/python3.6/dist-packages (from gpustat->ray>=1.0.0; extra == \"all\"->modin[all]) (1.7)\n",
            "Requirement already satisfied: nvidia-ml-py3>=7.352.0 in /usr/local/lib/python3.6/dist-packages (from gpustat->ray>=1.0.0; extra == \"all\"->modin[all]) (7.352.0)\n",
            "Requirement already satisfied: yarl<2.0,>=1.0 in /usr/local/lib/python3.6/dist-packages (from aiohttp->ray>=1.0.0; extra == \"all\"->modin[all]) (1.6.3)\n",
            "Requirement already satisfied: async-timeout<4.0,>=3.0 in /usr/local/lib/python3.6/dist-packages (from aiohttp->ray>=1.0.0; extra == \"all\"->modin[all]) (3.0.1)\n",
            "Requirement already satisfied: typing-extensions>=3.6.5 in /usr/local/lib/python3.6/dist-packages (from aiohttp->ray>=1.0.0; extra == \"all\"->modin[all]) (3.7.4.3)\n",
            "Requirement already satisfied: chardet<4.0,>=2.0 in /usr/local/lib/python3.6/dist-packages (from aiohttp->ray>=1.0.0; extra == \"all\"->modin[all]) (3.0.4)\n",
            "Requirement already satisfied: attrs>=17.3.0 in /usr/local/lib/python3.6/dist-packages (from aiohttp->ray>=1.0.0; extra == \"all\"->modin[all]) (20.3.0)\n",
            "Requirement already satisfied: multidict<7.0,>=4.5 in /usr/local/lib/python3.6/dist-packages (from aiohttp->ray>=1.0.0; extra == \"all\"->modin[all]) (5.1.0)\n",
            "Requirement already satisfied: idna-ssl>=1.0; python_version < \"3.7\" in /usr/local/lib/python3.6/dist-packages (from aiohttp->ray>=1.0.0; extra == \"all\"->modin[all]) (1.1.0)\n",
            "Requirement already satisfied: certifi>=2017.4.17 in /usr/local/lib/python3.6/dist-packages (from requests->ray>=1.0.0; extra == \"all\"->modin[all]) (2020.12.5)\n",
            "Requirement already satisfied: idna<3,>=2.5 in /usr/local/lib/python3.6/dist-packages (from requests->ray>=1.0.0; extra == \"all\"->modin[all]) (2.10)\n",
            "Requirement already satisfied: urllib3!=1.25.0,!=1.25.1,<1.26,>=1.21.1 in /usr/local/lib/python3.6/dist-packages (from requests->ray>=1.0.0; extra == \"all\"->modin[all]) (1.24.3)\n",
            "Requirement already satisfied: opencensus-context==0.1.2 in /usr/local/lib/python3.6/dist-packages (from opencensus->ray>=1.0.0; extra == \"all\"->modin[all]) (0.1.2)\n",
            "Requirement already satisfied: google-api-core<2.0.0,>=1.0.0 in /usr/local/lib/python3.6/dist-packages (from opencensus->ray>=1.0.0; extra == \"all\"->modin[all]) (1.16.0)\n",
            "Requirement already satisfied: hiredis in /usr/local/lib/python3.6/dist-packages (from aioredis->ray>=1.0.0; extra == \"all\"->modin[all]) (1.1.0)\n",
            "Requirement already satisfied: googleapis-common-protos<2.0dev,>=1.6.0 in /usr/local/lib/python3.6/dist-packages (from google-api-core<2.0.0,>=1.0.0->opencensus->ray>=1.0.0; extra == \"all\"->modin[all]) (1.52.0)\n",
            "Requirement already satisfied: google-auth<2.0dev,>=0.4.0 in /usr/local/lib/python3.6/dist-packages (from google-api-core<2.0.0,>=1.0.0->opencensus->ray>=1.0.0; extra == \"all\"->modin[all]) (1.17.2)\n",
            "Requirement already satisfied: pyasn1-modules>=0.2.1 in /usr/local/lib/python3.6/dist-packages (from google-auth<2.0dev,>=0.4.0->google-api-core<2.0.0,>=1.0.0->opencensus->ray>=1.0.0; extra == \"all\"->modin[all]) (0.2.8)\n",
            "Requirement already satisfied: rsa<5,>=3.1.4; python_version >= \"3\" in /usr/local/lib/python3.6/dist-packages (from google-auth<2.0dev,>=0.4.0->google-api-core<2.0.0,>=1.0.0->opencensus->ray>=1.0.0; extra == \"all\"->modin[all]) (4.7)\n",
            "Requirement already satisfied: cachetools<5.0,>=2.0.0 in /usr/local/lib/python3.6/dist-packages (from google-auth<2.0dev,>=0.4.0->google-api-core<2.0.0,>=1.0.0->opencensus->ray>=1.0.0; extra == \"all\"->modin[all]) (4.2.1)\n",
            "Requirement already satisfied: pyasn1<0.5.0,>=0.4.6 in /usr/local/lib/python3.6/dist-packages (from pyasn1-modules>=0.2.1->google-auth<2.0dev,>=0.4.0->google-api-core<2.0.0,>=1.0.0->opencensus->ray>=1.0.0; extra == \"all\"->modin[all]) (0.4.8)\n",
            "Installing collected packages: jmespath, botocore, s3transfer, boto3, plumbum, rpyc, cloudpickle\n",
            "  Found existing installation: cloudpickle 1.3.0\n",
            "    Uninstalling cloudpickle-1.3.0:\n",
            "      Successfully uninstalled cloudpickle-1.3.0\n",
            "Successfully installed boto3-1.4.8 botocore-1.8.50 cloudpickle-1.4.1 jmespath-0.10.0 plumbum-1.6.9 rpyc-4.1.5 s3transfer-0.1.13\n"
          ],
          "name": "stdout"
        }
      ]
    },
    {
      "cell_type": "markdown",
      "metadata": {
        "id": "jjA_yBbSluZS"
      },
      "source": [
        "Using conda"
      ]
    },
    {
      "cell_type": "code",
      "metadata": {
        "colab": {
          "base_uri": "https://localhost:8080/",
          "height": 130
        },
        "id": "CwOd7y9Vlt6n",
        "outputId": "124d58ac-53f4-438f-f905-b3c882a2f95e"
      },
      "source": [
        "conda install -c conda-forge modin"
      ],
      "execution_count": 3,
      "outputs": [
        {
          "output_type": "error",
          "ename": "SyntaxError",
          "evalue": "ignored",
          "traceback": [
            "\u001b[0;36m  File \u001b[0;32m\"<ipython-input-3-1cf259dffbfc>\"\u001b[0;36m, line \u001b[0;32m1\u001b[0m\n\u001b[0;31m    conda install -c conda-forge modin\u001b[0m\n\u001b[0m                ^\u001b[0m\n\u001b[0;31mSyntaxError\u001b[0m\u001b[0;31m:\u001b[0m invalid syntax\n"
          ]
        }
      ]
    },
    {
      "cell_type": "code",
      "metadata": {
        "colab": {
          "base_uri": "https://localhost:8080/"
        },
        "id": "oxrRbf_jlpJZ",
        "outputId": "381d6086-3ad2-4785-8b3b-2553d25f6770"
      },
      "source": [
        "!export MODIN_ENGINE = ray    # Modin will run on Ray\n",
        "!export MODIN_ENGINE = dask   # Modin will run on Dask"
      ],
      "execution_count": 4,
      "outputs": [
        {
          "output_type": "stream",
          "text": [
            "/bin/bash: line 0: export: `=': not a valid identifier\n",
            "/bin/bash: line 0: export: `=': not a valid identifier\n"
          ],
          "name": "stdout"
        }
      ]
    },
    {
      "cell_type": "code",
      "metadata": {
        "id": "oKpHX0N7lIAb"
      },
      "source": [
        "import os\n",
        "os.environ[\"MODIN_ENGINE\"] = \"ray\"    # Modin will run on Ray\n",
        "os.environ[\"MODIN_ENGINE\"] = \"dask\"   # Modin will run on Daskimport modin.pandas as pd"
      ],
      "execution_count": 5,
      "outputs": []
    },
    {
      "cell_type": "code",
      "metadata": {
        "colab": {
          "base_uri": "https://localhost:8080/"
        },
        "id": "RXvPmgIHoN2V",
        "outputId": "100c6de2-bf4b-4167-cb61-569b3f1ab31d"
      },
      "source": [
        "pip install msgpack<1.0"
      ],
      "execution_count": 6,
      "outputs": [
        {
          "output_type": "stream",
          "text": [
            "/bin/bash: 1.0: No such file or directory\n"
          ],
          "name": "stdout"
        }
      ]
    },
    {
      "cell_type": "code",
      "metadata": {
        "colab": {
          "base_uri": "https://localhost:8080/"
        },
        "id": "ggCBQQGwljoB",
        "outputId": "67b95f35-8c8b-4ed8-b8b4-7f888664b55b"
      },
      "source": [
        "# Read the dataset with Pandas\n",
        "import time\n",
        "import pandas as pd\n",
        "import numpy as np\n",
        "\n",
        "s  = time.time()\n",
        "frame_data = np.random.randint(0, 100, size=(2**10, 2**8))\n",
        "df = pd.DataFrame(frame_data)\n",
        "e  = time.time()\n",
        "\n",
        "print(\"Pandas Loading Time = {}\".format(e-s)) \n",
        "\n",
        "# Read the dataset with Modin\n",
        "import modin.pandas as pd \n",
        "\n",
        "s  = time.time()\n",
        "frame_data = np.random.randint(0, 100, size=(2**10, 2**8))\n",
        "df = pd.DataFrame(frame_data)\n",
        "e  = time.time()\n",
        "\n",
        "print(\"Modin Loading Time = {}\".format(e-s))"
      ],
      "execution_count": 7,
      "outputs": [
        {
          "output_type": "stream",
          "text": [
            "Pandas Loading Time = 0.006593942642211914\n"
          ],
          "name": "stdout"
        },
        {
          "output_type": "stream",
          "text": [
            "UserWarning: The Dask Engine for Modin is experimental.\n",
            "UserWarning: Distributing <class 'numpy.ndarray'> object. This may take some time.\n"
          ],
          "name": "stderr"
        },
        {
          "output_type": "stream",
          "text": [
            "Modin Loading Time = 0.5144705772399902\n"
          ],
          "name": "stdout"
        }
      ]
    }
  ]
}