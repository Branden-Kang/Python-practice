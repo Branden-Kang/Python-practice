{
  "nbformat": 4,
  "nbformat_minor": 0,
  "metadata": {
    "colab": {
      "provenance": [],
      "authorship_tag": "ABX9TyPMA0TkTGBp2heK7Y/Px/yz"
    },
    "kernelspec": {
      "name": "python3",
      "display_name": "Python 3"
    },
    "language_info": {
      "name": "python"
    }
  },
  "cells": [
    {
      "cell_type": "markdown",
      "source": [
        "[Reference](v)"
      ],
      "metadata": {
        "id": "_NMaV___J0ii"
      }
    },
    {
      "cell_type": "markdown",
      "source": [
        "# 1. The Black-Scholes Formula for Option Pricing"
      ],
      "metadata": {
        "id": "9LjO0HL3J454"
      }
    },
    {
      "cell_type": "code",
      "execution_count": 1,
      "metadata": {
        "colab": {
          "base_uri": "https://localhost:8080/"
        },
        "id": "jJ4ckburJwg_",
        "outputId": "811a49ea-4c6c-4762-fbc2-887d2cd03aff"
      },
      "outputs": [
        {
          "output_type": "stream",
          "name": "stdout",
          "text": [
            "Call Option Price: 13.35\n"
          ]
        }
      ],
      "source": [
        "import math\n",
        "from scipy.stats import norm\n",
        "\n",
        "# Black-Scholes function to calculate call option price\n",
        "def black_scholes_call(S0, X, T, r, sigma):\n",
        "    d1 = (math.log(S0 / X) + (r + 0.5 * sigma ** 2) * T) / (sigma * math.sqrt(T))\n",
        "    d2 = d1 - sigma * math.sqrt(T)\n",
        "    call_price = S0 * norm.cdf(d1) - X * math.exp(-r * T) * norm.cdf(d2)\n",
        "    return call_price\n",
        "\n",
        "# Example values\n",
        "S0 = 100  # Current stock price\n",
        "X = 95    # Strike price\n",
        "T = 1     # Time to maturity (1 year)\n",
        "r = 0.05  # Risk-free interest rate\n",
        "sigma = 0.2  # Volatility\n",
        "\n",
        "print(f\"Call Option Price: {black_scholes_call(S0, X, T, r, sigma):.2f}\")"
      ]
    },
    {
      "cell_type": "markdown",
      "source": [
        "# 2. Newton-Raphson Method for Finding Roots"
      ],
      "metadata": {
        "id": "VMd42W09J8GG"
      }
    },
    {
      "cell_type": "code",
      "source": [
        "def newton_raphson(f, f_prime, x0, tolerance=1e-6, max_iterations=100):\n",
        "    x_n = x0\n",
        "    for n in range(max_iterations):\n",
        "        fx_n = f(x_n)\n",
        "        fpx_n = f_prime(x_n)\n",
        "        if abs(fx_n) < tolerance:\n",
        "            return x_n\n",
        "        if fpx_n == 0:\n",
        "            print(\"Zero derivative. No solution found.\")\n",
        "            return None\n",
        "        x_n = x_n - fx_n / fpx_n\n",
        "    print(\"Exceeded maximum iterations. No solution found.\")\n",
        "    return None\n",
        "\n",
        "# Example function and its derivative\n",
        "def func(x):\n",
        "    return x**2 - 2  # Function f(x) = x^2 - 2\n",
        "\n",
        "def func_prime(x):\n",
        "    return 2 * x  # Derivative f'(x) = 2x\n",
        "\n",
        "# Initial guess\n",
        "initial_guess = 1.0\n",
        "\n",
        "root = newton_raphson(func, func_prime, initial_guess)\n",
        "print(f\"Root of the function: {root}\")"
      ],
      "metadata": {
        "colab": {
          "base_uri": "https://localhost:8080/"
        },
        "id": "zICslD-AJ7CL",
        "outputId": "887b2b2c-3561-4d22-e893-4d4ea2f3016d"
      },
      "execution_count": 2,
      "outputs": [
        {
          "output_type": "stream",
          "name": "stdout",
          "text": [
            "Root of the function: 1.4142135623746899\n"
          ]
        }
      ]
    },
    {
      "cell_type": "markdown",
      "source": [
        "# 3. Fibonacci Sequence Using Matrix Exponentiation"
      ],
      "metadata": {
        "id": "vBgLD0YhJ_Sv"
      }
    },
    {
      "cell_type": "code",
      "source": [
        "import numpy as np\n",
        "\n",
        "# Function to calculate nth Fibonacci number using matrix exponentiation\n",
        "def fibonacci_matrix(n):\n",
        "    if n == 0:\n",
        "        return 0\n",
        "    F = np.array([[1, 1], [1, 0]], dtype=object)\n",
        "    result = np.linalg.matrix_power(F, n - 1)\n",
        "    return result[0][0]\n",
        "\n",
        "# Example: Find the 10th Fibonacci number\n",
        "n = 10\n",
        "print(f\"The {n}th Fibonacci number is: {fibonacci_matrix(n)}\")"
      ],
      "metadata": {
        "colab": {
          "base_uri": "https://localhost:8080/"
        },
        "id": "L94cJo31J-Pa",
        "outputId": "78d9f45c-5b9d-40d8-93d4-d93f4de6096a"
      },
      "execution_count": 3,
      "outputs": [
        {
          "output_type": "stream",
          "name": "stdout",
          "text": [
            "The 10th Fibonacci number is: 55\n"
          ]
        }
      ]
    },
    {
      "cell_type": "markdown",
      "source": [
        "# 4. Logistic Function for Population Growth"
      ],
      "metadata": {
        "id": "5hfh9zxQKCIT"
      }
    },
    {
      "cell_type": "code",
      "source": [
        "import math\n",
        "\n",
        "def logistic_growth(P0, K, r, t):\n",
        "    return K / (1 + ((K - P0) / P0) * math.exp(-r * t))\n",
        "\n",
        "# Example values\n",
        "P0 = 50  # Initial population\n",
        "K = 1000  # Carrying capacity\n",
        "r = 0.1   # Growth rate\n",
        "t = 10    # Time in years\n",
        "\n",
        "population = logistic_growth(P0, K, r, t)\n",
        "print(f\"Population after {t} years: {population:.2f}\")"
      ],
      "metadata": {
        "colab": {
          "base_uri": "https://localhost:8080/"
        },
        "id": "Lh3KYmQCKBCP",
        "outputId": "86537101-a8f6-4d37-d2b6-43b44f39e264"
      },
      "execution_count": 4,
      "outputs": [
        {
          "output_type": "stream",
          "name": "stdout",
          "text": [
            "Population after 10 years: 125.16\n"
          ]
        }
      ]
    }
  ]
}
