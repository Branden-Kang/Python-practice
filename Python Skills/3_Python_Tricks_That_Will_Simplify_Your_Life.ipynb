{
  "nbformat": 4,
  "nbformat_minor": 0,
  "metadata": {
    "colab": {
      "name": "3 Python Tricks That Will Simplify Your Life.ipynb",
      "provenance": [],
      "authorship_tag": "ABX9TyOHHefBk5GyPs4/EcnDCJ/5"
    },
    "kernelspec": {
      "name": "python3",
      "display_name": "Python 3"
    },
    "language_info": {
      "name": "python"
    }
  },
  "cells": [
    {
      "cell_type": "markdown",
      "metadata": {
        "id": "UUca6Shug7vc"
      },
      "source": [
        "[Reference](https://towardsdatascience.com/3-python-tricks-that-will-ease-your-life-6b48952caedf)"
      ]
    },
    {
      "cell_type": "code",
      "metadata": {
        "colab": {
          "base_uri": "https://localhost:8080/"
        },
        "id": "MuQVpOH3g5zq",
        "outputId": "2e859645-63df-4fd5-8edf-5bdaedec9309"
      },
      "source": [
        "from datetime import datetime\n",
        "mydate = datetime(2020, 4, 2, 16, 40)\n",
        "print(mydate)"
      ],
      "execution_count": 1,
      "outputs": [
        {
          "output_type": "stream",
          "text": [
            "2020-04-02 16:40:00\n"
          ],
          "name": "stdout"
        }
      ]
    },
    {
      "cell_type": "code",
      "metadata": {
        "colab": {
          "base_uri": "https://localhost:8080/"
        },
        "id": "1HqhX2r1hDmf",
        "outputId": "c48fe6ee-04b5-45a7-8e5d-0047c3ad4d3b"
      },
      "source": [
        "mydate.month"
      ],
      "execution_count": 2,
      "outputs": [
        {
          "output_type": "execute_result",
          "data": {
            "text/plain": [
              "4"
            ]
          },
          "metadata": {
            "tags": []
          },
          "execution_count": 2
        }
      ]
    },
    {
      "cell_type": "code",
      "metadata": {
        "colab": {
          "base_uri": "https://localhost:8080/"
        },
        "id": "_QCdrlk6hErb",
        "outputId": "c8ba4b32-b59c-4493-a4cf-120987becc20"
      },
      "source": [
        "mydate.day"
      ],
      "execution_count": 3,
      "outputs": [
        {
          "output_type": "execute_result",
          "data": {
            "text/plain": [
              "2"
            ]
          },
          "metadata": {
            "tags": []
          },
          "execution_count": 3
        }
      ]
    },
    {
      "cell_type": "code",
      "metadata": {
        "colab": {
          "base_uri": "https://localhost:8080/"
        },
        "id": "rvGKw4nFg_bJ",
        "outputId": "bd862430-4b5b-4250-aca2-c1805b4cf657"
      },
      "source": [
        "# one digit month and day\n",
        "mydate = datetime(2020, 4, 2)\n",
        "file_path = f\"Results_{mydate.year}{mydate.month}{mydate.day}\"\n",
        "print(file_path)\n",
        "\n",
        "# two-digit month and day\n",
        "mydate2 = datetime(2020, 11, 24)\n",
        "file_path = f\"Results_{mydate2.year}{mydate2.month}{mydate2.day}\"\n",
        "print(file_path)"
      ],
      "execution_count": 5,
      "outputs": [
        {
          "output_type": "stream",
          "text": [
            "Results_202042\n",
            "Results_20201124\n"
          ],
          "name": "stdout"
        }
      ]
    },
    {
      "cell_type": "code",
      "metadata": {
        "colab": {
          "base_uri": "https://localhost:8080/"
        },
        "id": "gNX4GoCyhG43",
        "outputId": "40979942-ef3e-4032-abc8-5968b222307b"
      },
      "source": [
        "mydate = datetime(2020, 4, 2)\n",
        "file_path = f\"Results_{mydate.year}{mydate.month:02}{mydate.day:02}\"\n",
        "print(file_path)"
      ],
      "execution_count": 6,
      "outputs": [
        {
          "output_type": "stream",
          "text": [
            "Results_20200402\n"
          ],
          "name": "stdout"
        }
      ]
    },
    {
      "cell_type": "markdown",
      "metadata": {
        "id": "qDyrkAhHhRsd"
      },
      "source": [
        "# Counter function"
      ]
    },
    {
      "cell_type": "code",
      "metadata": {
        "colab": {
          "base_uri": "https://localhost:8080/"
        },
        "id": "_AAlwm4yhOBu",
        "outputId": "fbc9584b-33f6-4ad5-c167-ff4a555ccd08"
      },
      "source": [
        "from collections import Counter\n",
        "list_a = [1, 2, 3, 3, 3, 5, 5]\n",
        "Counter(list_a)"
      ],
      "execution_count": 7,
      "outputs": [
        {
          "output_type": "execute_result",
          "data": {
            "text/plain": [
              "Counter({1: 1, 2: 1, 3: 3, 5: 2})"
            ]
          },
          "metadata": {
            "tags": []
          },
          "execution_count": 7
        }
      ]
    },
    {
      "cell_type": "code",
      "metadata": {
        "colab": {
          "base_uri": "https://localhost:8080/"
        },
        "id": "prVz49IShQXv",
        "outputId": "be4eb57d-9f04-4f1e-f466-1dca8ed6e72d"
      },
      "source": [
        "list_a.count(3)"
      ],
      "execution_count": 8,
      "outputs": [
        {
          "output_type": "execute_result",
          "data": {
            "text/plain": [
              "3"
            ]
          },
          "metadata": {
            "tags": []
          },
          "execution_count": 8
        }
      ]
    },
    {
      "cell_type": "code",
      "metadata": {
        "colab": {
          "base_uri": "https://localhost:8080/"
        },
        "id": "ZauXzWUMhUi5",
        "outputId": "c81f9b8b-3b65-4438-f849-8b895a1409bc"
      },
      "source": [
        "mystring = \"aaaabbcbbbcbbcccaaaa\"\n",
        "Counter(mystring)"
      ],
      "execution_count": 9,
      "outputs": [
        {
          "output_type": "execute_result",
          "data": {
            "text/plain": [
              "Counter({'a': 8, 'b': 7, 'c': 5})"
            ]
          },
          "metadata": {
            "tags": []
          },
          "execution_count": 9
        }
      ]
    },
    {
      "cell_type": "code",
      "metadata": {
        "colab": {
          "base_uri": "https://localhost:8080/"
        },
        "id": "BEmazGnJhWVI",
        "outputId": "49934ceb-6383-4113-c79f-496586848e3f"
      },
      "source": [
        "mytext = \"Python python data science Data Science data\"\n",
        "Counter(mytext.lower().split(\" \"))"
      ],
      "execution_count": 10,
      "outputs": [
        {
          "output_type": "execute_result",
          "data": {
            "text/plain": [
              "Counter({'data': 3, 'python': 2, 'science': 2})"
            ]
          },
          "metadata": {
            "tags": []
          },
          "execution_count": 10
        }
      ]
    },
    {
      "cell_type": "code",
      "metadata": {
        "id": "OrKz0g-vhXzX"
      },
      "source": [
        "members = [[\"John\", \"Doe\", 28], \n",
        "           [\"Betsy\", \"Ash\", 32], \n",
        "           [\"Megan\", \"Sam\", 44]]"
      ],
      "execution_count": 11,
      "outputs": []
    },
    {
      "cell_type": "code",
      "metadata": {
        "colab": {
          "base_uri": "https://localhost:8080/"
        },
        "id": "_pNVM0nyhZau",
        "outputId": "2eec7dec-e8fc-4f57-b5b7-1c8fc995c89e"
      },
      "source": [
        "members.sort(key = lambda inner: inner[1])\n",
        "members"
      ],
      "execution_count": 12,
      "outputs": [
        {
          "output_type": "execute_result",
          "data": {
            "text/plain": [
              "[['Betsy', 'Ash', 32], ['John', 'Doe', 28], ['Megan', 'Sam', 44]]"
            ]
          },
          "metadata": {
            "tags": []
          },
          "execution_count": 12
        }
      ]
    },
    {
      "cell_type": "code",
      "metadata": {
        "colab": {
          "base_uri": "https://localhost:8080/"
        },
        "id": "OrIjgiabhbMm",
        "outputId": "17915cc2-57b9-48e1-8e61-01b320239a4d"
      },
      "source": [
        "members.sort(key = lambda inner: inner[2])\n",
        "members"
      ],
      "execution_count": 13,
      "outputs": [
        {
          "output_type": "execute_result",
          "data": {
            "text/plain": [
              "[['John', 'Doe', 28], ['Betsy', 'Ash', 32], ['Megan', 'Sam', 44]]"
            ]
          },
          "metadata": {
            "tags": []
          },
          "execution_count": 13
        }
      ]
    }
  ]
}