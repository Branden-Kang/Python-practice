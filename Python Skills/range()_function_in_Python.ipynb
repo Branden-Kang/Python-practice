{
  "nbformat": 4,
  "nbformat_minor": 0,
  "metadata": {
    "colab": {
      "name": "range() function in Python.ipynb",
      "provenance": [],
      "authorship_tag": "ABX9TyO016eHG9GH4IqxdxDa0cQ3"
    },
    "kernelspec": {
      "name": "python3",
      "display_name": "Python 3"
    }
  },
  "cells": [
    {
      "cell_type": "markdown",
      "metadata": {
        "id": "GryO5XxcUbHg"
      },
      "source": [
        "[Reference](https://medium.com/probably-programming/python-using-the-range-function-2ed348f004f5)"
      ]
    },
    {
      "cell_type": "code",
      "metadata": {
        "colab": {
          "base_uri": "https://localhost:8080/"
        },
        "id": "zOjOiJxgT8UF",
        "outputId": "7bf3c33a-119e-40f4-89d1-6f9d4d852d05"
      },
      "source": [
        "for i in range(0, 3):\n",
        "    print(i)"
      ],
      "execution_count": 1,
      "outputs": [
        {
          "output_type": "stream",
          "text": [
            "0\n",
            "1\n",
            "2\n"
          ],
          "name": "stdout"
        }
      ]
    },
    {
      "cell_type": "code",
      "metadata": {
        "colab": {
          "base_uri": "https://localhost:8080/"
        },
        "id": "1wmuelPOUdIq",
        "outputId": "3fb3375f-24b1-4916-89d3-8e1ed29c6e2e"
      },
      "source": [
        "for i in range(1, 4):\n",
        "    print(i)"
      ],
      "execution_count": 2,
      "outputs": [
        {
          "output_type": "stream",
          "text": [
            "1\n",
            "2\n",
            "3\n"
          ],
          "name": "stdout"
        }
      ]
    },
    {
      "cell_type": "code",
      "metadata": {
        "colab": {
          "base_uri": "https://localhost:8080/"
        },
        "id": "nQW_13xrU8IN",
        "outputId": "2c41baf6-a7ee-4e30-e19e-493871a9c6b2"
      },
      "source": [
        "numbers = list(range(0, 4))\n",
        "print(numbers)"
      ],
      "execution_count": 3,
      "outputs": [
        {
          "output_type": "stream",
          "text": [
            "[0, 1, 2, 3]\n"
          ],
          "name": "stdout"
        }
      ]
    },
    {
      "cell_type": "code",
      "metadata": {
        "colab": {
          "base_uri": "https://localhost:8080/"
        },
        "id": "0QOliM0zU9Aw",
        "outputId": "2dbbf517-3803-453d-dc7c-fcc7627458c6"
      },
      "source": [
        "even_numbers = list(range(0, 30, 2))\n",
        "print(even_numbers)"
      ],
      "execution_count": 4,
      "outputs": [
        {
          "output_type": "stream",
          "text": [
            "[0, 2, 4, 6, 8, 10, 12, 14, 16, 18, 20, 22, 24, 26, 28]\n"
          ],
          "name": "stdout"
        }
      ]
    },
    {
      "cell_type": "code",
      "metadata": {
        "colab": {
          "base_uri": "https://localhost:8080/"
        },
        "id": "6V2ipgFnU-uV",
        "outputId": "1d711bdb-de3d-45a1-d8e8-050305801abd"
      },
      "source": [
        "squared = []\n",
        "for value in range(1, 4):\n",
        "    square = value ** 2\n",
        "    squared.append(square)\n",
        "print(squared)"
      ],
      "execution_count": 5,
      "outputs": [
        {
          "output_type": "stream",
          "text": [
            "[1, 4, 9]\n"
          ],
          "name": "stdout"
        }
      ]
    },
    {
      "cell_type": "code",
      "metadata": {
        "colab": {
          "base_uri": "https://localhost:8080/"
        },
        "id": "zQ6UkHpXU_ol",
        "outputId": "340d73b1-8b4b-495b-96cf-d79f93ed027e"
      },
      "source": [
        "numbers = [0, 1, 2, 3]\n",
        "print(min(numbers))\n",
        "print(max(numbers))\n",
        "print(sum(numbers))"
      ],
      "execution_count": 6,
      "outputs": [
        {
          "output_type": "stream",
          "text": [
            "0\n",
            "3\n",
            "6\n"
          ],
          "name": "stdout"
        }
      ]
    },
    {
      "cell_type": "code",
      "metadata": {
        "colab": {
          "base_uri": "https://localhost:8080/"
        },
        "id": "A0vruGjcVAxY",
        "outputId": "bf9fbc06-6c87-4396-f7e3-a777731cf5d2"
      },
      "source": [
        "squared = [value ** 2 for value in range(1, 4)]\n",
        "print(squared)"
      ],
      "execution_count": 7,
      "outputs": [
        {
          "output_type": "stream",
          "text": [
            "[1, 4, 9]\n"
          ],
          "name": "stdout"
        }
      ]
    }
  ]
}