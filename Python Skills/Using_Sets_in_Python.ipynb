{
  "nbformat": 4,
  "nbformat_minor": 0,
  "metadata": {
    "colab": {
      "name": "Using Sets in Python.ipynb",
      "provenance": [],
      "authorship_tag": "ABX9TyOqg9OdJG19ZR2vCLDUCMI+"
    },
    "kernelspec": {
      "name": "python3",
      "display_name": "Python 3"
    }
  },
  "cells": [
    {
      "cell_type": "markdown",
      "metadata": {
        "id": "HsP3Yx8aALOV"
      },
      "source": [
        "[Reference](https://medium.com/techtofreedom/5-levels-of-using-sets-in-python-fd126e360458)"
      ]
    },
    {
      "cell_type": "code",
      "metadata": {
        "colab": {
          "base_uri": "https://localhost:8080/",
          "height": 266
        },
        "id": "_xrobX-RkLY1",
        "outputId": "27b08921-debe-4335-f19a-40bc37fac429"
      },
      "source": [
        "s = {1, 2, 2, 2, 3}\n",
        "print(s)  # duplicate numbers were removed\n",
        "# {1, 2, 3}\n",
        "\n",
        "s = {1, 2, (3, 4)} # tuple is an immutable type\n",
        "print(s)\n",
        "# {1, 2, (3, 4)}\n",
        "\n",
        "s = {1, 2, [3, 4]}  # can't contain a mutable type"
      ],
      "execution_count": 1,
      "outputs": [
        {
          "output_type": "stream",
          "text": [
            "{1, 2, 3}\n",
            "{1, 2, (3, 4)}\n"
          ],
          "name": "stdout"
        },
        {
          "output_type": "error",
          "ename": "TypeError",
          "evalue": "ignored",
          "traceback": [
            "\u001b[0;31m---------------------------------------------------------------------------\u001b[0m",
            "\u001b[0;31mTypeError\u001b[0m                                 Traceback (most recent call last)",
            "\u001b[0;32m<ipython-input-1-456648198dd0>\u001b[0m in \u001b[0;36m<module>\u001b[0;34m()\u001b[0m\n\u001b[1;32m      7\u001b[0m \u001b[0;31m# {1, 2, (3, 4)}\u001b[0m\u001b[0;34m\u001b[0m\u001b[0;34m\u001b[0m\u001b[0;34m\u001b[0m\u001b[0m\n\u001b[1;32m      8\u001b[0m \u001b[0;34m\u001b[0m\u001b[0m\n\u001b[0;32m----> 9\u001b[0;31m \u001b[0ms\u001b[0m \u001b[0;34m=\u001b[0m \u001b[0;34m{\u001b[0m\u001b[0;36m1\u001b[0m\u001b[0;34m,\u001b[0m \u001b[0;36m2\u001b[0m\u001b[0;34m,\u001b[0m \u001b[0;34m[\u001b[0m\u001b[0;36m3\u001b[0m\u001b[0;34m,\u001b[0m \u001b[0;36m4\u001b[0m\u001b[0;34m]\u001b[0m\u001b[0;34m}\u001b[0m  \u001b[0;31m# can't contain a mutable type\u001b[0m\u001b[0;34m\u001b[0m\u001b[0;34m\u001b[0m\u001b[0m\n\u001b[0m",
            "\u001b[0;31mTypeError\u001b[0m: unhashable type: 'list'"
          ]
        }
      ]
    },
    {
      "cell_type": "code",
      "metadata": {
        "colab": {
          "base_uri": "https://localhost:8080/"
        },
        "id": "I_WSf5RSATRb",
        "outputId": "02431dad-01ca-4957-d018-cf7d6b9f917f"
      },
      "source": [
        "leaders = [\"Branden\", \"Elon Mask\", \"Branden\"]\n",
        "unique_leaders = list(set(leaders))\n",
        "print(unique_leaders)"
      ],
      "execution_count": 5,
      "outputs": [
        {
          "output_type": "stream",
          "text": [
            "['Branden', 'Elon Mask']\n"
          ],
          "name": "stdout"
        }
      ]
    },
    {
      "cell_type": "code",
      "metadata": {
        "colab": {
          "base_uri": "https://localhost:8080/"
        },
        "id": "ri-Ens1cAVGc",
        "outputId": "345cd08e-b28a-4fc2-bdc8-6c853bf63a9c"
      },
      "source": [
        "s = {1,2,3,4}\n",
        "type(s)"
      ],
      "execution_count": 3,
      "outputs": [
        {
          "output_type": "execute_result",
          "data": {
            "text/plain": [
              "set"
            ]
          },
          "metadata": {
            "tags": []
          },
          "execution_count": 3
        }
      ]
    },
    {
      "cell_type": "code",
      "metadata": {
        "colab": {
          "base_uri": "https://localhost:8080/"
        },
        "id": "MwUh8z_sAX_X",
        "outputId": "fab24ac6-01a2-463a-b901-a7db77d1bb03"
      },
      "source": [
        "s = set([1,2,3,4])\n",
        "type(s)"
      ],
      "execution_count": 6,
      "outputs": [
        {
          "output_type": "execute_result",
          "data": {
            "text/plain": [
              "set"
            ]
          },
          "metadata": {
            "tags": []
          },
          "execution_count": 6
        }
      ]
    },
    {
      "cell_type": "code",
      "metadata": {
        "colab": {
          "base_uri": "https://localhost:8080/"
        },
        "id": "pNMZNAiAAeCZ",
        "outputId": "7280f26b-6c67-4b42-db62-1236bf23a889"
      },
      "source": [
        "d = {1: \"Y\", 2: \"A\", 3: \"N\", 4: \"G\"}\n",
        "s = set(d) # Use its keys by default\n",
        "print(s)\n",
        "# {1, 2, 3, 4}\n",
        "s2 = set(d.values())\n",
        "print(s2)"
      ],
      "execution_count": 7,
      "outputs": [
        {
          "output_type": "stream",
          "text": [
            "{1, 2, 3, 4}\n",
            "{'Y', 'G', 'A', 'N'}\n"
          ],
          "name": "stdout"
        }
      ]
    },
    {
      "cell_type": "code",
      "metadata": {
        "colab": {
          "base_uri": "https://localhost:8080/"
        },
        "id": "sOMcJXoJAgEq",
        "outputId": "2f25bb10-2986-4918-afb0-e4f44d2ebf49"
      },
      "source": [
        "s = {i for i in range(10)}\n",
        "print(s)"
      ],
      "execution_count": 8,
      "outputs": [
        {
          "output_type": "stream",
          "text": [
            "{0, 1, 2, 3, 4, 5, 6, 7, 8, 9}\n"
          ],
          "name": "stdout"
        }
      ]
    }
  ]
}