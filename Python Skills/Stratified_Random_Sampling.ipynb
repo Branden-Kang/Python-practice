{
  "nbformat": 4,
  "nbformat_minor": 0,
  "metadata": {
    "colab": {
      "name": "Stratified Random Sampling.ipynb",
      "provenance": [],
      "authorship_tag": "ABX9TyOhaT2tUzV79G6irPCkv4Ql"
    },
    "kernelspec": {
      "name": "python3",
      "display_name": "Python 3"
    }
  },
  "cells": [
    {
      "cell_type": "markdown",
      "metadata": {
        "id": "p2dt8cNti1Wq",
        "colab_type": "text"
      },
      "source": [
        "[Reference](https://github.com/j-sadowski/FromRtoPython/blob/master/StratifiedRandomSampling.ipynb)"
      ]
    },
    {
      "cell_type": "code",
      "metadata": {
        "id": "xC93ba-2is5Q",
        "colab_type": "code",
        "colab": {
          "base_uri": "https://localhost:8080/",
          "height": 71
        },
        "outputId": "99fc3042-0e76-4639-8bdd-cf1530f51aeb"
      },
      "source": [
        "import pandas as pd\n",
        "import numpy as np\n",
        "import matplotlib.pyplot as plt\n",
        "from scipy import stats\n",
        "from statsmodels.stats.anova import anova_lm\n",
        "from statsmodels.formula.api import ols"
      ],
      "execution_count": 1,
      "outputs": [
        {
          "output_type": "stream",
          "text": [
            "/usr/local/lib/python3.6/dist-packages/statsmodels/tools/_testing.py:19: FutureWarning: pandas.util.testing is deprecated. Use the functions in the public API at pandas.testing instead.\n",
            "  import pandas.util.testing as tm\n"
          ],
          "name": "stderr"
        }
      ]
    },
    {
      "cell_type": "code",
      "metadata": {
        "id": "3Lm81yiDi4xe",
        "colab_type": "code",
        "colab": {}
      },
      "source": [
        "def assign_treatments(df, experiment_size, seed  = 42, level = 0):\n",
        "    \"\"\"\n",
        "    1. Given a dataframe, add a column for treatment\n",
        "    2. Randomly assign half of those rows to the 'B' treatment\n",
        "    3. Get the dummy variables for the treatment column\n",
        "    4. Get the dummy variables for the city column \n",
        "    5. Return a modified dataframe\n",
        "    \"\"\"\n",
        "    workdf = df.copy()\n",
        "    workdf['treatment'] = 'A'\n",
        "    if level == 0:\n",
        "        experiment_idx = workdf.sample(int(experiment_size/2),random_state = seed).index\n",
        "    if level == 1:\n",
        "        experiment_idx = list(workdf[workdf['town_size']=='town']\\\n",
        "                              .sample(int(experiment_size/4),random_state = seed).index)\\\n",
        "                         + list(workdf[workdf['town_size']=='city']\\\n",
        "                               .sample(int(experiment_size/4),random_state = seed).index)\n",
        "\n",
        "    workdf.loc[experiment_idx,'treatment'] = 'B'\n",
        "    dummies = pd.get_dummies(workdf['treatment'])\n",
        "    citydummies = pd.get_dummies(workdf['town_size'])\n",
        "    workdf = pd.concat([workdf,dummies,citydummies], axis = 1)\n",
        "    return(workdf)\n",
        "\n",
        "def calc_response(df, plist, experiment_size):\n",
        "    \"\"\"\n",
        "    Returns a pandas series of a binomial response\n",
        "    \"\"\"\n",
        "    response = df['city']*df['A']\\\n",
        "                        *np.random.binomial(n = 1, p = plist[0], size = experiment_size)\\\n",
        "                + df['town']*df['A']\\\n",
        "                        *np.random.binomial(n = 1, p = plist[1], size = experiment_size)\\\n",
        "                + df['city']*df['B']\\\n",
        "                        *np.random.binomial(n = 1, p = plist[0] + plist[2],\\\n",
        "                                            size = experiment_size)\\\n",
        "                + df['town']*df['B']\\\n",
        "                        *np.random.binomial(n = 1, p = plist[1] + plist[2],\\\n",
        "                                            size = experiment_size)\n",
        "    return(response)\n",
        "\n",
        "def pvalue_print(df, level = 0):\n",
        "    \"\"\"\n",
        "    Get the estimated p value for each group\n",
        "    Print them out for easy inspection\n",
        "    \"\"\"\n",
        "    if level == 0:\n",
        "        vec = ['A','B']\n",
        "        phat_list = []\n",
        "        psd_list = []\n",
        "        for val in vec:\n",
        "            n = len(df['response'][df[val]==1])\n",
        "            p_hat = np.mean(df['response'][df[val]==1])\n",
        "            phat_list.append(p_hat)\n",
        "            print('p_hat' + val,'=',p_hat)\n",
        "            p_sd = np.sqrt(p_hat*(1-p_hat)/n)\n",
        "            print('p_hat_sd' + val,'=',p_sd)\n",
        "            psd_list.append(p_sd)\n",
        "    if level == 1:\n",
        "        vec1 = ['A','B']\n",
        "        vec2 = ['city','town']\n",
        "        phat_list = []\n",
        "        psd_list = []\n",
        "        for i in vec1:\n",
        "            for j in vec2:\n",
        "                n = len(df['response'][(df[i]==1) & (df[j]==1)])\n",
        "                p_hat = np.mean(df['response'][(df[i]==1) & (df[j]==1)])\n",
        "                print('p_hat' + i + j,'=',p_hat)\n",
        "                phat_list.append(p_hat)\n",
        "                p_sd =  np.sqrt(p_hat*(1-p_hat)/n)\n",
        "                print('p_hat_sd' + i + j,'=',p_sd)\n",
        "                psd_list.append(p_sd)\n",
        "    return(phat_list, psd_list)"
      ],
      "execution_count": 2,
      "outputs": []
    },
    {
      "cell_type": "code",
      "metadata": {
        "id": "gJAxDOUri7GU",
        "colab_type": "code",
        "colab": {}
      },
      "source": [
        "np.random.seed(42)\n",
        "population_size = 500000\n",
        "populationdf = pd.DataFrame(list(range(population_size)))\n",
        "populationdf.columns = ['id']\n",
        "#randomly determine whether the individuals are from cities or towns\n",
        "town_size = ['city']*15 + ['town']\n",
        "populationdf['town_size'] = np.random.choice(town_size,size = population_size)"
      ],
      "execution_count": 3,
      "outputs": []
    },
    {
      "cell_type": "code",
      "metadata": {
        "id": "uBkSUvTgi8Sh",
        "colab_type": "code",
        "colab": {
          "base_uri": "https://localhost:8080/",
          "height": 68
        },
        "outputId": "cc1cf2aa-f109-4c17-abe2-9368ad1f348a"
      },
      "source": [
        "populationdf.town_size.value_counts()"
      ],
      "execution_count": 4,
      "outputs": [
        {
          "output_type": "execute_result",
          "data": {
            "text/plain": [
              "city    468520\n",
              "town     31480\n",
              "Name: town_size, dtype: int64"
            ]
          },
          "metadata": {
            "tags": []
          },
          "execution_count": 4
        }
      ]
    },
    {
      "cell_type": "code",
      "metadata": {
        "id": "E1DcpNaqi9uc",
        "colab_type": "code",
        "colab": {}
      },
      "source": [
        "experiment_size = int(1000)\n",
        "completerandom_idx = populationdf.sample(int(experiment_size),random_state = 21).index\n",
        "\n",
        "completerandom_df = populationdf.loc[completerandom_idx,:]\n",
        "completerandom_df = assign_treatments(completerandom_df, experiment_size)"
      ],
      "execution_count": 5,
      "outputs": []
    },
    {
      "cell_type": "code",
      "metadata": {
        "id": "pn03g7osi--r",
        "colab_type": "code",
        "colab": {
          "base_uri": "https://localhost:8080/",
          "height": 204
        },
        "outputId": "66aa33cc-fc90-4541-eedf-f530c2e1bf7d"
      },
      "source": [
        "completerandom_df.head()"
      ],
      "execution_count": 6,
      "outputs": [
        {
          "output_type": "execute_result",
          "data": {
            "text/html": [
              "<div>\n",
              "<style scoped>\n",
              "    .dataframe tbody tr th:only-of-type {\n",
              "        vertical-align: middle;\n",
              "    }\n",
              "\n",
              "    .dataframe tbody tr th {\n",
              "        vertical-align: top;\n",
              "    }\n",
              "\n",
              "    .dataframe thead th {\n",
              "        text-align: right;\n",
              "    }\n",
              "</style>\n",
              "<table border=\"1\" class=\"dataframe\">\n",
              "  <thead>\n",
              "    <tr style=\"text-align: right;\">\n",
              "      <th></th>\n",
              "      <th>id</th>\n",
              "      <th>town_size</th>\n",
              "      <th>treatment</th>\n",
              "      <th>A</th>\n",
              "      <th>B</th>\n",
              "      <th>city</th>\n",
              "      <th>town</th>\n",
              "    </tr>\n",
              "  </thead>\n",
              "  <tbody>\n",
              "    <tr>\n",
              "      <th>475807</th>\n",
              "      <td>475807</td>\n",
              "      <td>city</td>\n",
              "      <td>B</td>\n",
              "      <td>0</td>\n",
              "      <td>1</td>\n",
              "      <td>1</td>\n",
              "      <td>0</td>\n",
              "    </tr>\n",
              "    <tr>\n",
              "      <th>425191</th>\n",
              "      <td>425191</td>\n",
              "      <td>city</td>\n",
              "      <td>A</td>\n",
              "      <td>1</td>\n",
              "      <td>0</td>\n",
              "      <td>1</td>\n",
              "      <td>0</td>\n",
              "    </tr>\n",
              "    <tr>\n",
              "      <th>40378</th>\n",
              "      <td>40378</td>\n",
              "      <td>city</td>\n",
              "      <td>B</td>\n",
              "      <td>0</td>\n",
              "      <td>1</td>\n",
              "      <td>1</td>\n",
              "      <td>0</td>\n",
              "    </tr>\n",
              "    <tr>\n",
              "      <th>324437</th>\n",
              "      <td>324437</td>\n",
              "      <td>city</td>\n",
              "      <td>B</td>\n",
              "      <td>0</td>\n",
              "      <td>1</td>\n",
              "      <td>1</td>\n",
              "      <td>0</td>\n",
              "    </tr>\n",
              "    <tr>\n",
              "      <th>347750</th>\n",
              "      <td>347750</td>\n",
              "      <td>city</td>\n",
              "      <td>A</td>\n",
              "      <td>1</td>\n",
              "      <td>0</td>\n",
              "      <td>1</td>\n",
              "      <td>0</td>\n",
              "    </tr>\n",
              "  </tbody>\n",
              "</table>\n",
              "</div>"
            ],
            "text/plain": [
              "            id town_size treatment  A  B  city  town\n",
              "475807  475807      city         B  0  1     1     0\n",
              "425191  425191      city         A  1  0     1     0\n",
              "40378    40378      city         B  0  1     1     0\n",
              "324437  324437      city         B  0  1     1     0\n",
              "347750  347750      city         A  1  0     1     0"
            ]
          },
          "metadata": {
            "tags": []
          },
          "execution_count": 6
        }
      ]
    },
    {
      "cell_type": "code",
      "metadata": {
        "id": "EkU6kzz-jALF",
        "colab_type": "code",
        "colab": {}
      },
      "source": [
        "plist = [0.3,0.1,0.05]"
      ],
      "execution_count": 7,
      "outputs": []
    },
    {
      "cell_type": "code",
      "metadata": {
        "id": "CgYQ3A8njBRL",
        "colab_type": "code",
        "colab": {}
      },
      "source": [
        "completerandom_df['response'] = 0\n",
        "completerandom_df['response'] = calc_response(completerandom_df, plist, experiment_size)"
      ],
      "execution_count": 8,
      "outputs": []
    },
    {
      "cell_type": "code",
      "metadata": {
        "id": "hYyOTL57jCWj",
        "colab_type": "code",
        "colab": {
          "base_uri": "https://localhost:8080/",
          "height": 85
        },
        "outputId": "4b169b09-492a-4e52-9653-718f7cf766e8"
      },
      "source": [
        "phats, psds = pvalue_print(completerandom_df,level = 0)"
      ],
      "execution_count": 9,
      "outputs": [
        {
          "output_type": "stream",
          "text": [
            "p_hatA = 0.288\n",
            "p_hat_sdA = 0.020251222185339826\n",
            "p_hatB = 0.314\n",
            "p_hat_sdB = 0.020755914819636352\n"
          ],
          "name": "stdout"
        }
      ]
    },
    {
      "cell_type": "code",
      "metadata": {
        "id": "75dMraX9jGSP",
        "colab_type": "code",
        "colab": {
          "base_uri": "https://localhost:8080/",
          "height": 34
        },
        "outputId": "a78feeee-1572-4d7b-b924-2d0d7cd065bd"
      },
      "source": [
        "stats.ttest_ind(completerandom_df['response'][completerandom_df['A']==1], \\\n",
        "                completerandom_df['response'][completerandom_df['B']==1])"
      ],
      "execution_count": 10,
      "outputs": [
        {
          "output_type": "execute_result",
          "data": {
            "text/plain": [
              "Ttest_indResult(statistic=-0.8956973262397737, pvalue=0.37063042188578654)"
            ]
          },
          "metadata": {
            "tags": []
          },
          "execution_count": 10
        }
      ]
    },
    {
      "cell_type": "code",
      "metadata": {
        "id": "0d13u8w9jHVv",
        "colab_type": "code",
        "colab": {
          "base_uri": "https://localhost:8080/",
          "height": 356
        },
        "outputId": "76853150-1d46-412c-9049-ffbb40a14f17"
      },
      "source": [
        "plt.rcParams.update({'font.size': 16})\n",
        "plt.rcParams[\"figure.figsize\"] = (6,5)\n",
        "fig, ax = plt.subplots()\n",
        "ncats = np.arange(1)\n",
        "width = 0.35\n",
        "rects1 = ax.bar(0, height = phats[0], width = width, yerr = psds[0],\\\n",
        "                align='center', ecolor='black', capsize=5, label = 'A')\n",
        "rects2 = ax.bar(width*1.5, height = phats[1],width = width, yerr = psds[1],\\\n",
        "                align='center', ecolor='black', capsize=5, label = 'B')\n",
        "ax.set_ylabel('Click through Probability')\n",
        "ax.set_xticks([0,width*1.5])\n",
        "ax.set_xticklabels(['A','B'])\n",
        "\n",
        "# Save the figure and show\n",
        "plt.tight_layout()"
      ],
      "execution_count": 11,
      "outputs": [
        {
          "output_type": "display_data",
          "data": {
            "image/png": "[encoded data removed]",
            "text/plain": [
              "<Figure size 432x360 with 1 Axes>"
            ]
          },
          "metadata": {
            "tags": [],
            "needs_background": "light"
          }
        }
      ]
    },
    {
      "cell_type": "code",
      "metadata": {
        "id": "CsKlHv_VjJeX",
        "colab_type": "code",
        "colab": {
          "base_uri": "https://localhost:8080/",
          "height": 170
        },
        "outputId": "1ee7ae0e-8dc4-4889-9212-f8ccdf0bbd91"
      },
      "source": [
        "#Number of town users in dataset\n",
        "print(completerandom_df.town_size.value_counts())\n",
        "\n",
        "#NUmber of tonw users in each treatment\n",
        "print(completerandom_df[completerandom_df['A']==1].town_size.value_counts())\n",
        "print(completerandom_df[completerandom_df['B']==1].town_size.value_counts())"
      ],
      "execution_count": 12,
      "outputs": [
        {
          "output_type": "stream",
          "text": [
            "city    929\n",
            "town     71\n",
            "Name: town_size, dtype: int64\n",
            "city    476\n",
            "town     24\n",
            "Name: town_size, dtype: int64\n",
            "city    453\n",
            "town     47\n",
            "Name: town_size, dtype: int64\n"
          ],
          "name": "stdout"
        }
      ]
    },
    {
      "cell_type": "code",
      "metadata": {
        "id": "s0g6HPi6jLah",
        "colab_type": "code",
        "colab": {}
      },
      "source": [
        "townid = populationdf['id'][populationdf['town_size']=='town']\n",
        "bigcityid = populationdf['id'][populationdf['town_size']=='city']\n",
        "\n",
        "stratified_idx = list(townid.sample(int(experiment_size/2),random_state = 42).index) \\\n",
        "                 + list(bigcityid.sample(int(experiment_size/2),random_state = 42).index)\n",
        "stratified_df = populationdf.loc[stratified_idx,:]"
      ],
      "execution_count": 13,
      "outputs": []
    },
    {
      "cell_type": "code",
      "metadata": {
        "id": "klVDNikvjQnD",
        "colab_type": "code",
        "colab": {}
      },
      "source": [
        "stratified_df = assign_treatments(stratified_df, experiment_size, level = 1)"
      ],
      "execution_count": 14,
      "outputs": []
    },
    {
      "cell_type": "code",
      "metadata": {
        "id": "cpq4bCP3jS3U",
        "colab_type": "code",
        "colab": {
          "base_uri": "https://localhost:8080/",
          "height": 170
        },
        "outputId": "09aa014f-cf1e-4351-8797-b139b7a2c3b5"
      },
      "source": [
        "print(stratified_df.town_size.value_counts())\n",
        "print(stratified_df[stratified_df['A']==1].town_size.value_counts())\n",
        "print(stratified_df[stratified_df['B']==1].town_size.value_counts())"
      ],
      "execution_count": 15,
      "outputs": [
        {
          "output_type": "stream",
          "text": [
            "town    500\n",
            "city    500\n",
            "Name: town_size, dtype: int64\n",
            "town    250\n",
            "city    250\n",
            "Name: town_size, dtype: int64\n",
            "town    250\n",
            "city    250\n",
            "Name: town_size, dtype: int64\n"
          ],
          "name": "stdout"
        }
      ]
    },
    {
      "cell_type": "code",
      "metadata": {
        "id": "IsMpmdf-jUTO",
        "colab_type": "code",
        "colab": {}
      },
      "source": [
        "stratified_df['response'] = 0\n",
        "stratified_df['response'] = calc_response(stratified_df, plist, experiment_size)"
      ],
      "execution_count": 16,
      "outputs": []
    },
    {
      "cell_type": "code",
      "metadata": {
        "id": "iKYGn8JajVoN",
        "colab_type": "code",
        "colab": {
          "base_uri": "https://localhost:8080/",
          "height": 85
        },
        "outputId": "9e5dd29b-b13e-4df4-99bb-64d9ce567e30"
      },
      "source": [
        "phats, psds = pvalue_print(stratified_df,level = 0)"
      ],
      "execution_count": 17,
      "outputs": [
        {
          "output_type": "stream",
          "text": [
            "p_hatA = 0.2\n",
            "p_hat_sdA = 0.01788854381999832\n",
            "p_hatB = 0.268\n",
            "p_hat_sdB = 0.0198078772209442\n"
          ],
          "name": "stdout"
        }
      ]
    },
    {
      "cell_type": "code",
      "metadata": {
        "id": "ICOh025wjWyy",
        "colab_type": "code",
        "colab": {
          "base_uri": "https://localhost:8080/",
          "height": 153
        },
        "outputId": "5e947290-6d27-4cf4-cdf5-5bb63ac43aa3"
      },
      "source": [
        "phats, psds = pvalue_print(stratified_df,level = 1)"
      ],
      "execution_count": 18,
      "outputs": [
        {
          "output_type": "stream",
          "text": [
            "p_hatAcity = 0.316\n",
            "p_hat_sdAcity = 0.02940367323992021\n",
            "p_hatAtown = 0.084\n",
            "p_hat_sdAtown = 0.01754354582175451\n",
            "p_hatBcity = 0.36\n",
            "p_hat_sdBcity = 0.030357865537616442\n",
            "p_hatBtown = 0.176\n",
            "p_hat_sdBtown = 0.024085182166635154\n"
          ],
          "name": "stdout"
        }
      ]
    },
    {
      "cell_type": "code",
      "metadata": {
        "id": "qQPdQzdfjX_W",
        "colab_type": "code",
        "colab": {
          "base_uri": "https://localhost:8080/",
          "height": 34
        },
        "outputId": "4fa7ce4a-4e37-4cdc-ba9c-0fca2ec41309"
      },
      "source": [
        "stats.ttest_ind(stratified_df['response'][stratified_df['A']==1], \\\n",
        "                stratified_df['response'][stratified_df['B']==1])"
      ],
      "execution_count": 19,
      "outputs": [
        {
          "output_type": "execute_result",
          "data": {
            "text/plain": [
              "Ttest_indResult(statistic=-2.5452289793802843, pvalue=0.0110701396582563)"
            ]
          },
          "metadata": {
            "tags": []
          },
          "execution_count": 19
        }
      ]
    },
    {
      "cell_type": "code",
      "metadata": {
        "id": "3yiMdxsejZOR",
        "colab_type": "code",
        "colab": {}
      },
      "source": [
        "p_df = pd.DataFrame({'phats' : phats,\\\n",
        "                     'psds' : psds,\\\n",
        "                     'labels' : ['A_city','A_town','B_city','B_town']})\n",
        "p_df = p_df.pivot_table(columns = 'labels')\n",
        "p_df1 = p_df.iloc[:,[0,1]]\n",
        "p_df2 = p_df.iloc[:,[2,3]]"
      ],
      "execution_count": 20,
      "outputs": []
    },
    {
      "cell_type": "code",
      "metadata": {
        "id": "FOupkq5ljbA6",
        "colab_type": "code",
        "colab": {
          "base_uri": "https://localhost:8080/",
          "height": 356
        },
        "outputId": "f5e1c5a4-ca0c-44d0-f960-891d5647106f"
      },
      "source": [
        "plt.rcParams.update({'font.size': 16})\n",
        "plt.rcParams[\"figure.figsize\"] = (6,5)\n",
        "fig, ax = plt.subplots()\n",
        "x = np.arange(len(p_df1.columns))\n",
        "width = 0.35\n",
        "rects1 = ax.bar(x - width/2, height = p_df1.iloc[0], width = width, \\\n",
        "                yerr = p_df1.iloc[1], align='center', \\\n",
        "                ecolor='black', capsize=5, label = 'A')\n",
        "rects2 = ax.bar(x + width/2, height = p_df2.iloc[0],width = width, \n",
        "                yerr = p_df2.iloc[1], align='center', \\\n",
        "                ecolor='black', capsize=5, label = 'B')\n",
        "ax.set_ylabel('Click through Rate')\n",
        "ax.set_xticks(x)\n",
        "ax.set_xticklabels(['City','Town'])\n",
        "ax.legend()\n",
        "\n",
        "plt.tight_layout()"
      ],
      "execution_count": 21,
      "outputs": [
        {
          "output_type": "display_data",
          "data": {
            "image/png": "[encoded data removed]",
            "text/plain": [
              "<Figure size 432x360 with 1 Axes>"
            ]
          },
          "metadata": {
            "tags": [],
            "needs_background": "light"
          }
        }
      ]
    },
    {
      "cell_type": "code",
      "metadata": {
        "id": "SkaMEoc-jcrg",
        "colab_type": "code",
        "colab": {}
      },
      "source": [
        "model = ols('response ~ treatment + town_size', data = stratified_df).fit()\n",
        "aov_table = anova_lm(model, typ=1)"
      ],
      "execution_count": 22,
      "outputs": []
    },
    {
      "cell_type": "code",
      "metadata": {
        "id": "LiTsrMlWjeD6",
        "colab_type": "code",
        "colab": {
          "base_uri": "https://localhost:8080/",
          "height": 85
        },
        "outputId": "2fd86b56-fd25-44c1-feda-e897a8c7752e"
      },
      "source": [
        "print(aov_table)"
      ],
      "execution_count": 23,
      "outputs": [
        {
          "output_type": "stream",
          "text": [
            "              df   sum_sq    mean_sq          F        PR(>F)\n",
            "treatment    1.0    1.156   1.156000   6.890167  8.799737e-03\n",
            "town_size    1.0   10.816  10.816000  64.467167  2.750424e-15\n",
            "Residual   997.0  167.272   0.167775        NaN           NaN\n"
          ],
          "name": "stdout"
        }
      ]
    }
  ]
}