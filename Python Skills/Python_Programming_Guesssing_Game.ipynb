{
  "nbformat": 4,
  "nbformat_minor": 0,
  "metadata": {
    "colab": {
      "name": "Python Programming: Guesssing Game.ipynb",
      "provenance": [],
      "authorship_tag": "ABX9TyOHdHeeAwCSh7egRbp8zvGr"
    },
    "kernelspec": {
      "name": "python3",
      "display_name": "Python 3"
    },
    "language_info": {
      "name": "python"
    }
  },
  "cells": [
    {
      "cell_type": "markdown",
      "metadata": {
        "id": "v-nwuIR1Kfg8"
      },
      "source": [
        "[Reference](https://logantheduderox.medium.com/python-programming-guesssing-game-54118427f9ae)"
      ]
    },
    {
      "cell_type": "code",
      "metadata": {
        "id": "7wyF80jSKeVE"
      },
      "source": [
        "import random"
      ],
      "execution_count": 1,
      "outputs": []
    },
    {
      "cell_type": "code",
      "metadata": {
        "id": "ZfDeVTmSKhXA"
      },
      "source": [
        "real_number = random.randint(1,100)\n",
        "tries = 0"
      ],
      "execution_count": 2,
      "outputs": []
    },
    {
      "cell_type": "code",
      "metadata": {
        "colab": {
          "base_uri": "https://localhost:8080/"
        },
        "id": "SubalCJfKiYU",
        "outputId": "b2247b04-fc25-4da2-f7c2-3c2020bb8750"
      },
      "source": [
        "while(True):\n",
        "    guess_number = int(input(\"Enter your guess: \"))\n",
        "    if guess_number == real_number:\n",
        "        tries += 1\n",
        "        print(f\"You got {real_number} correct after {tries} tries!\")\n",
        "        break;    \n",
        "        \n",
        "    if guess_number > real_number:\n",
        "        tries += 1\n",
        "        print(\"Nice try, but next time guess lower!\")    \n",
        "        \n",
        "    if guess_number < real_number:\n",
        "        tries += 1\n",
        "        print(\"Nice try, but next time guess higher!\")"
      ],
      "execution_count": 4,
      "outputs": [
        {
          "output_type": "stream",
          "name": "stdout",
          "text": [
            "Enter your guess: 100\n",
            "Nice try, but next time guess lower!\n",
            "Enter your guess: 50\n",
            "Nice try, but next time guess lower!\n",
            "Enter your guess: 70\n",
            "Nice try, but next time guess lower!\n",
            "Enter your guess: 30\n",
            "Nice try, but next time guess lower!\n",
            "Enter your guess: 20\n",
            "Nice try, but next time guess lower!\n",
            "Enter your guess: 0\n",
            "Nice try, but next time guess higher!\n",
            "Enter your guess: 10\n",
            "Nice try, but next time guess higher!\n",
            "Enter your guess: 15\n",
            "Nice try, but next time guess lower!\n",
            "Enter your guess: 13\n",
            "Nice try, but next time guess higher!\n",
            "Enter your guess: 12\n",
            "Nice try, but next time guess higher!\n",
            "Enter your guess: 14\n",
            "You got 14 correct after 11 tries!\n"
          ]
        }
      ]
    }
  ]
}