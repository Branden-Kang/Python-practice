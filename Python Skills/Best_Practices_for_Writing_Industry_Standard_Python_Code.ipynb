{
  "nbformat": 4,
  "nbformat_minor": 0,
  "metadata": {
    "colab": {
      "name": "Best Practices for Writing Industry Standard Python Code.ipynb",
      "provenance": [],
      "authorship_tag": "ABX9TyP3DDuffGd7cM6aXQV3mWX8"
    },
    "kernelspec": {
      "name": "python3",
      "display_name": "Python 3"
    },
    "language_info": {
      "name": "python"
    }
  },
  "cells": [
    {
      "cell_type": "markdown",
      "source": [
        "[Reference](https://towardsdatascience.com/python-best-practices-for-writing-industry-standard-code-66b848783e0b)"
      ],
      "metadata": {
        "id": "eWwZXzb-n6oh"
      }
    },
    {
      "cell_type": "code",
      "execution_count": 3,
      "metadata": {
        "colab": {
          "base_uri": "https://localhost:8080/"
        },
        "id": "LTiAcWIcn2YI",
        "outputId": "134af5d0-c64a-4a3c-f1ba-f9cbaf4927b2"
      },
      "outputs": [
        {
          "output_type": "stream",
          "name": "stdout",
          "text": [
            "Branden, Nathaniel\n"
          ]
        }
      ],
      "source": [
        "x = 'Nathaniel Branden'\n",
        "y, z = x.split()\n",
        "print(z, y, sep=', ')"
      ]
    },
    {
      "cell_type": "code",
      "source": [
        "name = 'Nathaniel Branden'\n",
        "first_name, last_name = name.split()\n",
        "print(last_name, first_name, sep=', ')"
      ],
      "metadata": {
        "colab": {
          "base_uri": "https://localhost:8080/"
        },
        "id": "rW9mpAX1n8z6",
        "outputId": "835be736-0f9a-470c-a9f2-348665213ccf"
      },
      "execution_count": 4,
      "outputs": [
        {
          "output_type": "stream",
          "name": "stdout",
          "text": [
            "Branden, Nathaniel\n"
          ]
        }
      ]
    },
    {
      "cell_type": "markdown",
      "source": [
        "# 2. Comments in function"
      ],
      "metadata": {
        "id": "4ThSu7UtoS3p"
      }
    },
    {
      "cell_type": "code",
      "source": [
        "a = 10 # Single line comment "
      ],
      "metadata": {
        "id": "vxayq9QxoBY3"
      },
      "execution_count": 5,
      "outputs": []
    },
    {
      "cell_type": "code",
      "source": [
        "\"\"\" Example of Multi-line comment \n",
        "    Line 2 of a multiline comment\n",
        "\"\"\""
      ],
      "metadata": {
        "colab": {
          "base_uri": "https://localhost:8080/",
          "height": 37
        },
        "id": "MJ8SJdoFoT3N",
        "outputId": "6b92668b-39bc-49ee-9bc0-e9d6cdc9c461"
      },
      "execution_count": 6,
      "outputs": [
        {
          "output_type": "execute_result",
          "data": {
            "text/plain": [
              "' Example of Multi-line comment \\n    Line 2 of a multiline comment\\n'"
            ],
            "application/vnd.google.colaboratory.intrinsic+json": {
              "type": "string"
            }
          },
          "metadata": {},
          "execution_count": 6
        }
      ]
    },
    {
      "cell_type": "code",
      "source": [
        "def function_name(param1, param2):\n",
        "    print(param1)"
      ],
      "metadata": {
        "id": "nxELIdMuoUsC"
      },
      "execution_count": 7,
      "outputs": []
    },
    {
      "cell_type": "code",
      "source": [
        "def function_name(param1, param2):\n",
        "    \"\"\"Example function with PEP 484 type annotations.\n",
        "\n",
        "    Args:\n",
        "        param1: The first parameter.\n",
        "        param2: The second parameter.\n",
        "\n",
        "    Returns:\n",
        "        The return value. True for success, False otherwise.\n",
        "\n",
        "    \"\"\"    \n",
        "    print(param1)"
      ],
      "metadata": {
        "id": "LcKJhVckoW5e"
      },
      "execution_count": 9,
      "outputs": []
    },
    {
      "cell_type": "markdown",
      "source": [
        "# 3. Indentation"
      ],
      "metadata": {
        "id": "FrcOvt6KoaRB"
      }
    },
    {
      "cell_type": "code",
      "source": [
        "def function(var_one):\n",
        "    print(var_one)"
      ],
      "metadata": {
        "id": "kAGVRyaFoYJo"
      },
      "execution_count": 10,
      "outputs": []
    },
    {
      "cell_type": "code",
      "source": [
        "# Arguments in 2nd line are not aligned with arguments in the 1st line.\n",
        "func = function_name(var_one, var_two,\n",
        "      var_three, var_four)\n",
        "\n",
        "# Further indentation required as indentation is not distinguishable - Arguments are having same indentation as print function\n",
        "def function_name(\n",
        "    var_one, var_two, var_three,\n",
        "    var_four):\n",
        "    print(var_one)"
      ],
      "metadata": {
        "id": "w1NWnKbdobYK"
      },
      "execution_count": 12,
      "outputs": []
    },
    {
      "cell_type": "code",
      "source": [
        "# Arguments in 2nd line are aligned with arguments in the 1st line.\n",
        "func = function_name(var_one, var_two,\n",
        "                     var_three, var_four)\n",
        "\n",
        "# Add 4 spaces (an extra level of indentation) to distinguish arguments from the rest.\n",
        "def function_name(\n",
        "        var_one, var_two, var_three,\n",
        "        var_four):\n",
        "    print(var_one)"
      ],
      "metadata": {
        "id": "j9SS_dciocpG"
      },
      "execution_count": 13,
      "outputs": []
    },
    {
      "cell_type": "markdown",
      "source": [
        "# 4. Maximum Line Length"
      ],
      "metadata": {
        "id": "QPkvP3B5ohKW"
      }
    },
    {
      "cell_type": "code",
      "source": [
        "#having length more than 79 characters. \n",
        "joined_df = pd.merge(countries_df, countries_lat_lon, on = 'CountryCode', how = 'inner')"
      ],
      "metadata": {
        "id": "xbb5NhT2ofLU"
      },
      "execution_count": 14,
      "outputs": []
    },
    {
      "cell_type": "code",
      "source": [
        "#Having length less than 79 characters - within parenthesis line continuation is by default. \n",
        "joined_df = pd.merge(countries_df, countries_lat_lon,\n",
        "                     on = 'CountryCode', how = 'inner')# Using \\ for the line continuation\n",
        "from mypackage import example1, \\\n",
        "                      example2, example3"
      ],
      "metadata": {
        "id": "TiEQ3Tvxoijv"
      },
      "execution_count": 15,
      "outputs": []
    },
    {
      "cell_type": "markdown",
      "source": [
        "# 5. Imports on separate lines"
      ],
      "metadata": {
        "id": "HO79AG8wolXS"
      }
    },
    {
      "cell_type": "code",
      "source": [
        "import sys, os, pandas"
      ],
      "metadata": {
        "id": "HAOuYV2LokLV"
      },
      "execution_count": 16,
      "outputs": []
    },
    {
      "cell_type": "code",
      "source": [
        "import os\n",
        "import sys\n",
        "import pandas"
      ],
      "metadata": {
        "id": "XAsD4kPKomYn"
      },
      "execution_count": 17,
      "outputs": []
    },
    {
      "cell_type": "markdown",
      "source": [
        "# 6. Spacing Recommendations"
      ],
      "metadata": {
        "id": "C8CvaoB-on6J"
      }
    },
    {
      "cell_type": "code",
      "source": [
        "i=i+1\n",
        "submitted +=1\n",
        "x = x * 2 - 1\n",
        "hypot2 = x * x + y * y\n",
        "c = (a + b) * (a - b)"
      ],
      "metadata": {
        "id": "dpiGY0JRonIw"
      },
      "execution_count": 21,
      "outputs": []
    },
    {
      "cell_type": "code",
      "source": [
        "i = i + 1\n",
        "submitted += 1\n",
        "x = x*2 - 1\n",
        "hypot2 = x*x + y*y\n",
        "c = (a+b) * (a-b)"
      ],
      "metadata": {
        "id": "-Ks1sacfopFx"
      },
      "execution_count": 20,
      "outputs": []
    }
  ]
}