{
  "nbformat": 4,
  "nbformat_minor": 0,
  "metadata": {
    "colab": {
      "provenance": [],
      "authorship_tag": "ABX9TyOzBUjmvqIbUSWID7DIU3Ju"
    },
    "kernelspec": {
      "name": "python3",
      "display_name": "Python 3"
    },
    "language_info": {
      "name": "python"
    }
  },
  "cells": [
    {
      "cell_type": "markdown",
      "source": [
        "**1. Import the `pathlib` Module:**"
      ],
      "metadata": {
        "id": "Ms-g619doZak"
      }
    },
    {
      "cell_type": "code",
      "execution_count": 1,
      "metadata": {
        "id": "6LPPb6OLoSsG"
      },
      "outputs": [],
      "source": [
        "from pathlib import Path"
      ]
    },
    {
      "cell_type": "markdown",
      "source": [
        "**2. Creating Paths:**"
      ],
      "metadata": {
        "id": "vqJlBh82obkG"
      }
    },
    {
      "cell_type": "code",
      "source": [
        "# Construct a path using forward slashes\n",
        "path = Path(\"folder/subfolder/file.txt\")"
      ],
      "metadata": {
        "id": "SdUtROvBobMH"
      },
      "execution_count": 2,
      "outputs": []
    },
    {
      "cell_type": "code",
      "source": [
        "path"
      ],
      "metadata": {
        "colab": {
          "base_uri": "https://localhost:8080/"
        },
        "id": "j-gYE6Caog4x",
        "outputId": "e1e575c9-987a-4da9-b2fa-8443c6a27bce"
      },
      "execution_count": 3,
      "outputs": [
        {
          "output_type": "execute_result",
          "data": {
            "text/plain": [
              "PosixPath('folder/subfolder/file.txt')"
            ]
          },
          "metadata": {},
          "execution_count": 3
        }
      ]
    },
    {
      "cell_type": "markdown",
      "source": [
        "**3. Accessing Path Components:**"
      ],
      "metadata": {
        "id": "jmrTUT-wojwv"
      }
    },
    {
      "cell_type": "code",
      "source": [
        "print(path.name) # File name with extension\n",
        "print(path.stem) # File name without extension\n",
        "print(path.suffix) # File extension\n",
        "print(path.parent) # Parent directory"
      ],
      "metadata": {
        "colab": {
          "base_uri": "https://localhost:8080/"
        },
        "id": "6UFA_8Uloeyd",
        "outputId": "ac35f60b-0f94-4daf-e184-f83c15907c3f"
      },
      "execution_count": 4,
      "outputs": [
        {
          "output_type": "stream",
          "name": "stdout",
          "text": [
            "file.txt\n",
            "file\n",
            ".txt\n",
            "folder/subfolder\n"
          ]
        }
      ]
    },
    {
      "cell_type": "markdown",
      "source": [
        "**4. Platform-Independent Joining:**"
      ],
      "metadata": {
        "id": "3zpChFtTomeU"
      }
    },
    {
      "cell_type": "code",
      "source": [
        "parent = Path(\"folder\")\n",
        "file_path = parent / \"subfolder\" / \"file.txt\""
      ],
      "metadata": {
        "id": "BbUgxVWJolNC"
      },
      "execution_count": 5,
      "outputs": []
    },
    {
      "cell_type": "code",
      "source": [
        "file_path"
      ],
      "metadata": {
        "colab": {
          "base_uri": "https://localhost:8080/"
        },
        "id": "h8SiZC0xosO1",
        "outputId": "3ac769d9-428d-4c38-f3c6-64cc25ce1ed8"
      },
      "execution_count": 6,
      "outputs": [
        {
          "output_type": "execute_result",
          "data": {
            "text/plain": [
              "PosixPath('folder/subfolder/file.txt')"
            ]
          },
          "metadata": {},
          "execution_count": 6
        }
      ]
    },
    {
      "cell_type": "markdown",
      "source": [
        "**5. Checking Existence:**"
      ],
      "metadata": {
        "id": "1e-LMTcLovYp"
      }
    },
    {
      "cell_type": "code",
      "source": [
        "if file_path.exists():\n",
        "    print(\"File exists!\")"
      ],
      "metadata": {
        "id": "gz2NMfvtos2R"
      },
      "execution_count": 7,
      "outputs": []
    },
    {
      "cell_type": "markdown",
      "source": [
        "**6. Reading and Writing Files:**"
      ],
      "metadata": {
        "id": "PbjwUB2ooyyK"
      }
    },
    {
      "cell_type": "code",
      "source": [
        "content = file_path.read_text() # Read file content\n",
        "file_path.write_text(\"New content\") # Write new content"
      ],
      "metadata": {
        "id": "SvMqxIfYox-f"
      },
      "execution_count": 9,
      "outputs": []
    },
    {
      "cell_type": "markdown",
      "source": [
        "**7. Iterating Over Files in a Directory:**"
      ],
      "metadata": {
        "id": "QivPYF_do30h"
      }
    },
    {
      "cell_type": "code",
      "source": [
        "for file in parent.glob(\"*.txt\"):\n",
        "    print(file.name)"
      ],
      "metadata": {
        "id": "VFhrt0hNo08N"
      },
      "execution_count": 10,
      "outputs": []
    }
  ]
}
