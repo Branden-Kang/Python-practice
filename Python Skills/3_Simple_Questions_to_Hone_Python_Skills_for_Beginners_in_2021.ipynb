{
  "nbformat": 4,
  "nbformat_minor": 0,
  "metadata": {
    "colab": {
      "name": "3 Simple Questions to Hone Python Skills for Beginners in 2021.ipynb",
      "provenance": [],
      "authorship_tag": "ABX9TyOW4w8T8+/4CgPXE2kt0cGO"
    },
    "kernelspec": {
      "name": "python3",
      "display_name": "Python 3"
    },
    "language_info": {
      "name": "python"
    }
  },
  "cells": [
    {
      "cell_type": "markdown",
      "metadata": {
        "id": "6NHPn6WKemml"
      },
      "source": [
        "[Reference](https://towardsdatascience.com/3-simple-questions-to-hone-python-skills-for-beginners-in-2021-f12da38f83cf)"
      ]
    },
    {
      "cell_type": "code",
      "metadata": {
        "colab": {
          "base_uri": "https://localhost:8080/"
        },
        "id": "VB9co8bOdKPX",
        "outputId": "49ffa1b2-402b-4c42-f48b-f89e20f77b51"
      },
      "source": [
        "def good_pair(nums):\n",
        "    count = 0 \n",
        "    for i in range(len(nums)):\n",
        "        for j in range(i+1,len(nums)):\n",
        "            if nums[i] ==nums[j]:\n",
        "                count+=1\n",
        "    return count\n",
        "\n",
        "# test case \n",
        "nums = [1,2,3,1,1,3]\n",
        "\n",
        "good_pair(nums)"
      ],
      "execution_count": 1,
      "outputs": [
        {
          "output_type": "execute_result",
          "data": {
            "text/plain": [
              "4"
            ]
          },
          "metadata": {
            "tags": []
          },
          "execution_count": 1
        }
      ]
    },
    {
      "cell_type": "code",
      "metadata": {
        "colab": {
          "base_uri": "https://localhost:8080/"
        },
        "id": "63h893NoerzW",
        "outputId": "498e3189-98a8-4a98-8c6b-fc1f971b8cad"
      },
      "source": [
        "def good_pair(nums):\n",
        "    \n",
        "    hashmap = {}\n",
        "    count = 0 \n",
        "    \n",
        "    for num in nums:              # read elements from nums sequentially \n",
        "        if num in hashmap:\n",
        "            count += hashmap[num]\n",
        "            hashmap[num]+=1\n",
        "\n",
        "        else: \n",
        "            hashmap[num]=1\n",
        "    return count \n",
        "\n",
        "# test case \n",
        "nums = [1,2,3,1,1,3]\n",
        "\n",
        "good_pair(nums)"
      ],
      "execution_count": 2,
      "outputs": [
        {
          "output_type": "execute_result",
          "data": {
            "text/plain": [
              "4"
            ]
          },
          "metadata": {
            "tags": []
          },
          "execution_count": 2
        }
      ]
    },
    {
      "cell_type": "code",
      "metadata": {
        "colab": {
          "base_uri": "https://localhost:8080/"
        },
        "id": "WZ8sl5RGetvr",
        "outputId": "ae350c54-eb62-4c0c-fcfb-14b1c91b8335"
      },
      "source": [
        "def Armstrong(num):\n",
        "    \n",
        "    k = len(str(num))\n",
        "    \n",
        "    digit_sum =0\n",
        "    \n",
        "    for i in str(num):\n",
        "        digit_sum += int(i)**k\n",
        "\n",
        "    return digit_sum == num\n",
        "\n",
        "# test case \n",
        "Armstrong(num = 153)"
      ],
      "execution_count": 3,
      "outputs": [
        {
          "output_type": "execute_result",
          "data": {
            "text/plain": [
              "True"
            ]
          },
          "metadata": {
            "tags": []
          },
          "execution_count": 3
        }
      ]
    },
    {
      "cell_type": "code",
      "metadata": {
        "colab": {
          "base_uri": "https://localhost:8080/"
        },
        "id": "UvohMuPVexxH",
        "outputId": "26c5f7ba-479c-41d7-bfef-543da06f03f3"
      },
      "source": [
        "def Armstrong_1(num):\n",
        "    num1 = num          # prepare num1 for comparison\n",
        "    k = len(str(num))\n",
        "\n",
        "    digit_sum= 0 \n",
        "    \n",
        "    while num != 0:\n",
        "        digit = num%10\n",
        "        digit_sum += digit**k\n",
        "        num = int(num/10)\n",
        "    return digit_sum  == num1\n",
        "\n",
        "# test case\n",
        "Armstrong_1(num = 153)"
      ],
      "execution_count": 4,
      "outputs": [
        {
          "output_type": "execute_result",
          "data": {
            "text/plain": [
              "True"
            ]
          },
          "metadata": {
            "tags": []
          },
          "execution_count": 4
        }
      ]
    },
    {
      "cell_type": "code",
      "metadata": {
        "colab": {
          "base_uri": "https://localhost:8080/"
        },
        "id": "wkBJFL-2ezu2",
        "outputId": "f54f8d8e-1d81-4686-b3b6-bcd6b2580e5e"
      },
      "source": [
        "def countPrimes(n):\n",
        "    if n <=2:\n",
        "        return 0\n",
        "    count = 0 \n",
        "    for i in range(2,n):\n",
        "        for j in range(2,i):\n",
        "            if i%j ==0:\n",
        "                break\n",
        "        else:\n",
        "            count+=1\n",
        "    return count\n",
        "\n",
        "# test case\n",
        "countPrimes(7)# primes: 2,3,5"
      ],
      "execution_count": 5,
      "outputs": [
        {
          "output_type": "execute_result",
          "data": {
            "text/plain": [
              "3"
            ]
          },
          "metadata": {
            "tags": []
          },
          "execution_count": 5
        }
      ]
    },
    {
      "cell_type": "code",
      "metadata": {
        "colab": {
          "base_uri": "https://localhost:8080/"
        },
        "id": "Id6yfUJFe3GQ",
        "outputId": "c0f5fa39-afb6-45dd-f58e-bf0c383d3a24"
      },
      "source": [
        "# super fast but have to remember the math\n",
        "def countPrimes(n):\n",
        "    if n < 3:\n",
        "        return 0\n",
        "    \n",
        "    primes = [True] * n\n",
        "    \n",
        "    primes[0] = primes[1] = False\n",
        "    \n",
        "    for i in range(2, int(n ** 0.5) + 1):\n",
        "        \n",
        "        if primes[i]:\n",
        "            \n",
        "            primes[i * i: n: i] = [False] * len(primes[i * i: n: i])\n",
        "            \n",
        "    return sum(primes)\n",
        "\n",
        "# test case\n",
        "countPrimes(100000)"
      ],
      "execution_count": 6,
      "outputs": [
        {
          "output_type": "execute_result",
          "data": {
            "text/plain": [
              "9592"
            ]
          },
          "metadata": {
            "tags": []
          },
          "execution_count": 6
        }
      ]
    }
  ]
}