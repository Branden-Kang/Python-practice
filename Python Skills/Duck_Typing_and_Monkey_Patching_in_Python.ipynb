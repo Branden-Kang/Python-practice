{
  "nbformat": 4,
  "nbformat_minor": 0,
  "metadata": {
    "colab": {
      "name": "Duck Typing and Monkey Patching in Python.ipynb",
      "provenance": [],
      "authorship_tag": "ABX9TyOh3JaF9eqhHrZ3n25VGCp4"
    },
    "kernelspec": {
      "name": "python3",
      "display_name": "Python 3"
    }
  },
  "cells": [
    {
      "cell_type": "markdown",
      "metadata": {
        "id": "XG4tUXDGRa9X"
      },
      "source": [
        "[Reference](https://medium.com/better-programming/what-are-duck-typing-and-monkey-patching-in-python-2f8e3d6b864f)"
      ]
    },
    {
      "cell_type": "markdown",
      "metadata": {
        "id": "v1jBb8MGYkIv"
      },
      "source": [
        "# Duck Typing"
      ]
    },
    {
      "cell_type": "code",
      "metadata": {
        "id": "hs8D-zW4DY2I"
      },
      "source": [
        "class Duck:\n",
        "    def swim(self):\n",
        "        print(\"I can swim.\")\n",
        "    def quack(self):\n",
        "        print(\"I can quack.\")"
      ],
      "execution_count": 1,
      "outputs": []
    },
    {
      "cell_type": "code",
      "metadata": {
        "id": "-z-uIZTYRipP",
        "outputId": "fcf3ebd7-45b6-4ff5-f4df-50cf7679f756",
        "colab": {
          "base_uri": "https://localhost:8080/"
        }
      },
      "source": [
        "def duck_testing(presumed_duck):\n",
        "     try:\n",
        "         presumed_duck.swim()\n",
        "         presumed_duck.quack()\n",
        "     except AttributeError:\n",
        "         print(\"I'm not a duck.\")\n",
        "     else:\n",
        "         print(\"I think I'm a duck.\")\n",
        " \n",
        "duck = Duck()\n",
        "isinstance(duck, Duck)\n",
        "duck_testing(duck)"
      ],
      "execution_count": 2,
      "outputs": [
        {
          "output_type": "stream",
          "text": [
            "I can swim.\n",
            "I can quack.\n",
            "I think I'm a duck.\n"
          ],
          "name": "stdout"
        }
      ]
    },
    {
      "cell_type": "code",
      "metadata": {
        "id": "zvFAw3CHXSVM"
      },
      "source": [
        "class ToyDuck:\n",
        "    def swim(self):\n",
        "        print(\"I can swim.\")\n",
        "\n",
        "    def quack(self):\n",
        "        print(\"I can quack.\")"
      ],
      "execution_count": 4,
      "outputs": []
    },
    {
      "cell_type": "code",
      "metadata": {
        "id": "1JhnRWD1XfoT"
      },
      "source": [
        "class Human:\n",
        "     def swim(self):\n",
        "         print(\"I can swim.\")"
      ],
      "execution_count": 5,
      "outputs": []
    },
    {
      "cell_type": "code",
      "metadata": {
        "id": "hH1uAx7EXjXT",
        "outputId": "9fb0e4a1-9bad-4890-e622-268afc249e25",
        "colab": {
          "base_uri": "https://localhost:8080/",
          "height": 68
        }
      },
      "source": [
        "toy_duck = ToyDuck()\n",
        "isinstance(toy_duck, Duck)\n",
        "duck_testing(toy_duck)"
      ],
      "execution_count": 6,
      "outputs": [
        {
          "output_type": "stream",
          "text": [
            "I can swim.\n",
            "I can quack.\n",
            "I think I'm a duck.\n"
          ],
          "name": "stdout"
        }
      ]
    },
    {
      "cell_type": "code",
      "metadata": {
        "id": "FaNg-NoUXu1y",
        "outputId": "7446c95d-1d57-4e8a-e2c3-8104d9dce0f0",
        "colab": {
          "base_uri": "https://localhost:8080/",
          "height": 51
        }
      },
      "source": [
        "human = Human()\n",
        "isinstance(human, Duck)\n",
        "duck_testing(human)"
      ],
      "execution_count": 7,
      "outputs": [
        {
          "output_type": "stream",
          "text": [
            "I can swim.\n",
            "I'm not a duck.\n"
          ],
          "name": "stdout"
        }
      ]
    },
    {
      "cell_type": "markdown",
      "metadata": {
        "id": "hiHuRxu2X4vy"
      },
      "source": [
        "# Monkey Patching"
      ]
    },
    {
      "cell_type": "code",
      "metadata": {
        "id": "U9rQAmYmX2x_",
        "outputId": "486d761a-e72f-4d83-fde1-e763054c6241",
        "colab": {
          "base_uri": "https://localhost:8080/",
          "height": 54
        }
      },
      "source": [
        "class Foo:\n",
        "    attr1 = \"Attribute 1\"\n",
        "\n",
        "    def bar(self):\n",
        "        pass\n",
        " \n",
        "print(dict(Foo.__dict__))"
      ],
      "execution_count": 8,
      "outputs": [
        {
          "output_type": "stream",
          "text": [
            "{'__module__': '__main__', 'attr1': 'Attribute 1', 'bar': <function Foo.bar at 0x7f676ee5cea0>, '__dict__': <attribute '__dict__' of 'Foo' objects>, '__weakref__': <attribute '__weakref__' of 'Foo' objects>, '__doc__': None}\n"
          ],
          "name": "stdout"
        }
      ]
    },
    {
      "cell_type": "code",
      "metadata": {
        "id": "ytZzRP6RYKT9"
      },
      "source": [
        "Foo.attr2 = \"Attribute 2\"\n",
        "def bar2(foo):\n",
        "    pass"
      ],
      "execution_count": 9,
      "outputs": []
    },
    {
      "cell_type": "code",
      "metadata": {
        "id": "QbXc6-hhYSR6"
      },
      "source": [
        "Foo.bar2 = bar2"
      ],
      "execution_count": 10,
      "outputs": []
    },
    {
      "cell_type": "code",
      "metadata": {
        "id": "ODN-BPC6YTPo",
        "outputId": "fe5ba7a0-4799-47bd-ae2a-8990e12453bc",
        "colab": {
          "base_uri": "https://localhost:8080/",
          "height": 54
        }
      },
      "source": [
        "print(dict(Foo.__dict__))"
      ],
      "execution_count": 11,
      "outputs": [
        {
          "output_type": "stream",
          "text": [
            "{'__module__': '__main__', 'attr1': 'Attribute 1', 'bar': <function Foo.bar at 0x7f676ee5cea0>, '__dict__': <attribute '__dict__' of 'Foo' objects>, '__weakref__': <attribute '__weakref__' of 'Foo' objects>, '__doc__': None, 'attr2': 'Attribute 2', 'bar2': <function bar2 at 0x7f676ee75e18>}\n"
          ],
          "name": "stdout"
        }
      ]
    },
    {
      "cell_type": "code",
      "metadata": {
        "id": "i38I_EOkYUl_",
        "outputId": "bce7e945-a2f7-4945-bd11-81f5d4dd82cb",
        "colab": {
          "base_uri": "https://localhost:8080/",
          "height": 37
        }
      },
      "source": [
        "Foo.attr1"
      ],
      "execution_count": 12,
      "outputs": [
        {
          "output_type": "execute_result",
          "data": {
            "application/vnd.google.colaboratory.intrinsic+json": {
              "type": "string"
            },
            "text/plain": [
              "'Attribute 1'"
            ]
          },
          "metadata": {
            "tags": []
          },
          "execution_count": 12
        }
      ]
    },
    {
      "cell_type": "code",
      "metadata": {
        "id": "roT6PIiwYWRs",
        "outputId": "64495f70-6a41-4f4a-c594-fc6c2faa3324",
        "colab": {
          "base_uri": "https://localhost:8080/",
          "height": 37
        }
      },
      "source": [
        "Foo.attr2"
      ],
      "execution_count": 13,
      "outputs": [
        {
          "output_type": "execute_result",
          "data": {
            "application/vnd.google.colaboratory.intrinsic+json": {
              "type": "string"
            },
            "text/plain": [
              "'Attribute 2'"
            ]
          },
          "metadata": {
            "tags": []
          },
          "execution_count": 13
        }
      ]
    },
    {
      "cell_type": "code",
      "metadata": {
        "id": "xeJhfwPSYWwh"
      },
      "source": [
        "def quack(presumed_duck):\n",
        "    print(\"I can quack.\")"
      ],
      "execution_count": 14,
      "outputs": []
    },
    {
      "cell_type": "code",
      "metadata": {
        "id": "HSMfQIq4Yb1-"
      },
      "source": [
        "Human.quack = quack"
      ],
      "execution_count": 15,
      "outputs": []
    },
    {
      "cell_type": "code",
      "metadata": {
        "id": "V7aqI08HYcE2"
      },
      "source": [
        "donald_duck = Human()"
      ],
      "execution_count": 16,
      "outputs": []
    },
    {
      "cell_type": "code",
      "metadata": {
        "id": "iPCKf3d9YdaJ",
        "outputId": "7995e04c-33e6-46a1-e6ff-b801e3df054d",
        "colab": {
          "base_uri": "https://localhost:8080/",
          "height": 68
        }
      },
      "source": [
        "duck_testing(donald_duck)"
      ],
      "execution_count": 17,
      "outputs": [
        {
          "output_type": "stream",
          "text": [
            "I can swim.\n",
            "I can quack.\n",
            "I think I'm a duck.\n"
          ],
          "name": "stdout"
        }
      ]
    }
  ]
}