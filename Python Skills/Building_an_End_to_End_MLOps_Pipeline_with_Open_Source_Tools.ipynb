{
  "nbformat": 4,
  "nbformat_minor": 0,
  "metadata": {
    "colab": {
      "provenance": [],
      "authorship_tag": "ABX9TyOwggqlkE3noQnUjNXlECzk"
    },
    "kernelspec": {
      "name": "python3",
      "display_name": "Python 3"
    },
    "language_info": {
      "name": "python"
    }
  },
  "cells": [
    {
      "cell_type": "markdown",
      "source": [
        "[Reference](https://mlengineering.medium.com/building-an-end-to-end-mlops-pipeline-with-open-source-tools-d8bacbf4184f)"
      ],
      "metadata": {
        "id": "6TmtWFAH4pEO"
      }
    },
    {
      "cell_type": "code",
      "execution_count": 1,
      "metadata": {
        "id": "ZW6w8FjzvLbQ"
      },
      "outputs": [],
      "source": [
        "import mlflow\n",
        "import mlflow.sklearn\n",
        "from sklearn.ensemble import RandomForestClassifier\n",
        "from sklearn.datasets import load_iris\n",
        "from sklearn.model_selection import train_test_split\n",
        "\n",
        "# Split data\n",
        "X_train, X_test, y_train, y_test = train_test_split(X, y, test_size=0.2)\n",
        "# Start a new MLflow run\n",
        "with mlflow.start_run() as run:\n",
        "    # Train a RandomForest model\n",
        "    clf = RandomForestClassifier()\n",
        "    clf.fit(X_train, y_train)\n",
        "\n",
        "    # Log parameters and metrics\n",
        "    mlflow.log_param(\"criterion\", clf.criterion)\n",
        "    mlflow.log_metric(\"accuracy\", clf.score(X_test, y_test))\n",
        "\n",
        "    # Log the trained model\n",
        "    mlflow.sklearn.log_model(clf, \"RandomForestModel\")\n",
        "    # Register the model to the MLflow Model Registry\n",
        "    mlflow.register_model(f\"runs:/{run.info.run_id}/RandomForestModel\", \"IrisClassifier\")‍"
      ]
    }
  ]
}
