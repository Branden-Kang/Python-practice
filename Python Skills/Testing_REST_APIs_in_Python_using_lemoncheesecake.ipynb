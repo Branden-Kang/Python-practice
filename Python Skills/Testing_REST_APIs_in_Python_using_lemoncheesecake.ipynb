{
  "nbformat": 4,
  "nbformat_minor": 0,
  "metadata": {
    "colab": {
      "name": "Testing REST APIs in Python using lemoncheesecake.ipynb",
      "provenance": [],
      "authorship_tag": "ABX9TyNZId5ytaR7b73SsFac+Lcv"
    },
    "kernelspec": {
      "name": "python3",
      "display_name": "Python 3"
    },
    "language_info": {
      "name": "python"
    }
  },
  "cells": [
    {
      "cell_type": "markdown",
      "metadata": {
        "id": "YYajbddm3szH"
      },
      "source": [
        "[Reference](https://medium.com/@nicolas.delon/testing-rest-apis-in-python-b4ff654decfc)"
      ]
    },
    {
      "cell_type": "code",
      "metadata": {
        "colab": {
          "base_uri": "https://localhost:8080/",
          "height": 752
        },
        "id": "2gVrMaVb3qhy",
        "outputId": "7a530e8c-1f24-40c3-e324-939116b5c3f2"
      },
      "source": [
        "pip install lemoncheesecake-requests"
      ],
      "execution_count": 1,
      "outputs": [
        {
          "output_type": "stream",
          "name": "stdout",
          "text": [
            "Collecting lemoncheesecake-requests\n",
            "  Downloading lemoncheesecake-requests-0.2.1.tar.gz (7.6 kB)\n",
            "Collecting lemoncheesecake~=1.10\n",
            "  Downloading lemoncheesecake-1.11.0.tar.gz (503 kB)\n",
            "\u001b[K     |████████████████████████████████| 503 kB 10.2 MB/s \n",
            "\u001b[?25hRequirement already satisfied: requests~=2.23 in /usr/local/lib/python3.7/dist-packages (from lemoncheesecake-requests) (2.23.0)\n",
            "Collecting colorama\n",
            "  Downloading colorama-0.4.4-py2.py3-none-any.whl (16 kB)\n",
            "Requirement already satisfied: termcolor in /usr/local/lib/python3.7/dist-packages (from lemoncheesecake~=1.10->lemoncheesecake-requests) (1.1.0)\n",
            "Collecting terminaltables\n",
            "  Downloading terminaltables-3.1.0.tar.gz (12 kB)\n",
            "Requirement already satisfied: six in /usr/local/lib/python3.7/dist-packages (from lemoncheesecake~=1.10->lemoncheesecake-requests) (1.15.0)\n",
            "Collecting typing\n",
            "  Downloading typing-3.7.4.3.tar.gz (78 kB)\n",
            "\u001b[K     |████████████████████████████████| 78 kB 7.4 MB/s \n",
            "\u001b[?25hRequirement already satisfied: python-slugify in /usr/local/lib/python3.7/dist-packages (from lemoncheesecake~=1.10->lemoncheesecake-requests) (5.0.2)\n",
            "Requirement already satisfied: chardet<4,>=3.0.2 in /usr/local/lib/python3.7/dist-packages (from requests~=2.23->lemoncheesecake-requests) (3.0.4)\n",
            "Requirement already satisfied: urllib3!=1.25.0,!=1.25.1,<1.26,>=1.21.1 in /usr/local/lib/python3.7/dist-packages (from requests~=2.23->lemoncheesecake-requests) (1.24.3)\n",
            "Requirement already satisfied: idna<3,>=2.5 in /usr/local/lib/python3.7/dist-packages (from requests~=2.23->lemoncheesecake-requests) (2.10)\n",
            "Requirement already satisfied: certifi>=2017.4.17 in /usr/local/lib/python3.7/dist-packages (from requests~=2.23->lemoncheesecake-requests) (2021.10.8)\n",
            "Requirement already satisfied: text-unidecode>=1.3 in /usr/local/lib/python3.7/dist-packages (from python-slugify->lemoncheesecake~=1.10->lemoncheesecake-requests) (1.3)\n",
            "Building wheels for collected packages: lemoncheesecake-requests, lemoncheesecake, terminaltables, typing\n",
            "  Building wheel for lemoncheesecake-requests (setup.py) ... \u001b[?25l\u001b[?25hdone\n",
            "  Created wheel for lemoncheesecake-requests: filename=lemoncheesecake_requests-0.2.1-py3-none-any.whl size=7160 sha256=a02b5d0e4a1556e2f5859e0dad90ee4d5d02efe0dcb8b4a941ee12a528cccaa4\n",
            "  Stored in directory: /root/.cache/pip/wheels/9d/43/93/1bafa77db4fe4f714a295c80cf6db17d142046c754795cba67\n",
            "  Building wheel for lemoncheesecake (setup.py) ... \u001b[?25l\u001b[?25hdone\n",
            "  Created wheel for lemoncheesecake: filename=lemoncheesecake-1.11.0-py3-none-any.whl size=531640 sha256=01f31aadecf5c76c8aa83ec61cc568057062f08524f565acf111160c23ece9aa\n",
            "  Stored in directory: /root/.cache/pip/wheels/f0/b8/82/bda28b479172ac08f94ebe86f8710fe6871aaae255a779119f\n",
            "  Building wheel for terminaltables (setup.py) ... \u001b[?25l\u001b[?25hdone\n",
            "  Created wheel for terminaltables: filename=terminaltables-3.1.0-py3-none-any.whl size=15354 sha256=2695a4885b80f6a9f3c10214b52d967e5303f374b7f14b2d2116761a0256e460\n",
            "  Stored in directory: /root/.cache/pip/wheels/ba/ad/c8/2d98360791161cd3db6daf6b5e730f34021fc9367d5879f497\n",
            "  Building wheel for typing (setup.py) ... \u001b[?25l\u001b[?25hdone\n",
            "  Created wheel for typing: filename=typing-3.7.4.3-py3-none-any.whl size=26324 sha256=9f09565fd484949343566e6451129ebddef2c01b759b7e4f3a599358dc5435ab\n",
            "  Stored in directory: /root/.cache/pip/wheels/35/f3/15/01aa6571f0a72ee6ae7b827c1491c37a1f72d686fd22b43b0e\n",
            "Successfully built lemoncheesecake-requests lemoncheesecake terminaltables typing\n",
            "Installing collected packages: typing, terminaltables, colorama, lemoncheesecake, lemoncheesecake-requests\n",
            "Successfully installed colorama-0.4.4 lemoncheesecake-1.11.0 lemoncheesecake-requests-0.2.1 terminaltables-3.1.0 typing-3.7.4.3\n"
          ]
        },
        {
          "output_type": "display_data",
          "data": {
            "application/vnd.colab-display-data+json": {
              "pip_warning": {
                "packages": [
                  "typing"
                ]
              }
            }
          },
          "metadata": {}
        }
      ]
    },
    {
      "cell_type": "code",
      "metadata": {
        "id": "1wTyFlRT3wNW"
      },
      "source": [
        "import lemoncheesecake.api as lcc\n",
        "from lemoncheesecake.matching import *\n",
        "from lemoncheesecake_requests import Session, is_2xx\n",
        "\n",
        "\n",
        "@lcc.test()\n",
        "def create_user():\n",
        "    lcc.set_step(\"Create user\")\n",
        "    session = Session(\"https://reqres.in/api\")\n",
        "    resp = session.post(\n",
        "        \"/users\",\n",
        "        json={\n",
        "            \"first_name\": \"John\",\n",
        "            \"last_name\": \"Doe\",\n",
        "            \"email\": \"john.doe@example.net\"\n",
        "        }\n",
        "    )\n",
        "    resp.require_status_code(is_2xx())\n",
        "\n",
        "    lcc.set_step(\"Check created user response\")\n",
        "    check_that_in(\n",
        "        resp.json(),\n",
        "        \"id\", match_pattern(r\"^(\\d+)$\"),\n",
        "        \"createdAt\", match_pattern(r\"^\\d{4}-\\d{2}-\\d{2}T\\d{2}:\\d{2}:\\d{2}\\.\\d{3}Z$\"),\n",
        "        \"first_name\", equal_to(\"John\"),\n",
        "        \"last_name\", equal_to(\"Doe\"),\n",
        "        \"email\", ends_with(\"@example.net\")\n",
        "    )"
      ],
      "execution_count": 2,
      "outputs": []
    }
  ]
}