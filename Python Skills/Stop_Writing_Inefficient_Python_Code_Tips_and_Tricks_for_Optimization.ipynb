{
  "nbformat": 4,
  "nbformat_minor": 0,
  "metadata": {
    "colab": {
      "provenance": [],
      "authorship_tag": "ABX9TyMW0xzqn8dthepYGIus2Uc5"
    },
    "kernelspec": {
      "name": "python3",
      "display_name": "Python 3"
    },
    "language_info": {
      "name": "python"
    }
  },
  "cells": [
    {
      "cell_type": "markdown",
      "source": [
        "[Reference](https://medium.com/codex/stop-writing-inefficient-python-code-instead-follow-these-steps-8ab798193211)"
      ],
      "metadata": {
        "id": "4CvZhaKHWs7d"
      }
    },
    {
      "cell_type": "markdown",
      "source": [
        "# 1. Use Built-in Functions and Libraries"
      ],
      "metadata": {
        "id": "vSRfmD40WwM8"
      }
    },
    {
      "cell_type": "code",
      "execution_count": 1,
      "metadata": {
        "colab": {
          "base_uri": "https://localhost:8080/"
        },
        "id": "hPIq6lR_SivV",
        "outputId": "6e2f7efc-96ab-4e2f-c8f5-261b981d7759"
      },
      "outputs": [
        {
          "output_type": "stream",
          "name": "stdout",
          "text": [
            "[2, 4, 6, 8, 10]\n"
          ]
        }
      ],
      "source": [
        "# Example of using map() function to apply a function to a list \n",
        "lst = [1, 2, 3, 4, 5] \n",
        "new_lst = list(map(lambda x: x * 2, lst))  \n",
        "\n",
        "# Multiply each element in the list by 2 \n",
        "print(new_lst) \n",
        "# Output: [2, 4, 6, 8, 10] "
      ]
    },
    {
      "cell_type": "markdown",
      "source": [
        "# 2. Avoid Global Variables"
      ],
      "metadata": {
        "id": "EtAxXQSwWyW2"
      }
    },
    {
      "cell_type": "code",
      "source": [
        "# Example of using local variables inside a function \n",
        "def add_numbers(num1, num2): \n",
        "  result = num1 + num2  \n",
        "\n",
        "# Local variable return\n",
        "result sum = add_numbers(10, 20) \n",
        "print(sum)  \n",
        "# Output: 30"
      ],
      "metadata": {
        "colab": {
          "base_uri": "https://localhost:8080/",
          "height": 130
        },
        "id": "O_tMaKsyWwgC",
        "outputId": "cbf75d04-3e8a-466e-d399-6e76fbd95f71"
      },
      "execution_count": 2,
      "outputs": [
        {
          "output_type": "error",
          "ename": "SyntaxError",
          "evalue": "ignored",
          "traceback": [
            "\u001b[0;36m  File \u001b[0;32m\"<ipython-input-2-a98efaf1d661>\"\u001b[0;36m, line \u001b[0;32m6\u001b[0m\n\u001b[0;31m    result sum = add_numbers(10, 20)\u001b[0m\n\u001b[0m           ^\u001b[0m\n\u001b[0;31mSyntaxError\u001b[0m\u001b[0;31m:\u001b[0m invalid syntax\n"
          ]
        }
      ]
    },
    {
      "cell_type": "markdown",
      "source": [
        "# 3. Use Generators"
      ],
      "metadata": {
        "id": "gtKrybo6W0XH"
      }
    },
    {
      "cell_type": "code",
      "source": [
        "# # Example of using a generator to iterate over a large dataset \n",
        "# def read_file(filename): \n",
        "#   with open(filename) as file: \n",
        "#     for line in file: \n",
        "#       yield line.strip() \n",
        "#         for line in read_file(\"data.txt\"): \n",
        "#           print(line)"
      ],
      "metadata": {
        "id": "GxBV-DbiWzgv"
      },
      "execution_count": 6,
      "outputs": []
    },
    {
      "cell_type": "markdown",
      "source": [
        "# 4. Use Set and Dictionary Comprehension"
      ],
      "metadata": {
        "id": "d4gpP_x0W24J"
      }
    },
    {
      "cell_type": "code",
      "source": [
        "# Example of using set comprehension to create a new set \n",
        "lst = [1, 2, 3, 4, 5] \n",
        "new_set = {x * 2 for x in lst}  \n",
        "\n",
        "# Multiply each element in the list by 2 and create a new set \n",
        "print(new_set)  \n",
        "# Output: {2, 4, 6, 8, 10} \n",
        "\n",
        "\n",
        "# Example of using dictionary comprehension to create a new dictionary \n",
        "lst = [(\"apple\", 2), (\"banana\", 3), (\"orange\", 4)] \n",
        "new_dict = {k: v for k, v in lst}  \n",
        "# Convert the list of tuples to a dictionary \n",
        "print(new_dict)  \n",
        "# {'apple': 2, 'banana': 3, 'orange': 4}"
      ],
      "metadata": {
        "colab": {
          "base_uri": "https://localhost:8080/"
        },
        "id": "NHTLUkF2W1j4",
        "outputId": "44a0199b-015e-418c-9a8f-7422e922c282"
      },
      "execution_count": 7,
      "outputs": [
        {
          "output_type": "stream",
          "name": "stdout",
          "text": [
            "{2, 4, 6, 8, 10}\n",
            "{'apple': 2, 'banana': 3, 'orange': 4}\n"
          ]
        }
      ]
    },
    {
      "cell_type": "markdown",
      "source": [
        "# 5. Use the most efficient data structure for the task"
      ],
      "metadata": {
        "id": "7Ee7HRJxXBFe"
      }
    },
    {
      "cell_type": "code",
      "source": [
        "# Using a list to find max and min values \n",
        "numbers = [5, 10, 2, 8, 1] \n",
        "max_val = max(numbers) \n",
        "min_val = min(numbers) \n",
        "\n",
        "# Using a heap to find max and min values \n",
        "import heapq \n",
        "numbers = [5, 10, 2, 8, 1] \n",
        "max_val = heapq.nlargest(1, numbers)[0] \n",
        "min_val = heapq.nsmallest(1, numbers)[0]"
      ],
      "metadata": {
        "id": "FKN48uWHXChZ"
      },
      "execution_count": 8,
      "outputs": []
    },
    {
      "cell_type": "markdown",
      "source": [
        "# 6. Use decorators to simplify your code"
      ],
      "metadata": {
        "id": "lHR5E2g_XDj7"
      }
    },
    {
      "cell_type": "code",
      "source": [
        "def potentially_error_prone_function():\n",
        "    if some_condition:\n",
        "        raise ValueError(\"Oops!\")\n",
        "    return \"Success\""
      ],
      "metadata": {
        "id": "WO3AEh2fXCpa"
      },
      "execution_count": 9,
      "outputs": []
    },
    {
      "cell_type": "code",
      "source": [
        "def error_handling_wrapper(func):\n",
        "    def wrapper():\n",
        "        try:\n",
        "            result = func()\n",
        "        except Exception as e:\n",
        "            print(\"An error occurred:\", e)\n",
        "            return None\n",
        "        return result\n",
        "    return wrapper\n",
        "\n",
        "@error_handling_wrapper\n",
        "def potentially_error_prone_function():\n",
        "    if some_condition:\n",
        "        raise ValueError(\"Oops!\")\n",
        "    return \"Success\""
      ],
      "metadata": {
        "id": "kWG3w43wXEwl"
      },
      "execution_count": 10,
      "outputs": []
    },
    {
      "cell_type": "markdown",
      "source": [
        "# 7. Use the join method for joining strings"
      ],
      "metadata": {
        "id": "yAWaF1uwXHtz"
      }
    },
    {
      "cell_type": "code",
      "source": [
        "# Slow way \n",
        "\n",
        "words = ['Hello','welcome','to','the','blog']\n",
        "\n",
        "result = '' \n",
        "for word in words: \n",
        "    result += word + ' ' \n",
        "\n",
        "# Fast \n",
        "wayresult = ' '.join(words)\n",
        "print(wayresult)\n",
        "\n",
        "## 'Hello welcome to the blog'"
      ],
      "metadata": {
        "colab": {
          "base_uri": "https://localhost:8080/"
        },
        "id": "YvPLdf1iXGX6",
        "outputId": "51b63070-3068-4af1-a178-4d29ae3cdbd7"
      },
      "execution_count": 11,
      "outputs": [
        {
          "output_type": "stream",
          "name": "stdout",
          "text": [
            "Hello welcome to the blog\n"
          ]
        }
      ]
    },
    {
      "cell_type": "markdown",
      "source": [
        "# 8. Avoid using try-except blocks when possible"
      ],
      "metadata": {
        "id": "xn7EEy_rXMnS"
      }
    },
    {
      "cell_type": "code",
      "source": [
        "# Bad Code\n",
        "def divide(a, b):\n",
        "    try:\n",
        "        result = a / b\n",
        "    except ZeroDivisionError:\n",
        "        result = None\n",
        "    return result\n",
        "\n",
        "# Good Code\n",
        "def divide(a, b):\n",
        "    if b == 0:\n",
        "        return None\n",
        "    else:\n",
        "        return a / b"
      ],
      "metadata": {
        "id": "0dQJ8fcIXN4m"
      },
      "execution_count": 12,
      "outputs": []
    },
    {
      "cell_type": "markdown",
      "source": [
        "# 9. Use the Python debugger (pdb) to optimize your code"
      ],
      "metadata": {
        "id": "k-ir7CjAXS64"
      }
    },
    {
      "cell_type": "code",
      "source": [
        "import pdb\n",
        "\n",
        "def calculate_sum(n):\n",
        "    total = 0\n",
        "    for i in range(n):\n",
        "        pdb.set_trace()\n",
        "        total += i\n",
        "    return total\n",
        "\n",
        "calculate_sum(5)"
      ],
      "metadata": {
        "colab": {
          "base_uri": "https://localhost:8080/"
        },
        "id": "4IKGKtwIXRmI",
        "outputId": "c215b846-accd-46fe-8cc6-4d80038927ff"
      },
      "execution_count": 13,
      "outputs": [
        {
          "output_type": "stream",
          "name": "stderr",
          "text": [
            "\n",
            "PYDEV DEBUGGER WARNING:\n",
            "sys.settrace() should not be used when the debugger is being used.\n",
            "This may cause the debugger to stop working correctly.\n",
            "If this is needed, please check: \n",
            "http://pydev.blogspot.com/2007/06/why-cant-pydev-debugger-work-with.html\n",
            "to see how to restore the debug tracing back correctly.\n",
            "Call Location:\n",
            "  File \"/usr/lib/python3.9/bdb.py\", line 334, in set_trace\n",
            "    sys.settrace(self.trace_dispatch)\n",
            "\n"
          ]
        },
        {
          "output_type": "stream",
          "name": "stdout",
          "text": [
            "> \u001b[0;32m<ipython-input-13-85aec4192b2f>\u001b[0m(7)\u001b[0;36mcalculate_sum\u001b[0;34m()\u001b[0m\n",
            "\u001b[0;32m      5 \u001b[0;31m    \u001b[0;32mfor\u001b[0m \u001b[0mi\u001b[0m \u001b[0;32min\u001b[0m \u001b[0mrange\u001b[0m\u001b[0;34m(\u001b[0m\u001b[0mn\u001b[0m\u001b[0;34m)\u001b[0m\u001b[0;34m:\u001b[0m\u001b[0;34m\u001b[0m\u001b[0;34m\u001b[0m\u001b[0m\n",
            "\u001b[0m\u001b[0;32m      6 \u001b[0;31m        \u001b[0mpdb\u001b[0m\u001b[0;34m.\u001b[0m\u001b[0mset_trace\u001b[0m\u001b[0;34m(\u001b[0m\u001b[0;34m)\u001b[0m\u001b[0;34m\u001b[0m\u001b[0;34m\u001b[0m\u001b[0m\n",
            "\u001b[0m\u001b[0;32m----> 7 \u001b[0;31m        \u001b[0mtotal\u001b[0m \u001b[0;34m+=\u001b[0m \u001b[0mi\u001b[0m\u001b[0;34m\u001b[0m\u001b[0;34m\u001b[0m\u001b[0m\n",
            "\u001b[0m\u001b[0;32m      8 \u001b[0;31m    \u001b[0;32mreturn\u001b[0m \u001b[0mtotal\u001b[0m\u001b[0;34m\u001b[0m\u001b[0;34m\u001b[0m\u001b[0m\n",
            "\u001b[0m\u001b[0;32m      9 \u001b[0;31m\u001b[0;34m\u001b[0m\u001b[0m\n",
            "\u001b[0m\n",
            "ipdb> \n",
            "ipdb> \n",
            "ipdb> 1\n",
            "1\n",
            "ipdb> 3\n",
            "3\n",
            "ipdb> \n",
            "3\n",
            "ipdb> \n",
            "3\n",
            "ipdb> \n",
            "3\n"
          ]
        },
        {
          "output_type": "stream",
          "name": "stderr",
          "text": [
            "\n",
            "PYDEV DEBUGGER WARNING:\n",
            "sys.settrace() should not be used when the debugger is being used.\n",
            "This may cause the debugger to stop working correctly.\n",
            "If this is needed, please check: \n",
            "http://pydev.blogspot.com/2007/06/why-cant-pydev-debugger-work-with.html\n",
            "to see how to restore the debug tracing back correctly.\n",
            "Call Location:\n",
            "  File \"/usr/lib/python3.9/bdb.py\", line 359, in set_quit\n",
            "    sys.settrace(None)\n",
            "\n",
            "\n",
            "PYDEV DEBUGGER WARNING:\n",
            "sys.settrace() should not be used when the debugger is being used.\n",
            "This may cause the debugger to stop working correctly.\n",
            "If this is needed, please check: \n",
            "http://pydev.blogspot.com/2007/06/why-cant-pydev-debugger-work-with.html\n",
            "to see how to restore the debug tracing back correctly.\n",
            "Call Location:\n",
            "  File \"/usr/local/lib/python3.9/dist-packages/IPython/core/debugger.py\", line 1075, in cmdloop\n",
            "    sys.settrace(None)\n",
            "\n"
          ]
        },
        {
          "output_type": "stream",
          "name": "stdout",
          "text": [
            "--KeyboardInterrupt--\n",
            "\n",
            "KeyboardInterrupt: Interrupted by user\n",
            "> \u001b[0;32m<ipython-input-13-85aec4192b2f>\u001b[0m(6)\u001b[0;36mcalculate_sum\u001b[0;34m()\u001b[0m\n",
            "\u001b[0;32m      4 \u001b[0;31m    \u001b[0mtotal\u001b[0m \u001b[0;34m=\u001b[0m \u001b[0;36m0\u001b[0m\u001b[0;34m\u001b[0m\u001b[0;34m\u001b[0m\u001b[0m\n",
            "\u001b[0m\u001b[0;32m      5 \u001b[0;31m    \u001b[0;32mfor\u001b[0m \u001b[0mi\u001b[0m \u001b[0;32min\u001b[0m \u001b[0mrange\u001b[0m\u001b[0;34m(\u001b[0m\u001b[0mn\u001b[0m\u001b[0;34m)\u001b[0m\u001b[0;34m:\u001b[0m\u001b[0;34m\u001b[0m\u001b[0;34m\u001b[0m\u001b[0m\n",
            "\u001b[0m\u001b[0;32m----> 6 \u001b[0;31m        \u001b[0mpdb\u001b[0m\u001b[0;34m.\u001b[0m\u001b[0mset_trace\u001b[0m\u001b[0;34m(\u001b[0m\u001b[0;34m)\u001b[0m\u001b[0;34m\u001b[0m\u001b[0;34m\u001b[0m\u001b[0m\n",
            "\u001b[0m\u001b[0;32m      7 \u001b[0;31m        \u001b[0mtotal\u001b[0m \u001b[0;34m+=\u001b[0m \u001b[0mi\u001b[0m\u001b[0;34m\u001b[0m\u001b[0;34m\u001b[0m\u001b[0m\n",
            "\u001b[0m\u001b[0;32m      8 \u001b[0;31m    \u001b[0;32mreturn\u001b[0m \u001b[0mtotal\u001b[0m\u001b[0;34m\u001b[0m\u001b[0;34m\u001b[0m\u001b[0m\n",
            "\u001b[0m\n",
            "--KeyboardInterrupt--\n",
            "\n",
            "KeyboardInterrupt: Interrupted by user\n",
            "> \u001b[0;32m<ipython-input-13-85aec4192b2f>\u001b[0m(7)\u001b[0;36mcalculate_sum\u001b[0;34m()\u001b[0m\n",
            "\u001b[0;32m      5 \u001b[0;31m    \u001b[0;32mfor\u001b[0m \u001b[0mi\u001b[0m \u001b[0;32min\u001b[0m \u001b[0mrange\u001b[0m\u001b[0;34m(\u001b[0m\u001b[0mn\u001b[0m\u001b[0;34m)\u001b[0m\u001b[0;34m:\u001b[0m\u001b[0;34m\u001b[0m\u001b[0;34m\u001b[0m\u001b[0m\n",
            "\u001b[0m\u001b[0;32m      6 \u001b[0;31m        \u001b[0mpdb\u001b[0m\u001b[0;34m.\u001b[0m\u001b[0mset_trace\u001b[0m\u001b[0;34m(\u001b[0m\u001b[0;34m)\u001b[0m\u001b[0;34m\u001b[0m\u001b[0;34m\u001b[0m\u001b[0m\n",
            "\u001b[0m\u001b[0;32m----> 7 \u001b[0;31m        \u001b[0mtotal\u001b[0m \u001b[0;34m+=\u001b[0m \u001b[0mi\u001b[0m\u001b[0;34m\u001b[0m\u001b[0;34m\u001b[0m\u001b[0m\n",
            "\u001b[0m\u001b[0;32m      8 \u001b[0;31m    \u001b[0;32mreturn\u001b[0m \u001b[0mtotal\u001b[0m\u001b[0;34m\u001b[0m\u001b[0;34m\u001b[0m\u001b[0m\n",
            "\u001b[0m\u001b[0;32m      9 \u001b[0;31m\u001b[0;34m\u001b[0m\u001b[0m\n",
            "\u001b[0m\n",
            "--KeyboardInterrupt--\n",
            "\n",
            "KeyboardInterrupt: Interrupted by user\n",
            "> \u001b[0;32m<ipython-input-13-85aec4192b2f>\u001b[0m(6)\u001b[0;36mcalculate_sum\u001b[0;34m()\u001b[0m\n",
            "\u001b[0;32m      4 \u001b[0;31m    \u001b[0mtotal\u001b[0m \u001b[0;34m=\u001b[0m \u001b[0;36m0\u001b[0m\u001b[0;34m\u001b[0m\u001b[0;34m\u001b[0m\u001b[0m\n",
            "\u001b[0m\u001b[0;32m      5 \u001b[0;31m    \u001b[0;32mfor\u001b[0m \u001b[0mi\u001b[0m \u001b[0;32min\u001b[0m \u001b[0mrange\u001b[0m\u001b[0;34m(\u001b[0m\u001b[0mn\u001b[0m\u001b[0;34m)\u001b[0m\u001b[0;34m:\u001b[0m\u001b[0;34m\u001b[0m\u001b[0;34m\u001b[0m\u001b[0m\n",
            "\u001b[0m\u001b[0;32m----> 6 \u001b[0;31m        \u001b[0mpdb\u001b[0m\u001b[0;34m.\u001b[0m\u001b[0mset_trace\u001b[0m\u001b[0;34m(\u001b[0m\u001b[0;34m)\u001b[0m\u001b[0;34m\u001b[0m\u001b[0;34m\u001b[0m\u001b[0m\n",
            "\u001b[0m\u001b[0;32m      7 \u001b[0;31m        \u001b[0mtotal\u001b[0m \u001b[0;34m+=\u001b[0m \u001b[0mi\u001b[0m\u001b[0;34m\u001b[0m\u001b[0;34m\u001b[0m\u001b[0m\n",
            "\u001b[0m\u001b[0;32m      8 \u001b[0;31m    \u001b[0;32mreturn\u001b[0m \u001b[0mtotal\u001b[0m\u001b[0;34m\u001b[0m\u001b[0;34m\u001b[0m\u001b[0m\n",
            "\u001b[0m\n",
            "--KeyboardInterrupt--\n",
            "\n",
            "KeyboardInterrupt: Interrupted by user\n",
            "> \u001b[0;32m<ipython-input-13-85aec4192b2f>\u001b[0m(7)\u001b[0;36mcalculate_sum\u001b[0;34m()\u001b[0m\n",
            "\u001b[0;32m      5 \u001b[0;31m    \u001b[0;32mfor\u001b[0m \u001b[0mi\u001b[0m \u001b[0;32min\u001b[0m \u001b[0mrange\u001b[0m\u001b[0;34m(\u001b[0m\u001b[0mn\u001b[0m\u001b[0;34m)\u001b[0m\u001b[0;34m:\u001b[0m\u001b[0;34m\u001b[0m\u001b[0;34m\u001b[0m\u001b[0m\n",
            "\u001b[0m\u001b[0;32m      6 \u001b[0;31m        \u001b[0mpdb\u001b[0m\u001b[0;34m.\u001b[0m\u001b[0mset_trace\u001b[0m\u001b[0;34m(\u001b[0m\u001b[0;34m)\u001b[0m\u001b[0;34m\u001b[0m\u001b[0;34m\u001b[0m\u001b[0m\n",
            "\u001b[0m\u001b[0;32m----> 7 \u001b[0;31m        \u001b[0mtotal\u001b[0m \u001b[0;34m+=\u001b[0m \u001b[0mi\u001b[0m\u001b[0;34m\u001b[0m\u001b[0;34m\u001b[0m\u001b[0m\n",
            "\u001b[0m\u001b[0;32m      8 \u001b[0;31m    \u001b[0;32mreturn\u001b[0m \u001b[0mtotal\u001b[0m\u001b[0;34m\u001b[0m\u001b[0;34m\u001b[0m\u001b[0m\n",
            "\u001b[0m\u001b[0;32m      9 \u001b[0;31m\u001b[0;34m\u001b[0m\u001b[0m\n",
            "\u001b[0m\n",
            "--KeyboardInterrupt--\n",
            "\n",
            "KeyboardInterrupt: Interrupted by user\n"
          ]
        },
        {
          "output_type": "execute_result",
          "data": {
            "text/plain": [
              "10"
            ]
          },
          "metadata": {},
          "execution_count": 13
        }
      ]
    },
    {
      "cell_type": "markdown",
      "source": [
        "# 10. Use Cython to speed up your code"
      ],
      "metadata": {
        "id": "n9-utl1_Xgyt"
      }
    },
    {
      "cell_type": "code",
      "source": [
        "# Python Code\n",
        "def calculate_sum(n):\n",
        "    total = 0\n",
        "    for i in range(n):\n",
        "        total += i\n",
        "    return total\n",
        "\n",
        "# # Cython Code\n",
        "# %%cython\n",
        "# def calculate_sum_cython(int n):\n",
        "#     cdef int total = 0\n",
        "#     for i in range(n):\n",
        "#         total += i\n",
        "#     return total"
      ],
      "metadata": {
        "id": "z5wrHwwCXVAe"
      },
      "execution_count": 2,
      "outputs": []
    }
  ]
}
