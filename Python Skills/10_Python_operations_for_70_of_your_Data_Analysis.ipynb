{
  "nbformat": 4,
  "nbformat_minor": 0,
  "metadata": {
    "colab": {
      "name": "10 Python operations for 70% of your Data Analysis.ipynb",
      "provenance": [],
      "authorship_tag": "ABX9TyNw+yin+J1Mu4BX+hYgfSDV"
    },
    "kernelspec": {
      "name": "python3",
      "display_name": "Python 3"
    },
    "language_info": {
      "name": "python"
    }
  },
  "cells": [
    {
      "cell_type": "markdown",
      "source": [
        "[Reference](https://medium.com/codex/top-10-python-operations-that-every-aspiring-data-scientist-should-know-92b6f9a98ff9)"
      ],
      "metadata": {
        "id": "ieMkv9zsbtue"
      }
    },
    {
      "cell_type": "code",
      "execution_count": 1,
      "metadata": {
        "id": "b6h3z5-rXafe"
      },
      "outputs": [],
      "source": [
        "import pandas as pd \n",
        "# reading the countries_data file along with the location within read_csv function.\n",
        "countries_df = pd.read_csv('C:/Users/anmol/Desktop/Courses/Python for Data Science/Code/countries_data.csv') \n",
        "# showing the first 5 rows of the dataframe \n",
        "countries_df.head()"
      ]
    },
    {
      "cell_type": "code",
      "source": [
        "#get summary of continuous variables \n",
        "countries_df.describe()"
      ],
      "metadata": {
        "id": "wZ7tbyTObxoE"
      },
      "execution_count": 2,
      "outputs": []
    },
    {
      "cell_type": "code",
      "source": [
        "#get summary of continuous and categorical variables \n",
        "countries_df.describe(include = 'all')"
      ],
      "metadata": {
        "id": "JrXyU-Abbyqm"
      },
      "execution_count": 3,
      "outputs": []
    },
    {
      "cell_type": "code",
      "source": [
        "# selecting Country and NewConfirmed columns \n",
        "countries_df[['Country','NewConfirmed']]"
      ],
      "metadata": {
        "id": "fTXEIDR-bz9F"
      },
      "execution_count": 4,
      "outputs": []
    },
    {
      "cell_type": "code",
      "source": [
        "# filtering USA using country column \n",
        "countries_df.loc[countries_df['Country'] == 'United States of America']"
      ],
      "metadata": {
        "id": "OwvITqWab1Zc"
      },
      "execution_count": 5,
      "outputs": []
    },
    {
      "cell_type": "code",
      "source": [
        "# total NewConfirmed cases across countries \n",
        "countries_df.groupby(['Country']).agg({'NewConfirmed':'sum'})"
      ],
      "metadata": {
        "id": "WSpMk-Y1b20G"
      },
      "execution_count": 6,
      "outputs": []
    },
    {
      "cell_type": "code",
      "source": [
        "#reading countires lat and lon data \n",
        "countries_lat_lon = pd.read_excel('C:/Users/anmol/Desktop/Courses/Python for Data Science/Code/countries_lat_lon.xlsx')\n",
        "\n",
        "# joining the 2 dataframe : countries_df and countries_lat_lon\n",
        "# syntax : pd.merge(left_df, right_df, on = 'on_column', how = 'type_of_join')\n",
        "joined_df = pd.merge(countries_df, countries_lat_lon, on = 'CountryCode', how = 'inner')\n",
        "joined_df"
      ],
      "metadata": {
        "id": "bpA5Ex9Rb4Qe"
      },
      "execution_count": 7,
      "outputs": []
    },
    {
      "cell_type": "code",
      "source": [
        "# finding sum of NewConfirmed cases of all the countries \n",
        "countries_df['NewConfirmed'].sum()\n",
        "# Output : 6,631,899\n",
        "\n",
        "# finding the sum of NewConfirmed cases across different countries \n",
        "countries_df.groupby(['Country']).agg({'NewConfirmed':'sum'})"
      ],
      "metadata": {
        "id": "xZAPWv92b5l-"
      },
      "execution_count": 8,
      "outputs": []
    },
    {
      "cell_type": "code",
      "source": [
        "# User defined function is created using 'def' keyword, followed by function definition - 'addition()'\n",
        "# and 2 arguments num1 and num2\n",
        "def addition(num1, num2):\n",
        "    return num1+num2\n",
        "\n",
        "# calling the function using function name and providing the arguments \n",
        "print(addition(1,2))"
      ],
      "metadata": {
        "id": "7Qfz7Gt3b7FT"
      },
      "execution_count": 9,
      "outputs": []
    },
    {
      "cell_type": "code",
      "source": [
        "# using pivot_table to convert values within the Country column into individual columns and \n",
        "# filling the values corresponding to these columns with numeric variable - NewConfimed \n",
        "pivot_df = pd.pivot_table(countries_df,  columns = 'Country', values = 'NewConfirmed')\n",
        "pivot_df"
      ],
      "metadata": {
        "id": "KeYB5FQ3b8M8"
      },
      "execution_count": 10,
      "outputs": []
    },
    {
      "cell_type": "code",
      "source": [
        "# iterating over the index and row of a dataframe using iterrows() function \n",
        "for index, row in countries_df.iterrows():\n",
        "    print('Index is ' + str(index))\n",
        "    print('Country is '+ str(row['Country']))"
      ],
      "metadata": {
        "id": "I22wrQM7b93s"
      },
      "execution_count": 11,
      "outputs": []
    },
    {
      "cell_type": "code",
      "source": [
        "# country column to upper case\n",
        "countries_df['Country_upper'] = countries_df['Country'].str.upper()\n",
        "\n",
        "# country column to lower case\n",
        "countries_df['CountryCode_lower']=countries_df['CountryCode'].str.lower()\n",
        "\n",
        "# finding length of characters in the country column \n",
        "countries_df['len'] = countries_df['Country'].str.len()\n",
        "\n",
        "countries_df.head()"
      ],
      "metadata": {
        "id": "UkXITgkIb_wY"
      },
      "execution_count": 12,
      "outputs": []
    }
  ]
}