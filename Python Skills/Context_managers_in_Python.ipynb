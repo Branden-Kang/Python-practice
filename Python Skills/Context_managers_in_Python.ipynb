{
  "nbformat": 4,
  "nbformat_minor": 0,
  "metadata": {
    "colab": {
      "name": "Context managers in Python.ipynb",
      "provenance": [],
      "authorship_tag": "ABX9TyMtcFViZz0qaaE6ImtJJUoR"
    },
    "kernelspec": {
      "name": "python3",
      "display_name": "Python 3"
    }
  },
  "cells": [
    {
      "cell_type": "markdown",
      "metadata": {
        "id": "9Cc5zJQ4CqZb"
      },
      "source": [
        "[Reference](https://towardsdatascience.com/manage-files-and-database-connections-in-python-like-a-pro-73e8fc0b7967)"
      ]
    },
    {
      "cell_type": "code",
      "metadata": {
        "id": "j2Gbp47PCmsY"
      },
      "source": [
        "with open('data.txt', 'w') as myfile:\n",
        "    myfile.write('Hello from context manager!')"
      ],
      "execution_count": 1,
      "outputs": []
    },
    {
      "cell_type": "code",
      "metadata": {
        "id": "2wQWZdT8CqOg"
      },
      "source": [
        "with open('data.txt', 'r') as myfile:\n",
        "    data = myfile.read()\n",
        "\n",
        "print(data)\n",
        "# 'Hello from context manager!'"
      ],
      "execution_count": 2,
      "outputs": []
    },
    {
      "cell_type": "code",
      "metadata": {
        "id": "SKfvqcskC2Y0"
      },
      "source": [
        "myfile = open('data.txt', 'w')\n",
        "myfile.write('Hello from context manager!')\n",
        "myfile.close()"
      ],
      "execution_count": 3,
      "outputs": []
    },
    {
      "cell_type": "code",
      "metadata": {
        "id": "riO8FhfBC5XJ"
      },
      "source": [
        "myfile = open('data.txt', 'w')\n",
        "try:\n",
        "    myfile.write('Hello from context manager!')\n",
        "finally:\n",
        "    myfile.close()"
      ],
      "execution_count": 4,
      "outputs": []
    },
    {
      "cell_type": "code",
      "metadata": {
        "id": "cy6TZkDuC71A"
      },
      "source": [
        "import os\n",
        "import contextlib\n",
        "import mysql.connector\n",
        "\n",
        "\n",
        "@contextlib.contextmanager\n",
        "def get_mysql_conn(db):\n",
        "    \"\"\"\n",
        "    Context manager to automatically close DB connection. \n",
        "    We retrieve credentials from Environment variables\n",
        "    \"\"\"\n",
        "    conn = mysql.connector.connect(host=os.environ.get('MYSQL_HOST'),\n",
        "                                   user=os.environ.get('MYSQL_USER'),\n",
        "                                   password=os.environ.get('MYSQL_PWD'),\n",
        "                                   database=db)\n",
        "    try:\n",
        "        yield conn\n",
        "    finally:\n",
        "        conn.close()"
      ],
      "execution_count": 5,
      "outputs": []
    },
    {
      "cell_type": "code",
      "metadata": {
        "id": "qcPKX-6PDaWN"
      },
      "source": [
        "import pandas as pd\n",
        "from mysql_conn import get_mysql_conn\n",
        "\n",
        "with get_mysql_conn(db='mytestdb') as conn:\n",
        "    df = pd.read_sql('SELECT * FROM mytable', conn)"
      ],
      "execution_count": 6,
      "outputs": []
    },
    {
      "cell_type": "code",
      "metadata": {
        "id": "2Q3W4Uk-DbPI"
      },
      "source": [
        "import os\n",
        "import contextlib\n",
        "import boto3\n",
        "\n",
        "s3 = boto3.client('s3', aws_access_key_id='my_aws_access_key',\n",
        "                  aws_secret_access_key='my_aws_secret_key',\n",
        "                  region_name='eu-central-1')\n",
        "\n",
        "\n",
        "@contextlib.contextmanager\n",
        "def this_directory(path):\n",
        "    \"\"\"\n",
        "    Change the working dir to the path specified. Then, change back to the original one.\n",
        "    \"\"\"\n",
        "    original_workdir = os.getcwd()\n",
        "    os.chdir(path)\n",
        "    try:\n",
        "        yield\n",
        "    finally:\n",
        "        os.chdir(original_workdir)\n",
        "\n",
        "\n",
        "# Usage:\n",
        "with this_directory(path='../data'):\n",
        "    file = 'my_s3_file.csv'\n",
        "    s3.download_file(bucket='s3_bucket', key=file, filename=file)"
      ],
      "execution_count": 7,
      "outputs": []
    }
  ]
}