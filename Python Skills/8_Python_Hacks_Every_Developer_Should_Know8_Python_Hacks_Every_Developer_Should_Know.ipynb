{
  "nbformat": 4,
  "nbformat_minor": 0,
  "metadata": {
    "colab": {
      "provenance": [],
      "authorship_tag": "ABX9TyPNinB9Dt15PcTuVwsj0LCW"
    },
    "kernelspec": {
      "name": "python3",
      "display_name": "Python 3"
    },
    "language_info": {
      "name": "python"
    }
  },
  "cells": [
    {
      "cell_type": "markdown",
      "source": [
        "[Reference](https://medium.com/@jaydipkumarjha/8-python-hacks-every-developer-should-know-8b895508490c)"
      ],
      "metadata": {
        "id": "ZNeNYakxtDNj"
      }
    },
    {
      "cell_type": "markdown",
      "source": [
        "# 1. List Comprehensions -Cleaner Loops"
      ],
      "metadata": {
        "id": "T2oCOvP8tKOT"
      }
    },
    {
      "cell_type": "code",
      "execution_count": 1,
      "metadata": {
        "id": "yW0gEnWds0hF"
      },
      "outputs": [],
      "source": [
        "squares = [x**2 for x in range(10)]"
      ]
    },
    {
      "cell_type": "markdown",
      "source": [
        "# 2. Swap Variables-No Temp Needed"
      ],
      "metadata": {
        "id": "V3Ygcw5UtMac"
      }
    },
    {
      "cell_type": "code",
      "source": [
        "a, b = 5, 10\n",
        "a, b = b, a"
      ],
      "metadata": {
        "id": "s2brg8l4tLYl"
      },
      "execution_count": 2,
      "outputs": []
    },
    {
      "cell_type": "markdown",
      "source": [
        "# 3. Merge Dicts with **"
      ],
      "metadata": {
        "id": "deVtO3SCtSqZ"
      }
    },
    {
      "cell_type": "code",
      "source": [
        "a = {'x': 1}\n",
        "b = {'y': 2}\n",
        "c = {**a, **b}"
      ],
      "metadata": {
        "id": "ftUAbZ8RtRjv"
      },
      "execution_count": 3,
      "outputs": []
    },
    {
      "cell_type": "markdown",
      "source": [
        "# 4. Use _ in Interpreter for Last Output"
      ],
      "metadata": {
        "id": "IHWGVtH2tWRf"
      }
    },
    {
      "cell_type": "code",
      "source": [
        "5 + 5"
      ],
      "metadata": {
        "colab": {
          "base_uri": "https://localhost:8080/"
        },
        "id": "NuEoEBHptT7f",
        "outputId": "70270ea5-3c81-4c2b-83bf-913dff35250c"
      },
      "execution_count": 4,
      "outputs": [
        {
          "output_type": "execute_result",
          "data": {
            "text/plain": [
              "10"
            ]
          },
          "metadata": {},
          "execution_count": 4
        }
      ]
    },
    {
      "cell_type": "code",
      "source": [
        "_ * 2"
      ],
      "metadata": {
        "colab": {
          "base_uri": "https://localhost:8080/"
        },
        "id": "Y-RPsHgutYLL",
        "outputId": "4b2b2f97-3ae0-49d9-fdb2-6879b2b7c721"
      },
      "execution_count": 5,
      "outputs": [
        {
          "output_type": "execute_result",
          "data": {
            "text/plain": [
              "20"
            ]
          },
          "metadata": {},
          "execution_count": 5
        }
      ]
    },
    {
      "cell_type": "markdown",
      "source": [
        "# 5. One-Liner If-Else (Ternary)"
      ],
      "metadata": {
        "id": "Q9uzlAKntbrl"
      }
    },
    {
      "cell_type": "code",
      "source": [
        "status = \"Adult\" if age >= 18 else \"Minor\""
      ],
      "metadata": {
        "id": "Eq7l99FVtZoe"
      },
      "execution_count": 6,
      "outputs": []
    },
    {
      "cell_type": "markdown",
      "source": [
        "# 6. Unpack Lists or Tuples"
      ],
      "metadata": {
        "id": "zRsRQvnBthBt"
      }
    },
    {
      "cell_type": "code",
      "source": [
        "a, b, *rest = [1, 2, 3, 4, 5]"
      ],
      "metadata": {
        "id": "zzE6fX6-tet_"
      },
      "execution_count": 7,
      "outputs": []
    },
    {
      "cell_type": "markdown",
      "source": [
        "# 7. Use enumerate() Instead of Manual Indexing"
      ],
      "metadata": {
        "id": "EbaKQ4LgtjrG"
      }
    },
    {
      "cell_type": "code",
      "source": [
        "for i, val in enumerate(['a', 'b', 'c']):\n",
        "    print(i, val)"
      ],
      "metadata": {
        "colab": {
          "base_uri": "https://localhost:8080/"
        },
        "id": "1MA7FDh-tiup",
        "outputId": "d3e19b93-7cd0-42e1-c1cd-a1a78b739218"
      },
      "execution_count": 8,
      "outputs": [
        {
          "output_type": "stream",
          "name": "stdout",
          "text": [
            "0 a\n",
            "1 b\n",
            "2 c\n"
          ]
        }
      ]
    },
    {
      "cell_type": "markdown",
      "source": [
        "# 8. Use zip() for Parallel Iteration"
      ],
      "metadata": {
        "id": "AnCk7u0htnuF"
      }
    },
    {
      "cell_type": "code",
      "source": [
        "names = ['Alice', 'Bob']\n",
        "scores = [85, 90]\n",
        "\n",
        "for name, score in zip(names, scores):\n",
        "    print(f\"{name}: {score}\")"
      ],
      "metadata": {
        "colab": {
          "base_uri": "https://localhost:8080/"
        },
        "id": "0aZDWil3tlZt",
        "outputId": "9cdfdd01-30ff-46b5-b2b5-a47593c54dce"
      },
      "execution_count": 9,
      "outputs": [
        {
          "output_type": "stream",
          "name": "stdout",
          "text": [
            "Alice: 85\n",
            "Bob: 90\n"
          ]
        }
      ]
    }
  ]
}
