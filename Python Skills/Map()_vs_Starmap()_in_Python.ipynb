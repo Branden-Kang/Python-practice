{
  "nbformat": 4,
  "nbformat_minor": 0,
  "metadata": {
    "colab": {
      "name": "Map() vs. Starmap() in Python.ipynb",
      "provenance": [],
      "authorship_tag": "ABX9TyNGcjrU390FZZyGr+4TDgZV"
    },
    "kernelspec": {
      "name": "python3",
      "display_name": "Python 3"
    }
  },
  "cells": [
    {
      "cell_type": "markdown",
      "metadata": {
        "id": "53lQDjxy3FhZ",
        "colab_type": "text"
      },
      "source": [
        "[Reference](https://medium.com/better-programming/exploring-map-vs-starmap-in-python-6bcf32f5fa4a)"
      ]
    },
    {
      "cell_type": "markdown",
      "metadata": {
        "id": "Ci6-pib95URe",
        "colab_type": "text"
      },
      "source": [
        "# map"
      ]
    },
    {
      "cell_type": "code",
      "metadata": {
        "id": "d4KHfZ3G3EAL",
        "colab_type": "code",
        "colab": {
          "base_uri": "https://localhost:8080/",
          "height": 68
        },
        "outputId": "16e3a2e3-c323-4063-d830-c1b74060ffc5"
      },
      "source": [
        "def square(x):\n",
        "    return x*x\n",
        "\n",
        "num=[1,2,3,4]\n",
        "s=map(square,num)\n",
        "\n",
        "#Returns a map object\n",
        "print(s)\n",
        "print(type(s))\n",
        "print(list(s))"
      ],
      "execution_count": 1,
      "outputs": [
        {
          "output_type": "stream",
          "text": [
            "<map object at 0x7fe7a1f98eb8>\n",
            "<class 'map'>\n",
            "[1, 4, 9, 16]\n"
          ],
          "name": "stdout"
        }
      ]
    },
    {
      "cell_type": "code",
      "metadata": {
        "id": "a0XERpPx31gk",
        "colab_type": "code",
        "colab": {
          "base_uri": "https://localhost:8080/",
          "height": 68
        },
        "outputId": "fa2a8092-4f45-4845-e78c-48046bda60c7"
      },
      "source": [
        "num=[1,2,3,4]\n",
        "s=map(lambda x:x*x,num)\n",
        "\n",
        "#Returns a map object\n",
        "print(s)\n",
        "print(type(s))\n",
        "print(list(s))"
      ],
      "execution_count": 2,
      "outputs": [
        {
          "output_type": "stream",
          "text": [
            "<map object at 0x7fe7a1f98fd0>\n",
            "<class 'map'>\n",
            "[1, 4, 9, 16]\n"
          ],
          "name": "stdout"
        }
      ]
    },
    {
      "cell_type": "code",
      "metadata": {
        "id": "BYJEfwPw4Hjh",
        "colab_type": "code",
        "colab": {
          "base_uri": "https://localhost:8080/",
          "height": 68
        },
        "outputId": "b416ef75-d8dd-419c-f5e1-a69fdbd2b16c"
      },
      "source": [
        "def multiply(x,y):\n",
        "    return x*y\n",
        "\n",
        "num1=[1,2,3,4]\n",
        "num2=[2,4,6,8]\n",
        "s=map(multiply,num1,num2)\n",
        "#Returns a map object\n",
        "print(s)\n",
        "print(type(s))\n",
        "print(list(s))"
      ],
      "execution_count": 3,
      "outputs": [
        {
          "output_type": "stream",
          "text": [
            "<map object at 0x7fe7a1fc1320>\n",
            "<class 'map'>\n",
            "[2, 8, 18, 32]\n"
          ],
          "name": "stdout"
        }
      ]
    },
    {
      "cell_type": "code",
      "metadata": {
        "id": "UlkxlBDn4Mt9",
        "colab_type": "code",
        "colab": {
          "base_uri": "https://localhost:8080/",
          "height": 232
        },
        "outputId": "87efe7a3-c62b-4f2d-c115-a8e57d2b80ba"
      },
      "source": [
        "def multiply(x):\n",
        "    return x\n",
        "num1=[1,2,3,4]\n",
        "num2=[2,4,6,8]\n",
        "s=map(multiply,num1,num2)\n",
        "print(list(s))"
      ],
      "execution_count": 4,
      "outputs": [
        {
          "output_type": "error",
          "ename": "TypeError",
          "evalue": "ignored",
          "traceback": [
            "\u001b[0;31m---------------------------------------------------------------------------\u001b[0m",
            "\u001b[0;31mTypeError\u001b[0m                                 Traceback (most recent call last)",
            "\u001b[0;32m<ipython-input-4-7645c587f1e1>\u001b[0m in \u001b[0;36m<module>\u001b[0;34m()\u001b[0m\n\u001b[1;32m      4\u001b[0m \u001b[0mnum2\u001b[0m\u001b[0;34m=\u001b[0m\u001b[0;34m[\u001b[0m\u001b[0;36m2\u001b[0m\u001b[0;34m,\u001b[0m\u001b[0;36m4\u001b[0m\u001b[0;34m,\u001b[0m\u001b[0;36m6\u001b[0m\u001b[0;34m,\u001b[0m\u001b[0;36m8\u001b[0m\u001b[0;34m]\u001b[0m\u001b[0;34m\u001b[0m\u001b[0;34m\u001b[0m\u001b[0m\n\u001b[1;32m      5\u001b[0m \u001b[0ms\u001b[0m\u001b[0;34m=\u001b[0m\u001b[0mmap\u001b[0m\u001b[0;34m(\u001b[0m\u001b[0mmultiply\u001b[0m\u001b[0;34m,\u001b[0m\u001b[0mnum1\u001b[0m\u001b[0;34m,\u001b[0m\u001b[0mnum2\u001b[0m\u001b[0;34m)\u001b[0m\u001b[0;34m\u001b[0m\u001b[0;34m\u001b[0m\u001b[0m\n\u001b[0;32m----> 6\u001b[0;31m \u001b[0mprint\u001b[0m \u001b[0;34m(\u001b[0m\u001b[0mlist\u001b[0m\u001b[0;34m(\u001b[0m\u001b[0ms\u001b[0m\u001b[0;34m)\u001b[0m\u001b[0;34m)\u001b[0m\u001b[0;34m\u001b[0m\u001b[0;34m\u001b[0m\u001b[0m\n\u001b[0m",
            "\u001b[0;31mTypeError\u001b[0m: multiply() takes 1 positional argument but 2 were given"
          ]
        }
      ]
    },
    {
      "cell_type": "code",
      "metadata": {
        "id": "kPd6y95d4QsB",
        "colab_type": "code",
        "colab": {
          "base_uri": "https://localhost:8080/",
          "height": 34
        },
        "outputId": "eecfbe82-74c3-4856-a4c9-475d5bc03118"
      },
      "source": [
        "def multiply(x,y,z):\n",
        "    return x*y*z\n",
        "num1=[1,2,3,4]\n",
        "num2=[2,4,6,8]\n",
        "num3=[2,3,4,5]\n",
        "s=map(multiply,num1,num2,num3)\n",
        "print (list(s))"
      ],
      "execution_count": 5,
      "outputs": [
        {
          "output_type": "stream",
          "text": [
            "[4, 24, 72, 160]\n"
          ],
          "name": "stdout"
        }
      ]
    },
    {
      "cell_type": "code",
      "metadata": {
        "id": "LWvGYJeI4WD8",
        "colab_type": "code",
        "colab": {
          "base_uri": "https://localhost:8080/",
          "height": 34
        },
        "outputId": "a9d3fde6-2c70-4cb4-c910-32447e939e40"
      },
      "source": [
        "def multiply(x,y,z):\n",
        "    return x*y*z\n",
        "num1=[1,2,3,4,5,6,7,8,9,10]\n",
        "num2=[2,4]\n",
        "num3=[2,3,4,5,6]\n",
        "s=map(multiply,num1,num2,num3)\n",
        "print(list(s))"
      ],
      "execution_count": 6,
      "outputs": [
        {
          "output_type": "stream",
          "text": [
            "[4, 24]\n"
          ],
          "name": "stdout"
        }
      ]
    },
    {
      "cell_type": "code",
      "metadata": {
        "id": "Mt-zdIpd4tHj",
        "colab_type": "code",
        "colab": {
          "base_uri": "https://localhost:8080/",
          "height": 102
        },
        "outputId": "ba2b09c0-c42f-4d87-899d-1b024856f5e2"
      },
      "source": [
        "def square(x):\n",
        "    return x*x\n",
        "num1=[1,2,3,4,5]\n",
        "s=map(square,num1)\n",
        "for i in s:\n",
        "    print (i)"
      ],
      "execution_count": 7,
      "outputs": [
        {
          "output_type": "stream",
          "text": [
            "1\n",
            "4\n",
            "9\n",
            "16\n",
            "25\n"
          ],
          "name": "stdout"
        }
      ]
    },
    {
      "cell_type": "code",
      "metadata": {
        "id": "ldMbHTsg4xY1",
        "colab_type": "code",
        "colab": {
          "base_uri": "https://localhost:8080/",
          "height": 102
        },
        "outputId": "12c43143-37cd-4362-a202-d88f4c5dbaec"
      },
      "source": [
        "def square(x):\n",
        "    return x*x\n",
        "num=[1,2,3,4,5]\n",
        "s=map(square,num)\n",
        "print (next(s))\n",
        "print (next(s))\n",
        "print (next(s))\n",
        "print (next(s))\n",
        "print (next(s))"
      ],
      "execution_count": 8,
      "outputs": [
        {
          "output_type": "stream",
          "text": [
            "1\n",
            "4\n",
            "9\n",
            "16\n",
            "25\n"
          ],
          "name": "stdout"
        }
      ]
    },
    {
      "cell_type": "code",
      "metadata": {
        "id": "Y9Co3Odd4zLm",
        "colab_type": "code",
        "colab": {
          "base_uri": "https://localhost:8080/",
          "height": 34
        },
        "outputId": "b6d3b208-565a-416e-a329-73d85ffe203c"
      },
      "source": [
        "colors=['red','yellow','blue']\n",
        "s=list(map(str.upper,colors))\n",
        "print(s)"
      ],
      "execution_count": 9,
      "outputs": [
        {
          "output_type": "stream",
          "text": [
            "['RED', 'YELLOW', 'BLUE']\n"
          ],
          "name": "stdout"
        }
      ]
    },
    {
      "cell_type": "code",
      "metadata": {
        "id": "5Gmr3y2W5F92",
        "colab_type": "code",
        "colab": {
          "base_uri": "https://localhost:8080/",
          "height": 34
        },
        "outputId": "1a080173-d87f-4a98-a11b-5a0b63176b10"
      },
      "source": [
        "def square(x):\n",
        "    return x*x\n",
        "t1=(1,2,3)\n",
        "s=tuple(map(square,t1))\n",
        "print (s)"
      ],
      "execution_count": 10,
      "outputs": [
        {
          "output_type": "stream",
          "text": [
            "(1, 4, 9)\n"
          ],
          "name": "stdout"
        }
      ]
    },
    {
      "cell_type": "markdown",
      "metadata": {
        "id": "g-Y9gxff5RtU",
        "colab_type": "text"
      },
      "source": [
        "# itertools.starmap()"
      ]
    },
    {
      "cell_type": "code",
      "metadata": {
        "id": "ZtRx0iOL5N2v",
        "colab_type": "code",
        "colab": {
          "base_uri": "https://localhost:8080/",
          "height": 51
        },
        "outputId": "49b09a71-5e15-4621-9ddf-3d82ea36ad87"
      },
      "source": [
        "from itertools import starmap\n",
        "\n",
        "num = [(1, 2), (2, 3)]\n",
        "\n",
        "def multiply(x, y):\n",
        "    return x * y\n",
        "\n",
        "m = starmap(multiply, num)\n",
        "print(m)\n",
        "num2 = list(m)\n",
        "print(num2)"
      ],
      "execution_count": 11,
      "outputs": [
        {
          "output_type": "stream",
          "text": [
            "<itertools.starmap object at 0x7fe7a1756f28>\n",
            "[2, 6]\n"
          ],
          "name": "stdout"
        }
      ]
    },
    {
      "cell_type": "code",
      "metadata": {
        "id": "CMF0ayza5t8Q",
        "colab_type": "code",
        "colab": {
          "base_uri": "https://localhost:8080/",
          "height": 51
        },
        "outputId": "8d28ef4e-1a07-4a4e-f8c7-b868567e9760"
      },
      "source": [
        "import itertools\n",
        "num=itertools.starmap(pow,[(0,2),(1,2),(2,2)])\n",
        "print(num)\n",
        "print(list(num))"
      ],
      "execution_count": 12,
      "outputs": [
        {
          "output_type": "stream",
          "text": [
            "<itertools.starmap object at 0x7fe7a1f98828>\n",
            "[0, 1, 4]\n"
          ],
          "name": "stdout"
        }
      ]
    },
    {
      "cell_type": "code",
      "metadata": {
        "id": "EmIrezii51jP",
        "colab_type": "code",
        "colab": {
          "base_uri": "https://localhost:8080/",
          "height": 34
        },
        "outputId": "bd8e387f-e248-440a-9a14-d4b7f21ff495"
      },
      "source": [
        "num=map(pow,[0,1,2],[2,2,2])\n",
        "print(list(num))"
      ],
      "execution_count": 13,
      "outputs": [
        {
          "output_type": "stream",
          "text": [
            "[0, 1, 4]\n"
          ],
          "name": "stdout"
        }
      ]
    },
    {
      "cell_type": "code",
      "metadata": {
        "id": "RDbqXrZR56KF",
        "colab_type": "code",
        "colab": {
          "base_uri": "https://localhost:8080/",
          "height": 232
        },
        "outputId": "57279640-ef00-4b86-fb89-a2abab3195e1"
      },
      "source": [
        "import itertools\n",
        "num=itertools.starmap(lambda x:x**2,[1,2,3])\n",
        "print(list(num))"
      ],
      "execution_count": 14,
      "outputs": [
        {
          "output_type": "error",
          "ename": "TypeError",
          "evalue": "ignored",
          "traceback": [
            "\u001b[0;31m---------------------------------------------------------------------------\u001b[0m",
            "\u001b[0;31mTypeError\u001b[0m                                 Traceback (most recent call last)",
            "\u001b[0;32m<ipython-input-14-a230f35aa74f>\u001b[0m in \u001b[0;36m<module>\u001b[0;34m()\u001b[0m\n\u001b[1;32m      1\u001b[0m \u001b[0;32mimport\u001b[0m \u001b[0mitertools\u001b[0m\u001b[0;34m\u001b[0m\u001b[0;34m\u001b[0m\u001b[0m\n\u001b[1;32m      2\u001b[0m \u001b[0mnum\u001b[0m\u001b[0;34m=\u001b[0m\u001b[0mitertools\u001b[0m\u001b[0;34m.\u001b[0m\u001b[0mstarmap\u001b[0m\u001b[0;34m(\u001b[0m\u001b[0;32mlambda\u001b[0m \u001b[0mx\u001b[0m\u001b[0;34m:\u001b[0m\u001b[0mx\u001b[0m\u001b[0;34m**\u001b[0m\u001b[0;36m2\u001b[0m\u001b[0;34m,\u001b[0m\u001b[0;34m[\u001b[0m\u001b[0;36m1\u001b[0m\u001b[0;34m,\u001b[0m\u001b[0;36m2\u001b[0m\u001b[0;34m,\u001b[0m\u001b[0;36m3\u001b[0m\u001b[0;34m]\u001b[0m\u001b[0;34m)\u001b[0m\u001b[0;34m\u001b[0m\u001b[0;34m\u001b[0m\u001b[0m\n\u001b[0;32m----> 3\u001b[0;31m \u001b[0mprint\u001b[0m\u001b[0;34m(\u001b[0m\u001b[0mlist\u001b[0m\u001b[0;34m(\u001b[0m\u001b[0mnum\u001b[0m\u001b[0;34m)\u001b[0m\u001b[0;34m)\u001b[0m\u001b[0;34m\u001b[0m\u001b[0;34m\u001b[0m\u001b[0m\n\u001b[0m",
            "\u001b[0;31mTypeError\u001b[0m: 'int' object is not iterable"
          ]
        }
      ]
    },
    {
      "cell_type": "code",
      "metadata": {
        "id": "Pb53RxzB5-91",
        "colab_type": "code",
        "colab": {
          "base_uri": "https://localhost:8080/",
          "height": 34
        },
        "outputId": "7c2d1024-7f74-4a05-91c6-936b6b914da8"
      },
      "source": [
        "import itertools\n",
        "num=itertools.starmap(lambda x,y:x+y,[(0,1),(1,2),(2,3)])\n",
        "print(list(num))"
      ],
      "execution_count": 15,
      "outputs": [
        {
          "output_type": "stream",
          "text": [
            "[1, 3, 5]\n"
          ],
          "name": "stdout"
        }
      ]
    },
    {
      "cell_type": "code",
      "metadata": {
        "id": "eKeAmLti6Gbp",
        "colab_type": "code",
        "colab": {
          "base_uri": "https://localhost:8080/",
          "height": 68
        },
        "outputId": "b0c06a0b-5233-416a-d22c-5906d4f6d76c"
      },
      "source": [
        "import itertools\n",
        "num = itertools.starmap(lambda x, y: x + y, [(0, 1), (1, 2), (2, 3)])\n",
        "for i in num:\n",
        "    print(i)"
      ],
      "execution_count": 16,
      "outputs": [
        {
          "output_type": "stream",
          "text": [
            "1\n",
            "3\n",
            "5\n"
          ],
          "name": "stdout"
        }
      ]
    },
    {
      "cell_type": "code",
      "metadata": {
        "id": "OmjWzqW36JZu",
        "colab_type": "code",
        "colab": {
          "base_uri": "https://localhost:8080/",
          "height": 68
        },
        "outputId": "c1516751-99c9-4d2d-91db-bbc20331d734"
      },
      "source": [
        "import itertools\n",
        "num=itertools.starmap(lambda x,y:x+y,[(0,1),(1,2),(2,3)])\n",
        "print(next(num))\n",
        "print(next(num))\n",
        "print(next(num))"
      ],
      "execution_count": 17,
      "outputs": [
        {
          "output_type": "stream",
          "text": [
            "1\n",
            "3\n",
            "5\n"
          ],
          "name": "stdout"
        }
      ]
    }
  ]
}