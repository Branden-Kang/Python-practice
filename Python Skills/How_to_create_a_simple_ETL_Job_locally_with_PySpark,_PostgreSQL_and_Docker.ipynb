{
  "nbformat": 4,
  "nbformat_minor": 0,
  "metadata": {
    "colab": {
      "name": "How to create a simple ETL Job locally with PySpark, PostgreSQL and Docker.ipynb",
      "provenance": [],
      "authorship_tag": "ABX9TyOc2/x56u01c+vES8E5U5u9"
    },
    "kernelspec": {
      "name": "python3",
      "display_name": "Python 3"
    },
    "language_info": {
      "name": "python"
    }
  },
  "cells": [
    {
      "cell_type": "markdown",
      "source": [
        "[Reference](https://itnext.io/how-to-create-a-simple-etl-job-locally-with-pyspark-postgresql-and-docker-ea53cd43311d)"
      ],
      "metadata": {
        "id": "Pwjv2g6_ZxXc"
      }
    },
    {
      "cell_type": "code",
      "execution_count": 1,
      "metadata": {
        "id": "jLjil11EZv-O"
      },
      "outputs": [],
      "source": [
        "def initialize_Spark():\n",
        "\n",
        "    spark = SparkSession.builder \\\n",
        "        .master(\"local[*]\") \\\n",
        "        .appName(\"simple etl job\") \\\n",
        "        .getOrCreate()\n",
        "\n",
        "    return spark"
      ]
    },
    {
      "cell_type": "code",
      "source": [
        "def loadDFWithoutSchema(spark):\n",
        "\n",
        "    df = spark.read.format(\"csv\").option(\"header\", \"true\").load(environ[\"HOME\"] + \"/Downloads/autos.csv\")\n",
        "\n",
        "    return df"
      ],
      "metadata": {
        "id": "I88wg9gOZ1Ws"
      },
      "execution_count": 2,
      "outputs": []
    },
    {
      "cell_type": "code",
      "source": [
        "def loadDFWithSchema(spark):\n",
        "\n",
        "    schema = StructType([\n",
        "        StructField(\"dateCrawled\", TimestampType(), True),\n",
        "        StructField(\"name\", StringType(), True),\n",
        "        StructField(\"seller\", StringType(), True),\n",
        "        StructField(\"offerType\", StringType(), True),\n",
        "        StructField(\"price\", LongType(), True),\n",
        "        StructField(\"abtest\", StringType(), True),\n",
        "        StructField(\"vehicleType\", StringType(), True),\n",
        "        StructField(\"yearOfRegistration\", StringType(), True),\n",
        "        StructField(\"gearbox\", StringType(), True),\n",
        "        StructField(\"powerPS\", ShortType(), True),\n",
        "        StructField(\"model\", StringType(), True),\n",
        "        StructField(\"kilometer\", LongType(), True),\n",
        "        StructField(\"monthOfRegistration\", StringType(), True),\n",
        "        StructField(\"fuelType\", StringType(), True),\n",
        "        StructField(\"brand\", StringType(), True),\n",
        "        StructField(\"notRepairedDamage\", StringType(), True),\n",
        "        StructField(\"dateCreated\", DateType(), True),\n",
        "        StructField(\"nrOfPictures\", ShortType(), True),\n",
        "        StructField(\"postalCode\", StringType(), True),\n",
        "        StructField(\"lastSeen\", TimestampType(), True)\n",
        "    ])\n",
        "\n",
        "    df = spark \\\n",
        "        .read \\\n",
        "        .format(\"csv\") \\\n",
        "        .schema(schema)         \\\n",
        "        .option(\"header\", \"true\") \\\n",
        "        .load(environ[\"HOME\"] + \"/Downloads/autos.csv\")\n",
        "\n",
        "    return df"
      ],
      "metadata": {
        "id": "LMDX6SU9Z3BN"
      },
      "execution_count": 3,
      "outputs": []
    },
    {
      "cell_type": "code",
      "source": [
        "def clean_drop_data(df):\n",
        "\n",
        "    df_dropped = df.drop(\"dateCrawled\",\"nrOfPictures\",\"lastSeen\")\n",
        "    df_filtered = df_dropped.where(col(\"seller\") != \"gewerblich\")\n",
        "    df_dropped_seller = df_filtered.drop(\"seller\")\n",
        "    df_filtered2 = df_dropped_seller.where(col(\"offerType\") != \"Gesuch\")\n",
        "    df_final = df_filtered2.drop(\"offerType\")\n",
        "\n",
        "    return df_final"
      ],
      "metadata": {
        "id": "kNqx2RA4Z5TF"
      },
      "execution_count": 4,
      "outputs": []
    },
    {
      "cell_type": "code",
      "source": [
        "import psycopg2\n",
        "\n",
        "conn = psycopg2.connect(\n",
        "        host = \"localhost\",\n",
        "        database = \"cars\",\n",
        "        user = \"admin\",\n",
        "        password = \"admin\")\n",
        "# cursor\n",
        "cur = conn.cursor()"
      ],
      "metadata": {
        "id": "dMAPbcfjZ6ve"
      },
      "execution_count": 6,
      "outputs": []
    },
    {
      "cell_type": "code",
      "source": [
        "def create_table(cursor):\n",
        "\n",
        "    cursor.execute(\"CREATE TABLE IF NOT EXISTS cars_table \\\n",
        "    (   name VARCHAR(255) NOT NULL, \\\n",
        "        price integer NOT NULL, \\\n",
        "        abtest VARCHAR(255) NOT NULL, \\\n",
        "        vehicleType VARCHAR(255), \\\n",
        "        yearOfRegistration VARCHAR(4) NOT NULL, \\\n",
        "        gearbox VARCHAR(255), \\\n",
        "        powerPS integer NOT NULL, \\\n",
        "        model VARCHAR(255), \\\n",
        "        kilometer integer, \\\n",
        "        monthOfRegistration VARCHAR(255) NOT NULL, \\\n",
        "        fuelType VARCHAR(255), \\\n",
        "        brand VARCHAR(255) NOT NULL, \\\n",
        "        notRepairedDamage VARCHAR(255), \\\n",
        "        dateCreated DATE NOT NULL, \\\n",
        "        postalCode VARCHAR(255) NOT NULL);\")"
      ],
      "metadata": {
        "id": "gUhyWB8GZ83g"
      },
      "execution_count": 7,
      "outputs": []
    },
    {
      "cell_type": "code",
      "source": [
        "def write_postgresql(df):\n",
        "\n",
        "    cars_seq = [tuple(x) for x in df.collect()]\n",
        "\n",
        "    records_list_template = ','.join(['%s'] * len(cars_seq))\n",
        "\n",
        "    insert_query = \"INSERT INTO cars_table (name, price, abtest, vehicleType, yearOfRegistration, gearbox, powerPS, \\\n",
        "                        model, kilometer, monthOfRegistration, fuelType, brand, notRepairedDamage, dateCreated, postalCode \\\n",
        "                           ) VALUES {}\".format(records_list_template)\n",
        "\n",
        "    return insert_query, cars_seq"
      ],
      "metadata": {
        "id": "T6-O1yqOaEPh"
      },
      "execution_count": 8,
      "outputs": []
    },
    {
      "cell_type": "code",
      "source": [
        "cur.execute(insert_query, cars_seq)"
      ],
      "metadata": {
        "id": "uomRovSaaGKf"
      },
      "execution_count": 9,
      "outputs": []
    },
    {
      "cell_type": "code",
      "source": [
        "def get_insterted_data(cursor):\n",
        "\n",
        "    postgreSQL_select_Query = \"select brand, model, price from cars_table\"\n",
        "\n",
        "    cursor.execute(postgreSQL_select_Query)\n",
        "\n",
        "    cars_records = cursor.fetchmany(2)\n",
        "\n",
        "    print(\"Printing 2 rows\")\n",
        "    for row in cars_records:\n",
        "        print(\"Brand = \", row[0], )\n",
        "        print(\"Model = \", row[1])\n",
        "        print(\"Price  = \", row[2], \"\\n\")"
      ],
      "metadata": {
        "id": "nHSVlg6yaPKP"
      },
      "execution_count": 10,
      "outputs": []
    },
    {
      "cell_type": "code",
      "source": [
        "conn.commit()"
      ],
      "metadata": {
        "id": "XQ3coG7TaQlM"
      },
      "execution_count": 11,
      "outputs": []
    }
  ]
}