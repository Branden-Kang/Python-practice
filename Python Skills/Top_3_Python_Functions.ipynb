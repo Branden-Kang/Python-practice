{
  "nbformat": 4,
  "nbformat_minor": 0,
  "metadata": {
    "colab": {
      "name": "Top 3 Python Functions.ipynb",
      "provenance": [],
      "authorship_tag": "ABX9TyPjMmY9F2C7zJNM5lXXC/+v"
    },
    "kernelspec": {
      "name": "python3",
      "display_name": "Python 3"
    }
  },
  "cells": [
    {
      "cell_type": "markdown",
      "metadata": {
        "id": "ztoEuto4WngL"
      },
      "source": [
        "[Reference](https://towardsdatascience.com/top-3-python-functions-i-wish-i-knew-earlier-8732e6f35161)"
      ]
    },
    {
      "cell_type": "code",
      "metadata": {
        "id": "c2laE-DGWmUN"
      },
      "source": [
        "class Circle():\n",
        "   def __init__(self):\n",
        "       self.radius = None"
      ],
      "execution_count": 1,
      "outputs": []
    },
    {
      "cell_type": "markdown",
      "metadata": {
        "id": "hQ0GJ4PxWsqW"
      },
      "source": [
        "# Function #1: isinstance()"
      ]
    },
    {
      "cell_type": "code",
      "metadata": {
        "id": "o3uuoykNWrWh"
      },
      "source": [
        "circle = Circle()"
      ],
      "execution_count": 2,
      "outputs": []
    },
    {
      "cell_type": "code",
      "metadata": {
        "id": "CRyRT6KxWtqv",
        "outputId": "774d1e37-e4aa-4ce4-fa2e-c46339b544b1",
        "colab": {
          "base_uri": "https://localhost:8080/"
        }
      },
      "source": [
        "if isinstance(circle, Circle):\n",
        "   print('yes')"
      ],
      "execution_count": 3,
      "outputs": [
        {
          "output_type": "stream",
          "text": [
            "yes\n"
          ],
          "name": "stdout"
        }
      ]
    },
    {
      "cell_type": "markdown",
      "metadata": {
        "id": "zrZ_mVw1Wvj4"
      },
      "source": [
        "# Function #2: hasattr()"
      ]
    },
    {
      "cell_type": "code",
      "metadata": {
        "id": "ZHcxvhtCWuwB",
        "outputId": "feba8076-987a-43dd-8b18-2f4817dc292f",
        "colab": {
          "base_uri": "https://localhost:8080/"
        }
      },
      "source": [
        "circle = Circle()\n",
        "\n",
        "if hasattr(circle, 'radius'):\n",
        "    print('yes')"
      ],
      "execution_count": 5,
      "outputs": [
        {
          "output_type": "stream",
          "text": [
            "yes\n"
          ],
          "name": "stdout"
        }
      ]
    },
    {
      "cell_type": "markdown",
      "metadata": {
        "id": "-_hb4s6bWySf"
      },
      "source": [
        "# Function #3: exec()"
      ]
    },
    {
      "cell_type": "code",
      "metadata": {
        "id": "6YhItNdRWwxs",
        "outputId": "7849c0be-bb31-4012-b254-40eccc208d9c",
        "colab": {
          "base_uri": "https://localhost:8080/"
        }
      },
      "source": [
        "statement = '''a = 10; print(a + 5)'''\n",
        "exec(statement)"
      ],
      "execution_count": 6,
      "outputs": [
        {
          "output_type": "stream",
          "text": [
            "15\n"
          ],
          "name": "stdout"
        }
      ]
    }
  ]
}