{
  "nbformat": 4,
  "nbformat_minor": 0,
  "metadata": {
    "colab": {
      "provenance": [],
      "authorship_tag": "ABX9TyOcJN5/rYk/xDur/vmI3vMu"
    },
    "kernelspec": {
      "name": "python3",
      "display_name": "Python 3"
    },
    "language_info": {
      "name": "python"
    }
  },
  "cells": [
    {
      "cell_type": "markdown",
      "source": [
        "[Reference](https://medium.com/@techwithjulles/building-modular-python-projects-with-the-singleton-pattern-12402beeaa33)"
      ],
      "metadata": {
        "id": "PPHFba0_gBhn"
      }
    },
    {
      "cell_type": "markdown",
      "source": [
        "# The Configuration Singleton"
      ],
      "metadata": {
        "id": "cOQ6DE0HgDjp"
      }
    },
    {
      "cell_type": "code",
      "execution_count": 1,
      "metadata": {
        "id": "RqHVKUqBf7E1"
      },
      "outputs": [],
      "source": [
        "# Configuration.py\n",
        "\n",
        "class Configuration:\n",
        "    _instance = None\n",
        "\n",
        "    def __new__(cls):\n",
        "        if not cls._instance:\n",
        "            cls._instance = super(Configuration, cls).__new__(cls)\n",
        "            cls._instance._load_config()\n",
        "        return cls._instance\n",
        "\n",
        "    def _load_config(self):\n",
        "        # Ideally, this might load from a file or environment variables\n",
        "        self.base_url = \"https://example.com\"\n",
        "        self.user_agent = \"MyWebScraper 1.0\"\n",
        "        self.timeout = 10  # in seconds\n",
        "\n",
        "    def display(self):\n",
        "        print(f\"Base URL: {self.base_url}\")\n",
        "        print(f\"User Agent: {self.user_agent}\")\n",
        "        print(f\"Timeout: {self.timeout} seconds\")"
      ]
    },
    {
      "cell_type": "markdown",
      "source": [
        "# The Web Scraper Logic"
      ],
      "metadata": {
        "id": "VG5JsyVwgGCy"
      }
    },
    {
      "cell_type": "code",
      "source": [
        "# WebScraper.py\n",
        "import requests\n",
        "\n",
        "class WebScraper:\n",
        "    def __init__(self):\n",
        "        self.config = Configuration()\n",
        "\n",
        "    def scrape(self, endpoint):\n",
        "        url = self.config.base_url + endpoint\n",
        "        response = requests.get(\n",
        "            url,\n",
        "            headers={\"User-Agent\": self.config.user_agent},\n",
        "            timeout=self.config.timeout\n",
        "        )\n",
        "        return response.text"
      ],
      "metadata": {
        "id": "btuTn4DOgFI-"
      },
      "execution_count": 3,
      "outputs": []
    },
    {
      "cell_type": "code",
      "source": [
        "# main.py\n",
        "\n",
        "def main():\n",
        "    # Display configuration\n",
        "    config = Configuration()\n",
        "    config.display()\n",
        "\n",
        "    # Create a scraper and fetch some data\n",
        "    scraper = WebScraper()\n",
        "    data = scraper.scrape(\"/data-endpoint\")\n",
        "    print(data)\n",
        "\n",
        "    # Proof that configuration is a singleton\n",
        "    config2 = Configuration()\n",
        "    print(config is config2)  # This should print True\n",
        "\n",
        "if __name__ == \"__main__\":\n",
        "    main()"
      ],
      "metadata": {
        "colab": {
          "base_uri": "https://localhost:8080/"
        },
        "id": "XZqxocq0gHPR",
        "outputId": "07c7fda4-d781-491a-fa22-e2d11365adfc"
      },
      "execution_count": 5,
      "outputs": [
        {
          "output_type": "stream",
          "name": "stdout",
          "text": [
            "Base URL: https://example.com\n",
            "User Agent: MyWebScraper 1.0\n",
            "Timeout: 10 seconds\n",
            "<!doctype html>\n",
            "<html>\n",
            "<head>\n",
            "    <title>Example Domain</title>\n",
            "\n",
            "    <meta charset=\"utf-8\" />\n",
            "    <meta http-equiv=\"Content-type\" content=\"text/html; charset=utf-8\" />\n",
            "    <meta name=\"viewport\" content=\"width=device-width, initial-scale=1\" />\n",
            "    <style type=\"text/css\">\n",
            "    body {\n",
            "        background-color: #f0f0f2;\n",
            "        margin: 0;\n",
            "        padding: 0;\n",
            "        font-family: -apple-system, system-ui, BlinkMacSystemFont, \"Segoe UI\", \"Open Sans\", \"Helvetica Neue\", Helvetica, Arial, sans-serif;\n",
            "        \n",
            "    }\n",
            "    div {\n",
            "        width: 600px;\n",
            "        margin: 5em auto;\n",
            "        padding: 2em;\n",
            "        background-color: #fdfdff;\n",
            "        border-radius: 0.5em;\n",
            "        box-shadow: 2px 3px 7px 2px rgba(0,0,0,0.02);\n",
            "    }\n",
            "    a:link, a:visited {\n",
            "        color: #38488f;\n",
            "        text-decoration: none;\n",
            "    }\n",
            "    @media (max-width: 700px) {\n",
            "        div {\n",
            "            margin: 0 auto;\n",
            "            width: auto;\n",
            "        }\n",
            "    }\n",
            "    </style>    \n",
            "</head>\n",
            "\n",
            "<body>\n",
            "<div>\n",
            "    <h1>Example Domain</h1>\n",
            "    <p>This domain is for use in illustrative examples in documents. You may use this\n",
            "    domain in literature without prior coordination or asking for permission.</p>\n",
            "    <p><a href=\"https://www.iana.org/domains/example\">More information...</a></p>\n",
            "</div>\n",
            "</body>\n",
            "</html>\n",
            "\n",
            "True\n"
          ]
        }
      ]
    }
  ]
}
