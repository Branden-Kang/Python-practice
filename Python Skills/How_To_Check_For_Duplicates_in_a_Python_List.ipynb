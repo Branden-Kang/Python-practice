{
  "nbformat": 4,
  "nbformat_minor": 0,
  "metadata": {
    "colab": {
      "name": "How To Check For Duplicates in a Python List.ipynb",
      "provenance": [],
      "authorship_tag": "ABX9TyNEjJrUwGuRxhrvjpoM2Arm"
    },
    "kernelspec": {
      "name": "python3",
      "display_name": "Python 3"
    },
    "language_info": {
      "name": "python"
    }
  },
  "cells": [
    {
      "cell_type": "markdown",
      "metadata": {
        "id": "NOFNHIn8C6n5"
      },
      "source": [
        "[Reference](https://codefather-tech.medium.com/how-to-check-for-duplicates-in-a-python-list-codefather-4cb3b6582877)"
      ]
    },
    {
      "cell_type": "code",
      "metadata": {
        "colab": {
          "base_uri": "https://localhost:8080/"
        },
        "id": "DYiyoZHnC5EF",
        "outputId": "24fe17ef-645a-4849-aa16-bbd4825a3720"
      },
      "source": [
        "planets = ['mercury', 'earth', 'mars', 'jupiter', 'mars']\n",
        "set(planets)"
      ],
      "execution_count": 1,
      "outputs": [
        {
          "output_type": "execute_result",
          "data": {
            "text/plain": [
              "{'earth', 'jupiter', 'mars', 'mercury'}"
            ]
          },
          "metadata": {
            "tags": []
          },
          "execution_count": 1
        }
      ]
    },
    {
      "cell_type": "code",
      "metadata": {
        "colab": {
          "base_uri": "https://localhost:8080/"
        },
        "id": "u1QRyW2gDBSv",
        "outputId": "e7d0cb61-8225-466a-eae8-1604053dd348"
      },
      "source": [
        "len(planets)"
      ],
      "execution_count": 2,
      "outputs": [
        {
          "output_type": "execute_result",
          "data": {
            "text/plain": [
              "5"
            ]
          },
          "metadata": {
            "tags": []
          },
          "execution_count": 2
        }
      ]
    },
    {
      "cell_type": "code",
      "metadata": {
        "colab": {
          "base_uri": "https://localhost:8080/"
        },
        "id": "iH4iDjYvDC_v",
        "outputId": "86295d55-8762-4ae0-cd77-b20c255df571"
      },
      "source": [
        "len(set(planets))"
      ],
      "execution_count": 3,
      "outputs": [
        {
          "output_type": "execute_result",
          "data": {
            "text/plain": [
              "4"
            ]
          },
          "metadata": {
            "tags": []
          },
          "execution_count": 3
        }
      ]
    },
    {
      "cell_type": "code",
      "metadata": {
        "id": "s_OZ_LJyDD-2"
      },
      "source": [
        "def has_duplicates(values):\n",
        "     if len(values) != len(set(values)):\n",
        "             return True\n",
        "     else:\n",
        "             return False"
      ],
      "execution_count": 4,
      "outputs": []
    },
    {
      "cell_type": "code",
      "metadata": {
        "colab": {
          "base_uri": "https://localhost:8080/"
        },
        "id": "tGlTTucrDF-I",
        "outputId": "96e750bc-16c8-4a35-bc55-84d8a27127bb"
      },
      "source": [
        "has_duplicates(planets)"
      ],
      "execution_count": 5,
      "outputs": [
        {
          "output_type": "execute_result",
          "data": {
            "text/plain": [
              "True"
            ]
          },
          "metadata": {
            "tags": []
          },
          "execution_count": 5
        }
      ]
    },
    {
      "cell_type": "code",
      "metadata": {
        "colab": {
          "base_uri": "https://localhost:8080/"
        },
        "id": "nr_02kgFDHU8",
        "outputId": "fdf871e8-3de2-4010-dba9-2cd72104005a"
      },
      "source": [
        "planets = ['mercury', 'earth', 'mars', 'jupiter']\n",
        "has_duplicates(planets)"
      ],
      "execution_count": 6,
      "outputs": [
        {
          "output_type": "execute_result",
          "data": {
            "text/plain": [
              "False"
            ]
          },
          "metadata": {
            "tags": []
          },
          "execution_count": 6
        }
      ]
    },
    {
      "cell_type": "code",
      "metadata": {
        "colab": {
          "base_uri": "https://localhost:8080/"
        },
        "id": "QVO89qGbDJK2",
        "outputId": "c374ed83-a207-4b61-b361-3712c6c5d899"
      },
      "source": [
        "from collections import Counter\n",
        "Counter(planets)"
      ],
      "execution_count": 9,
      "outputs": [
        {
          "output_type": "execute_result",
          "data": {
            "text/plain": [
              "Counter({'earth': 1, 'jupiter': 1, 'mars': 1, 'mercury': 1})"
            ]
          },
          "metadata": {
            "tags": []
          },
          "execution_count": 9
        }
      ]
    },
    {
      "cell_type": "code",
      "metadata": {
        "colab": {
          "base_uri": "https://localhost:8080/"
        },
        "id": "Xjazkna7DMjK",
        "outputId": "e2d90bb0-9139-42f2-f95b-eaf0abf394bb"
      },
      "source": [
        "[key for key in Counter(planets).keys() if Counter(planets)[key]>1]"
      ],
      "execution_count": 10,
      "outputs": [
        {
          "output_type": "execute_result",
          "data": {
            "text/plain": [
              "[]"
            ]
          },
          "metadata": {
            "tags": []
          },
          "execution_count": 10
        }
      ]
    },
    {
      "cell_type": "code",
      "metadata": {
        "id": "7lkuCeuBDmmh"
      },
      "source": [
        "planets1 = ['mercury', 'earth', 'mars']\n",
        "planets2 = ['earth', 'jupiter', 'saturn']"
      ],
      "execution_count": 11,
      "outputs": []
    },
    {
      "cell_type": "code",
      "metadata": {
        "id": "4etoeutdDqEC"
      },
      "source": [
        "p1 = set(planets1)\n",
        "p2 = set(planets2)"
      ],
      "execution_count": 12,
      "outputs": []
    },
    {
      "cell_type": "code",
      "metadata": {
        "colab": {
          "base_uri": "https://localhost:8080/"
        },
        "id": "GcAAWTHYDtgS",
        "outputId": "20507f64-aa69-43ec-c2b8-8c96d79f2a13"
      },
      "source": [
        "help(p1.intersection)"
      ],
      "execution_count": 13,
      "outputs": [
        {
          "output_type": "stream",
          "text": [
            "Help on built-in function intersection:\n",
            "\n",
            "intersection(...) method of builtins.set instance\n",
            "    Return the intersection of two sets as a new set.\n",
            "    \n",
            "    (i.e. all elements that are in both sets.)\n",
            "\n"
          ],
          "name": "stdout"
        }
      ]
    },
    {
      "cell_type": "code",
      "metadata": {
        "colab": {
          "base_uri": "https://localhost:8080/"
        },
        "id": "WHSXKu3wDu_S",
        "outputId": "451e0f7c-8a8e-4cf1-c5e0-37381965f563"
      },
      "source": [
        "p1.intersection(p2)"
      ],
      "execution_count": 14,
      "outputs": [
        {
          "output_type": "execute_result",
          "data": {
            "text/plain": [
              "{'earth'}"
            ]
          },
          "metadata": {
            "tags": []
          },
          "execution_count": 14
        }
      ]
    },
    {
      "cell_type": "code",
      "metadata": {
        "colab": {
          "base_uri": "https://localhost:8080/"
        },
        "id": "HeH8xDA6Dwj_",
        "outputId": "4a4685c0-d4db-433b-a206-79f22214fd04"
      },
      "source": [
        "p1 & p2"
      ],
      "execution_count": 15,
      "outputs": [
        {
          "output_type": "execute_result",
          "data": {
            "text/plain": [
              "{'earth'}"
            ]
          },
          "metadata": {
            "tags": []
          },
          "execution_count": 15
        }
      ]
    },
    {
      "cell_type": "code",
      "metadata": {
        "colab": {
          "base_uri": "https://localhost:8080/"
        },
        "id": "YHMr99dHDyGb",
        "outputId": "c44b782e-4dc4-415d-89c9-7a574a23a362"
      },
      "source": [
        "scores = [('Jane', 45), ('Anthony', 340), ('Jake', 34), ('Jane', 45)]\n",
        "\n",
        "from collections import Counter\n",
        "Counter(scores)"
      ],
      "execution_count": 16,
      "outputs": [
        {
          "output_type": "execute_result",
          "data": {
            "text/plain": [
              "Counter({('Anthony', 340): 1, ('Jake', 34): 1, ('Jane', 45): 2})"
            ]
          },
          "metadata": {
            "tags": []
          },
          "execution_count": 16
        }
      ]
    },
    {
      "cell_type": "code",
      "metadata": {
        "colab": {
          "base_uri": "https://localhost:8080/",
          "height": 402
        },
        "id": "S_tPLx0ND1nS",
        "outputId": "e12a6fc1-c1ca-40ae-fa09-681995dce1e2"
      },
      "source": [
        "from collections import Counter \n",
        "\n",
        "def has_duplicates(elements):\n",
        "    counter = Counter(elements)     \n",
        "    \n",
        "    for key, value in counter.items():\n",
        "        if value > 1:\n",
        "            raise ValueError(\"Duplicate score found {}\".format(key))\n",
        " \n",
        "scores = [('Jane', 45), ('Anthony', 340), ('Jake', 34), ('Jane', 45)]\n",
        "has_duplicates(scores)"
      ],
      "execution_count": 17,
      "outputs": [
        {
          "output_type": "error",
          "ename": "ValueError",
          "evalue": "ignored",
          "traceback": [
            "\u001b[0;31m---------------------------------------------------------------------------\u001b[0m",
            "\u001b[0;31mValueError\u001b[0m                                Traceback (most recent call last)",
            "\u001b[0;32m<ipython-input-17-7d8d46051217>\u001b[0m in \u001b[0;36m<module>\u001b[0;34m()\u001b[0m\n\u001b[1;32m      9\u001b[0m \u001b[0;34m\u001b[0m\u001b[0m\n\u001b[1;32m     10\u001b[0m \u001b[0mscores\u001b[0m \u001b[0;34m=\u001b[0m \u001b[0;34m[\u001b[0m\u001b[0;34m(\u001b[0m\u001b[0;34m'Jane'\u001b[0m\u001b[0;34m,\u001b[0m \u001b[0;36m45\u001b[0m\u001b[0;34m)\u001b[0m\u001b[0;34m,\u001b[0m \u001b[0;34m(\u001b[0m\u001b[0;34m'Anthony'\u001b[0m\u001b[0;34m,\u001b[0m \u001b[0;36m340\u001b[0m\u001b[0;34m)\u001b[0m\u001b[0;34m,\u001b[0m \u001b[0;34m(\u001b[0m\u001b[0;34m'Jake'\u001b[0m\u001b[0;34m,\u001b[0m \u001b[0;36m34\u001b[0m\u001b[0;34m)\u001b[0m\u001b[0;34m,\u001b[0m \u001b[0;34m(\u001b[0m\u001b[0;34m'Jane'\u001b[0m\u001b[0;34m,\u001b[0m \u001b[0;36m45\u001b[0m\u001b[0;34m)\u001b[0m\u001b[0;34m]\u001b[0m\u001b[0;34m\u001b[0m\u001b[0;34m\u001b[0m\u001b[0m\n\u001b[0;32m---> 11\u001b[0;31m \u001b[0mhas_duplicates\u001b[0m\u001b[0;34m(\u001b[0m\u001b[0mscores\u001b[0m\u001b[0;34m)\u001b[0m\u001b[0;34m\u001b[0m\u001b[0;34m\u001b[0m\u001b[0m\n\u001b[0m",
            "\u001b[0;32m<ipython-input-17-7d8d46051217>\u001b[0m in \u001b[0;36mhas_duplicates\u001b[0;34m(elements)\u001b[0m\n\u001b[1;32m      6\u001b[0m     \u001b[0;32mfor\u001b[0m \u001b[0mkey\u001b[0m\u001b[0;34m,\u001b[0m \u001b[0mvalue\u001b[0m \u001b[0;32min\u001b[0m \u001b[0mcounter\u001b[0m\u001b[0;34m.\u001b[0m\u001b[0mitems\u001b[0m\u001b[0;34m(\u001b[0m\u001b[0;34m)\u001b[0m\u001b[0;34m:\u001b[0m\u001b[0;34m\u001b[0m\u001b[0;34m\u001b[0m\u001b[0m\n\u001b[1;32m      7\u001b[0m         \u001b[0;32mif\u001b[0m \u001b[0mvalue\u001b[0m \u001b[0;34m>\u001b[0m \u001b[0;36m1\u001b[0m\u001b[0;34m:\u001b[0m\u001b[0;34m\u001b[0m\u001b[0;34m\u001b[0m\u001b[0m\n\u001b[0;32m----> 8\u001b[0;31m             \u001b[0;32mraise\u001b[0m \u001b[0mValueError\u001b[0m\u001b[0;34m(\u001b[0m\u001b[0;34m\"Duplicate score found {}\"\u001b[0m\u001b[0;34m.\u001b[0m\u001b[0mformat\u001b[0m\u001b[0;34m(\u001b[0m\u001b[0mkey\u001b[0m\u001b[0;34m)\u001b[0m\u001b[0;34m)\u001b[0m\u001b[0;34m\u001b[0m\u001b[0;34m\u001b[0m\u001b[0m\n\u001b[0m\u001b[1;32m      9\u001b[0m \u001b[0;34m\u001b[0m\u001b[0m\n\u001b[1;32m     10\u001b[0m \u001b[0mscores\u001b[0m \u001b[0;34m=\u001b[0m \u001b[0;34m[\u001b[0m\u001b[0;34m(\u001b[0m\u001b[0;34m'Jane'\u001b[0m\u001b[0;34m,\u001b[0m \u001b[0;36m45\u001b[0m\u001b[0;34m)\u001b[0m\u001b[0;34m,\u001b[0m \u001b[0;34m(\u001b[0m\u001b[0;34m'Anthony'\u001b[0m\u001b[0;34m,\u001b[0m \u001b[0;36m340\u001b[0m\u001b[0;34m)\u001b[0m\u001b[0;34m,\u001b[0m \u001b[0;34m(\u001b[0m\u001b[0;34m'Jake'\u001b[0m\u001b[0;34m,\u001b[0m \u001b[0;36m34\u001b[0m\u001b[0;34m)\u001b[0m\u001b[0;34m,\u001b[0m \u001b[0;34m(\u001b[0m\u001b[0;34m'Jane'\u001b[0m\u001b[0;34m,\u001b[0m \u001b[0;36m45\u001b[0m\u001b[0;34m)\u001b[0m\u001b[0;34m]\u001b[0m\u001b[0;34m\u001b[0m\u001b[0;34m\u001b[0m\u001b[0m\n",
            "\u001b[0;31mValueError\u001b[0m: Duplicate score found ('Jane', 45)"
          ]
        }
      ]
    },
    {
      "cell_type": "code",
      "metadata": {
        "id": "DB_Rx3kJD49K"
      },
      "source": [
        "users = [{'name':'Jane', 'score': 45}, {'name':'Anthony', 'score': 234}, {'name':'John', 'score': 786}, {'name':'Jane', 'score': 45}]"
      ],
      "execution_count": 18,
      "outputs": []
    },
    {
      "cell_type": "code",
      "metadata": {
        "colab": {
          "base_uri": "https://localhost:8080/"
        },
        "id": "tazQ-xwvD8cU",
        "outputId": "567463c5-8f40-4827-972f-378414b1ab00"
      },
      "source": [
        "[list(user.values()) for user in users]"
      ],
      "execution_count": 19,
      "outputs": [
        {
          "output_type": "execute_result",
          "data": {
            "text/plain": [
              "[['Jane', 45], ['Anthony', 234], ['John', 786], ['Jane', 45]]"
            ]
          },
          "metadata": {
            "tags": []
          },
          "execution_count": 19
        }
      ]
    },
    {
      "cell_type": "code",
      "metadata": {
        "colab": {
          "base_uri": "https://localhost:8080/",
          "height": 392
        },
        "id": "NFd1Ff2UD_BY",
        "outputId": "a9ae98a3-827c-49d3-d1da-5074fbbd301e"
      },
      "source": [
        "from collections import Counter\n",
        ">>> Counter([['Jane', 45], ['Anthony', 234], ['John', 786], ['Jane', 45]])"
      ],
      "execution_count": 20,
      "outputs": [
        {
          "output_type": "error",
          "ename": "TypeError",
          "evalue": "ignored",
          "traceback": [
            "\u001b[0;31m---------------------------------------------------------------------------\u001b[0m",
            "\u001b[0;31mTypeError\u001b[0m                                 Traceback (most recent call last)",
            "\u001b[0;32m<ipython-input-20-5a9a3cb55fdf>\u001b[0m in \u001b[0;36m<module>\u001b[0;34m()\u001b[0m\n\u001b[1;32m      1\u001b[0m \u001b[0;32mfrom\u001b[0m \u001b[0mcollections\u001b[0m \u001b[0;32mimport\u001b[0m \u001b[0mCounter\u001b[0m\u001b[0;34m\u001b[0m\u001b[0;34m\u001b[0m\u001b[0m\n\u001b[0;32m----> 2\u001b[0;31m \u001b[0mCounter\u001b[0m\u001b[0;34m(\u001b[0m\u001b[0;34m[\u001b[0m\u001b[0;34m[\u001b[0m\u001b[0;34m'Jane'\u001b[0m\u001b[0;34m,\u001b[0m \u001b[0;36m45\u001b[0m\u001b[0;34m]\u001b[0m\u001b[0;34m,\u001b[0m \u001b[0;34m[\u001b[0m\u001b[0;34m'Anthony'\u001b[0m\u001b[0;34m,\u001b[0m \u001b[0;36m234\u001b[0m\u001b[0;34m]\u001b[0m\u001b[0;34m,\u001b[0m \u001b[0;34m[\u001b[0m\u001b[0;34m'John'\u001b[0m\u001b[0;34m,\u001b[0m \u001b[0;36m786\u001b[0m\u001b[0;34m]\u001b[0m\u001b[0;34m,\u001b[0m \u001b[0;34m[\u001b[0m\u001b[0;34m'Jane'\u001b[0m\u001b[0;34m,\u001b[0m \u001b[0;36m45\u001b[0m\u001b[0;34m]\u001b[0m\u001b[0;34m]\u001b[0m\u001b[0;34m)\u001b[0m\u001b[0;34m\u001b[0m\u001b[0;34m\u001b[0m\u001b[0m\n\u001b[0m",
            "\u001b[0;32m/usr/lib/python3.7/collections/__init__.py\u001b[0m in \u001b[0;36m__init__\u001b[0;34m(*args, **kwds)\u001b[0m\n\u001b[1;32m    566\u001b[0m             \u001b[0;32mraise\u001b[0m \u001b[0mTypeError\u001b[0m\u001b[0;34m(\u001b[0m\u001b[0;34m'expected at most 1 arguments, got %d'\u001b[0m \u001b[0;34m%\u001b[0m \u001b[0mlen\u001b[0m\u001b[0;34m(\u001b[0m\u001b[0margs\u001b[0m\u001b[0;34m)\u001b[0m\u001b[0;34m)\u001b[0m\u001b[0;34m\u001b[0m\u001b[0;34m\u001b[0m\u001b[0m\n\u001b[1;32m    567\u001b[0m         \u001b[0msuper\u001b[0m\u001b[0;34m(\u001b[0m\u001b[0mCounter\u001b[0m\u001b[0;34m,\u001b[0m \u001b[0mself\u001b[0m\u001b[0;34m)\u001b[0m\u001b[0;34m.\u001b[0m\u001b[0m__init__\u001b[0m\u001b[0;34m(\u001b[0m\u001b[0;34m)\u001b[0m\u001b[0;34m\u001b[0m\u001b[0;34m\u001b[0m\u001b[0m\n\u001b[0;32m--> 568\u001b[0;31m         \u001b[0mself\u001b[0m\u001b[0;34m.\u001b[0m\u001b[0mupdate\u001b[0m\u001b[0;34m(\u001b[0m\u001b[0;34m*\u001b[0m\u001b[0margs\u001b[0m\u001b[0;34m,\u001b[0m \u001b[0;34m**\u001b[0m\u001b[0mkwds\u001b[0m\u001b[0;34m)\u001b[0m\u001b[0;34m\u001b[0m\u001b[0;34m\u001b[0m\u001b[0m\n\u001b[0m\u001b[1;32m    569\u001b[0m \u001b[0;34m\u001b[0m\u001b[0m\n\u001b[1;32m    570\u001b[0m     \u001b[0;32mdef\u001b[0m \u001b[0m__missing__\u001b[0m\u001b[0;34m(\u001b[0m\u001b[0mself\u001b[0m\u001b[0;34m,\u001b[0m \u001b[0mkey\u001b[0m\u001b[0;34m)\u001b[0m\u001b[0;34m:\u001b[0m\u001b[0;34m\u001b[0m\u001b[0;34m\u001b[0m\u001b[0m\n",
            "\u001b[0;32m/usr/lib/python3.7/collections/__init__.py\u001b[0m in \u001b[0;36mupdate\u001b[0;34m(*args, **kwds)\u001b[0m\n\u001b[1;32m    653\u001b[0m                     \u001b[0msuper\u001b[0m\u001b[0;34m(\u001b[0m\u001b[0mCounter\u001b[0m\u001b[0;34m,\u001b[0m \u001b[0mself\u001b[0m\u001b[0;34m)\u001b[0m\u001b[0;34m.\u001b[0m\u001b[0mupdate\u001b[0m\u001b[0;34m(\u001b[0m\u001b[0miterable\u001b[0m\u001b[0;34m)\u001b[0m \u001b[0;31m# fast path when counter is empty\u001b[0m\u001b[0;34m\u001b[0m\u001b[0;34m\u001b[0m\u001b[0m\n\u001b[1;32m    654\u001b[0m             \u001b[0;32melse\u001b[0m\u001b[0;34m:\u001b[0m\u001b[0;34m\u001b[0m\u001b[0;34m\u001b[0m\u001b[0m\n\u001b[0;32m--> 655\u001b[0;31m                 \u001b[0m_count_elements\u001b[0m\u001b[0;34m(\u001b[0m\u001b[0mself\u001b[0m\u001b[0;34m,\u001b[0m \u001b[0miterable\u001b[0m\u001b[0;34m)\u001b[0m\u001b[0;34m\u001b[0m\u001b[0;34m\u001b[0m\u001b[0m\n\u001b[0m\u001b[1;32m    656\u001b[0m         \u001b[0;32mif\u001b[0m \u001b[0mkwds\u001b[0m\u001b[0;34m:\u001b[0m\u001b[0;34m\u001b[0m\u001b[0;34m\u001b[0m\u001b[0m\n\u001b[1;32m    657\u001b[0m             \u001b[0mself\u001b[0m\u001b[0;34m.\u001b[0m\u001b[0mupdate\u001b[0m\u001b[0;34m(\u001b[0m\u001b[0mkwds\u001b[0m\u001b[0;34m)\u001b[0m\u001b[0;34m\u001b[0m\u001b[0;34m\u001b[0m\u001b[0m\n",
            "\u001b[0;31mTypeError\u001b[0m: unhashable type: 'list'"
          ]
        }
      ]
    },
    {
      "cell_type": "code",
      "metadata": {
        "colab": {
          "base_uri": "https://localhost:8080/"
        },
        "id": "8UTJg2GPEASH",
        "outputId": "2288dcfc-a69b-4c2a-b57f-2e946fd14fb2"
      },
      "source": [
        "[tuple(user.values()) for user in users]"
      ],
      "execution_count": 21,
      "outputs": [
        {
          "output_type": "execute_result",
          "data": {
            "text/plain": [
              "[('Jane', 45), ('Anthony', 234), ('John', 786), ('Jane', 45)]"
            ]
          },
          "metadata": {
            "tags": []
          },
          "execution_count": 21
        }
      ]
    },
    {
      "cell_type": "code",
      "metadata": {
        "colab": {
          "base_uri": "https://localhost:8080/"
        },
        "id": "O6xbTgpPEB5s",
        "outputId": "529a966e-7fad-429d-bf45-f9ff4f3bf24e"
      },
      "source": [
        "Counter([tuple(user.values()) for user in users])"
      ],
      "execution_count": 22,
      "outputs": [
        {
          "output_type": "execute_result",
          "data": {
            "text/plain": [
              "Counter({('Anthony', 234): 1, ('Jane', 45): 2, ('John', 786): 1})"
            ]
          },
          "metadata": {
            "tags": []
          },
          "execution_count": 22
        }
      ]
    },
    {
      "cell_type": "code",
      "metadata": {
        "colab": {
          "base_uri": "https://localhost:8080/"
        },
        "id": "pZAvQpsmEC2V",
        "outputId": "0794e78e-347a-46d4-b6e8-9e5e3513764d"
      },
      "source": [
        "from collections import Counter \n",
        "\n",
        "def get_duplicates(values):\n",
        "    return [key for key in Counter(values).keys() if Counter(values)[key]>1]\n",
        "    \n",
        "planets = ['mercury', 'earth', 'mars', 'jupiter', 'mars', 'earth']\n",
        "duplicates = get_duplicates(planets)\n",
        "print(duplicates)"
      ],
      "execution_count": 25,
      "outputs": [
        {
          "output_type": "stream",
          "text": [
            "['earth', 'mars']\n"
          ],
          "name": "stdout"
        }
      ]
    },
    {
      "cell_type": "code",
      "metadata": {
        "colab": {
          "base_uri": "https://localhost:8080/"
        },
        "id": "sanlJ3eEEFGz",
        "outputId": "e25c872e-2b2c-4311-9673-476a461ac149"
      },
      "source": [
        "[index for index, value in enumerate(planets)]"
      ],
      "execution_count": 26,
      "outputs": [
        {
          "output_type": "execute_result",
          "data": {
            "text/plain": [
              "[0, 1, 2, 3, 4, 5]"
            ]
          },
          "metadata": {
            "tags": []
          },
          "execution_count": 26
        }
      ]
    },
    {
      "cell_type": "code",
      "metadata": {
        "id": "WcxjUWb3ELbC"
      },
      "source": [
        "def get_indexes_for_element(values, element):\n",
        "    element_indexes = [index for index, value in enumerate(values) if value == element]\n",
        "    return { element : element_indexes }"
      ],
      "execution_count": 27,
      "outputs": []
    },
    {
      "cell_type": "code",
      "metadata": {
        "colab": {
          "base_uri": "https://localhost:8080/"
        },
        "id": "fyZMuy0gEN2R",
        "outputId": "0cb83d5b-2ad8-472f-c041-7d56d750d1bf"
      },
      "source": [
        "planets = ['mercury', 'earth', 'mars', 'jupiter', 'mars', 'earth']\n",
        "print(get_indexes_for_element(planets, 'earth'))"
      ],
      "execution_count": 28,
      "outputs": [
        {
          "output_type": "stream",
          "text": [
            "{'earth': [1, 5]}\n"
          ],
          "name": "stdout"
        }
      ]
    },
    {
      "cell_type": "code",
      "metadata": {
        "id": "uVcoT5QIEPXX"
      },
      "source": [
        "def get_indexes_for_duplicates(values, duplicates):\n",
        "    indexes_for_duplicates = []     \n",
        "    \n",
        "    for duplicate in duplicates:\n",
        "        indexes_for_duplicates.append(get_indexes_for_element(values, duplicate))    \n",
        "        \n",
        "    return indexes_for_duplicates"
      ],
      "execution_count": 29,
      "outputs": []
    },
    {
      "cell_type": "code",
      "metadata": {
        "colab": {
          "base_uri": "https://localhost:8080/"
        },
        "id": "wUV3asUCESsl",
        "outputId": "d654058c-5c7c-496a-bd9a-fa2a3fa54411"
      },
      "source": [
        "from collections import Counter \n",
        "\n",
        "def get_duplicates(values):\n",
        "    return [key for key in Counter(values).keys() if Counter(values)[key]>1] \n",
        "    \n",
        "def get_indexes_for_element(values, element):\n",
        "    element_indexes = [index for index, value in enumerate(values) if value == element]\n",
        "    return { element : element_indexes } \n",
        "    \n",
        "def get_indexes_for_duplicates(values, duplicates):\n",
        "    indexes_for_duplicates = []     \n",
        "    \n",
        "    for duplicate in duplicates:\n",
        "        indexes_for_duplicates.append(get_indexes_for_element(values, duplicate))   \n",
        "        \n",
        "    return indexes_for_duplicates\n",
        "\n",
        "planets = ['mercury', 'earth', 'mars', 'jupiter', 'mars', 'earth']\n",
        "duplicates = get_duplicates(planets)\n",
        "print(get_indexes_for_duplicates(planets, duplicates))"
      ],
      "execution_count": 30,
      "outputs": [
        {
          "output_type": "stream",
          "text": [
            "[{'earth': [1, 5]}, {'mars': [2, 4]}]\n"
          ],
          "name": "stdout"
        }
      ]
    },
    {
      "cell_type": "code",
      "metadata": {
        "colab": {
          "base_uri": "https://localhost:8080/"
        },
        "id": "OXM_9pXbEaSu",
        "outputId": "27cd517e-780b-4cdf-d881-f0d341d6c52a"
      },
      "source": [
        "planets = ['mercury', 'earth', 'mars', 'jupiter', 'mars', 'earth']\n",
        "planets.remove('earth')\n",
        "planets"
      ],
      "execution_count": 31,
      "outputs": [
        {
          "output_type": "execute_result",
          "data": {
            "text/plain": [
              "['mercury', 'mars', 'jupiter', 'mars', 'earth']"
            ]
          },
          "metadata": {
            "tags": []
          },
          "execution_count": 31
        }
      ]
    },
    {
      "cell_type": "code",
      "metadata": {
        "colab": {
          "base_uri": "https://localhost:8080/"
        },
        "id": "-KhsDnobEfRH",
        "outputId": "e37dd390-677f-40a3-e82c-57b5888c7c36"
      },
      "source": [
        "planets.remove('mars')\n",
        "planets"
      ],
      "execution_count": 32,
      "outputs": [
        {
          "output_type": "execute_result",
          "data": {
            "text/plain": [
              "['mercury', 'jupiter', 'mars', 'earth']"
            ]
          },
          "metadata": {
            "tags": []
          },
          "execution_count": 32
        }
      ]
    },
    {
      "cell_type": "code",
      "metadata": {
        "colab": {
          "base_uri": "https://localhost:8080/"
        },
        "id": "pwzTbIQrEf2t",
        "outputId": "90ab6788-7945-4ae1-c239-1286df07a1d8"
      },
      "source": [
        "from collections import Counter \n",
        "\n",
        "def get_duplicates(values):\n",
        "    return [key for key in Counter(values).keys() if Counter(values)[key]>1]\n",
        "    \n",
        "planets = ['mercury', 'earth', 'mars', 'jupiter', 'mars', 'earth']\n",
        "print(\"The initial list is {}\".format(planets)) \n",
        "\n",
        "while len(get_duplicates(planets)) != 0:\n",
        "    duplicates = get_duplicates(planets)\n",
        "    print(\"Loop iteration: the duplicates in the list are {}\".format(duplicates)) \n",
        "    planets.remove(duplicates[0])\n",
        "    \n",
        "print(\"The list without duplicates is {}\".format(planets))"
      ],
      "execution_count": 33,
      "outputs": [
        {
          "output_type": "stream",
          "text": [
            "The initial list is ['mercury', 'earth', 'mars', 'jupiter', 'mars', 'earth']\n",
            "Loop iteration: the duplicates in the list are ['earth', 'mars']\n",
            "Loop iteration: the duplicates in the list are ['mars']\n",
            "The list without duplicates is ['mercury', 'jupiter', 'mars', 'earth']\n"
          ],
          "name": "stdout"
        }
      ]
    },
    {
      "cell_type": "code",
      "metadata": {
        "id": "D_69Y3MZElyt"
      },
      "source": [
        "def get_list_without_duplicates(values):\n",
        "    print(\"The initial list is {}\".format(values))     \n",
        "    \n",
        "    while len(get_duplicates(values)) != 0:\n",
        "        duplicates = get_duplicates(values)\n",
        "        print(\"Loop iteration: the duplicates in the list are {}\".format(duplicates))\n",
        "        values.remove(duplicates[0])    \n",
        "        \n",
        "    print(\"The list without duplicates is {}\".format(values))\n",
        "    return values"
      ],
      "execution_count": 34,
      "outputs": []
    },
    {
      "cell_type": "code",
      "metadata": {
        "colab": {
          "base_uri": "https://localhost:8080/"
        },
        "id": "781t4TgREpZv",
        "outputId": "bbd52d30-9578-45dc-ae33-2f19b9beedb4"
      },
      "source": [
        "planets = ['mercury', 'earth', 'mars', 'jupiter', 'mars', 'earth']\n",
        "print(get_list_without_duplicates(planets))"
      ],
      "execution_count": 35,
      "outputs": [
        {
          "output_type": "stream",
          "text": [
            "The initial list is ['mercury', 'earth', 'mars', 'jupiter', 'mars', 'earth']\n",
            "Loop iteration: the duplicates in the list are ['earth', 'mars']\n",
            "Loop iteration: the duplicates in the list are ['mars']\n",
            "The list without duplicates is ['mercury', 'jupiter', 'mars', 'earth']\n",
            "['mercury', 'jupiter', 'mars', 'earth']\n"
          ],
          "name": "stdout"
        }
      ]
    },
    {
      "cell_type": "code",
      "metadata": {
        "colab": {
          "base_uri": "https://localhost:8080/"
        },
        "id": "9Y8JKI8jEqq0",
        "outputId": "51f3893b-819a-4c72-9c0f-011fa6cf0171"
      },
      "source": [
        "numbers = [1, 2, 3, 3, 3, 4, 3, 5, 5, 7, 54, 45, 43, 43, 2, 1]\n",
        "print(get_list_without_duplicates(numbers))"
      ],
      "execution_count": 36,
      "outputs": [
        {
          "output_type": "stream",
          "text": [
            "The initial list is [1, 2, 3, 3, 3, 4, 3, 5, 5, 7, 54, 45, 43, 43, 2, 1]\n",
            "Loop iteration: the duplicates in the list are [1, 2, 3, 5, 43]\n",
            "Loop iteration: the duplicates in the list are [2, 3, 5, 43]\n",
            "Loop iteration: the duplicates in the list are [3, 5, 43]\n",
            "Loop iteration: the duplicates in the list are [3, 5, 43]\n",
            "Loop iteration: the duplicates in the list are [3, 5, 43]\n",
            "Loop iteration: the duplicates in the list are [5, 43]\n",
            "Loop iteration: the duplicates in the list are [43]\n",
            "The list without duplicates is [4, 3, 5, 7, 54, 45, 43, 2, 1]\n",
            "[4, 3, 5, 7, 54, 45, 43, 2, 1]\n"
          ],
          "name": "stdout"
        }
      ]
    }
  ]
}