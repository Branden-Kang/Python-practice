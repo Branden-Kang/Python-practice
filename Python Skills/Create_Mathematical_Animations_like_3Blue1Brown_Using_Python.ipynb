{
  "nbformat": 4,
  "nbformat_minor": 0,
  "metadata": {
    "colab": {
      "name": "Create Mathematical Animations like 3Blue1Brown Using Python.ipynb",
      "provenance": [],
      "authorship_tag": "ABX9TyN4Wqdg5t20+0Z4+uOzKH1I"
    },
    "kernelspec": {
      "name": "python3",
      "display_name": "Python 3"
    },
    "language_info": {
      "name": "python"
    }
  },
  "cells": [
    {
      "cell_type": "markdown",
      "metadata": {
        "id": "qXA2jukz5WCa"
      },
      "source": [
        "[Reference](https://towardsdatascience.com/how-to-create-mathematical-animations-like-3blue1brown-using-python-f571fb9da3d1)"
      ]
    },
    {
      "cell_type": "code",
      "metadata": {
        "colab": {
          "base_uri": "https://localhost:8080/"
        },
        "id": "SEVpxd_L5HSI",
        "outputId": "47c78200-bfda-4f56-d77d-af44861c56ad"
      },
      "source": [
        "!pip3 install manim"
      ],
      "execution_count": 5,
      "outputs": [
        {
          "output_type": "stream",
          "text": [
            "Collecting manim\n",
            "  Using cached https://files.pythonhosted.org/packages/0f/98/6b9cc6ac48ec7409c6253e2b2a0db3fd74a87c03eca74f5fc93575d7e393/manim-0.5.0-py3-none-any.whl\n",
            "Requirement already satisfied: scipy in /usr/local/lib/python3.7/dist-packages (from manim) (1.4.1)\n",
            "Collecting pydub\n",
            "  Using cached https://files.pythonhosted.org/packages/a6/53/d78dc063216e62fc55f6b2eebb447f6a4b0a59f55c8406376f76bf959b08/pydub-0.25.1-py2.py3-none-any.whl\n",
            "Requirement already satisfied: tqdm in /usr/local/lib/python3.7/dist-packages (from manim) (4.41.1)\n",
            "Collecting pycairo<2.0,>=1.19\n",
            "  Using cached https://files.pythonhosted.org/packages/9d/6e/499d6a6db416eb3cdf0e57762a269908e4ab6638a75a90972afc34885b91/pycairo-1.20.0.tar.gz\n",
            "  Installing build dependencies ... \u001b[?25l\u001b[?25hdone\n",
            "  Getting requirements to build wheel ... \u001b[?25l\u001b[?25hdone\n",
            "    Preparing wheel metadata ... \u001b[?25l\u001b[?25hdone\n",
            "Collecting moderngl-window<3.0.0,>=2.3.0\n",
            "  Using cached https://files.pythonhosted.org/packages/61/79/2178d46ee8f80bd1e895d3c7baf8618ff9add000a8c944a35f0252d7d53c/moderngl_window-2.3.0-py3-none-any.whl\n",
            "Requirement already satisfied: pygments in /usr/local/lib/python3.7/dist-packages (from manim) (2.6.1)\n",
            "Requirement already satisfied: setuptools in /usr/local/lib/python3.7/dist-packages (from manim) (54.2.0)\n",
            "Requirement already satisfied: importlib-metadata; python_version < \"3.8\" in /usr/local/lib/python3.7/dist-packages (from manim) (3.8.1)\n",
            "Collecting moderngl<6.0.0,>=5.6.3\n",
            "\u001b[?25l  Downloading https://files.pythonhosted.org/packages/77/7f/a90d9747e354133d1ddf87fcb5003fc0ad97f9db240931bb3d92addb6a70/moderngl-5.6.4-cp37-cp37m-manylinux1_x86_64.whl (670kB)\n",
            "\u001b[K     |████████████████████████████████| 675kB 15.1MB/s \n",
            "\u001b[?25hRequirement already satisfied: numpy<2.0,>=1.9 in /usr/local/lib/python3.7/dist-packages (from manim) (1.19.5)\n",
            "Collecting rich<7.0,>=6.0\n",
            "\u001b[?25l  Downloading https://files.pythonhosted.org/packages/58/2c/d04cb7fa7fdf8c89f3bc79b859b74f283369f78dc8caae3e1b91acc1d624/rich-6.2.0-py3-none-any.whl (150kB)\n",
            "\u001b[K     |████████████████████████████████| 153kB 53.4MB/s \n",
            "\u001b[?25hCollecting mapbox-earcut<0.13.0,>=0.12.10\n",
            "  Using cached https://files.pythonhosted.org/packages/2f/59/abd355ef9923a6a0a0ab5fe5a427510ab00e32c9ebc73fb82fe67f624f15/mapbox_earcut-0.12.10-cp37-cp37m-manylinux2010_x86_64.whl\n",
            "Collecting colour\n",
            "  Using cached https://files.pythonhosted.org/packages/74/46/e81907704ab203206769dee1385dc77e1407576ff8f50a0681d0a6b541be/colour-0.1.5-py2.py3-none-any.whl\n",
            "Requirement already satisfied: networkx<3.0,>=2.5 in /usr/local/lib/python3.7/dist-packages (from manim) (2.5)\n",
            "Collecting manimpango<0.3.0,>=0.2.4\n",
            "  Using cached https://files.pythonhosted.org/packages/2e/22/537342bba4bb39f3c47147e5002cc7029285cac3fbdeec31eb85642baa1d/ManimPango-0.2.5.post0.tar.gz\n",
            "  Installing build dependencies ... \u001b[?25l\u001b[?25hdone\n",
            "  Getting requirements to build wheel ... \u001b[?25l\u001b[?25herror\n",
            "\u001b[31mERROR: Command errored out with exit status 1: /usr/bin/python3 /usr/local/lib/python3.7/dist-packages/pip/_vendor/pep517/_in_process.py get_requires_for_build_wheel /tmp/tmp4pw6p6r7 Check the logs for full command output.\u001b[0m\n"
          ],
          "name": "stdout"
        }
      ]
    },
    {
      "cell_type": "code",
      "metadata": {
        "colab": {
          "base_uri": "https://localhost:8080/",
          "height": 436
        },
        "id": "90gzYWPF5MsD",
        "outputId": "a99e0a7a-4b89-44ca-ce97-193e33ac9afd"
      },
      "source": [
        "from manim import * \n",
        "\n",
        "class PointMovingOnShapes(Scene):\n",
        "    def construct(self):\n",
        "        square = Square(color=BLUE) # Create a square\n",
        "        square.flip(RIGHT) # Flip the square to the right\n",
        "        square.rotate(-3 * TAU / 8) # Rotate the square -3/8 * 2*PI \n",
        "\n",
        "         # Play the animation of a square growing from the center\n",
        "        self.play(GrowFromCenter(square))"
      ],
      "execution_count": 6,
      "outputs": [
        {
          "output_type": "error",
          "ename": "ModuleNotFoundError",
          "evalue": "ignored",
          "traceback": [
            "\u001b[0;31m---------------------------------------------------------------------------\u001b[0m",
            "\u001b[0;31mModuleNotFoundError\u001b[0m                       Traceback (most recent call last)",
            "\u001b[0;32m<ipython-input-6-21d1f1ef20b6>\u001b[0m in \u001b[0;36m<module>\u001b[0;34m()\u001b[0m\n\u001b[0;32m----> 1\u001b[0;31m \u001b[0;32mfrom\u001b[0m \u001b[0mmanim\u001b[0m \u001b[0;32mimport\u001b[0m \u001b[0;34m*\u001b[0m\u001b[0;34m\u001b[0m\u001b[0;34m\u001b[0m\u001b[0m\n\u001b[0m\u001b[1;32m      2\u001b[0m \u001b[0;34m\u001b[0m\u001b[0m\n\u001b[1;32m      3\u001b[0m \u001b[0;32mclass\u001b[0m \u001b[0mPointMovingOnShapes\u001b[0m\u001b[0;34m(\u001b[0m\u001b[0mScene\u001b[0m\u001b[0;34m)\u001b[0m\u001b[0;34m:\u001b[0m\u001b[0;34m\u001b[0m\u001b[0;34m\u001b[0m\u001b[0m\n\u001b[1;32m      4\u001b[0m     \u001b[0;32mdef\u001b[0m \u001b[0mconstruct\u001b[0m\u001b[0;34m(\u001b[0m\u001b[0mself\u001b[0m\u001b[0;34m)\u001b[0m\u001b[0;34m:\u001b[0m\u001b[0;34m\u001b[0m\u001b[0;34m\u001b[0m\u001b[0m\n\u001b[1;32m      5\u001b[0m         \u001b[0msquare\u001b[0m \u001b[0;34m=\u001b[0m \u001b[0mSquare\u001b[0m\u001b[0;34m(\u001b[0m\u001b[0mcolor\u001b[0m\u001b[0;34m=\u001b[0m\u001b[0mBLUE\u001b[0m\u001b[0;34m)\u001b[0m \u001b[0;31m# Create a square\u001b[0m\u001b[0;34m\u001b[0m\u001b[0;34m\u001b[0m\u001b[0m\n",
            "\u001b[0;31mModuleNotFoundError\u001b[0m: No module named 'manim'",
            "",
            "\u001b[0;31m---------------------------------------------------------------------------\u001b[0;32m\nNOTE: If your import is failing due to a missing package, you can\nmanually install dependencies using either !pip or !apt.\n\nTo view examples of installing some common dependencies, click the\n\"Open Examples\" button below.\n\u001b[0;31m---------------------------------------------------------------------------\u001b[0m\n"
          ]
        }
      ]
    }
  ]
}