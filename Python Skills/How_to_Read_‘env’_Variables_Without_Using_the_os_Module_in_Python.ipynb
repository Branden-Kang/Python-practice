{
  "nbformat": 4,
  "nbformat_minor": 0,
  "metadata": {
    "colab": {
      "provenance": [],
      "authorship_tag": "ABX9TyNmSacq96A4R0ZQdy0bjfYw"
    },
    "kernelspec": {
      "name": "python3",
      "display_name": "Python 3"
    },
    "language_info": {
      "name": "python"
    }
  },
  "cells": [
    {
      "cell_type": "markdown",
      "source": [
        "[Reference](https://python.plainenglish.io/how-to-read-env-variables-without-using-the-os-module-in-python-4ab23f5429cf)"
      ],
      "metadata": {
        "id": "YAQlE5V47x9Y"
      }
    },
    {
      "cell_type": "markdown",
      "source": [
        "# Using Bash/zsh terminal:"
      ],
      "metadata": {
        "id": "afDGfA0K73Id"
      }
    },
    {
      "cell_type": "code",
      "execution_count": 1,
      "metadata": {
        "id": "Gu9RJkAw7wg4"
      },
      "outputs": [],
      "source": [
        "!export DB_NAME=\"MYSQL_BLOG_SERVER\" \n",
        "!export DB_PASSWORD=\"MYSECRET\" \n",
        "!export API_ENDPOINT=\"https://your-awesome-api/\""
      ]
    },
    {
      "cell_type": "code",
      "source": [
        "import os\n",
        "\n",
        "\n",
        "def get_env_vars():\n",
        "    print(os.environ.get('DB_NAME'))\n",
        "    print(os.environ.get('DB_PASSWORD'))\n",
        "    print(os.environ.get('API_ENDPOINT'))\n",
        "\n",
        "\n",
        "get_env_vars()"
      ],
      "metadata": {
        "colab": {
          "base_uri": "https://localhost:8080/"
        },
        "id": "vEib7sca704R",
        "outputId": "767bf807-eaed-4cef-be66-0cf882e8be87"
      },
      "execution_count": 2,
      "outputs": [
        {
          "output_type": "stream",
          "name": "stdout",
          "text": [
            "None\n",
            "None\n",
            "None\n"
          ]
        }
      ]
    },
    {
      "cell_type": "markdown",
      "source": [
        "# Using .env file:"
      ],
      "metadata": {
        "id": "1k6JMlw47-g_"
      }
    },
    {
      "cell_type": "code",
      "source": [
        "pip install python-dotenv "
      ],
      "metadata": {
        "colab": {
          "base_uri": "https://localhost:8080/"
        },
        "id": "-hjv-dsM73r7",
        "outputId": "e863e625-df75-4d99-ba99-27a7b3f911c6"
      },
      "execution_count": 3,
      "outputs": [
        {
          "output_type": "stream",
          "name": "stdout",
          "text": [
            "Looking in indexes: https://pypi.org/simple, https://us-python.pkg.dev/colab-wheels/public/simple/\n",
            "Collecting python-dotenv\n",
            "  Downloading python_dotenv-0.21.0-py3-none-any.whl (18 kB)\n",
            "Installing collected packages: python-dotenv\n",
            "Successfully installed python-dotenv-0.21.0\n"
          ]
        }
      ]
    },
    {
      "cell_type": "code",
      "source": [
        "import os\n",
        "from dotenv import load_dotenv\n",
        "\n",
        "load_dotenv()\n",
        "\n",
        "\n",
        "def get_env_vars():\n",
        "    print(os.environ.get('DB_NAME'))\n",
        "    print(os.environ.get('DB_PASSWORD'))\n",
        "    print(os.environ.get('API_ENDPOINT'))\n",
        "\n",
        "\n",
        "get_env_vars()"
      ],
      "metadata": {
        "colab": {
          "base_uri": "https://localhost:8080/"
        },
        "id": "eDVVXOIP75RN",
        "outputId": "e9dfb602-c6c5-4111-82a9-41d06f53c53f"
      },
      "execution_count": 4,
      "outputs": [
        {
          "output_type": "stream",
          "name": "stdout",
          "text": [
            "None\n",
            "None\n",
            "None\n"
          ]
        }
      ]
    },
    {
      "cell_type": "markdown",
      "source": [
        "# Access Environment variables using pydantic(without os.environ):"
      ],
      "metadata": {
        "id": "dIN759488CT0"
      }
    },
    {
      "cell_type": "code",
      "source": [
        "from pydantic import BaseSettings\n",
        "from dotenv import load_dotenv\n",
        "\n",
        "load_dotenv()\n",
        "\n",
        "\n",
        "class Settings(BaseSettings):\n",
        "\n",
        "    DB_NAME: str = 'local'\n",
        "    DB_USER: str = 'localuser'\n",
        "    DB_HOST: str = \"mysql.localhost.com\"\n",
        "    DB_PASSWORD: str = \"MYSECRET\" \n",
        "    API_ENDPOINT: str = \"https://your-awesome-api/\""
      ],
      "metadata": {
        "id": "SEpk34Oh77Ak"
      },
      "execution_count": 9,
      "outputs": []
    },
    {
      "cell_type": "code",
      "source": [
        "settings = Settings() \n",
        "\n",
        "print(settings.API_ENDPOINT) \n",
        "print(settings.DB_HOST) \n",
        "print(settings.DB_NAME)"
      ],
      "metadata": {
        "colab": {
          "base_uri": "https://localhost:8080/"
        },
        "id": "bu_EQrlv8BKk",
        "outputId": "edc14536-1498-4d48-db2d-694b4e7882ce"
      },
      "execution_count": 10,
      "outputs": [
        {
          "output_type": "stream",
          "name": "stdout",
          "text": [
            "https://your-awesome-api/\n",
            "mysql.localhost.com\n",
            "local\n"
          ]
        }
      ]
    },
    {
      "cell_type": "code",
      "source": [
        "from pydantic import BaseSettings\n",
        "\n",
        "\n",
        "class Settings(BaseSettings):\n",
        "\n",
        "    DB_NAME: str = 'local'\n",
        "    DB_USER: str = 'localuser'\n",
        "    DB_HOST: str = \"mysql.localhost.com\"\n",
        "    DB_PASSWORD: str = \"MYSECRET\" \n",
        "    API_ENDPOINT: str = \"https://your-awesome-api/\"\n",
        "\n",
        "    class Config:\n",
        "        env_file = \".env\"\n",
        "\n",
        "\n",
        "\n",
        "settings = Settings()\n",
        "print(settings.API_ENDPOINT)\n",
        "print(settings.DB_HOST)\n",
        "print(settings.DB_NAME)"
      ],
      "metadata": {
        "colab": {
          "base_uri": "https://localhost:8080/"
        },
        "id": "pCuYu0hy8djN",
        "outputId": "1f218981-bdc7-44fd-b512-36c4f797aa15"
      },
      "execution_count": 12,
      "outputs": [
        {
          "output_type": "stream",
          "name": "stdout",
          "text": [
            "https://your-awesome-api/\n",
            "mysql.localhost.com\n",
            "local\n"
          ]
        }
      ]
    }
  ]
}
