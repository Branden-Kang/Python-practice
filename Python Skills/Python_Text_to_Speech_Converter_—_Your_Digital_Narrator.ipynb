{
  "nbformat": 4,
  "nbformat_minor": 0,
  "metadata": {
    "colab": {
      "provenance": [],
      "authorship_tag": "ABX9TyPwohFZdquC6VzNKkbFtWp9"
    },
    "kernelspec": {
      "name": "python3",
      "display_name": "Python 3"
    },
    "language_info": {
      "name": "python"
    }
  },
  "cells": [
    {
      "cell_type": "markdown",
      "source": [
        "[Reference](https://medium.com/wiki-flood/python-text-to-speech-converter-your-digital-narrator-0dcdaad7f975)"
      ],
      "metadata": {
        "id": "gOrYByIYaxwG"
      }
    },
    {
      "cell_type": "code",
      "execution_count": 1,
      "metadata": {
        "id": "DufAxzIPY-uj"
      },
      "outputs": [],
      "source": [
        "import tkinter as tk\n",
        "from tkinter import ttk\n",
        "import pyttsx3\n",
        "\n",
        "\n",
        "def convert_text_to_speech():\n",
        "   text = text_entry.get(\"1.0\", \"end-1c\")\n",
        "   engine.say(text)\n",
        "   engine.runAndWait()\n",
        "\n",
        "\n",
        "# Create the main window\n",
        "root = tk.Tk()\n",
        "root.title(\"Flood-Text to Speech\")\n",
        "root.configure(bg='sky blue')\n",
        "\n",
        "\n",
        "# Create a text entry widget\n",
        "text_entry = tk.Text(root, height=20, width=60, bg='white')\n",
        "text_entry.pack(padx=20, pady=20)\n",
        "\n",
        "\n",
        "# Create a button to convert text to speech\n",
        "convert_button = ttk.Button(root, text=\"Convert\", command=convert_text_to_speech, style='Convert.TButton')\n",
        "convert_button.pack(pady=10)\n",
        "\n",
        "\n",
        "# Initialize the TTS engine\n",
        "engine = pyttsx3.init()\n",
        "\n",
        "\n",
        "# Configure the button style\n",
        "style = ttk.Style()\n",
        "style.configure('Convert.TButton', foreground='Red', background='Red', font=('Arial', 12))\n",
        "\n",
        "\n",
        "# Run the main loop\n",
        "root.mainloop()"
      ]
    }
  ]
}
