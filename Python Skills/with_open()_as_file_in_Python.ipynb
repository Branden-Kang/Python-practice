{
  "nbformat": 4,
  "nbformat_minor": 0,
  "metadata": {
    "colab": {
      "name": "with open() as file in Python.ipynb",
      "provenance": [],
      "authorship_tag": "ABX9TyNyVfDaskinte/8y9jMArZ6"
    },
    "kernelspec": {
      "name": "python3",
      "display_name": "Python 3"
    }
  },
  "cells": [
    {
      "cell_type": "markdown",
      "metadata": {
        "id": "KtUqA2EyVCls"
      },
      "source": [
        "[Reference](https://medium.com/better-programming/context-managers-in-python-go-beyond-with-open-as-file-85a27e392114)"
      ]
    },
    {
      "cell_type": "code",
      "metadata": {
        "id": "3Cs79VoSKiIW"
      },
      "source": [
        "with open('hello.txt', 'w') as file:\n",
        "    file.write(\"Hello World!\")"
      ],
      "execution_count": 8,
      "outputs": []
    },
    {
      "cell_type": "code",
      "metadata": {
        "id": "iJaFx7yzK-5U",
        "outputId": "e7c0aec8-3663-4d08-f61e-413bb5437f8d",
        "colab": {
          "base_uri": "https://localhost:8080/",
          "height": 34
        }
      },
      "source": [
        "with open('hello.txt', 'r') as file:\n",
        "     text = file.read()\n",
        "     print('Text in the file:', text)"
      ],
      "execution_count": 9,
      "outputs": [
        {
          "output_type": "stream",
          "text": [
            "Text in the file: Hello World!\n"
          ],
          "name": "stdout"
        }
      ]
    },
    {
      "cell_type": "code",
      "metadata": {
        "id": "nelg8skAKz3a",
        "outputId": "c3cc8cc8-71e5-463c-d094-cca6f185f60a",
        "colab": {
          "base_uri": "https://localhost:8080/",
          "height": 34
        }
      },
      "source": [
        "closed = file.closed\n",
        "print(\"Is the file closed?\", closed)"
      ],
      "execution_count": 11,
      "outputs": [
        {
          "output_type": "stream",
          "text": [
            "Is the file closed? True\n"
          ],
          "name": "stdout"
        }
      ]
    },
    {
      "cell_type": "code",
      "metadata": {
        "id": "aSSoHqUKK3Ru",
        "outputId": "f39eaaf8-bda3-4dca-bf6f-f73fb2848a3a",
        "colab": {
          "base_uri": "https://localhost:8080/"
        }
      },
      "source": [
        "file0 = open(\"hello.txt\", \"a\")\n",
        "file0.write(\"\\nHello World Again!\")"
      ],
      "execution_count": 12,
      "outputs": [
        {
          "output_type": "execute_result",
          "data": {
            "text/plain": [
              "19"
            ]
          },
          "metadata": {
            "tags": []
          },
          "execution_count": 12
        }
      ]
    },
    {
      "cell_type": "code",
      "metadata": {
        "id": "VuBbYADHVUEi"
      },
      "source": [
        "file1 = open(\"hello.txt\")"
      ],
      "execution_count": 13,
      "outputs": []
    },
    {
      "cell_type": "code",
      "metadata": {
        "id": "M2ww4FQVVU5o",
        "outputId": "84333639-556a-41a1-991d-6899cef5caf5",
        "colab": {
          "base_uri": "https://localhost:8080/",
          "height": 34
        }
      },
      "source": [
        "print(file1.read())"
      ],
      "execution_count": 14,
      "outputs": [
        {
          "output_type": "stream",
          "text": [
            "Hello World!\n"
          ],
          "name": "stdout"
        }
      ]
    },
    {
      "cell_type": "code",
      "metadata": {
        "id": "O99DOS_uVVqA"
      },
      "source": [
        "file1.close()"
      ],
      "execution_count": 15,
      "outputs": []
    },
    {
      "cell_type": "markdown",
      "metadata": {
        "id": "eO7CsKoXVhmr"
      },
      "source": [
        "# Context Managers"
      ]
    },
    {
      "cell_type": "code",
      "metadata": {
        "id": "CzYbqGafVcHB"
      },
      "source": [
        "try:\n",
        "    # open the file and create the object\n",
        "    file = open('hello.txt')\n",
        "    # do particular operations\n",
        "except Exception:\n",
        "    # handle any possible exceptions\n",
        "    raise \n",
        "finally:\n",
        "    # Release the file\n",
        "    file.close()"
      ],
      "execution_count": 16,
      "outputs": []
    },
    {
      "cell_type": "code",
      "metadata": {
        "id": "4ZKtv-MTVjD9",
        "outputId": "abb99ed2-1393-4515-cf60-f58a913c85e3",
        "colab": {
          "base_uri": "https://localhost:8080/",
          "height": 68
        }
      },
      "source": [
        "def invocation_log(func):\n",
        "    def inner_func(*args, **kwargs):\n",
        "        print(f'Before Calling {func.__name__}')\n",
        "        func(*args, **kwargs)\n",
        "        print(f'After Calling {func.__name__}')\n",
        "\n",
        "    return inner_func\n",
        "\n",
        "\n",
        "@invocation_log\n",
        "def say_hello(name):\n",
        "    print(f\"Hello, {name}!\")\n",
        "\n",
        "\n",
        "say_hello(\"Python\")"
      ],
      "execution_count": 18,
      "outputs": [
        {
          "output_type": "stream",
          "text": [
            "Before Calling say_hello\n",
            "Hello, Python!\n",
            "After Calling say_hello\n"
          ],
          "name": "stdout"
        }
      ]
    },
    {
      "cell_type": "code",
      "metadata": {
        "id": "SAkx6lRMVowG",
        "outputId": "3555521a-f40b-4a74-b537-600d237756d2",
        "colab": {
          "base_uri": "https://localhost:8080/",
          "height": 68
        }
      },
      "source": [
        "from contextlib import contextmanager\n",
        "\n",
        "@contextmanager\n",
        "def context_manager_example():\n",
        "    print(\"Create the context\")\n",
        "    yield\n",
        "    print(\"Destroy the context\")\n",
        "\n",
        "\n",
        "with context_manager_example():\n",
        "    print(\"Run operations with the context\")"
      ],
      "execution_count": 19,
      "outputs": [
        {
          "output_type": "stream",
          "text": [
            "Create the context\n",
            "Run operations with the context\n",
            "Destroy the context\n"
          ],
          "name": "stdout"
        }
      ]
    }
  ]
}