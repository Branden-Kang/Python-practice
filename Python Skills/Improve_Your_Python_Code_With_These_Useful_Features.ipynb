{
  "nbformat": 4,
  "nbformat_minor": 0,
  "metadata": {
    "colab": {
      "name": "Improve Your Python Code With These Useful Features.ipynb",
      "provenance": [],
      "authorship_tag": "ABX9TyMaKbpHPij2wLYomJW+nc76"
    },
    "kernelspec": {
      "name": "python3",
      "display_name": "Python 3"
    },
    "language_info": {
      "name": "python"
    }
  },
  "cells": [
    {
      "cell_type": "markdown",
      "metadata": {
        "id": "q0jrYm7ASKgb"
      },
      "source": [
        "[Reference](https://python.plainenglish.io/features-in-python-everyone-needs-to-know-59db6fb275a9)"
      ]
    },
    {
      "cell_type": "code",
      "metadata": {
        "colab": {
          "base_uri": "https://localhost:8080/"
        },
        "id": "cvGWTHecM_eJ",
        "outputId": "5de51a04-d059-41bd-a6a4-a0e94f679ec0"
      },
      "source": [
        "from collections import namedtuple\n",
        "c = namedtuple(\"coordinates\", [\"X\", \"Y\"])\n",
        "pos = c(1,3)\n",
        "print(pos)\n",
        "print(pos.X)\n",
        "print(pos.Y)"
      ],
      "execution_count": 5,
      "outputs": [
        {
          "output_type": "stream",
          "text": [
            "coordinates(X=1, Y=3)\n",
            "1\n",
            "3\n"
          ],
          "name": "stdout"
        }
      ]
    },
    {
      "cell_type": "code",
      "metadata": {
        "colab": {
          "base_uri": "https://localhost:8080/"
        },
        "id": "P_EM2dUuRRzg",
        "outputId": "6c0276c7-7f5f-4287-dc5f-416defb90732"
      },
      "source": [
        "pip install dotmap"
      ],
      "execution_count": 2,
      "outputs": [
        {
          "output_type": "stream",
          "text": [
            "Collecting dotmap\n",
            "  Downloading https://files.pythonhosted.org/packages/17/6f/c94adbb0e6d418ededbf1082a3067f178fb012573b960d446e5655e6fbe1/dotmap-1.3.23-py3-none-any.whl\n",
            "Installing collected packages: dotmap\n",
            "Successfully installed dotmap-1.3.23\n"
          ],
          "name": "stdout"
        }
      ]
    },
    {
      "cell_type": "code",
      "metadata": {
        "colab": {
          "base_uri": "https://localhost:8080/"
        },
        "id": "RTwjGbz_ROhT",
        "outputId": "f9997e77-d30c-45d5-d9f7-29d1de0f223b"
      },
      "source": [
        "from dotmap import DotMap\n",
        "m = DotMap({\"X\":1, \"Y\":2})\n",
        "print(m.X)"
      ],
      "execution_count": 4,
      "outputs": [
        {
          "output_type": "stream",
          "text": [
            "1\n"
          ],
          "name": "stdout"
        }
      ]
    },
    {
      "cell_type": "code",
      "metadata": {
        "id": "t9yzRxtiRgvh"
      },
      "source": [
        "def factorial(n):\n",
        "    return n * factorial(n-1) if n> 1 else 1"
      ],
      "execution_count": 7,
      "outputs": []
    },
    {
      "cell_type": "code",
      "metadata": {
        "colab": {
          "base_uri": "https://localhost:8080/"
        },
        "id": "K37E-xcuRlgt",
        "outputId": "f5f27624-4628-41ce-a43b-9a0bd37f2efc"
      },
      "source": [
        "from time import time\n",
        "start_time = time()\n",
        "out = factorial(10)\n",
        "print(f\"time taken: {time() - start_time}\")"
      ],
      "execution_count": 9,
      "outputs": [
        {
          "output_type": "stream",
          "text": [
            "time taken: 4.696846008300781e-05\n"
          ],
          "name": "stdout"
        }
      ]
    },
    {
      "cell_type": "code",
      "metadata": {
        "id": "zuK0YIexRq_x"
      },
      "source": [
        "def calculate_time(f):\n",
        "    def wrapper(*args, **Kwargs):\n",
        "        st = time()\n",
        "        out = f(*args, **Kwargs)\n",
        "        print(f\"{f.__name__}: {time() - st}\")\n",
        "        return out\n",
        "    return wrapper"
      ],
      "execution_count": 10,
      "outputs": []
    },
    {
      "cell_type": "code",
      "metadata": {
        "id": "xijxY9VmRvS5"
      },
      "source": [
        "@calculate_time\n",
        "def factorial(n):\n",
        "    output = 1\n",
        "    for i in range(n):\n",
        "        output *= i\n",
        "    return output"
      ],
      "execution_count": 11,
      "outputs": []
    },
    {
      "cell_type": "code",
      "metadata": {
        "id": "txYiEd24Rw_l"
      },
      "source": [
        "def retry(retry_count=2, time_out=1):\n",
        "    def decorator(func):\n",
        "        def wrapper(*args, **kwargs):\n",
        "            init_time = time()\n",
        "            for i in range(1, retry_count):\n",
        "                print(\"loop count: %d\" % i)\n",
        "                while (time() - init_time <= time_out):\n",
        "                    # if the execution happends we return output\n",
        "                    # Incase it failes we will retrun the funciton for timeout seconds\n",
        "                    # If it executes without error in any of the retruns we return the output\n",
        "                    # Still if issue is seen we will allow it to redo the process for retry_count\n",
        "                    # even after all that function fails we will return false\n",
        "                    try:\n",
        "                        print(\"executing---> %s()\"% f.__name__) \n",
        "                        out = func(*args, **kwargs)\n",
        "                        return out;\n",
        "                    except Exception as e:\n",
        "                        print(\"error---->\",e.__class__)\n",
        "            return False\n",
        "        return wrapper\n",
        "    return decorator"
      ],
      "execution_count": 12,
      "outputs": []
    },
    {
      "cell_type": "code",
      "metadata": {
        "colab": {
          "base_uri": "https://localhost:8080/"
        },
        "id": "Oph0bX_tRzD8",
        "outputId": "3999190d-6b0d-46e5-9e24-d06941e7f350"
      },
      "source": [
        "b = lambda: 1\n",
        "b()\n",
        "\n",
        "sum= lambda x, y: x +y\n",
        "sum(1, 2)"
      ],
      "execution_count": 13,
      "outputs": [
        {
          "output_type": "execute_result",
          "data": {
            "text/plain": [
              "3"
            ]
          },
          "metadata": {
            "tags": []
          },
          "execution_count": 13
        }
      ]
    },
    {
      "cell_type": "code",
      "metadata": {
        "colab": {
          "base_uri": "https://localhost:8080/"
        },
        "id": "yT_sKQNKR2ns",
        "outputId": "71529ac8-2eee-44c2-9e3d-df6803399adf"
      },
      "source": [
        "sum = 0 \n",
        "for x in [1, 2, 3, 4, 5]:\n",
        "     sum = sum +1\n",
        "sum"
      ],
      "execution_count": 14,
      "outputs": [
        {
          "output_type": "execute_result",
          "data": {
            "text/plain": [
              "5"
            ]
          },
          "metadata": {
            "tags": []
          },
          "execution_count": 14
        }
      ]
    },
    {
      "cell_type": "code",
      "metadata": {
        "colab": {
          "base_uri": "https://localhost:8080/"
        },
        "id": "QDgYdvTdR5Yi",
        "outputId": "44d63c54-9289-43af-c450-0eb6a56838d9"
      },
      "source": [
        "from functools import reduce\n",
        "reduce(lambda x, y: x+y, [1, 2, 3, 4, 5])"
      ],
      "execution_count": 15,
      "outputs": [
        {
          "output_type": "execute_result",
          "data": {
            "text/plain": [
              "15"
            ]
          },
          "metadata": {
            "tags": []
          },
          "execution_count": 15
        }
      ]
    },
    {
      "cell_type": "code",
      "metadata": {
        "colab": {
          "base_uri": "https://localhost:8080/"
        },
        "id": "c79eVCFkR7zh",
        "outputId": "afbed066-2a79-4218-a8c3-cbc24ba1dfce"
      },
      "source": [
        "[x for x in [1, 2, 3, 4, 5] if x >3 ]"
      ],
      "execution_count": 16,
      "outputs": [
        {
          "output_type": "execute_result",
          "data": {
            "text/plain": [
              "[4, 5]"
            ]
          },
          "metadata": {
            "tags": []
          },
          "execution_count": 16
        }
      ]
    },
    {
      "cell_type": "code",
      "metadata": {
        "colab": {
          "base_uri": "https://localhost:8080/"
        },
        "id": "vzlL2_dSR9K-",
        "outputId": "3cea7f10-ca83-47eb-f753-3128aab1dd06"
      },
      "source": [
        "list(filter(lambda x: x> 3, [1,2,3,4,5]))"
      ],
      "execution_count": 17,
      "outputs": [
        {
          "output_type": "execute_result",
          "data": {
            "text/plain": [
              "[4, 5]"
            ]
          },
          "metadata": {
            "tags": []
          },
          "execution_count": 17
        }
      ]
    },
    {
      "cell_type": "code",
      "metadata": {
        "colab": {
          "base_uri": "https://localhost:8080/"
        },
        "id": "DnJOqrnRR_BX",
        "outputId": "7fba68c2-d8e2-42cb-9c8b-5310ecf4c95c"
      },
      "source": [
        "[x**2 for x in [1, 2, 3, 4, 5]]"
      ],
      "execution_count": 19,
      "outputs": [
        {
          "output_type": "execute_result",
          "data": {
            "text/plain": [
              "[1, 4, 9, 16, 25]"
            ]
          },
          "metadata": {
            "tags": []
          },
          "execution_count": 19
        }
      ]
    },
    {
      "cell_type": "code",
      "metadata": {
        "colab": {
          "base_uri": "https://localhost:8080/"
        },
        "id": "JRcVsEHZSAp5",
        "outputId": "d7c8bf9c-c93e-4fe0-9a20-306e43e3aec7"
      },
      "source": [
        "list(map(lambda x: x> 3, [1,2,3,4,5]))"
      ],
      "execution_count": 20,
      "outputs": [
        {
          "output_type": "execute_result",
          "data": {
            "text/plain": [
              "[False, False, False, True, True]"
            ]
          },
          "metadata": {
            "tags": []
          },
          "execution_count": 20
        }
      ]
    },
    {
      "cell_type": "code",
      "metadata": {
        "id": "bnnPqihcSCw0"
      },
      "source": [
        "a = [1,2,3,4,5]\n",
        "length = len(a)\n",
        "for i in range(1, length):\n",
        "    a[i] += a[i-1]"
      ],
      "execution_count": 21,
      "outputs": []
    },
    {
      "cell_type": "code",
      "metadata": {
        "colab": {
          "base_uri": "https://localhost:8080/"
        },
        "id": "yooSaw_1SEiA",
        "outputId": "1949ecc3-8376-4b7b-c172-69df16dad9af"
      },
      "source": [
        "from itertools import accumulate\n",
        "list(accumulate([1,2,3,4, 5], lambda x, y : x+y))"
      ],
      "execution_count": 22,
      "outputs": [
        {
          "output_type": "execute_result",
          "data": {
            "text/plain": [
              "[1, 3, 6, 10, 15]"
            ]
          },
          "metadata": {
            "tags": []
          },
          "execution_count": 22
        }
      ]
    }
  ]
}