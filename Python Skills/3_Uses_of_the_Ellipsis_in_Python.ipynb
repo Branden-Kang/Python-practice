{
  "nbformat": 4,
  "nbformat_minor": 0,
  "metadata": {
    "colab": {
      "name": "3 Uses of the Ellipsis in Python.ipynb",
      "provenance": [],
      "authorship_tag": "ABX9TyO4Z4hcYezSdkQOdhP3KmRg"
    },
    "kernelspec": {
      "name": "python3",
      "display_name": "Python 3"
    },
    "language_info": {
      "name": "python"
    }
  },
  "cells": [
    {
      "cell_type": "markdown",
      "metadata": {
        "id": "KQbpgdfrvaRe"
      },
      "source": [
        "[Reference](https://medium.com/techtofreedom/3-uses-of-the-ellipsis-in-python-25795aac723d)"
      ]
    },
    {
      "cell_type": "code",
      "metadata": {
        "colab": {
          "base_uri": "https://localhost:8080/"
        },
        "id": "MnBrjIlZskab",
        "outputId": "a34a45e0-9ab8-4c1e-9d78-abdb057acef6"
      },
      "source": [
        "..."
      ],
      "execution_count": null,
      "outputs": [
        {
          "output_type": "execute_result",
          "data": {
            "text/plain": [
              "Ellipsis"
            ]
          },
          "metadata": {
            "tags": []
          },
          "execution_count": 1
        }
      ]
    },
    {
      "cell_type": "code",
      "metadata": {
        "colab": {
          "base_uri": "https://localhost:8080/"
        },
        "id": "HchKdeKIvgcS",
        "outputId": "359f4de8-ad1b-4af1-9f45-63ef82655085"
      },
      "source": [
        "Ellipsis"
      ],
      "execution_count": null,
      "outputs": [
        {
          "output_type": "execute_result",
          "data": {
            "text/plain": [
              "Ellipsis"
            ]
          },
          "metadata": {
            "tags": []
          },
          "execution_count": 2
        }
      ]
    },
    {
      "cell_type": "code",
      "metadata": {
        "id": "ogm-r2mavh6i"
      },
      "source": [
        "def write_an_article():\n",
        "    ...\n",
        "\n",
        "\n",
        "class Article:\n",
        "    ..."
      ],
      "execution_count": null,
      "outputs": []
    },
    {
      "cell_type": "code",
      "metadata": {
        "id": "zwjTNtScvj1Q"
      },
      "source": [
        "def write_an_article():\n",
        "    pass\n",
        "\n",
        "\n",
        "class Article:\n",
        "    pass"
      ],
      "execution_count": null,
      "outputs": []
    },
    {
      "cell_type": "code",
      "metadata": {
        "colab": {
          "base_uri": "https://localhost:8080/"
        },
        "id": "7cEbq2ttvlDf",
        "outputId": "e7bb7c1d-95af-4e30-8ac7-ce839dc5c8c4"
      },
      "source": [
        "import numpy as np\n",
        "\n",
        "A = np.random.rand(2, 3, 2)\n",
        "print(A)"
      ],
      "execution_count": null,
      "outputs": [
        {
          "output_type": "stream",
          "text": [
            "[[[0.24510886 0.12749783]\n",
            "  [0.51061087 0.33229199]\n",
            "  [0.6284961  0.97761928]]\n",
            "\n",
            " [[0.99843328 0.36596301]\n",
            "  [0.03018566 0.60883873]\n",
            "  [0.40258632 0.04382473]]]\n"
          ],
          "name": "stdout"
        }
      ]
    },
    {
      "cell_type": "code",
      "metadata": {
        "colab": {
          "base_uri": "https://localhost:8080/"
        },
        "id": "kbjbzUrUvmbN",
        "outputId": "494496ae-ea6e-4151-b398-2045d2944d37"
      },
      "source": [
        "print(A[:, :, 1])"
      ],
      "execution_count": null,
      "outputs": [
        {
          "output_type": "stream",
          "text": [
            "[[0.12749783 0.33229199 0.97761928]\n",
            " [0.36596301 0.60883873 0.04382473]]\n"
          ],
          "name": "stdout"
        }
      ]
    },
    {
      "cell_type": "code",
      "metadata": {
        "colab": {
          "base_uri": "https://localhost:8080/"
        },
        "id": "XU18axdEvn67",
        "outputId": "4b300c06-8203-440b-d7c9-86561bff1d4a"
      },
      "source": [
        "print(A[..., 1])"
      ],
      "execution_count": null,
      "outputs": [
        {
          "output_type": "stream",
          "text": [
            "[[0.12749783 0.33229199 0.97761928]\n",
            " [0.36596301 0.60883873 0.04382473]]\n"
          ],
          "name": "stdout"
        }
      ]
    },
    {
      "cell_type": "code",
      "metadata": {
        "colab": {
          "base_uri": "https://localhost:8080/"
        },
        "id": "nBbz37XZvpFp",
        "outputId": "f5faf7be-ea30-4536-ed89-0818715e0a4e"
      },
      "source": [
        "print(A[Ellipsis, 1])"
      ],
      "execution_count": null,
      "outputs": [
        {
          "output_type": "stream",
          "text": [
            "[[0.12749783 0.33229199 0.97761928]\n",
            " [0.36596301 0.60883873 0.04382473]]\n"
          ],
          "name": "stdout"
        }
      ]
    },
    {
      "cell_type": "code",
      "metadata": {
        "id": "lnUslMIuvqsQ"
      },
      "source": [
        "def partial(func: Callable[..., str], *args) -> Callable[..., str]:\n",
        "    # Body"
      ],
      "execution_count": null,
      "outputs": []
    }
  ]
}