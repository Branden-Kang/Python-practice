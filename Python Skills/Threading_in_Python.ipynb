{
  "nbformat": 4,
  "nbformat_minor": 0,
  "metadata": {
    "colab": {
      "provenance": [],
      "authorship_tag": "ABX9TyPpjs5E9DgiXLkJJUzsV9jO"
    },
    "kernelspec": {
      "name": "python3",
      "display_name": "Python 3"
    },
    "language_info": {
      "name": "python"
    }
  },
  "cells": [
    {
      "cell_type": "markdown",
      "source": [
        "[Reference](https://blog.devgenius.io/threading-in-python-d115943e7ec4)"
      ],
      "metadata": {
        "id": "2wzh6Wkbzhzb"
      }
    },
    {
      "cell_type": "code",
      "execution_count": 1,
      "metadata": {
        "id": "yxjhCipzzO4w"
      },
      "outputs": [],
      "source": [
        "import requests\n",
        "import random\n",
        "\n",
        "def get_data(idx: int) -> str:\n",
        "    url = f\"https://jsonplaceholder.typicode.com/todos/{idx}\"\n",
        "    response = requests.get(url)\n",
        "    return response.json()[\"title\"]"
      ]
    },
    {
      "cell_type": "code",
      "source": [
        "def main():\n",
        "    idx = random.randint(1, 100)\n",
        "    text = get_data(idx)\n",
        "    print(text)\n",
        "    return text\n",
        "\n",
        "if __name__ == \"__main__\":\n",
        "    main()"
      ],
      "metadata": {
        "colab": {
          "base_uri": "https://localhost:8080/"
        },
        "id": "e1HhJ_vszlt5",
        "outputId": "0504a772-581a-410e-b4c5-960b5787c490"
      },
      "execution_count": 2,
      "outputs": [
        {
          "output_type": "stream",
          "name": "stdout",
          "text": [
            "nemo perspiciatis repellat ut dolor libero commodi blanditiis omnis\n"
          ]
        }
      ]
    },
    {
      "cell_type": "code",
      "source": [
        "import threading\n",
        "import requests\n",
        "import time\n",
        "import random\n",
        "\n",
        "results = []\n",
        "\n",
        "def get_data(idx: int) -> str:\n",
        "    url = f\"https://jsonplaceholder.typicode.com/todos/{idx}\"\n",
        "    response = requests.get(url)\n",
        "    results.append(response)\n",
        "    return\n",
        "\n",
        "def main() -> None:\n",
        "    idx = random.randint(1, 100)\n",
        "    start = time.time()\n",
        "    for _ in range(50):\n",
        "        get_data(idx)\n",
        "    end = time.time()\n",
        "    print(f\"Time: {end-start}\")\n",
        "    return\n",
        "\n",
        "if __name__ == \"__main__\":\n",
        "    main()"
      ],
      "metadata": {
        "colab": {
          "base_uri": "https://localhost:8080/"
        },
        "id": "OSPe-ojhznO7",
        "outputId": "1d87ca31-750d-4607-b156-84becb3c2ecc"
      },
      "execution_count": 3,
      "outputs": [
        {
          "output_type": "stream",
          "name": "stdout",
          "text": [
            "Time: 10.535351753234863\n"
          ]
        }
      ]
    },
    {
      "cell_type": "code",
      "source": [
        "def main():\n",
        "    idx = random.randint(1, 100)\n",
        "    start = time.time()\n",
        "    threads = []\n",
        "\n",
        "    for _ in range(50):\n",
        "        thread = threading.Thread(target=get_data, args=(idx,))\n",
        "        thread.start()\n",
        "        threads.append(thread)\n",
        "\n",
        "    for thread in threads:\n",
        "        thread.join()\n",
        "\n",
        "    end = time.time()\n",
        "    print(f\"Time: {end-start}\")\n",
        "    return"
      ],
      "metadata": {
        "id": "IApj2O2EzoVf"
      },
      "execution_count": 4,
      "outputs": []
    },
    {
      "cell_type": "code",
      "source": [
        "import threading\n",
        "import time\n",
        "\n",
        "def foo():\n",
        "    print(\"Thread started\")\n",
        "    time.sleep(2)\n",
        "    print(\"Thread finished\")\n",
        "\n",
        "# create a Thread object\n",
        "t = threading.Thread(target=foo)\n",
        "\n",
        "# start the thread\n",
        "t.start()\n",
        "\n",
        "# wait for the thread to finish\n",
        "t.join()\n",
        "\n",
        "print(\"Main program continues\")"
      ],
      "metadata": {
        "colab": {
          "base_uri": "https://localhost:8080/"
        },
        "id": "HAo6Fn7MzqfL",
        "outputId": "d5cb453a-65bc-44f6-fea5-e5937b22392b"
      },
      "execution_count": 5,
      "outputs": [
        {
          "output_type": "stream",
          "name": "stdout",
          "text": [
            "Thread started\n",
            "Thread finished\n",
            "Main program continues\n"
          ]
        }
      ]
    },
    {
      "cell_type": "code",
      "source": [
        "import threading\n",
        "import time\n",
        "\n",
        "lock = threading.Lock()\n",
        "\n",
        "# Shared resource\n",
        "shared = 0\n",
        "\n",
        "\n",
        "def foo():\n",
        "    global shared\n",
        "\n",
        "    thread_id = threading.get_ident()\n",
        "    # Acquire the lock\n",
        "    print(f\"Thread {thread_id} is trying to acquire the lock\")\n",
        "    lock.acquire()\n",
        "    print(f\"Thread {thread_id} has acquired the lock\")\n",
        "\n",
        "    try:\n",
        "        # Critical section\n",
        "        print(f\"Thread {thread_id} is inside the critical section\")\n",
        "        for _ in range(5):\n",
        "            shared += 1\n",
        "            time.sleep(0.1)\n",
        "    finally:\n",
        "        # Release the lock\n",
        "        lock.release()\n",
        "        print(f\"Thread {thread_id} has released the lock\")\n",
        "\n",
        "\n",
        "# Create multiple threads that increment the shared variable\n",
        "threads = []\n",
        "for _ in range(3):\n",
        "    thread = threading.Thread(target=foo)\n",
        "    threads.append(thread)\n",
        "    thread.start()\n",
        "\n",
        "# Wait for all threads to finish\n",
        "for thread in threads:\n",
        "    thread.join()\n",
        "\n",
        "# Print the final value of the shared variable\n",
        "print(\"Final value of the shared variable:\", shared)"
      ],
      "metadata": {
        "colab": {
          "base_uri": "https://localhost:8080/"
        },
        "id": "ULRRSGPwzsZU",
        "outputId": "cc56d31d-69b2-4df0-d843-1148250925b3"
      },
      "execution_count": 6,
      "outputs": [
        {
          "output_type": "stream",
          "name": "stdout",
          "text": [
            "Thread 137194668811840 is trying to acquire the lock\n",
            "Thread 137194668811840 has acquired the lock\n",
            "Thread 137194668811840 is inside the critical section\n",
            "Thread 137194626848320 is trying to acquire the lockThread 137194064832064 is trying to acquire the lock\n",
            "\n",
            "Thread 137194668811840 has released the lockThread 137194064832064 has acquired the lock\n",
            "Thread 137194064832064 is inside the critical section\n",
            "\n",
            "Thread 137194064832064 has released the lock\n",
            "Thread 137194626848320 has acquired the lock\n",
            "Thread 137194626848320 is inside the critical section\n",
            "Thread 137194626848320 has released the lock\n",
            "Final value of the shared variable: 15\n"
          ]
        }
      ]
    },
    {
      "cell_type": "code",
      "source": [
        "import threading\n",
        "\n",
        "# Shared resource\n",
        "shared_variable = 0\n",
        "\n",
        "# Create a lock and condition object\n",
        "lock = threading.Lock()\n",
        "condition = threading.Condition(lock)\n",
        "\n",
        "def consumer():\n",
        "    global shared_variable\n",
        "\n",
        "    with condition:\n",
        "        # Wait until the shared variable is positive\n",
        "        while shared_variable <= 0:\n",
        "            thread_id = threading.get_ident()\n",
        "            print(f\"Consumer ({thread_id}) is waiting...\")\n",
        "            condition.wait()\n",
        "\n",
        "        # Consume the shared variable\n",
        "        thread_id = threading.get_ident()\n",
        "        print(f\"Consumer ({thread_id}) consumed: {shared_variable}\")\n",
        "        shared_variable = 0\n",
        "\n",
        "def producer():\n",
        "    global shared_variable\n",
        "\n",
        "    with condition:\n",
        "        # Produce a positive value for the shared variable\n",
        "        shared_variable = 42\n",
        "        thread_id = threading.get_ident()\n",
        "        print(f\"Producer ({thread_id}) produced: {shared_variable}\")\n",
        "\n",
        "        # Notify the consumer that the condition is satisfied\n",
        "        condition.notify()\n",
        "\n",
        "# Create consumer and producer threads\n",
        "consumer_thread = threading.Thread(target=consumer)\n",
        "producer_thread = threading.Thread(target=producer)\n",
        "\n",
        "# Start the threads\n",
        "consumer_thread.start()\n",
        "producer_thread.start()\n",
        "\n",
        "# Wait for the threads to finish\n",
        "consumer_thread.join()\n",
        "producer_thread.join()"
      ],
      "metadata": {
        "colab": {
          "base_uri": "https://localhost:8080/"
        },
        "id": "vYk50ziEzuwW",
        "outputId": "448a2a9b-1dee-45cb-877d-8be0653c4af9"
      },
      "execution_count": 7,
      "outputs": [
        {
          "output_type": "stream",
          "name": "stdout",
          "text": [
            "Consumer (137194626848320) is waiting...\n",
            "Producer (137194064832064) produced: 42\n",
            "Consumer (137194626848320) consumed: 42\n"
          ]
        }
      ]
    },
    {
      "cell_type": "code",
      "source": [
        "import threading\n",
        "import time\n",
        "import random\n",
        "# Create a semaphore with an initial value of 2\n",
        "semaphore = threading.Semaphore(2)\n",
        "\n",
        "\n",
        "def worker():\n",
        "    semaphore.acquire()\n",
        "    thread_id = threading.get_ident()\n",
        "    print(f\"Thread {thread_id} acquired the semaphore.\")\n",
        "    time.sleep(random.randint(1, 3))\n",
        "    # Perform some task here\n",
        "    print(f\"Thread {thread_id} releasing the semaphore.\")\n",
        "    semaphore.release()\n",
        "\n",
        "\n",
        "# Create worker threads\n",
        "threads = []\n",
        "for _ in range(5):\n",
        "    t = threading.Thread(target=worker)\n",
        "    threads.append(t)\n",
        "    t.start()\n",
        "\n",
        "# Wait for the threads to finish\n",
        "for t in threads:\n",
        "    t.join()\n"
      ],
      "metadata": {
        "colab": {
          "base_uri": "https://localhost:8080/"
        },
        "id": "bthy4NP9zwpj",
        "outputId": "0b477f53-a196-4010-b195-413def71560c"
      },
      "execution_count": 8,
      "outputs": [
        {
          "output_type": "stream",
          "name": "stdout",
          "text": [
            "Thread 137194626848320 acquired the semaphore.\n",
            "Thread 137194064832064 acquired the semaphore.\n",
            "Thread 137194064832064 releasing the semaphore.\n",
            "Thread 137194668811840 acquired the semaphore.\n",
            "Thread 137194626848320 releasing the semaphore.\n",
            "Thread 137194056439360 acquired the semaphore.\n",
            "Thread 137194668811840 releasing the semaphore.\n",
            "Thread 137194048046656 acquired the semaphore.\n",
            "Thread 137194056439360 releasing the semaphore.\n",
            "Thread 137194048046656 releasing the semaphore.\n"
          ]
        }
      ]
    },
    {
      "cell_type": "code",
      "source": [
        "import threading\n",
        "import time\n",
        "\n",
        "# Create an event\n",
        "event = threading.Event()\n",
        "\n",
        "\n",
        "def worker():\n",
        "    thread_id = threading.get_ident()\n",
        "    print(f\"Worker {thread_id} is waiting for the event.\")\n",
        "    event.wait()\n",
        "    print(f\"Worker {thread_id} has been notified of the event.\")\n",
        "\n",
        "\n",
        "# Create worker threads\n",
        "threads = []\n",
        "for _ in range(3):\n",
        "    t = threading.Thread(target=worker)\n",
        "    threads.append(t)\n",
        "    t.start()\n",
        "\n",
        "# Sleep for some time\n",
        "time.sleep(2)\n",
        "\n",
        "# Set the event\n",
        "event.set()\n",
        "print(\"Event has been set.\")\n",
        "\n",
        "# Wait for the threads to finish\n",
        "for t in threads:\n",
        "    t.join()\n"
      ],
      "metadata": {
        "colab": {
          "base_uri": "https://localhost:8080/"
        },
        "id": "0ggXP5yIzyC9",
        "outputId": "5d21b7f6-8cc3-4b2e-d7c2-37db27c7d6d4"
      },
      "execution_count": 9,
      "outputs": [
        {
          "output_type": "stream",
          "name": "stdout",
          "text": [
            "Worker 137194048046656 is waiting for the event.\n",
            "Worker 137194056439360 is waiting for the event.\n",
            "Worker 137194668811840 is waiting for the event.\n",
            "Event has been set.\n",
            "Worker 137194048046656 has been notified of the event.\n",
            "Worker 137194668811840 has been notified of the event.\n",
            "Worker 137194056439360 has been notified of the event.\n"
          ]
        }
      ]
    },
    {
      "cell_type": "code",
      "source": [
        "import threading\n",
        "\n",
        "def print_message(message):\n",
        "    print(\"Timer message:\", message)\n",
        "\n",
        "# Create a timer that prints a message after 5 seconds\n",
        "timer = threading.Timer(5, print_message, args=(\"Hello, world!\",))\n",
        "\n",
        "# Start the timer\n",
        "timer.start()\n",
        "\n",
        "# Wait for the timer to finish\n",
        "timer.join()"
      ],
      "metadata": {
        "colab": {
          "base_uri": "https://localhost:8080/"
        },
        "id": "IP-qDsT8zzcY",
        "outputId": "9295caf0-7dff-4442-f8e5-9c83da9265fe"
      },
      "execution_count": 10,
      "outputs": [
        {
          "output_type": "stream",
          "name": "stdout",
          "text": [
            "Timer message: Hello, world!\n"
          ]
        }
      ]
    },
    {
      "cell_type": "code",
      "source": [
        "import threading\n",
        "\n",
        "\n",
        "def worker():\n",
        "    print(\"Worker thread is waiting at the barrier.\")\n",
        "    barrier.wait()\n",
        "    print(\"Worker thread has passed the barrier and can proceed.\")\n",
        "\n",
        "\n",
        "# Create a barrier for 3 threads\n",
        "barrier = threading.Barrier(3)\n",
        "\n",
        "# Create worker threads\n",
        "threads = []\n",
        "for _ in range(3):\n",
        "    t = threading.Thread(target=worker)\n",
        "    threads.append(t)\n",
        "    t.start()\n",
        "\n",
        "# Wait for the threads to finish\n",
        "for t in threads:\n",
        "    t.join()\n"
      ],
      "metadata": {
        "id": "dRqRYZR3z1AK",
        "outputId": "26c81949-5c33-459f-e19f-8169e6470751",
        "colab": {
          "base_uri": "https://localhost:8080/"
        }
      },
      "execution_count": 11,
      "outputs": [
        {
          "output_type": "stream",
          "name": "stdout",
          "text": [
            "Worker thread is waiting at the barrier.\n",
            "Worker thread is waiting at the barrier.\n",
            "Worker thread is waiting at the barrier.\n",
            "Worker thread has passed the barrier and can proceed.Worker thread has passed the barrier and can proceed.\n",
            "Worker thread has passed the barrier and can proceed.\n",
            "\n"
          ]
        }
      ]
    }
  ]
}
