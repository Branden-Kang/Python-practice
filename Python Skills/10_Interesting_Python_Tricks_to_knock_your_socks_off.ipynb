{
  "nbformat": 4,
  "nbformat_minor": 0,
  "metadata": {
    "colab": {
      "name": "10 Interesting Python Tricks to knock your socks off.ipynb",
      "provenance": [],
      "authorship_tag": "ABX9TyOO4Nw13wQu/lNM7evmXh3v"
    },
    "kernelspec": {
      "name": "python3",
      "display_name": "Python 3"
    }
  },
  "cells": [
    {
      "cell_type": "markdown",
      "metadata": {
        "id": "MwIbgtU8vcMn"
      },
      "source": [
        "[Reference](https://towardsdatascience.com/10-interesting-python-tricks-to-knock-your-socks-off-1dd4d8e82101)"
      ]
    },
    {
      "cell_type": "markdown",
      "metadata": {
        "id": "ygsKVQs9vffS"
      },
      "source": [
        "# To find new elements of a list"
      ]
    },
    {
      "cell_type": "code",
      "metadata": {
        "id": "CN1FvztLva9M"
      },
      "source": [
        "A = [ 1, 3, 5, 7, 9 ]\n",
        "B = [ 4, 5, 6, 7, 8 ]"
      ],
      "execution_count": 1,
      "outputs": []
    },
    {
      "cell_type": "code",
      "metadata": {
        "id": "D3k1nk9VvhfR",
        "outputId": "fd4bbcde-6b40-40dd-b471-8ebc54fbc2ed",
        "colab": {
          "base_uri": "https://localhost:8080/"
        }
      },
      "source": [
        "set(A) - set(B)"
      ],
      "execution_count": 2,
      "outputs": [
        {
          "output_type": "execute_result",
          "data": {
            "text/plain": [
              "{1, 3, 9}"
            ]
          },
          "metadata": {
            "tags": []
          },
          "execution_count": 2
        }
      ]
    },
    {
      "cell_type": "markdown",
      "metadata": {
        "id": "q8LUY9tGvkYI"
      },
      "source": [
        "# Map() Function"
      ]
    },
    {
      "cell_type": "code",
      "metadata": {
        "id": "wnQTLALfvieO",
        "outputId": "a601f3bf-8d0d-4feb-ef29-5dfbdb56dd3a",
        "colab": {
          "base_uri": "https://localhost:8080/"
        }
      },
      "source": [
        "def product(n1,n2): \n",
        "    return n1 *n2 \n",
        "    \n",
        "list1 = (1, 2, 3, 4) \n",
        "list2 = (10,20,30,40)\n",
        "result = map(product, list1,list2) \n",
        "list(result)"
      ],
      "execution_count": 4,
      "outputs": [
        {
          "output_type": "execute_result",
          "data": {
            "text/plain": [
              "[10, 40, 90, 160]"
            ]
          },
          "metadata": {
            "tags": []
          },
          "execution_count": 4
        }
      ]
    },
    {
      "cell_type": "markdown",
      "metadata": {
        "id": "EyL3MIcwvnw4"
      },
      "source": [
        "# Map + Lambda Combination"
      ]
    },
    {
      "cell_type": "code",
      "metadata": {
        "id": "ghYJOwW0vlj6",
        "outputId": "7bad204b-65ac-4b2d-8b31-d6e06bfc37ea",
        "colab": {
          "base_uri": "https://localhost:8080/"
        }
      },
      "source": [
        "list1 = (1,2,3,4)\n",
        "list2 = (10,20,30,40)\n",
        "\n",
        "result = map(lambda x,y: x*y, list1, list2)\n",
        "print(list(result))"
      ],
      "execution_count": 5,
      "outputs": [
        {
          "output_type": "stream",
          "text": [
            "[10, 40, 90, 160]\n"
          ],
          "name": "stdout"
        }
      ]
    },
    {
      "cell_type": "markdown",
      "metadata": {
        "id": "4P1ldHBwvwL1"
      },
      "source": [
        "# Start, Stop and Set"
      ]
    },
    {
      "cell_type": "code",
      "metadata": {
        "id": "nwXgROOyvu0x",
        "outputId": "3c19623c-8479-4fe0-8c86-fdedf3537d99",
        "colab": {
          "base_uri": "https://localhost:8080/"
        }
      },
      "source": [
        "x = [ 1, 2, 3, 4, 5, 6, 7, 8 ]\n",
        "x[ 1: 6: 2]"
      ],
      "execution_count": 6,
      "outputs": [
        {
          "output_type": "execute_result",
          "data": {
            "text/plain": [
              "[2, 4, 6]"
            ]
          },
          "metadata": {
            "tags": []
          },
          "execution_count": 6
        }
      ]
    },
    {
      "cell_type": "code",
      "metadata": {
        "id": "gl_ezaohv1Uy",
        "outputId": "81620049-f93c-4646-b95a-f7d1ea5e64ab",
        "colab": {
          "base_uri": "https://localhost:8080/"
        }
      },
      "source": [
        "x[::-1]"
      ],
      "execution_count": 8,
      "outputs": [
        {
          "output_type": "execute_result",
          "data": {
            "text/plain": [
              "[8, 7, 6, 5, 4, 3, 2, 1]"
            ]
          },
          "metadata": {
            "tags": []
          },
          "execution_count": 8
        }
      ]
    },
    {
      "cell_type": "markdown",
      "metadata": {
        "id": "3HPEwbK6v4PT"
      },
      "source": [
        "# Zip and Enumerate together"
      ]
    },
    {
      "cell_type": "code",
      "metadata": {
        "id": "88SjSUvMv2dH",
        "outputId": "47ae581f-d689-49f5-db6f-fdc615dab472",
        "colab": {
          "base_uri": "https://localhost:8080/"
        }
      },
      "source": [
        "NAME = ['Sid','John','David']\n",
        "BIRD = ['Eagle','Sparrow','Vulture']\n",
        "CITY =['Mumbai','US','London']\n",
        "for i,(name,bird,city) in enumerate(zip(NAME,BIRD,CITY)):\n",
        "    print(i,' represents ',name,' , ',bird,' and ',city)"
      ],
      "execution_count": 9,
      "outputs": [
        {
          "output_type": "stream",
          "text": [
            "0  represents  Sid  ,  Eagle  and  Mumbai\n",
            "1  represents  John  ,  Sparrow  and  US\n",
            "2  represents  David  ,  Vulture  and  London\n"
          ],
          "name": "stdout"
        }
      ]
    },
    {
      "cell_type": "markdown",
      "metadata": {
        "id": "MkzoTI7-v7qY"
      },
      "source": [
        "# Random Sampling"
      ]
    },
    {
      "cell_type": "code",
      "metadata": {
        "id": "vyYo-co8v6mA"
      },
      "source": [
        "df.sample(n=10)"
      ],
      "execution_count": 11,
      "outputs": []
    },
    {
      "cell_type": "code",
      "metadata": {
        "id": "_hCGXNc5v-xk"
      },
      "source": [
        "df.sample(frac=0.5).reset_index(drop=True)"
      ],
      "execution_count": 12,
      "outputs": []
    },
    {
      "cell_type": "code",
      "metadata": {
        "id": "ubPsWeKKwGKh"
      },
      "source": [
        "import keras"
      ],
      "execution_count": 13,
      "outputs": []
    },
    {
      "cell_type": "code",
      "metadata": {
        "id": "ntGDgpOWv8v4"
      },
      "source": [
        "import warnings \n",
        "warnings.filterwarnings(action='ignore')\n",
        "import keras"
      ],
      "execution_count": 14,
      "outputs": []
    },
    {
      "cell_type": "code",
      "metadata": {
        "id": "RCDcyWhrwHM5"
      },
      "source": [
        "def SampleGenerator(n):\n",
        "    yield n\n",
        "    n = n+1\n",
        "    yield n\n",
        "    n = n+1\n",
        "    yield n\n",
        "\n",
        "gen = SampleGenerator(1)"
      ],
      "execution_count": 15,
      "outputs": []
    },
    {
      "cell_type": "code",
      "metadata": {
        "id": "pLS7NkG7wJ0V",
        "outputId": "d5215134-e40a-44ef-b79f-840250b390f0",
        "colab": {
          "base_uri": "https://localhost:8080/"
        }
      },
      "source": [
        "print(next(gen))\n",
        "print(next(gen))\n",
        "print(next(gen))"
      ],
      "execution_count": 16,
      "outputs": [
        {
          "output_type": "stream",
          "text": [
            "1\n",
            "2\n",
            "3\n"
          ],
          "name": "stdout"
        }
      ]
    },
    {
      "cell_type": "code",
      "metadata": {
        "id": "g-3TFJDHwLRP",
        "outputId": "4bbf0409-7831-4857-d7f8-029fec22c9d0",
        "colab": {
          "base_uri": "https://localhost:8080/"
        }
      },
      "source": [
        "def updatedGenerator(n):\n",
        "    while(1):\n",
        "        yield n\n",
        "        n = n + 1\n",
        "a = updatedGenerator(1)\n",
        "\n",
        "for i in range(5):\n",
        "    print(next(a))"
      ],
      "execution_count": 17,
      "outputs": [
        {
          "output_type": "stream",
          "text": [
            "1\n",
            "2\n",
            "3\n",
            "4\n",
            "5\n"
          ],
          "name": "stdout"
        }
      ]
    },
    {
      "cell_type": "markdown",
      "metadata": {
        "id": "_7dMRNxcwTnO"
      },
      "source": [
        "# Skiprows — The Saviour"
      ]
    },
    {
      "cell_type": "markdown",
      "metadata": {
        "id": "-JOHi7p-wZZ7"
      },
      "source": [
        "```python\n",
        "df = pd.read_csv('artist.csv')\n",
        "df_new = pd.read_csv('artist.csv',skiprows=50)\n",
        "df.shape, df_new.shape\n",
        "```"
      ]
    }
  ]
}