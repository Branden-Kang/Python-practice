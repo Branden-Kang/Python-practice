{
  "nbformat": 4,
  "nbformat_minor": 0,
  "metadata": {
    "colab": {
      "name": "Controlling Execution Flow.ipynb",
      "provenance": [],
      "authorship_tag": "ABX9TyNimhMcoNCcSP1E5CM6ThTE"
    },
    "kernelspec": {
      "name": "python3",
      "display_name": "Python 3"
    },
    "language_info": {
      "name": "python"
    }
  },
  "cells": [
    {
      "cell_type": "markdown",
      "metadata": {
        "id": "JHXhzcvDsgx6"
      },
      "source": [
        "[Reference](https://quinn-richard.medium.com/learn-programming-with-python-controlling-execution-flow-3755d8421d8)"
      ]
    },
    {
      "cell_type": "code",
      "metadata": {
        "colab": {
          "base_uri": "https://localhost:8080/"
        },
        "id": "2wHlrj9KseTK",
        "outputId": "ef9cbb7d-5390-4f79-fabd-eafba6bad661"
      },
      "source": [
        "age = input(\"Please tell me your age: \")\n",
        "age = int(age)\n",
        "\n",
        "if age < 21:\n",
        "    print (\"No alcohol can be served to you.\")\n",
        "else:\n",
        "    print (\"Which drink may I prepare for you?\")"
      ],
      "execution_count": 1,
      "outputs": [
        {
          "output_type": "stream",
          "text": [
            "Please tell me your age: 20\n",
            "No alcohol can be served to you.\n"
          ],
          "name": "stdout"
        }
      ]
    },
    {
      "cell_type": "code",
      "metadata": {
        "colab": {
          "base_uri": "https://localhost:8080/"
        },
        "id": "L5UuE_2Ks0HA",
        "outputId": "3257bd17-feda-471d-c642-f445cd323156"
      },
      "source": [
        "age = input(\"Please tell me your age: \")\n",
        "age = int(age)\n",
        "\n",
        "if age < 21:\n",
        "    print (\"You may not hire a vehichle.\")\n",
        "elif age <25:\n",
        "    print (\"We will add a 'young driver fee' to your rental bill.\")\n",
        "elif age < 45:\n",
        "    print (\"Do you require a child seat for a small daily fee?\")\n",
        "elif age > 55:\n",
        "    print (\"Are you interested in hiring a premium vehichle?\")"
      ],
      "execution_count": 2,
      "outputs": [
        {
          "output_type": "stream",
          "text": [
            "Please tell me your age: 35\n",
            "Do you require a child seat for a small daily fee?\n"
          ],
          "name": "stdout"
        }
      ]
    },
    {
      "cell_type": "code",
      "metadata": {
        "colab": {
          "base_uri": "https://localhost:8080/"
        },
        "id": "-5gqZoGcs1l5",
        "outputId": "f833de02-7d65-4906-edfc-7c03b110ef07"
      },
      "source": [
        "print (f\"1 and 1: {bool(1 and 1)}\")\n",
        "print (f\"0 and 0: {bool(0 and 0)}\")\n",
        "print (f\"1 and 0: {bool(1 and 0)}\")\n",
        "print (f\"not 0: {bool(not 0)}\")\n",
        "print (f\"not 1: {bool(not 1)}\")\n",
        "print (f\"1 or 1: {bool(1 or 1)}\")\n",
        "print (f\"0 or 0: {bool(0 or 0)}\")\n",
        "print (f\"1 or 0: {bool(1 or 0)}\")"
      ],
      "execution_count": 3,
      "outputs": [
        {
          "output_type": "stream",
          "text": [
            "1 and 1: True\n",
            "0 and 0: False\n",
            "1 and 0: False\n",
            "not 0: True\n",
            "not 1: False\n",
            "1 or 1: True\n",
            "0 or 0: False\n",
            "1 or 0: True\n"
          ],
          "name": "stdout"
        }
      ]
    },
    {
      "cell_type": "code",
      "metadata": {
        "id": "6_vvSt1Us5lZ"
      },
      "source": [
        "students = {\"Emily@gmail.com\", \"Harish@gmail.com\", \"Naomi@gmail.com\", \"Haru@gmail.com\"}"
      ],
      "execution_count": 4,
      "outputs": []
    },
    {
      "cell_type": "code",
      "metadata": {
        "colab": {
          "base_uri": "https://localhost:8080/"
        },
        "id": "FGClkMZhs7xf",
        "outputId": "47565431-5aa3-466f-9a56-054187ae43c3"
      },
      "source": [
        "students = {\"Emily@gmail.com\", \"Harish@gmail.com\", \"Naomi@gmail.com\", \"Haru@gmail.com\", \"Haru@gmail.com\"}\n",
        "\n",
        "for student in students:\n",
        "    print (student)"
      ],
      "execution_count": 5,
      "outputs": [
        {
          "output_type": "stream",
          "text": [
            "Naomi@gmail.com\n",
            "Emily@gmail.com\n",
            "Haru@gmail.com\n",
            "Harish@gmail.com\n"
          ],
          "name": "stdout"
        }
      ]
    }
  ]
}