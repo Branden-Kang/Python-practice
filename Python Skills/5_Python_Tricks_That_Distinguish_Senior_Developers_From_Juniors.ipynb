{
  "nbformat": 4,
  "nbformat_minor": 0,
  "metadata": {
    "colab": {
      "provenance": [],
      "authorship_tag": "ABX9TyOPzSq5OIgbjSjrH+SW5tPu"
    },
    "kernelspec": {
      "name": "python3",
      "display_name": "Python 3"
    },
    "language_info": {
      "name": "python"
    }
  },
  "cells": [
    {
      "cell_type": "markdown",
      "source": [
        "[Reference](https://towardsdatascience.com/5-python-tricks-that-distinguish-senior-developers-from-juniors-826d57ab3940)"
      ],
      "metadata": {
        "id": "dOlBne8uGIOB"
      }
    },
    {
      "cell_type": "markdown",
      "source": [
        "# 1. Read in a file effectively with comprehensions and splits"
      ],
      "metadata": {
        "id": "MELuVPB2GK-U"
      }
    },
    {
      "cell_type": "code",
      "execution_count": 2,
      "metadata": {
        "id": "WsmmE9TYGGXf"
      },
      "outputs": [],
      "source": [
        "numbers = []\n",
        "with open(\"file.txt\") as f:\n",
        "  group = []\n",
        "  for line in f:\n",
        "    if line == \"\\n\":\n",
        "      numbers.append(group)\n",
        "      group = []\n",
        "    else:\n",
        "      group.append(int(line.rstrip()))\n",
        "  # append the last group because if line == \"\\n\" will not be True for\n",
        "  # the last group\n",
        "  numbers.append(group)"
      ]
    },
    {
      "cell_type": "code",
      "source": [
        "with open(\"file.txt\") as f:\n",
        "  # split input into groups based on empty lines\n",
        "  groups = f.read().rstrip().split(\"\\n\\n\")\n",
        "  # convert all the values in the groups into integers\n",
        "  nums = [list(map(int, (group.split()))) for group in groups]"
      ],
      "metadata": {
        "id": "--FQivMCGNEF"
      },
      "execution_count": 3,
      "outputs": []
    },
    {
      "cell_type": "markdown",
      "source": [
        "# 2. Use Enum instead of if-elif-else"
      ],
      "metadata": {
        "id": "zKTxlpvAGP57"
      }
    },
    {
      "cell_type": "code",
      "source": [
        "def points_per_shape(shape: str) -> int:\n",
        "  if shape == 'X':\n",
        "    return 1\n",
        "  elif shape == 'Y':\n",
        "    return 2\n",
        "  elif shape == 'Z':\n",
        "    return 3\n",
        "  else:\n",
        "    raise ValueError('Invalid shape')"
      ],
      "metadata": {
        "id": "MrPGz87ZGTxg"
      },
      "execution_count": 4,
      "outputs": []
    },
    {
      "cell_type": "code",
      "source": [
        "from enum import Enum\n",
        "\n",
        "class ShapePoints(Enum):\n",
        "  X = 1\n",
        "  Y = 2\n",
        "  Z = 3\n",
        "\n",
        "def points_per_shape(shape: str) -> int:\n",
        "  return ShapePoints[shape].value"
      ],
      "metadata": {
        "id": "BjV584gjGYp-"
      },
      "execution_count": 5,
      "outputs": []
    },
    {
      "cell_type": "markdown",
      "source": [
        "# 3. Use lookup tables instead of dictionaries"
      ],
      "metadata": {
        "id": "FrbeUSq3GatH"
      }
    },
    {
      "cell_type": "code",
      "source": [
        "letters = 'abcdefghijklmnopqrstuvwxyzABCDEFGHIJKLMNOPQRSTUVWXYZ'\n",
        "letter_dict = dict()\n",
        "for value, letter in enumerate(letters, start=1):\n",
        "  letter_dict[letter] = value\n",
        "\n",
        "def letter_value(ltr: str) -> int:\n",
        "  return letter_dict[ltr]"
      ],
      "metadata": {
        "id": "2UrS075AGZRz"
      },
      "execution_count": 6,
      "outputs": []
    },
    {
      "cell_type": "code",
      "source": [
        "def letter_value(ltr: str) -> int:\n",
        "  return 'abcdefghijklmnopqrstuvwxyzABCDEFGHIJKLMNOPQRSTUVWXYZ'.index(ltr) + 1"
      ],
      "metadata": {
        "id": "JVrRau6JGcsd"
      },
      "execution_count": 8,
      "outputs": []
    },
    {
      "cell_type": "markdown",
      "source": [
        "# 4. Advanced slicing"
      ],
      "metadata": {
        "id": "UDLzrfiUGhBk"
      }
    },
    {
      "cell_type": "code",
      "source": [
        "letters = []\n",
        "with open('input.txt') as f:\n",
        "  for line in f:\n",
        "    row = ''\n",
        "    for index in range(1, len(line), 4):\n",
        "      row += line[index]\n",
        "    letters.append(row)"
      ],
      "metadata": {
        "id": "NG3zDHqkGeqc"
      },
      "execution_count": 9,
      "outputs": []
    },
    {
      "cell_type": "code",
      "source": [
        "with open('input.txt') as f:\n",
        "  letters = [line[1::4] for line in f]"
      ],
      "metadata": {
        "id": "JRVTZEN0GifV"
      },
      "execution_count": 10,
      "outputs": []
    },
    {
      "cell_type": "markdown",
      "source": [
        "# 5. Use a class attribute to store class instances"
      ],
      "metadata": {
        "id": "AYePfDckGk9J"
      }
    },
    {
      "cell_type": "code",
      "source": [
        "class Monkey:\n",
        "  monkeys: dict = dict()\n",
        "\n",
        "  def __init__(self, id: int):\n",
        "      self.id = id\n",
        "      self.bananas = 3\n",
        "      Monkey.monkeys[id] = self\n",
        "  \n",
        "  def pass_banana(self, to_id: int):\n",
        "      Monkey.monkeys[to_id].bananas += 1\n",
        "      self.bananas -= 1\n",
        "\n",
        "Monkey(1)\n",
        "Monkey(2)\n",
        "Monkey.monkeys[1].pass_banana(to_id=2)\n",
        "\n",
        "print(Monkey.monkeys[1].bananas)\n",
        "print(Monkey.monkeys[2].bananas)"
      ],
      "metadata": {
        "colab": {
          "base_uri": "https://localhost:8080/"
        },
        "id": "iBa008YtGjnx",
        "outputId": "8fd150db-0762-4300-9eb7-c5874f59143e"
      },
      "execution_count": 12,
      "outputs": [
        {
          "output_type": "stream",
          "name": "stdout",
          "text": [
            "2\n",
            "4\n"
          ]
        }
      ]
    },
    {
      "cell_type": "markdown",
      "source": [
        "# 6. Self-documenting expressions (BONUS)"
      ],
      "metadata": {
        "id": "kVKFKciZGoik"
      }
    },
    {
      "cell_type": "code",
      "source": [
        "x = 20\n",
        "y = 21"
      ],
      "metadata": {
        "id": "HG0ftgDFG0gR"
      },
      "execution_count": 16,
      "outputs": []
    },
    {
      "cell_type": "code",
      "source": [
        "print(f\"x = {x}\")\n",
        "print(f\"y = {y}\")\n",
        "\n",
        "print(f\"max(x,y) = {max(x,y)}\")"
      ],
      "metadata": {
        "colab": {
          "base_uri": "https://localhost:8080/"
        },
        "id": "mgPYKf_dGmo6",
        "outputId": "42ea7000-f4a6-403d-baff-54405c5c881f"
      },
      "execution_count": 17,
      "outputs": [
        {
          "output_type": "stream",
          "name": "stdout",
          "text": [
            "x = 20\n",
            "y = 21\n",
            "max(x,y) = 21\n"
          ]
        }
      ]
    },
    {
      "cell_type": "code",
      "source": [
        "print(f\"{x = }\")\n",
        "print(f\"{y = }\")\n",
        "\n",
        "print(f\"{max(x,y) = }\")"
      ],
      "metadata": {
        "colab": {
          "base_uri": "https://localhost:8080/"
        },
        "id": "CROonD3zGwI6",
        "outputId": "89ec1213-9ff5-4854-b74c-5a38ae31c0f8"
      },
      "execution_count": 18,
      "outputs": [
        {
          "output_type": "stream",
          "name": "stdout",
          "text": [
            "x = 20\n",
            "y = 21\n",
            "max(x,y) = 21\n"
          ]
        }
      ]
    }
  ]
}
