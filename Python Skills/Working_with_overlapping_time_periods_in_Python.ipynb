{
  "nbformat": 4,
  "nbformat_minor": 0,
  "metadata": {
    "colab": {
      "name": "Working with overlapping time periods in Python.ipynb",
      "provenance": [],
      "authorship_tag": "ABX9TyOPNLMSqiLuFHs0Ppq6PFnL"
    },
    "kernelspec": {
      "name": "python3",
      "display_name": "Python 3"
    },
    "language_info": {
      "name": "python"
    }
  },
  "cells": [
    {
      "cell_type": "markdown",
      "metadata": {
        "id": "prq_SZufNPKs"
      },
      "source": [
        "[Reference](https://eeriksp.medium.com/working-with-discontinuous-time-periods-in-python-af921eec7df2)"
      ]
    },
    {
      "cell_type": "code",
      "metadata": {
        "id": "hXWrnVm5NHVm"
      },
      "source": [
        "from dataclasses import dataclass\n",
        "from datetime import datetime\n",
        "from typing import overload, Optional, Set\n",
        "\n",
        "\n",
        "@dataclass(frozen=True)\n",
        "class ContinuousTimeRange:\n",
        "    start: datetime\n",
        "    end: datetime    \n",
        "    \n",
        "    def __post_init__(self):\n",
        "        if self.start > self.end:\n",
        "            raise ValueError(\"Start cannot be greater than end.\")\n",
        "\n",
        "class TimeRange:\n",
        "\n",
        "    @overload  # hint for the type checker \n",
        "    def __init__(self):\n",
        "        pass\n",
        "\n",
        "    @overload  # hint for the type checker\n",
        "    def __init__(self, start: datetime, end: datetime):\n",
        "        pass\n",
        "\n",
        "    def __init__(self, start: Optional[datetime] = None, end: Optional[datetime] = None):\n",
        "        self.periods: Set[ContinuousTimeRange] = set()\n",
        "        if start and end:\n",
        "            self.periods.add(ContinuousTimeRange(start, end))\n",
        "        elif start or end:\n",
        "            raise ValueError(\"A `TimeRange` must have either none or both `start` and `end` specified.\")\n",
        "\n",
        "    def __repr__(self) -> str:\n",
        "        return ' + '.join(\n",
        "            [f\"TimeRange(start={repr(p.start)}, end={repr(p.end)})\" for p in self.periods]\n",
        "        ) or \"TimeRange()\""
      ],
      "execution_count": 4,
      "outputs": []
    },
    {
      "cell_type": "code",
      "metadata": {
        "colab": {
          "base_uri": "https://localhost:8080/",
          "height": 337
        },
        "id": "3RbM7UGkM3eB",
        "outputId": "55484c34-1a98-44ac-9b98-867f808ac05c"
      },
      "source": [
        "import unittest\n",
        "from datetime import datetime\n",
        "\n",
        "start = datetime(2021, 5, 20, 12, 12)\n",
        "end = datetime(2021, 5, 20, 14, 12)\n",
        "string_repr = \"TimeRange(start=datetime.datetime(2021, 5, 20, 12, 12), end=datetime.datetime(2021, 5, 20, 14, 12))\"\n",
        "\n",
        "class TimeRangeInitializationTest(unittest.TestCase):\n",
        "\n",
        "    def test_initialization_with_start_and_end(self):\n",
        "        t = TimeRange(start=start, end=end)\n",
        "        self.assertEqual(str(t), string_repr)\n",
        "\n",
        "    def test_empty_initialization(self):\n",
        "        t = TimeRange()\n",
        "        self.assertEqual(str(t), \"TimeRange()\")    \n",
        "        \n",
        "    def test_start_end_integrity(self):\n",
        "        with self.assertRaises(ValueError):\n",
        "            TimeRange(start=end, end=start)\n",
        "\n",
        "if __name__ == '__main__':\n",
        "    unittest.main()"
      ],
      "execution_count": 5,
      "outputs": [
        {
          "output_type": "stream",
          "text": [
            "E\n",
            "======================================================================\n",
            "ERROR: /root/ (unittest.loader._FailedTest)\n",
            "----------------------------------------------------------------------\n",
            "AttributeError: module '__main__' has no attribute '/root/'\n",
            "\n",
            "----------------------------------------------------------------------\n",
            "Ran 1 test in 0.004s\n",
            "\n",
            "FAILED (errors=1)\n"
          ],
          "name": "stderr"
        },
        {
          "output_type": "error",
          "ename": "SystemExit",
          "evalue": "ignored",
          "traceback": [
            "An exception has occurred, use %tb to see the full traceback.\n",
            "\u001b[0;31mSystemExit\u001b[0m\u001b[0;31m:\u001b[0m True\n"
          ]
        },
        {
          "output_type": "stream",
          "text": [
            "/usr/local/lib/python3.7/dist-packages/IPython/core/interactiveshell.py:2890: UserWarning: To exit: use 'exit', 'quit', or Ctrl-D.\n",
            "  warn(\"To exit: use 'exit', 'quit', or Ctrl-D.\", stacklevel=1)\n"
          ],
          "name": "stderr"
        }
      ]
    }
  ]
}