{
  "nbformat": 4,
  "nbformat_minor": 0,
  "metadata": {
    "colab": {
      "name": "Making Data Trees in Python.ipynb",
      "provenance": [],
      "collapsed_sections": [],
      "authorship_tag": "ABX9TyP2xKW3EKSkBkg4AiY31kqB"
    },
    "kernelspec": {
      "name": "python3",
      "display_name": "Python 3"
    }
  },
  "cells": [
    {
      "cell_type": "markdown",
      "metadata": {
        "id": "UTE4a2Qzda3R",
        "colab_type": "text"
      },
      "source": [
        "[Reference](https://medium.com/swlh/making-data-trees-in-python-3a3ceb050cfd)"
      ]
    },
    {
      "cell_type": "code",
      "metadata": {
        "id": "S4FeoAiFZzde",
        "colab_type": "code",
        "colab": {
          "base_uri": "https://localhost:8080/",
          "height": 68
        },
        "outputId": "477fb756-4c9b-4eee-d173-fc97e9369cb9"
      },
      "source": [
        "# Dictionary:\n",
        "\n",
        "Families = {'Peter':'Paul', 'Jim':'Tommy', 'Carlos':'Diego'}\n",
        "\n",
        "for Parent, Son in Families.items():\n",
        "  print(f\"{Parent} is {Son}'s Dad\")"
      ],
      "execution_count": 2,
      "outputs": [
        {
          "output_type": "stream",
          "text": [
            "Peter is Paul's Dad\n",
            "Jim is Tommy's Dad\n",
            "Carlos is Diego's Dad\n"
          ],
          "name": "stdout"
        }
      ]
    },
    {
      "cell_type": "code",
      "metadata": {
        "id": "TPtFzbbUZ5jq",
        "colab_type": "code",
        "colab": {
          "base_uri": "https://localhost:8080/",
          "height": 102
        },
        "outputId": "79f56b34-c656-4978-ec5d-03058fddec47"
      },
      "source": [
        "#List:\n",
        "\n",
        "Prizes = ['Gold','Silver','Bronze','Nothing','Zilch']\n",
        "\n",
        "for place, prize in enumerate(Prizes):\n",
        "    print(f\"Place number {place+1} gets {prize}\")"
      ],
      "execution_count": 3,
      "outputs": [
        {
          "output_type": "stream",
          "text": [
            "Place number 1 gets Gold\n",
            "Place number 2 gets Silver\n",
            "Place number 3 gets Bronze\n",
            "Place number 4 gets Nothing\n",
            "Place number 5 gets Zilch\n"
          ],
          "name": "stdout"
        }
      ]
    },
    {
      "cell_type": "code",
      "metadata": {
        "id": "AAKX0sP8a6ZN",
        "colab_type": "code",
        "colab": {
          "base_uri": "https://localhost:8080/",
          "height": 119
        },
        "outputId": "fa9eecbc-3742-4f48-e4c8-2363d2d11515"
      },
      "source": [
        "# Dictionary \n",
        "\n",
        "#(Same note as before, these are multiple trees, family trees in this example) :\n",
        "\n",
        "Families = {'Peter':['Paul','Patty'], 'Jim':['Tommy','Timmy','Tammy'], 'Carlos':['Diego']}\n",
        "\n",
        "for Parent, Children in Families.items():\n",
        "  print(f\"{Parent} has {len(Children)} kid(s):\" )\n",
        "  print(f\"{', and '.join([str(Child) for Child in [*Children]])}\")"
      ],
      "execution_count": 4,
      "outputs": [
        {
          "output_type": "stream",
          "text": [
            "Peter has 2 kid(s):\n",
            "Paul, and Patty\n",
            "Jim has 3 kid(s):\n",
            "Tommy, and Timmy, and Tammy\n",
            "Carlos has 1 kid(s):\n",
            "Diego\n"
          ],
          "name": "stdout"
        }
      ]
    },
    {
      "cell_type": "code",
      "metadata": {
        "id": "rwV055ZdbAg3",
        "colab_type": "code",
        "colab": {
          "base_uri": "https://localhost:8080/",
          "height": 289
        },
        "outputId": "b4653891-27bc-4a31-d38f-f8f54b5aa27d"
      },
      "source": [
        "# Reduced/Alternative way of saying the same without thing formatting:\n",
        "for Parent, Children in Families.items():\n",
        "  print(str(Parent) + ' has ' + str(len(Children)) + ' kid(s):')\n",
        "  print(*Children)\n",
        "\n",
        "# Note the use of the *Operator for unpacking the list.   \n",
        "#        ---------------------\\\\ | // ------------------\n",
        "\n",
        "# List:\n",
        "Prizes = [['Gold Medal','$10000','Sports Car','Brand Sponsorship'],\n",
        "          ['Silver Medal','$5000','Budget Car'],\n",
        "          ['Bronze Medal','$2500','Motorcycle'],\n",
        "          ['Participation Trophy','Swag'],\n",
        "          ['Swag']]\n",
        "          \n",
        "for place, prizelist in enumerate(Prizes):\n",
        "  print(f\"Place # {place+1} gets the following prize(s)\")\n",
        "  print(f\"{', and '.join([str(prize) for prize in [*prizelist]])}\")"
      ],
      "execution_count": 6,
      "outputs": [
        {
          "output_type": "stream",
          "text": [
            "Peter has 2 kid(s):\n",
            "Paul Patty\n",
            "Jim has 3 kid(s):\n",
            "Tommy Timmy Tammy\n",
            "Carlos has 1 kid(s):\n",
            "Diego\n",
            "Place # 1 gets the following prize(s)\n",
            "Gold Medal, and $10000, and Sports Car, and Brand Sponsorship\n",
            "Place # 2 gets the following prize(s)\n",
            "Silver Medal, and $5000, and Budget Car\n",
            "Place # 3 gets the following prize(s)\n",
            "Bronze Medal, and $2500, and Motorcycle\n",
            "Place # 4 gets the following prize(s)\n",
            "Participation Trophy, and Swag\n",
            "Place # 5 gets the following prize(s)\n",
            "Swag\n"
          ],
          "name": "stdout"
        }
      ]
    },
    {
      "cell_type": "code",
      "metadata": {
        "id": "i9Z731t5bRaI",
        "colab_type": "code",
        "colab": {
          "base_uri": "https://localhost:8080/",
          "height": 323
        },
        "outputId": "855edad6-a531-453e-92f4-fef2f2aba5f8"
      },
      "source": [
        "# Dictionary (once more this is a forest of 3 trees:)\n",
        "Families = {\n",
        "            'Peter':\n",
        "                   {'Paul':{'Dog','Toucan'} ,\n",
        "                    'Patty': {'Turtle'}},\n",
        "            'Jim':\n",
        "                   {'Tommy':{'Hamster'},\n",
        "                    'Timmy':{'Hamster'},\n",
        "                    'Tammy':{'Hamster'}},\n",
        "            'Carlos':\n",
        "                   {'Diego':{'Cat','Ferret','Fox'}}\n",
        "            }\n",
        "\n",
        "for Parent, Children in Families.items():\n",
        "  print(f\"{Parent} has {len(Children)} kid(s):\" )\n",
        "  print(f\" {', and '.join([str(Child) for Child in [*Children]])}\")\n",
        "  for Child, pets in Children.items():\n",
        "    print(f\"  {Child} has {len(pets)} pet(s):\")\n",
        "    print(f\"    {', and '.join([str(pet) for pet in [*pets]])}\")"
      ],
      "execution_count": 9,
      "outputs": [
        {
          "output_type": "stream",
          "text": [
            "Peter has 2 kid(s):\n",
            " Paul, and Patty\n",
            "  Paul has 2 pet(s):\n",
            "    Toucan, and Dog\n",
            "  Patty has 1 pet(s):\n",
            "    Turtle\n",
            "Jim has 3 kid(s):\n",
            " Tommy, and Timmy, and Tammy\n",
            "  Tommy has 1 pet(s):\n",
            "    Hamster\n",
            "  Timmy has 1 pet(s):\n",
            "    Hamster\n",
            "  Tammy has 1 pet(s):\n",
            "    Hamster\n",
            "Carlos has 1 kid(s):\n",
            " Diego\n",
            "  Diego has 3 pet(s):\n",
            "    Fox, and Cat, and Ferret\n"
          ],
          "name": "stdout"
        }
      ]
    },
    {
      "cell_type": "code",
      "metadata": {
        "id": "qVZ5L0W6bilm",
        "colab_type": "code",
        "colab": {}
      },
      "source": [
        "# - Removing (Let's say a Hamster pandemic hit Jim's house and Diego's Fox escaped ):\n",
        "# Within a loop:for Parent, Children in Families.items():\n",
        "for Child, pets in Children.items():\n",
        "  for pet in pets:\n",
        "    if pet == 'Hamster':\n",
        "      Families[Parent][Child] = {}\n",
        "# Directly Updating:\n",
        "Families['Carlos']['Diego']  =  {'Cat','Ferret'}\n",
        "\n",
        "# - Addition can work in the same way: Families[Parent][Child] = {'Snake'}\n",
        "Families['Carlos']['Diego']  =  {'Cat','Ferret', 'Fox'}\n",
        "\n",
        "#You could also use any other Dictionary or iterable method to suit your needs, if for instance you wanted to delete whole branch or family tree:\n",
        "del Families['Peter']['Paul']"
      ],
      "execution_count": 11,
      "outputs": []
    },
    {
      "cell_type": "code",
      "metadata": {
        "id": "z4ltt-UBcEHj",
        "colab_type": "code",
        "colab": {}
      },
      "source": [
        "\"\"\"Barebones minimal general Tree & Node, using lists, but can also use dictionaries if you need key value pairs\"\"\"\n",
        "\n",
        "class Tree():\n",
        "    def __init__(self,root):\n",
        "        self.root = root\n",
        "        self.children = []\n",
        "    def addNode(self,obj):\n",
        "        self.children.append(obj)\n",
        "\n",
        "class Node():\n",
        "    def __init__(self, data):\n",
        "        self.data = data\n",
        "        self.children = []\n",
        "    def addNode(self,obj):\n",
        "        self.children.append(obj)"
      ],
      "execution_count": 13,
      "outputs": []
    },
    {
      "cell_type": "code",
      "metadata": {
        "id": "QpNHRVPAcLEZ",
        "colab_type": "code",
        "colab": {
          "base_uri": "https://localhost:8080/",
          "height": 34
        },
        "outputId": "a8a13f3e-4398-4230-abfb-a3ffc5c525be"
      },
      "source": [
        "FunCorp =  Tree('Head Honcho') # Create a tree and add root data.\n",
        "print(FunCorp.root) # ask the Tree for it's root."
      ],
      "execution_count": 14,
      "outputs": [
        {
          "output_type": "stream",
          "text": [
            "Head Honcho\n"
          ],
          "name": "stdout"
        }
      ]
    },
    {
      "cell_type": "code",
      "metadata": {
        "id": "RLgyg7ticSxP",
        "colab_type": "code",
        "colab": {}
      },
      "source": [
        "# Add children to root:FunCorp.addNode(Node('VP of Stuff'))\n",
        "FunCorp.addNode(Node('VP of Shenanigans'))\n",
        "FunCorp.addNode(Node('VP of Hootenanny'))"
      ],
      "execution_count": 15,
      "outputs": []
    },
    {
      "cell_type": "code",
      "metadata": {
        "id": "-4_tpjlocVCG",
        "colab_type": "code",
        "colab": {
          "base_uri": "https://localhost:8080/",
          "height": 34
        },
        "outputId": "a3e2d096-9beb-458c-b85f-a3e1d9f0b8ea"
      },
      "source": [
        "# Get children of root:\n",
        "print(f'C suite: {\", \".join(str(child.data) for child in FunCorp.children)}')"
      ],
      "execution_count": 16,
      "outputs": [
        {
          "output_type": "stream",
          "text": [
            "C suite: VP of Shenanigans, VP of Hootenanny\n"
          ],
          "name": "stdout"
        }
      ]
    },
    {
      "cell_type": "code",
      "metadata": {
        "id": "Hu8x78d-cXLL",
        "colab_type": "code",
        "colab": {}
      },
      "source": [
        "# Add Node to the first child of the Tree:\n",
        "FunCorp.children[0].addNode(Node('General manager of Fun'))"
      ],
      "execution_count": 17,
      "outputs": []
    },
    {
      "cell_type": "code",
      "metadata": {
        "id": "MCVLAqAwcZH9",
        "colab_type": "code",
        "colab": {
          "base_uri": "https://localhost:8080/",
          "height": 34
        },
        "outputId": "46c791fa-6cad-4264-f3ef-0f05304f29d6"
      },
      "source": [
        "# Get the first child of the first child of the Tree:\n",
        "print(f'The position under {FunCorp.children[0].data} is: {FunCorp.children[0].children[0].data}')"
      ],
      "execution_count": 18,
      "outputs": [
        {
          "output_type": "stream",
          "text": [
            "The position under VP of Shenanigans is: General manager of Fun\n"
          ],
          "name": "stdout"
        }
      ]
    },
    {
      "cell_type": "code",
      "metadata": {
        "id": "3HG66bT5cbYJ",
        "colab_type": "code",
        "colab": {
          "base_uri": "https://localhost:8080/",
          "height": 170
        },
        "outputId": "b94fcbc1-fbe0-4ba7-f62d-f3328689a811"
      },
      "source": [
        "\"\"\"Barebones general Tree & Node\"\"\"\n",
        "class Tree():\n",
        "  def __init__(self,root):\n",
        "    self.root = root\n",
        "    self.children = []\n",
        "    self.Nodes = []\n",
        "    \n",
        "  def addNode(self,obj):\n",
        "    self.children.append(obj)    \n",
        "  \n",
        "  def getAllNodes(self):\n",
        "    self.Nodes.append(self.root)\n",
        "    for child in self.children:\n",
        "      self.Nodes.append(child.data)\n",
        "    for child in self.children:\n",
        "      if child.getChildNodes(self.Nodes) != None:\n",
        "        child.getChildNodes(self.Nodes)\n",
        "    print(*self.Nodes, sep = \"\\n\")\n",
        "    print('Tree Size:' + str(len(self.Nodes)))\n",
        "\n",
        "class Node():\n",
        "  def __init__(self, data):\n",
        "    self.data = data\n",
        "    self.children = []\n",
        "  def addNode(self,obj):\n",
        "    self.children.append(obj)\n",
        "  def getChildNodes(self,Tree):\n",
        "    for child in self.children:\n",
        "      if child.children:\n",
        "        child.getChildNodes(Tree)\n",
        "        Tree.append(child.data)\n",
        "      else:\n",
        "        Tree.append(child.data)# Add a bunch of nodes\n",
        "        \n",
        "FunCorp =  Tree('Head Honcho')\n",
        "\n",
        "FunCorp.addNode(Node('VP of Stuff'))\n",
        "FunCorp.addNode(Node('VP of Shenanigans'))\n",
        "FunCorp.addNode(Node('VP of Hootenanny'))\n",
        "FunCorp.children[0].addNode(Node('General manager of Fun'))\n",
        "FunCorp.children[1].addNode(Node('General manager Shindings'))\n",
        "FunCorp.children[0].children[0].addNode(Node('Sub manager of Fun'))\n",
        "FunCorp.children[0].children[0].children[0].addNode(Node('Employee of the month'))\n",
        "\n",
        "# Get all nodes (unordered):\n",
        "FunCorp.getAllNodes()"
      ],
      "execution_count": 23,
      "outputs": [
        {
          "output_type": "stream",
          "text": [
            "Head Honcho\n",
            "VP of Stuff\n",
            "VP of Shenanigans\n",
            "VP of Hootenanny\n",
            "Employee of the month\n",
            "Sub manager of Fun\n",
            "General manager of Fun\n",
            "General manager Shindings\n",
            "Tree Size:8\n"
          ],
          "name": "stdout"
        }
      ]
    }
  ]
}