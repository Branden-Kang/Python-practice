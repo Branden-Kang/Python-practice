{
  "nbformat": 4,
  "nbformat_minor": 0,
  "metadata": {
    "colab": {
      "provenance": [],
      "authorship_tag": "ABX9TyO1T9VV0945nHxDJpCnNN5q"
    },
    "kernelspec": {
      "name": "python3",
      "display_name": "Python 3"
    },
    "language_info": {
      "name": "python"
    }
  },
  "cells": [
    {
      "cell_type": "markdown",
      "source": [
        "[Reference](https://medium.com/@alice.yang_10652/extract-pdf-tables-to-text-excel-and-csv-in-python-53fdbf3fad91)"
      ],
      "metadata": {
        "id": "uaIkrOhQfFLh"
      }
    },
    {
      "cell_type": "code",
      "execution_count": 1,
      "metadata": {
        "colab": {
          "base_uri": "https://localhost:8080/"
        },
        "id": "Tncxg-xlb26Q",
        "outputId": "c09d53bb-47c2-40d9-f087-bf6f05a506a3"
      },
      "outputs": [
        {
          "output_type": "stream",
          "name": "stdout",
          "text": [
            "Collecting Spire.Pdf\n",
            "  Downloading Spire.Pdf-10.5.2-py3-none-manylinux1_x86_64.whl (41.5 MB)\n",
            "\u001b[2K     \u001b[90m━━━━━━━━━━━━━━━━━━━━━━━━━━━━━━━━━━━━━━━━\u001b[0m \u001b[32m41.5/41.5 MB\u001b[0m \u001b[31m11.4 MB/s\u001b[0m eta \u001b[36m0:00:00\u001b[0m\n",
            "\u001b[?25hCollecting plum-dispatch==1.7.4 (from Spire.Pdf)\n",
            "  Downloading plum_dispatch-1.7.4-py3-none-any.whl (24 kB)\n",
            "Installing collected packages: plum-dispatch, Spire.Pdf\n",
            "Successfully installed Spire.Pdf-10.5.2 plum-dispatch-1.7.4\n",
            "Collecting Spire.Xls\n",
            "  Downloading Spire.Xls-14.4.4-py3-none-manylinux1_x86_64.whl (36.8 MB)\n",
            "\u001b[2K     \u001b[90m━━━━━━━━━━━━━━━━━━━━━━━━━━━━━━━━━━━━━━━━\u001b[0m \u001b[32m36.8/36.8 MB\u001b[0m \u001b[31m9.0 MB/s\u001b[0m eta \u001b[36m0:00:00\u001b[0m\n",
            "\u001b[?25hRequirement already satisfied: plum-dispatch==1.7.4 in /usr/local/lib/python3.10/dist-packages (from Spire.Xls) (1.7.4)\n",
            "Installing collected packages: Spire.Xls\n",
            "Successfully installed Spire.Xls-14.4.4\n"
          ]
        }
      ],
      "source": [
        "!pip install Spire.Pdf\n",
        "!pip install Spire.Xls"
      ]
    },
    {
      "cell_type": "markdown",
      "source": [
        "# Extract PDF Tables to Text in Python\n"
      ],
      "metadata": {
        "id": "OkvgL0xKghbG"
      }
    },
    {
      "cell_type": "code",
      "source": [
        "from spire.pdf import *\n",
        "from spire.xls import *\n",
        "\n",
        "# Define an extract_table_data function to extract table data from PDF\n",
        "def extract_table_data(pdf_path):\n",
        "    # Create an instance of the PdfDocument class\n",
        "    doc = PdfDocument()\n",
        "\n",
        "    try:\n",
        "        # Load a PDF document\n",
        "        doc.LoadFromFile(pdf_path)\n",
        "        # Create a list to store the extracted table data\n",
        "        table_data = []\n",
        "\n",
        "        # Create an instance of the PdfTableExtractor class\n",
        "        extractor = PdfTableExtractor(doc)\n",
        "\n",
        "        # Iterate through the pages in the PDF document\n",
        "        for page_index in range(doc.Pages.Count):\n",
        "            # Get tables within each page\n",
        "            tables = extractor.ExtractTable(page_index)\n",
        "            if tables is not None and len(tables) > 0:\n",
        "\n",
        "                # Iterate through the tables\n",
        "                for table_index, table in enumerate(tables):\n",
        "                    row_count = table.GetRowCount()\n",
        "                    col_count = table.GetColumnCount()\n",
        "\n",
        "                    table_data.append(f\"Table {table_index + 1} of Page {page_index + 1}:\\n\")\n",
        "\n",
        "                    # Extract data from each table and append the data to the table_data list\n",
        "                    for row_index in range(row_count):\n",
        "                        row_data = []\n",
        "                        for column_index in range(col_count):\n",
        "                            data = table.GetText(row_index, column_index)\n",
        "                            row_data.append(data.strip())\n",
        "                        table_data.append(\"  \".join(row_data))\n",
        "\n",
        "                    table_data.append(\"\\n\")\n",
        "\n",
        "        return table_data\n",
        "\n",
        "    except Exception as e:\n",
        "        print(f\"Error occurred: {str(e)}\")\n",
        "        return None\n",
        "\n",
        "# Define a save_table_data_to_text function to save the table data extracted from a PDF to a text file\n",
        "def save_table_data_to_text(table_data, output_path):\n",
        "    try:\n",
        "        with open(output_path, \"w\", encoding=\"utf-8\") as file:\n",
        "            file.write(\"\\n\".join(table_data))\n",
        "        print(f\"Table data saved to '{output_path}' successfully.\")\n",
        "    except Exception as e:\n",
        "        print(f\"Error occurred while saving table data: {str(e)}\")\n",
        "\n",
        "# Example usage\n",
        "pdf_path = \"Tables.pdf\"\n",
        "output_path = \"table_data.txt\"\n",
        "\n",
        "data = extract_table_data(pdf_path)\n",
        "if data:\n",
        "    save_table_data_to_text(data, output_path)"
      ],
      "metadata": {
        "id": "49JZN-ZFggTn"
      },
      "execution_count": 2,
      "outputs": []
    },
    {
      "cell_type": "markdown",
      "source": [
        "# Extract PDF Tables to CSV in Python\n"
      ],
      "metadata": {
        "id": "iwv8cND9gqwy"
      }
    },
    {
      "cell_type": "code",
      "source": [
        "from spire.pdf import *\n",
        "from spire.xls import *\n",
        "\n",
        "# Define a function to extract data from PDF tables to CSV\n",
        "def extract_table_data_to_csv(pdf_path, csv_directory):\n",
        "    # Create an instance of the PdfDocument class\n",
        "    doc = PdfDocument()\n",
        "\n",
        "    try:\n",
        "        # Load a PDF document\n",
        "        doc.LoadFromFile(pdf_path)\n",
        "\n",
        "        # Create an instance of the PdfTableExtractor class\n",
        "        extractor = PdfTableExtractor(doc)\n",
        "\n",
        "        # Create an instance of the Workbook class\n",
        "        workbook = Workbook()\n",
        "        # Remove the default 3 worksheets\n",
        "        workbook.Worksheets.Clear()\n",
        "\n",
        "        # Iterate through the pages in the PDF document\n",
        "        for page_index in range(doc.Pages.Count):\n",
        "            # Extract tables from each page\n",
        "            tables = extractor.ExtractTable(page_index)\n",
        "            if tables is not None and len(tables) > 0:\n",
        "                # Iterate through the extracted tables\n",
        "                for table_index, table in enumerate(tables):\n",
        "                    # Create a new worksheet for each table\n",
        "                    worksheet = workbook.CreateEmptySheet()\n",
        "\n",
        "                    row_count = table.GetRowCount()\n",
        "                    col_count = table.GetColumnCount()\n",
        "\n",
        "                    # Extract data from the table and populate the worksheet\n",
        "                    for row_index in range(row_count):\n",
        "                        for column_index in range(col_count):\n",
        "                            data = table.GetText(row_index, column_index)\n",
        "                            worksheet.Range[row_index + 1, column_index + 1].Value = data.strip()\n",
        "\n",
        "                    csv_name = csv_directory + f\"Table {table_index + 1} of Page {page_index + 1}\" + \".csv\"\n",
        "\n",
        "                    # Save each worksheet to a separate CSV file\n",
        "                    worksheet.SaveToFile(csv_name, \",\", Encoding.get_UTF8())\n",
        "\n",
        "    except Exception as e:\n",
        "        print(f\"Error occurred: {str(e)}\")\n",
        "\n",
        "# Example usage\n",
        "pdf_path = \"Tables.pdf\"\n",
        "csv_directory = \"CSV/\"\n",
        "extract_table_data_to_csv(pdf_path, csv_directory)"
      ],
      "metadata": {
        "id": "lgpl0utQgjt-"
      },
      "execution_count": 3,
      "outputs": []
    }
  ]
}
