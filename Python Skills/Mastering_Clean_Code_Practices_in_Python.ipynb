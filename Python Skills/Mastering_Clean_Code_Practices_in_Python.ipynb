{
  "nbformat": 4,
  "nbformat_minor": 0,
  "metadata": {
    "colab": {
      "provenance": [],
      "authorship_tag": "ABX9TyM/YbJfPJ5soqX9njTmTRdr"
    },
    "kernelspec": {
      "name": "python3",
      "display_name": "Python 3"
    },
    "language_info": {
      "name": "python"
    }
  },
  "cells": [
    {
      "cell_type": "markdown",
      "source": [
        "[Reference](https://ishanjain-ai.medium.com/mastering-clean-code-practices-in-python-ca29d9569513)"
      ],
      "metadata": {
        "id": "USW-SRMhgLMT"
      }
    },
    {
      "cell_type": "markdown",
      "source": [
        "# 1. How to Tell the Difference Between Good and Bad Code"
      ],
      "metadata": {
        "id": "HTSHQiPOgPMC"
      }
    },
    {
      "cell_type": "code",
      "execution_count": 1,
      "metadata": {
        "id": "yU2wL5eOf9ad"
      },
      "outputs": [],
      "source": [
        "def calculate_total_price(item_price, quantity):\n",
        "    tax_rate = 0.2\n",
        "    total_price = item_price * quantity * (1 + tax_rate)\n",
        "    return total_price"
      ]
    },
    {
      "cell_type": "code",
      "source": [
        "def x(y): z=5;return y*z"
      ],
      "metadata": {
        "id": "JjQNBh2CgQuB"
      },
      "execution_count": 2,
      "outputs": []
    },
    {
      "cell_type": "markdown",
      "source": [
        "# 2. How to Write Good Code and Transform Bad Code"
      ],
      "metadata": {
        "id": "HcMaGz_-gSLR"
      }
    },
    {
      "cell_type": "code",
      "source": [
        "# Bad Code\n",
        "def calculate_average(numbers):\n",
        "    total = 0\n",
        "    for num in numbers:\n",
        "        total += num\n",
        "    return total / len(numbers)"
      ],
      "metadata": {
        "id": "vZYRm9nbgQ3U"
      },
      "execution_count": 5,
      "outputs": []
    },
    {
      "cell_type": "code",
      "source": [
        "# Bad code\n",
        "def add_numbers(a, b):\n",
        "    return a + b\n",
        "\n",
        "# Good code after refactoring\n",
        "def add_numbers(x, y):\n",
        "    return x + y"
      ],
      "metadata": {
        "id": "JU_gDAKWgTdS"
      },
      "execution_count": 6,
      "outputs": []
    },
    {
      "cell_type": "markdown",
      "source": [
        "# 3. How to Create Good Names, Functions, Objects, and Classes"
      ],
      "metadata": {
        "id": "6UYPZpxFgZXZ"
      }
    },
    {
      "cell_type": "code",
      "source": [
        "# Bad Naming\n",
        "x = 10  # What is 'x'?\n",
        "def func(a, b):  # What does 'func' do?\n",
        "\n",
        "# Good Naming\n",
        "count = 10  # Descriptive name\n",
        "def add_numbers(num1, num2):  # Clear function name"
      ],
      "metadata": {
        "id": "oPKwaqskgVOu"
      },
      "execution_count": 8,
      "outputs": []
    },
    {
      "cell_type": "code",
      "source": [
        "# Bad naming\n",
        "def func(x, y):\n",
        "    return x + y\n",
        "\n",
        "# Good naming\n",
        "def calculate_sum(num1, num2):\n",
        "    return num1 + num2"
      ],
      "metadata": {
        "id": "GWgEF2j0gaaR"
      },
      "execution_count": 9,
      "outputs": []
    },
    {
      "cell_type": "markdown",
      "source": [
        "# 4. How to Format Code for Maximum Readability"
      ],
      "metadata": {
        "id": "chqCUPEVgedU"
      }
    },
    {
      "cell_type": "code",
      "source": [
        "# Bad Formatting\n",
        "def some_function(x,y,z):\n",
        "    result = x+y+z\n",
        "    return result\n",
        "\n",
        "# Good Formatting\n",
        "def some_function(x, y, z):\n",
        "    result = x + y + z\n",
        "    return result"
      ],
      "metadata": {
        "id": "MbF_RFecgdgh"
      },
      "execution_count": 11,
      "outputs": []
    },
    {
      "cell_type": "markdown",
      "source": [
        "# 5. How to implement complete error handling without obscuring code logic"
      ],
      "metadata": {
        "id": "N6k1Nud7giLR"
      }
    },
    {
      "cell_type": "code",
      "source": [
        "# Bad Error Handling\n",
        "try:\n",
        "    result = 10 / 0\n",
        "except Exception as e:\n",
        "    print(\"An error occurred\")"
      ],
      "metadata": {
        "colab": {
          "base_uri": "https://localhost:8080/"
        },
        "id": "OzZjcxaXgge9",
        "outputId": "df2b33e5-814c-4916-f4d7-aa2b75548f6c"
      },
      "execution_count": 12,
      "outputs": [
        {
          "output_type": "stream",
          "name": "stdout",
          "text": [
            "An error occurred\n"
          ]
        }
      ]
    },
    {
      "cell_type": "code",
      "source": [
        "# Good Error Handling\n",
        "try:\n",
        "    result = 10 / 0\n",
        "except ZeroDivisionError as e:\n",
        "    print(\"Division by zero error:\", e)"
      ],
      "metadata": {
        "colab": {
          "base_uri": "https://localhost:8080/"
        },
        "id": "0fByvhergjPC",
        "outputId": "3bee641c-60ba-4ea0-fe6a-1d4e04773b16"
      },
      "execution_count": 13,
      "outputs": [
        {
          "output_type": "stream",
          "name": "stdout",
          "text": [
            "Division by zero error: division by zero\n"
          ]
        }
      ]
    },
    {
      "cell_type": "code",
      "source": [
        "# Bad error handling\n",
        "def divide(a, b):\n",
        "    try:\n",
        "        return a / b\n",
        "    except ZeroDivisionError:\n",
        "        return None\n",
        "\n",
        "# Good error handling\n",
        "def divide(a, b):\n",
        "    if b == 0:\n",
        "        raise ValueError(\"Cannot divide by zero.\")\n",
        "    return a / b"
      ],
      "metadata": {
        "id": "1c-vfO4SgkBS"
      },
      "execution_count": 14,
      "outputs": []
    },
    {
      "cell_type": "markdown",
      "source": [
        "# 6. How to Unit Test and Practice Test-Driven Development"
      ],
      "metadata": {
        "id": "i1nXcTMtgmPG"
      }
    },
    {
      "cell_type": "code",
      "source": [
        "# Bad Testing\n",
        "def add(a, b):\n",
        "    return a + b"
      ],
      "metadata": {
        "id": "bwCvlV2Rgk-s"
      },
      "execution_count": 15,
      "outputs": []
    },
    {
      "cell_type": "code",
      "source": [
        "# No testing\n",
        "# Good Testing (Using pytest)\n",
        "import pytest\n",
        "def add(a, b):\n",
        "    return a + b\n",
        "def test_add():\n",
        "    assert add(2, 3) == 5\n",
        "    assert add(-1, 1) == 0"
      ],
      "metadata": {
        "id": "d0pZYLcJgnVS"
      },
      "execution_count": 16,
      "outputs": []
    },
    {
      "cell_type": "code",
      "source": [
        "# Bad code without tests\n",
        "def add_numbers(x, y):\n",
        "    return x + y\n",
        "\n",
        "# Good code with tests\n",
        "def add_numbers(x, y):\n",
        "    if type(x) not in (int, float) or type(y) not in (int, float):\n",
        "        raise ValueError(\"Input must be numeric.\")\n",
        "    return x + y\n",
        "\n",
        "# Corresponding unit test\n",
        "def test_add_numbers():\n",
        "    assert add_numbers(2, 3) == 5\n",
        "    assert add_numbers(0.5, 0.25) == 0.75\n",
        "    assert add_numbers(\"hello\", \"world\")  # Raises ValueError"
      ],
      "metadata": {
        "id": "0cByB4l0goIf"
      },
      "execution_count": 17,
      "outputs": []
    }
  ]
}
