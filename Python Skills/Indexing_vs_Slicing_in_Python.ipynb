{
  "nbformat": 4,
  "nbformat_minor": 0,
  "metadata": {
    "colab": {
      "name": "Indexing vs Slicing in Python.ipynb",
      "provenance": [],
      "authorship_tag": "ABX9TyO2qgWRNPHbS3k6YMWLGSOQ"
    },
    "kernelspec": {
      "name": "python3",
      "display_name": "Python 3"
    },
    "language_info": {
      "name": "python"
    }
  },
  "cells": [
    {
      "cell_type": "markdown",
      "metadata": {
        "id": "kOUoD8G4E5uh"
      },
      "source": [
        "[Reference](https://medium.com/dev-genius/indexing-vs-slicing-in-python-de01cd99c499)"
      ]
    },
    {
      "cell_type": "code",
      "metadata": {
        "colab": {
          "base_uri": "https://localhost:8080/"
        },
        "id": "pBHo3bdmE0wR",
        "outputId": "39441d7b-e901-4296-cb0c-12247ac9c61a"
      },
      "source": [
        "s = \"Python\"\n",
        "print(s[0])#Output:P\n",
        "print(s[-1])#Output:n\n",
        "print(s[-2])#Output:o"
      ],
      "execution_count": 1,
      "outputs": [
        {
          "output_type": "stream",
          "text": [
            "P\n",
            "n\n",
            "o\n"
          ],
          "name": "stdout"
        }
      ]
    },
    {
      "cell_type": "code",
      "metadata": {
        "colab": {
          "base_uri": "https://localhost:8080/"
        },
        "id": "UhATIdgeFAn2",
        "outputId": "f09e4beb-ab45-48a2-8778-be71f09d57b1"
      },
      "source": [
        "list_=[10,20,30,40,50]\n",
        "print(list_[0])#Output:10\n",
        "print(list_[-1])#Output:50\n",
        "print(list_[-2])#Output:40"
      ],
      "execution_count": 2,
      "outputs": [
        {
          "output_type": "stream",
          "text": [
            "10\n",
            "50\n",
            "40\n"
          ],
          "name": "stdout"
        }
      ]
    },
    {
      "cell_type": "code",
      "metadata": {
        "colab": {
          "base_uri": "https://localhost:8080/"
        },
        "id": "lO32dnG2FFWw",
        "outputId": "f1be7b3b-46dd-4b47-b0c1-46279d1718f9"
      },
      "source": [
        "#Indexing - tuple\n",
        "t=(1,2,3,4,5)\n",
        "print(t[0])#Output:1\n",
        "print(t[-1])#Output:5\n",
        "print(t[-2])#Output:4"
      ],
      "execution_count": 3,
      "outputs": [
        {
          "output_type": "stream",
          "text": [
            "1\n",
            "5\n",
            "4\n"
          ],
          "name": "stdout"
        }
      ]
    },
    {
      "cell_type": "code",
      "metadata": {
        "colab": {
          "base_uri": "https://localhost:8080/"
        },
        "id": "hV39oKcOFJOO",
        "outputId": "9d1d908d-04f1-49b9-9de5-dca679b26bf4"
      },
      "source": [
        "#Indexing - range object\n",
        "r=range(5)\n",
        "print(r[0])#Output:0\n",
        "print(r[-1])#Output:4\n",
        "print(r[-2])#Output:3"
      ],
      "execution_count": 4,
      "outputs": [
        {
          "output_type": "stream",
          "text": [
            "0\n",
            "4\n",
            "3\n"
          ],
          "name": "stdout"
        }
      ]
    },
    {
      "cell_type": "code",
      "metadata": {
        "colab": {
          "base_uri": "https://localhost:8080/",
          "height": 266
        },
        "id": "iDygjvYmFLAX",
        "outputId": "2733da8c-4915-49df-fe0d-8453bb062d7d"
      },
      "source": [
        "#Indexing - tuple\n",
        "t=(1,2,3,4,5)\n",
        "print (t[-6])#Output:IndexError: tuple index out of range\n",
        "\n",
        "\n",
        "#Indexing - range object\n",
        "r=range(5)\n",
        "print (r[-7])#Output:IndexError: range object index out of range\n",
        "\n",
        "\n",
        "#Indexing - List\n",
        "n=[1,2,3,4,5]\n",
        "print (n[6])#Output:IndexError: list index out of range\n",
        "\n",
        "\n",
        "#Indexing -string\n",
        "s=\"python\"\n",
        "print (s[7])#Output:IndexError: string index out of range"
      ],
      "execution_count": 5,
      "outputs": [
        {
          "output_type": "error",
          "ename": "IndexError",
          "evalue": "ignored",
          "traceback": [
            "\u001b[0;31m---------------------------------------------------------------------------\u001b[0m",
            "\u001b[0;31mIndexError\u001b[0m                                Traceback (most recent call last)",
            "\u001b[0;32m<ipython-input-5-461eb2bed9dd>\u001b[0m in \u001b[0;36m<module>\u001b[0;34m()\u001b[0m\n\u001b[1;32m      1\u001b[0m \u001b[0;31m#Indexing - tuple\u001b[0m\u001b[0;34m\u001b[0m\u001b[0;34m\u001b[0m\u001b[0;34m\u001b[0m\u001b[0m\n\u001b[1;32m      2\u001b[0m \u001b[0mt\u001b[0m\u001b[0;34m=\u001b[0m\u001b[0;34m(\u001b[0m\u001b[0;36m1\u001b[0m\u001b[0;34m,\u001b[0m\u001b[0;36m2\u001b[0m\u001b[0;34m,\u001b[0m\u001b[0;36m3\u001b[0m\u001b[0;34m,\u001b[0m\u001b[0;36m4\u001b[0m\u001b[0;34m,\u001b[0m\u001b[0;36m5\u001b[0m\u001b[0;34m)\u001b[0m\u001b[0;34m\u001b[0m\u001b[0;34m\u001b[0m\u001b[0m\n\u001b[0;32m----> 3\u001b[0;31m \u001b[0mprint\u001b[0m \u001b[0;34m(\u001b[0m\u001b[0mt\u001b[0m\u001b[0;34m[\u001b[0m\u001b[0;34m-\u001b[0m\u001b[0;36m6\u001b[0m\u001b[0;34m]\u001b[0m\u001b[0;34m)\u001b[0m\u001b[0;31m#Output:IndexError: tuple index out of range\u001b[0m\u001b[0;34m\u001b[0m\u001b[0;34m\u001b[0m\u001b[0m\n\u001b[0m\u001b[1;32m      4\u001b[0m \u001b[0;34m\u001b[0m\u001b[0m\n\u001b[1;32m      5\u001b[0m \u001b[0;34m\u001b[0m\u001b[0m\n",
            "\u001b[0;31mIndexError\u001b[0m: tuple index out of range"
          ]
        }
      ]
    },
    {
      "cell_type": "code",
      "metadata": {
        "colab": {
          "base_uri": "https://localhost:8080/",
          "height": 266
        },
        "id": "pLtwCWuMFOiU",
        "outputId": "ae3b97e8-7192-43af-8007-eed790c54c4c"
      },
      "source": [
        "s=\"Python\"\n",
        "s[0]=\"j\"\n",
        "#Output:TypeError: 'str' object does not support item assignment\n",
        "\n",
        "t=(1,2,3)\n",
        "t[2]=7#Output:TypeError: 'tuple' object does not support item assignment\n",
        "\n",
        "r=range(5)\n",
        "r[0]=10"
      ],
      "execution_count": 6,
      "outputs": [
        {
          "output_type": "error",
          "ename": "TypeError",
          "evalue": "ignored",
          "traceback": [
            "\u001b[0;31m---------------------------------------------------------------------------\u001b[0m",
            "\u001b[0;31mTypeError\u001b[0m                                 Traceback (most recent call last)",
            "\u001b[0;32m<ipython-input-6-32d3bd7ed093>\u001b[0m in \u001b[0;36m<module>\u001b[0;34m()\u001b[0m\n\u001b[1;32m      1\u001b[0m \u001b[0ms\u001b[0m\u001b[0;34m=\u001b[0m\u001b[0;34m\"Python\"\u001b[0m\u001b[0;34m\u001b[0m\u001b[0;34m\u001b[0m\u001b[0m\n\u001b[0;32m----> 2\u001b[0;31m \u001b[0ms\u001b[0m\u001b[0;34m[\u001b[0m\u001b[0;36m0\u001b[0m\u001b[0;34m]\u001b[0m\u001b[0;34m=\u001b[0m\u001b[0;34m\"j\"\u001b[0m\u001b[0;34m\u001b[0m\u001b[0;34m\u001b[0m\u001b[0m\n\u001b[0m\u001b[1;32m      3\u001b[0m \u001b[0;31m#Output:TypeError: 'str' object does not support item assignment\u001b[0m\u001b[0;34m\u001b[0m\u001b[0;34m\u001b[0m\u001b[0;34m\u001b[0m\u001b[0m\n\u001b[1;32m      4\u001b[0m \u001b[0;34m\u001b[0m\u001b[0m\n\u001b[1;32m      5\u001b[0m \u001b[0mt\u001b[0m\u001b[0;34m=\u001b[0m\u001b[0;34m(\u001b[0m\u001b[0;36m1\u001b[0m\u001b[0;34m,\u001b[0m\u001b[0;36m2\u001b[0m\u001b[0;34m,\u001b[0m\u001b[0;36m3\u001b[0m\u001b[0;34m)\u001b[0m\u001b[0;34m\u001b[0m\u001b[0;34m\u001b[0m\u001b[0m\n",
            "\u001b[0;31mTypeError\u001b[0m: 'str' object does not support item assignment"
          ]
        }
      ]
    },
    {
      "cell_type": "code",
      "metadata": {
        "colab": {
          "base_uri": "https://localhost:8080/"
        },
        "id": "gTBaVeCHFQo5",
        "outputId": "0c4ab8e1-0be3-4ca2-9019-b6dafaf2facd"
      },
      "source": [
        "t=(1,2,[3])\n",
        "#Item assignment supported for list element inside tuple.\n",
        "t[2][0]=7\n",
        "print(t)#Output:(1, 2, [7])"
      ],
      "execution_count": 7,
      "outputs": [
        {
          "output_type": "stream",
          "text": [
            "(1, 2, [7])\n"
          ],
          "name": "stdout"
        }
      ]
    },
    {
      "cell_type": "code",
      "metadata": {
        "colab": {
          "base_uri": "https://localhost:8080/"
        },
        "id": "Ge8UkhMiFmor",
        "outputId": "e17df6c2-ab5f-46b0-848d-a2b86314fad1"
      },
      "source": [
        "num=[1,2,3,4,5]\n",
        "num[2]=99\n",
        "#list supports item assignment\n",
        "print(num)"
      ],
      "execution_count": 8,
      "outputs": [
        {
          "output_type": "stream",
          "text": [
            "[1, 2, 99, 4, 5]\n"
          ],
          "name": "stdout"
        }
      ]
    },
    {
      "cell_type": "code",
      "metadata": {
        "colab": {
          "base_uri": "https://localhost:8080/"
        },
        "id": "bpjWR8zlFqJy",
        "outputId": "49b647da-42b7-41ce-8264-09c720651146"
      },
      "source": [
        "colors=[\"red\",\"blue\",\"green\"]\n",
        "colors[1]=\"yellow\"\n",
        "print(colors)"
      ],
      "execution_count": 9,
      "outputs": [
        {
          "output_type": "stream",
          "text": [
            "['red', 'yellow', 'green']\n"
          ],
          "name": "stdout"
        }
      ]
    },
    {
      "cell_type": "code",
      "metadata": {
        "colab": {
          "base_uri": "https://localhost:8080/"
        },
        "id": "xXu3CV3rFsTt",
        "outputId": "a91bc8b7-e20a-4773-b867-adeb6fbdc668"
      },
      "source": [
        "s=\"Python\"\n",
        "print(s[1:3])"
      ],
      "execution_count": 10,
      "outputs": [
        {
          "output_type": "stream",
          "text": [
            "yt\n"
          ],
          "name": "stdout"
        }
      ]
    },
    {
      "cell_type": "code",
      "metadata": {
        "colab": {
          "base_uri": "https://localhost:8080/"
        },
        "id": "YrPXwcDfFvv3",
        "outputId": "12986a84-ae29-4e9c-fd88-d8543886c8a4"
      },
      "source": [
        "s=\"Python\"\n",
        "print(s[0:3])"
      ],
      "execution_count": 11,
      "outputs": [
        {
          "output_type": "stream",
          "text": [
            "Pyt\n"
          ],
          "name": "stdout"
        }
      ]
    },
    {
      "cell_type": "code",
      "metadata": {
        "colab": {
          "base_uri": "https://localhost:8080/"
        },
        "id": "Q8xJKXx_Fyf8",
        "outputId": "7df24d35-18cb-4b6d-d41b-6d8f62c8d980"
      },
      "source": [
        "s=\"Python\"\n",
        "print(s[:4])"
      ],
      "execution_count": 12,
      "outputs": [
        {
          "output_type": "stream",
          "text": [
            "Pyth\n"
          ],
          "name": "stdout"
        }
      ]
    },
    {
      "cell_type": "code",
      "metadata": {
        "colab": {
          "base_uri": "https://localhost:8080/"
        },
        "id": "XF7ojG-iF0k3",
        "outputId": "ac8f26db-b778-4bc8-fc30-b4508a9d5fa3"
      },
      "source": [
        "s=\"Python\"\n",
        "print(s[2:])"
      ],
      "execution_count": 13,
      "outputs": [
        {
          "output_type": "stream",
          "text": [
            "thon\n"
          ],
          "name": "stdout"
        }
      ]
    },
    {
      "cell_type": "code",
      "metadata": {
        "colab": {
          "base_uri": "https://localhost:8080/"
        },
        "id": "8ayvHtz9F2HR",
        "outputId": "524b676c-264e-4bd8-b1e6-b4e1736ab660"
      },
      "source": [
        "s=\"Python\"\n",
        "print(s[-2:])"
      ],
      "execution_count": 14,
      "outputs": [
        {
          "output_type": "stream",
          "text": [
            "on\n"
          ],
          "name": "stdout"
        }
      ]
    },
    {
      "cell_type": "code",
      "metadata": {
        "colab": {
          "base_uri": "https://localhost:8080/"
        },
        "id": "rmY5m-tNF5NV",
        "outputId": "2bfa3b12-2e30-4dfc-ab72-5732e0ea765d"
      },
      "source": [
        "s=\"Python\"\n",
        "print(s[1:5:2])"
      ],
      "execution_count": 15,
      "outputs": [
        {
          "output_type": "stream",
          "text": [
            "yh\n"
          ],
          "name": "stdout"
        }
      ]
    },
    {
      "cell_type": "code",
      "metadata": {
        "colab": {
          "base_uri": "https://localhost:8080/"
        },
        "id": "eKSZVpr8F7CF",
        "outputId": "c8cb3649-5e2b-4029-81aa-9e2008bc4a04"
      },
      "source": [
        "s=\"Python\"\n",
        "print(s[10:])"
      ],
      "execution_count": 16,
      "outputs": [
        {
          "output_type": "stream",
          "text": [
            "\n"
          ],
          "name": "stdout"
        }
      ]
    },
    {
      "cell_type": "code",
      "metadata": {
        "colab": {
          "base_uri": "https://localhost:8080/"
        },
        "id": "pxEEGakBF9Zp",
        "outputId": "3a58c523-793e-4132-e2b9-8692eef0fe4d"
      },
      "source": [
        "n=[0,1,2,3,4,5]\n",
        "print(n[:])"
      ],
      "execution_count": 17,
      "outputs": [
        {
          "output_type": "stream",
          "text": [
            "[0, 1, 2, 3, 4, 5]\n"
          ],
          "name": "stdout"
        }
      ]
    },
    {
      "cell_type": "code",
      "metadata": {
        "colab": {
          "base_uri": "https://localhost:8080/"
        },
        "id": "TLqrUc5tF_C9",
        "outputId": "1db31d4d-e20e-4b6d-a8ea-c98b2c81a3ba"
      },
      "source": [
        "n=[0,1,2,3,4,5]\n",
        "print(n[1:3])"
      ],
      "execution_count": 18,
      "outputs": [
        {
          "output_type": "stream",
          "text": [
            "[1, 2]\n"
          ],
          "name": "stdout"
        }
      ]
    },
    {
      "cell_type": "code",
      "metadata": {
        "colab": {
          "base_uri": "https://localhost:8080/"
        },
        "id": "E7ONjGy6GBOy",
        "outputId": "203923e5-fa02-4335-88d0-32f6ea72851f"
      },
      "source": [
        "n=[0,1,2,3,4,5]\n",
        "print(n[1:])"
      ],
      "execution_count": 19,
      "outputs": [
        {
          "output_type": "stream",
          "text": [
            "[1, 2, 3, 4, 5]\n"
          ],
          "name": "stdout"
        }
      ]
    },
    {
      "cell_type": "code",
      "metadata": {
        "colab": {
          "base_uri": "https://localhost:8080/"
        },
        "id": "pp289XgeGCnw",
        "outputId": "9f73de9a-69b2-428c-989e-35544a42307e"
      },
      "source": [
        "n=[0,1,2,3,4,5]\n",
        "print(n[:4])"
      ],
      "execution_count": 20,
      "outputs": [
        {
          "output_type": "stream",
          "text": [
            "[0, 1, 2, 3]\n"
          ],
          "name": "stdout"
        }
      ]
    },
    {
      "cell_type": "code",
      "metadata": {
        "colab": {
          "base_uri": "https://localhost:8080/"
        },
        "id": "jYnwpO8OGD6l",
        "outputId": "e348c4ee-70cf-4746-b266-0a08ade5326a"
      },
      "source": [
        "n=[0,1,2,3,4,5]\n",
        "print(n[1:2])\n",
        "print(n[1])"
      ],
      "execution_count": 21,
      "outputs": [
        {
          "output_type": "stream",
          "text": [
            "[1]\n",
            "1\n"
          ],
          "name": "stdout"
        }
      ]
    },
    {
      "cell_type": "code",
      "metadata": {
        "colab": {
          "base_uri": "https://localhost:8080/"
        },
        "id": "PkYz2VWtGGZB",
        "outputId": "66443d78-8d1b-4f50-d29d-6fc1b8896eb3"
      },
      "source": [
        "n=[0,1,2,3,4,5]\n",
        "print(n[1:5:2])"
      ],
      "execution_count": 22,
      "outputs": [
        {
          "output_type": "stream",
          "text": [
            "[1, 3]\n"
          ],
          "name": "stdout"
        }
      ]
    },
    {
      "cell_type": "code",
      "metadata": {
        "colab": {
          "base_uri": "https://localhost:8080/"
        },
        "id": "ECG6AGHfGIG7",
        "outputId": "5ae8dc2d-0e0d-4519-fc05-bedfbec79e4b"
      },
      "source": [
        "n=[0,1,2,3,4,5]\n",
        "#Replace some values\n",
        "n[1:3]=[999]\n",
        "print(n)\n",
        "n[1:]=[22]\n",
        "print(n)"
      ],
      "execution_count": 23,
      "outputs": [
        {
          "output_type": "stream",
          "text": [
            "[0, 999, 3, 4, 5]\n",
            "[0, 22]\n"
          ],
          "name": "stdout"
        }
      ]
    },
    {
      "cell_type": "code",
      "metadata": {
        "colab": {
          "base_uri": "https://localhost:8080/",
          "height": 232
        },
        "id": "0u8qcu_AGMr8",
        "outputId": "963fd063-3803-4aa3-e55a-b3716898d49a"
      },
      "source": [
        "n=[0,1,2,3,4,5]\n",
        "#Replace some values\n",
        "n[1:3]=99"
      ],
      "execution_count": 24,
      "outputs": [
        {
          "output_type": "error",
          "ename": "TypeError",
          "evalue": "ignored",
          "traceback": [
            "\u001b[0;31m---------------------------------------------------------------------------\u001b[0m",
            "\u001b[0;31mTypeError\u001b[0m                                 Traceback (most recent call last)",
            "\u001b[0;32m<ipython-input-24-fb5b3dd99af6>\u001b[0m in \u001b[0;36m<module>\u001b[0;34m()\u001b[0m\n\u001b[1;32m      1\u001b[0m \u001b[0mn\u001b[0m\u001b[0;34m=\u001b[0m\u001b[0;34m[\u001b[0m\u001b[0;36m0\u001b[0m\u001b[0;34m,\u001b[0m\u001b[0;36m1\u001b[0m\u001b[0;34m,\u001b[0m\u001b[0;36m2\u001b[0m\u001b[0;34m,\u001b[0m\u001b[0;36m3\u001b[0m\u001b[0;34m,\u001b[0m\u001b[0;36m4\u001b[0m\u001b[0;34m,\u001b[0m\u001b[0;36m5\u001b[0m\u001b[0;34m]\u001b[0m\u001b[0;34m\u001b[0m\u001b[0;34m\u001b[0m\u001b[0m\n\u001b[1;32m      2\u001b[0m \u001b[0;31m#Replace some values\u001b[0m\u001b[0;34m\u001b[0m\u001b[0;34m\u001b[0m\u001b[0;34m\u001b[0m\u001b[0m\n\u001b[0;32m----> 3\u001b[0;31m \u001b[0mn\u001b[0m\u001b[0;34m[\u001b[0m\u001b[0;36m1\u001b[0m\u001b[0;34m:\u001b[0m\u001b[0;36m3\u001b[0m\u001b[0;34m]\u001b[0m\u001b[0;34m=\u001b[0m\u001b[0;36m99\u001b[0m\u001b[0;34m\u001b[0m\u001b[0;34m\u001b[0m\u001b[0m\n\u001b[0m",
            "\u001b[0;31mTypeError\u001b[0m: can only assign an iterable"
          ]
        }
      ]
    },
    {
      "cell_type": "code",
      "metadata": {
        "colab": {
          "base_uri": "https://localhost:8080/"
        },
        "id": "tXvZ8ZC0GVqQ",
        "outputId": "daaef71f-69c6-4a10-95fe-2eb207a28da2"
      },
      "source": [
        "n=[0,1,2,3,4,5]\n",
        "#Assigning iterable to slicing\n",
        "n[1:3]=[99]\n",
        "print(n)\n",
        "#Output:[0, 99, 3, 4, 5]\n",
        "\n",
        "#tuple one element\n",
        "n[1:3]=(77,)\n",
        "print(n)\n",
        "#Output:[0, 77, 4, 5]\n",
        "\n",
        "n[1:3]='5'\n",
        "print(n)"
      ],
      "execution_count": 25,
      "outputs": [
        {
          "output_type": "stream",
          "text": [
            "[0, 99, 3, 4, 5]\n",
            "[0, 77, 4, 5]\n",
            "[0, '5', 5]\n"
          ],
          "name": "stdout"
        }
      ]
    },
    {
      "cell_type": "code",
      "metadata": {
        "colab": {
          "base_uri": "https://localhost:8080/"
        },
        "id": "L3bgEUKzGaSz",
        "outputId": "5484ead0-f109-4769-a36b-e081247f1c90"
      },
      "source": [
        "n=[0,1,2,3,4,5]\n",
        "n[1:4]=[]\n",
        "print(n)"
      ],
      "execution_count": 26,
      "outputs": [
        {
          "output_type": "stream",
          "text": [
            "[0, 4, 5]\n"
          ],
          "name": "stdout"
        }
      ]
    },
    {
      "cell_type": "code",
      "metadata": {
        "colab": {
          "base_uri": "https://localhost:8080/"
        },
        "id": "ZZ3c-G94GcER",
        "outputId": "392d7e44-5f71-4119-85e5-b930b861fdbf"
      },
      "source": [
        "n=[0,1,2,3,4,5]\n",
        "n[:]=[]\n",
        "print(n)"
      ],
      "execution_count": 27,
      "outputs": [
        {
          "output_type": "stream",
          "text": [
            "[]\n"
          ],
          "name": "stdout"
        }
      ]
    },
    {
      "cell_type": "code",
      "metadata": {
        "colab": {
          "base_uri": "https://localhost:8080/"
        },
        "id": "3107RpWzGdgX",
        "outputId": "304dff1e-d655-415f-86b7-aa1a0b35d937"
      },
      "source": [
        "num=[0,1,2,3,4,5]\n",
        "num1=slice(1,3)\n",
        "print(num1)\n",
        "#Output:slice(1, 3, None)\n",
        "print(type(num1))"
      ],
      "execution_count": 28,
      "outputs": [
        {
          "output_type": "stream",
          "text": [
            "slice(1, 3, None)\n",
            "<class 'slice'>\n"
          ],
          "name": "stdout"
        }
      ]
    },
    {
      "cell_type": "code",
      "metadata": {
        "colab": {
          "base_uri": "https://localhost:8080/"
        },
        "id": "_t9QoBu0Gf4c",
        "outputId": "58387642-bbd8-4a84-e734-f2d148778303"
      },
      "source": [
        "num=[0,1,2,3,4,5]\n",
        "s=slice(1,3)\n",
        "print(num[s])"
      ],
      "execution_count": 29,
      "outputs": [
        {
          "output_type": "stream",
          "text": [
            "[1, 2]\n"
          ],
          "name": "stdout"
        }
      ]
    },
    {
      "cell_type": "code",
      "metadata": {
        "colab": {
          "base_uri": "https://localhost:8080/",
          "height": 300
        },
        "id": "bkWbQIrgGhkf",
        "outputId": "91a403c1-1a1c-4d9f-f895-6093d6ff62c3"
      },
      "source": [
        "import itertools\n",
        "#if only one argument is mentioned other than iterable,it is stop value.\n",
        "num=itertools.islice([1,2,3,4,5,6,7,8,9,10],5)\n",
        "print(list(num))#Output:[1, 2, 3, 4, 5]\n",
        "\n",
        "#start=2 and stop=5 mentioned. It will start from second index and ends at fifth index\n",
        "num=itertools.islice([1,2,3,4,5,6,7,8,9,10],2,5)\n",
        "print(list(num))#Output:[3,4,5]\n",
        "\n",
        "#start=2,step=3.It will start from second index and increment by 3.\n",
        "num=itertools.islice([1,2,3,4,5,6,7,8,9,10],2,None,3)\n",
        "print(list(num))#Output:[3,6,9]\n",
        "\n",
        "#step is given as negative value,it raises ValueError\n",
        "num=itertools.islice([1,2,3,4,5,6,7,8,9,10],2,None,-2)\n",
        "print(list(num))"
      ],
      "execution_count": 30,
      "outputs": [
        {
          "output_type": "stream",
          "text": [
            "[1, 2, 3, 4, 5]\n",
            "[3, 4, 5]\n",
            "[3, 6, 9]\n"
          ],
          "name": "stdout"
        },
        {
          "output_type": "error",
          "ename": "ValueError",
          "evalue": "ignored",
          "traceback": [
            "\u001b[0;31m---------------------------------------------------------------------------\u001b[0m",
            "\u001b[0;31mValueError\u001b[0m                                Traceback (most recent call last)",
            "\u001b[0;32m<ipython-input-30-12fb2090ab1e>\u001b[0m in \u001b[0;36m<module>\u001b[0;34m()\u001b[0m\n\u001b[1;32m     13\u001b[0m \u001b[0;34m\u001b[0m\u001b[0m\n\u001b[1;32m     14\u001b[0m \u001b[0;31m#step is given as negative value,it raises ValueError\u001b[0m\u001b[0;34m\u001b[0m\u001b[0;34m\u001b[0m\u001b[0;34m\u001b[0m\u001b[0m\n\u001b[0;32m---> 15\u001b[0;31m \u001b[0mnum\u001b[0m\u001b[0;34m=\u001b[0m\u001b[0mitertools\u001b[0m\u001b[0;34m.\u001b[0m\u001b[0mislice\u001b[0m\u001b[0;34m(\u001b[0m\u001b[0;34m[\u001b[0m\u001b[0;36m1\u001b[0m\u001b[0;34m,\u001b[0m\u001b[0;36m2\u001b[0m\u001b[0;34m,\u001b[0m\u001b[0;36m3\u001b[0m\u001b[0;34m,\u001b[0m\u001b[0;36m4\u001b[0m\u001b[0;34m,\u001b[0m\u001b[0;36m5\u001b[0m\u001b[0;34m,\u001b[0m\u001b[0;36m6\u001b[0m\u001b[0;34m,\u001b[0m\u001b[0;36m7\u001b[0m\u001b[0;34m,\u001b[0m\u001b[0;36m8\u001b[0m\u001b[0;34m,\u001b[0m\u001b[0;36m9\u001b[0m\u001b[0;34m,\u001b[0m\u001b[0;36m10\u001b[0m\u001b[0;34m]\u001b[0m\u001b[0;34m,\u001b[0m\u001b[0;36m2\u001b[0m\u001b[0;34m,\u001b[0m\u001b[0;32mNone\u001b[0m\u001b[0;34m,\u001b[0m\u001b[0;34m-\u001b[0m\u001b[0;36m2\u001b[0m\u001b[0;34m)\u001b[0m\u001b[0;34m\u001b[0m\u001b[0;34m\u001b[0m\u001b[0m\n\u001b[0m\u001b[1;32m     16\u001b[0m \u001b[0mprint\u001b[0m\u001b[0;34m(\u001b[0m\u001b[0mlist\u001b[0m\u001b[0;34m(\u001b[0m\u001b[0mnum\u001b[0m\u001b[0;34m)\u001b[0m\u001b[0;34m)\u001b[0m\u001b[0;34m\u001b[0m\u001b[0;34m\u001b[0m\u001b[0m\n",
            "\u001b[0;31mValueError\u001b[0m: Step for islice() must be a positive integer or None."
          ]
        }
      ]
    }
  ]
}