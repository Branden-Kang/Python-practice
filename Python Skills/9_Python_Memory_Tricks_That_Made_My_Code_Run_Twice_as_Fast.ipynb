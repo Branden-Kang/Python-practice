{
  "nbformat": 4,
  "nbformat_minor": 0,
  "metadata": {
    "colab": {
      "provenance": [],
      "authorship_tag": "ABX9TyOp0+6v6jy1IeZwnlX00Nid"
    },
    "kernelspec": {
      "name": "python3",
      "display_name": "Python 3"
    },
    "language_info": {
      "name": "python"
    }
  },
  "cells": [
    {
      "cell_type": "markdown",
      "source": [
        "[Reference](https://python.plainenglish.io/9-python-memory-tricks-that-made-my-code-run-twice-as-fast-09aec4b6a28a)"
      ],
      "metadata": {
        "id": "V7cUu8c_z_ym"
      }
    },
    {
      "cell_type": "markdown",
      "source": [
        "# 1. memoryview — Slice Without Copying"
      ],
      "metadata": {
        "id": "VRMCmPWF0CVh"
      }
    },
    {
      "cell_type": "code",
      "execution_count": 1,
      "metadata": {
        "id": "q8SLHidxz9Uk"
      },
      "outputs": [],
      "source": [
        "data = b\"A\" * 10_000_000\n",
        "chunk = memoryview(data)[1_000:2_000]  # zero-copy slice"
      ]
    },
    {
      "cell_type": "markdown",
      "source": [
        "# 2. Bypass Python Objects with numpy.memmap"
      ],
      "metadata": {
        "id": "hIFKmZAu0EEL"
      }
    },
    {
      "cell_type": "code",
      "source": [
        "import numpy as np\n",
        "\n",
        "data = np.memmap(\"bigfile.dat\", dtype=\"float32\", mode=\"r\", shape=(10_000_000,))\n",
        "print(data[1000])  # reads just one element, not the whole file"
      ],
      "metadata": {
        "id": "u1HX2lUC0DTc"
      },
      "execution_count": 3,
      "outputs": []
    },
    {
      "cell_type": "markdown",
      "source": [
        "# 3. Object Pooling with multiprocessing.shared_memory"
      ],
      "metadata": {
        "id": "zITqNnIR0HuH"
      }
    },
    {
      "cell_type": "code",
      "source": [
        "from multiprocessing import shared_memory\n",
        "import numpy as np\n",
        "\n",
        "shm = shared_memory.SharedMemory(create=True, size=1000*8)\n",
        "arr = np.ndarray((1000,), dtype=\"float64\", buffer=shm.buf)\n",
        "arr[:] = np.arange(1000)"
      ],
      "metadata": {
        "id": "woKYAV8h0FXi"
      },
      "execution_count": 4,
      "outputs": []
    },
    {
      "cell_type": "markdown",
      "source": [
        "# 4. Reduce Python Object Overhead with struct\n"
      ],
      "metadata": {
        "id": "YSd4fHpp0Kfb"
      }
    },
    {
      "cell_type": "code",
      "source": [
        "import struct\n",
        "\n",
        "packed = struct.pack(\"1000000i\", *range(1_000_000))\n",
        "print(len(packed))  # 4MB instead of ~28MB × 1M"
      ],
      "metadata": {
        "colab": {
          "base_uri": "https://localhost:8080/"
        },
        "id": "ci2dRHFh0JSh",
        "outputId": "60459446-6e51-47a7-f6c2-6a45700ad92e"
      },
      "execution_count": 5,
      "outputs": [
        {
          "output_type": "stream",
          "name": "stdout",
          "text": [
            "4000000\n"
          ]
        }
      ]
    },
    {
      "cell_type": "markdown",
      "source": [
        "# 5. Custom Allocators with pymalloc and obmalloc Insights"
      ],
      "metadata": {
        "id": "MBjjIZEk0OH0"
      }
    },
    {
      "cell_type": "code",
      "source": [
        "import tracemalloc\n",
        "\n",
        "tracemalloc.start()\n",
        "# Run your code\n",
        "print(tracemalloc.get_traced_memory())  # (current, peak)"
      ],
      "metadata": {
        "colab": {
          "base_uri": "https://localhost:8080/"
        },
        "id": "NqPUj1Ga0MUt",
        "outputId": "ed6331d5-5b4b-424b-945d-7145a82b5720"
      },
      "execution_count": 6,
      "outputs": [
        {
          "output_type": "stream",
          "name": "stdout",
          "text": [
            "(1056, 19208)\n"
          ]
        }
      ]
    },
    {
      "cell_type": "markdown",
      "source": [
        "# 6. Deduplicate DataFrames with pandas.Categorical"
      ],
      "metadata": {
        "id": "EzbwKa3M0QtA"
      }
    },
    {
      "cell_type": "code",
      "source": [
        "import pandas as pd\n",
        "\n",
        "df = pd.DataFrame({\"user\": [\"alice\", \"bob\", \"alice\", \"bob\"] * 100000})\n",
        "print(df.memory_usage(deep=True))\n",
        "\n",
        "df[\"user\"] = df[\"user\"].astype(\"category\")\n",
        "print(df.memory_usage(deep=True))"
      ],
      "metadata": {
        "colab": {
          "base_uri": "https://localhost:8080/"
        },
        "id": "L20jtjni0Pw5",
        "outputId": "83d5604b-4223-4cd6-e384-69285f12e4b7"
      },
      "execution_count": 7,
      "outputs": [
        {
          "output_type": "stream",
          "name": "stdout",
          "text": [
            "Index         132\n",
            "user     21200000\n",
            "dtype: int64\n",
            "Index       132\n",
            "user     400214\n",
            "dtype: int64\n"
          ]
        }
      ]
    },
    {
      "cell_type": "markdown",
      "source": [
        "# 7. Store Only Diffs (PyArrow + Zero-Copy Slices)"
      ],
      "metadata": {
        "id": "C79ezg2h0Unt"
      }
    },
    {
      "cell_type": "code",
      "source": [
        "import pyarrow as pa\n",
        "\n",
        "arr = pa.array(range(10_000_000))\n",
        "sub = arr.slice(1_000, 1000)  # doesn't copy"
      ],
      "metadata": {
        "id": "_OIzBz890SXf"
      },
      "execution_count": 8,
      "outputs": []
    },
    {
      "cell_type": "markdown",
      "source": [
        "# 8. Disable Reference Counting with gc.freeze()"
      ],
      "metadata": {
        "id": "1_DcTHtO0Wmh"
      }
    },
    {
      "cell_type": "code",
      "source": [
        "import gc\n",
        "gc.freeze()  # Objects created before this won’t be tracked"
      ],
      "metadata": {
        "id": "1g4laLZZ0VmN"
      },
      "execution_count": 9,
      "outputs": []
    },
    {
      "cell_type": "markdown",
      "source": [
        "# 9. Profile Native Allocations with mprof + heapy"
      ],
      "metadata": {
        "id": "Q8k2pjzi0Yta"
      }
    },
    {
      "cell_type": "markdown",
      "source": [
        "```\n",
        "pip install memory_profiler guppy3\n",
        "mprof run your_script.py\n",
        "mprof plot\n",
        "```"
      ],
      "metadata": {
        "id": "SGeZJhtn0ayi"
      }
    }
  ]
}
