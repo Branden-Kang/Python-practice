{
  "nbformat": 4,
  "nbformat_minor": 0,
  "metadata": {
    "colab": {
      "name": "Built-in Database in Python.ipynb",
      "provenance": [],
      "authorship_tag": "ABX9TyOs8XxHtzau0hLGlpAizLrc"
    },
    "kernelspec": {
      "name": "python3",
      "display_name": "Python 3"
    }
  },
  "cells": [
    {
      "cell_type": "markdown",
      "metadata": {
        "id": "LGGQT1gA37Pr"
      },
      "source": [
        "[Reference](https://towardsdatascience.com/python-has-a-built-in-database-heres-how-to-use-it-47826c10648a)"
      ]
    },
    {
      "cell_type": "code",
      "metadata": {
        "id": "OSJGyTry3GIb"
      },
      "source": [
        "import sqlite3 \n",
        "\n",
        "conn = sqlite3.connect('movies.db') \n",
        "c = conn.cursor()"
      ],
      "execution_count": 2,
      "outputs": []
    },
    {
      "cell_type": "code",
      "metadata": {
        "id": "d0YugEtY3Img"
      },
      "source": [
        "def table_exists(table_name): \n",
        "    c.execute('''SELECT count(name) FROM sqlite_master WHERE TYPE = 'table' AND name = '{}' '''.format(table_name)) \n",
        "    if c.fetchone()[0] == 1: \n",
        "        return True \n",
        "    return False"
      ],
      "execution_count": 11,
      "outputs": []
    },
    {
      "cell_type": "code",
      "metadata": {
        "id": "G1a_Ckn63sxP"
      },
      "source": [
        "if not table_exists('movies'): \n",
        "    c.execute(''' \n",
        "        CREATE TABLE movies( \n",
        "            movie_id INTEGER, \n",
        "            name TEXT, \n",
        "            release_year INTEGER, \n",
        "            genre TEXT, \n",
        "            rating REAL \n",
        "        ) \n",
        "    ''')"
      ],
      "execution_count": 12,
      "outputs": []
    },
    {
      "cell_type": "code",
      "metadata": {
        "id": "g3AyYeOD3VnO"
      },
      "source": [
        "def insert_movie(movie_id, name, release_year, genre, rating): \n",
        "    c.execute(''' INSERT INTO movies (movie_id, name, release_year, genre, rating) VALUES(?, ?, ?, ?, ?) ''', (movie_id, name, release_year, genre, rating)) \n",
        "    conn.commit()"
      ],
      "execution_count": 4,
      "outputs": []
    },
    {
      "cell_type": "code",
      "metadata": {
        "id": "Yabeap793WSq"
      },
      "source": [
        "def get_movie(movie_id): \n",
        "    c.execute('''SELECT * FROM movies WHERE movie_id = {}'''.format(movie_id)) \n",
        "    data = [] \n",
        "    for row in c.fetchall():  \n",
        "        data.append(row) \n",
        "    return data"
      ],
      "execution_count": 5,
      "outputs": []
    },
    {
      "cell_type": "code",
      "metadata": {
        "id": "0BueCQAO3Ztc"
      },
      "source": [
        "def update_movie(movie_id, update_dict): \n",
        "    valid_keys = ['name', 'release_year', 'genre', 'rating'] \n",
        "    for key in update_dict.keys():  \n",
        "        if key not in valid_keys: \n",
        "            raise Exception('Invalid field name!')     \n",
        "            \n",
        "    for key in update_dict.keys(): \n",
        "        if type(update_dict[key]) == str: \n",
        "            stmt = '''UPDATE movies SET {} = '{}' WHERE movie_id = {}'''.format(key, update_dict[key], movie_id) \n",
        "        else: \n",
        "            stmt = '''UPDATE movies SET {} = '{}' WHERE movie_id = {}'''.format(key, update_dict[key], movie_id)         \n",
        "        c.execute(stmt) \n",
        "    conn.commit()"
      ],
      "execution_count": 8,
      "outputs": []
    },
    {
      "cell_type": "code",
      "metadata": {
        "id": "l27lEeaE3cLh"
      },
      "source": [
        "def delete_movie(movie_id): \n",
        "    c.execute('''DELETE FROM movies WHERE movie_id = {}'''.format(movie_id)) \n",
        "    conn.commit()"
      ],
      "execution_count": 9,
      "outputs": []
    },
    {
      "cell_type": "code",
      "metadata": {
        "id": "WrxLPoIF3jKA"
      },
      "source": [
        "insert_movie(1, 'Titanic', 1997, 'Drama', 7.8) \n",
        "insert_movie(2, 'The Day After Tomorrow', 2004, 'Action', 6.4) \n",
        "insert_movie(3, '2012', 2009, 'Action', 5.8) \n",
        "insert_movie(4, 'Men in Black', 1997, 'Action', 7.3) \n",
        "insert_movie(5, 'World War Z', 2013, 'Romance', 10)"
      ],
      "execution_count": 13,
      "outputs": []
    },
    {
      "cell_type": "code",
      "metadata": {
        "id": "Rt6IRlvq3vH4",
        "outputId": "695d9248-f18c-43d0-f060-587e7963e1ef",
        "colab": {
          "base_uri": "https://localhost:8080/",
          "height": 34
        }
      },
      "source": [
        "print(get_movie(2))"
      ],
      "execution_count": 16,
      "outputs": [
        {
          "output_type": "stream",
          "text": [
            "[(2, 'The Day After Tomorrow', 2004, 'Action', 6.4)]\n"
          ],
          "name": "stdout"
        }
      ]
    },
    {
      "cell_type": "code",
      "metadata": {
        "id": "YVpFqyBU3z4y"
      },
      "source": [
        "update_movie(5, {'genre': 'Horror', 'rating': 7.0})"
      ],
      "execution_count": 17,
      "outputs": []
    },
    {
      "cell_type": "code",
      "metadata": {
        "id": "As9P8Ya032rG"
      },
      "source": [
        "delete_movie(3)"
      ],
      "execution_count": 18,
      "outputs": []
    }
  ]
}