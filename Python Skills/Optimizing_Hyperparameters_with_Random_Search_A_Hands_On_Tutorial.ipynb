{
  "nbformat": 4,
  "nbformat_minor": 0,
  "metadata": {
    "colab": {
      "provenance": [],
      "authorship_tag": "ABX9TyM/okL+gNtogh+ZKYUXmXX1"
    },
    "kernelspec": {
      "name": "python3",
      "display_name": "Python 3"
    },
    "language_info": {
      "name": "python"
    }
  },
  "cells": [
    {
      "cell_type": "markdown",
      "source": [
        "[Reference](https://awstip.com/optimizing-hyperparameters-with-random-search-a-hands-on-tutorial-1060bd78f6fe)"
      ],
      "metadata": {
        "id": "7WrR-RfDMYqT"
      }
    },
    {
      "cell_type": "code",
      "execution_count": 2,
      "metadata": {
        "id": "62-HV63rLUSZ"
      },
      "outputs": [],
      "source": [
        "import xgboost as xgb\n",
        "from sklearn.model_selection import RandomizedSearchCV\n",
        "from scipy.stats import uniform, randint\n",
        "\n",
        "param_distributions = {\n",
        "    'learning_rate': uniform(0.01, 0.5),\n",
        "    'n_estimators': randint(100, 1000),\n",
        "    'max_depth': randint(1, 10),\n",
        "    'colsample_bytree': uniform(0.1, 0.9),\n",
        "    'gamma': uniform(0, 1),\n",
        "    'reg_alpha': uniform(0, 1),\n",
        "    'reg_lambda': uniform(0, 1)\n",
        "}\n",
        "\n",
        "model = xgb.XGBRegressor(random_state=1)\n",
        "\n",
        "# run the search\n",
        "random_search = RandomizedSearchCV(\n",
        "    estimator=model,\n",
        "    param_distributions=param_distributions,\n",
        "    n_iter=100,\n",
        "    cv=5,\n",
        "    random_state=42,\n",
        "    verbose=1,\n",
        "    scoring=\"neg_root_mean_squared_error\"\n",
        ")\n",
        "random_search.fit(X_train, y_train)\n",
        "print(\"Best estimator: \", random_search.best_estimator_)\n",
        "print(\"Best score: \", random_search.best_score_)\n",
        "print(\"Best hyperparameters: \", random_search.best_params_)\n",
        "\n",
        "results_df = pd.DataFrame(random_search.cv_results_)\n",
        "results_df.head()\n",
        "print(\"Best index: \", random_search.best_index_)\n",
        "print(\"Best scorer: \", random_search.scorer_)\n",
        "print(\"Best n splits: \", random_search.n_splits_)\n",
        "print(\"Best refit time: \", random_search.refit_time_)\n",
        "print(\"Best multi metric: \", random_search.multimetric_)\n",
        "print(\"Best n features: \", random_search.n_features_in_)\n",
        "best_model = random_search.best_estimator_\n",
        "best_model.fit(X_train, y_train)\n",
        "y_pred = best_model.predict(X_test)\n",
        "rmse_train = np.sqrt(mean_squared_error(y_train, best_model.predict(X_train)))\n",
        "rmse_test = np.sqrt(mean_squared_error(y_test, y_pred))\n",
        "print(f\"Train RMSE: {rmse_train}, Test RMSE: {rmse_test}\")"
      ]
    }
  ]
}
