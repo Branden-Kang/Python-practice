{
  "nbformat": 4,
  "nbformat_minor": 0,
  "metadata": {
    "colab": {
      "name": "5 Awesome python Tricks.ipynb",
      "provenance": [],
      "authorship_tag": "ABX9TyOajo4/D0Gt8BHCQ+7yaWCW"
    },
    "kernelspec": {
      "name": "python3",
      "display_name": "Python 3"
    }
  },
  "cells": [
    {
      "cell_type": "markdown",
      "metadata": {
        "id": "fjtjxVyqoeQz"
      },
      "source": [
        "[Reference](https://medium.com/analytics-vidhya/5-awesome-python-tricks-to-make-your-code-more-elegant-41d6e5796f40)"
      ]
    },
    {
      "cell_type": "markdown",
      "metadata": {
        "id": "V5B6ZEMxogHz"
      },
      "source": [
        "# 1) List comprehensions"
      ]
    },
    {
      "cell_type": "code",
      "metadata": {
        "id": "Vu-jsSI9oc69"
      },
      "source": [
        "a = [1,2,3,4,5]\n",
        "b = []\n",
        "for i in range(len(a)):\n",
        "    b.append(a[i]+1)"
      ],
      "execution_count": 23,
      "outputs": []
    },
    {
      "cell_type": "code",
      "metadata": {
        "id": "t6mczOzMok8x",
        "outputId": "8c565054-bd75-4e2d-be0f-5e64f32a3fb1",
        "colab": {
          "base_uri": "https://localhost:8080/"
        }
      },
      "source": [
        "b"
      ],
      "execution_count": 24,
      "outputs": [
        {
          "output_type": "execute_result",
          "data": {
            "text/plain": [
              "[2, 3, 4, 5, 6]"
            ]
          },
          "metadata": {
            "tags": []
          },
          "execution_count": 24
        }
      ]
    },
    {
      "cell_type": "code",
      "metadata": {
        "id": "g9TTOFqGomSx",
        "outputId": "e1201fc5-18d7-4d28-b07f-5082988837bc",
        "colab": {
          "base_uri": "https://localhost:8080/"
        }
      },
      "source": [
        "a = [1,2,3,4,5]\n",
        "b = [a[i]+1 for i in range(len(a))]\n",
        "b"
      ],
      "execution_count": 25,
      "outputs": [
        {
          "output_type": "execute_result",
          "data": {
            "text/plain": [
              "[2, 3, 4, 5, 6]"
            ]
          },
          "metadata": {
            "tags": []
          },
          "execution_count": 25
        }
      ]
    },
    {
      "cell_type": "markdown",
      "metadata": {
        "id": "ZZyYvslioqXA"
      },
      "source": [
        "# 2) Reversing a string"
      ]
    },
    {
      "cell_type": "code",
      "metadata": {
        "id": "FkAxtxSGopK2"
      },
      "source": [
        "def reverse_string(string):\n",
        "     result=\"\"\n",
        "     for c in range(len(string),-1,-1):\n",
        "          result = result + string[c]\n",
        "     return result"
      ],
      "execution_count": 26,
      "outputs": []
    },
    {
      "cell_type": "code",
      "metadata": {
        "id": "0JZ7LbBTos_6"
      },
      "source": [
        "def reverse_string(string):\n",
        "    result = [ string[c] for c in range(len(string),-1,-1)]\n",
        "    return \"\".join(result)"
      ],
      "execution_count": 27,
      "outputs": []
    },
    {
      "cell_type": "code",
      "metadata": {
        "id": "yymki6haouIj"
      },
      "source": [
        "def reverse_string(string):\n",
        "    return string[::-1]"
      ],
      "execution_count": 28,
      "outputs": []
    },
    {
      "cell_type": "markdown",
      "metadata": {
        "id": "qGWkBC1xpA43"
      },
      "source": [
        "# 3) Summing the digits in a number"
      ]
    },
    {
      "cell_type": "code",
      "metadata": {
        "id": "6oEfGHZSovjn"
      },
      "source": [
        "def sum_a_num(num):\n",
        "    sum = 0\n",
        "    while num > 0:\n",
        "        sum+= num%10\n",
        "        num//=10    \n",
        "        \n",
        "    return sum"
      ],
      "execution_count": 29,
      "outputs": []
    },
    {
      "cell_type": "code",
      "metadata": {
        "id": "4a9mmXFLpCAn"
      },
      "source": [
        "def sum_a_num(num):\n",
        "    return sum(list(map(int,str(num))))"
      ],
      "execution_count": 30,
      "outputs": []
    },
    {
      "cell_type": "markdown",
      "metadata": {
        "id": "-Zf5T9YJpSzJ"
      },
      "source": [
        "# 4)Swapping two numbers"
      ]
    },
    {
      "cell_type": "code",
      "metadata": {
        "id": "NFtYVteUpIPH"
      },
      "source": [
        "x = 10\n",
        "y = 15\n",
        "x = x + y\n",
        "y = x - y\n",
        "x = x - y"
      ],
      "execution_count": 31,
      "outputs": []
    },
    {
      "cell_type": "code",
      "metadata": {
        "id": "fkNpVxfzpT2-"
      },
      "source": [
        "x = 10\n",
        "y = 15\n",
        "x,y = y,x"
      ],
      "execution_count": 32,
      "outputs": []
    },
    {
      "cell_type": "markdown",
      "metadata": {
        "id": "yhI9EKaHpXSN"
      },
      "source": [
        "# 5) Most frequent element in a list or string"
      ]
    },
    {
      "cell_type": "code",
      "metadata": {
        "id": "URvbcJyopWVg",
        "outputId": "47472469-7360-4521-9a1f-29046c90439d",
        "colab": {
          "base_uri": "https://localhost:8080/"
        }
      },
      "source": [
        "l = [1,2,3,1,4,7,2,4,8,2,3,1,2]\n",
        "print(max(l,key=l.count))\n",
        "\n",
        "my_string = \"python_is_awesome\"\n",
        "print(sorted(my_string,key = my_string.count)[0])"
      ],
      "execution_count": 33,
      "outputs": [
        {
          "output_type": "stream",
          "text": [
            "2\n",
            "p\n"
          ],
          "name": "stdout"
        }
      ]
    }
  ]
}