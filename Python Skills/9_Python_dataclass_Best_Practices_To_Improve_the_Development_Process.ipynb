{
  "nbformat": 4,
  "nbformat_minor": 0,
  "metadata": {
    "colab": {
      "provenance": [],
      "authorship_tag": "ABX9TyO5UslTH78R2RhMDc0PmqHE"
    },
    "kernelspec": {
      "name": "python3",
      "display_name": "Python 3"
    },
    "language_info": {
      "name": "python"
    }
  },
  "cells": [
    {
      "cell_type": "markdown",
      "source": [
        "[Reference](https://betterprogramming.pub/9-python-dataclass-best-practices-to-improve-the-development-process-8a68df446580)"
      ],
      "metadata": {
        "id": "7gQuUTfwHEt_"
      }
    },
    {
      "cell_type": "code",
      "execution_count": 3,
      "metadata": {
        "id": "NMeMmBonGd4N"
      },
      "outputs": [],
      "source": [
        "### Example #1\n",
        "from inspect import signature, getmembers\n",
        "from typing import Dict, List, Any\n",
        "import sys\n",
        "import numpy as np\n",
        "\n",
        "class Data:\n",
        "    def __init__(self, X: np.ndarray =None, y: np.array=None,\n",
        "                 kwargs: Dict =None):\n",
        "        self.X = X\n",
        "        self.y = y\n",
        "        self.kwargs = kwargs\n",
        "    def __repr__(self):\n",
        "            return self.val\n",
        "    def __eq__(self, other):\n",
        "            return self.val == other.val"
      ]
    },
    {
      "cell_type": "code",
      "source": [
        "from dataclasses import dataclass\n",
        "@dataclass\n",
        "class Data:\n",
        "    X: np.ndarray = None  # The field declaration: X\n",
        "    y: np.array = None    # The field declaration: y\n",
        "    kwargs: Dict = None   # The field declaration: kwargs"
      ],
      "metadata": {
        "id": "QG_BhYRYGgzK"
      },
      "execution_count": 4,
      "outputs": []
    },
    {
      "cell_type": "code",
      "source": [
        "### Example #2\n",
        "\n",
        "data1 = Data()\n",
        "data2 = Data()\n",
        "data1 == data1"
      ],
      "metadata": {
        "colab": {
          "base_uri": "https://localhost:8080/"
        },
        "id": "yJI65I3BGmTh",
        "outputId": "0742ab20-0134-4e8b-8acd-20ed0bc10212"
      },
      "execution_count": 5,
      "outputs": [
        {
          "output_type": "execute_result",
          "data": {
            "text/plain": [
              "True"
            ]
          },
          "metadata": {},
          "execution_count": 5
        }
      ]
    },
    {
      "cell_type": "code",
      "source": [
        "### Example #3\n",
        "\n",
        "print(data1)\n",
        "data1"
      ],
      "metadata": {
        "colab": {
          "base_uri": "https://localhost:8080/"
        },
        "id": "qlhudkKBGqs-",
        "outputId": "5f123729-6af8-4791-c0b2-264a38363910"
      },
      "execution_count": 6,
      "outputs": [
        {
          "output_type": "stream",
          "name": "stdout",
          "text": [
            "Data(X=None, y=None, kwargs=None)\n"
          ]
        },
        {
          "output_type": "execute_result",
          "data": {
            "text/plain": [
              "Data(X=None, y=None, kwargs=None)"
            ]
          },
          "metadata": {},
          "execution_count": 6
        }
      ]
    },
    {
      "cell_type": "code",
      "source": [
        "### Example #4\n",
        "\n",
        "@dataclass(unsafe_hash=True)\n",
        "class Data:\n",
        "    X: np.ndarray = None\n",
        "    y: np.array = None\n",
        "    kwargs: Dict = None\n",
        "        \n",
        "data3 = Data(1,2,3)"
      ],
      "metadata": {
        "id": "_O8bHpVSGsEm"
      },
      "execution_count": 7,
      "outputs": []
    },
    {
      "cell_type": "code",
      "source": [
        "### Example #5\n",
        "\n",
        "@dataclass\n",
        "class CrossValidation:\n",
        "    inner_cv: int\n",
        "    outer_cv: int\n",
        "    eval_final_performance: bool = True\n",
        "    test_size: float = 0.2\n",
        "    calculate_metrics_per_fold: bool = True\n",
        "    calculate_metrics_across_folds: bool = False\n",
        "    outer_folds = None\n",
        "    inner_folds = dict()"
      ],
      "metadata": {
        "id": "AhV2IZvCGt98"
      },
      "execution_count": 8,
      "outputs": []
    },
    {
      "cell_type": "code",
      "source": [
        "### Example #6\n",
        "\n",
        "cv1 = CrossValidation()"
      ],
      "metadata": {
        "colab": {
          "base_uri": "https://localhost:8080/",
          "height": 249
        },
        "id": "YNzxPyuHGzkY",
        "outputId": "118a0c90-65a5-43a4-a8a5-722e5ff58f1e"
      },
      "execution_count": 9,
      "outputs": [
        {
          "output_type": "error",
          "ename": "TypeError",
          "evalue": "ignored",
          "traceback": [
            "\u001b[0;31m---------------------------------------------------------------------------\u001b[0m",
            "\u001b[0;31mTypeError\u001b[0m                                 Traceback (most recent call last)",
            "\u001b[0;32m<ipython-input-9-6de49678a88f>\u001b[0m in \u001b[0;36m<module>\u001b[0;34m\u001b[0m\n\u001b[1;32m      1\u001b[0m \u001b[0;31m### Example #6\u001b[0m\u001b[0;34m\u001b[0m\u001b[0;34m\u001b[0m\u001b[0;34m\u001b[0m\u001b[0m\n\u001b[1;32m      2\u001b[0m \u001b[0;34m\u001b[0m\u001b[0m\n\u001b[0;32m----> 3\u001b[0;31m \u001b[0mcv1\u001b[0m \u001b[0;34m=\u001b[0m \u001b[0mCrossValidation\u001b[0m\u001b[0;34m(\u001b[0m\u001b[0;34m)\u001b[0m\u001b[0;34m\u001b[0m\u001b[0;34m\u001b[0m\u001b[0m\n\u001b[0m",
            "\u001b[0;31mTypeError\u001b[0m: __init__() missing 2 required positional arguments: 'inner_cv' and 'outer_cv'"
          ]
        }
      ]
    },
    {
      "cell_type": "code",
      "source": [
        "### Example #7\n",
        "\n",
        "cv1 = CrossValidation(1,2)\n",
        "cv2 = CrossValidation(1,2)\n",
        "cv3 = CrossValidation(3,2,test_size=0.5)\n",
        "print(cv1)\n",
        "cv3"
      ],
      "metadata": {
        "colab": {
          "base_uri": "https://localhost:8080/"
        },
        "id": "4Kdk6u25G3MT",
        "outputId": "2f05cd0f-3445-476d-f392-1fb7b2a03416"
      },
      "execution_count": 10,
      "outputs": [
        {
          "output_type": "stream",
          "name": "stdout",
          "text": [
            "CrossValidation(inner_cv=1, outer_cv=2, eval_final_performance=True, test_size=0.2, calculate_metrics_per_fold=True, calculate_metrics_across_folds=False)\n"
          ]
        },
        {
          "output_type": "execute_result",
          "data": {
            "text/plain": [
              "CrossValidation(inner_cv=3, outer_cv=2, eval_final_performance=True, test_size=0.5, calculate_metrics_per_fold=True, calculate_metrics_across_folds=False)"
            ]
          },
          "metadata": {},
          "execution_count": 10
        }
      ]
    },
    {
      "cell_type": "code",
      "source": [
        "### Example #8\n",
        "\n",
        "cv1 == cv2"
      ],
      "metadata": {
        "colab": {
          "base_uri": "https://localhost:8080/"
        },
        "id": "WWiN3Fn8G4mZ",
        "outputId": "cf9d869a-aa1e-4142-e46d-93ddb6e22bb7"
      },
      "execution_count": 11,
      "outputs": [
        {
          "output_type": "execute_result",
          "data": {
            "text/plain": [
              "True"
            ]
          },
          "metadata": {},
          "execution_count": 11
        }
      ]
    },
    {
      "cell_type": "code",
      "source": [
        "### Example #9\n",
        "\n",
        "cv1 == cv3"
      ],
      "metadata": {
        "colab": {
          "base_uri": "https://localhost:8080/"
        },
        "id": "-0RQ3pfPG5g0",
        "outputId": "3405aea6-5052-4ff5-afd9-f2633e8cf11c"
      },
      "execution_count": 12,
      "outputs": [
        {
          "output_type": "execute_result",
          "data": {
            "text/plain": [
              "False"
            ]
          },
          "metadata": {},
          "execution_count": 12
        }
      ]
    },
    {
      "cell_type": "code",
      "source": [
        "### Example #19\n",
        "\n",
        "@dataclass\n",
        "class Data():\n",
        " X: np.ndarray = None # The field declaration: X\n",
        " y: np.array = None # The field declaration: y\n",
        " kwargs: Dict = None # The field declaration: kwargs\n",
        " \n",
        "d = Data()\n",
        "d.kwargs"
      ],
      "metadata": {
        "id": "s88rrup3G6oU"
      },
      "execution_count": 13,
      "outputs": []
    },
    {
      "cell_type": "code",
      "source": [
        "### Example #20\n",
        "\n",
        "d.kwargs = {'one':1}\n",
        "d.kwargs"
      ],
      "metadata": {
        "colab": {
          "base_uri": "https://localhost:8080/"
        },
        "id": "N8wd6_OKG7uI",
        "outputId": "adbf9de1-7618-4b45-8a81-59d575adbb89"
      },
      "execution_count": 14,
      "outputs": [
        {
          "output_type": "execute_result",
          "data": {
            "text/plain": [
              "{'one': 1}"
            ]
          },
          "metadata": {},
          "execution_count": 14
        }
      ]
    },
    {
      "cell_type": "code",
      "source": [
        "### Example #21\n",
        "\n",
        "d.kwargs = 1\n",
        "d.kwargs"
      ],
      "metadata": {
        "colab": {
          "base_uri": "https://localhost:8080/"
        },
        "id": "fBwCMV7OG9_c",
        "outputId": "d25a467d-2f65-469c-a242-e3f59cfb2f95"
      },
      "execution_count": 15,
      "outputs": [
        {
          "output_type": "execute_result",
          "data": {
            "text/plain": [
              "1"
            ]
          },
          "metadata": {},
          "execution_count": 15
        }
      ]
    }
  ]
}
