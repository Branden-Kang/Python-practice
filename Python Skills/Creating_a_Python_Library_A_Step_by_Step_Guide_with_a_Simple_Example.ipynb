{
  "nbformat": 4,
  "nbformat_minor": 0,
  "metadata": {
    "colab": {
      "provenance": [],
      "authorship_tag": "ABX9TyOZP3o4+vjY8kyrJvHL1QUi"
    },
    "kernelspec": {
      "name": "python3",
      "display_name": "Python 3"
    },
    "language_info": {
      "name": "python"
    }
  },
  "cells": [
    {
      "cell_type": "markdown",
      "source": [
        "[Reference](https://medium.com/@tushar_datascience/creating-a-python-library-a-step-by-step-guide-with-a-simple-example-c87b653b9a4e)"
      ],
      "metadata": {
        "id": "Id_rSaLELjIL"
      }
    },
    {
      "cell_type": "markdown",
      "source": [
        "# Step 1: Choose Your Project"
      ],
      "metadata": {
        "id": "U-BGhup1LnXe"
      }
    },
    {
      "cell_type": "markdown",
      "source": [
        "# Step 2: Structure Your Project\n",
        "```\n",
        "mygeometry/\n",
        "    mygeometry/\n",
        "        __init__.py\n",
        "        circle.py\n",
        "        rectangle.py\n",
        "    setup.py\n",
        "```"
      ],
      "metadata": {
        "id": "awQRTANgLojF"
      }
    },
    {
      "cell_type": "markdown",
      "source": [
        "# Step 3: Create 'circle.py'"
      ],
      "metadata": {
        "id": "aLVZbhFwLyFP"
      }
    },
    {
      "cell_type": "code",
      "execution_count": 3,
      "metadata": {
        "id": "BWqtGwIlLhrR"
      },
      "outputs": [],
      "source": [
        "# circle.py\n",
        "import math\n",
        "\n",
        "def circle_area(radius):\n",
        "    return math.pi * radius ** 2\n",
        "\n",
        "# rectangle.py\n",
        "def rectangle_area(length, width):\n",
        "    return length * width"
      ]
    },
    {
      "cell_type": "markdown",
      "source": [
        "# Step 4: Create 'setup.py'"
      ],
      "metadata": {
        "id": "-fNdVFb9LxZ8"
      }
    },
    {
      "cell_type": "code",
      "source": [
        "from setuptools import setup, find_packages\n",
        "\n",
        "setup(\n",
        "    name='mygeometry',\n",
        "    version='0.1',\n",
        "    description='A simple Python library for calculating the area of geometric shapes.',\n",
        "    author='Tushar Mahuri',\n",
        "    packages=find_packages(),\n",
        ")"
      ],
      "metadata": {
        "id": "gLuWiD2kLszf"
      },
      "execution_count": 2,
      "outputs": []
    },
    {
      "cell_type": "markdown",
      "source": [
        "# Step 5: Build and Test (Optional step, but do it)\n",
        "Create a tests folder and write test cases using libraries like unittest or pytest"
      ],
      "metadata": {
        "id": "zWj0m0lgL7aB"
      }
    },
    {
      "cell_type": "markdown",
      "source": [
        "# Step 6: Register on PyPI\n",
        "Register at https://pypi.org/ if you haven't already. Try to add 2f authentication, it is reccomended."
      ],
      "metadata": {
        "id": "VDHYAOzaL-GP"
      }
    },
    {
      "cell_type": "markdown",
      "source": [
        "# Step 7: Upload Your Library to PyPI"
      ],
      "metadata": {
        "id": "sOuWQzsmMD-p"
      }
    },
    {
      "cell_type": "code",
      "source": [
        "pip install twine"
      ],
      "metadata": {
        "id": "3jKsShkDL5Ov"
      },
      "execution_count": 4,
      "outputs": []
    },
    {
      "cell_type": "code",
      "source": [
        "python setup.py sdist bdist_wheel\n",
        "twine upload dist/*"
      ],
      "metadata": {
        "id": "PsEiwWOZMGpB"
      },
      "execution_count": 5,
      "outputs": []
    },
    {
      "cell_type": "markdown",
      "source": [
        "# Step 8: Install and Use Your Library"
      ],
      "metadata": {
        "id": "nPDnXOqwMJtm"
      }
    },
    {
      "cell_type": "code",
      "source": [
        "# pip install mygeometry"
      ],
      "metadata": {
        "id": "jTMexD5CMIV9"
      },
      "execution_count": 6,
      "outputs": []
    },
    {
      "cell_type": "code",
      "source": [
        "# # A sample example\n",
        "# from mygeometry import circle_area, rectangle_area\n",
        "\n",
        "# print(circle_area(5))  # Output: 78.53981633974483\n",
        "# print(rectangle_area(4, 6))  # Output: 24"
      ],
      "metadata": {
        "id": "HWjNxq80MLfP"
      },
      "execution_count": 7,
      "outputs": []
    }
  ]
}
