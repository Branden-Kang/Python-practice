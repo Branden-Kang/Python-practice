{
  "nbformat": 4,
  "nbformat_minor": 0,
  "metadata": {
    "colab": {
      "name": "5 Powerful Functions in Python.ipynb",
      "provenance": [],
      "authorship_tag": "ABX9TyOdkwVFJkNtS5cKQRPFvwJd"
    },
    "kernelspec": {
      "name": "python3",
      "display_name": "Python 3"
    },
    "language_info": {
      "name": "python"
    }
  },
  "cells": [
    {
      "cell_type": "markdown",
      "metadata": {
        "id": "IpridylkH82k"
      },
      "source": [
        "[Reference](https://medium.com/pythoneers/5-powerful-functions-in-python-1804b51c4ded)"
      ]
    },
    {
      "cell_type": "code",
      "metadata": {
        "colab": {
          "base_uri": "https://localhost:8080/"
        },
        "id": "HzC00JcxH72y",
        "outputId": "7859f927-11dc-4c76-f7cc-f8770f795388"
      },
      "source": [
        "answer = lambda a, b: a**2 + b**2 + 2*(a+b)\n",
        "print(answer(3, 6))"
      ],
      "execution_count": 1,
      "outputs": [
        {
          "output_type": "stream",
          "text": [
            "63\n"
          ],
          "name": "stdout"
        }
      ]
    },
    {
      "cell_type": "code",
      "metadata": {
        "colab": {
          "base_uri": "https://localhost:8080/"
        },
        "id": "_lg6BaxOH_P6",
        "outputId": "8cd902d7-a607-4d45-c0c1-30fc4f6c7229"
      },
      "source": [
        "def add_list(a,b):\n",
        "    return a+b\n",
        "output = list(map(add_list,[2,6,3],[3,4,5]))\n",
        "print(output)"
      ],
      "execution_count": 2,
      "outputs": [
        {
          "output_type": "stream",
          "text": [
            "[5, 10, 8]\n"
          ],
          "name": "stdout"
        }
      ]
    },
    {
      "cell_type": "code",
      "metadata": {
        "colab": {
          "base_uri": "https://localhost:8080/"
        },
        "id": "G7BdcVlPIAU6",
        "outputId": "3bb7ee30-bfca-4ba7-c83d-0b242cd061b4"
      },
      "source": [
        "def add_list(a,b):\n",
        "    return a+b\n",
        "output = list(map(add_list,[2,6,3],[3,4,5]))\n",
        "print(output)"
      ],
      "execution_count": 3,
      "outputs": [
        {
          "output_type": "stream",
          "text": [
            "[5, 10, 8]\n"
          ],
          "name": "stdout"
        }
      ]
    },
    {
      "cell_type": "code",
      "metadata": {
        "colab": {
          "base_uri": "https://localhost:8080/"
        },
        "id": "O5f3pa3VIBt7",
        "outputId": "ffebb02b-7ac6-4e8a-d3c9-271859c07fd9"
      },
      "source": [
        "user_id = [\"12121\",\"56161\",\"33287\",\"23244\"]\n",
        "user_name = [\"Mick\",\"John\",\"Tessa\",\"Nick\"]\n",
        "user_info = list(zip(user_name,user_id))\n",
        "print(user_info)"
      ],
      "execution_count": 4,
      "outputs": [
        {
          "output_type": "stream",
          "text": [
            "[('Mick', '12121'), ('John', '56161'), ('Tessa', '33287'), ('Nick', '23244')]\n"
          ],
          "name": "stdout"
        }
      ]
    },
    {
      "cell_type": "code",
      "metadata": {
        "colab": {
          "base_uri": "https://localhost:8080/"
        },
        "id": "G6IwPA5EICvh",
        "outputId": "a8db31dd-fd5b-4603-ae27-0d05dd2f79df"
      },
      "source": [
        "import functools\n",
        "def sum_two_elements(a,b):\n",
        "    return a+b\n",
        "\n",
        "numbers = [6,2,1,3,4]\n",
        "result = functools.reduce(sum_two_elements, numbers)\n",
        "print(result)"
      ],
      "execution_count": 5,
      "outputs": [
        {
          "output_type": "stream",
          "text": [
            "16\n"
          ],
          "name": "stdout"
        }
      ]
    }
  ]
}