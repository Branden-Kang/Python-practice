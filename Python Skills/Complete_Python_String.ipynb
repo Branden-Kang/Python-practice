{
  "nbformat": 4,
  "nbformat_minor": 0,
  "metadata": {
    "colab": {
      "name": "Complete Python String.ipynb",
      "provenance": [],
      "authorship_tag": "ABX9TyPIw8kjd3qYYOGOIveepnyY"
    },
    "kernelspec": {
      "name": "python3",
      "display_name": "Python 3"
    },
    "language_info": {
      "name": "python"
    }
  },
  "cells": [
    {
      "cell_type": "markdown",
      "metadata": {
        "id": "Xr9cyx0sdiRO"
      },
      "source": [
        "[Reference](https://medium.datadriveninvestor.com/complete-python-strings-part-1-5d549aeaf370)"
      ]
    },
    {
      "cell_type": "code",
      "metadata": {
        "colab": {
          "base_uri": "https://localhost:8080/"
        },
        "id": "zlvW0X6sc988",
        "outputId": "84f78195-41f0-421d-8a52-5ec5e2138a80"
      },
      "source": [
        "str1 = \"Welcome to complete Python Course\"\n",
        "str2 = 'Welcome to the complete Python Course'\n",
        "str3 = \"\"\"This is a\n",
        "       multiline \n",
        "       String\"\"\"\n",
        "print(str1)\n",
        "print(str2)\n",
        "print(str3)"
      ],
      "execution_count": 1,
      "outputs": [
        {
          "output_type": "stream",
          "text": [
            "Welcome to complete Python Course\n",
            "Welcome to the complete Python Course\n",
            "This is a\n",
            "       multiline \n",
            "       String\n"
          ],
          "name": "stdout"
        }
      ]
    },
    {
      "cell_type": "markdown",
      "metadata": {
        "id": "ElgW99s9dxZq"
      },
      "source": [
        "# String Indexing"
      ]
    },
    {
      "cell_type": "code",
      "metadata": {
        "colab": {
          "base_uri": "https://localhost:8080/"
        },
        "id": "pFaAmg-0dtfB",
        "outputId": "1db5ab0c-9c58-4027-bfa9-572ee4fc3076"
      },
      "source": [
        "s= \"Captain America\"\n",
        "print(s[4])"
      ],
      "execution_count": 3,
      "outputs": [
        {
          "output_type": "stream",
          "text": [
            "a\n"
          ],
          "name": "stdout"
        }
      ]
    },
    {
      "cell_type": "markdown",
      "metadata": {
        "id": "Lz1B9DNdd1Cp"
      },
      "source": [
        "# String Slicing"
      ]
    },
    {
      "cell_type": "code",
      "metadata": {
        "colab": {
          "base_uri": "https://localhost:8080/"
        },
        "id": "wvgNQy5ndzb1",
        "outputId": "e89e1969-e981-4cb0-9de5-a92c2941313e"
      },
      "source": [
        "s= \"Captain America\"\n",
        "print(s[1:5:2])"
      ],
      "execution_count": 4,
      "outputs": [
        {
          "output_type": "stream",
          "text": [
            "at\n"
          ],
          "name": "stdout"
        }
      ]
    },
    {
      "cell_type": "code",
      "metadata": {
        "colab": {
          "base_uri": "https://localhost:8080/"
        },
        "id": "lJrgJgaCeiqR",
        "outputId": "4355abec-a27c-4467-f8a0-2af52133ca59"
      },
      "source": [
        "print(s[::-1])"
      ],
      "execution_count": 5,
      "outputs": [
        {
          "output_type": "stream",
          "text": [
            "aciremA niatpaC\n"
          ],
          "name": "stdout"
        }
      ]
    },
    {
      "cell_type": "markdown",
      "metadata": {
        "id": "2j0EZgMoekvf"
      },
      "source": [
        "# String Methods"
      ]
    },
    {
      "cell_type": "code",
      "metadata": {
        "colab": {
          "base_uri": "https://localhost:8080/"
        },
        "id": "Jo-hvGhxejsy",
        "outputId": "5741bf8f-2b17-425d-bef1-e77fb2cff01b"
      },
      "source": [
        "a = \"Welcome,,Friends,\"\n",
        "print(a.split(\",\"))"
      ],
      "execution_count": 6,
      "outputs": [
        {
          "output_type": "stream",
          "text": [
            "['Welcome', '', 'Friends', '']\n"
          ],
          "name": "stdout"
        }
      ]
    },
    {
      "cell_type": "markdown",
      "metadata": {
        "id": "8TPtMKuaeoxq"
      },
      "source": [
        "- splitlines() : Splits String at Line Boundaries <br>\n",
        "- startswith() : Checks if String Starts with the Specified String <br>\n",
        "- strip() : Removes Both Leading and Trailing Characters"
      ]
    },
    {
      "cell_type": "code",
      "metadata": {
        "colab": {
          "base_uri": "https://localhost:8080/"
        },
        "id": "DK8AUFHRel-O",
        "outputId": "94b2106b-a2d3-4806-cdbd-65ecdeed7fb7"
      },
      "source": [
        "a = \"***Python***\"\n",
        "print(a.strip(\"*\"))"
      ],
      "execution_count": 7,
      "outputs": [
        {
          "output_type": "stream",
          "text": [
            "Python\n"
          ],
          "name": "stdout"
        }
      ]
    },
    {
      "cell_type": "code",
      "metadata": {
        "colab": {
          "base_uri": "https://localhost:8080/"
        },
        "id": "d3KWRqhjevye",
        "outputId": "9e408315-4bb0-4527-f5e9-232bb3790fa8"
      },
      "source": [
        "a = \"Hi Homies\"\n",
        "print(a.swapcase())"
      ],
      "execution_count": 8,
      "outputs": [
        {
          "output_type": "stream",
          "text": [
            "hI hOMIES\n"
          ],
          "name": "stdout"
        }
      ]
    },
    {
      "cell_type": "markdown",
      "metadata": {
        "id": "gfDgAHQZe0EN"
      },
      "source": [
        "- title() : Returns a Title Cased String\n",
        "- translate() : returns mapped charactered string\n",
        "- partition(sep) : Splits the string at the first occurrence of sep"
      ]
    },
    {
      "cell_type": "code",
      "metadata": {
        "colab": {
          "base_uri": "https://localhost:8080/"
        },
        "id": "tYVQ8hSGeycn",
        "outputId": "42bb3cb7-2a62-461e-80b4-cd2636702638"
      },
      "source": [
        "a = \"Complete.Python-course\"\n",
        "print(a.partition(\"-\"))\n",
        "print(a.partition(\".\"))"
      ],
      "execution_count": 9,
      "outputs": [
        {
          "output_type": "stream",
          "text": [
            "('Complete.Python', '-', 'course')\n",
            "('Complete', '.', 'Python-course')\n"
          ],
          "name": "stdout"
        }
      ]
    },
    {
      "cell_type": "markdown",
      "metadata": {
        "id": "kg7Fj-Z6e7vL"
      },
      "source": [
        "- isspace() : Checks Whitespace Characters"
      ]
    },
    {
      "cell_type": "code",
      "metadata": {
        "colab": {
          "base_uri": "https://localhost:8080/"
        },
        "id": "YBmmb7Gre3X5",
        "outputId": "fd40ef98-6dd9-4815-ea40-4a53c0f53f10"
      },
      "source": [
        "a = \"\\n\\r\"\n",
        "print(a.isspace())"
      ],
      "execution_count": 10,
      "outputs": [
        {
          "output_type": "stream",
          "text": [
            "True\n"
          ],
          "name": "stdout"
        }
      ]
    },
    {
      "cell_type": "markdown",
      "metadata": {
        "id": "Yv07aGOPfAF_"
      },
      "source": [
        "- istitle() : Checks for Titlecased String\n",
        "- isupper() : returns if all characters are uppercase characters\n",
        "- join() : Returns a Concatenated String"
      ]
    },
    {
      "cell_type": "code",
      "metadata": {
        "colab": {
          "base_uri": "https://localhost:8080/"
        },
        "id": "EgM7MG5me-c5",
        "outputId": "e79fd93e-3221-4f42-e583-1f2276fe7c25"
      },
      "source": [
        "a = \",\"\n",
        "print(a.join(\"CD\"))"
      ],
      "execution_count": 11,
      "outputs": [
        {
          "output_type": "stream",
          "text": [
            "C,D\n"
          ],
          "name": "stdout"
        }
      ]
    },
    {
      "cell_type": "markdown",
      "metadata": {
        "id": "8ozYIKzyfEqd"
      },
      "source": [
        "- ljust() : returns left-justified string of given width"
      ]
    },
    {
      "cell_type": "code",
      "metadata": {
        "colab": {
          "base_uri": "https://localhost:8080/"
        },
        "id": "HIhYQ8XSfDRm",
        "outputId": "d25ddbff-6809-4d70-e380-42cda2473a6f"
      },
      "source": [
        "x = \"Python\" \n",
        "y = x.ljust(10, \"*\")\n",
        "print(y)"
      ],
      "execution_count": 12,
      "outputs": [
        {
          "output_type": "stream",
          "text": [
            "Python****\n"
          ],
          "name": "stdout"
        }
      ]
    },
    {
      "cell_type": "markdown",
      "metadata": {
        "id": "J0LGsdblfH35"
      },
      "source": [
        "- lower() : returns lowercased string\n",
        "- lstrip() : Removes Leading Characters"
      ]
    },
    {
      "cell_type": "code",
      "metadata": {
        "colab": {
          "base_uri": "https://localhost:8080/"
        },
        "id": "EP75qze2fGmF",
        "outputId": "c80cbf77-cba9-4b6b-b3df-7bb36b444269"
      },
      "source": [
        "a = \"*****Python-----\"\n",
        "print(a.lstrip(\"*\"))"
      ],
      "execution_count": 13,
      "outputs": [
        {
          "output_type": "stream",
          "text": [
            "Python-----\n"
          ],
          "name": "stdout"
        }
      ]
    },
    {
      "cell_type": "markdown",
      "metadata": {
        "id": "5aptzeMtfUbI"
      },
      "source": [
        "- maketrans() : returns a translation table\n",
        "- replace() : Replaces Substring Inside"
      ]
    },
    {
      "cell_type": "code",
      "metadata": {
        "colab": {
          "base_uri": "https://localhost:8080/"
        },
        "id": "IxBcl4MifKhN",
        "outputId": "0aa87c5a-0b0d-4ba2-e568-b825738ec1cf"
      },
      "source": [
        "a = \"Welcome Aliens. Welcome to this world\"\n",
        "print(a.replace(\"Welcome\", \"Hi\"))"
      ],
      "execution_count": 14,
      "outputs": [
        {
          "output_type": "stream",
          "text": [
            "Hi Aliens. Hi to this world\n"
          ],
          "name": "stdout"
        }
      ]
    },
    {
      "cell_type": "markdown",
      "metadata": {
        "id": "dgnCPkDdfZB2"
      },
      "source": [
        "- rindex() : Just like rfind() but raises ValueError when the substring sub is not found"
      ]
    },
    {
      "cell_type": "code",
      "metadata": {
        "colab": {
          "base_uri": "https://localhost:8080/"
        },
        "id": "AAhOfZS4fXlM",
        "outputId": "2b4a7cb6-05be-4133-a551-524cf3574138"
      },
      "source": [
        "a = \"Hi World\"\n",
        "print(a.rindex(\"d\"))\n",
        "print(a.rindex(\"W\"))"
      ],
      "execution_count": 15,
      "outputs": [
        {
          "output_type": "stream",
          "text": [
            "7\n",
            "3\n"
          ],
          "name": "stdout"
        }
      ]
    },
    {
      "cell_type": "markdown",
      "metadata": {
        "id": "xWXHf7AFfcUF"
      },
      "source": [
        "- rjust() : returns right-justified string of given width\n",
        "- rstrip() : Removes Trailing Characters\n",
        "- upper() : returns uppercased string\n",
        "- zfill() : Returns a Copy of The String Padded With Zeros"
      ]
    },
    {
      "cell_type": "code",
      "metadata": {
        "colab": {
          "base_uri": "https://localhost:8080/"
        },
        "id": "5A4uECylfbGa",
        "outputId": "a9371ab9-3f8b-4ef3-8d1a-650de24cab14"
      },
      "source": [
        "a = \"-124\"\n",
        "print(a.zfill(6))"
      ],
      "execution_count": 16,
      "outputs": [
        {
          "output_type": "stream",
          "text": [
            "-00124\n"
          ],
          "name": "stdout"
        }
      ]
    },
    {
      "cell_type": "markdown",
      "metadata": {
        "id": "b6szZrr5ffgv"
      },
      "source": [
        "- capitalize() : Converts first character to Capital Letter"
      ]
    },
    {
      "cell_type": "code",
      "metadata": {
        "colab": {
          "base_uri": "https://localhost:8080/"
        },
        "id": "dFhpvGqMfeZq",
        "outputId": "a06fa7f5-46e2-4d53-9fea-253b933cc93a"
      },
      "source": [
        "a = \"complete python course\" \n",
        "print(a.capitalize())"
      ],
      "execution_count": 17,
      "outputs": [
        {
          "output_type": "stream",
          "text": [
            "Complete python course\n"
          ],
          "name": "stdout"
        }
      ]
    },
    {
      "cell_type": "markdown",
      "metadata": {
        "id": "xk6_VvEofqYq"
      },
      "source": [
        "- casefold() : converts to case folded strings"
      ]
    },
    {
      "cell_type": "code",
      "metadata": {
        "colab": {
          "base_uri": "https://localhost:8080/"
        },
        "id": "pgW4WfdQfoZ1",
        "outputId": "3aeb25ca-6cd9-4776-970c-6dbe1431dce3"
      },
      "source": [
        "a = \"PYTHON\"\n",
        "print(a.casefold())"
      ],
      "execution_count": 18,
      "outputs": [
        {
          "output_type": "stream",
          "text": [
            "python\n"
          ],
          "name": "stdout"
        }
      ]
    },
    {
      "cell_type": "code",
      "metadata": {
        "colab": {
          "base_uri": "https://localhost:8080/"
        },
        "id": "g-o8wKrTfr6O",
        "outputId": "f74d6893-e7d2-4cb1-c85a-da0b21b90b63"
      },
      "source": [
        "a = \"PyTHoN\"\n",
        "print(a.casefold())"
      ],
      "execution_count": 19,
      "outputs": [
        {
          "output_type": "stream",
          "text": [
            "python\n"
          ],
          "name": "stdout"
        }
      ]
    },
    {
      "cell_type": "markdown",
      "metadata": {
        "id": "FdvZBYfzfww_"
      },
      "source": [
        "- center(): Pads string with specified character"
      ]
    },
    {
      "cell_type": "code",
      "metadata": {
        "colab": {
          "base_uri": "https://localhost:8080/"
        },
        "id": "oM1fgF5PftHw",
        "outputId": "0be786ac-9f4b-4ab0-83db-b58d27044279"
      },
      "source": [
        "a = \"Python\" \n",
        "b = a.center(10, \"*\")\n",
        "print(b)"
      ],
      "execution_count": 20,
      "outputs": [
        {
          "output_type": "stream",
          "text": [
            "**Python**\n"
          ],
          "name": "stdout"
        }
      ]
    },
    {
      "cell_type": "markdown",
      "metadata": {
        "id": "-9ta4J4wf2nC"
      },
      "source": [
        "- index(): Returns Index of Substring"
      ]
    },
    {
      "cell_type": "code",
      "metadata": {
        "colab": {
          "base_uri": "https://localhost:8080/"
        },
        "id": "aHi8atzPfymP",
        "outputId": "9ff737bf-c742-4207-d7a2-05dd8232c638"
      },
      "source": [
        "a = \"Continent\"\n",
        "print(a.index(\"i\"))\n",
        "print(a.index(\"C\"))\n",
        "print(a.index(\"nent\"))"
      ],
      "execution_count": 21,
      "outputs": [
        {
          "output_type": "stream",
          "text": [
            "4\n",
            "0\n",
            "5\n"
          ],
          "name": "stdout"
        }
      ]
    },
    {
      "cell_type": "markdown",
      "metadata": {
        "id": "SKlbLXW2f0q7"
      },
      "source": [
        "- isalnum(): Checks Alphanumeric Character"
      ]
    },
    {
      "cell_type": "code",
      "metadata": {
        "colab": {
          "base_uri": "https://localhost:8080/"
        },
        "id": "QExR-iK_fzuK",
        "outputId": "80a5fa6b-f0da-4b18-e3bc-6170266cee2e"
      },
      "source": [
        "c = \"456\"\n",
        "d = \"$*%!!**\"\n",
        "print(c.isalnum())\n",
        "print(d.isalnum())"
      ],
      "execution_count": 22,
      "outputs": [
        {
          "output_type": "stream",
          "text": [
            "True\n",
            "False\n"
          ],
          "name": "stdout"
        }
      ]
    },
    {
      "cell_type": "markdown",
      "metadata": {
        "id": "3FYRFVJtf6kj"
      },
      "source": [
        "- isalpha() : Checks if All Characters are Alphabets"
      ]
    },
    {
      "cell_type": "code",
      "metadata": {
        "colab": {
          "base_uri": "https://localhost:8080/"
        },
        "id": "RHHWIh4nf5rw",
        "outputId": "adb06fdf-1e9a-4863-f41e-9cea1ec30912"
      },
      "source": [
        "c = \"456\"\n",
        "d = \"Python\"\n",
        "print(c.isalpha())\n",
        "print(d.isalpha())"
      ],
      "execution_count": 23,
      "outputs": [
        {
          "output_type": "stream",
          "text": [
            "False\n",
            "True\n"
          ],
          "name": "stdout"
        }
      ]
    },
    {
      "cell_type": "markdown",
      "metadata": {
        "id": "u1LACdCcgWNQ"
      },
      "source": [
        "- isdecimal() : Checks Decimal Characters"
      ]
    },
    {
      "cell_type": "code",
      "metadata": {
        "colab": {
          "base_uri": "https://localhost:8080/"
        },
        "id": "7FVWdGQVf8aS",
        "outputId": "eb0f5cfc-9558-4705-af6b-51b38aac98f1"
      },
      "source": [
        "c = u\"\\u00B10\"\n",
        "x = \"10\"\n",
        "print(c.isdecimal())\n",
        "print(x.isdecimal())"
      ],
      "execution_count": 24,
      "outputs": [
        {
          "output_type": "stream",
          "text": [
            "False\n",
            "True\n"
          ],
          "name": "stdout"
        }
      ]
    },
    {
      "cell_type": "markdown",
      "metadata": {
        "id": "ozKetCQAgaH1"
      },
      "source": [
        "- isdigit() : Checks Digit Characters"
      ]
    },
    {
      "cell_type": "code",
      "metadata": {
        "colab": {
          "base_uri": "https://localhost:8080/"
        },
        "id": "PscMccJhgYi8",
        "outputId": "ce2aecf5-ceb9-4f54-cf90-0e6f85a0f33f"
      },
      "source": [
        "c = \"4567\"\n",
        "d = \"1.65\"\n",
        "print(c.isdigit())\n",
        "print(d.isdigit())"
      ],
      "execution_count": 25,
      "outputs": [
        {
          "output_type": "stream",
          "text": [
            "True\n",
            "False\n"
          ],
          "name": "stdout"
        }
      ]
    },
    {
      "cell_type": "markdown",
      "metadata": {
        "id": "K8gXRlTggekC"
      },
      "source": [
        "- isidentifier() : Checks for Valid Identifier"
      ]
    },
    {
      "cell_type": "code",
      "metadata": {
        "colab": {
          "base_uri": "https://localhost:8080/"
        },
        "id": "Bcwj_K7Ggcmy",
        "outputId": "6a25d2e7-13ea-485f-9ed8-14e6946489f3"
      },
      "source": [
        "a = \"_user/4567\"\n",
        "b = \"for\"\n",
        "print(a.isidentifier())\n",
        "print(b.isidentifier())"
      ],
      "execution_count": 26,
      "outputs": [
        {
          "output_type": "stream",
          "text": [
            "False\n",
            "True\n"
          ],
          "name": "stdout"
        }
      ]
    },
    {
      "cell_type": "markdown",
      "metadata": {
        "id": "awrS768rg0bv"
      },
      "source": [
        "- islower() : Checks if all Alphabets in a String are Lowercase\n",
        "- isnumeric() : Checks Numeric Characters\n",
        "- isprintable() : Checks Printable Character\n",
        "- count() : returns occurrences of substring in string"
      ]
    },
    {
      "cell_type": "code",
      "metadata": {
        "colab": {
          "base_uri": "https://localhost:8080/"
        },
        "id": "gP6SNqfIggGe",
        "outputId": "4ef7feec-fb65-40fe-a9f5-011f106f3b88"
      },
      "source": [
        "a = \"Welcome to complete Python Course\"\n",
        "print(a.count(\"c\"))\n",
        "print(a.count(\"o\"))\n",
        "print(a.count(\"Python\"))"
      ],
      "execution_count": 28,
      "outputs": [
        {
          "output_type": "stream",
          "text": [
            "2\n",
            "5\n",
            "1\n"
          ],
          "name": "stdout"
        }
      ]
    },
    {
      "cell_type": "markdown",
      "metadata": {
        "id": "A3-iK8Stg-pO"
      },
      "source": [
        "- encode() : returns encoded string of given string\n",
        "- endswith(): Checks if String Ends with the Specified Suffix"
      ]
    },
    {
      "cell_type": "code",
      "metadata": {
        "colab": {
          "base_uri": "https://localhost:8080/"
        },
        "id": "EnlpGqcHg5Ft",
        "outputId": "0b1befc4-3178-494f-a70a-84e814337a29"
      },
      "source": [
        "a = \"Watermelon\"\n",
        "print(a.endswith(\"s\"))\n",
        "print(a.endswith(\"melon\"))"
      ],
      "execution_count": 30,
      "outputs": [
        {
          "output_type": "stream",
          "text": [
            "False\n",
            "True\n"
          ],
          "name": "stdout"
        }
      ]
    },
    {
      "cell_type": "markdown",
      "metadata": {
        "id": "3r29e7tmhCcK"
      },
      "source": [
        "- expandtabs() : Replaces Tab character With Spaces\n",
        "- find(): Returns the index of first occurrence of substring"
      ]
    },
    {
      "cell_type": "code",
      "metadata": {
        "colab": {
          "base_uri": "https://localhost:8080/"
        },
        "id": "k2672bIJg9ZA",
        "outputId": "2baf58aa-9f4c-4f29-c908-f4c963e61c99"
      },
      "source": [
        "a = \"Exercise\"\n",
        "print(a.find(\"r\"))\n",
        "print(a.find(\"e\"))"
      ],
      "execution_count": 31,
      "outputs": [
        {
          "output_type": "stream",
          "text": [
            "3\n",
            "2\n"
          ],
          "name": "stdout"
        }
      ]
    },
    {
      "cell_type": "markdown",
      "metadata": {
        "id": "TjVu1hHdhGHx"
      },
      "source": [
        "- format(): formats string into nicer output\n",
        "- format_map() : Formats the String Using Dictionary"
      ]
    },
    {
      "cell_type": "markdown",
      "metadata": {
        "id": "UQ35kmLAhJ7D"
      },
      "source": [
        "# F- Strings "
      ]
    },
    {
      "cell_type": "code",
      "metadata": {
        "colab": {
          "base_uri": "https://localhost:8080/"
        },
        "id": "KDCeZDhnhEmD",
        "outputId": "372f94f1-c930-4d23-d480-a78240fb3557"
      },
      "source": [
        "def max_no(x,y):\n",
        "    return x if x>y else y\n",
        "f_no= 12\n",
        "s_no =25\n",
        "print(f'Max of {f_no} and {s_no} is {max(f_no,s_no)}')"
      ],
      "execution_count": 32,
      "outputs": [
        {
          "output_type": "stream",
          "text": [
            "Max of 12 and 25 is 25\n"
          ],
          "name": "stdout"
        }
      ]
    },
    {
      "cell_type": "code",
      "metadata": {
        "colab": {
          "base_uri": "https://localhost:8080/"
        },
        "id": "qLwK4F6LhMLY",
        "outputId": "e0c0bbf5-9bb2-49ce-8d60-b8ae85ede6d1"
      },
      "source": [
        "from decimal import Decimal\n",
        "width = 4\n",
        "round_point = 2\n",
        "value = Decimal('12.39065')\n",
        "print(f'result:{value:{width}.{round_point}}')"
      ],
      "execution_count": 34,
      "outputs": [
        {
          "output_type": "stream",
          "text": [
            "result:  12\n"
          ],
          "name": "stdout"
        }
      ]
    }
  ]
}