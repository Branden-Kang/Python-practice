{
  "nbformat": 4,
  "nbformat_minor": 0,
  "metadata": {
    "colab": {
      "provenance": [],
      "authorship_tag": "ABX9TyOQY3afyHUEftQeK/C7+BSf"
    },
    "kernelspec": {
      "name": "python3",
      "display_name": "Python 3"
    },
    "language_info": {
      "name": "python"
    }
  },
  "cells": [
    {
      "cell_type": "markdown",
      "source": [
        "[Reference](https://code.likeagirl.io/mlops-fundamentals-a-beginners-guide-to-docker-containerization-4f5a984e7117)"
      ],
      "metadata": {
        "id": "7ePbGBWkrRLZ"
      }
    },
    {
      "cell_type": "markdown",
      "source": [
        "# Creating Your First Container"
      ],
      "metadata": {
        "id": "8HgMEXnFryoI"
      }
    },
    {
      "cell_type": "markdown",
      "source": [
        "## Step 1: Create a Python Script"
      ],
      "metadata": {
        "id": "tF9YQbxKrz4I"
      }
    },
    {
      "cell_type": "code",
      "execution_count": 1,
      "metadata": {
        "colab": {
          "base_uri": "https://localhost:8080/"
        },
        "id": "Tl68XtairPFL",
        "outputId": "47efb4d6-e5f8-4bb7-f5a9-1bdce8b155ed"
      },
      "outputs": [
        {
          "output_type": "stream",
          "name": "stdout",
          "text": [
            "Hello there!\n"
          ]
        }
      ],
      "source": [
        "def main():\n",
        "    print(\"Hello there!\")\n",
        "\n",
        "if __name__ == \"__main__\":\n",
        "    main()"
      ]
    },
    {
      "cell_type": "markdown",
      "source": [
        "## Step 2: Define your environment\n",
        "```\n",
        "FROM python:3.9-alpine\n",
        "COPY . /app/\n",
        "CMD python /app/app.py\n",
        "```"
      ],
      "metadata": {
        "id": "4Kcee2Dxr2EM"
      }
    },
    {
      "cell_type": "markdown",
      "source": [
        "## Step 3: Build Your Docker Image\n",
        "```\n",
        "docker build . -t say_hello\n",
        "```"
      ],
      "metadata": {
        "id": "9DKslzX9r8_-"
      }
    },
    {
      "cell_type": "markdown",
      "source": [
        "## Step 4: Run Your Container\n",
        "```\n",
        "docker run say_hello\n",
        "```"
      ],
      "metadata": {
        "id": "L_ejRva5sCcB"
      }
    },
    {
      "cell_type": "markdown",
      "source": [
        "# Useful Docker Commands\n",
        "```\n",
        "# Listing Containers: To list all running containers, use:\n",
        "docker ps -a\n",
        "# Listing Images: To see all your Docker images, run:\n",
        "docker images -a\n",
        "# Listing Images: To see all your Docker images, run:\n",
        "docker rm container_id\n",
        "# And remove images with:\n",
        "docker rmi image_id\n",
        "```"
      ],
      "metadata": {
        "id": "DrR8mitcsF4q"
      }
    }
  ]
}
