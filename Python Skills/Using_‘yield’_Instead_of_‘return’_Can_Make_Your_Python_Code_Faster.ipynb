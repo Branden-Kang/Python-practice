{
  "nbformat": 4,
  "nbformat_minor": 0,
  "metadata": {
    "colab": {
      "name": "Using ‘yield’ Instead of ‘return’ Can Make Your Python Code Faster.ipynb",
      "provenance": [],
      "authorship_tag": "ABX9TyOZ2i9kscGkFxle7ZpA/XvL"
    },
    "kernelspec": {
      "name": "python3",
      "display_name": "Python 3"
    },
    "language_info": {
      "name": "python"
    }
  },
  "cells": [
    {
      "cell_type": "markdown",
      "source": [
        "[Reference](https://python.plainenglish.io/python-how-using-yield-instead-of-return-can-make-your-code-faster-b409b8cfc8d3)"
      ],
      "metadata": {
        "id": "Man42q28AmZ-"
      }
    },
    {
      "cell_type": "markdown",
      "source": [
        "# The ‘return’ Keyword"
      ],
      "metadata": {
        "id": "o1vV80UXApOc"
      }
    },
    {
      "cell_type": "code",
      "execution_count": 1,
      "metadata": {
        "colab": {
          "base_uri": "https://localhost:8080/"
        },
        "id": "LYdv6Z4OAiPL",
        "outputId": "4946584f-7569-47a1-ba80-9a5997378256"
      },
      "outputs": [
        {
          "output_type": "stream",
          "name": "stdout",
          "text": [
            "1\n",
            "4\n",
            "9\n",
            "16\n",
            "25\n"
          ]
        }
      ],
      "source": [
        "def squares(n):\n",
        "    out = []\n",
        "    for i in range(1, n+1):\n",
        "        out.append(i ** 2)    \n",
        "        \n",
        "    return out\n",
        "        \n",
        "for square in squares(5):\n",
        "    print(square)\n",
        "    # do stuff with square"
      ]
    },
    {
      "cell_type": "markdown",
      "source": [
        "# The ‘yield’ Keyword & Python Generators"
      ],
      "metadata": {
        "id": "wK8HruxAAxlo"
      }
    },
    {
      "cell_type": "code",
      "source": [
        "def squares(n):\n",
        "    for i in range(1, n+1):\n",
        "        yield i ** 2"
      ],
      "metadata": {
        "id": "59YwKlg5Avcl"
      },
      "execution_count": 2,
      "outputs": []
    }
  ]
}