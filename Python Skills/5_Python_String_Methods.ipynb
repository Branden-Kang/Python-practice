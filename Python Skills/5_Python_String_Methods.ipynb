{
  "nbformat": 4,
  "nbformat_minor": 0,
  "metadata": {
    "colab": {
      "name": "5 Python String Methods.ipynb",
      "provenance": [],
      "authorship_tag": "ABX9TyPK5txSvuy20wiMMTRwvIDo"
    },
    "kernelspec": {
      "name": "python3",
      "display_name": "Python 3"
    }
  },
  "cells": [
    {
      "cell_type": "markdown",
      "metadata": {
        "id": "xs2cvxXRQGxS"
      },
      "source": [
        "[Reference](https://levelup.gitconnected.com/5-python-string-methods-for-better-formatting-a2c3b92a2d33)"
      ]
    },
    {
      "cell_type": "markdown",
      "metadata": {
        "id": "YJpHqmkvQLAu"
      },
      "source": [
        "# 1. Justify content left or right"
      ]
    },
    {
      "cell_type": "code",
      "metadata": {
        "colab": {
          "base_uri": "https://localhost:8080/"
        },
        "id": "OJ2kfIq2QCSM",
        "outputId": "db98db8f-fccb-4b44-cef5-96fa5c6498a1"
      },
      "source": [
        "string_1 = \"column_1_string_1\"\n",
        "string_2 = \"column_2_string_1\"\n",
        "string_3 = \"column_1_string_2\"\n",
        "string_4 = \"column_2_string_2\"\n",
        "\n",
        "left_column = string_1 + string_2.rjust(20)\n",
        "right_column = string_3 + string_4.rjust(20)\n",
        "\n",
        "print(left_column + '\\n' + right_column)"
      ],
      "execution_count": 1,
      "outputs": [
        {
          "output_type": "stream",
          "text": [
            "column_1_string_1   column_2_string_1\n",
            "column_1_string_2   column_2_string_2\n"
          ],
          "name": "stdout"
        }
      ]
    },
    {
      "cell_type": "markdown",
      "metadata": {
        "id": "5S1Ly3R_QVWL"
      },
      "source": [
        "# 2. Create a title"
      ]
    },
    {
      "cell_type": "code",
      "metadata": {
        "colab": {
          "base_uri": "https://localhost:8080/"
        },
        "id": "tSXtjXnyQPS2",
        "outputId": "b18981cb-dc12-476f-89dd-cc7aea2a4d03"
      },
      "source": [
        "title_string = 'this is my title'\n",
        "\n",
        "print(title_string.title())\n",
        "\n",
        "really_bad_title_string = 'tHiS iS mY TITLE'\n",
        "\n",
        "print(really_bad_title_string.title())"
      ],
      "execution_count": 4,
      "outputs": [
        {
          "output_type": "stream",
          "text": [
            "This Is My Title\n",
            "This Is My Title\n"
          ],
          "name": "stdout"
        }
      ]
    },
    {
      "cell_type": "markdown",
      "metadata": {
        "id": "_UzEojUkQgqo"
      },
      "source": [
        "# 3. Replace words within a string"
      ]
    },
    {
      "cell_type": "code",
      "metadata": {
        "colab": {
          "base_uri": "https://localhost:8080/"
        },
        "id": "-LRoR6AoQY1r",
        "outputId": "2a21ca7c-c4b1-439d-9d65-aac6bc3031a4"
      },
      "source": [
        "my_string = 'I like bananas, oranges and bananas.'\n",
        "\n",
        "print(my_string.replace('bananas', 'apples', 1))"
      ],
      "execution_count": 3,
      "outputs": [
        {
          "output_type": "stream",
          "text": [
            "I like apples, oranges and bananas.\n"
          ],
          "name": "stdout"
        }
      ]
    },
    {
      "cell_type": "markdown",
      "metadata": {
        "id": "DmKoJ_T5QvT4"
      },
      "source": [
        "# 4. Center a string"
      ]
    },
    {
      "cell_type": "code",
      "metadata": {
        "colab": {
          "base_uri": "https://localhost:8080/"
        },
        "id": "jBu5OmOlQqsk",
        "outputId": "d58ade2e-3f12-4eff-8e59-fb41909d5dd6"
      },
      "source": [
        "poorly_formatted_title = 'baD tiTLE STRing'\n",
        "formatted_title = poorly_formatted_title.title()\n",
        "\n",
        "padding = len(formatted_title) + 30\n",
        "\n",
        "print(formatted_title.center(padding))\n",
        "print('some other body text that is not centered')"
      ],
      "execution_count": 5,
      "outputs": [
        {
          "output_type": "stream",
          "text": [
            "               Bad Title String               \n",
            "some other body text that is not centered\n"
          ],
          "name": "stdout"
        }
      ]
    },
    {
      "cell_type": "markdown",
      "metadata": {
        "id": "scBldk3BQ2hN"
      },
      "source": [
        "# 5. Strip out extra characters"
      ]
    },
    {
      "cell_type": "code",
      "metadata": {
        "colab": {
          "base_uri": "https://localhost:8080/"
        },
        "id": "91gffYyzQ1X5",
        "outputId": "7d4cb4b8-5fdf-4de9-b536-89aa73cf2969"
      },
      "source": [
        "my_string_with_spaces = '     I hate spaces!     '\n",
        "\n",
        "print(my_string_with_spaces)\n",
        "print(my_string_with_spaces.strip())\n",
        "\n",
        "my_string_with_tabs = '\\t\\t\\t\\ttabs heeerrreee!\\t\\t\\t\\t'\n",
        "\n",
        "print(my_string_with_tabs)\n",
        "print(my_string_with_tabs.strip('\\t'))"
      ],
      "execution_count": 7,
      "outputs": [
        {
          "output_type": "stream",
          "text": [
            "     I hate spaces!     \n",
            "I hate spaces!\n",
            "\t\t\t\ttabs heeerrreee!\t\t\t\t\n",
            "tabs heeerrreee!\n"
          ],
          "name": "stdout"
        }
      ]
    }
  ]
}