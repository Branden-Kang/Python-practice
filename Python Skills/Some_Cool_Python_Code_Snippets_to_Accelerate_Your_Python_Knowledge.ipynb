{
  "nbformat": 4,
  "nbformat_minor": 0,
  "metadata": {
    "colab": {
      "name": "Some Cool Python Code Snippets to Accelerate Your Python Knowledge.ipynb",
      "provenance": [],
      "authorship_tag": "ABX9TyNvdZMNk/KQAy+dDo/wUG46"
    },
    "kernelspec": {
      "name": "python3",
      "display_name": "Python 3"
    },
    "language_info": {
      "name": "python"
    }
  },
  "cells": [
    {
      "cell_type": "markdown",
      "metadata": {
        "id": "7n1886UKurN1"
      },
      "source": [
        "[Reference](https://medium.com/geekculture/revising-python-concepts-a64cace1690c)"
      ]
    },
    {
      "cell_type": "markdown",
      "metadata": {
        "id": "9EKRsiOuu6Jk"
      },
      "source": [
        "# Combine two lists as a dictionary\n"
      ]
    },
    {
      "cell_type": "code",
      "metadata": {
        "colab": {
          "base_uri": "https://localhost:8080/"
        },
        "id": "ESIE96xOul4U",
        "outputId": "7e42023b-a8e2-416d-b936-c719c58d6cea"
      },
      "source": [
        "keys = ['a', 'b', 'c']\n",
        "values = [1, 2, 3]\n",
        "dictionary = dict(zip(keys, values))\n",
        "print(dictionary)"
      ],
      "execution_count": null,
      "outputs": [
        {
          "output_type": "stream",
          "name": "stdout",
          "text": [
            "{'a': 1, 'b': 2, 'c': 3}\n"
          ]
        }
      ]
    },
    {
      "cell_type": "markdown",
      "metadata": {
        "id": "JobSik1au5JX"
      },
      "source": [
        "# Merge two dictionaries into one\n"
      ]
    },
    {
      "cell_type": "code",
      "metadata": {
        "colab": {
          "base_uri": "https://localhost:8080/"
        },
        "id": "vh3rd2S0u2na",
        "outputId": "91a6f847-2efa-400d-9fbc-f36f64182d69"
      },
      "source": [
        "x = {\"a\": 1, \"b\": 2}\n",
        "y = {\"b\": 3, \"c\": 4}\n",
        "z = {**x, **y}\n",
        "print(z)"
      ],
      "execution_count": null,
      "outputs": [
        {
          "output_type": "stream",
          "name": "stdout",
          "text": [
            "{'a': 1, 'b': 3, 'c': 4}\n"
          ]
        }
      ]
    },
    {
      "cell_type": "markdown",
      "metadata": {
        "id": "WJtu4zNvu7Tb"
      },
      "source": [
        "# Indexing strings\n"
      ]
    },
    {
      "cell_type": "code",
      "metadata": {
        "colab": {
          "base_uri": "https://localhost:8080/"
        },
        "id": "ewA7--K1u4VT",
        "outputId": "8fef2635-dd39-4c59-8ed4-c878d5ccb5d3"
      },
      "source": [
        "a = \"abcd\"\n",
        "x1 = a[-1]      # last item in the array\n",
        "x2 = a[-2:]     # last two items in the array\n",
        "x3 = a[:-2]     # everything except the last two items\n",
        "x4 = a[::-1]    # all items in the array, reversed\n",
        "x5 = a[1:3]     # index 1,2 (excluding 3)\n",
        "print(x1)       # OUTPUT: d\n",
        "print(x2)       # OUTPUT: cd\n",
        "print(x3)       # OUTPUT: ab\n",
        "print(x4)       # OUTPUT: dcba\n",
        "print(x5)       # OUTPUT: bc"
      ],
      "execution_count": null,
      "outputs": [
        {
          "output_type": "stream",
          "name": "stdout",
          "text": [
            "d\n",
            "cd\n",
            "ab\n",
            "dcba\n",
            "bc\n"
          ]
        }
      ]
    },
    {
      "cell_type": "markdown",
      "metadata": {
        "id": "M8Ut6GC7u91-"
      },
      "source": [
        "# Appending vs Extending a Python List\n"
      ]
    },
    {
      "cell_type": "code",
      "metadata": {
        "colab": {
          "base_uri": "https://localhost:8080/"
        },
        "id": "-dwd0ydBu8rm",
        "outputId": "a53d03dc-51a4-418b-8dc1-923ff5112956"
      },
      "source": [
        "x = [1, 2, 3]\n",
        "y = [4, 5]\n",
        "x.append(y)\n",
        "print(x)"
      ],
      "execution_count": null,
      "outputs": [
        {
          "output_type": "stream",
          "name": "stdout",
          "text": [
            "[1, 2, 3, [4, 5]]\n"
          ]
        }
      ]
    },
    {
      "cell_type": "code",
      "metadata": {
        "colab": {
          "base_uri": "https://localhost:8080/"
        },
        "id": "OQj0akMvu-9W",
        "outputId": "16dc3604-5027-4dc3-edbf-0d0316f3bf4f"
      },
      "source": [
        "x = [1, 2, 3]\n",
        "y = [4, 5]\n",
        "x.extend(y)\n",
        "print(x)"
      ],
      "execution_count": null,
      "outputs": [
        {
          "output_type": "stream",
          "name": "stdout",
          "text": [
            "[1, 2, 3, 4, 5]\n"
          ]
        }
      ]
    },
    {
      "cell_type": "code",
      "metadata": {
        "colab": {
          "base_uri": "https://localhost:8080/"
        },
        "id": "7fYo0ndbvAkH",
        "outputId": "cdaf7261-08d9-424c-e303-79709c76f9d3"
      },
      "source": [
        "prog_language = ['Python', 'Java']\n",
        "prog_language.append('Dart')\n",
        "print(prog_language)"
      ],
      "execution_count": null,
      "outputs": [
        {
          "output_type": "stream",
          "name": "stdout",
          "text": [
            "['Python', 'Java', 'Dart']\n"
          ]
        }
      ]
    },
    {
      "cell_type": "code",
      "metadata": {
        "colab": {
          "base_uri": "https://localhost:8080/"
        },
        "id": "1xp4JdS-vB_z",
        "outputId": "052bcf81-56a4-46f0-8baa-3730b51a0184"
      },
      "source": [
        "num1 = [4, 5, 6]\n",
        "num2 = [5, 6, 7]\n",
        "result = num1 + num2\n",
        "print(result)"
      ],
      "execution_count": null,
      "outputs": [
        {
          "output_type": "stream",
          "name": "stdout",
          "text": [
            "[4, 5, 6, 5, 6, 7]\n"
          ]
        }
      ]
    },
    {
      "cell_type": "markdown",
      "metadata": {
        "id": "ZSfMdXuLvMia"
      },
      "source": [
        "# Switch case in Python\n"
      ]
    },
    {
      "cell_type": "code",
      "metadata": {
        "colab": {
          "base_uri": "https://localhost:8080/"
        },
        "id": "Bp6zq9NmvLml",
        "outputId": "7a8e4266-3210-4b8a-89d4-c7f118da5a05"
      },
      "source": [
        "def numbers_to_strings(argument):\n",
        "    # argument: key of a dictionary\n",
        "    switcher = {\n",
        "        0: \"zero\",\n",
        "        1: \"one\",\n",
        "        2: \"two\",\n",
        "    }\n",
        "    return switcher.get(argument, \"Data Not Available\")\n",
        "if __name__ == \"__main__\":\n",
        "    result = numbers_to_strings(1)\n",
        "    print(result)                        # output: one"
      ],
      "execution_count": null,
      "outputs": [
        {
          "output_type": "stream",
          "name": "stdout",
          "text": [
            "one\n"
          ]
        }
      ]
    },
    {
      "cell_type": "code",
      "metadata": {
        "colab": {
          "base_uri": "https://localhost:8080/"
        },
        "id": "G6fb7iDVvWMI",
        "outputId": "f8820536-0ed0-48a6-b7b2-a5175aeec976"
      },
      "source": [
        "def numbers_to_strings(argument):\n",
        "    switcher = {\n",
        "        0: \"zero\",\n",
        "        1: \"one\",\n",
        "        2: \"two\",\n",
        "    }\n",
        "    return switcher.get(argument, \"Data Not Available\")\n",
        "if __name__ == \"__main__\":\n",
        "    result = numbers_to_strings(4)\n",
        "    print(result)"
      ],
      "execution_count": null,
      "outputs": [
        {
          "output_type": "stream",
          "name": "stdout",
          "text": [
            "Data Not Available\n"
          ]
        }
      ]
    },
    {
      "cell_type": "markdown",
      "metadata": {
        "id": "NklIezWnvYvW"
      },
      "source": [
        "# Open text file\n"
      ]
    },
    {
      "cell_type": "code",
      "metadata": {
        "id": "0LndI7-svXjg"
      },
      "source": [
        "file = open('filename.txt')"
      ],
      "execution_count": null,
      "outputs": []
    },
    {
      "cell_type": "code",
      "metadata": {
        "id": "X9zseHYhvaLV"
      },
      "source": [
        "file = open('filename.txt')\n",
        "try:\n",
        "    # do whatever you want to do with your file.\n",
        "finally:\n",
        "    file.close()"
      ],
      "execution_count": null,
      "outputs": []
    },
    {
      "cell_type": "code",
      "metadata": {
        "id": "RVAE6YSMvb_s"
      },
      "source": [
        "with open('filename.txt') as my_file:\n",
        "    # do whatever you want to do with your file."
      ],
      "execution_count": null,
      "outputs": []
    },
    {
      "cell_type": "markdown",
      "metadata": {
        "id": "dFyx2O6rvhZ5"
      },
      "source": [
        "# Use generators inside a function\n"
      ]
    },
    {
      "cell_type": "code",
      "metadata": {
        "colab": {
          "base_uri": "https://localhost:8080/"
        },
        "id": "zeWnMaxdvf2_",
        "outputId": "5bc62aa1-f842-49fb-9a67-932e5fc4a043"
      },
      "source": [
        "x = sum(i for i in range(10))\n",
        "print(x)"
      ],
      "execution_count": null,
      "outputs": [
        {
          "output_type": "stream",
          "name": "stdout",
          "text": [
            "45\n"
          ]
        }
      ]
    },
    {
      "cell_type": "markdown",
      "metadata": {
        "id": "1GPSWo57vkZM"
      },
      "source": [
        "# Transpose a matrix\n"
      ]
    },
    {
      "cell_type": "code",
      "metadata": {
        "colab": {
          "base_uri": "https://localhost:8080/"
        },
        "id": "6TLar5oLvjOo",
        "outputId": "9682acf7-5fdb-43c5-9a9a-36c0a4100c36"
      },
      "source": [
        "x = [[31, 17], [40, 51], [13, 12]]\n",
        "print(list(zip(*x)))"
      ],
      "execution_count": null,
      "outputs": [
        {
          "output_type": "stream",
          "name": "stdout",
          "text": [
            "[(31, 40, 13), (17, 51, 12)]\n"
          ]
        }
      ]
    },
    {
      "cell_type": "markdown",
      "metadata": {
        "id": "VnhflSMCvnvt"
      },
      "source": [
        "# Built-in functions of List\n"
      ]
    },
    {
      "cell_type": "code",
      "metadata": {
        "colab": {
          "base_uri": "https://localhost:8080/"
        },
        "id": "uy3lIz8Vvmyj",
        "outputId": "83529787-4488-4927-a48d-a2b53b70a375"
      },
      "source": [
        "language = [\"Python\", \"Java\", \"Dart\"]\n",
        "language.reverse()\n",
        "print(language)"
      ],
      "execution_count": null,
      "outputs": [
        {
          "output_type": "stream",
          "name": "stdout",
          "text": [
            "['Dart', 'Java', 'Python']\n"
          ]
        }
      ]
    },
    {
      "cell_type": "code",
      "metadata": {
        "colab": {
          "base_uri": "https://localhost:8080/"
        },
        "id": "M1Wo3UzuvpAT",
        "outputId": "cf4e7043-eb68-4b84-c020-e6928874e0f0"
      },
      "source": [
        "x = [1, 2, 3, 4, 5, 6, 7, 8]\n",
        "x.insert(0, 10)               # insert 10, at position 0\n",
        "print(x)"
      ],
      "execution_count": null,
      "outputs": [
        {
          "output_type": "stream",
          "name": "stdout",
          "text": [
            "[10, 1, 2, 3, 4, 5, 6, 7, 8]\n"
          ]
        }
      ]
    },
    {
      "cell_type": "code",
      "metadata": {
        "colab": {
          "base_uri": "https://localhost:8080/"
        },
        "id": "JFx5LbK6vqbL",
        "outputId": "0b71a4f8-059b-4224-f7a1-c962a636af5c"
      },
      "source": [
        "x = [1, 2, 3, 4, 1, 1]\n",
        "print(x.count(1))"
      ],
      "execution_count": null,
      "outputs": [
        {
          "output_type": "stream",
          "name": "stdout",
          "text": [
            "3\n"
          ]
        }
      ]
    },
    {
      "cell_type": "code",
      "metadata": {
        "colab": {
          "base_uri": "https://localhost:8080/"
        },
        "id": "skmJw73PvsnH",
        "outputId": "a6884ead-7cb1-4781-ddf0-dd99832eb50b"
      },
      "source": [
        "x = [1, 2, 3, 4, 1, 1]\n",
        "x.clear()\n",
        "print(x)"
      ],
      "execution_count": null,
      "outputs": [
        {
          "output_type": "stream",
          "name": "stdout",
          "text": [
            "[]\n"
          ]
        }
      ]
    },
    {
      "cell_type": "code",
      "metadata": {
        "colab": {
          "base_uri": "https://localhost:8080/"
        },
        "id": "zYELy8oqvuSF",
        "outputId": "176e1bfb-ee42-45b0-b439-35bd45145ece"
      },
      "source": [
        "x = [\"a\", \"b\", \"c\", \"d\", \"e\", \"f\"]\n",
        "print(x.index(\"d\"))"
      ],
      "execution_count": null,
      "outputs": [
        {
          "output_type": "stream",
          "name": "stdout",
          "text": [
            "3\n"
          ]
        }
      ]
    },
    {
      "cell_type": "code",
      "metadata": {
        "colab": {
          "base_uri": "https://localhost:8080/"
        },
        "id": "PNWd18YcvvZv",
        "outputId": "50640f5f-0983-4e94-a494-909adba53136"
      },
      "source": [
        "x = [\"a\", \"b\", \"c\", \"d\", \"e\", \"f\"]\n",
        "print(len(x))"
      ],
      "execution_count": null,
      "outputs": [
        {
          "output_type": "stream",
          "name": "stdout",
          "text": [
            "6\n"
          ]
        }
      ]
    },
    {
      "cell_type": "code",
      "metadata": {
        "colab": {
          "base_uri": "https://localhost:8080/"
        },
        "id": "RXj0-CQOvwUE",
        "outputId": "a4fdfe0c-1905-4377-a347-1fcef15e1214"
      },
      "source": [
        "x = [\"a\", \"b\", \"c\", \"d\", \"e\", \"f\"]\n",
        "print(x.pop())             # output: f\n",
        "print(x)                   # output: ['a', 'b', 'c', 'd', 'e']"
      ],
      "execution_count": null,
      "outputs": [
        {
          "output_type": "stream",
          "name": "stdout",
          "text": [
            "f\n",
            "['a', 'b', 'c', 'd', 'e']\n"
          ]
        }
      ]
    },
    {
      "cell_type": "code",
      "metadata": {
        "colab": {
          "base_uri": "https://localhost:8080/"
        },
        "id": "aD8HAdXzvxh7",
        "outputId": "6ed0fc91-2c9b-4888-8910-9c987db1969a"
      },
      "source": [
        "x = [2, 1, 3, 5, 4]\n",
        "x.sort()                # sort in ascending order\n",
        "print(x)                # output: [1, 2, 3, 4, 5]\n",
        "y = [2, 1, 3, 5, 4]\n",
        "y.sort(reverse=True)    # sort in descending order\n",
        "print(y)                # output: [5, 4, 3, 2, 1]"
      ],
      "execution_count": null,
      "outputs": [
        {
          "output_type": "stream",
          "name": "stdout",
          "text": [
            "[1, 2, 3, 4, 5]\n",
            "[5, 4, 3, 2, 1]\n"
          ]
        }
      ]
    },
    {
      "cell_type": "code",
      "metadata": {
        "colab": {
          "base_uri": "https://localhost:8080/"
        },
        "id": "XMFQmgchvyvF",
        "outputId": "29c1c93c-0be6-413d-9d4b-5ac4825081d8"
      },
      "source": [
        "x = [2, 1, 3, 5, 4, 3, 3]\n",
        "x.remove(3)                      # remove the first occurrence of 3\n",
        "print(x)                         # output: [2, 1, 5, 4, 3, 3]"
      ],
      "execution_count": null,
      "outputs": [
        {
          "output_type": "stream",
          "name": "stdout",
          "text": [
            "[2, 1, 5, 4, 3, 3]\n"
          ]
        }
      ]
    },
    {
      "cell_type": "markdown",
      "metadata": {
        "id": "L27glMDkv1Db"
      },
      "source": [
        "# Remove all occurrences of an item from a list\n"
      ]
    },
    {
      "cell_type": "code",
      "metadata": {
        "colab": {
          "base_uri": "https://localhost:8080/"
        },
        "id": "jSbSvsAXv0E_",
        "outputId": "a8ca8d50-13df-4112-a13f-6a9c55344e77"
      },
      "source": [
        "# remove all 2 from the list \n",
        "a = [1, 2, 3, 2, 2, 2, 3, 4]\n",
        "b = filter(lambda x: x != 2, a)\n",
        "print(list(b))\n",
        "# output: [1, 3, 3, 4]"
      ],
      "execution_count": null,
      "outputs": [
        {
          "output_type": "stream",
          "name": "stdout",
          "text": [
            "[1, 3, 3, 4]\n"
          ]
        }
      ]
    },
    {
      "cell_type": "code",
      "metadata": {
        "colab": {
          "base_uri": "https://localhost:8080/"
        },
        "id": "n1xV0aZ9v2Sn",
        "outputId": "892dce9b-4245-4e87-cfd3-c395ff7c7b1e"
      },
      "source": [
        "a = [1, 2, 3, 2, 2, 2, 3, 4]\n",
        "b = filter((2).__ne__, a)\n",
        "print(list(b))\n",
        "# output: [1, 3, 3, 4]"
      ],
      "execution_count": null,
      "outputs": [
        {
          "output_type": "stream",
          "name": "stdout",
          "text": [
            "[1, 3, 3, 4]\n"
          ]
        }
      ]
    },
    {
      "cell_type": "markdown",
      "metadata": {
        "id": "-4yr9dfpv5Od"
      },
      "source": [
        "# Find min/max from a list of int/str\n"
      ]
    },
    {
      "cell_type": "code",
      "metadata": {
        "colab": {
          "base_uri": "https://localhost:8080/"
        },
        "id": "KISUxBnFv3Uh",
        "outputId": "b5e1a296-9ab7-49f5-891a-d9e902fec16a"
      },
      "source": [
        "a = [1, 2, 3, 4, 5, 6, 7, 8, 9, 10]\n",
        "min_a = min(a)\n",
        "max_a = max(a)\n",
        "print(min_a)       # OUTPUT: 1\n",
        "print(max_a)       # OUTPUT: 10"
      ],
      "execution_count": null,
      "outputs": [
        {
          "output_type": "stream",
          "name": "stdout",
          "text": [
            "1\n",
            "10\n"
          ]
        }
      ]
    },
    {
      "cell_type": "code",
      "metadata": {
        "colab": {
          "base_uri": "https://localhost:8080/"
        },
        "id": "hfHHnR55v6ob",
        "outputId": "c8e75e6b-37e1-428c-ab54-6a15c6b05449"
      },
      "source": [
        "a = [\"flower\", \"flow\", \"flights\"]\n",
        "min_a = min(a)\n",
        "max_a = max(a)\n",
        "print(min_a)       # OUTPUT: flights\n",
        "print(max_a)       # OUTPUT: flower"
      ],
      "execution_count": null,
      "outputs": [
        {
          "output_type": "stream",
          "name": "stdout",
          "text": [
            "flights\n",
            "flower\n"
          ]
        }
      ]
    },
    {
      "cell_type": "code",
      "metadata": {
        "colab": {
          "base_uri": "https://localhost:8080/"
        },
        "id": "yhXIlPulv77Z",
        "outputId": "be291f32-a7c8-491f-9688-0c266642b190"
      },
      "source": [
        "a = [\"flower\", \"flow\", \"flights\"]\n",
        "min_a = min(a, key=len)\n",
        "max_a = max(a, key=len)\n",
        "print(min_a)      # OUTPUT: flow\n",
        "print(max_a)      # OUTPUT: flights"
      ],
      "execution_count": null,
      "outputs": [
        {
          "output_type": "stream",
          "name": "stdout",
          "text": [
            "flow\n",
            "flights\n"
          ]
        }
      ]
    },
    {
      "cell_type": "markdown",
      "metadata": {
        "id": "ZEGisbDmv-p8"
      },
      "source": [
        "# The difference among remove, del, pop\n"
      ]
    },
    {
      "cell_type": "code",
      "metadata": {
        "colab": {
          "base_uri": "https://localhost:8080/"
        },
        "id": "Max4sk7sv9rL",
        "outputId": "ef4fea2e-a869-4bc7-8a10-d2ac04fda06e"
      },
      "source": [
        "x = [2, 1, 4, 3]\n",
        "x.remove(1)\n",
        "print(x)                           "
      ],
      "execution_count": null,
      "outputs": [
        {
          "output_type": "stream",
          "name": "stdout",
          "text": [
            "[2, 4, 3]\n"
          ]
        }
      ]
    },
    {
      "cell_type": "code",
      "metadata": {
        "colab": {
          "base_uri": "https://localhost:8080/"
        },
        "id": "XqPNfte4wASf",
        "outputId": "413ffa3e-f50f-49eb-a641-03eb11e073b5"
      },
      "source": [
        "x = [2, 1, 4, 3]\n",
        "del x[0]                           # delete the item in index 0\n",
        "print(x) "
      ],
      "execution_count": null,
      "outputs": [
        {
          "output_type": "stream",
          "name": "stdout",
          "text": [
            "[1, 4, 3]\n"
          ]
        }
      ]
    },
    {
      "cell_type": "code",
      "metadata": {
        "colab": {
          "base_uri": "https://localhost:8080/"
        },
        "id": "rT16uLfEwCJT",
        "outputId": "9757a2cf-7c83-488e-de60-e5e0b4d4f0e3"
      },
      "source": [
        "x = [2, 1, 4, 3]\n",
        "print(x.pop(0))"
      ],
      "execution_count": null,
      "outputs": [
        {
          "output_type": "stream",
          "name": "stdout",
          "text": [
            "2\n"
          ]
        }
      ]
    },
    {
      "cell_type": "markdown",
      "metadata": {
        "id": "m7i8pghHwKLh"
      },
      "source": [
        "# When to use: List vs Tuple vs Set\n"
      ]
    },
    {
      "cell_type": "code",
      "metadata": {
        "colab": {
          "base_uri": "https://localhost:8080/"
        },
        "id": "OYzNhnTSwEC1",
        "outputId": "03e4742d-11dc-471d-951e-0bbc62dbd687"
      },
      "source": [
        "x = set([\"foo\", \"bar\", \"baz\", \"foo\", \"qux\"])\n",
        "print(type(x))             # output: <class 'set'>\n",
        "print(x)                   # output: {'qux', 'baz', 'foo', 'bar'}\n",
        "\n",
        "# another way to define set\n",
        "x = {\"foo\", \"bar\", \"baz\", \"foo\", \"qux\"}\n",
        "print(x)                   "
      ],
      "execution_count": null,
      "outputs": [
        {
          "output_type": "stream",
          "name": "stdout",
          "text": [
            "<class 'set'>\n",
            "{'qux', 'foo', 'baz', 'bar'}\n",
            "{'qux', 'foo', 'baz', 'bar'}\n"
          ]
        }
      ]
    },
    {
      "cell_type": "code",
      "metadata": {
        "colab": {
          "base_uri": "https://localhost:8080/"
        },
        "id": "1omVDgYhwLwN",
        "outputId": "36af91db-d388-4811-8467-fe443e4090ad"
      },
      "source": [
        "x = {42, \"foo\", (1, 2, 3), 3.14159}\n",
        "print(x) "
      ],
      "execution_count": null,
      "outputs": [
        {
          "output_type": "stream",
          "name": "stdout",
          "text": [
            "{'foo', 42, 3.14159, (1, 2, 3)}\n"
          ]
        }
      ]
    },
    {
      "cell_type": "markdown",
      "metadata": {
        "id": "wVNfik86wNkP"
      },
      "source": [
        "# Common operations in set\n"
      ]
    },
    {
      "cell_type": "code",
      "metadata": {
        "colab": {
          "base_uri": "https://localhost:8080/"
        },
        "id": "SGaEdVV7wMvX",
        "outputId": "7f0b883d-3794-4e8b-f84d-ead13a1ba0c6"
      },
      "source": [
        "x = {\"a\", \"b\", \"c\", \"d\"}\n",
        "y = {\"b\", \"d\", \"a\", \"e\"}\n",
        "z1 = x | y\n",
        "z2 = x.union(y)\n",
        "print(z1)                    # output: {'d', 'e', 'c', 'b', 'a'}\n",
        "print(z2)"
      ],
      "execution_count": null,
      "outputs": [
        {
          "output_type": "stream",
          "name": "stdout",
          "text": [
            "{'a', 'b', 'e', 'd', 'c'}\n",
            "{'a', 'b', 'e', 'd', 'c'}\n"
          ]
        }
      ]
    },
    {
      "cell_type": "code",
      "metadata": {
        "colab": {
          "base_uri": "https://localhost:8080/"
        },
        "id": "O_LdgyZTwOy9",
        "outputId": "dd47163a-9d59-46a2-d084-31de97ea2b7f"
      },
      "source": [
        "a = {1, 2, 3, 4}\n",
        "b = {2, 3, 4, 5}\n",
        "c = {3, 4, 5, 6}\n",
        "d = {4, 5, 6, 7}\n",
        "union = a.union(b, c, d)\n",
        "intersection = a.intersection(b, c, d)\n",
        "print(union)                 # output: {1, 2, 3, 4, 5, 6, 7}\n",
        "print(intersection) "
      ],
      "execution_count": null,
      "outputs": [
        {
          "output_type": "stream",
          "name": "stdout",
          "text": [
            "{1, 2, 3, 4, 5, 6, 7}\n",
            "{4}\n"
          ]
        }
      ]
    },
    {
      "cell_type": "markdown",
      "metadata": {
        "id": "ybVn8pz5wQvT"
      },
      "source": [
        "# Check the memory usage\n"
      ]
    },
    {
      "cell_type": "code",
      "metadata": {
        "colab": {
          "base_uri": "https://localhost:8080/"
        },
        "id": "EtkimH15wP5s",
        "outputId": "27e400c2-e9c9-40d6-da71-56e0d5d5ef44"
      },
      "source": [
        "import sys\n",
        "a, b, c, d = \"abcde\", \"xy\", 2, 15.06\n",
        "print(sys.getsizeof(a))\n",
        "print(sys.getsizeof(b))\n",
        "print(sys.getsizeof(c))\n",
        "print(sys.getsizeof(d))"
      ],
      "execution_count": null,
      "outputs": [
        {
          "output_type": "stream",
          "name": "stdout",
          "text": [
            "54\n",
            "51\n",
            "28\n",
            "24\n"
          ]
        }
      ]
    },
    {
      "cell_type": "markdown",
      "metadata": {
        "id": "YqSoSSR6wTQC"
      },
      "source": [
        "# *args and **kwargs\n"
      ]
    },
    {
      "cell_type": "code",
      "metadata": {
        "colab": {
          "base_uri": "https://localhost:8080/"
        },
        "id": "s7nqZ4CdwSEh",
        "outputId": "6f5b47d1-3274-482d-f382-0cd5b3d7e399"
      },
      "source": [
        "def sum_lists(*args):\n",
        "    return list(map(sum, zip(*args)))\n",
        "a = [1, 2, 3]\n",
        "b = [1, 2, 3]\n",
        "c = [2, 3, 4]\n",
        "result = sum_lists(a, b, c)\n",
        "print(result)\n",
        "# output: [4, 7, 10]"
      ],
      "execution_count": null,
      "outputs": [
        {
          "output_type": "stream",
          "name": "stdout",
          "text": [
            "[4, 7, 10]\n"
          ]
        }
      ]
    },
    {
      "cell_type": "code",
      "metadata": {
        "colab": {
          "base_uri": "https://localhost:8080/"
        },
        "id": "pmqvBgBuwVG9",
        "outputId": "e8860ab2-abca-4b88-d57d-8fb7d56c2062"
      },
      "source": [
        "def get_move_info(**kwargs):\n",
        "    for key, value in kwargs.items():\n",
        "        print(f\"{key} = {value}\")\n",
        "print()\n",
        "if __name__ == \"__main__\":\n",
        "# movie info 1\n",
        "    get_move_info(\n",
        "        name=\"Interstellar\", \n",
        "        release_year=2014,  \n",
        "        director=\"Christopher Nolan\")\n",
        "# movie info 2\n",
        "    get_move_info(\n",
        "    name=\"The Machinist\",\n",
        "    release_year=2004,\n",
        "    director=\"Brad Anderson\",\n",
        "    lead_actor=\"Christian Bale\")"
      ],
      "execution_count": null,
      "outputs": [
        {
          "output_type": "stream",
          "name": "stdout",
          "text": [
            "\n",
            "name = Interstellar\n",
            "release_year = 2014\n",
            "director = Christopher Nolan\n",
            "name = The Machinist\n",
            "release_year = 2004\n",
            "director = Brad Anderson\n",
            "lead_actor = Christian Bale\n"
          ]
        }
      ]
    },
    {
      "cell_type": "code",
      "metadata": {
        "colab": {
          "base_uri": "https://localhost:8080/"
        },
        "id": "uD5Mry71wZq_",
        "outputId": "8c771081-c218-4ce1-d309-054009bc23f3"
      },
      "source": [
        "def information(**data):\n",
        "    for key, value in data.items():\n",
        "        print(f\"{key}: {value}\")\n",
        "    print()\n",
        "if __name__ == \"__main__\":\n",
        "    information(\n",
        "            Firstname=\"Sadman\", \n",
        "            Lastname=\"Soumik\", \n",
        "            Age=26, \n",
        "            Phone=1234567890\n",
        "    )\n",
        "    information(\n",
        "            Firstname=\"John\",\n",
        "            Lastname=\"Wood\",\n",
        "            Email=\"johnwood@nomail.com\",\n",
        "            Country=\"Wakanda\",\n",
        "            Age=25,\n",
        "            Phone=9876543210,\n",
        "        )"
      ],
      "execution_count": null,
      "outputs": [
        {
          "output_type": "stream",
          "name": "stdout",
          "text": [
            "Firstname: Sadman\n",
            "Lastname: Soumik\n",
            "Age: 26\n",
            "Phone: 1234567890\n",
            "\n",
            "Firstname: John\n",
            "Lastname: Wood\n",
            "Email: johnwood@nomail.com\n",
            "Country: Wakanda\n",
            "Age: 25\n",
            "Phone: 9876543210\n",
            "\n"
          ]
        }
      ]
    },
    {
      "cell_type": "markdown",
      "metadata": {
        "id": "UpB2UcCJwgFi"
      },
      "source": [
        "# Check if a file exists\n"
      ]
    },
    {
      "cell_type": "code",
      "metadata": {
        "id": "b01bH6Hkwe-h"
      },
      "source": [
        "import os\n",
        "if os.path.isfile(filepath):       # filepath = location of the file\n",
        "   print(\"File exists\") "
      ],
      "execution_count": null,
      "outputs": []
    },
    {
      "cell_type": "markdown",
      "metadata": {
        "id": "ezvKjl_Nwmgb"
      },
      "source": [
        "# Check if a directory exists, if not, create the directory\n"
      ]
    },
    {
      "cell_type": "code",
      "metadata": {
        "id": "1bb_NlFKwjMs"
      },
      "source": [
        "SAVE_DIR = \"target_dir\"  \n",
        "if not os.path.exists(SAVE_DIR):        \n",
        "    os.makedirs(SAVE_DIR)"
      ],
      "execution_count": null,
      "outputs": []
    },
    {
      "cell_type": "markdown",
      "metadata": {
        "id": "VQGUVYJqwrFO"
      },
      "source": [
        "# Lambda, Map, and Filter\n"
      ]
    },
    {
      "cell_type": "code",
      "metadata": {
        "colab": {
          "base_uri": "https://localhost:8080/"
        },
        "id": "Ybb9y1ctwp_Z",
        "outputId": "604bba47-e2f1-446c-d73f-72d94d96a689"
      },
      "source": [
        "# a function that adds 10 with every number\n",
        "def add_ten(x):\n",
        "    return x + 10\n",
        "x = [1, 2, 3, 4]\n",
        "ans = map(add_ten, x)\n",
        "print(list(ans))"
      ],
      "execution_count": null,
      "outputs": [
        {
          "output_type": "stream",
          "name": "stdout",
          "text": [
            "[11, 12, 13, 14]\n"
          ]
        }
      ]
    },
    {
      "cell_type": "code",
      "metadata": {
        "colab": {
          "base_uri": "https://localhost:8080/"
        },
        "id": "foHPErWKwtg1",
        "outputId": "589a566b-21c9-458a-83c2-271937f03f1a"
      },
      "source": [
        "seq = [1, 2, 3, 4]\n",
        "result = filter(lambda x: x + 1, seq)\n",
        "print(list(result))"
      ],
      "execution_count": null,
      "outputs": [
        {
          "output_type": "stream",
          "name": "stdout",
          "text": [
            "[1, 2, 3, 4]\n"
          ]
        }
      ]
    },
    {
      "cell_type": "code",
      "metadata": {
        "colab": {
          "base_uri": "https://localhost:8080/"
        },
        "id": "tkBwA3cfwvmz",
        "outputId": "8ee46531-9bb2-4192-d802-099a20cffc1c"
      },
      "source": [
        "seq = [1, 2, 3, 4]\n",
        "result = filter(lambda x: x + 1, seq)\n",
        "print(list(result))"
      ],
      "execution_count": null,
      "outputs": [
        {
          "output_type": "stream",
          "name": "stdout",
          "text": [
            "[1, 2, 3, 4]\n"
          ]
        }
      ]
    },
    {
      "cell_type": "code",
      "metadata": {
        "id": "3Jxm0dYvww2n",
        "colab": {
          "base_uri": "https://localhost:8080/"
        },
        "outputId": "e9f148ed-ae0c-44cd-929d-18452bcf11c5"
      },
      "source": [
        "def even_numbers(num):\n",
        "    # return the numbers which are only divisible by 2\n",
        "    return num % 2 == 0\n",
        "db = [1, 2, 3, 4, 5, 6, 7, 8, 9]\n",
        "even_numbers = filter(even_numbers, db)\n",
        "print(list(even_numbers))"
      ],
      "execution_count": null,
      "outputs": [
        {
          "output_type": "stream",
          "name": "stdout",
          "text": [
            "[2, 4, 6, 8]\n"
          ]
        }
      ]
    },
    {
      "cell_type": "markdown",
      "metadata": {
        "id": "U4bzvebcwzUG"
      },
      "source": [
        "# Collections module\n"
      ]
    },
    {
      "cell_type": "markdown",
      "metadata": {
        "id": "WHxLz_o2xAl9"
      },
      "source": [
        "## Find the most frequent element in a list\n"
      ]
    },
    {
      "cell_type": "code",
      "metadata": {
        "id": "y1I-L9EGwyZT",
        "colab": {
          "base_uri": "https://localhost:8080/"
        },
        "outputId": "66b8940d-d541-4958-e741-bc0bb66db1ec"
      },
      "source": [
        "from collections import Counter\n",
        "\n",
        "words = [\"a\", \"b\", \"c\", \"a\", \"b\", \"a\"]\n",
        "\n",
        "print(dict(Counter(words)))\n",
        "# {'a': 3, 'b': 2, 'c': 1}\n",
        "print(list(Counter(words).keys()))\n",
        "# ['a', 'b', 'c']\n",
        "print(list(Counter(words).values()))\n",
        "# [3, 2, 1]"
      ],
      "execution_count": 52,
      "outputs": [
        {
          "output_type": "stream",
          "name": "stdout",
          "text": [
            "{'a': 3, 'b': 2, 'c': 1}\n",
            "['a', 'b', 'c']\n",
            "[3, 2, 1]\n"
          ]
        }
      ]
    },
    {
      "cell_type": "code",
      "metadata": {
        "colab": {
          "base_uri": "https://localhost:8080/"
        },
        "id": "YNI_DLl9w9aY",
        "outputId": "ef733469-9997-4203-b524-9e05fa6716bf"
      },
      "source": [
        "from collections import Counter\n",
        "\n",
        "\n",
        "def most_frequent(lst):\n",
        "    data = Counter(lst)\n",
        "    return data.most_common(1)  # returns most frequent 1 element\n",
        "\n",
        "\n",
        "list = [2, 1, 2, 2, 1, 3, 3, 3, 2]\n",
        "print(most_frequent(list))\n"
      ],
      "execution_count": 53,
      "outputs": [
        {
          "output_type": "stream",
          "name": "stdout",
          "text": [
            "[(2, 4)]\n"
          ]
        }
      ]
    },
    {
      "cell_type": "code",
      "metadata": {
        "colab": {
          "base_uri": "https://localhost:8080/"
        },
        "id": "AvXDM7jhw_iI",
        "outputId": "6697d2ab-bd83-4b4f-fb4a-3d97d548f247"
      },
      "source": [
        "from collections import Counter\n",
        "\n",
        "\n",
        "def most_frequent(lst):\n",
        "    data = Counter(lst)\n",
        "    return data.most_common(1)[0][0]      \n",
        "               # [0][0] is the first element of a matrix\n",
        "\n",
        "list = [2, 1, 2, 2, 1, 3, 3, 3, 2]\n",
        "print(most_frequent(list))"
      ],
      "execution_count": 54,
      "outputs": [
        {
          "output_type": "stream",
          "name": "stdout",
          "text": [
            "2\n"
          ]
        }
      ]
    },
    {
      "cell_type": "markdown",
      "metadata": {
        "id": "edln1kX8xFjo"
      },
      "source": [
        "## Creating class using namedtuple\n"
      ]
    },
    {
      "cell_type": "code",
      "metadata": {
        "colab": {
          "base_uri": "https://localhost:8080/"
        },
        "id": "Z-skBVrMxEg1",
        "outputId": "6326a564-9fc6-40db-9262-9d0b97299e75"
      },
      "source": [
        "class Transaction:\n",
        "    def __init__(self, amount, sender, receiver, date):\n",
        "        self.amount = amount\n",
        "        self.sender = sender\n",
        "        self.receiver = receiver\n",
        "        self.date = date\n",
        "trnsaction_1 = Transaction(100, \"Alice\", \"Bob\", \"2019-01-01\")\n",
        "print(trnsaction_1.receiver)"
      ],
      "execution_count": 55,
      "outputs": [
        {
          "output_type": "stream",
          "name": "stdout",
          "text": [
            "Bob\n"
          ]
        }
      ]
    },
    {
      "cell_type": "code",
      "metadata": {
        "colab": {
          "base_uri": "https://localhost:8080/"
        },
        "id": "SK7HR8eixHXM",
        "outputId": "a5758f04-c7b6-47e5-dc94-7f9fcd198d62"
      },
      "source": [
        "from collections import namedtuple\n",
        "Transaction = namedtuple('Transaction', [\"amount\", \"sender\", \"receiver\", \"date\"])\n",
        "transaction_1 = Transaction(amount=100, sender=\"Alice\", receiver=\"Bob\", date=\"2019-01-01\")\n",
        "print(transaction_1.receiver)"
      ],
      "execution_count": 56,
      "outputs": [
        {
          "output_type": "stream",
          "name": "stdout",
          "text": [
            "Bob\n"
          ]
        }
      ]
    },
    {
      "cell_type": "code",
      "metadata": {
        "colab": {
          "base_uri": "https://localhost:8080/"
        },
        "id": "7_vNwFU8xJqu",
        "outputId": "4f71e059-81f2-4f76-d565-95ac19f55506"
      },
      "source": [
        "print(transaction_1._asdict())"
      ],
      "execution_count": 57,
      "outputs": [
        {
          "output_type": "stream",
          "name": "stdout",
          "text": [
            "OrderedDict([('amount', 100), ('sender', 'Alice'), ('receiver', 'Bob'), ('date', '2019-01-01')])\n"
          ]
        }
      ]
    },
    {
      "cell_type": "markdown",
      "metadata": {
        "id": "FB59FQkZxMpE"
      },
      "source": [
        "## Create dictionaries using defaultdict from collections module.\n"
      ]
    },
    {
      "cell_type": "code",
      "metadata": {
        "id": "BwKAb4LvxLTN"
      },
      "source": [
        "from collections import defaultdict\n",
        "\n",
        "employee_record = [\n",
        "    (\"Kabir\", \"ML\", \"level-b\"),\n",
        "    (\"Sunehra\", \"SDE\", \"level-b\"),\n",
        "    (\"Smith\", \"ML\", \"level-c\"),\n",
        "    (\"William\", \"HR\", \"level-c\"),\n",
        "]\n",
        "\n",
        "employee_name_by_dept = defaultdict(list)\n",
        "\n",
        "for name, dept, level in employee_record:\n",
        "    employee_name_by_dept[dept].append(name) # dept as key, name as values\n",
        "\n",
        "print(dict(employee_name_by_dept))"
      ],
      "execution_count": 61,
      "outputs": []
    },
    {
      "cell_type": "markdown",
      "metadata": {
        "id": "2Mj5jPLWxY93"
      },
      "source": [
        "## deque from collections module\n"
      ]
    },
    {
      "cell_type": "code",
      "metadata": {
        "id": "NozJI69FxP66"
      },
      "source": [
        "from collections import deque\n",
        "\n",
        "\n",
        "employee_list = [\"Soumik\", \"Jamie\", \"Smith\"]\n",
        "employee_list_deque = deque(employee_list)\n",
        "\n",
        "# O(1) time performance\n",
        "employee_list_deque.appendleft(\"Sunehra\")\n",
        "print(list(employee_list_deque))"
      ],
      "execution_count": 64,
      "outputs": []
    },
    {
      "cell_type": "markdown",
      "metadata": {
        "id": "POM5Wd1uxb86"
      },
      "source": [
        "## Creating a list of dictionaries from multiple dictionaries\n"
      ]
    },
    {
      "cell_type": "code",
      "metadata": {
        "colab": {
          "base_uri": "https://localhost:8080/"
        },
        "id": "RDcldMBgxa8Q",
        "outputId": "96157b6a-9f4c-4c4c-e762-d44bb73b7456"
      },
      "source": [
        "from collections import ChainMap\n",
        "\n",
        "salary = {\"SDE\": 100000, \"HR\": 80000, \"MTO\": 60000}\n",
        "office_hq = {\"Asia\": \"Singapore\", \"Europe\": \"Dublin\", \"North America\": \"USA\"}\n",
        "age_limit = {\"SDE\": 40, \"HR\": 50}\n",
        "\n",
        "employee_info = ChainMap(salary, office_hq, age_limit)\n",
        "print(employee_info.maps)"
      ],
      "execution_count": 63,
      "outputs": [
        {
          "output_type": "stream",
          "name": "stdout",
          "text": [
            "[{'SDE': 100000, 'HR': 80000, 'MTO': 60000}, {'Asia': 'Singapore', 'Europe': 'Dublin', 'North America': 'USA'}, {'SDE': 40, 'HR': 50}]\n"
          ]
        }
      ]
    },
    {
      "cell_type": "markdown",
      "metadata": {
        "id": "BVfdubYGxg-D"
      },
      "source": [
        "## Create ordered dictionary using OrderedDict\n"
      ]
    },
    {
      "cell_type": "code",
      "metadata": {
        "colab": {
          "base_uri": "https://localhost:8080/"
        },
        "id": "tpmUIQMpxecP",
        "outputId": "e439a9de-fddd-48cf-9201-da4dc05bfc3f"
      },
      "source": [
        "import collections\n",
        "\n",
        "# remembers the order\n",
        "d = collections.OrderedDict()\n",
        "d[\"A\"] = 65\n",
        "d[\"C\"] = 67\n",
        "d[\"B\"] = 66\n",
        "d[\"D\"] = 68\n",
        "\n",
        "for key, value in d.items():\n",
        "    print(key, value)"
      ],
      "execution_count": 65,
      "outputs": [
        {
          "output_type": "stream",
          "name": "stdout",
          "text": [
            "A 65\n",
            "C 67\n",
            "B 66\n",
            "D 68\n"
          ]
        }
      ]
    },
    {
      "cell_type": "markdown",
      "metadata": {
        "id": "Hn46TMoMxkZJ"
      },
      "source": [
        "# Object-Oriented Programming concepts\n"
      ]
    },
    {
      "cell_type": "markdown",
      "metadata": {
        "id": "9T-tOsBNxlxj"
      },
      "source": [
        "## Creating class in Python\n"
      ]
    },
    {
      "cell_type": "code",
      "metadata": {
        "colab": {
          "base_uri": "https://localhost:8080/"
        },
        "id": "ASgaai79xjOO",
        "outputId": "db8f3193-93ab-4935-8585-86376bc17d0f"
      },
      "source": [
        "class Transaction:\n",
        "    def __init__(self, sender, recipient, amount):\n",
        "        self.sender = sender\n",
        "        self.recipient = recipient\n",
        "        self.amount = amount\n",
        "    def __str__(self):\n",
        "        return f\"{self.sender} -> {self.recipient} : {self.amount}\"\n",
        "\n",
        "if __name__ == \"__main__\":\n",
        "    transaction_1 = Transaction(\"Alice\", \"Bob\", 100)\n",
        "    print(transaction_1)"
      ],
      "execution_count": 66,
      "outputs": [
        {
          "output_type": "stream",
          "name": "stdout",
          "text": [
            "Alice -> Bob : 100\n"
          ]
        }
      ]
    },
    {
      "cell_type": "markdown",
      "metadata": {
        "id": "pwGOdebCxoSL"
      },
      "source": [
        "## Inheritance in Python\n"
      ]
    },
    {
      "cell_type": "code",
      "metadata": {
        "colab": {
          "base_uri": "https://localhost:8080/"
        },
        "id": "S-uFDglsxnIA",
        "outputId": "21f77e0b-dd44-46df-9dbd-386d40062acf"
      },
      "source": [
        "class Employee:\n",
        "    def __init__(self, name, salary):\n",
        "        self.name = name\n",
        "        self.salary = salary\n",
        "    def __str__(self):\n",
        "        return f\"{self.name} earns {self.salary}\"\n",
        "\n",
        "if __name__ == \"__main__\":\n",
        "    e1 = Employee(\"John\", 100)\n",
        "    print(e1)"
      ],
      "execution_count": 67,
      "outputs": [
        {
          "output_type": "stream",
          "name": "stdout",
          "text": [
            "John earns 100\n"
          ]
        }
      ]
    },
    {
      "cell_type": "code",
      "metadata": {
        "colab": {
          "base_uri": "https://localhost:8080/"
        },
        "id": "vdp7Bw8oxqB6",
        "outputId": "f10c3f4f-ac95-4b12-fad6-6a9f6965f13e"
      },
      "source": [
        "class Employee:\n",
        "    def __init__(self, name, salary):\n",
        "        self.name = name\n",
        "        self.salary = salary\n",
        "    def __str__(self):\n",
        "        return f\"{self.name} earns {self.salary}\"\n",
        "\n",
        "class Manager(Employee):\n",
        "    def __init__(self, name, salary, bonus):\n",
        "        super().__init__(name, salary)\n",
        "        self.bonus = bonus\n",
        "    def __str__(self):\n",
        "        return f\"{self.name} earns {self.salary} and gets  {self.bonus} bonus\"\n",
        "\n",
        "if __name__ == \"__main__\":\n",
        "    e1 = Employee(\"John\", 100)\n",
        "    e2 = Manager(\"John\", 100, 10)\n",
        "    print(e2)"
      ],
      "execution_count": 68,
      "outputs": [
        {
          "output_type": "stream",
          "name": "stdout",
          "text": [
            "John earns 100 and gets  10 bonus\n"
          ]
        }
      ]
    },
    {
      "cell_type": "markdown",
      "metadata": {
        "id": "VEfkdzxtxtn-"
      },
      "source": [
        "## Polymorphism in Python\n"
      ]
    },
    {
      "cell_type": "code",
      "metadata": {
        "colab": {
          "base_uri": "https://localhost:8080/"
        },
        "id": "Klx0s-ZmxsUb",
        "outputId": "cc70ca5a-fcf0-484e-c7ac-436a33197cb5"
      },
      "source": [
        "class Employee:\n",
        "    def __init__(self, name, salary):\n",
        "        self.name = name\n",
        "        self.salary = salary\n",
        "    def full_name(self, first_name=None, last_name=None):\n",
        "        if first_name and last_name:\n",
        "            return f\"{first_name} {last_name}\"\n",
        "        else:\n",
        "            return f\"{self.name}\"\n",
        "if __name__ == \"__main__\":\n",
        "    employee = Employee(\"John\", 10000)\n",
        "    print(employee.full_name())\n",
        "    print(employee.full_name(\"John\", \"Doe\"))"
      ],
      "execution_count": 69,
      "outputs": [
        {
          "output_type": "stream",
          "name": "stdout",
          "text": [
            "John\n",
            "John Doe\n"
          ]
        }
      ]
    },
    {
      "cell_type": "markdown",
      "metadata": {
        "id": "mKyVgI-fxxZC"
      },
      "source": [
        "## Method Overriding in Python\n"
      ]
    },
    {
      "cell_type": "code",
      "metadata": {
        "colab": {
          "base_uri": "https://localhost:8080/"
        },
        "id": "r0yRmeUDxwBP",
        "outputId": "f9ccd4a5-585c-4637-b097-c81e0667de97"
      },
      "source": [
        "class Dog:\n",
        "    def bark(self):\n",
        "        print(\"WOOF\")\n",
        "\n",
        "class BobyDog(Dog):\n",
        "    def bark(self):\n",
        "        print(\"WoOoOoF!\")\n",
        "if __name__ == \"__main__\":\n",
        "    big_dog = Dog()\n",
        "    big_dog.bark()\n",
        "    baby_dog = BobyDog()\n",
        "    baby_dog.bark()"
      ],
      "execution_count": 70,
      "outputs": [
        {
          "output_type": "stream",
          "name": "stdout",
          "text": [
            "WOOF\n",
            "WoOoOoF!\n"
          ]
        }
      ]
    },
    {
      "cell_type": "markdown",
      "metadata": {
        "id": "lQRrUG9ox0ri"
      },
      "source": [
        "## Encapsulation in Python\n"
      ]
    },
    {
      "cell_type": "code",
      "metadata": {
        "colab": {
          "base_uri": "https://localhost:8080/",
          "height": 266
        },
        "id": "lucsdWzJxzP5",
        "outputId": "56cb4643-4fb2-4197-b703-121c4db7642a"
      },
      "source": [
        "class Human:\n",
        "    def __init__(self):\n",
        "        self.__var = \"private variable\"\n",
        "        self.var = \"public variable\"\n",
        "    def print_var(self):\n",
        "        # we can access the private variable in the class\n",
        "        print(self.__var)\n",
        "if __name__ == \"__main__\":\n",
        "    h = Human()\n",
        "    h.print_var()        # prints \"private variable\"\n",
        "    \n",
        "    print(h.var)         # prints \"public variable\"\n",
        "    \n",
        "    # private variable cannot be accessed outside the class \n",
        "    print(h.__var)       # does not work, will give error"
      ],
      "execution_count": 71,
      "outputs": [
        {
          "output_type": "stream",
          "name": "stdout",
          "text": [
            "private variable\n",
            "public variable\n"
          ]
        },
        {
          "output_type": "error",
          "ename": "AttributeError",
          "evalue": "ignored",
          "traceback": [
            "\u001b[0;31m---------------------------------------------------------------------------\u001b[0m",
            "\u001b[0;31mAttributeError\u001b[0m                            Traceback (most recent call last)",
            "\u001b[0;32m<ipython-input-71-2a699660de38>\u001b[0m in \u001b[0;36m<module>\u001b[0;34m()\u001b[0m\n\u001b[1;32m     13\u001b[0m \u001b[0;34m\u001b[0m\u001b[0m\n\u001b[1;32m     14\u001b[0m     \u001b[0;31m# private variable cannot be accessed outside the class\u001b[0m\u001b[0;34m\u001b[0m\u001b[0;34m\u001b[0m\u001b[0;34m\u001b[0m\u001b[0m\n\u001b[0;32m---> 15\u001b[0;31m     \u001b[0mprint\u001b[0m\u001b[0;34m(\u001b[0m\u001b[0mh\u001b[0m\u001b[0;34m.\u001b[0m\u001b[0m__var\u001b[0m\u001b[0;34m)\u001b[0m       \u001b[0;31m# does not work, will give error\u001b[0m\u001b[0;34m\u001b[0m\u001b[0;34m\u001b[0m\u001b[0m\n\u001b[0m",
            "\u001b[0;31mAttributeError\u001b[0m: 'Human' object has no attribute '__var'"
          ]
        }
      ]
    }
  ]
}