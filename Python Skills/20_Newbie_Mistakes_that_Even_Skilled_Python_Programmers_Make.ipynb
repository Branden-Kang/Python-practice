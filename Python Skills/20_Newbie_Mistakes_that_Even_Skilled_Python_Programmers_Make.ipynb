{
  "nbformat": 4,
  "nbformat_minor": 0,
  "metadata": {
    "colab": {
      "provenance": [],
      "authorship_tag": "ABX9TyNACOzsMWMsy1Ff1djnZeQU"
    },
    "kernelspec": {
      "name": "python3",
      "display_name": "Python 3"
    },
    "language_info": {
      "name": "python"
    }
  },
  "cells": [
    {
      "cell_type": "markdown",
      "source": [
        "[Reference](https://towardsdatascience.com/20-newbie-mistakes-that-even-skilled-python-programmers-make-6879048731a4)"
      ],
      "metadata": {
        "id": "PdpGVMuZ6SMW"
      }
    },
    {
      "cell_type": "markdown",
      "source": [
        "# #1 Using Multiple Print Statements\n"
      ],
      "metadata": {
        "id": "WjlUk9dl7eVx"
      }
    },
    {
      "cell_type": "code",
      "execution_count": 1,
      "metadata": {
        "colab": {
          "base_uri": "https://localhost:8080/"
        },
        "id": "H-hm7pEp6QZ6",
        "outputId": "afc742e9-1102-4aac-cdc1-6c8eb51ce857"
      },
      "outputs": [
        {
          "output_type": "stream",
          "name": "stdout",
          "text": [
            "10\n",
            "5\n",
            "3\n"
          ]
        }
      ],
      "source": [
        "a, b, c = 10, 5, 3\n",
        "\n",
        "print(a)\n",
        "print(b)\n",
        "print(c)"
      ]
    },
    {
      "cell_type": "code",
      "source": [
        "a, b, c = 10, 5, 3\n",
        "\n",
        "print(a, b, c, sep = \"\\n\")"
      ],
      "metadata": {
        "colab": {
          "base_uri": "https://localhost:8080/"
        },
        "id": "da4eEzZ-7fdr",
        "outputId": "1c4d7dd6-6d4b-4f6b-ccc3-34a68d59ea86"
      },
      "execution_count": 2,
      "outputs": [
        {
          "output_type": "stream",
          "name": "stdout",
          "text": [
            "10\n",
            "5\n",
            "3\n"
          ]
        }
      ]
    },
    {
      "cell_type": "code",
      "source": [
        "a, b, c = 10, 5, 3\n",
        "\n",
        "print(a, end = \"\\n---\\n\")\n",
        "print(b, end = \"\\n---\\n\")\n",
        "print(c)"
      ],
      "metadata": {
        "colab": {
          "base_uri": "https://localhost:8080/"
        },
        "id": "hZR0-THY7hL_",
        "outputId": "0e028c66-6784-48eb-bccc-5d9fb9161746"
      },
      "execution_count": 3,
      "outputs": [
        {
          "output_type": "stream",
          "name": "stdout",
          "text": [
            "10\n",
            "---\n",
            "5\n",
            "---\n",
            "3\n"
          ]
        }
      ]
    },
    {
      "cell_type": "markdown",
      "source": [
        "# #2 Printing the same variable using a FOR loop\n"
      ],
      "metadata": {
        "id": "76EoKxXt7jj6"
      }
    },
    {
      "cell_type": "code",
      "source": [
        "repeat = 10\n",
        "a = \"ABC\"\n",
        "for _ in range(repeat):\n",
        "    print(a, end = \"\")"
      ],
      "metadata": {
        "colab": {
          "base_uri": "https://localhost:8080/"
        },
        "id": "st4RKoFa7idA",
        "outputId": "c1990418-73ba-4109-863f-df1d6022a806"
      },
      "execution_count": 4,
      "outputs": [
        {
          "output_type": "stream",
          "name": "stdout",
          "text": [
            "ABCABCABCABCABCABCABCABCABCABC"
          ]
        }
      ]
    },
    {
      "cell_type": "code",
      "source": [
        "repeat = 10\n",
        "a = \"ABC\"\n",
        "\n",
        "print(a*repeat)"
      ],
      "metadata": {
        "colab": {
          "base_uri": "https://localhost:8080/"
        },
        "id": "p9gFVdwF7k3j",
        "outputId": "b5627150-4606-4ed0-bfbb-acc8d83eca60"
      },
      "execution_count": 5,
      "outputs": [
        {
          "output_type": "stream",
          "name": "stdout",
          "text": [
            "ABCABCABCABCABCABCABCABCABCABC\n"
          ]
        }
      ]
    },
    {
      "cell_type": "markdown",
      "source": [
        "# #3–4 Creating a separate variable to track the index in a loop\n"
      ],
      "metadata": {
        "id": "IKphYgN97nRb"
      }
    },
    {
      "cell_type": "code",
      "source": [
        "idx = 0\n",
        "char_list = [\"a\", \"b\", \"c\", \"d\", \"e\", \"f\"]\n",
        "\n",
        "for i in char_list:\n",
        "    print(\"index =\", idx, \"value =\", i, sep = \" \")\n",
        "    idx += 1"
      ],
      "metadata": {
        "colab": {
          "base_uri": "https://localhost:8080/"
        },
        "id": "oQnr-k2h7mTD",
        "outputId": "06fc1add-52d8-4f44-b89f-9f173502ef20"
      },
      "execution_count": 6,
      "outputs": [
        {
          "output_type": "stream",
          "name": "stdout",
          "text": [
            "index = 0 value = a\n",
            "index = 1 value = b\n",
            "index = 2 value = c\n",
            "index = 3 value = d\n",
            "index = 4 value = e\n",
            "index = 5 value = f\n"
          ]
        }
      ]
    },
    {
      "cell_type": "code",
      "source": [
        "char_list = [\"a\", \"b\", \"c\", \"d\", \"e\", \"f\"]\n",
        "\n",
        "for idx in range(len(char_list)):\n",
        "    print(\"index =\", idx, \"value =\", char_list[idx], sep = \" \")\n",
        "    idx += 1"
      ],
      "metadata": {
        "colab": {
          "base_uri": "https://localhost:8080/"
        },
        "id": "wvSQnp_d7o5_",
        "outputId": "15abd2d4-50dd-49e1-d5f2-4d931de76f0a"
      },
      "execution_count": 7,
      "outputs": [
        {
          "output_type": "stream",
          "name": "stdout",
          "text": [
            "index = 0 value = a\n",
            "index = 1 value = b\n",
            "index = 2 value = c\n",
            "index = 3 value = d\n",
            "index = 4 value = e\n",
            "index = 5 value = f\n"
          ]
        }
      ]
    },
    {
      "cell_type": "code",
      "source": [
        "char_list = [\"a\", \"b\", \"c\", \"d\", \"e\", \"f\"]\n",
        "\n",
        "for idx, i in enumerate(char_list):\n",
        "    print(\"index =\", idx, \"value =\", i, sep = \" \")"
      ],
      "metadata": {
        "colab": {
          "base_uri": "https://localhost:8080/"
        },
        "id": "w0lmKqf_7p_C",
        "outputId": "f1ffec79-41d8-4068-fcd2-dc331bf7425f"
      },
      "execution_count": 8,
      "outputs": [
        {
          "output_type": "stream",
          "name": "stdout",
          "text": [
            "index = 0 value = a\n",
            "index = 1 value = b\n",
            "index = 2 value = c\n",
            "index = 3 value = d\n",
            "index = 4 value = e\n",
            "index = 5 value = f\n"
          ]
        }
      ]
    },
    {
      "cell_type": "markdown",
      "source": [
        "# #5 Converting a list to a string using FOR loop\n"
      ],
      "metadata": {
        "id": "P4CLA89w-3v7"
      }
    },
    {
      "cell_type": "code",
      "source": [
        "char_list = [\"A\", \"B\", \"C\", \"D\", \"E\"]\n",
        "final_str = \"\"\n",
        "\n",
        "for i in char_list:\n",
        "    final_str += i\n",
        "\n",
        "print(final_str)"
      ],
      "metadata": {
        "colab": {
          "base_uri": "https://localhost:8080/"
        },
        "id": "NXtby8l57rdS",
        "outputId": "53d4dabc-1e7a-40ba-c8e5-ab5800f9f3af"
      },
      "execution_count": 9,
      "outputs": [
        {
          "output_type": "stream",
          "name": "stdout",
          "text": [
            "ABCDE\n"
          ]
        }
      ]
    },
    {
      "cell_type": "code",
      "source": [
        "char_list = [\"A\", \"B\", \"C\", \"D\", \"E\"]\n",
        "final_str = \"\".join(char_list)\n",
        "\n",
        "print(final_str)"
      ],
      "metadata": {
        "colab": {
          "base_uri": "https://localhost:8080/"
        },
        "id": "bb67ys4H-4zL",
        "outputId": "26db5dad-18d0-401e-bb2e-1d99e00fa0b3"
      },
      "execution_count": 10,
      "outputs": [
        {
          "output_type": "stream",
          "name": "stdout",
          "text": [
            "ABCDE\n"
          ]
        }
      ]
    },
    {
      "cell_type": "markdown",
      "source": [
        "# #6 Removing duplicates from a list using a FOR loop\n"
      ],
      "metadata": {
        "id": "AAbbRjri_C2F"
      }
    },
    {
      "cell_type": "code",
      "source": [
        "char_list = [\"A\", \"B\", \"A\", \"D\", \"C\", \"B\", \"E\"]\n",
        "final_list = []\n",
        "\n",
        "for i in char_list:\n",
        "    if i not in final_list:\n",
        "        final_list.append(i)\n",
        "\n",
        "print(final_list)"
      ],
      "metadata": {
        "colab": {
          "base_uri": "https://localhost:8080/"
        },
        "id": "7PpmYg9s_ByI",
        "outputId": "16d259ba-4ffe-4f47-84a7-79710dea5289"
      },
      "execution_count": 11,
      "outputs": [
        {
          "output_type": "stream",
          "name": "stdout",
          "text": [
            "['A', 'B', 'D', 'C', 'E']\n"
          ]
        }
      ]
    },
    {
      "cell_type": "code",
      "source": [
        "char_list = [\"A\", \"B\", \"A\", \"D\", \"C\", \"B\", \"E\"]\n",
        "\n",
        "set(list(char_list))"
      ],
      "metadata": {
        "colab": {
          "base_uri": "https://localhost:8080/"
        },
        "id": "CMvPfbNS_Er9",
        "outputId": "a1f2f7f8-c3e5-4375-8d31-2eeaccc5d597"
      },
      "execution_count": 12,
      "outputs": [
        {
          "output_type": "execute_result",
          "data": {
            "text/plain": [
              "{'A', 'B', 'C', 'D', 'E'}"
            ]
          },
          "metadata": {},
          "execution_count": 12
        }
      ]
    },
    {
      "cell_type": "code",
      "source": [
        "char_list = [\"A\", \"B\", \"A\", \"D\", \"C\", \"B\", \"E\"]\n",
        "\n",
        "list(set(list(char_list)))"
      ],
      "metadata": {
        "colab": {
          "base_uri": "https://localhost:8080/"
        },
        "id": "7J0Ea797_FwY",
        "outputId": "e37a2989-8def-4954-9c93-5e34ad5a330f"
      },
      "execution_count": 13,
      "outputs": [
        {
          "output_type": "execute_result",
          "data": {
            "text/plain": [
              "['C', 'B', 'D', 'E', 'A']"
            ]
          },
          "metadata": {},
          "execution_count": 13
        }
      ]
    },
    {
      "cell_type": "markdown",
      "source": [
        "# #7 Searching for an element in a list using FOR loop\n"
      ],
      "metadata": {
        "id": "_pdzZ3n3_H5G"
      }
    },
    {
      "cell_type": "code",
      "source": [
        "char_list = [\"A\", \"B\", \"A\", \"D\", \"C\", \"B\", \"E\"]\n",
        "search_char = \"D\"\n",
        "found = False\n",
        "\n",
        "for i in char_list:\n",
        "    if i == search_char:\n",
        "        found = True\n",
        "        break\n",
        "\n",
        "print(found)"
      ],
      "metadata": {
        "colab": {
          "base_uri": "https://localhost:8080/"
        },
        "id": "bkg3L3a8_HHK",
        "outputId": "3fd5a931-f34e-4045-fb3c-098a67626f48"
      },
      "execution_count": 14,
      "outputs": [
        {
          "output_type": "stream",
          "name": "stdout",
          "text": [
            "True\n"
          ]
        }
      ]
    },
    {
      "cell_type": "code",
      "source": [
        "char_list = [\"A\", \"B\", \"A\", \"D\", \"C\", \"B\", \"E\"]\n",
        "search_char = \"D\"\n",
        "\n",
        "search_char in char_list"
      ],
      "metadata": {
        "colab": {
          "base_uri": "https://localhost:8080/"
        },
        "id": "SHGvkKCh_JWN",
        "outputId": "c95fd98c-1be1-4f37-8372-07ba5be7ccbc"
      },
      "execution_count": 15,
      "outputs": [
        {
          "output_type": "execute_result",
          "data": {
            "text/plain": [
              "True"
            ]
          },
          "metadata": {},
          "execution_count": 15
        }
      ]
    },
    {
      "cell_type": "markdown",
      "source": [
        "# #8 Iterating over two iterables of the same size using an index variable\n"
      ],
      "metadata": {
        "id": "m3p56q1i_MO6"
      }
    },
    {
      "cell_type": "code",
      "source": [
        "list1 = [1, 3, 6, 2, 5]\n",
        "list2 = [0, 4, 1, 9, 7]\n",
        "\n",
        "for idx in range(len(list1)):\n",
        "    print(\"value1 =\", list1[idx], \"value2 =\", list2[idx], sep = \" \")"
      ],
      "metadata": {
        "colab": {
          "base_uri": "https://localhost:8080/"
        },
        "id": "oo8x2CoE_Kt2",
        "outputId": "aec7deeb-d15d-48af-8957-a2ee247d6adc"
      },
      "execution_count": 16,
      "outputs": [
        {
          "output_type": "stream",
          "name": "stdout",
          "text": [
            "value1 = 1 value2 = 0\n",
            "value1 = 3 value2 = 4\n",
            "value1 = 6 value2 = 1\n",
            "value1 = 2 value2 = 9\n",
            "value1 = 5 value2 = 7\n"
          ]
        }
      ]
    },
    {
      "cell_type": "code",
      "source": [
        "list1 = [1, 3, 6, 2, 5]\n",
        "list2 = [0, 4, 1, 9, 7]\n",
        "\n",
        "for i, j in zip(list1, list2):\n",
        "    print(\"value1 =\", i, \"value2 =\", j, sep = \" \")"
      ],
      "metadata": {
        "colab": {
          "base_uri": "https://localhost:8080/"
        },
        "id": "shDeYrnB_NTj",
        "outputId": "2a542273-58bb-4b61-d7b2-7d7f0a188e61"
      },
      "execution_count": 17,
      "outputs": [
        {
          "output_type": "stream",
          "name": "stdout",
          "text": [
            "value1 = 1 value2 = 0\n",
            "value1 = 3 value2 = 4\n",
            "value1 = 6 value2 = 1\n",
            "value1 = 2 value2 = 9\n",
            "value1 = 5 value2 = 7\n"
          ]
        }
      ]
    },
    {
      "cell_type": "markdown",
      "source": [
        "# #9 Reversing a list using a FOR loop\n"
      ],
      "metadata": {
        "id": "Bb8Ro8gA_R7I"
      }
    },
    {
      "cell_type": "code",
      "source": [
        "input_list  = [1, 2, 3, 4, 5]\n",
        "output_list = []\n",
        "\n",
        "for idx in range(len(input_list), 0, -1):\n",
        "    output_list.append(input_list[idx-1])\n",
        "\n",
        "print(output_list)"
      ],
      "metadata": {
        "colab": {
          "base_uri": "https://localhost:8080/"
        },
        "id": "SG9EnNC8_OwZ",
        "outputId": "d5a19b41-0b98-4e57-f7f3-b32c5da5431c"
      },
      "execution_count": 18,
      "outputs": [
        {
          "output_type": "stream",
          "name": "stdout",
          "text": [
            "[5, 4, 3, 2, 1]\n"
          ]
        }
      ]
    },
    {
      "cell_type": "code",
      "source": [
        "input_list  = [1, 2, 3, 4, 5]\n",
        "\n",
        "output_list = input_list[::-1]\n",
        "print(output_list)"
      ],
      "metadata": {
        "colab": {
          "base_uri": "https://localhost:8080/"
        },
        "id": "lLzfA22q_Tc8",
        "outputId": "1e8a92c4-3e54-49ce-e6e6-25f0b140154e"
      },
      "execution_count": 19,
      "outputs": [
        {
          "output_type": "stream",
          "name": "stdout",
          "text": [
            "[5, 4, 3, 2, 1]\n"
          ]
        }
      ]
    },
    {
      "cell_type": "markdown",
      "source": [
        "# #10 Checking Palindrome using a FOR loop\n"
      ],
      "metadata": {
        "id": "4lJb_r8N_VnL"
      }
    },
    {
      "cell_type": "code",
      "source": [
        "input_list  = [1, 2, 3, 2, 1]\n",
        "output_list = []\n",
        "\n",
        "for idx in range(len(input_list), 0, -1):\n",
        "    output_list.append(input_list[idx-1])\n",
        "\n",
        "print(output_list == input_list)"
      ],
      "metadata": {
        "colab": {
          "base_uri": "https://localhost:8080/"
        },
        "id": "FU6jHByS_Uyc",
        "outputId": "30d2fd0d-f18a-4ecd-dd2d-db2a6decffb3"
      },
      "execution_count": 20,
      "outputs": [
        {
          "output_type": "stream",
          "name": "stdout",
          "text": [
            "True\n"
          ]
        }
      ]
    },
    {
      "cell_type": "code",
      "source": [
        "input_list  = [1, 2, 3, 2, 1]\n",
        "\n",
        "output_list = input_list[::-1]\n",
        "print(output_list == input_list)"
      ],
      "metadata": {
        "colab": {
          "base_uri": "https://localhost:8080/"
        },
        "id": "cM1YzhRc_W8-",
        "outputId": "3895dd79-2f13-492c-f183-0418cd1adf23"
      },
      "execution_count": 21,
      "outputs": [
        {
          "output_type": "stream",
          "name": "stdout",
          "text": [
            "True\n"
          ]
        }
      ]
    },
    {
      "cell_type": "markdown",
      "source": [
        "# #11 Counting the occurrence of an element in an iterable using FOR loop\n"
      ],
      "metadata": {
        "id": "hffqrHvU_ZiL"
      }
    },
    {
      "cell_type": "code",
      "source": [
        "char_list = [\"A\", \"B\", \"A\", \"D\", \"C\", \"B\", \"E\"]\n",
        "search_char = \"B\"\n",
        "char_count = 0\n",
        "\n",
        "for i in char_list:\n",
        "    if search_char == i:\n",
        "        char_count += 1\n",
        "\n",
        "print(char_count)"
      ],
      "metadata": {
        "colab": {
          "base_uri": "https://localhost:8080/"
        },
        "id": "lxerrBTl_YjX",
        "outputId": "11adb76f-b5f1-41f6-8687-4239d3d9e78f"
      },
      "execution_count": 22,
      "outputs": [
        {
          "output_type": "stream",
          "name": "stdout",
          "text": [
            "2\n"
          ]
        }
      ]
    },
    {
      "cell_type": "code",
      "source": [
        "char_list = [\"A\", \"B\", \"A\", \"D\", \"C\", \"B\", \"E\"]\n",
        "\n",
        "char_list.count(\"A\")"
      ],
      "metadata": {
        "colab": {
          "base_uri": "https://localhost:8080/"
        },
        "id": "quaFDs5Q_a2P",
        "outputId": "5fa467dd-ca05-462b-f88c-be0288e89f8a"
      },
      "execution_count": 23,
      "outputs": [
        {
          "output_type": "execute_result",
          "data": {
            "text/plain": [
              "2"
            ]
          },
          "metadata": {},
          "execution_count": 23
        }
      ]
    },
    {
      "cell_type": "code",
      "source": [
        "string = \"ABADCBE\"\n",
        "\n",
        "string.count(\"A\")"
      ],
      "metadata": {
        "colab": {
          "base_uri": "https://localhost:8080/"
        },
        "id": "VS69CYeS_cCg",
        "outputId": "7fbaf69c-17ad-4f0c-ac95-c044a4b8dd90"
      },
      "execution_count": 24,
      "outputs": [
        {
          "output_type": "execute_result",
          "data": {
            "text/plain": [
              "2"
            ]
          },
          "metadata": {},
          "execution_count": 24
        }
      ]
    },
    {
      "cell_type": "markdown",
      "source": [
        "# #12 Obtaining a string’s substring using FOR loop\n"
      ],
      "metadata": {
        "id": "86P2P3tK_dz3"
      }
    },
    {
      "cell_type": "code",
      "source": [
        "input_str = \"ABCDEFGHIJKL\"\n",
        "start_index = 4\n",
        "n_chars = 5\n",
        "\n",
        "output_str = \"\"\n",
        "\n",
        "for i in range(n_chars):\n",
        "    output_str += input_str[i+start_index]\n",
        "\n",
        "print(output_str)"
      ],
      "metadata": {
        "colab": {
          "base_uri": "https://localhost:8080/"
        },
        "id": "xSR-7msc_dG0",
        "outputId": "858e7d5c-d752-4224-a008-941c54eddbb3"
      },
      "execution_count": 25,
      "outputs": [
        {
          "output_type": "stream",
          "name": "stdout",
          "text": [
            "EFGHI\n"
          ]
        }
      ]
    },
    {
      "cell_type": "code",
      "source": [
        "input_str = \"ABCDEFGHIJKL\"\n",
        "start_index = 4\n",
        "n_chars = 5\n",
        "\n",
        "output_str = input_str[start_index:start_index+n_chars]\n",
        "print(output_str)"
      ],
      "metadata": {
        "colab": {
          "base_uri": "https://localhost:8080/"
        },
        "id": "0OypO_3w_fhT",
        "outputId": "531e7107-3813-404b-d9e1-45d97b4fea75"
      },
      "execution_count": 26,
      "outputs": [
        {
          "output_type": "stream",
          "name": "stdout",
          "text": [
            "EFGHI\n"
          ]
        }
      ]
    },
    {
      "cell_type": "markdown",
      "source": [
        "# #13 Defining long integer constants\n"
      ],
      "metadata": {
        "id": "jJxz7HGW_iZT"
      }
    },
    {
      "cell_type": "code",
      "source": [
        "x = 1000000000000000000000\n",
        "x"
      ],
      "metadata": {
        "colab": {
          "base_uri": "https://localhost:8080/"
        },
        "id": "tmm9gG0f_hU1",
        "outputId": "8937569c-d437-4695-dbbe-f00f0970f139"
      },
      "execution_count": 27,
      "outputs": [
        {
          "output_type": "execute_result",
          "data": {
            "text/plain": [
              "1000000000000000000000"
            ]
          },
          "metadata": {},
          "execution_count": 27
        }
      ]
    },
    {
      "cell_type": "code",
      "source": [
        "x = 1_000_000_000_000_000_000_000\n",
        "x"
      ],
      "metadata": {
        "colab": {
          "base_uri": "https://localhost:8080/"
        },
        "id": "65SAMqmm_jmZ",
        "outputId": "417acf4f-5af6-4716-abaf-aaa107ace767"
      },
      "execution_count": 28,
      "outputs": [
        {
          "output_type": "execute_result",
          "data": {
            "text/plain": [
              "1000000000000000000000"
            ]
          },
          "metadata": {},
          "execution_count": 28
        }
      ]
    },
    {
      "cell_type": "code",
      "source": [
        "x = pow(10, 21)"
      ],
      "metadata": {
        "id": "7WMSCkHi_kx0"
      },
      "execution_count": 29,
      "outputs": []
    },
    {
      "cell_type": "markdown",
      "source": [
        "# #14 Swapping case of a String with IF conditions\n"
      ],
      "metadata": {
        "id": "0LlEt7dk_oAB"
      }
    },
    {
      "cell_type": "code",
      "source": [
        "input_str = \"AbCDeFGhIjkl\"\n",
        "output_str = \"\"\n",
        "\n",
        "for i in input_str:\n",
        "\n",
        "    if i.islower():\n",
        "        output_str += i.upper()\n",
        "\n",
        "    elif i.isupper():\n",
        "        output_str += i.lower()\n",
        "    \n",
        "    else:\n",
        "        output_str += i\n",
        "\n",
        "print(output_str)"
      ],
      "metadata": {
        "colab": {
          "base_uri": "https://localhost:8080/"
        },
        "id": "75zweuO8_mOU",
        "outputId": "cc7500e3-993c-49cf-dcb4-0e2467e77c3b"
      },
      "execution_count": 30,
      "outputs": [
        {
          "output_type": "stream",
          "name": "stdout",
          "text": [
            "aBcdEfgHiJKL\n"
          ]
        }
      ]
    },
    {
      "cell_type": "code",
      "source": [
        "input_str = \"AbCDeFGhIjkl\"\n",
        "output_str = input_str.swapcase()\n",
        "\n",
        "print(output_str)"
      ],
      "metadata": {
        "colab": {
          "base_uri": "https://localhost:8080/"
        },
        "id": "1poKJ_lZ_pZV",
        "outputId": "c9ac8bd5-afb2-4a60-fa1c-06ddb11f47fe"
      },
      "execution_count": 31,
      "outputs": [
        {
          "output_type": "stream",
          "name": "stdout",
          "text": [
            "aBcdEfgHiJKL\n"
          ]
        }
      ]
    },
    {
      "cell_type": "markdown",
      "source": [
        "# #15 Obtaining a Union of two sets\n"
      ],
      "metadata": {
        "id": "sU0qAN4H_sXV"
      }
    },
    {
      "cell_type": "code",
      "source": [
        "set_a = {1, 2, 4, 8}\n",
        "set_b = {3, 8, 7, 1, 9}\n",
        "\n",
        "union_set = set()\n",
        "\n",
        "for i in set_a:\n",
        "    union_set.add(i)\n",
        "\n",
        "for i in set_b:\n",
        "    union_set.add(i)\n",
        "\n",
        "print(union_set)"
      ],
      "metadata": {
        "colab": {
          "base_uri": "https://localhost:8080/"
        },
        "id": "tSoUf3lb_qmj",
        "outputId": "a73e0581-f07c-4b53-8f40-2a09ac499144"
      },
      "execution_count": 32,
      "outputs": [
        {
          "output_type": "stream",
          "name": "stdout",
          "text": [
            "{1, 2, 3, 4, 7, 8, 9}\n"
          ]
        }
      ]
    },
    {
      "cell_type": "code",
      "source": [
        "set_a = {1, 2, 4, 8}\n",
        "set_b = {3, 8, 7, 1, 9}\n",
        "\n",
        "union_set = set_a.union(set_b)\n",
        "print(union_set)"
      ],
      "metadata": {
        "colab": {
          "base_uri": "https://localhost:8080/"
        },
        "id": "7ANa0Ava_tbI",
        "outputId": "2d777462-4f81-4d68-dce8-469cbf81336c"
      },
      "execution_count": 33,
      "outputs": [
        {
          "output_type": "stream",
          "name": "stdout",
          "text": [
            "{1, 2, 3, 4, 7, 8, 9}\n"
          ]
        }
      ]
    },
    {
      "cell_type": "code",
      "source": [
        "set_a = {1, 2, 4, 8}\n",
        "set_b = {3, 8, 7, 1, 9}\n",
        "set_c = {5, 9, 10, 3, 2}\n",
        "set_d = {7, 2, 13, 15, 0}\n",
        "\n",
        "union_set = set_a.union(set_b, set_c, set_d)\n",
        "print(union_set)"
      ],
      "metadata": {
        "colab": {
          "base_uri": "https://localhost:8080/"
        },
        "id": "_L1gSynH_uiy",
        "outputId": "89e39f86-a568-44e3-9ecb-3b0c0a1c7d51"
      },
      "execution_count": 34,
      "outputs": [
        {
          "output_type": "stream",
          "name": "stdout",
          "text": [
            "{0, 1, 2, 3, 4, 5, 7, 8, 9, 10, 13, 15}\n"
          ]
        }
      ]
    },
    {
      "cell_type": "markdown",
      "source": [
        "# #16 Obtaining the Intersection of two sets\n"
      ],
      "metadata": {
        "id": "VMCIGgwR_wkT"
      }
    },
    {
      "cell_type": "code",
      "source": [
        "set_a = {1, 2, 4, 8}\n",
        "set_b = {3, 8, 7, 1, 9}\n",
        "\n",
        "intersection_set = set()\n",
        "\n",
        "for i in set_a:\n",
        "    if i in set_b:\n",
        "        intersection_set.add(i)\n",
        "\n",
        "print(intersection_set)"
      ],
      "metadata": {
        "colab": {
          "base_uri": "https://localhost:8080/"
        },
        "id": "9rF77ytH_vu6",
        "outputId": "966ca983-2da5-4c7d-9562-44f23dc87d8f"
      },
      "execution_count": 35,
      "outputs": [
        {
          "output_type": "stream",
          "name": "stdout",
          "text": [
            "{8, 1}\n"
          ]
        }
      ]
    },
    {
      "cell_type": "code",
      "source": [
        "set_a = {1, 2, 4, 8}\n",
        "set_b = {3, 8, 7, 1, 9}\n",
        "\n",
        "intersection_set = set_a.intersection(set_b)\n",
        "\n",
        "print(intersection_set)"
      ],
      "metadata": {
        "colab": {
          "base_uri": "https://localhost:8080/"
        },
        "id": "Wix_MR1J_yB0",
        "outputId": "c8a7cb5b-40cc-4719-e034-d15fc2d821fb"
      },
      "execution_count": 36,
      "outputs": [
        {
          "output_type": "stream",
          "name": "stdout",
          "text": [
            "{8, 1}\n"
          ]
        }
      ]
    },
    {
      "cell_type": "markdown",
      "source": [
        "# #17 Writing Multiple Conditions in an IF statement\n"
      ],
      "metadata": {
        "id": "4ZFUyKS4_2D0"
      }
    },
    {
      "cell_type": "code",
      "source": [
        "a = 1\n",
        "\n",
        "if a == 1 or a == 2 or a==3:\n",
        "    a += 1\n",
        "\n",
        "elif a == 4 or a == 5 or a==6:\n",
        "    a += 5\n",
        "\n",
        "else:\n",
        "    a *= 2\n",
        "\n",
        "print(a)"
      ],
      "metadata": {
        "colab": {
          "base_uri": "https://localhost:8080/"
        },
        "id": "LU23_63q_1bR",
        "outputId": "f38a41b5-509d-4205-85aa-9f2b17f7031c"
      },
      "execution_count": 37,
      "outputs": [
        {
          "output_type": "stream",
          "name": "stdout",
          "text": [
            "2\n"
          ]
        }
      ]
    },
    {
      "cell_type": "code",
      "source": [
        "a = 1\n",
        "\n",
        "if a in (1, 2, 3):\n",
        "    a += 1\n",
        "\n",
        "elif a in (4, 5, 6):\n",
        "    a += 5\n",
        "\n",
        "else:\n",
        "    a *= 2\n",
        "\n",
        "print(a)"
      ],
      "metadata": {
        "colab": {
          "base_uri": "https://localhost:8080/"
        },
        "id": "b6ZXVmpz_4d0",
        "outputId": "6e9aca86-0223-4e07-ab69-77009c47ba84"
      },
      "execution_count": 38,
      "outputs": [
        {
          "output_type": "stream",
          "name": "stdout",
          "text": [
            "2\n"
          ]
        }
      ]
    },
    {
      "cell_type": "markdown",
      "source": [
        "# #18 Changing the data type of all elements in a list\n"
      ],
      "metadata": {
        "id": "Rihn72Cv_8AT"
      }
    },
    {
      "cell_type": "code",
      "source": [
        "input_list  = [\"7\", \"2\", \"13\", \"15\", \"0\"]\n",
        "output_list = []\n",
        "\n",
        "for idx, i in enumerate(input_list):\n",
        "    output_list.append(int(input_list[idx]))\n",
        "\n",
        "print(output_list)"
      ],
      "metadata": {
        "colab": {
          "base_uri": "https://localhost:8080/"
        },
        "id": "HKbnlVo8_7Na",
        "outputId": "74e23d89-1ebf-4fb6-8ed9-5ef702e3b460"
      },
      "execution_count": 39,
      "outputs": [
        {
          "output_type": "stream",
          "name": "stdout",
          "text": [
            "[7, 2, 13, 15, 0]\n"
          ]
        }
      ]
    },
    {
      "cell_type": "code",
      "source": [
        "input_list = [\"7\", \"2\", \"13\", \"15\", \"0\"]\n",
        "\n",
        "output_list = list(map(int, input_list))\n",
        "print(output_list)"
      ],
      "metadata": {
        "colab": {
          "base_uri": "https://localhost:8080/"
        },
        "id": "FeTuvn2Y_9JD",
        "outputId": "44e5a67e-b0b2-49f5-8813-b16f98bbbda0"
      },
      "execution_count": 40,
      "outputs": [
        {
          "output_type": "stream",
          "name": "stdout",
          "text": [
            "[7, 2, 13, 15, 0]\n"
          ]
        }
      ]
    },
    {
      "cell_type": "markdown",
      "source": [
        "# #19 Swapping variables\n"
      ],
      "metadata": {
        "id": "cqkHyado__Mt"
      }
    },
    {
      "cell_type": "code",
      "source": [
        "a = \"123\"\n",
        "b = \"abc\"\n",
        "\n",
        "temp = a\n",
        "a = b\n",
        "b = temp\n",
        "\n",
        "print(a, b)"
      ],
      "metadata": {
        "colab": {
          "base_uri": "https://localhost:8080/"
        },
        "id": "Kepz_cj2_96Q",
        "outputId": "1c8d61a1-c1c7-4e49-80ca-56ce097946eb"
      },
      "execution_count": 41,
      "outputs": [
        {
          "output_type": "stream",
          "name": "stdout",
          "text": [
            "abc 123\n"
          ]
        }
      ]
    },
    {
      "cell_type": "code",
      "source": [
        "a = \"123\"\n",
        "b = \"abc\"\n",
        "\n",
        "a, b = b, a\n",
        "print(a, b)"
      ],
      "metadata": {
        "colab": {
          "base_uri": "https://localhost:8080/"
        },
        "id": "JqXQIvHuAAcy",
        "outputId": "3e18206b-6a5d-4d35-889f-8cd67ea2e664"
      },
      "execution_count": 42,
      "outputs": [
        {
          "output_type": "stream",
          "name": "stdout",
          "text": [
            "abc 123\n"
          ]
        }
      ]
    },
    {
      "cell_type": "markdown",
      "source": [
        "# #20 Generating all combinations of two lists using nested loops\n"
      ],
      "metadata": {
        "id": "Vbg3FnAtACQi"
      }
    },
    {
      "cell_type": "code",
      "source": [
        "list1 = [\"A\", \"B\", \"C\"]\n",
        "list2 = [1, 2]\n",
        "\n",
        "combinations = []\n",
        "\n",
        "for i in list1:\n",
        "    for j in list2:\n",
        "        combinations.append([i, j])\n",
        "\n",
        "print(combinations)"
      ],
      "metadata": {
        "colab": {
          "base_uri": "https://localhost:8080/"
        },
        "id": "0y5N4hliABaO",
        "outputId": "b02c7f69-ede4-4e02-af7b-e5295fc12d75"
      },
      "execution_count": 43,
      "outputs": [
        {
          "output_type": "stream",
          "name": "stdout",
          "text": [
            "[['A', 1], ['A', 2], ['B', 1], ['B', 2], ['C', 1], ['C', 2]]\n"
          ]
        }
      ]
    },
    {
      "cell_type": "code",
      "source": [
        "from itertools import product\n",
        "\n",
        "list1 = [\"A\", \"B\", \"C\"]\n",
        "list2 = [1, 2]\n",
        "\n",
        "combinations = list(product(list1, list2))\n",
        "print(combinations)"
      ],
      "metadata": {
        "colab": {
          "base_uri": "https://localhost:8080/"
        },
        "id": "rUB9DQheADVR",
        "outputId": "762c6177-39c7-4e59-e0ab-ff684069770a"
      },
      "execution_count": 44,
      "outputs": [
        {
          "output_type": "stream",
          "name": "stdout",
          "text": [
            "[('A', 1), ('A', 2), ('B', 1), ('B', 2), ('C', 1), ('C', 2)]\n"
          ]
        }
      ]
    }
  ]
}
