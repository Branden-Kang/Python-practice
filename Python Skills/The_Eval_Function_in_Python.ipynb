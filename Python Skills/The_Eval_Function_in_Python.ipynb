{
  "nbformat": 4,
  "nbformat_minor": 0,
  "metadata": {
    "colab": {
      "name": "The Eval Function in Python.ipynb",
      "provenance": [],
      "authorship_tag": "ABX9TyN26+ncJa/TCAX7ACMm8g8w"
    },
    "kernelspec": {
      "name": "python3",
      "display_name": "Python 3"
    },
    "language_info": {
      "name": "python"
    }
  },
  "cells": [
    {
      "cell_type": "markdown",
      "metadata": {
        "id": "c3BCMgo9GK6j"
      },
      "source": [
        "[Reference](https://medium.com/techtofreedom/the-eval-function-in-python-a-powerful-but-dangerous-weapon-ba44e39fa9e2)"
      ]
    },
    {
      "cell_type": "markdown",
      "metadata": {
        "id": "o997P40DGYH2"
      },
      "source": [
        "```python\n",
        "int cal(int a, int b, char op){\n",
        "    int ret = 0;\n",
        "    switch(op){\n",
        "        case('+'):\n",
        "            ret=a+b;\n",
        "            break;\n",
        "        case('-'):\n",
        "            ret = a-b;\n",
        "            break;\n",
        "        case('*'):\n",
        "            ret = a*b;\n",
        "            break;\n",
        "        case('/'):\n",
        "            ret = a/b;\n",
        "            break;\n",
        "    }\n",
        "    return ret;\n",
        "}\n",
        "```"
      ]
    },
    {
      "cell_type": "code",
      "metadata": {
        "id": "MR1RHhjaGWHe"
      },
      "source": [
        "def cal(a, b, op): return eval(f'{a} {op} {b}')"
      ],
      "execution_count": 2,
      "outputs": []
    },
    {
      "cell_type": "code",
      "metadata": {
        "id": "QSsUKfpVGdG7"
      },
      "source": [
        "def calculate(): return eval(input())"
      ],
      "execution_count": 3,
      "outputs": []
    },
    {
      "cell_type": "code",
      "metadata": {
        "colab": {
          "base_uri": "https://localhost:8080/"
        },
        "id": "oUBBpvtVGgPi",
        "outputId": "4b599c02-5427-426a-c20e-50b6079feb74"
      },
      "source": [
        "eval('2<9')"
      ],
      "execution_count": 4,
      "outputs": [
        {
          "output_type": "execute_result",
          "data": {
            "text/plain": [
              "True"
            ]
          },
          "metadata": {
            "tags": []
          },
          "execution_count": 4
        }
      ]
    },
    {
      "cell_type": "code",
      "metadata": {
        "colab": {
          "base_uri": "https://localhost:8080/"
        },
        "id": "qvs-7rcIGnLk",
        "outputId": "6140b5d3-cba2-41b5-c458-c40e3309aeb7"
      },
      "source": [
        "eval('sum([1,2,3])')"
      ],
      "execution_count": 5,
      "outputs": [
        {
          "output_type": "execute_result",
          "data": {
            "text/plain": [
              "6"
            ]
          },
          "metadata": {
            "tags": []
          },
          "execution_count": 5
        }
      ]
    },
    {
      "cell_type": "code",
      "metadata": {
        "colab": {
          "base_uri": "https://localhost:8080/"
        },
        "id": "kHmSA_01Gphn",
        "outputId": "64d46267-efd4-4841-d4b3-9c53d704d28b"
      },
      "source": [
        "eval(\"print('Yang is handsome!')\")"
      ],
      "execution_count": 6,
      "outputs": [
        {
          "output_type": "stream",
          "text": [
            "Yang is handsome!\n"
          ],
          "name": "stdout"
        }
      ]
    },
    {
      "cell_type": "code",
      "metadata": {
        "colab": {
          "base_uri": "https://localhost:8080/",
          "height": 130
        },
        "id": "d64va8wTGrIX",
        "outputId": "97c12dd2-b50a-4b86-b00c-98accb8b1ccf"
      },
      "source": [
        "eval(\"CyberPunk = 2077\")"
      ],
      "execution_count": 7,
      "outputs": [
        {
          "output_type": "error",
          "ename": "SyntaxError",
          "evalue": "ignored",
          "traceback": [
            "\u001b[0;36m  File \u001b[0;32m\"<string>\"\u001b[0;36m, line \u001b[0;32m1\u001b[0m\n\u001b[0;31m    CyberPunk = 2077\u001b[0m\n\u001b[0m              ^\u001b[0m\n\u001b[0;31mSyntaxError\u001b[0m\u001b[0;31m:\u001b[0m invalid syntax\n"
          ]
        }
      ]
    },
    {
      "cell_type": "code",
      "metadata": {
        "id": "1zviNeZdGtiE"
      },
      "source": [
        "code = compile(\"5+3-1\", \"<string>\", \"eval\")"
      ],
      "execution_count": 8,
      "outputs": []
    },
    {
      "cell_type": "code",
      "metadata": {
        "colab": {
          "base_uri": "https://localhost:8080/"
        },
        "id": "A0wmDwhWGxl6",
        "outputId": "0cc7aaa6-fb48-4057-dbc6-62d17d8a32d9"
      },
      "source": [
        "eval(code)"
      ],
      "execution_count": 9,
      "outputs": [
        {
          "output_type": "execute_result",
          "data": {
            "text/plain": [
              "7"
            ]
          },
          "metadata": {
            "tags": []
          },
          "execution_count": 9
        }
      ]
    },
    {
      "cell_type": "code",
      "metadata": {
        "colab": {
          "base_uri": "https://localhost:8080/",
          "height": 249
        },
        "id": "eEQXv9riGy5Y",
        "outputId": "cffc9ad4-38b7-46cf-df88-6264c3c31ffd"
      },
      "source": [
        "x = 5\n",
        "eval(\"x+y\")"
      ],
      "execution_count": 11,
      "outputs": [
        {
          "output_type": "error",
          "ename": "NameError",
          "evalue": "ignored",
          "traceback": [
            "\u001b[0;31m---------------------------------------------------------------------------\u001b[0m",
            "\u001b[0;31mNameError\u001b[0m                                 Traceback (most recent call last)",
            "\u001b[0;32m<ipython-input-11-21f6bbea2dc6>\u001b[0m in \u001b[0;36m<module>\u001b[0;34m()\u001b[0m\n\u001b[1;32m      1\u001b[0m \u001b[0mx\u001b[0m \u001b[0;34m=\u001b[0m \u001b[0;36m5\u001b[0m\u001b[0;34m\u001b[0m\u001b[0;34m\u001b[0m\u001b[0m\n\u001b[0;32m----> 2\u001b[0;31m \u001b[0meval\u001b[0m\u001b[0;34m(\u001b[0m\u001b[0;34m\"x+y\"\u001b[0m\u001b[0;34m)\u001b[0m\u001b[0;34m\u001b[0m\u001b[0;34m\u001b[0m\u001b[0m\n\u001b[0m",
            "\u001b[0;32m<string>\u001b[0m in \u001b[0;36m<module>\u001b[0;34m()\u001b[0m\n",
            "\u001b[0;31mNameError\u001b[0m: name 'y' is not defined"
          ]
        }
      ]
    },
    {
      "cell_type": "code",
      "metadata": {
        "colab": {
          "base_uri": "https://localhost:8080/"
        },
        "id": "MWDeb9_xG2g5",
        "outputId": "b2f8a881-f88e-40f8-9724-fa8f7c802ee5"
      },
      "source": [
        "x=5\n",
        "eval(\"x+y\",{'x':x, 'y': 10})"
      ],
      "execution_count": 12,
      "outputs": [
        {
          "output_type": "execute_result",
          "data": {
            "text/plain": [
              "15"
            ]
          },
          "metadata": {
            "tags": []
          },
          "execution_count": 12
        }
      ]
    },
    {
      "cell_type": "code",
      "metadata": {
        "id": "fIf6o2NZG69g"
      },
      "source": [
        "def calculate(): return eval(input())"
      ],
      "execution_count": 13,
      "outputs": []
    },
    {
      "cell_type": "code",
      "metadata": {
        "colab": {
          "base_uri": "https://localhost:8080/"
        },
        "id": "xaqBz7MdG9hu",
        "outputId": "38fb5979-cb67-4a28-f9f5-2319598c7f41"
      },
      "source": [
        "__import__('os').system('ls')"
      ],
      "execution_count": 14,
      "outputs": [
        {
          "output_type": "execute_result",
          "data": {
            "text/plain": [
              "0"
            ]
          },
          "metadata": {
            "tags": []
          },
          "execution_count": 14
        }
      ]
    }
  ]
}