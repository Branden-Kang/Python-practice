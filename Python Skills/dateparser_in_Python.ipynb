{
  "nbformat": 4,
  "nbformat_minor": 0,
  "metadata": {
    "colab": {
      "name": "dateparser in Python.ipynb",
      "provenance": [],
      "authorship_tag": "ABX9TyNxtV0wr6tTM8Wch0aKQr21"
    },
    "kernelspec": {
      "name": "python3",
      "display_name": "Python 3"
    },
    "language_info": {
      "name": "python"
    }
  },
  "cells": [
    {
      "cell_type": "markdown",
      "metadata": {
        "id": "jG7qMwqyuk-2"
      },
      "source": [
        "[Reference](https://medium.com/katanaml/price-date-and-iban-data-extraction-with-python-7f26b318104)"
      ]
    },
    {
      "cell_type": "code",
      "metadata": {
        "colab": {
          "base_uri": "https://localhost:8080/"
        },
        "id": "jypeipc3usDg",
        "outputId": "ed7e212e-c6c9-4b4b-ed7b-4dcde5d5f26b"
      },
      "source": [
        "pip install dateparser"
      ],
      "execution_count": 2,
      "outputs": [
        {
          "output_type": "stream",
          "text": [
            "Collecting dateparser\n",
            "\u001b[?25l  Downloading https://files.pythonhosted.org/packages/78/c4/b5ddc3eeac974d85055d88c1e6b62cc492fc1a93dbe3b66a45a756a7b807/dateparser-1.0.0-py2.py3-none-any.whl (279kB)\n",
            "\r\u001b[K     |█▏                              | 10kB 14.2MB/s eta 0:00:01\r\u001b[K     |██▍                             | 20kB 15.6MB/s eta 0:00:01\r\u001b[K     |███▌                            | 30kB 10.8MB/s eta 0:00:01\r\u001b[K     |████▊                           | 40kB 8.9MB/s eta 0:00:01\r\u001b[K     |█████▉                          | 51kB 5.5MB/s eta 0:00:01\r\u001b[K     |███████                         | 61kB 6.1MB/s eta 0:00:01\r\u001b[K     |████████▏                       | 71kB 6.2MB/s eta 0:00:01\r\u001b[K     |█████████▍                      | 81kB 6.7MB/s eta 0:00:01\r\u001b[K     |██████████▌                     | 92kB 6.2MB/s eta 0:00:01\r\u001b[K     |███████████▊                    | 102kB 6.7MB/s eta 0:00:01\r\u001b[K     |████████████▉                   | 112kB 6.7MB/s eta 0:00:01\r\u001b[K     |██████████████                  | 122kB 6.7MB/s eta 0:00:01\r\u001b[K     |███████████████▏                | 133kB 6.7MB/s eta 0:00:01\r\u001b[K     |████████████████▍               | 143kB 6.7MB/s eta 0:00:01\r\u001b[K     |█████████████████▋              | 153kB 6.7MB/s eta 0:00:01\r\u001b[K     |██████████████████▊             | 163kB 6.7MB/s eta 0:00:01\r\u001b[K     |████████████████████            | 174kB 6.7MB/s eta 0:00:01\r\u001b[K     |█████████████████████           | 184kB 6.7MB/s eta 0:00:01\r\u001b[K     |██████████████████████▎         | 194kB 6.7MB/s eta 0:00:01\r\u001b[K     |███████████████████████▍        | 204kB 6.7MB/s eta 0:00:01\r\u001b[K     |████████████████████████▋       | 215kB 6.7MB/s eta 0:00:01\r\u001b[K     |█████████████████████████▊      | 225kB 6.7MB/s eta 0:00:01\r\u001b[K     |███████████████████████████     | 235kB 6.7MB/s eta 0:00:01\r\u001b[K     |████████████████████████████    | 245kB 6.7MB/s eta 0:00:01\r\u001b[K     |█████████████████████████████▎  | 256kB 6.7MB/s eta 0:00:01\r\u001b[K     |██████████████████████████████▍ | 266kB 6.7MB/s eta 0:00:01\r\u001b[K     |███████████████████████████████▋| 276kB 6.7MB/s eta 0:00:01\r\u001b[K     |████████████████████████████████| 286kB 6.7MB/s \n",
            "\u001b[?25hRequirement already satisfied: regex!=2019.02.19 in /usr/local/lib/python3.7/dist-packages (from dateparser) (2019.12.20)\n",
            "Requirement already satisfied: python-dateutil in /usr/local/lib/python3.7/dist-packages (from dateparser) (2.8.1)\n",
            "Requirement already satisfied: tzlocal in /usr/local/lib/python3.7/dist-packages (from dateparser) (1.5.1)\n",
            "Requirement already satisfied: pytz in /usr/local/lib/python3.7/dist-packages (from dateparser) (2018.9)\n",
            "Requirement already satisfied: six>=1.5 in /usr/local/lib/python3.7/dist-packages (from python-dateutil->dateparser) (1.15.0)\n",
            "Installing collected packages: dateparser\n",
            "Successfully installed dateparser-1.0.0\n"
          ],
          "name": "stdout"
        }
      ]
    },
    {
      "cell_type": "code",
      "metadata": {
        "id": "-WTwu8vKuVNp"
      },
      "source": [
        "import dateparser"
      ],
      "execution_count": 3,
      "outputs": []
    },
    {
      "cell_type": "code",
      "metadata": {
        "id": "n_49hp5tuni4"
      },
      "source": [
        "d = dateparser.parse('2.Mai 2020', languages=['de'])"
      ],
      "execution_count": 4,
      "outputs": []
    },
    {
      "cell_type": "code",
      "metadata": {
        "colab": {
          "base_uri": "https://localhost:8080/"
        },
        "id": "P_MpySoSu1S7",
        "outputId": "e996dea1-c9df-470f-fca4-a07d62a7dd04"
      },
      "source": [
        "d"
      ],
      "execution_count": 5,
      "outputs": [
        {
          "output_type": "execute_result",
          "data": {
            "text/plain": [
              "datetime.datetime(2020, 5, 2, 0, 0)"
            ]
          },
          "metadata": {
            "tags": []
          },
          "execution_count": 5
        }
      ]
    },
    {
      "cell_type": "code",
      "metadata": {
        "id": "DfvdQZCVu1os"
      },
      "source": [
        "d = dateparser.parse('2.Abc 2020', languages=['de'])\n",
        "d"
      ],
      "execution_count": 6,
      "outputs": []
    },
    {
      "cell_type": "code",
      "metadata": {
        "colab": {
          "base_uri": "https://localhost:8080/"
        },
        "id": "c6sYCiMhu2-U",
        "outputId": "891fa25f-d2ad-4469-b847-6d084e88ddc2"
      },
      "source": [
        "d = dateparser.parse('2020.12.8')\n",
        "d"
      ],
      "execution_count": 7,
      "outputs": [
        {
          "output_type": "execute_result",
          "data": {
            "text/plain": [
              "datetime.datetime(2020, 12, 8, 0, 0)"
            ]
          },
          "metadata": {
            "tags": []
          },
          "execution_count": 7
        }
      ]
    },
    {
      "cell_type": "code",
      "metadata": {
        "colab": {
          "base_uri": "https://localhost:8080/"
        },
        "id": "ma08Xv1qu8qA",
        "outputId": "4846393e-74fe-44a9-f728-594aedc6184e"
      },
      "source": [
        "pip install price-parser"
      ],
      "execution_count": 9,
      "outputs": [
        {
          "output_type": "stream",
          "text": [
            "Collecting price-parser\n",
            "  Downloading https://files.pythonhosted.org/packages/6a/3e/fd9f039dc9da081b96cf266949590619ddaf919caf67fef3cd46e907f5d5/price_parser-0.3.4-py2.py3-none-any.whl\n",
            "Requirement already satisfied: attrs>=17.3.0 in /usr/local/lib/python3.7/dist-packages (from price-parser) (20.3.0)\n",
            "Installing collected packages: price-parser\n",
            "Successfully installed price-parser-0.3.4\n"
          ],
          "name": "stdout"
        }
      ]
    },
    {
      "cell_type": "code",
      "metadata": {
        "id": "gIX_BQIsu_Dp"
      },
      "source": [
        "from price_parser import Price"
      ],
      "execution_count": 11,
      "outputs": []
    },
    {
      "cell_type": "code",
      "metadata": {
        "colab": {
          "base_uri": "https://localhost:8080/"
        },
        "id": "JwRmkrHzu4md",
        "outputId": "2812be97-5e9e-4b00-eb0b-bb1a354818ad"
      },
      "source": [
        "p = Price.fromstring(\"-114,47 €\")\n",
        "p"
      ],
      "execution_count": 12,
      "outputs": [
        {
          "output_type": "execute_result",
          "data": {
            "text/plain": [
              "Price(amount=Decimal('114.47'), currency='€')"
            ]
          },
          "metadata": {
            "tags": []
          },
          "execution_count": 12
        }
      ]
    },
    {
      "cell_type": "code",
      "metadata": {
        "colab": {
          "base_uri": "https://localhost:8080/"
        },
        "id": "bbZypE4pu6tQ",
        "outputId": "3ecfac2c-acf0-4d09-f98a-0b2af61064b7"
      },
      "source": [
        "p = Price.fromstring(\"199,999.00\")\n",
        "p"
      ],
      "execution_count": 13,
      "outputs": [
        {
          "output_type": "execute_result",
          "data": {
            "text/plain": [
              "Price(amount=Decimal('199999.00'), currency=None)"
            ]
          },
          "metadata": {
            "tags": []
          },
          "execution_count": 13
        }
      ]
    },
    {
      "cell_type": "code",
      "metadata": {
        "colab": {
          "base_uri": "https://localhost:8080/"
        },
        "id": "51C3dm9zvGm_",
        "outputId": "ed791437-9c3f-40ab-9f67-3b698fd463d9"
      },
      "source": [
        "p = Price.fromstring(\"199.999,00\")\n",
        "p"
      ],
      "execution_count": 14,
      "outputs": [
        {
          "output_type": "execute_result",
          "data": {
            "text/plain": [
              "Price(amount=Decimal('199999.00'), currency=None)"
            ]
          },
          "metadata": {
            "tags": []
          },
          "execution_count": 14
        }
      ]
    },
    {
      "cell_type": "code",
      "metadata": {
        "colab": {
          "base_uri": "https://localhost:8080/"
        },
        "id": "bWBDYkhrvIw0",
        "outputId": "7b709076-6f2a-4b67-a665-a14fc1a0bc27"
      },
      "source": [
        "pip install schwifty"
      ],
      "execution_count": 15,
      "outputs": [
        {
          "output_type": "stream",
          "text": [
            "Collecting schwifty\n",
            "\u001b[?25l  Downloading https://files.pythonhosted.org/packages/97/cd/41ac25831fa975d3e41dac05cf918584ac318ab27e9ac39907733128d39a/schwifty-2021.1.0-py3-none-any.whl (176kB)\n",
            "\r\u001b[K     |█▉                              | 10kB 14.9MB/s eta 0:00:01\r\u001b[K     |███▊                            | 20kB 14.6MB/s eta 0:00:01\r\u001b[K     |█████▋                          | 30kB 8.9MB/s eta 0:00:01\r\u001b[K     |███████▍                        | 40kB 8.8MB/s eta 0:00:01\r\u001b[K     |█████████▎                      | 51kB 5.5MB/s eta 0:00:01\r\u001b[K     |███████████▏                    | 61kB 6.1MB/s eta 0:00:01\r\u001b[K     |█████████████                   | 71kB 6.0MB/s eta 0:00:01\r\u001b[K     |██████████████▉                 | 81kB 6.7MB/s eta 0:00:01\r\u001b[K     |████████████████▊               | 92kB 6.3MB/s eta 0:00:01\r\u001b[K     |██████████████████▌             | 102kB 6.8MB/s eta 0:00:01\r\u001b[K     |████████████████████▍           | 112kB 6.8MB/s eta 0:00:01\r\u001b[K     |██████████████████████▎         | 122kB 6.8MB/s eta 0:00:01\r\u001b[K     |████████████████████████        | 133kB 6.8MB/s eta 0:00:01\r\u001b[K     |██████████████████████████      | 143kB 6.8MB/s eta 0:00:01\r\u001b[K     |███████████████████████████▉    | 153kB 6.8MB/s eta 0:00:01\r\u001b[K     |█████████████████████████████▋  | 163kB 6.8MB/s eta 0:00:01\r\u001b[K     |███████████████████████████████▌| 174kB 6.8MB/s eta 0:00:01\r\u001b[K     |████████████████████████████████| 184kB 6.8MB/s \n",
            "\u001b[?25hCollecting iso3166\n",
            "  Downloading https://files.pythonhosted.org/packages/a0/42/15d2ef2211ddb26deb810a21b084ee6f3d1bc7248e884dcabb5edc04b649/iso3166-1.0.1-py2.py3-none-any.whl\n",
            "Collecting pycountry\n",
            "\u001b[?25l  Downloading https://files.pythonhosted.org/packages/76/73/6f1a412f14f68c273feea29a6ea9b9f1e268177d32e0e69ad6790d306312/pycountry-20.7.3.tar.gz (10.1MB)\n",
            "\u001b[K     |████████████████████████████████| 10.1MB 7.0MB/s \n",
            "\u001b[?25hBuilding wheels for collected packages: pycountry\n",
            "  Building wheel for pycountry (setup.py) ... \u001b[?25l\u001b[?25hdone\n",
            "  Created wheel for pycountry: filename=pycountry-20.7.3-py2.py3-none-any.whl size=10746863 sha256=e3836d55222f2d05ba567b4c1c7d126d3b731faba70873915d146c9d37de5ac4\n",
            "  Stored in directory: /root/.cache/pip/wheels/33/4e/a6/be297e6b83567e537bed9df4a93f8590ec01c1acfbcd405348\n",
            "Successfully built pycountry\n",
            "Installing collected packages: iso3166, pycountry, schwifty\n",
            "Successfully installed iso3166-1.0.1 pycountry-20.7.3 schwifty-2021.1.0\n"
          ],
          "name": "stdout"
        }
      ]
    },
    {
      "cell_type": "code",
      "metadata": {
        "id": "ta3ZECL2vO8Q"
      },
      "source": [
        "import schwifty"
      ],
      "execution_count": 19,
      "outputs": []
    },
    {
      "cell_type": "code",
      "metadata": {
        "colab": {
          "base_uri": "https://localhost:8080/"
        },
        "id": "xfGJfqY3vLXc",
        "outputId": "26c0b010-af70-4394-9ef0-581da3b4efb1"
      },
      "source": [
        "i = schwifty.IBAN('DE89 3704 0044 0532 0130 00')\n",
        "i"
      ],
      "execution_count": 20,
      "outputs": [
        {
          "output_type": "execute_result",
          "data": {
            "text/plain": [
              "<IBAN=DE89370400440532013000>"
            ]
          },
          "metadata": {
            "tags": []
          },
          "execution_count": 20
        }
      ]
    },
    {
      "cell_type": "code",
      "metadata": {
        "colab": {
          "base_uri": "https://localhost:8080/"
        },
        "id": "vetZAud8vQCf",
        "outputId": "80bde146-5493-4bee-d392-02a461816b9f"
      },
      "source": [
        "try:\n",
        "    i = IBAN('DE89 3704')\n",
        "    print(i.country)\n",
        "except Exception as e:\n",
        "    print(e)"
      ],
      "execution_count": 21,
      "outputs": [
        {
          "output_type": "stream",
          "text": [
            "name 'IBAN' is not defined\n"
          ],
          "name": "stdout"
        }
      ]
    }
  ]
}