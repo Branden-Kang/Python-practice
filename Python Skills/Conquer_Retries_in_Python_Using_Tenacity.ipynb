{
  "nbformat": 4,
  "nbformat_minor": 0,
  "metadata": {
    "colab": {
      "provenance": [],
      "authorship_tag": "ABX9TyNNenBHgqn3bV/24KmiWNP+"
    },
    "kernelspec": {
      "name": "python3",
      "display_name": "Python 3"
    },
    "language_info": {
      "name": "python"
    }
  },
  "cells": [
    {
      "cell_type": "markdown",
      "source": [
        "[Reference](https://towardsdatascience.com/conquer-retries-in-python-using-tenacity-an-in-depth-tutorial-3c98b216d798)"
      ],
      "metadata": {
        "id": "a8YA8kNbVkVL"
      }
    },
    {
      "cell_type": "code",
      "source": [
        "!python -m pip install tenacity"
      ],
      "metadata": {
        "colab": {
          "base_uri": "https://localhost:8080/"
        },
        "id": "Mowt59qiVd8O",
        "outputId": "af2ffe80-5b42-4b94-9abe-86b36929b33d"
      },
      "execution_count": 6,
      "outputs": [
        {
          "output_type": "stream",
          "name": "stdout",
          "text": [
            "Requirement already satisfied: tenacity in /usr/local/lib/python3.10/dist-packages (8.2.2)\n"
          ]
        }
      ]
    },
    {
      "cell_type": "code",
      "execution_count": 1,
      "metadata": {
        "id": "UuZsq065VBiK"
      },
      "outputs": [],
      "source": [
        "import asyncio\n",
        "import logging\n",
        "import random\n",
        "import sys\n",
        "\n",
        "import aiohttp\n",
        "from aiohttp import ClientTimeout, ClientSession\n",
        "from tenacity import *\n",
        "\n",
        "\n",
        "def ready_logger(stream, level) -> logging.Logger:\n",
        "    logger = logging.getLogger(__name__)\n",
        "    logger.setLevel(level)\n",
        "\n",
        "    handler = logging.StreamHandler(stream)\n",
        "    formatter = logging.Formatter('%(asctime)s - %(name)s - %(levelname)s - %(message)s')\n",
        "    handler.setFormatter(formatter)\n",
        "    logger.addHandler(handler)\n",
        "    return logger\n",
        "\n",
        "\n",
        "logger = ready_logger(stream=sys.stderr, level=logging.DEBUG)\n",
        "\n",
        "\n",
        "def my_before_log(logger: logging.Logger):\n",
        "    def log_it(retry_state: RetryCallState):\n",
        "        fn = retry_state.fn\n",
        "        attempt = retry_state.attempt_number\n",
        "\n",
        "        if attempt > 2:\n",
        "            logger.warning(f\"Retrying method {fn.__name__} at the {attempt} attempt\")\n",
        "    return log_it"
      ]
    },
    {
      "cell_type": "code",
      "source": [
        "def check_status(retry_state: RetryCallState) -> bool:\n",
        "    outcome: Future = retry_state.outcome\n",
        "    if outcome.exception():\n",
        "        return True\n",
        "    return outcome.result() > 300"
      ],
      "metadata": {
        "id": "yyPH-LyrVKCh"
      },
      "execution_count": 2,
      "outputs": []
    },
    {
      "cell_type": "code",
      "source": [
        "@retry(stop=stop_after_attempt(20),\n",
        "       wait=wait_incrementing(start=1, increment=1, max=5),\n",
        "       before=my_before_log(logger),\n",
        "       retry=check_status)\n",
        "async def get_status(url_template: str, session: ClientSession) -> int:\n",
        "    status_list = [200, 300, 400, 500]\n",
        "    url = url_template.format(codes=random.choice(status_list))\n",
        "    print(f\"Begin to get status from {url}\")\n",
        "    async with session.get(url) as response:\n",
        "        return response.status\n",
        "\n",
        "\n",
        "async def main():\n",
        "    timeout: ClientTimeout = aiohttp.ClientTimeout(2)\n",
        "    async with aiohttp.ClientSession(timeout=timeout) as session:\n",
        "        tasks = [asyncio.create_task(\n",
        "            get_status('https://httpbin.org/status/{codes}', session)) for _ in range(5)]\n",
        "\n",
        "        result = await asyncio.gather(*tasks)\n",
        "        print(result)\n",
        "\n",
        "\n",
        "if __name__ == \"__main__\":\n",
        "    asyncio.run(main())"
      ],
      "metadata": {
        "id": "LRq106WhVLPE"
      },
      "execution_count": 4,
      "outputs": []
    }
  ]
}
