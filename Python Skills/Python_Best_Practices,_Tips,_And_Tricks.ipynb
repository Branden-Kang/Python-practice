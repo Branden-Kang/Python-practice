{
  "nbformat": 4,
  "nbformat_minor": 0,
  "metadata": {
    "colab": {
      "name": "Python Best Practices, Tips, And Tricks.ipynb",
      "provenance": [],
      "authorship_tag": "ABX9TyP2zyCOU/G02/wFx8EJQRIs"
    },
    "kernelspec": {
      "name": "python3",
      "display_name": "Python 3"
    },
    "language_info": {
      "name": "python"
    }
  },
  "cells": [
    {
      "cell_type": "markdown",
      "metadata": {
        "id": "vOyoh1oiQygN"
      },
      "source": [
        "[Reference](https://medium.com/pythonland/30-python-best-practices-tips-and-tricks-19172564f9c)"
      ]
    },
    {
      "cell_type": "code",
      "metadata": {
        "colab": {
          "base_uri": "https://localhost:8080/"
        },
        "id": "9EnuUVFSQxIJ",
        "outputId": "38aa0779-ce4f-4669-a8c4-0139f3575b21"
      },
      "source": [
        "mylist = [i for i in range(10)]\n",
        "print(mylist)"
      ],
      "execution_count": 1,
      "outputs": [
        {
          "output_type": "stream",
          "text": [
            "[0, 1, 2, 3, 4, 5, 6, 7, 8, 9]\n"
          ],
          "name": "stdout"
        }
      ]
    },
    {
      "cell_type": "code",
      "metadata": {
        "colab": {
          "base_uri": "https://localhost:8080/"
        },
        "id": "jKCg96MpQ12W",
        "outputId": "f62c103b-469d-43d2-f9d1-27fb0a8a42e6"
      },
      "source": [
        "squares = [x**2 for x in range(10)]\n",
        "print(squares)"
      ],
      "execution_count": 2,
      "outputs": [
        {
          "output_type": "stream",
          "text": [
            "[0, 1, 4, 9, 16, 25, 36, 49, 64, 81]\n"
          ],
          "name": "stdout"
        }
      ]
    },
    {
      "cell_type": "code",
      "metadata": {
        "colab": {
          "base_uri": "https://localhost:8080/"
        },
        "id": "3k8xiFqkQ2vi",
        "outputId": "aefdf5fb-883f-4832-80f6-4f2bc03f0909"
      },
      "source": [
        "def some_function(a):\n",
        "    return (a + 5) / 2\n",
        "    \n",
        "my_formula = [some_function(i) for i in range(10)]\n",
        "print(my_formula)"
      ],
      "execution_count": 3,
      "outputs": [
        {
          "output_type": "stream",
          "text": [
            "[2.5, 3.0, 3.5, 4.0, 4.5, 5.0, 5.5, 6.0, 6.5, 7.0]\n"
          ],
          "name": "stdout"
        }
      ]
    },
    {
      "cell_type": "code",
      "metadata": {
        "colab": {
          "base_uri": "https://localhost:8080/"
        },
        "id": "W8eMUAfUQ3wA",
        "outputId": "d33b4d8d-9b70-4816-c13f-55edfda43330"
      },
      "source": [
        "filtered = [i for i in range(20) if i%2==0]\n",
        "print(filtered)"
      ],
      "execution_count": 4,
      "outputs": [
        {
          "output_type": "stream",
          "text": [
            "[0, 2, 4, 6, 8, 10, 12, 14, 16, 18]\n"
          ],
          "name": "stdout"
        }
      ]
    },
    {
      "cell_type": "code",
      "metadata": {
        "colab": {
          "base_uri": "https://localhost:8080/"
        },
        "id": "-k3VYlxJQ4qF",
        "outputId": "c3c56679-a7ed-43b7-847f-4754e367cedc"
      },
      "source": [
        "import sys\n",
        "\n",
        "mylist = range(0, 10000)\n",
        "print(sys.getsizeof(mylist))"
      ],
      "execution_count": 5,
      "outputs": [
        {
          "output_type": "stream",
          "text": [
            "48\n"
          ],
          "name": "stdout"
        }
      ]
    },
    {
      "cell_type": "code",
      "metadata": {
        "colab": {
          "base_uri": "https://localhost:8080/"
        },
        "id": "Jb8LfLCYQ55l",
        "outputId": "f9fc6996-e87a-4aaf-ee26-bd51b287f3b6"
      },
      "source": [
        "import sys\n",
        "\n",
        "myreallist = [x for x in range(0, 10000)]\n",
        "print(sys.getsizeof(myreallist))"
      ],
      "execution_count": 6,
      "outputs": [
        {
          "output_type": "stream",
          "text": [
            "87632\n"
          ],
          "name": "stdout"
        }
      ]
    },
    {
      "cell_type": "code",
      "metadata": {
        "colab": {
          "base_uri": "https://localhost:8080/"
        },
        "id": "haZBCdxrQ6-c",
        "outputId": "fdfe8992-c7c5-40e6-a3e8-c2fe9fc84b29"
      },
      "source": [
        "from dataclasses import dataclass\n",
        "\n",
        "@dataclass\n",
        "class Card:\n",
        "    rank: str\n",
        "    suit: str\n",
        "    \n",
        "card = Card(\"Q\", \"hearts\")\n",
        "\n",
        "print(card == card)\n",
        "# True\n",
        "\n",
        "print(card.rank)\n",
        "# 'Q'\n",
        "\n",
        "print(card)\n",
        "Card(rank='Q', suit='hearts')"
      ],
      "execution_count": 7,
      "outputs": [
        {
          "output_type": "stream",
          "text": [
            "True\n",
            "Q\n",
            "Card(rank='Q', suit='hearts')\n"
          ],
          "name": "stdout"
        },
        {
          "output_type": "execute_result",
          "data": {
            "text/plain": [
              "Card(rank='Q', suit='hearts')"
            ]
          },
          "metadata": {
            "tags": []
          },
          "execution_count": 7
        }
      ]
    },
    {
      "cell_type": "code",
      "metadata": {
        "colab": {
          "base_uri": "https://localhost:8080/"
        },
        "id": "0i2y-NODQ-zY",
        "outputId": "9486907b-8ae7-4678-9ecb-8f53ef72cf53"
      },
      "source": [
        "a = 1\n",
        "b = 2\n",
        "a, b = b, a\n",
        "print(a)\n",
        "print(b)"
      ],
      "execution_count": 8,
      "outputs": [
        {
          "output_type": "stream",
          "text": [
            "2\n",
            "1\n"
          ],
          "name": "stdout"
        }
      ]
    },
    {
      "cell_type": "code",
      "metadata": {
        "colab": {
          "base_uri": "https://localhost:8080/",
          "height": 249
        },
        "id": "Y-_2wCBdRDrq",
        "outputId": "25ab6466-c294-4773-90f4-b991f134e0cf"
      },
      "source": [
        "dict1 = { 'a': 1, 'b': 2 }\n",
        "dict2 = { 'b': 3, 'c': 4 }\n",
        "merged = { **dict1, **dict2 }\n",
        "\n",
        "print (merged)\n",
        "# Python >= 3.9 only\n",
        "merged = dict1 | dict2\n",
        "\n",
        "print (merged)"
      ],
      "execution_count": 9,
      "outputs": [
        {
          "output_type": "stream",
          "text": [
            "{'a': 1, 'b': 3, 'c': 4}\n"
          ],
          "name": "stdout"
        },
        {
          "output_type": "error",
          "ename": "TypeError",
          "evalue": "ignored",
          "traceback": [
            "\u001b[0;31m---------------------------------------------------------------------------\u001b[0m",
            "\u001b[0;31mTypeError\u001b[0m                                 Traceback (most recent call last)",
            "\u001b[0;32m<ipython-input-9-3b3739f54a85>\u001b[0m in \u001b[0;36m<module>\u001b[0;34m()\u001b[0m\n\u001b[1;32m      5\u001b[0m \u001b[0mprint\u001b[0m \u001b[0;34m(\u001b[0m\u001b[0mmerged\u001b[0m\u001b[0;34m)\u001b[0m\u001b[0;34m\u001b[0m\u001b[0;34m\u001b[0m\u001b[0m\n\u001b[1;32m      6\u001b[0m \u001b[0;31m# Python >= 3.9 only\u001b[0m\u001b[0;34m\u001b[0m\u001b[0;34m\u001b[0m\u001b[0;34m\u001b[0m\u001b[0m\n\u001b[0;32m----> 7\u001b[0;31m \u001b[0mmerged\u001b[0m \u001b[0;34m=\u001b[0m \u001b[0mdict1\u001b[0m \u001b[0;34m|\u001b[0m \u001b[0mdict2\u001b[0m\u001b[0;34m\u001b[0m\u001b[0;34m\u001b[0m\u001b[0m\n\u001b[0m\u001b[1;32m      8\u001b[0m \u001b[0;34m\u001b[0m\u001b[0m\n\u001b[1;32m      9\u001b[0m \u001b[0mprint\u001b[0m \u001b[0;34m(\u001b[0m\u001b[0mmerged\u001b[0m\u001b[0;34m)\u001b[0m\u001b[0;34m\u001b[0m\u001b[0;34m\u001b[0m\u001b[0m\n",
            "\u001b[0;31mTypeError\u001b[0m: unsupported operand type(s) for |: 'dict' and 'dict'"
          ]
        }
      ]
    },
    {
      "cell_type": "code",
      "metadata": {
        "colab": {
          "base_uri": "https://localhost:8080/"
        },
        "id": "LatK8pPaRFZh",
        "outputId": "2a4530c9-2387-4349-c20e-9ae0ecf57f85"
      },
      "source": [
        "mystring = \"10 awesome python tricks\"\n",
        "print(mystring.title())"
      ],
      "execution_count": 10,
      "outputs": [
        {
          "output_type": "stream",
          "text": [
            "10 Awesome Python Tricks\n"
          ],
          "name": "stdout"
        }
      ]
    },
    {
      "cell_type": "code",
      "metadata": {
        "colab": {
          "base_uri": "https://localhost:8080/"
        },
        "id": "PAdKXyOQRHOQ",
        "outputId": "ef691451-9215-41ba-f980-55b644666e75"
      },
      "source": [
        "mystring = \"The quick brown fox\"\n",
        "mylist = mystring.split(' ')\n",
        "print(mylist)"
      ],
      "execution_count": 11,
      "outputs": [
        {
          "output_type": "stream",
          "text": [
            "['The', 'quick', 'brown', 'fox']\n"
          ],
          "name": "stdout"
        }
      ]
    },
    {
      "cell_type": "code",
      "metadata": {
        "colab": {
          "base_uri": "https://localhost:8080/"
        },
        "id": "n0E84hiiRILR",
        "outputId": "e04b1490-d841-47a1-9101-c47e4c218ed1"
      },
      "source": [
        "mylist = ['The', 'quick', 'brown', 'fox']\n",
        "mystring = \" \".join(mylist)\n",
        "print(mystring)"
      ],
      "execution_count": 12,
      "outputs": [
        {
          "output_type": "stream",
          "text": [
            "The quick brown fox\n"
          ],
          "name": "stdout"
        }
      ]
    },
    {
      "cell_type": "code",
      "metadata": {
        "colab": {
          "base_uri": "https://localhost:8080/"
        },
        "id": "3ILs8bDGRJE-",
        "outputId": "78a1739f-0ad7-441c-e585-39c49520750c"
      },
      "source": [
        "!pip3 install emoji"
      ],
      "execution_count": 14,
      "outputs": [
        {
          "output_type": "stream",
          "text": [
            "Collecting emoji\n",
            "\u001b[?25l  Downloading https://files.pythonhosted.org/packages/24/fa/b3368f41b95a286f8d300e323449ab4e86b85334c2e0b477e94422b8ed0f/emoji-1.2.0-py3-none-any.whl (131kB)\n",
            "\r\u001b[K     |██▌                             | 10kB 18.0MB/s eta 0:00:01\r\u001b[K     |█████                           | 20kB 25.4MB/s eta 0:00:01\r\u001b[K     |███████▌                        | 30kB 19.9MB/s eta 0:00:01\r\u001b[K     |██████████                      | 40kB 21.0MB/s eta 0:00:01\r\u001b[K     |████████████▌                   | 51kB 15.5MB/s eta 0:00:01\r\u001b[K     |███████████████                 | 61kB 13.7MB/s eta 0:00:01\r\u001b[K     |█████████████████▌              | 71kB 12.5MB/s eta 0:00:01\r\u001b[K     |████████████████████            | 81kB 13.8MB/s eta 0:00:01\r\u001b[K     |██████████████████████▌         | 92kB 13.9MB/s eta 0:00:01\r\u001b[K     |█████████████████████████       | 102kB 11.9MB/s eta 0:00:01\r\u001b[K     |███████████████████████████▌    | 112kB 11.9MB/s eta 0:00:01\r\u001b[K     |██████████████████████████████  | 122kB 11.9MB/s eta 0:00:01\r\u001b[K     |████████████████████████████████| 133kB 11.9MB/s \n",
            "\u001b[?25hInstalling collected packages: emoji\n",
            "Successfully installed emoji-1.2.0\n"
          ],
          "name": "stdout"
        }
      ]
    },
    {
      "cell_type": "code",
      "metadata": {
        "colab": {
          "base_uri": "https://localhost:8080/"
        },
        "id": "EWgHjYikRKSw",
        "outputId": "b6141007-0d69-49cd-f7c6-4adebe8f44b0"
      },
      "source": [
        "import emoji\n",
        "result = emoji.emojize('Python is :thumbs_up:')\n",
        "print(result)\n",
        "# 'Python is 👍'\n",
        "\n",
        "# You can also reverse this:\n",
        "result = emoji.demojize('Python is 👍')\n",
        "print(result)"
      ],
      "execution_count": 15,
      "outputs": [
        {
          "output_type": "stream",
          "text": [
            "Python is 👍\n",
            "Python is :thumbs_up:\n"
          ],
          "name": "stdout"
        }
      ]
    },
    {
      "cell_type": "code",
      "metadata": {
        "colab": {
          "base_uri": "https://localhost:8080/"
        },
        "id": "_KpGfGdrRMM0",
        "outputId": "e26d4c35-0595-4dc2-a026-ef9d1ecd6c71"
      },
      "source": [
        "first_two = [1, 2, 3, 4, 5][0:2]\n",
        "print(first_two)"
      ],
      "execution_count": 16,
      "outputs": [
        {
          "output_type": "stream",
          "text": [
            "[1, 2]\n"
          ],
          "name": "stdout"
        }
      ]
    },
    {
      "cell_type": "code",
      "metadata": {
        "colab": {
          "base_uri": "https://localhost:8080/"
        },
        "id": "qcpJsSOSROSe",
        "outputId": "db08919a-ebbc-4a41-c3b9-97e5fe7be5ac"
      },
      "source": [
        "steps = [1, 2, 3, 4, 5][0:5:2]\n",
        "print(steps)"
      ],
      "execution_count": 17,
      "outputs": [
        {
          "output_type": "stream",
          "text": [
            "[1, 3, 5]\n"
          ],
          "name": "stdout"
        }
      ]
    },
    {
      "cell_type": "code",
      "metadata": {
        "colab": {
          "base_uri": "https://localhost:8080/"
        },
        "id": "usyKr5nVRPRL",
        "outputId": "a597a195-ce1e-4cde-ec07-f4e21f07aa1f"
      },
      "source": [
        "mystring = \"abcdefdn nimt\"[::2]\n",
        "print(mystring)"
      ],
      "execution_count": 18,
      "outputs": [
        {
          "output_type": "stream",
          "text": [
            "aced it\n"
          ],
          "name": "stdout"
        }
      ]
    },
    {
      "cell_type": "code",
      "metadata": {
        "colab": {
          "base_uri": "https://localhost:8080/"
        },
        "id": "9ayVIiyYRRfQ",
        "outputId": "1a9900b6-8b09-46bd-a18d-156a0b2812e1"
      },
      "source": [
        "revstring = \"abcdefg\"[::-1]\n",
        "print(revstring)\n",
        "\n",
        "revarray = [1, 2, 3, 4, 5][::-1]\n",
        "print(revarray)"
      ],
      "execution_count": 19,
      "outputs": [
        {
          "output_type": "stream",
          "text": [
            "gfedcba\n",
            "[5, 4, 3, 2, 1]\n"
          ],
          "name": "stdout"
        }
      ]
    },
    {
      "cell_type": "code",
      "metadata": {
        "id": "8mDC2ndTRTGe"
      },
      "source": [
        "from PIL import Image\n",
        "\n",
        "im = Image.open(\"kittens.jpg\")\n",
        "im.show()\n",
        "print(im.format, im.size, im.mode)"
      ],
      "execution_count": 20,
      "outputs": []
    },
    {
      "cell_type": "code",
      "metadata": {
        "colab": {
          "base_uri": "https://localhost:8080/"
        },
        "id": "bKlAiBULRV0I",
        "outputId": "a3c69e20-9b78-435e-d287-35cd65c73f8a"
      },
      "source": [
        "def upper(s):\n",
        "    return s.upper()\n",
        "    \n",
        "mylist = list(map(upper, ['sentence', 'fragment']))\n",
        "print(mylist)\n",
        "\n",
        "# Convert a string representation of\n",
        "# a number into a list of ints.\n",
        "list_of_ints = list(map(int, \"1234567\"))\n",
        "print(list_of_ints)"
      ],
      "execution_count": 21,
      "outputs": [
        {
          "output_type": "stream",
          "text": [
            "['SENTENCE', 'FRAGMENT']\n",
            "[1, 2, 3, 4, 5, 6, 7]\n"
          ],
          "name": "stdout"
        }
      ]
    },
    {
      "cell_type": "code",
      "metadata": {
        "colab": {
          "base_uri": "https://localhost:8080/"
        },
        "id": "oiFJKMI4RZnW",
        "outputId": "cac63717-0b43-4712-c852-1a119a61a3c5"
      },
      "source": [
        "mylist = [1, 1, 2, 3, 4, 5, 5, 5, 6, 6]\n",
        "print (set(mylist))"
      ],
      "execution_count": 22,
      "outputs": [
        {
          "output_type": "stream",
          "text": [
            "{1, 2, 3, 4, 5, 6}\n"
          ],
          "name": "stdout"
        }
      ]
    },
    {
      "cell_type": "code",
      "metadata": {
        "colab": {
          "base_uri": "https://localhost:8080/"
        },
        "id": "-N9kDveuRbuo",
        "outputId": "62cf74a8-faf8-4ab7-b521-205770ffc994"
      },
      "source": [
        "print (set(\"aaabbbcccdddeeefff\"))"
      ],
      "execution_count": 23,
      "outputs": [
        {
          "output_type": "stream",
          "text": [
            "{'b', 'd', 'f', 'a', 'c', 'e'}\n"
          ],
          "name": "stdout"
        }
      ]
    },
    {
      "cell_type": "code",
      "metadata": {
        "colab": {
          "base_uri": "https://localhost:8080/"
        },
        "id": "851rOZ_qRcDm",
        "outputId": "d516a4ad-5294-45c2-b1ba-7d3d0f271f55"
      },
      "source": [
        "test = [1, 2, 3, 4, 2, 2, 3, 1, 4, 4, 4]\n",
        "print(max(set(test), key = test.count))"
      ],
      "execution_count": 24,
      "outputs": [
        {
          "output_type": "stream",
          "text": [
            "4\n"
          ],
          "name": "stdout"
        }
      ]
    },
    {
      "cell_type": "code",
      "metadata": {
        "colab": {
          "base_uri": "https://localhost:8080/"
        },
        "id": "bX-nD8t0RhkL",
        "outputId": "b8f720f2-94f1-487e-dd69-883a02a75704"
      },
      "source": [
        "!pip3 install progress"
      ],
      "execution_count": 27,
      "outputs": [
        {
          "output_type": "stream",
          "text": [
            "Collecting progress\n",
            "  Downloading https://files.pythonhosted.org/packages/38/ef/2e887b3d2b248916fc2121889ce68af8a16aaddbe82f9ae6533c24ff0d2b/progress-1.5.tar.gz\n",
            "Building wheels for collected packages: progress\n",
            "  Building wheel for progress (setup.py) ... \u001b[?25l\u001b[?25hdone\n",
            "  Created wheel for progress: filename=progress-1.5-cp37-none-any.whl size=8088 sha256=6c84e0b67a1bc404f25547a790a69522937f0e7dd205c904d6ca0b2c040af4d9\n",
            "  Stored in directory: /root/.cache/pip/wheels/6c/c8/80/32a294e3041f006c661838c05a411c7b7ffc60ff939d14e116\n",
            "Successfully built progress\n",
            "Installing collected packages: progress\n",
            "Successfully installed progress-1.5\n"
          ],
          "name": "stdout"
        }
      ]
    },
    {
      "cell_type": "code",
      "metadata": {
        "id": "B1DpjHE4Rdha"
      },
      "source": [
        "from progress.bar import Bar\n",
        "\n",
        "bar = Bar('Processing', max=20)\n",
        "for i in range(20):\n",
        "    # Do some work\n",
        "    bar.next()\n",
        "bar.finish()"
      ],
      "execution_count": 28,
      "outputs": []
    },
    {
      "cell_type": "code",
      "metadata": {
        "colab": {
          "base_uri": "https://localhost:8080/"
        },
        "id": "EhD_vkTORfm9",
        "outputId": "e6211968-8d36-4c28-8320-9a0d05ef93f4"
      },
      "source": [
        "3 * 3"
      ],
      "execution_count": 29,
      "outputs": [
        {
          "output_type": "execute_result",
          "data": {
            "text/plain": [
              "9"
            ]
          },
          "metadata": {
            "tags": []
          },
          "execution_count": 29
        }
      ]
    },
    {
      "cell_type": "code",
      "metadata": {
        "colab": {
          "base_uri": "https://localhost:8080/"
        },
        "id": "1WZuU7jqRmDu",
        "outputId": "55fc9563-4370-4d74-d43e-dc5364bc9ab9"
      },
      "source": [
        "_ +  3"
      ],
      "execution_count": 31,
      "outputs": [
        {
          "output_type": "execute_result",
          "data": {
            "text/plain": [
              "12"
            ]
          },
          "metadata": {
            "tags": []
          },
          "execution_count": 31
        }
      ]
    },
    {
      "cell_type": "code",
      "metadata": {
        "id": "t7ck5fBjRnRx"
      },
      "source": [
        "python3 -m http.server"
      ],
      "execution_count": 32,
      "outputs": []
    },
    {
      "cell_type": "code",
      "metadata": {
        "colab": {
          "base_uri": "https://localhost:8080/"
        },
        "id": "1mQXLwAKRtNE",
        "outputId": "3ae3d16f-670c-41d4-b6a8-8fc352d16e2f"
      },
      "source": [
        "s1 = \"\"\"Multi line strings can be put\n",
        "        between triple quotes. It's not ideal\n",
        "        when formatting your code though\"\"\"\n",
        "\n",
        "print (s1)"
      ],
      "execution_count": 33,
      "outputs": [
        {
          "output_type": "stream",
          "text": [
            "Multi line strings can be put\n",
            "        between triple quotes. It's not ideal\n",
            "        when formatting your code though\n"
          ],
          "name": "stdout"
        }
      ]
    },
    {
      "cell_type": "code",
      "metadata": {
        "colab": {
          "base_uri": "https://localhost:8080/"
        },
        "id": "-RnvN9NgRvxT",
        "outputId": "3b084ca0-a85c-4ebe-ebba-f67202640511"
      },
      "source": [
        "s2 = (\"You can also concatenate multiple\\n\"\n",
        "        \"strings this way, but you'll have to\\n\"\n",
        "        \"explicitly put in the newlines\")\n",
        "\n",
        "print(s2)"
      ],
      "execution_count": 34,
      "outputs": [
        {
          "output_type": "stream",
          "text": [
            "You can also concatenate multiple\n",
            "strings this way, but you'll have to\n",
            "explicitly put in the newlines\n"
          ],
          "name": "stdout"
        }
      ]
    },
    {
      "cell_type": "code",
      "metadata": {
        "colab": {
          "base_uri": "https://localhost:8080/",
          "height": 37
        },
        "id": "udpRzYs9RxOJ",
        "outputId": "88fedaca-8e76-4eb3-8144-8167709b9df6"
      },
      "source": [
        "y = 2\n",
        "x = \"Success!\" if (y == 2) else \"Failed!\"\n",
        "x"
      ],
      "execution_count": 36,
      "outputs": [
        {
          "output_type": "execute_result",
          "data": {
            "application/vnd.google.colaboratory.intrinsic+json": {
              "type": "string"
            },
            "text/plain": [
              "'Success!'"
            ]
          },
          "metadata": {
            "tags": []
          },
          "execution_count": 36
        }
      ]
    },
    {
      "cell_type": "code",
      "metadata": {
        "colab": {
          "base_uri": "https://localhost:8080/"
        },
        "id": "tUPT5S_8Ry9s",
        "outputId": "f5130d4b-8f2c-4d79-c28f-174ae684fc13"
      },
      "source": [
        "from collections import Counter\n",
        "\n",
        "mylist = [1, 1, 2, 3, 4, 5, 5, 5, 6, 6]\n",
        "c = Counter(mylist)\n",
        "print(c)"
      ],
      "execution_count": 37,
      "outputs": [
        {
          "output_type": "stream",
          "text": [
            "Counter({5: 3, 1: 2, 6: 2, 2: 1, 3: 1, 4: 1})\n"
          ],
          "name": "stdout"
        }
      ]
    },
    {
      "cell_type": "code",
      "metadata": {
        "colab": {
          "base_uri": "https://localhost:8080/"
        },
        "id": "2RoqMQCKR6IS",
        "outputId": "9ae3c071-037d-4516-a72f-939783306626"
      },
      "source": [
        "print(Counter(\"aaaaabbbbbccccc\"))"
      ],
      "execution_count": 38,
      "outputs": [
        {
          "output_type": "stream",
          "text": [
            "Counter({'a': 5, 'b': 5, 'c': 5})\n"
          ],
          "name": "stdout"
        }
      ]
    },
    {
      "cell_type": "code",
      "metadata": {
        "colab": {
          "base_uri": "https://localhost:8080/"
        },
        "id": "D08q3muER69X",
        "outputId": "af86f2cb-325c-47f8-8ca5-45045d388b42"
      },
      "source": [
        "x = 10\n",
        "\n",
        "# Instead of:\n",
        "if x > 5 and x < 15:\n",
        "    print(\"Yes\")\n",
        "# yes\n",
        "\n",
        "# You can also write:\n",
        "if 5 < x < 15:\n",
        "    print(\"Yes\")"
      ],
      "execution_count": 39,
      "outputs": [
        {
          "output_type": "stream",
          "text": [
            "Yes\n",
            "Yes\n"
          ],
          "name": "stdout"
        }
      ]
    },
    {
      "cell_type": "code",
      "metadata": {
        "colab": {
          "base_uri": "https://localhost:8080/"
        },
        "id": "oCwjz96jR_2O",
        "outputId": "0f88aa07-2960-44b4-803b-18d7a158bda5"
      },
      "source": [
        "!pip install colorama"
      ],
      "execution_count": 41,
      "outputs": [
        {
          "output_type": "stream",
          "text": [
            "Collecting colorama\n",
            "  Downloading https://files.pythonhosted.org/packages/44/98/5b86278fbbf250d239ae0ecb724f8572af1c91f4a11edf4d36a206189440/colorama-0.4.4-py2.py3-none-any.whl\n",
            "Installing collected packages: colorama\n",
            "Successfully installed colorama-0.4.4\n"
          ],
          "name": "stdout"
        }
      ]
    },
    {
      "cell_type": "code",
      "metadata": {
        "colab": {
          "base_uri": "https://localhost:8080/"
        },
        "id": "ZcQfgPoOR8az",
        "outputId": "b91b7b88-e6fc-4b5d-f130-56f0737ad5db"
      },
      "source": [
        "from colorama import Fore, Back, Style\n",
        "\n",
        "print(Fore.RED + 'some red text')\n",
        "print(Back.GREEN + 'and with a green background')\n",
        "print(Style.DIM + 'and in dim text')\n",
        "print(Style.RESET_ALL)\n",
        "print('back to normal now')"
      ],
      "execution_count": 42,
      "outputs": [
        {
          "output_type": "stream",
          "text": [
            "\u001b[31msome red text\n",
            "\u001b[42mand with a green background\n",
            "\u001b[2mand in dim text\n",
            "\u001b[0m\n",
            "back to normal now\n"
          ],
          "name": "stdout"
        }
      ]
    },
    {
      "cell_type": "code",
      "metadata": {
        "colab": {
          "base_uri": "https://localhost:8080/"
        },
        "id": "7rK_SLaJR-IJ",
        "outputId": "be666a6d-db9b-4705-879e-80a5574da9fa"
      },
      "source": [
        "!pip3 install python-dateutil"
      ],
      "execution_count": 43,
      "outputs": [
        {
          "output_type": "stream",
          "text": [
            "Requirement already satisfied: python-dateutil in /usr/local/lib/python3.7/dist-packages (2.8.1)\n",
            "Requirement already satisfied: six>=1.5 in /usr/local/lib/python3.7/dist-packages (from python-dateutil) (1.15.0)\n"
          ],
          "name": "stdout"
        }
      ]
    },
    {
      "cell_type": "code",
      "metadata": {
        "colab": {
          "base_uri": "https://localhost:8080/"
        },
        "id": "tRFvXyQeSIc3",
        "outputId": "02c90da1-e7a3-48b6-d6ff-13933d595fc3"
      },
      "source": [
        "from dateutil.parser import parse\n",
        "\n",
        "logline = 'INFO 2020-01-01T00:00:01 Happy new year, human.'\n",
        "timestamp = parse(logline, fuzzy=True)\n",
        "print(timestamp)"
      ],
      "execution_count": 44,
      "outputs": [
        {
          "output_type": "stream",
          "text": [
            "2020-01-01 00:00:01\n"
          ],
          "name": "stdout"
        }
      ]
    },
    {
      "cell_type": "code",
      "metadata": {
        "colab": {
          "base_uri": "https://localhost:8080/"
        },
        "id": "cfNLJE5NSK1l",
        "outputId": "f62c3e3d-3a90-42a5-90a1-25398c24e777"
      },
      "source": [
        "5 / 2"
      ],
      "execution_count": 46,
      "outputs": [
        {
          "output_type": "execute_result",
          "data": {
            "text/plain": [
              "2.5"
            ]
          },
          "metadata": {
            "tags": []
          },
          "execution_count": 46
        }
      ]
    },
    {
      "cell_type": "code",
      "metadata": {
        "colab": {
          "base_uri": "https://localhost:8080/"
        },
        "id": "cjwZP8s4SNy_",
        "outputId": "bd95cf21-f137-45e5-9b9f-1269fac656b9"
      },
      "source": [
        "5 // 2"
      ],
      "execution_count": 47,
      "outputs": [
        {
          "output_type": "execute_result",
          "data": {
            "text/plain": [
              "2"
            ]
          },
          "metadata": {
            "tags": []
          },
          "execution_count": 47
        }
      ]
    }
  ]
}