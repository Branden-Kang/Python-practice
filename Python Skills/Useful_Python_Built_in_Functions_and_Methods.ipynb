{
  "nbformat": 4,
  "nbformat_minor": 0,
  "metadata": {
    "colab": {
      "name": "Useful Python Built-in Functions and Methods.ipynb",
      "provenance": [],
      "authorship_tag": "ABX9TyNn51TbsMyzyeMr9Kj+FCHR"
    },
    "kernelspec": {
      "name": "python3",
      "display_name": "Python 3"
    }
  },
  "cells": [
    {
      "cell_type": "markdown",
      "metadata": {
        "id": "RSyptRuxUTvJ"
      },
      "source": [
        "[Reference](https://medium.com/python-in-plain-english/useful-python-built-in-functions-and-methods-with-examples-a-z-2c54ee15c34f)\n"
      ]
    },
    {
      "cell_type": "code",
      "metadata": {
        "colab": {
          "base_uri": "https://localhost:8080/"
        },
        "id": "dJpzSMDhUJuZ",
        "outputId": "44fb6d09-387a-4529-dd3b-8ce55ba25a54"
      },
      "source": [
        "x = abs(-7.25)\n",
        "x"
      ],
      "execution_count": 3,
      "outputs": [
        {
          "output_type": "execute_result",
          "data": {
            "text/plain": [
              "7.25"
            ]
          },
          "metadata": {
            "tags": []
          },
          "execution_count": 3
        }
      ]
    },
    {
      "cell_type": "code",
      "metadata": {
        "colab": {
          "base_uri": "https://localhost:8080/"
        },
        "id": "EQG1XsMHUW8m",
        "outputId": "8483e688-bd45-4193-d6a5-e46838537893"
      },
      "source": [
        "mylist = [True, True, True]\n",
        "x = all(mylist)\n",
        "x"
      ],
      "execution_count": 2,
      "outputs": [
        {
          "output_type": "execute_result",
          "data": {
            "text/plain": [
              "True"
            ]
          },
          "metadata": {
            "tags": []
          },
          "execution_count": 2
        }
      ]
    },
    {
      "cell_type": "code",
      "metadata": {
        "colab": {
          "base_uri": "https://localhost:8080/"
        },
        "id": "XiBVztBEUZIv",
        "outputId": "30dde928-cc2f-4d66-a149-8bdef1575b5c"
      },
      "source": [
        "mylist = [False, True, False]\n",
        "x = any(mylist)\n",
        "x"
      ],
      "execution_count": 5,
      "outputs": [
        {
          "output_type": "execute_result",
          "data": {
            "text/plain": [
              "True"
            ]
          },
          "metadata": {
            "tags": []
          },
          "execution_count": 5
        }
      ]
    },
    {
      "cell_type": "code",
      "metadata": {
        "colab": {
          "base_uri": "https://localhost:8080/",
          "height": 37
        },
        "id": "lEjAarblUbbI",
        "outputId": "11e0fee7-c2a9-4569-8933-c925c3cead8c"
      },
      "source": [
        "x = ascii(\"My name is Ståle\")\n",
        "x"
      ],
      "execution_count": 6,
      "outputs": [
        {
          "output_type": "execute_result",
          "data": {
            "application/vnd.google.colaboratory.intrinsic+json": {
              "type": "string"
            },
            "text/plain": [
              "\"'My name is St\\\\xe5le'\""
            ]
          },
          "metadata": {
            "tags": []
          },
          "execution_count": 6
        }
      ]
    },
    {
      "cell_type": "code",
      "metadata": {
        "colab": {
          "base_uri": "https://localhost:8080/",
          "height": 37
        },
        "id": "szAz1ilCUbJ9",
        "outputId": "160018c2-7fb4-49f7-c0c5-34fd8db69b74"
      },
      "source": [
        "x = bin(36)\n",
        "x"
      ],
      "execution_count": 7,
      "outputs": [
        {
          "output_type": "execute_result",
          "data": {
            "application/vnd.google.colaboratory.intrinsic+json": {
              "type": "string"
            },
            "text/plain": [
              "'0b100100'"
            ]
          },
          "metadata": {
            "tags": []
          },
          "execution_count": 7
        }
      ]
    },
    {
      "cell_type": "code",
      "metadata": {
        "colab": {
          "base_uri": "https://localhost:8080/"
        },
        "id": "BtMmnUJFUf2m",
        "outputId": "1def52c6-d5d5-4f70-8d11-9ae750afd12c"
      },
      "source": [
        "x = bool(1)\n",
        "x"
      ],
      "execution_count": 8,
      "outputs": [
        {
          "output_type": "execute_result",
          "data": {
            "text/plain": [
              "True"
            ]
          },
          "metadata": {
            "tags": []
          },
          "execution_count": 8
        }
      ]
    },
    {
      "cell_type": "code",
      "metadata": {
        "colab": {
          "base_uri": "https://localhost:8080/"
        },
        "id": "RQI2SknFUg1Z",
        "outputId": "bae0db9c-2d77-41ec-9c47-9a2b7f5147f3"
      },
      "source": [
        "x = bytearray(4)\n",
        "x"
      ],
      "execution_count": 9,
      "outputs": [
        {
          "output_type": "execute_result",
          "data": {
            "text/plain": [
              "bytearray(b'\\x00\\x00\\x00\\x00')"
            ]
          },
          "metadata": {
            "tags": []
          },
          "execution_count": 9
        }
      ]
    },
    {
      "cell_type": "code",
      "metadata": {
        "colab": {
          "base_uri": "https://localhost:8080/"
        },
        "id": "k16QNYVYUh0v",
        "outputId": "767fee71-1682-4537-8482-43a009eebf9e"
      },
      "source": [
        "x = bytearray(4)\n",
        "x"
      ],
      "execution_count": 10,
      "outputs": [
        {
          "output_type": "execute_result",
          "data": {
            "text/plain": [
              "bytearray(b'\\x00\\x00\\x00\\x00')"
            ]
          },
          "metadata": {
            "tags": []
          },
          "execution_count": 10
        }
      ]
    },
    {
      "cell_type": "code",
      "metadata": {
        "colab": {
          "base_uri": "https://localhost:8080/"
        },
        "id": "RF2qTKXuUisp",
        "outputId": "e6d855a0-035e-4f36-c7c3-968e5add3ccd"
      },
      "source": [
        "def x():\n",
        "  a = 5\n",
        "print(callable(x))"
      ],
      "execution_count": 11,
      "outputs": [
        {
          "output_type": "stream",
          "text": [
            "True\n"
          ],
          "name": "stdout"
        }
      ]
    },
    {
      "cell_type": "code",
      "metadata": {
        "colab": {
          "base_uri": "https://localhost:8080/",
          "height": 37
        },
        "id": "04EpjiXAUlC-",
        "outputId": "93a738af-d729-464b-bfc7-d1e1d3e5dba0"
      },
      "source": [
        "x = chr(97)\n",
        "x"
      ],
      "execution_count": 12,
      "outputs": [
        {
          "output_type": "execute_result",
          "data": {
            "application/vnd.google.colaboratory.intrinsic+json": {
              "type": "string"
            },
            "text/plain": [
              "'a'"
            ]
          },
          "metadata": {
            "tags": []
          },
          "execution_count": 12
        }
      ]
    },
    {
      "cell_type": "code",
      "metadata": {
        "colab": {
          "base_uri": "https://localhost:8080/"
        },
        "id": "BmZKE8ReUmiZ",
        "outputId": "c4c5aa25-b04d-443b-f105-fe5b08e9d940"
      },
      "source": [
        "x = compile('print(55)', 'test', 'eval')\n",
        "exec(x)"
      ],
      "execution_count": 13,
      "outputs": [
        {
          "output_type": "stream",
          "text": [
            "55\n"
          ],
          "name": "stdout"
        }
      ]
    },
    {
      "cell_type": "code",
      "metadata": {
        "colab": {
          "base_uri": "https://localhost:8080/"
        },
        "id": "1DMTpngfUndl",
        "outputId": "70d054c3-665e-4341-a237-6c9931a918b0"
      },
      "source": [
        "x = complex(3, 5)\n",
        "x"
      ],
      "execution_count": 14,
      "outputs": [
        {
          "output_type": "execute_result",
          "data": {
            "text/plain": [
              "(3+5j)"
            ]
          },
          "metadata": {
            "tags": []
          },
          "execution_count": 14
        }
      ]
    },
    {
      "cell_type": "code",
      "metadata": {
        "id": "jYQJk_acUoU7"
      },
      "source": [
        "class Person:\n",
        "  name = \"John\"\n",
        "  age = 36\n",
        "  country = \"Norway\"\n",
        "  \n",
        "delattr(Person, 'age')"
      ],
      "execution_count": 15,
      "outputs": []
    },
    {
      "cell_type": "code",
      "metadata": {
        "colab": {
          "base_uri": "https://localhost:8080/"
        },
        "id": "2gzhA0GYUqN3",
        "outputId": "600ebb1a-d29c-419f-ad6f-1542f822677b"
      },
      "source": [
        "x = dict(name = \"John\", age = 36, country = \"Norway\")\n",
        "x"
      ],
      "execution_count": 16,
      "outputs": [
        {
          "output_type": "execute_result",
          "data": {
            "text/plain": [
              "{'age': 36, 'country': 'Norway', 'name': 'John'}"
            ]
          },
          "metadata": {
            "tags": []
          },
          "execution_count": 16
        }
      ]
    },
    {
      "cell_type": "code",
      "metadata": {
        "colab": {
          "base_uri": "https://localhost:8080/"
        },
        "id": "SQn-7yreUsdQ",
        "outputId": "479be12f-295c-4f80-ef5a-636d69793235"
      },
      "source": [
        "x = divmod(5, 2)\n",
        "x"
      ],
      "execution_count": 17,
      "outputs": [
        {
          "output_type": "execute_result",
          "data": {
            "text/plain": [
              "(2, 1)"
            ]
          },
          "metadata": {
            "tags": []
          },
          "execution_count": 17
        }
      ]
    },
    {
      "cell_type": "code",
      "metadata": {
        "colab": {
          "base_uri": "https://localhost:8080/"
        },
        "id": "hHvQYUCnUtpE",
        "outputId": "f75c3c40-a374-4f46-db1d-f36f6ecb3c71"
      },
      "source": [
        "x = ('apple', 'banana', 'cherry')\n",
        "y = enumerate(x)\n",
        "y"
      ],
      "execution_count": 18,
      "outputs": [
        {
          "output_type": "execute_result",
          "data": {
            "text/plain": [
              "<enumerate at 0x7fef93490630>"
            ]
          },
          "metadata": {
            "tags": []
          },
          "execution_count": 18
        }
      ]
    },
    {
      "cell_type": "code",
      "metadata": {
        "colab": {
          "base_uri": "https://localhost:8080/"
        },
        "id": "HtmslCOKUu04",
        "outputId": "cca9c5d8-527f-4974-dd7d-a83de65f057a"
      },
      "source": [
        "x = 'print(55)'\n",
        "eval(x)"
      ],
      "execution_count": 19,
      "outputs": [
        {
          "output_type": "stream",
          "text": [
            "55\n"
          ],
          "name": "stdout"
        }
      ]
    },
    {
      "cell_type": "code",
      "metadata": {
        "colab": {
          "base_uri": "https://localhost:8080/"
        },
        "id": "jsQR-YwFUvvx",
        "outputId": "27da770a-b9fe-40f2-dbac-d4373793b7fb"
      },
      "source": [
        "x = 'name = \"John\"\\nprint(name)'\n",
        "exec(x)"
      ],
      "execution_count": 20,
      "outputs": [
        {
          "output_type": "stream",
          "text": [
            "John\n"
          ],
          "name": "stdout"
        }
      ]
    },
    {
      "cell_type": "code",
      "metadata": {
        "colab": {
          "base_uri": "https://localhost:8080/"
        },
        "id": "r0tUgKwHUwgD",
        "outputId": "50913bc2-c030-42ed-967f-d898748090bf"
      },
      "source": [
        "ages = [5, 12, 17, 18, 24, 32]\n",
        "\n",
        "def myFunc(x):\n",
        "  if x < 18:\n",
        "    return False\n",
        "  else:\n",
        "    return True\n",
        "    \n",
        "adults = filter(myFunc, ages)\n",
        "    \n",
        "for x in adults:\n",
        "  print(x)"
      ],
      "execution_count": 22,
      "outputs": [
        {
          "output_type": "stream",
          "text": [
            "18\n",
            "24\n",
            "32\n"
          ],
          "name": "stdout"
        }
      ]
    },
    {
      "cell_type": "code",
      "metadata": {
        "colab": {
          "base_uri": "https://localhost:8080/"
        },
        "id": "4Wm-DsXDUzf1",
        "outputId": "4584ff6e-ab45-4c2c-9ed2-6f07aadaf80b"
      },
      "source": [
        "x = float(3)\n",
        "x"
      ],
      "execution_count": 23,
      "outputs": [
        {
          "output_type": "execute_result",
          "data": {
            "text/plain": [
              "3.0"
            ]
          },
          "metadata": {
            "tags": []
          },
          "execution_count": 23
        }
      ]
    },
    {
      "cell_type": "code",
      "metadata": {
        "colab": {
          "base_uri": "https://localhost:8080/",
          "height": 37
        },
        "id": "W9ke85LTU1TL",
        "outputId": "2809a6ee-5864-4394-d737-dbd7d6d8eca5"
      },
      "source": [
        "x = format(0.5, '%')\n",
        "x"
      ],
      "execution_count": 24,
      "outputs": [
        {
          "output_type": "execute_result",
          "data": {
            "application/vnd.google.colaboratory.intrinsic+json": {
              "type": "string"
            },
            "text/plain": [
              "'50.000000%'"
            ]
          },
          "metadata": {
            "tags": []
          },
          "execution_count": 24
        }
      ]
    },
    {
      "cell_type": "code",
      "metadata": {
        "colab": {
          "base_uri": "https://localhost:8080/"
        },
        "id": "cHLHz4UwU2Qa",
        "outputId": "dd24c3e6-24ae-4717-f855-d753c4975257"
      },
      "source": [
        "mylist = ['apple', 'banana', 'cherry']\n",
        "x = frozenset(mylist)\n",
        "x"
      ],
      "execution_count": 25,
      "outputs": [
        {
          "output_type": "execute_result",
          "data": {
            "text/plain": [
              "frozenset({'apple', 'banana', 'cherry'})"
            ]
          },
          "metadata": {
            "tags": []
          },
          "execution_count": 25
        }
      ]
    },
    {
      "cell_type": "code",
      "metadata": {
        "colab": {
          "base_uri": "https://localhost:8080/"
        },
        "id": "hOjrqjfEU3Q5",
        "outputId": "77db9550-7fd9-4a80-d4ef-8686ae5f40ed"
      },
      "source": [
        "class Person:\n",
        "  name = \"John\"\n",
        "  age = 36\n",
        "  country = \"Norway\"\n",
        "  \n",
        "x = getattr(Person, 'age')\n",
        "x"
      ],
      "execution_count": 26,
      "outputs": [
        {
          "output_type": "execute_result",
          "data": {
            "text/plain": [
              "36"
            ]
          },
          "metadata": {
            "tags": []
          },
          "execution_count": 26
        }
      ]
    },
    {
      "cell_type": "code",
      "metadata": {
        "colab": {
          "base_uri": "https://localhost:8080/"
        },
        "id": "8fh4UlHmU6EY",
        "outputId": "6ffe146d-fa83-4c7f-f2a7-4512c17c6ae1"
      },
      "source": [
        "class Person:\n",
        "  name = \"John\"\n",
        "  age = 36\n",
        "  country = \"Norway\"\n",
        "  \n",
        "x = getattr(Person, 'age')\n",
        "x"
      ],
      "execution_count": 27,
      "outputs": [
        {
          "output_type": "execute_result",
          "data": {
            "text/plain": [
              "36"
            ]
          },
          "metadata": {
            "tags": []
          },
          "execution_count": 27
        }
      ]
    },
    {
      "cell_type": "code",
      "metadata": {
        "colab": {
          "base_uri": "https://localhost:8080/"
        },
        "id": "3-b8_8VbU7zb",
        "outputId": "929779bc-209d-4d9b-d15f-9fb1f8be4ef8"
      },
      "source": [
        "class Person:\n",
        "  name = \"John\"\n",
        "  age = 36\n",
        "  country = \"Norway\"\n",
        "  \n",
        "x = hasattr(Person, 'age')\n",
        "x"
      ],
      "execution_count": 28,
      "outputs": [
        {
          "output_type": "execute_result",
          "data": {
            "text/plain": [
              "True"
            ]
          },
          "metadata": {
            "tags": []
          },
          "execution_count": 28
        }
      ]
    },
    {
      "cell_type": "code",
      "metadata": {
        "colab": {
          "base_uri": "https://localhost:8080/",
          "height": 37
        },
        "id": "Oew8KyevU9ji",
        "outputId": "ed290fa6-b232-46f1-8720-b7852e0c386c"
      },
      "source": [
        "x = hex(255)\n",
        "x"
      ],
      "execution_count": 29,
      "outputs": [
        {
          "output_type": "execute_result",
          "data": {
            "application/vnd.google.colaboratory.intrinsic+json": {
              "type": "string"
            },
            "text/plain": [
              "'0xff'"
            ]
          },
          "metadata": {
            "tags": []
          },
          "execution_count": 29
        }
      ]
    },
    {
      "cell_type": "code",
      "metadata": {
        "colab": {
          "base_uri": "https://localhost:8080/"
        },
        "id": "0Ko4H_REU_c-",
        "outputId": "11ec12c3-1cc5-416b-86c2-92043a74baa3"
      },
      "source": [
        "x = ('apple', 'banana', 'cherry')\n",
        "y = id(x)\n",
        "y"
      ],
      "execution_count": 30,
      "outputs": [
        {
          "output_type": "execute_result",
          "data": {
            "text/plain": [
              "140666944950064"
            ]
          },
          "metadata": {
            "tags": []
          },
          "execution_count": 30
        }
      ]
    },
    {
      "cell_type": "code",
      "metadata": {
        "colab": {
          "base_uri": "https://localhost:8080/"
        },
        "id": "cXP24cGTVAwO",
        "outputId": "70733b78-0e11-4913-bdcc-125b75a437fb"
      },
      "source": [
        "print('Enter your name:')\n",
        "x = input()\n",
        "print('Hello, ' + x)"
      ],
      "execution_count": 31,
      "outputs": [
        {
          "output_type": "stream",
          "text": [
            "Enter your name:\n",
            "Branden\n",
            "Hello, Branden\n"
          ],
          "name": "stdout"
        }
      ]
    },
    {
      "cell_type": "code",
      "metadata": {
        "colab": {
          "base_uri": "https://localhost:8080/"
        },
        "id": "EiqMBYlzVBoB",
        "outputId": "a4bd6f52-5672-4abd-e112-8189c3da3997"
      },
      "source": [
        "x = int(3.5)\n",
        "x"
      ],
      "execution_count": 32,
      "outputs": [
        {
          "output_type": "execute_result",
          "data": {
            "text/plain": [
              "3"
            ]
          },
          "metadata": {
            "tags": []
          },
          "execution_count": 32
        }
      ]
    },
    {
      "cell_type": "code",
      "metadata": {
        "colab": {
          "base_uri": "https://localhost:8080/"
        },
        "id": "bYRly0rKVD1F",
        "outputId": "e3fe6cb6-c074-4311-dd51-b0f3cb998900"
      },
      "source": [
        "x = isinstance(5, int)\n",
        "x"
      ],
      "execution_count": 33,
      "outputs": [
        {
          "output_type": "execute_result",
          "data": {
            "text/plain": [
              "True"
            ]
          },
          "metadata": {
            "tags": []
          },
          "execution_count": 33
        }
      ]
    },
    {
      "cell_type": "code",
      "metadata": {
        "id": "3IMkNoFCVFO1"
      },
      "source": [
        "class myAge:\n",
        "  age = 36\n",
        "  \n",
        "class myObj(myAge):\n",
        "  name = \"John\"\n",
        "  age = myAge\n",
        "  \n",
        "x = issubclass(myObj, myAge)"
      ],
      "execution_count": 34,
      "outputs": []
    },
    {
      "cell_type": "code",
      "metadata": {
        "colab": {
          "base_uri": "https://localhost:8080/"
        },
        "id": "fDrkIlsQVIgS",
        "outputId": "4c405d35-83aa-490d-9cc2-943d2dc7c584"
      },
      "source": [
        "x = iter([\"apple\", \"banana\", \"cherry\"])\n",
        "print(next(x))\n",
        "print(next(x))\n",
        "print(next(x))"
      ],
      "execution_count": 35,
      "outputs": [
        {
          "output_type": "stream",
          "text": [
            "apple\n",
            "banana\n",
            "cherry\n"
          ],
          "name": "stdout"
        }
      ]
    },
    {
      "cell_type": "code",
      "metadata": {
        "colab": {
          "base_uri": "https://localhost:8080/"
        },
        "id": "qX4FxAxHVJlB",
        "outputId": "ac478cc7-13f6-49ce-952e-145c81dcff72"
      },
      "source": [
        "mylist = [\"apple\", \"banana\", \"cherry\"]\n",
        "x = len(mylist)\n",
        "x"
      ],
      "execution_count": 37,
      "outputs": [
        {
          "output_type": "execute_result",
          "data": {
            "text/plain": [
              "3"
            ]
          },
          "metadata": {
            "tags": []
          },
          "execution_count": 37
        }
      ]
    },
    {
      "cell_type": "code",
      "metadata": {
        "colab": {
          "base_uri": "https://localhost:8080/"
        },
        "id": "SBh-mIZ3VKle",
        "outputId": "23628c84-c95d-4c2f-ba46-04ee898298b1"
      },
      "source": [
        "x = list(('apple', 'banana', 'cherry'))\n",
        "x"
      ],
      "execution_count": 38,
      "outputs": [
        {
          "output_type": "execute_result",
          "data": {
            "text/plain": [
              "['apple', 'banana', 'cherry']"
            ]
          },
          "metadata": {
            "tags": []
          },
          "execution_count": 38
        }
      ]
    },
    {
      "cell_type": "code",
      "metadata": {
        "colab": {
          "base_uri": "https://localhost:8080/"
        },
        "id": "9GnYXfdHVMWr",
        "outputId": "25b178aa-dc4b-4a2d-ee98-ed385f561d80"
      },
      "source": [
        "x = list(('apple', 'banana', 'cherry'))\n",
        "x"
      ],
      "execution_count": 39,
      "outputs": [
        {
          "output_type": "execute_result",
          "data": {
            "text/plain": [
              "['apple', 'banana', 'cherry']"
            ]
          },
          "metadata": {
            "tags": []
          },
          "execution_count": 39
        }
      ]
    },
    {
      "cell_type": "code",
      "metadata": {
        "colab": {
          "base_uri": "https://localhost:8080/"
        },
        "id": "hes7VDSoVNb-",
        "outputId": "2800c1ee-a502-45e4-b4e0-0edfebba8871"
      },
      "source": [
        "x = locals()\n",
        "print(x)\n",
        "x"
      ],
      "execution_count": 40,
      "outputs": [
        {
          "output_type": "stream",
          "text": [
            "{'__name__': '__main__', '__doc__': 'Automatically created module for IPython interactive environment', '__package__': None, '__loader__': None, '__spec__': None, '__builtin__': <module 'builtins' (built-in)>, '__builtins__': <module 'builtins' (built-in)>, '_ih': ['', 'x = abs(-7.25)', 'mylist = [True, True, True]\\nx = all(mylist)\\nx', 'x = abs(-7.25)\\nx', 'mylist = [False, True, False]\\nx = any(mylist)', 'mylist = [False, True, False]\\nx = any(mylist)\\nx', 'x = ascii(\"My name is Ståle\")\\nx', 'x = bin(36)\\nx', 'x = bool(1)\\nx', 'x = bytearray(4)\\nx', 'x = bytearray(4)\\nx', 'def x():\\n  a = 5\\nprint(callable(x))', 'x = chr(97)\\nx', \"x = compile('print(55)', 'test', 'eval')\\nexec(x)\", 'x = complex(3, 5)\\nx', 'class Person:\\n  name = \"John\"\\n  age = 36\\n  country = \"Norway\"\\n  \\ndelattr(Person, \\'age\\')', 'x = dict(name = \"John\", age = 36, country = \"Norway\")\\nx', 'x = divmod(5, 2)\\nx', \"x = ('apple', 'banana', 'cherry')\\ny = enumerate(x)\\ny\", \"x = 'print(55)'\\neval(x)\", 'x = \\'name = \"John\"\\\\nprint(name)\\'\\nexec(x)', 'ages = [5, 12, 17, 18, 24, 32]def myFunc(x):\\n  if x < 18:\\n    return False\\n  else:\\n    return True\\n    \\nadults = filter(myFunc, ages)\\n    \\nfor x in adults:\\n  print(x)', 'ages = [5, 12, 17, 18, 24, 32]\\n\\ndef myFunc(x):\\n  if x < 18:\\n    return False\\n  else:\\n    return True\\n    \\nadults = filter(myFunc, ages)\\n    \\nfor x in adults:\\n  print(x)', 'x = float(3)\\nx', \"x = format(0.5, '%')\\nx\", \"mylist = ['apple', 'banana', 'cherry']\\nx = frozenset(mylist)\\nx\", 'class Person:\\n  name = \"John\"\\n  age = 36\\n  country = \"Norway\"\\n  \\nx = getattr(Person, \\'age\\')\\nx', 'class Person:\\n  name = \"John\"\\n  age = 36\\n  country = \"Norway\"\\n  \\nx = getattr(Person, \\'age\\')\\nx', 'class Person:\\n  name = \"John\"\\n  age = 36\\n  country = \"Norway\"\\n  \\nx = hasattr(Person, \\'age\\')\\nx', 'x = hex(255)\\nx', \"x = ('apple', 'banana', 'cherry')\\ny = id(x)\\ny\", \"print('Enter your name:')\\nx = input()\\nprint('Hello, ' + x)\", 'x = int(3.5)\\nx', 'x = isinstance(5, int)\\nx', 'class myAge:\\n  age = 36\\n  \\nclass myObj(myAge):\\n  name = \"John\"\\n  age = myAge\\n  \\nx = issubclass(myObj, myAge)', 'x = iter([\"apple\", \"banana\", \"cherry\"])\\nprint(next(x))\\nprint(next(x))\\nprint(next(x))', 'mylist = [\"apple\", \"banana\", \"cherry\"]\\nx = len(mylist)', 'mylist = [\"apple\", \"banana\", \"cherry\"]\\nx = len(mylist)\\nx', \"x = list(('apple', 'banana', 'cherry'))\\nx\", \"x = list(('apple', 'banana', 'cherry'))\\nx\", 'x = locals()\\nprint(x)\\nx'], '_oh': {2: True, 3: 7.25, 5: True, 6: \"'My name is St\\\\xe5le'\", 7: '0b100100', 8: True, 9: bytearray(b'\\x00\\x00\\x00\\x00'), 10: bytearray(b'\\x00\\x00\\x00\\x00'), 12: 'a', 14: (3+5j), 16: {'name': 'John', 'age': 36, 'country': 'Norway'}, 17: (2, 1), 18: <enumerate object at 0x7fef93490630>, 23: 3.0, 24: '50.000000%', 25: frozenset({'apple', 'banana', 'cherry'}), 26: 36, 27: 36, 28: True, 29: '0xff', 30: 140666944950064, 32: 3, 33: True, 37: 3, 38: ['apple', 'banana', 'cherry'], 39: ['apple', 'banana', 'cherry']}, '_dh': ['/content'], '_sh': <module 'IPython.core.shadowns' from '/usr/local/lib/python3.6/dist-packages/IPython/core/shadowns.py'>, 'In': ['', 'x = abs(-7.25)', 'mylist = [True, True, True]\\nx = all(mylist)\\nx', 'x = abs(-7.25)\\nx', 'mylist = [False, True, False]\\nx = any(mylist)', 'mylist = [False, True, False]\\nx = any(mylist)\\nx', 'x = ascii(\"My name is Ståle\")\\nx', 'x = bin(36)\\nx', 'x = bool(1)\\nx', 'x = bytearray(4)\\nx', 'x = bytearray(4)\\nx', 'def x():\\n  a = 5\\nprint(callable(x))', 'x = chr(97)\\nx', \"x = compile('print(55)', 'test', 'eval')\\nexec(x)\", 'x = complex(3, 5)\\nx', 'class Person:\\n  name = \"John\"\\n  age = 36\\n  country = \"Norway\"\\n  \\ndelattr(Person, \\'age\\')', 'x = dict(name = \"John\", age = 36, country = \"Norway\")\\nx', 'x = divmod(5, 2)\\nx', \"x = ('apple', 'banana', 'cherry')\\ny = enumerate(x)\\ny\", \"x = 'print(55)'\\neval(x)\", 'x = \\'name = \"John\"\\\\nprint(name)\\'\\nexec(x)', 'ages = [5, 12, 17, 18, 24, 32]def myFunc(x):\\n  if x < 18:\\n    return False\\n  else:\\n    return True\\n    \\nadults = filter(myFunc, ages)\\n    \\nfor x in adults:\\n  print(x)', 'ages = [5, 12, 17, 18, 24, 32]\\n\\ndef myFunc(x):\\n  if x < 18:\\n    return False\\n  else:\\n    return True\\n    \\nadults = filter(myFunc, ages)\\n    \\nfor x in adults:\\n  print(x)', 'x = float(3)\\nx', \"x = format(0.5, '%')\\nx\", \"mylist = ['apple', 'banana', 'cherry']\\nx = frozenset(mylist)\\nx\", 'class Person:\\n  name = \"John\"\\n  age = 36\\n  country = \"Norway\"\\n  \\nx = getattr(Person, \\'age\\')\\nx', 'class Person:\\n  name = \"John\"\\n  age = 36\\n  country = \"Norway\"\\n  \\nx = getattr(Person, \\'age\\')\\nx', 'class Person:\\n  name = \"John\"\\n  age = 36\\n  country = \"Norway\"\\n  \\nx = hasattr(Person, \\'age\\')\\nx', 'x = hex(255)\\nx', \"x = ('apple', 'banana', 'cherry')\\ny = id(x)\\ny\", \"print('Enter your name:')\\nx = input()\\nprint('Hello, ' + x)\", 'x = int(3.5)\\nx', 'x = isinstance(5, int)\\nx', 'class myAge:\\n  age = 36\\n  \\nclass myObj(myAge):\\n  name = \"John\"\\n  age = myAge\\n  \\nx = issubclass(myObj, myAge)', 'x = iter([\"apple\", \"banana\", \"cherry\"])\\nprint(next(x))\\nprint(next(x))\\nprint(next(x))', 'mylist = [\"apple\", \"banana\", \"cherry\"]\\nx = len(mylist)', 'mylist = [\"apple\", \"banana\", \"cherry\"]\\nx = len(mylist)\\nx', \"x = list(('apple', 'banana', 'cherry'))\\nx\", \"x = list(('apple', 'banana', 'cherry'))\\nx\", 'x = locals()\\nprint(x)\\nx'], 'Out': {2: True, 3: 7.25, 5: True, 6: \"'My name is St\\\\xe5le'\", 7: '0b100100', 8: True, 9: bytearray(b'\\x00\\x00\\x00\\x00'), 10: bytearray(b'\\x00\\x00\\x00\\x00'), 12: 'a', 14: (3+5j), 16: {'name': 'John', 'age': 36, 'country': 'Norway'}, 17: (2, 1), 18: <enumerate object at 0x7fef93490630>, 23: 3.0, 24: '50.000000%', 25: frozenset({'apple', 'banana', 'cherry'}), 26: 36, 27: 36, 28: True, 29: '0xff', 30: 140666944950064, 32: 3, 33: True, 37: 3, 38: ['apple', 'banana', 'cherry'], 39: ['apple', 'banana', 'cherry']}, 'get_ipython': <bound method InteractiveShell.get_ipython of <google.colab._shell.Shell object at 0x7fef98c7fda0>>, 'exit': <IPython.core.autocall.ZMQExitAutocall object at 0x7fef98235390>, 'quit': <IPython.core.autocall.ZMQExitAutocall object at 0x7fef98235390>, '_': ['apple', 'banana', 'cherry'], '__': ['apple', 'banana', 'cherry'], '___': 3, '_i': \"x = list(('apple', 'banana', 'cherry'))\\nx\", '_ii': \"x = list(('apple', 'banana', 'cherry'))\\nx\", '_iii': 'mylist = [\"apple\", \"banana\", \"cherry\"]\\nx = len(mylist)\\nx', '_i1': 'x = abs(-7.25)', 'x': {...}, '_i2': 'mylist = [True, True, True]\\nx = all(mylist)\\nx', 'mylist': ['apple', 'banana', 'cherry'], '_2': True, '_i3': 'x = abs(-7.25)\\nx', '_3': 7.25, '_i4': 'mylist = [False, True, False]\\nx = any(mylist)', '_i5': 'mylist = [False, True, False]\\nx = any(mylist)\\nx', '_5': True, '_i6': 'x = ascii(\"My name is Ståle\")\\nx', '_6': \"'My name is St\\\\xe5le'\", '_i7': 'x = bin(36)\\nx', '_7': '0b100100', '_i8': 'x = bool(1)\\nx', '_8': True, '_i9': 'x = bytearray(4)\\nx', '_9': bytearray(b'\\x00\\x00\\x00\\x00'), '_i10': 'x = bytearray(4)\\nx', '_10': bytearray(b'\\x00\\x00\\x00\\x00'), '_i11': 'def x():\\n  a = 5\\nprint(callable(x))', '_i12': 'x = chr(97)\\nx', '_12': 'a', '_i13': \"x = compile('print(55)', 'test', 'eval')\\nexec(x)\", '_i14': 'x = complex(3, 5)\\nx', '_14': (3+5j), '_i15': 'class Person:\\n  name = \"John\"\\n  age = 36\\n  country = \"Norway\"\\n  \\ndelattr(Person, \\'age\\')', 'Person': <class '__main__.Person'>, '_i16': 'x = dict(name = \"John\", age = 36, country = \"Norway\")\\nx', '_16': {'name': 'John', 'age': 36, 'country': 'Norway'}, '_i17': 'x = divmod(5, 2)\\nx', '_17': (2, 1), '_i18': \"x = ('apple', 'banana', 'cherry')\\ny = enumerate(x)\\ny\", 'y': 140666944950064, '_18': <enumerate object at 0x7fef93490630>, '_i19': \"x = 'print(55)'\\neval(x)\", '_i20': 'x = \\'name = \"John\"\\\\nprint(name)\\'\\nexec(x)', 'name': 'John', '_i21': 'ages = [5, 12, 17, 18, 24, 32]def myFunc(x):\\n  if x < 18:\\n    return False\\n  else:\\n    return True\\n    \\nadults = filter(myFunc, ages)\\n    \\nfor x in adults:\\n  print(x)', '_i22': 'ages = [5, 12, 17, 18, 24, 32]\\n\\ndef myFunc(x):\\n  if x < 18:\\n    return False\\n  else:\\n    return True\\n    \\nadults = filter(myFunc, ages)\\n    \\nfor x in adults:\\n  print(x)', 'ages': [5, 12, 17, 18, 24, 32], 'myFunc': <function myFunc at 0x7fef934a0730>, 'adults': <filter object at 0x7fef934a2a58>, '_i23': 'x = float(3)\\nx', '_23': 3.0, '_i24': \"x = format(0.5, '%')\\nx\", '_24': '50.000000%', '_i25': \"mylist = ['apple', 'banana', 'cherry']\\nx = frozenset(mylist)\\nx\", '_25': frozenset({'apple', 'banana', 'cherry'}), '_i26': 'class Person:\\n  name = \"John\"\\n  age = 36\\n  country = \"Norway\"\\n  \\nx = getattr(Person, \\'age\\')\\nx', '_26': 36, '_i27': 'class Person:\\n  name = \"John\"\\n  age = 36\\n  country = \"Norway\"\\n  \\nx = getattr(Person, \\'age\\')\\nx', '_27': 36, '_i28': 'class Person:\\n  name = \"John\"\\n  age = 36\\n  country = \"Norway\"\\n  \\nx = hasattr(Person, \\'age\\')\\nx', '_28': True, '_i29': 'x = hex(255)\\nx', '_29': '0xff', '_i30': \"x = ('apple', 'banana', 'cherry')\\ny = id(x)\\ny\", '_30': 140666944950064, '_i31': \"print('Enter your name:')\\nx = input()\\nprint('Hello, ' + x)\", '_i32': 'x = int(3.5)\\nx', '_32': 3, '_i33': 'x = isinstance(5, int)\\nx', '_33': True, '_i34': 'class myAge:\\n  age = 36\\n  \\nclass myObj(myAge):\\n  name = \"John\"\\n  age = myAge\\n  \\nx = issubclass(myObj, myAge)', 'myAge': <class '__main__.myAge'>, 'myObj': <class '__main__.myObj'>, '_i35': 'x = iter([\"apple\", \"banana\", \"cherry\"])\\nprint(next(x))\\nprint(next(x))\\nprint(next(x))', '_i36': 'mylist = [\"apple\", \"banana\", \"cherry\"]\\nx = len(mylist)', '_i37': 'mylist = [\"apple\", \"banana\", \"cherry\"]\\nx = len(mylist)\\nx', '_37': 3, '_i38': \"x = list(('apple', 'banana', 'cherry'))\\nx\", '_38': ['apple', 'banana', 'cherry'], '_i39': \"x = list(('apple', 'banana', 'cherry'))\\nx\", '_39': ['apple', 'banana', 'cherry'], '_i40': 'x = locals()\\nprint(x)\\nx'}\n"
          ],
          "name": "stdout"
        },
        {
          "output_type": "execute_result",
          "data": {
            "text/plain": [
              "{'In': ['',\n",
              "  'x = abs(-7.25)',\n",
              "  'mylist = [True, True, True]\\nx = all(mylist)\\nx',\n",
              "  'x = abs(-7.25)\\nx',\n",
              "  'mylist = [False, True, False]\\nx = any(mylist)',\n",
              "  'mylist = [False, True, False]\\nx = any(mylist)\\nx',\n",
              "  'x = ascii(\"My name is Ståle\")\\nx',\n",
              "  'x = bin(36)\\nx',\n",
              "  'x = bool(1)\\nx',\n",
              "  'x = bytearray(4)\\nx',\n",
              "  'x = bytearray(4)\\nx',\n",
              "  'def x():\\n  a = 5\\nprint(callable(x))',\n",
              "  'x = chr(97)\\nx',\n",
              "  \"x = compile('print(55)', 'test', 'eval')\\nexec(x)\",\n",
              "  'x = complex(3, 5)\\nx',\n",
              "  'class Person:\\n  name = \"John\"\\n  age = 36\\n  country = \"Norway\"\\n  \\ndelattr(Person, \\'age\\')',\n",
              "  'x = dict(name = \"John\", age = 36, country = \"Norway\")\\nx',\n",
              "  'x = divmod(5, 2)\\nx',\n",
              "  \"x = ('apple', 'banana', 'cherry')\\ny = enumerate(x)\\ny\",\n",
              "  \"x = 'print(55)'\\neval(x)\",\n",
              "  'x = \\'name = \"John\"\\\\nprint(name)\\'\\nexec(x)',\n",
              "  'ages = [5, 12, 17, 18, 24, 32]def myFunc(x):\\n  if x < 18:\\n    return False\\n  else:\\n    return True\\n    \\nadults = filter(myFunc, ages)\\n    \\nfor x in adults:\\n  print(x)',\n",
              "  'ages = [5, 12, 17, 18, 24, 32]\\n\\ndef myFunc(x):\\n  if x < 18:\\n    return False\\n  else:\\n    return True\\n    \\nadults = filter(myFunc, ages)\\n    \\nfor x in adults:\\n  print(x)',\n",
              "  'x = float(3)\\nx',\n",
              "  \"x = format(0.5, '%')\\nx\",\n",
              "  \"mylist = ['apple', 'banana', 'cherry']\\nx = frozenset(mylist)\\nx\",\n",
              "  'class Person:\\n  name = \"John\"\\n  age = 36\\n  country = \"Norway\"\\n  \\nx = getattr(Person, \\'age\\')\\nx',\n",
              "  'class Person:\\n  name = \"John\"\\n  age = 36\\n  country = \"Norway\"\\n  \\nx = getattr(Person, \\'age\\')\\nx',\n",
              "  'class Person:\\n  name = \"John\"\\n  age = 36\\n  country = \"Norway\"\\n  \\nx = hasattr(Person, \\'age\\')\\nx',\n",
              "  'x = hex(255)\\nx',\n",
              "  \"x = ('apple', 'banana', 'cherry')\\ny = id(x)\\ny\",\n",
              "  \"print('Enter your name:')\\nx = input()\\nprint('Hello, ' + x)\",\n",
              "  'x = int(3.5)\\nx',\n",
              "  'x = isinstance(5, int)\\nx',\n",
              "  'class myAge:\\n  age = 36\\n  \\nclass myObj(myAge):\\n  name = \"John\"\\n  age = myAge\\n  \\nx = issubclass(myObj, myAge)',\n",
              "  'x = iter([\"apple\", \"banana\", \"cherry\"])\\nprint(next(x))\\nprint(next(x))\\nprint(next(x))',\n",
              "  'mylist = [\"apple\", \"banana\", \"cherry\"]\\nx = len(mylist)',\n",
              "  'mylist = [\"apple\", \"banana\", \"cherry\"]\\nx = len(mylist)\\nx',\n",
              "  \"x = list(('apple', 'banana', 'cherry'))\\nx\",\n",
              "  \"x = list(('apple', 'banana', 'cherry'))\\nx\",\n",
              "  'x = locals()\\nprint(x)\\nx'],\n",
              " 'Out': {2: True,\n",
              "  3: 7.25,\n",
              "  5: True,\n",
              "  6: \"'My name is St\\\\xe5le'\",\n",
              "  7: '0b100100',\n",
              "  8: True,\n",
              "  9: bytearray(b'\\x00\\x00\\x00\\x00'),\n",
              "  10: bytearray(b'\\x00\\x00\\x00\\x00'),\n",
              "  12: 'a',\n",
              "  14: (3+5j),\n",
              "  16: {'age': 36, 'country': 'Norway', 'name': 'John'},\n",
              "  17: (2, 1),\n",
              "  18: <enumerate at 0x7fef93490630>,\n",
              "  23: 3.0,\n",
              "  24: '50.000000%',\n",
              "  25: frozenset({'apple', 'banana', 'cherry'}),\n",
              "  26: 36,\n",
              "  27: 36,\n",
              "  28: True,\n",
              "  29: '0xff',\n",
              "  30: 140666944950064,\n",
              "  32: 3,\n",
              "  33: True,\n",
              "  37: 3,\n",
              "  38: ['apple', 'banana', 'cherry'],\n",
              "  39: ['apple', 'banana', 'cherry']},\n",
              " 'Person': __main__.Person,\n",
              " '_': ['apple', 'banana', 'cherry'],\n",
              " '_10': bytearray(b'\\x00\\x00\\x00\\x00'),\n",
              " '_12': 'a',\n",
              " '_14': (3+5j),\n",
              " '_16': {'age': 36, 'country': 'Norway', 'name': 'John'},\n",
              " '_17': (2, 1),\n",
              " '_18': <enumerate at 0x7fef93490630>,\n",
              " '_2': True,\n",
              " '_23': 3.0,\n",
              " '_24': '50.000000%',\n",
              " '_25': frozenset({'apple', 'banana', 'cherry'}),\n",
              " '_26': 36,\n",
              " '_27': 36,\n",
              " '_28': True,\n",
              " '_29': '0xff',\n",
              " '_3': 7.25,\n",
              " '_30': 140666944950064,\n",
              " '_32': 3,\n",
              " '_33': True,\n",
              " '_37': 3,\n",
              " '_38': ['apple', 'banana', 'cherry'],\n",
              " '_39': ['apple', 'banana', 'cherry'],\n",
              " '_5': True,\n",
              " '_6': \"'My name is St\\\\xe5le'\",\n",
              " '_7': '0b100100',\n",
              " '_8': True,\n",
              " '_9': bytearray(b'\\x00\\x00\\x00\\x00'),\n",
              " '__': ['apple', 'banana', 'cherry'],\n",
              " '___': 3,\n",
              " '__builtin__': <module 'builtins' (built-in)>,\n",
              " '__builtins__': <module 'builtins' (built-in)>,\n",
              " '__doc__': 'Automatically created module for IPython interactive environment',\n",
              " '__loader__': None,\n",
              " '__name__': '__main__',\n",
              " '__package__': None,\n",
              " '__spec__': None,\n",
              " '_dh': ['/content'],\n",
              " '_i': \"x = list(('apple', 'banana', 'cherry'))\\nx\",\n",
              " '_i1': 'x = abs(-7.25)',\n",
              " '_i10': 'x = bytearray(4)\\nx',\n",
              " '_i11': 'def x():\\n  a = 5\\nprint(callable(x))',\n",
              " '_i12': 'x = chr(97)\\nx',\n",
              " '_i13': \"x = compile('print(55)', 'test', 'eval')\\nexec(x)\",\n",
              " '_i14': 'x = complex(3, 5)\\nx',\n",
              " '_i15': 'class Person:\\n  name = \"John\"\\n  age = 36\\n  country = \"Norway\"\\n  \\ndelattr(Person, \\'age\\')',\n",
              " '_i16': 'x = dict(name = \"John\", age = 36, country = \"Norway\")\\nx',\n",
              " '_i17': 'x = divmod(5, 2)\\nx',\n",
              " '_i18': \"x = ('apple', 'banana', 'cherry')\\ny = enumerate(x)\\ny\",\n",
              " '_i19': \"x = 'print(55)'\\neval(x)\",\n",
              " '_i2': 'mylist = [True, True, True]\\nx = all(mylist)\\nx',\n",
              " '_i20': 'x = \\'name = \"John\"\\\\nprint(name)\\'\\nexec(x)',\n",
              " '_i21': 'ages = [5, 12, 17, 18, 24, 32]def myFunc(x):\\n  if x < 18:\\n    return False\\n  else:\\n    return True\\n    \\nadults = filter(myFunc, ages)\\n    \\nfor x in adults:\\n  print(x)',\n",
              " '_i22': 'ages = [5, 12, 17, 18, 24, 32]\\n\\ndef myFunc(x):\\n  if x < 18:\\n    return False\\n  else:\\n    return True\\n    \\nadults = filter(myFunc, ages)\\n    \\nfor x in adults:\\n  print(x)',\n",
              " '_i23': 'x = float(3)\\nx',\n",
              " '_i24': \"x = format(0.5, '%')\\nx\",\n",
              " '_i25': \"mylist = ['apple', 'banana', 'cherry']\\nx = frozenset(mylist)\\nx\",\n",
              " '_i26': 'class Person:\\n  name = \"John\"\\n  age = 36\\n  country = \"Norway\"\\n  \\nx = getattr(Person, \\'age\\')\\nx',\n",
              " '_i27': 'class Person:\\n  name = \"John\"\\n  age = 36\\n  country = \"Norway\"\\n  \\nx = getattr(Person, \\'age\\')\\nx',\n",
              " '_i28': 'class Person:\\n  name = \"John\"\\n  age = 36\\n  country = \"Norway\"\\n  \\nx = hasattr(Person, \\'age\\')\\nx',\n",
              " '_i29': 'x = hex(255)\\nx',\n",
              " '_i3': 'x = abs(-7.25)\\nx',\n",
              " '_i30': \"x = ('apple', 'banana', 'cherry')\\ny = id(x)\\ny\",\n",
              " '_i31': \"print('Enter your name:')\\nx = input()\\nprint('Hello, ' + x)\",\n",
              " '_i32': 'x = int(3.5)\\nx',\n",
              " '_i33': 'x = isinstance(5, int)\\nx',\n",
              " '_i34': 'class myAge:\\n  age = 36\\n  \\nclass myObj(myAge):\\n  name = \"John\"\\n  age = myAge\\n  \\nx = issubclass(myObj, myAge)',\n",
              " '_i35': 'x = iter([\"apple\", \"banana\", \"cherry\"])\\nprint(next(x))\\nprint(next(x))\\nprint(next(x))',\n",
              " '_i36': 'mylist = [\"apple\", \"banana\", \"cherry\"]\\nx = len(mylist)',\n",
              " '_i37': 'mylist = [\"apple\", \"banana\", \"cherry\"]\\nx = len(mylist)\\nx',\n",
              " '_i38': \"x = list(('apple', 'banana', 'cherry'))\\nx\",\n",
              " '_i39': \"x = list(('apple', 'banana', 'cherry'))\\nx\",\n",
              " '_i4': 'mylist = [False, True, False]\\nx = any(mylist)',\n",
              " '_i40': 'x = locals()\\nprint(x)\\nx',\n",
              " '_i5': 'mylist = [False, True, False]\\nx = any(mylist)\\nx',\n",
              " '_i6': 'x = ascii(\"My name is Ståle\")\\nx',\n",
              " '_i7': 'x = bin(36)\\nx',\n",
              " '_i8': 'x = bool(1)\\nx',\n",
              " '_i9': 'x = bytearray(4)\\nx',\n",
              " '_ih': ['',\n",
              "  'x = abs(-7.25)',\n",
              "  'mylist = [True, True, True]\\nx = all(mylist)\\nx',\n",
              "  'x = abs(-7.25)\\nx',\n",
              "  'mylist = [False, True, False]\\nx = any(mylist)',\n",
              "  'mylist = [False, True, False]\\nx = any(mylist)\\nx',\n",
              "  'x = ascii(\"My name is Ståle\")\\nx',\n",
              "  'x = bin(36)\\nx',\n",
              "  'x = bool(1)\\nx',\n",
              "  'x = bytearray(4)\\nx',\n",
              "  'x = bytearray(4)\\nx',\n",
              "  'def x():\\n  a = 5\\nprint(callable(x))',\n",
              "  'x = chr(97)\\nx',\n",
              "  \"x = compile('print(55)', 'test', 'eval')\\nexec(x)\",\n",
              "  'x = complex(3, 5)\\nx',\n",
              "  'class Person:\\n  name = \"John\"\\n  age = 36\\n  country = \"Norway\"\\n  \\ndelattr(Person, \\'age\\')',\n",
              "  'x = dict(name = \"John\", age = 36, country = \"Norway\")\\nx',\n",
              "  'x = divmod(5, 2)\\nx',\n",
              "  \"x = ('apple', 'banana', 'cherry')\\ny = enumerate(x)\\ny\",\n",
              "  \"x = 'print(55)'\\neval(x)\",\n",
              "  'x = \\'name = \"John\"\\\\nprint(name)\\'\\nexec(x)',\n",
              "  'ages = [5, 12, 17, 18, 24, 32]def myFunc(x):\\n  if x < 18:\\n    return False\\n  else:\\n    return True\\n    \\nadults = filter(myFunc, ages)\\n    \\nfor x in adults:\\n  print(x)',\n",
              "  'ages = [5, 12, 17, 18, 24, 32]\\n\\ndef myFunc(x):\\n  if x < 18:\\n    return False\\n  else:\\n    return True\\n    \\nadults = filter(myFunc, ages)\\n    \\nfor x in adults:\\n  print(x)',\n",
              "  'x = float(3)\\nx',\n",
              "  \"x = format(0.5, '%')\\nx\",\n",
              "  \"mylist = ['apple', 'banana', 'cherry']\\nx = frozenset(mylist)\\nx\",\n",
              "  'class Person:\\n  name = \"John\"\\n  age = 36\\n  country = \"Norway\"\\n  \\nx = getattr(Person, \\'age\\')\\nx',\n",
              "  'class Person:\\n  name = \"John\"\\n  age = 36\\n  country = \"Norway\"\\n  \\nx = getattr(Person, \\'age\\')\\nx',\n",
              "  'class Person:\\n  name = \"John\"\\n  age = 36\\n  country = \"Norway\"\\n  \\nx = hasattr(Person, \\'age\\')\\nx',\n",
              "  'x = hex(255)\\nx',\n",
              "  \"x = ('apple', 'banana', 'cherry')\\ny = id(x)\\ny\",\n",
              "  \"print('Enter your name:')\\nx = input()\\nprint('Hello, ' + x)\",\n",
              "  'x = int(3.5)\\nx',\n",
              "  'x = isinstance(5, int)\\nx',\n",
              "  'class myAge:\\n  age = 36\\n  \\nclass myObj(myAge):\\n  name = \"John\"\\n  age = myAge\\n  \\nx = issubclass(myObj, myAge)',\n",
              "  'x = iter([\"apple\", \"banana\", \"cherry\"])\\nprint(next(x))\\nprint(next(x))\\nprint(next(x))',\n",
              "  'mylist = [\"apple\", \"banana\", \"cherry\"]\\nx = len(mylist)',\n",
              "  'mylist = [\"apple\", \"banana\", \"cherry\"]\\nx = len(mylist)\\nx',\n",
              "  \"x = list(('apple', 'banana', 'cherry'))\\nx\",\n",
              "  \"x = list(('apple', 'banana', 'cherry'))\\nx\",\n",
              "  'x = locals()\\nprint(x)\\nx'],\n",
              " '_ii': \"x = list(('apple', 'banana', 'cherry'))\\nx\",\n",
              " '_iii': 'mylist = [\"apple\", \"banana\", \"cherry\"]\\nx = len(mylist)\\nx',\n",
              " '_oh': {2: True,\n",
              "  3: 7.25,\n",
              "  5: True,\n",
              "  6: \"'My name is St\\\\xe5le'\",\n",
              "  7: '0b100100',\n",
              "  8: True,\n",
              "  9: bytearray(b'\\x00\\x00\\x00\\x00'),\n",
              "  10: bytearray(b'\\x00\\x00\\x00\\x00'),\n",
              "  12: 'a',\n",
              "  14: (3+5j),\n",
              "  16: {'age': 36, 'country': 'Norway', 'name': 'John'},\n",
              "  17: (2, 1),\n",
              "  18: <enumerate at 0x7fef93490630>,\n",
              "  23: 3.0,\n",
              "  24: '50.000000%',\n",
              "  25: frozenset({'apple', 'banana', 'cherry'}),\n",
              "  26: 36,\n",
              "  27: 36,\n",
              "  28: True,\n",
              "  29: '0xff',\n",
              "  30: 140666944950064,\n",
              "  32: 3,\n",
              "  33: True,\n",
              "  37: 3,\n",
              "  38: ['apple', 'banana', 'cherry'],\n",
              "  39: ['apple', 'banana', 'cherry']},\n",
              " '_sh': <module 'IPython.core.shadowns' from '/usr/local/lib/python3.6/dist-packages/IPython/core/shadowns.py'>,\n",
              " 'adults': <filter at 0x7fef934a2a58>,\n",
              " 'ages': [5, 12, 17, 18, 24, 32],\n",
              " 'exit': <IPython.core.autocall.ZMQExitAutocall at 0x7fef98235390>,\n",
              " 'get_ipython': <bound method InteractiveShell.get_ipython of <google.colab._shell.Shell object at 0x7fef98c7fda0>>,\n",
              " 'myAge': __main__.myAge,\n",
              " 'myFunc': <function __main__.myFunc>,\n",
              " 'myObj': __main__.myObj,\n",
              " 'mylist': ['apple', 'banana', 'cherry'],\n",
              " 'name': 'John',\n",
              " 'quit': <IPython.core.autocall.ZMQExitAutocall at 0x7fef98235390>,\n",
              " 'x': {...},\n",
              " 'y': 140666944950064}"
            ]
          },
          "metadata": {
            "tags": []
          },
          "execution_count": 40
        }
      ]
    },
    {
      "cell_type": "code",
      "metadata": {
        "colab": {
          "base_uri": "https://localhost:8080/"
        },
        "id": "EiHVq7r3VOkn",
        "outputId": "85a36a1d-a066-4895-e798-4cafa55174b5"
      },
      "source": [
        "def myfunc(n):\n",
        "  return len(n)\n",
        "  \n",
        "x = map(myfunc, ('apple', 'banana', 'cherry'))\n",
        "list(x)"
      ],
      "execution_count": 43,
      "outputs": [
        {
          "output_type": "execute_result",
          "data": {
            "text/plain": [
              "[5, 6, 6]"
            ]
          },
          "metadata": {
            "tags": []
          },
          "execution_count": 43
        }
      ]
    },
    {
      "cell_type": "code",
      "metadata": {
        "colab": {
          "base_uri": "https://localhost:8080/"
        },
        "id": "7QLKEK-RVQ9N",
        "outputId": "9a455222-d8ab-4797-ec8b-c232511e1d17"
      },
      "source": [
        "x = max(5, 10)\n",
        "x"
      ],
      "execution_count": 44,
      "outputs": [
        {
          "output_type": "execute_result",
          "data": {
            "text/plain": [
              "10"
            ]
          },
          "metadata": {
            "tags": []
          },
          "execution_count": 44
        }
      ]
    },
    {
      "cell_type": "code",
      "metadata": {
        "colab": {
          "base_uri": "https://localhost:8080/"
        },
        "id": "G2M8_WSxVXNk",
        "outputId": "eac7bb23-921f-4439-bb0a-6f627e8c5eef"
      },
      "source": [
        "x = memoryview(b\"Hello\")\n",
        "\n",
        "print(x)\n",
        "\n",
        "#return the Unicode of the first character\n",
        "print(x[0])\n",
        "\n",
        "#return the Unicode of the second character\n",
        "print(x[1])"
      ],
      "execution_count": 45,
      "outputs": [
        {
          "output_type": "stream",
          "text": [
            "<memory at 0x7fef94f0cf48>\n",
            "72\n",
            "101\n"
          ],
          "name": "stdout"
        }
      ]
    },
    {
      "cell_type": "code",
      "metadata": {
        "colab": {
          "base_uri": "https://localhost:8080/"
        },
        "id": "x2I2JFlIVaCE",
        "outputId": "3f1be52b-6f7a-443b-f62f-eb65ae91d0c4"
      },
      "source": [
        "x = min(5, 10)\n",
        "x"
      ],
      "execution_count": 46,
      "outputs": [
        {
          "output_type": "execute_result",
          "data": {
            "text/plain": [
              "5"
            ]
          },
          "metadata": {
            "tags": []
          },
          "execution_count": 46
        }
      ]
    },
    {
      "cell_type": "code",
      "metadata": {
        "colab": {
          "base_uri": "https://localhost:8080/"
        },
        "id": "l9hqUL8lVbR2",
        "outputId": "a459bb4f-9271-496a-d4a7-83c9a59a10ad"
      },
      "source": [
        "mylist = iter([\"apple\", \"banana\", \"cherry\"])\n",
        "x = next(mylist)\n",
        "print(x)\n",
        "x = next(mylist)\n",
        "print(x)\n",
        "x = next(mylist)\n",
        "print(x)"
      ],
      "execution_count": 47,
      "outputs": [
        {
          "output_type": "stream",
          "text": [
            "apple\n",
            "banana\n",
            "cherry\n"
          ],
          "name": "stdout"
        }
      ]
    },
    {
      "cell_type": "code",
      "metadata": {
        "colab": {
          "base_uri": "https://localhost:8080/"
        },
        "id": "apCIFRY0Vcrr",
        "outputId": "ce799438-35c2-4111-de04-14648a786221"
      },
      "source": [
        "x = object()\n",
        "x"
      ],
      "execution_count": 48,
      "outputs": [
        {
          "output_type": "execute_result",
          "data": {
            "text/plain": [
              "<object at 0x7fef956b6400>"
            ]
          },
          "metadata": {
            "tags": []
          },
          "execution_count": 48
        }
      ]
    },
    {
      "cell_type": "code",
      "metadata": {
        "colab": {
          "base_uri": "https://localhost:8080/",
          "height": 37
        },
        "id": "bSPrp5CSVeDQ",
        "outputId": "e83cfb14-0b80-4051-c071-ab4cb57dbd4e"
      },
      "source": [
        "x = oct(12)\n",
        "x"
      ],
      "execution_count": 49,
      "outputs": [
        {
          "output_type": "execute_result",
          "data": {
            "application/vnd.google.colaboratory.intrinsic+json": {
              "type": "string"
            },
            "text/plain": [
              "'0o14'"
            ]
          },
          "metadata": {
            "tags": []
          },
          "execution_count": 49
        }
      ]
    },
    {
      "cell_type": "code",
      "metadata": {
        "id": "VQp726T9Ve-f"
      },
      "source": [
        "f = open(\"demofile.txt\", \"r\")\n",
        "print(f.read())"
      ],
      "execution_count": 50,
      "outputs": []
    },
    {
      "cell_type": "code",
      "metadata": {
        "colab": {
          "base_uri": "https://localhost:8080/"
        },
        "id": "fFeWH6ZbVgNB",
        "outputId": "2639b7d6-46e8-41e8-ef37-bd12bc044148"
      },
      "source": [
        "x = ord(\"h\")\n",
        "x"
      ],
      "execution_count": 51,
      "outputs": [
        {
          "output_type": "execute_result",
          "data": {
            "text/plain": [
              "104"
            ]
          },
          "metadata": {
            "tags": []
          },
          "execution_count": 51
        }
      ]
    },
    {
      "cell_type": "code",
      "metadata": {
        "colab": {
          "base_uri": "https://localhost:8080/"
        },
        "id": "VNFzhThiVhya",
        "outputId": "29eeddf6-3293-4b4d-bf40-883f36f268c5"
      },
      "source": [
        "x = pow(4, 3)\n",
        "x"
      ],
      "execution_count": 52,
      "outputs": [
        {
          "output_type": "execute_result",
          "data": {
            "text/plain": [
              "64"
            ]
          },
          "metadata": {
            "tags": []
          },
          "execution_count": 52
        }
      ]
    },
    {
      "cell_type": "code",
      "metadata": {
        "colab": {
          "base_uri": "https://localhost:8080/"
        },
        "id": "Pph9RXtHViuq",
        "outputId": "34b6e65c-d53f-4b54-c2f4-8c608f68243c"
      },
      "source": [
        "print(\"Hello World\")"
      ],
      "execution_count": 53,
      "outputs": [
        {
          "output_type": "stream",
          "text": [
            "Hello World\n"
          ],
          "name": "stdout"
        }
      ]
    },
    {
      "cell_type": "code",
      "metadata": {
        "colab": {
          "base_uri": "https://localhost:8080/"
        },
        "id": "1RDWsI8fVjlB",
        "outputId": "261a610a-bdc7-4834-a00a-f45ed953c38c"
      },
      "source": [
        "x = range(6)\n",
        "for n in x:\n",
        "  print(n)"
      ],
      "execution_count": 54,
      "outputs": [
        {
          "output_type": "stream",
          "text": [
            "0\n",
            "1\n",
            "2\n",
            "3\n",
            "4\n",
            "5\n"
          ],
          "name": "stdout"
        }
      ]
    },
    {
      "cell_type": "code",
      "metadata": {
        "colab": {
          "base_uri": "https://localhost:8080/"
        },
        "id": "7B3k_htxVkml",
        "outputId": "cebe68d4-51b7-4555-8334-6dcaa61fd743"
      },
      "source": [
        "alph = [\"a\", \"b\", \"c\", \"d\"]\n",
        "ralph = reversed(alph)\n",
        "for x in ralph:\n",
        "  print(x)"
      ],
      "execution_count": 55,
      "outputs": [
        {
          "output_type": "stream",
          "text": [
            "d\n",
            "c\n",
            "b\n",
            "a\n"
          ],
          "name": "stdout"
        }
      ]
    },
    {
      "cell_type": "code",
      "metadata": {
        "colab": {
          "base_uri": "https://localhost:8080/"
        },
        "id": "qIT7qSndVl46",
        "outputId": "ee15ad0b-dbc2-4e14-a7ca-8b466f7aa50f"
      },
      "source": [
        "x = round(5.76543, 2)\n",
        "print(x)"
      ],
      "execution_count": 56,
      "outputs": [
        {
          "output_type": "stream",
          "text": [
            "5.77\n"
          ],
          "name": "stdout"
        }
      ]
    },
    {
      "cell_type": "code",
      "metadata": {
        "colab": {
          "base_uri": "https://localhost:8080/"
        },
        "id": "c7DTK6VsVm5x",
        "outputId": "c4915f58-df95-40f2-8dd9-8e330ab58619"
      },
      "source": [
        "x = round(5.76543, 2)\n",
        "print(x)"
      ],
      "execution_count": 57,
      "outputs": [
        {
          "output_type": "stream",
          "text": [
            "5.77\n"
          ],
          "name": "stdout"
        }
      ]
    },
    {
      "cell_type": "code",
      "metadata": {
        "colab": {
          "base_uri": "https://localhost:8080/"
        },
        "id": "mB3tSM3bVn6G",
        "outputId": "2c8e775d-f0b4-4504-8c03-6ea8593c7e15"
      },
      "source": [
        "x = set(('apple', 'banana', 'cherry'))\n",
        "x"
      ],
      "execution_count": 58,
      "outputs": [
        {
          "output_type": "execute_result",
          "data": {
            "text/plain": [
              "{'apple', 'banana', 'cherry'}"
            ]
          },
          "metadata": {
            "tags": []
          },
          "execution_count": 58
        }
      ]
    },
    {
      "cell_type": "code",
      "metadata": {
        "id": "731iHhldVpG4"
      },
      "source": [
        "class Person:\n",
        "  name = \"John\"\n",
        "  age = 36\n",
        "  country = \"Norway\"\n",
        "\n",
        "setattr(Person, 'age', 40)"
      ],
      "execution_count": 59,
      "outputs": []
    },
    {
      "cell_type": "code",
      "metadata": {
        "colab": {
          "base_uri": "https://localhost:8080/"
        },
        "id": "y8wxf8I-VqJ7",
        "outputId": "cc02586a-ea8a-4dc7-ec2d-ac9c55c0b4ab"
      },
      "source": [
        "a = (\"a\", \"b\", \"c\", \"d\", \"e\", \"f\", \"g\", \"h\")\n",
        "x = slice(2)\n",
        "print(a[x])"
      ],
      "execution_count": 60,
      "outputs": [
        {
          "output_type": "stream",
          "text": [
            "('a', 'b')\n"
          ],
          "name": "stdout"
        }
      ]
    },
    {
      "cell_type": "code",
      "metadata": {
        "colab": {
          "base_uri": "https://localhost:8080/"
        },
        "id": "xxP9E_r0VrfR",
        "outputId": "cd15028b-41e6-4ca0-8706-62e921374bf3"
      },
      "source": [
        "a = (\"b\", \"g\", \"a\", \"d\", \"f\", \"c\", \"h\", \"e\")\n",
        "x = sorted(a)\n",
        "print(x)"
      ],
      "execution_count": 61,
      "outputs": [
        {
          "output_type": "stream",
          "text": [
            "['a', 'b', 'c', 'd', 'e', 'f', 'g', 'h']\n"
          ],
          "name": "stdout"
        }
      ]
    },
    {
      "cell_type": "code",
      "metadata": {
        "colab": {
          "base_uri": "https://localhost:8080/",
          "height": 37
        },
        "id": "DAJFnxD-Vtjd",
        "outputId": "6b461430-9d40-4c2c-c053-bb56abd9a7d3"
      },
      "source": [
        "x = str(3.5)\n",
        "x"
      ],
      "execution_count": 62,
      "outputs": [
        {
          "output_type": "execute_result",
          "data": {
            "application/vnd.google.colaboratory.intrinsic+json": {
              "type": "string"
            },
            "text/plain": [
              "'3.5'"
            ]
          },
          "metadata": {
            "tags": []
          },
          "execution_count": 62
        }
      ]
    },
    {
      "cell_type": "code",
      "metadata": {
        "colab": {
          "base_uri": "https://localhost:8080/"
        },
        "id": "YIZgolGSVvEE",
        "outputId": "36e323de-d933-4bc8-abe0-a203aa8e8403"
      },
      "source": [
        "a = (1, 2, 3, 4, 5)\n",
        "x = sum(a)\n",
        "x"
      ],
      "execution_count": 63,
      "outputs": [
        {
          "output_type": "execute_result",
          "data": {
            "text/plain": [
              "15"
            ]
          },
          "metadata": {
            "tags": []
          },
          "execution_count": 63
        }
      ]
    },
    {
      "cell_type": "code",
      "metadata": {
        "colab": {
          "base_uri": "https://localhost:8080/"
        },
        "id": "SWDJEpzCVwpq",
        "outputId": "45a6875c-0680-490a-eed8-8e58f41f13db"
      },
      "source": [
        "class Parent:\n",
        "  def __init__(self, txt):\n",
        "    self.message = txt\n",
        "\n",
        "  def printmessage(self):\n",
        "    print(self.message)\n",
        "\n",
        "class Child(Parent):\n",
        "  def __init__(self, txt):\n",
        "    super().__init__(txt)\n",
        "\n",
        "x = Child(\"Hello, and welcome!\")\n",
        "\n",
        "x.printmessage()"
      ],
      "execution_count": 64,
      "outputs": [
        {
          "output_type": "stream",
          "text": [
            "Hello, and welcome!\n"
          ],
          "name": "stdout"
        }
      ]
    },
    {
      "cell_type": "code",
      "metadata": {
        "colab": {
          "base_uri": "https://localhost:8080/"
        },
        "id": "kU3vVg2UV1Wz",
        "outputId": "b2473f36-deda-4a3a-b1ea-62eaf3cef4bd"
      },
      "source": [
        "x = tuple(('apple', 'banana', 'cherry'))\n",
        "x"
      ],
      "execution_count": 65,
      "outputs": [
        {
          "output_type": "execute_result",
          "data": {
            "text/plain": [
              "('apple', 'banana', 'cherry')"
            ]
          },
          "metadata": {
            "tags": []
          },
          "execution_count": 65
        }
      ]
    },
    {
      "cell_type": "code",
      "metadata": {
        "colab": {
          "base_uri": "https://localhost:8080/"
        },
        "id": "Jc-Z_g37V5AQ",
        "outputId": "bd4c8659-7df8-4dca-ec62-9db057d0f78a"
      },
      "source": [
        "a = ('apple', 'banana', 'cherry')\n",
        "b = \"Hello World\"\n",
        "c = 33\n",
        "\n",
        "x = type(a)\n",
        "print(x)\n",
        "y = type(b)\n",
        "print(y)\n",
        "z = type(c)\n",
        "print(z)"
      ],
      "execution_count": 66,
      "outputs": [
        {
          "output_type": "stream",
          "text": [
            "<class 'tuple'>\n",
            "<class 'str'>\n",
            "<class 'int'>\n"
          ],
          "name": "stdout"
        }
      ]
    },
    {
      "cell_type": "code",
      "metadata": {
        "colab": {
          "base_uri": "https://localhost:8080/"
        },
        "id": "QlWRaquZWJRT",
        "outputId": "c8d510b9-0c42-4c5f-91ad-f8d4ace187d3"
      },
      "source": [
        "class Person:\n",
        "  name = \"John\"\n",
        "  age = 36\n",
        "  country = \"norway\"\n",
        "\n",
        "x = vars(Person)\n",
        "x"
      ],
      "execution_count": 67,
      "outputs": [
        {
          "output_type": "execute_result",
          "data": {
            "text/plain": [
              "mappingproxy({'__dict__': <attribute '__dict__' of 'Person' objects>,\n",
              "              '__doc__': None,\n",
              "              '__module__': '__main__',\n",
              "              '__weakref__': <attribute '__weakref__' of 'Person' objects>,\n",
              "              'age': 36,\n",
              "              'country': 'norway',\n",
              "              'name': 'John'})"
            ]
          },
          "metadata": {
            "tags": []
          },
          "execution_count": 67
        }
      ]
    },
    {
      "cell_type": "code",
      "metadata": {
        "colab": {
          "base_uri": "https://localhost:8080/"
        },
        "id": "rzxh48Q9WKzE",
        "outputId": "afef0327-6a46-4477-9f30-da88a9d78bd9"
      },
      "source": [
        "a = (\"John\", \"Charles\", \"Mike\")\n",
        "b = (\"Jenny\", \"Christy\", \"Monica\")\n",
        "\n",
        "x = zip(a, b)\n",
        "list(x)"
      ],
      "execution_count": 69,
      "outputs": [
        {
          "output_type": "execute_result",
          "data": {
            "text/plain": [
              "[('John', 'Jenny'), ('Charles', 'Christy'), ('Mike', 'Monica')]"
            ]
          },
          "metadata": {
            "tags": []
          },
          "execution_count": 69
        }
      ]
    }
  ]
}