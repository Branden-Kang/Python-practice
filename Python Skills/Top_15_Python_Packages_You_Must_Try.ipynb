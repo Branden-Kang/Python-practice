{
  "nbformat": 4,
  "nbformat_minor": 0,
  "metadata": {
    "colab": {
      "name": "Top 15 Python Packages You Must Try.ipynb",
      "provenance": [],
      "authorship_tag": "ABX9TyNzRGDWOpCR4ewxRRMQf0xe"
    },
    "kernelspec": {
      "name": "python3",
      "display_name": "Python 3"
    }
  },
  "cells": [
    {
      "cell_type": "markdown",
      "metadata": {
        "id": "YFWs6ETj_sL9"
      },
      "source": [
        "[Reference](https://medium.com/tech-explained/top-15-python-packages-you-must-try-c6a877ed3cd0)"
      ]
    },
    {
      "cell_type": "markdown",
      "metadata": {
        "id": "FOoWyFIt_wd5"
      },
      "source": [
        "# 1. Dash"
      ]
    },
    {
      "cell_type": "markdown",
      "metadata": {
        "id": "HhdR005j_0As"
      },
      "source": [
        "![Dash](https://user-images.githubusercontent.com/15622051/57103494-ecf76600-6cf3-11e9-9a7c-90856252bf3b.png)"
      ]
    },
    {
      "cell_type": "markdown",
      "metadata": {
        "id": "6QiQBThdANm_"
      },
      "source": [
        "# 2. PyGame\n",
        "Pygame is a Python wrapper module for the SDL multimedia library."
      ]
    },
    {
      "cell_type": "markdown",
      "metadata": {
        "id": "0R3i8ew5AWsi"
      },
      "source": [
        "# 3. Pillow\n",
        "It is the Python Image Library.\n",
        "```python\n",
        "from PIL import Image\n",
        "\n",
        "im = Image.open(\"photo.jpg\")\n",
        "im.show()\n",
        "print(im.format, im.size, im.mode)\n",
        "```"
      ]
    },
    {
      "cell_type": "markdown",
      "metadata": {
        "id": "41Lmhr4_An74"
      },
      "source": [
        "# 4. Colorama\n",
        "```python\n",
        "from colorama import Fore, Back, Style\n",
        "\n",
        "# colorama.init() # For windows\n",
        "\n",
        "print(Fore.RED + 'some red text')\n",
        "print(Back.GREEN + 'and with a green background')\n",
        "print(Style.DIM + 'and in dim text')\n",
        "print(Style.RESET_ALL)\n",
        "print('back to normal now')\n",
        "```"
      ]
    },
    {
      "cell_type": "markdown",
      "metadata": {
        "id": "DhUR9F7IA5ud"
      },
      "source": [
        "# 5. JmesPath\n",
        "It helps using JSON in Python."
      ]
    },
    {
      "cell_type": "code",
      "metadata": {
        "id": "_QxbN97dBLNB",
        "outputId": "f763b038-1ec8-4ab2-d317-dcc5851568ea",
        "colab": {
          "base_uri": "https://localhost:8080/",
          "height": 105
        }
      },
      "source": [
        "!pip install jmespath"
      ],
      "execution_count": 2,
      "outputs": [
        {
          "output_type": "stream",
          "text": [
            "Collecting jmespath\n",
            "  Downloading https://files.pythonhosted.org/packages/07/cb/5f001272b6faeb23c1c9e0acc04d48eaaf5c862c17709d20e3469c6e0139/jmespath-0.10.0-py2.py3-none-any.whl\n",
            "Installing collected packages: jmespath\n",
            "Successfully installed jmespath-0.10.0\n"
          ],
          "name": "stdout"
        }
      ]
    },
    {
      "cell_type": "code",
      "metadata": {
        "id": "5eH6AS11_jat",
        "outputId": "8ab1e9a7-32d9-4dc6-c9ef-fe5052d97414",
        "colab": {
          "base_uri": "https://localhost:8080/",
          "height": 51
        }
      },
      "source": [
        "import jmespath\n",
        "\n",
        "# Get a specific element\n",
        "d = {\"foo\": {\"bar\": \"baz\"}}\n",
        "print(jmespath.search('foo.bar', d))\n",
        "\n",
        "# Using a wildcard to get all names\n",
        "d = {\"foo\": {\"bar\": [{\"name\": \"one\"}, {\"name\": \"two\"}]}}\n",
        "print(jmespath.search('foo.bar[*].name', d))"
      ],
      "execution_count": 3,
      "outputs": [
        {
          "output_type": "stream",
          "text": [
            "baz\n",
            "['one', 'two']\n"
          ],
          "name": "stdout"
        }
      ]
    },
    {
      "cell_type": "markdown",
      "metadata": {
        "id": "VUwZGR8pBdDs"
      },
      "source": [
        "# 6. Requests"
      ]
    },
    {
      "cell_type": "code",
      "metadata": {
        "id": "JD9UUuGhBHzL",
        "outputId": "69aaf1b4-0d88-4866-efe6-7953d23fc95f",
        "colab": {
          "base_uri": "https://localhost:8080/",
          "height": 71
        }
      },
      "source": [
        "import requests\n",
        "\n",
        "r = requests.get('https://api.github.com/user', auth=('user', 'pass'))\n",
        "r.status_code\n",
        "r.headers['content-type']\n",
        "r.encoding\n",
        "r.text\n",
        "r.json()"
      ],
      "execution_count": 4,
      "outputs": [
        {
          "output_type": "execute_result",
          "data": {
            "text/plain": [
              "{'documentation_url': 'https://docs.github.com/rest',\n",
              " 'message': 'Maximum number of login attempts exceeded. Please try again later.'}"
            ]
          },
          "metadata": {
            "tags": []
          },
          "execution_count": 4
        }
      ]
    },
    {
      "cell_type": "markdown",
      "metadata": {
        "id": "xtPbj-fXBsYa"
      },
      "source": [
        "# 7. Simplejson\n",
        "Simplejson can be a lot faster than json because it is written in C. And, there is [UltraJSON](https://pypi.org/project/ujson/)."
      ]
    },
    {
      "cell_type": "markdown",
      "metadata": {
        "id": "OwvBS7GDCTxt"
      },
      "source": [
        "# 8. Emoji"
      ]
    },
    {
      "cell_type": "code",
      "metadata": {
        "id": "j1fQqFKYBpI_",
        "outputId": "f42f2167-1165-4ad2-c0c4-05a7d7b0582a",
        "colab": {
          "base_uri": "https://localhost:8080/",
          "height": 207
        }
      },
      "source": [
        "!pip3 install emoji"
      ],
      "execution_count": 5,
      "outputs": [
        {
          "output_type": "stream",
          "text": [
            "Collecting emoji\n",
            "\u001b[?25l  Downloading https://files.pythonhosted.org/packages/ff/1c/1f1457fe52d0b30cbeebfd578483cedb3e3619108d2d5a21380dfecf8ffd/emoji-0.6.0.tar.gz (51kB)\n",
            "\r\u001b[K     |██████▍                         | 10kB 13.1MB/s eta 0:00:01\r\u001b[K     |████████████▉                   | 20kB 4.3MB/s eta 0:00:01\r\u001b[K     |███████████████████▎            | 30kB 5.5MB/s eta 0:00:01\r\u001b[K     |█████████████████████████▊      | 40kB 5.7MB/s eta 0:00:01\r\u001b[K     |████████████████████████████████| 51kB 2.8MB/s \n",
            "\u001b[?25hBuilding wheels for collected packages: emoji\n",
            "  Building wheel for emoji (setup.py) ... \u001b[?25l\u001b[?25hdone\n",
            "  Created wheel for emoji: filename=emoji-0.6.0-cp36-none-any.whl size=49716 sha256=58c4642ffb5ba13923169a3fbed903ba3f965b125b59af1a1347aa8c84ebbda9\n",
            "  Stored in directory: /root/.cache/pip/wheels/46/2c/8b/9dcf5216ca68e14e0320e283692dce8ae321cdc01e73e17796\n",
            "Successfully built emoji\n",
            "Installing collected packages: emoji\n",
            "Successfully installed emoji-0.6.0\n"
          ],
          "name": "stdout"
        }
      ]
    },
    {
      "cell_type": "code",
      "metadata": {
        "id": "BlcQxz2XCZq5",
        "outputId": "fabacde7-3136-41d9-ff7c-3a743ce210b7",
        "colab": {
          "base_uri": "https://localhost:8080/",
          "height": 34
        }
      },
      "source": [
        "import emoji\n",
        "result = emoji.emojize('Python is :thumbs_up:')\n",
        "print(result)"
      ],
      "execution_count": 6,
      "outputs": [
        {
          "output_type": "stream",
          "text": [
            "Python is 👍\n"
          ],
          "name": "stdout"
        }
      ]
    },
    {
      "cell_type": "code",
      "metadata": {
        "id": "G9U81s-gCbo9",
        "outputId": "186589dd-0663-4114-c192-7bd6bd1e7f08",
        "colab": {
          "base_uri": "https://localhost:8080/",
          "height": 34
        }
      },
      "source": [
        "result = emoji.demojize('Python is 👍')\n",
        "print(result)"
      ],
      "execution_count": 7,
      "outputs": [
        {
          "output_type": "stream",
          "text": [
            "Python is :thumbs_up:\n"
          ],
          "name": "stdout"
        }
      ]
    },
    {
      "cell_type": "markdown",
      "metadata": {
        "id": "XGka5rAVCgf3"
      },
      "source": [
        "# 9. Chardet"
      ]
    },
    {
      "cell_type": "markdown",
      "metadata": {
        "id": "vvtbVWLZC6zs"
      },
      "source": [
        "```python\n",
        "chardetect somefile.txt\n",
        "somefile.txt: ascii with confidence 1.0\n",
        "```"
      ]
    },
    {
      "cell_type": "markdown",
      "metadata": {
        "id": "1N6Ylsz7C9SQ"
      },
      "source": [
        "# 10. Python-dateutil"
      ]
    },
    {
      "cell_type": "code",
      "metadata": {
        "id": "o04eEuBqCezJ",
        "outputId": "55a2aba3-144b-471a-a4fe-a4eb9abe88da",
        "colab": {
          "base_uri": "https://localhost:8080/",
          "height": 34
        }
      },
      "source": [
        "from dateutil.parser import parse\n",
        "\n",
        "logline = 'INFO 2020-01-01T00:00:01 Happy new year, human.'\n",
        "timestamp = parse(logline, fuzzy=True)\n",
        "print(timestamp)"
      ],
      "execution_count": 8,
      "outputs": [
        {
          "output_type": "stream",
          "text": [
            "2020-01-01 00:00:01\n"
          ],
          "name": "stdout"
        }
      ]
    },
    {
      "cell_type": "markdown",
      "metadata": {
        "id": "l4o5dp5dDKwZ"
      },
      "source": [
        "# 11. Progress bars: progress and tqdm"
      ]
    },
    {
      "cell_type": "markdown",
      "metadata": {
        "id": "pvybEkQ9DQpJ"
      },
      "source": [
        "## Progress"
      ]
    },
    {
      "cell_type": "code",
      "metadata": {
        "id": "9lh6bZ-iDWx-",
        "outputId": "01e78eaf-6eb7-4ce6-8ceb-b86afa6e9701",
        "colab": {
          "base_uri": "https://localhost:8080/",
          "height": 190
        }
      },
      "source": [
        "!pip install progress"
      ],
      "execution_count": 10,
      "outputs": [
        {
          "output_type": "stream",
          "text": [
            "Collecting progress\n",
            "  Downloading https://files.pythonhosted.org/packages/38/ef/2e887b3d2b248916fc2121889ce68af8a16aaddbe82f9ae6533c24ff0d2b/progress-1.5.tar.gz\n",
            "Building wheels for collected packages: progress\n",
            "  Building wheel for progress (setup.py) ... \u001b[?25l\u001b[?25hdone\n",
            "  Created wheel for progress: filename=progress-1.5-cp36-none-any.whl size=8074 sha256=da70482758e44724fcf155e2277ab745c96556cc16c268121fa6a8721372d7cc\n",
            "  Stored in directory: /root/.cache/pip/wheels/6c/c8/80/32a294e3041f006c661838c05a411c7b7ffc60ff939d14e116\n",
            "Successfully built progress\n",
            "Installing collected packages: progress\n",
            "Successfully installed progress-1.5\n"
          ],
          "name": "stdout"
        }
      ]
    },
    {
      "cell_type": "code",
      "metadata": {
        "id": "g4z3dKhbDBNB"
      },
      "source": [
        "from progress.bar import Bar\n",
        "\n",
        "bar = Bar('Processing', max=20)\n",
        "for i in range(20):\n",
        "    # Do some work\n",
        "    bar.next()\n",
        "bar.finish()"
      ],
      "execution_count": 11,
      "outputs": []
    },
    {
      "cell_type": "markdown",
      "metadata": {
        "id": "Tn-1q-4aDa8p"
      },
      "source": [
        "## tqdm\n",
        "It is similar to progress."
      ]
    },
    {
      "cell_type": "markdown",
      "metadata": {
        "id": "x_dNSf4QDmAl"
      },
      "source": [
        "# 12. IPython\n",
        "IPython is the core for Jupyter notebook."
      ]
    },
    {
      "cell_type": "markdown",
      "metadata": {
        "id": "FzEyhEcGD3Cy"
      },
      "source": [
        "# 13. Homeassistant\n",
        "[Reference](https://pypi.org/project/homeassistant/) <br>"
      ]
    },
    {
      "cell_type": "markdown",
      "metadata": {
        "id": "OQ871waYERg4"
      },
      "source": [
        "# 14. Flask\n",
        "It creates a quick web service or a simple website."
      ]
    },
    {
      "cell_type": "markdown",
      "metadata": {
        "id": "cYmgaIBIEdTK"
      },
      "source": [
        "# 15. Beautiful soup\n",
        "It is a Python library for pulling data out of HTML and XML files."
      ]
    }
  ]
}