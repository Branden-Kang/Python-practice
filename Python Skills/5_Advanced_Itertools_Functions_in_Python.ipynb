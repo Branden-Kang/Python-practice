{
  "nbformat": 4,
  "nbformat_minor": 0,
  "metadata": {
    "colab": {
      "name": "5 Advanced Itertools Functions in Python.ipynb",
      "provenance": [],
      "authorship_tag": "ABX9TyPvv5aLmJ9vrv5wtq5arhQV"
    },
    "kernelspec": {
      "name": "python3",
      "display_name": "Python 3"
    }
  },
  "cells": [
    {
      "cell_type": "markdown",
      "metadata": {
        "id": "vj0X_9ddF8OX"
      },
      "source": [
        "[Reference](https://towardsdatascience.com/5-advanced-functions-in-itertools-to-simplify-iterations-in-python-c6213312ca47)"
      ]
    },
    {
      "cell_type": "markdown",
      "metadata": {
        "id": "UO5Kvj3dF_ld"
      },
      "source": [
        "```python\n",
        "file_list = [path0, path1, path2, ..., pathN]\n",
        "with open(file_list[0]) as file:\n",
        "    # do something with the file\n",
        "\n",
        "with open(file_list[1]) as file:\n",
        "    # do something with the file\n",
        "\n",
        "#...\n",
        "#...\n",
        "\n",
        "with open(file_list[-1]) as file:\n",
        "    # do something with the file\n",
        "```\n",
        "\n",
        "```python\n",
        "file_list = [path0, path1, path2, ..., pathN]\n",
        "\n",
        "for file_path in file_list:\n",
        "  with open(file_path) as file:\n",
        "\n",
        "```"
      ]
    },
    {
      "cell_type": "code",
      "metadata": {
        "id": "O_jE-LDpF4Es",
        "outputId": "bd2396e0-ee5b-4764-fe01-c824c7d995f2",
        "colab": {
          "base_uri": "https://localhost:8080/"
        }
      },
      "source": [
        "for number in range(0, 3):\n",
        "    print(number)"
      ],
      "execution_count": 1,
      "outputs": [
        {
          "output_type": "stream",
          "text": [
            "0\n",
            "1\n",
            "2\n"
          ],
          "name": "stdout"
        }
      ]
    },
    {
      "cell_type": "code",
      "metadata": {
        "id": "j9twvH14GFs9",
        "outputId": "133ad9f6-8eec-4ca3-dfc6-09474211b4ca",
        "colab": {
          "base_uri": "https://localhost:8080/"
        }
      },
      "source": [
        "students = ['John', 'Mike', 'David']\n",
        "# Use enumerate()\n",
        "for (student_id, student) in enumerate(students, 27001):\n",
        "     print(f'{student}, id: {student_id}')"
      ],
      "execution_count": 2,
      "outputs": [
        {
          "output_type": "stream",
          "text": [
            "John, id: 27001\n",
            "Mike, id: 27002\n",
            "David, id: 27003\n"
          ],
          "name": "stdout"
        }
      ]
    },
    {
      "cell_type": "code",
      "metadata": {
        "id": "VdZ9SVPeGLZl",
        "outputId": "8a13d1ba-9c55-4e71-a856-8c58537af915",
        "colab": {
          "base_uri": "https://localhost:8080/"
        }
      },
      "source": [
        "activities = ['Basketball', 'Soccer', 'Tennis']\n",
        "# Use reversed()\n",
        "for activity in reversed(activities):\n",
        "     print(activity)"
      ],
      "execution_count": 3,
      "outputs": [
        {
          "output_type": "stream",
          "text": [
            "Tennis\n",
            "Soccer\n",
            "Basketball\n"
          ],
          "name": "stdout"
        }
      ]
    },
    {
      "cell_type": "code",
      "metadata": {
        "id": "sZFGY2nzGOok",
        "outputId": "d3e7bab7-83a5-4d50-a5fc-32cd30ecdfdc",
        "colab": {
          "base_uri": "https://localhost:8080/"
        }
      },
      "source": [
        "names = ['John', 'Mike', 'Kelly']\n",
        "ids = [3721, 3472, 3748]\n",
        "\n",
        "for (student_id, student) in zip(names, ids):\n",
        "    print(f'{student}, id: {student_id}')"
      ],
      "execution_count": 5,
      "outputs": [
        {
          "output_type": "stream",
          "text": [
            "3721, id: John\n",
            "3472, id: Mike\n",
            "3748, id: Kelly\n"
          ],
          "name": "stdout"
        }
      ]
    },
    {
      "cell_type": "code",
      "metadata": {
        "id": "Occ0bq5fGZRn",
        "outputId": "ebeffd63-bea0-40b2-b8ea-18a1747075ab",
        "colab": {
          "base_uri": "https://localhost:8080/"
        }
      },
      "source": [
        "import itertools\n",
        "\n",
        "cash_records = [50000, -2000, -2000, -2000, -2000, -2000]\n",
        "rate = 1.003\n",
        "for monthly_record in itertools.accumulate(cash_records, lambda amount, pmt: amount*rate + pmt):\n",
        "    print(monthly_record)"
      ],
      "execution_count": 7,
      "outputs": [
        {
          "output_type": "stream",
          "text": [
            "50000\n",
            "48149.99999999999\n",
            "46294.44999999999\n",
            "44433.333349999986\n",
            "42566.63335004998\n",
            "40694.33325010013\n"
          ],
          "name": "stdout"
        }
      ]
    },
    {
      "cell_type": "code",
      "metadata": {
        "id": "0ePaEdWVGp1W",
        "outputId": "0aba3a72-4a2a-4494-f00b-0b8ad3c57f8d",
        "colab": {
          "base_uri": "https://localhost:8080/"
        }
      },
      "source": [
        "employees = ['John Smith', 'Jennifer Brown', 'Zack Dani', 'Peter Shine', 'Aaron Dawson', 'Holly Shaw']\n",
        "grouped_employees = {}\n",
        "\n",
        "name_key = lambda x: x.split()[-1][0]\n",
        "\n",
        "sorted_employees = sorted(employees, key=name_key)\n",
        "\n",
        "for k, names in itertools.groupby(sorted_employees, key=name_key):\n",
        "    grouped_employees[k] = list(names)\n",
        "\n",
        "grouped_employees"
      ],
      "execution_count": 8,
      "outputs": [
        {
          "output_type": "execute_result",
          "data": {
            "text/plain": [
              "{'B': ['Jennifer Brown'],\n",
              " 'D': ['Zack Dani', 'Aaron Dawson'],\n",
              " 'S': ['John Smith', 'Peter Shine', 'Holly Shaw']}"
            ]
          },
          "metadata": {
            "tags": []
          },
          "execution_count": 8
        }
      ]
    },
    {
      "cell_type": "code",
      "metadata": {
        "id": "J0zJF7BhG7c7"
      },
      "source": [
        "def combine_coins(coins, number):\n",
        "     possible_sums = set()\n",
        "     for selected_coins in itertools.combinations(coins, number):\n",
        "         possible_sums.add(sum(selected_coins))\n",
        "     return sorted(possible_sums)"
      ],
      "execution_count": 9,
      "outputs": []
    },
    {
      "cell_type": "code",
      "metadata": {
        "id": "Qxkbsbj_HJeW",
        "outputId": "45ced8ae-5dc6-4d4d-a9eb-3def2460d56c",
        "colab": {
          "base_uri": "https://localhost:8080/"
        }
      },
      "source": [
        "combine_coins([5, 5, 1, 1, 25, 10, 25], 3)"
      ],
      "execution_count": 10,
      "outputs": [
        {
          "output_type": "execute_result",
          "data": {
            "text/plain": [
              "[7, 11, 12, 16, 20, 27, 31, 35, 36, 40, 51, 55, 60]"
            ]
          },
          "metadata": {
            "tags": []
          },
          "execution_count": 10
        }
      ]
    },
    {
      "cell_type": "code",
      "metadata": {
        "id": "HrF36Bf1HJp0",
        "outputId": "7e0bf2b7-75d2-40e6-86c1-f252027cd8c5",
        "colab": {
          "base_uri": "https://localhost:8080/"
        }
      },
      "source": [
        "combine_coins([1, 1, 10, 5, 25, 25], 4)"
      ],
      "execution_count": 11,
      "outputs": [
        {
          "output_type": "execute_result",
          "data": {
            "text/plain": [
              "[17, 32, 37, 41, 52, 56, 61, 65]"
            ]
          },
          "metadata": {
            "tags": []
          },
          "execution_count": 11
        }
      ]
    },
    {
      "cell_type": "code",
      "metadata": {
        "id": "VsRi9J45HLJD",
        "outputId": "b0037d3d-ea04-41fc-a2e2-f51b92b5731e",
        "colab": {
          "base_uri": "https://localhost:8080/"
        }
      },
      "source": [
        "first_names = ['John', 'Adam', 'Danny']\n",
        "middle_names = ['Douglas', 'Elliot']\n",
        "\n",
        "for name in itertools.product(first_names, middle_names, ['Thompson']):\n",
        "     full_name = \" \".join(name)\n",
        "     initials = \"\".join((x[0] for x in name))\n",
        "     print(f'Full Name: {full_name}; Initials: {initials}')"
      ],
      "execution_count": 15,
      "outputs": [
        {
          "output_type": "stream",
          "text": [
            "Full Name: John Douglas Thompson; Initials: JDT\n",
            "Full Name: John Elliot Thompson; Initials: JET\n",
            "Full Name: Adam Douglas Thompson; Initials: ADT\n",
            "Full Name: Adam Elliot Thompson; Initials: AET\n",
            "Full Name: Danny Douglas Thompson; Initials: DDT\n",
            "Full Name: Danny Elliot Thompson; Initials: DET\n"
          ],
          "name": "stdout"
        }
      ]
    },
    {
      "cell_type": "code",
      "metadata": {
        "id": "mL8nufp_H-Zz"
      },
      "source": [
        "numbers = [1, 2]"
      ],
      "execution_count": 16,
      "outputs": []
    },
    {
      "cell_type": "code",
      "metadata": {
        "id": "DiREGhA3H_zR",
        "outputId": "b3a7a3f8-8b0e-482e-ba2d-f9fe9ebf6d8f",
        "colab": {
          "base_uri": "https://localhost:8080/"
        }
      },
      "source": [
        "print(list(itertools.combinations(numbers, 2)))"
      ],
      "execution_count": 17,
      "outputs": [
        {
          "output_type": "stream",
          "text": [
            "[(1, 2)]\n"
          ],
          "name": "stdout"
        }
      ]
    },
    {
      "cell_type": "code",
      "metadata": {
        "id": "5lfMqmMKH__J",
        "outputId": "0b9df415-3c05-43c7-b871-7eaa5ee1bb4a",
        "colab": {
          "base_uri": "https://localhost:8080/"
        }
      },
      "source": [
        "print(list(itertools.permutations(numbers, 2)))"
      ],
      "execution_count": 18,
      "outputs": [
        {
          "output_type": "stream",
          "text": [
            "[(1, 2), (2, 1)]\n"
          ],
          "name": "stdout"
        }
      ]
    },
    {
      "cell_type": "code",
      "metadata": {
        "id": "rovmtl-0IDoJ",
        "outputId": "e3c3ceff-ebfa-4b8b-eb22-1ccbd93d8b34",
        "colab": {
          "base_uri": "https://localhost:8080/"
        }
      },
      "source": [
        "teams = ['Brazil', 'Peru', 'Chile', 'Argentina']\n",
        "\n",
        "for match in itertools.permutations(teams, 2):\n",
        "    print(match)"
      ],
      "execution_count": 19,
      "outputs": [
        {
          "output_type": "stream",
          "text": [
            "('Brazil', 'Peru')\n",
            "('Brazil', 'Chile')\n",
            "('Brazil', 'Argentina')\n",
            "('Peru', 'Brazil')\n",
            "('Peru', 'Chile')\n",
            "('Peru', 'Argentina')\n",
            "('Chile', 'Brazil')\n",
            "('Chile', 'Peru')\n",
            "('Chile', 'Argentina')\n",
            "('Argentina', 'Brazil')\n",
            "('Argentina', 'Peru')\n",
            "('Argentina', 'Chile')\n"
          ],
          "name": "stdout"
        }
      ]
    }
  ]
}