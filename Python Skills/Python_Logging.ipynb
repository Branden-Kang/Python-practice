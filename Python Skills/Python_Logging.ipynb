{
  "nbformat": 4,
  "nbformat_minor": 0,
  "metadata": {
    "colab": {
      "name": "Python Logging.ipynb",
      "provenance": [],
      "authorship_tag": "ABX9TyOMLmIO2QluveRoFsq2BM96"
    },
    "kernelspec": {
      "name": "python3",
      "display_name": "Python 3"
    }
  },
  "cells": [
    {
      "cell_type": "markdown",
      "metadata": {
        "id": "N68IsE1YTSuL"
      },
      "source": [
        "[Reference](https://majianglin2003.medium.com/python-logging-6a688fa63587)"
      ]
    },
    {
      "cell_type": "code",
      "metadata": {
        "colab": {
          "base_uri": "https://localhost:8080/"
        },
        "id": "3xz78_LTTFn4",
        "outputId": "b5fbfd80-04e8-40f2-b59d-dcffc46e8601"
      },
      "source": [
        "import logging\n",
        "logging.basicConfig(level=logging.INFO) \n",
        "logging.info(\"hello the world\")"
      ],
      "execution_count": 1,
      "outputs": [
        {
          "output_type": "stream",
          "text": [
            "INFO:root:hello the world\n"
          ],
          "name": "stderr"
        }
      ]
    },
    {
      "cell_type": "code",
      "metadata": {
        "id": "qdCf6l-eTWch"
      },
      "source": [
        "assert id(logging.getLogger(\"toto\")) == id(logging.getLogger(\"toto\"))"
      ],
      "execution_count": 2,
      "outputs": []
    },
    {
      "cell_type": "code",
      "metadata": {
        "id": "WsS9xCqfTX7N"
      },
      "source": [
        "import logging\n",
        "\n",
        "# Gets or creates a logger\n",
        "logger = logging.getLogger(__name__)  \n",
        "\n",
        "# set log level\n",
        "logger.setLevel(logging.WARNING)\n",
        "\n",
        "# define file handler and set formatter\n",
        "file_handler = logging.FileHandler('logfile.log')\n",
        "formatter    = logging.Formatter('%(asctime)s : %(levelname)s : %(name)s : %(message)s')\n",
        "file_handler.setFormatter(formatter)\n",
        "\n",
        "# add file handler to logger\n",
        "logger.addHandler(file_handler)"
      ],
      "execution_count": 3,
      "outputs": []
    },
    {
      "cell_type": "code",
      "metadata": {
        "colab": {
          "base_uri": "https://localhost:8080/"
        },
        "id": "cxOnDoOxTbD5",
        "outputId": "f9f39b9b-6810-4776-bd30-f1f04d18af4a"
      },
      "source": [
        "import logging\n",
        "\n",
        "# Create or get the logger\n",
        "logger = logging.getLogger(__name__)  \n",
        "\n",
        "# set log level\n",
        "logger.setLevel(logging.INFO)\n",
        "\n",
        "def divide(x, y):\n",
        "    try:\n",
        "        out = x / y\n",
        "    except ZeroDivisionError:\n",
        "        logger.exception(\"Division by zero problem\")\n",
        "    else:\n",
        "        return out\n",
        "\n",
        "# Logs\n",
        "logger.error(\"Divide {x} / {y} = {c}\".format(x=10, y=0, c=divide(10,0)))"
      ],
      "execution_count": 4,
      "outputs": [
        {
          "output_type": "stream",
          "text": [
            "ERROR:__main__:Division by zero problem\n",
            "Traceback (most recent call last):\n",
            "  File \"<ipython-input-4-275b4d096208>\", line 11, in divide\n",
            "    out = x / y\n",
            "ZeroDivisionError: division by zero\n",
            "ERROR:__main__:Divide 10 / 0 = None\n"
          ],
          "name": "stderr"
        }
      ]
    }
  ]
}