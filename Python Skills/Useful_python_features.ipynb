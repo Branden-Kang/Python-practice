{
  "nbformat": 4,
  "nbformat_minor": 0,
  "metadata": {
    "colab": {
      "name": "Useful python features.ipynb",
      "provenance": [],
      "authorship_tag": "ABX9TyNHdrhbWycl08CbOC17+qGB"
    },
    "kernelspec": {
      "name": "python3",
      "display_name": "Python 3"
    },
    "language_info": {
      "name": "python"
    }
  },
  "cells": [
    {
      "cell_type": "markdown",
      "metadata": {
        "id": "K8OncqI6S7J_"
      },
      "source": [
        "[Reference](https://towardsdatascience.com/hidden-gems-of-python-76020b14e42f)"
      ]
    },
    {
      "cell_type": "code",
      "metadata": {
        "colab": {
          "base_uri": "https://localhost:8080/"
        },
        "id": "9_5Yek2yS2SS",
        "outputId": "0123d605-e6d7-4db7-ce9a-2cb00cbe1603"
      },
      "source": [
        "def func(x):\n",
        "    intermediate_var = x**2 + x + 1\n",
        "\n",
        "    if intermediate_var % 2:\n",
        "        y = intermediate_var ** 3\n",
        "    else:\n",
        "        y = intermediate_var **3 + 1\n",
        "\n",
        "    # setting attributes here\n",
        "    func.optional_return = intermediate_var\n",
        "    func.is_awesome = 'Yes, my function is awesome.'\n",
        "\n",
        "    return y\n",
        "\n",
        "y = func(3)\n",
        "print('Final answer is', y)\n",
        "\n",
        "# Accessing function attributes\n",
        "print('Show calculations -->', func.optional_return)\n",
        "print('Is my function awesome? -->', func.is_awesome)"
      ],
      "execution_count": 1,
      "outputs": [
        {
          "output_type": "stream",
          "text": [
            "Final answer is 2197\n",
            "Show calculations --> 13\n",
            "Is my function awesome? --> Yes, my function is awesome.\n"
          ],
          "name": "stdout"
        }
      ]
    },
    {
      "cell_type": "code",
      "metadata": {
        "colab": {
          "base_uri": "https://localhost:8080/"
        },
        "id": "EX5a2NgKS_5V",
        "outputId": "93d5c6ed-2f56-4787-b852-ce0b1d6dabc9"
      },
      "source": [
        "my_list = ['some', 'list', 'containing', 'five', 'elements']\n",
        "\n",
        "min_len = 3\n",
        "\n",
        "for element in my_list:\n",
        "    if len(element) < min_len:\n",
        "        print(f'Caught an element shorter than {min_len} letters')\n",
        "        break\n",
        "else:\n",
        "    print(f'All elements at least {min_len} letters long')"
      ],
      "execution_count": 2,
      "outputs": [
        {
          "output_type": "stream",
          "text": [
            "All elements at least 3 letters long\n"
          ],
          "name": "stdout"
        }
      ]
    },
    {
      "cell_type": "code",
      "metadata": {
        "colab": {
          "base_uri": "https://localhost:8080/"
        },
        "id": "QthnSs4rTIK7",
        "outputId": "489dd070-f005-4742-f016-d9bba919c0fa"
      },
      "source": [
        "my_list = ['some', 'list', 'containing', 'five', 'elements']\n",
        "\n",
        "min_len = 3\n",
        "\n",
        "no_break = True\n",
        "for element in my_list:\n",
        "    if len(element) < min_len:\n",
        "        print(f'Caught an element shorter than {min_len} letters')\n",
        "        no_break = False\n",
        "        break\n",
        "\n",
        "if no_break:\n",
        "    print(f'All elements at least {min_len} letters long')"
      ],
      "execution_count": 3,
      "outputs": [
        {
          "output_type": "stream",
          "text": [
            "All elements at least 3 letters long\n"
          ],
          "name": "stdout"
        }
      ]
    },
    {
      "cell_type": "code",
      "metadata": {
        "colab": {
          "base_uri": "https://localhost:8080/"
        },
        "id": "UuopB0hmTUCv",
        "outputId": "546c3f72-a15d-4b84-a495-958a13061b5b"
      },
      "source": [
        "a = 3250\n",
        "b = 67_543_423_778\n",
        "\n",
        "print(type(a))\n",
        "print(type(b))\n",
        "print(type(a)==type(b))"
      ],
      "execution_count": 4,
      "outputs": [
        {
          "output_type": "stream",
          "text": [
            "<class 'int'>\n",
            "<class 'int'>\n",
            "True\n"
          ],
          "name": "stdout"
        }
      ]
    },
    {
      "cell_type": "code",
      "metadata": {
        "colab": {
          "base_uri": "https://localhost:8080/"
        },
        "id": "e4ELRPG8TekE",
        "outputId": "daf3de57-7376-463c-9fff-117479529a6e"
      },
      "source": [
        "a = 3\n",
        "\n",
        "b = eval('a + 2')\n",
        "print('b =', b)\n",
        "\n",
        "exec('c = a ** 2')\n",
        "print('c is', c)"
      ],
      "execution_count": 5,
      "outputs": [
        {
          "output_type": "stream",
          "text": [
            "b = 5\n",
            "c is 9\n"
          ],
          "name": "stdout"
        }
      ]
    },
    {
      "cell_type": "code",
      "metadata": {
        "id": "qdxZA57lTkJX"
      },
      "source": [
        "def some_function():\n",
        "    ...\n",
        "    \n",
        "def another_function():\n",
        "    pass"
      ],
      "execution_count": 6,
      "outputs": []
    },
    {
      "cell_type": "code",
      "metadata": {
        "colab": {
          "base_uri": "https://localhost:8080/"
        },
        "id": "p2L1NiW3T-xr",
        "outputId": "97b28888-1f3b-4910-8521-2ddf038fceb3"
      },
      "source": [
        "# calculate nth odd number\n",
        "def nth_odd(n):\n",
        "    if isinstance(n, int):\n",
        "        return 2 * n - 1\n",
        "    else:\n",
        "        return None\n",
        "\n",
        "\n",
        "# calculate the original n of nth odd number\n",
        "def original_num(m=...):\n",
        "    if m is ...:\n",
        "        print('This function needs some input')\n",
        "    elif m is None:\n",
        "        print('Non integer input provided to nth_odd() function')\n",
        "    elif isinstance(m, int):\n",
        "        if m % 2:\n",
        "            print(f'{m} is {int((m + 1)/2)}th odd number')\n",
        "        else:\n",
        "            print(f'{m} is not an odd number')\n",
        "\n",
        "\n",
        "original_num()\n",
        "\n",
        "a = nth_odd(n='some string')\n",
        "original_num(a)\n",
        "\n",
        "b = nth_odd(5)\n",
        "original_num(b)\n",
        "\n",
        "original_num(16)"
      ],
      "execution_count": 7,
      "outputs": [
        {
          "output_type": "stream",
          "text": [
            "This function needs some input\n",
            "Non integer input provided to nth_odd() function\n",
            "9 is 5th odd number\n",
            "16 is not an odd number\n"
          ],
          "name": "stdout"
        }
      ]
    },
    {
      "cell_type": "code",
      "metadata": {
        "colab": {
          "base_uri": "https://localhost:8080/"
        },
        "id": "8Lv1jUVkUD3o",
        "outputId": "5f894fba-ce15-4b7b-8b34-333678859c0a"
      },
      "source": [
        "import numpy as np\n",
        "\n",
        "a = np.arange(16).reshape(2,2,2,2)\n",
        "\n",
        "print(a[..., 0].flatten())\n",
        "print(a[:, :, :, 0].flatten())"
      ],
      "execution_count": 10,
      "outputs": [
        {
          "output_type": "stream",
          "text": [
            "[ 0  2  4  6  8 10 12 14]\n",
            "[ 0  2  4  6  8 10 12 14]\n"
          ],
          "name": "stdout"
        }
      ]
    }
  ]
}