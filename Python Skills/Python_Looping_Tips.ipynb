{
  "nbformat": 4,
  "nbformat_minor": 0,
  "metadata": {
    "colab": {
      "name": "Python Looping Tips.ipynb",
      "provenance": [],
      "authorship_tag": "ABX9TyNry+GDZvMZ+r4TUa7N3TPf"
    },
    "kernelspec": {
      "name": "python3",
      "display_name": "Python 3"
    }
  },
  "cells": [
    {
      "cell_type": "markdown",
      "metadata": {
        "id": "gX2wPkNdq9HK"
      },
      "source": [
        "[Reference](https://towardsdatascience.com/five-cool-python-looping-tips-14f6f44bcfc7)"
      ]
    },
    {
      "cell_type": "markdown",
      "metadata": {
        "id": "p8IjhNIJrtWd"
      },
      "source": [
        "# Zip"
      ]
    },
    {
      "cell_type": "code",
      "metadata": {
        "id": "1pOa9JEQq6_z",
        "outputId": "d494a5c1-4829-4e0d-c9d0-4247ebb9ceb8",
        "colab": {
          "base_uri": "https://localhost:8080/",
          "height": 187
        }
      },
      "source": [
        "odds = [1,3,5,7,9]\n",
        "evens = [2,4,6,8,10]\n",
        "for oddnum, evennum in zip(odds,evens):\n",
        "    print(oddnum)\n",
        "    print(evennum)"
      ],
      "execution_count": 1,
      "outputs": [
        {
          "output_type": "stream",
          "text": [
            "1\n",
            "2\n",
            "3\n",
            "4\n",
            "5\n",
            "6\n",
            "7\n",
            "8\n",
            "9\n",
            "10\n"
          ],
          "name": "stdout"
        }
      ]
    },
    {
      "cell_type": "markdown",
      "metadata": {
        "id": "-qCDy7Hmrr5a"
      },
      "source": [
        "# C-Style Loop"
      ]
    },
    {
      "cell_type": "code",
      "metadata": {
        "id": "38iz_k2brAh3"
      },
      "source": [
        "for i in range(10):\n",
        "    print(i)\n",
        "    if i == 3:\n",
        "        i.update(7)"
      ],
      "execution_count": 5,
      "outputs": []
    },
    {
      "cell_type": "code",
      "metadata": {
        "id": "8K4g1aXcrCFM"
      },
      "source": [
        "class forrange:\n",
        "\n",
        "    def __init__(self, startOrStop, stop=None, step=1):\n",
        "        if step == 0:\n",
        "            raise ValueError('forrange step argument must not be zero')\n",
        "        if not isinstance(startOrStop, int):\n",
        "            raise TypeError('forrange startOrStop argument must be an int')\n",
        "        if stop is not None and not isinstance(stop, int):\n",
        "            raise TypeError('forrange stop argument must be an int')\n",
        "\n",
        "        if stop is None:\n",
        "            self.start = 0\n",
        "            self.stop = startOrStop\n",
        "            self.step = step\n",
        "        else:\n",
        "            self.start = startOrStop\n",
        "            self.stop = stop\n",
        "            self.step = step\n",
        "\n",
        "    def __iter__(self):\n",
        "        return self.foriterator(self.start, self.stop, self.step)\n",
        "\n",
        "    class foriterator:\n",
        "\n",
        "        def __init__(self, start, stop, step):\n",
        "            self.currentValue = None\n",
        "            self.nextValue = start\n",
        "            self.stop = stop\n",
        "            self.step = step\n",
        "\n",
        "        def __iter__(self): return self\n",
        "\n",
        "        def next(self):\n",
        "            if self.step > 0 and self.nextValue >= self.stop:\n",
        "                raise StopIteration\n",
        "            if self.step < 0 and self.nextValue <= self.stop:\n",
        "                raise StopIteration\n",
        "            self.currentValue = forrange.forvalue(self.nextValue, self)\n",
        "            self.nextValue += self.step\n",
        "            return self.currentValue\n",
        "\n",
        "    class forvalue(int):\n",
        "        def __new__(cls, value, iterator):\n",
        "            value = super(forrange.forvalue, cls).__new__(cls, value)\n",
        "            value.iterator = iterator\n",
        "            return value\n",
        "\n",
        "        def update(self, value):\n",
        "            if not isinstance(self, int):\n",
        "                raise TypeError('forvalue.update value must be an int')\n",
        "            if self == self.iterator.currentValue:\n",
        "                self.iterator.nextValue = value + self.iterator.step"
      ],
      "execution_count": 6,
      "outputs": []
    },
    {
      "cell_type": "markdown",
      "metadata": {
        "id": "gejPTcnsro7u"
      },
      "source": [
        "# Enumerate()"
      ]
    },
    {
      "cell_type": "code",
      "metadata": {
        "id": "70r6gyDprN8s"
      },
      "source": [
        "l = [5,10,15]"
      ],
      "execution_count": 7,
      "outputs": []
    },
    {
      "cell_type": "code",
      "metadata": {
        "id": "-loO_MmPrPQ3",
        "outputId": "452cf81f-c0db-440d-d730-5bd9782049a5",
        "colab": {
          "base_uri": "https://localhost:8080/",
          "height": 34
        }
      },
      "source": [
        "l[1]"
      ],
      "execution_count": 8,
      "outputs": [
        {
          "output_type": "execute_result",
          "data": {
            "text/plain": [
              "10"
            ]
          },
          "metadata": {
            "tags": []
          },
          "execution_count": 8
        }
      ]
    },
    {
      "cell_type": "code",
      "metadata": {
        "id": "fJUiV0p_rQPv",
        "outputId": "8aa5d704-0927-42e1-ee86-bc2097384453",
        "colab": {
          "base_uri": "https://localhost:8080/",
          "height": 34
        }
      },
      "source": [
        "l[0]"
      ],
      "execution_count": 9,
      "outputs": [
        {
          "output_type": "execute_result",
          "data": {
            "text/plain": [
              "5"
            ]
          },
          "metadata": {
            "tags": []
          },
          "execution_count": 9
        }
      ]
    },
    {
      "cell_type": "code",
      "metadata": {
        "id": "AGxP4tYbrQuw",
        "outputId": "492591ec-799d-43fa-c392-e8bf346ee7e0",
        "colab": {
          "base_uri": "https://localhost:8080/",
          "height": 34
        }
      },
      "source": [
        "l[2]"
      ],
      "execution_count": 10,
      "outputs": [
        {
          "output_type": "execute_result",
          "data": {
            "text/plain": [
              "15"
            ]
          },
          "metadata": {
            "tags": []
          },
          "execution_count": 10
        }
      ]
    },
    {
      "cell_type": "code",
      "metadata": {
        "id": "x_QiNNxXrRMs",
        "outputId": "218495ef-2e91-4d17-e1a7-95cd51e2db15",
        "colab": {
          "base_uri": "https://localhost:8080/",
          "height": 34
        }
      },
      "source": [
        "data = dict(enumerate(l))\n",
        "data"
      ],
      "execution_count": 11,
      "outputs": [
        {
          "output_type": "execute_result",
          "data": {
            "text/plain": [
              "{0: 5, 1: 10, 2: 15}"
            ]
          },
          "metadata": {
            "tags": []
          },
          "execution_count": 11
        }
      ]
    },
    {
      "cell_type": "markdown",
      "metadata": {
        "id": "RIPS6VK0rWIV"
      },
      "source": [
        "# Sorted()"
      ]
    },
    {
      "cell_type": "code",
      "metadata": {
        "id": "d1DDMd-YrS7O",
        "outputId": "d2f38e94-e752-4b2f-d53e-c134eae7c62f",
        "colab": {
          "base_uri": "https://localhost:8080/",
          "height": 85
        }
      },
      "source": [
        "l = [15,6,1,8]\n",
        "for i in sorted(l):\n",
        "    print(i)"
      ],
      "execution_count": 12,
      "outputs": [
        {
          "output_type": "stream",
          "text": [
            "1\n",
            "6\n",
            "8\n",
            "15\n"
          ],
          "name": "stdout"
        }
      ]
    },
    {
      "cell_type": "code",
      "metadata": {
        "id": "BtZjJMb-rU5v",
        "outputId": "c087cee8-f2fc-4298-c389-c5bacedccb65",
        "colab": {
          "base_uri": "https://localhost:8080/",
          "height": 85
        }
      },
      "source": [
        "for i in sorted(l,reverse = True):\n",
        "    print(i)"
      ],
      "execution_count": 13,
      "outputs": [
        {
          "output_type": "stream",
          "text": [
            "15\n",
            "8\n",
            "6\n",
            "1\n"
          ],
          "name": "stdout"
        }
      ]
    },
    {
      "cell_type": "code",
      "metadata": {
        "id": "8Aeb0p2VrY_U"
      },
      "source": [
        "l = [5,10,15]\n",
        "l.sort(key=lambda s: s[::-1])"
      ],
      "execution_count": 17,
      "outputs": []
    },
    {
      "cell_type": "markdown",
      "metadata": {
        "id": "AfjHbBfNra5g"
      },
      "source": [
        "# Filter()"
      ]
    },
    {
      "cell_type": "code",
      "metadata": {
        "id": "JWcwSNNorZ-z",
        "outputId": "64c55f9c-e8b1-426f-ff9e-3ebd68830470",
        "colab": {
          "base_uri": "https://localhost:8080/",
          "height": 51
        }
      },
      "source": [
        "people = [{\"name\": \"John\", \"id\": 1}, {\"name\": \"Mike\", \"id\": 4}, {\"name\": \"Sandra\", \"id\": 2}, {\"name\": \"Jennifer\", \"id\": 3}]\n",
        "\n",
        "for person in filter(lambda i: i[\"id\"] % 2 == 0, people):\n",
        "    print(person)"
      ],
      "execution_count": 16,
      "outputs": [
        {
          "output_type": "stream",
          "text": [
            "{'name': 'Mike', 'id': 4}\n",
            "{'name': 'Sandra', 'id': 2}\n"
          ],
          "name": "stdout"
        }
      ]
    }
  ]
}