{
  "nbformat": 4,
  "nbformat_minor": 0,
  "metadata": {
    "colab": {
      "provenance": [],
      "authorship_tag": "ABX9TyNmtwkxAbh3WCY0xYDwn3bE"
    },
    "kernelspec": {
      "name": "python3",
      "display_name": "Python 3"
    },
    "language_info": {
      "name": "python"
    }
  },
  "cells": [
    {
      "cell_type": "markdown",
      "source": [
        "[Reference](https://pravash-techie.medium.com/python-hidden-features-part-3-827ceb77c904)"
      ],
      "metadata": {
        "id": "DHt6_bAfO_9K"
      }
    },
    {
      "cell_type": "markdown",
      "source": [
        "# 1. walrus operator (:=)\n"
      ],
      "metadata": {
        "id": "DvkRHHEBPC4J"
      }
    },
    {
      "cell_type": "code",
      "execution_count": 2,
      "metadata": {
        "id": "ncMQQvBQON4q"
      },
      "outputs": [],
      "source": [
        "def extract_val():\n",
        "    for i in range(10):\n",
        "        yield i\n",
        "    yield -1\n",
        "\n",
        "def some_func(val):\n",
        "    pass\n",
        "\n",
        "gen_obj = extract_val()\n",
        "val = next(gen_obj)\n",
        "while val != -1:\n",
        "    some_func(val)\n",
        "    val = next(gen_obj)"
      ]
    },
    {
      "cell_type": "code",
      "source": [
        "def extract_val():\n",
        "    for i in range(10):\n",
        "        yield i\n",
        "    yield -1\n",
        "\n",
        "def some_func(val):\n",
        "    pass\n",
        "\n",
        "gen_obj = extract_val()\n",
        "while (val := next(gen_obj))!= -1:\n",
        "    some_func(val)"
      ],
      "metadata": {
        "id": "qMTUA3cSPF9g"
      },
      "execution_count": 3,
      "outputs": []
    },
    {
      "cell_type": "markdown",
      "source": [
        "# 2. ** to unpack dictionary"
      ],
      "metadata": {
        "id": "u2e9c_sUPJ8A"
      }
    },
    {
      "cell_type": "code",
      "source": [
        "dict_data = {\n",
        "    \"1\": \"value1\",\n",
        "    \"2\": \"value2\",\n",
        "}\n",
        "def print_date(key, value):\n",
        "    print(key, value)\n",
        "\n",
        "print(dict_data[\"1\"], dict_data[\"2\"])"
      ],
      "metadata": {
        "colab": {
          "base_uri": "https://localhost:8080/"
        },
        "id": "sUEpjrLbPIqd",
        "outputId": "f6fb144c-9ad9-4fda-e862-e224f263f7af"
      },
      "execution_count": 8,
      "outputs": [
        {
          "output_type": "stream",
          "name": "stdout",
          "text": [
            "value1 value2\n"
          ]
        }
      ]
    },
    {
      "cell_type": "code",
      "source": [
        "dict_data = {\n",
        "    \"1\": \"value1\",\n",
        "    \"2\": \"value2\",\n",
        "}\n",
        "\n",
        "def print_date(key, value):\n",
        "    print(key, value)\n",
        "\n",
        "print_date(**dict_data)"
      ],
      "metadata": {
        "id": "tG-9mXrdPK69"
      },
      "execution_count": 12,
      "outputs": []
    },
    {
      "cell_type": "markdown",
      "source": [
        "# 3. divmod"
      ],
      "metadata": {
        "id": "4M_bOJwAPV9J"
      }
    },
    {
      "cell_type": "code",
      "source": [
        "total_minutes = 125\n",
        "hours, minutes = divmod(total_minutes, 60)\n",
        "print(f\"{hours} hours and {minutes} minutes\")"
      ],
      "metadata": {
        "colab": {
          "base_uri": "https://localhost:8080/"
        },
        "id": "Ygq7VqTBPMU2",
        "outputId": "46e00b4f-d111-4e37-b68e-4b0c4febb38e"
      },
      "execution_count": 11,
      "outputs": [
        {
          "output_type": "stream",
          "name": "stdout",
          "text": [
            "2 hours and 5 minutes\n"
          ]
        }
      ]
    },
    {
      "cell_type": "markdown",
      "source": [
        "# 4. extract nested list"
      ],
      "metadata": {
        "id": "LDLih1UWPYm4"
      }
    },
    {
      "cell_type": "code",
      "source": [
        "lst = [[1], [2], [3], [4], [5]]"
      ],
      "metadata": {
        "id": "O7kgOccvPf0y"
      },
      "execution_count": 15,
      "outputs": []
    },
    {
      "cell_type": "code",
      "source": [
        "new_lst = []\n",
        "for sublist in lst:\n",
        "    for element in sublist:\n",
        "        new_lst.append(element)\n",
        "\n",
        "print(new_lst)\n",
        "\n",
        "## OR using list compression\n",
        "flattened_lst = [val for sublist in lst for val in sublist]\n",
        "print(flattened_lst)"
      ],
      "metadata": {
        "colab": {
          "base_uri": "https://localhost:8080/"
        },
        "id": "Vel5NwyNPXpx",
        "outputId": "f8f1bab3-90c9-49e0-af76-d57fee07f2c2"
      },
      "execution_count": 17,
      "outputs": [
        {
          "output_type": "stream",
          "name": "stdout",
          "text": [
            "[1, 2, 3, 4, 5]\n",
            "[1, 2, 3, 4, 5]\n"
          ]
        }
      ]
    },
    {
      "cell_type": "code",
      "source": [
        "List1 = [[1], [2], [3], [4], [5]]\n",
        "flattened_lst = sum(lst, [])\n",
        "print(flattened_lst)"
      ],
      "metadata": {
        "colab": {
          "base_uri": "https://localhost:8080/"
        },
        "id": "JCMWDUYQPama",
        "outputId": "08d3fefb-e012-4883-b65d-9ed9839890f2"
      },
      "execution_count": 18,
      "outputs": [
        {
          "output_type": "stream",
          "name": "stdout",
          "text": [
            "[1, 2, 3, 4, 5]\n"
          ]
        }
      ]
    },
    {
      "cell_type": "code",
      "source": [
        "from itertools import chain\n",
        "List1 = [[1], [2], [3], [4], [5]]\n",
        "flattened_lst = list(chain.from_iterable(List1))\n",
        "\n",
        "print(flattened_lst)"
      ],
      "metadata": {
        "colab": {
          "base_uri": "https://localhost:8080/"
        },
        "id": "NcyZB4OkPjkD",
        "outputId": "832418fe-0451-4d22-bcc8-e67143a6b12e"
      },
      "execution_count": 19,
      "outputs": [
        {
          "output_type": "stream",
          "name": "stdout",
          "text": [
            "[1, 2, 3, 4, 5]\n"
          ]
        }
      ]
    },
    {
      "cell_type": "markdown",
      "source": [
        "# 5. union typing"
      ],
      "metadata": {
        "id": "tpg4n8M9Poyh"
      }
    },
    {
      "cell_type": "code",
      "source": [
        "from typing import Union\n",
        "\n",
        "def process_data(data: Union[int, float, str]) -> None:\n",
        "    print(data)\n",
        "\n",
        "process_data(10)      # Valid\n",
        "process_data(3.14)    # Valid\n",
        "process_data(\"hello\") # Valid"
      ],
      "metadata": {
        "id": "lkiT-c1rPnrs",
        "outputId": "80bee716-61e2-4d9c-fd18-1279e6bb8904",
        "colab": {
          "base_uri": "https://localhost:8080/"
        }
      },
      "execution_count": 20,
      "outputs": [
        {
          "output_type": "stream",
          "name": "stdout",
          "text": [
            "10\n",
            "3.14\n",
            "hello\n"
          ]
        }
      ]
    }
  ]
}
