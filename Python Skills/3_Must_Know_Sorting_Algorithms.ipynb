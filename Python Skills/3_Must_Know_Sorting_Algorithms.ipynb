{
  "nbformat": 4,
  "nbformat_minor": 0,
  "metadata": {
    "colab": {
      "name": "3 Must-Know Sorting Algorithms.ipynb",
      "provenance": [],
      "authorship_tag": "ABX9TyMHcZ9i+OJSZOihGVHUsylx"
    },
    "kernelspec": {
      "name": "python3",
      "display_name": "Python 3"
    }
  },
  "cells": [
    {
      "cell_type": "markdown",
      "metadata": {
        "id": "A1BESaS3R3zS"
      },
      "source": [
        "[Reference](https://towardsdatascience.com/3-must-know-sorting-algorithms-7ce725fee9f5)"
      ]
    },
    {
      "cell_type": "markdown",
      "metadata": {
        "id": "TTyS2ylkSJPB"
      },
      "source": [
        "# Bubble sort"
      ]
    },
    {
      "cell_type": "code",
      "metadata": {
        "id": "-fYgIadHR0Te"
      },
      "source": [
        "def bubble_sort(L):\n",
        "   swap = False\n",
        "   while not swap:\n",
        "      swap = True\n",
        "      for j in range(1, len(L)):\n",
        "         if L[j-1] > L[j]:\n",
        "         swap = False\n",
        "         L[j], L[j-1] = L[j-1], L[j]"
      ],
      "execution_count": null,
      "outputs": []
    },
    {
      "cell_type": "markdown",
      "metadata": {
        "id": "e7uJPD6USt4t"
      },
      "source": [
        "# Selection sort"
      ]
    },
    {
      "cell_type": "code",
      "metadata": {
        "id": "iZQIpA2aSuVN"
      },
      "source": [
        "def selection_sort(L):\n",
        "   for i in range(len(L)-1):\n",
        "      for j in range(i+1, len(L)):\n",
        "         if L[j] < L[i]:\n",
        "            L[i], L[j] = L[j], L[i]"
      ],
      "execution_count": 1,
      "outputs": []
    },
    {
      "cell_type": "code",
      "metadata": {
        "id": "S1yxIvqeS3Yj"
      },
      "source": [
        "def selection_sort(L):\n",
        "   for i in range(len(L)-1):\n",
        "      count = 0\n",
        "      for j in range(i+1, len(L)):\n",
        "         if L[j] < L[i]:\n",
        "            L[i], L[j] = L[j], L[i]\n",
        "            count +=1\n",
        "      print(L, count)"
      ],
      "execution_count": 2,
      "outputs": []
    },
    {
      "cell_type": "markdown",
      "metadata": {
        "id": "IlHZQxolS61E"
      },
      "source": [
        "# Merge sort"
      ]
    },
    {
      "cell_type": "code",
      "metadata": {
        "id": "Y9eigxwqS5sn"
      },
      "source": [
        "def merge(left, right): #left and right are sorted lists\n",
        "    result = []\n",
        "    i, j = 0, 0   \n",
        "   \n",
        "    while i < len(left) and j < len(right):\n",
        "      if left[i] < right[j]:\n",
        "         result.append(left[i])\n",
        "         i +=1\n",
        "      else:\n",
        "         result.append(right[j])\n",
        "         j +=1   \n",
        "         \n",
        "    while (i < len(left)):\n",
        "      result.append(left[i])\n",
        "      i +=1   \n",
        "      \n",
        "    while (j < len(right)):\n",
        "      result.append(right[j])\n",
        "      j +=1\n",
        "   \n",
        "    return result\n",
        "\n",
        "def merge_sort(L):\n",
        "   if len(L) < 2:\n",
        "      return L[:]\n",
        "   else:\n",
        "      middle = len(L) // 2\n",
        "      left = merge_sort(L[:middle])\n",
        "      right = merge_sort(L[middle:])\n",
        "      return merge(left, right)"
      ],
      "execution_count": 6,
      "outputs": []
    },
    {
      "cell_type": "code",
      "metadata": {
        "colab": {
          "base_uri": "https://localhost:8080/"
        },
        "id": "TPDui22ZTH8b",
        "outputId": "e6a48610-0d3a-4e46-cbbe-136677357749"
      },
      "source": [
        "lst = [4,1,3,11,2,1,8,4]\n",
        "\n",
        "merged = merge_sort(lst)\n",
        "\n",
        "print(merged)"
      ],
      "execution_count": 7,
      "outputs": [
        {
          "output_type": "stream",
          "text": [
            "[1, 1, 2, 3, 4, 4, 8, 11]\n"
          ],
          "name": "stdout"
        }
      ]
    }
  ]
}