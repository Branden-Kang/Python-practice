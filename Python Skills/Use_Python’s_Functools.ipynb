{
  "nbformat": 4,
  "nbformat_minor": 0,
  "metadata": {
    "colab": {
      "provenance": [],
      "authorship_tag": "ABX9TyNUZ/NGtxDTgkY7RDSmkeh0"
    },
    "kernelspec": {
      "name": "python3",
      "display_name": "Python 3"
    },
    "language_info": {
      "name": "python"
    }
  },
  "cells": [
    {
      "cell_type": "markdown",
      "source": [
        "[Reference](https://python.plainenglish.io/use-pythons-functools-33903e3bb744)"
      ],
      "metadata": {
        "id": "mTY5VhqQEv9Z"
      }
    },
    {
      "cell_type": "markdown",
      "source": [
        "# partial"
      ],
      "metadata": {
        "id": "ecY1ONl6Ey_8"
      }
    },
    {
      "cell_type": "code",
      "execution_count": 1,
      "metadata": {
        "colab": {
          "base_uri": "https://localhost:8080/"
        },
        "id": "NA0I8paIEqh3",
        "outputId": "040259c0-84b1-47d6-d5f8-797ec022f661"
      },
      "outputs": [
        {
          "output_type": "stream",
          "name": "stdout",
          "text": [
            "12\n"
          ]
        }
      ],
      "source": [
        "from functools import partial\n",
        "\n",
        "def multiply(x, y, z):\n",
        "    return x * y * z\n",
        "# Create a new function that multiplies x by y and y by z\n",
        "double = partial(multiply, y=2, z=3)\n",
        "print(double(2))  # Output: 12"
      ]
    },
    {
      "cell_type": "markdown",
      "source": [
        "# reduce"
      ],
      "metadata": {
        "id": "xLUSKofNE0PU"
      }
    },
    {
      "cell_type": "code",
      "source": [
        "from functools import reduce\n",
        "\n",
        "def add(x, y):\n",
        "    return x + y# Sum the elements of the list [1, 2, 3, 4]\n",
        "result = reduce(add, [1, 2, 3, 4])\n",
        "print(result)  # Output: 10"
      ],
      "metadata": {
        "colab": {
          "base_uri": "https://localhost:8080/"
        },
        "id": "v_7wA0B_Ezby",
        "outputId": "3c144eb9-de2a-4448-a1dd-3a9630223497"
      },
      "execution_count": 3,
      "outputs": [
        {
          "output_type": "stream",
          "name": "stdout",
          "text": [
            "10\n"
          ]
        }
      ]
    },
    {
      "cell_type": "code",
      "source": [
        "from functools import lru_cache\n",
        "\n",
        "@lru_cache(maxsize=None)\n",
        "def fib(n):\n",
        "    if n < 2:\n",
        "        return n\n",
        "    return fib(n-1) + fib(n-2)\n",
        "print(fib(10))  # Output: 55"
      ],
      "metadata": {
        "colab": {
          "base_uri": "https://localhost:8080/"
        },
        "id": "eDvSM00UE1ma",
        "outputId": "40e53adc-97c4-4119-8f5d-975093f858e1"
      },
      "execution_count": 4,
      "outputs": [
        {
          "output_type": "stream",
          "name": "stdout",
          "text": [
            "55\n"
          ]
        }
      ]
    },
    {
      "cell_type": "code",
      "source": [
        "from functools import cmp_to_key\n",
        "\n",
        "def compare(x, y):\n",
        "    if x < y:\n",
        "        return -1\n",
        "    elif x > y:\n",
        "        return 1\n",
        "    else:\n",
        "        return 0\n",
        "# Sort the list [3, 1, 2] using the comparison function\n",
        "sorted_list = sorted([3, 1, 2], key=cmp_to_key(compare))\n",
        "print(sorted_list)  # Output: [1, 2, 3]"
      ],
      "metadata": {
        "colab": {
          "base_uri": "https://localhost:8080/"
        },
        "id": "bYwuTwwnE9Ui",
        "outputId": "98b37042-8c9b-4ccb-b766-eec4f5279d3d"
      },
      "execution_count": 5,
      "outputs": [
        {
          "output_type": "stream",
          "name": "stdout",
          "text": [
            "[1, 2, 3]\n"
          ]
        }
      ]
    },
    {
      "cell_type": "code",
      "source": [
        "from functools import singledispatch\n",
        "\n",
        "@singledispatch\n",
        "def func(arg):\n",
        "    print(\"Unknown type\")\n",
        "@func.register(int)\n",
        "def _(arg):\n",
        "    print(\"Got an int\")\n",
        "@func.register(str)\n",
        "def _(arg):\n",
        "    print(\"Got a string\")\n",
        "func(5)  # Output: \"Got an int\"\n",
        "func(\"hello\")  # Output: \"Got a string\"\n",
        "func([1, 2, 3])  # Output: \"Unknown type\""
      ],
      "metadata": {
        "colab": {
          "base_uri": "https://localhost:8080/"
        },
        "id": "_Sycgq7PE_HW",
        "outputId": "8c23bf2d-89e3-44eb-ddba-4fa6a8c91662"
      },
      "execution_count": 6,
      "outputs": [
        {
          "output_type": "stream",
          "name": "stdout",
          "text": [
            "Got an int\n",
            "Got a string\n",
            "Unknown type\n"
          ]
        }
      ]
    },
    {
      "cell_type": "code",
      "source": [
        "from functools import total_ordering\n",
        "\n",
        "@total_ordering\n",
        "class Person:\n",
        "    def __init__(self, name, age):\n",
        "        self.name = name\n",
        "        self.age = age\n",
        "    def __eq__(self, other):\n",
        "        return self.age == other.age\n",
        "    def __lt__(self, other):\n",
        "        return self.age < other.age\n",
        "person1 = Person(\"Alice\", 30)\n",
        "person2 = Person(\"Bob\", 25)\n",
        "person3 = Person(\"Charlie\", 30)\n",
        "print(person1 > person2)  # Output: True\n",
        "print(person1 < person3)  # Output: False\n",
        "print(person1 == person3)  # Output: True"
      ],
      "metadata": {
        "colab": {
          "base_uri": "https://localhost:8080/"
        },
        "id": "bME4EzPMFEPk",
        "outputId": "e2152d24-c7c3-4564-b43f-dbb3370392b5"
      },
      "execution_count": 7,
      "outputs": [
        {
          "output_type": "stream",
          "name": "stdout",
          "text": [
            "True\n",
            "False\n",
            "True\n"
          ]
        }
      ]
    },
    {
      "cell_type": "code",
      "source": [
        "import functools\n",
        "\n",
        "def prefix_decorator(prefix):\n",
        "    def decorator(func):\n",
        "        def wrapper(*args, **kwargs):\n",
        "            return func(*args, **kwargs)\n",
        "        functools.update_wrapper(wrapper, func)\n",
        "        wrapper.__name__ = f\"{prefix}_{func.__name__}\"\n",
        "        return wrapper\n",
        "    return decorator\n",
        "@prefix_decorator(\"test\")\n",
        "def add(x, y):\n",
        "    \"\"\"Add two numbers together\"\"\"\n",
        "    return x + y\n",
        "print(add.__name__)  # Output: \"test_add\"\n",
        "print(add.__doc__)  # Output: \"Add two numbers together\""
      ],
      "metadata": {
        "colab": {
          "base_uri": "https://localhost:8080/"
        },
        "id": "dHN4TIgVFHV7",
        "outputId": "2b0fc557-75f3-4d10-cd93-f376eafa88a9"
      },
      "execution_count": 9,
      "outputs": [
        {
          "output_type": "stream",
          "name": "stdout",
          "text": [
            "test_add\n",
            "Add two numbers together\n"
          ]
        }
      ]
    }
  ]
}
