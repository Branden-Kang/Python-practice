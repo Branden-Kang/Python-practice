{
  "nbformat": 4,
  "nbformat_minor": 0,
  "metadata": {
    "colab": {
      "name": "5 Python Tricks You’ve Never Heard Of.ipynb",
      "provenance": [],
      "authorship_tag": "ABX9TyPe/N8luyVoh5Orz4GclHBI"
    },
    "kernelspec": {
      "name": "python3",
      "display_name": "Python 3"
    },
    "language_info": {
      "name": "python"
    }
  },
  "cells": [
    {
      "cell_type": "markdown",
      "metadata": {
        "id": "0ZwfYhIQiLo6"
      },
      "source": [
        "[Reference](https://python.plainenglish.io/5-python-tricks-youve-never-heard-of-d5b40f360cc6)"
      ]
    },
    {
      "cell_type": "markdown",
      "metadata": {
        "id": "l84PEi6RiOuX"
      },
      "source": [
        "# 1- Find remainder and quotient with a single function: divmod()"
      ]
    },
    {
      "cell_type": "code",
      "metadata": {
        "colab": {
          "base_uri": "https://localhost:8080/"
        },
        "id": "iZYTfVJniCW1",
        "outputId": "8194d973-5065-4aa1-bd42-84d9e2310911"
      },
      "source": [
        "divmod(47, 5)"
      ],
      "execution_count": 1,
      "outputs": [
        {
          "output_type": "execute_result",
          "data": {
            "text/plain": [
              "(9, 2)"
            ]
          },
          "metadata": {},
          "execution_count": 1
        }
      ]
    },
    {
      "cell_type": "code",
      "metadata": {
        "colab": {
          "base_uri": "https://localhost:8080/"
        },
        "id": "POFPfE5ZiQIG",
        "outputId": "a0e92549-bf42-44a8-d032-e1b2283f0202"
      },
      "source": [
        "dividend = 1234\n",
        "divisor = 56 \n",
        "quotient, remainder = divmod(dividend, divisor)\n",
        "print(quotient)\n",
        "print(remainder)"
      ],
      "execution_count": 2,
      "outputs": [
        {
          "output_type": "stream",
          "name": "stdout",
          "text": [
            "22\n",
            "2\n"
          ]
        }
      ]
    },
    {
      "cell_type": "markdown",
      "metadata": {
        "id": "lfiURYlEiTnL"
      },
      "source": [
        "# 2- Capitalize the first letter of each word in a sentence"
      ]
    },
    {
      "cell_type": "code",
      "metadata": {
        "colab": {
          "base_uri": "https://localhost:8080/",
          "height": 37
        },
        "id": "w81ksSZ-iSKA",
        "outputId": "42e437d2-e151-4f5c-a7a0-1d13dcfbae3c"
      },
      "source": [
        "sentence = 'this is an awesome article'\n",
        "sentence.title()"
      ],
      "execution_count": 3,
      "outputs": [
        {
          "output_type": "execute_result",
          "data": {
            "application/vnd.google.colaboratory.intrinsic+json": {
              "type": "string"
            },
            "text/plain": [
              "'This Is An Awesome Article'"
            ]
          },
          "metadata": {},
          "execution_count": 3
        }
      ]
    },
    {
      "cell_type": "code",
      "metadata": {
        "colab": {
          "base_uri": "https://localhost:8080/",
          "height": 37
        },
        "id": "70Q-XvngiVG6",
        "outputId": "e75299f0-a2f5-41d0-ab8b-78caa3aeb45c"
      },
      "source": [
        "sentence = 'Python is a great programming language.'\n",
        "sentence.title()"
      ],
      "execution_count": 4,
      "outputs": [
        {
          "output_type": "execute_result",
          "data": {
            "application/vnd.google.colaboratory.intrinsic+json": {
              "type": "string"
            },
            "text/plain": [
              "'Python Is A Great Programming Language.'"
            ]
          },
          "metadata": {},
          "execution_count": 4
        }
      ]
    },
    {
      "cell_type": "markdown",
      "metadata": {
        "id": "CQETugAgiX4K"
      },
      "source": [
        "# 3- Debugging with f-strings"
      ]
    },
    {
      "cell_type": "code",
      "metadata": {
        "colab": {
          "base_uri": "https://localhost:8080/"
        },
        "id": "dTMoxrfgiWi5",
        "outputId": "ed72965b-5e65-426f-e399-85fb39e3664a"
      },
      "source": [
        "result = 5 * 7\n",
        "print(f'result = {result}')"
      ],
      "execution_count": 7,
      "outputs": [
        {
          "output_type": "stream",
          "name": "stdout",
          "text": [
            "result = 35\n"
          ]
        }
      ]
    },
    {
      "cell_type": "code",
      "metadata": {
        "colab": {
          "base_uri": "https://localhost:8080/"
        },
        "id": "tuXzwz2MiZl7",
        "outputId": "8c929ab5-d743-4348-9943-120ed9bca021"
      },
      "source": [
        "def add(x, y):\n",
        "    print(f'x = {x}, y = {y}')\n",
        "    return x + y\n",
        "\n",
        "add(2, 3)"
      ],
      "execution_count": 9,
      "outputs": [
        {
          "output_type": "stream",
          "name": "stdout",
          "text": [
            "x = 2, y = 3\n"
          ]
        },
        {
          "output_type": "execute_result",
          "data": {
            "text/plain": [
              "5"
            ]
          },
          "metadata": {},
          "execution_count": 9
        }
      ]
    },
    {
      "cell_type": "markdown",
      "metadata": {
        "id": "CFe6MXBwipbY"
      },
      "source": [
        "# 4- isidentifier()"
      ]
    },
    {
      "cell_type": "code",
      "metadata": {
        "colab": {
          "base_uri": "https://localhost:8080/"
        },
        "id": "xaFdnrxdigxW",
        "outputId": "bae79605-78a8-46ba-d231-5314e17b2953"
      },
      "source": [
        "a = 'I_love_Python'\n",
        "a.isidentifier()"
      ],
      "execution_count": 11,
      "outputs": [
        {
          "output_type": "execute_result",
          "data": {
            "text/plain": [
              "True"
            ]
          },
          "metadata": {},
          "execution_count": 11
        }
      ]
    },
    {
      "cell_type": "code",
      "metadata": {
        "colab": {
          "base_uri": "https://localhost:8080/"
        },
        "id": "Uk1lv7bxis7L",
        "outputId": "4ea6580f-9743-4186-9e6c-719ddc18d18e"
      },
      "source": [
        "b = 'I love Python'\n",
        "b.isidentifier()"
      ],
      "execution_count": 12,
      "outputs": [
        {
          "output_type": "execute_result",
          "data": {
            "text/plain": [
              "False"
            ]
          },
          "metadata": {},
          "execution_count": 12
        }
      ]
    },
    {
      "cell_type": "code",
      "metadata": {
        "colab": {
          "base_uri": "https://localhost:8080/"
        },
        "id": "2pGVsrHQivYp",
        "outputId": "6cb35cd6-3522-4637-d155-1b10a7efe494"
      },
      "source": [
        "c = 'example1'\n",
        "c.isidentifier()"
      ],
      "execution_count": 13,
      "outputs": [
        {
          "output_type": "execute_result",
          "data": {
            "text/plain": [
              "True"
            ]
          },
          "metadata": {},
          "execution_count": 13
        }
      ]
    },
    {
      "cell_type": "code",
      "metadata": {
        "colab": {
          "base_uri": "https://localhost:8080/"
        },
        "id": "QVNY7l2CiwPW",
        "outputId": "083422dd-7978-43d1-83d0-645e6f9e4be2"
      },
      "source": [
        "d = '1example'\n",
        "d.isidentifier()"
      ],
      "execution_count": 14,
      "outputs": [
        {
          "output_type": "execute_result",
          "data": {
            "text/plain": [
              "False"
            ]
          },
          "metadata": {},
          "execution_count": 14
        }
      ]
    },
    {
      "cell_type": "markdown",
      "metadata": {
        "id": "0U7Qn375ix52"
      },
      "source": [
        "# 5- Underscore character (_) in Python"
      ]
    },
    {
      "cell_type": "code",
      "metadata": {
        "colab": {
          "base_uri": "https://localhost:8080/"
        },
        "id": "v0PxnVhfiwsy",
        "outputId": "b1641e2b-8806-448c-f89d-49d253885023"
      },
      "source": [
        "27 + 5"
      ],
      "execution_count": 15,
      "outputs": [
        {
          "output_type": "execute_result",
          "data": {
            "text/plain": [
              "32"
            ]
          },
          "metadata": {},
          "execution_count": 15
        }
      ]
    },
    {
      "cell_type": "code",
      "metadata": {
        "colab": {
          "base_uri": "https://localhost:8080/"
        },
        "id": "tLPOGJ8sizMj",
        "outputId": "71738922-5e1b-46f3-bcf9-5bc8040477e2"
      },
      "source": [
        "_    # stores the result of the previous expression"
      ],
      "execution_count": 16,
      "outputs": [
        {
          "output_type": "execute_result",
          "data": {
            "text/plain": [
              "32"
            ]
          },
          "metadata": {},
          "execution_count": 16
        }
      ]
    },
    {
      "cell_type": "code",
      "metadata": {
        "colab": {
          "base_uri": "https://localhost:8080/"
        },
        "id": "8ucZFj3Gi0d-",
        "outputId": "474b63b8-2fbd-4eb3-93d8-66595a1dc81b"
      },
      "source": [
        "_ * 5"
      ],
      "execution_count": 17,
      "outputs": [
        {
          "output_type": "execute_result",
          "data": {
            "text/plain": [
              "160"
            ]
          },
          "metadata": {},
          "execution_count": 17
        }
      ]
    },
    {
      "cell_type": "code",
      "metadata": {
        "colab": {
          "base_uri": "https://localhost:8080/"
        },
        "id": "K8y_VmT6i2W3",
        "outputId": "074c124d-99cb-432c-aac2-ac41762998d3"
      },
      "source": [
        "10 "
      ],
      "execution_count": 24,
      "outputs": [
        {
          "output_type": "execute_result",
          "data": {
            "text/plain": [
              "10"
            ]
          },
          "metadata": {},
          "execution_count": 24
        }
      ]
    },
    {
      "cell_type": "code",
      "metadata": {
        "colab": {
          "base_uri": "https://localhost:8080/"
        },
        "id": "cBzzpjD2i3XS",
        "outputId": "4489093e-5fca-4d92-cf7d-f68ea32b2126"
      },
      "source": [
        "a = _ \n",
        "a"
      ],
      "execution_count": 25,
      "outputs": [
        {
          "output_type": "execute_result",
          "data": {
            "text/plain": [
              "10"
            ]
          },
          "metadata": {},
          "execution_count": 25
        }
      ]
    },
    {
      "cell_type": "code",
      "metadata": {
        "colab": {
          "base_uri": "https://localhost:8080/"
        },
        "id": "54b_z8l2i5EC",
        "outputId": "30de6dac-3159-4b50-8a6a-d713a567d05e"
      },
      "source": [
        "a * 3"
      ],
      "execution_count": 26,
      "outputs": [
        {
          "output_type": "execute_result",
          "data": {
            "text/plain": [
              "30"
            ]
          },
          "metadata": {},
          "execution_count": 26
        }
      ]
    },
    {
      "cell_type": "code",
      "metadata": {
        "colab": {
          "base_uri": "https://localhost:8080/"
        },
        "id": "_5XynX96i5w-",
        "outputId": "6d61bcc9-b891-4caa-d126-6cf563b45933"
      },
      "source": [
        "_"
      ],
      "execution_count": 27,
      "outputs": [
        {
          "output_type": "execute_result",
          "data": {
            "text/plain": [
              "30"
            ]
          },
          "metadata": {},
          "execution_count": 27
        }
      ]
    },
    {
      "cell_type": "code",
      "metadata": {
        "colab": {
          "base_uri": "https://localhost:8080/"
        },
        "id": "KwdlHSeRi6zI",
        "outputId": "a408666f-d2cc-4bd6-b8d9-cc043c07b144"
      },
      "source": [
        "_ * 20"
      ],
      "execution_count": 28,
      "outputs": [
        {
          "output_type": "execute_result",
          "data": {
            "text/plain": [
              "600"
            ]
          },
          "metadata": {},
          "execution_count": 28
        }
      ]
    }
  ]
}