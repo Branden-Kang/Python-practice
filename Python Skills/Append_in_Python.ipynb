{
  "nbformat": 4,
  "nbformat_minor": 0,
  "metadata": {
    "colab": {
      "name": "Append in Python.ipynb",
      "provenance": [],
      "authorship_tag": "ABX9TyOvVU5GGumMF69oUTHpGKvh"
    },
    "kernelspec": {
      "name": "python3",
      "display_name": "Python 3"
    },
    "language_info": {
      "name": "python"
    }
  },
  "cells": [
    {
      "cell_type": "markdown",
      "metadata": {
        "id": "3ULkAbwAC8AP"
      },
      "source": [
        "[Reference](https://towardsdatascience.com/append-in-python-41c37453400)"
      ]
    },
    {
      "cell_type": "code",
      "metadata": {
        "colab": {
          "base_uri": "https://localhost:8080/"
        },
        "id": "ZX5gGXIGC6OQ",
        "outputId": "efa2412f-8413-42c3-ded9-d2f729927c37"
      },
      "source": [
        "my_list = ['I' ,\"think\" ,\"Medium\" ,'is' , 'number' ,1]\n",
        "type(my_list)"
      ],
      "execution_count": 1,
      "outputs": [
        {
          "output_type": "execute_result",
          "data": {
            "text/plain": [
              "list"
            ]
          },
          "metadata": {},
          "execution_count": 1
        }
      ]
    },
    {
      "cell_type": "code",
      "metadata": {
        "colab": {
          "base_uri": "https://localhost:8080/"
        },
        "id": "su5SJb71DCI4",
        "outputId": "d167ad62-8d3d-456a-d7f8-1d07596b10a3"
      },
      "source": [
        "len(my_list)"
      ],
      "execution_count": 2,
      "outputs": [
        {
          "output_type": "execute_result",
          "data": {
            "text/plain": [
              "6"
            ]
          },
          "metadata": {},
          "execution_count": 2
        }
      ]
    },
    {
      "cell_type": "code",
      "metadata": {
        "colab": {
          "base_uri": "https://localhost:8080/"
        },
        "id": "kbPIJTEXDDI6",
        "outputId": "9f790423-549c-4e9a-b71e-cec693377a82"
      },
      "source": [
        "my_list[0],my_list[3]"
      ],
      "execution_count": 3,
      "outputs": [
        {
          "output_type": "execute_result",
          "data": {
            "text/plain": [
              "('I', 'is')"
            ]
          },
          "metadata": {},
          "execution_count": 3
        }
      ]
    },
    {
      "cell_type": "code",
      "metadata": {
        "colab": {
          "base_uri": "https://localhost:8080/"
        },
        "id": "n05_JT-CDFAO",
        "outputId": "da77e86a-b498-483f-e46b-4d71081fa83a"
      },
      "source": [
        "# list of strings\n",
        "string_list = ['Medium','Python','Machine Learning','Data Science']\n",
        "#adding a new int item to the string_list\n",
        "string_list.append(1)\n",
        "#printing appended list\n",
        "print(string_list)"
      ],
      "execution_count": 4,
      "outputs": [
        {
          "output_type": "stream",
          "name": "stdout",
          "text": [
            "['Medium', 'Python', 'Machine Learning', 'Data Science', 1]\n"
          ]
        }
      ]
    },
    {
      "cell_type": "code",
      "metadata": {
        "colab": {
          "base_uri": "https://localhost:8080/"
        },
        "id": "x7w_9QUTDIjA",
        "outputId": "6af58048-6491-4122-be06-b1dd35860d9a"
      },
      "source": [
        "#lets create a new list\n",
        "new_list = [1,2,3,4,5]\n",
        "#append this list to our string_list\n",
        "string_list.append(new_list)\n",
        "# print the appended list\n",
        "string_list"
      ],
      "execution_count": 5,
      "outputs": [
        {
          "output_type": "execute_result",
          "data": {
            "text/plain": [
              "['Medium', 'Python', 'Machine Learning', 'Data Science', 1, [1, 2, 3, 4, 5]]"
            ]
          },
          "metadata": {},
          "execution_count": 5
        }
      ]
    },
    {
      "cell_type": "code",
      "metadata": {
        "colab": {
          "base_uri": "https://localhost:8080/"
        },
        "id": "QAtHncGSDJuL",
        "outputId": "146c9efd-791b-4479-91a8-fed915db5fdc"
      },
      "source": [
        "string_list[5]"
      ],
      "execution_count": 6,
      "outputs": [
        {
          "output_type": "execute_result",
          "data": {
            "text/plain": [
              "[1, 2, 3, 4, 5]"
            ]
          },
          "metadata": {},
          "execution_count": 6
        }
      ]
    },
    {
      "cell_type": "code",
      "metadata": {
        "colab": {
          "base_uri": "https://localhost:8080/"
        },
        "id": "UK8KTjJKDKyO",
        "outputId": "349a94ec-7232-4e72-d1d7-4e0be80a6f5c"
      },
      "source": [
        "string_list[5][1]"
      ],
      "execution_count": 7,
      "outputs": [
        {
          "output_type": "execute_result",
          "data": {
            "text/plain": [
              "2"
            ]
          },
          "metadata": {},
          "execution_count": 7
        }
      ]
    },
    {
      "cell_type": "code",
      "metadata": {
        "colab": {
          "base_uri": "https://localhost:8080/",
          "height": 198
        },
        "id": "LjEfNNOVDMF0",
        "outputId": "105b7a12-9ef3-4cd2-dc59-08f234260f21"
      },
      "source": [
        "string_list[6]"
      ],
      "execution_count": 8,
      "outputs": [
        {
          "output_type": "error",
          "ename": "IndexError",
          "evalue": "ignored",
          "traceback": [
            "\u001b[0;31m---------------------------------------------------------------------------\u001b[0m",
            "\u001b[0;31mIndexError\u001b[0m                                Traceback (most recent call last)",
            "\u001b[0;32m<ipython-input-8-1d3b13a81e08>\u001b[0m in \u001b[0;36m<module>\u001b[0;34m()\u001b[0m\n\u001b[0;32m----> 1\u001b[0;31m \u001b[0mstring_list\u001b[0m\u001b[0;34m[\u001b[0m\u001b[0;36m6\u001b[0m\u001b[0;34m]\u001b[0m\u001b[0;34m\u001b[0m\u001b[0;34m\u001b[0m\u001b[0m\n\u001b[0m",
            "\u001b[0;31mIndexError\u001b[0m: list index out of range"
          ]
        }
      ]
    }
  ]
}