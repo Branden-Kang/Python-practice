{
  "nbformat": 4,
  "nbformat_minor": 0,
  "metadata": {
    "colab": {
      "name": "6 Python Container Data Types.ipynb",
      "provenance": [],
      "authorship_tag": "ABX9TyPIYHOVvt9Jn7aQbYMTq/HW"
    },
    "kernelspec": {
      "name": "python3",
      "display_name": "Python 3"
    },
    "language_info": {
      "name": "python"
    }
  },
  "cells": [
    {
      "cell_type": "markdown",
      "metadata": {
        "id": "p-Px4EHxewrh"
      },
      "source": [
        "[Reference](https://towardsdatascience.com/6-python-container-data-types-you-should-know-81dad6c4f61d)"
      ]
    },
    {
      "cell_type": "code",
      "metadata": {
        "id": "Iq4anT0uelSg"
      },
      "source": [
        "from collections import *"
      ],
      "execution_count": 1,
      "outputs": []
    },
    {
      "cell_type": "code",
      "metadata": {
        "id": "yrS4kfW7e07R"
      },
      "source": [
        "c1 = (-37.814288, 144.963122)"
      ],
      "execution_count": 2,
      "outputs": []
    },
    {
      "cell_type": "code",
      "metadata": {
        "id": "q5HoV5CHe2-6"
      },
      "source": [
        "Coordinate = namedtuple('Coordinate', ['latitude', 'longitude'])"
      ],
      "execution_count": 3,
      "outputs": []
    },
    {
      "cell_type": "code",
      "metadata": {
        "id": "0NHNU0Ohe4Pq"
      },
      "source": [
        "c1 = Coordinate(-37.814288, 144.963122)"
      ],
      "execution_count": 4,
      "outputs": []
    },
    {
      "cell_type": "code",
      "metadata": {
        "colab": {
          "base_uri": "https://localhost:8080/"
        },
        "id": "gyuLVY7Ce5ck",
        "outputId": "32f9d315-40ec-4d0a-cf82-b6e63764a6ba"
      },
      "source": [
        "print(c1)"
      ],
      "execution_count": 5,
      "outputs": [
        {
          "output_type": "stream",
          "text": [
            "Coordinate(latitude=-37.814288, longitude=144.963122)\n"
          ],
          "name": "stdout"
        }
      ]
    },
    {
      "cell_type": "code",
      "metadata": {
        "colab": {
          "base_uri": "https://localhost:8080/"
        },
        "id": "ZAxERxuae6PX",
        "outputId": "609f1be0-60b9-49c8-ac9b-bdcfa9d5ac23"
      },
      "source": [
        "print(f'The latitude is {c1.latitude} and the longitude is {c1.longitude}')"
      ],
      "execution_count": 6,
      "outputs": [
        {
          "output_type": "stream",
          "text": [
            "The latitude is -37.814288 and the longitude is 144.963122\n"
          ],
          "name": "stdout"
        }
      ]
    },
    {
      "cell_type": "code",
      "metadata": {
        "colab": {
          "base_uri": "https://localhost:8080/",
          "height": 198
        },
        "id": "sOn7qVMPe-Vh",
        "outputId": "bb469055-4881-4386-a1b4-6b528a5b3189"
      },
      "source": [
        "c1._fields()"
      ],
      "execution_count": 7,
      "outputs": [
        {
          "output_type": "error",
          "ename": "TypeError",
          "evalue": "ignored",
          "traceback": [
            "\u001b[0;31m---------------------------------------------------------------------------\u001b[0m",
            "\u001b[0;31mTypeError\u001b[0m                                 Traceback (most recent call last)",
            "\u001b[0;32m<ipython-input-7-3f14c0a19522>\u001b[0m in \u001b[0;36m<module>\u001b[0;34m()\u001b[0m\n\u001b[0;32m----> 1\u001b[0;31m \u001b[0mc1\u001b[0m\u001b[0;34m.\u001b[0m\u001b[0m_fields\u001b[0m\u001b[0;34m(\u001b[0m\u001b[0;34m)\u001b[0m\u001b[0;34m\u001b[0m\u001b[0;34m\u001b[0m\u001b[0m\n\u001b[0m",
            "\u001b[0;31mTypeError\u001b[0m: 'tuple' object is not callable"
          ]
        }
      ]
    },
    {
      "cell_type": "code",
      "metadata": {
        "colab": {
          "base_uri": "https://localhost:8080/"
        },
        "id": "CXFSt_cge_uF",
        "outputId": "14dc6969-ca1f-40db-ea9c-ea0ae561e7d2"
      },
      "source": [
        "c1._asdict()"
      ],
      "execution_count": 8,
      "outputs": [
        {
          "output_type": "execute_result",
          "data": {
            "text/plain": [
              "OrderedDict([('latitude', -37.814288), ('longitude', 144.963122)])"
            ]
          },
          "metadata": {
            "tags": []
          },
          "execution_count": 8
        }
      ]
    },
    {
      "cell_type": "code",
      "metadata": {
        "colab": {
          "base_uri": "https://localhost:8080/"
        },
        "id": "m2OXFYygfCbG",
        "outputId": "563af525-26b3-4727-8024-bcff5fa87a84"
      },
      "source": [
        "od = c1._asdict()\n",
        "od"
      ],
      "execution_count": 9,
      "outputs": [
        {
          "output_type": "execute_result",
          "data": {
            "text/plain": [
              "OrderedDict([('latitude', -37.814288), ('longitude', 144.963122)])"
            ]
          },
          "metadata": {
            "tags": []
          },
          "execution_count": 9
        }
      ]
    },
    {
      "cell_type": "code",
      "metadata": {
        "colab": {
          "base_uri": "https://localhost:8080/"
        },
        "id": "QzF4Bl-mfJVr",
        "outputId": "13c71a33-0aba-46b7-ff6f-c23d9228c0d5"
      },
      "source": [
        "print(f\"The latitude is {od['latitude']} and the longitude is {od['longitude']}\")"
      ],
      "execution_count": 10,
      "outputs": [
        {
          "output_type": "stream",
          "text": [
            "The latitude is -37.814288 and the longitude is 144.963122\n"
          ],
          "name": "stdout"
        }
      ]
    },
    {
      "cell_type": "code",
      "metadata": {
        "id": "pBasT-3PfLNO"
      },
      "source": [
        "od.move_to_end('latitude')"
      ],
      "execution_count": 11,
      "outputs": []
    },
    {
      "cell_type": "code",
      "metadata": {
        "colab": {
          "base_uri": "https://localhost:8080/"
        },
        "id": "WezovvqMfNJi",
        "outputId": "73ec82b0-1089-4a30-ec38-ca1f60a79d2d"
      },
      "source": [
        "lat = od.popitem()\n",
        "od"
      ],
      "execution_count": 12,
      "outputs": [
        {
          "output_type": "execute_result",
          "data": {
            "text/plain": [
              "OrderedDict([('longitude', 144.963122)])"
            ]
          },
          "metadata": {
            "tags": []
          },
          "execution_count": 12
        }
      ]
    },
    {
      "cell_type": "code",
      "metadata": {
        "colab": {
          "base_uri": "https://localhost:8080/"
        },
        "id": "IlY3NI32fSTu",
        "outputId": "022c70fc-4c34-4b58-a97f-25ab455a2f88"
      },
      "source": [
        "lat"
      ],
      "execution_count": 13,
      "outputs": [
        {
          "output_type": "execute_result",
          "data": {
            "text/plain": [
              "('latitude', -37.814288)"
            ]
          },
          "metadata": {
            "tags": []
          },
          "execution_count": 13
        }
      ]
    },
    {
      "cell_type": "code",
      "metadata": {
        "id": "gkDNlRzafTNB"
      },
      "source": [
        "usr_config = {'name': 'Chris', 'language': 'Python'}\n",
        "sys_config = {'name': 'admin', 'language': 'Shell Script', 'editor': 'vm'}"
      ],
      "execution_count": 14,
      "outputs": []
    },
    {
      "cell_type": "code",
      "metadata": {
        "colab": {
          "base_uri": "https://localhost:8080/"
        },
        "id": "aNrayE7ffYEV",
        "outputId": "acf6ba5e-406d-4729-8477-842176bf71b9"
      },
      "source": [
        "cm = ChainMap(usr_config, sys_config)\n",
        "cm"
      ],
      "execution_count": 15,
      "outputs": [
        {
          "output_type": "execute_result",
          "data": {
            "text/plain": [
              "ChainMap({'name': 'Chris', 'language': 'Python'}, {'name': 'admin', 'language': 'Shell Script', 'editor': 'vm'})"
            ]
          },
          "metadata": {
            "tags": []
          },
          "execution_count": 15
        }
      ]
    },
    {
      "cell_type": "code",
      "metadata": {
        "colab": {
          "base_uri": "https://localhost:8080/"
        },
        "id": "CzwMZapOfZ5I",
        "outputId": "b14f78a0-3ab6-419e-c358-d5f136c8f877"
      },
      "source": [
        "list(cm)"
      ],
      "execution_count": 16,
      "outputs": [
        {
          "output_type": "execute_result",
          "data": {
            "text/plain": [
              "['name', 'language', 'editor']"
            ]
          },
          "metadata": {
            "tags": []
          },
          "execution_count": 16
        }
      ]
    },
    {
      "cell_type": "code",
      "metadata": {
        "colab": {
          "base_uri": "https://localhost:8080/",
          "height": 37
        },
        "id": "zi2PhnqUfkV4",
        "outputId": "d4c807dc-19ce-4d06-f2f2-64cd1655d558"
      },
      "source": [
        "cm['name']"
      ],
      "execution_count": 17,
      "outputs": [
        {
          "output_type": "execute_result",
          "data": {
            "application/vnd.google.colaboratory.intrinsic+json": {
              "type": "string"
            },
            "text/plain": [
              "'Chris'"
            ]
          },
          "metadata": {
            "tags": []
          },
          "execution_count": 17
        }
      ]
    },
    {
      "cell_type": "code",
      "metadata": {
        "colab": {
          "base_uri": "https://localhost:8080/",
          "height": 37
        },
        "id": "TMo-H4AafnvL",
        "outputId": "c95d005e-0cf5-464c-cfd1-c095b3ecbbb7"
      },
      "source": [
        "cm['editor']"
      ],
      "execution_count": 18,
      "outputs": [
        {
          "output_type": "execute_result",
          "data": {
            "application/vnd.google.colaboratory.intrinsic+json": {
              "type": "string"
            },
            "text/plain": [
              "'vm'"
            ]
          },
          "metadata": {
            "tags": []
          },
          "execution_count": 18
        }
      ]
    },
    {
      "cell_type": "code",
      "metadata": {
        "colab": {
          "base_uri": "https://localhost:8080/",
          "height": 494
        },
        "id": "jUkmdUJBfofs",
        "outputId": "3d71c55f-ab51-4bdd-d98a-4605a50e04f5"
      },
      "source": [
        "del cm['editor']\n",
        "cm['editor']"
      ],
      "execution_count": 19,
      "outputs": [
        {
          "output_type": "error",
          "ename": "KeyError",
          "evalue": "ignored",
          "traceback": [
            "\u001b[0;31m---------------------------------------------------------------------------\u001b[0m",
            "\u001b[0;31mKeyError\u001b[0m                                  Traceback (most recent call last)",
            "\u001b[0;32m/usr/lib/python3.7/collections/__init__.py\u001b[0m in \u001b[0;36m__delitem__\u001b[0;34m(self, key)\u001b[0m\n\u001b[1;32m    969\u001b[0m         \u001b[0;32mtry\u001b[0m\u001b[0;34m:\u001b[0m\u001b[0;34m\u001b[0m\u001b[0;34m\u001b[0m\u001b[0m\n\u001b[0;32m--> 970\u001b[0;31m             \u001b[0;32mdel\u001b[0m \u001b[0mself\u001b[0m\u001b[0;34m.\u001b[0m\u001b[0mmaps\u001b[0m\u001b[0;34m[\u001b[0m\u001b[0;36m0\u001b[0m\u001b[0;34m]\u001b[0m\u001b[0;34m[\u001b[0m\u001b[0mkey\u001b[0m\u001b[0;34m]\u001b[0m\u001b[0;34m\u001b[0m\u001b[0;34m\u001b[0m\u001b[0m\n\u001b[0m\u001b[1;32m    971\u001b[0m         \u001b[0;32mexcept\u001b[0m \u001b[0mKeyError\u001b[0m\u001b[0;34m:\u001b[0m\u001b[0;34m\u001b[0m\u001b[0;34m\u001b[0m\u001b[0m\n",
            "\u001b[0;31mKeyError\u001b[0m: 'editor'",
            "\nDuring handling of the above exception, another exception occurred:\n",
            "\u001b[0;31mKeyError\u001b[0m                                  Traceback (most recent call last)",
            "\u001b[0;32m<ipython-input-19-c180d8e4fd59>\u001b[0m in \u001b[0;36m<module>\u001b[0;34m()\u001b[0m\n\u001b[0;32m----> 1\u001b[0;31m \u001b[0;32mdel\u001b[0m \u001b[0mcm\u001b[0m\u001b[0;34m[\u001b[0m\u001b[0;34m'editor'\u001b[0m\u001b[0;34m]\u001b[0m\u001b[0;34m\u001b[0m\u001b[0;34m\u001b[0m\u001b[0m\n\u001b[0m\u001b[1;32m      2\u001b[0m \u001b[0mcm\u001b[0m\u001b[0;34m[\u001b[0m\u001b[0;34m'editor'\u001b[0m\u001b[0;34m]\u001b[0m\u001b[0;34m\u001b[0m\u001b[0;34m\u001b[0m\u001b[0m\n",
            "\u001b[0;32m/usr/lib/python3.7/collections/__init__.py\u001b[0m in \u001b[0;36m__delitem__\u001b[0;34m(self, key)\u001b[0m\n\u001b[1;32m    970\u001b[0m             \u001b[0;32mdel\u001b[0m \u001b[0mself\u001b[0m\u001b[0;34m.\u001b[0m\u001b[0mmaps\u001b[0m\u001b[0;34m[\u001b[0m\u001b[0;36m0\u001b[0m\u001b[0;34m]\u001b[0m\u001b[0;34m[\u001b[0m\u001b[0mkey\u001b[0m\u001b[0;34m]\u001b[0m\u001b[0;34m\u001b[0m\u001b[0;34m\u001b[0m\u001b[0m\n\u001b[1;32m    971\u001b[0m         \u001b[0;32mexcept\u001b[0m \u001b[0mKeyError\u001b[0m\u001b[0;34m:\u001b[0m\u001b[0;34m\u001b[0m\u001b[0;34m\u001b[0m\u001b[0m\n\u001b[0;32m--> 972\u001b[0;31m             \u001b[0;32mraise\u001b[0m \u001b[0mKeyError\u001b[0m\u001b[0;34m(\u001b[0m\u001b[0;34m'Key not found in the first mapping: {!r}'\u001b[0m\u001b[0;34m.\u001b[0m\u001b[0mformat\u001b[0m\u001b[0;34m(\u001b[0m\u001b[0mkey\u001b[0m\u001b[0;34m)\u001b[0m\u001b[0;34m)\u001b[0m\u001b[0;34m\u001b[0m\u001b[0;34m\u001b[0m\u001b[0m\n\u001b[0m\u001b[1;32m    973\u001b[0m \u001b[0;34m\u001b[0m\u001b[0m\n\u001b[1;32m    974\u001b[0m     \u001b[0;32mdef\u001b[0m \u001b[0mpopitem\u001b[0m\u001b[0;34m(\u001b[0m\u001b[0mself\u001b[0m\u001b[0;34m)\u001b[0m\u001b[0;34m:\u001b[0m\u001b[0;34m\u001b[0m\u001b[0;34m\u001b[0m\u001b[0m\n",
            "\u001b[0;31mKeyError\u001b[0m: \"Key not found in the first mapping: 'editor'\""
          ]
        }
      ]
    },
    {
      "cell_type": "code",
      "metadata": {
        "id": "oURMX4IFfrRM"
      },
      "source": [
        "my_list = ['a', 'b', 'c', 'a', 'c', 'a', 'a', 'a', 'c', 'b', 'c', 'c', 'b', 'b', 'c']"
      ],
      "execution_count": 20,
      "outputs": []
    },
    {
      "cell_type": "code",
      "metadata": {
        "id": "JSHE1_W6fuB5"
      },
      "source": [
        "counter = Counter()\n",
        "for letter in my_list:\n",
        "    counter[letter] += 1"
      ],
      "execution_count": 22,
      "outputs": []
    },
    {
      "cell_type": "code",
      "metadata": {
        "colab": {
          "base_uri": "https://localhost:8080/"
        },
        "id": "iq-ayVvIfvZP",
        "outputId": "921eda76-380e-48f1-c0a2-9c3416e31cac"
      },
      "source": [
        "counter"
      ],
      "execution_count": 24,
      "outputs": [
        {
          "output_type": "execute_result",
          "data": {
            "text/plain": [
              "Counter({'a': 5, 'b': 4, 'c': 6})"
            ]
          },
          "metadata": {
            "tags": []
          },
          "execution_count": 24
        }
      ]
    },
    {
      "cell_type": "code",
      "metadata": {
        "colab": {
          "base_uri": "https://localhost:8080/"
        },
        "id": "5Hw1DfRnfw_4",
        "outputId": "a25e071b-5788-42e9-d33b-eb9dc4175d07"
      },
      "source": [
        "counter.most_common(2)"
      ],
      "execution_count": 25,
      "outputs": [
        {
          "output_type": "execute_result",
          "data": {
            "text/plain": [
              "[('c', 6), ('a', 5)]"
            ]
          },
          "metadata": {
            "tags": []
          },
          "execution_count": 25
        }
      ]
    },
    {
      "cell_type": "code",
      "metadata": {
        "colab": {
          "base_uri": "https://localhost:8080/"
        },
        "id": "x-bZMaMmfza5",
        "outputId": "07afb910-1f4a-472d-bf3b-8321c75276c9"
      },
      "source": [
        "list(counter.elements())"
      ],
      "execution_count": 26,
      "outputs": [
        {
          "output_type": "execute_result",
          "data": {
            "text/plain": [
              "['a', 'a', 'a', 'a', 'a', 'b', 'b', 'b', 'b', 'c', 'c', 'c', 'c', 'c', 'c']"
            ]
          },
          "metadata": {
            "tags": []
          },
          "execution_count": 26
        }
      ]
    },
    {
      "cell_type": "code",
      "metadata": {
        "id": "9XRQS0Uef1u7"
      },
      "source": [
        "another_counter = Counter(a=1, b=4, c=3)"
      ],
      "execution_count": 27,
      "outputs": []
    },
    {
      "cell_type": "code",
      "metadata": {
        "colab": {
          "base_uri": "https://localhost:8080/"
        },
        "id": "tUhUjGFaf3wi",
        "outputId": "cbfc9690-ce7d-4a5f-dda0-b9acf4c911f1"
      },
      "source": [
        "another_counter "
      ],
      "execution_count": 28,
      "outputs": [
        {
          "output_type": "execute_result",
          "data": {
            "text/plain": [
              "Counter({'a': 1, 'b': 4, 'c': 3})"
            ]
          },
          "metadata": {
            "tags": []
          },
          "execution_count": 28
        }
      ]
    },
    {
      "cell_type": "code",
      "metadata": {
        "colab": {
          "base_uri": "https://localhost:8080/"
        },
        "id": "gdTe52g0f4HK",
        "outputId": "113d914c-5848-444f-ce80-84b9af35c788"
      },
      "source": [
        "counter - another_counter"
      ],
      "execution_count": 29,
      "outputs": [
        {
          "output_type": "execute_result",
          "data": {
            "text/plain": [
              "Counter({'a': 4, 'c': 3})"
            ]
          },
          "metadata": {
            "tags": []
          },
          "execution_count": 29
        }
      ]
    },
    {
      "cell_type": "code",
      "metadata": {
        "colab": {
          "base_uri": "https://localhost:8080/"
        },
        "id": "44S9sVHxf56z",
        "outputId": "525681ae-2c71-4fa9-905f-397ee71f9248"
      },
      "source": [
        "sum(counter.values())"
      ],
      "execution_count": 30,
      "outputs": [
        {
          "output_type": "execute_result",
          "data": {
            "text/plain": [
              "15"
            ]
          },
          "metadata": {
            "tags": []
          },
          "execution_count": 30
        }
      ]
    },
    {
      "cell_type": "code",
      "metadata": {
        "colab": {
          "base_uri": "https://localhost:8080/"
        },
        "id": "mFDOPj99f7nT",
        "outputId": "ed2f713d-2ef9-4496-b44e-5528e30ba2f2"
      },
      "source": [
        "dq = deque('bcd')\n",
        "dq"
      ],
      "execution_count": 31,
      "outputs": [
        {
          "output_type": "execute_result",
          "data": {
            "text/plain": [
              "deque(['b', 'c', 'd'])"
            ]
          },
          "metadata": {
            "tags": []
          },
          "execution_count": 31
        }
      ]
    },
    {
      "cell_type": "code",
      "metadata": {
        "id": "1qBNfNL_f-gf"
      },
      "source": [
        "dq.append('e')\n",
        "dq.appendleft('a')"
      ],
      "execution_count": 32,
      "outputs": []
    },
    {
      "cell_type": "code",
      "metadata": {
        "id": "bUp_AwmMgAlF"
      },
      "source": [
        "dq.extend('fgh')\n",
        "dq.extendleft('210')"
      ],
      "execution_count": 33,
      "outputs": []
    },
    {
      "cell_type": "code",
      "metadata": {
        "id": "YgX-0CZlgDB4"
      },
      "source": [
        "dq.rotate()\n",
        "dq.rotate(-1)"
      ],
      "execution_count": 34,
      "outputs": []
    },
    {
      "cell_type": "code",
      "metadata": {
        "colab": {
          "base_uri": "https://localhost:8080/"
        },
        "id": "peYqFOF-gGM3",
        "outputId": "49e6ed30-b604-4479-cc26-fbb254c87191"
      },
      "source": [
        "dq.pop()\n",
        "dq"
      ],
      "execution_count": 35,
      "outputs": [
        {
          "output_type": "execute_result",
          "data": {
            "text/plain": [
              "deque(['0', '1', '2', 'a', 'b', 'c', 'd', 'e', 'f', 'g'])"
            ]
          },
          "metadata": {
            "tags": []
          },
          "execution_count": 35
        }
      ]
    },
    {
      "cell_type": "code",
      "metadata": {
        "colab": {
          "base_uri": "https://localhost:8080/"
        },
        "id": "nkOpUYCagJ8n",
        "outputId": "f74c63cf-b24b-413b-a73e-b0d188e5ab06"
      },
      "source": [
        "dq.popleft()\n",
        "dq"
      ],
      "execution_count": 36,
      "outputs": [
        {
          "output_type": "execute_result",
          "data": {
            "text/plain": [
              "deque(['1', '2', 'a', 'b', 'c', 'd', 'e', 'f', 'g'])"
            ]
          },
          "metadata": {
            "tags": []
          },
          "execution_count": 36
        }
      ]
    },
    {
      "cell_type": "code",
      "metadata": {
        "id": "q46x4x0igKcM"
      },
      "source": [
        "my_list = ['Alice', 'Bob', 'Chris', 'Bill', 'Ashley', 'Anna']"
      ],
      "execution_count": 37,
      "outputs": []
    },
    {
      "cell_type": "code",
      "metadata": {
        "colab": {
          "base_uri": "https://localhost:8080/"
        },
        "id": "qBhS1KYFgMwV",
        "outputId": "90d77eb1-ba1e-4385-cbd4-b5bb4a939861"
      },
      "source": [
        "dd = defaultdict(list)\n",
        "\n",
        "for name in my_list:\n",
        "    dd[name[0]].append(name)\n",
        "    \n",
        "dd.items()"
      ],
      "execution_count": 38,
      "outputs": [
        {
          "output_type": "execute_result",
          "data": {
            "text/plain": [
              "dict_items([('A', ['Alice', 'Ashley', 'Anna']), ('B', ['Bob', 'Bill']), ('C', ['Chris'])])"
            ]
          },
          "metadata": {
            "tags": []
          },
          "execution_count": 38
        }
      ]
    },
    {
      "cell_type": "code",
      "metadata": {
        "colab": {
          "base_uri": "https://localhost:8080/"
        },
        "id": "WQrfUeXQgP_0",
        "outputId": "1f62197d-f444-47e3-b777-1a0d492686f0"
      },
      "source": [
        "print(f'''\n",
        "Names start with \"A\":\n",
        "{dd[\"A\"]}Names start with \"B\":\n",
        "{dd[\"B\"]}Names start with \"C\":\n",
        "{dd[\"C\"]}\n",
        "''')"
      ],
      "execution_count": 39,
      "outputs": [
        {
          "output_type": "stream",
          "text": [
            "\n",
            "Names start with \"A\":\n",
            "['Alice', 'Ashley', 'Anna']Names start with \"B\":\n",
            "['Bob', 'Bill']Names start with \"C\":\n",
            "['Chris']\n",
            "\n"
          ],
          "name": "stdout"
        }
      ]
    },
    {
      "cell_type": "code",
      "metadata": {
        "colab": {
          "base_uri": "https://localhost:8080/"
        },
        "id": "32wef9lwgSoI",
        "outputId": "0db9e0cc-cc15-4245-91da-2851ea168dfa"
      },
      "source": [
        "dd = defaultdict(int)\n",
        "\n",
        "for name in my_list:\n",
        "    dd[name[0]] += 1\n",
        "    \n",
        "dd.items()"
      ],
      "execution_count": 40,
      "outputs": [
        {
          "output_type": "execute_result",
          "data": {
            "text/plain": [
              "dict_items([('A', 3), ('B', 2), ('C', 1)])"
            ]
          },
          "metadata": {
            "tags": []
          },
          "execution_count": 40
        }
      ]
    }
  ]
}