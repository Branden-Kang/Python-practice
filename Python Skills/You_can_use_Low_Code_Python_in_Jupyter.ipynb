{
  "nbformat": 4,
  "nbformat_minor": 0,
  "metadata": {
    "colab": {
      "name": "You can use Low Code Python in Jupyter.ipynb",
      "provenance": [],
      "collapsed_sections": [],
      "authorship_tag": "ABX9TyPNWIHbCqPWSY82rz7ZcQEZ"
    },
    "kernelspec": {
      "name": "python3",
      "display_name": "Python 3"
    },
    "language_info": {
      "name": "python"
    }
  },
  "cells": [
    {
      "cell_type": "markdown",
      "metadata": {
        "id": "JioLcSefoUWY"
      },
      "source": [
        "[Reference](https://jjdiamondreivich.medium.com/low-code-python-is-available-in-jupyter-updated-d3657b7b5526)"
      ]
    },
    {
      "cell_type": "markdown",
      "metadata": {
        "id": "bPckL_CRoYmh"
      },
      "source": [
        "# bamboolib"
      ]
    },
    {
      "cell_type": "code",
      "metadata": {
        "id": "Pc2SffR6oSUk"
      },
      "source": [
        "import bamboolib as bam\n",
        "import pandas as pd\n",
        "df = pd.read_csv(bam.titanic_csv)\n",
        "df"
      ],
      "execution_count": null,
      "outputs": []
    },
    {
      "cell_type": "markdown",
      "metadata": {
        "id": "S2495DHcodaF"
      },
      "source": [
        "# Lux"
      ]
    },
    {
      "cell_type": "code",
      "metadata": {
        "id": "pGa-OJo5oZgb"
      },
      "source": [
        "import lux\n",
        "import pandas as pd"
      ],
      "execution_count": null,
      "outputs": []
    },
    {
      "cell_type": "markdown",
      "metadata": {
        "id": "RR3Ar0eAohMK"
      },
      "source": [
        "# Mito"
      ]
    },
    {
      "cell_type": "code",
      "metadata": {
        "id": "ntey2ZLLoeYL"
      },
      "source": [
        "!python -m pip install mitoinstaller\n",
        "!python -m mitoinstaller install"
      ],
      "execution_count": null,
      "outputs": []
    },
    {
      "cell_type": "code",
      "metadata": {
        "id": "3Y6eXvTvoiOq"
      },
      "source": [
        "import mitosheet\n",
        "mitosheet.sheet()"
      ],
      "execution_count": null,
      "outputs": []
    }
  ]
}