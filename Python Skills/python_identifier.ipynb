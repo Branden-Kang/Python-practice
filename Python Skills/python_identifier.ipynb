{
  "nbformat": 4,
  "nbformat_minor": 0,
  "metadata": {
    "colab": {
      "name": "python identifier.ipynb",
      "provenance": [],
      "authorship_tag": "ABX9TyNh86KG6gFKABpodz8BiDP+"
    },
    "kernelspec": {
      "name": "python3",
      "display_name": "Python 3"
    },
    "language_info": {
      "name": "python"
    }
  },
  "cells": [
    {
      "cell_type": "markdown",
      "metadata": {
        "id": "eTzn9K7x6r0W"
      },
      "source": [
        "[Reference](https://medium.com/artificial-intelligences-technology/python-identifier-a0f4cf066d07)"
      ]
    },
    {
      "cell_type": "code",
      "metadata": {
        "id": "99pO0NBm6qDy"
      },
      "source": [
        "var=307\n",
        "My_var=120\n",
        "My_var344=120\n",
        "STRING=\"UMAR\"\n",
        "fLoat=3.14"
      ],
      "execution_count": 1,
      "outputs": []
    },
    {
      "cell_type": "code",
      "metadata": {
        "colab": {
          "base_uri": "https://localhost:8080/"
        },
        "id": "RfQWKcva6wSD",
        "outputId": "10af8e28-63b2-4f79-c891-902461013395"
      },
      "source": [
        "def my_function():\n",
        "  print(\"This is valid function name 1\")\n",
        "  \n",
        "def My_function():\n",
        "  print(\"This is valid function name 2\")\n",
        "  \n",
        "def Myfunction344():\n",
        "  print(\"This is valid function name 3\")\n",
        "\n",
        "def FUNCTION():\n",
        "  print(\"This is valid function name 4\")\n",
        "  \n",
        "#Calling\n",
        "my_function()\n",
        "My_function()\n",
        "Myfunction344()\n",
        "FUNCTION()"
      ],
      "execution_count": 2,
      "outputs": [
        {
          "output_type": "stream",
          "text": [
            "This is valid function name 1\n",
            "This is valid function name 2\n",
            "This is valid function name 3\n",
            "This is valid function name 4\n"
          ],
          "name": "stdout"
        }
      ]
    },
    {
      "cell_type": "code",
      "metadata": {
        "id": "uokAj4096zWt"
      },
      "source": [
        "class MyClass:\n",
        "  x = 11\n",
        "class My_Class:\n",
        "  x = 5\n",
        "class My_Class344:\n",
        "  x = 52\n",
        "class ClassName344:\n",
        "  x = 5\n",
        "class CLASSNAME:\n",
        "  x = 5"
      ],
      "execution_count": 3,
      "outputs": []
    },
    {
      "cell_type": "code",
      "metadata": {
        "colab": {
          "base_uri": "https://localhost:8080/"
        },
        "id": "CBdODJ_G6017",
        "outputId": "826a9f61-4f44-44bf-f8eb-ff97f090f461"
      },
      "source": [
        "print(\"var\".isidentifier())        #True\n",
        "print(\"My_var\".isidentifier())     #True\n",
        "print(\"My_var344\".isidentifier())  #True\n",
        "print(\"STRING\".isidentifier())     #True\n",
        "\n",
        "# some invalid identifiers example\n",
        "print(\"5var\".isidentifier()) #False (cannot start with a number)\n",
        "print(\"@var\".isidentifier()) #False (cannot start with a special character)\n",
        "print(\"55\".isidentifier()) #False (cannot start with a number)"
      ],
      "execution_count": 4,
      "outputs": [
        {
          "output_type": "stream",
          "text": [
            "True\n",
            "True\n",
            "True\n",
            "True\n",
            "False\n",
            "False\n",
            "False\n"
          ],
          "name": "stdout"
        }
      ]
    },
    {
      "cell_type": "code",
      "metadata": {
        "colab": {
          "base_uri": "https://localhost:8080/"
        },
        "id": "S-cVP6f662Xv",
        "outputId": "602a41a9-57ff-4283-d4f0-09f399b0c7db"
      },
      "source": [
        "print(\"for\".isidentifier())        #True\n",
        "#for is a keyword"
      ],
      "execution_count": 5,
      "outputs": [
        {
          "output_type": "stream",
          "text": [
            "True\n"
          ],
          "name": "stdout"
        }
      ]
    },
    {
      "cell_type": "code",
      "metadata": {
        "colab": {
          "base_uri": "https://localhost:8080/"
        },
        "id": "cKhwyToS65It",
        "outputId": "389edb3f-b6b4-445b-e04d-061c4528afd1"
      },
      "source": [
        "import keyword\n",
        "print(keyword.iskeyword(\"for\")) #True"
      ],
      "execution_count": 6,
      "outputs": [
        {
          "output_type": "stream",
          "text": [
            "True\n"
          ],
          "name": "stdout"
        }
      ]
    },
    {
      "cell_type": "code",
      "metadata": {
        "colab": {
          "base_uri": "https://localhost:8080/"
        },
        "id": "1ecWvwrZ66XW",
        "outputId": "0c1ece45-f165-467b-cd3f-150abc7ec7a3"
      },
      "source": [
        "import keyword\n",
        "def is_Valid_Identifier(s):\n",
        "    if (s.isidentifier() and not keyword.iskeyword(s)):\n",
        "        print(s,\"is Valid Identifier\")\n",
        "    else:\n",
        "        print(s,\"is not Valid Identifier\")\n",
        "        \n",
        "is_Valid_Identifier(\"for\")\n",
        "is_Valid_Identifier(\"var\")"
      ],
      "execution_count": 7,
      "outputs": [
        {
          "output_type": "stream",
          "text": [
            "for is not Valid Identifier\n",
            "var is Valid Identifier\n"
          ],
          "name": "stdout"
        }
      ]
    }
  ]
}