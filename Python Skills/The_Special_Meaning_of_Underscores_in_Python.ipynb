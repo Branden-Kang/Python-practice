{
  "nbformat": 4,
  "nbformat_minor": 0,
  "metadata": {
    "colab": {
      "name": "The Special Meaning of Underscores in Python.ipynb",
      "provenance": [],
      "authorship_tag": "ABX9TyO/NiV37eA7lIhzloc4a/6j"
    },
    "kernelspec": {
      "name": "python3",
      "display_name": "Python 3"
    }
  },
  "cells": [
    {
      "cell_type": "markdown",
      "metadata": {
        "id": "xvbQUyGRKeTp"
      },
      "source": [
        "[Reference](https://medium.com/better-programming/the-special-meaning-of-underscores-in-python-9ceaaeb41007)"
      ]
    },
    {
      "cell_type": "markdown",
      "metadata": {
        "id": "SF-2wMiXLE7M"
      },
      "source": [
        "# 1. Single Underscore"
      ]
    },
    {
      "cell_type": "code",
      "metadata": {
        "colab": {
          "base_uri": "https://localhost:8080/"
        },
        "id": "TGq2mEy6KdCZ",
        "outputId": "e0c310e8-130e-4ae6-c8cc-dd839280074d"
      },
      "source": [
        "#Single underscore used in for loop\n",
        "for _ in range(5):\n",
        "    print (\"Python\")\n",
        "\n",
        "#Iterating through list\n",
        "colors=[\"red\",\"blue\",\"green\"]\n",
        "for _ in colors:\n",
        "    print (_)"
      ],
      "execution_count": 1,
      "outputs": [
        {
          "output_type": "stream",
          "text": [
            "Python\n",
            "Python\n",
            "Python\n",
            "Python\n",
            "Python\n",
            "red\n",
            "blue\n",
            "green\n"
          ],
          "name": "stdout"
        }
      ]
    },
    {
      "cell_type": "code",
      "metadata": {
        "colab": {
          "base_uri": "https://localhost:8080/"
        },
        "id": "w29DWU7oLI3D",
        "outputId": "0c0a78de-5554-476f-cac9-1c456722bce2"
      },
      "source": [
        "#tuple unpacking\n",
        "t=(\"red\",\"green\",\"blue\")\n",
        "#ignoring value \"green\" while tuple unpacking\n",
        "t1,_,t2=t\n",
        "print (t1)#Output:red\n",
        "print (t2)#Output:blue\n",
        "\n",
        "\n",
        "#Ignoring multiple values in tuple unpacking\n",
        "tt=(1,2,3,4,5,6)\n",
        "#Ignoring all values except first and last element in tuple.\n",
        "t3,*_,t4=tt\n",
        "print (t3)\n",
        "print (t4)"
      ],
      "execution_count": 2,
      "outputs": [
        {
          "output_type": "stream",
          "text": [
            "red\n",
            "blue\n",
            "1\n",
            "6\n"
          ],
          "name": "stdout"
        }
      ]
    },
    {
      "cell_type": "code",
      "metadata": {
        "colab": {
          "base_uri": "https://localhost:8080/"
        },
        "id": "nvFzn81RLO4N",
        "outputId": "8aef21a3-387a-4e6e-d5c5-230c0bd6af6d"
      },
      "source": [
        "#grouping decimal numbers by _\n",
        "a=10_000_000\n",
        "print (a)#Output:10000000"
      ],
      "execution_count": 3,
      "outputs": [
        {
          "output_type": "stream",
          "text": [
            "10000000\n"
          ],
          "name": "stdout"
        }
      ]
    },
    {
      "cell_type": "markdown",
      "metadata": {
        "id": "2GeHaxcKLSif"
      },
      "source": [
        "# 2.Single Leading Underscore"
      ]
    },
    {
      "cell_type": "code",
      "metadata": {
        "colab": {
          "base_uri": "https://localhost:8080/"
        },
        "id": "NbmlEV2NLRwp",
        "outputId": "c56bbde1-3c2d-4071-a61a-a891a0995eb1"
      },
      "source": [
        "#variable name having single leading underscore.\n",
        "_a=\"hello\"\n",
        "b=\"helloworld\"\n",
        "\n",
        "def add(x,y):\n",
        "    print (x+y)\n",
        "#function name having single leading underscore\n",
        "def _sub(x,y):\n",
        "    print (x-y)\n",
        "\n",
        "if __name__ == '__main__':\n",
        "    print (_a)#Output:hello\n",
        "    add(4,3)#Output:7\n",
        "    _sub(4,3)#Output:1"
      ],
      "execution_count": 4,
      "outputs": [
        {
          "output_type": "stream",
          "text": [
            "hello\n",
            "7\n",
            "1\n"
          ],
          "name": "stdout"
        }
      ]
    },
    {
      "cell_type": "code",
      "metadata": {
        "colab": {
          "base_uri": "https://localhost:8080/"
        },
        "id": "9GcEIclZLV3V",
        "outputId": "6aa8aa11-8148-435b-f39c-d261831b6f14"
      },
      "source": [
        "#accessing variable names having single leading underscore.\n",
        "print (_a)#Output:NameError: name '_a' is not defined\n",
        "\n",
        "\n",
        "#accessing function name havig single leading underscore\n",
        "print (_sub(7,2))#Output:NameError: name '_sub' is not defined\n",
        "\n",
        "\n",
        "#accessing variables and functions which is not having single leading underscore.\n",
        "# we will able to access those varaibles and functions\n",
        "add(3,4)#Output:7\n",
        "print (b)#helloworld"
      ],
      "execution_count": 6,
      "outputs": [
        {
          "output_type": "stream",
          "text": [
            "hello\n",
            "5\n",
            "None\n",
            "7\n",
            "helloworld\n"
          ],
          "name": "stdout"
        }
      ]
    },
    {
      "cell_type": "code",
      "metadata": {
        "colab": {
          "base_uri": "https://localhost:8080/"
        },
        "id": "SnRkCoRWLZvt",
        "outputId": "bb3be811-c09d-4901-9120-f5d167ced481"
      },
      "source": [
        "print(_a)\n",
        "print(_sub(7,2))"
      ],
      "execution_count": 7,
      "outputs": [
        {
          "output_type": "stream",
          "text": [
            "hello\n",
            "5\n",
            "None\n"
          ],
          "name": "stdout"
        }
      ]
    },
    {
      "cell_type": "markdown",
      "metadata": {
        "id": "o-dQPwNNLgup"
      },
      "source": [
        "# 3. Single Trailing Underscore"
      ]
    },
    {
      "cell_type": "code",
      "metadata": {
        "colab": {
          "base_uri": "https://localhost:8080/",
          "height": 232
        },
        "id": "P34tsGB2LgHR",
        "outputId": "9c326f37-630d-4cb2-9735-9d776d2aebaf"
      },
      "source": [
        "list=[1,2,3]\n",
        "t=(5,6,7)\n",
        "#Coverting tuple to list using list() constructor\n",
        "t1=list(t)"
      ],
      "execution_count": 8,
      "outputs": [
        {
          "output_type": "error",
          "ename": "TypeError",
          "evalue": "ignored",
          "traceback": [
            "\u001b[0;31m---------------------------------------------------------------------------\u001b[0m",
            "\u001b[0;31mTypeError\u001b[0m                                 Traceback (most recent call last)",
            "\u001b[0;32m<ipython-input-8-7132ac64c258>\u001b[0m in \u001b[0;36m<module>\u001b[0;34m()\u001b[0m\n\u001b[1;32m      2\u001b[0m \u001b[0mt\u001b[0m\u001b[0;34m=\u001b[0m\u001b[0;34m(\u001b[0m\u001b[0;36m5\u001b[0m\u001b[0;34m,\u001b[0m\u001b[0;36m6\u001b[0m\u001b[0;34m,\u001b[0m\u001b[0;36m7\u001b[0m\u001b[0;34m)\u001b[0m\u001b[0;34m\u001b[0m\u001b[0;34m\u001b[0m\u001b[0m\n\u001b[1;32m      3\u001b[0m \u001b[0;31m#Coverting tuple to list using list() constructor\u001b[0m\u001b[0;34m\u001b[0m\u001b[0;34m\u001b[0m\u001b[0;34m\u001b[0m\u001b[0m\n\u001b[0;32m----> 4\u001b[0;31m \u001b[0mt1\u001b[0m\u001b[0;34m=\u001b[0m\u001b[0mlist\u001b[0m\u001b[0;34m(\u001b[0m\u001b[0mt\u001b[0m\u001b[0;34m)\u001b[0m\u001b[0;34m\u001b[0m\u001b[0;34m\u001b[0m\u001b[0m\n\u001b[0m",
            "\u001b[0;31mTypeError\u001b[0m: 'list' object is not callable"
          ]
        }
      ]
    },
    {
      "cell_type": "code",
      "metadata": {
        "colab": {
          "base_uri": "https://localhost:8080/",
          "height": 249
        },
        "id": "KxfgpJ8ULiqK",
        "outputId": "da594726-eef7-4cc3-c672-8772294a7587"
      },
      "source": [
        "list_=[1,2,3]\n",
        "t=(5,6,7)\n",
        "#Coverting tuple to list using list() constructor\n",
        "t1=list(t)\n",
        "print(t1)"
      ],
      "execution_count": 10,
      "outputs": [
        {
          "output_type": "error",
          "ename": "TypeError",
          "evalue": "ignored",
          "traceback": [
            "\u001b[0;31m---------------------------------------------------------------------------\u001b[0m",
            "\u001b[0;31mTypeError\u001b[0m                                 Traceback (most recent call last)",
            "\u001b[0;32m<ipython-input-10-4795c7842030>\u001b[0m in \u001b[0;36m<module>\u001b[0;34m()\u001b[0m\n\u001b[1;32m      2\u001b[0m \u001b[0mt\u001b[0m\u001b[0;34m=\u001b[0m\u001b[0;34m(\u001b[0m\u001b[0;36m5\u001b[0m\u001b[0;34m,\u001b[0m\u001b[0;36m6\u001b[0m\u001b[0;34m,\u001b[0m\u001b[0;36m7\u001b[0m\u001b[0;34m)\u001b[0m\u001b[0;34m\u001b[0m\u001b[0;34m\u001b[0m\u001b[0m\n\u001b[1;32m      3\u001b[0m \u001b[0;31m#Coverting tuple to list using list() constructor\u001b[0m\u001b[0;34m\u001b[0m\u001b[0;34m\u001b[0m\u001b[0;34m\u001b[0m\u001b[0m\n\u001b[0;32m----> 4\u001b[0;31m \u001b[0mt1\u001b[0m\u001b[0;34m=\u001b[0m\u001b[0mlist\u001b[0m\u001b[0;34m(\u001b[0m\u001b[0mt\u001b[0m\u001b[0;34m)\u001b[0m\u001b[0;34m\u001b[0m\u001b[0;34m\u001b[0m\u001b[0m\n\u001b[0m\u001b[1;32m      5\u001b[0m \u001b[0mprint\u001b[0m\u001b[0;34m(\u001b[0m\u001b[0mt1\u001b[0m\u001b[0;34m)\u001b[0m\u001b[0;34m\u001b[0m\u001b[0;34m\u001b[0m\u001b[0m\n",
            "\u001b[0;31mTypeError\u001b[0m: 'list' object is not callable"
          ]
        }
      ]
    },
    {
      "cell_type": "code",
      "metadata": {
        "colab": {
          "base_uri": "https://localhost:8080/",
          "height": 300
        },
        "id": "reYmz3LvLlrI",
        "outputId": "dc7d8494-6ee2-4fec-ceb3-c53f75cce58b"
      },
      "source": [
        "class Student:\n",
        "    def __init__(self,name,rollno):\n",
        "        self.name=name\n",
        "        self.__rollno=rollno\n",
        "    def __repr__(self):\n",
        "        return \"{},{}\".format(self.name,self.rollno)\n",
        "\n",
        "s=Student(\"Karthi\",12)\n",
        "\n",
        "print (s.name)\n",
        "#Unable to access attributes having leading double underscore.\n",
        "print (s.__rollno)#Output:AttributeError: 'Student' object has no attribute '__rollno'\n",
        "#Name Mangling - have to use class extension with variable name\n",
        "print (s._Student__rollno)#Output: 12\n"
      ],
      "execution_count": 11,
      "outputs": [
        {
          "output_type": "stream",
          "text": [
            "Karthi\n"
          ],
          "name": "stdout"
        },
        {
          "output_type": "error",
          "ename": "AttributeError",
          "evalue": "ignored",
          "traceback": [
            "\u001b[0;31m---------------------------------------------------------------------------\u001b[0m",
            "\u001b[0;31mAttributeError\u001b[0m                            Traceback (most recent call last)",
            "\u001b[0;32m<ipython-input-11-958d533f2fbb>\u001b[0m in \u001b[0;36m<module>\u001b[0;34m()\u001b[0m\n\u001b[1;32m     10\u001b[0m \u001b[0mprint\u001b[0m \u001b[0;34m(\u001b[0m\u001b[0ms\u001b[0m\u001b[0;34m.\u001b[0m\u001b[0mname\u001b[0m\u001b[0;34m)\u001b[0m\u001b[0;34m\u001b[0m\u001b[0;34m\u001b[0m\u001b[0m\n\u001b[1;32m     11\u001b[0m \u001b[0;31m#Unable to access attributes having leading double underscore.\u001b[0m\u001b[0;34m\u001b[0m\u001b[0;34m\u001b[0m\u001b[0;34m\u001b[0m\u001b[0m\n\u001b[0;32m---> 12\u001b[0;31m \u001b[0mprint\u001b[0m \u001b[0;34m(\u001b[0m\u001b[0ms\u001b[0m\u001b[0;34m.\u001b[0m\u001b[0m__rollno\u001b[0m\u001b[0;34m)\u001b[0m\u001b[0;31m#Output:AttributeError: 'Student' object has no attribute '__rollno'\u001b[0m\u001b[0;34m\u001b[0m\u001b[0;34m\u001b[0m\u001b[0m\n\u001b[0m\u001b[1;32m     13\u001b[0m \u001b[0;31m#Name Mangling - have to use class extension with variable name\u001b[0m\u001b[0;34m\u001b[0m\u001b[0;34m\u001b[0m\u001b[0;34m\u001b[0m\u001b[0m\n\u001b[1;32m     14\u001b[0m \u001b[0mprint\u001b[0m \u001b[0;34m(\u001b[0m\u001b[0ms\u001b[0m\u001b[0;34m.\u001b[0m\u001b[0m_Student__rollno\u001b[0m\u001b[0;34m)\u001b[0m\u001b[0;31m#Output: 12\u001b[0m\u001b[0;34m\u001b[0m\u001b[0;34m\u001b[0m\u001b[0m\n",
            "\u001b[0;31mAttributeError\u001b[0m: 'Student' object has no attribute '__rollno'"
          ]
        }
      ]
    },
    {
      "cell_type": "code",
      "metadata": {
        "colab": {
          "base_uri": "https://localhost:8080/"
        },
        "id": "roFRDW_hLsHK",
        "outputId": "dd868a9a-759f-4aa1-d1e5-8cbde180fce9"
      },
      "source": [
        "class A:\n",
        "    def __getmethod(self):\n",
        "        print (\"Inside Class A\")\n",
        "\n",
        "class B(A):\n",
        "    def __getmethod(self):\n",
        "        print (\"Inside Class B\")\n",
        "\n",
        "b=B()\n",
        "#Accessing __getmethod() in Class A using Name Mangling\n",
        "b._A__getmethod()#Output:Inside Class A\n",
        "#Accessing __getmethod() in Class B using Name Mangling\n",
        "b._B__getmethod()#Output:Inside Class B"
      ],
      "execution_count": 12,
      "outputs": [
        {
          "output_type": "stream",
          "text": [
            "Inside Class A\n",
            "Inside Class B\n"
          ],
          "name": "stdout"
        }
      ]
    },
    {
      "cell_type": "markdown",
      "metadata": {
        "id": "V-M6oi7JLxwE"
      },
      "source": [
        "# 5. Double Leading and a Double Trailing Underscore"
      ]
    },
    {
      "cell_type": "code",
      "metadata": {
        "colab": {
          "base_uri": "https://localhost:8080/"
        },
        "id": "tA40qsM_LvEk",
        "outputId": "0ac3abe2-95bd-4a65-944d-80ebf0ac3e6e"
      },
      "source": [
        "class Student:\n",
        "    def __init__(self,name,rollno):\n",
        "        self.name=name\n",
        "        self.rollno=rollno\n",
        "    def __repr__(self):\n",
        "        return \"{},{}\".format(self.name,self.rollno)\n",
        "\n",
        "s=Student(\"karthi\",12)\n",
        "print (s)#Output:karthi,12\n",
        "\n",
        "print (dir(Student))"
      ],
      "execution_count": 13,
      "outputs": [
        {
          "output_type": "stream",
          "text": [
            "karthi,12\n",
            "['__class__', '__delattr__', '__dict__', '__dir__', '__doc__', '__eq__', '__format__', '__ge__', '__getattribute__', '__gt__', '__hash__', '__init__', '__init_subclass__', '__le__', '__lt__', '__module__', '__ne__', '__new__', '__reduce__', '__reduce_ex__', '__repr__', '__setattr__', '__sizeof__', '__str__', '__subclasshook__', '__weakref__']\n"
          ],
          "name": "stdout"
        }
      ]
    }
  ]
}