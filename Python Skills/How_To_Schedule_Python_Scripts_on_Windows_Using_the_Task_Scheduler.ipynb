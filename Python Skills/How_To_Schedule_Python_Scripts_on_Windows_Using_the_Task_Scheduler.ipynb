{
  "nbformat": 4,
  "nbformat_minor": 0,
  "metadata": {
    "colab": {
      "provenance": [],
      "authorship_tag": "ABX9TyNjYFjNWNqZ6m7LCkfW009K"
    },
    "kernelspec": {
      "name": "python3",
      "display_name": "Python 3"
    },
    "language_info": {
      "name": "python"
    }
  },
  "cells": [
    {
      "cell_type": "markdown",
      "source": [
        "[Reference](https://python.plainenglish.io/how-to-schedule-python-scripts-on-windows-using-the-task-scheduler-2f59094881f2)"
      ],
      "metadata": {
        "id": "TA8CHPF9Eceq"
      }
    },
    {
      "cell_type": "code",
      "source": [
        "from datetime import datetime\n",
        "\n",
        "def main():\n",
        "    # get current date and time\n",
        "    dt = datetime.now()\n",
        "\n",
        "    # add the text with the date to the file\n",
        "    text = f'Function run on: {dt.date().__str__()} on {dt.time().__str__()[:5]}\\n'\n",
        "    file_path = 'C:/Users/branden/Desktop/test/Task Scheduler/'\n",
        "    with open(file_path+'Text File.txt', 'a') as f:\n",
        "        f.write(text)\n",
        "\n",
        "if __name__ == '__main__':\n",
        "    main()"
      ],
      "metadata": {
        "id": "lP_zPJn3Ecqe"
      },
      "execution_count": 1,
      "outputs": []
    }
  ]
}
