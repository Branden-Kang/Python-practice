{
  "nbformat": 4,
  "nbformat_minor": 0,
  "metadata": {
    "colab": {
      "provenance": [],
      "authorship_tag": "ABX9TyMqwuVQfPYTYigSpEzhZf+O"
    },
    "kernelspec": {
      "name": "python3",
      "display_name": "Python 3"
    },
    "language_info": {
      "name": "python"
    }
  },
  "cells": [
    {
      "cell_type": "markdown",
      "source": [
        "[Reference](https://medium.com/@nawazmohtashim/method-to-merge-csv-files-in-python-8b0f16550e0b)"
      ],
      "metadata": {
        "id": "0OgBNgkvoky3"
      }
    },
    {
      "cell_type": "markdown",
      "source": [
        "# Method 1: Using Python’s built-in csv module"
      ],
      "metadata": {
        "id": "2AiS7-t5om9H"
      }
    },
    {
      "cell_type": "code",
      "execution_count": 1,
      "metadata": {
        "id": "GmxhvdQznmnL"
      },
      "outputs": [],
      "source": [
        "import csv\n",
        "\n",
        "# List of CSV file names to merge\n",
        "file_names = ['file1.csv', 'file2.csv', 'file3.csv']\n",
        "\n",
        "# Output file name\n",
        "output_file = 'merged_data.csv'\n",
        "\n",
        "# Merge CSV files\n",
        "with open(output_file, 'w', newline='') as outfile:\n",
        "    writer = csv.writer(outfile)\n",
        "    for filename in file_names:\n",
        "        with open(filename, 'r') as infile:\n",
        "            reader = csv.reader(infile)\n",
        "            for row in reader:\n",
        "                writer.writerow(row)"
      ]
    },
    {
      "cell_type": "markdown",
      "source": [
        "# Method 2: Using Pandas Library"
      ],
      "metadata": {
        "id": "2qXH1Myuy3M5"
      }
    },
    {
      "cell_type": "code",
      "source": [
        "import pandas as pd\n",
        "\n",
        "# List of CSV file names to merge\n",
        "file_names = ['file1.csv', 'file2.csv', 'file3.csv']\n",
        "\n",
        "# Create an empty DataFrame to store merged data\n",
        "merged_data = pd.DataFrame()\n",
        "\n",
        "# Merge CSV files\n",
        "for filename in file_names:\n",
        "    df = pd.read_csv(filename)\n",
        "    merged_data = pd.concat([merged_data, df], ignore_index=True)\n",
        "\n",
        "# Save the merged DataFrame to a new CSV file\n",
        "merged_data.to_csv('merged_data_pandas.csv', index=False)"
      ],
      "metadata": {
        "id": "lD6PmKK7odD-"
      },
      "execution_count": 2,
      "outputs": []
    },
    {
      "cell_type": "markdown",
      "source": [
        "# Method 3: Using the glob Module"
      ],
      "metadata": {
        "id": "c5iuivudy8Ay"
      }
    },
    {
      "cell_type": "code",
      "source": [
        "import csv\n",
        "import glob\n",
        "\n",
        "# Define the file name pattern\n",
        "file_pattern = 'data*.csv'\n",
        "\n",
        "# Output file name\n",
        "output_file = 'merged_data_glob.csv'\n",
        "\n",
        "# Merge CSV files using glob\n",
        "with open(output_file, 'w', newline='') as outfile:\n",
        "    writer = csv.writer(outfile)\n",
        "    for filename in glob.glob(file_pattern):\n",
        "        with open(filename, 'r') as infile:\n",
        "            reader = csv.reader(infile)\n",
        "            for row in reader:\n",
        "                writer.writerow(row)"
      ],
      "metadata": {
        "id": "YcC_PXP0oo53"
      },
      "execution_count": 3,
      "outputs": []
    }
  ]
}
