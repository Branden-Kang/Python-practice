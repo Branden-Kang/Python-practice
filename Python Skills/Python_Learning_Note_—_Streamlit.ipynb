{
  "nbformat": 4,
  "nbformat_minor": 0,
  "metadata": {
    "colab": {
      "name": "Python Learning Note — Streamlit.ipynb",
      "provenance": [],
      "authorship_tag": "ABX9TyNrtyJWPJxkrDYsd6tm/8CH"
    },
    "kernelspec": {
      "name": "python3",
      "display_name": "Python 3"
    },
    "language_info": {
      "name": "python"
    }
  },
  "cells": [
    {
      "cell_type": "markdown",
      "metadata": {
        "id": "dm_GPUv4Euk0"
      },
      "source": [
        "[Reference](https://medium.com/swlh/python-learning-note-streamlit-d1be21a86f9f)"
      ]
    },
    {
      "cell_type": "code",
      "metadata": {
        "colab": {
          "base_uri": "https://localhost:8080/"
        },
        "id": "gnFSdM8nEtVA",
        "outputId": "fe1bc2cc-8806-4b03-b750-58361ea32881"
      },
      "source": [
        "!streamlit hello"
      ],
      "execution_count": 2,
      "outputs": [
        {
          "output_type": "stream",
          "text": [
            "/bin/bash: streamlit: command not found\n"
          ],
          "name": "stdout"
        }
      ]
    },
    {
      "cell_type": "code",
      "metadata": {
        "id": "ANhn68I1E0Qi"
      },
      "source": [
        "import streamlit as st\n",
        "import numpy as np\n",
        "import pandas as pd\n",
        "import time\n",
        "import serial\n",
        "particle = serial.Serial('COM5', 9600, timeout=.1)\n",
        "\n",
        "first_lock_1 = False\n",
        "first_lock_2 = False\n",
        "data_flag_1 = False\n",
        "data_flag_2 = False\n",
        "\n",
        "max_temperature = 0\n",
        "min_temperature = 100\n",
        "max_humidity = 0\n",
        "min_humidity = 100\n",
        "\n",
        "temp_array = np.array([])\n",
        "humd_array = np.array([])\n",
        "\n",
        "st.title('Environment Sensor monitor')\n",
        "status_text_1 = st.empty()\n",
        "status_text_2 = st.empty()\n",
        "status_text_3 = st.empty()\n",
        "status_text_4 = st.empty()\n",
        "status_text_5 = st.empty()\n",
        "status_text_6 = st.empty()\n",
        "\n",
        "button_1 = st.button('Stop')\n",
        "\n",
        "while button_1 != True:\n",
        "    data = particle.readline()[:-2] #the last bit gets rid of the new-line chars\n",
        "\n",
        "    if data:\n",
        "        #Convert bytes to str data type\n",
        "        data_str = data.decode('utf-8')\n",
        "        data_str = data_str.split(\" \")\n",
        "\n",
        "        if  data_str[0] == 'Temperature:':\n",
        "\n",
        "            #Convert str to float data type\n",
        "            temp = float(data_str[1])\n",
        "            print(\"Current temperature is: \")\n",
        "            print(temp)\n",
        "            data_flag_1 = True\n",
        "\n",
        "            if temp >  max_temperature:\n",
        "                max_temperature = temp\n",
        "            if temp <  min_temperature:\n",
        "                min_temperature = temp\n",
        "\n",
        "        elif data_str[0] == 'Humidity:':\n",
        "\n",
        "            #Convert str to float data type\n",
        "            humd = float(data_str[1])\n",
        "            print(\"Current Humidity is: \")\n",
        "            print(humd)\n",
        "            data_flag_2 = True\n",
        "\n",
        "            if humd >  max_humidity:\n",
        "                max_humidity = humd\n",
        "            if humd <  min_humidity:\n",
        "                min_humidity = humd\n",
        "\n",
        "    #Create a chart first\n",
        "    if data_flag_1==True and data_flag_2==True :\n",
        "        if first_lock_1==False and first_lock_2==False:\n",
        "            first_lock_2 = True\n",
        "            first_lock_1 = True\n",
        "            max_temperature = temp\n",
        "            min_temperature = temp\n",
        "            max_humidity = humd\n",
        "            min_humidity = humd\n",
        "            total_data = np.array([[temp,humd]])\n",
        "            chart_data = pd.DataFrame(total_data,\n",
        "                                      columns=['Temperature', 'Humidity'])\n",
        "            chart = st.line_chart(chart_data)\n",
        "            print(\"Initialize complete ... \")\n",
        "        else:\n",
        "            data_flag_1 = False\n",
        "            data_flag_2 = False\n",
        "            total_data = np.array([[temp,humd]])\n",
        "            chart_data = pd.DataFrame(total_data,\n",
        "                                      columns=['Temperature', 'Humidity'])\n",
        "            chart.add_rows(chart_data)\n",
        "\n",
        "            status_text_1.text('The latest temperature is: %3.2f' % temp)\n",
        "            status_text_2.text('The highest temperature is: %3.2f' % max_temperature)\n",
        "            status_text_3.text('The lowest temperature is: %3.2f' % min_temperature)\n",
        "\n",
        "            status_text_4.text('The latest humidity is: %3.2f' % humd)\n",
        "            status_text_5.text('The highest temperature is: %3.2f' % max_humidity)\n",
        "            status_text_6.text('The lowest temperature is: %3.2f' % min_humidity)"
      ],
      "execution_count": 4,
      "outputs": []
    }
  ]
}