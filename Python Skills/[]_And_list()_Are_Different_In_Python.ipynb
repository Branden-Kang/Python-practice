{
  "nbformat": 4,
  "nbformat_minor": 0,
  "metadata": {
    "colab": {
      "name": "[] And list() Are Different In Python.ipynb",
      "provenance": [],
      "authorship_tag": "ABX9TyMmbEP5mWfagVj7doOXi7E2"
    },
    "kernelspec": {
      "name": "python3",
      "display_name": "Python 3"
    },
    "language_info": {
      "name": "python"
    }
  },
  "cells": [
    {
      "cell_type": "markdown",
      "metadata": {
        "id": "Puq56sBmhhoy"
      },
      "source": [
        "[Reference](https://towardsdatascience.com/no-and-list-are-different-in-python-8940530168b0)"
      ]
    },
    {
      "cell_type": "code",
      "metadata": {
        "id": "qyDy31YaYeNd"
      },
      "source": [
        "my_list_1 = []\n",
        "my_list_2 = list()"
      ],
      "execution_count": 1,
      "outputs": []
    },
    {
      "cell_type": "code",
      "metadata": {
        "colab": {
          "base_uri": "https://localhost:8080/"
        },
        "id": "QmcvqFHfjlEm",
        "outputId": "15b7a46c-dd77-4e78-9cab-0f0900a7aae4"
      },
      "source": [
        "type(my_list_1)"
      ],
      "execution_count": 2,
      "outputs": [
        {
          "output_type": "execute_result",
          "data": {
            "text/plain": [
              "list"
            ]
          },
          "metadata": {},
          "execution_count": 2
        }
      ]
    },
    {
      "cell_type": "code",
      "metadata": {
        "colab": {
          "base_uri": "https://localhost:8080/"
        },
        "id": "0olUPTh6jmnB",
        "outputId": "bd711c21-7d77-4e8d-96ec-f51429e78d4a"
      },
      "source": [
        "type(my_list_2)"
      ],
      "execution_count": 3,
      "outputs": [
        {
          "output_type": "execute_result",
          "data": {
            "text/plain": [
              "list"
            ]
          },
          "metadata": {},
          "execution_count": 3
        }
      ]
    },
    {
      "cell_type": "code",
      "metadata": {
        "colab": {
          "base_uri": "https://localhost:8080/"
        },
        "id": "KMVYxSL7jnoS",
        "outputId": "be84fbab-433e-49d3-ceb7-f1e4d54c2fb2"
      },
      "source": [
        "%timeit my_list_1 = []"
      ],
      "execution_count": 5,
      "outputs": [
        {
          "output_type": "stream",
          "text": [
            "The slowest run took 44.87 times longer than the fastest. This could mean that an intermediate result is being cached.\n",
            "10000000 loops, best of 5: 34.6 ns per loop\n"
          ],
          "name": "stdout"
        }
      ]
    },
    {
      "cell_type": "code",
      "metadata": {
        "colab": {
          "base_uri": "https://localhost:8080/"
        },
        "id": "BM5D--I7jo_j",
        "outputId": "61815051-d03d-4ff9-dd04-60cad0c77134"
      },
      "source": [
        "%timeit my_list_1 = list()"
      ],
      "execution_count": 6,
      "outputs": [
        {
          "output_type": "stream",
          "text": [
            "The slowest run took 13.41 times longer than the fastest. This could mean that an intermediate result is being cached.\n",
            "10000000 loops, best of 5: 105 ns per loop\n"
          ],
          "name": "stdout"
        }
      ]
    },
    {
      "cell_type": "code",
      "metadata": {
        "colab": {
          "base_uri": "https://localhost:8080/"
        },
        "id": "6GZcqI4DjtfX",
        "outputId": "cdbcf71d-5d41-4cce-ec97-51599e8936ed"
      },
      "source": [
        "%timeit my_dict_1 = {}"
      ],
      "execution_count": 7,
      "outputs": [
        {
          "output_type": "stream",
          "text": [
            "10000000 loops, best of 5: 51.9 ns per loop\n"
          ],
          "name": "stdout"
        }
      ]
    },
    {
      "cell_type": "code",
      "metadata": {
        "colab": {
          "base_uri": "https://localhost:8080/"
        },
        "id": "q3JGVUySjyCP",
        "outputId": "9a0afc20-4e17-4a85-a3d9-349321d59d63"
      },
      "source": [
        "%timeit my_dict_2 = dict()"
      ],
      "execution_count": 8,
      "outputs": [
        {
          "output_type": "stream",
          "text": [
            "The slowest run took 86.32 times longer than the fastest. This could mean that an intermediate result is being cached.\n",
            "10000000 loops, best of 5: 115 ns per loop\n"
          ],
          "name": "stdout"
        }
      ]
    },
    {
      "cell_type": "code",
      "metadata": {
        "colab": {
          "base_uri": "https://localhost:8080/"
        },
        "id": "ij6QxsxpjzxJ",
        "outputId": "fc23a1e1-66b7-4a3b-b5c3-51535aeed464"
      },
      "source": [
        "from dis import dis\n",
        "dis(\"[]\")"
      ],
      "execution_count": 9,
      "outputs": [
        {
          "output_type": "stream",
          "text": [
            "  1           0 BUILD_LIST               0\n",
            "              2 RETURN_VALUE\n"
          ],
          "name": "stdout"
        }
      ]
    },
    {
      "cell_type": "code",
      "metadata": {
        "colab": {
          "base_uri": "https://localhost:8080/"
        },
        "id": "5zpBUwKJj2Y9",
        "outputId": "45dc9660-df01-433e-a1d0-b475a7fab798"
      },
      "source": [
        "dis(\"list()\")"
      ],
      "execution_count": 10,
      "outputs": [
        {
          "output_type": "stream",
          "text": [
            "  1           0 LOAD_NAME                0 (list)\n",
            "              2 CALL_FUNCTION            0\n",
            "              4 RETURN_VALUE\n"
          ],
          "name": "stdout"
        }
      ]
    },
    {
      "cell_type": "code",
      "metadata": {
        "colab": {
          "base_uri": "https://localhost:8080/",
          "height": 198
        },
        "id": "ARHt7Tk8j2hh",
        "outputId": "9fd66f6e-4ebd-4c23-a522-4f4d3424c64f"
      },
      "source": [
        "listt()"
      ],
      "execution_count": 11,
      "outputs": [
        {
          "output_type": "error",
          "ename": "NameError",
          "evalue": "ignored",
          "traceback": [
            "\u001b[0;31m---------------------------------------------------------------------------\u001b[0m",
            "\u001b[0;31mNameError\u001b[0m                                 Traceback (most recent call last)",
            "\u001b[0;32m<ipython-input-11-7c2ae0db12a7>\u001b[0m in \u001b[0;36m<module>\u001b[0;34m()\u001b[0m\n\u001b[0;32m----> 1\u001b[0;31m \u001b[0mlistt\u001b[0m\u001b[0;34m(\u001b[0m\u001b[0;34m)\u001b[0m\u001b[0;34m\u001b[0m\u001b[0;34m\u001b[0m\u001b[0m\n\u001b[0m",
            "\u001b[0;31mNameError\u001b[0m: name 'listt' is not defined"
          ]
        }
      ]
    },
    {
      "cell_type": "code",
      "metadata": {
        "colab": {
          "base_uri": "https://localhost:8080/"
        },
        "id": "a2frLXzpj6IV",
        "outputId": "fe6dcce0-eabf-4d61-909b-f4cea9945888"
      },
      "source": [
        "23"
      ],
      "execution_count": 12,
      "outputs": [
        {
          "output_type": "execute_result",
          "data": {
            "text/plain": [
              "23"
            ]
          },
          "metadata": {},
          "execution_count": 12
        }
      ]
    },
    {
      "cell_type": "code",
      "metadata": {
        "colab": {
          "base_uri": "https://localhost:8080/",
          "height": 37
        },
        "id": "FHQROxmej7Eh",
        "outputId": "533e31ea-e62a-47e9-ce5e-fb86c45d9db8"
      },
      "source": [
        "'hello'"
      ],
      "execution_count": 13,
      "outputs": [
        {
          "output_type": "execute_result",
          "data": {
            "application/vnd.google.colaboratory.intrinsic+json": {
              "type": "string"
            },
            "text/plain": [
              "'hello'"
            ]
          },
          "metadata": {},
          "execution_count": 13
        }
      ]
    }
  ]
}