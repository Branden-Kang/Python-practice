{
  "nbformat": 4,
  "nbformat_minor": 0,
  "metadata": {
    "colab": {
      "name": "Ternary Operators in Python.ipynb",
      "provenance": [],
      "authorship_tag": "ABX9TyOsn0zYs8gDScx+cb2+4GKx"
    },
    "kernelspec": {
      "name": "python3",
      "display_name": "Python 3"
    }
  },
  "cells": [
    {
      "cell_type": "markdown",
      "metadata": {
        "id": "g9Av8XQk8WRs"
      },
      "source": [
        "[Reference](https://towardsdatascience.com/ternary-operators-in-python-49c685183c50)"
      ]
    },
    {
      "cell_type": "code",
      "metadata": {
        "colab": {
          "base_uri": "https://localhost:8080/"
        },
        "id": "TdqiyaE78U8e",
        "outputId": "75b17b5e-77af-4466-cf1c-1cd24cbdda0c"
      },
      "source": [
        "num1, num2 = 5, 10\n",
        "min = None\n",
        "\n",
        "if num1 > num2:\n",
        "    min = num2\n",
        "else:\n",
        "    min = num1\n",
        "print(min)"
      ],
      "execution_count": 1,
      "outputs": [
        {
          "output_type": "stream",
          "text": [
            "5\n"
          ],
          "name": "stdout"
        }
      ]
    },
    {
      "cell_type": "code",
      "metadata": {
        "id": "4Wl6eC3rCob4"
      },
      "source": [
        "num1, num2 = 5, 10\n",
        "min = num2 if num1 > num2 else num1"
      ],
      "execution_count": 2,
      "outputs": []
    },
    {
      "cell_type": "code",
      "metadata": {
        "colab": {
          "base_uri": "https://localhost:8080/",
          "height": 37
        },
        "id": "Xn4R6Ua7Cy5A",
        "outputId": "2c0efed5-22c6-47cb-af88-9e87fc2954da"
      },
      "source": [
        "def even_or_odd(num):\n",
        "    return 'even' if num%2==0 else 'odd'\n",
        "    \n",
        "even_or_odd(2)"
      ],
      "execution_count": 3,
      "outputs": [
        {
          "output_type": "execute_result",
          "data": {
            "application/vnd.google.colaboratory.intrinsic+json": {
              "type": "string"
            },
            "text/plain": [
              "'even'"
            ]
          },
          "metadata": {
            "tags": []
          },
          "execution_count": 3
        }
      ]
    },
    {
      "cell_type": "code",
      "metadata": {
        "colab": {
          "base_uri": "https://localhost:8080/",
          "height": 37
        },
        "id": "NAWBmfQOC3eF",
        "outputId": "1f6805d8-b8d9-437f-f4b1-4139f04bdc18"
      },
      "source": [
        "even_or_odd(3)"
      ],
      "execution_count": 4,
      "outputs": [
        {
          "output_type": "execute_result",
          "data": {
            "application/vnd.google.colaboratory.intrinsic+json": {
              "type": "string"
            },
            "text/plain": [
              "'odd'"
            ]
          },
          "metadata": {
            "tags": []
          },
          "execution_count": 4
        }
      ]
    },
    {
      "cell_type": "code",
      "metadata": {
        "colab": {
          "base_uri": "https://localhost:8080/"
        },
        "id": "qLReyyLqC3vf",
        "outputId": "ac2d5ed6-a8f7-4836-c85e-a05e849a35b1"
      },
      "source": [
        "def min(num1, num2):\n",
        "    return num2 if num1>num2 else (num1 if num1<num2 else 'equal')\n",
        "    \n",
        "min(5,10)"
      ],
      "execution_count": 5,
      "outputs": [
        {
          "output_type": "execute_result",
          "data": {
            "text/plain": [
              "5"
            ]
          },
          "metadata": {
            "tags": []
          },
          "execution_count": 5
        }
      ]
    },
    {
      "cell_type": "code",
      "metadata": {
        "colab": {
          "base_uri": "https://localhost:8080/"
        },
        "id": "kvwZQBwsC58g",
        "outputId": "ce16ce2b-ddcf-4fd2-84a8-e93e82345e10"
      },
      "source": [
        "min(10,5)"
      ],
      "execution_count": 6,
      "outputs": [
        {
          "output_type": "execute_result",
          "data": {
            "text/plain": [
              "5"
            ]
          },
          "metadata": {
            "tags": []
          },
          "execution_count": 6
        }
      ]
    },
    {
      "cell_type": "code",
      "metadata": {
        "colab": {
          "base_uri": "https://localhost:8080/",
          "height": 37
        },
        "id": "yI5PtUJVC7SK",
        "outputId": "f0ef0b99-cf37-49d9-9b1f-01f55004288d"
      },
      "source": [
        "min(5,5)"
      ],
      "execution_count": 7,
      "outputs": [
        {
          "output_type": "execute_result",
          "data": {
            "application/vnd.google.colaboratory.intrinsic+json": {
              "type": "string"
            },
            "text/plain": [
              "'equal'"
            ]
          },
          "metadata": {
            "tags": []
          },
          "execution_count": 7
        }
      ]
    }
  ]
}