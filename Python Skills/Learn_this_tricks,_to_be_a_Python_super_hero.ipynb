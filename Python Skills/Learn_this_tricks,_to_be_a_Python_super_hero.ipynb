{
  "nbformat": 4,
  "nbformat_minor": 0,
  "metadata": {
    "colab": {
      "provenance": [],
      "authorship_tag": "ABX9TyOdeMAeOJQKFDfl/haByF9O"
    },
    "kernelspec": {
      "name": "python3",
      "display_name": "Python 3"
    },
    "language_info": {
      "name": "python"
    }
  },
  "cells": [
    {
      "cell_type": "markdown",
      "source": [
        "[Reference](https://borntowinuk.medium.com/learn-this-tricks-to-be-a-super-hero-on-python-d8d4f5cd06dc)"
      ],
      "metadata": {
        "id": "deOzswuRQL_B"
      }
    },
    {
      "cell_type": "code",
      "execution_count": 1,
      "metadata": {
        "colab": {
          "base_uri": "https://localhost:8080/"
        },
        "id": "i4dDBjuwQEQr",
        "outputId": "4ac4f8d2-3337-40b3-b462-706af5e539cd"
      },
      "outputs": [
        {
          "output_type": "stream",
          "name": "stdout",
          "text": [
            "1 3 6 7 "
          ]
        }
      ],
      "source": [
        "list1 = [1, 3, 6, 7]\n",
        "for number in list1:\n",
        " print(number, end= \" \")"
      ]
    },
    {
      "cell_type": "code",
      "source": [
        "print('01','30','2023', sep='/')"
      ],
      "metadata": {
        "colab": {
          "base_uri": "https://localhost:8080/"
        },
        "id": "K--ukwrRQPCd",
        "outputId": "0ac30b74-7050-4000-fb3e-38332f8c271d"
      },
      "execution_count": 2,
      "outputs": [
        {
          "output_type": "stream",
          "name": "stdout",
          "text": [
            "01/30/2023\n"
          ]
        }
      ]
    },
    {
      "cell_type": "code",
      "source": [
        "name1 = {\"Uday\": 23, \"Balaji\": 14, \"John\": 7}\n",
        "name2 = {\"Ravi\": 45, \"Steven\": 67}\n",
        "names = {**name1, **name2}\n",
        "print(names)"
      ],
      "metadata": {
        "colab": {
          "base_uri": "https://localhost:8080/"
        },
        "id": "05XKwusxQsRf",
        "outputId": "5cd84e2b-4fcf-4b72-8747-413878bb8106"
      },
      "execution_count": 4,
      "outputs": [
        {
          "output_type": "stream",
          "name": "stdout",
          "text": [
            "{'Uday': 23, 'Balaji': 14, 'John': 7, 'Ravi': 45, 'Steven': 67}\n"
          ]
        }
      ]
    },
    {
      "cell_type": "code",
      "source": [
        "import calendar\n",
        "month = calendar.month(2022, 4)\n",
        "print(month)"
      ],
      "metadata": {
        "colab": {
          "base_uri": "https://localhost:8080/"
        },
        "id": "VMJi--nOQttn",
        "outputId": "7b22b7c4-dc9f-4569-f6de-f141b5c3cf97"
      },
      "execution_count": 5,
      "outputs": [
        {
          "output_type": "stream",
          "name": "stdout",
          "text": [
            "     April 2022\n",
            "Mo Tu We Th Fr Sa Su\n",
            "             1  2  3\n",
            " 4  5  6  7  8  9 10\n",
            "11 12 13 14 15 16 17\n",
            "18 19 20 21 22 23 24\n",
            "25 26 27 28 29 30\n",
            "\n"
          ]
        }
      ]
    },
    {
      "cell_type": "code",
      "source": [
        "x, y = 20, 30\n",
        "x, y = y, x\n",
        "print('x is', x)\n",
        "print('y is', y)"
      ],
      "metadata": {
        "colab": {
          "base_uri": "https://localhost:8080/"
        },
        "id": "m5d9q3bHQwIB",
        "outputId": "bee064b6-54ec-4159-db86-3d35d057da55"
      },
      "execution_count": 6,
      "outputs": [
        {
          "output_type": "stream",
          "name": "stdout",
          "text": [
            "x is 30\n",
            "y is 20\n"
          ]
        }
      ]
    },
    {
      "cell_type": "code",
      "source": [
        "x = 20\n",
        "y = 30\n",
        "# step one\n",
        "x ^= y\n",
        "# step two\n",
        "y ^= x\n",
        "# step three\n",
        "x ^= y\n",
        "print(f'x is: {x}')\n",
        "print(f'y is: {y}')"
      ],
      "metadata": {
        "colab": {
          "base_uri": "https://localhost:8080/"
        },
        "id": "Oc5ZwMU2Qyjj",
        "outputId": "2ccbe315-c13a-4c3d-f507-0266b637b566"
      },
      "execution_count": 7,
      "outputs": [
        {
          "output_type": "stream",
          "name": "stdout",
          "text": [
            "x is: 30\n",
            "y is: 20\n"
          ]
        }
      ]
    },
    {
      "cell_type": "code",
      "source": [
        "list1 = [[1, 2, 3],[4, 5, 6]]\n",
        "\n",
        "newlist = []\n",
        "\n",
        "for list2 in list1:\n",
        "    for j in list2:\n",
        "        newlist.append(j)\n",
        "\n",
        "print(newlist)"
      ],
      "metadata": {
        "colab": {
          "base_uri": "https://localhost:8080/"
        },
        "id": "wNA473vQQzrf",
        "outputId": "5d62a589-9afd-4107-bf6e-85fd61c64490"
      },
      "execution_count": 10,
      "outputs": [
        {
          "output_type": "stream",
          "name": "stdout",
          "text": [
            "[1, 2, 3, 4, 5, 6]\n"
          ]
        }
      ]
    },
    {
      "cell_type": "code",
      "source": [
        "list1 = [[1, 2, 3], [4, 5, 6]]\n",
        "\n",
        "flat_list= [i for j in list1 for i in j]\n",
        "print(flat_list)"
      ],
      "metadata": {
        "colab": {
          "base_uri": "https://localhost:8080/"
        },
        "id": "7ZZLGlxjQ05O",
        "outputId": "d5d4b06e-1f98-4a5c-fd97-8da7e9849203"
      },
      "execution_count": 11,
      "outputs": [
        {
          "output_type": "stream",
          "name": "stdout",
          "text": [
            "[1, 2, 3, 4, 5, 6]\n"
          ]
        }
      ]
    },
    {
      "cell_type": "code",
      "source": [
        "pip install speedtest-cli"
      ],
      "metadata": {
        "colab": {
          "base_uri": "https://localhost:8080/"
        },
        "id": "AbkwcvceQ7ep",
        "outputId": "f38e4e1e-55c6-4a80-c55d-9acb145dfa1c"
      },
      "execution_count": 12,
      "outputs": [
        {
          "output_type": "stream",
          "name": "stdout",
          "text": [
            "Looking in indexes: https://pypi.org/simple, https://us-python.pkg.dev/colab-wheels/public/simple/\n",
            "Collecting speedtest-cli\n",
            "  Downloading speedtest_cli-2.1.3-py2.py3-none-any.whl (23 kB)\n",
            "Installing collected packages: speedtest-cli\n",
            "Successfully installed speedtest-cli-2.1.3\n"
          ]
        }
      ]
    },
    {
      "cell_type": "code",
      "source": [
        "import speedtest\n",
        "up_speed = speedtest.Speedtest()\n",
        "print(f'{up_speed.upload()/8000000:.2f}mb')"
      ],
      "metadata": {
        "colab": {
          "base_uri": "https://localhost:8080/"
        },
        "id": "UHktalvzQ-Ys",
        "outputId": "da8ee4b8-22e1-4663-b717-2946aa9d5f5c"
      },
      "execution_count": 14,
      "outputs": [
        {
          "output_type": "stream",
          "name": "stdout",
          "text": [
            "20.89mb\n"
          ]
        }
      ]
    }
  ]
}
