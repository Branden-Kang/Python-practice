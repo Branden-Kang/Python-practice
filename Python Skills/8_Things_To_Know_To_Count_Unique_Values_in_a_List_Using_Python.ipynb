{
  "nbformat": 4,
  "nbformat_minor": 0,
  "metadata": {
    "colab": {
      "name": "8 Things To Know To Count Unique Values in a List Using Python.ipynb",
      "provenance": [],
      "authorship_tag": "ABX9TyO5D3VNHIa7SeFtEhP7hH9I"
    },
    "kernelspec": {
      "name": "python3",
      "display_name": "Python 3"
    },
    "language_info": {
      "name": "python"
    }
  },
  "cells": [
    {
      "cell_type": "markdown",
      "metadata": {
        "id": "0Lu7_oHRYl31"
      },
      "source": [
        "[Reference](https://codefather-tech.medium.com/8-things-to-know-to-count-unique-values-in-a-list-using-python-54f5abf3be72)"
      ]
    },
    {
      "cell_type": "code",
      "metadata": {
        "id": "_aj9S-j6YUc4"
      },
      "source": [
        "numbers = [2, 3, 3, 6, 8, 8, 23, 24, 24, 30, 45, 50, 51, 51]"
      ],
      "execution_count": 1,
      "outputs": []
    },
    {
      "cell_type": "markdown",
      "metadata": {
        "id": "s18CaPW4YrHm"
      },
      "source": [
        "# 1. Using a For Loop to Count Unique Values in a Python List"
      ]
    },
    {
      "cell_type": "code",
      "metadata": {
        "id": "b9B6Az6pYsV3"
      },
      "source": [
        "def get_unique_values_with_for_loop(values):\n",
        "    unique_values = []    \n",
        "    \n",
        "    for value in values:\n",
        "        if value not in unique_values:\n",
        "            unique_values.append(value)    \n",
        "            \n",
        "    return unique_values"
      ],
      "execution_count": 2,
      "outputs": []
    },
    {
      "cell_type": "code",
      "metadata": {
        "colab": {
          "base_uri": "https://localhost:8080/"
        },
        "id": "xu7-eykeYvPz",
        "outputId": "3dc4eec6-fc14-41b5-c61f-18b0b3e49aae"
      },
      "source": [
        "numbers = [2, 3, 3, 6, 8, 8, 23, 24, 24, 30, 45, 50, 51, 51]\n",
        "unique_values = get_unique_values_with_for_loop(numbers)\n",
        "number_of_unique_values = len(unique_values)\n",
        "print(\"The list of unique values is: {}\".format(unique_values))\n",
        "print(\"The number of unique values is: {}\".format(number_of_unique_values))"
      ],
      "execution_count": 3,
      "outputs": [
        {
          "output_type": "stream",
          "text": [
            "The list of unique values is: [2, 3, 6, 8, 23, 24, 30, 45, 50, 51]\n",
            "The number of unique values is: 10\n"
          ],
          "name": "stdout"
        }
      ]
    },
    {
      "cell_type": "markdown",
      "metadata": {
        "id": "-oND1nlUYx-7"
      },
      "source": [
        "# 2. Count Unique Values in a Python List Using a Set"
      ]
    },
    {
      "cell_type": "code",
      "metadata": {
        "id": "Xjv1EsmWYxCL"
      },
      "source": [
        "def get_unique_values_with_set(values):\n",
        "    return set(values)\n",
        "numbers = [2, 3, 3, 6, 8, 8, 23, 24, 24, 30, 45, 50, 51, 51]\n",
        "unique_values = get_unique_values_with_set(numbers)\n",
        "number_of_unique_values = len(unique_values)"
      ],
      "execution_count": 4,
      "outputs": []
    },
    {
      "cell_type": "markdown",
      "metadata": {
        "id": "vOt7EyjvY5Tb"
      },
      "source": [
        "# 3. Using a Dictionary to Get the Number of Unique Values in a List"
      ]
    },
    {
      "cell_type": "code",
      "metadata": {
        "colab": {
          "base_uri": "https://localhost:8080/"
        },
        "id": "4Q-2BiZOY3OJ",
        "outputId": "f1daa9e8-4999-4b5a-a220-e054f26ff596"
      },
      "source": [
        "def get_unique_values_with_dictionary(values):\n",
        "    new_values = {}    \n",
        "    \n",
        "    for value in values:\n",
        "        if value in new_values.keys():\n",
        "            new_values[value] += 1\n",
        "        else:\n",
        "            new_values[value] = 1\n",
        "    \n",
        "    print(new_values)\n",
        "    return new_values.keys()\n",
        "\n",
        "numbers = [2, 3, 3, 6, 8, 8, 23, 24, 24, 30, 45, 50, 51, 51]\n",
        "unique_values = get_unique_values_with_dictionary(numbers)\n",
        "number_of_unique_values = len(unique_values)"
      ],
      "execution_count": 6,
      "outputs": [
        {
          "output_type": "stream",
          "text": [
            "{2: 1, 3: 2, 6: 1, 8: 2, 23: 1, 24: 2, 30: 1, 45: 1, 50: 1, 51: 2}\n"
          ],
          "name": "stdout"
        }
      ]
    },
    {
      "cell_type": "markdown",
      "metadata": {
        "id": "E7x9_ehWZE-l"
      },
      "source": [
        "# 4. Collections.Counter To Count Unique Values in a List"
      ]
    },
    {
      "cell_type": "code",
      "metadata": {
        "colab": {
          "base_uri": "https://localhost:8080/"
        },
        "id": "Bfe3lKSzZBGv",
        "outputId": "e6a6dc62-9654-4b32-d59d-e75f31c772b3"
      },
      "source": [
        "from collections import Counter\n",
        "Counter([1,2,3,3])"
      ],
      "execution_count": 7,
      "outputs": [
        {
          "output_type": "execute_result",
          "data": {
            "text/plain": [
              "Counter({1: 1, 2: 1, 3: 2})"
            ]
          },
          "metadata": {
            "tags": []
          },
          "execution_count": 7
        }
      ]
    },
    {
      "cell_type": "code",
      "metadata": {
        "id": "fyHVq7mhZGoS"
      },
      "source": [
        "from collections import Counter\n",
        "numbers = [2, 3, 3, 6, 8, 8, 23, 24, 24, 30, 45, 50, 51, 51]\n",
        "new_values = Counter(numbers)"
      ],
      "execution_count": 8,
      "outputs": []
    },
    {
      "cell_type": "code",
      "metadata": {
        "colab": {
          "base_uri": "https://localhost:8080/"
        },
        "id": "8tWG1jONZI2C",
        "outputId": "feddfcb9-3e2c-42b7-dea4-8af6614f5975"
      },
      "source": [
        "new_values.keys()"
      ],
      "execution_count": 10,
      "outputs": [
        {
          "output_type": "execute_result",
          "data": {
            "text/plain": [
              "dict_keys([2, 3, 6, 8, 23, 24, 30, 45, 50, 51])"
            ]
          },
          "metadata": {
            "tags": []
          },
          "execution_count": 10
        }
      ]
    },
    {
      "cell_type": "code",
      "metadata": {
        "id": "tJ8MgPUSZLq6"
      },
      "source": [
        "from collections import Counter\n",
        "\n",
        "def get_unique_values_with_counter(values):\n",
        "    return Counter(values).keys()\n",
        "\n",
        "numbers = [2, 3, 3, 6, 8, 8, 23, 24, 24, 30, 45, 50, 51, 51]\n",
        "unique_values = get_unique_values_with_counter(numbers)\n",
        "number_of_unique_values = len(unique_values)"
      ],
      "execution_count": 11,
      "outputs": []
    },
    {
      "cell_type": "markdown",
      "metadata": {
        "id": "0pX1Z6QwZQ93"
      },
      "source": [
        "# 5. Counting Unique Values in a List Using NumPy"
      ]
    },
    {
      "cell_type": "code",
      "metadata": {
        "colab": {
          "base_uri": "https://localhost:8080/"
        },
        "id": "yQP9vYjBZUB7",
        "outputId": "1274bbae-613d-4e7f-e4c3-60e50fa33f3b"
      },
      "source": [
        "import numpy as np\n",
        "print(np.unique(numbers))\n",
        "print(np.unique(numbers, return_counts=True))"
      ],
      "execution_count": 12,
      "outputs": [
        {
          "output_type": "stream",
          "text": [
            "[ 2  3  6  8 23 24 30 45 50 51]\n",
            "(array([ 2,  3,  6,  8, 23, 24, 30, 45, 50, 51]), array([1, 2, 1, 2, 1, 2, 1, 1, 1, 2]))\n"
          ],
          "name": "stdout"
        }
      ]
    },
    {
      "cell_type": "code",
      "metadata": {
        "id": "70zXQGHQZWQk"
      },
      "source": [
        "import numpy as np\n",
        "\n",
        "def get_unique_values_with_numpy(values):\n",
        "    return np.unique(values)\n",
        "numbers = [2, 3, 3, 6, 8, 8, 23, 24, 24, 30, 45, 50, 51, 51]\n",
        "unique_values = get_unique_values_with_numpy(numbers)\n",
        "number_of_unique_values = len(unique_values)"
      ],
      "execution_count": 13,
      "outputs": []
    },
    {
      "cell_type": "markdown",
      "metadata": {
        "id": "McJegwebZfVw"
      },
      "source": [
        "# 6. Using Pandas to Get Unique Values in a List"
      ]
    },
    {
      "cell_type": "code",
      "metadata": {
        "id": "w0mBw-ICZb-5"
      },
      "source": [
        "import pandas as pd\n",
        "\n",
        "def get_unique_values_with_pandas(values):\n",
        "    return pd.unique(pd.Series(values))\n",
        "\n",
        "numbers = [2, 3, 3, 6, 8, 8, 23, 24, 24, 30, 45, 50, 51, 51]\n",
        "unique_values = get_unique_values_with_pandas(numbers)\n",
        "number_of_unique_values = len(unique_values)"
      ],
      "execution_count": 14,
      "outputs": []
    },
    {
      "cell_type": "markdown",
      "metadata": {
        "id": "klXX40RwZmB5"
      },
      "source": [
        "# 7. Count Unique Values in a List of Dictionaries"
      ]
    },
    {
      "cell_type": "code",
      "metadata": {
        "id": "vtOmxmj4Zk_d"
      },
      "source": [
        "countries = [{\"name\": \"Italy\"}, {\"name\": \"UK\"}, {\"name\": \"Germany\"}, {\"name\": \"Brazil\"}, {\"name\": \"Italy\"}, {\"name\": \"UK\"}]"
      ],
      "execution_count": 15,
      "outputs": []
    },
    {
      "cell_type": "code",
      "metadata": {
        "colab": {
          "base_uri": "https://localhost:8080/"
        },
        "id": "SPBQg84zZnnl",
        "outputId": "1e25b2d3-564c-4ab4-daf4-2fe23b6bab36"
      },
      "source": [
        "names = [country['name'] for country in countries]\n",
        "print(names)"
      ],
      "execution_count": 16,
      "outputs": [
        {
          "output_type": "stream",
          "text": [
            "['Italy', 'UK', 'Germany', 'Brazil', 'Italy', 'UK']\n"
          ],
          "name": "stdout"
        }
      ]
    },
    {
      "cell_type": "code",
      "metadata": {
        "colab": {
          "base_uri": "https://localhost:8080/"
        },
        "id": "K03Ttic5Zp5j",
        "outputId": "8bd24c3e-16a3-4322-8e5b-1656b7644aa1"
      },
      "source": [
        "from collections import Counter\n",
        "Counter(names)"
      ],
      "execution_count": 17,
      "outputs": [
        {
          "output_type": "execute_result",
          "data": {
            "text/plain": [
              "Counter({'Brazil': 1, 'Germany': 1, 'Italy': 2, 'UK': 2})"
            ]
          },
          "metadata": {
            "tags": []
          },
          "execution_count": 17
        }
      ]
    },
    {
      "cell_type": "code",
      "metadata": {
        "colab": {
          "base_uri": "https://localhost:8080/"
        },
        "id": "7TGR2OOiZrwk",
        "outputId": "dcf3ed83-b1af-4e61-cd2f-18e59e82c21e"
      },
      "source": [
        "Counter(names).keys()"
      ],
      "execution_count": 18,
      "outputs": [
        {
          "output_type": "execute_result",
          "data": {
            "text/plain": [
              "dict_keys(['Italy', 'UK', 'Germany', 'Brazil'])"
            ]
          },
          "metadata": {
            "tags": []
          },
          "execution_count": 18
        }
      ]
    },
    {
      "cell_type": "code",
      "metadata": {
        "colab": {
          "base_uri": "https://localhost:8080/"
        },
        "id": "xtRA3ymaZsqa",
        "outputId": "0cf9e0db-3ed9-480d-d507-a3ad16ab8dd1"
      },
      "source": [
        "len(Counter(names).keys())"
      ],
      "execution_count": 19,
      "outputs": [
        {
          "output_type": "execute_result",
          "data": {
            "text/plain": [
              "4"
            ]
          },
          "metadata": {
            "tags": []
          },
          "execution_count": 19
        }
      ]
    },
    {
      "cell_type": "markdown",
      "metadata": {
        "id": "4zOPd3elZuOW"
      },
      "source": [
        "# 8. Which One is the Faster Approach to Count Unique List Values?"
      ]
    },
    {
      "cell_type": "code",
      "metadata": {
        "colab": {
          "base_uri": "https://localhost:8080/"
        },
        "id": "aqvkgGxhZtdk",
        "outputId": "d3d0b73b-9dbf-412c-c4fb-a478b644cc2f"
      },
      "source": [
        "import random\n",
        "random_numbers = [random.randrange(10) for i in range(10)]\n",
        "print(random_numbers)"
      ],
      "execution_count": 20,
      "outputs": [
        {
          "output_type": "stream",
          "text": [
            "[0, 3, 4, 7, 4, 3, 1, 7, 5, 6]\n"
          ],
          "name": "stdout"
        }
      ]
    },
    {
      "cell_type": "code",
      "metadata": {
        "id": "BQon-ItkZwYn"
      },
      "source": [
        "random_numbers = [random.randrange(100) for i in range(1000000)]"
      ],
      "execution_count": 21,
      "outputs": []
    },
    {
      "cell_type": "code",
      "metadata": {
        "colab": {
          "base_uri": "https://localhost:8080/"
        },
        "id": "iC_rElinZxbn",
        "outputId": "0c49f0bc-5b58-4545-c0a8-8302bebacb0b"
      },
      "source": [
        "import timeit\n",
        "\n",
        "testfunction = '''\n",
        "def get_unique_values_with_for_loop(values):\n",
        "    unique_values = []    \n",
        "    \n",
        "    for value in values:\n",
        "        if value not in unique_values:\n",
        "            unique_values.append(value)    \n",
        "    \n",
        "    return unique_values\n",
        "'''\n",
        "\n",
        "random_numbers = [random.randrange(100) for i in range(1000000)]\n",
        "print(timeit.timeit(testfunction, number=100000000))"
      ],
      "execution_count": 22,
      "outputs": [
        {
          "output_type": "stream",
          "text": [
            "6.742184784000074\n"
          ],
          "name": "stdout"
        }
      ]
    }
  ]
}