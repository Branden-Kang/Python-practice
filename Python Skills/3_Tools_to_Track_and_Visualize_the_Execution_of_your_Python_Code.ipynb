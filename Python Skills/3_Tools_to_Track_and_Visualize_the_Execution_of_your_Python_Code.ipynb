{
  "nbformat": 4,
  "nbformat_minor": 0,
  "metadata": {
    "colab": {
      "name": "3 Tools to Track and Visualize the Execution of your Python Code.ipynb",
      "provenance": [],
      "authorship_tag": "ABX9TyO1CshSEix7UxF1uLeE5Th1"
    },
    "kernelspec": {
      "name": "python3",
      "display_name": "Python 3"
    },
    "language_info": {
      "name": "python"
    }
  },
  "cells": [
    {
      "cell_type": "markdown",
      "metadata": {
        "id": "T6hD4hPr0Y-0"
      },
      "source": [
        "[Reference](https://towardsdatascience.com/3-tools-to-track-and-visualize-the-execution-of-your-python-code-666a153e435e)"
      ]
    },
    {
      "cell_type": "code",
      "metadata": {
        "colab": {
          "base_uri": "https://localhost:8080/"
        },
        "id": "ueFC5_pW0KvU",
        "outputId": "84839924-f1c6-490e-9eff-62bb2a4c89db"
      },
      "source": [
        "pip install loguru"
      ],
      "execution_count": 1,
      "outputs": [
        {
          "output_type": "stream",
          "text": [
            "Collecting loguru\n",
            "\u001b[?25l  Downloading https://files.pythonhosted.org/packages/6d/48/0a7d5847e3de329f1d0134baf707b689700b53bd3066a5a8cfd94b3c9fc8/loguru-0.5.3-py3-none-any.whl (57kB)\n",
            "\r\u001b[K     |█████▊                          | 10kB 14.6MB/s eta 0:00:01\r\u001b[K     |███████████▌                    | 20kB 10.1MB/s eta 0:00:01\r\u001b[K     |█████████████████▏              | 30kB 10.3MB/s eta 0:00:01\r\u001b[K     |███████████████████████         | 40kB 8.3MB/s eta 0:00:01\r\u001b[K     |████████████████████████████▋   | 51kB 5.3MB/s eta 0:00:01\r\u001b[K     |████████████████████████████████| 61kB 3.4MB/s \n",
            "\u001b[?25hInstalling collected packages: loguru\n",
            "Successfully installed loguru-0.5.3\n"
          ],
          "name": "stdout"
        }
      ]
    },
    {
      "cell_type": "code",
      "metadata": {
        "colab": {
          "base_uri": "https://localhost:8080/",
          "height": 358
        },
        "id": "5pehgsf70b9D",
        "outputId": "db572f34-063e-4ace-9472-a842f4b755a5"
      },
      "source": [
        "from itertools import combinations\n",
        "\n",
        "def division(num1: int, num2: int):\n",
        "    return num1/num2\n",
        "\n",
        "def divide_numbers(num_list: list):\n",
        "  \"\"\"Division of 2 numbers in the number list \"\"\"\n",
        "  for comb in combinations(num_list, 2):\n",
        "        num1, num2 = comb \n",
        "        res = division(num1, num2)\n",
        "        print(f\"{num1} divided by {num2} is equal to {res}.\")\n",
        "\n",
        "\n",
        "if __name__ =='__main__':\n",
        "    num_list = [2, 1, 0]\n",
        "    divide_numbers(num_list)"
      ],
      "execution_count": 3,
      "outputs": [
        {
          "output_type": "stream",
          "text": [
            "2 divided by 1 is equal to 2.0.\n"
          ],
          "name": "stdout"
        },
        {
          "output_type": "error",
          "ename": "ZeroDivisionError",
          "evalue": "ignored",
          "traceback": [
            "\u001b[0;31m---------------------------------------------------------------------------\u001b[0m",
            "\u001b[0;31mZeroDivisionError\u001b[0m                         Traceback (most recent call last)",
            "\u001b[0;32m<ipython-input-3-e78a8120d257>\u001b[0m in \u001b[0;36m<module>\u001b[0;34m()\u001b[0m\n\u001b[1;32m     14\u001b[0m \u001b[0;32mif\u001b[0m \u001b[0m__name__\u001b[0m \u001b[0;34m==\u001b[0m\u001b[0;34m'__main__'\u001b[0m\u001b[0;34m:\u001b[0m\u001b[0;34m\u001b[0m\u001b[0;34m\u001b[0m\u001b[0m\n\u001b[1;32m     15\u001b[0m     \u001b[0mnum_list\u001b[0m \u001b[0;34m=\u001b[0m \u001b[0;34m[\u001b[0m\u001b[0;36m2\u001b[0m\u001b[0;34m,\u001b[0m \u001b[0;36m1\u001b[0m\u001b[0;34m,\u001b[0m \u001b[0;36m0\u001b[0m\u001b[0;34m]\u001b[0m\u001b[0;34m\u001b[0m\u001b[0;34m\u001b[0m\u001b[0m\n\u001b[0;32m---> 16\u001b[0;31m     \u001b[0mdivide_numbers\u001b[0m\u001b[0;34m(\u001b[0m\u001b[0mnum_list\u001b[0m\u001b[0;34m)\u001b[0m\u001b[0;34m\u001b[0m\u001b[0;34m\u001b[0m\u001b[0m\n\u001b[0m",
            "\u001b[0;32m<ipython-input-3-e78a8120d257>\u001b[0m in \u001b[0;36mdivide_numbers\u001b[0;34m(num_list)\u001b[0m\n\u001b[1;32m      8\u001b[0m   \u001b[0;32mfor\u001b[0m \u001b[0mcomb\u001b[0m \u001b[0;32min\u001b[0m \u001b[0mcombinations\u001b[0m\u001b[0;34m(\u001b[0m\u001b[0mnum_list\u001b[0m\u001b[0;34m,\u001b[0m \u001b[0;36m2\u001b[0m\u001b[0;34m)\u001b[0m\u001b[0;34m:\u001b[0m\u001b[0;34m\u001b[0m\u001b[0;34m\u001b[0m\u001b[0m\n\u001b[1;32m      9\u001b[0m         \u001b[0mnum1\u001b[0m\u001b[0;34m,\u001b[0m \u001b[0mnum2\u001b[0m \u001b[0;34m=\u001b[0m \u001b[0mcomb\u001b[0m\u001b[0;34m\u001b[0m\u001b[0;34m\u001b[0m\u001b[0m\n\u001b[0;32m---> 10\u001b[0;31m         \u001b[0mres\u001b[0m \u001b[0;34m=\u001b[0m \u001b[0mdivision\u001b[0m\u001b[0;34m(\u001b[0m\u001b[0mnum1\u001b[0m\u001b[0;34m,\u001b[0m \u001b[0mnum2\u001b[0m\u001b[0;34m)\u001b[0m\u001b[0;34m\u001b[0m\u001b[0;34m\u001b[0m\u001b[0m\n\u001b[0m\u001b[1;32m     11\u001b[0m         \u001b[0mprint\u001b[0m\u001b[0;34m(\u001b[0m\u001b[0;34mf\"{num1} divided by {num2} is equal to {res}.\"\u001b[0m\u001b[0;34m)\u001b[0m\u001b[0;34m\u001b[0m\u001b[0;34m\u001b[0m\u001b[0m\n\u001b[1;32m     12\u001b[0m \u001b[0;34m\u001b[0m\u001b[0m\n",
            "\u001b[0;32m<ipython-input-3-e78a8120d257>\u001b[0m in \u001b[0;36mdivision\u001b[0;34m(num1, num2)\u001b[0m\n\u001b[1;32m      2\u001b[0m \u001b[0;34m\u001b[0m\u001b[0m\n\u001b[1;32m      3\u001b[0m \u001b[0;32mdef\u001b[0m \u001b[0mdivision\u001b[0m\u001b[0;34m(\u001b[0m\u001b[0mnum1\u001b[0m\u001b[0;34m:\u001b[0m \u001b[0mint\u001b[0m\u001b[0;34m,\u001b[0m \u001b[0mnum2\u001b[0m\u001b[0;34m:\u001b[0m \u001b[0mint\u001b[0m\u001b[0;34m)\u001b[0m\u001b[0;34m:\u001b[0m\u001b[0;34m\u001b[0m\u001b[0;34m\u001b[0m\u001b[0m\n\u001b[0;32m----> 4\u001b[0;31m     \u001b[0;32mreturn\u001b[0m \u001b[0mnum1\u001b[0m\u001b[0;34m/\u001b[0m\u001b[0mnum2\u001b[0m\u001b[0;34m\u001b[0m\u001b[0;34m\u001b[0m\u001b[0m\n\u001b[0m\u001b[1;32m      5\u001b[0m \u001b[0;34m\u001b[0m\u001b[0m\n\u001b[1;32m      6\u001b[0m \u001b[0;32mdef\u001b[0m \u001b[0mdivide_numbers\u001b[0m\u001b[0;34m(\u001b[0m\u001b[0mnum_list\u001b[0m\u001b[0;34m:\u001b[0m \u001b[0mlist\u001b[0m\u001b[0;34m)\u001b[0m\u001b[0;34m:\u001b[0m\u001b[0;34m\u001b[0m\u001b[0;34m\u001b[0m\u001b[0m\n",
            "\u001b[0;31mZeroDivisionError\u001b[0m: division by zero"
          ]
        }
      ]
    },
    {
      "cell_type": "code",
      "metadata": {
        "colab": {
          "base_uri": "https://localhost:8080/"
        },
        "id": "hWp2yx7Z0dn-",
        "outputId": "a1cd8519-d124-41bb-cbc0-c4443bb0471a"
      },
      "source": [
        "from loguru import logger \n",
        "from itertools import combinations\n",
        "\n",
        "def division(num1: int, num2: int):\n",
        "    return num1/num2\n",
        "\n",
        "@logger.catch # Add this to track errors\n",
        "def divide_numbers(num_list: list):\n",
        "    for comb in combinations(num_list, 2):\n",
        "        num1, num2 = comb \n",
        "        res = division(num1, num2)\n",
        "        print(f\"{num1} divided by {num2} is equal to {res}.\")\n",
        "\n",
        "\n",
        "if __name__ =='__main__':\n",
        "    num_list = [2, 1, 0]\n",
        "    divide_numbers(num_list)"
      ],
      "execution_count": 4,
      "outputs": [
        {
          "output_type": "stream",
          "text": [
            "2021-05-03 15:21:55.339 | ERROR    | __main__:<module>:17 - An error has been caught in function '<module>', process 'MainProcess' (63), thread 'MainThread' (140009374873472):\n",
            "Traceback (most recent call last):\n",
            "\n",
            "  File \"/usr/lib/python3.7/runpy.py\", line 193, in _run_module_as_main\n",
            "    \"__main__\", mod_spec)\n",
            "                └ ModuleSpec(name='ipykernel_launcher', loader=<_frozen_importlib_external.SourceFileLoader object at 0x7f5676e92990>, origin='...\n",
            "  File \"/usr/lib/python3.7/runpy.py\", line 85, in _run_code\n",
            "    exec(code, run_globals)\n",
            "         │     └ {'__name__': '__main__', '__doc__': 'Entry point for launching an IPython kernel.\\n\\nThis is separate from the ipykernel pack...\n",
            "         └ <code object <module> at 0x7f5676e664b0, file \"/usr/local/lib/python3.7/dist-packages/ipykernel_launcher.py\", line 5>\n",
            "\n",
            "  File \"/usr/local/lib/python3.7/dist-packages/ipykernel_launcher.py\", line 16, in <module>\n",
            "    app.launch_new_instance()\n",
            "    │   └ <bound method Application.launch_instance of <class 'ipykernel.kernelapp.IPKernelApp'>>\n",
            "    └ <module 'ipykernel.kernelapp' from '/usr/local/lib/python3.7/dist-packages/ipykernel/kernelapp.py'>\n",
            "\n",
            "  File \"/usr/local/lib/python3.7/dist-packages/traitlets/config/application.py\", line 845, in launch_instance\n",
            "    app.start()\n",
            "    │   └ <function IPKernelApp.start at 0x7f5670775440>\n",
            "    └ <ipykernel.kernelapp.IPKernelApp object at 0x7f567704c250>\n",
            "\n",
            "  File \"/usr/local/lib/python3.7/dist-packages/ipykernel/kernelapp.py\", line 499, in start\n",
            "    self.io_loop.start()\n",
            "    │    │       └ <function BaseAsyncIOLoop.start at 0x7f5670cd7f80>\n",
            "    │    └ <tornado.platform.asyncio.AsyncIOMainLoop object at 0x7f565b2e2390>\n",
            "    └ <ipykernel.kernelapp.IPKernelApp object at 0x7f567704c250>\n",
            "\n",
            "  File \"/usr/local/lib/python3.7/dist-packages/tornado/platform/asyncio.py\", line 132, in start\n",
            "    self.asyncio_loop.run_forever()\n",
            "    │    │            └ <function BaseEventLoop.run_forever at 0x7f5670f7ef80>\n",
            "    │    └ <_UnixSelectorEventLoop running=True closed=False debug=False>\n",
            "    └ <tornado.platform.asyncio.AsyncIOMainLoop object at 0x7f565b2e2390>\n",
            "\n",
            "  File \"/usr/lib/python3.7/asyncio/base_events.py\", line 541, in run_forever\n",
            "    self._run_once()\n",
            "    │    └ <function BaseEventLoop._run_once at 0x7f5670f81a70>\n",
            "    └ <_UnixSelectorEventLoop running=True closed=False debug=False>\n",
            "  File \"/usr/lib/python3.7/asyncio/base_events.py\", line 1786, in _run_once\n",
            "    handle._run()\n",
            "    │      └ <function Handle._run at 0x7f56711c4170>\n",
            "    └ <Handle BaseAsyncIOLoop._handle_events(17, 1)>\n",
            "  File \"/usr/lib/python3.7/asyncio/events.py\", line 88, in _run\n",
            "    self._context.run(self._callback, *self._args)\n",
            "    │    │            │    │           │    └ <member '_args' of 'Handle' objects>\n",
            "    │    │            │    │           └ <Handle BaseAsyncIOLoop._handle_events(17, 1)>\n",
            "    │    │            │    └ <member '_callback' of 'Handle' objects>\n",
            "    │    │            └ <Handle BaseAsyncIOLoop._handle_events(17, 1)>\n",
            "    │    └ <member '_context' of 'Handle' objects>\n",
            "    └ <Handle BaseAsyncIOLoop._handle_events(17, 1)>\n",
            "\n",
            "  File \"/usr/local/lib/python3.7/dist-packages/tornado/platform/asyncio.py\", line 122, in _handle_events\n",
            "    handler_func(fileobj, events)\n",
            "    │            │        └ 1\n",
            "    │            └ <zmq.sugar.socket.Socket object at 0x7f565b2b6440>\n",
            "    └ <function wrap.<locals>.null_wrapper at 0x7f565b2db710>\n",
            "\n",
            "  File \"/usr/local/lib/python3.7/dist-packages/tornado/stack_context.py\", line 300, in null_wrapper\n",
            "    return fn(*args, **kwargs)\n",
            "           │   │       └ {}\n",
            "           │   └ (<zmq.sugar.socket.Socket object at 0x7f565b2b6440>, 1)\n",
            "           └ <bound method ZMQStream._handle_events of <zmq.eventloop.zmqstream.ZMQStream object at 0x7f565b2d8ed0>>\n",
            "\n",
            "  File \"/usr/local/lib/python3.7/dist-packages/zmq/eventloop/zmqstream.py\", line 451, in _handle_events\n",
            "    self._handle_recv()\n",
            "    │    └ <function ZMQStream._handle_recv at 0x7f5670c7c320>\n",
            "    └ <zmq.eventloop.zmqstream.ZMQStream object at 0x7f565b2d8ed0>\n",
            "\n",
            "  File \"/usr/local/lib/python3.7/dist-packages/zmq/eventloop/zmqstream.py\", line 480, in _handle_recv\n",
            "    self._run_callback(callback, msg)\n",
            "    │    │             │         └ [<zmq.sugar.frame.Frame object at 0x7f5651bf0050>, <zmq.sugar.frame.Frame object at 0x7f5651bf0110>, <zmq.sugar.frame.Frame o...\n",
            "    │    │             └ <function wrap.<locals>.null_wrapper at 0x7f56564bd5f0>\n",
            "    │    └ <function ZMQStream._run_callback at 0x7f5670c7c200>\n",
            "    └ <zmq.eventloop.zmqstream.ZMQStream object at 0x7f565b2d8ed0>\n",
            "\n",
            "  File \"/usr/local/lib/python3.7/dist-packages/zmq/eventloop/zmqstream.py\", line 434, in _run_callback\n",
            "    callback(*args, **kwargs)\n",
            "    │         │       └ {}\n",
            "    │         └ ([<zmq.sugar.frame.Frame object at 0x7f5651bf0050>, <zmq.sugar.frame.Frame object at 0x7f5651bf0110>, <zmq.sugar.frame.Frame ...\n",
            "    └ <function wrap.<locals>.null_wrapper at 0x7f56564bd5f0>\n",
            "\n",
            "  File \"/usr/local/lib/python3.7/dist-packages/tornado/stack_context.py\", line 300, in null_wrapper\n",
            "    return fn(*args, **kwargs)\n",
            "           │   │       └ {}\n",
            "           │   └ ([<zmq.sugar.frame.Frame object at 0x7f5651bf0050>, <zmq.sugar.frame.Frame object at 0x7f5651bf0110>, <zmq.sugar.frame.Frame ...\n",
            "           └ <function Kernel.start.<locals>.make_dispatcher.<locals>.dispatcher at 0x7f565657d560>\n",
            "\n",
            "  File \"/usr/local/lib/python3.7/dist-packages/ipykernel/kernelbase.py\", line 283, in dispatcher\n",
            "    return self.dispatch_shell(stream, msg)\n",
            "           │    │              │       └ [<zmq.sugar.frame.Frame object at 0x7f5651bf0050>, <zmq.sugar.frame.Frame object at 0x7f5651bf0110>, <zmq.sugar.frame.Frame o...\n",
            "           │    │              └ <zmq.eventloop.zmqstream.ZMQStream object at 0x7f565b2d8ed0>\n",
            "           │    └ <function Kernel.dispatch_shell at 0x7f567074d5f0>\n",
            "           └ <google.colab._kernel.Kernel object at 0x7f565b2e2750>\n",
            "\n",
            "  File \"/usr/local/lib/python3.7/dist-packages/ipykernel/kernelbase.py\", line 233, in dispatch_shell\n",
            "    handler(stream, idents, msg)\n",
            "    │       │       │       └ {'header': {'username': 'username', 'msg_type': 'execute_request', 'msg_id': 'ed3bd59638b74055a36b8dfa5b3a6f7b', 'version': '...\n",
            "    │       │       └ [b'5072ee579a444f3fcacc4e768149a86c']\n",
            "    │       └ <zmq.eventloop.zmqstream.ZMQStream object at 0x7f565b2d8ed0>\n",
            "    └ <bound method Kernel.execute_request of <google.colab._kernel.Kernel object at 0x7f565b2e2750>>\n",
            "\n",
            "  File \"/usr/local/lib/python3.7/dist-packages/ipykernel/kernelbase.py\", line 399, in execute_request\n",
            "    user_expressions, allow_stdin)\n",
            "    │                 └ True\n",
            "    └ {}\n",
            "\n",
            "  File \"/usr/local/lib/python3.7/dist-packages/ipykernel/ipkernel.py\", line 208, in do_execute\n",
            "    res = shell.run_cell(code, store_history=store_history, silent=silent)\n",
            "          │     │        │                   │                     └ False\n",
            "          │     │        │                   └ True\n",
            "          │     │        └ 'from loguru import logger \\nfrom itertools import combinations\\n\\ndef division(num1: int, num2: int):\\n    return num1/num2\\...\n",
            "          │     └ <function ZMQInteractiveShell.run_cell at 0x7f567076d560>\n",
            "          └ <google.colab._shell.Shell object at 0x7f565b2e26d0>\n",
            "\n",
            "  File \"/usr/local/lib/python3.7/dist-packages/ipykernel/zmqshell.py\", line 537, in run_cell\n",
            "    return super(ZMQInteractiveShell, self).run_cell(*args, **kwargs)\n",
            "                 │                    │               │       └ {'store_history': True, 'silent': False}\n",
            "                 │                    │               └ ('from loguru import logger \\nfrom itertools import combinations\\n\\ndef division(num1: int, num2: int):\\n    return num1/num2...\n",
            "                 │                    └ <google.colab._shell.Shell object at 0x7f565b2e26d0>\n",
            "                 └ <class 'ipykernel.zmqshell.ZMQInteractiveShell'>\n",
            "\n",
            "  File \"/usr/local/lib/python3.7/dist-packages/IPython/core/interactiveshell.py\", line 2718, in run_cell\n",
            "    interactivity=interactivity, compiler=compiler, result=result)\n",
            "                  │                       │                └ <ExecutionResult object at 7f5655639e50, execution_count=4 error_before_exec=None error_in_exec=None result=None>\n",
            "                  │                       └ <IPython.core.compilerop.CachingCompiler object at 0x7f565b2d8bd0>\n",
            "                  └ 'last_expr'\n",
            "\n",
            "  File \"/usr/local/lib/python3.7/dist-packages/IPython/core/interactiveshell.py\", line 2822, in run_ast_nodes\n",
            "    if self.run_code(code, result):\n",
            "       │    │        │     └ <ExecutionResult object at 7f5655639e50, execution_count=4 error_before_exec=None error_in_exec=None result=None>\n",
            "       │    │        └ <code object <module> at 0x7f5651bf6300, file \"<ipython-input-4-21b0d513ef80>\", line 15>\n",
            "       │    └ <function InteractiveShell.run_code at 0x7f5674d588c0>\n",
            "       └ <google.colab._shell.Shell object at 0x7f565b2e26d0>\n",
            "\n",
            "  File \"/usr/local/lib/python3.7/dist-packages/IPython/core/interactiveshell.py\", line 2882, in run_code\n",
            "    exec(code_obj, self.user_global_ns, self.user_ns)\n",
            "         │         │    │               │    └ {'__name__': '__main__', '__doc__': 'Automatically created module for IPython interactive environment', '__package__': None, ...\n",
            "         │         │    │               └ <google.colab._shell.Shell object at 0x7f565b2e26d0>\n",
            "         │         │    └ <property object at 0x7f5674d4b7d0>\n",
            "         │         └ <google.colab._shell.Shell object at 0x7f565b2e26d0>\n",
            "         └ <code object <module> at 0x7f5651bf6300, file \"<ipython-input-4-21b0d513ef80>\", line 15>\n",
            "\n",
            "> File \"<ipython-input-4-21b0d513ef80>\", line 17, in <module>\n",
            "    divide_numbers(num_list)\n",
            "    │              └ [2, 1, 0]\n",
            "    └ <function divide_numbers at 0x7f5651543290>\n",
            "  File \"<ipython-input-4-21b0d513ef80>\", line 11, in divide_numbers\n",
            "    res = division(num1, num2)\n",
            "          │        │     └ 0\n",
            "          │        └ 2\n",
            "          └ <function division at 0x7f5651bf6680>\n",
            "  File \"<ipython-input-4-21b0d513ef80>\", line 5, in division\n",
            "    return num1/num2\n",
            "           │    └ 0\n",
            "           └ 2\n",
            "\n",
            "ZeroDivisionError: division by zero\n"
          ],
          "name": "stderr"
        },
        {
          "output_type": "stream",
          "text": [
            "2 divided by 1 is equal to 2.0.\n"
          ],
          "name": "stdout"
        }
      ]
    },
    {
      "cell_type": "code",
      "metadata": {
        "colab": {
          "base_uri": "https://localhost:8080/"
        },
        "id": "XkUefP_i0lE0",
        "outputId": "b99d97b9-46e2-4788-8859-fce475117341"
      },
      "source": [
        "!pip install snoop"
      ],
      "execution_count": 5,
      "outputs": [
        {
          "output_type": "stream",
          "text": [
            "Collecting snoop\n",
            "  Downloading https://files.pythonhosted.org/packages/d0/5b/cf0b5b13dbf7d9e610fecdf229719a57c9ced12d3206ec714758a60b445f/snoop-0.3.0.tar.gz\n",
            "Requirement already satisfied: six in /usr/local/lib/python3.7/dist-packages (from snoop) (1.15.0)\n",
            "Collecting cheap_repr>=0.4.0\n",
            "  Downloading https://files.pythonhosted.org/packages/b6/f9/309963de44b20c7f343e39f00e35477a863bc38aa75a0aa2a831f98d2f15/cheap_repr-0.4.5.tar.gz\n",
            "Collecting executing\n",
            "  Downloading https://files.pythonhosted.org/packages/e1/a6/07d28b53b1fab42985cba6b704d685a60a2e3a5efce4cfaaad42a4494bd8/executing-0.6.0-py2.py3-none-any.whl\n",
            "Collecting asttokens\n",
            "  Downloading https://files.pythonhosted.org/packages/16/d5/b0ad240c22bba2f4591693b0ca43aae94fbd77fb1e2b107d54fff1462b6f/asttokens-2.0.5-py2.py3-none-any.whl\n",
            "Requirement already satisfied: pygments in /usr/local/lib/python3.7/dist-packages (from snoop) (2.6.1)\n",
            "Building wheels for collected packages: snoop, cheap-repr\n",
            "  Building wheel for snoop (setup.py) ... \u001b[?25l\u001b[?25hdone\n",
            "  Created wheel for snoop: filename=snoop-0.3.0-cp37-none-any.whl size=27305 sha256=77ffd86a3e4a9b457f2a8c93254c8627fd49f89ed329fa08a72e35901536f947\n",
            "  Stored in directory: /root/.cache/pip/wheels/ac/20/35/35a8bbaf50a7fe2dc64161d3a7a60363e65fe2dca44c3c20cc\n",
            "  Building wheel for cheap-repr (setup.py) ... \u001b[?25l\u001b[?25hdone\n",
            "  Created wheel for cheap-repr: filename=cheap_repr-0.4.5-cp37-none-any.whl size=7121 sha256=848542214b5460162ea9b5a2d0dae8e43f625dce54a902e3aa72f4e4260b0f4d\n",
            "  Stored in directory: /root/.cache/pip/wheels/67/31/35/c7f1495f969b6e9a71a2bd6e777174d71eced3257c1d3e7018\n",
            "Successfully built snoop cheap-repr\n",
            "Installing collected packages: cheap-repr, executing, asttokens, snoop\n",
            "Successfully installed asttokens-2.0.5 cheap-repr-0.4.5 executing-0.6.0 snoop-0.3.0\n"
          ],
          "name": "stdout"
        }
      ]
    },
    {
      "cell_type": "code",
      "metadata": {
        "colab": {
          "base_uri": "https://localhost:8080/"
        },
        "id": "GDnfajP-0pRq",
        "outputId": "c7023b15-c7cf-423a-c49e-69cfb17981cf"
      },
      "source": [
        "import snoop \n",
        "\n",
        "def factorial(x: int):\n",
        "    if x == 1:\n",
        "        return 1\n",
        "    else:\n",
        "        return (x * factorial(x-1))\n",
        "        \n",
        "if __name__ == \"__main__\":\n",
        "    num = 5\n",
        "    print(f\"The factorial of {num} is {factorial(num)}\")"
      ],
      "execution_count": 6,
      "outputs": [
        {
          "output_type": "stream",
          "text": [
            "The factorial of 5 is 120\n"
          ],
          "name": "stdout"
        }
      ]
    },
    {
      "cell_type": "code",
      "metadata": {
        "colab": {
          "base_uri": "https://localhost:8080/"
        },
        "id": "LBburUb20q58",
        "outputId": "5bde8ca0-9a93-42be-8b4c-353e7a0c30c8"
      },
      "source": [
        "import snoop \n",
        "\n",
        "@snoop\n",
        "def factorial(x):\n",
        "    if x == 1:\n",
        "        return 1\n",
        "    else:\n",
        "        return (x * factorial(x-1))\n",
        "\n",
        "\n",
        "if __name__ == \"__main__\":\n",
        "    num = 5\n",
        "    print(f\"The factorial of {num} is {factorial(num)}\")"
      ],
      "execution_count": 7,
      "outputs": [
        {
          "output_type": "stream",
          "text": [
            "\n",
            "PYDEV DEBUGGER WARNING:\n",
            "sys.settrace() should not be used when the debugger is being used.\n",
            "This may cause the debugger to stop working correctly.\n",
            "If this is needed, please check: \n",
            "http://pydev.blogspot.com/2007/06/why-cant-pydev-debugger-work-with.html\n",
            "to see how to restore the debug tracing back correctly.\n",
            "Call Location:\n",
            "  File \"/usr/local/lib/python3.7/dist-packages/snoop/tracer.py\", line 207, in __enter__\n",
            "    sys.settrace(self.trace)\n",
            "\n",
            "15:22:23.90 >>> Call to factorial in File \"<ipython-input-7-57aff36d5f6d>\", line 4\n",
            "15:22:23.90 ...... x = 5\n",
            "15:22:23.90    4 | def factorial(x):\n",
            "15:22:23.90    5 |     if x == 1:\n",
            "15:22:23.90    8 |         return (x * factorial(x-1))\n",
            "    15:22:23.91 >>> Call to factorial in File \"<ipython-input-7-57aff36d5f6d>\", line 4\n",
            "    15:22:23.91 ...... x = 4\n",
            "    15:22:23.91    4 | def factorial(x):\n",
            "    15:22:23.91    5 |     if x == 1:\n",
            "    15:22:23.91    8 |         return (x * factorial(x-1))\n",
            "        15:22:23.92 >>> Call to factorial in File \"<ipython-input-7-57aff36d5f6d>\", line 4\n",
            "        15:22:23.92 ...... x = 3\n",
            "        15:22:23.92    4 | def factorial(x):\n",
            "        15:22:23.92    5 |     if x == 1:\n",
            "        15:22:23.92    8 |         return (x * factorial(x-1))\n",
            "            15:22:23.92 >>> Call to factorial in File \"<ipython-input-7-57aff36d5f6d>\", line 4\n",
            "            15:22:23.92 ...... x = 2\n",
            "            15:22:23.92    4 | def factorial(x):\n",
            "            15:22:23.92    5 |     if x == 1:\n",
            "            15:22:23.92    8 |         return (x * factorial(x-1))\n",
            "                15:22:23.93 >>> Call to factorial in File \"<ipython-input-7-57aff36d5f6d>\", line 4\n",
            "                15:22:23.93 ...... x = 1\n",
            "                15:22:23.93    4 | def factorial(x):\n",
            "                15:22:23.93    5 |     if x == 1:\n",
            "                15:22:23.93    6 |         return 1\n",
            "                15:22:23.93 <<< Return value from factorial: 1\n",
            "\n",
            "PYDEV DEBUGGER WARNING:\n",
            "sys.settrace() should not be used when the debugger is being used.\n",
            "This may cause the debugger to stop working correctly.\n",
            "If this is needed, please check: \n",
            "http://pydev.blogspot.com/2007/06/why-cant-pydev-debugger-work-with.html\n",
            "to see how to restore the debug tracing back correctly.\n",
            "Call Location:\n",
            "  File \"/usr/local/lib/python3.7/dist-packages/snoop/tracer.py\", line 214, in __exit__\n",
            "    sys.settrace(previous_trace)\n",
            "\n",
            "            15:22:23.93    8 |         return (x * factorial(x-1))\n",
            "            15:22:23.94 <<< Return value from factorial: 2\n",
            "        15:22:23.94    8 |         return (x * factorial(x-1))\n",
            "        15:22:23.94 <<< Return value from factorial: 6\n",
            "    15:22:23.94    8 |         return (x * factorial(x-1))\n",
            "    15:22:23.94 <<< Return value from factorial: 24\n",
            "15:22:23.94    8 |         return (x * factorial(x-1))\n",
            "15:22:23.95 <<< Return value from factorial: 120\n"
          ],
          "name": "stderr"
        },
        {
          "output_type": "stream",
          "text": [
            "The factorial of 5 is 120\n"
          ],
          "name": "stdout"
        }
      ]
    },
    {
      "cell_type": "code",
      "metadata": {
        "colab": {
          "base_uri": "https://localhost:8080/"
        },
        "id": "CSJvmTNR0sEc",
        "outputId": "03bc5d88-b8a2-4489-a7d2-bb94c6ce6d84"
      },
      "source": [
        "!pip install heartrate"
      ],
      "execution_count": 8,
      "outputs": [
        {
          "output_type": "stream",
          "text": [
            "Collecting heartrate\n",
            "\u001b[?25l  Downloading https://files.pythonhosted.org/packages/7a/b7/3437e852ce0cd748bf97b86b4f3ab1396a9055519f02f40608936a9d85b2/heartrate-0.2.1.tar.gz (238kB)\n",
            "\r\u001b[K     |█▍                              | 10kB 12.7MB/s eta 0:00:01\r\u001b[K     |██▊                             | 20kB 18.1MB/s eta 0:00:01\r\u001b[K     |████▏                           | 30kB 13.2MB/s eta 0:00:01\r\u001b[K     |█████▌                          | 40kB 10.6MB/s eta 0:00:01\r\u001b[K     |██████▉                         | 51kB 5.0MB/s eta 0:00:01\r\u001b[K     |████████▎                       | 61kB 5.8MB/s eta 0:00:01\r\u001b[K     |█████████▋                      | 71kB 6.1MB/s eta 0:00:01\r\u001b[K     |███████████                     | 81kB 6.2MB/s eta 0:00:01\r\u001b[K     |████████████▍                   | 92kB 6.3MB/s eta 0:00:01\r\u001b[K     |█████████████▊                  | 102kB 6.9MB/s eta 0:00:01\r\u001b[K     |███████████████                 | 112kB 6.9MB/s eta 0:00:01\r\u001b[K     |████████████████▌               | 122kB 6.9MB/s eta 0:00:01\r\u001b[K     |█████████████████▉              | 133kB 6.9MB/s eta 0:00:01\r\u001b[K     |███████████████████▎            | 143kB 6.9MB/s eta 0:00:01\r\u001b[K     |████████████████████▋           | 153kB 6.9MB/s eta 0:00:01\r\u001b[K     |██████████████████████          | 163kB 6.9MB/s eta 0:00:01\r\u001b[K     |███████████████████████▍        | 174kB 6.9MB/s eta 0:00:01\r\u001b[K     |████████████████████████▊       | 184kB 6.9MB/s eta 0:00:01\r\u001b[K     |██████████████████████████      | 194kB 6.9MB/s eta 0:00:01\r\u001b[K     |███████████████████████████▌    | 204kB 6.9MB/s eta 0:00:01\r\u001b[K     |████████████████████████████▉   | 215kB 6.9MB/s eta 0:00:01\r\u001b[K     |██████████████████████████████▏ | 225kB 6.9MB/s eta 0:00:01\r\u001b[K     |███████████████████████████████▋| 235kB 6.9MB/s eta 0:00:01\r\u001b[K     |████████████████████████████████| 245kB 6.9MB/s \n",
            "\u001b[?25hRequirement already satisfied: pygments in /usr/local/lib/python3.7/dist-packages (from heartrate) (2.6.1)\n",
            "Requirement already satisfied: Flask in /usr/local/lib/python3.7/dist-packages (from heartrate) (1.1.2)\n",
            "Requirement already satisfied: executing in /usr/local/lib/python3.7/dist-packages (from heartrate) (0.6.0)\n",
            "Requirement already satisfied: asttokens in /usr/local/lib/python3.7/dist-packages (from heartrate) (2.0.5)\n",
            "Requirement already satisfied: itsdangerous>=0.24 in /usr/local/lib/python3.7/dist-packages (from Flask->heartrate) (1.1.0)\n",
            "Requirement already satisfied: Jinja2>=2.10.1 in /usr/local/lib/python3.7/dist-packages (from Flask->heartrate) (2.11.3)\n",
            "Requirement already satisfied: Werkzeug>=0.15 in /usr/local/lib/python3.7/dist-packages (from Flask->heartrate) (1.0.1)\n",
            "Requirement already satisfied: click>=5.1 in /usr/local/lib/python3.7/dist-packages (from Flask->heartrate) (7.1.2)\n",
            "Requirement already satisfied: six in /usr/local/lib/python3.7/dist-packages (from asttokens->heartrate) (1.15.0)\n",
            "Requirement already satisfied: MarkupSafe>=0.23 in /usr/local/lib/python3.7/dist-packages (from Jinja2>=2.10.1->Flask->heartrate) (1.1.1)\n",
            "Building wheels for collected packages: heartrate\n",
            "  Building wheel for heartrate (setup.py) ... \u001b[?25l\u001b[?25hdone\n",
            "  Created wheel for heartrate: filename=heartrate-0.2.1-cp37-none-any.whl size=235971 sha256=f8d5f879a54987f0ad274bcbc82c43239b948948ff0a15d5953fa59183cf57d7\n",
            "  Stored in directory: /root/.cache/pip/wheels/f2/da/33/acb06c82c20a1fbb03e44d5ea9fd4f04fc6fbbd1c68070fd6a\n",
            "Successfully built heartrate\n",
            "Installing collected packages: heartrate\n",
            "Successfully installed heartrate-0.2.1\n"
          ],
          "name": "stdout"
        }
      ]
    },
    {
      "cell_type": "code",
      "metadata": {
        "colab": {
          "base_uri": "https://localhost:8080/"
        },
        "id": "A4D2BMcS0uhm",
        "outputId": "3c6051b2-5163-4d92-c9b7-8487a9d16ef6"
      },
      "source": [
        "import heartrate \n",
        "heartrate.trace(browser=True)\n",
        "\n",
        "def factorial(x):\n",
        "    if x == 1:\n",
        "        return 1\n",
        "    else:\n",
        "        return (x * factorial(x-1))\n",
        "\n",
        "\n",
        "if __name__ == \"__main__\":\n",
        "    num = 5\n",
        "    print(f\"The factorial of {num} is {factorial(num)}\")"
      ],
      "execution_count": 9,
      "outputs": [
        {
          "output_type": "stream",
          "text": [
            "\n",
            "PYDEV DEBUGGER WARNING:\n",
            "sys.settrace() should not be used when the debugger is being used.\n",
            "This may cause the debugger to stop working correctly.\n",
            "If this is needed, please check: \n",
            "http://pydev.blogspot.com/2007/06/why-cant-pydev-debugger-work-with.html\n",
            "to see how to restore the debug tracing back correctly.\n",
            "Call Location:\n",
            "  File \"/usr/local/lib/python3.7/dist-packages/heartrate/core.py\", line 209, in trace\n",
            "    sys.settrace(trace_func)\n",
            "\n"
          ],
          "name": "stderr"
        },
        {
          "output_type": "stream",
          "text": [
            " * Serving Flask app \"heartrate.core\" (lazy loading)\n",
            " * Environment: production\n",
            "\u001b[31m   WARNING: This is a development server. Do not use it in a production deployment.\u001b[0m\n",
            "\u001b[2m   Use a production WSGI server instead.\u001b[0m\n",
            " * Debug mode: off\n",
            "The factorial of 5 is 120\n"
          ],
          "name": "stdout"
        }
      ]
    },
    {
      "cell_type": "code",
      "metadata": {
        "colab": {
          "base_uri": "https://localhost:8080/"
        },
        "id": "JGHgGlN_0wf0",
        "outputId": "671c1591-471e-4cfb-e262-008d68a6edc2"
      },
      "source": [
        "import heartrate \n",
        "from time import sleep\n",
        "\n",
        "heartrate.trace(browser=True)\n",
        "\n",
        "\n",
        "def factorial(x):\n",
        "    if x == 1:\n",
        "        return 1\n",
        "    else:\n",
        "        sleep(0.5)\n",
        "        return (x * factorial(x-1))\n",
        "\n",
        "\n",
        "if __name__ == \"__main__\":\n",
        "    num = 20\n",
        "    print(f\"The factorial of {num} is {factorial(num)}\")"
      ],
      "execution_count": 10,
      "outputs": [
        {
          "output_type": "stream",
          "text": [
            " * Serving Flask app \"heartrate.core\" (lazy loading)\n",
            " * Environment: production\n",
            "\u001b[31m   WARNING: This is a development server. Do not use it in a production deployment.\u001b[0m\n",
            "\u001b[2m   Use a production WSGI server instead.\u001b[0m\n",
            " * Debug mode: off\n"
          ],
          "name": "stdout"
        },
        {
          "output_type": "stream",
          "text": [
            "Exception in thread Thread-12:\n",
            "Traceback (most recent call last):\n",
            "  File \"/usr/lib/python3.7/threading.py\", line 926, in _bootstrap_inner\n",
            "    self.run()\n",
            "  File \"/usr/lib/python3.7/threading.py\", line 870, in run\n",
            "    self._target(*self._args, **self._kwargs)\n",
            "  File \"/usr/local/lib/python3.7/dist-packages/heartrate/core.py\", line 185, in <lambda>\n",
            "    port=port,\n",
            "  File \"/usr/local/lib/python3.7/dist-packages/flask/app.py\", line 990, in run\n",
            "    run_simple(host, port, self, **options)\n",
            "  File \"/usr/local/lib/python3.7/dist-packages/werkzeug/serving.py\", line 1052, in run_simple\n",
            "    inner()\n",
            "  File \"/usr/local/lib/python3.7/dist-packages/werkzeug/serving.py\", line 1005, in inner\n",
            "    fd=fd,\n",
            "  File \"/usr/local/lib/python3.7/dist-packages/werkzeug/serving.py\", line 848, in make_server\n",
            "    host, port, app, request_handler, passthrough_errors, ssl_context, fd=fd\n",
            "  File \"/usr/local/lib/python3.7/dist-packages/werkzeug/serving.py\", line 740, in __init__\n",
            "    HTTPServer.__init__(self, server_address, handler)\n",
            "  File \"/usr/lib/python3.7/socketserver.py\", line 452, in __init__\n",
            "    self.server_bind()\n",
            "  File \"/usr/lib/python3.7/http/server.py\", line 137, in server_bind\n",
            "    socketserver.TCPServer.server_bind(self)\n",
            "  File \"/usr/lib/python3.7/socketserver.py\", line 466, in server_bind\n",
            "    self.socket.bind(self.server_address)\n",
            "OSError: [Errno 98] Address already in use\n",
            "\n"
          ],
          "name": "stderr"
        },
        {
          "output_type": "stream",
          "text": [
            "The factorial of 20 is 2432902008176640000\n"
          ],
          "name": "stdout"
        }
      ]
    }
  ]
}