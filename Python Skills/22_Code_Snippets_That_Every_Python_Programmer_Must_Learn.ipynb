{
  "nbformat": 4,
  "nbformat_minor": 0,
  "metadata": {
    "colab": {
      "name": "22 Code Snippets That Every Python Programmer Must Learn.ipynb",
      "provenance": [],
      "authorship_tag": "ABX9TyP9TOUCyCH6mbImuC6UlvFn"
    },
    "kernelspec": {
      "name": "python3",
      "display_name": "Python 3"
    },
    "language_info": {
      "name": "python"
    }
  },
  "cells": [
    {
      "cell_type": "markdown",
      "metadata": {
        "id": "gSkvC1wlSt_G"
      },
      "source": [
        "[Reference](https://levelup.gitconnected.com/22-code-snippets-that-every-python-programmer-must-learn-b7f7ec35e9df)"
      ]
    },
    {
      "cell_type": "markdown",
      "metadata": {
        "id": "RFKF7o9LSzdd"
      },
      "source": [
        "# 1. Merge two dictionaries"
      ]
    },
    {
      "cell_type": "code",
      "metadata": {
        "colab": {
          "base_uri": "https://localhost:8080/"
        },
        "id": "VHdM3pP-SsV2",
        "outputId": "1af95ef8-c28c-402e-a339-5ab60ba09779"
      },
      "source": [
        "dictionary1 = {\"name\": \"Joy\", \"age\": 25}\n",
        "dictionary2 = {\"name\": \"Joy\", \"city\": \"New York\"}\n",
        "\n",
        "merged_dict = {**dictionary1, **dictionary2}\n",
        "\n",
        "print(\"Merged dictionary:\", merged_dict)"
      ],
      "execution_count": 1,
      "outputs": [
        {
          "output_type": "stream",
          "text": [
            "Merged dictionary: {'name': 'Joy', 'age': 25, 'city': 'New York'}\n"
          ],
          "name": "stdout"
        }
      ]
    },
    {
      "cell_type": "markdown",
      "metadata": {
        "id": "siVoZKWCS1NM"
      },
      "source": [
        "# 2. Chain Comparison"
      ]
    },
    {
      "cell_type": "code",
      "metadata": {
        "colab": {
          "base_uri": "https://localhost:8080/"
        },
        "id": "_i0huhF6S0BT",
        "outputId": "c1dc3b60-916e-4d3a-ff4f-31afa6883660"
      },
      "source": [
        "a = 5\n",
        "\n",
        "print(2 < a < 8)\n",
        "print(1 == a < 3)"
      ],
      "execution_count": 2,
      "outputs": [
        {
          "output_type": "stream",
          "text": [
            "True\n",
            "False\n"
          ],
          "name": "stdout"
        }
      ]
    },
    {
      "cell_type": "markdown",
      "metadata": {
        "id": "MP2SZHypS3tC"
      },
      "source": [
        "# 3. Print a String N times\n",
        "\n"
      ]
    },
    {
      "cell_type": "code",
      "metadata": {
        "colab": {
          "base_uri": "https://localhost:8080/"
        },
        "id": "kQAxWcDJS2R0",
        "outputId": "0df93a17-0ebc-4103-8c55-18033c6b56e3"
      },
      "source": [
        "n = 5\n",
        "string = \"Hello!\"\n",
        "\n",
        "print(string * n)"
      ],
      "execution_count": 3,
      "outputs": [
        {
          "output_type": "stream",
          "text": [
            "Hello!Hello!Hello!Hello!Hello!\n"
          ],
          "name": "stdout"
        }
      ]
    },
    {
      "cell_type": "markdown",
      "metadata": {
        "id": "IoINoo7oS6lM"
      },
      "source": [
        "# 4. Checking if a File Exists"
      ]
    },
    {
      "cell_type": "code",
      "metadata": {
        "id": "8LzT8vvMS4v9"
      },
      "source": [
        "from os import path\n",
        "\n",
        "def check_for_file():\n",
        "    print(\"Does file exist:\", path.exists(\"data.csv\"))\n",
        "\n",
        "if __name__==\"__main__\":\n",
        "    check_for_file()"
      ],
      "execution_count": 4,
      "outputs": []
    },
    {
      "cell_type": "markdown",
      "metadata": {
        "id": "A7pDqVtHS9lo"
      },
      "source": [
        "# 5. Retrieve the Last Element of a List"
      ]
    },
    {
      "cell_type": "code",
      "metadata": {
        "id": "OBZg0oXAS7_S"
      },
      "source": [
        "my_list = ['banana', 'apple', 'orange', 'pineapple']\n",
        "\n",
        "#Using brute force method\n",
        "last_element = my_list[len(my_list) - 1]\n",
        "\n",
        "#Using negative indeces\n",
        "last_element = my_list[-1]\n",
        "\n",
        "#Using pop method\n",
        "last_element = my_list.pop()"
      ],
      "execution_count": 5,
      "outputs": []
    },
    {
      "cell_type": "markdown",
      "metadata": {
        "id": "KBpN8coHS_j8"
      },
      "source": [
        "# 6. List Comprehension"
      ]
    },
    {
      "cell_type": "code",
      "metadata": {
        "colab": {
          "base_uri": "https://localhost:8080/"
        },
        "id": "NDWoSNv3S-vU",
        "outputId": "00ad9a87-c70f-4867-b720-42c9ed6d8fa8"
      },
      "source": [
        "def get_vowels(string):\n",
        "    return [vowel for vowel in string if vowel in 'aeiou'] \n",
        "\n",
        "print(\"Vowels are:\", get_vowels('This is some random string'))"
      ],
      "execution_count": 6,
      "outputs": [
        {
          "output_type": "stream",
          "text": [
            "Vowels are: ['i', 'i', 'o', 'e', 'a', 'o', 'i']\n"
          ],
          "name": "stdout"
        }
      ]
    },
    {
      "cell_type": "markdown",
      "metadata": {
        "id": "1Dm7T6oKTB-b"
      },
      "source": [
        "# 7. Calculate Code Execution Time"
      ]
    },
    {
      "cell_type": "code",
      "metadata": {
        "colab": {
          "base_uri": "https://localhost:8080/"
        },
        "id": "zZgs1XzqTA0G",
        "outputId": "31546535-2b3e-4980-8d4b-dac4c2373daa"
      },
      "source": [
        "import time\n",
        "\n",
        "start_time = time.time()\n",
        "\n",
        "total = 0\n",
        "for i in range(10):\n",
        "  total += i\n",
        "print(\"Sum:\", total)\n",
        "\n",
        "end_time = time.time()\n",
        "time_taken = end_time - start_time\n",
        "print(\"Time: \", time_taken)"
      ],
      "execution_count": 7,
      "outputs": [
        {
          "output_type": "stream",
          "text": [
            "Sum: 45\n",
            "Time:  0.0019724369049072266\n"
          ],
          "name": "stdout"
        }
      ]
    },
    {
      "cell_type": "markdown",
      "metadata": {
        "id": "ALR9Ca5-TD9q"
      },
      "source": [
        "# 8. Find Element with Most Occurance"
      ]
    },
    {
      "cell_type": "code",
      "metadata": {
        "colab": {
          "base_uri": "https://localhost:8080/"
        },
        "id": "4IUIqDyTTDE9",
        "outputId": "405b469a-b289-4d06-c859-5a9baab10728"
      },
      "source": [
        "def most_frequent(list):\n",
        "  return max(set(list), key=list.count)\n",
        "\n",
        "mylist = [1,1,2,3,4,5,6,6,2,2]\n",
        "print(\"most frequent item is:\", most_frequent(mylist))"
      ],
      "execution_count": 8,
      "outputs": [
        {
          "output_type": "stream",
          "text": [
            "most frequent item is: 2\n"
          ],
          "name": "stdout"
        }
      ]
    },
    {
      "cell_type": "markdown",
      "metadata": {
        "id": "GrbcIWtiTHUC"
      },
      "source": [
        "# 9. Convert Two Lists into a Dictionary"
      ]
    },
    {
      "cell_type": "code",
      "metadata": {
        "colab": {
          "base_uri": "https://localhost:8080/"
        },
        "id": "dhn_lBAzTFhO",
        "outputId": "156958cd-5df5-4bab-bef1-8de8e6e5878b"
      },
      "source": [
        "def list_to_dictionary(keys, values):\n",
        "  return dict(zip(keys, values))\n",
        "\n",
        "list1 = [1, 2, 3]\n",
        "list2 = ['one', 'two', 'three']\n",
        "\n",
        "print(list_to_dictionary(list1, list2))"
      ],
      "execution_count": 9,
      "outputs": [
        {
          "output_type": "stream",
          "text": [
            "{1: 'one', 2: 'two', 3: 'three'}\n"
          ],
          "name": "stdout"
        }
      ]
    },
    {
      "cell_type": "markdown",
      "metadata": {
        "id": "XrJfHusDTJrC"
      },
      "source": [
        "# 10. Error Handling"
      ]
    },
    {
      "cell_type": "code",
      "metadata": {
        "colab": {
          "base_uri": "https://localhost:8080/"
        },
        "id": "fhvSDsNOTIXk",
        "outputId": "8d3ae5b3-58b6-43ac-e039-fd9516b4cf2b"
      },
      "source": [
        "a, b = 1,0\n",
        "\n",
        "try:\n",
        "    print(a/b)\n",
        "except ZeroDivisionError:\n",
        "    print(\"Can not divide by zero\")\n",
        "finally:\n",
        "    print(\"Executing finally block\")"
      ],
      "execution_count": 10,
      "outputs": [
        {
          "output_type": "stream",
          "text": [
            "Can not divide by zero\n",
            "Executing finally block\n"
          ],
          "name": "stdout"
        }
      ]
    },
    {
      "cell_type": "markdown",
      "metadata": {
        "id": "qLxIvozkTMnf"
      },
      "source": [
        "# 11. Reversing a String"
      ]
    },
    {
      "cell_type": "code",
      "metadata": {
        "colab": {
          "base_uri": "https://localhost:8080/"
        },
        "id": "Wo6EhgbkTK_x",
        "outputId": "5dd29fde-231b-4e3e-9db3-59ad3dc80782"
      },
      "source": [
        "str = \"Hello World\"\n",
        "\n",
        "print(\"Reversed string is:\", str[::-1])"
      ],
      "execution_count": 11,
      "outputs": [
        {
          "output_type": "stream",
          "text": [
            "Reversed string is: dlroW olleH\n"
          ],
          "name": "stdout"
        }
      ]
    },
    {
      "cell_type": "markdown",
      "metadata": {
        "id": "EWZi5RZzTU8R"
      },
      "source": [
        "# 12. Combining a List of Strings into a Single String"
      ]
    },
    {
      "cell_type": "code",
      "metadata": {
        "colab": {
          "base_uri": "https://localhost:8080/"
        },
        "id": "v8T0tYaHTPSQ",
        "outputId": "35f1a43d-ad78-4552-9763-ef3d3608a9b0"
      },
      "source": [
        "list = [\"Hello\", \"world\", \"Ok\", \"Bye!\"]\n",
        "combined_string = \" \".join(list)\n",
        "\n",
        "print(combined_string)"
      ],
      "execution_count": 12,
      "outputs": [
        {
          "output_type": "stream",
          "text": [
            "Hello world Ok Bye!\n"
          ],
          "name": "stdout"
        }
      ]
    },
    {
      "cell_type": "markdown",
      "metadata": {
        "id": "RwgRffMZTX7g"
      },
      "source": [
        "# 13. Get Default Values for Missing Keys"
      ]
    },
    {
      "cell_type": "code",
      "metadata": {
        "colab": {
          "base_uri": "https://localhost:8080/"
        },
        "id": "8S7iwa9OTWyn",
        "outputId": "bdfabc0f-ca36-4a00-fb88-7e9a3c95dce0"
      },
      "source": [
        "dict = {1:'one', 2:'two', 4:'four'}\n",
        "\n",
        "#returning three as default value\n",
        "print(dict.get(3, 'three'))\n",
        "\n",
        "print(\"Original dictionary:\", dict) "
      ],
      "execution_count": 13,
      "outputs": [
        {
          "output_type": "stream",
          "text": [
            "three\n",
            "Original dictionary: {1: 'one', 2: 'two', 4: 'four'}\n"
          ],
          "name": "stdout"
        }
      ]
    },
    {
      "cell_type": "markdown",
      "metadata": {
        "id": "2CwqPCIPTdan"
      },
      "source": [
        "# 14. Swap two values without an extra variable"
      ]
    },
    {
      "cell_type": "code",
      "metadata": {
        "colab": {
          "base_uri": "https://localhost:8080/"
        },
        "id": "7utEje4wTZSl",
        "outputId": "dc6e0ae8-f11c-457b-8924-630fb8af31a5"
      },
      "source": [
        "a, b = 5, 10\n",
        "\n",
        "#Method 1\n",
        "a, b = b, a\n",
        "\n",
        "#Method 2\n",
        "def swap(a,b):\n",
        "  return b,a\n",
        "swap(a,b)"
      ],
      "execution_count": 14,
      "outputs": [
        {
          "output_type": "execute_result",
          "data": {
            "text/plain": [
              "(5, 10)"
            ]
          },
          "metadata": {
            "tags": []
          },
          "execution_count": 14
        }
      ]
    },
    {
      "cell_type": "markdown",
      "metadata": {
        "id": "QRPp5_VvTmAH"
      },
      "source": [
        "# 15. Regular Expressions"
      ]
    },
    {
      "cell_type": "code",
      "metadata": {
        "colab": {
          "base_uri": "https://localhost:8080/"
        },
        "id": "GF9kT4R1Te1o",
        "outputId": "6c14598c-4523-4374-cdc1-9c70b8c6088c"
      },
      "source": [
        "import re\n",
        "\n",
        "text = \"The rain in spain\"\n",
        "result = re.search(\"rain\", text)\n",
        "\n",
        "print(True if result else False)"
      ],
      "execution_count": 15,
      "outputs": [
        {
          "output_type": "stream",
          "text": [
            "True\n"
          ],
          "name": "stdout"
        }
      ]
    },
    {
      "cell_type": "markdown",
      "metadata": {
        "id": "z1qtMUoLTrGl"
      },
      "source": [
        "# 16. Palindrome"
      ]
    },
    {
      "cell_type": "code",
      "metadata": {
        "colab": {
          "base_uri": "https://localhost:8080/"
        },
        "id": "2mLYb-CbTnUD",
        "outputId": "d76186fa-7cd5-4414-f8e7-026aef1f35b9"
      },
      "source": [
        "def is_palindrome(str):\n",
        "  return str == str[::-1]\n",
        "\n",
        "print(is_palindrome('hannah'))\n",
        "\n",
        "print(is_palindrome('solo'))"
      ],
      "execution_count": 16,
      "outputs": [
        {
          "output_type": "stream",
          "text": [
            "True\n",
            "False\n"
          ],
          "name": "stdout"
        }
      ]
    },
    {
      "cell_type": "markdown",
      "metadata": {
        "id": "HIhYqcn1T00D"
      },
      "source": [
        "# 17. Filter values"
      ]
    },
    {
      "cell_type": "code",
      "metadata": {
        "colab": {
          "base_uri": "https://localhost:8080/",
          "height": 232
        },
        "id": "_b2ij-xATzue",
        "outputId": "b366ff7b-d555-4de6-825d-e05b6155b0bb"
      },
      "source": [
        "my_list = [0,1,2,3,6,7,9,11]\n",
        "\n",
        "result = filter(lambda x: x % 2!=0, my_list)\n",
        "\n",
        "print(list(result))"
      ],
      "execution_count": 17,
      "outputs": [
        {
          "output_type": "error",
          "ename": "TypeError",
          "evalue": "ignored",
          "traceback": [
            "\u001b[0;31m---------------------------------------------------------------------------\u001b[0m",
            "\u001b[0;31mTypeError\u001b[0m                                 Traceback (most recent call last)",
            "\u001b[0;32m<ipython-input-17-d4c2bd3d8adc>\u001b[0m in \u001b[0;36m<module>\u001b[0;34m()\u001b[0m\n\u001b[1;32m      3\u001b[0m \u001b[0mresult\u001b[0m \u001b[0;34m=\u001b[0m \u001b[0mfilter\u001b[0m\u001b[0;34m(\u001b[0m\u001b[0;32mlambda\u001b[0m \u001b[0mx\u001b[0m\u001b[0;34m:\u001b[0m \u001b[0mx\u001b[0m \u001b[0;34m%\u001b[0m \u001b[0;36m2\u001b[0m\u001b[0;34m!=\u001b[0m\u001b[0;36m0\u001b[0m\u001b[0;34m,\u001b[0m \u001b[0mmy_list\u001b[0m\u001b[0;34m)\u001b[0m\u001b[0;34m\u001b[0m\u001b[0;34m\u001b[0m\u001b[0m\n\u001b[1;32m      4\u001b[0m \u001b[0;34m\u001b[0m\u001b[0m\n\u001b[0;32m----> 5\u001b[0;31m \u001b[0mprint\u001b[0m\u001b[0;34m(\u001b[0m\u001b[0mlist\u001b[0m\u001b[0;34m(\u001b[0m\u001b[0mresult\u001b[0m\u001b[0;34m)\u001b[0m\u001b[0;34m)\u001b[0m\u001b[0;34m\u001b[0m\u001b[0;34m\u001b[0m\u001b[0m\n\u001b[0m",
            "\u001b[0;31mTypeError\u001b[0m: 'list' object is not callable"
          ]
        }
      ]
    },
    {
      "cell_type": "markdown",
      "metadata": {
        "id": "kk9DBI4MUGeo"
      },
      "source": [
        "# 18. Anagrams"
      ]
    },
    {
      "cell_type": "code",
      "metadata": {
        "colab": {
          "base_uri": "https://localhost:8080/"
        },
        "id": "0QM5FFNHUFS8",
        "outputId": "cb705807-d0db-48c7-eb40-584b07e199d4"
      },
      "source": [
        "from collections import Counter\n",
        "\n",
        "def is_anagram(string1, string2):\n",
        "  return Counter(string1) == Counter(string2)\n",
        "\n",
        "print(is_anagram('race', 'care'))"
      ],
      "execution_count": 18,
      "outputs": [
        {
          "output_type": "stream",
          "text": [
            "True\n"
          ],
          "name": "stdout"
        }
      ]
    },
    {
      "cell_type": "markdown",
      "metadata": {
        "id": "X58pvcMfUy_G"
      },
      "source": [
        "# 19. Memory Usage of Variable"
      ]
    },
    {
      "cell_type": "code",
      "metadata": {
        "colab": {
          "base_uri": "https://localhost:8080/"
        },
        "id": "MOl-0zQ5UJhi",
        "outputId": "b522c888-169a-4b17-bd87-0c3666c5626d"
      },
      "source": [
        "import sys\n",
        "\n",
        "var1 = 15\n",
        "list1 = [1,2,3,4,5]\n",
        "\n",
        "print(sys.getsizeof(var1))\n",
        "print(sys.getsizeof(list1))"
      ],
      "execution_count": 19,
      "outputs": [
        {
          "output_type": "stream",
          "text": [
            "28\n",
            "112\n"
          ],
          "name": "stdout"
        }
      ]
    },
    {
      "cell_type": "markdown",
      "metadata": {
        "id": "b5vSdZ7dU1yA"
      },
      "source": [
        "# 20. Chained function call"
      ]
    },
    {
      "cell_type": "code",
      "metadata": {
        "colab": {
          "base_uri": "https://localhost:8080/"
        },
        "id": "MOziWNSZU0OR",
        "outputId": "cf81facd-10fa-436d-964d-ec374cfeffa3"
      },
      "source": [
        "def add(a, b):\n",
        "    return a + b\n",
        "\n",
        "def subtract(a, b):\n",
        "    return a - b\n",
        "\n",
        "a, b = 5, 10\n",
        "\n",
        "print((add if b > a else subtract)(a,b))"
      ],
      "execution_count": 20,
      "outputs": [
        {
          "output_type": "stream",
          "text": [
            "15\n"
          ],
          "name": "stdout"
        }
      ]
    },
    {
      "cell_type": "markdown",
      "metadata": {
        "id": "S8rsGsK8U4bi"
      },
      "source": [
        "# 21. Get the Unique ID of an Object"
      ]
    },
    {
      "cell_type": "code",
      "metadata": {
        "colab": {
          "base_uri": "https://localhost:8080/"
        },
        "id": "ro_CgiY5U3Lv",
        "outputId": "fce378a3-9ed8-4294-dbd1-1b39d44b6290"
      },
      "source": [
        "num = 15\n",
        "name = 'John'\n",
        "list1 = [1,2,3,4]\n",
        "\n",
        "print(id(num))\n",
        "print(id(name))\n",
        "print(id(list1))"
      ],
      "execution_count": 21,
      "outputs": [
        {
          "output_type": "stream",
          "text": [
            "93896187673536\n",
            "140024450485296\n",
            "140024388992688\n"
          ],
          "name": "stdout"
        }
      ]
    },
    {
      "cell_type": "markdown",
      "metadata": {
        "id": "JKWQd0nMU6tc"
      },
      "source": [
        "# 22. Remove Duplicates From a List"
      ]
    },
    {
      "cell_type": "code",
      "metadata": {
        "colab": {
          "base_uri": "https://localhost:8080/"
        },
        "id": "RW6VQrZ4U5qC",
        "outputId": "4545600a-07d2-434f-e826-82db849ff74d"
      },
      "source": [
        "list1 = [1,2,3,3,4,'John', 'Ana', 'Mark', 'John']\n",
        "\n",
        "#Method 1\n",
        "def remove_duplicate(list_value):\n",
        "    return set(list_value)\n",
        "print(remove_duplicate(list1))\n",
        "\n",
        "#Method 2\n",
        "result = []\n",
        "[result.append(x) for x in list1 if x not in result]\n",
        "print(result)"
      ],
      "execution_count": 23,
      "outputs": [
        {
          "output_type": "stream",
          "text": [
            "{1, 2, 3, 4, 'Mark', 'Ana', 'John'}\n",
            "[1, 2, 3, 4, 'John', 'Ana', 'Mark']\n"
          ],
          "name": "stdout"
        }
      ]
    }
  ]
}