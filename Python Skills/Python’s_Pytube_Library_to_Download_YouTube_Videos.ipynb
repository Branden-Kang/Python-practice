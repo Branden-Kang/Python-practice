{
  "nbformat": 4,
  "nbformat_minor": 0,
  "metadata": {
    "colab": {
      "name": "Python’s Pytube Library to Download YouTube Videos.ipynb",
      "provenance": [],
      "authorship_tag": "ABX9TyOMYZCYjKApdCxF2Na3IpZA"
    },
    "kernelspec": {
      "name": "python3",
      "display_name": "Python 3"
    },
    "language_info": {
      "name": "python"
    }
  },
  "cells": [
    {
      "cell_type": "markdown",
      "metadata": {
        "id": "Z5jpLpjt_3-b"
      },
      "source": [
        "[Reference](https://gurusabarish.medium.com/pythons-pytube-library-to-download-youtube-videos-324cfb12c236)"
      ]
    },
    {
      "cell_type": "code",
      "metadata": {
        "colab": {
          "base_uri": "https://localhost:8080/"
        },
        "id": "ehR-0mb3_2cs",
        "outputId": "f9fb193d-97e4-467c-e6af-86249dfa5187"
      },
      "source": [
        "pip install pytube"
      ],
      "execution_count": 1,
      "outputs": [
        {
          "output_type": "stream",
          "name": "stdout",
          "text": [
            "Collecting pytube\n",
            "  Downloading pytube-11.0.1-py3-none-any.whl (56 kB)\n",
            "\u001b[K     |████████████████████████████████| 56 kB 2.4 MB/s \n",
            "\u001b[?25hInstalling collected packages: pytube\n",
            "Successfully installed pytube-11.0.1\n"
          ]
        }
      ]
    },
    {
      "cell_type": "code",
      "metadata": {
        "colab": {
          "base_uri": "https://localhost:8080/"
        },
        "id": "j_aPmFeS_9MD",
        "outputId": "ced227d7-77e1-4c75-99b8-0bc77e9512b0"
      },
      "source": [
        "import pytube\n",
        "\n",
        "url = 'https://www.youtube.com/watch?v=ID8MoC34SFA'\n",
        "\n",
        "youtube = pytube.YouTube(url)\n",
        "video = youtube.streams.first()\n",
        "video.download('../path')\n",
        "print('Completed')"
      ],
      "execution_count": 2,
      "outputs": [
        {
          "output_type": "stream",
          "name": "stdout",
          "text": [
            "Completed\n"
          ]
        }
      ]
    },
    {
      "cell_type": "code",
      "metadata": {
        "colab": {
          "base_uri": "https://localhost:8080/"
        },
        "id": "FMkOektPABCr",
        "outputId": "9797cd0b-73af-4190-f9b9-7b5b17bf6d10"
      },
      "source": [
        "import pytube\n",
        "\n",
        "link=[\n",
        "  \"https://www.youtube.com/watch?v=ID8MoC34SFA\",\n",
        "  \"https://www.youtube.com/watch?v=VzuBJTtwm3o\"\n",
        "    ]\n",
        "\n",
        "for i in link:\n",
        "  yt = pytube.YouTube(i)\n",
        "  video = youtube.streams.first()\n",
        "  video.download('../Video')\n",
        "\n",
        "print('Completed')"
      ],
      "execution_count": 3,
      "outputs": [
        {
          "output_type": "stream",
          "name": "stdout",
          "text": [
            "Completed\n"
          ]
        }
      ]
    },
    {
      "cell_type": "code",
      "metadata": {
        "id": "r6HoOb7hAC7u"
      },
      "source": [
        "from pytube import Playlist\n",
        "pl = Playlist(\"https://www.youtube.com/watch?v=-otyb0ngsa4&list=PL0lo9MOBetEFCNnxB1uZcDGcrPO1Jbpz8\")\n",
        "for video in pl.videos:\n",
        "  video.streams.first().download()"
      ],
      "execution_count": 4,
      "outputs": []
    },
    {
      "cell_type": "code",
      "metadata": {
        "colab": {
          "base_uri": "https://localhost:8080/",
          "height": 91
        },
        "id": "NvQNFwDtAFR5",
        "outputId": "f66a9422-99ec-4a57-cf9f-aad0cbb2a418"
      },
      "source": [
        "import pytube\n",
        "\n",
        "url = 'https://www.youtube.com/watch?v=VzuBJTtwm3o'\n",
        "\n",
        "youtube = pytube.YouTube(url)\n",
        "video = youtube.streams.filter(only_audio=True).all()\n",
        "video[0].download('./path')"
      ],
      "execution_count": 5,
      "outputs": [
        {
          "output_type": "stream",
          "name": "stderr",
          "text": [
            "/usr/local/lib/python3.7/dist-packages/ipykernel_launcher.py:6: DeprecationWarning: Call to deprecated function all (This object can be treated as a list, all() is useless).\n",
            "  \n"
          ]
        },
        {
          "output_type": "execute_result",
          "data": {
            "application/vnd.google.colaboratory.intrinsic+json": {
              "type": "string"
            },
            "text/plain": [
              "'/content/./path/Annas Story.mp4'"
            ]
          },
          "metadata": {},
          "execution_count": 5
        }
      ]
    }
  ]
}