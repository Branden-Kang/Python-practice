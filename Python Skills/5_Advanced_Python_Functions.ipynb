{
  "nbformat": 4,
  "nbformat_minor": 0,
  "metadata": {
    "colab": {
      "name": "5 Advanced Python Functions.ipynb",
      "provenance": [],
      "authorship_tag": "ABX9TyOO6Js9gUAA3bAkdTE96ZZL"
    },
    "kernelspec": {
      "name": "python3",
      "display_name": "Python 3"
    }
  },
  "cells": [
    {
      "cell_type": "markdown",
      "metadata": {
        "id": "oWqlBko-0W91"
      },
      "source": [
        "[Reference](https://medium.com/better-programming/5-advanced-python-function-concepts-explained-with-examples-dcf10389ac9a)"
      ]
    },
    {
      "cell_type": "code",
      "metadata": {
        "colab": {
          "base_uri": "https://localhost:8080/"
        },
        "id": "cJNo1YSb0Vf0",
        "outputId": "8f6b2daf-bb5b-420c-daab-29b766292f2b"
      },
      "source": [
        "# Define a function to calculate the mean using the def keyword\n",
        "def calculate_mean(numbers):\n",
        "     # Takes a list of integers\n",
        "     number_sum = sum(numbers)\n",
        "     number_count = len(numbers)\n",
        "     number_mean = number_sum / number_count\n",
        "     # return the calculated mean of the list of integers\n",
        "     print(f\"The mean of {numbers} is {number_mean}.\")\n",
        "     return number_mean\n",
        " \n",
        "# Use the function\n",
        "calculate_mean([1, 2, 3, 4])"
      ],
      "execution_count": 1,
      "outputs": [
        {
          "output_type": "stream",
          "text": [
            "The mean of [1, 2, 3, 4] is 2.5.\n"
          ],
          "name": "stdout"
        },
        {
          "output_type": "execute_result",
          "data": {
            "text/plain": [
              "2.5"
            ]
          },
          "metadata": {
            "tags": []
          },
          "execution_count": 1
        }
      ]
    },
    {
      "cell_type": "markdown",
      "metadata": {
        "id": "off36UXx0kzf"
      },
      "source": [
        "# 1. Undetermined Arguments (*args and **kwargs)"
      ]
    },
    {
      "cell_type": "code",
      "metadata": {
        "colab": {
          "base_uri": "https://localhost:8080/",
          "height": 130
        },
        "id": "oWo1i-z90izm",
        "outputId": "97723ae5-bb5c-4f54-bb06-fc246299f424"
      },
      "source": [
        "message0 = \"Hello\"\n",
        "message1 = \"World\"\n",
        "print(message0, message1, end=\"@@\\n\", sep=\",\")\n",
        "print(end=\"@@\\n\", message0, message1)"
      ],
      "execution_count": 2,
      "outputs": [
        {
          "output_type": "error",
          "ename": "SyntaxError",
          "evalue": "ignored",
          "traceback": [
            "\u001b[0;36m  File \u001b[0;32m\"<ipython-input-2-88f8d53661fb>\"\u001b[0;36m, line \u001b[0;32m4\u001b[0m\n\u001b[0;31m    print(end=\"@@\\n\", message0, message1)\u001b[0m\n\u001b[0m                     ^\u001b[0m\n\u001b[0;31mSyntaxError\u001b[0m\u001b[0;31m:\u001b[0m positional argument follows keyword argument\n"
          ]
        }
      ]
    },
    {
      "cell_type": "code",
      "metadata": {
        "colab": {
          "base_uri": "https://localhost:8080/"
        },
        "id": "6ymadB4C0oWk",
        "outputId": "ed25d3c9-a9e9-4be2-bb71-af165c808165"
      },
      "source": [
        "# Use the dict constructor\n",
        "dict(a=1, b=2, c=3)\n",
        "{'a': 1, 'b': 2, 'c': 3}\n",
        "dict(a=4, b=5, c=6)\n",
        "{'a': 4, 'b': 5, 'c': 6}\n",
        "# Example with a custom function\n",
        "def send_info(**kwargs):\n",
        "     for key, value in kwargs.items():\n",
        "         print(f\"parameter name: {key}; value: {value}\")\n",
        " \n",
        "send_info(name=\"John\", age=16)\n",
        "send_info(first_name=\"John\", last_name=\"Smith\")"
      ],
      "execution_count": 4,
      "outputs": [
        {
          "output_type": "stream",
          "text": [
            "parameter name: name; value: John\n",
            "parameter name: age; value: 16\n",
            "parameter name: first_name; value: John\n",
            "parameter name: last_name; value: Smith\n"
          ],
          "name": "stdout"
        }
      ]
    },
    {
      "cell_type": "markdown",
      "metadata": {
        "id": "xOiAleKo049E"
      },
      "source": [
        "# 2. Anonymous Functions (Lambdas)"
      ]
    },
    {
      "cell_type": "code",
      "metadata": {
        "colab": {
          "base_uri": "https://localhost:8080/"
        },
        "id": "mNxYkMyO01Oo",
        "outputId": "7e1d7331-99de-41f6-9536-1fe23b3d1bae"
      },
      "source": [
        "# Create a list of numbers for sorting\n",
        "numbers = [3, 11, 7, 5]\n",
        "# Sort the numbers by default\n",
        "sorted(numbers)\n",
        "# Sort the numbers by their remainders when divided by 3\n",
        "sorted(numbers, key=lambda x:x % 3)"
      ],
      "execution_count": 6,
      "outputs": [
        {
          "output_type": "execute_result",
          "data": {
            "text/plain": [
              "[3, 7, 11, 5]"
            ]
          },
          "metadata": {
            "tags": []
          },
          "execution_count": 6
        }
      ]
    },
    {
      "cell_type": "code",
      "metadata": {
        "colab": {
          "base_uri": "https://localhost:8080/"
        },
        "id": "Hhk5z4bZ09OE",
        "outputId": "5ec7903f-c40c-477a-c02d-8659dfeb6aa4"
      },
      "source": [
        "import pandas as pd\n",
        "# Create a data series\n",
        "old_ids = pd.Series(\"prefix1001 prefix1002 prefix1003\".split(), name=\"old_id\")\n",
        "print(old_ids)\n",
        "# Create a data series by removing the prefix and creating a number\n",
        "new_ids = old_ids.map(lambda x: int(x[6:]))\n",
        "print(new_ids)"
      ],
      "execution_count": 7,
      "outputs": [
        {
          "output_type": "stream",
          "text": [
            "0    prefix1001\n",
            "1    prefix1002\n",
            "2    prefix1003\n",
            "Name: old_id, dtype: object\n",
            "0    1001\n",
            "1    1002\n",
            "2    1003\n",
            "Name: old_id, dtype: int64\n"
          ],
          "name": "stdout"
        }
      ]
    },
    {
      "cell_type": "markdown",
      "metadata": {
        "id": "CvgoBwK-1HcG"
      },
      "source": [
        "# 3. Partial Functions"
      ]
    },
    {
      "cell_type": "code",
      "metadata": {
        "colab": {
          "base_uri": "https://localhost:8080/"
        },
        "id": "5MYGSxsA1DOK",
        "outputId": "b9a4e9b6-72be-4d9a-edaa-ee656fb13f3e"
      },
      "source": [
        "# Create a function that accepts two arguments\n",
        "def greeting(word, person):\n",
        "     print(f\"{word}, {person}!\")\n",
        " \n",
        "greeting(\"Hi\", \"John\")\n",
        "greeting(\"Hi\", \"Danny\")\n",
        "# Create a partial function\n",
        "from functools import partial\n",
        "say_hi = partial(greeting, \"Hi\")\n",
        "say_hi(\"John\")\n",
        "say_hi(\"Danny\")"
      ],
      "execution_count": 8,
      "outputs": [
        {
          "output_type": "stream",
          "text": [
            "Hi, John!\n",
            "Hi, Danny!\n",
            "Hi, John!\n",
            "Hi, Danny!\n"
          ],
          "name": "stdout"
        }
      ]
    },
    {
      "cell_type": "markdown",
      "metadata": {
        "id": "97LszHN81gJX"
      },
      "source": [
        "# 4. Closures"
      ]
    },
    {
      "cell_type": "code",
      "metadata": {
        "id": "Zr_EBvtd1Wx6"
      },
      "source": [
        "def make_incrementer(step):\n",
        "     # Track the count\n",
        "     counter = 0\n",
        "     # Define the incrementer function\n",
        "     def incrementer():\n",
        "         nonlocal counter\n",
        "         counter += step\n",
        "         return counter\n",
        "     # Return the incrementer function\n",
        "     return incrementer\n",
        " \n",
        "incrementer_ten = make_incrementer(10)"
      ],
      "execution_count": 9,
      "outputs": []
    },
    {
      "cell_type": "code",
      "metadata": {
        "colab": {
          "base_uri": "https://localhost:8080/"
        },
        "id": "Rpq4sMjZ1jph",
        "outputId": "1fc28a2e-829a-49cc-f4e3-be07b2050a73"
      },
      "source": [
        "incrementer_ten.__code__.co_freevars\n",
        "incrementer_ten.__closure__[0].cell_contents\n",
        "incrementer_ten()\n",
        "incrementer_ten.__closure__[0].cell_contents\n",
        "incrementer_ten()\n",
        "incrementer_ten.__closure__[0].cell_contents"
      ],
      "execution_count": 10,
      "outputs": [
        {
          "output_type": "execute_result",
          "data": {
            "text/plain": [
              "20"
            ]
          },
          "metadata": {
            "tags": []
          },
          "execution_count": 10
        }
      ]
    },
    {
      "cell_type": "markdown",
      "metadata": {
        "id": "X77dYQN-11M0"
      },
      "source": [
        "# 5. Decorators"
      ]
    },
    {
      "cell_type": "code",
      "metadata": {
        "colab": {
          "base_uri": "https://localhost:8080/"
        },
        "id": "47sPHzXm1y4y",
        "outputId": "8de865a4-0a61-410e-ecea-1e289d0aa4cc"
      },
      "source": [
        "import time\n",
        "def logging_time(func):\n",
        "    \"\"\"Decorator that logs time\"\"\"\n",
        "    def logger():\n",
        "        \"\"\"Function that logs time\"\"\"\n",
        "        start = time.time()\n",
        "        func()\n",
        "        print(f\"Calling {func.__name__}: {time.time() - start:.5f}\")\n",
        "\n",
        "    return logger\n",
        "\n",
        "@logging_time\n",
        "def calculate_sum():\n",
        "    return sum(range(10000))\n",
        "\n",
        "calculate_sum()"
      ],
      "execution_count": 11,
      "outputs": [
        {
          "output_type": "stream",
          "text": [
            "Calling calculate_sum: 0.00033\n"
          ],
          "name": "stdout"
        }
      ]
    },
    {
      "cell_type": "code",
      "metadata": {
        "colab": {
          "base_uri": "https://localhost:8080/"
        },
        "id": "I2IlfWC61_CM",
        "outputId": "a5c7bb4d-6f0e-4ec3-c2a4-b1bf80a12030"
      },
      "source": [
        "calculate_sum"
      ],
      "execution_count": 13,
      "outputs": [
        {
          "output_type": "execute_result",
          "data": {
            "text/plain": [
              "<function __main__.logging_time.<locals>.logger>"
            ]
          },
          "metadata": {
            "tags": []
          },
          "execution_count": 13
        }
      ]
    },
    {
      "cell_type": "code",
      "metadata": {
        "colab": {
          "base_uri": "https://localhost:8080/"
        },
        "id": "wu12gqZg2DkF",
        "outputId": "28ee69b5-109f-44f4-9047-3dfa0d25cf80"
      },
      "source": [
        "calculate_sum.__code__.co_freevars"
      ],
      "execution_count": 14,
      "outputs": [
        {
          "output_type": "execute_result",
          "data": {
            "text/plain": [
              "('func',)"
            ]
          },
          "metadata": {
            "tags": []
          },
          "execution_count": 14
        }
      ]
    },
    {
      "cell_type": "code",
      "metadata": {
        "colab": {
          "base_uri": "https://localhost:8080/"
        },
        "id": "wqkm9on-2FpF",
        "outputId": "905974dd-970d-490f-819c-937513275319"
      },
      "source": [
        "calculate_sum.__closure__"
      ],
      "execution_count": 15,
      "outputs": [
        {
          "output_type": "execute_result",
          "data": {
            "text/plain": [
              "(<cell at 0x7f18d9aa7dc8: function object at 0x7f18f4f5a598>,)"
            ]
          },
          "metadata": {
            "tags": []
          },
          "execution_count": 15
        }
      ]
    }
  ]
}