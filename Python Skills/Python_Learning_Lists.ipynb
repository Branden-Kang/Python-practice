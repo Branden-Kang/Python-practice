{
  "nbformat": 4,
  "nbformat_minor": 0,
  "metadata": {
    "colab": {
      "name": "Python: Learning Lists.ipynb",
      "provenance": [],
      "authorship_tag": "ABX9TyMiVAPh/ClH9Drf82EWhNMu"
    },
    "kernelspec": {
      "name": "python3",
      "display_name": "Python 3"
    }
  },
  "cells": [
    {
      "cell_type": "markdown",
      "metadata": {
        "id": "g50ij-NGDl2O"
      },
      "source": [
        "[Reference](https://medium.com/probably-programming/python-learning-lists-a4b51b65945f)"
      ]
    },
    {
      "cell_type": "code",
      "metadata": {
        "colab": {
          "base_uri": "https://localhost:8080/"
        },
        "id": "GHi4Xx3NDhMq",
        "outputId": "8902f36c-4dba-43c0-8593-c805f14edb95"
      },
      "source": [
        "letters = ['a', 'b', 'c']\n",
        "print(letters)"
      ],
      "execution_count": 1,
      "outputs": [
        {
          "output_type": "stream",
          "text": [
            "['a', 'b', 'c']\n"
          ],
          "name": "stdout"
        }
      ]
    },
    {
      "cell_type": "code",
      "metadata": {
        "colab": {
          "base_uri": "https://localhost:8080/"
        },
        "id": "NH94WRtBDseu",
        "outputId": "5d92881f-4b69-40ca-c3db-6a095b2cf6c8"
      },
      "source": [
        "letters = ['a', 'b', 'c']\n",
        "letter_b = letters[1]\n",
        "print(letter_b)"
      ],
      "execution_count": 2,
      "outputs": [
        {
          "output_type": "stream",
          "text": [
            "b\n"
          ],
          "name": "stdout"
        }
      ]
    },
    {
      "cell_type": "code",
      "metadata": {
        "colab": {
          "base_uri": "https://localhost:8080/"
        },
        "id": "Fhfss_G8DwF1",
        "outputId": "4a6ecc94-d3a6-46ab-d3d8-aee8076054f9"
      },
      "source": [
        "favorite_dishes = [\"sushi\", \"fried chicken\", \"pad thai\"]\n",
        "pad_thai_dish = favorite_dishes[2].title()\n",
        "print(pad_thai_dish)"
      ],
      "execution_count": 3,
      "outputs": [
        {
          "output_type": "stream",
          "text": [
            "Pad Thai\n"
          ],
          "name": "stdout"
        }
      ]
    },
    {
      "cell_type": "code",
      "metadata": {
        "colab": {
          "base_uri": "https://localhost:8080/"
        },
        "id": "-oGLAcU7DzAF",
        "outputId": "07c2da87-0048-4529-dca1-1c51683f8f1c"
      },
      "source": [
        "numbers = [1, 2, 3, 4]\n",
        "#negative -4 -3 -2 -1\n",
        "#positive  0  1  2  3\n",
        "negative_index = numbers[-2]\n",
        "print(negative_index)"
      ],
      "execution_count": 4,
      "outputs": [
        {
          "output_type": "stream",
          "text": [
            "3\n"
          ],
          "name": "stdout"
        }
      ]
    },
    {
      "cell_type": "code",
      "metadata": {
        "colab": {
          "base_uri": "https://localhost:8080/"
        },
        "id": "0UZU0FGyD8iA",
        "outputId": "e29b9a86-1a9f-4f1c-b414-9bd0eea638f4"
      },
      "source": [
        "pet_animals = [\"cat\", \"dog\", \"fish\", \"rabbit\", \"bird\"]\n",
        "pet_fish = \"The first pet I ever got was a \" + pet_animals[2].upper() + \".\"\n",
        "print(pet_fish)"
      ],
      "execution_count": 6,
      "outputs": [
        {
          "output_type": "stream",
          "text": [
            "The first pet I ever got was a FISH.\n"
          ],
          "name": "stdout"
        }
      ]
    },
    {
      "cell_type": "code",
      "metadata": {
        "colab": {
          "base_uri": "https://localhost:8080/"
        },
        "id": "57sINO9XD_r5",
        "outputId": "b9a31213-27e7-4ef8-90d5-3ab8a85768af"
      },
      "source": [
        "pet_animals = [\"cat\", \"dog\", \"fish\", \"rabbit\", \"bird\"]\n",
        "pet_fish = \"The first pet I ever got was a \" + pet_animals[-3].upper() + \".\"\n",
        "print(pet_fish)"
      ],
      "execution_count": 7,
      "outputs": [
        {
          "output_type": "stream",
          "text": [
            "The first pet I ever got was a FISH.\n"
          ],
          "name": "stdout"
        }
      ]
    },
    {
      "cell_type": "code",
      "metadata": {
        "colab": {
          "base_uri": "https://localhost:8080/"
        },
        "id": "guZzeP-REK9x",
        "outputId": "9d85e68a-e4af-4280-83c6-3e528f6f018e"
      },
      "source": [
        "planets = [\"mercury\", \"breadsticks\", \"earth\", \"mars\", \"jupiter\",  \"saturn\", \"uranus\", \"neptune\"]\n",
        "print(planets)\n",
        "planets[1] = \"venus\"\n",
        "print(planets)"
      ],
      "execution_count": 8,
      "outputs": [
        {
          "output_type": "stream",
          "text": [
            "['mercury', 'breadsticks', 'earth', 'mars', 'jupiter', 'saturn', 'uranus', 'neptune']\n",
            "['mercury', 'venus', 'earth', 'mars', 'jupiter', 'saturn', 'uranus', 'neptune']\n"
          ],
          "name": "stdout"
        }
      ]
    },
    {
      "cell_type": "code",
      "metadata": {
        "colab": {
          "base_uri": "https://localhost:8080/"
        },
        "id": "ZH6n136cERbg",
        "outputId": "462d7853-21d7-4967-919e-aa133f5a8d29"
      },
      "source": [
        "grocery_list = []\n",
        "grocery_list.append(\"milk\")\n",
        "grocery_list.append(\"eggs\")\n",
        "grocery_list.append(\"bread\")\n",
        "print(grocery_list)"
      ],
      "execution_count": 9,
      "outputs": [
        {
          "output_type": "stream",
          "text": [
            "['milk', 'eggs', 'bread']\n"
          ],
          "name": "stdout"
        }
      ]
    },
    {
      "cell_type": "code",
      "metadata": {
        "colab": {
          "base_uri": "https://localhost:8080/"
        },
        "id": "5v940R2sEcY_",
        "outputId": "9422c1d3-3283-4480-b6e4-f9844a934144"
      },
      "source": [
        "guitars = [\"martin\", \"fender\", \"lakewood\"]\n",
        "guitars.insert(0, \"seagull\")\n",
        "print(guitars)"
      ],
      "execution_count": 10,
      "outputs": [
        {
          "output_type": "stream",
          "text": [
            "['seagull', 'martin', 'fender', 'lakewood']\n"
          ],
          "name": "stdout"
        }
      ]
    },
    {
      "cell_type": "code",
      "metadata": {
        "colab": {
          "base_uri": "https://localhost:8080/"
        },
        "id": "yckR_lbcEebU",
        "outputId": "32cbdf41-a558-4f4f-c248-b1201a2c8c8e"
      },
      "source": [
        "guitars.insert(2, \"gibson\")\n",
        "print(guitars)"
      ],
      "execution_count": 11,
      "outputs": [
        {
          "output_type": "stream",
          "text": [
            "['seagull', 'martin', 'gibson', 'fender', 'lakewood']\n"
          ],
          "name": "stdout"
        }
      ]
    },
    {
      "cell_type": "code",
      "metadata": {
        "colab": {
          "base_uri": "https://localhost:8080/"
        },
        "id": "aXLzjASKEhGE",
        "outputId": "187a73dc-1449-46b0-e9aa-f5025e37c7bb"
      },
      "source": [
        "guitars.insert(2, \"gibson\")\n",
        "print(guitars)"
      ],
      "execution_count": 12,
      "outputs": [
        {
          "output_type": "stream",
          "text": [
            "['seagull', 'martin', 'gibson', 'gibson', 'fender', 'lakewood']\n"
          ],
          "name": "stdout"
        }
      ]
    },
    {
      "cell_type": "code",
      "metadata": {
        "colab": {
          "base_uri": "https://localhost:8080/"
        },
        "id": "JH9cBjbZEi1J",
        "outputId": "f5d03290-9e73-46a0-ce89-a0268bc54aef"
      },
      "source": [
        "del guitars[0]\n",
        "print(guitars)"
      ],
      "execution_count": 13,
      "outputs": [
        {
          "output_type": "stream",
          "text": [
            "['martin', 'gibson', 'gibson', 'fender', 'lakewood']\n"
          ],
          "name": "stdout"
        }
      ]
    },
    {
      "cell_type": "code",
      "metadata": {
        "colab": {
          "base_uri": "https://localhost:8080/"
        },
        "id": "pdK4PQF1Ej1y",
        "outputId": "d1554ba9-fd69-4bf1-9b2b-318ed3ba6690"
      },
      "source": [
        "#Using the .pop() method\n",
        "guitars = [\"martin\", \"fender\", \"lakewood\"]\n",
        "print(guitars)"
      ],
      "execution_count": 14,
      "outputs": [
        {
          "output_type": "stream",
          "text": [
            "['martin', 'fender', 'lakewood']\n"
          ],
          "name": "stdout"
        }
      ]
    },
    {
      "cell_type": "code",
      "metadata": {
        "colab": {
          "base_uri": "https://localhost:8080/"
        },
        "id": "1ywIZxmSEp2L",
        "outputId": "a45ea0ae-dc7f-4234-b52b-d362eea6949d"
      },
      "source": [
        "popped_guitars = guitars.pop()\n",
        "print(guitars)\n",
        "print(popped_guitars)"
      ],
      "execution_count": 15,
      "outputs": [
        {
          "output_type": "stream",
          "text": [
            "['martin', 'fender']\n",
            "lakewood\n"
          ],
          "name": "stdout"
        }
      ]
    },
    {
      "cell_type": "code",
      "metadata": {
        "colab": {
          "base_uri": "https://localhost:8080/"
        },
        "id": "-ReAm9PgErIx",
        "outputId": "823e9c94-095f-46bc-e58a-2eba223e60d1"
      },
      "source": [
        "guitars = [\"martin\", \"fender\", \"lakewood\"]\n",
        "last_bought = guitars.pop()\n",
        "print(\"The last guitar I bought was a \" + last_bought.title() + \".\")"
      ],
      "execution_count": 16,
      "outputs": [
        {
          "output_type": "stream",
          "text": [
            "The last guitar I bought was a Lakewood.\n"
          ],
          "name": "stdout"
        }
      ]
    },
    {
      "cell_type": "code",
      "metadata": {
        "colab": {
          "base_uri": "https://localhost:8080/"
        },
        "id": "eTmbuvtoE9Jy",
        "outputId": "73f82499-6679-44ed-eda4-b933fb3419ec"
      },
      "source": [
        "guitars = [\"martin\", \"fender\", \"lakewood\"]\n",
        "first_guitar = guitars.pop(0)\n",
        "print(\"The first guitar I ever got was a \" + first_guitar.title() + \".\")"
      ],
      "execution_count": 17,
      "outputs": [
        {
          "output_type": "stream",
          "text": [
            "The first guitar I ever got was a Martin.\n"
          ],
          "name": "stdout"
        }
      ]
    },
    {
      "cell_type": "code",
      "metadata": {
        "colab": {
          "base_uri": "https://localhost:8080/"
        },
        "id": "rJ9qbxMfE_V3",
        "outputId": "6c0d4070-e6b9-4353-8123-3d0cbf5e8354"
      },
      "source": [
        "guitars = [\"martin\", \"fender\", \"lakewood\"]\n",
        "print(guitars)"
      ],
      "execution_count": 18,
      "outputs": [
        {
          "output_type": "stream",
          "text": [
            "['martin', 'fender', 'lakewood']\n"
          ],
          "name": "stdout"
        }
      ]
    },
    {
      "cell_type": "code",
      "metadata": {
        "colab": {
          "base_uri": "https://localhost:8080/"
        },
        "id": "2XNmzS4XFB7G",
        "outputId": "df11d418-052b-4cfd-9d38-7404f90a1b41"
      },
      "source": [
        "guitars.remove(\"fender\")\n",
        "print(guitars)"
      ],
      "execution_count": 19,
      "outputs": [
        {
          "output_type": "stream",
          "text": [
            "['martin', 'lakewood']\n"
          ],
          "name": "stdout"
        }
      ]
    },
    {
      "cell_type": "code",
      "metadata": {
        "colab": {
          "base_uri": "https://localhost:8080/"
        },
        "id": "34Nb7-osFDoD",
        "outputId": "70af9b23-1f19-4c33-aa81-e51f07629b95"
      },
      "source": [
        "guitars = [\"martin\", \"fender\", \"fender\", \"lakewood\"]\n",
        "print(guitars)"
      ],
      "execution_count": 20,
      "outputs": [
        {
          "output_type": "stream",
          "text": [
            "['martin', 'fender', 'fender', 'lakewood']\n"
          ],
          "name": "stdout"
        }
      ]
    },
    {
      "cell_type": "code",
      "metadata": {
        "colab": {
          "base_uri": "https://localhost:8080/"
        },
        "id": "FrvCRBt3FJxn",
        "outputId": "3ad26dec-32b6-43ad-a8dc-4a7b887dcd2f"
      },
      "source": [
        "guitars.remove(\"fender\")\n",
        "print(guitars)"
      ],
      "execution_count": 21,
      "outputs": [
        {
          "output_type": "stream",
          "text": [
            "['martin', 'fender', 'lakewood']\n"
          ],
          "name": "stdout"
        }
      ]
    },
    {
      "cell_type": "code",
      "metadata": {
        "colab": {
          "base_uri": "https://localhost:8080/"
        },
        "id": "vnMRHqUgFLaT",
        "outputId": "de8a6fa3-43ef-429c-d449-10ec7c4c2f2b"
      },
      "source": [
        "guitars = [\"martin\", \"fender\", \"lakewood\"]\n",
        "too_expensive = \"lakewood\"\n",
        "guitars.remove(too_expensive)\n",
        "print(guitars)\n",
        "print(too_expensive.title() + \"'s are too expensive for me.\")"
      ],
      "execution_count": 22,
      "outputs": [
        {
          "output_type": "stream",
          "text": [
            "['martin', 'fender']\n",
            "Lakewood's are too expensive for me.\n"
          ],
          "name": "stdout"
        }
      ]
    },
    {
      "cell_type": "code",
      "metadata": {
        "colab": {
          "base_uri": "https://localhost:8080/"
        },
        "id": "6RSRgHX2FP_Z",
        "outputId": "f36749b7-1942-4e37-d895-eef650e4c2e4"
      },
      "source": [
        "numbers = [4, 5, 2, 1, 7, 10, 20]\n",
        "\n",
        "letters = ['z', 'd', 'b', 'r', 'a', 'n']\n",
        "\n",
        "print(numbers)\n",
        "print(letters)\n",
        "\n",
        "numbers.sort()\n",
        "letters.sort()\n",
        "\n",
        "print(numbers)\n",
        "print(letters)"
      ],
      "execution_count": 23,
      "outputs": [
        {
          "output_type": "stream",
          "text": [
            "[4, 5, 2, 1, 7, 10, 20]\n",
            "['z', 'd', 'b', 'r', 'a', 'n']\n",
            "[1, 2, 4, 5, 7, 10, 20]\n",
            "['a', 'b', 'd', 'n', 'r', 'z']\n"
          ],
          "name": "stdout"
        }
      ]
    },
    {
      "cell_type": "code",
      "metadata": {
        "colab": {
          "base_uri": "https://localhost:8080/",
          "height": 232
        },
        "id": "7LoUBR-5FloD",
        "outputId": "faf7d4a2-8f68-4743-d8c1-d70cd78c9f22"
      },
      "source": [
        "mixed = [4, 'b', 78, 'a', 'z', 85, 'd', 0] #numbers and letters\n",
        "mixed.sort()\n",
        "print(mixed)"
      ],
      "execution_count": 24,
      "outputs": [
        {
          "output_type": "error",
          "ename": "TypeError",
          "evalue": "ignored",
          "traceback": [
            "\u001b[0;31m---------------------------------------------------------------------------\u001b[0m",
            "\u001b[0;31mTypeError\u001b[0m                                 Traceback (most recent call last)",
            "\u001b[0;32m<ipython-input-24-46f89ca826d9>\u001b[0m in \u001b[0;36m<module>\u001b[0;34m()\u001b[0m\n\u001b[1;32m      1\u001b[0m \u001b[0mmixed\u001b[0m \u001b[0;34m=\u001b[0m \u001b[0;34m[\u001b[0m\u001b[0;36m4\u001b[0m\u001b[0;34m,\u001b[0m \u001b[0;34m'b'\u001b[0m\u001b[0;34m,\u001b[0m \u001b[0;36m78\u001b[0m\u001b[0;34m,\u001b[0m \u001b[0;34m'a'\u001b[0m\u001b[0;34m,\u001b[0m \u001b[0;34m'z'\u001b[0m\u001b[0;34m,\u001b[0m \u001b[0;36m85\u001b[0m\u001b[0;34m,\u001b[0m \u001b[0;34m'd'\u001b[0m\u001b[0;34m,\u001b[0m \u001b[0;36m0\u001b[0m\u001b[0;34m]\u001b[0m \u001b[0;31m#numbers and letters\u001b[0m\u001b[0;34m\u001b[0m\u001b[0;34m\u001b[0m\u001b[0m\n\u001b[0;32m----> 2\u001b[0;31m \u001b[0mmixed\u001b[0m\u001b[0;34m.\u001b[0m\u001b[0msort\u001b[0m\u001b[0;34m(\u001b[0m\u001b[0;34m)\u001b[0m\u001b[0;34m\u001b[0m\u001b[0;34m\u001b[0m\u001b[0m\n\u001b[0m\u001b[1;32m      3\u001b[0m \u001b[0mprint\u001b[0m\u001b[0;34m(\u001b[0m\u001b[0mmixed\u001b[0m\u001b[0;34m)\u001b[0m\u001b[0;34m\u001b[0m\u001b[0;34m\u001b[0m\u001b[0m\n",
            "\u001b[0;31mTypeError\u001b[0m: '<' not supported between instances of 'str' and 'int'"
          ]
        }
      ]
    },
    {
      "cell_type": "code",
      "metadata": {
        "colab": {
          "base_uri": "https://localhost:8080/"
        },
        "id": "61Wv0ccXFqkF",
        "outputId": "61b3f15d-6f67-48fb-c673-8a6ee9f1af8d"
      },
      "source": [
        "bool_and_num_list = [4, True, 0, 1, 2]\n",
        "bool_and_num_list.sort()\n",
        "print(bool_and_num_list)"
      ],
      "execution_count": 25,
      "outputs": [
        {
          "output_type": "stream",
          "text": [
            "[0, True, 1, 2, 4]\n"
          ],
          "name": "stdout"
        }
      ]
    },
    {
      "cell_type": "code",
      "metadata": {
        "colab": {
          "base_uri": "https://localhost:8080/"
        },
        "id": "Q8i4KLhsFwoa",
        "outputId": "85687164-6c31-4201-e8c5-9aa5684b0576"
      },
      "source": [
        "favorite_words = [\"cool\", \"spectacular\", \"awesome\"]\n",
        "print(\"Original list: \", favorite_words)\n",
        "print(\"Sorted list: \", sorted(favorite_words))\n",
        "print(\"Original list again: \", favorite_words)"
      ],
      "execution_count": 26,
      "outputs": [
        {
          "output_type": "stream",
          "text": [
            "Original list:  ['cool', 'spectacular', 'awesome']\n",
            "Sorted list:  ['awesome', 'cool', 'spectacular']\n",
            "Original list again:  ['cool', 'spectacular', 'awesome']\n"
          ],
          "name": "stdout"
        }
      ]
    },
    {
      "cell_type": "code",
      "metadata": {
        "colab": {
          "base_uri": "https://localhost:8080/"
        },
        "id": "nAPWeNQWF0g0",
        "outputId": "c9b55eba-8c88-487e-994a-a1e643a8945b"
      },
      "source": [
        "favorite_words = [\"cool\", \"spectacular\", \"awesome\"]\n",
        "print(\"Sorted list: \", sorted(favorite_words, reverse = True))"
      ],
      "execution_count": 27,
      "outputs": [
        {
          "output_type": "stream",
          "text": [
            "Sorted list:  ['spectacular', 'cool', 'awesome']\n"
          ],
          "name": "stdout"
        }
      ]
    },
    {
      "cell_type": "code",
      "metadata": {
        "colab": {
          "base_uri": "https://localhost:8080/"
        },
        "id": "p6nxz3xJF2uu",
        "outputId": "9b47fcaf-2929-488d-c64a-8800fefd97ec"
      },
      "source": [
        "letters = ['b', 'r', 'a', 'w', 'l']\n",
        "print(letters)"
      ],
      "execution_count": 28,
      "outputs": [
        {
          "output_type": "stream",
          "text": [
            "['b', 'r', 'a', 'w', 'l']\n"
          ],
          "name": "stdout"
        }
      ]
    },
    {
      "cell_type": "code",
      "metadata": {
        "colab": {
          "base_uri": "https://localhost:8080/"
        },
        "id": "L3pHvHazF7Dr",
        "outputId": "c6b0016c-f2d3-4c7e-ae7e-10dd85958afd"
      },
      "source": [
        "letters.reverse()\n",
        "print(letters)"
      ],
      "execution_count": 29,
      "outputs": [
        {
          "output_type": "stream",
          "text": [
            "['l', 'w', 'a', 'r', 'b']\n"
          ],
          "name": "stdout"
        }
      ]
    },
    {
      "cell_type": "code",
      "metadata": {
        "colab": {
          "base_uri": "https://localhost:8080/"
        },
        "id": "Xw4e0c7dF-Hv",
        "outputId": "a690afc3-4434-4e44-8cac-deca2e6f2726"
      },
      "source": [
        "letters = ['b', 'r', 'a', 'w', 'l']\n",
        "print(letters)"
      ],
      "execution_count": 30,
      "outputs": [
        {
          "output_type": "stream",
          "text": [
            "['b', 'r', 'a', 'w', 'l']\n"
          ],
          "name": "stdout"
        }
      ]
    },
    {
      "cell_type": "code",
      "metadata": {
        "colab": {
          "base_uri": "https://localhost:8080/"
        },
        "id": "uHWL2c0MGBJ9",
        "outputId": "9b184505-6e59-4223-ce9d-6d1db6b8fb1e"
      },
      "source": [
        "letters.reverse()\n",
        "print(letters)"
      ],
      "execution_count": 31,
      "outputs": [
        {
          "output_type": "stream",
          "text": [
            "['l', 'w', 'a', 'r', 'b']\n"
          ],
          "name": "stdout"
        }
      ]
    },
    {
      "cell_type": "code",
      "metadata": {
        "colab": {
          "base_uri": "https://localhost:8080/"
        },
        "id": "Yjnnmr0ZGEZd",
        "outputId": "832f7f55-c18c-45a5-9a58-48dbec8670b4"
      },
      "source": [
        "letters.reverse() #reverts the list back into the original order\n",
        "print(letters)"
      ],
      "execution_count": 32,
      "outputs": [
        {
          "output_type": "stream",
          "text": [
            "['b', 'r', 'a', 'w', 'l']\n"
          ],
          "name": "stdout"
        }
      ]
    },
    {
      "cell_type": "code",
      "metadata": {
        "colab": {
          "base_uri": "https://localhost:8080/"
        },
        "id": "uBnqNXrbGGcz",
        "outputId": "2217a884-77a8-4f18-d9bc-3d554a7729ce"
      },
      "source": [
        "pets = [\"turtle\", \"dog\", \"cat\", \"hedgehog\"]\n",
        "print(len(pets))"
      ],
      "execution_count": 33,
      "outputs": [
        {
          "output_type": "stream",
          "text": [
            "4\n"
          ],
          "name": "stdout"
        }
      ]
    },
    {
      "cell_type": "code",
      "metadata": {
        "colab": {
          "base_uri": "https://localhost:8080/",
          "height": 215
        },
        "id": "vxlqRblkGI8m",
        "outputId": "4d59acec-2c23-4bd7-8c6f-9ebf816c03aa"
      },
      "source": [
        "numbers = [1, 2, 3, 4, 5]\n",
        "print(numbers[5]) "
      ],
      "execution_count": 34,
      "outputs": [
        {
          "output_type": "error",
          "ename": "IndexError",
          "evalue": "ignored",
          "traceback": [
            "\u001b[0;31m---------------------------------------------------------------------------\u001b[0m",
            "\u001b[0;31mIndexError\u001b[0m                                Traceback (most recent call last)",
            "\u001b[0;32m<ipython-input-34-9810f6a2beda>\u001b[0m in \u001b[0;36m<module>\u001b[0;34m()\u001b[0m\n\u001b[1;32m      1\u001b[0m \u001b[0mnumbers\u001b[0m \u001b[0;34m=\u001b[0m \u001b[0;34m[\u001b[0m\u001b[0;36m1\u001b[0m\u001b[0;34m,\u001b[0m \u001b[0;36m2\u001b[0m\u001b[0;34m,\u001b[0m \u001b[0;36m3\u001b[0m\u001b[0;34m,\u001b[0m \u001b[0;36m4\u001b[0m\u001b[0;34m,\u001b[0m \u001b[0;36m5\u001b[0m\u001b[0;34m]\u001b[0m\u001b[0;34m\u001b[0m\u001b[0;34m\u001b[0m\u001b[0m\n\u001b[0;32m----> 2\u001b[0;31m \u001b[0mprint\u001b[0m\u001b[0;34m(\u001b[0m\u001b[0mnumbers\u001b[0m\u001b[0;34m[\u001b[0m\u001b[0;36m5\u001b[0m\u001b[0;34m]\u001b[0m\u001b[0;34m)\u001b[0m\u001b[0;34m\u001b[0m\u001b[0;34m\u001b[0m\u001b[0m\n\u001b[0m",
            "\u001b[0;31mIndexError\u001b[0m: list index out of range"
          ]
        }
      ]
    }
  ]
}