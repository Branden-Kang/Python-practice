{
  "nbformat": 4,
  "nbformat_minor": 0,
  "metadata": {
    "colab": {
      "name": "Must-Know Built-in Python Functions.ipynb",
      "provenance": [],
      "authorship_tag": "ABX9TyPRQSmEC8xautveTk02ybxv"
    },
    "kernelspec": {
      "name": "python3",
      "display_name": "Python 3"
    },
    "language_info": {
      "name": "python"
    }
  },
  "cells": [
    {
      "cell_type": "markdown",
      "metadata": {
        "id": "9g7_7sBAaRxz"
      },
      "source": [
        "[Reference](https://turgutguvenc60.medium.com/must-know-built-in-python-functions-vol-1-1e2180355c3d)"
      ]
    },
    {
      "cell_type": "code",
      "metadata": {
        "colab": {
          "base_uri": "https://localhost:8080/"
        },
        "id": "LmQ_M8YeZzEk",
        "outputId": "2a260d80-393c-405d-caef-dee7ecda3912"
      },
      "source": [
        "# let's write a function to find out the square number.\n",
        "def squared(x):\n",
        "    \"\"\"Its returns squared number from given number\"\"\"\n",
        "    return x * x\n",
        "\n",
        "num_list= [1,2,3,4,5,6,7] # we have created a list\n",
        "\n",
        "result = map(squared, num_list)\n",
        "print(result) # It returns map object location\n",
        "\n",
        "# to see the results, you can convert to map object list,tuple or set\n",
        "print(list(map(squared, num_list)))"
      ],
      "execution_count": 1,
      "outputs": [
        {
          "output_type": "stream",
          "text": [
            "<map object at 0x7f934eb25e90>\n",
            "[1, 4, 9, 16, 25, 36, 49]\n"
          ],
          "name": "stdout"
        }
      ]
    },
    {
      "cell_type": "code",
      "metadata": {
        "colab": {
          "base_uri": "https://localhost:8080/"
        },
        "id": "IYkJOu3JZ_wt",
        "outputId": "eaeda34b-11ae-4828-cb4b-f4b7d8655af0"
      },
      "source": [
        "# It returns map object ocation\n",
        "map(lambda x : x ** x, [1,2,3,4,5,6,7,8,9]) \n",
        "\n",
        "# To see exact result\n",
        "print(list(map(lambda x : x ** x, [1,2,3,4,5,6,7,8,9])))"
      ],
      "execution_count": 2,
      "outputs": [
        {
          "output_type": "stream",
          "text": [
            "[1, 4, 27, 256, 3125, 46656, 823543, 16777216, 387420489]\n"
          ],
          "name": "stdout"
        }
      ]
    },
    {
      "cell_type": "code",
      "metadata": {
        "colab": {
          "base_uri": "https://localhost:8080/"
        },
        "id": "Y26C_kwNaA--",
        "outputId": "0a70cb16-8ab3-4dfe-a8ed-11e005dee962"
      },
      "source": [
        "list1 = [1,2,3,4]\n",
        "list2 = [5,6,7,8]\n",
        "list3 = [9,10,11,12,13] \n",
        "map(lambda x,y,z : x * y * z, list1,list2, list3) # It returns map object location\n",
        "\n",
        "print(list(map(lambda x,y,z : x * y * z, list1,list2, list3)))"
      ],
      "execution_count": 3,
      "outputs": [
        {
          "output_type": "stream",
          "text": [
            "[45, 120, 231, 384]\n"
          ],
          "name": "stdout"
        }
      ]
    },
    {
      "cell_type": "code",
      "metadata": {
        "colab": {
          "base_uri": "https://localhost:8080/"
        },
        "id": "tsXVeHzXaCMN",
        "outputId": "038b0910-28bc-40d9-ef45-d5330bd96142"
      },
      "source": [
        "liste = [\"Pyhon\",\"Java\",\"Go\",\"Php\"]\n",
        "\n",
        "# we want to make the output like this [(0,'Python'),(1,'Java'),(2,'Go'),(3,'Php')] \n",
        "# Hardway:\n",
        "result = list() #make an empty list to be a container\n",
        "a = 0\n",
        "for i in liste:\n",
        "    result.append((a,i))\n",
        "    a +=1\n",
        "print(result)"
      ],
      "execution_count": 5,
      "outputs": [
        {
          "output_type": "stream",
          "text": [
            "[(0, 'Pyhon'), (1, 'Java'), (2, 'Go'), (3, 'Php')]\n"
          ],
          "name": "stdout"
        }
      ]
    },
    {
      "cell_type": "code",
      "metadata": {
        "colab": {
          "base_uri": "https://localhost:8080/"
        },
        "id": "z4rXAumZaDpo",
        "outputId": "5825f527-0b2f-46d7-cc73-3788d403b99f"
      },
      "source": [
        "liste = [\"Pyhon\",\"Java\",\"Go\",\"Php\"]\n",
        "print(enumerate(liste)) # it returned object is an enumerate object.(actuallt its location)\n",
        "list(enumerate(liste)) "
      ],
      "execution_count": 6,
      "outputs": [
        {
          "output_type": "stream",
          "text": [
            "<enumerate object at 0x7f934c7caaf0>\n"
          ],
          "name": "stdout"
        },
        {
          "output_type": "execute_result",
          "data": {
            "text/plain": [
              "[(0, 'Pyhon'), (1, 'Java'), (2, 'Go'), (3, 'Php')]"
            ]
          },
          "metadata": {},
          "execution_count": 6
        }
      ]
    },
    {
      "cell_type": "code",
      "metadata": {
        "colab": {
          "base_uri": "https://localhost:8080/"
        },
        "id": "BfOdvDOUaKUR",
        "outputId": "3f056d4f-2a74-4173-c285-d9b5cb9c0dc1"
      },
      "source": [
        "list(enumerate(liste,start=10)) # we determine the start point to 10 using start parameter"
      ],
      "execution_count": 7,
      "outputs": [
        {
          "output_type": "execute_result",
          "data": {
            "text/plain": [
              "[(10, 'Pyhon'), (11, 'Java'), (12, 'Go'), (13, 'Php')]"
            ]
          },
          "metadata": {},
          "execution_count": 7
        }
      ]
    },
    {
      "cell_type": "code",
      "metadata": {
        "colab": {
          "base_uri": "https://localhost:8080/"
        },
        "id": "zwvHqArWaLYM",
        "outputId": "ba7d4a80-2d35-488a-8af9-a98ffaf186c8"
      },
      "source": [
        "from functools import reduce # we have to import the reduce() function\n",
        "\n",
        "reduce(lambda x,y : x + y , [23,21,45,98]) "
      ],
      "execution_count": 8,
      "outputs": [
        {
          "output_type": "execute_result",
          "data": {
            "text/plain": [
              "187"
            ]
          },
          "metadata": {},
          "execution_count": 8
        }
      ]
    },
    {
      "cell_type": "code",
      "metadata": {
        "colab": {
          "base_uri": "https://localhost:8080/"
        },
        "id": "yMtNCNYpaNJt",
        "outputId": "7b862431-e367-4b6b-e586-c50ca1355bd2"
      },
      "source": [
        "def maksimum(x,y):\n",
        "    if (x > y):\n",
        "        return x\n",
        "    else:\n",
        "        return y\n",
        "        \n",
        "reduce(maksimum, [-2,1,100,35,32])\n",
        "\n",
        "# this is a very simple and more clear usage of the same example\n",
        "reduce(lambda x,y : x if (x > y) else y, [-2,1,100,35,32])"
      ],
      "execution_count": 9,
      "outputs": [
        {
          "output_type": "execute_result",
          "data": {
            "text/plain": [
              "100"
            ]
          },
          "metadata": {},
          "execution_count": 9
        }
      ]
    }
  ]
}