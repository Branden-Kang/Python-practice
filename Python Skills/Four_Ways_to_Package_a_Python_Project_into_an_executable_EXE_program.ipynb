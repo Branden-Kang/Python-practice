{
  "nbformat": 4,
  "nbformat_minor": 0,
  "metadata": {
    "colab": {
      "provenance": [],
      "authorship_tag": "ABX9TyNISuEHh3Li4FA/JAGEOgmR"
    },
    "kernelspec": {
      "name": "python3",
      "display_name": "Python 3"
    },
    "language_info": {
      "name": "python"
    }
  },
  "cells": [
    {
      "cell_type": "markdown",
      "source": [
        "[Reference](https://medium.com/@tubelwj/four-ways-to-package-a-python-project-into-an-executable-exe-program-fe75b079ee84)"
      ],
      "metadata": {
        "id": "adx3sfJzce50"
      }
    },
    {
      "cell_type": "markdown",
      "source": [
        "# 1. Using PyInstaller"
      ],
      "metadata": {
        "id": "GmzYD2iqcomj"
      }
    },
    {
      "cell_type": "code",
      "source": [
        "# Add the following content to the spec file\n",
        "# examples/my-hook-encodings.py is an example; you may need to adjust it based on the libraries you use\n",
        "a = Analysis(['your_script.py'],\n",
        "             pathex=['path_to_your_script'],\n",
        "             binaries=[],\n",
        "             datas=[],\n",
        "             hiddenimports=[],\n",
        "             hookspath=[],\n",
        "             hooksconfig={},\n",
        "             runtime_hooks=['examples/my-hook-encodings.py'],  # Add your run-time hooks\n",
        "             excludes=[],\n",
        "             win_no_prefer_redirects=False,\n",
        "             win_private_assemblies=False,\n",
        "             cipher=1,  # This enables encryption for .pyc files (requires the --key parameter)\n",
        "             noarchive=False)"
      ],
      "metadata": {
        "id": "doMtG8nIcWow"
      },
      "execution_count": 1,
      "outputs": []
    },
    {
      "cell_type": "markdown",
      "source": [
        "```\n",
        "pyinstaller --key your_secret_key your_script.py\n",
        "```"
      ],
      "metadata": {
        "id": "S8pn6oxEc93D"
      }
    },
    {
      "cell_type": "markdown",
      "source": [
        "```\n",
        "pyinstaller -F app-script.py --icon=icon.ico --add-data 'src;dest' --hidden-import=module.name\n",
        "```"
      ],
      "metadata": {
        "id": "gH8QIYwrc6ed"
      }
    },
    {
      "cell_type": "markdown",
      "source": [
        "# 2. Using py2exe (Windows Only)"
      ],
      "metadata": {
        "id": "TbSBqLC_c_wt"
      }
    },
    {
      "cell_type": "markdown",
      "source": [
        "```\n",
        "python setup.py py2exe --dist-dir=.\\dist --icon=icon.ico --includes=module1,module2\n",
        "```"
      ],
      "metadata": {
        "id": "5hqms6jDdBQX"
      }
    },
    {
      "cell_type": "markdown",
      "source": [
        "# 3. Using cx_Freeze"
      ],
      "metadata": {
        "id": "ndQAyCoydDem"
      }
    },
    {
      "cell_type": "markdown",
      "source": [
        "```\n",
        "cxfreeze your-script.py --icon=icon.ico --include-modules=module1,module2 --exclude-modules=module3\n",
        "```"
      ],
      "metadata": {
        "id": "m9rzOQNadFIo"
      }
    },
    {
      "cell_type": "markdown",
      "source": [
        "# 4. Using Nuitka"
      ],
      "metadata": {
        "id": "I68Fl_JKdG5g"
      }
    },
    {
      "cell_type": "markdown",
      "source": [
        "```\n",
        "nuitka --standalone --output-dir=.\\dist your-script.py --recurse-all\n",
        "```"
      ],
      "metadata": {
        "id": "5a0zeFDUdJym"
      }
    }
  ]
}
