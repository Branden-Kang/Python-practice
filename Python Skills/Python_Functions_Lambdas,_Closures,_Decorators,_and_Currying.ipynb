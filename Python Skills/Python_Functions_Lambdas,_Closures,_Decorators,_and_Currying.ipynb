{
  "nbformat": 4,
  "nbformat_minor": 0,
  "metadata": {
    "colab": {
      "name": "Python Functions: Lambdas, Closures, Decorators, and Currying.ipynb",
      "provenance": [],
      "authorship_tag": "ABX9TyPo4hsoONfJSVaGo3zQRr/s"
    },
    "kernelspec": {
      "name": "python3",
      "display_name": "Python 3"
    }
  },
  "cells": [
    {
      "cell_type": "markdown",
      "metadata": {
        "id": "2FQv8xZWLYwQ"
      },
      "source": [
        "[Reference](https://medium.com/better-programming/python-functions-lambdas-closures-decorators-and-currying-83165d099abe)"
      ]
    },
    {
      "cell_type": "code",
      "metadata": {
        "id": "uooKbY5wLXfU",
        "outputId": "aa81d15e-86a2-49d1-b22c-15b561e96c6a",
        "colab": {
          "base_uri": "https://localhost:8080/"
        }
      },
      "source": [
        "def add_up(num1, num2):\n",
        "     print(\"called the add_up function\")\n",
        "     sum_n = num1+num2\n",
        "     return sum_n\n",
        " \n",
        "sum0 = add_up(3, 5)\n",
        "print(sum0)"
      ],
      "execution_count": 1,
      "outputs": [
        {
          "output_type": "stream",
          "text": [
            "called the add_up function\n",
            "8\n"
          ],
          "name": "stdout"
        }
      ]
    },
    {
      "cell_type": "code",
      "metadata": {
        "id": "L0j-4QN9LfyV"
      },
      "source": [
        "# define a list of tuples\n",
        "records = [(1, 'John'), (2, 'Aaron'), (5, 'Ian')]"
      ],
      "execution_count": 2,
      "outputs": []
    },
    {
      "cell_type": "code",
      "metadata": {
        "id": "_Y9TwFn7LkV7",
        "outputId": "b093776b-024f-4f6a-e84a-ef96fff425fe",
        "colab": {
          "base_uri": "https://localhost:8080/"
        }
      },
      "source": [
        "# sort with a lambda\n",
        "sorted(records, key=lambda x: len(x[1]))"
      ],
      "execution_count": 3,
      "outputs": [
        {
          "output_type": "execute_result",
          "data": {
            "text/plain": [
              "[(5, 'Ian'), (1, 'John'), (2, 'Aaron')]"
            ]
          },
          "metadata": {
            "tags": []
          },
          "execution_count": 3
        }
      ]
    },
    {
      "cell_type": "code",
      "metadata": {
        "id": "XyRSGFQDLls6"
      },
      "source": [
        "def make_multiplier(coefficient):\n",
        "     product = 1\n",
        "     def multiplier():\n",
        "         nonlocal product\n",
        "         product *= coefficient\n",
        "         return product\n",
        "\n",
        "     return multiplier"
      ],
      "execution_count": 5,
      "outputs": []
    },
    {
      "cell_type": "code",
      "metadata": {
        "id": "UI1M2bB3Loaj",
        "outputId": "597c2627-8722-46d3-dd13-bc72013ad47d",
        "colab": {
          "base_uri": "https://localhost:8080/"
        }
      },
      "source": [
        "multipler3 = make_multiplier(3)\n",
        "multipler3()"
      ],
      "execution_count": 6,
      "outputs": [
        {
          "output_type": "execute_result",
          "data": {
            "text/plain": [
              "3"
            ]
          },
          "metadata": {
            "tags": []
          },
          "execution_count": 6
        }
      ]
    },
    {
      "cell_type": "code",
      "metadata": {
        "id": "vhftr-vELtT4",
        "outputId": "345bb206-f08b-4cf0-9532-0be341c69624",
        "colab": {
          "base_uri": "https://localhost:8080/"
        }
      },
      "source": [
        "multipler3()"
      ],
      "execution_count": 7,
      "outputs": [
        {
          "output_type": "execute_result",
          "data": {
            "text/plain": [
              "9"
            ]
          },
          "metadata": {
            "tags": []
          },
          "execution_count": 7
        }
      ]
    },
    {
      "cell_type": "code",
      "metadata": {
        "id": "PchxvDglLuYS",
        "outputId": "6ae48056-3913-4a1a-9c3a-1fecdce34e82",
        "colab": {
          "base_uri": "https://localhost:8080/"
        }
      },
      "source": [
        "multipler3()"
      ],
      "execution_count": 8,
      "outputs": [
        {
          "output_type": "execute_result",
          "data": {
            "text/plain": [
              "27"
            ]
          },
          "metadata": {
            "tags": []
          },
          "execution_count": 8
        }
      ]
    },
    {
      "cell_type": "code",
      "metadata": {
        "id": "v4j1vUbWLuw1",
        "outputId": "31660f19-68a8-4c8e-cc1b-4d30aaf9f108",
        "colab": {
          "base_uri": "https://localhost:8080/"
        }
      },
      "source": [
        "multipler3.__code__.co_freevars"
      ],
      "execution_count": 9,
      "outputs": [
        {
          "output_type": "execute_result",
          "data": {
            "text/plain": [
              "('coefficient', 'product')"
            ]
          },
          "metadata": {
            "tags": []
          },
          "execution_count": 9
        }
      ]
    },
    {
      "cell_type": "code",
      "metadata": {
        "id": "7iDNd8e4Lv8W",
        "outputId": "2a95905f-b7c8-46cd-b527-70fd4446c424",
        "colab": {
          "base_uri": "https://localhost:8080/"
        }
      },
      "source": [
        "multipler3.__closure__[1].cell_contents"
      ],
      "execution_count": 10,
      "outputs": [
        {
          "output_type": "execute_result",
          "data": {
            "text/plain": [
              "27"
            ]
          },
          "metadata": {
            "tags": []
          },
          "execution_count": 10
        }
      ]
    },
    {
      "cell_type": "code",
      "metadata": {
        "id": "H5EqbHwaLwvn"
      },
      "source": [
        "def clap():\n",
        "     print(\"Clap! Clap!\")"
      ],
      "execution_count": 11,
      "outputs": []
    },
    {
      "cell_type": "code",
      "metadata": {
        "id": "_A7w5JPcLzYJ"
      },
      "source": [
        "def triple_repeat_wrapper(func):\n",
        "     def wrapper():\n",
        "         print(f\"Before calling func {func.__name__}\")\n",
        "         func()\n",
        "         func()\n",
        "         func()\n",
        "         print(f\"After calling func {func.__name__}\")\n",
        "     return wrapper"
      ],
      "execution_count": 12,
      "outputs": []
    },
    {
      "cell_type": "code",
      "metadata": {
        "id": "3yUslOEML1NY",
        "outputId": "358b413d-7e53-4c11-e35e-6adf7f071641",
        "colab": {
          "base_uri": "https://localhost:8080/"
        }
      },
      "source": [
        "wrapped_clap = triple_repeat_wrapper(clap)\n",
        "wrapped_clap()"
      ],
      "execution_count": 13,
      "outputs": [
        {
          "output_type": "stream",
          "text": [
            "Before calling func clap\n",
            "Clap! Clap!\n",
            "Clap! Clap!\n",
            "Clap! Clap!\n",
            "After calling func clap\n"
          ],
          "name": "stdout"
        }
      ]
    },
    {
      "cell_type": "code",
      "metadata": {
        "id": "LsIh0EXUL4c0",
        "outputId": "d44e6929-80ce-4c1d-dcd3-47c887f217f3",
        "colab": {
          "base_uri": "https://localhost:8080/"
        }
      },
      "source": [
        "wrapped_clap"
      ],
      "execution_count": 14,
      "outputs": [
        {
          "output_type": "execute_result",
          "data": {
            "text/plain": [
              "<function __main__.triple_repeat_wrapper.<locals>.wrapper>"
            ]
          },
          "metadata": {
            "tags": []
          },
          "execution_count": 14
        }
      ]
    },
    {
      "cell_type": "code",
      "metadata": {
        "id": "SToUbLAYL5rz"
      },
      "source": [
        "@triple_repeat_wrapper\n",
        "def hooray():\n",
        "    print(\"Hooray! Hooray!\")"
      ],
      "execution_count": 16,
      "outputs": []
    },
    {
      "cell_type": "code",
      "metadata": {
        "id": "Edfnzft2L9Dx",
        "outputId": "6dcc96f4-cf90-4a2b-cda2-5adde1e8be20",
        "colab": {
          "base_uri": "https://localhost:8080/"
        }
      },
      "source": [
        "hooray()"
      ],
      "execution_count": 17,
      "outputs": [
        {
          "output_type": "stream",
          "text": [
            "Before calling func hooray\n",
            "Hooray! Hooray!\n",
            "Hooray! Hooray!\n",
            "Hooray! Hooray!\n",
            "After calling func hooray\n"
          ],
          "name": "stdout"
        }
      ]
    },
    {
      "cell_type": "code",
      "metadata": {
        "id": "7JQ2tv6IMAS0",
        "outputId": "dc1565d5-97ac-45fe-f999-21306dda2633",
        "colab": {
          "base_uri": "https://localhost:8080/"
        }
      },
      "source": [
        "hooray"
      ],
      "execution_count": 18,
      "outputs": [
        {
          "output_type": "execute_result",
          "data": {
            "text/plain": [
              "<function __main__.triple_repeat_wrapper.<locals>.wrapper>"
            ]
          },
          "metadata": {
            "tags": []
          },
          "execution_count": 18
        }
      ]
    },
    {
      "cell_type": "markdown",
      "metadata": {
        "id": "_KIQLiaHMFF_"
      },
      "source": [
        "# Currying"
      ]
    },
    {
      "cell_type": "code",
      "metadata": {
        "id": "YmaXw2s2MCOX"
      },
      "source": [
        "def add_up(num1, num2):\n",
        "     sum_n = num1+num2\n",
        "     return sum_n"
      ],
      "execution_count": 19,
      "outputs": []
    },
    {
      "cell_type": "code",
      "metadata": {
        "id": "_VVRh07fMIhd",
        "outputId": "c7c9ae65-f061-457d-ddea-c78b42709e93",
        "colab": {
          "base_uri": "https://localhost:8080/"
        }
      },
      "source": [
        "# define a partial function that adds seven\n",
        "add_seven = lambda x: add_up(7, x)\n",
        "add_seven(10)"
      ],
      "execution_count": 20,
      "outputs": [
        {
          "output_type": "execute_result",
          "data": {
            "text/plain": [
              "17"
            ]
          },
          "metadata": {
            "tags": []
          },
          "execution_count": 20
        }
      ]
    },
    {
      "cell_type": "code",
      "metadata": {
        "id": "ugjjUWR2MLxJ",
        "outputId": "d45f0740-7945-450f-80f1-f1ad672e5989",
        "colab": {
          "base_uri": "https://localhost:8080/"
        }
      },
      "source": [
        "add_seven(72)"
      ],
      "execution_count": 21,
      "outputs": [
        {
          "output_type": "execute_result",
          "data": {
            "text/plain": [
              "79"
            ]
          },
          "metadata": {
            "tags": []
          },
          "execution_count": 21
        }
      ]
    },
    {
      "cell_type": "code",
      "metadata": {
        "id": "QQx-vHKDMMyP"
      },
      "source": [
        "# use a regular def keyword\n",
        "def add_eight(x):\n",
        "    return add_up(8, x)"
      ],
      "execution_count": 22,
      "outputs": []
    },
    {
      "cell_type": "code",
      "metadata": {
        "id": "wAeZ1CL1MPFq",
        "outputId": "b9c3c075-7e20-4273-d097-5a31b8344c25",
        "colab": {
          "base_uri": "https://localhost:8080/"
        }
      },
      "source": [
        "add_eight(10)"
      ],
      "execution_count": 23,
      "outputs": [
        {
          "output_type": "execute_result",
          "data": {
            "text/plain": [
              "18"
            ]
          },
          "metadata": {
            "tags": []
          },
          "execution_count": 23
        }
      ]
    },
    {
      "cell_type": "code",
      "metadata": {
        "id": "DZT5e5auMQCN",
        "outputId": "191ee2a8-18d7-44a0-86ed-b336609d72d8",
        "colab": {
          "base_uri": "https://localhost:8080/"
        }
      },
      "source": [
        "# import the module\n",
        "from functools import partial\n",
        "# using the partial function\n",
        "add_ten = partial(add_up, 10)\n",
        "add_ten(100)"
      ],
      "execution_count": 24,
      "outputs": [
        {
          "output_type": "execute_result",
          "data": {
            "text/plain": [
              "110"
            ]
          },
          "metadata": {
            "tags": []
          },
          "execution_count": 24
        }
      ]
    }
  ]
}