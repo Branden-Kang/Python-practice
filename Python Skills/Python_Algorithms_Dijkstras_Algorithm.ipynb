{
  "nbformat": 4,
  "nbformat_minor": 0,
  "metadata": {
    "colab": {
      "name": "Python Algorithms: Dijkstras Algorithm.ipynb",
      "provenance": [],
      "authorship_tag": "ABX9TyMQFD8p5JypEFKuyZOFB5Ek"
    },
    "kernelspec": {
      "name": "python3",
      "display_name": "Python 3"
    },
    "language_info": {
      "name": "python"
    }
  },
  "cells": [
    {
      "cell_type": "markdown",
      "metadata": {
        "id": "4jmh4dhAN0af"
      },
      "source": [
        "[Reference](https://python.plainenglish.io/python-algorithms-dijkstras-algorithm-9aff6d8665fd)"
      ]
    },
    {
      "cell_type": "code",
      "metadata": {
        "id": "aRm1ExyONg_p"
      },
      "source": [
        "from heapq import heappop, heappush\n",
        "from math import inf\n",
        "graph = {\n",
        "'A': [('B', 10), ('C', 3)],\n",
        "'C': [('D', 2)],\n",
        "'D': [('E', 10)],\n",
        "'E': [],\n",
        "'B': [('C', 3), ('D', 2)]\n",
        "}"
      ],
      "execution_count": 1,
      "outputs": []
    },
    {
      "cell_type": "code",
      "metadata": {
        "id": "9Z8Sf8Q_N-m6"
      },
      "source": [
        "def dijkstra(graph, start):\n",
        " distances = {}\n",
        " return distances"
      ],
      "execution_count": 2,
      "outputs": []
    },
    {
      "cell_type": "code",
      "metadata": {
        "id": "XLou1qRJN_uA"
      },
      "source": [
        "def dijkstra(graph, start):\n",
        " distances = {}\n",
        " for vertex in graph:\n",
        "  distances[vertex] = inf\n",
        " distances[start] = 0\n",
        " vertices_to_explore = [(0, start)]\n",
        " return distances"
      ],
      "execution_count": 3,
      "outputs": []
    },
    {
      "cell_type": "code",
      "metadata": {
        "id": "zraZzavbOBDl"
      },
      "source": [
        "while vertices_to_explore:\n",
        " current_distance, current_vertex = heappop(vertices_to_explore)\n",
        "  for neighbor, edge_weight in graph[current_vertex]:\n",
        "   new_distance = current_distance + edge_weight\n",
        "    if new_distance < distances[neighbor]:\n",
        "     distances[neighbor] = new_distance\n",
        "      heappush(vertices_to_explore, (new_distance, neighbor)\n",
        "return distances"
      ],
      "execution_count": 7,
      "outputs": []
    }
  ]
}