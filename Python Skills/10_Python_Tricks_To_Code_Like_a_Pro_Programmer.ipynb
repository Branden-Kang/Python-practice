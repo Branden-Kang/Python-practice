{
  "nbformat": 4,
  "nbformat_minor": 0,
  "metadata": {
    "colab": {
      "name": "10 Python Tricks To Code Like a Pro Programmer.ipynb",
      "provenance": [],
      "authorship_tag": "ABX9TyPJvL51342qgT347nGBXT1z"
    },
    "kernelspec": {
      "name": "python3",
      "display_name": "Python 3"
    },
    "language_info": {
      "name": "python"
    }
  },
  "cells": [
    {
      "cell_type": "markdown",
      "metadata": {
        "id": "vLPhiLVTRo3P"
      },
      "source": [
        "[Reference](https://levelup.gitconnected.com/10-python-tricks-to-code-like-a-pro-programmer-a5faaf596542)"
      ]
    },
    {
      "cell_type": "markdown",
      "metadata": {
        "id": "wpWm5iFtSUPT"
      },
      "source": [
        "# 1. Save Memory with Generators"
      ]
    },
    {
      "cell_type": "code",
      "metadata": {
        "id": "tzGKfIMoRxwR"
      },
      "source": [
        "import sys"
      ],
      "execution_count": 1,
      "outputs": []
    },
    {
      "cell_type": "code",
      "metadata": {
        "colab": {
          "base_uri": "https://localhost:8080/"
        },
        "id": "tY2zxvfmRpAe",
        "outputId": "f310786c-94b1-4e6b-f612-c7088e5b4b33"
      },
      "source": [
        "my_list = [i for i in range(1000)]\n",
        "print(sum(my_list))\n",
        "print(sys.getsizeof(my_list), \"bytes\")"
      ],
      "execution_count": 4,
      "outputs": [
        {
          "output_type": "stream",
          "text": [
            "499500\n",
            "9032 bytes\n"
          ],
          "name": "stdout"
        }
      ]
    },
    {
      "cell_type": "code",
      "metadata": {
        "colab": {
          "base_uri": "https://localhost:8080/"
        },
        "id": "XKSiDyljRnzU",
        "outputId": "653cbea0-d1dc-4364-dba5-c83fc785829f"
      },
      "source": [
        "my_gene = (i for i in range(1000))\n",
        "print(sum(my_gene))\n",
        "print(sys.getsizeof(my_gene), \"bytes\")"
      ],
      "execution_count": 5,
      "outputs": [
        {
          "output_type": "stream",
          "text": [
            "499500\n",
            "128 bytes\n"
          ],
          "name": "stdout"
        }
      ]
    },
    {
      "cell_type": "markdown",
      "metadata": {
        "id": "eOn3X_xSSSz7"
      },
      "source": [
        "# 2. Multiple Inputs in Single Go"
      ]
    },
    {
      "cell_type": "code",
      "metadata": {
        "colab": {
          "base_uri": "https://localhost:8080/"
        },
        "id": "pGH8-I-ER0-e",
        "outputId": "771de2d1-3d67-4695-a83c-d55cbca14564"
      },
      "source": [
        "x,y,z = input(\"Enter values: \").split()"
      ],
      "execution_count": 6,
      "outputs": [
        {
          "output_type": "stream",
          "text": [
            "Enter values: 1 2 3\n"
          ],
          "name": "stdout"
        }
      ]
    },
    {
      "cell_type": "code",
      "metadata": {
        "colab": {
          "base_uri": "https://localhost:8080/"
        },
        "id": "dF1NQjbDR64N",
        "outputId": "0253e7cc-70ce-48e1-8a89-7cbb9c9914c3"
      },
      "source": [
        "print(x)\n",
        "print(y)\n",
        "print(z)"
      ],
      "execution_count": 7,
      "outputs": [
        {
          "output_type": "stream",
          "text": [
            "1\n",
            "2\n",
            "3\n"
          ],
          "name": "stdout"
        }
      ]
    },
    {
      "cell_type": "markdown",
      "metadata": {
        "id": "DtZrAtu5SRX1"
      },
      "source": [
        "# 3. Concatenate Strings Like a Pro"
      ]
    },
    {
      "cell_type": "code",
      "metadata": {
        "colab": {
          "base_uri": "https://localhost:8080/",
          "height": 37
        },
        "id": "9AaddisdR9HV",
        "outputId": "9fc32a18-4294-4eea-9189-c816c79258c7"
      },
      "source": [
        "arr = ['H', 'e', 'l', 'l', 'o']\n",
        "result = \"\".join(arr)\n",
        "result"
      ],
      "execution_count": 8,
      "outputs": [
        {
          "output_type": "execute_result",
          "data": {
            "application/vnd.google.colaboratory.intrinsic+json": {
              "type": "string"
            },
            "text/plain": [
              "'Hello'"
            ]
          },
          "metadata": {
            "tags": []
          },
          "execution_count": 8
        }
      ]
    },
    {
      "cell_type": "markdown",
      "metadata": {
        "id": "Zpbe5iMNSH2t"
      },
      "source": [
        "# 4. Count Objects with Counter"
      ]
    },
    {
      "cell_type": "code",
      "metadata": {
        "colab": {
          "base_uri": "https://localhost:8080/"
        },
        "id": "hLlGLmkVR_hr",
        "outputId": "5198663c-95f4-47c7-82de-327de1ca2100"
      },
      "source": [
        "import collections\n",
        "list1 = [1,1,1,1,2,2,3,3,3,4,5,5,5,6,6,6,6]\n",
        "print(collections.Counter(list1))"
      ],
      "execution_count": 11,
      "outputs": [
        {
          "output_type": "stream",
          "text": [
            "Counter({1: 4, 6: 4, 3: 3, 5: 3, 2: 2, 4: 1})\n"
          ],
          "name": "stdout"
        }
      ]
    },
    {
      "cell_type": "markdown",
      "metadata": {
        "id": "iuUIdeUnSPS-"
      },
      "source": [
        "# 5. Use get() and setDefault() with Dictionary"
      ]
    },
    {
      "cell_type": "code",
      "metadata": {
        "colab": {
          "base_uri": "https://localhost:8080/"
        },
        "id": "fOZrWLXoSBK2",
        "outputId": "fc3c4313-4f9a-45bf-ce14-39370053bf7e"
      },
      "source": [
        "dict1 = {1: 'one', 2:'two', 4:'four'}\n",
        "print(dict1.get(3))\n",
        "print(dict1.setdefault(3, 'Default Value'))"
      ],
      "execution_count": 13,
      "outputs": [
        {
          "output_type": "stream",
          "text": [
            "None\n",
            "Default Value\n"
          ],
          "name": "stdout"
        }
      ]
    },
    {
      "cell_type": "markdown",
      "metadata": {
        "id": "hFbLlLsySY7P"
      },
      "source": [
        "# 6. Sort Complex Iterables in One Go"
      ]
    },
    {
      "cell_type": "code",
      "metadata": {
        "colab": {
          "base_uri": "https://localhost:8080/"
        },
        "id": "UUW2YUP2SWVY",
        "outputId": "7a600016-95b0-421c-ca76-cd3ca4b717b7"
      },
      "source": [
        "data = [{'name': 'John', 'age': 21},\n",
        "        {'name': 'Max', 'age': 19},\n",
        "        {'name': 'Lisa', 'age': 22}\n",
        "       ]\n",
        "       \n",
        "sorted_data = sorted(data, key=lambda x: x['age'])\n",
        "print(sorted_data)"
      ],
      "execution_count": 14,
      "outputs": [
        {
          "output_type": "stream",
          "text": [
            "[{'name': 'Max', 'age': 19}, {'name': 'John', 'age': 21}, {'name': 'Lisa', 'age': 22}]\n"
          ],
          "name": "stdout"
        }
      ]
    },
    {
      "cell_type": "markdown",
      "metadata": {
        "id": "mR_rnYDdSb5l"
      },
      "source": [
        "# 7. Conditional List - All"
      ]
    },
    {
      "cell_type": "code",
      "metadata": {
        "colab": {
          "base_uri": "https://localhost:8080/"
        },
        "id": "efTco7EASa54",
        "outputId": "c96a730c-c298-4c99-f054-2eb837f8fa12"
      },
      "source": [
        "english = 49\n",
        "math = 52\n",
        "science = 61\n",
        "\n",
        "list_condition = [\n",
        "                  english > 50,\n",
        "                  math > 50,\n",
        "                  science > 50\n",
        "]\n",
        "\n",
        "print(\"Pass\" if all(list_condition) else \"Fail\")"
      ],
      "execution_count": 15,
      "outputs": [
        {
          "output_type": "stream",
          "text": [
            "Fail\n"
          ],
          "name": "stdout"
        }
      ]
    },
    {
      "cell_type": "markdown",
      "metadata": {
        "id": "IKJo8RzySssX"
      },
      "source": [
        "# 8. Conditional List - Any"
      ]
    },
    {
      "cell_type": "code",
      "metadata": {
        "colab": {
          "base_uri": "https://localhost:8080/"
        },
        "id": "AlWw2jQuSq55",
        "outputId": "1a495c6c-decd-4e22-c3aa-33b5f8bb94a3"
      },
      "source": [
        "english = 49\n",
        "math = 52\n",
        "science = 61\n",
        "\n",
        "list_condition = [\n",
        "                  english > 50,\n",
        "                  math > 50,\n",
        "                  science > 50\n",
        "]\n",
        "\n",
        "print(\"Pass\" if any(list_condition) else \"Fail\")"
      ],
      "execution_count": 16,
      "outputs": [
        {
          "output_type": "stream",
          "text": [
            "Pass\n"
          ],
          "name": "stdout"
        }
      ]
    },
    {
      "cell_type": "markdown",
      "metadata": {
        "id": "-77y9fYXSy5T"
      },
      "source": [
        "# 9. Swap Like a Pro"
      ]
    },
    {
      "cell_type": "code",
      "metadata": {
        "colab": {
          "base_uri": "https://localhost:8080/"
        },
        "id": "syPxQYO1Su7k",
        "outputId": "9ac8a047-3793-4a71-9487-2aa0652cbfd6"
      },
      "source": [
        "a = 100\n",
        "b = 200\n",
        "a, b = b, a  #swap values\n",
        "print(a)\n",
        "print(b)"
      ],
      "execution_count": 17,
      "outputs": [
        {
          "output_type": "stream",
          "text": [
            "200\n",
            "100\n"
          ],
          "name": "stdout"
        }
      ]
    },
    {
      "cell_type": "markdown",
      "metadata": {
        "id": "jaC8HYxjS0TS"
      },
      "source": [
        "# 10. Return More Than One Value From Function"
      ]
    },
    {
      "cell_type": "code",
      "metadata": {
        "colab": {
          "base_uri": "https://localhost:8080/"
        },
        "id": "tEeIhG4lSw24",
        "outputId": "349717db-0845-4ec5-accb-48942ad33457"
      },
      "source": [
        "def sumAndSub(a, b):\n",
        "    addition = a + b\n",
        "    subtraction = a - b\n",
        "    return addition, subtraction\n",
        "\n",
        "addition, subtraction = sumAndSub(20, 10)\n",
        "\n",
        "print(addition)\n",
        "print(subtraction)"
      ],
      "execution_count": 19,
      "outputs": [
        {
          "output_type": "stream",
          "text": [
            "30\n",
            "10\n"
          ],
          "name": "stdout"
        }
      ]
    }
  ]
}