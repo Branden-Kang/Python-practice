{
  "nbformat": 4,
  "nbformat_minor": 0,
  "metadata": {
    "colab": {
      "provenance": [],
      "authorship_tag": "ABX9TyO+5VuCSCxjwCodg74N0jwd"
    },
    "kernelspec": {
      "name": "python3",
      "display_name": "Python 3"
    },
    "language_info": {
      "name": "python"
    }
  },
  "cells": [
    {
      "cell_type": "markdown",
      "source": [
        "[Reference](https://medium.com/django-unleashed/simplifying-python-code-with-unpacking-operators-983af3bef343)"
      ],
      "metadata": {
        "id": "Qkz5yI_TLEHf"
      }
    },
    {
      "cell_type": "code",
      "execution_count": 1,
      "metadata": {
        "colab": {
          "base_uri": "https://localhost:8080/"
        },
        "id": "Zn9hnMlqK_zx",
        "outputId": "8198f975-3c62-46f0-95f3-9f54ca132b73"
      },
      "outputs": [
        {
          "output_type": "stream",
          "name": "stdout",
          "text": [
            "First: 1, Middle: [2, 3, 4], Last: 5\n"
          ]
        }
      ],
      "source": [
        "first, *middle, last = [1, 2, 3, 4, 5]\n",
        "print(f\"First: {first}, Middle: {middle}, Last: {last}\")"
      ]
    },
    {
      "cell_type": "code",
      "source": [
        "list_one = [1, 2, 3]\n",
        "list_two = [4, 5, 6]\n",
        "merged_list = [*list_one, *list_two]\n",
        "print(f\"Merged List: {merged_list}\")"
      ],
      "metadata": {
        "colab": {
          "base_uri": "https://localhost:8080/"
        },
        "id": "eFiovv7rLGmO",
        "outputId": "2db5c701-98c7-40a6-8e4b-82e7a82110e4"
      },
      "execution_count": 2,
      "outputs": [
        {
          "output_type": "stream",
          "name": "stdout",
          "text": [
            "Merged List: [1, 2, 3, 4, 5, 6]\n"
          ]
        }
      ]
    },
    {
      "cell_type": "code",
      "source": [
        "def sum_numbers(*args):\n",
        "    return sum(args)\n",
        "\n",
        "numbers = [1, 2, 3, 4, 5]\n",
        "print(f\"Sum: {sum_numbers(*numbers)}\")"
      ],
      "metadata": {
        "colab": {
          "base_uri": "https://localhost:8080/"
        },
        "id": "JG2vA-ZrLHsj",
        "outputId": "47d1415a-9368-4612-cc7b-765fa63e5c6d"
      },
      "execution_count": 3,
      "outputs": [
        {
          "output_type": "stream",
          "name": "stdout",
          "text": [
            "Sum: 15\n"
          ]
        }
      ]
    },
    {
      "cell_type": "code",
      "source": [
        "dict_one = {'a': 1, 'b': 2}\n",
        "dict_two = {'c': 3, 'd': 4}\n",
        "merged_dict = {**dict_one, **dict_two}\n",
        "print(f\"Merged Dict: {merged_dict}\")"
      ],
      "metadata": {
        "colab": {
          "base_uri": "https://localhost:8080/"
        },
        "id": "mHl9i3xcLI-s",
        "outputId": "f2efb369-bd0a-44f6-9203-282f5fb2bcbc"
      },
      "execution_count": 4,
      "outputs": [
        {
          "output_type": "stream",
          "name": "stdout",
          "text": [
            "Merged Dict: {'a': 1, 'b': 2, 'c': 3, 'd': 4}\n"
          ]
        }
      ]
    },
    {
      "cell_type": "code",
      "source": [
        "def greet(name, greeting):\n",
        "    return f\"{greeting}, {name}!\"\n",
        "\n",
        "person = {'name': 'Alice', 'greeting': 'Hello'}\n",
        "print(greet(**person))"
      ],
      "metadata": {
        "colab": {
          "base_uri": "https://localhost:8080/"
        },
        "id": "6Ida6WSXLJ__",
        "outputId": "d5d82b07-7d1a-4edd-9a53-1b0b02c3ccb4"
      },
      "execution_count": 5,
      "outputs": [
        {
          "output_type": "stream",
          "name": "stdout",
          "text": [
            "Hello, Alice!\n"
          ]
        }
      ]
    }
  ]
}
