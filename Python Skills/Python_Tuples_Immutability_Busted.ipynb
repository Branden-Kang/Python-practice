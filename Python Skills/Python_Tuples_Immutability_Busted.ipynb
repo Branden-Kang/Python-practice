{
  "nbformat": 4,
  "nbformat_minor": 0,
  "metadata": {
    "colab": {
      "name": "Python Tuples Immutability Busted.ipynb",
      "provenance": [],
      "authorship_tag": "ABX9TyMXiIt8hLacie7GU75jj0sZ"
    },
    "kernelspec": {
      "name": "python3",
      "display_name": "Python 3"
    },
    "language_info": {
      "name": "python"
    }
  },
  "cells": [
    {
      "cell_type": "markdown",
      "metadata": {
        "id": "16-8B8PYEnrh"
      },
      "source": [
        "[Reference](https://sushantpupneja.medium.com/python-tuples-immutability-busted-e34cf4ed151e)"
      ]
    },
    {
      "cell_type": "code",
      "metadata": {
        "id": "G1ZXmhzJEmRv"
      },
      "source": [
        "subjects = ('physics', 100, 'chemistry', 100)              "
      ],
      "execution_count": 1,
      "outputs": []
    },
    {
      "cell_type": "code",
      "metadata": {
        "colab": {
          "base_uri": "https://localhost:8080/"
        },
        "id": "M8uzpGfDEp5s",
        "outputId": "f20eb871-71db-4bfd-d3e8-5bdc470ade34"
      },
      "source": [
        "subjects"
      ],
      "execution_count": 2,
      "outputs": [
        {
          "output_type": "execute_result",
          "data": {
            "text/plain": [
              "('physics', 100, 'chemistry', 100)"
            ]
          },
          "metadata": {
            "tags": []
          },
          "execution_count": 2
        }
      ]
    },
    {
      "cell_type": "code",
      "metadata": {
        "colab": {
          "base_uri": "https://localhost:8080/"
        },
        "id": "1L2IWrlVErWA",
        "outputId": "e4950d07-18f0-4cd5-fcb5-9f16291aa61b"
      },
      "source": [
        "type(subjects)"
      ],
      "execution_count": 3,
      "outputs": [
        {
          "output_type": "execute_result",
          "data": {
            "text/plain": [
              "tuple"
            ]
          },
          "metadata": {
            "tags": []
          },
          "execution_count": 3
        }
      ]
    },
    {
      "cell_type": "code",
      "metadata": {
        "id": "bF9ZWlltEsUb"
      },
      "source": [
        "marks = 89, 98, 75, 76"
      ],
      "execution_count": 4,
      "outputs": []
    },
    {
      "cell_type": "code",
      "metadata": {
        "colab": {
          "base_uri": "https://localhost:8080/"
        },
        "id": "cfZR0uwPEtbj",
        "outputId": "f9814e52-74a4-43c1-8fe7-86202294cbcb"
      },
      "source": [
        "marks"
      ],
      "execution_count": 5,
      "outputs": [
        {
          "output_type": "execute_result",
          "data": {
            "text/plain": [
              "(89, 98, 75, 76)"
            ]
          },
          "metadata": {
            "tags": []
          },
          "execution_count": 5
        }
      ]
    },
    {
      "cell_type": "code",
      "metadata": {
        "colab": {
          "base_uri": "https://localhost:8080/"
        },
        "id": "lV2xuT1-EuOX",
        "outputId": "1787e75e-5490-4171-c786-1ce6cf4c7344"
      },
      "source": [
        "type(marks)"
      ],
      "execution_count": 6,
      "outputs": [
        {
          "output_type": "execute_result",
          "data": {
            "text/plain": [
              "tuple"
            ]
          },
          "metadata": {
            "tags": []
          },
          "execution_count": 6
        }
      ]
    },
    {
      "cell_type": "code",
      "metadata": {
        "colab": {
          "base_uri": "https://localhost:8080/",
          "height": 37
        },
        "id": "pDsYkuMjEutE",
        "outputId": "4751a37a-53d1-406c-e3bd-1f0e867d1e0b"
      },
      "source": [
        "subjects[0]"
      ],
      "execution_count": 7,
      "outputs": [
        {
          "output_type": "execute_result",
          "data": {
            "application/vnd.google.colaboratory.intrinsic+json": {
              "type": "string"
            },
            "text/plain": [
              "'physics'"
            ]
          },
          "metadata": {
            "tags": []
          },
          "execution_count": 7
        }
      ]
    },
    {
      "cell_type": "code",
      "metadata": {
        "colab": {
          "base_uri": "https://localhost:8080/"
        },
        "id": "jjSEwwbIExiU",
        "outputId": "d2bc61ef-208b-4ef2-94d9-64b3d6673473"
      },
      "source": [
        "subjects[0:2]"
      ],
      "execution_count": 8,
      "outputs": [
        {
          "output_type": "execute_result",
          "data": {
            "text/plain": [
              "('physics', 100)"
            ]
          },
          "metadata": {
            "tags": []
          },
          "execution_count": 8
        }
      ]
    },
    {
      "cell_type": "code",
      "metadata": {
        "colab": {
          "base_uri": "https://localhost:8080/"
        },
        "id": "2jD2hzaJEyIa",
        "outputId": "f2756654-87f8-4c20-ac98-8b5c378fae93"
      },
      "source": [
        "for val in subjects:\n",
        "    print(val) "
      ],
      "execution_count": 9,
      "outputs": [
        {
          "output_type": "stream",
          "text": [
            "physics\n",
            "100\n",
            "chemistry\n",
            "100\n"
          ],
          "name": "stdout"
        }
      ]
    },
    {
      "cell_type": "code",
      "metadata": {
        "colab": {
          "base_uri": "https://localhost:8080/"
        },
        "id": "OiHx8ZA4E1hi",
        "outputId": "85e792d1-3d5f-4883-80c3-9e3673fd63c0"
      },
      "source": [
        "subjects  "
      ],
      "execution_count": 10,
      "outputs": [
        {
          "output_type": "execute_result",
          "data": {
            "text/plain": [
              "('physics', 100, 'chemistry', 100)"
            ]
          },
          "metadata": {
            "tags": []
          },
          "execution_count": 10
        }
      ]
    },
    {
      "cell_type": "code",
      "metadata": {
        "colab": {
          "base_uri": "https://localhost:8080/"
        },
        "id": "igEAxXYaE202",
        "outputId": "22fdecc2-edd7-4321-d0f6-484d94ffde4b"
      },
      "source": [
        "marks"
      ],
      "execution_count": 11,
      "outputs": [
        {
          "output_type": "execute_result",
          "data": {
            "text/plain": [
              "(89, 98, 75, 76)"
            ]
          },
          "metadata": {
            "tags": []
          },
          "execution_count": 11
        }
      ]
    },
    {
      "cell_type": "code",
      "metadata": {
        "colab": {
          "base_uri": "https://localhost:8080/"
        },
        "id": "PrgBttPWE4fN",
        "outputId": "0535d01d-f95e-445a-a5ff-8cd247255c1a"
      },
      "source": [
        "subjects + marks "
      ],
      "execution_count": 12,
      "outputs": [
        {
          "output_type": "execute_result",
          "data": {
            "text/plain": [
              "('physics', 100, 'chemistry', 100, 89, 98, 75, 76)"
            ]
          },
          "metadata": {
            "tags": []
          },
          "execution_count": 12
        }
      ]
    },
    {
      "cell_type": "code",
      "metadata": {
        "colab": {
          "base_uri": "https://localhost:8080/"
        },
        "id": "a5OBrMQvE5YS",
        "outputId": "61094435-dff2-4169-e7b4-6074250776e3"
      },
      "source": [
        "sub = subjects[0:2]  \n",
        "sub"
      ],
      "execution_count": 13,
      "outputs": [
        {
          "output_type": "execute_result",
          "data": {
            "text/plain": [
              "('physics', 100)"
            ]
          },
          "metadata": {
            "tags": []
          },
          "execution_count": 13
        }
      ]
    },
    {
      "cell_type": "code",
      "metadata": {
        "colab": {
          "base_uri": "https://localhost:8080/"
        },
        "id": "XrNj09JLE7E0",
        "outputId": "e2f9d16a-9ec2-492d-f17b-aea19e29d38d"
      },
      "source": [
        "sub == subjects "
      ],
      "execution_count": 14,
      "outputs": [
        {
          "output_type": "execute_result",
          "data": {
            "text/plain": [
              "False"
            ]
          },
          "metadata": {
            "tags": []
          },
          "execution_count": 14
        }
      ]
    },
    {
      "cell_type": "code",
      "metadata": {
        "colab": {
          "base_uri": "https://localhost:8080/"
        },
        "id": "D1KTnnwgE8Gv",
        "outputId": "62bb48b8-ee3b-4fbc-fc99-a2b29bf92684"
      },
      "source": [
        "id(sub), id(subjects)"
      ],
      "execution_count": 15,
      "outputs": [
        {
          "output_type": "execute_result",
          "data": {
            "text/plain": [
              "(139955110343776, 139955238388944)"
            ]
          },
          "metadata": {
            "tags": []
          },
          "execution_count": 15
        }
      ]
    },
    {
      "cell_type": "code",
      "metadata": {
        "colab": {
          "base_uri": "https://localhost:8080/"
        },
        "id": "VesL13FWE9Is",
        "outputId": "a4f2f215-6c8d-4ba9-a9d6-ce5d3e1fa05b"
      },
      "source": [
        "dum = (\"1892\", [\"pretend-fight\", \"poetry\"])     \n",
        "dee = (\"1892\", [\"pretend-fight\", \"poetry\"])      \n",
        "dum is dee"
      ],
      "execution_count": 16,
      "outputs": [
        {
          "output_type": "execute_result",
          "data": {
            "text/plain": [
              "False"
            ]
          },
          "metadata": {
            "tags": []
          },
          "execution_count": 16
        }
      ]
    },
    {
      "cell_type": "code",
      "metadata": {
        "colab": {
          "base_uri": "https://localhost:8080/"
        },
        "id": "CgOPFYwjFDjx",
        "outputId": "22e46a5f-1559-4bda-b23e-278d038447ad"
      },
      "source": [
        "dum == dee"
      ],
      "execution_count": 17,
      "outputs": [
        {
          "output_type": "execute_result",
          "data": {
            "text/plain": [
              "True"
            ]
          },
          "metadata": {
            "tags": []
          },
          "execution_count": 17
        }
      ]
    },
    {
      "cell_type": "code",
      "metadata": {
        "colab": {
          "base_uri": "https://localhost:8080/"
        },
        "id": "CUCygHLCFEJ8",
        "outputId": "cbc006d3-6373-4d73-baa9-92ffe36ba7b7"
      },
      "source": [
        "t_doom = dum \n",
        "t_doom"
      ],
      "execution_count": 18,
      "outputs": [
        {
          "output_type": "execute_result",
          "data": {
            "text/plain": [
              "('1892', ['pretend-fight', 'poetry'])"
            ]
          },
          "metadata": {
            "tags": []
          },
          "execution_count": 18
        }
      ]
    },
    {
      "cell_type": "code",
      "metadata": {
        "colab": {
          "base_uri": "https://localhost:8080/"
        },
        "id": "Tcclcpv2FIOw",
        "outputId": "62433970-423a-46f0-b1c5-19834862ff6f"
      },
      "source": [
        "t_doom == dum "
      ],
      "execution_count": 19,
      "outputs": [
        {
          "output_type": "execute_result",
          "data": {
            "text/plain": [
              "True"
            ]
          },
          "metadata": {
            "tags": []
          },
          "execution_count": 19
        }
      ]
    },
    {
      "cell_type": "code",
      "metadata": {
        "colab": {
          "base_uri": "https://localhost:8080/"
        },
        "id": "PPkc_Gd4FKbJ",
        "outputId": "b5910393-6ca1-45c5-b191-6d3038b402d0"
      },
      "source": [
        "t_doom is dum "
      ],
      "execution_count": 20,
      "outputs": [
        {
          "output_type": "execute_result",
          "data": {
            "text/plain": [
              "True"
            ]
          },
          "metadata": {
            "tags": []
          },
          "execution_count": 20
        }
      ]
    },
    {
      "cell_type": "code",
      "metadata": {
        "id": "ggLCstM7FLX_"
      },
      "source": [
        "skills = t_doom[1] \n",
        "skills.append(\"rap\")       "
      ],
      "execution_count": 21,
      "outputs": []
    },
    {
      "cell_type": "code",
      "metadata": {
        "colab": {
          "base_uri": "https://localhost:8080/"
        },
        "id": "G4ZA3ooXFP4K",
        "outputId": "4fbdc92c-b627-4336-94fa-3fe84d2e09db"
      },
      "source": [
        "skills"
      ],
      "execution_count": 22,
      "outputs": [
        {
          "output_type": "execute_result",
          "data": {
            "text/plain": [
              "['pretend-fight', 'poetry', 'rap']"
            ]
          },
          "metadata": {
            "tags": []
          },
          "execution_count": 22
        }
      ]
    },
    {
      "cell_type": "code",
      "metadata": {
        "colab": {
          "base_uri": "https://localhost:8080/"
        },
        "id": "BNH1TkBEFRVH",
        "outputId": "87cde3e1-56db-4142-98f8-6ba39b0b6a2b"
      },
      "source": [
        "t_doom"
      ],
      "execution_count": 23,
      "outputs": [
        {
          "output_type": "execute_result",
          "data": {
            "text/plain": [
              "('1892', ['pretend-fight', 'poetry', 'rap'])"
            ]
          },
          "metadata": {
            "tags": []
          },
          "execution_count": 23
        }
      ]
    },
    {
      "cell_type": "code",
      "metadata": {
        "colab": {
          "base_uri": "https://localhost:8080/"
        },
        "id": "pdyqYeyPFRff",
        "outputId": "24bb4591-fa1b-4f8a-f421-8ca7065f5e81"
      },
      "source": [
        "dum   "
      ],
      "execution_count": 24,
      "outputs": [
        {
          "output_type": "execute_result",
          "data": {
            "text/plain": [
              "('1892', ['pretend-fight', 'poetry', 'rap'])"
            ]
          },
          "metadata": {
            "tags": []
          },
          "execution_count": 24
        }
      ]
    },
    {
      "cell_type": "code",
      "metadata": {
        "colab": {
          "base_uri": "https://localhost:8080/"
        },
        "id": "qXgKnAjqFSdG",
        "outputId": "ca166bb5-ad78-4418-fe22-af27cdfc97e7"
      },
      "source": [
        "dum == dee"
      ],
      "execution_count": 25,
      "outputs": [
        {
          "output_type": "execute_result",
          "data": {
            "text/plain": [
              "False"
            ]
          },
          "metadata": {
            "tags": []
          },
          "execution_count": 25
        }
      ]
    }
  ]
}