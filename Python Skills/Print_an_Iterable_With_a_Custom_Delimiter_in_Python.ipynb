{
  "nbformat": 4,
  "nbformat_minor": 0,
  "metadata": {
    "colab": {
      "name": "Print an Iterable With a Custom Delimiter in Python.ipynb",
      "provenance": [],
      "authorship_tag": "ABX9TyNaA3yJsZRFRg7VlE33mXq+"
    },
    "kernelspec": {
      "name": "python3",
      "display_name": "Python 3"
    }
  },
  "cells": [
    {
      "cell_type": "markdown",
      "metadata": {
        "id": "UhtiDAq3qCq6"
      },
      "source": [
        "[Reference](https://medium.com/better-programming/how-to-print-an-iterable-with-a-custom-delimiter-in-python-613e2f6c20750)"
      ]
    },
    {
      "cell_type": "markdown",
      "metadata": {
        "id": "w7qrC9a2qHRu"
      },
      "source": [
        "# Splat Operator"
      ]
    },
    {
      "cell_type": "code",
      "metadata": {
        "id": "tRF47saGp9Fy",
        "outputId": "2fc97887-88d3-4007-ad53-e9ebbfbd24ae",
        "colab": {
          "base_uri": "https://localhost:8080/",
          "height": 34
        }
      },
      "source": [
        "print(*\"Python\")"
      ],
      "execution_count": 1,
      "outputs": [
        {
          "output_type": "stream",
          "text": [
            "P y t h o n\n"
          ],
          "name": "stdout"
        }
      ]
    },
    {
      "cell_type": "markdown",
      "metadata": {
        "id": "F2vc056GqJzM"
      },
      "source": [
        "# The sep Parameter"
      ]
    },
    {
      "cell_type": "code",
      "metadata": {
        "id": "j3DMYJRqqIjK",
        "outputId": "f0f28adf-9cc5-48a5-e3a3-a82d6971a742",
        "colab": {
          "base_uri": "https://localhost:8080/",
          "height": 34
        }
      },
      "source": [
        "print(\"Hello\",\"World\")"
      ],
      "execution_count": 2,
      "outputs": [
        {
          "output_type": "stream",
          "text": [
            "Hello World\n"
          ],
          "name": "stdout"
        }
      ]
    },
    {
      "cell_type": "code",
      "metadata": {
        "id": "Fvl_z7jkqLai",
        "outputId": "b5a03776-3307-4c68-f740-6bde2d35e2de",
        "colab": {
          "base_uri": "https://localhost:8080/",
          "height": 34
        }
      },
      "source": [
        "print(\"Hello\",\"World\",sep=\":\")"
      ],
      "execution_count": 3,
      "outputs": [
        {
          "output_type": "stream",
          "text": [
            "Hello:World\n"
          ],
          "name": "stdout"
        }
      ]
    },
    {
      "cell_type": "code",
      "metadata": {
        "id": "EVdx6lfhqRHl",
        "outputId": "7dc8eac8-210a-42c5-acf5-67169c68db2c",
        "colab": {
          "base_uri": "https://localhost:8080/",
          "height": 34
        }
      },
      "source": [
        "msg = \"Python\"\n",
        "print(*msg,sep=\",\")"
      ],
      "execution_count": 4,
      "outputs": [
        {
          "output_type": "stream",
          "text": [
            "P,y,t,h,o,n\n"
          ],
          "name": "stdout"
        }
      ]
    },
    {
      "cell_type": "code",
      "metadata": {
        "id": "Cgk87FhWqY1T",
        "outputId": "e844bc21-5afb-40d2-8ed8-87f461f8b7da",
        "colab": {
          "base_uri": "https://localhost:8080/",
          "height": 51
        }
      },
      "source": [
        "myIterable = {1,2,3,4}\n",
        "print(*myIterable, \"\\n\")"
      ],
      "execution_count": 5,
      "outputs": [
        {
          "output_type": "stream",
          "text": [
            "1 2 3 4 \n",
            "\n"
          ],
          "name": "stdout"
        }
      ]
    }
  ]
}