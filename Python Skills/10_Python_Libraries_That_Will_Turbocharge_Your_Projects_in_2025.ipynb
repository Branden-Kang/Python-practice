{
  "nbformat": 4,
  "nbformat_minor": 0,
  "metadata": {
    "colab": {
      "provenance": [],
      "authorship_tag": "ABX9TyNoATX2DOqhcFz3wdPVksMQ"
    },
    "kernelspec": {
      "name": "python3",
      "display_name": "Python 3"
    },
    "language_info": {
      "name": "python"
    }
  },
  "cells": [
    {
      "cell_type": "markdown",
      "source": [
        "[Reference](https://medium.com/@satvik.shrivastava/10-python-libraries-that-will-turbocharge-your-projects-in-2025-4abb063a6562)"
      ],
      "metadata": {
        "id": "WIGA8gtr1ouU"
      }
    },
    {
      "cell_type": "markdown",
      "source": [
        "# 1. Polars — 100x Faster Than Pandas"
      ],
      "metadata": {
        "id": "g62EfDuG1vWK"
      }
    },
    {
      "cell_type": "code",
      "execution_count": 1,
      "metadata": {
        "colab": {
          "base_uri": "https://localhost:8080/"
        },
        "id": "fxDaNtXu1TfF",
        "outputId": "e70108dd-2758-4eaa-94a4-019bb5ad41a0"
      },
      "outputs": [
        {
          "output_type": "stream",
          "name": "stdout",
          "text": [
            "shape: (4, 4)\n",
            "┌────────┬────────────┬────────┬────────┐\n",
            "│ name   ┆ birthdate  ┆ weight ┆ height │\n",
            "│ ---    ┆ ---        ┆ ---    ┆ ---    │\n",
            "│ str    ┆ date       ┆ f64    ┆ f64    │\n",
            "╞════════╪════════════╪════════╪════════╡\n",
            "│ Alice  ┆ 1997-01-10 ┆ 57.9   ┆ 1.56   │\n",
            "│ Ben    ┆ 1985-02-15 ┆ 72.5   ┆ 1.77   │\n",
            "│ Chloe  ┆ 1983-03-22 ┆ 53.6   ┆ 1.65   │\n",
            "│ Daniel ┆ 1981-04-30 ┆ 83.1   ┆ 1.75   │\n",
            "└────────┴────────────┴────────┴────────┘\n"
          ]
        }
      ],
      "source": [
        "import polars as pl\n",
        "import datetime as dt\n",
        "df = pl.DataFrame({\n",
        "    \"name\": [\"Alice\", \"Ben\", \"Chloe\", \"Daniel\"],\n",
        "    \"birthdate\": [dt.date(1997,1,10), dt.date(1985,2,15), dt.date(1983,3,22), dt.date(1981,4,30)],\n",
        "    \"weight\": [57.9, 72.5, 53.6, 83.1],\n",
        "    \"height\": [1.56, 1.77, 1.65, 1.75],\n",
        "})\n",
        "print(df)"
      ]
    },
    {
      "cell_type": "markdown",
      "source": [
        "#2. Robyn — 5x faster than FastAPI"
      ],
      "metadata": {
        "id": "BAPzQC--13gX"
      }
    },
    {
      "cell_type": "code",
      "source": [
        "!pip install robyn\n",
        "!python -m robyn --create"
      ],
      "metadata": {
        "id": "z2GY1k9g1xUm"
      },
      "execution_count": 4,
      "outputs": []
    },
    {
      "cell_type": "code",
      "source": [
        "from robyn import Robyn\n",
        "app = Robyn()\n",
        "@app.route(\"/hello\", methods=[\"GET\"])\n",
        "async def hello(request):\n",
        "    return {\"message\": \"Hello, World!\"}\n",
        "app.run(host=\"localhost\", port=8000)"
      ],
      "metadata": {
        "id": "bs4jRR1p16vm"
      },
      "execution_count": 6,
      "outputs": []
    },
    {
      "cell_type": "markdown",
      "source": [
        "# 3. Reflex — Frontend+Backend in Pure Python"
      ],
      "metadata": {
        "id": "EhdKoHia19b4"
      }
    },
    {
      "cell_type": "code",
      "source": [
        "!pip install reflex\n",
        "!reflex init\n",
        "!reflex run"
      ],
      "metadata": {
        "id": "i_5Xq3y_18Lq"
      },
      "execution_count": 7,
      "outputs": []
    },
    {
      "cell_type": "code",
      "source": [
        "import reflex as rx\n",
        "def index():\n",
        "    return rx.center(\n",
        "        rx.vstack(\n",
        "            rx.heading(\"Hello World App\"),\n",
        "            rx.text(\"Built with Reflex!\"),\n",
        "        )\n",
        "    )\n",
        "app = rx.App()\n",
        "app.add_page(index)"
      ],
      "metadata": {
        "id": "CB6hJpZQ2BPn"
      },
      "execution_count": 8,
      "outputs": []
    },
    {
      "cell_type": "markdown",
      "source": [
        "# 4. Folium — Interactive Maps"
      ],
      "metadata": {
        "id": "C4z_-4OB2DS3"
      }
    },
    {
      "cell_type": "code",
      "source": [
        "import folium\n",
        "m = folium.Map([45.35, -121.6972], zoom_start=12)\n",
        "folium.Marker([45.3288, -121.6625], popup=\"Mt. Hood\").add_to(m)\n",
        "m  # In Jupyter, this will render the map!"
      ],
      "metadata": {
        "colab": {
          "base_uri": "https://localhost:8080/",
          "height": 807
        },
        "id": "-l0-U4Nf2Er2",
        "outputId": "7766d014-c1b8-42d6-9dcb-6e4a9ce2b1c9"
      },
      "execution_count": 9,
      "outputs": [
        {
          "output_type": "execute_result",
          "data": {
            "text/plain": [
              "<folium.folium.Map at 0x7b00068d8610>"
            ],
            "text/html": [
              "<div style=\"width:100%;\"><div style=\"position:relative;width:100%;height:0;padding-bottom:60%;\"><span style=\"color:#565656\">Make this Notebook Trusted to load map: File -> Trust Notebook</span><iframe srcdoc=\"&lt;!DOCTYPE html&gt;\n",
              "&lt;html&gt;\n",
              "&lt;head&gt;\n",
              "    \n",
              "    &lt;meta http-equiv=&quot;content-type&quot; content=&quot;text/html; charset=UTF-8&quot; /&gt;\n",
              "    \n",
              "        &lt;script&gt;\n",
              "            L_NO_TOUCH = false;\n",
              "            L_DISABLE_3D = false;\n",
              "        &lt;/script&gt;\n",
              "    \n",
              "    &lt;style&gt;html, body {width: 100%;height: 100%;margin: 0;padding: 0;}&lt;/style&gt;\n",
              "    &lt;style&gt;#map {position:absolute;top:0;bottom:0;right:0;left:0;}&lt;/style&gt;\n",
              "    &lt;script src=&quot;https://cdn.jsdelivr.net/npm/leaflet@1.9.3/dist/leaflet.js&quot;&gt;&lt;/script&gt;\n",
              "    &lt;script src=&quot;https://code.jquery.com/jquery-3.7.1.min.js&quot;&gt;&lt;/script&gt;\n",
              "    &lt;script src=&quot;https://cdn.jsdelivr.net/npm/bootstrap@5.2.2/dist/js/bootstrap.bundle.min.js&quot;&gt;&lt;/script&gt;\n",
              "    &lt;script src=&quot;https://cdnjs.cloudflare.com/ajax/libs/Leaflet.awesome-markers/2.0.2/leaflet.awesome-markers.js&quot;&gt;&lt;/script&gt;\n",
              "    &lt;link rel=&quot;stylesheet&quot; href=&quot;https://cdn.jsdelivr.net/npm/leaflet@1.9.3/dist/leaflet.css&quot;/&gt;\n",
              "    &lt;link rel=&quot;stylesheet&quot; href=&quot;https://cdn.jsdelivr.net/npm/bootstrap@5.2.2/dist/css/bootstrap.min.css&quot;/&gt;\n",
              "    &lt;link rel=&quot;stylesheet&quot; href=&quot;https://netdna.bootstrapcdn.com/bootstrap/3.0.0/css/bootstrap-glyphicons.css&quot;/&gt;\n",
              "    &lt;link rel=&quot;stylesheet&quot; href=&quot;https://cdn.jsdelivr.net/npm/@fortawesome/fontawesome-free@6.2.0/css/all.min.css&quot;/&gt;\n",
              "    &lt;link rel=&quot;stylesheet&quot; href=&quot;https://cdnjs.cloudflare.com/ajax/libs/Leaflet.awesome-markers/2.0.2/leaflet.awesome-markers.css&quot;/&gt;\n",
              "    &lt;link rel=&quot;stylesheet&quot; href=&quot;https://cdn.jsdelivr.net/gh/python-visualization/folium/folium/templates/leaflet.awesome.rotate.min.css&quot;/&gt;\n",
              "    \n",
              "            &lt;meta name=&quot;viewport&quot; content=&quot;width=device-width,\n",
              "                initial-scale=1.0, maximum-scale=1.0, user-scalable=no&quot; /&gt;\n",
              "            &lt;style&gt;\n",
              "                #map_611c1a7c5fa94e9387dc07c747c20953 {\n",
              "                    position: relative;\n",
              "                    width: 100.0%;\n",
              "                    height: 100.0%;\n",
              "                    left: 0.0%;\n",
              "                    top: 0.0%;\n",
              "                }\n",
              "                .leaflet-container { font-size: 1rem; }\n",
              "            &lt;/style&gt;\n",
              "        \n",
              "&lt;/head&gt;\n",
              "&lt;body&gt;\n",
              "    \n",
              "    \n",
              "            &lt;div class=&quot;folium-map&quot; id=&quot;map_611c1a7c5fa94e9387dc07c747c20953&quot; &gt;&lt;/div&gt;\n",
              "        \n",
              "&lt;/body&gt;\n",
              "&lt;script&gt;\n",
              "    \n",
              "    \n",
              "            var map_611c1a7c5fa94e9387dc07c747c20953 = L.map(\n",
              "                &quot;map_611c1a7c5fa94e9387dc07c747c20953&quot;,\n",
              "                {\n",
              "                    center: [45.35, -121.6972],\n",
              "                    crs: L.CRS.EPSG3857,\n",
              "                    ...{\n",
              "  &quot;zoom&quot;: 12,\n",
              "  &quot;zoomControl&quot;: true,\n",
              "  &quot;preferCanvas&quot;: false,\n",
              "}\n",
              "\n",
              "                }\n",
              "            );\n",
              "\n",
              "            \n",
              "\n",
              "        \n",
              "    \n",
              "            var tile_layer_9647abd166fddda0a50bf9bbcf3515ba = L.tileLayer(\n",
              "                &quot;https://tile.openstreetmap.org/{z}/{x}/{y}.png&quot;,\n",
              "                {\n",
              "  &quot;minZoom&quot;: 0,\n",
              "  &quot;maxZoom&quot;: 19,\n",
              "  &quot;maxNativeZoom&quot;: 19,\n",
              "  &quot;noWrap&quot;: false,\n",
              "  &quot;attribution&quot;: &quot;\\u0026copy; \\u003ca href=\\&quot;https://www.openstreetmap.org/copyright\\&quot;\\u003eOpenStreetMap\\u003c/a\\u003e contributors&quot;,\n",
              "  &quot;subdomains&quot;: &quot;abc&quot;,\n",
              "  &quot;detectRetina&quot;: false,\n",
              "  &quot;tms&quot;: false,\n",
              "  &quot;opacity&quot;: 1,\n",
              "}\n",
              "\n",
              "            );\n",
              "        \n",
              "    \n",
              "            tile_layer_9647abd166fddda0a50bf9bbcf3515ba.addTo(map_611c1a7c5fa94e9387dc07c747c20953);\n",
              "        \n",
              "    \n",
              "            var marker_44f5619278d787217855a1d67082fbd7 = L.marker(\n",
              "                [45.3288, -121.6625],\n",
              "                {\n",
              "}\n",
              "            ).addTo(map_611c1a7c5fa94e9387dc07c747c20953);\n",
              "        \n",
              "    \n",
              "        var popup_eaaf624865d6726e65e7dcc446f702cb = L.popup({\n",
              "  &quot;maxWidth&quot;: &quot;100%&quot;,\n",
              "});\n",
              "\n",
              "        \n",
              "            \n",
              "                var html_e9d56ea59be5a527afd3204c4ff9120d = $(`&lt;div id=&quot;html_e9d56ea59be5a527afd3204c4ff9120d&quot; style=&quot;width: 100.0%; height: 100.0%;&quot;&gt;Mt. Hood&lt;/div&gt;`)[0];\n",
              "                popup_eaaf624865d6726e65e7dcc446f702cb.setContent(html_e9d56ea59be5a527afd3204c4ff9120d);\n",
              "            \n",
              "        \n",
              "\n",
              "        marker_44f5619278d787217855a1d67082fbd7.bindPopup(popup_eaaf624865d6726e65e7dcc446f702cb)\n",
              "        ;\n",
              "\n",
              "        \n",
              "    \n",
              "&lt;/script&gt;\n",
              "&lt;/html&gt;\" style=\"position:absolute;width:100%;height:100%;left:0;top:0;border:none !important;\" allowfullscreen webkitallowfullscreen mozallowfullscreen></iframe></div></div>"
            ]
          },
          "metadata": {},
          "execution_count": 9
        }
      ]
    },
    {
      "cell_type": "markdown",
      "source": [
        "# 5. DuckDB — SQLite’s Cool"
      ],
      "metadata": {
        "id": "m3ucNujd2OcC"
      }
    },
    {
      "cell_type": "code",
      "source": [
        "import duckdb\n",
        "import pandas as pd\n",
        "df = pd.DataFrame({\"a\": [42]})\n",
        "result = duckdb.sql(\"SELECT * FROM df\").fetchdf()\n",
        "print(result)"
      ],
      "metadata": {
        "colab": {
          "base_uri": "https://localhost:8080/"
        },
        "id": "_a2jFJjr2MH9",
        "outputId": "52d89d3c-ab26-4170-f29f-a85ad1cd0213"
      },
      "execution_count": 10,
      "outputs": [
        {
          "output_type": "stream",
          "name": "stdout",
          "text": [
            "    a\n",
            "0  42\n"
          ]
        }
      ]
    },
    {
      "cell_type": "markdown",
      "source": [
        "# 6. Pandera"
      ],
      "metadata": {
        "id": "YqWGfxq12Rqk"
      }
    },
    {
      "cell_type": "code",
      "source": [
        "pip install pandera"
      ],
      "metadata": {
        "colab": {
          "base_uri": "https://localhost:8080/"
        },
        "id": "dWkiMyO22QmQ",
        "outputId": "9be96816-8527-4b7d-8607-e45a5bee99c2"
      },
      "execution_count": 11,
      "outputs": [
        {
          "output_type": "stream",
          "name": "stdout",
          "text": [
            "Collecting pandera\n",
            "  Downloading pandera-0.23.1-py3-none-any.whl.metadata (18 kB)\n",
            "Requirement already satisfied: numpy>=1.24.4 in /usr/local/lib/python3.11/dist-packages (from pandera) (2.0.2)\n",
            "Requirement already satisfied: packaging>=20.0 in /usr/local/lib/python3.11/dist-packages (from pandera) (24.2)\n",
            "Requirement already satisfied: pandas>=2.1.1 in /usr/local/lib/python3.11/dist-packages (from pandera) (2.2.2)\n",
            "Requirement already satisfied: pydantic in /usr/local/lib/python3.11/dist-packages (from pandera) (2.11.2)\n",
            "Requirement already satisfied: typeguard in /usr/local/lib/python3.11/dist-packages (from pandera) (4.4.2)\n",
            "Collecting typing_inspect>=0.6.0 (from pandera)\n",
            "  Downloading typing_inspect-0.9.0-py3-none-any.whl.metadata (1.5 kB)\n",
            "Requirement already satisfied: python-dateutil>=2.8.2 in /usr/local/lib/python3.11/dist-packages (from pandas>=2.1.1->pandera) (2.8.2)\n",
            "Requirement already satisfied: pytz>=2020.1 in /usr/local/lib/python3.11/dist-packages (from pandas>=2.1.1->pandera) (2025.2)\n",
            "Requirement already satisfied: tzdata>=2022.7 in /usr/local/lib/python3.11/dist-packages (from pandas>=2.1.1->pandera) (2025.2)\n",
            "Collecting mypy-extensions>=0.3.0 (from typing_inspect>=0.6.0->pandera)\n",
            "  Downloading mypy_extensions-1.0.0-py3-none-any.whl.metadata (1.1 kB)\n",
            "Requirement already satisfied: typing-extensions>=3.7.4 in /usr/local/lib/python3.11/dist-packages (from typing_inspect>=0.6.0->pandera) (4.13.1)\n",
            "Requirement already satisfied: annotated-types>=0.6.0 in /usr/local/lib/python3.11/dist-packages (from pydantic->pandera) (0.7.0)\n",
            "Requirement already satisfied: pydantic-core==2.33.1 in /usr/local/lib/python3.11/dist-packages (from pydantic->pandera) (2.33.1)\n",
            "Requirement already satisfied: typing-inspection>=0.4.0 in /usr/local/lib/python3.11/dist-packages (from pydantic->pandera) (0.4.0)\n",
            "Requirement already satisfied: six>=1.5 in /usr/local/lib/python3.11/dist-packages (from python-dateutil>=2.8.2->pandas>=2.1.1->pandera) (1.17.0)\n",
            "Downloading pandera-0.23.1-py3-none-any.whl (264 kB)\n",
            "\u001b[2K   \u001b[90m━━━━━━━━━━━━━━━━━━━━━━━━━━━━━━━━━━━━━━━━\u001b[0m \u001b[32m264.2/264.2 kB\u001b[0m \u001b[31m8.1 MB/s\u001b[0m eta \u001b[36m0:00:00\u001b[0m\n",
            "\u001b[?25hDownloading typing_inspect-0.9.0-py3-none-any.whl (8.8 kB)\n",
            "Downloading mypy_extensions-1.0.0-py3-none-any.whl (4.7 kB)\n",
            "Installing collected packages: mypy-extensions, typing_inspect, pandera\n",
            "Successfully installed mypy-extensions-1.0.0 pandera-0.23.1 typing_inspect-0.9.0\n"
          ]
        }
      ]
    },
    {
      "cell_type": "code",
      "source": [
        "import pandas as pd\n",
        "import pandera as pa\n",
        "schema = pa.DataFrameSchema({\n",
        "    \"column1\": pa.Column(int, checks=pa.Check.le(10)),\n",
        "    \"column2\": pa.Column(float, checks=pa.Check.lt(-1.2)),\n",
        "})\n",
        "df = schema.validate(df)"
      ],
      "metadata": {
        "id": "djTfxZQr2TJy"
      },
      "execution_count": 13,
      "outputs": []
    },
    {
      "cell_type": "markdown",
      "source": [
        "# 7. JAX: Google’s ML Speed Machine"
      ],
      "metadata": {
        "id": "oHXBeiXV2WoD"
      }
    },
    {
      "cell_type": "code",
      "source": [
        "pip install jax  # or pip install jax[cuda12] for GPU"
      ],
      "metadata": {
        "colab": {
          "base_uri": "https://localhost:8080/"
        },
        "id": "MYScVAS62UdK",
        "outputId": "b4d2cd7e-0e14-468a-f8d6-7fa9a311328d"
      },
      "execution_count": 14,
      "outputs": [
        {
          "output_type": "stream",
          "name": "stdout",
          "text": [
            "Requirement already satisfied: jax in /usr/local/lib/python3.11/dist-packages (0.5.2)\n",
            "Requirement already satisfied: jaxlib<=0.5.2,>=0.5.1 in /usr/local/lib/python3.11/dist-packages (from jax) (0.5.1)\n",
            "Requirement already satisfied: ml_dtypes>=0.4.0 in /usr/local/lib/python3.11/dist-packages (from jax) (0.4.1)\n",
            "Requirement already satisfied: numpy>=1.25 in /usr/local/lib/python3.11/dist-packages (from jax) (2.0.2)\n",
            "Requirement already satisfied: opt_einsum in /usr/local/lib/python3.11/dist-packages (from jax) (3.4.0)\n",
            "Requirement already satisfied: scipy>=1.11.1 in /usr/local/lib/python3.11/dist-packages (from jax) (1.14.1)\n"
          ]
        }
      ]
    },
    {
      "cell_type": "code",
      "source": [
        "import jax.numpy as jnp\n",
        "x = jnp.arange(5.0)\n",
        "print(x)"
      ],
      "metadata": {
        "colab": {
          "base_uri": "https://localhost:8080/"
        },
        "id": "5YqpmUT12ZFs",
        "outputId": "acefecf9-bbd8-48ae-eefa-d1236069b7d2"
      },
      "execution_count": 15,
      "outputs": [
        {
          "output_type": "stream",
          "name": "stdout",
          "text": [
            "[0. 1. 2. 3. 4.]\n"
          ]
        }
      ]
    },
    {
      "cell_type": "markdown",
      "source": [
        "# 8. FastStream — Async Messaging Made Easy"
      ],
      "metadata": {
        "id": "AgK0kUs_2boz"
      }
    },
    {
      "cell_type": "code",
      "source": [
        "pip install faststream[kafka]"
      ],
      "metadata": {
        "colab": {
          "base_uri": "https://localhost:8080/"
        },
        "id": "YUGb9cGu2aRf",
        "outputId": "2ae5cff3-fdcf-40b0-bf99-5149d6519a48"
      },
      "execution_count": 16,
      "outputs": [
        {
          "output_type": "stream",
          "name": "stdout",
          "text": [
            "Collecting faststream[kafka]\n",
            "  Downloading faststream-0.5.39-py3-none-any.whl.metadata (25 kB)\n",
            "Requirement already satisfied: anyio<5,>=3.7.1 in /usr/local/lib/python3.11/dist-packages (from faststream[kafka]) (4.9.0)\n",
            "Collecting fast-depends<3.0.0,>=2.4.0b0 (from faststream[kafka])\n",
            "  Downloading fast_depends-2.4.12-py3-none-any.whl.metadata (7.6 kB)\n",
            "Requirement already satisfied: typing-extensions>=4.8.0 in /usr/local/lib/python3.11/dist-packages (from faststream[kafka]) (4.13.1)\n",
            "Collecting aiokafka<0.13,>=0.9 (from faststream[kafka])\n",
            "  Downloading aiokafka-0.12.0-cp311-cp311-manylinux_2_17_x86_64.manylinux2014_x86_64.whl.metadata (17 kB)\n",
            "Collecting async-timeout (from aiokafka<0.13,>=0.9->faststream[kafka])\n",
            "  Downloading async_timeout-5.0.1-py3-none-any.whl.metadata (5.1 kB)\n",
            "Requirement already satisfied: packaging in /usr/local/lib/python3.11/dist-packages (from aiokafka<0.13,>=0.9->faststream[kafka]) (24.2)\n",
            "Requirement already satisfied: idna>=2.8 in /usr/local/lib/python3.11/dist-packages (from anyio<5,>=3.7.1->faststream[kafka]) (3.10)\n",
            "Requirement already satisfied: sniffio>=1.1 in /usr/local/lib/python3.11/dist-packages (from anyio<5,>=3.7.1->faststream[kafka]) (1.3.1)\n",
            "Requirement already satisfied: pydantic!=1.8,!=1.8.1,<3.0.0,>=1.7.4 in /usr/local/lib/python3.11/dist-packages (from fast-depends<3.0.0,>=2.4.0b0->faststream[kafka]) (2.11.2)\n",
            "Requirement already satisfied: annotated-types>=0.6.0 in /usr/local/lib/python3.11/dist-packages (from pydantic!=1.8,!=1.8.1,<3.0.0,>=1.7.4->fast-depends<3.0.0,>=2.4.0b0->faststream[kafka]) (0.7.0)\n",
            "Requirement already satisfied: pydantic-core==2.33.1 in /usr/local/lib/python3.11/dist-packages (from pydantic!=1.8,!=1.8.1,<3.0.0,>=1.7.4->fast-depends<3.0.0,>=2.4.0b0->faststream[kafka]) (2.33.1)\n",
            "Requirement already satisfied: typing-inspection>=0.4.0 in /usr/local/lib/python3.11/dist-packages (from pydantic!=1.8,!=1.8.1,<3.0.0,>=1.7.4->fast-depends<3.0.0,>=2.4.0b0->faststream[kafka]) (0.4.0)\n",
            "Downloading aiokafka-0.12.0-cp311-cp311-manylinux_2_17_x86_64.manylinux2014_x86_64.whl (1.2 MB)\n",
            "\u001b[2K   \u001b[90m━━━━━━━━━━━━━━━━━━━━━━━━━━━━━━━━━━━━━━━━\u001b[0m \u001b[32m1.2/1.2 MB\u001b[0m \u001b[31m29.1 MB/s\u001b[0m eta \u001b[36m0:00:00\u001b[0m\n",
            "\u001b[?25hDownloading fast_depends-2.4.12-py3-none-any.whl (17 kB)\n",
            "Downloading faststream-0.5.39-py3-none-any.whl (392 kB)\n",
            "\u001b[2K   \u001b[90m━━━━━━━━━━━━━━━━━━━━━━━━━━━━━━━━━━━━━━━━\u001b[0m \u001b[32m392.9/392.9 kB\u001b[0m \u001b[31m32.4 MB/s\u001b[0m eta \u001b[36m0:00:00\u001b[0m\n",
            "\u001b[?25hDownloading async_timeout-5.0.1-py3-none-any.whl (6.2 kB)\n",
            "Installing collected packages: async-timeout, aiokafka, fast-depends, faststream\n",
            "Successfully installed aiokafka-0.12.0 async-timeout-5.0.1 fast-depends-2.4.12 faststream-0.5.39\n"
          ]
        }
      ]
    },
    {
      "cell_type": "code",
      "source": [
        "from faststream import FastStream\n",
        "from faststream.kafka import KafkaBroker\n",
        "broker = KafkaBroker(\"localhost:9092\")\n",
        "app = FastStream(broker)\n",
        "@broker.subscriber(\"in\")\n",
        "@broker.publisher(\"out\")\n",
        "async def handle_msg(user: str, user_id: int):\n",
        "    return f\"{user} with ID {user_id} registered\""
      ],
      "metadata": {
        "id": "GSnnAHql2eJg"
      },
      "execution_count": 17,
      "outputs": []
    },
    {
      "cell_type": "markdown",
      "source": [
        "# 9. Ruff"
      ],
      "metadata": {
        "id": "kEmIZSLF2hj_"
      }
    },
    {
      "cell_type": "code",
      "source": [
        "!pip install ruff\n",
        "!uv init --lib demo\n",
        "!uv add --dev ruff\n",
        "!uv run ruff check --fix"
      ],
      "metadata": {
        "id": "Ug0pr9XR2fjm"
      },
      "execution_count": 18,
      "outputs": []
    },
    {
      "cell_type": "markdown",
      "source": [
        "# 10. uv"
      ],
      "metadata": {
        "id": "U1Vdk_pM2r3P"
      }
    },
    {
      "cell_type": "code",
      "source": [
        "!pip install uv\n",
        "!uv init"
      ],
      "metadata": {
        "id": "3VAD7y0y2mTE"
      },
      "execution_count": 19,
      "outputs": []
    }
  ]
}
