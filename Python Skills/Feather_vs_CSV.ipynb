{
  "nbformat": 4,
  "nbformat_minor": 0,
  "metadata": {
    "colab": {
      "name": "Feather vs CSV.ipynb",
      "provenance": [],
      "authorship_tag": "ABX9TyNuhEQanGpjX/eTNywB1XUT"
    },
    "kernelspec": {
      "name": "python3",
      "display_name": "Python 3"
    },
    "language_info": {
      "name": "python"
    }
  },
  "cells": [
    {
      "cell_type": "markdown",
      "source": [
        "[Reference](https://medium.com/@rajkrakesh/feather-vs-csv-829472196832)"
      ],
      "metadata": {
        "id": "QURGPxuln5yX"
      }
    },
    {
      "cell_type": "code",
      "execution_count": 1,
      "metadata": {
        "colab": {
          "base_uri": "https://localhost:8080/"
        },
        "id": "IDkrmkPtnkxo",
        "outputId": "6c3fec99-4ff9-446d-e3f3-ef519f383953"
      },
      "outputs": [
        {
          "output_type": "stream",
          "name": "stdout",
          "text": [
            "Requirement already satisfied: feather-format in /usr/local/lib/python3.7/dist-packages (0.4.1)\n",
            "Requirement already satisfied: pyarrow>=0.4.0 in /usr/local/lib/python3.7/dist-packages (from feather-format) (6.0.1)\n",
            "Requirement already satisfied: numpy>=1.16.6 in /usr/local/lib/python3.7/dist-packages (from pyarrow>=0.4.0->feather-format) (1.21.5)\n"
          ]
        }
      ],
      "source": [
        "!pip install feather-format"
      ]
    },
    {
      "cell_type": "code",
      "source": [
        "import pandas as pd\n",
        "import numpy as np\n",
        "arr = np.random.rand(1000000) # 10% nulls\n",
        "arr[::10] = np.nan\n",
        "df = pd.DataFrame({'colun_{0}'.format(i): arr for i in range(10)})\n",
        "%time df.to_feather('test.feather')"
      ],
      "metadata": {
        "colab": {
          "base_uri": "https://localhost:8080/"
        },
        "id": "PErAqSI4pYid",
        "outputId": "5f1ba8ad-9d2b-4b03-ba7b-41cc47155d21"
      },
      "execution_count": 3,
      "outputs": [
        {
          "output_type": "stream",
          "name": "stdout",
          "text": [
            "CPU times: user 548 ms, sys: 93.9 ms, total: 642 ms\n",
            "Wall time: 401 ms\n"
          ]
        }
      ]
    },
    {
      "cell_type": "code",
      "source": [
        "%time df.to_csv('test.csv')"
      ],
      "metadata": {
        "colab": {
          "base_uri": "https://localhost:8080/"
        },
        "id": "pWAKbYrspo1Z",
        "outputId": "51ccfb66-6740-4309-e62a-42ff16bfa400"
      },
      "execution_count": 4,
      "outputs": [
        {
          "output_type": "stream",
          "name": "stdout",
          "text": [
            "CPU times: user 15 s, sys: 403 ms, total: 15.4 s\n",
            "Wall time: 15.6 s\n"
          ]
        }
      ]
    },
    {
      "cell_type": "code",
      "source": [
        "%time df_feather = pd.read_feather('test.feather')"
      ],
      "metadata": {
        "colab": {
          "base_uri": "https://localhost:8080/"
        },
        "id": "7HVhMSpXptz1",
        "outputId": "6000a1f9-a6da-41da-e3e6-1c0668327f78"
      },
      "execution_count": 5,
      "outputs": [
        {
          "output_type": "stream",
          "name": "stdout",
          "text": [
            "CPU times: user 60 ms, sys: 151 ms, total: 211 ms\n",
            "Wall time: 130 ms\n"
          ]
        }
      ]
    },
    {
      "cell_type": "code",
      "source": [
        "%time df_csv = pd.read_csv('test.csv')"
      ],
      "metadata": {
        "colab": {
          "base_uri": "https://localhost:8080/"
        },
        "id": "UBkU9SwHpzB2",
        "outputId": "4115bbc0-d330-40be-8ade-2c20b125320d"
      },
      "execution_count": 6,
      "outputs": [
        {
          "output_type": "stream",
          "name": "stdout",
          "text": [
            "CPU times: user 1.65 s, sys: 154 ms, total: 1.8 s\n",
            "Wall time: 1.81 s\n"
          ]
        }
      ]
    }
  ]
}