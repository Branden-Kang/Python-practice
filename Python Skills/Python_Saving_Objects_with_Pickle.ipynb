{
  "nbformat": 4,
  "nbformat_minor": 0,
  "metadata": {
    "colab": {
      "provenance": [],
      "authorship_tag": "ABX9TyOncP+aqEA1DrwfLlK5ox+z"
    },
    "kernelspec": {
      "name": "python3",
      "display_name": "Python 3"
    },
    "language_info": {
      "name": "python"
    }
  },
  "cells": [
    {
      "cell_type": "markdown",
      "source": [
        "[Reference](https://medium.com/@sarperismetmakas/python-saving-objects-with-pickle-2df8ff6ca46e)"
      ],
      "metadata": {
        "id": "xojmbxRO1NjP"
      }
    },
    {
      "cell_type": "code",
      "execution_count": 1,
      "metadata": {
        "id": "S7iNJpfi0go6"
      },
      "outputs": [],
      "source": [
        "import pickle\n",
        "\n",
        "# Create a Python object (a dictionary)\n",
        "data = {'name': 'Alice', 'age': 30, 'city': 'New York'}\n",
        "\n",
        "# Serialize the object to a binary format\n",
        "with open('data.pkl', 'wb') as file:\n",
        "    pickle.dump(data, file)"
      ]
    },
    {
      "cell_type": "code",
      "source": [
        "# Deserialize the object from the binary file\n",
        "with open('data.pkl', 'rb') as file:\n",
        "    loaded_data = pickle.load(file)\n",
        "\n",
        "print(loaded_data)"
      ],
      "metadata": {
        "colab": {
          "base_uri": "https://localhost:8080/"
        },
        "id": "g2CWrvbk2cSJ",
        "outputId": "817923c4-61f3-465f-f95a-d280642fd5f6"
      },
      "execution_count": 2,
      "outputs": [
        {
          "output_type": "stream",
          "name": "stdout",
          "text": [
            "{'name': 'Alice', 'age': 30, 'city': 'New York'}\n"
          ]
        }
      ]
    },
    {
      "cell_type": "code",
      "source": [
        "class Person:\n",
        "    def __init__(self, name, age):\n",
        "        self.name = name\n",
        "        self.age = age\n",
        "\n",
        "# Create an instance\n",
        "person = Person('Bob', 25)\n",
        "\n",
        "# Pickle the object\n",
        "with open('person.pkl', 'wb') as file:\n",
        "    pickle.dump(person, file)\n",
        "\n",
        "# Unpickling the object\n",
        "with open('person.pkl', 'rb') as file:\n",
        "    loaded_person = pickle.load(file)"
      ],
      "metadata": {
        "id": "bM12gd8S2dQI"
      },
      "execution_count": 3,
      "outputs": []
    },
    {
      "cell_type": "code",
      "source": [
        "class Person:\n",
        "    def __init__(self, name, age):\n",
        "        self.name = name\n",
        "        self.age = age\n",
        "\n",
        "    def __reduce__(self):\n",
        "        return (self.__class__, (self.name, self.age))"
      ],
      "metadata": {
        "id": "ylG6yHz-2j3C"
      },
      "execution_count": 4,
      "outputs": []
    },
    {
      "cell_type": "code",
      "source": [
        "# Pickling with protocol version 4 (Python 3.4+)\n",
        "with open('data.pkl', 'wb') as file:\n",
        "    pickle.dump(data, file, protocol=4)"
      ],
      "metadata": {
        "id": "rc6PjX5i2lCz"
      },
      "execution_count": 5,
      "outputs": []
    }
  ]
}
