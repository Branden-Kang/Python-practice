{
  "nbformat": 4,
  "nbformat_minor": 0,
  "metadata": {
    "colab": {
      "name": "Fastest way to format strings in Python.ipynb",
      "provenance": [],
      "authorship_tag": "ABX9TyMSK+XXpXPv+jd56hM/HxbK"
    },
    "kernelspec": {
      "name": "python3",
      "display_name": "Python 3"
    },
    "language_info": {
      "name": "python"
    }
  },
  "cells": [
    {
      "cell_type": "markdown",
      "metadata": {
        "id": "eVbQ1FeTxgdi"
      },
      "source": [
        "[Reference](https://medium.com/daily-programming-tips/day17-fastest-way-to-format-strings-in-python-7f52a6380f30)"
      ]
    },
    {
      "cell_type": "code",
      "metadata": {
        "colab": {
          "base_uri": "https://localhost:8080/"
        },
        "id": "lBstcQc0xfBk",
        "outputId": "2414a933-9313-4895-c082-6ddc8f7f5ba2"
      },
      "source": [
        "num = 2\n",
        "print(f\"{num} is an {'even' if num%2 ==0 else 'odd'} number\")\n",
        "\n",
        "num = 3\n",
        "print(f\"{num} is an {'even' if num%2 ==0 else 'odd'} number\")"
      ],
      "execution_count": 1,
      "outputs": [
        {
          "output_type": "stream",
          "text": [
            "2 is an even number\n",
            "3 is an odd number\n"
          ],
          "name": "stdout"
        }
      ]
    },
    {
      "cell_type": "code",
      "metadata": {
        "colab": {
          "base_uri": "https://localhost:8080/"
        },
        "id": "AVH7XwZoxk3I",
        "outputId": "12878dd1-1e28-44eb-af0a-306b660e8bd0"
      },
      "source": [
        "text = \"string\"\n",
        "print(f'{text:>20}')\n",
        "print(f'{text:^10}')\n",
        "print(f'{text:<30}')"
      ],
      "execution_count": 3,
      "outputs": [
        {
          "output_type": "stream",
          "text": [
            "              string\n",
            "  string  \n",
            "string                        \n"
          ],
          "name": "stdout"
        }
      ]
    },
    {
      "cell_type": "code",
      "metadata": {
        "colab": {
          "base_uri": "https://localhost:8080/"
        },
        "id": "C7nGtlAlxnFk",
        "outputId": "e01f6b19-764a-4fa3-f82a-76793f32d7e0"
      },
      "source": [
        "num =  20.012345783\n",
        "print(f'{num:0.3f}')"
      ],
      "execution_count": 5,
      "outputs": [
        {
          "output_type": "stream",
          "text": [
            "20.012\n"
          ],
          "name": "stdout"
        }
      ]
    },
    {
      "cell_type": "code",
      "metadata": {
        "colab": {
          "base_uri": "https://localhost:8080/"
        },
        "id": "VGWvJGoCxpkq",
        "outputId": "3ef26cc1-0cdd-4aeb-f75c-c9151378663f"
      },
      "source": [
        "x = 10\n",
        "print(f'{x:0}') #10\n",
        "print(f'{x:02}') #10\n",
        "print(f'{x:03}') #010\n",
        "print(f'{x:04}') # 0010"
      ],
      "execution_count": 6,
      "outputs": [
        {
          "output_type": "stream",
          "text": [
            "10\n",
            "10\n",
            "010\n",
            "0010\n"
          ],
          "name": "stdout"
        }
      ]
    }
  ]
}