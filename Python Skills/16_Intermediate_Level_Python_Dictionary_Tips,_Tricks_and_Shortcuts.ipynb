{
  "nbformat": 4,
  "nbformat_minor": 0,
  "metadata": {
    "colab": {
      "name": "16 Intermediate-Level Python Dictionary Tips, Tricks and Shortcuts.ipynb",
      "provenance": [],
      "authorship_tag": "ABX9TyNFGF0r8RjS+3DCGN+mUmNs"
    },
    "kernelspec": {
      "name": "python3",
      "display_name": "Python 3"
    }
  },
  "cells": [
    {
      "cell_type": "markdown",
      "metadata": {
        "id": "veswdzOvnIg8"
      },
      "source": [
        "[Reference](https://medium.com/python-in-plain-english/16-intermediate-level-python-dictionary-tips-tricks-and-shortcuts-1376859e1adc)"
      ]
    },
    {
      "cell_type": "markdown",
      "metadata": {
        "id": "ZWGEj1g4lD7d"
      },
      "source": [
        "# 1. Print All the Key: Value Pairs in a Nested Dictionary"
      ]
    },
    {
      "cell_type": "code",
      "metadata": {
        "id": "1HwtMqMSia3T",
        "outputId": "2cfcbd56-3fe2-4a45-b6ef-4341ecce5fa2",
        "colab": {
          "base_uri": "https://localhost:8080/",
          "height": 238
        }
      },
      "source": [
        "import requests\n",
        "import json\n",
        "\n",
        "\n",
        "def recursive_key_values(dictionary):\n",
        "    \"\"\"recursive_key_values.\n",
        "        Print all keys and values anywhere in a dictionary\n",
        "    Args:\n",
        "        dictionary: any dictionary\n",
        "    Returns:\n",
        "        tuple:\n",
        "    \"\"\"\n",
        "    for key, value in dictionary.items():\n",
        "        i = 0\n",
        "        if type(value) is str:\n",
        "            yield (key, value)\n",
        "        elif type(value) is dict:\n",
        "            yield from recursive_key_values(value)\n",
        "        elif type(value) in (list, tuple, set):\n",
        "            for seq_item in value:\n",
        "                yield from recursive_key_values({f\"{key}_{str(i)}\": seq_item})\n",
        "                i = i + 1\n",
        "        else:\n",
        "            yield (key, str(value))\n",
        "\n",
        "\n",
        "mydata: dict = {\n",
        "    \"key2\": {\n",
        "        \"key2.0\": \"value1\",\n",
        "        \"key2.1\":...,\n",
        "        \"key2.2\": {\n",
        "            \"key2.2.0\": \"value2\"\n",
        "        }\n",
        "    },\n",
        "    \"key1\": {\n",
        "        \"key1.0\": \"value3\"\n",
        "    },\n",
        "}\n",
        "mydata[\"key3\"] = {1, 2, 3} # set\n",
        "mydata[\"key4\"] = [4, 5, 6] # list\n",
        "mydata[\"key5\"] = (7, 8, 9) # tuple\n",
        "\n",
        "if __name__ == \"__main__\":\n",
        "    for key, value in recursive_key_values(mydata):\n",
        "        print(f\"{key}: {value}\")"
      ],
      "execution_count": 1,
      "outputs": [
        {
          "output_type": "stream",
          "text": [
            "key2.0: value1\n",
            "key2.1: Ellipsis\n",
            "key2.2.0: value2\n",
            "key1.0: value3\n",
            "key3_0: 1\n",
            "key3_1: 2\n",
            "key3_2: 3\n",
            "key4_0: 4\n",
            "key4_1: 5\n",
            "key4_2: 6\n",
            "key5_0: 7\n",
            "key5_1: 8\n",
            "key5_2: 9\n"
          ],
          "name": "stdout"
        }
      ]
    },
    {
      "cell_type": "markdown",
      "metadata": {
        "id": "MlU9GVMdlBnn"
      },
      "source": [
        "# 2. Sort a Dictionary"
      ]
    },
    {
      "cell_type": "code",
      "metadata": {
        "id": "5cJBC0EDk5Mc"
      },
      "source": [
        "\"\"\"\n",
        "Sorting a dictionary to an Iterable of tuples.\n",
        "https://en.wikipedia.org/wiki/List_of_countries_and_dependencies_by_area\n",
        "\"\"\"\n",
        "\n",
        "countries: dict = {\n",
        "    \"Taiwan\": 36193,\n",
        "    \"Canada\": 9984670,\n",
        "    \"United States\": 9525067,\n",
        "    \"Russia\": 17098246,\n",
        "    \"Argentina\": 2780400,\n",
        "    \"Zambia\": 752612,\n",
        "    \"China\": 9596961,\n",
        "}\n",
        "\n",
        "assert dict(sorted(countries.items(), key=lambda kv: kv[1], reverse=False)) == {\n",
        "    \"Taiwan\": 36193,\n",
        "    \"Zambia\": 752612,\n",
        "    \"Argentina\": 2780400,\n",
        "    \"United States\": 9525067,\n",
        "    \"China\": 9596961,\n",
        "    \"Canada\": 9984670,\n",
        "    \"Russia\": 17098246,\n",
        "}\n",
        "\n",
        "assert dict(sorted(countries.items(), key=lambda kv: kv[1], reverse=True)) == {\n",
        "    \"Russia\": 17098246,\n",
        "    \"Canada\": 9984670,\n",
        "    \"China\": 9596961,\n",
        "    \"United States\": 9525067,\n",
        "    \"Argentina\": 2780400,\n",
        "    \"Zambia\": 752612,\n",
        "    \"Taiwan\": 36193,\n",
        "}\n",
        "\n",
        "assert dict(sorted(countries.items(), key=lambda kv: kv[0], reverse=False)) == {\n",
        "   \"Argentina\": 2780400,\n",
        "   \"Canada\": 9984670,\n",
        "   \"China\": 9596961,\n",
        "   \"Russia\": 17098246,\n",
        "   \"Taiwan\": 36193,\n",
        "   \"United States\": 9525067,\n",
        "   \"Zambia\": 752612,\n",
        "}\n",
        "\n",
        "assert dict(sorted(countries.items(), key=lambda kv: kv[0], reverse=True)) == {\n",
        "    \"Zambia\": 752612,\n",
        "    \"United States\": 9525067,\n",
        "    \"Taiwan\": 36193,\n",
        "    \"Russia\": 17098246,\n",
        "    \"China\": 9596961,\n",
        "    \"Canada\": 9984670,\n",
        "    \"Argentina\": 2780400,\n",
        "}"
      ],
      "execution_count": 2,
      "outputs": []
    },
    {
      "cell_type": "markdown",
      "metadata": {
        "id": "jfUTrCK6lNcb"
      },
      "source": [
        "# 3. Merge Two Dictionaries"
      ]
    },
    {
      "cell_type": "code",
      "metadata": {
        "id": "YUFZAw1plLZ0"
      },
      "source": [
        "def merge_dictionaries(left: dict, right: dict) -> dict:\n",
        "    \"\"\"Merge two dictionaries using a shallow copy.\"\"\"\n",
        "    temp: dict = left.copy()\n",
        "    temp.update(right)\n",
        "    return temp\n",
        "\n",
        "\n",
        "countries: dict = {\n",
        "    \"Taiwan\": 36193,\n",
        "    \"Canada\": 9984670,\n",
        "    \"United States\": 9525067,\n",
        "    \"Russia\": 17098246,\n",
        "    \"Argentina\": 2780400,\n",
        "    \"Zambia\": 752612,\n",
        "    \"China\": 9596961,\n",
        "}\n",
        "\n",
        "cities: dict = {\n",
        "    \"Toronto\": [\"Canada\", 6082000],\n",
        "    \"New York City\": [\"United States\", 18819000],\n",
        "    \"Moscow\": [\"Russia\", 12410000],\n",
        "    \"Buenos Aires\": [\"Argentina\", 14967000],\n",
        "    \"Shanghai\": [\"China\", 25582000],\n",
        "    \"Lusaka\": [\"Zambia\", 1747152],\n",
        "    \"Taipei\": [\"Taiwan\", 2646204],\n",
        "}\n",
        "\n",
        "assert merge_dictionaries(countries, cities) == {\n",
        "    \"Taiwan\": 36193,\n",
        "    \"Canada\": 9984670,\n",
        "    \"United States\": 9525067,\n",
        "    \"Russia\": 17098246,\n",
        "    \"Argentina\": 2780400,\n",
        "    \"Zambia\": 752612,\n",
        "    \"China\": 9596961,\n",
        "    \"Toronto\": [\"Canada\", 6082000],\n",
        "    \"New York City\": [\"United States\", 18819000],\n",
        "    \"Moscow\": [\"Russia\", 12410000],\n",
        "    \"Buenos Aires\": [\"Argentina\", 14967000],\n",
        "    \"Shanghai\": [\"China\", 25582000],\n",
        "    \"Lusaka\": [\"Zambia\", 1747152],\n",
        "    \"Taipei\": [\"Taiwan\", 2646204],\n",
        "}"
      ],
      "execution_count": 3,
      "outputs": []
    },
    {
      "cell_type": "markdown",
      "metadata": {
        "id": "KpDzbtU3lfm1"
      },
      "source": [
        "# 4. Make a Dictionary from Two Lists"
      ]
    },
    {
      "cell_type": "code",
      "metadata": {
        "id": "AzKBwDdPlZbU"
      },
      "source": [
        "def dict_from_two_lists(keys: list, values: list) -> dict:\n",
        "    \"\"\"\n",
        "    Args:\n",
        "        keys: The list of keys for the dictionary\n",
        "        values: The list of values for the dictionary\n",
        "    Returns: A dictionary of key:value pairs\n",
        "    \"\"\"\n",
        "    if len(keys) != len(values):\n",
        "        raise ValueError(\"Lists must be of same length\")\n",
        "\n",
        "    return dict(zip(keys, values))\n",
        "\n",
        "\n",
        "assert dict_from_two_lists([\"first\", \"second\", \"third\"],\n",
        "                           [\"primary\", \"secondary\", \"tertiary\"]) == {\n",
        "                               \"first\": \"primary\",\n",
        "                               \"second\": \"secondary\",\n",
        "                               \"third\": \"tertiary\",\n",
        "                           }"
      ],
      "execution_count": 4,
      "outputs": []
    },
    {
      "cell_type": "markdown",
      "metadata": {
        "id": "90kpj-tVlhO5"
      },
      "source": [
        "# 5. Get all Items in a Nested Dictionary by Key"
      ]
    },
    {
      "cell_type": "code",
      "metadata": {
        "id": "CpqKJ1R7leP-"
      },
      "source": [
        "import json\n",
        "import requests\n",
        "\n",
        "\n",
        "def get_values_by_key(dictionary: dict, key: str) -> dict:\n",
        "    \"\"\"get_values_by_key.\n",
        "    Args:\n",
        "        dictionary (dict): dictionary\n",
        "        key (str): key\n",
        "    Returns:\n",
        "        dict:\n",
        "    \"\"\"\n",
        "    if isinstance(dictionary, dict):\n",
        "        for k, v in dictionary.items():\n",
        "            if k == key:\n",
        "                yield v\n",
        "            elif isinstance(v, dict):\n",
        "                for result in get_values_by_key(v, key):\n",
        "                    yield result\n",
        "            elif type(v) in (list, tuple):\n",
        "                for d in v:\n",
        "                    for seq in get_values_by_key(d, key):\n",
        "                        if type(seq) in (list, tuple):\n",
        "                            for inner_item in seq:\n",
        "                                yield inner_item\n",
        "                        else:\n",
        "                            yield seq\n",
        "\n",
        "\n",
        "dict1 = dict(\n",
        "    json.loads(\n",
        "        requests.get(\"http://ergast.com/api/f1/2004/1/results.json\").text))\n",
        "\n",
        "assert \"http://en.wikipedia.org/wiki/McLaren\" in list(\n",
        "    get_values_by_key(dict1, \"url\"))"
      ],
      "execution_count": 5,
      "outputs": []
    },
    {
      "cell_type": "markdown",
      "metadata": {
        "id": "O637k-wOlquU"
      },
      "source": [
        "# 6. Get all Items in a Nested Dictionary by Value\n",
        "\n"
      ]
    },
    {
      "cell_type": "code",
      "metadata": {
        "id": "5fHLmOK9lpbl"
      },
      "source": [
        "import json\n",
        "import requests\n",
        "\n",
        "\n",
        "def get_key_by_value(dictionary: dict, val: str) -> object:\n",
        "    \"\"\"get_values_by_key.\n",
        "    Args:\n",
        "        dictionary (dict): dictionary\n",
        "        val (str): value\n",
        "    Returns:\n",
        "        dict:\n",
        "    \"\"\"\n",
        "    if isinstance(dictionary, dict):\n",
        "        for k, v in dictionary.items():\n",
        "            if val == v:\n",
        "                yield k\n",
        "            elif isinstance(v, dict):\n",
        "                for result in get_key_by_value(v, val):\n",
        "                    yield result\n",
        "            elif isinstance(v, list):\n",
        "                for list_item in v:\n",
        "                    for result in get_key_by_value(list_item, val):\n",
        "                        yield result\n",
        "\n",
        "\n",
        "dict1 = dict(\n",
        "    json.loads(\n",
        "        requests.get(\"http://ergast.com/api/f1/2004/1/results.json\").text))\n",
        "\n",
        "assert \"raceName\" in list(get_key_by_value(dict1, \"Australian Grand Prix\"))"
      ],
      "execution_count": 6,
      "outputs": []
    },
    {
      "cell_type": "markdown",
      "metadata": {
        "id": "PvSSQkBYlwWc"
      },
      "source": [
        "# 7. Create a Dictionary using Dictionary Comprehension"
      ]
    },
    {
      "cell_type": "code",
      "metadata": {
        "id": "boAtfpbRlvOJ",
        "outputId": "5d054930-3d2e-4947-8df4-dd8677b90957",
        "colab": {
          "base_uri": "https://localhost:8080/",
          "height": 54
        }
      },
      "source": [
        "asci_uppercase: dict = {i: chr(+i) for i in range(65, 91, 1)}\n",
        "digits: dict = {i: chr(+i) for i in range(48, 58, 1)}\n",
        "asci_lowercase: dict = {i: chr(+i) for i in range(97, 123, 1)}\n",
        "asci_punctuation: dict = {i: chr(+i) for i in range(32, 48, 1)}\n",
        "asci_punctuation.update({i: chr(+i) for i in range(123, 127, 1)})\n",
        "asci_punctuation.update({i: chr(+i) for i in range(91, 97, 1)})\n",
        "asci_punctuation.update({i: chr(+i) for i in range(58, 65, 1)})\n",
        "asci_extended: dict = {i: chr(+i) for i in range(128, 255, 1)}\n",
        "asci_system: dict = {i: hex(i) for i in range(0, 32, 1)}\n",
        "\n",
        "ascii_chars: dict = {}\n",
        "ascii_chars.update({\"asci_punctuation\": asci_punctuation})\n",
        "ascii_chars.update({\"asci_lowercase\": asci_lowercase})\n",
        "ascii_chars.update({\"asci_uppercase\": asci_uppercase})\n",
        "ascii_chars.update({\"digits\": digits})\n",
        "ascii_chars.update({\"asci_extended\": asci_extended})\n",
        "ascii_chars.update({\"asci_system\": asci_system})\n",
        "\n",
        "print(ascii_chars)"
      ],
      "execution_count": 8,
      "outputs": [
        {
          "output_type": "stream",
          "text": [
            "{'asci_punctuation': {32: ' ', 33: '!', 34: '\"', 35: '#', 36: '$', 37: '%', 38: '&', 39: \"'\", 40: '(', 41: ')', 42: '*', 43: '+', 44: ',', 45: '-', 46: '.', 47: '/', 123: '{', 124: '|', 125: '}', 126: '~', 91: '[', 92: '\\\\', 93: ']', 94: '^', 95: '_', 96: '`', 58: ':', 59: ';', 60: '<', 61: '=', 62: '>', 63: '?', 64: '@'}, 'asci_lowercase': {97: 'a', 98: 'b', 99: 'c', 100: 'd', 101: 'e', 102: 'f', 103: 'g', 104: 'h', 105: 'i', 106: 'j', 107: 'k', 108: 'l', 109: 'm', 110: 'n', 111: 'o', 112: 'p', 113: 'q', 114: 'r', 115: 's', 116: 't', 117: 'u', 118: 'v', 119: 'w', 120: 'x', 121: 'y', 122: 'z'}, 'asci_uppercase': {65: 'A', 66: 'B', 67: 'C', 68: 'D', 69: 'E', 70: 'F', 71: 'G', 72: 'H', 73: 'I', 74: 'J', 75: 'K', 76: 'L', 77: 'M', 78: 'N', 79: 'O', 80: 'P', 81: 'Q', 82: 'R', 83: 'S', 84: 'T', 85: 'U', 86: 'V', 87: 'W', 88: 'X', 89: 'Y', 90: 'Z'}, 'digits': {48: '0', 49: '1', 50: '2', 51: '3', 52: '4', 53: '5', 54: '6', 55: '7', 56: '8', 57: '9'}, 'asci_extended': {128: '\\x80', 129: '\\x81', 130: '\\x82', 131: '\\x83', 132: '\\x84', 133: '\\x85', 134: '\\x86', 135: '\\x87', 136: '\\x88', 137: '\\x89', 138: '\\x8a', 139: '\\x8b', 140: '\\x8c', 141: '\\x8d', 142: '\\x8e', 143: '\\x8f', 144: '\\x90', 145: '\\x91', 146: '\\x92', 147: '\\x93', 148: '\\x94', 149: '\\x95', 150: '\\x96', 151: '\\x97', 152: '\\x98', 153: '\\x99', 154: '\\x9a', 155: '\\x9b', 156: '\\x9c', 157: '\\x9d', 158: '\\x9e', 159: '\\x9f', 160: '\\xa0', 161: '¡', 162: '¢', 163: '£', 164: '¤', 165: '¥', 166: '¦', 167: '§', 168: '¨', 169: '©', 170: 'ª', 171: '«', 172: '¬', 173: '\\xad', 174: '®', 175: '¯', 176: '°', 177: '±', 178: '²', 179: '³', 180: '´', 181: 'µ', 182: '¶', 183: '·', 184: '¸', 185: '¹', 186: 'º', 187: '»', 188: '¼', 189: '½', 190: '¾', 191: '¿', 192: 'À', 193: 'Á', 194: 'Â', 195: 'Ã', 196: 'Ä', 197: 'Å', 198: 'Æ', 199: 'Ç', 200: 'È', 201: 'É', 202: 'Ê', 203: 'Ë', 204: 'Ì', 205: 'Í', 206: 'Î', 207: 'Ï', 208: 'Ð', 209: 'Ñ', 210: 'Ò', 211: 'Ó', 212: 'Ô', 213: 'Õ', 214: 'Ö', 215: '×', 216: 'Ø', 217: 'Ù', 218: 'Ú', 219: 'Û', 220: 'Ü', 221: 'Ý', 222: 'Þ', 223: 'ß', 224: 'à', 225: 'á', 226: 'â', 227: 'ã', 228: 'ä', 229: 'å', 230: 'æ', 231: 'ç', 232: 'è', 233: 'é', 234: 'ê', 235: 'ë', 236: 'ì', 237: 'í', 238: 'î', 239: 'ï', 240: 'ð', 241: 'ñ', 242: 'ò', 243: 'ó', 244: 'ô', 245: 'õ', 246: 'ö', 247: '÷', 248: 'ø', 249: 'ù', 250: 'ú', 251: 'û', 252: 'ü', 253: 'ý', 254: 'þ'}, 'asci_system': {0: '0x0', 1: '0x1', 2: '0x2', 3: '0x3', 4: '0x4', 5: '0x5', 6: '0x6', 7: '0x7', 8: '0x8', 9: '0x9', 10: '0xa', 11: '0xb', 12: '0xc', 13: '0xd', 14: '0xe', 15: '0xf', 16: '0x10', 17: '0x11', 18: '0x12', 19: '0x13', 20: '0x14', 21: '0x15', 22: '0x16', 23: '0x17', 24: '0x18', 25: '0x19', 26: '0x1a', 27: '0x1b', 28: '0x1c', 29: '0x1d', 30: '0x1e', 31: '0x1f'}}\n"
          ],
          "name": "stdout"
        }
      ]
    },
    {
      "cell_type": "markdown",
      "metadata": {
        "id": "Azi5JeK1l5HT"
      },
      "source": [
        "# 8. Use Default Values for New Items"
      ]
    },
    {
      "cell_type": "code",
      "metadata": {
        "id": "gM830xGblyAV"
      },
      "source": [
        "from collections import defaultdict as dd\n",
        "\n",
        "s = [(\"John\", \"Male\"), (\"John\", \"48\"), (\"John\", \"Married\"), (\"Jane\", \"Female\"),\n",
        "     (\"Jane\", \"25\")]\n",
        "\n",
        "dict1: dict = dd(list)\n",
        "\n",
        "for k, v in s:\n",
        "    dict1[k].append(v)\n",
        "\n",
        "assert dict1[\"John\"] == [\"Male\", \"48\", \"Married\"]\n",
        "assert dict1[\"Jane\"] == [\"Female\", \"25\"]"
      ],
      "execution_count": 9,
      "outputs": []
    },
    {
      "cell_type": "markdown",
      "metadata": {
        "id": "Yq3tzKsTmbH2"
      },
      "source": [
        "# 9. Convert List of Tuples to Dictionary"
      ]
    },
    {
      "cell_type": "code",
      "metadata": {
        "id": "-HDyJtJhmZxc"
      },
      "source": [
        "from collections import defaultdict as dd\n",
        "\n",
        "s = [(\"John\", \"Male\", 25), (\"Fred\", \"Female\", 48), (\"Sam\", \"Female\", 41),\n",
        "     (\"Jane\", \"Female\", 25)]\n",
        "\n",
        "dict1 = dd(dict)\n",
        "\n",
        "for name, gender, age in s:\n",
        "    dict1[name][\"age\"] = age\n",
        "    dict1[name][\"gender\"] = gender\n",
        "\n",
        "assert dict1[\"John\"] == {\"age\": 25, \"gender\": \"Male\"}\n",
        "assert dict1[\"Fred\"] == {\"age\": 48, \"gender\": \"Female\"}\n",
        "assert dict1[\"Sam\"] == {\"age\": 41, \"gender\": \"Female\"}\n",
        "assert dict1[\"Jane\"] == {\"age\": 25, \"gender\": \"Female\"}"
      ],
      "execution_count": 10,
      "outputs": []
    },
    {
      "cell_type": "markdown",
      "metadata": {
        "id": "NL9oVWVLmgVN"
      },
      "source": [
        "# 10. Create a Dictionary from a CSV File with Column Headers"
      ]
    },
    {
      "cell_type": "code",
      "metadata": {
        "id": "KVrTv7EUmdG6"
      },
      "source": [
        "from collections import defaultdict as dd\n",
        "import csv\n",
        "import requests\n",
        "\n",
        "url: str = \"https://data.london.gov.uk/download/london-borough-profiles/c1693b82-68b1-44ee-beb2-3decf17dc1f8/london-borough-profiles.csv \"\n",
        "\n",
        "boroughs = (requests.get(url).text).split(\"\\n\")\n",
        "reader = csv.DictReader(boroughs, dialect=\"excel\")\n",
        "dict1 = dd(dict)\n",
        "\n",
        "for row in reader:\n",
        "    dict1[row[\"Code\"]] = row\n",
        "\n",
        "assert dict1[\"E09000001\"][\"Area_name\"] == \"City of London\"\n",
        "assert dict1[\"E09000032\"][\"Inner/_Outer_London\"] == \"Inner London\""
      ],
      "execution_count": 11,
      "outputs": []
    },
    {
      "cell_type": "markdown",
      "metadata": {
        "id": "PKjpWHYkmkY8"
      },
      "source": [
        "# 11. Delete an Item from a Dictionary"
      ]
    },
    {
      "cell_type": "code",
      "metadata": {
        "id": "9F9hEYkPmjBm",
        "outputId": "66631d2c-f4de-496f-d6e8-d9c1311b6990",
        "colab": {
          "base_uri": "https://localhost:8080/",
          "height": 34
        }
      },
      "source": [
        "digits: dict = {i: chr(+i) for i in range(48, 58, 1)}\n",
        "key = 50\n",
        "\n",
        "try:\n",
        "    val = digits.pop(key)\n",
        "except KeyError:\n",
        "    print (f\"The item with key {key} did not exist.\")\n",
        "else:\n",
        "    print(f\"Deleted item with key {key} with value {val}.\")"
      ],
      "execution_count": 12,
      "outputs": [
        {
          "output_type": "stream",
          "text": [
            "Deleted item with key 50 with value 2.\n"
          ],
          "name": "stdout"
        }
      ]
    },
    {
      "cell_type": "markdown",
      "metadata": {
        "id": "IDi1FFtDmoEe"
      },
      "source": [
        "# 12. Make a Deep Copy of a Dictionary"
      ]
    },
    {
      "cell_type": "code",
      "metadata": {
        "id": "yURny8Ckmmrs"
      },
      "source": [
        "import copy\n",
        "\n",
        "original = {}\n",
        "original[\"object1\"] = dict({\"a\": {\"b\": [1, 2, 3]}})\n",
        "\n",
        "dict_shallow = original.copy()\n",
        "dict_deep = copy.deepcopy(original)\n",
        "\n",
        "# change the mutable object in original and dict_shallow\n",
        "original[\"object1\"][\"a\"][\"b\"] = [3, 4, 5]\n",
        "\n",
        "assert id(original[\"object1\"]) == id(dict_shallow[\"object1\"])\n",
        "assert id(original[\"object1\"]) != id(dict_deep[\"object1\"])"
      ],
      "execution_count": 13,
      "outputs": []
    },
    {
      "cell_type": "markdown",
      "metadata": {
        "id": "S9fEdP9bmwSl"
      },
      "source": [
        "# 13. Reverse Keys and Values"
      ]
    },
    {
      "cell_type": "code",
      "metadata": {
        "id": "bNC9PDOjmrAI"
      },
      "source": [
        "def invert_dictionary(input:dict)->dict:\n",
        "    return {v: k for k, v in dict1.items()}\n",
        "\n",
        "dict1 = {\"a\": 1, \"b\": 2, \"c\": 3}\n",
        "\n",
        "assert invert_dictionary(dict1) == {1: \"a\", 2: \"b\", 3: \"c\"}"
      ],
      "execution_count": 14,
      "outputs": []
    },
    {
      "cell_type": "markdown",
      "metadata": {
        "id": "DYGu0nB1mz4z"
      },
      "source": [
        "# 14. Save Multiple Dictionaries to a File"
      ]
    },
    {
      "cell_type": "code",
      "metadata": {
        "id": "fEx5WMLnmy5y"
      },
      "source": [
        "import shelve\n",
        "\n",
        "dict1 = {\"a\": 1, \"b\": 2, \"c\": 3}\n",
        "dict2 = {1: \"a\", 2: \"b\", 3: \"c\"}\n",
        "dict3 = {}\n",
        "dict4 = {}\n",
        "\n",
        "with shelve.open(\"dictionary-shelf\", \"c\") as shelf:\n",
        "    shelf[\"first\"] = dict1\n",
        "    shelf[\"second\"] = dict2\n",
        "\n",
        "with shelve.open(\"dictionary-shelf\", \"r\") as shelf:\n",
        "    dict3 = shelf[\"first\"]\n",
        "    dict4 = shelf[\"second\"]\n",
        "\n",
        "assert dict1 == dict3\n",
        "assert dict2 == dict4\n",
        "assert dict1 != dict2\n",
        "assert dict3 != dict4"
      ],
      "execution_count": 15,
      "outputs": []
    },
    {
      "cell_type": "markdown",
      "metadata": {
        "id": "JLevflBPm4vM"
      },
      "source": [
        "# 15. Convert from Dictionary to JSON"
      ]
    },
    {
      "cell_type": "code",
      "metadata": {
        "id": "TChYjFpBm2Zx"
      },
      "source": [
        "import json\n",
        "from datetime import datetime\n",
        "\n",
        "\n",
        "class PythonObjectEncoder(json.JSONEncoder):\n",
        "\n",
        "    def default(self, an_object_value):\n",
        "\n",
        "        if isinstance(an_object_value, str):\n",
        "            return an_object_value\n",
        "\n",
        "        try:\n",
        "            iterable = iter(an_object_value)\n",
        "            return list(iterable)\n",
        "        except TypeError:\n",
        "            pass  # this object is not iterable\n",
        "\n",
        "        if isinstance(an_object_value, datetime):\n",
        "            return an_object_value.isoformat()\n",
        "\n",
        "        elif hasattr(an_object_value, \"__class__\"):\n",
        "            return an_object_value.__dict__\n",
        "\n",
        "        return super().default(an_object_value)\n",
        "\n",
        "\n",
        "def dict_to_json(the_dict: dict) -> str:\n",
        "\n",
        "    return PythonObjectEncoder().encode(the_dict)\n",
        "\n",
        "\n",
        "class SimpleClass:\n",
        "    def __init__(self):\n",
        "        self.instance_value = 10\n",
        "\n",
        "\n",
        "b = SimpleClass()\n",
        "\n",
        "dict1: dict = {}\n",
        "dict1[\"string\"] = \"Hello, World!\"\n",
        "dict1[\"datetime\"] = datetime(2030, 12, 31)\n",
        "dict1[\"nothing\"] = None\n",
        "dict1[\"set\"]: set = {0, 1, 2, 3}\n",
        "dict1[\"tuple\"] = (\"apples\", \"fresh\", \"green\")\n",
        "dict1[\"list\"] = [\"a\", \"b\", \"c\"]\n",
        "dict1[\"simple_class\"] = SimpleClass()\n",
        "\n",
        "assert (\n",
        "        dict_to_json(dict1) ==\n",
        "            (\n",
        "                '{\"string\": \"Hello, World!\",' \n",
        "                ' \"datetime\": \"2030-12-31T00:00:00\",'\n",
        "                ' \"nothing\": null,'\n",
        "                ' \"set\": [0, 1, 2, 3],'\n",
        "                ' \"tuple\": [\"apples\", \"fresh\", \"green\"],'\n",
        "                ' \"list\": [\"a\", \"b\", \"c\"],'\n",
        "                ' \"simple_class\": {\"instance_value\": 10}}'\n",
        "            )\n",
        "    )"
      ],
      "execution_count": 16,
      "outputs": []
    },
    {
      "cell_type": "markdown",
      "metadata": {
        "id": "FB8ZTTQZm-3I"
      },
      "source": [
        "# 16. Delete Multiple Items from a Dictionary During Iteration"
      ]
    },
    {
      "cell_type": "code",
      "metadata": {
        "id": "YAW1E94Pm825"
      },
      "source": [
        "def remove_even_items(the_dict: dict):\n",
        "\n",
        "    # collect the keys of all the items to remove\n",
        "    delete_these = set(k for k, v in the_dict.items() if v % 2 == 0)\n",
        "\n",
        "    for delete_this in delete_these:\n",
        "        del the_dict[delete_this]\n",
        "\n",
        "    return the_dict\n",
        "\n",
        "\n",
        "dict1: dict = dict(enumerate(range(13)))\n",
        "assert remove_even_items(dict1) == {1: 1, 3: 3, 5: 5, 7: 7, 9: 9, 11: 11}"
      ],
      "execution_count": 17,
      "outputs": []
    }
  ]
}