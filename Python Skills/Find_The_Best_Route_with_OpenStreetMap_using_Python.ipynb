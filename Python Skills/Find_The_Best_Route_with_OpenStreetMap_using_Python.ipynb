{
  "nbformat": 4,
  "nbformat_minor": 0,
  "metadata": {
    "colab": {
      "name": "Find The Best Route with OpenStreetMap using Python.ipynb",
      "provenance": [],
      "collapsed_sections": [],
      "authorship_tag": "ABX9TyO0izsmnEf0cs32NqmIXbiF"
    },
    "kernelspec": {
      "name": "python3",
      "display_name": "Python 3"
    },
    "language_info": {
      "name": "python"
    }
  },
  "cells": [
    {
      "cell_type": "markdown",
      "source": [
        "[Reference](https://medium.com/@nilufarmohammadi1/find-the-best-route-with-openstreetmap-using-python-da70eff5b1ac)"
      ],
      "metadata": {
        "id": "b4AOiLEIdwTr"
      }
    },
    {
      "cell_type": "code",
      "source": [
        "!pip install pyrosm"
      ],
      "metadata": {
        "colab": {
          "base_uri": "https://localhost:8080/"
        },
        "id": "alM_FObTV-aL",
        "outputId": "4da5f001-ddc9-4046-aa41-b57e8aa19d28"
      },
      "execution_count": 1,
      "outputs": [
        {
          "output_type": "stream",
          "name": "stdout",
          "text": [
            "Looking in indexes: https://pypi.org/simple, https://us-python.pkg.dev/colab-wheels/public/simple/\n",
            "Collecting pyrosm\n",
            "  Downloading pyrosm-0.6.1.tar.gz (2.1 MB)\n",
            "\u001b[K     |████████████████████████████████| 2.1 MB 4.7 MB/s \n",
            "\u001b[?25h  Installing build dependencies ... \u001b[?25l\u001b[?25hdone\n",
            "  Getting requirements to build wheel ... \u001b[?25l\u001b[?25hdone\n",
            "    Preparing wheel metadata ... \u001b[?25l\u001b[?25hdone\n",
            "Requirement already satisfied: setuptools>=18.0 in /usr/local/lib/python3.7/dist-packages (from pyrosm) (57.4.0)\n",
            "Collecting cykhash\n",
            "  Using cached cykhash-2.0.0-cp37-cp37m-linux_x86_64.whl\n",
            "Collecting python-rapidjson\n",
            "  Downloading python_rapidjson-1.6-cp37-cp37m-manylinux_2_17_x86_64.manylinux2014_x86_64.whl (1.6 MB)\n",
            "\u001b[K     |████████████████████████████████| 1.6 MB 47.9 MB/s \n",
            "\u001b[?25hCollecting pyrobuf\n",
            "  Using cached pyrobuf-0.9.3-cp37-cp37m-linux_x86_64.whl\n",
            "Collecting geopandas>=0.8.0\n",
            "  Downloading geopandas-0.10.2-py2.py3-none-any.whl (1.0 MB)\n",
            "\u001b[K     |████████████████████████████████| 1.0 MB 52.7 MB/s \n",
            "\u001b[?25hCollecting pygeos\n",
            "  Downloading pygeos-0.12.0-cp37-cp37m-manylinux_2_17_x86_64.manylinux2014_x86_64.whl (2.1 MB)\n",
            "\u001b[K     |████████████████████████████████| 2.1 MB 55.6 MB/s \n",
            "\u001b[?25hRequirement already satisfied: pandas>=0.25.0 in /usr/local/lib/python3.7/dist-packages (from geopandas>=0.8.0->pyrosm) (1.3.5)\n",
            "Requirement already satisfied: shapely>=1.6 in /usr/local/lib/python3.7/dist-packages (from geopandas>=0.8.0->pyrosm) (1.8.2)\n",
            "Collecting fiona>=1.8\n",
            "  Downloading Fiona-1.8.21-cp37-cp37m-manylinux2014_x86_64.whl (16.7 MB)\n",
            "\u001b[K     |████████████████████████████████| 16.7 MB 482 kB/s \n",
            "\u001b[?25hCollecting pyproj>=2.2.0\n",
            "  Downloading pyproj-3.2.1-cp37-cp37m-manylinux2010_x86_64.whl (6.3 MB)\n",
            "\u001b[K     |████████████████████████████████| 6.3 MB 58.2 MB/s \n",
            "\u001b[?25hRequirement already satisfied: attrs>=17 in /usr/local/lib/python3.7/dist-packages (from fiona>=1.8->geopandas>=0.8.0->pyrosm) (21.4.0)\n",
            "Collecting munch\n",
            "  Downloading munch-2.5.0-py2.py3-none-any.whl (10 kB)\n",
            "Requirement already satisfied: click>=4.0 in /usr/local/lib/python3.7/dist-packages (from fiona>=1.8->geopandas>=0.8.0->pyrosm) (7.1.2)\n",
            "Requirement already satisfied: six>=1.7 in /usr/local/lib/python3.7/dist-packages (from fiona>=1.8->geopandas>=0.8.0->pyrosm) (1.15.0)\n",
            "Collecting cligj>=0.5\n",
            "  Downloading cligj-0.7.2-py3-none-any.whl (7.1 kB)\n",
            "Collecting click-plugins>=1.0\n",
            "  Downloading click_plugins-1.1.1-py2.py3-none-any.whl (7.5 kB)\n",
            "Requirement already satisfied: certifi in /usr/local/lib/python3.7/dist-packages (from fiona>=1.8->geopandas>=0.8.0->pyrosm) (2022.5.18.1)\n",
            "Requirement already satisfied: python-dateutil>=2.7.3 in /usr/local/lib/python3.7/dist-packages (from pandas>=0.25.0->geopandas>=0.8.0->pyrosm) (2.8.2)\n",
            "Requirement already satisfied: numpy>=1.17.3 in /usr/local/lib/python3.7/dist-packages (from pandas>=0.25.0->geopandas>=0.8.0->pyrosm) (1.21.6)\n",
            "Requirement already satisfied: pytz>=2017.3 in /usr/local/lib/python3.7/dist-packages (from pandas>=0.25.0->geopandas>=0.8.0->pyrosm) (2022.1)\n",
            "Requirement already satisfied: cython>=0.23 in /usr/local/lib/python3.7/dist-packages (from pyrobuf->pyrosm) (0.29.30)\n",
            "Requirement already satisfied: jinja2>=2.8 in /usr/local/lib/python3.7/dist-packages (from pyrobuf->pyrosm) (2.11.3)\n",
            "Requirement already satisfied: MarkupSafe>=0.23 in /usr/local/lib/python3.7/dist-packages (from jinja2>=2.8->pyrobuf->pyrosm) (2.0.1)\n",
            "Building wheels for collected packages: pyrosm\n",
            "  Building wheel for pyrosm (PEP 517) ... \u001b[?25l\u001b[?25hdone\n",
            "  Created wheel for pyrosm: filename=pyrosm-0.6.1-cp37-cp37m-linux_x86_64.whl size=5430297 sha256=3701eddf48c678829bcbe22479e8a60b5d256dc55179f651c9c924a0a58bc151\n",
            "  Stored in directory: /root/.cache/pip/wheels/e8/9e/d8/e424ffc5eaa71ccb122bb79d92ef75802c49b9b0a9366d6da4\n",
            "Successfully built pyrosm\n",
            "Installing collected packages: munch, cligj, click-plugins, pyproj, fiona, python-rapidjson, pyrobuf, pygeos, geopandas, cykhash, pyrosm\n",
            "Successfully installed click-plugins-1.1.1 cligj-0.7.2 cykhash-2.0.0 fiona-1.8.21 geopandas-0.10.2 munch-2.5.0 pygeos-0.12.0 pyproj-3.2.1 pyrobuf-0.9.3 pyrosm-0.6.1 python-rapidjson-1.6\n"
          ]
        }
      ]
    },
    {
      "cell_type": "code",
      "source": [
        "!pip install mapclassify"
      ],
      "metadata": {
        "colab": {
          "base_uri": "https://localhost:8080/"
        },
        "id": "Dj12gjImaznK",
        "outputId": "f7e79199-c1d5-4eaf-d53c-bcd09a428d89"
      },
      "execution_count": 2,
      "outputs": [
        {
          "output_type": "stream",
          "name": "stdout",
          "text": [
            "Looking in indexes: https://pypi.org/simple, https://us-python.pkg.dev/colab-wheels/public/simple/\n",
            "Collecting mapclassify\n",
            "  Downloading mapclassify-2.4.3-py3-none-any.whl (38 kB)\n",
            "Requirement already satisfied: numpy>=1.3 in /usr/local/lib/python3.7/dist-packages (from mapclassify) (1.21.6)\n",
            "Requirement already satisfied: pandas>=1.0 in /usr/local/lib/python3.7/dist-packages (from mapclassify) (1.3.5)\n",
            "Requirement already satisfied: networkx in /usr/local/lib/python3.7/dist-packages (from mapclassify) (2.6.3)\n",
            "Requirement already satisfied: scikit-learn in /usr/local/lib/python3.7/dist-packages (from mapclassify) (1.0.2)\n",
            "Requirement already satisfied: scipy>=1.0 in /usr/local/lib/python3.7/dist-packages (from mapclassify) (1.4.1)\n",
            "Requirement already satisfied: python-dateutil>=2.7.3 in /usr/local/lib/python3.7/dist-packages (from pandas>=1.0->mapclassify) (2.8.2)\n",
            "Requirement already satisfied: pytz>=2017.3 in /usr/local/lib/python3.7/dist-packages (from pandas>=1.0->mapclassify) (2022.1)\n",
            "Requirement already satisfied: six>=1.5 in /usr/local/lib/python3.7/dist-packages (from python-dateutil>=2.7.3->pandas>=1.0->mapclassify) (1.15.0)\n",
            "Requirement already satisfied: threadpoolctl>=2.0.0 in /usr/local/lib/python3.7/dist-packages (from scikit-learn->mapclassify) (3.1.0)\n",
            "Requirement already satisfied: joblib>=0.11 in /usr/local/lib/python3.7/dist-packages (from scikit-learn->mapclassify) (1.1.0)\n",
            "Installing collected packages: mapclassify\n",
            "Successfully installed mapclassify-2.4.3\n"
          ]
        }
      ]
    },
    {
      "cell_type": "code",
      "source": [
        "pip install igraph"
      ],
      "metadata": {
        "colab": {
          "base_uri": "https://localhost:8080/"
        },
        "id": "nnJZNb39bswh",
        "outputId": "a75c06e2-051f-4b4d-fe71-e406726ee9e6"
      },
      "execution_count": 3,
      "outputs": [
        {
          "output_type": "stream",
          "name": "stdout",
          "text": [
            "Looking in indexes: https://pypi.org/simple, https://us-python.pkg.dev/colab-wheels/public/simple/\n",
            "Collecting igraph\n",
            "  Downloading igraph-0.9.11-cp37-cp37m-manylinux_2_17_x86_64.manylinux2014_x86_64.whl (3.1 MB)\n",
            "\u001b[K     |████████████████████████████████| 3.1 MB 5.2 MB/s \n",
            "\u001b[?25hCollecting texttable>=1.6.2\n",
            "  Downloading texttable-1.6.4-py2.py3-none-any.whl (10 kB)\n",
            "Installing collected packages: texttable, igraph\n",
            "Successfully installed igraph-0.9.11 texttable-1.6.4\n"
          ]
        }
      ]
    },
    {
      "cell_type": "code",
      "source": [
        "pip install osmnx"
      ],
      "metadata": {
        "colab": {
          "base_uri": "https://localhost:8080/",
          "height": 1000
        },
        "id": "lMSdzR6Abue8",
        "outputId": "3dd6d8e2-5e4f-4723-d3a1-9e66d3d5b22c"
      },
      "execution_count": 4,
      "outputs": [
        {
          "output_type": "stream",
          "name": "stdout",
          "text": [
            "Looking in indexes: https://pypi.org/simple, https://us-python.pkg.dev/colab-wheels/public/simple/\n",
            "Collecting osmnx\n",
            "  Downloading osmnx-1.1.2-py2.py3-none-any.whl (95 kB)\n",
            "\u001b[K     |████████████████████████████████| 95 kB 260 kB/s \n",
            "\u001b[?25hRequirement already satisfied: pyproj>=3.2 in /usr/local/lib/python3.7/dist-packages (from osmnx) (3.2.1)\n",
            "Requirement already satisfied: Shapely<2.0,>=1.7 in /usr/local/lib/python3.7/dist-packages (from osmnx) (1.8.2)\n",
            "Requirement already satisfied: numpy>=1.21 in /usr/local/lib/python3.7/dist-packages (from osmnx) (1.21.6)\n",
            "Requirement already satisfied: pandas>=1.3 in /usr/local/lib/python3.7/dist-packages (from osmnx) (1.3.5)\n",
            "Collecting requests>=2.26\n",
            "  Downloading requests-2.28.0-py3-none-any.whl (62 kB)\n",
            "\u001b[K     |████████████████████████████████| 62 kB 1.9 MB/s \n",
            "\u001b[?25hRequirement already satisfied: networkx>=2.6 in /usr/local/lib/python3.7/dist-packages (from osmnx) (2.6.3)\n",
            "Collecting Rtree>=0.9\n",
            "  Downloading Rtree-1.0.0-cp37-cp37m-manylinux_2_17_x86_64.manylinux2014_x86_64.whl (1.0 MB)\n",
            "\u001b[K     |████████████████████████████████| 1.0 MB 41.3 MB/s \n",
            "\u001b[?25hCollecting matplotlib>=3.4\n",
            "  Downloading matplotlib-3.5.2-cp37-cp37m-manylinux_2_5_x86_64.manylinux1_x86_64.whl (11.2 MB)\n",
            "\u001b[K     |████████████████████████████████| 11.2 MB 41.9 MB/s \n",
            "\u001b[?25hRequirement already satisfied: geopandas>=0.10 in /usr/local/lib/python3.7/dist-packages (from osmnx) (0.10.2)\n",
            "Requirement already satisfied: fiona>=1.8 in /usr/local/lib/python3.7/dist-packages (from geopandas>=0.10->osmnx) (1.8.21)\n",
            "Requirement already satisfied: certifi in /usr/local/lib/python3.7/dist-packages (from fiona>=1.8->geopandas>=0.10->osmnx) (2022.5.18.1)\n",
            "Requirement already satisfied: setuptools in /usr/local/lib/python3.7/dist-packages (from fiona>=1.8->geopandas>=0.10->osmnx) (57.4.0)\n",
            "Requirement already satisfied: click-plugins>=1.0 in /usr/local/lib/python3.7/dist-packages (from fiona>=1.8->geopandas>=0.10->osmnx) (1.1.1)\n",
            "Requirement already satisfied: attrs>=17 in /usr/local/lib/python3.7/dist-packages (from fiona>=1.8->geopandas>=0.10->osmnx) (21.4.0)\n",
            "Requirement already satisfied: six>=1.7 in /usr/local/lib/python3.7/dist-packages (from fiona>=1.8->geopandas>=0.10->osmnx) (1.15.0)\n",
            "Requirement already satisfied: click>=4.0 in /usr/local/lib/python3.7/dist-packages (from fiona>=1.8->geopandas>=0.10->osmnx) (7.1.2)\n",
            "Requirement already satisfied: munch in /usr/local/lib/python3.7/dist-packages (from fiona>=1.8->geopandas>=0.10->osmnx) (2.5.0)\n",
            "Requirement already satisfied: cligj>=0.5 in /usr/local/lib/python3.7/dist-packages (from fiona>=1.8->geopandas>=0.10->osmnx) (0.7.2)\n",
            "Requirement already satisfied: pyparsing>=2.2.1 in /usr/local/lib/python3.7/dist-packages (from matplotlib>=3.4->osmnx) (3.0.9)\n",
            "Requirement already satisfied: cycler>=0.10 in /usr/local/lib/python3.7/dist-packages (from matplotlib>=3.4->osmnx) (0.11.0)\n",
            "Requirement already satisfied: python-dateutil>=2.7 in /usr/local/lib/python3.7/dist-packages (from matplotlib>=3.4->osmnx) (2.8.2)\n",
            "Collecting fonttools>=4.22.0\n",
            "  Downloading fonttools-4.33.3-py3-none-any.whl (930 kB)\n",
            "\u001b[K     |████████████████████████████████| 930 kB 59.0 MB/s \n",
            "\u001b[?25hRequirement already satisfied: kiwisolver>=1.0.1 in /usr/local/lib/python3.7/dist-packages (from matplotlib>=3.4->osmnx) (1.4.2)\n",
            "Requirement already satisfied: pillow>=6.2.0 in /usr/local/lib/python3.7/dist-packages (from matplotlib>=3.4->osmnx) (7.1.2)\n",
            "Requirement already satisfied: packaging>=20.0 in /usr/local/lib/python3.7/dist-packages (from matplotlib>=3.4->osmnx) (21.3)\n",
            "Requirement already satisfied: typing-extensions in /usr/local/lib/python3.7/dist-packages (from kiwisolver>=1.0.1->matplotlib>=3.4->osmnx) (4.2.0)\n",
            "Requirement already satisfied: pytz>=2017.3 in /usr/local/lib/python3.7/dist-packages (from pandas>=1.3->osmnx) (2022.1)\n",
            "Requirement already satisfied: urllib3<1.27,>=1.21.1 in /usr/local/lib/python3.7/dist-packages (from requests>=2.26->osmnx) (1.24.3)\n",
            "Requirement already satisfied: idna<4,>=2.5 in /usr/local/lib/python3.7/dist-packages (from requests>=2.26->osmnx) (2.10)\n",
            "Requirement already satisfied: charset-normalizer~=2.0.0 in /usr/local/lib/python3.7/dist-packages (from requests>=2.26->osmnx) (2.0.12)\n",
            "Installing collected packages: fonttools, Rtree, requests, matplotlib, osmnx\n",
            "  Attempting uninstall: requests\n",
            "    Found existing installation: requests 2.23.0\n",
            "    Uninstalling requests-2.23.0:\n",
            "      Successfully uninstalled requests-2.23.0\n",
            "  Attempting uninstall: matplotlib\n",
            "    Found existing installation: matplotlib 3.2.2\n",
            "    Uninstalling matplotlib-3.2.2:\n",
            "      Successfully uninstalled matplotlib-3.2.2\n",
            "\u001b[31mERROR: pip's dependency resolver does not currently take into account all the packages that are installed. This behaviour is the source of the following dependency conflicts.\n",
            "google-colab 1.0.0 requires requests~=2.23.0, but you have requests 2.28.0 which is incompatible.\n",
            "datascience 0.10.6 requires folium==0.2.1, but you have folium 0.8.3 which is incompatible.\n",
            "albumentations 0.1.12 requires imgaug<0.2.7,>=0.2.5, but you have imgaug 0.2.9 which is incompatible.\u001b[0m\n",
            "Successfully installed Rtree-1.0.0 fonttools-4.33.3 matplotlib-3.5.2 osmnx-1.1.2 requests-2.28.0\n"
          ]
        },
        {
          "output_type": "display_data",
          "data": {
            "application/vnd.colab-display-data+json": {
              "pip_warning": {
                "packages": [
                  "matplotlib",
                  "mpl_toolkits"
                ]
              }
            }
          },
          "metadata": {}
        }
      ]
    },
    {
      "cell_type": "code",
      "execution_count": 5,
      "metadata": {
        "id": "48KmqCLpVyUt",
        "colab": {
          "base_uri": "https://localhost:8080/"
        },
        "outputId": "d0896e54-8d61-4625-8eae-7d93692296b7"
      },
      "outputs": [
        {
          "output_type": "stream",
          "name": "stderr",
          "text": [
            "/usr/local/lib/python3.7/dist-packages/geopandas/_compat.py:115: UserWarning: The Shapely GEOS version (3.10.2-CAPI-1.16.0) is incompatible with the GEOS version PyGEOS was compiled with (3.10.1-CAPI-1.16.0). Conversions between both will be slow.\n",
            "  shapely_geos_version, geos_capi_version_string\n"
          ]
        }
      ],
      "source": [
        "from pyrosm import OSM, get_data\n",
        "import geopandas as gpd\n",
        "import pandas as pd\n",
        "from sklearn.neighbors import BallTree\n",
        "import numpy as np\n",
        "import mapclassify as mc\n",
        "import matplotlib.pyplot as plt\n",
        "import time\n",
        "import networkx as nx\n",
        "import igraph as ig\n",
        "import osmnx as ox\n",
        "import folium\n",
        "import json"
      ]
    },
    {
      "cell_type": "code",
      "source": [
        "osm = OSM(get_data(\"Southern California\"))\n",
        "\n",
        "graph_type = {}\n",
        "\n",
        "n_drive,  e_drive = osm.get_network(nodes=True, network_type=\"driving\")\n",
        "n_cycling, e_cycling   = osm.get_network(nodes=True, network_type=\"cycling\")\n",
        "n_walk,   e_walk       = osm.get_network(nodes=True, network_type=\"walking\")\n",
        "n_service, e_service   = osm.get_network(nodes=True, network_type=\"driving+service\")\n",
        "\n",
        "graph_type['drive']     = ox.add_edge_travel_times(ox.add_edge_speeds(osm.to_graph(n_drive, e_drive,  graph_type=\"networkx\")), extra_kwargs={\"hv\":{\"car\":120}})\n",
        "graph_type['walk']   = ox.add_edge_travel_times(ox.add_edge_speeds(osm.to_graph(n_walk, e_walk, graph_type=\"networkx\")))\n",
        "graph_type['cycle']   = ox.add_edge_travel_times(ox.add_edge_speeds(osm.to_graph(n_cycling, e_cycling, graph_type=\"networkx\")))\n",
        "graph_type['service']   = ox.add_edge_travel_times(ox.add_edge_speeds(osm.to_graph(n_service, e_service, graph_type=\"networkx\")))\n",
        "\n",
        "\n",
        "\n",
        "def get_route(source_geo, dest_geo, go_type='drive', weight='travel_time',plot=True):\n",
        "    source_node = ox.get_nearest_node(graph_type[go_type], source_geo)\n",
        "    target_node = ox.get_nearest_node(graph_type[go_type], dest_geo)\n",
        "\n",
        "    route = nx.shortest_path(graph_type[go_type], source_node, target_node, weight=weight)\n",
        "    \n",
        "    edge_lengths = ox.utils_graph.get_route_edge_attributes(graph_type[go_type], route, 'length') \n",
        "    edge_travel_time = ox.utils_graph.get_route_edge_attributes( graph_type[go_type], route, 'travel_time') \n",
        "    total_route_length = round(sum(edge_lengths), 1)\n",
        "    route_travel_time  = round(sum(edge_travel_time)/60, 2)\n",
        "    if plot:\n",
        "      ox.plot_graph_route(graph_type[go_type], route, node_size=0, figsize=(40,40))\n",
        "    return route, total_route_length, route_travel_time"
      ],
      "metadata": {
        "colab": {
          "base_uri": "https://localhost:8080/"
        },
        "id": "aFFteE9YV0Ro",
        "outputId": "013b640f-cf7b-4a23-dda8-3c704cf06bcb"
      },
      "execution_count": null,
      "outputs": [
        {
          "output_type": "stream",
          "name": "stdout",
          "text": [
            "Downloaded Protobuf data 'socal-latest.osm.pbf' (494.62 MB) to:\n",
            "'/tmp/pyrosm/socal-latest.osm.pbf'\n"
          ]
        }
      ]
    },
    {
      "cell_type": "code",
      "source": [
        "hospitals = [\n",
        "    {\n",
        "       \"id\":\"1\",\n",
        "       \"name\":\"Southern California Hospital at Hollywood\",\n",
        "       \"lat\":\"34.1118016\",\n",
        "       \"long\":\"-118.2848717\",\n",
        "       \"score\":68,\n",
        "       \"empty_bed\":10,\n",
        "       \"specialities\":[\n",
        "           \"eye\",\n",
        "           \"ear\"\n",
        "       ]\n",
        "    },\n",
        "    {\n",
        "       \"id\":\"2\",\n",
        "       \"name\":\"Keck Hospital of USC\",\n",
        "       \"lat\":\"35.7131699\", \n",
        "       \"long\":\"51.3784919\",\n",
        "       \"score\":30,\n",
        "       \"empty_bed\":20,\n",
        "       \"specialities\":[\n",
        "           \"eye\",\n",
        "           \"ear\"\n",
        "        ]\n",
        "    },\n",
        "    {\n",
        "       \"id\":\"3\",\n",
        "       \"name\":\"Southern California Hospital at Culver City\",\n",
        "       \"lat\":\"35.7131699\", \n",
        "       \"long\":\"51.3784919\",\n",
        "       \"score\":32,\n",
        "       \"empty_bed\":30,\n",
        "       \"specialities\":[\n",
        "           \"eye\",\n",
        "           \"ear\"\n",
        "        ]\n",
        "    },\n",
        "    {\n",
        "       \"id\":\"4\",\n",
        "       \"name\":\"Dignity Health - California Hospital Medical Center\",\n",
        "       \"lat\":\"36.38220428075101\", \n",
        "       \"long\":\"-119.01566748685103\",\n",
        "       \"score\":53,\n",
        "       \"empty_bed\":66,\n",
        "       \"specialities\":[\n",
        "           \"eye\",\n",
        "           \"ear\"\n",
        "        ]\n",
        "    },\n",
        "    {\n",
        "       \"id\":\"5\",\n",
        "       \"name\":\"LAC+USC Medical Center\",\n",
        "       \"lat\":\"33.93997997052091\", \n",
        "       \"long\":\"-118.63514061133456\",\n",
        "       \"score\":43,\n",
        "       \"empty_bed\":33,\n",
        "       \"specialities\":[\n",
        "            \"eye\",\n",
        "            \"ear\"\n",
        "        ]\n",
        "    }\n",
        "]"
      ],
      "metadata": {
        "id": "chGYTPTMd_Sk"
      },
      "execution_count": null,
      "outputs": []
    },
    {
      "cell_type": "code",
      "source": [
        "if __name__ == \"main\":\n",
        "#   hospitals = json.loads(\"hospitals.json\") # read from api hospitals list\n",
        "  source_loc = (34.018255, -118.313290) # just for test you must get it from gps\n",
        "  nearest_hospitals = []\n",
        "  for hospital in hospitals:\n",
        "    hospital_loc = (hospital['lat'], hospital['long'])\n",
        "    hospital_score = hospital['score'] # this is score of hospital in api just for rating\n",
        "    route, route_lenght, route_time = get_route(source_loc, hospital_loc)\n",
        "    # route_lenght -> distance between us and hospital in meter\n",
        "    # route_time   -> duration of startpoint to hospital in minutes\n",
        "    # route        -> array of point by point to hospital \n",
        "    hospital_score -= (route_time * 5) # dec 5 score per minute to arrive at the hospital\n",
        "    nearest_hospitals.append({'id':hospital['id'],'score': hospital_score})\n",
        "  newlist = sorted(nearest_hospitals, key=lambda d: d['score'], reverse=True) \n",
        "  print(newlist)\n",
        "  # new list is most populer and nearst hospital from start point"
      ],
      "metadata": {
        "id": "KF1siHpRd7vH"
      },
      "execution_count": null,
      "outputs": []
    }
  ]
}