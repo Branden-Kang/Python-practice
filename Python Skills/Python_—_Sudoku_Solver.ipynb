{
  "nbformat": 4,
  "nbformat_minor": 0,
  "metadata": {
    "colab": {
      "provenance": [],
      "authorship_tag": "ABX9TyPewIpP9AQIGyj+pgLqQHvJ"
    },
    "kernelspec": {
      "name": "python3",
      "display_name": "Python 3"
    },
    "language_info": {
      "name": "python"
    }
  },
  "cells": [
    {
      "cell_type": "markdown",
      "source": [
        "[Reference](https://medium.com/@techwithjulles/python-sudoku-solver-d034eedb2e8d)"
      ],
      "metadata": {
        "id": "JwnuoJydpN2h"
      }
    },
    {
      "cell_type": "code",
      "execution_count": 1,
      "metadata": {
        "id": "iXgtXMjIpFUJ"
      },
      "outputs": [],
      "source": [
        "import random\n",
        "\n",
        "\n",
        "def generate_sudoku():\n",
        "  # Initialize an empty board\n",
        "  board = [[0 for _ in range(9)] for _ in range(9)]\n",
        "\n",
        "  # Fill in the diagonal boxes\n",
        "  for i in range(0, 9, 3):\n",
        "    nums = [1, 2, 3, 4, 5, 6, 7, 8, 9]\n",
        "    random.shuffle(nums)\n",
        "    for j in range(3):\n",
        "      for k in range(3):\n",
        "        board[i + j][i + k] = nums.pop()\n",
        "\n",
        "  # Solve the puzzle\n",
        "  solve_sudoku(board)\n",
        "\n",
        "  # Remove some numbers from the board to create a puzzle\n",
        "  empty_cells = 45  # Number of empty cells in the puzzle\n",
        "  while empty_cells > 0:\n",
        "    row = random.randint(0, 8)\n",
        "    col = random.randint(0, 8)\n",
        "    if board[row][col] != 0:\n",
        "      board[row][col] = 0\n",
        "      empty_cells -= 1\n",
        "\n",
        "  return board\n",
        "\n",
        "\n",
        "def solve_sudoku(board):\n",
        "  # Find the next empty cell\n",
        "  row, col = find_empty_cell(board)\n",
        "  if row == -1:  # If there are no empty cells left, the puzzle is solved\n",
        "    return True\n",
        "\n",
        "  # Try each possible value for the empty cell\n",
        "  for num in range(1, 10):\n",
        "    if is_valid_move(board, row, col, num):\n",
        "      # Place the number in the empty cell\n",
        "      board[row][col] = num\n",
        "\n",
        "      # Recursively solve the puzzle\n",
        "      if solve_sudoku(board):\n",
        "        return True\n",
        "\n",
        "      # If the puzzle cannot be solved with this number, remove it\n",
        "      board[row][col] = 0\n",
        "\n",
        "  # If none of the possible numbers work, backtrack\n",
        "  return False\n",
        "\n",
        "\n",
        "def find_empty_cell(board):\n",
        "  for row in range(9):\n",
        "    for col in range(9):\n",
        "      if board[row][col] == 0:\n",
        "        return row, col\n",
        "  return -1, -1  # If there are no empty cells left, return -1\n",
        "\n",
        "\n",
        "def is_valid_move(board, row, col, num):\n",
        "  # Check if the number is already in the row\n",
        "  for i in range(9):\n",
        "    if board[row][i] == num:\n",
        "      return False\n",
        "\n",
        "  # Check if the number is already in the column\n",
        "  for i in range(9):\n",
        "    if board[i][col] == num:\n",
        "      return False\n",
        "\n",
        "  # Check if the number is already in the 3x3 box\n",
        "  box_row = (row // 3) * 3\n",
        "  box_col = (col // 3) * 3\n",
        "  for i in range(box_row, box_row + 3):\n",
        "    for j in range(box_col, box_col + 3):\n",
        "      if board[i][j] == num:\n",
        "        return False\n",
        "\n",
        "  return True\n",
        "\n",
        "\n",
        "def print_board(board):\n",
        "  for row in board:\n",
        "    print(row)"
      ]
    },
    {
      "cell_type": "code",
      "source": [
        "# Generate a Sudoku puzzle\n",
        "board = generate_sudoku()\n",
        "\n",
        "# Print the puzzle\n",
        "print(\"Puzzle:\")\n",
        "print_board(board)\n",
        "\n",
        "# Solve the puzzle\n",
        "if solve_sudoku(board):\n",
        "  print(\"Solved:\")\n",
        "  print_board(board)\n",
        "else:\n",
        "  print(\"Unsolvable puzzle.\")"
      ],
      "metadata": {
        "colab": {
          "base_uri": "https://localhost:8080/"
        },
        "id": "D0s400mqpRUr",
        "outputId": "e2a9ccc0-4c93-46c1-d5d9-7ea6bbeaabc2"
      },
      "execution_count": 2,
      "outputs": [
        {
          "output_type": "stream",
          "name": "stdout",
          "text": [
            "Puzzle:\n",
            "[0, 0, 0, 0, 0, 0, 8, 7, 9]\n",
            "[9, 3, 0, 0, 2, 7, 4, 5, 0]\n",
            "[0, 0, 0, 0, 0, 9, 2, 3, 1]\n",
            "[0, 0, 0, 0, 7, 0, 0, 0, 0]\n",
            "[3, 1, 7, 0, 9, 6, 0, 0, 4]\n",
            "[6, 4, 0, 0, 0, 0, 1, 2, 0]\n",
            "[0, 5, 3, 9, 0, 4, 7, 1, 0]\n",
            "[0, 9, 0, 0, 1, 0, 3, 0, 0]\n",
            "[0, 2, 0, 0, 0, 3, 0, 0, 8]\n",
            "Solved:\n",
            "[1, 6, 2, 3, 4, 5, 8, 7, 9]\n",
            "[9, 3, 8, 1, 2, 7, 4, 5, 6]\n",
            "[5, 7, 4, 6, 8, 9, 2, 3, 1]\n",
            "[2, 8, 5, 4, 7, 1, 6, 9, 3]\n",
            "[3, 1, 7, 2, 9, 6, 5, 8, 4]\n",
            "[6, 4, 9, 5, 3, 8, 1, 2, 7]\n",
            "[8, 5, 3, 9, 6, 4, 7, 1, 2]\n",
            "[7, 9, 6, 8, 1, 2, 3, 4, 5]\n",
            "[4, 2, 1, 7, 5, 3, 9, 6, 8]\n"
          ]
        }
      ]
    }
  ]
}
