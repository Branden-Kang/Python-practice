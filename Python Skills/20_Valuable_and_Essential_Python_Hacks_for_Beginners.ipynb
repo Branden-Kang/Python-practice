{
  "nbformat": 4,
  "nbformat_minor": 0,
  "metadata": {
    "colab": {
      "name": "20 Valuable and Essential Python Hacks for Beginners.ipynb",
      "provenance": [],
      "authorship_tag": "ABX9TyNjW8afqcxw4RZOh+VRh4dZ"
    },
    "kernelspec": {
      "name": "python3",
      "display_name": "Python 3"
    }
  },
  "cells": [
    {
      "cell_type": "markdown",
      "metadata": {
        "id": "-urKF_2-x1NC"
      },
      "source": [
        "[Reference](https://medium.com/better-programming/20-valuable-and-essential-python-hacks-for-beginners-112954560aff)"
      ]
    },
    {
      "cell_type": "markdown",
      "metadata": {
        "id": "2qcjlB4zx3o7"
      },
      "source": [
        "# 1. Swapping values"
      ]
    },
    {
      "cell_type": "code",
      "metadata": {
        "id": "0Fbab5RPxyso",
        "outputId": "64360b4b-09a5-4edd-a53f-edadd7aeedf8",
        "colab": {
          "base_uri": "https://localhost:8080/"
        }
      },
      "source": [
        "a, b= 5, 10\n",
        "print(a, b) \n",
        "a, b= b, a\n",
        "print(a, b)"
      ],
      "execution_count": 1,
      "outputs": [
        {
          "output_type": "stream",
          "text": [
            "5 10\n",
            "10 5\n"
          ],
          "name": "stdout"
        }
      ]
    },
    {
      "cell_type": "markdown",
      "metadata": {
        "id": "8TWoHxWAx8M5"
      },
      "source": [
        "# 2. One string of all items within a list"
      ]
    },
    {
      "cell_type": "code",
      "metadata": {
        "id": "yUxdq34ux4zU",
        "outputId": "24794e52-7548-4020-853d-aa4b3ba52dfd",
        "colab": {
          "base_uri": "https://localhost:8080/"
        }
      },
      "source": [
        "p = [\"Python\", \"is\", \"a\", \"popular\", \"language\"] \n",
        "print(\" \".join(p))"
      ],
      "execution_count": 2,
      "outputs": [
        {
          "output_type": "stream",
          "text": [
            "Python is a popular language\n"
          ],
          "name": "stdout"
        }
      ]
    },
    {
      "cell_type": "markdown",
      "metadata": {
        "id": "Weurgp5_x-nI"
      },
      "source": [
        "# 3. Most common element in the list"
      ]
    },
    {
      "cell_type": "code",
      "metadata": {
        "id": "KrjQujwdx9xG",
        "outputId": "f15b4905-247d-44b1-cdbf-aad4c30e2452",
        "colab": {
          "base_uri": "https://localhost:8080/"
        }
      },
      "source": [
        "list1 = [0, 1, 2, 3, 3, 2, 3, 1, 4, 5, 4] \n",
        "print(max(set(list1), key = list1.count))"
      ],
      "execution_count": 3,
      "outputs": [
        {
          "output_type": "stream",
          "text": [
            "3\n"
          ],
          "name": "stdout"
        }
      ]
    },
    {
      "cell_type": "markdown",
      "metadata": {
        "id": "RaQT-R-SyBNQ"
      },
      "source": [
        "# 4. Test if two strings are anagrams"
      ]
    },
    {
      "cell_type": "code",
      "metadata": {
        "id": "8SqhB5HByAYv"
      },
      "source": [
        "def anagram(string_1, string_2):     \n",
        "    \"\"\"Test if the strings are anagrams.     \n",
        "    string_1: string     \n",
        "    string_2: string     \n",
        "    returns: boolean     \n",
        "    \"\"\""
      ],
      "execution_count": 4,
      "outputs": []
    },
    {
      "cell_type": "code",
      "metadata": {
        "id": "aw8FvQ2OyC95",
        "outputId": "4e9a078c-f02f-418b-f796-bd1dc4e9651a",
        "colab": {
          "base_uri": "https://localhost:8080/"
        }
      },
      "source": [
        "from collections import Counter \n",
        "def anagram(string_1, string_2):      \n",
        "     return Counter(string_1) == Counter(string_2)\n",
        "anagram('pqrs','rqsp') "
      ],
      "execution_count": 5,
      "outputs": [
        {
          "output_type": "execute_result",
          "data": {
            "text/plain": [
              "True"
            ]
          },
          "metadata": {
            "tags": []
          },
          "execution_count": 5
        }
      ]
    },
    {
      "cell_type": "code",
      "metadata": {
        "id": "GnoESRnuyGnY",
        "outputId": "ab41accb-4b02-4f37-f988-ced82715b218",
        "colab": {
          "base_uri": "https://localhost:8080/"
        }
      },
      "source": [
        "anagram('pqrs','rqqs') "
      ],
      "execution_count": 6,
      "outputs": [
        {
          "output_type": "execute_result",
          "data": {
            "text/plain": [
              "False"
            ]
          },
          "metadata": {
            "tags": []
          },
          "execution_count": 6
        }
      ]
    },
    {
      "cell_type": "markdown",
      "metadata": {
        "id": "eHpZXRvpyIL5"
      },
      "source": [
        "# 5. Reverse a string"
      ]
    },
    {
      "cell_type": "code",
      "metadata": {
        "id": "i8EMrhkFyHYc",
        "outputId": "aa71daca-34e1-4012-89df-44697e5c3d9d",
        "colab": {
          "base_uri": "https://localhost:8080/"
        }
      },
      "source": [
        "str = \"PQRST\"\n",
        "reverse_str = str[::-1]\n",
        "print(reverse_str)"
      ],
      "execution_count": 7,
      "outputs": [
        {
          "output_type": "stream",
          "text": [
            "TSRQP\n"
          ],
          "name": "stdout"
        }
      ]
    },
    {
      "cell_type": "markdown",
      "metadata": {
        "id": "ED10XAa5yKEw"
      },
      "source": [
        "# 6. Reverse a list"
      ]
    },
    {
      "cell_type": "code",
      "metadata": {
        "id": "f2rAd4WSyJSI",
        "outputId": "bf35798f-ecdd-4074-9e2e-d5182e20d276",
        "colab": {
          "base_uri": "https://localhost:8080/"
        }
      },
      "source": [
        "def Reverse(lst): \n",
        " lst1 = lst[::-1] \n",
        " return lst1\n",
        " \n",
        "lst = [5, 6, 7, 8, 9, 10] \n",
        "print(Reverse(lst))"
      ],
      "execution_count": 8,
      "outputs": [
        {
          "output_type": "stream",
          "text": [
            "[10, 9, 8, 7, 6, 5]\n"
          ],
          "name": "stdout"
        }
      ]
    },
    {
      "cell_type": "markdown",
      "metadata": {
        "id": "Y6_VKWzNyMyP"
      },
      "source": [
        "# 7. Transpose a matrix"
      ]
    },
    {
      "cell_type": "code",
      "metadata": {
        "id": "xUUl3VR1yLYV",
        "outputId": "8c9ed866-6002-4d03-86c1-7fba1560baa8",
        "colab": {
          "base_uri": "https://localhost:8080/"
        }
      },
      "source": [
        "mat=[(5,6,7),(8,9,10),(11,12,13),(14,15,16)] \n",
        "for row in mat: \n",
        "    print(row) \n",
        "print(\"\\n\") \n",
        "t_mat = zip(*mat) \n",
        "for row in t_mat: \n",
        "    print(row)"
      ],
      "execution_count": 9,
      "outputs": [
        {
          "output_type": "stream",
          "text": [
            "(5, 6, 7)\n",
            "(8, 9, 10)\n",
            "(11, 12, 13)\n",
            "(14, 15, 16)\n",
            "\n",
            "\n",
            "(5, 8, 11, 14)\n",
            "(6, 9, 12, 15)\n",
            "(7, 10, 13, 16)\n"
          ],
          "name": "stdout"
        }
      ]
    },
    {
      "cell_type": "code",
      "metadata": {
        "id": "wSkLFGcXyVvj"
      },
      "source": [
        "x = [(1,2,3),(4,5,6)]"
      ],
      "execution_count": 10,
      "outputs": []
    },
    {
      "cell_type": "code",
      "metadata": {
        "id": "Mifo9s8_yP6j",
        "outputId": "718d1cd9-916c-4b28-cc1b-e614064979eb",
        "colab": {
          "base_uri": "https://localhost:8080/"
        }
      },
      "source": [
        "print(list(zip(*x)))"
      ],
      "execution_count": 11,
      "outputs": [
        {
          "output_type": "stream",
          "text": [
            "[(1, 4), (2, 5), (3, 6)]\n"
          ],
          "name": "stdout"
        }
      ]
    },
    {
      "cell_type": "markdown",
      "metadata": {
        "id": "PVub0aHpynKw"
      },
      "source": [
        "# 8. Chained comparison"
      ]
    },
    {
      "cell_type": "code",
      "metadata": {
        "id": "ko33-uFmyYxl",
        "outputId": "b21f62e8-8dd6-489e-c619-5b40bd1b56d4",
        "colab": {
          "base_uri": "https://localhost:8080/"
        }
      },
      "source": [
        "a = 3\n",
        "print(1 < a< 10) \n",
        "print(5 < a< 15) \n",
        "print(a < 7< a*7 < 49) \n",
        "print(8 > a<= 6) \n",
        "print(3 == a> 2)"
      ],
      "execution_count": 12,
      "outputs": [
        {
          "output_type": "stream",
          "text": [
            "True\n",
            "False\n",
            "True\n",
            "True\n",
            "True\n"
          ],
          "name": "stdout"
        }
      ]
    },
    {
      "cell_type": "markdown",
      "metadata": {
        "id": "yj61IAr1yqdo"
      },
      "source": [
        "# 9. Dictionary ‘get’"
      ]
    },
    {
      "cell_type": "code",
      "metadata": {
        "id": "RNstPetoypfr",
        "outputId": "93a13804-ed8b-42f9-e356-248bd49be2f4",
        "colab": {
          "base_uri": "https://localhost:8080/",
          "height": 215
        }
      },
      "source": [
        "dict = {\"P\":1, \"Q\":2} \n",
        "print(dict[\"P\"]) \n",
        "print(dict[\"R\"])"
      ],
      "execution_count": 13,
      "outputs": [
        {
          "output_type": "stream",
          "text": [
            "1\n"
          ],
          "name": "stdout"
        },
        {
          "output_type": "error",
          "ename": "KeyError",
          "evalue": "ignored",
          "traceback": [
            "\u001b[0;31m---------------------------------------------------------------------------\u001b[0m",
            "\u001b[0;31mKeyError\u001b[0m                                  Traceback (most recent call last)",
            "\u001b[0;32m<ipython-input-13-6470961b7d16>\u001b[0m in \u001b[0;36m<module>\u001b[0;34m()\u001b[0m\n\u001b[1;32m      1\u001b[0m \u001b[0mdict\u001b[0m \u001b[0;34m=\u001b[0m \u001b[0;34m{\u001b[0m\u001b[0;34m\"P\"\u001b[0m\u001b[0;34m:\u001b[0m\u001b[0;36m1\u001b[0m\u001b[0;34m,\u001b[0m \u001b[0;34m\"Q\"\u001b[0m\u001b[0;34m:\u001b[0m\u001b[0;36m2\u001b[0m\u001b[0;34m}\u001b[0m\u001b[0;34m\u001b[0m\u001b[0;34m\u001b[0m\u001b[0m\n\u001b[1;32m      2\u001b[0m \u001b[0mprint\u001b[0m\u001b[0;34m(\u001b[0m\u001b[0mdict\u001b[0m\u001b[0;34m[\u001b[0m\u001b[0;34m\"P\"\u001b[0m\u001b[0;34m]\u001b[0m\u001b[0;34m)\u001b[0m\u001b[0;34m\u001b[0m\u001b[0;34m\u001b[0m\u001b[0m\n\u001b[0;32m----> 3\u001b[0;31m \u001b[0mprint\u001b[0m\u001b[0;34m(\u001b[0m\u001b[0mdict\u001b[0m\u001b[0;34m[\u001b[0m\u001b[0;34m\"R\"\u001b[0m\u001b[0;34m]\u001b[0m\u001b[0;34m)\u001b[0m\u001b[0;34m\u001b[0m\u001b[0;34m\u001b[0m\u001b[0m\n\u001b[0m",
            "\u001b[0;31mKeyError\u001b[0m: 'R'"
          ]
        }
      ]
    },
    {
      "cell_type": "code",
      "metadata": {
        "id": "RrBeWpC3yrkb",
        "outputId": "98ec8577-bfac-4c8e-a497-37c1f3425f3a",
        "colab": {
          "base_uri": "https://localhost:8080/"
        }
      },
      "source": [
        "dict = {\"P\":1, \"Q\":2} \n",
        "print(dict.get(\"P\")) \n",
        "print(dict.get(\"R\")) \n",
        "print(dict.get(\"R\",\"Unavailable! \"))"
      ],
      "execution_count": 14,
      "outputs": [
        {
          "output_type": "stream",
          "text": [
            "1\n",
            "None\n",
            "Unavailable! \n"
          ],
          "name": "stdout"
        }
      ]
    },
    {
      "cell_type": "markdown",
      "metadata": {
        "id": "g7P98Icuyv8D"
      },
      "source": [
        "# 10. Sort dictionary by value\n",
        "Construct a dictionary, as well as show all keys in alphabetical order. List both the alphabetically sorted keys and values by the value."
      ]
    },
    {
      "cell_type": "markdown",
      "metadata": {
        "id": "sQATyzUb0pnU"
      },
      "source": [
        "# 11. List comprehension"
      ]
    },
    {
      "cell_type": "code",
      "metadata": {
        "id": "KB4FMqxRy4nJ",
        "outputId": "0abcf3e0-2210-4a90-ae3f-f2dc4f06f64e",
        "colab": {
          "base_uri": "https://localhost:8080/"
        }
      },
      "source": [
        "list1 = [2,4,6,8]\n",
        "list2 = [3*p for p in list1]\n",
        "print(list2)"
      ],
      "execution_count": 15,
      "outputs": [
        {
          "output_type": "stream",
          "text": [
            "[6, 12, 18, 24]\n"
          ],
          "name": "stdout"
        }
      ]
    },
    {
      "cell_type": "markdown",
      "metadata": {
        "id": "e5lFa0rK0t8S"
      },
      "source": [
        "# 12. Time consumed to implement a part of the program"
      ]
    },
    {
      "cell_type": "code",
      "metadata": {
        "id": "L95lt8oc0tOf",
        "outputId": "bb6050f3-c3a5-4f69-f21c-b797329dec31",
        "colab": {
          "base_uri": "https://localhost:8080/"
        }
      },
      "source": [
        "import time\n",
        "initial_Time = time.time()\n",
        "# Program to test follows\n",
        "x, y= 5,6\n",
        "z = x+ y\n",
        "# Program to test ending\n",
        "ending_Time = time.time()\n",
        "Time_lapsed_in_Micro_sec = (ending_Time- initial_Time)*(10**6)\n",
        "Time_lapsed_in_Micro_sec"
      ],
      "execution_count": 16,
      "outputs": [
        {
          "output_type": "execute_result",
          "data": {
            "text/plain": [
              "45.7763671875"
            ]
          },
          "metadata": {
            "tags": []
          },
          "execution_count": 16
        }
      ]
    },
    {
      "cell_type": "markdown",
      "metadata": {
        "id": "DdInh_3P04j4"
      },
      "source": [
        "# 13. Merge dictionaries"
      ]
    },
    {
      "cell_type": "code",
      "metadata": {
        "id": "U1-ce8CL0wAa",
        "outputId": "1c0d4c81-112a-4776-a3a5-f17363407b4f",
        "colab": {
          "base_uri": "https://localhost:8080/"
        }
      },
      "source": [
        "dic1 = {'men': 6, 'boy': 5}\n",
        "dic2 = {'boy': 3, 'girl': 5}\n",
        "merged_dic = {**dic1, **dic2}\n",
        "print(merged_dic)"
      ],
      "execution_count": 17,
      "outputs": [
        {
          "output_type": "stream",
          "text": [
            "{'men': 6, 'boy': 3, 'girl': 5}\n"
          ],
          "name": "stdout"
        }
      ]
    },
    {
      "cell_type": "markdown",
      "metadata": {
        "id": "tZTk0DsX06o9"
      },
      "source": [
        "# 14. Digitize"
      ]
    },
    {
      "cell_type": "code",
      "metadata": {
        "id": "Y1d13LFOm-_d",
        "outputId": "69b35043-24e7-465e-8074-8de13a485e91",
        "colab": {
          "base_uri": "https://localhost:8080/",
          "height": 181
        }
      },
      "source": [
        "number = 2468\n",
        "number"
      ],
      "execution_count": 22,
      "outputs": [
        {
          "output_type": "error",
          "ename": "AttributeError",
          "evalue": "ignored",
          "traceback": [
            "\u001b[0;31m---------------------------------------------------------------------------\u001b[0m",
            "\u001b[0;31mAttributeError\u001b[0m                            Traceback (most recent call last)",
            "\u001b[0;32m<ipython-input-22-61303a29aacd>\u001b[0m in \u001b[0;36m<module>\u001b[0;34m()\u001b[0m\n\u001b[1;32m      1\u001b[0m \u001b[0mnumber\u001b[0m \u001b[0;34m=\u001b[0m \u001b[0;36m2468\u001b[0m\u001b[0;34m\u001b[0m\u001b[0;34m\u001b[0m\u001b[0m\n\u001b[0;32m----> 2\u001b[0;31m \u001b[0mnumber\u001b[0m\u001b[0;34m.\u001b[0m\u001b[0mastype\u001b[0m\u001b[0;34m(\u001b[0m\u001b[0mstr\u001b[0m\u001b[0;34m)\u001b[0m\u001b[0;34m\u001b[0m\u001b[0;34m\u001b[0m\u001b[0m\n\u001b[0m",
            "\u001b[0;31mAttributeError\u001b[0m: 'int' object has no attribute 'astype'"
          ]
        }
      ]
    },
    {
      "cell_type": "code",
      "metadata": {
        "id": "jxQZpnID052Y"
      },
      "source": [
        "number = 2468\n",
        "# with map\n",
        "digit_list = list(map(int, str(number)))\n",
        "print(digit_list)\n",
        "# with list comprehension\n",
        "digit_list = [int(a) for a in str(number)]\n",
        "print(digit_list)\n",
        "# Even simpler approach\n",
        "digit_list = list(str(number))\n",
        "print(digit_list)"
      ],
      "execution_count": 24,
      "outputs": []
    },
    {
      "cell_type": "markdown",
      "metadata": {
        "id": "hTVt2I321BiY"
      },
      "source": [
        "# 15. Test for uniqueness"
      ]
    },
    {
      "cell_type": "code",
      "metadata": {
        "id": "SeYWyVuv0826",
        "outputId": "ab60f4c4-f0bf-4b5b-e237-14fcf172fc11",
        "colab": {
          "base_uri": "https://localhost:8080/"
        }
      },
      "source": [
        "def uniq(list):\n",
        "    if len(list)==len(set(list)):\n",
        "        print(\"total items are unique\")\n",
        "    else:\n",
        "        print(\"List includes duplicate item\")\n",
        "uniq([0,2,4,6])\n",
        "# total items are unique\n",
        "uniq([1,3,3,5])"
      ],
      "execution_count": 25,
      "outputs": [
        {
          "output_type": "stream",
          "text": [
            "total items are unique\n",
            "List includes duplicate item\n"
          ],
          "name": "stdout"
        }
      ]
    },
    {
      "cell_type": "markdown",
      "metadata": {
        "id": "0F95DzO51E5P"
      },
      "source": [
        "# 16. Using enumeration"
      ]
    },
    {
      "cell_type": "code",
      "metadata": {
        "id": "nS4NBDsZ1C4m",
        "outputId": "97ef533f-616e-4655-fd5e-2abe7fddd268",
        "colab": {
          "base_uri": "https://localhost:8080/"
        }
      },
      "source": [
        "sample_list = [4, 5, 6]\n",
        "for j, item in enumerate(sample_list):\n",
        "\tprint(j, ': ', item)"
      ],
      "execution_count": 26,
      "outputs": [
        {
          "output_type": "stream",
          "text": [
            "0 :  4\n",
            "1 :  5\n",
            "2 :  6\n"
          ],
          "name": "stdout"
        }
      ]
    },
    {
      "cell_type": "markdown",
      "metadata": {
        "id": "sF0Qvpad1HFQ"
      },
      "source": [
        "# 17. Evaluate the factorial of any number in a single line"
      ]
    },
    {
      "cell_type": "code",
      "metadata": {
        "id": "6_0IlUQ11GJ-",
        "outputId": "177986c1-5788-4ce4-ea03-325561780ed7",
        "colab": {
          "base_uri": "https://localhost:8080/"
        }
      },
      "source": [
        "import functools\n",
        "fact = (lambda i: functools.reduce(int.__mul__, range(1,i+1),1)(4))\n",
        "\n",
        "fact"
      ],
      "execution_count": 27,
      "outputs": [
        {
          "output_type": "execute_result",
          "data": {
            "text/plain": [
              "<function __main__.<lambda>>"
            ]
          },
          "metadata": {
            "tags": []
          },
          "execution_count": 27
        }
      ]
    },
    {
      "cell_type": "markdown",
      "metadata": {
        "id": "p8dXMnt51YIG"
      },
      "source": [
        "# 18. Return several functions’ elements"
      ]
    },
    {
      "cell_type": "code",
      "metadata": {
        "id": "LnjyRaDw1JOF",
        "outputId": "5c9e52d3-3ebd-491b-dfbd-2a844372600a",
        "colab": {
          "base_uri": "https://localhost:8080/"
        }
      },
      "source": [
        "def a():\n",
        "\treturn 5, 6, 7, 8\n",
        "# Calling the above function.\n",
        "w, x, y, z= a()\n",
        "print(w, x, y, z)"
      ],
      "execution_count": 28,
      "outputs": [
        {
          "output_type": "stream",
          "text": [
            "5 6 7 8\n"
          ],
          "name": "stdout"
        }
      ]
    },
    {
      "cell_type": "markdown",
      "metadata": {
        "id": "aWuVSKIG1bF-"
      },
      "source": [
        "# 19. Incorporate a true Python switch-case statement"
      ]
    },
    {
      "cell_type": "code",
      "metadata": {
        "id": "v-lKRSyz1aKI",
        "outputId": "5ab33f80-8338-4c83-c0fb-0412c7f1ec6d",
        "colab": {
          "base_uri": "https://localhost:8080/"
        }
      },
      "source": [
        "def aswitch(a): \n",
        "\treturn aswitch._system_dic.get(a, None)\n",
        "aswitch._system_dic = {'mangoes': 4, 'apples': 6, 'oranges': 8}\n",
        "print(aswitch('default'))\n",
        "print(aswitch('oranges'))"
      ],
      "execution_count": 29,
      "outputs": [
        {
          "output_type": "stream",
          "text": [
            "None\n",
            "8\n"
          ],
          "name": "stdout"
        }
      ]
    },
    {
      "cell_type": "markdown",
      "metadata": {
        "id": "bdHw1dZk1dQ8"
      },
      "source": [
        "# 20. With splat operator unpacking function arguments"
      ]
    },
    {
      "cell_type": "code",
      "metadata": {
        "id": "cstpwgnB1cad",
        "outputId": "90e45fd5-a991-4571-e6bc-a5de3e4111cc",
        "colab": {
          "base_uri": "https://localhost:8080/"
        }
      },
      "source": [
        "def test(a, b, c):\n",
        "    print(a, b, c)\n",
        "test_Dic = {'a': 4, 'b': 5, 'c': 6} \n",
        "test_List = [10, 11, 12]\n",
        "test(*test_Dic)\n",
        "test(**test_Dic)\n",
        "test(*test_List)"
      ],
      "execution_count": 30,
      "outputs": [
        {
          "output_type": "stream",
          "text": [
            "a b c\n",
            "4 5 6\n",
            "10 11 12\n"
          ],
          "name": "stdout"
        }
      ]
    }
  ]
}