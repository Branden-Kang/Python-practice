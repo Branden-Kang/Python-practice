{
  "nbformat": 4,
  "nbformat_minor": 0,
  "metadata": {
    "colab": {
      "name": "File Format - Feather.ipynb",
      "provenance": [],
      "authorship_tag": "ABX9TyN7ZYyeE5WxoBs1YhsMmQs3"
    },
    "kernelspec": {
      "name": "python3",
      "display_name": "Python 3"
    },
    "language_info": {
      "name": "python"
    }
  },
  "cells": [
    {
      "cell_type": "markdown",
      "metadata": {
        "id": "y0ZPoXOZwrMU"
      },
      "source": [
        "[Reference](https://towardsdatascience.com/stop-using-csvs-for-storage-this-file-format-is-150-times-faster-158bd322074e)"
      ]
    },
    {
      "cell_type": "code",
      "metadata": {
        "colab": {
          "base_uri": "https://localhost:8080/"
        },
        "id": "yYot_iOfwIM5",
        "outputId": "44fa429f-b05e-42f1-ee84-4074777f00e3"
      },
      "source": [
        "# Pip\n",
        "!pip install feather-format\n",
        "\n",
        "# Anaconda\n",
        "# conda install -c conda-forge feather-format"
      ],
      "execution_count": 2,
      "outputs": [
        {
          "output_type": "stream",
          "name": "stdout",
          "text": [
            "Requirement already satisfied: feather-format in /usr/local/lib/python3.7/dist-packages (0.4.1)\n",
            "Requirement already satisfied: pyarrow>=0.4.0 in /usr/local/lib/python3.7/dist-packages (from feather-format) (3.0.0)\n",
            "Requirement already satisfied: numpy>=1.16.6 in /usr/local/lib/python3.7/dist-packages (from pyarrow>=0.4.0->feather-format) (1.19.5)\n"
          ]
        }
      ]
    },
    {
      "cell_type": "code",
      "metadata": {
        "colab": {
          "base_uri": "https://localhost:8080/",
          "height": 204
        },
        "id": "w701QbtjwMLW",
        "outputId": "9a960b30-b09b-45ea-b293-fa4e4e5ff39e"
      },
      "source": [
        "import feather\n",
        "import numpy as np\n",
        "import pandas as pd\n",
        "\n",
        "np.random.seed = 42\n",
        "df_size = 10_000_000\n",
        "\n",
        "df = pd.DataFrame({\n",
        "    'a': np.random.rand(df_size),\n",
        "    'b': np.random.rand(df_size),\n",
        "    'c': np.random.rand(df_size),\n",
        "    'd': np.random.rand(df_size),\n",
        "    'e': np.random.rand(df_size)\n",
        "})\n",
        "df.head()"
      ],
      "execution_count": 3,
      "outputs": [
        {
          "output_type": "execute_result",
          "data": {
            "text/html": [
              "<div>\n",
              "<style scoped>\n",
              "    .dataframe tbody tr th:only-of-type {\n",
              "        vertical-align: middle;\n",
              "    }\n",
              "\n",
              "    .dataframe tbody tr th {\n",
              "        vertical-align: top;\n",
              "    }\n",
              "\n",
              "    .dataframe thead th {\n",
              "        text-align: right;\n",
              "    }\n",
              "</style>\n",
              "<table border=\"1\" class=\"dataframe\">\n",
              "  <thead>\n",
              "    <tr style=\"text-align: right;\">\n",
              "      <th></th>\n",
              "      <th>a</th>\n",
              "      <th>b</th>\n",
              "      <th>c</th>\n",
              "      <th>d</th>\n",
              "      <th>e</th>\n",
              "    </tr>\n",
              "  </thead>\n",
              "  <tbody>\n",
              "    <tr>\n",
              "      <th>0</th>\n",
              "      <td>0.659658</td>\n",
              "      <td>0.863879</td>\n",
              "      <td>0.835850</td>\n",
              "      <td>0.291780</td>\n",
              "      <td>0.404530</td>\n",
              "    </tr>\n",
              "    <tr>\n",
              "      <th>1</th>\n",
              "      <td>0.069656</td>\n",
              "      <td>0.544565</td>\n",
              "      <td>0.286784</td>\n",
              "      <td>0.360850</td>\n",
              "      <td>0.161545</td>\n",
              "    </tr>\n",
              "    <tr>\n",
              "      <th>2</th>\n",
              "      <td>0.612896</td>\n",
              "      <td>0.627702</td>\n",
              "      <td>0.506951</td>\n",
              "      <td>0.869151</td>\n",
              "      <td>0.855483</td>\n",
              "    </tr>\n",
              "    <tr>\n",
              "      <th>3</th>\n",
              "      <td>0.903759</td>\n",
              "      <td>0.235213</td>\n",
              "      <td>0.924350</td>\n",
              "      <td>0.462579</td>\n",
              "      <td>0.612130</td>\n",
              "    </tr>\n",
              "    <tr>\n",
              "      <th>4</th>\n",
              "      <td>0.913682</td>\n",
              "      <td>0.520012</td>\n",
              "      <td>0.869538</td>\n",
              "      <td>0.832040</td>\n",
              "      <td>0.682076</td>\n",
              "    </tr>\n",
              "  </tbody>\n",
              "</table>\n",
              "</div>"
            ],
            "text/plain": [
              "          a         b         c         d         e\n",
              "0  0.659658  0.863879  0.835850  0.291780  0.404530\n",
              "1  0.069656  0.544565  0.286784  0.360850  0.161545\n",
              "2  0.612896  0.627702  0.506951  0.869151  0.855483\n",
              "3  0.903759  0.235213  0.924350  0.462579  0.612130\n",
              "4  0.913682  0.520012  0.869538  0.832040  0.682076"
            ]
          },
          "metadata": {},
          "execution_count": 3
        }
      ]
    },
    {
      "cell_type": "code",
      "metadata": {
        "id": "zZo2nclvwTtP"
      },
      "source": [
        "df.to_feather('1M.feather')"
      ],
      "execution_count": 4,
      "outputs": []
    },
    {
      "cell_type": "code",
      "metadata": {
        "id": "zVqNeGvnwVSs"
      },
      "source": [
        "feather.write_dataframe(df, '1M.feather')"
      ],
      "execution_count": 5,
      "outputs": []
    },
    {
      "cell_type": "code",
      "metadata": {
        "id": "SfkNjgD2wWNn"
      },
      "source": [
        "df = pd.read_feather('1M.feather')"
      ],
      "execution_count": 6,
      "outputs": []
    },
    {
      "cell_type": "code",
      "metadata": {
        "colab": {
          "base_uri": "https://localhost:8080/",
          "height": 419
        },
        "id": "k3lzKtzfwXNq",
        "outputId": "2edfda47-1103-4ce5-9785-49ca39759d33"
      },
      "source": [
        "df"
      ],
      "execution_count": 7,
      "outputs": [
        {
          "output_type": "execute_result",
          "data": {
            "text/html": [
              "<div>\n",
              "<style scoped>\n",
              "    .dataframe tbody tr th:only-of-type {\n",
              "        vertical-align: middle;\n",
              "    }\n",
              "\n",
              "    .dataframe tbody tr th {\n",
              "        vertical-align: top;\n",
              "    }\n",
              "\n",
              "    .dataframe thead th {\n",
              "        text-align: right;\n",
              "    }\n",
              "</style>\n",
              "<table border=\"1\" class=\"dataframe\">\n",
              "  <thead>\n",
              "    <tr style=\"text-align: right;\">\n",
              "      <th></th>\n",
              "      <th>a</th>\n",
              "      <th>b</th>\n",
              "      <th>c</th>\n",
              "      <th>d</th>\n",
              "      <th>e</th>\n",
              "    </tr>\n",
              "  </thead>\n",
              "  <tbody>\n",
              "    <tr>\n",
              "      <th>0</th>\n",
              "      <td>0.659658</td>\n",
              "      <td>0.863879</td>\n",
              "      <td>0.835850</td>\n",
              "      <td>0.291780</td>\n",
              "      <td>0.404530</td>\n",
              "    </tr>\n",
              "    <tr>\n",
              "      <th>1</th>\n",
              "      <td>0.069656</td>\n",
              "      <td>0.544565</td>\n",
              "      <td>0.286784</td>\n",
              "      <td>0.360850</td>\n",
              "      <td>0.161545</td>\n",
              "    </tr>\n",
              "    <tr>\n",
              "      <th>2</th>\n",
              "      <td>0.612896</td>\n",
              "      <td>0.627702</td>\n",
              "      <td>0.506951</td>\n",
              "      <td>0.869151</td>\n",
              "      <td>0.855483</td>\n",
              "    </tr>\n",
              "    <tr>\n",
              "      <th>3</th>\n",
              "      <td>0.903759</td>\n",
              "      <td>0.235213</td>\n",
              "      <td>0.924350</td>\n",
              "      <td>0.462579</td>\n",
              "      <td>0.612130</td>\n",
              "    </tr>\n",
              "    <tr>\n",
              "      <th>4</th>\n",
              "      <td>0.913682</td>\n",
              "      <td>0.520012</td>\n",
              "      <td>0.869538</td>\n",
              "      <td>0.832040</td>\n",
              "      <td>0.682076</td>\n",
              "    </tr>\n",
              "    <tr>\n",
              "      <th>...</th>\n",
              "      <td>...</td>\n",
              "      <td>...</td>\n",
              "      <td>...</td>\n",
              "      <td>...</td>\n",
              "      <td>...</td>\n",
              "    </tr>\n",
              "    <tr>\n",
              "      <th>9999995</th>\n",
              "      <td>0.597385</td>\n",
              "      <td>0.075042</td>\n",
              "      <td>0.247008</td>\n",
              "      <td>0.261488</td>\n",
              "      <td>0.709833</td>\n",
              "    </tr>\n",
              "    <tr>\n",
              "      <th>9999996</th>\n",
              "      <td>0.485247</td>\n",
              "      <td>0.627313</td>\n",
              "      <td>0.129470</td>\n",
              "      <td>0.529333</td>\n",
              "      <td>0.287709</td>\n",
              "    </tr>\n",
              "    <tr>\n",
              "      <th>9999997</th>\n",
              "      <td>0.877610</td>\n",
              "      <td>0.973281</td>\n",
              "      <td>0.254596</td>\n",
              "      <td>0.631542</td>\n",
              "      <td>0.025624</td>\n",
              "    </tr>\n",
              "    <tr>\n",
              "      <th>9999998</th>\n",
              "      <td>0.321090</td>\n",
              "      <td>0.969953</td>\n",
              "      <td>0.605495</td>\n",
              "      <td>0.388423</td>\n",
              "      <td>0.724932</td>\n",
              "    </tr>\n",
              "    <tr>\n",
              "      <th>9999999</th>\n",
              "      <td>0.205484</td>\n",
              "      <td>0.639245</td>\n",
              "      <td>0.557358</td>\n",
              "      <td>0.659544</td>\n",
              "      <td>0.053563</td>\n",
              "    </tr>\n",
              "  </tbody>\n",
              "</table>\n",
              "<p>10000000 rows × 5 columns</p>\n",
              "</div>"
            ],
            "text/plain": [
              "                a         b         c         d         e\n",
              "0        0.659658  0.863879  0.835850  0.291780  0.404530\n",
              "1        0.069656  0.544565  0.286784  0.360850  0.161545\n",
              "2        0.612896  0.627702  0.506951  0.869151  0.855483\n",
              "3        0.903759  0.235213  0.924350  0.462579  0.612130\n",
              "4        0.913682  0.520012  0.869538  0.832040  0.682076\n",
              "...           ...       ...       ...       ...       ...\n",
              "9999995  0.597385  0.075042  0.247008  0.261488  0.709833\n",
              "9999996  0.485247  0.627313  0.129470  0.529333  0.287709\n",
              "9999997  0.877610  0.973281  0.254596  0.631542  0.025624\n",
              "9999998  0.321090  0.969953  0.605495  0.388423  0.724932\n",
              "9999999  0.205484  0.639245  0.557358  0.659544  0.053563\n",
              "\n",
              "[10000000 rows x 5 columns]"
            ]
          },
          "metadata": {},
          "execution_count": 7
        }
      ]
    },
    {
      "cell_type": "code",
      "metadata": {
        "id": "7utRLKArwYZb"
      },
      "source": [
        "df = feather.read_dataframe('1M.feather')"
      ],
      "execution_count": 8,
      "outputs": []
    },
    {
      "cell_type": "code",
      "metadata": {
        "colab": {
          "base_uri": "https://localhost:8080/",
          "height": 419
        },
        "id": "2B7HLdD9wYz0",
        "outputId": "16158e64-e271-49a4-ea69-9ca2d2100cb8"
      },
      "source": [
        "df"
      ],
      "execution_count": 9,
      "outputs": [
        {
          "output_type": "execute_result",
          "data": {
            "text/html": [
              "<div>\n",
              "<style scoped>\n",
              "    .dataframe tbody tr th:only-of-type {\n",
              "        vertical-align: middle;\n",
              "    }\n",
              "\n",
              "    .dataframe tbody tr th {\n",
              "        vertical-align: top;\n",
              "    }\n",
              "\n",
              "    .dataframe thead th {\n",
              "        text-align: right;\n",
              "    }\n",
              "</style>\n",
              "<table border=\"1\" class=\"dataframe\">\n",
              "  <thead>\n",
              "    <tr style=\"text-align: right;\">\n",
              "      <th></th>\n",
              "      <th>a</th>\n",
              "      <th>b</th>\n",
              "      <th>c</th>\n",
              "      <th>d</th>\n",
              "      <th>e</th>\n",
              "    </tr>\n",
              "  </thead>\n",
              "  <tbody>\n",
              "    <tr>\n",
              "      <th>0</th>\n",
              "      <td>0.659658</td>\n",
              "      <td>0.863879</td>\n",
              "      <td>0.835850</td>\n",
              "      <td>0.291780</td>\n",
              "      <td>0.404530</td>\n",
              "    </tr>\n",
              "    <tr>\n",
              "      <th>1</th>\n",
              "      <td>0.069656</td>\n",
              "      <td>0.544565</td>\n",
              "      <td>0.286784</td>\n",
              "      <td>0.360850</td>\n",
              "      <td>0.161545</td>\n",
              "    </tr>\n",
              "    <tr>\n",
              "      <th>2</th>\n",
              "      <td>0.612896</td>\n",
              "      <td>0.627702</td>\n",
              "      <td>0.506951</td>\n",
              "      <td>0.869151</td>\n",
              "      <td>0.855483</td>\n",
              "    </tr>\n",
              "    <tr>\n",
              "      <th>3</th>\n",
              "      <td>0.903759</td>\n",
              "      <td>0.235213</td>\n",
              "      <td>0.924350</td>\n",
              "      <td>0.462579</td>\n",
              "      <td>0.612130</td>\n",
              "    </tr>\n",
              "    <tr>\n",
              "      <th>4</th>\n",
              "      <td>0.913682</td>\n",
              "      <td>0.520012</td>\n",
              "      <td>0.869538</td>\n",
              "      <td>0.832040</td>\n",
              "      <td>0.682076</td>\n",
              "    </tr>\n",
              "    <tr>\n",
              "      <th>...</th>\n",
              "      <td>...</td>\n",
              "      <td>...</td>\n",
              "      <td>...</td>\n",
              "      <td>...</td>\n",
              "      <td>...</td>\n",
              "    </tr>\n",
              "    <tr>\n",
              "      <th>9999995</th>\n",
              "      <td>0.597385</td>\n",
              "      <td>0.075042</td>\n",
              "      <td>0.247008</td>\n",
              "      <td>0.261488</td>\n",
              "      <td>0.709833</td>\n",
              "    </tr>\n",
              "    <tr>\n",
              "      <th>9999996</th>\n",
              "      <td>0.485247</td>\n",
              "      <td>0.627313</td>\n",
              "      <td>0.129470</td>\n",
              "      <td>0.529333</td>\n",
              "      <td>0.287709</td>\n",
              "    </tr>\n",
              "    <tr>\n",
              "      <th>9999997</th>\n",
              "      <td>0.877610</td>\n",
              "      <td>0.973281</td>\n",
              "      <td>0.254596</td>\n",
              "      <td>0.631542</td>\n",
              "      <td>0.025624</td>\n",
              "    </tr>\n",
              "    <tr>\n",
              "      <th>9999998</th>\n",
              "      <td>0.321090</td>\n",
              "      <td>0.969953</td>\n",
              "      <td>0.605495</td>\n",
              "      <td>0.388423</td>\n",
              "      <td>0.724932</td>\n",
              "    </tr>\n",
              "    <tr>\n",
              "      <th>9999999</th>\n",
              "      <td>0.205484</td>\n",
              "      <td>0.639245</td>\n",
              "      <td>0.557358</td>\n",
              "      <td>0.659544</td>\n",
              "      <td>0.053563</td>\n",
              "    </tr>\n",
              "  </tbody>\n",
              "</table>\n",
              "<p>10000000 rows × 5 columns</p>\n",
              "</div>"
            ],
            "text/plain": [
              "                a         b         c         d         e\n",
              "0        0.659658  0.863879  0.835850  0.291780  0.404530\n",
              "1        0.069656  0.544565  0.286784  0.360850  0.161545\n",
              "2        0.612896  0.627702  0.506951  0.869151  0.855483\n",
              "3        0.903759  0.235213  0.924350  0.462579  0.612130\n",
              "4        0.913682  0.520012  0.869538  0.832040  0.682076\n",
              "...           ...       ...       ...       ...       ...\n",
              "9999995  0.597385  0.075042  0.247008  0.261488  0.709833\n",
              "9999996  0.485247  0.627313  0.129470  0.529333  0.287709\n",
              "9999997  0.877610  0.973281  0.254596  0.631542  0.025624\n",
              "9999998  0.321090  0.969953  0.605495  0.388423  0.724932\n",
              "9999999  0.205484  0.639245  0.557358  0.659544  0.053563\n",
              "\n",
              "[10000000 rows x 5 columns]"
            ]
          },
          "metadata": {},
          "execution_count": 9
        }
      ]
    }
  ]
}