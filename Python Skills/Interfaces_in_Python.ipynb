{
  "nbformat": 4,
  "nbformat_minor": 0,
  "metadata": {
    "colab": {
      "provenance": [],
      "authorship_tag": "ABX9TyNffu+GQ5NO/FcMxaZM2kU9"
    },
    "kernelspec": {
      "name": "python3",
      "display_name": "Python 3"
    },
    "language_info": {
      "name": "python"
    }
  },
  "cells": [
    {
      "cell_type": "markdown",
      "source": [
        "[Reference](https://medium.com/@restevean/interfaces-en-python-2a7365a9ba14)"
      ],
      "metadata": {
        "id": "nFNxzxHZL1EG"
      }
    },
    {
      "cell_type": "markdown",
      "source": [
        "# Interface in Python using abc"
      ],
      "metadata": {
        "id": "FWGUbgjHL5fx"
      }
    },
    {
      "cell_type": "code",
      "execution_count": 1,
      "metadata": {
        "colab": {
          "base_uri": "https://localhost:8080/"
        },
        "id": "GOdTwBabLy3_",
        "outputId": "4f9944aa-56ba-4848-c283-15722fb5d3b5"
      },
      "outputs": [
        {
          "output_type": "stream",
          "name": "stdout",
          "text": [
            "48.2744\n",
            "60.2744\n"
          ]
        }
      ],
      "source": [
        "from abc import ABC, abstractmethod\n",
        "\n",
        "class Shape(ABC):\n",
        "    @abstractmethod\n",
        "    def area(self) -> float:\n",
        "        pass\n",
        "\n",
        "class Circle(Shape):\n",
        "    def __init__(self, radius: float):\n",
        "        self.radius = radius\n",
        "    def area(self) -> float:\n",
        "        return 3.1416 * (self.radius ** 2)\n",
        "\n",
        "class Rectangle(Shape):\n",
        "    def __init__(self, width: float, height: float):\n",
        "        self.width = width\n",
        "        self.height = height\n",
        "    def area(self) -> float:\n",
        "        return self.width * self.height\n",
        "\n",
        "class Triangle(Shape):\n",
        "    def __init__(self, base: float, height: float):\n",
        "        self.base = base\n",
        "        self.height = height\n",
        "    def area(self) -> float:\n",
        "        return (self.base * self.height) / 2\n",
        "\n",
        "def total_area(shapes: list[Shape]) -> float:\n",
        "    return sum(shape.area() for shape in shapes)\n",
        "\n",
        "shapes = [Circle(3), Rectangle(4, 5)]\n",
        "print(total_area(shapes))\n",
        "\n",
        "shapes.append(Triangle(6, 4))\n",
        "print(total_area(shapes))"
      ]
    },
    {
      "cell_type": "markdown",
      "source": [
        "# Interface in Python using Protocol"
      ],
      "metadata": {
        "id": "j01_A7PPMA8I"
      }
    },
    {
      "cell_type": "code",
      "source": [
        "from typing import Protocol\n",
        "\n",
        "class Shape(Protocol):\n",
        "    def area(self) -> float:\n",
        "        ...\n",
        "class Circle:\n",
        "    def __init__(self, radius: float) -> None:\n",
        "        self.radius = radius\n",
        "    def area(self) -> float:\n",
        "        return 3.1416 * (self.radius ** 2)\n",
        "class Rectangle:\n",
        "    def __init__(self, width: float, height: float) -> None:\n",
        "        self.width = width\n",
        "        self.height = height\n",
        "    def area(self) -> float:\n",
        "        return self.width * self.height\n",
        "class Triangle:\n",
        "    def __init__(self, base: float, height: float) -> None:\n",
        "        self.base = base\n",
        "        self.height = height\n",
        "    def area(self) -> float:\n",
        "        return (self.base * self.height) / 2\n",
        "def total_area(shapes: list[Shape]) -> float:\n",
        "    return sum(shape.area() for shape in shapes)\n",
        "\n",
        "shapes = [Circle(3), Rectangle(4, 5)]\n",
        "print(total_area(shapes))\n",
        "\n",
        "shapes.append(Triangle(6, 4))\n",
        "print(total_area(shapes))"
      ],
      "metadata": {
        "colab": {
          "base_uri": "https://localhost:8080/"
        },
        "id": "e4iKMy0kL-D9",
        "outputId": "dc0a435b-eec1-454f-ee63-fdf3bb4a5429"
      },
      "execution_count": 2,
      "outputs": [
        {
          "output_type": "stream",
          "name": "stdout",
          "text": [
            "48.2744\n",
            "60.2744\n"
          ]
        }
      ]
    }
  ]
}
