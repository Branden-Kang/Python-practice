{
  "nbformat": 4,
  "nbformat_minor": 0,
  "metadata": {
    "colab": {
      "provenance": [],
      "authorship_tag": "ABX9TyN48DgIdJ9KGMQ3vhxFBgof"
    },
    "kernelspec": {
      "name": "python3",
      "display_name": "Python 3"
    },
    "language_info": {
      "name": "python"
    }
  },
  "cells": [
    {
      "cell_type": "markdown",
      "source": [
        "[Reference](https://python.plainenglish.io/async-programming-in-python-part-1-the-fundamentals-60cb280c6533)"
      ],
      "metadata": {
        "id": "UsWX0wjwRWWg"
      }
    },
    {
      "cell_type": "code",
      "execution_count": 1,
      "metadata": {
        "colab": {
          "base_uri": "https://localhost:8080/"
        },
        "id": "xoInc020RLOq",
        "outputId": "a91ccbec-d1fe-4b23-8010-5db33b7698af"
      },
      "outputs": [
        {
          "output_type": "stream",
          "name": "stdout",
          "text": [
            "Fetching from API endpoint 1...\n",
            "Fetching from API endpoint 2...\n",
            "Fetching from API endpoint 3...\n",
            "Results: Data from API endpoint 1, Data from API endpoint 2, Data from API endpoint 3\n",
            "Total time: 6.00 seconds\n"
          ]
        }
      ],
      "source": [
        "import time\n",
        "\n",
        "def fetch_data(source):\n",
        "    \"\"\"Simulate fetching data from an external source\"\"\"\n",
        "    print(f\"Fetching from {source}...\")\n",
        "    time.sleep(2)  # Simulate network delay\n",
        "    return f\"Data from {source}\"\n",
        "\n",
        "def main():\n",
        "    \"\"\"Traditional synchronous approach\"\"\"\n",
        "    start_time = time.time()\n",
        "\n",
        "    # Each operation blocks until complete\n",
        "    result1 = fetch_data(\"API endpoint 1\")\n",
        "    result2 = fetch_data(\"API endpoint 2\")\n",
        "    result3 = fetch_data(\"API endpoint 3\")\n",
        "\n",
        "    print(f\"Results: {result1}, {result2}, {result3}\")\n",
        "    print(f\"Total time: {time.time() - start_time:.2f} seconds\")\n",
        "\n",
        "if __name__ == \"__main__\":\n",
        "    main()\n"
      ]
    },
    {
      "cell_type": "code",
      "source": [
        "import asyncio\n",
        "import time\n",
        "\n",
        "async def fetch_data_async(source):\n",
        "    \"\"\"Simulate fetching data asynchronously\"\"\"\n",
        "    print(f\"Fetching from {source}...\")\n",
        "    await asyncio.sleep(2)  # Simulate async network delay\n",
        "    return f\"Data from {source}\"\n",
        "\n",
        "async def main():\n",
        "    \"\"\"Async approach using concurrent execution\"\"\"\n",
        "    start_time = time.time()\n",
        "\n",
        "    # All operations start simultaneously\n",
        "    results = await asyncio.gather(\n",
        "        fetch_data_async(\"API endpoint 1\"),\n",
        "        fetch_data_async(\"API endpoint 2\"),\n",
        "        fetch_data_async(\"API endpoint 3\")\n",
        "    )\n",
        "\n",
        "    print(f\"Results: {', '.join(results)}\")\n",
        "    print(f\"Total time: {time.time() - start_time:.2f} seconds\")\n",
        "\n",
        "if __name__ == \"__main__\":\n",
        "    asyncio.run(main())"
      ],
      "metadata": {
        "id": "TivDThfjRdsb"
      },
      "execution_count": 3,
      "outputs": []
    },
    {
      "cell_type": "code",
      "source": [
        "# Regular function\n",
        "def regular_function():\n",
        "    return \"Hello\"\n",
        "\n",
        "# Coroutine function\n",
        "async def async_function():\n",
        "    return \"Hello\""
      ],
      "metadata": {
        "id": "8Kjn3TWLRg6F"
      },
      "execution_count": 4,
      "outputs": []
    },
    {
      "cell_type": "code",
      "source": [
        "async def simple_coroutine():\n",
        "    await asyncio.sleep(1)\n",
        "    return \"Coroutine result\"\n",
        "\n",
        "# This creates a coroutine object, doesn't execute the function\n",
        "coro = simple_coroutine()\n",
        "print(type(coro))  # <class 'coroutine'>\n",
        "\n",
        "# To actually run it, you need await or asyncio.run()\n",
        "async def runner():\n",
        "    result = await simple_coroutine()\n",
        "    print(result)  # \"Coroutine result\"\n",
        "\n",
        "asyncio.run(runner())"
      ],
      "metadata": {
        "id": "wZUYetD7Rjk8"
      },
      "execution_count": 5,
      "outputs": []
    },
    {
      "cell_type": "code",
      "source": [
        "async def main():\n",
        "    print(\"Hello async world!\")\n",
        "    await asyncio.sleep(1)\n",
        "    print(\"Goodbye!\")\n",
        "\n",
        "# This is the standard way to run async code\n",
        "asyncio.run(main())"
      ],
      "metadata": {
        "id": "C8sDYkM9RlB6"
      },
      "execution_count": 6,
      "outputs": []
    },
    {
      "cell_type": "code",
      "source": [
        "import asyncio\n",
        "\n",
        "async def task_one():\n",
        "    print(\"Task 1 starting\")\n",
        "    await asyncio.sleep(2)\n",
        "    print(\"Task 1 finished\")\n",
        "    return \"Result 1\"\n",
        "\n",
        "async def task_two():\n",
        "    print(\"Task 2 starting\")\n",
        "    await asyncio.sleep(1)\n",
        "    print(\"Task 2 finished\")\n",
        "    return \"Result 2\"\n",
        "\n",
        "async def run_sequential():\n",
        "    \"\"\"Tasks run one after another\"\"\"\n",
        "    print(\"=== Sequential Execution ===\")\n",
        "    result1 = await task_one()\n",
        "    result2 = await task_two()\n",
        "    return [result1, result2]\n",
        "\n",
        "async def run_concurrent():\n",
        "    \"\"\"Tasks run simultaneously\"\"\"\n",
        "    print(\"=== Concurrent Execution ===\")\n",
        "    results = await asyncio.gather(task_one(), task_two())\n",
        "    return results\n",
        "\n",
        "# Compare the approaches\n",
        "print(\"Sequential:\")\n",
        "asyncio.run(run_sequential())\n",
        "\n",
        "print(\"\\nConcurrent:\")\n",
        "asyncio.run(run_concurrent())"
      ],
      "metadata": {
        "id": "Nq8F0SAYRnIB"
      },
      "execution_count": 7,
      "outputs": []
    },
    {
      "cell_type": "markdown",
      "source": [
        "# Pattern 1: Async Data Processing"
      ],
      "metadata": {
        "id": "GVquYhPFU01W"
      }
    },
    {
      "cell_type": "code",
      "source": [
        "import asyncio\n",
        "\n",
        "async def process_item(item):\n",
        "    \"\"\"Simulate processing a single item\"\"\"\n",
        "    print(f\"Processing {item}...\")\n",
        "    await asyncio.sleep(0.5)  # Simulate work\n",
        "    return f\"Processed: {item}\"\n",
        "\n",
        "async def process_batch(items):\n",
        "    \"\"\"Process multiple items concurrently\"\"\"\n",
        "    tasks = [process_item(item) for item in items]\n",
        "    results = await asyncio.gather(*tasks)\n",
        "    return results\n",
        "\n",
        "async def main():\n",
        "    items = [\"item1\", \"item2\", \"item3\", \"item4\", \"item5\"]\n",
        "    results = await process_batch(items)\n",
        "\n",
        "    for result in results:\n",
        "        print(result)\n",
        "\n",
        "asyncio.run(main())"
      ],
      "metadata": {
        "id": "9WMABbQXUwzC"
      },
      "execution_count": 8,
      "outputs": []
    },
    {
      "cell_type": "markdown",
      "source": [
        "# Pattern 2: Async Context Management"
      ],
      "metadata": {
        "id": "poumTct-VK_I"
      }
    },
    {
      "cell_type": "code",
      "source": [
        "import asyncio\n",
        "\n",
        "class AsyncResource:\n",
        "    \"\"\"Simulate an async resource like a database connection\"\"\"\n",
        "\n",
        "    async def __aenter__(self):\n",
        "        print(\"Acquiring resource...\")\n",
        "        await asyncio.sleep(0.1)  # Simulate connection time\n",
        "        print(\"Resource acquired\")\n",
        "        return self\n",
        "\n",
        "    async def __aexit__(self, exc_type, exc_val, exc_tb):\n",
        "        print(\"Releasing resource...\")\n",
        "        await asyncio.sleep(0.1)  # Simulate cleanup time\n",
        "        print(\"Resource released\")\n",
        "\n",
        "    async def do_work(self):\n",
        "        print(\"Doing work with resource...\")\n",
        "        await asyncio.sleep(0.5)\n",
        "        return \"Work completed\"\n",
        "\n",
        "async def use_resource():\n",
        "    async with AsyncResource() as resource:\n",
        "        result = await resource.do_work()\n",
        "        return result\n",
        "\n",
        "asyncio.run(use_resource())"
      ],
      "metadata": {
        "id": "3jZYstOCU2xP"
      },
      "execution_count": 9,
      "outputs": []
    },
    {
      "cell_type": "markdown",
      "source": [
        "# Pattern 3: Task Creation and Management"
      ],
      "metadata": {
        "id": "KXABIrbZVOqf"
      }
    },
    {
      "cell_type": "code",
      "source": [
        "import asyncio\n",
        "\n",
        "async def background_task(name, duration):\n",
        "    \"\"\"A long-running background task\"\"\"\n",
        "    print(f\"Background task {name} starting...\")\n",
        "    await asyncio.sleep(duration)\n",
        "    print(f\"Background task {name} completed\")\n",
        "    return f\"Task {name} result\"\n",
        "\n",
        "async def main():\n",
        "    # Create tasks that run in the background\n",
        "    task1 = asyncio.create_task(background_task(\"A\", 2))\n",
        "    task2 = asyncio.create_task(background_task(\"B\", 1))\n",
        "\n",
        "    # Do other work whilst tasks run\n",
        "    print(\"Doing other work...\")\n",
        "    await asyncio.sleep(0.5)\n",
        "    print(\"Other work done\")\n",
        "\n",
        "    # Wait for background tasks to complete\n",
        "    results = await asyncio.gather(task1, task2)\n",
        "    print(f\"Background results: {results}\")\n",
        "\n",
        "asyncio.run(main())"
      ],
      "metadata": {
        "id": "JthHfdUnVNA9"
      },
      "execution_count": 10,
      "outputs": []
    }
  ]
}
