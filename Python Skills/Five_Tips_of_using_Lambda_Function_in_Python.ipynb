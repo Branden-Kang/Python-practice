{
  "nbformat": 4,
  "nbformat_minor": 0,
  "metadata": {
    "colab": {
      "name": "Five Tips of using Lambda Function in Python.ipynb",
      "provenance": [],
      "authorship_tag": "ABX9TyNx12gCH2zvxCQkvN6h+Upw"
    },
    "kernelspec": {
      "name": "python3",
      "display_name": "Python 3"
    },
    "language_info": {
      "name": "python"
    }
  },
  "cells": [
    {
      "cell_type": "markdown",
      "source": [
        "[Reference](https://medium.com/@Hong_Tang/five-tips-for-using-lambda-function-in-python-de0733ecc0e7)"
      ],
      "metadata": {
        "id": "7zfkP_1l7Vc8"
      }
    },
    {
      "cell_type": "code",
      "execution_count": 7,
      "metadata": {
        "id": "7qlBKngm6Vc8"
      },
      "outputs": [],
      "source": [
        "#one liner lambda function example\n",
        "df['installs_clean']=df['installs'].apply(lambda x:int(x[:-1].replace(',','')))"
      ]
    },
    {
      "cell_type": "code",
      "source": [
        "#one liner lambda function example\n",
        "train['pop']=train['popularity'].apply(lambda x: 1 if x=='High' else 0)"
      ],
      "metadata": {
        "id": "GpzjxnSY6wLg"
      },
      "execution_count": 5,
      "outputs": []
    },
    {
      "cell_type": "code",
      "source": [
        "# displaying the data frame\n",
        "hashmap={'Everyone': 1,\n",
        " 'Teen': 2,\n",
        " 'Mature 17+': 3, \n",
        " 'Everyone 10+' : 4,\n",
        " 'Adults only 18+': 5\n",
        " }\n",
        "df['suitable_code']=df['suitable_for'].apply(lambda x: hashmap[x])"
      ],
      "metadata": {
        "id": "nE5yIo2362h5"
      },
      "execution_count": 8,
      "outputs": []
    },
    {
      "cell_type": "code",
      "source": [
        "dic={'the':4, 'day':1, 'is': 3, 'sunny':2}\n",
        "dic"
      ],
      "metadata": {
        "colab": {
          "base_uri": "https://localhost:8080/"
        },
        "id": "rrhEpsyC680T",
        "outputId": "8c9e6a30-f493-43d7-b434-54240f46d179"
      },
      "execution_count": 9,
      "outputs": [
        {
          "output_type": "execute_result",
          "data": {
            "text/plain": [
              "{'day': 1, 'is': 3, 'sunny': 2, 'the': 4}"
            ]
          },
          "metadata": {},
          "execution_count": 9
        }
      ]
    },
    {
      "cell_type": "code",
      "source": [
        "sorted(dic.items(), key=lambda item: item[1])"
      ],
      "metadata": {
        "colab": {
          "base_uri": "https://localhost:8080/"
        },
        "id": "A1xh6ySQ7Mdg",
        "outputId": "f4cf5193-0649-4372-c1ef-797436205dc4"
      },
      "execution_count": 10,
      "outputs": [
        {
          "output_type": "execute_result",
          "data": {
            "text/plain": [
              "[('day', 1), ('sunny', 2), ('is', 3), ('the', 4)]"
            ]
          },
          "metadata": {},
          "execution_count": 10
        }
      ]
    },
    {
      "cell_type": "code",
      "source": [
        "dic.items()"
      ],
      "metadata": {
        "colab": {
          "base_uri": "https://localhost:8080/"
        },
        "id": "egKwY5Ia7Nsn",
        "outputId": "9f151a38-1110-4b19-f6af-ad61252d76e2"
      },
      "execution_count": 11,
      "outputs": [
        {
          "output_type": "execute_result",
          "data": {
            "text/plain": [
              "dict_items([('the', 4), ('day', 1), ('is', 3), ('sunny', 2)])"
            ]
          },
          "metadata": {},
          "execution_count": 11
        }
      ]
    },
    {
      "cell_type": "code",
      "source": [
        "sorted(dic.items(), key=lambda item: item[0])"
      ],
      "metadata": {
        "colab": {
          "base_uri": "https://localhost:8080/"
        },
        "id": "mE58qIwk7O_L",
        "outputId": "78fd4440-0f4d-445e-8ad1-0c269f187fbc"
      },
      "execution_count": 12,
      "outputs": [
        {
          "output_type": "execute_result",
          "data": {
            "text/plain": [
              "[('day', 1), ('is', 3), ('sunny', 2), ('the', 4)]"
            ]
          },
          "metadata": {},
          "execution_count": 12
        }
      ]
    }
  ]
}