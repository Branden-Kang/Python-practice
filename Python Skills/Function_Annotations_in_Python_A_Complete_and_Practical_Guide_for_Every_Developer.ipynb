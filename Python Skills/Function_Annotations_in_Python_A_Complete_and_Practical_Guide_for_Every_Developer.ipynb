{
  "nbformat": 4,
  "nbformat_minor": 0,
  "metadata": {
    "colab": {
      "provenance": [],
      "authorship_tag": "ABX9TyMQaEpVua2V4JGwqSdTm4JK"
    },
    "kernelspec": {
      "name": "python3",
      "display_name": "Python 3"
    },
    "language_info": {
      "name": "python"
    }
  },
  "cells": [
    {
      "cell_type": "markdown",
      "source": [
        "[Reference](https://medium.com/@aliyannshaikhh/abae914e4a59)"
      ],
      "metadata": {
        "id": "61AaEfMyCJdm"
      }
    },
    {
      "cell_type": "code",
      "execution_count": 1,
      "metadata": {
        "colab": {
          "base_uri": "https://localhost:8080/"
        },
        "id": "vIqX_ocMBrgb",
        "outputId": "5d79d68b-1595-4a0d-f147-6be7ef579dcf"
      },
      "outputs": [
        {
          "output_type": "stream",
          "name": "stdout",
          "text": [
            "12\n",
            "{'x': <class 'int'>, 'y': <class 'int'>}\n"
          ]
        }
      ],
      "source": [
        "def add_numbers(x: int, y: int):\n",
        "    return x + y\n",
        "\n",
        "print(add_numbers(5, 7))\n",
        "print(add_numbers.__annotations__)"
      ]
    },
    {
      "cell_type": "markdown",
      "source": [
        "# Function Annotations with Return Type"
      ],
      "metadata": {
        "id": "52g_UwlHCQNL"
      }
    },
    {
      "cell_type": "code",
      "source": [
        "def multiply(a: int, b: int) -> int:\n",
        "    return a * b\n",
        "\n",
        "print(multiply(3, 4))  # 12\n",
        "print(multiply.__annotations__)"
      ],
      "metadata": {
        "colab": {
          "base_uri": "https://localhost:8080/"
        },
        "id": "pqdDnGBPCNrF",
        "outputId": "ed128cc1-6554-4e55-98f2-9ac26025d028"
      },
      "execution_count": 2,
      "outputs": [
        {
          "output_type": "stream",
          "name": "stdout",
          "text": [
            "12\n",
            "{'a': <class 'int'>, 'b': <class 'int'>, 'return': <class 'int'>}\n"
          ]
        }
      ]
    },
    {
      "cell_type": "markdown",
      "source": [
        "# Function Annotations with Expressions"
      ],
      "metadata": {
        "id": "TFUVI6-gCSga"
      }
    },
    {
      "cell_type": "code",
      "source": [
        "def greet(name: str, age: \"must be a positive integer\") -> str:\n",
        "    return f\"Hello {name}, you are {age} years old.\"\n",
        "\n",
        "print(greet(\"Aliyan\", 23))  # Hello Aliyan, you are 23 years old.\n",
        "print(greet.__annotations__)"
      ],
      "metadata": {
        "colab": {
          "base_uri": "https://localhost:8080/"
        },
        "id": "x4xc5IsXCRok",
        "outputId": "7ed00006-f459-4f5f-dd7a-a36fec73aac0"
      },
      "execution_count": 3,
      "outputs": [
        {
          "output_type": "stream",
          "name": "stdout",
          "text": [
            "Hello Aliyan, you are 23 years old.\n",
            "{'name': <class 'str'>, 'age': 'must be a positive integer', 'return': <class 'str'>}\n"
          ]
        }
      ]
    },
    {
      "cell_type": "markdown",
      "source": [
        "# Function Annotations with Default Arguments"
      ],
      "metadata": {
        "id": "fsZMexSGCV6e"
      }
    },
    {
      "cell_type": "code",
      "source": [
        "def power(base: int, exponent: int = 2) -> int :\n",
        "    return base ** exponent\n",
        "\n",
        "print(power(5))  # 25 (since default exponent is 2)\n",
        "print(power(5, 3))  # 125\n",
        "print(power.__annotations__)"
      ],
      "metadata": {
        "colab": {
          "base_uri": "https://localhost:8080/"
        },
        "id": "7WSi5yK8CUjN",
        "outputId": "15c293c2-931c-41dc-8d7f-0a90424b0d9b"
      },
      "execution_count": 4,
      "outputs": [
        {
          "output_type": "stream",
          "name": "stdout",
          "text": [
            "25\n",
            "125\n",
            "{'base': <class 'int'>, 'exponent': <class 'int'>, 'return': <class 'int'>}\n"
          ]
        }
      ]
    }
  ]
}
