{
  "nbformat": 4,
  "nbformat_minor": 0,
  "metadata": {
    "colab": {
      "name": "Weird things in Python.ipynb",
      "provenance": [],
      "authorship_tag": "ABX9TyMrX+9xK1SlFFTC7Prdeeal"
    },
    "kernelspec": {
      "name": "python3",
      "display_name": "Python 3"
    },
    "language_info": {
      "name": "python"
    }
  },
  "cells": [
    {
      "cell_type": "markdown",
      "source": [
        "[Reference](https://motcke.medium.com/python-i-expected-better-of-you-ca729b6f575a)"
      ],
      "metadata": {
        "id": "AGnBy6KIbv67"
      }
    },
    {
      "cell_type": "markdown",
      "source": [
        "# def foo(arg = []):\n"
      ],
      "metadata": {
        "id": "hy4CkTJCbsJm"
      }
    },
    {
      "cell_type": "code",
      "execution_count": 1,
      "metadata": {
        "colab": {
          "base_uri": "https://localhost:8080/"
        },
        "id": "pVuIvCyfboq5",
        "outputId": "9fddcd33-9bd5-4f3d-984c-207e1db7680f"
      },
      "outputs": [
        {
          "output_type": "stream",
          "name": "stdout",
          "text": [
            "['🙈', '🙊', '🙉', '😀']\n",
            "['😀']\n",
            "['😀', '😀']\n"
          ]
        }
      ],
      "source": [
        "def append_smile(emojis = []):\n",
        "    emojis.append('😀')\n",
        "    return emojis\n",
        "print(append_smile(['🙈', '🙊', '🙉']))\n",
        "print(append_smile())\n",
        "print(append_smile())"
      ]
    },
    {
      "cell_type": "code",
      "source": [
        "def append_smile(emojis = None):\n",
        "    if emojis is None:\n",
        "        emojis = []\n",
        "    emojis.append('😀')\n",
        "    return emojis\n",
        "print(append_smile(['🙈', '🙊', '🙉']))  # ['🙈', '🙊', '🙉', '😀']\n",
        "print(append_smile())                    # ['😀']\n",
        "print(append_smile())                    # ['😀']"
      ],
      "metadata": {
        "colab": {
          "base_uri": "https://localhost:8080/"
        },
        "id": "lm_KVvFYbrMh",
        "outputId": "3becb005-d392-4ee4-edbc-0feaf785ded5"
      },
      "execution_count": 2,
      "outputs": [
        {
          "output_type": "stream",
          "name": "stdout",
          "text": [
            "['🙈', '🙊', '🙉', '😀']\n",
            "['😀']\n",
            "['😀']\n"
          ]
        }
      ]
    },
    {
      "cell_type": "markdown",
      "source": [
        "# 0.1 + 0.2 != 0.3\n"
      ],
      "metadata": {
        "id": "ebmlzsdpb-cK"
      }
    },
    {
      "cell_type": "code",
      "source": [
        "0.1 + 0.2 == 0.3"
      ],
      "metadata": {
        "colab": {
          "base_uri": "https://localhost:8080/"
        },
        "id": "T8hyTrFtbzOP",
        "outputId": "03633895-9dd9-446a-81ed-434dc4a30fa5"
      },
      "execution_count": 3,
      "outputs": [
        {
          "output_type": "execute_result",
          "data": {
            "text/plain": [
              "False"
            ]
          },
          "metadata": {},
          "execution_count": 3
        }
      ]
    },
    {
      "cell_type": "code",
      "source": [
        "0.1 + 0.2"
      ],
      "metadata": {
        "colab": {
          "base_uri": "https://localhost:8080/"
        },
        "id": "59Nqfs3rcACy",
        "outputId": "0d48112e-ec53-44c3-b097-0c8545e2ba0d"
      },
      "execution_count": 4,
      "outputs": [
        {
          "output_type": "execute_result",
          "data": {
            "text/plain": [
              "0.30000000000000004"
            ]
          },
          "metadata": {},
          "execution_count": 4
        }
      ]
    },
    {
      "cell_type": "code",
      "source": [
        "def is_approx_equal(num1, num2):\n",
        "    return round(num1, 10) == round(num2, 10)"
      ],
      "metadata": {
        "id": "3G_AENDicAxg"
      },
      "execution_count": 5,
      "outputs": []
    },
    {
      "cell_type": "markdown",
      "source": [
        "# Why self?\n"
      ],
      "metadata": {
        "id": "Ieoy3AwRcHU6"
      }
    },
    {
      "cell_type": "code",
      "source": [
        "class HighClass:\n",
        "    def foo(self, persons):\n",
        "        self.high_class_persons = persons"
      ],
      "metadata": {
        "id": "Uh8ypHq_cFn4"
      },
      "execution_count": 6,
      "outputs": []
    },
    {
      "cell_type": "code",
      "source": [
        "class HighClass:\n",
        "    def foo(persons):\n",
        "        self.high_class_persons = persons"
      ],
      "metadata": {
        "id": "smFj4xW7cI6o"
      },
      "execution_count": 7,
      "outputs": []
    }
  ]
}