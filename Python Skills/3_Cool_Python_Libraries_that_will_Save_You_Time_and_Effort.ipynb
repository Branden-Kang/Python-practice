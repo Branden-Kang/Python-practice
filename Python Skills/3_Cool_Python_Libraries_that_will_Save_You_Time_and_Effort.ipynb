{
  "nbformat": 4,
  "nbformat_minor": 0,
  "metadata": {
    "colab": {
      "name": "3 Cool Python Libraries that will Save You Time and Effort.ipynb",
      "provenance": [],
      "authorship_tag": "ABX9TyO4ZSos01OCN4beUzlrzapA"
    },
    "kernelspec": {
      "name": "python3",
      "display_name": "Python 3"
    },
    "language_info": {
      "name": "python"
    }
  },
  "cells": [
    {
      "cell_type": "markdown",
      "metadata": {
        "id": "C6xOzlLNOmWj"
      },
      "source": [
        "[Reference](https://samuel-vidovich.medium.com/3-cool-python-libraries-that-will-save-you-time-and-effort-27fcdc6762d5)\n",
        "\n"
      ]
    },
    {
      "cell_type": "markdown",
      "metadata": {
        "id": "LsCm9bNgPH2H"
      },
      "source": [
        "# JMESPath"
      ]
    },
    {
      "cell_type": "code",
      "metadata": {
        "id": "zULgIXYEOh0F"
      },
      "source": [
        "test_dictionary = {\n",
        "    'level_1': {\n",
        "        'level_2_a': {\n",
        "            'level_3_a': 'some_string'\n",
        "        },\n",
        "        'level_2_b': {\n",
        "            'level_3_b': 'a_different_string'\n",
        "        }\n",
        "    }\n",
        "}"
      ],
      "execution_count": 2,
      "outputs": []
    },
    {
      "cell_type": "code",
      "metadata": {
        "id": "ohAhAw9cOsDj"
      },
      "source": [
        "level_3_a = test_dictionary.get('level_1', {}).get('level_2_a', {}).get('level_3_a', '')"
      ],
      "execution_count": 3,
      "outputs": []
    },
    {
      "cell_type": "code",
      "metadata": {
        "colab": {
          "base_uri": "https://localhost:8080/",
          "height": 37
        },
        "id": "ONBsBrdUO0v0",
        "outputId": "5b080363-78ae-4598-8ceb-619f5e7ad1b6"
      },
      "source": [
        "level_3_a"
      ],
      "execution_count": 4,
      "outputs": [
        {
          "output_type": "execute_result",
          "data": {
            "application/vnd.google.colaboratory.intrinsic+json": {
              "type": "string"
            },
            "text/plain": [
              "'some_string'"
            ]
          },
          "metadata": {},
          "execution_count": 4
        }
      ]
    },
    {
      "cell_type": "code",
      "metadata": {
        "colab": {
          "base_uri": "https://localhost:8080/"
        },
        "id": "kmyXNYFZO9GO",
        "outputId": "d34072e6-64de-4a21-a2d9-4552f85c7b59"
      },
      "source": [
        "pip install jmespath==0.2.0"
      ],
      "execution_count": 6,
      "outputs": [
        {
          "output_type": "stream",
          "name": "stdout",
          "text": [
            "Collecting jmespath==0.2.0\n",
            "  Downloading jmespath-0.2.0.tar.gz (12 kB)\n",
            "Collecting ply==3.4\n",
            "  Downloading ply-3.4.tar.gz (138 kB)\n",
            "\u001b[K     |████████████████████████████████| 138 kB 5.0 MB/s \n",
            "\u001b[?25hBuilding wheels for collected packages: jmespath, ply\n",
            "  Building wheel for jmespath (setup.py) ... \u001b[?25l\u001b[?25hdone\n",
            "  Created wheel for jmespath: filename=jmespath-0.2.0-py3-none-any.whl size=9166 sha256=2947b02d89e005d6c9c1885d8729aca9545c7685ef9d93904205165aae5de24e\n",
            "  Stored in directory: /root/.cache/pip/wheels/8b/13/b2/737d7b7b026fc57120551b90eeb12c63eaddb1ec188fb78055\n",
            "  Building wheel for ply (setup.py) ... \u001b[?25l\u001b[?25hdone\n",
            "  Created wheel for ply: filename=ply-3.4-py3-none-any.whl size=45527 sha256=59656b92561be118bd98b08c5bad311cbed77b3aabd5eb0677c4cac245706ff6\n",
            "  Stored in directory: /root/.cache/pip/wheels/a3/85/39/19bb14698e3a2fe72d135dbad17c0ee8489cd690884600e089\n",
            "Successfully built jmespath ply\n",
            "Installing collected packages: ply, jmespath\n",
            "Successfully installed jmespath-0.2.0 ply-3.4\n"
          ]
        }
      ]
    },
    {
      "cell_type": "code",
      "metadata": {
        "id": "JHcpkXvfO_aC"
      },
      "source": [
        "import jmespath"
      ],
      "execution_count": 7,
      "outputs": []
    },
    {
      "cell_type": "code",
      "metadata": {
        "id": "NyIGOsnmO3Cl"
      },
      "source": [
        "expression = jmespath.compile('level_1.level_2_a.level_3_a')\n",
        "result = expression.search(test_dictionary)"
      ],
      "execution_count": 8,
      "outputs": []
    },
    {
      "cell_type": "code",
      "metadata": {
        "colab": {
          "base_uri": "https://localhost:8080/",
          "height": 37
        },
        "id": "N-oP6PI9O4_K",
        "outputId": "acef6bef-3259-42b2-eb6e-39e3f5f273a0"
      },
      "source": [
        "result"
      ],
      "execution_count": 9,
      "outputs": [
        {
          "output_type": "execute_result",
          "data": {
            "application/vnd.google.colaboratory.intrinsic+json": {
              "type": "string"
            },
            "text/plain": [
              "'some_string'"
            ]
          },
          "metadata": {},
          "execution_count": 9
        }
      ]
    },
    {
      "cell_type": "markdown",
      "metadata": {
        "id": "MycLxs6qPJlF"
      },
      "source": [
        "# Inflection"
      ]
    },
    {
      "cell_type": "code",
      "metadata": {
        "colab": {
          "base_uri": "https://localhost:8080/"
        },
        "id": "fWKuobRuPUmJ",
        "outputId": "4f858f60-9f54-4192-c763-5c8ff4d5e109"
      },
      "source": [
        "pip install inflection"
      ],
      "execution_count": 12,
      "outputs": [
        {
          "output_type": "stream",
          "name": "stdout",
          "text": [
            "Collecting inflection\n",
            "  Downloading inflection-0.5.1-py2.py3-none-any.whl (9.5 kB)\n",
            "Installing collected packages: inflection\n",
            "Successfully installed inflection-0.5.1\n"
          ]
        }
      ]
    },
    {
      "cell_type": "code",
      "metadata": {
        "id": "yG1SrTnEPW6c"
      },
      "source": [
        "import inflection"
      ],
      "execution_count": 13,
      "outputs": []
    },
    {
      "cell_type": "code",
      "metadata": {
        "id": "5pMTqJajPDtZ"
      },
      "source": [
        "words = {'the_last_mimzy', 'The-Return-Of-The-King', 'ConanTheBarbarian'}"
      ],
      "execution_count": 10,
      "outputs": []
    },
    {
      "cell_type": "code",
      "metadata": {
        "colab": {
          "base_uri": "https://localhost:8080/"
        },
        "id": "WffW_z5tPNTH",
        "outputId": "44d21ea9-4b23-46cb-ac53-d7f201af8771"
      },
      "source": [
        "words = {'the_last_mimzy', 'The-Return-Of-The-King', 'ConanTheBarbarian'}\n",
        "titleized_words = [inflection.titleize(word) for word in words]\n",
        "print(titleized_words)"
      ],
      "execution_count": 14,
      "outputs": [
        {
          "output_type": "stream",
          "name": "stdout",
          "text": [
            "['The Return Of The King', 'Conan The Barbarian', 'The Last Mimzy']\n"
          ]
        }
      ]
    },
    {
      "cell_type": "code",
      "metadata": {
        "colab": {
          "base_uri": "https://localhost:8080/"
        },
        "id": "vwC-t5X-PQK9",
        "outputId": "80b9ae72-09b2-4f43-a0f2-67bdbbf9c5e0"
      },
      "source": [
        "foreign_names = {'SystemMemoryUsage', 'systemCPU', 'webContainerCGroup'}\n",
        "snake_cased_words = [inflection.underscore(name) for name in foreign_names]\n",
        "print(snake_cased_words)"
      ],
      "execution_count": 15,
      "outputs": [
        {
          "output_type": "stream",
          "name": "stdout",
          "text": [
            "['system_memory_usage', 'system_cpu', 'web_container_c_group']\n"
          ]
        }
      ]
    },
    {
      "cell_type": "markdown",
      "metadata": {
        "id": "GIiBqeFSPieI"
      },
      "source": [
        "# more-itertools"
      ]
    },
    {
      "cell_type": "code",
      "metadata": {
        "id": "5ahXjGBEP3KZ"
      },
      "source": [
        "import more_itertools"
      ],
      "execution_count": 20,
      "outputs": []
    },
    {
      "cell_type": "code",
      "metadata": {
        "id": "-bWrH0DxPg1-"
      },
      "source": [
        "sample_chunkable_list_of_dictionaries = [\n",
        "    {'id': '1', 'datapoint': 'datapoint_1_1'},\n",
        "    {'id': '1', 'datapoint': 'datapoint_1_2'},\n",
        "    {'id': '1', 'datapoint': 'datapoint_1_3'},\n",
        "    {'id': '1', 'datapoint': 'datapoint_1_4'},\n",
        "    {'id': '2', 'datapoint': 'datapoint_2_1'},\n",
        "    {'id': '2', 'datapoint': 'datapoint_2_2'},\n",
        "    {'id': '2', 'datapoint': 'datapoint_2_3'},\n",
        "    {'id': '2', 'datapoint': 'datapoint_2_4'},\n",
        "    {'id': '3', 'datapoint': 'datapoint_3_1'},\n",
        "    {'id': '3', 'datapoint': 'datapoint_3_2'},\n",
        "    {'id': '3', 'datapoint': 'datapoint_3_3'},\n",
        "    {'id': '3', 'datapoint': 'datapoint_3_4'},\n",
        "]"
      ],
      "execution_count": 21,
      "outputs": []
    },
    {
      "cell_type": "code",
      "metadata": {
        "id": "tON6HXQWPpG6"
      },
      "source": [
        "split_into_chunks = list(\n",
        "    more_itertools.split_when(\n",
        "        sample_chunkable_list_of_dictionaries, lambda x, y: x['id'] != y['id']\n",
        "        )\n",
        "    )"
      ],
      "execution_count": 22,
      "outputs": []
    },
    {
      "cell_type": "code",
      "metadata": {
        "colab": {
          "base_uri": "https://localhost:8080/"
        },
        "id": "BK2uifxWPtOm",
        "outputId": "a709bcd4-1b26-4aa5-a0b2-1f6a53737a9a"
      },
      "source": [
        "need_interleaving = [\n",
        "    [1, 3, 5],\n",
        "    [2, 4, 6],\n",
        "    [10, 11, 12, 13]\n",
        "]# The * is a spread operator — it lets me pass the lists in all at once\n",
        "print(list(more_itertools.interleave_longest(*need_interleaving)))"
      ],
      "execution_count": 23,
      "outputs": [
        {
          "output_type": "stream",
          "name": "stdout",
          "text": [
            "[1, 2, 10, 3, 4, 11, 5, 6, 12, 13]\n"
          ]
        }
      ]
    }
  ]
}