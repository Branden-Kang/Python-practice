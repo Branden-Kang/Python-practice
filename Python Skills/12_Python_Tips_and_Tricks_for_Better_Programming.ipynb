{
  "nbformat": 4,
  "nbformat_minor": 0,
  "metadata": {
    "colab": {
      "provenance": [],
      "authorship_tag": "ABX9TyNPjDGr4ciGMnvtwGGacnco"
    },
    "kernelspec": {
      "name": "python3",
      "display_name": "Python 3"
    },
    "language_info": {
      "name": "python"
    }
  },
  "cells": [
    {
      "cell_type": "markdown",
      "source": [
        "[Reference](https://python.plainenglish.io/12-python-tips-and-tricks-for-better-programming-c702a6d02f7c)"
      ],
      "metadata": {
        "id": "9EaiJtcVbSc0"
      }
    },
    {
      "cell_type": "code",
      "execution_count": 1,
      "metadata": {
        "colab": {
          "base_uri": "https://localhost:8080/"
        },
        "id": "PGhV39aOXqYA",
        "outputId": "5b899f0d-a5f1-4a62-a88c-1a490896d8d8"
      },
      "outputs": [
        {
          "output_type": "stream",
          "name": "stdout",
          "text": [
            "None\n",
            "{1: 'Peter', 2: 'John', 3: 'Dev', 4: 'Alice'}\n"
          ]
        }
      ],
      "source": [
        "dict1 = {1: \"Peter\", 2: \"John\", 3:\"Dev\"}\n",
        "print(dict1.get(4))\n",
        "\n",
        "dict1.setdefault(4,\"Alice\")\n",
        "print(dict1)"
      ]
    },
    {
      "cell_type": "code",
      "source": [
        "enter = input(\"Ener 5 Values:\").split()\n",
        "print(enter)"
      ],
      "metadata": {
        "colab": {
          "base_uri": "https://localhost:8080/"
        },
        "id": "pWrC7PZLbhBV",
        "outputId": "b2838519-dd5d-41fd-8052-bfac4a5f0b63"
      },
      "execution_count": 2,
      "outputs": [
        {
          "output_type": "stream",
          "name": "stdout",
          "text": [
            "Ener 5 Values:1 2 3 4 5\n",
            "['1', '2', '3', '4', '5']\n"
          ]
        }
      ]
    },
    {
      "cell_type": "code",
      "source": [
        "from collections import Counter\n",
        "mylist = [1, 1, 1, 2, 2, 3, 3, 3, 3, 4, 4, 4, 4, 5, 5, 6]\n",
        "freq = dict(Counter(mylist))\n",
        "print(freq)"
      ],
      "metadata": {
        "colab": {
          "base_uri": "https://localhost:8080/"
        },
        "id": "ilYiQyuLblka",
        "outputId": "b08ad66c-c8c4-41b6-be61-80fcbb65e74f"
      },
      "execution_count": 3,
      "outputs": [
        {
          "output_type": "stream",
          "name": "stdout",
          "text": [
            "{1: 3, 2: 2, 3: 4, 4: 4, 5: 2, 6: 1}\n"
          ]
        }
      ]
    },
    {
      "cell_type": "code",
      "source": [
        "def test_func():\n",
        "    for x in range(100):\n",
        "        pass\n",
        "    return \"Haider\", 22, \"Programmer\"\n",
        "\n",
        "data = test_func()\n",
        "print(\"Name:\", data[0], \"Age:\", data[1], \"Prof:\",data[2])"
      ],
      "metadata": {
        "colab": {
          "base_uri": "https://localhost:8080/"
        },
        "id": "hiMfbMpFcYeA",
        "outputId": "9221d26b-b8cb-4d26-ae1a-663f1225cae2"
      },
      "execution_count": 4,
      "outputs": [
        {
          "output_type": "stream",
          "name": "stdout",
          "text": [
            "Name: Haider Age: 22 Prof: Programmer\n"
          ]
        }
      ]
    },
    {
      "cell_type": "code",
      "source": [
        "def titleCase(str):\n",
        "    return str.title()\n",
        "\n",
        "print(titleCase(\"medium\"))\n",
        "print(titleCase(\"script\"))"
      ],
      "metadata": {
        "colab": {
          "base_uri": "https://localhost:8080/"
        },
        "id": "YCST-biPcnFZ",
        "outputId": "0710d756-7ed8-4470-d23d-66bbb18d54c7"
      },
      "execution_count": 5,
      "outputs": [
        {
          "output_type": "stream",
          "name": "stdout",
          "text": [
            "Medium\n",
            "Script\n"
          ]
        }
      ]
    },
    {
      "cell_type": "code",
      "source": [
        "def Connection(msg):\n",
        "    return \"failed\" if msg == 404 else \"connected\"\n",
        "\n",
        "print(Connection(404))\n",
        "print(Connection(200))"
      ],
      "metadata": {
        "colab": {
          "base_uri": "https://localhost:8080/"
        },
        "id": "LC91sIbLcwMo",
        "outputId": "30487528-3c73-47fd-f295-a0a405359766"
      },
      "execution_count": 6,
      "outputs": [
        {
          "output_type": "stream",
          "name": "stdout",
          "text": [
            "failed\n",
            "connected\n"
          ]
        }
      ]
    },
    {
      "cell_type": "code",
      "source": [
        "# import PyPDF2\n",
        "# pdfFileObject = open('tese.pdf','rb')\n",
        "# pdfReader = PyPDF2.PdfFileReader(pdfFileObject)\n",
        "# countPages = pdfReader.numPages\n",
        "# for i in range(countPages):\n",
        "#     page = pdfReader.getPage(i)\n",
        "#     print(page.extractTest())"
      ],
      "metadata": {
        "id": "FFmFvmwMc6QH"
      },
      "execution_count": 7,
      "outputs": []
    },
    {
      "cell_type": "code",
      "source": [
        "list1 = [11, 22]\n",
        "list2 = [33, 44]\n",
        "list3 = [55, 66]\n",
        "merge = list1 + list2 + list3\n",
        "print(merge)"
      ],
      "metadata": {
        "colab": {
          "base_uri": "https://localhost:8080/"
        },
        "id": "7r887JjodO2o",
        "outputId": "e64dd075-336d-4d5f-a4d5-2ecb433e6730"
      },
      "execution_count": 8,
      "outputs": [
        {
          "output_type": "stream",
          "name": "stdout",
          "text": [
            "[11, 22, 33, 44, 55, 66]\n"
          ]
        }
      ]
    },
    {
      "cell_type": "code",
      "source": [
        "for x in range(3):\n",
        "    print(x)\n",
        "else:\n",
        "    print(\"Loop is Over1\")"
      ],
      "metadata": {
        "colab": {
          "base_uri": "https://localhost:8080/"
        },
        "id": "mB6fWZevdVeP",
        "outputId": "6be71d67-25b0-45fa-8a98-8cc7c99b4fe8"
      },
      "execution_count": 9,
      "outputs": [
        {
          "output_type": "stream",
          "name": "stdout",
          "text": [
            "0\n",
            "1\n",
            "2\n",
            "Loop is Over1\n"
          ]
        }
      ]
    },
    {
      "cell_type": "code",
      "source": [
        "lst1=[5,6,7,8]\n",
        "str1 = \"Medium\"\n",
        "print(lst1[::-1])\n",
        "print(str1[::-1])"
      ],
      "metadata": {
        "colab": {
          "base_uri": "https://localhost:8080/"
        },
        "id": "lZ0foA5jdZ0X",
        "outputId": "3bd8a889-97b6-41df-8fb0-e4d62fe75460"
      },
      "execution_count": 10,
      "outputs": [
        {
          "output_type": "stream",
          "name": "stdout",
          "text": [
            "[8, 7, 6, 5]\n",
            "muideM\n"
          ]
        }
      ]
    },
    {
      "cell_type": "code",
      "source": [
        "mydict = {num: num*num for num in range(1,5)} \n",
        "print(mydict)"
      ],
      "metadata": {
        "colab": {
          "base_uri": "https://localhost:8080/"
        },
        "id": "bXCDcWlTdiH_",
        "outputId": "36c2ec39-1a46-46c9-9aaf-4e33b309c76a"
      },
      "execution_count": 11,
      "outputs": [
        {
          "output_type": "stream",
          "name": "stdout",
          "text": [
            "{1: 1, 2: 4, 3: 9, 4: 16}\n"
          ]
        }
      ]
    }
  ]
}
