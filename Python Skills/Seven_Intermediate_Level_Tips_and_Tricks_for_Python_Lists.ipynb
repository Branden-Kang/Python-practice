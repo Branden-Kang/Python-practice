{
  "nbformat": 4,
  "nbformat_minor": 0,
  "metadata": {
    "colab": {
      "name": "Seven Intermediate-Level Tips and Tricks for Python Lists.ipynb",
      "provenance": [],
      "authorship_tag": "ABX9TyPijRyNvAxqbY6Lnu1RkUw7"
    },
    "kernelspec": {
      "name": "python3",
      "display_name": "Python 3"
    }
  },
  "cells": [
    {
      "cell_type": "markdown",
      "metadata": {
        "id": "v9UGh2ixHLFy"
      },
      "source": [
        "[Reference](https://medium.com/python-in-plain-english/seven-intermediate-level-tips-and-tricks-for-python-lists-a81876ef6f33)"
      ]
    },
    {
      "cell_type": "markdown",
      "metadata": {
        "id": "UoAiZqHzGLHH"
      },
      "source": [
        "# 1. Ensure that a List Contains Unique Elements"
      ]
    },
    {
      "cell_type": "code",
      "metadata": {
        "id": "hFfC_RGAF9zz"
      },
      "source": [
        "from collections import UserList\n",
        "\n",
        "class UniquesList(UserList):\n",
        "    \"\"\"\n",
        "    A List Class which works just like a list, except\n",
        "    that it only holds unique values - similar to a set.\n",
        "    >>> ul = UniquesList(\"The Jolly Green Giant\")\n",
        "    >>> print(\"\".join(ul))\n",
        "    The JolyGrniat\n",
        "    \"\"\"\n",
        "    def __init__(self, initlist=None):\n",
        "        \"\"\"__init__.\n",
        "        Args:\n",
        "            initlist:\n",
        "        \"\"\"\n",
        "        self.data = []\n",
        "\n",
        "        if initlist:\n",
        "            if isinstance(initlist, UniquesList):\n",
        "                self.data[:] = initlist.data[:]\n",
        "            else:\n",
        "                for k in initlist:\n",
        "                    self.append(k)\n",
        "\n",
        "    def append(self, item) -> None:\n",
        "        \"\"\"Append an item to the end of the list.\n",
        "        Args:\n",
        "            item: Only unique values are appended, duplicates are omitted\n",
        "        Returns:\n",
        "            None:\n",
        "        \"\"\"\n",
        "        if not self.data.count(item):\n",
        "            super(UniquesList, self).append(item)\n",
        "\n",
        "dl = UniquesList()\n",
        "dl.append(\"Text Value One\")\n",
        "dl.append(\"Text Value One\")\n",
        "dl.append(\"Text Value One\")\n",
        "dl.append(\"Text Value One\")\n",
        "dl.append(\"Text Value Two\")\n",
        "dl.append(\"Text Value Two\")\n",
        "dl.append(\"Text Value Two\")\n",
        "dl.append(\"Text Value Two\")\n",
        "assert len(dl) == 2\n",
        "\n",
        "dl = UniquesList()\n",
        "for i in range(1000):\n",
        "    dl.append(\"a\")\n",
        "assert len(dl) == 1"
      ],
      "execution_count": 1,
      "outputs": []
    },
    {
      "cell_type": "markdown",
      "metadata": {
        "id": "msfmyyhgGg_T"
      },
      "source": [
        "# 2. Find all the Index Values of a Matching a Test Condition"
      ]
    },
    {
      "cell_type": "code",
      "metadata": {
        "id": "P2i65K2_Gdht"
      },
      "source": [
        "import typing\n",
        "\n",
        "def get_indices(the_list: list, test_value: object) -> typing.Iterable[int]:\n",
        "    \"\"\"\n",
        "    Returns the indices of matching list items.\n",
        "    Uses a generator to create an iterator.\n",
        "    Args:\n",
        "        the_list: the list containing search elements\n",
        "        test_value: what we want to find\n",
        "    Returns: the index of matching list items\n",
        "    >>> print(list(get_indices(\"The jolly green giant\", \"e\")))\n",
        "    [2, 12, 13]\n",
        "    \"\"\"\n",
        "\n",
        "    generator = (key for key, val in enumerate(the_list) if test_value == val)\n",
        "    for key in generator:\n",
        "        yield key"
      ],
      "execution_count": 2,
      "outputs": []
    },
    {
      "cell_type": "markdown",
      "metadata": {
        "id": "nSLEka9NGn_f"
      },
      "source": [
        "# 3. Flatten a List of Lists into one Super List"
      ]
    },
    {
      "cell_type": "code",
      "metadata": {
        "id": "xpFqFkrjGkMH",
        "outputId": "9437c663-16ae-46d2-fd61-2ea5ad98134a",
        "colab": {
          "base_uri": "https://localhost:8080/"
        }
      },
      "source": [
        "from itertools import chain\n",
        "\n",
        "\n",
        "def flatten_nested_lists(*input_list: list) -> list:\n",
        "    \"\"\"flatten_nested_lists.\n",
        "    Args:\n",
        "        input_list:\n",
        "    Returns:\n",
        "        list:\n",
        "    >>> l1: list = []\n",
        "    >>> l1.append([1, \"2\", 3])\n",
        "    >>> l1.append([4, 5, 6, 7])\n",
        "    >>> l1.append([\"Eight\", {\"this one\": 9}])\n",
        "    >>> l1.append([10, 11, 12])\n",
        "    >>> print(list(flatten_nested_lists(*l1)))\n",
        "    [1, '2', 3, 4, 5, 6, 7, 'Eight', {'this one': 9}, 10, 11, 12]\n",
        "    \"\"\"\n",
        "    for i in chain.from_iterable(input_list):\n",
        "        yield i\n",
        "l2: list = []\n",
        "l2.append([1, 2, 3])\n",
        "l2.append([4, 5, 6])\n",
        "l2.append([10, 11, 12])\n",
        "\n",
        "for list_item in flatten_nested_lists(*l2):\n",
        "    print(list_item)"
      ],
      "execution_count": 3,
      "outputs": [
        {
          "output_type": "stream",
          "text": [
            "1\n",
            "2\n",
            "3\n",
            "4\n",
            "5\n",
            "6\n",
            "10\n",
            "11\n",
            "12\n"
          ],
          "name": "stdout"
        }
      ]
    },
    {
      "cell_type": "markdown",
      "metadata": {
        "id": "iYeWQJOOGtsI"
      },
      "source": [
        "# 4. Implement a FrozenList"
      ]
    },
    {
      "cell_type": "code",
      "metadata": {
        "id": "GeeRhBPlGrW1"
      },
      "source": [
        "from collections.abc import Iterable\n",
        "from collections import UserList\n",
        "\n",
        "\n",
        "def immutable_decorator(f):\n",
        "    def wrapper(self, *args, **kwargs):\n",
        "        raise TypeError(\"Object is frozen\")\n",
        "    return wrapper\n",
        "\n",
        "class FrozenList(UserList):  # pylint: disable=too-many-ancestors\n",
        "    \"\"\"\n",
        "    A List which is immutable.\n",
        "    >>> fl: FrozenList = FrozenList(\"hello\")\n",
        "    >>> fl:FrozenList = FrozenList([1, 2, 4])\n",
        "    >>> print(fl[1:2])\n",
        "    [2]\n",
        "    >>> print(fl)\n",
        "    [1, 2, 4]\n",
        "    >>> fl.append(1)\n",
        "    Traceback (most recent call last):\n",
        "     ...\n",
        "    TypeError: Object is frozen\n",
        "    >>> fl.extend(1)\n",
        "    Traceback (most recent call last):\n",
        "     ...\n",
        "    TypeError: Object is frozen\n",
        "    \"\"\"\n",
        "    @immutable_decorator\n",
        "    def __setitem__(self, i: int, o) -> None:\n",
        "        pass\n",
        "\n",
        "    @immutable_decorator\n",
        "    def __add__(self, other):\n",
        "        pass\n",
        "\n",
        "    @immutable_decorator\n",
        "    def __iadd__(self, other):\n",
        "        pass\n",
        "\n",
        "    @immutable_decorator\n",
        "    def __mul__(self, n: int):\n",
        "        pass\n",
        "\n",
        "    @immutable_decorator\n",
        "    def __imul__(self, n: int):\n",
        "        pass\n",
        "\n",
        "    @immutable_decorator\n",
        "    def append(self, item) -> None:\n",
        "        pass\n",
        "\n",
        "    @immutable_decorator\n",
        "    def insert(self, i: int, item) -> None:\n",
        "        pass\n",
        "\n",
        "    @immutable_decorator\n",
        "    def pop(self, i: int):\n",
        "        pass\n",
        "\n",
        "    @immutable_decorator\n",
        "    def remove(self, item) -> None:\n",
        "        pass\n",
        "\n",
        "    @immutable_decorator\n",
        "    def clear(self) -> None:\n",
        "        pass\n",
        "\n",
        "    @immutable_decorator\n",
        "    def reverse(self) -> None:\n",
        "        pass\n",
        "\n",
        "    @immutable_decorator\n",
        "    def extend(self, other) -> None:\n",
        "        pass\n",
        "\n",
        "l: list = [1, 2, 4]\n",
        "fl: FrozenList = FrozenList(l)\n",
        "assert fl[1:2] == [2]\n",
        "fl: FrozenList = FrozenList(\"help\")\n",
        "assert fl[1::2] == [\"e\", \"p\"]"
      ],
      "execution_count": 4,
      "outputs": []
    },
    {
      "cell_type": "markdown",
      "metadata": {
        "id": "yK0IexPrG1p4"
      },
      "source": [
        "# 5. Create an Autoappend List"
      ]
    },
    {
      "cell_type": "code",
      "metadata": {
        "id": "6670r8LhGzFy"
      },
      "source": [
        "from collections import UserList\n",
        "\n",
        "class AutoAppendList(UserList):\n",
        "    \"\"\"\n",
        "    AutoAppendList. Will append an item if you are off by one index assignment.\n",
        "    >>> aal: AutoAppendList = AutoAppendList()\n",
        "    >>> for i in range(10):\n",
        "    ...     aal[i] = i\n",
        "    >>> print(aal)\n",
        "    [0, 1, 2, 3, 4, 5, 6, 7, 8, 9]\n",
        "    \"\"\"\n",
        "    def __setitem__(self, index, item):\n",
        "        \"\"\"__setitem__.\n",
        "        Args:\n",
        "            index:\n",
        "            item:\n",
        "        \"\"\"\n",
        "        if index == len(self.data):\n",
        "            self.data.append(item)\n",
        "        else:\n",
        "            self.data[i] = item\n",
        "\n",
        "aal: AutoAppendList = AutoAppendList()\n",
        "\n",
        "for iteration, char in enumerate(\"hello\"):\n",
        "    aal[iteration] = ord(char)\n",
        "\n",
        "assert aal == [104, 101, 108, 108, 111]"
      ],
      "execution_count": 5,
      "outputs": []
    },
    {
      "cell_type": "markdown",
      "metadata": {
        "id": "xhdM5bdeG7B5"
      },
      "source": [
        "# 6. Create a List Which Only Accepts Specific Object Types"
      ]
    },
    {
      "cell_type": "code",
      "metadata": {
        "id": "nWmCUn25G4_R",
        "outputId": "c89b3237-9079-4e02-f18e-4e7ac47e92d5",
        "colab": {
          "base_uri": "https://localhost:8080/"
        }
      },
      "source": [
        "from collections import UserList\n",
        "from urllib.parse import urlparse\n",
        "import json\n",
        "import requests\n",
        "\n",
        "def recursive_key_values(dictionary):\n",
        "    for key, value in dictionary.items():\n",
        "        i = 0\n",
        "        if type(value) is str:\n",
        "            yield (key, value)\n",
        "        elif type(value) is dict:\n",
        "            yield from recursive_key_values(value)\n",
        "        elif type(value) in (list, tuple, set):\n",
        "            for seq_item in value:\n",
        "                yield from recursive_key_values({f\"{key}_{str(i)}\": seq_item})\n",
        "                i = i + 1\n",
        "        else:\n",
        "            yield (key, str(value))\n",
        "\n",
        "class URLFilteredList(UserList):\n",
        "    \"\"\"\n",
        "    URLFilteredList. Will only accept URLs via append.\n",
        "    \"\"\"\n",
        "    def __init__(self):\n",
        "        self.data = []\n",
        "\n",
        "    def append(self, item) -> None:\n",
        "        if self._is_url(item):\n",
        "            super().append(item)\n",
        "\n",
        "    def __setitem__(self, i: int, item):\n",
        "        if self._is_url(item):\n",
        "            super().append(item)\n",
        "\n",
        "    @staticmethod\n",
        "    def _is_url(value: str) -> bool:\n",
        "        if value and isinstance(value, str):\n",
        "            validation = urlparse(value)\n",
        "            if all([validation.scheme, validation.netloc]):\n",
        "                return True\n",
        "\n",
        "        return False\n",
        "\n",
        "dict1 = dict(\n",
        "    json.loads(\n",
        "        requests.get(\"http://ergast.com/api/f1/2014/5/results.json\").text))\n",
        "\n",
        "ul: URLFilteredList = URLFilteredList()\n",
        "for k, v in recursive_key_values(dict1):\n",
        "    ul.append(v)\n",
        "\n",
        "assert \"http://en.wikipedia.org/wiki/2014_Spanish_Grand_Prix\" in ul\n",
        "assert \"http://en.wikipedia.org/wiki/Daniel_Ricciardo\" in ul\n",
        "ul[0] = \"definitely not a url\"\n",
        "assert ul[0] == 'http://ergast.com/mrd/1.4'\n",
        "\n",
        "print(ul)"
      ],
      "execution_count": 6,
      "outputs": [
        {
          "output_type": "stream",
          "text": [
            "['http://ergast.com/mrd/1.4', 'http://ergast.com/api/f1/2014/5/results.json', 'http://en.wikipedia.org/wiki/2014_Spanish_Grand_Prix', 'http://en.wikipedia.org/wiki/Circuit_de_Barcelona-Catalunya', 'http://en.wikipedia.org/wiki/Lewis_Hamilton', 'http://en.wikipedia.org/wiki/Mercedes-Benz_in_Formula_One', 'http://en.wikipedia.org/wiki/Nico_Rosberg', 'http://en.wikipedia.org/wiki/Mercedes-Benz_in_Formula_One', 'http://en.wikipedia.org/wiki/Daniel_Ricciardo', 'http://en.wikipedia.org/wiki/Red_Bull_Racing', 'http://en.wikipedia.org/wiki/Sebastian_Vettel', 'http://en.wikipedia.org/wiki/Red_Bull_Racing', 'http://en.wikipedia.org/wiki/Valtteri_Bottas', 'http://en.wikipedia.org/wiki/Williams_Grand_Prix_Engineering', 'http://en.wikipedia.org/wiki/Fernando_Alonso', 'http://en.wikipedia.org/wiki/Scuderia_Ferrari', 'http://en.wikipedia.org/wiki/Kimi_R%C3%A4ikk%C3%B6nen', 'http://en.wikipedia.org/wiki/Scuderia_Ferrari', 'http://en.wikipedia.org/wiki/Romain_Grosjean', 'http://en.wikipedia.org/wiki/Lotus_F1', 'http://en.wikipedia.org/wiki/Sergio_P%C3%A9rez', 'http://en.wikipedia.org/wiki/Racing_Point_Force_India', 'http://en.wikipedia.org/wiki/Nico_H%C3%BClkenberg', 'http://en.wikipedia.org/wiki/Racing_Point_Force_India', 'http://en.wikipedia.org/wiki/Jenson_Button', 'http://en.wikipedia.org/wiki/McLaren', 'http://en.wikipedia.org/wiki/Kevin_Magnussen', 'http://en.wikipedia.org/wiki/McLaren', 'http://en.wikipedia.org/wiki/Felipe_Massa', 'http://en.wikipedia.org/wiki/Williams_Grand_Prix_Engineering', 'http://en.wikipedia.org/wiki/Daniil_Kvyat', 'http://en.wikipedia.org/wiki/Scuderia_Toro_Rosso', 'http://en.wikipedia.org/wiki/Pastor_Maldonado', 'http://en.wikipedia.org/wiki/Lotus_F1', 'http://en.wikipedia.org/wiki/Esteban_Guti%C3%A9rrez', 'http://en.wikipedia.org/wiki/Sauber', 'http://en.wikipedia.org/wiki/Adrian_Sutil', 'http://en.wikipedia.org/wiki/Sauber', 'http://en.wikipedia.org/wiki/Jules_Bianchi', 'http://en.wikipedia.org/wiki/Marussia_F1', 'http://en.wikipedia.org/wiki/Max_Chilton', 'http://en.wikipedia.org/wiki/Marussia_F1', 'http://en.wikipedia.org/wiki/Marcus_Ericsson', 'http://en.wikipedia.org/wiki/Caterham_F1', 'http://en.wikipedia.org/wiki/Kamui_Kobayashi', 'http://en.wikipedia.org/wiki/Caterham_F1', 'http://en.wikipedia.org/wiki/Jean-%C3%89ric_Vergne', 'http://en.wikipedia.org/wiki/Scuderia_Toro_Rosso']\n"
          ],
          "name": "stdout"
        }
      ]
    },
    {
      "cell_type": "markdown",
      "metadata": {
        "id": "E7nj167oHB2u"
      },
      "source": [
        "# 7. Use Map and Reduce on Lists"
      ]
    },
    {
      "cell_type": "code",
      "metadata": {
        "id": "VNJTIidSG_qQ"
      },
      "source": [
        "import functools\n",
        "\n",
        "a = [5, 7, 9, 11]\n",
        "b = [1, 20, 30, 40]\n",
        "c = [3, 3, 3, 6]\n",
        "\n",
        "answers = list(map(lambda x, y, z: (x + y) / z, a, b, c))\n",
        "assert answers == [2.0, 9.0, 13.0, 8.5]\n",
        "\n",
        "summation = functools.reduce(lambda x, next_reduce: x + next_reduce, [2.0, 9.0, 13.0, 8.5])\n",
        "assert summation == 32.5"
      ],
      "execution_count": 7,
      "outputs": []
    }
  ]
}