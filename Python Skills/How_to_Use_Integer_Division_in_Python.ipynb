{
  "nbformat": 4,
  "nbformat_minor": 0,
  "metadata": {
    "colab": {
      "name": "How to Use Integer Division in Python.ipynb",
      "provenance": [],
      "authorship_tag": "ABX9TyOjdsRp34ncSq4aXXBq8ui5"
    },
    "kernelspec": {
      "name": "python3",
      "display_name": "Python 3"
    },
    "language_info": {
      "name": "python"
    }
  },
  "cells": [
    {
      "cell_type": "markdown",
      "metadata": {
        "id": "OpFEkHysmCgf"
      },
      "source": [
        "[Reference](https://medium.com/code-85/how-to-use-integer-division-in-python-a6b218dd889a)"
      ]
    },
    {
      "cell_type": "code",
      "metadata": {
        "colab": {
          "base_uri": "https://localhost:8080/"
        },
        "id": "JSSXJ8FFmBQy",
        "outputId": "c3aa5da9-a46d-41b2-b5d2-283a34375bc1"
      },
      "source": [
        "a = 8\n",
        "b = 3\n",
        "quotient = a / b\n",
        "whole_number = a // b\n",
        "print(quotient, type(quotient))\n",
        "print(whole_number, type(whole_number))"
      ],
      "execution_count": 3,
      "outputs": [
        {
          "output_type": "stream",
          "text": [
            "2.6666666666666665 <class 'float'>\n",
            "2 <class 'int'>\n"
          ],
          "name": "stdout"
        }
      ]
    }
  ]
}