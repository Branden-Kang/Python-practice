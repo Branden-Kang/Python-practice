{
  "nbformat": 4,
  "nbformat_minor": 0,
  "metadata": {
    "colab": {
      "provenance": [],
      "authorship_tag": "ABX9TyM4KlrWev7+JGQ5o15NOqb2"
    },
    "kernelspec": {
      "name": "python3",
      "display_name": "Python 3"
    },
    "language_info": {
      "name": "python"
    }
  },
  "cells": [
    {
      "cell_type": "markdown",
      "source": [
        "[Reference](https://medium.com/@Rohan_Dutt/text-to-sql-with-smolagent-by-huggingface-explained-in-simple-english-python-code-included-045ef8e561ea)"
      ],
      "metadata": {
        "id": "7YzO6sJndAU2"
      }
    },
    {
      "cell_type": "markdown",
      "source": [
        "# Setting up the SQL database with SQLAlchemy"
      ],
      "metadata": {
        "id": "jgdGnmpMdDtA"
      }
    },
    {
      "cell_type": "code",
      "execution_count": 1,
      "metadata": {
        "id": "5MBjR3qfc-um"
      },
      "outputs": [],
      "source": [
        "from sqlalchemy import (\n",
        "    Column,\n",
        "    Float,\n",
        "    Integer,\n",
        "    MetaData,\n",
        "    String,\n",
        "    Table,\n",
        "    create_engine,\n",
        "    insert,\n",
        "    inspect,\n",
        "    text,\n",
        ")\n",
        "\n",
        "engine = create_engine(\"sqlite:///:memory:\")\n",
        "metadata_obj = MetaData()"
      ]
    },
    {
      "cell_type": "markdown",
      "source": [
        "# Creating a SQL Query Tool with SMOLAGENT"
      ],
      "metadata": {
        "id": "oypK7a-IdHYo"
      }
    },
    {
      "cell_type": "code",
      "source": [
        "# create city SQL table\n",
        "table_name = \"receipts\"\n",
        "receipts = Table(\n",
        "    table_name,\n",
        "    metadata_obj,\n",
        "    Column(\"receipt_id\", Integer, primary_key=True),\n",
        "    Column(\"customer_name\", String(16), primary_key=True),\n",
        "    Column(\"price\", Float),\n",
        "    Column(\"tip\", Float),\n",
        ")\n",
        "metadata_obj.create_all(engine)\n",
        "\n",
        "rows = [\n",
        "    {\"receipt_id\": 1, \"customer_name\": \"Alan Payne\", \"price\": 12.06, \"tip\": 1.20},\n",
        "    {\"receipt_id\": 2, \"customer_name\": \"Alex Mason\", \"price\": 23.86, \"tip\": 0.24},\n",
        "    {\"receipt_id\": 3, \"customer_name\": \"Woodrow Wilson\", \"price\": 53.43, \"tip\": 5.43},\n",
        "    {\"receipt_id\": 4, \"customer_name\": \"Margaret James\", \"price\": 21.11, \"tip\": 1.00},\n",
        "]\n",
        "for row in rows:\n",
        "    stmt = insert(receipts).values(row)\n",
        "    with engine.begin() as connection:\n",
        "        cursor = connection.execute(stmt)\n",
        "\n",
        "inspector = inspect(engine)\n",
        "columns_info = [(col[\"name\"], col[\"type\"]) for col in inspector.get_columns(\"receipts\")]\n",
        "\n",
        "table_description = \"Columns:\\n\" + \"\\n\".join([f\"  - {name}: {col_type}\" for name, col_type in columns_info])\n",
        "print(table_description)"
      ],
      "metadata": {
        "id": "6HETcUMUdF2a"
      },
      "execution_count": 2,
      "outputs": []
    },
    {
      "cell_type": "markdown",
      "source": [
        "# Running the SMOLAGENT with a Natural Language Query"
      ],
      "metadata": {
        "id": "2EYxPQpPdLSu"
      }
    },
    {
      "cell_type": "code",
      "source": [
        "from smolagents import tool\n",
        "\n",
        "\n",
        "@tool\n",
        "def sql_engine(query: str) -> str:\n",
        "    \"\"\"\n",
        "    Allows you to perform SQL queries on the table. Returns a string representation of the result.\n",
        "    The table is named 'receipts'. Its description is as follows:\n",
        "        Columns:\n",
        "        - receipt_id: INTEGER\n",
        "        - customer_name: VARCHAR(16)\n",
        "        - price: FLOAT\n",
        "        - tip: FLOAT\n",
        "\n",
        "    Args:\n",
        "        query: The query to perform. This should be correct SQL.\n",
        "    \"\"\"\n",
        "    output = \"\"\n",
        "    with engine.connect() as con:\n",
        "        rows = con.execute(text(query))\n",
        "        for row in rows:\n",
        "            output += \"\\n\" + str(row)\n",
        "    return output\n",
        "\n",
        "\n",
        "from smolagents import CodeAgent, HfApiModel\n",
        "\n",
        "\n",
        "agent = CodeAgent(\n",
        "    tools=[sql_engine],\n",
        "    model=HfApiModel(\"meta-llama/Meta-Llama-3.1-8B-Instruct\"),\n",
        ")\n",
        "agent.run(\"Can you give me the name of the client who got the most expensive receipt?\")"
      ],
      "metadata": {
        "id": "8rDIeh1ndJrV"
      },
      "execution_count": 3,
      "outputs": []
    }
  ]
}
