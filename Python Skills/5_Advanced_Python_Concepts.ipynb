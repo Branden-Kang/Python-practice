{
  "nbformat": 4,
  "nbformat_minor": 0,
  "metadata": {
    "colab": {
      "name": "5 Advanced Python Concepts.ipynb",
      "provenance": [],
      "authorship_tag": "ABX9TyO2jQpk5IQ1CyJgU0CEj+29"
    },
    "kernelspec": {
      "name": "python3",
      "display_name": "Python 3"
    }
  },
  "cells": [
    {
      "cell_type": "markdown",
      "metadata": {
        "id": "kxCPsgRcDK3g",
        "colab_type": "text"
      },
      "source": [
        "[Reference](https://medium.com/better-programming/5-advanced-python-concepts-explanations-and-applications-99a03f6bd1bd0)"
      ]
    },
    {
      "cell_type": "code",
      "metadata": {
        "id": "uXoCGo2uAMOG",
        "colab_type": "code",
        "colab": {}
      },
      "source": [
        "scores = [('John', 95), ('Danny', 98), ('Aaron', 90), ('Leo', 94)]"
      ],
      "execution_count": 1,
      "outputs": []
    },
    {
      "cell_type": "code",
      "metadata": {
        "id": "_2jthvlCDO3F",
        "colab_type": "code",
        "colab": {
          "base_uri": "https://localhost:8080/",
          "height": 34
        },
        "outputId": "6b361df3-8fce-43e8-c7b2-6e1a00181402"
      },
      "source": [
        "sorted(scores, reverse=True)"
      ],
      "execution_count": 2,
      "outputs": [
        {
          "output_type": "execute_result",
          "data": {
            "text/plain": [
              "[('Leo', 94), ('John', 95), ('Danny', 98), ('Aaron', 90)]"
            ]
          },
          "metadata": {
            "tags": []
          },
          "execution_count": 2
        }
      ]
    },
    {
      "cell_type": "code",
      "metadata": {
        "id": "ZnX5VCW_DPzR",
        "colab_type": "code",
        "colab": {
          "base_uri": "https://localhost:8080/",
          "height": 34
        },
        "outputId": "d8bb5bb5-0cd6-4220-fa64-6a33fccfe6fd"
      },
      "source": [
        "sorted(scores, key=lambda x: x[1], reverse=True)"
      ],
      "execution_count": 3,
      "outputs": [
        {
          "output_type": "execute_result",
          "data": {
            "text/plain": [
              "[('Danny', 98), ('John', 95), ('Leo', 94), ('Aaron', 90)]"
            ]
          },
          "metadata": {
            "tags": []
          },
          "execution_count": 3
        }
      ]
    },
    {
      "cell_type": "code",
      "metadata": {
        "id": "GRAqX96sDSpr",
        "colab_type": "code",
        "colab": {
          "base_uri": "https://localhost:8080/",
          "height": 34
        },
        "outputId": "b7d63aa0-a7bd-44b6-b4d3-be8d33fb4b55"
      },
      "source": [
        "sorted(scores, key=lambda x: x[0], reverse=True)"
      ],
      "execution_count": 4,
      "outputs": [
        {
          "output_type": "execute_result",
          "data": {
            "text/plain": [
              "[('Leo', 94), ('John', 95), ('Danny', 98), ('Aaron', 90)]"
            ]
          },
          "metadata": {
            "tags": []
          },
          "execution_count": 4
        }
      ]
    },
    {
      "cell_type": "markdown",
      "metadata": {
        "id": "0zq_KKYhDR9_",
        "colab_type": "text"
      },
      "source": [
        "# Comprehensions"
      ]
    },
    {
      "cell_type": "code",
      "metadata": {
        "id": "WfWwU-JcDQwi",
        "colab_type": "code",
        "colab": {}
      },
      "source": [
        "numbers = [1, 2, 3, -3, -2, -1]"
      ],
      "execution_count": 5,
      "outputs": []
    },
    {
      "cell_type": "code",
      "metadata": {
        "id": "w4hfxR3dDWaS",
        "colab_type": "code",
        "colab": {
          "base_uri": "https://localhost:8080/",
          "height": 34
        },
        "outputId": "87a2208c-eee8-4437-a800-bb944d39eb85"
      },
      "source": [
        "[x*x for x in numbers]"
      ],
      "execution_count": 6,
      "outputs": [
        {
          "output_type": "execute_result",
          "data": {
            "text/plain": [
              "[1, 4, 9, 9, 4, 1]"
            ]
          },
          "metadata": {
            "tags": []
          },
          "execution_count": 6
        }
      ]
    },
    {
      "cell_type": "code",
      "metadata": {
        "id": "VJLptn4FDXXB",
        "colab_type": "code",
        "colab": {
          "base_uri": "https://localhost:8080/",
          "height": 34
        },
        "outputId": "4df83cc1-fad9-42d0-f05a-349bd2a410d3"
      },
      "source": [
        " {x: pow(10, x) for x in numbers}"
      ],
      "execution_count": 7,
      "outputs": [
        {
          "output_type": "execute_result",
          "data": {
            "text/plain": [
              "{-3: 0.001, -2: 0.01, -1: 0.1, 1: 10, 2: 100, 3: 1000}"
            ]
          },
          "metadata": {
            "tags": []
          },
          "execution_count": 7
        }
      ]
    },
    {
      "cell_type": "code",
      "metadata": {
        "id": "QlabATKSDZTc",
        "colab_type": "code",
        "colab": {
          "base_uri": "https://localhost:8080/",
          "height": 34
        },
        "outputId": "efc172a0-f31c-4636-f7f5-cecf37f0e3fa"
      },
      "source": [
        "{abs(x) for x in numbers}"
      ],
      "execution_count": 8,
      "outputs": [
        {
          "output_type": "execute_result",
          "data": {
            "text/plain": [
              "{1, 2, 3}"
            ]
          },
          "metadata": {
            "tags": []
          },
          "execution_count": 8
        }
      ]
    },
    {
      "cell_type": "markdown",
      "metadata": {
        "id": "5rkBbgHoDf2I",
        "colab_type": "text"
      },
      "source": [
        "# Generators"
      ]
    },
    {
      "cell_type": "code",
      "metadata": {
        "id": "j9spSil3DcZS",
        "colab_type": "code",
        "colab": {}
      },
      "source": [
        "def abc_generator():\n",
        "  yield \"a\"\n",
        "  yield \"b\"\n",
        "  yield \"c\""
      ],
      "execution_count": 9,
      "outputs": []
    },
    {
      "cell_type": "code",
      "metadata": {
        "id": "a8MYzOiUEihA",
        "colab_type": "code",
        "colab": {}
      },
      "source": [
        "abc_gen = abc_generator()"
      ],
      "execution_count": 10,
      "outputs": []
    },
    {
      "cell_type": "code",
      "metadata": {
        "id": "TjTi8rNZEkL-",
        "colab_type": "code",
        "colab": {
          "base_uri": "https://localhost:8080/",
          "height": 34
        },
        "outputId": "aa18ccb9-ca35-454d-cec3-0d59319bdd69"
      },
      "source": [
        "print(\"Type of abc_gen:\", type(abc_gen))"
      ],
      "execution_count": 11,
      "outputs": [
        {
          "output_type": "stream",
          "text": [
            "Type of abc_gen: <class 'generator'>\n"
          ],
          "name": "stdout"
        }
      ]
    },
    {
      "cell_type": "code",
      "metadata": {
        "id": "Mxc1ZcBJEmKF",
        "colab_type": "code",
        "colab": {
          "base_uri": "https://localhost:8080/",
          "height": 68
        },
        "outputId": "5d7b1ed4-0912-49b4-c675-ed32c8af4f7b"
      },
      "source": [
        "for letter in abc_gen:\n",
        "  print(letter)"
      ],
      "execution_count": 12,
      "outputs": [
        {
          "output_type": "stream",
          "text": [
            "a\n",
            "b\n",
            "c\n"
          ],
          "name": "stdout"
        }
      ]
    },
    {
      "cell_type": "code",
      "metadata": {
        "id": "hmTndO7gEoxJ",
        "colab_type": "code",
        "colab": {}
      },
      "source": [
        "limit = 10000000000\n",
        "\n",
        "# Use a generator function\n",
        "def integer_generator():\n",
        "    n = 0\n",
        "    while n < limit:\n",
        "        n += 1\n",
        "        yield n"
      ],
      "execution_count": 13,
      "outputs": []
    },
    {
      "cell_type": "code",
      "metadata": {
        "id": "g-WfmtyeEvy6",
        "colab_type": "code",
        "colab": {}
      },
      "source": [
        "int_gen = integer_generator()\n",
        "int_sum0 = sum(int_gen)"
      ],
      "execution_count": 14,
      "outputs": []
    },
    {
      "cell_type": "code",
      "metadata": {
        "id": "E47wN0OHExkI",
        "colab_type": "code",
        "colab": {}
      },
      "source": [
        "# Use generator expression\n",
        "int_sum1 = sum(x for x in range(1, limit+1))"
      ],
      "execution_count": 15,
      "outputs": []
    },
    {
      "cell_type": "code",
      "metadata": {
        "id": "LPu_HEsPMkkj",
        "colab_type": "code",
        "colab": {
          "base_uri": "https://localhost:8080/",
          "height": 34
        },
        "outputId": "b7e8930a-2e16-4c40-c1bc-92a0e5488627"
      },
      "source": [
        "int_sum0"
      ],
      "execution_count": 16,
      "outputs": [
        {
          "output_type": "execute_result",
          "data": {
            "text/plain": [
              "50000000005000000000"
            ]
          },
          "metadata": {
            "tags": []
          },
          "execution_count": 16
        }
      ]
    },
    {
      "cell_type": "code",
      "metadata": {
        "id": "aaYY_s6VMmEm",
        "colab_type": "code",
        "colab": {
          "base_uri": "https://localhost:8080/",
          "height": 34
        },
        "outputId": "d4ff01f9-0633-4d76-e886-c382af73e0a6"
      },
      "source": [
        "int_sum1"
      ],
      "execution_count": 17,
      "outputs": [
        {
          "output_type": "execute_result",
          "data": {
            "text/plain": [
              "50000000005000000000"
            ]
          },
          "metadata": {
            "tags": []
          },
          "execution_count": 17
        }
      ]
    },
    {
      "cell_type": "markdown",
      "metadata": {
        "id": "XaCoZWZ0E9Hv",
        "colab_type": "text"
      },
      "source": [
        "# Decorators"
      ]
    },
    {
      "cell_type": "code",
      "metadata": {
        "id": "Lyr3ORZCE73J",
        "colab_type": "code",
        "colab": {}
      },
      "source": [
        "from functools import wraps\n",
        "import time"
      ],
      "execution_count": 3,
      "outputs": []
    },
    {
      "cell_type": "code",
      "metadata": {
        "id": "VMcU-99sE_wU",
        "colab_type": "code",
        "colab": {}
      },
      "source": [
        "def timing(func):\n",
        "    @wraps(func)\n",
        "    def wrapped(*args, **kwargs):\n",
        "        start = time.time()\n",
        "        func(*args, **kwargs)\n",
        "        end = time.time()\n",
        "        print(f\"Time Elapsed: {end-start}\")\n",
        "\n",
        "    return wrapped"
      ],
      "execution_count": 4,
      "outputs": []
    },
    {
      "cell_type": "code",
      "metadata": {
        "id": "lMkbVqcxFCvN",
        "colab_type": "code",
        "colab": {}
      },
      "source": [
        "@timing\n",
        "def sum_of_squares(n):\n",
        "    int_sum = sum(x*x for x in range(n))\n",
        "    print(f\"Sum of Squares from 1 to {n}: {int_sum}\")"
      ],
      "execution_count": 7,
      "outputs": []
    },
    {
      "cell_type": "code",
      "metadata": {
        "id": "4gRGF2nlFGGh",
        "colab_type": "code",
        "colab": {
          "base_uri": "https://localhost:8080/",
          "height": 51
        },
        "outputId": "306f544b-cf16-43ad-a3ce-474a32e4b3c4"
      },
      "source": [
        "sum_of_squares(100)"
      ],
      "execution_count": 8,
      "outputs": [
        {
          "output_type": "stream",
          "text": [
            "Sum of Squares from 1 to 100: 328350\n",
            "Time Elapsed: 0.0002391338348388672\n"
          ],
          "name": "stdout"
        }
      ]
    },
    {
      "cell_type": "code",
      "metadata": {
        "id": "fOWECro-FHAF",
        "colab_type": "code",
        "colab": {
          "base_uri": "https://localhost:8080/",
          "height": 51
        },
        "outputId": "023b9884-6734-4b08-eea4-1913f4657fc6"
      },
      "source": [
        "sum_of_squares(10000000)"
      ],
      "execution_count": 9,
      "outputs": [
        {
          "output_type": "stream",
          "text": [
            "Sum of Squares from 1 to 10000000: 333333283333335000000\n",
            "Time Elapsed: 1.0209190845489502\n"
          ],
          "name": "stdout"
        }
      ]
    },
    {
      "cell_type": "markdown",
      "metadata": {
        "id": "lKXkIjWYH7IO",
        "colab_type": "text"
      },
      "source": [
        "# Hashability"
      ]
    },
    {
      "cell_type": "code",
      "metadata": {
        "id": "2i4umWx5H7dW",
        "colab_type": "code",
        "colab": {
          "base_uri": "https://localhost:8080/",
          "height": 34
        },
        "outputId": "e785bd16-47ec-4cd3-ebf9-de92ba6b1d8c"
      },
      "source": [
        "hash(\"Hello World!\")"
      ],
      "execution_count": 10,
      "outputs": [
        {
          "output_type": "execute_result",
          "data": {
            "text/plain": [
              "8949164250971019951"
            ]
          },
          "metadata": {
            "tags": []
          },
          "execution_count": 10
        }
      ]
    },
    {
      "cell_type": "code",
      "metadata": {
        "id": "wvh21ovBH_SD",
        "colab_type": "code",
        "colab": {
          "base_uri": "https://localhost:8080/",
          "height": 34
        },
        "outputId": "bb7004b7-54f2-429a-a7c7-0ce0da8ecfa1"
      },
      "source": [
        "hash((2, 'Hello'))"
      ],
      "execution_count": 11,
      "outputs": [
        {
          "output_type": "execute_result",
          "data": {
            "text/plain": [
              "3741684460652157628"
            ]
          },
          "metadata": {
            "tags": []
          },
          "execution_count": 11
        }
      ]
    },
    {
      "cell_type": "code",
      "metadata": {
        "id": "FofBemOmICDQ",
        "colab_type": "code",
        "colab": {
          "base_uri": "https://localhost:8080/",
          "height": 198
        },
        "outputId": "e79660a6-c855-4507-ee32-69ce7a1e4b04"
      },
      "source": [
        " hash([1, 2, 3])"
      ],
      "execution_count": 12,
      "outputs": [
        {
          "output_type": "error",
          "ename": "TypeError",
          "evalue": "ignored",
          "traceback": [
            "\u001b[0;31m---------------------------------------------------------------------------\u001b[0m",
            "\u001b[0;31mTypeError\u001b[0m                                 Traceback (most recent call last)",
            "\u001b[0;32m<ipython-input-12-84d65be9aa35>\u001b[0m in \u001b[0;36m<module>\u001b[0;34m()\u001b[0m\n\u001b[0;32m----> 1\u001b[0;31m \u001b[0mhash\u001b[0m\u001b[0;34m(\u001b[0m\u001b[0;34m[\u001b[0m\u001b[0;36m1\u001b[0m\u001b[0;34m,\u001b[0m \u001b[0;36m2\u001b[0m\u001b[0;34m,\u001b[0m \u001b[0;36m3\u001b[0m\u001b[0;34m]\u001b[0m\u001b[0;34m)\u001b[0m\u001b[0;34m\u001b[0m\u001b[0;34m\u001b[0m\u001b[0m\n\u001b[0m",
            "\u001b[0;31mTypeError\u001b[0m: unhashable type: 'list'"
          ]
        }
      ]
    },
    {
      "cell_type": "code",
      "metadata": {
        "id": "dgLR0aAjIDQs",
        "colab_type": "code",
        "colab": {
          "base_uri": "https://localhost:8080/",
          "height": 198
        },
        "outputId": "e22dafc2-9af9-4ad7-b386-af61b117219f"
      },
      "source": [
        "hash({\"a\": 1, \"b\": 2})"
      ],
      "execution_count": 13,
      "outputs": [
        {
          "output_type": "error",
          "ename": "TypeError",
          "evalue": "ignored",
          "traceback": [
            "\u001b[0;31m---------------------------------------------------------------------------\u001b[0m",
            "\u001b[0;31mTypeError\u001b[0m                                 Traceback (most recent call last)",
            "\u001b[0;32m<ipython-input-13-bdf51709469d>\u001b[0m in \u001b[0;36m<module>\u001b[0;34m()\u001b[0m\n\u001b[0;32m----> 1\u001b[0;31m \u001b[0mhash\u001b[0m\u001b[0;34m(\u001b[0m\u001b[0;34m{\u001b[0m\u001b[0;34m\"a\"\u001b[0m\u001b[0;34m:\u001b[0m \u001b[0;36m1\u001b[0m\u001b[0;34m,\u001b[0m \u001b[0;34m\"b\"\u001b[0m\u001b[0;34m:\u001b[0m \u001b[0;36m2\u001b[0m\u001b[0;34m}\u001b[0m\u001b[0;34m)\u001b[0m\u001b[0;34m\u001b[0m\u001b[0;34m\u001b[0m\u001b[0m\n\u001b[0m",
            "\u001b[0;31mTypeError\u001b[0m: unhashable type: 'dict'"
          ]
        }
      ]
    },
    {
      "cell_type": "code",
      "metadata": {
        "id": "Jw0GuQUgM5Sa",
        "colab_type": "code",
        "colab": {}
      },
      "source": [
        "import random\n",
        "import timeit"
      ],
      "execution_count": 16,
      "outputs": []
    },
    {
      "cell_type": "code",
      "metadata": {
        "id": "xp0sqaYaM-o6",
        "colab_type": "code",
        "colab": {}
      },
      "source": [
        "def dict_look_up_time(n):\n",
        "  numbers = list(range(n))\n",
        "  random.shuffle(numbers)\n",
        "  d0 = {x: str(x) for x in numbers}\n",
        "  random_int = random.randint(0, n - 1)\n",
        "  t0 = timeit.timeit(lambda: d0[random_int], number=10000)\n",
        "  return t0"
      ],
      "execution_count": 14,
      "outputs": []
    },
    {
      "cell_type": "code",
      "metadata": {
        "id": "hwvoMAvdNCj3",
        "colab_type": "code",
        "colab": {
          "base_uri": "https://localhost:8080/",
          "height": 102
        },
        "outputId": "190f0bb6-5ca7-4213-a893-cebdf4270563"
      },
      "source": [
        "for n in (10, 100, 1000, 10000, 100000):\n",
        "  elapse_time = dict_look_up_time(n)\n",
        "  print(f\"*** N = {n:<8}: {elapse_time:.5f}\")"
      ],
      "execution_count": 17,
      "outputs": [
        {
          "output_type": "stream",
          "text": [
            "*** N = 10      : 0.00189\n",
            "*** N = 100     : 0.00193\n",
            "*** N = 1000    : 0.00121\n",
            "*** N = 10000   : 0.00127\n",
            "*** N = 100000  : 0.00116\n"
          ],
          "name": "stdout"
        }
      ]
    }
  ]
}