{
  "nbformat": 4,
  "nbformat_minor": 0,
  "metadata": {
    "colab": {
      "provenance": [],
      "authorship_tag": "ABX9TyNcz77caA3Ao8U6JVPWPu5g"
    },
    "kernelspec": {
      "name": "python3",
      "display_name": "Python 3"
    },
    "language_info": {
      "name": "python"
    }
  },
  "cells": [
    {
      "cell_type": "markdown",
      "source": [
        "[Reference](https://levelup.gitconnected.com/5-useful-python-functions-every-programmer-should-know-c0769517433f)"
      ],
      "metadata": {
        "id": "C2QH1_vq5ZHt"
      }
    },
    {
      "cell_type": "markdown",
      "source": [
        "# map()"
      ],
      "metadata": {
        "id": "5TkIP7wM648o"
      }
    },
    {
      "cell_type": "code",
      "execution_count": 1,
      "metadata": {
        "colab": {
          "base_uri": "https://localhost:8080/"
        },
        "id": "oAxv3BBP5Vea",
        "outputId": "5ce69c1d-7973-4642-df58-514b739468e3"
      },
      "outputs": [
        {
          "output_type": "execute_result",
          "data": {
            "text/plain": [
              "<map at 0x7fd174beaa60>"
            ]
          },
          "metadata": {},
          "execution_count": 1
        }
      ],
      "source": [
        "numbers = [1,2,3,4,5]\n",
        "def square(x):\n",
        "    return x * x\n",
        "map(square, numbers)"
      ]
    },
    {
      "cell_type": "code",
      "source": [
        "words = ['cat', 'dog', 'elephant']\n",
        "def length(word):\n",
        "    return len(word)\n",
        "map(length, words)"
      ],
      "metadata": {
        "colab": {
          "base_uri": "https://localhost:8080/"
        },
        "id": "4w_J4VHu7AOE",
        "outputId": "79a25f92-8cfa-49a4-a2c2-490eacebd4b3"
      },
      "execution_count": 2,
      "outputs": [
        {
          "output_type": "execute_result",
          "data": {
            "text/plain": [
              "<map at 0x7fd174bea730>"
            ]
          },
          "metadata": {},
          "execution_count": 2
        }
      ]
    },
    {
      "cell_type": "markdown",
      "source": [
        "# filter()"
      ],
      "metadata": {
        "id": "l20E4i-u7Wlk"
      }
    },
    {
      "cell_type": "code",
      "source": [
        "numbers = [1,2,3,4,5,6,7,8,9,10]\n",
        "def is_even(x):\n",
        "    return x%2 == 0"
      ],
      "metadata": {
        "id": "CPLNN4y97VwQ"
      },
      "execution_count": 3,
      "outputs": []
    },
    {
      "cell_type": "code",
      "source": [
        "words = ['cat', 'dog', 'elephant', 'madam', 'racecar']\n",
        "def is_palindrome(word):\n",
        "    return word == word[::-1]"
      ],
      "metadata": {
        "id": "4porI_EB7dyf"
      },
      "execution_count": 4,
      "outputs": []
    },
    {
      "cell_type": "markdown",
      "source": [
        "# reduce()"
      ],
      "metadata": {
        "id": "XGEVtAOh7x2s"
      }
    },
    {
      "cell_type": "code",
      "source": [
        "numbers = [1,2,3,4,5]\n",
        "from functools import reduce\n",
        "def product(x,y):\n",
        "    return x * y\n",
        "reduce(product, numbers)"
      ],
      "metadata": {
        "colab": {
          "base_uri": "https://localhost:8080/"
        },
        "id": "1fmCYAMc7mlP",
        "outputId": "fa7fdad7-d4ae-4f16-839a-8c5d70f4a695"
      },
      "execution_count": 5,
      "outputs": [
        {
          "output_type": "execute_result",
          "data": {
            "text/plain": [
              "120"
            ]
          },
          "metadata": {},
          "execution_count": 5
        }
      ]
    },
    {
      "cell_type": "code",
      "source": [
        "words = ['cat', 'dog', 'elephant']\n",
        "from functools import reduce\n",
        "def concatenate(x,y):\n",
        "    return x + y\n",
        "\n",
        "reduce(concatenate, words)"
      ],
      "metadata": {
        "colab": {
          "base_uri": "https://localhost:8080/",
          "height": 37
        },
        "id": "bjZNQLgu7-T4",
        "outputId": "8dac6b76-413b-4a40-a28a-ebfc256a6897"
      },
      "execution_count": 6,
      "outputs": [
        {
          "output_type": "execute_result",
          "data": {
            "text/plain": [
              "'catdogelephant'"
            ],
            "application/vnd.google.colaboratory.intrinsic+json": {
              "type": "string"
            }
          },
          "metadata": {},
          "execution_count": 6
        }
      ]
    },
    {
      "cell_type": "markdown",
      "source": [
        "# zip()"
      ],
      "metadata": {
        "id": "XtQ5SDb08Nx3"
      }
    },
    {
      "cell_type": "code",
      "source": [
        "numbers1 = [1,2,3,4,5]\n",
        "numbers2 = [6,7,8,9,10]\n",
        "zip(numbers1,numbers2)"
      ],
      "metadata": {
        "colab": {
          "base_uri": "https://localhost:8080/"
        },
        "id": "LlsjTROq8Mne",
        "outputId": "32444481-e26b-44bf-f140-f5c46dbebfba"
      },
      "execution_count": 7,
      "outputs": [
        {
          "output_type": "execute_result",
          "data": {
            "text/plain": [
              "<zip at 0x7fd1782d3680>"
            ]
          },
          "metadata": {},
          "execution_count": 7
        }
      ]
    },
    {
      "cell_type": "code",
      "source": [
        "words = ['cat', 'dog', 'elephant']\n",
        "zip(words)"
      ],
      "metadata": {
        "colab": {
          "base_uri": "https://localhost:8080/"
        },
        "id": "ABzQz81T8TR-",
        "outputId": "d2936aba-5130-4d31-a57b-581d0808f89e"
      },
      "execution_count": 8,
      "outputs": [
        {
          "output_type": "execute_result",
          "data": {
            "text/plain": [
              "<zip at 0x7fd1782d2d00>"
            ]
          },
          "metadata": {},
          "execution_count": 8
        }
      ]
    },
    {
      "cell_type": "markdown",
      "source": [
        "# enumerate()"
      ],
      "metadata": {
        "id": "YhhwkBdY8Wgw"
      }
    },
    {
      "cell_type": "code",
      "source": [
        "numbers = [1,2,3,4,5]\n",
        "list(enumerate(numbers))"
      ],
      "metadata": {
        "colab": {
          "base_uri": "https://localhost:8080/"
        },
        "id": "mgph3q-B8Vle",
        "outputId": "f438f2ac-0252-4571-9cf3-6bbb1f84f5e9"
      },
      "execution_count": 9,
      "outputs": [
        {
          "output_type": "execute_result",
          "data": {
            "text/plain": [
              "[(0, 1), (1, 2), (2, 3), (3, 4), (4, 5)]"
            ]
          },
          "metadata": {},
          "execution_count": 9
        }
      ]
    },
    {
      "cell_type": "code",
      "source": [
        "words = ['cat', 'dog', 'elephant']\n",
        "list(enumerate(words))"
      ],
      "metadata": {
        "colab": {
          "base_uri": "https://localhost:8080/"
        },
        "id": "NN23sqb48a-v",
        "outputId": "97d90725-f902-434a-81b7-c35cc381933f"
      },
      "execution_count": 10,
      "outputs": [
        {
          "output_type": "execute_result",
          "data": {
            "text/plain": [
              "[(0, 'cat'), (1, 'dog'), (2, 'elephant')]"
            ]
          },
          "metadata": {},
          "execution_count": 10
        }
      ]
    }
  ]
}
