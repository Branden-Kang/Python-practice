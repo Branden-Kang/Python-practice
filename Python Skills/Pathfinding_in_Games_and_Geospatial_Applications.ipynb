{
  "nbformat": 4,
  "nbformat_minor": 0,
  "metadata": {
    "colab": {
      "provenance": [],
      "authorship_tag": "ABX9TyNB6SGJwB7LQqSQ5XxpcJot"
    },
    "kernelspec": {
      "name": "python3",
      "display_name": "Python 3"
    },
    "language_info": {
      "name": "python"
    }
  },
  "cells": [
    {
      "cell_type": "markdown",
      "source": [
        "[Reference](https://levelup.gitconnected.com/pathfinding-in-games-and-geospatial-applications-5e63ee18764b)"
      ],
      "metadata": {
        "id": "iipVKwJhGtMl"
      }
    },
    {
      "cell_type": "markdown",
      "source": [
        "# Dijkstra"
      ],
      "metadata": {
        "id": "5WznoltcGyNs"
      }
    },
    {
      "cell_type": "code",
      "execution_count": 1,
      "metadata": {
        "id": "gmGhO5X_GrKE"
      },
      "outputs": [],
      "source": [
        "import heapq\n",
        "\n",
        "def dijkstra(graph, start):\n",
        "    dist = {node: float('inf') for node in graph}\n",
        "    dist[start] = 0\n",
        "    queue = [(0, start)]\n",
        "\n",
        "    while queue:\n",
        "        cost, current = heapq.heappop(queue)\n",
        "        if cost > dist[current]:\n",
        "            continue\n",
        "        for neighbor, weight in graph[current]:\n",
        "            new_cost = cost + weight\n",
        "            if new_cost < dist[neighbor]:\n",
        "                dist[neighbor] = new_cost\n",
        "                heapq.heappush(queue, (new_cost, neighbor))\n",
        "\n",
        "    return dist"
      ]
    },
    {
      "cell_type": "markdown",
      "source": [
        "# A*"
      ],
      "metadata": {
        "id": "169VYj7QG2I-"
      }
    },
    {
      "cell_type": "code",
      "source": [
        "import heapq\n",
        "\n",
        "def astar(graph, start, goal, heuristic):\n",
        "    open_set = [(0, start)]\n",
        "    g = {start: 0}\n",
        "    came_from = {}\n",
        "\n",
        "    while open_set:\n",
        "        _, current = heapq.heappop(open_set)\n",
        "        if current == goal:\n",
        "            return reconstruct_path(came_from, current)\n",
        "        for neighbor, cost in graph[current]:\n",
        "            tentative_g = g[current] + cost\n",
        "            if tentative_g < g.get(neighbor, float('inf')):\n",
        "                came_from[neighbor] = current\n",
        "                g[neighbor] = tentative_g\n",
        "                f = tentative_g + heuristic(neighbor, goal)\n",
        "                heapq.heappush(open_set, (f, neighbor))\n",
        "\n",
        "    return None\n",
        "\n",
        "def reconstruct_path(came_from, current):\n",
        "    path = [current]\n",
        "    while current in came_from:\n",
        "        current = came_from[current]\n",
        "        path.append(current)\n",
        "    return path[::-1]"
      ],
      "metadata": {
        "id": "2JFmvvlwG0r8"
      },
      "execution_count": 2,
      "outputs": []
    },
    {
      "cell_type": "markdown",
      "source": [
        "# BFS"
      ],
      "metadata": {
        "id": "DI7toYEzG5lG"
      }
    },
    {
      "cell_type": "code",
      "source": [
        "from collections import deque\n",
        "\n",
        "def bfs(graph, start, goal):\n",
        "    queue = deque([start])\n",
        "    visited = {start}\n",
        "    came_from = {}\n",
        "\n",
        "    while queue:\n",
        "        current = queue.popleft()\n",
        "        if current == goal:\n",
        "            return reconstruct_path(came_from, current)\n",
        "        for neighbor in graph[current]:\n",
        "            if neighbor not in visited:\n",
        "                visited.add(neighbor)\n",
        "                came_from[neighbor] = current\n",
        "                queue.append(neighbor)\n",
        "\n",
        "    return None"
      ],
      "metadata": {
        "id": "0wua5KT_G4NL"
      },
      "execution_count": 3,
      "outputs": []
    },
    {
      "cell_type": "markdown",
      "source": [
        "# DFS"
      ],
      "metadata": {
        "id": "MBuetXLbG8As"
      }
    },
    {
      "cell_type": "code",
      "source": [
        "def dfs(graph, start, visited=None):\n",
        "    if visited is None:\n",
        "        visited = set()\n",
        "    visited.add(start)\n",
        "    for neighbor in graph[start]:\n",
        "        if neighbor not in visited:\n",
        "            dfs(graph, neighbor, visited)\n",
        "    return visited"
      ],
      "metadata": {
        "id": "_HsFPrppG7DR"
      },
      "execution_count": 4,
      "outputs": []
    },
    {
      "cell_type": "markdown",
      "source": [
        "# Bidirectional Search"
      ],
      "metadata": {
        "id": "1ZE_z8diG_Mv"
      }
    },
    {
      "cell_type": "code",
      "source": [
        "from collections import deque\n",
        "\n",
        "def bidirectional_bfs(graph, start, goal):\n",
        "    if start == goal:\n",
        "        return [start]\n",
        "\n",
        "    front_queue = deque([start])\n",
        "    back_queue = deque([goal])\n",
        "\n",
        "    front_parents = {start: None}\n",
        "    back_parents = {goal: None}\n",
        "\n",
        "    while front_queue and back_queue:\n",
        "        meet_node = _expand_front(graph, front_queue, front_parents, back_parents)\n",
        "        if meet_node:\n",
        "            return _build_path(front_parents, back_parents, meet_node)\n",
        "\n",
        "        meet_node = _expand_front(graph, back_queue, back_parents, front_parents)\n",
        "        if meet_node:\n",
        "            return _build_path(front_parents, back_parents, meet_node)\n",
        "\n",
        "    return None  # No path found\n",
        "\n",
        "def _expand_front(graph, queue, this_parents, other_parents):\n",
        "    current = queue.popleft()\n",
        "    for neighbor in graph.get(current, []):\n",
        "        if neighbor not in this_parents:\n",
        "            this_parents[neighbor] = current\n",
        "            queue.append(neighbor)\n",
        "            if neighbor in other_parents:\n",
        "                return neighbor\n",
        "    return None\n",
        "\n",
        "def _build_path(front_parents, back_parents, meeting_point):\n",
        "    path = []\n",
        "    # build path from start to meeting_point\n",
        "    node = meeting_point\n",
        "    while node is not None:\n",
        "        path.append(node)\n",
        "        node = front_parents[node]\n",
        "    path.reverse()\n",
        "    # append path from meeting_point to goal\n",
        "    node = back_parents[meeting_point]\n",
        "    while node is not None:\n",
        "        path.append(node)\n",
        "        node = back_parents[node]\n",
        "    return path"
      ],
      "metadata": {
        "id": "gw6bpyhXG9KU"
      },
      "execution_count": 5,
      "outputs": []
    },
    {
      "cell_type": "markdown",
      "source": [
        "# Jump Point Search"
      ],
      "metadata": {
        "id": "GSFVMYosHB1O"
      }
    },
    {
      "cell_type": "code",
      "source": [
        "import heapq\n",
        "\n",
        "def jump_point_search(start, goal, grid):\n",
        "    open_list = []\n",
        "    heapq.heappush(open_list, (0, start))  # (f_score, node)\n",
        "\n",
        "    came_from = {}\n",
        "    g_score = {start: 0}\n",
        "\n",
        "    while open_list:\n",
        "        _, current = heapq.heappop(open_list)\n",
        "\n",
        "        if current == goal:\n",
        "            return reconstruct_path(came_from, current)\n",
        "\n",
        "        # prune_directions() is an application-specific function which\n",
        "        # determines allowed directions to search from the current node\n",
        "        for dx, dy in prune_directions(current, came_from):\n",
        "            # jump() returns the next jump point in the given direction, or None\n",
        "            jump_point = jump(grid, current[0], current[1], dx, dy, goal)\n",
        "            if jump_point:\n",
        "                tentative_g = g_score[current] + distance(current, jump_point)\n",
        "                if jump_point not in g_score or tentative_g < g_score[jump_point]:\n",
        "                    g_score[jump_point] = tentative_g\n",
        "                    f_score = tentative_g + heuristic(jump_point, goal)\n",
        "                    heapq.heappush(open_list, (f_score, jump_point))\n",
        "                    came_from[jump_point] = current\n",
        "\n",
        "    return None  # No path found"
      ],
      "metadata": {
        "id": "xJkBKD-CHA5n"
      },
      "execution_count": 6,
      "outputs": []
    },
    {
      "cell_type": "code",
      "source": [
        "def jump(grid, x, y, dx, dy, goal):\n",
        "    nx, ny = x + dx, y + dy\n",
        "    if not is_walkable(grid, nx, ny):\n",
        "        return None\n",
        "    if (nx, ny) == goal:\n",
        "        return (nx, ny)\n",
        "\n",
        "    # check for forced neighbors: positions that require a turn due to obstacles\n",
        "    if has_forced_neighbors(grid, nx, ny, dx, dy):\n",
        "        return (nx, ny)\n",
        "\n",
        "    # diagonal movement requires recursive checks along both axes\n",
        "    if dx != 0 and dy != 0:\n",
        "        if jump(grid, nx, ny, dx, 0, goal) or jump(grid, nx, ny, 0, dy, goal):\n",
        "            return (nx, ny)\n",
        "\n",
        "    return jump(grid, nx, ny, dx, dy, goal)"
      ],
      "metadata": {
        "id": "JyXnZ7VUHEOQ"
      },
      "execution_count": 7,
      "outputs": []
    },
    {
      "cell_type": "markdown",
      "source": [
        "# Theta* and Any-Angle Pathfinding"
      ],
      "metadata": {
        "id": "gxm66irNHG-e"
      }
    },
    {
      "cell_type": "code",
      "source": [
        "def theta_star(grid, start, goal):\n",
        "    open_list = []\n",
        "    heapq.heappush(open_list, (0, start))\n",
        "    came_from = {start: start}\n",
        "    g_score = {start: 0}\n",
        "\n",
        "    while open_list:\n",
        "        _, current = heapq.heappop(open_list)\n",
        "\n",
        "        if current == goal:\n",
        "            return reconstruct_path(came_from, current)\n",
        "\n",
        "        for neighbor in neighbors(grid, current):\n",
        "            parent = came_from[current]\n",
        "            if line_of_sight(grid, parent, neighbor):\n",
        "                tentative_g = g_score[parent] + distance(parent, neighbor)\n",
        "                if neighbor not in g_score or tentative_g < g_score[neighbor]:\n",
        "                    came_from[neighbor] = parent\n",
        "                    g_score[neighbor] = tentative_g\n",
        "                    f_score = tentative_g + heuristic(neighbor, goal)\n",
        "                    heapq.heappush(open_list, (f_score, neighbor))\n",
        "            else:\n",
        "                tentative_g = g_score[current] + distance(current, neighbor)\n",
        "                if neighbor not in g_score or tentative_g < g_score[neighbor]:\n",
        "                    came_from[neighbor] = current\n",
        "                    g_score[neighbor] = tentative_g\n",
        "                    f_score = tentative_g + heuristic(neighbor, goal)\n",
        "                    heapq.heappush(open_list, (f_score, neighbor))\n",
        "\n",
        "    return None"
      ],
      "metadata": {
        "id": "S-pNegO9HFgH"
      },
      "execution_count": 8,
      "outputs": []
    },
    {
      "cell_type": "markdown",
      "source": [
        "# Hierarchical Pathfinding A*"
      ],
      "metadata": {
        "id": "nCQ6BHDVHKMh"
      }
    },
    {
      "cell_type": "code",
      "source": [
        "def hierarchical_pathfinding(start, goal, grid, cluster_size):\n",
        "    clusters = partition_grid(grid, cluster_size)\n",
        "    entrances = identify_entrances(clusters)\n",
        "    abstract_graph = build_abstract_graph(clusters, entrances)\n",
        "\n",
        "    start_entrance = nearest_entrance(start, entrances)\n",
        "    goal_entrance = nearest_entrance(goal, entrances)\n",
        "\n",
        "    abstract_path = a_star_abstract(abstract_graph, start_entrance, goal_entrance)\n",
        "\n",
        "    full_path = []\n",
        "    for a, b in pairwise(abstract_path):\n",
        "        cluster_path = a_star(grid, a, b)  # low-level A* in each cluster\n",
        "        full_path.extend(cluster_path[:-1])  # avoid duplicate nodes\n",
        "\n",
        "    full_path.append(goal)  # ensure goal is included\n",
        "    return full_path"
      ],
      "metadata": {
        "id": "OUPPbrg_HIjU"
      },
      "execution_count": 9,
      "outputs": []
    },
    {
      "cell_type": "markdown",
      "source": [
        "# Customizable Route Planning and Multi-Level Dijkstra"
      ],
      "metadata": {
        "id": "x-IGlM_JHOeX"
      }
    },
    {
      "cell_type": "code",
      "source": [
        "# Phase 1: Metric-Independent Preprocessing (run once)\n",
        "def preprocess_graph(graph):\n",
        "    # Recursively partition the graph into cells at multiple levels\n",
        "    levels = []\n",
        "    current_level = graph\n",
        "    while size(current_level) > threshold:\n",
        "        cells = partition(current_level)  # e.g., via METIS or KaHIP\n",
        "        boundary_nodes = identify_boundary_nodes(cells)\n",
        "        levels.append((cells, boundary_nodes))\n",
        "        current_level = build_abstract_graph(cells, boundary_nodes)\n",
        "    return levels\n",
        "\n",
        "# Phase 2: Metric-Dependent Customization (repeatable for new weights)\n",
        "def customize_weights(levels, edge_weights):\n",
        "    for cells, boundary_nodes in levels:\n",
        "        for cell in cells:\n",
        "            # For each pair of boundary nodes in cell, compute shortest path shortcuts\n",
        "            shortcuts = compute_shortcuts(cell, boundary_nodes[cell], edge_weights)\n",
        "            update_cell_with_shortcuts(cell, shortcuts)\n",
        "\n",
        "# Phase 3: Query (per path request)\n",
        "def query_path(levels, start, goal, edge_weights):\n",
        "    # Initialize search structures on all levels\n",
        "    open_sets = init_open_sets(levels)\n",
        "    distances = init_distances(levels, start, goal)\n",
        "\n",
        "    while not all_open_sets_empty(open_sets):\n",
        "        # Perform a level-aware multi-directional Dijkstra step\n",
        "        for level in reversed(levels):\n",
        "            relax_edges(open_sets[level], distances, edge_weights, level)\n",
        "        # Check for meeting point between forward and backward searches\n",
        "\n",
        "    return reconstruct_path(distances, start, goal)"
      ],
      "metadata": {
        "id": "0zXQ2egkHLcM"
      },
      "execution_count": 10,
      "outputs": []
    }
  ]
}
