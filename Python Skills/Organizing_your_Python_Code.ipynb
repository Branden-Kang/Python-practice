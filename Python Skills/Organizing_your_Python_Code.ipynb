{
  "nbformat": 4,
  "nbformat_minor": 0,
  "metadata": {
    "colab": {
      "name": "Organizing your Python Code.ipynb",
      "provenance": [],
      "collapsed_sections": [],
      "authorship_tag": "ABX9TyPZFWUskArd7oUvvJsZqOSE"
    },
    "kernelspec": {
      "name": "python3",
      "display_name": "Python 3"
    }
  },
  "cells": [
    {
      "cell_type": "markdown",
      "metadata": {
        "id": "6cF7p_hkroff",
        "colab_type": "text"
      },
      "source": [
        "[Reference](https://medium.com/@k3no/organizing-your-python-code-ca5445843368)"
      ]
    },
    {
      "cell_type": "code",
      "metadata": {
        "id": "MUDKinDPqi2e",
        "colab_type": "code",
        "colab": {
          "base_uri": "https://localhost:8080/",
          "height": 170
        },
        "outputId": "09f8c4f1-e35b-4d76-91bd-c67d1d16b552"
      },
      "source": [
        "for i in [1,2,3]:\n",
        "    def printMa():\n",
        "        print ('Ma')\n",
        "    x = True\n",
        "    if x == True:\n",
        "     printMa()\n",
        "    y = False\n",
        "    if y == True:\n",
        "     printMa()\n",
        "    else:\n",
        "     print(\"Ma\")\n",
        "    y = True\n",
        "    if x and y == True:\n",
        "        if i == 3:\n",
        "            print('Mia let me GO !')\n",
        "        else:\n",
        "           print ('Mia')"
      ],
      "execution_count": 1,
      "outputs": [
        {
          "output_type": "stream",
          "text": [
            "Ma\n",
            "Ma\n",
            "Mia\n",
            "Ma\n",
            "Ma\n",
            "Mia\n",
            "Ma\n",
            "Ma\n",
            "Mia let me GO !\n"
          ],
          "name": "stdout"
        }
      ]
    },
    {
      "cell_type": "code",
      "metadata": {
        "id": "pdMvUAKRqkZw",
        "colab_type": "code",
        "colab": {
          "base_uri": "https://localhost:8080/",
          "height": 119
        },
        "outputId": "1f95929a-f576-45ca-a0bc-12b7818bf76d"
      },
      "source": [
        "def sing(line):\n",
        "    print ('Ma Ma')\n",
        "    if line == 1:\n",
        "        print('Mia')\n",
        "    else:\n",
        "        print ('Mia let me GO !')\n",
        "sing(1)\n",
        "sing(1)\n",
        "sing(2)"
      ],
      "execution_count": 4,
      "outputs": [
        {
          "output_type": "stream",
          "text": [
            "Ma Ma\n",
            "Mia\n",
            "Ma Ma\n",
            "Mia\n",
            "Ma Ma\n",
            "Mia let me GO !\n"
          ],
          "name": "stdout"
        }
      ]
    },
    {
      "cell_type": "code",
      "metadata": {
        "id": "2N3xsXMAqmir",
        "colab_type": "code",
        "colab": {
          "base_uri": "https://localhost:8080/",
          "height": 85
        },
        "outputId": "251c98fc-5420-4638-b7dc-5d71442c8bae"
      },
      "source": [
        "class chorusSinger:\n",
        "    \"\"\"This class creates a chorus singer that\n",
        "        can sing one of two lines.\"\"\"    \n",
        "    line1 = \"Ma Ma Mia\"\n",
        "    line2 = \"let me GO !\"    \n",
        "    def sing(self, line):\n",
        "        \"\"\"This function sings one of 2 lines\"\"\"\n",
        "        if line == 1:\n",
        "            print(self.line1)\n",
        "        else:\n",
        "            print(self.line2)# Create chorus singers:\n",
        "chorusSinger1 = chorusSinger()\n",
        "chorusSinger2 = chorusSinger()# Let them sing !:\n",
        "chorusSinger1.sing(1)\n",
        "chorusSinger2.sing(1)\n",
        "chorusSinger1.sing(1)\n",
        "chorusSinger2.sing(2)"
      ],
      "execution_count": 6,
      "outputs": [
        {
          "output_type": "stream",
          "text": [
            "Ma Ma Mia\n",
            "Ma Ma Mia\n",
            "Ma Ma Mia\n",
            "let me GO !\n"
          ],
          "name": "stdout"
        }
      ]
    },
    {
      "cell_type": "code",
      "metadata": {
        "id": "U5IiWcdJqozM",
        "colab_type": "code",
        "colab": {
          "base_uri": "https://localhost:8080/",
          "height": 153
        },
        "outputId": "5f4d6038-76f7-4ba9-86ab-1c47bae65317"
      },
      "source": [
        "class chorusSinger:\n",
        "    \"\"\"This class creates a chorus singer that\n",
        "        can sing one of two lines.\"\"\"    \n",
        "    line1 = \"Ma Ma Mia\"\n",
        "    line2 = \"let me GO !\"    \n",
        "    def sing(self, line):\n",
        "        \"\"\"This function sings one of 2 lines\"\"\"\n",
        "        if line == 1:\n",
        "            print(self.line1)\n",
        "        else:\n",
        "            print(self.line2)\n",
        "def singPart():\n",
        "    \"\"\"Creates Singers and tells them to sing\"\"\"\n",
        "    chorusSinger1 = chorusSinger()\n",
        "    chorusSinger2 = chorusSinger()\n",
        "    chorusSinger1.sing(1)\n",
        "    chorusSinger2.sing(1)\n",
        "    chorusSinger1.sing(1)\n",
        "    chorusSinger2.sing(2)\n",
        "def main():\n",
        "    \"\"\"Plays parts\"\"\"\n",
        "    singPart()\n",
        "    singPart()# Runs the program\n",
        "main()"
      ],
      "execution_count": 7,
      "outputs": [
        {
          "output_type": "stream",
          "text": [
            "Ma Ma Mia\n",
            "Ma Ma Mia\n",
            "Ma Ma Mia\n",
            "let me GO !\n",
            "Ma Ma Mia\n",
            "Ma Ma Mia\n",
            "Ma Ma Mia\n",
            "let me GO !\n"
          ],
          "name": "stdout"
        }
      ]
    },
    {
      "cell_type": "code",
      "metadata": {
        "id": "IVFC2r2Sq0x0",
        "colab_type": "code",
        "colab": {
          "base_uri": "https://localhost:8080/",
          "height": 105
        },
        "outputId": "8ebe70a8-35cc-4f18-8d39-c22a4272212b"
      },
      "source": [
        "!pip install pyttsx3 "
      ],
      "execution_count": 8,
      "outputs": [
        {
          "output_type": "stream",
          "text": [
            "Collecting pyttsx3\n",
            "  Downloading https://files.pythonhosted.org/packages/33/9a/de4781245f5ad966646fd276259ef7cfd400ba3cf7d5db7c0d5aab310c20/pyttsx3-2.90-py3-none-any.whl\n",
            "Installing collected packages: pyttsx3\n",
            "Successfully installed pyttsx3-2.90\n"
          ],
          "name": "stdout"
        }
      ]
    },
    {
      "cell_type": "code",
      "metadata": {
        "id": "65MV1KvHq47c",
        "colab_type": "code",
        "colab": {}
      },
      "source": [
        "# \"\"\"\n",
        "# Sings 2 lines in different voices\n",
        "# \"\"\"\n",
        "# import pyttsx3\n",
        "# TTS = pyttsx3.init()\n",
        "# VOICES = TTS.getProperty('voices')\n",
        "\n",
        "# LINE1 = 'Ma Ma Mia'\n",
        "# LINE2 = 'Let me GO!'\n",
        "# def sing(gender, PART):\n",
        "#     \"\"\"Sings a given line in a given voice\"\"\"\n",
        "#     if gender == 'male':\n",
        "#         TTS.setProperty('voice', VOICES[0].id)\n",
        "#     else:\n",
        "#         TTS.setProperty('voice', VOICES[1].id)\n",
        "#     TTS.say(PART)\n",
        "# def main():\n",
        "#     sing('male', LINE1)\n",
        "#     sing('female', LINE1)\n",
        "#     sing('male', LINE1)\n",
        "#     sing('female', LINE1 + LINE2)\n",
        "#     TTS.runAndWait()\n",
        "# main()"
      ],
      "execution_count": 11,
      "outputs": []
    },
    {
      "cell_type": "code",
      "metadata": {
        "id": "4vhvtTcDrCXn",
        "colab_type": "code",
        "colab": {
          "base_uri": "https://localhost:8080/",
          "height": 68
        },
        "outputId": "84dbb578-f214-4802-e38a-7cef919f34ac"
      },
      "source": [
        "class Singleton:\n",
        "   __instance = None\n",
        "   @staticmethod\n",
        "   def getInstance():\n",
        "      \"\"\" Static access method. \"\"\"\n",
        "      if Singleton.__instance == None:\n",
        "         Singleton()\n",
        "      return Singleton.__instance\n",
        "   def __init__(self):\n",
        "      \"\"\" Virtually private constructor. \"\"\"\n",
        "      if Singleton.__instance != None:\n",
        "         raise Exception(\"This class is a singleton!\")\n",
        "      else:\n",
        "         Singleton.__instance = self\n",
        "\n",
        "X = Singleton()\n",
        "print (X)\n",
        "\n",
        "Y = Singleton.getInstance()\n",
        "print (Y)\n",
        "\n",
        "Z = Singleton.getInstance()\n",
        "print (Z)"
      ],
      "execution_count": 13,
      "outputs": [
        {
          "output_type": "stream",
          "text": [
            "<__main__.Singleton object at 0x7fc7792fe940>\n",
            "<__main__.Singleton object at 0x7fc7792fe940>\n",
            "<__main__.Singleton object at 0x7fc7792fe940>\n"
          ],
          "name": "stdout"
        }
      ]
    },
    {
      "cell_type": "code",
      "metadata": {
        "id": "8i_Fy9hwrSz4",
        "colab_type": "code",
        "colab": {}
      },
      "source": [
        ""
      ],
      "execution_count": null,
      "outputs": []
    }
  ]
}