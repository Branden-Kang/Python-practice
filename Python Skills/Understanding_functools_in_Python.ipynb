{
  "nbformat": 4,
  "nbformat_minor": 0,
  "metadata": {
    "colab": {
      "provenance": [],
      "authorship_tag": "ABX9TyOIOYWEPpHPIIZe8rC6D4Av"
    },
    "kernelspec": {
      "name": "python3",
      "display_name": "Python 3"
    },
    "language_info": {
      "name": "python"
    }
  },
  "cells": [
    {
      "cell_type": "markdown",
      "source": [
        "[Reference](https://towardsdev.com/understanding-functools-in-python-78f1b16fe455)"
      ],
      "metadata": {
        "id": "K54Y5DE1EhKe"
      }
    },
    {
      "cell_type": "markdown",
      "source": [
        "# partial"
      ],
      "metadata": {
        "id": "4rFTHOYVEolt"
      }
    },
    {
      "cell_type": "code",
      "execution_count": 2,
      "metadata": {
        "colab": {
          "base_uri": "https://localhost:8080/"
        },
        "id": "BHolqzcfECdV",
        "outputId": "63286c3b-e167-42f9-a8ba-d81a9108fbfa"
      },
      "outputs": [
        {
          "output_type": "stream",
          "name": "stdout",
          "text": [
            "10\n"
          ]
        }
      ],
      "source": [
        "from functools import partial\n",
        "\n",
        "# Original function\n",
        "def multiply(x, y):\n",
        "    return x * y\n",
        "# Create a new function that multiplies by 2\n",
        "\n",
        "double = partial(multiply, y=2)\n",
        "result = double(5)\n",
        "print(result)"
      ]
    },
    {
      "cell_type": "markdown",
      "source": [
        "# wraps and update_wrapper"
      ],
      "metadata": {
        "id": "R5MFbWcNEqJl"
      }
    },
    {
      "cell_type": "code",
      "source": [
        "from functools import wraps\n",
        "\n",
        "def my_decorator(func):\n",
        "    @wraps(func)\n",
        "    def wrapper(*args, **kwargs):\n",
        "        \"\"\"This is the wrapper function.\"\"\"\n",
        "        result = func(*args, **kwargs)\n",
        "        return result\n",
        "    return wrapper\n",
        "\n",
        "@my_decorator\n",
        "def my_function():\n",
        "    \"\"\"This is my function.\"\"\"\n",
        "    pass\n",
        "\n",
        "print(my_function.__name__)\n",
        "print(my_function.__doc__)"
      ],
      "metadata": {
        "colab": {
          "base_uri": "https://localhost:8080/"
        },
        "id": "mYgRQLIVEk4F",
        "outputId": "7305e5c5-e423-4339-cd6b-fc08983f35a2"
      },
      "execution_count": 3,
      "outputs": [
        {
          "output_type": "stream",
          "name": "stdout",
          "text": [
            "my_function\n",
            "This is my function.\n"
          ]
        }
      ]
    },
    {
      "cell_type": "markdown",
      "source": [
        "# lru_cache"
      ],
      "metadata": {
        "id": "3a_ksWBcEuG0"
      }
    },
    {
      "cell_type": "code",
      "source": [
        "from functools import lru_cache\n",
        "\n",
        "@lru_cache(maxsize=None)  # None means no limit on cache size\n",
        "def add(a, b):\n",
        "    print(f'Adding {a}, {b}')\n",
        "    return a + b\n",
        "\n",
        "result = add(10, 5)\n",
        "print(result)\n",
        "\n",
        "result = add(10, 5)\n",
        "print(result)"
      ],
      "metadata": {
        "colab": {
          "base_uri": "https://localhost:8080/"
        },
        "id": "ZmQHwwAmEtCn",
        "outputId": "d10d44e7-8975-42b2-cd6f-d405d3e6652f"
      },
      "execution_count": 4,
      "outputs": [
        {
          "output_type": "stream",
          "name": "stdout",
          "text": [
            "Adding 10, 5\n",
            "15\n",
            "15\n"
          ]
        }
      ]
    },
    {
      "cell_type": "markdown",
      "source": [
        "# total_ordering"
      ],
      "metadata": {
        "id": "PwzCaP0vExUe"
      }
    },
    {
      "cell_type": "code",
      "source": [
        "from functools import total_ordering\n",
        "\n",
        "@total_ordering\n",
        "class Person:\n",
        "\n",
        "    def __init__(self, name, age):\n",
        "        self.name = name\n",
        "        self.age = age\n",
        "\n",
        "    def __eq__(self, other):\n",
        "        return self.age == other.age\n",
        "\n",
        "    def __lt__(self, other):\n",
        "        return self.age < other.age\n",
        "\n",
        "# Create instances of Person\n",
        "person1 = Person(\"Alice\", 30)\n",
        "person2 = Person(\"Bob\", 25)\n",
        "person3 = Person(\"Charlie\", 30)\n",
        "\n",
        "print(person1 == person2) # False\n",
        "print(person1 < person2)  # False\n",
        "print(person1 <= person2) # False\n",
        "print(person1 > person2)  # True\n",
        "print(person1 == person3) # True"
      ],
      "metadata": {
        "colab": {
          "base_uri": "https://localhost:8080/"
        },
        "id": "jawvhjWlEwFc",
        "outputId": "3b7aaf2c-84e8-40f4-a8ea-ff131c7510e9"
      },
      "execution_count": 5,
      "outputs": [
        {
          "output_type": "stream",
          "name": "stdout",
          "text": [
            "False\n",
            "False\n",
            "False\n",
            "True\n",
            "True\n"
          ]
        }
      ]
    },
    {
      "cell_type": "markdown",
      "source": [
        "# reduce"
      ],
      "metadata": {
        "id": "lNck6IwFE4Wp"
      }
    },
    {
      "cell_type": "code",
      "source": [
        "from functools import reduce\n",
        "\n",
        "data = [1, 2, 3, 4, 5]\n",
        "\n",
        "# Calculate the product of all elements\n",
        "product = reduce(lambda x, y: x * y, data)\n",
        "\n",
        "print(product)"
      ],
      "metadata": {
        "colab": {
          "base_uri": "https://localhost:8080/"
        },
        "id": "qosVlw6oE2tc",
        "outputId": "649d5cee-76a9-48d3-f98b-6123025f7268"
      },
      "execution_count": 6,
      "outputs": [
        {
          "output_type": "stream",
          "name": "stdout",
          "text": [
            "120\n"
          ]
        }
      ]
    }
  ]
}
