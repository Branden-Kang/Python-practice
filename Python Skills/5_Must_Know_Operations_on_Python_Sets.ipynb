{
  "nbformat": 4,
  "nbformat_minor": 0,
  "metadata": {
    "colab": {
      "name": "5 Must-Know Operations on Python Sets.ipynb",
      "provenance": [],
      "authorship_tag": "ABX9TyOReRTRNMeRjqcOak1VRKaz"
    },
    "kernelspec": {
      "name": "python3",
      "display_name": "Python 3"
    },
    "language_info": {
      "name": "python"
    }
  },
  "cells": [
    {
      "cell_type": "markdown",
      "metadata": {
        "id": "9oCGD-8WguxF"
      },
      "source": [
        "[Reference](https://towardsdatascience.com/5-must-know-operations-on-python-sets-827d5b81465a)"
      ]
    },
    {
      "cell_type": "code",
      "metadata": {
        "colab": {
          "base_uri": "https://localhost:8080/"
        },
        "id": "kXC5xQI_gtUZ",
        "outputId": "530edbf0-b0ee-4cdb-ea62-b6454d1c3d04"
      },
      "source": [
        "mylist = ['A', 'A', 'B', 'A', 'C', 'B']\n",
        "myset = set(mylist)\n",
        "print(myset)"
      ],
      "execution_count": 1,
      "outputs": [
        {
          "output_type": "stream",
          "text": [
            "{'A', 'C', 'B'}\n"
          ],
          "name": "stdout"
        }
      ]
    },
    {
      "cell_type": "code",
      "metadata": {
        "colab": {
          "base_uri": "https://localhost:8080/"
        },
        "id": "FRMgb-Jbgy0L",
        "outputId": "636f230c-4f7a-4936-bf01-150fb79c79b8"
      },
      "source": [
        "import numpy as np\n",
        "a = np.random.randint(0, 5, size=20)\n",
        "myset = set(a)\n",
        "print(a)"
      ],
      "execution_count": 3,
      "outputs": [
        {
          "output_type": "stream",
          "text": [
            "[4 2 0 0 4 0 4 1 4 2 0 4 1 2 1 0 4 2 4 3]\n"
          ],
          "name": "stdout"
        }
      ]
    },
    {
      "cell_type": "code",
      "metadata": {
        "colab": {
          "base_uri": "https://localhost:8080/"
        },
        "id": "G4krj9Pqg0-K",
        "outputId": "3d38ac7c-5f4f-47b9-f664-e4318204df44"
      },
      "source": [
        "print(myset)"
      ],
      "execution_count": 4,
      "outputs": [
        {
          "output_type": "stream",
          "text": [
            "{0, 1, 2, 3, 4}\n"
          ],
          "name": "stdout"
        }
      ]
    },
    {
      "cell_type": "code",
      "metadata": {
        "colab": {
          "base_uri": "https://localhost:8080/"
        },
        "id": "SngHOcSAg4EE",
        "outputId": "dcbbb1ef-6cd4-471f-a8ac-50be9841be41"
      },
      "source": [
        "myset.add(5)\n",
        "print(myset)"
      ],
      "execution_count": 6,
      "outputs": [
        {
          "output_type": "stream",
          "text": [
            "{0, 1, 2, 3, 4, 5}\n"
          ],
          "name": "stdout"
        }
      ]
    },
    {
      "cell_type": "code",
      "metadata": {
        "colab": {
          "base_uri": "https://localhost:8080/"
        },
        "id": "nOSD45tTg5m5",
        "outputId": "53c1b7fa-9f79-4fd0-9077-1b149c3313ff"
      },
      "source": [
        "myset.add(4)\n",
        "print(myset)"
      ],
      "execution_count": 7,
      "outputs": [
        {
          "output_type": "stream",
          "text": [
            "{0, 1, 2, 3, 4, 5}\n"
          ],
          "name": "stdout"
        }
      ]
    },
    {
      "cell_type": "code",
      "metadata": {
        "colab": {
          "base_uri": "https://localhost:8080/"
        },
        "id": "pyAqOo5fg8PD",
        "outputId": "aa534278-8142-401e-85f2-f2e3949e6ff8"
      },
      "source": [
        "myset.remove(4)\n",
        "print(myset)"
      ],
      "execution_count": 8,
      "outputs": [
        {
          "output_type": "stream",
          "text": [
            "{0, 1, 2, 3, 5}\n"
          ],
          "name": "stdout"
        }
      ]
    },
    {
      "cell_type": "code",
      "metadata": {
        "id": "ShqF01sXg-A_"
      },
      "source": [
        "myset = set([0, 1, 2, 3, 5])\n",
        "myotherset = set([3, 4, 5, 6, 7])"
      ],
      "execution_count": 9,
      "outputs": []
    },
    {
      "cell_type": "code",
      "metadata": {
        "colab": {
          "base_uri": "https://localhost:8080/"
        },
        "id": "OmtKd5tSg_vT",
        "outputId": "8767ff39-eeb5-4774-c3f5-c455369b1983"
      },
      "source": [
        "myset.update(myotherset)\n",
        "print(myset)"
      ],
      "execution_count": 10,
      "outputs": [
        {
          "output_type": "stream",
          "text": [
            "{0, 1, 2, 3, 4, 5, 6, 7}\n"
          ],
          "name": "stdout"
        }
      ]
    },
    {
      "cell_type": "code",
      "metadata": {
        "colab": {
          "base_uri": "https://localhost:8080/"
        },
        "id": "hdjVdjv0hBQF",
        "outputId": "4a7afa0c-11ca-435e-df08-42a483e20bc7"
      },
      "source": [
        "myset = set([0, 1, 2, 3, 5])\n",
        "mylist = [1, 2, 10,11,12]\n",
        "myset.update(mylist)\n",
        "print(myset)"
      ],
      "execution_count": 11,
      "outputs": [
        {
          "output_type": "stream",
          "text": [
            "{0, 1, 2, 3, 5, 10, 11, 12}\n"
          ],
          "name": "stdout"
        }
      ]
    },
    {
      "cell_type": "code",
      "metadata": {
        "colab": {
          "base_uri": "https://localhost:8080/"
        },
        "id": "4_Ok9IUwhC1f",
        "outputId": "3e1a8f6f-e753-415b-9653-250e7022e02c"
      },
      "source": [
        "myset = {'A', 'B', 'C'}\n",
        "newset = {'B', 'C', 'D', 'E'}\n",
        "newset2 = {1, 2, 3}\n",
        "combinedset = myset.union(newset).union(newset2)\n",
        "print(myset)"
      ],
      "execution_count": 12,
      "outputs": [
        {
          "output_type": "stream",
          "text": [
            "{'A', 'C', 'B'}\n"
          ],
          "name": "stdout"
        }
      ]
    },
    {
      "cell_type": "code",
      "metadata": {
        "colab": {
          "base_uri": "https://localhost:8080/"
        },
        "id": "NgHpOvU7hFdw",
        "outputId": "e2c4463b-130f-4c65-a1f2-82cebb8cb401"
      },
      "source": [
        "print(combinedset)"
      ],
      "execution_count": 14,
      "outputs": [
        {
          "output_type": "stream",
          "text": [
            "{1, 'C', 'D', 2, 'B', 'E', 3, 'A'}\n"
          ],
          "name": "stdout"
        }
      ]
    },
    {
      "cell_type": "code",
      "metadata": {
        "colab": {
          "base_uri": "https://localhost:8080/"
        },
        "id": "KR0AstqWhGcv",
        "outputId": "2cbf81f6-2ec6-46c3-e72d-0c495e4a07e4"
      },
      "source": [
        "A = {1, 2, 3, 4, 5}\n",
        "B = {1, 4, 5}\n",
        "C = {1, 4, 6}\n",
        "A.issuperset(B)\n",
        "B.issubset(A)\n",
        "A.issuperset(C)"
      ],
      "execution_count": 15,
      "outputs": [
        {
          "output_type": "execute_result",
          "data": {
            "text/plain": [
              "False"
            ]
          },
          "metadata": {
            "tags": []
          },
          "execution_count": 15
        }
      ]
    },
    {
      "cell_type": "code",
      "metadata": {
        "colab": {
          "base_uri": "https://localhost:8080/"
        },
        "id": "aAs1Lw0ihLg3",
        "outputId": "8746273e-3625-4956-a48d-f37a2575cfb9"
      },
      "source": [
        "D = {1, 4, 5}\n",
        "E = {1, 4, 5}\n",
        "D.issuperset(E)"
      ],
      "execution_count": 16,
      "outputs": [
        {
          "output_type": "execute_result",
          "data": {
            "text/plain": [
              "True"
            ]
          },
          "metadata": {
            "tags": []
          },
          "execution_count": 16
        }
      ]
    },
    {
      "cell_type": "code",
      "metadata": {
        "colab": {
          "base_uri": "https://localhost:8080/"
        },
        "id": "hzmd7mowhRoN",
        "outputId": "4067cf28-f524-49bf-be29-3a721872409d"
      },
      "source": [
        "D.issubset(E)"
      ],
      "execution_count": 17,
      "outputs": [
        {
          "output_type": "execute_result",
          "data": {
            "text/plain": [
              "True"
            ]
          },
          "metadata": {
            "tags": []
          },
          "execution_count": 17
        }
      ]
    },
    {
      "cell_type": "code",
      "metadata": {
        "colab": {
          "base_uri": "https://localhost:8080/"
        },
        "id": "RlO3WhEvhS4t",
        "outputId": "c12f646a-9656-4143-d232-663772ca2ee4"
      },
      "source": [
        "A = {1, 2, 3, 4, 5}\n",
        "B = {3, 4, 5, 6, 7, 8}\n",
        "A.difference(B)"
      ],
      "execution_count": 18,
      "outputs": [
        {
          "output_type": "execute_result",
          "data": {
            "text/plain": [
              "{1, 2}"
            ]
          },
          "metadata": {
            "tags": []
          },
          "execution_count": 18
        }
      ]
    },
    {
      "cell_type": "code",
      "metadata": {
        "colab": {
          "base_uri": "https://localhost:8080/"
        },
        "id": "uVJ6kGk2hVl_",
        "outputId": "4df53ac8-70f3-4b52-f043-fce2539a5bd4"
      },
      "source": [
        "A.intersection(B)"
      ],
      "execution_count": 19,
      "outputs": [
        {
          "output_type": "execute_result",
          "data": {
            "text/plain": [
              "{3, 4, 5}"
            ]
          },
          "metadata": {
            "tags": []
          },
          "execution_count": 19
        }
      ]
    },
    {
      "cell_type": "code",
      "metadata": {
        "colab": {
          "base_uri": "https://localhost:8080/"
        },
        "id": "RTxbSuAShW3o",
        "outputId": "72d190ee-4d77-4c13-b193-fdf951f5a508"
      },
      "source": [
        "B.difference(A)"
      ],
      "execution_count": 20,
      "outputs": [
        {
          "output_type": "execute_result",
          "data": {
            "text/plain": [
              "{6, 7, 8}"
            ]
          },
          "metadata": {
            "tags": []
          },
          "execution_count": 20
        }
      ]
    }
  ]
}