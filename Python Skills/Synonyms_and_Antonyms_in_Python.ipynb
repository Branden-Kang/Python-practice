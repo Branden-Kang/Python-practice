{
  "nbformat": 4,
  "nbformat_minor": 0,
  "metadata": {
    "colab": {
      "name": "Synonyms and Antonyms in Python.ipynb",
      "provenance": [],
      "authorship_tag": "ABX9TyOeqbQkVGacarYuKvrADAS9"
    },
    "kernelspec": {
      "name": "python3",
      "display_name": "Python 3"
    }
  },
  "cells": [
    {
      "cell_type": "markdown",
      "metadata": {
        "id": "-HkSIaFVv0fJ",
        "colab_type": "text"
      },
      "source": [
        "[Reference](https://towardsdatascience.com/synonyms-and-antonyms-in-python-a865a5e14ce8)"
      ]
    },
    {
      "cell_type": "code",
      "metadata": {
        "id": "Lg8HrVi0vytX",
        "colab_type": "code",
        "colab": {
          "base_uri": "https://localhost:8080/",
          "height": 51
        },
        "outputId": "446ee3bc-6e22-4a90-b2b8-10b57f66d6b6"
      },
      "source": [
        "import nltk\n",
        "nltk.download('wordnet')\n",
        "from nltk.corpus import wordnet"
      ],
      "execution_count": 1,
      "outputs": [
        {
          "output_type": "stream",
          "text": [
            "[nltk_data] Downloading package wordnet to /root/nltk_data...\n",
            "[nltk_data]   Unzipping corpora/wordnet.zip.\n"
          ],
          "name": "stdout"
        }
      ]
    },
    {
      "cell_type": "code",
      "metadata": {
        "id": "N9mqsKfFv5JM",
        "colab_type": "code",
        "colab": {
          "base_uri": "https://localhost:8080/",
          "height": 102
        },
        "outputId": "116346fb-f5d1-438e-b4a6-390bd78f1916"
      },
      "source": [
        "# Checking the word \"Teaching\"\n",
        "syn = wordnet.synsets('teaching')\n",
        "syn"
      ],
      "execution_count": 2,
      "outputs": [
        {
          "output_type": "execute_result",
          "data": {
            "text/plain": [
              "[Synset('teaching.n.01'),\n",
              " Synset('teaching.n.02'),\n",
              " Synset('education.n.01'),\n",
              " Synset('teach.v.01'),\n",
              " Synset('teach.v.02')]"
            ]
          },
          "metadata": {
            "tags": []
          },
          "execution_count": 2
        }
      ]
    },
    {
      "cell_type": "code",
      "metadata": {
        "id": "hzSDtGguv-fV",
        "colab_type": "code",
        "colab": {
          "base_uri": "https://localhost:8080/",
          "height": 153
        },
        "outputId": "cb9ef59d-c9e1-4b2a-cdf5-b12d3153831b"
      },
      "source": [
        "# Printing the Synonym, meaning and example of \"teaching\" for the first two indexes\n",
        "\n",
        "# First Index\n",
        "print('Word and Type : ' + syn[0].name())\n",
        "print('Synonym of teaching is: ' + syn[0].lemmas()[0].name())\n",
        "print('The meaning of the teaching: ' + syn[0].definition())\n",
        "print('Example of teaching : ' + str(syn[0].examples()))\n",
        "\n",
        "# Second Index\n",
        "print('Word and Type : ' + syn[1].name())\n",
        "print('Synonym of teaching is: ' + syn[1].lemmas()[0].name())\n",
        "print('The meaning of the teaching : ' + syn[1].definition())\n",
        "print('Example of teaching : ' + str(syn[1].examples()))"
      ],
      "execution_count": 3,
      "outputs": [
        {
          "output_type": "stream",
          "text": [
            "Word and Type : teaching.n.01\n",
            "Synonym of teaching is: teaching\n",
            "The meaning of the teaching: the profession of a teacher\n",
            "Example of teaching : ['he prepared for teaching while still in college', 'pedagogy is recognized as an important profession']\n",
            "Word and Type : teaching.n.02\n",
            "Synonym of teaching is: teaching\n",
            "The meaning of the teaching : a doctrine that is taught\n",
            "Example of teaching : ['the teachings of religion', 'he believed all the Christian precepts']\n"
          ],
          "name": "stdout"
        }
      ]
    },
    {
      "cell_type": "markdown",
      "metadata": {
        "id": "e7Llk-jUw7-I",
        "colab_type": "text"
      },
      "source": [
        "Synonyms"
      ]
    },
    {
      "cell_type": "code",
      "metadata": {
        "id": "jcBd59CwwlnL",
        "colab_type": "code",
        "colab": {
          "base_uri": "https://localhost:8080/",
          "height": 34
        },
        "outputId": "c66f6053-191f-41b8-99bc-1f3ee9520d71"
      },
      "source": [
        "#Checking synonym for the word \"travel\"\n",
        "from nltk.corpus import wordnet\n",
        "\n",
        "#Creating a list \n",
        "synonyms = []\n",
        "\n",
        "for syn in wordnet.synsets(\"travel\"):\n",
        "  for lm in syn.lemmas():\n",
        "    synonyms.append(lm.name()) #adding into synonyms\n",
        "print(set(synonyms))"
      ],
      "execution_count": 4,
      "outputs": [
        {
          "output_type": "stream",
          "text": [
            "{'traveling', 'locomote', 'go', 'travel', 'jaunt', 'change_of_location', 'move_around', 'travelling', 'move', 'journey', 'trip', 'locomotion'}\n"
          ],
          "name": "stdout"
        }
      ]
    },
    {
      "cell_type": "markdown",
      "metadata": {
        "id": "-k27i6oAxHlw",
        "colab_type": "text"
      },
      "source": [
        "Antonyms"
      ]
    },
    {
      "cell_type": "code",
      "metadata": {
        "id": "DR8kDQA9xGEW",
        "colab_type": "code",
        "colab": {
          "base_uri": "https://localhost:8080/",
          "height": 34
        },
        "outputId": "54da9e7c-4a3b-4121-f941-c2fad12835a9"
      },
      "source": [
        "#Checking antonym for the word \"increase\"\n",
        "from nltk.corpus import wordnet\n",
        "antonyms = []\n",
        "for syn in wordnet.synsets(\"increase\"):\n",
        "  for lm in syn.lemmas():\n",
        "    if lm.antonyms():\n",
        "      antonyms.append(lm.antonyms()[0].name()) #adding into antonyms\n",
        "print(set(antonyms))"
      ],
      "execution_count": 5,
      "outputs": [
        {
          "output_type": "stream",
          "text": [
            "{'decrease', 'decrement'}\n"
          ],
          "name": "stdout"
        }
      ]
    }
  ]
}