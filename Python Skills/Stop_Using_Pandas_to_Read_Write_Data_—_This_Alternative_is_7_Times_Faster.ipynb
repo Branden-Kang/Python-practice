{
  "nbformat": 4,
  "nbformat_minor": 0,
  "metadata": {
    "colab": {
      "name": "Stop Using Pandas to Read/Write Data — This Alternative is 7 Times Faster.ipynb",
      "provenance": [],
      "authorship_tag": "ABX9TyNmN77SFOc4zpdkDC8fW3AD"
    },
    "kernelspec": {
      "name": "python3",
      "display_name": "Python 3"
    },
    "language_info": {
      "name": "python"
    }
  },
  "cells": [
    {
      "cell_type": "markdown",
      "metadata": {
        "id": "0yM1Lc2TCoqn"
      },
      "source": [
        "[Reference](https://towardsdatascience.com/stop-using-pandas-to-read-write-data-this-alternative-is-7-times-faster-893301633475)"
      ]
    },
    {
      "cell_type": "code",
      "metadata": {
        "colab": {
          "base_uri": "https://localhost:8080/"
        },
        "id": "06U20ZixClxF",
        "outputId": "b7cb2a20-4245-4f08-e78d-a88f03902cf2"
      },
      "source": [
        "!pip install pyarrow\n",
        "#conda install -c conda-forge pyarrow"
      ],
      "execution_count": 3,
      "outputs": [
        {
          "output_type": "stream",
          "name": "stdout",
          "text": [
            "Requirement already satisfied: pyarrow in /usr/local/lib/python3.7/dist-packages (3.0.0)\n",
            "Requirement already satisfied: numpy>=1.16.6 in /usr/local/lib/python3.7/dist-packages (from pyarrow) (1.19.5)\n"
          ]
        }
      ]
    },
    {
      "cell_type": "code",
      "metadata": {
        "colab": {
          "base_uri": "https://localhost:8080/"
        },
        "id": "FB1mcVeHCtq9",
        "outputId": "200b2404-46fc-4904-b4c8-1c39b7120d8b"
      },
      "source": [
        "def gen_random_string(length: int = 32) -> str:\n",
        "    return ''.join(random.choices(\n",
        "        string.ascii_uppercase + string.digits, k=length)\n",
        "    )\n",
        "\n",
        "dt = pd.date_range(\n",
        "    start=datetime(2000, 1, 1),\n",
        "    end=datetime(2021, 1, 1),\n",
        "    freq='min'\n",
        ")\n",
        "\n",
        "np.random.seed = 42\n",
        "df_size = len(dt)\n",
        "print(f'Dataset length: {df_size}')\n",
        "\n",
        "\n",
        "df = pd.DataFrame({\n",
        "    'date': dt,\n",
        "    'a': np.random.rand(df_size),\n",
        "    'b': np.random.rand(df_size),\n",
        "    'c': np.random.rand(df_size),\n",
        "    'd': np.random.rand(df_size),\n",
        "    'e': np.random.rand(df_size),\n",
        "    'str1': [gen_random_string() for x in range(df_size)],\n",
        "    'str2': [gen_random_string() for x in range(df_size)]\n",
        "})\n",
        "\n",
        "import random\n",
        "import string\n",
        "import numpy as np\n",
        "import pandas as pd\n",
        "import pyarrow as pa\n",
        "import pyarrow.csv as csv\n",
        "from datetime import datetime"
      ],
      "execution_count": 4,
      "outputs": [
        {
          "output_type": "stream",
          "name": "stdout",
          "text": [
            "Dataset length: 11046241\n"
          ]
        }
      ]
    },
    {
      "cell_type": "code",
      "metadata": {
        "id": "m04KLfdMCvEn"
      },
      "source": [
        "df.to_csv('csv_pandas.csv', index=False)"
      ],
      "execution_count": 5,
      "outputs": []
    },
    {
      "cell_type": "code",
      "metadata": {
        "id": "ThLXKIE1Cz_E"
      },
      "source": [
        "df.to_csv('csv_pandas.csv.gz', index=False, compression='gzip')"
      ],
      "execution_count": 6,
      "outputs": []
    },
    {
      "cell_type": "code",
      "metadata": {
        "id": "uY_YyiWnC1T9"
      },
      "source": [
        "df1 = pd.read_csv('csv_pandas.csv')\n",
        "df2 = pd.read_csv('csv_pandas.csv.gz')"
      ],
      "execution_count": 7,
      "outputs": []
    },
    {
      "cell_type": "code",
      "metadata": {
        "id": "eSZKkSJ5C2pE"
      },
      "source": [
        "df_pa = df.copy()\n",
        "df_pa['date'] = df_pa['date'].values.astype(np.int64) // 10 ** 9"
      ],
      "execution_count": 8,
      "outputs": []
    },
    {
      "cell_type": "code",
      "metadata": {
        "id": "AJh84wpSC45v"
      },
      "source": [
        "df_pa_table = pa.Table.from_pandas(df_pa)"
      ],
      "execution_count": 9,
      "outputs": []
    },
    {
      "cell_type": "code",
      "metadata": {
        "colab": {
          "base_uri": "https://localhost:8080/",
          "height": 198
        },
        "id": "UoYVSrb7C500",
        "outputId": "1124154a-e00e-40ea-89bc-59ae2aea0c4a"
      },
      "source": [
        "csv.write_csv(df_pa_table, 'csv_pyarrow.csv')"
      ],
      "execution_count": 10,
      "outputs": [
        {
          "output_type": "error",
          "ename": "AttributeError",
          "evalue": "ignored",
          "traceback": [
            "\u001b[0;31m---------------------------------------------------------------------------\u001b[0m",
            "\u001b[0;31mAttributeError\u001b[0m                            Traceback (most recent call last)",
            "\u001b[0;32m<ipython-input-10-f927e1c32bfe>\u001b[0m in \u001b[0;36m<module>\u001b[0;34m()\u001b[0m\n\u001b[0;32m----> 1\u001b[0;31m \u001b[0mcsv\u001b[0m\u001b[0;34m.\u001b[0m\u001b[0mwrite_csv\u001b[0m\u001b[0;34m(\u001b[0m\u001b[0mdf_pa_table\u001b[0m\u001b[0;34m,\u001b[0m \u001b[0;34m'csv_pyarrow.csv'\u001b[0m\u001b[0;34m)\u001b[0m\u001b[0;34m\u001b[0m\u001b[0;34m\u001b[0m\u001b[0m\n\u001b[0m",
            "\u001b[0;31mAttributeError\u001b[0m: module 'pyarrow.csv' has no attribute 'write_csv'"
          ]
        }
      ]
    },
    {
      "cell_type": "code",
      "metadata": {
        "id": "9oJLy4QUC6tp"
      },
      "source": [
        "with pa.CompressedOutputStream('csv_pyarrow.csv.gz', 'gzip') as out:\n",
        "    csv.write_csv(df_pa_table, out)"
      ],
      "execution_count": null,
      "outputs": []
    },
    {
      "cell_type": "code",
      "metadata": {
        "id": "5ZpBy-MvC7_3"
      },
      "source": [
        "df_pa_1 = csv.read_csv('csv_pyarrow.csv')\n",
        "df_pa_2 = csv.read_csv('csv_pyarrow.csv.gz')"
      ],
      "execution_count": null,
      "outputs": []
    },
    {
      "cell_type": "code",
      "metadata": {
        "id": "Y8Zwv_9aC9Ig"
      },
      "source": [
        "df_pa_1 = df_pa_1.to_pandas()"
      ],
      "execution_count": null,
      "outputs": []
    }
  ]
}