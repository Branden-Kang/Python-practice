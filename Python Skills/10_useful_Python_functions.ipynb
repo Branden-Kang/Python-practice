{
  "nbformat": 4,
  "nbformat_minor": 0,
  "metadata": {
    "colab": {
      "name": "10 useful Python functions.ipynb",
      "provenance": [],
      "authorship_tag": "ABX9TyP/spZ2Z2lMf0IhdN+NBDL0"
    },
    "kernelspec": {
      "name": "python3",
      "display_name": "Python 3"
    }
  },
  "cells": [
    {
      "cell_type": "markdown",
      "metadata": {
        "id": "rPS-pbS-6Xhn"
      },
      "source": [
        "[Reference](https://towardsdatascience.com/10-surprisingly-useful-base-python-functions-822d86972a23)"
      ]
    },
    {
      "cell_type": "markdown",
      "metadata": {
        "id": "_v-v0bAf6cNy"
      },
      "source": [
        "# 1. lambda"
      ]
    },
    {
      "cell_type": "code",
      "metadata": {
        "id": "AcWeXmbG6WeZ"
      },
      "source": [
        "mean = lambda x : sum(x) / len(x)"
      ],
      "execution_count": 1,
      "outputs": []
    },
    {
      "cell_type": "code",
      "metadata": {
        "colab": {
          "base_uri": "https://localhost:8080/"
        },
        "id": "wBlHuqvQ6e1B",
        "outputId": "a1437768-0888-4192-c408-632620221ef2"
      },
      "source": [
        "x = [5, 10, 15, 20]\n",
        "print(mean(x))"
      ],
      "execution_count": 2,
      "outputs": [
        {
          "output_type": "stream",
          "text": [
            "12.5\n"
          ],
          "name": "stdout"
        }
      ]
    },
    {
      "cell_type": "markdown",
      "metadata": {
        "id": "ddkwMy9Q6h5B"
      },
      "source": [
        "# 2. Shutil"
      ]
    },
    {
      "cell_type": "code",
      "metadata": {
        "id": "U8Q0R_qh6j13"
      },
      "source": [
        "import shutil\n",
        "shutil.copyfile('mydatabase.db', 'archive.db')\n",
        "shutil.move('/src/High.py', '/packages/High')"
      ],
      "execution_count": 4,
      "outputs": []
    },
    {
      "cell_type": "markdown",
      "metadata": {
        "id": "zjUWrmtb6t9N"
      },
      "source": [
        "# 3. glob"
      ]
    },
    {
      "cell_type": "code",
      "metadata": {
        "id": "YAflrOoQ6r3t"
      },
      "source": [
        "import glob\n",
        "glob.glob('*.ipynb')"
      ],
      "execution_count": 6,
      "outputs": []
    },
    {
      "cell_type": "markdown",
      "metadata": {
        "id": "cGLS33566zPm"
      },
      "source": [
        "# 4. argparse"
      ]
    },
    {
      "cell_type": "code",
      "metadata": {
        "id": "TE2FNnff6vnM"
      },
      "source": [
        "import argparse"
      ],
      "execution_count": 7,
      "outputs": []
    },
    {
      "cell_type": "code",
      "metadata": {
        "id": "xp7R3vtq627c"
      },
      "source": [
        "parser = argparse.ArgumentParser(prog = 'top',\n",
        "description = 'Show top lines from the file')"
      ],
      "execution_count": 8,
      "outputs": []
    },
    {
      "cell_type": "code",
      "metadata": {
        "colab": {
          "base_uri": "https://localhost:8080/"
        },
        "id": "HUlYo1yb64Ct",
        "outputId": "c1a31201-b688-485b-a511-099640346e0e"
      },
      "source": [
        "parser.add_argument('-l', '--lines', type=int, default=10)"
      ],
      "execution_count": 9,
      "outputs": [
        {
          "output_type": "execute_result",
          "data": {
            "text/plain": [
              "_StoreAction(option_strings=['-l', '--lines'], dest='lines', nargs=None, const=None, default=10, type=<class 'int'>, choices=None, help=None, metavar=None)"
            ]
          },
          "metadata": {
            "tags": []
          },
          "execution_count": 9
        }
      ]
    },
    {
      "cell_type": "markdown",
      "metadata": {
        "id": "hT_3Mgxg6-jh"
      },
      "source": [
        "# 5. import re"
      ]
    },
    {
      "cell_type": "code",
      "metadata": {
        "colab": {
          "base_uri": "https://localhost:8080/"
        },
        "id": "ey9sJel166rj",
        "outputId": "5c342b59-9acc-4b25-fd04-038febb37a74"
      },
      "source": [
        "import re\n",
        "re.findall(r'\\bf[a-z]*', 'which foot or hand fell fastest')"
      ],
      "execution_count": 11,
      "outputs": [
        {
          "output_type": "execute_result",
          "data": {
            "text/plain": [
              "['foot', 'fell', 'fastest']"
            ]
          },
          "metadata": {
            "tags": []
          },
          "execution_count": 11
        }
      ]
    },
    {
      "cell_type": "code",
      "metadata": {
        "colab": {
          "base_uri": "https://localhost:8080/",
          "height": 37
        },
        "id": "b4jlheYh7C0C",
        "outputId": "834ff72f-7a80-4c13-d452-f257d621b6fe"
      },
      "source": [
        "re.sub(r'(\\b[a-z]+) \\1', r'\\1', 'cat in the the hat')"
      ],
      "execution_count": 12,
      "outputs": [
        {
          "output_type": "execute_result",
          "data": {
            "application/vnd.google.colaboratory.intrinsic+json": {
              "type": "string"
            },
            "text/plain": [
              "'cat in the hat'"
            ]
          },
          "metadata": {
            "tags": []
          },
          "execution_count": 12
        }
      ]
    },
    {
      "cell_type": "markdown",
      "metadata": {
        "id": "Xr_PFZI37Fys"
      },
      "source": [
        "# 6. Math"
      ]
    },
    {
      "cell_type": "code",
      "metadata": {
        "colab": {
          "base_uri": "https://localhost:8080/"
        },
        "id": "eg4zxH-H7EfQ",
        "outputId": "61138124-c9e9-48e0-c48b-7936d8f03261"
      },
      "source": [
        "import math\n",
        "math.log(1024, 2)"
      ],
      "execution_count": 13,
      "outputs": [
        {
          "output_type": "execute_result",
          "data": {
            "text/plain": [
              "10.0"
            ]
          },
          "metadata": {
            "tags": []
          },
          "execution_count": 13
        }
      ]
    },
    {
      "cell_type": "markdown",
      "metadata": {
        "id": "H9THorGM7Jya"
      },
      "source": [
        "# 7. Statistics"
      ]
    },
    {
      "cell_type": "code",
      "metadata": {
        "id": "xYZa-c_x7I69"
      },
      "source": [
        "import statistics as st\n",
        "st.mean(data)\n",
        "st.median(data)\n",
        "\n",
        "st.variance(data)"
      ],
      "execution_count": 14,
      "outputs": []
    },
    {
      "cell_type": "markdown",
      "metadata": {
        "id": "Ms9Y5tyd7NMX"
      },
      "source": [
        "# 8. urllib"
      ]
    },
    {
      "cell_type": "code",
      "metadata": {
        "id": "2wDqbX4F7Lez"
      },
      "source": [
        "from urllib.request import urlopen\n",
        "data = null\n",
        "with urlopen('http://example_url/') as response: \n",
        "    data = response"
      ],
      "execution_count": 15,
      "outputs": []
    },
    {
      "cell_type": "markdown",
      "metadata": {
        "id": "v_rqYST-7TQ_"
      },
      "source": [
        "# 9. datetime"
      ]
    },
    {
      "cell_type": "code",
      "metadata": {
        "colab": {
          "base_uri": "https://localhost:8080/"
        },
        "id": "Nf6xE7Cz7RB7",
        "outputId": "04b8ae83-e8fd-4654-d31a-ab1ae87cfe80"
      },
      "source": [
        "import datetime as dt\n",
        "now = dt.date.today()\n",
        "print(now.year)\n",
        "print(now.month)"
      ],
      "execution_count": 16,
      "outputs": [
        {
          "output_type": "stream",
          "text": [
            "2021\n",
            "1\n"
          ],
          "name": "stdout"
        }
      ]
    },
    {
      "cell_type": "markdown",
      "metadata": {
        "id": "JE0bXQ737Wtf"
      },
      "source": [
        "# 10. zlib"
      ]
    },
    {
      "cell_type": "code",
      "metadata": {
        "colab": {
          "base_uri": "https://localhost:8080/"
        },
        "id": "dlIJVSOj7VpW",
        "outputId": "961acab0-1fea-4130-ff17-3d0faa51b6dd"
      },
      "source": [
        "import zlib\n",
        "\n",
        "h = \" Hello, it is me, you're friend Emmett!\"\n",
        "print(len(h))\n",
        "t = zlib.compress(h.encode())\n",
        "print(len(t))\n",
        "z = zlib.decompress(t)\n",
        "print(len(z))"
      ],
      "execution_count": 22,
      "outputs": [
        {
          "output_type": "stream",
          "text": [
            "39\n",
            "47\n",
            "39\n"
          ],
          "name": "stdout"
        }
      ]
    }
  ]
}