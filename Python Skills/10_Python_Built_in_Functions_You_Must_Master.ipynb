{
  "nbformat": 4,
  "nbformat_minor": 0,
  "metadata": {
    "colab": {
      "provenance": [],
      "authorship_tag": "ABX9TyNWct8m9m2W6G+KUMQ27eyq"
    },
    "kernelspec": {
      "name": "python3",
      "display_name": "Python 3"
    },
    "language_info": {
      "name": "python"
    }
  },
  "cells": [
    {
      "cell_type": "markdown",
      "source": [
        "[Reference](https://medium.com/@pythonshield/23-python-built-in-functions-you-must-master-f0d03f58583a)"
      ],
      "metadata": {
        "id": "TEP2yU9Yz1wT"
      }
    },
    {
      "cell_type": "markdown",
      "source": [
        "# 1. print()"
      ],
      "metadata": {
        "id": "kc87aDE5z4mu"
      }
    },
    {
      "cell_type": "code",
      "execution_count": 1,
      "metadata": {
        "colab": {
          "base_uri": "https://localhost:8080/"
        },
        "id": "zgag0xFuztAX",
        "outputId": "4f74ab19-f581-471a-c79c-56dee253ab4a"
      },
      "outputs": [
        {
          "output_type": "stream",
          "name": "stdout",
          "text": [
            "Hello, World!\n"
          ]
        }
      ],
      "source": [
        "print(\"Hello, World!\")"
      ]
    },
    {
      "cell_type": "code",
      "source": [
        "# Forgetting to convert non-string types can lead to errors in certain contexts\n",
        "value = 42\n",
        "print(\"The answer is \" + str(value))  # Correct\n",
        "# print(\"The answer is \" + value)     # Raises TypeError"
      ],
      "metadata": {
        "colab": {
          "base_uri": "https://localhost:8080/"
        },
        "id": "Lmk7ZuDBz6lI",
        "outputId": "9fc96f57-da8a-477a-f64e-cf83c72f864c"
      },
      "execution_count": 2,
      "outputs": [
        {
          "output_type": "stream",
          "name": "stdout",
          "text": [
            "The answer is 42\n"
          ]
        }
      ]
    },
    {
      "cell_type": "code",
      "source": [
        "# Forgetting to convert non-string types can lead to errors in certain contexts\n",
        "value = 42\n",
        "print(\"The answer is \" + str(value))  # Correct\n",
        "# print(\"The answer is \" + value)     # Raises TypeError"
      ],
      "metadata": {
        "colab": {
          "base_uri": "https://localhost:8080/"
        },
        "id": "BcNQ7_csz8l7",
        "outputId": "98f8100f-ea5c-4fa6-e5ff-27ef7510fb6b"
      },
      "execution_count": 3,
      "outputs": [
        {
          "output_type": "stream",
          "name": "stdout",
          "text": [
            "The answer is 42\n"
          ]
        }
      ]
    },
    {
      "cell_type": "code",
      "source": [
        "name = \"Alice\"\n",
        "age = 30\n",
        "print(f\"{name} is {age} years old.\")"
      ],
      "metadata": {
        "colab": {
          "base_uri": "https://localhost:8080/"
        },
        "id": "e3b1i4DUz-pb",
        "outputId": "269b5efe-770b-4551-f133-8430435470a5"
      },
      "execution_count": 4,
      "outputs": [
        {
          "output_type": "stream",
          "name": "stdout",
          "text": [
            "Alice is 30 years old.\n"
          ]
        }
      ]
    },
    {
      "cell_type": "code",
      "source": [
        "from unittest.mock import patch\n",
        "import io\n",
        "\n",
        "def greet(name):\n",
        "    print(f\"Hello, {name}!\")\n",
        "\n",
        "@patch('sys.stdout', new_callable=io.StringIO)\n",
        "def test_greet(mock_stdout):\n",
        "    greet(\"Alice\")\n",
        "    assert mock_stdout.getvalue() == \"Hello, Alice!\\n\""
      ],
      "metadata": {
        "id": "EF99y-0Q0ASN"
      },
      "execution_count": 5,
      "outputs": []
    },
    {
      "cell_type": "markdown",
      "source": [
        "# 2. len()"
      ],
      "metadata": {
        "id": "Icw3vtkw0DmJ"
      }
    },
    {
      "cell_type": "code",
      "source": [
        "length = len(\"Python\")"
      ],
      "metadata": {
        "id": "PMzuq7aI0B8y"
      },
      "execution_count": 6,
      "outputs": []
    },
    {
      "cell_type": "code",
      "source": [
        "fruits = ['apple', 'banana', 'cherry']\n",
        "print(len(fruits))  # Correct usage\n",
        "\n",
        "empty_list = []\n",
        "print(len(empty_list))  # Outputs 0"
      ],
      "metadata": {
        "colab": {
          "base_uri": "https://localhost:8080/"
        },
        "id": "0GyeR3M_0G1h",
        "outputId": "941226be-d463-4cf9-cb80-395081d0dea5"
      },
      "execution_count": 7,
      "outputs": [
        {
          "output_type": "stream",
          "name": "stdout",
          "text": [
            "3\n",
            "0\n"
          ]
        }
      ]
    },
    {
      "cell_type": "code",
      "source": [
        "import time\n",
        "\n",
        "large_list = list(range(1000000))\n",
        "start = time.time()\n",
        "length = len(large_list)\n",
        "end = time.time()\n",
        "print(f\"len() on large list: {length} elements, Time: {end - start} seconds\")"
      ],
      "metadata": {
        "colab": {
          "base_uri": "https://localhost:8080/"
        },
        "id": "B8_EI6YB0IL4",
        "outputId": "d1375d48-b4ac-45a3-e20e-22daf40549b4"
      },
      "execution_count": 8,
      "outputs": [
        {
          "output_type": "stream",
          "name": "stdout",
          "text": [
            "len() on large list: 1000000 elements, Time: 0.00014352798461914062 seconds\n"
          ]
        }
      ]
    },
    {
      "cell_type": "code",
      "source": [
        "def get_length(obj):\n",
        "    return len(obj)\n",
        "\n",
        "def test_get_length():\n",
        "    assert get_length([1, 2, 3]) == 3\n",
        "    assert get_length(\"hello\") == 5\n",
        "    try:\n",
        "        get_length(10)\n",
        "    except TypeError:\n",
        "        pass  # Expected"
      ],
      "metadata": {
        "id": "MabsCiU_0Kti"
      },
      "execution_count": 9,
      "outputs": []
    },
    {
      "cell_type": "markdown",
      "source": [
        "# 3. range()"
      ],
      "metadata": {
        "id": "LwdBVLe30WI1"
      }
    },
    {
      "cell_type": "code",
      "source": [
        "for i in range(5):\n",
        "    print(i)"
      ],
      "metadata": {
        "colab": {
          "base_uri": "https://localhost:8080/"
        },
        "id": "sp1YzNcz0Nyd",
        "outputId": "6e97740f-8811-4f00-8f22-74cb6ab6d15c"
      },
      "execution_count": 10,
      "outputs": [
        {
          "output_type": "stream",
          "name": "stdout",
          "text": [
            "0\n",
            "1\n",
            "2\n",
            "3\n",
            "4\n"
          ]
        }
      ]
    },
    {
      "cell_type": "code",
      "source": [
        "# Off-by-one errors are common when using range\n",
        "for num in range(1, 10, 2):\n",
        "    print(num)  # Prints 1, 3, 5, 7, 9\n",
        "\n",
        "# Expecting 10 to be included, but range is exclusive of the stop value"
      ],
      "metadata": {
        "colab": {
          "base_uri": "https://localhost:8080/"
        },
        "id": "SjTbddeP0Xxi",
        "outputId": "f38abcf4-b139-4640-89c7-1163fcab3825"
      },
      "execution_count": 11,
      "outputs": [
        {
          "output_type": "stream",
          "name": "stdout",
          "text": [
            "1\n",
            "3\n",
            "5\n",
            "7\n",
            "9\n"
          ]
        }
      ]
    },
    {
      "cell_type": "code",
      "source": [
        "import time\n",
        "\n",
        "start = time.time()\n",
        "for i in range(1000000):\n",
        "    pass\n",
        "end = time.time()\n",
        "print(f\"Loop with range(): {end - start} seconds\")"
      ],
      "metadata": {
        "colab": {
          "base_uri": "https://localhost:8080/"
        },
        "id": "aemKuAb-0ZFW",
        "outputId": "b1617618-882b-4e0b-e9b6-c30e93384e40"
      },
      "execution_count": 12,
      "outputs": [
        {
          "output_type": "stream",
          "name": "stdout",
          "text": [
            "Loop with range(): 0.07840418815612793 seconds\n"
          ]
        }
      ]
    },
    {
      "cell_type": "code",
      "source": [
        "try:\n",
        "    for i in range(\"10\"):\n",
        "        print(i)\n",
        "except TypeError:\n",
        "    print(\"Range parameters must be integers.\")"
      ],
      "metadata": {
        "colab": {
          "base_uri": "https://localhost:8080/"
        },
        "id": "Ve9Wqk-g0b4Y",
        "outputId": "cf3c2868-465c-412b-a1ca-8415adc27685"
      },
      "execution_count": 13,
      "outputs": [
        {
          "output_type": "stream",
          "name": "stdout",
          "text": [
            "Range parameters must be integers.\n"
          ]
        }
      ]
    },
    {
      "cell_type": "code",
      "source": [
        "def generate_numbers(start, stop, step=1):\n",
        "    return list(range(start, stop, step))\n",
        "\n",
        "def test_generate_numbers():\n",
        "    assert generate_numbers(0, 5) == [0, 1, 2, 3, 4]\n",
        "    assert generate_numbers(1, 10, 2) == [1, 3, 5, 7, 9]\n",
        "    try:\n",
        "        generate_numbers(1, \"10\")\n",
        "    except TypeError:\n",
        "        pass  # Expected"
      ],
      "metadata": {
        "id": "wup2IxwE0dAH"
      },
      "execution_count": 14,
      "outputs": []
    },
    {
      "cell_type": "markdown",
      "source": [
        "# 4. type()"
      ],
      "metadata": {
        "id": "xy1TweRi0gud"
      }
    },
    {
      "cell_type": "code",
      "source": [
        "print(type(3.14))"
      ],
      "metadata": {
        "colab": {
          "base_uri": "https://localhost:8080/"
        },
        "id": "JyQt9btD0e-8",
        "outputId": "cae90f2a-46f4-4ba7-ebeb-514e658b1cb6"
      },
      "execution_count": 15,
      "outputs": [
        {
          "output_type": "stream",
          "name": "stdout",
          "text": [
            "<class 'float'>\n"
          ]
        }
      ]
    },
    {
      "cell_type": "code",
      "source": [
        "data = {'name': 'Bob', 'age': 25}\n",
        "print(type(data))  # <class 'dict'>"
      ],
      "metadata": {
        "colab": {
          "base_uri": "https://localhost:8080/"
        },
        "id": "mR4Fr1ZE0jYQ",
        "outputId": "e25b67d4-0d11-4a0f-954b-e4d206a684e5"
      },
      "execution_count": 16,
      "outputs": [
        {
          "output_type": "stream",
          "name": "stdout",
          "text": [
            "<class 'dict'>\n"
          ]
        }
      ]
    },
    {
      "cell_type": "code",
      "source": [
        "import time\n",
        "\n",
        "start = time.time()\n",
        "for _ in range(1000000):\n",
        "    t = type(123)\n",
        "end = time.time()\n",
        "print(f\"type() on int: {end - start} seconds\")"
      ],
      "metadata": {
        "colab": {
          "base_uri": "https://localhost:8080/"
        },
        "id": "AbjKDqA50kdU",
        "outputId": "d9ade087-36b0-429c-9779-6723f275375b"
      },
      "execution_count": 17,
      "outputs": [
        {
          "output_type": "stream",
          "name": "stdout",
          "text": [
            "type() on int: 0.25295448303222656 seconds\n"
          ]
        }
      ]
    },
    {
      "cell_type": "code",
      "source": [
        "def get_type(obj):\n",
        "    return type(obj)\n",
        "\n",
        "def test_get_type():\n",
        "    assert get_type(10) == int\n",
        "    assert get_type(\"hello\") == str\n",
        "    assert get_type([]) == list"
      ],
      "metadata": {
        "id": "85ZsPikE0lx6"
      },
      "execution_count": 18,
      "outputs": []
    },
    {
      "cell_type": "markdown",
      "source": [
        "# 5. int()"
      ],
      "metadata": {
        "id": "nrUobSs6-7ra"
      }
    },
    {
      "cell_type": "code",
      "source": [
        "num_str = \"123\"\n",
        "num_int = int(num_str)\n",
        "print(num_int + 10)  # Correct: 133\n",
        "\n",
        "invalid_str = \"123abc\"\n",
        "# int(invalid_str)  # Raises ValueError"
      ],
      "metadata": {
        "colab": {
          "base_uri": "https://localhost:8080/"
        },
        "id": "sW7P4JCX0no7",
        "outputId": "1bfa71e6-cb41-404d-d9aa-74b29ea39062"
      },
      "execution_count": 19,
      "outputs": [
        {
          "output_type": "stream",
          "name": "stdout",
          "text": [
            "133\n"
          ]
        }
      ]
    },
    {
      "cell_type": "code",
      "source": [
        "import time\n",
        "\n",
        "start = time.time()\n",
        "for i in range(1000000):\n",
        "    n = int(\"123\")\n",
        "end = time.time()\n",
        "print(f\"int() conversion: {end - start} seconds\")"
      ],
      "metadata": {
        "colab": {
          "base_uri": "https://localhost:8080/"
        },
        "id": "bb1EE_1g_AGD",
        "outputId": "fcf2ad8e-5798-4a35-a10e-db9a2d2186d3"
      },
      "execution_count": 20,
      "outputs": [
        {
          "output_type": "stream",
          "name": "stdout",
          "text": [
            "int() conversion: 0.6487133502960205 seconds\n"
          ]
        }
      ]
    },
    {
      "cell_type": "markdown",
      "source": [
        "# 6. float()"
      ],
      "metadata": {
        "id": "gdHHoOK__CaA"
      }
    },
    {
      "cell_type": "code",
      "source": [
        "import time\n",
        "\n",
        "start = time.time()\n",
        "for i in range(1000000):\n",
        "    f = float(\"3.14\")\n",
        "end = time.time()\n",
        "print(f\"float() conversion: {end - start} seconds\")"
      ],
      "metadata": {
        "colab": {
          "base_uri": "https://localhost:8080/"
        },
        "id": "KjuWtKDC_Abi",
        "outputId": "d50a239f-f8fc-44f8-ffe6-0bd9f697b0fb"
      },
      "execution_count": 21,
      "outputs": [
        {
          "output_type": "stream",
          "name": "stdout",
          "text": [
            "float() conversion: 0.48337721824645996 seconds\n"
          ]
        }
      ]
    },
    {
      "cell_type": "code",
      "source": [
        "import time\n",
        "\n",
        "start = time.time()\n",
        "for i in range(1000000):\n",
        "    f = float(\"3.14\")\n",
        "end = time.time()\n",
        "print(f\"float() conversion: {end - start} seconds\")"
      ],
      "metadata": {
        "colab": {
          "base_uri": "https://localhost:8080/"
        },
        "id": "kWDJu5G-_G6l",
        "outputId": "d0a6c765-5784-4559-eae9-d7a67cd62a8d"
      },
      "execution_count": 22,
      "outputs": [
        {
          "output_type": "stream",
          "name": "stdout",
          "text": [
            "float() conversion: 0.35965895652770996 seconds\n"
          ]
        }
      ]
    },
    {
      "cell_type": "markdown",
      "source": [
        "# 7. str()"
      ],
      "metadata": {
        "id": "aVN147tX_Lna"
      }
    },
    {
      "cell_type": "code",
      "source": [
        "import time\n",
        "\n",
        "start = time.time()\n",
        "for i in range(1000000):\n",
        "    s = str(i)\n",
        "end = time.time()\n",
        "print(f\"str() conversion: {end - start} seconds\")"
      ],
      "metadata": {
        "colab": {
          "base_uri": "https://localhost:8080/"
        },
        "id": "GssQXI5I_JXp",
        "outputId": "68f701d8-f489-4cdb-a4da-3a7a35b35e30"
      },
      "execution_count": 23,
      "outputs": [
        {
          "output_type": "stream",
          "name": "stdout",
          "text": [
            "str() conversion: 0.7674252986907959 seconds\n"
          ]
        }
      ]
    },
    {
      "cell_type": "markdown",
      "source": [
        "# 8. input()"
      ],
      "metadata": {
        "id": "qU1i72h6_PuW"
      }
    },
    {
      "cell_type": "code",
      "source": [
        "age = input(\"Enter your age: \")\n",
        "# Remember to convert input to the desired type\n",
        "age = int(age)\n",
        "print(f\"You are {age} years old.\")"
      ],
      "metadata": {
        "colab": {
          "base_uri": "https://localhost:8080/"
        },
        "id": "l4BgZtjC_Nsp",
        "outputId": "ce7e8a75-dbae-4253-f99c-095f3ef993a9"
      },
      "execution_count": 24,
      "outputs": [
        {
          "output_type": "stream",
          "name": "stdout",
          "text": [
            "Enter your age: 30\n",
            "You are 30 years old.\n"
          ]
        }
      ]
    },
    {
      "cell_type": "markdown",
      "source": [
        "# 9. sum()"
      ],
      "metadata": {
        "id": "u_o0Wrc9_Wjm"
      }
    },
    {
      "cell_type": "code",
      "source": [
        "import time\n",
        "\n",
        "large_list = list(range(1000000))\n",
        "start = time.time()\n",
        "total = sum(large_list)\n",
        "end = time.time()\n",
        "print(f\"sum() on large list: {total}, Time: {end - start} seconds\")"
      ],
      "metadata": {
        "colab": {
          "base_uri": "https://localhost:8080/"
        },
        "id": "Ye9AhJRK_ZnS",
        "outputId": "b0a874d7-493d-4b39-f063-7b3be402b750"
      },
      "execution_count": 25,
      "outputs": [
        {
          "output_type": "stream",
          "name": "stdout",
          "text": [
            "sum() on large list: 499999500000, Time: 0.020434141159057617 seconds\n"
          ]
        }
      ]
    },
    {
      "cell_type": "markdown",
      "source": [
        "# 10. max() and min()"
      ],
      "metadata": {
        "id": "2zXN7hDX_da_"
      }
    },
    {
      "cell_type": "code",
      "source": [
        "scores = [88, 92, 79, 93, 85]\n",
        "print(\"Highest score:\", max(scores))\n",
        "print(\"Lowest score:\", min(scores))\n",
        "\n",
        "empty = []\n",
        "# max(empty)  # Raises ValueError"
      ],
      "metadata": {
        "colab": {
          "base_uri": "https://localhost:8080/"
        },
        "id": "Fp_dPi48_brQ",
        "outputId": "aa70db93-490c-4293-f43d-a7de5d5d734d"
      },
      "execution_count": 26,
      "outputs": [
        {
          "output_type": "stream",
          "name": "stdout",
          "text": [
            "Highest score: 93\n",
            "Lowest score: 79\n"
          ]
        }
      ]
    },
    {
      "cell_type": "code",
      "source": [
        "import time\n",
        "\n",
        "large_list = list(range(1000000))\n",
        "start = time.time()\n",
        "maximum = max(large_list)\n",
        "minimum = min(large_list)\n",
        "end = time.time()\n",
        "print(f\"max() and min() on large list: {maximum}, {minimum}, Time: {end - start} seconds\")"
      ],
      "metadata": {
        "colab": {
          "base_uri": "https://localhost:8080/"
        },
        "id": "BefesUmR_fak",
        "outputId": "3d5a8013-31ea-4743-d157-6be4611bf6ee"
      },
      "execution_count": 27,
      "outputs": [
        {
          "output_type": "stream",
          "name": "stdout",
          "text": [
            "max() and min() on large list: 999999, 0, Time: 0.10314607620239258 seconds\n"
          ]
        }
      ]
    }
  ]
}
