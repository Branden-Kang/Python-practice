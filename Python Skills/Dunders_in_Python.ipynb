{
  "nbformat": 4,
  "nbformat_minor": 0,
  "metadata": {
    "colab": {
      "name": "Dunders in Python.ipynb",
      "provenance": [],
      "authorship_tag": "ABX9TyO0P9hmtyWFi7mLTGKrlrn5"
    },
    "kernelspec": {
      "name": "python3",
      "display_name": "Python 3"
    },
    "language_info": {
      "name": "python"
    }
  },
  "cells": [
    {
      "cell_type": "markdown",
      "metadata": {
        "id": "EWCVBtftZ8m9"
      },
      "source": [
        "[Reference](https://medium.com/swlh/welcome-to-python-meet-the-dunders-pt-2-9b7e15660312)"
      ]
    },
    {
      "cell_type": "code",
      "metadata": {
        "colab": {
          "base_uri": "https://localhost:8080/"
        },
        "id": "4P9IsT6mZ2n3",
        "outputId": "b8e18856-1223-4827-db51-2d1e47f02cf5"
      },
      "source": [
        "class Dog:\n",
        "    \"\"\"\n",
        "    A classic dog, no frills.\n",
        "    \"\"\"\n",
        "    def __init__(self, name, breed, age):\n",
        "        self.name = name\n",
        "        self.breed = breed\n",
        "        self.age = age\n",
        "    \n",
        "    def __getattribute__(self, name):\n",
        "        print(\"__getattribute__({})\".format(name))\n",
        "        return super().__getattribute__(name)\n",
        "\n",
        "    def __getattr__(self, name):\n",
        "        print(\"__getattr__({})\".format(name))\n",
        "        return None\n",
        "\n",
        "leo = Dog(\"Leo\", \"maltese\", 1)\n",
        "\n",
        "print(leo.breed)\n",
        "print(leo.gender)"
      ],
      "execution_count": 1,
      "outputs": [
        {
          "output_type": "stream",
          "text": [
            "__getattribute__(breed)\n",
            "maltese\n",
            "__getattribute__(gender)\n",
            "__getattr__(gender)\n",
            "None\n"
          ],
          "name": "stdout"
        }
      ]
    },
    {
      "cell_type": "code",
      "metadata": {
        "colab": {
          "base_uri": "https://localhost:8080/"
        },
        "id": "yeyMVGl_aNnD",
        "outputId": "f29a2ce3-c4b6-44a7-8da4-cf671e4a7ef7"
      },
      "source": [
        "class CustomSeq:\n",
        "    \"\"\"\n",
        "    A custom implementation of a sequence.\n",
        "    \"\"\"\n",
        "    def __init__(self, items):\n",
        "        self.items = items\n",
        "    \n",
        "    def __len__(self):\n",
        "        return len(self.items)\n",
        "\n",
        "len(CustomSeq([1,2,3])) # 3\n",
        "len(CustomSeq(\"abc4\")) # 4"
      ],
      "execution_count": 2,
      "outputs": [
        {
          "output_type": "execute_result",
          "data": {
            "text/plain": [
              "4"
            ]
          },
          "metadata": {
            "tags": []
          },
          "execution_count": 2
        }
      ]
    },
    {
      "cell_type": "code",
      "metadata": {
        "colab": {
          "base_uri": "https://localhost:8080/"
        },
        "id": "RGvwOcWAaOmb",
        "outputId": "4fbd58f5-7cc9-4803-81ad-448c433aa1be"
      },
      "source": [
        "class Galaxy:\n",
        "    \"\"\"\n",
        "    Guide to the Galaxy.\n",
        "    \"\"\"\n",
        "    def __init__(self, question):\n",
        "        self.question = question\n",
        "    \n",
        "    def __len__(self):\n",
        "        return 42\n",
        "\n",
        "len(Galaxy(\"What is the answer to life?\")) # 42"
      ],
      "execution_count": 3,
      "outputs": [
        {
          "output_type": "execute_result",
          "data": {
            "text/plain": [
              "42"
            ]
          },
          "metadata": {
            "tags": []
          },
          "execution_count": 3
        }
      ]
    },
    {
      "cell_type": "code",
      "metadata": {
        "colab": {
          "base_uri": "https://localhost:8080/"
        },
        "id": "fuo-XIWTaQhI",
        "outputId": "53053f51-6894-4b5f-a702-f9403b08bcbd"
      },
      "source": [
        "class FruitColors:\n",
        "    \"\"\"\n",
        "    Stores colors for fruit.\n",
        "    \"\"\"\n",
        "    _colors = {}\n",
        "    def __init__(self, fruits):\n",
        "        if isinstance(fruits, dict):\n",
        "            self._colors = fruits\n",
        "    \n",
        "    def __getitem__(self, key):\n",
        "        try:\n",
        "            return self._colors[key]\n",
        "        except KeyError:\n",
        "            return \"unknown\"\n",
        "\n",
        "my_fruits = FruitColors({\"orange\": \"orange\", \"apple\": \"red\", \"banana\": \"yellow\"})\n",
        "\n",
        "print(my_fruits[\"apple\"]) # red\n",
        "print(my_fruits[\"kiwi\"]) # unknown"
      ],
      "execution_count": 4,
      "outputs": [
        {
          "output_type": "stream",
          "text": [
            "red\n",
            "unknown\n"
          ],
          "name": "stdout"
        }
      ]
    },
    {
      "cell_type": "code",
      "metadata": {
        "colab": {
          "base_uri": "https://localhost:8080/"
        },
        "id": "LhbAWcWOaSoT",
        "outputId": "6725fca4-78ce-42e5-bfac-08ff93acc9aa"
      },
      "source": [
        "class Veggies:\n",
        "    \"\"\"\n",
        "    Just a list of veggies\n",
        "    \"\"\"\n",
        "    _veggies = {}\n",
        "    def __init__(self, veggies):\n",
        "        self._veggies = veggies\n",
        "    \n",
        "    def __contains__(self, key):\n",
        "        # At a certain size a checking for membership in a set will be more efficient \n",
        "        # than iterating the list, even with the added overhead of creating a new set.\n",
        "        return key in set(self._veggies)\n",
        "\n",
        "my_veggies = Veggies([\"onion\", \"beet\", \"carrot\"])\n",
        "\n",
        "\"apple\" in my_veggies # False\n",
        "\"beet\" in my_veggies # True"
      ],
      "execution_count": 5,
      "outputs": [
        {
          "output_type": "execute_result",
          "data": {
            "text/plain": [
              "True"
            ]
          },
          "metadata": {
            "tags": []
          },
          "execution_count": 5
        }
      ]
    },
    {
      "cell_type": "code",
      "metadata": {
        "colab": {
          "base_uri": "https://localhost:8080/"
        },
        "id": "Z1msarwZaWtF",
        "outputId": "506a2f4f-05b9-4aed-cdc1-2733f6c54850"
      },
      "source": [
        "class Dogs:\n",
        "    \"\"\"\n",
        "    An ordered list of dog breeds.\n",
        "    \"\"\"\n",
        "    _breeds = []\n",
        "    def __init__(self, *breeds):\n",
        "        self._breeds = [*breeds]\n",
        "        self._breeds.sort()\n",
        "    \n",
        "    def __iter__(self):\n",
        "        for breed in self._breeds:\n",
        "            yield breed\n",
        "\n",
        "my_favorite_dogs = Dogs(\"maltese\", \"french bulldog\")\n",
        "\n",
        "print(type(iter(my_favorite_dogs))) # <class 'generator'>\n",
        "print([dog for dog in my_favorite_dogs]) # ['french bulldog', 'maltese']"
      ],
      "execution_count": 6,
      "outputs": [
        {
          "output_type": "stream",
          "text": [
            "<class 'generator'>\n",
            "['french bulldog', 'maltese']\n"
          ],
          "name": "stdout"
        }
      ]
    },
    {
      "cell_type": "code",
      "metadata": {
        "colab": {
          "base_uri": "https://localhost:8080/"
        },
        "id": "uKeVpLW6aYyj",
        "outputId": "0be7110c-a2a0-45ca-bd25-730e22534db2"
      },
      "source": [
        "class Inventory:\n",
        "    \"\"\"\n",
        "    A grocery store's stock\n",
        "    \"\"\"\n",
        "    def __init__(self, **fruit):\n",
        "        for k, v in fruit.items():\n",
        "            self.__setattr__(k, v)\n",
        "\n",
        "    def __add__(self, other):\n",
        "        \"\"\"\n",
        "        Used to combine two Stock instances\n",
        "        \"\"\"\n",
        "        if issubclass(other.__class__, self.__class__.__base__):\n",
        "            new_stock = self.__class__()\n",
        "            new_stock.__dict__ = self.__dict__.copy()\n",
        "            for k, v in other.__dict__.items():\n",
        "                if k in new_stock.__dict__:\n",
        "                    new_stock.__dict__[k] += v\n",
        "                else:\n",
        "                    new_stock.__dict__[k] = v\n",
        "            return new_stock\n",
        "        else:\n",
        "            return self\n",
        "\n",
        "class Stock(Inventory):\n",
        "    pass\n",
        "\n",
        "class Order(Inventory):\n",
        "    pass\n",
        "\n",
        "a = Stock(apples=3, peaches=7)\n",
        "b = Order(apples=10, oranges=5)\n",
        "\n",
        "# Add the new Order to the Current Stock\n",
        "c = a + b\n",
        "\n",
        "print(c.apples) # 13\n",
        "print(c.oranges) # 5\n",
        "print(type(c)) # <class '__main__.Stock'>"
      ],
      "execution_count": 7,
      "outputs": [
        {
          "output_type": "stream",
          "text": [
            "13\n",
            "5\n",
            "<class '__main__.Stock'>\n"
          ],
          "name": "stdout"
        }
      ]
    }
  ]
}