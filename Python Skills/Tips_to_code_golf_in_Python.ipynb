{
  "nbformat": 4,
  "nbformat_minor": 0,
  "metadata": {
    "colab": {
      "name": "Tips to code golf in Python.ipynb",
      "provenance": [],
      "authorship_tag": "ABX9TyPil3zj4qbz3volhDuQ5I13"
    },
    "kernelspec": {
      "name": "python3",
      "display_name": "Python 3"
    },
    "language_info": {
      "name": "python"
    }
  },
  "cells": [
    {
      "cell_type": "markdown",
      "metadata": {
        "id": "kMoUEenno4It"
      },
      "source": [
        "[Reference](https://justforfun4278.medium.com/tips-to-code-golf-in-python-part-1-67fc3acadbe0)"
      ]
    },
    {
      "cell_type": "code",
      "metadata": {
        "colab": {
          "base_uri": "https://localhost:8080/"
        },
        "id": "HrOSEBbrm7AG",
        "outputId": "ff33c75a-95d3-49b0-cd5a-a744a39c57b1"
      },
      "source": [
        "a = [1, 2, 3]\n",
        "a.append(4)\n",
        "print(a)"
      ],
      "execution_count": 3,
      "outputs": [
        {
          "output_type": "stream",
          "text": [
            "[1, 2, 3, 4]\n"
          ],
          "name": "stdout"
        }
      ]
    },
    {
      "cell_type": "code",
      "metadata": {
        "colab": {
          "base_uri": "https://localhost:8080/"
        },
        "id": "gFe7B2d5np3Y",
        "outputId": "79b8519c-9bae-4203-f14a-96a9f4f35844"
      },
      "source": [
        "a = [1, 2, 3]\n",
        "a += [4]\n",
        "print(a)"
      ],
      "execution_count": 4,
      "outputs": [
        {
          "output_type": "stream",
          "text": [
            "[1, 2, 3, 4]\n"
          ],
          "name": "stdout"
        }
      ]
    },
    {
      "cell_type": "code",
      "metadata": {
        "colab": {
          "base_uri": "https://localhost:8080/"
        },
        "id": "MqacZIcXoB1v",
        "outputId": "2c6b5c60-ff3e-4aae-9764-7d3fa2817dd5"
      },
      "source": [
        "x = 10\n",
        "if x > 5:\n",
        "    print(\"X is greater than 5\")\n",
        "else:\n",
        "    print(\"X is lower than 5\")"
      ],
      "execution_count": 5,
      "outputs": [
        {
          "output_type": "stream",
          "text": [
            "X is greater than 5\n"
          ],
          "name": "stdout"
        }
      ]
    },
    {
      "cell_type": "code",
      "metadata": {
        "colab": {
          "base_uri": "https://localhost:8080/"
        },
        "id": "L16uCSRXoIk8",
        "outputId": "49adc5a7-e8e1-4286-91cb-6b62e8baf6c7"
      },
      "source": [
        "print([\"X is lower than 5\", \"X is greater than 5\"][x>5])"
      ],
      "execution_count": 6,
      "outputs": [
        {
          "output_type": "stream",
          "text": [
            "X is greater than 5\n"
          ],
          "name": "stdout"
        }
      ]
    },
    {
      "cell_type": "code",
      "metadata": {
        "colab": {
          "base_uri": "https://localhost:8080/"
        },
        "id": "WdpNFiimoJMS",
        "outputId": "b8e86c88-1971-4b47-9539-c00205d7329d"
      },
      "source": [
        "some = 15\n",
        "if some > 10:\n",
        "    print(\"Hi\")# can be reduced to\n",
        "if some>10:\n",
        " print(\"Hi\") # 1 space indentation# further one liner\n",
        "if some>10:print(\"Hi\")"
      ],
      "execution_count": 8,
      "outputs": [
        {
          "output_type": "stream",
          "text": [
            "Hi\n",
            "Hi\n",
            "Hi\n"
          ],
          "name": "stdout"
        }
      ]
    },
    {
      "cell_type": "code",
      "metadata": {
        "colab": {
          "base_uri": "https://localhost:8080/"
        },
        "id": "l8s7Qt-soP4z",
        "outputId": "7b83a556-15c9-4915-9bf5-03e382b43301"
      },
      "source": [
        "t = {\"key1\": \"value\"}\n",
        "if \"key2\" in t:\n",
        "    print(t[\"key2\"])\n",
        "else:\n",
        "    print(\"Not in t\")# can be reduced to\n",
        "print(t.get(\"key2\",\"Not in t\"))"
      ],
      "execution_count": 9,
      "outputs": [
        {
          "output_type": "stream",
          "text": [
            "Not in t\n",
            "Not in t\n"
          ],
          "name": "stdout"
        }
      ]
    },
    {
      "cell_type": "code",
      "metadata": {
        "id": "CmKWpxxwoVhl"
      },
      "source": [
        "# How kids do it\n",
        "a = \"1\"\n",
        "b = \"2\"\n",
        "c = \"3\"# How men do it\n",
        "a,b,c=\"1\",\"2\",\"3\"# How legends do it\n",
        "a,b,c=\"123\""
      ],
      "execution_count": 11,
      "outputs": []
    },
    {
      "cell_type": "code",
      "metadata": {
        "colab": {
          "base_uri": "https://localhost:8080/"
        },
        "id": "-yNzm3MmofCc",
        "outputId": "99d64ad5-4199-41d8-f9a0-91257d3e4eaa"
      },
      "source": [
        "from math import floor, ceil\n",
        "e = 16/13\n",
        "print(floor(e))\n",
        "print(ceil(e))# can be reduced to\n",
        "print(e//1)\n",
        "print(0--e//1)"
      ],
      "execution_count": 13,
      "outputs": [
        {
          "output_type": "stream",
          "text": [
            "1\n",
            "2\n",
            "1.0\n",
            "2.0\n"
          ],
          "name": "stdout"
        }
      ]
    },
    {
      "cell_type": "code",
      "metadata": {
        "id": "1A5vICPUolGx"
      },
      "source": [
        "def test():\n",
        "    x = 10\n",
        "    y = 20\n",
        "    print(x, y)# can be reduced to\n",
        "def test():x,y=10,20;print(x,y)"
      ],
      "execution_count": 14,
      "outputs": []
    },
    {
      "cell_type": "code",
      "metadata": {
        "id": "8qb_agvUonYU"
      },
      "source": [
        "# `isdigit()`\n",
        "x = \"10\"\n",
        "try:\n",
        "    x = int(x)\n",
        "except:\n",
        "    pass"
      ],
      "execution_count": 16,
      "outputs": []
    }
  ]
}