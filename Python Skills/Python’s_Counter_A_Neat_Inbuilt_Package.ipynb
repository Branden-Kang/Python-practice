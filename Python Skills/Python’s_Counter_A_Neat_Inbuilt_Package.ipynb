{
  "nbformat": 4,
  "nbformat_minor": 0,
  "metadata": {
    "colab": {
      "provenance": [],
      "authorship_tag": "ABX9TyOGlBdoNQVqUZmUKej4vt//"
    },
    "kernelspec": {
      "name": "python3",
      "display_name": "Python 3"
    },
    "language_info": {
      "name": "python"
    }
  },
  "cells": [
    {
      "cell_type": "markdown",
      "source": [
        "[Reference](https://python.plainenglish.io/pythons-counter-a-neat-inbuilt-package-a6bb1731dd9b)"
      ],
      "metadata": {
        "id": "1ayIohSyxbNQ"
      }
    },
    {
      "cell_type": "code",
      "execution_count": 1,
      "metadata": {
        "id": "5AJYyw--xYf4"
      },
      "outputs": [],
      "source": [
        "my_list = ['a', 'a', 'a', 'a', 'a', 'a', 'a', 'd', 'd', 'd', 'd', 'd', 'b', 'b', 'b', 'c']"
      ]
    },
    {
      "cell_type": "code",
      "source": [
        "from collections import Counter\n",
        "\n",
        "my_counter = Counter(my_list)\n",
        "print(my_counter)"
      ],
      "metadata": {
        "colab": {
          "base_uri": "https://localhost:8080/"
        },
        "id": "pCrA9SVwxd2O",
        "outputId": "2c845d98-45b7-4ef0-9874-bdc8f250b585"
      },
      "execution_count": 2,
      "outputs": [
        {
          "output_type": "stream",
          "name": "stdout",
          "text": [
            "Counter({'a': 7, 'd': 5, 'b': 3, 'c': 1})\n"
          ]
        }
      ]
    },
    {
      "cell_type": "code",
      "source": [
        "my_counter.update(['e'])\n",
        "my_counter['e'] *= 2"
      ],
      "metadata": {
        "id": "8kymCKmwxfVK"
      },
      "execution_count": 3,
      "outputs": []
    },
    {
      "cell_type": "code",
      "source": [
        "print(my_counter)"
      ],
      "metadata": {
        "id": "lIzaCFf8xgKp"
      },
      "execution_count": 3,
      "outputs": []
    },
    {
      "cell_type": "code",
      "source": [
        "my_counter.subtract(['a'])"
      ],
      "metadata": {
        "id": "Nr0YZvmJxhAE"
      },
      "execution_count": 4,
      "outputs": []
    },
    {
      "cell_type": "code",
      "source": [
        "print(my_counter)"
      ],
      "metadata": {
        "id": "XMP03ntIxiAs",
        "outputId": "7904e40d-218a-497b-d48c-52bcace8631e",
        "colab": {
          "base_uri": "https://localhost:8080/"
        }
      },
      "execution_count": 5,
      "outputs": [
        {
          "output_type": "stream",
          "name": "stdout",
          "text": [
            "Counter({'a': 6, 'd': 5, 'b': 3, 'e': 2, 'c': 1})\n"
          ]
        }
      ]
    },
    {
      "cell_type": "code",
      "source": [
        "most_common_element = my_counter.most_common(1)\n",
        "print(most_common_element)"
      ],
      "metadata": {
        "id": "zAvciGVcxim9",
        "outputId": "4d6ad7a2-e339-4c9f-aaf7-710a4f6b654b",
        "colab": {
          "base_uri": "https://localhost:8080/"
        }
      },
      "execution_count": 6,
      "outputs": [
        {
          "output_type": "stream",
          "name": "stdout",
          "text": [
            "[('a', 6)]\n"
          ]
        }
      ]
    },
    {
      "cell_type": "code",
      "source": [
        "two_most_common_elements = my_counter.most_common(2)\n",
        "print(two_most_common_elements)"
      ],
      "metadata": {
        "id": "2bXfzs0OxkHi"
      },
      "execution_count": 6,
      "outputs": []
    },
    {
      "cell_type": "code",
      "source": [
        "total_count = my_counter.total"
      ],
      "metadata": {
        "id": "yhx54k42xmse"
      },
      "execution_count": 7,
      "outputs": []
    },
    {
      "cell_type": "code",
      "source": [
        "print(total_count)"
      ],
      "metadata": {
        "id": "OarwUzfzxmyd",
        "outputId": "d5c620aa-07c7-45f9-cc8c-b69d352fc48e",
        "colab": {
          "base_uri": "https://localhost:8080/"
        }
      },
      "execution_count": 8,
      "outputs": [
        {
          "output_type": "stream",
          "name": "stdout",
          "text": [
            "<bound method Counter.total of Counter({'a': 6, 'd': 5, 'b': 3, 'e': 2, 'c': 1})>\n"
          ]
        }
      ]
    }
  ]
}
