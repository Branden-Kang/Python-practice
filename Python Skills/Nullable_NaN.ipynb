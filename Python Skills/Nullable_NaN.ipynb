{
  "nbformat": 4,
  "nbformat_minor": 0,
  "metadata": {
    "colab": {
      "name": "Nullable NaN.ipynb",
      "provenance": [],
      "authorship_tag": "ABX9TyOwGnJei2AJj6tdR60dUZBJ"
    },
    "kernelspec": {
      "name": "python3",
      "display_name": "Python 3"
    },
    "language_info": {
      "name": "python"
    }
  },
  "cells": [
    {
      "cell_type": "markdown",
      "metadata": {
        "id": "0RRL-UqH5PH1"
      },
      "source": [
        "[Reference](https://towardsdatascience.com/when-to-use-the-nullable-nan-10c073b0261e)"
      ]
    },
    {
      "cell_type": "code",
      "metadata": {
        "colab": {
          "base_uri": "https://localhost:8080/"
        },
        "id": "C28depgL5Nen",
        "outputId": "1bdb0cce-cfcb-4554-b664-e6ae950f5685"
      },
      "source": [
        "import pandas as pd\n",
        "\n",
        "gitcsv = 'https://raw.githubusercontent.com/justinhchae/medium/main/bools.csv'\n",
        "\n",
        "df = pd.read_csv(gitcsv)\n",
        "\n",
        "print(df.head())"
      ],
      "execution_count": 4,
      "outputs": [
        {
          "output_type": "stream",
          "text": [
            "  category  flag1 flag2  flag3\n",
            "0        d  False   NaN    NaN\n",
            "1        d   True   NaN    NaN\n",
            "2        c  False   NaN    NaN\n",
            "3        b  False   NaN    NaN\n",
            "4        b  False   NaN    NaN\n"
          ],
          "name": "stdout"
        }
      ]
    },
    {
      "cell_type": "code",
      "metadata": {
        "colab": {
          "base_uri": "https://localhost:8080/"
        },
        "id": "LsFfhVWO5Ygw",
        "outputId": "71b4e49b-e1c5-4c13-ea09-25fccc97f7d1"
      },
      "source": [
        "a = 1\n",
        "b = 1\n",
        "if b == a:\n",
        "   print('this will work but not for NaNs')"
      ],
      "execution_count": 5,
      "outputs": [
        {
          "output_type": "stream",
          "text": [
            "this will work but not for NaNs\n"
          ],
          "name": "stdout"
        }
      ]
    },
    {
      "cell_type": "code",
      "metadata": {
        "colab": {
          "base_uri": "https://localhost:8080/"
        },
        "id": "4a5eilxs5phC",
        "outputId": "6bc45f2e-3e39-4ded-bf8f-7f537a573c87"
      },
      "source": [
        "import pandas as pd\n",
        "\n",
        "gitcsv = 'https://raw.githubusercontent.com/justinhchae/medium/main/bools.csv'\n",
        "\n",
        "df = pd.read_csv(gitcsv)\n",
        "\n",
        "# some columns that are supposed to be bool\n",
        "cols = ['flag1', 'flag2', 'flag3']\n",
        "\n",
        "# use np.where to find and match, then replace\n",
        "# this says: Where the dataframe is null, replace with pd.NA, \n",
        "# else, where equal to 1, replace with True, else, the original value\n",
        "df[cols] = np.where(df[cols].isnull(), pd.NA,\n",
        "                          np.where(df[cols]==1., True, df[cols]))\n",
        "\n",
        "# lastly, use boolean instead of bool\n",
        "# This is the difference between 'regular' bool and the boolean array\n",
        "df[cols] = df[cols].astype('boolean')\n",
        "\n",
        "print(df.head())\n",
        "print(df['flag1'].unique())"
      ],
      "execution_count": 6,
      "outputs": [
        {
          "output_type": "stream",
          "text": [
            "  category  flag1  flag2  flag3\n",
            "0        d  False   <NA>   <NA>\n",
            "1        d   True   <NA>   <NA>\n",
            "2        c  False   <NA>   <NA>\n",
            "3        b  False   <NA>   <NA>\n",
            "4        b  False   <NA>   <NA>\n",
            "<BooleanArray>\n",
            "[False, True]\n",
            "Length: 2, dtype: boolean\n"
          ],
          "name": "stdout"
        }
      ]
    }
  ]
}