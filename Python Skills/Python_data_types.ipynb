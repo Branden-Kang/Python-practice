{
  "nbformat": 4,
  "nbformat_minor": 0,
  "metadata": {
    "colab": {
      "name": "Python data types.ipynb",
      "provenance": [],
      "authorship_tag": "ABX9TyNcxEcghSLQ1bEjAlueWrtn"
    },
    "kernelspec": {
      "name": "python3",
      "display_name": "Python 3"
    }
  },
  "cells": [
    {
      "cell_type": "markdown",
      "metadata": {
        "id": "9jkKlyFkOkst"
      },
      "source": [
        "[Reference](https://medium.com/dev-genius/python-data-types-4959eb84635f)"
      ]
    },
    {
      "cell_type": "code",
      "metadata": {
        "id": "vpPl_MF9Ojaa"
      },
      "source": [
        "s = \"This is a string\""
      ],
      "execution_count": 1,
      "outputs": []
    },
    {
      "cell_type": "code",
      "metadata": {
        "id": "T9WvzS63OqA4"
      },
      "source": [
        "n = 6"
      ],
      "execution_count": 2,
      "outputs": []
    },
    {
      "cell_type": "code",
      "metadata": {
        "id": "n3ibriQ_OqfT"
      },
      "source": [
        "l = [1, 6.8, [0,1,2], \"Hello\"]"
      ],
      "execution_count": 4,
      "outputs": []
    },
    {
      "cell_type": "code",
      "metadata": {
        "id": "hPaQdgolOvNM"
      },
      "source": [
        "x = set([1, 2, 3, 4, 5, 6, 7, 8, 9, 10])"
      ],
      "execution_count": 5,
      "outputs": []
    },
    {
      "cell_type": "code",
      "metadata": {
        "id": "YGvf8u7JO1aC"
      },
      "source": [
        "d = {1: \"one\", 2:\"two\", 3:\"three\"}"
      ],
      "execution_count": 7,
      "outputs": []
    },
    {
      "cell_type": "code",
      "metadata": {
        "colab": {
          "base_uri": "https://localhost:8080/"
        },
        "id": "5Wyo0zfdO5_B",
        "outputId": "bd833b98-0340-4cf9-dc71-8354a3d7e743"
      },
      "source": [
        "import sys\n",
        "sys.float_info"
      ],
      "execution_count": 8,
      "outputs": [
        {
          "output_type": "execute_result",
          "data": {
            "text/plain": [
              "sys.float_info(max=1.7976931348623157e+308, max_exp=1024, max_10_exp=308, min=2.2250738585072014e-308, min_exp=-1021, min_10_exp=-307, dig=15, mant_dig=53, epsilon=2.220446049250313e-16, radix=2, rounds=1)"
            ]
          },
          "metadata": {
            "tags": []
          },
          "execution_count": 8
        }
      ]
    },
    {
      "cell_type": "code",
      "metadata": {
        "id": "o9nRExjuPK4V"
      },
      "source": [
        "x = \"Hello world\"\n",
        "\n",
        "y = '\"Python is love!\" (DevGenius, 2020, On Medium)'"
      ],
      "execution_count": 10,
      "outputs": []
    },
    {
      "cell_type": "code",
      "metadata": {
        "id": "P4TmGdv7PMmD"
      },
      "source": [
        "x = (2, 6, 4.5, \"siete\", [\"a\", \"b\"], (5, 0))\n",
        "\n",
        "y = (1, 9, 3, 10, 5)"
      ],
      "execution_count": 12,
      "outputs": []
    },
    {
      "cell_type": "code",
      "metadata": {
        "id": "VZ1swresPOmP"
      },
      "source": [
        "x = [2, 6, 4.5, \"seven\", [\"a\", \"b\"], (5, 0)]\n",
        "\n",
        "matrix = [[1, 2, 3], [4, 5, 6], [7, 8, 9]]"
      ],
      "execution_count": 13,
      "outputs": []
    },
    {
      "cell_type": "code",
      "metadata": {
        "id": "7qvmWlOhPRcp"
      },
      "source": [
        "x = {1: \"one\", 2: \"two\", 3: \"three\"}\n",
        "\n",
        "y = {'first': 1, (\"Python\", \"Year\"): (\"Love\", 1991)}"
      ],
      "execution_count": 14,
      "outputs": []
    },
    {
      "cell_type": "code",
      "metadata": {
        "colab": {
          "base_uri": "https://localhost:8080/"
        },
        "id": "jo__4SsEPTXf",
        "outputId": "d21b78d6-0f16-422e-bb8f-7133c800eb82"
      },
      "source": [
        "x = set([1, 2, 3, 1, 3, 3, 5])\n",
        "\n",
        "print(x)"
      ],
      "execution_count": 15,
      "outputs": [
        {
          "output_type": "stream",
          "text": [
            "{1, 2, 3, 5}\n"
          ],
          "name": "stdout"
        }
      ]
    },
    {
      "cell_type": "code",
      "metadata": {
        "id": "U7Q2TF_RPVE3"
      },
      "source": [
        ""
      ],
      "execution_count": null,
      "outputs": []
    }
  ]
}