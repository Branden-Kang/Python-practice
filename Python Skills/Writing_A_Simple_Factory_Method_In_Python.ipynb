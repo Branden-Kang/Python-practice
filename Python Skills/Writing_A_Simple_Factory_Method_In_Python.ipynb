{
  "nbformat": 4,
  "nbformat_minor": 0,
  "metadata": {
    "colab": {
      "name": "Writing A Simple Factory Method In Python.ipynb",
      "provenance": [],
      "authorship_tag": "ABX9TyMiOQU+RDVXnTGHeC//oqdH"
    },
    "kernelspec": {
      "name": "python3",
      "display_name": "Python 3"
    }
  },
  "cells": [
    {
      "cell_type": "markdown",
      "metadata": {
        "id": "_LEqf5tGIIRF"
      },
      "source": [
        "[Reference](https://levelup.gitconnected.com/writing-a-simple-factory-method-in-python-6e48145d03a)"
      ]
    },
    {
      "cell_type": "code",
      "metadata": {
        "colab": {
          "base_uri": "https://localhost:8080/"
        },
        "id": "QSygyKqfHmFx",
        "outputId": "0617b0a8-0ac4-4a7c-870e-dc48e49658a5"
      },
      "source": [
        "class Bicycle:\n",
        "    def __init__(self):\n",
        "        self.tires = GenericTires()    \n",
        "    def get_tire_type(self):\n",
        "        return self.tires.tire_type()\n",
        "class GenericTires:\n",
        "    def tire_type(self):\n",
        "        return 'generic'\n",
        "bike = Bicycle()\n",
        "print(bike.get_tire_type())"
      ],
      "execution_count": 4,
      "outputs": [
        {
          "output_type": "stream",
          "text": [
            "generic\n"
          ],
          "name": "stdout"
        }
      ]
    },
    {
      "cell_type": "code",
      "metadata": {
        "colab": {
          "base_uri": "https://localhost:8080/"
        },
        "id": "SC3TG7NoHsfy",
        "outputId": "792a74e4-922f-403e-a3ac-fea5f4300cdf"
      },
      "source": [
        "class Bicycle:\n",
        "    def __init__(self):\n",
        "        self.tires = self.add_tires()    \n",
        "    def add_tires(self):\n",
        "        return GenericTires()    \n",
        "    def get_tire_type(self):\n",
        "        return self.tires.tire_type()\n",
        "class MountainBike(Bicycle):\n",
        "    def add_tires(self):\n",
        "        return MountainTires()\n",
        "class GenericTires:\n",
        "    def tire_type(self):\n",
        "        return 'generic'\n",
        "class MountainTires:\n",
        "    def tire_type(self):\n",
        "        return 'mountain'\n",
        "mountain_bike = MountainBike()\n",
        "print(mountain_bike.get_tire_type())"
      ],
      "execution_count": 5,
      "outputs": [
        {
          "output_type": "stream",
          "text": [
            "mountain\n"
          ],
          "name": "stdout"
        }
      ]
    },
    {
      "cell_type": "code",
      "metadata": {
        "colab": {
          "base_uri": "https://localhost:8080/"
        },
        "id": "AVLCFc0YH3Mz",
        "outputId": "06e6db9b-4c4a-46bc-a4b6-373cee451f70"
      },
      "source": [
        "class Bicycle:\n",
        "    def __init__(self, factory):\n",
        "        self.tires = factory().add_tires()\n",
        "        self.frame = factory().add_frame()\n",
        "\n",
        "class GenericFactory:\n",
        "    def add_tires(self):\n",
        "        return GenericTires()    \n",
        "    def add_frame(self):\n",
        "        return GenericFrame()\n",
        "        \n",
        "class MountainFactory:\n",
        "    def add_tires(self):\n",
        "        return RuggedTires()    \n",
        "    def add_frame(self):\n",
        "        return SturdyFrame()\n",
        "        \n",
        "class RoadFactory:\n",
        "    def add_tires(self):\n",
        "        return RoadTires()    \n",
        "    def add_frame(self):\n",
        "        return LightFrame()\n",
        "        \n",
        "class GenericTires:\n",
        "    def part_type(self):\n",
        "        return 'generic_tires'\n",
        "        \n",
        "class RuggedTires:\n",
        "    def part_type(self):\n",
        "        return 'rugged_tires'\n",
        "        \n",
        "class RoadTires:\n",
        "    def part_type(self):\n",
        "        return 'road_tires'\n",
        "        \n",
        "class GenericFrame:\n",
        "    def part_type(self):\n",
        "        return 'generic_frame'\n",
        "        \n",
        "class SturdyFrame:\n",
        "    def part_type(self):\n",
        "        return 'sturdy_frame'\n",
        "        \n",
        "class LightFrame:\n",
        "    def part_type(self):\n",
        "        return 'light_frame'\n",
        "        \n",
        "bike = Bicycle(GenericFactory)\n",
        "print(bike.tires.part_type())\n",
        "print(bike.frame.part_type())\n",
        "\n",
        "mountain_bike = Bicycle(MountainFactory)\n",
        "print(mountain_bike.tires.part_type())\n",
        "print(mountain_bike.frame.part_type())\n",
        "\n",
        "road_bike = Bicycle(RoadFactory)\n",
        "print(road_bike.tires.part_type())\n",
        "print(road_bike.frame.part_type())"
      ],
      "execution_count": 6,
      "outputs": [
        {
          "output_type": "stream",
          "text": [
            "generic_tires\n",
            "generic_frame\n",
            "rugged_tires\n",
            "sturdy_frame\n",
            "road_tires\n",
            "light_frame\n"
          ],
          "name": "stdout"
        }
      ]
    }
  ]
}