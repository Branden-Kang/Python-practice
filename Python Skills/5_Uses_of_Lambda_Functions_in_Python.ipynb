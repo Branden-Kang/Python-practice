{
  "nbformat": 4,
  "nbformat_minor": 0,
  "metadata": {
    "colab": {
      "name": "5 Uses of Lambda Functions in Python.ipynb",
      "provenance": [],
      "authorship_tag": "ABX9TyOn3a70T+GrUbLrHunzUNTA"
    },
    "kernelspec": {
      "name": "python3",
      "display_name": "Python 3"
    }
  },
  "cells": [
    {
      "cell_type": "markdown",
      "metadata": {
        "id": "7aYOeih9s95F"
      },
      "source": [
        "[Reference](https://medium.com/techtofreedom/5-uses-of-lambda-functions-in-python-97c7c1a87244)"
      ]
    },
    {
      "cell_type": "markdown",
      "metadata": {
        "id": "9Zyoq0kbtBER"
      },
      "source": [
        "# Use 1: Give It a Name and Use It As Normal"
      ]
    },
    {
      "cell_type": "code",
      "metadata": {
        "colab": {
          "base_uri": "https://localhost:8080/"
        },
        "id": "bqTuJJtas6RR",
        "outputId": "2338c2dc-4a0e-440f-9118-5752dff2dd51"
      },
      "source": [
        "lambda_add_ten = lambda x: x + 10\n",
        "print(lambda_add_ten(5))\n",
        "\n",
        "def add_ten(x):\n",
        "    return x + 10\n",
        "print(add_ten(5))"
      ],
      "execution_count": 1,
      "outputs": [
        {
          "output_type": "stream",
          "text": [
            "15\n",
            "15\n"
          ],
          "name": "stdout"
        }
      ]
    },
    {
      "cell_type": "markdown",
      "metadata": {
        "id": "Io3ZkOuotGa3"
      },
      "source": [
        "# Use 2: Cooperate With Higher Order Functions"
      ]
    },
    {
      "cell_type": "code",
      "metadata": {
        "colab": {
          "base_uri": "https://localhost:8080/"
        },
        "id": "ZHf3hCddtFeb",
        "outputId": "ce225b24-4fc1-4e97-de78-1361d346f1c2"
      },
      "source": [
        "numbers = [1, 12, 37, 43, 51, 62, 83, 43, 90, 2020]\n",
        "\n",
        "odd_number = []\n",
        "for n in numbers:\n",
        "    if n % 2 == 1:\n",
        "        odd_number.append(n)\n",
        "print(odd_number)"
      ],
      "execution_count": 2,
      "outputs": [
        {
          "output_type": "stream",
          "text": [
            "[1, 37, 43, 51, 83, 43]\n"
          ],
          "name": "stdout"
        }
      ]
    },
    {
      "cell_type": "code",
      "metadata": {
        "colab": {
          "base_uri": "https://localhost:8080/"
        },
        "id": "vfOWwhlbtJj7",
        "outputId": "c95a7ced-51e3-4202-9b7e-31e8daf2f5fe"
      },
      "source": [
        "print(list(filter(lambda x: x % 2 == 1, numbers)))"
      ],
      "execution_count": 3,
      "outputs": [
        {
          "output_type": "stream",
          "text": [
            "[1, 37, 43, 51, 83, 43]\n"
          ],
          "name": "stdout"
        }
      ]
    },
    {
      "cell_type": "markdown",
      "metadata": {
        "id": "mWc42fzrtMdF"
      },
      "source": [
        "# Use 3: Assign to the “Key” Argument"
      ]
    },
    {
      "cell_type": "code",
      "metadata": {
        "colab": {
          "base_uri": "https://localhost:8080/"
        },
        "id": "osETF0f2tLah",
        "outputId": "aa273b80-8cf8-47e0-ab26-3a28eb714771"
      },
      "source": [
        "leaders = [\"Warren Buffett\", \"Branden Kang\", \"Tim Cook\", \"Elon Musk\"]\n",
        "print(leaders)\n",
        "leaders.sort(key=lambda x: len(x))\n",
        "print(leaders)"
      ],
      "execution_count": 4,
      "outputs": [
        {
          "output_type": "stream",
          "text": [
            "['Warren Buffett', 'Branden Kang', 'Tim Cook', 'Elon Musk']\n",
            "['Tim Cook', 'Elon Musk', 'Branden Kang', 'Warren Buffett']\n"
          ],
          "name": "stdout"
        }
      ]
    },
    {
      "cell_type": "code",
      "metadata": {
        "colab": {
          "base_uri": "https://localhost:8080/"
        },
        "id": "oYMXY2DDtRsv",
        "outputId": "a28e1f10-d92d-413f-d772-a08cabede1e5"
      },
      "source": [
        "leaders = {4: \"Branden Kang\", 2: \"Elon Musk\", 3: \"Tim Cook\", 1: \"Warren Buffett\"}\n",
        "print(leaders)\n",
        "leaders = dict(sorted(leaders.items(), key=lambda x: x[0]))\n",
        "print(leaders)"
      ],
      "execution_count": 5,
      "outputs": [
        {
          "output_type": "stream",
          "text": [
            "{4: 'Branden Kang', 2: 'Elon Musk', 3: 'Tim Cook', 1: 'Warren Buffett'}\n",
            "{1: 'Warren Buffett', 2: 'Elon Musk', 3: 'Tim Cook', 4: 'Branden Kang'}\n"
          ],
          "name": "stdout"
        }
      ]
    },
    {
      "cell_type": "markdown",
      "metadata": {
        "id": "xj7ZBEgAtYrz"
      },
      "source": [
        "# Use 4: Immediately Invoke It"
      ]
    },
    {
      "cell_type": "code",
      "metadata": {
        "colab": {
          "base_uri": "https://localhost:8080/"
        },
        "id": "65CN3z33tXtx",
        "outputId": "d3bbaa0e-0dd8-479d-ba58-78c2e7bf1470"
      },
      "source": [
        "(lambda x,y:x*y)(2,3)"
      ],
      "execution_count": 6,
      "outputs": [
        {
          "output_type": "execute_result",
          "data": {
            "text/plain": [
              "6"
            ]
          },
          "metadata": {
            "tags": []
          },
          "execution_count": 6
        }
      ]
    },
    {
      "cell_type": "code",
      "metadata": {
        "colab": {
          "base_uri": "https://localhost:8080/"
        },
        "id": "bSkUm4_gtbvH",
        "outputId": "ec25b22b-96ae-4792-9390-b0f8f8516466"
      },
      "source": [
        "lambda x,y:x*y"
      ],
      "execution_count": 8,
      "outputs": [
        {
          "output_type": "execute_result",
          "data": {
            "text/plain": [
              "<function __main__.<lambda>>"
            ]
          },
          "metadata": {
            "tags": []
          },
          "execution_count": 8
        }
      ]
    },
    {
      "cell_type": "code",
      "metadata": {
        "colab": {
          "base_uri": "https://localhost:8080/"
        },
        "id": "0yff_x8fti7H",
        "outputId": "46c025e2-0d5e-46dd-d308-a6af48d4f76d"
      },
      "source": [
        "_(2,3)"
      ],
      "execution_count": 9,
      "outputs": [
        {
          "output_type": "execute_result",
          "data": {
            "text/plain": [
              "6"
            ]
          },
          "metadata": {
            "tags": []
          },
          "execution_count": 9
        }
      ]
    },
    {
      "cell_type": "markdown",
      "metadata": {
        "id": "7Fhz43VWtgwl"
      },
      "source": [
        "# Use 5: Apply It in Closures"
      ]
    },
    {
      "cell_type": "code",
      "metadata": {
        "colab": {
          "base_uri": "https://localhost:8080/"
        },
        "id": "B5ESgSjVtf0i",
        "outputId": "46fa54e3-07d8-47e9-836b-e51a8f659034"
      },
      "source": [
        "def outer_func():\n",
        "    leader = \"Branden Kang\"\n",
        "    def print_leader(location=\"\"):\n",
        "        return leader + \" in the \" + location\n",
        "    return print_leader\n",
        "\n",
        "Lead = outer_func()(\"UK\")\n",
        "print(Lead)"
      ],
      "execution_count": 10,
      "outputs": [
        {
          "output_type": "stream",
          "text": [
            "Branden Kang in the UK\n"
          ],
          "name": "stdout"
        }
      ]
    },
    {
      "cell_type": "code",
      "metadata": {
        "colab": {
          "base_uri": "https://localhost:8080/"
        },
        "id": "oTfg0WNhtxIm",
        "outputId": "b197c1aa-7cab-4160-f6a6-7f78d1b0aa2b"
      },
      "source": [
        "def outer_func():\n",
        "    leader = \"Branden Kang\"\n",
        "    return lambda location=\"\": leader + \" in the \" + location\n",
        "\n",
        "Lead = outer_func()(\"UK\")\n",
        "print(Lead)"
      ],
      "execution_count": 11,
      "outputs": [
        {
          "output_type": "stream",
          "text": [
            "Branden Kang in the UK\n"
          ],
          "name": "stdout"
        }
      ]
    }
  ]
}