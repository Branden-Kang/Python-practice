{
  "nbformat": 4,
  "nbformat_minor": 0,
  "metadata": {
    "colab": {
      "provenance": [],
      "authorship_tag": "ABX9TyPLeyyxKLOg/O9+EOuytJa2"
    },
    "kernelspec": {
      "name": "python3",
      "display_name": "Python 3"
    },
    "language_info": {
      "name": "python"
    }
  },
  "cells": [
    {
      "cell_type": "markdown",
      "source": [
        "[Reference](https://medium.com/@lorenzouriel/maintaining-a-python-project-40d6558128f1)"
      ],
      "metadata": {
        "id": "MpOszsrfboDI"
      }
    },
    {
      "cell_type": "markdown",
      "source": [
        "# 1. requirements.txt\n",
        "```\n",
        "pip freeze > requirements.txt\n",
        "\n",
        "pip install -r requirements.txt\n",
        "```"
      ],
      "metadata": {
        "id": "F4sz2cSHbqpI"
      }
    },
    {
      "cell_type": "markdown",
      "source": [
        "# 2. Update Your README.md and MkDocs\n",
        "```\n",
        "pip install mkdocs\n",
        "\n",
        "# or\n",
        "\n",
        "poetry add mkdocs\n",
        "```\n",
        "\n",
        "```\n",
        "mkdocs new project-docs\n",
        "```\n",
        "\n",
        "```\n",
        "cd project-docs\n",
        "mkdocs serve\n",
        "```\n",
        "\n",
        "```\n",
        "mkdocs gh-deploy\n",
        "```"
      ],
      "metadata": {
        "id": "uMec6QsKbu-F"
      }
    },
    {
      "cell_type": "markdown",
      "source": [
        "# 3. Pre-commit\n",
        "```\n",
        "pip install pre-commit\n",
        "```\n",
        "\n",
        "```\n",
        "# .pre-commit-config.yaml\n",
        "repos:\n",
        "  - repo: https://github.com/pre-commit/pre-commit-hooks\n",
        "    rev: v4.4.0\n",
        "    hooks:\n",
        "      - id: check-yaml # check-yaml: Ensures your YAML files are valid.\n",
        "      - id: end-of-file-fixer # end-of-file-fixer: Ensures there’s exactly one newline at the end of files.\n",
        "      - id: trailing-whitespace # trailing-whitespace: Removes trailing whitespace from files.\n",
        "      - id: debug-statements # debug-statements: Warns about leftover print() or pdb statements.\n",
        "  - repo: https://github.com/psf/black\n",
        "    rev: 23.9.1\n",
        "    hooks:\n",
        "      - id: black # black: Formats your Python code according to the Black code style.\n",
        "        language_version: python3\n",
        "```\n",
        "\n",
        "```\n",
        "pre-commit install\n",
        "```\n",
        "\n",
        "```\n",
        "pre-commit run --all-files\n",
        "```"
      ],
      "metadata": {
        "id": "f2f4urddb3tM"
      }
    },
    {
      "cell_type": "markdown",
      "source": [
        "# 4. Docker\n",
        "\n",
        "```\n",
        "# Use the official Python image as the base image\n",
        "FROM python:3.12-slim\n",
        "\n",
        "# Set the working directory inside the container\n",
        "WORKDIR /app\n",
        "\n",
        "# Copy the requirements file and install dependencies\n",
        "COPY requirements.txt .\n",
        "RUN pip install --no-cache-dir -r requirements.txt\n",
        "\n",
        "# Copy the application code into the container\n",
        "COPY src/ ./src/\n",
        "\n",
        "# Expose the port the app runs on\n",
        "EXPOSE 5000\n",
        "\n",
        "# Set the default command to run the application\n",
        "CMD [\"gunicorn\", \"--bind\", \"0.0.0.0:5000\", \"src.app:app\"]\n",
        "```\n",
        "\n",
        "```\n",
        "docker build -t api .\n",
        "```\n",
        "\n",
        "```\n",
        "docker run -p 5000:5000 --env-file .env api\n",
        "```"
      ],
      "metadata": {
        "id": "GZnQ1q2vcE3o"
      }
    },
    {
      "cell_type": "markdown",
      "source": [
        "# 5. Test-Driven Development (TDD)\n",
        "\n",
        "```\n",
        "pip install pytest\n",
        "\n",
        "# or\n",
        "\n",
        "poetry add pytest\n",
        "```\n",
        "\n",
        "```\n",
        "import sys\n",
        "import os\n",
        "import pytest\n",
        "\n",
        "# Add the 'src' directory to the Python path\n",
        "sys.path.insert(0, os.path.abspath(os.path.join(os.path.dirname(__file__), '../src')))\n",
        "\n",
        "from app import app\n",
        "\n",
        "@pytest.fixture\n",
        "def client():\n",
        "    app.config['TESTING'] = True\n",
        "    with app.test_client() as client:\n",
        "        yield client\n",
        "\n",
        "def test_api_is_up(client):\n",
        "    # Send a GET request to the root endpoint\n",
        "    response = client.get('/')\n",
        "\n",
        "    # Assert that the response status code is 200 (OK)\n",
        "    assert response.status_code == 200\n",
        "```\n",
        "\n",
        "```\n",
        "pytest\n",
        "```"
      ],
      "metadata": {
        "id": "2Yz59egNcMwU"
      }
    },
    {
      "cell_type": "markdown",
      "source": [
        "# 6. CI/CD\n",
        "\n",
        "```\n",
        "# .github/workflows/pipeline.yml:\n",
        "name: Python Only CI  \n",
        "\n",
        "on:\n",
        "  push:\n",
        "    branches:\n",
        "      - main\n",
        "  pull_request:\n",
        "    branches:\n",
        "      - main  \n",
        "\n",
        "jobs:  \n",
        "  build:  \n",
        "    runs-on: ubuntu-latest  \n",
        "\n",
        "    steps:  \n",
        "    - uses: actions/checkout@v3  \n",
        "\n",
        "    - name: Set up Python  \n",
        "      uses: actions/setup-python@v4  \n",
        "      with:  \n",
        "        python-version: '3.12'  \n",
        "\n",
        "    - name: Install dependencies  \n",
        "      run: pip install -r requirements.txt  \n",
        "\n",
        "    - name: Run tests  \n",
        "      run: pytest   \n",
        "```"
      ],
      "metadata": {
        "id": "djqVu2hocT0A"
      }
    }
  ]
}
