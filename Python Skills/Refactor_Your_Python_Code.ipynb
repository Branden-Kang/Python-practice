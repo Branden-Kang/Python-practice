{
  "nbformat": 4,
  "nbformat_minor": 0,
  "metadata": {
    "colab": {
      "name": "Refactor Your Python Code.ipynb",
      "provenance": [],
      "authorship_tag": "ABX9TyNg4YIwVDha7lQ6anSYw8dI"
    },
    "kernelspec": {
      "name": "python3",
      "display_name": "Python 3"
    }
  },
  "cells": [
    {
      "cell_type": "markdown",
      "metadata": {
        "id": "U7D04QLw5M3G"
      },
      "source": [
        "[Reference](https://medium.com/code-85/4-simple-ways-to-refactor-your-python-code-2f491b767381)"
      ]
    },
    {
      "cell_type": "markdown",
      "metadata": {
        "id": "Rj1jWbaM5i1h"
      },
      "source": [
        "# Define Functions"
      ]
    },
    {
      "cell_type": "code",
      "metadata": {
        "colab": {
          "base_uri": "https://localhost:8080/"
        },
        "id": "MezVo5cb5LvI",
        "outputId": "3b59a41b-2c22-4a49-d336-1c2dcbb4806e"
      },
      "source": [
        "while True:\n",
        "  length = int(input(\"Enter the length: \"))\n",
        "  if length > 0:\n",
        "    break\n",
        "\n",
        "while True:\n",
        "  width = int(input(\"Enter the width: \"))\n",
        "  if length > 0:\n",
        "    break\n",
        "    \n",
        "print(\"The area is\", length * width)"
      ],
      "execution_count": 1,
      "outputs": [
        {
          "output_type": "stream",
          "text": [
            "Enter the length: 3\n",
            "Enter the width: 2\n",
            "The area is 6\n"
          ],
          "name": "stdout"
        }
      ]
    },
    {
      "cell_type": "code",
      "metadata": {
        "colab": {
          "base_uri": "https://localhost:8080/"
        },
        "id": "hYSM3BV15SHb",
        "outputId": "0a6da6d7-bc0b-4f1f-9cff-e000bf114674"
      },
      "source": [
        "def input_positive_integer(prompt):\n",
        "  while True:\n",
        "    input_value = int(input(prompt))\n",
        "    if input_value > 0:\n",
        "      return input_value\n",
        "      \n",
        "length = input_positive_integer(\"Enter the length: \")\n",
        "width = input_positive_integer(\"Enter the width: \")\n",
        "print(\"The area is\", length * width)"
      ],
      "execution_count": 2,
      "outputs": [
        {
          "output_type": "stream",
          "text": [
            "Enter the length: 3\n",
            "Enter the width: 2\n",
            "The area is 6\n"
          ],
          "name": "stdout"
        }
      ]
    },
    {
      "cell_type": "markdown",
      "metadata": {
        "id": "0_onjdRz5hBG"
      },
      "source": [
        "# List Comprehensions "
      ]
    },
    {
      "cell_type": "code",
      "metadata": {
        "colab": {
          "base_uri": "https://localhost:8080/"
        },
        "id": "rYfcE6gN5XHu",
        "outputId": "952dd0ff-c2af-47df-e980-4cecb0e201c5"
      },
      "source": [
        "my_numbers = [1,2,3,4,5]\n",
        "odd_numbers = []\n",
        "for item in my_numbers:\n",
        "  if item % 2 == 1:\n",
        "    odd_numbers.append(item)\n",
        "    \n",
        "print(odd_numbers) # [1, 3, 5]"
      ],
      "execution_count": 3,
      "outputs": [
        {
          "output_type": "stream",
          "text": [
            "[1, 3, 5]\n"
          ],
          "name": "stdout"
        }
      ]
    },
    {
      "cell_type": "code",
      "metadata": {
        "id": "JF3QdreK5nGJ"
      },
      "source": [
        "my_numbers = [1,2,3,4,5]\n",
        "odd_numbers = [item for item in my_numbers if item % 2 == 1]"
      ],
      "execution_count": 4,
      "outputs": []
    },
    {
      "cell_type": "code",
      "metadata": {
        "colab": {
          "base_uri": "https://localhost:8080/"
        },
        "id": "O9rCnoXO5oTd",
        "outputId": "bdd1ce25-4ef8-4986-9dd3-53efa0932abd"
      },
      "source": [
        "matrix = [[1,2,3],[4,5,6],[7,8,9]]\n",
        "squared_matrix = []\n",
        "\n",
        "for row in matrix:\n",
        "  line = []\n",
        "  for item in row:\n",
        "    line.append(item ** 2)\n",
        "  squared_matrix.append(line)\n",
        "print(squared_matrix)\n",
        "# [[1, 4, 9], [16, 25, 36], [49, 64, 81]]"
      ],
      "execution_count": 7,
      "outputs": [
        {
          "output_type": "stream",
          "text": [
            "[[1, 4, 9], [16, 25, 36], [49, 64, 81]]\n"
          ],
          "name": "stdout"
        }
      ]
    },
    {
      "cell_type": "code",
      "metadata": {
        "colab": {
          "base_uri": "https://localhost:8080/"
        },
        "id": "VwlBVnqV5qI_",
        "outputId": "bacdafa7-55e5-4f01-a34c-6a142eae5f1b"
      },
      "source": [
        "matrix = [[1,2,3],[4,5,6],[7,8,9]]\n",
        "squared_matrix = [\n",
        "  [\n",
        "    item ** 2\n",
        "    for item in row\n",
        "  ]\n",
        "  for row in matrix\n",
        "]\n",
        "print(squared_matrix)"
      ],
      "execution_count": 8,
      "outputs": [
        {
          "output_type": "stream",
          "text": [
            "[[1, 4, 9], [16, 25, 36], [49, 64, 81]]\n"
          ],
          "name": "stdout"
        }
      ]
    },
    {
      "cell_type": "markdown",
      "metadata": {
        "id": "uFnka75B5xXk"
      },
      "source": [
        "# Logical OR Operator"
      ]
    },
    {
      "cell_type": "code",
      "metadata": {
        "id": "hkj5AvyW5vgB"
      },
      "source": [
        "website = args['website'] if args['website'] else \"https://medium.com/branden\""
      ],
      "execution_count": 11,
      "outputs": []
    },
    {
      "cell_type": "code",
      "metadata": {
        "id": "LWBvBX1C5y4c"
      },
      "source": [
        "website = args['website'] or \"https://medium.com/branden\""
      ],
      "execution_count": 12,
      "outputs": []
    },
    {
      "cell_type": "markdown",
      "metadata": {
        "id": "Konca6Cc59jH"
      },
      "source": [
        "# enumerate() "
      ]
    },
    {
      "cell_type": "code",
      "metadata": {
        "colab": {
          "base_uri": "https://localhost:8080/"
        },
        "id": "kI6GKOxr57tx",
        "outputId": "439027ba-e824-4ef0-825b-bef7213587b4"
      },
      "source": [
        "races = [\"Terran\", \"Protoss\", \"Zerg\"]\n",
        "for i in range(len(races)):\n",
        "  print(i+1, races[i])"
      ],
      "execution_count": 13,
      "outputs": [
        {
          "output_type": "stream",
          "text": [
            "1 Terran\n",
            "2 Protoss\n",
            "3 Zerg\n"
          ],
          "name": "stdout"
        }
      ]
    },
    {
      "cell_type": "code",
      "metadata": {
        "colab": {
          "base_uri": "https://localhost:8080/"
        },
        "id": "T7lk9PoY5_eT",
        "outputId": "22f7a1ee-b396-498f-a445-61f42c1bbe1d"
      },
      "source": [
        "races = [\"Terran\", \"Protoss\", \"Zerg\"]\n",
        "for i, race in enumerate(races, 1):\n",
        "  print(i, race)"
      ],
      "execution_count": 16,
      "outputs": [
        {
          "output_type": "stream",
          "text": [
            "1 Terran\n",
            "2 Protoss\n",
            "3 Zerg\n"
          ],
          "name": "stdout"
        }
      ]
    }
  ]
}