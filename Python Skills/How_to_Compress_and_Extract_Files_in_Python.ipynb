{
  "nbformat": 4,
  "nbformat_minor": 0,
  "metadata": {
    "colab": {
      "provenance": [],
      "authorship_tag": "ABX9TyNB6WK/7WQglU+hOldNM//v"
    },
    "kernelspec": {
      "name": "python3",
      "display_name": "Python 3"
    },
    "language_info": {
      "name": "python"
    }
  },
  "cells": [
    {
      "cell_type": "markdown",
      "source": [
        "[Reference](https://medium.com/@aliyannshaikhh/a283d3789a74)"
      ],
      "metadata": {
        "id": "Xuf8vRSHKHI0"
      }
    },
    {
      "cell_type": "markdown",
      "source": [
        "# Compressing a File to a ZIP Archive"
      ],
      "metadata": {
        "id": "sRg7BqANKKVU"
      }
    },
    {
      "cell_type": "code",
      "execution_count": 1,
      "metadata": {
        "id": "lenn7WPUKAyD"
      },
      "outputs": [],
      "source": [
        "import zipfile\n",
        "\n",
        "# Name of the file you want to compress\n",
        "file_to_compress = 'report.txt'\n",
        "\n",
        "# Name of the ZIP file you want to create\n",
        "zip_file_name = 'archive.zip'\n",
        "\n",
        "# Creating a ZIP file and adding the file to it\n",
        "with zipfile.ZipFile(zip_file_name, 'w') as zipf:\n",
        "  zipf.write(file_to_compress)\n",
        "\n",
        "print(f\"{file_to_compress} has been compressed into {zip_file_name}\")"
      ]
    },
    {
      "cell_type": "markdown",
      "source": [
        "# Extracting a File from a ZIP Archive"
      ],
      "metadata": {
        "id": "exavnD_FKMkW"
      }
    },
    {
      "cell_type": "code",
      "source": [
        "import zipfile\n",
        "\n",
        "# Name of the ZIP file to extract\n",
        "zip_file_name = 'archive.zip'\n",
        "\n",
        "# Folder where files will be extracted\n",
        "extract_to_folder = 'extracted_files'\n",
        "\n",
        "# Extracting the contents\n",
        "with zipfile.ZipFile(zip_file_name, 'r') as zipf:\n",
        "  zipf.extractall(extract_to_folder)\n",
        "\n",
        "print(f\"Files have been extracted to {extract_to_folder}\")"
      ],
      "metadata": {
        "id": "jKHg6xCnKLLg"
      },
      "execution_count": 2,
      "outputs": []
    }
  ]
}
