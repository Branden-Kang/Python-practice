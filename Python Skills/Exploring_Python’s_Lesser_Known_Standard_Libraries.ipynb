{
  "nbformat": 4,
  "nbformat_minor": 0,
  "metadata": {
    "colab": {
      "provenance": [],
      "authorship_tag": "ABX9TyPwyAXxd/LpZIsNB2TU8GUz"
    },
    "kernelspec": {
      "name": "python3",
      "display_name": "Python 3"
    },
    "language_info": {
      "name": "python"
    }
  },
  "cells": [
    {
      "cell_type": "markdown",
      "source": [
        "[Reference](https://medium.com/@ramanbazhanau/exploring-pythons-lesser-known-standard-libraries-670c509bf062)"
      ],
      "metadata": {
        "id": "Ye9e1x_DFaLS"
      }
    },
    {
      "cell_type": "markdown",
      "source": [
        "# namedtuple"
      ],
      "metadata": {
        "id": "enFwuYzXFdsE"
      }
    },
    {
      "cell_type": "code",
      "execution_count": 1,
      "metadata": {
        "colab": {
          "base_uri": "https://localhost:8080/"
        },
        "id": "7riQjyiWFVkk",
        "outputId": "3df3b68a-6d94-4689-a817-0ff1b1a78393"
      },
      "outputs": [
        {
          "output_type": "stream",
          "name": "stdout",
          "text": [
            "John Doe\n"
          ]
        }
      ],
      "source": [
        "from collections import namedtuple\n",
        "\n",
        "# Define a namedtuple\n",
        "Person = namedtuple('Person', ['name', 'age', 'gender'])\n",
        "\n",
        "# Create an instance\n",
        "john = Person(name='John Doe', age=30, gender='Male')\n",
        "\n",
        "print(john.name)  # Output: John Doe"
      ]
    },
    {
      "cell_type": "markdown",
      "source": [
        "# deque"
      ],
      "metadata": {
        "id": "JN7KOyf5FhBl"
      }
    },
    {
      "cell_type": "code",
      "source": [
        "from collections import deque\n",
        "\n",
        "d = deque('ghi')\n",
        "d.append('j')        # add to the right\n",
        "d.appendleft('f')    # add to the left\n",
        "d.pop()              # remove from the right\n",
        "d.popleft()          # remove from the left"
      ],
      "metadata": {
        "colab": {
          "base_uri": "https://localhost:8080/",
          "height": 35
        },
        "id": "rRUpJkqOFfJR",
        "outputId": "b61399bc-4332-45d9-ed8e-8ef1ed0598bf"
      },
      "execution_count": 2,
      "outputs": [
        {
          "output_type": "execute_result",
          "data": {
            "text/plain": [
              "'f'"
            ],
            "application/vnd.google.colaboratory.intrinsic+json": {
              "type": "string"
            }
          },
          "metadata": {},
          "execution_count": 2
        }
      ]
    },
    {
      "cell_type": "markdown",
      "source": [
        "# Counter"
      ],
      "metadata": {
        "id": "O_qK0o6TFjoh"
      }
    },
    {
      "cell_type": "code",
      "source": [
        "from collections import Counter\n",
        "\n",
        "c = Counter('abracadabra')\n",
        "print(c)"
      ],
      "metadata": {
        "colab": {
          "base_uri": "https://localhost:8080/"
        },
        "id": "qCDLB6kbFibJ",
        "outputId": "7236d887-8c02-42ca-d576-6db45ad5dde8"
      },
      "execution_count": 3,
      "outputs": [
        {
          "output_type": "stream",
          "name": "stdout",
          "text": [
            "Counter({'a': 5, 'b': 2, 'r': 2, 'c': 1, 'd': 1})\n"
          ]
        }
      ]
    },
    {
      "cell_type": "markdown",
      "source": [
        "# OrderedDict"
      ],
      "metadata": {
        "id": "rl-5x2DoFmgw"
      }
    },
    {
      "cell_type": "code",
      "source": [
        "from collections import OrderedDict\n",
        "\n",
        "od = OrderedDict()\n",
        "od['a'] = 1\n",
        "od['b'] = 2\n",
        "od['c'] = 3\n",
        "print(od)"
      ],
      "metadata": {
        "colab": {
          "base_uri": "https://localhost:8080/"
        },
        "id": "iEWxXrqzFlPJ",
        "outputId": "284f71f2-e504-467a-f9ef-6c69225e2f40"
      },
      "execution_count": 4,
      "outputs": [
        {
          "output_type": "stream",
          "name": "stdout",
          "text": [
            "OrderedDict([('a', 1), ('b', 2), ('c', 3)])\n"
          ]
        }
      ]
    },
    {
      "cell_type": "markdown",
      "source": [
        "# defaultdict"
      ],
      "metadata": {
        "id": "p4ah9kwNFptF"
      }
    },
    {
      "cell_type": "code",
      "source": [
        "from collections import defaultdict\n",
        "\n",
        "dd = defaultdict(int)\n",
        "dd['key_not_exist'] += 1\n",
        "print(dd)"
      ],
      "metadata": {
        "colab": {
          "base_uri": "https://localhost:8080/"
        },
        "id": "ZG3eARfUFoJk",
        "outputId": "767d8447-82a0-487e-9c6d-31f9da6ac6fd"
      },
      "execution_count": 5,
      "outputs": [
        {
          "output_type": "stream",
          "name": "stdout",
          "text": [
            "defaultdict(<class 'int'>, {'key_not_exist': 1})\n"
          ]
        }
      ]
    },
    {
      "cell_type": "markdown",
      "source": [
        "# ChainMap"
      ],
      "metadata": {
        "id": "6hHPsMonFs1z"
      }
    },
    {
      "cell_type": "code",
      "source": [
        "from collections import ChainMap\n",
        "\n",
        "dict1 = {'a': 1, 'b': 2}\n",
        "dict2 = {'b': 3, 'c': 4}\n",
        "combined = ChainMap(dict1, dict2)\n",
        "print(combined['b'])"
      ],
      "metadata": {
        "colab": {
          "base_uri": "https://localhost:8080/"
        },
        "id": "5czwkrAXFr6_",
        "outputId": "aee366cd-41a9-498f-99aa-71b617b5568f"
      },
      "execution_count": 6,
      "outputs": [
        {
          "output_type": "stream",
          "name": "stdout",
          "text": [
            "2\n"
          ]
        }
      ]
    },
    {
      "cell_type": "markdown",
      "source": [
        "# count"
      ],
      "metadata": {
        "id": "yB7AfruvFwwq"
      }
    },
    {
      "cell_type": "code",
      "source": [
        "from itertools import count\n",
        "\n",
        "for i in count(10):\n",
        "    if i > 15:\n",
        "        break\n",
        "    print(i)"
      ],
      "metadata": {
        "colab": {
          "base_uri": "https://localhost:8080/"
        },
        "id": "DY3nzslUFuJb",
        "outputId": "50a25d2f-4ec0-4da6-dfbb-3166ad5c42a6"
      },
      "execution_count": 7,
      "outputs": [
        {
          "output_type": "stream",
          "name": "stdout",
          "text": [
            "10\n",
            "11\n",
            "12\n",
            "13\n",
            "14\n",
            "15\n"
          ]
        }
      ]
    },
    {
      "cell_type": "markdown",
      "source": [
        "# cycle"
      ],
      "metadata": {
        "id": "LrJSKNpWFzZU"
      }
    },
    {
      "cell_type": "code",
      "source": [
        "from itertools import cycle\n",
        "\n",
        "counter = 0\n",
        "for item in cycle('ABC'):\n",
        "    if counter > 5:\n",
        "        break\n",
        "    print(item)\n",
        "    counter += 1"
      ],
      "metadata": {
        "colab": {
          "base_uri": "https://localhost:8080/"
        },
        "id": "szwQZhHmFyJK",
        "outputId": "1f9fb1a0-1274-49dc-99ad-7eb6cf8a24ef"
      },
      "execution_count": 8,
      "outputs": [
        {
          "output_type": "stream",
          "name": "stdout",
          "text": [
            "A\n",
            "B\n",
            "C\n",
            "A\n",
            "B\n",
            "C\n"
          ]
        }
      ]
    },
    {
      "cell_type": "markdown",
      "source": [
        "# repeat"
      ],
      "metadata": {
        "id": "FZpCRLCVF14a"
      }
    },
    {
      "cell_type": "code",
      "source": [
        "from itertools import repeat\n",
        "\n",
        "for _ in repeat('A', 3):\n",
        "    print(_)"
      ],
      "metadata": {
        "colab": {
          "base_uri": "https://localhost:8080/"
        },
        "id": "zMssovY4F0pG",
        "outputId": "6937a114-2b0d-4425-947d-6793acb6075f"
      },
      "execution_count": 9,
      "outputs": [
        {
          "output_type": "stream",
          "name": "stdout",
          "text": [
            "A\n",
            "A\n",
            "A\n"
          ]
        }
      ]
    },
    {
      "cell_type": "markdown",
      "source": [
        "# chain"
      ],
      "metadata": {
        "id": "KjRLZlzGF4R_"
      }
    },
    {
      "cell_type": "code",
      "source": [
        "from itertools import chain\n",
        "\n",
        "for char in chain('ABC', 'DEF'):\n",
        "    print(char)"
      ],
      "metadata": {
        "colab": {
          "base_uri": "https://localhost:8080/"
        },
        "id": "QZm3f-MuF3Hs",
        "outputId": "29a9b839-b4b9-43a9-a0d1-b513f415cc4b"
      },
      "execution_count": 10,
      "outputs": [
        {
          "output_type": "stream",
          "name": "stdout",
          "text": [
            "A\n",
            "B\n",
            "C\n",
            "D\n",
            "E\n",
            "F\n"
          ]
        }
      ]
    },
    {
      "cell_type": "code",
      "source": [
        "from itertools import chain\n",
        "\n",
        "chained = chain('ABC', 'DEF')  # itertools.chain object\n",
        "print(*chained)"
      ],
      "metadata": {
        "colab": {
          "base_uri": "https://localhost:8080/"
        },
        "id": "VzRpiKvUF5jK",
        "outputId": "2209ecb8-cdcf-451c-82cb-1f0b1c2611b3"
      },
      "execution_count": 11,
      "outputs": [
        {
          "output_type": "stream",
          "name": "stdout",
          "text": [
            "A B C D E F\n"
          ]
        }
      ]
    },
    {
      "cell_type": "markdown",
      "source": [
        "# compress"
      ],
      "metadata": {
        "id": "OQ_feFpYGBPT"
      }
    },
    {
      "cell_type": "code",
      "source": [
        "from itertools import compress\n",
        "\n",
        "data = ['A', 'B', 'C', 'D']\n",
        "selectors = [True, False, True, False]\n",
        "\n",
        "result = list(compress(data, selectors))\n",
        "print(result)"
      ],
      "metadata": {
        "colab": {
          "base_uri": "https://localhost:8080/"
        },
        "id": "t5a1b2l_F7kh",
        "outputId": "6f17236d-c6ca-4e9a-ef0f-104e0df39c60"
      },
      "execution_count": 12,
      "outputs": [
        {
          "output_type": "stream",
          "name": "stdout",
          "text": [
            "['A', 'C']\n"
          ]
        }
      ]
    },
    {
      "cell_type": "markdown",
      "source": [
        "# dropwhile"
      ],
      "metadata": {
        "id": "4pLugLJfGA4r"
      }
    },
    {
      "cell_type": "code",
      "source": [
        "from itertools import dropwhile\n",
        "\n",
        "for item in dropwhile(lambda x: x < 5, [1, 4, 6, 4, 1]):\n",
        "    print(item)"
      ],
      "metadata": {
        "colab": {
          "base_uri": "https://localhost:8080/"
        },
        "id": "ge3HHpqWF_UR",
        "outputId": "49bd6152-9bc7-495d-8d40-2ee6d311531a"
      },
      "execution_count": 13,
      "outputs": [
        {
          "output_type": "stream",
          "name": "stdout",
          "text": [
            "6\n",
            "4\n",
            "1\n"
          ]
        }
      ]
    },
    {
      "cell_type": "markdown",
      "source": [
        "# takewhile"
      ],
      "metadata": {
        "id": "VS-2pOnpGFB8"
      }
    },
    {
      "cell_type": "code",
      "source": [
        "from itertools import takewhile\n",
        "\n",
        "for item in takewhile(lambda x: x < 5, [1, 4, 6, 4, 1]):\n",
        "    print(item)"
      ],
      "metadata": {
        "colab": {
          "base_uri": "https://localhost:8080/"
        },
        "id": "XcZtMn_IGD04",
        "outputId": "945df5ef-6444-4ea6-a4f9-458f334a1cb5"
      },
      "execution_count": 14,
      "outputs": [
        {
          "output_type": "stream",
          "name": "stdout",
          "text": [
            "1\n",
            "4\n"
          ]
        }
      ]
    },
    {
      "cell_type": "markdown",
      "source": [
        "# permutations"
      ],
      "metadata": {
        "id": "iXFIvucyGH32"
      }
    },
    {
      "cell_type": "code",
      "source": [
        "from itertools import permutations\n",
        "\n",
        "for p in permutations('AB'):\n",
        "    print(p)"
      ],
      "metadata": {
        "colab": {
          "base_uri": "https://localhost:8080/"
        },
        "id": "_J9MXn28GGQF",
        "outputId": "211d563c-5022-42a3-d95f-4ef8575790df"
      },
      "execution_count": 15,
      "outputs": [
        {
          "output_type": "stream",
          "name": "stdout",
          "text": [
            "('A', 'B')\n",
            "('B', 'A')\n"
          ]
        }
      ]
    },
    {
      "cell_type": "markdown",
      "source": [
        "# combinations"
      ],
      "metadata": {
        "id": "9GftmTbXGKtH"
      }
    },
    {
      "cell_type": "code",
      "source": [
        "from itertools import combinations\n",
        "\n",
        "for combo in combinations('ABC', 2):\n",
        "    print(combo)"
      ],
      "metadata": {
        "colab": {
          "base_uri": "https://localhost:8080/"
        },
        "id": "lwKz2fvRGJeF",
        "outputId": "17549dc4-8ed1-43ed-96cd-37944d19a413"
      },
      "execution_count": 16,
      "outputs": [
        {
          "output_type": "stream",
          "name": "stdout",
          "text": [
            "('A', 'B')\n",
            "('A', 'C')\n",
            "('B', 'C')\n"
          ]
        }
      ]
    },
    {
      "cell_type": "markdown",
      "source": [
        "# lru_cache"
      ],
      "metadata": {
        "id": "200jxVl5GM9x"
      }
    },
    {
      "cell_type": "code",
      "source": [
        "from functools import lru_cache\n",
        "\n",
        "@lru_cache(maxsize=None)\n",
        "def fib(n):\n",
        "    if n < 2:\n",
        "        return n\n",
        "    return fib(n-1) + fib(n-2)"
      ],
      "metadata": {
        "id": "S7EBljPFGLrK"
      },
      "execution_count": 17,
      "outputs": []
    },
    {
      "cell_type": "markdown",
      "source": [
        "# cache"
      ],
      "metadata": {
        "id": "wwk-NZ7tGPsy"
      }
    },
    {
      "cell_type": "code",
      "source": [
        "from functools import cache\n",
        "\n",
        "\n",
        "@cache\n",
        "def factorial(n):\n",
        "    return n * factorial(n-1) if n else 1"
      ],
      "metadata": {
        "id": "nI5lTCCCGODT"
      },
      "execution_count": 18,
      "outputs": []
    },
    {
      "cell_type": "markdown",
      "source": [
        "# cached_property"
      ],
      "metadata": {
        "id": "zPLi3XTOGSZM"
      }
    },
    {
      "cell_type": "code",
      "source": [
        "from functools import cached_property\n",
        "\n",
        "\n",
        "class Circle:\n",
        "    def __init__(self, radius):\n",
        "        self.radius = radius\n",
        "\n",
        "    @cached_property\n",
        "    def area(self):\n",
        "        print(\"Calculating area...\")\n",
        "        return 3.14159 * self.radius ** 2"
      ],
      "metadata": {
        "id": "8lMm7XkuGRLD"
      },
      "execution_count": 19,
      "outputs": []
    },
    {
      "cell_type": "markdown",
      "source": [
        "# partial"
      ],
      "metadata": {
        "id": "GwDBgZ3AGVMt"
      }
    },
    {
      "cell_type": "code",
      "source": [
        "from functools import partial\n",
        "\n",
        "def multiply(x, y):\n",
        "    return x * y\n",
        "\n",
        "double = partial(multiply, 2)\n",
        "print(double(4))"
      ],
      "metadata": {
        "colab": {
          "base_uri": "https://localhost:8080/"
        },
        "id": "B0mE_UbUGUEJ",
        "outputId": "7975e984-bd8b-4130-995a-cfa1f004457a"
      },
      "execution_count": 20,
      "outputs": [
        {
          "output_type": "stream",
          "name": "stdout",
          "text": [
            "8\n"
          ]
        }
      ]
    },
    {
      "cell_type": "markdown",
      "source": [
        "# reduce"
      ],
      "metadata": {
        "id": "BisH2ldPGYfA"
      }
    },
    {
      "cell_type": "code",
      "source": [
        "from functools import reduce\n",
        "\n",
        "def add(x, y):\n",
        "    return x + y\n",
        "\n",
        "result = reduce(add, [1, 2, 3, 4, 5])\n",
        "print(result)"
      ],
      "metadata": {
        "colab": {
          "base_uri": "https://localhost:8080/"
        },
        "id": "t9VDNEahGWtY",
        "outputId": "0cb085f3-c8da-46cb-889e-50d246a8e7e4"
      },
      "execution_count": 21,
      "outputs": [
        {
          "output_type": "stream",
          "name": "stdout",
          "text": [
            "15\n"
          ]
        }
      ]
    },
    {
      "cell_type": "markdown",
      "source": [
        "# wraps"
      ],
      "metadata": {
        "id": "e8Pal5ZeGlWn"
      }
    },
    {
      "cell_type": "code",
      "source": [
        "from functools import wraps\n",
        "\n",
        "def my_decorator(f):\n",
        "    @wraps(f)\n",
        "    def wrapper(*args, **kwargs):\n",
        "        print(\"Before calling the function\")\n",
        "        result = f(*args, **kwargs)\n",
        "        print(\"After calling the function\")\n",
        "        return result\n",
        "    return wrapper\n",
        "\n",
        "@my_decorator\n",
        "def say_hello(name):\n",
        "    \"\"\"Greet someone.\"\"\"\n",
        "    print(f\"Hello, {name}!\")\n",
        "\n",
        "print(say_hello.__name__)\n",
        "print(say_hello.__doc__)"
      ],
      "metadata": {
        "colab": {
          "base_uri": "https://localhost:8080/"
        },
        "id": "e48p8Hc_GcAm",
        "outputId": "4f5b50b5-8dc3-45d8-c8dc-2800cbe8c835"
      },
      "execution_count": 22,
      "outputs": [
        {
          "output_type": "stream",
          "name": "stdout",
          "text": [
            "say_hello\n",
            "Greet someone.\n"
          ]
        }
      ]
    },
    {
      "cell_type": "markdown",
      "source": [
        "# singledispatch"
      ],
      "metadata": {
        "id": "JQXbi21_GqoM"
      }
    },
    {
      "cell_type": "code",
      "source": [
        "from functools import singledispatch\n",
        "\n",
        "@singledispatch\n",
        "def fun(arg, verbose=False):\n",
        "    if verbose:\n",
        "        print(\"Let me just say,\", end=\" \")\n",
        "    print(arg)\n",
        "\n",
        "@fun.register(int)\n",
        "def _(arg, verbose=False):\n",
        "    if verbose:\n",
        "        print(\"Strength in numbers, eh?\", end=\" \")\n",
        "    print(arg)\n",
        "\n",
        "@fun.register(list)\n",
        "def _(arg, verbose=False):\n",
        "    if verbose:\n",
        "        print(\"Enumerate this:\")\n",
        "    for i, elem in enumerate(arg):\n",
        "        print(i, elem)\n",
        "\n",
        "fun(\"Hello, world!\")\n",
        "fun([1, 2, 3], verbose=True)"
      ],
      "metadata": {
        "colab": {
          "base_uri": "https://localhost:8080/"
        },
        "id": "PRtwJ0plGpPQ",
        "outputId": "17869ab9-b554-4645-8bbc-428903aa4b5d"
      },
      "execution_count": 23,
      "outputs": [
        {
          "output_type": "stream",
          "name": "stdout",
          "text": [
            "Hello, world!\n",
            "Enumerate this:\n",
            "0 1\n",
            "1 2\n",
            "2 3\n"
          ]
        }
      ]
    }
  ]
}
