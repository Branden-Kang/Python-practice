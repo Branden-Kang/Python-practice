{
  "nbformat": 4,
  "nbformat_minor": 0,
  "metadata": {
    "colab": {
      "name": "Python Optimizations.ipynb",
      "provenance": [],
      "authorship_tag": "ABX9TyNxHhzLW4hjttk6ahQ0BIgk"
    },
    "kernelspec": {
      "name": "python3",
      "display_name": "Python 3"
    },
    "language_info": {
      "name": "python"
    }
  },
  "cells": [
    {
      "cell_type": "markdown",
      "metadata": {
        "id": "y7GDD65s8Bm0"
      },
      "source": [
        "[Reference](https://levelup.gitconnected.com/python-optimizations-a822db1f6bf5)"
      ]
    },
    {
      "cell_type": "code",
      "metadata": {
        "id": "DGWuq_lB46h8"
      },
      "source": [
        "import pandas as pd"
      ],
      "execution_count": 2,
      "outputs": []
    },
    {
      "cell_type": "code",
      "metadata": {
        "id": "aBh7coN442OW"
      },
      "source": [
        "def my_func():\n",
        "    a = 60*60*24\n",
        "    myString = (\"querty \") * 2\n",
        "    myTupple = (2, 4) *5\n",
        "    myString = (\"This is a sequence with a lot of characters\") * 100"
      ],
      "execution_count": 4,
      "outputs": []
    },
    {
      "cell_type": "code",
      "metadata": {
        "colab": {
          "base_uri": "https://localhost:8080/"
        },
        "id": "xbabxdgJ45j7",
        "outputId": "4be2aa4d-9f12-4be1-95cc-cde01048813f"
      },
      "source": [
        "my_func.__code__.co_consts"
      ],
      "execution_count": 5,
      "outputs": [
        {
          "output_type": "execute_result",
          "data": {
            "text/plain": [
              "(None,\n",
              " 86400,\n",
              " 'querty querty ',\n",
              " (2, 4, 2, 4, 2, 4, 2, 4, 2, 4),\n",
              " 'This is a sequence with a lot of characters',\n",
              " 100)"
            ]
          },
          "metadata": {
            "tags": []
          },
          "execution_count": 5
        }
      ]
    },
    {
      "cell_type": "code",
      "metadata": {
        "id": "w-aeeMez72pk"
      },
      "source": [
        "def my_func(element):\n",
        "    if element in [\"a\", \"b\", \"c\"]:\n",
        "        print(element)"
      ],
      "execution_count": 6,
      "outputs": []
    },
    {
      "cell_type": "code",
      "metadata": {
        "colab": {
          "base_uri": "https://localhost:8080/"
        },
        "id": "jGRXkwZV75cQ",
        "outputId": "6dcb740c-85fc-4173-e7be-fa740ad8fcdf"
      },
      "source": [
        "my_func.__code__.co_consts"
      ],
      "execution_count": 7,
      "outputs": [
        {
          "output_type": "execute_result",
          "data": {
            "text/plain": [
              "(None, ('a', 'b', 'c'))"
            ]
          },
          "metadata": {
            "tags": []
          },
          "execution_count": 7
        }
      ]
    }
  ]
}