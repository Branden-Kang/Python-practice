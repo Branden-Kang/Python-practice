{
  "nbformat": 4,
  "nbformat_minor": 0,
  "metadata": {
    "colab": {
      "provenance": [],
      "authorship_tag": "ABX9TyPWgmzdxy8DtDVCy0Z1CBO6"
    },
    "kernelspec": {
      "name": "python3",
      "display_name": "Python 3"
    },
    "language_info": {
      "name": "python"
    }
  },
  "cells": [
    {
      "cell_type": "markdown",
      "source": [
        "[Reference](https://medium.com/accredian/level-up-your-data-science-projects-with-this-new-correlation-6fd907765368)"
      ],
      "metadata": {
        "id": "pfW2lEBpu43P"
      }
    },
    {
      "cell_type": "code",
      "execution_count": 1,
      "metadata": {
        "id": "qoKmo0hRuzcC"
      },
      "outputs": [],
      "source": [
        "import numpy as np\n",
        "\n",
        "def Ksaai(X, Y, ties=True):\n",
        "    np.random.seed(42)\n",
        "    n = len(X)\n",
        "    order = np.argsort(X)\n",
        "    ranks = np.argsort(Y[order])\n",
        "    diff_ranks = np.abs(np.diff(ranks))\n",
        "\n",
        "    if ties:\n",
        "        counts = np.bincount(ranks)\n",
        "        ranks += np.random.uniform(0, counts[ranks] - 1)\n",
        "        l = np.bincount(ranks).astype(float)\n",
        "        return 1 - n * np.sum(diff_ranks) / (2 * np.sum(l * (n - l)))\n",
        "    else:\n",
        "        return 1 - 3 * np.sum(diff_ranks) / (n**2 - 1)"
      ]
    }
  ]
}
