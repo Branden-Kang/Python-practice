{
  "nbformat": 4,
  "nbformat_minor": 0,
  "metadata": {
    "colab": {
      "provenance": [],
      "authorship_tag": "ABX9TyN7r+jhM3JhuTa9uZCq2Qa1"
    },
    "kernelspec": {
      "name": "python3",
      "display_name": "Python 3"
    },
    "language_info": {
      "name": "python"
    }
  },
  "cells": [
    {
      "cell_type": "markdown",
      "source": [
        "[Reference](https://aadijain71.medium.com/turbocharge-your-python-development-with-uv-971b89590736)"
      ],
      "metadata": {
        "id": "X1DwalCnKTrP"
      }
    },
    {
      "cell_type": "markdown",
      "source": [
        "# Getting Started With UV For Python Projects"
      ],
      "metadata": {
        "id": "7Yo0ixXzKeCl"
      }
    },
    {
      "cell_type": "markdown",
      "source": [
        "## Step 1: Install uv"
      ],
      "metadata": {
        "id": "dsJSE9YkKfab"
      }
    },
    {
      "cell_type": "code",
      "execution_count": 1,
      "metadata": {
        "colab": {
          "base_uri": "https://localhost:8080/"
        },
        "id": "riIB9pCtKOZs",
        "outputId": "22a1747e-adc9-446c-bde5-02894117b1c0"
      },
      "outputs": [
        {
          "output_type": "stream",
          "name": "stdout",
          "text": [
            "downloading uv 0.7.3 x86_64-unknown-linux-gnu\n",
            "no checksums to verify\n",
            "installing to /usr/local/bin\n",
            "  uv\n",
            "  uvx\n",
            "everything's installed!\n"
          ]
        }
      ],
      "source": [
        "!curl -Ls https://astral.sh/uv/install.sh | sh\n",
        "# or\n",
        "!brew install astral-sh/uv/uv"
      ]
    },
    {
      "cell_type": "markdown",
      "source": [
        "## Step 2: Create a new virtual environment"
      ],
      "metadata": {
        "id": "Y6tatmw9KkpA"
      }
    },
    {
      "cell_type": "code",
      "source": [
        "!uv venv venv/"
      ],
      "metadata": {
        "colab": {
          "base_uri": "https://localhost:8080/"
        },
        "id": "CTsVuHV6KitH",
        "outputId": "2d9af04b-e7c1-45cc-dbee-14d30a6693e6"
      },
      "execution_count": 2,
      "outputs": [
        {
          "output_type": "stream",
          "name": "stdout",
          "text": [
            "\u001b[1m\u001b[33mwarning\u001b[39m\u001b[0m\u001b[1m:\u001b[0m \u001b[1mThe `--system` flag has no effect, a system Python interpreter is always used in `uv venv`\u001b[0m\n",
            "Using CPython 3.11.12 interpreter at: \u001b[36m/usr/bin/python3\u001b[39m\n",
            "Creating virtual environment at: \u001b[36mvenv/\u001b[39m\n",
            "Activate with: \u001b[32msource venv/bin/activate\u001b[39m\n"
          ]
        }
      ]
    },
    {
      "cell_type": "code",
      "source": [
        "!source venv/bin/activate   # macOS/Linux\n",
        "# .\\venv\\Scripts\\activate    # Windows"
      ],
      "metadata": {
        "id": "Pi9zmpCrKnKt"
      },
      "execution_count": 3,
      "outputs": []
    },
    {
      "cell_type": "markdown",
      "source": [
        "## Step 3: Install packages"
      ],
      "metadata": {
        "id": "UG9_Sbd4KsqL"
      }
    },
    {
      "cell_type": "code",
      "source": [
        "!uv pip install flask"
      ],
      "metadata": {
        "colab": {
          "base_uri": "https://localhost:8080/"
        },
        "id": "ofwNnfM1KqrD",
        "outputId": "fad0a481-124a-461e-f422-824b465de855"
      },
      "execution_count": 4,
      "outputs": [
        {
          "output_type": "stream",
          "name": "stdout",
          "text": [
            "\u001b[2mUsing Python 3.11.12 environment at: /usr\u001b[0m\n",
            "\u001b[2mAudited \u001b[1m1 package\u001b[0m \u001b[2min 67ms\u001b[0m\u001b[0m\n"
          ]
        }
      ]
    },
    {
      "cell_type": "markdown",
      "source": [
        "# Managing Python Versions in UV"
      ],
      "metadata": {
        "id": "K6-A7WNoKvVq"
      }
    },
    {
      "cell_type": "markdown",
      "source": [
        "```\n",
        "uv pip compile requirements.in\n",
        "```"
      ],
      "metadata": {
        "id": "MnFXoqq2KyHT"
      }
    },
    {
      "cell_type": "markdown",
      "source": [
        "# Advanced Dependency Management With UV"
      ],
      "metadata": {
        "id": "AVxb0wyJK09t"
      }
    },
    {
      "cell_type": "markdown",
      "source": [
        "```\n",
        "uv pip compile --upgrade flask\n",
        "```"
      ],
      "metadata": {
        "id": "R39sY2bUK2rm"
      }
    },
    {
      "cell_type": "markdown",
      "source": [
        "# Switching From PIP and Virtualenv to UV\n",
        "```\n",
        "$ uv venv\n",
        "\n",
        "$ uv pip install\n",
        "\n",
        "$ pip-tools\n",
        "\n",
        "$ alias pip=\"uv pip\"\n",
        "$ alias python3 -m venv=\"uv venv\"\n",
        "```"
      ],
      "metadata": {
        "id": "iN8G6c_yK7i9"
      }
    }
  ]
}
