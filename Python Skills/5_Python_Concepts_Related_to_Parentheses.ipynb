{
  "nbformat": 4,
  "nbformat_minor": 0,
  "metadata": {
    "colab": {
      "name": "5 Python Concepts Related to Parentheses.ipynb",
      "provenance": [],
      "authorship_tag": "ABX9TyND1CwirdGwoEyUPKOtRFY5"
    },
    "kernelspec": {
      "name": "python3",
      "display_name": "Python 3"
    }
  },
  "cells": [
    {
      "cell_type": "markdown",
      "metadata": {
        "id": "J8f2E5aiZsRr"
      },
      "source": [
        "[Reference](https://medium.com/better-programming/5-python-concepts-related-to-parentheses-7230b70cf735)"
      ]
    },
    {
      "cell_type": "code",
      "metadata": {
        "colab": {
          "base_uri": "https://localhost:8080/"
        },
        "id": "Eku919wFZjiH",
        "outputId": "9169f4b6-139d-4c3e-9a86-e81d31693bda"
      },
      "source": [
        "5 + 3 * 4\n",
        "\n",
        "(5 + 3) * 4\n",
        "\n",
        "5 > 2 and 9 > 7\n",
        "\n",
        "5 > (2 and 9) > 7\n",
        "\n",
        "(5 > 2) and (9 > 7)"
      ],
      "execution_count": 1,
      "outputs": [
        {
          "output_type": "execute_result",
          "data": {
            "text/plain": [
              "True"
            ]
          },
          "metadata": {
            "tags": []
          },
          "execution_count": 1
        }
      ]
    },
    {
      "cell_type": "code",
      "metadata": {
        "colab": {
          "base_uri": "https://localhost:8080/"
        },
        "id": "xdx_BFbXZy4d",
        "outputId": "0d9809d1-6d24-4143-ca94-d2099a9281af"
      },
      "source": [
        "def hello_world():\n",
        "    print(\"Hello, World!\")\n",
        "\n",
        "hello_world\n",
        "hello_world()"
      ],
      "execution_count": 2,
      "outputs": [
        {
          "output_type": "stream",
          "text": [
            "Hello, World!\n"
          ],
          "name": "stdout"
        }
      ]
    },
    {
      "cell_type": "code",
      "metadata": {
        "colab": {
          "base_uri": "https://localhost:8080/"
        },
        "id": "DFWjtiHAZ2Gn",
        "outputId": "8dea0a3d-5ad7-4644-87d5-4afc55acffb8"
      },
      "source": [
        "int()"
      ],
      "execution_count": 3,
      "outputs": [
        {
          "output_type": "execute_result",
          "data": {
            "text/plain": [
              "0"
            ]
          },
          "metadata": {
            "tags": []
          },
          "execution_count": 3
        }
      ]
    },
    {
      "cell_type": "code",
      "metadata": {
        "colab": {
          "base_uri": "https://localhost:8080/",
          "height": 37
        },
        "id": "6K1SeNqAZ4TH",
        "outputId": "1ca1f464-db5d-4945-e2f8-6387fec4da49"
      },
      "source": [
        "str()"
      ],
      "execution_count": 4,
      "outputs": [
        {
          "output_type": "execute_result",
          "data": {
            "application/vnd.google.colaboratory.intrinsic+json": {
              "type": "string"
            },
            "text/plain": [
              "''"
            ]
          },
          "metadata": {
            "tags": []
          },
          "execution_count": 4
        }
      ]
    },
    {
      "cell_type": "code",
      "metadata": {
        "colab": {
          "base_uri": "https://localhost:8080/"
        },
        "id": "A1Py5dLrZ5Re",
        "outputId": "003858bb-b1d7-4b2f-def5-0c89167dcf71"
      },
      "source": [
        "dict()"
      ],
      "execution_count": 5,
      "outputs": [
        {
          "output_type": "execute_result",
          "data": {
            "text/plain": [
              "{}"
            ]
          },
          "metadata": {
            "tags": []
          },
          "execution_count": 5
        }
      ]
    },
    {
      "cell_type": "code",
      "metadata": {
        "colab": {
          "base_uri": "https://localhost:8080/"
        },
        "id": "SePfgcTCZ6rJ",
        "outputId": "9c45b263-bf31-444b-dd4f-41ec9c48e510"
      },
      "source": [
        "set()"
      ],
      "execution_count": 6,
      "outputs": [
        {
          "output_type": "execute_result",
          "data": {
            "text/plain": [
              "set()"
            ]
          },
          "metadata": {
            "tags": []
          },
          "execution_count": 6
        }
      ]
    },
    {
      "cell_type": "code",
      "metadata": {
        "colab": {
          "base_uri": "https://localhost:8080/"
        },
        "id": "XpwxlRt6Z6y3",
        "outputId": "14863337-e7cd-43f3-aea3-e19433d56c56"
      },
      "source": [
        "list()"
      ],
      "execution_count": 7,
      "outputs": [
        {
          "output_type": "execute_result",
          "data": {
            "text/plain": [
              "[]"
            ]
          },
          "metadata": {
            "tags": []
          },
          "execution_count": 7
        }
      ]
    },
    {
      "cell_type": "code",
      "metadata": {
        "colab": {
          "base_uri": "https://localhost:8080/"
        },
        "id": "eH199OHdZ7jm",
        "outputId": "b7ac59a6-6aae-4903-9e43-097569c7f4d4"
      },
      "source": [
        "tuple()"
      ],
      "execution_count": 8,
      "outputs": [
        {
          "output_type": "execute_result",
          "data": {
            "text/plain": [
              "()"
            ]
          },
          "metadata": {
            "tags": []
          },
          "execution_count": 8
        }
      ]
    },
    {
      "cell_type": "code",
      "metadata": {
        "colab": {
          "base_uri": "https://localhost:8080/"
        },
        "id": "7x_7wV71Z8UT",
        "outputId": "0c690f31-8f0c-4506-ace0-8e5e2ca79c51"
      },
      "source": [
        "class Person:\n",
        "     def __init__(self, name):\n",
        "         self.name = name\n",
        " \n",
        "person = Person(\"John Smith\")\n",
        "person"
      ],
      "execution_count": 9,
      "outputs": [
        {
          "output_type": "execute_result",
          "data": {
            "text/plain": [
              "<__main__.Person at 0x7f12e5c6bb00>"
            ]
          },
          "metadata": {
            "tags": []
          },
          "execution_count": 9
        }
      ]
    },
    {
      "cell_type": "code",
      "metadata": {
        "colab": {
          "base_uri": "https://localhost:8080/"
        },
        "id": "8S1zpI-8Z-Tu",
        "outputId": "7324d851-ee27-41e9-ef13-52bf2ca49246"
      },
      "source": [
        "callable(hello_world)"
      ],
      "execution_count": 10,
      "outputs": [
        {
          "output_type": "execute_result",
          "data": {
            "text/plain": [
              "True"
            ]
          },
          "metadata": {
            "tags": []
          },
          "execution_count": 10
        }
      ]
    },
    {
      "cell_type": "code",
      "metadata": {
        "colab": {
          "base_uri": "https://localhost:8080/"
        },
        "id": "Pw-tVz9NZ_eg",
        "outputId": "3605e758-2f0c-4f11-9284-ade17da6e850"
      },
      "source": [
        "callable(Person)"
      ],
      "execution_count": 11,
      "outputs": [
        {
          "output_type": "execute_result",
          "data": {
            "text/plain": [
              "True"
            ]
          },
          "metadata": {
            "tags": []
          },
          "execution_count": 11
        }
      ]
    },
    {
      "cell_type": "code",
      "metadata": {
        "id": "LiGgdrW1aAQj"
      },
      "source": [
        "name = \"John Smith\"\n",
        "callable(name)"
      ],
      "execution_count": 11,
      "outputs": []
    },
    {
      "cell_type": "code",
      "metadata": {
        "colab": {
          "base_uri": "https://localhost:8080/"
        },
        "id": "mesSQW-7aDct",
        "outputId": "b3bd7f5d-b897-481f-b464-44c6106b9b00"
      },
      "source": [
        "import inspect\n",
        "inspect.getmro(Person)"
      ],
      "execution_count": 12,
      "outputs": [
        {
          "output_type": "execute_result",
          "data": {
            "text/plain": [
              "(__main__.Person, object)"
            ]
          },
          "metadata": {
            "tags": []
          },
          "execution_count": 12
        }
      ]
    },
    {
      "cell_type": "code",
      "metadata": {
        "colab": {
          "base_uri": "https://localhost:8080/"
        },
        "id": "OEHYpch3aEzM",
        "outputId": "a918276e-b7f6-4c61-f180-1d66c1f70c11"
      },
      "source": [
        "id(person)"
      ],
      "execution_count": 13,
      "outputs": [
        {
          "output_type": "execute_result",
          "data": {
            "text/plain": [
              "139719141145344"
            ]
          },
          "metadata": {
            "tags": []
          },
          "execution_count": 13
        }
      ]
    },
    {
      "cell_type": "code",
      "metadata": {
        "colab": {
          "base_uri": "https://localhost:8080/"
        },
        "id": "67khw19EaGQm",
        "outputId": "2a695a8d-0047-4f84-c908-ba7c288f98a1"
      },
      "source": [
        "hash(person)"
      ],
      "execution_count": 14,
      "outputs": [
        {
          "output_type": "execute_result",
          "data": {
            "text/plain": [
              "8732446321584"
            ]
          },
          "metadata": {
            "tags": []
          },
          "execution_count": 14
        }
      ]
    },
    {
      "cell_type": "code",
      "metadata": {
        "colab": {
          "base_uri": "https://localhost:8080/"
        },
        "id": "YrvnwYs-aHYh",
        "outputId": "74b09702-223c-4f1e-bf45-444ee3251d34"
      },
      "source": [
        "class Employee(Person):\n",
        "     def __init__(self, name, employee_id):\n",
        "         super().__init__(name)\n",
        "         self.employee_id = employee_id\n",
        " \n",
        "employee = Employee(\"David Smith\", 123456)\n",
        "inspect.getmro(Employee)"
      ],
      "execution_count": 15,
      "outputs": [
        {
          "output_type": "execute_result",
          "data": {
            "text/plain": [
              "(__main__.Employee, __main__.Person, object)"
            ]
          },
          "metadata": {
            "tags": []
          },
          "execution_count": 15
        }
      ]
    },
    {
      "cell_type": "code",
      "metadata": {
        "colab": {
          "base_uri": "https://localhost:8080/"
        },
        "id": "8zffkCxkaK9Q",
        "outputId": "17fd0942-6ac7-419c-abfc-32f8d6db7cad"
      },
      "source": [
        "tuple()"
      ],
      "execution_count": 16,
      "outputs": [
        {
          "output_type": "execute_result",
          "data": {
            "text/plain": [
              "()"
            ]
          },
          "metadata": {
            "tags": []
          },
          "execution_count": 16
        }
      ]
    },
    {
      "cell_type": "code",
      "metadata": {
        "colab": {
          "base_uri": "https://localhost:8080/"
        },
        "id": "zdEJ6kjxaMjB",
        "outputId": "bfe8a916-9b14-4e02-c9e9-8616d3eb7d2e"
      },
      "source": [
        "()"
      ],
      "execution_count": 17,
      "outputs": [
        {
          "output_type": "execute_result",
          "data": {
            "text/plain": [
              "()"
            ]
          },
          "metadata": {
            "tags": []
          },
          "execution_count": 17
        }
      ]
    },
    {
      "cell_type": "code",
      "metadata": {
        "colab": {
          "base_uri": "https://localhost:8080/"
        },
        "id": "tj7dsSMcaNyh",
        "outputId": "04d703f2-d88a-4bf8-a7ae-87b6064c67d6"
      },
      "source": [
        "(5,)"
      ],
      "execution_count": 18,
      "outputs": [
        {
          "output_type": "execute_result",
          "data": {
            "text/plain": [
              "(5,)"
            ]
          },
          "metadata": {
            "tags": []
          },
          "execution_count": 18
        }
      ]
    },
    {
      "cell_type": "code",
      "metadata": {
        "colab": {
          "base_uri": "https://localhost:8080/"
        },
        "id": "a-ewWpuVaOpk",
        "outputId": "a1528f0a-4cd6-47c2-db33-7f8b44df0ef6"
      },
      "source": [
        "(5,3)"
      ],
      "execution_count": 19,
      "outputs": [
        {
          "output_type": "execute_result",
          "data": {
            "text/plain": [
              "(5, 3)"
            ]
          },
          "metadata": {
            "tags": []
          },
          "execution_count": 19
        }
      ]
    },
    {
      "cell_type": "code",
      "metadata": {
        "colab": {
          "base_uri": "https://localhost:8080/"
        },
        "id": "uOAI6Y0YaPYb",
        "outputId": "6314cb5b-f79b-4842-8aa0-138fa405ee3b"
      },
      "source": [
        "print(\"Type of (5):\", type((5)))"
      ],
      "execution_count": 20,
      "outputs": [
        {
          "output_type": "stream",
          "text": [
            "Type of (5): <class 'int'>\n"
          ],
          "name": "stdout"
        }
      ]
    },
    {
      "cell_type": "code",
      "metadata": {
        "colab": {
          "base_uri": "https://localhost:8080/"
        },
        "id": "J-QDHlDBaQkG",
        "outputId": "c96005b2-f21b-4ea5-9efa-6e06decd5e9a"
      },
      "source": [
        "print(\"Type of (5,):\", type((5,)))"
      ],
      "execution_count": 21,
      "outputs": [
        {
          "output_type": "stream",
          "text": [
            "Type of (5,): <class 'tuple'>\n"
          ],
          "name": "stdout"
        }
      ]
    },
    {
      "cell_type": "code",
      "metadata": {
        "colab": {
          "base_uri": "https://localhost:8080/"
        },
        "id": "zZYy7xADaRhd",
        "outputId": "fa5222ea-6f2d-41ba-fab3-cf3c122d0db9"
      },
      "source": [
        "def simple_generator():\n",
        "     x = 0\n",
        "     while x < 4:\n",
        "         yield x*x\n",
        "         x += 1\n",
        " \n",
        "number_gen = simple_generator()\n",
        "for number in number_gen:\n",
        "     print(\"Current Squares:\", number)"
      ],
      "execution_count": 22,
      "outputs": [
        {
          "output_type": "stream",
          "text": [
            "Current Squares: 0\n",
            "Current Squares: 1\n",
            "Current Squares: 4\n",
            "Current Squares: 9\n"
          ],
          "name": "stdout"
        }
      ]
    },
    {
      "cell_type": "code",
      "metadata": {
        "colab": {
          "base_uri": "https://localhost:8080/"
        },
        "id": "GPQMFE2iaUCG",
        "outputId": "99030b20-3521-4e5c-e067-ecac1a26acd5"
      },
      "source": [
        "number_gen = (x*x for x in range(4))\n",
        "for number in number_gen:\n",
        "     print(\"Current Squares:\", number)"
      ],
      "execution_count": 23,
      "outputs": [
        {
          "output_type": "stream",
          "text": [
            "Current Squares: 0\n",
            "Current Squares: 1\n",
            "Current Squares: 4\n",
            "Current Squares: 9\n"
          ],
          "name": "stdout"
        }
      ]
    }
  ]
}