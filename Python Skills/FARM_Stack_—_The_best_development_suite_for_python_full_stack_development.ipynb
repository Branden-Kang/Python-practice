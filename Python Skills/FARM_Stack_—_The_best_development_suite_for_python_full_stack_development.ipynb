{
  "nbformat": 4,
  "nbformat_minor": 0,
  "metadata": {
    "colab": {
      "provenance": [],
      "authorship_tag": "ABX9TyN9EzDx+PUiA+d5j/11y1CB"
    },
    "kernelspec": {
      "name": "python3",
      "display_name": "Python 3"
    },
    "language_info": {
      "name": "python"
    }
  },
  "cells": [
    {
      "cell_type": "markdown",
      "source": [
        "[Reference](https://towardsdev.com/farm-stack-the-best-development-suite-for-python-full-stack-development-1a8d74660e4)"
      ],
      "metadata": {
        "id": "mDxN2gtmyUwo"
      }
    },
    {
      "cell_type": "markdown",
      "source": [
        "```\n",
        "fastapi==0.95.2\n",
        "uvicorn==0.22.0\n",
        "pymongo==4.3.3\n",
        "```"
      ],
      "metadata": {
        "id": "qfsVBGidyamK"
      }
    },
    {
      "cell_type": "code",
      "execution_count": 1,
      "metadata": {
        "id": "VOrfQD86x7tH"
      },
      "outputs": [],
      "source": [
        "from pymongo import MongoClient\n",
        "\n",
        "db_connection = MongoClient(\"mongodb://localhost:27017\")\n",
        "db = db_connection[\"nobel_prize_db\"]\n",
        "collection = db[\"nobel_prize\"]"
      ]
    },
    {
      "cell_type": "code",
      "source": [
        "from pydantic import BaseModel\n",
        "\n",
        "from models.LaureatesModel import Laureates\n",
        "\n",
        "\n",
        "class NobelPrize(BaseModel):\n",
        "    year: str\n",
        "    category: str\n",
        "    laureates: list[Laureates]"
      ],
      "metadata": {
        "id": "nW_Sb41Aydf6"
      },
      "execution_count": 2,
      "outputs": []
    },
    {
      "cell_type": "code",
      "source": [
        "from pydantic import BaseModel\n",
        "\n",
        "\n",
        "class Laureates(BaseModel):\n",
        "    firstname: str\n",
        "    surname: str\n",
        "    motivation: str\n",
        "    share: str"
      ],
      "metadata": {
        "id": "3qA1IF3yyeQ6"
      },
      "execution_count": 3,
      "outputs": []
    },
    {
      "cell_type": "code",
      "source": [
        "from models.LaureatesModel import Laureates\n",
        "from models.NobelPrizeModel import NobelPrize\n",
        "import random\n",
        "\n",
        "\n",
        "def nobel_prize_serializer(nobel_prize) -> dict:\n",
        "    try:\n",
        "        return {\n",
        "            'id': str(nobel_prize['_id']),\n",
        "            'year': str(nobel_prize['year']),\n",
        "            'category': str(nobel_prize['category']),\n",
        "            'laureates': list(nobel_prize_laureates_serializer(nobel_prize['laureates']))\n",
        "        }\n",
        "    except Exception as e:\n",
        "        print(e.__cause__)\n",
        "\n",
        "\n",
        "def nobel_prize_laureate_serializer(laureate) -> dict:\n",
        "    try:\n",
        "        return {\n",
        "            'id': str(laureate['id']),\n",
        "            'firstname': str(laureate['firstname']),\n",
        "            'surname': str(laureate['surname']),\n",
        "            'motivation': str(laureate['motivation']),\n",
        "            'share': str(laureate['share'])\n",
        "        }\n",
        "    except Exception as e:\n",
        "        print(e.__cause__)\n",
        "\n",
        "\n",
        "def nobel_prize_laureates_serializer(laureates) -> list:\n",
        "    try:\n",
        "        return [nobel_prize_laureate_serializer(laureate) for laureate in laureates]\n",
        "    except Exception as e:\n",
        "        print(e.__cause__)\n",
        "\n",
        "\n",
        "def nobel_prizes_serializer(nobel_prizes) -> list:\n",
        "    try:\n",
        "        return [nobel_prize_serializer(nobel_prize) for nobel_prize in nobel_prizes]\n",
        "    except Exception as e:\n",
        "        print(e.__cause__)\n",
        "\n",
        "\n",
        "def serialize_payload(payload: NobelPrize) -> dict:\n",
        "    try:\n",
        "        return {\n",
        "            'year': str(payload.year),\n",
        "            'category': str(payload.category),\n",
        "            'laureates': serialize_payload_laureates_arrays(payload.laureates)\n",
        "        }\n",
        "    except Exception as e:\n",
        "        print(e.__cause__)\n",
        "\n",
        "\n",
        "def serialize_payload_laureates_arrays(laureates) -> list:\n",
        "    return [serialize_payload_laureates_object(laureate) for laureate in laureates]\n",
        "\n",
        "\n",
        "def serialize_payload_laureates_object(laureate: Laureates) -> dict:\n",
        "    return {\n",
        "        'id': str(random.randint(0, 99999999)),\n",
        "        'firstname': str(laureate.firstname),\n",
        "        'surname': str(laureate.surname),\n",
        "        'motivation': str(laureate.motivation),\n",
        "        'share': str(laureate.share)\n",
        "    }"
      ],
      "metadata": {
        "id": "hmnQD9X6yg3W"
      },
      "execution_count": 4,
      "outputs": []
    },
    {
      "cell_type": "code",
      "source": [
        "from fastapi import APIRouter\n",
        "from models.NobelPrizeModel import NobelPrize\n",
        "from schemas.nobel_prize_schema import nobel_prizes_serializer, serialize_payload\n",
        "from bson import ObjectId\n",
        "from config.db import collection\n",
        "\n",
        "nobel_prize_routes = APIRouter()\n",
        "\n",
        "\n",
        "@nobel_prize_routes.get(\"/nobel-prize\")\n",
        "async def find_all_nobel_prize(category: str | None = None, year: str | None = None):\n",
        "    query = {}\n",
        "    if category is not None:\n",
        "        query['category'] = category\n",
        "    if year is not None:\n",
        "        query['year'] = year\n",
        "    data: list[NobelPrize] = nobel_prizes_serializer(collection.find(query))\n",
        "\n",
        "    return {\"status\": \"OK\", \"total\": len(data), \"data\": data}\n",
        "\n",
        "\n",
        "@nobel_prize_routes.get(\"/nobel-prize/{id}\")\n",
        "async def find_nobel_prize_by_id(_id: str):\n",
        "    data: list[NobelPrize] = nobel_prizes_serializer(collection.find({'_id': ObjectId(_id)}))\n",
        "    return {\"status\": \"OK\", \"data\": data}\n",
        "\n",
        "\n",
        "@nobel_prize_routes.post(\"/nobel-prize\")\n",
        "async def save_nobel_prize(payload: NobelPrize):\n",
        "    payload = serialize_payload(payload)\n",
        "    response = collection.insert_one(dict(payload))\n",
        "    nobel_prize = nobel_prizes_serializer(collection.find({\"_id\": response.inserted_id}))\n",
        "    return {\"status\": \"Ok\", \"acknowledged\": response.acknowledged, \"data\": nobel_prize}"
      ],
      "metadata": {
        "id": "oXnStEJQyjQT"
      },
      "execution_count": 5,
      "outputs": []
    },
    {
      "cell_type": "code",
      "source": [
        "from fastapi import FastAPI\n",
        "\n",
        "app = FastAPI()\n",
        "\n",
        "app.include_router(nobel_prize_routes)\n",
        "\n",
        "@app.get(\"/health\")\n",
        "async def root():\n",
        "    return {\"health\": \"OK\"}"
      ],
      "metadata": {
        "id": "326PrHdByohR"
      },
      "execution_count": 6,
      "outputs": []
    }
  ]
}
