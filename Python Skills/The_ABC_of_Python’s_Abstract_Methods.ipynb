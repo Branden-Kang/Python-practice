{
  "nbformat": 4,
  "nbformat_minor": 0,
  "metadata": {
    "colab": {
      "name": "The ABC of Python’s Abstract Methods.ipynb",
      "provenance": [],
      "authorship_tag": "ABX9TyNCgJPnAHRmcv/4IbcXcpxY"
    },
    "kernelspec": {
      "name": "python3",
      "display_name": "Python 3"
    }
  },
  "cells": [
    {
      "cell_type": "markdown",
      "metadata": {
        "id": "eXPCQeIEeAOD"
      },
      "source": [
        "[Reference](https://medium.com/c%C3%B3digo-ecuador/the-abc-of-pythons-abstract-methods2-26eb1cb8caed)"
      ]
    },
    {
      "cell_type": "code",
      "metadata": {
        "id": "TOTsJRefd-he"
      },
      "source": [
        "from abc import ABC, abstractMethod #import ABC module\n",
        "\n",
        "class Item(ABC): #inherits from ABC\n",
        "    def __init__(self, title, author_first, author_last):\n",
        "         self.title=title\n",
        "         self.author_first=author_first\n",
        "         self.author_last=author_last    \n",
        "         \n",
        "    @abstractmethod #magic property that bestows special attributes\n",
        "    def display_info(self):\n",
        "        pass    \n",
        "        \n",
        "    @abstratctmethod\n",
        "    def title_author(self):\n",
        "        pass\n",
        "\n",
        "class Article(Item): #inherits from item\n",
        "    def __init__(self, title, author):\n",
        "        super().__init__(name) #overrides all but name from Item\n",
        "        self.author = author\n",
        "        self.title = title    \n",
        "        \n",
        "    def display_info(self): #we override the superclass\n",
        "        return \"Author:{0} Title:{1}\".format(self.title,self.author)    \n",
        "        \n",
        "    def title_author(self):\n",
        "        return \"{0} by {1}.format(self.title, self.author)\"\n",
        "        \n",
        "class Video(Item): #inherits from item\n",
        "    def __init__(self, title, author, youtube_account, date_posted):\n",
        "        super().__init__(name)  #overrides all but name from Item\n",
        "        self.author = author\n",
        "        self.title = title        \n",
        "        self.youtube_account = youtube_account\n",
        "        self.date_posted = date_posted    \n",
        "        \n",
        "    def display_info(self): #we override the superclass\n",
        "        return self.title + ' ' + 'by' + self.author, duration\n",
        "        \n",
        "    def title_author(self):\n",
        "        return \"{0} by {1}.format(self.title, self.author)\""
      ],
      "execution_count": 4,
      "outputs": []
    }
  ]
}