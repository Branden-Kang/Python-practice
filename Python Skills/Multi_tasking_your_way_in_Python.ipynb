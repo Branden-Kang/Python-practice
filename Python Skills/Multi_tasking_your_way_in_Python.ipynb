{
  "nbformat": 4,
  "nbformat_minor": 0,
  "metadata": {
    "colab": {
      "name": "Multi-tasking your way in Python.ipynb",
      "provenance": [],
      "authorship_tag": "ABX9TyPEsFMOPAiet1gIwVc72o5U"
    },
    "kernelspec": {
      "name": "python3",
      "display_name": "Python 3"
    },
    "language_info": {
      "name": "python"
    }
  },
  "cells": [
    {
      "cell_type": "markdown",
      "metadata": {
        "id": "8enMb73bm2lT"
      },
      "source": [
        "[Reference](https://medium.com/analytics-vidhya/multi-tasking-your-way-in-python-795ced176d9d)"
      ]
    },
    {
      "cell_type": "markdown",
      "metadata": {
        "id": "jnG-sBIjm44H"
      },
      "source": [
        "# A Client — Server Architecture"
      ]
    },
    {
      "cell_type": "code",
      "metadata": {
        "colab": {
          "base_uri": "https://localhost:8080/"
        },
        "id": "jQIz4KNxm1aJ",
        "outputId": "fe148112-b9d7-4c1b-e9d0-cbe88ebc58ee"
      },
      "source": [
        "import os\n",
        "import time\n",
        "from time import perf_counter\n",
        "from multiprocessing import Queue, Process, Event\n",
        "import queue as q\n",
        "\n",
        "import logging\n",
        "logging.basicConfig(level=logging.INFO, format='%(asctime)s : %(levelname)s : %(message)s')\n",
        "logger = logging.getLogger(__name__)\n",
        "\n",
        "\n",
        "class Worker(Process):\n",
        "    \n",
        "    def __init__(self, task_queue: Queue, \n",
        "                 stop_event: Event, **kwargs):\n",
        "        super().__init__(**kwargs)\n",
        "        self.task_queue = task_queue\n",
        "        self.stop_event = stop_event\n",
        "        self.name = kwargs['name']\n",
        "    \n",
        "    def run(self):\n",
        "        logger.info(f'Intiailizing Worker - {self.name} ProcessID - {os.getpid()}')\n",
        "\n",
        "        # While loop will run until both (Empty queue and stop event trigger by manager) is False      \n",
        "        while not self.task_queue.empty() or not self.stop_event.is_set():\n",
        "\n",
        "            try:\n",
        "                job = self.task_queue.get_nowait() # This will get the jobs entered by manager into the queue\n",
        "                \n",
        "                # Perform operation on jobs\n",
        "                logger.info(f'Starting process for JobID - {job} on worker - {self.name}')\n",
        "                ####################################################################\n",
        "                #                  Processing tasks starts \n",
        "                ####################################################################\n",
        "                start_job = perf_counter()\n",
        "                random_operation = sum([(job)^i for i in range(500000)])\n",
        "                time.sleep(2)\n",
        "                end_job = perf_counter()\n",
        "\n",
        "                logger.info(f'Time taken to execute JobID - {job} on Worker - {self.name} is {end_job - start_job}')\n",
        "                ####################################################################\n",
        "                #                  Processing tasks ends \n",
        "                ####################################################################\n",
        "\n",
        "            except q.Empty: pass\n",
        "        logger.info(f\"{self.name} - Process terminates\")\n",
        "\n",
        "\n",
        "\n",
        "class Manager:\n",
        "    \n",
        "    def __init__(self, n_workers: int = 1, \n",
        "                 max_tasks: int = 2000):\n",
        "        self.stop_event = Event()\n",
        "        self.task_queue = Queue(maxsize=max_tasks)\n",
        "\n",
        "        n_workers = 1 if n_workers < 1 else n_workers\n",
        "        logger.info(f\"Starting {n_workers} workers in process mode\")\n",
        "        \n",
        "        self.workers = [Worker(self.task_queue,\n",
        "                            self.stop_event,\n",
        "                            name=f\"Worker{i}\") \n",
        "                        for i in range(n_workers)]\n",
        "        for worker in self.workers: worker.start()\n",
        "\n",
        "    def add_jobs(self):\n",
        "        '''Adds the jobs to the queue'''\n",
        "        ####################################################################\n",
        "        #                  Task addition on queue starts \n",
        "        ####################################################################\n",
        "\n",
        "        for i in range(10):\n",
        "            self.task_queue.put(i) # Assigns the job in queue\n",
        "            time.sleep(0.1)\n",
        "\n",
        "        ####################################################################\n",
        "        #                 Task addition on queue ends \n",
        "        ####################################################################\n",
        "        \n",
        "    def terminate(self):\n",
        "        '''Sets termiate event when called'''\n",
        "        self.stop_event.set()\n",
        "        \n",
        "if __name__ == \"__main__\":\n",
        "\n",
        "    n_workers =  os.cpu_count() - 1 # Gets no of cores present on the machine\n",
        "    process = Manager(n_workers=n_workers) # Intialize Manager Object\n",
        "    process.add_jobs() # Adds the jobs to process for workers in queue\n",
        "    process.terminate() # Triggers termiante event after add_jobs task is finished"
      ],
      "execution_count": 2,
      "outputs": [
        {
          "output_type": "stream",
          "text": [
            "2021-07-11 08:08:56,358 : INFO : Starting 1 workers in process mode\n",
            "2021-07-11 08:08:56,369 : INFO : Intiailizing Worker - Worker0 ProcessID - 115\n",
            "2021-07-11 08:08:56,377 : INFO : Starting process for JobID - 0 on worker - Worker0\n"
          ],
          "name": "stderr"
        }
      ]
    }
  ]
}