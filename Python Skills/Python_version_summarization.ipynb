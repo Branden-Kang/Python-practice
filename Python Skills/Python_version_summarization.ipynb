{
  "nbformat": 4,
  "nbformat_minor": 0,
  "metadata": {
    "colab": {
      "name": "Python version summarization.ipynb",
      "provenance": [],
      "authorship_tag": "ABX9TyMbh1oG9tbsfOC/mO7Ed9V2"
    },
    "kernelspec": {
      "name": "python3",
      "display_name": "Python 3"
    }
  },
  "cells": [
    {
      "cell_type": "markdown",
      "metadata": {
        "id": "3mYrEs7pz4-o"
      },
      "source": [
        "[Reference](https://mail.google.com/mail/u/0/?tab=wm&ogbl#inbox/FMfcgxwKkRPFjpvrHtjMqMJmttCCzdNq)"
      ]
    },
    {
      "cell_type": "code",
      "metadata": {
        "colab": {
          "base_uri": "https://localhost:8080/"
        },
        "id": "kY7k3M7_mnHK",
        "outputId": "6caf6146-15fd-452a-f10b-5300d2f3a813"
      },
      "source": [
        "!python --version"
      ],
      "execution_count": 4,
      "outputs": [
        {
          "output_type": "stream",
          "text": [
            "Python 3.6.9\n"
          ],
          "name": "stdout"
        }
      ]
    },
    {
      "cell_type": "code",
      "metadata": {
        "id": "wQyV6ADHmJ6j"
      },
      "source": [
        "def test(x):\n",
        "    return 2*int(x)\n",
        "\n",
        "print(test(4))\n",
        "print(test(5))\n",
        "breakpoint()\n",
        "\n",
        "print(test('i'))"
      ],
      "execution_count": null,
      "outputs": []
    },
    {
      "cell_type": "code",
      "metadata": {
        "colab": {
          "base_uri": "https://localhost:8080/"
        },
        "id": "iZkbS_71m9hG",
        "outputId": "75c265ea-a459-4a6d-b68e-457dea642e63"
      },
      "source": [
        "t = [1, 2, 3, 4]\n",
        "t_len = len(t)\n",
        "\n",
        "if t_len > 3:\n",
        "    print(f'{t_len} is greater than 3')"
      ],
      "execution_count": 5,
      "outputs": [
        {
          "output_type": "stream",
          "text": [
            "4 is greater than 3\n"
          ],
          "name": "stdout"
        }
      ]
    },
    {
      "cell_type": "code",
      "metadata": {
        "id": "TtBFHr5_nGWl"
      },
      "source": [
        "t = [1, 2, 3, 4]\n",
        "\n",
        "if (t_len: len(t)) > 3:\n",
        "    print(f'{t_len} is greater than 3')"
      ],
      "execution_count": 7,
      "outputs": []
    },
    {
      "cell_type": "code",
      "metadata": {
        "id": "etXQESmbnFwn"
      },
      "source": [
        "sentences = [\"Branden studied hard\",\" He got a job quickly\"]\n",
        "\n",
        "for text in sentences:\n",
        "    if (amount := re.search(r'(?<=\\$)\\d+', text)):\n",
        "        print(amount.group(0))"
      ],
      "execution_count": 10,
      "outputs": []
    },
    {
      "cell_type": "code",
      "metadata": {
        "colab": {
          "base_uri": "https://localhost:8080/",
          "height": 130
        },
        "id": "7gL0Ct_LnsVJ",
        "outputId": "b8726ea2-677b-423d-a8bf-b4c7d3ba62ad"
      },
      "source": [
        "x = 50\n",
        "y = 100\n",
        "\n",
        "print(f\"{x=}, {y=}\")"
      ],
      "execution_count": 11,
      "outputs": [
        {
          "output_type": "error",
          "ename": "SyntaxError",
          "evalue": "ignored",
          "traceback": [
            "\u001b[0;36m  File \u001b[0;32m\"<fstring>\"\u001b[0;36m, line \u001b[0;32m1\u001b[0m\n\u001b[0;31m    (x=)\u001b[0m\n\u001b[0m      ^\u001b[0m\n\u001b[0;31mSyntaxError\u001b[0m\u001b[0;31m:\u001b[0m invalid syntax\n"
          ]
        }
      ]
    },
    {
      "cell_type": "code",
      "metadata": {
        "colab": {
          "base_uri": "https://localhost:8080/"
        },
        "id": "ND5LY0zdn2tP",
        "outputId": "c016fc0c-59a5-49e1-85ba-04f06c80f211"
      },
      "source": [
        "def calc(op, x, y):\n",
        "    if op == 'add':\n",
        "        return x+y\n",
        "    elif op == 'subtract':\n",
        "        return x-y\n",
        "\n",
        "calc(op='add', x=1, y=8)"
      ],
      "execution_count": 12,
      "outputs": [
        {
          "output_type": "execute_result",
          "data": {
            "text/plain": [
              "9"
            ]
          },
          "metadata": {
            "tags": []
          },
          "execution_count": 12
        }
      ]
    },
    {
      "cell_type": "code",
      "metadata": {
        "id": "FAknKKeeoFJf"
      },
      "source": [
        "def calc(op, /, x, y):\n",
        "    if op == 'add':\n",
        "        return x+y\n",
        "    elif op == 'subtract':\n",
        "        return x-y\n",
        "\n",
        "calc(op='add', x=1, y=8)"
      ],
      "execution_count": null,
      "outputs": []
    }
  ]
}