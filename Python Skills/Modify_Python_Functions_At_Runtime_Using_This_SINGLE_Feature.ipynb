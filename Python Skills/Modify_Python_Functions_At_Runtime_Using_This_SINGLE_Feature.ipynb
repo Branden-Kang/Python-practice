{
  "nbformat": 4,
  "nbformat_minor": 0,
  "metadata": {
    "colab": {
      "provenance": [],
      "authorship_tag": "ABX9TyOmsRNj+D1WCsLMqNmGODKH"
    },
    "kernelspec": {
      "name": "python3",
      "display_name": "Python 3"
    },
    "language_info": {
      "name": "python"
    }
  },
  "cells": [
    {
      "cell_type": "markdown",
      "source": [
        "[Reference](https://medium.com/@kirantechblog/modify-python-functions-at-runtime-using-this-single-feature-cf249aaf70ec)"
      ],
      "metadata": {
        "id": "quzLTb92Ig89"
      }
    },
    {
      "cell_type": "code",
      "execution_count": 1,
      "metadata": {
        "id": "uA6ZkpiPH5Pw"
      },
      "outputs": [],
      "source": [
        "def say_branden():\n",
        "    print(\"Hello, branden!\")"
      ]
    },
    {
      "cell_type": "code",
      "source": [
        "def say_branden():\n",
        "    print(\"[LOG] Function is running...\")\n",
        "    print(\"Hello, branden!\")"
      ],
      "metadata": {
        "id": "ohkf51c8Io1E"
      },
      "execution_count": 2,
      "outputs": []
    },
    {
      "cell_type": "code",
      "source": [
        "def log_decorator(func):\n",
        "    def wrapper():\n",
        "        print(\"[LOG] Function is running...\")\n",
        "        func()\n",
        "    return wrapper"
      ],
      "metadata": {
        "id": "uUW4Tc31Iqj4"
      },
      "execution_count": 3,
      "outputs": []
    },
    {
      "cell_type": "code",
      "source": [
        "@log_decorator\n",
        "def say_branden():\n",
        "    print(\"Hello, branden!\")"
      ],
      "metadata": {
        "id": "ds6kVI7EIsZJ"
      },
      "execution_count": 4,
      "outputs": []
    },
    {
      "cell_type": "markdown",
      "source": [
        "# 1. Measuring Execution Time"
      ],
      "metadata": {
        "id": "GXcXocPZIyI5"
      }
    },
    {
      "cell_type": "code",
      "source": [
        "import time\n",
        "def timer_decorator(func):\n",
        "    def wrapper():\n",
        "        start = time.time()\n",
        "        func()\n",
        "        end = time.time()\n",
        "        print(f\"Execution time: {end - start:.5f} seconds\")\n",
        "    return wrapper"
      ],
      "metadata": {
        "id": "vhi1ghHOIwRL"
      },
      "execution_count": 5,
      "outputs": []
    },
    {
      "cell_type": "code",
      "source": [
        "@timer_decorator\n",
        "def slow_function():\n",
        "    time.sleep(2)\n",
        "    print(\"Done...\")\n",
        "\n",
        "slow_function()"
      ],
      "metadata": {
        "colab": {
          "base_uri": "https://localhost:8080/"
        },
        "id": "dJcv8-gzI2L8",
        "outputId": "d1601412-3d9e-40a4-900e-5563dee1ae49"
      },
      "execution_count": 6,
      "outputs": [
        {
          "output_type": "stream",
          "name": "stdout",
          "text": [
            "Done...\n",
            "Execution time: 2.00028 seconds\n"
          ]
        }
      ]
    },
    {
      "cell_type": "markdown",
      "source": [
        "# 2. Restricting Function Calls"
      ],
      "metadata": {
        "id": "SPoh-b4CI7rt"
      }
    },
    {
      "cell_type": "code",
      "source": [
        "def limit_calls(max_calls):\n",
        "    def decorator(func):\n",
        "        count = 0\n",
        "        def wrapper():\n",
        "            nonlocal count\n",
        "            if count < max_calls:\n",
        "                func()\n",
        "                count += 1\n",
        "            else:\n",
        "                print(\"Function call limit reached!\")\n",
        "        return wrapper\n",
        "    return decorator"
      ],
      "metadata": {
        "id": "csigl3ntI35G"
      },
      "execution_count": 7,
      "outputs": []
    },
    {
      "cell_type": "code",
      "source": [
        "@limit_calls(3)\n",
        "def greet():\n",
        "    print(\"Hello!\")\n",
        "\n",
        "greet()\n",
        "greet()\n",
        "greet()\n",
        "greet()  # This one will not run"
      ],
      "metadata": {
        "colab": {
          "base_uri": "https://localhost:8080/"
        },
        "id": "aIScJIyaI9h6",
        "outputId": "a6232770-6801-4f83-f12a-e5e4b0942883"
      },
      "execution_count": 8,
      "outputs": [
        {
          "output_type": "stream",
          "name": "stdout",
          "text": [
            "Hello!\n",
            "Hello!\n",
            "Hello!\n",
            "Function call limit reached!\n"
          ]
        }
      ]
    }
  ]
}
