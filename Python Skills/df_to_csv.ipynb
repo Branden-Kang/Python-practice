{
  "nbformat": 4,
  "nbformat_minor": 0,
  "metadata": {
    "colab": {
      "name": "df.to_csv.ipynb",
      "provenance": [],
      "authorship_tag": "ABX9TyPJ3g/HRkP+AUVAVkzHN4wJ"
    },
    "kernelspec": {
      "name": "python3",
      "display_name": "Python 3"
    },
    "language_info": {
      "name": "python"
    }
  },
  "cells": [
    {
      "cell_type": "markdown",
      "metadata": {
        "id": "BU9vXCtwMwCV"
      },
      "source": [
        "[Reference](https://medium.com/analytics-vidhya/why-df-to-csv-could-be-a-mistake-f361cf6d40bd)"
      ]
    },
    {
      "cell_type": "code",
      "metadata": {
        "id": "poE-CAguMe17"
      },
      "source": [
        "from uuid import uuid4\n",
        "import numpy as np\n",
        "import pandas as pd\n",
        "\n",
        "def generate_strings(n_rows, n_cols, taux_nan):\n",
        "    \"\"\"\n",
        "        This function is used to generate a string variables\n",
        "    \"\"\"\n",
        "    df_ = pd.DataFrame()\n",
        "    for col in range(n_cols):\n",
        "        name = f'str_{col}'\n",
        "        cats = [str(uuid4()) for _ in range(n_rows)]\n",
        "        values = np.array(cats, dtype=object)\n",
        "        nan_cnt = np.random.randint(1, int(taux_nan*n_rows))\n",
        "        index = np.random.choice(n_rows, nan_cnt, replace=False)\n",
        "        values[index] = np.nan\n",
        "        df_[name] = values\n",
        "    return df_\n",
        "\n",
        "\n",
        "def generate_numeric(n_rows, n_cols, taux_nan):\n",
        "    \"\"\"\n",
        "        This function is used to generate a numeric variables\n",
        "    \"\"\"\n",
        "    df_ = pd.DataFrame()\n",
        "    for col in range(n_cols):\n",
        "        name = f'num_{col}'\n",
        "        nums = np.random.normal(0, 1, n_rows)\n",
        "        nan_cnt = np.random.randint(1, int(taux_nan*n_rows))\n",
        "        index = np.random.choice(n_rows, nan_cnt, replace=False)\n",
        "        nums[index] = np.nan\n",
        "        df_[name] = nums\n",
        "    return df_\n",
        "\n",
        "\n",
        "def generate_dates(n_rows, n_cols, taux_nan):\n",
        "    \"\"\"\n",
        "        This function is used to generate a dates variables\n",
        "    \"\"\"\n",
        "    df_ = pd.DataFrame()\n",
        "    for col in range(n_cols):\n",
        "        name = f'date_{col}'\n",
        "        dates_initial = pd.date_range(start='2010-01-01', end='2021-03-01')\n",
        "        dates = np.random.choice(dates_initial, n_rows,    \n",
        "                                                       replace=True)\n",
        "        nan_cnt = np.random.randint(1, int(taux_nan*n_rows))\n",
        "        index = np.random.choice(n_rows, nan_cnt, replace=False)\n",
        "        dates[index] = None\n",
        "        df_[name] = dates\n",
        "    return df_\n",
        "def generate_categories(n_rows, n_cols, taux_nan):\n",
        "    \"\"\"\n",
        "        This function is used to generate a categorical variables\n",
        "    \"\"\"\n",
        "    df_ = pd.DataFrame()\n",
        "    for col in range(n_cols):\n",
        "        name = f'cat_{col}'\n",
        "        cats = [str(uuid4()) for _ in range(n_rows)]\n",
        "        values = pd.Categorical(cats)\n",
        "        nan_cnt = np.random.randint(1, int(taux_nan*n_rows))\n",
        "        index = np.random.choice(n_rows, nan_cnt, replace=False)\n",
        "        values[index] = np.nan\n",
        "        df_[name] = values\n",
        "    return df_\n",
        "    \n",
        "def generate_df():\n",
        "    \"\"\"\n",
        "        This function is used to generate all data\n",
        "        -------\n",
        "        Returns : Pandas dataframe\n",
        "    \"\"\"\n",
        "    n_rows, n_cols, taux_nan = 100000, 6, 0.05\n",
        "    df_string = generate_strings(n_rows, n_cols, taux_nan)\n",
        "    df_nums = generate_numeric(n_rows, n_cols, taux_nan)\n",
        "    df_dates = generate_dates(n_rows, 2, taux_nan)\n",
        "    df_cats = generate_categories(n_rows, n_cols, taux_nan)\n",
        "    df_ = pd.concat([df_string, df_nums, df_dates, df_cats], axis=1)\n",
        "    return df_\n",
        "    \n",
        "df = generate_df()"
      ],
      "execution_count": 5,
      "outputs": []
    },
    {
      "cell_type": "code",
      "metadata": {
        "colab": {
          "base_uri": "https://localhost:8080/",
          "height": 443
        },
        "id": "Ll9wfeksMzeK",
        "outputId": "4e542f9a-c106-47b9-e3ec-0b04d4775a63"
      },
      "source": [
        "df.to_csv('./results/df.csv', index=False) #We save our df using csv\n",
        "df.to_parquet('./results/df.parquet', compression='gzip') #We save same df using Parquet"
      ],
      "execution_count": 6,
      "outputs": [
        {
          "output_type": "error",
          "ename": "FileNotFoundError",
          "evalue": "ignored",
          "traceback": [
            "\u001b[0;31m---------------------------------------------------------------------------\u001b[0m",
            "\u001b[0;31mFileNotFoundError\u001b[0m                         Traceback (most recent call last)",
            "\u001b[0;32m<ipython-input-6-3f6747eca8bd>\u001b[0m in \u001b[0;36m<module>\u001b[0;34m()\u001b[0m\n\u001b[0;32m----> 1\u001b[0;31m \u001b[0mdf\u001b[0m\u001b[0;34m.\u001b[0m\u001b[0mto_csv\u001b[0m\u001b[0;34m(\u001b[0m\u001b[0;34m'./results/df.csv'\u001b[0m\u001b[0;34m,\u001b[0m \u001b[0mindex\u001b[0m\u001b[0;34m=\u001b[0m\u001b[0;32mFalse\u001b[0m\u001b[0;34m)\u001b[0m \u001b[0;31m#We save our df using csv\u001b[0m\u001b[0;34m\u001b[0m\u001b[0;34m\u001b[0m\u001b[0m\n\u001b[0m\u001b[1;32m      2\u001b[0m \u001b[0mdf\u001b[0m\u001b[0;34m.\u001b[0m\u001b[0mto_parquet\u001b[0m\u001b[0;34m(\u001b[0m\u001b[0;34m'./results/df.parquet'\u001b[0m\u001b[0;34m,\u001b[0m \u001b[0mcompression\u001b[0m\u001b[0;34m=\u001b[0m\u001b[0;34m'gzip'\u001b[0m\u001b[0;34m)\u001b[0m \u001b[0;31m#We save same df using Parquet\u001b[0m\u001b[0;34m\u001b[0m\u001b[0;34m\u001b[0m\u001b[0m\n",
            "\u001b[0;32m/usr/local/lib/python3.7/dist-packages/pandas/core/generic.py\u001b[0m in \u001b[0;36mto_csv\u001b[0;34m(self, path_or_buf, sep, na_rep, float_format, columns, header, index, index_label, mode, encoding, compression, quoting, quotechar, line_terminator, chunksize, date_format, doublequote, escapechar, decimal, errors)\u001b[0m\n\u001b[1;32m   3168\u001b[0m             \u001b[0mdecimal\u001b[0m\u001b[0;34m=\u001b[0m\u001b[0mdecimal\u001b[0m\u001b[0;34m,\u001b[0m\u001b[0;34m\u001b[0m\u001b[0;34m\u001b[0m\u001b[0m\n\u001b[1;32m   3169\u001b[0m         )\n\u001b[0;32m-> 3170\u001b[0;31m         \u001b[0mformatter\u001b[0m\u001b[0;34m.\u001b[0m\u001b[0msave\u001b[0m\u001b[0;34m(\u001b[0m\u001b[0;34m)\u001b[0m\u001b[0;34m\u001b[0m\u001b[0;34m\u001b[0m\u001b[0m\n\u001b[0m\u001b[1;32m   3171\u001b[0m \u001b[0;34m\u001b[0m\u001b[0m\n\u001b[1;32m   3172\u001b[0m         \u001b[0;32mif\u001b[0m \u001b[0mpath_or_buf\u001b[0m \u001b[0;32mis\u001b[0m \u001b[0;32mNone\u001b[0m\u001b[0;34m:\u001b[0m\u001b[0;34m\u001b[0m\u001b[0;34m\u001b[0m\u001b[0m\n",
            "\u001b[0;32m/usr/local/lib/python3.7/dist-packages/pandas/io/formats/csvs.py\u001b[0m in \u001b[0;36msave\u001b[0;34m(self)\u001b[0m\n\u001b[1;32m    188\u001b[0m                 \u001b[0mencoding\u001b[0m\u001b[0;34m=\u001b[0m\u001b[0mself\u001b[0m\u001b[0;34m.\u001b[0m\u001b[0mencoding\u001b[0m\u001b[0;34m,\u001b[0m\u001b[0;34m\u001b[0m\u001b[0;34m\u001b[0m\u001b[0m\n\u001b[1;32m    189\u001b[0m                 \u001b[0merrors\u001b[0m\u001b[0;34m=\u001b[0m\u001b[0mself\u001b[0m\u001b[0;34m.\u001b[0m\u001b[0merrors\u001b[0m\u001b[0;34m,\u001b[0m\u001b[0;34m\u001b[0m\u001b[0;34m\u001b[0m\u001b[0m\n\u001b[0;32m--> 190\u001b[0;31m                 \u001b[0mcompression\u001b[0m\u001b[0;34m=\u001b[0m\u001b[0mdict\u001b[0m\u001b[0;34m(\u001b[0m\u001b[0mself\u001b[0m\u001b[0;34m.\u001b[0m\u001b[0mcompression_args\u001b[0m\u001b[0;34m,\u001b[0m \u001b[0mmethod\u001b[0m\u001b[0;34m=\u001b[0m\u001b[0mself\u001b[0m\u001b[0;34m.\u001b[0m\u001b[0mcompression\u001b[0m\u001b[0;34m)\u001b[0m\u001b[0;34m,\u001b[0m\u001b[0;34m\u001b[0m\u001b[0;34m\u001b[0m\u001b[0m\n\u001b[0m\u001b[1;32m    191\u001b[0m             )\n\u001b[1;32m    192\u001b[0m             \u001b[0mclose\u001b[0m \u001b[0;34m=\u001b[0m \u001b[0;32mTrue\u001b[0m\u001b[0;34m\u001b[0m\u001b[0;34m\u001b[0m\u001b[0m\n",
            "\u001b[0;32m/usr/local/lib/python3.7/dist-packages/pandas/io/common.py\u001b[0m in \u001b[0;36mget_handle\u001b[0;34m(path_or_buf, mode, encoding, compression, memory_map, is_text, errors)\u001b[0m\n\u001b[1;32m    491\u001b[0m         \u001b[0;32mif\u001b[0m \u001b[0mencoding\u001b[0m\u001b[0;34m:\u001b[0m\u001b[0;34m\u001b[0m\u001b[0;34m\u001b[0m\u001b[0m\n\u001b[1;32m    492\u001b[0m             \u001b[0;31m# Encoding\u001b[0m\u001b[0;34m\u001b[0m\u001b[0;34m\u001b[0m\u001b[0;34m\u001b[0m\u001b[0m\n\u001b[0;32m--> 493\u001b[0;31m             \u001b[0mf\u001b[0m \u001b[0;34m=\u001b[0m \u001b[0mopen\u001b[0m\u001b[0;34m(\u001b[0m\u001b[0mpath_or_buf\u001b[0m\u001b[0;34m,\u001b[0m \u001b[0mmode\u001b[0m\u001b[0;34m,\u001b[0m \u001b[0mencoding\u001b[0m\u001b[0;34m=\u001b[0m\u001b[0mencoding\u001b[0m\u001b[0;34m,\u001b[0m \u001b[0merrors\u001b[0m\u001b[0;34m=\u001b[0m\u001b[0merrors\u001b[0m\u001b[0;34m,\u001b[0m \u001b[0mnewline\u001b[0m\u001b[0;34m=\u001b[0m\u001b[0;34m\"\"\u001b[0m\u001b[0;34m)\u001b[0m\u001b[0;34m\u001b[0m\u001b[0;34m\u001b[0m\u001b[0m\n\u001b[0m\u001b[1;32m    494\u001b[0m         \u001b[0;32melif\u001b[0m \u001b[0mis_text\u001b[0m\u001b[0;34m:\u001b[0m\u001b[0;34m\u001b[0m\u001b[0;34m\u001b[0m\u001b[0m\n\u001b[1;32m    495\u001b[0m             \u001b[0;31m# No explicit encoding\u001b[0m\u001b[0;34m\u001b[0m\u001b[0;34m\u001b[0m\u001b[0;34m\u001b[0m\u001b[0m\n",
            "\u001b[0;31mFileNotFoundError\u001b[0m: [Errno 2] No such file or directory: './results/df.csv'"
          ]
        }
      ]
    }
  ]
}