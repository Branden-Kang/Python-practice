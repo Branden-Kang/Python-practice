{
  "nbformat": 4,
  "nbformat_minor": 0,
  "metadata": {
    "colab": {
      "provenance": [],
      "authorship_tag": "ABX9TyPswE2GfHmWd5jKytcJNpaP"
    },
    "kernelspec": {
      "name": "python3",
      "display_name": "Python 3"
    },
    "language_info": {
      "name": "python"
    }
  },
  "cells": [
    {
      "cell_type": "markdown",
      "source": [
        "[Reference](https://python.plainenglish.io/boosting-python-code-performance-with-memoization-d98efd735902)"
      ],
      "metadata": {
        "id": "AgNBfLJyMknp"
      }
    },
    {
      "cell_type": "code",
      "execution_count": 1,
      "metadata": {
        "id": "A9CJF4VIMiau"
      },
      "outputs": [],
      "source": [
        "def fibonacci(n, cache={}):\n",
        "    if n in cache:\n",
        "        return cache[n]\n",
        "    if n < 2:\n",
        "        return n\n",
        "    result = fibonacci(n-1) + fibonacci(n-2)\n",
        "    cache[n] = result\n",
        "    return result"
      ]
    },
    {
      "cell_type": "code",
      "source": [
        "print(fibonacci(10)) # prints 55"
      ],
      "metadata": {
        "colab": {
          "base_uri": "https://localhost:8080/"
        },
        "id": "aOXkRdQTNnQ2",
        "outputId": "19d1fe83-1ffe-44cd-944e-8b20bc4779fa"
      },
      "execution_count": 2,
      "outputs": [
        {
          "output_type": "stream",
          "name": "stdout",
          "text": [
            "55\n"
          ]
        }
      ]
    },
    {
      "cell_type": "code",
      "source": [
        "def longest_common_subsequence(s1, s2, i=0, j=0, cache={}):\n",
        "    if (i, j) in cache:\n",
        "        return cache[(i, j)]\n",
        "    if i == len(s1) or j == len(s2):\n",
        "        result = ''\n",
        "    elif s1[i] == s2[j]:\n",
        "        result = s1[i] + longest_common_subsequence(s1, s2, i+1, j+1)\n",
        "    else:\n",
        "        result1 = longest_common_subsequence(s1, s2, i+1, j)\n",
        "        result2 = longest_common_subsequence(s1, s2, i, j+1)\n",
        "        result = result1 if len(result1) > len(result2) else result2\n",
        "    cache[(i, j)] = result\n",
        "    return result"
      ],
      "metadata": {
        "id": "mlGl4NvdNrx9"
      },
      "execution_count": 3,
      "outputs": []
    },
    {
      "cell_type": "code",
      "source": [
        "import os\n",
        "import hashlib\n",
        "\n",
        "def get_file_contents(filename):\n",
        "    if filename in get_file_contents.cache:\n",
        "        return get_file_contents.cache[filename]\n",
        "    with open(filename, 'r') as f:\n",
        "        contents = f.read()\n",
        "    get_file_contents.cache[filename] = contents\n",
        "    return contents\n",
        "\n",
        "get_file_contents.cache = {}\n",
        "\n",
        "def hash_file(filename):\n",
        "    if filename in hash_file.cache:\n",
        "        return hash_file.cache[filename]\n",
        "    contents = get_file_contents(filename)\n",
        "    h = hashlib.sha256(contents.encode('utf-8')).hexdigest()\n",
        "    hash_file.cache[filename] = h\n",
        "    return h"
      ],
      "metadata": {
        "id": "Vf0XJz7ENtOJ"
      },
      "execution_count": 4,
      "outputs": []
    },
    {
      "cell_type": "code",
      "source": [
        "class Memoize:\n",
        "    def __init__(self, func):\n",
        "        self.func = func\n",
        "        self.cache = {}\n",
        "    def __call__(self, *args):\n",
        "        if args in self.cache:\n",
        "            return self.cache[args]\n",
        "        result = self.func(*args)\n",
        "        self.cache[args] = result\n",
        "        return result"
      ],
      "metadata": {
        "id": "zDyVkQB0Nubj"
      },
      "execution_count": 5,
      "outputs": []
    },
    {
      "cell_type": "code",
      "source": [
        "@Memoize\n",
        "def fibonacci(n):\n",
        "    if n < 2:\n",
        "        return n\n",
        "    return fibonacci(n-1) + fibonacci(n-2)"
      ],
      "metadata": {
        "id": "SOA4sa7fNvWt"
      },
      "execution_count": 6,
      "outputs": []
    },
    {
      "cell_type": "code",
      "source": [
        "print(fibonacci(10)) # prints 55"
      ],
      "metadata": {
        "colab": {
          "base_uri": "https://localhost:8080/"
        },
        "id": "vPxRxm6tNwRm",
        "outputId": "232ea42e-3ebb-47e9-899c-832dbb71d31b"
      },
      "execution_count": 7,
      "outputs": [
        {
          "output_type": "stream",
          "name": "stdout",
          "text": [
            "55\n"
          ]
        }
      ]
    },
    {
      "cell_type": "code",
      "source": [
        "@Memoize\n",
        "def divide_and_conquer(n):\n",
        "    if n == 1:\n",
        "        return (0, 1)\n",
        "    m = n // 2\n",
        "    left = divide_and_conquer(m)\n",
        "    right = divide_and_conquer(n-m)\n",
        "    return (left[0] + right[0] + left[1] * right[1], left[1] * right[1])"
      ],
      "metadata": {
        "id": "7OzlK5OQNx19"
      },
      "execution_count": 9,
      "outputs": []
    },
    {
      "cell_type": "code",
      "source": [
        "@Memoize\n",
        "def count_possible_sums(coins, amount, i=0):\n",
        "    if amount == 0:\n",
        "        return 1\n",
        "    elif amount < 0 or i == len(coins):\n",
        "        return 0\n",
        "    return count_possible_sums(coins, amount-coins[i], i) + count_possible_sums(coins, amount, i+1)"
      ],
      "metadata": {
        "id": "Tmv2W6QIN1HH"
      },
      "execution_count": 10,
      "outputs": []
    }
  ]
}
