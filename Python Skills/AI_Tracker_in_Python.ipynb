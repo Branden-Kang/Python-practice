{
  "nbformat": 4,
  "nbformat_minor": 0,
  "metadata": {
    "colab": {
      "name": "AI Tracker in Python.ipynb",
      "provenance": [],
      "authorship_tag": "ABX9TyMXPtG1xlfvbvrcfNOc5WbC"
    },
    "kernelspec": {
      "name": "python3",
      "display_name": "Python 3"
    }
  },
  "cells": [
    {
      "cell_type": "markdown",
      "metadata": {
        "id": "J8bnZ_8Dm8sn"
      },
      "source": [
        "[Reference](https://codeburst.io/make-an-ai-tracker-7dc1c5afccc5)"
      ]
    },
    {
      "cell_type": "markdown",
      "metadata": {
        "id": "DHm36NH6nB63"
      },
      "source": [
        "```python\n",
        "import cv2\n",
        "video = cv2.VideoCapture('# Your video file goes here')\n",
        "car_tracker_file = 'cars.xml' # files from library of OpenCV\n",
        "car_tracker = cv2.CascadeClassifier(car_tracker_file)\n",
        "pedestrian_tracker_file = 'pedestrian.xml' # files from library of OpenCV\n",
        "pedestrian_tracker = cv2.CascadeClassifier('pedestrian.xml')\n",
        "while True:\n",
        "    (success, frame) = video.read()\n",
        "    if success:\n",
        "        grayscaled_frame = cv2.cvtColor(frame, cv2.COLOR_BGR2GRAY)\n",
        "    else:\n",
        "        break\n",
        "    cars = car_tracker.detectMultiScale(grayscaled_frame)\n",
        "    pedestrians = pedestrian_tracker.detectMultiScale(grayscaled_frame)\n",
        "    for (x, y, w, h) in cars:\n",
        "        cv2.rectangle(frame, (x, y), (x+w, y+h), (0, 0, 255), 2)\n",
        "    for (x, y, w, h) in pedestrians:\n",
        "        cv2.rectangle(frame, (x, y), (x+w, y+h), (0, 255, 0), 2)\n",
        "    cv2.imshow('AI Driven Car Tracker', frame)\n",
        "    key = cv2.waitKey(1)\n",
        "    if key==81 or key==113:\n",
        "        break\n",
        "video.release()\n",
        "```"
      ]
    }
  ]
}