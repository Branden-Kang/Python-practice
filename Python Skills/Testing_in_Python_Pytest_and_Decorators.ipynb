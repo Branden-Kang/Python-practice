{
  "nbformat": 4,
  "nbformat_minor": 0,
  "metadata": {
    "colab": {
      "provenance": [],
      "authorship_tag": "ABX9TyPL6UrFatnOFIpMQEHgRagG"
    },
    "kernelspec": {
      "name": "python3",
      "display_name": "Python 3"
    },
    "language_info": {
      "name": "python"
    }
  },
  "cells": [
    {
      "cell_type": "markdown",
      "source": [
        "[Reference](https://code.likeagirl.io/testing-in-python-pytest-and-decorators-53ff8e564cd9)"
      ],
      "metadata": {
        "id": "3hCpQtAh7t20"
      }
    },
    {
      "cell_type": "code",
      "execution_count": 1,
      "metadata": {
        "colab": {
          "base_uri": "https://localhost:8080/"
        },
        "id": "1UQZCKR17hS8",
        "outputId": "d45478e6-cbb6-4b71-e1c8-ce8f7a8ed633"
      },
      "outputs": [
        {
          "output_type": "stream",
          "name": "stdout",
          "text": [
            "Starting my_function function...\n",
            "Finished my_function function.\n",
            "5\n"
          ]
        }
      ],
      "source": [
        "def log(func):\n",
        "    def wrapper(*args, **kwargs):\n",
        "        print(f\"Starting {func.__name__} function...\")\n",
        "        result = func(*args, **kwargs)\n",
        "        print(f\"Finished {func.__name__} function.\")\n",
        "        return result\n",
        "    return wrapper\n",
        "\n",
        "@log\n",
        "def my_function(x, y):\n",
        "    return x + y\n",
        "\n",
        "result = my_function(2, 3)\n",
        "print(result)"
      ]
    },
    {
      "cell_type": "code",
      "source": [
        "import pytest\n",
        "import my_database_module\n",
        "\n",
        "@pytest.fixture\n",
        "def my_database():\n",
        "    db = my_database_module.Database('test_db')\n",
        "    db.connect()\n",
        "    yield db\n",
        "    db.disconnect()"
      ],
      "metadata": {
        "id": "fcdajfzS7wVB"
      },
      "execution_count": 2,
      "outputs": []
    },
    {
      "cell_type": "code",
      "source": [
        "def test_my_database_query(my_database):\n",
        "    result = my_database.query('SELECT * FROM my_table')\n",
        "    assert len(result) > 0"
      ],
      "metadata": {
        "id": "rYI9OHTZ7zCM"
      },
      "execution_count": 3,
      "outputs": []
    },
    {
      "cell_type": "code",
      "source": [
        "import pytest\n",
        "\n",
        "@pytest.fixture\n",
        "def sample_data():\n",
        "    # This fixture returns a dictionary with some sample data\n",
        "    return {\n",
        "        'name': 'John',\n",
        "        'age': 30,\n",
        "        'email': 'john@example.com'\n",
        "    }\n",
        "\n",
        "def test_name(sample_data):\n",
        "    assert sample_data['name'] == 'John'\n",
        "\n",
        "\n",
        "def test_age(sample_data):\n",
        "    assert sample_data['age'] == 30\n",
        "\n",
        "\n",
        "def test_email(sample_data):\n",
        "    assert sample_data['email'] == 'john@example.com'"
      ],
      "metadata": {
        "id": "EN19OYbZ70BQ"
      },
      "execution_count": 4,
      "outputs": []
    }
  ]
}
