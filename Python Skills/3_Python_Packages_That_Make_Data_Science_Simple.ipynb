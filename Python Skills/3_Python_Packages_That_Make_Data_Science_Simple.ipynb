{
  "nbformat": 4,
  "nbformat_minor": 0,
  "metadata": {
    "colab": {
      "name": "3 Python Packages That Make Data Science Simple.ipynb",
      "provenance": [],
      "authorship_tag": "ABX9TyMgDXqPIBNTYJ/keLx6ZEHa"
    },
    "kernelspec": {
      "name": "python3",
      "display_name": "Python 3"
    },
    "language_info": {
      "name": "python"
    }
  },
  "cells": [
    {
      "cell_type": "markdown",
      "metadata": {
        "id": "F139eIWvd6xX"
      },
      "source": [
        "[Reference](https://medium.com/trymito/3-python-packages-that-make-data-science-simple-25695dc565d)"
      ]
    },
    {
      "cell_type": "markdown",
      "metadata": {
        "id": "uwiuxmWad9vO"
      },
      "source": [
        "# 1. Mito"
      ]
    },
    {
      "cell_type": "code",
      "metadata": {
        "id": "uFWDuNXVd4Gv"
      },
      "source": [
        "# python -m pip install mitoinstaller\n",
        "# python -m mitoinstaller install\n",
        "# python -m jupyter lab"
      ],
      "execution_count": 1,
      "outputs": []
    },
    {
      "cell_type": "markdown",
      "metadata": {
        "id": "SAlvVLtmeeln"
      },
      "source": [
        "# 2.Pandas Profiling"
      ]
    },
    {
      "cell_type": "code",
      "metadata": {
        "id": "eDsFIPTLeQCf"
      },
      "source": [
        "# import sys\n",
        "# !{sys.executable} -m pip install -U pandas-profiling[notebook]\n",
        "# !jupyter nbextension enable --py widgetsnbextension"
      ],
      "execution_count": 2,
      "outputs": []
    },
    {
      "cell_type": "markdown",
      "metadata": {
        "id": "FLHuOt1NemIZ"
      },
      "source": [
        "# 3. Lux"
      ]
    },
    {
      "cell_type": "code",
      "metadata": {
        "id": "OWt7u4DBekUU"
      },
      "source": [
        "# pip install lux-api"
      ],
      "execution_count": 3,
      "outputs": []
    }
  ]
}