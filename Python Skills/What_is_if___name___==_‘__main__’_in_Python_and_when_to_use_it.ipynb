{
  "nbformat": 4,
  "nbformat_minor": 0,
  "metadata": {
    "colab": {
      "provenance": [],
      "authorship_tag": "ABX9TyNEfKkwQLoqeff2BHNgIDDD"
    },
    "kernelspec": {
      "name": "python3",
      "display_name": "Python 3"
    },
    "language_info": {
      "name": "python"
    }
  },
  "cells": [
    {
      "cell_type": "markdown",
      "source": [
        "[Reference](https://medium.com/@BetterEverything/what-is-if-name-main-in-python-and-when-to-use-it-fa57691f5763)"
      ],
      "metadata": {
        "id": "eSlQnUtmv07W"
      }
    },
    {
      "cell_type": "markdown",
      "source": [
        "# Example 1 — Running a file with if __name__ == ‘__main__’:"
      ],
      "metadata": {
        "id": "vQfKP1yXv5-g"
      }
    },
    {
      "cell_type": "code",
      "execution_count": 1,
      "metadata": {
        "colab": {
          "base_uri": "https://localhost:8080/"
        },
        "id": "Qur_wVEEvzfO",
        "outputId": "0e2f4ee1-bb20-4f50-f6e5-4fd0c72bed04"
      },
      "outputs": [
        {
          "output_type": "stream",
          "name": "stdout",
          "text": [
            "__main__\n",
            "This code is in a file that is run\n"
          ]
        }
      ],
      "source": [
        "print(__name__)\n",
        "\n",
        "def test():\n",
        "    print(\"Test Function\")\n",
        "\n",
        "if __name__ == '__main__':\n",
        "    print('This code is in a file that is run')"
      ]
    },
    {
      "cell_type": "markdown",
      "source": [
        "# Example 2 — Importing a file with if __name__ == ‘__main__’:"
      ],
      "metadata": {
        "id": "hjKhcZ8Nv7OK"
      }
    },
    {
      "cell_type": "markdown",
      "source": [
        "``` help_functions.py\n",
        "print(__name__)\n",
        "\n",
        "def test():\n",
        "    print(\"Test Function\")\n",
        "\n",
        "if __name__ == '__main__':\n",
        "    print('This code is in a file that is run')\n",
        "```"
      ],
      "metadata": {
        "id": "pdnzWrOlwAzP"
      }
    },
    {
      "cell_type": "code",
      "source": [
        "# print(__name__)\n",
        "\n",
        "# def test():\n",
        "#     print(\"Test Function\")\n",
        "\n",
        "# if __name__ == '__main__':\n",
        "#     print('This code is in a file that is run')\n",
        "# # help_functions"
      ],
      "metadata": {
        "id": "ClGBiYFCv5Ra"
      },
      "execution_count": 3,
      "outputs": []
    }
  ]
}
