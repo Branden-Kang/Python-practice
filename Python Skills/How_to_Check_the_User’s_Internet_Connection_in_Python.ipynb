{
  "nbformat": 4,
  "nbformat_minor": 0,
  "metadata": {
    "colab": {
      "name": "How to Check the User’s Internet Connection in Python.ipynb",
      "provenance": [],
      "authorship_tag": "ABX9TyPQcjmr3/OJqECjdbPK3k8/"
    },
    "kernelspec": {
      "name": "python3",
      "display_name": "Python 3"
    }
  },
  "cells": [
    {
      "cell_type": "markdown",
      "metadata": {
        "id": "IK0kus5i53Pm"
      },
      "source": [
        "[Reference](https://medium.com/better-programming/how-to-check-the-users-internet-connection-in-python-224e32d870c8)"
      ]
    },
    {
      "cell_type": "code",
      "metadata": {
        "id": "R5oIRVOC51JO"
      },
      "source": [
        "try:\n",
        "    import httplib\n",
        "except:\n",
        "    import http.client as httplib\n",
        "\n",
        "def checkInternetHttplib(url=\"www.google.com\", timeout=3):\n",
        "    conn = httplib.HTTPConnection(url, timeout=timeout)\n",
        "    try:\n",
        "        conn.request(\"HEAD\", \"/\")\n",
        "        conn.close()\n",
        "        return True\n",
        "    except Exception as e:\n",
        "        print(e)\n",
        "        return False"
      ],
      "execution_count": 3,
      "outputs": []
    },
    {
      "cell_type": "code",
      "metadata": {
        "id": "QVuPDy_T6CWL",
        "outputId": "3431e463-098a-4000-e4fd-398a5fd58ebb",
        "colab": {
          "base_uri": "https://localhost:8080/"
        }
      },
      "source": [
        "checkInternetHttplib()"
      ],
      "execution_count": 4,
      "outputs": [
        {
          "output_type": "execute_result",
          "data": {
            "text/plain": [
              "True"
            ]
          },
          "metadata": {
            "tags": []
          },
          "execution_count": 4
        }
      ]
    },
    {
      "cell_type": "code",
      "metadata": {
        "id": "v5yjP_JM5-jk"
      },
      "source": [
        "import socket\n",
        "\n",
        "def checkInternetSocket(host=\"8.8.8.8\", port=53, timeout=3):\n",
        "    try:\n",
        "        socket.setdefaulttimeout(timeout)\n",
        "        socket.socket(socket.AF_INET, socket.SOCK_STREAM).connect((host, port))\n",
        "        return True\n",
        "    except socket.error as ex:\n",
        "        print(ex)\n",
        "        return False"
      ],
      "execution_count": 5,
      "outputs": []
    },
    {
      "cell_type": "code",
      "metadata": {
        "id": "pc33o5Ip6Br0",
        "outputId": "28e60864-338a-496b-daa4-29e88b87e1ab",
        "colab": {
          "base_uri": "https://localhost:8080/"
        }
      },
      "source": [
        "checkInternetHttplib()"
      ],
      "execution_count": 7,
      "outputs": [
        {
          "output_type": "execute_result",
          "data": {
            "text/plain": [
              "True"
            ]
          },
          "metadata": {
            "tags": []
          },
          "execution_count": 7
        }
      ]
    },
    {
      "cell_type": "code",
      "metadata": {
        "id": "H5_prvH76Fld"
      },
      "source": [
        "import requests\n",
        "\n",
        "def checkInternetRequests(url='http://www.google.com/', timeout=3):\n",
        "    try:\n",
        "        #r = requests.get(url, timeout=timeout)\n",
        "        r = requests.head(url, timeout=timeout)\n",
        "        return True\n",
        "    except requests.ConnectionError as ex:\n",
        "        print(ex)\n",
        "        return False"
      ],
      "execution_count": 8,
      "outputs": []
    },
    {
      "cell_type": "code",
      "metadata": {
        "id": "oz7Uxif06KlM",
        "outputId": "9999c1e7-3428-4eb6-80df-3ae46c501e0c",
        "colab": {
          "base_uri": "https://localhost:8080/"
        }
      },
      "source": [
        "checkInternetHttplib()"
      ],
      "execution_count": 9,
      "outputs": [
        {
          "output_type": "execute_result",
          "data": {
            "text/plain": [
              "True"
            ]
          },
          "metadata": {
            "tags": []
          },
          "execution_count": 9
        }
      ]
    },
    {
      "cell_type": "code",
      "metadata": {
        "id": "XGyu-3_V6Laa"
      },
      "source": [
        "import urllib.request\n",
        "\n",
        "def checkInternetUrllib(url='http://google.com', timeout=3):\n",
        "    try:\n",
        "        urllib.request.urlopen(url, timeout=timeout)\n",
        "        return True\n",
        "    except Exception as e:\n",
        "        print(e)\n",
        "        return False"
      ],
      "execution_count": 10,
      "outputs": []
    },
    {
      "cell_type": "code",
      "metadata": {
        "id": "N2TsKxk66Rhq",
        "outputId": "3da9a2a2-6426-45cc-9efc-722b50719fba",
        "colab": {
          "base_uri": "https://localhost:8080/"
        }
      },
      "source": [
        "checkInternetHttplib()"
      ],
      "execution_count": 11,
      "outputs": [
        {
          "output_type": "execute_result",
          "data": {
            "text/plain": [
              "True"
            ]
          },
          "metadata": {
            "tags": []
          },
          "execution_count": 11
        }
      ]
    }
  ]
}