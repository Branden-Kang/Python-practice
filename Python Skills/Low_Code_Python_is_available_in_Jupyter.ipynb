{
  "nbformat": 4,
  "nbformat_minor": 0,
  "metadata": {
    "colab": {
      "name": "Low Code Python is available in Jupyter.ipynb",
      "provenance": [],
      "authorship_tag": "ABX9TyOPHuyICtrTb6I457rB0PNR"
    },
    "kernelspec": {
      "name": "python3",
      "display_name": "Python 3"
    },
    "language_info": {
      "name": "python"
    }
  },
  "cells": [
    {
      "cell_type": "markdown",
      "metadata": {
        "id": "IEZuu_srX-Yr"
      },
      "source": [
        "[Reference](https://medium.com/trymito/low-code-python-is-available-in-jupyter-c4eea54d5efd)"
      ]
    },
    {
      "cell_type": "markdown",
      "metadata": {
        "id": "uZI2J_02Yy4I"
      },
      "source": [
        "# BambooLib"
      ]
    },
    {
      "cell_type": "code",
      "metadata": {
        "id": "J2NwYQSAX5as"
      },
      "source": [
        "import bamboolib as bam\n",
        "import pandas as pd\n",
        "df = pd.read_csv(bam.titanic_csv)\n",
        "df"
      ],
      "execution_count": 1,
      "outputs": []
    },
    {
      "cell_type": "markdown",
      "metadata": {
        "id": "cKwnxJ7iY1hm"
      },
      "source": [
        "# Lux"
      ]
    },
    {
      "cell_type": "code",
      "metadata": {
        "id": "p81_Na_cYGV3"
      },
      "source": [
        "import lux\n",
        "import pandas as pd"
      ],
      "execution_count": 2,
      "outputs": []
    },
    {
      "cell_type": "markdown",
      "metadata": {
        "id": "SeS2O1F5Y3Sr"
      },
      "source": [
        "# Mito"
      ]
    },
    {
      "cell_type": "code",
      "metadata": {
        "id": "pZ4n1pNnYHqN"
      },
      "source": [
        "!pip install mitoinstaller\n",
        "!python -m mitoinstaller install\n",
        "!jupyter lab"
      ],
      "execution_count": 3,
      "outputs": []
    },
    {
      "cell_type": "code",
      "metadata": {
        "id": "HPQLV5dZYole"
      },
      "source": [
        "import mitosheet\n",
        "mitosheet.sheet()"
      ],
      "execution_count": 4,
      "outputs": []
    }
  ]
}