{
  "nbformat": 4,
  "nbformat_minor": 0,
  "metadata": {
    "colab": {
      "name": "5 Useful Things to Know in Python.ipynb",
      "provenance": [],
      "authorship_tag": "ABX9TyNpfSzVI7Ad2dlJAeTL+P0e"
    },
    "kernelspec": {
      "name": "python3",
      "display_name": "Python 3"
    }
  },
  "cells": [
    {
      "cell_type": "markdown",
      "metadata": {
        "id": "HHoub7_XVOm3"
      },
      "source": [
        "[Reference](https://towardsdatascience.com/5-useful-things-to-know-in-python-dac0bc585673)"
      ]
    },
    {
      "cell_type": "code",
      "metadata": {
        "colab": {
          "base_uri": "https://localhost:8080/"
        },
        "id": "46OF_APyVLjM",
        "outputId": "f3fb31e6-8e62-4353-aed4-d030f46912b6"
      },
      "source": [
        "num_list = [1,2,3,4,5]\n",
        "cube_list = [num**3 for num in num_list]\n",
        "print(cube_list)"
      ],
      "execution_count": 1,
      "outputs": [
        {
          "output_type": "stream",
          "text": [
            "[1, 8, 27, 64, 125]\n"
          ],
          "name": "stdout"
        }
      ]
    },
    {
      "cell_type": "code",
      "metadata": {
        "colab": {
          "base_uri": "https://localhost:8080/"
        },
        "id": "6NGx954OWTmr",
        "outputId": "e6a54e0f-9b14-497d-f607-5e84bb47f4c8"
      },
      "source": [
        "cubes_of_odds = [num**3 for num in num_list if num%2 != 0]\n",
        "print(cubes_of_odds) "
      ],
      "execution_count": 2,
      "outputs": [
        {
          "output_type": "stream",
          "text": [
            "[1, 27, 125]\n"
          ],
          "name": "stdout"
        }
      ]
    },
    {
      "cell_type": "code",
      "metadata": {
        "colab": {
          "base_uri": "https://localhost:8080/"
        },
        "id": "ssgoh-BjWVKQ",
        "outputId": "0ce8e798-87a3-43bf-b217-44cab1f7862d"
      },
      "source": [
        "num_list = [1,1,7,3,5,3,2,9,5,1,3,2,2,2,2,2,9]\n",
        "count_dict = {num:num_list.count(num) for num in num_list}\n",
        "print(count_dict)"
      ],
      "execution_count": 3,
      "outputs": [
        {
          "output_type": "stream",
          "text": [
            "{1: 3, 7: 1, 3: 3, 5: 2, 2: 6, 9: 2}\n"
          ],
          "name": "stdout"
        }
      ]
    },
    {
      "cell_type": "code",
      "metadata": {
        "colab": {
          "base_uri": "https://localhost:8080/"
        },
        "id": "tyQ8fWTwWWyw",
        "outputId": "5b4a609d-257c-48d7-a400-17712d098f74"
      },
      "source": [
        "num_list = [1,1,7,3,5,3,2,9,5,1,3,2,2,2,2,2,9]\n",
        "count_dict = {num:num_list.count(num) for num in num_list if num_list.count(num)%2==0}\n",
        "print(count_dict)"
      ],
      "execution_count": 4,
      "outputs": [
        {
          "output_type": "stream",
          "text": [
            "{5: 2, 2: 6, 9: 2}\n"
          ],
          "name": "stdout"
        }
      ]
    },
    {
      "cell_type": "code",
      "metadata": {
        "id": "Y5hOI9pUWbAi"
      },
      "source": [
        "square = lambda num: num**2"
      ],
      "execution_count": 5,
      "outputs": []
    },
    {
      "cell_type": "code",
      "metadata": {
        "colab": {
          "base_uri": "https://localhost:8080/"
        },
        "id": "MP3b_XxvWdNu",
        "outputId": "5055cff1-6da0-4e72-f6b0-06b3211c25af"
      },
      "source": [
        "square(3)"
      ],
      "execution_count": 6,
      "outputs": [
        {
          "output_type": "execute_result",
          "data": {
            "text/plain": [
              "9"
            ]
          },
          "metadata": {
            "tags": []
          },
          "execution_count": 6
        }
      ]
    },
    {
      "cell_type": "code",
      "metadata": {
        "colab": {
          "base_uri": "https://localhost:8080/"
        },
        "id": "fP7H4zLPWeHg",
        "outputId": "b91f527e-b5ec-425e-a420-ccf9fbe2aaa8"
      },
      "source": [
        "num_list= [42, 56, 39, 59, 99]\n",
        "for index, element in enumerate(num_list):\n",
        "    print(index, element)\n"
      ],
      "execution_count": 7,
      "outputs": [
        {
          "output_type": "stream",
          "text": [
            "0 42\n",
            "1 56\n",
            "2 39\n",
            "3 59\n",
            "4 99\n"
          ],
          "name": "stdout"
        }
      ]
    },
    {
      "cell_type": "code",
      "metadata": {
        "colab": {
          "base_uri": "https://localhost:8080/"
        },
        "id": "jZlcMgfiWgvZ",
        "outputId": "601721e6-bfdb-4555-988c-215ec3826702"
      },
      "source": [
        "num_list= [42, 56, 39, 59, 99]\n",
        "for index, element in enumerate(num_list, start=1):\n",
        "    print(index, element)"
      ],
      "execution_count": 8,
      "outputs": [
        {
          "output_type": "stream",
          "text": [
            "1 42\n",
            "2 56\n",
            "3 39\n",
            "4 59\n",
            "5 99\n"
          ],
          "name": "stdout"
        }
      ]
    },
    {
      "cell_type": "code",
      "metadata": {
        "colab": {
          "base_uri": "https://localhost:8080/"
        },
        "id": "nLjujvljWiZu",
        "outputId": "64fb76f5-047e-4309-c8b0-4c42cb5f4a09"
      },
      "source": [
        "first_names = ['Jane', 'John', 'Jennifer']\n",
        "last_names = ['Doe', 'Williams', 'Smith']\n",
        "\n",
        "full_names = list(zip(first_names, last_names))\n",
        "print(full_names)"
      ],
      "execution_count": 9,
      "outputs": [
        {
          "output_type": "stream",
          "text": [
            "[('Jane', 'Doe'), ('John', 'Williams'), ('Jennifer', 'Smith')]\n"
          ],
          "name": "stdout"
        }
      ]
    },
    {
      "cell_type": "code",
      "metadata": {
        "colab": {
          "base_uri": "https://localhost:8080/"
        },
        "id": "ykYMgP92Wl2C",
        "outputId": "c098528c-ea71-4ff3-bb02-05732c2aa021"
      },
      "source": [
        "first_and_last_names = [('Jane', 'Doe'), ('John', 'Williams'), ('Jennifer', 'Smith')]\n",
        "first_names, last_names = zip(*first_and_last_names)\n",
        "first_names = list(first_names)\n",
        "last_names = list(last_names)\n",
        "print(first_names)\n",
        "print(last_names)"
      ],
      "execution_count": 10,
      "outputs": [
        {
          "output_type": "stream",
          "text": [
            "['Jane', 'John', 'Jennifer']\n",
            "['Doe', 'Williams', 'Smith']\n"
          ],
          "name": "stdout"
        }
      ]
    }
  ]
}