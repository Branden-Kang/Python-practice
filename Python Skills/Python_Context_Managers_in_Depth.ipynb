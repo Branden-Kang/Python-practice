{
  "nbformat": 4,
  "nbformat_minor": 0,
  "metadata": {
    "colab": {
      "name": "Python Context Managers in Depth.ipynb",
      "provenance": [],
      "authorship_tag": "ABX9TyN5U+DqQBOkZ4DA3uHWD1lY"
    },
    "kernelspec": {
      "name": "python3",
      "display_name": "Python 3"
    }
  },
  "cells": [
    {
      "cell_type": "markdown",
      "metadata": {
        "id": "Dqqm14SgaLAE"
      },
      "source": [
        "[Reference](https://levelup.gitconnected.com/python-context-managers-in-depth-52dd2dd2624b)"
      ]
    },
    {
      "cell_type": "code",
      "metadata": {
        "id": "DJbLbRw2aTbh"
      },
      "source": [
        "f = open('log.txt', 'w') \n",
        "f.write('hello world') \n",
        "f.close()"
      ],
      "execution_count": 2,
      "outputs": []
    },
    {
      "cell_type": "code",
      "metadata": {
        "id": "690RkLgzaItT"
      },
      "source": [
        "f = open('log.txt', 'w') \n",
        "try: \n",
        "    f.write('hello world') \n",
        "finally: \n",
        "    f.close()"
      ],
      "execution_count": 1,
      "outputs": []
    },
    {
      "cell_type": "code",
      "metadata": {
        "id": "DUOYr7rPaUBw"
      },
      "source": [
        "with open('log.txt', 'w') as f: \n",
        "    f.write('hello world')"
      ],
      "execution_count": 3,
      "outputs": []
    },
    {
      "cell_type": "code",
      "metadata": {
        "colab": {
          "base_uri": "https://localhost:8080/"
        },
        "id": "4Ro5SRGnaY6b",
        "outputId": "5b63ddee-2182-440e-e22d-f0a16b6594dd"
      },
      "source": [
        "class TestContextManager:\n",
        "    def __enter__(self):\n",
        "        print('Entered into context manager!')\n",
        "    def __exit__(self, *args):\n",
        "        print('Exiting context manager!')\n",
        "\n",
        "with TestContextManager():\n",
        "    print('Inside context manager!')"
      ],
      "execution_count": 6,
      "outputs": [
        {
          "output_type": "stream",
          "text": [
            "Entered into context manager!\n",
            "Inside context manager!\n",
            "Exiting context manager!\n"
          ],
          "name": "stdout"
        }
      ]
    },
    {
      "cell_type": "markdown",
      "metadata": {
        "id": "njOorrgea1zc"
      },
      "source": [
        "# contextlib module"
      ]
    },
    {
      "cell_type": "code",
      "metadata": {
        "id": "Yravc4YFarm0"
      },
      "source": [
        "from contextlib import contextmanager\n",
        "\n",
        "@contextmanager\n",
        "def get_log_file():\n",
        "    f = open('log.txt', 'w') \n",
        "    try: \n",
        "        yield f\n",
        "    finally: \n",
        "        f.close()\n",
        "\n",
        "with get_log_file() as f:\n",
        "    f.write('hello world')"
      ],
      "execution_count": null,
      "outputs": []
    }
  ]
}