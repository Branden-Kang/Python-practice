{
  "nbformat": 4,
  "nbformat_minor": 0,
  "metadata": {
    "colab": {
      "name": "OS Module in Python.ipynb",
      "provenance": [],
      "authorship_tag": "ABX9TyMUHUEPRPRnrNuiqlCJ0WiC"
    },
    "kernelspec": {
      "name": "python3",
      "display_name": "Python 3"
    },
    "language_info": {
      "name": "python"
    }
  },
  "cells": [
    {
      "cell_type": "markdown",
      "metadata": {
        "id": "LDKKF2kvP4Os"
      },
      "source": [
        "[Reference](https://tanishqrawat1710h.medium.com/os-module-in-python-4d2265bb5f50)"
      ]
    },
    {
      "cell_type": "code",
      "metadata": {
        "colab": {
          "base_uri": "https://localhost:8080/"
        },
        "id": "h_OxCH-LL5i4",
        "outputId": "c38f4db8-654d-41da-8e82-2a246833b6a0"
      },
      "source": [
        "import pathlib\n",
        "a=pathlib.Path.cwd()\n",
        "print(a)\n",
        "print(type(a))"
      ],
      "execution_count": 1,
      "outputs": [
        {
          "output_type": "stream",
          "name": "stdout",
          "text": [
            "/content\n",
            "<class 'pathlib.PosixPath'>\n"
          ]
        }
      ]
    },
    {
      "cell_type": "code",
      "metadata": {
        "colab": {
          "base_uri": "https://localhost:8080/"
        },
        "id": "xM50kXcVL7r3",
        "outputId": "05dcba74-e69e-4596-a937-2863cd2fe2f3"
      },
      "source": [
        "import pathlib\n",
        "import os\n",
        "k=pathlib.Path.cwd()\n",
        "print(k)\n",
        "print(\"After changing current directory, now current directory is: \",end=\"\")\n",
        "pth=pathlib.Path(\"/work/python\")\n",
        "# os.chdir(pth) #used to change working directory and it takes pathlib.Path as argument\n",
        "print(pathlib.Path.cwd())"
      ],
      "execution_count": 8,
      "outputs": [
        {
          "output_type": "stream",
          "name": "stdout",
          "text": [
            "/content\n",
            "After changing current directory, now current directory is: /content\n"
          ]
        }
      ]
    },
    {
      "cell_type": "code",
      "metadata": {
        "id": "BdjKDhbTL81j"
      },
      "source": [
        "import pathlib\n",
        "import os\n",
        "pth=pathlib.Path(os.getcwd())\n",
        "os.chdir(pth)\n",
        "path=pathlib.Path(\"Hello World\")\n",
        "path.mkdir()"
      ],
      "execution_count": 7,
      "outputs": []
    }
  ]
}