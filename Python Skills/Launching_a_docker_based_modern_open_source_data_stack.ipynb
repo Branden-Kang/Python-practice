{
  "nbformat": 4,
  "nbformat_minor": 0,
  "metadata": {
    "colab": {
      "name": "Launching a docker-based modern open-source data stack.ipynb",
      "provenance": [],
      "authorship_tag": "ABX9TyOs/6tfExp2JyGfehmD5Tyw"
    },
    "kernelspec": {
      "name": "python3",
      "display_name": "Python 3"
    },
    "language_info": {
      "name": "python"
    }
  },
  "cells": [
    {
      "cell_type": "markdown",
      "source": [
        "[Reference](https://medium.com/@Cartelis/launching-a-docker-based-modern-open-source-data-stack-a936b1bb0a43)"
      ],
      "metadata": {
        "id": "OGtYPfzFh-qk"
      }
    },
    {
      "cell_type": "code",
      "execution_count": 1,
      "metadata": {
        "id": "CQwelVbugOl0"
      },
      "outputs": [],
      "source": [
        "# Required python packages\n",
        "from airflow.utils.dates import days_ago\n",
        "from airflow.sensors.external_task_sensor import ExternalTaskSensor\n",
        "from datetime import datetime\n",
        "from datetime import timedelta\n",
        "from airflow import DAG\n",
        "from airflow.providers.airbyte.operators.airbyte import AirbyteTriggerSyncOperator\n",
        "from airflow.providers.airbyte.sensors.airbyte import AirbyteJobSensor\n",
        "from airflow_dbt.operators.dbt_operator import DbtRunOperator\n",
        "\n",
        "# Arguments required by the DAG\n",
        "default_args = {\n",
        "    \"owner\": \"airflow\", # Owner of the dag\n",
        "    \"depends_on_past\": False, # Dependence of previous attempts\n",
        "    \"retries\": 1, # Limit of the number of retries\n",
        "    \"dir\": \"/opt/airflow/dbt/test_project\", # Location of the dbt models to run\n",
        "    \"retry_delay\": timedelta(minutes=1), # Retry after 1 minute\n",
        "    \"start_date\": days_ago(1), # Start the process yesterday (for immediate execution)\n",
        "    \"schedule_interval\": \"*/5 * * * *\", # Schedule the DAG every 5 minutes\n",
        "}\n",
        "\n",
        "# Initiate a DAG\n",
        "with DAG(\n",
        "    dag_id=\"cartelis-test\",\n",
        "    default_args=default_args,\n",
        ") as dag:\n",
        "\n",
        "\t\t# Airbyte data integration task\n",
        "    sync_source_destination = AirbyteTriggerSyncOperator(\n",
        "        task_id=\"airflow-airbyte-sync\",\n",
        "        airbyte_conn_id=\"airflow-airbyte\", # Name of the Airflow-Airbyte connection in Airflow\n",
        "        connection_id=\"airbyte_connection_id\", # ID of the airbyte connection between the file and the PostgreSQL\n",
        "    )\n",
        "\n",
        "\t\t# dbt data transformation task\n",
        "    dbt_run = DbtRunOperator(\n",
        "        task_id=\"dbt_run\",\n",
        "    )\n",
        "    sync_source_destination >> dbt_run"
      ]
    }
  ]
}