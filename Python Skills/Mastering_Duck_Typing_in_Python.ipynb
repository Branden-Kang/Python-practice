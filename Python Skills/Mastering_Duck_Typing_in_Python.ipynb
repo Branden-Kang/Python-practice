{
  "nbformat": 4,
  "nbformat_minor": 0,
  "metadata": {
    "colab": {
      "provenance": [],
      "authorship_tag": "ABX9TyNAf9+U5ZRBXnR3qkZAViKh"
    },
    "kernelspec": {
      "name": "python3",
      "display_name": "Python 3"
    },
    "language_info": {
      "name": "python"
    }
  },
  "cells": [
    {
      "cell_type": "markdown",
      "source": [
        "[Reference](https://levelup.gitconnected.com/mastering-duck-typing-in-python-78f25214dbee)"
      ],
      "metadata": {
        "id": "Xnf_LncncLYy"
      }
    },
    {
      "cell_type": "markdown",
      "source": [
        "# Advantages of Duck Typing"
      ],
      "metadata": {
        "id": "wvoA7O6Ec1O0"
      }
    },
    {
      "cell_type": "code",
      "execution_count": 1,
      "metadata": {
        "colab": {
          "base_uri": "https://localhost:8080/"
        },
        "id": "2ylrTsYXcHm0",
        "outputId": "c9d8e6b3-fd0b-4177-e456-ed521edf216e"
      },
      "outputs": [
        {
          "output_type": "stream",
          "name": "stdout",
          "text": [
            "Quack!\n",
            "I can quack like a duck!\n"
          ]
        }
      ],
      "source": [
        "class Duck:\n",
        "    def quack(self):\n",
        "        print(\"Quack!\")\n",
        "\n",
        "class Person:\n",
        "    def quack(self):\n",
        "        print(\"I can quack like a duck!\")\n",
        "\n",
        "def make_it_quack(duck):\n",
        "    # We don't check the type here - we just expect the object to quack.\n",
        "    duck.quack()\n",
        "\n",
        "# Both objects work, even though Person is not a Duck.\n",
        "duck = Duck()\n",
        "person = Person()\n",
        "\n",
        "make_it_quack(duck)    # Output: Quack!\n",
        "make_it_quack(person)  # Output: I can quack like a duck!"
      ]
    },
    {
      "cell_type": "markdown",
      "source": [
        "## 1. Increased Flexibility"
      ],
      "metadata": {
        "id": "kCEpmSy5cc9y"
      }
    },
    {
      "cell_type": "code",
      "source": [
        "class Dog:\n",
        "    def bark(self):\n",
        "        print(\"Woof!\")\n",
        "\n",
        "class Cat:\n",
        "    def bark(self):\n",
        "        print(\"Meow!\")\n",
        "\n",
        "def make_it_bark(animal):\n",
        "    # No need to check the type, just assume the object can \"bark\"\n",
        "    animal.bark()\n",
        "\n",
        "dog = Dog()\n",
        "cat = Cat()\n",
        "\n",
        "make_it_bark(dog)  # Output: Woof!\n",
        "make_it_bark(cat)  # Output: Meow!"
      ],
      "metadata": {
        "colab": {
          "base_uri": "https://localhost:8080/"
        },
        "id": "3AI8uluBcako",
        "outputId": "35839fee-65fb-4cc8-a1b2-84023a47f977"
      },
      "execution_count": 2,
      "outputs": [
        {
          "output_type": "stream",
          "name": "stdout",
          "text": [
            "Woof!\n",
            "Meow!\n"
          ]
        }
      ]
    },
    {
      "cell_type": "markdown",
      "source": [
        "## 2. Cleaner and More Concise Code"
      ],
      "metadata": {
        "id": "GnCZkNG8cfKJ"
      }
    },
    {
      "cell_type": "markdown",
      "source": [
        "```java\n",
        "// Yes, I can write Java too - lowkey flex lol\n",
        "\n",
        "interface Barkable {\n",
        "    void bark();\n",
        "}\n",
        "\n",
        "class Dog implements Barkable {\n",
        "    public void bark() {\n",
        "        System.out.println(\"Woof!\");\n",
        "    }\n",
        "}\n",
        "\n",
        "class Cat implements Barkable {\n",
        "    public void bark() {\n",
        "        System.out.println(\"Meow!\");\n",
        "    }\n",
        "}\n",
        "\n",
        "void makeItBark(Barkable animal) {\n",
        "    animal.bark();\n",
        "}\n",
        "```"
      ],
      "metadata": {
        "id": "2yDfs4EdciQ9"
      }
    },
    {
      "cell_type": "markdown",
      "source": [
        "## 3. Supports Polymorphism without Inheritance"
      ],
      "metadata": {
        "id": "Ro4yr1Pnc5dv"
      }
    },
    {
      "cell_type": "code",
      "source": [
        "class Plane:\n",
        "    def fly(self):\n",
        "        print(\"The plane is flying.\")\n",
        "\n",
        "class Bird:\n",
        "    def fly(self):\n",
        "        print(\"The bird is flying.\")\n",
        "\n",
        "def make_it_fly(flyer):\n",
        "    flyer.fly()\n",
        "\n",
        "# Both Plane and Bird can fly, despite not being related by inheritance\n",
        "plane = Plane()\n",
        "bird = Bird()\n",
        "\n",
        "make_it_fly(plane)  # Output: The plane is flying.\n",
        "make_it_fly(bird)   # Output: The bird is flying."
      ],
      "metadata": {
        "colab": {
          "base_uri": "https://localhost:8080/"
        },
        "id": "mRkABCvXceUx",
        "outputId": "0858a73b-4664-4d52-d29a-db347f5eb453"
      },
      "execution_count": 3,
      "outputs": [
        {
          "output_type": "stream",
          "name": "stdout",
          "text": [
            "The plane is flying.\n",
            "The bird is flying.\n"
          ]
        }
      ]
    },
    {
      "cell_type": "markdown",
      "source": [
        "## 4. Encourages Interface Segregation"
      ],
      "metadata": {
        "id": "MXFl2hc2cpCi"
      }
    },
    {
      "cell_type": "markdown",
      "source": [
        "Duck typing encourages developers to focus on designing small, behavior-specific interfaces rather than large, monolithic class hierarchies. Instead of forcing an object to adhere to a broad interface or a complex inheritance chain, duck typing encourages creating objects that simply implement the methods they need to implement."
      ],
      "metadata": {
        "id": "IUFR1-Q1csLI"
      }
    },
    {
      "cell_type": "markdown",
      "source": [
        "# Disadvantages of Duck Typing"
      ],
      "metadata": {
        "id": "Z7ChQRnmc71k"
      }
    },
    {
      "cell_type": "markdown",
      "source": [
        "## 1. Lack of Explicit Type Safety"
      ],
      "metadata": {
        "id": "y5H7E8p_c9WJ"
      }
    },
    {
      "cell_type": "code",
      "source": [
        "class Car:\n",
        "    def drive(self):\n",
        "        print(\"The car is driving.\")\n",
        "\n",
        "def make_it_drive(vehicle):\n",
        "    vehicle.drive()\n",
        "\n",
        "# This will work\n",
        "car = Car()\n",
        "make_it_drive(car)  # Output: The car is driving.\n",
        "\n",
        "# But passing an incompatible object will cause an error at runtime\n",
        "number = 5\n",
        "make_it_drive(number)  # AttributeError: 'int' object has no attribute 'drive'"
      ],
      "metadata": {
        "colab": {
          "base_uri": "https://localhost:8080/",
          "height": 309
        },
        "id": "3rmXe35LcnmH",
        "outputId": "8661dc26-c67d-4f52-e833-2153ec40b76b"
      },
      "execution_count": 4,
      "outputs": [
        {
          "output_type": "stream",
          "name": "stdout",
          "text": [
            "The car is driving.\n"
          ]
        },
        {
          "output_type": "error",
          "ename": "AttributeError",
          "evalue": "'int' object has no attribute 'drive'",
          "traceback": [
            "\u001b[0;31m---------------------------------------------------------------------------\u001b[0m",
            "\u001b[0;31mAttributeError\u001b[0m                            Traceback (most recent call last)",
            "\u001b[0;32m<ipython-input-4-7fab24fa6703>\u001b[0m in \u001b[0;36m<cell line: 14>\u001b[0;34m()\u001b[0m\n\u001b[1;32m     12\u001b[0m \u001b[0;31m# But passing an incompatible object will cause an error at runtime\u001b[0m\u001b[0;34m\u001b[0m\u001b[0;34m\u001b[0m\u001b[0m\n\u001b[1;32m     13\u001b[0m \u001b[0mnumber\u001b[0m \u001b[0;34m=\u001b[0m \u001b[0;36m5\u001b[0m\u001b[0;34m\u001b[0m\u001b[0;34m\u001b[0m\u001b[0m\n\u001b[0;32m---> 14\u001b[0;31m \u001b[0mmake_it_drive\u001b[0m\u001b[0;34m(\u001b[0m\u001b[0mnumber\u001b[0m\u001b[0;34m)\u001b[0m  \u001b[0;31m# AttributeError: 'int' object has no attribute 'drive'\u001b[0m\u001b[0;34m\u001b[0m\u001b[0;34m\u001b[0m\u001b[0m\n\u001b[0m",
            "\u001b[0;32m<ipython-input-4-7fab24fa6703>\u001b[0m in \u001b[0;36mmake_it_drive\u001b[0;34m(vehicle)\u001b[0m\n\u001b[1;32m      4\u001b[0m \u001b[0;34m\u001b[0m\u001b[0m\n\u001b[1;32m      5\u001b[0m \u001b[0;32mdef\u001b[0m \u001b[0mmake_it_drive\u001b[0m\u001b[0;34m(\u001b[0m\u001b[0mvehicle\u001b[0m\u001b[0;34m)\u001b[0m\u001b[0;34m:\u001b[0m\u001b[0;34m\u001b[0m\u001b[0;34m\u001b[0m\u001b[0m\n\u001b[0;32m----> 6\u001b[0;31m     \u001b[0mvehicle\u001b[0m\u001b[0;34m.\u001b[0m\u001b[0mdrive\u001b[0m\u001b[0;34m(\u001b[0m\u001b[0;34m)\u001b[0m\u001b[0;34m\u001b[0m\u001b[0;34m\u001b[0m\u001b[0m\n\u001b[0m\u001b[1;32m      7\u001b[0m \u001b[0;34m\u001b[0m\u001b[0m\n\u001b[1;32m      8\u001b[0m \u001b[0;31m# This will work\u001b[0m\u001b[0;34m\u001b[0m\u001b[0;34m\u001b[0m\u001b[0m\n",
            "\u001b[0;31mAttributeError\u001b[0m: 'int' object has no attribute 'drive'"
          ]
        }
      ]
    },
    {
      "cell_type": "markdown",
      "source": [
        "## 2. Difficult to Debug"
      ],
      "metadata": {
        "id": "hMYwLDv6dA-i"
      }
    },
    {
      "cell_type": "code",
      "source": [
        "class Bird:\n",
        "    def quack(self):\n",
        "        print(\"Quack!\")\n",
        "\n",
        "def make_it_quack(animal):\n",
        "    animal.quack()\n",
        "\n",
        "# If the object doesn’t have a 'quack' method, we won't know until runtime\n",
        "rock = \"I am not a duck\"\n",
        "make_it_quack(rock)  # Raises AttributeError: 'str' object has no attribute 'quack'"
      ],
      "metadata": {
        "colab": {
          "base_uri": "https://localhost:8080/",
          "height": 292
        },
        "id": "Gag49adxc_BC",
        "outputId": "c09d24ca-bc4f-47f8-81d4-28d3e8300870"
      },
      "execution_count": 5,
      "outputs": [
        {
          "output_type": "error",
          "ename": "AttributeError",
          "evalue": "'str' object has no attribute 'quack'",
          "traceback": [
            "\u001b[0;31m---------------------------------------------------------------------------\u001b[0m",
            "\u001b[0;31mAttributeError\u001b[0m                            Traceback (most recent call last)",
            "\u001b[0;32m<ipython-input-5-87c67d3b0ad8>\u001b[0m in \u001b[0;36m<cell line: 10>\u001b[0;34m()\u001b[0m\n\u001b[1;32m      8\u001b[0m \u001b[0;31m# If the object doesn’t have a 'quack' method, we won't know until runtime\u001b[0m\u001b[0;34m\u001b[0m\u001b[0;34m\u001b[0m\u001b[0m\n\u001b[1;32m      9\u001b[0m \u001b[0mrock\u001b[0m \u001b[0;34m=\u001b[0m \u001b[0;34m\"I am not a duck\"\u001b[0m\u001b[0;34m\u001b[0m\u001b[0;34m\u001b[0m\u001b[0m\n\u001b[0;32m---> 10\u001b[0;31m \u001b[0mmake_it_quack\u001b[0m\u001b[0;34m(\u001b[0m\u001b[0mrock\u001b[0m\u001b[0;34m)\u001b[0m  \u001b[0;31m# Raises AttributeError: 'str' object has no attribute 'quack'\u001b[0m\u001b[0;34m\u001b[0m\u001b[0;34m\u001b[0m\u001b[0m\n\u001b[0m",
            "\u001b[0;32m<ipython-input-5-87c67d3b0ad8>\u001b[0m in \u001b[0;36mmake_it_quack\u001b[0;34m(animal)\u001b[0m\n\u001b[1;32m      4\u001b[0m \u001b[0;34m\u001b[0m\u001b[0m\n\u001b[1;32m      5\u001b[0m \u001b[0;32mdef\u001b[0m \u001b[0mmake_it_quack\u001b[0m\u001b[0;34m(\u001b[0m\u001b[0manimal\u001b[0m\u001b[0;34m)\u001b[0m\u001b[0;34m:\u001b[0m\u001b[0;34m\u001b[0m\u001b[0;34m\u001b[0m\u001b[0m\n\u001b[0;32m----> 6\u001b[0;31m     \u001b[0manimal\u001b[0m\u001b[0;34m.\u001b[0m\u001b[0mquack\u001b[0m\u001b[0;34m(\u001b[0m\u001b[0;34m)\u001b[0m\u001b[0;34m\u001b[0m\u001b[0;34m\u001b[0m\u001b[0m\n\u001b[0m\u001b[1;32m      7\u001b[0m \u001b[0;34m\u001b[0m\u001b[0m\n\u001b[1;32m      8\u001b[0m \u001b[0;31m# If the object doesn’t have a 'quack' method, we won't know until runtime\u001b[0m\u001b[0;34m\u001b[0m\u001b[0;34m\u001b[0m\u001b[0m\n",
            "\u001b[0;31mAttributeError\u001b[0m: 'str' object has no attribute 'quack'"
          ]
        }
      ]
    },
    {
      "cell_type": "markdown",
      "source": [
        "## 3. Reduced Readability in Complex Code\n",
        "In complex codebases, duck typing can reduce code readability. Since the types of objects being passed to functions aren’t explicitly declared, it can be challenging for developers (especially those unfamiliar with the codebase) to understand what kinds of objects a function is supposed to work with. This contrasts with statically-typed languages, where the expected types are often clearly defined."
      ],
      "metadata": {
        "id": "I9rqiOLfdF-W"
      }
    },
    {
      "cell_type": "markdown",
      "source": [
        "## 4. Challenges in Static Analysis\n",
        "Duck typing makes static code analysis more difficult. Static analysis tools, which help catch bugs and errors before running the code, typically rely on knowing the types of objects being used. With duck typing, these tools can’t always infer the expected types, which can result in missed errors or false positives."
      ],
      "metadata": {
        "id": "Xeh8yeYvdJX9"
      }
    },
    {
      "cell_type": "markdown",
      "source": [
        "# Mitigating the Drawbacks of Duck Typing"
      ],
      "metadata": {
        "id": "Ntz-uO7_dNyt"
      }
    },
    {
      "cell_type": "markdown",
      "source": [
        "## 1. Use Type Hints (PEP 484)"
      ],
      "metadata": {
        "id": "ynqpIJCpdPiN"
      }
    },
    {
      "cell_type": "code",
      "source": [
        "class Dog:\n",
        "    def bark(self):\n",
        "        print(\"Woof!\")\n",
        "\n",
        "def make_it_bark(animal: Dog) -> None:\n",
        "    animal.bark()\n",
        "\n",
        "dog = Dog()\n",
        "make_it_bark(dog)  # Output: Woof!"
      ],
      "metadata": {
        "colab": {
          "base_uri": "https://localhost:8080/"
        },
        "id": "ea4FOklddOvi",
        "outputId": "4206b7fd-e869-4808-83ec-2f27f7f15a1a"
      },
      "execution_count": 6,
      "outputs": [
        {
          "output_type": "stream",
          "name": "stdout",
          "text": [
            "Woof!\n"
          ]
        }
      ]
    },
    {
      "cell_type": "markdown",
      "source": [
        "## 2. Document Expected Behavior\n"
      ],
      "metadata": {
        "id": "7rhzp-h3dR55"
      }
    },
    {
      "cell_type": "code",
      "source": [
        "def make_it_fly(flyer):\n",
        "    \"\"\"\n",
        "    Makes the given object 'fly'.\n",
        "\n",
        "    :param flyer: An object that has a 'fly' method.\n",
        "    \"\"\"\n",
        "    flyer.fly()"
      ],
      "metadata": {
        "id": "ZUNkagSrdREi"
      },
      "execution_count": 7,
      "outputs": []
    }
  ]
}
