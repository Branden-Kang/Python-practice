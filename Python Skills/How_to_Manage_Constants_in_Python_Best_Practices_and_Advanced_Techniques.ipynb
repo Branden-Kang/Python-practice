{
  "nbformat": 4,
  "nbformat_minor": 0,
  "metadata": {
    "colab": {
      "provenance": [],
      "authorship_tag": "ABX9TyOp38LGs7avml76mDqDO0Z+"
    },
    "kernelspec": {
      "name": "python3",
      "display_name": "Python 3"
    },
    "language_info": {
      "name": "python"
    }
  },
  "cells": [
    {
      "cell_type": "markdown",
      "source": [
        "[Reference](https://medium.com/@zeid.zandi/how-to-manage-constants-in-python-best-practices-and-advanced-techniques-50fa1591d517)"
      ],
      "metadata": {
        "id": "vlDf7i8NM9BH"
      }
    },
    {
      "cell_type": "markdown",
      "source": [
        "# 1. Using Separate Classes for Constants with ConstantsManagement Class"
      ],
      "metadata": {
        "id": "MYbMT2-kNC1J"
      }
    },
    {
      "cell_type": "code",
      "execution_count": 1,
      "metadata": {
        "colab": {
          "base_uri": "https://localhost:8080/"
        },
        "id": "dccH1mn6MFsz",
        "outputId": "29fa18a6-30ec-4926-db0f-0a26bbeee864"
      },
      "outputs": [
        {
          "output_type": "stream",
          "name": "stdout",
          "text": [
            "3.14159\n",
            "100\n"
          ]
        }
      ],
      "source": [
        "# Constants classes\n",
        "class MathConstants:\n",
        "    PI = 3.14159\n",
        "\n",
        "\n",
        "class AppConfig:\n",
        "    MAX_SIZE = 100\n",
        "    MIN_SIZE = 10\n",
        "\n",
        "\n",
        "# ConstantsManagement class\n",
        "class ConstantsManagement:\n",
        "    def __init__(self):\n",
        "        # Set constants from separate classes as attributes\n",
        "        for cls in [MathConstants, AppConfig]:\n",
        "            for key, value in cls.__dict__.items():\n",
        "                if not key.startswith(\"__\"):\n",
        "                    self.__dict__.update(**{key: value})\n",
        "\n",
        "    def __setattr__(self, name, value):\n",
        "        raise TypeError(\"Constants are immutable\")\n",
        "\n",
        "# Create an instance of ConstantsManagement\n",
        "constants_manager = ConstantsManagement()\n",
        "\n",
        "# Accessing constants\n",
        "print(constants_manager.PI)\n",
        "print(constants_manager.MAX_SIZE)"
      ]
    },
    {
      "cell_type": "markdown",
      "source": [
        "# 2. Using Enum for Constants"
      ],
      "metadata": {
        "id": "_V6iuyUXNG8_"
      }
    },
    {
      "cell_type": "code",
      "source": [
        "from enum import Enum\n",
        "\n",
        "\n",
        "# Enum for Math Constants\n",
        "class MathConstants(Enum):\n",
        "    PI = 3.14159\n",
        "    E = 2.71828\n",
        "\n",
        "\n",
        "# Enum for App Configuration Constants with functions\n",
        "class AppConfig(Enum):\n",
        "    MAX_SIZE = 100\n",
        "    MIN_SIZE = 10\n",
        "\n",
        "\n",
        "# Accessing constants\n",
        "print(MathConstants.PI.value)\n",
        "print(AppConfig.MAX_SIZE.value)"
      ],
      "metadata": {
        "colab": {
          "base_uri": "https://localhost:8080/"
        },
        "id": "pXTrwNalNEc1",
        "outputId": "082a85a7-e047-480d-a41b-96136b7b05c1"
      },
      "execution_count": 3,
      "outputs": [
        {
          "output_type": "stream",
          "name": "stdout",
          "text": [
            "3.14159\n",
            "100\n"
          ]
        }
      ]
    }
  ]
}
