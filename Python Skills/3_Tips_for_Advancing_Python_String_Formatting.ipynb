{
  "nbformat": 4,
  "nbformat_minor": 0,
  "metadata": {
    "colab": {
      "name": "3 Tips for Advancing Python String Formatting.ipynb",
      "provenance": [],
      "authorship_tag": "ABX9TyP4zOgw7JEyKJYJ8C6AkI7V"
    },
    "kernelspec": {
      "name": "python3",
      "display_name": "Python 3"
    }
  },
  "cells": [
    {
      "cell_type": "markdown",
      "metadata": {
        "id": "Pdd9QHkbSsjV"
      },
      "source": [
        "[Reference](https://medium.com/better-programming/3-tips-for-advancing-python-string-formatting-bc4cc8720f2e)"
      ]
    },
    {
      "cell_type": "code",
      "metadata": {
        "colab": {
          "base_uri": "https://localhost:8080/"
        },
        "id": "boqhrJokSrOV",
        "outputId": "a3f08d0a-f96a-4830-e9c7-33d369ec135e"
      },
      "source": [
        "first_name = \"Hannibal\"\n",
        "last_name = \"Liang\"\n",
        "age = 20\n",
        "\n",
        "# Method 1\n",
        "intro = \"My name is \" + first_name + \" \" + last_name + \" and I'm \" + str(age) + \" years old.\"\n",
        "\n",
        "print(intro)"
      ],
      "execution_count": 1,
      "outputs": [
        {
          "output_type": "stream",
          "text": [
            "My name is Hannibal Liang and I'm 20 years old.\n"
          ],
          "name": "stdout"
        }
      ]
    },
    {
      "cell_type": "code",
      "metadata": {
        "colab": {
          "base_uri": "https://localhost:8080/"
        },
        "id": "v5bCXXVVSvuK",
        "outputId": "3ab0715b-1208-4c1d-975f-48dc58f52445"
      },
      "source": [
        "first_name = \"Hannibal\"\n",
        "last_name = \"Liang\"\n",
        "age = 20\n",
        "\n",
        "# Method 2\n",
        "intro = \"My name is {} {} and I'm {} years old.\".format(first_name, last_name, age)\n",
        "\n",
        "print(intro)"
      ],
      "execution_count": 2,
      "outputs": [
        {
          "output_type": "stream",
          "text": [
            "My name is Hannibal Liang and I'm 20 years old.\n"
          ],
          "name": "stdout"
        }
      ]
    },
    {
      "cell_type": "code",
      "metadata": {
        "colab": {
          "base_uri": "https://localhost:8080/"
        },
        "id": "zfOt8NB_SxXQ",
        "outputId": "85b5eb29-1f9c-4c74-a59e-11fa9d8eebfd"
      },
      "source": [
        "first_name = \"Hannibal\"\n",
        "last_name = \"Liang\"\n",
        "age = 20\n",
        "\n",
        "# Method 3\n",
        "intro = f\"My name is {first_name} {last_name} and I'm {age} years old.\"\n",
        "\n",
        "print(intro)"
      ],
      "execution_count": 3,
      "outputs": [
        {
          "output_type": "stream",
          "text": [
            "My name is Hannibal Liang and I'm 20 years old.\n"
          ],
          "name": "stdout"
        }
      ]
    },
    {
      "cell_type": "code",
      "metadata": {
        "colab": {
          "base_uri": "https://localhost:8080/"
        },
        "id": "gAQydxe1S0Bv",
        "outputId": "34e8dd02-d95c-4274-9b84-a706b72dec98"
      },
      "source": [
        "class Birthday:\n",
        "    def __init__(self, month, date):\n",
        "        self.month = month\n",
        "        self.date = date\n",
        "\n",
        "me = {'first_name': \"Hannibal\", 'last_name': \"Liang\", 'age': 20}\n",
        "my_birthday = Birthday(4, 20)\n",
        "lottery = [10, 14, 9]\n",
        "\n",
        "intro = f\"My name is {me['first_name']} {me['last_name']} and I'm {me['age']} years old.\"\n",
        "birthday = f\"My birthday is on {my_birthday.month}\\{my_birthday.date}.\"\n",
        "lottery_num = f\"I won a lottery with the numbers {lottery[0]}, {lottery[1]}, {lottery[2]}.\"\n",
        "print(intro)\n",
        "print(birthday)\n",
        "print(lottery_num)"
      ],
      "execution_count": 4,
      "outputs": [
        {
          "output_type": "stream",
          "text": [
            "My name is Hannibal Liang and I'm 20 years old.\n",
            "My birthday is on 4\\20.\n",
            "I won a lottery with the numbers 10, 14, 9.\n"
          ],
          "name": "stdout"
        }
      ]
    },
    {
      "cell_type": "code",
      "metadata": {
        "colab": {
          "base_uri": "https://localhost:8080/"
        },
        "id": "-EnfxJVVS2VV",
        "outputId": "72ff4e7b-0227-4eb6-d156-b21c7d41af7d"
      },
      "source": [
        "# Comma seperator\n",
        "num = 10000**5\n",
        "big_num = f\"Number = {num:,}\"\n",
        "print(big_num)"
      ],
      "execution_count": 5,
      "outputs": [
        {
          "output_type": "stream",
          "text": [
            "Number = 100,000,000,000,000,000,000\n"
          ],
          "name": "stdout"
        }
      ]
    },
    {
      "cell_type": "code",
      "metadata": {
        "colab": {
          "base_uri": "https://localhost:8080/"
        },
        "id": "CuigLXCIS4g-",
        "outputId": "ef0dc3bd-c678-49e2-f2ce-d71d8b8c8a34"
      },
      "source": [
        "# Limited digits\n",
        "e = 2.718281828459045235360287471352\n",
        "euler_num = f\"Euler number = {e:.5f}...\"\n",
        "print(euler_num)"
      ],
      "execution_count": 6,
      "outputs": [
        {
          "output_type": "stream",
          "text": [
            "Euler number = 2.71828...\n"
          ],
          "name": "stdout"
        }
      ]
    },
    {
      "cell_type": "code",
      "metadata": {
        "colab": {
          "base_uri": "https://localhost:8080/"
        },
        "id": "4U_t9wcqS6fS",
        "outputId": "a3aa8523-3572-46c0-a93a-65d3c34914dd"
      },
      "source": [
        "# Space padding\n",
        "for j in range(5):\n",
        "    for i in range(5):\n",
        "        num = j*5 + i + 1\n",
        "        if i == 4:\n",
        "            print(f\"{num:4}\")\n",
        "        else:\n",
        "            print(f\"{num:4}\", end='')"
      ],
      "execution_count": 7,
      "outputs": [
        {
          "output_type": "stream",
          "text": [
            "   1   2   3   4   5\n",
            "   6   7   8   9  10\n",
            "  11  12  13  14  15\n",
            "  16  17  18  19  20\n",
            "  21  22  23  24  25\n"
          ],
          "name": "stdout"
        }
      ]
    }
  ]
}