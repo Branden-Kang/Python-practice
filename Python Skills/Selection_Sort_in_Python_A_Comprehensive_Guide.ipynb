{
  "nbformat": 4,
  "nbformat_minor": 0,
  "metadata": {
    "colab": {
      "provenance": [],
      "authorship_tag": "ABX9TyPkY7ZDXKHuPPqx+Zp7dFvM"
    },
    "kernelspec": {
      "name": "python3",
      "display_name": "Python 3"
    },
    "language_info": {
      "name": "python"
    }
  },
  "cells": [
    {
      "cell_type": "markdown",
      "source": [
        "[Reference](https://awstip.com/selection-sort-in-python-a-comprehensive-guide-17482f4cfc1a)"
      ],
      "metadata": {
        "id": "yo0MiGwxwI8-"
      }
    },
    {
      "cell_type": "markdown",
      "source": [
        "```\n",
        "for i from 0 to n-1\n",
        "    min_index = i\n",
        "    for j from i+1 to n\n",
        "        if array[j] < array[min_index]\n",
        "            min_index = j\n",
        "    if min_index != i\n",
        "        swap(array[i], array[min_index])\n",
        "```"
      ],
      "metadata": {
        "id": "vCSJ7FnjwRTt"
      }
    },
    {
      "cell_type": "code",
      "source": [
        "def selection_sort(arr):\n",
        "    for i in range(len(arr)):\n",
        "        min_index = i\n",
        "        for j in range(i+1, len(arr)):\n",
        "            if arr[j] < arr[min_index]:\n",
        "                min_index = j\n",
        "        # Swap the minimum value found with the first value\n",
        "        arr[i], arr[min_index] = arr[min_index], arr[i]\n",
        "    return arr\n",
        "\n",
        "# Sample usage\n",
        "arr = [64, 34, 25, 12, 22, 11, 90]\n",
        "sorted_arr = selection_sort(arr)\n",
        "print(\"Sorted array is:\", sorted_arr)"
      ],
      "metadata": {
        "colab": {
          "base_uri": "https://localhost:8080/"
        },
        "id": "_kcousALwSGw",
        "outputId": "4eda0c00-b1f6-4472-8bea-229894c8788a"
      },
      "execution_count": 1,
      "outputs": [
        {
          "output_type": "stream",
          "name": "stdout",
          "text": [
            "Sorted array is: [11, 12, 22, 25, 34, 64, 90]\n"
          ]
        }
      ]
    }
  ]
}
