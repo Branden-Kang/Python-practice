{
  "nbformat": 4,
  "nbformat_minor": 0,
  "metadata": {
    "colab": {
      "name": "Snoop on Your Python.ipynb",
      "provenance": [],
      "authorship_tag": "ABX9TyOHdh1hxNPi18ObZ4SJOxcE"
    },
    "kernelspec": {
      "name": "python3",
      "display_name": "Python 3"
    },
    "language_info": {
      "name": "python"
    }
  },
  "cells": [
    {
      "cell_type": "markdown",
      "metadata": {
        "id": "H533If_J5JxN"
      },
      "source": [
        "[Reference](https://medium.com/geekculture/snoop-on-your-python-eaa2f157743a)"
      ]
    },
    {
      "cell_type": "code",
      "metadata": {
        "colab": {
          "base_uri": "https://localhost:8080/"
        },
        "id": "pPLdP_V54Ovo",
        "outputId": "545aa192-64c1-42f7-a016-48640a287c45"
      },
      "source": [
        "pip install snoop"
      ],
      "execution_count": 1,
      "outputs": [
        {
          "output_type": "stream",
          "text": [
            "Collecting snoop\n",
            "  Downloading snoop-0.4.0.tar.gz (33 kB)\n",
            "Requirement already satisfied: six in /usr/local/lib/python3.7/dist-packages (from snoop) (1.15.0)\n",
            "Collecting cheap_repr>=0.4.0\n",
            "  Downloading cheap_repr-0.4.6.tar.gz (10.0 kB)\n",
            "Collecting executing\n",
            "  Downloading executing-0.8.0-py2.py3-none-any.whl (15 kB)\n",
            "Collecting asttokens\n",
            "  Downloading asttokens-2.0.5-py2.py3-none-any.whl (20 kB)\n",
            "Requirement already satisfied: pygments in /usr/local/lib/python3.7/dist-packages (from snoop) (2.6.1)\n",
            "Building wheels for collected packages: snoop, cheap-repr\n",
            "  Building wheel for snoop (setup.py) ... \u001b[?25l\u001b[?25hdone\n",
            "  Created wheel for snoop: filename=snoop-0.4.0-py3-none-any.whl size=27363 sha256=8d42abd4cfec1228de78a5146029aeb5a8176eca709d35254a10d690dcff8289\n",
            "  Stored in directory: /root/.cache/pip/wheels/ab/52/15/6e958906b5aab5f14109e075467cfedba582593d732d9df9c6\n",
            "  Building wheel for cheap-repr (setup.py) ... \u001b[?25l\u001b[?25hdone\n",
            "  Created wheel for cheap-repr: filename=cheap_repr-0.4.6-py3-none-any.whl size=7129 sha256=f72e9961a690634ad82e75dad5d202a902300edc4b860e0f0696a47859cd4d37\n",
            "  Stored in directory: /root/.cache/pip/wheels/cc/16/8c/b6623af7bd134d3a33d290cfe8e73c54a1f000840851614c47\n",
            "Successfully built snoop cheap-repr\n",
            "Installing collected packages: executing, cheap-repr, asttokens, snoop\n",
            "Successfully installed asttokens-2.0.5 cheap-repr-0.4.6 executing-0.8.0 snoop-0.4.0\n"
          ],
          "name": "stdout"
        }
      ]
    },
    {
      "cell_type": "code",
      "metadata": {
        "colab": {
          "base_uri": "https://localhost:8080/"
        },
        "id": "cK5os0BL5H9f",
        "outputId": "325f654b-cf47-488d-9ff4-dc4e1bbe6ecb"
      },
      "source": [
        "import snoop\n",
        "\n",
        "@snoop\n",
        "def doubleit(x):\n",
        "    return 2*x\n",
        "    \n",
        "print(doubleit(6))"
      ],
      "execution_count": 3,
      "outputs": [
        {
          "output_type": "stream",
          "text": [
            "\n",
            "PYDEV DEBUGGER WARNING:\n",
            "sys.settrace() should not be used when the debugger is being used.\n",
            "This may cause the debugger to stop working correctly.\n",
            "If this is needed, please check: \n",
            "http://pydev.blogspot.com/2007/06/why-cant-pydev-debugger-work-with.html\n",
            "to see how to restore the debug tracing back correctly.\n",
            "Call Location:\n",
            "  File \"/usr/local/lib/python3.7/dist-packages/snoop/tracer.py\", line 207, in __enter__\n",
            "    sys.settrace(self.trace)\n",
            "\n",
            "15:46:42.05 >>> Call to doubleit in File \"<ipython-input-3-06ecae7018ef>\", line 4\n",
            "15:46:42.05 ...... x = 6\n",
            "15:46:42.05    4 | def doubleit(x):\n",
            "15:46:42.05    5 |     return 2*x\n",
            "15:46:42.05 <<< Return value from doubleit: 12\n",
            "\n",
            "PYDEV DEBUGGER WARNING:\n",
            "sys.settrace() should not be used when the debugger is being used.\n",
            "This may cause the debugger to stop working correctly.\n",
            "If this is needed, please check: \n",
            "http://pydev.blogspot.com/2007/06/why-cant-pydev-debugger-work-with.html\n",
            "to see how to restore the debug tracing back correctly.\n",
            "Call Location:\n",
            "  File \"/usr/local/lib/python3.7/dist-packages/snoop/tracer.py\", line 214, in __exit__\n",
            "    sys.settrace(previous_trace)\n",
            "\n"
          ],
          "name": "stderr"
        },
        {
          "output_type": "stream",
          "text": [
            "12\n"
          ],
          "name": "stdout"
        }
      ]
    },
    {
      "cell_type": "code",
      "metadata": {
        "colab": {
          "base_uri": "https://localhost:8080/"
        },
        "id": "Nv6Ns5PA5NPb",
        "outputId": "fdda99a0-9909-45a4-b61c-9234a511c1be"
      },
      "source": [
        "from snoop import pp\n",
        "x=10\n",
        "y=20\n",
        "pp(x)"
      ],
      "execution_count": 4,
      "outputs": [
        {
          "output_type": "stream",
          "text": [
            "15:46:50.77 LOG:\n",
            "15:46:50.78 .... x = 10\n"
          ],
          "name": "stderr"
        },
        {
          "output_type": "execute_result",
          "data": {
            "text/plain": [
              "10"
            ]
          },
          "metadata": {
            "tags": []
          },
          "execution_count": 4
        }
      ]
    },
    {
      "cell_type": "code",
      "metadata": {
        "id": "UE598YJ95ROi"
      },
      "source": [
        "foo(pp(x+4))\n",
        "bar(*pp(x,y,z))\n",
        "\n",
        "foo(x+4)\n",
        "bar(x,y,z)"
      ],
      "execution_count": 7,
      "outputs": []
    }
  ]
}