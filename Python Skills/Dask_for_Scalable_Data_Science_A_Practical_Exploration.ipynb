{
  "nbformat": 4,
  "nbformat_minor": 0,
  "metadata": {
    "colab": {
      "provenance": [],
      "authorship_tag": "ABX9TyO4rTtA7RH4vHAkngQRVluu"
    },
    "kernelspec": {
      "name": "python3",
      "display_name": "Python 3"
    },
    "language_info": {
      "name": "python"
    }
  },
  "cells": [
    {
      "cell_type": "markdown",
      "source": [
        "[Reference](https://levelup.gitconnected.com/dask-for-scalable-data-science-a-practical-exploration-6cf1dd9dce64)"
      ],
      "metadata": {
        "id": "Xx9MkjTTbKM-"
      }
    },
    {
      "cell_type": "code",
      "source": [
        "pip install dask"
      ],
      "metadata": {
        "colab": {
          "base_uri": "https://localhost:8080/"
        },
        "id": "6867yLP7Zimv",
        "outputId": "4fd82b38-83f9-4cfb-963a-945c0d6ac8e8"
      },
      "execution_count": 1,
      "outputs": [
        {
          "output_type": "stream",
          "name": "stdout",
          "text": [
            "Requirement already satisfied: dask in /usr/local/lib/python3.10/dist-packages (2023.8.1)\n",
            "Requirement already satisfied: click>=8.0 in /usr/local/lib/python3.10/dist-packages (from dask) (8.1.7)\n",
            "Requirement already satisfied: cloudpickle>=1.5.0 in /usr/local/lib/python3.10/dist-packages (from dask) (2.2.1)\n",
            "Requirement already satisfied: fsspec>=2021.09.0 in /usr/local/lib/python3.10/dist-packages (from dask) (2023.6.0)\n",
            "Requirement already satisfied: packaging>=20.0 in /usr/local/lib/python3.10/dist-packages (from dask) (23.2)\n",
            "Requirement already satisfied: partd>=1.2.0 in /usr/local/lib/python3.10/dist-packages (from dask) (1.4.1)\n",
            "Requirement already satisfied: pyyaml>=5.3.1 in /usr/local/lib/python3.10/dist-packages (from dask) (6.0.1)\n",
            "Requirement already satisfied: toolz>=0.10.0 in /usr/local/lib/python3.10/dist-packages (from dask) (0.12.0)\n",
            "Requirement already satisfied: importlib-metadata>=4.13.0 in /usr/local/lib/python3.10/dist-packages (from dask) (7.0.0)\n",
            "Requirement already satisfied: zipp>=0.5 in /usr/local/lib/python3.10/dist-packages (from importlib-metadata>=4.13.0->dask) (3.17.0)\n",
            "Requirement already satisfied: locket in /usr/local/lib/python3.10/dist-packages (from partd>=1.2.0->dask) (1.0.0)\n"
          ]
        }
      ]
    },
    {
      "cell_type": "code",
      "source": [
        "import pandas as pd\n",
        "import numpy as np\n",
        "\n",
        "def create_dataset(num_rows):\n",
        "    # Generate data\n",
        "    data = {\n",
        "        \"Product_ID\": [f\"P{str(i).zfill(4)}\" for i in range(1, num_rows + 1)],\n",
        "        \"Category\": np.random.choice([\"Electronics\", \"Clothing\", \"Home Appliances\", \"Books\", \"Toys\"], size=num_rows),\n",
        "        \"Brand\": np.random.choice([\"BrandA\", \"BrandB\", \"BrandC\", \"BrandD\", \"BrandE\"], size=num_rows),\n",
        "        \"Store_Location\": np.random.choice([\"New York\", \"Los Angeles\", \"Chicago\", \"Houston\", \"Miami\"], size=num_rows),\n",
        "        \"Stock_Status\": np.random.choice([\"In Stock\", \"Out of Stock\", \"Backorder\"], size=num_rows),\n",
        "        \"Shipping_Option\": np.random.choice([\"Standard\", \"Express\", \"Two-Day\", \"Overnight\"], size=num_rows),\n",
        "        \"Customer_Rating\": np.random.uniform(1, 5, size=num_rows).round(2),\n",
        "        \"Warranty_Years\": np.random.choice([1, 2, 3, 5], size=num_rows),\n",
        "        \"Product_Weight_kg\": np.random.uniform(0.5, 25, size=num_rows).round(2),\n",
        "        \"Sales_Volume\": np.random.randint(100, 1000000, size=num_rows),\n",
        "        \"Return_Rate\": np.random.uniform(0.01, 0.20, size=num_rows).round(2),\n",
        "        \"Profit_Margin\": np.random.uniform(5.00, 50.00, size=num_rows).round(2),\n",
        "        \"Average_Delivery_Days\": np.random.randint(1, 30, size=num_rows),\n",
        "        \"Supplier_Distance_km\": np.random.uniform(50, 10000, size=num_rows).round(2),\n",
        "        \"Manufacturing_Cost\": np.random.uniform(10, 500, size=num_rows).round(2),\n",
        "        \"Discount_Rate\": np.random.uniform(0, 0.30, size=num_rows).round(2),\n",
        "        \"Year_Released\": np.random.randint(2000, 2023, size=num_rows),\n",
        "        \"Price\": np.random.uniform(20, 2000, size=num_rows).round(2),\n",
        "        \"Market_Share\": np.random.uniform(0.01, 0.50, size=num_rows).round(2),\n",
        "        \"Product_Age_Days\": np.random.randint(1, 1000, size=num_rows)\n",
        "    }\n",
        "    df = pd.DataFrame(data)\n",
        "    return df"
      ],
      "metadata": {
        "id": "GBrWYVr9aUFK"
      },
      "execution_count": 2,
      "outputs": []
    },
    {
      "cell_type": "code",
      "source": [
        "from dask.distributed import Client\n",
        "\n",
        "client = Client(n_workers=8)  # Start a cluster with 8 workers\n",
        "# client = Client('127.0.0.1:8786')  # Connect to a specific scheduler"
      ],
      "metadata": {
        "colab": {
          "base_uri": "https://localhost:8080/"
        },
        "id": "urc9AlHbaVMX",
        "outputId": "4c7d61cc-7e8c-42e2-be1e-2fefd5821444"
      },
      "execution_count": 4,
      "outputs": [
        {
          "output_type": "stream",
          "name": "stderr",
          "text": [
            "/usr/local/lib/python3.10/dist-packages/distributed/node.py:182: UserWarning: Port 8787 is already in use.\n",
            "Perhaps you already have a cluster running?\n",
            "Hosting the HTTP server on port 46657 instead\n",
            "  warnings.warn(\n",
            "INFO:distributed.scheduler:State start\n",
            "INFO:distributed.scheduler:  Scheduler at:     tcp://127.0.0.1:34857\n",
            "INFO:distributed.scheduler:  dashboard at:  http://127.0.0.1:46657/status\n",
            "INFO:distributed.nanny:        Start Nanny at: 'tcp://127.0.0.1:42857'\n",
            "INFO:distributed.nanny:        Start Nanny at: 'tcp://127.0.0.1:43885'\n",
            "INFO:distributed.nanny:        Start Nanny at: 'tcp://127.0.0.1:37227'\n",
            "INFO:distributed.nanny:        Start Nanny at: 'tcp://127.0.0.1:35641'\n",
            "INFO:distributed.nanny:        Start Nanny at: 'tcp://127.0.0.1:43427'\n",
            "INFO:distributed.nanny:        Start Nanny at: 'tcp://127.0.0.1:42881'\n",
            "INFO:distributed.nanny:        Start Nanny at: 'tcp://127.0.0.1:41553'\n",
            "INFO:distributed.nanny:        Start Nanny at: 'tcp://127.0.0.1:40107'\n",
            "INFO:distributed.scheduler:Register worker <WorkerState 'tcp://127.0.0.1:37127', name: 1, status: init, memory: 0, processing: 0>\n",
            "INFO:distributed.scheduler:Starting worker compute stream, tcp://127.0.0.1:37127\n",
            "INFO:distributed.core:Starting established connection to tcp://127.0.0.1:33656\n",
            "INFO:distributed.scheduler:Register worker <WorkerState 'tcp://127.0.0.1:44087', name: 7, status: init, memory: 0, processing: 0>\n",
            "INFO:distributed.scheduler:Starting worker compute stream, tcp://127.0.0.1:44087\n",
            "INFO:distributed.core:Starting established connection to tcp://127.0.0.1:33640\n",
            "INFO:distributed.scheduler:Register worker <WorkerState 'tcp://127.0.0.1:37289', name: 0, status: init, memory: 0, processing: 0>\n",
            "INFO:distributed.scheduler:Starting worker compute stream, tcp://127.0.0.1:37289\n",
            "INFO:distributed.core:Starting established connection to tcp://127.0.0.1:33670\n",
            "INFO:distributed.scheduler:Register worker <WorkerState 'tcp://127.0.0.1:39983', name: 4, status: init, memory: 0, processing: 0>\n",
            "INFO:distributed.scheduler:Starting worker compute stream, tcp://127.0.0.1:39983\n",
            "INFO:distributed.core:Starting established connection to tcp://127.0.0.1:33664\n",
            "INFO:distributed.scheduler:Register worker <WorkerState 'tcp://127.0.0.1:35245', name: 2, status: init, memory: 0, processing: 0>\n",
            "INFO:distributed.scheduler:Starting worker compute stream, tcp://127.0.0.1:35245\n",
            "INFO:distributed.core:Starting established connection to tcp://127.0.0.1:33680\n",
            "INFO:distributed.scheduler:Register worker <WorkerState 'tcp://127.0.0.1:45979', name: 3, status: init, memory: 0, processing: 0>\n",
            "INFO:distributed.scheduler:Starting worker compute stream, tcp://127.0.0.1:45979\n",
            "INFO:distributed.core:Starting established connection to tcp://127.0.0.1:33694\n",
            "INFO:distributed.scheduler:Register worker <WorkerState 'tcp://127.0.0.1:45839', name: 6, status: init, memory: 0, processing: 0>\n",
            "INFO:distributed.scheduler:Starting worker compute stream, tcp://127.0.0.1:45839\n",
            "INFO:distributed.core:Starting established connection to tcp://127.0.0.1:33704\n",
            "INFO:distributed.scheduler:Register worker <WorkerState 'tcp://127.0.0.1:34931', name: 5, status: init, memory: 0, processing: 0>\n",
            "INFO:distributed.scheduler:Starting worker compute stream, tcp://127.0.0.1:34931\n",
            "INFO:distributed.core:Starting established connection to tcp://127.0.0.1:33708\n",
            "INFO:distributed.scheduler:Receive client connection: Client-e19d0638-a974-11ee-81bc-0242ac1c000c\n",
            "INFO:distributed.core:Starting established connection to tcp://127.0.0.1:58198\n"
          ]
        }
      ]
    },
    {
      "cell_type": "code",
      "source": [
        "import dask.array as da\n",
        "\n",
        "dask_array = da.random.random(size=(100000, 100000), chunks=(10000, 10000))\n",
        "dask_array"
      ],
      "metadata": {
        "colab": {
          "base_uri": "https://localhost:8080/",
          "height": 197
        },
        "id": "IDS6_M7Haa2L",
        "outputId": "f3871f62-e120-4e52-f82f-91ed3a629aa1"
      },
      "execution_count": 5,
      "outputs": [
        {
          "output_type": "execute_result",
          "data": {
            "text/plain": [
              "dask.array<random_sample, shape=(100000, 100000), dtype=float64, chunksize=(10000, 10000), chunktype=numpy.ndarray>"
            ],
            "text/html": [
              "<table>\n",
              "    <tr>\n",
              "        <td>\n",
              "            <table style=\"border-collapse: collapse;\">\n",
              "                <thead>\n",
              "                    <tr>\n",
              "                        <td> </td>\n",
              "                        <th> Array </th>\n",
              "                        <th> Chunk </th>\n",
              "                    </tr>\n",
              "                </thead>\n",
              "                <tbody>\n",
              "                    \n",
              "                    <tr>\n",
              "                        <th> Bytes </th>\n",
              "                        <td> 74.51 GiB </td>\n",
              "                        <td> 762.94 MiB </td>\n",
              "                    </tr>\n",
              "                    \n",
              "                    <tr>\n",
              "                        <th> Shape </th>\n",
              "                        <td> (100000, 100000) </td>\n",
              "                        <td> (10000, 10000) </td>\n",
              "                    </tr>\n",
              "                    <tr>\n",
              "                        <th> Dask graph </th>\n",
              "                        <td colspan=\"2\"> 100 chunks in 1 graph layer </td>\n",
              "                    </tr>\n",
              "                    <tr>\n",
              "                        <th> Data type </th>\n",
              "                        <td colspan=\"2\"> float64 numpy.ndarray </td>\n",
              "                    </tr>\n",
              "                </tbody>\n",
              "            </table>\n",
              "        </td>\n",
              "        <td>\n",
              "        <svg width=\"170\" height=\"170\" style=\"stroke:rgb(0,0,0);stroke-width:1\" >\n",
              "\n",
              "  <!-- Horizontal lines -->\n",
              "  <line x1=\"0\" y1=\"0\" x2=\"120\" y2=\"0\" style=\"stroke-width:2\" />\n",
              "  <line x1=\"0\" y1=\"12\" x2=\"120\" y2=\"12\" />\n",
              "  <line x1=\"0\" y1=\"24\" x2=\"120\" y2=\"24\" />\n",
              "  <line x1=\"0\" y1=\"36\" x2=\"120\" y2=\"36\" />\n",
              "  <line x1=\"0\" y1=\"48\" x2=\"120\" y2=\"48\" />\n",
              "  <line x1=\"0\" y1=\"60\" x2=\"120\" y2=\"60\" />\n",
              "  <line x1=\"0\" y1=\"72\" x2=\"120\" y2=\"72\" />\n",
              "  <line x1=\"0\" y1=\"84\" x2=\"120\" y2=\"84\" />\n",
              "  <line x1=\"0\" y1=\"96\" x2=\"120\" y2=\"96\" />\n",
              "  <line x1=\"0\" y1=\"108\" x2=\"120\" y2=\"108\" />\n",
              "  <line x1=\"0\" y1=\"120\" x2=\"120\" y2=\"120\" style=\"stroke-width:2\" />\n",
              "\n",
              "  <!-- Vertical lines -->\n",
              "  <line x1=\"0\" y1=\"0\" x2=\"0\" y2=\"120\" style=\"stroke-width:2\" />\n",
              "  <line x1=\"12\" y1=\"0\" x2=\"12\" y2=\"120\" />\n",
              "  <line x1=\"24\" y1=\"0\" x2=\"24\" y2=\"120\" />\n",
              "  <line x1=\"36\" y1=\"0\" x2=\"36\" y2=\"120\" />\n",
              "  <line x1=\"48\" y1=\"0\" x2=\"48\" y2=\"120\" />\n",
              "  <line x1=\"60\" y1=\"0\" x2=\"60\" y2=\"120\" />\n",
              "  <line x1=\"72\" y1=\"0\" x2=\"72\" y2=\"120\" />\n",
              "  <line x1=\"84\" y1=\"0\" x2=\"84\" y2=\"120\" />\n",
              "  <line x1=\"96\" y1=\"0\" x2=\"96\" y2=\"120\" />\n",
              "  <line x1=\"108\" y1=\"0\" x2=\"108\" y2=\"120\" />\n",
              "  <line x1=\"120\" y1=\"0\" x2=\"120\" y2=\"120\" style=\"stroke-width:2\" />\n",
              "\n",
              "  <!-- Colored Rectangle -->\n",
              "  <polygon points=\"0.0,0.0 120.0,0.0 120.0,120.0 0.0,120.0\" style=\"fill:#ECB172A0;stroke-width:0\"/>\n",
              "\n",
              "  <!-- Text -->\n",
              "  <text x=\"60.000000\" y=\"140.000000\" font-size=\"1.0rem\" font-weight=\"100\" text-anchor=\"middle\" >100000</text>\n",
              "  <text x=\"140.000000\" y=\"60.000000\" font-size=\"1.0rem\" font-weight=\"100\" text-anchor=\"middle\" transform=\"rotate(-90,140.000000,60.000000)\">100000</text>\n",
              "</svg>\n",
              "        </td>\n",
              "    </tr>\n",
              "</table>"
            ]
          },
          "metadata": {},
          "execution_count": 5
        }
      ]
    },
    {
      "cell_type": "code",
      "source": [
        "%%time\n",
        "dask_sum = dask_array.sum()\n",
        "\n",
        "dask_sum_computed = dask_sum.compute()\n",
        "dask_sum_computed"
      ],
      "metadata": {
        "colab": {
          "base_uri": "https://localhost:8080/"
        },
        "id": "l6EMS5UVagq8",
        "outputId": "d29ec44d-d3af-437e-ce3a-843ef82a52a1"
      },
      "execution_count": 6,
      "outputs": [
        {
          "output_type": "stream",
          "name": "stdout",
          "text": [
            "CPU times: user 8.6 s, sys: 1.76 s, total: 10.4 s\n",
            "Wall time: 1min 22s\n"
          ]
        },
        {
          "output_type": "execute_result",
          "data": {
            "text/plain": [
              "5000001669.624279"
            ]
          },
          "metadata": {},
          "execution_count": 6
        }
      ]
    },
    {
      "cell_type": "code",
      "source": [
        "def eager_evaluation(numbers):\n",
        "    squared_numbers = [x**2 for x in numbers]\n",
        "    return squared_numbers\n",
        "\n",
        "numbers = [1, 2, 3, 4, 5]\n",
        "squared = eager_evaluation(numbers)\n",
        "print(\"Eager Evaluation:\", squared)"
      ],
      "metadata": {
        "colab": {
          "base_uri": "https://localhost:8080/"
        },
        "id": "-P4J3YGpah8e",
        "outputId": "ce8dc0d3-aea9-4041-ff0d-b502baec9b97"
      },
      "execution_count": 7,
      "outputs": [
        {
          "output_type": "stream",
          "name": "stdout",
          "text": [
            "Eager Evaluation: [1, 4, 9, 16, 25]\n"
          ]
        }
      ]
    },
    {
      "cell_type": "code",
      "source": [
        "def lazy_evaluation(numbers):\n",
        "    for x in numbers:\n",
        "        yield x**2\n",
        "\n",
        "numbers = [1, 2, 3, 4, 5]\n",
        "lazy_squared = lazy_evaluation(numbers)\n",
        "print(lazy_squared)\n",
        "\n",
        "# <generator object lazy_evaluation at 0x104aba0c0>\n",
        "\n",
        "print(\"Lazy Evaluation:\")\n",
        "for number in lazy_squared:\n",
        "    print(number)"
      ],
      "metadata": {
        "colab": {
          "base_uri": "https://localhost:8080/"
        },
        "id": "g2SV8yfPaky8",
        "outputId": "1a43dbc3-2ce4-4e96-df08-271781af35c0"
      },
      "execution_count": 8,
      "outputs": [
        {
          "output_type": "stream",
          "name": "stdout",
          "text": [
            "<generator object lazy_evaluation at 0x78bc686487b0>\n",
            "Lazy Evaluation:\n",
            "1\n",
            "4\n",
            "9\n",
            "16\n",
            "25\n"
          ]
        }
      ]
    },
    {
      "cell_type": "code",
      "source": [
        "\n",
        "from time import sleep\n",
        "\n",
        "def inc(x):\n",
        "    sleep(1)\n",
        "    return x + 1\n",
        "\n",
        "def add(x, y):\n",
        "    sleep(1)\n",
        "    return x + y"
      ],
      "metadata": {
        "id": "YwGX7D--amd6"
      },
      "execution_count": 9,
      "outputs": []
    },
    {
      "cell_type": "code",
      "source": [
        "%%time\n",
        "\n",
        "x = inc(1)\n",
        "y = inc(2)\n",
        "z = add(x, y)"
      ],
      "metadata": {
        "colab": {
          "base_uri": "https://localhost:8080/"
        },
        "id": "uj_GZO6LaofN",
        "outputId": "c9324ba0-9b44-481a-8a21-f88b921a9806"
      },
      "execution_count": 10,
      "outputs": [
        {
          "output_type": "stream",
          "name": "stdout",
          "text": [
            "CPU times: user 295 ms, sys: 55.1 ms, total: 350 ms\n",
            "Wall time: 3 s\n"
          ]
        }
      ]
    },
    {
      "cell_type": "code",
      "source": [
        "from dask import delayed\n",
        "\n",
        "x = delayed(inc)(1)\n",
        "y = delayed(inc)(2)\n",
        "z = delayed(add)(x, y)\n",
        "\n",
        "print(z)"
      ],
      "metadata": {
        "colab": {
          "base_uri": "https://localhost:8080/"
        },
        "id": "sgsqxQazaphU",
        "outputId": "87eb076e-d8d8-479f-db8e-a382d871cf98"
      },
      "execution_count": 11,
      "outputs": [
        {
          "output_type": "stream",
          "name": "stdout",
          "text": [
            "Delayed('add-963113f5-fec2-49e3-844e-610df5b69122')\n"
          ]
        }
      ]
    },
    {
      "cell_type": "code",
      "source": [
        "%%time\n",
        "\n",
        "result = z.compute()"
      ],
      "metadata": {
        "colab": {
          "base_uri": "https://localhost:8080/"
        },
        "id": "Ki56gwC8aqlZ",
        "outputId": "bbd266af-9b61-4f41-831d-7b3d2a45ec68"
      },
      "execution_count": 12,
      "outputs": [
        {
          "output_type": "stream",
          "name": "stdout",
          "text": [
            "CPU times: user 214 ms, sys: 51.1 ms, total: 265 ms\n",
            "Wall time: 2.07 s\n"
          ]
        }
      ]
    },
    {
      "cell_type": "code",
      "source": [
        "z.visualize()"
      ],
      "metadata": {
        "colab": {
          "base_uri": "https://localhost:8080/",
          "height": 394
        },
        "id": "0FxfKNo5ar7h",
        "outputId": "1ca5cf56-27ad-41e8-86a2-c284a9449a11"
      },
      "execution_count": 13,
      "outputs": [
        {
          "output_type": "execute_result",
          "data": {
            "image/png": "[encoded data removed]",
            "text/plain": [
              "<IPython.core.display.Image object>"
            ]
          },
          "metadata": {},
          "execution_count": 13
        }
      ]
    },
    {
      "cell_type": "code",
      "source": [
        "datasets = list(range(1,9))\n",
        "\n",
        "results = []\n",
        "for data in datasets:\n",
        "    result = delayed(inc)(data)\n",
        "    results.append(result)\n",
        "total = delayed(sum)(results)\n",
        "total"
      ],
      "metadata": {
        "colab": {
          "base_uri": "https://localhost:8080/"
        },
        "id": "WUXRKHGZas2q",
        "outputId": "9dae0d7a-e2e6-4e6d-ecd9-ce086436f5c6"
      },
      "execution_count": 14,
      "outputs": [
        {
          "output_type": "execute_result",
          "data": {
            "text/plain": [
              "Delayed('sum-3fd9b37d-e5e1-4cc3-b586-be595ede3c3b')"
            ]
          },
          "metadata": {},
          "execution_count": 14
        }
      ]
    },
    {
      "cell_type": "code",
      "source": [
        "%%time\n",
        "total.compute()"
      ],
      "metadata": {
        "colab": {
          "base_uri": "https://localhost:8080/"
        },
        "id": "Tibi-IqKauEF",
        "outputId": "49fa1c53-d77a-40bc-f79e-302427a9ed01"
      },
      "execution_count": 15,
      "outputs": [
        {
          "output_type": "stream",
          "name": "stdout",
          "text": [
            "CPU times: user 122 ms, sys: 24.7 ms, total: 147 ms\n",
            "Wall time: 1.07 s\n"
          ]
        },
        {
          "output_type": "execute_result",
          "data": {
            "text/plain": [
              "44"
            ]
          },
          "metadata": {},
          "execution_count": 15
        }
      ]
    },
    {
      "cell_type": "code",
      "source": [
        "total.visualize()"
      ],
      "metadata": {
        "colab": {
          "base_uri": "https://localhost:8080/",
          "height": 401
        },
        "id": "4NPWMRxFavHi",
        "outputId": "ba477800-ec45-43dd-ede0-d670c3cacf04"
      },
      "execution_count": 16,
      "outputs": [
        {
          "output_type": "execute_result",
          "data": {
            "image/png": "[encoded data removed]",
            "text/plain": [
              "<IPython.core.display.Image object>"
            ]
          },
          "metadata": {},
          "execution_count": 16
        }
      ]
    },
    {
      "cell_type": "code",
      "source": [
        "@delayed\n",
        "def square(num):\n",
        "    sleep(1)\n",
        "    return num * num\n",
        "\n",
        "@delayed\n",
        "def sum_list(numbers):\n",
        "    sleep(1)\n",
        "    return sum(numbers)"
      ],
      "metadata": {
        "id": "jXQTDSsOav3D"
      },
      "execution_count": 17,
      "outputs": []
    },
    {
      "cell_type": "code",
      "source": [
        "data = [1, 2, 3, 4, 5]\n",
        "\n",
        "squared_data = [square(x) for x in data]\n",
        "\n",
        "total = sum_list(squared_data)\n",
        "total"
      ],
      "metadata": {
        "colab": {
          "base_uri": "https://localhost:8080/"
        },
        "id": "OTDuk6HkaxB2",
        "outputId": "0b9607df-11a4-4e27-ad66-9ce9d7afba38"
      },
      "execution_count": 18,
      "outputs": [
        {
          "output_type": "execute_result",
          "data": {
            "text/plain": [
              "Delayed('sum_list-d7fda052-f733-4be1-87dc-f5cf7a651551')"
            ]
          },
          "metadata": {},
          "execution_count": 18
        }
      ]
    },
    {
      "cell_type": "code",
      "source": [
        "%%time\n",
        "result = total.compute()\n",
        "result"
      ],
      "metadata": {
        "colab": {
          "base_uri": "https://localhost:8080/"
        },
        "id": "Tv8xx7l_ayPi",
        "outputId": "f9502bcd-26f0-475a-9e5d-63d5f20b6aa1"
      },
      "execution_count": 19,
      "outputs": [
        {
          "output_type": "stream",
          "name": "stdout",
          "text": [
            "CPU times: user 227 ms, sys: 37.4 ms, total: 264 ms\n",
            "Wall time: 2.05 s\n"
          ]
        },
        {
          "output_type": "execute_result",
          "data": {
            "text/plain": [
              "55"
            ]
          },
          "metadata": {},
          "execution_count": 19
        }
      ]
    },
    {
      "cell_type": "code",
      "source": [
        "total.visualize()"
      ],
      "metadata": {
        "colab": {
          "base_uri": "https://localhost:8080/",
          "height": 484
        },
        "id": "I1n4WxFdazeI",
        "outputId": "72c54364-0311-4d4a-a5bf-6ce88625d475"
      },
      "execution_count": 20,
      "outputs": [
        {
          "output_type": "execute_result",
          "data": {
            "image/png": "[encoded data removed]",
            "text/plain": [
              "<IPython.core.display.Image object>"
            ]
          },
          "metadata": {},
          "execution_count": 20
        }
      ]
    },
    {
      "cell_type": "code",
      "source": [
        "from dask.distributed import Client\n",
        "\n",
        "client = Client(n_workers=4)\n",
        "\n",
        "def square(x):\n",
        "    return x * x\n",
        "\n",
        "future = client.submit(square, 4)\n",
        "future"
      ],
      "metadata": {
        "colab": {
          "base_uri": "https://localhost:8080/",
          "height": 459
        },
        "id": "6dtM_lGRa0Po",
        "outputId": "011906e7-b632-45b6-ee88-2b767e35c9b4"
      },
      "execution_count": 21,
      "outputs": [
        {
          "output_type": "stream",
          "name": "stderr",
          "text": [
            "/usr/local/lib/python3.10/dist-packages/distributed/node.py:182: UserWarning: Port 8787 is already in use.\n",
            "Perhaps you already have a cluster running?\n",
            "Hosting the HTTP server on port 35715 instead\n",
            "  warnings.warn(\n",
            "INFO:distributed.scheduler:State start\n",
            "INFO:distributed.scheduler:  Scheduler at:     tcp://127.0.0.1:34243\n",
            "INFO:distributed.scheduler:  dashboard at:  http://127.0.0.1:35715/status\n",
            "INFO:distributed.nanny:        Start Nanny at: 'tcp://127.0.0.1:37099'\n",
            "INFO:distributed.nanny:        Start Nanny at: 'tcp://127.0.0.1:39031'\n",
            "INFO:distributed.nanny:        Start Nanny at: 'tcp://127.0.0.1:42145'\n",
            "INFO:distributed.nanny:        Start Nanny at: 'tcp://127.0.0.1:34509'\n",
            "INFO:distributed.scheduler:Register worker <WorkerState 'tcp://127.0.0.1:37109', name: 2, status: init, memory: 0, processing: 0>\n",
            "INFO:distributed.scheduler:Starting worker compute stream, tcp://127.0.0.1:37109\n",
            "INFO:distributed.core:Starting established connection to tcp://127.0.0.1:38334\n",
            "INFO:distributed.scheduler:Register worker <WorkerState 'tcp://127.0.0.1:45805', name: 0, status: init, memory: 0, processing: 0>\n",
            "INFO:distributed.scheduler:Starting worker compute stream, tcp://127.0.0.1:45805\n",
            "INFO:distributed.core:Starting established connection to tcp://127.0.0.1:38350\n",
            "INFO:distributed.scheduler:Register worker <WorkerState 'tcp://127.0.0.1:34887', name: 3, status: init, memory: 0, processing: 0>\n",
            "INFO:distributed.scheduler:Starting worker compute stream, tcp://127.0.0.1:34887\n",
            "INFO:distributed.core:Starting established connection to tcp://127.0.0.1:38320\n",
            "INFO:distributed.scheduler:Register worker <WorkerState 'tcp://127.0.0.1:42313', name: 1, status: init, memory: 0, processing: 0>\n",
            "INFO:distributed.scheduler:Starting worker compute stream, tcp://127.0.0.1:42313\n",
            "INFO:distributed.core:Starting established connection to tcp://127.0.0.1:38338\n",
            "INFO:distributed.scheduler:Receive client connection: Client-1cfd3f1b-a975-11ee-81bc-0242ac1c000c\n",
            "INFO:distributed.core:Starting established connection to tcp://127.0.0.1:38360\n"
          ]
        },
        {
          "output_type": "execute_result",
          "data": {
            "text/plain": [
              "<Future: pending, key: square-027326524b1664965c7095194c300da8>"
            ],
            "text/html": [
              "<strong>Future: square</strong>\n",
              "<span style=\"color: var(--jp-ui-font-color2, gray)\"> status: </span>\n",
              "\n",
              "\n",
              "<span style=\"color: var(--jp-error-color0, black)\">pending</span>,\n",
              "\n",
              "\n",
              "\n",
              "<span style=\"color: var(--jp-ui-font-color2, gray)\"> type:</span> NoneType,\n",
              "\n",
              "\n",
              "<span style=\"color: var(--jp-ui-font-color2, gray)\"> key:</span> square-027326524b1664965c7095194c300da8"
            ]
          },
          "metadata": {},
          "execution_count": 21
        }
      ]
    },
    {
      "cell_type": "code",
      "source": [
        "result = future.result()\n",
        "print(result)"
      ],
      "metadata": {
        "colab": {
          "base_uri": "https://localhost:8080/"
        },
        "id": "s-Zj1Kfta1vv",
        "outputId": "a4714600-7429-4cca-d630-6830abc72fad"
      },
      "execution_count": 22,
      "outputs": [
        {
          "output_type": "stream",
          "name": "stdout",
          "text": [
            "16\n"
          ]
        }
      ]
    },
    {
      "cell_type": "code",
      "source": [
        "values = [1, 2, 3, 4, 5]\n",
        "\n",
        "futures = [client.submit(square, value) for value in values]\n",
        "futures"
      ],
      "metadata": {
        "colab": {
          "base_uri": "https://localhost:8080/"
        },
        "id": "80Es7lcOa2qV",
        "outputId": "5546e6a8-9716-4c61-9e4d-85ecf91d5538"
      },
      "execution_count": 23,
      "outputs": [
        {
          "output_type": "execute_result",
          "data": {
            "text/plain": [
              "[<Future: pending, key: square-1b0b5f637204f6dc67756fd258c5c19c>,\n",
              " <Future: pending, key: square-9e8e139938c641ed8ddd24ade28364ff>,\n",
              " <Future: pending, key: square-7bccf8d54a99c1aacc347a814f74d6d7>,\n",
              " <Future: finished, type: int, key: square-027326524b1664965c7095194c300da8>,\n",
              " <Future: pending, key: square-56a318add235e87f9f9e177260c314b1>]"
            ]
          },
          "metadata": {},
          "execution_count": 23
        }
      ]
    },
    {
      "cell_type": "code",
      "source": [
        "results = client.gather(futures)\n",
        "print(results)"
      ],
      "metadata": {
        "colab": {
          "base_uri": "https://localhost:8080/"
        },
        "id": "LTP_BXoZa4kB",
        "outputId": "17ccbc12-443a-4279-c057-2a43d3247ffb"
      },
      "execution_count": 24,
      "outputs": [
        {
          "output_type": "stream",
          "name": "stdout",
          "text": [
            "[1, 4, 9, 16, 25]\n"
          ]
        }
      ]
    },
    {
      "cell_type": "code",
      "source": [
        "import random\n",
        "\n",
        "def add_random_number(a):\n",
        "    return a + random.randint(1, 100)\n",
        "future3 = client.submit(add_random_number, 5, pure=False)\n",
        "future4 = client.submit(add_random_number, 5, pure=False)\n",
        "\n",
        "# Check if the futures point to the same computation\n",
        "print(future3.key == future4.key)  # Output: False"
      ],
      "metadata": {
        "colab": {
          "base_uri": "https://localhost:8080/"
        },
        "id": "yKqlANgya6UF",
        "outputId": "c2457608-60ad-4797-b3cf-bd485cf93448"
      },
      "execution_count": 25,
      "outputs": [
        {
          "output_type": "stream",
          "name": "stdout",
          "text": [
            "False\n"
          ]
        }
      ]
    },
    {
      "cell_type": "code",
      "source": [
        "def add_numbers(a, b):\n",
        "    return a + b\n",
        "\n",
        "future1 = client.submit(add_numbers, 4, 5, pure=True)\n",
        "future2 = client.submit(add_numbers, 4, 5, pure=True)\n",
        "\n",
        "# Check if the futures point to the same computation\n",
        "print(future1.key == future2.key)  # Output: True"
      ],
      "metadata": {
        "colab": {
          "base_uri": "https://localhost:8080/"
        },
        "id": "S4DI_OPsa7Z8",
        "outputId": "f32f1128-c767-4d8d-ac1e-8e7441b8f9e9"
      },
      "execution_count": 26,
      "outputs": [
        {
          "output_type": "stream",
          "name": "stdout",
          "text": [
            "True\n"
          ]
        }
      ]
    },
    {
      "cell_type": "code",
      "source": [
        "def square(x):\n",
        "    return x * x\n",
        "\n",
        "futures = client.map(square, range(1, 9))\n",
        "\n",
        "res = client.gather(futures)\n",
        "res"
      ],
      "metadata": {
        "colab": {
          "base_uri": "https://localhost:8080/"
        },
        "id": "qAyufLG1a8TY",
        "outputId": "ddc4d137-2492-4c62-b46a-99b439be2d0c"
      },
      "execution_count": 27,
      "outputs": [
        {
          "output_type": "execute_result",
          "data": {
            "text/plain": [
              "[1, 4, 9, 16, 25, 36, 49, 64]"
            ]
          },
          "metadata": {},
          "execution_count": 27
        }
      ]
    },
    {
      "cell_type": "code",
      "source": [
        "from dask.distributed import as_completed\n",
        "# Define a simple task function\n",
        "def my_task(x):\n",
        "    # Some computations\n",
        "    return x * 2\n",
        "\n",
        "# Submit multiple tasks\n",
        "futures = [client.submit(my_task, i) for i in range(5)]\n",
        "\n",
        "# Create an as_completed iterator\n",
        "completed_futures = as_completed(futures)\n",
        "\n",
        "# Process each future as it completes\n",
        "for future in completed_futures:\n",
        "    result = future.result()\n",
        "    print(\"Task completed with result:\", result)\n",
        "\n",
        "client.close()"
      ],
      "metadata": {
        "colab": {
          "base_uri": "https://localhost:8080/"
        },
        "id": "BcQa6cDQa9_r",
        "outputId": "446ac0b6-6afe-42b4-85b3-59d050851074"
      },
      "execution_count": 29,
      "outputs": [
        {
          "output_type": "stream",
          "name": "stderr",
          "text": [
            "INFO:distributed.nanny:Closing Nanny at 'tcp://127.0.0.1:37099'. Reason: nanny-close\n",
            "INFO:distributed.nanny:Nanny asking worker to close. Reason: nanny-close\n",
            "INFO:distributed.nanny:Closing Nanny at 'tcp://127.0.0.1:39031'. Reason: nanny-close\n",
            "INFO:distributed.nanny:Nanny asking worker to close. Reason: nanny-close\n",
            "INFO:distributed.nanny:Closing Nanny at 'tcp://127.0.0.1:42145'. Reason: nanny-close\n",
            "INFO:distributed.nanny:Nanny asking worker to close. Reason: nanny-close\n",
            "INFO:distributed.nanny:Closing Nanny at 'tcp://127.0.0.1:34509'. Reason: nanny-close\n",
            "INFO:distributed.nanny:Nanny asking worker to close. Reason: nanny-close\n",
            "INFO:distributed.core:Received 'close-stream' from tcp://127.0.0.1:38350; closing.\n",
            "INFO:distributed.core:Received 'close-stream' from tcp://127.0.0.1:38338; closing.\n",
            "INFO:distributed.core:Received 'close-stream' from tcp://127.0.0.1:38334; closing.\n",
            "INFO:distributed.scheduler:Remove worker <WorkerState 'tcp://127.0.0.1:45805', name: 0, status: closing, memory: 3, processing: 0> (stimulus_id='handle-worker-cleanup-1704203137.0625887')\n",
            "INFO:distributed.scheduler:Remove worker <WorkerState 'tcp://127.0.0.1:42313', name: 1, status: closing, memory: 4, processing: 0> (stimulus_id='handle-worker-cleanup-1704203137.0698743')\n",
            "INFO:distributed.scheduler:Remove worker <WorkerState 'tcp://127.0.0.1:37109', name: 2, status: closing, memory: 3, processing: 0> (stimulus_id='handle-worker-cleanup-1704203137.0754693')\n",
            "INFO:distributed.core:Received 'close-stream' from tcp://127.0.0.1:38320; closing.\n",
            "INFO:distributed.scheduler:Remove worker <WorkerState 'tcp://127.0.0.1:34887', name: 3, status: closing, memory: 3, processing: 5> (stimulus_id='handle-worker-cleanup-1704203137.091542')\n",
            "INFO:distributed.scheduler:Lost all workers\n"
          ]
        },
        {
          "output_type": "stream",
          "name": "stdout",
          "text": [
            "Task completed with result: 0\n",
            "Task completed with result: 2\n",
            "Task completed with result: 4\n",
            "Task completed with result: 6\n",
            "Task completed with result: 8\n"
          ]
        },
        {
          "output_type": "stream",
          "name": "stderr",
          "text": [
            "INFO:distributed.scheduler:Scheduler closing due to unknown reason...\n",
            "INFO:distributed.scheduler:Scheduler closing all comms\n"
          ]
        }
      ]
    }
  ]
}
