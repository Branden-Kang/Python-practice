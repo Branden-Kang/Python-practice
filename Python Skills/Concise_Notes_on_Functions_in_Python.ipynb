{
  "nbformat": 4,
  "nbformat_minor": 0,
  "metadata": {
    "colab": {
      "name": "Concise Notes on Functions in Python.ipynb",
      "provenance": [],
      "authorship_tag": "ABX9TyM8EF9hs9AgyDjw2Y++6iea"
    },
    "kernelspec": {
      "name": "python3",
      "display_name": "Python 3"
    }
  },
  "cells": [
    {
      "cell_type": "markdown",
      "metadata": {
        "id": "CeNfyuIwaPor"
      },
      "source": [
        "[Reference](https://towardsdatascience.com/a-concise-notes-on-functional-programming-with-python-45ad0f05ace1)"
      ]
    },
    {
      "cell_type": "code",
      "metadata": {
        "colab": {
          "base_uri": "https://localhost:8080/"
        },
        "id": "S8h8uWDZaOXx",
        "outputId": "f6eae7d4-6b1b-402a-929d-4530b9f9ae3a"
      },
      "source": [
        "name_1 = input(\"Your Name Here:\")\n",
        "year_of_birth_1 = int(input())\n",
        "\n",
        "name_2 = input(\"Your Name Here:\")\n",
        "year_of_birth_2 = int(input())\n",
        "\n",
        "name_3 = input(\"Your Name Here:\")\n",
        "year_of_birth_3 = int(input())\n",
        "\n",
        "print(\"Check\",name_1,\"'s YOB is Leap or Not:\")\n",
        "if(year_of_birth_1%4==0):\n",
        "    if(year_of_birth_1%100==0):\n",
        "        if(year_of_birth_1%400==0):\n",
        "            print(\"Leap Year\")\n",
        "        else:\n",
        "            print(\"Not Leap Year\")\n",
        "    else:\n",
        "        print(\"Leap Year\")\n",
        "else:\n",
        "    print(\"Not Leap Year\")\n",
        "    \n",
        "print(\"Check\",name_2,\"'s YOB is Leap or Not:\")\n",
        "if(year_of_birth_2%4==0):\n",
        "    if(year_of_birth_2%100==0):\n",
        "        if(year_of_birth_2%400==0):\n",
        "            print(\"Leap Year\")\n",
        "        else:\n",
        "            print(\"Not Leap Year\")\n",
        "    else:\n",
        "        print(\"Leap Year\")\n",
        "else:\n",
        "    print(\"Not Leap Year\")\n",
        "    \n",
        "print(\"Check\",name_3,\"'s YOB is Leap or Not:\")\n",
        "if(year_of_birth_3%4==0):\n",
        "    if(year_of_birth_3%100==0):\n",
        "        if(year_of_birth_3%400==0):\n",
        "            print(\"Leap Year\")\n",
        "        else:\n",
        "            print(\"Not Leap Year\")\n",
        "    else:\n",
        "        print(\"Leap Year\")\n",
        "else:\n",
        "    print(\"Not Leap Year\")"
      ],
      "execution_count": 1,
      "outputs": [
        {
          "output_type": "stream",
          "text": [
            "Your Name Here:Branden\n",
            "2000\n",
            "Your Name Here:Lilly\n",
            "2003\n",
            "Your Name Here:Jack\n",
            "2001\n",
            "Check Branden 's YOB is Leap or Not:\n",
            "Leap Year\n",
            "Check Lilly 's YOB is Leap or Not:\n",
            "Not Leap Year\n",
            "Check Jack 's YOB is Leap or Not:\n",
            "Not Leap Year\n"
          ],
          "name": "stdout"
        }
      ]
    },
    {
      "cell_type": "code",
      "metadata": {
        "colab": {
          "base_uri": "https://localhost:8080/"
        },
        "id": "PVH_bN4Tac9n",
        "outputId": "a7cd5000-b1cf-4956-9e96-37dbecae9087"
      },
      "source": [
        "def check_leap(YOB):\n",
        "    if(year_of_birth_3%4==0):\n",
        "        if(year_of_birth_3%100==0):\n",
        "            if(year_of_birth_3%400==0):\n",
        "                print(\"Leap Year\")\n",
        "            else:\n",
        "                print(\"Not Leap Year\")\n",
        "        else:\n",
        "            print(\"Leap Year\")\n",
        "    else:\n",
        "        print(\"Not Leap Year\")\n",
        "        \n",
        "name_1 = input(\"Your Name Here:\")\n",
        "year_of_birth_1 = int(input())\n",
        "\n",
        "name_2 = input(\"Your Name Here:\")\n",
        "year_of_birth_2 = int(input())\n",
        "\n",
        "name_3 = input(\"Your Name Here:\")\n",
        "year_of_birth_3 = int(input())\n",
        "\n",
        "print(\"Check\",name_1,\"'s YOB is Leap or Not:\")\n",
        "check_leap(year_of_birth_1)\n",
        "\n",
        "print(\"Check\",name_2,\"'s YOB is Leap or Not:\")\n",
        "check_leap(year_of_birth_2)\n",
        "\n",
        "print(\"Check\",name_3,\"'s YOB is Leap or Not:\")\n",
        "check_leap(year_of_birth_3)"
      ],
      "execution_count": 2,
      "outputs": [
        {
          "output_type": "stream",
          "text": [
            "Your Name Here:Branden\n",
            "2000\n",
            "Your Name Here:Lilly\n",
            "2003\n",
            "Your Name Here:Jack\n",
            "2001\n",
            "Check Branden 's YOB is Leap or Not:\n",
            "Not Leap Year\n",
            "Check Lilly 's YOB is Leap or Not:\n",
            "Not Leap Year\n",
            "Check Jack 's YOB is Leap or Not:\n",
            "Not Leap Year\n"
          ],
          "name": "stdout"
        }
      ]
    },
    {
      "cell_type": "markdown",
      "metadata": {
        "id": "rxS5pixJbHPT"
      },
      "source": [
        "# Function without argument and without return value"
      ]
    },
    {
      "cell_type": "code",
      "metadata": {
        "colab": {
          "base_uri": "https://localhost:8080/"
        },
        "id": "TKXUF4_8azWw",
        "outputId": "b59d458f-4789-413e-8b1d-b37221e47cf3"
      },
      "source": [
        "def eligible():\n",
        "    print(\"You are Eligible to take the Exam\")\n",
        "    \n",
        "def not_eligible():\n",
        "    print(\"You are not Eligible to take the Exam\")\n",
        "    \n",
        "age = int(input(\"Enter Your Age:\"))\n",
        "\n",
        "if(age<20):\n",
        "    not_eligible()\n",
        "elif(age>=20 and age<35):\n",
        "    eligible()\n",
        "else:\n",
        "    not_eligible()"
      ],
      "execution_count": 3,
      "outputs": [
        {
          "output_type": "stream",
          "text": [
            "Enter Your Age:30\n",
            "You are Eligible to take the Exam\n"
          ],
          "name": "stdout"
        }
      ]
    },
    {
      "cell_type": "markdown",
      "metadata": {
        "id": "-zx6RZSzbM90"
      },
      "source": [
        "# Function without argument and with return value"
      ]
    },
    {
      "cell_type": "code",
      "metadata": {
        "colab": {
          "base_uri": "https://localhost:8080/"
        },
        "id": "DsC2wYF2bLDY",
        "outputId": "eeb89a98-94a7-4a19-953e-b50994ab90e4"
      },
      "source": [
        "def low_dosage():\n",
        "   return 75\n",
        "def med_dosage():\n",
        "   return 100\n",
        "def high_dosage():\n",
        "   return 150\n",
        "   \n",
        "age = int(input(\"Patient's Age:\"))\n",
        "temp = float(input(\"Body Temperature:\"))\n",
        "\n",
        "\n",
        "if(age<10 and temp>98 and temp<99):\n",
        "    print(\"The medicine with \",low_dosage(),\"mgs is enough.\")\n",
        "elif(age<10 and temp>99):\n",
        "    print(\"The medicine with\",med_dosage(),\"mgs is enough.\")\n",
        "elif(age>10 and temp>98 and temp<99):\n",
        "    print(\"The medicine with\",med_dosage(),\"mgs is enough.\")\n",
        "elif(age>10 and temp>99):\n",
        "    print(\"The medicine with\",high_dosage(),\"mgs is enough.\")"
      ],
      "execution_count": 4,
      "outputs": [
        {
          "output_type": "stream",
          "text": [
            "Patient's Age:38\n",
            "Body Temperature:110\n",
            "The medicine with 150 mgs is enough.\n"
          ],
          "name": "stdout"
        }
      ]
    },
    {
      "cell_type": "markdown",
      "metadata": {
        "id": "lkaNy4tBbUJ1"
      },
      "source": [
        "# Function with arguments and without return value"
      ]
    },
    {
      "cell_type": "code",
      "metadata": {
        "colab": {
          "base_uri": "https://localhost:8080/"
        },
        "id": "494DYzBBbRAp",
        "outputId": "fa31d133-034f-483c-ced6-559863d4efae"
      },
      "source": [
        "def low(amount,year):\n",
        "    rate = 6.5\n",
        "    interest = amount * year * rate/100\n",
        "    if(year<5):\n",
        "        print(\"Your interest will be\",interest * 1.2)\n",
        "    else:\n",
        "        print(\"Your interest will be\",interest * 1.4)\n",
        "\n",
        "def high(amount,year):\n",
        "    rate = 8.5\n",
        "    interest = amount * year * rate/100\n",
        "    if(year<5):\n",
        "        print(\"Your interest will be\",interest * 1.2)\n",
        "    else:\n",
        "        print(\"Your interest will be\",interest * 1.4)\n",
        "        \n",
        "amount = int(input(\"Investment Amount:\"))\n",
        "year = int(input(\"No of Years:\"))\n",
        "\n",
        "if(amount<100000):\n",
        "    low(amount,year)\n",
        "else:\n",
        "    high(amount,year)"
      ],
      "execution_count": 5,
      "outputs": [
        {
          "output_type": "stream",
          "text": [
            "Investment Amount:150000\n",
            "No of Years:8\n",
            "Your interest will be 142800.0\n"
          ],
          "name": "stdout"
        }
      ]
    },
    {
      "cell_type": "markdown",
      "metadata": {
        "id": "OH7Gg6xSbcH_"
      },
      "source": [
        "# Function with arguments and with return value"
      ]
    },
    {
      "cell_type": "code",
      "metadata": {
        "colab": {
          "base_uri": "https://localhost:8080/"
        },
        "id": "7rB4tqPKbYsE",
        "outputId": "00a7479b-5906-4ceb-ca0f-801f6f9f888d"
      },
      "source": [
        "def low(amount,year):\n",
        "    rate = 6.5\n",
        "    interest = amount * year * rate/100\n",
        "    if(year<5):\n",
        "        return interest*1.2\n",
        "    else:\n",
        "        return interest*1.4\n",
        "def high(amount,year):\n",
        "    rate = 8.5\n",
        "    interest = amount * year * rate/100\n",
        "    if(year<5):\n",
        "        return interest*1.2\n",
        "    else:\n",
        "        return interest*1.4\n",
        "        \n",
        "amount = int(input(\"Investment Amount:\"))\n",
        "year = int(input(\"No of Years:\"))\n",
        "\n",
        "if(amount<100000):\n",
        "    print(\"Your Interest will be\",low(amount,year))\n",
        "else:\n",
        "    print(\"Your Interest will be\",high(amount,year))"
      ],
      "execution_count": 6,
      "outputs": [
        {
          "output_type": "stream",
          "text": [
            "Investment Amount:100000\n",
            "No of Years:6\n",
            "Your Interest will be 71400.0\n"
          ],
          "name": "stdout"
        }
      ]
    },
    {
      "cell_type": "code",
      "metadata": {
        "colab": {
          "base_uri": "https://localhost:8080/"
        },
        "id": "MfTORNKAbgYJ",
        "outputId": "8a32b524-3b76-4361-bba5-4998d0f1ccfa"
      },
      "source": [
        "def question():\n",
        "    print(\"Your Name:\")\n",
        "def type():\n",
        "    print(\"Type of Account\")\n",
        "def savings():\n",
        "    return 1.8\n",
        "def fixed():\n",
        "    return 2.3\n",
        "def interest_calc(amount,year,rate):\n",
        "    interest_amt=amount * year * rate/100\n",
        "    return interest_amt\n",
        "def total_calc(amount,interest):\n",
        "    return amount+interest\n",
        "def info(name,total,year):\n",
        "    print(name,\"'s Total amount after\",year,\"is\",total)\n",
        "    \n",
        "question()\n",
        "name = input()\n",
        "type()\n",
        "t=int(input(\"Savings(1)/Fixed(2)\"))\n",
        "if(t==1):\n",
        "    rate = savings()\n",
        "elif(t==2):\n",
        "    rate = fixed()\n",
        "amount = int(input(\"Amount:\"))\n",
        "year = int(input(\"Year:\"))\n",
        "interest = interest_calc(amount,year,rate)\n",
        "total = total_calc(amount,interest)\n",
        "info(name,total,year)"
      ],
      "execution_count": 7,
      "outputs": [
        {
          "output_type": "stream",
          "text": [
            "Your Name:\n",
            "Branden\n",
            "Type of Account\n",
            "Savings(1)/Fixed(2)2\n",
            "Amount:200000\n",
            "Year:6\n",
            "Branden 's Total amount after 6 is 227600.0\n"
          ],
          "name": "stdout"
        }
      ]
    },
    {
      "cell_type": "markdown",
      "metadata": {
        "id": "Ys5mmheQbtQM"
      },
      "source": [
        "# Scope of Variable"
      ]
    },
    {
      "cell_type": "code",
      "metadata": {
        "colab": {
          "base_uri": "https://localhost:8080/",
          "height": 368
        },
        "id": "dHVnDKRwbmVB",
        "outputId": "eebaf7f2-283c-4bf0-8f0e-42f5ea76838e"
      },
      "source": [
        "def info():\n",
        "    value = 5\n",
        "    print(\"The value is\",value)\n",
        "def test():\n",
        "    print(\"The value is\",value)\n",
        "\n",
        "info()\n",
        "test()"
      ],
      "execution_count": 8,
      "outputs": [
        {
          "output_type": "stream",
          "text": [
            "The value is 5\n"
          ],
          "name": "stdout"
        },
        {
          "output_type": "error",
          "ename": "NameError",
          "evalue": "ignored",
          "traceback": [
            "\u001b[0;31m---------------------------------------------------------------------------\u001b[0m",
            "\u001b[0;31mNameError\u001b[0m                                 Traceback (most recent call last)",
            "\u001b[0;32m<ipython-input-8-dc2f1b374469>\u001b[0m in \u001b[0;36m<module>\u001b[0;34m()\u001b[0m\n\u001b[1;32m      6\u001b[0m \u001b[0;34m\u001b[0m\u001b[0m\n\u001b[1;32m      7\u001b[0m \u001b[0minfo\u001b[0m\u001b[0;34m(\u001b[0m\u001b[0;34m)\u001b[0m\u001b[0;34m\u001b[0m\u001b[0;34m\u001b[0m\u001b[0m\n\u001b[0;32m----> 8\u001b[0;31m \u001b[0mtest\u001b[0m\u001b[0;34m(\u001b[0m\u001b[0;34m)\u001b[0m\u001b[0;34m\u001b[0m\u001b[0;34m\u001b[0m\u001b[0m\n\u001b[0m",
            "\u001b[0;32m<ipython-input-8-dc2f1b374469>\u001b[0m in \u001b[0;36mtest\u001b[0;34m()\u001b[0m\n\u001b[1;32m      3\u001b[0m     \u001b[0mprint\u001b[0m\u001b[0;34m(\u001b[0m\u001b[0;34m\"The value is\"\u001b[0m\u001b[0;34m,\u001b[0m\u001b[0mvalue\u001b[0m\u001b[0;34m)\u001b[0m\u001b[0;34m\u001b[0m\u001b[0;34m\u001b[0m\u001b[0m\n\u001b[1;32m      4\u001b[0m \u001b[0;32mdef\u001b[0m \u001b[0mtest\u001b[0m\u001b[0;34m(\u001b[0m\u001b[0;34m)\u001b[0m\u001b[0;34m:\u001b[0m\u001b[0;34m\u001b[0m\u001b[0;34m\u001b[0m\u001b[0m\n\u001b[0;32m----> 5\u001b[0;31m     \u001b[0mprint\u001b[0m\u001b[0;34m(\u001b[0m\u001b[0;34m\"The value is\"\u001b[0m\u001b[0;34m,\u001b[0m\u001b[0mvalue\u001b[0m\u001b[0;34m)\u001b[0m\u001b[0;34m\u001b[0m\u001b[0;34m\u001b[0m\u001b[0m\n\u001b[0m\u001b[1;32m      6\u001b[0m \u001b[0;34m\u001b[0m\u001b[0m\n\u001b[1;32m      7\u001b[0m \u001b[0minfo\u001b[0m\u001b[0;34m(\u001b[0m\u001b[0;34m)\u001b[0m\u001b[0;34m\u001b[0m\u001b[0;34m\u001b[0m\u001b[0m\n",
            "\u001b[0;31mNameError\u001b[0m: name 'value' is not defined"
          ]
        }
      ]
    },
    {
      "cell_type": "code",
      "metadata": {
        "colab": {
          "base_uri": "https://localhost:8080/"
        },
        "id": "qNZhgSNLbvBG",
        "outputId": "9712ba62-ace7-4e57-d0ec-c79373fd72f3"
      },
      "source": [
        "def info():\n",
        "    global value\n",
        "    value = 5\n",
        "    print(\"The value is\",value)\n",
        "def test():\n",
        "    print(\"The value is\",value)\n",
        "\n",
        "info()\n",
        "test()"
      ],
      "execution_count": 10,
      "outputs": [
        {
          "output_type": "stream",
          "text": [
            "The value is 5\n",
            "The value is 5\n"
          ],
          "name": "stdout"
        }
      ]
    },
    {
      "cell_type": "markdown",
      "metadata": {
        "id": "8vt880Vlb09M"
      },
      "source": [
        "# *args and **kwargs in Python"
      ]
    },
    {
      "cell_type": "code",
      "metadata": {
        "colab": {
          "base_uri": "https://localhost:8080/"
        },
        "id": "W8cETJNPb0DM",
        "outputId": "d927708d-d005-4734-80ef-fc0ac4b31fce"
      },
      "source": [
        "def function(*args):\n",
        "    for x in args:\n",
        "        print(x)\n",
        "        \n",
        "function(\"Braden\",\"Jake\")"
      ],
      "execution_count": 11,
      "outputs": [
        {
          "output_type": "stream",
          "text": [
            "Braden\n",
            "Jake\n"
          ],
          "name": "stdout"
        }
      ]
    },
    {
      "cell_type": "code",
      "metadata": {
        "colab": {
          "base_uri": "https://localhost:8080/"
        },
        "id": "8nT45cw5b7kP",
        "outputId": "e6df632b-7121-4df7-b533-0c9d02479a78"
      },
      "source": [
        "def function(name ,*args):\n",
        "    print(name)\n",
        "    for x in args:\n",
        "        print(x)\n",
        "        \n",
        "function(\"Branden Kang\", \"Runner\",  \"Data\")"
      ],
      "execution_count": 12,
      "outputs": [
        {
          "output_type": "stream",
          "text": [
            "Branden Kang\n",
            "Runner\n",
            "Data\n"
          ],
          "name": "stdout"
        }
      ]
    },
    {
      "cell_type": "code",
      "metadata": {
        "colab": {
          "base_uri": "https://localhost:8080/"
        },
        "id": "vejS_l1JcG8r",
        "outputId": "025726fb-88a5-469e-c175-9e4a5c1fd9e0"
      },
      "source": [
        "def myfunction(**kwargs):\n",
        "    for x,y in kwargs.items():\n",
        "        print(y)\n",
        "\n",
        "myfunction(First_name = \"Branden\", Last_name = \"Kang\")"
      ],
      "execution_count": 13,
      "outputs": [
        {
          "output_type": "stream",
          "text": [
            "Branden\n",
            "Kang\n"
          ],
          "name": "stdout"
        }
      ]
    },
    {
      "cell_type": "markdown",
      "metadata": {
        "id": "eg0aw-ZGcOuu"
      },
      "source": [
        "# Lambda function in Python"
      ]
    },
    {
      "cell_type": "code",
      "metadata": {
        "colab": {
          "base_uri": "https://localhost:8080/"
        },
        "id": "q0ln_Bq0cLs7",
        "outputId": "8e9323d9-bd7b-4858-eec8-fec72f2917c6"
      },
      "source": [
        "x = lambda a, b, c : a+b-c\n",
        "print(x(5,6,3))"
      ],
      "execution_count": 14,
      "outputs": [
        {
          "output_type": "stream",
          "text": [
            "8\n"
          ],
          "name": "stdout"
        }
      ]
    }
  ]
}