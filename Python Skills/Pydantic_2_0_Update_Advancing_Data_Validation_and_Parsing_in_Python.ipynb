{
  "nbformat": 4,
  "nbformat_minor": 0,
  "metadata": {
    "colab": {
      "provenance": [],
      "authorship_tag": "ABX9TyP1QvZR7IEHXXmc/PmyqesG"
    },
    "kernelspec": {
      "name": "python3",
      "display_name": "Python 3"
    },
    "language_info": {
      "name": "python"
    }
  },
  "cells": [
    {
      "cell_type": "markdown",
      "source": [
        "[Reference](https://medium.com/@HeCanThink/pydantic-2-0-update-advancing-data-validation-and-parsing-in-python-%EF%B8%8F-b7d9f9d94430)"
      ],
      "metadata": {
        "id": "VEYzR0J7ylh8"
      }
    },
    {
      "cell_type": "code",
      "execution_count": 1,
      "metadata": {
        "colab": {
          "base_uri": "https://localhost:8080/",
          "height": 249
        },
        "id": "KIl1EbJ-yE5o",
        "outputId": "7b256b89-5d62-49b5-c205-54ec62420703"
      },
      "outputs": [
        {
          "output_type": "stream",
          "name": "stdout",
          "text": [
            "123\n"
          ]
        },
        {
          "output_type": "error",
          "ename": "AttributeError",
          "evalue": "ignored",
          "traceback": [
            "\u001b[0;31m---------------------------------------------------------------------------\u001b[0m",
            "\u001b[0;31mAttributeError\u001b[0m                            Traceback (most recent call last)",
            "\u001b[0;32m<ipython-input-1-7082a2895edc>\u001b[0m in \u001b[0;36m<cell line: 24>\u001b[0;34m()\u001b[0m\n\u001b[1;32m     22\u001b[0m \u001b[0;31m#> 123\u001b[0m\u001b[0;34m\u001b[0m\u001b[0;34m\u001b[0m\u001b[0m\n\u001b[1;32m     23\u001b[0m \u001b[0;34m\u001b[0m\u001b[0m\n\u001b[0;32m---> 24\u001b[0;31m \u001b[0mprint\u001b[0m\u001b[0;34m(\u001b[0m\u001b[0muser\u001b[0m\u001b[0;34m.\u001b[0m\u001b[0mmodel_dump\u001b[0m\u001b[0;34m(\u001b[0m\u001b[0;34m)\u001b[0m\u001b[0;34m)\u001b[0m\u001b[0;34m\u001b[0m\u001b[0;34m\u001b[0m\u001b[0m\n\u001b[0m",
            "\u001b[0;31mAttributeError\u001b[0m: 'User' object has no attribute 'model_dump'"
          ]
        }
      ],
      "source": [
        "from datetime import datetime\n",
        "from pydantic import BaseModel, PositiveInt\n",
        "\n",
        "class User(BaseModel):\n",
        "    id: int\n",
        "    name: str = 'John Doe'\n",
        "    signup_ts: datetime | None\n",
        "    tastes: dict[str, PositiveInt]\n",
        "\n",
        "external_data = {\n",
        "    'id': 123,\n",
        "    'signup_ts': '2019-06-01 12:22',\n",
        "    'tastes': {\n",
        "        'wine': 9,\n",
        "        b'cheese': 7,\n",
        "        'cabbage': '1',\n",
        "    },\n",
        "}\n",
        "\n",
        "user = User(**external_data)\n",
        "print(user.id)\n",
        "#> 123\n",
        "\n",
        "print(user.model_dump())"
      ]
    },
    {
      "cell_type": "code",
      "source": [
        "from datetime import datetime\n",
        "from pydantic import BaseModel, PositiveInt, ValidationError\n",
        "\n",
        "class User(BaseModel):\n",
        "    id: int\n",
        "    name: str = 'John Doe'\n",
        "    signup_ts: datetime | None\n",
        "    tastes: dict[str, PositiveInt]\n",
        "\n",
        "external_data = {'id': 'not an int', 'tastes': {}}\n",
        "\n",
        "try:\n",
        "    User(**external_data)\n",
        "except ValidationError as e:\n",
        "    print(e.errors())"
      ],
      "metadata": {
        "colab": {
          "base_uri": "https://localhost:8080/"
        },
        "id": "2fPE_7bzy6Wi",
        "outputId": "1b58e50e-5be6-471d-bacd-5a0ca1a92b02"
      },
      "execution_count": 2,
      "outputs": [
        {
          "output_type": "stream",
          "name": "stdout",
          "text": [
            "[{'loc': ('id',), 'msg': 'value is not a valid integer', 'type': 'type_error.integer'}]\n"
          ]
        }
      ]
    }
  ]
}
