{
  "nbformat": 4,
  "nbformat_minor": 0,
  "metadata": {
    "colab": {
      "name": "4 Ways to level up your python code.ipynb",
      "provenance": [],
      "authorship_tag": "ABX9TyOcukaD80fy0jwl7ejqfLqO"
    },
    "kernelspec": {
      "name": "python3",
      "display_name": "Python 3"
    },
    "language_info": {
      "name": "python"
    }
  },
  "cells": [
    {
      "cell_type": "markdown",
      "metadata": {
        "id": "QDyJBPOTbegG"
      },
      "source": [
        "[Reference](https://rishi-sutar.medium.com/4-ways-to-level-up-your-python-code-c15a87a4e2a4)"
      ]
    },
    {
      "cell_type": "markdown",
      "metadata": {
        "id": "eGRUzT4abhlh"
      },
      "source": [
        "# Replace range(len()) with enumerate()"
      ]
    },
    {
      "cell_type": "code",
      "metadata": {
        "colab": {
          "base_uri": "https://localhost:8080/"
        },
        "id": "C0TfT1zKbaT-",
        "outputId": "639a2013-f8fe-41da-d9cd-a67195a5951d"
      },
      "source": [
        "cities = ['Rio', 'Moscow', 'Denver', 'Tokyo']\n",
        "\n",
        "for i in range(len(cities)):\n",
        "    print(i, cities[i])\n",
        "\n",
        "for idx, city in enumerate(cities):\n",
        "    print(idx, city)"
      ],
      "execution_count": 1,
      "outputs": [
        {
          "output_type": "stream",
          "text": [
            "0 Rio\n",
            "1 Moscow\n",
            "2 Denver\n",
            "3 Tokyo\n",
            "0 Rio\n",
            "1 Moscow\n",
            "2 Denver\n",
            "3 Tokyo\n"
          ],
          "name": "stdout"
        }
      ]
    },
    {
      "cell_type": "markdown",
      "metadata": {
        "id": "TYIlEvX6cs3e"
      },
      "source": [
        "# Simplify Iterating Over Multiple Lists with Zip()"
      ]
    },
    {
      "cell_type": "code",
      "metadata": {
        "colab": {
          "base_uri": "https://localhost:8080/"
        },
        "id": "BFSrlxqScp2A",
        "outputId": "f6b530d0-3971-4a42-b015-1c11b58f7121"
      },
      "source": [
        "cities = ['Mumbai', 'London', ' Moscow']\n",
        "countries = ['India', 'England', ' Russia']\n",
        "\n",
        "for_looped = []\n",
        "for i in range(len(cities)):\n",
        "    for_looped.append([cities[i], countries[i]])\n",
        "print(for_looped)\n",
        "\n",
        "zipped = zip(cities, countries)\n",
        "zipped_list = list(zipped)\n",
        "print(zipped_list)"
      ],
      "execution_count": 4,
      "outputs": [
        {
          "output_type": "stream",
          "text": [
            "[['Mumbai', 'India'], ['London', 'England'], [' Moscow', ' Russia']]\n",
            "[('Mumbai', 'India'), ('London', 'England'), (' Moscow', ' Russia')]\n"
          ],
          "name": "stdout"
        }
      ]
    },
    {
      "cell_type": "markdown",
      "metadata": {
        "id": "5DM0obbydKts"
      },
      "source": [
        "# Stop using Square Brackets to Get Dictionary Items, Use .get() method"
      ]
    },
    {
      "cell_type": "code",
      "metadata": {
        "colab": {
          "base_uri": "https://localhost:8080/"
        },
        "id": "2tDsDafYdDF6",
        "outputId": "cfcadeba-792b-4f71-a6d5-a650982010a8"
      },
      "source": [
        "ariana = {\n",
        "    'age':20,\n",
        "    'gender':'female',\n",
        "    'employed':'true'\n",
        "}\n",
        "\n",
        "print(ariana.get('gender'))\n",
        "print(ariana.get('age'))"
      ],
      "execution_count": 7,
      "outputs": [
        {
          "output_type": "stream",
          "text": [
            "female\n",
            "20\n"
          ],
          "name": "stdout"
        }
      ]
    },
    {
      "cell_type": "markdown",
      "metadata": {
        "id": "WAglQ6mkd2Eg"
      },
      "source": [
        "# Use f-string to Easily Print to the Console"
      ]
    },
    {
      "cell_type": "code",
      "metadata": {
        "colab": {
          "base_uri": "https://localhost:8080/"
        },
        "id": "gIfLG3btdsVv",
        "outputId": "f069a26c-2c50-4775-c875-43f875cb8035"
      },
      "source": [
        "name = 'Richie'\n",
        "print(f\"name = {name}\")"
      ],
      "execution_count": 9,
      "outputs": [
        {
          "output_type": "stream",
          "text": [
            "name = Richie\n"
          ],
          "name": "stdout"
        }
      ]
    }
  ]
}