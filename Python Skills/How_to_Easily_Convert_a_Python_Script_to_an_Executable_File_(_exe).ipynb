{
  "nbformat": 4,
  "nbformat_minor": 0,
  "metadata": {
    "colab": {
      "name": "How to Easily Convert a Python Script to an Executable File (.exe).ipynb",
      "provenance": [],
      "authorship_tag": "ABX9TyO/1aXk/AENo6IdY/2Wt7ek"
    },
    "kernelspec": {
      "name": "python3",
      "display_name": "Python 3"
    },
    "language_info": {
      "name": "python"
    }
  },
  "cells": [
    {
      "cell_type": "markdown",
      "metadata": {
        "id": "6PKnY5qEspxr"
      },
      "source": [
        "[Reference](https://towardsdatascience.com/how-to-easily-convert-a-python-script-to-an-executable-file-exe-4966e253c7e9)"
      ]
    },
    {
      "cell_type": "code",
      "metadata": {
        "colab": {
          "base_uri": "https://localhost:8080/"
        },
        "id": "wqGBUSsfsnXn",
        "outputId": "6cc69db6-fe7a-4a53-de58-0ce0b3d28a26"
      },
      "source": [
        "pip install auto-py-to-exe"
      ],
      "execution_count": 1,
      "outputs": [
        {
          "output_type": "stream",
          "text": [
            "Collecting auto-py-to-exe\n",
            "\u001b[?25l  Downloading https://files.pythonhosted.org/packages/f0/53/60bfbe6622ced1ff2ca5327d2bc15aeab7f6581d84832e08f56aeac09043/auto_py_to_exe-2.9.0-py2.py3-none-any.whl (81kB)\n",
            "\u001b[K     |████████████████████████████████| 81kB 3.6MB/s \n",
            "\u001b[?25hCollecting pyinstaller>=4.1\n",
            "\u001b[?25l  Downloading https://files.pythonhosted.org/packages/b6/27/a006fcadba0db30819c968eb8decb4937cda398ca7a44d8874172cdc228a/pyinstaller-4.3.tar.gz (3.7MB)\n",
            "\u001b[K     |████████████████████████████████| 3.7MB 5.9MB/s \n",
            "\u001b[?25h  Installing build dependencies ... \u001b[?25l\u001b[?25hdone\n",
            "  Getting requirements to build wheel ... \u001b[?25l\u001b[?25hdone\n",
            "    Preparing wheel metadata ... \u001b[?25l\u001b[?25hdone\n",
            "Collecting Eel==0.12.4\n",
            "  Downloading https://files.pythonhosted.org/packages/62/b5/a290f90d6f313ae0cc0f2eb667bdf8d9cb3b86d1547275ee96306c47f583/Eel-0.12.4.tar.gz\n",
            "Collecting altgraph\n",
            "  Downloading https://files.pythonhosted.org/packages/ee/3d/bfca21174b162f6ce674953f1b7a640c1498357fa6184776029557c25399/altgraph-0.17-py2.py3-none-any.whl\n",
            "Requirement already satisfied: importlib-metadata; python_version < \"3.8\" in /usr/local/lib/python3.7/dist-packages (from pyinstaller>=4.1->auto-py-to-exe) (4.5.0)\n",
            "Requirement already satisfied: setuptools in /usr/local/lib/python3.7/dist-packages (from pyinstaller>=4.1->auto-py-to-exe) (57.0.0)\n",
            "Collecting pyinstaller-hooks-contrib>=2020.6\n",
            "\u001b[?25l  Downloading https://files.pythonhosted.org/packages/27/c7/58a634d861e4744ac62dca4a4992ace8def8b05dab91e6b25e5043e79acf/pyinstaller_hooks_contrib-2021.1-py2.py3-none-any.whl (181kB)\n",
            "\u001b[K     |████████████████████████████████| 184kB 20.5MB/s \n",
            "\u001b[?25hCollecting bottle\n",
            "\u001b[?25l  Downloading https://files.pythonhosted.org/packages/bf/44/aeafdd6ca05a8e1c3f91eeeb272a202d5cb1b3b23730a5ca686a81c48d24/bottle-0.12.19-py3-none-any.whl (89kB)\n",
            "\u001b[K     |████████████████████████████████| 92kB 8.2MB/s \n",
            "\u001b[?25hCollecting bottle-websocket\n",
            "  Downloading https://files.pythonhosted.org/packages/17/8e/a22666b4bb0a6e31de579504077df2b1c2f1438136777c728e6cfabef295/bottle-websocket-0.2.9.tar.gz\n",
            "Requirement already satisfied: future in /usr/local/lib/python3.7/dist-packages (from Eel==0.12.4->auto-py-to-exe) (0.16.0)\n",
            "Collecting whichcraft\n",
            "  Downloading https://files.pythonhosted.org/packages/b5/a2/81887a0dae2e4d2adc70d9a3557fdda969f863ced51cd3c47b587d25bce5/whichcraft-0.6.1-py2.py3-none-any.whl\n",
            "Requirement already satisfied: zipp>=0.5 in /usr/local/lib/python3.7/dist-packages (from importlib-metadata; python_version < \"3.8\"->pyinstaller>=4.1->auto-py-to-exe) (3.4.1)\n",
            "Requirement already satisfied: typing-extensions>=3.6.4; python_version < \"3.8\" in /usr/local/lib/python3.7/dist-packages (from importlib-metadata; python_version < \"3.8\"->pyinstaller>=4.1->auto-py-to-exe) (3.7.4.3)\n",
            "Collecting gevent-websocket\n",
            "  Downloading https://files.pythonhosted.org/packages/7b/84/2dc373eb6493e00c884cc11e6c059ec97abae2678d42f06bf780570b0193/gevent_websocket-0.10.1-py3-none-any.whl\n",
            "Collecting gevent\n",
            "\u001b[?25l  Downloading https://files.pythonhosted.org/packages/3e/85/df3d1fd2b60a87455475f93012861b76a411d27ba4a0859939adbe2c9dc3/gevent-21.1.2-cp37-cp37m-manylinux2010_x86_64.whl (5.6MB)\n",
            "\u001b[K     |████████████████████████████████| 5.6MB 33.5MB/s \n",
            "\u001b[?25hCollecting zope.event\n",
            "  Downloading https://files.pythonhosted.org/packages/9e/85/b45408c64f3b888976f1d5b37eed8d746b8d5729a66a49ec846fda27d371/zope.event-4.5.0-py2.py3-none-any.whl\n",
            "Requirement already satisfied: greenlet<2.0,>=0.4.17; platform_python_implementation == \"CPython\" in /usr/local/lib/python3.7/dist-packages (from gevent->gevent-websocket->bottle-websocket->Eel==0.12.4->auto-py-to-exe) (1.1.0)\n",
            "Collecting zope.interface\n",
            "\u001b[?25l  Downloading https://files.pythonhosted.org/packages/bb/a7/94e1a92c71436f934cdd2102826fa041c83dcb7d21dd0f1fb1a57f6e0620/zope.interface-5.4.0-cp37-cp37m-manylinux2010_x86_64.whl (251kB)\n",
            "\u001b[K     |████████████████████████████████| 256kB 34.2MB/s \n",
            "\u001b[?25hBuilding wheels for collected packages: pyinstaller\n",
            "  Building wheel for pyinstaller (PEP 517) ... \u001b[?25l\u001b[?25hdone\n",
            "  Created wheel for pyinstaller: filename=pyinstaller-4.3-cp37-none-any.whl size=2457323 sha256=1a4461f6e3de2e3b13537c9a1e7da992ca4b2e5054b7646e5e9858cdc9765f5c\n",
            "  Stored in directory: /root/.cache/pip/wheels/4e/d9/60/db7ac8941a22cb24131ec3cf40d094b9984518671f85b93780\n",
            "Successfully built pyinstaller\n",
            "Building wheels for collected packages: Eel, bottle-websocket\n",
            "  Building wheel for Eel (setup.py) ... \u001b[?25l\u001b[?25hdone\n",
            "  Created wheel for Eel: filename=Eel-0.12.4-cp37-none-any.whl size=16228 sha256=e9f3af73d16665b4688c0a0899882926f9332b3d817e6dd36f0c8283385e8fc0\n",
            "  Stored in directory: /root/.cache/pip/wheels/7b/51/21/73dc1e93d046d7913334423c084bc8229b07fdb679f8027b1a\n",
            "  Building wheel for bottle-websocket (setup.py) ... \u001b[?25l\u001b[?25hdone\n",
            "  Created wheel for bottle-websocket: filename=bottle_websocket-0.2.9-cp37-none-any.whl size=2349 sha256=f5e4f0be5a4ba5373fc590e50838cc5e5174a8c31746614717964822e0298ccc\n",
            "  Stored in directory: /root/.cache/pip/wheels/1e/fd/80/af47541f053f14f4e5fd5927c91a7615358826429ba036152d\n",
            "Successfully built Eel bottle-websocket\n",
            "Installing collected packages: altgraph, pyinstaller-hooks-contrib, pyinstaller, bottle, zope.event, zope.interface, gevent, gevent-websocket, bottle-websocket, whichcraft, Eel, auto-py-to-exe\n",
            "Successfully installed Eel-0.12.4 altgraph-0.17 auto-py-to-exe-2.9.0 bottle-0.12.19 bottle-websocket-0.2.9 gevent-21.1.2 gevent-websocket-0.10.1 pyinstaller-4.3 pyinstaller-hooks-contrib-2021.1 whichcraft-0.6.1 zope.event-4.5.0 zope.interface-5.4.0\n"
          ],
          "name": "stdout"
        }
      ]
    },
    {
      "cell_type": "code",
      "metadata": {
        "colab": {
          "base_uri": "https://localhost:8080/"
        },
        "id": "2RnFJZJzsoFv",
        "outputId": "a97b6b8c-c02c-4627-ab3b-59fa39ca0d1b"
      },
      "source": [
        "!auto-py-to-exe"
      ],
      "execution_count": 3,
      "outputs": [
        {
          "output_type": "stream",
          "text": [
            "KeyboardInterrupt\n",
            "2021-06-17T16:00:12Z\n",
            "Traceback (most recent call last):\n",
            "  File \"src/gevent/greenlet.py\", line 906, in gevent._gevent_cgreenlet.Greenlet.run\n",
            "  File \"/usr/local/lib/python3.7/dist-packages/gevent/baseserver.py\", line 386, in stop\n",
            "    self.close()\n",
            "  File \"/usr/local/lib/python3.7/dist-packages/gevent/baseserver.py\", line 351, in close\n",
            "    self.socket.close()\n",
            "KeyboardInterrupt\n",
            "2021-06-17T16:00:12Z <Greenlet at 0x7f8984e57050: <bound method BaseServer.stop of <WSGIServer at 0x7f8984f40510 address=127.0.0.1:43861>>(timeout=None)> failed with KeyboardInterrupt\n",
            "\n"
          ],
          "name": "stdout"
        }
      ]
    },
    {
      "cell_type": "code",
      "metadata": {
        "colab": {
          "base_uri": "https://localhost:8080/",
          "height": 37
        },
        "id": "0XOsLhcmspLl",
        "outputId": "7a8e2aaa-df3f-4bf6-9b51-989855687a9c"
      },
      "source": [
        "import os\n",
        "import sys\n",
        "\n",
        "application_path = os.path.dirname(sys.executable)\n",
        "application_path"
      ],
      "execution_count": 5,
      "outputs": [
        {
          "output_type": "execute_result",
          "data": {
            "application/vnd.google.colaboratory.intrinsic+json": {
              "type": "string"
            },
            "text/plain": [
              "'/usr/bin'"
            ]
          },
          "metadata": {
            "tags": []
          },
          "execution_count": 5
        }
      ]
    }
  ]
}