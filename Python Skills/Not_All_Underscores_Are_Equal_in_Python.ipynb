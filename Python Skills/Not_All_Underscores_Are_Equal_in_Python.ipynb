{
  "nbformat": 4,
  "nbformat_minor": 0,
  "metadata": {
    "colab": {
      "name": "Not All Underscores Are Equal in Python.ipynb",
      "provenance": [],
      "authorship_tag": "ABX9TyO8tV9zZp7vi93O4FYKv+Hl"
    },
    "kernelspec": {
      "name": "python3",
      "display_name": "Python 3"
    }
  },
  "cells": [
    {
      "cell_type": "markdown",
      "metadata": {
        "id": "2hlWpJ4hz5AW"
      },
      "source": [
        "[Reference](https://betterprogramming.pub/not-all-underscores-are-equal-in-python-b50768124092)"
      ]
    },
    {
      "cell_type": "code",
      "metadata": {
        "colab": {
          "base_uri": "https://localhost:8080/"
        },
        "id": "N3y7ricPz3X8",
        "outputId": "dd1ecac8-cd54-460f-ec3f-1b9db86ff415"
      },
      "source": [
        "10"
      ],
      "execution_count": 1,
      "outputs": [
        {
          "output_type": "execute_result",
          "data": {
            "text/plain": [
              "10"
            ]
          },
          "metadata": {
            "tags": []
          },
          "execution_count": 1
        }
      ]
    },
    {
      "cell_type": "code",
      "metadata": {
        "colab": {
          "base_uri": "https://localhost:8080/"
        },
        "id": "ug9AK0D-z7RP",
        "outputId": "ac1bee90-40af-4df6-b8e5-111994743a4c"
      },
      "source": [
        "_"
      ],
      "execution_count": 2,
      "outputs": [
        {
          "output_type": "execute_result",
          "data": {
            "text/plain": [
              "10"
            ]
          },
          "metadata": {
            "tags": []
          },
          "execution_count": 2
        }
      ]
    },
    {
      "cell_type": "code",
      "metadata": {
        "colab": {
          "base_uri": "https://localhost:8080/"
        },
        "id": "WN2HA8txz7mL",
        "outputId": "c6e60978-c3ad-4976-f559-410807e2dbcc"
      },
      "source": [
        "_*2"
      ],
      "execution_count": 3,
      "outputs": [
        {
          "output_type": "execute_result",
          "data": {
            "text/plain": [
              "20"
            ]
          },
          "metadata": {
            "tags": []
          },
          "execution_count": 3
        }
      ]
    },
    {
      "cell_type": "code",
      "metadata": {
        "id": "6PkHKwtCz8Is"
      },
      "source": [
        "_ = 2"
      ],
      "execution_count": 4,
      "outputs": []
    },
    {
      "cell_type": "code",
      "metadata": {
        "colab": {
          "base_uri": "https://localhost:8080/"
        },
        "id": "P8Qz9kUfz8u8",
        "outputId": "66d73fb3-10a9-423c-9189-a3d07cb03033"
      },
      "source": [
        "_ * 2"
      ],
      "execution_count": 5,
      "outputs": [
        {
          "output_type": "execute_result",
          "data": {
            "text/plain": [
              "4"
            ]
          },
          "metadata": {
            "tags": []
          },
          "execution_count": 5
        }
      ]
    },
    {
      "cell_type": "code",
      "metadata": {
        "colab": {
          "base_uri": "https://localhost:8080/"
        },
        "id": "Dp3YgMOBz9d_",
        "outputId": "71b48f7e-5413-45e4-d074-99974cb164b6"
      },
      "source": [
        "fruit = ('apple','red', 5)\n",
        "_, color, _ = fruit\n",
        "print(color, _)"
      ],
      "execution_count": 7,
      "outputs": [
        {
          "output_type": "stream",
          "text": [
            "red 5\n"
          ],
          "name": "stdout"
        }
      ]
    },
    {
      "cell_type": "code",
      "metadata": {
        "colab": {
          "base_uri": "https://localhost:8080/"
        },
        "id": "y34TZmwI0HS4",
        "outputId": "ca095b9d-80e3-4666-e366-dcba24f3b4cf"
      },
      "source": [
        "colors = ['red','green', 'blue', 'yellow']\n",
        "r, *_, y = colors\n",
        "print(r, y, _)\n",
        "\n",
        "_, *c, _ = colors\n",
        "print(c, _)"
      ],
      "execution_count": 9,
      "outputs": [
        {
          "output_type": "stream",
          "text": [
            "red yellow ['green', 'blue']\n",
            "['green', 'blue'] yellow\n"
          ],
          "name": "stdout"
        }
      ]
    },
    {
      "cell_type": "code",
      "metadata": {
        "colab": {
          "base_uri": "https://localhost:8080/"
        },
        "id": "lRyiNzHF0Xxf",
        "outputId": "f9816fc1-be1c-4252-f8dd-d983b3835051"
      },
      "source": [
        "fruits = ['apple', 'orange']\n",
        "for i, j in enumerate(fruits):\n",
        "    print(i, j)\n",
        "\n",
        "for _, j in enumerate(fruits):\n",
        "    print(j)"
      ],
      "execution_count": 10,
      "outputs": [
        {
          "output_type": "stream",
          "text": [
            "0 apple\n",
            "1 orange\n",
            "apple\n",
            "orange\n"
          ],
          "name": "stdout"
        }
      ]
    },
    {
      "cell_type": "code",
      "metadata": {
        "colab": {
          "base_uri": "https://localhost:8080/"
        },
        "id": "p1iUz7fr0mkn",
        "outputId": "28c339e5-9696-4912-dbf4-f0c65ae827cc"
      },
      "source": [
        "a0 = 1_000\n",
        "a1 = 1000\n",
        "print(a0 == a1)\n",
        "\n",
        "b0 = 0b_11_01\n",
        "b1 = 0b1101\n",
        "print(b0 == b1)"
      ],
      "execution_count": 12,
      "outputs": [
        {
          "output_type": "stream",
          "text": [
            "True\n",
            "True\n"
          ],
          "name": "stdout"
        }
      ]
    },
    {
      "cell_type": "code",
      "metadata": {
        "id": "9kz1JS1x0yEN"
      },
      "source": [
        "var_a = 1\n",
        "var_two_ = \"two\"\n",
        "_var3 = [1, 2, 3]\n",
        "_ = (4, \"underscore\")\n",
        "\n",
        "def fun_with_underscore():\n",
        "    print(\"a function with underscore\")\n",
        "def _():\n",
        "    print(\"a function named _\")\n",
        "def _another_fun():\n",
        "    print(\"another function with underscore\")\n",
        "def _fun_():\n",
        "    print(\"it's fun to use underscores\")"
      ],
      "execution_count": 13,
      "outputs": []
    },
    {
      "cell_type": "code",
      "metadata": {
        "colab": {
          "base_uri": "https://localhost:8080/"
        },
        "id": "XMNKjZQk01dR",
        "outputId": "e926db96-2dce-4f72-cdb9-c4570311aa1a"
      },
      "source": [
        "class Fruit:\n",
        "    healthy = True\n",
        "    _price = 5\n",
        "    __vitamines = ['c','d']\n",
        "\n",
        "    def __sprout(self):\n",
        "        print('The fruit sprouts.')\n",
        "    def _flower(self):\n",
        "        print('The fruit flowers.')\n",
        "    def grow(self):\n",
        "        self.__sprout()\n",
        "        self._flower()\n",
        "        print('The fruit is about to fruit')         \n",
        "\n",
        "apple = Fruit()\n",
        "apple.grow()       "
      ],
      "execution_count": 19,
      "outputs": [
        {
          "output_type": "stream",
          "text": [
            "The fruit sprouts.\n",
            "The fruit flowers.\n",
            "The fruit is about to fruit\n"
          ],
          "name": "stdout"
        }
      ]
    },
    {
      "cell_type": "code",
      "metadata": {
        "colab": {
          "base_uri": "https://localhost:8080/"
        },
        "id": "prgg1lYi1Srp",
        "outputId": "990eafc5-ef65-4ccd-ba9a-6f344e37fcb4"
      },
      "source": [
        "apple._flower()"
      ],
      "execution_count": 20,
      "outputs": [
        {
          "output_type": "stream",
          "text": [
            "The fruit flowers.\n"
          ],
          "name": "stdout"
        }
      ]
    },
    {
      "cell_type": "code",
      "metadata": {
        "colab": {
          "base_uri": "https://localhost:8080/",
          "height": 198
        },
        "id": "uq1BQPTc1eB6",
        "outputId": "702c50c7-192b-4575-932f-67706737e7ac"
      },
      "source": [
        "apple.__sprout()"
      ],
      "execution_count": 21,
      "outputs": [
        {
          "output_type": "error",
          "ename": "AttributeError",
          "evalue": "ignored",
          "traceback": [
            "\u001b[0;31m---------------------------------------------------------------------------\u001b[0m",
            "\u001b[0;31mAttributeError\u001b[0m                            Traceback (most recent call last)",
            "\u001b[0;32m<ipython-input-21-31353e042271>\u001b[0m in \u001b[0;36m<module>\u001b[0;34m()\u001b[0m\n\u001b[0;32m----> 1\u001b[0;31m \u001b[0mapple\u001b[0m\u001b[0;34m.\u001b[0m\u001b[0m__sprout\u001b[0m\u001b[0;34m(\u001b[0m\u001b[0;34m)\u001b[0m\u001b[0;34m\u001b[0m\u001b[0;34m\u001b[0m\u001b[0m\n\u001b[0m",
            "\u001b[0;31mAttributeError\u001b[0m: 'Fruit' object has no attribute '__sprout'"
          ]
        }
      ]
    },
    {
      "cell_type": "code",
      "metadata": {
        "colab": {
          "base_uri": "https://localhost:8080/"
        },
        "id": "2jbZFkmO1h1E",
        "outputId": "d404476a-e671-40a1-b812-57be9f67ab6f"
      },
      "source": [
        "print(apple.healthy)"
      ],
      "execution_count": 22,
      "outputs": [
        {
          "output_type": "stream",
          "text": [
            "True\n"
          ],
          "name": "stdout"
        }
      ]
    },
    {
      "cell_type": "code",
      "metadata": {
        "colab": {
          "base_uri": "https://localhost:8080/"
        },
        "id": "g6nJCFuN1kYZ",
        "outputId": "dceaa146-098f-4be3-bc91-7fc842f985a2"
      },
      "source": [
        "print(apple._price)"
      ],
      "execution_count": 23,
      "outputs": [
        {
          "output_type": "stream",
          "text": [
            "5\n"
          ],
          "name": "stdout"
        }
      ]
    },
    {
      "cell_type": "code",
      "metadata": {
        "colab": {
          "base_uri": "https://localhost:8080/",
          "height": 198
        },
        "id": "NIVJ7x1v1mc4",
        "outputId": "7749a388-af3b-4157-b2a1-803540842b2a"
      },
      "source": [
        "print(apple.__vitamines)"
      ],
      "execution_count": 24,
      "outputs": [
        {
          "output_type": "error",
          "ename": "AttributeError",
          "evalue": "ignored",
          "traceback": [
            "\u001b[0;31m---------------------------------------------------------------------------\u001b[0m",
            "\u001b[0;31mAttributeError\u001b[0m                            Traceback (most recent call last)",
            "\u001b[0;32m<ipython-input-24-c2d658a1f406>\u001b[0m in \u001b[0;36m<module>\u001b[0;34m()\u001b[0m\n\u001b[0;32m----> 1\u001b[0;31m \u001b[0mprint\u001b[0m\u001b[0;34m(\u001b[0m\u001b[0mapple\u001b[0m\u001b[0;34m.\u001b[0m\u001b[0m__vitamines\u001b[0m\u001b[0;34m)\u001b[0m\u001b[0;34m\u001b[0m\u001b[0;34m\u001b[0m\u001b[0m\n\u001b[0m",
            "\u001b[0;31mAttributeError\u001b[0m: 'Fruit' object has no attribute '__vitamines'"
          ]
        }
      ]
    },
    {
      "cell_type": "code",
      "metadata": {
        "colab": {
          "base_uri": "https://localhost:8080/",
          "height": 198
        },
        "id": "QHvnOKLm1o6W",
        "outputId": "9860d34d-22b1-42e4-c584-ea26633ca988"
      },
      "source": [
        "apple.Fruit__sprout()"
      ],
      "execution_count": 25,
      "outputs": [
        {
          "output_type": "error",
          "ename": "AttributeError",
          "evalue": "ignored",
          "traceback": [
            "\u001b[0;31m---------------------------------------------------------------------------\u001b[0m",
            "\u001b[0;31mAttributeError\u001b[0m                            Traceback (most recent call last)",
            "\u001b[0;32m<ipython-input-25-fc47b1077d61>\u001b[0m in \u001b[0;36m<module>\u001b[0;34m()\u001b[0m\n\u001b[0;32m----> 1\u001b[0;31m \u001b[0mapple\u001b[0m\u001b[0;34m.\u001b[0m\u001b[0mFruit__sprout\u001b[0m\u001b[0;34m(\u001b[0m\u001b[0;34m)\u001b[0m\u001b[0;34m\u001b[0m\u001b[0;34m\u001b[0m\u001b[0m\n\u001b[0m",
            "\u001b[0;31mAttributeError\u001b[0m: 'Fruit' object has no attribute 'Fruit__sprout'"
          ]
        }
      ]
    },
    {
      "cell_type": "code",
      "metadata": {
        "colab": {
          "base_uri": "https://localhost:8080/"
        },
        "id": "1FxJYTRG1tmk",
        "outputId": "14faf8ac-f617-4c99-e4a9-f0e6de46b4e7"
      },
      "source": [
        "print(apple._Fruit__vitamines)"
      ],
      "execution_count": 26,
      "outputs": [
        {
          "output_type": "stream",
          "text": [
            "['c', 'd']\n"
          ],
          "name": "stdout"
        }
      ]
    },
    {
      "cell_type": "code",
      "metadata": {
        "id": "j0UQ5oP91wRB"
      },
      "source": [
        "def submit_article():\n",
        "  return 'Submit Article'\n",
        "\n",
        "def _cancel_membership():\n",
        "  return 'Cancel Membership'"
      ],
      "execution_count": 27,
      "outputs": []
    },
    {
      "cell_type": "code",
      "metadata": {
        "colab": {
          "base_uri": "https://localhost:8080/",
          "height": 37
        },
        "id": "vlzzY87P1zfG",
        "outputId": "18a4fb6a-6dea-479b-e095-05f910958ef7"
      },
      "source": [
        "submit_article()"
      ],
      "execution_count": 28,
      "outputs": [
        {
          "output_type": "execute_result",
          "data": {
            "application/vnd.google.colaboratory.intrinsic+json": {
              "type": "string"
            },
            "text/plain": [
              "'Submit Article'"
            ]
          },
          "metadata": {
            "tags": []
          },
          "execution_count": 28
        }
      ]
    },
    {
      "cell_type": "code",
      "metadata": {
        "colab": {
          "base_uri": "https://localhost:8080/",
          "height": 37
        },
        "id": "ziIr9hzF1zxZ",
        "outputId": "9c0184a3-d365-4249-c2ff-bb844310a534"
      },
      "source": [
        "_cancel_membership()"
      ],
      "execution_count": 29,
      "outputs": [
        {
          "output_type": "execute_result",
          "data": {
            "application/vnd.google.colaboratory.intrinsic+json": {
              "type": "string"
            },
            "text/plain": [
              "'Cancel Membership'"
            ]
          },
          "metadata": {
            "tags": []
          },
          "execution_count": 29
        }
      ]
    },
    {
      "cell_type": "code",
      "metadata": {
        "colab": {
          "base_uri": "https://localhost:8080/",
          "height": 130
        },
        "id": "CdAqXXRG199V",
        "outputId": "f1f4a3e4-e6f8-4407-a81a-f1f0f81fdf7d"
      },
      "source": [
        "def visit_place(to, from):\n",
        "    print(\"visit place\")"
      ],
      "execution_count": 30,
      "outputs": [
        {
          "output_type": "error",
          "ename": "SyntaxError",
          "evalue": "ignored",
          "traceback": [
            "\u001b[0;36m  File \u001b[0;32m\"<ipython-input-30-3cb74829e304>\"\u001b[0;36m, line \u001b[0;32m1\u001b[0m\n\u001b[0;31m    def visit_place(to, from):\u001b[0m\n\u001b[0m                           ^\u001b[0m\n\u001b[0;31mSyntaxError\u001b[0m\u001b[0;31m:\u001b[0m invalid syntax\n"
          ]
        }
      ]
    },
    {
      "cell_type": "code",
      "metadata": {
        "id": "IgViiv792C1A"
      },
      "source": [
        "def visit_place(to, from_):\n",
        "    print(\"visit place\")"
      ],
      "execution_count": 31,
      "outputs": []
    },
    {
      "cell_type": "code",
      "metadata": {
        "colab": {
          "base_uri": "https://localhost:8080/"
        },
        "id": "Nyks5fLy2Ewk",
        "outputId": "30fbe5a8-1111-4731-b02b-45be29094673"
      },
      "source": [
        "visit_place('home','school')"
      ],
      "execution_count": 32,
      "outputs": [
        {
          "output_type": "stream",
          "text": [
            "visit place\n"
          ],
          "name": "stdout"
        }
      ]
    },
    {
      "cell_type": "code",
      "metadata": {
        "id": "g8GaPQK32I9T"
      },
      "source": [
        "class Car:\n",
        "    def __init__(self):\n",
        "        self.__canDrive__ = True\n",
        "    def __len__(self):\n",
        "        return 5\n",
        "car = Car()"
      ],
      "execution_count": 33,
      "outputs": []
    },
    {
      "cell_type": "code",
      "metadata": {
        "colab": {
          "base_uri": "https://localhost:8080/"
        },
        "id": "HccwN6rQ2Vnh",
        "outputId": "b409a092-8846-451f-dd93-a3831cac5d38"
      },
      "source": [
        "car.__canDrive__"
      ],
      "execution_count": 34,
      "outputs": [
        {
          "output_type": "execute_result",
          "data": {
            "text/plain": [
              "True"
            ]
          },
          "metadata": {
            "tags": []
          },
          "execution_count": 34
        }
      ]
    },
    {
      "cell_type": "code",
      "metadata": {
        "colab": {
          "base_uri": "https://localhost:8080/"
        },
        "id": "fP-4sOv52XWL",
        "outputId": "a3affdd6-3125-4269-ba80-d9edb18c9be1"
      },
      "source": [
        "len(car)"
      ],
      "execution_count": 35,
      "outputs": [
        {
          "output_type": "execute_result",
          "data": {
            "text/plain": [
              "5"
            ]
          },
          "metadata": {
            "tags": []
          },
          "execution_count": 35
        }
      ]
    }
  ]
}