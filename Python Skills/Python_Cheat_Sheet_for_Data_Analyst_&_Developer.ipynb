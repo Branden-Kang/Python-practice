{
  "nbformat": 4,
  "nbformat_minor": 0,
  "metadata": {
    "colab": {
      "provenance": [],
      "authorship_tag": "ABX9TyNp7vlO3RYyA6p7X5irmR9R"
    },
    "kernelspec": {
      "name": "python3",
      "display_name": "Python 3"
    },
    "language_info": {
      "name": "python"
    }
  },
  "cells": [
    {
      "cell_type": "markdown",
      "source": [
        "[Reference](https://medium.com/@yaduvanshineelam09/python-cheat-sheet-for-data-analyst-developer-ff21fcf82308)"
      ],
      "metadata": {
        "id": "beLUVbPSqypA"
      }
    },
    {
      "cell_type": "markdown",
      "source": [
        "# 1. General Python Basics"
      ],
      "metadata": {
        "id": "HewDMHlqq2QX"
      }
    },
    {
      "cell_type": "code",
      "execution_count": 1,
      "metadata": {
        "colab": {
          "base_uri": "https://localhost:8080/"
        },
        "id": "GOOGOGUMqPwa",
        "outputId": "fb38ad97-587f-4684-c2fb-bb091b60a4f4"
      },
      "outputs": [
        {
          "output_type": "stream",
          "name": "stdout",
          "text": [
            "0\n",
            "1\n",
            "2\n",
            "3\n",
            "4\n"
          ]
        }
      ],
      "source": [
        "# Data Types\n",
        "x = 10            # int\n",
        "y = 10.5          # float\n",
        "z = \"Hello\"       # str\n",
        "\n",
        "# Lists\n",
        "my_list = [1, 2, 3, 4]\n",
        "my_list.append(5)\n",
        "\n",
        "# Dictionaries\n",
        "my_dict = {\"name\": \"Alice\", \"age\": 25}\n",
        "my_dict[\"city\"] = \"New York\"\n",
        "\n",
        "# Loops\n",
        "for i in range(5):\n",
        "    print(i)\n",
        "\n",
        "# Functions\n",
        "def square(x):\n",
        "    return x ** 2\n",
        "\n",
        "# Lambda Functions\n",
        "add = lambda a, b: a + b"
      ]
    },
    {
      "cell_type": "markdown",
      "source": [
        "# 2. Numpy"
      ],
      "metadata": {
        "id": "BTTnu5sdrUFs"
      }
    },
    {
      "cell_type": "code",
      "source": [
        "import numpy as np\n",
        "\n",
        "# Arrays\n",
        "arr = np.array([1, 2, 3, 4])\n",
        "zeros = np.zeros((2, 3))\n",
        "ones = np.ones((2, 3))\n",
        "\n",
        "# Operations\n",
        "arr_sum = np.sum(arr)\n",
        "arr_mean = np.mean(arr)\n",
        "arr_std = np.std(arr)\n",
        "\n",
        "# Indexing\n",
        "slice_arr = arr[1:3]"
      ],
      "metadata": {
        "id": "eXPS-grwrSXs"
      },
      "execution_count": 2,
      "outputs": []
    },
    {
      "cell_type": "markdown",
      "source": [
        "# 3. Pandas"
      ],
      "metadata": {
        "id": "CIlaKU_crYyT"
      }
    },
    {
      "cell_type": "code",
      "source": [
        "import pandas as pd\n",
        "\n",
        "# Create DataFrame\n",
        "data = {\"Name\": [\"Alice\", \"Bob\"], \"Age\": [25, 30]}\n",
        "df = pd.DataFrame(data)\n",
        "\n",
        "# Read/Write Data\n",
        "# csv_data = pd.read_csv(\"data.csv\")\n",
        "# df.to_csv(\"output.csv\", index=False)\n",
        "\n",
        "# Analyze Data\n",
        "df.info()\n",
        "df.describe()\n",
        "\n",
        "# Filter Rows\n",
        "filtered_df = df[df['Age'] > 25]\n",
        "\n",
        "# Grouping\n",
        "grouped = df.groupby(\"Name\").mean()"
      ],
      "metadata": {
        "colab": {
          "base_uri": "https://localhost:8080/"
        },
        "id": "Hg1IFubcrYXl",
        "outputId": "7fdcecd4-fcf3-417f-a556-608d05f75362"
      },
      "execution_count": 4,
      "outputs": [
        {
          "output_type": "stream",
          "name": "stdout",
          "text": [
            "<class 'pandas.core.frame.DataFrame'>\n",
            "RangeIndex: 2 entries, 0 to 1\n",
            "Data columns (total 2 columns):\n",
            " #   Column  Non-Null Count  Dtype \n",
            "---  ------  --------------  ----- \n",
            " 0   Name    2 non-null      object\n",
            " 1   Age     2 non-null      int64 \n",
            "dtypes: int64(1), object(1)\n",
            "memory usage: 160.0+ bytes\n"
          ]
        }
      ]
    },
    {
      "cell_type": "markdown",
      "source": [
        "# 4. Matplotlib & Seaborn"
      ],
      "metadata": {
        "id": "Fawv-qiNriyc"
      }
    },
    {
      "cell_type": "code",
      "source": [
        "import matplotlib.pyplot as plt\n",
        "import seaborn as sns\n",
        "\n",
        "# Line Plot\n",
        "plt.plot([1, 2, 3], [4, 5, 6])\n",
        "plt.title(\"Line Plot\")\n",
        "plt.show()\n",
        "\n",
        "# Seaborn Heatmap\n",
        "data = np.random.rand(4, 4)\n",
        "sns.heatmap(data, annot=True)\n",
        "plt.show()"
      ],
      "metadata": {
        "colab": {
          "base_uri": "https://localhost:8080/",
          "height": 865
        },
        "id": "JBq5yWmdrbU6",
        "outputId": "aa788c5b-1125-4546-ccba-0257bfc9635c"
      },
      "execution_count": 6,
      "outputs": [
        {
          "output_type": "display_data",
          "data": {
            "text/plain": [
              "<Figure size 640x480 with 1 Axes>"
            ],
            "image/png": "[encoded data removed]"
          },
          "metadata": {}
        },
        {
          "output_type": "display_data",
          "data": {
            "text/plain": [
              "<Figure size 640x480 with 2 Axes>"
            ],
            "image/png": "[encoded data removed]"
          },
          "metadata": {}
        }
      ]
    },
    {
      "cell_type": "markdown",
      "source": [
        "# 5. Scikit-learn"
      ],
      "metadata": {
        "id": "PMyzz1ClroY8"
      }
    },
    {
      "cell_type": "code",
      "source": [
        "from sklearn.model_selection import train_test_split\n",
        "from sklearn.linear_model import LinearRegression\n",
        "from sklearn.metrics import mean_squared_error\n",
        "\n",
        "# Split Data\n",
        "X_train, X_test, y_train, y_test = train_test_split(X, y, test_size=0.2, random_state=42)\n",
        "\n",
        "# Train Model\n",
        "model = LinearRegression()\n",
        "model.fit(X_train, y_train)\n",
        "\n",
        "# Evaluate\n",
        "predictions = model.predict(X_test)\n",
        "mse = mean_squared_error(y_test, predictions)"
      ],
      "metadata": {
        "id": "UsFtpFiQrlA7"
      },
      "execution_count": 8,
      "outputs": []
    },
    {
      "cell_type": "markdown",
      "source": [
        "# 6. Data Cleaning & Preprocessing"
      ],
      "metadata": {
        "id": "mu6mjgvZrtlf"
      }
    },
    {
      "cell_type": "code",
      "source": [
        "# Handling Missing Data\n",
        "df.fillna(0, inplace=True)\n",
        "df.dropna(inplace=True)\n",
        "\n",
        "# Encoding\n",
        "from sklearn.preprocessing import LabelEncoder\n",
        "encoder = LabelEncoder()\n",
        "df['Category'] = encoder.fit_transform(df['Category'])\n",
        "\n",
        "# Scaling\n",
        "from sklearn.preprocessing import StandardScaler\n",
        "scaler = StandardScaler()\n",
        "scaled_data = scaler.fit_transform(df)"
      ],
      "metadata": {
        "id": "qSdknEPkrrAv"
      },
      "execution_count": 10,
      "outputs": []
    },
    {
      "cell_type": "markdown",
      "source": [
        "# 7. Working with APIs"
      ],
      "metadata": {
        "id": "TofG4Tl5r0Xu"
      }
    },
    {
      "cell_type": "code",
      "source": [
        "import requests\n",
        "\n",
        "# GET Request\n",
        "response = requests.get(\"https://api.example.com/data\")\n",
        "if response.status_code == 200:\n",
        "    data = response.json()\n",
        "\n",
        "# POST Request\n",
        "payload = {\"key\": \"value\"}\n",
        "response = requests.post(\"https://api.example.com/data\", json=payload)"
      ],
      "metadata": {
        "id": "FukZpvvcrx-A"
      },
      "execution_count": 12,
      "outputs": []
    },
    {
      "cell_type": "markdown",
      "source": [
        "# 8. SQL with Python (SQLite)"
      ],
      "metadata": {
        "id": "9J7x8_4cr8IT"
      }
    },
    {
      "cell_type": "code",
      "source": [
        "import sqlite3\n",
        "\n",
        "# Connect to DB\n",
        "conn = sqlite3.connect(\"database.db\")\n",
        "cursor = conn.cursor()\n",
        "\n",
        "# Execute Queries\n",
        "cursor.execute(\"CREATE TABLE IF NOT EXISTS users (id INTEGER, name TEXT)\")\n",
        "cursor.execute(\"INSERT INTO users VALUES (1, 'Alice')\")\n",
        "\n",
        "# Fetch Data\n",
        "cursor.execute(\"SELECT * FROM users\")\n",
        "rows = cursor.fetchall()\n",
        "\n",
        "conn.commit()\n",
        "conn.close()"
      ],
      "metadata": {
        "id": "I5JhV8n4r4Gs"
      },
      "execution_count": 13,
      "outputs": []
    },
    {
      "cell_type": "markdown",
      "source": [
        "# 9. Regular Expressions"
      ],
      "metadata": {
        "id": "SiSMPIPZsBiY"
      }
    },
    {
      "cell_type": "code",
      "source": [
        "import re\n",
        "\n",
        "# Match Pattern\n",
        "pattern = r\"\\d+\"\n",
        "result = re.findall(pattern, \"123 Main Street\")\n",
        "\n",
        "# Replace Pattern\n",
        "new_text = re.sub(r\"\\d+\", \"#\", \"123 Main Street\")"
      ],
      "metadata": {
        "id": "UbCZojvMr_C-"
      },
      "execution_count": 14,
      "outputs": []
    },
    {
      "cell_type": "markdown",
      "source": [
        "# 10. File Handling"
      ],
      "metadata": {
        "id": "WHXDqyNlsFCg"
      }
    },
    {
      "cell_type": "code",
      "source": [
        "# Read File\n",
        "with open(\"data.txt\", \"r\") as file:\n",
        "    content = file.read()\n",
        "\n",
        "# Write File\n",
        "with open(\"output.txt\", \"w\") as file:\n",
        "    file.write(\"Hello, World!\")"
      ],
      "metadata": {
        "id": "I-UXSYXWsDpd"
      },
      "execution_count": 16,
      "outputs": []
    }
  ]
}
