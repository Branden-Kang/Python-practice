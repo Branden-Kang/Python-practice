{
  "nbformat": 4,
  "nbformat_minor": 0,
  "metadata": {
    "colab": {
      "name": "Python Beginner Breakthroughs.ipynb",
      "provenance": [],
      "authorship_tag": "ABX9TyMSRyrLLdWpysjlFwwpeEQf"
    },
    "kernelspec": {
      "name": "python3",
      "display_name": "Python 3"
    }
  },
  "cells": [
    {
      "cell_type": "markdown",
      "metadata": {
        "id": "ZhAhOr8WvOEf"
      },
      "source": [
        "[Reference](https://towardsdatascience.com/python-beginner-breakthroughs-top-python-built-in-functions-19a6d978035b)"
      ]
    },
    {
      "cell_type": "code",
      "metadata": {
        "colab": {
          "base_uri": "https://localhost:8080/"
        },
        "id": "WRtInwYMvLLT",
        "outputId": "6a32a14a-5a7d-4ab4-912a-aa95046979d0"
      },
      "source": [
        "# abs() function\n",
        "x = -24\n",
        "print(abs(x))\n",
        "\n",
        "# any() function\n",
        "y = [0, 1, 2, 3, 4]\n",
        "print(any(y))\n",
        "\n",
        "# len() function\n",
        "print(len(y))"
      ],
      "execution_count": 1,
      "outputs": [
        {
          "output_type": "stream",
          "text": [
            "24\n",
            "True\n",
            "5\n"
          ],
          "name": "stdout"
        }
      ]
    },
    {
      "cell_type": "code",
      "metadata": {
        "colab": {
          "base_uri": "https://localhost:8080/"
        },
        "id": "_j5xAyljvXXu",
        "outputId": "85fc997c-3280-4c10-b7f4-d6e4aa1ec7ff"
      },
      "source": [
        "# max() function\n",
        "l = [1, 4, 7, 21, 35]\n",
        "m = [[1, 2, 3], [1, 2], [0, 3, 2, 1]]\n",
        "print(max(l))\n",
        "print(max(m, key=len))\n",
        "\n",
        "# min() function\n",
        "l = [1, 4, 7, 21, 35]\n",
        "m = [[1, 2, 3], [1, 2], [0, 3, 2, 1]]\n",
        "print(min(l))\n",
        "print(min(m, key=len))\n",
        "\n",
        "# print() function\n",
        "x = 'hello world'\n",
        "print(x)"
      ],
      "execution_count": 2,
      "outputs": [
        {
          "output_type": "stream",
          "text": [
            "35\n",
            "[0, 3, 2, 1]\n",
            "1\n",
            "[1, 2]\n",
            "hello world\n"
          ],
          "name": "stdout"
        }
      ]
    },
    {
      "cell_type": "code",
      "metadata": {
        "colab": {
          "base_uri": "https://localhost:8080/"
        },
        "id": "rKN4C4R6vhAv",
        "outputId": "548c4dd5-b6ac-48b8-d710-130fb63888c9"
      },
      "source": [
        "#round() function\n",
        "x = 24.3452\n",
        "print(round(x))\n",
        "print(round(x, ndigits=2))\n",
        "\n",
        "# sum() function\n",
        "z = [1, 3, 5, 10, 51]\n",
        "print(sum(z))"
      ],
      "execution_count": 3,
      "outputs": [
        {
          "output_type": "stream",
          "text": [
            "24\n",
            "24.35\n",
            "70\n"
          ],
          "name": "stdout"
        }
      ]
    },
    {
      "cell_type": "code",
      "metadata": {
        "colab": {
          "base_uri": "https://localhost:8080/"
        },
        "id": "-gF0ICwpvpNC",
        "outputId": "d10864af-312d-404f-ca6c-88ff862d935e"
      },
      "source": [
        "#enumerate() function\n",
        "k = ['first', 'second', 'third', 'fourth']\n",
        "z = enumerate(k)\n",
        "print(list(z))\n",
        "\n",
        "# filter() function\n",
        "p = [1, 2, 3, 4, 5]\n",
        "q = filter(lambda x: x % 2 == 0, p)\n",
        "print(list(q))"
      ],
      "execution_count": 4,
      "outputs": [
        {
          "output_type": "stream",
          "text": [
            "[(0, 'first'), (1, 'second'), (2, 'third'), (3, 'fourth')]\n",
            "[2, 4]\n"
          ],
          "name": "stdout"
        }
      ]
    },
    {
      "cell_type": "code",
      "metadata": {
        "colab": {
          "base_uri": "https://localhost:8080/"
        },
        "id": "OQZ2JKZBvsOC",
        "outputId": "73b0fbe3-90b6-4c8f-b44f-243a4eddd440"
      },
      "source": [
        "# map() function\n",
        "z = [0 , 2, 5, 21]\n",
        "y = map(lambda x: x ** 2, z)\n",
        "print(list(z))\n",
        "\n",
        "# sorted function\n",
        "a = ['r', 'd', 'a', 'b', 'z']\n",
        "print(sorted(a))\n",
        "print(sorted(a, reverse=True))\n",
        "\n",
        "# zip() function\n",
        "number_list = [1, 2, 3]\n",
        "str_list = ['one', 'two', 'three']\n",
        "zipped = list(zip(number_list, str_list))\n",
        "print(zipped)\n",
        "[(1, 'one'), (2, 'two'), (3, 'three')]\n",
        "unzipped = list(zip(*zipped))\n",
        "print(unzipped)"
      ],
      "execution_count": 5,
      "outputs": [
        {
          "output_type": "stream",
          "text": [
            "[0, 2, 5, 21]\n",
            "['a', 'b', 'd', 'r', 'z']\n",
            "['z', 'r', 'd', 'b', 'a']\n",
            "[(1, 'one'), (2, 'two'), (3, 'three')]\n",
            "[(1, 2, 3), ('one', 'two', 'three')]\n"
          ],
          "name": "stdout"
        }
      ]
    },
    {
      "cell_type": "code",
      "metadata": {
        "colab": {
          "base_uri": "https://localhost:8080/"
        },
        "id": "PvfU7BmovwQ1",
        "outputId": "b9053278-be50-47d9-ee9f-09a31ace91aa"
      },
      "source": [
        "# type() function\n",
        "x = 'string'\n",
        "print(type(x))\n",
        "\n",
        "x = 2.14\n",
        "print(type(x))\n",
        "\n",
        "#int() function\n",
        "p = 2.21\n",
        "print(int(p))\n",
        "\n",
        "# str() function\n",
        "z = 21\n",
        "print(str(z))\n",
        "\n",
        "# dict() function\n",
        "z = dict()\n",
        "print(z)"
      ],
      "execution_count": 7,
      "outputs": [
        {
          "output_type": "stream",
          "text": [
            "<class 'str'>\n",
            "<class 'float'>\n",
            "2\n",
            "21\n",
            "{}\n"
          ],
          "name": "stdout"
        }
      ]
    }
  ]
}