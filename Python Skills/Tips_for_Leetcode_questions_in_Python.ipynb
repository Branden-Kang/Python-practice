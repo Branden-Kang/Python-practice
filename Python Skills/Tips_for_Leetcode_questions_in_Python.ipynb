{
  "nbformat": 4,
  "nbformat_minor": 0,
  "metadata": {
    "colab": {
      "name": "Tips for Leetcode questions in Python.ipynb",
      "provenance": [],
      "authorship_tag": "ABX9TyN11M3xJ8ROWsF9FzSEqUFJ"
    },
    "kernelspec": {
      "name": "python3",
      "display_name": "Python 3"
    }
  },
  "cells": [
    {
      "cell_type": "markdown",
      "metadata": {
        "id": "bDKuVahfbDHX"
      },
      "source": [
        "[Reference](https://medium.com/python-in-plain-english/python-tips-for-leetcode-questions-bfacacea9971)"
      ]
    },
    {
      "cell_type": "markdown",
      "metadata": {
        "id": "6aDl-YqdbGlz"
      },
      "source": [
        "# Iterating through arrays/strings"
      ]
    },
    {
      "cell_type": "code",
      "metadata": {
        "colab": {
          "base_uri": "https://localhost:8080/"
        },
        "id": "DgJVszaZa-wp",
        "outputId": "48ccd5fa-22f1-40e9-9dbd-950b09f4f63a"
      },
      "source": [
        "nums = [1,2,3,4,5]\n",
        "\n",
        "for i in range(len(nums)):\n",
        "  print(i)"
      ],
      "execution_count": 1,
      "outputs": [
        {
          "output_type": "stream",
          "text": [
            "0\n",
            "1\n",
            "2\n",
            "3\n",
            "4\n"
          ],
          "name": "stdout"
        }
      ]
    },
    {
      "cell_type": "code",
      "metadata": {
        "colab": {
          "base_uri": "https://localhost:8080/"
        },
        "id": "BdYDXQlPbJb-",
        "outputId": "8d3b4d69-36e5-49b8-8e2e-82ba9419b6bc"
      },
      "source": [
        "nums = [1,2,3,4,5]\n",
        "\n",
        "for i in range(0,len(nums)):\n",
        "  print(i)"
      ],
      "execution_count": 2,
      "outputs": [
        {
          "output_type": "stream",
          "text": [
            "0\n",
            "1\n",
            "2\n",
            "3\n",
            "4\n"
          ],
          "name": "stdout"
        }
      ]
    },
    {
      "cell_type": "markdown",
      "metadata": {
        "id": "-3lbAiOAbSp1"
      },
      "source": [
        "# Reversing a sequence"
      ]
    },
    {
      "cell_type": "code",
      "metadata": {
        "colab": {
          "base_uri": "https://localhost:8080/"
        },
        "id": "jAQDq589bQA8",
        "outputId": "d75d4ed1-0efd-4203-c449-56a6b337e740"
      },
      "source": [
        "# Want to get a sequence from 7 to 0\n",
        "for i in range(7, -1, -1):\n",
        "  print(i)\n",
        "  \n",
        "# alternative way of getting a sequence from 7 to 0\n",
        "for i in reversed(range(0, 8)):\n",
        "  print(i)"
      ],
      "execution_count": 3,
      "outputs": [
        {
          "output_type": "stream",
          "text": [
            "7\n",
            "6\n",
            "5\n",
            "4\n",
            "3\n",
            "2\n",
            "1\n",
            "0\n",
            "7\n",
            "6\n",
            "5\n",
            "4\n",
            "3\n",
            "2\n",
            "1\n",
            "0\n"
          ],
          "name": "stdout"
        }
      ]
    },
    {
      "cell_type": "markdown",
      "metadata": {
        "id": "iPc9O1Xzbaqx"
      },
      "source": [
        "# Declaring variables together in the same line"
      ]
    },
    {
      "cell_type": "code",
      "metadata": {
        "colab": {
          "base_uri": "https://localhost:8080/"
        },
        "id": "BKYi233GbXOF",
        "outputId": "9486747e-e16a-476f-f3a7-017a12d80fc2"
      },
      "source": [
        "row, col = 0, 0\n",
        "print(row)\n",
        "print(col)"
      ],
      "execution_count": 4,
      "outputs": [
        {
          "output_type": "stream",
          "text": [
            "0\n",
            "0\n"
          ],
          "name": "stdout"
        }
      ]
    },
    {
      "cell_type": "markdown",
      "metadata": {
        "id": "qlgd3ovUbepC"
      },
      "source": [
        "# Initialising largest and smallest number"
      ]
    },
    {
      "cell_type": "code",
      "metadata": {
        "id": "wvu8cSInbd1-"
      },
      "source": [
        "largetst = float('inf')\n",
        "smallest = float('-inf')"
      ],
      "execution_count": 5,
      "outputs": []
    }
  ]
}