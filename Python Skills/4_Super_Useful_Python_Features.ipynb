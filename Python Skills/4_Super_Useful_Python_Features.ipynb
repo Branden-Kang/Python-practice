{
  "nbformat": 4,
  "nbformat_minor": 0,
  "metadata": {
    "colab": {
      "name": "4 Super Useful Python Features.ipynb",
      "provenance": [],
      "authorship_tag": "ABX9TyOfAAfQYJshtnx5L+ZucP0z"
    },
    "kernelspec": {
      "name": "python3",
      "display_name": "Python 3"
    }
  },
  "cells": [
    {
      "cell_type": "markdown",
      "metadata": {
        "id": "0ZHp5QIlDyTW"
      },
      "source": [
        "[Reference](https://towardsdatascience.com/4-super-useful-python-features-993ae484fbb8)"
      ]
    },
    {
      "cell_type": "code",
      "metadata": {
        "colab": {
          "base_uri": "https://localhost:8080/"
        },
        "id": "MfprKajGDvdK",
        "outputId": "550e5278-112b-42a7-f6f2-b615b8ef482e"
      },
      "source": [
        "x = [1, 2, 3]\n",
        "y = [4, 5]\n",
        "x.append(y)\n",
        "print(x)"
      ],
      "execution_count": 1,
      "outputs": [
        {
          "output_type": "stream",
          "text": [
            "[1, 2, 3, [4, 5]]\n"
          ],
          "name": "stdout"
        }
      ]
    },
    {
      "cell_type": "code",
      "metadata": {
        "colab": {
          "base_uri": "https://localhost:8080/"
        },
        "id": "dnn-tiy0Dv90",
        "outputId": "f4741f97-e6af-4bc1-ef8b-eb50ef1b857d"
      },
      "source": [
        "x = [1, 2, 3]\n",
        "y = [4, 5]\n",
        "x.extend(y)\n",
        "print(x)"
      ],
      "execution_count": 2,
      "outputs": [
        {
          "output_type": "stream",
          "text": [
            "[1, 2, 3, 4, 5]\n"
          ],
          "name": "stdout"
        }
      ]
    },
    {
      "cell_type": "code",
      "metadata": {
        "id": "y6YAvjegFOoa"
      },
      "source": [
        "def gen_yield():\n",
        "    yield \"hel\"\n",
        "    yield \"lo \"\n",
        "    yield \"wor\"\n",
        "    yield \"ld!\"\n",
        "\n",
        "def func_return():\n",
        "    return \"hel\"\n",
        "    return \"lo \"\n",
        "    return \"wor\"\n",
        "    return \"ld!\""
      ],
      "execution_count": 3,
      "outputs": []
    },
    {
      "cell_type": "code",
      "metadata": {
        "colab": {
          "base_uri": "https://localhost:8080/"
        },
        "id": "7NXqsZp-FQ9F",
        "outputId": "a7ccf2a8-8a25-412c-d562-72b89b878e42"
      },
      "source": [
        "for value in gen_yield():\n",
        "    print(value, end=\"\")"
      ],
      "execution_count": 5,
      "outputs": [
        {
          "output_type": "stream",
          "text": [
            "hello world!"
          ],
          "name": "stdout"
        }
      ]
    },
    {
      "cell_type": "code",
      "metadata": {
        "colab": {
          "base_uri": "https://localhost:8080/"
        },
        "id": "clMz7reKFR38",
        "outputId": "80575a75-9252-40fd-a0f2-fd40dc67d17b"
      },
      "source": [
        "for value in func_return():\n",
        "    print(value, end=\"\")"
      ],
      "execution_count": 6,
      "outputs": [
        {
          "output_type": "stream",
          "text": [
            "hel"
          ],
          "name": "stdout"
        }
      ]
    },
    {
      "cell_type": "code",
      "metadata": {
        "colab": {
          "base_uri": "https://localhost:8080/"
        },
        "id": "Y9TFimUWFWbB",
        "outputId": "3364dd19-5c5d-4131-8d62-2d0f6773fa58"
      },
      "source": [
        "generator = (x for x in [1, 2, 3])\n",
        "for _ in generator:\n",
        "    print(_, end=\" \")"
      ],
      "execution_count": 7,
      "outputs": [
        {
          "output_type": "stream",
          "text": [
            "1 2 3 "
          ],
          "name": "stdout"
        }
      ]
    },
    {
      "cell_type": "code",
      "metadata": {
        "id": "z1UkeEbtFXbJ"
      },
      "source": [
        "for _ in generator:\n",
        "    print(_)"
      ],
      "execution_count": 8,
      "outputs": []
    },
    {
      "cell_type": "code",
      "metadata": {
        "colab": {
          "base_uri": "https://localhost:8080/"
        },
        "id": "SneBPZywFYZV",
        "outputId": "78f8c42e-7df3-41d4-bd41-b16ae36247ed"
      },
      "source": [
        "def add2(x):\n",
        "    return x + 2\n",
        "    \n",
        "list(map(add2, [1, 2, 3]))"
      ],
      "execution_count": 9,
      "outputs": [
        {
          "output_type": "execute_result",
          "data": {
            "text/plain": [
              "[3, 4, 5]"
            ]
          },
          "metadata": {
            "tags": []
          },
          "execution_count": 9
        }
      ]
    },
    {
      "cell_type": "code",
      "metadata": {
        "colab": {
          "base_uri": "https://localhost:8080/"
        },
        "id": "7R_As_z3IP5l",
        "outputId": "65e8dcbb-9ae9-4934-9bf2-891ae26419a7"
      },
      "source": [
        "results = [(0.1, 0.2), (0.3, 0.1), (0.2, 0.4)]\n",
        "list(map(lambda x: x[0], results))"
      ],
      "execution_count": 11,
      "outputs": [
        {
          "output_type": "execute_result",
          "data": {
            "text/plain": [
              "[0.1, 0.3, 0.2]"
            ]
          },
          "metadata": {
            "tags": []
          },
          "execution_count": 11
        }
      ]
    }
  ]
}