{
  "nbformat": 4,
  "nbformat_minor": 0,
  "metadata": {
    "colab": {
      "name": "5 Essential Python function and skills you should know as a data scientist.ipynb",
      "provenance": [],
      "authorship_tag": "ABX9TyOzbuAwWxU9OfYMtLaGkb67"
    },
    "kernelspec": {
      "name": "python3",
      "display_name": "Python 3"
    },
    "language_info": {
      "name": "python"
    }
  },
  "cells": [
    {
      "cell_type": "markdown",
      "metadata": {
        "id": "Y_5tHq9Smb5R"
      },
      "source": [
        "[Reference](https://towardsdatascience.com/5-essential-python-function-and-skills-you-should-know-as-a-data-scientist-c2aa35f22455)"
      ]
    },
    {
      "cell_type": "markdown",
      "metadata": {
        "id": "jUXKbByamYvq"
      },
      "source": [
        "# isinstance"
      ]
    },
    {
      "cell_type": "code",
      "metadata": {
        "id": "gHvmG8t_mVca"
      },
      "source": [
        "a = 3\n",
        "c = \"python\""
      ],
      "execution_count": 3,
      "outputs": []
    },
    {
      "cell_type": "code",
      "metadata": {
        "colab": {
          "base_uri": "https://localhost:8080/"
        },
        "id": "U5tqYLXpmJSU",
        "outputId": "90ebfc1d-8c93-4a2a-fd4a-3d889ffc71c2"
      },
      "source": [
        "if isinstance(a, int):\n",
        "    print(\"a is an integer\")\n",
        "else:\n",
        "    print(\"a is not an integer\")\n",
        "    \n",
        "if isinstance(c, list):\n",
        "    print(\"c is a list\")\n",
        "else:\n",
        "    print(\"c is not a list\")"
      ],
      "execution_count": 4,
      "outputs": [
        {
          "output_type": "stream",
          "text": [
            "a is an integer\n",
            "c is not a list\n"
          ],
          "name": "stdout"
        }
      ]
    },
    {
      "cell_type": "markdown",
      "metadata": {
        "id": "M-dJaO4smelO"
      },
      "source": [
        "# Lambda"
      ]
    },
    {
      "cell_type": "code",
      "metadata": {
        "colab": {
          "base_uri": "https://localhost:8080/"
        },
        "id": "SleQSz2vmStB",
        "outputId": "5153bd5d-2310-48bc-e548-b11a14237570"
      },
      "source": [
        "alpha = lambda x: x*3\n",
        "print(alpha(3))\n",
        "## output will be 9\n",
        "print(alpha(4.5))\n",
        "## output will be 13.5\n",
        "beta = lambda x: x>0\n",
        "print(beta(4))\n",
        "## output will be True\n",
        "print(beta(-3))\n",
        "## output will be False\n",
        "\n",
        "student_tuples = [\n",
        "     ('john', 'A', 15),\n",
        "     ('jane', 'B', 12),\n",
        "     ('dave', 'B', 10),\n",
        "]\n",
        "sorted(student_tuples, key=lambda student: student[2])"
      ],
      "execution_count": 5,
      "outputs": [
        {
          "output_type": "stream",
          "text": [
            "9\n",
            "13.5\n",
            "True\n",
            "False\n"
          ],
          "name": "stdout"
        },
        {
          "output_type": "execute_result",
          "data": {
            "text/plain": [
              "[('dave', 'B', 10), ('jane', 'B', 12), ('john', 'A', 15)]"
            ]
          },
          "metadata": {
            "tags": []
          },
          "execution_count": 5
        }
      ]
    },
    {
      "cell_type": "markdown",
      "metadata": {
        "id": "_y9xofsxt6e0"
      },
      "source": [
        "# Zip"
      ]
    },
    {
      "cell_type": "code",
      "metadata": {
        "colab": {
          "base_uri": "https://localhost:8080/"
        },
        "id": "Z4AwpRzYmkb0",
        "outputId": "d9d0ddce-410a-43d8-f5de-0c5fdea22838"
      },
      "source": [
        "alpha = [1,2,3,4,5,6]\n",
        "beta = [7,8,9,10,11,12]\n",
        "gamma = [13,14,15,16,17,18]\n",
        "output = []\n",
        "\n",
        "for a, b, c in zip(alpha, beta, gamma):\n",
        "    output.append(a+b+c)\n",
        "output"
      ],
      "execution_count": 7,
      "outputs": [
        {
          "output_type": "execute_result",
          "data": {
            "text/plain": [
              "[21, 24, 27, 30, 33, 36]"
            ]
          },
          "metadata": {
            "tags": []
          },
          "execution_count": 7
        }
      ]
    },
    {
      "cell_type": "markdown",
      "metadata": {
        "id": "XKkxptv-uDYc"
      },
      "source": [
        "# filter"
      ]
    },
    {
      "cell_type": "code",
      "metadata": {
        "colab": {
          "base_uri": "https://localhost:8080/"
        },
        "id": "C8-BGj0Wt8hO",
        "outputId": "0b9c388e-9824-464f-f426-421ac88ecd95"
      },
      "source": [
        "alpha = [1,2,3,4,5,6]\n",
        "\n",
        "filtered = list(filter(lambda x:x%2, alpha))\n",
        "\n",
        "print(filtered)\n",
        "## output will be [1, 3, 5]"
      ],
      "execution_count": 8,
      "outputs": [
        {
          "output_type": "stream",
          "text": [
            "[1, 3, 5]\n"
          ],
          "name": "stdout"
        }
      ]
    },
    {
      "cell_type": "markdown",
      "metadata": {
        "id": "ui0x4-wjuGxg"
      },
      "source": [
        "# One Line for Loop"
      ]
    },
    {
      "cell_type": "code",
      "metadata": {
        "colab": {
          "base_uri": "https://localhost:8080/"
        },
        "id": "dDW9oszFuFj8",
        "outputId": "c76af14c-fde3-47a7-f431-c937a743633b"
      },
      "source": [
        "## conventional method\n",
        "for i in range(10):\n",
        "    print(i)\n",
        "    \n",
        "## one line method\n",
        "for i in range(10): print(i)\n",
        "\n",
        "## conventional method\n",
        "output = []\n",
        "for i in range(10): \n",
        "    output.append(i**2)\n",
        "    \n",
        "## one line method\n",
        "output=[]\n",
        "for i in range(10): output.append(i**2)"
      ],
      "execution_count": 9,
      "outputs": [
        {
          "output_type": "stream",
          "text": [
            "0\n",
            "1\n",
            "2\n",
            "3\n",
            "4\n",
            "5\n",
            "6\n",
            "7\n",
            "8\n",
            "9\n",
            "0\n",
            "1\n",
            "2\n",
            "3\n",
            "4\n",
            "5\n",
            "6\n",
            "7\n",
            "8\n",
            "9\n"
          ],
          "name": "stdout"
        }
      ]
    },
    {
      "cell_type": "code",
      "metadata": {
        "colab": {
          "base_uri": "https://localhost:8080/"
        },
        "id": "M4H8L-yGuLGn",
        "outputId": "a74bd67f-0cae-4187-d591-6add00d5bc1e"
      },
      "source": [
        "values = ['alpha', 'beta', 'gamma', 'phi']\n",
        "# regular function\n",
        "def ends_with_a(values):\n",
        "    valid = []\n",
        "    for word in values:\n",
        "        if word[-1].lower() == 'a':\n",
        "            valid.append(word)\n",
        " \n",
        "    return valid\n",
        "print(ends_with_a(values))\n",
        "## output will be ['alpha', 'beta', 'gamma']\n",
        "# list comprehension\n",
        "filtered_list = [word for word in values if word[-1].lower() == 'a']\n",
        "# results\n",
        "print(filtered_list)\n",
        "## output will be ['alpha', 'beta', 'gamma']"
      ],
      "execution_count": 10,
      "outputs": [
        {
          "output_type": "stream",
          "text": [
            "['alpha', 'beta', 'gamma']\n",
            "['alpha', 'beta', 'gamma']\n"
          ],
          "name": "stdout"
        }
      ]
    }
  ]
}