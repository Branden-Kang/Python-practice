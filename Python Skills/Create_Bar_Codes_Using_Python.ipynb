{
  "nbformat": 4,
  "nbformat_minor": 0,
  "metadata": {
    "colab": {
      "provenance": [],
      "authorship_tag": "ABX9TyO7pSS7Za4yqPW9k6MGCXtX"
    },
    "kernelspec": {
      "name": "python3",
      "display_name": "Python 3"
    },
    "language_info": {
      "name": "python"
    }
  },
  "cells": [
    {
      "cell_type": "markdown",
      "source": [
        "[Reference](https://medium.com/@SergiAlfonso/create-bar-codes-using-python-a901e7c1aa52)"
      ],
      "metadata": {
        "id": "7mOcKVweFqYk"
      }
    },
    {
      "cell_type": "code",
      "execution_count": 1,
      "metadata": {
        "colab": {
          "base_uri": "https://localhost:8080/"
        },
        "id": "O_6LR9U4FYiA",
        "outputId": "4660b28a-7cf6-4918-904c-e27b0729452f"
      },
      "outputs": [
        {
          "output_type": "stream",
          "name": "stdout",
          "text": [
            "Looking in indexes: https://pypi.org/simple, https://us-python.pkg.dev/colab-wheels/public/simple/\n",
            "Collecting python-barcode\n",
            "  Downloading python_barcode-0.14.0-py3-none-any.whl (212 kB)\n",
            "\u001b[2K     \u001b[90m━━━━━━━━━━━━━━━━━━━━━━━━━━━━━━━━━━━━━━━\u001b[0m \u001b[32m212.9/212.9 KB\u001b[0m \u001b[31m5.6 MB/s\u001b[0m eta \u001b[36m0:00:00\u001b[0m\n",
            "\u001b[?25hInstalling collected packages: python-barcode\n",
            "Successfully installed python-barcode-0.14.0\n"
          ]
        }
      ],
      "source": [
        "pip install python-barcode"
      ]
    },
    {
      "cell_type": "code",
      "source": [
        "pip install pillow"
      ],
      "metadata": {
        "colab": {
          "base_uri": "https://localhost:8080/"
        },
        "id": "hcvVV-DtFs33",
        "outputId": "629f8ee6-a2f8-41a9-a544-59756bc22b4b"
      },
      "execution_count": 2,
      "outputs": [
        {
          "output_type": "stream",
          "name": "stdout",
          "text": [
            "Looking in indexes: https://pypi.org/simple, https://us-python.pkg.dev/colab-wheels/public/simple/\n",
            "Requirement already satisfied: pillow in /usr/local/lib/python3.8/dist-packages (7.1.2)\n"
          ]
        }
      ]
    },
    {
      "cell_type": "code",
      "source": [
        "from barcode import EAN13\n",
        "number = '1234567890123'\n",
        "my_code = EAN13(number)\n",
        "my_code.save(\"new_code.svg\")"
      ],
      "metadata": {
        "colab": {
          "base_uri": "https://localhost:8080/",
          "height": 37
        },
        "id": "IQcxzyBmFt9G",
        "outputId": "67c5d634-c10e-461e-f4e3-6ed8667e1deb"
      },
      "execution_count": 3,
      "outputs": [
        {
          "output_type": "execute_result",
          "data": {
            "text/plain": [
              "'new_code.svg.svg'"
            ],
            "application/vnd.google.colaboratory.intrinsic+json": {
              "type": "string"
            }
          },
          "metadata": {},
          "execution_count": 3
        }
      ]
    },
    {
      "cell_type": "code",
      "source": [
        "from barcode import EAN13\n",
        "from barcode.writer import ImageWriter\n",
        "number = '1234567890123'\n",
        "my_code = EAN13(number, writer=ImageWriter())\n",
        "my_code.save('code_png')"
      ],
      "metadata": {
        "colab": {
          "base_uri": "https://localhost:8080/",
          "height": 37
        },
        "id": "GTOdXO6hF2OY",
        "outputId": "09277a17-0c7d-4ee3-9423-385540a1eee5"
      },
      "execution_count": 4,
      "outputs": [
        {
          "output_type": "execute_result",
          "data": {
            "text/plain": [
              "'code_png.png'"
            ],
            "application/vnd.google.colaboratory.intrinsic+json": {
              "type": "string"
            }
          },
          "metadata": {},
          "execution_count": 4
        }
      ]
    },
    {
      "cell_type": "code",
      "source": [
        "import barcode\n",
        "barcode_formats = barcode.PROVIDED_BARCODES\n",
        "print(barcode_formats)"
      ],
      "metadata": {
        "colab": {
          "base_uri": "https://localhost:8080/"
        },
        "id": "vHvs35Y2F8Vw",
        "outputId": "96fd8f56-b013-4c09-abb2-f0555d0fb4fc"
      },
      "execution_count": 5,
      "outputs": [
        {
          "output_type": "stream",
          "name": "stdout",
          "text": [
            "['codabar', 'code128', 'code39', 'ean', 'ean13', 'ean13-guard', 'ean14', 'ean8', 'ean8-guard', 'gs1', 'gs1_128', 'gtin', 'isbn', 'isbn10', 'isbn13', 'issn', 'itf', 'jan', 'nw-7', 'pzn', 'upc', 'upca']\n"
          ]
        }
      ]
    },
    {
      "cell_type": "code",
      "source": [
        "from io import BytesIO\n",
        "from barcode import EAN13\n",
        "from barcode.writer import ImageWriter\n",
        "# Or to an actual file:\n",
        "with open(\"somefile.jpeg\", \"wb\") as f:\n",
        "    EAN13(\"100000011111\", writer=ImageWriter()).write(f)"
      ],
      "metadata": {
        "id": "wjoBvJNmF90b"
      },
      "execution_count": 6,
      "outputs": []
    }
  ]
}
