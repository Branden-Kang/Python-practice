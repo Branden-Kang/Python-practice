{
  "nbformat": 4,
  "nbformat_minor": 0,
  "metadata": {
    "colab": {
      "name": "Pydantic, a Python data validation library.ipynb",
      "provenance": [],
      "authorship_tag": "ABX9TyMT2a1EsPfppNBnInHxdE2l"
    },
    "kernelspec": {
      "name": "python3",
      "display_name": "Python 3"
    },
    "language_info": {
      "name": "python"
    }
  },
  "cells": [
    {
      "cell_type": "markdown",
      "source": [
        "[Reference](https://medium.com/codex/getting-started-with-pydantic-as-a-data-validation-tool-in-api-development-2155deef37c4)"
      ],
      "metadata": {
        "id": "2NkBQyGEa15P"
      }
    },
    {
      "cell_type": "code",
      "execution_count": 1,
      "metadata": {
        "id": "17av7vuca0lD"
      },
      "outputs": [],
      "source": [
        "class Product():\n",
        "  def __init__(self, title, body, price, ratings, published, id):\n",
        "    self.title = title\n",
        "    self.description = body\n",
        "    self.price = price\n",
        "    self.ratings = ratings \n",
        "    self.published = published \n",
        "    self.id = id"
      ]
    },
    {
      "cell_type": "code",
      "source": [
        "from dataclasses import dataclass \n",
        "@dataclass \n",
        "class Product:\n",
        "  title: str\n",
        "  description: str\n",
        "  price: int\n",
        "  ratings: int\n",
        "  published: bool\n",
        "  id: int"
      ],
      "metadata": {
        "id": "LgtkxDq0cYOc"
      },
      "execution_count": 2,
      "outputs": []
    },
    {
      "cell_type": "code",
      "source": [
        "! pip install pydantic "
      ],
      "metadata": {
        "colab": {
          "base_uri": "https://localhost:8080/"
        },
        "id": "kYSTaQyYcahW",
        "outputId": "3fa4bb71-4048-40c9-b0e9-ad1989887fc2"
      },
      "execution_count": 3,
      "outputs": [
        {
          "output_type": "stream",
          "name": "stdout",
          "text": [
            "Collecting pydantic\n",
            "  Downloading pydantic-1.9.0-cp37-cp37m-manylinux_2_17_x86_64.manylinux2014_x86_64.whl (10.9 MB)\n",
            "\u001b[K     |████████████████████████████████| 10.9 MB 5.1 MB/s \n",
            "\u001b[?25hRequirement already satisfied: typing-extensions>=3.7.4.3 in /usr/local/lib/python3.7/dist-packages (from pydantic) (3.10.0.2)\n",
            "Installing collected packages: pydantic\n",
            "Successfully installed pydantic-1.9.0\n"
          ]
        }
      ]
    },
    {
      "cell_type": "code",
      "source": [
        "from pydantic import BaseModel\n",
        "from typing import Optional #this is to enable more complex field types\n",
        "from random import  randrange #to import a random integer\n",
        "\n",
        "class Product(BaseModel):\n",
        "    title: str\n",
        "    description: str\n",
        "    price: int\n",
        "    ratings: Optional[int] = None \n",
        "    published: Optional[bool]= True \n",
        "    id: Optional[int]= None \n",
        "#The optional keyword is used to indicated that the field is not required to be filled. It is then given a default value \n",
        "\n",
        "data = {\n",
        "    \"title\": \"Iphone 13 pro max\",\n",
        "    \"description\": \"This is the latest Iphone from apple\",\n",
        "    \"price\": 1000, \n",
        "    \"ratings\": 4.56,\n",
        "    \"id\": randrange(0, 100000000) #creates a random integer between 0 and 100000000\n",
        "}\n",
        "\n",
        "product = Product(**data) #to read the python dictionary\n",
        "\n",
        "print(product)"
      ],
      "metadata": {
        "colab": {
          "base_uri": "https://localhost:8080/"
        },
        "id": "KrBrBL7ocZYX",
        "outputId": "cd665b12-559f-4804-a6fd-be73f309cf68"
      },
      "execution_count": 4,
      "outputs": [
        {
          "output_type": "stream",
          "name": "stdout",
          "text": [
            "title='Iphone 13 pro max' description='This is the latest Iphone from apple' price=1000 ratings=4 published=True id=68061222\n"
          ]
        }
      ]
    }
  ]
}