{
  "nbformat": 4,
  "nbformat_minor": 0,
  "metadata": {
    "colab": {
      "name": "Python Logger: Better Than Print Statements.ipynb",
      "provenance": [],
      "authorship_tag": "ABX9TyP07I8TCNltkuMbiZcWx5Fb"
    },
    "kernelspec": {
      "name": "python3",
      "display_name": "Python 3"
    }
  },
  "cells": [
    {
      "cell_type": "markdown",
      "metadata": {
        "id": "avmY26mrLO-t"
      },
      "source": [
        "[Reference](https://levelup.gitconnected.com/python-logger-better-than-print-statements-ba453e512308)"
      ]
    },
    {
      "cell_type": "code",
      "metadata": {
        "id": "Plj8N_wjLNjt"
      },
      "source": [
        "import logging"
      ],
      "execution_count": 1,
      "outputs": []
    },
    {
      "cell_type": "code",
      "metadata": {
        "colab": {
          "base_uri": "https://localhost:8080/"
        },
        "id": "sMYcQloULSOa",
        "outputId": "e0173046-d056-41d9-c5ac-2a890ae8be1e"
      },
      "source": [
        "logging.debug(\"This is a debug message\")\n",
        "logging.info(\"This is an info message\")\n",
        "logging.warning(\"This is a warning message\")\n",
        "logging.error(\"This is an error message\")\n",
        "logging.critical(\"This is a critical message\")"
      ],
      "execution_count": 2,
      "outputs": [
        {
          "output_type": "stream",
          "text": [
            "WARNING:root:This is a warning message\n",
            "ERROR:root:This is an error message\n",
            "CRITICAL:root:This is a critical message\n"
          ],
          "name": "stderr"
        }
      ]
    },
    {
      "cell_type": "code",
      "metadata": {
        "id": "Jyxkg2RANip0"
      },
      "source": [
        "# Show all messages with severity levels including and above \"DEBUG\"\n",
        "logging.basicConfig(level=logging.DEBUG)"
      ],
      "execution_count": 6,
      "outputs": []
    },
    {
      "cell_type": "code",
      "metadata": {
        "colab": {
          "base_uri": "https://localhost:8080/"
        },
        "id": "9E4wEcrqNkt8",
        "outputId": "b952a969-d0fa-4c5b-f0bf-5a0b858d5c9b"
      },
      "source": [
        "logging.critical(\"This is a critical message\")"
      ],
      "execution_count": 4,
      "outputs": [
        {
          "output_type": "stream",
          "text": [
            "CRITICAL:root:This is a critical message\n"
          ],
          "name": "stderr"
        }
      ]
    },
    {
      "cell_type": "code",
      "metadata": {
        "id": "xsrZB1fTN1TW"
      },
      "source": [
        "logging.basicConfig(format='%(name)s - %(levelname)s - %(message)s')"
      ],
      "execution_count": 5,
      "outputs": []
    },
    {
      "cell_type": "code",
      "metadata": {
        "colab": {
          "base_uri": "https://localhost:8080/"
        },
        "id": "tu2XvndrN67R",
        "outputId": "0c015138-1652-4239-8ec0-e799c9168cff"
      },
      "source": [
        "logging.basicConfig(format='%(asctime)s || %(levelname)s || %(message)s || %(lineno)d || %(process)d')\n",
        "logging.warning('This is a Warning')"
      ],
      "execution_count": 7,
      "outputs": [
        {
          "output_type": "stream",
          "text": [
            "WARNING:root:This is a Warning\n"
          ],
          "name": "stderr"
        }
      ]
    },
    {
      "cell_type": "code",
      "metadata": {
        "colab": {
          "base_uri": "https://localhost:8080/"
        },
        "id": "TGXiO31ZOHX2",
        "outputId": "8f9f5773-045c-4490-a0bb-97ba84281db6"
      },
      "source": [
        "logging.basicConfig(filename='app.log', filemode='w')\n",
        "logging.warning('This is a Warning')"
      ],
      "execution_count": 8,
      "outputs": [
        {
          "output_type": "stream",
          "text": [
            "WARNING:root:This is a Warning\n"
          ],
          "name": "stderr"
        }
      ]
    },
    {
      "cell_type": "code",
      "metadata": {
        "colab": {
          "base_uri": "https://localhost:8080/"
        },
        "id": "S_-WbTF3OKHa",
        "outputId": "cd1b42e8-2634-4301-b161-563f45ba5426"
      },
      "source": [
        "a = 10\n",
        "b = 0\n",
        "try:\n",
        "\tc = a / b\n",
        "except Exception as e:\n",
        "\tlogging.exception(f'Divide {a} by 0')"
      ],
      "execution_count": 9,
      "outputs": [
        {
          "output_type": "stream",
          "text": [
            "ERROR:root:Divide 10 by 0\n",
            "Traceback (most recent call last):\n",
            "  File \"<ipython-input-9-da3af716bd3d>\", line 4, in <module>\n",
            "    c = a / b\n",
            "ZeroDivisionError: division by zero\n"
          ],
          "name": "stderr"
        }
      ]
    }
  ]
}