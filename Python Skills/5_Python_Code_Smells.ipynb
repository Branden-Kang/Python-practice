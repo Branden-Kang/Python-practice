{
  "nbformat": 4,
  "nbformat_minor": 0,
  "metadata": {
    "colab": {
      "name": "5 Python Code Smells.ipynb",
      "provenance": [],
      "authorship_tag": "ABX9TyNuNcXsiU1wB9pqNHzu55Hn"
    },
    "kernelspec": {
      "name": "python3",
      "display_name": "Python 3"
    }
  },
  "cells": [
    {
      "cell_type": "markdown",
      "metadata": {
        "id": "6j0bFxMB1sBy"
      },
      "source": [
        "[Reference](https://towardsdatascience.com/5-python-code-smells-you-should-be-wary-of-c48cc0eb9d8b)"
      ]
    },
    {
      "cell_type": "code",
      "metadata": {
        "colab": {
          "base_uri": "https://localhost:8080/"
        },
        "id": "G4_k-TNB1q9i",
        "outputId": "4a8cfe46-5f0b-4e86-e326-dc88fd6fb85b"
      },
      "source": [
        "def addElements(a=[]):\n",
        "    a.append(5)\n",
        "    return a\n",
        "    \n",
        "addElements()\n",
        "addElements()"
      ],
      "execution_count": 1,
      "outputs": [
        {
          "output_type": "execute_result",
          "data": {
            "text/plain": [
              "[5, 5]"
            ]
          },
          "metadata": {
            "tags": []
          },
          "execution_count": 1
        }
      ]
    },
    {
      "cell_type": "code",
      "metadata": {
        "colab": {
          "base_uri": "https://localhost:8080/"
        },
        "id": "Q8xPBv_h1wre",
        "outputId": "f09ce030-0610-49ed-aaf1-42b62e228665"
      },
      "source": [
        "names = [\"a\", \"b\", \"c\"]\n",
        "\n",
        "for i in range(len(names)):\n",
        "    print(i, names[i])"
      ],
      "execution_count": 2,
      "outputs": [
        {
          "output_type": "stream",
          "text": [
            "0 a\n",
            "1 b\n",
            "2 c\n"
          ],
          "name": "stdout"
        }
      ]
    },
    {
      "cell_type": "code",
      "metadata": {
        "colab": {
          "base_uri": "https://localhost:8080/"
        },
        "id": "fWBI0iaU1ysM",
        "outputId": "a88f3b15-f7a8-4f93-8f7e-746221d6dcc5"
      },
      "source": [
        "for i, name in enumerate(names):\n",
        "   print(i, name)"
      ],
      "execution_count": 3,
      "outputs": [
        {
          "output_type": "stream",
          "text": [
            "0 a\n",
            "1 b\n",
            "2 c\n"
          ],
          "name": "stdout"
        }
      ]
    },
    {
      "cell_type": "code",
      "metadata": {
        "id": "MEaw-_-Z12ha"
      },
      "source": [
        "listA = [1,2,3]\n",
        "listB = [4,5,6]"
      ],
      "execution_count": 5,
      "outputs": []
    },
    {
      "cell_type": "code",
      "metadata": {
        "id": "04F2DSd21627"
      },
      "source": [
        "r = []"
      ],
      "execution_count": 8,
      "outputs": []
    },
    {
      "cell_type": "code",
      "metadata": {
        "id": "KvErNZyT1zll"
      },
      "source": [
        "for x in listA:\n",
        "    for y in listB:\n",
        "        r.append((x, y))"
      ],
      "execution_count": 14,
      "outputs": []
    },
    {
      "cell_type": "code",
      "metadata": {
        "colab": {
          "base_uri": "https://localhost:8080/"
        },
        "id": "7nPkGo3w1-AA",
        "outputId": "63bd891f-c654-46e0-abad-c676492269a4"
      },
      "source": [
        "r"
      ],
      "execution_count": 15,
      "outputs": [
        {
          "output_type": "execute_result",
          "data": {
            "text/plain": [
              "[(1, 4),\n",
              " (1, 5),\n",
              " (1, 6),\n",
              " (2, 4),\n",
              " (2, 5),\n",
              " (2, 6),\n",
              " (3, 4),\n",
              " (3, 5),\n",
              " (3, 6),\n",
              " (1, 4),\n",
              " (1, 5),\n",
              " (1, 6),\n",
              " (2, 4),\n",
              " (2, 5),\n",
              " (2, 6),\n",
              " (3, 4),\n",
              " (3, 5),\n",
              " (3, 6),\n",
              " (1, 4),\n",
              " (1, 5),\n",
              " (1, 6),\n",
              " (2, 4),\n",
              " (2, 5),\n",
              " (2, 6),\n",
              " (3, 4),\n",
              " (3, 5),\n",
              " (3, 6)]"
            ]
          },
          "metadata": {
            "tags": []
          },
          "execution_count": 15
        }
      ]
    },
    {
      "cell_type": "code",
      "metadata": {
        "id": "gADA9x8t1559"
      },
      "source": [
        "import itertools"
      ],
      "execution_count": 10,
      "outputs": []
    },
    {
      "cell_type": "code",
      "metadata": {
        "id": "1kEHBf6M11AV"
      },
      "source": [
        "for x, y in itertools.product(listA, listB):     \n",
        "    r.append((x, y))"
      ],
      "execution_count": 11,
      "outputs": []
    },
    {
      "cell_type": "code",
      "metadata": {
        "colab": {
          "base_uri": "https://localhost:8080/"
        },
        "id": "6qpSnGgj142E",
        "outputId": "a86de251-816c-40b8-a551-95fe964d2483"
      },
      "source": [
        "r"
      ],
      "execution_count": 12,
      "outputs": [
        {
          "output_type": "execute_result",
          "data": {
            "text/plain": [
              "[(1, 4),\n",
              " (1, 5),\n",
              " (1, 6),\n",
              " (2, 4),\n",
              " (2, 5),\n",
              " (2, 6),\n",
              " (3, 4),\n",
              " (3, 5),\n",
              " (3, 6),\n",
              " (1, 4),\n",
              " (1, 5),\n",
              " (1, 6),\n",
              " (2, 4),\n",
              " (2, 5),\n",
              " (2, 6),\n",
              " (3, 4),\n",
              " (3, 5),\n",
              " (3, 6)]"
            ]
          },
          "metadata": {
            "tags": []
          },
          "execution_count": 12
        }
      ]
    },
    {
      "cell_type": "code",
      "metadata": {
        "colab": {
          "base_uri": "https://localhost:8080/"
        },
        "id": "WcY_B8Nu19qO",
        "outputId": "55122c46-aafc-497b-f4b7-9b3272f26dc7"
      },
      "source": [
        "names = [\"A\",\"B\",\"C\"]\n",
        "\n",
        "[x.lower() for x in names]#use this\n",
        "list(map(str.lower, names))"
      ],
      "execution_count": 17,
      "outputs": [
        {
          "output_type": "execute_result",
          "data": {
            "text/plain": [
              "['a', 'b', 'c']"
            ]
          },
          "metadata": {
            "tags": []
          },
          "execution_count": 17
        }
      ]
    }
  ]
}