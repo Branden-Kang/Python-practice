{
  "nbformat": 4,
  "nbformat_minor": 0,
  "metadata": {
    "colab": {
      "provenance": [],
      "collapsed_sections": [],
      "authorship_tag": "ABX9TyMu8lbJ89oGuvLkl2cEQv6V"
    },
    "kernelspec": {
      "name": "python3",
      "display_name": "Python 3"
    },
    "language_info": {
      "name": "python"
    }
  },
  "cells": [
    {
      "cell_type": "markdown",
      "source": [
        "[Reference](https://medium.com/geekculture/7-python-cli-library-you-should-know-cba23c873b34)"
      ],
      "metadata": {
        "id": "4ur0lqMucPEp"
      }
    },
    {
      "cell_type": "markdown",
      "source": [
        "# 1. Rich\n"
      ],
      "metadata": {
        "id": "ceD5A_YfcRF3"
      }
    },
    {
      "cell_type": "code",
      "source": [
        "!pip install rich"
      ],
      "metadata": {
        "colab": {
          "base_uri": "https://localhost:8080/"
        },
        "id": "j0A3b2ADcWyI",
        "outputId": "67be1116-bb6f-4f78-fdbd-af4644a04e54"
      },
      "execution_count": 1,
      "outputs": [
        {
          "output_type": "stream",
          "name": "stdout",
          "text": [
            "Looking in indexes: https://pypi.org/simple, https://us-python.pkg.dev/colab-wheels/public/simple/\n",
            "Collecting rich\n",
            "  Downloading rich-12.6.0-py3-none-any.whl (237 kB)\n",
            "\u001b[K     |████████████████████████████████| 237 kB 25.3 MB/s \n",
            "\u001b[?25hRequirement already satisfied: typing-extensions<5.0,>=4.0.0 in /usr/local/lib/python3.7/dist-packages (from rich) (4.1.1)\n",
            "Requirement already satisfied: pygments<3.0.0,>=2.6.0 in /usr/local/lib/python3.7/dist-packages (from rich) (2.6.1)\n",
            "Collecting commonmark<0.10.0,>=0.9.0\n",
            "  Downloading commonmark-0.9.1-py2.py3-none-any.whl (51 kB)\n",
            "\u001b[K     |████████████████████████████████| 51 kB 6.6 MB/s \n",
            "\u001b[?25hInstalling collected packages: commonmark, rich\n",
            "Successfully installed commonmark-0.9.1 rich-12.6.0\n"
          ]
        }
      ]
    },
    {
      "cell_type": "code",
      "execution_count": 2,
      "metadata": {
        "colab": {
          "base_uri": "https://localhost:8080/"
        },
        "id": "Ei7DgPSMcNTC",
        "outputId": "e628c653-b413-4a66-8a1f-5dfd165d0243"
      },
      "outputs": [
        {
          "output_type": "stream",
          "name": "stdout",
          "text": [
            "\u001b[3m                                 Rich features                                  \u001b[0m\n",
            "\u001b[1;31m              \u001b[0m                                                                  \n",
            "\u001b[1;31m \u001b[0m\u001b[1;31m   Colors   \u001b[0m\u001b[1;31m \u001b[0m✓ \u001b[1;32m4-bit color\u001b[0m                 \u001b[30;40m▄\u001b[0m\u001b[30;40m▄\u001b[0m\u001b[30;40m▄\u001b[0m\u001b[30;40m▄\u001b[0m\u001b[33;40m▄\u001b[0m\u001b[33;40m▄\u001b[0m\u001b[33;40m▄\u001b[0m\u001b[90;40m▄\u001b[0m\u001b[90;40m▄\u001b[0m\u001b[90;40m▄\u001b[0m\u001b[90;40m▄\u001b[0m\u001b[32;40m▄\u001b[0m\u001b[32;40m▄\u001b[0m\u001b[90;40m▄\u001b[0m\u001b[90;40m▄\u001b[0m\u001b[90;40m▄\u001b[0m\u001b[90;40m▄\u001b[0m\u001b[90;40m▄\u001b[0m\u001b[90;40m▄\u001b[0m\u001b[90;40m▄\u001b[0m\u001b[90;40m▄\u001b[0m\u001b[34;40m▄\u001b[0m\u001b[34;40m▄\u001b[0m\u001b[34;40m▄\u001b[0m\u001b[34;40m▄\u001b[0m\u001b[34;40m▄\u001b[0m\u001b[34;40m▄\u001b[0m\u001b[34;40m▄\u001b[0m\u001b[90;40m▄\u001b[0m\u001b[90;40m▄\u001b[0m\u001b[90;40m▄\u001b[0m\u001b[30;40m▄\u001b[0m\u001b[30;40m▄\u001b[0m\u001b[30;40m▄\u001b[0m\u001b[30;40m▄\u001b[0m \n",
            "\u001b[1;31m              \u001b[0m✓ \u001b[1;34m8-bit color\u001b[0m                 \u001b[31;41m▄\u001b[0m\u001b[31;41m▄\u001b[0m\u001b[33;41m▄\u001b[0m\u001b[33;43m▄\u001b[0m\u001b[33;43m▄\u001b[0m\u001b[33;43m▄\u001b[0m\u001b[33;43m▄\u001b[0m\u001b[33;43m▄\u001b[0m\u001b[32;42m▄\u001b[0m\u001b[32;42m▄\u001b[0m\u001b[32;42m▄\u001b[0m\u001b[32;42m▄\u001b[0m\u001b[32;42m▄\u001b[0m\u001b[32;42m▄\u001b[0m\u001b[32;42m▄\u001b[0m\u001b[36;100m▄\u001b[0m\u001b[36;100m▄\u001b[0m\u001b[36;46m▄\u001b[0m\u001b[36;46m▄\u001b[0m\u001b[36;100m▄\u001b[0m\u001b[36;100m▄\u001b[0m\u001b[34;44m▄\u001b[0m\u001b[34;44m▄\u001b[0m\u001b[34;44m▄\u001b[0m\u001b[34;44m▄\u001b[0m\u001b[34;44m▄\u001b[0m\u001b[34;44m▄\u001b[0m\u001b[35;44m▄\u001b[0m\u001b[35;45m▄\u001b[0m\u001b[35;45m▄\u001b[0m\u001b[35;45m▄\u001b[0m\u001b[35;41m▄\u001b[0m\u001b[31;41m▄\u001b[0m\u001b[31;41m▄\u001b[0m\u001b[31;41m▄\u001b[0m \n",
            "\u001b[1;31m              \u001b[0m✓ \u001b[1;35mTruecolor (16.7 million)\u001b[0m    \u001b[31;41m▄\u001b[0m\u001b[31;41m▄\u001b[0m\u001b[33;43m▄\u001b[0m\u001b[33;43m▄\u001b[0m\u001b[33;43m▄\u001b[0m\u001b[93;43m▄\u001b[0m\u001b[93;103m▄\u001b[0m\u001b[93;102m▄\u001b[0m\u001b[92;42m▄\u001b[0m\u001b[92;42m▄\u001b[0m\u001b[32;42m▄\u001b[0m\u001b[32;42m▄\u001b[0m\u001b[32;42m▄\u001b[0m\u001b[92;42m▄\u001b[0m\u001b[92;42m▄\u001b[0m\u001b[36;46m▄\u001b[0m\u001b[36;46m▄\u001b[0m\u001b[36;46m▄\u001b[0m\u001b[36;46m▄\u001b[0m\u001b[36;46m▄\u001b[0m\u001b[36;46m▄\u001b[0m\u001b[94;44m▄\u001b[0m\u001b[34;44m▄\u001b[0m\u001b[34;44m▄\u001b[0m\u001b[34;44m▄\u001b[0m\u001b[34;44m▄\u001b[0m\u001b[35;45m▄\u001b[0m\u001b[35;45m▄\u001b[0m\u001b[35;45m▄\u001b[0m\u001b[35;45m▄\u001b[0m\u001b[35;45m▄\u001b[0m\u001b[35;45m▄\u001b[0m\u001b[35;45m▄\u001b[0m\u001b[31;41m▄\u001b[0m\u001b[31;41m▄\u001b[0m \n",
            "\u001b[1;31m              \u001b[0m✓ \u001b[1;33mDumb terminals\u001b[0m              \u001b[91;41m▄\u001b[0m\u001b[91;101m▄\u001b[0m\u001b[91;101m▄\u001b[0m\u001b[91;101m▄\u001b[0m\u001b[93;103m▄\u001b[0m\u001b[93;103m▄\u001b[0m\u001b[93;103m▄\u001b[0m\u001b[93;103m▄\u001b[0m\u001b[93;102m▄\u001b[0m\u001b[92;102m▄\u001b[0m\u001b[92;102m▄\u001b[0m\u001b[92;102m▄\u001b[0m\u001b[92;102m▄\u001b[0m\u001b[92;102m▄\u001b[0m\u001b[92;102m▄\u001b[0m\u001b[92;102m▄\u001b[0m\u001b[96;106m▄\u001b[0m\u001b[96;106m▄\u001b[0m\u001b[96;106m▄\u001b[0m\u001b[96;46m▄\u001b[0m\u001b[36;46m▄\u001b[0m\u001b[94;104m▄\u001b[0m\u001b[94;104m▄\u001b[0m\u001b[94;44m▄\u001b[0m\u001b[94;44m▄\u001b[0m\u001b[94;104m▄\u001b[0m\u001b[94;45m▄\u001b[0m\u001b[95;45m▄\u001b[0m\u001b[95;45m▄\u001b[0m\u001b[95;105m▄\u001b[0m\u001b[95;105m▄\u001b[0m\u001b[95;45m▄\u001b[0m\u001b[91;45m▄\u001b[0m\u001b[91;101m▄\u001b[0m\u001b[91;101m▄\u001b[0m \n",
            "\u001b[1;31m              \u001b[0m✓ \u001b[1;36mAutomatic color conversion\u001b[0m  \u001b[91;101m▄\u001b[0m\u001b[91;101m▄\u001b[0m\u001b[37;101m▄\u001b[0m\u001b[93;101m▄\u001b[0m\u001b[93;103m▄\u001b[0m\u001b[93;103m▄\u001b[0m\u001b[93;103m▄\u001b[0m\u001b[93;103m▄\u001b[0m\u001b[93;103m▄\u001b[0m\u001b[93;102m▄\u001b[0m\u001b[92;102m▄\u001b[0m\u001b[92;102m▄\u001b[0m\u001b[92;102m▄\u001b[0m\u001b[92;102m▄\u001b[0m\u001b[96;102m▄\u001b[0m\u001b[96;106m▄\u001b[0m\u001b[96;106m▄\u001b[0m\u001b[96;106m▄\u001b[0m\u001b[96;106m▄\u001b[0m\u001b[96;106m▄\u001b[0m\u001b[96;106m▄\u001b[0m\u001b[37;104m▄\u001b[0m\u001b[94;104m▄\u001b[0m\u001b[94;104m▄\u001b[0m\u001b[94;104m▄\u001b[0m\u001b[94;104m▄\u001b[0m\u001b[95;104m▄\u001b[0m\u001b[95;105m▄\u001b[0m\u001b[95;105m▄\u001b[0m\u001b[95;105m▄\u001b[0m\u001b[95;105m▄\u001b[0m\u001b[95;105m▄\u001b[0m\u001b[95;101m▄\u001b[0m\u001b[91;101m▄\u001b[0m\u001b[91;101m▄\u001b[0m \n",
            "\u001b[1;31m              \u001b[0m                                                                  \n",
            "\u001b[1;31m \u001b[0m\u001b[1;31m   Styles   \u001b[0m\u001b[1;31m \u001b[0mAll ansi styles: \u001b[1mbold\u001b[0m, \u001b[2mdim\u001b[0m, \u001b[3mitalic\u001b[0m, \u001b[4munderline\u001b[0m, \u001b[9mstrikethrough\u001b[0m,     \n",
            "\u001b[1;31m              \u001b[0m\u001b[7mreverse\u001b[0m, and even \u001b[5mblink\u001b[0m.                                          \n",
            "\u001b[1;31m              \u001b[0m                                                                  \n",
            "\u001b[1;31m \u001b[0m\u001b[1;31m    Text    \u001b[0m\u001b[1;31m \u001b[0mWord wrap text. Justify \u001b[32mleft\u001b[0m, \u001b[33mcenter\u001b[0m, \u001b[34mright\u001b[0m or \u001b[31mfull\u001b[0m.              \n",
            "\u001b[1;31m              \u001b[0m                                                                  \n",
            "\u001b[1;31m              \u001b[0m\u001b[32mLorem ipsum    \u001b[0m \u001b[33m  Lorem ipsum  \u001b[0m \u001b[34m     Lorem ipsum\u001b[0m \u001b[31mLorem\u001b[0m\u001b[31m      \u001b[0m\u001b[31mipsum\u001b[0m \n",
            "\u001b[1;31m              \u001b[0m\u001b[32mdolor sit amet,\u001b[0m \u001b[33mdolor sit amet,\u001b[0m \u001b[34m dolor sit amet,\u001b[0m \u001b[31mdolor\u001b[0m\u001b[31m \u001b[0m\u001b[31msit\u001b[0m\u001b[31m  \u001b[0m\u001b[31mamet,\u001b[0m \n",
            "\u001b[1;31m              \u001b[0m\u001b[32mconsectetur    \u001b[0m \u001b[33m  consectetur  \u001b[0m \u001b[34m     consectetur\u001b[0m \u001b[31mconsectetur\u001b[0m      \n",
            "\u001b[1;31m              \u001b[0m\u001b[32madipiscing     \u001b[0m \u001b[33m  adipiscing   \u001b[0m \u001b[34madipiscing elit.\u001b[0m \u001b[31madipiscing\u001b[0m\u001b[31m \u001b[0m\u001b[31melit.\u001b[0m \n",
            "\u001b[1;31m              \u001b[0m\u001b[32melit. Quisque  \u001b[0m \u001b[33m elit. Quisque \u001b[0m \u001b[34mQuisque in metus\u001b[0m \u001b[31mQuisque\u001b[0m\u001b[31m \u001b[0m\u001b[31min\u001b[0m\u001b[31m \u001b[0m\u001b[31mmetus\u001b[0m \n",
            "\u001b[1;31m              \u001b[0m\u001b[32min metus sed   \u001b[0m \u001b[33m in metus sed  \u001b[0m \u001b[34m      sed sapien\u001b[0m \u001b[31msed\u001b[0m\u001b[31m       \u001b[0m\u001b[31msapien\u001b[0m \n",
            "\u001b[1;31m              \u001b[0m\u001b[32msapien         \u001b[0m \u001b[33m    sapien     \u001b[0m \u001b[34m       ultricies\u001b[0m \u001b[31multricies\u001b[0m        \n",
            "\u001b[1;31m              \u001b[0m\u001b[32multricies      \u001b[0m \u001b[33m   ultricies   \u001b[0m \u001b[34m    pretium a at\u001b[0m \u001b[31mpretium\u001b[0m\u001b[31m   \u001b[0m\u001b[31ma\u001b[0m\u001b[31m   \u001b[0m\u001b[31mat\u001b[0m \n",
            "\u001b[1;31m              \u001b[0m\u001b[32mpretium a at   \u001b[0m \u001b[33m pretium a at  \u001b[0m \u001b[34m justo. Maecenas\u001b[0m \u001b[31mjusto.\u001b[0m\u001b[31m  \u001b[0m\u001b[31mMaecenas\u001b[0m \n",
            "\u001b[1;31m              \u001b[0m\u001b[32mjusto. Maecenas\u001b[0m \u001b[33mjusto. Maecenas\u001b[0m \u001b[34m luctus velit et\u001b[0m \u001b[31mluctus\u001b[0m\u001b[31m \u001b[0m\u001b[31mvelit\u001b[0m\u001b[31m  \u001b[0m\u001b[31met\u001b[0m \n",
            "\u001b[1;31m              \u001b[0m\u001b[32mluctus velit et\u001b[0m \u001b[33mluctus velit et\u001b[0m \u001b[34m auctor maximus.\u001b[0m \u001b[31mauctor maximus.\u001b[0m  \n",
            "\u001b[1;31m              \u001b[0m\u001b[32mauctor maximus.\u001b[0m \u001b[33mauctor maximus.\u001b[0m                                   \n",
            "\u001b[1;31m              \u001b[0m                                                                  \n",
            "\u001b[1;31m \u001b[0m\u001b[1;31m   Asian    \u001b[0m\u001b[1;31m \u001b[0m🇨🇳  该库支持中文，日文和韩文文本！                                \n",
            "\u001b[1;31m \u001b[0m\u001b[1;31m  language  \u001b[0m\u001b[1;31m \u001b[0m🇯🇵                                                                \n",
            "\u001b[1;31m \u001b[0m\u001b[1;31m  support   \u001b[0m\u001b[1;31m \u001b[0mライブラリは中国語、日本語、韓国語のテキストをサポートしています  \n",
            "\u001b[1;31m              \u001b[0m🇰🇷  이 라이브러리는 중국어, 일본어 및 한국어 텍스트를 지원합니다  \n",
            "\u001b[1;31m              \u001b[0m                                                                  \n",
            "\u001b[1;31m \u001b[0m\u001b[1;31m   Markup   \u001b[0m\u001b[1;31m \u001b[0m\u001b[1;35mRich\u001b[0m supports a simple \u001b[3mbbcode\u001b[0m-like \u001b[1mmarkup\u001b[0m for \u001b[33mcolor\u001b[0m, \u001b[4mstyle\u001b[0m, and   \n",
            "\u001b[1;31m              \u001b[0memoji! 👍 🍎 🐜 🐻 🥖 🚌                                          \n",
            "\u001b[1;31m              \u001b[0m                                                                  \n",
            "\u001b[1;31m \u001b[0m\u001b[1;31m   Tables   \u001b[0m\u001b[1;31m \u001b[0m\u001b[1m \u001b[0m\u001b[1;32mDate\u001b[0m\u001b[1m        \u001b[0m\u001b[1m \u001b[0m \u001b[1m \u001b[0m\u001b[1;34mTitle\u001b[0m\u001b[1m      \u001b[0m\u001b[1m \u001b[0m \u001b[1m \u001b[0m\u001b[1;36mProduction Budget\u001b[0m\u001b[1m \u001b[0m \u001b[1m \u001b[0m\u001b[1m    \u001b[0m\u001b[1;35mBox Office\u001b[0m\u001b[1m \u001b[0m \n",
            "\u001b[1;31m              \u001b[0m───────────────────────────────────────────────────────────────── \n",
            "\u001b[1;31m              \u001b[0m\u001b[32m \u001b[0m\u001b[32mDec 20, 2019\u001b[0m\u001b[32m \u001b[0m \u001b[34m \u001b[0m\u001b[34mStar Wars: \u001b[0m\u001b[34m \u001b[0m \u001b[36m \u001b[0m\u001b[36m     $275,000,000\u001b[0m\u001b[36m \u001b[0m \u001b[35m \u001b[0m\u001b[35m  $375,126,118\u001b[0m\u001b[35m \u001b[0m \n",
            "\u001b[1;31m              \u001b[0m\u001b[32m              \u001b[0m \u001b[34m \u001b[0m\u001b[34mThe Rise of\u001b[0m\u001b[34m \u001b[0m \u001b[36m                   \u001b[0m \u001b[35m                \u001b[0m \n",
            "\u001b[1;31m              \u001b[0m\u001b[32m              \u001b[0m \u001b[34m \u001b[0m\u001b[34mSkywalker  \u001b[0m\u001b[34m \u001b[0m \u001b[36m                   \u001b[0m \u001b[35m                \u001b[0m \n",
            "\u001b[1;31m              \u001b[0m\u001b[2;32m \u001b[0m\u001b[2;32mMay 25, 2018\u001b[0m\u001b[2;32m \u001b[0m \u001b[2;34m \u001b[0m\u001b[1;2;34mSolo\u001b[0m\u001b[2;34m: A    \u001b[0m\u001b[2;34m \u001b[0m \u001b[2;36m \u001b[0m\u001b[2;36m     $275,000,000\u001b[0m\u001b[2;36m \u001b[0m \u001b[2;35m \u001b[0m\u001b[2;35m  $393,151,347\u001b[0m\u001b[2;35m \u001b[0m \n",
            "\u001b[1;31m              \u001b[0m\u001b[2;32m              \u001b[0m \u001b[2;34m \u001b[0m\u001b[2;34mStar Wars  \u001b[0m\u001b[2;34m \u001b[0m \u001b[2;36m                   \u001b[0m \u001b[2;35m                \u001b[0m \n",
            "\u001b[1;31m              \u001b[0m\u001b[2;32m              \u001b[0m \u001b[2;34m \u001b[0m\u001b[2;34mStory      \u001b[0m\u001b[2;34m \u001b[0m \u001b[2;36m                   \u001b[0m \u001b[2;35m                \u001b[0m \n",
            "\u001b[1;31m              \u001b[0m\u001b[32m \u001b[0m\u001b[32mDec 15, 2017\u001b[0m\u001b[32m \u001b[0m \u001b[34m \u001b[0m\u001b[34mStar Wars  \u001b[0m\u001b[34m \u001b[0m \u001b[36m \u001b[0m\u001b[36m     $262,000,000\u001b[0m\u001b[36m \u001b[0m \u001b[35m \u001b[0m\u001b[1;35m$1,332,539,889\u001b[0m\u001b[35m \u001b[0m \n",
            "\u001b[1;31m              \u001b[0m\u001b[32m              \u001b[0m \u001b[34m \u001b[0m\u001b[34mEp. VIII:  \u001b[0m\u001b[34m \u001b[0m \u001b[36m                   \u001b[0m \u001b[35m                \u001b[0m \n",
            "\u001b[1;31m              \u001b[0m\u001b[32m              \u001b[0m \u001b[34m \u001b[0m\u001b[34mThe Last   \u001b[0m\u001b[34m \u001b[0m \u001b[36m                   \u001b[0m \u001b[35m                \u001b[0m \n",
            "\u001b[1;31m              \u001b[0m\u001b[32m              \u001b[0m \u001b[34m \u001b[0m\u001b[34mJedi       \u001b[0m\u001b[34m \u001b[0m \u001b[36m                   \u001b[0m \u001b[35m                \u001b[0m \n",
            "\u001b[1;31m              \u001b[0m\u001b[2;32m \u001b[0m\u001b[2;32mMay 19, 1999\u001b[0m\u001b[2;32m \u001b[0m \u001b[2;34m \u001b[0m\u001b[2;34mStar Wars  \u001b[0m\u001b[2;34m \u001b[0m \u001b[2;36m \u001b[0m\u001b[2;36m     $115,000,000\u001b[0m\u001b[2;36m \u001b[0m \u001b[2;35m \u001b[0m\u001b[2;35m$1,027,044,677\u001b[0m\u001b[2;35m \u001b[0m \n",
            "\u001b[1;31m              \u001b[0m\u001b[2;32m              \u001b[0m \u001b[2;34m \u001b[0m\u001b[2;34mEp. \u001b[0m\u001b[1;2;34mI\u001b[0m\u001b[2;34m: \u001b[0m\u001b[2;3;34mThe \u001b[0m\u001b[2;34m \u001b[0m \u001b[2;36m                   \u001b[0m \u001b[2;35m                \u001b[0m \n",
            "\u001b[1;31m              \u001b[0m\u001b[2;32m              \u001b[0m \u001b[2;34m \u001b[0m\u001b[2;3;34mphantom \u001b[0m\u001b[2;34m   \u001b[0m\u001b[2;34m \u001b[0m \u001b[2;36m                   \u001b[0m \u001b[2;35m                \u001b[0m \n",
            "\u001b[1;31m              \u001b[0m\u001b[2;32m              \u001b[0m \u001b[2;34m \u001b[0m\u001b[2;3;34mMenace\u001b[0m\u001b[2;34m     \u001b[0m\u001b[2;34m \u001b[0m \u001b[2;36m                   \u001b[0m \u001b[2;35m                \u001b[0m \n",
            "\u001b[1;31m              \u001b[0m                                                                  \n",
            "\u001b[1;31m \u001b[0m\u001b[1;31m   Syntax   \u001b[0m\u001b[1;31m \u001b[0m\u001b[40m  \u001b[0m\u001b[2;40m 1 \u001b[0m\u001b[96;40mdef\u001b[0m\u001b[97;40m \u001b[0m\u001b[92;40miter_last\u001b[0m\u001b[97;40m(\u001b[0m\u001b[97;40mvalues\u001b[0m\u001b[97;40m:\u001b[0m\u001b[97;40m \u001b[0m\u001b[97;40mItera\u001b[0m  \u001b[1m{\u001b[0m                               \n",
            "\u001b[1;31m \u001b[0m\u001b[1;31mhighlighting\u001b[0m\u001b[1;31m \u001b[0m\u001b[40m  \u001b[0m\u001b[2;40m 2 \u001b[0m\u001b[2;90;40m│   \u001b[0m\u001b[93;40m\"\"\"Iterate and generate\u001b[0m  \u001b[2;32m│   \u001b[0m\u001b[32m'foo'\u001b[0m: \u001b[1m[\u001b[0m                    \n",
            "\u001b[1;31m \u001b[0m\u001b[1;31m     &      \u001b[0m\u001b[1;31m \u001b[0m\u001b[40m  \u001b[0m\u001b[2;40m 3 \u001b[0m\u001b[2;90;40m│   \u001b[0m\u001b[97;40miter_values\u001b[0m\u001b[97;40m \u001b[0m\u001b[91;40m=\u001b[0m\u001b[97;40m \u001b[0m\u001b[97;40miter\u001b[0m\u001b[97;40m(\u001b[0m\u001b[97;40mvalu\u001b[0m  \u001b[2;32m│   │   \u001b[0m\u001b[1;36m3.1427\u001b[0m,                 \n",
            "\u001b[1;31m \u001b[0m\u001b[1;31m   pretty   \u001b[0m\u001b[1;31m \u001b[0m\u001b[40m  \u001b[0m\u001b[2;40m 4 \u001b[0m\u001b[2;90;40m│   \u001b[0m\u001b[96;40mtry\u001b[0m\u001b[97;40m:\u001b[0m\u001b[40m                   \u001b[0m  \u001b[2;32m│   │   \u001b[0m\u001b[1m(\u001b[0m                       \n",
            "\u001b[1;31m \u001b[0m\u001b[1;31m  printing  \u001b[0m\u001b[1;31m \u001b[0m\u001b[40m  \u001b[0m\u001b[2;40m 5 \u001b[0m\u001b[2;90;40m│   │   \u001b[0m\u001b[97;40mprevious_value\u001b[0m\u001b[97;40m \u001b[0m\u001b[91;40m=\u001b[0m\u001b[97;40m \u001b[0m\u001b[97;40mne\u001b[0m  \u001b[2;32m│   │   │   \u001b[0m\u001b[32m'Paul Atreides'\u001b[0m,    \n",
            "\u001b[1;31m              \u001b[0m\u001b[40m  \u001b[0m\u001b[2;40m 6 \u001b[0m\u001b[2;90;40m│   \u001b[0m\u001b[96;40mexcept\u001b[0m\u001b[97;40m \u001b[0m\u001b[92;40mStopIteration\u001b[0m\u001b[97;40m:\u001b[0m\u001b[40m  \u001b[0m  \u001b[2;32m│   │   │   \u001b[0m\u001b[32m'Vladimir \u001b[0m          \n",
            "\u001b[1;31m              \u001b[0m\u001b[40m  \u001b[0m\u001b[2;40m 7 \u001b[0m\u001b[2;90;40m│   │   \u001b[0m\u001b[96;40mreturn\u001b[0m\u001b[40m             \u001b[0m  \u001b[32mHarkonnen'\u001b[0m,                     \n",
            "\u001b[1;31m              \u001b[0m\u001b[40m  \u001b[0m\u001b[2;40m 8 \u001b[0m\u001b[2;90;40m│   \u001b[0m\u001b[96;40mfor\u001b[0m\u001b[97;40m \u001b[0m\u001b[97;40mvalue\u001b[0m\u001b[97;40m \u001b[0m\u001b[91;40min\u001b[0m\u001b[97;40m \u001b[0m\u001b[97;40miter_value\u001b[0m  \u001b[2;32m│   │   │   \u001b[0m\u001b[32m'Thufir Hawat'\u001b[0m      \n",
            "\u001b[1;31m              \u001b[0m\u001b[40m  \u001b[0m\u001b[2;40m 9 \u001b[0m\u001b[2;90;40m│   │   \u001b[0m\u001b[96;40myield\u001b[0m\u001b[97;40m \u001b[0m\u001b[96;40mFalse\u001b[0m\u001b[97;40m,\u001b[0m\u001b[97;40m \u001b[0m\u001b[97;40mprevio\u001b[0m  \u001b[2;32m│   │   \u001b[0m\u001b[1m)\u001b[0m                       \n",
            "\u001b[1;31m              \u001b[0m\u001b[40m  \u001b[0m\u001b[2;40m10 \u001b[0m\u001b[2;90;40m│   │   \u001b[0m\u001b[97;40mprevious_value\u001b[0m\u001b[97;40m \u001b[0m\u001b[91;40m=\u001b[0m\u001b[97;40m \u001b[0m\u001b[97;40mva\u001b[0m  \u001b[2;32m│   \u001b[0m\u001b[1m]\u001b[0m,                          \n",
            "\u001b[1;31m              \u001b[0m\u001b[40m  \u001b[0m\u001b[2;40m11 \u001b[0m\u001b[2;90;40m│   \u001b[0m\u001b[96;40myield\u001b[0m\u001b[97;40m \u001b[0m\u001b[96;40mTrue\u001b[0m\u001b[97;40m,\u001b[0m\u001b[97;40m \u001b[0m\u001b[97;40mprevious_va\u001b[0m  \u001b[2;32m│   \u001b[0m\u001b[32m'atomic'\u001b[0m: \u001b[1m(\u001b[0m                 \n",
            "\u001b[1;31m              \u001b[0m                                  \u001b[2;32m│   │   \u001b[0m\u001b[3;91mFalse\u001b[0m,                  \n",
            "\u001b[1;31m              \u001b[0m                                  \u001b[2;32m│   │   \u001b[0m\u001b[3;92mTrue\u001b[0m,                   \n",
            "\u001b[1;31m              \u001b[0m                                  \u001b[2;32m│   │   \u001b[0m\u001b[3;35mNone\u001b[0m                    \n",
            "\u001b[1;31m              \u001b[0m                                  \u001b[2;32m│   \u001b[0m\u001b[1m)\u001b[0m                           \n",
            "\u001b[1;31m              \u001b[0m                                  \u001b[1m}\u001b[0m                               \n",
            "\u001b[1;31m              \u001b[0m                                                                  \n",
            "\u001b[1;31m \u001b[0m\u001b[1;31m  Markdown  \u001b[0m\u001b[1;31m \u001b[0m\u001b[36m# Markdown\u001b[0m                        ╔═════════════════════════════╗ \n",
            "\u001b[1;31m              \u001b[0m                                  ║          \u001b[1mMarkdown\u001b[0m           ║ \n",
            "\u001b[1;31m              \u001b[0m\u001b[36mSupports much of the *markdown* \u001b[0m  ╚═════════════════════════════╝ \n",
            "\u001b[1;31m              \u001b[0m\u001b[36m__syntax__!\u001b[0m                                                       \n",
            "\u001b[1;31m              \u001b[0m                                  Supports much of the \u001b[3mmarkdown\u001b[0m   \n",
            "\u001b[1;31m              \u001b[0m\u001b[36m- Headers\u001b[0m                         \u001b[1msyntax\u001b[0m!                         \n",
            "\u001b[1;31m              \u001b[0m\u001b[36m- Basic formatting: **bold**, \u001b[0m                                    \n",
            "\u001b[1;31m              \u001b[0m\u001b[36m*italic*, `code`\u001b[0m                  \u001b[1;33m • \u001b[0mHeaders                      \n",
            "\u001b[1;31m              \u001b[0m\u001b[36m- Block quotes\u001b[0m                    \u001b[1;33m • \u001b[0mBasic formatting: \u001b[1mbold\u001b[0m,      \n",
            "\u001b[1;31m              \u001b[0m\u001b[36m- Lists, and more...\u001b[0m              \u001b[1;33m   \u001b[0m\u001b[3mitalic\u001b[0m, \u001b[97;40mcode\u001b[0m                 \n",
            "\u001b[1;31m              \u001b[0m\u001b[36m    \u001b[0m                              \u001b[1;33m • \u001b[0mBlock quotes                 \n",
            "\u001b[1;31m              \u001b[0m                                  \u001b[1;33m • \u001b[0mLists, and more...           \n",
            "\u001b[1;31m              \u001b[0m                                                                  \n",
            "\u001b[1;31m \u001b[0m\u001b[1;31m   +more!   \u001b[0m\u001b[1;31m \u001b[0mProgress bars, columns, styled logging handler, tracebacks,       \n",
            "\u001b[1;31m              \u001b[0metc...                                                            \n",
            "\u001b[1;31m              \u001b[0m                                                                  \n",
            "rendered in 79.9ms (cold cache)\n",
            "rendered in 33.1ms (warm cache)\n",
            "\u001b[94m╭─\u001b[0m\u001b[94m───────────────────────\u001b[0m\u001b[94m \u001b[0m\u001b[1;31mThanks for trying out Rich!\u001b[0m\u001b[94m \u001b[0m\u001b[94m────────────────────────\u001b[0m\u001b[94m─╮\u001b[0m\n",
            "\u001b[94m│\u001b[0m                                                                              \u001b[94m│\u001b[0m\n",
            "\u001b[94m│\u001b[0m  We hope you enjoy using Rich!   \u001b[32mTextualize\u001b[0m\u001b[32m \u001b[0m\u001b]8;id=97303;https://github.com/textualize\u001b\\\u001b[4;34mhttps://github.com/textualize\u001b[0m\u001b]8;;\u001b\\    \u001b[94m│\u001b[0m\n",
            "\u001b[94m│\u001b[0m                                  \u001b[32m           \u001b[0m                                 \u001b[94m│\u001b[0m\n",
            "\u001b[94m│\u001b[0m  Rich is maintained with \u001b[31m❤\u001b[0m by    \u001b[32m   Twitter\u001b[0m\u001b[32m \u001b[0m\u001b]8;id=709109;https://twitter.com/willmcgugan\u001b\\\u001b[4;34mhttps://twitter.com/willmcgugan\u001b[0m\u001b]8;;\u001b\\  \u001b[94m│\u001b[0m\n",
            "\u001b[94m│\u001b[0m  \u001b]8;id=691244;https://www.textualize.io\u001b\\Textualize.io\u001b]8;;\u001b\\                                                               \u001b[94m│\u001b[0m\n",
            "\u001b[94m│\u001b[0m                                                                              \u001b[94m│\u001b[0m\n",
            "\u001b[94m│\u001b[0m  - Will McGugan                                                              \u001b[94m│\u001b[0m\n",
            "\u001b[94m│\u001b[0m                                                                              \u001b[94m│\u001b[0m\n",
            "\u001b[94m╰──────────────────────────────────────────────────────────────────────────────╯\u001b[0m\n"
          ]
        }
      ],
      "source": [
        "!python -m rich"
      ]
    },
    {
      "cell_type": "markdown",
      "source": [
        "# 2. python-fire\n"
      ],
      "metadata": {
        "id": "BESleF9UcULK"
      }
    },
    {
      "cell_type": "code",
      "source": [
        "pip install fire"
      ],
      "metadata": {
        "colab": {
          "base_uri": "https://localhost:8080/"
        },
        "id": "GrHrRq5RcnI2",
        "outputId": "77a91f2d-4d97-450d-876e-76517e97a043"
      },
      "execution_count": 3,
      "outputs": [
        {
          "output_type": "stream",
          "name": "stdout",
          "text": [
            "Looking in indexes: https://pypi.org/simple, https://us-python.pkg.dev/colab-wheels/public/simple/\n",
            "Collecting fire\n",
            "  Downloading fire-0.4.0.tar.gz (87 kB)\n",
            "\u001b[K     |████████████████████████████████| 87 kB 5.9 MB/s \n",
            "\u001b[?25hRequirement already satisfied: six in /usr/local/lib/python3.7/dist-packages (from fire) (1.15.0)\n",
            "Requirement already satisfied: termcolor in /usr/local/lib/python3.7/dist-packages (from fire) (2.1.0)\n",
            "Building wheels for collected packages: fire\n",
            "  Building wheel for fire (setup.py) ... \u001b[?25l\u001b[?25hdone\n",
            "  Created wheel for fire: filename=fire-0.4.0-py2.py3-none-any.whl size=115940 sha256=44923aa04d9491fa61852a2c5f618659f49577a1b73fbd7b0d486420a205580a\n",
            "  Stored in directory: /root/.cache/pip/wheels/8a/67/fb/2e8a12fa16661b9d5af1f654bd199366799740a85c64981226\n",
            "Successfully built fire\n",
            "Installing collected packages: fire\n",
            "Successfully installed fire-0.4.0\n"
          ]
        }
      ]
    },
    {
      "cell_type": "code",
      "source": [
        "# import fire\n",
        "# class Calculator(object):\n",
        "#     def double(self, number):\n",
        "#         return 2 * number\n",
        "\n",
        "# if __name__ == '__main__':\n",
        "#     fire.Fire(Calculator)"
      ],
      "metadata": {
        "id": "EjRn_oZqcS9J"
      },
      "execution_count": 4,
      "outputs": []
    },
    {
      "cell_type": "markdown",
      "source": [
        "# 3. Prompt-toolkit\n"
      ],
      "metadata": {
        "id": "K1LV8zitcwcA"
      }
    },
    {
      "cell_type": "code",
      "source": [
        "pip install prompt_toolkit"
      ],
      "metadata": {
        "colab": {
          "base_uri": "https://localhost:8080/"
        },
        "id": "BlF62FwFckCs",
        "outputId": "dc695e36-371f-438d-f91d-c918b6572887"
      },
      "execution_count": 5,
      "outputs": [
        {
          "output_type": "stream",
          "name": "stdout",
          "text": [
            "Looking in indexes: https://pypi.org/simple, https://us-python.pkg.dev/colab-wheels/public/simple/\n",
            "Requirement already satisfied: prompt_toolkit in /usr/local/lib/python3.7/dist-packages (2.0.10)\n",
            "Requirement already satisfied: six>=1.9.0 in /usr/local/lib/python3.7/dist-packages (from prompt_toolkit) (1.15.0)\n",
            "Requirement already satisfied: wcwidth in /usr/local/lib/python3.7/dist-packages (from prompt_toolkit) (0.2.5)\n"
          ]
        }
      ]
    },
    {
      "cell_type": "code",
      "source": [
        "# from prompt_toolkit import prompt\n",
        "\n",
        "# if __name__ == '__main__':\n",
        "#     answer = prompt('Give me some input: ')\n",
        "#     print('You said: %s' % answer)"
      ],
      "metadata": {
        "id": "fiUcj3r6c0T2"
      },
      "execution_count": 6,
      "outputs": []
    },
    {
      "cell_type": "markdown",
      "source": [
        "# 4. tqdm\n"
      ],
      "metadata": {
        "id": "uMcSNL__c3JA"
      }
    },
    {
      "cell_type": "code",
      "source": [
        "from tqdm import tqdm\n",
        "for i in tqdm(range(int(9e6))):\n",
        "    pass"
      ],
      "metadata": {
        "colab": {
          "base_uri": "https://localhost:8080/"
        },
        "id": "ZRi57yA6c1kU",
        "outputId": "1803086c-386f-4f07-e423-fe32563acd2d"
      },
      "execution_count": 7,
      "outputs": [
        {
          "output_type": "stream",
          "name": "stderr",
          "text": [
            "100%|██████████| 9000000/9000000 [00:01<00:00, 5368599.93it/s]\n"
          ]
        }
      ]
    },
    {
      "cell_type": "markdown",
      "source": [
        "# 5. Colorama\n"
      ],
      "metadata": {
        "id": "Ao1TAWu3dD_w"
      }
    },
    {
      "cell_type": "code",
      "source": [
        "pip install colorama"
      ],
      "metadata": {
        "colab": {
          "base_uri": "https://localhost:8080/"
        },
        "id": "u8WBYDNdc_D7",
        "outputId": "5acb60b5-b864-4d01-ef26-f4859a07b888"
      },
      "execution_count": 8,
      "outputs": [
        {
          "output_type": "stream",
          "name": "stdout",
          "text": [
            "Looking in indexes: https://pypi.org/simple, https://us-python.pkg.dev/colab-wheels/public/simple/\n",
            "Collecting colorama\n",
            "  Downloading colorama-0.4.6-py2.py3-none-any.whl (25 kB)\n",
            "Installing collected packages: colorama\n",
            "Successfully installed colorama-0.4.6\n"
          ]
        }
      ]
    },
    {
      "cell_type": "code",
      "source": [
        "from colorama import Fore, Back, Style\n",
        "print(Fore.RED + 'some red text')\n",
        "print(Back.GREEN + 'and with a green background')\n",
        "print(Style.DIM + 'and in dim text')\n",
        "print(Style.RESET_ALL)\n",
        "print('back to normal now')"
      ],
      "metadata": {
        "colab": {
          "base_uri": "https://localhost:8080/"
        },
        "id": "z6drrwSydGO_",
        "outputId": "d6b20bb5-c260-45a0-a2b5-0262dca4ddaf"
      },
      "execution_count": 9,
      "outputs": [
        {
          "output_type": "stream",
          "name": "stdout",
          "text": [
            "\u001b[31msome red text\n",
            "\u001b[42mand with a green background\n",
            "\u001b[2mand in dim text\n",
            "\u001b[0m\n",
            "back to normal now\n"
          ]
        }
      ]
    },
    {
      "cell_type": "markdown",
      "source": [
        "# 6. streamparse\n",
        "Streamparse lets you run Python code against real-time streams of data via Apache Storm. With streamparse you can create Storm bolts and spouts in Python without having to write a single line of Java. It also provides handy CLI utilities for managing Storm clusters and projects.\n",
        "\n",
        "The Storm/streamparse combo can be viewed as a more robust alternative to Python worker-and-queue systems, as might be built atop frameworks like Celery and RQ. It offers a way to do \"real-time map/reduce style computation\" against live streams of data. It can also be a powerful way to scale long-running, highly parallel Python processes in production."
      ],
      "metadata": {
        "id": "e-yh-WJedMR6"
      }
    },
    {
      "cell_type": "markdown",
      "source": [
        "# 7. Asciimatics\n"
      ],
      "metadata": {
        "id": "HiNl4UjfdZLg"
      }
    },
    {
      "cell_type": "code",
      "source": [
        "pip install asciimatics"
      ],
      "metadata": {
        "colab": {
          "base_uri": "https://localhost:8080/"
        },
        "id": "-TXOp1NKdJWa",
        "outputId": "8e5c9df2-4278-4923-b576-60f9dd45f6fa"
      },
      "execution_count": 10,
      "outputs": [
        {
          "output_type": "stream",
          "name": "stdout",
          "text": [
            "Looking in indexes: https://pypi.org/simple, https://us-python.pkg.dev/colab-wheels/public/simple/\n",
            "Collecting asciimatics\n",
            "  Downloading asciimatics-1.14.0-py2.py3-none-any.whl (144 kB)\n",
            "\u001b[K     |████████████████████████████████| 144 kB 25.2 MB/s \n",
            "\u001b[?25hRequirement already satisfied: Pillow>=2.7.0 in /usr/local/lib/python3.7/dist-packages (from asciimatics) (7.1.2)\n",
            "Requirement already satisfied: future in /usr/local/lib/python3.7/dist-packages (from asciimatics) (0.16.0)\n",
            "Collecting pyfiglet>=0.7.2\n",
            "  Downloading pyfiglet-0.8.post1-py2.py3-none-any.whl (865 kB)\n",
            "\u001b[K     |████████████████████████████████| 865 kB 63.9 MB/s \n",
            "\u001b[?25hRequirement already satisfied: wcwidth in /usr/local/lib/python3.7/dist-packages (from asciimatics) (0.2.5)\n",
            "Installing collected packages: pyfiglet, asciimatics\n",
            "Successfully installed asciimatics-1.14.0 pyfiglet-0.8.post1\n"
          ]
        }
      ]
    },
    {
      "cell_type": "code",
      "source": [
        "# from random import randint\n",
        "# from asciimatics.screen import Screen\n",
        "\n",
        "# def demo(screen):\n",
        "#     while True:\n",
        "#         screen.print_at('Hello world!',\n",
        "#                         randint(0, screen.width), randint(0, screen.height),\n",
        "#                         colour=randint(0, screen.colours - 1),\n",
        "#                         bg=randint(0, screen.colours - 1))\n",
        "#         ev = screen.get_key()\n",
        "#         if ev in (ord('Q'), ord('q')):\n",
        "#             return\n",
        "#         screen.refresh()\n",
        "\n",
        "# Screen.wrapper(demo)"
      ],
      "metadata": {
        "id": "jsoQoGAJdcFB"
      },
      "execution_count": 11,
      "outputs": []
    },
    {
      "cell_type": "code",
      "source": [
        "# from asciimatics.effects import Cycle, Stars\n",
        "# from asciimatics.renderers import FigletText\n",
        "# from asciimatics.scene import Scene\n",
        "# from asciimatics.screen import Screen\n",
        "\n",
        "# def demo(screen):\n",
        "#     effects = [\n",
        "#         Cycle(\n",
        "#             screen,\n",
        "#             FigletText(\"ASCIIMATICS\", font='big'),\n",
        "#             int(screen.height / 2 - 8)),\n",
        "#         Cycle(\n",
        "#             screen,\n",
        "#             FigletText(\"ROCKS!\", font='big'),\n",
        "#             int(screen.height / 2 + 3)),\n",
        "#         Stars(screen, 200)\n",
        "#     ]\n",
        "#     screen.play([Scene(effects, 500)])\n",
        "\n",
        "# Screen.wrapper(demo)"
      ],
      "metadata": {
        "id": "Xxz67T91ddd8"
      },
      "execution_count": 12,
      "outputs": []
    }
  ]
}
