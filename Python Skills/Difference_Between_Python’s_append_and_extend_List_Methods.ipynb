{
  "nbformat": 4,
  "nbformat_minor": 0,
  "metadata": {
    "colab": {
      "name": "Difference Between Python’s .append and .extend List Methods.ipynb",
      "provenance": [],
      "authorship_tag": "ABX9TyNKNhT8hY63GacAQsbMLoqF"
    },
    "kernelspec": {
      "name": "python3",
      "display_name": "Python 3"
    }
  },
  "cells": [
    {
      "cell_type": "markdown",
      "metadata": {
        "id": "uwJMdiSpzjEM"
      },
      "source": [
        "[Reference](https://betterprogramming.pub/whats-the-difference-between-python-s-append-and-extend-list-methods-65e9bca792f0)"
      ]
    },
    {
      "cell_type": "code",
      "metadata": {
        "colab": {
          "base_uri": "https://localhost:8080/"
        },
        "id": "8MbDs7XNzhm-",
        "outputId": "7e2ca65e-7b5e-4ca4-a9f9-00eac270f326"
      },
      "source": [
        "l = [1,2,3]\n",
        "l.append(\"Hello\")\n",
        "print(l)"
      ],
      "execution_count": 3,
      "outputs": [
        {
          "output_type": "stream",
          "text": [
            "[1, 2, 3, 'Hello']\n"
          ],
          "name": "stdout"
        }
      ]
    },
    {
      "cell_type": "code",
      "metadata": {
        "colab": {
          "base_uri": "https://localhost:8080/"
        },
        "id": "y0xqknm_zu1E",
        "outputId": "6bbebffa-c7bc-4e75-99e9-4876be51ff00"
      },
      "source": [
        "l = [1,2,3]\n",
        "l.append(4)\n",
        "print(l)"
      ],
      "execution_count": 4,
      "outputs": [
        {
          "output_type": "stream",
          "text": [
            "[1, 2, 3, 4]\n"
          ],
          "name": "stdout"
        }
      ]
    },
    {
      "cell_type": "code",
      "metadata": {
        "colab": {
          "base_uri": "https://localhost:8080/"
        },
        "id": "AAgdrcQVzr_9",
        "outputId": "b5f99b9f-72ba-47b6-df81-2c7c9e041530"
      },
      "source": [
        "l = [1,2,3]\n",
        "l.append([4,5,6])\n",
        "print(l)"
      ],
      "execution_count": 5,
      "outputs": [
        {
          "output_type": "stream",
          "text": [
            "[1, 2, 3, [4, 5, 6]]\n"
          ],
          "name": "stdout"
        }
      ]
    },
    {
      "cell_type": "code",
      "metadata": {
        "colab": {
          "base_uri": "https://localhost:8080/"
        },
        "id": "AgcSGB02zsj8",
        "outputId": "9101fda8-b243-400a-873b-a5ba0a810532"
      },
      "source": [
        "l = [1,2,3]\n",
        "l.append({\"a\":4,\"b\":5,\"c\":6})\n",
        "print(l)"
      ],
      "execution_count": 6,
      "outputs": [
        {
          "output_type": "stream",
          "text": [
            "[1, 2, 3, {'a': 4, 'b': 5, 'c': 6}]\n"
          ],
          "name": "stdout"
        }
      ]
    },
    {
      "cell_type": "code",
      "metadata": {
        "colab": {
          "base_uri": "https://localhost:8080/"
        },
        "id": "CC4gxUIxz060",
        "outputId": "1b60e7fe-dc91-46f0-c973-c161661ada96"
      },
      "source": [
        "l = [1,2,3]\n",
        "l.extend(\"Hello\")\n",
        "print(l)"
      ],
      "execution_count": 7,
      "outputs": [
        {
          "output_type": "stream",
          "text": [
            "[1, 2, 3, 'H', 'e', 'l', 'l', 'o']\n"
          ],
          "name": "stdout"
        }
      ]
    },
    {
      "cell_type": "code",
      "metadata": {
        "colab": {
          "base_uri": "https://localhost:8080/",
          "height": 232
        },
        "id": "uCUKxlGGz_iE",
        "outputId": "275edf78-d338-4c8a-99fc-c116b4eb5009"
      },
      "source": [
        "l = [1,2,3]\n",
        "l.extend(4)\n",
        "print(l)"
      ],
      "execution_count": 8,
      "outputs": [
        {
          "output_type": "error",
          "ename": "TypeError",
          "evalue": "ignored",
          "traceback": [
            "\u001b[0;31m---------------------------------------------------------------------------\u001b[0m",
            "\u001b[0;31mTypeError\u001b[0m                                 Traceback (most recent call last)",
            "\u001b[0;32m<ipython-input-8-a064dfd59496>\u001b[0m in \u001b[0;36m<module>\u001b[0;34m()\u001b[0m\n\u001b[1;32m      1\u001b[0m \u001b[0ml\u001b[0m \u001b[0;34m=\u001b[0m \u001b[0;34m[\u001b[0m\u001b[0;36m1\u001b[0m\u001b[0;34m,\u001b[0m\u001b[0;36m2\u001b[0m\u001b[0;34m,\u001b[0m\u001b[0;36m3\u001b[0m\u001b[0;34m]\u001b[0m\u001b[0;34m\u001b[0m\u001b[0;34m\u001b[0m\u001b[0m\n\u001b[0;32m----> 2\u001b[0;31m \u001b[0ml\u001b[0m\u001b[0;34m.\u001b[0m\u001b[0mextend\u001b[0m\u001b[0;34m(\u001b[0m\u001b[0;36m4\u001b[0m\u001b[0;34m)\u001b[0m\u001b[0;34m\u001b[0m\u001b[0;34m\u001b[0m\u001b[0m\n\u001b[0m\u001b[1;32m      3\u001b[0m \u001b[0mprint\u001b[0m\u001b[0;34m(\u001b[0m\u001b[0ml\u001b[0m\u001b[0;34m)\u001b[0m\u001b[0;34m\u001b[0m\u001b[0;34m\u001b[0m\u001b[0m\n",
            "\u001b[0;31mTypeError\u001b[0m: 'int' object is not iterable"
          ]
        }
      ]
    },
    {
      "cell_type": "code",
      "metadata": {
        "colab": {
          "base_uri": "https://localhost:8080/"
        },
        "id": "e8J-J6DD0WKF",
        "outputId": "a0077251-079a-4e3a-b8e4-bd91e41d3c91"
      },
      "source": [
        "l = [1,2,3]\n",
        "l.extend([4])\n",
        "print(l)"
      ],
      "execution_count": 11,
      "outputs": [
        {
          "output_type": "stream",
          "text": [
            "[1, 2, 3, 4]\n"
          ],
          "name": "stdout"
        }
      ]
    },
    {
      "cell_type": "code",
      "metadata": {
        "colab": {
          "base_uri": "https://localhost:8080/"
        },
        "id": "xl1z2Bjqz-PT",
        "outputId": "84f06ea0-134b-47f3-d99a-723eb7977522"
      },
      "source": [
        "l = [1,2,3]\n",
        "l.extend([4,5,6])\n",
        "print(l)"
      ],
      "execution_count": 9,
      "outputs": [
        {
          "output_type": "stream",
          "text": [
            "[1, 2, 3, 4, 5, 6]\n"
          ],
          "name": "stdout"
        }
      ]
    },
    {
      "cell_type": "code",
      "metadata": {
        "colab": {
          "base_uri": "https://localhost:8080/"
        },
        "id": "AizXFG5Bz999",
        "outputId": "231b49a6-5d21-4c98-89ac-82ba5535506e"
      },
      "source": [
        "l = [1,2,3]\n",
        "l.extend({\"a\":4,\"b\":5,\"c\":6})\n",
        "print(l)"
      ],
      "execution_count": 10,
      "outputs": [
        {
          "output_type": "stream",
          "text": [
            "[1, 2, 3, 'a', 'b', 'c']\n"
          ],
          "name": "stdout"
        }
      ]
    }
  ]
}