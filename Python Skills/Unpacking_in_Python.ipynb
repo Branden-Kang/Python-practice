{
  "nbformat": 4,
  "nbformat_minor": 0,
  "metadata": {
    "colab": {
      "name": "Unpacking in Python.ipynb",
      "provenance": [],
      "authorship_tag": "ABX9TyN+Ea8heaVz6+KywuXxAjGv"
    },
    "kernelspec": {
      "name": "python3",
      "display_name": "Python 3"
    }
  },
  "cells": [
    {
      "cell_type": "markdown",
      "metadata": {
        "id": "iQvLj7UV7A0e"
      },
      "source": [
        "[Reference](https://medium.com/towards-artificial-intelligence/what-is-unpacking-in-python-5bd22954ce4d)"
      ]
    },
    {
      "cell_type": "markdown",
      "metadata": {
        "id": "0qZYfn9O7EHZ"
      },
      "source": [
        "# Using list, tuple & string"
      ]
    },
    {
      "cell_type": "code",
      "metadata": {
        "colab": {
          "base_uri": "https://localhost:8080/"
        },
        "id": "jDfRDHPz6_hn",
        "outputId": "3e5f5fd4-0303-44a7-fc3a-29e0e519c709"
      },
      "source": [
        "x, y, z = 10, 20, 30\n",
        "print(\"x = {0}, y = {1}, z = {2}\".format(x, y, z))"
      ],
      "execution_count": 1,
      "outputs": [
        {
          "output_type": "stream",
          "text": [
            "x = 10, y = 20, z = 30\n"
          ],
          "name": "stdout"
        }
      ]
    },
    {
      "cell_type": "code",
      "metadata": {
        "colab": {
          "base_uri": "https://localhost:8080/"
        },
        "id": "rnpKpJFh7GFa",
        "outputId": "2eb40079-bcae-486f-b13d-480573694b26"
      },
      "source": [
        "# list example\n",
        "x, y, z = [40, 50, 60]\n",
        "print(\"x = {0}, y = {1}, z = {2}\".format(x, y, z))"
      ],
      "execution_count": 2,
      "outputs": [
        {
          "output_type": "stream",
          "text": [
            "x = 40, y = 50, z = 60\n"
          ],
          "name": "stdout"
        }
      ]
    },
    {
      "cell_type": "code",
      "metadata": {
        "colab": {
          "base_uri": "https://localhost:8080/"
        },
        "id": "nyuDl_Dv7ucC",
        "outputId": "b7bcd48a-210c-456c-ed05-be5cc460f46c"
      },
      "source": [
        "# tuple example\n",
        "x, y, z = (70, 80, 90)\n",
        "print(\"x = {0}, y = {1}, z = {2}\".format(x, y, z))"
      ],
      "execution_count": 3,
      "outputs": [
        {
          "output_type": "stream",
          "text": [
            "x = 70, y = 80, z = 90\n"
          ],
          "name": "stdout"
        }
      ]
    },
    {
      "cell_type": "code",
      "metadata": {
        "colab": {
          "base_uri": "https://localhost:8080/"
        },
        "id": "8oBAQJu_7vTu",
        "outputId": "48321795-1830-44d6-f473-4416e5671969"
      },
      "source": [
        "# string example\n",
        "w, x, y, z = 'Data'\n",
        "print(\"w = {0}, x = {1}, y = {2}, z = {3}\".format(w, x, y, z))"
      ],
      "execution_count": 4,
      "outputs": [
        {
          "output_type": "stream",
          "text": [
            "w = D, x = a, y = t, z = a\n"
          ],
          "name": "stdout"
        }
      ]
    },
    {
      "cell_type": "markdown",
      "metadata": {
        "id": "TmXBt1ot7xob"
      },
      "source": [
        "# Using sets and dictionaries"
      ]
    },
    {
      "cell_type": "code",
      "metadata": {
        "colab": {
          "base_uri": "https://localhost:8080/"
        },
        "id": "Kf4LPLVt7wrI",
        "outputId": "f3b5f5e3-bc14-42bf-b5b1-bb5c83d26ca9"
      },
      "source": [
        "# dictionary example\n",
        "x, y, z = {'k1': 101, 'k2':102, 'k3': 103}\n",
        "print(\"x = {0}, y = {1}, z = {2}\".format(x, y, z))"
      ],
      "execution_count": 5,
      "outputs": [
        {
          "output_type": "stream",
          "text": [
            "x = k1, y = k2, z = k3\n"
          ],
          "name": "stdout"
        }
      ]
    },
    {
      "cell_type": "code",
      "metadata": {
        "colab": {
          "base_uri": "https://localhost:8080/"
        },
        "id": "63ZpvXa77zBH",
        "outputId": "d894d7ba-ec68-4415-a8c2-a1dc1050fa02"
      },
      "source": [
        "# set example\n",
        "x, y, z = {104, 105, 106}\n",
        "print(\"x = {0}, y = {1}, z = {2}\".format(x, y, z))"
      ],
      "execution_count": 6,
      "outputs": [
        {
          "output_type": "stream",
          "text": [
            "x = 104, y = 105, z = 106\n"
          ],
          "name": "stdout"
        }
      ]
    },
    {
      "cell_type": "markdown",
      "metadata": {
        "id": "xPwgMjAk8jYP"
      },
      "source": [
        "# * Operator"
      ]
    },
    {
      "cell_type": "code",
      "metadata": {
        "colab": {
          "base_uri": "https://localhost:8080/"
        },
        "id": "QiUeN7B07z_L",
        "outputId": "79fa4351-bad3-41f5-a37a-70cfe3f95de2"
      },
      "source": [
        "# list example\n",
        "x, *y = [100, 200, 300]\n",
        "print(\"x = {0}, y = {1}\".format(x, y))"
      ],
      "execution_count": 7,
      "outputs": [
        {
          "output_type": "stream",
          "text": [
            "x = 100, y = [200, 300]\n"
          ],
          "name": "stdout"
        }
      ]
    },
    {
      "cell_type": "code",
      "metadata": {
        "colab": {
          "base_uri": "https://localhost:8080/"
        },
        "id": "wiedn-GO8lgG",
        "outputId": "170edc58-c1a1-4c9a-caa9-ff36f240fdc5"
      },
      "source": [
        "# tuple example\n",
        "x, *y, z = (400, 500, 600, 700)\n",
        "print(\"x = {0}, y = {1}, z = {2}\".format(x, y, z))"
      ],
      "execution_count": 8,
      "outputs": [
        {
          "output_type": "stream",
          "text": [
            "x = 400, y = [500, 600], z = 700\n"
          ],
          "name": "stdout"
        }
      ]
    },
    {
      "cell_type": "code",
      "metadata": {
        "colab": {
          "base_uri": "https://localhost:8080/"
        },
        "id": "feb6U_fG8nb-",
        "outputId": "2ee8bcc7-a97d-463d-b56c-0064eb726609"
      },
      "source": [
        "# string example\n",
        "x, *y = 'Data'\n",
        "print(\"x = {0}, y = {1}\".format(x, y))"
      ],
      "execution_count": 9,
      "outputs": [
        {
          "output_type": "stream",
          "text": [
            "x = D, y = ['a', 't', 'a']\n"
          ],
          "name": "stdout"
        }
      ]
    },
    {
      "cell_type": "code",
      "metadata": {
        "colab": {
          "base_uri": "https://localhost:8080/"
        },
        "id": "XK8sD_CZ8o4x",
        "outputId": "1f825330-65ac-4529-b9fe-ab7f4ea1a802"
      },
      "source": [
        "x, *y, z = [100, 'Data', 'Science', 200]\n",
        "print(\"x = {0}, y = {1}, z = {2}\".format(x, y, z))"
      ],
      "execution_count": 10,
      "outputs": [
        {
          "output_type": "stream",
          "text": [
            "x = 100, y = ['Data', 'Science'], z = 200\n"
          ],
          "name": "stdout"
        }
      ]
    },
    {
      "cell_type": "code",
      "metadata": {
        "colab": {
          "base_uri": "https://localhost:8080/"
        },
        "id": "OzmCxe4X8ran",
        "outputId": "3871e5fa-a89c-4e74-e06f-5baa202f121a"
      },
      "source": [
        "# set example 2\n",
        "x, *y, z = {100, 200, 300, 400, 500}\n",
        "print(\"x = {0}, y = {1}, z = {2}\".format(x, y, z))"
      ],
      "execution_count": 11,
      "outputs": [
        {
          "output_type": "stream",
          "text": [
            "x = 100, y = [200, 300, 400], z = 500\n"
          ],
          "name": "stdout"
        }
      ]
    },
    {
      "cell_type": "code",
      "metadata": {
        "colab": {
          "base_uri": "https://localhost:8080/"
        },
        "id": "URincD4C8sZw",
        "outputId": "c9662cf3-92fb-465d-c59e-be68f8e78845"
      },
      "source": [
        "# dictionary example 1\n",
        "x, *y = {'key1':100, 'key2': 200, 'key3':300}\n",
        "print(\"x = {0}, y = {1}\".format(x, y))"
      ],
      "execution_count": 12,
      "outputs": [
        {
          "output_type": "stream",
          "text": [
            "x = key1, y = ['key2', 'key3']\n"
          ],
          "name": "stdout"
        }
      ]
    },
    {
      "cell_type": "code",
      "metadata": {
        "colab": {
          "base_uri": "https://localhost:8080/"
        },
        "id": "aU7B3Ux48uXB",
        "outputId": "a8f3bd53-ee48-472f-c2fb-2dc208528c0a"
      },
      "source": [
        "# dictionary example 2\n",
        "x, *y, z = {'key1':100, 'key2':200, 'key3':300, 'key4':400, 'key5':500}\n",
        "print(\"x = {0}, y = {1}, z = {2}\".format(x, y, z))"
      ],
      "execution_count": 13,
      "outputs": [
        {
          "output_type": "stream",
          "text": [
            "x = key1, y = ['key2', 'key3', 'key4'], z = key5\n"
          ],
          "name": "stdout"
        }
      ]
    },
    {
      "cell_type": "markdown",
      "metadata": {
        "id": "vPKl2NMK8whA"
      },
      "source": [
        "# ** Operator"
      ]
    },
    {
      "cell_type": "code",
      "metadata": {
        "colab": {
          "base_uri": "https://localhost:8080/"
        },
        "id": "y9Xr-ZpS8vdC",
        "outputId": "48f944ee-ab96-49e3-ad43-3ad06a065761"
      },
      "source": [
        "d1 = {'k1':10, 'k2':20}\n",
        "d2 = {'k3':30, 'k4':40}\n",
        "d3 = {'k5':50, 'k6':60}\n",
        "\n",
        "dict_1 = {*d1, *d2, *d3}\n",
        "dict_2 = {**d1, **d2, **d3}\n",
        "print('*  operator: ', dict_1)\n",
        "print('** operator: ', dict_2)"
      ],
      "execution_count": 14,
      "outputs": [
        {
          "output_type": "stream",
          "text": [
            "*  operator:  {'k3', 'k2', 'k4', 'k5', 'k6', 'k1'}\n",
            "** operator:  {'k1': 10, 'k2': 20, 'k3': 30, 'k4': 40, 'k5': 50, 'k6': 60}\n"
          ],
          "name": "stdout"
        }
      ]
    },
    {
      "cell_type": "code",
      "metadata": {
        "colab": {
          "base_uri": "https://localhost:8080/"
        },
        "id": "Al9aYn7n83AS",
        "outputId": "a054dbdd-d423-49de-a728-8ee590c236dc"
      },
      "source": [
        "d1 = {'k1':10, 'k2':20}\n",
        "d2 = {'k3':30, 'k4':40}\n",
        "d3 = {'k4':50, 'k6':60}\n",
        "\n",
        "dict_1 = {*d1, *d2, *d3}\n",
        "dict_2 = {**d1, **d2, **d3}\n",
        "print('*  operator: ', dict_1)\n",
        "print('** operator: ', dict_2)"
      ],
      "execution_count": 15,
      "outputs": [
        {
          "output_type": "stream",
          "text": [
            "*  operator:  {'k3', 'k2', 'k4', 'k6', 'k1'}\n",
            "** operator:  {'k1': 10, 'k2': 20, 'k3': 30, 'k4': 50, 'k6': 60}\n"
          ],
          "name": "stdout"
        }
      ]
    },
    {
      "cell_type": "markdown",
      "metadata": {
        "id": "Z_9KZ1-X9AH4"
      },
      "source": [
        "# Nested unpacking"
      ]
    },
    {
      "cell_type": "code",
      "metadata": {
        "colab": {
          "base_uri": "https://localhost:8080/"
        },
        "id": "vweW4hRz85v9",
        "outputId": "4d9f77a2-954e-4eda-c2cf-a7c04c2f2218"
      },
      "source": [
        "a, b, c = [10, 20, (30, 40, 50)]\n",
        "print(\"a = {0}, b = {1}, c = {2}\".format(a, b, c))"
      ],
      "execution_count": 16,
      "outputs": [
        {
          "output_type": "stream",
          "text": [
            "a = 10, b = 20, c = (30, 40, 50)\n"
          ],
          "name": "stdout"
        }
      ]
    },
    {
      "cell_type": "code",
      "metadata": {
        "colab": {
          "base_uri": "https://localhost:8080/"
        },
        "id": "H1K4XZUc8-tn",
        "outputId": "58fc19de-c345-4f44-ba43-e399bea7b1d7"
      },
      "source": [
        "a, b, (c, d, e) = [10, 20, (30, 40, 50)]\n",
        "print(\"a = {0}, b = {1}, c = {2}, d = {3}, e = {4}\".format(a, b, c, d, e))"
      ],
      "execution_count": 17,
      "outputs": [
        {
          "output_type": "stream",
          "text": [
            "a = 10, b = 20, c = 30, d = 40, e = 50\n"
          ],
          "name": "stdout"
        }
      ]
    },
    {
      "cell_type": "code",
      "metadata": {
        "colab": {
          "base_uri": "https://localhost:8080/"
        },
        "id": "5yfjulMH9CGQ",
        "outputId": "69e202f7-28e3-4553-f29b-8ef0bb047e69"
      },
      "source": [
        "a, *b, (c, d, e, f) = [10, 20, 30, ('Data')]\n",
        "print(\"a = {0}, b = {1}, c = {2}, d = {3}, e = {4}, f = {5}\".format(a, b, c, d, e, f))"
      ],
      "execution_count": 18,
      "outputs": [
        {
          "output_type": "stream",
          "text": [
            "a = 10, b = [20, 30], c = D, d = a, e = t, f = a\n"
          ],
          "name": "stdout"
        }
      ]
    },
    {
      "cell_type": "code",
      "metadata": {
        "colab": {
          "base_uri": "https://localhost:8080/"
        },
        "id": "JrTeZZBU9Dpp",
        "outputId": "b247f37c-e896-4313-8b87-09ad06326c74"
      },
      "source": [
        "# * Operator should be used only once on LHS. But in this case its nested so this is accepted\n",
        "a, *b, (c, *d, e) = [10, 20, 30, ('Medium')]\n",
        "print(\"a = {0}, b = {1}, c = {2}, d = {3}, e = {4}\".format(a, b, c, d, e))"
      ],
      "execution_count": 19,
      "outputs": [
        {
          "output_type": "stream",
          "text": [
            "a = 10, b = [20, 30], c = M, d = ['e', 'd', 'i', 'u'], e = m\n"
          ],
          "name": "stdout"
        }
      ]
    }
  ]
}