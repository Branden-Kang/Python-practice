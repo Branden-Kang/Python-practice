{
  "nbformat": 4,
  "nbformat_minor": 0,
  "metadata": {
    "colab": {
      "name": "How to measure time in Python.ipynb",
      "provenance": [],
      "authorship_tag": "ABX9TyMYTZNRcs0Prf6rk0Zy+2TP"
    },
    "kernelspec": {
      "name": "python3",
      "display_name": "Python 3"
    },
    "language_info": {
      "name": "python"
    }
  },
  "cells": [
    {
      "cell_type": "markdown",
      "metadata": {
        "id": "oYG1Yt_4t-y-"
      },
      "source": [
        "[Reference](https://python-on-papyrus.medium.com/how-to-measure-time-in-python-691d67f8b1be)"
      ]
    },
    {
      "cell_type": "code",
      "metadata": {
        "colab": {
          "base_uri": "https://localhost:8080/"
        },
        "id": "Er7ojeKNtujj",
        "outputId": "a3ab4c67-b64d-44a6-d1a8-279a84e725f7"
      },
      "source": [
        "import time\n",
        "start = time.time()\n",
        "i = 0\n",
        "while i < 10000:\n",
        "    i += 1\n",
        "end = time.time()\n",
        "print(end-start)"
      ],
      "execution_count": 5,
      "outputs": [
        {
          "output_type": "stream",
          "name": "stdout",
          "text": [
            "0.003229856491088867\n"
          ]
        }
      ]
    },
    {
      "cell_type": "code",
      "metadata": {
        "colab": {
          "base_uri": "https://localhost:8080/"
        },
        "id": "EJcZUoNBuCDE",
        "outputId": "1d24051e-c750-43a8-93fb-fec096c043dc"
      },
      "source": [
        "import time\n",
        "start = time.monotonic()\n",
        "i = 0\n",
        "while i < 10000:\n",
        "    i += 1\n",
        "end = time.monotonic()\n",
        "print(end-start)"
      ],
      "execution_count": 7,
      "outputs": [
        {
          "output_type": "stream",
          "name": "stdout",
          "text": [
            "0.0012212430000033692\n"
          ]
        }
      ]
    }
  ]
}