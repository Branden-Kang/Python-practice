{
  "nbformat": 4,
  "nbformat_minor": 0,
  "metadata": {
    "colab": {
      "provenance": [],
      "authorship_tag": "ABX9TyMbTvSOODrFIaNpZ2N91oa8"
    },
    "kernelspec": {
      "name": "python3",
      "display_name": "Python 3"
    },
    "language_info": {
      "name": "python"
    }
  },
  "cells": [
    {
      "cell_type": "markdown",
      "source": [
        "[Reference](https://python.plainenglish.io/advanced-handling-of-command-line-in-python-with-argparse-libary-abb0f741e923)"
      ],
      "metadata": {
        "id": "FNArT1WaSFQy"
      }
    },
    {
      "cell_type": "code",
      "execution_count": 1,
      "metadata": {
        "colab": {
          "base_uri": "https://localhost:8080/"
        },
        "id": "kS7zYqT6SDhw",
        "outputId": "1b6e4c38-c955-4002-f2fb-cc03bb2e9396"
      },
      "outputs": [
        {
          "output_type": "stream",
          "name": "stdout",
          "text": [
            "/usr/local/lib/python3.10/dist-packages/colab_kernel_launcher.py\n",
            "-f\n",
            "/root/.local/share/jupyter/runtime/kernel-76c348be-0b09-47b9-bc7b-535ecf11b952.json\n"
          ]
        }
      ],
      "source": [
        "import sys\n",
        "\n",
        "for arg in sys.argv:\n",
        "    print(arg)"
      ]
    },
    {
      "cell_type": "markdown",
      "source": [
        "# Building parser"
      ],
      "metadata": {
        "id": "NGVAt_DxSKaq"
      }
    },
    {
      "cell_type": "code",
      "source": [
        "import argparse\n",
        "\n",
        "parser = argparse.ArgumentParser(\n",
        "    prog=\"main_parser.py\",\n",
        "    description=\"How to use argparse library?\"\n",
        ")\n",
        "parser.parse_args()"
      ],
      "metadata": {
        "id": "XeU8bz8uSHce"
      },
      "execution_count": 2,
      "outputs": []
    },
    {
      "cell_type": "code",
      "source": [
        "parser.add_argument(\"first_name\", help=\"Provide first name to greet you.\")\n",
        "args = parser.parse_args()\n",
        "\n",
        "print(f\"Hello, {args.first_name}!\")"
      ],
      "metadata": {
        "id": "2dVBr49mSMJX"
      },
      "execution_count": 3,
      "outputs": []
    },
    {
      "cell_type": "code",
      "source": [
        "parser.add_argument(\"--number\", help=\"number 1 to 10\", type=int)\n",
        "args = parser.parse_args()\n",
        "\n",
        "print(type(args.number), random.randint(0, 10) == args.number)"
      ],
      "metadata": {
        "id": "5l2O9t4WSOX5"
      },
      "execution_count": 4,
      "outputs": []
    },
    {
      "cell_type": "code",
      "source": [
        "API_KEY = args.key\n",
        "cities = args.city\n",
        "\n",
        "if args.day == \"today\":\n",
        "    DAY = (dt.today()).date()\n",
        "else:\n",
        "    DAY = (dt.today() + timedelta(days=1)).date()\n",
        "\n",
        "for city in cities:\n",
        "    geo_resp = requests.get(url=f\"http://api.openweathermap.org/geo/1.0/direct?q={city}&limit=1&appid={API_KEY}\").json()[0]\n",
        "    predictions = \"current,minutely,alerts\"\n",
        "    forecast_resp = requests.get(url=f\"https://api.openweathermap.org/data/3.0/onecall?lat={geo_resp['lat']}&lon={geo_resp['lon']}&units=metric&exclude={predictions}&appid={API_KEY}\").json()\n",
        "\n",
        "    hourly = []\n",
        "    for el in forecast_resp[\"hourly\"]:\n",
        "        if dt.fromtimestamp(el[\"dt\"]).date() == DAY:\n",
        "            hourly.append(el)\n",
        "\n",
        "    days_forecast = forecast_resp[\"daily\"][0] if args.day == \"today\" else forecast_resp[\"daily\"][1]\n",
        "    forecast = {\n",
        "        \"Date: \": DAY.strftime(\"%Y-%m-%d\"),\n",
        "        \"Summary: \": days_forecast[\"summary\"],\n",
        "        \"Max temperatur: \": days_forecast[\"temp\"][\"max\"],\n",
        "        \"Min temperatur: \": days_forecast[\"temp\"][\"min\"]\n",
        "    }\n",
        "\n",
        "    save_plot(\n",
        "        hours=[dt.fromtimestamp(i['dt']).hour for i in hourly],\n",
        "        temps=[i['temp'] for i in hourly],\n",
        "        feel_temps=[i['feels_like'] for i in hourly],\n",
        "        pops = [i['pop'] * 100 for i in hourly],\n",
        "        date=DAY,\n",
        "        city=city\n",
        "    )\n",
        "\n",
        "    print(city)\n",
        "    print()\n",
        "    for k, v in forecast.items():\n",
        "        print(k, v, \".\", sep=\"\")\n",
        "    print()"
      ],
      "metadata": {
        "id": "ZUZ56H1sSQP1"
      },
      "execution_count": 5,
      "outputs": []
    }
  ]
}
