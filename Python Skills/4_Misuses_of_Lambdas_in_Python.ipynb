{
  "nbformat": 4,
  "nbformat_minor": 0,
  "metadata": {
    "colab": {
      "name": "4 Misuses of Lambdas in Python.ipynb",
      "provenance": [],
      "authorship_tag": "ABX9TyOF10QLfvxPHrkbKua2C/e9"
    },
    "kernelspec": {
      "name": "python3",
      "display_name": "Python 3"
    }
  },
  "cells": [
    {
      "cell_type": "markdown",
      "metadata": {
        "id": "gQmXdXa3Epkm"
      },
      "source": [
        "[Reference](https://medium.com/better-programming/the-top-4-misuses-of-lambdas-in-python-e419f426b74f)"
      ]
    },
    {
      "cell_type": "code",
      "metadata": {
        "id": "JDiT9_8lElfc"
      },
      "source": [
        "students = [('Mike', 'M', 15), ('Mary', 'F', 14), ('David', 'M', 16)]"
      ],
      "execution_count": 1,
      "outputs": []
    },
    {
      "cell_type": "code",
      "metadata": {
        "colab": {
          "base_uri": "https://localhost:8080/"
        },
        "id": "y3qFhtpqEx3p",
        "outputId": "127e77cf-3b8d-41ff-8b68-03f418dbc67b"
      },
      "source": [
        "sorted(students, key=lambda x: x[2])"
      ],
      "execution_count": 2,
      "outputs": [
        {
          "output_type": "execute_result",
          "data": {
            "text/plain": [
              "[('Mary', 'F', 14), ('Mike', 'M', 15), ('David', 'M', 16)]"
            ]
          },
          "metadata": {
            "tags": []
          },
          "execution_count": 2
        }
      ]
    },
    {
      "cell_type": "code",
      "metadata": {
        "colab": {
          "base_uri": "https://localhost:8080/"
        },
        "id": "mCjJBBn5EyNd",
        "outputId": "d5c4590a-e218-4e51-c447-8ddd8683feba"
      },
      "source": [
        "pets = ['dog', 'turtle', 'bird', 'fish', 'kitty']\n",
        "sorted(pets, key=lambda x: len(x))"
      ],
      "execution_count": 4,
      "outputs": [
        {
          "output_type": "execute_result",
          "data": {
            "text/plain": [
              "['dog', 'bird', 'fish', 'kitty', 'turtle']"
            ]
          },
          "metadata": {
            "tags": []
          },
          "execution_count": 4
        }
      ]
    },
    {
      "cell_type": "code",
      "metadata": {
        "colab": {
          "base_uri": "https://localhost:8080/"
        },
        "id": "gaX_y2yDFDtZ",
        "outputId": "ac5a7a5b-e111-486a-be03-e7bdb8d5f5b2"
      },
      "source": [
        "# The built-in len() function\n",
        "sorted(pets, key=len)"
      ],
      "execution_count": 5,
      "outputs": [
        {
          "output_type": "execute_result",
          "data": {
            "text/plain": [
              "['dog', 'bird', 'fish', 'kitty', 'turtle']"
            ]
          },
          "metadata": {
            "tags": []
          },
          "execution_count": 5
        }
      ]
    },
    {
      "cell_type": "code",
      "metadata": {
        "colab": {
          "base_uri": "https://localhost:8080/"
        },
        "id": "oMakICzJFFTQ",
        "outputId": "9348d300-6bf4-43bc-d7d7-63d7f0ce8666"
      },
      "source": [
        "number_tuples = [(4, 5, 7), (3, 1, 2), (9, 4, 1)]\n",
        "sorted(number_tuples, key=lambda x: max(x))"
      ],
      "execution_count": 6,
      "outputs": [
        {
          "output_type": "execute_result",
          "data": {
            "text/plain": [
              "[(3, 1, 2), (4, 5, 7), (9, 4, 1)]"
            ]
          },
          "metadata": {
            "tags": []
          },
          "execution_count": 6
        }
      ]
    },
    {
      "cell_type": "code",
      "metadata": {
        "colab": {
          "base_uri": "https://localhost:8080/"
        },
        "id": "raROTwZPFL_m",
        "outputId": "21c126ad-08c3-4ed9-be49-c78a42aed115"
      },
      "source": [
        "# The built-in max() function\n",
        "sorted(number_tuples, key=max)"
      ],
      "execution_count": 7,
      "outputs": [
        {
          "output_type": "execute_result",
          "data": {
            "text/plain": [
              "[(3, 1, 2), (4, 5, 7), (9, 4, 1)]"
            ]
          },
          "metadata": {
            "tags": []
          },
          "execution_count": 7
        }
      ]
    },
    {
      "cell_type": "code",
      "metadata": {
        "colab": {
          "base_uri": "https://localhost:8080/"
        },
        "id": "hkVq-sqPFMeE",
        "outputId": "856cf049-2d2c-43ef-cfcb-11c39481fb44"
      },
      "source": [
        "divide_two_numbers = lambda x, y: x / y\n",
        "divide_two_numbers(4, 5)"
      ],
      "execution_count": 8,
      "outputs": [
        {
          "output_type": "execute_result",
          "data": {
            "text/plain": [
              "0.8"
            ]
          },
          "metadata": {
            "tags": []
          },
          "execution_count": 8
        }
      ]
    },
    {
      "cell_type": "code",
      "metadata": {
        "id": "NN74TMhwFSau"
      },
      "source": [
        "def divide_two_numbers_fun(x,y): \n",
        "     return x / y"
      ],
      "execution_count": 9,
      "outputs": []
    },
    {
      "cell_type": "code",
      "metadata": {
        "colab": {
          "base_uri": "https://localhost:8080/"
        },
        "id": "hzRYUw3MFXav",
        "outputId": "929a850b-5d6b-4059-a0c3-f762cf7e5532"
      },
      "source": [
        "divide_two_numbers_fun(7, 8)"
      ],
      "execution_count": 10,
      "outputs": [
        {
          "output_type": "execute_result",
          "data": {
            "text/plain": [
              "0.875"
            ]
          },
          "metadata": {
            "tags": []
          },
          "execution_count": 10
        }
      ]
    },
    {
      "cell_type": "code",
      "metadata": {
        "colab": {
          "base_uri": "https://localhost:8080/",
          "height": 266
        },
        "id": "O-N_hlJYFcvE",
        "outputId": "727a7b02-b9c5-48cd-d7b9-c6c181b722be"
      },
      "source": [
        "divide_two_numbers(3, 0)"
      ],
      "execution_count": 12,
      "outputs": [
        {
          "output_type": "error",
          "ename": "ZeroDivisionError",
          "evalue": "ignored",
          "traceback": [
            "\u001b[0;31m---------------------------------------------------------------------------\u001b[0m",
            "\u001b[0;31mZeroDivisionError\u001b[0m                         Traceback (most recent call last)",
            "\u001b[0;32m<ipython-input-12-5bb24f34d475>\u001b[0m in \u001b[0;36m<module>\u001b[0;34m()\u001b[0m\n\u001b[0;32m----> 1\u001b[0;31m \u001b[0mdivide_two_numbers\u001b[0m\u001b[0;34m(\u001b[0m\u001b[0;36m3\u001b[0m\u001b[0;34m,\u001b[0m \u001b[0;36m0\u001b[0m\u001b[0;34m)\u001b[0m\u001b[0;34m\u001b[0m\u001b[0;34m\u001b[0m\u001b[0m\n\u001b[0m",
            "\u001b[0;32m<ipython-input-8-bf62a81c43eb>\u001b[0m in \u001b[0;36m<lambda>\u001b[0;34m(x, y)\u001b[0m\n\u001b[0;32m----> 1\u001b[0;31m \u001b[0mdivide_two_numbers\u001b[0m \u001b[0;34m=\u001b[0m \u001b[0;32mlambda\u001b[0m \u001b[0mx\u001b[0m\u001b[0;34m,\u001b[0m \u001b[0my\u001b[0m\u001b[0;34m:\u001b[0m \u001b[0mx\u001b[0m \u001b[0;34m/\u001b[0m \u001b[0my\u001b[0m\u001b[0;34m\u001b[0m\u001b[0;34m\u001b[0m\u001b[0m\n\u001b[0m\u001b[1;32m      2\u001b[0m \u001b[0mdivide_two_numbers\u001b[0m\u001b[0;34m(\u001b[0m\u001b[0;36m4\u001b[0m\u001b[0;34m,\u001b[0m \u001b[0;36m5\u001b[0m\u001b[0;34m)\u001b[0m\u001b[0;34m\u001b[0m\u001b[0;34m\u001b[0m\u001b[0m\n",
            "\u001b[0;31mZeroDivisionError\u001b[0m: division by zero"
          ]
        }
      ]
    },
    {
      "cell_type": "code",
      "metadata": {
        "colab": {
          "base_uri": "https://localhost:8080/",
          "height": 266
        },
        "id": "k2F8D8EeFXi1",
        "outputId": "0de6033a-218c-42bd-d1d2-13b80701d9f4"
      },
      "source": [
        "divide_two_numbers_fun(3, 0)"
      ],
      "execution_count": 13,
      "outputs": [
        {
          "output_type": "error",
          "ename": "ZeroDivisionError",
          "evalue": "ignored",
          "traceback": [
            "\u001b[0;31m---------------------------------------------------------------------------\u001b[0m",
            "\u001b[0;31mZeroDivisionError\u001b[0m                         Traceback (most recent call last)",
            "\u001b[0;32m<ipython-input-13-fbd693221e81>\u001b[0m in \u001b[0;36m<module>\u001b[0;34m()\u001b[0m\n\u001b[0;32m----> 1\u001b[0;31m \u001b[0mdivide_two_numbers_fun\u001b[0m\u001b[0;34m(\u001b[0m\u001b[0;36m3\u001b[0m\u001b[0;34m,\u001b[0m \u001b[0;36m0\u001b[0m\u001b[0;34m)\u001b[0m\u001b[0;34m\u001b[0m\u001b[0;34m\u001b[0m\u001b[0m\n\u001b[0m",
            "\u001b[0;32m<ipython-input-9-bba1c51db4f3>\u001b[0m in \u001b[0;36mdivide_two_numbers_fun\u001b[0;34m(x, y)\u001b[0m\n\u001b[1;32m      1\u001b[0m \u001b[0;32mdef\u001b[0m \u001b[0mdivide_two_numbers_fun\u001b[0m\u001b[0;34m(\u001b[0m\u001b[0mx\u001b[0m\u001b[0;34m,\u001b[0m\u001b[0my\u001b[0m\u001b[0;34m)\u001b[0m\u001b[0;34m:\u001b[0m\u001b[0;34m\u001b[0m\u001b[0;34m\u001b[0m\u001b[0m\n\u001b[0;32m----> 2\u001b[0;31m      \u001b[0;32mreturn\u001b[0m \u001b[0mx\u001b[0m \u001b[0;34m/\u001b[0m \u001b[0my\u001b[0m\u001b[0;34m\u001b[0m\u001b[0;34m\u001b[0m\u001b[0m\n\u001b[0m",
            "\u001b[0;31mZeroDivisionError\u001b[0m: division by zero"
          ]
        }
      ]
    },
    {
      "cell_type": "code",
      "metadata": {
        "colab": {
          "base_uri": "https://localhost:8080/"
        },
        "id": "8aq8ByQRFZnP",
        "outputId": "c8c891b5-9acc-4930-8ccc-3eebca6cc69a"
      },
      "source": [
        "numbers = [1, 2, 3, 5, 8]\n",
        "squares = list(map(lambda x: x * x, numbers))\n",
        "squares"
      ],
      "execution_count": 14,
      "outputs": [
        {
          "output_type": "execute_result",
          "data": {
            "text/plain": [
              "[1, 4, 9, 25, 64]"
            ]
          },
          "metadata": {
            "tags": []
          },
          "execution_count": 14
        }
      ]
    },
    {
      "cell_type": "code",
      "metadata": {
        "colab": {
          "base_uri": "https://localhost:8080/"
        },
        "id": "yxFRPD_iFoE6",
        "outputId": "9171d313-c649-4c9e-bbab-9e133b2b58d9"
      },
      "source": [
        "numbers = [1, 2, 3, 5, 8]\n",
        "squares = [x * x for x in numbers]\n",
        "squares"
      ],
      "execution_count": 15,
      "outputs": [
        {
          "output_type": "execute_result",
          "data": {
            "text/plain": [
              "[1, 4, 9, 25, 64]"
            ]
          },
          "metadata": {
            "tags": []
          },
          "execution_count": 15
        }
      ]
    },
    {
      "cell_type": "code",
      "metadata": {
        "colab": {
          "base_uri": "https://localhost:8080/"
        },
        "id": "OD5KcjABFrWz",
        "outputId": "ef23051a-b946-4b80-f0a0-b46a3a7e8e57"
      },
      "source": [
        "texts = ['iiiii', 'bag', 'beto', 'blackboard', 'sequoia']\n",
        "sorted(texts, key=lambda x: len(set([l for l in list(x) if l in ['a','e','i','o','u']])))"
      ],
      "execution_count": 16,
      "outputs": [
        {
          "output_type": "execute_result",
          "data": {
            "text/plain": [
              "['iiiii', 'bag', 'beto', 'blackboard', 'sequoia']"
            ]
          },
          "metadata": {
            "tags": []
          },
          "execution_count": 16
        }
      ]
    },
    {
      "cell_type": "code",
      "metadata": {
        "colab": {
          "base_uri": "https://localhost:8080/"
        },
        "id": "QKJ-LkZ_FuHo",
        "outputId": "ad833542-125a-4f4f-8295-17dadd716c3f"
      },
      "source": [
        "texts = ['iiiii', 'bag', 'beto', 'blackboard', 'sequoia']\n",
        "def number_distinct_vowels(x):\n",
        "     vowels = ['a', 'e', 'i', 'o', 'u']\n",
        "     vowels_only = [l for l in list(x) if l in vowels]\n",
        "     distinct_vowels = set(vowels_only)\n",
        "     return len(distinct_vowels)\n",
        " \n",
        "sorted(texts, key=number_distinct_vowels)"
      ],
      "execution_count": 17,
      "outputs": [
        {
          "output_type": "execute_result",
          "data": {
            "text/plain": [
              "['iiiii', 'bag', 'beto', 'blackboard', 'sequoia']"
            ]
          },
          "metadata": {
            "tags": []
          },
          "execution_count": 17
        }
      ]
    }
  ]
}