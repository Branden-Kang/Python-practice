{
  "nbformat": 4,
  "nbformat_minor": 0,
  "metadata": {
    "colab": {
      "name": "Python code with Nim.ipynb",
      "provenance": [],
      "authorship_tag": "ABX9TyP8u+Yb2JefYcTZX3mcvaWt"
    },
    "kernelspec": {
      "name": "python3",
      "display_name": "Python 3"
    }
  },
  "cells": [
    {
      "cell_type": "markdown",
      "metadata": {
        "id": "w1Y_dcWT8vc3"
      },
      "source": [
        "[Reference](https://medium.com/statch/speeding-up-python-code-with-nim-ec205a8a5d9c)"
      ]
    },
    {
      "cell_type": "code",
      "metadata": {
        "id": "ZZ2omXh_79cg"
      },
      "source": [
        "def fib(n):\n",
        "    if n == 0:\n",
        "        return 0\n",
        "    elif n < 3:\n",
        "        return 1\n",
        "    return fib(n - 1) + fib(n - 2)"
      ],
      "execution_count": 1,
      "outputs": []
    },
    {
      "cell_type": "code",
      "metadata": {
        "colab": {
          "base_uri": "https://localhost:8080/"
        },
        "id": "79hyvtXa79tF",
        "outputId": "1ea8abdd-c44b-4368-c5c5-51628e029446"
      },
      "source": [
        "!pip install nimporter"
      ],
      "execution_count": 8,
      "outputs": [
        {
          "output_type": "stream",
          "text": [
            "Requirement already satisfied: nimporter in /usr/local/lib/python3.6/dist-packages (1.0.4)\n"
          ],
          "name": "stdout"
        }
      ]
    },
    {
      "cell_type": "code",
      "metadata": {
        "id": "nM-BP50s8S_8"
      },
      "source": [
        "import nimpy"
      ],
      "execution_count": 14,
      "outputs": []
    },
    {
      "cell_type": "code",
      "metadata": {
        "id": "rgPMFwhm8BpZ"
      },
      "source": [
        "proc fib(n: int): int {.exportpy.} =\n",
        "    if n == 0:\n",
        "        return 0\n",
        "    elif n < 3:\n",
        "        return 1\n",
        "    return fib(n-1) + fib(n-2)"
      ],
      "execution_count": 10,
      "outputs": []
    },
    {
      "cell_type": "code",
      "metadata": {
        "id": "o4BYvLwc8hsF"
      },
      "source": [
        "import nimporter\n",
        "from time import perf_counter\n",
        "import nmath  # Nim imports!\n",
        "import pmath\n",
        "\n",
        "print('Measuring Python...')\n",
        "start_py = perf_counter()\n",
        "for i in range(0, 40):\n",
        "    print(pmath.fib(i))\n",
        "end_py = perf_counter()\n",
        "\n",
        "print('Measuring Nim...')\n",
        "start_nim = perf_counter()\n",
        "for i in range(0, 40):\n",
        "    print(nmath.fib(i))\n",
        "end_nim = perf_counter()\n",
        "\n",
        "print('---------')\n",
        "print('Python Elapsed: {:.2f}'.format(end_py - start_py))\n",
        "print('Nim Elapsed: {:.2f}'.format(end_nim - start_nim))"
      ],
      "execution_count": 13,
      "outputs": []
    }
  ]
}