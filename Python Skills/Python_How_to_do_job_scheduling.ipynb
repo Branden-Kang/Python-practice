{
  "nbformat": 4,
  "nbformat_minor": 0,
  "metadata": {
    "colab": {
      "provenance": [],
      "authorship_tag": "ABX9TyNjHEnttG2/timTq6Z6BFIg"
    },
    "kernelspec": {
      "name": "python3",
      "display_name": "Python 3"
    },
    "language_info": {
      "name": "python"
    }
  },
  "cells": [
    {
      "cell_type": "markdown",
      "source": [
        "[Reference](https://sunilrana123.medium.com/python-how-to-do-job-scheduling-52ce755f7dd9)"
      ],
      "metadata": {
        "id": "vuGp9BzelMsp"
      }
    },
    {
      "cell_type": "code",
      "source": [
        "pip install schedule"
      ],
      "metadata": {
        "colab": {
          "base_uri": "https://localhost:8080/"
        },
        "id": "27j1cQp9lW9c",
        "outputId": "913c6b1d-88db-4aae-eab5-d5f956e3428a"
      },
      "execution_count": 2,
      "outputs": [
        {
          "output_type": "stream",
          "name": "stdout",
          "text": [
            "Looking in indexes: https://pypi.org/simple, https://us-python.pkg.dev/colab-wheels/public/simple/\n",
            "Collecting schedule\n",
            "  Downloading schedule-1.1.0-py2.py3-none-any.whl (10 kB)\n",
            "Installing collected packages: schedule\n",
            "Successfully installed schedule-1.1.0\n"
          ]
        }
      ]
    },
    {
      "cell_type": "code",
      "execution_count": 11,
      "metadata": {
        "id": "75z2ZAoClI6I"
      },
      "outputs": [],
      "source": [
        "import schedule\n",
        "import time"
      ]
    },
    {
      "cell_type": "code",
      "source": [
        "# schedule.every(3).seconds.do(job)\n",
        "# schedule.every(3).minutes.do(job)\n",
        "# schedule.every(3).hours.do(job)\n",
        "# schedule.every(3).days.do(job)\n",
        "# schedule.every(3).weeks.do(job)"
      ],
      "metadata": {
        "id": "NNCcfd1rlPqg"
      },
      "execution_count": 4,
      "outputs": []
    },
    {
      "cell_type": "code",
      "source": [
        "# schedule.every().minute.at(\":23\").do(job)"
      ],
      "metadata": {
        "id": "NY2qpFpqlP3i"
      },
      "execution_count": 5,
      "outputs": []
    },
    {
      "cell_type": "code",
      "source": [
        "# schedule.every().hour.at(\":42\").do(job)"
      ],
      "metadata": {
        "id": "RdbstMlolQpa"
      },
      "execution_count": 6,
      "outputs": []
    },
    {
      "cell_type": "code",
      "source": [
        "# schedule.every().day.at(\"10:30\").do(job)"
      ],
      "metadata": {
        "id": "d6LLTDedlUch"
      },
      "execution_count": 8,
      "outputs": []
    },
    {
      "cell_type": "code",
      "source": [
        "def job():\n",
        "    print(\"I'm working...\")\n",
        "\n",
        "# Run job every 3 second/minute/hour/day/week,\n",
        "schedule.every(3).seconds.do(job)\n",
        "\n",
        "while True:\n",
        "    schedule.run_pending()\n",
        "    time.sleep(1)"
      ],
      "metadata": {
        "colab": {
          "base_uri": "https://localhost:8080/",
          "height": 385
        },
        "id": "KgD2pszSlbev",
        "outputId": "0540878c-fdc6-4e68-dfb0-6b98d86b9204"
      },
      "execution_count": 12,
      "outputs": [
        {
          "output_type": "stream",
          "name": "stdout",
          "text": [
            "I'm working...\n",
            "I'm working...\n",
            "I'm working...\n",
            "I'm working...\n",
            "I'm working...\n",
            "I'm working...\n",
            "I'm working...\n",
            "I'm working...\n",
            "I'm working...\n",
            "I'm working...\n",
            "I'm working...\n"
          ]
        },
        {
          "output_type": "error",
          "ename": "KeyboardInterrupt",
          "evalue": "ignored",
          "traceback": [
            "\u001b[0;31m---------------------------------------------------------------------------\u001b[0m",
            "\u001b[0;31mKeyboardInterrupt\u001b[0m                         Traceback (most recent call last)",
            "\u001b[0;32m<ipython-input-12-a96a457ebbfe>\u001b[0m in \u001b[0;36m<module>\u001b[0;34m\u001b[0m\n\u001b[1;32m      7\u001b[0m \u001b[0;32mwhile\u001b[0m \u001b[0;32mTrue\u001b[0m\u001b[0;34m:\u001b[0m\u001b[0;34m\u001b[0m\u001b[0;34m\u001b[0m\u001b[0m\n\u001b[1;32m      8\u001b[0m     \u001b[0mschedule\u001b[0m\u001b[0;34m.\u001b[0m\u001b[0mrun_pending\u001b[0m\u001b[0;34m(\u001b[0m\u001b[0;34m)\u001b[0m\u001b[0;34m\u001b[0m\u001b[0;34m\u001b[0m\u001b[0m\n\u001b[0;32m----> 9\u001b[0;31m     \u001b[0mtime\u001b[0m\u001b[0;34m.\u001b[0m\u001b[0msleep\u001b[0m\u001b[0;34m(\u001b[0m\u001b[0;36m1\u001b[0m\u001b[0;34m)\u001b[0m\u001b[0;34m\u001b[0m\u001b[0;34m\u001b[0m\u001b[0m\n\u001b[0m",
            "\u001b[0;31mKeyboardInterrupt\u001b[0m: "
          ]
        }
      ]
    }
  ]
}
