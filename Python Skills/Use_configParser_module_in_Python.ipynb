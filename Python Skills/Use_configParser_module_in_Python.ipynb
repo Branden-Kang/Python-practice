{
  "nbformat": 4,
  "nbformat_minor": 0,
  "metadata": {
    "colab": {
      "name": "Use configParser module in Python.ipynb",
      "provenance": [],
      "authorship_tag": "ABX9TyPHvQKaxI/5sKv0L7Vm26MX"
    },
    "kernelspec": {
      "name": "python3",
      "display_name": "Python 3"
    },
    "language_info": {
      "name": "python"
    }
  },
  "cells": [
    {
      "cell_type": "code",
      "metadata": {
        "colab": {
          "base_uri": "https://localhost:8080/"
        },
        "id": "nnzqloElpmHf",
        "outputId": "13115352-caec-441a-f454-ac000e8408d3"
      },
      "source": [
        "from google.colab import drive\n",
        "drive.mount('/content/drive')\n",
        "\n",
        "%cd /content/drive/MyDrive/Medium"
      ],
      "execution_count": 1,
      "outputs": [
        {
          "output_type": "stream",
          "text": [
            "Mounted at /content/drive\n",
            "/content/drive/MyDrive/Medium\n"
          ],
          "name": "stdout"
        }
      ]
    },
    {
      "cell_type": "code",
      "metadata": {
        "colab": {
          "base_uri": "https://localhost:8080/"
        },
        "id": "DnyjRPdqpqwp",
        "outputId": "2fe0c6f0-2932-4c99-aee0-f7410b8195c4"
      },
      "source": [
        "from configparser import ConfigParser\n",
        "\n",
        "file = \"config.ini\"    # give the path to the file\n",
        "config = ConfigParser()\n",
        "config.read(file)\n",
        "\n",
        "\n",
        "# print all section\n",
        "print(\"Sections: \", config.sections())\n",
        "\n",
        "# print a specific section\n",
        "print(config[\"aws\"])\n",
        "print(list(config[\"settings\"]))\n",
        "\n",
        "# retrive any specific value from a section\n",
        "print(\"Value: \", config.get(\"aws\", \"region\"))\n",
        "print(config[\"settings\"][\"secret_key\"])\n",
        "\n",
        "# retrive all keys from a section\n",
        "print(\"Keys: \", config.options(\"aws\"))\n",
        "\n",
        "# retrive all values from a section\n",
        "print(\"Values: \", [config.get(\"aws\", key) for key in config.options(\"aws\")])"
      ],
      "execution_count": 2,
      "outputs": [
        {
          "output_type": "stream",
          "text": [
            "Sections:  ['settings', 'aws']\n",
            "<Section: aws>\n",
            "['secret_key', 'auth_key']\n",
            "Value:  us-1\n",
            "thisissupersecret\n",
            "Keys:  ['region', 'access_token', 'access_key']\n",
            "Values:  ['us-1', 'access_token_value', 'access_key_value']\n"
          ],
          "name": "stdout"
        }
      ]
    },
    {
      "cell_type": "code",
      "metadata": {
        "colab": {
          "base_uri": "https://localhost:8080/"
        },
        "id": "8KtLaAwRp1ef",
        "outputId": "c5219293-0b19-40bb-fa67-0d5e96edee9d"
      },
      "source": [
        "from configparser import ConfigParser\n",
        "\n",
        "file = 'config.ini'\n",
        "config = ConfigParser()\n",
        "config.read(file)\n",
        "\n",
        "\n",
        "# Write something dynamic\n",
        "config[\"more\"] = {\n",
        "    \"more_key\": \"2_thisissupersecret\",\n",
        "    \"more_key\": \"2_authkeyhere\"\n",
        "}\n",
        "\n",
        "\n",
        "\n",
        "with open(\"conf.ini\", \"w\") as file:\n",
        "    config.write(file)\n",
        "\n",
        "# Reading from conf\n",
        "config.read(\"conf.ini\")\n",
        "\n",
        "# print all section\n",
        "print(\"Sections: \", config.sections())"
      ],
      "execution_count": 3,
      "outputs": [
        {
          "output_type": "stream",
          "text": [
            "Sections:  ['settings', 'aws', 'more']\n"
          ],
          "name": "stdout"
        }
      ]
    }
  ]
}