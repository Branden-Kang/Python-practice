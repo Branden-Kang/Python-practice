{
  "nbformat": 4,
  "nbformat_minor": 0,
  "metadata": {
    "colab": {
      "name": "22 Python Code Snippets for Everyday Problems.ipynb",
      "provenance": [],
      "authorship_tag": "ABX9TyMmppPnQf06meEH8MLfOi98"
    },
    "kernelspec": {
      "name": "python3",
      "display_name": "Python 3"
    },
    "language_info": {
      "name": "python"
    }
  },
  "cells": [
    {
      "cell_type": "markdown",
      "metadata": {
        "id": "Jb9D8nxqi8An"
      },
      "source": [
        "[Reference](https://python.plainenglish.io/22-python-code-snippets-for-everyday-problems-2f6e5025cd70)"
      ]
    },
    {
      "cell_type": "markdown",
      "metadata": {
        "id": "61SuzNtji-PJ"
      },
      "source": [
        "# 1 — Invert Dictionary"
      ]
    },
    {
      "cell_type": "code",
      "metadata": {
        "colab": {
          "base_uri": "https://localhost:8080/"
        },
        "id": "pIHUqTtNi4OH",
        "outputId": "7d491016-f895-4119-c483-d23ade36d435"
      },
      "source": [
        "# Inverting Dictionary\n",
        "\n",
        "mydict = {1: \"Py\", 2: \"Js\", 3: \"C++\", 4: \"Dart\"}\n",
        "\n",
        "invert = {v: k for k, v in mydict.items()}\n",
        "print(invert) # {'Py': 1, 'Js': 2, 'C++': 3, 'Dart': 4}"
      ],
      "execution_count": 1,
      "outputs": [
        {
          "output_type": "stream",
          "name": "stdout",
          "text": [
            "{'Py': 1, 'Js': 2, 'C++': 3, 'Dart': 4}\n"
          ]
        }
      ]
    },
    {
      "cell_type": "markdown",
      "metadata": {
        "id": "dA07ODx1jBkq"
      },
      "source": [
        "# 2 — 3 Way to Check Empty List"
      ]
    },
    {
      "cell_type": "code",
      "metadata": {
        "colab": {
          "base_uri": "https://localhost:8080/"
        },
        "id": "IrfXPvWgjAzs",
        "outputId": "6af3caff-467f-4c00-ad12-39a769f5c33f"
      },
      "source": [
        "# Checking Empty List\n",
        "mylst = []\n",
        "#way 1\n",
        "if len(mylst) == 0:\n",
        "    print(\"Empty!\")\n",
        "    \n",
        "# way 2\n",
        "if not mylst:\n",
        "    print(\"Empty!\")\n",
        "\n",
        "# way 3\n",
        "if mylst == []:\n",
        "    print(\"Empty!\")"
      ],
      "execution_count": 2,
      "outputs": [
        {
          "output_type": "stream",
          "name": "stdout",
          "text": [
            "Empty!\n",
            "Empty!\n",
            "Empty!\n"
          ]
        }
      ]
    },
    {
      "cell_type": "markdown",
      "metadata": {
        "id": "EwjHPMZgjG9c"
      },
      "source": [
        "# 3 — Cloning/Duplicate list"
      ]
    },
    {
      "cell_type": "code",
      "metadata": {
        "colab": {
          "base_uri": "https://localhost:8080/"
        },
        "id": "Rl09SFJdjFlI",
        "outputId": "21cc10d4-6263-47d7-eb58-ca6a0b639475"
      },
      "source": [
        "import copy\n",
        "mylst1 = [100, 200, 300]\n",
        "mylst2 = copy.deepcopy(mylst1)\n",
        "print(mylst2) # [100, 200, 300]"
      ],
      "execution_count": 3,
      "outputs": [
        {
          "output_type": "stream",
          "name": "stdout",
          "text": [
            "[100, 200, 300]\n"
          ]
        }
      ]
    },
    {
      "cell_type": "markdown",
      "metadata": {
        "id": "PmOsKvMRjJ13"
      },
      "source": [
        "# 4 — Merge two Dictionaries with **"
      ]
    },
    {
      "cell_type": "code",
      "metadata": {
        "colab": {
          "base_uri": "https://localhost:8080/"
        },
        "id": "7Emfhl9DjJFX",
        "outputId": "081e73dc-4c2c-452f-fb43-6b73beca1614"
      },
      "source": [
        "# ** method\n",
        "\n",
        "dict1 = {1: \"PY\", 2: \"JS\"}\n",
        "dict2 = {3: \"CPP\", 4: \"C#\"}\n",
        "dict3 = {**dict1, **dict2}\n",
        "print(dict3) # {1: 'PY', 2: 'JS', 3: 'CPP', 4: 'C#'}"
      ],
      "execution_count": 4,
      "outputs": [
        {
          "output_type": "stream",
          "name": "stdout",
          "text": [
            "{1: 'PY', 2: 'JS', 3: 'CPP', 4: 'C#'}\n"
          ]
        }
      ]
    },
    {
      "cell_type": "markdown",
      "metadata": {
        "id": "-yuTuxlcjNLn"
      },
      "source": [
        "# 5— Quick variable Exchanging"
      ]
    },
    {
      "cell_type": "code",
      "metadata": {
        "colab": {
          "base_uri": "https://localhost:8080/"
        },
        "id": "QT-m1GgGjMI9",
        "outputId": "e3d01bb0-696b-4801-db0f-5b1c696b2c28"
      },
      "source": [
        "# Quick Variable Exchaning\n",
        "value1 = 125\n",
        "value2 = 625\n",
        "(value2, value1) = (value1, value2)\n",
        "print(value1, value2) # 625 125"
      ],
      "execution_count": 5,
      "outputs": [
        {
          "output_type": "stream",
          "name": "stdout",
          "text": [
            "625 125\n"
          ]
        }
      ]
    },
    {
      "cell_type": "markdown",
      "metadata": {
        "id": "qeycvaMYjQqt"
      },
      "source": [
        "# 6— Quick Reversing a List"
      ]
    },
    {
      "cell_type": "code",
      "metadata": {
        "colab": {
          "base_uri": "https://localhost:8080/"
        },
        "id": "9iGIDqT3jPlf",
        "outputId": "eb3f6dc7-d119-4b52-f374-7d5497884782"
      },
      "source": [
        "# Quick Reversing\n",
        "\n",
        "lst = [125, 625, 123, 435]\n",
        "print(lst[::-1])\n",
        "# output\n",
        "# [435, 123, 625, 125]"
      ],
      "execution_count": 6,
      "outputs": [
        {
          "output_type": "stream",
          "name": "stdout",
          "text": [
            "[435, 123, 625, 125]\n"
          ]
        }
      ]
    },
    {
      "cell_type": "markdown",
      "metadata": {
        "id": "sSJ5gEFgjUQ1"
      },
      "source": [
        "# 7— Format() method"
      ]
    },
    {
      "cell_type": "code",
      "metadata": {
        "colab": {
          "base_uri": "https://localhost:8080/"
        },
        "id": "05gLPLyljTQK",
        "outputId": "5dd38e60-43e3-479c-a092-9768553ca5ed"
      },
      "source": [
        "# Format method for String\n",
        "\n",
        "name = \"Haider Imtiaz\"\n",
        "profession = \"Programmer\"\n",
        "string = \"Hi My Name is {} and {}\".format(name, profession)\n",
        "\n",
        "print(string) # Hi My Name is Haider Imtiaz and Programmer"
      ],
      "execution_count": 7,
      "outputs": [
        {
          "output_type": "stream",
          "name": "stdout",
          "text": [
            "Hi My Name is Haider Imtiaz and Programmer\n"
          ]
        }
      ]
    },
    {
      "cell_type": "markdown",
      "metadata": {
        "id": "8-wwtpSzjYvw"
      },
      "source": [
        "# 8 — Extract Vowels from String"
      ]
    },
    {
      "cell_type": "code",
      "metadata": {
        "colab": {
          "base_uri": "https://localhost:8080/"
        },
        "id": "KxfaKrIDjXpn",
        "outputId": "fb621a8f-5816-478b-86a5-37bbde55a107"
      },
      "source": [
        "# Extract Vowels\n",
        "\n",
        "def Extract_Vowels(data):\n",
        "    return [each for each in data if each in 'aeiou']\n",
        "\n",
        "print(Extract_Vowels(\"langauge\"))  # ['a', 'a', 'u', 'e']\n",
        "print(Extract_Vowels(\"Developer\")) # ['e', 'e', 'o', 'e']"
      ],
      "execution_count": 8,
      "outputs": [
        {
          "output_type": "stream",
          "name": "stdout",
          "text": [
            "['a', 'a', 'u', 'e']\n",
            "['e', 'e', 'o', 'e']\n"
          ]
        }
      ]
    },
    {
      "cell_type": "markdown",
      "metadata": {
        "id": "Jpyja5RMjcrK"
      },
      "source": [
        "# 9— Convert Irregular List to Single List"
      ]
    },
    {
      "cell_type": "code",
      "metadata": {
        "colab": {
          "base_uri": "https://localhost:8080/"
        },
        "id": "KI64Z73Bjbnv",
        "outputId": "9b1b0754-7f2f-4c06-e4dc-01d42268c93b"
      },
      "source": [
        "# Flatten\n",
        "\n",
        "import itertools\n",
        "\n",
        "mylist = [[10, 20], [30, 40], [50, 60]]\n",
        "\n",
        "newlst = list(itertools.chain.from_iterable(mylist))  \n",
        "print(newlst) # [10, 20, 30, 40, 50, 60]"
      ],
      "execution_count": 9,
      "outputs": [
        {
          "output_type": "stream",
          "name": "stdout",
          "text": [
            "[10, 20, 30, 40, 50, 60]\n"
          ]
        }
      ]
    },
    {
      "cell_type": "markdown",
      "metadata": {
        "id": "HR7eDEB8jgj2"
      },
      "source": [
        "# 10 — Printing Multiples of String"
      ]
    },
    {
      "cell_type": "code",
      "metadata": {
        "colab": {
          "base_uri": "https://localhost:8080/"
        },
        "id": "t9SPtltOjfdr",
        "outputId": "4b4b19b3-d8ea-4abd-cd0d-160a07061572"
      },
      "source": [
        "# Multiple Strings\n",
        "print(\"Py\"*3, \"JS\" * 3) # PyPyPy JSJSJS\n",
        "print(\"Code\"* 5) # CodeCodeCodeCodeCode"
      ],
      "execution_count": 10,
      "outputs": [
        {
          "output_type": "stream",
          "name": "stdout",
          "text": [
            "PyPyPy JSJSJS\n",
            "CodeCodeCodeCodeCode\n"
          ]
        }
      ]
    },
    {
      "cell_type": "markdown",
      "metadata": {
        "id": "sXOBezR3jjFI"
      },
      "source": [
        "# 11 — Transpose A Matrix"
      ]
    },
    {
      "cell_type": "code",
      "metadata": {
        "colab": {
          "base_uri": "https://localhost:8080/"
        },
        "id": "sjeCfmXPjiac",
        "outputId": "e2ce2f26-4acd-4aeb-a11d-f525eaa8d2f9"
      },
      "source": [
        "# Transpose a Matrix\n",
        "lst = [[10, 20, 30], [40, 50, 60]]\n",
        "transpose = list(zip(*lst))\n",
        "print(transpose) # [(10, 40), (20, 50), (30, 60)]"
      ],
      "execution_count": 11,
      "outputs": [
        {
          "output_type": "stream",
          "name": "stdout",
          "text": [
            "[(10, 40), (20, 50), (30, 60)]\n"
          ]
        }
      ]
    },
    {
      "cell_type": "markdown",
      "metadata": {
        "id": "FOYlb1v-jl1n"
      },
      "source": [
        "# 12 — Short If-Else"
      ]
    },
    {
      "cell_type": "code",
      "metadata": {
        "colab": {
          "base_uri": "https://localhost:8080/"
        },
        "id": "Z6z2HJGmjk9H",
        "outputId": "a654b854-6a4d-4cdc-f0c0-5fe4a7fa8adc"
      },
      "source": [
        "# Single line if else\n",
        "print(\"Yes\") if 100 > 5 else print(\"No\")\n",
        "# Output \n",
        "# Yes"
      ],
      "execution_count": 12,
      "outputs": [
        {
          "output_type": "stream",
          "name": "stdout",
          "text": [
            "Yes\n"
          ]
        }
      ]
    },
    {
      "cell_type": "markdown",
      "metadata": {
        "id": "bPrj0xrKjpjo"
      },
      "source": [
        "# 13 — Reversed Iteration"
      ]
    },
    {
      "cell_type": "code",
      "metadata": {
        "colab": {
          "base_uri": "https://localhost:8080/"
        },
        "id": "fIZORASmjoTL",
        "outputId": "3f284546-f4e7-4070-8d77-29903415631f"
      },
      "source": [
        "# Reversed Iteration\n",
        "\n",
        "mylist = [100, 200, 300, 400, 500]\n",
        "\n",
        "for x in reversed(mylist):\n",
        "    print(x)"
      ],
      "execution_count": 13,
      "outputs": [
        {
          "output_type": "stream",
          "name": "stdout",
          "text": [
            "500\n",
            "400\n",
            "300\n",
            "200\n",
            "100\n"
          ]
        }
      ]
    },
    {
      "cell_type": "markdown",
      "metadata": {
        "id": "9e8I9C0yjsij"
      },
      "source": [
        "# 14— Taking Multiple Integer Input"
      ]
    },
    {
      "cell_type": "code",
      "metadata": {
        "colab": {
          "base_uri": "https://localhost:8080/"
        },
        "id": "Bkk2m6sGjrvC",
        "outputId": "dd0afdf1-37d6-4bd9-c569-cd2c173e0805"
      },
      "source": [
        "#String Input\n",
        "\n",
        "take_input = list(map(lambda x:int(x) ,input().split()))\n",
        "print(take_input) # [10, 20, 30, 40]"
      ],
      "execution_count": 14,
      "outputs": [
        {
          "output_type": "stream",
          "name": "stdout",
          "text": [
            "10 20 30 40\n",
            "[10, 20, 30, 40]\n"
          ]
        }
      ]
    },
    {
      "cell_type": "markdown",
      "metadata": {
        "id": "5MYWhKXBjvzl"
      },
      "source": [
        "# 15 — Joining String"
      ]
    },
    {
      "cell_type": "code",
      "metadata": {
        "colab": {
          "base_uri": "https://localhost:8080/"
        },
        "id": "397NAKMvjvDE",
        "outputId": "2064cdaf-8a96-4b98-9feb-a260bc097200"
      },
      "source": [
        "# Joining String\n",
        "mylist = [\"Hi\", \"Programmer\", \"How's\", \"Going\"]\n",
        "joined = \" \".join(mylist)\n",
        "print(joined) # Hi Programmer How's Going"
      ],
      "execution_count": 15,
      "outputs": [
        {
          "output_type": "stream",
          "name": "stdout",
          "text": [
            "Hi Programmer How's Going\n"
          ]
        }
      ]
    },
    {
      "cell_type": "markdown",
      "metadata": {
        "id": "7H767kRgjzyX"
      },
      "source": [
        "# 16 — Reset the Recursion Limit"
      ]
    },
    {
      "cell_type": "code",
      "metadata": {
        "colab": {
          "base_uri": "https://localhost:8080/"
        },
        "id": "BSXotmIsjy4W",
        "outputId": "eb1d3c3f-c62a-407a-818e-3f7a4bcdf429"
      },
      "source": [
        "# Set Recursion limit\n",
        "import sys\n",
        "sys.setrecursionlimit(2000)\n",
        "print(sys.getrecursionlimit()) # 2000"
      ],
      "execution_count": 16,
      "outputs": [
        {
          "output_type": "stream",
          "name": "stdout",
          "text": [
            "2000\n"
          ]
        }
      ]
    },
    {
      "cell_type": "markdown",
      "metadata": {
        "id": "V_wKVBkhj2Wy"
      },
      "source": [
        "# 17— Filter any list"
      ]
    },
    {
      "cell_type": "code",
      "metadata": {
        "colab": {
          "base_uri": "https://localhost:8080/"
        },
        "id": "JEHCmproj1kf",
        "outputId": "6cbd7edd-b19a-4ed5-aa80-03ebecb49712"
      },
      "source": [
        "# filter\n",
        "mylst = [11, 12, 13, 14, 15, 16]\n",
        "even_num = [i for i in mylst if i%2 == 0]\n",
        "print(even_num) # [12, 14, 16]"
      ],
      "execution_count": 17,
      "outputs": [
        {
          "output_type": "stream",
          "name": "stdout",
          "text": [
            "[12, 14, 16]\n"
          ]
        }
      ]
    },
    {
      "cell_type": "markdown",
      "metadata": {
        "id": "XfHpMXQmj50G"
      },
      "source": [
        "# 18— Generate Random Number"
      ]
    },
    {
      "cell_type": "code",
      "metadata": {
        "colab": {
          "base_uri": "https://localhost:8080/"
        },
        "id": "JhH5SwD3j47T",
        "outputId": "7f362cb8-73f1-442c-9fde-d14ff5fcb572"
      },
      "source": [
        "# Random number\n",
        "import random\n",
        "print(random.randrange(5, 10)) # 9\n",
        "print(random.randrange(25, 101)) # 63\n",
        "print(random.randrange(45, 1066)) # 358"
      ],
      "execution_count": 19,
      "outputs": [
        {
          "output_type": "stream",
          "name": "stdout",
          "text": [
            "8\n",
            "80\n",
            "922\n"
          ]
        }
      ]
    },
    {
      "cell_type": "markdown",
      "metadata": {
        "id": "p_2-TGldj9QO"
      },
      "source": [
        "# 19— Python emoji"
      ]
    },
    {
      "cell_type": "code",
      "metadata": {
        "colab": {
          "base_uri": "https://localhost:8080/"
        },
        "id": "iBcUn_Jrj7bQ",
        "outputId": "81313078-56f7-4c88-d3e3-bf680f4f0712"
      },
      "source": [
        "pip install emoji"
      ],
      "execution_count": 20,
      "outputs": [
        {
          "output_type": "stream",
          "name": "stdout",
          "text": [
            "Collecting emoji\n",
            "  Downloading emoji-1.6.0.tar.gz (168 kB)\n",
            "\u001b[?25l\r\u001b[K     |██                              | 10 kB 13.1 MB/s eta 0:00:01\r\u001b[K     |███▉                            | 20 kB 15.7 MB/s eta 0:00:01\r\u001b[K     |█████▉                          | 30 kB 13.2 MB/s eta 0:00:01\r\u001b[K     |███████▊                        | 40 kB 10.0 MB/s eta 0:00:01\r\u001b[K     |█████████▊                      | 51 kB 5.8 MB/s eta 0:00:01\r\u001b[K     |███████████▋                    | 61 kB 5.8 MB/s eta 0:00:01\r\u001b[K     |█████████████▋                  | 71 kB 5.4 MB/s eta 0:00:01\r\u001b[K     |███████████████▌                | 81 kB 6.0 MB/s eta 0:00:01\r\u001b[K     |█████████████████▌              | 92 kB 5.9 MB/s eta 0:00:01\r\u001b[K     |███████████████████▍            | 102 kB 5.4 MB/s eta 0:00:01\r\u001b[K     |█████████████████████▍          | 112 kB 5.4 MB/s eta 0:00:01\r\u001b[K     |███████████████████████▎        | 122 kB 5.4 MB/s eta 0:00:01\r\u001b[K     |█████████████████████████▎      | 133 kB 5.4 MB/s eta 0:00:01\r\u001b[K     |███████████████████████████▏    | 143 kB 5.4 MB/s eta 0:00:01\r\u001b[K     |█████████████████████████████▏  | 153 kB 5.4 MB/s eta 0:00:01\r\u001b[K     |███████████████████████████████ | 163 kB 5.4 MB/s eta 0:00:01\r\u001b[K     |████████████████████████████████| 168 kB 5.4 MB/s \n",
            "\u001b[?25hBuilding wheels for collected packages: emoji\n",
            "  Building wheel for emoji (setup.py) ... \u001b[?25l\u001b[?25hdone\n",
            "  Created wheel for emoji: filename=emoji-1.6.0-py3-none-any.whl size=168256 sha256=399be45830aa329e1fa081fafa93e0bab703a2ced18beb519fc9631b545c5b0d\n",
            "  Stored in directory: /root/.cache/pip/wheels/f7/d7/74/c720aaf345a042b0c2d74361873258c5e8649b7f11b2ccce49\n",
            "Successfully built emoji\n",
            "Installing collected packages: emoji\n",
            "Successfully installed emoji-1.6.0\n"
          ]
        }
      ]
    },
    {
      "cell_type": "code",
      "metadata": {
        "colab": {
          "base_uri": "https://localhost:8080/"
        },
        "id": "5skE0tF7j-tj",
        "outputId": "83948f48-bcc2-42c5-b37a-784e28ceb80c"
      },
      "source": [
        "# Python Emoji\n",
        "import emoji\n",
        "re = emoji.emojize('Yoo Python Coder :wave:')\n",
        "print(re) # 👋\n",
        "re = emoji.emojize('Hi Python Coder :grinning:')\n",
        "print(re) # 😀"
      ],
      "execution_count": 21,
      "outputs": [
        {
          "output_type": "stream",
          "name": "stdout",
          "text": [
            "Yoo Python Coder :wave:\n",
            "Hi Python Coder :grinning:\n"
          ]
        }
      ]
    },
    {
      "cell_type": "markdown",
      "metadata": {
        "id": "OkOo7z_SkCeD"
      },
      "source": [
        "# 20—Get Rid of Duplicates"
      ]
    },
    {
      "cell_type": "code",
      "metadata": {
        "colab": {
          "base_uri": "https://localhost:8080/"
        },
        "id": "2PodsmkkkBn8",
        "outputId": "daba85ac-928d-4ec8-b1c0-e2d2beefb7b4"
      },
      "source": [
        "# Rid of Duplicates\n",
        "\n",
        "mylst = [\"a\", \"b\", \"b\", \"c\", \"c\", \"a\", \"d\", \"d\"]\n",
        "mylst = list(dict.fromkeys(mylst))\n",
        "\n",
        "print(mylst) # ['a', 'b', 'c', 'd']"
      ],
      "execution_count": 22,
      "outputs": [
        {
          "output_type": "stream",
          "name": "stdout",
          "text": [
            "['a', 'b', 'c', 'd']\n"
          ]
        }
      ]
    },
    {
      "cell_type": "markdown",
      "metadata": {
        "id": "Pd5qTZoJkFKB"
      },
      "source": [
        "# 21— Unpack a Tuple"
      ]
    },
    {
      "cell_type": "code",
      "metadata": {
        "colab": {
          "base_uri": "https://localhost:8080/"
        },
        "id": "r6oYXI_6kEdV",
        "outputId": "a1d41d69-e00d-4980-85ed-1003b540a14b"
      },
      "source": [
        "# Unpack a Tuple\n",
        "\n",
        "tuples = (100, 200, 300, 400)\n",
        "\n",
        "a, b, c, d = tuples\n",
        "\n",
        "print(a, b, c, d) # 100 200 300 400"
      ],
      "execution_count": 23,
      "outputs": [
        {
          "output_type": "stream",
          "name": "stdout",
          "text": [
            "100 200 300 400\n"
          ]
        }
      ]
    },
    {
      "cell_type": "markdown",
      "metadata": {
        "id": "j6lbGlHnkI76"
      },
      "source": [
        "# 22— Empty containers of Data"
      ]
    },
    {
      "cell_type": "code",
      "metadata": {
        "colab": {
          "base_uri": "https://localhost:8080/"
        },
        "id": "ZL3uBHtikIIg",
        "outputId": "bf363f70-b92f-4f32-8437-8eebb4944cad"
      },
      "source": [
        "# Empty Containers of Data\n",
        "\n",
        "a = list()\n",
        "b = tuple()\n",
        "c = set()\n",
        "d = dict()\n",
        "print(a, b, c, d) # [] () set() {}"
      ],
      "execution_count": 25,
      "outputs": [
        {
          "output_type": "stream",
          "name": "stdout",
          "text": [
            "[] () set() {}\n"
          ]
        }
      ]
    }
  ]
}