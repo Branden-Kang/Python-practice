{
  "nbformat": 4,
  "nbformat_minor": 0,
  "metadata": {
    "colab": {
      "name": "Python Sorting Essentials.ipynb",
      "provenance": [],
      "authorship_tag": "ABX9TyNkUXI8/1WRpZP2kg5Dm0rM"
    },
    "kernelspec": {
      "name": "python3",
      "display_name": "Python 3"
    },
    "language_info": {
      "name": "python"
    }
  },
  "cells": [
    {
      "cell_type": "markdown",
      "metadata": {
        "id": "gRG5DtnkW-zy"
      },
      "source": [
        "[Reference](https://levelup.gitconnected.com/sorting-in-python-using-keys-d2622edd7a92)"
      ]
    },
    {
      "cell_type": "code",
      "metadata": {
        "colab": {
          "base_uri": "https://localhost:8080/"
        },
        "id": "PzfC2PGpT6f_",
        "outputId": "3f2fcc4a-4a74-422f-fc64-dd008734271e"
      },
      "source": [
        "names = ['Eve', 'Cam', 'Bev', 'Abe', 'Dan', 'Flo']\n",
        "names.sort()\n",
        "print(names)\n",
        "\n",
        "numbers = [5, 3, 0, 1, 4, 2]\n",
        "numbers.sort()\n",
        "print(numbers)"
      ],
      "execution_count": 1,
      "outputs": [
        {
          "output_type": "stream",
          "text": [
            "['Abe', 'Bev', 'Cam', 'Dan', 'Eve', 'Flo']\n",
            "[0, 1, 2, 3, 4, 5]\n"
          ],
          "name": "stdout"
        }
      ]
    },
    {
      "cell_type": "code",
      "metadata": {
        "colab": {
          "base_uri": "https://localhost:8080/"
        },
        "id": "9PuKGEngXCtw",
        "outputId": "088706b7-d306-47e9-f064-019d4aa33704"
      },
      "source": [
        "names = ['Eve', 'Cam', 'Bev', 'Abe', 'Dan', 'Flo']\n",
        "names.sort(reverse=True)\n",
        "print(names)"
      ],
      "execution_count": 2,
      "outputs": [
        {
          "output_type": "stream",
          "text": [
            "['Flo', 'Eve', 'Dan', 'Cam', 'Bev', 'Abe']\n"
          ],
          "name": "stdout"
        }
      ]
    },
    {
      "cell_type": "code",
      "metadata": {
        "colab": {
          "base_uri": "https://localhost:8080/"
        },
        "id": "k157_qr2XFSQ",
        "outputId": "fee0c789-8388-46d4-a33c-bb41a517aac6"
      },
      "source": [
        "dogs = ['dachshund', 'beagle', 'corgi', 'akita']\n",
        "sorted_dogs = sorted(dogs)\n",
        "\n",
        "print(dogs)\n",
        "print(sorted_dogs)"
      ],
      "execution_count": 3,
      "outputs": [
        {
          "output_type": "stream",
          "text": [
            "['dachshund', 'beagle', 'corgi', 'akita']\n",
            "['akita', 'beagle', 'corgi', 'dachshund']\n"
          ],
          "name": "stdout"
        }
      ]
    },
    {
      "cell_type": "code",
      "metadata": {
        "colab": {
          "base_uri": "https://localhost:8080/"
        },
        "id": "88hbel3WXG3O",
        "outputId": "6e89daf8-84dc-428b-c422-8e178be6b61a"
      },
      "source": [
        "dogs = ['dachshund', 'beagle', 'corgi', 'akita', 'pug']\n",
        "dogs.sort(key=len)\n",
        "print(dogs)"
      ],
      "execution_count": 4,
      "outputs": [
        {
          "output_type": "stream",
          "text": [
            "['pug', 'corgi', 'akita', 'beagle', 'dachshund']\n"
          ],
          "name": "stdout"
        }
      ]
    },
    {
      "cell_type": "code",
      "metadata": {
        "colab": {
          "base_uri": "https://localhost:8080/"
        },
        "id": "MKRMCwW2XYq2",
        "outputId": "022ebac6-fe7d-4f7c-92a8-2ceb4e61d51f"
      },
      "source": [
        "def dist(point):\n",
        "    # distance from origin using c = sqrt(a**2 + b**2)\n",
        "    distance = (point[0]**2 + point[1]**2) ** 0.5\n",
        "    return distance\n",
        "\n",
        "points = [[5, 2], [4, 4], [1, 1], [3, 0], [0, 1]]\n",
        "\n",
        "points.sort(key=dist)\n",
        "print(points)"
      ],
      "execution_count": 5,
      "outputs": [
        {
          "output_type": "stream",
          "text": [
            "[[0, 1], [1, 1], [3, 0], [5, 2], [4, 4]]\n"
          ],
          "name": "stdout"
        }
      ]
    },
    {
      "cell_type": "code",
      "metadata": {
        "colab": {
          "base_uri": "https://localhost:8080/"
        },
        "id": "qOqsPPSBXamC",
        "outputId": "98ff2997-f1a7-4885-e9a6-4b3a8ee6a703"
      },
      "source": [
        "nums = [-2, -5, 8, 2, 1, 0]\n",
        "nums.sort(key=lambda x: abs(x))\n",
        "\n",
        "print(nums)"
      ],
      "execution_count": 6,
      "outputs": [
        {
          "output_type": "stream",
          "text": [
            "[0, 1, -2, 2, -5, 8]\n"
          ],
          "name": "stdout"
        }
      ]
    },
    {
      "cell_type": "code",
      "metadata": {
        "colab": {
          "base_uri": "https://localhost:8080/"
        },
        "id": "eS7VZBdUXb1k",
        "outputId": "aa84d16d-536a-48e8-baf8-d66d4beb2179"
      },
      "source": [
        "grades = [('Cam', 88), ('Bev', 95), ('Abe', 88), ('Dan', 90)]\n",
        "\n",
        "grades.sort(key=lambda x: x[1])\n",
        "print(grades)"
      ],
      "execution_count": 7,
      "outputs": [
        {
          "output_type": "stream",
          "text": [
            "[('Cam', 88), ('Abe', 88), ('Dan', 90), ('Bev', 95)]\n"
          ],
          "name": "stdout"
        }
      ]
    },
    {
      "cell_type": "code",
      "metadata": {
        "colab": {
          "base_uri": "https://localhost:8080/"
        },
        "id": "i69URxiSXdUV",
        "outputId": "1213c02e-9e38-406f-9568-e5bba45456e9"
      },
      "source": [
        "grades = [('Cam', 88), ('Bev', 95), ('Abe', 88), ('Dan', 90)]\n",
        "\n",
        "grades.sort(key=lambda x: (x[1], x[0]))\n",
        "print(grades)"
      ],
      "execution_count": 9,
      "outputs": [
        {
          "output_type": "stream",
          "text": [
            "[('Abe', 88), ('Cam', 88), ('Dan', 90), ('Bev', 95)]\n"
          ],
          "name": "stdout"
        }
      ]
    },
    {
      "cell_type": "code",
      "metadata": {
        "colab": {
          "base_uri": "https://localhost:8080/"
        },
        "id": "1HZU8EmaXeWh",
        "outputId": "403c3244-f5d3-4e92-c90e-e41e7d9cccf6"
      },
      "source": [
        "games = ['Monopoly', 'Boggle', 'chess', 'backgammon', 'Sorry']# without lambda function\n",
        "games.sort() \n",
        "print(games)\n",
        "\n",
        "# with lambda function\n",
        "games.sort(key=lambda x: x.upper())\n",
        "print(games)"
      ],
      "execution_count": 10,
      "outputs": [
        {
          "output_type": "stream",
          "text": [
            "['Boggle', 'Monopoly', 'Sorry', 'backgammon', 'chess']\n",
            "['backgammon', 'Boggle', 'chess', 'Monopoly', 'Sorry']\n"
          ],
          "name": "stdout"
        }
      ]
    },
    {
      "cell_type": "code",
      "metadata": {
        "colab": {
          "base_uri": "https://localhost:8080/"
        },
        "id": "7n_I6flAXh_m",
        "outputId": "6798bbb3-4be1-4845-9f59-7513b8f01780"
      },
      "source": [
        "class Student:\n",
        "    def __init__(self, name, grades):\n",
        "        self.name = name\n",
        "        self.grades = grades\n",
        "    def get_average(self):\n",
        "        # get average of all grades\n",
        "        average = sum(self.grades) / len(self.grades)\n",
        "        return average\n",
        "    def __repr__(self):\n",
        "        # just here so we have something to print\n",
        "        return repr((self.name))\n",
        "\n",
        "# create a list of Student objects using names and all grades\n",
        "students = [Student('Dan', [88, 89, 96]),\n",
        "            Student('Bev', [95, 99, 88]),\n",
        "            Student('Cam', [88, 75, 90]),\n",
        "            Student('Abe', [90, 88, 88])]\n",
        "            \n",
        "# sort the students by name\n",
        "students.sort(key=lambda student: student.name)\n",
        "print(students)\n",
        "\n",
        "# sort the students by average grade\n",
        "students.sort(key=lambda student: student.get_average())\n",
        "print(students)"
      ],
      "execution_count": 11,
      "outputs": [
        {
          "output_type": "stream",
          "text": [
            "['Abe', 'Bev', 'Cam', 'Dan']\n",
            "['Cam', 'Abe', 'Dan', 'Bev']\n"
          ],
          "name": "stdout"
        }
      ]
    },
    {
      "cell_type": "code",
      "metadata": {
        "colab": {
          "base_uri": "https://localhost:8080/"
        },
        "id": "sesy0AbDXreM",
        "outputId": "a9bb3978-2596-440a-d1ce-94bff002b54a"
      },
      "source": [
        "from operator import itemgetter\n",
        "\n",
        "cities = [['Albuquerque', 'NM'], ['Decatur', 'IL'], ['Boston', 'MA'], ['Chicago', 'IL']]\n",
        "\n",
        "cities.sort(key=itemgetter(1))\n",
        "print(cities)\n",
        "\n",
        "cities.sort(key=itemgetter(1, 0))\n",
        "print(cities)"
      ],
      "execution_count": 12,
      "outputs": [
        {
          "output_type": "stream",
          "text": [
            "[['Decatur', 'IL'], ['Chicago', 'IL'], ['Boston', 'MA'], ['Albuquerque', 'NM']]\n",
            "[['Chicago', 'IL'], ['Decatur', 'IL'], ['Boston', 'MA'], ['Albuquerque', 'NM']]\n"
          ],
          "name": "stdout"
        }
      ]
    }
  ]
}