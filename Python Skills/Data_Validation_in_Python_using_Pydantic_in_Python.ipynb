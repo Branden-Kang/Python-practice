{
  "nbformat": 4,
  "nbformat_minor": 0,
  "metadata": {
    "colab": {
      "provenance": [],
      "authorship_tag": "ABX9TyNPSbcokNDug9ZeKItHHluW"
    },
    "kernelspec": {
      "name": "python3",
      "display_name": "Python 3"
    },
    "language_info": {
      "name": "python"
    }
  },
  "cells": [
    {
      "cell_type": "markdown",
      "source": [
        "[Reference](https://medium.com/@moraneus/data-validation-in-python-using-pydantic-in-python-95bb36000993)"
      ],
      "metadata": {
        "id": "xW4pzIj2WPuO"
      }
    },
    {
      "cell_type": "code",
      "execution_count": 1,
      "metadata": {
        "colab": {
          "base_uri": "https://localhost:8080/"
        },
        "id": "GuglpjAMWDhB",
        "outputId": "ccff67a6-c36a-46ab-ca96-c9567c660476"
      },
      "outputs": [
        {
          "output_type": "stream",
          "name": "stdout",
          "text": [
            "Requirement already satisfied: pydantic in /usr/local/lib/python3.10/dist-packages (2.9.2)\n",
            "Requirement already satisfied: annotated-types>=0.6.0 in /usr/local/lib/python3.10/dist-packages (from pydantic) (0.7.0)\n",
            "Requirement already satisfied: pydantic-core==2.23.4 in /usr/local/lib/python3.10/dist-packages (from pydantic) (2.23.4)\n",
            "Requirement already satisfied: typing-extensions>=4.6.1 in /usr/local/lib/python3.10/dist-packages (from pydantic) (4.12.2)\n"
          ]
        }
      ],
      "source": [
        "!python3 -m pip install pydantic"
      ]
    },
    {
      "cell_type": "markdown",
      "source": [
        "# Basic Example"
      ],
      "metadata": {
        "id": "lBha1dpzWaN8"
      }
    },
    {
      "cell_type": "code",
      "source": [
        "from pydantic import BaseModel\n",
        "\n",
        "\n",
        "class User(BaseModel):\n",
        "    name: str\n",
        "    age: int\n",
        "\n",
        "\n",
        "user = User(name='John Doe', age=30)\n",
        "print(user)"
      ],
      "metadata": {
        "colab": {
          "base_uri": "https://localhost:8080/"
        },
        "id": "9PKyZviWWTQN",
        "outputId": "2c99efd2-de8b-4a69-b206-45ebc7b6c0c3"
      },
      "execution_count": 2,
      "outputs": [
        {
          "output_type": "stream",
          "name": "stdout",
          "text": [
            "name='John Doe' age=30\n"
          ]
        }
      ]
    },
    {
      "cell_type": "markdown",
      "source": [
        "# Data Validation Example"
      ],
      "metadata": {
        "id": "fKOrQitmWb2_"
      }
    },
    {
      "cell_type": "code",
      "source": [
        "from pydantic import BaseModel, Field\n",
        "\n",
        "class User(BaseModel):\n",
        "    name: str\n",
        "    age: int = Field(..., ge=18)\n",
        "\n",
        "# This will raise a validation error because age is less than 18\n",
        "invalid_user = User(name='John Doe', age=17)"
      ],
      "metadata": {
        "colab": {
          "base_uri": "https://localhost:8080/",
          "height": 343
        },
        "id": "3BIlc9m5WUcp",
        "outputId": "5687460e-5476-4ca2-abed-1cdfdc1095fe"
      },
      "execution_count": 3,
      "outputs": [
        {
          "output_type": "error",
          "ename": "ValidationError",
          "evalue": "1 validation error for User\nage\n  Input should be greater than or equal to 18 [type=greater_than_equal, input_value=17, input_type=int]\n    For further information visit https://errors.pydantic.dev/2.9/v/greater_than_equal",
          "traceback": [
            "\u001b[0;31m---------------------------------------------------------------------------\u001b[0m",
            "\u001b[0;31mValidationError\u001b[0m                           Traceback (most recent call last)",
            "\u001b[0;32m<ipython-input-3-c443d5b90ff7>\u001b[0m in \u001b[0;36m<cell line: 8>\u001b[0;34m()\u001b[0m\n\u001b[1;32m      6\u001b[0m \u001b[0;34m\u001b[0m\u001b[0m\n\u001b[1;32m      7\u001b[0m \u001b[0;31m# This will raise a validation error because age is less than 18\u001b[0m\u001b[0;34m\u001b[0m\u001b[0;34m\u001b[0m\u001b[0m\n\u001b[0;32m----> 8\u001b[0;31m \u001b[0minvalid_user\u001b[0m \u001b[0;34m=\u001b[0m \u001b[0mUser\u001b[0m\u001b[0;34m(\u001b[0m\u001b[0mname\u001b[0m\u001b[0;34m=\u001b[0m\u001b[0;34m'John Doe'\u001b[0m\u001b[0;34m,\u001b[0m \u001b[0mage\u001b[0m\u001b[0;34m=\u001b[0m\u001b[0;36m17\u001b[0m\u001b[0;34m)\u001b[0m\u001b[0;34m\u001b[0m\u001b[0;34m\u001b[0m\u001b[0m\n\u001b[0m",
            "\u001b[0;32m/usr/local/lib/python3.10/dist-packages/pydantic/main.py\u001b[0m in \u001b[0;36m__init__\u001b[0;34m(self, **data)\u001b[0m\n\u001b[1;32m    210\u001b[0m         \u001b[0;31m# `__tracebackhide__` tells pytest and some other tools to omit this function from tracebacks\u001b[0m\u001b[0;34m\u001b[0m\u001b[0;34m\u001b[0m\u001b[0m\n\u001b[1;32m    211\u001b[0m         \u001b[0m__tracebackhide__\u001b[0m \u001b[0;34m=\u001b[0m \u001b[0;32mTrue\u001b[0m\u001b[0;34m\u001b[0m\u001b[0;34m\u001b[0m\u001b[0m\n\u001b[0;32m--> 212\u001b[0;31m         \u001b[0mvalidated_self\u001b[0m \u001b[0;34m=\u001b[0m \u001b[0mself\u001b[0m\u001b[0;34m.\u001b[0m\u001b[0m__pydantic_validator__\u001b[0m\u001b[0;34m.\u001b[0m\u001b[0mvalidate_python\u001b[0m\u001b[0;34m(\u001b[0m\u001b[0mdata\u001b[0m\u001b[0;34m,\u001b[0m \u001b[0mself_instance\u001b[0m\u001b[0;34m=\u001b[0m\u001b[0mself\u001b[0m\u001b[0;34m)\u001b[0m\u001b[0;34m\u001b[0m\u001b[0;34m\u001b[0m\u001b[0m\n\u001b[0m\u001b[1;32m    213\u001b[0m         \u001b[0;32mif\u001b[0m \u001b[0mself\u001b[0m \u001b[0;32mis\u001b[0m \u001b[0;32mnot\u001b[0m \u001b[0mvalidated_self\u001b[0m\u001b[0;34m:\u001b[0m\u001b[0;34m\u001b[0m\u001b[0;34m\u001b[0m\u001b[0m\n\u001b[1;32m    214\u001b[0m             warnings.warn(\n",
            "\u001b[0;31mValidationError\u001b[0m: 1 validation error for User\nage\n  Input should be greater than or equal to 18 [type=greater_than_equal, input_value=17, input_type=int]\n    For further information visit https://errors.pydantic.dev/2.9/v/greater_than_equal"
          ]
        }
      ]
    },
    {
      "cell_type": "markdown",
      "source": [
        "# Nested Models Examples"
      ],
      "metadata": {
        "id": "uTbXE5HkWfvA"
      }
    },
    {
      "cell_type": "code",
      "source": [
        "from pydantic import BaseModel\n",
        "from typing import List\n",
        "\n",
        "\n",
        "class User(BaseModel):\n",
        "    name: str\n",
        "    age: int\n",
        "    email: str\n",
        "\n",
        "\n",
        "class BlogPost(BaseModel):\n",
        "    title: str\n",
        "    content: str\n",
        "    author: User\n",
        "    tags: List[str]\n",
        "\n",
        "\n",
        "post = BlogPost(\n",
        "    title='My First Blog Post',\n",
        "    content='This is the content of the blog post.',\n",
        "    author=User(name='John Doe', age=30, email='john@example.com'),\n",
        "    tags=['python', 'pydantic', 'tutorial']\n",
        ")\n",
        "\n",
        "print(post)"
      ],
      "metadata": {
        "colab": {
          "base_uri": "https://localhost:8080/"
        },
        "id": "4rISDtdyWV_X",
        "outputId": "10cad607-92f4-47f0-bb4c-0cd4a767dbad"
      },
      "execution_count": 4,
      "outputs": [
        {
          "output_type": "stream",
          "name": "stdout",
          "text": [
            "title='My First Blog Post' content='This is the content of the blog post.' author=User(name='John Doe', age=30, email='john@example.com') tags=['python', 'pydantic', 'tutorial']\n"
          ]
        }
      ]
    },
    {
      "cell_type": "markdown",
      "source": [
        "# Optional Fields Examples"
      ],
      "metadata": {
        "id": "UXrk-RGAWjJh"
      }
    },
    {
      "cell_type": "code",
      "source": [
        "from pydantic import BaseModel\n",
        "from typing import Optional\n",
        "\n",
        "\n",
        "class User(BaseModel):\n",
        "    name: str\n",
        "    age: int\n",
        "    email: Optional[str] = None\n",
        "\n",
        "\n",
        "user_without_email = User(name='John Doe', age=30)\n",
        "print(user_without_email)\n",
        "\n",
        "user_with_email = User(name='Jane Doe', age=25, email='jane@example.com')\n",
        "print(user_with_email)"
      ],
      "metadata": {
        "colab": {
          "base_uri": "https://localhost:8080/"
        },
        "id": "1fz6wH25WhmD",
        "outputId": "8728ee36-7fd8-4314-c900-da6299010552"
      },
      "execution_count": 6,
      "outputs": [
        {
          "output_type": "stream",
          "name": "stdout",
          "text": [
            "name='John Doe' age=30 email=None\n",
            "name='Jane Doe' age=25 email='jane@example.com'\n"
          ]
        }
      ]
    },
    {
      "cell_type": "markdown",
      "source": [
        "# Custom Validators Example"
      ],
      "metadata": {
        "id": "3aHLVV9nWoJx"
      }
    },
    {
      "cell_type": "code",
      "source": [
        "from pydantic import BaseModel, field_validator\n",
        "from typing import Optional\n",
        "\n",
        "\n",
        "class User(BaseModel):\n",
        "    name: str\n",
        "    age: int\n",
        "    email: Optional[str] = None\n",
        "\n",
        "    @field_validator('name')\n",
        "    def name_must_contain_space(cls, value):\n",
        "        if ' ' not in value:\n",
        "            raise ValueError('Name must contain a space')\n",
        "        return value\n",
        "\n",
        "\n",
        "try:\n",
        "    user = User(name='John Doe', age=30)\n",
        "    print(user)\n",
        "\n",
        "    invalid_user = User(name='JohnDoe', age=30)\n",
        "except ValueError as e:\n",
        "    print(str(e))"
      ],
      "metadata": {
        "colab": {
          "base_uri": "https://localhost:8080/"
        },
        "id": "5t732NE2Wl-K",
        "outputId": "ac3b55e0-f755-4331-981b-3464fc23f688"
      },
      "execution_count": 7,
      "outputs": [
        {
          "output_type": "stream",
          "name": "stdout",
          "text": [
            "name='John Doe' age=30 email=None\n",
            "1 validation error for User\n",
            "name\n",
            "  Value error, Name must contain a space [type=value_error, input_value='JohnDoe', input_type=str]\n",
            "    For further information visit https://errors.pydantic.dev/2.9/v/value_error\n"
          ]
        }
      ]
    },
    {
      "cell_type": "markdown",
      "source": [
        "# Complex Data Types Example"
      ],
      "metadata": {
        "id": "INNFfIcBWq55"
      }
    },
    {
      "cell_type": "code",
      "source": [
        "from pydantic import BaseModel, HttpUrl\n",
        "from typing import Dict\n",
        "\n",
        "\n",
        "class Config(BaseModel):\n",
        "    settings: Dict[str, str]\n",
        "    homepage: HttpUrl\n",
        "\n",
        "\n",
        "config = Config(\n",
        "    settings={'theme': 'dark', 'notifications': 'enabled'},\n",
        "    homepage='https://example.com'\n",
        ")\n",
        "\n",
        "print(config)"
      ],
      "metadata": {
        "colab": {
          "base_uri": "https://localhost:8080/"
        },
        "id": "TaOnzUrgWpxF",
        "outputId": "9678cf9c-3bc0-4dbd-946a-5ba286f561d0"
      },
      "execution_count": 8,
      "outputs": [
        {
          "output_type": "stream",
          "name": "stdout",
          "text": [
            "settings={'theme': 'dark', 'notifications': 'enabled'} homepage=Url('https://example.com/')\n"
          ]
        }
      ]
    },
    {
      "cell_type": "code",
      "source": [
        "!pip install marshmallow"
      ],
      "metadata": {
        "colab": {
          "base_uri": "https://localhost:8080/"
        },
        "id": "HpXTt-L-Ww7D",
        "outputId": "36ebe050-7a65-4a79-ffbf-1d091772134b"
      },
      "execution_count": 10,
      "outputs": [
        {
          "output_type": "stream",
          "name": "stdout",
          "text": [
            "Collecting marshmallow\n",
            "  Downloading marshmallow-3.22.0-py3-none-any.whl.metadata (7.2 kB)\n",
            "Requirement already satisfied: packaging>=17.0 in /usr/local/lib/python3.10/dist-packages (from marshmallow) (24.1)\n",
            "Downloading marshmallow-3.22.0-py3-none-any.whl (49 kB)\n",
            "\u001b[?25l   \u001b[90m━━━━━━━━━━━━━━━━━━━━━━━━━━━━━━━━━━━━━━━━\u001b[0m \u001b[32m0.0/49.3 kB\u001b[0m \u001b[31m?\u001b[0m eta \u001b[36m-:--:--\u001b[0m\r\u001b[2K   \u001b[90m━━━━━━━━━━━━━━━━━━━━━━━━━━━━━━━━━━━━━━━━\u001b[0m \u001b[32m49.3/49.3 kB\u001b[0m \u001b[31m3.0 MB/s\u001b[0m eta \u001b[36m0:00:00\u001b[0m\n",
            "\u001b[?25hInstalling collected packages: marshmallow\n",
            "Successfully installed marshmallow-3.22.0\n"
          ]
        }
      ]
    },
    {
      "cell_type": "code",
      "source": [
        "from marshmallow import Schema, fields, validate, ValidationError\n",
        "\n",
        "\n",
        "class UserSchema(Schema):\n",
        "    name = fields.Str(required=True)\n",
        "    age = fields.Int(validate=validate.Range(min=18))\n",
        "    email = fields.Email()\n",
        "\n",
        "\n",
        "# Create an instance of the UserSchema\n",
        "user_schema = UserSchema()\n",
        "\n",
        "# Define some data to validate\n",
        "data = {\n",
        "    'name': 'John Doe',\n",
        "    'age': 25,\n",
        "    'email': 'john@example.com'\n",
        "}\n",
        "\n",
        "# Validate the data against the schema\n",
        "result = user_schema.load(data)\n",
        "\n",
        "# Print the validated data\n",
        "print(result)\n",
        "# Output: {'name': 'John Doe', 'age': 25, 'email': 'john@example.com'}\n",
        "\n",
        "# Define some invalid data\n",
        "invalid_data = {\n",
        "    'name': 'Jane Smith',\n",
        "    'age': 17,\n",
        "    'email': 'invalid-email'\n",
        "}\n",
        "\n",
        "# Attempt to validate the invalid data\n",
        "try:\n",
        "    user_schema.load(invalid_data)\n",
        "except ValidationError as e:\n",
        "    print(str(e))"
      ],
      "metadata": {
        "colab": {
          "base_uri": "https://localhost:8080/"
        },
        "id": "_IM6zcw6WscC",
        "outputId": "f47600d4-0697-4bfe-a113-cfdf39916110"
      },
      "execution_count": 11,
      "outputs": [
        {
          "output_type": "stream",
          "name": "stdout",
          "text": [
            "{'name': 'John Doe', 'age': 25, 'email': 'john@example.com'}\n",
            "{'age': ['Must be greater than or equal to 18.'], 'email': ['Not a valid email address.']}\n"
          ]
        }
      ]
    },
    {
      "cell_type": "code",
      "source": [
        "pip install cerberus"
      ],
      "metadata": {
        "colab": {
          "base_uri": "https://localhost:8080/"
        },
        "id": "9fnuEExHW1TA",
        "outputId": "ac21d5ea-d820-41fc-ef7a-560479822164"
      },
      "execution_count": 12,
      "outputs": [
        {
          "output_type": "stream",
          "name": "stdout",
          "text": [
            "Collecting cerberus\n",
            "  Downloading Cerberus-1.3.5-py3-none-any.whl.metadata (6.0 kB)\n",
            "Downloading Cerberus-1.3.5-py3-none-any.whl (30 kB)\n",
            "Installing collected packages: cerberus\n",
            "Successfully installed cerberus-1.3.5\n"
          ]
        }
      ]
    },
    {
      "cell_type": "code",
      "source": [
        "from cerberus import Validator\n",
        "\n",
        "schema = {\n",
        "    'name': {'type': 'string', 'required': True},\n",
        "    'age': {'type': 'integer', 'min': 18},\n",
        "    'email': {'type': 'string', 'regex': '^[a-zA-Z0-9_.+-]+@[a-zA-Z0-9-]+\\.[a-zA-Z0-9-.]+$'}\n",
        "}\n",
        "\n",
        "# Create a Validator instance\n",
        "validator = Validator(schema)\n",
        "\n",
        "# Define some data to validate\n",
        "data = {\n",
        "    'name': 'John Doe',\n",
        "    'age': 25,\n",
        "    'email': 'john@example.com'\n",
        "}\n",
        "\n",
        "# Validate the data against the schema\n",
        "is_valid = validator.validate(data)\n",
        "\n",
        "# Print the validation result\n",
        "print(is_valid)  # Output: True\n",
        "print(validator.document)\n",
        "# Output: {'name': 'John Doe', 'age': 25, 'email': 'john@example.com'}\n",
        "\n",
        "# Define some invalid data\n",
        "invalid_data = {\n",
        "    'name': 'Jane Smith',\n",
        "    'age': 17,\n",
        "    'email': 'invalid-email'\n",
        "}\n",
        "\n",
        "# Validate the invalid data\n",
        "is_invalid = validator.validate(invalid_data)\n",
        "\n",
        "# Print the validation result and errors\n",
        "print(is_invalid)  # Output: False\n",
        "print(validator.errors)"
      ],
      "metadata": {
        "colab": {
          "base_uri": "https://localhost:8080/"
        },
        "id": "TPrt8VdRWufs",
        "outputId": "71ced72e-0fb5-40c7-f970-fd855ad3b285"
      },
      "execution_count": 13,
      "outputs": [
        {
          "output_type": "stream",
          "name": "stdout",
          "text": [
            "True\n",
            "{'name': 'John Doe', 'age': 25, 'email': 'john@example.com'}\n",
            "False\n",
            "{'age': ['min value is 18'], 'email': [\"value does not match regex '^[a-zA-Z0-9_.+-]+@[a-zA-Z0-9-]+\\\\.[a-zA-Z0-9-.]+$'\"]}\n"
          ]
        }
      ]
    }
  ]
}
