{
  "nbformat": 4,
  "nbformat_minor": 0,
  "metadata": {
    "colab": {
      "name": "9 Python 3 Features.ipynb",
      "provenance": [],
      "authorship_tag": "ABX9TyOJLFsfP7xhFAMBpFoVNiZC"
    },
    "kernelspec": {
      "name": "python3",
      "display_name": "Python 3"
    }
  },
  "cells": [
    {
      "cell_type": "markdown",
      "metadata": {
        "id": "S1hEWlxpueYg",
        "colab_type": "text"
      },
      "source": [
        "[Reference](https://medium.com/better-programming/9-python-3-features-you-might-not-use-yet-fade13932a3e)"
      ]
    },
    {
      "cell_type": "markdown",
      "metadata": {
        "id": "R5O9votTugvX",
        "colab_type": "text"
      },
      "source": [
        "# 1. Enumerations"
      ]
    },
    {
      "cell_type": "code",
      "metadata": {
        "id": "aQByZKcfucIQ",
        "colab_type": "code",
        "colab": {
          "base_uri": "https://localhost:8080/"
        },
        "outputId": "6d3a32b6-d9e7-4ce4-9c7f-40ea82eef781"
      },
      "source": [
        "from enum import Enum, auto\n",
        "class Fruit(Enum):\n",
        "    APPLE = auto()\n",
        "    ORANGE = auto()\n",
        "    GUAVA = auto()\n",
        "print(Fruit.APPLE)\n",
        "# Fruit.APPLE"
      ],
      "execution_count": 1,
      "outputs": [
        {
          "output_type": "stream",
          "text": [
            "Fruit.APPLE\n"
          ],
          "name": "stdout"
        }
      ]
    },
    {
      "cell_type": "code",
      "metadata": {
        "id": "_ImgtZM9uiFu",
        "colab_type": "code",
        "colab": {
          "base_uri": "https://localhost:8080/"
        },
        "outputId": "5a7f396b-56d7-44b7-c092-9a8e23023ff3"
      },
      "source": [
        "for fruit in Fruit:\n",
        "    print(fruit)"
      ],
      "execution_count": 2,
      "outputs": [
        {
          "output_type": "stream",
          "text": [
            "Fruit.APPLE\n",
            "Fruit.ORANGE\n",
            "Fruit.GUAVA\n"
          ],
          "name": "stdout"
        }
      ]
    },
    {
      "cell_type": "markdown",
      "metadata": {
        "id": "aYc4aZsOuzC2",
        "colab_type": "text"
      },
      "source": [
        "# 2. Type Hinting"
      ]
    },
    {
      "cell_type": "code",
      "metadata": {
        "id": "FjM9J0K_ut0q",
        "colab_type": "code",
        "colab": {
          "base_uri": "https://localhost:8080/"
        },
        "outputId": "619f769b-5fdc-4d87-b3c9-08237ce971cc"
      },
      "source": [
        "def fruits_word(line: str) -> bool:\n",
        "  return \"fruit\" in line\n",
        "\n",
        "test = fruits_word(\"I love to eat fresh fruits\")\n",
        "print(test)"
      ],
      "execution_count": 3,
      "outputs": [
        {
          "output_type": "stream",
          "text": [
            "True\n"
          ],
          "name": "stdout"
        }
      ]
    },
    {
      "cell_type": "markdown",
      "metadata": {
        "id": "QT2MELgKu8FM",
        "colab_type": "text"
      },
      "source": [
        "# 3. Pathlib"
      ]
    },
    {
      "cell_type": "code",
      "metadata": {
        "id": "U6MAucvIu3M0",
        "colab_type": "code",
        "colab": {
          "base_uri": "https://localhost:8080/",
          "height": 51
        },
        "outputId": "49aa42e3-780f-4aab-fe41-aeb33aae07cf"
      },
      "source": [
        "from pathlib import Path\n",
        "root = Path('blog_new_folder')\n",
        "print(root)\n",
        "# blog_new_folder\n",
        "path = root / 'new_program'\n",
        "print(path.resolve())"
      ],
      "execution_count": 4,
      "outputs": [
        {
          "output_type": "stream",
          "text": [
            "blog_new_folder\n",
            "/content/blog_new_folder/new_program\n"
          ],
          "name": "stdout"
        }
      ]
    },
    {
      "cell_type": "markdown",
      "metadata": {
        "id": "_7wGEJR1vKfB",
        "colab_type": "text"
      },
      "source": [
        "# 4. F-Strings"
      ]
    },
    {
      "cell_type": "code",
      "metadata": {
        "id": "6iLM_Z7OvFkc",
        "colab_type": "code",
        "colab": {
          "base_uri": "https://localhost:8080/",
          "height": 54
        },
        "outputId": "5831cd7c-2ce6-485d-b248-4818b73d62bd"
      },
      "source": [
        "import datetime\n",
        "name = \"Vivek\"\n",
        "activity = \"writing Medium article\"\n",
        "time = datetime.date(2020, 8, 15)\n",
        " \n",
        "message = 'My name is {}, I completed an activity {} on {}.'.format(name, activity, time)\n",
        " \n",
        "print(message)"
      ],
      "execution_count": 5,
      "outputs": [
        {
          "output_type": "stream",
          "text": [
            "My name is Vivek, I completed an activity writing Medium article on 2020-08-15.\n"
          ],
          "name": "stdout"
        }
      ]
    },
    {
      "cell_type": "code",
      "metadata": {
        "id": "ADpBQ4llvNtx",
        "colab_type": "code",
        "colab": {
          "base_uri": "https://localhost:8080/",
          "height": 54
        },
        "outputId": "eead3c61-6b31-4298-b0f1-6f636e59713f"
      },
      "source": [
        "import datetime\n",
        "name = \"Vivek\"\n",
        "activity = \"writing Medium article\"\n",
        "time = datetime.date(2020, 8, 15)\n",
        "message = f'My name is {name}, I completed an activity {activity} on {time:%A, %B %d, %Y}.'\n",
        " \n",
        "print(message)"
      ],
      "execution_count": 6,
      "outputs": [
        {
          "output_type": "stream",
          "text": [
            "My name is Vivek, I completed an activity writing Medium article on Saturday, August 15, 2020.\n"
          ],
          "name": "stdout"
        }
      ]
    },
    {
      "cell_type": "markdown",
      "metadata": {
        "id": "FfUl9ta2vdnz",
        "colab_type": "text"
      },
      "source": [
        "# 5. Built-In LRU Cache"
      ]
    },
    {
      "cell_type": "code",
      "metadata": {
        "id": "J36-xsOGvRLt",
        "colab_type": "code",
        "colab": {
          "base_uri": "https://localhost:8080/",
          "height": 34
        },
        "outputId": "6244cb7f-33b2-44a4-f2f3-69f00878622d"
      },
      "source": [
        "import time\n",
        "def fibon(number: int) -> int:\n",
        "    if number == 0: return 0\n",
        "    if number == 1: return 1\n",
        "    return fibon(number-1) + fibon(number-2)\n",
        "start = time.time()\n",
        "fibon(20)\n",
        "print(f'Duration: {time.time() - start}s')"
      ],
      "execution_count": 7,
      "outputs": [
        {
          "output_type": "stream",
          "text": [
            "Duration: 0.005492448806762695s\n"
          ],
          "name": "stdout"
        }
      ]
    },
    {
      "cell_type": "code",
      "metadata": {
        "id": "G2CyyFipviE9",
        "colab_type": "code",
        "colab": {
          "base_uri": "https://localhost:8080/",
          "height": 34
        },
        "outputId": "42dc2600-5a5b-4824-d8d8-f6c7de129b07"
      },
      "source": [
        "from functools import lru_cache\n",
        "@lru_cache(maxsize=512)\n",
        "def fib_memoization(number: int) -> int:\n",
        "    if number == 0: return 0\n",
        "    if number == 1: return 1\n",
        "    \n",
        "    return fib_memoization(number-1) + fib_memoization(number-2)\n",
        "start = time.time()\n",
        "fib_memoization(20)\n",
        "print(f'Duration: {time.time() - start}s')"
      ],
      "execution_count": 8,
      "outputs": [
        {
          "output_type": "stream",
          "text": [
            "Duration: 0.0004191398620605469s\n"
          ],
          "name": "stdout"
        }
      ]
    },
    {
      "cell_type": "markdown",
      "metadata": {
        "id": "pn-bNe6bvsS1",
        "colab_type": "text"
      },
      "source": [
        "# 6. Extended Iterable Unpacking"
      ]
    },
    {
      "cell_type": "code",
      "metadata": {
        "id": "SbuoqixGvorp",
        "colab_type": "code",
        "colab": {
          "base_uri": "https://localhost:8080/",
          "height": 119
        },
        "outputId": "b4d93488-8255-449d-a714-b3bed1c31a49"
      },
      "source": [
        "x, *y, z = range(4)\n",
        "print(x, y, z)\n",
        "# 0 [1, 2] 3\n",
        "python_version, file_name, topic, *output = \"python3.0 hello.py betterprogramming 1 2 3 4\".split()\n",
        "print(python_version)\n",
        "print(file_name)\n",
        "print(topic)\n",
        "print(output)\n",
        "# python3.0\n",
        "# hello.py\n",
        "# betterprogramming\n",
        "# ['1', '2', '3', '4']\n",
        "a, b, c, *d = range(7)\n",
        "print(b, d)\n",
        "# 1 [3, 4, 5, 6]"
      ],
      "execution_count": 9,
      "outputs": [
        {
          "output_type": "stream",
          "text": [
            "0 [1, 2] 3\n",
            "python3.0\n",
            "hello.py\n",
            "betterprogramming\n",
            "['1', '2', '3', '4']\n",
            "1 [3, 4, 5, 6]\n"
          ],
          "name": "stdout"
        }
      ]
    },
    {
      "cell_type": "markdown",
      "metadata": {
        "id": "P-8YDgSmv30O",
        "colab_type": "text"
      },
      "source": [
        "# 7. Underscores in Numeric Literals"
      ]
    },
    {
      "cell_type": "code",
      "metadata": {
        "id": "d81Id45RvxOj",
        "colab_type": "code",
        "colab": {
          "base_uri": "https://localhost:8080/",
          "height": 68
        },
        "outputId": "e3e297de-1e9d-4e03-f559-2558da1ba205"
      },
      "source": [
        "price = 50_000\n",
        "print(f'Price: {price}')\n",
        "# Price: 50000\n",
        "hexa_val = 0xABCD_EFD9\n",
        "print(f'Decimal equivalent: {hexa_val}')\n",
        "# Decimal equivalent: 2882400217\n",
        "bin_ary = 0b_0010_0110\n",
        "print(f'Decimal: {bin_ary}')"
      ],
      "execution_count": 10,
      "outputs": [
        {
          "output_type": "stream",
          "text": [
            "Price: 50000\n",
            "Decimal equivalent: 2882400217\n",
            "Decimal: 38\n"
          ],
          "name": "stdout"
        }
      ]
    },
    {
      "cell_type": "markdown",
      "metadata": {
        "id": "q8JFdRNtwAD0",
        "colab_type": "text"
      },
      "source": [
        "# 8. Assignment Expressions — ‘walrus’ Operator"
      ]
    },
    {
      "cell_type": "markdown",
      "metadata": {
        "id": "hzhi8emNwTlW",
        "colab_type": "text"
      },
      "source": [
        "```python\n",
        "birds = ['owl', 'hen', 'duck', 'parrot']\n",
        "for bird in birds:\n",
        "    if (len_bird := len(bird)) > 4:\n",
        "        print(f'A bird \"{bird}\" consists of \"{len_bird}\", letters')\n",
        "```"
      ]
    },
    {
      "cell_type": "markdown",
      "metadata": {
        "id": "KXJFIiQ2wOe5",
        "colab_type": "text"
      },
      "source": [
        "# 9. Data Classes"
      ]
    },
    {
      "cell_type": "code",
      "metadata": {
        "id": "WDW0ZDaWwJ-G",
        "colab_type": "code",
        "colab": {
          "base_uri": "https://localhost:8080/",
          "height": 51
        },
        "outputId": "e6783473-007d-4c66-9b2b-91578612a58b"
      },
      "source": [
        "class Item_list:\n",
        "    def __init__(self, name: str, perunit_cost: float, quantity_available: int = 0):\n",
        "        self.name = name\n",
        "        self.perunit_cost = perunit_cost\n",
        "        self.quantity_available = quantity_available\n",
        "        \n",
        "    def total_cost(self) -> float:\n",
        "        return self.perunit_cost * self.quantity_available\n",
        "book = Item_list(\"better programming.\", 50, 2)\n",
        "x = book.total_cost()\n",
        "print(x)\n",
        "# 100\n",
        "print(book)"
      ],
      "execution_count": 13,
      "outputs": [
        {
          "output_type": "stream",
          "text": [
            "100\n",
            "<__main__.Item_list object at 0x7f31fc2a0be0>\n"
          ],
          "name": "stdout"
        }
      ]
    },
    {
      "cell_type": "code",
      "metadata": {
        "id": "4cTnSuMHwZyA",
        "colab_type": "code",
        "colab": {
          "base_uri": "https://localhost:8080/",
          "height": 71
        },
        "outputId": "cbe5e8c0-267f-481f-bd39-9d254e80b94f"
      },
      "source": [
        "from dataclasses import dataclass\n",
        "@dataclass\n",
        "class Item_list:\n",
        "    name: str\n",
        "    perunit_cost: float\n",
        "    quantity_available: int = 0\n",
        "    def total_cost(self) -> float:\n",
        "        return self.perunit_cost * self.quantity_available\n",
        "    \n",
        "book = Item_list(\"better programming.\", 50, 2)\n",
        "x = book.total_cost()\n",
        "print(x)\n",
        "# 100\n",
        "print(book)"
      ],
      "execution_count": 14,
      "outputs": [
        {
          "output_type": "stream",
          "text": [
            "100\n",
            "Item_list(name='better programming.', perunit_cost=50, quantity_available=2)\n"
          ],
          "name": "stdout"
        }
      ]
    }
  ]
}