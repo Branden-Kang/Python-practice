{
  "nbformat": 4,
  "nbformat_minor": 0,
  "metadata": {
    "colab": {
      "name": "20 Good Functions to Know in Python.ipynb",
      "provenance": [],
      "authorship_tag": "ABX9TyPr9MqR+AL63ek/ewGyKeVS"
    },
    "kernelspec": {
      "name": "python3",
      "display_name": "Python 3"
    },
    "language_info": {
      "name": "python"
    }
  },
  "cells": [
    {
      "cell_type": "markdown",
      "metadata": {
        "id": "iIBcbTc8MV6P"
      },
      "source": [
        "[Reference](https://python.plainenglish.io/20-good-functions-to-know-in-python-2d1bde56f4dc)"
      ]
    },
    {
      "cell_type": "markdown",
      "metadata": {
        "id": "pHHJ5ekIMYEz"
      },
      "source": [
        "# 1. Even numbers:"
      ]
    },
    {
      "cell_type": "code",
      "metadata": {
        "id": "kKt9B4-NMThj"
      },
      "source": [
        "def is_even(n):\n",
        "\treturn (n % 2) == 0"
      ],
      "execution_count": 1,
      "outputs": []
    },
    {
      "cell_type": "code",
      "metadata": {
        "colab": {
          "base_uri": "https://localhost:8080/"
        },
        "id": "ODE_38wtMZpj",
        "outputId": "e8f6900f-0589-43d0-a34c-29bcef6311d9"
      },
      "source": [
        "is_even(5)"
      ],
      "execution_count": 2,
      "outputs": [
        {
          "output_type": "execute_result",
          "data": {
            "text/plain": [
              "False"
            ]
          },
          "metadata": {
            "tags": []
          },
          "execution_count": 2
        }
      ]
    },
    {
      "cell_type": "code",
      "metadata": {
        "colab": {
          "base_uri": "https://localhost:8080/"
        },
        "id": "WNjPPm-SMaqJ",
        "outputId": "887b979f-43aa-444d-bc0f-c2c51329965c"
      },
      "source": [
        "is_even(42)"
      ],
      "execution_count": 3,
      "outputs": [
        {
          "output_type": "execute_result",
          "data": {
            "text/plain": [
              "True"
            ]
          },
          "metadata": {
            "tags": []
          },
          "execution_count": 3
        }
      ]
    },
    {
      "cell_type": "markdown",
      "metadata": {
        "id": "j37Tm-Z1MgC8"
      },
      "source": [
        "# 2. Remove evens:"
      ]
    },
    {
      "cell_type": "code",
      "metadata": {
        "id": "LvrIdSEWMcVp"
      },
      "source": [
        "def remove_evens(alist):\n",
        "\tres = []\n",
        "\tfor n in alist:\n",
        "\t\tif not is_even(n): res.append(n)\n",
        "\treturn res"
      ],
      "execution_count": 4,
      "outputs": []
    },
    {
      "cell_type": "code",
      "metadata": {
        "colab": {
          "base_uri": "https://localhost:8080/"
        },
        "id": "jLMb6GVcMquZ",
        "outputId": "84a6ee30-0512-4fca-a4ef-7c34edf1b6d6"
      },
      "source": [
        "remove_evens([1,2,3,4,5,6])"
      ],
      "execution_count": 5,
      "outputs": [
        {
          "output_type": "execute_result",
          "data": {
            "text/plain": [
              "[1, 3, 5]"
            ]
          },
          "metadata": {
            "tags": []
          },
          "execution_count": 5
        }
      ]
    },
    {
      "cell_type": "markdown",
      "metadata": {
        "id": "9WTkCoo2Muax"
      },
      "source": [
        "# 3. Min Value:"
      ]
    },
    {
      "cell_type": "code",
      "metadata": {
        "id": "EveRpqKGMtW5"
      },
      "source": [
        "def minval(alist):\n",
        "\treturn min(alist)"
      ],
      "execution_count": 6,
      "outputs": []
    },
    {
      "cell_type": "code",
      "metadata": {
        "colab": {
          "base_uri": "https://localhost:8080/"
        },
        "id": "6hhZrJfuMw2n",
        "outputId": "3acf3c32-f6dd-4d0e-fd10-6d4781a4161e"
      },
      "source": [
        "minval([104,22,31,4,54,61]) "
      ],
      "execution_count": 7,
      "outputs": [
        {
          "output_type": "execute_result",
          "data": {
            "text/plain": [
              "4"
            ]
          },
          "metadata": {
            "tags": []
          },
          "execution_count": 7
        }
      ]
    },
    {
      "cell_type": "markdown",
      "metadata": {
        "id": "pi9fxigIMz3o"
      },
      "source": [
        "# 4. Index of Min Value:"
      ]
    },
    {
      "cell_type": "code",
      "metadata": {
        "id": "1e9GnIQ0Myc6"
      },
      "source": [
        "def min_index(alist):\n",
        "\treturn alist.index(minval(alist))"
      ],
      "execution_count": 8,
      "outputs": []
    },
    {
      "cell_type": "code",
      "metadata": {
        "colab": {
          "base_uri": "https://localhost:8080/"
        },
        "id": "nIAASSQ9M1OK",
        "outputId": "7d1f769b-6b54-479f-d33a-43f26a280f95"
      },
      "source": [
        "min_index([104,22,31,4,54,61]) "
      ],
      "execution_count": 9,
      "outputs": [
        {
          "output_type": "execute_result",
          "data": {
            "text/plain": [
              "3"
            ]
          },
          "metadata": {
            "tags": []
          },
          "execution_count": 9
        }
      ]
    },
    {
      "cell_type": "markdown",
      "metadata": {
        "id": "OHwUvhlNM4sJ"
      },
      "source": [
        "# 5. Remove Value:"
      ]
    },
    {
      "cell_type": "code",
      "metadata": {
        "id": "5IUhgrAPM3jj"
      },
      "source": [
        "def remove_a_value(val, alist):\n",
        "\ttry:\n",
        "\t\talist.remove(val)\n",
        "\t\treturn True\n",
        "\texcept:\n",
        "\t\treturn False"
      ],
      "execution_count": 10,
      "outputs": []
    },
    {
      "cell_type": "code",
      "metadata": {
        "colab": {
          "base_uri": "https://localhost:8080/"
        },
        "id": "iGq8h1BDM64b",
        "outputId": "5955e5c9-8a39-4681-98a1-dbd27a000aa1"
      },
      "source": [
        "remove_a_value(22,[104,22,31,4,54,61]) "
      ],
      "execution_count": 11,
      "outputs": [
        {
          "output_type": "execute_result",
          "data": {
            "text/plain": [
              "True"
            ]
          },
          "metadata": {
            "tags": []
          },
          "execution_count": 11
        }
      ]
    },
    {
      "cell_type": "code",
      "metadata": {
        "colab": {
          "base_uri": "https://localhost:8080/"
        },
        "id": "9HhiwpFEM7Ld",
        "outputId": "7c9bbcaf-7ad0-4ec7-f317-81a5513838a1"
      },
      "source": [
        "remove_a_value(105,[104,22,31,4,54,61]) "
      ],
      "execution_count": 12,
      "outputs": [
        {
          "output_type": "execute_result",
          "data": {
            "text/plain": [
              "False"
            ]
          },
          "metadata": {
            "tags": []
          },
          "execution_count": 12
        }
      ]
    },
    {
      "cell_type": "markdown",
      "metadata": {
        "id": "VtzEhrCcM9oV"
      },
      "source": [
        "# 6. Simple Sort:"
      ]
    },
    {
      "cell_type": "code",
      "metadata": {
        "id": "rEFXk2lzM8bA"
      },
      "source": [
        "def simple_sort(alist):\n",
        "\tcopy = alist[:]\n",
        "\tres = []\n",
        "\twhile len(copy) > 0:\n",
        "\t\tx = minval(copy)\n",
        "\t\tres.append(x)\n",
        "\t\tcopy.remove(x)\n",
        "\treturn res"
      ],
      "execution_count": 13,
      "outputs": []
    },
    {
      "cell_type": "code",
      "metadata": {
        "colab": {
          "base_uri": "https://localhost:8080/"
        },
        "id": "P7TCB_QyM_C0",
        "outputId": "c7ea94c3-63b7-46b2-b5ff-1fa4f07d7087"
      },
      "source": [
        "simple_sort([104, 22, 31, 4, 54, 61])"
      ],
      "execution_count": 14,
      "outputs": [
        {
          "output_type": "execute_result",
          "data": {
            "text/plain": [
              "[4, 22, 31, 54, 61, 104]"
            ]
          },
          "metadata": {
            "tags": []
          },
          "execution_count": 14
        }
      ]
    },
    {
      "cell_type": "markdown",
      "metadata": {
        "id": "WeIQDWkJNB2S"
      },
      "source": [
        "# 7. Destructive Sort:"
      ]
    },
    {
      "cell_type": "code",
      "metadata": {
        "id": "_FQCQVrzNAA2"
      },
      "source": [
        "#The code uses simple_sot(alist) to sort the list and then rewrites the original list values\n",
        "def distraction_sort(xs):\n",
        "\ttemp = simple_sort(xs)\n",
        "\tfor i in range(len(temp)):\n",
        "\t\txs[i] = temp[i]"
      ],
      "execution_count": 15,
      "outputs": []
    },
    {
      "cell_type": "code",
      "metadata": {
        "id": "PTj-GH8JNEV0"
      },
      "source": [
        "list_a = [33,94,1,92,54,12]\n",
        "distraction_sort(list_a)"
      ],
      "execution_count": 16,
      "outputs": []
    },
    {
      "cell_type": "markdown",
      "metadata": {
        "id": "kYoYz5rbNFxL"
      },
      "source": [
        "# 8. Middle Sort:"
      ]
    },
    {
      "cell_type": "code",
      "metadata": {
        "id": "B5qwkYD-NEnw"
      },
      "source": [
        "def median_value(xs):\n",
        "\ttemp = simple_sort(xs)\n",
        "\tmid = int(len(xs)/2)\n",
        "\tif is_even(len(xs)): mid -= 1\n",
        "\treturn temp[mid]"
      ],
      "execution_count": 17,
      "outputs": []
    },
    {
      "cell_type": "code",
      "metadata": {
        "colab": {
          "base_uri": "https://localhost:8080/"
        },
        "id": "WSb-bGWBNHF7",
        "outputId": "50fde02f-007c-4d7a-cfd0-5ab58d74431e"
      },
      "source": [
        "median_value([5,34,29,91,102,44,1,4]) "
      ],
      "execution_count": 18,
      "outputs": [
        {
          "output_type": "execute_result",
          "data": {
            "text/plain": [
              "29"
            ]
          },
          "metadata": {
            "tags": []
          },
          "execution_count": 18
        }
      ]
    },
    {
      "cell_type": "markdown",
      "metadata": {
        "id": "9Wm-cnwINJaO"
      },
      "source": [
        "# 9. Kth Sorted:"
      ]
    },
    {
      "cell_type": "code",
      "metadata": {
        "id": "Fr6rJXLFNIYc"
      },
      "source": [
        "def kth(k,xs):\n",
        "\ttemp = simple_sort(xs)\n",
        "\treturn temp[k]"
      ],
      "execution_count": 19,
      "outputs": []
    },
    {
      "cell_type": "code",
      "metadata": {
        "colab": {
          "base_uri": "https://localhost:8080/"
        },
        "id": "goxc8qaMNKjg",
        "outputId": "2cc3e4e9-c5c7-46e7-c9d6-d8d5c1b2e72b"
      },
      "source": [
        "kth(2,[71,43,67,10,4,3,87,103]) "
      ],
      "execution_count": 21,
      "outputs": [
        {
          "output_type": "execute_result",
          "data": {
            "text/plain": [
              "10"
            ]
          },
          "metadata": {
            "tags": []
          },
          "execution_count": 21
        }
      ]
    },
    {
      "cell_type": "markdown",
      "metadata": {
        "id": "ADgYMhQyNOCX"
      },
      "source": [
        "# 10. Zip List:"
      ]
    },
    {
      "cell_type": "code",
      "metadata": {
        "id": "LKcITPuaNL7n"
      },
      "source": [
        "def zip(xs,ys):\n",
        "\tres = []\n",
        "\ti = 0\n",
        "\twhile i < len(xs) and i < len(ys):\n",
        "\t\tres.append((xs[i],ys[i]))\n",
        "\t\ti += 1\n",
        "\treturn res"
      ],
      "execution_count": 22,
      "outputs": []
    },
    {
      "cell_type": "code",
      "metadata": {
        "colab": {
          "base_uri": "https://localhost:8080/"
        },
        "id": "IGzS9xDONPjg",
        "outputId": "7f6a3c95-d71e-45a7-b298-157f7ab338aa"
      },
      "source": [
        "zip([1, 2, 3, 4], ['a', 'b', 'c', 'd']) "
      ],
      "execution_count": 24,
      "outputs": [
        {
          "output_type": "execute_result",
          "data": {
            "text/plain": [
              "[(1, 'a'), (2, 'b'), (3, 'c'), (4, 'd')]"
            ]
          },
          "metadata": {
            "tags": []
          },
          "execution_count": 24
        }
      ]
    },
    {
      "cell_type": "markdown",
      "metadata": {
        "id": "SvpbLqAcNUmb"
      },
      "source": [
        "# 11. Multiply Lists:"
      ]
    },
    {
      "cell_type": "code",
      "metadata": {
        "id": "K5coxB2dNRV3"
      },
      "source": [
        "def pairwise_multiply(xs,ys):\n",
        "\tres = []\n",
        "\ti = 0\n",
        "\twhile i < len(xs) and i < len(ys):\n",
        "\t\tres.append(xs[i]*ys[i])\n",
        "\t\ti += 1\n",
        "\treturn res"
      ],
      "execution_count": 25,
      "outputs": []
    },
    {
      "cell_type": "code",
      "metadata": {
        "colab": {
          "base_uri": "https://localhost:8080/"
        },
        "id": "xfDT_2F6NV6y",
        "outputId": "58d5a61c-e3f4-4509-8aa5-202e42fc3666"
      },
      "source": [
        "pairwise_multiply([2, 3, 10, 11], [35, 10, 29, 3]) "
      ],
      "execution_count": 26,
      "outputs": [
        {
          "output_type": "execute_result",
          "data": {
            "text/plain": [
              "[70, 30, 290, 33]"
            ]
          },
          "metadata": {
            "tags": []
          },
          "execution_count": 26
        }
      ]
    },
    {
      "cell_type": "markdown",
      "metadata": {
        "id": "2hJ2UU1nNX3i"
      },
      "source": [
        "# 12. Dot Product:"
      ]
    },
    {
      "cell_type": "code",
      "metadata": {
        "id": "CmUp1cCTNW9G"
      },
      "source": [
        "def dot_product(alist, blist):\n",
        "\treturn sum(pairwise_multiply(alist,blist))"
      ],
      "execution_count": 27,
      "outputs": []
    },
    {
      "cell_type": "code",
      "metadata": {
        "colab": {
          "base_uri": "https://localhost:8080/"
        },
        "id": "kw_R-FhLNZaV",
        "outputId": "d3869e21-cc47-4bc9-a496-47a6ed4b96e1"
      },
      "source": [
        "dot_product([1, 2, 3], [3, 2, 1]) "
      ],
      "execution_count": 28,
      "outputs": [
        {
          "output_type": "execute_result",
          "data": {
            "text/plain": [
              "10"
            ]
          },
          "metadata": {
            "tags": []
          },
          "execution_count": 28
        }
      ]
    },
    {
      "cell_type": "markdown",
      "metadata": {
        "id": "3oKcORJ7NcHI"
      },
      "source": [
        "# 13. N Copies:"
      ]
    },
    {
      "cell_type": "code",
      "metadata": {
        "id": "IXUQq_kMNa4q"
      },
      "source": [
        "def n_copy(val,n):\n",
        "\tres = []\n",
        "\tfor i in range(n):\n",
        "\t\tres.append(val)\n",
        "\treturn res"
      ],
      "execution_count": 29,
      "outputs": []
    },
    {
      "cell_type": "code",
      "metadata": {
        "colab": {
          "base_uri": "https://localhost:8080/"
        },
        "id": "jDXXUX6xNdkN",
        "outputId": "3601a8b6-095d-4e4c-fec8-5e8785cbea3c"
      },
      "source": [
        "n_copy(5,3)"
      ],
      "execution_count": 30,
      "outputs": [
        {
          "output_type": "execute_result",
          "data": {
            "text/plain": [
              "[5, 5, 5]"
            ]
          },
          "metadata": {
            "tags": []
          },
          "execution_count": 30
        }
      ]
    },
    {
      "cell_type": "markdown",
      "metadata": {
        "id": "NPV3bNq7Np0D"
      },
      "source": [
        "# 14. Interleave:"
      ]
    },
    {
      "cell_type": "code",
      "metadata": {
        "id": "ZtYeCC56NfKY"
      },
      "source": [
        "def interleave(alist,blist):\n",
        "\tres = []\n",
        "\ti = 0\n",
        "\twhile i<len(alist) and i<len(blist):\n",
        "\t\tres.append(alist[i])\n",
        "\t\tres.append(blist[i])\n",
        "\t\ti += 1\n",
        "\tfor j in range(i,len(alist)):\n",
        "\t\tres.append(alist[j])\n",
        "\tfor j in range(i,len(blist)):\n",
        "\t\tres.append(blist[j])\n",
        "\treturn res"
      ],
      "execution_count": 31,
      "outputs": []
    },
    {
      "cell_type": "code",
      "metadata": {
        "colab": {
          "base_uri": "https://localhost:8080/"
        },
        "id": "A-h9_uNDNrUk",
        "outputId": "8ddfe9b7-efbf-4255-b402-83b56fc74453"
      },
      "source": [
        "interleave(['a', 'b', 'c'], [1, 2, 3]) "
      ],
      "execution_count": 32,
      "outputs": [
        {
          "output_type": "execute_result",
          "data": {
            "text/plain": [
              "['a', 1, 'b', 2, 'c', 3]"
            ]
          },
          "metadata": {
            "tags": []
          },
          "execution_count": 32
        }
      ]
    },
    {
      "cell_type": "markdown",
      "metadata": {
        "id": "npIQjazANv3x"
      },
      "source": [
        "# 15. Riffle Shuffle:"
      ]
    },
    {
      "cell_type": "code",
      "metadata": {
        "id": "aHgAtb-nNuq1"
      },
      "source": [
        "def riffle_shuffle(alist):\n",
        "\ttemp = alist\n",
        "\tmid = int(len(alist)/2)\n",
        "\ttemp = interleave(temp[0:mid],temp[mid:len(alist)])\n",
        "\tfor i in range(len(alist)):\n",
        "\t\talist[i] = temp[i]"
      ],
      "execution_count": 33,
      "outputs": []
    },
    {
      "cell_type": "code",
      "metadata": {
        "id": "OzYrvW7MN0eJ"
      },
      "source": [
        "list_a = ['a','b','c','d','e','f','g']\n",
        "riffle_shuffle(list_a)"
      ],
      "execution_count": 34,
      "outputs": []
    },
    {
      "cell_type": "markdown",
      "metadata": {
        "id": "xTMH2aRQN4-j"
      },
      "source": [
        "# 16. Pairs:"
      ]
    },
    {
      "cell_type": "code",
      "metadata": {
        "id": "3aM2q6xBN3tP"
      },
      "source": [
        "def all_pairs(alist,blist):\n",
        "\tres = []\n",
        "\tfor x in alist:\n",
        "\t\tfor y in blist:\n",
        "\t\t\tres.append((x,y))\n",
        "\treturn res"
      ],
      "execution_count": 35,
      "outputs": []
    },
    {
      "cell_type": "code",
      "metadata": {
        "colab": {
          "base_uri": "https://localhost:8080/"
        },
        "id": "wpfrf286N-IM",
        "outputId": "f2bd00c5-1f89-4f16-fa4c-e99ba3ad5b59"
      },
      "source": [
        "all_pairs([1, 2, 3], ['a', 'b', 'c']) "
      ],
      "execution_count": 36,
      "outputs": [
        {
          "output_type": "execute_result",
          "data": {
            "text/plain": [
              "[(1, 'a'),\n",
              " (1, 'b'),\n",
              " (1, 'c'),\n",
              " (2, 'a'),\n",
              " (2, 'b'),\n",
              " (2, 'c'),\n",
              " (3, 'a'),\n",
              " (3, 'b'),\n",
              " (3, 'c')]"
            ]
          },
          "metadata": {
            "tags": []
          },
          "execution_count": 36
        }
      ]
    },
    {
      "cell_type": "markdown",
      "metadata": {
        "id": "o4seCLUUOBsN"
      },
      "source": [
        "# 17. Build Deck:"
      ]
    },
    {
      "cell_type": "code",
      "metadata": {
        "id": "1OBBbgemOAaN"
      },
      "source": [
        "def new_deck():\n",
        "\tval = \"23456789TJQKA\"\n",
        "\tshapes = \"CDHS\"\n",
        "\treturn (all_pairs(val,shapes))"
      ],
      "execution_count": 37,
      "outputs": []
    },
    {
      "cell_type": "code",
      "metadata": {
        "colab": {
          "base_uri": "https://localhost:8080/"
        },
        "id": "CSkdrkDXOD_I",
        "outputId": "4ba0c767-3c37-454a-d5d1-d5993699e26e"
      },
      "source": [
        "new_deck()"
      ],
      "execution_count": 38,
      "outputs": [
        {
          "output_type": "execute_result",
          "data": {
            "text/plain": [
              "[('2', 'C'),\n",
              " ('2', 'D'),\n",
              " ('2', 'H'),\n",
              " ('2', 'S'),\n",
              " ('3', 'C'),\n",
              " ('3', 'D'),\n",
              " ('3', 'H'),\n",
              " ('3', 'S'),\n",
              " ('4', 'C'),\n",
              " ('4', 'D'),\n",
              " ('4', 'H'),\n",
              " ('4', 'S'),\n",
              " ('5', 'C'),\n",
              " ('5', 'D'),\n",
              " ('5', 'H'),\n",
              " ('5', 'S'),\n",
              " ('6', 'C'),\n",
              " ('6', 'D'),\n",
              " ('6', 'H'),\n",
              " ('6', 'S'),\n",
              " ('7', 'C'),\n",
              " ('7', 'D'),\n",
              " ('7', 'H'),\n",
              " ('7', 'S'),\n",
              " ('8', 'C'),\n",
              " ('8', 'D'),\n",
              " ('8', 'H'),\n",
              " ('8', 'S'),\n",
              " ('9', 'C'),\n",
              " ('9', 'D'),\n",
              " ('9', 'H'),\n",
              " ('9', 'S'),\n",
              " ('T', 'C'),\n",
              " ('T', 'D'),\n",
              " ('T', 'H'),\n",
              " ('T', 'S'),\n",
              " ('J', 'C'),\n",
              " ('J', 'D'),\n",
              " ('J', 'H'),\n",
              " ('J', 'S'),\n",
              " ('Q', 'C'),\n",
              " ('Q', 'D'),\n",
              " ('Q', 'H'),\n",
              " ('Q', 'S'),\n",
              " ('K', 'C'),\n",
              " ('K', 'D'),\n",
              " ('K', 'H'),\n",
              " ('K', 'S'),\n",
              " ('A', 'C'),\n",
              " ('A', 'D'),\n",
              " ('A', 'H'),\n",
              " ('A', 'S')]"
            ]
          },
          "metadata": {
            "tags": []
          },
          "execution_count": 38
        }
      ]
    },
    {
      "cell_type": "markdown",
      "metadata": {
        "id": "UTsQi4ZTOIE-"
      },
      "source": [
        "# 18. Reduce Dimension:"
      ]
    },
    {
      "cell_type": "code",
      "metadata": {
        "id": "iuLc-WDjOGTl"
      },
      "source": [
        "def flatten(alist):\n",
        "\tres = []\n",
        "\tfor i in alist:\n",
        "\t\tfor j in i:\n",
        "\t\t\tres.append(j)\n",
        "\treturn res"
      ],
      "execution_count": 39,
      "outputs": []
    },
    {
      "cell_type": "code",
      "metadata": {
        "colab": {
          "base_uri": "https://localhost:8080/"
        },
        "id": "8yDOnOwvOJp_",
        "outputId": "ca96ecc7-d8e7-45be-f649-eca277221628"
      },
      "source": [
        "flatten([[[1, 2, 3], 4], [5]]) "
      ],
      "execution_count": 40,
      "outputs": [
        {
          "output_type": "execute_result",
          "data": {
            "text/plain": [
              "[[1, 2, 3], 4, 5]"
            ]
          },
          "metadata": {
            "tags": []
          },
          "execution_count": 40
        }
      ]
    },
    {
      "cell_type": "markdown",
      "metadata": {
        "id": "Gl4HAllAOLy8"
      },
      "source": [
        "# 19. Map:"
      ]
    },
    {
      "cell_type": "code",
      "metadata": {
        "id": "Gs8tSrfrOKnL"
      },
      "source": [
        "def map(f,alist):\n",
        "\tres = []\n",
        "\tfor x in alist:\n",
        "\t\tres.append(eval(str(f(x))))\n",
        "\treturn res"
      ],
      "execution_count": 41,
      "outputs": []
    },
    {
      "cell_type": "code",
      "metadata": {
        "colab": {
          "base_uri": "https://localhost:8080/"
        },
        "id": "RGYMNCrNON73",
        "outputId": "d7cac61e-0086-49c7-f55c-adc45028260e"
      },
      "source": [
        "map(ord,\"Hello World\") "
      ],
      "execution_count": 42,
      "outputs": [
        {
          "output_type": "execute_result",
          "data": {
            "text/plain": [
              "[72, 101, 108, 108, 111, 32, 87, 111, 114, 108, 100]"
            ]
          },
          "metadata": {
            "tags": []
          },
          "execution_count": 42
        }
      ]
    },
    {
      "cell_type": "markdown",
      "metadata": {
        "id": "UF456e6RORhP"
      },
      "source": [
        "# 20. Zip With:"
      ]
    },
    {
      "cell_type": "code",
      "metadata": {
        "id": "Q4xJ2QVDOQeA"
      },
      "source": [
        "def zip_with(f,alist,blist):\n",
        "\tres = []\n",
        "\ti = 0\n",
        "\twhile i<len(alist) and i<len(blist):\n",
        "\t\tres.append(eval(str(f(alist[i],blist[i]))))\n",
        "\t\ti += 1\n",
        "\treturn res"
      ],
      "execution_count": 43,
      "outputs": []
    },
    {
      "cell_type": "code",
      "metadata": {
        "id": "-bUYzh8EOnBY"
      },
      "source": [
        "def add(x, y):\n",
        "    return x + y"
      ],
      "execution_count": 47,
      "outputs": []
    },
    {
      "cell_type": "code",
      "metadata": {
        "colab": {
          "base_uri": "https://localhost:8080/"
        },
        "id": "DE-BC1qiOVF7",
        "outputId": "3e6c2a8b-dd39-4f87-c242-ddbc5a2afb19"
      },
      "source": [
        "zip_with(add, [1, 2, 3], [4, 5, 6])"
      ],
      "execution_count": 48,
      "outputs": [
        {
          "output_type": "execute_result",
          "data": {
            "text/plain": [
              "[5, 7, 9]"
            ]
          },
          "metadata": {
            "tags": []
          },
          "execution_count": 48
        }
      ]
    }
  ]
}