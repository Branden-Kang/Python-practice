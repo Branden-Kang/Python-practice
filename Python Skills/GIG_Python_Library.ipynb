{
  "nbformat": 4,
  "nbformat_minor": 0,
  "metadata": {
    "colab": {
      "name": "GIG Python Library.ipynb",
      "provenance": [],
      "authorship_tag": "ABX9TyNjiDtApWu1N9H6VUoLrruX"
    },
    "kernelspec": {
      "name": "python3",
      "display_name": "Python 3"
    },
    "language_info": {
      "name": "python"
    }
  },
  "cells": [
    {
      "cell_type": "markdown",
      "metadata": {
        "id": "bKvcgkgHOx1N"
      },
      "source": [
        "[Reference](https://umayangag.medium.com/gig-python-library-e9a12187da93)"
      ]
    },
    {
      "cell_type": "code",
      "metadata": {
        "colab": {
          "base_uri": "https://localhost:8080/"
        },
        "id": "EQLhyryGOwCz",
        "outputId": "51398d80-5385-410b-9382-6e569f4b78a2"
      },
      "source": [
        "pip install gig-python"
      ],
      "execution_count": 1,
      "outputs": [
        {
          "output_type": "stream",
          "name": "stdout",
          "text": [
            "Collecting gig-python\n",
            "  Downloading gig_python-0.0.1-py3-none-any.whl (3.7 kB)\n",
            "Requirement already satisfied: pyparsing==2.4.7 in /usr/local/lib/python3.7/dist-packages (from gig-python) (2.4.7)\n",
            "Requirement already satisfied: py==1.10.0 in /usr/local/lib/python3.7/dist-packages (from gig-python) (1.10.0)\n",
            "Requirement already satisfied: iniconfig==1.1.1 in /usr/local/lib/python3.7/dist-packages (from gig-python) (1.1.1)\n",
            "Requirement already satisfied: toml==0.10.2 in /usr/local/lib/python3.7/dist-packages (from gig-python) (0.10.2)\n",
            "Requirement already satisfied: idna==2.10 in /usr/local/lib/python3.7/dist-packages (from gig-python) (2.10)\n",
            "Requirement already satisfied: certifi==2021.5.30 in /usr/local/lib/python3.7/dist-packages (from gig-python) (2021.5.30)\n",
            "Requirement already satisfied: attrs==21.2.0 in /usr/local/lib/python3.7/dist-packages (from gig-python) (21.2.0)\n",
            "Collecting packaging==20.9\n",
            "  Downloading packaging-20.9-py2.py3-none-any.whl (40 kB)\n",
            "\u001b[K     |████████████████████████████████| 40 kB 2.8 MB/s \n",
            "\u001b[?25hCollecting requests==2.25.1\n",
            "  Downloading requests-2.25.1-py2.py3-none-any.whl (61 kB)\n",
            "\u001b[K     |████████████████████████████████| 61 kB 3.7 MB/s \n",
            "\u001b[?25hCollecting pluggy==0.13.1\n",
            "  Downloading pluggy-0.13.1-py2.py3-none-any.whl (18 kB)\n",
            "Collecting chardet==4.0.0\n",
            "  Downloading chardet-4.0.0-py2.py3-none-any.whl (178 kB)\n",
            "\u001b[K     |████████████████████████████████| 178 kB 41.7 MB/s \n",
            "\u001b[?25hCollecting urllib3==1.26.5\n",
            "  Downloading urllib3-1.26.5-py2.py3-none-any.whl (138 kB)\n",
            "\u001b[K     |████████████████████████████████| 138 kB 42.9 MB/s \n",
            "\u001b[?25hRequirement already satisfied: importlib-metadata>=0.12 in /usr/local/lib/python3.7/dist-packages (from pluggy==0.13.1->gig-python) (4.8.1)\n",
            "Requirement already satisfied: zipp>=0.5 in /usr/local/lib/python3.7/dist-packages (from importlib-metadata>=0.12->pluggy==0.13.1->gig-python) (3.6.0)\n",
            "Requirement already satisfied: typing-extensions>=3.6.4 in /usr/local/lib/python3.7/dist-packages (from importlib-metadata>=0.12->pluggy==0.13.1->gig-python) (3.7.4.3)\n",
            "Installing collected packages: urllib3, chardet, requests, pluggy, packaging, gig-python\n",
            "  Attempting uninstall: urllib3\n",
            "    Found existing installation: urllib3 1.24.3\n",
            "    Uninstalling urllib3-1.24.3:\n",
            "      Successfully uninstalled urllib3-1.24.3\n",
            "  Attempting uninstall: chardet\n",
            "    Found existing installation: chardet 3.0.4\n",
            "    Uninstalling chardet-3.0.4:\n",
            "      Successfully uninstalled chardet-3.0.4\n",
            "  Attempting uninstall: requests\n",
            "    Found existing installation: requests 2.23.0\n",
            "    Uninstalling requests-2.23.0:\n",
            "      Successfully uninstalled requests-2.23.0\n",
            "  Attempting uninstall: pluggy\n",
            "    Found existing installation: pluggy 0.7.1\n",
            "    Uninstalling pluggy-0.7.1:\n",
            "      Successfully uninstalled pluggy-0.7.1\n",
            "  Attempting uninstall: packaging\n",
            "    Found existing installation: packaging 21.0\n",
            "    Uninstalling packaging-21.0:\n",
            "      Successfully uninstalled packaging-21.0\n",
            "\u001b[31mERROR: pip's dependency resolver does not currently take into account all the packages that are installed. This behaviour is the source of the following dependency conflicts.\n",
            "pytest 3.6.4 requires pluggy<0.8,>=0.5, but you have pluggy 0.13.1 which is incompatible.\n",
            "google-colab 1.0.0 requires requests~=2.23.0, but you have requests 2.25.1 which is incompatible.\n",
            "datascience 0.10.6 requires folium==0.2.1, but you have folium 0.8.3 which is incompatible.\u001b[0m\n",
            "Successfully installed chardet-4.0.0 gig-python-0.0.1 packaging-20.9 pluggy-0.13.1 requests-2.25.1 urllib3-1.26.5\n"
          ]
        }
      ]
    },
    {
      "cell_type": "code",
      "metadata": {
        "id": "tgeDAG09O0bn"
      },
      "source": [
        "from gig-python import Server as GIG_Server\n",
        "from gig-python import Entity\n",
        "\n",
        "server = GIG_Server(\"http://localhost:9000/\")"
      ],
      "execution_count": 4,
      "outputs": []
    },
    {
      "cell_type": "code",
      "metadata": {
        "id": "fZYTpvwQPCM2"
      },
      "source": [
        "entity = server.get(\"Sri Lanka\")"
      ],
      "execution_count": 5,
      "outputs": []
    },
    {
      "cell_type": "code",
      "metadata": {
        "id": "O85G-k6VPFsL"
      },
      "source": [
        "entities = server.search(\"sri lanka\", attributes_list=[\"title\"])"
      ],
      "execution_count": 7,
      "outputs": []
    },
    {
      "cell_type": "code",
      "metadata": {
        "id": "flmyVsHdPFhZ"
      },
      "source": [
        "results = server.normalize_name(\"sri lanka\")\n",
        "results = server.normalize_location(\"colombo\")"
      ],
      "execution_count": 8,
      "outputs": []
    },
    {
      "cell_type": "code",
      "metadata": {
        "id": "Bdun5uftPQNK"
      },
      "source": [
        "entities = server.get_links(\"Person A\")\n",
        "entities = server.get_relations(\"Sri Lanka\")"
      ],
      "execution_count": 9,
      "outputs": []
    },
    {
      "cell_type": "code",
      "metadata": {
        "id": "jeYSq0HbPT3A"
      },
      "source": [
        "entity = Entity()\n",
        "entity.title = \"LDF Test Entity\"\n",
        "result = server.add(entity)\n",
        "entity = Entity()\n",
        "entity.title = \"LDF Batch\"\n",
        "result = server.add_all([entity])"
      ],
      "execution_count": 10,
      "outputs": []
    },
    {
      "cell_type": "code",
      "metadata": {
        "id": "5EHfSAAtPV-B"
      },
      "source": [
        "entity = Entity()\n",
        "entity.title = \"LDF Test Entity\"\n",
        "entity.source_date = \"2021-01-02T15:04:05-07:00\"\n",
        "entity.source = \"python-lib\"\n",
        "result = server.terminate(entity)"
      ],
      "execution_count": 11,
      "outputs": []
    }
  ]
}