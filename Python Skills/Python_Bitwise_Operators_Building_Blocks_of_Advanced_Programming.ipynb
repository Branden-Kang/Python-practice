{
  "nbformat": 4,
  "nbformat_minor": 0,
  "metadata": {
    "colab": {
      "provenance": [],
      "authorship_tag": "ABX9TyN5ZwiIksWjMk8mQMmRTCib"
    },
    "kernelspec": {
      "name": "python3",
      "display_name": "Python 3"
    },
    "language_info": {
      "name": "python"
    }
  },
  "cells": [
    {
      "cell_type": "markdown",
      "source": [
        "[Reference](https://pythonflood.com/python-bitwise-operators-building-blocks-of-advanced-programming-a953c1715883)"
      ],
      "metadata": {
        "id": "L4z0yC2vGCjC"
      }
    },
    {
      "cell_type": "markdown",
      "source": [
        "# 1. The ‘&’ Operator\n"
      ],
      "metadata": {
        "id": "LPO23YCuGHUN"
      }
    },
    {
      "cell_type": "code",
      "execution_count": 1,
      "metadata": {
        "colab": {
          "base_uri": "https://localhost:8080/"
        },
        "id": "TZ6MR8D1E-5f",
        "outputId": "524d7835-441f-44d0-b18d-118b55e69ed7"
      },
      "outputs": [
        {
          "output_type": "stream",
          "name": "stdout",
          "text": [
            "False\n",
            "True\n"
          ]
        }
      ],
      "source": [
        "# Check if a number is even or odd\n",
        "def is_even(number):\n",
        "    return number & 1 == 0\n",
        "\n",
        "# Test the function\n",
        "print(is_even(5))\n",
        "print(is_even(6))"
      ]
    },
    {
      "cell_type": "markdown",
      "source": [
        "# 2. The ‘ | ‘ operator\n"
      ],
      "metadata": {
        "id": "flSafb2wGJOC"
      }
    },
    {
      "cell_type": "code",
      "source": [
        "a = 0b101  # Binary representation of 5\n",
        "b = 0b110  # Binary representation of 6\n",
        "\n",
        "# Bitwise OR operation\n",
        "c = a | b\n",
        "\n",
        "print(c)"
      ],
      "metadata": {
        "colab": {
          "base_uri": "https://localhost:8080/"
        },
        "id": "9AJryh0kGIbC",
        "outputId": "be2e95ec-ff40-4561-dd0d-eacb976360c8"
      },
      "execution_count": 2,
      "outputs": [
        {
          "output_type": "stream",
          "name": "stdout",
          "text": [
            "7\n"
          ]
        }
      ]
    },
    {
      "cell_type": "markdown",
      "source": [
        "# 3. The ‘ ^ ’ operator"
      ],
      "metadata": {
        "id": "d-hhnlY5GPLC"
      }
    },
    {
      "cell_type": "code",
      "source": [
        "a = 0b101  # Binary representation of 5\n",
        "b = 0b110  # Binary representation of 6\n",
        "\n",
        "# Bitwise XOR operation\n",
        "c = a ^ b\n",
        "\n",
        "print(c)"
      ],
      "metadata": {
        "colab": {
          "base_uri": "https://localhost:8080/"
        },
        "id": "KVNwyrERGMLi",
        "outputId": "07a5b8c7-58a2-4820-a954-2543b3805538"
      },
      "execution_count": 3,
      "outputs": [
        {
          "output_type": "stream",
          "name": "stdout",
          "text": [
            "3\n"
          ]
        }
      ]
    },
    {
      "cell_type": "markdown",
      "source": [
        "# 4. The ‘ << ‘ operator"
      ],
      "metadata": {
        "id": "xoR8KwHJGS4D"
      }
    },
    {
      "cell_type": "code",
      "source": [
        "# Multiply a number by 4 using left shift\n",
        "num = 5\n",
        "result = num << 2  # 5 * 2^2 = 20\n",
        "print(result)"
      ],
      "metadata": {
        "colab": {
          "base_uri": "https://localhost:8080/"
        },
        "id": "RhM2h_B3GRJI",
        "outputId": "07a5ddc6-1303-4367-be70-b46b2a60db1c"
      },
      "execution_count": 4,
      "outputs": [
        {
          "output_type": "stream",
          "name": "stdout",
          "text": [
            "20\n"
          ]
        }
      ]
    },
    {
      "cell_type": "markdown",
      "source": [
        "# 5. The ‘ >> ‘ operator"
      ],
      "metadata": {
        "id": "gnIdD3DnGVS-"
      }
    },
    {
      "cell_type": "code",
      "source": [
        "# Divide a number by 8 using right shift\n",
        "num = 64\n",
        "result = num >> 3  # 64 / 2^3 = 8\n",
        "print(result)"
      ],
      "metadata": {
        "colab": {
          "base_uri": "https://localhost:8080/"
        },
        "id": "hINQR3dNGUY4",
        "outputId": "f6f48ceb-33b9-4cce-fae7-5a652d4f3dd7"
      },
      "execution_count": 5,
      "outputs": [
        {
          "output_type": "stream",
          "name": "stdout",
          "text": [
            "8\n"
          ]
        }
      ]
    },
    {
      "cell_type": "markdown",
      "source": [
        "# 6. The Compound Operator"
      ],
      "metadata": {
        "id": "JldU4zGFGXa5"
      }
    },
    {
      "cell_type": "code",
      "source": [
        "# Addition assignment\n",
        "x = 5\n",
        "x += 3\n",
        "print(x)\n",
        "\n",
        "# Subtraction assignment\n",
        "x = 5\n",
        "x -= 3\n",
        "print(x)\n",
        "\n",
        "# Multiplication assignment\n",
        "x = 5\n",
        "x *= 3\n",
        "print(x)\n",
        "\n",
        "# Division assignment\n",
        "x = 10\n",
        "x /= 2\n",
        "print(x)\n",
        "\n",
        "# Floor division assignment\n",
        "x = 10\n",
        "x //= 3\n",
        "print(x)\n",
        "\n",
        "# Modulus assignment\n",
        "x = 10\n",
        "x %= 3\n",
        "print(x)\n",
        "\n",
        "# Exponentiation assignment\n",
        "x = 2\n",
        "x **= 3\n",
        "print(x)\n",
        "\n",
        "# Bitwise AND assignment\n",
        "x = 5\n",
        "x &= 3\n",
        "print(x)\n",
        "\n",
        "# Bitwise OR assignment\n",
        "x = 5\n",
        "x |= 3\n",
        "print(x)\n",
        "\n",
        "# Bitwise XOR assignment\n",
        "x = 5\n",
        "x ^= 3\n",
        "print(x)\n",
        "\n",
        "# Left shift assignment\n",
        "x = 5\n",
        "x <<= 2\n",
        "print(x)\n",
        "\n",
        "# Right shift assignment\n",
        "x = 10\n",
        "x >>= 1\n",
        "print(x)"
      ],
      "metadata": {
        "colab": {
          "base_uri": "https://localhost:8080/"
        },
        "id": "IAGaoF9SGWft",
        "outputId": "b3eba8dd-0872-4f35-f95c-e5c928fdb8cf"
      },
      "execution_count": 6,
      "outputs": [
        {
          "output_type": "stream",
          "name": "stdout",
          "text": [
            "8\n",
            "2\n",
            "15\n",
            "5.0\n",
            "3\n",
            "1\n",
            "8\n",
            "1\n",
            "7\n",
            "6\n",
            "20\n",
            "5\n"
          ]
        }
      ]
    }
  ]
}
