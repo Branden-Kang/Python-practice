{
  "nbformat": 4,
  "nbformat_minor": 0,
  "metadata": {
    "colab": {
      "provenance": [],
      "authorship_tag": "ABX9TyOUmJe7q94g1WssFVEetNLS"
    },
    "kernelspec": {
      "name": "python3",
      "display_name": "Python 3"
    },
    "language_info": {
      "name": "python"
    }
  },
  "cells": [
    {
      "cell_type": "markdown",
      "source": [
        "[Reference](https://medium.com/intuition/codon-a-python-compiler-3d5322e1c0a5)"
      ],
      "metadata": {
        "id": "0yIU26JbVzDR"
      }
    },
    {
      "cell_type": "code",
      "execution_count": 1,
      "metadata": {
        "id": "Mv-Zl8SkUU4B"
      },
      "outputs": [],
      "source": [
        "import time\n",
        "\n",
        "\n",
        "def perf_time(n=4):\n",
        "    \"\"\"Decorator which times function on average\n",
        "\n",
        "    Args:\n",
        "        n (int, optional): Number of times to run function. Defaults to 4.\n",
        "    \"\"\"\n",
        "\n",
        "    def decorator(fn):\n",
        "        def wrapper(*args, **kwargs):\n",
        "            times = []\n",
        "            for _ in range(n):\n",
        "                start = time.perf_counter_ns()\n",
        "                fn(*args, **kwargs)\n",
        "                end = time.perf_counter_ns()\n",
        "                dur = int(end - start)\n",
        "                times.append(dur)\n",
        "            avg = sum(times) / n\n",
        "            print(f\"Function took on average {avg}ns to run after {n} trials.\")\n",
        "\n",
        "        return wrapper\n",
        "\n",
        "    return decorator"
      ]
    },
    {
      "cell_type": "code",
      "source": [
        "from timing import perf_time\n",
        "\n",
        "\n",
        "@perf_time(n=10)\n",
        "def factorial(n):\n",
        "    p = 1\n",
        "    for k in range(2, n + 1):\n",
        "        p *= k\n",
        "    return p\n",
        "\n",
        "\n",
        "factorial(10_000)"
      ],
      "metadata": {
        "id": "Lt5gmhgOV1np"
      },
      "execution_count": 6,
      "outputs": []
    },
    {
      "cell_type": "markdown",
      "source": [
        "```\n",
        "python fac.py\n",
        "codon build -release -exe fac.py\n",
        "codon run -release fac.py\n",
        "```"
      ],
      "metadata": {
        "id": "GYiUDKKxV7L6"
      }
    },
    {
      "cell_type": "code",
      "source": [
        "import random\n",
        "from timing import perf_time\n",
        "\n",
        "\n",
        "@perf_time(n=10)\n",
        "def selection_sort(l):\n",
        "    for i in range(len(l) - 1):\n",
        "        min_idx = i\n",
        "        for j in range(i + 1, len(l)):\n",
        "            if l[j] < l[min_idx]:\n",
        "                min_idx = j\n",
        "        l[i], l[min_idx] = l[min_idx], l[i]\n",
        "\n",
        "\n",
        "nums = [random.randint(0, 1000) for _ in range(1000)]\n",
        "random.shuffle(nums)\n",
        "selection_sort(nums)"
      ],
      "metadata": {
        "id": "JcOGodLIV_zD"
      },
      "execution_count": 7,
      "outputs": []
    }
  ]
}
