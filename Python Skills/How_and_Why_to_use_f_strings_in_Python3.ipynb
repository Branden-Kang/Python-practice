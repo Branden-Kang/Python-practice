{
  "nbformat": 4,
  "nbformat_minor": 0,
  "metadata": {
    "colab": {
      "name": "How and Why to use f strings in Python3.ipynb",
      "provenance": [],
      "authorship_tag": "ABX9TyMTdEXG5h3zcHt5edidaAnZ"
    },
    "kernelspec": {
      "name": "python3",
      "display_name": "Python 3"
    },
    "language_info": {
      "name": "python"
    }
  },
  "cells": [
    {
      "cell_type": "markdown",
      "metadata": {
        "id": "dW51LrKdb5Up"
      },
      "source": [
        "[Reference](https://towardsdatascience.com/how-and-why-to-use-f-strings-in-python3-adbba724b251)"
      ]
    },
    {
      "cell_type": "code",
      "metadata": {
        "colab": {
          "base_uri": "https://localhost:8080/"
        },
        "id": "t3xz8DZsbZCS",
        "outputId": "ff0da210-87fe-47c5-822b-32572de623bd"
      },
      "source": [
        "name = 'Andy'\n",
        "age = 20\n",
        "print(\"I am \" + name + \". I am \" + str(age) + \" years old\")"
      ],
      "execution_count": 2,
      "outputs": [
        {
          "output_type": "stream",
          "text": [
            "I am Andy. I am 20 years old\n"
          ],
          "name": "stdout"
        }
      ]
    },
    {
      "cell_type": "code",
      "metadata": {
        "colab": {
          "base_uri": "https://localhost:8080/"
        },
        "id": "FdqaEAgfb0vx",
        "outputId": "b48ea720-bd2e-47e6-b077-ebd170a43ed2"
      },
      "source": [
        "print(\"I am %s. I am %s years old\" % (name, age))"
      ],
      "execution_count": 3,
      "outputs": [
        {
          "output_type": "stream",
          "text": [
            "I am Andy. I am 20 years old\n"
          ],
          "name": "stdout"
        }
      ]
    },
    {
      "cell_type": "code",
      "metadata": {
        "colab": {
          "base_uri": "https://localhost:8080/"
        },
        "id": "56u1jjWkb92G",
        "outputId": "d3e305be-6f1d-4759-bf9f-aa6318f8858a"
      },
      "source": [
        "print(\"I am {}. I am {} years old\".format(name, age))"
      ],
      "execution_count": 4,
      "outputs": [
        {
          "output_type": "stream",
          "text": [
            "I am Andy. I am 20 years old\n"
          ],
          "name": "stdout"
        }
      ]
    },
    {
      "cell_type": "code",
      "metadata": {
        "colab": {
          "base_uri": "https://localhost:8080/"
        },
        "id": "SQqx5g9lb-th",
        "outputId": "69ba6c7d-08d6-4f2a-9171-4dc6b9c7c11e"
      },
      "source": [
        "print(\"I am {name}. I am {age} years old\".format(name = name, age = age))"
      ],
      "execution_count": 5,
      "outputs": [
        {
          "output_type": "stream",
          "text": [
            "I am Andy. I am 20 years old\n"
          ],
          "name": "stdout"
        }
      ]
    },
    {
      "cell_type": "code",
      "metadata": {
        "colab": {
          "base_uri": "https://localhost:8080/"
        },
        "id": "6sGUedi2b_js",
        "outputId": "b2fdf3d9-ae6d-456a-de39-8bfef86aff60"
      },
      "source": [
        "data = {'name':'Andy','age':20}\n",
        "print(\"I am {name}. I am {age} years old\".format(**data))"
      ],
      "execution_count": 6,
      "outputs": [
        {
          "output_type": "stream",
          "text": [
            "I am Andy. I am 20 years old\n"
          ],
          "name": "stdout"
        }
      ]
    },
    {
      "cell_type": "code",
      "metadata": {
        "colab": {
          "base_uri": "https://localhost:8080/"
        },
        "id": "TEamPWP9cBEU",
        "outputId": "ff099366-e17c-4c08-c5b8-436f27d2db4e"
      },
      "source": [
        "print(f\"I am {name}. I am {age} years old\")"
      ],
      "execution_count": 7,
      "outputs": [
        {
          "output_type": "stream",
          "text": [
            "I am Andy. I am 20 years old\n"
          ],
          "name": "stdout"
        }
      ]
    },
    {
      "cell_type": "code",
      "metadata": {
        "colab": {
          "base_uri": "https://localhost:8080/"
        },
        "id": "N4AyNRYEcCJY",
        "outputId": "aa646f6b-9d01-46db-9ada-1d893ed211f0"
      },
      "source": [
        "num1 = 4\n",
        "num2 = 5\n",
        "print(f\"The sum of {num1} and {num2} is {num1+num2}.\")"
      ],
      "execution_count": 8,
      "outputs": [
        {
          "output_type": "stream",
          "text": [
            "The sum of 4 and 5 is 9.\n"
          ],
          "name": "stdout"
        }
      ]
    },
    {
      "cell_type": "code",
      "metadata": {
        "colab": {
          "base_uri": "https://localhost:8080/"
        },
        "id": "saTjnsZlcDwY",
        "outputId": "ad0a76ee-f263-444d-e0d4-ed8a1c61d18c"
      },
      "source": [
        "def totalFruits(apples,oranges):\n",
        "    return apples+oranges\n",
        "    \n",
        "    \n",
        "data = {'name':'Andy','age':20}\n",
        "\n",
        "apples = 20\n",
        "oranges = 30\n",
        "\n",
        "print(f\"{data['name']} has {totalFruits(apples,oranges)} fruits\")"
      ],
      "execution_count": 10,
      "outputs": [
        {
          "output_type": "stream",
          "text": [
            "Andy has 50 fruits\n"
          ],
          "name": "stdout"
        }
      ]
    },
    {
      "cell_type": "code",
      "metadata": {
        "colab": {
          "base_uri": "https://localhost:8080/"
        },
        "id": "Gj5hF0_zcFLp",
        "outputId": "9adba3af-f750-45a3-bbac-8f67865abffe"
      },
      "source": [
        "num1 = 4\n",
        "num2 = 5\n",
        "print(f'''The sum of \n",
        "{num1} and \n",
        "{num2} is \n",
        "{num1+num2}.''')"
      ],
      "execution_count": 11,
      "outputs": [
        {
          "output_type": "stream",
          "text": [
            "The sum of \n",
            "4 and \n",
            "5 is \n",
            "9.\n"
          ],
          "name": "stdout"
        }
      ]
    },
    {
      "cell_type": "code",
      "metadata": {
        "colab": {
          "base_uri": "https://localhost:8080/"
        },
        "id": "vbZ4ZXvacKiC",
        "outputId": "6514cfe8-8441-42ff-ae6d-9bf8a6339101"
      },
      "source": [
        "numFloat = 10.23456678\n",
        "print(f'Printing Float with 2 decimals: {numFloat:.2f}')"
      ],
      "execution_count": 12,
      "outputs": [
        {
          "output_type": "stream",
          "text": [
            "Printing Float with 2 decimals: 10.23\n"
          ],
          "name": "stdout"
        }
      ]
    }
  ]
}