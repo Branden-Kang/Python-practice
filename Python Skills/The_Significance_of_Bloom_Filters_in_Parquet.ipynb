{
  "nbformat": 4,
  "nbformat_minor": 0,
  "metadata": {
    "colab": {
      "provenance": [],
      "authorship_tag": "ABX9TyMFnQS+QPIMOer3EuoHMfnP"
    },
    "kernelspec": {
      "name": "python3",
      "display_name": "Python 3"
    },
    "language_info": {
      "name": "python"
    }
  },
  "cells": [
    {
      "cell_type": "markdown",
      "source": [
        "[Reference](https://medium.com/@diehardankush/the-significance-of-bloom-filters-in-parquet-a-deep-dive-c93a74e0ebcd)"
      ],
      "metadata": {
        "id": "5n_SI1Aygg0G"
      }
    },
    {
      "cell_type": "code",
      "source": [
        "!pip install bitarray"
      ],
      "metadata": {
        "colab": {
          "base_uri": "https://localhost:8080/"
        },
        "id": "o4hgW50ngyFr",
        "outputId": "e7844768-11f6-4f6a-82b6-aa65eaefca90"
      },
      "execution_count": 2,
      "outputs": [
        {
          "output_type": "stream",
          "name": "stdout",
          "text": [
            "Collecting bitarray\n",
            "  Downloading bitarray-2.8.3-cp310-cp310-manylinux_2_17_x86_64.manylinux2014_x86_64.whl (287 kB)\n",
            "\u001b[2K     \u001b[90m━━━━━━━━━━━━━━━━━━━━━━━━━━━━━━━━━━━━━━━━\u001b[0m \u001b[32m287.4/287.4 kB\u001b[0m \u001b[31m4.3 MB/s\u001b[0m eta \u001b[36m0:00:00\u001b[0m\n",
            "\u001b[?25hInstalling collected packages: bitarray\n",
            "Successfully installed bitarray-2.8.3\n"
          ]
        }
      ]
    },
    {
      "cell_type": "code",
      "execution_count": 3,
      "metadata": {
        "id": "38NO0e2HgU52"
      },
      "outputs": [],
      "source": [
        "import math\n",
        "import hashlib\n",
        "from bitarray import bitarray\n",
        "\n",
        "class BloomFilter:\n",
        "\n",
        "    def __init__(self, n_items, fp_prob):\n",
        "        '''\n",
        "        n_items : int\n",
        "            Number of items expected to be stored in bloom filter\n",
        "        fp_prob : float\n",
        "            False Positive probability in decimal\n",
        "        '''\n",
        "        # False possible probability in decimal\n",
        "        self.fp_prob = fp_prob\n",
        "\n",
        "        # Size of bit array to use\n",
        "        self.size = self.get_size(n_items,fp_prob)\n",
        "\n",
        "        # number of hash functions to use\n",
        "        self.hash_count = self.get_hash_count(self.size,n_items)\n",
        "\n",
        "        # Bit array of given size\n",
        "        self.bit_array = bitarray(self.size)\n",
        "\n",
        "        # initialize all bits as 0\n",
        "        self.bit_array.setall(0)\n",
        "\n",
        "    def add(self, item):\n",
        "        '''\n",
        "        Add an item in the filter\n",
        "        '''\n",
        "        for i in range(self.hash_count):\n",
        "            digest = hashlib.md5(str(item).encode('utf-8'))\n",
        "            # perform double hashing\n",
        "            result = int(digest.hexdigest(), 16)\n",
        "            bit = result % self.size\n",
        "            self.bit_array[bit] = True\n",
        "\n",
        "    def check(self, item):\n",
        "        '''\n",
        "        Check for existence of an item in filter\n",
        "        '''\n",
        "        for i in range(self.hash_count):\n",
        "            digest = hashlib.md5(str(item).encode('utf-8'))\n",
        "            result = int(digest.hexdigest(), 16)\n",
        "            bit = result % self.size\n",
        "            if self.bit_array[bit] == False:\n",
        "                return False\n",
        "        return True\n",
        "\n",
        "    @classmethod\n",
        "    def get_size(self,n,p):\n",
        "        '''\n",
        "        Return the size of bit array(m) to be used\n",
        "        '''\n",
        "        m = -(n * math.log(p))/(math.log(2)**2)\n",
        "        return int(m)\n",
        "\n",
        "    @classmethod\n",
        "    def get_hash_count(self, m, n):\n",
        "        '''\n",
        "        Return the hash function(k) to be used\n",
        "        '''\n",
        "        k = (m/n) * math.log(2)\n",
        "        return int(k)"
      ]
    },
    {
      "cell_type": "code",
      "source": [
        "from random import shuffle\n",
        "\n",
        "n = 20  # no of items to add\n",
        "p = 0.05  # false positive probability\n",
        "\n",
        "bloomf = BloomFilter(n,p)\n",
        "print(\"Size of bit array: {}\".format(bloomf.size))\n",
        "print(\"False positive Probability: {}\".format(bloomf.fp_prob))\n",
        "print(\"Number of hash functions: {}\".format(bloomf.hash_count))\n",
        "\n",
        "# words to be added\n",
        "word_present = ['abound','abounds','abundance','abundant','accessable',\n",
        "                'bloom','blossom','bolster','bonny','bonus','bonuses',\n",
        "                'coherent','cohesive','colorful','comely','comfort',\n",
        "                'gems','generosity','generous','generously','genial']\n",
        "\n",
        "# word not added\n",
        "word_absent = ['bluff','cheater','hate','war','humanity',\n",
        "               'racism','hurt','nuke','gloomy','facebook',\n",
        "               'geeksforgeeks','twitter']\n",
        "\n",
        "for item in word_present:\n",
        "    bloomf.add(item)\n",
        "\n",
        "shuffle(word_present)\n",
        "shuffle(word_absent)\n",
        "\n",
        "test_words = word_present[:10] + word_absent\n",
        "shuffle(test_words)\n",
        "\n",
        "for word in test_words:\n",
        "    if bloomf.check(word):\n",
        "        if word in word_absent:\n",
        "            print(\"'{}' is a false positive!\".format(word))\n",
        "        else:\n",
        "            print(\"'{}' is probably present!\".format(word))\n",
        "    else:\n",
        "        print(\"'{}' is definitely not present!\".format(word))"
      ],
      "metadata": {
        "colab": {
          "base_uri": "https://localhost:8080/"
        },
        "id": "xieTM_9Agsio",
        "outputId": "a39ed6d8-f130-434e-d5f0-7f062c4ecb3a"
      },
      "execution_count": 4,
      "outputs": [
        {
          "output_type": "stream",
          "name": "stdout",
          "text": [
            "Size of bit array: 124\n",
            "False positive Probability: 0.05\n",
            "Number of hash functions: 4\n",
            "'hate' is definitely not present!\n",
            "'accessable' is probably present!\n",
            "'bluff' is a false positive!\n",
            "'hurt' is a false positive!\n",
            "'bonus' is probably present!\n",
            "'abound' is probably present!\n",
            "'comfort' is probably present!\n",
            "'genial' is probably present!\n",
            "'war' is definitely not present!\n",
            "'cheater' is definitely not present!\n",
            "'twitter' is definitely not present!\n",
            "'abounds' is probably present!\n",
            "'gems' is probably present!\n",
            "'bolster' is probably present!\n",
            "'gloomy' is definitely not present!\n",
            "'cohesive' is probably present!\n",
            "'nuke' is definitely not present!\n",
            "'geeksforgeeks' is definitely not present!\n",
            "'facebook' is definitely not present!\n",
            "'blossom' is probably present!\n",
            "'racism' is definitely not present!\n",
            "'humanity' is definitely not present!\n"
          ]
        }
      ]
    }
  ]
}
