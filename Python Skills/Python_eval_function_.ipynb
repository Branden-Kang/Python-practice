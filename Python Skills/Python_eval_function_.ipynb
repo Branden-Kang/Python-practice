{
  "nbformat": 4,
  "nbformat_minor": 0,
  "metadata": {
    "colab": {
      "name": "Python eval function .ipynb",
      "provenance": [],
      "authorship_tag": "ABX9TyPrkRE5NCcRp6mWwIh79PwN"
    },
    "kernelspec": {
      "name": "python3",
      "display_name": "Python 3"
    }
  },
  "cells": [
    {
      "cell_type": "markdown",
      "metadata": {
        "id": "JvoAlb5sZS0R"
      },
      "source": [
        "[Reference](https://levelup.gitconnected.com/python-eval-function-the-right-and-wrong-way-111bc3f78c14)"
      ]
    },
    {
      "cell_type": "code",
      "metadata": {
        "colab": {
          "base_uri": "https://localhost:8080/"
        },
        "id": "0kHREL3OLbci",
        "outputId": "3daeda40-7df7-4c15-cc2d-0391d2b13e39"
      },
      "source": [
        "number = 1\n",
        "eval('number + 2') "
      ],
      "execution_count": 46,
      "outputs": [
        {
          "output_type": "execute_result",
          "data": {
            "text/plain": [
              "3"
            ]
          },
          "metadata": {
            "tags": []
          },
          "execution_count": 46
        }
      ]
    },
    {
      "cell_type": "code",
      "metadata": {
        "colab": {
          "base_uri": "https://localhost:8080/",
          "height": 130
        },
        "id": "fE8mO_0XLcJZ",
        "outputId": "62bc51af-9ea9-447e-e40b-8e57a2c15848"
      },
      "source": [
        "eval('number = 1 + 2')"
      ],
      "execution_count": 48,
      "outputs": [
        {
          "output_type": "error",
          "ename": "SyntaxError",
          "evalue": "ignored",
          "traceback": [
            "\u001b[0;36m  File \u001b[0;32m\"<string>\"\u001b[0;36m, line \u001b[0;32m1\u001b[0m\n\u001b[0;31m    number = 1 + 2\u001b[0m\n\u001b[0m           ^\u001b[0m\n\u001b[0;31mSyntaxError\u001b[0m\u001b[0;31m:\u001b[0m invalid syntax\n"
          ]
        }
      ]
    },
    {
      "cell_type": "code",
      "metadata": {
        "colab": {
          "base_uri": "https://localhost:8080/"
        },
        "id": "XZjGSg_1Lnnh",
        "outputId": "d29cd7f3-c06f-4d4d-a4f8-29542409783b"
      },
      "source": [
        "user_input = input('Enter command:')\n",
        "\n",
        "eval(user_input)"
      ],
      "execution_count": 50,
      "outputs": [
        {
          "output_type": "stream",
          "text": [
            "Enter command:__import__('os').system('pwd')\n"
          ],
          "name": "stdout"
        },
        {
          "output_type": "execute_result",
          "data": {
            "text/plain": [
              "0"
            ]
          },
          "metadata": {
            "tags": []
          },
          "execution_count": 50
        }
      ]
    },
    {
      "cell_type": "code",
      "metadata": {
        "id": "2QNLx6OWLpWH"
      },
      "source": [
        "def call_function(module, function_selector, param={}):\n",
        "    function_string=''\n",
        "    function_dict = {\"category\": \"get_chuck_joke_category\",\n",
        "                     \"id\": \"get_chuck_joke_id\",\n",
        "                     \"content\": \"get_url_content\"\n",
        "                    }\n",
        "    if function_selector == 'id':\n",
        "        function_string = 'module.{0}(random_param=\"{1}\")'.format(function_dict[function_selector], next(iter(param.values())))\n",
        "    elif function_selector == 'category':\n",
        "        function_string = 'module.{0}(category=\"{1}\")'.format(function_dict[function_selector], next(iter(param.values())))\n",
        "    elif function_selector == 'content':\n",
        "        function_string = 'module.{0}(random_param=\"{1}\")'.format(function_dict[function_selector], next(iter(param.values())))\n",
        "    else: \n",
        "        print('Unable to recognise the function chosen')\n",
        "\n",
        "    print('Function called is: {0}'.format(function_string))\n",
        "    response = eval(function_string)\n",
        "    print('Successfully called function')\n",
        "    return response"
      ],
      "execution_count": 51,
      "outputs": []
    },
    {
      "cell_type": "code",
      "metadata": {
        "id": "EzR98U6AL7OG"
      },
      "source": [
        "def main():\n",
        "    response = {}\n",
        "    function_to_call = ['category', 'id', 'content']\n",
        "    category_ = ['movie', 'sport', 'music']\n",
        "    lib_ = shared_lib()\n",
        "    for function_item in function_to_call:\n",
        "        rand_int = randint(0,2)\n",
        "        param = {1:1, 2:2}\n",
        "        if function_item == 'category':\n",
        "            selected_category = category_[rand_int]\n",
        "            param = {'category_chosen': selected_category}\n",
        "        funct_key = function_item\n",
        "        store_key = '{0}_{1}'.format('call', function_item)\n",
        "        response[store_key] = (call_function(module=lib_, function_selector=funct_key, param=param))\n",
        "        print('------------------------------------------------------')\n",
        "        time.sleep(0.5)\n",
        "    print('         ')\n",
        "    print(\"                        ### RESULT ####                 \")\n",
        "    print('         ')\n",
        "    pp(response)\n",
        "    print('         ')"
      ],
      "execution_count": 52,
      "outputs": []
    },
    {
      "cell_type": "code",
      "metadata": {
        "id": "tkhf7L0vcSyu"
      },
      "source": [
        "\n",
        "import requests\n",
        "from pprint import pprint as pp\n",
        "\n",
        "\n",
        "class SharedLibrary:\n",
        "    def __init__(self, url=None):\n",
        "        self.url = ''\n",
        "        if not url:\n",
        "           self.url = \"https://api.chucknorris.io/jokes/random\"\n",
        "        print('Shared library activated')\n",
        "\n",
        "    def get_chuck_joke_category(self, category=None):\n",
        "        if not category:\n",
        "            category='movie'\n",
        "        self.set_url('https://api.chucknorris.io/jokes/random?category={0}'.format(category))\n",
        "        print('Get joke category called in shared library')\n",
        "        joke_json = self.make_request()\n",
        "        return joke_json['value']\n",
        "\n",
        "    def get_chuck_joke_id(self, random_param='a_param'):\n",
        "        print('Get joke id called in shared library')\n",
        "        joke_json = self.make_request()\n",
        "        return joke_json['id']\n",
        "\n",
        "    def get_url_content(self, random_param='a_param'):\n",
        "        print('Get joke content called in shared library')\n",
        "        joke_json = self.make_request()\n",
        "        return joke_json\n",
        "\n",
        "    def set_url(self, url):\n",
        "        self.url = url\n",
        "\n",
        "    def make_request(self, ):\n",
        "        req = requests.get(self.url)\n",
        "        data = req.json()\n",
        "        try: \n",
        "            req.raise_for_status()\n",
        "        except requests.exceptions.HTTPError as e: \n",
        "            print('HTTP Error: {0}'.format(e))\n",
        "\n",
        "        return data"
      ],
      "execution_count": 53,
      "outputs": []
    }
  ]
}