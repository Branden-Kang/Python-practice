{
  "nbformat": 4,
  "nbformat_minor": 0,
  "metadata": {
    "colab": {
      "provenance": [],
      "authorship_tag": "ABX9TyO39FEJ9/0GB0ywF1Gv6KCf"
    },
    "kernelspec": {
      "name": "python3",
      "display_name": "Python 3"
    },
    "language_info": {
      "name": "python"
    }
  },
  "cells": [
    {
      "cell_type": "markdown",
      "source": [
        "[Reference](https://medium.com/@tricky16122000/why-pythons-dataclasses-are-a-game-changer-for-clean-code-e779528f5ee9)"
      ],
      "metadata": {
        "id": "rJNTBRIBNxKJ"
      }
    },
    {
      "cell_type": "markdown",
      "source": [
        "# 1. Clean Code Starts with Less Code"
      ],
      "metadata": {
        "id": "s2_rjRg1N8aj"
      }
    },
    {
      "cell_type": "code",
      "execution_count": 1,
      "metadata": {
        "id": "5KKIwUR_Ne23"
      },
      "outputs": [],
      "source": [
        "class User:\n",
        "    def __init__(self, name, age):\n",
        "        self.name = name\n",
        "        self.age = age\n",
        "\n",
        "    def __repr__(self):\n",
        "        return f'User(name={self.name}, age={self.age})'\n",
        "    def __eq__(self, other):\n",
        "        return isinstance(other, User) and self.name == other.name and self.age == other.age"
      ]
    },
    {
      "cell_type": "code",
      "source": [
        "from dataclasses import dataclass\n",
        "\n",
        "@dataclass\n",
        "class User:\n",
        "    name: str\n",
        "    age: int"
      ],
      "metadata": {
        "id": "kof7i2GRN0kW"
      },
      "execution_count": 2,
      "outputs": []
    },
    {
      "cell_type": "markdown",
      "source": [
        "# 2. You’re Not Special"
      ],
      "metadata": {
        "id": "nLCOt98BN6rf"
      }
    },
    {
      "cell_type": "code",
      "source": [
        "@dataclass\n",
        "class Product:\n",
        "    name: str\n",
        "    price: float = 9.99"
      ],
      "metadata": {
        "id": "jgXNHmjPN2TS"
      },
      "execution_count": 3,
      "outputs": []
    },
    {
      "cell_type": "code",
      "source": [
        "@dataclass\n",
        "class Product:\n",
        "    name: str\n",
        "    price: float\n",
        "\n",
        "def __post_init__(self):\n",
        "        if self.price < 0:\n",
        "            raise ValueError(\"Price cannot be negative.\")"
      ],
      "metadata": {
        "id": "2D-78ry_N4wG"
      },
      "execution_count": 4,
      "outputs": []
    },
    {
      "cell_type": "markdown",
      "source": [
        "# 3. Mutation Control Without the Drama"
      ],
      "metadata": {
        "id": "kqyEwoTpN_MT"
      }
    },
    {
      "cell_type": "code",
      "source": [
        "@dataclass(frozen=True)\n",
        "class Config:\n",
        "    host: str\n",
        "    port: int"
      ],
      "metadata": {
        "id": "wZT-UJPdN5EZ"
      },
      "execution_count": 5,
      "outputs": []
    },
    {
      "cell_type": "markdown",
      "source": [
        "# Type Hints Without Tears"
      ],
      "metadata": {
        "id": "NILIaB-xOBWp"
      }
    },
    {
      "cell_type": "code",
      "source": [
        "@dataclass\n",
        "class Employee:\n",
        "    id: int\n",
        "    name: str\n",
        "    is_active: bool"
      ],
      "metadata": {
        "id": "zKeAPmaROAS6"
      },
      "execution_count": 6,
      "outputs": []
    },
    {
      "cell_type": "markdown",
      "source": [
        "# 5. More Than Just Pretty Faces"
      ],
      "metadata": {
        "id": "fyjObvPaOFvv"
      }
    },
    {
      "cell_type": "code",
      "source": [
        "from dataclasses import asdict\n",
        "\n",
        "user = User(\"Alice\", 30)\n",
        "print(asdict(user))"
      ],
      "metadata": {
        "colab": {
          "base_uri": "https://localhost:8080/"
        },
        "id": "KSGXkmlzOEjK",
        "outputId": "7239cb74-732d-4e95-a5d0-b634ab2d4f10"
      },
      "execution_count": 7,
      "outputs": [
        {
          "output_type": "stream",
          "name": "stdout",
          "text": [
            "{'name': 'Alice', 'age': 30}\n"
          ]
        }
      ]
    }
  ]
}
