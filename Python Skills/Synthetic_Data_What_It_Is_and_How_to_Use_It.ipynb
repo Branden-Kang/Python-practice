{
  "nbformat": 4,
  "nbformat_minor": 0,
  "metadata": {
    "colab": {
      "provenance": [],
      "gpuType": "T4",
      "authorship_tag": "ABX9TyOWYR0+r0IneUWSDEj3botK"
    },
    "kernelspec": {
      "name": "python3",
      "display_name": "Python 3"
    },
    "language_info": {
      "name": "python"
    },
    "accelerator": "GPU",
    "widgets": {
      "application/vnd.jupyter.widget-state+json": {
        "31e7a3d7521546a3aa4fb4df27f235de": {
          "model_module": "@jupyter-widgets/controls",
          "model_name": "HBoxModel",
          "model_module_version": "1.5.0",
          "state": {
            "_dom_classes": [],
            "_model_module": "@jupyter-widgets/controls",
            "_model_module_version": "1.5.0",
            "_model_name": "HBoxModel",
            "_view_count": null,
            "_view_module": "@jupyter-widgets/controls",
            "_view_module_version": "1.5.0",
            "_view_name": "HBoxView",
            "box_style": "",
            "children": [
              "IPY_MODEL_5b4015f83be843999bdf0b97614cf234",
              "IPY_MODEL_2681dedfefdf4366a8af569ee66adb18",
              "IPY_MODEL_cd7d86dff3a04894aca742fd5970bd1e"
            ],
            "layout": "IPY_MODEL_ed8965ab8f564795a202cdcc785617a9"
          }
        },
        "5b4015f83be843999bdf0b97614cf234": {
          "model_module": "@jupyter-widgets/controls",
          "model_name": "HTMLModel",
          "model_module_version": "1.5.0",
          "state": {
            "_dom_classes": [],
            "_model_module": "@jupyter-widgets/controls",
            "_model_module_version": "1.5.0",
            "_model_name": "HTMLModel",
            "_view_count": null,
            "_view_module": "@jupyter-widgets/controls",
            "_view_module_version": "1.5.0",
            "_view_name": "HTMLView",
            "description": "",
            "description_tooltip": null,
            "layout": "IPY_MODEL_18638b34ae8c4eb2afd1be4fe128c9e5",
            "placeholder": "​",
            "style": "IPY_MODEL_2084444927a04e85821772143dec1860",
            "value": "tokenizer_config.json: 100%"
          }
        },
        "2681dedfefdf4366a8af569ee66adb18": {
          "model_module": "@jupyter-widgets/controls",
          "model_name": "FloatProgressModel",
          "model_module_version": "1.5.0",
          "state": {
            "_dom_classes": [],
            "_model_module": "@jupyter-widgets/controls",
            "_model_module_version": "1.5.0",
            "_model_name": "FloatProgressModel",
            "_view_count": null,
            "_view_module": "@jupyter-widgets/controls",
            "_view_module_version": "1.5.0",
            "_view_name": "ProgressView",
            "bar_style": "success",
            "description": "",
            "description_tooltip": null,
            "layout": "IPY_MODEL_f7031964452b47b8b63f1693500b0253",
            "max": 200,
            "min": 0,
            "orientation": "horizontal",
            "style": "IPY_MODEL_d8988bf687f1452784add9cd683799a8",
            "value": 200
          }
        },
        "cd7d86dff3a04894aca742fd5970bd1e": {
          "model_module": "@jupyter-widgets/controls",
          "model_name": "HTMLModel",
          "model_module_version": "1.5.0",
          "state": {
            "_dom_classes": [],
            "_model_module": "@jupyter-widgets/controls",
            "_model_module_version": "1.5.0",
            "_model_name": "HTMLModel",
            "_view_count": null,
            "_view_module": "@jupyter-widgets/controls",
            "_view_module_version": "1.5.0",
            "_view_name": "HTMLView",
            "description": "",
            "description_tooltip": null,
            "layout": "IPY_MODEL_1c7d2920d9594d9eaec8fa0fbc84c6e5",
            "placeholder": "​",
            "style": "IPY_MODEL_cd49735d4a4d4fa3ae9da6134d6fed26",
            "value": " 200/200 [00:00&lt;00:00, 7.42kB/s]"
          }
        },
        "ed8965ab8f564795a202cdcc785617a9": {
          "model_module": "@jupyter-widgets/base",
          "model_name": "LayoutModel",
          "model_module_version": "1.2.0",
          "state": {
            "_model_module": "@jupyter-widgets/base",
            "_model_module_version": "1.2.0",
            "_model_name": "LayoutModel",
            "_view_count": null,
            "_view_module": "@jupyter-widgets/base",
            "_view_module_version": "1.2.0",
            "_view_name": "LayoutView",
            "align_content": null,
            "align_items": null,
            "align_self": null,
            "border": null,
            "bottom": null,
            "display": null,
            "flex": null,
            "flex_flow": null,
            "grid_area": null,
            "grid_auto_columns": null,
            "grid_auto_flow": null,
            "grid_auto_rows": null,
            "grid_column": null,
            "grid_gap": null,
            "grid_row": null,
            "grid_template_areas": null,
            "grid_template_columns": null,
            "grid_template_rows": null,
            "height": null,
            "justify_content": null,
            "justify_items": null,
            "left": null,
            "margin": null,
            "max_height": null,
            "max_width": null,
            "min_height": null,
            "min_width": null,
            "object_fit": null,
            "object_position": null,
            "order": null,
            "overflow": null,
            "overflow_x": null,
            "overflow_y": null,
            "padding": null,
            "right": null,
            "top": null,
            "visibility": null,
            "width": null
          }
        },
        "18638b34ae8c4eb2afd1be4fe128c9e5": {
          "model_module": "@jupyter-widgets/base",
          "model_name": "LayoutModel",
          "model_module_version": "1.2.0",
          "state": {
            "_model_module": "@jupyter-widgets/base",
            "_model_module_version": "1.2.0",
            "_model_name": "LayoutModel",
            "_view_count": null,
            "_view_module": "@jupyter-widgets/base",
            "_view_module_version": "1.2.0",
            "_view_name": "LayoutView",
            "align_content": null,
            "align_items": null,
            "align_self": null,
            "border": null,
            "bottom": null,
            "display": null,
            "flex": null,
            "flex_flow": null,
            "grid_area": null,
            "grid_auto_columns": null,
            "grid_auto_flow": null,
            "grid_auto_rows": null,
            "grid_column": null,
            "grid_gap": null,
            "grid_row": null,
            "grid_template_areas": null,
            "grid_template_columns": null,
            "grid_template_rows": null,
            "height": null,
            "justify_content": null,
            "justify_items": null,
            "left": null,
            "margin": null,
            "max_height": null,
            "max_width": null,
            "min_height": null,
            "min_width": null,
            "object_fit": null,
            "object_position": null,
            "order": null,
            "overflow": null,
            "overflow_x": null,
            "overflow_y": null,
            "padding": null,
            "right": null,
            "top": null,
            "visibility": null,
            "width": null
          }
        },
        "2084444927a04e85821772143dec1860": {
          "model_module": "@jupyter-widgets/controls",
          "model_name": "DescriptionStyleModel",
          "model_module_version": "1.5.0",
          "state": {
            "_model_module": "@jupyter-widgets/controls",
            "_model_module_version": "1.5.0",
            "_model_name": "DescriptionStyleModel",
            "_view_count": null,
            "_view_module": "@jupyter-widgets/base",
            "_view_module_version": "1.2.0",
            "_view_name": "StyleView",
            "description_width": ""
          }
        },
        "f7031964452b47b8b63f1693500b0253": {
          "model_module": "@jupyter-widgets/base",
          "model_name": "LayoutModel",
          "model_module_version": "1.2.0",
          "state": {
            "_model_module": "@jupyter-widgets/base",
            "_model_module_version": "1.2.0",
            "_model_name": "LayoutModel",
            "_view_count": null,
            "_view_module": "@jupyter-widgets/base",
            "_view_module_version": "1.2.0",
            "_view_name": "LayoutView",
            "align_content": null,
            "align_items": null,
            "align_self": null,
            "border": null,
            "bottom": null,
            "display": null,
            "flex": null,
            "flex_flow": null,
            "grid_area": null,
            "grid_auto_columns": null,
            "grid_auto_flow": null,
            "grid_auto_rows": null,
            "grid_column": null,
            "grid_gap": null,
            "grid_row": null,
            "grid_template_areas": null,
            "grid_template_columns": null,
            "grid_template_rows": null,
            "height": null,
            "justify_content": null,
            "justify_items": null,
            "left": null,
            "margin": null,
            "max_height": null,
            "max_width": null,
            "min_height": null,
            "min_width": null,
            "object_fit": null,
            "object_position": null,
            "order": null,
            "overflow": null,
            "overflow_x": null,
            "overflow_y": null,
            "padding": null,
            "right": null,
            "top": null,
            "visibility": null,
            "width": null
          }
        },
        "d8988bf687f1452784add9cd683799a8": {
          "model_module": "@jupyter-widgets/controls",
          "model_name": "ProgressStyleModel",
          "model_module_version": "1.5.0",
          "state": {
            "_model_module": "@jupyter-widgets/controls",
            "_model_module_version": "1.5.0",
            "_model_name": "ProgressStyleModel",
            "_view_count": null,
            "_view_module": "@jupyter-widgets/base",
            "_view_module_version": "1.2.0",
            "_view_name": "StyleView",
            "bar_color": null,
            "description_width": ""
          }
        },
        "1c7d2920d9594d9eaec8fa0fbc84c6e5": {
          "model_module": "@jupyter-widgets/base",
          "model_name": "LayoutModel",
          "model_module_version": "1.2.0",
          "state": {
            "_model_module": "@jupyter-widgets/base",
            "_model_module_version": "1.2.0",
            "_model_name": "LayoutModel",
            "_view_count": null,
            "_view_module": "@jupyter-widgets/base",
            "_view_module_version": "1.2.0",
            "_view_name": "LayoutView",
            "align_content": null,
            "align_items": null,
            "align_self": null,
            "border": null,
            "bottom": null,
            "display": null,
            "flex": null,
            "flex_flow": null,
            "grid_area": null,
            "grid_auto_columns": null,
            "grid_auto_flow": null,
            "grid_auto_rows": null,
            "grid_column": null,
            "grid_gap": null,
            "grid_row": null,
            "grid_template_areas": null,
            "grid_template_columns": null,
            "grid_template_rows": null,
            "height": null,
            "justify_content": null,
            "justify_items": null,
            "left": null,
            "margin": null,
            "max_height": null,
            "max_width": null,
            "min_height": null,
            "min_width": null,
            "object_fit": null,
            "object_position": null,
            "order": null,
            "overflow": null,
            "overflow_x": null,
            "overflow_y": null,
            "padding": null,
            "right": null,
            "top": null,
            "visibility": null,
            "width": null
          }
        },
        "cd49735d4a4d4fa3ae9da6134d6fed26": {
          "model_module": "@jupyter-widgets/controls",
          "model_name": "DescriptionStyleModel",
          "model_module_version": "1.5.0",
          "state": {
            "_model_module": "@jupyter-widgets/controls",
            "_model_module_version": "1.5.0",
            "_model_name": "DescriptionStyleModel",
            "_view_count": null,
            "_view_module": "@jupyter-widgets/base",
            "_view_module_version": "1.2.0",
            "_view_name": "StyleView",
            "description_width": ""
          }
        },
        "42decd9dc4ad4b77b22d0b7c50ea6c55": {
          "model_module": "@jupyter-widgets/controls",
          "model_name": "HBoxModel",
          "model_module_version": "1.5.0",
          "state": {
            "_dom_classes": [],
            "_model_module": "@jupyter-widgets/controls",
            "_model_module_version": "1.5.0",
            "_model_name": "HBoxModel",
            "_view_count": null,
            "_view_module": "@jupyter-widgets/controls",
            "_view_module_version": "1.5.0",
            "_view_name": "HBoxView",
            "box_style": "",
            "children": [
              "IPY_MODEL_1abdc453695c464dbfcbcd53b551982f",
              "IPY_MODEL_cde8fdea17ef479e89de352cd5d38691",
              "IPY_MODEL_ee174afba7c54ea2844082939b0c6b8c"
            ],
            "layout": "IPY_MODEL_e7295fc79e3040f4a131d403140378b1"
          }
        },
        "1abdc453695c464dbfcbcd53b551982f": {
          "model_module": "@jupyter-widgets/controls",
          "model_name": "HTMLModel",
          "model_module_version": "1.5.0",
          "state": {
            "_dom_classes": [],
            "_model_module": "@jupyter-widgets/controls",
            "_model_module_version": "1.5.0",
            "_model_name": "HTMLModel",
            "_view_count": null,
            "_view_module": "@jupyter-widgets/controls",
            "_view_module_version": "1.5.0",
            "_view_name": "HTMLView",
            "description": "",
            "description_tooltip": null,
            "layout": "IPY_MODEL_0e158f6c948d4f20a5334cccd0632a28",
            "placeholder": "​",
            "style": "IPY_MODEL_e34f1ade2fde494fb00c9dff6dd023a2",
            "value": "vocab.json: "
          }
        },
        "cde8fdea17ef479e89de352cd5d38691": {
          "model_module": "@jupyter-widgets/controls",
          "model_name": "FloatProgressModel",
          "model_module_version": "1.5.0",
          "state": {
            "_dom_classes": [],
            "_model_module": "@jupyter-widgets/controls",
            "_model_module_version": "1.5.0",
            "_model_name": "FloatProgressModel",
            "_view_count": null,
            "_view_module": "@jupyter-widgets/controls",
            "_view_module_version": "1.5.0",
            "_view_name": "ProgressView",
            "bar_style": "success",
            "description": "",
            "description_tooltip": null,
            "layout": "IPY_MODEL_af700955b4c14a9fbb24add8dd169dff",
            "max": 1,
            "min": 0,
            "orientation": "horizontal",
            "style": "IPY_MODEL_e3f9bf7baef54378aeaffae7c72495df",
            "value": 1
          }
        },
        "ee174afba7c54ea2844082939b0c6b8c": {
          "model_module": "@jupyter-widgets/controls",
          "model_name": "HTMLModel",
          "model_module_version": "1.5.0",
          "state": {
            "_dom_classes": [],
            "_model_module": "@jupyter-widgets/controls",
            "_model_module_version": "1.5.0",
            "_model_name": "HTMLModel",
            "_view_count": null,
            "_view_module": "@jupyter-widgets/controls",
            "_view_module_version": "1.5.0",
            "_view_name": "HTMLView",
            "description": "",
            "description_tooltip": null,
            "layout": "IPY_MODEL_3144b021928b43dba18a8947f099670b",
            "placeholder": "​",
            "style": "IPY_MODEL_9cc9a441683b4d3fb3131384d0cdf4ac",
            "value": " 798k/? [00:00&lt;00:00, 10.9MB/s]"
          }
        },
        "e7295fc79e3040f4a131d403140378b1": {
          "model_module": "@jupyter-widgets/base",
          "model_name": "LayoutModel",
          "model_module_version": "1.2.0",
          "state": {
            "_model_module": "@jupyter-widgets/base",
            "_model_module_version": "1.2.0",
            "_model_name": "LayoutModel",
            "_view_count": null,
            "_view_module": "@jupyter-widgets/base",
            "_view_module_version": "1.2.0",
            "_view_name": "LayoutView",
            "align_content": null,
            "align_items": null,
            "align_self": null,
            "border": null,
            "bottom": null,
            "display": null,
            "flex": null,
            "flex_flow": null,
            "grid_area": null,
            "grid_auto_columns": null,
            "grid_auto_flow": null,
            "grid_auto_rows": null,
            "grid_column": null,
            "grid_gap": null,
            "grid_row": null,
            "grid_template_areas": null,
            "grid_template_columns": null,
            "grid_template_rows": null,
            "height": null,
            "justify_content": null,
            "justify_items": null,
            "left": null,
            "margin": null,
            "max_height": null,
            "max_width": null,
            "min_height": null,
            "min_width": null,
            "object_fit": null,
            "object_position": null,
            "order": null,
            "overflow": null,
            "overflow_x": null,
            "overflow_y": null,
            "padding": null,
            "right": null,
            "top": null,
            "visibility": null,
            "width": null
          }
        },
        "0e158f6c948d4f20a5334cccd0632a28": {
          "model_module": "@jupyter-widgets/base",
          "model_name": "LayoutModel",
          "model_module_version": "1.2.0",
          "state": {
            "_model_module": "@jupyter-widgets/base",
            "_model_module_version": "1.2.0",
            "_model_name": "LayoutModel",
            "_view_count": null,
            "_view_module": "@jupyter-widgets/base",
            "_view_module_version": "1.2.0",
            "_view_name": "LayoutView",
            "align_content": null,
            "align_items": null,
            "align_self": null,
            "border": null,
            "bottom": null,
            "display": null,
            "flex": null,
            "flex_flow": null,
            "grid_area": null,
            "grid_auto_columns": null,
            "grid_auto_flow": null,
            "grid_auto_rows": null,
            "grid_column": null,
            "grid_gap": null,
            "grid_row": null,
            "grid_template_areas": null,
            "grid_template_columns": null,
            "grid_template_rows": null,
            "height": null,
            "justify_content": null,
            "justify_items": null,
            "left": null,
            "margin": null,
            "max_height": null,
            "max_width": null,
            "min_height": null,
            "min_width": null,
            "object_fit": null,
            "object_position": null,
            "order": null,
            "overflow": null,
            "overflow_x": null,
            "overflow_y": null,
            "padding": null,
            "right": null,
            "top": null,
            "visibility": null,
            "width": null
          }
        },
        "e34f1ade2fde494fb00c9dff6dd023a2": {
          "model_module": "@jupyter-widgets/controls",
          "model_name": "DescriptionStyleModel",
          "model_module_version": "1.5.0",
          "state": {
            "_model_module": "@jupyter-widgets/controls",
            "_model_module_version": "1.5.0",
            "_model_name": "DescriptionStyleModel",
            "_view_count": null,
            "_view_module": "@jupyter-widgets/base",
            "_view_module_version": "1.2.0",
            "_view_name": "StyleView",
            "description_width": ""
          }
        },
        "af700955b4c14a9fbb24add8dd169dff": {
          "model_module": "@jupyter-widgets/base",
          "model_name": "LayoutModel",
          "model_module_version": "1.2.0",
          "state": {
            "_model_module": "@jupyter-widgets/base",
            "_model_module_version": "1.2.0",
            "_model_name": "LayoutModel",
            "_view_count": null,
            "_view_module": "@jupyter-widgets/base",
            "_view_module_version": "1.2.0",
            "_view_name": "LayoutView",
            "align_content": null,
            "align_items": null,
            "align_self": null,
            "border": null,
            "bottom": null,
            "display": null,
            "flex": null,
            "flex_flow": null,
            "grid_area": null,
            "grid_auto_columns": null,
            "grid_auto_flow": null,
            "grid_auto_rows": null,
            "grid_column": null,
            "grid_gap": null,
            "grid_row": null,
            "grid_template_areas": null,
            "grid_template_columns": null,
            "grid_template_rows": null,
            "height": null,
            "justify_content": null,
            "justify_items": null,
            "left": null,
            "margin": null,
            "max_height": null,
            "max_width": null,
            "min_height": null,
            "min_width": null,
            "object_fit": null,
            "object_position": null,
            "order": null,
            "overflow": null,
            "overflow_x": null,
            "overflow_y": null,
            "padding": null,
            "right": null,
            "top": null,
            "visibility": null,
            "width": "20px"
          }
        },
        "e3f9bf7baef54378aeaffae7c72495df": {
          "model_module": "@jupyter-widgets/controls",
          "model_name": "ProgressStyleModel",
          "model_module_version": "1.5.0",
          "state": {
            "_model_module": "@jupyter-widgets/controls",
            "_model_module_version": "1.5.0",
            "_model_name": "ProgressStyleModel",
            "_view_count": null,
            "_view_module": "@jupyter-widgets/base",
            "_view_module_version": "1.2.0",
            "_view_name": "StyleView",
            "bar_color": null,
            "description_width": ""
          }
        },
        "3144b021928b43dba18a8947f099670b": {
          "model_module": "@jupyter-widgets/base",
          "model_name": "LayoutModel",
          "model_module_version": "1.2.0",
          "state": {
            "_model_module": "@jupyter-widgets/base",
            "_model_module_version": "1.2.0",
            "_model_name": "LayoutModel",
            "_view_count": null,
            "_view_module": "@jupyter-widgets/base",
            "_view_module_version": "1.2.0",
            "_view_name": "LayoutView",
            "align_content": null,
            "align_items": null,
            "align_self": null,
            "border": null,
            "bottom": null,
            "display": null,
            "flex": null,
            "flex_flow": null,
            "grid_area": null,
            "grid_auto_columns": null,
            "grid_auto_flow": null,
            "grid_auto_rows": null,
            "grid_column": null,
            "grid_gap": null,
            "grid_row": null,
            "grid_template_areas": null,
            "grid_template_columns": null,
            "grid_template_rows": null,
            "height": null,
            "justify_content": null,
            "justify_items": null,
            "left": null,
            "margin": null,
            "max_height": null,
            "max_width": null,
            "min_height": null,
            "min_width": null,
            "object_fit": null,
            "object_position": null,
            "order": null,
            "overflow": null,
            "overflow_x": null,
            "overflow_y": null,
            "padding": null,
            "right": null,
            "top": null,
            "visibility": null,
            "width": null
          }
        },
        "9cc9a441683b4d3fb3131384d0cdf4ac": {
          "model_module": "@jupyter-widgets/controls",
          "model_name": "DescriptionStyleModel",
          "model_module_version": "1.5.0",
          "state": {
            "_model_module": "@jupyter-widgets/controls",
            "_model_module_version": "1.5.0",
            "_model_name": "DescriptionStyleModel",
            "_view_count": null,
            "_view_module": "@jupyter-widgets/base",
            "_view_module_version": "1.2.0",
            "_view_name": "StyleView",
            "description_width": ""
          }
        },
        "101445d0065f4184911fa34a66e5b2a0": {
          "model_module": "@jupyter-widgets/controls",
          "model_name": "HBoxModel",
          "model_module_version": "1.5.0",
          "state": {
            "_dom_classes": [],
            "_model_module": "@jupyter-widgets/controls",
            "_model_module_version": "1.5.0",
            "_model_name": "HBoxModel",
            "_view_count": null,
            "_view_module": "@jupyter-widgets/controls",
            "_view_module_version": "1.5.0",
            "_view_name": "HBoxView",
            "box_style": "",
            "children": [
              "IPY_MODEL_3fe56b81f8ee45deaa4561044eb5d3d8",
              "IPY_MODEL_86f6c0ef1cbf45ee91c1d57fc86d2f32",
              "IPY_MODEL_248eb18e889543e28b1c21af30a99d36"
            ],
            "layout": "IPY_MODEL_447c8b69398e4fc1804960c31cbc572f"
          }
        },
        "3fe56b81f8ee45deaa4561044eb5d3d8": {
          "model_module": "@jupyter-widgets/controls",
          "model_name": "HTMLModel",
          "model_module_version": "1.5.0",
          "state": {
            "_dom_classes": [],
            "_model_module": "@jupyter-widgets/controls",
            "_model_module_version": "1.5.0",
            "_model_name": "HTMLModel",
            "_view_count": null,
            "_view_module": "@jupyter-widgets/controls",
            "_view_module_version": "1.5.0",
            "_view_name": "HTMLView",
            "description": "",
            "description_tooltip": null,
            "layout": "IPY_MODEL_388cebe7a7f844fa99dc84f55949ea41",
            "placeholder": "​",
            "style": "IPY_MODEL_f629dd95f9cf44a0a4944677dd02b066",
            "value": "merges.txt: "
          }
        },
        "86f6c0ef1cbf45ee91c1d57fc86d2f32": {
          "model_module": "@jupyter-widgets/controls",
          "model_name": "FloatProgressModel",
          "model_module_version": "1.5.0",
          "state": {
            "_dom_classes": [],
            "_model_module": "@jupyter-widgets/controls",
            "_model_module_version": "1.5.0",
            "_model_name": "FloatProgressModel",
            "_view_count": null,
            "_view_module": "@jupyter-widgets/controls",
            "_view_module_version": "1.5.0",
            "_view_name": "ProgressView",
            "bar_style": "success",
            "description": "",
            "description_tooltip": null,
            "layout": "IPY_MODEL_a01b211792fc44339b23bde54a4141a6",
            "max": 1,
            "min": 0,
            "orientation": "horizontal",
            "style": "IPY_MODEL_e7588c0cadcc421db5d11b441480e062",
            "value": 1
          }
        },
        "248eb18e889543e28b1c21af30a99d36": {
          "model_module": "@jupyter-widgets/controls",
          "model_name": "HTMLModel",
          "model_module_version": "1.5.0",
          "state": {
            "_dom_classes": [],
            "_model_module": "@jupyter-widgets/controls",
            "_model_module_version": "1.5.0",
            "_model_name": "HTMLModel",
            "_view_count": null,
            "_view_module": "@jupyter-widgets/controls",
            "_view_module_version": "1.5.0",
            "_view_name": "HTMLView",
            "description": "",
            "description_tooltip": null,
            "layout": "IPY_MODEL_8b3364e840b3421b971e26d5c9d3021f",
            "placeholder": "​",
            "style": "IPY_MODEL_2e467627b9b2430392ad9b90eb3e1e37",
            "value": " 456k/? [00:00&lt;00:00, 5.65MB/s]"
          }
        },
        "447c8b69398e4fc1804960c31cbc572f": {
          "model_module": "@jupyter-widgets/base",
          "model_name": "LayoutModel",
          "model_module_version": "1.2.0",
          "state": {
            "_model_module": "@jupyter-widgets/base",
            "_model_module_version": "1.2.0",
            "_model_name": "LayoutModel",
            "_view_count": null,
            "_view_module": "@jupyter-widgets/base",
            "_view_module_version": "1.2.0",
            "_view_name": "LayoutView",
            "align_content": null,
            "align_items": null,
            "align_self": null,
            "border": null,
            "bottom": null,
            "display": null,
            "flex": null,
            "flex_flow": null,
            "grid_area": null,
            "grid_auto_columns": null,
            "grid_auto_flow": null,
            "grid_auto_rows": null,
            "grid_column": null,
            "grid_gap": null,
            "grid_row": null,
            "grid_template_areas": null,
            "grid_template_columns": null,
            "grid_template_rows": null,
            "height": null,
            "justify_content": null,
            "justify_items": null,
            "left": null,
            "margin": null,
            "max_height": null,
            "max_width": null,
            "min_height": null,
            "min_width": null,
            "object_fit": null,
            "object_position": null,
            "order": null,
            "overflow": null,
            "overflow_x": null,
            "overflow_y": null,
            "padding": null,
            "right": null,
            "top": null,
            "visibility": null,
            "width": null
          }
        },
        "388cebe7a7f844fa99dc84f55949ea41": {
          "model_module": "@jupyter-widgets/base",
          "model_name": "LayoutModel",
          "model_module_version": "1.2.0",
          "state": {
            "_model_module": "@jupyter-widgets/base",
            "_model_module_version": "1.2.0",
            "_model_name": "LayoutModel",
            "_view_count": null,
            "_view_module": "@jupyter-widgets/base",
            "_view_module_version": "1.2.0",
            "_view_name": "LayoutView",
            "align_content": null,
            "align_items": null,
            "align_self": null,
            "border": null,
            "bottom": null,
            "display": null,
            "flex": null,
            "flex_flow": null,
            "grid_area": null,
            "grid_auto_columns": null,
            "grid_auto_flow": null,
            "grid_auto_rows": null,
            "grid_column": null,
            "grid_gap": null,
            "grid_row": null,
            "grid_template_areas": null,
            "grid_template_columns": null,
            "grid_template_rows": null,
            "height": null,
            "justify_content": null,
            "justify_items": null,
            "left": null,
            "margin": null,
            "max_height": null,
            "max_width": null,
            "min_height": null,
            "min_width": null,
            "object_fit": null,
            "object_position": null,
            "order": null,
            "overflow": null,
            "overflow_x": null,
            "overflow_y": null,
            "padding": null,
            "right": null,
            "top": null,
            "visibility": null,
            "width": null
          }
        },
        "f629dd95f9cf44a0a4944677dd02b066": {
          "model_module": "@jupyter-widgets/controls",
          "model_name": "DescriptionStyleModel",
          "model_module_version": "1.5.0",
          "state": {
            "_model_module": "@jupyter-widgets/controls",
            "_model_module_version": "1.5.0",
            "_model_name": "DescriptionStyleModel",
            "_view_count": null,
            "_view_module": "@jupyter-widgets/base",
            "_view_module_version": "1.2.0",
            "_view_name": "StyleView",
            "description_width": ""
          }
        },
        "a01b211792fc44339b23bde54a4141a6": {
          "model_module": "@jupyter-widgets/base",
          "model_name": "LayoutModel",
          "model_module_version": "1.2.0",
          "state": {
            "_model_module": "@jupyter-widgets/base",
            "_model_module_version": "1.2.0",
            "_model_name": "LayoutModel",
            "_view_count": null,
            "_view_module": "@jupyter-widgets/base",
            "_view_module_version": "1.2.0",
            "_view_name": "LayoutView",
            "align_content": null,
            "align_items": null,
            "align_self": null,
            "border": null,
            "bottom": null,
            "display": null,
            "flex": null,
            "flex_flow": null,
            "grid_area": null,
            "grid_auto_columns": null,
            "grid_auto_flow": null,
            "grid_auto_rows": null,
            "grid_column": null,
            "grid_gap": null,
            "grid_row": null,
            "grid_template_areas": null,
            "grid_template_columns": null,
            "grid_template_rows": null,
            "height": null,
            "justify_content": null,
            "justify_items": null,
            "left": null,
            "margin": null,
            "max_height": null,
            "max_width": null,
            "min_height": null,
            "min_width": null,
            "object_fit": null,
            "object_position": null,
            "order": null,
            "overflow": null,
            "overflow_x": null,
            "overflow_y": null,
            "padding": null,
            "right": null,
            "top": null,
            "visibility": null,
            "width": "20px"
          }
        },
        "e7588c0cadcc421db5d11b441480e062": {
          "model_module": "@jupyter-widgets/controls",
          "model_name": "ProgressStyleModel",
          "model_module_version": "1.5.0",
          "state": {
            "_model_module": "@jupyter-widgets/controls",
            "_model_module_version": "1.5.0",
            "_model_name": "ProgressStyleModel",
            "_view_count": null,
            "_view_module": "@jupyter-widgets/base",
            "_view_module_version": "1.2.0",
            "_view_name": "StyleView",
            "bar_color": null,
            "description_width": ""
          }
        },
        "8b3364e840b3421b971e26d5c9d3021f": {
          "model_module": "@jupyter-widgets/base",
          "model_name": "LayoutModel",
          "model_module_version": "1.2.0",
          "state": {
            "_model_module": "@jupyter-widgets/base",
            "_model_module_version": "1.2.0",
            "_model_name": "LayoutModel",
            "_view_count": null,
            "_view_module": "@jupyter-widgets/base",
            "_view_module_version": "1.2.0",
            "_view_name": "LayoutView",
            "align_content": null,
            "align_items": null,
            "align_self": null,
            "border": null,
            "bottom": null,
            "display": null,
            "flex": null,
            "flex_flow": null,
            "grid_area": null,
            "grid_auto_columns": null,
            "grid_auto_flow": null,
            "grid_auto_rows": null,
            "grid_column": null,
            "grid_gap": null,
            "grid_row": null,
            "grid_template_areas": null,
            "grid_template_columns": null,
            "grid_template_rows": null,
            "height": null,
            "justify_content": null,
            "justify_items": null,
            "left": null,
            "margin": null,
            "max_height": null,
            "max_width": null,
            "min_height": null,
            "min_width": null,
            "object_fit": null,
            "object_position": null,
            "order": null,
            "overflow": null,
            "overflow_x": null,
            "overflow_y": null,
            "padding": null,
            "right": null,
            "top": null,
            "visibility": null,
            "width": null
          }
        },
        "2e467627b9b2430392ad9b90eb3e1e37": {
          "model_module": "@jupyter-widgets/controls",
          "model_name": "DescriptionStyleModel",
          "model_module_version": "1.5.0",
          "state": {
            "_model_module": "@jupyter-widgets/controls",
            "_model_module_version": "1.5.0",
            "_model_name": "DescriptionStyleModel",
            "_view_count": null,
            "_view_module": "@jupyter-widgets/base",
            "_view_module_version": "1.2.0",
            "_view_name": "StyleView",
            "description_width": ""
          }
        },
        "564535c709f04cb0a6ad728aef78fb4c": {
          "model_module": "@jupyter-widgets/controls",
          "model_name": "HBoxModel",
          "model_module_version": "1.5.0",
          "state": {
            "_dom_classes": [],
            "_model_module": "@jupyter-widgets/controls",
            "_model_module_version": "1.5.0",
            "_model_name": "HBoxModel",
            "_view_count": null,
            "_view_module": "@jupyter-widgets/controls",
            "_view_module_version": "1.5.0",
            "_view_name": "HBoxView",
            "box_style": "",
            "children": [
              "IPY_MODEL_1bdc834f6b9c46c5b26db5f291fbfc38",
              "IPY_MODEL_fdac700e241541eb909d48111daf13b5",
              "IPY_MODEL_91dc7d11b2b9446b8dcfc6f193e0c660"
            ],
            "layout": "IPY_MODEL_ef7284c3626d49a6be21c856d3191869"
          }
        },
        "1bdc834f6b9c46c5b26db5f291fbfc38": {
          "model_module": "@jupyter-widgets/controls",
          "model_name": "HTMLModel",
          "model_module_version": "1.5.0",
          "state": {
            "_dom_classes": [],
            "_model_module": "@jupyter-widgets/controls",
            "_model_module_version": "1.5.0",
            "_model_name": "HTMLModel",
            "_view_count": null,
            "_view_module": "@jupyter-widgets/controls",
            "_view_module_version": "1.5.0",
            "_view_name": "HTMLView",
            "description": "",
            "description_tooltip": null,
            "layout": "IPY_MODEL_1b4b37d2a99b418a81265dfff2a0d30f",
            "placeholder": "​",
            "style": "IPY_MODEL_313aa6045a9046fc967a33870ca0730b",
            "value": "special_tokens_map.json: 100%"
          }
        },
        "fdac700e241541eb909d48111daf13b5": {
          "model_module": "@jupyter-widgets/controls",
          "model_name": "FloatProgressModel",
          "model_module_version": "1.5.0",
          "state": {
            "_dom_classes": [],
            "_model_module": "@jupyter-widgets/controls",
            "_model_module_version": "1.5.0",
            "_model_name": "FloatProgressModel",
            "_view_count": null,
            "_view_module": "@jupyter-widgets/controls",
            "_view_module_version": "1.5.0",
            "_view_name": "ProgressView",
            "bar_style": "success",
            "description": "",
            "description_tooltip": null,
            "layout": "IPY_MODEL_98886109ab6c43a79bf73ed9e6cd0f89",
            "max": 90,
            "min": 0,
            "orientation": "horizontal",
            "style": "IPY_MODEL_df8b1ba2580a455f817f649a8c8e829d",
            "value": 90
          }
        },
        "91dc7d11b2b9446b8dcfc6f193e0c660": {
          "model_module": "@jupyter-widgets/controls",
          "model_name": "HTMLModel",
          "model_module_version": "1.5.0",
          "state": {
            "_dom_classes": [],
            "_model_module": "@jupyter-widgets/controls",
            "_model_module_version": "1.5.0",
            "_model_name": "HTMLModel",
            "_view_count": null,
            "_view_module": "@jupyter-widgets/controls",
            "_view_module_version": "1.5.0",
            "_view_name": "HTMLView",
            "description": "",
            "description_tooltip": null,
            "layout": "IPY_MODEL_f00b792f1ae04342ad3fb7403e36d381",
            "placeholder": "​",
            "style": "IPY_MODEL_b9724d4582354f519362c8d8b30c91a3",
            "value": " 90.0/90.0 [00:00&lt;00:00, 2.17kB/s]"
          }
        },
        "ef7284c3626d49a6be21c856d3191869": {
          "model_module": "@jupyter-widgets/base",
          "model_name": "LayoutModel",
          "model_module_version": "1.2.0",
          "state": {
            "_model_module": "@jupyter-widgets/base",
            "_model_module_version": "1.2.0",
            "_model_name": "LayoutModel",
            "_view_count": null,
            "_view_module": "@jupyter-widgets/base",
            "_view_module_version": "1.2.0",
            "_view_name": "LayoutView",
            "align_content": null,
            "align_items": null,
            "align_self": null,
            "border": null,
            "bottom": null,
            "display": null,
            "flex": null,
            "flex_flow": null,
            "grid_area": null,
            "grid_auto_columns": null,
            "grid_auto_flow": null,
            "grid_auto_rows": null,
            "grid_column": null,
            "grid_gap": null,
            "grid_row": null,
            "grid_template_areas": null,
            "grid_template_columns": null,
            "grid_template_rows": null,
            "height": null,
            "justify_content": null,
            "justify_items": null,
            "left": null,
            "margin": null,
            "max_height": null,
            "max_width": null,
            "min_height": null,
            "min_width": null,
            "object_fit": null,
            "object_position": null,
            "order": null,
            "overflow": null,
            "overflow_x": null,
            "overflow_y": null,
            "padding": null,
            "right": null,
            "top": null,
            "visibility": null,
            "width": null
          }
        },
        "1b4b37d2a99b418a81265dfff2a0d30f": {
          "model_module": "@jupyter-widgets/base",
          "model_name": "LayoutModel",
          "model_module_version": "1.2.0",
          "state": {
            "_model_module": "@jupyter-widgets/base",
            "_model_module_version": "1.2.0",
            "_model_name": "LayoutModel",
            "_view_count": null,
            "_view_module": "@jupyter-widgets/base",
            "_view_module_version": "1.2.0",
            "_view_name": "LayoutView",
            "align_content": null,
            "align_items": null,
            "align_self": null,
            "border": null,
            "bottom": null,
            "display": null,
            "flex": null,
            "flex_flow": null,
            "grid_area": null,
            "grid_auto_columns": null,
            "grid_auto_flow": null,
            "grid_auto_rows": null,
            "grid_column": null,
            "grid_gap": null,
            "grid_row": null,
            "grid_template_areas": null,
            "grid_template_columns": null,
            "grid_template_rows": null,
            "height": null,
            "justify_content": null,
            "justify_items": null,
            "left": null,
            "margin": null,
            "max_height": null,
            "max_width": null,
            "min_height": null,
            "min_width": null,
            "object_fit": null,
            "object_position": null,
            "order": null,
            "overflow": null,
            "overflow_x": null,
            "overflow_y": null,
            "padding": null,
            "right": null,
            "top": null,
            "visibility": null,
            "width": null
          }
        },
        "313aa6045a9046fc967a33870ca0730b": {
          "model_module": "@jupyter-widgets/controls",
          "model_name": "DescriptionStyleModel",
          "model_module_version": "1.5.0",
          "state": {
            "_model_module": "@jupyter-widgets/controls",
            "_model_module_version": "1.5.0",
            "_model_name": "DescriptionStyleModel",
            "_view_count": null,
            "_view_module": "@jupyter-widgets/base",
            "_view_module_version": "1.2.0",
            "_view_name": "StyleView",
            "description_width": ""
          }
        },
        "98886109ab6c43a79bf73ed9e6cd0f89": {
          "model_module": "@jupyter-widgets/base",
          "model_name": "LayoutModel",
          "model_module_version": "1.2.0",
          "state": {
            "_model_module": "@jupyter-widgets/base",
            "_model_module_version": "1.2.0",
            "_model_name": "LayoutModel",
            "_view_count": null,
            "_view_module": "@jupyter-widgets/base",
            "_view_module_version": "1.2.0",
            "_view_name": "LayoutView",
            "align_content": null,
            "align_items": null,
            "align_self": null,
            "border": null,
            "bottom": null,
            "display": null,
            "flex": null,
            "flex_flow": null,
            "grid_area": null,
            "grid_auto_columns": null,
            "grid_auto_flow": null,
            "grid_auto_rows": null,
            "grid_column": null,
            "grid_gap": null,
            "grid_row": null,
            "grid_template_areas": null,
            "grid_template_columns": null,
            "grid_template_rows": null,
            "height": null,
            "justify_content": null,
            "justify_items": null,
            "left": null,
            "margin": null,
            "max_height": null,
            "max_width": null,
            "min_height": null,
            "min_width": null,
            "object_fit": null,
            "object_position": null,
            "order": null,
            "overflow": null,
            "overflow_x": null,
            "overflow_y": null,
            "padding": null,
            "right": null,
            "top": null,
            "visibility": null,
            "width": null
          }
        },
        "df8b1ba2580a455f817f649a8c8e829d": {
          "model_module": "@jupyter-widgets/controls",
          "model_name": "ProgressStyleModel",
          "model_module_version": "1.5.0",
          "state": {
            "_model_module": "@jupyter-widgets/controls",
            "_model_module_version": "1.5.0",
            "_model_name": "ProgressStyleModel",
            "_view_count": null,
            "_view_module": "@jupyter-widgets/base",
            "_view_module_version": "1.2.0",
            "_view_name": "StyleView",
            "bar_color": null,
            "description_width": ""
          }
        },
        "f00b792f1ae04342ad3fb7403e36d381": {
          "model_module": "@jupyter-widgets/base",
          "model_name": "LayoutModel",
          "model_module_version": "1.2.0",
          "state": {
            "_model_module": "@jupyter-widgets/base",
            "_model_module_version": "1.2.0",
            "_model_name": "LayoutModel",
            "_view_count": null,
            "_view_module": "@jupyter-widgets/base",
            "_view_module_version": "1.2.0",
            "_view_name": "LayoutView",
            "align_content": null,
            "align_items": null,
            "align_self": null,
            "border": null,
            "bottom": null,
            "display": null,
            "flex": null,
            "flex_flow": null,
            "grid_area": null,
            "grid_auto_columns": null,
            "grid_auto_flow": null,
            "grid_auto_rows": null,
            "grid_column": null,
            "grid_gap": null,
            "grid_row": null,
            "grid_template_areas": null,
            "grid_template_columns": null,
            "grid_template_rows": null,
            "height": null,
            "justify_content": null,
            "justify_items": null,
            "left": null,
            "margin": null,
            "max_height": null,
            "max_width": null,
            "min_height": null,
            "min_width": null,
            "object_fit": null,
            "object_position": null,
            "order": null,
            "overflow": null,
            "overflow_x": null,
            "overflow_y": null,
            "padding": null,
            "right": null,
            "top": null,
            "visibility": null,
            "width": null
          }
        },
        "b9724d4582354f519362c8d8b30c91a3": {
          "model_module": "@jupyter-widgets/controls",
          "model_name": "DescriptionStyleModel",
          "model_module_version": "1.5.0",
          "state": {
            "_model_module": "@jupyter-widgets/controls",
            "_model_module_version": "1.5.0",
            "_model_name": "DescriptionStyleModel",
            "_view_count": null,
            "_view_module": "@jupyter-widgets/base",
            "_view_module_version": "1.2.0",
            "_view_name": "StyleView",
            "description_width": ""
          }
        },
        "d3ad68cb6e9e489282513bc9cd47d2f1": {
          "model_module": "@jupyter-widgets/controls",
          "model_name": "HBoxModel",
          "model_module_version": "1.5.0",
          "state": {
            "_dom_classes": [],
            "_model_module": "@jupyter-widgets/controls",
            "_model_module_version": "1.5.0",
            "_model_name": "HBoxModel",
            "_view_count": null,
            "_view_module": "@jupyter-widgets/controls",
            "_view_module_version": "1.5.0",
            "_view_name": "HBoxView",
            "box_style": "",
            "children": [
              "IPY_MODEL_60023a296528488a94992d154aa45cbe",
              "IPY_MODEL_8c25c04d6c5a4b0ca78df600861d15f6",
              "IPY_MODEL_2c3e0c437f2a41e49294a19166f6d375"
            ],
            "layout": "IPY_MODEL_8dddee0138424cb4b518978fc22e8b52"
          }
        },
        "60023a296528488a94992d154aa45cbe": {
          "model_module": "@jupyter-widgets/controls",
          "model_name": "HTMLModel",
          "model_module_version": "1.5.0",
          "state": {
            "_dom_classes": [],
            "_model_module": "@jupyter-widgets/controls",
            "_model_module_version": "1.5.0",
            "_model_name": "HTMLModel",
            "_view_count": null,
            "_view_module": "@jupyter-widgets/controls",
            "_view_module_version": "1.5.0",
            "_view_name": "HTMLView",
            "description": "",
            "description_tooltip": null,
            "layout": "IPY_MODEL_72e6a250dcfc4c8792b85301b866eb61",
            "placeholder": "​",
            "style": "IPY_MODEL_f6b4986e6f9e41c38de4aa85411c71da",
            "value": "config.json: "
          }
        },
        "8c25c04d6c5a4b0ca78df600861d15f6": {
          "model_module": "@jupyter-widgets/controls",
          "model_name": "FloatProgressModel",
          "model_module_version": "1.5.0",
          "state": {
            "_dom_classes": [],
            "_model_module": "@jupyter-widgets/controls",
            "_model_module_version": "1.5.0",
            "_model_name": "FloatProgressModel",
            "_view_count": null,
            "_view_module": "@jupyter-widgets/controls",
            "_view_module_version": "1.5.0",
            "_view_name": "ProgressView",
            "bar_style": "success",
            "description": "",
            "description_tooltip": null,
            "layout": "IPY_MODEL_41556378786c4cf0b3c64c45728eabea",
            "max": 1,
            "min": 0,
            "orientation": "horizontal",
            "style": "IPY_MODEL_de15d110c71e4822bb93e0a9bef07ef1",
            "value": 1
          }
        },
        "2c3e0c437f2a41e49294a19166f6d375": {
          "model_module": "@jupyter-widgets/controls",
          "model_name": "HTMLModel",
          "model_module_version": "1.5.0",
          "state": {
            "_dom_classes": [],
            "_model_module": "@jupyter-widgets/controls",
            "_model_module_version": "1.5.0",
            "_model_name": "HTMLModel",
            "_view_count": null,
            "_view_module": "@jupyter-widgets/controls",
            "_view_module_version": "1.5.0",
            "_view_name": "HTMLView",
            "description": "",
            "description_tooltip": null,
            "layout": "IPY_MODEL_5b8314a6c6924ce8bfd50014971e5833",
            "placeholder": "​",
            "style": "IPY_MODEL_c03b48457f95498c9ca2e9d34df44add",
            "value": " 1.35k/? [00:00&lt;00:00, 31.0kB/s]"
          }
        },
        "8dddee0138424cb4b518978fc22e8b52": {
          "model_module": "@jupyter-widgets/base",
          "model_name": "LayoutModel",
          "model_module_version": "1.2.0",
          "state": {
            "_model_module": "@jupyter-widgets/base",
            "_model_module_version": "1.2.0",
            "_model_name": "LayoutModel",
            "_view_count": null,
            "_view_module": "@jupyter-widgets/base",
            "_view_module_version": "1.2.0",
            "_view_name": "LayoutView",
            "align_content": null,
            "align_items": null,
            "align_self": null,
            "border": null,
            "bottom": null,
            "display": null,
            "flex": null,
            "flex_flow": null,
            "grid_area": null,
            "grid_auto_columns": null,
            "grid_auto_flow": null,
            "grid_auto_rows": null,
            "grid_column": null,
            "grid_gap": null,
            "grid_row": null,
            "grid_template_areas": null,
            "grid_template_columns": null,
            "grid_template_rows": null,
            "height": null,
            "justify_content": null,
            "justify_items": null,
            "left": null,
            "margin": null,
            "max_height": null,
            "max_width": null,
            "min_height": null,
            "min_width": null,
            "object_fit": null,
            "object_position": null,
            "order": null,
            "overflow": null,
            "overflow_x": null,
            "overflow_y": null,
            "padding": null,
            "right": null,
            "top": null,
            "visibility": null,
            "width": null
          }
        },
        "72e6a250dcfc4c8792b85301b866eb61": {
          "model_module": "@jupyter-widgets/base",
          "model_name": "LayoutModel",
          "model_module_version": "1.2.0",
          "state": {
            "_model_module": "@jupyter-widgets/base",
            "_model_module_version": "1.2.0",
            "_model_name": "LayoutModel",
            "_view_count": null,
            "_view_module": "@jupyter-widgets/base",
            "_view_module_version": "1.2.0",
            "_view_name": "LayoutView",
            "align_content": null,
            "align_items": null,
            "align_self": null,
            "border": null,
            "bottom": null,
            "display": null,
            "flex": null,
            "flex_flow": null,
            "grid_area": null,
            "grid_auto_columns": null,
            "grid_auto_flow": null,
            "grid_auto_rows": null,
            "grid_column": null,
            "grid_gap": null,
            "grid_row": null,
            "grid_template_areas": null,
            "grid_template_columns": null,
            "grid_template_rows": null,
            "height": null,
            "justify_content": null,
            "justify_items": null,
            "left": null,
            "margin": null,
            "max_height": null,
            "max_width": null,
            "min_height": null,
            "min_width": null,
            "object_fit": null,
            "object_position": null,
            "order": null,
            "overflow": null,
            "overflow_x": null,
            "overflow_y": null,
            "padding": null,
            "right": null,
            "top": null,
            "visibility": null,
            "width": null
          }
        },
        "f6b4986e6f9e41c38de4aa85411c71da": {
          "model_module": "@jupyter-widgets/controls",
          "model_name": "DescriptionStyleModel",
          "model_module_version": "1.5.0",
          "state": {
            "_model_module": "@jupyter-widgets/controls",
            "_model_module_version": "1.5.0",
            "_model_name": "DescriptionStyleModel",
            "_view_count": null,
            "_view_module": "@jupyter-widgets/base",
            "_view_module_version": "1.2.0",
            "_view_name": "StyleView",
            "description_width": ""
          }
        },
        "41556378786c4cf0b3c64c45728eabea": {
          "model_module": "@jupyter-widgets/base",
          "model_name": "LayoutModel",
          "model_module_version": "1.2.0",
          "state": {
            "_model_module": "@jupyter-widgets/base",
            "_model_module_version": "1.2.0",
            "_model_name": "LayoutModel",
            "_view_count": null,
            "_view_module": "@jupyter-widgets/base",
            "_view_module_version": "1.2.0",
            "_view_name": "LayoutView",
            "align_content": null,
            "align_items": null,
            "align_self": null,
            "border": null,
            "bottom": null,
            "display": null,
            "flex": null,
            "flex_flow": null,
            "grid_area": null,
            "grid_auto_columns": null,
            "grid_auto_flow": null,
            "grid_auto_rows": null,
            "grid_column": null,
            "grid_gap": null,
            "grid_row": null,
            "grid_template_areas": null,
            "grid_template_columns": null,
            "grid_template_rows": null,
            "height": null,
            "justify_content": null,
            "justify_items": null,
            "left": null,
            "margin": null,
            "max_height": null,
            "max_width": null,
            "min_height": null,
            "min_width": null,
            "object_fit": null,
            "object_position": null,
            "order": null,
            "overflow": null,
            "overflow_x": null,
            "overflow_y": null,
            "padding": null,
            "right": null,
            "top": null,
            "visibility": null,
            "width": "20px"
          }
        },
        "de15d110c71e4822bb93e0a9bef07ef1": {
          "model_module": "@jupyter-widgets/controls",
          "model_name": "ProgressStyleModel",
          "model_module_version": "1.5.0",
          "state": {
            "_model_module": "@jupyter-widgets/controls",
            "_model_module_version": "1.5.0",
            "_model_name": "ProgressStyleModel",
            "_view_count": null,
            "_view_module": "@jupyter-widgets/base",
            "_view_module_version": "1.2.0",
            "_view_name": "StyleView",
            "bar_color": null,
            "description_width": ""
          }
        },
        "5b8314a6c6924ce8bfd50014971e5833": {
          "model_module": "@jupyter-widgets/base",
          "model_name": "LayoutModel",
          "model_module_version": "1.2.0",
          "state": {
            "_model_module": "@jupyter-widgets/base",
            "_model_module_version": "1.2.0",
            "_model_name": "LayoutModel",
            "_view_count": null,
            "_view_module": "@jupyter-widgets/base",
            "_view_module_version": "1.2.0",
            "_view_name": "LayoutView",
            "align_content": null,
            "align_items": null,
            "align_self": null,
            "border": null,
            "bottom": null,
            "display": null,
            "flex": null,
            "flex_flow": null,
            "grid_area": null,
            "grid_auto_columns": null,
            "grid_auto_flow": null,
            "grid_auto_rows": null,
            "grid_column": null,
            "grid_gap": null,
            "grid_row": null,
            "grid_template_areas": null,
            "grid_template_columns": null,
            "grid_template_rows": null,
            "height": null,
            "justify_content": null,
            "justify_items": null,
            "left": null,
            "margin": null,
            "max_height": null,
            "max_width": null,
            "min_height": null,
            "min_width": null,
            "object_fit": null,
            "object_position": null,
            "order": null,
            "overflow": null,
            "overflow_x": null,
            "overflow_y": null,
            "padding": null,
            "right": null,
            "top": null,
            "visibility": null,
            "width": null
          }
        },
        "c03b48457f95498c9ca2e9d34df44add": {
          "model_module": "@jupyter-widgets/controls",
          "model_name": "DescriptionStyleModel",
          "model_module_version": "1.5.0",
          "state": {
            "_model_module": "@jupyter-widgets/controls",
            "_model_module_version": "1.5.0",
            "_model_name": "DescriptionStyleModel",
            "_view_count": null,
            "_view_module": "@jupyter-widgets/base",
            "_view_module_version": "1.2.0",
            "_view_name": "StyleView",
            "description_width": ""
          }
        },
        "1ad4dad347844ad4b09b6c24024d59d1": {
          "model_module": "@jupyter-widgets/controls",
          "model_name": "HBoxModel",
          "model_module_version": "1.5.0",
          "state": {
            "_dom_classes": [],
            "_model_module": "@jupyter-widgets/controls",
            "_model_module_version": "1.5.0",
            "_model_name": "HBoxModel",
            "_view_count": null,
            "_view_module": "@jupyter-widgets/controls",
            "_view_module_version": "1.5.0",
            "_view_name": "HBoxView",
            "box_style": "",
            "children": [
              "IPY_MODEL_a62603ca9dd44915a7543acedb62ecc3",
              "IPY_MODEL_1d21cb647cc74f79a7848b63103fcdc2",
              "IPY_MODEL_fd39508a1408476b8b6413f2a21c7d64"
            ],
            "layout": "IPY_MODEL_7fb021c57c924bfbbcb9b88ffea3b9ee"
          }
        },
        "a62603ca9dd44915a7543acedb62ecc3": {
          "model_module": "@jupyter-widgets/controls",
          "model_name": "HTMLModel",
          "model_module_version": "1.5.0",
          "state": {
            "_dom_classes": [],
            "_model_module": "@jupyter-widgets/controls",
            "_model_module_version": "1.5.0",
            "_model_name": "HTMLModel",
            "_view_count": null,
            "_view_module": "@jupyter-widgets/controls",
            "_view_module_version": "1.5.0",
            "_view_name": "HTMLView",
            "description": "",
            "description_tooltip": null,
            "layout": "IPY_MODEL_67cc81239bff424b8d0157ab867d05fa",
            "placeholder": "​",
            "style": "IPY_MODEL_b0bd0c1add4f4ea2b1c4eb1676b79c0d",
            "value": "model.safetensors: 100%"
          }
        },
        "1d21cb647cc74f79a7848b63103fcdc2": {
          "model_module": "@jupyter-widgets/controls",
          "model_name": "FloatProgressModel",
          "model_module_version": "1.5.0",
          "state": {
            "_dom_classes": [],
            "_model_module": "@jupyter-widgets/controls",
            "_model_module_version": "1.5.0",
            "_model_name": "FloatProgressModel",
            "_view_count": null,
            "_view_module": "@jupyter-widgets/controls",
            "_view_module_version": "1.5.0",
            "_view_name": "ProgressView",
            "bar_style": "success",
            "description": "",
            "description_tooltip": null,
            "layout": "IPY_MODEL_b56c66e77edb4bba8eccd84ae1a6e125",
            "max": 5312673800,
            "min": 0,
            "orientation": "horizontal",
            "style": "IPY_MODEL_a2b9f74b01114229bf61feca71f1fdaf",
            "value": 5312673800
          }
        },
        "fd39508a1408476b8b6413f2a21c7d64": {
          "model_module": "@jupyter-widgets/controls",
          "model_name": "HTMLModel",
          "model_module_version": "1.5.0",
          "state": {
            "_dom_classes": [],
            "_model_module": "@jupyter-widgets/controls",
            "_model_module_version": "1.5.0",
            "_model_name": "HTMLModel",
            "_view_count": null,
            "_view_module": "@jupyter-widgets/controls",
            "_view_module_version": "1.5.0",
            "_view_name": "HTMLView",
            "description": "",
            "description_tooltip": null,
            "layout": "IPY_MODEL_adb735bcfc564aa29905b867f7ce26d4",
            "placeholder": "​",
            "style": "IPY_MODEL_f49dd5d258964c349dabe87f5a914e03",
            "value": " 5.31G/5.31G [01:30&lt;00:00, 93.0MB/s]"
          }
        },
        "7fb021c57c924bfbbcb9b88ffea3b9ee": {
          "model_module": "@jupyter-widgets/base",
          "model_name": "LayoutModel",
          "model_module_version": "1.2.0",
          "state": {
            "_model_module": "@jupyter-widgets/base",
            "_model_module_version": "1.2.0",
            "_model_name": "LayoutModel",
            "_view_count": null,
            "_view_module": "@jupyter-widgets/base",
            "_view_module_version": "1.2.0",
            "_view_name": "LayoutView",
            "align_content": null,
            "align_items": null,
            "align_self": null,
            "border": null,
            "bottom": null,
            "display": null,
            "flex": null,
            "flex_flow": null,
            "grid_area": null,
            "grid_auto_columns": null,
            "grid_auto_flow": null,
            "grid_auto_rows": null,
            "grid_column": null,
            "grid_gap": null,
            "grid_row": null,
            "grid_template_areas": null,
            "grid_template_columns": null,
            "grid_template_rows": null,
            "height": null,
            "justify_content": null,
            "justify_items": null,
            "left": null,
            "margin": null,
            "max_height": null,
            "max_width": null,
            "min_height": null,
            "min_width": null,
            "object_fit": null,
            "object_position": null,
            "order": null,
            "overflow": null,
            "overflow_x": null,
            "overflow_y": null,
            "padding": null,
            "right": null,
            "top": null,
            "visibility": null,
            "width": null
          }
        },
        "67cc81239bff424b8d0157ab867d05fa": {
          "model_module": "@jupyter-widgets/base",
          "model_name": "LayoutModel",
          "model_module_version": "1.2.0",
          "state": {
            "_model_module": "@jupyter-widgets/base",
            "_model_module_version": "1.2.0",
            "_model_name": "LayoutModel",
            "_view_count": null,
            "_view_module": "@jupyter-widgets/base",
            "_view_module_version": "1.2.0",
            "_view_name": "LayoutView",
            "align_content": null,
            "align_items": null,
            "align_self": null,
            "border": null,
            "bottom": null,
            "display": null,
            "flex": null,
            "flex_flow": null,
            "grid_area": null,
            "grid_auto_columns": null,
            "grid_auto_flow": null,
            "grid_auto_rows": null,
            "grid_column": null,
            "grid_gap": null,
            "grid_row": null,
            "grid_template_areas": null,
            "grid_template_columns": null,
            "grid_template_rows": null,
            "height": null,
            "justify_content": null,
            "justify_items": null,
            "left": null,
            "margin": null,
            "max_height": null,
            "max_width": null,
            "min_height": null,
            "min_width": null,
            "object_fit": null,
            "object_position": null,
            "order": null,
            "overflow": null,
            "overflow_x": null,
            "overflow_y": null,
            "padding": null,
            "right": null,
            "top": null,
            "visibility": null,
            "width": null
          }
        },
        "b0bd0c1add4f4ea2b1c4eb1676b79c0d": {
          "model_module": "@jupyter-widgets/controls",
          "model_name": "DescriptionStyleModel",
          "model_module_version": "1.5.0",
          "state": {
            "_model_module": "@jupyter-widgets/controls",
            "_model_module_version": "1.5.0",
            "_model_name": "DescriptionStyleModel",
            "_view_count": null,
            "_view_module": "@jupyter-widgets/base",
            "_view_module_version": "1.2.0",
            "_view_name": "StyleView",
            "description_width": ""
          }
        },
        "b56c66e77edb4bba8eccd84ae1a6e125": {
          "model_module": "@jupyter-widgets/base",
          "model_name": "LayoutModel",
          "model_module_version": "1.2.0",
          "state": {
            "_model_module": "@jupyter-widgets/base",
            "_model_module_version": "1.2.0",
            "_model_name": "LayoutModel",
            "_view_count": null,
            "_view_module": "@jupyter-widgets/base",
            "_view_module_version": "1.2.0",
            "_view_name": "LayoutView",
            "align_content": null,
            "align_items": null,
            "align_self": null,
            "border": null,
            "bottom": null,
            "display": null,
            "flex": null,
            "flex_flow": null,
            "grid_area": null,
            "grid_auto_columns": null,
            "grid_auto_flow": null,
            "grid_auto_rows": null,
            "grid_column": null,
            "grid_gap": null,
            "grid_row": null,
            "grid_template_areas": null,
            "grid_template_columns": null,
            "grid_template_rows": null,
            "height": null,
            "justify_content": null,
            "justify_items": null,
            "left": null,
            "margin": null,
            "max_height": null,
            "max_width": null,
            "min_height": null,
            "min_width": null,
            "object_fit": null,
            "object_position": null,
            "order": null,
            "overflow": null,
            "overflow_x": null,
            "overflow_y": null,
            "padding": null,
            "right": null,
            "top": null,
            "visibility": null,
            "width": null
          }
        },
        "a2b9f74b01114229bf61feca71f1fdaf": {
          "model_module": "@jupyter-widgets/controls",
          "model_name": "ProgressStyleModel",
          "model_module_version": "1.5.0",
          "state": {
            "_model_module": "@jupyter-widgets/controls",
            "_model_module_version": "1.5.0",
            "_model_name": "ProgressStyleModel",
            "_view_count": null,
            "_view_module": "@jupyter-widgets/base",
            "_view_module_version": "1.2.0",
            "_view_name": "StyleView",
            "bar_color": null,
            "description_width": ""
          }
        },
        "adb735bcfc564aa29905b867f7ce26d4": {
          "model_module": "@jupyter-widgets/base",
          "model_name": "LayoutModel",
          "model_module_version": "1.2.0",
          "state": {
            "_model_module": "@jupyter-widgets/base",
            "_model_module_version": "1.2.0",
            "_model_name": "LayoutModel",
            "_view_count": null,
            "_view_module": "@jupyter-widgets/base",
            "_view_module_version": "1.2.0",
            "_view_name": "LayoutView",
            "align_content": null,
            "align_items": null,
            "align_self": null,
            "border": null,
            "bottom": null,
            "display": null,
            "flex": null,
            "flex_flow": null,
            "grid_area": null,
            "grid_auto_columns": null,
            "grid_auto_flow": null,
            "grid_auto_rows": null,
            "grid_column": null,
            "grid_gap": null,
            "grid_row": null,
            "grid_template_areas": null,
            "grid_template_columns": null,
            "grid_template_rows": null,
            "height": null,
            "justify_content": null,
            "justify_items": null,
            "left": null,
            "margin": null,
            "max_height": null,
            "max_width": null,
            "min_height": null,
            "min_width": null,
            "object_fit": null,
            "object_position": null,
            "order": null,
            "overflow": null,
            "overflow_x": null,
            "overflow_y": null,
            "padding": null,
            "right": null,
            "top": null,
            "visibility": null,
            "width": null
          }
        },
        "f49dd5d258964c349dabe87f5a914e03": {
          "model_module": "@jupyter-widgets/controls",
          "model_name": "DescriptionStyleModel",
          "model_module_version": "1.5.0",
          "state": {
            "_model_module": "@jupyter-widgets/controls",
            "_model_module_version": "1.5.0",
            "_model_name": "DescriptionStyleModel",
            "_view_count": null,
            "_view_module": "@jupyter-widgets/base",
            "_view_module_version": "1.2.0",
            "_view_name": "StyleView",
            "description_width": ""
          }
        }
      }
    }
  },
  "cells": [
    {
      "cell_type": "markdown",
      "source": [
        "[Reference](https://medium.com/@francescofranco_39234/synthetic-data-overcoming-the-limitations-of-real-world-datasets-in-machine-learning-ae95329d6063)"
      ],
      "metadata": {
        "id": "ltMSiz4iLt2C"
      }
    },
    {
      "cell_type": "markdown",
      "source": [
        "# Basic Distributions"
      ],
      "metadata": {
        "id": "lgIgagzuLxZJ"
      }
    },
    {
      "cell_type": "code",
      "execution_count": 1,
      "metadata": {
        "colab": {
          "base_uri": "https://localhost:8080/",
          "height": 472
        },
        "id": "_qNeJEloLrsU",
        "outputId": "e705f193-85dd-44dd-e974-4343ff1d07cf"
      },
      "outputs": [
        {
          "output_type": "display_data",
          "data": {
            "text/plain": [
              "<Figure size 640x480 with 1 Axes>"
            ],
            "image/png": "[encoded data removed]"
          },
          "metadata": {}
        }
      ],
      "source": [
        "import numpy as np\n",
        "import matplotlib.pyplot as plt\n",
        "\n",
        "# Generation of data with normal distrubution\n",
        "mu, sigma = 0, 1  # Average and standard deviation\n",
        "data_normal = np.random.normal(mu, sigma, 1000)\n",
        "\n",
        "# Visualizzazione\n",
        "plt.hist(data_normal, bins=30, alpha=0.7, color='blue', edgecolor='black')\n",
        "plt.title('Normal Distribution')\n",
        "plt.xlabel('Value')\n",
        "plt.ylabel('Frequency')\n",
        "plt.show()"
      ]
    },
    {
      "cell_type": "markdown",
      "source": [
        "# Monte Carlo Sampling"
      ],
      "metadata": {
        "id": "PMCb-mt3LzsX"
      }
    },
    {
      "cell_type": "code",
      "source": [
        "import numpy as np\n",
        "import matplotlib.pyplot as plt\n",
        "\n",
        "# Parameters of the real distribution (waiting times)\n",
        "real_mu = 10  # Average\n",
        "real_sigma = 2  # Standard Deviation\n",
        "n_real_samples = 10000  # Number of real data (samples)\n",
        "\n",
        "# Generation of real data (observed distribution)\n",
        "real_data = np.random.normal(real_mu, real_sigma, n_real_samples)\n",
        "\n",
        "# Monte Carlo: progressive samples for approssimating the real distribution\n",
        "n_monte_carlo_samples = 500  # Max number of Monte Carlo samples\n",
        "monte_carlo_data = np.random.normal(real_mu, real_sigma, n_monte_carlo_samples)\n",
        "\n",
        "# Creating a graph to compare real distribution and Monte Carlo simulation\n",
        "plt.figure(figsize=(12, 6))\n",
        "\n",
        "# Real distribution\n",
        "plt.hist(real_data, bins=30, alpha=0.5, color='blue', label='Real Distribution', density=True)\n",
        "\n",
        "# Monte Carlo Distribution\n",
        "plt.hist(monte_carlo_data, bins=30, alpha=0.5, color='orange', label='Monte Carlo', density=True)\n",
        "\n",
        "plt.title(\"Comparison of Real Distribution and Monte Carlo Simulation\")\n",
        "plt.xlabel(\"Waiting Time (minutes)\")\n",
        "plt.ylabel(\"Density\")\n",
        "plt.legend()\n",
        "plt.grid(True)\n",
        "plt.show()"
      ],
      "metadata": {
        "colab": {
          "base_uri": "https://localhost:8080/",
          "height": 564
        },
        "id": "tTGv33KKLysd",
        "outputId": "c4f9a194-28cb-48ef-ba0e-78aff0e986df"
      },
      "execution_count": 2,
      "outputs": [
        {
          "output_type": "display_data",
          "data": {
            "text/plain": [
              "<Figure size 1200x600 with 1 Axes>"
            ],
            "image/png": "[encoded data removed]"
          },
          "metadata": {}
        }
      ]
    },
    {
      "cell_type": "markdown",
      "source": [
        "# Conditional Distributions"
      ],
      "metadata": {
        "id": "KZQebeuPL4DO"
      }
    },
    {
      "cell_type": "code",
      "source": [
        "mean = [0, 0]  # Average for X and Y\n",
        "covariance = [[1, 0.8], [0.8, 1]]  # Matrix of covariance\n",
        "data_multivariate = np.random.multivariate_normal(mean, covariance, 500)\n",
        "\n",
        "# Visualizzazione\n",
        "plt.scatter(data_multivariate[:, 0], data_multivariate[:, 1], alpha=0.6)\n",
        "plt.title('Multivariate Normal Distribution')\n",
        "plt.xlabel('X')\n",
        "plt.ylabel('Y')\n",
        "plt.axis('equal')\n",
        "plt.show()"
      ],
      "metadata": {
        "colab": {
          "base_uri": "https://localhost:8080/",
          "height": 472
        },
        "id": "2H5Vw_UzL2PT",
        "outputId": "b8f0d4d8-242c-4e7b-b220-4a3b20ceaadf"
      },
      "execution_count": 3,
      "outputs": [
        {
          "output_type": "display_data",
          "data": {
            "text/plain": [
              "<Figure size 640x480 with 1 Axes>"
            ],
            "image/png": "[encoded data removed]"
          },
          "metadata": {}
        }
      ]
    },
    {
      "cell_type": "markdown",
      "source": [
        "# Complete Example: Data Generation with Specific Relationships"
      ],
      "metadata": {
        "id": "2iqXVIgNL7Le"
      }
    },
    {
      "cell_type": "code",
      "source": [
        "# Parameters\n",
        "np.random.seed(42)\n",
        "n_samples = 1000\n",
        "slope = 2.5  # Slope of the linear relation\n",
        "intercept = 50  # Intercept\n",
        "noise_level = 5  # Noise level\n",
        "\n",
        "# Data Generation\n",
        "heights = np.random.normal(170, 10, n_samples)  # Height with normal distribution\n",
        "weights = slope * heights + intercept + np.random.normal(0, noise_level, n_samples)\n",
        "\n",
        "# Visualization\n",
        "plt.scatter(heights, weights, alpha=0.6)\n",
        "plt.title('Synthetic Linear Relation (Height vs Weight)')\n",
        "plt.xlabel('Height (cm)')\n",
        "plt.ylabel('Weight (kg)')\n",
        "plt.show()"
      ],
      "metadata": {
        "colab": {
          "base_uri": "https://localhost:8080/",
          "height": 472
        },
        "id": "8HIb4viEL5eC",
        "outputId": "600275b0-7a58-4ef8-9cf6-547604b38eaa"
      },
      "execution_count": 4,
      "outputs": [
        {
          "output_type": "display_data",
          "data": {
            "text/plain": [
              "<Figure size 640x480 with 1 Axes>"
            ],
            "image/png": "[encoded data removed]"
          },
          "metadata": {}
        }
      ]
    },
    {
      "cell_type": "markdown",
      "source": [
        "# Data generation with traditional machine learning methods"
      ],
      "metadata": {
        "id": "uLpt9cKQL-2v"
      }
    },
    {
      "cell_type": "markdown",
      "source": [
        "## Gaussian Mixture Models"
      ],
      "metadata": {
        "id": "Pb13pAr2L_4W"
      }
    },
    {
      "cell_type": "code",
      "source": [
        "import numpy as np\n",
        "import matplotlib.pyplot as plt\n",
        "from sklearn.mixture import GaussianMixture\n",
        "\n",
        "# Orginal data: two principal clusters\n",
        "np.random.seed(42)\n",
        "data_original = np.concatenate([\n",
        "    np.random.normal(loc=0, scale=1, size=(100, 2)),\n",
        "    np.random.normal(loc=5, scale=1.5, size=(100, 2))\n",
        "])\n",
        "\n",
        "# Creation of GMM model\n",
        "gmm = GaussianMixture(n_components=2, random_state=42)\n",
        "gmm.fit(data_original)\n",
        "\n",
        "# Generation of new synthetic data\n",
        "data_sintetici = gmm.sample(200)[0]\n",
        "\n",
        "# Side by Side Visualization\n",
        "fig, axes = plt.subplots(1, 2, figsize=(12, 6), sharex=True, sharey=True)\n",
        "\n",
        "# Graph of original data\n",
        "axes[0].scatter(data_original[:, 0], data_original[:, 1], alpha=0.6, label=\"Original Data\")\n",
        "axes[0].legend()\n",
        "axes[0].set_title(\"Original Data\")\n",
        "axes[0].grid(True)\n",
        "\n",
        "# Graph of synthetic data\n",
        "axes[1].scatter(data_sintetici[:, 0], data_sintetici[:, 1], color='r', alpha=0.6, label=\"Dati Sintetici\")\n",
        "axes[1].legend()\n",
        "axes[1].set_title(\"Synthetic Data Generated with GMM\")\n",
        "axes[1].grid(True)\n",
        "\n",
        "plt.tight_layout()\n",
        "plt.show()"
      ],
      "metadata": {
        "colab": {
          "base_uri": "https://localhost:8080/",
          "height": 607
        },
        "id": "vUbPCs1xL8_5",
        "outputId": "df0a1cec-f5bd-48b7-a39e-85e11456c81b"
      },
      "execution_count": 5,
      "outputs": [
        {
          "output_type": "display_data",
          "data": {
            "text/plain": [
              "<Figure size 1200x600 with 2 Axes>"
            ],
            "image/png": "[encoded data removed]"
          },
          "metadata": {}
        }
      ]
    },
    {
      "cell_type": "markdown",
      "source": [
        "# Generative decision trees"
      ],
      "metadata": {
        "id": "Jxo5LJtYMFFq"
      }
    },
    {
      "cell_type": "code",
      "source": [
        "import numpy as np\n",
        "import matplotlib.pyplot as plt\n",
        "from sklearn.mixture import GaussianMixture\n",
        "from sklearn.tree import DecisionTreeClassifier\n",
        "import pandas as pd\n",
        "\n",
        "# Creaion of a simple dataset\n",
        "np.random.seed(42)\n",
        "data_original = pd.DataFrame({\n",
        "    'Feature1': np.random.choice([0, 1], size=100),\n",
        "    'Feature2': np.random.choice([0, 1], size=100),\n",
        "    'Label': np.random.choice([0, 1], size=100)\n",
        "})\n",
        "\n",
        "# Construction ofthe decision tree\n",
        "X = data_original[['Feature1', 'Feature2']]\n",
        "y = data_original['Label']\n",
        "tree = DecisionTreeClassifier(max_depth=3, random_state=42)\n",
        "tree.fit(X, y)\n",
        "\n",
        "# Generation of new data\n",
        "synthetic_data = pd.DataFrame({\n",
        "    'Feature1': np.random.choice([0, 1], size=100),\n",
        "    'Feature2': np.random.choice([0, 1], size=100)\n",
        "})\n",
        "synthetic_data['Label'] = tree.predict(synthetic_data)\n",
        "\n",
        "print(\"Synthetic data generated:\\n\", synthetic_data.head())\n"
      ],
      "metadata": {
        "colab": {
          "base_uri": "https://localhost:8080/"
        },
        "id": "y5i3Ij3_MCNd",
        "outputId": "132a7ea0-a2a0-4e06-d97d-0b7c1a8bba02"
      },
      "execution_count": 6,
      "outputs": [
        {
          "output_type": "stream",
          "name": "stdout",
          "text": [
            "Synthetic data generated:\n",
            "    Feature1  Feature2  Label\n",
            "0         0         1      0\n",
            "1         0         1      0\n",
            "2         0         0      1\n",
            "3         1         0      1\n",
            "4         1         1      0\n"
          ]
        }
      ]
    },
    {
      "cell_type": "markdown",
      "source": [
        "## Synthetic Data Generation with LLMs (Large Language Models)"
      ],
      "metadata": {
        "id": "PdJ8wMBwMK80"
      }
    },
    {
      "cell_type": "markdown",
      "source": [
        "### Step 1: Define the prompt\n",
        "\n",
        "```\n",
        "\"Generate a dataset with 10 rows and 4 columns:\\n\"\n",
        "\"Job (a string representing a person's job), \"\n",
        "\"Age (an integer between 18 and 75), \"\n",
        "\"Country (a string representing a country name), \"\n",
        "\"and Score (a floating-point number between 0 and 100).\\n\\n\"\n",
        "\"Job | Age | Country | Score\\n\"\n",
        "\n",
        "\n",
        "\"---------------------------------\\n\"\n",
        "\"Teacher | 30 | USA | 88.5\\n\"\n",
        "\"Engineer | 45 | UK | 92.3\\n\"\n",
        "\"Nurse | 28 | Canada | 75.4\\n\"\n",
        "\"Artist | 33 | France | 68.9\\n\"\n",
        "\"Doctor | 50 | Germany | 85.1\\n\"\n",
        "```"
      ],
      "metadata": {
        "id": "z-dOhnGFMMmb"
      }
    },
    {
      "cell_type": "markdown",
      "source": [
        "### Step 2: Use Python to generate the data"
      ],
      "metadata": {
        "id": "XgWMYkWgMSGk"
      }
    },
    {
      "cell_type": "code",
      "source": [
        "from transformers import GPTNeoForCausalLM, GPT2Tokenizer\n",
        "import torch\n",
        "import re\n",
        "\n",
        "# Load the tokenizer and the hugging face model\n",
        "model_name = \"EleutherAI/gpt-neo-1.3B\"\n",
        "tokenizer = GPT2Tokenizer.from_pretrained(model_name)\n",
        "tokenizer.pad_token = tokenizer.eos_token\n",
        "model = GPTNeoForCausalLM.from_pretrained(model_name)\n",
        "model.config.pad_token_id = tokenizer.eos_token_id\n",
        "device = torch.device(\"cuda\" if torch.cuda.is_available() else \"cpu\")\n",
        "model.to(device)\n",
        "model.eval()\n",
        "\n",
        "prompt = (\n",
        "    \"Generate a dataset with 10 rows and 4 columns:\\n\"\n",
        "    \"Job (a string representing a person's job), \"\n",
        "    \"Age (an integer between 18 and 75), \"\n",
        "    \"Country (a string representing a country name), \"\n",
        "    \"and Score (a floating-point number between 0 and 100).\\n\\n\"\n",
        "    \"Job | Age | Country | Score\\n\"\n",
        "    \"---------------------------------\\n\"\n",
        "    \"Teacher | 30 | USA | 88.5\\n\"\n",
        "    \"Engineer | 45 | UK | 92.3\\n\"\n",
        "    \"Nurse | 28 | Canada | 75.4\\n\"\n",
        "    \"Artist | 33 | France | 68.9\\n\"\n",
        "    \"Doctor | 50 | Germany | 85.1\\n\"\n",
        ")\n",
        "\n",
        "# Encoding the prompt\n",
        "inputs = tokenizer(prompt, return_tensors=\"pt\", padding=True).to(device)\n",
        "input_ids = inputs['input_ids']\n",
        "attention_mask = inputs['attention_mask']\n",
        "\n",
        "# Generation of text\n",
        "output = model.generate(\n",
        "    input_ids=input_ids,\n",
        "    attention_mask=attention_mask,\n",
        "    max_length=input_ids.shape[1] + 200,\n",
        "    num_return_sequences=1,\n",
        "    no_repeat_ngram_size=2,\n",
        "    do_sample=False,\n",
        "    temperature=0.7,\n",
        "    pad_token_id=tokenizer.eos_token_id\n",
        ")\n",
        "\n",
        "# Decoding the output\n",
        "generated_text = tokenizer.decode(output[0], skip_special_tokens=True)\n",
        "print(generated_text)\n",
        "\n",
        "# Extraction ofthe reading pattern\n",
        "data_pattern = re.compile(\n",
        "    r\"([A-Za-z\\s]+)\\s*\\|\\s*(\\d{1,2})\\s*\\|\\s*([A-Za-z\\s]+)\\s*\\|\\s*(\\d{1,3}\\.\\d+)\"\n",
        ")\n",
        "matches = data_pattern.findall(generated_text)\n",
        "\n",
        "print(\"\\nExtracted Data:\")\n",
        "for match in matches:\n",
        "    print(f\"Job: {match[0].strip()}, Age: {match[1]}, Country: {match[2].strip()}, Score: {match[3]}\")"
      ],
      "metadata": {
        "id": "oB81vbs6MGgi",
        "colab": {
          "base_uri": "https://localhost:8080/",
          "height": 1000,
          "referenced_widgets": [
            "31e7a3d7521546a3aa4fb4df27f235de",
            "5b4015f83be843999bdf0b97614cf234",
            "2681dedfefdf4366a8af569ee66adb18",
            "cd7d86dff3a04894aca742fd5970bd1e",
            "ed8965ab8f564795a202cdcc785617a9",
            "18638b34ae8c4eb2afd1be4fe128c9e5",
            "2084444927a04e85821772143dec1860",
            "f7031964452b47b8b63f1693500b0253",
            "d8988bf687f1452784add9cd683799a8",
            "1c7d2920d9594d9eaec8fa0fbc84c6e5",
            "cd49735d4a4d4fa3ae9da6134d6fed26",
            "42decd9dc4ad4b77b22d0b7c50ea6c55",
            "1abdc453695c464dbfcbcd53b551982f",
            "cde8fdea17ef479e89de352cd5d38691",
            "ee174afba7c54ea2844082939b0c6b8c",
            "e7295fc79e3040f4a131d403140378b1",
            "0e158f6c948d4f20a5334cccd0632a28",
            "e34f1ade2fde494fb00c9dff6dd023a2",
            "af700955b4c14a9fbb24add8dd169dff",
            "e3f9bf7baef54378aeaffae7c72495df",
            "3144b021928b43dba18a8947f099670b",
            "9cc9a441683b4d3fb3131384d0cdf4ac",
            "101445d0065f4184911fa34a66e5b2a0",
            "3fe56b81f8ee45deaa4561044eb5d3d8",
            "86f6c0ef1cbf45ee91c1d57fc86d2f32",
            "248eb18e889543e28b1c21af30a99d36",
            "447c8b69398e4fc1804960c31cbc572f",
            "388cebe7a7f844fa99dc84f55949ea41",
            "f629dd95f9cf44a0a4944677dd02b066",
            "a01b211792fc44339b23bde54a4141a6",
            "e7588c0cadcc421db5d11b441480e062",
            "8b3364e840b3421b971e26d5c9d3021f",
            "2e467627b9b2430392ad9b90eb3e1e37",
            "564535c709f04cb0a6ad728aef78fb4c",
            "1bdc834f6b9c46c5b26db5f291fbfc38",
            "fdac700e241541eb909d48111daf13b5",
            "91dc7d11b2b9446b8dcfc6f193e0c660",
            "ef7284c3626d49a6be21c856d3191869",
            "1b4b37d2a99b418a81265dfff2a0d30f",
            "313aa6045a9046fc967a33870ca0730b",
            "98886109ab6c43a79bf73ed9e6cd0f89",
            "df8b1ba2580a455f817f649a8c8e829d",
            "f00b792f1ae04342ad3fb7403e36d381",
            "b9724d4582354f519362c8d8b30c91a3",
            "d3ad68cb6e9e489282513bc9cd47d2f1",
            "60023a296528488a94992d154aa45cbe",
            "8c25c04d6c5a4b0ca78df600861d15f6",
            "2c3e0c437f2a41e49294a19166f6d375",
            "8dddee0138424cb4b518978fc22e8b52",
            "72e6a250dcfc4c8792b85301b866eb61",
            "f6b4986e6f9e41c38de4aa85411c71da",
            "41556378786c4cf0b3c64c45728eabea",
            "de15d110c71e4822bb93e0a9bef07ef1",
            "5b8314a6c6924ce8bfd50014971e5833",
            "c03b48457f95498c9ca2e9d34df44add",
            "1ad4dad347844ad4b09b6c24024d59d1",
            "a62603ca9dd44915a7543acedb62ecc3",
            "1d21cb647cc74f79a7848b63103fcdc2",
            "fd39508a1408476b8b6413f2a21c7d64",
            "7fb021c57c924bfbbcb9b88ffea3b9ee",
            "67cc81239bff424b8d0157ab867d05fa",
            "b0bd0c1add4f4ea2b1c4eb1676b79c0d",
            "b56c66e77edb4bba8eccd84ae1a6e125",
            "a2b9f74b01114229bf61feca71f1fdaf",
            "adb735bcfc564aa29905b867f7ce26d4",
            "f49dd5d258964c349dabe87f5a914e03"
          ]
        },
        "outputId": "a5a9f1b9-2e08-4797-e6fa-2f74b25b46ed"
      },
      "execution_count": 7,
      "outputs": [
        {
          "output_type": "stream",
          "name": "stderr",
          "text": [
            "/usr/local/lib/python3.12/dist-packages/huggingface_hub/utils/_auth.py:94: UserWarning: \n",
            "The secret `HF_TOKEN` does not exist in your Colab secrets.\n",
            "To authenticate with the Hugging Face Hub, create a token in your settings tab (https://huggingface.co/settings/tokens), set it as secret in your Google Colab and restart your session.\n",
            "You will be able to reuse this secret in all of your notebooks.\n",
            "Please note that authentication is recommended but still optional to access public models or datasets.\n",
            "  warnings.warn(\n"
          ]
        },
        {
          "output_type": "display_data",
          "data": {
            "text/plain": [
              "tokenizer_config.json:   0%|          | 0.00/200 [00:00<?, ?B/s]"
            ],
            "application/vnd.jupyter.widget-view+json": {
              "version_major": 2,
              "version_minor": 0,
              "model_id": "31e7a3d7521546a3aa4fb4df27f235de"
            }
          },
          "metadata": {}
        },
        {
          "output_type": "display_data",
          "data": {
            "text/plain": [
              "vocab.json: 0.00B [00:00, ?B/s]"
            ],
            "application/vnd.jupyter.widget-view+json": {
              "version_major": 2,
              "version_minor": 0,
              "model_id": "42decd9dc4ad4b77b22d0b7c50ea6c55"
            }
          },
          "metadata": {}
        },
        {
          "output_type": "display_data",
          "data": {
            "text/plain": [
              "merges.txt: 0.00B [00:00, ?B/s]"
            ],
            "application/vnd.jupyter.widget-view+json": {
              "version_major": 2,
              "version_minor": 0,
              "model_id": "101445d0065f4184911fa34a66e5b2a0"
            }
          },
          "metadata": {}
        },
        {
          "output_type": "display_data",
          "data": {
            "text/plain": [
              "special_tokens_map.json:   0%|          | 0.00/90.0 [00:00<?, ?B/s]"
            ],
            "application/vnd.jupyter.widget-view+json": {
              "version_major": 2,
              "version_minor": 0,
              "model_id": "564535c709f04cb0a6ad728aef78fb4c"
            }
          },
          "metadata": {}
        },
        {
          "output_type": "display_data",
          "data": {
            "text/plain": [
              "config.json: 0.00B [00:00, ?B/s]"
            ],
            "application/vnd.jupyter.widget-view+json": {
              "version_major": 2,
              "version_minor": 0,
              "model_id": "d3ad68cb6e9e489282513bc9cd47d2f1"
            }
          },
          "metadata": {}
        },
        {
          "output_type": "display_data",
          "data": {
            "text/plain": [
              "model.safetensors:   0%|          | 0.00/5.31G [00:00<?, ?B/s]"
            ],
            "application/vnd.jupyter.widget-view+json": {
              "version_major": 2,
              "version_minor": 0,
              "model_id": "1ad4dad347844ad4b09b6c24024d59d1"
            }
          },
          "metadata": {}
        },
        {
          "output_type": "stream",
          "name": "stderr",
          "text": [
            "The following generation flags are not valid and may be ignored: ['temperature']. Set `TRANSFORMERS_VERBOSITY=info` for more details.\n"
          ]
        },
        {
          "output_type": "stream",
          "name": "stdout",
          "text": [
            "Generate a dataset with 10 rows and 4 columns:\n",
            "Job (a string representing a person's job), Age (an integer between 18 and 75), Country (a string representing a country name), and Score (a floating-point number between 0 and 100).\n",
            "\n",
            "Job | Age | Country | Score\n",
            "---------------------------------\n",
            "Teacher | 30 | USA | 88.5\n",
            "Engineer | 45 | UK | 92.3\n",
            "Nurse | 28 | Canada | 75.4\n",
            "Artist | 33 | France | 68.9\n",
            "Doctor | 50 | Germany | 85.1\n",
            "Manager | 25 | Spain | 77.8\n",
            "Salesperson | 35 | Japan | 73.6\n",
            "Driver | 20 | Australia | 71.2\n",
            "Clerk | 40 | India | 70.7\n",
            "Student | 24 | China | 69.0\n",
            "Baker | 22 | Brazil | 66.75\n",
            "Maid | 23 | Italy | 65.25\n",
            "Cook | 21 | Greece | 64.15\n",
            "Housewife | 26 | Turkey | 63.85\n",
            "Fisherman | 29 | Russia | 62.65\n",
            "Porter | 27 | South Africa | 61.45\n",
            "Sailor | 32 | United States | 60.35\n",
            "Soldier | 31 | Sweden | 59.05\n",
            "Police | 34 | Netherlands | 58.95\n",
            "Fireman/Paramedic | 36 | Belgium | 57.55\n",
            "Construction worker | 37 | Denmark | 56.40\n",
            "Electrician | 38 | Norway | 55.10\n",
            "Mechanic | 39 | Austria | 54.\n",
            "\n",
            "Extracted Data:\n",
            "Job: Teacher, Age: 30, Country: USA, Score: 88.5\n",
            "Job: Engineer, Age: 45, Country: UK, Score: 92.3\n",
            "Job: Nurse, Age: 28, Country: Canada, Score: 75.4\n",
            "Job: Artist, Age: 33, Country: France, Score: 68.9\n",
            "Job: Doctor, Age: 50, Country: Germany, Score: 85.1\n",
            "Job: Manager, Age: 25, Country: Spain, Score: 77.8\n",
            "Job: Salesperson, Age: 35, Country: Japan, Score: 73.6\n",
            "Job: Driver, Age: 20, Country: Australia, Score: 71.2\n",
            "Job: Clerk, Age: 40, Country: India, Score: 70.7\n",
            "Job: Student, Age: 24, Country: China, Score: 69.0\n",
            "Job: Baker, Age: 22, Country: Brazil, Score: 66.75\n",
            "Job: Maid, Age: 23, Country: Italy, Score: 65.25\n",
            "Job: Cook, Age: 21, Country: Greece, Score: 64.15\n",
            "Job: Housewife, Age: 26, Country: Turkey, Score: 63.85\n",
            "Job: Fisherman, Age: 29, Country: Russia, Score: 62.65\n",
            "Job: Porter, Age: 27, Country: South Africa, Score: 61.45\n",
            "Job: Sailor, Age: 32, Country: United States, Score: 60.35\n",
            "Job: Soldier, Age: 31, Country: Sweden, Score: 59.05\n",
            "Job: Police, Age: 34, Country: Netherlands, Score: 58.95\n",
            "Job: Paramedic, Age: 36, Country: Belgium, Score: 57.55\n",
            "Job: Construction worker, Age: 37, Country: Denmark, Score: 56.40\n",
            "Job: Electrician, Age: 38, Country: Norway, Score: 55.10\n"
          ]
        }
      ]
    },
    {
      "cell_type": "markdown",
      "source": [
        "# Data generation with specific structures and relationships"
      ],
      "metadata": {
        "id": "U8v4EU71Mclx"
      }
    },
    {
      "cell_type": "markdown",
      "source": [
        "## Managing complex relationships"
      ],
      "metadata": {
        "id": "y6J-Tt_XMdz2"
      }
    },
    {
      "cell_type": "code",
      "source": [
        "import numpy as np\n",
        "import pandas as pd\n",
        "\n",
        "# Number of observations and categories\n",
        "n_observations = 100\n",
        "n_categories = 3\n",
        "\n",
        "# Total sum for every observation\n",
        "total_sum = 100\n",
        "\n",
        "# Generation of casual data\n",
        "data = np.random.dirichlet(np.ones(n_categories), size=n_observations) * total_sum\n",
        "\n",
        "# Creation of a DataFrame\n",
        "df = pd.DataFrame(data, columns=[f\"Category_{i+1}\" for i in range(n_categories)])\n",
        "df[\"Total\"] = df.sum(axis=1)\n",
        "\n",
        "print(\"Example of dataset generated with fixed sum:\")\n",
        "print(df.head())"
      ],
      "metadata": {
        "id": "EXIUwkU4MW1T",
        "colab": {
          "base_uri": "https://localhost:8080/"
        },
        "outputId": "417ba011-8da3-4958-f258-f83e4f80245f"
      },
      "execution_count": 8,
      "outputs": [
        {
          "output_type": "stream",
          "name": "stdout",
          "text": [
            "Example of dataset generated with fixed sum:\n",
            "   Category_1  Category_2  Category_3  Total\n",
            "0   12.730008   17.749211   69.520781  100.0\n",
            "1   27.607252   13.452004   58.940744  100.0\n",
            "2   57.483503   24.880235   17.636263  100.0\n",
            "3    1.803816   16.842692   81.353492  100.0\n",
            "4    5.064407   24.513064   70.422529  100.0\n"
          ]
        }
      ]
    },
    {
      "cell_type": "code",
      "source": [
        "from scipy.stats import norm\n",
        "\n",
        "# Dimension of dataset\n",
        "n_samples = 1000\n",
        "\n",
        "# Desired correlation matrix\n",
        "correlation_matrix = np.array([[1.0, 0.8, 0.5], [0.8, 1.0, 0.3],[0.5, 0.3, 1.0]])\n",
        "\n",
        "# Creation of correlated data\n",
        "mean = [0, 0, 0]\n",
        "data = np.random.multivariate_normal(mean, correlation_matrix, size=n_samples)\n",
        "\n",
        "# Conversione in DataFrame\n",
        "df_corr = pd.DataFrame(data, columns=[\"Variable_1\", \"Variabie_2\", \"Variable_3\"])\n",
        "print(df_corr.corr())"
      ],
      "metadata": {
        "id": "y_tX8kyAMhSz",
        "colab": {
          "base_uri": "https://localhost:8080/"
        },
        "outputId": "77a80a37-3440-4e79-a668-b4e70682ba3d"
      },
      "execution_count": 9,
      "outputs": [
        {
          "output_type": "stream",
          "name": "stdout",
          "text": [
            "            Variable_1  Variabie_2  Variable_3\n",
            "Variable_1    1.000000    0.795801    0.529066\n",
            "Variabie_2    0.795801    1.000000    0.325663\n",
            "Variable_3    0.529066    0.325663    1.000000\n"
          ]
        }
      ]
    },
    {
      "cell_type": "markdown",
      "source": [
        "### Graph-based models"
      ],
      "metadata": {
        "id": "M34jJN-mMjTe"
      }
    },
    {
      "cell_type": "code",
      "source": [
        "import networkx as nx\n",
        "import pandas as pd\n",
        "import matplotlib.pyplot as plt\n",
        "\n",
        "# Creaion of a casual graph\n",
        "n_nodes = 10\n",
        "p_connection = 0.3\n",
        "graph = nx.erdos_renyi_graph(n_nodes, p_connection)\n",
        "\n",
        "# Conversion into DataFrame\n",
        "edges = nx.to_pandas_edgelist(graph)\n",
        "print(\"List of connecetions (arcs):\")\n",
        "print(edges)\n",
        "\n",
        "# Visualization of graph\n",
        "plt.figure(figsize=(8, 6))\n",
        "nx.draw(graph, with_labels=True, node_color='lightblue', edge_color='gray', node_size=700, font_size=10)\n",
        "plt.title(\"Representation of Casual Graph\")\n",
        "plt.show()"
      ],
      "metadata": {
        "id": "rS2COfsrMkmz",
        "colab": {
          "base_uri": "https://localhost:8080/",
          "height": 982
        },
        "outputId": "e46905c5-356f-4a5e-9793-27f1dff1af73"
      },
      "execution_count": 10,
      "outputs": [
        {
          "output_type": "stream",
          "name": "stdout",
          "text": [
            "List of connecetions (arcs):\n",
            "    source  target\n",
            "0        0       7\n",
            "1        0       9\n",
            "2        1       5\n",
            "3        1       6\n",
            "4        2       3\n",
            "5        2       4\n",
            "6        2       8\n",
            "7        3       6\n",
            "8        3       9\n",
            "9        4       5\n",
            "10       4       6\n",
            "11       4       9\n",
            "12       5       6\n",
            "13       5       7\n",
            "14       6       7\n",
            "15       6       9\n",
            "16       8       9\n"
          ]
        },
        {
          "output_type": "display_data",
          "data": {
            "text/plain": [
              "<Figure size 800x600 with 1 Axes>"
            ],
            "image/png": "[encoded data removed]"
          },
          "metadata": {}
        }
      ]
    },
    {
      "cell_type": "markdown",
      "source": [
        "### Autoregressive models for time series"
      ],
      "metadata": {
        "id": "GeQqoIF8MqCu"
      }
    },
    {
      "cell_type": "code",
      "source": [
        "import numpy as np\n",
        "import networkx as nx\n",
        "import pandas as pd\n",
        "import matplotlib.pyplot as plt\n",
        "from statsmodels.tsa.arima_process import ArmaProcess\n",
        "\n",
        "# Definiion of AR and MA paramaters\n",
        "ar_params = np.array([1, -0.5])\n",
        "ma_params = np.array([1, 0.4])\n",
        "model = ArmaProcess(ar=ar_params, ma=ma_params)\n",
        "\n",
        "# Generaion of the temporal series\n",
        "n_points = 200\n",
        "time_series = model.generate_sample(nsample=n_points)\n",
        "\n",
        "# Visualization\n",
        "import matplotlib.pyplot as plt\n",
        "plt.plot(time_series)\n",
        "plt.title(\"Autoregressive Temporal Series\")\n",
        "plt.show()"
      ],
      "metadata": {
        "id": "2Mn_DODvMmZr",
        "colab": {
          "base_uri": "https://localhost:8080/",
          "height": 452
        },
        "outputId": "35c2d872-0132-4a01-a0c3-0b9a5966d77a"
      },
      "execution_count": 11,
      "outputs": [
        {
          "output_type": "display_data",
          "data": {
            "text/plain": [
              "<Figure size 640x480 with 1 Axes>"
            ],
            "image/png": "[encoded data removed]"
          },
          "metadata": {}
        }
      ]
    }
  ]
}
