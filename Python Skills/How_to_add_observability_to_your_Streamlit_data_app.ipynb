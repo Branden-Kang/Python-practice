{
  "nbformat": 4,
  "nbformat_minor": 0,
  "metadata": {
    "colab": {
      "name": "How to add observability to your Streamlit data app.ipynb",
      "provenance": [],
      "authorship_tag": "ABX9TyOQltp3K5i6GJa7nG0rIIvO"
    },
    "kernelspec": {
      "name": "python3",
      "display_name": "Python 3"
    },
    "language_info": {
      "name": "python"
    }
  },
  "cells": [
    {
      "cell_type": "markdown",
      "source": [
        "[Reference](https://wolfgangb33r.medium.com/how-to-add-observability-to-your-streamlit-data-app-7bd61274f35d)"
      ],
      "metadata": {
        "id": "cT_1P0HBBtZK"
      }
    },
    {
      "cell_type": "code",
      "execution_count": 1,
      "metadata": {
        "id": "UO5BJDuiBI_h"
      },
      "outputs": [],
      "source": [
        "import streamlit as st\n",
        "import streamlit.components.v1 as components\n",
        "import numpy as np\n",
        "import os\n",
        "\n",
        "def inject(tag):\n",
        "  with open(os.path.dirname(st.__file__) + \n",
        "     \"/static/index.html\", 'r') as file:\n",
        "  str = file.read()\n",
        "  if str.find(tag) == -1:\n",
        "    idx = str.index('<head>')\n",
        "    new_str = str[:idx] + tag + str[idx:]\n",
        "    with open(os.path.dirname(st.__file__) \n",
        "       + \"/static/index.html\", 'w') as file:\n",
        "      file.write(new_str)\n",
        "inject('<script type=\"text/javascript\" src=\"https://js-cdn.dynatrace.com/jstag/\n",
        "\"></script>')"
      ]
    }
  ]
}