{
  "nbformat": 4,
  "nbformat_minor": 0,
  "metadata": {
    "colab": {
      "name": "Underscores in Python.ipynb",
      "provenance": [],
      "authorship_tag": "ABX9TyPzP5e2m6qovOxUN42/ToF6"
    },
    "kernelspec": {
      "name": "python3",
      "display_name": "Python 3"
    }
  },
  "cells": [
    {
      "cell_type": "markdown",
      "metadata": {
        "id": "NNY7BdGqXsht"
      },
      "source": [
        "[Reference1](https://medium.com/dev-genius/something-every-python-programmer-must-know-python-underscores-f211dcd866b9) <br>\n",
        "[Reference2](https://medium.com/swlh/underscores-in-python-c67abf7a67d1)"
      ]
    },
    {
      "cell_type": "code",
      "metadata": {
        "id": "z_Os-z1XXIys"
      },
      "source": [
        "class Pubber:\n",
        "  def __init__(self):\n",
        "    self.name = 'Bond, James'\n",
        "    self._age = 33\n",
        "    self.__address = 'Mars' #double underscore prefix"
      ],
      "execution_count": 1,
      "outputs": []
    },
    {
      "cell_type": "code",
      "metadata": {
        "id": "rqr40YriXUHE"
      },
      "source": [
        "guest = Pubber()"
      ],
      "execution_count": 2,
      "outputs": []
    },
    {
      "cell_type": "code",
      "metadata": {
        "id": "SAKOY3MrXVHc",
        "outputId": "9d11f5ab-071d-4a9c-f826-ff9376c9a019",
        "colab": {
          "base_uri": "https://localhost:8080/",
          "height": 510
        }
      },
      "source": [
        "dir(guest)"
      ],
      "execution_count": 3,
      "outputs": [
        {
          "output_type": "execute_result",
          "data": {
            "text/plain": [
              "['_Pubber__address',\n",
              " '__class__',\n",
              " '__delattr__',\n",
              " '__dict__',\n",
              " '__dir__',\n",
              " '__doc__',\n",
              " '__eq__',\n",
              " '__format__',\n",
              " '__ge__',\n",
              " '__getattribute__',\n",
              " '__gt__',\n",
              " '__hash__',\n",
              " '__init__',\n",
              " '__init_subclass__',\n",
              " '__le__',\n",
              " '__lt__',\n",
              " '__module__',\n",
              " '__ne__',\n",
              " '__new__',\n",
              " '__reduce__',\n",
              " '__reduce_ex__',\n",
              " '__repr__',\n",
              " '__setattr__',\n",
              " '__sizeof__',\n",
              " '__str__',\n",
              " '__subclasshook__',\n",
              " '__weakref__',\n",
              " '_age',\n",
              " 'name']"
            ]
          },
          "metadata": {
            "tags": []
          },
          "execution_count": 3
        }
      ]
    },
    {
      "cell_type": "code",
      "metadata": {
        "id": "jIuA8nJqXWo8",
        "outputId": "cdbb6502-5e4b-4528-8831-fb6f9ab31b36",
        "colab": {
          "base_uri": "https://localhost:8080/",
          "height": 37
        }
      },
      "source": [
        "guest.name"
      ],
      "execution_count": 4,
      "outputs": [
        {
          "output_type": "execute_result",
          "data": {
            "application/vnd.google.colaboratory.intrinsic+json": {
              "type": "string"
            },
            "text/plain": [
              "'Bond, James'"
            ]
          },
          "metadata": {
            "tags": []
          },
          "execution_count": 4
        }
      ]
    },
    {
      "cell_type": "code",
      "metadata": {
        "id": "k6VFAf-oXa32",
        "outputId": "6f52b709-501c-4de0-8b60-fc6f3e10bda4",
        "colab": {
          "base_uri": "https://localhost:8080/",
          "height": 198
        }
      },
      "source": [
        "guest.__address"
      ],
      "execution_count": 5,
      "outputs": [
        {
          "output_type": "error",
          "ename": "AttributeError",
          "evalue": "ignored",
          "traceback": [
            "\u001b[0;31m---------------------------------------------------------------------------\u001b[0m",
            "\u001b[0;31mAttributeError\u001b[0m                            Traceback (most recent call last)",
            "\u001b[0;32m<ipython-input-5-458fefea3982>\u001b[0m in \u001b[0;36m<module>\u001b[0;34m()\u001b[0m\n\u001b[0;32m----> 1\u001b[0;31m \u001b[0mguest\u001b[0m\u001b[0;34m.\u001b[0m\u001b[0m__address\u001b[0m\u001b[0;34m\u001b[0m\u001b[0;34m\u001b[0m\u001b[0m\n\u001b[0m",
            "\u001b[0;31mAttributeError\u001b[0m: 'Pubber' object has no attribute '__address'"
          ]
        }
      ]
    },
    {
      "cell_type": "code",
      "metadata": {
        "id": "mMezse3DXcHE"
      },
      "source": [
        "guest._Pubber__address"
      ],
      "execution_count": null,
      "outputs": []
    },
    {
      "cell_type": "code",
      "metadata": {
        "id": "T2r6y_umXg3q"
      },
      "source": [
        "_Pubber__address = 'Mars' #global variable\n",
        "class Pubber:\n",
        "   def address(self):\n",
        "       return __address"
      ],
      "execution_count": null,
      "outputs": []
    },
    {
      "cell_type": "code",
      "metadata": {
        "id": "tSq0LxtuXkZj"
      },
      "source": [
        "Pubber.address()"
      ],
      "execution_count": null,
      "outputs": []
    },
    {
      "cell_type": "markdown",
      "metadata": {
        "id": "Z0sJBhLoMiB6"
      },
      "source": [
        "# 1. Single lone underscore (_)"
      ]
    },
    {
      "cell_type": "code",
      "metadata": {
        "id": "3tRBWekbMei1",
        "outputId": "bfa25238-d3e9-43dd-cdf4-d3c961388f41",
        "colab": {
          "base_uri": "https://localhost:8080/",
          "height": 37
        }
      },
      "source": [
        "_"
      ],
      "execution_count": 6,
      "outputs": [
        {
          "output_type": "execute_result",
          "data": {
            "application/vnd.google.colaboratory.intrinsic+json": {
              "type": "string"
            },
            "text/plain": [
              "'Bond, James'"
            ]
          },
          "metadata": {
            "tags": []
          },
          "execution_count": 6
        }
      ]
    },
    {
      "cell_type": "code",
      "metadata": {
        "id": "_FmsszykMjHM",
        "outputId": "28f5ebdd-15cf-46de-ae68-2ed023c0741f",
        "colab": {
          "base_uri": "https://localhost:8080/",
          "height": 34
        }
      },
      "source": [
        "100"
      ],
      "execution_count": 7,
      "outputs": [
        {
          "output_type": "execute_result",
          "data": {
            "text/plain": [
              "100"
            ]
          },
          "metadata": {
            "tags": []
          },
          "execution_count": 7
        }
      ]
    },
    {
      "cell_type": "code",
      "metadata": {
        "id": "FV_rEm2NMkBx",
        "outputId": "d7002fa5-89e2-42a2-d6b9-c3c5b297a95b",
        "colab": {
          "base_uri": "https://localhost:8080/",
          "height": 34
        }
      },
      "source": [
        "_"
      ],
      "execution_count": 8,
      "outputs": [
        {
          "output_type": "execute_result",
          "data": {
            "text/plain": [
              "100"
            ]
          },
          "metadata": {
            "tags": []
          },
          "execution_count": 8
        }
      ]
    },
    {
      "cell_type": "code",
      "metadata": {
        "id": "FAgDqxgEMk0k",
        "outputId": "e51e0889-0279-4b66-a485-5e75748c629e",
        "colab": {
          "base_uri": "https://localhost:8080/",
          "height": 37
        }
      },
      "source": [
        "'You are right!' if _ else \":(\""
      ],
      "execution_count": 9,
      "outputs": [
        {
          "output_type": "execute_result",
          "data": {
            "application/vnd.google.colaboratory.intrinsic+json": {
              "type": "string"
            },
            "text/plain": [
              "'You are right!'"
            ]
          },
          "metadata": {
            "tags": []
          },
          "execution_count": 9
        }
      ]
    },
    {
      "cell_type": "code",
      "metadata": {
        "id": "VJ3NyyZaMotW",
        "outputId": "1fc18465-fdf1-448c-de72-7f1a9a463fcc",
        "colab": {
          "base_uri": "https://localhost:8080/",
          "height": 37
        }
      },
      "source": [
        "_"
      ],
      "execution_count": 10,
      "outputs": [
        {
          "output_type": "execute_result",
          "data": {
            "application/vnd.google.colaboratory.intrinsic+json": {
              "type": "string"
            },
            "text/plain": [
              "'You are right!'"
            ]
          },
          "metadata": {
            "tags": []
          },
          "execution_count": 10
        }
      ]
    },
    {
      "cell_type": "code",
      "metadata": {
        "id": "a8dwVDdgMpwU"
      },
      "source": [
        "n = 42\n",
        "for _ in range(n):\n",
        "    do_something()"
      ],
      "execution_count": 12,
      "outputs": []
    },
    {
      "cell_type": "markdown",
      "metadata": {
        "id": "eS-47kJaMveU"
      },
      "source": [
        "# 2. Single underscore before a name (e.g. _total)\n",
        "\n",
        "a name prefixed with an underscore (e.g. _spam) should be treated as a non-public part of the API (whether it is a function, a method or a data member). It should be considered an implementation detail and subject to change without notice."
      ]
    },
    {
      "cell_type": "markdown",
      "metadata": {
        "id": "pf2GGCjEM2VI"
      },
      "source": [
        "# 3. Single underscore after a name (e.g. total_)\n",
        "A single underscore after a name is used to avoid a name from shadowing another name."
      ]
    },
    {
      "cell_type": "markdown",
      "metadata": {
        "id": "KCAofHuYNBdZ"
      },
      "source": [
        "# 4. Single underscore in numeric literals (e.g. 100_000)"
      ]
    },
    {
      "cell_type": "code",
      "metadata": {
        "id": "4s0Q4RuzMrf7",
        "outputId": "dd46be86-e7ac-4472-d29f-bde48ceb5eed",
        "colab": {
          "base_uri": "https://localhost:8080/",
          "height": 85
        }
      },
      "source": [
        "# grouping decimal numbers by thousands\n",
        "amount = 10_000_000.0\n",
        "print(amount)\n",
        "# grouping hexadecimal addresses by words\n",
        "addr = 0xCAFE_F00D\n",
        "print(addr)\n",
        "# grouping bits into nibbles in a binary literal\n",
        "flags = 0b_0011_1111_0100_1110\n",
        "print(flags)\n",
        "# same, for string conversions\n",
        "flags = int('0b_1111_0000', 2)\n",
        "print(flags)"
      ],
      "execution_count": 13,
      "outputs": [
        {
          "output_type": "stream",
          "text": [
            "10000000.0\n",
            "3405705229\n",
            "16206\n",
            "240\n"
          ],
          "name": "stdout"
        }
      ]
    },
    {
      "cell_type": "markdown",
      "metadata": {
        "id": "XFzY_HwaNIZw"
      },
      "source": [
        "# 5. Double underscore before a name (e.g. __total)"
      ]
    },
    {
      "cell_type": "code",
      "metadata": {
        "id": "eOvQSBHrNG6E",
        "outputId": "36f008bd-5b7d-4061-8b72-d703c992c2bd",
        "colab": {
          "base_uri": "https://localhost:8080/",
          "height": 493
        }
      },
      "source": [
        "class A(object):\n",
        "    def _internal_use(self):\n",
        "        pass\n",
        "    def __method_name(self):\n",
        "        pass\n",
        " \n",
        "dir(A())"
      ],
      "execution_count": 14,
      "outputs": [
        {
          "output_type": "execute_result",
          "data": {
            "text/plain": [
              "['_A__method_name',\n",
              " '__class__',\n",
              " '__delattr__',\n",
              " '__dict__',\n",
              " '__dir__',\n",
              " '__doc__',\n",
              " '__eq__',\n",
              " '__format__',\n",
              " '__ge__',\n",
              " '__getattribute__',\n",
              " '__gt__',\n",
              " '__hash__',\n",
              " '__init__',\n",
              " '__init_subclass__',\n",
              " '__le__',\n",
              " '__lt__',\n",
              " '__module__',\n",
              " '__ne__',\n",
              " '__new__',\n",
              " '__reduce__',\n",
              " '__reduce_ex__',\n",
              " '__repr__',\n",
              " '__setattr__',\n",
              " '__sizeof__',\n",
              " '__str__',\n",
              " '__subclasshook__',\n",
              " '__weakref__',\n",
              " '_internal_use']"
            ]
          },
          "metadata": {
            "tags": []
          },
          "execution_count": 14
        }
      ]
    },
    {
      "cell_type": "code",
      "metadata": {
        "id": "417_yYAXNSg-",
        "outputId": "bf10c6f8-624a-423c-ba34-9b7e6532a8a5",
        "colab": {
          "base_uri": "https://localhost:8080/",
          "height": 510
        }
      },
      "source": [
        "class B(A):\n",
        "    def __method_name(self):\n",
        "        pass\n",
        " \n",
        "\n",
        "dir(B())"
      ],
      "execution_count": 15,
      "outputs": [
        {
          "output_type": "execute_result",
          "data": {
            "text/plain": [
              "['_A__method_name',\n",
              " '_B__method_name',\n",
              " '__class__',\n",
              " '__delattr__',\n",
              " '__dict__',\n",
              " '__dir__',\n",
              " '__doc__',\n",
              " '__eq__',\n",
              " '__format__',\n",
              " '__ge__',\n",
              " '__getattribute__',\n",
              " '__gt__',\n",
              " '__hash__',\n",
              " '__init__',\n",
              " '__init_subclass__',\n",
              " '__le__',\n",
              " '__lt__',\n",
              " '__module__',\n",
              " '__ne__',\n",
              " '__new__',\n",
              " '__reduce__',\n",
              " '__reduce_ex__',\n",
              " '__repr__',\n",
              " '__setattr__',\n",
              " '__sizeof__',\n",
              " '__str__',\n",
              " '__subclasshook__',\n",
              " '__weakref__',\n",
              " '_internal_use']"
            ]
          },
          "metadata": {
            "tags": []
          },
          "execution_count": 15
        }
      ]
    },
    {
      "cell_type": "markdown",
      "metadata": {
        "id": "sHz_4Y45NghS"
      },
      "source": [
        "# 6. Double underscore before and after a name (e.g. __init__)"
      ]
    },
    {
      "cell_type": "code",
      "metadata": {
        "id": "9zqjDGkMNe9e",
        "outputId": "a739b008-303d-4e51-e6c5-5c03797d0dde",
        "colab": {
          "base_uri": "https://localhost:8080/",
          "height": 476
        }
      },
      "source": [
        "class C(object):\n",
        "    def __mine__(self):\n",
        "        pass\n",
        "dir(C)"
      ],
      "execution_count": 16,
      "outputs": [
        {
          "output_type": "execute_result",
          "data": {
            "text/plain": [
              "['__class__',\n",
              " '__delattr__',\n",
              " '__dict__',\n",
              " '__dir__',\n",
              " '__doc__',\n",
              " '__eq__',\n",
              " '__format__',\n",
              " '__ge__',\n",
              " '__getattribute__',\n",
              " '__gt__',\n",
              " '__hash__',\n",
              " '__init__',\n",
              " '__init_subclass__',\n",
              " '__le__',\n",
              " '__lt__',\n",
              " '__mine__',\n",
              " '__module__',\n",
              " '__ne__',\n",
              " '__new__',\n",
              " '__reduce__',\n",
              " '__reduce_ex__',\n",
              " '__repr__',\n",
              " '__setattr__',\n",
              " '__sizeof__',\n",
              " '__str__',\n",
              " '__subclasshook__',\n",
              " '__weakref__']"
            ]
          },
          "metadata": {
            "tags": []
          },
          "execution_count": 16
        }
      ]
    }
  ]
}