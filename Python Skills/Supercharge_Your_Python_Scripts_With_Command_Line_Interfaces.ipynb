{
  "nbformat": 4,
  "nbformat_minor": 0,
  "metadata": {
    "colab": {
      "provenance": [],
      "authorship_tag": "ABX9TyN2TBXoFUDFxQWqsMAb2Xgr"
    },
    "kernelspec": {
      "name": "python3",
      "display_name": "Python 3"
    },
    "language_info": {
      "name": "python"
    }
  },
  "cells": [
    {
      "cell_type": "markdown",
      "source": [
        "[Reference](https://medium.com/@andresberejnoi/supercharge-your-python-scripts-with-command-line-interfaces-andres-berejnoi-f906897b915f)"
      ],
      "metadata": {
        "id": "gE8Msq_x4MgB"
      }
    },
    {
      "cell_type": "code",
      "execution_count": 4,
      "metadata": {
        "id": "3eNNGi8v4LSy"
      },
      "outputs": [],
      "source": [
        "# # sys_examples.py \n",
        "# import sys \n",
        "# import datetime as dt \n",
        "# def main(): \n",
        "#     name = sys.argv[1] \n",
        "#     age = int(sys.argv[2]) \n",
        "#     occupation = sys.argv[3]     \n",
        "#     print(f\"Hello {name}.\") \n",
        "#     print(f\"Your age is {age}. Therefore, you were probably born around {(dt.datetime.today() - dt.timedelta(days=age*365)).year}.\") \n",
        "#     print(f\"Occupation is {occupation}.\") \n",
        "# if __name__ == '__main__': \n",
        "#     main()"
      ]
    },
    {
      "cell_type": "code",
      "source": [
        "# import argparse \n",
        "# import datetime as dt \n",
        "# def cli(): \n",
        "#     parser = argparse.ArgumentParser(description='Simple Example')\n",
        "#     parser.add_argument('-n', '--name', type=str, \n",
        "#                         default='John', help=\"Name of user\") \n",
        "#     parser.add_argument('-a', '--age', type=int, default=31,\n",
        "#                         help=\"Age of user\") \n",
        "#     parser.add_argument('-o', '--occupation', type=str,\n",
        "#                        default='software developer',\n",
        "#                        help='Occupation of user')     \n",
        "#     args = parser.parse_args() \n",
        "#     return args \n",
        "# def main(args): \n",
        "#     name = args.name \n",
        "#     age = args.age \n",
        "#     occupation = args.occupation     \n",
        "#     print(f\"\\nHello {name}.\") \n",
        "#     print(f\"Your age is {age}. Therefore, you were probably born around {(dt.datetime.today() - dt.timedelta(days=age*365)).year}.\") \n",
        "#     print(f\"Occupation is {occupation}.\\n\") \n",
        "# if __name__ == \"__main__\": \n",
        "#     args = cli() \n",
        "#     main(args)"
      ],
      "metadata": {
        "id": "atqfgSVd4RHB"
      },
      "execution_count": 5,
      "outputs": []
    }
  ]
}
