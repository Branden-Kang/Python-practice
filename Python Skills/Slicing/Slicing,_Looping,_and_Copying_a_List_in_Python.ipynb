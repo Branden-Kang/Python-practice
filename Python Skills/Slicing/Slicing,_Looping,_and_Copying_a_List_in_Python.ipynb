{
  "nbformat": 4,
  "nbformat_minor": 0,
  "metadata": {
    "colab": {
      "name": "Slicing, Looping, and Copying a List in Python.ipynb",
      "provenance": [],
      "authorship_tag": "ABX9TyM1Qg2QkQow6GW3WlL6GmYe"
    },
    "kernelspec": {
      "name": "python3",
      "display_name": "Python 3"
    }
  },
  "cells": [
    {
      "cell_type": "markdown",
      "metadata": {
        "id": "18AYSzKt0LIM"
      },
      "source": [
        "[Reference](https://medium.com/probably-programming/python-slicing-looping-and-copying-a-list-a2ad96a170ba)"
      ]
    },
    {
      "cell_type": "code",
      "metadata": {
        "colab": {
          "base_uri": "https://localhost:8080/"
        },
        "id": "Uca3YOR40IFZ",
        "outputId": "15058b9a-d517-484e-d25f-00782c91cc25"
      },
      "source": [
        "names = [\"michael\", \"dwight\", \"jim\", \"kevin\", \"andy\"]\n",
        "print(names[0:2])"
      ],
      "execution_count": 1,
      "outputs": [
        {
          "output_type": "stream",
          "text": [
            "['michael', 'dwight']\n"
          ],
          "name": "stdout"
        }
      ]
    },
    {
      "cell_type": "code",
      "metadata": {
        "colab": {
          "base_uri": "https://localhost:8080/"
        },
        "id": "BZ9pNz080NV7",
        "outputId": "e94b1cf0-6ffa-460b-8f01-b9d9a8cf360e"
      },
      "source": [
        "names = [\"michael\", \"dwight\", \"jim\"]\n",
        "print(names[0:3])"
      ],
      "execution_count": 2,
      "outputs": [
        {
          "output_type": "stream",
          "text": [
            "['michael', 'dwight', 'jim']\n"
          ],
          "name": "stdout"
        }
      ]
    },
    {
      "cell_type": "code",
      "metadata": {
        "colab": {
          "base_uri": "https://localhost:8080/"
        },
        "id": "OhWwEmHl0PGt",
        "outputId": "fd93f21f-9029-4432-db1b-a555601cc4e7"
      },
      "source": [
        "names = [\"michael\", \"dwight\", \"jim\", \"kevin\", \"andy\"]\n",
        "print(names[:4])"
      ],
      "execution_count": 3,
      "outputs": [
        {
          "output_type": "stream",
          "text": [
            "['michael', 'dwight', 'jim', 'kevin']\n"
          ],
          "name": "stdout"
        }
      ]
    },
    {
      "cell_type": "code",
      "metadata": {
        "colab": {
          "base_uri": "https://localhost:8080/"
        },
        "id": "Ufsz4RC30Q_x",
        "outputId": "91491a1e-dcc6-4e52-8aa0-d350e103c7f2"
      },
      "source": [
        "names = [\"michael\", \"dwight\", \"jim\", \"kevin\", \"andy\"]\n",
        "print(names[2:])"
      ],
      "execution_count": 4,
      "outputs": [
        {
          "output_type": "stream",
          "text": [
            "['jim', 'kevin', 'andy']\n"
          ],
          "name": "stdout"
        }
      ]
    },
    {
      "cell_type": "code",
      "metadata": {
        "colab": {
          "base_uri": "https://localhost:8080/"
        },
        "id": "GbfYQwnI0Unt",
        "outputId": "10be15f3-d668-48c5-d1c4-aa23781d3384"
      },
      "source": [
        "names = [\"michael\", \"dwight\", \"jim\", \"kevin\", \"andy\"]\n",
        "print(names[:])"
      ],
      "execution_count": 5,
      "outputs": [
        {
          "output_type": "stream",
          "text": [
            "['michael', 'dwight', 'jim', 'kevin', 'andy']\n"
          ],
          "name": "stdout"
        }
      ]
    },
    {
      "cell_type": "code",
      "metadata": {
        "colab": {
          "base_uri": "https://localhost:8080/"
        },
        "id": "EYMHuoUx0ViW",
        "outputId": "981a67c4-9dfb-4097-d60f-673e43f41479"
      },
      "source": [
        "names = [\"michael\", \"dwight\", \"jim\", \"kevin\", \"andy\"]\n",
        "print(names[-2:])"
      ],
      "execution_count": 6,
      "outputs": [
        {
          "output_type": "stream",
          "text": [
            "['kevin', 'andy']\n"
          ],
          "name": "stdout"
        }
      ]
    },
    {
      "cell_type": "code",
      "metadata": {
        "colab": {
          "base_uri": "https://localhost:8080/"
        },
        "id": "tEsp3NKp0WjX",
        "outputId": "292f513e-def8-4704-c44e-426a17151e79"
      },
      "source": [
        "names = [\"michael\", \"dwight\", \"jim\", \"kevin\", \"andy\"]\n",
        "\n",
        "print(\"The first 2 characters of the office are:\")\n",
        "for name in names[:2]:\n",
        "    print(name.title())"
      ],
      "execution_count": 7,
      "outputs": [
        {
          "output_type": "stream",
          "text": [
            "The first 2 characters of the office are:\n",
            "Michael\n",
            "Dwight\n"
          ],
          "name": "stdout"
        }
      ]
    },
    {
      "cell_type": "code",
      "metadata": {
        "colab": {
          "base_uri": "https://localhost:8080/"
        },
        "id": "7sefSP6M0ZPT",
        "outputId": "036f269e-5a38-4916-a7a8-d1ed27d391b2"
      },
      "source": [
        "my_grades = ['a', 'b', 'a', 'a']\n",
        "friend_grades = my_grades[:]\n",
        "\n",
        "print(\"My grades this semester are:\")\n",
        "print(my_grades)\n",
        "\n",
        "print(\"My friend's grades this semester are:\")\n",
        "print(friend_grades)"
      ],
      "execution_count": 8,
      "outputs": [
        {
          "output_type": "stream",
          "text": [
            "My grades this semester are:\n",
            "['a', 'b', 'a', 'a']\n",
            "My friend's grades this semester are:\n",
            "['a', 'b', 'a', 'a']\n"
          ],
          "name": "stdout"
        }
      ]
    },
    {
      "cell_type": "code",
      "metadata": {
        "colab": {
          "base_uri": "https://localhost:8080/"
        },
        "id": "-3oLyasi0bj7",
        "outputId": "d0bfb6be-ab24-47e1-fc96-93e574e4d1d8"
      },
      "source": [
        "my_grades = ['a', 'b', 'a', 'a']\n",
        "friend_grades = my_grades[:]\n",
        "\n",
        "my_grades.append('c')\n",
        "friend_grades.append('b')\n",
        "\n",
        "print(\"My grades this semester are:\")\n",
        "print(my_grades)\n",
        "\n",
        "print(\"My friend's grades this semester are:\")\n",
        "print(friend_grades)"
      ],
      "execution_count": 9,
      "outputs": [
        {
          "output_type": "stream",
          "text": [
            "My grades this semester are:\n",
            "['a', 'b', 'a', 'a', 'c']\n",
            "My friend's grades this semester are:\n",
            "['a', 'b', 'a', 'a', 'b']\n"
          ],
          "name": "stdout"
        }
      ]
    },
    {
      "cell_type": "code",
      "metadata": {
        "colab": {
          "base_uri": "https://localhost:8080/"
        },
        "id": "Ge-KM8E10ewx",
        "outputId": "106eec4f-1746-4ee9-e131-8a49bb9327da"
      },
      "source": [
        "my_grades = ['a', 'b', 'a', 'a']\n",
        "friend_grades = my_grades\n",
        "\n",
        "my_grades.append('c')\n",
        "friend_grades.append('b')\n",
        "\n",
        "print(\"My grades this semester are:\")\n",
        "print(my_grades)\n",
        "\n",
        "print(\"My friend's grades this semester are:\")\n",
        "print(friend_grades)"
      ],
      "execution_count": 10,
      "outputs": [
        {
          "output_type": "stream",
          "text": [
            "My grades this semester are:\n",
            "['a', 'b', 'a', 'a', 'c', 'b']\n",
            "My friend's grades this semester are:\n",
            "['a', 'b', 'a', 'a', 'c', 'b']\n"
          ],
          "name": "stdout"
        }
      ]
    }
  ]
}