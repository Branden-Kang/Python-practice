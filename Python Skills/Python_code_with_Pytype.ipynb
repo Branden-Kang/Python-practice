{
  "nbformat": 4,
  "nbformat_minor": 0,
  "metadata": {
    "colab": {
      "name": "Python code with Pytype.ipynb",
      "provenance": [],
      "authorship_tag": "ABX9TyPAiHrmSLlzGxCsRlS21FWu"
    },
    "kernelspec": {
      "name": "python3",
      "display_name": "Python 3"
    }
  },
  "cells": [
    {
      "cell_type": "markdown",
      "metadata": {
        "id": "yLpgRnusYiHC"
      },
      "source": [
        "[Reference](https://medium.com/free-code-camp/how-to-quickly-find-type-issues-in-your-python-code-with-pytype-c022782f61c3)"
      ]
    },
    {
      "cell_type": "code",
      "metadata": {
        "id": "pKxrmR9BYfvV"
      },
      "source": [
        "import re\n",
        "\n",
        "def GetUsername(email_address):\n",
        "  match = re.match(r'([^@]+)@example\\.com', email_address)\n",
        "  return match.group(1)"
      ],
      "execution_count": 1,
      "outputs": []
    },
    {
      "cell_type": "code",
      "metadata": {
        "id": "3KWEmWSgYl5F"
      },
      "source": [
        "import re\n",
        "from typing import Match\n",
        "\n",
        "def GetEmailMatch(email) -> Match:\n",
        "  return re.match(r'([^@]+)@example\\.com', email)"
      ],
      "execution_count": 2,
      "outputs": []
    },
    {
      "cell_type": "code",
      "metadata": {
        "id": "MPziv2xBYrO4"
      },
      "source": [
        "import re\n",
        "from typing import Match, Optional\n",
        "\n",
        "def GetEmailMatch(email) -> Optional[Match]:\n",
        "  return re.match(r'([^@]+)@example\\.com', email)"
      ],
      "execution_count": 3,
      "outputs": []
    },
    {
      "cell_type": "code",
      "metadata": {
        "id": "Ysb8LUCGYulV"
      },
      "source": [
        "import re\n",
        "  \n",
        "def GetEmailMatch(email):\n",
        "  return re.match(r'([^@]+)@example\\.com', email)\n",
        "  \n",
        "def GetUsername(email_address):\n",
        "  match = GetEmailMatch(email_address)\n",
        "  if match is None:\n",
        "    return None\n",
        "  return match.group(1)"
      ],
      "execution_count": 4,
      "outputs": []
    },
    {
      "cell_type": "code",
      "metadata": {
        "id": "dxnAjfhGYw3n"
      },
      "source": [
        "import re\n",
        "from typing import Match\n",
        "from typing import Optional\n",
        "\n",
        "def GetEmailMatch(email) -> Optional[Match[str]]:\n",
        "  return re.match(r'([^@]+)@example\\.com', email)\n",
        "  \n",
        "def GetUsername(email_address) -> Optional[str]:\n",
        "  match = GetEmailMatch(email_address)\n",
        "  if match is None:\n",
        "    return None\n",
        "  return match.group(1)"
      ],
      "execution_count": 5,
      "outputs": []
    }
  ]
}