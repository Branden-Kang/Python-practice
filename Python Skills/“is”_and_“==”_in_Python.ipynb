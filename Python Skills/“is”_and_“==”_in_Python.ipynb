{
  "nbformat": 4,
  "nbformat_minor": 0,
  "metadata": {
    "colab": {
      "name": "“is” and “==” in Python.ipynb",
      "provenance": [],
      "authorship_tag": "ABX9TyPb4hstK/hbXaewO2bksm/J"
    },
    "kernelspec": {
      "name": "python3",
      "display_name": "Python 3"
    }
  },
  "cells": [
    {
      "cell_type": "markdown",
      "metadata": {
        "id": "YAdJ0WqJ1chx"
      },
      "source": [
        "[Reference](https://medium.com/swlh/is-and-in-python-f084f36cbc0e)"
      ]
    },
    {
      "cell_type": "code",
      "metadata": {
        "colab": {
          "base_uri": "https://localhost:8080/"
        },
        "id": "YcY5-ToP0xS3",
        "outputId": "dce14e51-dbd5-451b-cf1f-a6bf7ad70c30"
      },
      "source": [
        "import time\n",
        "\n",
        "def equality_operator(n):\n",
        "  a = 'Which one is best? identity or equality ?' * 1000\n",
        "  b = 'Which one is best? identity or equality ?' * 1000\n",
        "  for i in range(n):\n",
        "    if a == b :\n",
        "      pass\n",
        "\n",
        "start = time.perf_counter()\n",
        "equality_operator(10000000)\n",
        "end = time.perf_counter()\n",
        "print('Total time :',end - start)"
      ],
      "execution_count": 2,
      "outputs": [
        {
          "output_type": "stream",
          "text": [
            "Total time : 12.528320938000007\n"
          ],
          "name": "stdout"
        }
      ]
    },
    {
      "cell_type": "code",
      "metadata": {
        "colab": {
          "base_uri": "https://localhost:8080/"
        },
        "id": "PY90k1CM1QOL",
        "outputId": "f858413b-6d47-4166-a39a-c98fbf46a6c2"
      },
      "source": [
        "import sys\n",
        "\n",
        "def identity_operator(n):\n",
        "  a = sys.intern('Which one is best? identity or equality ?' * 1000)\n",
        "  b = sys.intern('Which one is best? identity or equality ?' * 1000)\n",
        "  for i in range(n):\n",
        "    if a is b :\n",
        "      pass\n",
        "    # print(True)\n",
        "    \n",
        "start = time.perf_counter()\n",
        "identity_operator(10000000)\n",
        "end = time.perf_counter()\n",
        "print('Total time :',end - start)"
      ],
      "execution_count": 4,
      "outputs": [
        {
          "output_type": "stream",
          "text": [
            "Total time : 0.3486968020000063\n"
          ],
          "name": "stdout"
        }
      ]
    }
  ]
}