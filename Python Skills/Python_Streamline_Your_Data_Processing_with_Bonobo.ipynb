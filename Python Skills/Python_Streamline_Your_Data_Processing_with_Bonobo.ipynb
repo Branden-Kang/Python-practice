{
  "nbformat": 4,
  "nbformat_minor": 0,
  "metadata": {
    "colab": {
      "provenance": [],
      "authorship_tag": "ABX9TyOyMEIR2+ZrVhXMncYvyaX+"
    },
    "kernelspec": {
      "name": "python3",
      "display_name": "Python 3"
    },
    "language_info": {
      "name": "python"
    }
  },
  "cells": [
    {
      "cell_type": "markdown",
      "source": [
        "[Reference](https://pravash-techie.medium.com/python-streamline-your-data-processing-with-bonobo-f329d58073d1)"
      ],
      "metadata": {
        "id": "jli8rk2IIFq3"
      }
    },
    {
      "cell_type": "code",
      "execution_count": 1,
      "metadata": {
        "id": "ojOEupSAHSRH"
      },
      "outputs": [],
      "source": [
        "import bonobo\n",
        "import tweepy\n",
        "\n",
        "# import your database client or file writer here\n",
        "from my_database_client import write_to_database\n",
        "\n",
        "def extract():\n",
        "    consumer_key = 'consumer_kek'\n",
        "    consumer_secret = '###-###-####'\n",
        "    access_token = '###-####-####-###'\n",
        "    access_token_secret = 'access_token_secret'\n",
        "    auth = tweepy.OAuthHandler(consumer_key, consumer_secret)\n",
        "    auth.set_access_token(access_token, access_token_secret)\n",
        "    api = tweepy.API(auth)\n",
        "    for tweet in tweepy.Cursor(api.search, q='python').items():\n",
        "        yield tweet.text\n",
        "\n",
        "def transform(text):\n",
        "    # Perform any necessary data transformations\n",
        "    cleaned_text = text.lower()  # convert text to lowercase\n",
        "    return cleaned_text\n",
        "\n",
        "def load(data):\n",
        "    # Write the data to a database or file\n",
        "    write_to_database(data)\n",
        "\n",
        "graph = bonobo.Graph(\n",
        "    extract,\n",
        "    transform,\n",
        "    load,\n",
        ")\n",
        "\n",
        "if __name__ == '__main__':\n",
        "    bonobo.run(graph)"
      ]
    }
  ]
}
