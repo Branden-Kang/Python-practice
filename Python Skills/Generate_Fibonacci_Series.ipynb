{
  "nbformat": 4,
  "nbformat_minor": 0,
  "metadata": {
    "colab": {
      "name": "Generate Fibonacci Series.ipynb",
      "provenance": [],
      "authorship_tag": "ABX9TyMnITSVmVMjPeb/MizNmWGg"
    },
    "kernelspec": {
      "name": "python3",
      "display_name": "Python 3"
    },
    "language_info": {
      "name": "python"
    }
  },
  "cells": [
    {
      "cell_type": "markdown",
      "metadata": {
        "id": "syOo1T8U4k1l"
      },
      "source": [
        "[Reference](https://medium.com/nerd-for-tech/generate-fibonacci-series-the-pythonic-way-60fb7314ce73)"
      ]
    },
    {
      "cell_type": "code",
      "metadata": {
        "colab": {
          "base_uri": "https://localhost:8080/"
        },
        "id": "D8ooHy8L4WCU",
        "outputId": "4172eab8-f0a8-4cbd-d22e-95b7ae9f7ef0"
      },
      "source": [
        "def fibonacci(n):\n",
        "\n",
        "    \"\"\"\n",
        "    :param n: fibonacci range\n",
        "    :return:\n",
        "    \"\"\"\n",
        "\n",
        "    if n == 1:\n",
        "        return 1\n",
        "    \n",
        "    a = 0\n",
        "    b = 1\n",
        "    # count variable to track nth value\n",
        "    count = 0\n",
        "    while count < n:\n",
        "        c = a + b\n",
        "        # swap a and b values\n",
        "        a, b = b, c\n",
        "        print(c, end=\" \")\n",
        "        count += 1\n",
        "        \n",
        "fibonacci(10)"
      ],
      "execution_count": 1,
      "outputs": [
        {
          "output_type": "stream",
          "text": [
            "1 2 3 5 8 13 21 34 55 89 "
          ],
          "name": "stdout"
        }
      ]
    },
    {
      "cell_type": "code",
      "metadata": {
        "colab": {
          "base_uri": "https://localhost:8080/"
        },
        "id": "FX6mv22q4340",
        "outputId": "9023d047-0dc4-414e-9b7b-4780f786bba6"
      },
      "source": [
        "def fib_recursive(n):\n",
        "    # base case\n",
        "    if n < 1:\n",
        "        return 0\n",
        "    elif n == 1:\n",
        "        return 1\n",
        "    \n",
        "    return fib_recursive(n-1) + fib_recursive(n-2)\n",
        "  \n",
        "print(fib_recursive(10))"
      ],
      "execution_count": 2,
      "outputs": [
        {
          "output_type": "stream",
          "text": [
            "55\n"
          ],
          "name": "stdout"
        }
      ]
    },
    {
      "cell_type": "code",
      "metadata": {
        "id": "9yaIo3xp46Vz"
      },
      "source": [
        "def fib_gen(n):\n",
        "\n",
        "    a = 0\n",
        "    b = 1\n",
        "    count = 0\n",
        "    while count < n:\n",
        "        c = a + b\n",
        "        a,b = b, c\n",
        "        yield c\n",
        "        count += 1\n",
        "\n",
        "\n",
        "myfib = fib_gen(10)"
      ],
      "execution_count": 6,
      "outputs": []
    },
    {
      "cell_type": "code",
      "metadata": {
        "colab": {
          "base_uri": "https://localhost:8080/"
        },
        "id": "QzafBp-S48Tb",
        "outputId": "db469afa-817f-4639-f062-20abd3183355"
      },
      "source": [
        "for i in myfib:\n",
        "    print(i)"
      ],
      "execution_count": 4,
      "outputs": [
        {
          "output_type": "stream",
          "text": [
            "1\n",
            "2\n",
            "3\n",
            "5\n",
            "8\n",
            "13\n",
            "21\n",
            "34\n",
            "55\n",
            "89\n"
          ],
          "name": "stdout"
        }
      ]
    },
    {
      "cell_type": "code",
      "metadata": {
        "colab": {
          "base_uri": "https://localhost:8080/"
        },
        "id": "8upQ_uGk4_Ie",
        "outputId": "b5f381bd-ca55-4137-9118-83e98dfe1767"
      },
      "source": [
        "print(next(myfib))\n",
        "print(next(myfib))\n",
        "print(next(myfib))\n",
        "print(next(myfib))\n",
        "print(next(myfib))\n",
        "print(next(myfib))\n",
        "print(next(myfib))\n",
        "print(next(myfib))"
      ],
      "execution_count": 7,
      "outputs": [
        {
          "output_type": "stream",
          "text": [
            "1\n",
            "2\n",
            "3\n",
            "5\n",
            "8\n",
            "13\n",
            "21\n",
            "34\n"
          ],
          "name": "stdout"
        }
      ]
    },
    {
      "cell_type": "code",
      "metadata": {
        "colab": {
          "base_uri": "https://localhost:8080/"
        },
        "id": "YjD2N1J55BCB",
        "outputId": "1495b43f-ad2d-4dc9-ad80-f6e06d526bb8"
      },
      "source": [
        "def fib_pythonic(n):\n",
        "\n",
        "    fib_list = [0, 1]\n",
        "    for i in range(n):\n",
        "        fib_list.append(fib_list[-1] + fib_list[-2])\n",
        "\n",
        "    print(fib_list)\n",
        "\n",
        "\n",
        "fib_pythonic(10)"
      ],
      "execution_count": 8,
      "outputs": [
        {
          "output_type": "stream",
          "text": [
            "[0, 1, 1, 2, 3, 5, 8, 13, 21, 34, 55, 89]\n"
          ],
          "name": "stdout"
        }
      ]
    },
    {
      "cell_type": "code",
      "metadata": {
        "colab": {
          "base_uri": "https://localhost:8080/"
        },
        "id": "BSOU8FTn5K8S",
        "outputId": "952b5f96-51e4-41ea-ab67-311eb4b1d30d"
      },
      "source": [
        "class Fibonacci(object):\n",
        "\n",
        "    def __init__(self, n):\n",
        "        self.n = n\n",
        "        self.a = 0\n",
        "        self.b = 1\n",
        "        self.count = 0\n",
        "\n",
        "    def __iter__(self):\n",
        "        return self\n",
        "\n",
        "    def __next__(self):\n",
        "\n",
        "        if self.count < self.n:\n",
        "            c = self.a + self.b\n",
        "            self.a, self.b = self.b, c\n",
        "            self.count += 1\n",
        "            return c\n",
        "        else:\n",
        "            raise StopIteration\n",
        "\n",
        "\n",
        "f = Fibonacci(10)\n",
        "for i in f:\n",
        "    print(i)"
      ],
      "execution_count": 9,
      "outputs": [
        {
          "output_type": "stream",
          "text": [
            "1\n",
            "2\n",
            "3\n",
            "5\n",
            "8\n",
            "13\n",
            "21\n",
            "34\n",
            "55\n",
            "89\n"
          ],
          "name": "stdout"
        }
      ]
    }
  ]
}