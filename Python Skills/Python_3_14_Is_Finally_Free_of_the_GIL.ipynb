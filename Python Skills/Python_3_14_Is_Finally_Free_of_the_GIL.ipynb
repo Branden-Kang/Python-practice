{
  "nbformat": 4,
  "nbformat_minor": 0,
  "metadata": {
    "colab": {
      "provenance": [],
      "authorship_tag": "ABX9TyMc2RZXw6p7j6EhNsa5VeB2"
    },
    "kernelspec": {
      "name": "python3",
      "display_name": "Python 3"
    },
    "language_info": {
      "name": "python"
    }
  },
  "cells": [
    {
      "cell_type": "markdown",
      "source": [
        "[Reference](https://python.plainenglish.io/python-3-14-is-finally-free-of-the-gil-but-theres-a-catch-dc7c015467fb)"
      ],
      "metadata": {
        "id": "pa0itoY0b_7e"
      }
    },
    {
      "cell_type": "markdown",
      "source": [
        "```\n",
        "python -X gil=0 your_script.py\n",
        "```"
      ],
      "metadata": {
        "id": "3l6gq-vdcKjc"
      }
    },
    {
      "cell_type": "code",
      "execution_count": 4,
      "metadata": {
        "id": "EaCikEa-b7BL"
      },
      "outputs": [],
      "source": [
        "# Clone CPython\n",
        "!git clone https://github.com/python/cpython.git\n",
        "!cd cpython"
      ]
    },
    {
      "cell_type": "code",
      "source": [
        "# Build without the GIL\n",
        "!./configure --disable-gil --prefix=$HOME/python-nogil\n",
        "!make -j8\n",
        "!make install"
      ],
      "metadata": {
        "id": "RokbIYeWcN9w"
      },
      "execution_count": 2,
      "outputs": []
    },
    {
      "cell_type": "code",
      "source": [
        "# Verify your build\n",
        "$HOME/python-nogil/bin/python -V\n",
        "\n",
        "PYTHON_GIL=0 python -c \"import threading; print('GIL disabled')\""
      ],
      "metadata": {
        "id": "icbpfseUcU9U"
      },
      "execution_count": 3,
      "outputs": []
    }
  ]
}
