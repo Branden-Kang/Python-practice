{
  "nbformat": 4,
  "nbformat_minor": 0,
  "metadata": {
    "colab": {
      "provenance": [],
      "authorship_tag": "ABX9TyPDL8e2U6qocfBJZSLoBtKq"
    },
    "kernelspec": {
      "name": "python3",
      "display_name": "Python 3"
    },
    "language_info": {
      "name": "python"
    }
  },
  "cells": [
    {
      "cell_type": "markdown",
      "source": [
        "[Reference](https://medium.com/@hitorunajp/poetry-vs-uv-which-python-package-manager-should-you-use-in-2025-4212cb5e0a14)"
      ],
      "metadata": {
        "id": "6vE0aQo0cb3L"
      }
    },
    {
      "cell_type": "markdown",
      "source": [
        "# Setup & Dependency Management\n",
        "## Poetry\n",
        "```\n",
        "# 1. Create new project\n",
        "poetry new myapp\n",
        "cd myapp\n",
        "\n",
        "# 2. Initializing a new project (this is instead of #1)\n",
        "cd my app\n",
        "poetry init\n",
        "\n",
        "# 3. Add dependencies\n",
        "poetry add requests\n",
        "\n",
        "# 4. Install dependencies (creates .venv automatically)\n",
        "poetry install\n",
        "\n",
        "# 5. Run inside environment\n",
        "poetry run python main.py\n",
        "```\n",
        "\n",
        "```\n",
        "myapp\n",
        "    ├── myapp\n",
        "    │   └── __init__.py\n",
        "    ├── pyproject.toml\n",
        "    ├── README.md\n",
        "    └── tests\n",
        "        └── __init__.py\n",
        "```"
      ],
      "metadata": {
        "id": "4e-S4zbLceYT"
      }
    },
    {
      "cell_type": "markdown",
      "source": [
        "## UV"
      ],
      "metadata": {
        "id": "A03UAGYrciDN"
      }
    },
    {
      "cell_type": "markdown",
      "source": [
        "```\n",
        "# 1. Create new project\n",
        "uv init myapp\n",
        "cd myapp\n",
        "\n",
        "# 2. Initializing a new project (this is instead of #1)\n",
        "cd myapp\n",
        "uv init\n",
        "\n",
        "# 3. Add dependencies\n",
        "uv add requests\n",
        "\n",
        "# 4. Install dependencies (super fast, cached)\n",
        "uv sync\n",
        "\n",
        "# 5. Run inside environment\n",
        "uv run main.py\n",
        "```\n",
        "\n",
        "```\n",
        "myapp\n",
        "    ├── main.py\n",
        "    ├── pyproject.toml\n",
        "    └── README.md\n",
        "```"
      ],
      "metadata": {
        "id": "tuipnbzrcjLC"
      }
    }
  ]
}
