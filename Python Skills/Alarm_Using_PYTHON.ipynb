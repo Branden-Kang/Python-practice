{
  "nbformat": 4,
  "nbformat_minor": 0,
  "metadata": {
    "colab": {
      "name": "Alarm Using PYTHON.ipynb",
      "provenance": [],
      "authorship_tag": "ABX9TyNdahU/6gBDS9C/pe/j6RAW"
    },
    "kernelspec": {
      "name": "python3",
      "display_name": "Python 3"
    },
    "language_info": {
      "name": "python"
    }
  },
  "cells": [
    {
      "cell_type": "markdown",
      "metadata": {
        "id": "cRxBlyYTpElD"
      },
      "source": [
        "[Reference](https://jainkrishna05.medium.com/alarm-using-python-75b841fc8586)"
      ]
    },
    {
      "cell_type": "code",
      "metadata": {
        "id": "jHzrHBC5o7kw"
      },
      "source": [
        "from tkinter import *\n",
        "import datetime\n",
        "import time\n",
        "import winsound\n",
        "from threading import *\n",
        "\n",
        "root = Tk()\n",
        "root.geometry(\"400x200\")\n",
        "\n",
        "def Threading():\n",
        "\tt1=Thread(target=alarm)\n",
        "\tt1.start()\n",
        "\n",
        "def alarm():\n",
        "\twhile True:\n",
        "\t\tset_alarm_time = f\"{hour.get()}:{minute.get()}:{second.get()}\"\n",
        "\n",
        "\t\ttime.sleep(1)\n",
        "\n",
        "\t\tcurrent_time = datetime.datetime.now().strftime(\"%H:%M:%S\")\n",
        "\t\tprint(current_time,set_alarm_time)\n",
        "\n",
        "\t\tif current_time == set_alarm_time:\n",
        "\t\t\tprint(\"Time to Wake up\")\n",
        "\t\t\twinsound.PlaySound(\"sound.wav\",winsound.SND_ASYNC)\n",
        "\n",
        "Label(root,text=\"Alarm Clock\",font=(\"Helvetica 20 bold\"),fg=\"red\").pack(pady=10)\n",
        "Label(root,text=\"Set Time\",font=(\"Helvetica 15 bold\")).pack()\n",
        "\n",
        "frame = Frame(root)\n",
        "frame.pack()\n",
        "\n",
        "hour = StringVar(root)\n",
        "hours = ('00', '01', '02', '03', '04', '05', '06', '07',\n",
        "\t\t'08', '09', '10', '11', '12', '13', '14', '15',\n",
        "\t\t'16', '17', '18', '19', '20', '21', '22', '23', '24'\n",
        "\t\t)\n",
        "hour.set(hours[0])\n",
        "\n",
        "hrs = OptionMenu(frame, hour, *hours)\n",
        "hrs.pack(side=LEFT)\n",
        "\n",
        "minute = StringVar(root)\n",
        "minutes = ('00', '01', '02', '03', '04', '05', '06', '07',\n",
        "\t\t'08', '09', '10', '11', '12', '13', '14', '15',\n",
        "\t\t'16', '17', '18', '19', '20', '21', '22', '23',\n",
        "\t\t'24', '25', '26', '27', '28', '29', '30', '31',\n",
        "\t\t'32', '33', '34', '35', '36', '37', '38', '39',\n",
        "\t\t'40', '41', '42', '43', '44', '45', '46', '47',\n",
        "\t\t'48', '49', '50', '51', '52', '53', '54', '55',\n",
        "\t\t'56', '57', '58', '59', '60')\n",
        "minute.set(minutes[0])\n",
        "\n",
        "mins = OptionMenu(frame, minute, *minutes)\n",
        "mins.pack(side=LEFT)\n",
        "\n",
        "second = StringVar(root)\n",
        "seconds = ('00', '01', '02', '03', '04', '05', '06', '07',\n",
        "\t\t'08', '09', '10', '11', '12', '13', '14', '15',\n",
        "\t\t'16', '17', '18', '19', '20', '21', '22', '23',\n",
        "\t\t'24', '25', '26', '27', '28', '29', '30', '31',\n",
        "\t\t'32', '33', '34', '35', '36', '37', '38', '39',\n",
        "\t\t'40', '41', '42', '43', '44', '45', '46', '47',\n",
        "\t\t'48', '49', '50', '51', '52', '53', '54', '55',\n",
        "\t\t'56', '57', '58', '59', '60')\n",
        "second.set(seconds[0])\n",
        "\n",
        "secs = OptionMenu(frame, second, *seconds)\n",
        "secs.pack(side=LEFT)\n",
        "\n",
        "Button(root,text=\"Set Alarm\",font=(\"Helvetica 15\"),command=Threading).pack(pady=20)\n",
        "\n",
        "root.mainloop()"
      ],
      "execution_count": 1,
      "outputs": []
    }
  ]
}