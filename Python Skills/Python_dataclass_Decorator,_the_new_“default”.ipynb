{
  "nbformat": 4,
  "nbformat_minor": 0,
  "metadata": {
    "colab": {
      "name": "Python dataclass Decorator, the new “default”.ipynb",
      "provenance": [],
      "authorship_tag": "ABX9TyMrcgzYiFuePjGBgNvAdgxV"
    },
    "kernelspec": {
      "name": "python3",
      "display_name": "Python 3"
    },
    "language_info": {
      "name": "python"
    }
  },
  "cells": [
    {
      "cell_type": "markdown",
      "metadata": {
        "id": "ntCH1c6oQIx3"
      },
      "source": [
        "[Reference](https://medium.com/dev-today/python-dataclass-decorator-the-new-default-1561530bbc80)"
      ]
    },
    {
      "cell_type": "code",
      "metadata": {
        "id": "Bg833XIqPw-1"
      },
      "source": [
        "class House():\n",
        "\n",
        "    def __init__(self, owner, residents, rooms, garage):\n",
        "        self.owner = owner\n",
        "        self.residents = residents\n",
        "        self.rooms = rooms\n",
        "        self.garage = garage\n",
        "\n",
        "    def __eq__(self, o: object) -> bool:\n",
        "        if isinstance(o, House):\n",
        "            return (self.owner == o.owner and\n",
        "            self.residents == o.residents and\n",
        "            self.rooms == o.rooms and\n",
        "            self.garage == o.garage)\n",
        "\n",
        "        return False"
      ],
      "execution_count": 6,
      "outputs": []
    },
    {
      "cell_type": "code",
      "metadata": {
        "colab": {
          "base_uri": "https://localhost:8080/"
        },
        "id": "AGIVdEvzQSoD",
        "outputId": "c134bb36-e396-4a07-b1cf-51ac029151e9"
      },
      "source": [
        "house = House(\"felipe\",3, 5, 1)\n",
        "house2 = House(\"felipe\",3, 5, 1)\n",
        "house3 = House(\"felipe\",1, 5, 1)\n",
        "\n",
        "print(house==house2)\n",
        "print(house==house3)"
      ],
      "execution_count": 7,
      "outputs": [
        {
          "output_type": "stream",
          "name": "stdout",
          "text": [
            "True\n",
            "False\n"
          ]
        }
      ]
    },
    {
      "cell_type": "code",
      "metadata": {
        "id": "455JlDWYQH1C"
      },
      "source": [
        "from dataclasses import dataclass\n",
        "\n",
        "@dataclass\n",
        "class House():\n",
        "\n",
        "    owner: str\n",
        "    residents: int\n",
        "    rooms: int\n",
        "    garage: int"
      ],
      "execution_count": 4,
      "outputs": []
    },
    {
      "cell_type": "code",
      "metadata": {
        "colab": {
          "base_uri": "https://localhost:8080/"
        },
        "id": "RvlJhRROQPvd",
        "outputId": "4ab7bbe8-18f0-4e3c-c7b8-a14ac8568361"
      },
      "source": [
        "house = House(\"felipe\",3, 5, 1)\n",
        "house2 = House(\"felipe\",3, 5, 1)\n",
        "house3 = House(\"felipe\",1, 5, 1)\n",
        "\n",
        "print(house==house2)\n",
        "print(house==house3)"
      ],
      "execution_count": 5,
      "outputs": [
        {
          "output_type": "stream",
          "name": "stdout",
          "text": [
            "True\n",
            "False\n"
          ]
        }
      ]
    },
    {
      "cell_type": "code",
      "metadata": {
        "colab": {
          "base_uri": "https://localhost:8080/"
        },
        "id": "H_wrIeiPQeRy",
        "outputId": "35be7890-31ee-4310-ed10-2ada263be6bd"
      },
      "source": [
        "print(house)"
      ],
      "execution_count": 8,
      "outputs": [
        {
          "output_type": "stream",
          "name": "stdout",
          "text": [
            "<__main__.House object at 0x7f73c2518bd0>\n"
          ]
        }
      ]
    }
  ]
}