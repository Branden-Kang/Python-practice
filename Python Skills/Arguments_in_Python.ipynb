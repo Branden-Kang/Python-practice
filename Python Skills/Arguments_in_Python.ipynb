{
  "nbformat": 4,
  "nbformat_minor": 0,
  "metadata": {
    "colab": {
      "name": "Arguments in Python.ipynb",
      "provenance": [],
      "authorship_tag": "ABX9TyMwHOV+0T6YygZlnpO5NBQ7"
    },
    "kernelspec": {
      "name": "python3",
      "display_name": "Python 3"
    },
    "language_info": {
      "name": "python"
    }
  },
  "cells": [
    {
      "cell_type": "markdown",
      "metadata": {
        "id": "eKG4WJWhz54U"
      },
      "source": [
        "[Reference](https://medium.com/swlh/arguments-in-python-the-big-story-89d12b4ea3a0)"
      ]
    },
    {
      "cell_type": "code",
      "metadata": {
        "colab": {
          "base_uri": "https://localhost:8080/"
        },
        "id": "NqT1YdHpz2HA",
        "outputId": "0a4ec19b-8fe9-4f13-df89-e885097a7e44"
      },
      "source": [
        "def foo(a):\n",
        "    a = a+5\n",
        "    print(a)             # prints 15\n",
        "\n",
        "a = 10\n",
        "\n",
        "foo(a)\n",
        "print(a)    "
      ],
      "execution_count": 2,
      "outputs": [
        {
          "output_type": "stream",
          "text": [
            "15\n",
            "10\n"
          ],
          "name": "stdout"
        }
      ]
    },
    {
      "cell_type": "code",
      "metadata": {
        "colab": {
          "base_uri": "https://localhost:8080/"
        },
        "id": "32Mr7dK5z-FA",
        "outputId": "56a8b605-a7e5-4832-d6aa-a60e5b8bad3b"
      },
      "source": [
        "def foo(lst):\n",
        "    lst = lst + ['new entry']\n",
        "    print(lst)                # Prints ['Book', 'Pen', 'new entry']\n",
        "\n",
        "lst = ['Book', 'Pen']\n",
        "\n",
        "print(lst)                    # Prints ['Book', 'Pen']\n",
        "foo(lst)\n",
        "print(lst)                    # Prints ['Book', 'Pen']"
      ],
      "execution_count": 3,
      "outputs": [
        {
          "output_type": "stream",
          "text": [
            "['Book', 'Pen']\n",
            "['Book', 'Pen', 'new entry']\n",
            "['Book', 'Pen']\n"
          ],
          "name": "stdout"
        }
      ]
    },
    {
      "cell_type": "code",
      "metadata": {
        "colab": {
          "base_uri": "https://localhost:8080/"
        },
        "id": "DoDCCvUs0BmN",
        "outputId": "646b10e3-5959-4235-f0f5-bd262aeb06c7"
      },
      "source": [
        "def foo(lst):\n",
        "    lst = lst + ['new entry']\n",
        "    print(lst)                # Prints ['Book', 'Pen', 'new entry']\n",
        "\n",
        "lst = ['Book', 'Pen']\n",
        "\n",
        "print(lst)                    # Prints ['Book', 'Pen']\n",
        "foo(lst)\n",
        "print(lst)                    # Prints ['Book', 'Pen']"
      ],
      "execution_count": 4,
      "outputs": [
        {
          "output_type": "stream",
          "text": [
            "['Book', 'Pen']\n",
            "['Book', 'Pen', 'new entry']\n",
            "['Book', 'Pen']\n"
          ],
          "name": "stdout"
        }
      ]
    },
    {
      "cell_type": "code",
      "metadata": {
        "colab": {
          "base_uri": "https://localhost:8080/"
        },
        "id": "bQjowWjr0ETC",
        "outputId": "5cfc9f96-f2ff-4240-dc56-e5dbc75fc389"
      },
      "source": [
        "def foo(lst):\n",
        "    lst = lst[:]\n",
        "    lst[1] = 'new entry'\n",
        "    print(lst)                   # Prints ['Book', 'new entry']\n",
        "\n",
        "lst = ['Book', 'Pen']\n",
        "print(lst)                       # Prints ['Book', 'Pen']\n",
        "foo(lst)\n",
        "print(lst)                       # Prints ['Book', 'Pen']"
      ],
      "execution_count": 5,
      "outputs": [
        {
          "output_type": "stream",
          "text": [
            "['Book', 'Pen']\n",
            "['Book', 'new entry']\n",
            "['Book', 'Pen']\n"
          ],
          "name": "stdout"
        }
      ]
    },
    {
      "cell_type": "code",
      "metadata": {
        "colab": {
          "base_uri": "https://localhost:8080/"
        },
        "id": "1feJzMJa0GF-",
        "outputId": "5d769e24-1d71-402d-a5c5-3210b16c70a4"
      },
      "source": [
        "def foo(d, e, f):\n",
        "    print(d, e, f)            \n",
        "\n",
        "a, b, c = 1, 2, 3\n",
        "foo(a, b, c)                  # Prints 1, 2, 3\n",
        "foo(b, a, c)                  # Prints 2, 1, 3\n",
        "foo(c, b, a)                  # prints 3, 2, 1"
      ],
      "execution_count": 6,
      "outputs": [
        {
          "output_type": "stream",
          "text": [
            "1 2 3\n",
            "2 1 3\n",
            "3 2 1\n"
          ],
          "name": "stdout"
        }
      ]
    },
    {
      "cell_type": "code",
      "metadata": {
        "colab": {
          "base_uri": "https://localhost:8080/"
        },
        "id": "DzFJamiK0Hja",
        "outputId": "471d1db6-eb4a-462e-a36a-49da1cbfe452"
      },
      "source": [
        "def foo(arg1=0, arg2=0, arg3=0):\n",
        "    print(arg1, arg2, arg3)\n",
        "\n",
        "a, b, c = 1, 2, 3\n",
        "\n",
        "foo(a,b,c)                          # Prints 1 2 3\n",
        "foo(arg1=a, arg2=b, arg3=c)         # Prints 1 2 3\n",
        "foo(arg3=c, arg2=b, arg1=a)         # Prints 1 2 3\n",
        "foo(arg2=b, arg1=a, arg3=c)         # Prints 1 2 3"
      ],
      "execution_count": 8,
      "outputs": [
        {
          "output_type": "stream",
          "text": [
            "1 2 3\n",
            "1 2 3\n",
            "1 2 3\n",
            "1 2 3\n"
          ],
          "name": "stdout"
        }
      ]
    },
    {
      "cell_type": "code",
      "metadata": {
        "colab": {
          "base_uri": "https://localhost:8080/"
        },
        "id": "61kRKYNH0I2Z",
        "outputId": "0709dd6e-fbed-48f5-c8e4-09675513d9fb"
      },
      "source": [
        "def foo(arg1=0, arg2=0, arg3=0):\n",
        "    print(arg1, arg2, arg3)\n",
        "\n",
        "a, b, c = 1, 2, 3\n",
        "foo(arg1=a)                         # Prints 1 0 0\n",
        "foo(arg1=a, arg2=b )                # Prints 1 2 0\n",
        "foo(arg1=a, arg2=b, arg3=c)         # Prints 1 2 3"
      ],
      "execution_count": 9,
      "outputs": [
        {
          "output_type": "stream",
          "text": [
            "1 0 0\n",
            "1 2 0\n",
            "1 2 3\n"
          ],
          "name": "stdout"
        }
      ]
    },
    {
      "cell_type": "code",
      "metadata": {
        "colab": {
          "base_uri": "https://localhost:8080/"
        },
        "id": "-UD2vUt30N_Q",
        "outputId": "7cf40931-370b-4f8b-daec-75da2b3bf389"
      },
      "source": [
        "foo(arg2=b)                         # Prints 0 2 0\n",
        "foo(arg2=b, arg3=c )                # Prints 0 2 3\n",
        "\n",
        "foo(arg3=c)                         # Prints 0 0 3\n",
        "foo(arg3=c, arg1=a )                # Prints 1 0 3"
      ],
      "execution_count": 10,
      "outputs": [
        {
          "output_type": "stream",
          "text": [
            "0 2 0\n",
            "0 2 3\n",
            "0 0 3\n",
            "1 0 3\n"
          ],
          "name": "stdout"
        }
      ]
    },
    {
      "cell_type": "code",
      "metadata": {
        "colab": {
          "base_uri": "https://localhost:8080/"
        },
        "id": "0qw_sQXG0PsT",
        "outputId": "afdae933-b1f7-4a8e-e8b2-040f3d8e578c"
      },
      "source": [
        "foo(a, arg2=b)                      # Prints 1 2 0\n",
        "foo(a, arg2=b, arg3=c)              # Prints 1 2 3\n",
        "foo(a, b, arg3=c)                   # Prints 1 2 3\n",
        "\n",
        "foo(a)                              # Prints 1 0 0\n",
        "foo(a,b)                            # Prints 1 2 0"
      ],
      "execution_count": 11,
      "outputs": [
        {
          "output_type": "stream",
          "text": [
            "1 2 0\n",
            "1 2 3\n",
            "1 2 3\n",
            "1 0 0\n",
            "1 2 0\n"
          ],
          "name": "stdout"
        }
      ]
    },
    {
      "cell_type": "code",
      "metadata": {
        "colab": {
          "base_uri": "https://localhost:8080/",
          "height": 130
        },
        "id": "TLWtjJJM0RY9",
        "outputId": "68a20584-fe72-49d2-8b8f-33537f7374c6"
      },
      "source": [
        "foo(arg1=a, b)"
      ],
      "execution_count": 12,
      "outputs": [
        {
          "output_type": "error",
          "ename": "SyntaxError",
          "evalue": "ignored",
          "traceback": [
            "\u001b[0;36m  File \u001b[0;32m\"<ipython-input-12-b0b9fa5bdc2a>\"\u001b[0;36m, line \u001b[0;32m1\u001b[0m\n\u001b[0;31m    foo(arg1=a, b)\u001b[0m\n\u001b[0m               ^\u001b[0m\n\u001b[0;31mSyntaxError\u001b[0m\u001b[0;31m:\u001b[0m positional argument follows keyword argument\n"
          ]
        }
      ]
    },
    {
      "cell_type": "code",
      "metadata": {
        "colab": {
          "base_uri": "https://localhost:8080/",
          "height": 130
        },
        "id": "GKzjv-Zp0TNu",
        "outputId": "aa9fee17-ecca-4770-c64d-b5cd5bfcbe39"
      },
      "source": [
        "foo(a, arg2=b, c)"
      ],
      "execution_count": 13,
      "outputs": [
        {
          "output_type": "error",
          "ename": "SyntaxError",
          "evalue": "ignored",
          "traceback": [
            "\u001b[0;36m  File \u001b[0;32m\"<ipython-input-13-29a5dea9cd26>\"\u001b[0;36m, line \u001b[0;32m1\u001b[0m\n\u001b[0;31m    foo(a, arg2=b, c)\u001b[0m\n\u001b[0m                  ^\u001b[0m\n\u001b[0;31mSyntaxError\u001b[0m\u001b[0;31m:\u001b[0m positional argument follows keyword argument\n"
          ]
        }
      ]
    },
    {
      "cell_type": "code",
      "metadata": {
        "colab": {
          "base_uri": "https://localhost:8080/"
        },
        "id": "Sdnph6rA0UuG",
        "outputId": "ad750ae9-28f2-468b-a558-5015158e67b1"
      },
      "source": [
        "def foo(*args):\n",
        "    print(args)\n",
        "\n",
        "a, b, c = 1, 2, 3\n",
        "\n",
        "foo(a, b, c)                # Prints (1, 2, 3)\n",
        "foo(a, b)                   # Prints (1, 2)\n",
        "foo(a)                      # Prints (1)\n",
        "foo(b, c)                   # Prints (2, 3)"
      ],
      "execution_count": 14,
      "outputs": [
        {
          "output_type": "stream",
          "text": [
            "(1, 2, 3)\n",
            "(1, 2)\n",
            "(1,)\n",
            "(2, 3)\n"
          ],
          "name": "stdout"
        }
      ]
    },
    {
      "cell_type": "code",
      "metadata": {
        "colab": {
          "base_uri": "https://localhost:8080/"
        },
        "id": "TBKZ7jbH0XJp",
        "outputId": "22705835-1fff-418b-9c2b-ab36f3f8303b"
      },
      "source": [
        "def foo(**kwargs):\n",
        "    print(kwargs)\n",
        "\n",
        "\n",
        "foo(a=1, b=2, c=3)        # Prints {'a': 1, 'b': 2, 'c': 3}\n",
        "foo(a=1, b=2)             # Prints {'a': 1, 'b': 2}\n",
        "foo(a=1)                  # Prints {'a': 1}\n",
        "foo(b=2, c=3)             # Prints {'b': 2, 'c': 3}"
      ],
      "execution_count": 15,
      "outputs": [
        {
          "output_type": "stream",
          "text": [
            "{'a': 1, 'b': 2, 'c': 3}\n",
            "{'a': 1, 'b': 2}\n",
            "{'a': 1}\n",
            "{'b': 2, 'c': 3}\n"
          ],
          "name": "stdout"
        }
      ]
    },
    {
      "cell_type": "code",
      "metadata": {
        "colab": {
          "base_uri": "https://localhost:8080/",
          "height": 232
        },
        "id": "8u-9GXBj0Y4j",
        "outputId": "bfe34ba0-31fb-418b-edb4-cceda6b8f688"
      },
      "source": [
        "def foo(*args):\n",
        "    print(args)\n",
        "\n",
        "\n",
        "foo(a=1, b=2, c=3)"
      ],
      "execution_count": 16,
      "outputs": [
        {
          "output_type": "error",
          "ename": "TypeError",
          "evalue": "ignored",
          "traceback": [
            "\u001b[0;31m---------------------------------------------------------------------------\u001b[0m",
            "\u001b[0;31mTypeError\u001b[0m                                 Traceback (most recent call last)",
            "\u001b[0;32m<ipython-input-16-e9b055c44c85>\u001b[0m in \u001b[0;36m<module>\u001b[0;34m()\u001b[0m\n\u001b[1;32m      3\u001b[0m \u001b[0;34m\u001b[0m\u001b[0m\n\u001b[1;32m      4\u001b[0m \u001b[0;34m\u001b[0m\u001b[0m\n\u001b[0;32m----> 5\u001b[0;31m \u001b[0mfoo\u001b[0m\u001b[0;34m(\u001b[0m\u001b[0ma\u001b[0m\u001b[0;34m=\u001b[0m\u001b[0;36m1\u001b[0m\u001b[0;34m,\u001b[0m \u001b[0mb\u001b[0m\u001b[0;34m=\u001b[0m\u001b[0;36m2\u001b[0m\u001b[0;34m,\u001b[0m \u001b[0mc\u001b[0m\u001b[0;34m=\u001b[0m\u001b[0;36m3\u001b[0m\u001b[0;34m)\u001b[0m\u001b[0;34m\u001b[0m\u001b[0;34m\u001b[0m\u001b[0m\n\u001b[0m",
            "\u001b[0;31mTypeError\u001b[0m: foo() got an unexpected keyword argument 'a'"
          ]
        }
      ]
    },
    {
      "cell_type": "code",
      "metadata": {
        "colab": {
          "base_uri": "https://localhost:8080/",
          "height": 232
        },
        "id": "M1yDJ-tY0ai7",
        "outputId": "4c5db620-4890-44c5-ea2f-bef5724abfeb"
      },
      "source": [
        "def foo(**kwargs):\n",
        "    print(kwargs)\n",
        "\n",
        "a, b, c = 1, 2, 3\n",
        "foo(a, b, c)"
      ],
      "execution_count": 18,
      "outputs": [
        {
          "output_type": "error",
          "ename": "TypeError",
          "evalue": "ignored",
          "traceback": [
            "\u001b[0;31m---------------------------------------------------------------------------\u001b[0m",
            "\u001b[0;31mTypeError\u001b[0m                                 Traceback (most recent call last)",
            "\u001b[0;32m<ipython-input-18-1350092fa3e4>\u001b[0m in \u001b[0;36m<module>\u001b[0;34m()\u001b[0m\n\u001b[1;32m      3\u001b[0m \u001b[0;34m\u001b[0m\u001b[0m\n\u001b[1;32m      4\u001b[0m \u001b[0ma\u001b[0m\u001b[0;34m,\u001b[0m \u001b[0mb\u001b[0m\u001b[0;34m,\u001b[0m \u001b[0mc\u001b[0m \u001b[0;34m=\u001b[0m \u001b[0;36m1\u001b[0m\u001b[0;34m,\u001b[0m \u001b[0;36m2\u001b[0m\u001b[0;34m,\u001b[0m \u001b[0;36m3\u001b[0m\u001b[0;34m\u001b[0m\u001b[0;34m\u001b[0m\u001b[0m\n\u001b[0;32m----> 5\u001b[0;31m \u001b[0mfoo\u001b[0m\u001b[0;34m(\u001b[0m\u001b[0ma\u001b[0m\u001b[0;34m,\u001b[0m \u001b[0mb\u001b[0m\u001b[0;34m,\u001b[0m \u001b[0mc\u001b[0m\u001b[0;34m)\u001b[0m\u001b[0;34m\u001b[0m\u001b[0;34m\u001b[0m\u001b[0m\n\u001b[0m",
            "\u001b[0;31mTypeError\u001b[0m: foo() takes 0 positional arguments but 3 were given"
          ]
        }
      ]
    },
    {
      "cell_type": "code",
      "metadata": {
        "colab": {
          "base_uri": "https://localhost:8080/"
        },
        "id": "vrE9bfjt0bnl",
        "outputId": "29bfa51e-9d96-45ba-bec2-3b015a51826b"
      },
      "source": [
        "def foo(*args,**kwargs):\n",
        "    print(args, kwargs)\n",
        "\n",
        "foo(a=1,)\n",
        "# () {'a': 1}\n",
        "\n",
        "foo(a=1, b=2, c=3)\n",
        "# () {'a': 1, 'b': 2, 'c': 3}\n",
        "\n",
        "foo(1, 2, a=1, b=2)\n",
        "# (1, 2) {'a': 1, 'b': 2}\n",
        "\n",
        "foo(1, 2)\n",
        "# (1, 2) {}"
      ],
      "execution_count": 19,
      "outputs": [
        {
          "output_type": "stream",
          "text": [
            "() {'a': 1}\n",
            "() {'a': 1, 'b': 2, 'c': 3}\n",
            "(1, 2) {'a': 1, 'b': 2}\n",
            "(1, 2) {}\n"
          ],
          "name": "stdout"
        }
      ]
    }
  ]
}