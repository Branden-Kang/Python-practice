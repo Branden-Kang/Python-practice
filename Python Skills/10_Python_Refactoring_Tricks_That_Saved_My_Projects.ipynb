{
  "nbformat": 4,
  "nbformat_minor": 0,
  "metadata": {
    "colab": {
      "provenance": [],
      "authorship_tag": "ABX9TyM9lo3caG5A0EQgUw6mcmXL"
    },
    "kernelspec": {
      "name": "python3",
      "display_name": "Python 3"
    },
    "language_info": {
      "name": "python"
    }
  },
  "cells": [
    {
      "cell_type": "markdown",
      "source": [
        "[Reference](https://blog.stackademic.com/10-python-refactoring-tricks-that-saved-my-projects-c4e6ae86aeaf)"
      ],
      "metadata": {
        "id": "z-wtFKRDT7Z7"
      }
    },
    {
      "cell_type": "markdown",
      "source": [
        "# 1) Extract Functions Like Your Life Depends on It (Beginner)"
      ],
      "metadata": {
        "id": "odU6QMgFT_Qm"
      }
    },
    {
      "cell_type": "code",
      "execution_count": 1,
      "metadata": {
        "id": "V-NriS-xTHOn"
      },
      "outputs": [],
      "source": [
        "# Before\n",
        "def process_order(order):\n",
        "    # validation\n",
        "    if not order.get(\"id\"):\n",
        "        raise ValueError(\"Invalid order\")\n",
        "    # calculate total\n",
        "    total = 0\n",
        "    for item in order[\"items\"]:\n",
        "        total += item[\"price\"] * item[\"quantity\"]\n",
        "    # save to db\n",
        "    print(\"Order saved with total:\", total)"
      ]
    },
    {
      "cell_type": "code",
      "source": [
        "# After\n",
        "def validate_order(order):\n",
        "    if not order.get(\"id\"):\n",
        "        raise ValueError(\"Invalid order\")\n",
        "\n",
        "def calculate_total(items):\n",
        "    return sum(i[\"price\"] * i[\"quantity\"] for i in items)\n",
        "\n",
        "def process_order(order):\n",
        "    validate_order(order)\n",
        "    total = calculate_total(order[\"items\"])\n",
        "    print(\"Order saved with total:\", total)"
      ],
      "metadata": {
        "id": "FPvOLXr6UECG"
      },
      "execution_count": 2,
      "outputs": []
    },
    {
      "cell_type": "markdown",
      "source": [
        "# 2) Replace Loops With Comprehensions (Beginner)"
      ],
      "metadata": {
        "id": "YcCm4ifyUKqg"
      }
    },
    {
      "cell_type": "code",
      "source": [
        "# Before\n",
        "squares = []\n",
        "for x in range(10):\n",
        "    squares.append(x**2)"
      ],
      "metadata": {
        "id": "1Gf8uPABUEll"
      },
      "execution_count": 3,
      "outputs": []
    },
    {
      "cell_type": "code",
      "source": [
        "# After\n",
        "squares = [x**2 for x in range(10)]"
      ],
      "metadata": {
        "id": "omVecX1iUNC1"
      },
      "execution_count": 4,
      "outputs": []
    },
    {
      "cell_type": "code",
      "source": [
        "# For filtering\n",
        "evens = [x for x in range(20) if x % 2 == 0]"
      ],
      "metadata": {
        "id": "tlfCrPZZUPED"
      },
      "execution_count": 5,
      "outputs": []
    },
    {
      "cell_type": "markdown",
      "source": [
        "# 3) Introduce Dataclasses (Intermediate)"
      ],
      "metadata": {
        "id": "sXgZOF_HUUuD"
      }
    },
    {
      "cell_type": "code",
      "source": [
        "# Before\n",
        "class User:\n",
        "    def __init__(self, name, email, age):\n",
        "        self.name = name\n",
        "        self.email = email\n",
        "        self.age = age"
      ],
      "metadata": {
        "id": "JIrS05KzURUQ"
      },
      "execution_count": 6,
      "outputs": []
    },
    {
      "cell_type": "code",
      "source": [
        "# After\n",
        "from dataclasses import dataclass\n",
        "\n",
        "@dataclass\n",
        "class User:\n",
        "    name: str\n",
        "    email: str\n",
        "    age: int"
      ],
      "metadata": {
        "id": "nx8Y6dalUXWP"
      },
      "execution_count": 7,
      "outputs": []
    },
    {
      "cell_type": "markdown",
      "source": [
        "# 4) Kill Magic Numbers (Intermediate)"
      ],
      "metadata": {
        "id": "EYqCNpP8Ubas"
      }
    },
    {
      "cell_type": "code",
      "source": [
        "PI = 3.14159\n",
        "MAX_RETRIES = 3\n",
        "TIMEOUT_SECONDS = 10"
      ],
      "metadata": {
        "id": "4GBVB2WBUaPf"
      },
      "execution_count": 8,
      "outputs": []
    },
    {
      "cell_type": "markdown",
      "source": [
        "# 5) Replace Conditionals With Polymorphism (Intermediate)"
      ],
      "metadata": {
        "id": "-Zyzk4RuUkw_"
      }
    },
    {
      "cell_type": "code",
      "source": [
        "# Before\n",
        "if payment_type == \"paypal\":\n",
        "    process_paypal()\n",
        "elif payment_type == \"stripe\":\n",
        "    process_stripe()"
      ],
      "metadata": {
        "id": "-9mij028UdHN"
      },
      "execution_count": 9,
      "outputs": []
    },
    {
      "cell_type": "code",
      "source": [
        "# After\n",
        "class PaymentProcessor:\n",
        "    def process(self): pass\n",
        "\n",
        "class PayPalProcessor(PaymentProcessor):\n",
        "    def process(self): print(\"Processing PayPal\")\n",
        "\n",
        "class StripeProcessor(PaymentProcessor):\n",
        "    def process(self): print(\"Processing Stripe\")\n",
        "\n",
        "processors = {\n",
        "    \"paypal\": PayPalProcessor(),\n",
        "    \"stripe\": StripeProcessor()\n",
        "}\n",
        "\n",
        "processors[payment_type].process()"
      ],
      "metadata": {
        "id": "FMzxm5djUoIr"
      },
      "execution_count": 10,
      "outputs": []
    },
    {
      "cell_type": "markdown",
      "source": [
        "# 6) Use functools.lru_cache (Intermediate)"
      ],
      "metadata": {
        "id": "gwTMvdC6UvdD"
      }
    },
    {
      "cell_type": "code",
      "source": [
        "from functools import lru_cache\n",
        "\n",
        "@lru_cache(maxsize=None)\n",
        "def fibonacci(n):\n",
        "    if n < 2:\n",
        "        return n\n",
        "    return fibonacci(n-1) + fibonacci(n-2)\n",
        "\n",
        "print(fibonacci(35))"
      ],
      "metadata": {
        "colab": {
          "base_uri": "https://localhost:8080/"
        },
        "id": "GR3z5V7lUr3t",
        "outputId": "d2b2eb89-4aa6-41b5-cb90-53f173738d4e"
      },
      "execution_count": 11,
      "outputs": [
        {
          "output_type": "stream",
          "name": "stdout",
          "text": [
            "9227465\n"
          ]
        }
      ]
    },
    {
      "cell_type": "markdown",
      "source": [
        "# 7) Replace Print Debugging With Logging (Intermediate)\n"
      ],
      "metadata": {
        "id": "w-A4_s8FUyhA"
      }
    },
    {
      "cell_type": "code",
      "source": [
        "import logging\n",
        "logging.basicConfig(level=logging.INFO)\n",
        "\n",
        "logging.info(\"Task completed\")\n",
        "logging.error(\"Something went wrong\")"
      ],
      "metadata": {
        "colab": {
          "base_uri": "https://localhost:8080/"
        },
        "id": "sLEfqo6EUxbZ",
        "outputId": "df3c961d-85e3-4185-9f16-d8059ff9cfec"
      },
      "execution_count": 12,
      "outputs": [
        {
          "output_type": "stream",
          "name": "stderr",
          "text": [
            "ERROR:root:Something went wrong\n"
          ]
        }
      ]
    },
    {
      "cell_type": "markdown",
      "source": [
        "# 8) Use Context Managers (Intermediate)"
      ],
      "metadata": {
        "id": "RBou7pzVU1z2"
      }
    },
    {
      "cell_type": "code",
      "source": [
        "# Before\n",
        "file = open(\"data.txt\")\n",
        "try:\n",
        "    data = file.read()\n",
        "finally:\n",
        "    file.close()"
      ],
      "metadata": {
        "id": "bmFXH6vEU0l2"
      },
      "execution_count": 14,
      "outputs": []
    },
    {
      "cell_type": "code",
      "source": [
        "# After\n",
        "with open(\"data.txt\") as file:\n",
        "    data = file.read()"
      ],
      "metadata": {
        "id": "2GAZw5kFU3t9"
      },
      "execution_count": 15,
      "outputs": []
    },
    {
      "cell_type": "markdown",
      "source": [
        "# 9) Automate Refactoring With black and ruff (Advanced)"
      ],
      "metadata": {
        "id": "VGTSLesxU99v"
      }
    },
    {
      "cell_type": "code",
      "source": [
        "!pip install black ruff"
      ],
      "metadata": {
        "colab": {
          "base_uri": "https://localhost:8080/"
        },
        "id": "fzqV92RgU8Ie",
        "outputId": "2a481ea0-45c1-46a7-da35-eeffcc62db39"
      },
      "execution_count": 16,
      "outputs": [
        {
          "output_type": "stream",
          "name": "stdout",
          "text": [
            "Collecting black\n",
            "  Downloading black-25.1.0-cp312-cp312-manylinux_2_17_x86_64.manylinux2014_x86_64.manylinux_2_28_x86_64.whl.metadata (81 kB)\n",
            "\u001b[?25l     \u001b[90m━━━━━━━━━━━━━━━━━━━━━━━━━━━━━━━━━━━━━━━━\u001b[0m \u001b[32m0.0/81.3 kB\u001b[0m \u001b[31m?\u001b[0m eta \u001b[36m-:--:--\u001b[0m\r\u001b[2K     \u001b[90m━━━━━━━━━━━━━━━━━━━━━━━━━━━━━━━━━━━━━━━━\u001b[0m \u001b[32m81.3/81.3 kB\u001b[0m \u001b[31m2.2 MB/s\u001b[0m eta \u001b[36m0:00:00\u001b[0m\n",
            "\u001b[?25hRequirement already satisfied: ruff in /usr/local/lib/python3.12/dist-packages (0.12.12)\n",
            "Requirement already satisfied: click>=8.0.0 in /usr/local/lib/python3.12/dist-packages (from black) (8.2.1)\n",
            "Collecting mypy-extensions>=0.4.3 (from black)\n",
            "  Downloading mypy_extensions-1.1.0-py3-none-any.whl.metadata (1.1 kB)\n",
            "Requirement already satisfied: packaging>=22.0 in /usr/local/lib/python3.12/dist-packages (from black) (25.0)\n",
            "Collecting pathspec>=0.9.0 (from black)\n",
            "  Downloading pathspec-0.12.1-py3-none-any.whl.metadata (21 kB)\n",
            "Requirement already satisfied: platformdirs>=2 in /usr/local/lib/python3.12/dist-packages (from black) (4.4.0)\n",
            "Downloading black-25.1.0-cp312-cp312-manylinux_2_17_x86_64.manylinux2014_x86_64.manylinux_2_28_x86_64.whl (1.8 MB)\n",
            "\u001b[2K   \u001b[90m━━━━━━━━━━━━━━━━━━━━━━━━━━━━━━━━━━━━━━━━\u001b[0m \u001b[32m1.8/1.8 MB\u001b[0m \u001b[31m24.7 MB/s\u001b[0m eta \u001b[36m0:00:00\u001b[0m\n",
            "\u001b[?25hDownloading mypy_extensions-1.1.0-py3-none-any.whl (5.0 kB)\n",
            "Downloading pathspec-0.12.1-py3-none-any.whl (31 kB)\n",
            "Installing collected packages: pathspec, mypy-extensions, black\n",
            "Successfully installed black-25.1.0 mypy-extensions-1.1.0 pathspec-0.12.1\n"
          ]
        }
      ]
    },
    {
      "cell_type": "markdown",
      "source": [
        "```\n",
        "black . → formats your codebase\n",
        "ruff check . → lightning-fast linting\n",
        "```"
      ],
      "metadata": {
        "id": "2cFs8IRUVEsy"
      }
    },
    {
      "cell_type": "markdown",
      "source": [
        "# 10) Replace Boilerplate With Decorators (Advanced)"
      ],
      "metadata": {
        "id": "3CB7MCoPVI9X"
      }
    },
    {
      "cell_type": "code",
      "source": [
        "import time\n",
        "\n",
        "def timer(func):\n",
        "    def wrapper(*args, **kwargs):\n",
        "        start = time.time()\n",
        "        result = func(*args, **kwargs)\n",
        "        print(f\"{func.__name__} took {time.time()-start:.2f}s\")\n",
        "        return result\n",
        "    return wrapper\n",
        "\n",
        "@timer\n",
        "def process_data():\n",
        "    time.sleep(2)\n",
        "\n",
        "process_data()"
      ],
      "metadata": {
        "colab": {
          "base_uri": "https://localhost:8080/"
        },
        "id": "b7jqIoODU_qg",
        "outputId": "2435b0ac-5513-4f48-cbd8-a895573b9b54"
      },
      "execution_count": 17,
      "outputs": [
        {
          "output_type": "stream",
          "name": "stdout",
          "text": [
            "process_data took 2.00s\n"
          ]
        }
      ]
    }
  ]
}
