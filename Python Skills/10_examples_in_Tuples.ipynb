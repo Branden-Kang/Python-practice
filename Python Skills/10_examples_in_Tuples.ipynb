{
  "nbformat": 4,
  "nbformat_minor": 0,
  "metadata": {
    "colab": {
      "name": "10 examples in Tuples.ipynb",
      "provenance": [],
      "authorship_tag": "ABX9TyOuyt4+v2TjHUzJOi9VjfTf"
    },
    "kernelspec": {
      "name": "python3",
      "display_name": "Python 3"
    }
  },
  "cells": [
    {
      "cell_type": "markdown",
      "metadata": {
        "id": "uP7hYFvxNH4V"
      },
      "source": [
        "[Reference](https://towardsdatascience.com/10-examples-to-master-python-tuples-6c606ed42b96)"
      ]
    },
    {
      "cell_type": "markdown",
      "metadata": {
        "id": "RuQtWsW2NUPq"
      },
      "source": [
        "# 1. Creating tuples"
      ]
    },
    {
      "cell_type": "code",
      "metadata": {
        "id": "FXCzXuFxNG6X",
        "outputId": "3baea1f2-7cc7-4214-ab5c-fdc4030cd6e5",
        "colab": {
          "base_uri": "https://localhost:8080/"
        }
      },
      "source": [
        "a = (3, 4)\n",
        "print(type(a))"
      ],
      "execution_count": 1,
      "outputs": [
        {
          "output_type": "stream",
          "text": [
            "<class 'tuple'>\n"
          ],
          "name": "stdout"
        }
      ]
    },
    {
      "cell_type": "code",
      "metadata": {
        "id": "AJvuEVWgNWGb",
        "outputId": "42abf47b-95b6-4b1d-e48e-86fc5055f636",
        "colab": {
          "base_uri": "https://localhost:8080/"
        }
      },
      "source": [
        "a = (3, 3, 'x', [1,2])\n",
        "print(a)\n",
        "print(type(a))"
      ],
      "execution_count": 2,
      "outputs": [
        {
          "output_type": "stream",
          "text": [
            "(3, 3, 'x', [1, 2])\n",
            "<class 'tuple'>\n"
          ],
          "name": "stdout"
        }
      ]
    },
    {
      "cell_type": "markdown",
      "metadata": {
        "id": "D1q-QVaUNZsp"
      },
      "source": [
        "# 2. Creating a tuple with 0 or 1 element"
      ]
    },
    {
      "cell_type": "code",
      "metadata": {
        "id": "oeM93JoqNYl-",
        "outputId": "a226b63e-4c94-4ea6-a20c-ff3bac5e72f7",
        "colab": {
          "base_uri": "https://localhost:8080/"
        }
      },
      "source": [
        "a = ()\n",
        "print(type(a))"
      ],
      "execution_count": 3,
      "outputs": [
        {
          "output_type": "stream",
          "text": [
            "<class 'tuple'>\n"
          ],
          "name": "stdout"
        }
      ]
    },
    {
      "cell_type": "code",
      "metadata": {
        "id": "MFm4Fe8kNbeo",
        "outputId": "49b272e1-bc41-4c34-8de8-cd4155482ab1",
        "colab": {
          "base_uri": "https://localhost:8080/"
        }
      },
      "source": [
        "a = (3)\n",
        "print(type(a))"
      ],
      "execution_count": 4,
      "outputs": [
        {
          "output_type": "stream",
          "text": [
            "<class 'int'>\n"
          ],
          "name": "stdout"
        }
      ]
    },
    {
      "cell_type": "code",
      "metadata": {
        "id": "86GdNWDwNc1P",
        "outputId": "e9b85743-b23b-4232-a8c9-a4296f5b175c",
        "colab": {
          "base_uri": "https://localhost:8080/"
        }
      },
      "source": [
        "b = ([1,2])\n",
        "print(type(b))"
      ],
      "execution_count": 5,
      "outputs": [
        {
          "output_type": "stream",
          "text": [
            "<class 'list'>\n"
          ],
          "name": "stdout"
        }
      ]
    },
    {
      "cell_type": "code",
      "metadata": {
        "id": "Lq_w72iFNdv1",
        "outputId": "7fad4419-7524-4334-bcd5-faa21666f155",
        "colab": {
          "base_uri": "https://localhost:8080/"
        }
      },
      "source": [
        "a = (3,)\n",
        "print(type(a))"
      ],
      "execution_count": 6,
      "outputs": [
        {
          "output_type": "stream",
          "text": [
            "<class 'tuple'>\n"
          ],
          "name": "stdout"
        }
      ]
    },
    {
      "cell_type": "code",
      "metadata": {
        "id": "LxVOewJhNer-",
        "outputId": "21e48386-04e5-4a77-8eb1-c3a5391a7880",
        "colab": {
          "base_uri": "https://localhost:8080/"
        }
      },
      "source": [
        "b = ([1,2],)\n",
        "print(type(b))"
      ],
      "execution_count": 7,
      "outputs": [
        {
          "output_type": "stream",
          "text": [
            "<class 'tuple'>\n"
          ],
          "name": "stdout"
        }
      ]
    },
    {
      "cell_type": "markdown",
      "metadata": {
        "id": "a8aKSpm3Ngf9"
      },
      "source": [
        "# 3. Tuples are iterable"
      ]
    },
    {
      "cell_type": "code",
      "metadata": {
        "id": "QtSJqYp-NfnY",
        "outputId": "d0145554-f7fb-4d60-80a4-ce81e5539e12",
        "colab": {
          "base_uri": "https://localhost:8080/"
        }
      },
      "source": [
        "a = (1, 2, 3)\n",
        "for i in a:\n",
        "   print(i**2)"
      ],
      "execution_count": 8,
      "outputs": [
        {
          "output_type": "stream",
          "text": [
            "1\n",
            "4\n",
            "9\n"
          ],
          "name": "stdout"
        }
      ]
    },
    {
      "cell_type": "markdown",
      "metadata": {
        "id": "srO-QBRhNi7K"
      },
      "source": [
        "# 4. Indexing and slicing"
      ]
    },
    {
      "cell_type": "code",
      "metadata": {
        "id": "FRPRieBaNiJs",
        "outputId": "e3118eb9-930a-4697-f7d2-ffe52d701b1e",
        "colab": {
          "base_uri": "https://localhost:8080/"
        }
      },
      "source": [
        "a = (3, 5, 'x', 5)\n",
        "print(f'The first element of tuple a is {a[0]}')\n",
        "print(f'The last element of tuple a is {a[-1]}')"
      ],
      "execution_count": 9,
      "outputs": [
        {
          "output_type": "stream",
          "text": [
            "The first element of tuple a is 3\n",
            "The last element of tuple a is 5\n"
          ],
          "name": "stdout"
        }
      ]
    },
    {
      "cell_type": "code",
      "metadata": {
        "id": "pof29P5DNkjj"
      },
      "source": [
        "a = (1, 2, 5, 6, 7)\n",
        "print(a[-2:])\n",
        "print(a[:3])"
      ],
      "execution_count": 9,
      "outputs": []
    },
    {
      "cell_type": "markdown",
      "metadata": {
        "id": "YodbmBi5Nnpo"
      },
      "source": [
        "# 5. Tuples are immutable but can have mutable elements"
      ]
    },
    {
      "cell_type": "code",
      "metadata": {
        "id": "-drxpWXzNn54",
        "outputId": "d5786dde-83e7-4f12-c7af-1cc9f23d8103",
        "colab": {
          "base_uri": "https://localhost:8080/",
          "height": 215
        }
      },
      "source": [
        "a = (3, 5, 'x', 5)\n",
        "a[0] = 7"
      ],
      "execution_count": 10,
      "outputs": [
        {
          "output_type": "error",
          "ename": "TypeError",
          "evalue": "ignored",
          "traceback": [
            "\u001b[0;31m---------------------------------------------------------------------------\u001b[0m",
            "\u001b[0;31mTypeError\u001b[0m                                 Traceback (most recent call last)",
            "\u001b[0;32m<ipython-input-10-3c3f4bdf72e7>\u001b[0m in \u001b[0;36m<module>\u001b[0;34m()\u001b[0m\n\u001b[1;32m      1\u001b[0m \u001b[0ma\u001b[0m \u001b[0;34m=\u001b[0m \u001b[0;34m(\u001b[0m\u001b[0;36m3\u001b[0m\u001b[0;34m,\u001b[0m \u001b[0;36m5\u001b[0m\u001b[0;34m,\u001b[0m \u001b[0;34m'x'\u001b[0m\u001b[0;34m,\u001b[0m \u001b[0;36m5\u001b[0m\u001b[0;34m)\u001b[0m\u001b[0;34m\u001b[0m\u001b[0;34m\u001b[0m\u001b[0m\n\u001b[0;32m----> 2\u001b[0;31m \u001b[0ma\u001b[0m\u001b[0;34m[\u001b[0m\u001b[0;36m0\u001b[0m\u001b[0;34m]\u001b[0m \u001b[0;34m=\u001b[0m \u001b[0;36m7\u001b[0m\u001b[0;34m\u001b[0m\u001b[0;34m\u001b[0m\u001b[0m\n\u001b[0m",
            "\u001b[0;31mTypeError\u001b[0m: 'tuple' object does not support item assignment"
          ]
        }
      ]
    },
    {
      "cell_type": "code",
      "metadata": {
        "id": "qJx7EMeMNpCY",
        "outputId": "01c6d471-74b7-4586-bde0-2ad1e88a90d7",
        "colab": {
          "base_uri": "https://localhost:8080/"
        }
      },
      "source": [
        "a = ([1,2], ['x', 'y'])\n",
        "a[0][0] = 99\n",
        "a[1][0] = 't'\n",
        "print(a)"
      ],
      "execution_count": 13,
      "outputs": [
        {
          "output_type": "stream",
          "text": [
            "([99, 2], ['t', 'y'])\n"
          ],
          "name": "stdout"
        }
      ]
    },
    {
      "cell_type": "markdown",
      "metadata": {
        "id": "8LIaecJrNxDU"
      },
      "source": [
        "# 6. Sort vs sorted"
      ]
    },
    {
      "cell_type": "code",
      "metadata": {
        "id": "BBRBSOHYNrGo",
        "outputId": "72c6e949-d12d-4e7b-908e-4bf1f1283de5",
        "colab": {
          "base_uri": "https://localhost:8080/",
          "height": 215
        }
      },
      "source": [
        "a = (5, 1, 2)\n",
        "a.sort()"
      ],
      "execution_count": 16,
      "outputs": [
        {
          "output_type": "error",
          "ename": "AttributeError",
          "evalue": "ignored",
          "traceback": [
            "\u001b[0;31m---------------------------------------------------------------------------\u001b[0m",
            "\u001b[0;31mAttributeError\u001b[0m                            Traceback (most recent call last)",
            "\u001b[0;32m<ipython-input-16-ba7f798a9c7b>\u001b[0m in \u001b[0;36m<module>\u001b[0;34m()\u001b[0m\n\u001b[1;32m      1\u001b[0m \u001b[0ma\u001b[0m \u001b[0;34m=\u001b[0m \u001b[0;34m(\u001b[0m\u001b[0;36m5\u001b[0m\u001b[0;34m,\u001b[0m \u001b[0;36m1\u001b[0m\u001b[0;34m,\u001b[0m \u001b[0;36m2\u001b[0m\u001b[0;34m)\u001b[0m\u001b[0;34m\u001b[0m\u001b[0;34m\u001b[0m\u001b[0m\n\u001b[0;32m----> 2\u001b[0;31m \u001b[0ma\u001b[0m\u001b[0;34m.\u001b[0m\u001b[0msort\u001b[0m\u001b[0;34m(\u001b[0m\u001b[0;34m)\u001b[0m\u001b[0;34m\u001b[0m\u001b[0;34m\u001b[0m\u001b[0m\n\u001b[0m",
            "\u001b[0;31mAttributeError\u001b[0m: 'tuple' object has no attribute 'sort'"
          ]
        }
      ]
    },
    {
      "cell_type": "code",
      "metadata": {
        "id": "9846zipBNyiS"
      },
      "source": [
        "a = (3, 5, 8, 1)\n",
        "b = sorted(a)"
      ],
      "execution_count": 17,
      "outputs": []
    },
    {
      "cell_type": "code",
      "metadata": {
        "id": "pxI4BgCEN6E-",
        "outputId": "9630a0cf-bddb-4ff9-cd0d-bc7281ed8cbf",
        "colab": {
          "base_uri": "https://localhost:8080/"
        }
      },
      "source": [
        "print(b)"
      ],
      "execution_count": 18,
      "outputs": [
        {
          "output_type": "stream",
          "text": [
            "[1, 3, 5, 8]\n"
          ],
          "name": "stdout"
        }
      ]
    },
    {
      "cell_type": "code",
      "metadata": {
        "id": "ZLdQ48P7N65h",
        "outputId": "bc102692-29ee-4b24-e816-cd9e0445f30b",
        "colab": {
          "base_uri": "https://localhost:8080/"
        }
      },
      "source": [
        "print(type(b))"
      ],
      "execution_count": 19,
      "outputs": [
        {
          "output_type": "stream",
          "text": [
            "<class 'list'>\n"
          ],
          "name": "stdout"
        }
      ]
    },
    {
      "cell_type": "markdown",
      "metadata": {
        "id": "HgGJR19YN9wx"
      },
      "source": [
        "# 7. Length of a tuple"
      ]
    },
    {
      "cell_type": "code",
      "metadata": {
        "id": "Z8_WZEyVN7lz",
        "outputId": "afb02f78-2d55-41d9-d8e2-ae2e8e336ce7",
        "colab": {
          "base_uri": "https://localhost:8080/"
        }
      },
      "source": [
        "a = (3, 5, 8, 1)\n",
        "len(a)"
      ],
      "execution_count": 20,
      "outputs": [
        {
          "output_type": "execute_result",
          "data": {
            "text/plain": [
              "4"
            ]
          },
          "metadata": {
            "tags": []
          },
          "execution_count": 20
        }
      ]
    },
    {
      "cell_type": "markdown",
      "metadata": {
        "id": "FASOwUwcOAU8"
      },
      "source": [
        "# 8. Count and index methods"
      ]
    },
    {
      "cell_type": "code",
      "metadata": {
        "id": "_GCZ2ZW8N_Sc",
        "outputId": "1fced123-f489-49d1-f984-33e585c2a37c",
        "colab": {
          "base_uri": "https://localhost:8080/"
        }
      },
      "source": [
        "a = (3, 's', 3, 3, 's')\n",
        "print(a.count('s'))\n",
        "print(a.count(3))"
      ],
      "execution_count": 22,
      "outputs": [
        {
          "output_type": "stream",
          "text": [
            "2\n",
            "3\n"
          ],
          "name": "stdout"
        }
      ]
    },
    {
      "cell_type": "code",
      "metadata": {
        "id": "h4phekMAOE4N",
        "outputId": "0875f641-7268-44ca-cb3b-32a276e13aae",
        "colab": {
          "base_uri": "https://localhost:8080/"
        }
      },
      "source": [
        "a = (2, 's', 4, 6, 's')\n",
        "print(a.index('s'))\n",
        "print(a.index(2))"
      ],
      "execution_count": 23,
      "outputs": [
        {
          "output_type": "stream",
          "text": [
            "1\n",
            "0\n"
          ],
          "name": "stdout"
        }
      ]
    },
    {
      "cell_type": "markdown",
      "metadata": {
        "id": "Kem9Xv2-ONbF"
      },
      "source": [
        "# 9. Adding tuples together"
      ]
    },
    {
      "cell_type": "code",
      "metadata": {
        "id": "BQjqVGREOL6q"
      },
      "source": [
        "a = (100, 200)\n",
        "b = ('x', 'y')\n",
        "c = a + b"
      ],
      "execution_count": 24,
      "outputs": []
    },
    {
      "cell_type": "code",
      "metadata": {
        "id": "U5qfMo4FOQpD",
        "outputId": "639bddc5-e11a-4bd6-a7c4-94b7b062d675",
        "colab": {
          "base_uri": "https://localhost:8080/"
        }
      },
      "source": [
        "print(c)"
      ],
      "execution_count": 25,
      "outputs": [
        {
          "output_type": "stream",
          "text": [
            "(100, 200, 'x', 'y')\n"
          ],
          "name": "stdout"
        }
      ]
    },
    {
      "cell_type": "markdown",
      "metadata": {
        "id": "Mz4Ct2BMOSBi"
      },
      "source": [
        "# 10. Functions that return multiple values"
      ]
    },
    {
      "cell_type": "code",
      "metadata": {
        "id": "ZJXWSBGBORRQ"
      },
      "source": [
        "def count_sum(arr):\n",
        "   count = len(arr)\n",
        "   sum = arr.sum()\n",
        "   return count, sum"
      ],
      "execution_count": 26,
      "outputs": []
    },
    {
      "cell_type": "code",
      "metadata": {
        "id": "tYuxJpvTOVII",
        "outputId": "777323e8-6b35-489d-fb67-8a7ec75ab13a",
        "colab": {
          "base_uri": "https://localhost:8080/"
        }
      },
      "source": [
        "import numpy as np\n",
        "arr = np.random.randint(10, size=8)\n",
        "a = count_sum(arr)\n",
        "print(a)"
      ],
      "execution_count": 27,
      "outputs": [
        {
          "output_type": "stream",
          "text": [
            "(8, 31)\n"
          ],
          "name": "stdout"
        }
      ]
    },
    {
      "cell_type": "code",
      "metadata": {
        "id": "cW8t5gRJOXQG"
      },
      "source": [
        "x = [1, 2, 3]\n",
        "y = x\n",
        "z = x[:]\n",
        "t = x.copy()"
      ],
      "execution_count": 28,
      "outputs": []
    },
    {
      "cell_type": "code",
      "metadata": {
        "id": "rgElkJOmOfQn",
        "outputId": "0913f424-4ae4-4eab-82f1-d8efb93ce685",
        "colab": {
          "base_uri": "https://localhost:8080/"
        }
      },
      "source": [
        "x.append(4)\n",
        "print(y)"
      ],
      "execution_count": 29,
      "outputs": [
        {
          "output_type": "stream",
          "text": [
            "[1, 2, 3, 4]\n"
          ],
          "name": "stdout"
        }
      ]
    },
    {
      "cell_type": "code",
      "metadata": {
        "id": "GXRzNjjyOgE9",
        "outputId": "0cf91835-5e7e-4a71-df51-3a2cbcb0049c",
        "colab": {
          "base_uri": "https://localhost:8080/"
        }
      },
      "source": [
        "print(t)"
      ],
      "execution_count": 30,
      "outputs": [
        {
          "output_type": "stream",
          "text": [
            "[1, 2, 3]\n"
          ],
          "name": "stdout"
        }
      ]
    },
    {
      "cell_type": "code",
      "metadata": {
        "id": "TU_hxzqZOhSs"
      },
      "source": [
        "a = (1, 2, 3)\n",
        "\n",
        "b = a\n",
        "c = a[:]"
      ],
      "execution_count": 32,
      "outputs": []
    }
  ]
}