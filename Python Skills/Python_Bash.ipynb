{
  "nbformat": 4,
  "nbformat_minor": 0,
  "metadata": {
    "colab": {
      "name": "Python Bash.ipynb",
      "provenance": [],
      "authorship_tag": "ABX9TyOykK7O2hIhxgKeqaPkyt7H"
    },
    "kernelspec": {
      "name": "python3",
      "display_name": "Python 3"
    },
    "language_info": {
      "name": "python"
    }
  },
  "cells": [
    {
      "cell_type": "markdown",
      "metadata": {
        "id": "zN3PfxQpLUwc"
      },
      "source": [
        "[Reference](https://betterprogramming.pub/bash-vs-python-vs-javascript-which-is-better-for-automation-92a277ef49e)"
      ]
    },
    {
      "cell_type": "code",
      "metadata": {
        "colab": {
          "base_uri": "https://localhost:8080/"
        },
        "id": "0DgdGa6cLRRv",
        "outputId": "7cc8667b-c4f9-4bbc-af9b-c9c97011c808"
      },
      "source": [
        "import subprocess\n",
        "o = subprocess.check_output(['node', '--version'], text = True)\n",
        "print('You are using Node ' + o)"
      ],
      "execution_count": 1,
      "outputs": [
        {
          "output_type": "stream",
          "name": "stdout",
          "text": [
            "You are using Node v14.16.0\n",
            "\n"
          ]
        }
      ]
    }
  ]
}