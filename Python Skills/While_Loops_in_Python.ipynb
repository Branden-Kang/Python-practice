{
  "nbformat": 4,
  "nbformat_minor": 0,
  "metadata": {
    "colab": {
      "name": "While Loops in Python.ipynb",
      "provenance": [],
      "authorship_tag": "ABX9TyPJ9ojLjjgE52sYw7hkF3RA"
    },
    "kernelspec": {
      "name": "python3",
      "display_name": "Python 3"
    },
    "language_info": {
      "name": "python"
    }
  },
  "cells": [
    {
      "cell_type": "markdown",
      "metadata": {
        "id": "-bPb5EbdOmFg"
      },
      "source": [
        "[Reference](https://medium.com/swlh/while-loops-in-python-314015bb8d6a)"
      ]
    },
    {
      "cell_type": "code",
      "metadata": {
        "colab": {
          "base_uri": "https://localhost:8080/"
        },
        "id": "tdIDa3vbOils",
        "outputId": "daa834e7-519f-469e-e15f-b8d7cdf81d3f"
      },
      "source": [
        "x = 0\n",
        "while x <= 5:\n",
        "    print(x)\n",
        "    x += 1"
      ],
      "execution_count": 1,
      "outputs": [
        {
          "output_type": "stream",
          "text": [
            "0\n",
            "1\n",
            "2\n",
            "3\n",
            "4\n",
            "5\n"
          ],
          "name": "stdout"
        }
      ]
    },
    {
      "cell_type": "code",
      "metadata": {
        "colab": {
          "base_uri": "https://localhost:8080/"
        },
        "id": "tBbqP3yBOrmH",
        "outputId": "f174f0a9-22de-416d-8018-99cfc68424a7"
      },
      "source": [
        "x = 0\n",
        "while x <= 5:\n",
        "    print(x)\n",
        "    if x == 3:\n",
        "        break\n",
        "    x += 1"
      ],
      "execution_count": 2,
      "outputs": [
        {
          "output_type": "stream",
          "text": [
            "0\n",
            "1\n",
            "2\n",
            "3\n"
          ],
          "name": "stdout"
        }
      ]
    },
    {
      "cell_type": "code",
      "metadata": {
        "colab": {
          "base_uri": "https://localhost:8080/"
        },
        "id": "D4hpxifiOz8s",
        "outputId": "53f14e2e-d6d8-49a5-81d1-9b4be61f7a07"
      },
      "source": [
        "x = 0\n",
        "while x < 5:\n",
        "    x += 1\n",
        "    if x == 2:\n",
        "        continue\n",
        "    print(x)"
      ],
      "execution_count": 3,
      "outputs": [
        {
          "output_type": "stream",
          "text": [
            "1\n",
            "3\n",
            "4\n",
            "5\n"
          ],
          "name": "stdout"
        }
      ]
    },
    {
      "cell_type": "code",
      "metadata": {
        "colab": {
          "base_uri": "https://localhost:8080/"
        },
        "id": "NPPxGeeuO_bG",
        "outputId": "4f8403dd-8c6f-4fe9-94b2-6d3d29a52420"
      },
      "source": [
        "x = 1\n",
        "while x < 5:\n",
        "    print(x)\n",
        "    x += 1\n",
        "else:\n",
        "    print(\"While loop ended as x is more than 5\")"
      ],
      "execution_count": 4,
      "outputs": [
        {
          "output_type": "stream",
          "text": [
            "1\n",
            "2\n",
            "3\n",
            "4\n",
            "While loop ended as x is more than 5\n"
          ],
          "name": "stdout"
        }
      ]
    }
  ]
}