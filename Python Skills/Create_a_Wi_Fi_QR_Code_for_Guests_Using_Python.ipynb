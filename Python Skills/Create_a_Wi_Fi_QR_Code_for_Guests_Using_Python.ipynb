{
  "nbformat": 4,
  "nbformat_minor": 0,
  "metadata": {
    "colab": {
      "provenance": [],
      "authorship_tag": "ABX9TyNbEvt8SzAYUEyJJO90VTCu"
    },
    "kernelspec": {
      "name": "python3",
      "display_name": "Python 3"
    },
    "language_info": {
      "name": "python"
    }
  },
  "cells": [
    {
      "cell_type": "markdown",
      "source": [
        "[Reference](https://medium.com/@SergiAlfonso/create-a-wi-fi-qr-code-for-guests-using-python-3643e5388c2c)"
      ],
      "metadata": {
        "id": "SfVMl3J5iRR9"
      }
    },
    {
      "cell_type": "code",
      "execution_count": 1,
      "metadata": {
        "colab": {
          "base_uri": "https://localhost:8080/"
        },
        "id": "UL-mM-OmiPtY",
        "outputId": "a9a523a5-f1cf-4516-e4ec-c521d00a33c9"
      },
      "outputs": [
        {
          "output_type": "stream",
          "name": "stdout",
          "text": [
            "Looking in indexes: https://pypi.org/simple, https://us-python.pkg.dev/colab-wheels/public/simple/\n",
            "Collecting wifi_qrcode_generator\n",
            "  Downloading wifi_qrcode_generator-0.1.tar.gz (2.5 kB)\n",
            "  Preparing metadata (setup.py) ... \u001b[?25l\u001b[?25hdone\n",
            "Requirement already satisfied: Pillow in /usr/local/lib/python3.8/dist-packages (from wifi_qrcode_generator) (7.1.2)\n",
            "Collecting qrcode\n",
            "  Downloading qrcode-7.3.1.tar.gz (43 kB)\n",
            "\u001b[2K     \u001b[90m━━━━━━━━━━━━━━━━━━━━━━━━━━━━━━━━━━━━━━━━\u001b[0m \u001b[32m43.5/43.5 KB\u001b[0m \u001b[31m2.0 MB/s\u001b[0m eta \u001b[36m0:00:00\u001b[0m\n",
            "\u001b[?25h  Preparing metadata (setup.py) ... \u001b[?25l\u001b[?25hdone\n",
            "Building wheels for collected packages: wifi_qrcode_generator, qrcode\n",
            "  Building wheel for wifi_qrcode_generator (setup.py) ... \u001b[?25l\u001b[?25hdone\n",
            "  Created wheel for wifi_qrcode_generator: filename=wifi_qrcode_generator-0.1-py3-none-any.whl size=3064 sha256=e15d18e09f9d3ee5cf44b255acef5017d8d873c5ccb1669bfe176020f79d88c3\n",
            "  Stored in directory: /root/.cache/pip/wheels/b2/83/95/e2341322cabad9d66e1417f9e3ba139015d3869517fa19f340\n",
            "  Building wheel for qrcode (setup.py) ... \u001b[?25l\u001b[?25hdone\n",
            "  Created wheel for qrcode: filename=qrcode-7.3.1-py3-none-any.whl size=40400 sha256=7a3d75b27fff856decce33ad7c16fd4adde587b3f8073f4c3621476bedd01283\n",
            "  Stored in directory: /root/.cache/pip/wheels/35/fd/04/2768886c56207acee0d6dc6b9bd5d06dac63a810f0c0a42516\n",
            "Successfully built wifi_qrcode_generator qrcode\n",
            "Installing collected packages: qrcode, wifi_qrcode_generator\n",
            "Successfully installed qrcode-7.3.1 wifi_qrcode_generator-0.1\n"
          ]
        }
      ],
      "source": [
        "pip install wifi_qrcode_generator"
      ]
    },
    {
      "cell_type": "code",
      "source": [
        "# Import module\n",
        "import wifi_qrcode_generator as qr\n",
        " \n",
        "# Use wifi_qrcode() to create a QR image\n",
        "qrCode = qr.wifi_qrcode('My awesome WIFI', False, 'WPA', 'SupperStrongPass:D')\n",
        "\n",
        "# Display the qrImage\n",
        "qrCode.show()\n",
        "\n",
        "# Save the image as PNG file\n",
        "qrCode.save(\"my_wifi_qr.png\")"
      ],
      "metadata": {
        "id": "Os_DtlMEiTi0"
      },
      "execution_count": 2,
      "outputs": []
    }
  ]
}
