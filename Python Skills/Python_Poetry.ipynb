{
  "nbformat": 4,
  "nbformat_minor": 0,
  "metadata": {
    "colab": {
      "provenance": [],
      "authorship_tag": "ABX9TyO483PBF34j2yq5FmoZkUCB"
    },
    "kernelspec": {
      "name": "python3",
      "display_name": "Python 3"
    },
    "language_info": {
      "name": "python"
    }
  },
  "cells": [
    {
      "cell_type": "markdown",
      "source": [
        "[Reference](https://medium.com/@pdx.lucasm/python-poetry-f8cbab0eef94)"
      ],
      "metadata": {
        "id": "00H_fS8IY_GN"
      }
    },
    {
      "cell_type": "markdown",
      "source": [
        "# Starting a project"
      ],
      "metadata": {
        "id": "iiVzY2ViZMsE"
      }
    },
    {
      "cell_type": "code",
      "execution_count": 1,
      "metadata": {
        "id": "qpk9S98GY6gJ"
      },
      "outputs": [],
      "source": [
        "# with poetry\n",
        "poetry new my-project\n",
        "\n",
        "# without poetry\n",
        "mkdir my-project\n",
        "cd 'my-project'\n",
        "python3 -m venv venv\n",
        "source venv/bin/activate"
      ]
    },
    {
      "cell_type": "markdown",
      "source": [
        "```\n",
        "my-project\n",
        "├── pyproject.toml\n",
        "├── README.md\n",
        "├── my_project\n",
        "│   └── __init__.py\n",
        "└── tests\n",
        "    └── __init__.py\n",
        "```"
      ],
      "metadata": {
        "id": "ePowrDnDZHOR"
      }
    },
    {
      "cell_type": "markdown",
      "source": [
        "# Installing and removing dependencies"
      ],
      "metadata": {
        "id": "tL-yUuqCZRbP"
      }
    },
    {
      "cell_type": "code",
      "source": [
        "# with poetry\n",
        "poetry add requests\n",
        "\n",
        "# without poetry\n",
        "pip install requests\n",
        "pip freeze > requirements.txt\n",
        "\n",
        "# with poetry\n",
        "poetry remove requests\n",
        "# without poetry\n",
        "pip uninstall requests\n",
        "pip freeze > requirements.txt"
      ],
      "metadata": {
        "id": "1myEj9m7ZGA5"
      },
      "execution_count": 2,
      "outputs": []
    },
    {
      "cell_type": "markdown",
      "source": [
        "# Setup the project in a new machine"
      ],
      "metadata": {
        "id": "rItt2FuqZVPb"
      }
    },
    {
      "cell_type": "code",
      "source": [
        "# clone the project from remote\n",
        "git clone https://github.com/<some-user-or-org>/<my-repository>.git\n",
        "code \"my-repository\"\n",
        "\n",
        "# with poetry\n",
        "poetry install\n",
        "\n",
        "# without poetry\n",
        "pip install requirements_dev.txt\n",
        "# you often will install your root package as well in editable mode\n",
        "pip install -e ."
      ],
      "metadata": {
        "id": "FZds4cXRZUNQ"
      },
      "execution_count": 3,
      "outputs": []
    },
    {
      "cell_type": "code",
      "source": [
        "poetry add pytest --group dev"
      ],
      "metadata": {
        "id": "q_3oxY5SZZCS"
      },
      "execution_count": 4,
      "outputs": []
    },
    {
      "cell_type": "markdown",
      "source": [
        "# Running commands in virtual environment"
      ],
      "metadata": {
        "id": "Mk3MxN-aZb8i"
      }
    },
    {
      "cell_type": "code",
      "source": [
        "poetry run pytest tests/"
      ],
      "metadata": {
        "id": "yBIsvH9IZa0S"
      },
      "execution_count": 5,
      "outputs": []
    },
    {
      "cell_type": "code",
      "source": [
        "source venv/bin/activate\n",
        "pytest tests/"
      ],
      "metadata": {
        "id": "KfHwdIxuZdUg"
      },
      "execution_count": 6,
      "outputs": []
    },
    {
      "cell_type": "code",
      "source": [
        "poetry shell\n",
        "# to deactivate, just enter 'exit' command"
      ],
      "metadata": {
        "id": "U3DDls-3ZgV8"
      },
      "execution_count": 7,
      "outputs": []
    }
  ]
}
