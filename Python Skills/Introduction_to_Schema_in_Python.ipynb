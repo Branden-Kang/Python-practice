{
  "nbformat": 4,
  "nbformat_minor": 0,
  "metadata": {
    "colab": {
      "name": "Introduction to Schema in Python.ipynb",
      "provenance": [],
      "authorship_tag": "ABX9TyOHB/83YtshvkR28GDRIbQo"
    },
    "kernelspec": {
      "name": "python3",
      "display_name": "Python 3"
    }
  },
  "cells": [
    {
      "cell_type": "code",
      "metadata": {
        "id": "lSQnUuViyRsB",
        "colab_type": "code",
        "colab": {
          "base_uri": "https://localhost:8080/",
          "height": 122
        },
        "outputId": "27785578-33a0-4358-8896-e849bf32e6eb"
      },
      "source": [
        "!pip install schema"
      ],
      "execution_count": 1,
      "outputs": [
        {
          "output_type": "stream",
          "text": [
            "Collecting schema\n",
            "  Downloading https://files.pythonhosted.org/packages/6d/ae/835f2e0d304c9533c58fe5cbcdd9124708d32e82289fcb8d6084c908ba29/schema-0.7.2-py2.py3-none-any.whl\n",
            "Requirement already satisfied: contextlib2>=0.5.5 in /usr/local/lib/python3.6/dist-packages (from schema) (0.5.5)\n",
            "Installing collected packages: schema\n",
            "Successfully installed schema-0.7.2\n"
          ],
          "name": "stdout"
        }
      ]
    },
    {
      "cell_type": "code",
      "metadata": {
        "id": "_1zQqnZtyd8M",
        "colab_type": "code",
        "colab": {
          "base_uri": "https://localhost:8080/",
          "height": 173
        },
        "outputId": "e2a7c6d0-d824-4cc1-c613-6a0cf4297833"
      },
      "source": [
        "!pip install faker \n",
        "\n",
        "from faker import Faker \n",
        "import numpy as np\n",
        "\n",
        "Faker.seed(0)\n",
        "\n",
        "fake = Faker() \n",
        "def create_data(x: int): \n",
        "  '''Create fake data'''\n",
        "   # dictionary \n",
        "  data = [] \n",
        "  for i in range(0, x): \n",
        "      data_i = {}\n",
        "      data_i['name']= fake.name() \n",
        "      data_i['city']= fake.city() \n",
        "      data_i['closeness (1-5)'] = np.random.randint(1,5)\n",
        "      data_i['extrovert'] = fake.pybool()\n",
        "      data_i['favorite_temperature'] = fake.pyfloat(left_digits=2,\n",
        "                                                right_digits=2)\n",
        "      data.append(data_i)\n",
        "  \n",
        "  return data\n",
        "    \n",
        "data = create_data(3)"
      ],
      "execution_count": 5,
      "outputs": [
        {
          "output_type": "stream",
          "text": [
            "Collecting faker\n",
            "\u001b[?25l  Downloading https://files.pythonhosted.org/packages/9d/3c/4fc4a53a24c0ae040616815eb18e73b00832d2eb9275da3837c8345c68a6/Faker-4.1.3-py3-none-any.whl (1.0MB)\n",
            "\u001b[K     |████████████████████████████████| 1.0MB 2.7MB/s \n",
            "\u001b[?25hRequirement already satisfied: text-unidecode==1.3 in /usr/local/lib/python3.6/dist-packages (from faker) (1.3)\n",
            "Requirement already satisfied: python-dateutil>=2.4 in /usr/local/lib/python3.6/dist-packages (from faker) (2.8.1)\n",
            "Requirement already satisfied: six>=1.5 in /usr/local/lib/python3.6/dist-packages (from python-dateutil>=2.4->faker) (1.15.0)\n",
            "Installing collected packages: faker\n",
            "Successfully installed faker-4.1.3\n"
          ],
          "name": "stdout"
        }
      ]
    },
    {
      "cell_type": "code",
      "metadata": {
        "id": "WV_fgrktykBH",
        "colab_type": "code",
        "colab": {
          "base_uri": "https://localhost:8080/",
          "height": 272
        },
        "outputId": "4014cd51-3229-49c9-92c3-525e182720ad"
      },
      "source": [
        "data"
      ],
      "execution_count": 7,
      "outputs": [
        {
          "output_type": "execute_result",
          "data": {
            "text/plain": [
              "[{'city': 'South Richard',\n",
              "  'closeness (1-5)': 1,\n",
              "  'extrovert': True,\n",
              "  'favorite_temperature': -45.74,\n",
              "  'name': 'Norma Fisher'},\n",
              " {'city': 'North Laurenshire',\n",
              "  'closeness (1-5)': 1,\n",
              "  'extrovert': False,\n",
              "  'favorite_temperature': 93.9,\n",
              "  'name': 'Colleen Taylor'},\n",
              " {'city': 'South Cherylside',\n",
              "  'closeness (1-5)': 4,\n",
              "  'extrovert': True,\n",
              "  'favorite_temperature': 66.33,\n",
              "  'name': 'Melinda Kennedy'}]"
            ]
          },
          "metadata": {
            "tags": []
          },
          "execution_count": 7
        }
      ]
    },
    {
      "cell_type": "code",
      "metadata": {
        "id": "jnEV1JlYyrpH",
        "colab_type": "code",
        "colab": {
          "base_uri": "https://localhost:8080/",
          "height": 272
        },
        "outputId": "2bb69f4e-378b-4ee8-d868-b8fe81a850f1"
      },
      "source": [
        "from schema import Schema\n",
        "\n",
        "schema = Schema([{'name': str,\n",
        "                 'city': str, \n",
        "                 'closeness (1-5)': int,\n",
        "                 'extrovert': bool,\n",
        "                 'favorite_temperature': float}])\n",
        "                 \n",
        "schema.validate(data)"
      ],
      "execution_count": 8,
      "outputs": [
        {
          "output_type": "execute_result",
          "data": {
            "text/plain": [
              "[{'city': 'South Richard',\n",
              "  'closeness (1-5)': 1,\n",
              "  'extrovert': True,\n",
              "  'favorite_temperature': -45.74,\n",
              "  'name': 'Norma Fisher'},\n",
              " {'city': 'North Laurenshire',\n",
              "  'closeness (1-5)': 1,\n",
              "  'extrovert': False,\n",
              "  'favorite_temperature': 93.9,\n",
              "  'name': 'Colleen Taylor'},\n",
              " {'city': 'South Cherylside',\n",
              "  'closeness (1-5)': 4,\n",
              "  'extrovert': True,\n",
              "  'favorite_temperature': 66.33,\n",
              "  'name': 'Melinda Kennedy'}]"
            ]
          },
          "metadata": {
            "tags": []
          },
          "execution_count": 8
        }
      ]
    },
    {
      "cell_type": "code",
      "metadata": {
        "id": "jJX6_BQbyuP2",
        "colab_type": "code",
        "colab": {
          "base_uri": "https://localhost:8080/",
          "height": 494
        },
        "outputId": "e585d65d-d417-4784-f875-14aaa0f76760"
      },
      "source": [
        "schema = Schema([{'name': int,\n",
        "                 'city': str, \n",
        "                 'closeness (1-5)': int,\n",
        "                 'extrovert': bool,\n",
        "                 'favorite_temperature': float}])\n",
        "\n",
        "schema.validate(data)"
      ],
      "execution_count": 9,
      "outputs": [
        {
          "output_type": "error",
          "ename": "SchemaError",
          "evalue": "ignored",
          "traceback": [
            "\u001b[0;31m---------------------------------------------------------------------------\u001b[0m",
            "\u001b[0;31mSchemaError\u001b[0m                               Traceback (most recent call last)",
            "\u001b[0;32m<ipython-input-9-8f81a2e99105>\u001b[0m in \u001b[0;36m<module>\u001b[0;34m()\u001b[0m\n\u001b[1;32m      5\u001b[0m                  'favorite_temperature': float}])\n\u001b[1;32m      6\u001b[0m \u001b[0;34m\u001b[0m\u001b[0m\n\u001b[0;32m----> 7\u001b[0;31m \u001b[0mschema\u001b[0m\u001b[0;34m.\u001b[0m\u001b[0mvalidate\u001b[0m\u001b[0;34m(\u001b[0m\u001b[0mdata\u001b[0m\u001b[0;34m)\u001b[0m\u001b[0;34m\u001b[0m\u001b[0;34m\u001b[0m\u001b[0m\n\u001b[0m",
            "\u001b[0;32m/usr/local/lib/python3.6/dist-packages/schema.py\u001b[0m in \u001b[0;36mvalidate\u001b[0;34m(self, data)\u001b[0m\n\u001b[1;32m    352\u001b[0m             \u001b[0mdata\u001b[0m \u001b[0;34m=\u001b[0m \u001b[0mSchema\u001b[0m\u001b[0;34m(\u001b[0m\u001b[0mtype\u001b[0m\u001b[0;34m(\u001b[0m\u001b[0ms\u001b[0m\u001b[0;34m)\u001b[0m\u001b[0;34m,\u001b[0m \u001b[0merror\u001b[0m\u001b[0;34m=\u001b[0m\u001b[0me\u001b[0m\u001b[0;34m)\u001b[0m\u001b[0;34m.\u001b[0m\u001b[0mvalidate\u001b[0m\u001b[0;34m(\u001b[0m\u001b[0mdata\u001b[0m\u001b[0;34m)\u001b[0m\u001b[0;34m\u001b[0m\u001b[0;34m\u001b[0m\u001b[0m\n\u001b[1;32m    353\u001b[0m             \u001b[0mo\u001b[0m \u001b[0;34m=\u001b[0m \u001b[0mOr\u001b[0m\u001b[0;34m(\u001b[0m\u001b[0;34m*\u001b[0m\u001b[0ms\u001b[0m\u001b[0;34m,\u001b[0m \u001b[0merror\u001b[0m\u001b[0;34m=\u001b[0m\u001b[0me\u001b[0m\u001b[0;34m,\u001b[0m \u001b[0mschema\u001b[0m\u001b[0;34m=\u001b[0m\u001b[0mSchema\u001b[0m\u001b[0;34m,\u001b[0m \u001b[0mignore_extra_keys\u001b[0m\u001b[0;34m=\u001b[0m\u001b[0mi\u001b[0m\u001b[0;34m)\u001b[0m\u001b[0;34m\u001b[0m\u001b[0;34m\u001b[0m\u001b[0m\n\u001b[0;32m--> 354\u001b[0;31m             \u001b[0;32mreturn\u001b[0m \u001b[0mtype\u001b[0m\u001b[0;34m(\u001b[0m\u001b[0mdata\u001b[0m\u001b[0;34m)\u001b[0m\u001b[0;34m(\u001b[0m\u001b[0mo\u001b[0m\u001b[0;34m.\u001b[0m\u001b[0mvalidate\u001b[0m\u001b[0;34m(\u001b[0m\u001b[0md\u001b[0m\u001b[0;34m)\u001b[0m \u001b[0;32mfor\u001b[0m \u001b[0md\u001b[0m \u001b[0;32min\u001b[0m \u001b[0mdata\u001b[0m\u001b[0;34m)\u001b[0m\u001b[0;34m\u001b[0m\u001b[0;34m\u001b[0m\u001b[0m\n\u001b[0m\u001b[1;32m    355\u001b[0m         \u001b[0;32mif\u001b[0m \u001b[0mflavor\u001b[0m \u001b[0;34m==\u001b[0m \u001b[0mDICT\u001b[0m\u001b[0;34m:\u001b[0m\u001b[0;34m\u001b[0m\u001b[0;34m\u001b[0m\u001b[0m\n\u001b[1;32m    356\u001b[0m             \u001b[0mexitstack\u001b[0m \u001b[0;34m=\u001b[0m \u001b[0mExitStack\u001b[0m\u001b[0;34m(\u001b[0m\u001b[0;34m)\u001b[0m\u001b[0;34m\u001b[0m\u001b[0;34m\u001b[0m\u001b[0m\n",
            "\u001b[0;32m/usr/local/lib/python3.6/dist-packages/schema.py\u001b[0m in \u001b[0;36m<genexpr>\u001b[0;34m(.0)\u001b[0m\n\u001b[1;32m    352\u001b[0m             \u001b[0mdata\u001b[0m \u001b[0;34m=\u001b[0m \u001b[0mSchema\u001b[0m\u001b[0;34m(\u001b[0m\u001b[0mtype\u001b[0m\u001b[0;34m(\u001b[0m\u001b[0ms\u001b[0m\u001b[0;34m)\u001b[0m\u001b[0;34m,\u001b[0m \u001b[0merror\u001b[0m\u001b[0;34m=\u001b[0m\u001b[0me\u001b[0m\u001b[0;34m)\u001b[0m\u001b[0;34m.\u001b[0m\u001b[0mvalidate\u001b[0m\u001b[0;34m(\u001b[0m\u001b[0mdata\u001b[0m\u001b[0;34m)\u001b[0m\u001b[0;34m\u001b[0m\u001b[0;34m\u001b[0m\u001b[0m\n\u001b[1;32m    353\u001b[0m             \u001b[0mo\u001b[0m \u001b[0;34m=\u001b[0m \u001b[0mOr\u001b[0m\u001b[0;34m(\u001b[0m\u001b[0;34m*\u001b[0m\u001b[0ms\u001b[0m\u001b[0;34m,\u001b[0m \u001b[0merror\u001b[0m\u001b[0;34m=\u001b[0m\u001b[0me\u001b[0m\u001b[0;34m,\u001b[0m \u001b[0mschema\u001b[0m\u001b[0;34m=\u001b[0m\u001b[0mSchema\u001b[0m\u001b[0;34m,\u001b[0m \u001b[0mignore_extra_keys\u001b[0m\u001b[0;34m=\u001b[0m\u001b[0mi\u001b[0m\u001b[0;34m)\u001b[0m\u001b[0;34m\u001b[0m\u001b[0;34m\u001b[0m\u001b[0m\n\u001b[0;32m--> 354\u001b[0;31m             \u001b[0;32mreturn\u001b[0m \u001b[0mtype\u001b[0m\u001b[0;34m(\u001b[0m\u001b[0mdata\u001b[0m\u001b[0;34m)\u001b[0m\u001b[0;34m(\u001b[0m\u001b[0mo\u001b[0m\u001b[0;34m.\u001b[0m\u001b[0mvalidate\u001b[0m\u001b[0;34m(\u001b[0m\u001b[0md\u001b[0m\u001b[0;34m)\u001b[0m \u001b[0;32mfor\u001b[0m \u001b[0md\u001b[0m \u001b[0;32min\u001b[0m \u001b[0mdata\u001b[0m\u001b[0;34m)\u001b[0m\u001b[0;34m\u001b[0m\u001b[0;34m\u001b[0m\u001b[0m\n\u001b[0m\u001b[1;32m    355\u001b[0m         \u001b[0;32mif\u001b[0m \u001b[0mflavor\u001b[0m \u001b[0;34m==\u001b[0m \u001b[0mDICT\u001b[0m\u001b[0;34m:\u001b[0m\u001b[0;34m\u001b[0m\u001b[0;34m\u001b[0m\u001b[0m\n\u001b[1;32m    356\u001b[0m             \u001b[0mexitstack\u001b[0m \u001b[0;34m=\u001b[0m \u001b[0mExitStack\u001b[0m\u001b[0;34m(\u001b[0m\u001b[0;34m)\u001b[0m\u001b[0;34m\u001b[0m\u001b[0;34m\u001b[0m\u001b[0m\n",
            "\u001b[0;32m/usr/local/lib/python3.6/dist-packages/schema.py\u001b[0m in \u001b[0;36mvalidate\u001b[0;34m(self, data)\u001b[0m\n\u001b[1;32m    164\u001b[0m         raise SchemaError(\n\u001b[1;32m    165\u001b[0m             \u001b[0;34m[\u001b[0m\u001b[0;34m\"%r did not validate %r\"\u001b[0m \u001b[0;34m%\u001b[0m \u001b[0;34m(\u001b[0m\u001b[0mself\u001b[0m\u001b[0;34m,\u001b[0m \u001b[0mdata\u001b[0m\u001b[0;34m)\u001b[0m\u001b[0;34m]\u001b[0m \u001b[0;34m+\u001b[0m \u001b[0mautos\u001b[0m\u001b[0;34m,\u001b[0m\u001b[0;34m\u001b[0m\u001b[0;34m\u001b[0m\u001b[0m\n\u001b[0;32m--> 166\u001b[0;31m             \u001b[0;34m[\u001b[0m\u001b[0mself\u001b[0m\u001b[0;34m.\u001b[0m\u001b[0m_error\u001b[0m\u001b[0;34m.\u001b[0m\u001b[0mformat\u001b[0m\u001b[0;34m(\u001b[0m\u001b[0mdata\u001b[0m\u001b[0;34m)\u001b[0m \u001b[0;32mif\u001b[0m \u001b[0mself\u001b[0m\u001b[0;34m.\u001b[0m\u001b[0m_error\u001b[0m \u001b[0;32melse\u001b[0m \u001b[0;32mNone\u001b[0m\u001b[0;34m]\u001b[0m \u001b[0;34m+\u001b[0m \u001b[0merrors\u001b[0m\u001b[0;34m,\u001b[0m\u001b[0;34m\u001b[0m\u001b[0;34m\u001b[0m\u001b[0m\n\u001b[0m\u001b[1;32m    167\u001b[0m         )\n\u001b[1;32m    168\u001b[0m \u001b[0;34m\u001b[0m\u001b[0m\n",
            "\u001b[0;31mSchemaError\u001b[0m: Or({'name': <class 'int'>, 'city': <class 'str'>, 'closeness (1-5)': <class 'int'>, 'extrovert': <class 'bool'>, 'favorite_temperature': <class 'float'>}) did not validate {'name': 'Norma Fisher', 'city': 'South Richard', 'closeness (1-5)': 1, 'extrovert': True, 'favorite_temperature': -45.74}\nKey 'name' error:\n'Norma Fisher' should be instance of 'int'"
          ]
        }
      ]
    },
    {
      "cell_type": "code",
      "metadata": {
        "id": "ZxJ_tJ8yyzfW",
        "colab_type": "code",
        "colab": {
          "base_uri": "https://localhost:8080/",
          "height": 34
        },
        "outputId": "8b42385f-0c94-4b0b-de2f-cd714f98d8f4"
      },
      "source": [
        "schema.is_valid(data)"
      ],
      "execution_count": 10,
      "outputs": [
        {
          "output_type": "execute_result",
          "data": {
            "text/plain": [
              "False"
            ]
          },
          "metadata": {
            "tags": []
          },
          "execution_count": 10
        }
      ]
    },
    {
      "cell_type": "code",
      "metadata": {
        "id": "H-z6hCmJy26v",
        "colab_type": "code",
        "colab": {
          "base_uri": "https://localhost:8080/",
          "height": 34
        },
        "outputId": "b2703b94-a50d-438e-9538-88fc576f9ebb"
      },
      "source": [
        "schema = Schema([{'name': str,\n",
        "                 'city': str, \n",
        "                 'favorite_temperature': float,\n",
        "                  str: object\n",
        "                 }])\n",
        "                \n",
        "schema.is_valid(data)"
      ],
      "execution_count": 11,
      "outputs": [
        {
          "output_type": "execute_result",
          "data": {
            "text/plain": [
              "True"
            ]
          },
          "metadata": {
            "tags": []
          },
          "execution_count": 11
        }
      ]
    },
    {
      "cell_type": "code",
      "metadata": {
        "id": "6NsqcWJE0blG",
        "colab_type": "code",
        "colab": {}
      },
      "source": [
        "from schema import Schema, And, Or,Use, Optional, SchemaError"
      ],
      "execution_count": 27,
      "outputs": []
    },
    {
      "cell_type": "code",
      "metadata": {
        "id": "NVRWNWoEy5Fx",
        "colab_type": "code",
        "colab": {
          "base_uri": "https://localhost:8080/",
          "height": 34
        },
        "outputId": "af8beba7-5b10-4e99-f87a-f29526e07873"
      },
      "source": [
        "schema = Schema([{'name': str,\n",
        "                 'city': str, \n",
        "                 'favorite_temperature': float,\n",
        "                  'closeness (1-5)': lambda n : 1 <= n <= 5,\n",
        "                  str: object\n",
        "                 }])\n",
        "\n",
        "schema.is_valid(data)"
      ],
      "execution_count": 12,
      "outputs": [
        {
          "output_type": "execute_result",
          "data": {
            "text/plain": [
              "True"
            ]
          },
          "metadata": {
            "tags": []
          },
          "execution_count": 12
        }
      ]
    },
    {
      "cell_type": "code",
      "metadata": {
        "id": "36W0zg2Py_Jy",
        "colab_type": "code",
        "colab": {
          "base_uri": "https://localhost:8080/",
          "height": 34
        },
        "outputId": "8c0d6452-1f3b-4724-9929-0f5a8eabc480"
      },
      "source": [
        "schema = Schema([{'name': str,\n",
        "                 'city': str, \n",
        "                 'favorite_temperature': float,\n",
        "                  'closeness (1-5)': And(lambda n : 1 <= n <= 5, float),\n",
        "                  str: object\n",
        "                 }])\n",
        "\n",
        "schema.is_valid(data)"
      ],
      "execution_count": 28,
      "outputs": [
        {
          "output_type": "execute_result",
          "data": {
            "text/plain": [
              "False"
            ]
          },
          "metadata": {
            "tags": []
          },
          "execution_count": 28
        }
      ]
    },
    {
      "cell_type": "code",
      "metadata": {
        "id": "QKtvP-A90hpT",
        "colab_type": "code",
        "colab": {
          "base_uri": "https://localhost:8080/",
          "height": 34
        },
        "outputId": "e08d9af3-cf16-426d-e577-0d77a5cc5772"
      },
      "source": [
        "schema = Schema([{'name': str,\n",
        "                 'city': Or(lambda n: len(n.split())==2, lambda n: len(n.split()) ==1), \n",
        "                 'favorite_temperature': float,\n",
        "                  'closeness (1-5)': int,\n",
        "                  str: object\n",
        "                 }])\n",
        "\n",
        "schema.is_valid(data)"
      ],
      "execution_count": 29,
      "outputs": [
        {
          "output_type": "execute_result",
          "data": {
            "text/plain": [
              "False"
            ]
          },
          "metadata": {
            "tags": []
          },
          "execution_count": 29
        }
      ]
    },
    {
      "cell_type": "code",
      "metadata": {
        "id": "94LwD3qQzXNm",
        "colab_type": "code",
        "colab": {
          "base_uri": "https://localhost:8080/",
          "height": 309
        },
        "outputId": "979c19ff-48e8-4d39-8543-12679c624bbc"
      },
      "source": [
        "data.append({'name': fake.name(), \n",
        "            'city': fake.city(),\n",
        "            'closeness (1-5)' : np.random.randint(1,5)})\n",
        "            \n",
        "data "
      ],
      "execution_count": 20,
      "outputs": [
        {
          "output_type": "execute_result",
          "data": {
            "text/plain": [
              "[{'city': 'South Richard',\n",
              "  'closeness (1-5)': 1,\n",
              "  'extrovert': True,\n",
              "  'favorite_temperature': -45.74,\n",
              "  'name': 'Norma Fisher'},\n",
              " {'city': 'North Laurenshire',\n",
              "  'closeness (1-5)': 1,\n",
              "  'extrovert': False,\n",
              "  'favorite_temperature': 93.9,\n",
              "  'name': 'Colleen Taylor'},\n",
              " {'city': 'South Cherylside',\n",
              "  'closeness (1-5)': 4,\n",
              "  'extrovert': True,\n",
              "  'favorite_temperature': 66.33,\n",
              "  'name': 'Melinda Kennedy'},\n",
              " {'city': 'Lake Jennifermouth', 'closeness (1-5)': 2, 'name': 'Thomas Moon'}]"
            ]
          },
          "metadata": {
            "tags": []
          },
          "execution_count": 20
        }
      ]
    },
    {
      "cell_type": "code",
      "metadata": {
        "id": "zQZTqUDbzoJJ",
        "colab_type": "code",
        "colab": {
          "base_uri": "https://localhost:8080/",
          "height": 34
        },
        "outputId": "690903cf-932e-434c-dff6-2e4f7a5d58d0"
      },
      "source": [
        "schema = Schema([{'name': str,\n",
        "                 'city':str,  \n",
        "                  'closeness (1-5)': int,\n",
        "                  Optional('detailed_info'): {'favorite_color': str, 'phone number': str}\n",
        "                 }])\n",
        "schema.is_valid(data)"
      ],
      "execution_count": 30,
      "outputs": [
        {
          "output_type": "execute_result",
          "data": {
            "text/plain": [
              "True"
            ]
          },
          "metadata": {
            "tags": []
          },
          "execution_count": 30
        }
      ]
    },
    {
      "cell_type": "code",
      "metadata": {
        "id": "1oG-aaJ9zqkf",
        "colab_type": "code",
        "colab": {
          "base_uri": "https://localhost:8080/",
          "height": 511
        },
        "outputId": "b3625968-bc75-40f0-a768-e399ba61fee1"
      },
      "source": [
        "from schema import Forbidden\n",
        "\n",
        "schema = Schema([{'name': str,\n",
        "                 'city':str,  \n",
        "                  'closeness (1-5)': int,\n",
        "                  Forbidden('detailed_info'): dict\n",
        "                 }])\n",
        "schema.validate(data)"
      ],
      "execution_count": 31,
      "outputs": [
        {
          "output_type": "error",
          "ename": "SchemaError",
          "evalue": "ignored",
          "traceback": [
            "\u001b[0;31m---------------------------------------------------------------------------\u001b[0m",
            "\u001b[0;31mSchemaError\u001b[0m                               Traceback (most recent call last)",
            "\u001b[0;32m<ipython-input-31-37b4ec3ad4f1>\u001b[0m in \u001b[0;36m<module>\u001b[0;34m()\u001b[0m\n\u001b[1;32m      6\u001b[0m                   \u001b[0mForbidden\u001b[0m\u001b[0;34m(\u001b[0m\u001b[0;34m'detailed_info'\u001b[0m\u001b[0;34m)\u001b[0m\u001b[0;34m:\u001b[0m \u001b[0mdict\u001b[0m\u001b[0;34m\u001b[0m\u001b[0;34m\u001b[0m\u001b[0m\n\u001b[1;32m      7\u001b[0m                  }])\n\u001b[0;32m----> 8\u001b[0;31m \u001b[0mschema\u001b[0m\u001b[0;34m.\u001b[0m\u001b[0mvalidate\u001b[0m\u001b[0;34m(\u001b[0m\u001b[0mdata\u001b[0m\u001b[0;34m)\u001b[0m\u001b[0;34m\u001b[0m\u001b[0;34m\u001b[0m\u001b[0m\n\u001b[0m",
            "\u001b[0;32m/usr/local/lib/python3.6/dist-packages/schema.py\u001b[0m in \u001b[0;36mvalidate\u001b[0;34m(self, data)\u001b[0m\n\u001b[1;32m    352\u001b[0m             \u001b[0mdata\u001b[0m \u001b[0;34m=\u001b[0m \u001b[0mSchema\u001b[0m\u001b[0;34m(\u001b[0m\u001b[0mtype\u001b[0m\u001b[0;34m(\u001b[0m\u001b[0ms\u001b[0m\u001b[0;34m)\u001b[0m\u001b[0;34m,\u001b[0m \u001b[0merror\u001b[0m\u001b[0;34m=\u001b[0m\u001b[0me\u001b[0m\u001b[0;34m)\u001b[0m\u001b[0;34m.\u001b[0m\u001b[0mvalidate\u001b[0m\u001b[0;34m(\u001b[0m\u001b[0mdata\u001b[0m\u001b[0;34m)\u001b[0m\u001b[0;34m\u001b[0m\u001b[0;34m\u001b[0m\u001b[0m\n\u001b[1;32m    353\u001b[0m             \u001b[0mo\u001b[0m \u001b[0;34m=\u001b[0m \u001b[0mOr\u001b[0m\u001b[0;34m(\u001b[0m\u001b[0;34m*\u001b[0m\u001b[0ms\u001b[0m\u001b[0;34m,\u001b[0m \u001b[0merror\u001b[0m\u001b[0;34m=\u001b[0m\u001b[0me\u001b[0m\u001b[0;34m,\u001b[0m \u001b[0mschema\u001b[0m\u001b[0;34m=\u001b[0m\u001b[0mSchema\u001b[0m\u001b[0;34m,\u001b[0m \u001b[0mignore_extra_keys\u001b[0m\u001b[0;34m=\u001b[0m\u001b[0mi\u001b[0m\u001b[0;34m)\u001b[0m\u001b[0;34m\u001b[0m\u001b[0;34m\u001b[0m\u001b[0m\n\u001b[0;32m--> 354\u001b[0;31m             \u001b[0;32mreturn\u001b[0m \u001b[0mtype\u001b[0m\u001b[0;34m(\u001b[0m\u001b[0mdata\u001b[0m\u001b[0;34m)\u001b[0m\u001b[0;34m(\u001b[0m\u001b[0mo\u001b[0m\u001b[0;34m.\u001b[0m\u001b[0mvalidate\u001b[0m\u001b[0;34m(\u001b[0m\u001b[0md\u001b[0m\u001b[0;34m)\u001b[0m \u001b[0;32mfor\u001b[0m \u001b[0md\u001b[0m \u001b[0;32min\u001b[0m \u001b[0mdata\u001b[0m\u001b[0;34m)\u001b[0m\u001b[0;34m\u001b[0m\u001b[0;34m\u001b[0m\u001b[0m\n\u001b[0m\u001b[1;32m    355\u001b[0m         \u001b[0;32mif\u001b[0m \u001b[0mflavor\u001b[0m \u001b[0;34m==\u001b[0m \u001b[0mDICT\u001b[0m\u001b[0;34m:\u001b[0m\u001b[0;34m\u001b[0m\u001b[0;34m\u001b[0m\u001b[0m\n\u001b[1;32m    356\u001b[0m             \u001b[0mexitstack\u001b[0m \u001b[0;34m=\u001b[0m \u001b[0mExitStack\u001b[0m\u001b[0;34m(\u001b[0m\u001b[0;34m)\u001b[0m\u001b[0;34m\u001b[0m\u001b[0;34m\u001b[0m\u001b[0m\n",
            "\u001b[0;32m/usr/local/lib/python3.6/dist-packages/schema.py\u001b[0m in \u001b[0;36m<genexpr>\u001b[0;34m(.0)\u001b[0m\n\u001b[1;32m    352\u001b[0m             \u001b[0mdata\u001b[0m \u001b[0;34m=\u001b[0m \u001b[0mSchema\u001b[0m\u001b[0;34m(\u001b[0m\u001b[0mtype\u001b[0m\u001b[0;34m(\u001b[0m\u001b[0ms\u001b[0m\u001b[0;34m)\u001b[0m\u001b[0;34m,\u001b[0m \u001b[0merror\u001b[0m\u001b[0;34m=\u001b[0m\u001b[0me\u001b[0m\u001b[0;34m)\u001b[0m\u001b[0;34m.\u001b[0m\u001b[0mvalidate\u001b[0m\u001b[0;34m(\u001b[0m\u001b[0mdata\u001b[0m\u001b[0;34m)\u001b[0m\u001b[0;34m\u001b[0m\u001b[0;34m\u001b[0m\u001b[0m\n\u001b[1;32m    353\u001b[0m             \u001b[0mo\u001b[0m \u001b[0;34m=\u001b[0m \u001b[0mOr\u001b[0m\u001b[0;34m(\u001b[0m\u001b[0;34m*\u001b[0m\u001b[0ms\u001b[0m\u001b[0;34m,\u001b[0m \u001b[0merror\u001b[0m\u001b[0;34m=\u001b[0m\u001b[0me\u001b[0m\u001b[0;34m,\u001b[0m \u001b[0mschema\u001b[0m\u001b[0;34m=\u001b[0m\u001b[0mSchema\u001b[0m\u001b[0;34m,\u001b[0m \u001b[0mignore_extra_keys\u001b[0m\u001b[0;34m=\u001b[0m\u001b[0mi\u001b[0m\u001b[0;34m)\u001b[0m\u001b[0;34m\u001b[0m\u001b[0;34m\u001b[0m\u001b[0m\n\u001b[0;32m--> 354\u001b[0;31m             \u001b[0;32mreturn\u001b[0m \u001b[0mtype\u001b[0m\u001b[0;34m(\u001b[0m\u001b[0mdata\u001b[0m\u001b[0;34m)\u001b[0m\u001b[0;34m(\u001b[0m\u001b[0mo\u001b[0m\u001b[0;34m.\u001b[0m\u001b[0mvalidate\u001b[0m\u001b[0;34m(\u001b[0m\u001b[0md\u001b[0m\u001b[0;34m)\u001b[0m \u001b[0;32mfor\u001b[0m \u001b[0md\u001b[0m \u001b[0;32min\u001b[0m \u001b[0mdata\u001b[0m\u001b[0;34m)\u001b[0m\u001b[0;34m\u001b[0m\u001b[0;34m\u001b[0m\u001b[0m\n\u001b[0m\u001b[1;32m    355\u001b[0m         \u001b[0;32mif\u001b[0m \u001b[0mflavor\u001b[0m \u001b[0;34m==\u001b[0m \u001b[0mDICT\u001b[0m\u001b[0;34m:\u001b[0m\u001b[0;34m\u001b[0m\u001b[0;34m\u001b[0m\u001b[0m\n\u001b[1;32m    356\u001b[0m             \u001b[0mexitstack\u001b[0m \u001b[0;34m=\u001b[0m \u001b[0mExitStack\u001b[0m\u001b[0;34m(\u001b[0m\u001b[0;34m)\u001b[0m\u001b[0;34m\u001b[0m\u001b[0;34m\u001b[0m\u001b[0m\n",
            "\u001b[0;32m/usr/local/lib/python3.6/dist-packages/schema.py\u001b[0m in \u001b[0;36mvalidate\u001b[0;34m(self, data)\u001b[0m\n\u001b[1;32m    164\u001b[0m         raise SchemaError(\n\u001b[1;32m    165\u001b[0m             \u001b[0;34m[\u001b[0m\u001b[0;34m\"%r did not validate %r\"\u001b[0m \u001b[0;34m%\u001b[0m \u001b[0;34m(\u001b[0m\u001b[0mself\u001b[0m\u001b[0;34m,\u001b[0m \u001b[0mdata\u001b[0m\u001b[0;34m)\u001b[0m\u001b[0;34m]\u001b[0m \u001b[0;34m+\u001b[0m \u001b[0mautos\u001b[0m\u001b[0;34m,\u001b[0m\u001b[0;34m\u001b[0m\u001b[0;34m\u001b[0m\u001b[0m\n\u001b[0;32m--> 166\u001b[0;31m             \u001b[0;34m[\u001b[0m\u001b[0mself\u001b[0m\u001b[0;34m.\u001b[0m\u001b[0m_error\u001b[0m\u001b[0;34m.\u001b[0m\u001b[0mformat\u001b[0m\u001b[0;34m(\u001b[0m\u001b[0mdata\u001b[0m\u001b[0;34m)\u001b[0m \u001b[0;32mif\u001b[0m \u001b[0mself\u001b[0m\u001b[0;34m.\u001b[0m\u001b[0m_error\u001b[0m \u001b[0;32melse\u001b[0m \u001b[0;32mNone\u001b[0m\u001b[0;34m]\u001b[0m \u001b[0;34m+\u001b[0m \u001b[0merrors\u001b[0m\u001b[0;34m,\u001b[0m\u001b[0;34m\u001b[0m\u001b[0;34m\u001b[0m\u001b[0m\n\u001b[0m\u001b[1;32m    167\u001b[0m         )\n\u001b[1;32m    168\u001b[0m \u001b[0;34m\u001b[0m\u001b[0m\n",
            "\u001b[0;31mSchemaError\u001b[0m: Or({'name': <class 'str'>, 'city': <class 'str'>, 'closeness (1-5)': <class 'int'>, Forbidden('detailed_info'): <class 'dict'>}) did not validate {'name': 'Norma Fisher', 'city': 'South Richard', 'closeness (1-5)': 3, 'detailed_info': {'favorite_color': 'Pink', 'phone number': '7593824219489'}}\nForbidden key encountered: 'detailed_info' in {'name': 'Norma Fisher', 'city': 'South Richard', 'closeness (1-5)': 3, 'detailed_info': {'favorite_color': 'Pink', 'phone number': '7593824219489'}}"
          ]
        }
      ]
    },
    {
      "cell_type": "code",
      "metadata": {
        "id": "r888sjhNzvx0",
        "colab_type": "code",
        "colab": {}
      },
      "source": [
        "fake = Faker() \n",
        "Faker.seed(0)\n",
        "\n",
        "def create_data(x): \n",
        "  \n",
        "    # dictionary \n",
        "    data = [] \n",
        "    for i in range(0, x): \n",
        "        data_i = {}\n",
        "        data_i['name']= fake.name() \n",
        "        data_i['city']= fake.city() \n",
        "        data_i['closeness (1-5)'] = np.random.randint(1,5)\n",
        "        data_i['detailed_info'] = {'favorite_color': fake.color_name(),\n",
        "                                  'phone number': fake.msisdn()}\n",
        "        \n",
        "        data.append(data_i)\n",
        "    \n",
        "    return data\n",
        "    \n",
        "data = create_data(2)"
      ],
      "execution_count": 32,
      "outputs": []
    },
    {
      "cell_type": "code",
      "metadata": {
        "id": "vOeqNsJOz29h",
        "colab_type": "code",
        "colab": {
          "base_uri": "https://localhost:8080/",
          "height": 34
        },
        "outputId": "c068c645-a9aa-4886-bf54-f1cc82809dea"
      },
      "source": [
        "schema = Schema([{'name': str,\n",
        "                 'city':str,  \n",
        "                  'closeness (1-5)': int,\n",
        "                  'detailed_info': {'favorite_color': str, 'phone number': str}\n",
        "                 }])\n",
        "                 \n",
        "schema.is_valid(data)"
      ],
      "execution_count": 33,
      "outputs": [
        {
          "output_type": "execute_result",
          "data": {
            "text/plain": [
              "True"
            ]
          },
          "metadata": {
            "tags": []
          },
          "execution_count": 33
        }
      ]
    },
    {
      "cell_type": "code",
      "metadata": {
        "id": "OUg-Pbclz4_d",
        "colab_type": "code",
        "colab": {
          "base_uri": "https://localhost:8080/",
          "height": 34
        },
        "outputId": "78b23e73-b2c5-432a-e2c2-224a2e73e400"
      },
      "source": [
        "Schema(Use(int)).validate('123')"
      ],
      "execution_count": 34,
      "outputs": [
        {
          "output_type": "execute_result",
          "data": {
            "text/plain": [
              "123"
            ]
          },
          "metadata": {
            "tags": []
          },
          "execution_count": 34
        }
      ]
    }
  ]
}