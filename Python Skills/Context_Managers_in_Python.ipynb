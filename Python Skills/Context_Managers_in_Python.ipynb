{
  "nbformat": 4,
  "nbformat_minor": 0,
  "metadata": {
    "colab": {
      "provenance": [],
      "authorship_tag": "ABX9TyPSBs430lO7dJTK07s90gEk"
    },
    "kernelspec": {
      "name": "python3",
      "display_name": "Python 3"
    },
    "language_info": {
      "name": "python"
    }
  },
  "cells": [
    {
      "cell_type": "markdown",
      "source": [
        "[Reference](https://blog.stackademic.com/python-unleashing-the-magic-2-context-managers-1d8b8f7bc2a6)"
      ],
      "metadata": {
        "id": "VxlT40p5fS_X"
      }
    },
    {
      "cell_type": "code",
      "execution_count": 1,
      "metadata": {
        "id": "Xydx3SOseZEF"
      },
      "outputs": [],
      "source": [
        "# Without context manager\n",
        "file = open(\"example.txt\", \"r\")  # Open the file\n",
        "data = file.read()  # Read the contents of the file\n",
        "# Do something with the data\n",
        "file.close()  # Close the file"
      ]
    },
    {
      "cell_type": "code",
      "source": [
        "# With context managers\n",
        "with open(\"example.txt\", \"r\") as file:  # Open the file using a context manager\n",
        "    data = file.read()  # Read the contents of the file\n",
        "    # Do something with the data"
      ],
      "metadata": {
        "id": "9lo3A3-lfVuh"
      },
      "execution_count": 2,
      "outputs": []
    },
    {
      "cell_type": "code",
      "source": [
        "import mydblib # hypothetical generic db library\n",
        "\n",
        "class MyDatabaseContextManager:\n",
        "    def __init__(self, connection_string):\n",
        "        self.connection_string = connection_string\n",
        "        self.connection = None\n",
        "\n",
        "    def __enter__(self):\n",
        "        self.connection = mydblib.connect(self.connection_string)\n",
        "        return self.connection\n",
        "\n",
        "    def __exit__(self, exception_type, exception_value, exception_traceback):\n",
        "        if self.connection:\n",
        "            if exception_type is not None:\n",
        "                self.connection.rollback()  # Rollback the transaction if an exception occurred\n",
        "            else:\n",
        "                self.connection.commit()  # Commit the transaction if no exception occurred\n",
        "            self.connection.close()"
      ],
      "metadata": {
        "id": "tg9aAuC-fXYW"
      },
      "execution_count": 4,
      "outputs": []
    },
    {
      "cell_type": "code",
      "source": [
        "# Usage example\n",
        "with MyDatabaseContextManager(\"mydb://.../mydatabase\") as connection:\n",
        "    result = connection.query(\"SELECT * FROM mytable\")\n",
        "    for row in result:\n",
        "        print(row)"
      ],
      "metadata": {
        "id": "RfApLc31fZsD"
      },
      "execution_count": 5,
      "outputs": []
    },
    {
      "cell_type": "code",
      "source": [
        "from contextlib import contextmanager\n",
        "\n",
        "# Context manager\n",
        "@contextmanager\n",
        "def my_database_context_manager(connection_string):\n",
        "    connection = mydblib.connect(connection_string)\n",
        "    try:\n",
        "        yield connection\n",
        "    finally:\n",
        "        connection.close()\n",
        "\n",
        "\n",
        "\n",
        "# Usage example\n",
        "with my_database_context_manager(\"mydb://.../mydatabase\") as connection:\n",
        "    result = connection.query(\"SELECT * FROM mytable\")\n",
        "    for row in result:\n",
        "        print(row)"
      ],
      "metadata": {
        "id": "pQCaWpu7fcnF"
      },
      "execution_count": 6,
      "outputs": []
    }
  ]
}
