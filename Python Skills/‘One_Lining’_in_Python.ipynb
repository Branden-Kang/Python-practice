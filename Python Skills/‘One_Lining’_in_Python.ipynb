{
  "nbformat": 4,
  "nbformat_minor": 0,
  "metadata": {
    "colab": {
      "name": "‘One-Lining’ in Python.ipynb",
      "provenance": [],
      "authorship_tag": "ABX9TyPgwNXirLN38BFGbEdsH2u3"
    },
    "kernelspec": {
      "name": "python3",
      "display_name": "Python 3"
    }
  },
  "cells": [
    {
      "cell_type": "markdown",
      "metadata": {
        "id": "sJ9WjTCOs7-v"
      },
      "source": [
        "[Reference](https://medium.com/analytics-vidhya/the-art-of-one-lining-in-python-1b96fc6fc5a9)"
      ]
    },
    {
      "cell_type": "code",
      "metadata": {
        "colab": {
          "base_uri": "https://localhost:8080/"
        },
        "id": "fry-Dzgis6ft",
        "outputId": "5874911f-46da-4e7a-d188-20643e84a559"
      },
      "source": [
        "if 10 % 2 == 0:\n",
        "  print('Even!')\n",
        "else:\n",
        "  print(\"Odd!\")"
      ],
      "execution_count": 1,
      "outputs": [
        {
          "output_type": "stream",
          "text": [
            "Even!\n"
          ],
          "name": "stdout"
        }
      ]
    },
    {
      "cell_type": "code",
      "metadata": {
        "colab": {
          "base_uri": "https://localhost:8080/"
        },
        "id": "44C3NbwFs-2-",
        "outputId": "a0ea72a2-f65e-4542-bd7b-6b9745401cf1"
      },
      "source": [
        "print(\"Even!\" if 10 % 2 == 0 else \"Odd!\") # Value = Even!"
      ],
      "execution_count": 2,
      "outputs": [
        {
          "output_type": "stream",
          "text": [
            "Even!\n"
          ],
          "name": "stdout"
        }
      ]
    },
    {
      "cell_type": "code",
      "metadata": {
        "id": "7623RHTutAfB"
      },
      "source": [
        "nums = []\n",
        "for n in range(10):\n",
        "  nums.append(n)"
      ],
      "execution_count": 3,
      "outputs": []
    },
    {
      "cell_type": "code",
      "metadata": {
        "id": "udFi4FS-tB9C"
      },
      "source": [
        "nums = [n for n in range(10)] # Value = [0, 1, 2, 3, 4, 5, 6, 7, 8, 9]"
      ],
      "execution_count": 4,
      "outputs": []
    },
    {
      "cell_type": "code",
      "metadata": {
        "colab": {
          "base_uri": "https://localhost:8080/"
        },
        "id": "5WZ-TvaXtCtU",
        "outputId": "5bc596d8-72db-414a-c366-ea6d737c51d2"
      },
      "source": [
        "nums = [n for n in range(10) if n % 2 == 0] # Value = [1, 3, 5, 7, 9]\n",
        "nums"
      ],
      "execution_count": 5,
      "outputs": [
        {
          "output_type": "execute_result",
          "data": {
            "text/plain": [
              "[0, 2, 4, 6, 8]"
            ]
          },
          "metadata": {
            "tags": []
          },
          "execution_count": 5
        }
      ]
    },
    {
      "cell_type": "code",
      "metadata": {
        "colab": {
          "base_uri": "https://localhost:8080/"
        },
        "id": "anpxZvDDtFF-",
        "outputId": "4c980d77-fd31-4b69-d2a3-5abf9d2f3384"
      },
      "source": [
        "nums = [ x for y in range(5) for x in range(y) ] # Value = [0, 0, 1, 0, 1, 2, 0, 1, 2, 3]\n",
        "nums"
      ],
      "execution_count": 6,
      "outputs": [
        {
          "output_type": "execute_result",
          "data": {
            "text/plain": [
              "[0, 0, 1, 0, 1, 2, 0, 1, 2, 3]"
            ]
          },
          "metadata": {
            "tags": []
          },
          "execution_count": 6
        }
      ]
    },
    {
      "cell_type": "code",
      "metadata": {
        "id": "iKPOOLFDtHJ6"
      },
      "source": [
        "nums = []\n",
        "for y in range(5):\n",
        "  for x in range(y):\n",
        "    nums.append(x)"
      ],
      "execution_count": 7,
      "outputs": []
    },
    {
      "cell_type": "code",
      "metadata": {
        "colab": {
          "base_uri": "https://localhost:8080/"
        },
        "id": "xyARknLytITl",
        "outputId": "82037d94-f875-46b1-e458-7e3f4830f857"
      },
      "source": [
        "nums = [1, 1, 1, 2, 2, 3]\n",
        "set_nums = set(nums) # Value = {1, 2, 3}\n",
        "set_nums"
      ],
      "execution_count": 8,
      "outputs": [
        {
          "output_type": "execute_result",
          "data": {
            "text/plain": [
              "{1, 2, 3}"
            ]
          },
          "metadata": {
            "tags": []
          },
          "execution_count": 8
        }
      ]
    },
    {
      "cell_type": "code",
      "metadata": {
        "colab": {
          "base_uri": "https://localhost:8080/"
        },
        "id": "lJfTMLmotLcb",
        "outputId": "16717746-c016-4512-9c0e-bc45c4021b17"
      },
      "source": [
        "min([5, 3, 1, 4]) # Value = 1"
      ],
      "execution_count": 9,
      "outputs": [
        {
          "output_type": "execute_result",
          "data": {
            "text/plain": [
              "1"
            ]
          },
          "metadata": {
            "tags": []
          },
          "execution_count": 9
        }
      ]
    },
    {
      "cell_type": "code",
      "metadata": {
        "colab": {
          "base_uri": "https://localhost:8080/"
        },
        "id": "OriFo5JitNUz",
        "outputId": "86d4cf3b-3f8a-4d69-d717-a32075e8a085"
      },
      "source": [
        "max([5, 3, 1, 4]) # Value = 5"
      ],
      "execution_count": 10,
      "outputs": [
        {
          "output_type": "execute_result",
          "data": {
            "text/plain": [
              "5"
            ]
          },
          "metadata": {
            "tags": []
          },
          "execution_count": 10
        }
      ]
    },
    {
      "cell_type": "code",
      "metadata": {
        "colab": {
          "base_uri": "https://localhost:8080/"
        },
        "id": "b9DneqpYtOMC",
        "outputId": "e6cc0691-d9c2-4ae9-f0c8-177c516ec88c"
      },
      "source": [
        "sum([5, 3, 1, 4]) # Value = 13"
      ],
      "execution_count": 11,
      "outputs": [
        {
          "output_type": "execute_result",
          "data": {
            "text/plain": [
              "13"
            ]
          },
          "metadata": {
            "tags": []
          },
          "execution_count": 11
        }
      ]
    },
    {
      "cell_type": "code",
      "metadata": {
        "id": "ZmkM9yJDtPEi"
      },
      "source": [
        "not_nums = ['1', '2', '3']\n",
        "nums = list(map(int, not_nums)) # Value = [1, 2, 3]"
      ],
      "execution_count": 12,
      "outputs": []
    },
    {
      "cell_type": "code",
      "metadata": {
        "id": "vCXc7gentQhn"
      },
      "source": [
        "nums = [2, 4, 5, 6, 7]\n",
        "nums = list(filter(lambda x: x % 2 == 0, nums)) # Value = [2, 4, 6]"
      ],
      "execution_count": 13,
      "outputs": []
    },
    {
      "cell_type": "code",
      "metadata": {
        "id": "865AhFsNtR_m"
      },
      "source": [
        "N = 167 #\n",
        "num = 163 if N >= 163 else N # Value = 163"
      ],
      "execution_count": 14,
      "outputs": []
    },
    {
      "cell_type": "code",
      "metadata": {
        "colab": {
          "base_uri": "https://localhost:8080/"
        },
        "id": "hHPbklyQtUV1",
        "outputId": "f5000ed8-4967-4ee3-e80c-edcdb97f297f"
      },
      "source": [
        "inp = [1, 2, 3, 4, 5]\n",
        "# if-then-else with list comprehension\n",
        "\n",
        "nums = [x for x in inp if x % 2 == 0]\n",
        "\n",
        "# With Filter\n",
        "\n",
        "nums = list(filter(lambda x: x % 2 == 0, inp))\n",
        "nums"
      ],
      "execution_count": 15,
      "outputs": [
        {
          "output_type": "execute_result",
          "data": {
            "text/plain": [
              "[2, 4]"
            ]
          },
          "metadata": {
            "tags": []
          },
          "execution_count": 15
        }
      ]
    },
    {
      "cell_type": "code",
      "metadata": {
        "colab": {
          "base_uri": "https://localhost:8080/"
        },
        "id": "IBDxAytBtWnv",
        "outputId": "84f726bc-44d8-40f3-9a78-f97c89ddcbe3"
      },
      "source": [
        "inp = '1 2 3' # Input string\n",
        "nums = list(map(int, inp.split())) # Value = [1, 2, 3]\n",
        "nums"
      ],
      "execution_count": 16,
      "outputs": [
        {
          "output_type": "execute_result",
          "data": {
            "text/plain": [
              "[1, 2, 3]"
            ]
          },
          "metadata": {
            "tags": []
          },
          "execution_count": 16
        }
      ]
    },
    {
      "cell_type": "code",
      "metadata": {
        "colab": {
          "base_uri": "https://localhost:8080/"
        },
        "id": "4XGDmJ9OtYkb",
        "outputId": "c941ff5f-11fb-4602-844f-2748677c8531"
      },
      "source": [
        "inp = '1 2 3' # Input string\n",
        "nums = sum(list(map(int, inp.split()))) # Value = 6\n",
        "nums"
      ],
      "execution_count": 17,
      "outputs": [
        {
          "output_type": "execute_result",
          "data": {
            "text/plain": [
              "6"
            ]
          },
          "metadata": {
            "tags": []
          },
          "execution_count": 17
        }
      ]
    },
    {
      "cell_type": "code",
      "metadata": {
        "colab": {
          "base_uri": "https://localhost:8080/"
        },
        "id": "jtasKlaataOg",
        "outputId": "66560da5-d0d6-4682-9921-f9e3aa88fb7f"
      },
      "source": [
        "inp = '1 1 1 2 2 3' # Input string\n",
        "nums = len(set(map(int, inp.split()))) # Value = 3\n",
        "nums"
      ],
      "execution_count": 18,
      "outputs": [
        {
          "output_type": "execute_result",
          "data": {
            "text/plain": [
              "3"
            ]
          },
          "metadata": {
            "tags": []
          },
          "execution_count": 18
        }
      ]
    },
    {
      "cell_type": "code",
      "metadata": {
        "colab": {
          "base_uri": "https://localhost:8080/"
        },
        "id": "Tz75ZPgntb78",
        "outputId": "56976328-7174-40ca-81d2-a86e88027233"
      },
      "source": [
        "inp = [ [1, 2, 3], [4, 5, 6], [7, 8, 9] ]\n",
        "nums = [x for y in inp for x in y] # Value = [1, 2, 3, 4, 5, 6, 7, 8, 9]\n",
        "nums"
      ],
      "execution_count": 19,
      "outputs": [
        {
          "output_type": "execute_result",
          "data": {
            "text/plain": [
              "[1, 2, 3, 4, 5, 6, 7, 8, 9]"
            ]
          },
          "metadata": {
            "tags": []
          },
          "execution_count": 19
        }
      ]
    },
    {
      "cell_type": "code",
      "metadata": {
        "colab": {
          "base_uri": "https://localhost:8080/"
        },
        "id": "M1zZ6btBteWG",
        "outputId": "e5e92d6c-5221-49e9-a79b-0f700b3d29e4"
      },
      "source": [
        "N = 5\n",
        "nums = [ [x for x in range(y * n, (y + 1) * n)] for y in range(n)]\n",
        "nums"
      ],
      "execution_count": 20,
      "outputs": [
        {
          "output_type": "execute_result",
          "data": {
            "text/plain": [
              "[[0, 1, 2, 3, 4, 5, 6, 7, 8],\n",
              " [9, 10, 11, 12, 13, 14, 15, 16, 17],\n",
              " [18, 19, 20, 21, 22, 23, 24, 25, 26],\n",
              " [27, 28, 29, 30, 31, 32, 33, 34, 35],\n",
              " [36, 37, 38, 39, 40, 41, 42, 43, 44],\n",
              " [45, 46, 47, 48, 49, 50, 51, 52, 53],\n",
              " [54, 55, 56, 57, 58, 59, 60, 61, 62],\n",
              " [63, 64, 65, 66, 67, 68, 69, 70, 71],\n",
              " [72, 73, 74, 75, 76, 77, 78, 79, 80]]"
            ]
          },
          "metadata": {
            "tags": []
          },
          "execution_count": 20
        }
      ]
    },
    {
      "cell_type": "code",
      "metadata": {
        "id": "zVwCqSnPtrrg"
      },
      "source": [
        "inp1 = 'abcdcba'\n",
        "inp2 = 'aab'\n",
        "\n",
        "# Check if letter n is equal to letter length-n and store it in an array\n",
        "\n",
        "pal1 = min([inp1[x] == inp1[len(inp1) - x - 1] for x in range(len(inp1))]) # True\n",
        "pal2 = min([inp2[x] == inp2[len(inp2) - x - 1] for x in range(len(inp2))]) # False"
      ],
      "execution_count": 21,
      "outputs": []
    }
  ]
}