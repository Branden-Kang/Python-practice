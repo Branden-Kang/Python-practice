{
  "nbformat": 4,
  "nbformat_minor": 0,
  "metadata": {
    "colab": {
      "name": "4 Advanced Tricks With Python Functions.ipynb",
      "provenance": [],
      "authorship_tag": "ABX9TyPClgLUJdEu/NjuUqHh2Jcn"
    },
    "kernelspec": {
      "name": "python3",
      "display_name": "Python 3"
    },
    "language_info": {
      "name": "python"
    }
  },
  "cells": [
    {
      "cell_type": "markdown",
      "metadata": {
        "id": "3AXa5fN26f5x"
      },
      "source": [
        "[Reference](https://medium.com/pythonland/4-advanced-tricks-with-python-functions-you-might-not-know-76a927d53189)"
      ]
    },
    {
      "cell_type": "code",
      "metadata": {
        "id": "tpsbmw3j5UEE"
      },
      "source": [
        "def f(*, a, b):\n",
        "     print(a, b)"
      ],
      "execution_count": 4,
      "outputs": []
    },
    {
      "cell_type": "code",
      "metadata": {
        "colab": {
          "base_uri": "https://localhost:8080/",
          "height": 198
        },
        "id": "OYt4GpOP6j_t",
        "outputId": "97cfebc5-99f0-425f-9450-fb6facaed02b"
      },
      "source": [
        "f(1, 2)"
      ],
      "execution_count": 5,
      "outputs": [
        {
          "output_type": "error",
          "ename": "TypeError",
          "evalue": "ignored",
          "traceback": [
            "\u001b[0;31m---------------------------------------------------------------------------\u001b[0m",
            "\u001b[0;31mTypeError\u001b[0m                                 Traceback (most recent call last)",
            "\u001b[0;32m<ipython-input-5-c9c271413adf>\u001b[0m in \u001b[0;36m<module>\u001b[0;34m()\u001b[0m\n\u001b[0;32m----> 1\u001b[0;31m \u001b[0mf\u001b[0m\u001b[0;34m(\u001b[0m\u001b[0;36m1\u001b[0m\u001b[0;34m,\u001b[0m \u001b[0;36m2\u001b[0m\u001b[0;34m)\u001b[0m\u001b[0;34m\u001b[0m\u001b[0;34m\u001b[0m\u001b[0m\n\u001b[0m",
            "\u001b[0;31mTypeError\u001b[0m: f() takes 0 positional arguments but 2 were given"
          ]
        }
      ]
    },
    {
      "cell_type": "code",
      "metadata": {
        "colab": {
          "base_uri": "https://localhost:8080/"
        },
        "id": "MSzgLnha6l5F",
        "outputId": "bf716ce5-d27e-464c-9d6c-a905493f2cf1"
      },
      "source": [
        "f(a=1, b=2)"
      ],
      "execution_count": 6,
      "outputs": [
        {
          "output_type": "stream",
          "text": [
            "1 2\n"
          ],
          "name": "stdout"
        }
      ]
    },
    {
      "cell_type": "code",
      "metadata": {
        "id": "6u1GaJkh6nsp"
      },
      "source": [
        "def f(a, b):\n",
        "     print(a, b)"
      ],
      "execution_count": 7,
      "outputs": []
    },
    {
      "cell_type": "code",
      "metadata": {
        "colab": {
          "base_uri": "https://localhost:8080/"
        },
        "id": "vz_4fGdI6vK6",
        "outputId": "685705f2-0802-4382-a293-f0bf11a8e719"
      },
      "source": [
        "args = { \"a\": 1, \"b\": 2 }\n",
        "f(**args)"
      ],
      "execution_count": 8,
      "outputs": [
        {
          "output_type": "stream",
          "text": [
            "1 2\n"
          ],
          "name": "stdout"
        }
      ]
    },
    {
      "cell_type": "code",
      "metadata": {
        "colab": {
          "base_uri": "https://localhost:8080/"
        },
        "id": "1AesXdnh6xC0",
        "outputId": "ba4d6408-5fa6-4bd2-b7b2-67dfc65a2d33"
      },
      "source": [
        "def f(a, b, c):\n",
        "    print(a, b, c)\n",
        "\n",
        "l = [1, 2, 3]\n",
        "f(*l)"
      ],
      "execution_count": 9,
      "outputs": [
        {
          "output_type": "stream",
          "text": [
            "1 2 3\n"
          ],
          "name": "stdout"
        }
      ]
    },
    {
      "cell_type": "code",
      "metadata": {
        "colab": {
          "base_uri": "https://localhost:8080/"
        },
        "id": "NK4Xgdm661Y3",
        "outputId": "2c7cd150-cbd1-4474-c1ab-6687b38fe7e1"
      },
      "source": [
        "def print_argument(func):\n",
        "    def wrapper(the_number):\n",
        "        print(\"Argument for\", func.__name__, \"is\", the_number)\n",
        "        return func(the_number)\n",
        "    \n",
        "    return wrapper\n",
        "\n",
        "@print_argument\n",
        "def add_one(x):\n",
        "    return x + 1\n",
        "\n",
        "print(add_one(1))"
      ],
      "execution_count": 10,
      "outputs": [
        {
          "output_type": "stream",
          "text": [
            "Argument for add_one is 1\n",
            "2\n"
          ],
          "name": "stdout"
        }
      ]
    },
    {
      "cell_type": "code",
      "metadata": {
        "colab": {
          "base_uri": "https://localhost:8080/"
        },
        "id": "aELnl96K64Hy",
        "outputId": "d169693c-1960-467e-bdc5-95f090eff79e"
      },
      "source": [
        "add_one = lambda x: x + 1\n",
        "add_one(3)"
      ],
      "execution_count": 11,
      "outputs": [
        {
          "output_type": "execute_result",
          "data": {
            "text/plain": [
              "4"
            ]
          },
          "metadata": {
            "tags": []
          },
          "execution_count": 11
        }
      ]
    },
    {
      "cell_type": "code",
      "metadata": {
        "colab": {
          "base_uri": "https://localhost:8080/"
        },
        "id": "sCZ3FqcV67IR",
        "outputId": "abe5095b-a9fd-4dd5-a796-7168f60f27a0"
      },
      "source": [
        "numbers = [1, 2, 3, 4]\n",
        "times_two = map(lambda x: x * 2, numbers)\n",
        "list(times_two)"
      ],
      "execution_count": 12,
      "outputs": [
        {
          "output_type": "execute_result",
          "data": {
            "text/plain": [
              "[2, 4, 6, 8]"
            ]
          },
          "metadata": {
            "tags": []
          },
          "execution_count": 12
        }
      ]
    }
  ]
}