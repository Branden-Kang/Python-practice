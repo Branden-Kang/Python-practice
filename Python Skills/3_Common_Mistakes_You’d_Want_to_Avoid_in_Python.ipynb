{
  "nbformat": 4,
  "nbformat_minor": 0,
  "metadata": {
    "colab": {
      "name": "3 Common Mistakes You’d Want to Avoid in Python.ipynb",
      "provenance": [],
      "authorship_tag": "ABX9TyPBwkuKUe8ZITP6Sty8nmsM"
    },
    "kernelspec": {
      "name": "python3",
      "display_name": "Python 3"
    },
    "language_info": {
      "name": "python"
    }
  },
  "cells": [
    {
      "cell_type": "markdown",
      "metadata": {
        "id": "9neJPHDKhjpG"
      },
      "source": [
        "[Reference](https://betterprogramming.pub/3-common-mistakes-youd-want-to-avoid-in-python-6210f4d56310)"
      ]
    },
    {
      "cell_type": "code",
      "metadata": {
        "id": "SXYa-OXtf6dV"
      },
      "source": [
        "def add(x, y=[]):\n",
        "    y.append(x)\n",
        "    return y"
      ],
      "execution_count": 1,
      "outputs": []
    },
    {
      "cell_type": "code",
      "metadata": {
        "colab": {
          "base_uri": "https://localhost:8080/"
        },
        "id": "uJq6cxPohl7a",
        "outputId": "d334e037-ccd2-4b30-8a2c-2ac232ca4bb3"
      },
      "source": [
        "def add(x, y=[]):\n",
        "    y.append(x)\n",
        "    return y\n",
        "\n",
        "\n",
        "print(add('halil'))\n",
        "print(add('yıldırım'))"
      ],
      "execution_count": 2,
      "outputs": [
        {
          "output_type": "stream",
          "text": [
            "['halil']\n",
            "['halil', 'yıldırım']\n"
          ],
          "name": "stdout"
        }
      ]
    },
    {
      "cell_type": "code",
      "metadata": {
        "colab": {
          "base_uri": "https://localhost:8080/"
        },
        "id": "1gaEJEhohnn8",
        "outputId": "8dfc427d-9d7e-49f9-b47a-5cca9fb7de0e"
      },
      "source": [
        "def add(x, y=[]):\n",
        "    y.append(x)\n",
        "    return y\n",
        "\n",
        "\n",
        "add('halil')\n",
        "print(add.__defaults__)\n",
        "add('yıldırım')\n",
        "print(add.__defaults__)"
      ],
      "execution_count": 3,
      "outputs": [
        {
          "output_type": "stream",
          "text": [
            "(['halil'],)\n",
            "(['halil', 'yıldırım'],)\n"
          ],
          "name": "stdout"
        }
      ]
    },
    {
      "cell_type": "code",
      "metadata": {
        "colab": {
          "base_uri": "https://localhost:8080/"
        },
        "id": "Cx6jXJLThqnM",
        "outputId": "3e0ac488-27a4-4648-9384-f6fe3d5f7ea9"
      },
      "source": [
        "def add(x, y=None):\n",
        "    if y is None:\n",
        "        y = list()\n",
        "        y.append(x)\n",
        "    else:\n",
        "        y.append(x)\n",
        "    return y\n",
        "\n",
        "\n",
        "print(add('halil'))\n",
        "print(add('yıldırım'))"
      ],
      "execution_count": 4,
      "outputs": [
        {
          "output_type": "stream",
          "text": [
            "['halil']\n",
            "['yıldırım']\n"
          ],
          "name": "stdout"
        }
      ]
    },
    {
      "cell_type": "code",
      "metadata": {
        "colab": {
          "base_uri": "https://localhost:8080/"
        },
        "id": "JVe_UUSRh0zV",
        "outputId": "8eccadfc-4c4f-4ad9-a0a3-7ebb9ef0cf52"
      },
      "source": [
        "a = {'a': 5, 'b': 4, 'c': 8}\n",
        "b = a\n",
        "del b['a']\n",
        "print(b)\n",
        "print(a)"
      ],
      "execution_count": 6,
      "outputs": [
        {
          "output_type": "stream",
          "text": [
            "{'b': 4, 'c': 8}\n",
            "{'b': 4, 'c': 8}\n"
          ],
          "name": "stdout"
        }
      ]
    },
    {
      "cell_type": "code",
      "metadata": {
        "colab": {
          "base_uri": "https://localhost:8080/"
        },
        "id": "jc_6YXMkh22z",
        "outputId": "99b87606-c096-4849-a2af-85bf0927d2d2"
      },
      "source": [
        "import copy\n",
        "a = {'a': 5, 'b': 4, 'c': 8}\n",
        "b = copy.copy(a)\n",
        "del b['a']\n",
        "print(b)\n",
        "print(a)"
      ],
      "execution_count": 7,
      "outputs": [
        {
          "output_type": "stream",
          "text": [
            "{'b': 4, 'c': 8}\n",
            "{'a': 5, 'b': 4, 'c': 8}\n"
          ],
          "name": "stdout"
        }
      ]
    },
    {
      "cell_type": "code",
      "metadata": {
        "colab": {
          "base_uri": "https://localhost:8080/"
        },
        "id": "WxrZ4nOSh7tW",
        "outputId": "21d0c954-0f6f-4ee6-aaa8-233b7cdfcd0a"
      },
      "source": [
        "import random\n",
        "\n",
        "print(random.random())"
      ],
      "execution_count": 8,
      "outputs": [
        {
          "output_type": "stream",
          "text": [
            "0.8408611714394885\n"
          ],
          "name": "stdout"
        }
      ]
    }
  ]
}