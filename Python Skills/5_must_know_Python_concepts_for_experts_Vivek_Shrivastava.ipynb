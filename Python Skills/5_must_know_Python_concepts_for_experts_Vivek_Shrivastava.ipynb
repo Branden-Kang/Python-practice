{
  "nbformat": 4,
  "nbformat_minor": 0,
  "metadata": {
    "colab": {
      "name": "5 must-know Python concepts for experts Vivek Shrivastava.ipynb",
      "provenance": [],
      "authorship_tag": "ABX9TyP9jnT5kZJVyA59tUTdKL6G"
    },
    "kernelspec": {
      "name": "python3",
      "display_name": "Python 3"
    },
    "language_info": {
      "name": "python"
    }
  },
  "cells": [
    {
      "cell_type": "markdown",
      "metadata": {
        "id": "afxXao0svWCs"
      },
      "source": [
        "[Reference](https://medium.com/@AuthorVivek/5-must-know-python-concepts-for-experts-45b9e6b062ce)"
      ]
    },
    {
      "cell_type": "code",
      "metadata": {
        "colab": {
          "base_uri": "https://localhost:8080/"
        },
        "id": "liUti4nus61J",
        "outputId": "07194b8a-4109-4b37-dd50-50fc104df90f"
      },
      "source": [
        "# List of numbers\n",
        "listOfNumbers = [1,2,3,4,5]\n",
        "\n",
        "# Sample function to process the even number\n",
        "def processEven(number):\n",
        "    print('Even number found:', number)\n",
        "    \n",
        "# The for-else loop\n",
        "for number in listOfNumbers:\n",
        "    if number % 2 == 0:\n",
        "        processEven(number)\n",
        "        break\n",
        "else:\n",
        "    print('An even number was not found in the list !')"
      ],
      "execution_count": 1,
      "outputs": [
        {
          "output_type": "stream",
          "text": [
            "Even number found: 2\n"
          ],
          "name": "stdout"
        }
      ]
    },
    {
      "cell_type": "code",
      "metadata": {
        "id": "eq03KcrGtDIS"
      },
      "source": [
        "someFile = open('some_file', 'w')\n",
        "try:\n",
        "    someFile.write('Hello World !')\n",
        "finally:\n",
        "    someFile.close()"
      ],
      "execution_count": 2,
      "outputs": []
    },
    {
      "cell_type": "code",
      "metadata": {
        "id": "WqjSGdsstIsZ"
      },
      "source": [
        "with open('some_file', 'w') as someFile:\n",
        "    someFile.write('Hello World !')"
      ],
      "execution_count": 3,
      "outputs": []
    },
    {
      "cell_type": "code",
      "metadata": {
        "id": "1gXQ3uaItMfN"
      },
      "source": [
        "x, y = 10, 20"
      ],
      "execution_count": 4,
      "outputs": []
    },
    {
      "cell_type": "code",
      "metadata": {
        "id": "vnfxVtfNtOGu"
      },
      "source": [
        "x, y = y, x"
      ],
      "execution_count": 5,
      "outputs": []
    },
    {
      "cell_type": "code",
      "metadata": {
        "colab": {
          "base_uri": "https://localhost:8080/"
        },
        "id": "XcOh0rbKtP_q",
        "outputId": "1c1ea1a9-dbfe-4c07-b20f-1a0b10171bb8"
      },
      "source": [
        "x, y = 'OK'\n",
        "print(x)"
      ],
      "execution_count": 6,
      "outputs": [
        {
          "output_type": "stream",
          "text": [
            "O\n"
          ],
          "name": "stdout"
        }
      ]
    },
    {
      "cell_type": "code",
      "metadata": {
        "colab": {
          "base_uri": "https://localhost:8080/"
        },
        "id": "scgsg7xRtT99",
        "outputId": "0a5bf9f0-7755-44b8-97a9-758de8893387"
      },
      "source": [
        "print(y)"
      ],
      "execution_count": 7,
      "outputs": [
        {
          "output_type": "stream",
          "text": [
            "K\n"
          ],
          "name": "stdout"
        }
      ]
    },
    {
      "cell_type": "code",
      "metadata": {
        "colab": {
          "base_uri": "https://localhost:8080/"
        },
        "id": "Es_Fu8bwtUy9",
        "outputId": "14b8892d-21ee-4007-c707-519da9c99aef"
      },
      "source": [
        "list = [('Alice',25), ('Bob',30), ('Jake',27)]\n",
        "for name, age in list:\n",
        "    print(name,'is aged',str(age))"
      ],
      "execution_count": 8,
      "outputs": [
        {
          "output_type": "stream",
          "text": [
            "Alice is aged 25\n",
            "Bob is aged 30\n",
            "Jake is aged 27\n"
          ],
          "name": "stdout"
        }
      ]
    },
    {
      "cell_type": "code",
      "metadata": {
        "colab": {
          "base_uri": "https://localhost:8080/"
        },
        "id": "ceHdiCr_tcOb",
        "outputId": "9f114daf-03d3-441f-dcd8-889e3ba7690e"
      },
      "source": [
        "class Employee:\n",
        "    def __init__(self, name, ID, salary):\n",
        "        self.empName = name\n",
        "        self.empID = ID\n",
        "        self.empSalary = salary    \n",
        "        \n",
        "    def __str__(self):\n",
        "        return 'Employee('+self.empName+','+self.empID+','+str(self.empSalary)+')'    \n",
        "        \n",
        "    def __repr__(self):\n",
        "        return '['+self.empID+'] — '+self.empName    \n",
        "        \n",
        "    def __add__(self, secondObject):\n",
        "        return (self.empSalary+secondObject.empSalary)\n",
        "        \n",
        "if __name__ == '__main__':\n",
        "    objAlice = Employee('Alice','EMP001',10000)\n",
        "    print(objAlice)\n",
        "    print(repr(objAlice))    \n",
        "    \n",
        "    print('')\n",
        "    objBob = Employee('Bob', 'EMP002', 5000)\n",
        "    print(objBob)\n",
        "    print(repr(objBob))    \n",
        "    \n",
        "    print('\\nSum:',objAlice+objBob)"
      ],
      "execution_count": 10,
      "outputs": [
        {
          "output_type": "stream",
          "text": [
            "Employee(Alice,EMP001,10000)\n",
            "[EMP001] — Alice\n",
            "\n",
            "Employee(Bob,EMP002,5000)\n",
            "[EMP002] — Bob\n",
            "\n",
            "Sum: 15000\n"
          ],
          "name": "stdout"
        }
      ]
    },
    {
      "cell_type": "code",
      "metadata": {
        "colab": {
          "base_uri": "https://localhost:8080/"
        },
        "id": "Ua4N32Cytj77",
        "outputId": "4f5dff25-7b3e-486f-8f1a-6ef6e46b923e"
      },
      "source": [
        "import sys\n",
        "import time\n",
        "\n",
        "# Normal function\n",
        "def getList(limit):\n",
        "    listVal = []\n",
        "    for i in range(limit):\n",
        "        listVal.append(i)    \n",
        "    return listVal\n",
        "        \n",
        "# Generator function\n",
        "def genList(limit):\n",
        "    for i in range(limit):\n",
        "        yield i\n",
        "        \n",
        "if __name__ == '__main__':\n",
        "    numLimit = 10000000    \n",
        "    \n",
        "    print('\\nWithout Generators:')\n",
        "    startTime = time.time()\n",
        "    numList = getList(numLimit)\n",
        "    endTime = time.time()\n",
        "    print(' - Time:', endTime - startTime, 'seconds')\n",
        "    print(' - Size:', sys.getsizeof(numList))    \n",
        "    \n",
        "    print('\\nWith Generators:')\n",
        "    startTime = time.time()\n",
        "    numGenerator = genList(numLimit)\n",
        "    endTime = time.time()\n",
        "    print(' - Time:', endTime-startTime, 'seconds')\n",
        "    print(' - Size:', sys.getsizeof(numGenerator))"
      ],
      "execution_count": 16,
      "outputs": [
        {
          "output_type": "stream",
          "text": [
            "\n",
            "Without Generators:\n",
            " - Time: 1.1636836528778076 seconds\n",
            " - Size: 81528064\n",
            "\n",
            "With Generators:\n",
            " - Time: 2.86102294921875e-06 seconds\n",
            " - Size: 128\n"
          ],
          "name": "stdout"
        }
      ]
    },
    {
      "cell_type": "code",
      "metadata": {
        "colab": {
          "base_uri": "https://localhost:8080/"
        },
        "id": "qsVavKNyu7Dl",
        "outputId": "c910bcf2-5611-4998-d4f0-728f20c3075b"
      },
      "source": [
        "import time\n",
        "\n",
        "def timeIt(func):\n",
        "    def wrapper(*args, **kwargs):\n",
        "        startTime = time.time()\n",
        "        func(*args, **kwargs)\n",
        "        endTime = time.time()\n",
        "        print('Time:', endTime - startTime, 'seconds')    \n",
        "        \n",
        "    return wrapper\n",
        "    \n",
        "@timeIt\n",
        "def loadLargeFile(filename):\n",
        "    print('Loading file:',filename)\n",
        "    time.sleep(2)\n",
        "    \n",
        "@timeIt\n",
        "def makeAPICall():\n",
        "    print('Making an API call and waiting for the response…')\n",
        "    time.sleep(1.5)\n",
        "    \n",
        "@timeIt\n",
        "def generateSummaryReport():\n",
        "    print('Generating summary report…')\n",
        "    time.sleep(5)\n",
        "    \n",
        "if __name__ == '__main__':\n",
        "    loadLargeFile('abc.txt')\n",
        "    makeAPICall()\n",
        "    generateSummaryReport()"
      ],
      "execution_count": 19,
      "outputs": [
        {
          "output_type": "stream",
          "text": [
            "Loading file: abc.txt\n",
            "Time: 2.002821445465088 seconds\n",
            "Making an API call and waiting for the response…\n",
            "Time: 1.5016138553619385 seconds\n",
            "Generating summary report…\n",
            "Time: 5.00513482093811 seconds\n"
          ],
          "name": "stdout"
        }
      ]
    },
    {
      "cell_type": "code",
      "metadata": {
        "colab": {
          "base_uri": "https://localhost:8080/"
        },
        "id": "FqVJYxNduFyq",
        "outputId": "bc36c349-dbd8-4076-9e95-3836da023179"
      },
      "source": [
        "import time\n",
        "\n",
        "if __name__ == '__main__':\n",
        "    startTime = time.time()\n",
        "    loadLargeFile('abc.txt')\n",
        "    endTime = time.time()\n",
        "    print('Time:',endTime-startTime,'seconds')"
      ],
      "execution_count": 20,
      "outputs": [
        {
          "output_type": "stream",
          "text": [
            "Loading file: abc.txt\n",
            "Time: 2.003530740737915 seconds\n",
            "Time: 2.003854751586914 seconds\n"
          ],
          "name": "stdout"
        }
      ]
    }
  ]
}