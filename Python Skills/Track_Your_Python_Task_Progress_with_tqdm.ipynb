{
  "nbformat": 4,
  "nbformat_minor": 0,
  "metadata": {
    "colab": {
      "provenance": [],
      "authorship_tag": "ABX9TyPc6RI47O620lxed8B+NzeL"
    },
    "kernelspec": {
      "name": "python3",
      "display_name": "Python 3"
    },
    "language_info": {
      "name": "python"
    },
    "widgets": {
      "application/vnd.jupyter.widget-state+json": {
        "5425c76d8b454aa3bd516a2ecba1d796": {
          "model_module": "@jupyter-widgets/controls",
          "model_name": "HBoxModel",
          "model_module_version": "1.5.0",
          "state": {
            "_dom_classes": [],
            "_model_module": "@jupyter-widgets/controls",
            "_model_module_version": "1.5.0",
            "_model_name": "HBoxModel",
            "_view_count": null,
            "_view_module": "@jupyter-widgets/controls",
            "_view_module_version": "1.5.0",
            "_view_name": "HBoxView",
            "box_style": "",
            "children": [
              "IPY_MODEL_2424d160b86044eab796070b927f939d",
              "IPY_MODEL_3cf87f9783e447ccad3659745493b5b0",
              "IPY_MODEL_95c502510812460ab733470280735c56"
            ],
            "layout": "IPY_MODEL_0e94f9d6b4374791b0f563abb80ac4db"
          }
        },
        "2424d160b86044eab796070b927f939d": {
          "model_module": "@jupyter-widgets/controls",
          "model_name": "HTMLModel",
          "model_module_version": "1.5.0",
          "state": {
            "_dom_classes": [],
            "_model_module": "@jupyter-widgets/controls",
            "_model_module_version": "1.5.0",
            "_model_name": "HTMLModel",
            "_view_count": null,
            "_view_module": "@jupyter-widgets/controls",
            "_view_module_version": "1.5.0",
            "_view_name": "HTMLView",
            "description": "",
            "description_tooltip": null,
            "layout": "IPY_MODEL_b696bedfeb8e4c14b1b95e5a08cc4440",
            "placeholder": "​",
            "style": "IPY_MODEL_3ad840cf2ee14a9bbad8718791d2ab18",
            "value": "100%"
          }
        },
        "3cf87f9783e447ccad3659745493b5b0": {
          "model_module": "@jupyter-widgets/controls",
          "model_name": "FloatProgressModel",
          "model_module_version": "1.5.0",
          "state": {
            "_dom_classes": [],
            "_model_module": "@jupyter-widgets/controls",
            "_model_module_version": "1.5.0",
            "_model_name": "FloatProgressModel",
            "_view_count": null,
            "_view_module": "@jupyter-widgets/controls",
            "_view_module_version": "1.5.0",
            "_view_name": "ProgressView",
            "bar_style": "success",
            "description": "",
            "description_tooltip": null,
            "layout": "IPY_MODEL_3bbbf0dd72e04ce5af89d902fd6c3fab",
            "max": 100,
            "min": 0,
            "orientation": "horizontal",
            "style": "IPY_MODEL_78439fabbd81446dbf8f5b59ca489a67",
            "value": 100
          }
        },
        "95c502510812460ab733470280735c56": {
          "model_module": "@jupyter-widgets/controls",
          "model_name": "HTMLModel",
          "model_module_version": "1.5.0",
          "state": {
            "_dom_classes": [],
            "_model_module": "@jupyter-widgets/controls",
            "_model_module_version": "1.5.0",
            "_model_name": "HTMLModel",
            "_view_count": null,
            "_view_module": "@jupyter-widgets/controls",
            "_view_module_version": "1.5.0",
            "_view_name": "HTMLView",
            "description": "",
            "description_tooltip": null,
            "layout": "IPY_MODEL_ce282216b4c34400bba5b41d3891a961",
            "placeholder": "​",
            "style": "IPY_MODEL_7520549ac93445aab5df52bb70c9d4c1",
            "value": " 100/100 [00:10&lt;00:00,  9.88it/s]"
          }
        },
        "0e94f9d6b4374791b0f563abb80ac4db": {
          "model_module": "@jupyter-widgets/base",
          "model_name": "LayoutModel",
          "model_module_version": "1.2.0",
          "state": {
            "_model_module": "@jupyter-widgets/base",
            "_model_module_version": "1.2.0",
            "_model_name": "LayoutModel",
            "_view_count": null,
            "_view_module": "@jupyter-widgets/base",
            "_view_module_version": "1.2.0",
            "_view_name": "LayoutView",
            "align_content": null,
            "align_items": null,
            "align_self": null,
            "border": null,
            "bottom": null,
            "display": null,
            "flex": null,
            "flex_flow": null,
            "grid_area": null,
            "grid_auto_columns": null,
            "grid_auto_flow": null,
            "grid_auto_rows": null,
            "grid_column": null,
            "grid_gap": null,
            "grid_row": null,
            "grid_template_areas": null,
            "grid_template_columns": null,
            "grid_template_rows": null,
            "height": null,
            "justify_content": null,
            "justify_items": null,
            "left": null,
            "margin": null,
            "max_height": null,
            "max_width": null,
            "min_height": null,
            "min_width": null,
            "object_fit": null,
            "object_position": null,
            "order": null,
            "overflow": null,
            "overflow_x": null,
            "overflow_y": null,
            "padding": null,
            "right": null,
            "top": null,
            "visibility": null,
            "width": null
          }
        },
        "b696bedfeb8e4c14b1b95e5a08cc4440": {
          "model_module": "@jupyter-widgets/base",
          "model_name": "LayoutModel",
          "model_module_version": "1.2.0",
          "state": {
            "_model_module": "@jupyter-widgets/base",
            "_model_module_version": "1.2.0",
            "_model_name": "LayoutModel",
            "_view_count": null,
            "_view_module": "@jupyter-widgets/base",
            "_view_module_version": "1.2.0",
            "_view_name": "LayoutView",
            "align_content": null,
            "align_items": null,
            "align_self": null,
            "border": null,
            "bottom": null,
            "display": null,
            "flex": null,
            "flex_flow": null,
            "grid_area": null,
            "grid_auto_columns": null,
            "grid_auto_flow": null,
            "grid_auto_rows": null,
            "grid_column": null,
            "grid_gap": null,
            "grid_row": null,
            "grid_template_areas": null,
            "grid_template_columns": null,
            "grid_template_rows": null,
            "height": null,
            "justify_content": null,
            "justify_items": null,
            "left": null,
            "margin": null,
            "max_height": null,
            "max_width": null,
            "min_height": null,
            "min_width": null,
            "object_fit": null,
            "object_position": null,
            "order": null,
            "overflow": null,
            "overflow_x": null,
            "overflow_y": null,
            "padding": null,
            "right": null,
            "top": null,
            "visibility": null,
            "width": null
          }
        },
        "3ad840cf2ee14a9bbad8718791d2ab18": {
          "model_module": "@jupyter-widgets/controls",
          "model_name": "DescriptionStyleModel",
          "model_module_version": "1.5.0",
          "state": {
            "_model_module": "@jupyter-widgets/controls",
            "_model_module_version": "1.5.0",
            "_model_name": "DescriptionStyleModel",
            "_view_count": null,
            "_view_module": "@jupyter-widgets/base",
            "_view_module_version": "1.2.0",
            "_view_name": "StyleView",
            "description_width": ""
          }
        },
        "3bbbf0dd72e04ce5af89d902fd6c3fab": {
          "model_module": "@jupyter-widgets/base",
          "model_name": "LayoutModel",
          "model_module_version": "1.2.0",
          "state": {
            "_model_module": "@jupyter-widgets/base",
            "_model_module_version": "1.2.0",
            "_model_name": "LayoutModel",
            "_view_count": null,
            "_view_module": "@jupyter-widgets/base",
            "_view_module_version": "1.2.0",
            "_view_name": "LayoutView",
            "align_content": null,
            "align_items": null,
            "align_self": null,
            "border": null,
            "bottom": null,
            "display": null,
            "flex": null,
            "flex_flow": null,
            "grid_area": null,
            "grid_auto_columns": null,
            "grid_auto_flow": null,
            "grid_auto_rows": null,
            "grid_column": null,
            "grid_gap": null,
            "grid_row": null,
            "grid_template_areas": null,
            "grid_template_columns": null,
            "grid_template_rows": null,
            "height": null,
            "justify_content": null,
            "justify_items": null,
            "left": null,
            "margin": null,
            "max_height": null,
            "max_width": null,
            "min_height": null,
            "min_width": null,
            "object_fit": null,
            "object_position": null,
            "order": null,
            "overflow": null,
            "overflow_x": null,
            "overflow_y": null,
            "padding": null,
            "right": null,
            "top": null,
            "visibility": null,
            "width": null
          }
        },
        "78439fabbd81446dbf8f5b59ca489a67": {
          "model_module": "@jupyter-widgets/controls",
          "model_name": "ProgressStyleModel",
          "model_module_version": "1.5.0",
          "state": {
            "_model_module": "@jupyter-widgets/controls",
            "_model_module_version": "1.5.0",
            "_model_name": "ProgressStyleModel",
            "_view_count": null,
            "_view_module": "@jupyter-widgets/base",
            "_view_module_version": "1.2.0",
            "_view_name": "StyleView",
            "bar_color": null,
            "description_width": ""
          }
        },
        "ce282216b4c34400bba5b41d3891a961": {
          "model_module": "@jupyter-widgets/base",
          "model_name": "LayoutModel",
          "model_module_version": "1.2.0",
          "state": {
            "_model_module": "@jupyter-widgets/base",
            "_model_module_version": "1.2.0",
            "_model_name": "LayoutModel",
            "_view_count": null,
            "_view_module": "@jupyter-widgets/base",
            "_view_module_version": "1.2.0",
            "_view_name": "LayoutView",
            "align_content": null,
            "align_items": null,
            "align_self": null,
            "border": null,
            "bottom": null,
            "display": null,
            "flex": null,
            "flex_flow": null,
            "grid_area": null,
            "grid_auto_columns": null,
            "grid_auto_flow": null,
            "grid_auto_rows": null,
            "grid_column": null,
            "grid_gap": null,
            "grid_row": null,
            "grid_template_areas": null,
            "grid_template_columns": null,
            "grid_template_rows": null,
            "height": null,
            "justify_content": null,
            "justify_items": null,
            "left": null,
            "margin": null,
            "max_height": null,
            "max_width": null,
            "min_height": null,
            "min_width": null,
            "object_fit": null,
            "object_position": null,
            "order": null,
            "overflow": null,
            "overflow_x": null,
            "overflow_y": null,
            "padding": null,
            "right": null,
            "top": null,
            "visibility": null,
            "width": null
          }
        },
        "7520549ac93445aab5df52bb70c9d4c1": {
          "model_module": "@jupyter-widgets/controls",
          "model_name": "DescriptionStyleModel",
          "model_module_version": "1.5.0",
          "state": {
            "_model_module": "@jupyter-widgets/controls",
            "_model_module_version": "1.5.0",
            "_model_name": "DescriptionStyleModel",
            "_view_count": null,
            "_view_module": "@jupyter-widgets/base",
            "_view_module_version": "1.2.0",
            "_view_name": "StyleView",
            "description_width": ""
          }
        }
      }
    }
  },
  "cells": [
    {
      "cell_type": "markdown",
      "source": [
        "[Reference](https://medium.com/django-unleashed/track-your-python-task-progress-with-tqdm-a-step-by-step-tutorial-e7324aed7020)"
      ],
      "metadata": {
        "id": "JApHtntaGWru"
      }
    },
    {
      "cell_type": "markdown",
      "source": [
        "# 1. Installing tqdm"
      ],
      "metadata": {
        "id": "6Aj_kEvPGajb"
      }
    },
    {
      "cell_type": "code",
      "execution_count": 1,
      "metadata": {
        "colab": {
          "base_uri": "https://localhost:8080/"
        },
        "id": "ojhZTbTqGT_C",
        "outputId": "86144d96-208c-439c-bf60-f7f1a8100ce2"
      },
      "outputs": [
        {
          "output_type": "stream",
          "name": "stdout",
          "text": [
            "Requirement already satisfied: tqdm in /usr/local/lib/python3.11/dist-packages (4.67.1)\n"
          ]
        }
      ],
      "source": [
        "pip install tqdm"
      ]
    },
    {
      "cell_type": "markdown",
      "source": [
        "# 2. Basic Usage"
      ],
      "metadata": {
        "id": "dQwf2srpGehP"
      }
    },
    {
      "cell_type": "code",
      "source": [
        "from tqdm import tqdm\n",
        "import time\n",
        "\n",
        "\n",
        "for i in tqdm(range(100)):\n",
        "    time.sleep(0.1)  # Simulating a task that takes fewpy time"
      ],
      "metadata": {
        "colab": {
          "base_uri": "https://localhost:8080/"
        },
        "id": "AzjmiZdhGdjk",
        "outputId": "d12ffd3f-aea5-4a25-b442-e5c44996f724"
      },
      "execution_count": 2,
      "outputs": [
        {
          "output_type": "stream",
          "name": "stderr",
          "text": [
            "100%|██████████| 100/100 [00:10<00:00,  9.66it/s]\n"
          ]
        }
      ]
    },
    {
      "cell_type": "markdown",
      "source": [
        "# 3. Customizing the Progress Bar"
      ],
      "metadata": {
        "id": "9ofSuF-XGiP0"
      }
    },
    {
      "cell_type": "code",
      "source": [
        "from tqdm import tqdm\n",
        "import time\n",
        "\n",
        "\n",
        "for i in tqdm(range(100), desc=\"Processing\"):\n",
        "    time.sleep(0.1)"
      ],
      "metadata": {
        "colab": {
          "base_uri": "https://localhost:8080/"
        },
        "id": "TDpG_hVfGgKN",
        "outputId": "4ee67a77-238c-4068-e394-fce6af76fe74"
      },
      "execution_count": 3,
      "outputs": [
        {
          "output_type": "stream",
          "name": "stderr",
          "text": [
            "Processing: 100%|██████████| 100/100 [00:10<00:00,  9.71it/s]\n"
          ]
        }
      ]
    },
    {
      "cell_type": "code",
      "source": [
        "from tqdm import tqdm\n",
        "import time\n",
        "\n",
        "for i in tqdm(range(100), desc=\"Processing\", ncols=75):\n",
        "    time.sleep(0.1)"
      ],
      "metadata": {
        "colab": {
          "base_uri": "https://localhost:8080/"
        },
        "id": "vGbB9__3Gj43",
        "outputId": "99d3e3c3-27ac-455c-a659-a29782dd2e66"
      },
      "execution_count": 4,
      "outputs": [
        {
          "output_type": "stream",
          "name": "stderr",
          "text": [
            "Processing: 100%|████████████████████████| 100/100 [00:10<00:00,  9.82it/s]\n"
          ]
        }
      ]
    },
    {
      "cell_type": "code",
      "source": [
        "from tqdm import tqdm\n",
        "import time\n",
        "\n",
        "for i in tqdm(range(100), desc=\"Processing\", mininterval=0.5):\n",
        "    time.sleep(0.1)"
      ],
      "metadata": {
        "colab": {
          "base_uri": "https://localhost:8080/"
        },
        "id": "TMp02SEJGllA",
        "outputId": "f14ee3ea-3575-48a6-dd48-1645ad248f15"
      },
      "execution_count": 5,
      "outputs": [
        {
          "output_type": "stream",
          "name": "stderr",
          "text": [
            "Processing: 100%|██████████| 100/100 [00:10<00:00,  9.95it/s]\n"
          ]
        }
      ]
    },
    {
      "cell_type": "markdown",
      "source": [
        "# 4. Using tqdm with Functions\n"
      ],
      "metadata": {
        "id": "F9bNCXkDHJ4v"
      }
    },
    {
      "cell_type": "code",
      "source": [
        "from tqdm import tqdm\n",
        "import time\n",
        "\n",
        "\n",
        "def process_item(item):\n",
        "    time.sleep(0.1)\n",
        "\n",
        "items = range(100)\n",
        "for item in tqdm(items, desc=\"Processing Items\"):\n",
        "    process_item(item)"
      ],
      "metadata": {
        "colab": {
          "base_uri": "https://localhost:8080/"
        },
        "id": "3ldYybJVGpId",
        "outputId": "1e59452e-010f-4618-ce3b-fdbdec4bba84"
      },
      "execution_count": 6,
      "outputs": [
        {
          "output_type": "stream",
          "name": "stderr",
          "text": [
            "Processing Items: 100%|██████████| 100/100 [00:10<00:00,  9.83it/s]\n"
          ]
        }
      ]
    },
    {
      "cell_type": "markdown",
      "source": [
        "# 5. Using tqdm with Pandas"
      ],
      "metadata": {
        "id": "0aXgi4AoGwuZ"
      }
    },
    {
      "cell_type": "code",
      "source": [
        "import pandas as pd\n",
        "from tqdm import tqdm\n",
        "\n",
        "\n",
        "tqdm.pandas()\n",
        "\n",
        "df = pd.DataFrame({\"A\": range(100)})\n",
        "df['B'] = df['A'].progress_apply(lambda x: x**2)"
      ],
      "metadata": {
        "colab": {
          "base_uri": "https://localhost:8080/"
        },
        "id": "iVGC-aqdGrSC",
        "outputId": "0c663049-6989-4b54-80aa-e839d329f4c0"
      },
      "execution_count": 7,
      "outputs": [
        {
          "output_type": "stream",
          "name": "stderr",
          "text": [
            "100%|██████████| 100/100 [00:00<00:00, 137925.16it/s]\n"
          ]
        }
      ]
    },
    {
      "cell_type": "markdown",
      "source": [
        "# 6. Nested Progress Bars"
      ],
      "metadata": {
        "id": "zQ5vqQZ-HQIZ"
      }
    },
    {
      "cell_type": "code",
      "source": [
        "from tqdm import tqdm\n",
        "import time\n",
        "\n",
        "\n",
        "for i in tqdm(range(10), desc=\"Outer Loop\"):\n",
        "    for j in tqdm(range(100), desc=\"Inner For Loop\", leave=False):\n",
        "        time.sleep(0.01)"
      ],
      "metadata": {
        "colab": {
          "base_uri": "https://localhost:8080/"
        },
        "id": "pozMCMMNGzyM",
        "outputId": "ef16afe7-6de0-4d64-f0f9-c56a049cc83f"
      },
      "execution_count": 8,
      "outputs": [
        {
          "output_type": "stream",
          "name": "stderr",
          "text": [
            "Outer Loop:   0%|          | 0/10 [00:00<?, ?it/s]\n",
            "Inner For Loop:   0%|          | 0/100 [00:00<?, ?it/s]\u001b[A\n",
            "Inner For Loop:  10%|█         | 10/100 [00:00<00:00, 98.53it/s]\u001b[A\n",
            "Inner For Loop:  20%|██        | 20/100 [00:00<00:00, 95.36it/s]\u001b[A\n",
            "Inner For Loop:  30%|███       | 30/100 [00:00<00:00, 93.60it/s]\u001b[A\n",
            "Inner For Loop:  40%|████      | 40/100 [00:00<00:00, 91.56it/s]\u001b[A\n",
            "Inner For Loop:  50%|█████     | 50/100 [00:00<00:00, 92.14it/s]\u001b[A\n",
            "Inner For Loop:  60%|██████    | 60/100 [00:00<00:00, 92.96it/s]\u001b[A\n",
            "Inner For Loop:  70%|███████   | 70/100 [00:00<00:00, 93.28it/s]\u001b[A\n",
            "Inner For Loop:  80%|████████  | 80/100 [00:00<00:00, 93.90it/s]\u001b[A\n",
            "Inner For Loop:  90%|█████████ | 90/100 [00:00<00:00, 93.63it/s]\u001b[A\n",
            "Inner For Loop: 100%|██████████| 100/100 [00:01<00:00, 93.95it/s]\u001b[A\n",
            "Outer Loop:  10%|█         | 1/10 [00:01<00:09,  1.09s/it]\n",
            "Inner For Loop:   0%|          | 0/100 [00:00<?, ?it/s]\u001b[A\n",
            "Inner For Loop:  10%|█         | 10/100 [00:00<00:00, 98.49it/s]\u001b[A\n",
            "Inner For Loop:  20%|██        | 20/100 [00:00<00:00, 96.48it/s]\u001b[A\n",
            "Inner For Loop:  30%|███       | 30/100 [00:00<00:00, 95.38it/s]\u001b[A\n",
            "Inner For Loop:  40%|████      | 40/100 [00:00<00:00, 94.51it/s]\u001b[A\n",
            "Inner For Loop:  50%|█████     | 50/100 [00:00<00:00, 94.79it/s]\u001b[A\n",
            "Inner For Loop:  60%|██████    | 60/100 [00:00<00:00, 94.58it/s]\u001b[A\n",
            "Inner For Loop:  70%|███████   | 70/100 [00:00<00:00, 94.50it/s]\u001b[A\n",
            "Inner For Loop:  80%|████████  | 80/100 [00:00<00:00, 94.82it/s]\u001b[A\n",
            "Inner For Loop:  90%|█████████ | 90/100 [00:00<00:00, 94.50it/s]\u001b[A\n",
            "Inner For Loop: 100%|██████████| 100/100 [00:01<00:00, 94.76it/s]\u001b[A\n",
            "Outer Loop:  20%|██        | 2/10 [00:02<00:08,  1.08s/it]\n",
            "Inner For Loop:   0%|          | 0/100 [00:00<?, ?it/s]\u001b[A\n",
            "Inner For Loop:  10%|█         | 10/100 [00:00<00:00, 98.32it/s]\u001b[A\n",
            "Inner For Loop:  20%|██        | 20/100 [00:00<00:00, 94.20it/s]\u001b[A\n",
            "Inner For Loop:  30%|███       | 30/100 [00:00<00:00, 94.66it/s]\u001b[A\n",
            "Inner For Loop:  40%|████      | 40/100 [00:00<00:00, 94.82it/s]\u001b[A\n",
            "Inner For Loop:  50%|█████     | 50/100 [00:00<00:00, 94.94it/s]\u001b[A\n",
            "Inner For Loop:  60%|██████    | 60/100 [00:00<00:00, 94.06it/s]\u001b[A\n",
            "Inner For Loop:  70%|███████   | 70/100 [00:00<00:00, 94.45it/s]\u001b[A\n",
            "Inner For Loop:  80%|████████  | 80/100 [00:00<00:00, 94.82it/s]\u001b[A\n",
            "Inner For Loop:  90%|█████████ | 90/100 [00:00<00:00, 95.07it/s]\u001b[A\n",
            "Inner For Loop: 100%|██████████| 100/100 [00:01<00:00, 95.17it/s]\u001b[A\n",
            "Outer Loop:  30%|███       | 3/10 [00:03<00:07,  1.07s/it]\n",
            "Inner For Loop:   0%|          | 0/100 [00:00<?, ?it/s]\u001b[A\n",
            "Inner For Loop:  10%|█         | 10/100 [00:00<00:00, 98.64it/s]\u001b[A\n",
            "Inner For Loop:  20%|██        | 20/100 [00:00<00:00, 96.94it/s]\u001b[A\n",
            "Inner For Loop:  30%|███       | 30/100 [00:00<00:00, 95.60it/s]\u001b[A\n",
            "Inner For Loop:  40%|████      | 40/100 [00:00<00:00, 95.55it/s]\u001b[A\n",
            "Inner For Loop:  50%|█████     | 50/100 [00:00<00:00, 95.65it/s]\u001b[A\n",
            "Inner For Loop:  60%|██████    | 60/100 [00:00<00:00, 95.68it/s]\u001b[A\n",
            "Inner For Loop:  70%|███████   | 70/100 [00:00<00:00, 95.50it/s]\u001b[A\n",
            "Inner For Loop:  80%|████████  | 80/100 [00:00<00:00, 95.39it/s]\u001b[A\n",
            "Inner For Loop:  90%|█████████ | 90/100 [00:00<00:00, 95.15it/s]\u001b[A\n",
            "Inner For Loop: 100%|██████████| 100/100 [00:01<00:00, 95.12it/s]\u001b[A\n",
            "Outer Loop:  40%|████      | 4/10 [00:04<00:06,  1.07s/it]\n",
            "Inner For Loop:   0%|          | 0/100 [00:00<?, ?it/s]\u001b[A\n",
            "Inner For Loop:  10%|█         | 10/100 [00:00<00:00, 98.88it/s]\u001b[A\n",
            "Inner For Loop:  20%|██        | 20/100 [00:00<00:00, 96.50it/s]\u001b[A\n",
            "Inner For Loop:  30%|███       | 30/100 [00:00<00:00, 95.59it/s]\u001b[A\n",
            "Inner For Loop:  40%|████      | 40/100 [00:00<00:00, 95.47it/s]\u001b[A\n",
            "Inner For Loop:  50%|█████     | 50/100 [00:00<00:00, 95.22it/s]\u001b[A\n",
            "Inner For Loop:  60%|██████    | 60/100 [00:00<00:00, 94.84it/s]\u001b[A\n",
            "Inner For Loop:  70%|███████   | 70/100 [00:00<00:00, 94.42it/s]\u001b[A\n",
            "Inner For Loop:  80%|████████  | 80/100 [00:00<00:00, 94.65it/s]\u001b[A\n",
            "Inner For Loop:  90%|█████████ | 90/100 [00:00<00:00, 94.03it/s]\u001b[A\n",
            "Inner For Loop: 100%|██████████| 100/100 [00:01<00:00, 94.36it/s]\u001b[A\n",
            "Outer Loop:  50%|█████     | 5/10 [00:05<00:05,  1.07s/it]\n",
            "Inner For Loop:   0%|          | 0/100 [00:00<?, ?it/s]\u001b[A\n",
            "Inner For Loop:  10%|█         | 10/100 [00:00<00:00, 98.50it/s]\u001b[A\n",
            "Inner For Loop:  20%|██        | 20/100 [00:00<00:00, 96.52it/s]\u001b[A\n",
            "Inner For Loop:  30%|███       | 30/100 [00:00<00:00, 95.99it/s]\u001b[A\n",
            "Inner For Loop:  40%|████      | 40/100 [00:00<00:00, 93.91it/s]\u001b[A\n",
            "Inner For Loop:  50%|█████     | 50/100 [00:00<00:00, 93.91it/s]\u001b[A\n",
            "Inner For Loop:  60%|██████    | 60/100 [00:00<00:00, 93.49it/s]\u001b[A\n",
            "Inner For Loop:  70%|███████   | 70/100 [00:00<00:00, 94.12it/s]\u001b[A\n",
            "Inner For Loop:  80%|████████  | 80/100 [00:00<00:00, 94.27it/s]\u001b[A\n",
            "Inner For Loop:  90%|█████████ | 90/100 [00:00<00:00, 93.97it/s]\u001b[A\n",
            "Inner For Loop: 100%|██████████| 100/100 [00:01<00:00, 93.74it/s]\u001b[A\n",
            "Outer Loop:  60%|██████    | 6/10 [00:06<00:04,  1.07s/it]\n",
            "Inner For Loop:   0%|          | 0/100 [00:00<?, ?it/s]\u001b[A\n",
            "Inner For Loop:  10%|█         | 10/100 [00:00<00:00, 98.24it/s]\u001b[A\n",
            "Inner For Loop:  20%|██        | 20/100 [00:00<00:00, 94.71it/s]\u001b[A\n",
            "Inner For Loop:  30%|███       | 30/100 [00:00<00:00, 94.96it/s]\u001b[A\n",
            "Inner For Loop:  40%|████      | 40/100 [00:00<00:00, 94.56it/s]\u001b[A\n",
            "Inner For Loop:  50%|█████     | 50/100 [00:00<00:00, 94.50it/s]\u001b[A\n",
            "Inner For Loop:  60%|██████    | 60/100 [00:00<00:00, 94.59it/s]\u001b[A\n",
            "Inner For Loop:  70%|███████   | 70/100 [00:00<00:00, 94.72it/s]\u001b[A\n",
            "Inner For Loop:  80%|████████  | 80/100 [00:00<00:00, 94.63it/s]\u001b[A\n",
            "Inner For Loop:  90%|█████████ | 90/100 [00:00<00:00, 94.79it/s]\u001b[A\n",
            "Inner For Loop: 100%|██████████| 100/100 [00:01<00:00, 94.72it/s]\u001b[A\n",
            "Outer Loop:  70%|███████   | 7/10 [00:07<00:03,  1.07s/it]\n",
            "Inner For Loop:   0%|          | 0/100 [00:00<?, ?it/s]\u001b[A\n",
            "Inner For Loop:  10%|█         | 10/100 [00:00<00:00, 98.02it/s]\u001b[A\n",
            "Inner For Loop:  20%|██        | 20/100 [00:00<00:00, 96.30it/s]\u001b[A\n",
            "Inner For Loop:  30%|███       | 30/100 [00:00<00:00, 95.75it/s]\u001b[A\n",
            "Inner For Loop:  40%|████      | 40/100 [00:00<00:00, 94.77it/s]\u001b[A\n",
            "Inner For Loop:  50%|█████     | 50/100 [00:00<00:00, 93.96it/s]\u001b[A\n",
            "Inner For Loop:  60%|██████    | 60/100 [00:00<00:00, 94.03it/s]\u001b[A\n",
            "Inner For Loop:  70%|███████   | 70/100 [00:00<00:00, 94.32it/s]\u001b[A\n",
            "Inner For Loop:  80%|████████  | 80/100 [00:00<00:00, 94.06it/s]\u001b[A\n",
            "Inner For Loop:  90%|█████████ | 90/100 [00:00<00:00, 93.85it/s]\u001b[A\n",
            "Inner For Loop: 100%|██████████| 100/100 [00:01<00:00, 94.16it/s]\u001b[A\n",
            "Outer Loop:  80%|████████  | 8/10 [00:08<00:02,  1.07s/it]\n",
            "Inner For Loop:   0%|          | 0/100 [00:00<?, ?it/s]\u001b[A\n",
            "Inner For Loop:  10%|█         | 10/100 [00:00<00:00, 98.40it/s]\u001b[A\n",
            "Inner For Loop:  20%|██        | 20/100 [00:00<00:00, 90.72it/s]\u001b[A\n",
            "Inner For Loop:  30%|███       | 30/100 [00:00<00:00, 92.00it/s]\u001b[A\n",
            "Inner For Loop:  40%|████      | 40/100 [00:00<00:00, 92.62it/s]\u001b[A\n",
            "Inner For Loop:  50%|█████     | 50/100 [00:00<00:00, 93.31it/s]\u001b[A\n",
            "Inner For Loop:  60%|██████    | 60/100 [00:00<00:00, 93.47it/s]\u001b[A\n",
            "Inner For Loop:  70%|███████   | 70/100 [00:00<00:00, 93.96it/s]\u001b[A\n",
            "Inner For Loop:  80%|████████  | 80/100 [00:00<00:00, 93.86it/s]\u001b[A\n",
            "Inner For Loop:  90%|█████████ | 90/100 [00:00<00:00, 93.88it/s]\u001b[A\n",
            "Inner For Loop: 100%|██████████| 100/100 [00:01<00:00, 94.27it/s]\u001b[A\n",
            "Outer Loop:  90%|█████████ | 9/10 [00:09<00:01,  1.07s/it]\n",
            "Inner For Loop:   0%|          | 0/100 [00:00<?, ?it/s]\u001b[A\n",
            "Inner For Loop:  10%|█         | 10/100 [00:00<00:00, 98.63it/s]\u001b[A\n",
            "Inner For Loop:  20%|██        | 20/100 [00:00<00:00, 94.81it/s]\u001b[A\n",
            "Inner For Loop:  30%|███       | 30/100 [00:00<00:00, 94.68it/s]\u001b[A\n",
            "Inner For Loop:  40%|████      | 40/100 [00:00<00:00, 94.40it/s]\u001b[A\n",
            "Inner For Loop:  50%|█████     | 50/100 [00:00<00:00, 94.29it/s]\u001b[A\n",
            "Inner For Loop:  60%|██████    | 60/100 [00:00<00:00, 94.07it/s]\u001b[A\n",
            "Inner For Loop:  70%|███████   | 70/100 [00:00<00:00, 94.48it/s]\u001b[A\n",
            "Inner For Loop:  80%|████████  | 80/100 [00:00<00:00, 94.22it/s]\u001b[A\n",
            "Inner For Loop:  90%|█████████ | 90/100 [00:00<00:00, 93.82it/s]\u001b[A\n",
            "Inner For Loop: 100%|██████████| 100/100 [00:01<00:00, 93.77it/s]\u001b[A\n",
            "Outer Loop: 100%|██████████| 10/10 [00:10<00:00,  1.07s/it]\n"
          ]
        }
      ]
    },
    {
      "cell_type": "markdown",
      "source": [
        "# 7. Using tqdm in Jupyter Notebooks"
      ],
      "metadata": {
        "id": "9GBkIjXqHTUH"
      }
    },
    {
      "cell_type": "code",
      "source": [
        "from tqdm.notebook import tqdm\n",
        "import time\n",
        "\n",
        "\n",
        "for i in tqdm(range(100)):\n",
        "    time.sleep(0.1)"
      ],
      "metadata": {
        "colab": {
          "base_uri": "https://localhost:8080/",
          "height": 49,
          "referenced_widgets": [
            "5425c76d8b454aa3bd516a2ecba1d796",
            "2424d160b86044eab796070b927f939d",
            "3cf87f9783e447ccad3659745493b5b0",
            "95c502510812460ab733470280735c56",
            "0e94f9d6b4374791b0f563abb80ac4db",
            "b696bedfeb8e4c14b1b95e5a08cc4440",
            "3ad840cf2ee14a9bbad8718791d2ab18",
            "3bbbf0dd72e04ce5af89d902fd6c3fab",
            "78439fabbd81446dbf8f5b59ca489a67",
            "ce282216b4c34400bba5b41d3891a961",
            "7520549ac93445aab5df52bb70c9d4c1"
          ]
        },
        "id": "3ZUVWCVrHC9C",
        "outputId": "d6d43589-4b85-490f-b9b2-5cd197ad2dbf"
      },
      "execution_count": 9,
      "outputs": [
        {
          "output_type": "display_data",
          "data": {
            "text/plain": [
              "  0%|          | 0/100 [00:00<?, ?it/s]"
            ],
            "application/vnd.jupyter.widget-view+json": {
              "version_major": 2,
              "version_minor": 0,
              "model_id": "5425c76d8b454aa3bd516a2ecba1d796"
            }
          },
          "metadata": {}
        }
      ]
    },
    {
      "cell_type": "markdown",
      "source": [
        "# 8. Tracking File Downloads"
      ],
      "metadata": {
        "id": "RlTBkec8HXva"
      }
    },
    {
      "cell_type": "code",
      "source": [
        "import requests\n",
        "from tqdm import tqdm\n",
        "\n",
        "url = \"https://example.com/largefile.zip\"\n",
        "response = requests.get(url, stream=True)\n",
        "\n",
        "total_size = int(response.headers.get('content-length', 0))\n",
        "block_size = 1024  # 1 Kibibyte\n",
        "\n",
        "with open(\"largefile.zip\", \"wb\") as file, tqdm(\n",
        "    desc=\"Downloading\",\n",
        "    total=total_size,\n",
        "    unit='iB',\n",
        "    unit_scale=True,\n",
        "    unit_divisor=1024,\n",
        ") as bar:\n",
        "    for data in response.iter_content(block_size):\n",
        "        bar.update(len(data))\n",
        "        file.write(data)"
      ],
      "metadata": {
        "colab": {
          "base_uri": "https://localhost:8080/"
        },
        "id": "G0nLsRQrHUbT",
        "outputId": "026f1232-4121-4eec-b22b-e764ad0a39ae"
      },
      "execution_count": 10,
      "outputs": [
        {
          "output_type": "stream",
          "name": "stderr",
          "text": [
            "Downloading: 100%|██████████| 1.23k/1.23k [00:00<00:00, 3.93MiB/s]\n"
          ]
        }
      ]
    }
  ]
}
