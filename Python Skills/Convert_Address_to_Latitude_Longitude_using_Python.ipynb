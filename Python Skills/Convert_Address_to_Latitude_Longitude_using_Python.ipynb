{
  "nbformat": 4,
  "nbformat_minor": 0,
  "metadata": {
    "colab": {
      "provenance": [],
      "authorship_tag": "ABX9TyPcieI2TXkbMt7P6BJ74fE4"
    },
    "kernelspec": {
      "name": "python3",
      "display_name": "Python 3"
    },
    "language_info": {
      "name": "python"
    }
  },
  "cells": [
    {
      "cell_type": "markdown",
      "source": [
        "[Reference](https://medium.com/@hazallgultekin/convert-address-to-latitude-longitude-using-python-21844da3d032)"
      ],
      "metadata": {
        "id": "9mcZIdIRRwFX"
      }
    },
    {
      "cell_type": "code",
      "execution_count": 1,
      "metadata": {
        "colab": {
          "base_uri": "https://localhost:8080/"
        },
        "id": "mK_CcCvHQ9CK",
        "outputId": "93a4f18c-6388-4f8d-9bb4-ef90f6d2ee48"
      },
      "outputs": [
        {
          "output_type": "stream",
          "name": "stdout",
          "text": [
            "Requirement already satisfied: geopy in /usr/local/lib/python3.10/dist-packages (2.3.0)\n",
            "Requirement already satisfied: geographiclib<3,>=1.52 in /usr/local/lib/python3.10/dist-packages (from geopy) (2.0)\n"
          ]
        }
      ],
      "source": [
        "pip install geopy"
      ]
    },
    {
      "cell_type": "code",
      "source": [
        "# importing geopy library and Nominatim class\n",
        "from geopy.geocoders import Nominatim\n",
        "\n",
        "# calling the Nominatim tool and create Nominatim class\n",
        "loc = Nominatim(user_agent=\"Geopy Library\")\n",
        "\n",
        "# entering the location name\n",
        "getLoc = loc.geocode(\"İzmir\")\n",
        "\n",
        "# printing address\n",
        "print(getLoc.address)\n",
        "\n",
        "# printing latitude and longitude\n",
        "print(\"Latitude = \", getLoc.latitude, \"\\n\")\n",
        "print(\"Longitude = \", getLoc.longitude)"
      ],
      "metadata": {
        "colab": {
          "base_uri": "https://localhost:8080/"
        },
        "id": "8aIuKH5RRy8z",
        "outputId": "9a0b7232-80b6-4188-d663-27c350fc90e1"
      },
      "execution_count": 2,
      "outputs": [
        {
          "output_type": "stream",
          "name": "stderr",
          "text": [
            "WARNING:urllib3.connectionpool:Retrying (Retry(total=1, connect=None, read=None, redirect=None, status=None)) after connection broken by 'ReadTimeoutError(\"HTTPSConnectionPool(host='nominatim.openstreetmap.org', port=443): Read timed out. (read timeout=1)\")': /search?q=%C4%B0zmir&format=json&limit=1\n"
          ]
        },
        {
          "output_type": "stream",
          "name": "stdout",
          "text": [
            "İzmir, Ege Bölgesi, Türkiye\n",
            "Latitude =  38.23166 \n",
            "\n",
            "Longitude =  27.02997\n"
          ]
        }
      ]
    }
  ]
}
