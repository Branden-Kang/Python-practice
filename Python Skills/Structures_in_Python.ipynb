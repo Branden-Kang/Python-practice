{
  "nbformat": 4,
  "nbformat_minor": 0,
  "metadata": {
    "colab": {
      "name": "Structures in Python.ipynb",
      "provenance": [],
      "authorship_tag": "ABX9TyOHhexTlkudyq/ctR6tHXIw"
    },
    "kernelspec": {
      "name": "python3",
      "display_name": "Python 3"
    }
  },
  "cells": [
    {
      "cell_type": "markdown",
      "metadata": {
        "id": "AY-SiViB9CKc"
      },
      "source": [
        "[Reference](https://medium.com/swlh/structures-in-python-ed199411b3e1)"
      ]
    },
    {
      "cell_type": "code",
      "metadata": {
        "id": "SYOEz6eY8-fT"
      },
      "source": [
        "from collections import namedtuple \n",
        "\n",
        "Point = namedtuple('Point', ['x', 'y'])"
      ],
      "execution_count": 1,
      "outputs": []
    },
    {
      "cell_type": "code",
      "metadata": {
        "id": "Eggv2y1D9SMr"
      },
      "source": [
        "Point = namedtuple('Point', ['x', 'y'])"
      ],
      "execution_count": 4,
      "outputs": []
    },
    {
      "cell_type": "code",
      "metadata": {
        "id": "cgX383nq9TqB"
      },
      "source": [
        "ntpt = Point(3, y=6)"
      ],
      "execution_count": 5,
      "outputs": []
    },
    {
      "cell_type": "code",
      "metadata": {
        "colab": {
          "base_uri": "https://localhost:8080/"
        },
        "id": "KsdRX_xy-Orq",
        "outputId": "50725c6b-88e3-4333-89ee-3fb7f38f91f7"
      },
      "source": [
        "ntpt.x + ntpt.y"
      ],
      "execution_count": 6,
      "outputs": [
        {
          "output_type": "execute_result",
          "data": {
            "text/plain": [
              "9"
            ]
          },
          "metadata": {
            "tags": []
          },
          "execution_count": 6
        }
      ]
    },
    {
      "cell_type": "code",
      "metadata": {
        "colab": {
          "base_uri": "https://localhost:8080/"
        },
        "id": "H4CPsO7C-ROf",
        "outputId": "fd874182-8a7b-4f45-ad82-0cb41d2022bf"
      },
      "source": [
        "ntpt[0] + ntpt[1]"
      ],
      "execution_count": 7,
      "outputs": [
        {
          "output_type": "execute_result",
          "data": {
            "text/plain": [
              "9"
            ]
          },
          "metadata": {
            "tags": []
          },
          "execution_count": 7
        }
      ]
    },
    {
      "cell_type": "code",
      "metadata": {
        "colab": {
          "base_uri": "https://localhost:8080/"
        },
        "id": "Q_eOb2Rw-R6i",
        "outputId": "ef99ab71-c351-4c85-dd47-1238c50f67fc"
      },
      "source": [
        "ntpt._replace(x=5)"
      ],
      "execution_count": 8,
      "outputs": [
        {
          "output_type": "execute_result",
          "data": {
            "text/plain": [
              "Point(x=5, y=6)"
            ]
          },
          "metadata": {
            "tags": []
          },
          "execution_count": 8
        }
      ]
    }
  ]
}