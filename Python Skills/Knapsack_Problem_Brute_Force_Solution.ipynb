{
  "nbformat": 4,
  "nbformat_minor": 0,
  "metadata": {
    "colab": {
      "provenance": [],
      "authorship_tag": "ABX9TyPF5lDQH+8CyxDpRVvBrin3"
    },
    "kernelspec": {
      "name": "python3",
      "display_name": "Python 3"
    },
    "language_info": {
      "name": "python"
    }
  },
  "cells": [
    {
      "cell_type": "markdown",
      "source": [
        "[Reference](https://towardsdev.com/knapsack-problem-brute-force-solution-40d2e2deaacd)"
      ],
      "metadata": {
        "id": "z4DmamCR13oh"
      }
    },
    {
      "cell_type": "code",
      "execution_count": 1,
      "metadata": {
        "id": "lb8Zp1NM1XiP"
      },
      "outputs": [],
      "source": [
        "weights = [2, 3, 4, 5]\n",
        "values = [3, 4, 5, 6]\n",
        "capacity = 7\n",
        "items = ['item1', 'item2', 'item3', 'item4']"
      ]
    },
    {
      "cell_type": "code",
      "source": [
        "from itertools import combinations\n",
        "\n",
        "def knapsack_bruteforce(weights, values, capacity):\n",
        "    n = len(weights)\n",
        "    max_value = 0\n",
        "    best_combination = []\n",
        "\n",
        "    # Generate all possible combinations of items\n",
        "    for r in range(1, n + 1):\n",
        "        for combination in combinations(range(n), r):\n",
        "            total_weight = sum(weights[i] for i in combination)\n",
        "            total_value = sum(values[i] for i in combination)\n",
        "\n",
        "            # Check if the total weight is within capacity and the value is greater than the current max value\n",
        "            if total_weight <= capacity and total_value > max_value:\n",
        "                max_value = total_value\n",
        "                best_combination = combination\n",
        "\n",
        "    # Return the items in the best combination and the max value\n",
        "    return [items[i] for i in best_combination], max_value\n",
        "\n",
        "best_items, max_val = knapsack_bruteforce(weights, values, capacity)\n",
        "print(best_items, max_val)"
      ],
      "metadata": {
        "colab": {
          "base_uri": "https://localhost:8080/"
        },
        "id": "J_08XGXL18WB",
        "outputId": "d5147e7e-d36e-407f-b590-ff85294f7fb1"
      },
      "execution_count": 2,
      "outputs": [
        {
          "output_type": "stream",
          "name": "stdout",
          "text": [
            "['item1', 'item4'] 9\n"
          ]
        }
      ]
    }
  ]
}
