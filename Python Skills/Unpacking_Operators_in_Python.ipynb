{
  "nbformat": 4,
  "nbformat_minor": 0,
  "metadata": {
    "colab": {
      "name": "Unpacking Operators in Python.ipynb",
      "provenance": [],
      "authorship_tag": "ABX9TyMYILAJNtTR4uTEuBGZmDPi"
    },
    "kernelspec": {
      "name": "python3",
      "display_name": "Python 3"
    }
  },
  "cells": [
    {
      "cell_type": "markdown",
      "metadata": {
        "id": "_lI2hNbUKhqv",
        "colab_type": "text"
      },
      "source": [
        "[Reference](https://towardsdatascience.com/unpacking-operators-in-python-306ae44cd480)"
      ]
    },
    {
      "cell_type": "markdown",
      "metadata": {
        "id": "HGYLx4GJKkZf",
        "colab_type": "text"
      },
      "source": [
        "# * Operator"
      ]
    },
    {
      "cell_type": "code",
      "metadata": {
        "id": "ysqSz4PMKlkm",
        "colab_type": "code",
        "colab": {}
      },
      "source": [
        "num_list = [1,2,3,4,5]"
      ],
      "execution_count": 3,
      "outputs": []
    },
    {
      "cell_type": "code",
      "metadata": {
        "id": "nWhqleD3KgPh",
        "colab_type": "code",
        "colab": {}
      },
      "source": [
        "def num_sum(num1,num2,num3,num4,num5):\n",
        "    return num1 + num2 + num3 + num4 + num5"
      ],
      "execution_count": 4,
      "outputs": []
    },
    {
      "cell_type": "code",
      "metadata": {
        "id": "5mTDXwx1KnSF",
        "colab_type": "code",
        "colab": {
          "base_uri": "https://localhost:8080/",
          "height": 34
        },
        "outputId": "aa4e9fcb-96ff-46db-c5db-c61da5444307"
      },
      "source": [
        "num_sum(num_list[0], num_list[1], num_list[2], num_list[3], num_list[4])"
      ],
      "execution_count": 5,
      "outputs": [
        {
          "output_type": "execute_result",
          "data": {
            "text/plain": [
              "15"
            ]
          },
          "metadata": {
            "tags": []
          },
          "execution_count": 5
        }
      ]
    },
    {
      "cell_type": "code",
      "metadata": {
        "id": "JNuQ4Z9iKosa",
        "colab_type": "code",
        "colab": {
          "base_uri": "https://localhost:8080/",
          "height": 34
        },
        "outputId": "e5abcfff-e761-4bee-9859-77144f21569c"
      },
      "source": [
        "print(*num_list)"
      ],
      "execution_count": 6,
      "outputs": [
        {
          "output_type": "stream",
          "text": [
            "1 2 3 4 5\n"
          ],
          "name": "stdout"
        }
      ]
    },
    {
      "cell_type": "code",
      "metadata": {
        "id": "p0jeZfYpKr2F",
        "colab_type": "code",
        "colab": {}
      },
      "source": [
        "num_list1 = [1,2,3,4,5]\n",
        "num_list2 = [6,7,8,9,10]"
      ],
      "execution_count": 9,
      "outputs": []
    },
    {
      "cell_type": "code",
      "metadata": {
        "id": "txXUC0ebKufM",
        "colab_type": "code",
        "colab": {
          "base_uri": "https://localhost:8080/",
          "height": 34
        },
        "outputId": "987993dd-85ae-49a8-e74d-e21d443b0bb1"
      },
      "source": [
        "print(*num_list1, *num_list2)"
      ],
      "execution_count": 10,
      "outputs": [
        {
          "output_type": "stream",
          "text": [
            "1 2 3 4 5 6 7 8 9 10\n"
          ],
          "name": "stdout"
        }
      ]
    },
    {
      "cell_type": "code",
      "metadata": {
        "id": "B0A9sUWNKw2u",
        "colab_type": "code",
        "colab": {}
      },
      "source": [
        "new_list = [*num_list1, *num_list2]"
      ],
      "execution_count": 12,
      "outputs": []
    },
    {
      "cell_type": "code",
      "metadata": {
        "id": "x2vvZ-rHK0aa",
        "colab_type": "code",
        "colab": {
          "base_uri": "https://localhost:8080/",
          "height": 34
        },
        "outputId": "f741797a-4fe8-49f2-c585-362131241d84"
      },
      "source": [
        "new_list"
      ],
      "execution_count": 13,
      "outputs": [
        {
          "output_type": "execute_result",
          "data": {
            "text/plain": [
              "[1, 2, 3, 4, 5, 6, 7, 8, 9, 10]"
            ]
          },
          "metadata": {
            "tags": []
          },
          "execution_count": 13
        }
      ]
    },
    {
      "cell_type": "markdown",
      "metadata": {
        "id": "n8_0-urGK5Bg",
        "colab_type": "text"
      },
      "source": [
        "# Other Uses of * Operator:"
      ]
    },
    {
      "cell_type": "code",
      "metadata": {
        "id": "pN24hvqJK3_C",
        "colab_type": "code",
        "colab": {}
      },
      "source": [
        "name = 'Kang'"
      ],
      "execution_count": 14,
      "outputs": []
    },
    {
      "cell_type": "code",
      "metadata": {
        "id": "gfd7r4btK64T",
        "colab_type": "code",
        "colab": {
          "base_uri": "https://localhost:8080/",
          "height": 34
        },
        "outputId": "ded77149-9306-4fa9-ae39-124fe231a614"
      },
      "source": [
        "first, *middle, last = name\n",
        "middle"
      ],
      "execution_count": 15,
      "outputs": [
        {
          "output_type": "execute_result",
          "data": {
            "text/plain": [
              "['a', 'n']"
            ]
          },
          "metadata": {
            "tags": []
          },
          "execution_count": 15
        }
      ]
    },
    {
      "cell_type": "code",
      "metadata": {
        "id": "59iE4wnoK8U5",
        "colab_type": "code",
        "colab": {}
      },
      "source": [
        "first, *middle, last = 'Ro'"
      ],
      "execution_count": 16,
      "outputs": []
    },
    {
      "cell_type": "code",
      "metadata": {
        "id": "hPXGRPnULEWy",
        "colab_type": "code",
        "colab": {
          "base_uri": "https://localhost:8080/",
          "height": 34
        },
        "outputId": "a4146cb8-ecb5-4244-cc27-1f562c024571"
      },
      "source": [
        "middle"
      ],
      "execution_count": 17,
      "outputs": [
        {
          "output_type": "execute_result",
          "data": {
            "text/plain": [
              "[]"
            ]
          },
          "metadata": {
            "tags": []
          },
          "execution_count": 17
        }
      ]
    },
    {
      "cell_type": "markdown",
      "metadata": {
        "id": "hV_vugzNLGHe",
        "colab_type": "text"
      },
      "source": [
        "# Packing with * Operator"
      ]
    },
    {
      "cell_type": "code",
      "metadata": {
        "id": "vDv8YvATLFFS",
        "colab_type": "code",
        "colab": {
          "base_uri": "https://localhost:8080/",
          "height": 34
        },
        "outputId": "8b0c7e65-523f-4614-80c1-5bd607b96c24"
      },
      "source": [
        "*names, = 'Kang', 'Lee', 'Park'\n",
        "names"
      ],
      "execution_count": 21,
      "outputs": [
        {
          "output_type": "execute_result",
          "data": {
            "text/plain": [
              "['Kang', 'Lee', 'Park']"
            ]
          },
          "metadata": {
            "tags": []
          },
          "execution_count": 21
        }
      ]
    },
    {
      "cell_type": "markdown",
      "metadata": {
        "id": "E2Jdm0NjLTZw",
        "colab_type": "text"
      },
      "source": [
        "# *args"
      ]
    },
    {
      "cell_type": "code",
      "metadata": {
        "id": "pImcswYiLMJ4",
        "colab_type": "code",
        "colab": {}
      },
      "source": [
        "def names_tuple(*args):\n",
        "    return args"
      ],
      "execution_count": 22,
      "outputs": []
    },
    {
      "cell_type": "code",
      "metadata": {
        "id": "W4DxOlbSLVgH",
        "colab_type": "code",
        "colab": {
          "base_uri": "https://localhost:8080/",
          "height": 34
        },
        "outputId": "e700ef3e-08ea-4b07-b1e3-32dbc408b5ba"
      },
      "source": [
        "names_tuple('Kang', 'Lee', 'Park')"
      ],
      "execution_count": 23,
      "outputs": [
        {
          "output_type": "execute_result",
          "data": {
            "text/plain": [
              "('Kang', 'Lee', 'Park')"
            ]
          },
          "metadata": {
            "tags": []
          },
          "execution_count": 23
        }
      ]
    },
    {
      "cell_type": "markdown",
      "metadata": {
        "id": "mEy6JbVSLaZ9",
        "colab_type": "text"
      },
      "source": [
        "# **kwargs"
      ]
    },
    {
      "cell_type": "code",
      "metadata": {
        "id": "GSBqBP1ILYGs",
        "colab_type": "code",
        "colab": {}
      },
      "source": [
        "def names_dict(**kwargs):\n",
        "    return kwargs"
      ],
      "execution_count": 24,
      "outputs": []
    },
    {
      "cell_type": "code",
      "metadata": {
        "id": "DG2xIW8pLcPk",
        "colab_type": "code",
        "colab": {
          "base_uri": "https://localhost:8080/",
          "height": 34
        },
        "outputId": "10a33a3e-75e7-4000-e116-bc4cf48b1b59"
      },
      "source": [
        "names_dict(Kang = 'Sangyun')"
      ],
      "execution_count": 25,
      "outputs": [
        {
          "output_type": "execute_result",
          "data": {
            "text/plain": [
              "{'Kang': 'Sangyun'}"
            ]
          },
          "metadata": {
            "tags": []
          },
          "execution_count": 25
        }
      ]
    },
    {
      "cell_type": "markdown",
      "metadata": {
        "id": "C757hUWNLh0X",
        "colab_type": "text"
      },
      "source": [
        "# Dictionaries"
      ]
    },
    {
      "cell_type": "code",
      "metadata": {
        "id": "Vc0OI2C8Lf2x",
        "colab_type": "code",
        "colab": {}
      },
      "source": [
        "num_dict = {'a': 1, 'b': 2, 'c': 3}"
      ],
      "execution_count": 26,
      "outputs": []
    },
    {
      "cell_type": "code",
      "metadata": {
        "id": "YHFlT0gbLlB_",
        "colab_type": "code",
        "colab": {
          "base_uri": "https://localhost:8080/",
          "height": 34
        },
        "outputId": "a3e8f9ad-574f-4393-a0e6-8c407f7318c7"
      },
      "source": [
        "num_dict"
      ],
      "execution_count": 27,
      "outputs": [
        {
          "output_type": "execute_result",
          "data": {
            "text/plain": [
              "{'a': 1, 'b': 2, 'c': 3}"
            ]
          },
          "metadata": {
            "tags": []
          },
          "execution_count": 27
        }
      ]
    },
    {
      "cell_type": "code",
      "metadata": {
        "id": "GBcAGwajLmV2",
        "colab_type": "code",
        "colab": {}
      },
      "source": [
        "def dict_sum(a,b,c):\n",
        "    return a+b+c"
      ],
      "execution_count": 28,
      "outputs": []
    },
    {
      "cell_type": "code",
      "metadata": {
        "id": "nCY5Ib5LLnrv",
        "colab_type": "code",
        "colab": {
          "base_uri": "https://localhost:8080/",
          "height": 34
        },
        "outputId": "452e0a38-7230-4334-9739-5564b4f8901c"
      },
      "source": [
        "dict_sum(**num_dict)"
      ],
      "execution_count": 29,
      "outputs": [
        {
          "output_type": "execute_result",
          "data": {
            "text/plain": [
              "6"
            ]
          },
          "metadata": {
            "tags": []
          },
          "execution_count": 29
        }
      ]
    },
    {
      "cell_type": "code",
      "metadata": {
        "id": "g1ipsml6Lo5K",
        "colab_type": "code",
        "colab": {
          "base_uri": "https://localhost:8080/",
          "height": 37
        },
        "outputId": "fb47cde5-c2d0-4e9e-8eae-8a1f0125861f"
      },
      "source": [
        "dict_sum(*num_dict)"
      ],
      "execution_count": 30,
      "outputs": [
        {
          "output_type": "execute_result",
          "data": {
            "application/vnd.google.colaboratory.intrinsic+json": {
              "type": "string"
            },
            "text/plain": [
              "'abc'"
            ]
          },
          "metadata": {
            "tags": []
          },
          "execution_count": 30
        }
      ]
    },
    {
      "cell_type": "code",
      "metadata": {
        "id": "fdoHGUpcLqIt",
        "colab_type": "code",
        "colab": {}
      },
      "source": [
        "num_dict1 = {'a': 1, 'b': 2, 'c': 3}\n",
        "num_dict2 = {'d': 4, 'e': 5, 'f': 6}"
      ],
      "execution_count": 31,
      "outputs": []
    },
    {
      "cell_type": "code",
      "metadata": {
        "id": "0zFZ_2-kLzfH",
        "colab_type": "code",
        "colab": {}
      },
      "source": [
        "new_dict = {**num_dict1, **num_dict2}"
      ],
      "execution_count": 32,
      "outputs": []
    },
    {
      "cell_type": "code",
      "metadata": {
        "id": "Ebi5DMKSL7wp",
        "colab_type": "code",
        "colab": {
          "base_uri": "https://localhost:8080/",
          "height": 34
        },
        "outputId": "124131fb-a63f-4b23-bf88-dab9eb8f594d"
      },
      "source": [
        "new_dict"
      ],
      "execution_count": 33,
      "outputs": [
        {
          "output_type": "execute_result",
          "data": {
            "text/plain": [
              "{'a': 1, 'b': 2, 'c': 3, 'd': 4, 'e': 5, 'f': 6}"
            ]
          },
          "metadata": {
            "tags": []
          },
          "execution_count": 33
        }
      ]
    }
  ]
}