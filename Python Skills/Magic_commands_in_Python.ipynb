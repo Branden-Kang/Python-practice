{
  "nbformat": 4,
  "nbformat_minor": 0,
  "metadata": {
    "colab": {
      "name": "Magic commands in Python.ipynb",
      "provenance": [],
      "collapsed_sections": [],
      "authorship_tag": "ABX9TyNFJLiA92dmX/q8OAkPbS88"
    },
    "kernelspec": {
      "name": "python3",
      "display_name": "Python 3"
    }
  },
  "cells": [
    {
      "cell_type": "markdown",
      "metadata": {
        "id": "wPjxuFbvjqWS",
        "colab_type": "text"
      },
      "source": [
        "[Reference](https://medium.com/better-programming/7-commands-in-python-to-make-your-life-easier-d48dd0992b57)"
      ]
    },
    {
      "cell_type": "code",
      "metadata": {
        "id": "00XZdKT_l3le",
        "colab_type": "code",
        "colab": {
          "base_uri": "https://localhost:8080/",
          "height": 34
        },
        "outputId": "61141530-ec83-4a45-ffe6-b6be3f26ebee"
      },
      "source": [
        "def hello():\n",
        "    print('Hello Kang')\n",
        "    \n",
        "hello()"
      ],
      "execution_count": 6,
      "outputs": [
        {
          "output_type": "stream",
          "text": [
            "Hello Kang\n"
          ],
          "name": "stdout"
        }
      ]
    },
    {
      "cell_type": "code",
      "metadata": {
        "id": "fxEhDxrSlM1G",
        "colab_type": "code",
        "colab": {
          "base_uri": "https://localhost:8080/",
          "height": 68
        },
        "outputId": "c947ede9-c5df-405f-c58b-262aecbe888b"
      },
      "source": [
        "import os\n",
        "from google.colab import drive\n",
        "drive.mount('/content/gdrive',force_remount=True)\n",
        "!pwd\n",
        "os.chdir('gdrive/My Drive/Colab Notebooks/')\n",
        "!pwd"
      ],
      "execution_count": 4,
      "outputs": [
        {
          "output_type": "stream",
          "text": [
            "Mounted at /content/gdrive\n",
            "/content\n",
            "/content/gdrive/My Drive/Colab Notebooks\n"
          ],
          "name": "stdout"
        }
      ]
    },
    {
      "cell_type": "code",
      "metadata": {
        "id": "YIKZwFO7lGkZ",
        "colab_type": "code",
        "colab": {
          "base_uri": "https://localhost:8080/",
          "height": 34
        },
        "outputId": "34ebd69c-de25-4c3b-fcba-2a693a572e98"
      },
      "source": [
        "%run hello.py"
      ],
      "execution_count": 8,
      "outputs": [
        {
          "output_type": "stream",
          "text": [
            "Hello Kang\n"
          ],
          "name": "stdout"
        }
      ]
    },
    {
      "cell_type": "code",
      "metadata": {
        "id": "2nnR5D-9lICa",
        "colab_type": "code",
        "colab": {}
      },
      "source": [
        "%load hello.py"
      ],
      "execution_count": 10,
      "outputs": []
    },
    {
      "cell_type": "code",
      "metadata": {
        "id": "Vc0NnR1ql8bw",
        "colab_type": "code",
        "colab": {}
      },
      "source": [
        "%pycat hello.py"
      ],
      "execution_count": 11,
      "outputs": []
    },
    {
      "cell_type": "code",
      "metadata": {
        "id": "QnDZ5vf_mB-E",
        "colab_type": "code",
        "colab": {
          "base_uri": "https://localhost:8080/",
          "height": 34
        },
        "outputId": "5ba6ebce-51c3-4dd4-84cc-a77689eb3749"
      },
      "source": [
        "%%writefile my_file.py\n",
        "\n",
        "# Function to return sum of two numbers\n",
        "def sum_num(a,b):\n",
        "    return a+b"
      ],
      "execution_count": 12,
      "outputs": [
        {
          "output_type": "stream",
          "text": [
            "Writing my_file.py\n"
          ],
          "name": "stdout"
        }
      ]
    },
    {
      "cell_type": "code",
      "metadata": {
        "id": "51N47-xvmIiG",
        "colab_type": "code",
        "colab": {
          "base_uri": "https://localhost:8080/",
          "height": 34
        },
        "outputId": "f9fd28e6-e306-4543-d0fd-395fab2e93b3"
      },
      "source": [
        "%%writefile -a my_file.py\n",
        "\n",
        "# Function to return diff of two numbers\n",
        "def diff_num(a,b):\n",
        "    return a-b"
      ],
      "execution_count": 13,
      "outputs": [
        {
          "output_type": "stream",
          "text": [
            "Appending to my_file.py\n"
          ],
          "name": "stdout"
        }
      ]
    },
    {
      "cell_type": "code",
      "metadata": {
        "id": "lHuYX9IhmQDq",
        "colab_type": "code",
        "colab": {
          "base_uri": "https://localhost:8080/",
          "height": 34
        },
        "outputId": "3c597aa8-24e5-4b27-aba8-04ef11080d76"
      },
      "source": [
        "%timeit square_numbers = [num**2 for num in range(1,1000)]"
      ],
      "execution_count": 14,
      "outputs": [
        {
          "output_type": "stream",
          "text": [
            "1000 loops, best of 3: 259 µs per loop\n"
          ],
          "name": "stdout"
        }
      ]
    },
    {
      "cell_type": "code",
      "metadata": {
        "id": "YZjIRUdLmatZ",
        "colab_type": "code",
        "colab": {}
      },
      "source": [
        "%timeit \n",
        "square_numbers = []\n",
        "for num in range(1, 1000):\n",
        "  square_numbers.append(num**2)"
      ],
      "execution_count": 15,
      "outputs": []
    },
    {
      "cell_type": "code",
      "metadata": {
        "id": "Vww96jWDmgw2",
        "colab_type": "code",
        "colab": {
          "base_uri": "https://localhost:8080/",
          "height": 34
        },
        "outputId": "35b791a0-7ec9-45f6-970d-45438221a9d5"
      },
      "source": [
        "roll_number = 12\n",
        "name = 'Chaitanya Baweja'\n",
        "age = 14\n",
        "\n",
        "%who "
      ],
      "execution_count": 16,
      "outputs": [
        {
          "output_type": "stream",
          "text": [
            "age\t drive\t hello\t name\t num\t os\t roll_number\t square_numbers\t \n"
          ],
          "name": "stdout"
        }
      ]
    },
    {
      "cell_type": "code",
      "metadata": {
        "id": "gz8u4J4TmiPY",
        "colab_type": "code",
        "colab": {
          "base_uri": "https://localhost:8080/",
          "height": 34
        },
        "outputId": "43261749-5917-4763-dfcb-4673a0a6577d"
      },
      "source": [
        "%who_ls"
      ],
      "execution_count": 17,
      "outputs": [
        {
          "output_type": "execute_result",
          "data": {
            "text/plain": [
              "['age', 'drive', 'hello', 'name', 'num', 'os', 'roll_number', 'square_numbers']"
            ]
          },
          "metadata": {
            "tags": []
          },
          "execution_count": 17
        }
      ]
    },
    {
      "cell_type": "code",
      "metadata": {
        "id": "UwE5kAhrmj_P",
        "colab_type": "code",
        "colab": {
          "base_uri": "https://localhost:8080/",
          "height": 187
        },
        "outputId": "48fad67e-6fa4-4cc6-a399-e38f1021dbe4"
      },
      "source": [
        "%whos"
      ],
      "execution_count": 18,
      "outputs": [
        {
          "output_type": "stream",
          "text": [
            "Variable         Type        Data/Info\n",
            "--------------------------------------\n",
            "age              int         14\n",
            "drive            module      <module 'google.colab.dri<...>s/google/colab/drive.py'>\n",
            "hello            function    <function hello at 0x7f447fa45f28>\n",
            "name             str         Chaitanya Baweja\n",
            "num              int         999\n",
            "os               module      <module 'os' from '/usr/lib/python3.6/os.py'>\n",
            "roll_number      int         12\n",
            "square_numbers   list        n=999\n"
          ],
          "name": "stdout"
        }
      ]
    },
    {
      "cell_type": "code",
      "metadata": {
        "id": "biI-7BnBmmYE",
        "colab_type": "code",
        "colab": {
          "base_uri": "https://localhost:8080/",
          "height": 34
        },
        "outputId": "af67482f-99ce-4fa8-bdad-495f47fca6e4"
      },
      "source": [
        "%who str"
      ],
      "execution_count": 19,
      "outputs": [
        {
          "output_type": "stream",
          "text": [
            "name\t \n"
          ],
          "name": "stdout"
        }
      ]
    },
    {
      "cell_type": "code",
      "metadata": {
        "id": "oO3ClQ_Zmov9",
        "colab_type": "code",
        "colab": {
          "base_uri": "https://localhost:8080/",
          "height": 121
        },
        "outputId": "1b8843f9-ac22-4aee-8951-c917a3dfc689"
      },
      "source": [
        "%%html\n",
        "<html>\n",
        "<body>\n",
        "<h3>Student Marks</h3>\n",
        "<table>\n",
        "        <tr> \n",
        "            <th>Name</th> \n",
        "            <th>Roll</th> \n",
        "            <th>Age</th>\n",
        "            <th>Marks</th>\n",
        "        </tr> \n",
        "        <tr> \n",
        "            <td>Chaitanya</td> \n",
        "            <td>12</td> \n",
        "            <td>14</td>\n",
        "            <td>93</td>\n",
        "        </tr>\n",
        "        <tr> \n",
        "            <td>Karan</td> \n",
        "            <td>13</td> \n",
        "            <td>15</td>\n",
        "            <td>92</td>\n",
        "        </tr>\n",
        "</table>\n",
        "</body>\n",
        "</html>"
      ],
      "execution_count": 20,
      "outputs": [
        {
          "output_type": "display_data",
          "data": {
            "text/html": [
              "<html>\n",
              "<body>\n",
              "<h3>Student Marks</h3>\n",
              "<table>\n",
              "        <tr> \n",
              "            <th>Name</th> \n",
              "            <th>Roll</th> \n",
              "            <th>Age</th>\n",
              "            <th>Marks</th>\n",
              "        </tr> \n",
              "        <tr> \n",
              "            <td>Chaitanya</td> \n",
              "            <td>12</td> \n",
              "            <td>14</td>\n",
              "            <td>93</td>\n",
              "        </tr>\n",
              "        <tr> \n",
              "            <td>Karan</td> \n",
              "            <td>13</td> \n",
              "            <td>15</td>\n",
              "            <td>92</td>\n",
              "        </tr>\n",
              "</table>\n",
              "</body>\n",
              "</html>"
            ],
            "text/plain": [
              "<IPython.core.display.HTML object>"
            ]
          },
          "metadata": {
            "tags": []
          }
        }
      ]
    },
    {
      "cell_type": "code",
      "metadata": {
        "id": "6CADkWohmt44",
        "colab_type": "code",
        "colab": {
          "base_uri": "https://localhost:8080/",
          "height": 734
        },
        "outputId": "82438206-6493-4da4-e5fb-136c13e54ac5"
      },
      "source": [
        "%env"
      ],
      "execution_count": 21,
      "outputs": [
        {
          "output_type": "execute_result",
          "data": {
            "text/plain": [
              "{'CLICOLOR': '1',\n",
              " 'CLOUDSDK_CONFIG': '/content/.config',\n",
              " 'CLOUDSDK_PYTHON': 'python3',\n",
              " 'COLAB_GPU': '0',\n",
              " 'CUDA_PKG_VERSION': '10-1=10.1.243-1',\n",
              " 'CUDA_VERSION': '10.1.243',\n",
              " 'CUDNN_VERSION': '7.6.5.32',\n",
              " 'DATALAB_SETTINGS_OVERRIDES': '{\"kernelManagerProxyPort\":6000,\"kernelManagerProxyHost\":\"172.28.0.3\",\"jupyterArgs\":[\"--ip=\\\\\"172.28.0.2\\\\\"\"]}',\n",
              " 'DEBIAN_FRONTEND': 'noninteractive',\n",
              " 'ENV': '/root/.bashrc',\n",
              " 'GCE_METADATA_TIMEOUT': '0',\n",
              " 'GCS_READ_CACHE_BLOCK_SIZE_MB': '16',\n",
              " 'GIT_PAGER': 'cat',\n",
              " 'GLIBCPP_FORCE_NEW': '1',\n",
              " 'GLIBCXX_FORCE_NEW': '1',\n",
              " 'HOME': '/root',\n",
              " 'HOSTNAME': 'b5b1ffd3a31a',\n",
              " 'JPY_PARENT_PID': '23',\n",
              " 'LANG': 'en_US.UTF-8',\n",
              " 'LAST_FORCED_REBUILD': '20200910',\n",
              " 'LD_LIBRARY_PATH': '/usr/local/nvidia/lib:/usr/local/nvidia/lib64',\n",
              " 'LD_PRELOAD': '/usr/lib/x86_64-linux-gnu/libtcmalloc.so.4',\n",
              " 'LIBRARY_PATH': '/usr/local/cuda/lib64/stubs',\n",
              " 'MPLBACKEND': 'module://ipykernel.pylab.backend_inline',\n",
              " 'NCCL_VERSION': '2.7.8',\n",
              " 'NO_GCE_CHECK': 'True',\n",
              " 'NVIDIA_DRIVER_CAPABILITIES': 'compute,utility',\n",
              " 'NVIDIA_REQUIRE_CUDA': 'cuda>=10.1 brand=tesla,driver>=396,driver<397 brand=tesla,driver>=410,driver<411 brand=tesla,driver>=418,driver<419',\n",
              " 'NVIDIA_VISIBLE_DEVICES': 'all',\n",
              " 'OLDPWD': '/',\n",
              " 'PAGER': 'cat',\n",
              " 'PATH': '/usr/local/nvidia/bin:/usr/local/cuda/bin:/usr/local/sbin:/usr/local/bin:/usr/sbin:/usr/bin:/sbin:/bin:/tools/node/bin:/tools/google-cloud-sdk/bin:/opt/bin',\n",
              " 'PWD': '/',\n",
              " 'PYTHONPATH': '/env/python',\n",
              " 'PYTHONWARNINGS': 'ignore:::pip._internal.cli.base_command',\n",
              " 'SHELL': '/bin/bash',\n",
              " 'SHLVL': '1',\n",
              " 'TBE_CREDS_ADDR': '172.28.0.1:8008',\n",
              " 'TERM': 'xterm-color',\n",
              " 'TF_FORCE_GPU_ALLOW_GROWTH': 'true',\n",
              " '_': '/tools/node/bin/node'}"
            ]
          },
          "metadata": {
            "tags": []
          },
          "execution_count": 21
        }
      ]
    },
    {
      "cell_type": "code",
      "metadata": {
        "id": "v7ijIAcQmwEh",
        "colab_type": "code",
        "colab": {
          "base_uri": "https://localhost:8080/",
          "height": 34
        },
        "outputId": "0aa145ff-d1b2-444c-b247-47f09889b910"
      },
      "source": [
        "%env var"
      ],
      "execution_count": 22,
      "outputs": [
        {
          "output_type": "stream",
          "text": [
            "UsageError: Environment does not have key: var\n"
          ],
          "name": "stderr"
        }
      ]
    },
    {
      "cell_type": "code",
      "metadata": {
        "id": "905Kb5temx0-",
        "colab_type": "code",
        "colab": {
          "base_uri": "https://localhost:8080/",
          "height": 34
        },
        "outputId": "3686c478-dff0-46bc-95dd-e5e06cf6eb7c"
      },
      "source": [
        "%env var value"
      ],
      "execution_count": 23,
      "outputs": [
        {
          "output_type": "stream",
          "text": [
            "env: var=value\n"
          ],
          "name": "stdout"
        }
      ]
    },
    {
      "cell_type": "code",
      "metadata": {
        "id": "0xzSWhmzmzaG",
        "colab_type": "code",
        "colab": {
          "base_uri": "https://localhost:8080/",
          "height": 34
        },
        "outputId": "e93159f9-de18-472c-f813-cb6d853740c3"
      },
      "source": [
        "%env OS"
      ],
      "execution_count": 24,
      "outputs": [
        {
          "output_type": "stream",
          "text": [
            "UsageError: Environment does not have key: OS\n"
          ],
          "name": "stderr"
        }
      ]
    },
    {
      "cell_type": "code",
      "metadata": {
        "id": "Xwvx-jT4m4nk",
        "colab_type": "code",
        "colab": {}
      },
      "source": [
        "%magic"
      ],
      "execution_count": 25,
      "outputs": []
    }
  ]
}