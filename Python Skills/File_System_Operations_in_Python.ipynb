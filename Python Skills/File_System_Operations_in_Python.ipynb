{
  "nbformat": 4,
  "nbformat_minor": 0,
  "metadata": {
    "colab": {
      "name": "File System Operations in Python.ipynb",
      "provenance": [],
      "authorship_tag": "ABX9TyMoVFmuxIGO4HXhpCihYUWO"
    },
    "kernelspec": {
      "name": "python3",
      "display_name": "Python 3"
    }
  },
  "cells": [
    {
      "cell_type": "markdown",
      "metadata": {
        "id": "50tY29IG8SsZ"
      },
      "source": [
        "[Reference](https://medium.com/python-in-plain-english/doing-common-file-system-operations-with-python-391a44d064a8)"
      ]
    },
    {
      "cell_type": "code",
      "metadata": {
        "id": "LJABFLu-7_nH"
      },
      "source": [
        "import shutil, os\n",
        "from pathlib import Path\n",
        "path = Path.cwd()"
      ],
      "execution_count": 1,
      "outputs": []
    },
    {
      "cell_type": "code",
      "metadata": {
        "colab": {
          "base_uri": "https://localhost:8080/"
        },
        "id": "keqwsAT78XVB",
        "outputId": "943280ed-5c67-44f7-d48c-962d5fcccc56"
      },
      "source": [
        "path"
      ],
      "execution_count": 2,
      "outputs": [
        {
          "output_type": "execute_result",
          "data": {
            "text/plain": [
              "PosixPath('/content')"
            ]
          },
          "metadata": {
            "tags": []
          },
          "execution_count": 2
        }
      ]
    },
    {
      "cell_type": "code",
      "metadata": {
        "id": "Ogm7FuI28YLT"
      },
      "source": [
        "shutil.copy(path / 'foo.txt', path / 'foo')"
      ],
      "execution_count": 4,
      "outputs": []
    },
    {
      "cell_type": "code",
      "metadata": {
        "id": "AYjKiZGr8dEM"
      },
      "source": [
        "shutil.copytree(path / 'foo', path / 'bar')"
      ],
      "execution_count": 5,
      "outputs": []
    },
    {
      "cell_type": "code",
      "metadata": {
        "id": "5ai3Jugn8gfD"
      },
      "source": [
        "import shutil, os\n",
        "from pathlib import Path\n",
        "path = Path.cwd()\n",
        "shutil.move(path / 'foo.txt', path / 'baz.txt')"
      ],
      "execution_count": 6,
      "outputs": []
    },
    {
      "cell_type": "markdown",
      "metadata": {
        "id": "KZ2WBOoZ8rZp"
      },
      "source": [
        "# Delete files and folders"
      ]
    },
    {
      "cell_type": "code",
      "metadata": {
        "id": "VwYxhHoY8jZv"
      },
      "source": [
        "shutil.move(path/'foo.txt', path/'foo'/'foo.txt')"
      ],
      "execution_count": 7,
      "outputs": []
    },
    {
      "cell_type": "code",
      "metadata": {
        "id": "Fl2Rvv2S8mPh"
      },
      "source": [
        "os.unlink(path / 'foo.txt')"
      ],
      "execution_count": 8,
      "outputs": []
    },
    {
      "cell_type": "code",
      "metadata": {
        "id": "JKVK-N198uLv"
      },
      "source": [
        "os.rmdir(path / 'foo')"
      ],
      "execution_count": 9,
      "outputs": []
    },
    {
      "cell_type": "code",
      "metadata": {
        "id": "aURLq0vI8wly"
      },
      "source": [
        "shutil.rmtree(path / 'foo')"
      ],
      "execution_count": 10,
      "outputs": []
    },
    {
      "cell_type": "markdown",
      "metadata": {
        "id": "hVzVikVD8qZz"
      },
      "source": [
        "# Safe Deletes with the send2trash Module"
      ]
    },
    {
      "cell_type": "code",
      "metadata": {
        "id": "NuKitEJr81fd"
      },
      "source": [
        "!pip install send2trash"
      ],
      "execution_count": 11,
      "outputs": []
    },
    {
      "cell_type": "code",
      "metadata": {
        "id": "HyNv9eq_8zYH"
      },
      "source": [
        "import send2trash\n",
        "send2trash.send2trash('foo.txt')"
      ],
      "execution_count": 12,
      "outputs": []
    },
    {
      "cell_type": "code",
      "metadata": {
        "colab": {
          "base_uri": "https://localhost:8080/"
        },
        "id": "RL2x9jSJ83Wk",
        "outputId": "5887dc5f-6a92-445d-9493-200a9e936438"
      },
      "source": [
        "import os\n",
        "from pathlib import Path\n",
        "\n",
        "for folderName, subfolders, filenames in os.walk(Path.cwd()):\n",
        "  print('folder', folderName)\n",
        "  for subfolder in subfolders:\n",
        "    print('subfolder: ', folderName, subfolder)  \n",
        "    \n",
        "  for filename in filenames:\n",
        "    print('file: ', folderName, filename)"
      ],
      "execution_count": 14,
      "outputs": [
        {
          "output_type": "stream",
          "text": [
            "folder /content\n",
            "subfolder:  /content .config\n",
            "subfolder:  /content sample_data\n",
            "folder /content/.config\n",
            "subfolder:  /content/.config logs\n",
            "subfolder:  /content/.config configurations\n",
            "file:  /content/.config .last_update_check.json\n",
            "file:  /content/.config active_config\n",
            "file:  /content/.config config_sentinel\n",
            "file:  /content/.config .last_opt_in_prompt.yaml\n",
            "file:  /content/.config .last_survey_prompt.yaml\n",
            "file:  /content/.config gce\n",
            "file:  /content/.config .metricsUUID\n",
            "folder /content/.config/logs\n",
            "subfolder:  /content/.config/logs 2020.11.13\n",
            "folder /content/.config/logs/2020.11.13\n",
            "file:  /content/.config/logs/2020.11.13 17.33.07.342211.log\n",
            "file:  /content/.config/logs/2020.11.13 17.33.44.836274.log\n",
            "file:  /content/.config/logs/2020.11.13 17.32.45.071309.log\n",
            "file:  /content/.config/logs/2020.11.13 17.33.22.211003.log\n",
            "file:  /content/.config/logs/2020.11.13 17.33.45.553060.log\n",
            "file:  /content/.config/logs/2020.11.13 17.33.29.478721.log\n",
            "folder /content/.config/configurations\n",
            "file:  /content/.config/configurations config_default\n",
            "folder /content/sample_data\n",
            "file:  /content/sample_data anscombe.json\n",
            "file:  /content/sample_data README.md\n",
            "file:  /content/sample_data mnist_train_small.csv\n",
            "file:  /content/sample_data california_housing_train.csv\n",
            "file:  /content/sample_data mnist_test.csv\n",
            "file:  /content/sample_data california_housing_test.csv\n"
          ],
          "name": "stdout"
        }
      ]
    },
    {
      "cell_type": "markdown",
      "metadata": {
        "id": "ZWFxQ97R9BE5"
      },
      "source": [
        "# Compressing Files with the zipfile Module"
      ]
    },
    {
      "cell_type": "code",
      "metadata": {
        "id": "nsRel0RP886N"
      },
      "source": [
        "import zipfile, os\n",
        "from pathlib import Path\n",
        "path = Path.cwd()\n",
        "zip_file = zipfile.ZipFile(path / 'foo.zip')\n",
        "name_list = zip_file.namelist()\n",
        "zip_file.close()"
      ],
      "execution_count": 15,
      "outputs": []
    },
    {
      "cell_type": "code",
      "metadata": {
        "id": "8upV5cz99DM4"
      },
      "source": [
        "import zipfile, os\n",
        "from pathlib import Path\n",
        "path = Path.cwd()\n",
        "zip_file = zipfile.ZipFile(path / 'foo.zip')\n",
        "foo_info = zip_file.getinfo('foo.txt')\n",
        "zip_file.close()"
      ],
      "execution_count": 16,
      "outputs": []
    },
    {
      "cell_type": "markdown",
      "metadata": {
        "id": "EmrcSD269ZW2"
      },
      "source": [
        "# Extracting from ZIP Files"
      ]
    },
    {
      "cell_type": "code",
      "metadata": {
        "id": "goNW2rsf9FYU"
      },
      "source": [
        "import zipfile, os\n",
        "from pathlib import Path\n",
        "path = Path.cwd()\n",
        "zip_file = zipfile.ZipFile(path / 'foo.zip')\n",
        "zip_file.extractall()\n",
        "zip_file.close()"
      ],
      "execution_count": 17,
      "outputs": []
    },
    {
      "cell_type": "markdown",
      "metadata": {
        "id": "yocSFeol9dNt"
      },
      "source": [
        "# Creating and Adding to ZIP Files"
      ]
    },
    {
      "cell_type": "code",
      "metadata": {
        "id": "1HxMSbDk9bTq"
      },
      "source": [
        "import zipfile, os\n",
        "from pathlib import Path\n",
        "path = Path.cwd()\n",
        "new_zip = zipfile.ZipFile('foo.zip', 'w')\n",
        "new_zip.write('foo.txt', compress_type=zipfile.ZIP_DEFLATED)\n",
        "new_zip.close()"
      ],
      "execution_count": 18,
      "outputs": []
    }
  ]
}