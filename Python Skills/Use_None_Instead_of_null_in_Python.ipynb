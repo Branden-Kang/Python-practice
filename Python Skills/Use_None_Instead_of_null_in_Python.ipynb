{
  "nbformat": 4,
  "nbformat_minor": 0,
  "metadata": {
    "colab": {
      "provenance": [],
      "authorship_tag": "ABX9TyOJigw8BFAtusm3Ca87E+D9"
    },
    "kernelspec": {
      "name": "python3",
      "display_name": "Python 3"
    },
    "language_info": {
      "name": "python"
    }
  },
  "cells": [
    {
      "cell_type": "markdown",
      "source": [
        "[Reference](https://medium.com/@kirantechblog/why-we-use-none-instead-of-null-in-python-1ff0bdb8fe17)"
      ],
      "metadata": {
        "id": "niN5L2MGZZ_e"
      }
    },
    {
      "cell_type": "markdown",
      "source": [
        "# 1. None is an Object, Not a Keyword"
      ],
      "metadata": {
        "id": "LU532AIRZgdG"
      }
    },
    {
      "cell_type": "code",
      "execution_count": 1,
      "metadata": {
        "colab": {
          "base_uri": "https://localhost:8080/"
        },
        "id": "7uMdg1nKZXu3",
        "outputId": "5e5a06d3-372a-4629-ea5b-e5a26ccc1391"
      },
      "outputs": [
        {
          "output_type": "stream",
          "name": "stdout",
          "text": [
            "<class 'NoneType'>\n"
          ]
        }
      ],
      "source": [
        "print(type(None))"
      ]
    },
    {
      "cell_type": "code",
      "source": [
        "x = None\n",
        "y = None\n",
        "print(x is y)"
      ],
      "metadata": {
        "colab": {
          "base_uri": "https://localhost:8080/"
        },
        "id": "MSdiTyYYZjJM",
        "outputId": "e33e76f3-edd6-4360-9cd9-a0cadbe5632e"
      },
      "execution_count": 2,
      "outputs": [
        {
          "output_type": "stream",
          "name": "stdout",
          "text": [
            "True\n"
          ]
        }
      ]
    },
    {
      "cell_type": "markdown",
      "source": [
        "# 2. None is used as a Default Return Value"
      ],
      "metadata": {
        "id": "D1dJMdIeZliS"
      }
    },
    {
      "cell_type": "code",
      "source": [
        "def my_function():\n",
        "    pass\n",
        "\n",
        "result = my_function()\n",
        "print(result)"
      ],
      "metadata": {
        "colab": {
          "base_uri": "https://localhost:8080/"
        },
        "id": "3WZdsp9IZjkW",
        "outputId": "71472e93-5308-4516-866d-e37366b1b6f4"
      },
      "execution_count": 3,
      "outputs": [
        {
          "output_type": "stream",
          "name": "stdout",
          "text": [
            "None\n"
          ]
        }
      ]
    },
    {
      "cell_type": "markdown",
      "source": [
        "# 3. None Works Well with is Instead of =="
      ],
      "metadata": {
        "id": "-13CzMJHZrZ1"
      }
    },
    {
      "cell_type": "code",
      "source": [
        "x = None\n",
        "if x is None:\n",
        "    print(\"x is None\")"
      ],
      "metadata": {
        "colab": {
          "base_uri": "https://localhost:8080/"
        },
        "id": "krZJZeJUZpMC",
        "outputId": "1c982d3d-3b97-4647-b6c0-9d3f7bec1099"
      },
      "execution_count": 4,
      "outputs": [
        {
          "output_type": "stream",
          "name": "stdout",
          "text": [
            "x is None\n"
          ]
        }
      ]
    },
    {
      "cell_type": "code",
      "source": [
        "class MyClass:\n",
        "    def __eq__(self, other):\n",
        "        return True  # It's dangerous to override\n",
        "\n",
        "obj = MyClass()\n",
        "print(obj == None)"
      ],
      "metadata": {
        "colab": {
          "base_uri": "https://localhost:8080/"
        },
        "id": "bUHIj0bLZxA9",
        "outputId": "1563dfb3-191f-4944-8a3f-4d0ab1703556"
      },
      "execution_count": 5,
      "outputs": [
        {
          "output_type": "stream",
          "name": "stdout",
          "text": [
            "True\n"
          ]
        }
      ]
    },
    {
      "cell_type": "markdown",
      "source": [
        "# 4. None Help us to Avoid NullPointerException"
      ],
      "metadata": {
        "id": "uLYntnyzZ0qa"
      }
    },
    {
      "cell_type": "code",
      "source": [
        "name = None\n",
        "print(name.upper())"
      ],
      "metadata": {
        "colab": {
          "base_uri": "https://localhost:8080/",
          "height": 156
        },
        "id": "ckrxuyBRZzAW",
        "outputId": "a933d259-b3f7-4ddb-8d2d-427e0c1bdbff"
      },
      "execution_count": 6,
      "outputs": [
        {
          "output_type": "error",
          "ename": "AttributeError",
          "evalue": "'NoneType' object has no attribute 'upper'",
          "traceback": [
            "\u001b[0;31m---------------------------------------------------------------------------\u001b[0m",
            "\u001b[0;31mAttributeError\u001b[0m                            Traceback (most recent call last)",
            "\u001b[0;32m<ipython-input-6-ff417c452b7e>\u001b[0m in \u001b[0;36m<cell line: 0>\u001b[0;34m()\u001b[0m\n\u001b[1;32m      1\u001b[0m \u001b[0mname\u001b[0m \u001b[0;34m=\u001b[0m \u001b[0;32mNone\u001b[0m\u001b[0;34m\u001b[0m\u001b[0;34m\u001b[0m\u001b[0m\n\u001b[0;32m----> 2\u001b[0;31m \u001b[0mprint\u001b[0m\u001b[0;34m(\u001b[0m\u001b[0mname\u001b[0m\u001b[0;34m.\u001b[0m\u001b[0mupper\u001b[0m\u001b[0;34m(\u001b[0m\u001b[0;34m)\u001b[0m\u001b[0;34m)\u001b[0m\u001b[0;34m\u001b[0m\u001b[0;34m\u001b[0m\u001b[0m\n\u001b[0m",
            "\u001b[0;31mAttributeError\u001b[0m: 'NoneType' object has no attribute 'upper'"
          ]
        }
      ]
    },
    {
      "cell_type": "markdown",
      "source": [
        "# 5. None can be used in Default Arguments"
      ],
      "metadata": {
        "id": "Va2A7J7rZ5dO"
      }
    },
    {
      "cell_type": "code",
      "source": [
        "def greet(name=None):\n",
        "    if name is None:\n",
        "        name = \"Guest\"\n",
        "    print(f\"Hello, {name}!\")\n",
        "\n",
        "greet()\n",
        "greet(\"Branden\")"
      ],
      "metadata": {
        "colab": {
          "base_uri": "https://localhost:8080/"
        },
        "id": "j6AxGO6zZ4Ac",
        "outputId": "641d200d-28f6-49ff-8bcc-dad9be152997"
      },
      "execution_count": 7,
      "outputs": [
        {
          "output_type": "stream",
          "name": "stdout",
          "text": [
            "Hello, Guest!\n",
            "Hello, Branden!\n"
          ]
        }
      ]
    },
    {
      "cell_type": "markdown",
      "source": [
        "# 6. None can be used in Data Structures"
      ],
      "metadata": {
        "id": "z5uFW5ldaAIF"
      }
    },
    {
      "cell_type": "code",
      "source": [
        "data = {\"name\": None}\n",
        "print(data.get(\"name\", \"Unknown\"))"
      ],
      "metadata": {
        "colab": {
          "base_uri": "https://localhost:8080/"
        },
        "id": "1tf9leP7Z-OB",
        "outputId": "b6bf02e0-9c8d-41da-c908-904d8526d54a"
      },
      "execution_count": 8,
      "outputs": [
        {
          "output_type": "stream",
          "name": "stdout",
          "text": [
            "None\n"
          ]
        }
      ]
    },
    {
      "cell_type": "code",
      "source": [
        "class Node:\n",
        "    def __init__(self, value):\n",
        "        self.value = value\n",
        "        self.next = None"
      ],
      "metadata": {
        "id": "6ovk9UA6aBrE"
      },
      "execution_count": 9,
      "outputs": []
    }
  ]
}
