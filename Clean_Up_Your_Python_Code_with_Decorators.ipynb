{
  "nbformat": 4,
  "nbformat_minor": 0,
  "metadata": {
    "colab": {
      "name": "Clean Up Your Python Code with Decorators.ipynb",
      "provenance": [],
      "collapsed_sections": [],
      "authorship_tag": "ABX9TyPyDt6/9nWczXHuHU0bhYE6"
    },
    "kernelspec": {
      "name": "python3",
      "display_name": "Python 3"
    },
    "language_info": {
      "name": "python"
    }
  },
  "cells": [
    {
      "cell_type": "markdown",
      "source": [
        "[Reference](https://medium.com/@bubbapora_76246/clean-up-your-python-code-with-decorators-613e7ad4444b)"
      ],
      "metadata": {
        "id": "oBvbaPgF7IvO"
      }
    },
    {
      "cell_type": "code",
      "execution_count": 1,
      "metadata": {
        "id": "tEOmk39n7HJB"
      },
      "outputs": [],
      "source": [
        "import pandas as pd\n",
        "\n",
        "transaction_ids = [101, 102, 103, 104, 105]\n",
        "item_ids = ['shirts', 'socks', 'jeans', 'socks', 'shirts']\n",
        "sale_amts = [25, 12, 32, None, 20]\n",
        "\n",
        "df = pd.DataFrame({'trans_id': transaction_ids,\n",
        "                   'item_id': item_ids,\n",
        "                   'sale_amt': sale_amts})"
      ]
    },
    {
      "cell_type": "code",
      "source": [
        "import functools\n",
        "\n",
        "def tracking_decorator(func):\n",
        "    @functools.wraps(func)\n",
        "    def wrapper(*args, **kwargs):\n",
        "        df = kwargs['data']\n",
        "        original_trans_set = set(df['trans_id'])\n",
        "        df = func(*args, **kwargs)\n",
        "        post_filtering_trans_set = set(df['trans_id'])\n",
        "        filtered_trans = list(original_trans_set - post_filtering_trans_set)\n",
        "        return df, filtered_trans\n",
        "    return wrapper\n",
        "\n",
        "@tracking_decorator\n",
        "def remove_nulls(data):\n",
        "    return data.dropna()"
      ],
      "metadata": {
        "id": "uUACNexL7MR8"
      },
      "execution_count": 2,
      "outputs": []
    },
    {
      "cell_type": "code",
      "source": [
        "df, dropped_transactions = remove_nulls(data=df)"
      ],
      "metadata": {
        "id": "2rc12m6Z7Nh8"
      },
      "execution_count": 3,
      "outputs": []
    },
    {
      "cell_type": "code",
      "source": [
        "print(df)"
      ],
      "metadata": {
        "id": "NMzlMNtE7O9N",
        "outputId": "b1985152-6e46-407d-db15-9b7a1ebdcdb8",
        "colab": {
          "base_uri": "https://localhost:8080/"
        }
      },
      "execution_count": 4,
      "outputs": [
        {
          "output_type": "stream",
          "name": "stdout",
          "text": [
            "   trans_id item_id  sale_amt\n",
            "0       101  shirts      25.0\n",
            "1       102   socks      12.0\n",
            "2       103   jeans      32.0\n",
            "4       105  shirts      20.0\n"
          ]
        }
      ]
    },
    {
      "cell_type": "code",
      "source": [
        "print(dropped_transactions)"
      ],
      "metadata": {
        "id": "k2_-QoOl7PcN",
        "outputId": "4f708332-ab41-4f4c-abd1-1eed56b0b802",
        "colab": {
          "base_uri": "https://localhost:8080/"
        }
      },
      "execution_count": 5,
      "outputs": [
        {
          "output_type": "stream",
          "name": "stdout",
          "text": [
            "[104]\n"
          ]
        }
      ]
    }
  ]
}