{
  "nbformat": 4,
  "nbformat_minor": 0,
  "metadata": {
    "colab": {
      "name": "Clean Up Your Python Code with Decorators.ipynb",
      "provenance": [],
      "collapsed_sections": [],
      "authorship_tag": "ABX9TyPRaAtEk915Uoj5bcGYH3Ut"
    },
    "kernelspec": {
      "name": "python3",
      "display_name": "Python 3"
    },
    "language_info": {
      "name": "python"
    }
  },
  "cells": [
    {
      "cell_type": "markdown",
      "source": [
        "[Reference](https://medium.com/@bubbapora_76246/clean-up-your-python-code-with-decorators-613e7ad4444b)"
      ],
      "metadata": {
        "id": "RaaWF-fnFgNy"
      }
    },
    {
      "cell_type": "code",
      "execution_count": 1,
      "metadata": {
        "id": "GbbO0x3XFesB"
      },
      "outputs": [],
      "source": [
        "# # define a filtering function\n",
        "# def filtering_func(df):\n",
        "#     # apply some filtering #\n",
        "#     return filtered_dataframe\n",
        "\n",
        "# # list the transaction ID's\n",
        "# original_trans_set = set(df['trans_id'])\n",
        "\n",
        "# # apply the filtering function\n",
        "# df = filtering_func(df)\n",
        "\n",
        "# # list the transaction ID's that are left over\n",
        "# post_filtering_trans_set = set(df['trans_id'])\n",
        "\n",
        "# # take the difference to find what ID's were dropped\n",
        "# filtered_trans = original_trans_set - post_filtering_trans_set"
      ]
    },
    {
      "cell_type": "code",
      "source": [
        "# def tracking_decorator(func):\n",
        "#     @functools.wraps(func)\n",
        "#     def wrapper(*args, **kwargs):\n",
        "#         df = kwargs['data']\n",
        "#         original_trans_set = set(df['trans_id'])\n",
        "#         df = func(*args, **kwargs)\n",
        "#         post_filtering_trans_set = set(df['trans_id'])\n",
        "#         filtered_trans = list(original_trans_set - post_filtering_trans_set)\n",
        "#         return df, filtered_trans\n",
        "#     return wrapper\n",
        "\n",
        "# @tracking_decorator\n",
        "# def filtering_func(data):\n",
        "#    # apply some filtering #\n",
        "#    return filtered_dataframe"
      ],
      "metadata": {
        "id": "qDMkvgLVFj8L"
      },
      "execution_count": 2,
      "outputs": []
    },
    {
      "cell_type": "code",
      "source": [
        "import pandas as pd\n",
        "\n",
        "transaction_ids = [101, 102, 103, 104, 105]\n",
        "item_ids = ['shirts', 'socks', 'jeans', 'socks', 'shirts']\n",
        "sale_amts = [25, 12, 32, None, 20]\n",
        "\n",
        "df = pd.DataFrame({'trans_id': transaction_ids,\n",
        "                   'item_id': item_ids,\n",
        "                   'sale_amt': sale_amts})"
      ],
      "metadata": {
        "id": "ZF1EXX81FlPj"
      },
      "execution_count": 3,
      "outputs": []
    },
    {
      "cell_type": "code",
      "source": [
        "import functools\n",
        "\n",
        "def tracking_decorator(func):\n",
        "    @functools.wraps(func)\n",
        "    def wrapper(*args, **kwargs):\n",
        "        df = kwargs['data']\n",
        "        original_trans_set = set(df['trans_id'])\n",
        "        df = func(*args, **kwargs)\n",
        "        post_filtering_trans_set = set(df['trans_id'])\n",
        "        filtered_trans = list(original_trans_set - post_filtering_trans_set)\n",
        "        return df, filtered_trans\n",
        "    return wrapper\n",
        "\n",
        "@tracking_decorator\n",
        "def remove_nulls(data):\n",
        "    return data.dropna()"
      ],
      "metadata": {
        "id": "EYzcJLIKFn39"
      },
      "execution_count": 4,
      "outputs": []
    },
    {
      "cell_type": "code",
      "source": [
        "df, dropped_transactions = remove_nulls(data=df)\n",
        "df"
      ],
      "metadata": {
        "colab": {
          "base_uri": "https://localhost:8080/",
          "height": 173
        },
        "id": "2g2HoAcpFpoC",
        "outputId": "e7659155-6a8b-41d8-8995-d89734beeaa6"
      },
      "execution_count": 5,
      "outputs": [
        {
          "output_type": "execute_result",
          "data": {
            "text/plain": [
              "   trans_id item_id  sale_amt\n",
              "0       101  shirts      25.0\n",
              "1       102   socks      12.0\n",
              "2       103   jeans      32.0\n",
              "4       105  shirts      20.0"
            ],
            "text/html": [
              "\n",
              "  <div id=\"df-3f505ee4-2465-4644-9c2e-aabb7f88d1b7\">\n",
              "    <div class=\"colab-df-container\">\n",
              "      <div>\n",
              "<style scoped>\n",
              "    .dataframe tbody tr th:only-of-type {\n",
              "        vertical-align: middle;\n",
              "    }\n",
              "\n",
              "    .dataframe tbody tr th {\n",
              "        vertical-align: top;\n",
              "    }\n",
              "\n",
              "    .dataframe thead th {\n",
              "        text-align: right;\n",
              "    }\n",
              "</style>\n",
              "<table border=\"1\" class=\"dataframe\">\n",
              "  <thead>\n",
              "    <tr style=\"text-align: right;\">\n",
              "      <th></th>\n",
              "      <th>trans_id</th>\n",
              "      <th>item_id</th>\n",
              "      <th>sale_amt</th>\n",
              "    </tr>\n",
              "  </thead>\n",
              "  <tbody>\n",
              "    <tr>\n",
              "      <th>0</th>\n",
              "      <td>101</td>\n",
              "      <td>shirts</td>\n",
              "      <td>25.0</td>\n",
              "    </tr>\n",
              "    <tr>\n",
              "      <th>1</th>\n",
              "      <td>102</td>\n",
              "      <td>socks</td>\n",
              "      <td>12.0</td>\n",
              "    </tr>\n",
              "    <tr>\n",
              "      <th>2</th>\n",
              "      <td>103</td>\n",
              "      <td>jeans</td>\n",
              "      <td>32.0</td>\n",
              "    </tr>\n",
              "    <tr>\n",
              "      <th>4</th>\n",
              "      <td>105</td>\n",
              "      <td>shirts</td>\n",
              "      <td>20.0</td>\n",
              "    </tr>\n",
              "  </tbody>\n",
              "</table>\n",
              "</div>\n",
              "      <button class=\"colab-df-convert\" onclick=\"convertToInteractive('df-3f505ee4-2465-4644-9c2e-aabb7f88d1b7')\"\n",
              "              title=\"Convert this dataframe to an interactive table.\"\n",
              "              style=\"display:none;\">\n",
              "        \n",
              "  <svg xmlns=\"http://www.w3.org/2000/svg\" height=\"24px\"viewBox=\"0 0 24 24\"\n",
              "       width=\"24px\">\n",
              "    <path d=\"M0 0h24v24H0V0z\" fill=\"none\"/>\n",
              "    <path d=\"M18.56 5.44l.94 2.06.94-2.06 2.06-.94-2.06-.94-.94-2.06-.94 2.06-2.06.94zm-11 1L8.5 8.5l.94-2.06 2.06-.94-2.06-.94L8.5 2.5l-.94 2.06-2.06.94zm10 10l.94 2.06.94-2.06 2.06-.94-2.06-.94-.94-2.06-.94 2.06-2.06.94z\"/><path d=\"M17.41 7.96l-1.37-1.37c-.4-.4-.92-.59-1.43-.59-.52 0-1.04.2-1.43.59L10.3 9.45l-7.72 7.72c-.78.78-.78 2.05 0 2.83L4 21.41c.39.39.9.59 1.41.59.51 0 1.02-.2 1.41-.59l7.78-7.78 2.81-2.81c.8-.78.8-2.07 0-2.86zM5.41 20L4 18.59l7.72-7.72 1.47 1.35L5.41 20z\"/>\n",
              "  </svg>\n",
              "      </button>\n",
              "      \n",
              "  <style>\n",
              "    .colab-df-container {\n",
              "      display:flex;\n",
              "      flex-wrap:wrap;\n",
              "      gap: 12px;\n",
              "    }\n",
              "\n",
              "    .colab-df-convert {\n",
              "      background-color: #E8F0FE;\n",
              "      border: none;\n",
              "      border-radius: 50%;\n",
              "      cursor: pointer;\n",
              "      display: none;\n",
              "      fill: #1967D2;\n",
              "      height: 32px;\n",
              "      padding: 0 0 0 0;\n",
              "      width: 32px;\n",
              "    }\n",
              "\n",
              "    .colab-df-convert:hover {\n",
              "      background-color: #E2EBFA;\n",
              "      box-shadow: 0px 1px 2px rgba(60, 64, 67, 0.3), 0px 1px 3px 1px rgba(60, 64, 67, 0.15);\n",
              "      fill: #174EA6;\n",
              "    }\n",
              "\n",
              "    [theme=dark] .colab-df-convert {\n",
              "      background-color: #3B4455;\n",
              "      fill: #D2E3FC;\n",
              "    }\n",
              "\n",
              "    [theme=dark] .colab-df-convert:hover {\n",
              "      background-color: #434B5C;\n",
              "      box-shadow: 0px 1px 3px 1px rgba(0, 0, 0, 0.15);\n",
              "      filter: drop-shadow(0px 1px 2px rgba(0, 0, 0, 0.3));\n",
              "      fill: #FFFFFF;\n",
              "    }\n",
              "  </style>\n",
              "\n",
              "      <script>\n",
              "        const buttonEl =\n",
              "          document.querySelector('#df-3f505ee4-2465-4644-9c2e-aabb7f88d1b7 button.colab-df-convert');\n",
              "        buttonEl.style.display =\n",
              "          google.colab.kernel.accessAllowed ? 'block' : 'none';\n",
              "\n",
              "        async function convertToInteractive(key) {\n",
              "          const element = document.querySelector('#df-3f505ee4-2465-4644-9c2e-aabb7f88d1b7');\n",
              "          const dataTable =\n",
              "            await google.colab.kernel.invokeFunction('convertToInteractive',\n",
              "                                                     [key], {});\n",
              "          if (!dataTable) return;\n",
              "\n",
              "          const docLinkHtml = 'Like what you see? Visit the ' +\n",
              "            '<a target=\"_blank\" href=https://colab.research.google.com/notebooks/data_table.ipynb>data table notebook</a>'\n",
              "            + ' to learn more about interactive tables.';\n",
              "          element.innerHTML = '';\n",
              "          dataTable['output_type'] = 'display_data';\n",
              "          await google.colab.output.renderOutput(dataTable, element);\n",
              "          const docLink = document.createElement('div');\n",
              "          docLink.innerHTML = docLinkHtml;\n",
              "          element.appendChild(docLink);\n",
              "        }\n",
              "      </script>\n",
              "    </div>\n",
              "  </div>\n",
              "  "
            ]
          },
          "metadata": {},
          "execution_count": 5
        }
      ]
    },
    {
      "cell_type": "code",
      "source": [
        "dropped_transactions"
      ],
      "metadata": {
        "colab": {
          "base_uri": "https://localhost:8080/"
        },
        "id": "KFKyjweCFs-D",
        "outputId": "2d932474-a234-4cfc-ad7a-35328a8b79e9"
      },
      "execution_count": 6,
      "outputs": [
        {
          "output_type": "execute_result",
          "data": {
            "text/plain": [
              "[104]"
            ]
          },
          "metadata": {},
          "execution_count": 6
        }
      ]
    }
  ]
}