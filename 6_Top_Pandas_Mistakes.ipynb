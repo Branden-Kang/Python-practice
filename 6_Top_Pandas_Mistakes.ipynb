{
  "nbformat": 4,
  "nbformat_minor": 0,
  "metadata": {
    "colab": {
      "name": "6 Top Pandas Mistakes.ipynb",
      "provenance": [],
      "collapsed_sections": [],
      "authorship_tag": "ABX9TyNJDmUW8Mg55U91FGNjDE3R"
    },
    "kernelspec": {
      "name": "python3",
      "display_name": "Python 3"
    }
  },
  "cells": [
    {
      "cell_type": "markdown",
      "metadata": {
        "id": "Y9jjydHvcK-T"
      },
      "source": [
        "[Reference](https://towardsdatascience.com/the-6-top-pandas-mistakes-for-python-data-scientists-f551156c5c93)"
      ]
    },
    {
      "cell_type": "markdown",
      "metadata": {
        "id": "ZFH0JXwEcRTT"
      },
      "source": [
        "# 1. Not specifying the data type\n",
        "```python\n",
        "headers = ['col1', 'col2']\n",
        "dtypes = {'col1': 'str', 'col2': 'float'}\n",
        "parse_dates = ['col1', 'col2']pd.read_csv(file, sep='\\t', header=None, names=headers, dtype=dtypes, parse_dates=parse_dates)\n",
        "```"
      ]
    },
    {
      "cell_type": "markdown",
      "metadata": {
        "id": "buKk1pG1cncD"
      },
      "source": [
        "# 2. Leaving Extra DataFrame\n",
        "```python\n",
        "import pandas as pd\n",
        "df1 = pd.read_csv(‘file.csv’)\n",
        "df2 = df1.dropna()\n",
        "df3 = df1.groupby(‘item’)\n",
        "```"
      ]
    },
    {
      "cell_type": "markdown",
      "metadata": {
        "id": "3YVw5yupdxW_"
      },
      "source": [
        "# 3 : Generating getter and setter values slower\n",
        "```python\n",
        "# Using .at \n",
        "for i in range(df_size):\n",
        "    df.at[i] = profile\n",
        "# Wall time: 22.3 s\n",
        "\n",
        "# Using .iloc \n",
        "for i in range(df_size):\n",
        "    df.iloc[i] = profile\n",
        "# Wall time: 19.1 s\n",
        "\n",
        "# Using .iat, doesn't work for replacing multiple columns of data.\n",
        "# Fast but isn't comparable since I'm only replacing one column.\n",
        "for i in range(df_size):\n",
        "    df.iloc[i].iat[0] = profile['address']\n",
        "# Wall time: 3.46 s\n",
        "\n",
        "# Using .to_numpy()\n",
        "for i in range(df_size):\n",
        "    df.to_numpy()[i] = profile\n",
        "# Wall time: 254 ms\n",
        "```"
      ]
    },
    {
      "cell_type": "markdown",
      "metadata": {
        "id": "37RmSajLeMOa"
      },
      "source": [
        "# 4. Manually configuring Matplotlib\n",
        "```python\n",
        "import matplotlib.pyplot as plt\n",
        "ax.hist(x=df['x'])\n",
        "ax.set_xlabel('label for column X')\n",
        "plt.show()\n",
        "\n",
        "df['x'].plot()\n",
        "```"
      ]
    },
    {
      "cell_type": "markdown",
      "metadata": {
        "id": "-ygRZSuQe0a5"
      },
      "source": [
        "# 5. Less CPU Utilisation\n",
        "```python\n",
        "import modin.pandas as pd\n",
        "import numpy as np\n",
        "frame_data = np.random.randint(0, 100, size=(2**10, 2**8))\n",
        "df = pd.DataFrame(frame_data)\n",
        "```"
      ]
    },
    {
      "cell_type": "markdown",
      "metadata": {
        "id": "tkA8Aba8f5iQ"
      },
      "source": [
        "# 6 : Series and DataFrame confusion"
      ]
    },
    {
      "cell_type": "code",
      "metadata": {
        "colab": {
          "base_uri": "https://localhost:8080/"
        },
        "id": "GK__OwXlfZnV",
        "outputId": "61003272-417b-4395-d9f5-1049edd909fd"
      },
      "source": [
        "import numpy as np\n",
        "import pandas as pd\n",
        "\n",
        "data = np.array(['C','O','E','U','S'])\n",
        "ser = pd.Series(data)\n",
        "print(\"The Series created from Array is: \", '\\n', ser)\n",
        "\n",
        "# DataFrame Example:\n",
        "lst = ['COEUS', 'Enterprises', 'is', 'for', 'the', 'Best', 'Online', 'Courses']\n",
        "\n",
        "# Calling DataFrame constructor on list\n",
        "df = pd.DataFrame(lst)\n",
        "print(\"The DataFrame is: \", '\\n',df)"
      ],
      "execution_count": 6,
      "outputs": [
        {
          "output_type": "stream",
          "text": [
            "The Series created from Array is:  \n",
            " 0    C\n",
            "1    O\n",
            "2    E\n",
            "3    U\n",
            "4    S\n",
            "dtype: object\n",
            "The DataFrame is:  \n",
            "              0\n",
            "0        COEUS\n",
            "1  Enterprises\n",
            "2           is\n",
            "3          for\n",
            "4          the\n",
            "5         Best\n",
            "6       Online\n",
            "7      Courses\n"
          ],
          "name": "stdout"
        }
      ]
    }
  ]
}