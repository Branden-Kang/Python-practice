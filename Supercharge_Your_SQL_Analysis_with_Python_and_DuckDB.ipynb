{
  "nbformat": 4,
  "nbformat_minor": 0,
  "metadata": {
    "colab": {
      "provenance": [],
      "authorship_tag": "ABX9TyNQ0kugzu+ikuNl19LZfODL"
    },
    "kernelspec": {
      "name": "python3",
      "display_name": "Python 3"
    },
    "language_info": {
      "name": "python"
    }
  },
  "cells": [
    {
      "cell_type": "markdown",
      "source": [
        "[Reference](https://medium.com/h7w/supercharge-your-sql-analysis-with-python-and-duckdb-d28acaa0f697)"
      ],
      "metadata": {
        "id": "C43AZHKhEDB9"
      }
    },
    {
      "cell_type": "markdown",
      "source": [
        "# Database Creation"
      ],
      "metadata": {
        "id": "d5aJEOPKEFe-"
      }
    },
    {
      "cell_type": "code",
      "execution_count": 1,
      "metadata": {
        "id": "jEYEToqWD908"
      },
      "outputs": [],
      "source": [
        "# Import libraries\n",
        "import polars as pl\n",
        "import duckdb as db\n",
        "import plotly.express as px"
      ]
    },
    {
      "cell_type": "code",
      "source": [
        "# Create database\n",
        "conn = db.connect('retail_db.db')"
      ],
      "metadata": {
        "id": "ZQ6_rp7KEGnd"
      },
      "execution_count": 2,
      "outputs": []
    },
    {
      "cell_type": "code",
      "source": [
        "# Create table\n",
        "conn.sql('''\n",
        "    create table if not exists retail_sales (\n",
        "        id INT,\n",
        "        sale_date DATE,\n",
        "        sale_time TIME,\n",
        "        customer_id INT,\n",
        "        gender VARCHAR(10),\n",
        "        age INT,\n",
        "        category VARCHAR(35),\n",
        "        quantity INT,\n",
        "        price_per_unit FLOAT,\n",
        "        cogs FLOAT,\n",
        "        total_sale FLOAT\n",
        "        )\n",
        "''')"
      ],
      "metadata": {
        "id": "XNgdNyLUEHXH"
      },
      "execution_count": 3,
      "outputs": []
    },
    {
      "cell_type": "markdown",
      "source": [
        "# Data Ingestion"
      ],
      "metadata": {
        "id": "AnMLhzLkEJES"
      }
    },
    {
      "cell_type": "code",
      "source": [
        "# Insert data into table from csv file\n",
        "conn.sql('''\n",
        "    INSERT INTO retail_sales\n",
        "    SELECT * FROM read_csv('sales.csv')\n",
        "''')"
      ],
      "metadata": {
        "id": "Nxs_3QeuELkP"
      },
      "execution_count": 6,
      "outputs": []
    },
    {
      "cell_type": "markdown",
      "source": [
        "# Data Exploration and Cleaning"
      ],
      "metadata": {
        "id": "ZBAyHdhDEMpt"
      }
    },
    {
      "cell_type": "code",
      "source": [
        "# Show first 10 records\n",
        "conn.sql('select * exclude(cogs) from retail_sales limit 10').pl()"
      ],
      "metadata": {
        "id": "7ETHypZ8ENze"
      },
      "execution_count": 7,
      "outputs": []
    },
    {
      "cell_type": "code",
      "source": [
        "conn.sql('select count(*) as records from retail_sales').pl()"
      ],
      "metadata": {
        "id": "rMm7FFz3EO2s"
      },
      "execution_count": 8,
      "outputs": []
    },
    {
      "cell_type": "code",
      "source": [
        "conn.sql('select count(distinct customer_id) customers from retail_sales').pl()"
      ],
      "metadata": {
        "id": "xAiho86NEP5V"
      },
      "execution_count": 9,
      "outputs": []
    },
    {
      "cell_type": "code",
      "source": [
        "conn.sql('select distinct category from retail_sales').pl()"
      ],
      "metadata": {
        "id": "aVY-1TwfERPy"
      },
      "execution_count": 10,
      "outputs": []
    },
    {
      "cell_type": "code",
      "source": [
        "conn.sql('select distinct category from retail_sales').pl()"
      ],
      "metadata": {
        "id": "ZgrfZGl8EWtm"
      },
      "execution_count": 11,
      "outputs": []
    },
    {
      "cell_type": "markdown",
      "source": [
        "# Data Analysis"
      ],
      "metadata": {
        "id": "_ncgMcZCEX-Y"
      }
    },
    {
      "cell_type": "code",
      "source": [
        "conn.sql('''\n",
        "    select *\n",
        "        exclude(cogs)\n",
        "    from retail_sales\n",
        "    where sale_date = '2023-11-23'\n",
        "''').pl()"
      ],
      "metadata": {
        "id": "PilE6PLeEZLq"
      },
      "execution_count": 12,
      "outputs": []
    },
    {
      "cell_type": "code",
      "source": [
        "conn.sql('''\n",
        "    select *\n",
        "        exclude(cogs)\n",
        "    from retail_sales\n",
        "    where category = 'Clothing'\n",
        "        and extract('month' from sale_date) = '11'\n",
        "        and quantity >= 2\n",
        "''').pl()"
      ],
      "metadata": {
        "id": "PM8to6YZEaVI"
      },
      "execution_count": 13,
      "outputs": []
    },
    {
      "cell_type": "code",
      "source": [
        "sales = conn.sql('''\n",
        "    select\n",
        "        category\n",
        "        , round(sum(total_sale),2) as net_sale\n",
        "        , count(*) as total_orders\n",
        "    from retail_sales\n",
        "    group by 1\n",
        "    order by total_orders desc\n",
        "''').pl()"
      ],
      "metadata": {
        "id": "ZiSapM26EblO"
      },
      "execution_count": 14,
      "outputs": []
    },
    {
      "cell_type": "code",
      "source": [
        "fig = px.bar(sales,\n",
        "             x=\"net_sale\",\n",
        "             y=\"category\",\n",
        "             orientation='h',\n",
        "             hover_data=['category','net_sale',],\n",
        "            )\n",
        "\n",
        "fig.update_layout(width=850,\n",
        "                  height=500,\n",
        "                  title_text='<i>Sales by Category during 2023</i>',\n",
        "                  title_x=0.2,\n",
        "                  template=\"ggplot2\",\n",
        "                  yaxis={'categoryorder':'total ascending'}\n",
        "                 )\n",
        "\n",
        "fig.show()"
      ],
      "metadata": {
        "id": "fiLy_CzhEczh"
      },
      "execution_count": 15,
      "outputs": []
    }
  ]
}