{
  "nbformat": 4,
  "nbformat_minor": 0,
  "metadata": {
    "colab": {
      "provenance": [],
      "authorship_tag": "ABX9TyPP+3vQCiA1xdcZDoEGJyZV"
    },
    "kernelspec": {
      "name": "python3",
      "display_name": "Python 3"
    },
    "language_info": {
      "name": "python"
    }
  },
  "cells": [
    {
      "cell_type": "markdown",
      "source": [
        "[Reference](https://blog.det.life/vector-database-concepts-and-examples-f73d7e683d3e)"
      ],
      "metadata": {
        "id": "oJ96kRL3GGRf"
      }
    },
    {
      "cell_type": "code",
      "execution_count": 3,
      "metadata": {
        "id": "5MzzW1p9GEBK"
      },
      "outputs": [],
      "source": [
        "# Import the vector database library\n",
        "import vector_database_library as vdb\n",
        "\n",
        "# Initialize the vector database\n",
        "db = vdb.VectorDatabase(dimensions=128)\n",
        "\n",
        "# Add vectors\n",
        "for i in range(1000):\n",
        "    vector = generate_random_vector(128)  # generate_random_vector is a function to generate a random 128-dimensional vector\n",
        "    db.add_vector(vector, label=f\"vector_{i}\")\n",
        "\n",
        "# Perform a similarity search\n",
        "query_vector = generate_random_vector(128)\n",
        "similar_vectors = db.search(query_vector, top_k=10)‍"
      ]
    }
  ]
}
