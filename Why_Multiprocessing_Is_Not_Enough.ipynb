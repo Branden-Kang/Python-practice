{
  "nbformat": 4,
  "nbformat_minor": 0,
  "metadata": {
    "colab": {
      "name": "Why Multiprocessing Is Not Enough.ipynb",
      "provenance": [],
      "authorship_tag": "ABX9TyOfgZa+O3FnWq9eprE5mS8P"
    },
    "kernelspec": {
      "name": "python3",
      "display_name": "Python 3"
    },
    "language_info": {
      "name": "python"
    }
  },
  "cells": [
    {
      "cell_type": "markdown",
      "metadata": {
        "id": "2YyaAIHDdjRD"
      },
      "source": [
        "[Reference](https://python.plainenglish.io/multiprocessing-itself-isnt-enough-9a62ce8f5a67)"
      ]
    },
    {
      "cell_type": "code",
      "metadata": {
        "colab": {
          "base_uri": "https://localhost:8080/"
        },
        "id": "XvMYHRsRdFFo",
        "outputId": "7cd02362-e69a-4ec9-f083-c52187bcdc72"
      },
      "source": [
        "from datetime import datetime\n",
        "import multiprocessing as mp\n",
        "import psutil\n",
        "from collections import defaultdict\n",
        "\n",
        "start_time = datetime.now()\n",
        "\n",
        "def loop(core, start, stop):\n",
        "    \"\"\"\n",
        "    Function that sums each n in a range to its previous n.\n",
        "    Remember the for loop isn't necessary and it is here just to make the computation time longer.\n",
        "    \"\"\"\n",
        "    proc = psutil.Process()\n",
        "    proc.cpu_affinity([core])\n",
        "    for n in range(start, stop, 1):\n",
        "        x = (n*(n+1))/2\n",
        "    return x\n",
        "    \n",
        "def cores():\n",
        "    \"\"\"\n",
        "    create a list with every virtual core number in the system\n",
        "    \"\"\"\n",
        "    cores = []\n",
        "    for c in range(psutil.cpu_count()):\n",
        "        cores.append(c)\n",
        "    return cores\n",
        "    \n",
        "def block_size(r, cores):\n",
        "    \"\"\"\n",
        "    Define each block size (b) to be processed.\n",
        "    This function returns a dictionary containing the core as key\n",
        "        and a list as value, which contains the start and stop limits for the \"for loop\".\n",
        "    PS: the range for the last core can be wider sometimes. It happens because the floor division of a range by the number of cores, sometimes evaluates to an integer that multiplied to the number of cores, would result in a lower range (remainder) - this function takes care of it too.\n",
        "    \"\"\"\n",
        "    blocks = defaultdict(list)\n",
        "    b = r // len(cores)\n",
        "    for c in cores:\n",
        "        if b == 0:\n",
        "            blocks[c] = [0, r]\n",
        "            return blocks\n",
        "        else:\n",
        "            if b*(c+1) > r:\n",
        "                stop = r\n",
        "            else:\n",
        "                stop = b*(c+1)\n",
        "            if c == cores[-1]:\n",
        "                stop = b*(c+1) + (r - b*(c+1))\n",
        "            blocks[c] = [b*(c), stop]\n",
        "    return blocks\n",
        "    \n",
        "ranges = [100000000, 200000000, 300000000]\n",
        "cores = cores()\n",
        "\n",
        "if __name__ == \"__main__\":    \n",
        "    \n",
        "    results = defaultdict(dict)\n",
        "    with mp.Pool() as pool:\n",
        "        for r in ranges:\n",
        "            # split the full range into smaller ranges per virtual core\n",
        "            blocks = block_size(r, cores)\n",
        "            for core in blocks:\n",
        "                range_index = f'{ranges.index(r)}'\n",
        "                start = blocks[core][0]\n",
        "                stop = blocks[core][1]\n",
        "                # call the function loop for each smaller range of each range\n",
        "                p = pool.apply_async(func=loop, args=(core, start, stop,))\n",
        "                # append the returned objects and organize them by range index and core\n",
        "                results[range_index][core] = p\n",
        "        pool.close()\n",
        "        pool.join()    \n",
        "        \n",
        "    result = 0\n",
        "    for range_index in results:\n",
        "        for core in results[range_index]:\n",
        "            x = results[range_index][core].get()\n",
        "        # remember we only care about the last result\n",
        "        # so we sum the last result obtained for each range in ranges\n",
        "        result = result+x    \n",
        "        \n",
        "    print(f\"Result: {result}\")\n",
        "    print('')\n",
        "    print(f\"Time spent: {datetime.now() - start_time}\")"
      ],
      "execution_count": 2,
      "outputs": [
        {
          "output_type": "stream",
          "text": [
            "Result: 6.99999997e+16\n",
            "\n",
            "Time spent: 0:01:51.059016\n"
          ],
          "name": "stdout"
        }
      ]
    }
  ]
}