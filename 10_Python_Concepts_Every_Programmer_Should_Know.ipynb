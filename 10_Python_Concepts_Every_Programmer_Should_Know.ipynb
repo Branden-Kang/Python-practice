{
  "nbformat": 4,
  "nbformat_minor": 0,
  "metadata": {
    "colab": {
      "provenance": [],
      "authorship_tag": "ABX9TyOBQ4x/9eRvZF+oojN/y1Yi"
    },
    "kernelspec": {
      "name": "python3",
      "display_name": "Python 3"
    },
    "language_info": {
      "name": "python"
    }
  },
  "cells": [
    {
      "cell_type": "markdown",
      "source": [
        "# itertools"
      ],
      "metadata": {
        "id": "0uNz38pGhSHK"
      }
    },
    {
      "cell_type": "code",
      "source": [
        "from itertools import product\n",
        "\n",
        "list1 = [1, 2, 3]\n",
        "list2 = ['a', 'b']\n",
        "\n",
        "result = list(product(list1, list2))\n",
        "\n",
        "print(result)"
      ],
      "metadata": {
        "id": "VRU_it6HhQoN",
        "outputId": "675dcbaf-d18b-4abd-f449-03f2dadb60a9",
        "colab": {
          "base_uri": "https://localhost:8080/"
        }
      },
      "execution_count": 10,
      "outputs": [
        {
          "output_type": "stream",
          "name": "stdout",
          "text": [
            "[(1, 'a'), (1, 'b'), (2, 'a'), (2, 'b'), (3, 'a'), (3, 'b')]\n"
          ]
        }
      ]
    },
    {
      "cell_type": "markdown",
      "source": [
        "# Map Function"
      ],
      "metadata": {
        "id": "brhki-g0hNqo"
      }
    },
    {
      "cell_type": "code",
      "source": [
        "def add_two(num):\n",
        "    return num + 2\n",
        "\n",
        "numbers = [1, 2, 3, 4, 5]\n",
        "result = map(add_two, numbers)\n",
        "\n",
        "print(list(result))"
      ],
      "metadata": {
        "colab": {
          "base_uri": "https://localhost:8080/"
        },
        "id": "7kuQQjgfhMW4",
        "outputId": "3e12b1de-b03c-44e0-9c4d-053b66c7b5dc"
      },
      "execution_count": 9,
      "outputs": [
        {
          "output_type": "stream",
          "name": "stdout",
          "text": [
            "[3, 4, 5, 6, 7]\n"
          ]
        }
      ]
    },
    {
      "cell_type": "markdown",
      "source": [
        "# Lambda Function"
      ],
      "metadata": {
        "id": "f-YfsATIhJKx"
      }
    },
    {
      "cell_type": "code",
      "source": [
        "numbers = [1, 2, 3, 4, 5]\n",
        "\n",
        "result = list(map(lambda x: x**2, numbers))\n",
        "\n",
        "print(result)"
      ],
      "metadata": {
        "colab": {
          "base_uri": "https://localhost:8080/"
        },
        "id": "_MpCKT0ThK6H",
        "outputId": "06333d4d-46fd-4a29-921b-5497503f828e"
      },
      "execution_count": 8,
      "outputs": [
        {
          "output_type": "stream",
          "name": "stdout",
          "text": [
            "[1, 4, 9, 16, 25]\n"
          ]
        }
      ]
    },
    {
      "cell_type": "markdown",
      "source": [
        "# Exception Handling"
      ],
      "metadata": {
        "id": "UNd72__MhGNn"
      }
    },
    {
      "cell_type": "code",
      "source": [
        "a = 10\n",
        "b = 0\n",
        "\n",
        "try:\n",
        "    result = a/b\n",
        "except ZeroDivisionError:\n",
        "    print(\"Error: Division by zero\")"
      ],
      "metadata": {
        "colab": {
          "base_uri": "https://localhost:8080/"
        },
        "id": "HOxQACNJhH6f",
        "outputId": "2064f060-aed6-4d15-e3c5-79fa6a417ded"
      },
      "execution_count": 7,
      "outputs": [
        {
          "output_type": "stream",
          "name": "stdout",
          "text": [
            "Error: Division by zero\n"
          ]
        }
      ]
    },
    {
      "cell_type": "markdown",
      "source": [
        "# Decorators"
      ],
      "metadata": {
        "id": "IaWsltFnhEId"
      }
    },
    {
      "cell_type": "code",
      "source": [
        "def decorator(func):\n",
        "    def wrapper():\n",
        "        print(\"Before the function is called.\")\n",
        "        func()\n",
        "        print(\"After the function is called.\")\n",
        "    return wrapper\n",
        "\n",
        "@decorator\n",
        "def my_function():\n",
        "    print(\"Inside the function.\")\n",
        "\n",
        "my_function()"
      ],
      "metadata": {
        "colab": {
          "base_uri": "https://localhost:8080/"
        },
        "id": "l7YLF0B-hCxL",
        "outputId": "d55c8d33-fbd7-4024-f0bd-541309c2b690"
      },
      "execution_count": 6,
      "outputs": [
        {
          "output_type": "stream",
          "name": "stdout",
          "text": [
            "Before the function is called.\n",
            "Inside the function.\n",
            "After the function is called.\n"
          ]
        }
      ]
    },
    {
      "cell_type": "markdown",
      "source": [
        "# Collections"
      ],
      "metadata": {
        "id": "xQiDHAudg_t5"
      }
    },
    {
      "cell_type": "code",
      "source": [
        "from collections import Counter\n",
        "\n",
        "words = [\"apple\", \"banana\", \"cherry\", \"apple\", \"banana\", \"apple\"]\n",
        "word_counts = Counter(words)\n",
        "print(word_counts)"
      ],
      "metadata": {
        "colab": {
          "base_uri": "https://localhost:8080/"
        },
        "id": "EXWYVVgdhBPs",
        "outputId": "d383a4f1-02f6-4cb9-d9cc-21518cbfac17"
      },
      "execution_count": 5,
      "outputs": [
        {
          "output_type": "stream",
          "name": "stdout",
          "text": [
            "Counter({'apple': 3, 'banana': 2, 'cherry': 1})\n"
          ]
        }
      ]
    },
    {
      "cell_type": "markdown",
      "source": [
        "# Generators"
      ],
      "metadata": {
        "id": "oncF0oulg8Zt"
      }
    },
    {
      "cell_type": "code",
      "source": [
        "def fibonacci():\n",
        "    a, b = 0, 1\n",
        "    while True:\n",
        "        yield a\n",
        "        a, b = b, a + b\n",
        "\n",
        "fib = fibonacci()\n",
        "for i in range(10):\n",
        "    print(next(fib))"
      ],
      "metadata": {
        "colab": {
          "base_uri": "https://localhost:8080/"
        },
        "id": "ab5G4Cefg-IN",
        "outputId": "35bf5bf2-4ab5-4f4a-8af9-679052594c7a"
      },
      "execution_count": 4,
      "outputs": [
        {
          "output_type": "stream",
          "name": "stdout",
          "text": [
            "0\n",
            "1\n",
            "1\n",
            "2\n",
            "3\n",
            "5\n",
            "8\n",
            "13\n",
            "21\n",
            "34\n"
          ]
        }
      ]
    },
    {
      "cell_type": "markdown",
      "source": [
        "# Magic Methods"
      ],
      "metadata": {
        "id": "qgyYLIzpg2pu"
      }
    },
    {
      "cell_type": "code",
      "source": [
        "class MyClass:\n",
        "    def __init__(self, value):\n",
        "        self.value = value\n",
        "\n",
        "    def __str__(self):\n",
        "        return f\"MyClass(value={self.value})\"\n",
        "\n",
        "obj = MyClass(42)\n",
        "print(obj)"
      ],
      "metadata": {
        "colab": {
          "base_uri": "https://localhost:8080/"
        },
        "id": "aRS3bAyMg1t1",
        "outputId": "c7de03d1-6cf7-4b0c-90a5-1f4ed1769489"
      },
      "execution_count": 2,
      "outputs": [
        {
          "output_type": "stream",
          "name": "stdout",
          "text": [
            "MyClass(value=42)\n"
          ]
        }
      ]
    },
    {
      "cell_type": "markdown",
      "source": [
        "# Threading"
      ],
      "metadata": {
        "id": "Y8bLYzU_gz3Z"
      }
    },
    {
      "cell_type": "code",
      "source": [
        "import threading\n",
        "\n",
        "def increment_counter():\n",
        "    global counter\n",
        "    for i in range(1000000):\n",
        "        counter += 1\n",
        "\n",
        "counter = 0\n",
        "\n",
        "thread1 = threading.Thread(target=increment_counter)\n",
        "thread2 = threading.Thread(target=increment_counter)\n",
        "\n",
        "thread1.start()\n",
        "thread2.start()\n",
        "\n",
        "thread1.join()\n",
        "thread2.join()\n",
        "\n",
        "print(\"Counter value: \", counter)"
      ],
      "metadata": {
        "colab": {
          "base_uri": "https://localhost:8080/"
        },
        "id": "gcJ8fcwBgwct",
        "outputId": "3eadcfbd-3fa0-4d78-ff84-764b3521cb31"
      },
      "execution_count": 1,
      "outputs": [
        {
          "output_type": "stream",
          "name": "stdout",
          "text": [
            "Counter value:  1304965\n"
          ]
        }
      ]
    },
    {
      "cell_type": "markdown",
      "source": [
        "# Regular Expressions"
      ],
      "metadata": {
        "id": "XPNqonxfgx27"
      }
    },
    {
      "cell_type": "code",
      "execution_count": 3,
      "metadata": {
        "colab": {
          "base_uri": "https://localhost:8080/"
        },
        "id": "cdNXN9ZPgrBK",
        "outputId": "bda0ed86-73e6-44b7-8972-143dcebc75bf"
      },
      "outputs": [
        {
          "output_type": "stream",
          "name": "stdout",
          "text": [
            "Enter your email address: test@gmail.com\n",
            "Valid email address\n"
          ]
        }
      ],
      "source": [
        "import re\n",
        "\n",
        "email = input(\"Enter your email address: \")\n",
        "\n",
        "# Define a regular expression for a valid email address\n",
        "regex = r'^[a-zA-Z0-9._%+-]+@[a-zA-Z0-9.-]+\\.[a-zA-Z]{2,}$'\n",
        "\n",
        "# Check if the input matches the regular expression\n",
        "if re.match(regex, email):\n",
        "    print(\"Valid email address\")\n",
        "else:\n",
        "    print(\"Invalid email address\")"
      ]
    }
  ]
}