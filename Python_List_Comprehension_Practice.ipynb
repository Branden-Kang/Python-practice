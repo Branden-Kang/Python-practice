{
  "nbformat": 4,
  "nbformat_minor": 0,
  "metadata": {
    "colab": {
      "name": "Python List Comprehension Practice.ipynb",
      "provenance": [],
      "authorship_tag": "ABX9TyMfgPqfqcjSXHRIXacdT6Mj"
    },
    "kernelspec": {
      "name": "python3",
      "display_name": "Python 3"
    }
  },
  "cells": [
    {
      "cell_type": "markdown",
      "metadata": {
        "id": "-548tkVD-S9A"
      },
      "source": [
        "[Reference](https://medium.com/analytics-vidhya/how-to-up-your-python-list-comprehension-game-31057e63e685)"
      ]
    },
    {
      "cell_type": "code",
      "metadata": {
        "colab": {
          "base_uri": "https://localhost:8080/"
        },
        "id": "hzJjt7tj-QND",
        "outputId": "34186868-62cb-4af7-a52f-2777081185f0"
      },
      "source": [
        "x = 'betterprogramming'\n",
        "y = [i for i in x]\n",
        "y\n",
        "# ['b', 'e', 't', 't', 'e', 'r', 'p', 'r', 'o', 'g', 'r', 'a', 'm', 'm', 'i', 'n', 'g']"
      ],
      "execution_count": 1,
      "outputs": [
        {
          "output_type": "execute_result",
          "data": {
            "text/plain": [
              "['b',\n",
              " 'e',\n",
              " 't',\n",
              " 't',\n",
              " 'e',\n",
              " 'r',\n",
              " 'p',\n",
              " 'r',\n",
              " 'o',\n",
              " 'g',\n",
              " 'r',\n",
              " 'a',\n",
              " 'm',\n",
              " 'm',\n",
              " 'i',\n",
              " 'n',\n",
              " 'g']"
            ]
          },
          "metadata": {
            "tags": []
          },
          "execution_count": 1
        }
      ]
    },
    {
      "cell_type": "code",
      "metadata": {
        "colab": {
          "base_uri": "https://localhost:8080/"
        },
        "id": "7j0dgxWI-X9w",
        "outputId": "8564c6df-ce5e-4111-f981-9c540dd557cd"
      },
      "source": [
        "# Adding if condition to the comprehension\n",
        "x = 'betterprogramming'\n",
        "y = [i for i in x if x != 't']\n",
        "y\n",
        "# ['b', 'e', 'e', 'r', 'p', 'r', 'o', 'g', 'r', 'a', 'm', 'm', 'i', 'n', 'g']# Adding if-else condition to the comprehension\n",
        "y = [i if x != 'b' else 'f' for i in x]\n",
        "y\n",
        "# ['f', 'e', 't', 't', 'e', 'r', 'p', 'r', 'o', 'g', 'r', 'a', 'm', 'm', 'i', 'n', 'g']"
      ],
      "execution_count": 2,
      "outputs": [
        {
          "output_type": "execute_result",
          "data": {
            "text/plain": [
              "['b',\n",
              " 'e',\n",
              " 't',\n",
              " 't',\n",
              " 'e',\n",
              " 'r',\n",
              " 'p',\n",
              " 'r',\n",
              " 'o',\n",
              " 'g',\n",
              " 'r',\n",
              " 'a',\n",
              " 'm',\n",
              " 'm',\n",
              " 'i',\n",
              " 'n',\n",
              " 'g']"
            ]
          },
          "metadata": {
            "tags": []
          },
          "execution_count": 2
        }
      ]
    },
    {
      "cell_type": "code",
      "metadata": {
        "id": "1HJdoWf--bZ6"
      },
      "source": [
        "x = [[98, 101, 116, 116, 101, 114], [112, 114, 111, 103, 114, 97, 109, 109, 105, 110, 103]]\n",
        "\n",
        "res = []\n",
        "for i in x:\n",
        "    ires = []\n",
        "    for j in i:\n",
        "        ires.append(chr(j))\n",
        "    res.append(ires)# [['b', 'e', 't', 't', 'e', 'r'], ['p', 'r', 'o', 'g', 'r', 'a', 'm', 'm', 'i', 'n', 'g']]"
      ],
      "execution_count": 4,
      "outputs": []
    },
    {
      "cell_type": "code",
      "metadata": {
        "colab": {
          "base_uri": "https://localhost:8080/"
        },
        "id": "KTZCdddD-fci",
        "outputId": "dbe8a060-ead2-4969-8fa4-267dd0182a50"
      },
      "source": [
        "res"
      ],
      "execution_count": 5,
      "outputs": [
        {
          "output_type": "execute_result",
          "data": {
            "text/plain": [
              "[['b', 'e', 't', 't', 'e', 'r'],\n",
              " ['p', 'r', 'o', 'g', 'r', 'a', 'm', 'm', 'i', 'n', 'g']]"
            ]
          },
          "metadata": {
            "tags": []
          },
          "execution_count": 5
        }
      ]
    },
    {
      "cell_type": "code",
      "metadata": {
        "id": "uB05GGA7-h3j"
      },
      "source": [
        "x = [[98, 101, 116, 116, 101, 114], [112, 114, 111, 103, 114, 97, 109, 109, 105, 110, 103]]\n",
        "\n",
        "res = [[chr(j) for j in i] for i in x]# [['b', 'e', 't', 't', 'e', 'r'], ['p', 'r', 'o', 'g', 'r', 'a', 'm', 'm', 'i', 'n', 'g']]"
      ],
      "execution_count": 6,
      "outputs": []
    },
    {
      "cell_type": "code",
      "metadata": {
        "colab": {
          "base_uri": "https://localhost:8080/"
        },
        "id": "5k_Bno-A-ls3",
        "outputId": "88181a70-e557-4565-975a-b26f394b7301"
      },
      "source": [
        "res"
      ],
      "execution_count": 7,
      "outputs": [
        {
          "output_type": "execute_result",
          "data": {
            "text/plain": [
              "[['b', 'e', 't', 't', 'e', 'r'],\n",
              " ['p', 'r', 'o', 'g', 'r', 'a', 'm', 'm', 'i', 'n', 'g']]"
            ]
          },
          "metadata": {
            "tags": []
          },
          "execution_count": 7
        }
      ]
    },
    {
      "cell_type": "code",
      "metadata": {
        "colab": {
          "base_uri": "https://localhost:8080/"
        },
        "id": "-W9OzcXx-mIK",
        "outputId": "d489b60c-9127-41eb-d0c2-5630f8e8dfa9"
      },
      "source": [
        "x = [[98, 101, 116, 116, 101, 114], [112, 114, 111, 103, 114, 97, 109, 109, 105, 110, 103]]\n",
        "\n",
        "# Using if conditional\n",
        "\n",
        "res = [[chr(j) for j in i if j != 116] for i in x]\n",
        "res\n",
        "# [['b', 'e', 'e', 'r'], ['p', 'r', 'o', 'g', 'r', 'a', 'm', 'm', 'i', 'n', 'g']]\n",
        "\n",
        "# Using if-else conditional\n",
        "\n",
        "res = [[chr(j) if j != 98 else 'f' for j in i] for i in x]\n",
        "res\n",
        "# [['f', 'e', 't', 't', 'e', 'r'], ['p', 'r', 'o', 'g', 'r', 'a', 'm', 'm', 'i', 'n', 'g']]"
      ],
      "execution_count": 8,
      "outputs": [
        {
          "output_type": "execute_result",
          "data": {
            "text/plain": [
              "[['f', 'e', 't', 't', 'e', 'r'],\n",
              " ['p', 'r', 'o', 'g', 'r', 'a', 'm', 'm', 'i', 'n', 'g']]"
            ]
          },
          "metadata": {
            "tags": []
          },
          "execution_count": 8
        }
      ]
    }
  ]
}