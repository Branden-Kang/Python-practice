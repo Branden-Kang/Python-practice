{
  "nbformat": 4,
  "nbformat_minor": 0,
  "metadata": {
    "colab": {
      "provenance": [],
      "authorship_tag": "ABX9TyM/q6stysVoCEA28RdV0uKr"
    },
    "kernelspec": {
      "name": "python3",
      "display_name": "Python 3"
    },
    "language_info": {
      "name": "python"
    }
  },
  "cells": [
    {
      "cell_type": "markdown",
      "source": [
        "[Reference](https://towardsdatascience.com/scaling-agglomerative-clustering-for-big-data-an-introduction-to-rac-fb26a6b326ad)"
      ],
      "metadata": {
        "id": "dQMUKMdj7ESj"
      }
    },
    {
      "cell_type": "code",
      "source": [
        "pip install racplusplus"
      ],
      "metadata": {
        "colab": {
          "base_uri": "https://localhost:8080/"
        },
        "id": "m4VDt-_x8Sxz",
        "outputId": "63b82327-974d-4042-e97b-e5b12ea40f98"
      },
      "execution_count": 5,
      "outputs": [
        {
          "output_type": "stream",
          "name": "stdout",
          "text": [
            "Collecting racplusplus\n",
            "  Downloading racplusplus-0.1.1-cp310-cp310-manylinux_2_17_x86_64.manylinux2014_x86_64.whl (1.5 MB)\n",
            "\u001b[?25l     \u001b[90m━━━━━━━━━━━━━━━━━━━━━━━━━━━━━━━━━━━━━━━━\u001b[0m \u001b[32m0.0/1.5 MB\u001b[0m \u001b[31m?\u001b[0m eta \u001b[36m-:--:--\u001b[0m\r\u001b[2K     \u001b[91m━━━━━━━━━━━━━━━━\u001b[0m\u001b[91m╸\u001b[0m\u001b[90m━━━━━━━━━━━━━━━━━━━━━━━\u001b[0m \u001b[32m0.6/1.5 MB\u001b[0m \u001b[31m18.5 MB/s\u001b[0m eta \u001b[36m0:00:01\u001b[0m\r\u001b[2K     \u001b[90m━━━━━━━━━━━━━━━━━━━━━━━━━━━━━━━━━━━━━━━━\u001b[0m \u001b[32m1.5/1.5 MB\u001b[0m \u001b[31m27.9 MB/s\u001b[0m eta \u001b[36m0:00:00\u001b[0m\n",
            "\u001b[?25hInstalling collected packages: racplusplus\n",
            "Successfully installed racplusplus-0.1.1\n"
          ]
        }
      ]
    },
    {
      "cell_type": "code",
      "execution_count": 9,
      "metadata": {
        "id": "0GPvI2Kn6OMt"
      },
      "outputs": [],
      "source": [
        "import numpy as np\n",
        "import racplusplus\n",
        "from sklearn.cluster import AgglomerativeClustering\n",
        "import sklearn\n",
        "import time\n",
        "\n",
        "sklearn_times = []\n",
        "rac_times = []\n",
        "\n",
        "points = [1000, 2000, 4000, 6000, 10000, 14000, 18000, 22000, 26000, 32000, 64000]\n",
        "for point_no in points:\n",
        "  X = np.random.random((point_no, 25))\n",
        "  distance_threshold = .17\n",
        "  knn = sklearn.neighbors.kneighbors_graph(X, 30, include_self=False)\n",
        "  # Matrix must be symmetric - done internally in scikit-learn\n",
        "  symmetric = knn + knn.T\n",
        "  start = time.time()\n",
        "  model = AgglomerativeClustering(\n",
        "    linkage=\"average\",\n",
        "    connectivity=knn,\n",
        "    n_clusters=None,\n",
        "    distance_threshold=distance_threshold,\n",
        "    metric='cosine'\n",
        "    )\n",
        "sklearn_times.append(time.time() - start)\n",
        "start = time.time()\n",
        "rac_labels = racplusplus.rac(\n",
        "  X, distance_threshold, symmetric,\n",
        "  batch_size=1000, no_cores=8, metric=\"cosine\"\n",
        "  )\n",
        "rac_times.append(time.time() - start)"
      ]
    }
  ]
}