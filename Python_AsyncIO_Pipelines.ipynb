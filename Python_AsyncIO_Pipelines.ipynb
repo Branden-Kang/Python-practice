{
  "nbformat": 4,
  "nbformat_minor": 0,
  "metadata": {
    "colab": {
      "name": "Python AsyncIO Pipelines.ipynb",
      "provenance": [],
      "authorship_tag": "ABX9TyOcj+PZ6nBMO9w6jbdafnaQ"
    },
    "kernelspec": {
      "name": "python3",
      "display_name": "Python 3"
    }
  },
  "cells": [
    {
      "cell_type": "markdown",
      "metadata": {
        "id": "KlWyleO5P_JN"
      },
      "source": [
        "[Reference](https://towardsdatascience.com/blazing-hot-python-asyncio-pipelines-438b34bed9f)"
      ]
    },
    {
      "cell_type": "code",
      "metadata": {
        "colab": {
          "base_uri": "https://localhost:8080/"
        },
        "id": "ikXlsEnMP9_P",
        "outputId": "74ae1438-8470-410d-b912-f40af41cce51"
      },
      "source": [
        "import time\n",
        "\n",
        "def func(targets, task_id, param=None):\n",
        "    print(f\"{task_id}: Initialised with param: {param}\")\n",
        "    while True:\n",
        "        inpt = (yield)\n",
        "        print(f\"{task_id}: Received input: {inpt}\")\n",
        "        time.sleep(1)  # simulated IO delay\n",
        "        for target in targets:\n",
        "            print(f\"{task_id}: T1 sending {inpt}\")\n",
        "            target.send(inpt)\n",
        "\n",
        "gen2 = func([], 'T2',  \"hello T2\")\n",
        "gen2.send(None)\n",
        "\n",
        "gen1 = func([gen2], 'T1',  \"hello T1\")\n",
        "gen1.send(None)\n",
        "\n",
        "start_time = time.time()\n",
        "gen1.send(1)\n",
        "gen1.send(2)\n",
        "gen1.send(3)\n",
        "print(f\"Duration: {time.time() - start_time}\")"
      ],
      "execution_count": 3,
      "outputs": [
        {
          "output_type": "stream",
          "text": [
            "T2: Initialised with param: hello T2\n",
            "T1: Initialised with param: hello T1\n",
            "T1: Received input: 1\n",
            "T1: T1 sending 1\n",
            "T2: Received input: 1\n",
            "T1: Received input: 2\n",
            "T1: T1 sending 2\n",
            "T2: Received input: 2\n",
            "T1: Received input: 3\n",
            "T1: T1 sending 3\n",
            "T2: Received input: 3\n",
            "Duration: 6.00875449180603\n"
          ],
          "name": "stdout"
        }
      ]
    },
    {
      "cell_type": "code",
      "metadata": {
        "colab": {
          "base_uri": "https://localhost:8080/",
          "height": 368
        },
        "id": "zD2k7qFDQqtY",
        "outputId": "8137ec43-c5ee-4060-fe39-bb244702d19f"
      },
      "source": [
        "import asyncio\n",
        "import time\n",
        "\n",
        "tasks = []\n",
        "\n",
        "def func(targets, task_id, param):\n",
        "    print(f\"{task_id}: Initialised with param: {param}\")\n",
        "\n",
        "    async def func_inner(targets, inpt):\n",
        "        await asyncio.sleep(1)  # simulated IO delay\n",
        "        print(f\"{task_id}: Received input: {inpt}\")\n",
        "        outp = inpt\n",
        "        for target in targets or []:\n",
        "            print(f\"{task_id}: T1 sending {outp}\")\n",
        "            target.send(outp)\n",
        "\n",
        "    while True:\n",
        "        inpt = (yield)\n",
        "        print(f'{task_id}: Creating task with {task_id}_inner, input {inpt}.')\n",
        "        tasks.append(asyncio.create_task(func_inner(targets, inpt)))\n",
        "\n",
        "\n",
        "async def main():\n",
        "    gen2 = func([], 'T2', \"hello T2\")\n",
        "    gen2.send(None)\n",
        "\n",
        "    gen1 = func([gen2], 'T1', \"hello T1\")\n",
        "    gen1.send(None)\n",
        "\n",
        "    start_time = time.time()\n",
        "    gen1.send(1)\n",
        "    gen1.send(2)\n",
        "    gen1.send(3)\n",
        "\n",
        "    await asyncio.gather(*tasks)\n",
        "    await asyncio.gather(*tasks)  # round 2\n",
        "    print(f\"Duration: {time.time() - start_time}\")\n",
        "\n",
        "asyncio.run(main())"
      ],
      "execution_count": 2,
      "outputs": [
        {
          "output_type": "error",
          "ename": "RuntimeError",
          "evalue": "ignored",
          "traceback": [
            "\u001b[0;31m---------------------------------------------------------------------------\u001b[0m",
            "\u001b[0;31mRuntimeError\u001b[0m                              Traceback (most recent call last)",
            "\u001b[0;32m<ipython-input-2-280f55648dfa>\u001b[0m in \u001b[0;36m<module>\u001b[0;34m()\u001b[0m\n\u001b[1;32m     37\u001b[0m     \u001b[0mprint\u001b[0m\u001b[0;34m(\u001b[0m\u001b[0;34mf\"Duration: {time.time() - start_time}\"\u001b[0m\u001b[0;34m)\u001b[0m\u001b[0;34m\u001b[0m\u001b[0;34m\u001b[0m\u001b[0m\n\u001b[1;32m     38\u001b[0m \u001b[0;34m\u001b[0m\u001b[0m\n\u001b[0;32m---> 39\u001b[0;31m \u001b[0masyncio\u001b[0m\u001b[0;34m.\u001b[0m\u001b[0mrun\u001b[0m\u001b[0;34m(\u001b[0m\u001b[0mmain\u001b[0m\u001b[0;34m(\u001b[0m\u001b[0;34m)\u001b[0m\u001b[0;34m)\u001b[0m\u001b[0;34m\u001b[0m\u001b[0;34m\u001b[0m\u001b[0m\n\u001b[0m",
            "\u001b[0;32m/usr/lib/python3.7/asyncio/runners.py\u001b[0m in \u001b[0;36mrun\u001b[0;34m(main, debug)\u001b[0m\n\u001b[1;32m     32\u001b[0m     \u001b[0;32mif\u001b[0m \u001b[0mevents\u001b[0m\u001b[0;34m.\u001b[0m\u001b[0m_get_running_loop\u001b[0m\u001b[0;34m(\u001b[0m\u001b[0;34m)\u001b[0m \u001b[0;32mis\u001b[0m \u001b[0;32mnot\u001b[0m \u001b[0;32mNone\u001b[0m\u001b[0;34m:\u001b[0m\u001b[0;34m\u001b[0m\u001b[0;34m\u001b[0m\u001b[0m\n\u001b[1;32m     33\u001b[0m         raise RuntimeError(\n\u001b[0;32m---> 34\u001b[0;31m             \"asyncio.run() cannot be called from a running event loop\")\n\u001b[0m\u001b[1;32m     35\u001b[0m \u001b[0;34m\u001b[0m\u001b[0m\n\u001b[1;32m     36\u001b[0m     \u001b[0;32mif\u001b[0m \u001b[0;32mnot\u001b[0m \u001b[0mcoroutines\u001b[0m\u001b[0;34m.\u001b[0m\u001b[0miscoroutine\u001b[0m\u001b[0;34m(\u001b[0m\u001b[0mmain\u001b[0m\u001b[0;34m)\u001b[0m\u001b[0;34m:\u001b[0m\u001b[0;34m\u001b[0m\u001b[0;34m\u001b[0m\u001b[0m\n",
            "\u001b[0;31mRuntimeError\u001b[0m: asyncio.run() cannot be called from a running event loop"
          ]
        }
      ]
    },
    {
      "cell_type": "code",
      "metadata": {
        "id": "g-gUbo1sQ50e",
        "outputId": "9bf148da-eea0-4338-9b41-92da1dfa1a4a",
        "colab": {
          "base_uri": "https://localhost:8080/",
          "height": 368
        }
      },
      "source": [
        "import asyncio\n",
        "import time\n",
        "\n",
        "tasks = []\n",
        "\n",
        "async def func(input_q, target_qs, task_id, param):\n",
        "    print(f\"{task_id}: Initialised with param: {param}\")\n",
        "\n",
        "    async def func_inner(input_q, target_qs, inpt):\n",
        "        print(f\"{task_id}: Recieved input: {inpt}\")\n",
        "        await asyncio.sleep(1)  # simulated IO delay\n",
        "        outp = inpt\n",
        "        for target_q in target_qs or []:\n",
        "            print(f\"{task_id}: T1 sending {outp}\")\n",
        "            await target_q.put(outp)\n",
        "        input_q.task_done()\n",
        "\n",
        "    while True:\n",
        "        inpt = await input_q.get()\n",
        "        print(f'{task_id}: Creating task with {task_id}_inner, input {inpt}.')\n",
        "        tasks.append(asyncio.create_task(func_inner(input_q, target_qs, inpt)))\n",
        "\n",
        "\n",
        "async def main():\n",
        "    q2 = asyncio.Queue()\n",
        "    coro2 = func(q2, [], 'T2', \"hello T2\")\n",
        "    asyncio.create_task(coro2)\n",
        "\n",
        "    q1 = asyncio.Queue()\n",
        "    coro1 = func(q1, [q2], 'T1', \"hello T1\")\n",
        "    asyncio.create_task(coro1)\n",
        "\n",
        "    start_time = time.time()\n",
        "    await q1.put(1)\n",
        "    await q1.put(2)\n",
        "    await q1.put(3)\n",
        "\n",
        "    await q1.join()\n",
        "    await q2.join()\n",
        "    await asyncio.gather(*tasks)\n",
        "    print(f\"Duration: {time.time() - start_time}\")\n",
        "\n",
        "asyncio.run(main())"
      ],
      "execution_count": 4,
      "outputs": [
        {
          "output_type": "error",
          "ename": "RuntimeError",
          "evalue": "ignored",
          "traceback": [
            "\u001b[0;31m---------------------------------------------------------------------------\u001b[0m",
            "\u001b[0;31mRuntimeError\u001b[0m                              Traceback (most recent call last)",
            "\u001b[0;32m<ipython-input-4-8da4aa7c30f8>\u001b[0m in \u001b[0;36m<module>\u001b[0;34m()\u001b[0m\n\u001b[1;32m     41\u001b[0m     \u001b[0mprint\u001b[0m\u001b[0;34m(\u001b[0m\u001b[0;34mf\"Duration: {time.time() - start_time}\"\u001b[0m\u001b[0;34m)\u001b[0m\u001b[0;34m\u001b[0m\u001b[0;34m\u001b[0m\u001b[0m\n\u001b[1;32m     42\u001b[0m \u001b[0;34m\u001b[0m\u001b[0m\n\u001b[0;32m---> 43\u001b[0;31m \u001b[0masyncio\u001b[0m\u001b[0;34m.\u001b[0m\u001b[0mrun\u001b[0m\u001b[0;34m(\u001b[0m\u001b[0mmain\u001b[0m\u001b[0;34m(\u001b[0m\u001b[0;34m)\u001b[0m\u001b[0;34m)\u001b[0m\u001b[0;34m\u001b[0m\u001b[0;34m\u001b[0m\u001b[0m\n\u001b[0m",
            "\u001b[0;32m/usr/lib/python3.7/asyncio/runners.py\u001b[0m in \u001b[0;36mrun\u001b[0;34m(main, debug)\u001b[0m\n\u001b[1;32m     32\u001b[0m     \u001b[0;32mif\u001b[0m \u001b[0mevents\u001b[0m\u001b[0;34m.\u001b[0m\u001b[0m_get_running_loop\u001b[0m\u001b[0;34m(\u001b[0m\u001b[0;34m)\u001b[0m \u001b[0;32mis\u001b[0m \u001b[0;32mnot\u001b[0m \u001b[0;32mNone\u001b[0m\u001b[0;34m:\u001b[0m\u001b[0;34m\u001b[0m\u001b[0;34m\u001b[0m\u001b[0m\n\u001b[1;32m     33\u001b[0m         raise RuntimeError(\n\u001b[0;32m---> 34\u001b[0;31m             \"asyncio.run() cannot be called from a running event loop\")\n\u001b[0m\u001b[1;32m     35\u001b[0m \u001b[0;34m\u001b[0m\u001b[0m\n\u001b[1;32m     36\u001b[0m     \u001b[0;32mif\u001b[0m \u001b[0;32mnot\u001b[0m \u001b[0mcoroutines\u001b[0m\u001b[0;34m.\u001b[0m\u001b[0miscoroutine\u001b[0m\u001b[0;34m(\u001b[0m\u001b[0mmain\u001b[0m\u001b[0;34m)\u001b[0m\u001b[0;34m:\u001b[0m\u001b[0;34m\u001b[0m\u001b[0;34m\u001b[0m\u001b[0m\n",
            "\u001b[0;31mRuntimeError\u001b[0m: asyncio.run() cannot be called from a running event loop"
          ]
        }
      ]
    }
  ]
}