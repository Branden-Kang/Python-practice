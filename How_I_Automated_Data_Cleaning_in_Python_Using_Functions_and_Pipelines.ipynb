{
  "nbformat": 4,
  "nbformat_minor": 0,
  "metadata": {
    "colab": {
      "provenance": [],
      "authorship_tag": "ABX9TyPyZJ2+CHhi0BgtarBRbwH9"
    },
    "kernelspec": {
      "name": "python3",
      "display_name": "Python 3"
    },
    "language_info": {
      "name": "python"
    }
  },
  "cells": [
    {
      "cell_type": "markdown",
      "source": [
        "[Reference](https://python.plainenglish.io/how-i-automated-data-cleaning-in-python-using-functions-and-pipelines-95b8ad0f6ea5)"
      ],
      "metadata": {
        "id": "La6kOFdkTe30"
      }
    },
    {
      "cell_type": "markdown",
      "source": [
        "# Step 1: Automating Missing Values Handling with Python Functions"
      ],
      "metadata": {
        "id": "zmSwfhaKTjxa"
      }
    },
    {
      "cell_type": "code",
      "execution_count": 1,
      "metadata": {
        "colab": {
          "base_uri": "https://localhost:8080/"
        },
        "id": "mxIuNoS1TchG",
        "outputId": "d0988fd8-0afc-4c62-d44c-7a6a52ede518"
      },
      "outputs": [
        {
          "output_type": "stream",
          "name": "stdout",
          "text": [
            "    Name        Age        Salary\n",
            "0  Alice  25.000000  50000.000000\n",
            "1    Bob  25.666667  60000.000000\n",
            "2   None  30.000000  51666.666667\n",
            "3  David  22.000000  45000.000000\n"
          ]
        }
      ],
      "source": [
        "import pandas as pd\n",
        "\n",
        "# Define a reusable function to handle missing values\n",
        "def handle_missing_values(df, method='mean', fill_value=None):\n",
        "    if method == 'drop':\n",
        "        return df.dropna()\n",
        "    elif method == 'fill':\n",
        "        return df.fillna(fill_value)\n",
        "    elif method == 'mean':\n",
        "        numeric_cols = df.select_dtypes(include='number').columns\n",
        "        df[numeric_cols] = df[numeric_cols].fillna(df[numeric_cols].mean())\n",
        "        return df\n",
        "    else:\n",
        "        raise ValueError(\"Invalid method provided\")\n",
        "\n",
        "# Example dataset\n",
        "data = {'Name': ['Alice', 'Bob', None, 'David'],\n",
        "        'Age': [25, None, 30, 22],\n",
        "        'Salary': [50000, 60000, None, 45000]}\n",
        "df = pd.DataFrame(data)\n",
        "\n",
        "# Use the function to handle missing values by filling with the mean\n",
        "cleaned_df = handle_missing_values(df, method='mean')\n",
        "print(cleaned_df)"
      ]
    },
    {
      "cell_type": "markdown",
      "source": [
        "# Step 2: Removing Duplicates Efficiently"
      ],
      "metadata": {
        "id": "3Aq2PtYAToF-"
      }
    },
    {
      "cell_type": "code",
      "source": [
        "# Define a function to remove duplicates based on specific columns\n",
        "def remove_duplicates(df, subset=None):\n",
        "    return df.drop_duplicates(subset=subset)\n",
        "\n",
        "# Example dataset with duplicates\n",
        "data = {'Name': ['Alice', 'Bob', 'Alice', 'David'],\n",
        "        'Age': [25, 30, 25, 22],\n",
        "        'Salary': [50000, 60000, 50000, 45000]}\n",
        "df = pd.DataFrame(data)\n",
        "\n",
        "# Remove duplicates based on the 'Name' column\n",
        "cleaned_df = remove_duplicates(df, subset=['Name'])\n",
        "print(cleaned_df)"
      ],
      "metadata": {
        "colab": {
          "base_uri": "https://localhost:8080/"
        },
        "id": "zGhlUBYUTmoV",
        "outputId": "751d6957-0ad7-4ae7-ce7c-d2fe200f9ee5"
      },
      "execution_count": 2,
      "outputs": [
        {
          "output_type": "stream",
          "name": "stdout",
          "text": [
            "    Name  Age  Salary\n",
            "0  Alice   25   50000\n",
            "1    Bob   30   60000\n",
            "3  David   22   45000\n"
          ]
        }
      ]
    },
    {
      "cell_type": "markdown",
      "source": [
        "# Step 3: Transforming Data Types in a Pipeline"
      ],
      "metadata": {
        "id": "2ByN6bITT4UE"
      }
    },
    {
      "cell_type": "code",
      "source": [
        "# Define a function to transform data types\n",
        "def transform_data_types(df, col_types):\n",
        "    for col, dtype in col_types.items():\n",
        "        df[col] = df[col].astype(dtype)\n",
        "    return df\n",
        "\n",
        "# Example dataset with incorrect data types\n",
        "data = {'Name': ['Alice', 'Bob', 'David'],\n",
        "        'Age': ['25', '30', '22'],\n",
        "        'Salary': ['50000', '60000', '45000']}\n",
        "df = pd.DataFrame(data)\n",
        "\n",
        "# Specify the correct data types\n",
        "col_types = {'Age': 'int', 'Salary': 'float'}\n",
        "\n",
        "# Apply the transformation\n",
        "cleaned_df = transform_data_types(df, col_types)\n",
        "print(cleaned_df.dtypes)"
      ],
      "metadata": {
        "colab": {
          "base_uri": "https://localhost:8080/"
        },
        "id": "zNapzNlWT2vB",
        "outputId": "135dd035-0d22-4a40-9330-9f3b539dd8a4"
      },
      "execution_count": 3,
      "outputs": [
        {
          "output_type": "stream",
          "name": "stdout",
          "text": [
            "Name       object\n",
            "Age         int64\n",
            "Salary    float64\n",
            "dtype: object\n"
          ]
        }
      ]
    },
    {
      "cell_type": "markdown",
      "source": [
        "# Step 4: Building an Automated Data Cleaning Pipeline"
      ],
      "metadata": {
        "id": "e8PoQBPsUBl9"
      }
    },
    {
      "cell_type": "code",
      "source": [
        "# Build a complete data cleaning pipeline\n",
        "def data_cleaning_pipeline(df, missing_values_method='mean', fill_value=None, subset=None, col_types=None):\n",
        "    # Handle missing values\n",
        "    df = handle_missing_values(df, method=missing_values_method, fill_value=fill_value)\n",
        "\n",
        "    # Remove duplicates\n",
        "    df = remove_duplicates(df, subset=subset)\n",
        "\n",
        "    # Transform data types\n",
        "    if col_types:\n",
        "        df = transform_data_types(df, col_types)\n",
        "\n",
        "    return df\n",
        "\n",
        "# Example dataset with various issues\n",
        "data = {'Name': ['Alice', 'Bob', None, 'Alice'],\n",
        "        'Age': ['25', None, '30', '22'],\n",
        "        'Salary': [50000, 60000, None, 50000]}\n",
        "\n",
        "df = pd.DataFrame(data)\n",
        "\n",
        "# Define data types and run the pipeline\n",
        "col_types = {'Age': 'int', 'Salary': 'float'}\n",
        "cleaned_df = data_cleaning_pipeline(df, missing_values_method='mean', subset=['Name'], col_types=col_types)\n",
        "print(cleaned_df)"
      ],
      "metadata": {
        "id": "dkjeFcTUT5xR"
      },
      "execution_count": 5,
      "outputs": []
    }
  ]
}