{
  "nbformat": 4,
  "nbformat_minor": 0,
  "metadata": {
    "colab": {
      "name": "Type Hints in Python.ipynb",
      "provenance": [],
      "authorship_tag": "ABX9TyMjj2DBE5ulZsLNp3pK+U26"
    },
    "kernelspec": {
      "name": "python3",
      "display_name": "Python 3"
    }
  },
  "cells": [
    {
      "cell_type": "markdown",
      "metadata": {
        "id": "-Xm60D46_o_I"
      },
      "source": [
        "[Reference](https://medium.com/@prozeth/dont-be-afraid-of-python-s-type-hints-c3fcb7cda4d9)"
      ]
    },
    {
      "cell_type": "code",
      "metadata": {
        "id": "BHSm_btz_nST"
      },
      "source": [
        "\"\"\"Type hint example\"\"\"\n",
        "\n",
        "\n",
        "class TeaMaker:\n",
        "    \"\"\"\n",
        "    A robot that makes tea.\n",
        "    \"\"\"\n",
        "\n",
        "    def __init__(self,\n",
        "                 boiler: Boiler,\n",
        "                 dispenser: Dispenser):\n",
        "        self.boiler = boiler\n",
        "        self.dispenser = dispenser\n",
        "\n",
        "    def make_tea(self, milk: bool, sugar: int) -> Drink:\n",
        "        \"\"\"Make tea for the customer\n",
        "        \"\"\"\n",
        "        # Imagine an implementation here\n",
        "        pass"
      ],
      "execution_count": 2,
      "outputs": []
    },
    {
      "cell_type": "code",
      "metadata": {
        "id": "pZSuFJAk_rzL"
      },
      "source": [
        "\"\"\"Simple dataclass example\"\"\"\n",
        "\n",
        "from dataclasses import dataclass\n",
        "\n",
        "\n",
        "@dataclass\n",
        "class TeaMaker:\n",
        "    \"\"\"\n",
        "    A robot that makes tea.\n",
        "    \"\"\"\n",
        "    boiler: Boiler\n",
        "    dispenser: Dispenser\n",
        "\n",
        "    def make_tea(self, milk: bool, sugar: int) -> Drink:\n",
        "        \"\"\"Make tea for the customer\n",
        "        \"\"\"\n",
        "        # Imagine an implementation here\n",
        "        pass"
      ],
      "execution_count": 4,
      "outputs": []
    },
    {
      "cell_type": "code",
      "metadata": {
        "id": "Dd4lviE5Aceh"
      },
      "source": [
        "\"\"\"Some dispenser subclasses.\"\"\"\n",
        "\n",
        "\n",
        "class Caddy(Dispenser):\n",
        "    def dispense(self):\n",
        "        \"\"\"Gives an object at home.\"\"\"\n",
        "        pass\n",
        "\n",
        "class SpacePouch(Dispenser):\n",
        "    def dispense(self):\n",
        "        \"\"\"Gives an object on the International Space Station.\"\"\"\n",
        "        pass"
      ],
      "execution_count": 6,
      "outputs": []
    }
  ]
}