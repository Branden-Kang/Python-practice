{
  "nbformat": 4,
  "nbformat_minor": 0,
  "metadata": {
    "colab": {
      "name": "Python 3, Tips and Best Practices to avoid common errors.ipynb",
      "provenance": [],
      "authorship_tag": "ABX9TyML54pt0mQFBMCG+PWPKzvX"
    },
    "kernelspec": {
      "name": "python3",
      "display_name": "Python 3"
    },
    "language_info": {
      "name": "python"
    }
  },
  "cells": [
    {
      "cell_type": "markdown",
      "metadata": {
        "id": "85EvRLqEmqB_"
      },
      "source": [
        "[Reference](https://medium.com/cgnal-tech/python-3-tips-and-best-practices-58b095affbc1)"
      ]
    },
    {
      "cell_type": "markdown",
      "metadata": {
        "id": "JzDz0ciYmz_S"
      },
      "source": [
        "# 1. Do not use dynamic default arguments"
      ]
    },
    {
      "cell_type": "code",
      "metadata": {
        "colab": {
          "base_uri": "https://localhost:8080/"
        },
        "id": "boFpVTJVmBzV",
        "outputId": "c8c43235-f932-40b0-e1ec-d1c2ba173d0b"
      },
      "source": [
        "from datetime import datetime\n",
        "from time import sleep\n",
        " \n",
        "def print_time(when: datetime = datetime.now()):\n",
        "    print(f'This function was called at: {when}')\n",
        "\n",
        "print_time()\n",
        "sleep(0.5)\n",
        "print_time()"
      ],
      "execution_count": 1,
      "outputs": [
        {
          "output_type": "stream",
          "text": [
            "This function was called at: 2021-08-26 13:17:15.847442\n",
            "This function was called at: 2021-08-26 13:17:15.847442\n"
          ],
          "name": "stdout"
        }
      ]
    },
    {
      "cell_type": "code",
      "metadata": {
        "colab": {
          "base_uri": "https://localhost:8080/"
        },
        "id": "xbdYJhI-m2sq",
        "outputId": "50ad5c15-efe9-44dd-f853-21ccdc73e978"
      },
      "source": [
        "from typing import Optional \n",
        "\n",
        "def print_time(when: Optional[datetime] = None):\n",
        "   if when is None:\n",
        "       when = datetime.now()\n",
        "   print(f'This function was called at: {when}')\n",
        "   \n",
        "print_time()\n",
        "sleep(0.5)\n",
        "print_time()"
      ],
      "execution_count": 2,
      "outputs": [
        {
          "output_type": "stream",
          "text": [
            "This function was called at: 2021-08-26 13:20:17.550484\n",
            "This function was called at: 2021-08-26 13:20:18.051358\n"
          ],
          "name": "stdout"
        }
      ]
    },
    {
      "cell_type": "code",
      "metadata": {
        "colab": {
          "base_uri": "https://localhost:8080/"
        },
        "id": "JU4RGIV4nksq",
        "outputId": "0bd65168-47c5-4c46-ca0c-80aeb0fd0ad8"
      },
      "source": [
        "from typing import List\n",
        "\n",
        "def foo(element: float, data: List[float] = []) -> List:\n",
        "    data.append(element)\n",
        "    return data\n",
        "    \n",
        "foo(5)"
      ],
      "execution_count": 4,
      "outputs": [
        {
          "output_type": "execute_result",
          "data": {
            "text/plain": [
              "[5]"
            ]
          },
          "metadata": {},
          "execution_count": 4
        }
      ]
    },
    {
      "cell_type": "code",
      "metadata": {
        "colab": {
          "base_uri": "https://localhost:8080/"
        },
        "id": "4vwJs-h6nm57",
        "outputId": "c6aab70d-9df8-49a9-ce93-b39a7fd7678d"
      },
      "source": [
        "foo(5)"
      ],
      "execution_count": 5,
      "outputs": [
        {
          "output_type": "execute_result",
          "data": {
            "text/plain": [
              "[5, 5]"
            ]
          },
          "metadata": {},
          "execution_count": 5
        }
      ]
    },
    {
      "cell_type": "code",
      "metadata": {
        "colab": {
          "base_uri": "https://localhost:8080/"
        },
        "id": "vRnQ97mfnn7i",
        "outputId": "874be46a-a74b-4ade-b229-eabc850b84fd"
      },
      "source": [
        "foo(5)"
      ],
      "execution_count": 6,
      "outputs": [
        {
          "output_type": "execute_result",
          "data": {
            "text/plain": [
              "[5, 5, 5]"
            ]
          },
          "metadata": {},
          "execution_count": 6
        }
      ]
    },
    {
      "cell_type": "code",
      "metadata": {
        "colab": {
          "base_uri": "https://localhost:8080/"
        },
        "id": "uGt7fBwunoJS",
        "outputId": "c8583de5-0418-4765-9650-9ddc4cdc0d5a"
      },
      "source": [
        "from typing import List, Optional\n",
        "\n",
        "def foo(element: float, data: Optional[List] = None) -> List:\n",
        "    if data is None:\n",
        "        data = []\n",
        "    data.append(element)\n",
        "    return data\n",
        "    \n",
        "foo(5)"
      ],
      "execution_count": 7,
      "outputs": [
        {
          "output_type": "execute_result",
          "data": {
            "text/plain": [
              "[5]"
            ]
          },
          "metadata": {},
          "execution_count": 7
        }
      ]
    },
    {
      "cell_type": "code",
      "metadata": {
        "colab": {
          "base_uri": "https://localhost:8080/"
        },
        "id": "aX14vDgPntgP",
        "outputId": "dee500c0-2aa9-4056-8a62-2088abb39485"
      },
      "source": [
        "foo(5)"
      ],
      "execution_count": 8,
      "outputs": [
        {
          "output_type": "execute_result",
          "data": {
            "text/plain": [
              "[5]"
            ]
          },
          "metadata": {},
          "execution_count": 8
        }
      ]
    },
    {
      "cell_type": "code",
      "metadata": {
        "colab": {
          "base_uri": "https://localhost:8080/"
        },
        "id": "w0rBmr4CntsU",
        "outputId": "c3fc81c1-851c-4bc7-dff8-5b63634d6f55"
      },
      "source": [
        "from typing import List, Optional\n",
        "\n",
        "def foo(element: float, data: Optional[List] = None) -> List:\n",
        "    if data is None:\n",
        "        data = []\n",
        "    data.append(element)\n",
        "    return data\n",
        "    \n",
        "my_list = [1, 2, 3]\n",
        "    \n",
        "foo(5, my_list)"
      ],
      "execution_count": 9,
      "outputs": [
        {
          "output_type": "execute_result",
          "data": {
            "text/plain": [
              "[1, 2, 3, 5]"
            ]
          },
          "metadata": {},
          "execution_count": 9
        }
      ]
    },
    {
      "cell_type": "code",
      "metadata": {
        "colab": {
          "base_uri": "https://localhost:8080/"
        },
        "id": "XGZMxuj4nwy_",
        "outputId": "55306ea8-8cca-49c1-835d-1cc7b01908cf"
      },
      "source": [
        "print(my_list)"
      ],
      "execution_count": 10,
      "outputs": [
        {
          "output_type": "stream",
          "text": [
            "[1, 2, 3, 5]\n"
          ],
          "name": "stdout"
        }
      ]
    },
    {
      "cell_type": "code",
      "metadata": {
        "colab": {
          "base_uri": "https://localhost:8080/"
        },
        "id": "e3WqdMi1nyYl",
        "outputId": "425e51f1-c0be-43b5-c1fe-20b3ebc7c6eb"
      },
      "source": [
        "from typing import List, Optional\n",
        "\n",
        "def foo(element: float, data: Optional[List] = None) -> List:\n",
        "    if data is None:\n",
        "        new_data = []\n",
        "    else:\n",
        "        new_data = data.copy() #or data[:] or list(data)\n",
        "    new_data.append(element)\n",
        "    return new_data\n",
        "    \n",
        "my_list = [1, 2, 3]\n",
        "\n",
        "foo(5, my_list)"
      ],
      "execution_count": 11,
      "outputs": [
        {
          "output_type": "execute_result",
          "data": {
            "text/plain": [
              "[1, 2, 3, 5]"
            ]
          },
          "metadata": {},
          "execution_count": 11
        }
      ]
    },
    {
      "cell_type": "code",
      "metadata": {
        "colab": {
          "base_uri": "https://localhost:8080/"
        },
        "id": "FGVf5oDAn1Ty",
        "outputId": "8e12f834-e472-4d67-dec6-8d32a4b05ddc"
      },
      "source": [
        "print(my_list)"
      ],
      "execution_count": 12,
      "outputs": [
        {
          "output_type": "stream",
          "text": [
            "[1, 2, 3]\n"
          ],
          "name": "stdout"
        }
      ]
    },
    {
      "cell_type": "code",
      "metadata": {
        "colab": {
          "base_uri": "https://localhost:8080/"
        },
        "id": "JpwxBxJHn2wL",
        "outputId": "7d7c4327-4de3-41d9-c3f1-8cadef61885b"
      },
      "source": [
        "from typing import List, Optional\n",
        "\n",
        "def foo(element: float, data: Optional[List] = None) -> List:\n",
        "    return (data if data is not None else []) + [element]\n",
        "    \n",
        "my_list = [1, 2, 3]\n",
        "\n",
        "foo(5, my_list)"
      ],
      "execution_count": 13,
      "outputs": [
        {
          "output_type": "execute_result",
          "data": {
            "text/plain": [
              "[1, 2, 3, 5]"
            ]
          },
          "metadata": {},
          "execution_count": 13
        }
      ]
    },
    {
      "cell_type": "markdown",
      "metadata": {
        "id": "EcGZpdLWn70o"
      },
      "source": [
        "# 2. Don’t repeat yourself"
      ]
    },
    {
      "cell_type": "code",
      "metadata": {
        "id": "xmqAiAIAoBxe"
      },
      "source": [
        "ingredients = {'egg': 7, 'chocolate': 200}"
      ],
      "execution_count": 15,
      "outputs": []
    },
    {
      "cell_type": "code",
      "metadata": {
        "colab": {
          "base_uri": "https://localhost:8080/"
        },
        "id": "EahmucaPn6d-",
        "outputId": "2840dce8-70b0-4815-f5d8-3f18e598a91e"
      },
      "source": [
        "n_egg = ingredients.get(\"egg\", 0)\n",
        "n_ch = ingredients.get(\"chocolate\", 0)\n",
        "if n_egg>=5 and n_ch>=150:\n",
        "    print(f\"You have {n_egg} eggs and {n_ch}g chocolate. Make a cake!\")\n",
        "else:\n",
        "    print(\"Out of stock\")"
      ],
      "execution_count": 16,
      "outputs": [
        {
          "output_type": "stream",
          "text": [
            "You have 7 eggs and 200g chocolate. Make a cake!\n"
          ],
          "name": "stdout"
        }
      ]
    },
    {
      "cell_type": "code",
      "metadata": {
        "id": "hdpI39l5n_xw"
      },
      "source": [
        "if (n_egg:=ingredients.get(\"egg\", 0))>=5 and (n_ch:=ingredients.get(\"chocolate\", 0))>=150:\n",
        "    print(f\"You have {n_egg} eggs and {n_ch}g chocolate. Make a cake!\")\n",
        "else:\n",
        "    print(\"Out of stock\")"
      ],
      "execution_count": 18,
      "outputs": []
    },
    {
      "cell_type": "code",
      "metadata": {
        "id": "7u9LfCq2oEQp"
      },
      "source": [
        "tenth_ingredients = {}\n",
        "for i, cnt in ingredients.items():\n",
        "    tenth = cnt//10\n",
        "    if tenth>0:\n",
        "         tenth_ingredients[i] = tenth"
      ],
      "execution_count": 19,
      "outputs": []
    },
    {
      "cell_type": "code",
      "metadata": {
        "id": "vQdxRQ6UoUxT"
      },
      "source": [
        "{i: tenth for i, cnt in ingredients.items() if (tenth := cnt//10)>0}"
      ],
      "execution_count": 21,
      "outputs": []
    },
    {
      "cell_type": "code",
      "metadata": {
        "id": "GSCVtWS_oVsf"
      },
      "source": [
        "ingredients = ['apple', 'chocolate', 'sugar']\n",
        "print([(last := i) for i in ingredients])\n",
        "print(f'Last ingredient is {last}')"
      ],
      "execution_count": 22,
      "outputs": []
    },
    {
      "cell_type": "code",
      "metadata": {
        "id": "GFATwKRSoZYX"
      },
      "source": [
        "print([i for i in ingredients])\n",
        "print(i)"
      ],
      "execution_count": 23,
      "outputs": []
    },
    {
      "cell_type": "markdown",
      "metadata": {
        "id": "3INpe81xocbI"
      },
      "source": [
        "# 3. Be aware of different formatting styles"
      ]
    },
    {
      "cell_type": "code",
      "metadata": {
        "colab": {
          "base_uri": "https://localhost:8080/"
        },
        "id": "XXR1riYAobQs",
        "outputId": "32adeb13-ef91-45b1-873b-02401f9f0079"
      },
      "source": [
        "key = 'my_variable'\n",
        "value = 0.1234\n",
        "formatted = '%s = %.2f' % (key, value)\n",
        "print(formatted)"
      ],
      "execution_count": 24,
      "outputs": [
        {
          "output_type": "stream",
          "text": [
            "my_variable = 0.12\n"
          ],
          "name": "stdout"
        }
      ]
    },
    {
      "cell_type": "code",
      "metadata": {
        "colab": {
          "base_uri": "https://localhost:8080/",
          "height": 215
        },
        "id": "TmgFfSpboduh",
        "outputId": "5a7018e9-83a8-438c-8088-88c35b5e9c99"
      },
      "source": [
        "formatted = '%s = %.2f' % (value, key)\n",
        "print(formatted)"
      ],
      "execution_count": 25,
      "outputs": [
        {
          "output_type": "error",
          "ename": "TypeError",
          "evalue": "ignored",
          "traceback": [
            "\u001b[0;31m---------------------------------------------------------------------------\u001b[0m",
            "\u001b[0;31mTypeError\u001b[0m                                 Traceback (most recent call last)",
            "\u001b[0;32m<ipython-input-25-ee73012d57b2>\u001b[0m in \u001b[0;36m<module>\u001b[0;34m()\u001b[0m\n\u001b[0;32m----> 1\u001b[0;31m \u001b[0mformatted\u001b[0m \u001b[0;34m=\u001b[0m \u001b[0;34m'%s = %.2f'\u001b[0m \u001b[0;34m%\u001b[0m \u001b[0;34m(\u001b[0m\u001b[0mvalue\u001b[0m\u001b[0;34m,\u001b[0m \u001b[0mkey\u001b[0m\u001b[0;34m)\u001b[0m\u001b[0;34m\u001b[0m\u001b[0;34m\u001b[0m\u001b[0m\n\u001b[0m\u001b[1;32m      2\u001b[0m \u001b[0mprint\u001b[0m\u001b[0;34m(\u001b[0m\u001b[0mformatted\u001b[0m\u001b[0;34m)\u001b[0m\u001b[0;34m\u001b[0m\u001b[0;34m\u001b[0m\u001b[0m\n",
            "\u001b[0;31mTypeError\u001b[0m: must be real number, not str"
          ]
        }
      ]
    },
    {
      "cell_type": "code",
      "metadata": {
        "colab": {
          "base_uri": "https://localhost:8080/"
        },
        "id": "ThyPW2-goewc",
        "outputId": "4f344e8c-0448-48e5-bc81-12f7b218eee7"
      },
      "source": [
        "name = 'Giovanni'\n",
        "formatted = '%s goes to school. %s studies math.' % (name, name)\n",
        "print(formatted)"
      ],
      "execution_count": 26,
      "outputs": [
        {
          "output_type": "stream",
          "text": [
            "Giovanni goes to school. Giovanni studies math.\n"
          ],
          "name": "stdout"
        }
      ]
    },
    {
      "cell_type": "code",
      "metadata": {
        "colab": {
          "base_uri": "https://localhost:8080/"
        },
        "id": "IvVxIxMnof6I",
        "outputId": "f4a054f3-d448-4afe-a71a-d9fe28e94292"
      },
      "source": [
        "key = 'my_variable'\n",
        "value = 0.1234\n",
        "formatted = '%(key)s = %(value).2f' % {'key': key, 'value': value}\n",
        "print(formatted)"
      ],
      "execution_count": 27,
      "outputs": [
        {
          "output_type": "stream",
          "text": [
            "my_variable = 0.12\n"
          ],
          "name": "stdout"
        }
      ]
    },
    {
      "cell_type": "code",
      "metadata": {
        "colab": {
          "base_uri": "https://localhost:8080/"
        },
        "id": "VhoZ0QaLohNv",
        "outputId": "47295aa4-7290-41fd-d811-ce772880e754"
      },
      "source": [
        "name = 'Giovanni'\n",
        "formatted = '%(name)s goes to school. %(name)s studies math.' % {'name': name}\n",
        "print(formatted)"
      ],
      "execution_count": 28,
      "outputs": [
        {
          "output_type": "stream",
          "text": [
            "Giovanni goes to school. Giovanni studies math.\n"
          ],
          "name": "stdout"
        }
      ]
    },
    {
      "cell_type": "code",
      "metadata": {
        "colab": {
          "base_uri": "https://localhost:8080/"
        },
        "id": "9FipfpbAoiO9",
        "outputId": "2ec607e9-e8c6-4855-9333-0ad49bc173a6"
      },
      "source": [
        "key = 'my_variable'\n",
        "value = 0.1234\n",
        "formatted = '{} = {:.2f}'.format(key, value)\n",
        "print(formatted)"
      ],
      "execution_count": 29,
      "outputs": [
        {
          "output_type": "stream",
          "text": [
            "my_variable = 0.12\n"
          ],
          "name": "stdout"
        }
      ]
    },
    {
      "cell_type": "code",
      "metadata": {
        "colab": {
          "base_uri": "https://localhost:8080/"
        },
        "id": "1WV7R_qHojGt",
        "outputId": "cf7943a3-7c73-4c03-ccf2-a2dde900d096"
      },
      "source": [
        "key = 'my_variable'\n",
        "value = 0.1234\n",
        "formatted = '{1} = {0}'.format(key, value)\n",
        "print(formatted)"
      ],
      "execution_count": 30,
      "outputs": [
        {
          "output_type": "stream",
          "text": [
            "0.1234 = my_variable\n"
          ],
          "name": "stdout"
        }
      ]
    },
    {
      "cell_type": "code",
      "metadata": {
        "colab": {
          "base_uri": "https://localhost:8080/"
        },
        "id": "UqZCdID9okGQ",
        "outputId": "0f209d29-8dec-4af1-817b-af0efb9651fb"
      },
      "source": [
        "name = 'Giovanni'\n",
        "formatted = '{0} goes to school. {0} studies math.'.format(name)\n",
        "print(formatted)"
      ],
      "execution_count": 31,
      "outputs": [
        {
          "output_type": "stream",
          "text": [
            "Giovanni goes to school. Giovanni studies math.\n"
          ],
          "name": "stdout"
        }
      ]
    },
    {
      "cell_type": "code",
      "metadata": {
        "colab": {
          "base_uri": "https://localhost:8080/"
        },
        "id": "W1qRVjWCok65",
        "outputId": "b58bd254-def0-4eac-c569-9105de21b278"
      },
      "source": [
        "key = 'my_variable'\n",
        "value = 0.1234\n",
        "formatted = f'{key} = {value:.2f}'\n",
        "print(formatted)"
      ],
      "execution_count": 32,
      "outputs": [
        {
          "output_type": "stream",
          "text": [
            "my_variable = 0.12\n"
          ],
          "name": "stdout"
        }
      ]
    },
    {
      "cell_type": "code",
      "metadata": {
        "colab": {
          "base_uri": "https://localhost:8080/"
        },
        "id": "XeiXBI_Iol4p",
        "outputId": "9fe03b62-19b9-4bcc-bf1f-2e005c3681f0"
      },
      "source": [
        "fridge = {'tomatoes': 10.00, 'eggs': 5.00, 'avocados': 1.5}\n",
        "\n",
        "# c-style\n",
        "for i, (item, count) in enumerate(fridge.items()):\n",
        "   print('#%d: %-10s = %d' % (i+1, item.title(), round(count)))\n",
        "   \n",
        "# c-style with dictionary\n",
        "for i, (item, count) in enumerate(fridge.items()):\n",
        "   print('#%(i)d: %(item)-10s = %(count)d' % {'i': i+1, \n",
        "         'item': item.title(), 'count': round(count)})\n",
        "   \n",
        "#str format\n",
        "for i, (item, count) in enumerate(fridge.items()):\n",
        "   print('#{:d}: {:10s} = {:d}'.format(i+1, item.title(), round(count)))\n",
        "   \n",
        "# f-string\n",
        "for i, (item, count) in enumerate(fridge.items()):\n",
        "   print(f'#{i+1}: {item.title():<10s} = {round(count)}')"
      ],
      "execution_count": 33,
      "outputs": [
        {
          "output_type": "stream",
          "text": [
            "#1: Tomatoes   = 10\n",
            "#2: Eggs       = 5\n",
            "#3: Avocados   = 2\n",
            "#1: Tomatoes   = 10\n",
            "#2: Eggs       = 5\n",
            "#3: Avocados   = 2\n",
            "#1: Tomatoes   = 10\n",
            "#2: Eggs       = 5\n",
            "#3: Avocados   = 2\n",
            "#1: Tomatoes   = 10\n",
            "#2: Eggs       = 5\n",
            "#3: Avocados   = 2\n"
          ],
          "name": "stdout"
        }
      ]
    }
  ]
}