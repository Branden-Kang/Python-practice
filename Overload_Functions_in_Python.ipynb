{
  "nbformat": 4,
  "nbformat_minor": 0,
  "metadata": {
    "colab": {
      "name": "Overload Functions in Python.ipynb",
      "provenance": [],
      "authorship_tag": "ABX9TyOPS/ISXeJNbwTq/Nh246NG"
    },
    "kernelspec": {
      "name": "python3",
      "display_name": "Python 3"
    }
  },
  "cells": [
    {
      "cell_type": "markdown",
      "metadata": {
        "id": "9SfEgqhKWIB3"
      },
      "source": [
        "[Reference](https://levelup.gitconnected.com/overload-functions-in-python-d045375cff04)"
      ]
    },
    {
      "cell_type": "code",
      "metadata": {
        "colab": {
          "base_uri": "https://localhost:8080/"
        },
        "id": "E_Baq37lWCdD",
        "outputId": "fdc6d73f-fede-4c70-f84e-b3f861347f01"
      },
      "source": [
        "def area(radius):\n",
        "  return 3.14 * radius ** 2\n",
        "\n",
        "locals()"
      ],
      "execution_count": 1,
      "outputs": [
        {
          "output_type": "execute_result",
          "data": {
            "text/plain": [
              "{'In': ['', 'def area(radius):\\n  return 3.14 * radius ** 2\\n\\nlocals()'],\n",
              " 'Out': {},\n",
              " '_': '',\n",
              " '__': '',\n",
              " '___': '',\n",
              " '__builtin__': <module 'builtins' (built-in)>,\n",
              " '__builtins__': <module 'builtins' (built-in)>,\n",
              " '__doc__': 'Automatically created module for IPython interactive environment',\n",
              " '__loader__': None,\n",
              " '__name__': '__main__',\n",
              " '__package__': None,\n",
              " '__spec__': None,\n",
              " '_dh': ['/content'],\n",
              " '_i': '',\n",
              " '_i1': 'def area(radius):\\n  return 3.14 * radius ** 2\\n\\nlocals()',\n",
              " '_ih': ['', 'def area(radius):\\n  return 3.14 * radius ** 2\\n\\nlocals()'],\n",
              " '_ii': '',\n",
              " '_iii': '',\n",
              " '_oh': {},\n",
              " '_sh': <module 'IPython.core.shadowns' from '/usr/local/lib/python3.6/dist-packages/IPython/core/shadowns.py'>,\n",
              " 'area': <function __main__.area>,\n",
              " 'exit': <IPython.core.autocall.ZMQExitAutocall at 0x7fbdb9322f28>,\n",
              " 'get_ipython': <bound method InteractiveShell.get_ipython of <google.colab._shell.Shell object at 0x7fbdba59c9b0>>,\n",
              " 'quit': <IPython.core.autocall.ZMQExitAutocall at 0x7fbdb9322f28>}"
            ]
          },
          "metadata": {
            "tags": []
          },
          "execution_count": 1
        }
      ]
    },
    {
      "cell_type": "code",
      "metadata": {
        "id": "YKoicO8-WSKm"
      },
      "source": [
        "from inspect import getfullargspec\n",
        "\n",
        "class Function(object):\n",
        "  \"\"\"Function is a wrap over standard python function.\n",
        "  \"\"\"\n",
        "\n",
        "  def __init__(self, fn):\n",
        "    self.fn = fn\n",
        "\n",
        "  def __call__(self, *args, **kwargs):\n",
        "    \"\"\"when invoked like a function it internally invokes\n",
        "    the wrapped function and returns the returned value.\n",
        "    \"\"\"\n",
        "    return self.fn(*args, **kwargs)\n",
        "\n",
        "  def key(self, args=None):\n",
        "    \"\"\"Returns the key that will uniquely identify\n",
        "    a function (even when it is overloaded).\n",
        "    \"\"\"\n",
        "    # if args not specified, extract the arguments from the\n",
        "    # function definition\n",
        "    if args is None:\n",
        "      args = getfullargspec(self.fn).args\n",
        "    return tuple([\n",
        "      self.fn.__module__,\n",
        "      self.fn.__class__,\n",
        "      self.fn.__name__,\n",
        "      len(args or []),\n",
        "    ])"
      ],
      "execution_count": 2,
      "outputs": []
    },
    {
      "cell_type": "code",
      "metadata": {
        "colab": {
          "base_uri": "https://localhost:8080/"
        },
        "id": "IO_ndB3JWePl",
        "outputId": "da8952e4-4b6b-42bf-c306-ae1baf09647b"
      },
      "source": [
        "def area(l, b):\n",
        "  return l * b\n",
        "\n",
        "func = Function(area)\n",
        "func.key()"
      ],
      "execution_count": 3,
      "outputs": [
        {
          "output_type": "execute_result",
          "data": {
            "text/plain": [
              "('__main__', function, 'area', 2)"
            ]
          },
          "metadata": {
            "tags": []
          },
          "execution_count": 3
        }
      ]
    },
    {
      "cell_type": "code",
      "metadata": {
        "colab": {
          "base_uri": "https://localhost:8080/"
        },
        "id": "RGZoj2nJWmqz",
        "outputId": "6ed2595e-1d90-4680-f54c-c5dd0378cb8c"
      },
      "source": [
        "func(3, 4)"
      ],
      "execution_count": 4,
      "outputs": [
        {
          "output_type": "execute_result",
          "data": {
            "text/plain": [
              "12"
            ]
          },
          "metadata": {
            "tags": []
          },
          "execution_count": 4
        }
      ]
    },
    {
      "cell_type": "code",
      "metadata": {
        "id": "e4dJSfp4Wnkj"
      },
      "source": [
        "class Namespace(object):\n",
        "  \"\"\"Namespace is the singleton class that is responsible\n",
        "  for holding all the functions.\n",
        "  \"\"\"\n",
        "\n",
        "  __instance = None\n",
        "  def __init__(self):\n",
        "    if self.__instance is None:\n",
        "      self.function_map = dict()\n",
        "      Namespace.__instance = self\n",
        "    else:\n",
        "      raise Exception(\"cannot instantiate a virtual Namespace again\")\n",
        "\n",
        "  @staticmethod\n",
        "  def get_instance():\n",
        "    if Namespace.__instance is None:\n",
        "      Namespace()\n",
        "    return Namespace.__instance\n",
        "\n",
        "  def register(self, fn):\n",
        "    \"\"\"registers the function in the virtual namespace and returns\n",
        "    an instance of callable Function that wraps the\n",
        "    function fn.\n",
        "    \"\"\"\n",
        "    func = Function(fn)\n",
        "    self.function_map[func.key()] = fn\n",
        "    return func"
      ],
      "execution_count": 5,
      "outputs": []
    },
    {
      "cell_type": "code",
      "metadata": {
        "id": "Fj925d-bWyG9"
      },
      "source": [
        "def area(l, b):\n",
        "  return l * b"
      ],
      "execution_count": 6,
      "outputs": []
    },
    {
      "cell_type": "code",
      "metadata": {
        "colab": {
          "base_uri": "https://localhost:8080/"
        },
        "id": "bGsQ2rCrW0N3",
        "outputId": "fe6bd07d-a080-4290-eb9a-126ba755d025"
      },
      "source": [
        "namespace = Namespace.get_instance()\n",
        "func = namespace.register(area)\n",
        "func(3, 4)"
      ],
      "execution_count": 7,
      "outputs": [
        {
          "output_type": "execute_result",
          "data": {
            "text/plain": [
              "12"
            ]
          },
          "metadata": {
            "tags": []
          },
          "execution_count": 7
        }
      ]
    },
    {
      "cell_type": "code",
      "metadata": {
        "colab": {
          "base_uri": "https://localhost:8080/"
        },
        "id": "hyfIGyFmW2Rk",
        "outputId": "efbb5b7f-7557-4038-d7df-dbbff2b705c7"
      },
      "source": [
        "import time\n",
        "\n",
        "\n",
        "def my_decorator(fn):\n",
        "  \"\"\"my_decorator is a custom decorator that wraps any function\n",
        "  and prints on stdout the time for execution.\n",
        "  \"\"\"\n",
        "\n",
        "  def wrapper_function(*args, **kwargs):\n",
        "    start_time = time.time()\n",
        "    # invoking the wrapped function and getting the return value.\n",
        "    value = fn(*args, **kwargs)\n",
        "    print(\"the function execution took:\", time.time() - start_time, \"seconds\")\n",
        "    # returning the value got after invoking the wrapped function\n",
        "    return value\n",
        "\n",
        "  return wrapper_function\n",
        "\n",
        "\n",
        "@my_decorator\n",
        "def area(l, b):\n",
        "  return l * b\n",
        "\n",
        "\n",
        "area(3, 4)"
      ],
      "execution_count": 8,
      "outputs": [
        {
          "output_type": "stream",
          "text": [
            "the function execution took: 9.5367431640625e-07 seconds\n"
          ],
          "name": "stdout"
        },
        {
          "output_type": "execute_result",
          "data": {
            "text/plain": [
              "12"
            ]
          },
          "metadata": {
            "tags": []
          },
          "execution_count": 8
        }
      ]
    },
    {
      "cell_type": "code",
      "metadata": {
        "id": "8TAadv0EW6cB"
      },
      "source": [
        "def overload(fn):\n",
        "  \"\"\"overload is the decorator that wraps the function\n",
        "  and returns a callable object of type Function.\n",
        "  \"\"\"\n",
        "  return Namespace.get_instance().register(fn)"
      ],
      "execution_count": 9,
      "outputs": []
    },
    {
      "cell_type": "code",
      "metadata": {
        "id": "7eXg-qJlXIMQ"
      },
      "source": [
        "def get(self, fn, *args):\n",
        "  \"\"\"get returns the matching function from the virtual namespace.\n",
        "  return None if it did not fund any matching function.\n",
        "  \"\"\"\n",
        "  func = Function(fn)\n",
        "  return self.function_map.get(func.key(args=args))"
      ],
      "execution_count": 10,
      "outputs": []
    },
    {
      "cell_type": "code",
      "metadata": {
        "id": "CkLdaB-nXWYc"
      },
      "source": [
        "def __call__(self, *args, **kwargs):\n",
        "  \"\"\"Overriding the __call__ function which makes the\n",
        "  instance callable.\n",
        "  \"\"\"\n",
        "  \n",
        "  # fetching the function to be invoked from the virtual namespace\n",
        "  # through the arguments.\n",
        "  fn = Namespace.get_instance().get(self.fn, *args)\n",
        "  \n",
        "  if not fn:\n",
        "    raise Exception(\"no matching function found.\")\n",
        "  \n",
        "  # invoking the wrapped function and returning the value.\n",
        "  return fn(*args, **kwargs)"
      ],
      "execution_count": 11,
      "outputs": []
    },
    {
      "cell_type": "code",
      "metadata": {
        "colab": {
          "base_uri": "https://localhost:8080/",
          "height": 351
        },
        "id": "l9ZDG7vOXYIR",
        "outputId": "da1eefe8-92cb-4c44-8a5e-4b4371617c82"
      },
      "source": [
        "@overload\n",
        "def area(l, b):\n",
        "  return l * b\n",
        "\n",
        "\n",
        "@overload\n",
        "def area(r):\n",
        "  import math\n",
        "  return math.pi * r ** 2\n",
        "\n",
        "\n",
        "area(3, 4)"
      ],
      "execution_count": 12,
      "outputs": [
        {
          "output_type": "error",
          "ename": "TypeError",
          "evalue": "ignored",
          "traceback": [
            "\u001b[0;31m---------------------------------------------------------------------------\u001b[0m",
            "\u001b[0;31mTypeError\u001b[0m                                 Traceback (most recent call last)",
            "\u001b[0;32m<ipython-input-12-6cde5657d971>\u001b[0m in \u001b[0;36m<module>\u001b[0;34m()\u001b[0m\n\u001b[1;32m     10\u001b[0m \u001b[0;34m\u001b[0m\u001b[0m\n\u001b[1;32m     11\u001b[0m \u001b[0;34m\u001b[0m\u001b[0m\n\u001b[0;32m---> 12\u001b[0;31m \u001b[0marea\u001b[0m\u001b[0;34m(\u001b[0m\u001b[0;36m3\u001b[0m\u001b[0;34m,\u001b[0m \u001b[0;36m4\u001b[0m\u001b[0;34m)\u001b[0m\u001b[0;34m\u001b[0m\u001b[0;34m\u001b[0m\u001b[0m\n\u001b[0m",
            "\u001b[0;32m<ipython-input-2-44e1fdc66bbd>\u001b[0m in \u001b[0;36m__call__\u001b[0;34m(self, *args, **kwargs)\u001b[0m\n\u001b[1;32m     12\u001b[0m     \u001b[0mthe\u001b[0m \u001b[0mwrapped\u001b[0m \u001b[0mfunction\u001b[0m \u001b[0;32mand\u001b[0m \u001b[0mreturns\u001b[0m \u001b[0mthe\u001b[0m \u001b[0mreturned\u001b[0m \u001b[0mvalue\u001b[0m\u001b[0;34m.\u001b[0m\u001b[0;34m\u001b[0m\u001b[0;34m\u001b[0m\u001b[0m\n\u001b[1;32m     13\u001b[0m     \"\"\"\n\u001b[0;32m---> 14\u001b[0;31m     \u001b[0;32mreturn\u001b[0m \u001b[0mself\u001b[0m\u001b[0;34m.\u001b[0m\u001b[0mfn\u001b[0m\u001b[0;34m(\u001b[0m\u001b[0;34m*\u001b[0m\u001b[0margs\u001b[0m\u001b[0;34m,\u001b[0m \u001b[0;34m**\u001b[0m\u001b[0mkwargs\u001b[0m\u001b[0;34m)\u001b[0m\u001b[0;34m\u001b[0m\u001b[0;34m\u001b[0m\u001b[0m\n\u001b[0m\u001b[1;32m     15\u001b[0m \u001b[0;34m\u001b[0m\u001b[0m\n\u001b[1;32m     16\u001b[0m   \u001b[0;32mdef\u001b[0m \u001b[0mkey\u001b[0m\u001b[0;34m(\u001b[0m\u001b[0mself\u001b[0m\u001b[0;34m,\u001b[0m \u001b[0margs\u001b[0m\u001b[0;34m=\u001b[0m\u001b[0;32mNone\u001b[0m\u001b[0;34m)\u001b[0m\u001b[0;34m:\u001b[0m\u001b[0;34m\u001b[0m\u001b[0;34m\u001b[0m\u001b[0m\n",
            "\u001b[0;31mTypeError\u001b[0m: area() takes 1 positional argument but 2 were given"
          ]
        }
      ]
    },
    {
      "cell_type": "code",
      "metadata": {
        "colab": {
          "base_uri": "https://localhost:8080/"
        },
        "id": "hAn0LM3rXcYf",
        "outputId": "d1a7cddd-9837-413b-a272-163155464881"
      },
      "source": [
        "area(7)"
      ],
      "execution_count": 13,
      "outputs": [
        {
          "output_type": "execute_result",
          "data": {
            "text/plain": [
              "153.93804002589985"
            ]
          },
          "metadata": {
            "tags": []
          },
          "execution_count": 13
        }
      ]
    }
  ]
}