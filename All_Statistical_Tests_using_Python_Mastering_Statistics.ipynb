{
  "nbformat": 4,
  "nbformat_minor": 0,
  "metadata": {
    "colab": {
      "provenance": [],
      "authorship_tag": "ABX9TyO0gmy+qFdIZw0d68AIbx6K"
    },
    "kernelspec": {
      "name": "python3",
      "display_name": "Python 3"
    },
    "language_info": {
      "name": "python"
    }
  },
  "cells": [
    {
      "cell_type": "markdown",
      "source": [
        "[Reference](https://rathoreaparna678.medium.com/all-statistical-tests-using-python-mastering-statistics-6c32ba79a1b8)"
      ],
      "metadata": {
        "id": "ZcXHNIuRbdlT"
      }
    },
    {
      "cell_type": "markdown",
      "source": [
        "**1. t-Test:**\n",
        "```python\n",
        "import scipy.stats as stats\n",
        "# Independent t-test\n",
        "t_stat, p_value = stats.ttest_ind(group1, group2)\n",
        "```"
      ],
      "metadata": {
        "id": "QI59_QBtbgUM"
      }
    },
    {
      "cell_type": "markdown",
      "source": [
        "**2. ANOVA (Analysis of Variance):**\n",
        "```python\n",
        "from scipy.stats import f_oneway\n",
        "f_stat, p_value = f_oneway(group1, group2, group3)\n",
        "```"
      ],
      "metadata": {
        "id": "mKHdjKLabo92"
      }
    },
    {
      "cell_type": "markdown",
      "source": [
        "**3. Chi-Square Test:**\n",
        "```python\n",
        "from scipy.stats import chi2_contingency\n",
        "chi2_stat, p_value, dof, expected = chi2_contingency(observed)\n",
        "```"
      ],
      "metadata": {
        "id": "LTaYmoo4brbP"
      }
    },
    {
      "cell_type": "markdown",
      "source": [
        "**4. Regression Analysis:**\n",
        "```python\n",
        "import statsmodels.api as sm\n",
        "# Linear regression\n",
        "model = sm.OLS(y, sm.add_constant(X)).fit()\n",
        "# Logistic regression\n",
        "model = sm.Logit(y, sm.add_constant(X)).fit()\n",
        "```"
      ],
      "metadata": {
        "id": "DGQLFzKVbtwK"
      }
    },
    {
      "cell_type": "markdown",
      "source": [
        "**5. Correlation Analysis:**\n",
        "```python\n",
        "correlation_matrix = df.corr()\n",
        "# Pearson correlation\n",
        "correlation_coefficient, p_value = stats.pearsonr(x, y)\n",
        "```"
      ],
      "metadata": {
        "id": "2rdCbNfBbwg4"
      }
    },
    {
      "cell_type": "markdown",
      "source": [
        "**6. Normality Tests:**\n",
        "```python\n",
        "# Shapiro-Wilk test\n",
        "statistic, p_value = stats.shapiro(data)\n",
        "```"
      ],
      "metadata": {
        "id": "qRFicwn7byko"
      }
    },
    {
      "cell_type": "markdown",
      "source": [
        "**7. Hypothesis Testing:**\n",
        "Perform hypothesis testing using p-values."
      ],
      "metadata": {
        "id": "jICX0IaDb0mt"
      }
    },
    {
      "cell_type": "markdown",
      "source": [
        "**8. Mann-Whitney U Test:**\n",
        "Non-parametric test to compare two groups.\n",
        "```python\n",
        "u_statistic, p_value = stats.mannwhitneyu(group1, group2)\n",
        "```"
      ],
      "metadata": {
        "id": "dPIkaHiBb2t7"
      }
    },
    {
      "cell_type": "markdown",
      "source": [
        "**9. Kruskal-Wallis Test:**\n",
        "Non-parametric ANOVA for comparing multiple groups.\n",
        "```python\n",
        "h_statistic, p_value = stats.kruskal(group1, group2, group3)\n",
        "```"
      ],
      "metadata": {
        "id": "gzyU5xX_b6Z3"
      }
    },
    {
      "cell_type": "markdown",
      "source": [
        "**10. Chi-Square Goodness of Fit Test:**\n",
        "Test whether the observed frequency distribution fits an expected distribution.\n",
        "```python\n",
        "chi2_stat, p_value = stats.chisquare(observed, expected)\n",
        "```"
      ],
      "metadata": {
        "id": "LoJ6eaTScCEs"
      }
    }
  ]
}