{
  "nbformat": 4,
  "nbformat_minor": 0,
  "metadata": {
    "colab": {
      "name": "Generators in Python: Fundamentals for Data Scientists.ipynb",
      "provenance": [],
      "authorship_tag": "ABX9TyO7vbIXXd4Ok9e/PQ9LyRcf"
    },
    "kernelspec": {
      "name": "python3",
      "display_name": "Python 3"
    }
  },
  "cells": [
    {
      "cell_type": "markdown",
      "metadata": {
        "id": "_hQqrDu0s-tJ"
      },
      "source": [
        "[Reference](https://medium.com/@erdemisbilen/generators-in-python-fundamentals-for-data-scientists-9894b4df649)"
      ]
    },
    {
      "cell_type": "code",
      "metadata": {
        "id": "J6_xlWses7oj"
      },
      "source": [
        "def my_simple_generator():\n",
        " k = 0\n",
        " yield k \n",
        " \n",
        " k = 1\n",
        " yield k \n",
        " \n",
        " k = 2\n",
        " yield k\n",
        " \n",
        " my_numbers = my_simple_generator()\n",
        " \n",
        " print(next(my_numbers))\n",
        " print(next(my_numbers))\n",
        " print(next(my_numbers))\n",
        "# Below call raises StopIteration as generator is fully iterated\n",
        "# print(next(my_numbers))\n",
        "\n",
        "# Defining Generators with Loop\n",
        "def my_generator_with_loop(my_str):\n",
        " length = len(my_str)\n",
        " for k in range(length):\n",
        "  yield my_str[k]\n",
        " my_text = my_generator_with_loop(\"Coding\")\n",
        " \n",
        " for char in my_text:\n",
        "  print(char)\n",
        "  \n",
        " # Defining Generators with Expressions\n",
        " my_generator_expression = (number**2 for number in range(4))\n",
        " print(sum(my_generator_expression))\n",
        " \n",
        " # Defining Generator Pipeline\n",
        " my_generator_01 = (number**2 for number in range(40))\n",
        " my_generator_02 = (number-5 for number in my_generator_01)\n",
        " \n",
        " print(sum(my_generator_02))"
      ],
      "execution_count": 1,
      "outputs": []
    },
    {
      "cell_type": "markdown",
      "metadata": {
        "id": "uSFKKlWRtqjR"
      },
      "source": [
        "# Defining Generator Functions"
      ]
    },
    {
      "cell_type": "code",
      "metadata": {
        "id": "SlliwCiKtjbJ"
      },
      "source": [
        "# Simple Generator\n",
        "def my_simple_generator():\n",
        " k = 0\n",
        " yield k\n",
        " k = 1\n",
        " yield k\n",
        " k = 2\n",
        " yield k"
      ],
      "execution_count": 2,
      "outputs": []
    },
    {
      "cell_type": "code",
      "metadata": {
        "id": "FG2uz6XJttj9"
      },
      "source": [
        "my_numbers = my_simple_generator()"
      ],
      "execution_count": 3,
      "outputs": []
    },
    {
      "cell_type": "code",
      "metadata": {
        "id": "huvUE28IttwG",
        "outputId": "8718eb52-283d-4407-b0e3-550acd7e1312",
        "colab": {
          "base_uri": "https://localhost:8080/"
        }
      },
      "source": [
        "print(next(my_numbers))\n",
        "print(next(my_numbers))\n",
        "print(next(my_numbers))"
      ],
      "execution_count": 4,
      "outputs": [
        {
          "output_type": "stream",
          "text": [
            "0\n",
            "1\n",
            "2\n"
          ],
          "name": "stdout"
        }
      ]
    },
    {
      "cell_type": "code",
      "metadata": {
        "id": "9vOVekQZtvFC",
        "outputId": "a536dfff-7f55-4088-b8e1-9cc817979289",
        "colab": {
          "base_uri": "https://localhost:8080/",
          "height": 215
        }
      },
      "source": [
        "# Below call raises StopIteration as generator is fully iterated\n",
        "print(next(my_numbers))"
      ],
      "execution_count": 5,
      "outputs": [
        {
          "output_type": "error",
          "ename": "StopIteration",
          "evalue": "ignored",
          "traceback": [
            "\u001b[0;31m---------------------------------------------------------------------------\u001b[0m",
            "\u001b[0;31mStopIteration\u001b[0m                             Traceback (most recent call last)",
            "\u001b[0;32m<ipython-input-5-7ca0d6060b35>\u001b[0m in \u001b[0;36m<module>\u001b[0;34m()\u001b[0m\n\u001b[1;32m      1\u001b[0m \u001b[0;31m# Below call raises StopIteration as generator is fully iterated\u001b[0m\u001b[0;34m\u001b[0m\u001b[0;34m\u001b[0m\u001b[0;34m\u001b[0m\u001b[0m\n\u001b[0;32m----> 2\u001b[0;31m \u001b[0mprint\u001b[0m\u001b[0;34m(\u001b[0m\u001b[0mnext\u001b[0m\u001b[0;34m(\u001b[0m\u001b[0mmy_numbers\u001b[0m\u001b[0;34m)\u001b[0m\u001b[0;34m)\u001b[0m\u001b[0;34m\u001b[0m\u001b[0;34m\u001b[0m\u001b[0m\n\u001b[0m",
            "\u001b[0;31mStopIteration\u001b[0m: "
          ]
        }
      ]
    },
    {
      "cell_type": "markdown",
      "metadata": {
        "id": "CuUt_tlpt0w-"
      },
      "source": [
        "# Defining Generators with a Loop"
      ]
    },
    {
      "cell_type": "code",
      "metadata": {
        "id": "2N6EbUUdtxRa"
      },
      "source": [
        "# Defining Generators with Loop\n",
        "def my_generator_with_loop(my_str):\n",
        " length = len(my_str)\n",
        " for k in range(length):\n",
        "  yield my_str[k]"
      ],
      "execution_count": 6,
      "outputs": []
    },
    {
      "cell_type": "code",
      "metadata": {
        "id": "wnLRoYevt3M1"
      },
      "source": [
        "my_text = my_generator_with_loop(\"Coding\")"
      ],
      "execution_count": 7,
      "outputs": []
    },
    {
      "cell_type": "code",
      "metadata": {
        "id": "fEtvBSR_t3gY",
        "outputId": "3d269910-a7fe-4f2f-a665-84d12f608a31",
        "colab": {
          "base_uri": "https://localhost:8080/"
        }
      },
      "source": [
        "for char in my_text:\n",
        " print(char)"
      ],
      "execution_count": 8,
      "outputs": [
        {
          "output_type": "stream",
          "text": [
            "C\n",
            "o\n",
            "d\n",
            "i\n",
            "n\n",
            "g\n"
          ],
          "name": "stdout"
        }
      ]
    },
    {
      "cell_type": "markdown",
      "metadata": {
        "id": "BBiNii8qt8z-"
      },
      "source": [
        "# Defining Generators With Generator Expressions"
      ]
    },
    {
      "cell_type": "code",
      "metadata": {
        "id": "2EB_WcCGt5RX",
        "outputId": "b90a5d57-3e09-460a-c11c-a24a1ade5328",
        "colab": {
          "base_uri": "https://localhost:8080/"
        }
      },
      "source": [
        "# Defining Generators with Expressions\n",
        "my_generator_expression = (number**2 for number in range(4))\n",
        "print(sum(my_generator_expression))"
      ],
      "execution_count": 9,
      "outputs": [
        {
          "output_type": "stream",
          "text": [
            "14\n"
          ],
          "name": "stdout"
        }
      ]
    },
    {
      "cell_type": "markdown",
      "metadata": {
        "id": "AsAgYP49uC2I"
      },
      "source": [
        "# Defining Generator Pipelines"
      ]
    },
    {
      "cell_type": "code",
      "metadata": {
        "id": "xAFrTnvZt_xm",
        "outputId": "2f82c9bb-6699-4b0d-92a5-32bf751d9ae5",
        "colab": {
          "base_uri": "https://localhost:8080/"
        }
      },
      "source": [
        "# Defining Generator Pipeline\n",
        "my_generator_01 = (number**2 for number in range(40))\n",
        "my_generator_02 = (number-5 for number in my_generator_01)\n",
        "\n",
        "print(sum(my_generator_02))"
      ],
      "execution_count": 10,
      "outputs": [
        {
          "output_type": "stream",
          "text": [
            "20340\n"
          ],
          "name": "stdout"
        }
      ]
    }
  ]
}